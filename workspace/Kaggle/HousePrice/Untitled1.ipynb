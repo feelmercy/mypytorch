{
 "cells": [
  {
   "cell_type": "code",
   "execution_count": 3,
   "metadata": {
    "ExecuteTime": {
     "end_time": "2021-12-10T07:52:11.480815Z",
     "start_time": "2021-12-10T07:52:11.470814Z"
    },
    "collapsed": true
   },
   "outputs": [],
   "source": [
    "from sklearn.base import BaseEstimator,TransformerMixin,RegressorMixin,clone\n",
    "from sklearn.model_selection import KFold,cross_val_score,train_test_split\n",
    "import numpy as np"
   ]
  },
  {
   "cell_type": "markdown",
   "metadata": {
    "ExecuteTime": {
     "end_time": "2021-12-10T07:35:23.340152Z",
     "start_time": "2021-12-10T07:35:23.331152Z"
    }
   },
   "source": [
    "- Blend models"
   ]
  },
  {
   "cell_type": "code",
   "execution_count": 6,
   "metadata": {
    "ExecuteTime": {
     "end_time": "2021-12-10T09:41:33.428137Z",
     "start_time": "2021-12-10T09:41:33.373133Z"
    }
   },
   "outputs": [],
   "source": [
    "class BlendingAverageModels(BaseEstimator,RegressorMixin,TransformerMixin):\n",
    "    def __init__(self,base_models,meta_model,holdout_pct=0.2,use_features_in_secondary=False):\n",
    "        self.base_models=base_models\n",
    "        self.meta_model=meta_model\n",
    "        self.holdout_pct=holdout_pct\n",
    "        self.use_features_in_secondary=use_features_in_secondary\n",
    "    \n",
    "    def fit(self,X,y):\n",
    "        self.base_models_=[clone(x) for x in self.base_models]\n",
    "        self.meta_model_=clone(self.meta_model)\n",
    "        X_train,X_holdout,y_train,y_holdout=train_test_split(X,y,test_size=self.holdout_pct)\n",
    "        holdout_predicitons=np.zeros((X_holdout.shape[0],len(self.base_models)))\n",
    "        for i ,model in enumerate(self.base_models_):\n",
    "            model.fit(X_train,y_train)\n",
    "            y_pred=model.predict(X_holdout)\n",
    "            holdout_predicitons[:,i]=y_pred\n",
    "        if self.use_features_in_secondary:\n",
    "            self.meta_model_.fit(np.hstack((X_holdout,holdout_predicitons)),y_holdout)\n",
    "        else:\n",
    "            self.meta_model_.fit(holdout_predicitons,y_holdout)\n",
    "        \n",
    "        return self\n",
    "        \n",
    "    def predict(self,X):\n",
    "        meta_features=np.column_stack([model.predict(X) for model in self.base_models_])\n",
    "        if self.use_features_in_secondary:\n",
    "            return self.meta_model_.predict(np.hstack((X,meta_features)))\n",
    "        else:\n",
    "            return self.meta_model_.predict(meta_model)"
   ]
  },
  {
   "cell_type": "code",
   "execution_count": 8,
   "metadata": {
    "ExecuteTime": {
     "end_time": "2021-12-10T09:56:59.052079Z",
     "start_time": "2021-12-10T09:56:58.974075Z"
    },
    "collapsed": true
   },
   "outputs": [],
   "source": [
    "def StackingAverageModels(BaseEstimator,TransformerMixin,RegressorMixin):\n",
    "    def __int__(self,base_models,meta_model,n_folds=5,use_features_in_secondary=False):\n",
    "        self.base_models=base_models\n",
    "        self.meta_model=meta_model\n",
    "        self.n_folds=n_folds\n",
    "        self.use_features_in_secondary=use_features_in_secondary\n",
    "    \n",
    "    def fit(self,X,y):\n",
    "        self.base_models_=[list() for x in self.base_models]\n",
    "        self.meta_model_=clone(self.meta_model)\n",
    "        kfold=KFold(n_splits=self.n_folds,shuffle=True,random_state=42)\n",
    "        \n",
    "        out_of_fold_predictions=np.zeros((X.shape[0],len(self.base_models)))\n",
    "        for i ,model in enumerate(self.base_models):\n",
    "            for train_index,holdout_index in kfold.split(X,y):\n",
    "                instance=clone(model)\n",
    "                self.base_models_[i].append(instance)\n",
    "                instance.fit(X[train_index],y[train_index])\n",
    "                y_pred=instance.predict(X[holdout_index])\n",
    "                out_of_fold_predictions[holdout_index,i]=y_pred\n",
    "        if self.use_features_in_secondary:\n",
    "            self.meta_model_.fit(np.hstack((X,out_of_fold_predictions)),y)\n",
    "        else:\n",
    "            self.meta_model_.fit(out_of_fold_predictions,y)\n",
    "        return self\n",
    "    \n",
    "    def predict(self,X):\n",
    "        meta_features=np.column_stack([\n",
    "            np.column_stack([model.predict(X) for model in base_models]).mean(axis=1) \n",
    "            for base_models in self.base_models_])\n",
    "        if self.use_features_in_secondary :\n",
    "            return self.meta_model_.predict(np.hstack((X,meta_features)))\n",
    "        else :\n",
    "            return self.meta_model_.predict(X,meta_features)\n",
    "        "
   ]
  },
  {
   "cell_type": "code",
   "execution_count": null,
   "metadata": {
    "collapsed": true
   },
   "outputs": [],
   "source": []
  },
  {
   "cell_type": "code",
   "execution_count": null,
   "metadata": {
    "collapsed": true
   },
   "outputs": [],
   "source": []
  },
  {
   "cell_type": "code",
   "execution_count": null,
   "metadata": {
    "collapsed": true
   },
   "outputs": [],
   "source": []
  },
  {
   "cell_type": "code",
   "execution_count": null,
   "metadata": {
    "collapsed": true
   },
   "outputs": [],
   "source": []
  }
 ],
 "metadata": {
  "kernelspec": {
   "display_name": "Python 3",
   "language": "python",
   "name": "python3"
  },
  "language_info": {
   "codemirror_mode": {
    "name": "ipython",
    "version": 3
   },
   "file_extension": ".py",
   "mimetype": "text/x-python",
   "name": "python",
   "nbconvert_exporter": "python",
   "pygments_lexer": "ipython3",
   "version": "3.6.3"
  }
 },
 "nbformat": 4,
 "nbformat_minor": 2
}
