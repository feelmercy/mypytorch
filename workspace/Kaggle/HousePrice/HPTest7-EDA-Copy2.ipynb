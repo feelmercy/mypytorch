{
 "cells": [
  {
   "cell_type": "code",
   "execution_count": 1,
   "metadata": {
    "ExecuteTime": {
     "end_time": "2021-12-14T03:25:51.730854Z",
     "start_time": "2021-12-14T03:25:50.867804Z"
    }
   },
   "outputs": [
    {
     "name": "stdout",
     "output_type": "stream",
     "text": [
      "Using matplotlib backend: Qt5Agg\n"
     ]
    }
   ],
   "source": [
    "import numpy as np\n",
    "import pandas as pd\n",
    "import seaborn as sns\n",
    "from scipy import stats\n",
    "from scipy.stats import norm,skew\n",
    "import matplotlib.pyplot as plt\n",
    "%matplotlib auto"
   ]
  },
  {
   "cell_type": "code",
   "execution_count": 2,
   "metadata": {
    "ExecuteTime": {
     "end_time": "2021-12-14T03:25:53.425951Z",
     "start_time": "2021-12-14T03:25:53.370948Z"
    },
    "collapsed": true
   },
   "outputs": [],
   "source": [
    "train=pd.read_csv('F:\\\\study\\\\ml\\\\DataSet\\\\House_Prices\\\\train.csv')\n",
    "test=pd.read_csv('F:\\\\study\\\\ml\\\\DataSet\\\\House_Prices\\\\test.csv')"
   ]
  },
  {
   "cell_type": "code",
   "execution_count": 3,
   "metadata": {
    "ExecuteTime": {
     "end_time": "2021-12-14T03:25:55.870090Z",
     "start_time": "2021-12-14T03:25:55.818087Z"
    },
    "scrolled": false
   },
   "outputs": [
    {
     "data": {
      "text/html": [
       "<div>\n",
       "<style>\n",
       "    .dataframe thead tr:only-child th {\n",
       "        text-align: right;\n",
       "    }\n",
       "\n",
       "    .dataframe thead th {\n",
       "        text-align: left;\n",
       "    }\n",
       "\n",
       "    .dataframe tbody tr th {\n",
       "        vertical-align: top;\n",
       "    }\n",
       "</style>\n",
       "<table border=\"1\" class=\"dataframe\">\n",
       "  <thead>\n",
       "    <tr style=\"text-align: right;\">\n",
       "      <th></th>\n",
       "      <th>Id</th>\n",
       "      <th>MSSubClass</th>\n",
       "      <th>MSZoning</th>\n",
       "      <th>LotFrontage</th>\n",
       "      <th>LotArea</th>\n",
       "      <th>Street</th>\n",
       "      <th>Alley</th>\n",
       "      <th>LotShape</th>\n",
       "      <th>LandContour</th>\n",
       "      <th>Utilities</th>\n",
       "      <th>...</th>\n",
       "      <th>PoolArea</th>\n",
       "      <th>PoolQC</th>\n",
       "      <th>Fence</th>\n",
       "      <th>MiscFeature</th>\n",
       "      <th>MiscVal</th>\n",
       "      <th>MoSold</th>\n",
       "      <th>YrSold</th>\n",
       "      <th>SaleType</th>\n",
       "      <th>SaleCondition</th>\n",
       "      <th>SalePrice</th>\n",
       "    </tr>\n",
       "  </thead>\n",
       "  <tbody>\n",
       "    <tr>\n",
       "      <th>0</th>\n",
       "      <td>1</td>\n",
       "      <td>60</td>\n",
       "      <td>RL</td>\n",
       "      <td>65.0</td>\n",
       "      <td>8450</td>\n",
       "      <td>Pave</td>\n",
       "      <td>NaN</td>\n",
       "      <td>Reg</td>\n",
       "      <td>Lvl</td>\n",
       "      <td>AllPub</td>\n",
       "      <td>...</td>\n",
       "      <td>0</td>\n",
       "      <td>NaN</td>\n",
       "      <td>NaN</td>\n",
       "      <td>NaN</td>\n",
       "      <td>0</td>\n",
       "      <td>2</td>\n",
       "      <td>2008</td>\n",
       "      <td>WD</td>\n",
       "      <td>Normal</td>\n",
       "      <td>208500</td>\n",
       "    </tr>\n",
       "    <tr>\n",
       "      <th>1</th>\n",
       "      <td>2</td>\n",
       "      <td>20</td>\n",
       "      <td>RL</td>\n",
       "      <td>80.0</td>\n",
       "      <td>9600</td>\n",
       "      <td>Pave</td>\n",
       "      <td>NaN</td>\n",
       "      <td>Reg</td>\n",
       "      <td>Lvl</td>\n",
       "      <td>AllPub</td>\n",
       "      <td>...</td>\n",
       "      <td>0</td>\n",
       "      <td>NaN</td>\n",
       "      <td>NaN</td>\n",
       "      <td>NaN</td>\n",
       "      <td>0</td>\n",
       "      <td>5</td>\n",
       "      <td>2007</td>\n",
       "      <td>WD</td>\n",
       "      <td>Normal</td>\n",
       "      <td>181500</td>\n",
       "    </tr>\n",
       "    <tr>\n",
       "      <th>2</th>\n",
       "      <td>3</td>\n",
       "      <td>60</td>\n",
       "      <td>RL</td>\n",
       "      <td>68.0</td>\n",
       "      <td>11250</td>\n",
       "      <td>Pave</td>\n",
       "      <td>NaN</td>\n",
       "      <td>IR1</td>\n",
       "      <td>Lvl</td>\n",
       "      <td>AllPub</td>\n",
       "      <td>...</td>\n",
       "      <td>0</td>\n",
       "      <td>NaN</td>\n",
       "      <td>NaN</td>\n",
       "      <td>NaN</td>\n",
       "      <td>0</td>\n",
       "      <td>9</td>\n",
       "      <td>2008</td>\n",
       "      <td>WD</td>\n",
       "      <td>Normal</td>\n",
       "      <td>223500</td>\n",
       "    </tr>\n",
       "    <tr>\n",
       "      <th>3</th>\n",
       "      <td>4</td>\n",
       "      <td>70</td>\n",
       "      <td>RL</td>\n",
       "      <td>60.0</td>\n",
       "      <td>9550</td>\n",
       "      <td>Pave</td>\n",
       "      <td>NaN</td>\n",
       "      <td>IR1</td>\n",
       "      <td>Lvl</td>\n",
       "      <td>AllPub</td>\n",
       "      <td>...</td>\n",
       "      <td>0</td>\n",
       "      <td>NaN</td>\n",
       "      <td>NaN</td>\n",
       "      <td>NaN</td>\n",
       "      <td>0</td>\n",
       "      <td>2</td>\n",
       "      <td>2006</td>\n",
       "      <td>WD</td>\n",
       "      <td>Abnorml</td>\n",
       "      <td>140000</td>\n",
       "    </tr>\n",
       "    <tr>\n",
       "      <th>4</th>\n",
       "      <td>5</td>\n",
       "      <td>60</td>\n",
       "      <td>RL</td>\n",
       "      <td>84.0</td>\n",
       "      <td>14260</td>\n",
       "      <td>Pave</td>\n",
       "      <td>NaN</td>\n",
       "      <td>IR1</td>\n",
       "      <td>Lvl</td>\n",
       "      <td>AllPub</td>\n",
       "      <td>...</td>\n",
       "      <td>0</td>\n",
       "      <td>NaN</td>\n",
       "      <td>NaN</td>\n",
       "      <td>NaN</td>\n",
       "      <td>0</td>\n",
       "      <td>12</td>\n",
       "      <td>2008</td>\n",
       "      <td>WD</td>\n",
       "      <td>Normal</td>\n",
       "      <td>250000</td>\n",
       "    </tr>\n",
       "  </tbody>\n",
       "</table>\n",
       "<p>5 rows × 81 columns</p>\n",
       "</div>"
      ],
      "text/plain": [
       "   Id  MSSubClass MSZoning  LotFrontage  LotArea Street Alley LotShape  \\\n",
       "0   1          60       RL         65.0     8450   Pave   NaN      Reg   \n",
       "1   2          20       RL         80.0     9600   Pave   NaN      Reg   \n",
       "2   3          60       RL         68.0    11250   Pave   NaN      IR1   \n",
       "3   4          70       RL         60.0     9550   Pave   NaN      IR1   \n",
       "4   5          60       RL         84.0    14260   Pave   NaN      IR1   \n",
       "\n",
       "  LandContour Utilities    ...     PoolArea PoolQC Fence MiscFeature MiscVal  \\\n",
       "0         Lvl    AllPub    ...            0    NaN   NaN         NaN       0   \n",
       "1         Lvl    AllPub    ...            0    NaN   NaN         NaN       0   \n",
       "2         Lvl    AllPub    ...            0    NaN   NaN         NaN       0   \n",
       "3         Lvl    AllPub    ...            0    NaN   NaN         NaN       0   \n",
       "4         Lvl    AllPub    ...            0    NaN   NaN         NaN       0   \n",
       "\n",
       "  MoSold YrSold  SaleType  SaleCondition  SalePrice  \n",
       "0      2   2008        WD         Normal     208500  \n",
       "1      5   2007        WD         Normal     181500  \n",
       "2      9   2008        WD         Normal     223500  \n",
       "3      2   2006        WD        Abnorml     140000  \n",
       "4     12   2008        WD         Normal     250000  \n",
       "\n",
       "[5 rows x 81 columns]"
      ]
     },
     "execution_count": 3,
     "metadata": {},
     "output_type": "execute_result"
    }
   ],
   "source": [
    "train.head()"
   ]
  },
  {
   "cell_type": "code",
   "execution_count": null,
   "metadata": {
    "ExecuteTime": {
     "start_time": "2021-12-14T03:09:14.364Z"
    }
   },
   "outputs": [],
   "source": [
    "train['GarageType'].unique()"
   ]
  },
  {
   "cell_type": "markdown",
   "metadata": {},
   "source": [
    "delete outlier data and drop id"
   ]
  },
  {
   "cell_type": "code",
   "execution_count": null,
   "metadata": {
    "ExecuteTime": {
     "start_time": "2021-12-14T03:09:39.058Z"
    }
   },
   "outputs": [],
   "source": [
    "plt.scatter(train['GrLivArea'],train['SalePrice'])\n",
    "#plt.show()"
   ]
  },
  {
   "cell_type": "code",
   "execution_count": null,
   "metadata": {
    "ExecuteTime": {
     "start_time": "2021-12-14T03:09:41.082Z"
    },
    "collapsed": true
   },
   "outputs": [],
   "source": [
    "train=train.drop(train[(train['GrLivArea']>4000) & (train['SalePrice']<300000)].index)"
   ]
  },
  {
   "cell_type": "code",
   "execution_count": null,
   "metadata": {
    "ExecuteTime": {
     "start_time": "2021-12-14T03:09:42.049Z"
    }
   },
   "outputs": [],
   "source": [
    "plt.scatter(train['GrLivArea'],train['SalePrice'])\n",
    "#plt.show()"
   ]
  },
  {
   "cell_type": "code",
   "execution_count": null,
   "metadata": {
    "ExecuteTime": {
     "start_time": "2021-12-14T03:09:42.750Z"
    }
   },
   "outputs": [],
   "source": [
    "train.head()"
   ]
  },
  {
   "cell_type": "code",
   "execution_count": null,
   "metadata": {
    "ExecuteTime": {
     "start_time": "2021-12-14T03:09:43.795Z"
    },
    "collapsed": true
   },
   "outputs": [],
   "source": [
    "train_id=train['Id']\n",
    "test_id=test['Id']"
   ]
  },
  {
   "cell_type": "code",
   "execution_count": null,
   "metadata": {
    "ExecuteTime": {
     "start_time": "2021-12-14T03:09:45.892Z"
    },
    "collapsed": true
   },
   "outputs": [],
   "source": [
    "train.drop('Id',axis=1,inplace=True)\n",
    "test.drop('Id',axis=1,inplace=True)"
   ]
  },
  {
   "cell_type": "markdown",
   "metadata": {},
   "source": [
    "- fit norm dist plot"
   ]
  },
  {
   "cell_type": "code",
   "execution_count": null,
   "metadata": {
    "ExecuteTime": {
     "start_time": "2021-12-14T03:09:50.802Z"
    }
   },
   "outputs": [],
   "source": [
    "sns.distplot(train['SalePrice'],fit=norm)\n",
    "#plt.show()"
   ]
  },
  {
   "cell_type": "markdown",
   "metadata": {
    "ExecuteTime": {
     "end_time": "2021-11-23T06:22:41.421448Z",
     "start_time": "2021-11-23T06:22:41.395446Z"
    },
    "collapsed": true
   },
   "source": [
    "- - plot Q-Q \n",
    "- double check skew >0"
   ]
  },
  {
   "cell_type": "code",
   "execution_count": null,
   "metadata": {
    "ExecuteTime": {
     "start_time": "2021-12-14T03:09:53.050Z"
    }
   },
   "outputs": [],
   "source": [
    "stats.probplot(train['SalePrice'],plot=plt)\n",
    "#plt.show()"
   ]
  },
  {
   "cell_type": "markdown",
   "metadata": {
    "ExecuteTime": {
     "end_time": "2021-11-23T06:40:55.137004Z",
     "start_time": "2021-11-23T06:40:55.127004Z"
    }
   },
   "source": [
    " - log transform target variable"
   ]
  },
  {
   "cell_type": "code",
   "execution_count": null,
   "metadata": {
    "ExecuteTime": {
     "start_time": "2021-12-14T03:09:54.763Z"
    }
   },
   "outputs": [],
   "source": [
    "sns.distplot(np.log1p(train['SalePrice']),fit=norm)\n",
    "#plt.show()"
   ]
  },
  {
   "cell_type": "code",
   "execution_count": null,
   "metadata": {
    "ExecuteTime": {
     "start_time": "2021-12-14T03:09:56.643Z"
    }
   },
   "outputs": [],
   "source": [
    "sns.distplot(np.log(1/train['SalePrice']),fit=norm)\n",
    "#plt.show()"
   ]
  },
  {
   "cell_type": "code",
   "execution_count": null,
   "metadata": {
    "ExecuteTime": {
     "start_time": "2021-12-14T03:10:58.282Z"
    }
   },
   "outputs": [],
   "source": [
    "sns.distplot(np.sqrt(train['SalePrice']),fit=norm)\n",
    "#plt.show()"
   ]
  },
  {
   "cell_type": "code",
   "execution_count": null,
   "metadata": {
    "ExecuteTime": {
     "start_time": "2021-12-14T03:11:00.386Z"
    }
   },
   "outputs": [],
   "source": [
    "train['SalePrice']=np.log1p(train['SalePrice'])\n",
    "(mu,sigma)=norm.fit(train['SalePrice'])\n",
    "stats.probplot(train['SalePrice'],plot=plt)\n",
    "#plt.show()"
   ]
  },
  {
   "cell_type": "markdown",
   "metadata": {
    "ExecuteTime": {
     "end_time": "2021-11-23T06:55:27.896923Z",
     "start_time": "2021-11-23T06:55:27.886923Z"
    }
   },
   "source": [
    "- features engineing"
   ]
  },
  {
   "cell_type": "code",
   "execution_count": null,
   "metadata": {
    "ExecuteTime": {
     "start_time": "2021-12-14T03:11:05.321Z"
    }
   },
   "outputs": [],
   "source": [
    "ntrain=train.shape[0]\n",
    "ntest=test.shape[0]\n",
    "y_train=train.SalePrice.values\n",
    "all_data=pd.concat((train,test)).reset_index(drop=True)\n",
    "all_data.drop(['SalePrice'],axis=1,inplace=True)\n",
    "print('all data shape:',all_data.shape)"
   ]
  },
  {
   "cell_type": "markdown",
   "metadata": {
    "ExecuteTime": {
     "end_time": "2021-11-23T07:16:12.738124Z",
     "start_time": "2021-11-23T07:16:12.728124Z"
    }
   },
   "source": [
    "- Missing Data"
   ]
  },
  {
   "cell_type": "code",
   "execution_count": null,
   "metadata": {
    "ExecuteTime": {
     "start_time": "2021-12-14T03:11:12.860Z"
    }
   },
   "outputs": [],
   "source": [
    "all_data_na=(all_data.isnull().sum()/len(all_data)) * 100\n",
    "all_data_na=all_data_na.drop(all_data_na[all_data_na==0].index).sort_values(ascending=False)[:30]\n",
    "missing_data=pd.DataFrame({'Missing Ratio': all_data_na})\n",
    "missing_data.head(20)"
   ]
  },
  {
   "cell_type": "code",
   "execution_count": null,
   "metadata": {
    "ExecuteTime": {
     "start_time": "2021-12-14T03:11:15.167Z"
    }
   },
   "outputs": [],
   "source": [
    "plt.subplots(figsize=(12,10))\n",
    "plt.xticks(rotation='90')\n",
    "sns.barplot(x=all_data_na.index,y=all_data_na)\n",
    "plt.xlabel('Features',fontsize=15)\n",
    "plt.ylabel('Precent of missing value',fontsize=15)\n",
    "plt.title('Precent of miss data by feature',fontsize=15)\n",
    "plt.show()"
   ]
  },
  {
   "cell_type": "markdown",
   "metadata": {
    "ExecuteTime": {
     "end_time": "2021-11-23T07:46:33.034239Z",
     "start_time": "2021-11-23T07:46:33.027239Z"
    }
   },
   "source": [
    "- Data Correlation"
   ]
  },
  {
   "cell_type": "code",
   "execution_count": null,
   "metadata": {
    "ExecuteTime": {
     "start_time": "2021-12-14T03:11:20.372Z"
    }
   },
   "outputs": [],
   "source": [
    "corrmat=train.corr()\n",
    "sns.heatmap(corrmat,vmax=0.9,square=True)"
   ]
  },
  {
   "cell_type": "markdown",
   "metadata": {
    "ExecuteTime": {
     "end_time": "2021-11-23T08:04:43.668620Z",
     "start_time": "2021-11-23T08:04:43.658619Z"
    }
   },
   "source": [
    "- imputing missing values"
   ]
  },
  {
   "cell_type": "code",
   "execution_count": null,
   "metadata": {
    "ExecuteTime": {
     "start_time": "2021-12-14T03:11:21.931Z"
    }
   },
   "outputs": [],
   "source": [
    "all_data['LotFrontage'].head()"
   ]
  },
  {
   "cell_type": "code",
   "execution_count": null,
   "metadata": {
    "ExecuteTime": {
     "start_time": "2021-12-14T03:11:23.266Z"
    }
   },
   "outputs": [],
   "source": [
    "all_data['Neighborhood'].head()"
   ]
  },
  {
   "cell_type": "code",
   "execution_count": null,
   "metadata": {
    "ExecuteTime": {
     "start_time": "2021-12-14T03:25:37.420Z"
    }
   },
   "outputs": [],
   "source": [
    "for i in all_data.groupby('Neighborhood')['LotFrontage']:\n",
    "    print(i)"
   ]
  },
  {
   "cell_type": "code",
   "execution_count": null,
   "metadata": {
    "ExecuteTime": {
     "end_time": "2021-12-13T06:06:41.978465Z",
     "start_time": "2021-12-13T06:06:41.950464Z"
    },
    "collapsed": true
   },
   "outputs": [],
   "source": [
    "all_data['PoolQC']=all_data['PoolQC'].fillna('None')\n",
    "all_data['MiscFeature']=all_data['MiscFeature'].fillna('None')\n",
    "all_data['Alley']=all_data['Alley'].fillna('None')\n",
    "all_data['Fence']=all_data['Fence'].fillna('None')\n",
    "all_data['FireplaceQu']=all_data['FireplaceQu'].fillna('None')\n",
    "all_data['LotFrontage']=all_data.groupby('Neighborhood')['LotFrontage'].transform(lambda x:x.fillna(x.median()))"
   ]
  },
  {
   "cell_type": "code",
   "execution_count": null,
   "metadata": {
    "ExecuteTime": {
     "end_time": "2021-12-13T06:06:42.430491Z",
     "start_time": "2021-12-13T06:06:42.420490Z"
    },
    "collapsed": true
   },
   "outputs": [],
   "source": [
    "for col in ['GarageType','GarageFinish','GarageQual','GarageCond']:\n",
    "    all_data[col]=all_data[col].fillna('None')"
   ]
  },
  {
   "cell_type": "code",
   "execution_count": null,
   "metadata": {
    "ExecuteTime": {
     "end_time": "2021-12-13T06:06:42.878517Z",
     "start_time": "2021-12-13T06:06:42.870516Z"
    },
    "collapsed": true
   },
   "outputs": [],
   "source": [
    "for col in ('GarageYrBlt', 'GarageArea', 'GarageCars'):\n",
    "    all_data[col] = all_data[col].fillna(0)"
   ]
  },
  {
   "cell_type": "code",
   "execution_count": null,
   "metadata": {
    "ExecuteTime": {
     "end_time": "2021-12-13T06:06:43.335543Z",
     "start_time": "2021-12-13T06:06:43.323542Z"
    },
    "collapsed": true
   },
   "outputs": [],
   "source": [
    "for col in ('BsmtFinSF1', 'BsmtFinSF2', 'BsmtUnfSF','TotalBsmtSF', 'BsmtFullBath', 'BsmtHalfBath'):\n",
    "    all_data[col] = all_data[col].fillna(0)"
   ]
  },
  {
   "cell_type": "code",
   "execution_count": null,
   "metadata": {
    "ExecuteTime": {
     "end_time": "2021-12-13T06:06:43.743566Z",
     "start_time": "2021-12-13T06:06:43.728565Z"
    },
    "collapsed": true
   },
   "outputs": [],
   "source": [
    "for col in ('BsmtQual', 'BsmtCond', 'BsmtExposure', 'BsmtFinType1', 'BsmtFinType2'):\n",
    "    all_data[col] = all_data[col].fillna('None')"
   ]
  },
  {
   "cell_type": "code",
   "execution_count": null,
   "metadata": {
    "ExecuteTime": {
     "end_time": "2021-12-13T06:06:44.211593Z",
     "start_time": "2021-12-13T06:06:44.200592Z"
    },
    "collapsed": true
   },
   "outputs": [],
   "source": [
    "all_data[\"MasVnrType\"] = all_data[\"MasVnrType\"].fillna(\"None\")\n",
    "all_data[\"MasVnrArea\"] = all_data[\"MasVnrArea\"].fillna(0)"
   ]
  },
  {
   "cell_type": "code",
   "execution_count": null,
   "metadata": {
    "ExecuteTime": {
     "end_time": "2021-12-13T06:06:44.671619Z",
     "start_time": "2021-12-13T06:06:44.662619Z"
    },
    "collapsed": true
   },
   "outputs": [],
   "source": [
    "all_data['MSZoning'] = all_data['MSZoning'].fillna(all_data['MSZoning'].mode()[0])"
   ]
  },
  {
   "cell_type": "code",
   "execution_count": null,
   "metadata": {
    "ExecuteTime": {
     "end_time": "2021-12-13T06:06:45.102644Z",
     "start_time": "2021-12-13T06:06:45.092643Z"
    },
    "collapsed": true
   },
   "outputs": [],
   "source": [
    "all_data = all_data.drop(['Utilities'], axis=1)"
   ]
  },
  {
   "cell_type": "code",
   "execution_count": null,
   "metadata": {
    "ExecuteTime": {
     "end_time": "2021-12-13T06:06:45.479665Z",
     "start_time": "2021-12-13T06:06:45.474665Z"
    },
    "collapsed": true
   },
   "outputs": [],
   "source": [
    "all_data[\"Functional\"] = all_data[\"Functional\"].fillna(\"Typ\")"
   ]
  },
  {
   "cell_type": "code",
   "execution_count": null,
   "metadata": {
    "ExecuteTime": {
     "end_time": "2021-12-13T06:06:45.922691Z",
     "start_time": "2021-12-13T06:06:45.914690Z"
    },
    "collapsed": true
   },
   "outputs": [],
   "source": [
    "all_data['Electrical']=all_data['Electrical'].fillna(all_data['Electrical'].mode()[0])"
   ]
  },
  {
   "cell_type": "code",
   "execution_count": null,
   "metadata": {
    "ExecuteTime": {
     "end_time": "2021-12-13T06:06:46.331714Z",
     "start_time": "2021-12-13T06:06:46.323714Z"
    },
    "collapsed": true
   },
   "outputs": [],
   "source": [
    "all_data['KitchenQual'] = all_data['KitchenQual'].fillna(all_data['KitchenQual'].mode()[0])"
   ]
  },
  {
   "cell_type": "code",
   "execution_count": null,
   "metadata": {
    "ExecuteTime": {
     "end_time": "2021-12-13T06:06:46.786740Z",
     "start_time": "2021-12-13T06:06:46.771739Z"
    },
    "collapsed": true
   },
   "outputs": [],
   "source": [
    "all_data['Exterior1st'] = all_data['Exterior1st'].fillna(all_data['Exterior1st'].mode()[0])\n",
    "all_data['Exterior2nd'] = all_data['Exterior2nd'].fillna(all_data['Exterior2nd'].mode()[0])"
   ]
  },
  {
   "cell_type": "code",
   "execution_count": null,
   "metadata": {
    "ExecuteTime": {
     "end_time": "2021-12-13T06:06:47.214765Z",
     "start_time": "2021-12-13T06:06:47.204764Z"
    },
    "collapsed": true
   },
   "outputs": [],
   "source": [
    "all_data['SaleType'] = all_data['SaleType'].fillna(all_data['SaleType'].mode()[0])\n",
    "all_data['MSSubClass'] = all_data['MSSubClass'].fillna(\"None\")"
   ]
  },
  {
   "cell_type": "code",
   "execution_count": null,
   "metadata": {
    "ExecuteTime": {
     "end_time": "2021-12-13T06:06:47.641789Z",
     "start_time": "2021-12-13T06:06:47.603787Z"
    }
   },
   "outputs": [],
   "source": [
    "all_data_na=(all_data.isnull().sum())/len(all_data) * 100\n",
    "all_data_na=all_data_na.drop(all_data_na[all_data_na==0].index).sort_values(ascending=False)\n",
    "miss_data=pd.DataFrame({'Missing Ratio':all_data_na})\n",
    "miss_data.head()"
   ]
  },
  {
   "cell_type": "code",
   "execution_count": null,
   "metadata": {
    "ExecuteTime": {
     "end_time": "2021-12-13T06:06:48.044812Z",
     "start_time": "2021-12-13T06:06:48.038812Z"
    }
   },
   "outputs": [],
   "source": [
    "all_data['MSSubClass'].dtype"
   ]
  },
  {
   "cell_type": "code",
   "execution_count": null,
   "metadata": {
    "ExecuteTime": {
     "end_time": "2021-12-13T06:06:48.447835Z",
     "start_time": "2021-12-13T06:06:48.437835Z"
    },
    "collapsed": true
   },
   "outputs": [],
   "source": [
    "all_data['MSSubClass']=all_data['MSSubClass'].apply(str)"
   ]
  },
  {
   "cell_type": "code",
   "execution_count": null,
   "metadata": {
    "ExecuteTime": {
     "end_time": "2021-12-13T06:06:48.868859Z",
     "start_time": "2021-12-13T06:06:48.861859Z"
    }
   },
   "outputs": [],
   "source": [
    "all_data['MSSubClass'].dtype"
   ]
  },
  {
   "cell_type": "code",
   "execution_count": null,
   "metadata": {
    "ExecuteTime": {
     "end_time": "2021-12-13T06:06:49.227880Z",
     "start_time": "2021-12-13T06:06:49.222880Z"
    },
    "collapsed": true
   },
   "outputs": [],
   "source": [
    "all_data['OverallCond'] = all_data['OverallCond'].astype(str)"
   ]
  },
  {
   "cell_type": "code",
   "execution_count": null,
   "metadata": {
    "ExecuteTime": {
     "end_time": "2021-12-13T06:06:49.718908Z",
     "start_time": "2021-12-13T06:06:49.696907Z"
    },
    "collapsed": true
   },
   "outputs": [],
   "source": [
    "all_data['YrSold'] = all_data['YrSold'].astype(str)\n",
    "all_data['MoSold'] = all_data['MoSold'].astype(str)"
   ]
  },
  {
   "cell_type": "code",
   "execution_count": null,
   "metadata": {
    "ExecuteTime": {
     "end_time": "2021-12-13T06:06:50.233937Z",
     "start_time": "2021-12-13T06:06:50.134932Z"
    },
    "collapsed": true
   },
   "outputs": [],
   "source": [
    "from sklearn.preprocessing import LabelEncoder\n",
    "cols = ('FireplaceQu', 'BsmtQual', 'BsmtCond', 'GarageQual', 'GarageCond',\n",
    "        'ExterQual', 'ExterCond', 'HeatingQC', 'PoolQC', 'KitchenQual',\n",
    "        'BsmtFinType1', 'BsmtFinType2', 'Functional', 'Fence', 'BsmtExposure',\n",
    "        'GarageFinish', 'LandSlope', 'LotShape', 'PavedDrive', 'Street',\n",
    "        'Alley', 'CentralAir', 'MSSubClass', 'OverallCond', 'YrSold', 'MoSold')\n",
    "for c in cols:\n",
    "    lbl=LabelEncoder()\n",
    "    lbl.fit(list(all_data[c].values))\n",
    "    all_data[c]=lbl.transform(list(all_data[c].values))"
   ]
  },
  {
   "cell_type": "code",
   "execution_count": null,
   "metadata": {
    "ExecuteTime": {
     "end_time": "2021-12-13T06:06:50.675963Z",
     "start_time": "2021-12-13T06:06:50.667962Z"
    }
   },
   "outputs": [],
   "source": [
    "all_data.shape"
   ]
  },
  {
   "cell_type": "code",
   "execution_count": null,
   "metadata": {
    "ExecuteTime": {
     "end_time": "2021-12-13T06:06:51.133989Z",
     "start_time": "2021-12-13T06:06:51.128989Z"
    },
    "collapsed": true
   },
   "outputs": [],
   "source": [
    "all_data['TotalSF']=all_data['TotalBsmtSF']+all_data['1stFlrSF']+all_data['2ndFlrSF']"
   ]
  },
  {
   "cell_type": "markdown",
   "metadata": {},
   "source": [
    "- skewed features"
   ]
  },
  {
   "cell_type": "code",
   "execution_count": null,
   "metadata": {
    "ExecuteTime": {
     "end_time": "2021-12-13T06:06:52.170048Z",
     "start_time": "2021-12-13T06:06:52.104044Z"
    }
   },
   "outputs": [],
   "source": [
    "numeric_feats=all_data.dtypes[all_data.dtypes != 'object'].index\n",
    "skewed_feats=all_data[numeric_feats].apply(lambda x : skew(x.dropna())).sort_values(ascending=False)\n",
    "skewness=pd.DataFrame({'Skew':skewed_feats})\n",
    "skewness"
   ]
  },
  {
   "cell_type": "markdown",
   "metadata": {
    "ExecuteTime": {
     "end_time": "2021-11-23T10:02:54.948218Z",
     "start_time": "2021-11-23T10:02:54.938217Z"
    }
   },
   "source": [
    "- get abs(skew ) > 0.75"
   ]
  },
  {
   "cell_type": "code",
   "execution_count": null,
   "metadata": {
    "ExecuteTime": {
     "end_time": "2021-12-13T06:06:53.277111Z",
     "start_time": "2021-12-13T06:06:53.256110Z"
    }
   },
   "outputs": [],
   "source": [
    "skewness"
   ]
  },
  {
   "cell_type": "code",
   "execution_count": null,
   "metadata": {
    "ExecuteTime": {
     "end_time": "2021-12-13T06:06:54.004153Z",
     "start_time": "2021-12-13T06:06:53.994152Z"
    },
    "collapsed": true
   },
   "outputs": [],
   "source": [
    "skewness=skewness[abs(skewness['Skew'])>0.75]"
   ]
  },
  {
   "cell_type": "code",
   "execution_count": null,
   "metadata": {
    "ExecuteTime": {
     "end_time": "2021-12-13T06:06:54.588186Z",
     "start_time": "2021-12-13T06:06:54.582186Z"
    },
    "collapsed": true
   },
   "outputs": [],
   "source": [
    "from scipy.special import boxcox1p\n",
    "from scipy.stats import boxcox,boxcox_normmax"
   ]
  },
  {
   "cell_type": "code",
   "execution_count": null,
   "metadata": {
    "ExecuteTime": {
     "end_time": "2021-12-13T06:06:55.328229Z",
     "start_time": "2021-12-13T06:06:55.036212Z"
    }
   },
   "outputs": [],
   "source": [
    "for i in range(len(skewness)):\n",
    "    print(skewness.index[i],'-----skew:',skewness.values[i],'-----lm:',boxcox_normmax(all_data[skewness.index[i]]+1),'kurt : ',all_data[skewness.index[i]].kurt())\n",
    "    "
   ]
  },
  {
   "cell_type": "markdown",
   "metadata": {
    "ExecuteTime": {
     "end_time": "2021-11-24T10:10:59.460785Z",
     "start_time": "2021-11-24T10:10:59.450784Z"
    }
   },
   "source": [
    "- - change fixed lam=0.15 to different lam"
   ]
  },
  {
   "cell_type": "code",
   "execution_count": null,
   "metadata": {
    "ExecuteTime": {
     "end_time": "2021-12-13T06:07:02.070614Z",
     "start_time": "2021-12-13T06:07:01.759597Z"
    }
   },
   "outputs": [],
   "source": [
    "skewed_feats=skewness.index\n",
    "for feat in skewed_feats:\n",
    "    lm=boxcox_normmax(all_data[feat]+1)\n",
    "    all_data[feat]=boxcox1p(all_data[feat],lm)\n",
    "    print(feat,' skew : ', all_data[feat].skew(),' lm : ',lm,' kurt : ',lm,all_data[feat].kurt())"
   ]
  },
  {
   "cell_type": "code",
   "execution_count": null,
   "metadata": {
    "ExecuteTime": {
     "end_time": "2021-12-13T06:07:03.054671Z",
     "start_time": "2021-12-13T06:07:03.009668Z"
    }
   },
   "outputs": [],
   "source": [
    "all_data.head()"
   ]
  },
  {
   "cell_type": "code",
   "execution_count": null,
   "metadata": {
    "ExecuteTime": {
     "end_time": "2021-12-13T06:07:03.877718Z",
     "start_time": "2021-12-13T06:07:03.815714Z"
    }
   },
   "outputs": [],
   "source": [
    "all_data=pd.get_dummies(all_data)\n",
    "all_data.shape"
   ]
  },
  {
   "cell_type": "code",
   "execution_count": null,
   "metadata": {
    "ExecuteTime": {
     "end_time": "2021-12-13T06:07:04.301742Z",
     "start_time": "2021-12-13T06:07:04.287741Z"
    },
    "collapsed": true
   },
   "outputs": [],
   "source": [
    "train=all_data[:ntrain]\n",
    "test=all_data[ntrain:]"
   ]
  },
  {
   "cell_type": "markdown",
   "metadata": {
    "ExecuteTime": {
     "end_time": "2021-11-30T08:12:39.843990Z",
     "start_time": "2021-11-30T08:12:39.838990Z"
    }
   },
   "source": [
    "#### Model"
   ]
  },
  {
   "cell_type": "code",
   "execution_count": null,
   "metadata": {
    "ExecuteTime": {
     "end_time": "2021-12-13T06:07:06.617874Z",
     "start_time": "2021-12-13T06:07:05.248796Z"
    },
    "collapsed": true
   },
   "outputs": [],
   "source": [
    "from sklearn.linear_model import ElasticNet,Lasso,BayesianRidge,LassoLarsIC\n",
    "from sklearn.ensemble import RandomForestRegressor,GradientBoostingRegressor\n",
    "from sklearn.kernel_ridge import KernelRidge\n",
    "from sklearn.pipeline import make_pipeline\n",
    "from sklearn.preprocessing import RobustScaler\n",
    "from sklearn.base import BaseEstimator,TransformerMixin,RegressorMixin,clone\n",
    "from sklearn.model_selection import KFold,cross_val_score,train_test_split\n",
    "from sklearn.metrics import mean_squared_error\n",
    "import xgboost as xgb\n",
    "import lightgbm as lgb"
   ]
  },
  {
   "cell_type": "code",
   "execution_count": null,
   "metadata": {
    "ExecuteTime": {
     "end_time": "2021-12-13T06:07:06.624875Z",
     "start_time": "2021-12-13T06:07:06.618875Z"
    },
    "collapsed": true
   },
   "outputs": [],
   "source": [
    "n_folds=5\n",
    "\n",
    "def rmsle_cv(model):\n",
    "    kf=KFold(n_folds,shuffle=True,random_state=42).get_n_splits(train.values)\n",
    "    rmse=np.sqrt(-cross_val_score(model,train.values,y_train,scoring='neg_mean_squared_error',cv=kf))\n",
    "    return rmse"
   ]
  },
  {
   "cell_type": "code",
   "execution_count": null,
   "metadata": {
    "ExecuteTime": {
     "end_time": "2021-12-13T06:07:06.655877Z",
     "start_time": "2021-12-13T06:07:06.626875Z"
    },
    "collapsed": true
   },
   "outputs": [],
   "source": [
    "lasso=make_pipeline(RobustScaler(),Lasso(alpha=0.0005,random_state=1))"
   ]
  },
  {
   "cell_type": "code",
   "execution_count": null,
   "metadata": {
    "ExecuteTime": {
     "end_time": "2021-12-13T06:07:10.552100Z",
     "start_time": "2021-12-13T06:07:10.544099Z"
    },
    "collapsed": true
   },
   "outputs": [],
   "source": [
    "ridge=make_pipeline(RobustScaler(),BayesianRidge())"
   ]
  },
  {
   "cell_type": "code",
   "execution_count": null,
   "metadata": {
    "ExecuteTime": {
     "end_time": "2021-12-13T06:07:11.084130Z",
     "start_time": "2021-12-13T06:07:11.079130Z"
    },
    "collapsed": true
   },
   "outputs": [],
   "source": [
    "lassoic=make_pipeline(RobustScaler(),LassoLarsIC())"
   ]
  },
  {
   "cell_type": "code",
   "execution_count": null,
   "metadata": {
    "ExecuteTime": {
     "end_time": "2021-12-13T06:07:11.571158Z",
     "start_time": "2021-12-13T06:07:11.565157Z"
    },
    "collapsed": true
   },
   "outputs": [],
   "source": [
    "ENet=make_pipeline(RobustScaler(),ElasticNet(alpha=0.0005,l1_ratio=0.9,random_state=3))"
   ]
  },
  {
   "cell_type": "code",
   "execution_count": null,
   "metadata": {
    "ExecuteTime": {
     "end_time": "2021-12-13T06:07:32.880377Z",
     "start_time": "2021-12-13T06:07:32.873376Z"
    },
    "collapsed": true
   },
   "outputs": [],
   "source": [
    "KRR=KernelRidge(alpha=0.6,kernel='polynomial',degree=2,coef0=2.5)"
   ]
  },
  {
   "cell_type": "code",
   "execution_count": null,
   "metadata": {
    "ExecuteTime": {
     "end_time": "2021-12-13T06:07:33.484411Z",
     "start_time": "2021-12-13T06:07:33.473411Z"
    },
    "collapsed": true
   },
   "outputs": [],
   "source": [
    "GBoost = GradientBoostingRegressor(n_estimators=3000,\n",
    "                                   learning_rate=0.05,\n",
    "                                   max_depth=4,\n",
    "                                   max_features='sqrt',\n",
    "                                   min_samples_leaf=15,\n",
    "                                   min_samples_split=10,\n",
    "                                   loss='huber',\n",
    "                                   random_state=5)"
   ]
  },
  {
   "cell_type": "code",
   "execution_count": null,
   "metadata": {
    "ExecuteTime": {
     "end_time": "2021-12-13T06:07:34.237454Z",
     "start_time": "2021-12-13T06:07:34.226454Z"
    },
    "collapsed": true
   },
   "outputs": [],
   "source": [
    "model_xgb = xgb.XGBRegressor(colsample_bytree=0.4603, gamma=0.0468, \n",
    "                             learning_rate=0.05, max_depth=3, \n",
    "                             min_child_weight=1.7817, n_estimators=2200,\n",
    "                             reg_alpha=0.4640, reg_lambda=0.8571,\n",
    "                             subsample=0.5213, silent=1,\n",
    "                             random_state =7, nthread = -1)"
   ]
  },
  {
   "cell_type": "code",
   "execution_count": null,
   "metadata": {
    "ExecuteTime": {
     "end_time": "2021-12-13T06:07:34.789486Z",
     "start_time": "2021-12-13T06:07:34.778485Z"
    },
    "collapsed": true
   },
   "outputs": [],
   "source": [
    "model_lgb = lgb.LGBMRegressor(objective='regression',num_leaves=5,\n",
    "                              learning_rate=0.05, n_estimators=720,\n",
    "                              max_bin = 55, bagging_fraction = 0.8,\n",
    "                              bagging_freq = 5, feature_fraction = 0.2319,\n",
    "                              feature_fraction_seed=9, bagging_seed=9,\n",
    "                              min_data_in_leaf =6, min_sum_hessian_in_leaf = 11)"
   ]
  },
  {
   "cell_type": "code",
   "execution_count": null,
   "metadata": {
    "ExecuteTime": {
     "end_time": "2021-12-13T06:07:39.896778Z",
     "start_time": "2021-12-13T06:07:39.016728Z"
    }
   },
   "outputs": [],
   "source": [
    "score=rmsle_cv(lasso)\n",
    "print(\"\\nLasso score: {:.4f} ({:.4f})\\n\".format(score.mean(), score.std()))"
   ]
  },
  {
   "cell_type": "code",
   "execution_count": null,
   "metadata": {
    "ExecuteTime": {
     "end_time": "2021-12-13T06:07:44.689052Z",
     "start_time": "2021-12-13T06:07:43.448981Z"
    }
   },
   "outputs": [],
   "source": [
    "score=rmsle_cv(ridge)\n",
    "print(\"\\nLasso score: {:.4f} ({:.4f})\\n\".format(score.mean(), score.std()))"
   ]
  },
  {
   "cell_type": "code",
   "execution_count": null,
   "metadata": {
    "ExecuteTime": {
     "end_time": "2021-12-13T06:07:49.865348Z",
     "start_time": "2021-12-13T06:07:49.073303Z"
    }
   },
   "outputs": [],
   "source": [
    "score=rmsle_cv(lassoic)\n",
    "print(\"\\nLasso score: {:.4f} ({:.4f})\\n\".format(score.mean(), score.std()))"
   ]
  },
  {
   "cell_type": "code",
   "execution_count": null,
   "metadata": {
    "ExecuteTime": {
     "end_time": "2021-12-13T06:07:57.170766Z",
     "start_time": "2021-12-13T06:07:56.464726Z"
    }
   },
   "outputs": [],
   "source": [
    "score = rmsle_cv(ENet)\n",
    "print(\"ElasticNet score: {:.4f} ({:.4f})\\n\".format(score.mean(), score.std()))"
   ]
  },
  {
   "cell_type": "code",
   "execution_count": null,
   "metadata": {
    "ExecuteTime": {
     "end_time": "2021-12-13T06:08:13.855720Z",
     "start_time": "2021-12-13T06:08:11.506586Z"
    }
   },
   "outputs": [],
   "source": [
    "score=rmsle_cv(KRR)\n",
    "print(\"Kernel Ridge score: {:.4f} ({:.4f})\\n\".format(score.mean(), score.std()))"
   ]
  },
  {
   "cell_type": "code",
   "execution_count": null,
   "metadata": {
    "ExecuteTime": {
     "end_time": "2021-12-13T06:08:17.633936Z",
     "start_time": "2021-12-13T06:08:17.376922Z"
    }
   },
   "outputs": [],
   "source": [
    "score = rmsle_cv(GBoost)\n",
    "print(\"Gradient Boosting score: {:.4f} ({:.4f})\\n\".format(score.mean(), score.std()))"
   ]
  },
  {
   "cell_type": "code",
   "execution_count": null,
   "metadata": {
    "ExecuteTime": {
     "end_time": "2021-12-13T06:08:38.880152Z",
     "start_time": "2021-12-13T06:08:25.338377Z"
    }
   },
   "outputs": [],
   "source": [
    "score = rmsle_cv(model_xgb)\n",
    "print(\"Xgboost score: {:.4f} ({:.4f})\\n\".format(score.mean(), score.std()))"
   ]
  },
  {
   "cell_type": "code",
   "execution_count": null,
   "metadata": {
    "ExecuteTime": {
     "end_time": "2021-12-13T06:08:47.687655Z",
     "start_time": "2021-12-13T06:08:46.527589Z"
    }
   },
   "outputs": [],
   "source": [
    "score = rmsle_cv(model_lgb)\n",
    "print(\"LGBM score: {:.4f} ({:.4f})\\n\" .format(score.mean(), score.std()))"
   ]
  },
  {
   "cell_type": "markdown",
   "metadata": {},
   "source": [
    "### Stacked Model\n",
    "- Simple stacking approach: average base models\n",
    "- - Bast Stacked Model : Average base Models"
   ]
  },
  {
   "cell_type": "code",
   "execution_count": null,
   "metadata": {
    "ExecuteTime": {
     "end_time": "2021-12-13T06:08:51.793890Z",
     "start_time": "2021-12-13T06:08:51.782890Z"
    },
    "collapsed": true
   },
   "outputs": [],
   "source": [
    "class AveragingModels(BaseEstimator,RegressorMixin,TransformerMixin):\n",
    "    def __init__(self,models):\n",
    "        self.models=models\n",
    "    \n",
    "    def fit(self,X,y):\n",
    "        self.models_=[clone(x) for x in self.models]\n",
    "        \n",
    "        for model in self.models_:\n",
    "            model.fit(X,y)\n",
    "        return self\n",
    "    \n",
    "    def predict(self,X):\n",
    "        predictions=np.column_stack([model.predict(X) for model in self.models_])\n",
    "        return np.mean(predictions,axis=1)"
   ]
  },
  {
   "cell_type": "code",
   "execution_count": null,
   "metadata": {
    "ExecuteTime": {
     "end_time": "2021-12-13T06:08:59.409326Z",
     "start_time": "2021-12-13T06:08:57.409211Z"
    }
   },
   "outputs": [],
   "source": [
    "averaged_models=AveragingModels(models=(ENet,ridge,lassoic ,lasso))\n",
    "score=rmsle_cv(averaged_models)\n",
    "print('Averaged base models score : {:.4f} ({:.4f})\\n'.format(score.mean(),score.std()))\n"
   ]
  },
  {
   "cell_type": "markdown",
   "metadata": {},
   "source": [
    "- Blend average models"
   ]
  },
  {
   "cell_type": "code",
   "execution_count": null,
   "metadata": {
    "ExecuteTime": {
     "end_time": "2021-12-13T06:09:11.546020Z",
     "start_time": "2021-12-13T06:09:11.481016Z"
    },
    "collapsed": true
   },
   "outputs": [],
   "source": [
    "class StackingAveragedModels(BaseEstimator,RegressorMixin,TransformerMixin):\n",
    "    def __init__(self,base_models,meta_model,n_folds=5):\n",
    "        self.base_models=base_models\n",
    "        self.meta_model=meta_model\n",
    "        self.n_folds=n_folds\n",
    "    \n",
    "    def fit(self,X,y):\n",
    "        self.base_models_=[list() for x in self.base_models]\n",
    "        self.meta_model_=clone(self.meta_model)\n",
    "        kfold=KFold(n_splits=self.n_folds,shuffle=True,random_state=156)\n",
    "        \n",
    "        out_of_fold_predictions=np.zeros((X.shape[0],len(self.base_models)))\n",
    "        for i ,model in enumerate(self.base_models):\n",
    "            for train_index,holdout_index in kfold.split(X,y):\n",
    "                instance=clone(model)\n",
    "                self.base_models_[i].append(instance)\n",
    "                instance.fit(X[train_index],y[train_index])\n",
    "                y_pred=instance.predict(X[holdout_index])\n",
    "                out_of_fold_predictions[holdout_index,i]=y_pred\n",
    "        self.meta_model_.fit(out_of_fold_predictions,y)\n",
    "        return self\n",
    "    \n",
    "    def predict(self,X):\n",
    "        meta_features=np.column_stack([\n",
    "            np.column_stack([model.predict(X) for model in base_models]).mean(axis=1)\n",
    "            for base_models in self.base_models_])\n",
    "        return self.meta_model_.predict(meta_features)"
   ]
  },
  {
   "cell_type": "code",
   "execution_count": null,
   "metadata": {
    "ExecuteTime": {
     "end_time": "2021-12-13T06:10:15.459676Z",
     "start_time": "2021-12-13T06:10:09.521336Z"
    }
   },
   "outputs": [],
   "source": [
    "stacked_averaged_models=StackingAveragedModels(base_models=(ENet,ridge,lassoic),meta_model=lasso)\n",
    "score=rmsle_cv(stacked_averaged_models)\n",
    "print('Stacking Averaged models score : {:.4f} ({:.4f})'.format(score.mean(),score.std()))\n"
   ]
  },
  {
   "cell_type": "markdown",
   "metadata": {
    "ExecuteTime": {
     "end_time": "2021-12-08T07:49:49.961099Z",
     "start_time": "2021-12-08T07:49:49.954099Z"
    }
   },
   "source": [
    "- Ensembling Stacked Regressor,XGBoost and LightGBM"
   ]
  },
  {
   "cell_type": "code",
   "execution_count": null,
   "metadata": {
    "ExecuteTime": {
     "end_time": "2021-12-13T06:10:34.889787Z",
     "start_time": "2021-12-13T06:10:34.881786Z"
    },
    "collapsed": true
   },
   "outputs": [],
   "source": [
    "def rmsle(y,y_pred):\n",
    "    return np.sqrt(mean_squared_error(y,y_pred))"
   ]
  },
  {
   "cell_type": "code",
   "execution_count": null,
   "metadata": {
    "ExecuteTime": {
     "end_time": "2021-12-13T06:10:36.202862Z",
     "start_time": "2021-12-13T06:10:36.192861Z"
    }
   },
   "outputs": [],
   "source": [
    "y_train.shape"
   ]
  },
  {
   "cell_type": "code",
   "execution_count": null,
   "metadata": {
    "ExecuteTime": {
     "end_time": "2021-12-13T06:10:36.885901Z",
     "start_time": "2021-12-13T06:10:36.873900Z"
    }
   },
   "outputs": [],
   "source": [
    "test.values.shape"
   ]
  },
  {
   "cell_type": "code",
   "execution_count": null,
   "metadata": {
    "ExecuteTime": {
     "end_time": "2021-12-13T06:28:15.090427Z",
     "start_time": "2021-12-13T06:28:13.699347Z"
    }
   },
   "outputs": [],
   "source": [
    "stacked_averaged_models.fit(train.values,y_train)\n",
    "stacked_train_pred=stacked_averaged_models.predict(train.values)\n",
    "stacked_pred=np.expm1(stacked_averaged_models.predict(test.values))\n",
    "print(rmsle(y_train,stacked_train_pred))"
   ]
  },
  {
   "cell_type": "code",
   "execution_count": null,
   "metadata": {
    "ExecuteTime": {
     "end_time": "2021-12-13T06:28:28.822212Z",
     "start_time": "2021-12-13T06:28:25.227007Z"
    }
   },
   "outputs": [],
   "source": [
    "model_xgb.fit(train, y_train)\n",
    "xgb_train_pred = model_xgb.predict(train)\n",
    "xgb_pred = np.expm1(model_xgb.predict(test))\n",
    "print(rmsle(y_train, xgb_train_pred))"
   ]
  },
  {
   "cell_type": "code",
   "execution_count": null,
   "metadata": {
    "ExecuteTime": {
     "end_time": "2021-12-13T06:28:31.450363Z",
     "start_time": "2021-12-13T06:28:31.260352Z"
    }
   },
   "outputs": [],
   "source": [
    "model_lgb.fit(train, y_train)\n",
    "lgb_train_pred = model_lgb.predict(train)\n",
    "lgb_pred = np.expm1(model_lgb.predict(test.values))\n",
    "print(rmsle(y_train, lgb_train_pred))"
   ]
  },
  {
   "cell_type": "code",
   "execution_count": null,
   "metadata": {
    "collapsed": true
   },
   "outputs": [],
   "source": []
  }
 ],
 "metadata": {
  "kernelspec": {
   "display_name": "Python 3",
   "language": "python",
   "name": "python3"
  },
  "language_info": {
   "codemirror_mode": {
    "name": "ipython",
    "version": 3
   },
   "file_extension": ".py",
   "mimetype": "text/x-python",
   "name": "python",
   "nbconvert_exporter": "python",
   "pygments_lexer": "ipython3",
   "version": "3.6.3"
  }
 },
 "nbformat": 4,
 "nbformat_minor": 2
}
