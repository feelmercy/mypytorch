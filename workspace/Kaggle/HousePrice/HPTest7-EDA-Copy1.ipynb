{
 "cells": [
  {
   "cell_type": "code",
   "execution_count": null,
   "metadata": {
    "ExecuteTime": {
     "end_time": "2021-12-06T07:23:35.926000Z",
     "start_time": "2021-12-06T07:23:35.059951Z"
    }
   },
   "outputs": [],
   "source": [
    "import numpy as np\n",
    "import pandas as pd\n",
    "import seaborn as sns\n",
    "from scipy import stats\n",
    "from scipy.stats import norm,skew\n",
    "import matplotlib.pyplot as plt\n",
    "%matplotlib auto"
   ]
  },
  {
   "cell_type": "code",
   "execution_count": 2,
   "metadata": {
    "ExecuteTime": {
     "end_time": "2021-12-06T07:23:36.715045Z",
     "start_time": "2021-12-06T07:23:36.672043Z"
    },
    "collapsed": true
   },
   "outputs": [],
   "source": [
    "train=pd.read_csv('F:\\\\study\\\\ml\\\\DataSet\\\\House_Prices\\\\train.csv')\n",
    "test=pd.read_csv('F:\\\\study\\\\ml\\\\DataSet\\\\House_Prices\\\\test.csv')"
   ]
  },
  {
   "cell_type": "code",
   "execution_count": 3,
   "metadata": {
    "ExecuteTime": {
     "end_time": "2021-12-06T07:23:37.289078Z",
     "start_time": "2021-12-06T07:23:37.241075Z"
    }
   },
   "outputs": [
    {
     "data": {
      "text/html": [
       "<div>\n",
       "<style>\n",
       "    .dataframe thead tr:only-child th {\n",
       "        text-align: right;\n",
       "    }\n",
       "\n",
       "    .dataframe thead th {\n",
       "        text-align: left;\n",
       "    }\n",
       "\n",
       "    .dataframe tbody tr th {\n",
       "        vertical-align: top;\n",
       "    }\n",
       "</style>\n",
       "<table border=\"1\" class=\"dataframe\">\n",
       "  <thead>\n",
       "    <tr style=\"text-align: right;\">\n",
       "      <th></th>\n",
       "      <th>Id</th>\n",
       "      <th>MSSubClass</th>\n",
       "      <th>MSZoning</th>\n",
       "      <th>LotFrontage</th>\n",
       "      <th>LotArea</th>\n",
       "      <th>Street</th>\n",
       "      <th>Alley</th>\n",
       "      <th>LotShape</th>\n",
       "      <th>LandContour</th>\n",
       "      <th>Utilities</th>\n",
       "      <th>...</th>\n",
       "      <th>PoolArea</th>\n",
       "      <th>PoolQC</th>\n",
       "      <th>Fence</th>\n",
       "      <th>MiscFeature</th>\n",
       "      <th>MiscVal</th>\n",
       "      <th>MoSold</th>\n",
       "      <th>YrSold</th>\n",
       "      <th>SaleType</th>\n",
       "      <th>SaleCondition</th>\n",
       "      <th>SalePrice</th>\n",
       "    </tr>\n",
       "  </thead>\n",
       "  <tbody>\n",
       "    <tr>\n",
       "      <th>0</th>\n",
       "      <td>1</td>\n",
       "      <td>60</td>\n",
       "      <td>RL</td>\n",
       "      <td>65.0</td>\n",
       "      <td>8450</td>\n",
       "      <td>Pave</td>\n",
       "      <td>NaN</td>\n",
       "      <td>Reg</td>\n",
       "      <td>Lvl</td>\n",
       "      <td>AllPub</td>\n",
       "      <td>...</td>\n",
       "      <td>0</td>\n",
       "      <td>NaN</td>\n",
       "      <td>NaN</td>\n",
       "      <td>NaN</td>\n",
       "      <td>0</td>\n",
       "      <td>2</td>\n",
       "      <td>2008</td>\n",
       "      <td>WD</td>\n",
       "      <td>Normal</td>\n",
       "      <td>208500</td>\n",
       "    </tr>\n",
       "    <tr>\n",
       "      <th>1</th>\n",
       "      <td>2</td>\n",
       "      <td>20</td>\n",
       "      <td>RL</td>\n",
       "      <td>80.0</td>\n",
       "      <td>9600</td>\n",
       "      <td>Pave</td>\n",
       "      <td>NaN</td>\n",
       "      <td>Reg</td>\n",
       "      <td>Lvl</td>\n",
       "      <td>AllPub</td>\n",
       "      <td>...</td>\n",
       "      <td>0</td>\n",
       "      <td>NaN</td>\n",
       "      <td>NaN</td>\n",
       "      <td>NaN</td>\n",
       "      <td>0</td>\n",
       "      <td>5</td>\n",
       "      <td>2007</td>\n",
       "      <td>WD</td>\n",
       "      <td>Normal</td>\n",
       "      <td>181500</td>\n",
       "    </tr>\n",
       "    <tr>\n",
       "      <th>2</th>\n",
       "      <td>3</td>\n",
       "      <td>60</td>\n",
       "      <td>RL</td>\n",
       "      <td>68.0</td>\n",
       "      <td>11250</td>\n",
       "      <td>Pave</td>\n",
       "      <td>NaN</td>\n",
       "      <td>IR1</td>\n",
       "      <td>Lvl</td>\n",
       "      <td>AllPub</td>\n",
       "      <td>...</td>\n",
       "      <td>0</td>\n",
       "      <td>NaN</td>\n",
       "      <td>NaN</td>\n",
       "      <td>NaN</td>\n",
       "      <td>0</td>\n",
       "      <td>9</td>\n",
       "      <td>2008</td>\n",
       "      <td>WD</td>\n",
       "      <td>Normal</td>\n",
       "      <td>223500</td>\n",
       "    </tr>\n",
       "    <tr>\n",
       "      <th>3</th>\n",
       "      <td>4</td>\n",
       "      <td>70</td>\n",
       "      <td>RL</td>\n",
       "      <td>60.0</td>\n",
       "      <td>9550</td>\n",
       "      <td>Pave</td>\n",
       "      <td>NaN</td>\n",
       "      <td>IR1</td>\n",
       "      <td>Lvl</td>\n",
       "      <td>AllPub</td>\n",
       "      <td>...</td>\n",
       "      <td>0</td>\n",
       "      <td>NaN</td>\n",
       "      <td>NaN</td>\n",
       "      <td>NaN</td>\n",
       "      <td>0</td>\n",
       "      <td>2</td>\n",
       "      <td>2006</td>\n",
       "      <td>WD</td>\n",
       "      <td>Abnorml</td>\n",
       "      <td>140000</td>\n",
       "    </tr>\n",
       "    <tr>\n",
       "      <th>4</th>\n",
       "      <td>5</td>\n",
       "      <td>60</td>\n",
       "      <td>RL</td>\n",
       "      <td>84.0</td>\n",
       "      <td>14260</td>\n",
       "      <td>Pave</td>\n",
       "      <td>NaN</td>\n",
       "      <td>IR1</td>\n",
       "      <td>Lvl</td>\n",
       "      <td>AllPub</td>\n",
       "      <td>...</td>\n",
       "      <td>0</td>\n",
       "      <td>NaN</td>\n",
       "      <td>NaN</td>\n",
       "      <td>NaN</td>\n",
       "      <td>0</td>\n",
       "      <td>12</td>\n",
       "      <td>2008</td>\n",
       "      <td>WD</td>\n",
       "      <td>Normal</td>\n",
       "      <td>250000</td>\n",
       "    </tr>\n",
       "  </tbody>\n",
       "</table>\n",
       "<p>5 rows × 81 columns</p>\n",
       "</div>"
      ],
      "text/plain": [
       "   Id  MSSubClass MSZoning  LotFrontage  LotArea Street Alley LotShape  \\\n",
       "0   1          60       RL         65.0     8450   Pave   NaN      Reg   \n",
       "1   2          20       RL         80.0     9600   Pave   NaN      Reg   \n",
       "2   3          60       RL         68.0    11250   Pave   NaN      IR1   \n",
       "3   4          70       RL         60.0     9550   Pave   NaN      IR1   \n",
       "4   5          60       RL         84.0    14260   Pave   NaN      IR1   \n",
       "\n",
       "  LandContour Utilities    ...     PoolArea PoolQC Fence MiscFeature MiscVal  \\\n",
       "0         Lvl    AllPub    ...            0    NaN   NaN         NaN       0   \n",
       "1         Lvl    AllPub    ...            0    NaN   NaN         NaN       0   \n",
       "2         Lvl    AllPub    ...            0    NaN   NaN         NaN       0   \n",
       "3         Lvl    AllPub    ...            0    NaN   NaN         NaN       0   \n",
       "4         Lvl    AllPub    ...            0    NaN   NaN         NaN       0   \n",
       "\n",
       "  MoSold YrSold  SaleType  SaleCondition  SalePrice  \n",
       "0      2   2008        WD         Normal     208500  \n",
       "1      5   2007        WD         Normal     181500  \n",
       "2      9   2008        WD         Normal     223500  \n",
       "3      2   2006        WD        Abnorml     140000  \n",
       "4     12   2008        WD         Normal     250000  \n",
       "\n",
       "[5 rows x 81 columns]"
      ]
     },
     "execution_count": 3,
     "metadata": {},
     "output_type": "execute_result"
    }
   ],
   "source": [
    "train.head()"
   ]
  },
  {
   "cell_type": "code",
   "execution_count": 4,
   "metadata": {
    "ExecuteTime": {
     "end_time": "2021-12-06T07:23:37.818108Z",
     "start_time": "2021-12-06T07:23:37.807108Z"
    }
   },
   "outputs": [
    {
     "data": {
      "text/plain": [
       "array(['Attchd', 'Detchd', 'BuiltIn', 'CarPort', nan, 'Basment', '2Types'],\n",
       "      dtype=object)"
      ]
     },
     "execution_count": 4,
     "metadata": {},
     "output_type": "execute_result"
    }
   ],
   "source": [
    "train['GarageType'].unique()"
   ]
  },
  {
   "cell_type": "markdown",
   "metadata": {},
   "source": [
    "delete outlier data and drop id"
   ]
  },
  {
   "cell_type": "code",
   "execution_count": 5,
   "metadata": {
    "ExecuteTime": {
     "end_time": "2021-12-06T07:23:38.734161Z",
     "start_time": "2021-12-06T07:23:38.637155Z"
    }
   },
   "outputs": [
    {
     "data": {
      "text/plain": [
       "<matplotlib.collections.PathCollection at 0x12734ba8>"
      ]
     },
     "execution_count": 5,
     "metadata": {},
     "output_type": "execute_result"
    }
   ],
   "source": [
    "plt.scatter(train['GrLivArea'],train['SalePrice'])\n"
   ]
  },
  {
   "cell_type": "code",
   "execution_count": 6,
   "metadata": {
    "ExecuteTime": {
     "end_time": "2021-12-06T07:23:39.151185Z",
     "start_time": "2021-12-06T07:23:39.138184Z"
    },
    "collapsed": true
   },
   "outputs": [],
   "source": [
    "train=train.drop(train[(train['GrLivArea']>4000) & (train['SalePrice']<300000)].index)"
   ]
  },
  {
   "cell_type": "code",
   "execution_count": 7,
   "metadata": {
    "ExecuteTime": {
     "end_time": "2021-12-06T07:23:39.540207Z",
     "start_time": "2021-12-06T07:23:39.522206Z"
    }
   },
   "outputs": [
    {
     "data": {
      "text/plain": [
       "<matplotlib.collections.PathCollection at 0x129529e8>"
      ]
     },
     "execution_count": 7,
     "metadata": {},
     "output_type": "execute_result"
    }
   ],
   "source": [
    "plt.scatter(train['GrLivArea'],train['SalePrice'])\n"
   ]
  },
  {
   "cell_type": "code",
   "execution_count": 8,
   "metadata": {
    "ExecuteTime": {
     "end_time": "2021-12-06T07:23:39.821223Z",
     "start_time": "2021-12-06T07:23:39.786221Z"
    }
   },
   "outputs": [
    {
     "data": {
      "text/html": [
       "<div>\n",
       "<style>\n",
       "    .dataframe thead tr:only-child th {\n",
       "        text-align: right;\n",
       "    }\n",
       "\n",
       "    .dataframe thead th {\n",
       "        text-align: left;\n",
       "    }\n",
       "\n",
       "    .dataframe tbody tr th {\n",
       "        vertical-align: top;\n",
       "    }\n",
       "</style>\n",
       "<table border=\"1\" class=\"dataframe\">\n",
       "  <thead>\n",
       "    <tr style=\"text-align: right;\">\n",
       "      <th></th>\n",
       "      <th>Id</th>\n",
       "      <th>MSSubClass</th>\n",
       "      <th>MSZoning</th>\n",
       "      <th>LotFrontage</th>\n",
       "      <th>LotArea</th>\n",
       "      <th>Street</th>\n",
       "      <th>Alley</th>\n",
       "      <th>LotShape</th>\n",
       "      <th>LandContour</th>\n",
       "      <th>Utilities</th>\n",
       "      <th>...</th>\n",
       "      <th>PoolArea</th>\n",
       "      <th>PoolQC</th>\n",
       "      <th>Fence</th>\n",
       "      <th>MiscFeature</th>\n",
       "      <th>MiscVal</th>\n",
       "      <th>MoSold</th>\n",
       "      <th>YrSold</th>\n",
       "      <th>SaleType</th>\n",
       "      <th>SaleCondition</th>\n",
       "      <th>SalePrice</th>\n",
       "    </tr>\n",
       "  </thead>\n",
       "  <tbody>\n",
       "    <tr>\n",
       "      <th>0</th>\n",
       "      <td>1</td>\n",
       "      <td>60</td>\n",
       "      <td>RL</td>\n",
       "      <td>65.0</td>\n",
       "      <td>8450</td>\n",
       "      <td>Pave</td>\n",
       "      <td>NaN</td>\n",
       "      <td>Reg</td>\n",
       "      <td>Lvl</td>\n",
       "      <td>AllPub</td>\n",
       "      <td>...</td>\n",
       "      <td>0</td>\n",
       "      <td>NaN</td>\n",
       "      <td>NaN</td>\n",
       "      <td>NaN</td>\n",
       "      <td>0</td>\n",
       "      <td>2</td>\n",
       "      <td>2008</td>\n",
       "      <td>WD</td>\n",
       "      <td>Normal</td>\n",
       "      <td>208500</td>\n",
       "    </tr>\n",
       "    <tr>\n",
       "      <th>1</th>\n",
       "      <td>2</td>\n",
       "      <td>20</td>\n",
       "      <td>RL</td>\n",
       "      <td>80.0</td>\n",
       "      <td>9600</td>\n",
       "      <td>Pave</td>\n",
       "      <td>NaN</td>\n",
       "      <td>Reg</td>\n",
       "      <td>Lvl</td>\n",
       "      <td>AllPub</td>\n",
       "      <td>...</td>\n",
       "      <td>0</td>\n",
       "      <td>NaN</td>\n",
       "      <td>NaN</td>\n",
       "      <td>NaN</td>\n",
       "      <td>0</td>\n",
       "      <td>5</td>\n",
       "      <td>2007</td>\n",
       "      <td>WD</td>\n",
       "      <td>Normal</td>\n",
       "      <td>181500</td>\n",
       "    </tr>\n",
       "    <tr>\n",
       "      <th>2</th>\n",
       "      <td>3</td>\n",
       "      <td>60</td>\n",
       "      <td>RL</td>\n",
       "      <td>68.0</td>\n",
       "      <td>11250</td>\n",
       "      <td>Pave</td>\n",
       "      <td>NaN</td>\n",
       "      <td>IR1</td>\n",
       "      <td>Lvl</td>\n",
       "      <td>AllPub</td>\n",
       "      <td>...</td>\n",
       "      <td>0</td>\n",
       "      <td>NaN</td>\n",
       "      <td>NaN</td>\n",
       "      <td>NaN</td>\n",
       "      <td>0</td>\n",
       "      <td>9</td>\n",
       "      <td>2008</td>\n",
       "      <td>WD</td>\n",
       "      <td>Normal</td>\n",
       "      <td>223500</td>\n",
       "    </tr>\n",
       "    <tr>\n",
       "      <th>3</th>\n",
       "      <td>4</td>\n",
       "      <td>70</td>\n",
       "      <td>RL</td>\n",
       "      <td>60.0</td>\n",
       "      <td>9550</td>\n",
       "      <td>Pave</td>\n",
       "      <td>NaN</td>\n",
       "      <td>IR1</td>\n",
       "      <td>Lvl</td>\n",
       "      <td>AllPub</td>\n",
       "      <td>...</td>\n",
       "      <td>0</td>\n",
       "      <td>NaN</td>\n",
       "      <td>NaN</td>\n",
       "      <td>NaN</td>\n",
       "      <td>0</td>\n",
       "      <td>2</td>\n",
       "      <td>2006</td>\n",
       "      <td>WD</td>\n",
       "      <td>Abnorml</td>\n",
       "      <td>140000</td>\n",
       "    </tr>\n",
       "    <tr>\n",
       "      <th>4</th>\n",
       "      <td>5</td>\n",
       "      <td>60</td>\n",
       "      <td>RL</td>\n",
       "      <td>84.0</td>\n",
       "      <td>14260</td>\n",
       "      <td>Pave</td>\n",
       "      <td>NaN</td>\n",
       "      <td>IR1</td>\n",
       "      <td>Lvl</td>\n",
       "      <td>AllPub</td>\n",
       "      <td>...</td>\n",
       "      <td>0</td>\n",
       "      <td>NaN</td>\n",
       "      <td>NaN</td>\n",
       "      <td>NaN</td>\n",
       "      <td>0</td>\n",
       "      <td>12</td>\n",
       "      <td>2008</td>\n",
       "      <td>WD</td>\n",
       "      <td>Normal</td>\n",
       "      <td>250000</td>\n",
       "    </tr>\n",
       "  </tbody>\n",
       "</table>\n",
       "<p>5 rows × 81 columns</p>\n",
       "</div>"
      ],
      "text/plain": [
       "   Id  MSSubClass MSZoning  LotFrontage  LotArea Street Alley LotShape  \\\n",
       "0   1          60       RL         65.0     8450   Pave   NaN      Reg   \n",
       "1   2          20       RL         80.0     9600   Pave   NaN      Reg   \n",
       "2   3          60       RL         68.0    11250   Pave   NaN      IR1   \n",
       "3   4          70       RL         60.0     9550   Pave   NaN      IR1   \n",
       "4   5          60       RL         84.0    14260   Pave   NaN      IR1   \n",
       "\n",
       "  LandContour Utilities    ...     PoolArea PoolQC Fence MiscFeature MiscVal  \\\n",
       "0         Lvl    AllPub    ...            0    NaN   NaN         NaN       0   \n",
       "1         Lvl    AllPub    ...            0    NaN   NaN         NaN       0   \n",
       "2         Lvl    AllPub    ...            0    NaN   NaN         NaN       0   \n",
       "3         Lvl    AllPub    ...            0    NaN   NaN         NaN       0   \n",
       "4         Lvl    AllPub    ...            0    NaN   NaN         NaN       0   \n",
       "\n",
       "  MoSold YrSold  SaleType  SaleCondition  SalePrice  \n",
       "0      2   2008        WD         Normal     208500  \n",
       "1      5   2007        WD         Normal     181500  \n",
       "2      9   2008        WD         Normal     223500  \n",
       "3      2   2006        WD        Abnorml     140000  \n",
       "4     12   2008        WD         Normal     250000  \n",
       "\n",
       "[5 rows x 81 columns]"
      ]
     },
     "execution_count": 8,
     "metadata": {},
     "output_type": "execute_result"
    }
   ],
   "source": [
    "train.head()"
   ]
  },
  {
   "cell_type": "code",
   "execution_count": 9,
   "metadata": {
    "ExecuteTime": {
     "end_time": "2021-12-06T07:23:40.085238Z",
     "start_time": "2021-12-06T07:23:40.080238Z"
    },
    "collapsed": true
   },
   "outputs": [],
   "source": [
    "train_id=train['Id']\n",
    "test_id=test['Id']"
   ]
  },
  {
   "cell_type": "code",
   "execution_count": 10,
   "metadata": {
    "ExecuteTime": {
     "end_time": "2021-12-06T07:23:40.397256Z",
     "start_time": "2021-12-06T07:23:40.385255Z"
    },
    "collapsed": true
   },
   "outputs": [],
   "source": [
    "train.drop('Id',axis=1,inplace=True)\n",
    "test.drop('Id',axis=1,inplace=True)"
   ]
  },
  {
   "cell_type": "markdown",
   "metadata": {},
   "source": [
    "- fit norm dist plot"
   ]
  },
  {
   "cell_type": "code",
   "execution_count": 11,
   "metadata": {
    "ExecuteTime": {
     "end_time": "2021-12-06T07:23:41.151299Z",
     "start_time": "2021-12-06T07:23:41.093296Z"
    }
   },
   "outputs": [
    {
     "data": {
      "text/plain": [
       "<matplotlib.axes._subplots.AxesSubplot at 0x12665ac8>"
      ]
     },
     "execution_count": 11,
     "metadata": {},
     "output_type": "execute_result"
    }
   ],
   "source": [
    "sns.distplot(train['SalePrice'],fit=norm)\n"
   ]
  },
  {
   "cell_type": "markdown",
   "metadata": {
    "ExecuteTime": {
     "end_time": "2021-11-23T06:22:41.421448Z",
     "start_time": "2021-11-23T06:22:41.395446Z"
    },
    "collapsed": true
   },
   "source": [
    "- - plot Q-Q \n",
    "- double check skew >0"
   ]
  },
  {
   "cell_type": "code",
   "execution_count": 12,
   "metadata": {
    "ExecuteTime": {
     "end_time": "2021-12-06T07:23:42.065351Z",
     "start_time": "2021-12-06T07:23:42.045350Z"
    }
   },
   "outputs": [
    {
     "data": {
      "text/plain": [
       "((array([-3.3047554 , -3.04752042, -2.90446807, ...,  2.90446807,\n",
       "          3.04752042,  3.3047554 ]),\n",
       "  array([ 34900,  35311,  37900, ..., 625000, 745000, 755000], dtype=int64)),\n",
       " (74213.25959976624, 180932.91906721535, 0.9320154492892367))"
      ]
     },
     "execution_count": 12,
     "metadata": {},
     "output_type": "execute_result"
    }
   ],
   "source": [
    "stats.probplot(train['SalePrice'],plot=plt)\n"
   ]
  },
  {
   "cell_type": "markdown",
   "metadata": {
    "ExecuteTime": {
     "end_time": "2021-11-23T06:40:55.137004Z",
     "start_time": "2021-11-23T06:40:55.127004Z"
    }
   },
   "source": [
    " - log transform target variable"
   ]
  },
  {
   "cell_type": "code",
   "execution_count": 13,
   "metadata": {
    "ExecuteTime": {
     "end_time": "2021-12-06T07:23:42.830395Z",
     "start_time": "2021-12-06T07:23:42.733389Z"
    }
   },
   "outputs": [
    {
     "data": {
      "text/plain": [
       "<matplotlib.axes._subplots.AxesSubplot at 0x12665ac8>"
      ]
     },
     "execution_count": 13,
     "metadata": {},
     "output_type": "execute_result"
    }
   ],
   "source": [
    "sns.distplot(np.log1p(train['SalePrice']),fit=norm)\n"
   ]
  },
  {
   "cell_type": "code",
   "execution_count": 14,
   "metadata": {
    "ExecuteTime": {
     "end_time": "2021-12-06T07:23:43.117411Z",
     "start_time": "2021-12-06T07:23:43.064408Z"
    }
   },
   "outputs": [
    {
     "data": {
      "text/plain": [
       "<matplotlib.axes._subplots.AxesSubplot at 0x12665ac8>"
      ]
     },
     "execution_count": 14,
     "metadata": {},
     "output_type": "execute_result"
    }
   ],
   "source": [
    "sns.distplot(np.log(1/train['SalePrice']),fit=norm)\n"
   ]
  },
  {
   "cell_type": "code",
   "execution_count": 15,
   "metadata": {
    "ExecuteTime": {
     "end_time": "2021-12-06T07:23:43.448430Z",
     "start_time": "2021-12-06T07:23:43.400428Z"
    }
   },
   "outputs": [
    {
     "data": {
      "text/plain": [
       "<matplotlib.axes._subplots.AxesSubplot at 0x12665ac8>"
      ]
     },
     "execution_count": 15,
     "metadata": {},
     "output_type": "execute_result"
    }
   ],
   "source": [
    "sns.distplot(np.sqrt(train['SalePrice']),fit=norm)\n"
   ]
  },
  {
   "cell_type": "code",
   "execution_count": 16,
   "metadata": {
    "ExecuteTime": {
     "end_time": "2021-12-06T07:23:43.707445Z",
     "start_time": "2021-12-06T07:23:43.702445Z"
    }
   },
   "outputs": [
    {
     "data": {
      "text/plain": [
       "1.8812964895244009"
      ]
     },
     "execution_count": 16,
     "metadata": {},
     "output_type": "execute_result"
    }
   ],
   "source": [
    "train['SalePrice'].skew()"
   ]
  },
  {
   "cell_type": "code",
   "execution_count": 17,
   "metadata": {
    "ExecuteTime": {
     "end_time": "2021-12-06T07:23:44.035464Z",
     "start_time": "2021-12-06T07:23:44.026463Z"
    }
   },
   "outputs": [
    {
     "data": {
      "text/plain": [
       "6.523066888485879"
      ]
     },
     "execution_count": 17,
     "metadata": {},
     "output_type": "execute_result"
    }
   ],
   "source": [
    "train['SalePrice'].kurt()"
   ]
  },
  {
   "cell_type": "code",
   "execution_count": 18,
   "metadata": {
    "ExecuteTime": {
     "end_time": "2021-12-06T07:23:44.337481Z",
     "start_time": "2021-12-06T07:23:44.315480Z"
    }
   },
   "outputs": [
    {
     "data": {
      "text/plain": [
       "((array([-3.3047554 , -3.04752042, -2.90446807, ...,  2.90446807,\n",
       "          3.04752042,  3.3047554 ]),\n",
       "  array([10.46027076, 10.47197813, 10.54273278, ..., 13.34550853,\n",
       "         13.52114084, 13.53447435])),\n",
       " (0.3985294832980731, 12.024015155682548, 0.9953918721417084))"
      ]
     },
     "execution_count": 18,
     "metadata": {},
     "output_type": "execute_result"
    }
   ],
   "source": [
    "train['SalePrice']=np.log1p(train['SalePrice'])\n",
    "(mu,sigma)=norm.fit(train['SalePrice'])\n",
    "stats.probplot(train['SalePrice'],plot=plt)\n"
   ]
  },
  {
   "cell_type": "code",
   "execution_count": 19,
   "metadata": {
    "ExecuteTime": {
     "end_time": "2021-12-06T07:23:44.625498Z",
     "start_time": "2021-12-06T07:23:44.617497Z"
    }
   },
   "outputs": [
    {
     "data": {
      "text/plain": [
       "0.12157976050304882"
      ]
     },
     "execution_count": 19,
     "metadata": {},
     "output_type": "execute_result"
    }
   ],
   "source": [
    "train['SalePrice'].skew()"
   ]
  },
  {
   "cell_type": "code",
   "execution_count": 20,
   "metadata": {
    "ExecuteTime": {
     "end_time": "2021-12-06T07:23:44.903514Z",
     "start_time": "2021-12-06T07:23:44.895513Z"
    }
   },
   "outputs": [
    {
     "data": {
      "text/plain": [
       "0.8047507917418972"
      ]
     },
     "execution_count": 20,
     "metadata": {},
     "output_type": "execute_result"
    }
   ],
   "source": [
    "train['SalePrice'].kurt()"
   ]
  },
  {
   "cell_type": "markdown",
   "metadata": {
    "ExecuteTime": {
     "end_time": "2021-11-23T06:55:27.896923Z",
     "start_time": "2021-11-23T06:55:27.886923Z"
    }
   },
   "source": [
    "- features engineing"
   ]
  },
  {
   "cell_type": "code",
   "execution_count": 21,
   "metadata": {
    "ExecuteTime": {
     "end_time": "2021-12-06T07:23:45.541550Z",
     "start_time": "2021-12-06T07:23:45.477546Z"
    }
   },
   "outputs": [
    {
     "name": "stdout",
     "output_type": "stream",
     "text": [
      "all data shape: (2917, 79)\n"
     ]
    }
   ],
   "source": [
    "ntrain=train.shape[0]\n",
    "ntest=test.shape[0]\n",
    "y_train=train.SalePrice.values\n",
    "all_data=pd.concat((train,test)).reset_index(drop=True)\n",
    "all_data.drop(['SalePrice'],axis=1,inplace=True)\n",
    "print('all data shape:',all_data.shape)"
   ]
  },
  {
   "cell_type": "markdown",
   "metadata": {
    "ExecuteTime": {
     "end_time": "2021-11-23T07:16:12.738124Z",
     "start_time": "2021-11-23T07:16:12.728124Z"
    }
   },
   "source": [
    "- Missing Data"
   ]
  },
  {
   "cell_type": "code",
   "execution_count": 22,
   "metadata": {
    "ExecuteTime": {
     "end_time": "2021-12-06T07:23:46.233590Z",
     "start_time": "2021-12-06T07:23:46.190587Z"
    }
   },
   "outputs": [
    {
     "data": {
      "text/html": [
       "<div>\n",
       "<style>\n",
       "    .dataframe thead tr:only-child th {\n",
       "        text-align: right;\n",
       "    }\n",
       "\n",
       "    .dataframe thead th {\n",
       "        text-align: left;\n",
       "    }\n",
       "\n",
       "    .dataframe tbody tr th {\n",
       "        vertical-align: top;\n",
       "    }\n",
       "</style>\n",
       "<table border=\"1\" class=\"dataframe\">\n",
       "  <thead>\n",
       "    <tr style=\"text-align: right;\">\n",
       "      <th></th>\n",
       "      <th>Missing Ratio</th>\n",
       "    </tr>\n",
       "  </thead>\n",
       "  <tbody>\n",
       "    <tr>\n",
       "      <th>PoolQC</th>\n",
       "      <td>99.691464</td>\n",
       "    </tr>\n",
       "    <tr>\n",
       "      <th>MiscFeature</th>\n",
       "      <td>96.400411</td>\n",
       "    </tr>\n",
       "    <tr>\n",
       "      <th>Alley</th>\n",
       "      <td>93.212204</td>\n",
       "    </tr>\n",
       "    <tr>\n",
       "      <th>Fence</th>\n",
       "      <td>80.425094</td>\n",
       "    </tr>\n",
       "    <tr>\n",
       "      <th>FireplaceQu</th>\n",
       "      <td>48.680151</td>\n",
       "    </tr>\n",
       "    <tr>\n",
       "      <th>LotFrontage</th>\n",
       "      <td>16.660953</td>\n",
       "    </tr>\n",
       "    <tr>\n",
       "      <th>GarageQual</th>\n",
       "      <td>5.450806</td>\n",
       "    </tr>\n",
       "    <tr>\n",
       "      <th>GarageCond</th>\n",
       "      <td>5.450806</td>\n",
       "    </tr>\n",
       "    <tr>\n",
       "      <th>GarageFinish</th>\n",
       "      <td>5.450806</td>\n",
       "    </tr>\n",
       "    <tr>\n",
       "      <th>GarageYrBlt</th>\n",
       "      <td>5.450806</td>\n",
       "    </tr>\n",
       "    <tr>\n",
       "      <th>GarageType</th>\n",
       "      <td>5.382242</td>\n",
       "    </tr>\n",
       "    <tr>\n",
       "      <th>BsmtExposure</th>\n",
       "      <td>2.811107</td>\n",
       "    </tr>\n",
       "    <tr>\n",
       "      <th>BsmtCond</th>\n",
       "      <td>2.811107</td>\n",
       "    </tr>\n",
       "    <tr>\n",
       "      <th>BsmtQual</th>\n",
       "      <td>2.776826</td>\n",
       "    </tr>\n",
       "    <tr>\n",
       "      <th>BsmtFinType2</th>\n",
       "      <td>2.742544</td>\n",
       "    </tr>\n",
       "    <tr>\n",
       "      <th>BsmtFinType1</th>\n",
       "      <td>2.708262</td>\n",
       "    </tr>\n",
       "    <tr>\n",
       "      <th>MasVnrType</th>\n",
       "      <td>0.822763</td>\n",
       "    </tr>\n",
       "    <tr>\n",
       "      <th>MasVnrArea</th>\n",
       "      <td>0.788481</td>\n",
       "    </tr>\n",
       "    <tr>\n",
       "      <th>MSZoning</th>\n",
       "      <td>0.137127</td>\n",
       "    </tr>\n",
       "    <tr>\n",
       "      <th>BsmtFullBath</th>\n",
       "      <td>0.068564</td>\n",
       "    </tr>\n",
       "  </tbody>\n",
       "</table>\n",
       "</div>"
      ],
      "text/plain": [
       "              Missing Ratio\n",
       "PoolQC            99.691464\n",
       "MiscFeature       96.400411\n",
       "Alley             93.212204\n",
       "Fence             80.425094\n",
       "FireplaceQu       48.680151\n",
       "LotFrontage       16.660953\n",
       "GarageQual         5.450806\n",
       "GarageCond         5.450806\n",
       "GarageFinish       5.450806\n",
       "GarageYrBlt        5.450806\n",
       "GarageType         5.382242\n",
       "BsmtExposure       2.811107\n",
       "BsmtCond           2.811107\n",
       "BsmtQual           2.776826\n",
       "BsmtFinType2       2.742544\n",
       "BsmtFinType1       2.708262\n",
       "MasVnrType         0.822763\n",
       "MasVnrArea         0.788481\n",
       "MSZoning           0.137127\n",
       "BsmtFullBath       0.068564"
      ]
     },
     "execution_count": 22,
     "metadata": {},
     "output_type": "execute_result"
    }
   ],
   "source": [
    "all_data_na=(all_data.isnull().sum()/len(all_data)) * 100\n",
    "all_data_na=all_data_na.drop(all_data_na[all_data_na==0].index).sort_values(ascending=False)[:30]\n",
    "missing_data=pd.DataFrame({'Missing Ratio': all_data_na})\n",
    "missing_data.head(20)"
   ]
  },
  {
   "cell_type": "code",
   "execution_count": 23,
   "metadata": {
    "ExecuteTime": {
     "end_time": "2021-12-06T07:23:46.703616Z",
     "start_time": "2021-12-06T07:23:46.567609Z"
    }
   },
   "outputs": [
    {
     "data": {
      "text/plain": [
       "Text(0.5,1,'Precent of miss data by feature')"
      ]
     },
     "execution_count": 23,
     "metadata": {},
     "output_type": "execute_result"
    }
   ],
   "source": [
    "plt.subplots(figsize=(12,10))\n",
    "plt.xticks(rotation='90')\n",
    "sns.barplot(x=all_data_na.index,y=all_data_na)\n",
    "plt.xlabel('Features',fontsize=15)\n",
    "plt.ylabel('Precent of missing value',fontsize=15)\n",
    "plt.title('Precent of miss data by feature',fontsize=15)\n"
   ]
  },
  {
   "cell_type": "markdown",
   "metadata": {
    "ExecuteTime": {
     "end_time": "2021-11-23T07:46:33.034239Z",
     "start_time": "2021-11-23T07:46:33.027239Z"
    }
   },
   "source": [
    "- Data Correlation"
   ]
  },
  {
   "cell_type": "code",
   "execution_count": 24,
   "metadata": {
    "ExecuteTime": {
     "end_time": "2021-12-06T07:23:57.509235Z",
     "start_time": "2021-12-06T07:23:57.382227Z"
    }
   },
   "outputs": [
    {
     "data": {
      "text/plain": [
       "<matplotlib.axes._subplots.AxesSubplot at 0x1751d940>"
      ]
     },
     "execution_count": 24,
     "metadata": {},
     "output_type": "execute_result"
    }
   ],
   "source": [
    "corrmat=train.corr()\n",
    "sns.heatmap(corrmat,vmax=0.9,square=True)"
   ]
  },
  {
   "cell_type": "markdown",
   "metadata": {
    "ExecuteTime": {
     "end_time": "2021-11-23T08:04:43.668620Z",
     "start_time": "2021-11-23T08:04:43.658619Z"
    }
   },
   "source": [
    "- imputing missing values"
   ]
  },
  {
   "cell_type": "code",
   "execution_count": 25,
   "metadata": {
    "ExecuteTime": {
     "end_time": "2021-12-06T07:23:58.396285Z",
     "start_time": "2021-12-06T07:23:58.382284Z"
    }
   },
   "outputs": [
    {
     "data": {
      "text/plain": [
       "0    65.0\n",
       "1    80.0\n",
       "2    68.0\n",
       "3    60.0\n",
       "4    84.0\n",
       "Name: LotFrontage, dtype: float64"
      ]
     },
     "execution_count": 25,
     "metadata": {},
     "output_type": "execute_result"
    }
   ],
   "source": [
    "all_data['LotFrontage'].head()"
   ]
  },
  {
   "cell_type": "code",
   "execution_count": 26,
   "metadata": {
    "ExecuteTime": {
     "end_time": "2021-12-06T07:23:59.124327Z",
     "start_time": "2021-12-06T07:23:59.110326Z"
    }
   },
   "outputs": [
    {
     "data": {
      "text/plain": [
       "0    CollgCr\n",
       "1    Veenker\n",
       "2    CollgCr\n",
       "3    Crawfor\n",
       "4    NoRidge\n",
       "Name: Neighborhood, dtype: object"
      ]
     },
     "execution_count": 26,
     "metadata": {},
     "output_type": "execute_result"
    }
   ],
   "source": [
    "all_data['Neighborhood'].head()"
   ]
  },
  {
   "cell_type": "code",
   "execution_count": 27,
   "metadata": {
    "ExecuteTime": {
     "end_time": "2021-12-06T07:23:59.593354Z",
     "start_time": "2021-12-06T07:23:59.529350Z"
    }
   },
   "outputs": [
    {
     "name": "stdout",
     "output_type": "stream",
     "text": [
      "('Blmngtn', 219     43.0\n",
      "229     43.0\n",
      "385     43.0\n",
      "443     53.0\n",
      "465      NaN\n",
      "558      NaN\n",
      "596     53.0\n",
      "638     53.0\n",
      "789     43.0\n",
      "850      NaN\n",
      "981     43.0\n",
      "1003    43.0\n",
      "1018    43.0\n",
      "1022    43.0\n",
      "1125    53.0\n",
      "1392    53.0\n",
      "1413    51.0\n",
      "1481    43.0\n",
      "1683    43.0\n",
      "1982     NaN\n",
      "1983     NaN\n",
      "1984    53.0\n",
      "2318     NaN\n",
      "2319    53.0\n",
      "2669    43.0\n",
      "2670     NaN\n",
      "2671     NaN\n",
      "2672    43.0\n",
      "Name: LotFrontage, dtype: float64)\n",
      "('Blueste', 598     24.0\n",
      "955     24.0\n",
      "1596    35.0\n",
      "1597    35.0\n",
      "1905    24.0\n",
      "1906    24.0\n",
      "1907    24.0\n",
      "2207    24.0\n",
      "2567    24.0\n",
      "2569    35.0\n",
      "Name: LotFrontage, dtype: float64)\n",
      "('BrDale', 225     21.0\n",
      "227     21.0\n",
      "232     21.0\n",
      "235     21.0\n",
      "363     21.0\n",
      "430     21.0\n",
      "432     24.0\n",
      "500     21.0\n",
      "654     21.0\n",
      "836     21.0\n",
      "1028    21.0\n",
      "1103    24.0\n",
      "1218    21.0\n",
      "1290    21.0\n",
      "1332    24.0\n",
      "1376    21.0\n",
      "1469    21.0\n",
      "1470    21.0\n",
      "1649    21.0\n",
      "1650    21.0\n",
      "1959    21.0\n",
      "1960    21.0\n",
      "1961    21.0\n",
      "2280    21.0\n",
      "2281    21.0\n",
      "2640    24.0\n",
      "2641    24.0\n",
      "2642    21.0\n",
      "2643    21.0\n",
      "2644    21.0\n",
      "Name: LotFrontage, dtype: float64)\n",
      "('BrkSide', 9       50.0\n",
      "15      51.0\n",
      "29      60.0\n",
      "51      52.0\n",
      "77      50.0\n",
      "146     51.0\n",
      "149      NaN\n",
      "184     92.0\n",
      "250     55.0\n",
      "275     55.0\n",
      "289     60.0\n",
      "328      NaN\n",
      "345     65.0\n",
      "361      NaN\n",
      "393      NaN\n",
      "437     50.0\n",
      "442     52.0\n",
      "459      NaN\n",
      "497     60.0\n",
      "522     50.0\n",
      "530     60.0\n",
      "532     50.0\n",
      "545     70.0\n",
      "554     58.0\n",
      "583     51.0\n",
      "585     55.0\n",
      "588     50.0\n",
      "635     51.0\n",
      "693     51.0\n",
      "695     50.0\n",
      "        ... \n",
      "2111    59.0\n",
      "2112    50.0\n",
      "2113    50.0\n",
      "2114    50.0\n",
      "2115    50.0\n",
      "2116    50.0\n",
      "2117    60.0\n",
      "2118    99.0\n",
      "2119    52.0\n",
      "2120     NaN\n",
      "2121    52.0\n",
      "2123    60.0\n",
      "2396    50.0\n",
      "2397    51.0\n",
      "2398    50.0\n",
      "2452    55.0\n",
      "2453    55.0\n",
      "2454    50.0\n",
      "2455    50.0\n",
      "2456    51.0\n",
      "2457     NaN\n",
      "2458    52.0\n",
      "2459    52.0\n",
      "2460    51.0\n",
      "2462    60.0\n",
      "2463    60.0\n",
      "2790    69.0\n",
      "2791    51.0\n",
      "2792    51.0\n",
      "2793    50.0\n",
      "Name: LotFrontage, Length: 108, dtype: float64)\n",
      "('ClearCr', 69       81.0\n",
      "120       NaN\n",
      "153       NaN\n",
      "166       NaN\n",
      "176      97.0\n",
      "249       NaN\n",
      "271      73.0\n",
      "279      83.0\n",
      "351       NaN\n",
      "358      92.0\n",
      "371      80.0\n",
      "384       NaN\n",
      "451      62.0\n",
      "457       NaN\n",
      "587      65.0\n",
      "681       NaN\n",
      "705       NaN\n",
      "788       NaN\n",
      "799      79.0\n",
      "817      80.0\n",
      "827       NaN\n",
      "847      75.0\n",
      "938       NaN\n",
      "1064     80.0\n",
      "1172    138.0\n",
      "1261      NaN\n",
      "1269      NaN\n",
      "1286      NaN\n",
      "1552    100.0\n",
      "1553     72.0\n",
      "1563      NaN\n",
      "1565      NaN\n",
      "1844      NaN\n",
      "1870      NaN\n",
      "2144      NaN\n",
      "2147     82.0\n",
      "2162      NaN\n",
      "2489      NaN\n",
      "2493    102.0\n",
      "2511    155.0\n",
      "2813      NaN\n",
      "2814     87.0\n",
      "2816      NaN\n",
      "2834     80.0\n",
      "Name: LotFrontage, dtype: float64)\n",
      "('CollgCr', 0        65.0\n",
      "2        68.0\n",
      "13       91.0\n",
      "22       75.0\n",
      "32       85.0\n",
      "36      112.0\n",
      "43        NaN\n",
      "57       89.0\n",
      "59       60.0\n",
      "64        NaN\n",
      "67       72.0\n",
      "89       60.0\n",
      "94       69.0\n",
      "96       78.0\n",
      "103      94.0\n",
      "112      77.0\n",
      "119      65.0\n",
      "138      73.0\n",
      "139      65.0\n",
      "141      78.0\n",
      "143      78.0\n",
      "150     120.0\n",
      "192      68.0\n",
      "194      60.0\n",
      "203       NaN\n",
      "213      43.0\n",
      "214       NaN\n",
      "216      65.0\n",
      "220      73.0\n",
      "233      75.0\n",
      "        ...  \n",
      "2538     64.0\n",
      "2539     64.0\n",
      "2827    133.0\n",
      "2828     64.0\n",
      "2829     90.0\n",
      "2830     78.0\n",
      "2831     91.0\n",
      "2832     78.0\n",
      "2833     78.0\n",
      "2835     95.0\n",
      "2836     65.0\n",
      "2837      NaN\n",
      "2838     68.0\n",
      "2839     72.0\n",
      "2840     50.0\n",
      "2841     42.0\n",
      "2842     60.0\n",
      "2843      NaN\n",
      "2844     45.0\n",
      "2845      NaN\n",
      "2846     70.0\n",
      "2847     67.0\n",
      "2848      NaN\n",
      "2849     90.0\n",
      "2850     90.0\n",
      "2851     37.0\n",
      "2852     70.0\n",
      "2853     74.0\n",
      "2854     70.0\n",
      "2855     65.0\n",
      "Name: LotFrontage, Length: 267, dtype: float64)\n",
      "('Crawfor', 3        60.0\n",
      "92       80.0\n",
      "113       NaN\n",
      "114      61.0\n",
      "181      54.0\n",
      "190      70.0\n",
      "218       NaN\n",
      "251      44.0\n",
      "299      80.0\n",
      "300      90.0\n",
      "407      63.0\n",
      "417      86.0\n",
      "438      40.0\n",
      "463      74.0\n",
      "503     100.0\n",
      "514      55.0\n",
      "519      53.0\n",
      "528       NaN\n",
      "597      80.0\n",
      "607      78.0\n",
      "656      60.0\n",
      "668      80.0\n",
      "672     110.0\n",
      "725       NaN\n",
      "851      53.0\n",
      "859      55.0\n",
      "906      86.0\n",
      "912      82.0\n",
      "954      82.0\n",
      "965     130.0\n",
      "        ...  \n",
      "2203     79.0\n",
      "2204    100.0\n",
      "2205     70.0\n",
      "2206     56.0\n",
      "2218     44.0\n",
      "2219     44.0\n",
      "2556     54.0\n",
      "2557     51.0\n",
      "2558     63.0\n",
      "2559     53.0\n",
      "2560     53.0\n",
      "2561     60.0\n",
      "2562    126.0\n",
      "2563    110.0\n",
      "2564     79.0\n",
      "2565      NaN\n",
      "2566      NaN\n",
      "2568      NaN\n",
      "2570      NaN\n",
      "2571     70.0\n",
      "2580     59.0\n",
      "2875     54.0\n",
      "2878     66.0\n",
      "2879     80.0\n",
      "2880     81.0\n",
      "2881     70.0\n",
      "2882     70.0\n",
      "2883     78.0\n",
      "2892     41.0\n",
      "2893     44.0\n",
      "Name: LotFrontage, Length: 103, dtype: float64)\n",
      "('Edwards', 39       65.0\n",
      "97       73.0\n",
      "98       85.0\n",
      "110      75.0\n",
      "117      74.0\n",
      "145      24.0\n",
      "155      60.0\n",
      "165      62.0\n",
      "175      84.0\n",
      "182      60.0\n",
      "193      24.0\n",
      "200      80.0\n",
      "210      67.0\n",
      "211      83.0\n",
      "239      52.0\n",
      "269       NaN\n",
      "292      60.0\n",
      "308       NaN\n",
      "352      60.0\n",
      "362      64.0\n",
      "375       NaN\n",
      "386      58.0\n",
      "387      72.0\n",
      "390      50.0\n",
      "395      68.0\n",
      "410      68.0\n",
      "418      60.0\n",
      "439      67.0\n",
      "441      92.0\n",
      "445      73.0\n",
      "        ...  \n",
      "2549     64.0\n",
      "2550     74.0\n",
      "2551     52.0\n",
      "2552     62.0\n",
      "2553     60.0\n",
      "2554     60.0\n",
      "2802     55.0\n",
      "2817     75.0\n",
      "2818     62.0\n",
      "2819    114.0\n",
      "2820     60.0\n",
      "2821     78.0\n",
      "2822     80.0\n",
      "2823     70.0\n",
      "2824     75.0\n",
      "2856     67.0\n",
      "2857     38.0\n",
      "2858     73.0\n",
      "2859     62.0\n",
      "2860     75.0\n",
      "2861     90.0\n",
      "2862     35.0\n",
      "2863     24.0\n",
      "2864     56.0\n",
      "2865     72.0\n",
      "2866     62.0\n",
      "2867     60.0\n",
      "2868     45.0\n",
      "2869     60.0\n",
      "2870     76.0\n",
      "Name: LotFrontage, Length: 192, dtype: float64)\n",
      "('Gilbert', 50        NaN\n",
      "72       74.0\n",
      "84        NaN\n",
      "86      122.0\n",
      "95        NaN\n",
      "111       NaN\n",
      "131       NaN\n",
      "147       NaN\n",
      "159     134.0\n",
      "168      62.0\n",
      "205      99.0\n",
      "221       NaN\n",
      "234       NaN\n",
      "255      66.0\n",
      "266      70.0\n",
      "277     140.0\n",
      "310       NaN\n",
      "315      71.0\n",
      "334      59.0\n",
      "356       NaN\n",
      "370       NaN\n",
      "379      60.0\n",
      "404       NaN\n",
      "411     100.0\n",
      "415      73.0\n",
      "433     100.0\n",
      "447       NaN\n",
      "492     105.0\n",
      "533      74.0\n",
      "543      58.0\n",
      "        ...  \n",
      "2310     65.0\n",
      "2311     58.0\n",
      "2312     62.0\n",
      "2313     63.0\n",
      "2314     88.0\n",
      "2315     72.0\n",
      "2316     64.0\n",
      "2317     64.0\n",
      "2320     65.0\n",
      "2321     87.0\n",
      "2322     59.0\n",
      "2323      NaN\n",
      "2324     63.0\n",
      "2325      NaN\n",
      "2326     58.0\n",
      "2327     59.0\n",
      "2617     60.0\n",
      "2618      NaN\n",
      "2619     54.0\n",
      "2620     50.0\n",
      "2621     42.0\n",
      "2623      NaN\n",
      "2664     65.0\n",
      "2665     65.0\n",
      "2666    102.0\n",
      "2667     96.0\n",
      "2668     75.0\n",
      "2673     59.0\n",
      "2674      NaN\n",
      "2675      NaN\n",
      "Name: LotFrontage, Length: 165, dtype: float64)\n",
      "('IDOTRR', 21       57.0\n",
      "30       50.0\n",
      "52      110.0\n",
      "61       60.0\n",
      "88      105.0\n",
      "104       NaN\n",
      "108      85.0\n",
      "121      50.0\n",
      "125      60.0\n",
      "268      71.0\n",
      "296      75.0\n",
      "307       NaN\n",
      "325      50.0\n",
      "329      60.0\n",
      "365      59.0\n",
      "398      60.0\n",
      "448      50.0\n",
      "495      60.0\n",
      "556      60.0\n",
      "600      50.0\n",
      "652      60.0\n",
      "704      70.0\n",
      "710      66.0\n",
      "728      52.0\n",
      "800      40.0\n",
      "811      66.0\n",
      "895      50.0\n",
      "915      50.0\n",
      "997      60.0\n",
      "1060    120.0\n",
      "        ...  \n",
      "2215     60.0\n",
      "2216     52.0\n",
      "2217     60.0\n",
      "2248      NaN\n",
      "2467    120.0\n",
      "2468     60.0\n",
      "2469     60.0\n",
      "2470     52.0\n",
      "2471     60.0\n",
      "2572     50.0\n",
      "2573     50.0\n",
      "2574     50.0\n",
      "2575     46.0\n",
      "2576     64.0\n",
      "2577     75.0\n",
      "2578     65.0\n",
      "2579     60.0\n",
      "2789     63.0\n",
      "2795     60.0\n",
      "2796     60.0\n",
      "2797     50.0\n",
      "2798     60.0\n",
      "2884     50.0\n",
      "2885     50.0\n",
      "2886     61.0\n",
      "2887     50.0\n",
      "2888     75.0\n",
      "2889     69.0\n",
      "2890     50.0\n",
      "2891     60.0\n",
      "Name: LotFrontage, Length: 93, dtype: float64)\n",
      "('MeadowV', 23      44.0\n",
      "75      21.0\n",
      "344     36.0\n",
      "357     44.0\n",
      "434     21.0\n",
      "489     21.0\n",
      "490      NaN\n",
      "613     21.0\n",
      "648     21.0\n",
      "914     21.0\n",
      "1006    21.0\n",
      "1037    21.0\n",
      "1038    21.0\n",
      "1067    42.0\n",
      "1085     NaN\n",
      "1365    41.0\n",
      "1447    21.0\n",
      "1611    31.0\n",
      "1612    21.0\n",
      "1613    21.0\n",
      "1614    21.0\n",
      "2239     NaN\n",
      "2240    41.0\n",
      "2241    21.0\n",
      "2242    21.0\n",
      "2244    21.0\n",
      "2599    21.0\n",
      "2600     NaN\n",
      "2601    21.0\n",
      "2602    21.0\n",
      "2904    41.0\n",
      "2907    21.0\n",
      "2908    21.0\n",
      "2910    21.0\n",
      "2911    21.0\n",
      "2912    21.0\n",
      "2913    21.0\n",
      "Name: LotFrontage, dtype: float64)\n",
      "('Mitchel', 5        85.0\n",
      "46       48.0\n",
      "71       69.0\n",
      "81       32.0\n",
      "137      82.0\n",
      "186       NaN\n",
      "201      75.0\n",
      "274      76.0\n",
      "276     129.0\n",
      "295      37.0\n",
      "360       NaN\n",
      "391      71.0\n",
      "420      78.0\n",
      "422     100.0\n",
      "454      63.0\n",
      "483      32.0\n",
      "513      71.0\n",
      "546      54.0\n",
      "560      77.0\n",
      "591      60.0\n",
      "612      70.0\n",
      "766      75.0\n",
      "774      32.0\n",
      "778      78.0\n",
      "782       NaN\n",
      "790       NaN\n",
      "816       NaN\n",
      "875      94.0\n",
      "907       NaN\n",
      "939      55.0\n",
      "        ...  \n",
      "2247     74.0\n",
      "2581      NaN\n",
      "2582     80.0\n",
      "2583     44.0\n",
      "2584      NaN\n",
      "2585      NaN\n",
      "2586     82.0\n",
      "2597    200.0\n",
      "2598     62.0\n",
      "2603     72.0\n",
      "2604      NaN\n",
      "2605     61.0\n",
      "2606     68.0\n",
      "2607     50.0\n",
      "2608    124.0\n",
      "2609      NaN\n",
      "2610     65.0\n",
      "2611     62.0\n",
      "2894     69.0\n",
      "2895     65.0\n",
      "2896     70.0\n",
      "2897    140.0\n",
      "2902    125.0\n",
      "2903     78.0\n",
      "2905     58.0\n",
      "2906      NaN\n",
      "2909     80.0\n",
      "2914    160.0\n",
      "2915     62.0\n",
      "2916     74.0\n",
      "Name: LotFrontage, Length: 114, dtype: float64)\n",
      "('NAmes', 14        NaN\n",
      "16        NaN\n",
      "19       70.0\n",
      "26       60.0\n",
      "28       47.0\n",
      "33       70.0\n",
      "37       74.0\n",
      "38       68.0\n",
      "40       84.0\n",
      "44       70.0\n",
      "54       60.0\n",
      "55      100.0\n",
      "66        NaN\n",
      "70       95.0\n",
      "73       85.0\n",
      "76        NaN\n",
      "80      100.0\n",
      "83       80.0\n",
      "90       60.0\n",
      "91       85.0\n",
      "99       77.0\n",
      "122      75.0\n",
      "128      69.0\n",
      "129      69.0\n",
      "130      88.0\n",
      "132      75.0\n",
      "136       NaN\n",
      "140      70.0\n",
      "142      71.0\n",
      "156      60.0\n",
      "        ...  \n",
      "2735      NaN\n",
      "2736      NaN\n",
      "2737    109.0\n",
      "2738     70.0\n",
      "2739      NaN\n",
      "2740    125.0\n",
      "2741     72.0\n",
      "2742     70.0\n",
      "2743     66.0\n",
      "2744     75.0\n",
      "2745     55.0\n",
      "2746     65.0\n",
      "2747     80.0\n",
      "2748     85.0\n",
      "2749    118.0\n",
      "2750     70.0\n",
      "2752     50.0\n",
      "2754     60.0\n",
      "2758     83.0\n",
      "2759     77.0\n",
      "2760     80.0\n",
      "2761     86.0\n",
      "2762      NaN\n",
      "2763     60.0\n",
      "2764     60.0\n",
      "2765     75.0\n",
      "2766     70.0\n",
      "2767     74.0\n",
      "2768     70.0\n",
      "2769     70.0\n",
      "Name: LotFrontage, Length: 443, dtype: float64)\n",
      "('NPkVill', 126      NaN\n",
      "195     24.0\n",
      "504     24.0\n",
      "549     53.0\n",
      "674     24.0\n",
      "961     24.0\n",
      "1159    24.0\n",
      "1419    53.0\n",
      "1429     NaN\n",
      "1471    24.0\n",
      "1472    24.0\n",
      "1651    24.0\n",
      "1652    24.0\n",
      "1653    24.0\n",
      "1654    24.0\n",
      "1655    24.0\n",
      "1656    24.0\n",
      "1962    24.0\n",
      "1963    24.0\n",
      "2282    24.0\n",
      "2645    53.0\n",
      "2647    24.0\n",
      "2648    24.0\n",
      "Name: LotFrontage, dtype: float64)\n",
      "('NWAmes', 7         NaN\n",
      "100       NaN\n",
      "109     105.0\n",
      "124      48.0\n",
      "135      80.0\n",
      "152       NaN\n",
      "222      85.0\n",
      "245      80.0\n",
      "265      78.0\n",
      "293       NaN\n",
      "298      90.0\n",
      "316      94.0\n",
      "319       NaN\n",
      "338      91.0\n",
      "364       NaN\n",
      "421       NaN\n",
      "455      80.0\n",
      "471      92.0\n",
      "487      70.0\n",
      "516       NaN\n",
      "541      78.0\n",
      "544       NaN\n",
      "610       NaN\n",
      "620      90.0\n",
      "623      80.0\n",
      "631      85.0\n",
      "642      80.0\n",
      "659       NaN\n",
      "700      80.0\n",
      "714      78.0\n",
      "        ...  \n",
      "2040      NaN\n",
      "2041     85.0\n",
      "2042      NaN\n",
      "2043     75.0\n",
      "2047      NaN\n",
      "2266      NaN\n",
      "2267     78.0\n",
      "2268     93.0\n",
      "2269     61.0\n",
      "2270     79.0\n",
      "2271     80.0\n",
      "2272    128.0\n",
      "2273     64.0\n",
      "2274     80.0\n",
      "2375     78.0\n",
      "2376     80.0\n",
      "2377      NaN\n",
      "2378    130.0\n",
      "2379    108.0\n",
      "2380     80.0\n",
      "2381     78.0\n",
      "2382     88.0\n",
      "2383     80.0\n",
      "2632      NaN\n",
      "2633     81.0\n",
      "2634      NaN\n",
      "2636     81.0\n",
      "2637     80.0\n",
      "2716     79.0\n",
      "2717     78.0\n",
      "Name: LotFrontage, Length: 131, dtype: float64)\n",
      "('NoRidge', 4        84.0\n",
      "85      121.0\n",
      "226      82.0\n",
      "231     174.0\n",
      "272      92.0\n",
      "318      90.0\n",
      "359      78.0\n",
      "403      93.0\n",
      "423      80.0\n",
      "496       NaN\n",
      "517      79.0\n",
      "523      95.0\n",
      "540       NaN\n",
      "563       NaN\n",
      "653      91.0\n",
      "660      52.0\n",
      "683      58.0\n",
      "690     104.0\n",
      "717      96.0\n",
      "747      59.0\n",
      "758      65.0\n",
      "762      82.0\n",
      "791      92.0\n",
      "980      98.0\n",
      "989      82.0\n",
      "1031      NaN\n",
      "1056      NaN\n",
      "1104     98.0\n",
      "1168    118.0\n",
      "1174     85.0\n",
      "        ...  \n",
      "1484     60.0\n",
      "1491     85.0\n",
      "1492     88.0\n",
      "1695    106.0\n",
      "1696      NaN\n",
      "1697     79.0\n",
      "1698      NaN\n",
      "1735      NaN\n",
      "1993     84.0\n",
      "1994      NaN\n",
      "1995    136.0\n",
      "1996     97.0\n",
      "1997      NaN\n",
      "1998     91.0\n",
      "2021      NaN\n",
      "2022    105.0\n",
      "2328    100.0\n",
      "2329     89.0\n",
      "2330     74.0\n",
      "2331     83.0\n",
      "2332     88.0\n",
      "2333     82.0\n",
      "2676     84.0\n",
      "2677     83.0\n",
      "2678      NaN\n",
      "2679     83.0\n",
      "2680    114.0\n",
      "2681      NaN\n",
      "2682      NaN\n",
      "2709    105.0\n",
      "Name: LotFrontage, Length: 71, dtype: float64)\n",
      "('NridgHt', 11       85.0\n",
      "20      101.0\n",
      "25      110.0\n",
      "27       98.0\n",
      "34       60.0\n",
      "35      108.0\n",
      "45       61.0\n",
      "62       44.0\n",
      "65       76.0\n",
      "151     107.0\n",
      "161     110.0\n",
      "162      95.0\n",
      "167      86.0\n",
      "199      76.0\n",
      "224     103.0\n",
      "238      93.0\n",
      "278     107.0\n",
      "282      34.0\n",
      "309      90.0\n",
      "320     111.0\n",
      "321      99.0\n",
      "332      85.0\n",
      "333      59.0\n",
      "343      63.0\n",
      "348      36.0\n",
      "349      56.0\n",
      "350      68.0\n",
      "389      96.0\n",
      "408     109.0\n",
      "440     105.0\n",
      "        ...  \n",
      "2294     82.0\n",
      "2295     94.0\n",
      "2296     99.0\n",
      "2297    110.0\n",
      "2298      NaN\n",
      "2299     70.0\n",
      "2300     71.0\n",
      "2301     92.0\n",
      "2302     34.0\n",
      "2303     34.0\n",
      "2304     41.0\n",
      "2305     34.0\n",
      "2306     48.0\n",
      "2307     48.0\n",
      "2308     48.0\n",
      "2649     72.0\n",
      "2650    110.0\n",
      "2651    108.0\n",
      "2652    120.0\n",
      "2653    120.0\n",
      "2654     82.0\n",
      "2655    103.0\n",
      "2656     82.0\n",
      "2657     82.0\n",
      "2658    121.0\n",
      "2659    131.0\n",
      "2660      NaN\n",
      "2661     48.0\n",
      "2662     61.0\n",
      "2663     48.0\n",
      "Name: LotFrontage, Length: 166, dtype: float64)\n",
      "('OldTown', 8       51.0\n",
      "48      33.0\n",
      "63      50.0\n",
      "68      47.0\n",
      "74      60.0\n",
      "79      60.0\n",
      "93      60.0\n",
      "106     60.0\n",
      "107     50.0\n",
      "127     55.0\n",
      "154     84.0\n",
      "163     55.0\n",
      "164     40.0\n",
      "170      NaN\n",
      "179     60.0\n",
      "183     63.0\n",
      "185     90.0\n",
      "187     60.0\n",
      "198     92.0\n",
      "202     50.0\n",
      "204     50.0\n",
      "217     57.0\n",
      "241     40.0\n",
      "242     63.0\n",
      "246     69.0\n",
      "259     70.0\n",
      "263     50.0\n",
      "264     30.0\n",
      "304     87.0\n",
      "312     65.0\n",
      "        ... \n",
      "2451    76.0\n",
      "2461    47.0\n",
      "2464     NaN\n",
      "2465    40.0\n",
      "2466    40.0\n",
      "2751    94.0\n",
      "2753    60.0\n",
      "2755    60.0\n",
      "2756    60.0\n",
      "2757    60.0\n",
      "2770    62.0\n",
      "2771    60.0\n",
      "2772    60.0\n",
      "2773    60.0\n",
      "2774    58.0\n",
      "2775    66.0\n",
      "2776    56.0\n",
      "2777    56.0\n",
      "2778    50.0\n",
      "2779    60.0\n",
      "2780    42.0\n",
      "2781    50.0\n",
      "2782    50.0\n",
      "2783    52.0\n",
      "2784    56.0\n",
      "2785    48.0\n",
      "2786    70.0\n",
      "2787    33.0\n",
      "2788    65.0\n",
      "2794    90.0\n",
      "Name: LotFrontage, Length: 239, dtype: float64)\n",
      "('SWISU', 267      60.0\n",
      "291      55.0\n",
      "354      60.0\n",
      "380      50.0\n",
      "406      51.0\n",
      "461      60.0\n",
      "564      66.0\n",
      "575      52.0\n",
      "634      60.0\n",
      "680      55.0\n",
      "798      60.0\n",
      "822      60.0\n",
      "839       NaN\n",
      "882      60.0\n",
      "1008     60.0\n",
      "1029      NaN\n",
      "1030    102.0\n",
      "1091     60.0\n",
      "1099     60.0\n",
      "1129     65.0\n",
      "1233     55.0\n",
      "1283     50.0\n",
      "1358     51.0\n",
      "1374     52.0\n",
      "1397     51.0\n",
      "1554     60.0\n",
      "1555     65.0\n",
      "1556      NaN\n",
      "1557     60.0\n",
      "1589     67.0\n",
      "1590      NaN\n",
      "1591     60.0\n",
      "1592     51.0\n",
      "1894     70.0\n",
      "1895     43.0\n",
      "2195     60.0\n",
      "2196     64.0\n",
      "2473     59.0\n",
      "2495     60.0\n",
      "2555     60.0\n",
      "2803     50.0\n",
      "2804     50.0\n",
      "2871     60.0\n",
      "2872     58.0\n",
      "2873     43.0\n",
      "2874     69.0\n",
      "2876     84.0\n",
      "2877     51.0\n",
      "Name: LotFrontage, dtype: float64)\n",
      "('Sawyer', 10       70.0\n",
      "12        NaN\n",
      "17       72.0\n",
      "24        NaN\n",
      "31        NaN\n",
      "49       66.0\n",
      "78       72.0\n",
      "116       NaN\n",
      "134      78.0\n",
      "144      70.0\n",
      "177       NaN\n",
      "206      40.0\n",
      "228      70.0\n",
      "262      88.0\n",
      "288       NaN\n",
      "402      60.0\n",
      "405       NaN\n",
      "416      74.0\n",
      "462      60.0\n",
      "475      80.0\n",
      "484       NaN\n",
      "498      65.0\n",
      "537       NaN\n",
      "559       NaN\n",
      "576      96.0\n",
      "586      74.0\n",
      "608      61.0\n",
      "621      71.0\n",
      "667       NaN\n",
      "678       NaN\n",
      "        ...  \n",
      "2480     86.0\n",
      "2481      NaN\n",
      "2482      NaN\n",
      "2483     81.0\n",
      "2484     99.0\n",
      "2485     70.0\n",
      "2486     91.0\n",
      "2487     85.0\n",
      "2488      NaN\n",
      "2699     70.0\n",
      "2700     68.0\n",
      "2701      NaN\n",
      "2702      NaN\n",
      "2703     65.0\n",
      "2704      NaN\n",
      "2705      NaN\n",
      "2706      NaN\n",
      "2707      NaN\n",
      "2799     82.0\n",
      "2800    120.0\n",
      "2801    100.0\n",
      "2805      NaN\n",
      "2806     80.0\n",
      "2807     75.0\n",
      "2808      NaN\n",
      "2809      NaN\n",
      "2810      NaN\n",
      "2811     75.0\n",
      "2812      NaN\n",
      "2815     72.0\n",
      "Name: LotFrontage, Length: 151, dtype: float64)\n",
      "('SawyerW', 18       66.0\n",
      "42        NaN\n",
      "60       63.0\n",
      "101      77.0\n",
      "102      64.0\n",
      "118      90.0\n",
      "123      55.0\n",
      "148      63.0\n",
      "188      64.0\n",
      "208       NaN\n",
      "237       NaN\n",
      "243      75.0\n",
      "244       NaN\n",
      "252      65.0\n",
      "280      82.0\n",
      "284      50.0\n",
      "306     116.0\n",
      "322      86.0\n",
      "341      60.0\n",
      "372      50.0\n",
      "383      60.0\n",
      "414      59.0\n",
      "426       NaN\n",
      "469      76.0\n",
      "506      80.0\n",
      "567      79.0\n",
      "601      80.0\n",
      "666      65.0\n",
      "679      50.0\n",
      "741      65.0\n",
      "        ...  \n",
      "2011     50.0\n",
      "2012     43.0\n",
      "2013     65.0\n",
      "2014     75.0\n",
      "2153      NaN\n",
      "2154     80.0\n",
      "2155      NaN\n",
      "2156     85.0\n",
      "2161      NaN\n",
      "2351     63.0\n",
      "2352     63.0\n",
      "2353     60.0\n",
      "2354     65.0\n",
      "2355      NaN\n",
      "2356     50.0\n",
      "2501    104.0\n",
      "2502     75.0\n",
      "2510      NaN\n",
      "2689     74.0\n",
      "2690     91.0\n",
      "2691     63.0\n",
      "2692     65.0\n",
      "2693     74.0\n",
      "2694     70.0\n",
      "2695     70.0\n",
      "2696     50.0\n",
      "2697     50.0\n",
      "2698      NaN\n",
      "2825     88.0\n",
      "2826     73.0\n",
      "Name: LotFrontage, Length: 125, dtype: float64)\n",
      "('Somerst', 6        75.0\n",
      "47       84.0\n",
      "56       24.0\n",
      "82       78.0\n",
      "87       40.0\n",
      "105      75.0\n",
      "115      34.0\n",
      "158     100.0\n",
      "180       NaN\n",
      "196      79.0\n",
      "212      72.0\n",
      "240      75.0\n",
      "256      64.0\n",
      "270      84.0\n",
      "281      60.0\n",
      "283      74.0\n",
      "285      35.0\n",
      "297      66.0\n",
      "317      75.0\n",
      "377     102.0\n",
      "381      60.0\n",
      "399      65.0\n",
      "409      85.0\n",
      "412       NaN\n",
      "453      75.0\n",
      "460      75.0\n",
      "501      75.0\n",
      "507      75.0\n",
      "524      62.0\n",
      "548      75.0\n",
      "        ...  \n",
      "2344     75.0\n",
      "2345     72.0\n",
      "2346     81.0\n",
      "2347    112.0\n",
      "2348     84.0\n",
      "2349    100.0\n",
      "2350     85.0\n",
      "2362     45.0\n",
      "2363     80.0\n",
      "2364     32.0\n",
      "2365     40.0\n",
      "2366     30.0\n",
      "2367     24.0\n",
      "2368     24.0\n",
      "2369     73.0\n",
      "2370      NaN\n",
      "2371    106.0\n",
      "2635     75.0\n",
      "2683     75.0\n",
      "2684     49.0\n",
      "2685     85.0\n",
      "2686     72.0\n",
      "2687    100.0\n",
      "2688     65.0\n",
      "2710     34.0\n",
      "2711     24.0\n",
      "2712      NaN\n",
      "2713      NaN\n",
      "2714    114.0\n",
      "2715     60.0\n",
      "Name: LotFrontage, Length: 182, dtype: float64)\n",
      "('StoneBr', 58       66.0\n",
      "172      44.0\n",
      "178      63.0\n",
      "189      41.0\n",
      "336      86.0\n",
      "378      88.0\n",
      "470       NaN\n",
      "474      41.0\n",
      "565      77.0\n",
      "594      69.0\n",
      "677      80.0\n",
      "684       NaN\n",
      "687      60.0\n",
      "701      82.0\n",
      "711      40.0\n",
      "719       NaN\n",
      "729      39.0\n",
      "743      41.0\n",
      "768      47.0\n",
      "1016      NaN\n",
      "1045     85.0\n",
      "1059     41.0\n",
      "1096      NaN\n",
      "1287     40.0\n",
      "1359    124.0\n",
      "1462     43.0\n",
      "1627     28.0\n",
      "1628     61.0\n",
      "1629     57.0\n",
      "1936     45.0\n",
      "1937     39.0\n",
      "1940     65.0\n",
      "1941    101.0\n",
      "1942     53.0\n",
      "1944     60.0\n",
      "2258     38.0\n",
      "2259     35.0\n",
      "2260     98.0\n",
      "2261     52.0\n",
      "2263     61.0\n",
      "2264     85.0\n",
      "2265     81.0\n",
      "2622     68.0\n",
      "2624     30.0\n",
      "2625     59.0\n",
      "2626     60.0\n",
      "2627     63.0\n",
      "2628     82.0\n",
      "2629     92.0\n",
      "2630     60.0\n",
      "2631     90.0\n",
      "Name: LotFrontage, dtype: float64)\n",
      "('Timber', 41      115.0\n",
      "133       NaN\n",
      "157      92.0\n",
      "169       NaN\n",
      "174      47.0\n",
      "313     150.0\n",
      "335       NaN\n",
      "340      85.0\n",
      "429     130.0\n",
      "452       NaN\n",
      "529      85.0\n",
      "539      85.0\n",
      "571      83.0\n",
      "584      88.0\n",
      "618      85.0\n",
      "691      42.0\n",
      "694      54.0\n",
      "699      85.0\n",
      "730      73.0\n",
      "865      67.0\n",
      "880      44.0\n",
      "929      73.0\n",
      "943       NaN\n",
      "946      85.0\n",
      "963      80.0\n",
      "1023      NaN\n",
      "1026     71.0\n",
      "1035     89.0\n",
      "1179      NaN\n",
      "1183     50.0\n",
      "        ...  \n",
      "1919     79.0\n",
      "1920      NaN\n",
      "1921    125.0\n",
      "1922     75.0\n",
      "1923     85.0\n",
      "2224     42.0\n",
      "2225     74.0\n",
      "2226    107.0\n",
      "2227     73.0\n",
      "2228     81.0\n",
      "2229     75.0\n",
      "2230     93.0\n",
      "2231     82.0\n",
      "2232      NaN\n",
      "2233     79.0\n",
      "2234     85.0\n",
      "2587     46.0\n",
      "2588    149.0\n",
      "2589     67.0\n",
      "2590     68.0\n",
      "2591     42.0\n",
      "2592      NaN\n",
      "2593     80.0\n",
      "2594      NaN\n",
      "2595      NaN\n",
      "2596     85.0\n",
      "2898      NaN\n",
      "2899      NaN\n",
      "2900     95.0\n",
      "2901     88.0\n",
      "Name: LotFrontage, Length: 72, dtype: float64)\n",
      "('Veenker', 1        80.0\n",
      "53       68.0\n",
      "160       NaN\n",
      "326      32.0\n",
      "400      38.0\n",
      "671       NaN\n",
      "763      30.0\n",
      "848      80.0\n",
      "1154     90.0\n",
      "1163      NaN\n",
      "1252      NaN\n",
      "1734      NaN\n",
      "1741      NaN\n",
      "1742    110.0\n",
      "1743     80.0\n",
      "2019     95.0\n",
      "2036     22.0\n",
      "2037      NaN\n",
      "2038    103.0\n",
      "2359      NaN\n",
      "2372     50.0\n",
      "2373     80.0\n",
      "2374     94.0\n",
      "2708    100.0\n",
      "Name: LotFrontage, dtype: float64)\n"
     ]
    }
   ],
   "source": [
    "for i in all_data.groupby('Neighborhood')['LotFrontage']:\n",
    "    print(i)"
   ]
  },
  {
   "cell_type": "code",
   "execution_count": 28,
   "metadata": {
    "ExecuteTime": {
     "end_time": "2021-12-06T07:24:00.238391Z",
     "start_time": "2021-12-06T07:24:00.191388Z"
    },
    "collapsed": true
   },
   "outputs": [],
   "source": [
    "all_data['PoolQC']=all_data['PoolQC'].fillna('None')\n",
    "all_data['MiscFeature']=all_data['MiscFeature'].fillna('None')\n",
    "all_data['Alley']=all_data['Alley'].fillna('None')\n",
    "all_data['Fence']=all_data['Fence'].fillna('None')\n",
    "all_data['FireplaceQu']=all_data['FireplaceQu'].fillna('None')\n",
    "all_data['LotFrontage']=all_data.groupby('Neighborhood')['LotFrontage'].transform(lambda x:x.fillna(x.median()))"
   ]
  },
  {
   "cell_type": "code",
   "execution_count": 29,
   "metadata": {
    "ExecuteTime": {
     "end_time": "2021-12-06T07:24:00.779422Z",
     "start_time": "2021-12-06T07:24:00.766421Z"
    },
    "collapsed": true
   },
   "outputs": [],
   "source": [
    "for col in ['GarageType','GarageFinish','GarageQual','GarageCond']:\n",
    "    all_data[col]=all_data[col].fillna('None')"
   ]
  },
  {
   "cell_type": "code",
   "execution_count": 30,
   "metadata": {
    "ExecuteTime": {
     "end_time": "2021-12-06T07:24:01.062438Z",
     "start_time": "2021-12-06T07:24:01.056437Z"
    },
    "collapsed": true
   },
   "outputs": [],
   "source": [
    "for col in ('GarageYrBlt', 'GarageArea', 'GarageCars'):\n",
    "    all_data[col] = all_data[col].fillna(0)"
   ]
  },
  {
   "cell_type": "code",
   "execution_count": 31,
   "metadata": {
    "ExecuteTime": {
     "end_time": "2021-12-06T07:24:01.344454Z",
     "start_time": "2021-12-06T07:24:01.332453Z"
    },
    "collapsed": true
   },
   "outputs": [],
   "source": [
    "for col in ('BsmtFinSF1', 'BsmtFinSF2', 'BsmtUnfSF','TotalBsmtSF', 'BsmtFullBath', 'BsmtHalfBath'):\n",
    "    all_data[col] = all_data[col].fillna(0)"
   ]
  },
  {
   "cell_type": "code",
   "execution_count": 32,
   "metadata": {
    "ExecuteTime": {
     "end_time": "2021-12-06T07:24:01.593468Z",
     "start_time": "2021-12-06T07:24:01.580467Z"
    },
    "collapsed": true
   },
   "outputs": [],
   "source": [
    "for col in ('BsmtQual', 'BsmtCond', 'BsmtExposure', 'BsmtFinType1', 'BsmtFinType2'):\n",
    "    all_data[col] = all_data[col].fillna('None')"
   ]
  },
  {
   "cell_type": "code",
   "execution_count": 33,
   "metadata": {
    "ExecuteTime": {
     "end_time": "2021-12-06T07:24:02.015492Z",
     "start_time": "2021-12-06T07:24:02.004492Z"
    },
    "collapsed": true
   },
   "outputs": [],
   "source": [
    "all_data[\"MasVnrType\"] = all_data[\"MasVnrType\"].fillna(\"None\")\n",
    "all_data[\"MasVnrArea\"] = all_data[\"MasVnrArea\"].fillna(0)"
   ]
  },
  {
   "cell_type": "code",
   "execution_count": 34,
   "metadata": {
    "ExecuteTime": {
     "end_time": "2021-12-06T07:24:02.255506Z",
     "start_time": "2021-12-06T07:24:02.248506Z"
    },
    "collapsed": true
   },
   "outputs": [],
   "source": [
    "all_data['MSZoning'] = all_data['MSZoning'].fillna(all_data['MSZoning'].mode()[0])"
   ]
  },
  {
   "cell_type": "code",
   "execution_count": 35,
   "metadata": {
    "ExecuteTime": {
     "end_time": "2021-12-06T07:24:02.609526Z",
     "start_time": "2021-12-06T07:24:02.601526Z"
    },
    "collapsed": true
   },
   "outputs": [],
   "source": [
    "all_data = all_data.drop(['Utilities'], axis=1)"
   ]
  },
  {
   "cell_type": "code",
   "execution_count": 36,
   "metadata": {
    "ExecuteTime": {
     "end_time": "2021-12-06T07:24:02.857540Z",
     "start_time": "2021-12-06T07:24:02.850540Z"
    },
    "collapsed": true
   },
   "outputs": [],
   "source": [
    "all_data[\"Functional\"] = all_data[\"Functional\"].fillna(\"Typ\")"
   ]
  },
  {
   "cell_type": "code",
   "execution_count": 37,
   "metadata": {
    "ExecuteTime": {
     "end_time": "2021-12-06T07:24:03.166558Z",
     "start_time": "2021-12-06T07:24:03.159558Z"
    },
    "collapsed": true
   },
   "outputs": [],
   "source": [
    "all_data['Electrical']=all_data['Electrical'].fillna(all_data['Electrical'].mode()[0])"
   ]
  },
  {
   "cell_type": "code",
   "execution_count": 38,
   "metadata": {
    "ExecuteTime": {
     "end_time": "2021-12-06T07:24:03.392571Z",
     "start_time": "2021-12-06T07:24:03.384571Z"
    },
    "collapsed": true
   },
   "outputs": [],
   "source": [
    "all_data['KitchenQual'] = all_data['KitchenQual'].fillna(all_data['KitchenQual'].mode()[0])"
   ]
  },
  {
   "cell_type": "code",
   "execution_count": 39,
   "metadata": {
    "ExecuteTime": {
     "end_time": "2021-12-06T07:24:03.591582Z",
     "start_time": "2021-12-06T07:24:03.578582Z"
    },
    "collapsed": true
   },
   "outputs": [],
   "source": [
    "all_data['Exterior1st'] = all_data['Exterior1st'].fillna(all_data['Exterior1st'].mode()[0])\n",
    "all_data['Exterior2nd'] = all_data['Exterior2nd'].fillna(all_data['Exterior2nd'].mode()[0])"
   ]
  },
  {
   "cell_type": "code",
   "execution_count": 40,
   "metadata": {
    "ExecuteTime": {
     "end_time": "2021-12-06T07:24:03.802595Z",
     "start_time": "2021-12-06T07:24:03.790594Z"
    },
    "collapsed": true
   },
   "outputs": [],
   "source": [
    "all_data['SaleType'] = all_data['SaleType'].fillna(all_data['SaleType'].mode()[0])\n",
    "all_data['MSSubClass'] = all_data['MSSubClass'].fillna(\"None\")"
   ]
  },
  {
   "cell_type": "code",
   "execution_count": 41,
   "metadata": {
    "ExecuteTime": {
     "end_time": "2021-12-06T07:24:04.233619Z",
     "start_time": "2021-12-06T07:24:04.202617Z"
    }
   },
   "outputs": [
    {
     "data": {
      "text/html": [
       "<div>\n",
       "<style>\n",
       "    .dataframe thead tr:only-child th {\n",
       "        text-align: right;\n",
       "    }\n",
       "\n",
       "    .dataframe thead th {\n",
       "        text-align: left;\n",
       "    }\n",
       "\n",
       "    .dataframe tbody tr th {\n",
       "        vertical-align: top;\n",
       "    }\n",
       "</style>\n",
       "<table border=\"1\" class=\"dataframe\">\n",
       "  <thead>\n",
       "    <tr style=\"text-align: right;\">\n",
       "      <th></th>\n",
       "      <th>Missing Ratio</th>\n",
       "    </tr>\n",
       "  </thead>\n",
       "  <tbody>\n",
       "  </tbody>\n",
       "</table>\n",
       "</div>"
      ],
      "text/plain": [
       "Empty DataFrame\n",
       "Columns: [Missing Ratio]\n",
       "Index: []"
      ]
     },
     "execution_count": 41,
     "metadata": {},
     "output_type": "execute_result"
    }
   ],
   "source": [
    "all_data_na=(all_data.isnull().sum())/len(all_data) * 100\n",
    "all_data_na=all_data_na.drop(all_data_na[all_data_na==0].index).sort_values(ascending=False)\n",
    "miss_data=pd.DataFrame({'Missing Ratio':all_data_na})\n",
    "miss_data.head()"
   ]
  },
  {
   "cell_type": "code",
   "execution_count": 42,
   "metadata": {
    "ExecuteTime": {
     "end_time": "2021-12-06T07:24:04.549637Z",
     "start_time": "2021-12-06T07:24:04.543637Z"
    }
   },
   "outputs": [
    {
     "data": {
      "text/plain": [
       "dtype('int64')"
      ]
     },
     "execution_count": 42,
     "metadata": {},
     "output_type": "execute_result"
    }
   ],
   "source": [
    "all_data['MSSubClass'].dtype"
   ]
  },
  {
   "cell_type": "code",
   "execution_count": 43,
   "metadata": {
    "ExecuteTime": {
     "end_time": "2021-12-06T07:24:05.192674Z",
     "start_time": "2021-12-06T07:24:05.182673Z"
    },
    "collapsed": true
   },
   "outputs": [],
   "source": [
    "all_data['MSSubClass']=all_data['MSSubClass'].apply(str)"
   ]
  },
  {
   "cell_type": "code",
   "execution_count": 44,
   "metadata": {
    "ExecuteTime": {
     "end_time": "2021-12-06T07:24:05.585696Z",
     "start_time": "2021-12-06T07:24:05.578696Z"
    }
   },
   "outputs": [
    {
     "data": {
      "text/plain": [
       "dtype('O')"
      ]
     },
     "execution_count": 44,
     "metadata": {},
     "output_type": "execute_result"
    }
   ],
   "source": [
    "all_data['MSSubClass'].dtype"
   ]
  },
  {
   "cell_type": "code",
   "execution_count": 45,
   "metadata": {
    "ExecuteTime": {
     "end_time": "2021-12-06T07:24:05.835711Z",
     "start_time": "2021-12-06T07:24:05.825710Z"
    },
    "collapsed": true
   },
   "outputs": [],
   "source": [
    "all_data['OverallCond'] = all_data['OverallCond'].astype(str)"
   ]
  },
  {
   "cell_type": "code",
   "execution_count": 46,
   "metadata": {
    "ExecuteTime": {
     "end_time": "2021-12-06T07:24:06.345740Z",
     "start_time": "2021-12-06T07:24:06.323739Z"
    },
    "collapsed": true
   },
   "outputs": [],
   "source": [
    "all_data['YrSold'] = all_data['YrSold'].astype(str)\n",
    "all_data['MoSold'] = all_data['MoSold'].astype(str)"
   ]
  },
  {
   "cell_type": "code",
   "execution_count": 47,
   "metadata": {
    "ExecuteTime": {
     "end_time": "2021-12-06T07:24:06.711761Z",
     "start_time": "2021-12-06T07:24:06.616755Z"
    },
    "collapsed": true
   },
   "outputs": [],
   "source": [
    "from sklearn.preprocessing import LabelEncoder\n",
    "cols = ('FireplaceQu', 'BsmtQual', 'BsmtCond', 'GarageQual', 'GarageCond',\n",
    "        'ExterQual', 'ExterCond', 'HeatingQC', 'PoolQC', 'KitchenQual',\n",
    "        'BsmtFinType1', 'BsmtFinType2', 'Functional', 'Fence', 'BsmtExposure',\n",
    "        'GarageFinish', 'LandSlope', 'LotShape', 'PavedDrive', 'Street',\n",
    "        'Alley', 'CentralAir', 'MSSubClass', 'OverallCond', 'YrSold', 'MoSold')\n",
    "for c in cols:\n",
    "    lbl=LabelEncoder()\n",
    "    lbl.fit(list(all_data[c].values))\n",
    "    all_data[c]=lbl.transform(list(all_data[c].values))"
   ]
  },
  {
   "cell_type": "code",
   "execution_count": 48,
   "metadata": {
    "ExecuteTime": {
     "end_time": "2021-12-06T07:24:07.591811Z",
     "start_time": "2021-12-06T07:24:07.582811Z"
    }
   },
   "outputs": [
    {
     "data": {
      "text/plain": [
       "(2917, 78)"
      ]
     },
     "execution_count": 48,
     "metadata": {},
     "output_type": "execute_result"
    }
   ],
   "source": [
    "all_data.shape"
   ]
  },
  {
   "cell_type": "code",
   "execution_count": 49,
   "metadata": {
    "ExecuteTime": {
     "end_time": "2021-12-06T07:24:07.854826Z",
     "start_time": "2021-12-06T07:24:07.849826Z"
    },
    "collapsed": true
   },
   "outputs": [],
   "source": [
    "all_data['TotalSF']=all_data['TotalBsmtSF']+all_data['1stFlrSF']+all_data['2ndFlrSF']"
   ]
  },
  {
   "cell_type": "markdown",
   "metadata": {},
   "source": [
    "- skewed features"
   ]
  },
  {
   "cell_type": "code",
   "execution_count": 50,
   "metadata": {
    "ExecuteTime": {
     "end_time": "2021-12-06T07:24:11.285022Z",
     "start_time": "2021-12-06T07:24:11.206018Z"
    }
   },
   "outputs": [
    {
     "data": {
      "text/html": [
       "<div>\n",
       "<style>\n",
       "    .dataframe thead tr:only-child th {\n",
       "        text-align: right;\n",
       "    }\n",
       "\n",
       "    .dataframe thead th {\n",
       "        text-align: left;\n",
       "    }\n",
       "\n",
       "    .dataframe tbody tr th {\n",
       "        vertical-align: top;\n",
       "    }\n",
       "</style>\n",
       "<table border=\"1\" class=\"dataframe\">\n",
       "  <thead>\n",
       "    <tr style=\"text-align: right;\">\n",
       "      <th></th>\n",
       "      <th>Skew</th>\n",
       "      <th>kurt</th>\n",
       "    </tr>\n",
       "  </thead>\n",
       "  <tbody>\n",
       "    <tr>\n",
       "      <th>1stFlrSF</th>\n",
       "      <td>1.257286</td>\n",
       "      <td>5.075293</td>\n",
       "    </tr>\n",
       "    <tr>\n",
       "      <th>2ndFlrSF</th>\n",
       "      <td>0.861556</td>\n",
       "      <td>-0.424185</td>\n",
       "    </tr>\n",
       "    <tr>\n",
       "      <th>3SsnPorch</th>\n",
       "      <td>11.372080</td>\n",
       "      <td>149.304586</td>\n",
       "    </tr>\n",
       "    <tr>\n",
       "      <th>Alley</th>\n",
       "      <td>-0.651705</td>\n",
       "      <td>11.682122</td>\n",
       "    </tr>\n",
       "    <tr>\n",
       "      <th>BedroomAbvGr</th>\n",
       "      <td>0.326568</td>\n",
       "      <td>1.938367</td>\n",
       "    </tr>\n",
       "    <tr>\n",
       "      <th>BsmtCond</th>\n",
       "      <td>-2.861271</td>\n",
       "      <td>6.739601</td>\n",
       "    </tr>\n",
       "    <tr>\n",
       "      <th>BsmtExposure</th>\n",
       "      <td>-1.117321</td>\n",
       "      <td>-0.229041</td>\n",
       "    </tr>\n",
       "    <tr>\n",
       "      <th>BsmtFinSF1</th>\n",
       "      <td>0.980645</td>\n",
       "      <td>1.427134</td>\n",
       "    </tr>\n",
       "    <tr>\n",
       "      <th>BsmtFinSF2</th>\n",
       "      <td>4.144503</td>\n",
       "      <td>18.828682</td>\n",
       "    </tr>\n",
       "    <tr>\n",
       "      <th>BsmtFinType1</th>\n",
       "      <td>0.083641</td>\n",
       "      <td>-1.509954</td>\n",
       "    </tr>\n",
       "    <tr>\n",
       "      <th>BsmtFinType2</th>\n",
       "      <td>-3.042979</td>\n",
       "      <td>8.492985</td>\n",
       "    </tr>\n",
       "    <tr>\n",
       "      <th>BsmtFullBath</th>\n",
       "      <td>0.622415</td>\n",
       "      <td>-0.744953</td>\n",
       "    </tr>\n",
       "    <tr>\n",
       "      <th>BsmtHalfBath</th>\n",
       "      <td>3.929996</td>\n",
       "      <td>14.848079</td>\n",
       "    </tr>\n",
       "    <tr>\n",
       "      <th>BsmtQual</th>\n",
       "      <td>-0.488362</td>\n",
       "      <td>-0.763472</td>\n",
       "    </tr>\n",
       "    <tr>\n",
       "      <th>BsmtUnfSF</th>\n",
       "      <td>0.919688</td>\n",
       "      <td>0.403042</td>\n",
       "    </tr>\n",
       "    <tr>\n",
       "      <th>CentralAir</th>\n",
       "      <td>-3.457555</td>\n",
       "      <td>9.973829</td>\n",
       "    </tr>\n",
       "    <tr>\n",
       "      <th>EnclosedPorch</th>\n",
       "      <td>4.002344</td>\n",
       "      <td>28.358039</td>\n",
       "    </tr>\n",
       "    <tr>\n",
       "      <th>ExterCond</th>\n",
       "      <td>-2.496489</td>\n",
       "      <td>5.087119</td>\n",
       "    </tr>\n",
       "    <tr>\n",
       "      <th>ExterQual</th>\n",
       "      <td>-1.800062</td>\n",
       "      <td>3.714240</td>\n",
       "    </tr>\n",
       "    <tr>\n",
       "      <th>Fence</th>\n",
       "      <td>-1.992649</td>\n",
       "      <td>2.729468</td>\n",
       "    </tr>\n",
       "    <tr>\n",
       "      <th>FireplaceQu</th>\n",
       "      <td>0.332611</td>\n",
       "      <td>-0.128128</td>\n",
       "    </tr>\n",
       "    <tr>\n",
       "      <th>Fireplaces</th>\n",
       "      <td>0.725278</td>\n",
       "      <td>0.042528</td>\n",
       "    </tr>\n",
       "    <tr>\n",
       "      <th>FullBath</th>\n",
       "      <td>0.165514</td>\n",
       "      <td>-0.542292</td>\n",
       "    </tr>\n",
       "    <tr>\n",
       "      <th>Functional</th>\n",
       "      <td>-4.054126</td>\n",
       "      <td>16.246057</td>\n",
       "    </tr>\n",
       "    <tr>\n",
       "      <th>GarageArea</th>\n",
       "      <td>0.216857</td>\n",
       "      <td>0.864865</td>\n",
       "    </tr>\n",
       "    <tr>\n",
       "      <th>GarageCars</th>\n",
       "      <td>-0.219297</td>\n",
       "      <td>0.237463</td>\n",
       "    </tr>\n",
       "    <tr>\n",
       "      <th>GarageCond</th>\n",
       "      <td>-3.594290</td>\n",
       "      <td>12.535629</td>\n",
       "    </tr>\n",
       "    <tr>\n",
       "      <th>GarageFinish</th>\n",
       "      <td>-0.609953</td>\n",
       "      <td>-1.202340</td>\n",
       "    </tr>\n",
       "    <tr>\n",
       "      <th>GarageQual</th>\n",
       "      <td>-3.072788</td>\n",
       "      <td>8.363702</td>\n",
       "    </tr>\n",
       "    <tr>\n",
       "      <th>GarageYrBlt</th>\n",
       "      <td>-3.904632</td>\n",
       "      <td>13.329408</td>\n",
       "    </tr>\n",
       "    <tr>\n",
       "      <th>GrLivArea</th>\n",
       "      <td>1.068750</td>\n",
       "      <td>2.456625</td>\n",
       "    </tr>\n",
       "    <tr>\n",
       "      <th>HalfBath</th>\n",
       "      <td>0.696666</td>\n",
       "      <td>-1.029920</td>\n",
       "    </tr>\n",
       "    <tr>\n",
       "      <th>HeatingQC</th>\n",
       "      <td>0.485534</td>\n",
       "      <td>-1.513904</td>\n",
       "    </tr>\n",
       "    <tr>\n",
       "      <th>KitchenAbvGr</th>\n",
       "      <td>4.300550</td>\n",
       "      <td>19.761245</td>\n",
       "    </tr>\n",
       "    <tr>\n",
       "      <th>KitchenQual</th>\n",
       "      <td>-1.449814</td>\n",
       "      <td>1.788621</td>\n",
       "    </tr>\n",
       "    <tr>\n",
       "      <th>LandSlope</th>\n",
       "      <td>4.973254</td>\n",
       "      <td>26.554072</td>\n",
       "    </tr>\n",
       "    <tr>\n",
       "      <th>LotArea</th>\n",
       "      <td>13.109495</td>\n",
       "      <td>275.639934</td>\n",
       "    </tr>\n",
       "    <tr>\n",
       "      <th>LotFrontage</th>\n",
       "      <td>1.103039</td>\n",
       "      <td>8.526250</td>\n",
       "    </tr>\n",
       "    <tr>\n",
       "      <th>LotShape</th>\n",
       "      <td>-0.618564</td>\n",
       "      <td>-1.587718</td>\n",
       "    </tr>\n",
       "    <tr>\n",
       "      <th>LowQualFinSF</th>\n",
       "      <td>12.084539</td>\n",
       "      <td>174.810242</td>\n",
       "    </tr>\n",
       "    <tr>\n",
       "      <th>MSSubClass</th>\n",
       "      <td>0.139709</td>\n",
       "      <td>-0.538833</td>\n",
       "    </tr>\n",
       "    <tr>\n",
       "      <th>MasVnrArea</th>\n",
       "      <td>2.621719</td>\n",
       "      <td>9.457156</td>\n",
       "    </tr>\n",
       "    <tr>\n",
       "      <th>MiscVal</th>\n",
       "      <td>21.939672</td>\n",
       "      <td>563.687542</td>\n",
       "    </tr>\n",
       "    <tr>\n",
       "      <th>MoSold</th>\n",
       "      <td>-0.646173</td>\n",
       "      <td>-0.505847</td>\n",
       "    </tr>\n",
       "    <tr>\n",
       "      <th>OpenPorchSF</th>\n",
       "      <td>2.529358</td>\n",
       "      <td>11.021266</td>\n",
       "    </tr>\n",
       "    <tr>\n",
       "      <th>OverallCond</th>\n",
       "      <td>0.569314</td>\n",
       "      <td>1.477121</td>\n",
       "    </tr>\n",
       "    <tr>\n",
       "      <th>OverallQual</th>\n",
       "      <td>0.189591</td>\n",
       "      <td>0.058122</td>\n",
       "    </tr>\n",
       "    <tr>\n",
       "      <th>PavedDrive</th>\n",
       "      <td>-2.977741</td>\n",
       "      <td>7.117720</td>\n",
       "    </tr>\n",
       "    <tr>\n",
       "      <th>PoolArea</th>\n",
       "      <td>17.688664</td>\n",
       "      <td>327.027992</td>\n",
       "    </tr>\n",
       "    <tr>\n",
       "      <th>PoolQC</th>\n",
       "      <td>-21.217600</td>\n",
       "      <td>469.999104</td>\n",
       "    </tr>\n",
       "    <tr>\n",
       "      <th>ScreenPorch</th>\n",
       "      <td>3.945101</td>\n",
       "      <td>17.761714</td>\n",
       "    </tr>\n",
       "    <tr>\n",
       "      <th>Street</th>\n",
       "      <td>-15.494756</td>\n",
       "      <td>238.498131</td>\n",
       "    </tr>\n",
       "    <tr>\n",
       "      <th>TotRmsAbvGrd</th>\n",
       "      <td>0.749232</td>\n",
       "      <td>1.154277</td>\n",
       "    </tr>\n",
       "    <tr>\n",
       "      <th>TotalBsmtSF</th>\n",
       "      <td>0.671751</td>\n",
       "      <td>3.711566</td>\n",
       "    </tr>\n",
       "    <tr>\n",
       "      <th>TotalSF</th>\n",
       "      <td>1.009157</td>\n",
       "      <td>4.142056</td>\n",
       "    </tr>\n",
       "    <tr>\n",
       "      <th>WoodDeckSF</th>\n",
       "      <td>1.844792</td>\n",
       "      <td>6.750566</td>\n",
       "    </tr>\n",
       "    <tr>\n",
       "      <th>YearBuilt</th>\n",
       "      <td>-0.599194</td>\n",
       "      <td>-0.511514</td>\n",
       "    </tr>\n",
       "    <tr>\n",
       "      <th>YearRemodAdd</th>\n",
       "      <td>-0.450134</td>\n",
       "      <td>-1.347186</td>\n",
       "    </tr>\n",
       "    <tr>\n",
       "      <th>YrSold</th>\n",
       "      <td>0.131996</td>\n",
       "      <td>-1.156047</td>\n",
       "    </tr>\n",
       "  </tbody>\n",
       "</table>\n",
       "</div>"
      ],
      "text/plain": [
       "                    Skew        kurt\n",
       "1stFlrSF        1.257286    5.075293\n",
       "2ndFlrSF        0.861556   -0.424185\n",
       "3SsnPorch      11.372080  149.304586\n",
       "Alley          -0.651705   11.682122\n",
       "BedroomAbvGr    0.326568    1.938367\n",
       "BsmtCond       -2.861271    6.739601\n",
       "BsmtExposure   -1.117321   -0.229041\n",
       "BsmtFinSF1      0.980645    1.427134\n",
       "BsmtFinSF2      4.144503   18.828682\n",
       "BsmtFinType1    0.083641   -1.509954\n",
       "BsmtFinType2   -3.042979    8.492985\n",
       "BsmtFullBath    0.622415   -0.744953\n",
       "BsmtHalfBath    3.929996   14.848079\n",
       "BsmtQual       -0.488362   -0.763472\n",
       "BsmtUnfSF       0.919688    0.403042\n",
       "CentralAir     -3.457555    9.973829\n",
       "EnclosedPorch   4.002344   28.358039\n",
       "ExterCond      -2.496489    5.087119\n",
       "ExterQual      -1.800062    3.714240\n",
       "Fence          -1.992649    2.729468\n",
       "FireplaceQu     0.332611   -0.128128\n",
       "Fireplaces      0.725278    0.042528\n",
       "FullBath        0.165514   -0.542292\n",
       "Functional     -4.054126   16.246057\n",
       "GarageArea      0.216857    0.864865\n",
       "GarageCars     -0.219297    0.237463\n",
       "GarageCond     -3.594290   12.535629\n",
       "GarageFinish   -0.609953   -1.202340\n",
       "GarageQual     -3.072788    8.363702\n",
       "GarageYrBlt    -3.904632   13.329408\n",
       "GrLivArea       1.068750    2.456625\n",
       "HalfBath        0.696666   -1.029920\n",
       "HeatingQC       0.485534   -1.513904\n",
       "KitchenAbvGr    4.300550   19.761245\n",
       "KitchenQual    -1.449814    1.788621\n",
       "LandSlope       4.973254   26.554072\n",
       "LotArea        13.109495  275.639934\n",
       "LotFrontage     1.103039    8.526250\n",
       "LotShape       -0.618564   -1.587718\n",
       "LowQualFinSF   12.084539  174.810242\n",
       "MSSubClass      0.139709   -0.538833\n",
       "MasVnrArea      2.621719    9.457156\n",
       "MiscVal        21.939672  563.687542\n",
       "MoSold         -0.646173   -0.505847\n",
       "OpenPorchSF     2.529358   11.021266\n",
       "OverallCond     0.569314    1.477121\n",
       "OverallQual     0.189591    0.058122\n",
       "PavedDrive     -2.977741    7.117720\n",
       "PoolArea       17.688664  327.027992\n",
       "PoolQC        -21.217600  469.999104\n",
       "ScreenPorch     3.945101   17.761714\n",
       "Street        -15.494756  238.498131\n",
       "TotRmsAbvGrd    0.749232    1.154277\n",
       "TotalBsmtSF     0.671751    3.711566\n",
       "TotalSF         1.009157    4.142056\n",
       "WoodDeckSF      1.844792    6.750566\n",
       "YearBuilt      -0.599194   -0.511514\n",
       "YearRemodAdd   -0.450134   -1.347186\n",
       "YrSold          0.131996   -1.156047"
      ]
     },
     "execution_count": 50,
     "metadata": {},
     "output_type": "execute_result"
    }
   ],
   "source": [
    "numeric_feats=all_data.dtypes[all_data.dtypes != 'object'].index\n",
    "skewed_feats=all_data[numeric_feats].apply(lambda x : skew(x.dropna())).sort_values(ascending=False)\n",
    "skewness=pd.DataFrame({'Skew':skewed_feats,'kurt':all_data[numeric_feats].kurt()})\n",
    "skewness"
   ]
  },
  {
   "cell_type": "markdown",
   "metadata": {
    "ExecuteTime": {
     "end_time": "2021-11-23T10:02:54.948218Z",
     "start_time": "2021-11-23T10:02:54.938217Z"
    }
   },
   "source": [
    "- get abs(skew ) > 0.75"
   ]
  },
  {
   "cell_type": "code",
   "execution_count": 51,
   "metadata": {
    "ExecuteTime": {
     "end_time": "2021-12-06T07:24:22.830683Z",
     "start_time": "2021-12-06T07:24:22.797681Z"
    }
   },
   "outputs": [
    {
     "data": {
      "text/html": [
       "<div>\n",
       "<style>\n",
       "    .dataframe thead tr:only-child th {\n",
       "        text-align: right;\n",
       "    }\n",
       "\n",
       "    .dataframe thead th {\n",
       "        text-align: left;\n",
       "    }\n",
       "\n",
       "    .dataframe tbody tr th {\n",
       "        vertical-align: top;\n",
       "    }\n",
       "</style>\n",
       "<table border=\"1\" class=\"dataframe\">\n",
       "  <thead>\n",
       "    <tr style=\"text-align: right;\">\n",
       "      <th></th>\n",
       "      <th>Skew</th>\n",
       "      <th>kurt</th>\n",
       "    </tr>\n",
       "  </thead>\n",
       "  <tbody>\n",
       "    <tr>\n",
       "      <th>1stFlrSF</th>\n",
       "      <td>1.257286</td>\n",
       "      <td>5.075293</td>\n",
       "    </tr>\n",
       "    <tr>\n",
       "      <th>2ndFlrSF</th>\n",
       "      <td>0.861556</td>\n",
       "      <td>-0.424185</td>\n",
       "    </tr>\n",
       "    <tr>\n",
       "      <th>3SsnPorch</th>\n",
       "      <td>11.372080</td>\n",
       "      <td>149.304586</td>\n",
       "    </tr>\n",
       "    <tr>\n",
       "      <th>Alley</th>\n",
       "      <td>-0.651705</td>\n",
       "      <td>11.682122</td>\n",
       "    </tr>\n",
       "    <tr>\n",
       "      <th>BedroomAbvGr</th>\n",
       "      <td>0.326568</td>\n",
       "      <td>1.938367</td>\n",
       "    </tr>\n",
       "    <tr>\n",
       "      <th>BsmtCond</th>\n",
       "      <td>-2.861271</td>\n",
       "      <td>6.739601</td>\n",
       "    </tr>\n",
       "    <tr>\n",
       "      <th>BsmtExposure</th>\n",
       "      <td>-1.117321</td>\n",
       "      <td>-0.229041</td>\n",
       "    </tr>\n",
       "    <tr>\n",
       "      <th>BsmtFinSF1</th>\n",
       "      <td>0.980645</td>\n",
       "      <td>1.427134</td>\n",
       "    </tr>\n",
       "    <tr>\n",
       "      <th>BsmtFinSF2</th>\n",
       "      <td>4.144503</td>\n",
       "      <td>18.828682</td>\n",
       "    </tr>\n",
       "    <tr>\n",
       "      <th>BsmtFinType1</th>\n",
       "      <td>0.083641</td>\n",
       "      <td>-1.509954</td>\n",
       "    </tr>\n",
       "    <tr>\n",
       "      <th>BsmtFinType2</th>\n",
       "      <td>-3.042979</td>\n",
       "      <td>8.492985</td>\n",
       "    </tr>\n",
       "    <tr>\n",
       "      <th>BsmtFullBath</th>\n",
       "      <td>0.622415</td>\n",
       "      <td>-0.744953</td>\n",
       "    </tr>\n",
       "    <tr>\n",
       "      <th>BsmtHalfBath</th>\n",
       "      <td>3.929996</td>\n",
       "      <td>14.848079</td>\n",
       "    </tr>\n",
       "    <tr>\n",
       "      <th>BsmtQual</th>\n",
       "      <td>-0.488362</td>\n",
       "      <td>-0.763472</td>\n",
       "    </tr>\n",
       "    <tr>\n",
       "      <th>BsmtUnfSF</th>\n",
       "      <td>0.919688</td>\n",
       "      <td>0.403042</td>\n",
       "    </tr>\n",
       "    <tr>\n",
       "      <th>CentralAir</th>\n",
       "      <td>-3.457555</td>\n",
       "      <td>9.973829</td>\n",
       "    </tr>\n",
       "    <tr>\n",
       "      <th>EnclosedPorch</th>\n",
       "      <td>4.002344</td>\n",
       "      <td>28.358039</td>\n",
       "    </tr>\n",
       "    <tr>\n",
       "      <th>ExterCond</th>\n",
       "      <td>-2.496489</td>\n",
       "      <td>5.087119</td>\n",
       "    </tr>\n",
       "    <tr>\n",
       "      <th>ExterQual</th>\n",
       "      <td>-1.800062</td>\n",
       "      <td>3.714240</td>\n",
       "    </tr>\n",
       "    <tr>\n",
       "      <th>Fence</th>\n",
       "      <td>-1.992649</td>\n",
       "      <td>2.729468</td>\n",
       "    </tr>\n",
       "    <tr>\n",
       "      <th>FireplaceQu</th>\n",
       "      <td>0.332611</td>\n",
       "      <td>-0.128128</td>\n",
       "    </tr>\n",
       "    <tr>\n",
       "      <th>Fireplaces</th>\n",
       "      <td>0.725278</td>\n",
       "      <td>0.042528</td>\n",
       "    </tr>\n",
       "    <tr>\n",
       "      <th>FullBath</th>\n",
       "      <td>0.165514</td>\n",
       "      <td>-0.542292</td>\n",
       "    </tr>\n",
       "    <tr>\n",
       "      <th>Functional</th>\n",
       "      <td>-4.054126</td>\n",
       "      <td>16.246057</td>\n",
       "    </tr>\n",
       "    <tr>\n",
       "      <th>GarageArea</th>\n",
       "      <td>0.216857</td>\n",
       "      <td>0.864865</td>\n",
       "    </tr>\n",
       "    <tr>\n",
       "      <th>GarageCars</th>\n",
       "      <td>-0.219297</td>\n",
       "      <td>0.237463</td>\n",
       "    </tr>\n",
       "    <tr>\n",
       "      <th>GarageCond</th>\n",
       "      <td>-3.594290</td>\n",
       "      <td>12.535629</td>\n",
       "    </tr>\n",
       "    <tr>\n",
       "      <th>GarageFinish</th>\n",
       "      <td>-0.609953</td>\n",
       "      <td>-1.202340</td>\n",
       "    </tr>\n",
       "    <tr>\n",
       "      <th>GarageQual</th>\n",
       "      <td>-3.072788</td>\n",
       "      <td>8.363702</td>\n",
       "    </tr>\n",
       "    <tr>\n",
       "      <th>GarageYrBlt</th>\n",
       "      <td>-3.904632</td>\n",
       "      <td>13.329408</td>\n",
       "    </tr>\n",
       "    <tr>\n",
       "      <th>GrLivArea</th>\n",
       "      <td>1.068750</td>\n",
       "      <td>2.456625</td>\n",
       "    </tr>\n",
       "    <tr>\n",
       "      <th>HalfBath</th>\n",
       "      <td>0.696666</td>\n",
       "      <td>-1.029920</td>\n",
       "    </tr>\n",
       "    <tr>\n",
       "      <th>HeatingQC</th>\n",
       "      <td>0.485534</td>\n",
       "      <td>-1.513904</td>\n",
       "    </tr>\n",
       "    <tr>\n",
       "      <th>KitchenAbvGr</th>\n",
       "      <td>4.300550</td>\n",
       "      <td>19.761245</td>\n",
       "    </tr>\n",
       "    <tr>\n",
       "      <th>KitchenQual</th>\n",
       "      <td>-1.449814</td>\n",
       "      <td>1.788621</td>\n",
       "    </tr>\n",
       "    <tr>\n",
       "      <th>LandSlope</th>\n",
       "      <td>4.973254</td>\n",
       "      <td>26.554072</td>\n",
       "    </tr>\n",
       "    <tr>\n",
       "      <th>LotArea</th>\n",
       "      <td>13.109495</td>\n",
       "      <td>275.639934</td>\n",
       "    </tr>\n",
       "    <tr>\n",
       "      <th>LotFrontage</th>\n",
       "      <td>1.103039</td>\n",
       "      <td>8.526250</td>\n",
       "    </tr>\n",
       "    <tr>\n",
       "      <th>LotShape</th>\n",
       "      <td>-0.618564</td>\n",
       "      <td>-1.587718</td>\n",
       "    </tr>\n",
       "    <tr>\n",
       "      <th>LowQualFinSF</th>\n",
       "      <td>12.084539</td>\n",
       "      <td>174.810242</td>\n",
       "    </tr>\n",
       "    <tr>\n",
       "      <th>MSSubClass</th>\n",
       "      <td>0.139709</td>\n",
       "      <td>-0.538833</td>\n",
       "    </tr>\n",
       "    <tr>\n",
       "      <th>MasVnrArea</th>\n",
       "      <td>2.621719</td>\n",
       "      <td>9.457156</td>\n",
       "    </tr>\n",
       "    <tr>\n",
       "      <th>MiscVal</th>\n",
       "      <td>21.939672</td>\n",
       "      <td>563.687542</td>\n",
       "    </tr>\n",
       "    <tr>\n",
       "      <th>MoSold</th>\n",
       "      <td>-0.646173</td>\n",
       "      <td>-0.505847</td>\n",
       "    </tr>\n",
       "    <tr>\n",
       "      <th>OpenPorchSF</th>\n",
       "      <td>2.529358</td>\n",
       "      <td>11.021266</td>\n",
       "    </tr>\n",
       "    <tr>\n",
       "      <th>OverallCond</th>\n",
       "      <td>0.569314</td>\n",
       "      <td>1.477121</td>\n",
       "    </tr>\n",
       "    <tr>\n",
       "      <th>OverallQual</th>\n",
       "      <td>0.189591</td>\n",
       "      <td>0.058122</td>\n",
       "    </tr>\n",
       "    <tr>\n",
       "      <th>PavedDrive</th>\n",
       "      <td>-2.977741</td>\n",
       "      <td>7.117720</td>\n",
       "    </tr>\n",
       "    <tr>\n",
       "      <th>PoolArea</th>\n",
       "      <td>17.688664</td>\n",
       "      <td>327.027992</td>\n",
       "    </tr>\n",
       "    <tr>\n",
       "      <th>PoolQC</th>\n",
       "      <td>-21.217600</td>\n",
       "      <td>469.999104</td>\n",
       "    </tr>\n",
       "    <tr>\n",
       "      <th>ScreenPorch</th>\n",
       "      <td>3.945101</td>\n",
       "      <td>17.761714</td>\n",
       "    </tr>\n",
       "    <tr>\n",
       "      <th>Street</th>\n",
       "      <td>-15.494756</td>\n",
       "      <td>238.498131</td>\n",
       "    </tr>\n",
       "    <tr>\n",
       "      <th>TotRmsAbvGrd</th>\n",
       "      <td>0.749232</td>\n",
       "      <td>1.154277</td>\n",
       "    </tr>\n",
       "    <tr>\n",
       "      <th>TotalBsmtSF</th>\n",
       "      <td>0.671751</td>\n",
       "      <td>3.711566</td>\n",
       "    </tr>\n",
       "    <tr>\n",
       "      <th>TotalSF</th>\n",
       "      <td>1.009157</td>\n",
       "      <td>4.142056</td>\n",
       "    </tr>\n",
       "    <tr>\n",
       "      <th>WoodDeckSF</th>\n",
       "      <td>1.844792</td>\n",
       "      <td>6.750566</td>\n",
       "    </tr>\n",
       "    <tr>\n",
       "      <th>YearBuilt</th>\n",
       "      <td>-0.599194</td>\n",
       "      <td>-0.511514</td>\n",
       "    </tr>\n",
       "    <tr>\n",
       "      <th>YearRemodAdd</th>\n",
       "      <td>-0.450134</td>\n",
       "      <td>-1.347186</td>\n",
       "    </tr>\n",
       "    <tr>\n",
       "      <th>YrSold</th>\n",
       "      <td>0.131996</td>\n",
       "      <td>-1.156047</td>\n",
       "    </tr>\n",
       "  </tbody>\n",
       "</table>\n",
       "</div>"
      ],
      "text/plain": [
       "                    Skew        kurt\n",
       "1stFlrSF        1.257286    5.075293\n",
       "2ndFlrSF        0.861556   -0.424185\n",
       "3SsnPorch      11.372080  149.304586\n",
       "Alley          -0.651705   11.682122\n",
       "BedroomAbvGr    0.326568    1.938367\n",
       "BsmtCond       -2.861271    6.739601\n",
       "BsmtExposure   -1.117321   -0.229041\n",
       "BsmtFinSF1      0.980645    1.427134\n",
       "BsmtFinSF2      4.144503   18.828682\n",
       "BsmtFinType1    0.083641   -1.509954\n",
       "BsmtFinType2   -3.042979    8.492985\n",
       "BsmtFullBath    0.622415   -0.744953\n",
       "BsmtHalfBath    3.929996   14.848079\n",
       "BsmtQual       -0.488362   -0.763472\n",
       "BsmtUnfSF       0.919688    0.403042\n",
       "CentralAir     -3.457555    9.973829\n",
       "EnclosedPorch   4.002344   28.358039\n",
       "ExterCond      -2.496489    5.087119\n",
       "ExterQual      -1.800062    3.714240\n",
       "Fence          -1.992649    2.729468\n",
       "FireplaceQu     0.332611   -0.128128\n",
       "Fireplaces      0.725278    0.042528\n",
       "FullBath        0.165514   -0.542292\n",
       "Functional     -4.054126   16.246057\n",
       "GarageArea      0.216857    0.864865\n",
       "GarageCars     -0.219297    0.237463\n",
       "GarageCond     -3.594290   12.535629\n",
       "GarageFinish   -0.609953   -1.202340\n",
       "GarageQual     -3.072788    8.363702\n",
       "GarageYrBlt    -3.904632   13.329408\n",
       "GrLivArea       1.068750    2.456625\n",
       "HalfBath        0.696666   -1.029920\n",
       "HeatingQC       0.485534   -1.513904\n",
       "KitchenAbvGr    4.300550   19.761245\n",
       "KitchenQual    -1.449814    1.788621\n",
       "LandSlope       4.973254   26.554072\n",
       "LotArea        13.109495  275.639934\n",
       "LotFrontage     1.103039    8.526250\n",
       "LotShape       -0.618564   -1.587718\n",
       "LowQualFinSF   12.084539  174.810242\n",
       "MSSubClass      0.139709   -0.538833\n",
       "MasVnrArea      2.621719    9.457156\n",
       "MiscVal        21.939672  563.687542\n",
       "MoSold         -0.646173   -0.505847\n",
       "OpenPorchSF     2.529358   11.021266\n",
       "OverallCond     0.569314    1.477121\n",
       "OverallQual     0.189591    0.058122\n",
       "PavedDrive     -2.977741    7.117720\n",
       "PoolArea       17.688664  327.027992\n",
       "PoolQC        -21.217600  469.999104\n",
       "ScreenPorch     3.945101   17.761714\n",
       "Street        -15.494756  238.498131\n",
       "TotRmsAbvGrd    0.749232    1.154277\n",
       "TotalBsmtSF     0.671751    3.711566\n",
       "TotalSF         1.009157    4.142056\n",
       "WoodDeckSF      1.844792    6.750566\n",
       "YearBuilt      -0.599194   -0.511514\n",
       "YearRemodAdd   -0.450134   -1.347186\n",
       "YrSold          0.131996   -1.156047"
      ]
     },
     "execution_count": 51,
     "metadata": {},
     "output_type": "execute_result"
    }
   ],
   "source": [
    "skewness"
   ]
  },
  {
   "cell_type": "code",
   "execution_count": 55,
   "metadata": {
    "ExecuteTime": {
     "end_time": "2021-12-06T07:25:11.868488Z",
     "start_time": "2021-12-06T07:25:11.859487Z"
    },
    "collapsed": true
   },
   "outputs": [],
   "source": [
    "skewness=skewness[abs(skewness['Skew'])>0.75]"
   ]
  },
  {
   "cell_type": "code",
   "execution_count": 56,
   "metadata": {
    "ExecuteTime": {
     "end_time": "2021-12-06T07:25:12.551527Z",
     "start_time": "2021-12-06T07:25:12.544526Z"
    },
    "collapsed": true
   },
   "outputs": [],
   "source": [
    "from scipy.special import boxcox1p\n",
    "from scipy.stats import boxcox,boxcox_normmax"
   ]
  },
  {
   "cell_type": "code",
   "execution_count": 57,
   "metadata": {
    "ExecuteTime": {
     "end_time": "2021-12-06T07:25:42.871261Z",
     "start_time": "2021-12-06T07:25:42.570244Z"
    }
   },
   "outputs": [
    {
     "name": "stdout",
     "output_type": "stream",
     "text": [
      "1stFlrSF -----skew: [1.25728598 5.07529277] -----lm: -0.03890776331837051 kurt : 5.075292766543552\n",
      "2ndFlrSF -----skew: [ 0.86155552 -0.42418458] -----lm: 1.0317215975523517 kurt : -0.4241845756906404\n",
      "3SsnPorch -----skew: [ 11.37207993 149.30458575] -----lm: 0.0701437654661614 kurt : 149.3045857509312\n",
      "BsmtCond -----skew: [-2.86127142  6.73960113] -----lm: 1.6190843743095362 kurt : 6.739601130805046\n",
      "BsmtExposure -----skew: [-1.11732123 -0.22904084] -----lm: 2.6925156702400868 kurt : -0.22904083970559252\n",
      "BsmtFinSF1 -----skew: [0.98064459 1.42713428] -----lm: 0.7060356810946441 kurt : 1.4271342763364538\n",
      "BsmtFinSF2 -----skew: [ 4.14450336 18.82868204] -----lm: 0.16704477665499903 kurt : 18.82868204421994\n",
      "BsmtFinType2 -----skew: [-3.04297932  8.49298479] -----lm: 4.8223572696308326 kurt : 8.492984788152512\n",
      "BsmtHalfBath -----skew: [ 3.92999597 14.84807931] -----lm: 0.07264586855126172 kurt : 14.848079309450544\n",
      "BsmtUnfSF -----skew: [0.91968821 0.40304222] -----lm: 0.5806040340318408 kurt : 0.40304222405318013\n",
      "CentralAir -----skew: [-3.45755483  9.97382944] -----lm: 12.310709345590197 kurt : 9.973829441496473\n",
      "EnclosedPorch -----skew: [ 4.00234409 28.35803934] -----lm: 0.3258432881427254 kurt : 28.358039340513397\n",
      "ExterCond -----skew: [-2.49648923  5.08711944] -----lm: 1.234645784837228 kurt : 5.087119438945684\n",
      "ExterQual -----skew: [-1.80006232  3.71423987] -----lm: 2.4176183215718337 kurt : 3.7142398734729216\n",
      "Fence -----skew: [-1.99264928  2.72946833] -----lm: 1.5141839393775127 kurt : 2.7294683311129173\n",
      "Functional -----skew: [-4.05412621 16.24605738] -----lm: 2.1663868896203584 kurt : 16.246057375040227\n",
      "GarageCond -----skew: [-3.59428981 12.53562925] -----lm: 2.932938711307115 kurt : 12.53562924845717\n",
      "GarageQual -----skew: [-3.07278781  8.36370212] -----lm: 2.6812738008409704 kurt : 8.363702117955015\n",
      "GarageYrBlt -----skew: [-3.90463233 13.32940796] -----lm: 17.615988174882116 kurt : 13.32940796399005\n",
      "GrLivArea -----skew: [1.06875039 2.45662496] -----lm: 0.03036654794796508 kurt : 2.456624960606021\n",
      "KitchenAbvGr -----skew: [ 4.30055011 19.7612447 ] -----lm: 0.2281310475189893 kurt : 19.76124470144685\n",
      "KitchenQual -----skew: [-1.4498143   1.78862139] -----lm: 2.3168108148873556 kurt : 1.7886213894990952\n",
      "LandSlope -----skew: [ 4.97325361 26.55407154] -----lm: -0.6069157851779312 kurt : 26.554071538041427\n",
      "LotArea -----skew: [ 13.10949469 275.63993367] -----lm: 0.08821182373699077 kurt : 275.6399336668142\n",
      "LotFrontage -----skew: [1.1030386  8.52624992] -----lm: 0.585499510848653 kurt : 8.526249921946555\n",
      "LowQualFinSF -----skew: [ 12.0845388  174.81024207] -----lm: -0.07663224690203845 kurt : 174.81024206510563\n",
      "MasVnrArea -----skew: [2.6217193  9.45715646] -----lm: 0.418769251495698 kurt : 9.45715646084648\n",
      "MiscVal -----skew: [ 21.93967217 563.68754249] -----lm: 0.01726260601513818 kurt : 563.6875424902938\n",
      "OpenPorchSF -----skew: [ 2.5293582  11.02126568] -----lm: 0.45209346897143926 kurt : 11.021265680446987\n",
      "PavedDrive -----skew: [-2.97774105  7.11772047] -----lm: 3.2309038157759935 kurt : 7.117720468479129\n",
      "PoolArea -----skew: [ 17.68866449 327.02799181] -----lm: -0.04560524017392778 kurt : 327.02799181324275\n",
      "PoolQC -----skew: [-21.2175999 469.9991039] -----lm: 7.589761030457849 kurt : 469.9991039026789\n",
      "ScreenPorch -----skew: [ 3.94510123 17.76171373] -----lm: 0.4855404906678094 kurt : 17.76171372916757\n",
      "Street -----skew: [-15.49475602 238.49813141] -----lm: -1.2288406604490234 kurt : 238.498131406872\n",
      "TotalSF -----skew: [1.00915662 4.14205558] -----lm: 0.32085865458145313 kurt : 4.142055583390736\n",
      "WoodDeckSF -----skew: [1.84479163 6.75056627] -----lm: 0.6307651224816825 kurt : 6.7505662692782815\n"
     ]
    }
   ],
   "source": [
    "for i in range(len(skewness)):\n",
    "    print(skewness.index[i],'-----skew:',skewness.values[i],'-----lm:',boxcox_normmax(all_data[skewness.index[i]]+1),'kurt :',all_data[skewness.index[i]].kurt())\n",
    "    "
   ]
  },
  {
   "cell_type": "markdown",
   "metadata": {
    "ExecuteTime": {
     "end_time": "2021-11-24T10:10:59.460785Z",
     "start_time": "2021-11-24T10:10:59.450784Z"
    }
   },
   "source": [
    "- - change fixed lam=0.15 to different lam"
   ]
  },
  {
   "cell_type": "code",
   "execution_count": 58,
   "metadata": {
    "ExecuteTime": {
     "end_time": "2021-12-06T07:25:54.931951Z",
     "start_time": "2021-12-06T07:25:54.633934Z"
    }
   },
   "outputs": [
    {
     "name": "stdout",
     "output_type": "stream",
     "text": [
      "1stFlrSF  skew :  -0.007826213842105453 lm:  -0.03890776331837051 --------- kurt :  0.03729062705093167\n",
      "2ndFlrSF  skew :  0.8959137713038372 lm:  1.0317215975523517 --------- kurt :  -0.3063433190568423\n",
      "3SsnPorch  skew :  8.866604745584935 lm:  0.0701437654661614 --------- kurt :  77.44835335490302\n",
      "BsmtCond  skew :  -2.7211286231667544 lm:  1.6190843743095362 --------- kurt :  5.713869342020861\n",
      "BsmtExposure  skew :  -0.45328966252678377 lm:  2.6925156702400868 --------- kurt :  -0.37707525935216335\n",
      "BsmtFinSF1  skew :  0.36617452563554187 lm:  0.7060356810946441 --------- kurt :  -0.750143358453887\n",
      "BsmtFinSF2  skew :  2.5796555076069794 lm:  0.16704477665499903 --------- kurt :  5.035592905404351\n",
      "BsmtFinType2  skew :  -2.208379138933882 lm:  4.8223572696308326 --------- kurt :  3.12639681834567\n",
      "BsmtHalfBath  skew :  3.781379040015204 lm:  0.07264586855126172 --------- kurt :  12.67040103504985\n",
      "BsmtUnfSF  skew :  0.05422301845805017 lm:  0.5806040340318408 --------- kurt :  -0.45501871084510315\n",
      "CentralAir  skew :  -3.459333966871139 lm:  12.310709345590197 --------- kurt :  9.97382944149646\n",
      "EnclosedPorch  skew :  2.150238390447717 lm:  0.3258432881427254 --------- kurt :  3.103666976214887\n",
      "ExterCond  skew :  -2.4287488664850043 lm:  1.234645784837228 --------- kurt :  4.524460786504467\n",
      "ExterQual  skew :  -0.8779568691328831 lm:  2.4176183215718337 --------- kurt :  -0.4266384619825381\n",
      "Fence  skew :  -1.8102311283259376 lm:  1.5141839393775127 --------- kurt :  1.7339797072156848\n",
      "Functional  skew :  -3.635170499572799 lm:  2.1663868896203584 --------- kurt :  11.708152853854958\n",
      "GarageCond  skew :  -3.0393824206504787 lm:  2.932938711307115 --------- kurt :  7.649600155938203\n",
      "GarageQual  skew :  -2.6985624042761502 lm:  2.6812738008409704 --------- kurt :  5.614996850179556\n",
      "GarageYrBlt  skew :  0.70216183973505 lm:  17.615988174882116 --------- kurt :  36.64469357021151\n",
      "GrLivArea  skew :  0.008827236314304985 lm:  0.03036654794796508 --------- kurt :  0.09747234953941808\n",
      "KitchenAbvGr  skew :  3.7802803523895316 lm:  0.2281310475189893 --------- kurt :  19.423306963080087\n",
      "KitchenQual  skew :  -0.6110947338784443 lm:  2.3168108148873556 --------- kurt :  -0.7428351989587965\n",
      "LandSlope  skew :  4.351383029211436 lm:  -0.6069157851779312 --------- kurt :  17.525851050348518\n",
      "LotArea  skew :  -0.1381879564428451 lm:  0.08821182373699077 --------- kurt :  4.598907612688393\n",
      "LotFrontage  skew :  0.059219252085715685 lm:  0.585499510848653 --------- kurt :  3.0550980084375974\n",
      "LowQualFinSF  skew :  8.496985049185197 lm:  -0.07663224690203845 --------- kurt :  70.90416276366484\n",
      "MasVnrArea  skew :  0.9781212035362987 lm:  0.418769251495698 --------- kurt :  -0.30568854767593745\n",
      "MiscVal  skew :  5.240677880926141 lm:  0.01726260601513818 --------- kurt :  26.369462109699857\n",
      "OpenPorchSF  skew :  0.6215506585669698 lm:  0.45209346897143926 --------- kurt :  -0.4652822628838784\n",
      "PavedDrive  skew :  -2.8175530822856345 lm:  3.2309038157759935 --------- kurt :  6.047510943399996\n",
      "PoolArea  skew :  15.603081171171576 lm:  -0.04560524017392778 --------- kurt :  242.53611998011863\n",
      "PoolQC  skew :  -18.006830280130284 lm:  7.589761030457849 --------- kurt :  323.3487658120699\n",
      "ScreenPorch  skew :  3.1542537045412042 lm:  0.4855404906678094 --------- kurt :  8.615382885435018\n",
      "Street  skew :  -15.50272908075184 lm:  -1.2288406604490234 --------- kurt :  238.49813140687175\n",
      "TotalSF  skew :  0.02847921258980583 lm:  0.32085865458145313 --------- kurt :  0.9253997998877854\n",
      "WoodDeckSF  skew :  0.7859542826491521 lm:  0.6307651224816825 --------- kurt :  -0.19358538403889503\n"
     ]
    }
   ],
   "source": [
    "skewed_feats=skewness.index\n",
    "for feat in skewed_feats:\n",
    "    lm=boxcox_normmax(all_data[feat]+1)\n",
    "    all_data[feat]=boxcox1p(all_data[feat],lm)\n",
    "    print(feat,' skew : ', all_data[feat].skew(),'lm: ',lm,'---------','kurt : ',all_data[feat].kurt())"
   ]
  },
  {
   "cell_type": "code",
   "execution_count": 59,
   "metadata": {
    "ExecuteTime": {
     "end_time": "2021-12-06T07:26:35.213255Z",
     "start_time": "2021-12-06T07:26:34.945239Z"
    }
   },
   "outputs": [
    {
     "name": "stdout",
     "output_type": "stream",
     "text": [
      "1stFlrSF -----skew: [1.25728598 5.07529277] -----lm: 1.0143825000402447\n",
      "2ndFlrSF -----skew: [ 0.86155552 -0.42418458] -----lm: 1.0000044937889796\n",
      "3SsnPorch -----skew: [ 11.37207993 149.30458575] -----lm: 0.9274480468821471\n",
      "BsmtCond -----skew: [-2.86127142  6.73960113] -----lm: 1.0127787899006315\n",
      "BsmtExposure -----skew: [-1.11732123 -0.22904084] -----lm: 1.0176715012600075\n",
      "BsmtFinSF1 -----skew: [0.98064459 1.42713428] -----lm: 0.999064837484709\n",
      "BsmtFinSF2 -----skew: [ 4.14450336 18.82868204] -----lm: 0.9644408839557721\n",
      "BsmtFinType2 -----skew: [-3.04297932  8.49298479] -----lm: 1.002778709827105\n",
      "BsmtHalfBath -----skew: [ 3.92999597 14.84807931] -----lm: 1.0000003768467427\n",
      "BsmtUnfSF -----skew: [0.91968821 0.40304222] -----lm: 0.9997207341790258\n",
      "CentralAir -----skew: [-3.45755483  9.97382944] -----lm: -4.472157577133573\n",
      "EnclosedPorch -----skew: [ 4.00234409 28.35803934] -----lm: 0.9851771165653529\n",
      "ExterCond -----skew: [-2.49648923  5.08711944] -----lm: 1.000754159974327\n",
      "ExterQual -----skew: [-1.80006232  3.71423987] -----lm: 1.0001474351911077\n",
      "Fence -----skew: [-1.99264928  2.72946833] -----lm: 1.0033720384474023\n",
      "Functional -----skew: [-4.05412621 16.24605738] -----lm: 1.0127398708910358\n",
      "GarageCond -----skew: [-3.59428981 12.53562925] -----lm: 1.0036210444420073\n",
      "GarageQual -----skew: [-3.07278781  8.36370212] -----lm: 1.00379889063515\n",
      "GarageYrBlt -----skew: [-3.90463233 13.32940796] -----lm: 1.0000000065291081\n",
      "GrLivArea -----skew: [1.06875039 2.45662496] -----lm: 1.0120989200808415\n",
      "KitchenAbvGr -----skew: [ 4.30055011 19.7612447 ] -----lm: 1.0106780122839967\n",
      "KitchenQual -----skew: [-1.4498143   1.78862139] -----lm: 1.0007023652939997\n",
      "LandSlope -----skew: [ 4.97325361 26.55407154] -----lm: 1.0000000574226207\n",
      "LotArea -----skew: [ 13.10949469 275.63993367] -----lm: 1.0537982157185641\n",
      "LotFrontage -----skew: [1.1030386  8.52624992] -----lm: 1.0036978852811715\n",
      "LowQualFinSF -----skew: [ 12.0845388  174.81024207] -----lm: 0.9429896317430237\n",
      "MasVnrArea -----skew: [2.6217193  9.45715646] -----lm: 0.9946265422189557\n",
      "MiscVal -----skew: [ 21.93967217 563.68754249] -----lm: 0.992237701100203\n",
      "OpenPorchSF -----skew: [ 2.5293582  11.02126568] -----lm: 1.0006198496802428\n",
      "PavedDrive -----skew: [-2.97774105  7.11772047] -----lm: 0.9999999971700827\n",
      "PoolArea -----skew: [ 17.68866449 327.02799181] -----lm: 0.9551685591092508\n",
      "PoolQC -----skew: [-21.2175999 469.9991039] -----lm: 1.0006484870411445\n",
      "ScreenPorch -----skew: [ 3.94510123 17.76171373] -----lm: 0.9979192914442713\n",
      "Street -----skew: [-15.49475602 238.49813141] -----lm: -2.124611759957325\n",
      "TotalSF -----skew: [1.00915662 4.14205558] -----lm: 1.0038945044367653\n",
      "WoodDeckSF -----skew: [1.84479163 6.75056627] -----lm: 0.9998105303222092\n"
     ]
    },
    {
     "name": "stderr",
     "output_type": "stream",
     "text": [
      "D:\\ProgramData\\Anaconda3\\lib\\site-packages\\scipy\\stats\\stats.py:3018: RuntimeWarning: invalid value encountered in subtract\n",
      "  xm, ym = x - mx, y - my\n",
      "D:\\ProgramData\\Anaconda3\\lib\\site-packages\\scipy\\stats\\stats.py:5277: RuntimeWarning: invalid value encountered in less\n",
      "  x = np.where(x < 1.0, x, 1.0)  # if x > 1 then return 1.0\n",
      "D:\\ProgramData\\Anaconda3\\lib\\site-packages\\scipy\\stats\\stats.py:5438: RuntimeWarning: overflow encountered in multiply\n",
      "  return np.sum(a*a, axis)\n"
     ]
    }
   ],
   "source": [
    "for i in range(len(skewness)):\n",
    "    print(skewness.index[i],'-----skew:',skewness.values[i],'-----lm:',boxcox_normmax(all_data[skewness.index[i]]+1))"
   ]
  },
  {
   "cell_type": "code",
   "execution_count": 60,
   "metadata": {
    "ExecuteTime": {
     "end_time": "2021-12-06T07:26:39.068475Z",
     "start_time": "2021-12-06T07:26:38.793459Z"
    }
   },
   "outputs": [
    {
     "name": "stdout",
     "output_type": "stream",
     "text": [
      "1stFlrSF  skew :  -0.006255450675372226 lm:  1.0149866462920527 --------- kurt :  0.03729039859086081\n",
      "2ndFlrSF  skew :  0.8960689587616563 lm:  1.000138790973803 --------- kurt :  -0.30579645624251306\n",
      "3SsnPorch  skew :  8.85458217855458 lm:  0.9322067533800326 --------- kurt :  77.17198706197541\n",
      "BsmtCond  skew :  -2.7114109482897932 lm:  1.041947512736244 --------- kurt :  5.644925697461173\n",
      "BsmtExposure  skew :  -0.408613782100056 lm:  1.0365004521797931 --------- kurt :  -0.3175371936502782\n",
      "BsmtFinSF1  skew :  0.36774990366892424 lm:  1.001159858178507 --------- kurt :  -0.7467721388666195\n",
      "BsmtFinSF2  skew :  2.5717408758206513 lm:  0.9717535112144385 --------- kurt :  4.981901956197101\n",
      "BsmtFinType2  skew :  -2.2065980105723932 lm:  1.0055212251182786 --------- kurt :  3.116743934963151\n",
      "BsmtHalfBath  skew :  3.781379086112784 lm:  1.0000007795300778 --------- kurt :  12.670401652503969\n",
      "BsmtUnfSF  skew :  0.05437903181079886 lm:  1.0000976616522792 --------- kurt :  -0.45503592103798685\n",
      "CentralAir  skew :  -3.4593339668711383 lm:  2.4721359496879995 --------- kurt :  9.973829441496452\n",
      "EnclosedPorch  skew :  2.1473937902732647 lm:  0.9926017669102066 --------- kurt :  3.0852310617231122\n",
      "ExterCond  skew :  -2.4274845676804166 lm:  1.004311972810679 --------- kurt :  4.514393913991257\n",
      "ExterQual  skew :  -0.8777139591043595 lm:  1.0003412534439686 --------- kurt :  -0.427575235956418\n",
      "Fence  skew :  -1.8057953481282762 lm:  1.0120738446191815 --------- kurt :  1.7105567269633157\n",
      "Functional  skew :  -3.6245118705683907 lm:  1.0314796621913023 --------- kurt :  11.604299331289528\n",
      "GarageCond  skew :  -3.0365435285047666 lm:  1.00772183490189 --------- kurt :  7.625843961487527\n",
      "GarageQual  skew :  -2.6960205597371343 lm:  1.0080512943568247 --------- kurt :  5.5966232468407595\n",
      "GarageYrBlt  skew :  0.7021619169071054 lm:  1.0000000065291081 --------- kurt :  36.644694967499404\n",
      "GrLivArea  skew :  0.010451900685901256 lm:  1.0116670677168453 --------- kurt :  0.09717455830556343\n",
      "KitchenAbvGr  skew :  3.785809648971348 lm:  1.0080347878149039 --------- kurt :  19.409621812587368\n",
      "KitchenQual  skew :  -0.6097038376818357 lm:  1.0016687847794468 --------- kurt :  -0.7464822868306751\n",
      "LandSlope  skew :  4.351383042504569 lm:  1.0000001714024136 --------- kurt :  17.52585122781712\n",
      "LotArea  skew :  -0.10345003094149288 lm:  1.0486392143828032 --------- kurt :  4.6994603963841834\n",
      "LotFrontage  skew :  0.05721497873767723 lm:  0.9984745119224699 --------- kurt :  3.050048610955235\n",
      "LowQualFinSF  skew :  8.487694957438098 lm:  0.9350796570191453 --------- kurt :  70.701965020754\n",
      "MasVnrArea  skew :  0.9769865188945261 lm:  0.9986273407594904 --------- kurt :  -0.30969907141234243\n",
      "MiscVal  skew :  5.238315951006791 lm:  0.9926078259237763 --------- kurt :  26.333107495005102\n",
      "OpenPorchSF  skew :  0.6216856458304928 lm:  1.0001111934609268 --------- kurt :  -0.46490589133377824\n",
      "PavedDrive  skew :  -2.817553081622232 lm:  1.000000006324372 --------- kurt :  6.047510938700275\n",
      "PoolArea  skew :  15.597335353074241 lm:  0.950616209276929 --------- kurt :  242.3078813940366\n",
      "PoolQC  skew :  -18.006428498915604 lm:  1.0011841736865534 --------- kurt :  323.3299082651595\n",
      "ScreenPorch  skew :  3.154205507622401 lm:  0.9998902525899318 --------- kurt :  8.614923324579543\n",
      "Street  skew :  -15.502729080751852 lm:  1.5111470290764757 --------- kurt :  238.4981314068722\n",
      "TotalSF  skew :  0.029425943949975754 lm:  1.0020522979099102 --------- kurt :  0.9254412566074492\n",
      "WoodDeckSF  skew :  0.7860785925521944 lm:  1.000097612349428 --------- kurt :  -0.19309022319516833\n"
     ]
    },
    {
     "name": "stderr",
     "output_type": "stream",
     "text": [
      "D:\\ProgramData\\Anaconda3\\lib\\site-packages\\scipy\\stats\\stats.py:3018: RuntimeWarning: invalid value encountered in subtract\n",
      "  xm, ym = x - mx, y - my\n",
      "D:\\ProgramData\\Anaconda3\\lib\\site-packages\\scipy\\stats\\stats.py:5277: RuntimeWarning: invalid value encountered in less\n",
      "  x = np.where(x < 1.0, x, 1.0)  # if x > 1 then return 1.0\n",
      "D:\\ProgramData\\Anaconda3\\lib\\site-packages\\scipy\\stats\\stats.py:5438: RuntimeWarning: overflow encountered in multiply\n",
      "  return np.sum(a*a, axis)\n"
     ]
    }
   ],
   "source": [
    "for feat in skewed_feats:\n",
    "    lm=boxcox_normmax(all_data[feat]+2)\n",
    "    all_data[feat]=boxcox1p(all_data[feat],lm)\n",
    "    print(feat,' skew : ', all_data[feat].skew(),'lm: ',lm,'---------','kurt : ',all_data[feat].kurt())"
   ]
  },
  {
   "cell_type": "code",
   "execution_count": null,
   "metadata": {
    "ExecuteTime": {
     "end_time": "2021-12-06T02:49:15.226502Z",
     "start_time": "2021-12-06T02:49:15.167499Z"
    }
   },
   "outputs": [],
   "source": [
    "all_data.head()"
   ]
  },
  {
   "cell_type": "code",
   "execution_count": null,
   "metadata": {
    "ExecuteTime": {
     "end_time": "2021-12-03T09:11:21.902543Z",
     "start_time": "2021-12-03T09:11:21.840539Z"
    },
    "collapsed": true
   },
   "outputs": [],
   "source": [
    "all_data=pd.get_dummies(all_data)\n",
    "all_data.shape"
   ]
  },
  {
   "cell_type": "code",
   "execution_count": null,
   "metadata": {
    "ExecuteTime": {
     "end_time": "2021-12-03T09:11:22.582582Z",
     "start_time": "2021-12-03T09:11:22.567581Z"
    },
    "collapsed": true
   },
   "outputs": [],
   "source": [
    "train=all_data[:ntrain]\n",
    "test=all_data[ntrain:]"
   ]
  },
  {
   "cell_type": "markdown",
   "metadata": {
    "ExecuteTime": {
     "end_time": "2021-11-30T08:12:39.843990Z",
     "start_time": "2021-11-30T08:12:39.838990Z"
    }
   },
   "source": [
    "#### Model"
   ]
  },
  {
   "cell_type": "code",
   "execution_count": null,
   "metadata": {
    "ExecuteTime": {
     "end_time": "2021-12-02T03:10:22.246729Z",
     "start_time": "2021-12-02T03:10:16.628407Z"
    },
    "collapsed": true
   },
   "outputs": [],
   "source": [
    "from sklearn.linear_model import ElasticNet,Lasso,BayesianRidge,LassoLarsIC\n",
    "from sklearn.ensemble import RandomForestRegressor,GradientBoostingRegressor\n",
    "from sklearn.kernel_ridge import KernelRidge\n",
    "from sklearn.pipeline import make_pipeline\n",
    "from sklearn.preprocessing import RobustScaler\n",
    "from sklearn.base import BaseEstimator,TransformerMixin,RegressorMixin,clone\n",
    "from sklearn.model_selection import KFold,cross_val_score,train_test_split\n",
    "from sklearn.metrics import mean_squared_error\n",
    "import xgboost as xgb\n",
    "import lightgbm as lgb"
   ]
  },
  {
   "cell_type": "code",
   "execution_count": null,
   "metadata": {
    "ExecuteTime": {
     "end_time": "2021-12-02T03:10:22.269730Z",
     "start_time": "2021-12-02T03:10:22.253729Z"
    },
    "collapsed": true
   },
   "outputs": [],
   "source": [
    "n_folds=5\n",
    "\n",
    "def rmsle_cv(model):\n",
    "    kf=KFold(n_folds,shuffle=True,random_state=42).get_n_splits(train.values)\n",
    "    rmse=np.sqrt(-cross_val_score(model,train.values,y_train,scoring='neg_mean_squared_error',cv=kf))\n",
    "    return rmse"
   ]
  },
  {
   "cell_type": "code",
   "execution_count": null,
   "metadata": {
    "ExecuteTime": {
     "end_time": "2021-12-02T03:10:22.297731Z",
     "start_time": "2021-12-02T03:10:22.274730Z"
    },
    "collapsed": true
   },
   "outputs": [],
   "source": [
    "lasso=make_pipeline(RobustScaler(),Lasso(alpha=0.0005,random_state=1))"
   ]
  },
  {
   "cell_type": "code",
   "execution_count": null,
   "metadata": {
    "ExecuteTime": {
     "end_time": "2021-12-02T03:10:24.235842Z",
     "start_time": "2021-12-02T03:10:24.227842Z"
    },
    "collapsed": true
   },
   "outputs": [],
   "source": [
    "ENet=make_pipeline(RobustScaler(),ElasticNet(alpha=0.0005,l1_ratio=0.9,random_state=3))"
   ]
  },
  {
   "cell_type": "code",
   "execution_count": null,
   "metadata": {
    "ExecuteTime": {
     "end_time": "2021-12-02T03:10:24.777873Z",
     "start_time": "2021-12-02T03:10:24.771873Z"
    },
    "collapsed": true
   },
   "outputs": [],
   "source": [
    "KRR=KernelRidge(alpha=0.6,kernel='polynomial',degree=2,coef0=2.5)"
   ]
  },
  {
   "cell_type": "code",
   "execution_count": null,
   "metadata": {
    "ExecuteTime": {
     "end_time": "2021-12-02T03:10:25.434911Z",
     "start_time": "2021-12-02T03:10:25.429911Z"
    },
    "collapsed": true
   },
   "outputs": [],
   "source": [
    "GBoost = GradientBoostingRegressor(n_estimators=3000,\n",
    "                                   learning_rate=0.05,\n",
    "                                   max_depth=4,\n",
    "                                   max_features='sqrt',\n",
    "                                   min_samples_leaf=15,\n",
    "                                   min_samples_split=10,\n",
    "                                   loss='huber',\n",
    "                                   random_state=5)"
   ]
  },
  {
   "cell_type": "code",
   "execution_count": null,
   "metadata": {
    "ExecuteTime": {
     "end_time": "2021-12-02T03:10:25.951940Z",
     "start_time": "2021-12-02T03:10:25.944940Z"
    },
    "collapsed": true
   },
   "outputs": [],
   "source": [
    "model_xgb = xgb.XGBRegressor(colsample_bytree=0.4603, gamma=0.0468, \n",
    "                             learning_rate=0.05, max_depth=3, \n",
    "                             min_child_weight=1.7817, n_estimators=2200,\n",
    "                             reg_alpha=0.4640, reg_lambda=0.8571,\n",
    "                             subsample=0.5213, silent=1,\n",
    "                             random_state =7, nthread = -1)"
   ]
  },
  {
   "cell_type": "code",
   "execution_count": null,
   "metadata": {
    "ExecuteTime": {
     "end_time": "2021-12-02T03:10:26.491971Z",
     "start_time": "2021-12-02T03:10:26.483971Z"
    },
    "collapsed": true
   },
   "outputs": [],
   "source": [
    "model_lgb = lgb.LGBMRegressor(objective='regression',num_leaves=5,\n",
    "                              learning_rate=0.05, n_estimators=720,\n",
    "                              max_bin = 55, bagging_fraction = 0.8,\n",
    "                              bagging_freq = 5, feature_fraction = 0.2319,\n",
    "                              feature_fraction_seed=9, bagging_seed=9,\n",
    "                              min_data_in_leaf =6, min_sum_hessian_in_leaf = 11)"
   ]
  },
  {
   "cell_type": "code",
   "execution_count": null,
   "metadata": {
    "ExecuteTime": {
     "end_time": "2021-12-02T03:10:27.956055Z",
     "start_time": "2021-12-02T03:10:27.060004Z"
    },
    "collapsed": true
   },
   "outputs": [],
   "source": [
    "score=rmsle_cv(lasso)\n",
    "print(\"\\nLasso score: {:.4f} ({:.4f})\\n\".format(score.mean(), score.std()))"
   ]
  },
  {
   "cell_type": "code",
   "execution_count": null,
   "metadata": {
    "ExecuteTime": {
     "end_time": "2021-12-02T03:10:29.741157Z",
     "start_time": "2021-12-02T03:10:29.004115Z"
    },
    "collapsed": true
   },
   "outputs": [],
   "source": [
    "score = rmsle_cv(ENet)\n",
    "print(\"ElasticNet score: {:.4f} ({:.4f})\\n\".format(score.mean(), score.std()))"
   ]
  },
  {
   "cell_type": "code",
   "execution_count": null,
   "metadata": {
    "ExecuteTime": {
     "end_time": "2021-12-02T03:10:31.202241Z",
     "start_time": "2021-12-02T03:10:30.908224Z"
    },
    "collapsed": true
   },
   "outputs": [],
   "source": [
    "score = rmsle_cv(GBoost)\n",
    "print(\"Gradient Boosting score: {:.4f} ({:.4f})\\n\".format(score.mean(), score.std()))"
   ]
  },
  {
   "cell_type": "code",
   "execution_count": null,
   "metadata": {
    "ExecuteTime": {
     "end_time": "2021-12-02T03:11:02.940056Z",
     "start_time": "2021-12-02T03:10:49.005259Z"
    },
    "collapsed": true
   },
   "outputs": [],
   "source": [
    "score = rmsle_cv(model_xgb)\n",
    "print(\"Xgboost score: {:.4f} ({:.4f})\\n\".format(score.mean(), score.std()))"
   ]
  },
  {
   "cell_type": "code",
   "execution_count": null,
   "metadata": {
    "ExecuteTime": {
     "end_time": "2021-12-02T03:11:03.574092Z",
     "start_time": "2021-12-02T03:11:02.942056Z"
    },
    "collapsed": true
   },
   "outputs": [],
   "source": [
    "score = rmsle_cv(model_lgb)\n",
    "print(\"LGBM score: {:.4f} ({:.4f})\\n\" .format(score.mean(), score.std()))"
   ]
  },
  {
   "cell_type": "code",
   "execution_count": null,
   "metadata": {
    "ExecuteTime": {
     "end_time": "2021-12-02T07:19:52.482977Z",
     "start_time": "2021-12-02T07:19:52.470976Z"
    },
    "collapsed": true
   },
   "outputs": [],
   "source": [
    "0.7*0.7*0.3*3"
   ]
  },
  {
   "cell_type": "code",
   "execution_count": null,
   "metadata": {
    "ExecuteTime": {
     "end_time": "2021-12-02T07:19:29.892685Z",
     "start_time": "2021-12-02T07:19:29.880684Z"
    },
    "collapsed": true
   },
   "outputs": [],
   "source": [
    "0.7*0.7*0.7*3"
   ]
  },
  {
   "cell_type": "markdown",
   "metadata": {},
   "source": [
    "### Stacked Model\n",
    "- Simple stacking approach: average base models"
   ]
  },
  {
   "cell_type": "code",
   "execution_count": null,
   "metadata": {
    "collapsed": true
   },
   "outputs": [],
   "source": [
    "class "
   ]
  },
  {
   "cell_type": "code",
   "execution_count": 71,
   "metadata": {
    "ExecuteTime": {
     "end_time": "2021-12-06T08:07:41.056293Z",
     "start_time": "2021-12-06T08:07:41.041292Z"
    }
   },
   "outputs": [
    {
     "data": {
      "text/plain": [
       "'E5&\",\"&F5&\",\"&G5&\",\"&H5&\",\"&I5&\",\"&J5&\",\"&K5&\",\"&L5&\",\"&M5&\",\"&N5&\",\"&O5&\",\"&P5&\",\"&Q5&\",\"&R5&\",\"&S5&\",\"&T5&\",\"&U5&\",\"&V5&\",\"&W5&\",\"&X5&\",\"&Y5&\",\"&Z5&\",\"&'"
      ]
     },
     "execution_count": 71,
     "metadata": {},
     "output_type": "execute_result"
    }
   ],
   "source": [
    "str1=''\n",
    "for i in range(69,91):\n",
    "    str1+=chr(i)+'5&\",\"&'\n",
    "str1"
   ]
  },
  {
   "cell_type": "code",
   "execution_count": null,
   "metadata": {
    "collapsed": true
   },
   "outputs": [],
   "source": [
    "'E5&\",\"F5&\",\"G5&\",\"H5&\",\"I5&\",\"J5&\",\"K5&\",\"L5&\",\"M5&\",\"N5&\",\"O5&\",\"P5&\",\"Q5&\",\"R5&\",\"S5&\",\"T5&\",\"U5&\",\"V5&\",\"W5&\",\"X5&\",\"Y5&\",\"Z5&\",\"AA5&\",\"AB5&\",\"AC5'"
   ]
  }
 ],
 "metadata": {
  "kernelspec": {
   "display_name": "Python 3",
   "language": "python",
   "name": "python3"
  },
  "language_info": {
   "codemirror_mode": {
    "name": "ipython",
    "version": 3
   },
   "file_extension": ".py",
   "mimetype": "text/x-python",
   "name": "python",
   "nbconvert_exporter": "python",
   "pygments_lexer": "ipython3",
   "version": "3.6.3"
  }
 },
 "nbformat": 4,
 "nbformat_minor": 2
}
