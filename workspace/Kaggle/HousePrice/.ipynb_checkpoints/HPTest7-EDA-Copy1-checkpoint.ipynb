{
 "cells": [
  {
   "cell_type": "code",
   "execution_count": null,
   "metadata": {
    "ExecuteTime": {
     "end_time": "2021-12-06T02:07:42.181908Z",
     "start_time": "2021-12-06T02:07:41.328859Z"
    }
   },
   "outputs": [],
   "source": [
    "import numpy as np\n",
    "import pandas as pd\n",
    "import seaborn as sns\n",
    "from scipy import stats\n",
    "from scipy.stats import norm,skew\n",
    "import matplotlib.pyplot as plt\n",
    "%matplotlib auto"
   ]
  },
  {
   "cell_type": "code",
   "execution_count": null,
   "metadata": {
    "ExecuteTime": {
     "end_time": "2021-12-06T02:07:42.897949Z",
     "start_time": "2021-12-06T02:07:42.837945Z"
    },
    "collapsed": true
   },
   "outputs": [],
   "source": [
    "train=pd.read_csv('F:\\\\study\\\\ml\\\\DataSet\\\\House_Prices\\\\train.csv')\n",
    "test=pd.read_csv('F:\\\\study\\\\ml\\\\DataSet\\\\House_Prices\\\\test.csv')"
   ]
  },
  {
   "cell_type": "code",
   "execution_count": null,
   "metadata": {
    "ExecuteTime": {
     "end_time": "2021-12-06T02:07:43.160964Z",
     "start_time": "2021-12-06T02:07:43.111961Z"
    }
   },
   "outputs": [],
   "source": [
    "train.head()"
   ]
  },
  {
   "cell_type": "code",
   "execution_count": null,
   "metadata": {
    "ExecuteTime": {
     "end_time": "2021-12-06T02:07:43.319973Z",
     "start_time": "2021-12-06T02:07:43.313973Z"
    }
   },
   "outputs": [],
   "source": [
    "train['GarageType'].unique()"
   ]
  },
  {
   "cell_type": "markdown",
   "metadata": {},
   "source": [
    "delete outlier data and drop id"
   ]
  },
  {
   "cell_type": "code",
   "execution_count": null,
   "metadata": {
    "ExecuteTime": {
     "end_time": "2021-12-06T02:07:43.778999Z",
     "start_time": "2021-12-06T02:07:43.693994Z"
    },
    "collapsed": true
   },
   "outputs": [],
   "source": [
    "plt.scatter(train['GrLivArea'],train['SalePrice'])\n",
    "plt.show()"
   ]
  },
  {
   "cell_type": "code",
   "execution_count": null,
   "metadata": {
    "ExecuteTime": {
     "end_time": "2021-12-06T02:07:46.238140Z",
     "start_time": "2021-12-06T02:07:46.223139Z"
    },
    "collapsed": true
   },
   "outputs": [],
   "source": [
    "train=train.drop(train[(train['GrLivArea']>4000) & (train['SalePrice']<300000)].index)"
   ]
  },
  {
   "cell_type": "code",
   "execution_count": null,
   "metadata": {
    "ExecuteTime": {
     "end_time": "2021-12-06T02:07:46.501155Z",
     "start_time": "2021-12-06T02:07:46.391149Z"
    },
    "collapsed": true
   },
   "outputs": [],
   "source": [
    "plt.scatter(train['GrLivArea'],train['SalePrice'])\n",
    "plt.show()"
   ]
  },
  {
   "cell_type": "code",
   "execution_count": null,
   "metadata": {
    "ExecuteTime": {
     "end_time": "2021-12-06T02:07:48.229254Z",
     "start_time": "2021-12-06T02:07:48.182251Z"
    }
   },
   "outputs": [],
   "source": [
    "train.head()"
   ]
  },
  {
   "cell_type": "code",
   "execution_count": null,
   "metadata": {
    "ExecuteTime": {
     "end_time": "2021-12-06T02:07:48.359261Z",
     "start_time": "2021-12-06T02:07:48.355261Z"
    },
    "collapsed": true
   },
   "outputs": [],
   "source": [
    "train_id=train['Id']\n",
    "test_id=test['Id']"
   ]
  },
  {
   "cell_type": "code",
   "execution_count": null,
   "metadata": {
    "ExecuteTime": {
     "end_time": "2021-12-06T02:07:48.524271Z",
     "start_time": "2021-12-06T02:07:48.513270Z"
    },
    "collapsed": true
   },
   "outputs": [],
   "source": [
    "train.drop('Id',axis=1,inplace=True)\n",
    "test.drop('Id',axis=1,inplace=True)"
   ]
  },
  {
   "cell_type": "markdown",
   "metadata": {},
   "source": [
    "- fit norm dist plot"
   ]
  },
  {
   "cell_type": "code",
   "execution_count": null,
   "metadata": {
    "ExecuteTime": {
     "end_time": "2021-12-06T02:07:50.051358Z",
     "start_time": "2021-12-06T02:07:48.866290Z"
    },
    "collapsed": true
   },
   "outputs": [],
   "source": [
    "sns.distplot(train['SalePrice'],fit=norm)\n",
    "plt.show()"
   ]
  },
  {
   "cell_type": "markdown",
   "metadata": {
    "ExecuteTime": {
     "end_time": "2021-11-23T06:22:41.421448Z",
     "start_time": "2021-11-23T06:22:41.395446Z"
    },
    "collapsed": true
   },
   "source": [
    "- - plot Q-Q \n",
    "- double check skew >0"
   ]
  },
  {
   "cell_type": "code",
   "execution_count": null,
   "metadata": {
    "ExecuteTime": {
     "end_time": "2021-12-06T02:07:51.640449Z",
     "start_time": "2021-12-06T02:07:51.407436Z"
    },
    "collapsed": true
   },
   "outputs": [],
   "source": [
    "stats.probplot(train['SalePrice'],plot=plt)\n",
    "plt.show()"
   ]
  },
  {
   "cell_type": "markdown",
   "metadata": {
    "ExecuteTime": {
     "end_time": "2021-11-23T06:40:55.137004Z",
     "start_time": "2021-11-23T06:40:55.127004Z"
    }
   },
   "source": [
    " - log transform target variable"
   ]
  },
  {
   "cell_type": "code",
   "execution_count": null,
   "metadata": {
    "ExecuteTime": {
     "end_time": "2021-12-06T02:07:54.517613Z",
     "start_time": "2021-12-06T02:07:54.422608Z"
    },
    "collapsed": true
   },
   "outputs": [],
   "source": [
    "sns.distplot(np.log1p(train['SalePrice']),fit=norm)\n",
    "plt.show()"
   ]
  },
  {
   "cell_type": "code",
   "execution_count": null,
   "metadata": {
    "ExecuteTime": {
     "end_time": "2021-12-06T02:07:56.518728Z",
     "start_time": "2021-12-06T02:07:56.422722Z"
    },
    "collapsed": true
   },
   "outputs": [],
   "source": [
    "sns.distplot(np.log(1/train['SalePrice']),fit=norm)\n",
    "plt.show()"
   ]
  },
  {
   "cell_type": "code",
   "execution_count": null,
   "metadata": {
    "ExecuteTime": {
     "end_time": "2021-12-06T02:07:58.617848Z",
     "start_time": "2021-12-06T02:07:58.549844Z"
    },
    "collapsed": true
   },
   "outputs": [],
   "source": [
    "sns.distplot(np.sqrt(train['SalePrice']),fit=norm)\n",
    "plt.show()"
   ]
  },
  {
   "cell_type": "code",
   "execution_count": null,
   "metadata": {
    "ExecuteTime": {
     "end_time": "2021-12-06T02:08:00.545958Z",
     "start_time": "2021-12-06T02:08:00.470954Z"
    },
    "collapsed": true
   },
   "outputs": [],
   "source": [
    "train['SalePrice']=np.log1p(train['SalePrice'])\n",
    "(mu,sigma)=norm.fit(train['SalePrice'])\n",
    "stats.probplot(train['SalePrice'],plot=plt)\n",
    "plt.show()"
   ]
  },
  {
   "cell_type": "markdown",
   "metadata": {
    "ExecuteTime": {
     "end_time": "2021-11-23T06:55:27.896923Z",
     "start_time": "2021-11-23T06:55:27.886923Z"
    }
   },
   "source": [
    "- features engineing"
   ]
  },
  {
   "cell_type": "code",
   "execution_count": null,
   "metadata": {
    "ExecuteTime": {
     "end_time": "2021-12-06T02:08:02.483069Z",
     "start_time": "2021-12-06T02:08:02.432066Z"
    }
   },
   "outputs": [],
   "source": [
    "ntrain=train.shape[0]\n",
    "ntest=test.shape[0]\n",
    "y_train=train.SalePrice.values\n",
    "all_data=pd.concat((train,test)).reset_index(drop=True)\n",
    "all_data.drop(['SalePrice'],axis=1,inplace=True)\n",
    "print('all data shape:',all_data.shape)"
   ]
  },
  {
   "cell_type": "markdown",
   "metadata": {
    "ExecuteTime": {
     "end_time": "2021-11-23T07:16:12.738124Z",
     "start_time": "2021-11-23T07:16:12.728124Z"
    }
   },
   "source": [
    "- Missing Data"
   ]
  },
  {
   "cell_type": "code",
   "execution_count": null,
   "metadata": {
    "ExecuteTime": {
     "end_time": "2021-12-06T02:08:03.735141Z",
     "start_time": "2021-12-06T02:08:03.695138Z"
    }
   },
   "outputs": [],
   "source": [
    "all_data_na=(all_data.isnull().sum()/len(all_data)) * 100\n",
    "all_data_na=all_data_na.drop(all_data_na[all_data_na==0].index).sort_values(ascending=False)[:30]\n",
    "missing_data=pd.DataFrame({'Missing Ratio': all_data_na})\n",
    "missing_data.head(20)"
   ]
  },
  {
   "cell_type": "code",
   "execution_count": null,
   "metadata": {
    "ExecuteTime": {
     "end_time": "2021-12-06T02:08:05.247227Z",
     "start_time": "2021-12-06T02:08:05.111219Z"
    },
    "collapsed": true
   },
   "outputs": [],
   "source": [
    "plt.subplots(figsize=(12,10))\n",
    "plt.xticks(rotation='90')\n",
    "sns.barplot(x=all_data_na.index,y=all_data_na)\n",
    "plt.xlabel('Features',fontsize=15)\n",
    "plt.ylabel('Precent of missing value',fontsize=15)\n",
    "plt.title('Precent of miss data by feature',fontsize=15)\n",
    "plt.show()"
   ]
  },
  {
   "cell_type": "markdown",
   "metadata": {
    "ExecuteTime": {
     "end_time": "2021-11-23T07:46:33.034239Z",
     "start_time": "2021-11-23T07:46:33.027239Z"
    }
   },
   "source": [
    "- Data Correlation"
   ]
  },
  {
   "cell_type": "code",
   "execution_count": null,
   "metadata": {
    "ExecuteTime": {
     "end_time": "2021-12-06T02:08:08.364405Z",
     "start_time": "2021-12-06T02:08:08.222397Z"
    }
   },
   "outputs": [],
   "source": [
    "corrmat=train.corr()\n",
    "sns.heatmap(corrmat,vmax=0.9,square=True)"
   ]
  },
  {
   "cell_type": "markdown",
   "metadata": {
    "ExecuteTime": {
     "end_time": "2021-11-23T08:04:43.668620Z",
     "start_time": "2021-11-23T08:04:43.658619Z"
    }
   },
   "source": [
    "- imputing missing values"
   ]
  },
  {
   "cell_type": "code",
   "execution_count": null,
   "metadata": {
    "ExecuteTime": {
     "end_time": "2021-12-06T02:08:14.698768Z",
     "start_time": "2021-12-06T02:08:14.686767Z"
    }
   },
   "outputs": [],
   "source": [
    "all_data['LotFrontage'].head()"
   ]
  },
  {
   "cell_type": "code",
   "execution_count": null,
   "metadata": {
    "ExecuteTime": {
     "end_time": "2021-12-06T02:08:15.170795Z",
     "start_time": "2021-12-06T02:08:15.155794Z"
    }
   },
   "outputs": [],
   "source": [
    "all_data['Neighborhood'].head()"
   ]
  },
  {
   "cell_type": "code",
   "execution_count": null,
   "metadata": {
    "ExecuteTime": {
     "end_time": "2021-12-06T02:08:15.678824Z",
     "start_time": "2021-12-06T02:08:15.605820Z"
    }
   },
   "outputs": [],
   "source": [
    "for i in all_data.groupby('Neighborhood')['LotFrontage']:\n",
    "    print(i)"
   ]
  },
  {
   "cell_type": "code",
   "execution_count": null,
   "metadata": {
    "ExecuteTime": {
     "end_time": "2021-12-06T02:08:16.159851Z",
     "start_time": "2021-12-06T02:08:16.124849Z"
    },
    "collapsed": true
   },
   "outputs": [],
   "source": [
    "all_data['PoolQC']=all_data['PoolQC'].fillna('None')\n",
    "all_data['MiscFeature']=all_data['MiscFeature'].fillna('None')\n",
    "all_data['Alley']=all_data['Alley'].fillna('None')\n",
    "all_data['Fence']=all_data['Fence'].fillna('None')\n",
    "all_data['FireplaceQu']=all_data['FireplaceQu'].fillna('None')\n",
    "all_data['LotFrontage']=all_data.groupby('Neighborhood')['LotFrontage'].transform(lambda x:x.fillna(x.median()))"
   ]
  },
  {
   "cell_type": "code",
   "execution_count": null,
   "metadata": {
    "ExecuteTime": {
     "end_time": "2021-12-06T02:08:16.783887Z",
     "start_time": "2021-12-06T02:08:16.766886Z"
    },
    "collapsed": true
   },
   "outputs": [],
   "source": [
    "for col in ['GarageType','GarageFinish','GarageQual','GarageCond']:\n",
    "    all_data[col]=all_data[col].fillna('None')"
   ]
  },
  {
   "cell_type": "code",
   "execution_count": null,
   "metadata": {
    "ExecuteTime": {
     "end_time": "2021-12-06T02:08:18.052960Z",
     "start_time": "2021-12-06T02:08:18.039959Z"
    },
    "collapsed": true
   },
   "outputs": [],
   "source": [
    "for col in ('GarageYrBlt', 'GarageArea', 'GarageCars'):\n",
    "    all_data[col] = all_data[col].fillna(0)"
   ]
  },
  {
   "cell_type": "code",
   "execution_count": null,
   "metadata": {
    "ExecuteTime": {
     "end_time": "2021-12-06T02:08:18.304974Z",
     "start_time": "2021-12-06T02:08:18.293973Z"
    },
    "collapsed": true
   },
   "outputs": [],
   "source": [
    "for col in ('BsmtFinSF1', 'BsmtFinSF2', 'BsmtUnfSF','TotalBsmtSF', 'BsmtFullBath', 'BsmtHalfBath'):\n",
    "    all_data[col] = all_data[col].fillna(0)"
   ]
  },
  {
   "cell_type": "code",
   "execution_count": null,
   "metadata": {
    "ExecuteTime": {
     "end_time": "2021-12-06T02:08:18.573989Z",
     "start_time": "2021-12-06T02:08:18.565989Z"
    },
    "collapsed": true
   },
   "outputs": [],
   "source": [
    "for col in ('BsmtQual', 'BsmtCond', 'BsmtExposure', 'BsmtFinType1', 'BsmtFinType2'):\n",
    "    all_data[col] = all_data[col].fillna('None')"
   ]
  },
  {
   "cell_type": "code",
   "execution_count": null,
   "metadata": {
    "ExecuteTime": {
     "end_time": "2021-12-06T02:08:19.139022Z",
     "start_time": "2021-12-06T02:08:19.127021Z"
    },
    "collapsed": true
   },
   "outputs": [],
   "source": [
    "all_data[\"MasVnrType\"] = all_data[\"MasVnrType\"].fillna(\"None\")\n",
    "all_data[\"MasVnrArea\"] = all_data[\"MasVnrArea\"].fillna(0)"
   ]
  },
  {
   "cell_type": "code",
   "execution_count": null,
   "metadata": {
    "ExecuteTime": {
     "end_time": "2021-12-06T02:08:19.711054Z",
     "start_time": "2021-12-06T02:08:19.679053Z"
    },
    "collapsed": true
   },
   "outputs": [],
   "source": [
    "all_data['MSZoning'] = all_data['MSZoning'].fillna(all_data['MSZoning'].mode()[0])"
   ]
  },
  {
   "cell_type": "code",
   "execution_count": null,
   "metadata": {
    "ExecuteTime": {
     "end_time": "2021-12-06T02:08:20.213083Z",
     "start_time": "2021-12-06T02:08:20.198082Z"
    },
    "collapsed": true
   },
   "outputs": [],
   "source": [
    "all_data = all_data.drop(['Utilities'], axis=1)"
   ]
  },
  {
   "cell_type": "code",
   "execution_count": null,
   "metadata": {
    "ExecuteTime": {
     "end_time": "2021-12-06T02:08:20.520101Z",
     "start_time": "2021-12-06T02:08:20.514100Z"
    },
    "collapsed": true
   },
   "outputs": [],
   "source": [
    "all_data[\"Functional\"] = all_data[\"Functional\"].fillna(\"Typ\")"
   ]
  },
  {
   "cell_type": "code",
   "execution_count": null,
   "metadata": {
    "ExecuteTime": {
     "end_time": "2021-12-06T02:08:20.763115Z",
     "start_time": "2021-12-06T02:08:20.755114Z"
    },
    "collapsed": true
   },
   "outputs": [],
   "source": [
    "all_data['Electrical']=all_data['Electrical'].fillna(all_data['Electrical'].mode()[0])"
   ]
  },
  {
   "cell_type": "code",
   "execution_count": null,
   "metadata": {
    "ExecuteTime": {
     "end_time": "2021-12-06T02:08:21.134136Z",
     "start_time": "2021-12-06T02:08:21.124135Z"
    },
    "collapsed": true
   },
   "outputs": [],
   "source": [
    "all_data['KitchenQual'] = all_data['KitchenQual'].fillna(all_data['KitchenQual'].mode()[0])"
   ]
  },
  {
   "cell_type": "code",
   "execution_count": null,
   "metadata": {
    "ExecuteTime": {
     "end_time": "2021-12-06T02:08:21.633164Z",
     "start_time": "2021-12-06T02:08:21.620164Z"
    },
    "collapsed": true
   },
   "outputs": [],
   "source": [
    "all_data['Exterior1st'] = all_data['Exterior1st'].fillna(all_data['Exterior1st'].mode()[0])\n",
    "all_data['Exterior2nd'] = all_data['Exterior2nd'].fillna(all_data['Exterior2nd'].mode()[0])"
   ]
  },
  {
   "cell_type": "code",
   "execution_count": null,
   "metadata": {
    "ExecuteTime": {
     "end_time": "2021-12-06T02:08:26.047417Z",
     "start_time": "2021-12-06T02:08:26.031416Z"
    },
    "collapsed": true
   },
   "outputs": [],
   "source": [
    "all_data['SaleType'] = all_data['SaleType'].fillna(all_data['SaleType'].mode()[0])\n",
    "all_data['MSSubClass'] = all_data['MSSubClass'].fillna(\"None\")"
   ]
  },
  {
   "cell_type": "code",
   "execution_count": null,
   "metadata": {
    "ExecuteTime": {
     "end_time": "2021-12-06T02:08:26.616449Z",
     "start_time": "2021-12-06T02:08:26.574447Z"
    }
   },
   "outputs": [],
   "source": [
    "all_data_na=(all_data.isnull().sum())/len(all_data) * 100\n",
    "all_data_na=all_data_na.drop(all_data_na[all_data_na==0].index).sort_values(ascending=False)\n",
    "miss_data=pd.DataFrame({'Missing Ratio':all_data_na})\n",
    "miss_data.head()"
   ]
  },
  {
   "cell_type": "code",
   "execution_count": null,
   "metadata": {
    "ExecuteTime": {
     "end_time": "2021-12-06T02:08:27.301489Z",
     "start_time": "2021-12-06T02:08:27.294488Z"
    }
   },
   "outputs": [],
   "source": [
    "all_data['MSSubClass'].dtype"
   ]
  },
  {
   "cell_type": "code",
   "execution_count": null,
   "metadata": {
    "ExecuteTime": {
     "end_time": "2021-12-06T02:08:28.571561Z",
     "start_time": "2021-12-06T02:08:28.566561Z"
    },
    "collapsed": true
   },
   "outputs": [],
   "source": [
    "all_data['MSSubClass']=all_data['MSSubClass'].apply(str)"
   ]
  },
  {
   "cell_type": "code",
   "execution_count": null,
   "metadata": {
    "ExecuteTime": {
     "end_time": "2021-12-06T02:08:47.521645Z",
     "start_time": "2021-12-06T02:08:47.510644Z"
    }
   },
   "outputs": [],
   "source": [
    "all_data['MSSubClass'].dtype"
   ]
  },
  {
   "cell_type": "code",
   "execution_count": null,
   "metadata": {
    "ExecuteTime": {
     "end_time": "2021-12-06T02:08:48.254687Z",
     "start_time": "2021-12-06T02:08:48.238686Z"
    },
    "collapsed": true
   },
   "outputs": [],
   "source": [
    "all_data['OverallCond'] = all_data['OverallCond'].astype(str)"
   ]
  },
  {
   "cell_type": "code",
   "execution_count": null,
   "metadata": {
    "ExecuteTime": {
     "end_time": "2021-12-06T02:08:49.035732Z",
     "start_time": "2021-12-06T02:08:49.014731Z"
    },
    "collapsed": true
   },
   "outputs": [],
   "source": [
    "all_data['YrSold'] = all_data['YrSold'].astype(str)\n",
    "all_data['MoSold'] = all_data['MoSold'].astype(str)"
   ]
  },
  {
   "cell_type": "code",
   "execution_count": null,
   "metadata": {
    "ExecuteTime": {
     "end_time": "2021-12-06T02:08:51.350864Z",
     "start_time": "2021-12-06T02:08:50.391809Z"
    },
    "collapsed": true
   },
   "outputs": [],
   "source": [
    "from sklearn.preprocessing import LabelEncoder\n",
    "cols = ('FireplaceQu', 'BsmtQual', 'BsmtCond', 'GarageQual', 'GarageCond',\n",
    "        'ExterQual', 'ExterCond', 'HeatingQC', 'PoolQC', 'KitchenQual',\n",
    "        'BsmtFinType1', 'BsmtFinType2', 'Functional', 'Fence', 'BsmtExposure',\n",
    "        'GarageFinish', 'LandSlope', 'LotShape', 'PavedDrive', 'Street',\n",
    "        'Alley', 'CentralAir', 'MSSubClass', 'OverallCond', 'YrSold', 'MoSold')\n",
    "for c in cols:\n",
    "    lbl=LabelEncoder()\n",
    "    lbl.fit(list(all_data[c].values))\n",
    "    all_data[c]=lbl.transform(list(all_data[c].values))"
   ]
  },
  {
   "cell_type": "code",
   "execution_count": null,
   "metadata": {
    "ExecuteTime": {
     "end_time": "2021-12-06T02:08:52.304919Z",
     "start_time": "2021-12-06T02:08:52.294918Z"
    }
   },
   "outputs": [],
   "source": [
    "all_data.shape"
   ]
  },
  {
   "cell_type": "code",
   "execution_count": null,
   "metadata": {
    "ExecuteTime": {
     "end_time": "2021-12-06T02:08:54.042018Z",
     "start_time": "2021-12-06T02:08:54.031017Z"
    },
    "collapsed": true
   },
   "outputs": [],
   "source": [
    "all_data['TotalSF']=all_data['TotalBsmtSF']+all_data['1stFlrSF']+all_data['2ndFlrSF']"
   ]
  },
  {
   "cell_type": "markdown",
   "metadata": {},
   "source": [
    "- skewed features"
   ]
  },
  {
   "cell_type": "code",
   "execution_count": null,
   "metadata": {
    "ExecuteTime": {
     "end_time": "2021-12-06T02:08:55.795118Z",
     "start_time": "2021-12-06T02:08:55.710113Z"
    }
   },
   "outputs": [],
   "source": [
    "numeric_feats=all_data.dtypes[all_data.dtypes != 'object'].index\n",
    "skewed_feats=all_data[numeric_feats].apply(lambda x : skew(x.dropna())).sort_values(ascending=False)\n",
    "skewness=pd.DataFrame({'Skew':skewed_feats})\n",
    "skewness"
   ]
  },
  {
   "cell_type": "markdown",
   "metadata": {
    "ExecuteTime": {
     "end_time": "2021-11-23T10:02:54.948218Z",
     "start_time": "2021-11-23T10:02:54.938217Z"
    }
   },
   "source": [
    "- get abs(skew ) > 0.75"
   ]
  },
  {
   "cell_type": "code",
   "execution_count": null,
   "metadata": {
    "ExecuteTime": {
     "end_time": "2021-12-06T02:09:02.832521Z",
     "start_time": "2021-12-06T02:09:02.806519Z"
    }
   },
   "outputs": [],
   "source": [
    "skewness"
   ]
  },
  {
   "cell_type": "code",
   "execution_count": null,
   "metadata": {
    "ExecuteTime": {
     "end_time": "2021-12-06T02:09:03.478558Z",
     "start_time": "2021-12-06T02:09:03.471557Z"
    },
    "collapsed": true
   },
   "outputs": [],
   "source": [
    "skewness=skewness[abs(skewness['Skew'])>0.75]"
   ]
  },
  {
   "cell_type": "code",
   "execution_count": null,
   "metadata": {
    "ExecuteTime": {
     "end_time": "2021-12-06T02:09:06.007702Z",
     "start_time": "2021-12-06T02:09:05.999702Z"
    },
    "collapsed": true
   },
   "outputs": [],
   "source": [
    "from scipy.special import boxcox1p\n",
    "from scipy.stats import boxcox,boxcox_normmax"
   ]
  },
  {
   "cell_type": "code",
   "execution_count": null,
   "metadata": {
    "ExecuteTime": {
     "end_time": "2021-12-06T02:09:07.025761Z",
     "start_time": "2021-12-06T02:09:06.694742Z"
    }
   },
   "outputs": [],
   "source": [
    "for i in range(len(skewness)):\n",
    "    print(skewness.index[i],'-----skew:',skewness.values[i],'-----lm:',boxcox_normmax(all_data[skewness.index[i]]+1))\n",
    "    "
   ]
  },
  {
   "cell_type": "markdown",
   "metadata": {
    "ExecuteTime": {
     "end_time": "2021-11-24T10:10:59.460785Z",
     "start_time": "2021-11-24T10:10:59.450784Z"
    }
   },
   "source": [
    "- - change fixed lam=0.15 to different lam"
   ]
  },
  {
   "cell_type": "code",
   "execution_count": null,
   "metadata": {
    "ExecuteTime": {
     "end_time": "2021-12-06T02:09:16.110280Z",
     "start_time": "2021-12-06T02:09:15.822264Z"
    }
   },
   "outputs": [],
   "source": [
    "skewed_feats=skewness.index\n",
    "for feat in skewed_feats:\n",
    "    lm=boxcox_normmax(all_data[feat]+1)\n",
    "    all_data[feat]=boxcox1p(all_data[feat],lm)\n",
    "    print(feat,' skew : ', all_data[feat].skew())"
   ]
  },
  {
   "cell_type": "code",
   "execution_count": null,
   "metadata": {
    "ExecuteTime": {
     "end_time": "2021-12-06T02:20:39.351359Z",
     "start_time": "2021-12-06T02:20:39.328358Z"
    }
   },
   "outputs": [],
   "source": [
    "skew2=pd.DataFrame({'skew':all_data[skewed_feats].skew()})\n",
    "skew2"
   ]
  },
  {
   "cell_type": "code",
   "execution_count": null,
   "metadata": {
    "ExecuteTime": {
     "end_time": "2021-12-06T02:27:15.442015Z",
     "start_time": "2021-12-06T02:27:15.173999Z"
    }
   },
   "outputs": [],
   "source": [
    "for feat in skew2.index:\n",
    "    lm=boxcox_normmax(all_data[feat]+1)\n",
    "    all_data[feat]=boxcox1p(all_data[feat],lm)\n",
    "    print(feat,' skew : ', all_data[feat].skew(),'lm: ',lm)\n",
    "    "
   ]
  },
  {
   "cell_type": "code",
   "execution_count": null,
   "metadata": {
    "ExecuteTime": {
     "end_time": "2021-12-06T02:25:10.995897Z",
     "start_time": "2021-12-06T02:25:10.944894Z"
    }
   },
   "outputs": [],
   "source": [
    "all_data.head()"
   ]
  },
  {
   "cell_type": "code",
   "execution_count": null,
   "metadata": {
    "ExecuteTime": {
     "end_time": "2021-12-03T09:11:21.902543Z",
     "start_time": "2021-12-03T09:11:21.840539Z"
    },
    "collapsed": true
   },
   "outputs": [],
   "source": [
    "all_data=pd.get_dummies(all_data)\n",
    "all_data.shape"
   ]
  },
  {
   "cell_type": "code",
   "execution_count": null,
   "metadata": {
    "ExecuteTime": {
     "end_time": "2021-12-03T09:11:22.582582Z",
     "start_time": "2021-12-03T09:11:22.567581Z"
    },
    "collapsed": true
   },
   "outputs": [],
   "source": [
    "train=all_data[:ntrain]\n",
    "test=all_data[ntrain:]"
   ]
  },
  {
   "cell_type": "markdown",
   "metadata": {
    "ExecuteTime": {
     "end_time": "2021-11-30T08:12:39.843990Z",
     "start_time": "2021-11-30T08:12:39.838990Z"
    }
   },
   "source": [
    "#### Model"
   ]
  },
  {
   "cell_type": "code",
   "execution_count": null,
   "metadata": {
    "ExecuteTime": {
     "end_time": "2021-12-02T03:10:22.246729Z",
     "start_time": "2021-12-02T03:10:16.628407Z"
    },
    "collapsed": true
   },
   "outputs": [],
   "source": [
    "from sklearn.linear_model import ElasticNet,Lasso,BayesianRidge,LassoLarsIC\n",
    "from sklearn.ensemble import RandomForestRegressor,GradientBoostingRegressor\n",
    "from sklearn.kernel_ridge import KernelRidge\n",
    "from sklearn.pipeline import make_pipeline\n",
    "from sklearn.preprocessing import RobustScaler\n",
    "from sklearn.base import BaseEstimator,TransformerMixin,RegressorMixin,clone\n",
    "from sklearn.model_selection import KFold,cross_val_score,train_test_split\n",
    "from sklearn.metrics import mean_squared_error\n",
    "import xgboost as xgb\n",
    "import lightgbm as lgb"
   ]
  },
  {
   "cell_type": "code",
   "execution_count": null,
   "metadata": {
    "ExecuteTime": {
     "end_time": "2021-12-02T03:10:22.269730Z",
     "start_time": "2021-12-02T03:10:22.253729Z"
    },
    "collapsed": true
   },
   "outputs": [],
   "source": [
    "n_folds=5\n",
    "\n",
    "def rmsle_cv(model):\n",
    "    kf=KFold(n_folds,shuffle=True,random_state=42).get_n_splits(train.values)\n",
    "    rmse=np.sqrt(-cross_val_score(model,train.values,y_train,scoring='neg_mean_squared_error',cv=kf))\n",
    "    return rmse"
   ]
  },
  {
   "cell_type": "code",
   "execution_count": null,
   "metadata": {
    "ExecuteTime": {
     "end_time": "2021-12-02T03:10:22.297731Z",
     "start_time": "2021-12-02T03:10:22.274730Z"
    },
    "collapsed": true
   },
   "outputs": [],
   "source": [
    "lasso=make_pipeline(RobustScaler(),Lasso(alpha=0.0005,random_state=1))"
   ]
  },
  {
   "cell_type": "code",
   "execution_count": null,
   "metadata": {
    "ExecuteTime": {
     "end_time": "2021-12-02T03:10:24.235842Z",
     "start_time": "2021-12-02T03:10:24.227842Z"
    },
    "collapsed": true
   },
   "outputs": [],
   "source": [
    "ENet=make_pipeline(RobustScaler(),ElasticNet(alpha=0.0005,l1_ratio=0.9,random_state=3))"
   ]
  },
  {
   "cell_type": "code",
   "execution_count": null,
   "metadata": {
    "ExecuteTime": {
     "end_time": "2021-12-02T03:10:24.777873Z",
     "start_time": "2021-12-02T03:10:24.771873Z"
    },
    "collapsed": true
   },
   "outputs": [],
   "source": [
    "KRR=KernelRidge(alpha=0.6,kernel='polynomial',degree=2,coef0=2.5)"
   ]
  },
  {
   "cell_type": "code",
   "execution_count": null,
   "metadata": {
    "ExecuteTime": {
     "end_time": "2021-12-02T03:10:25.434911Z",
     "start_time": "2021-12-02T03:10:25.429911Z"
    },
    "collapsed": true
   },
   "outputs": [],
   "source": [
    "GBoost = GradientBoostingRegressor(n_estimators=3000,\n",
    "                                   learning_rate=0.05,\n",
    "                                   max_depth=4,\n",
    "                                   max_features='sqrt',\n",
    "                                   min_samples_leaf=15,\n",
    "                                   min_samples_split=10,\n",
    "                                   loss='huber',\n",
    "                                   random_state=5)"
   ]
  },
  {
   "cell_type": "code",
   "execution_count": null,
   "metadata": {
    "ExecuteTime": {
     "end_time": "2021-12-02T03:10:25.951940Z",
     "start_time": "2021-12-02T03:10:25.944940Z"
    },
    "collapsed": true
   },
   "outputs": [],
   "source": [
    "model_xgb = xgb.XGBRegressor(colsample_bytree=0.4603, gamma=0.0468, \n",
    "                             learning_rate=0.05, max_depth=3, \n",
    "                             min_child_weight=1.7817, n_estimators=2200,\n",
    "                             reg_alpha=0.4640, reg_lambda=0.8571,\n",
    "                             subsample=0.5213, silent=1,\n",
    "                             random_state =7, nthread = -1)"
   ]
  },
  {
   "cell_type": "code",
   "execution_count": null,
   "metadata": {
    "ExecuteTime": {
     "end_time": "2021-12-02T03:10:26.491971Z",
     "start_time": "2021-12-02T03:10:26.483971Z"
    },
    "collapsed": true
   },
   "outputs": [],
   "source": [
    "model_lgb = lgb.LGBMRegressor(objective='regression',num_leaves=5,\n",
    "                              learning_rate=0.05, n_estimators=720,\n",
    "                              max_bin = 55, bagging_fraction = 0.8,\n",
    "                              bagging_freq = 5, feature_fraction = 0.2319,\n",
    "                              feature_fraction_seed=9, bagging_seed=9,\n",
    "                              min_data_in_leaf =6, min_sum_hessian_in_leaf = 11)"
   ]
  },
  {
   "cell_type": "code",
   "execution_count": null,
   "metadata": {
    "ExecuteTime": {
     "end_time": "2021-12-02T03:10:27.956055Z",
     "start_time": "2021-12-02T03:10:27.060004Z"
    },
    "collapsed": true
   },
   "outputs": [],
   "source": [
    "score=rmsle_cv(lasso)\n",
    "print(\"\\nLasso score: {:.4f} ({:.4f})\\n\".format(score.mean(), score.std()))"
   ]
  },
  {
   "cell_type": "code",
   "execution_count": null,
   "metadata": {
    "ExecuteTime": {
     "end_time": "2021-12-02T03:10:29.741157Z",
     "start_time": "2021-12-02T03:10:29.004115Z"
    },
    "collapsed": true
   },
   "outputs": [],
   "source": [
    "score = rmsle_cv(ENet)\n",
    "print(\"ElasticNet score: {:.4f} ({:.4f})\\n\".format(score.mean(), score.std()))"
   ]
  },
  {
   "cell_type": "code",
   "execution_count": null,
   "metadata": {
    "ExecuteTime": {
     "end_time": "2021-12-02T03:10:31.202241Z",
     "start_time": "2021-12-02T03:10:30.908224Z"
    },
    "collapsed": true
   },
   "outputs": [],
   "source": [
    "score = rmsle_cv(GBoost)\n",
    "print(\"Gradient Boosting score: {:.4f} ({:.4f})\\n\".format(score.mean(), score.std()))"
   ]
  },
  {
   "cell_type": "code",
   "execution_count": null,
   "metadata": {
    "ExecuteTime": {
     "end_time": "2021-12-02T03:11:02.940056Z",
     "start_time": "2021-12-02T03:10:49.005259Z"
    },
    "collapsed": true
   },
   "outputs": [],
   "source": [
    "score = rmsle_cv(model_xgb)\n",
    "print(\"Xgboost score: {:.4f} ({:.4f})\\n\".format(score.mean(), score.std()))"
   ]
  },
  {
   "cell_type": "code",
   "execution_count": null,
   "metadata": {
    "ExecuteTime": {
     "end_time": "2021-12-02T03:11:03.574092Z",
     "start_time": "2021-12-02T03:11:02.942056Z"
    },
    "collapsed": true
   },
   "outputs": [],
   "source": [
    "score = rmsle_cv(model_lgb)\n",
    "print(\"LGBM score: {:.4f} ({:.4f})\\n\" .format(score.mean(), score.std()))"
   ]
  },
  {
   "cell_type": "code",
   "execution_count": null,
   "metadata": {
    "ExecuteTime": {
     "end_time": "2021-12-02T07:19:52.482977Z",
     "start_time": "2021-12-02T07:19:52.470976Z"
    },
    "collapsed": true
   },
   "outputs": [],
   "source": [
    "0.7*0.7*0.3*3"
   ]
  },
  {
   "cell_type": "code",
   "execution_count": null,
   "metadata": {
    "ExecuteTime": {
     "end_time": "2021-12-02T07:19:29.892685Z",
     "start_time": "2021-12-02T07:19:29.880684Z"
    },
    "collapsed": true
   },
   "outputs": [],
   "source": [
    "0.7*0.7*0.7*3"
   ]
  },
  {
   "cell_type": "markdown",
   "metadata": {},
   "source": [
    "### Stacked Model\n",
    "- Simple stacking approach: average base models"
   ]
  },
  {
   "cell_type": "code",
   "execution_count": null,
   "metadata": {
    "collapsed": true
   },
   "outputs": [],
   "source": [
    "class "
   ]
  }
 ],
 "metadata": {
  "kernelspec": {
   "display_name": "Python 3",
   "language": "python",
   "name": "python3"
  },
  "language_info": {
   "codemirror_mode": {
    "name": "ipython",
    "version": 3
   },
   "file_extension": ".py",
   "mimetype": "text/x-python",
   "name": "python",
   "nbconvert_exporter": "python",
   "pygments_lexer": "ipython3",
   "version": "3.6.3"
  }
 },
 "nbformat": 4,
 "nbformat_minor": 2
}
