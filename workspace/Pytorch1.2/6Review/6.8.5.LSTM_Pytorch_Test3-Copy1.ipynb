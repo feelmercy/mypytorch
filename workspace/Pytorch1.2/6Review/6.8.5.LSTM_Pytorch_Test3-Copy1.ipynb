{
 "cells": [
  {
   "cell_type": "code",
   "execution_count": 1,
   "metadata": {
    "ExecuteTime": {
     "end_time": "2022-04-15T02:32:21.626529Z",
     "start_time": "2022-04-15T02:32:21.220977Z"
    },
    "collapsed": true
   },
   "outputs": [],
   "source": [
    "import time\n",
    "import math\n",
    "import numpy as np\n",
    "import torch\n",
    "from torch import nn,optim\n",
    "import torch.nn.functional as F\n",
    "import random\n",
    "import zipfile\n",
    "device='cpu'"
   ]
  },
  {
   "cell_type": "code",
   "execution_count": 2,
   "metadata": {
    "ExecuteTime": {
     "end_time": "2022-04-15T02:32:22.108090Z",
     "start_time": "2022-04-15T02:32:22.086587Z"
    },
    "collapsed": true
   },
   "outputs": [],
   "source": [
    "def load_data_jay_lyrics():\n",
    "    with zipfile.ZipFile(r'F:\\study\\ml\\ebooks3\\6\\jaychou_lyrics.txt.zip') as zin:\n",
    "        with zin.open('jaychou_lyrics.txt') as f:\n",
    "            corpus_chars=f.read().decode('utf-8')\n",
    "    corpus_chars=corpus_chars.replace('\\n',' ').replace('\\r',' ')\n",
    "    corpus_chars=corpus_chars[0:10000]\n",
    "    idx_to_char=list(set(corpus_chars))\n",
    "    char_to_idx=dict([( char,i ) for i , char in enumerate(idx_to_char)])\n",
    "    vocab_size=len(char_to_idx)\n",
    "    corpus_indices=[char_to_idx[char] for char in corpus_chars]\n",
    "    return corpus_indices, char_to_idx, idx_to_char, vocab_size"
   ]
  },
  {
   "cell_type": "code",
   "execution_count": 3,
   "metadata": {
    "ExecuteTime": {
     "end_time": "2022-04-15T02:32:22.512641Z",
     "start_time": "2022-04-15T02:32:22.387125Z"
    },
    "collapsed": true
   },
   "outputs": [],
   "source": [
    "corpus_indices,char_to_idx,idx_to_char,vocab_size=load_data_jay_lyrics()"
   ]
  },
  {
   "cell_type": "code",
   "execution_count": 4,
   "metadata": {
    "ExecuteTime": {
     "end_time": "2022-04-15T02:32:22.702665Z",
     "start_time": "2022-04-15T02:32:22.697665Z"
    },
    "collapsed": true
   },
   "outputs": [],
   "source": [
    "num_inputs,num_hiddens,num_outputs=vocab_size,256,vocab_size"
   ]
  },
  {
   "cell_type": "code",
   "execution_count": 5,
   "metadata": {
    "ExecuteTime": {
     "end_time": "2022-04-15T02:32:23.093215Z",
     "start_time": "2022-04-15T02:32:23.070712Z"
    }
   },
   "outputs": [
    {
     "data": {
      "text/plain": [
       "1027"
      ]
     },
     "execution_count": 5,
     "metadata": {},
     "output_type": "execute_result"
    }
   ],
   "source": [
    "vocab_size"
   ]
  },
  {
   "cell_type": "code",
   "execution_count": 6,
   "metadata": {
    "ExecuteTime": {
     "end_time": "2022-04-15T02:32:23.345747Z",
     "start_time": "2022-04-15T02:32:23.329745Z"
    },
    "collapsed": true
   },
   "outputs": [],
   "source": [
    "def to_onehot(x,n_class):\n",
    "    def _one_hot(x,n_class):\n",
    "        x=x.long()\n",
    "        res=torch.zeros(x.shape[0],vocab_size,dtype=torch.float32)\n",
    "        res.scatter_(1,x.view(-1,1),1)\n",
    "        return res\n",
    "    return [_one_hot(x[:,i],n_class) for i in range(x.shape[1])]\n",
    "        "
   ]
  },
  {
   "cell_type": "code",
   "execution_count": 7,
   "metadata": {
    "ExecuteTime": {
     "end_time": "2022-04-15T02:32:23.959825Z",
     "start_time": "2022-04-15T02:32:23.929321Z"
    },
    "collapsed": true
   },
   "outputs": [],
   "source": [
    "class RNNModel(nn.Module):\n",
    "    def __init__(self,rnn_layer,vocab_size):\n",
    "        super().__init__()\n",
    "        self.rnn=rnn_layer\n",
    "        self.hidden_size=rnn_layer.hidden_size * (2 if rnn_layer.bidirectional else 1)\n",
    "        self.vocab_size=vocab_size\n",
    "        self.dense=nn.Linear(self.hidden_size,self.vocab_size)\n",
    "        self.state=None\n",
    "    \n",
    "    def forward(self,inputs,state):\n",
    "        x=to_onehot(inputs,self.vocab_size)\n",
    "        print('x new shape :',torch.stack(x).shape)\n",
    "        y,self.state=self.rnn(torch.stack(x),state)\n",
    "        output=self.dense(y.view(-1,y.shape[-1]))\n",
    "        return output,self.state\n"
   ]
  },
  {
   "cell_type": "code",
   "execution_count": 8,
   "metadata": {
    "ExecuteTime": {
     "end_time": "2022-04-15T02:32:24.367877Z",
     "start_time": "2022-04-15T02:32:24.330872Z"
    },
    "collapsed": true
   },
   "outputs": [],
   "source": [
    "def predict_rnn_pytorch(prefix,num_chars,model,vocab_size,device,idx_to_char,char_to_idx):\n",
    "    state=None\n",
    "    outputs=[char_to_idx[prefix[0]]]\n",
    "    for t in range(num_chars+len(prefix)-1):\n",
    "        x=torch.Tensor([outputs[-1]]).view(1,1)\n",
    "        if state is not None:\n",
    "            if isinstance(state,tuple):\n",
    "                state=(state[0],state[1])\n",
    "            else:\n",
    "                state=state\n",
    "        (y,state)=model(x,state)\n",
    "        if t<len(prefix)-1:\n",
    "            outputs.append(char_to_idx[prefix[t+1]])\n",
    "        else:\n",
    "            outputs.append(int(y.argmax(dim=1).item()))\n",
    "    return ''.join([idx_to_char[i] for i in outputs])"
   ]
  },
  {
   "cell_type": "code",
   "execution_count": 9,
   "metadata": {
    "ExecuteTime": {
     "end_time": "2022-04-15T02:32:24.670415Z",
     "start_time": "2022-04-15T02:32:24.612408Z"
    }
   },
   "outputs": [
    {
     "data": {
      "text/plain": [
       "'分开区区区区区区区区区区'"
      ]
     },
     "execution_count": 9,
     "metadata": {},
     "output_type": "execute_result"
    }
   ],
   "source": [
    "lr=1e-2\n",
    "lstm_layer=nn.LSTM(input_size=vocab_size,hidden_size=num_hiddens)\n",
    "model=RNNModel(lstm_layer,vocab_size)\n",
    "predict_rnn_pytorch('分开',10,model,vocab_size,device,idx_to_char,char_to_idx)"
   ]
  },
  {
   "cell_type": "code",
   "execution_count": 10,
   "metadata": {
    "ExecuteTime": {
     "end_time": "2022-04-15T02:32:25.067966Z",
     "start_time": "2022-04-15T02:32:25.059465Z"
    },
    "collapsed": true
   },
   "outputs": [],
   "source": [
    "def grad_clipping(params,theta,device):\n",
    "    norm=torch.Tensor([0.0])\n",
    "    for p in params:\n",
    "        norm+=(p.grad.data **2).sum()\n",
    "    norm=norm.sqrt().item()\n",
    "    if norm > theta:\n",
    "        for p in params:\n",
    "            p.grad.data *= (theta/norm)"
   ]
  },
  {
   "cell_type": "code",
   "execution_count": 11,
   "metadata": {
    "ExecuteTime": {
     "end_time": "2022-04-15T02:32:25.558528Z",
     "start_time": "2022-04-15T02:32:25.531024Z"
    },
    "collapsed": true
   },
   "outputs": [],
   "source": [
    "def data_iter_consecutive(corpus_indices,batch_size,num_steps,device=None):\n",
    "    if device is None:\n",
    "        device=torch.device('cuda' if torch.cuda.is_available() else 'cpu')\n",
    "    corpus_indices=torch.Tensor(corpus_indices,device=device)\n",
    "    data_len=len(corpus_indices)\n",
    "    batch_len=data_len//batch_size\n",
    "    indices=corpus_indices[0:batch_size*batch_len].view(batch_size,batch_len)\n",
    "    epoch_size=(batch_len-1)//num_steps\n",
    "    for i in range(epoch_size):\n",
    "        i=i*num_steps\n",
    "        X=indices[:,i:i+num_steps]\n",
    "        Y=indices[:,i+1:i+num_steps+1]\n",
    "        yield X,Y"
   ]
  },
  {
   "cell_type": "code",
   "execution_count": 12,
   "metadata": {
    "ExecuteTime": {
     "end_time": "2022-04-15T02:32:26.033088Z",
     "start_time": "2022-04-15T02:32:26.026087Z"
    }
   },
   "outputs": [
    {
     "data": {
      "text/plain": [
       "10000"
      ]
     },
     "execution_count": 12,
     "metadata": {},
     "output_type": "execute_result"
    }
   ],
   "source": [
    "len(corpus_indices)"
   ]
  },
  {
   "cell_type": "code",
   "execution_count": 13,
   "metadata": {
    "ExecuteTime": {
     "end_time": "2022-04-15T02:32:26.501648Z",
     "start_time": "2022-04-15T02:32:26.490646Z"
    }
   },
   "outputs": [
    {
     "data": {
      "text/plain": [
       "312.5"
      ]
     },
     "execution_count": 13,
     "metadata": {},
     "output_type": "execute_result"
    }
   ],
   "source": [
    "10000/32"
   ]
  },
  {
   "cell_type": "code",
   "execution_count": 14,
   "metadata": {
    "ExecuteTime": {
     "end_time": "2022-04-15T02:32:26.774682Z",
     "start_time": "2022-04-15T02:32:26.762181Z"
    }
   },
   "outputs": [
    {
     "data": {
      "text/plain": [
       "34.72222222222222"
      ]
     },
     "execution_count": 14,
     "metadata": {},
     "output_type": "execute_result"
    }
   ],
   "source": [
    "10000/32/9"
   ]
  },
  {
   "cell_type": "code",
   "execution_count": 17,
   "metadata": {
    "ExecuteTime": {
     "end_time": "2022-04-15T02:33:29.903699Z",
     "start_time": "2022-04-15T02:33:29.844691Z"
    }
   },
   "outputs": [
    {
     "name": "stdout",
     "output_type": "stream",
     "text": [
      "tensor([[ 486.,  264.,   57.,  ...,  627.,  819.,  483.],\n",
      "        [ 474.,   10.,  660.,  ...,   10.,  227.,  777.],\n",
      "        [  93.,  140.,  597.,  ...,   10.,  281.,  244.],\n",
      "        ...,\n",
      "        [ 834.,  627.,   44.,  ...,  561.,  602.,  800.],\n",
      "        [ 136.,  885.,  960.,  ...,   83., 1004.,  992.],\n",
      "        [ 565.,  627.,  937.,  ...,  627.,  252.,  908.]])\n",
      "x shape torch.Size([32, 35])\n",
      "y shape torch.Size([32, 35])\n",
      "tensor([[ 172.,  483.,  172.,  ...,  992., 1020.,  806.],\n",
      "        [ 223.,  979.,  627.,  ...,  660.,  819.,  236.],\n",
      "        [ 627., 1016.,  124.,  ...,  786.,  627.,  511.],\n",
      "        ...,\n",
      "        [ 887.,  517.,  790.,  ...,   10.,  421.,  942.],\n",
      "        [ 466.,  374.,  627.,  ...,   69.,  351.,  627.],\n",
      "        [ 485.,  745.,  136.,  ...,  188.,  627.,  355.]])\n",
      "x shape torch.Size([32, 35])\n",
      "y shape torch.Size([32, 35])\n",
      "tensor([[ 627.,  660.,  819.,  ...,  627.,  113.,  474.],\n",
      "        [   6.,   10.,  227.,  ...,  627.,  489.,  663.],\n",
      "        [ 276.,  992.,  423.,  ...,  695., 1000.,  899.],\n",
      "        ...,\n",
      "        [ 197.,  627.,  392.,  ...,  532.,  720.,  354.],\n",
      "        [  50., 1006.,  291.,  ...,  303.,  346.,  819.],\n",
      "        [ 370.,  374.,  890.,  ...,   73.,  871.,  627.]])\n",
      "x shape torch.Size([32, 35])\n",
      "y shape torch.Size([32, 35])\n",
      "tensor([[  10.,  660.,  819.,  ...,  227.,  777.,  223.],\n",
      "        [  10.,  660.,  819.,  ...,  227.,  777.,  223.],\n",
      "        [ 806.,  627.,  819.,  ...,  511.,  775.,  625.],\n",
      "        ...,\n",
      "        [  65.,  471.,  403.,  ...,  219.,   10.,  909.],\n",
      "        [  10.,  979.,  264.,  ...,  359.,  937.,  101.],\n",
      "        [ 272.,  917.,  819.,  ...,   60.,  313., 1009.]])\n",
      "x shape torch.Size([32, 35])\n",
      "y shape torch.Size([32, 35])\n",
      "tensor([[979., 627., 489.,  ..., 819., 236.,   6.],\n",
      "        [979., 627., 549.,  ..., 819., 677., 676.],\n",
      "        [627., 779., 779.,  ..., 164., 126., 627.],\n",
      "        ...,\n",
      "        [830., 923., 627.,  ..., 116.,  34., 597.],\n",
      "        [627., 359., 937.,  ..., 627., 359., 937.],\n",
      "        [906., 134., 655.,  ..., 885., 960., 469.]])\n",
      "x shape torch.Size([32, 35])\n",
      "y shape torch.Size([32, 35])\n",
      "tensor([[ 10., 227., 777.,  ..., 145., 486., 264.],\n",
      "        [ 10., 227., 777.,  ..., 549., 549.,  10.],\n",
      "        [464., 760., 760.,  ..., 627., 103.,  10.],\n",
      "        ...,\n",
      "        [627., 994., 572.,  ..., 728.,  37., 771.],\n",
      "        [101., 627., 424.,  ..., 871., 627., 392.],\n",
      "        [ 40., 161., 627.,  ..., 485., 745., 136.]])\n",
      "x shape torch.Size([32, 35])\n",
      "y shape torch.Size([32, 35])\n",
      "tensor([[  57.,  262.,  441.,  ...,  483.,  172.,  483.],\n",
      "        [ 660.,  819.,  615.,  ...,  440.,  272.,  917.],\n",
      "        [ 141.,   93.,  934.,  ...,  177., 1011.,  558.],\n",
      "        ...,\n",
      "        [ 627.,  639.,  636.,  ...,  890.,   47.,   69.],\n",
      "        [ 247., 1007.,  979.,  ...,   73.,  871.,  627.],\n",
      "        [ 885.,  627.,  195.,  ...,  908.,  485.,  745.]])\n",
      "x shape torch.Size([32, 35])\n",
      "y shape torch.Size([32, 35])\n",
      "tensor([[ 172.,  483.,  172.,  ...,  806.,  627.,  660.],\n",
      "        [ 198.,  158.,  345.,  ..., 1014.,  374.,  220.],\n",
      "        [ 627.,  103.,   10.,  ...,  727.,  849.,  469.],\n",
      "        ...,\n",
      "        [ 810.,  627.,  665.,  ...,  627.,   60.,  313.],\n",
      "        [ 252.,  908.,  485.,  ...,  488.,  770.,  601.],\n",
      "        [ 136.,  885.,  627.,  ...,  132.,  979.,  535.]])\n",
      "x shape torch.Size([32, 35])\n",
      "y shape torch.Size([32, 35])\n"
     ]
    }
   ],
   "source": [
    "for x ,y  in data_iter_consecutive(corpus_indices,32,35):\n",
    "    print(y)\n",
    "    print('x shape',x.shape)\n",
    "    print('y shape',y.shape)"
   ]
  },
  {
   "cell_type": "code",
   "execution_count": 14,
   "metadata": {
    "ExecuteTime": {
     "end_time": "2022-04-14T06:49:57.763385Z",
     "start_time": "2022-04-14T06:49:57.759385Z"
    }
   },
   "outputs": [
    {
     "data": {
      "text/plain": [
       "1120"
      ]
     },
     "execution_count": 14,
     "metadata": {},
     "output_type": "execute_result"
    }
   ],
   "source": [
    "32*35"
   ]
  },
  {
   "cell_type": "code",
   "execution_count": 15,
   "metadata": {
    "ExecuteTime": {
     "end_time": "2022-04-14T06:49:58.065403Z",
     "start_time": "2022-04-14T06:49:57.976397Z"
    },
    "collapsed": true
   },
   "outputs": [],
   "source": [
    "def train_and_predict_rnn_pytorch(model,num_hiddens,vocab_size,device,corpus_indices,idx_to_char,char_to_idx,num_epochs,num_steps,lr,\n",
    "                                 clipping_theta,batch_size,pred_period,pred_len,prefixes):\n",
    "    loss=nn.CrossEntropyLoss()\n",
    "    optimizer=optim.Adam(model.parameters(),lr=lr)\n",
    "    state=None\n",
    "    \n",
    "    for epoch in range(num_epochs):\n",
    "        l_sum,n,start=0.0,0,time.time()\n",
    "        data_iter=data_iter_consecutive(corpus_indices,batch_size,num_steps)\n",
    "        for x,y in data_iter:\n",
    "            if state is not None:\n",
    "                if isinstance(state,tuple):\n",
    "                    state=(state[0].detach(),state[1].detach())\n",
    "                else:\n",
    "                    state=state.detach()\n",
    "            (output,state)=model(x,state)\n",
    "            y=torch.transpose(y,0,1).contiguous().view(-1)\n",
    "            print('output: ' ,output.shape)\n",
    "            print('y: ' ,y.shape)\n",
    "            print('----------------')\n",
    "            print('y',y)\n",
    "            print('output',output)\n",
    "            \n",
    "            l=loss(output,y.long())\n",
    "            optimizer.zero_grad()\n",
    "            l.backward()\n",
    "            grad_clipping(model.parameters(),clipping_theta,device)\n",
    "            optimizer.step()\n",
    "            \n",
    "            l_sum +=l.item()*y.shape[0]\n",
    "            n+=y.shape[0]\n",
    "        try:\n",
    "            perplextiry=math.exp(l_sum/n)\n",
    "        except OverflowError:\n",
    "            perplextiry=float('inf')\n",
    "        \n",
    "        if (epoch+1) % pred_period==0:\n",
    "            print('epoch %d,perplexity %f ,time %.2f sec' % (epoch+1,perplextiry,time.time()-start))\n",
    "            \n",
    "            for prefix in prefixes:\n",
    "                print('-',predict_rnn_pytorch(prefix,pred_len,model,vocab_size,device,idx_to_char,char_to_idx))\n",
    "            "
   ]
  },
  {
   "cell_type": "code",
   "execution_count": 16,
   "metadata": {
    "ExecuteTime": {
     "end_time": "2022-04-14T06:49:58.486427Z",
     "start_time": "2022-04-14T06:49:58.479426Z"
    },
    "collapsed": true
   },
   "outputs": [],
   "source": [
    "num_epochs, num_steps, batch_size, lr, clipping_theta = 160, 35, 32,1e2, 1e-2\n",
    "pred_period, pred_len, prefixes = 40, 50, ['分开', '不分开']"
   ]
  },
  {
   "cell_type": "code",
   "execution_count": 21,
   "metadata": {
    "ExecuteTime": {
     "end_time": "2022-04-14T06:54:20.987441Z",
     "start_time": "2022-04-14T06:54:20.977440Z"
    }
   },
   "outputs": [
    {
     "data": {
      "text/plain": [
       "35"
      ]
     },
     "execution_count": 21,
     "metadata": {},
     "output_type": "execute_result"
    }
   ],
   "source": [
    "num_steps"
   ]
  },
  {
   "cell_type": "code",
   "execution_count": 17,
   "metadata": {
    "ExecuteTime": {
     "end_time": "2022-04-14T06:51:54.166043Z",
     "start_time": "2022-04-14T06:50:00.519543Z"
    }
   },
   "outputs": [
    {
     "name": "stdout",
     "output_type": "stream",
     "text": [
      "epoch 40,perplexity 1.037839 ,time 0.66 sec\n",
      "- 分开始想像 爸和妈当年的模样 说著一口吴侬软语的姑娘缓缓走过外滩 消失的 旧时光 一九四三 回头看 的片\n",
      "- 不分开始乡相信命运 感谢地心引力 让我碰到你 漂亮的让我面红的可爱女人 温柔的让我心疼的可爱女人 透明的让\n",
      "epoch 80,perplexity 1.011837 ,time 0.69 sec\n",
      "- 分开始想像 爸和妈当年的模样 说著一口吴侬软语的姑娘缓缓走过外滩 消失的 旧时光 一九四三 回头看 的片\n",
      "- 不分开 干什么 干什么 已被我一脚踢开 快使用双截棍 哼哼哈兮 快使用双截棍 哼哼哈兮 习武之人切记 仁者\n",
      "epoch 120,perplexity 1.008159 ,time 0.78 sec\n",
      "- 分开始打呼 管家是一只会说法语举止优雅的猪 吸血前会念约翰福音做为弥补 拥有一双蓝色眼睛的凯萨琳公主 专\n",
      "- 不分开 我跟你看棒球 想这样没担忧 唱着歌 一直走 我想就这样牵着你的手不放开 爱可不可以简简单单没有伤害\n",
      "epoch 160,perplexity 1.264831 ,time 0.69 sec\n",
      "- 分开始想像一直在这样的感受 都能承受我已无能为力 我该好好生活 我该好好生活 我该好好生活 我该好好生活\n",
      "- 不分开始移动 三两银够不够 景色入秋 漫天黄沙凉过 塞北的客栈人多 牧草有没有什么兵器最喜欢 我不能再想 \n"
     ]
    }
   ],
   "source": [
    "lr=1e-2\n",
    "gru_layer=nn.GRU(input_size=vocab_size,hidden_size=num_hiddens)\n",
    "model=RNNModel(gru_layer,vocab_size)\n",
    "train_and_predict_rnn_pytorch(model,num_hiddens,vocab_size,device,corpus_indices,idx_to_char,char_to_idx,num_epochs,num_steps,lr,\n",
    "                                 clipping_theta,batch_size,pred_period,pred_len,prefixes)"
   ]
  },
  {
   "cell_type": "code",
   "execution_count": 32,
   "metadata": {
    "ExecuteTime": {
     "end_time": "2022-04-13T05:55:25.445102Z",
     "start_time": "2022-04-13T05:55:25.436101Z"
    }
   },
   "outputs": [
    {
     "data": {
      "text/plain": [
       "<function Tensor.long>"
      ]
     },
     "execution_count": 32,
     "metadata": {},
     "output_type": "execute_result"
    }
   ],
   "source": [
    "a=torch.Tensor([[123]])\n",
    "a.long"
   ]
  },
  {
   "cell_type": "code",
   "execution_count": 33,
   "metadata": {
    "ExecuteTime": {
     "end_time": "2022-04-13T05:55:33.635570Z",
     "start_time": "2022-04-13T05:55:33.619569Z"
    }
   },
   "outputs": [
    {
     "data": {
      "text/plain": [
       "tensor([[123]])"
      ]
     },
     "execution_count": 33,
     "metadata": {},
     "output_type": "execute_result"
    }
   ],
   "source": [
    "a=torch.Tensor([[123]])\n",
    "a.long()"
   ]
  },
  {
   "cell_type": "code",
   "execution_count": null,
   "metadata": {
    "collapsed": true
   },
   "outputs": [],
   "source": []
  }
 ],
 "metadata": {
  "kernelspec": {
   "display_name": "Python 3",
   "language": "python",
   "name": "python3"
  },
  "language_info": {
   "codemirror_mode": {
    "name": "ipython",
    "version": 3
   },
   "file_extension": ".py",
   "mimetype": "text/x-python",
   "name": "python",
   "nbconvert_exporter": "python",
   "pygments_lexer": "ipython3",
   "version": "3.6.3"
  }
 },
 "nbformat": 4,
 "nbformat_minor": 2
}
