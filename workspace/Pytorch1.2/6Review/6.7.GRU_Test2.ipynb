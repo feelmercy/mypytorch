{
 "cells": [
  {
   "cell_type": "code",
   "execution_count": 8,
   "metadata": {
    "ExecuteTime": {
     "end_time": "2022-02-16T02:27:19.990079Z",
     "start_time": "2022-02-16T02:27:19.974078Z"
    },
    "collapsed": true
   },
   "outputs": [],
   "source": [
    "import time\n",
    "import math\n",
    "import numpy as np\n",
    "import torch\n",
    "from torch import nn,optim\n",
    "import torch.nn.functional as F\n",
    "import random\n",
    "import zipfile\n",
    "device='cpu'"
   ]
  },
  {
   "cell_type": "code",
   "execution_count": 9,
   "metadata": {
    "ExecuteTime": {
     "end_time": "2022-02-16T02:27:20.469106Z",
     "start_time": "2022-02-16T02:27:20.437104Z"
    },
    "collapsed": true
   },
   "outputs": [],
   "source": [
    "def load_data_jay_lyrics():\n",
    "    with zipfile.ZipFile(r'F:\\study\\ml\\ebooks3\\6\\jaychou_lyrics.txt.zip') as zin:\n",
    "        with zin.open('jaychou_lyrics.txt') as f:\n",
    "            corpus_chars=f.read().decode('utf-8')\n",
    "    corpus_chars=corpus_chars.replace('\\n',' ').replace('\\r',' ')\n",
    "    corpus_chars=corpus_chars[0:10000]\n",
    "    idx_to_char=list(set(corpus_chars))\n",
    "    char_to_idx=dict([( char,i ) for i , char in enumerate(idx_to_char)])\n",
    "    vocab_size=len(char_to_idx)\n",
    "    corpus_indices=[char_to_idx[char] for char in corpus_chars]\n",
    "    return corpus_indices, char_to_idx, idx_to_char, vocab_size"
   ]
  },
  {
   "cell_type": "code",
   "execution_count": 10,
   "metadata": {
    "ExecuteTime": {
     "end_time": "2022-02-16T02:27:20.888130Z",
     "start_time": "2022-02-16T02:27:20.873129Z"
    },
    "collapsed": true
   },
   "outputs": [],
   "source": [
    "corpus_indices,char_to_idx,idx_to_char,vocab_size=load_data_jay_lyrics()"
   ]
  },
  {
   "cell_type": "code",
   "execution_count": 11,
   "metadata": {
    "ExecuteTime": {
     "end_time": "2022-02-16T02:27:21.295153Z",
     "start_time": "2022-02-16T02:27:21.289153Z"
    },
    "collapsed": true
   },
   "outputs": [],
   "source": [
    "num_inputs,num_hiddens,num_outputs=vocab_size,256,vocab_size"
   ]
  },
  {
   "cell_type": "code",
   "execution_count": 12,
   "metadata": {
    "ExecuteTime": {
     "end_time": "2022-02-16T02:27:21.741179Z",
     "start_time": "2022-02-16T02:27:21.691176Z"
    },
    "collapsed": true
   },
   "outputs": [],
   "source": [
    "def get_params():\n",
    "    def _one(shape):\n",
    "        ts=torch.Tensor(np.random.normal(0,0.01,size=shape))\n",
    "        return nn.Parameter(ts,requires_grad=True)\n",
    "    \n",
    "    def _three():\n",
    "        return (_one((num_inputs,num_hiddens)),\n",
    "               _one((num_hiddens,num_hiddens)),\n",
    "               torch.nn.Parameter(torch.zeros(num_hiddens,dtype=torch.float32),requires_grad=True))\n",
    "#     mid layer\n",
    "    W_xz,W_hz,b_z=_three()\n",
    "    W_xr,W_hr,b_r=_three()\n",
    "    W_xh,W_hh,b_h=_three()\n",
    "    \n",
    "#     output layer\n",
    "    W_hq=_one((num_hiddens,num_outputs))\n",
    "    b_q=nn.Parameter(torch.zeros(num_outputs,dtype=torch.float32),requires_grad=True)\n",
    "    \n",
    "    return nn.ParameterList([W_xz,W_hz,b_z,W_xr,W_hr,b_r,W_xh,W_hh,b_h,W_hq,b_q])\n",
    "    "
   ]
  },
  {
   "cell_type": "code",
   "execution_count": 13,
   "metadata": {
    "ExecuteTime": {
     "end_time": "2022-02-16T02:27:22.192205Z",
     "start_time": "2022-02-16T02:27:22.180204Z"
    },
    "collapsed": true
   },
   "outputs": [],
   "source": [
    "def init_gru_state(batch_size,num_hiddens,device):\n",
    "    return (torch.zeros((batch_size,num_hiddens)),)"
   ]
  },
  {
   "cell_type": "code",
   "execution_count": 14,
   "metadata": {
    "ExecuteTime": {
     "end_time": "2022-02-16T02:27:22.640230Z",
     "start_time": "2022-02-16T02:27:22.597228Z"
    },
    "collapsed": true
   },
   "outputs": [],
   "source": [
    "def gru(inputs,state,params):\n",
    "    W_xz,W_hz,b_z,W_xr,W_hr,b_r,W_xh,W_hh,b_h,W_hq,b_q=params\n",
    "    H,=state\n",
    "    outputs=[]\n",
    "    for x in inputs:\n",
    "        Z=torch.sigmoid(torch.matmul(x,W_xz)+torch.matmul(H,W_hz)+b_z)\n",
    "        R=torch.sigmoid(torch.matmul(x,W_xr)+torch.matmul(H,W_hr)+b_r)\n",
    "        H_tilta=torch.tanh(torch.matmul(x,W_xh)+R*torch.matmul(H,W_hh)+b_h)\n",
    "        H=Z*H+(1-Z)*H_tilta\n",
    "        Y=torch.matmul(H,W_hq)+b_q\n",
    "        outputs.append(Y)\n",
    "    return outputs,(H,)"
   ]
  },
  {
   "cell_type": "code",
   "execution_count": 15,
   "metadata": {
    "ExecuteTime": {
     "end_time": "2022-02-16T02:27:23.033253Z",
     "start_time": "2022-02-16T02:27:23.026252Z"
    },
    "collapsed": true
   },
   "outputs": [],
   "source": [
    "num_epochs, num_steps, batch_size, lr, clipping_theta = 160, 35, 32,1e2, 1e-2\n",
    "pred_period, pred_len, prefixes = 40, 50, ['分开', '不分开']"
   ]
  },
  {
   "cell_type": "code",
   "execution_count": 16,
   "metadata": {
    "ExecuteTime": {
     "end_time": "2022-02-16T02:27:23.440276Z",
     "start_time": "2022-02-16T02:27:23.425275Z"
    },
    "collapsed": true
   },
   "outputs": [],
   "source": [
    "def to_onehot(x,n_class):\n",
    "    def one_hot(x,n_class):\n",
    "        x=x.long()\n",
    "        res=torch.zeros(x.shape[0],n_class,dtype=torch.float32)\n",
    "        res=res.scatter(1,x.view(-1,1),1)\n",
    "        return res\n",
    "    return [one_hot(x[:,i],n_class) for i in range(x.shape[1])]"
   ]
  },
  {
   "cell_type": "code",
   "execution_count": 17,
   "metadata": {
    "ExecuteTime": {
     "end_time": "2022-02-16T02:27:23.851300Z",
     "start_time": "2022-02-16T02:27:23.825298Z"
    }
   },
   "outputs": [
    {
     "data": {
      "text/plain": [
       "[tensor([[1., 0., 0., 0., 0., 0., 0., 0., 0., 0.],\n",
       "         [0., 0., 1., 0., 0., 0., 0., 0., 0., 0.],\n",
       "         [0., 0., 0., 0., 1., 0., 0., 0., 0., 0.],\n",
       "         [0., 0., 0., 0., 0., 0., 1., 0., 0., 0.],\n",
       "         [0., 0., 0., 0., 0., 0., 0., 0., 1., 0.]]),\n",
       " tensor([[0., 1., 0., 0., 0., 0., 0., 0., 0., 0.],\n",
       "         [0., 0., 0., 1., 0., 0., 0., 0., 0., 0.],\n",
       "         [0., 0., 0., 0., 0., 1., 0., 0., 0., 0.],\n",
       "         [0., 0., 0., 0., 0., 0., 0., 1., 0., 0.],\n",
       "         [0., 0., 0., 0., 0., 0., 0., 0., 0., 1.]])]"
      ]
     },
     "execution_count": 17,
     "metadata": {},
     "output_type": "execute_result"
    }
   ],
   "source": [
    "x=torch.arange(10).view(5,2)\n",
    "to_onehot(x,10)"
   ]
  },
  {
   "cell_type": "code",
   "execution_count": 18,
   "metadata": {
    "ExecuteTime": {
     "end_time": "2022-02-16T02:27:24.282324Z",
     "start_time": "2022-02-16T02:27:24.237322Z"
    },
    "collapsed": true
   },
   "outputs": [],
   "source": [
    "def data_iter_consecutive(corpus_indices,batch_size,num_steps,device=None):\n",
    "    if device is None:\n",
    "        device=torch.device('cuda' if torch.cuda.is_available() else 'cpu')\n",
    "    corpus_indices=torch.Tensor(corpus_indices)\n",
    "    data_len=len(corpus_indices)\n",
    "    batch_len=data_len//batch_size\n",
    "    indices=corpus_indices[0:batch_size*batch_len].view(batch_size,batch_len)\n",
    "    epoch_size=(batch_len-1)//num_steps\n",
    "    for i in range(epoch_size):\n",
    "        i=i*num_steps\n",
    "        X=indices[:,i:i+num_steps]\n",
    "        Y=indices[:,i+1:i+num_steps+1]\n",
    "        yield X,Y\n",
    "    "
   ]
  },
  {
   "cell_type": "code",
   "execution_count": 19,
   "metadata": {
    "ExecuteTime": {
     "end_time": "2022-02-16T02:27:24.701348Z",
     "start_time": "2022-02-16T02:27:24.674347Z"
    },
    "collapsed": true
   },
   "outputs": [],
   "source": [
    "def predict_rnn(prefix,num_chars,rnn,params,init_rnn_state,num_hiddens,vocab_size,device,idx_to_char,char_to_idx):\n",
    "    state=init_rnn_state(1,num_hiddens,device)\n",
    "    output=[char_to_idx[prefix[0]]]\n",
    "    for t in range(num_chars+len(prefix)-1):\n",
    "        x=to_onehot(torch.Tensor([[output[-1]]]),vocab_size)\n",
    "        (y,state)=rnn(x,state,params)\n",
    "        if t<len(prefix)-1:\n",
    "            output.append(char_to_idx[prefix[t+1]])\n",
    "        else:\n",
    "            output.append(int(y[0].argmax(dim=1).item()))\n",
    "    return ''.join([idx_to_char[i] for i in output])"
   ]
  },
  {
   "cell_type": "code",
   "execution_count": 20,
   "metadata": {
    "ExecuteTime": {
     "end_time": "2022-02-16T02:27:25.999422Z",
     "start_time": "2022-02-16T02:27:25.909417Z"
    }
   },
   "outputs": [
    {
     "name": "stdout",
     "output_type": "stream",
     "text": [
      "2 torch.Size([5, 1027]) torch.Size([5, 256])\n"
     ]
    }
   ],
   "source": [
    "state=init_gru_state(x.shape[0],num_hiddens,device)\n",
    "inputs=to_onehot(x.to(device),vocab_size)\n",
    "params=get_params()\n",
    "outputs,state_new=gru(inputs,state,params)\n",
    "print(len(outputs),outputs[0].shape,state_new[0].shape)"
   ]
  },
  {
   "cell_type": "code",
   "execution_count": 21,
   "metadata": {
    "ExecuteTime": {
     "end_time": "2022-02-16T02:27:27.317498Z",
     "start_time": "2022-02-16T02:27:27.277496Z"
    }
   },
   "outputs": [
    {
     "data": {
      "text/plain": [
       "'分开悄呼翻油蝴江婆瓜腐草'"
      ]
     },
     "execution_count": 21,
     "metadata": {},
     "output_type": "execute_result"
    }
   ],
   "source": [
    "predict_rnn('分开',10,gru,params,init_gru_state,num_hiddens,vocab_size,device,idx_to_char,char_to_idx)"
   ]
  },
  {
   "cell_type": "code",
   "execution_count": 27,
   "metadata": {
    "ExecuteTime": {
     "end_time": "2022-02-16T02:31:37.956834Z",
     "start_time": "2022-02-16T02:31:37.933832Z"
    },
    "collapsed": true
   },
   "outputs": [],
   "source": [
    "def grad_clipping(params,theta,device):\n",
    "    norm=torch.Tensor([0.0])\n",
    "    for p in params:\n",
    "        norm +=(p.grad.data **2).sum()\n",
    "    norm=norm.sqrt().item()\n",
    "    if norm > theta:\n",
    "        for p in params:\n",
    "            p.grad.data *= (theta / norm)"
   ]
  },
  {
   "cell_type": "code",
   "execution_count": 28,
   "metadata": {
    "ExecuteTime": {
     "end_time": "2022-02-16T02:31:38.396859Z",
     "start_time": "2022-02-16T02:31:38.390858Z"
    },
    "collapsed": true
   },
   "outputs": [],
   "source": [
    "def sgd(params,lr,batch_size):\n",
    "    for p in params:\n",
    "        p.data -= lr * p.grad /batch_size"
   ]
  },
  {
   "cell_type": "code",
   "execution_count": 32,
   "metadata": {
    "ExecuteTime": {
     "end_time": "2022-02-16T02:35:12.869126Z",
     "start_time": "2022-02-16T02:35:12.774120Z"
    },
    "collapsed": true
   },
   "outputs": [],
   "source": [
    "def train_and_predict_rnn(rnn,get_params,init_rnn_state,num_hiddens,vocab_size,corpus_indices,idx_to_char,char_to_idx,is_random_iter,\n",
    "                          num_epochs,num_steps,lr,clipping_theta,batch_size,pred_period,pred_len,perfixes):\n",
    "    if is_random_iter:\n",
    "        data_iter_fn=data_iter_random\n",
    "    else:\n",
    "        data_iter_fn=data_iter_consecutive\n",
    "    params=get_params()\n",
    "    loss=nn.CrossEntropyLoss()\n",
    "    \n",
    "    for epoch in range(num_epochs):\n",
    "        if not is_random_iter:\n",
    "            state=init_rnn_state(batch_size,num_hiddens,device)\n",
    "        l_sum,n,start=0.0,0,time.time()\n",
    "        data_iter=data_iter_fn(corpus_indices,batch_size,num_steps)\n",
    "        for x,y in data_iter:\n",
    "            if is_random_iter:\n",
    "                state=init_rnn_state(batch_size,num_hiddens,device)\n",
    "            else:\n",
    "                for s in state:\n",
    "                    s.detach_()\n",
    "            inputs=to_onehot(x,vocab_size)\n",
    "            (outputs,state)=rnn(inputs,state,params)\n",
    "            outputs=torch.cat(outputs,dim=0)\n",
    "            y=torch.transpose(y,0,1).contiguous().view(-1)\n",
    "            l=loss(outputs,y.long())\n",
    "            \n",
    "            if params[0].grad is not None:\n",
    "                for p in params:\n",
    "                    p.grad.data.zero_()\n",
    "            l.backward()\n",
    "            grad_clipping(params,clipping_theta,device)\n",
    "            sgd(params,lr,1)\n",
    "            l_sum+=l.item() * y.shape[0]\n",
    "            n+=y.shape[0]\n",
    "            \n",
    "        if (epoch +1) % pred_period ==0:\n",
    "            print('l_sum : ',l_sum/n)\n",
    "            print('epoch %d,perplexity %f,time %.2f sec ' % (epoch+1,math.exp(l_sum/n),time.time()-start))\n",
    "            \n",
    "            for perfix in perfixes:\n",
    "                print('-',predict_rnn(perfix,pred_len,rnn,params,init_rnn_state,num_hiddens,vocab_size,device,idx_to_char,char_to_idx))\n",
    "                \n",
    "            \n",
    "        "
   ]
  },
  {
   "cell_type": "code",
   "execution_count": 33,
   "metadata": {
    "ExecuteTime": {
     "end_time": "2022-02-16T02:35:13.088138Z",
     "start_time": "2022-02-16T02:35:13.077138Z"
    },
    "collapsed": true
   },
   "outputs": [],
   "source": [
    "num_epochs,num_steps,batch_size,lr,clipping_theta=160,35,32,1e2,1e-2\n",
    "pred_period,pred_len,prefixes=40,20,['分开','不分开']"
   ]
  },
  {
   "cell_type": "code",
   "execution_count": 34,
   "metadata": {
    "ExecuteTime": {
     "end_time": "2022-02-16T02:40:55.568727Z",
     "start_time": "2022-02-16T02:35:13.742176Z"
    }
   },
   "outputs": [
    {
     "name": "stdout",
     "output_type": "stream",
     "text": [
      "l_sum :  5.012637674808502\n",
      "epoch 40,perplexity 150.300658,time 1.99 sec \n",
      "- 分开 我想你的让我爱爱女女 坏坏的让我爱爱女\n",
      "- 不分开 我想你的让我爱爱女女 坏坏的让我爱爱女\n",
      "l_sum :  3.435825437307358\n",
      "epoch 80,perplexity 31.057038,time 2.04 sec \n",
      "- 分开 我不能再想 我不要 我不要再想 我不要\n",
      "- 不分开 我不能再想 我不要 我不要再想 我不要\n",
      "l_sum :  1.5432607531547546\n",
      "epoch 120,perplexity 4.679825,time 1.99 sec \n",
      "- 分开 我想要这样牵着你的手不放开 爱可不可以\n",
      "- 不分开不能 我不能再想 我不要再想 我不 我不\n",
      "l_sum :  0.3664308227598667\n",
      "epoch 160,perplexity 1.442577,time 1.92 sec \n",
      "- 分开 我感好好生活 后知后觉 又过了一个秋 \n",
      "- 不分开你说 我不悔没让你知道 迎真的让你撒娇 \n"
     ]
    }
   ],
   "source": [
    "train_and_predict_rnn(gru,get_params,init_gru_state,num_hiddens,vocab_size,\n",
    "                     corpus_indices,idx_to_char,char_to_idx,None,\n",
    "                     num_epochs,num_steps,lr,clipping_theta,batch_size,pred_period,\n",
    "                     pred_len,prefixes)"
   ]
  },
  {
   "cell_type": "code",
   "execution_count": null,
   "metadata": {
    "collapsed": true
   },
   "outputs": [],
   "source": []
  },
  {
   "cell_type": "code",
   "execution_count": null,
   "metadata": {
    "collapsed": true
   },
   "outputs": [],
   "source": []
  }
 ],
 "metadata": {
  "kernelspec": {
   "display_name": "Python 3",
   "language": "python",
   "name": "python3"
  },
  "language_info": {
   "codemirror_mode": {
    "name": "ipython",
    "version": 3
   },
   "file_extension": ".py",
   "mimetype": "text/x-python",
   "name": "python",
   "nbconvert_exporter": "python",
   "pygments_lexer": "ipython3",
   "version": "3.6.3"
  }
 },
 "nbformat": 4,
 "nbformat_minor": 2
}
