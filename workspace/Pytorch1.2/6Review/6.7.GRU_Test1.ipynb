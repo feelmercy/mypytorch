{
 "cells": [
  {
   "cell_type": "code",
   "execution_count": 1,
   "metadata": {
    "ExecuteTime": {
     "end_time": "2022-02-11T06:35:02.679914Z",
     "start_time": "2022-02-11T06:35:02.415899Z"
    },
    "collapsed": true
   },
   "outputs": [],
   "source": [
    "import time\n",
    "import math\n",
    "import numpy as np\n",
    "import torch\n",
    "from torch import nn,optim\n",
    "import torch.nn.functional as F\n",
    "import random\n",
    "import zipfile\n",
    "device='cpu'"
   ]
  },
  {
   "cell_type": "code",
   "execution_count": 2,
   "metadata": {
    "ExecuteTime": {
     "end_time": "2022-02-11T06:54:36.748067Z",
     "start_time": "2022-02-11T06:54:36.718065Z"
    },
    "collapsed": true
   },
   "outputs": [],
   "source": [
    "def load_data_jay_lyrics():\n",
    "    with zipfile.ZipFile(r'F:\\study\\ml\\ebooks3\\6\\jaychou_lyrics.txt.zip') as zin:\n",
    "        with zin.open('jaychou_lyrics.txt') as f:\n",
    "            corpus_chars=f.read().decode('utf-8')\n",
    "    corpus_chars=corpus_chars.replace('\\n',' ').replace('\\r',' ')\n",
    "    corpus_chars=corpus_chars[0:10000]\n",
    "    idx_to_char=list(set(corpus_chars))\n",
    "    char_to_idx=dict([( char,i ) for i , char in enumerate(idx_to_char)])\n",
    "    vocab_size=len(char_to_idx)\n",
    "    corpus_indices=[char_to_idx[char] for char in corpus_chars]\n",
    "    return corpus_indices, char_to_idx, idx_to_char, vocab_size"
   ]
  },
  {
   "cell_type": "code",
   "execution_count": 3,
   "metadata": {
    "ExecuteTime": {
     "end_time": "2022-02-11T06:57:00.634297Z",
     "start_time": "2022-02-11T06:57:00.616296Z"
    },
    "collapsed": true
   },
   "outputs": [],
   "source": [
    "corpus_indices,char_to_idx,idx_to_char,vocab_size=load_data_jay_lyrics()"
   ]
  },
  {
   "cell_type": "code",
   "execution_count": 4,
   "metadata": {
    "ExecuteTime": {
     "end_time": "2022-02-11T07:10:51.292808Z",
     "start_time": "2022-02-11T07:10:51.271806Z"
    },
    "collapsed": true
   },
   "outputs": [],
   "source": [
    "num_inputs,num_hiddens,num_outputs=vocab_size,256,vocab_size"
   ]
  },
  {
   "cell_type": "code",
   "execution_count": 15,
   "metadata": {
    "ExecuteTime": {
     "end_time": "2022-02-11T08:53:18.136387Z",
     "start_time": "2022-02-11T08:53:18.085384Z"
    },
    "collapsed": true
   },
   "outputs": [],
   "source": [
    "def get_params():\n",
    "    def _one(shape):\n",
    "        ts=torch.tensor(np.random.normal(0,0.01,size=shape),device=device,dtype=torch.float32)\n",
    "        return nn.Parameter(ts,requires_grad=True)\n",
    "    \n",
    "    def _three():\n",
    "        return (_one((num_inputs,num_hiddens)),_one((num_hiddens,num_hiddens)),\n",
    "                torch.nn.Parameter(torch.zeros(num_hiddens,dtype=torch.float32),requires_grad=True))\n",
    "    \n",
    "    W_xz,W_hz,b_z=_three()\n",
    "    W_xr,W_hr,b_r=_three()\n",
    "    W_xh,W_hh,b_h=_three()\n",
    "    \n",
    "    W_hq=_one((num_hiddens,num_outputs))\n",
    "    b_q=torch.nn.Parameter(torch.zeros(num_outputs,dtype=torch.float32),requires_grad=True)\n",
    "    \n",
    "    return nn.ParameterList([W_xz,W_hz,b_z,W_xr,W_hr,b_r,W_xh,W_hh,b_h,W_hq,b_q])\n",
    "        "
   ]
  },
  {
   "cell_type": "code",
   "execution_count": 16,
   "metadata": {
    "ExecuteTime": {
     "end_time": "2022-02-11T08:53:19.076441Z",
     "start_time": "2022-02-11T08:53:19.068440Z"
    },
    "collapsed": true
   },
   "outputs": [],
   "source": [
    "def init_gru_state(batch_size,num_hiddens,device):\n",
    "    return (torch.zeros((batch_size,num_hiddens),device=device),)"
   ]
  },
  {
   "cell_type": "code",
   "execution_count": 29,
   "metadata": {
    "ExecuteTime": {
     "end_time": "2022-02-11T08:54:47.431494Z",
     "start_time": "2022-02-11T08:54:47.390492Z"
    },
    "collapsed": true
   },
   "outputs": [],
   "source": [
    "def gru(inputs,state,params):\n",
    "    W_xz,W_hz,b_z,W_xr,W_hr,b_r,W_xh,W_hh,b_h,W_hq,b_q=params\n",
    "    H,=state\n",
    "    outputs=[]\n",
    "    for X in inputs:\n",
    "        Z=torch.sigmoid(torch.matmul(X,W_xz)+torch.matmul(H,W_hz)+b_z)\n",
    "        R=torch.sigmoid(torch.matmul(X,W_xr)+torch.matmul(H,W_hr)+b_r)\n",
    "        H_tilda=torch.tanh(torch.matmul(X,W_xh)+R*(torch.matmul(H,W_hh)+b_h))\n",
    "        H=Z*H+(1-Z)*H_tilda\n",
    "        Y=torch.matmul(H,W_hq)+b_q\n",
    "        outputs.append(Y)\n",
    "    return outputs,(H,)\n",
    "    \n",
    "    "
   ]
  },
  {
   "cell_type": "code",
   "execution_count": 30,
   "metadata": {
    "ExecuteTime": {
     "end_time": "2022-02-11T08:54:47.914522Z",
     "start_time": "2022-02-11T08:54:47.907521Z"
    },
    "collapsed": true
   },
   "outputs": [],
   "source": [
    "um_epochs, num_steps, batch_size, lr, clipping_theta = 160, 35, 32,1e2, 1e-2\n",
    "pred_period, pred_len, prefixes = 40, 50, ['分开', '不分开']"
   ]
  },
  {
   "cell_type": "code",
   "execution_count": 31,
   "metadata": {
    "ExecuteTime": {
     "end_time": "2022-02-11T08:54:48.279543Z",
     "start_time": "2022-02-11T08:54:48.264542Z"
    },
    "collapsed": true
   },
   "outputs": [],
   "source": [
    "def to_onehot(x,n_class):\n",
    "    def one_hot(x,n_class):\n",
    "        x=x.long()\n",
    "        res=torch.zeros(x.shape[0],n_class,dtype=torch.float32)\n",
    "        res=res.scatter(1,x.view(-1,1),1)\n",
    "        return res\n",
    "    return [one_hot(x[:,i],n_class) for i in range(x.shape[1])]"
   ]
  },
  {
   "cell_type": "code",
   "execution_count": 32,
   "metadata": {
    "ExecuteTime": {
     "end_time": "2022-02-11T08:54:48.570559Z",
     "start_time": "2022-02-11T08:54:48.543558Z"
    },
    "collapsed": true
   },
   "outputs": [],
   "source": [
    "def data_iter_consecutive(corpus_indices,batch_size,num_steps,device=None):\n",
    "    if device is None:\n",
    "        device=torch.device('cuda' if torch.cuda.is_available() else 'cpu')\n",
    "    corpus_indices=torch.Tensor(corpus_indices)\n",
    "    data_len=len(corpus_indices)\n",
    "    batch_len=data_len//batch_size\n",
    "    indices=corpus_indices[0:batch_size*batch_len].view(batch_size,batch_len)\n",
    "    epoch_size=(batch_len-1)//num_steps\n",
    "    for i in range(epoch_size):\n",
    "        i=i*num_steps\n",
    "        x=indices[:,i:i+num_steps]\n",
    "        y=indices[:,i+1:i+num_steps+1]\n",
    "        yield x,y"
   ]
  },
  {
   "cell_type": "code",
   "execution_count": 40,
   "metadata": {
    "ExecuteTime": {
     "end_time": "2022-02-11T08:56:21.029848Z",
     "start_time": "2022-02-11T08:56:20.996846Z"
    },
    "collapsed": true
   },
   "outputs": [],
   "source": [
    "def predict_rnn(prefix,num_chars,rnn,params,init_rnn_state,num_hiddens,vocab_size,device,idx_to_char,char_to_idx):\n",
    "    state=init_rnn_state(1,num_hiddens,device)\n",
    "    output=[char_to_idx[prefix[0]]]\n",
    "    for t in range(num_chars+len(prefix)-1):\n",
    "        x=to_onehot(torch.Tensor([[output[-1]]]),vocab_size)\n",
    "        (y,state)=rnn(x,state,params)\n",
    "        if t<len(prefix)-1:\n",
    "            output.append(char_to_idx[prefix[t+1]])\n",
    "        else:\n",
    "            output.append(int(y[0].argmax(dim=1).item()))\n",
    "    return ''.join([idx_to_char[i] for i in output])"
   ]
  },
  {
   "cell_type": "code",
   "execution_count": 41,
   "metadata": {
    "ExecuteTime": {
     "end_time": "2022-02-11T08:56:21.589880Z",
     "start_time": "2022-02-11T08:56:21.499875Z"
    }
   },
   "outputs": [
    {
     "name": "stdout",
     "output_type": "stream",
     "text": [
      "5 torch.Size([2, 1027]) torch.Size([2, 256])\n"
     ]
    }
   ],
   "source": [
    "state=init_gru_state(x.shape[0],num_hiddens,device)\n",
    "inputs=to_onehot(x.to(device),vocab_size)\n",
    "params=get_params()\n",
    "outputs,state_new=gru(inputs,state,params)\n",
    "print(len(outputs),outputs[0].shape,state_new[0].shape)"
   ]
  },
  {
   "cell_type": "code",
   "execution_count": 42,
   "metadata": {
    "ExecuteTime": {
     "end_time": "2022-02-11T08:56:22.475930Z",
     "start_time": "2022-02-11T08:56:22.422927Z"
    }
   },
   "outputs": [
    {
     "data": {
      "text/plain": [
       "'分开还妥滩轮枚永绪坦错飞'"
      ]
     },
     "execution_count": 42,
     "metadata": {},
     "output_type": "execute_result"
    }
   ],
   "source": [
    "predict_rnn('分开',10,gru,params,init_gru_state,num_hiddens,vocab_size,device,idx_to_char,char_to_idx)"
   ]
  },
  {
   "cell_type": "code",
   "execution_count": 43,
   "metadata": {
    "ExecuteTime": {
     "end_time": "2022-02-11T09:12:21.947809Z",
     "start_time": "2022-02-11T09:12:21.925808Z"
    },
    "collapsed": true
   },
   "outputs": [],
   "source": [
    "def grad_clipping(params,theta,device):\n",
    "    norm=torch.Tensor([0.0])\n",
    "    for p in params:\n",
    "        norm +=(p.grad.data**2).sum()\n",
    "    norm=norm.sqrt().item()\n",
    "    if norm>theta:\n",
    "        for p in params:\n",
    "            p.grad.data *= (theta/norm)"
   ]
  },
  {
   "cell_type": "code",
   "execution_count": 44,
   "metadata": {
    "ExecuteTime": {
     "end_time": "2022-02-11T09:54:50.463576Z",
     "start_time": "2022-02-11T09:54:50.454575Z"
    },
    "collapsed": true
   },
   "outputs": [],
   "source": [
    "def sgd(params,lr,batch_size):\n",
    "    for p in params:\n",
    "        p.data -= lr * p.grad /batch_size"
   ]
  },
  {
   "cell_type": "code",
   "execution_count": 52,
   "metadata": {
    "ExecuteTime": {
     "end_time": "2022-02-11T10:03:22.754877Z",
     "start_time": "2022-02-11T10:03:22.664872Z"
    },
    "collapsed": true
   },
   "outputs": [],
   "source": [
    "def train_and_predict_rnn(rnn,get_params,init_rnn_state,num_hiddens,vocab_size,corpus_indices,idx_to_char,char_to_idx,is_random_iter,\n",
    "                          num_epochs,num_steps,lr,clipping_theta,batch_size,pred_period,pred_len,prefixes):\n",
    "    if is_random_iter:\n",
    "        data_iter_fn=data_iter_random\n",
    "    else:\n",
    "        data_iter_fn=data_iter_consecutive\n",
    "    params=get_params()\n",
    "    loss=nn.CrossEntropyLoss()\n",
    "    \n",
    "    for epoch in range(num_epochs):\n",
    "        if not is_random_iter:\n",
    "            state=init_gru_state(batch_size,num_hiddens,device)\n",
    "        l_sum,n,start=0.0,0,time.time()\n",
    "        data_iter=data_iter_fn(corpus_indices,batch_size,num_steps)\n",
    "        for x,y in data_iter:\n",
    "            if is_random_iter:\n",
    "                state=init_rnn_state(batch_size,num_hiddens,device)\n",
    "            else:\n",
    "                for s in state:\n",
    "                    s.detach_()\n",
    "            inputs=to_onehot(x,vocab_size)\n",
    "            (outputs,state)=rnn(inputs,state,params)\n",
    "            outputs=torch.cat(outputs,dim=0)\n",
    "            y=torch.transpose(y,0,1).contiguous().view(-1)\n",
    "            l=loss(outputs,y.long())\n",
    "            \n",
    "            if params[0].grad is not None:\n",
    "                for p in params:\n",
    "                    p.grad.data.zero_()\n",
    "            l.backward()\n",
    "            grad_clipping(params,clipping_theta,device)\n",
    "            sgd(params,lr,1)\n",
    "            l_sum+=l.item() * y.shape[0]\n",
    "            n+=y.shape[0]\n",
    "            \n",
    "            if (epoch+1) % pred_period ==0:\n",
    "                print('epoch %d ,perplexity %f,time %.2f sec' % (epoch +1,math.exp(l_sum /n),time.time()-start))\n",
    "                for prefix in prefixes:\n",
    "                    print('-',predict_rnn(prefix,pred_len,rnn,params,init_rnn_state,num_hiddens,vocab_size,device,idx_to_char,char_to_idx))\n",
    "            "
   ]
  },
  {
   "cell_type": "code",
   "execution_count": 53,
   "metadata": {
    "ExecuteTime": {
     "end_time": "2022-02-11T10:03:23.084896Z",
     "start_time": "2022-02-11T10:03:23.077896Z"
    },
    "collapsed": true
   },
   "outputs": [],
   "source": [
    "num_epochs,num_steps,batch_size,lr,clipping_theta=160,35,32,1e2,1e-2\n",
    "pred_period,pred_len,prefixes=40,20,['分开','不分开']"
   ]
  },
  {
   "cell_type": "code",
   "execution_count": null,
   "metadata": {
    "ExecuteTime": {
     "start_time": "2022-02-11T10:03:23.481Z"
    }
   },
   "outputs": [
    {
     "name": "stdout",
     "output_type": "stream",
     "text": [
      "epoch 40 ,perplexity 121.872994,time 0.25 sec\n",
      "- 分开 我不                 \n",
      "- 不分开 我想                 \n",
      "epoch 40 ,perplexity 112.650825,time 0.58 sec\n",
      "- 分开 我想的让我 我想要你的可爱女人 坏坏的\n",
      "- 不分开 我想的让我疯的可爱女人 坏坏的让我疯的\n",
      "epoch 40 ,perplexity 112.224849,time 0.87 sec\n",
      "- 分开 我想你 我想你 我想你 我想你 我想你\n",
      "- 不分开 我想你 我想你 我想你 我想你 我想你\n",
      "epoch 40 ,perplexity 112.418756,time 1.14 sec\n",
      "- 分开 我想你的让我 我想你的可爱人  坏的让\n",
      "- 不分开 我想你的让我 我想你的可爱人  坏的让\n",
      "epoch 40 ,perplexity 112.955479,time 1.44 sec\n",
      "- 分开 我想你 我想你 你不觉 我想想 你不觉\n",
      "- 不分开 我想你 你不觉 我想想 你不觉 我想想\n",
      "epoch 40 ,perplexity 111.266825,time 1.75 sec\n",
      "- 分开 我不的让我爱女人  坏的让我疯的可爱女\n",
      "- 不分开 我想你的让我爱女人  坏的让我疯的可爱\n",
      "epoch 40 ,perplexity 114.238208,time 2.04 sec\n",
      "- 分开 我不要 我不要 我不要 我想要你 我想\n",
      "- 不分开 我想你的可爱爱人 我想你的可爱爱女人 \n",
      "epoch 40 ,perplexity 114.830200,time 2.34 sec\n",
      "- 分开 我想你的可爱人 我想想你 我想你 我不\n",
      "- 不分开 我想你的可爱女人 我想想你 我不要 我\n"
     ]
    }
   ],
   "source": [
    "train_and_predict_rnn(gru,get_params,init_gru_state,num_hiddens,vocab_size,\n",
    "                     corpus_indices,idx_to_char,char_to_idx,None,\n",
    "                     num_epochs,num_steps,lr,clipping_theta,batch_size,pred_period,\n",
    "                     pred_len,prefixes)"
   ]
  },
  {
   "cell_type": "code",
   "execution_count": null,
   "metadata": {
    "collapsed": true
   },
   "outputs": [],
   "source": []
  }
 ],
 "metadata": {
  "kernelspec": {
   "display_name": "Python 3",
   "language": "python",
   "name": "python3"
  },
  "language_info": {
   "codemirror_mode": {
    "name": "ipython",
    "version": 3
   },
   "file_extension": ".py",
   "mimetype": "text/x-python",
   "name": "python",
   "nbconvert_exporter": "python",
   "pygments_lexer": "ipython3",
   "version": "3.6.3"
  }
 },
 "nbformat": 4,
 "nbformat_minor": 2
}
