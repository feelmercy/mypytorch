{
 "cells": [
  {
   "cell_type": "code",
   "execution_count": 1,
   "metadata": {
    "ExecuteTime": {
     "end_time": "2021-01-08T01:56:54.578071Z",
     "start_time": "2021-01-08T01:56:54.226051Z"
    },
    "collapsed": true
   },
   "outputs": [],
   "source": [
    "import torch\n",
    "import numpy as np"
   ]
  },
  {
   "cell_type": "code",
   "execution_count": 6,
   "metadata": {
    "ExecuteTime": {
     "end_time": "2021-01-08T02:11:43.593919Z",
     "start_time": "2021-01-08T02:11:43.584919Z"
    }
   },
   "outputs": [],
   "source": [
    "num_samples=1000\n",
    "num_input=2\n",
    "true_w=[4,-3.5,2]\n",
    "true_b=[6.1]\n",
    "features=torch.from_numpy(np.random.normal(0,1,(num_samples,num_input)))\n",
    "labels=true_w[0]* features[:,0]+true_w[1]*features[:,1]+true_b[0]\n",
    "labels += torch.from_numpy(np.random.normal(0,0.1,num_samples))"
   ]
  },
  {
   "cell_type": "code",
   "execution_count": 8,
   "metadata": {
    "ExecuteTime": {
     "end_time": "2021-01-08T02:12:01.304933Z",
     "start_time": "2021-01-08T02:12:01.296932Z"
    }
   },
   "outputs": [
    {
     "data": {
      "text/plain": [
       "torch.Size([1000])"
      ]
     },
     "execution_count": 8,
     "metadata": {},
     "output_type": "execute_result"
    }
   ],
   "source": [
    "labels.shape"
   ]
  },
  {
   "cell_type": "code",
   "execution_count": 10,
   "metadata": {
    "ExecuteTime": {
     "end_time": "2021-01-08T02:20:02.396449Z",
     "start_time": "2021-01-08T02:20:02.377448Z"
    }
   },
   "outputs": [],
   "source": [
    "def data_iter(features,labels,batch_sizes):\n",
    "    len_s=len(features)\n",
    "    indices=list(range(len_s))\n",
    "    np.random.shuffle(indices)\n",
    "    for i in range(0,len_s,batch_sizes):\n",
    "        j=torch.LongTensor(indices[i:min(i+batch_sizes,len_s)])\n",
    "        yield features.index_select(0,j),labels.index_select(0,j)"
   ]
  },
  {
   "cell_type": "code",
   "execution_count": 12,
   "metadata": {
    "ExecuteTime": {
     "end_time": "2021-01-08T02:20:49.224128Z",
     "start_time": "2021-01-08T02:20:49.219127Z"
    }
   },
   "outputs": [],
   "source": [
    "# for i,j in data_iter(features,labels,20):\n",
    "#     print(i,j)\n",
    "#     break"
   ]
  },
  {
   "cell_type": "code",
   "execution_count": 13,
   "metadata": {
    "ExecuteTime": {
     "end_time": "2021-01-08T02:21:56.898999Z",
     "start_time": "2021-01-08T02:21:56.891998Z"
    },
    "collapsed": true
   },
   "outputs": [],
   "source": [
    "def lin_reg(w,b,x):\n",
    "    return torch.mm(x,w)+b"
   ]
  },
  {
   "cell_type": "code",
   "execution_count": 14,
   "metadata": {
    "ExecuteTime": {
     "end_time": "2021-01-08T02:24:13.590817Z",
     "start_time": "2021-01-08T02:24:13.582816Z"
    },
    "collapsed": true
   },
   "outputs": [],
   "source": [
    "def l2_loss(y_hat,y):\n",
    "    return (y_hat-y.view(y_hat.size()))**2/2"
   ]
  },
  {
   "cell_type": "code",
   "execution_count": 16,
   "metadata": {
    "ExecuteTime": {
     "end_time": "2021-01-08T02:27:44.316870Z",
     "start_time": "2021-01-08T02:27:44.305869Z"
    }
   },
   "outputs": [],
   "source": [
    "def batch_sgd(params,lm,x):\n",
    "    for param in params:\n",
    "        param.data -= lm*param.grad/len(x)\n",
    "    "
   ]
  },
  {
   "cell_type": "code",
   "execution_count": 27,
   "metadata": {
    "ExecuteTime": {
     "end_time": "2021-01-08T02:50:25.931750Z",
     "start_time": "2021-01-08T02:50:25.869746Z"
    }
   },
   "outputs": [
    {
     "name": "stdout",
     "output_type": "stream",
     "text": [
      "epoch : 0 loss : 0.005343 \n",
      "epoch : 1 loss : 0.005593 \n",
      "epoch : 2 loss : 0.005656 \n"
     ]
    }
   ],
   "source": [
    "w=torch.tensor(np.random.randn(2),dtype=torch.float64).view(2,1)\n",
    "b=torch.tensor([1],dtype=torch.float64)\n",
    "w.requires_grad_(True)\n",
    "b.requires_grad_(True)\n",
    "batch_sizes=50\n",
    "epochs=3\n",
    "lm=1\n",
    "for i in range(epochs):\n",
    "    for x,y in data_iter(features,labels,batch_sizes):\n",
    "        l=l2_loss(lin_reg(w,b,x),y).sum()\n",
    "        l.backward()\n",
    "        batch_sgd([w,b],lm,x)\n",
    "        w.grad.data.zero_()\n",
    "        b.grad.data.zero_()\n",
    "    train_l=l2_loss(lin_reg(w,b,features),labels).mean().item()\n",
    "    print('epoch : %d loss : %f ' % (i,train_l))"
   ]
  },
  {
   "cell_type": "code",
   "execution_count": 26,
   "metadata": {
    "ExecuteTime": {
     "end_time": "2021-01-08T02:50:18.224309Z",
     "start_time": "2021-01-08T02:50:18.216308Z"
    }
   },
   "outputs": [
    {
     "name": "stdout",
     "output_type": "stream",
     "text": [
      "[4, -3.5, 2] train w  tensor([[ 3.9796],\n",
      "        [-3.4508]], dtype=torch.float64, requires_grad=True)\n",
      "[6.1] train b  tensor([6.1017], dtype=torch.float64, requires_grad=True)\n"
     ]
    }
   ],
   "source": [
    "print(true_w,'train w ',w)\n",
    "print(true_b,'train b ',b)"
   ]
  },
  {
   "cell_type": "code",
   "execution_count": null,
   "metadata": {
    "collapsed": true
   },
   "outputs": [],
   "source": []
  }
 ],
 "metadata": {
  "kernelspec": {
   "display_name": "Python 3",
   "language": "python",
   "name": "python3"
  },
  "language_info": {
   "codemirror_mode": {
    "name": "ipython",
    "version": 3
   },
   "file_extension": ".py",
   "mimetype": "text/x-python",
   "name": "python",
   "nbconvert_exporter": "python",
   "pygments_lexer": "ipython3",
   "version": "3.6.3"
  }
 },
 "nbformat": 4,
 "nbformat_minor": 2
}
