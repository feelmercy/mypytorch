{
 "cells": [
  {
   "cell_type": "code",
   "execution_count": 2,
   "metadata": {
    "ExecuteTime": {
     "end_time": "2021-01-08T05:22:53.649969Z",
     "start_time": "2021-01-08T05:22:53.641969Z"
    },
    "collapsed": true
   },
   "outputs": [],
   "source": [
    "import torch\n",
    "import torch.utils.data as Data\n",
    "import numpy as np"
   ]
  },
  {
   "cell_type": "code",
   "execution_count": 31,
   "metadata": {
    "ExecuteTime": {
     "end_time": "2021-01-08T06:52:14.659601Z",
     "start_time": "2021-01-08T06:52:14.646601Z"
    }
   },
   "outputs": [],
   "source": [
    "num_samples=1000\n",
    "num_inputs=2\n",
    "true_w=[2,-3,4]\n",
    "true_b=4.2\n",
    "features=torch.tensor(np.random.normal(0,1,(num_samples,num_inputs)),dtype=torch.float32)\n",
    "labels=true_w[0]*features[:,0]+true_w[1]*features[:,1]+true_b\n",
    "labels += torch.tensor(np.random.normal(0,0.01,1000),dtype=torch.float32)"
   ]
  },
  {
   "cell_type": "code",
   "execution_count": 32,
   "metadata": {
    "ExecuteTime": {
     "end_time": "2021-01-08T06:52:15.074625Z",
     "start_time": "2021-01-08T06:52:15.069625Z"
    }
   },
   "outputs": [],
   "source": [
    "batch_size=10\n",
    "dataset=Data.TensorDataset(features,labels)\n",
    "data_iter=Data.DataLoader(dataset,batch_size,shuffle=True)"
   ]
  },
  {
   "cell_type": "code",
   "execution_count": 33,
   "metadata": {
    "ExecuteTime": {
     "end_time": "2021-01-08T06:52:15.384643Z",
     "start_time": "2021-01-08T06:52:15.377642Z"
    }
   },
   "outputs": [
    {
     "name": "stdout",
     "output_type": "stream",
     "text": [
      "tensor([[-0.8193,  0.1205],\n",
      "        [ 1.2172, -0.0620],\n",
      "        [-0.5016, -0.4161],\n",
      "        [-0.3574,  0.2443],\n",
      "        [-0.7772, -0.8293],\n",
      "        [-0.2589, -0.3171],\n",
      "        [ 1.0357, -2.3186],\n",
      "        [-0.1209, -0.1241],\n",
      "        [-0.1387,  0.0978],\n",
      "        [ 1.0730,  0.8894]]) tensor([ 2.2001,  6.8213,  4.4449,  2.7641,  5.1328,  4.6169, 13.2273,  4.3101,\n",
      "         3.6213,  3.6628])\n"
     ]
    }
   ],
   "source": [
    "for i,j in data_iter:\n",
    "    print(i,j)\n",
    "    break"
   ]
  },
  {
   "cell_type": "code",
   "execution_count": 34,
   "metadata": {
    "ExecuteTime": {
     "end_time": "2021-01-08T06:52:15.776665Z",
     "start_time": "2021-01-08T06:52:15.771665Z"
    },
    "collapsed": true
   },
   "outputs": [],
   "source": [
    "import torch.nn as nn"
   ]
  },
  {
   "cell_type": "code",
   "execution_count": 35,
   "metadata": {
    "ExecuteTime": {
     "end_time": "2021-01-08T06:52:16.482706Z",
     "start_time": "2021-01-08T06:52:16.472705Z"
    }
   },
   "outputs": [
    {
     "name": "stdout",
     "output_type": "stream",
     "text": [
      "Sequential(\n",
      "  (linear): Linear(in_features=2, out_features=1, bias=True)\n",
      ")\n",
      "Linear(in_features=2, out_features=1, bias=True)\n"
     ]
    }
   ],
   "source": [
    "net=nn.Sequential()\n",
    "net.add_module('linear',nn.Linear(num_inputs,1))\n",
    "print(net)\n",
    "print(net[0])"
   ]
  },
  {
   "cell_type": "code",
   "execution_count": 36,
   "metadata": {
    "ExecuteTime": {
     "end_time": "2021-01-08T06:52:17.221748Z",
     "start_time": "2021-01-08T06:52:17.208747Z"
    }
   },
   "outputs": [
    {
     "name": "stdout",
     "output_type": "stream",
     "text": [
      "Parameter containing:\n",
      "tensor([[-0.5437, -0.4162]], requires_grad=True)\n",
      "Parameter containing:\n",
      "tensor([0.2707], requires_grad=True)\n"
     ]
    }
   ],
   "source": [
    "for param in net.parameters():\n",
    "    print(param)"
   ]
  },
  {
   "cell_type": "code",
   "execution_count": 37,
   "metadata": {
    "ExecuteTime": {
     "end_time": "2021-01-08T06:52:18.701833Z",
     "start_time": "2021-01-08T06:52:18.695832Z"
    },
    "collapsed": true
   },
   "outputs": [],
   "source": [
    "from torch.nn import init"
   ]
  },
  {
   "cell_type": "code",
   "execution_count": 46,
   "metadata": {
    "ExecuteTime": {
     "end_time": "2021-01-08T08:10:42.068850Z",
     "start_time": "2021-01-08T08:10:42.055849Z"
    }
   },
   "outputs": [
    {
     "data": {
      "text/plain": [
       "Parameter containing:\n",
       "tensor([0.], requires_grad=True)"
      ]
     },
     "execution_count": 46,
     "metadata": {},
     "output_type": "execute_result"
    }
   ],
   "source": [
    "init.normal_(net[0].weight,mean=0,std=0.01)\n",
    "init.constant_(net[0].bias,val=0)"
   ]
  },
  {
   "cell_type": "code",
   "execution_count": 39,
   "metadata": {
    "ExecuteTime": {
     "end_time": "2021-01-08T06:52:19.780894Z",
     "start_time": "2021-01-08T06:52:19.773894Z"
    },
    "collapsed": true
   },
   "outputs": [],
   "source": [
    "loss=nn.MSELoss()"
   ]
  },
  {
   "cell_type": "code",
   "execution_count": 40,
   "metadata": {
    "ExecuteTime": {
     "end_time": "2021-01-08T06:52:20.172917Z",
     "start_time": "2021-01-08T06:52:20.168916Z"
    },
    "collapsed": true
   },
   "outputs": [],
   "source": [
    "import torch.optim as optim"
   ]
  },
  {
   "cell_type": "code",
   "execution_count": 41,
   "metadata": {
    "ExecuteTime": {
     "end_time": "2021-01-08T06:52:21.020965Z",
     "start_time": "2021-01-08T06:52:21.011965Z"
    }
   },
   "outputs": [
    {
     "name": "stdout",
     "output_type": "stream",
     "text": [
      "SGD (\n",
      "Parameter Group 0\n",
      "    dampening: 0\n",
      "    lr: 0.03\n",
      "    momentum: 0\n",
      "    nesterov: False\n",
      "    weight_decay: 0\n",
      ")\n"
     ]
    }
   ],
   "source": [
    "optimizer=optim.SGD(net.parameters(),lr=0.03)\n",
    "print(optimizer)"
   ]
  },
  {
   "cell_type": "code",
   "execution_count": 42,
   "metadata": {
    "ExecuteTime": {
     "end_time": "2021-01-08T06:52:21.470991Z",
     "start_time": "2021-01-08T06:52:21.464991Z"
    }
   },
   "outputs": [],
   "source": [
    "# optimizer1=optim.SGD([{'params':net.subnet1.paramseters()},\n",
    "#                      {'params':net.subnet2.parameters(),'lr':0.01}],\n",
    "#                     lr=0.03)"
   ]
  },
  {
   "cell_type": "code",
   "execution_count": 43,
   "metadata": {
    "ExecuteTime": {
     "end_time": "2021-01-08T06:52:22.103027Z",
     "start_time": "2021-01-08T06:52:22.098027Z"
    },
    "collapsed": true
   },
   "outputs": [],
   "source": [
    "# for param_group in optimizer.param_groups:\n",
    "#     param_group['lr'] *=0.01"
   ]
  },
  {
   "cell_type": "code",
   "execution_count": 44,
   "metadata": {
    "ExecuteTime": {
     "end_time": "2021-01-08T06:52:22.814068Z",
     "start_time": "2021-01-08T06:52:22.698061Z"
    }
   },
   "outputs": [
    {
     "name": "stdout",
     "output_type": "stream",
     "text": [
      "epoch 1,loss 0.000116\n",
      "epoch 2,loss 0.000061\n",
      "epoch 3,loss 0.000108\n"
     ]
    }
   ],
   "source": [
    "num_epochs=3\n",
    "for epoch in range(1,num_epochs+1):\n",
    "    for x,y in data_iter:\n",
    "        output=net(x)\n",
    "        l=loss(output,y.view(-1,1))\n",
    "        optimizer.zero_grad()\n",
    "        l.backward()\n",
    "        optimizer.step()\n",
    "    print('epoch %d,loss %f' % (epoch,l.item()))\n",
    "        "
   ]
  },
  {
   "cell_type": "code",
   "execution_count": null,
   "metadata": {
    "collapsed": true
   },
   "outputs": [],
   "source": []
  }
 ],
 "metadata": {
  "kernelspec": {
   "display_name": "Python 3",
   "language": "python",
   "name": "python3"
  },
  "language_info": {
   "codemirror_mode": {
    "name": "ipython",
    "version": 3
   },
   "file_extension": ".py",
   "mimetype": "text/x-python",
   "name": "python",
   "nbconvert_exporter": "python",
   "pygments_lexer": "ipython3",
   "version": "3.6.3"
  }
 },
 "nbformat": 4,
 "nbformat_minor": 2
}
