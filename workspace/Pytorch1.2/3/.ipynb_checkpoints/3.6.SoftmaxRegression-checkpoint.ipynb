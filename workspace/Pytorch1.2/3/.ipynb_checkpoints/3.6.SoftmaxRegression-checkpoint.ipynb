{
 "cells": [
  {
   "cell_type": "code",
   "execution_count": 1,
   "metadata": {
    "ExecuteTime": {
     "end_time": "2021-08-09T10:06:38.393253Z",
     "start_time": "2021-08-09T10:06:37.852222Z"
    },
    "collapsed": true
   },
   "outputs": [],
   "source": [
    "import torch\n",
    "import torchvision\n",
    "from torchvision import transforms\n",
    "import numpy as np\n",
    "import sys"
   ]
  },
  {
   "cell_type": "code",
   "execution_count": 2,
   "metadata": {
    "ExecuteTime": {
     "end_time": "2021-08-09T10:06:39.301305Z",
     "start_time": "2021-08-09T10:06:39.241301Z"
    },
    "collapsed": true
   },
   "outputs": [],
   "source": [
    "batch_size=256\n",
    "mnist_train=torchvision.datasets.FashionMNIST(\n",
    "    root='F:\\study\\ml\\DataSet\\FashionMNIST',train=True,\n",
    "    download=True,transform=transforms.ToTensor())\n",
    "mnist_test=torchvision.datasets.FashionMNIST(\n",
    "    root='F:\\study\\ml\\DataSet\\FashionMNIST',train=False,\n",
    "    download=True,transform=transforms.ToTensor())"
   ]
  },
  {
   "cell_type": "code",
   "execution_count": 4,
   "metadata": {
    "ExecuteTime": {
     "end_time": "2021-08-09T10:07:05.417799Z",
     "start_time": "2021-08-09T10:07:05.398797Z"
    }
   },
   "outputs": [
    {
     "data": {
      "text/plain": [
       "torch.Size([1, 28, 28])"
      ]
     },
     "execution_count": 4,
     "metadata": {},
     "output_type": "execute_result"
    }
   ],
   "source": [
    "mnist_train[0][0].shape"
   ]
  },
  {
   "cell_type": "code",
   "execution_count": 116,
   "metadata": {
    "ExecuteTime": {
     "end_time": "2021-01-11T10:13:23.417778Z",
     "start_time": "2021-01-11T10:13:23.406777Z"
    }
   },
   "outputs": [
    {
     "data": {
      "text/plain": [
       "(tensor([[5., 7., 9.]]), tensor([[ 6.],\n",
       "         [15.]]), tensor(21.))"
      ]
     },
     "execution_count": 116,
     "metadata": {},
     "output_type": "execute_result"
    }
   ],
   "source": [
    "x=torch.tensor([[1,2,3],[4,5,6]],dtype=torch.float)\n",
    "x.sum(dim=0,keepdim=True),x.sum(dim=1,keepdim=True),x.sum()"
   ]
  },
  {
   "cell_type": "code",
   "execution_count": 42,
   "metadata": {
    "ExecuteTime": {
     "end_time": "2021-01-11T07:21:34.351133Z",
     "start_time": "2021-01-11T07:21:34.342132Z"
    },
    "collapsed": true
   },
   "outputs": [],
   "source": [
    "def softmax(x):\n",
    "    x_exp=x.exp()\n",
    "    partition=x_exp.sum(dim=1,keepdim=True)\n",
    "    return x_exp / partition"
   ]
  },
  {
   "cell_type": "code",
   "execution_count": 49,
   "metadata": {
    "ExecuteTime": {
     "end_time": "2021-01-11T07:26:47.704056Z",
     "start_time": "2021-01-11T07:26:47.693055Z"
    }
   },
   "outputs": [
    {
     "name": "stdout",
     "output_type": "stream",
     "text": [
      "tensor([[0.1517, 0.1776, 0.1652, 0.3058, 0.1998],\n",
      "        [0.1770, 0.1462, 0.1900, 0.2445, 0.2423]]) \n",
      " tensor([1., 1.])\n"
     ]
    }
   ],
   "source": [
    "x=torch.rand((2,5))\n",
    "x_prob=softmax(x)\n",
    "print(x_prob,'\\n',x_prob.sum(dim=1))"
   ]
  },
  {
   "cell_type": "code",
   "execution_count": 117,
   "metadata": {
    "ExecuteTime": {
     "end_time": "2021-01-11T10:13:29.322116Z",
     "start_time": "2021-01-11T10:13:29.316115Z"
    },
    "collapsed": true
   },
   "outputs": [],
   "source": [
    "def net(x):\n",
    "    return softmax(torch.mm(x.view((-1,num_inputs)),w)+b)"
   ]
  },
  {
   "cell_type": "code",
   "execution_count": 93,
   "metadata": {
    "ExecuteTime": {
     "end_time": "2021-01-11T09:30:07.464298Z",
     "start_time": "2021-01-11T09:30:07.453297Z"
    }
   },
   "outputs": [
    {
     "data": {
      "text/plain": [
       "tensor([[0.1000],\n",
       "        [0.5000]])"
      ]
     },
     "execution_count": 93,
     "metadata": {},
     "output_type": "execute_result"
    }
   ],
   "source": [
    "y_hat=torch.tensor([[0.1,0.3,0.6],[0.3,0.2,0.5]])\n",
    "y=torch.LongTensor([0,2])\n",
    "y_hat.gather(1,y.view(-1,1))"
   ]
  },
  {
   "cell_type": "code",
   "execution_count": 118,
   "metadata": {
    "ExecuteTime": {
     "end_time": "2021-01-11T10:13:32.007269Z",
     "start_time": "2021-01-11T10:13:31.999269Z"
    },
    "collapsed": true
   },
   "outputs": [],
   "source": [
    "def cross_entropy(y_hat,y):\n",
    "    return -torch.log(y_hat.gather(1,y.view(-1,1)))"
   ]
  },
  {
   "cell_type": "code",
   "execution_count": 95,
   "metadata": {
    "ExecuteTime": {
     "end_time": "2021-01-11T09:31:19.593423Z",
     "start_time": "2021-01-11T09:31:19.587423Z"
    }
   },
   "outputs": [
    {
     "data": {
      "text/plain": [
       "(tensor([0, 2]), tensor([[0.1000, 0.3000, 0.6000],\n",
       "         [0.3000, 0.2000, 0.5000]]))"
      ]
     },
     "execution_count": 95,
     "metadata": {},
     "output_type": "execute_result"
    }
   ],
   "source": [
    "y,y_hat"
   ]
  },
  {
   "cell_type": "code",
   "execution_count": 94,
   "metadata": {
    "ExecuteTime": {
     "end_time": "2021-01-11T09:30:19.111964Z",
     "start_time": "2021-01-11T09:30:19.044960Z"
    }
   },
   "outputs": [
    {
     "data": {
      "text/plain": [
       "tensor([[2.3026],\n",
       "        [0.6931]])"
      ]
     },
     "execution_count": 94,
     "metadata": {},
     "output_type": "execute_result"
    }
   ],
   "source": [
    "cross_entropy(y_hat,y)"
   ]
  },
  {
   "cell_type": "code",
   "execution_count": 97,
   "metadata": {
    "ExecuteTime": {
     "end_time": "2021-01-11T09:37:30.792655Z",
     "start_time": "2021-01-11T09:37:30.786654Z"
    }
   },
   "outputs": [
    {
     "data": {
      "text/plain": [
       "-0.6931471805599453"
      ]
     },
     "execution_count": 97,
     "metadata": {},
     "output_type": "execute_result"
    }
   ],
   "source": [
    "np.log(0.5)"
   ]
  },
  {
   "cell_type": "code",
   "execution_count": 119,
   "metadata": {
    "ExecuteTime": {
     "end_time": "2021-01-11T10:13:35.367461Z",
     "start_time": "2021-01-11T10:13:35.359461Z"
    },
    "collapsed": true
   },
   "outputs": [],
   "source": [
    "def accuracy(y_hat,y):\n",
    "    return (y_hat.argmax(dim=1) ==y).float().mean().item()"
   ]
  },
  {
   "cell_type": "code",
   "execution_count": 59,
   "metadata": {
    "ExecuteTime": {
     "end_time": "2021-01-11T08:17:03.145529Z",
     "start_time": "2021-01-11T08:17:03.063524Z"
    }
   },
   "outputs": [
    {
     "name": "stdout",
     "output_type": "stream",
     "text": [
      "0.5\n"
     ]
    }
   ],
   "source": [
    "print(accuracy(y_hat,y))"
   ]
  },
  {
   "cell_type": "code",
   "execution_count": 120,
   "metadata": {
    "ExecuteTime": {
     "end_time": "2021-01-11T10:13:37.724596Z",
     "start_time": "2021-01-11T10:13:37.710595Z"
    },
    "collapsed": true
   },
   "outputs": [],
   "source": [
    "def evaluate_accuracy(data_iter, net):\n",
    "    acc_sum, n = 0.0, 0\n",
    "    for x, y in data_iter:\n",
    "        acc_sum += (net(x).argmax(dim=1) == y).float().sum().item()\n",
    "        n += y.shape[0]\n",
    "    return acc_sum / n"
   ]
  },
  {
   "cell_type": "code",
   "execution_count": 109,
   "metadata": {
    "ExecuteTime": {
     "end_time": "2021-01-11T10:10:19.339249Z",
     "start_time": "2021-01-11T10:10:17.445141Z"
    }
   },
   "outputs": [
    {
     "name": "stdout",
     "output_type": "stream",
     "text": [
      "0.1\n"
     ]
    }
   ],
   "source": [
    "print(evaluate_accuracy(test_iter,net))"
   ]
  },
  {
   "cell_type": "code",
   "execution_count": 121,
   "metadata": {
    "ExecuteTime": {
     "end_time": "2021-01-11T10:13:41.563816Z",
     "start_time": "2021-01-11T10:13:41.557815Z"
    },
    "collapsed": true
   },
   "outputs": [],
   "source": [
    "def sgd(x,lm,params):\n",
    "    for p in params:\n",
    "        p.data -= lm * p.grad /len(x)"
   ]
  },
  {
   "cell_type": "code",
   "execution_count": 148,
   "metadata": {
    "ExecuteTime": {
     "end_time": "2021-01-12T02:08:57.716112Z",
     "start_time": "2021-01-12T02:08:57.689111Z"
    },
    "collapsed": true
   },
   "outputs": [],
   "source": [
    "num_epochs, lr = 5, 0.1\n",
    "\n",
    "\n",
    "def train_ch3(net,\n",
    "              train_iter,\n",
    "              test_iter,\n",
    "              loss,\n",
    "              num_epochs,\n",
    "              batch_size,\n",
    "              params=None,\n",
    "              lr=None,\n",
    "              optimizer=None):\n",
    "    for epoch in range(num_epochs):\n",
    "        train_l_sum, train_acc_sum, n = 0.0, 0.0, 0\n",
    "        for x, y in train_iter:\n",
    "            y_hat = net(x)\n",
    "            l = loss(y_hat, y).sum()\n",
    "#             print('-----------')\n",
    "#             print('y_hat: \\n',y_hat)\n",
    "#             print('y: \\n',y)\n",
    "#             print(l.item())\n",
    "#             print('-----------')\n",
    "            \n",
    "            if params is not None and params[0].grad is not None:\n",
    "                for param in params:\n",
    "                    param.grad.data.zero_()\n",
    "            l.backward()\n",
    "#             if optimizer is None:\n",
    "            sgd(x, lr, params)\n",
    "\n",
    "            train_l_sum += l.item()\n",
    "            train_acc_sum += (y_hat.argmax(dim=1) == y).float().sum().item()\n",
    "            n += y.shape[0]\n",
    "        test_acc = evaluate_accuracy(test_iter, net)\n",
    "        print('epoch %d ,loss %.4f,train acc %.3f,test acc %.3f' %\n",
    "              (epoch + 1, train_l_sum / n, train_acc_sum / n, test_acc))"
   ]
  },
  {
   "cell_type": "code",
   "execution_count": 149,
   "metadata": {
    "ExecuteTime": {
     "end_time": "2021-01-12T02:09:45.281833Z",
     "start_time": "2021-01-12T02:09:00.276259Z"
    }
   },
   "outputs": [
    {
     "name": "stdout",
     "output_type": "stream",
     "text": [
      "epoch 1 ,loss 0.4728,train acc 0.841,test acc 0.828\n",
      "epoch 2 ,loss 0.4653,train acc 0.843,test acc 0.824\n",
      "epoch 3 ,loss 0.4582,train acc 0.846,test acc 0.832\n",
      "epoch 4 ,loss 0.4524,train acc 0.847,test acc 0.819\n",
      "epoch 5 ,loss 0.4477,train acc 0.848,test acc 0.833\n"
     ]
    }
   ],
   "source": [
    "train_ch3(net, train_iter, test_iter, cross_entropy, num_epochs, batch_size,\n",
    "          [w, b], lr)"
   ]
  },
  {
   "cell_type": "code",
   "execution_count": 150,
   "metadata": {
    "ExecuteTime": {
     "end_time": "2021-01-12T02:10:34.678658Z",
     "start_time": "2021-01-12T02:10:34.671658Z"
    }
   },
   "outputs": [
    {
     "data": {
      "text/plain": [
       "tensor([0., 0., 0., 0., 0., 0., 0., 0., 0., 0.], requires_grad=True)"
      ]
     },
     "execution_count": 150,
     "metadata": {},
     "output_type": "execute_result"
    }
   ],
   "source": [
    "num_inputs=784\n",
    "num_outputs=10\n",
    "w=torch.tensor(np.random.normal(0,0.01,(num_inputs,num_outputs)),dtype=torch.float)\n",
    "b=torch.zeros(num_outputs,dtype=torch.float)\n",
    "w.requires_grad_(True)\n",
    "b.requires_grad_(True)"
   ]
  },
  {
   "cell_type": "code",
   "execution_count": 151,
   "metadata": {
    "ExecuteTime": {
     "end_time": "2021-01-12T02:11:20.710291Z",
     "start_time": "2021-01-12T02:10:36.344753Z"
    }
   },
   "outputs": [
    {
     "name": "stdout",
     "output_type": "stream",
     "text": [
      "epoch 1 ,loss 0.7826,train acc 0.749,test acc 0.787\n",
      "epoch 2 ,loss 0.5702,train acc 0.813,test acc 0.809\n",
      "epoch 3 ,loss 0.5242,train acc 0.828,test acc 0.817\n",
      "epoch 4 ,loss 0.5008,train acc 0.833,test acc 0.814\n",
      "epoch 5 ,loss 0.4854,train acc 0.836,test acc 0.826\n"
     ]
    }
   ],
   "source": [
    "train_ch3(net, train_iter, test_iter, cross_entropy, num_epochs, batch_size,\n",
    "          [w, b], lr)"
   ]
  },
  {
   "cell_type": "markdown",
   "metadata": {
    "ExecuteTime": {
     "end_time": "2021-01-12T01:56:55.059779Z",
     "start_time": "2021-01-12T01:56:55.040778Z"
    }
   },
   "source": [
    "Predict"
   ]
  },
  {
   "cell_type": "code",
   "execution_count": 152,
   "metadata": {
    "ExecuteTime": {
     "end_time": "2021-01-12T02:39:58.119521Z",
     "start_time": "2021-01-12T02:39:58.112521Z"
    },
    "collapsed": true
   },
   "outputs": [],
   "source": [
    "def get_fashion_mnist_labels(labels):\n",
    "    text_labels = [\n",
    "        't-shirt', 'trouser', 'pullover', 'dress', 'coat', 'sandal', 'shirt',\n",
    "        'sneaker', 'bag', 'ankleboot'\n",
    "    ]\n",
    "    return [text_labels[int(i)] for i in labels]"
   ]
  },
  {
   "cell_type": "code",
   "execution_count": 153,
   "metadata": {
    "ExecuteTime": {
     "end_time": "2021-01-12T02:44:05.820689Z",
     "start_time": "2021-01-12T02:44:03.167537Z"
    }
   },
   "outputs": [
    {
     "name": "stdout",
     "output_type": "stream",
     "text": [
      "Using matplotlib backend: Qt5Agg\n"
     ]
    }
   ],
   "source": [
    "import matplotlib.pyplot as plt\n",
    "%matplotlib auto"
   ]
  },
  {
   "cell_type": "code",
   "execution_count": 156,
   "metadata": {
    "ExecuteTime": {
     "end_time": "2021-01-12T02:52:08.806314Z",
     "start_time": "2021-01-12T02:52:07.537241Z"
    },
    "collapsed": true
   },
   "outputs": [],
   "source": [
    "x,y=iter(test_iter).next()\n",
    "true_labels=get_fashion_mnist_labels(y.numpy())\n",
    "pred_labels=get_fashion_mnist_labels(net(x).argmax(dim=1).numpy())\n",
    "titles=[true+'\\n'+pred for true,pred in zip(true_labels,pred_labels)]\n",
    "\n",
    "_,axs=plt.subplots(1,10,figsize=(12,12))\n",
    "for ax1,x1,y1 in zip(axs,x[:10],titles[:10]):\n",
    "    ax1.imshow(x1.view(28,28).numpy())\n",
    "    ax1.set_title(y1)\n",
    "plt.show()    \n",
    "    \n",
    "    \n"
   ]
  },
  {
   "cell_type": "code",
   "execution_count": null,
   "metadata": {
    "collapsed": true
   },
   "outputs": [],
   "source": []
  },
  {
   "cell_type": "code",
   "execution_count": null,
   "metadata": {
    "collapsed": true
   },
   "outputs": [],
   "source": []
  }
 ],
 "metadata": {
  "kernelspec": {
   "display_name": "Python 3",
   "language": "python",
   "name": "python3"
  },
  "language_info": {
   "codemirror_mode": {
    "name": "ipython",
    "version": 3
   },
   "file_extension": ".py",
   "mimetype": "text/x-python",
   "name": "python",
   "nbconvert_exporter": "python",
   "pygments_lexer": "ipython3",
   "version": "3.6.3"
  }
 },
 "nbformat": 4,
 "nbformat_minor": 2
}
