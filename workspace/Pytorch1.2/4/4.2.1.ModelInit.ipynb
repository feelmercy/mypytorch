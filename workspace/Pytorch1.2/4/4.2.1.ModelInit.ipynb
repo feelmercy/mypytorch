{
 "cells": [
  {
   "cell_type": "code",
   "execution_count": 2,
   "metadata": {
    "ExecuteTime": {
     "end_time": "2021-01-22T03:15:41.199441Z",
     "start_time": "2021-01-22T03:15:41.191440Z"
    }
   },
   "outputs": [],
   "source": [
    "import torch\n",
    "from torch.nn import init\n",
    "from torch import nn"
   ]
  },
  {
   "cell_type": "code",
   "execution_count": 4,
   "metadata": {
    "ExecuteTime": {
     "end_time": "2021-01-22T03:17:14.241762Z",
     "start_time": "2021-01-22T03:17:14.205760Z"
    }
   },
   "outputs": [
    {
     "name": "stdout",
     "output_type": "stream",
     "text": [
      "Sequential(\n",
      "  (0): Linear(in_features=4, out_features=3, bias=True)\n",
      "  (1): ReLU()\n",
      "  (2): Linear(in_features=3, out_features=1, bias=True)\n",
      ")\n"
     ]
    },
    {
     "data": {
      "text/plain": [
       "tensor(0.8400, grad_fn=<SumBackward0>)"
      ]
     },
     "execution_count": 4,
     "metadata": {},
     "output_type": "execute_result"
    }
   ],
   "source": [
    "net =nn.Sequential(nn.Linear(4,3),nn.ReLU(),nn.Linear(3,1))\n",
    "print(net)\n",
    "x=torch.rand(2,4)\n",
    "y=net(x).sum()\n",
    "y"
   ]
  },
  {
   "cell_type": "code",
   "execution_count": 8,
   "metadata": {
    "ExecuteTime": {
     "end_time": "2021-01-22T05:37:16.090321Z",
     "start_time": "2021-01-22T05:37:16.069320Z"
    }
   },
   "outputs": [
    {
     "name": "stdout",
     "output_type": "stream",
     "text": [
      "<class 'generator'>\n",
      "0.weight Parameter containing:\n",
      "tensor([[ 0.1407,  0.0700,  0.2161, -0.3438],\n",
      "        [ 0.2813,  0.0319,  0.1958, -0.3358],\n",
      "        [-0.0449, -0.2517,  0.3188, -0.0741]], requires_grad=True)\n",
      "0.bias Parameter containing:\n",
      "tensor([0.1429, 0.0287, 0.1462], requires_grad=True)\n",
      "2.weight Parameter containing:\n",
      "tensor([[-0.4143,  0.5150, -0.2508]], requires_grad=True)\n",
      "2.bias Parameter containing:\n",
      "tensor([0.4730], requires_grad=True)\n"
     ]
    }
   ],
   "source": [
    "print(type(net.named_parameters()))\n",
    "for name,param in net.named_parameters():\n",
    "    print(name,param)"
   ]
  },
  {
   "cell_type": "code",
   "execution_count": 10,
   "metadata": {
    "ExecuteTime": {
     "end_time": "2021-01-22T06:31:28.039322Z",
     "start_time": "2021-01-22T06:31:28.023321Z"
    }
   },
   "outputs": [],
   "source": [
    "class MyModel(nn.Module):\n",
    "    def __init__(self,**kwargs):\n",
    "        super().__init__(**kwargs)\n",
    "        self.weight1=nn.Parameter(torch.rand(20,20))\n",
    "        self.weight2=torch.rand(20,20)\n",
    "        \n",
    "    def forward(self,x):\n",
    "        pass"
   ]
  },
  {
   "cell_type": "code",
   "execution_count": 11,
   "metadata": {
    "ExecuteTime": {
     "end_time": "2021-01-22T06:32:13.173903Z",
     "start_time": "2021-01-22T06:32:13.161902Z"
    }
   },
   "outputs": [
    {
     "name": "stdout",
     "output_type": "stream",
     "text": [
      "weight1\n"
     ]
    }
   ],
   "source": [
    "n=MyModel()\n",
    "for name,param in n.named_parameters():\n",
    "    print(name)"
   ]
  },
  {
   "cell_type": "code",
   "execution_count": 12,
   "metadata": {
    "ExecuteTime": {
     "end_time": "2021-01-22T06:35:42.757891Z",
     "start_time": "2021-01-22T06:35:42.560879Z"
    }
   },
   "outputs": [
    {
     "name": "stdout",
     "output_type": "stream",
     "text": [
      "tensor([[ 0.1407,  0.0700,  0.2161, -0.3438],\n",
      "        [ 0.2813,  0.0319,  0.1958, -0.3358],\n",
      "        [-0.0449, -0.2517,  0.3188, -0.0741]])\n",
      "tensor([[ 0.1407,  0.0700,  0.2161, -0.3438],\n",
      "        [ 0.2813,  0.0319,  0.1958, -0.3358],\n",
      "        [-0.0449, -0.2517,  0.3188, -0.0741]])\n",
      "tensor([[-0.2386, -0.6844, -0.4233, -0.3745],\n",
      "        [ 0.2966,  0.8508,  0.5262,  0.4655],\n",
      "        [-0.0333, -0.2113, -0.1850, -0.1452]])\n"
     ]
    }
   ],
   "source": [
    "weight_0=list(net[0].parameters())[0]\n",
    "print(weight_0.data)\n",
    "print(weight_0.data)\n",
    "y.backward()\n",
    "print(weight_0.grad)"
   ]
  },
  {
   "cell_type": "code",
   "execution_count": 13,
   "metadata": {
    "ExecuteTime": {
     "end_time": "2021-01-22T06:40:43.729105Z",
     "start_time": "2021-01-22T06:40:43.679102Z"
    }
   },
   "outputs": [
    {
     "name": "stdout",
     "output_type": "stream",
     "text": [
      "0.weight tensor([[-0.0039, -0.0006,  0.0040, -0.0008],\n",
      "        [ 0.0201, -0.0093, -0.0053,  0.0030],\n",
      "        [-0.0035, -0.0071,  0.0202, -0.0178]])\n",
      "2.weight tensor([[ 0.0086,  0.0048, -0.0084]])\n"
     ]
    }
   ],
   "source": [
    "for name,param in net.named_parameters():\n",
    "    if 'weight' in name:\n",
    "        init.normal_(param,mean=0,std=0.01)\n",
    "        print(name,param.data)"
   ]
  },
  {
   "cell_type": "code",
   "execution_count": 14,
   "metadata": {
    "ExecuteTime": {
     "end_time": "2021-01-22T06:42:55.908665Z",
     "start_time": "2021-01-22T06:42:55.872663Z"
    }
   },
   "outputs": [
    {
     "name": "stdout",
     "output_type": "stream",
     "text": [
      "0.bias tensor([0., 0., 0.])\n",
      "2.bias tensor([0.])\n"
     ]
    }
   ],
   "source": [
    "for name,param in net.named_parameters():\n",
    "    if 'bias' in name:\n",
    "        init.constant_(param,val=0)\n",
    "        print(name,param.data)"
   ]
  },
  {
   "cell_type": "code",
   "execution_count": 15,
   "metadata": {
    "ExecuteTime": {
     "end_time": "2021-01-22T07:02:52.151087Z",
     "start_time": "2021-01-22T07:02:52.142086Z"
    },
    "collapsed": true
   },
   "outputs": [],
   "source": [
    "def normal_(tensor,mean=0,std=1):\n",
    "    with torch.no_grad():\n",
    "        return tensor.normal_(mean,std)"
   ]
  },
  {
   "cell_type": "code",
   "execution_count": 16,
   "metadata": {
    "ExecuteTime": {
     "end_time": "2021-01-22T07:20:34.532851Z",
     "start_time": "2021-01-22T07:20:34.482849Z"
    }
   },
   "outputs": [
    {
     "name": "stdout",
     "output_type": "stream",
     "text": [
      "0.weight tensor([[-8.0884, -0.0000, -9.1277, -0.0000],\n",
      "        [ 0.0000,  7.6779,  0.0000,  5.5858],\n",
      "        [ 5.5614,  0.0000, -0.0000, -0.0000]])\n",
      "2.weight tensor([[-0.0000, 0.0000, 9.9447]])\n"
     ]
    }
   ],
   "source": [
    "def init_weight_(tensor):\n",
    "    with torch.no_grad():\n",
    "        tensor.uniform_(-10,10)\n",
    "        tensor *= (tensor.abs() >=5).float()\n",
    "    \n",
    "for name,param in net.named_parameters():\n",
    "    if 'weight' in name:\n",
    "        init_weight_(param)\n",
    "        print(name,param.data)"
   ]
  },
  {
   "cell_type": "code",
   "execution_count": 17,
   "metadata": {
    "ExecuteTime": {
     "end_time": "2021-01-22T07:39:28.273698Z",
     "start_time": "2021-01-22T07:39:28.241696Z"
    }
   },
   "outputs": [
    {
     "name": "stdout",
     "output_type": "stream",
     "text": [
      "0.bias tensor([1., 1., 1.])\n",
      "2.bias tensor([1.])\n"
     ]
    }
   ],
   "source": [
    "for name,param in net.named_parameters():\n",
    "    if 'bias' in name:\n",
    "        param.data +=1\n",
    "        print(name,param.data)"
   ]
  },
  {
   "cell_type": "code",
   "execution_count": null,
   "metadata": {
    "collapsed": true
   },
   "outputs": [],
   "source": []
  }
 ],
 "metadata": {
  "kernelspec": {
   "display_name": "Python 3",
   "language": "python",
   "name": "python3"
  },
  "language_info": {
   "codemirror_mode": {
    "name": "ipython",
    "version": 3
   },
   "file_extension": ".py",
   "mimetype": "text/x-python",
   "name": "python",
   "nbconvert_exporter": "python",
   "pygments_lexer": "ipython3",
   "version": "3.6.3"
  }
 },
 "nbformat": 4,
 "nbformat_minor": 2
}
