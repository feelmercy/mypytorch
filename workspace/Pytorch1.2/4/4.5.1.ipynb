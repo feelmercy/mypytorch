{
 "cells": [
  {
   "cell_type": "code",
   "execution_count": 1,
   "metadata": {
    "ExecuteTime": {
     "end_time": "2021-01-27T01:59:29.514784Z",
     "start_time": "2021-01-27T01:59:29.508784Z"
    },
    "collapsed": true
   },
   "outputs": [],
   "source": [
    "import torch\n",
    "from torch import nn"
   ]
  },
  {
   "cell_type": "code",
   "execution_count": 2,
   "metadata": {
    "ExecuteTime": {
     "end_time": "2021-01-27T02:01:32.964845Z",
     "start_time": "2021-01-27T02:01:32.852838Z"
    },
    "collapsed": true
   },
   "outputs": [],
   "source": [
    "x=torch.ones(3)\n",
    "torch.save(x,r'F:\\study\\ml\\ebooks3\\torth_tmp\\x.pt')"
   ]
  },
  {
   "cell_type": "code",
   "execution_count": 4,
   "metadata": {
    "ExecuteTime": {
     "end_time": "2021-01-27T02:02:14.317210Z",
     "start_time": "2021-01-27T02:02:14.284208Z"
    }
   },
   "outputs": [
    {
     "data": {
      "text/plain": [
       "tensor([1., 1., 1.])"
      ]
     },
     "execution_count": 4,
     "metadata": {},
     "output_type": "execute_result"
    }
   ],
   "source": [
    "x2=torch.load(r'F:\\study\\ml\\ebooks3\\torth_tmp\\x.pt')\n",
    "x2"
   ]
  },
  {
   "cell_type": "code",
   "execution_count": 5,
   "metadata": {
    "ExecuteTime": {
     "end_time": "2021-01-27T02:03:19.238923Z",
     "start_time": "2021-01-27T02:03:19.172920Z"
    },
    "collapsed": true
   },
   "outputs": [],
   "source": [
    "y=torch.zeros(4)\n",
    "torch.save([x,y],r'F:\\study\\ml\\ebooks3\\torth_tmp\\xy.pt')"
   ]
  },
  {
   "cell_type": "code",
   "execution_count": 6,
   "metadata": {
    "ExecuteTime": {
     "end_time": "2021-01-27T02:03:52.264812Z",
     "start_time": "2021-01-27T02:03:52.260812Z"
    }
   },
   "outputs": [
    {
     "data": {
      "text/plain": [
       "tensor([0., 0., 0., 0.])"
      ]
     },
     "execution_count": 6,
     "metadata": {},
     "output_type": "execute_result"
    }
   ],
   "source": [
    "y"
   ]
  },
  {
   "cell_type": "code",
   "execution_count": 7,
   "metadata": {
    "ExecuteTime": {
     "end_time": "2021-01-27T02:03:56.203038Z",
     "start_time": "2021-01-27T02:03:56.197037Z"
    }
   },
   "outputs": [
    {
     "data": {
      "text/plain": [
       "[tensor([1., 1., 1.]), tensor([0., 0., 0., 0.])]"
      ]
     },
     "execution_count": 7,
     "metadata": {},
     "output_type": "execute_result"
    }
   ],
   "source": [
    "xy_list=torch.load(r'F:\\study\\ml\\ebooks3\\torth_tmp\\xy.pt')\n",
    "xy_list"
   ]
  },
  {
   "cell_type": "code",
   "execution_count": 10,
   "metadata": {
    "ExecuteTime": {
     "end_time": "2021-01-27T02:09:37.687569Z",
     "start_time": "2021-01-27T02:09:37.676569Z"
    }
   },
   "outputs": [],
   "source": [
    "torch.save({'x':x,'y':y},r'F:\\study\\ml\\ebooks3\\torth_tmp\\xy_dict.pt')"
   ]
  },
  {
   "cell_type": "code",
   "execution_count": 11,
   "metadata": {
    "ExecuteTime": {
     "end_time": "2021-01-27T02:10:21.972102Z",
     "start_time": "2021-01-27T02:10:21.960102Z"
    }
   },
   "outputs": [
    {
     "data": {
      "text/plain": [
       "{'x': tensor([1., 1., 1.]), 'y': tensor([0., 0., 0., 0.])}"
      ]
     },
     "execution_count": 11,
     "metadata": {},
     "output_type": "execute_result"
    }
   ],
   "source": [
    "xy=torch.load(r'F:\\study\\ml\\ebooks3\\torth_tmp\\xy_dict.pt')\n",
    "xy"
   ]
  },
  {
   "cell_type": "code",
   "execution_count": null,
   "metadata": {
    "collapsed": true
   },
   "outputs": [],
   "source": []
  }
 ],
 "metadata": {
  "kernelspec": {
   "display_name": "Python 3",
   "language": "python",
   "name": "python3"
  },
  "language_info": {
   "codemirror_mode": {
    "name": "ipython",
    "version": 3
   },
   "file_extension": ".py",
   "mimetype": "text/x-python",
   "name": "python",
   "nbconvert_exporter": "python",
   "pygments_lexer": "ipython3",
   "version": "3.6.3"
  }
 },
 "nbformat": 4,
 "nbformat_minor": 2
}
