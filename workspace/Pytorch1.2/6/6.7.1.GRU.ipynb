{
 "cells": [
  {
   "cell_type": "code",
   "execution_count": 1,
   "metadata": {
    "ExecuteTime": {
     "end_time": "2021-04-02T05:28:55.965897Z",
     "start_time": "2021-04-02T05:28:50.120563Z"
    },
    "collapsed": true
   },
   "outputs": [],
   "source": [
    "import time\n",
    "import math\n",
    "import numpy as np\n",
    "import torch\n",
    "from torch import nn,optim\n",
    "import torch.nn.functional as F\n",
    "import sys\n",
    "import zipfile"
   ]
  },
  {
   "cell_type": "code",
   "execution_count": 2,
   "metadata": {
    "ExecuteTime": {
     "end_time": "2021-04-02T05:28:58.847062Z",
     "start_time": "2021-04-02T05:28:56.907951Z"
    }
   },
   "outputs": [
    {
     "name": "stdout",
     "output_type": "stream",
     "text": [
      "loading customized package : d2l \n"
     ]
    }
   ],
   "source": [
    "sys.path.append('F:\\study\\ml\\python_packages')\n",
    "import d2l"
   ]
  },
  {
   "cell_type": "code",
   "execution_count": 3,
   "metadata": {
    "ExecuteTime": {
     "end_time": "2021-04-02T05:28:58.861063Z",
     "start_time": "2021-04-02T05:28:58.848062Z"
    },
    "collapsed": true
   },
   "outputs": [],
   "source": [
    "def load_data_jay_lyrics(): \n",
    "    with zipfile.ZipFile(r'F:\\study\\ml\\ebooks3\\6\\jaychou_lyrics.txt.zip') as zif:\n",
    "        with zif.open('jaychou_lyrics.txt') as f:\n",
    "            corpus_chars =f.read().decode('utf-8')\n",
    "    corpus_chars=corpus_chars.replace('\\n',' ').replace('\\r',' ')\n",
    "    corpus_chars=corpus_chars[0:10000]\n",
    "    \n",
    "    idx_to_char=list(set(corpus_chars))\n",
    "    char_to_idx=dict([(char,i) for i,char in enumerate(idx_to_char)])\n",
    "    vocab_size=len(char_to_idx)\n",
    "    corpus_indices=[char_to_idx[char] for char in corpus_chars]\n",
    "    \n",
    "    return corpus_indices,char_to_idx,idx_to_char,vocab_size"
   ]
  },
  {
   "cell_type": "code",
   "execution_count": 4,
   "metadata": {
    "ExecuteTime": {
     "end_time": "2021-04-02T05:29:00.025129Z",
     "start_time": "2021-04-02T05:28:59.843119Z"
    },
    "collapsed": true
   },
   "outputs": [],
   "source": [
    "corpus_indices,char_to_idx,idx_to_char,vocab_size=load_data_jay_lyrics()\n",
    "num_inputs,num_hiddens,num_outputs=vocab_size,256,vocab_size"
   ]
  },
  {
   "cell_type": "code",
   "execution_count": 5,
   "metadata": {
    "ExecuteTime": {
     "end_time": "2021-04-02T05:29:00.686167Z",
     "start_time": "2021-04-02T05:29:00.668166Z"
    },
    "collapsed": true
   },
   "outputs": [],
   "source": [
    "def get_params():\n",
    "    def _one(shape):\n",
    "        ts=torch.tensor(np.random.normal(0,0.01,size=shape),dtype=torch.float32)\n",
    "        return torch.nn.Parameter(ts,requires_grad=True)\n",
    "    \n",
    "    def _three():\n",
    "        return (_one((num_inputs,num_hiddens)),\n",
    "               _one((num_hiddens,num_hiddens)),\n",
    "                torch.nn.Parameter(torch.zeros(num_hiddens,dtype=torch.float32),\n",
    "                                  requires_grad=True))\n",
    "    \n",
    "    W_xz,W_hz,b_z=_three()\n",
    "    W_xr,W_hr,b_r=_three()\n",
    "    W_xh,W_hh,b_h=_three()\n",
    "    \n",
    "    W_hq=_one((num_hiddens,num_outputs))\n",
    "    b_q=torch.nn.Parameter(torch.zeros(num_outputs,dtype=torch.float32),\n",
    "                          requires_grad=True)\n",
    "    return nn.ParameterList([W_xz,W_hz,b_z,W_xr,W_hr,b_r,W_xh,W_hh,b_h,W_hq,b_q])\n",
    "    "
   ]
  },
  {
   "cell_type": "code",
   "execution_count": 6,
   "metadata": {
    "ExecuteTime": {
     "end_time": "2021-04-02T05:29:01.808231Z",
     "start_time": "2021-04-02T05:29:01.804231Z"
    },
    "collapsed": true
   },
   "outputs": [],
   "source": [
    "def init_gru_state(batch_size,num_hiddens):\n",
    "    return (torch.zeros((batch_size,num_hiddens)),)"
   ]
  },
  {
   "cell_type": "code",
   "execution_count": 7,
   "metadata": {
    "ExecuteTime": {
     "end_time": "2021-04-02T05:29:02.477270Z",
     "start_time": "2021-04-02T05:29:02.460269Z"
    },
    "collapsed": true
   },
   "outputs": [],
   "source": [
    "def gru(inputs,state,params):\n",
    "    W_xz,W_hz,b_z,W_xr,W_hr,b_r,W_xh,W_hh,b_h,W_hq,b_q=params\n",
    "    H,=state\n",
    "    outputs=[]\n",
    "    for X in inputs:\n",
    "        ## 计算更新门\n",
    "        Z=torch.sigmoid(torch.matmul(X,W_xz) + torch.matmul(H,W_hz)+b_z)\n",
    "        ## 计算重置门\n",
    "        R=torch.sigmoid(torch.matmul(X,W_xr) + torch.matmul(H,W_hr)+b_r)\n",
    "        ## 计算候选隐藏状态\n",
    "        H_tilda=torch.tanh(torch.matmul(X,W_xh)+R*torch.matmul(H,W_hh)+b_h)\n",
    "        H=Z*H+(1-Z) * H_tilda\n",
    "        Y=torch.matmul(H,W_hq)+b_q\n",
    "        outputs.append(Y)\n",
    "    return outputs,(H,)\n",
    "        "
   ]
  },
  {
   "cell_type": "code",
   "execution_count": 8,
   "metadata": {
    "ExecuteTime": {
     "end_time": "2021-04-02T05:29:03.202311Z",
     "start_time": "2021-04-02T05:29:03.188310Z"
    },
    "collapsed": true
   },
   "outputs": [],
   "source": [
    "num_epochs,num_steps,batch_size,lr,clipping_theta=240,50,32,1e2,1e-2\n",
    "pred_period,pred_len,prefixes=40,50,['分开','不分开']"
   ]
  },
  {
   "cell_type": "code",
   "execution_count": 9,
   "metadata": {
    "ExecuteTime": {
     "end_time": "2021-04-02T05:29:04.055360Z",
     "start_time": "2021-04-02T05:29:03.892350Z"
    },
    "collapsed": true
   },
   "outputs": [],
   "source": [
    "num_hiddens=256\n",
    "rnn_layer=nn.RNN(input_size=vocab_size,hidden_size=num_hiddens)"
   ]
  },
  {
   "cell_type": "code",
   "execution_count": 10,
   "metadata": {
    "ExecuteTime": {
     "end_time": "2021-04-02T05:29:05.000414Z",
     "start_time": "2021-04-02T05:29:04.980413Z"
    },
    "collapsed": true
   },
   "outputs": [],
   "source": [
    "def predict_rnn_pytorch(prefix,num_chars,model,vocab_size,idx_to_char,char_to_idx):\n",
    "    state=None\n",
    "    output=[char_to_idx[prefix[0]]]\n",
    "    ## 除了第一个字,剩下都要输出\n",
    "    for t in range(num_chars+len(prefix)-1):\n",
    "        X=torch.tensor([output[-1]]).view(1,1)\n",
    "        if state is not None:\n",
    "            if isinstance(state,tuple):\n",
    "                print('state shape2 : ',state.shape)\n",
    "                print('state[0] : ',state[0])\n",
    "                print('state[1] : ',state[1])\n",
    "                state=(state[0],state[1])\n",
    "            else:\n",
    "                state=state\n",
    "        (Y,state)=model(X,state)\n",
    "        if t<len(prefix)-1:\n",
    "            output.append(char_to_idx[prefix[t+1]])\n",
    "        else:\n",
    "            output.append(int(Y.argmax(dim=1).item()))\n",
    "    return ''.join([idx_to_char[i] for i in output])\n"
   ]
  },
  {
   "cell_type": "code",
   "execution_count": 11,
   "metadata": {
    "ExecuteTime": {
     "end_time": "2021-04-02T05:29:05.937467Z",
     "start_time": "2021-04-02T05:29:05.875464Z"
    },
    "collapsed": true
   },
   "outputs": [],
   "source": [
    "def train_and_predict_rnn(rnn, get_params, init_run_state, num_hiddens,\n",
    "                          vocab_size, corpus_indices, idx_to_char, \n",
    "                          char_to_idx,\n",
    "                          is_random_iter, num_epochs,num_steps, lr, clipping_theta,\n",
    "                          batch_size, pred_period, pred_len, prefixes):\n",
    "    if is_random_iter:\n",
    "        data_iter_fn = data_iter_random\n",
    "    else:\n",
    "        data_iter_fn = data_iter_consecutive\n",
    "\n",
    "    params = get_params()\n",
    "    loss = nn.CrossEntropyLoss()\n",
    "\n",
    "    for epoch in range(num_epochs):\n",
    "        if not is_random_iter:\n",
    "            state = init_run_state(batch_size, num_hiddens)\n",
    "        l_sum, n, start = 0.0, 0, time.time()\n",
    "        data_iter = data_iter_fn(corpus_indices, batch_size, num_steps)\n",
    "        for X, Y in data_iter:\n",
    "            if is_random_iter:\n",
    "                state = init_run_state(batch_size, num_hiddens)\n",
    "            else:\n",
    "                for s in state:\n",
    "                    s.detach_()\n",
    "#             print('----')\n",
    "#             print('X : ',X)\n",
    "#             print('X shape : ',X.shape)\n",
    "            inputs = to_onehot(X, vocab_size)\n",
    "            (outputs, state) = rnn(inputs, state, params)\n",
    "            ##print()\n",
    "            outputs = torch.cat(outputs, dim=0)\n",
    "            y = torch.transpose(Y, 0, 1).contiguous().view(-1)\n",
    "            l = loss(outputs, y.long())\n",
    "\n",
    "            if params[0].grad is not None:\n",
    "                for param in params:\n",
    "                    param.grad.data.zero_()\n",
    "            l.backward()\n",
    "            grad_clipping(params, clipping_theta)\n",
    "            d2l.sgd(params, lr, 1)\n",
    "            l_sum += l.item() * y.shape[0]\n",
    "            n += y.shape[0]\n",
    "\n",
    "        if (epoch + 1) % pred_period == 0:\n",
    "            print('epoch %d,perplexity %f,time %.2f sec' %\n",
    "                  (epoch + 1, math.exp(l_sum / n), time.time() - start))\n",
    "            for prefix in prefixes:\n",
    "                print(\n",
    "                    ' -',\n",
    "                    predict_run(prefix, pred_len, gru, params, init_run_state,\n",
    "                                num_hiddens, vocab_size, idx_to_char,\n",
    "                                char_to_idx))"
   ]
  },
  {
   "cell_type": "code",
   "execution_count": 12,
   "metadata": {
    "ExecuteTime": {
     "end_time": "2021-04-02T05:29:06.536502Z",
     "start_time": "2021-04-02T05:29:06.509500Z"
    },
    "collapsed": true
   },
   "outputs": [],
   "source": [
    "def predict_run(prefix,num_chars,rnn,params,init_run_state,num_hiddens,vocab_size,idx_to_char,char_to_idx):\n",
    "    state=init_run_state(1,num_hiddens)\n",
    "    output=[char_to_idx[prefix[0]]] ## 分\n",
    "    for t in range(num_chars + len(prefix)-1):\n",
    "#         print('t : ',t)\n",
    "#         print(output)\n",
    "        X=to_onehot(torch.tensor([[output[-1]]]),vocab_size)\n",
    "#         print('X: ',X)\n",
    "        # 计算输出和更新隐藏状态\n",
    "        (Y,state)=rnn(X,state,params)\n",
    "#         print('output: ',output)\n",
    "        # 下一个时间的输入是prefix里字符创或当前的追加预测字符\n",
    "        if t<len(prefix)-1:\n",
    "            output.append(char_to_idx[prefix[t+1]])\n",
    "        else:\n",
    "#             print('Y:\\n',Y)\n",
    "            output.append(int(Y[0].argmax(dim=1).item()))\n",
    "    return ''.join([idx_to_char[i] for i in output])\n",
    "        "
   ]
  },
  {
   "cell_type": "code",
   "execution_count": 13,
   "metadata": {
    "ExecuteTime": {
     "end_time": "2021-04-02T05:29:07.049531Z",
     "start_time": "2021-04-02T05:29:07.044531Z"
    },
    "collapsed": true
   },
   "outputs": [],
   "source": [
    "def one_hot(x, n_class, dtype=torch.float32):\n",
    "    x=x.long()\n",
    "    return torch.zeros(x.shape[0], n_class,\n",
    "                       dtype=dtype).scatter_(1, x.view(-1, 1), 1)"
   ]
  },
  {
   "cell_type": "code",
   "execution_count": 14,
   "metadata": {
    "ExecuteTime": {
     "end_time": "2021-04-02T05:29:07.551560Z",
     "start_time": "2021-04-02T05:29:07.548560Z"
    },
    "collapsed": true
   },
   "outputs": [],
   "source": [
    "def to_onehot(X,n_class):\n",
    "    return [one_hot(X[:,i],n_class) for i in range(X.shape[1])] "
   ]
  },
  {
   "cell_type": "code",
   "execution_count": 15,
   "metadata": {
    "ExecuteTime": {
     "end_time": "2021-04-02T05:29:08.228599Z",
     "start_time": "2021-04-02T05:29:08.219598Z"
    },
    "collapsed": true
   },
   "outputs": [],
   "source": [
    "def data_iter_consecutive(corpus_indices, batch_size, num_steps):\n",
    "    corpus_indices = torch.Tensor(corpus_indices)\n",
    "    data_len = len(corpus_indices)\n",
    "    batch_len = data_len // batch_size\n",
    "    indices = corpus_indices[0:batch_size * batch_len].view(batch_size, batch_len)\n",
    "    epoch_size = (batch_len - 1) // num_steps\n",
    "    for i in range(epoch_size):\n",
    "        i = i * num_steps\n",
    "        X = indices[:, i:i + num_steps]\n",
    "        Y = indices[:, i + 1:i + num_steps + 1]\n",
    "        yield X, Y"
   ]
  },
  {
   "cell_type": "code",
   "execution_count": 16,
   "metadata": {
    "ExecuteTime": {
     "end_time": "2021-04-02T05:29:08.780630Z",
     "start_time": "2021-04-02T05:29:08.772630Z"
    },
    "collapsed": true
   },
   "outputs": [],
   "source": [
    "def grad_clipping(params,theta):\n",
    "    norm=torch.tensor([0.0])\n",
    "    for param in params:\n",
    "        norm+=(param.grad.data**2).sum()\n",
    "    norm=norm.sqrt().item()\n",
    "    if norm > theta:\n",
    "        for param in params:\n",
    "            param.grad.data *= (theta/norm)\n",
    "    "
   ]
  },
  {
   "cell_type": "code",
   "execution_count": 17,
   "metadata": {
    "ExecuteTime": {
     "end_time": "2021-04-02T05:39:03.293634Z",
     "start_time": "2021-04-02T05:29:09.435668Z"
    }
   },
   "outputs": [
    {
     "name": "stdout",
     "output_type": "stream",
     "text": [
      "epoch 40,perplexity 203.326677,time 2.15 sec\n",
      " - 分开 我不不 我不不 我不不 我不不 我不不 我不不 我不不 我不不 我不不 我不不 我不不 我不不 我\n",
      " - 不分开 我不不 我不不 我不不 我不不 我不不 我不不 我不不 我不不 我不不 我不不 我不不 我不不 我\n",
      "epoch 80,perplexity 67.276541,time 2.27 sec\n",
      " - 分开 我不要 我不要 我不要 我不要 我不要 我不要 我不要 我不要 我不要 我不要 我不要 我不要 我\n",
      " - 不分开 我不要再想 我不要 我不要 我不要 我不要 我不要 我不要 我不要 我不要 我不要 我不要 我不要\n",
      "epoch 120,perplexity 16.493495,time 2.34 sec\n",
      " - 分开 我想要你 你爱我 别不了 是不知觉 你怎么 说不了 是不了 一直走 我想就这样着 有话后觉 你在一\n",
      " - 不分开 我不要再想 我不能再想                                      \n",
      "epoch 160,perplexity 4.114506,time 2.23 sec\n",
      " - 分开我 想你的话不会 让你想回这样着着家的感更 我想要你已经很久 想想想你和汉看久 想想想你和汉看久 想\n",
      " - 不分开 我已经这里坦堡 后知想你 我想要这样牵着你的手不放开 爱可不可以简简单单没有伤害 你 靠着我的肩膀\n",
      "epoch 200,perplexity 1.601464,time 2.34 sec\n",
      " - 分开我 想你 这样 我想就这样牵着你的手不放开 爱能不能够永远单纯没有悲哀 我 想带你骑单车 我 想和你\n",
      " - 不分开 你已经离开我 不知不觉 我跟了这节奏 后知后觉 又过了一个秋 后知后觉 我该好好生活 我该好好生活\n",
      "epoch 240,perplexity 1.112226,time 2.25 sec\n",
      " - 分开 小弄堂 是属于那年代白墙黑瓦的淡淡的忧伤 消失的 旧时光 一九四三 回头看 的片段 有一些风霜 老\n",
      " - 不分开 你已经离开我 不知不觉 我跟了这节奏 后知后觉 后知后觉 迷迷蒙蒙 你给的梦 出现裂缝 隐隐作痛 \n"
     ]
    }
   ],
   "source": [
    "train_and_predict_rnn(gru,get_params,init_gru_state,num_hiddens,\n",
    "                             vocab_size,corpus_indices,idx_to_char,\n",
    "                              char_to_idx,False,num_epochs,num_steps,\n",
    "                              lr,clipping_theta,batch_size,pred_period,\n",
    "                              pred_len,prefixes\n",
    "                             )"
   ]
  },
  {
   "cell_type": "code",
   "execution_count": null,
   "metadata": {
    "collapsed": true
   },
   "outputs": [],
   "source": []
  },
  {
   "cell_type": "code",
   "execution_count": null,
   "metadata": {
    "collapsed": true
   },
   "outputs": [],
   "source": []
  }
 ],
 "metadata": {
  "kernelspec": {
   "display_name": "Python 3",
   "language": "python",
   "name": "python3"
  },
  "language_info": {
   "codemirror_mode": {
    "name": "ipython",
    "version": 3
   },
   "file_extension": ".py",
   "mimetype": "text/x-python",
   "name": "python",
   "nbconvert_exporter": "python",
   "pygments_lexer": "ipython3",
   "version": "3.6.3"
  }
 },
 "nbformat": 4,
 "nbformat_minor": 2
}
