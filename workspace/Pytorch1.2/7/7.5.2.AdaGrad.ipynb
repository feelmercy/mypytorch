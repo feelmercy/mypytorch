{
 "cells": [
  {
   "cell_type": "code",
   "execution_count": 1,
   "metadata": {
    "ExecuteTime": {
     "end_time": "2021-04-30T07:50:44.899640Z",
     "start_time": "2021-04-30T07:50:44.155598Z"
    },
    "collapsed": true
   },
   "outputs": [],
   "source": [
    "import torch\n",
    "import numpy as np\n",
    "import time\n",
    "import torchvision\n",
    "from torch import nn,optim\n",
    "import matplotlib.pyplot as plt\n",
    "import math\n",
    "%matplotlib inline"
   ]
  },
  {
   "cell_type": "code",
   "execution_count": 2,
   "metadata": {
    "ExecuteTime": {
     "end_time": "2021-04-30T07:50:44.909641Z",
     "start_time": "2021-04-30T07:50:44.901640Z"
    },
    "collapsed": true
   },
   "outputs": [],
   "source": [
    "eta=0.4\n",
    "def adagrad_2d(x1,x2,s1,s2):\n",
    "    g1=0.2*x1\n",
    "    g2=4*x2\n",
    "    eps=1e-6\n",
    "    s1+=g1**2\n",
    "    s2+=g2**2\n",
    "    x1 -= g1*eta/np.sqrt(s1+eps)\n",
    "    x2 -= g2*eta/np.sqrt(s2+eps)\n",
    "    return x1,x2,s1,s2"
   ]
  },
  {
   "cell_type": "code",
   "execution_count": 3,
   "metadata": {
    "ExecuteTime": {
     "end_time": "2021-04-30T07:50:44.935642Z",
     "start_time": "2021-04-30T07:50:44.912641Z"
    },
    "collapsed": true
   },
   "outputs": [],
   "source": [
    "def train_2d(trainer):\n",
    "    x1,x2,s1,s2=-5,-2,0,0\n",
    "    result=[(x1,x2)]\n",
    "    for i in range(20):\n",
    "        x1 ,x2,s1,s2=trainer(x1,x2,s1,s2)\n",
    "        result.append((x1,x2))\n",
    "#     print(result)\n",
    "    return result\n",
    "        "
   ]
  },
  {
   "cell_type": "code",
   "execution_count": 4,
   "metadata": {
    "ExecuteTime": {
     "end_time": "2021-04-30T07:50:44.945643Z",
     "start_time": "2021-04-30T07:50:44.936642Z"
    },
    "collapsed": true
   },
   "outputs": [],
   "source": [
    "def f_2d(x1,x2):\n",
    "    return 0.1*x1**2+2*x2**2"
   ]
  },
  {
   "cell_type": "code",
   "execution_count": 5,
   "metadata": {
    "ExecuteTime": {
     "end_time": "2021-04-30T07:50:45.176656Z",
     "start_time": "2021-04-30T07:50:45.165655Z"
    },
    "collapsed": true
   },
   "outputs": [],
   "source": [
    "def show_trace_2d(f,result):\n",
    "    plt.plot(*zip(*result),'r-o')\n",
    "    x1,x2=np.meshgrid(np.arange(-5.5,1.0,0.1),np.arange(-3.0,1.0,0.1))\n",
    "    plt.contour(x1,x2,f(x1,x2))"
   ]
  },
  {
   "cell_type": "code",
   "execution_count": 6,
   "metadata": {
    "ExecuteTime": {
     "end_time": "2021-04-30T07:50:45.557678Z",
     "start_time": "2021-04-30T07:50:45.435671Z"
    }
   },
   "outputs": [
    {
     "data": {
      "image/png": "[encoded data removed]",
      "text/plain": [
       "<matplotlib.figure.Figure at 0x10a52ac8>"
      ]
     },
     "metadata": {},
     "output_type": "display_data"
    }
   ],
   "source": [
    "eta=0.4\n",
    "show_trace_2d(f_2d,train_2d(adagrad_2d))"
   ]
  },
  {
   "cell_type": "code",
   "execution_count": 7,
   "metadata": {
    "ExecuteTime": {
     "end_time": "2021-04-30T07:50:47.214773Z",
     "start_time": "2021-04-30T07:50:47.208772Z"
    },
    "collapsed": true
   },
   "outputs": [],
   "source": [
    "eta=2\n",
    "# show_trace_2d(f_2d,train_2d(adagrad_2d))"
   ]
  },
  {
   "cell_type": "markdown",
   "metadata": {},
   "source": [
    "step-by-step Adagrad"
   ]
  },
  {
   "cell_type": "code",
   "execution_count": 8,
   "metadata": {
    "ExecuteTime": {
     "end_time": "2021-04-30T07:50:48.029819Z",
     "start_time": "2021-04-30T07:50:48.008818Z"
    },
    "collapsed": true
   },
   "outputs": [],
   "source": [
    "def get_data_ch7():\n",
    "    data=np.genfromtxt(r'F:\\study\\ml\\DataSet\\airfoil_self_noise\\airfoil_self_noise.dat',\n",
    "                      delimiter='\\t')\n",
    "    data=(data-data.mean(axis=0)) / data.std(axis=0)\n",
    "    features=torch.tensor(data[:1500,:-1],dtype=torch.float32)\n",
    "    labels=torch.tensor(data[:1500,-1],dtype=torch.float32)\n",
    "    return features,labels"
   ]
  },
  {
   "cell_type": "code",
   "execution_count": 9,
   "metadata": {
    "ExecuteTime": {
     "end_time": "2021-04-30T07:50:48.548849Z",
     "start_time": "2021-04-30T07:50:48.512847Z"
    }
   },
   "outputs": [
    {
     "data": {
      "text/plain": [
       "torch.Size([1500, 5])"
      ]
     },
     "execution_count": 9,
     "metadata": {},
     "output_type": "execute_result"
    }
   ],
   "source": [
    "features,labels=get_data_ch7()\n",
    "features.shape"
   ]
  },
  {
   "cell_type": "code",
   "execution_count": 10,
   "metadata": {
    "ExecuteTime": {
     "end_time": "2021-04-30T07:50:48.814864Z",
     "start_time": "2021-04-30T07:50:48.802863Z"
    },
    "collapsed": true
   },
   "outputs": [],
   "source": [
    "def init_adagrad():\n",
    "    s_w=torch.zeros((features.shape[1],1),dtype=torch.float32)\n",
    "    s_b=torch.zeros(1,dtype=torch.float32)\n",
    "    return (s_w,s_b)"
   ]
  },
  {
   "cell_type": "code",
   "execution_count": 19,
   "metadata": {
    "ExecuteTime": {
     "end_time": "2021-04-30T08:04:06.805507Z",
     "start_time": "2021-04-30T08:04:06.789506Z"
    },
    "collapsed": true
   },
   "outputs": [],
   "source": [
    "eps=1e-6\n",
    "def adagrad_sgd(params,states,hyperparams):\n",
    "    eps=1e-6\n",
    "    for p,s in zip(params,states):\n",
    "        s.data += p.grad.data*p.grad.data\n",
    "        p.data -= hyperparams['lr']/torch.sqrt(s.data+eps) * p.grad.data"
   ]
  },
  {
   "cell_type": "code",
   "execution_count": 20,
   "metadata": {
    "ExecuteTime": {
     "end_time": "2021-04-30T08:04:07.263533Z",
     "start_time": "2021-04-30T08:04:07.249532Z"
    },
    "collapsed": true
   },
   "outputs": [],
   "source": [
    "def linreg(x,w,b):\n",
    "    return torch.mm(x,w)+b\n",
    "\n",
    "def squared_loss(y_hat,y):\n",
    "    return (y_hat-y.view(y_hat.shape))**2"
   ]
  },
  {
   "cell_type": "code",
   "execution_count": 21,
   "metadata": {
    "ExecuteTime": {
     "end_time": "2021-04-30T08:04:07.757561Z",
     "start_time": "2021-04-30T08:04:07.681557Z"
    },
    "collapsed": true
   },
   "outputs": [],
   "source": [
    "def train_ch7(optimizer_fn,states,hyperparams,features,labels,\n",
    "             batch_size=10,num_epochs=2):\n",
    "    net,loss=linreg,squared_loss\n",
    "    \n",
    "    w=torch.nn.Parameter(torch.tensor(np.random.normal(\n",
    "    0,0.01,size=(features.shape[1],1)),dtype=torch.float32,requires_grad=True))\n",
    "    \n",
    "    b=torch.nn.Parameter(torch.tensor(np.zeros(1),dtype=torch.float32,requires_grad=True))\n",
    "    \n",
    "    data_iter=torch.utils.data.DataLoader(\n",
    "    torch.utils.data.TensorDataset(features,labels),batch_size=batch_size,\n",
    "    shuffle=True)\n",
    "    \n",
    "    def eval_loss():\n",
    "        return loss(net(features,w,b),labels).mean().item() /2\n",
    "    \n",
    "    ls = [eval_loss()]\n",
    "    for _ in range(num_epochs):\n",
    "        start=time.time()\n",
    "        for batch_i,(X,y) in enumerate(data_iter):\n",
    "            l=loss(net(X,w,b),y).mean() /2\n",
    "            if w.grad is not None:\n",
    "                w.grad.data.zero_()\n",
    "                b.grad.data.zero_()\n",
    "            l.backward()\n",
    "            optimizer_fn([w,b],states,hyperparams)\n",
    "            if (batch_i+1) * batch_size % 100 ==0:\n",
    "                ls.append(eval_loss())\n",
    "    print('loss : %f , %f sec per epoch' % (ls[-1],time.time()-start))\n",
    "#     print(ls)\n",
    "    plt.plot(np.linspace(0,num_epochs,len(ls)),ls)\n",
    "    plt.xlabel('epochs')\n",
    "    plt.ylabel('loss')\n",
    "            "
   ]
  },
  {
   "cell_type": "code",
   "execution_count": 22,
   "metadata": {
    "ExecuteTime": {
     "end_time": "2021-04-30T08:04:08.565607Z",
     "start_time": "2021-04-30T08:04:08.305592Z"
    }
   },
   "outputs": [
    {
     "name": "stdout",
     "output_type": "stream",
     "text": [
      "loss : 0.242009 , 0.069004 sec per epoch\n"
     ]
    },
    {
     "data": {
      "image/png": "[encoded data removed]",
      "text/plain": [
       "<matplotlib.figure.Figure at 0x12f8bd68>"
      ]
     },
     "metadata": {},
     "output_type": "display_data"
    }
   ],
   "source": [
    "train_ch7(adagrad_sgd,init_adagrad(),{'lr':0.1},features,labels)"
   ]
  },
  {
   "cell_type": "code",
   "execution_count": 23,
   "metadata": {
    "ExecuteTime": {
     "end_time": "2021-04-30T08:04:09.286649Z",
     "start_time": "2021-04-30T08:04:09.225645Z"
    },
    "collapsed": true
   },
   "outputs": [],
   "source": [
    "def train_pytorch_ch7(optimizer_fn,hyperparams,features,labels,batch_size=10,\n",
    "                     num_epochs=2):\n",
    "    net=nn.Sequential(nn.Linear(features.shape[1],1))\n",
    "    loss=nn.MSELoss()\n",
    "    \n",
    "    optimizer=optimizer_fn(net.parameters(),**hyperparams)\n",
    "    \n",
    "    data_iter=torch.utils.data.DataLoader(\n",
    "    torch.utils.data.TensorDataset(features,labels),batch_size=batch_size,\n",
    "    shuffle=True)\n",
    "    \n",
    "    def eval_loss():\n",
    "        return loss(net(features).view(-1),labels).item() /2\n",
    "    \n",
    "    ls = [eval_loss()]\n",
    "    for _ in range(num_epochs):\n",
    "        start=time.time()\n",
    "        for batch_i,(X,y) in enumerate(data_iter):\n",
    "            l=loss(net(features).view(-1),labels) /2\n",
    "            optimizer.zero_grad()\n",
    "            l.backward()\n",
    "            optimizer.step()\n",
    "            if (batch_i+1) * batch_size % 100 ==0:\n",
    "                ls.append(eval_loss())\n",
    "    print('loss : %f , %f sec per epoch' % (ls[-1],time.time()-start))\n",
    "#     print(ls)\n",
    "    plt.plot(np.linspace(0,num_epochs,len(ls)),ls)\n",
    "    plt.xlabel('epochs')\n",
    "    plt.ylabel('loss')"
   ]
  },
  {
   "cell_type": "code",
   "execution_count": 16,
   "metadata": {
    "ExecuteTime": {
     "end_time": "2021-04-30T07:50:53.578137Z",
     "start_time": "2021-04-30T07:50:53.113110Z"
    }
   },
   "outputs": [
    {
     "name": "stdout",
     "output_type": "stream",
     "text": [
      "loss : 0.241688 , 0.060004 sec per epoch\n"
     ]
    },
    {
     "data": {
      "image/png": "[encoded data removed]",
      "text/plain": [
       "<matplotlib.figure.Figure at 0x10a52588>"
      ]
     },
     "metadata": {},
     "output_type": "display_data"
    }
   ],
   "source": [
    "train_pytorch_ch7(torch.optim.Adagrad,{'lr':0.1},features,labels)"
   ]
  },
  {
   "cell_type": "code",
   "execution_count": null,
   "metadata": {
    "collapsed": true
   },
   "outputs": [],
   "source": [
    "def train_pytorch_ch7()"
   ]
  }
 ],
 "metadata": {
  "kernelspec": {
   "display_name": "Python 3",
   "language": "python",
   "name": "python3"
  },
  "language_info": {
   "codemirror_mode": {
    "name": "ipython",
    "version": 3
   },
   "file_extension": ".py",
   "mimetype": "text/x-python",
   "name": "python",
   "nbconvert_exporter": "python",
   "pygments_lexer": "ipython3",
   "version": "3.6.3"
  }
 },
 "nbformat": 4,
 "nbformat_minor": 2
}
