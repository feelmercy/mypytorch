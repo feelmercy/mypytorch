{
 "cells": [
  {
   "cell_type": "code",
   "execution_count": 1,
   "metadata": {
    "ExecuteTime": {
     "end_time": "2021-04-28T01:46:55.113619Z",
     "start_time": "2021-04-28T01:46:43.924979Z"
    },
    "collapsed": true
   },
   "outputs": [],
   "source": [
    "import numpy as np\n",
    "import time\n",
    "import torch\n",
    "from torch import nn,optim\n",
    "import sys\n",
    "import matplotlib.pyplot as plt\n",
    "import torchvision\n",
    "%matplotlib inline"
   ]
  },
  {
   "cell_type": "code",
   "execution_count": 11,
   "metadata": {
    "ExecuteTime": {
     "end_time": "2021-04-27T09:30:58.996054Z",
     "start_time": "2021-04-27T09:30:58.983053Z"
    },
    "collapsed": true
   },
   "outputs": [],
   "source": [
    "def get_data_ch7():\n",
    "    data = np.genfromtxt(\n",
    "        r'F:\\study\\ml\\DataSet\\airfoil_self_noise\\airfoil_self_noise.dat',\n",
    "        delimiter='\\t')\n",
    "    data = (data - data.mean(axis=0)) / data.std(axis=0)\n",
    "    return torch.tensor(data[:1500, :-1], dtype=torch.float32),\\\n",
    "    torch.tensor(data[:1500,-1],dtype=torch.float32)"
   ]
  },
  {
   "cell_type": "code",
   "execution_count": 12,
   "metadata": {
    "ExecuteTime": {
     "end_time": "2021-04-27T09:30:59.251068Z",
     "start_time": "2021-04-27T09:30:59.184065Z"
    },
    "collapsed": true
   },
   "outputs": [],
   "source": [
    "features,labels=get_data_ch7()"
   ]
  },
  {
   "cell_type": "code",
   "execution_count": 22,
   "metadata": {
    "ExecuteTime": {
     "end_time": "2021-04-27T09:42:28.849511Z",
     "start_time": "2021-04-27T09:42:28.768507Z"
    },
    "collapsed": true
   },
   "outputs": [],
   "source": [
    "def train_pytorch_ch7(optimizer_fn,optimizer_hyperparams,features,labels,batch_size=10,\n",
    "                     num_epochs=2):\n",
    "    net=nn.Sequential(\n",
    "        nn.Linear(features.shape[-1],1)\n",
    "    )\n",
    "    loss=nn.MSELoss()\n",
    "    optimizer=optimizer_fn(net.parameters(),**optimizer_hyperparams)\n",
    "    \n",
    "    def eval_loss():\n",
    "        return loss(net(features).view(-1),labels).item()/2\n",
    "    ls=[eval_loss()]\n",
    "    data_iter = torch.utils.data.DataLoader(torch.utils.data.TensorDataset(\n",
    "        features, labels),batch_size,shuffle=True)\n",
    "    \n",
    "    for _ in range(num_epochs):\n",
    "        start=time.time()\n",
    "        for batch_i,(X,y) in enumerate(data_iter):\n",
    "            l=loss(net(X).view(-1),y)/2\n",
    "            \n",
    "            optimizer.zero_grad()\n",
    "            l.backward()\n",
    "            print('----------------------------')\n",
    "            for i in net.parameters():\n",
    "                print(i.grad.data)\n",
    "            print('----------------------------')\n",
    "            print('l : ',l)\n",
    "            print('eval l :',eval_loss())\n",
    "            optimizer.step()\n",
    "            if (batch_i + 1) * batch_size % 100 ==0:\n",
    "                ls.append(eval_loss())\n",
    "    print('loss : %f ,%f sec per epoch' % (ls[-1], time.time() - start))\n",
    "    plt.plot(np.linspace(0, num_epochs, len(ls)), ls)\n",
    "    plt.xlabel('epoch')\n",
    "    plt.ylabel('loss')"
   ]
  },
  {
   "cell_type": "code",
   "execution_count": 23,
   "metadata": {
    "ExecuteTime": {
     "end_time": "2021-04-27T09:42:29.382542Z",
     "start_time": "2021-04-27T09:42:29.134528Z"
    }
   },
   "outputs": [
    {
     "name": "stdout",
     "output_type": "stream",
     "text": [
      "----------------------------\n",
      "tensor([[ 1.0258, -0.5803,  0.6702,  0.2924, -0.3796]])\n",
      "tensor([0.3287])\n",
      "----------------------------\n",
      "l :  tensor(1.0606, grad_fn=<DivBackward0>)\n",
      "eval l : 1.0606441497802734\n",
      "----------------------------\n",
      "tensor([[-0.2868,  0.8855, -0.3752, -0.1057,  0.8154]])\n",
      "tensor([-0.0036])\n",
      "----------------------------\n",
      "l :  tensor(0.6733, grad_fn=<DivBackward0>)\n",
      "eval l : 0.6732850670814514\n",
      "----------------------------\n",
      "tensor([[ 0.4488, -0.8676,  0.6255, -0.0145, -0.7948]])\n",
      "tensor([0.0078])\n",
      "----------------------------\n",
      "l :  tensor(0.7208, grad_fn=<DivBackward0>)\n",
      "eval l : 0.7208042740821838\n",
      "----------------------------\n",
      "tensor([[-0.4222,  1.0306, -0.6115, -0.0092,  0.8748]])\n",
      "tensor([-0.0074])\n",
      "----------------------------\n",
      "l :  tensor(0.8128, grad_fn=<DivBackward0>)\n",
      "eval l : 0.8127893805503845\n",
      "----------------------------\n",
      "tensor([[ 0.4891, -1.0740,  0.7115, -0.0045, -0.9855]])\n",
      "tensor([0.0085])\n",
      "----------------------------\n",
      "l :  tensor(0.9282, grad_fn=<DivBackward0>)\n",
      "eval l : 0.9282147884368896\n",
      "----------------------------\n",
      "tensor([[-0.5250,  1.2262, -0.7575, -0.0022,  1.0535]])\n",
      "tensor([-0.0093])\n",
      "----------------------------\n",
      "l :  tensor(1.0686, grad_fn=<DivBackward0>)\n",
      "eval l : 1.0685620307922363\n",
      "loss : 1.238428 ,0.014001 sec per epoch\n"
     ]
    },
    {
     "data": {
      "image/png": "[encoded data removed]",
      "text/plain": [
       "<matplotlib.figure.Figure at 0x12876240>"
      ]
     },
     "metadata": {},
     "output_type": "display_data"
    }
   ],
   "source": [
    " train_pytorch_ch7(optim.SGD, {\"lr\": 1}, features, labels, 1500,6)"
   ]
  },
  {
   "cell_type": "code",
   "execution_count": 7,
   "metadata": {
    "ExecuteTime": {
     "end_time": "2021-04-27T09:18:38.013672Z",
     "start_time": "2021-04-27T09:18:37.774658Z"
    }
   },
   "outputs": [
    {
     "name": "stdout",
     "output_type": "stream",
     "text": [
      "loss : 0.246613 ,0.041003 sec per epoch\n"
     ]
    }
   ],
   "source": [
    " train_pytorch_ch7(optim.SGD, {\"lr\": 0.05}, features, labels, 10)"
   ]
  },
  {
   "cell_type": "code",
   "execution_count": 6,
   "metadata": {
    "ExecuteTime": {
     "end_time": "2021-04-26T02:50:44.677251Z",
     "start_time": "2021-04-26T02:50:44.674251Z"
    },
    "collapsed": true
   },
   "outputs": [],
   "source": [
    "data_iter = torch.utils.data.DataLoader(torch.utils.data.TensorDataset(\n",
    "    features, labels),10,shuffle=True)"
   ]
  }
 ],
 "metadata": {
  "kernelspec": {
   "display_name": "Python 3",
   "language": "python",
   "name": "python3"
  },
  "language_info": {
   "codemirror_mode": {
    "name": "ipython",
    "version": 3
   },
   "file_extension": ".py",
   "mimetype": "text/x-python",
   "name": "python",
   "nbconvert_exporter": "python",
   "pygments_lexer": "ipython3",
   "version": "3.6.3"
  }
 },
 "nbformat": 4,
 "nbformat_minor": 2
}
