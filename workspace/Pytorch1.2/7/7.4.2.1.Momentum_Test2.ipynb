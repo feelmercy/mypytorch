{
 "cells": [
  {
   "cell_type": "code",
   "execution_count": 1,
   "metadata": {
    "ExecuteTime": {
     "end_time": "2021-04-29T04:10:34.607537Z",
     "start_time": "2021-04-29T04:10:33.842493Z"
    },
    "collapsed": true
   },
   "outputs": [],
   "source": [
    "import torch\n",
    "import time\n",
    "import torchvision\n",
    "import numpy as np\n",
    "from torch import nn,optim\n",
    "import matplotlib.pyplot as plt\n",
    "%matplotlib inline"
   ]
  },
  {
   "cell_type": "markdown",
   "metadata": {},
   "source": [
    "- 手写实现"
   ]
  },
  {
   "cell_type": "code",
   "execution_count": 2,
   "metadata": {
    "ExecuteTime": {
     "end_time": "2021-04-29T04:10:36.411640Z",
     "start_time": "2021-04-29T04:10:36.392639Z"
    },
    "collapsed": true
   },
   "outputs": [],
   "source": [
    "def get_ch7_data():\n",
    "    data=np.genfromtxt(r'F:\\study\\ml\\DataSet\\airfoil_self_noise\\airfoil_self_noise.dat',\n",
    "                      delimiter='\\t')\n",
    "    data=(data-data.mean(axis=0)) / data.std(axis=0)\n",
    "    features=torch.tensor(data[:1500,:-1],dtype=torch.float32)\n",
    "    labels=torch.tensor(data[:1500,-1],dtype=torch.float32)\n",
    "    return features,labels"
   ]
  },
  {
   "cell_type": "code",
   "execution_count": 3,
   "metadata": {
    "ExecuteTime": {
     "end_time": "2021-04-29T04:10:36.991673Z",
     "start_time": "2021-04-29T04:10:36.952671Z"
    }
   },
   "outputs": [
    {
     "data": {
      "text/plain": [
       "torch.Size([1500, 5])"
      ]
     },
     "execution_count": 3,
     "metadata": {},
     "output_type": "execute_result"
    }
   ],
   "source": [
    "features,labels=get_ch7_data()\n",
    "features.shape"
   ]
  },
  {
   "cell_type": "code",
   "execution_count": 12,
   "metadata": {
    "ExecuteTime": {
     "end_time": "2021-04-29T05:05:11.515965Z",
     "start_time": "2021-04-29T05:05:11.466962Z"
    },
    "collapsed": true
   },
   "outputs": [],
   "source": [
    "def linreg(x,w,b):\n",
    "    return torch.mm(x,w)+b\n",
    "\n",
    "def squared_loss(y_hat,y):\n",
    "    return (y_hat-y.view(y_hat.size()))**2\n",
    "\n",
    "def momentum_init():\n",
    "    v_w=torch.zeros((features.shape[1],1),dtype=torch.float32)\n",
    "    v_b=torch.zeros((1),dtype=torch.float32)\n",
    "    return (v_w,v_b)\n",
    "\n",
    "def momentum_sgd(params,status,hyperparams):\n",
    "    for p,v in zip(params,status):\n",
    "        v.data=v.data*hyperparams['gamma']+p.grad.data*hyperparams['lr']\n",
    "        p.data -= v.data\n",
    "        \n",
    "# def sgd_momentum(params,states,hyperparams):\n",
    "#     print('params')\n",
    "#     for p,v in zip(params,states):\n",
    "#         v.data=hyperparams['gamma']*v.data +hyperparams['lr']*p.grad.data\n",
    "#         p.data -=v.data        \n",
    "        \n",
    "    "
   ]
  },
  {
   "cell_type": "code",
   "execution_count": 31,
   "metadata": {
    "ExecuteTime": {
     "end_time": "2021-04-29T05:20:39.264029Z",
     "start_time": "2021-04-29T05:20:39.188025Z"
    },
    "collapsed": true
   },
   "outputs": [],
   "source": [
    "def train_ch7(optimizer_fn,states,hyperparams,features,labels,\n",
    "             batch_size=10,num_epochs=2):\n",
    "    net,loss=linreg,squared_loss\n",
    "    w=torch.nn.Parameter(torch.tensor(\n",
    "    np.random.normal(0,0.01,size=(features.shape[1],1)),dtype=torch.float32),\n",
    "                         requires_grad=True)\n",
    "    b=torch.nn.Parameter(torch.tensor(\n",
    "    np.zeros(1),dtype=torch.float32),\n",
    "                         requires_grad=True)\n",
    "    \n",
    "    data_iter=torch.utils.data.DataLoader(\n",
    "        torch.utils.data.TensorDataset(features,labels),batch_size=batch_size,\n",
    "        shuffle=True)\n",
    "\n",
    "    def eval_loss():\n",
    "        return loss(net(features,w,b),labels).mean().item()/2\n",
    "    \n",
    "    ls=[eval_loss()]\n",
    "    for _ in range(num_epochs):\n",
    "        start=time.time()\n",
    "        for batch_i,(X,y) in enumerate(data_iter):\n",
    "            l=loss(net(X,w,b),y).mean() /2\n",
    "#             print('l: ',l)\n",
    "            if w.grad is not None:\n",
    "                w.grad.data.zero_()\n",
    "                b.grad.data.zero_()\n",
    "            l.backward()\n",
    "            optimizer_fn([w,b],states,hyperparams)\n",
    "            if (batch_i+1) * batch_size % 100 == 0 :\n",
    "                ls.append(eval_loss())\n",
    "    print('loss %f , %f sec per epoch' % (ls[-1],time.time()-start))\n",
    "#     print(ls)\n",
    "    plt.plot(np.linspace(0,num_epochs,len(ls)),ls)\n",
    "    plt.xlabel('epochs')\n",
    "    plt.ylabel('loss')\n",
    "            "
   ]
  },
  {
   "cell_type": "code",
   "execution_count": 32,
   "metadata": {
    "ExecuteTime": {
     "end_time": "2021-04-29T05:20:39.883065Z",
     "start_time": "2021-04-29T05:20:39.660052Z"
    }
   },
   "outputs": [
    {
     "name": "stdout",
     "output_type": "stream",
     "text": [
      "loss 0.243278 , 0.054003 sec per epoch\n"
     ]
    },
    {
     "data": {
      "image/png": "[encoded data removed]",
      "text/plain": [
       "<matplotlib.figure.Figure at 0x131dd5f8>"
      ]
     },
     "metadata": {},
     "output_type": "display_data"
    }
   ],
   "source": [
    "train_ch7(momentum_sgd,momentum_init(),{'gamma':0.5,'lr':0.02},features,labels)"
   ]
  },
  {
   "cell_type": "code",
   "execution_count": 33,
   "metadata": {
    "ExecuteTime": {
     "end_time": "2021-04-29T05:20:40.873121Z",
     "start_time": "2021-04-29T05:20:40.635108Z"
    }
   },
   "outputs": [
    {
     "name": "stdout",
     "output_type": "stream",
     "text": [
      "loss 0.261555 , 0.053003 sec per epoch\n"
     ]
    },
    {
     "data": {
      "image/png": "[encoded data removed]",
      "text/plain": [
       "<matplotlib.figure.Figure at 0x132ed5f8>"
      ]
     },
     "metadata": {},
     "output_type": "display_data"
    }
   ],
   "source": [
    "train_ch7(momentum_sgd,momentum_init(),{'gamma':0.9,'lr':0.02},features,labels)"
   ]
  },
  {
   "cell_type": "code",
   "execution_count": 35,
   "metadata": {
    "ExecuteTime": {
     "end_time": "2021-04-29T05:22:50.427531Z",
     "start_time": "2021-04-29T05:22:50.420531Z"
    },
    "collapsed": true
   },
   "outputs": [],
   "source": [
    "# train_ch7(momentum_sgd,momentum_init(),{'gamma':0.9,'lr':0.004},features,labels)"
   ]
  },
  {
   "cell_type": "markdown",
   "metadata": {},
   "source": [
    "- pytorch 的nn 实现"
   ]
  },
  {
   "cell_type": "code",
   "execution_count": 71,
   "metadata": {
    "ExecuteTime": {
     "end_time": "2021-04-29T06:04:08.693280Z",
     "start_time": "2021-04-29T06:04:08.615276Z"
    },
    "collapsed": true
   },
   "outputs": [],
   "source": [
    "def train_pytorch_ch7(optimizer_fn,hyperparams,features,labels,batch_size=10,\n",
    "                     num_epochs=2):\n",
    "    net=torch.nn.Sequential(nn.Linear(features.shape[1],1))\n",
    "    loss=nn.MSELoss()\n",
    "    \n",
    "    optimizer=optimizer_fn(net.parameters(),**hyperparams)\n",
    "    \n",
    "    def eval_loss():\n",
    "        print(net(features).shape)\n",
    "        print(net(features).view(-1).shape)\n",
    "        print(labels.shape)\n",
    "        print(loss(net(features),labels).item())\n",
    "        print(loss(net(features).view(-1),labels).item())\n",
    "        return loss(net(features).view(-1),labels).item()/2\n",
    "    \n",
    "    ls=[eval_loss()]\n",
    "    data_iter=torch.utils.data.DataLoader(\n",
    "    torch.utils.data.TensorDataset(features,labels),batch_size=batch_size,shuffle=True)\n",
    "    \n",
    "    for _ in range(num_epochs):\n",
    "        start=time.time()\n",
    "        for batch_i,(X,y) in enumerate(data_iter):\n",
    "            l=loss(net(X).view(-1),y) /2\n",
    "            optimizer.zero_grad()\n",
    "            l.backward()\n",
    "            optimizer.step()\n",
    "            \n",
    "            if (batch_i + 1) * batch_size % 100 ==0:\n",
    "                ls.append(eval_loss())\n",
    "    print('loss : %f , %f sec per epoch' % (ls[-1],time.time()-start))\n",
    "    plt.plot(np.linspace(0,num_epochs,len(ls)),ls)\n",
    "    plt.xlabel('epochs')\n",
    "    plt.ylabel('loss')\n",
    "            \n",
    "            \n",
    "    "
   ]
  },
  {
   "cell_type": "code",
   "execution_count": 72,
   "metadata": {
    "ExecuteTime": {
     "end_time": "2021-04-29T06:04:12.998526Z",
     "start_time": "2021-04-29T06:04:12.606504Z"
    }
   },
   "outputs": [
    {
     "name": "stdout",
     "output_type": "stream",
     "text": [
      "torch.Size([1500, 1])\n",
      "torch.Size([1500])\n",
      "torch.Size([1500])\n",
      "1.719696044921875\n",
      "1.9014450311660767\n",
      "torch.Size([1500, 1])\n",
      "torch.Size([1500])\n",
      "torch.Size([1500])\n",
      "1.5168484449386597\n",
      "1.6585338115692139\n",
      "torch.Size([1500, 1])\n",
      "torch.Size([1500])\n",
      "torch.Size([1500])\n",
      "1.2421777248382568\n",
      "1.3448400497436523\n",
      "torch.Size([1500, 1])\n",
      "torch.Size([1500])\n",
      "torch.Size([1500])\n",
      "1.0748870372772217\n",
      "1.145574688911438\n",
      "torch.Size([1500, 1])\n",
      "torch.Size([1500])\n",
      "torch.Size([1500])\n",
      "1.0188719034194946\n",
      "1.0506128072738647\n",
      "torch.Size([1500, 1])\n",
      "torch.Size([1500])\n",
      "torch.Size([1500])\n",
      "0.9998381733894348\n",
      "0.9863015413284302\n",
      "torch.Size([1500, 1])\n",
      "torch.Size([1500])\n",
      "torch.Size([1500])\n",
      "0.9965068101882935\n",
      "0.9583340287208557\n",
      "torch.Size([1500, 1])\n",
      "torch.Size([1500])\n",
      "torch.Size([1500])\n",
      "0.9970861673355103\n",
      "0.9411561489105225\n",
      "torch.Size([1500, 1])\n",
      "torch.Size([1500])\n",
      "torch.Size([1500])\n",
      "0.9958568811416626\n",
      "0.9273842573165894\n",
      "torch.Size([1500, 1])\n",
      "torch.Size([1500])\n",
      "torch.Size([1500])\n",
      "0.9984869360923767\n",
      "0.9203493595123291\n",
      "torch.Size([1500, 1])\n",
      "torch.Size([1500])\n",
      "torch.Size([1500])\n",
      "1.0016871690750122\n",
      "0.9072811007499695\n",
      "torch.Size([1500, 1])\n",
      "torch.Size([1500])\n",
      "torch.Size([1500])\n",
      "1.0014694929122925\n",
      "0.9006463885307312\n",
      "torch.Size([1500, 1])\n",
      "torch.Size([1500])\n",
      "torch.Size([1500])\n",
      "0.9961969256401062\n",
      "0.8968710899353027\n",
      "torch.Size([1500, 1])\n",
      "torch.Size([1500])\n",
      "torch.Size([1500])\n",
      "0.9974574446678162\n",
      "0.882145881652832\n",
      "torch.Size([1500, 1])\n",
      "torch.Size([1500])\n",
      "torch.Size([1500])\n",
      "0.9975730180740356\n",
      "0.8739376664161682\n",
      "torch.Size([1500, 1])\n",
      "torch.Size([1500])\n",
      "torch.Size([1500])\n",
      "0.9963988661766052\n",
      "0.8682500720024109\n",
      "torch.Size([1500, 1])\n",
      "torch.Size([1500])\n",
      "torch.Size([1500])\n",
      "0.996055543422699\n",
      "0.8680113554000854\n",
      "torch.Size([1500, 1])\n",
      "torch.Size([1500])\n",
      "torch.Size([1500])\n",
      "0.9964618682861328\n",
      "0.8733846545219421\n",
      "torch.Size([1500, 1])\n",
      "torch.Size([1500])\n",
      "torch.Size([1500])\n",
      "0.9957666993141174\n",
      "0.8763247728347778\n",
      "torch.Size([1500, 1])\n",
      "torch.Size([1500])\n",
      "torch.Size([1500])\n",
      "0.9945483803749084\n",
      "0.8835781812667847\n",
      "torch.Size([1500, 1])\n",
      "torch.Size([1500])\n",
      "torch.Size([1500])\n",
      "0.9941896796226501\n",
      "0.8869329690933228\n",
      "torch.Size([1500, 1])\n",
      "torch.Size([1500])\n",
      "torch.Size([1500])\n",
      "0.9934183359146118\n",
      "0.8858660459518433\n",
      "torch.Size([1500, 1])\n",
      "torch.Size([1500])\n",
      "torch.Size([1500])\n",
      "0.993337094783783\n",
      "0.8856404423713684\n",
      "torch.Size([1500, 1])\n",
      "torch.Size([1500])\n",
      "torch.Size([1500])\n",
      "0.9947793483734131\n",
      "0.8817905783653259\n",
      "torch.Size([1500, 1])\n",
      "torch.Size([1500])\n",
      "torch.Size([1500])\n",
      "0.9960981607437134\n",
      "0.8850290179252625\n",
      "torch.Size([1500, 1])\n",
      "torch.Size([1500])\n",
      "torch.Size([1500])\n",
      "1.000913143157959\n",
      "0.8709129691123962\n",
      "torch.Size([1500, 1])\n",
      "torch.Size([1500])\n",
      "torch.Size([1500])\n",
      "0.9980971813201904\n",
      "0.873923122882843\n",
      "torch.Size([1500, 1])\n",
      "torch.Size([1500])\n",
      "torch.Size([1500])\n",
      "0.9959245920181274\n",
      "0.87742680311203\n",
      "torch.Size([1500, 1])\n",
      "torch.Size([1500])\n",
      "torch.Size([1500])\n",
      "0.9929214715957642\n",
      "0.8903875350952148\n",
      "torch.Size([1500, 1])\n",
      "torch.Size([1500])\n",
      "torch.Size([1500])\n",
      "0.9953622221946716\n",
      "0.8837819695472717\n",
      "torch.Size([1500, 1])\n",
      "torch.Size([1500])\n",
      "torch.Size([1500])\n",
      "0.9963291883468628\n",
      "0.8906101584434509\n",
      "loss : 0.498165 , 0.133008 sec per epoch\n"
     ]
    },
    {
     "data": {
      "image/png": "[encoded data removed]",
      "text/plain": [
       "<matplotlib.figure.Figure at 0x133719b0>"
      ]
     },
     "metadata": {},
     "output_type": "display_data"
    }
   ],
   "source": [
    "train_pytorch_ch7(optim.SGD,{'lr':0.004,'momentum':0.9},features,labels)"
   ]
  },
  {
   "cell_type": "code",
   "execution_count": 76,
   "metadata": {
    "ExecuteTime": {
     "end_time": "2021-04-29T06:07:53.761153Z",
     "start_time": "2021-04-29T06:07:53.743152Z"
    }
   },
   "outputs": [
    {
     "data": {
      "text/plain": [
       "tensor([[ 9,  8,  7],\n",
       "        [19, 18, 17],\n",
       "        [29, 28, 27]])"
      ]
     },
     "execution_count": 76,
     "metadata": {},
     "output_type": "execute_result"
    }
   ],
   "source": [
    "a=torch.tensor([[10],[20],[30]])\n",
    "b=torch.tensor([1,2,3])\n",
    "a-b"
   ]
  },
  {
   "cell_type": "code",
   "execution_count": 77,
   "metadata": {
    "ExecuteTime": {
     "end_time": "2021-04-29T06:07:54.878217Z",
     "start_time": "2021-04-29T06:07:54.868216Z"
    }
   },
   "outputs": [
    {
     "data": {
      "text/plain": [
       "tensor([ 9, 18, 27])"
      ]
     },
     "execution_count": 77,
     "metadata": {},
     "output_type": "execute_result"
    }
   ],
   "source": [
    "a.view(-1)-b"
   ]
  },
  {
   "cell_type": "code",
   "execution_count": 78,
   "metadata": {
    "ExecuteTime": {
     "end_time": "2021-04-29T06:07:59.905505Z",
     "start_time": "2021-04-29T06:07:59.895504Z"
    }
   },
   "outputs": [
    {
     "data": {
      "text/plain": [
       "torch.Size([3, 1])"
      ]
     },
     "execution_count": 78,
     "metadata": {},
     "output_type": "execute_result"
    }
   ],
   "source": [
    "a.shape"
   ]
  },
  {
   "cell_type": "code",
   "execution_count": null,
   "metadata": {
    "collapsed": true
   },
   "outputs": [],
   "source": []
  },
  {
   "cell_type": "code",
   "execution_count": null,
   "metadata": {
    "collapsed": true
   },
   "outputs": [],
   "source": []
  },
  {
   "cell_type": "code",
   "execution_count": null,
   "metadata": {
    "collapsed": true
   },
   "outputs": [],
   "source": []
  }
 ],
 "metadata": {
  "kernelspec": {
   "display_name": "Python 3",
   "language": "python",
   "name": "python3"
  },
  "language_info": {
   "codemirror_mode": {
    "name": "ipython",
    "version": 3
   },
   "file_extension": ".py",
   "mimetype": "text/x-python",
   "name": "python",
   "nbconvert_exporter": "python",
   "pygments_lexer": "ipython3",
   "version": "3.6.3"
  }
 },
 "nbformat": 4,
 "nbformat_minor": 2
}
