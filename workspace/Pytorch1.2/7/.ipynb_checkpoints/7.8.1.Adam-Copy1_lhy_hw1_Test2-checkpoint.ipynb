{
 "cells": [
  {
   "cell_type": "code",
   "execution_count": 24,
   "metadata": {
    "ExecuteTime": {
     "end_time": "2021-05-06T03:00:11.874305Z",
     "start_time": "2021-05-06T03:00:11.845303Z"
    },
    "collapsed": true
   },
   "outputs": [],
   "source": [
    "import torch\n",
    "import numpy as np\n",
    "from torch import nn,optim\n",
    "import time\n",
    "import matplotlib.pyplot as plt\n",
    "import torchvision\n",
    "%matplotlib inline"
   ]
  },
  {
   "cell_type": "code",
   "execution_count": 25,
   "metadata": {
    "ExecuteTime": {
     "end_time": "2021-05-06T03:00:12.309329Z",
     "start_time": "2021-05-06T03:00:12.287328Z"
    },
    "collapsed": true
   },
   "outputs": [],
   "source": [
    "def get_data_ch7():\n",
    "    data=np.genfromtxt(r'F:\\study\\ml\\DataSet\\airfoil_self_noise\\airfoil_self_noise.dat',\n",
    "                      delimiter='\\t')\n",
    "    data=(data-data.mean(axis=0)) / data.std(axis=0)\n",
    "    features=torch.tensor(data[:1500,:-1],dtype=torch.float32)\n",
    "    labels=torch.tensor(data[:1500,-1],dtype=torch.float32)\n",
    "    return features,labels"
   ]
  },
  {
   "cell_type": "code",
   "execution_count": 26,
   "metadata": {
    "ExecuteTime": {
     "end_time": "2021-05-06T03:00:12.561344Z",
     "start_time": "2021-05-06T03:00:12.530342Z"
    }
   },
   "outputs": [
    {
     "data": {
      "text/plain": [
       "torch.Size([1500, 5])"
      ]
     },
     "execution_count": 26,
     "metadata": {},
     "output_type": "execute_result"
    }
   ],
   "source": [
    "features,labels=get_data_ch7()\n",
    "features.shape"
   ]
  },
  {
   "cell_type": "code",
   "execution_count": 27,
   "metadata": {
    "ExecuteTime": {
     "end_time": "2021-05-06T03:00:12.816358Z",
     "start_time": "2021-05-06T03:00:12.797357Z"
    },
    "collapsed": true
   },
   "outputs": [],
   "source": [
    "def init_adam_states():\n",
    "    s_w=torch.zeros((features.shape[1],1),dtype=torch.float32)\n",
    "    s_b=torch.zeros((1),dtype=torch.float32)\n",
    "    v_w=torch.zeros((features.shape[1],1),dtype=torch.float32)\n",
    "    v_b=torch.zeros((1),dtype=torch.float32)\n",
    "    return ((v_w,s_w),(v_b,s_b))\n",
    "    "
   ]
  },
  {
   "cell_type": "code",
   "execution_count": 28,
   "metadata": {
    "ExecuteTime": {
     "end_time": "2021-05-06T03:00:13.330388Z",
     "start_time": "2021-05-06T03:00:13.300386Z"
    },
    "collapsed": true
   },
   "outputs": [],
   "source": [
    "def adad_sge(params,states,hyperparams):\n",
    "    beta1,beta2,t=0.9,0.999,hyperparams['t']\n",
    "    eps=1e-6\n",
    "    for p,(v,s) in zip(params,states):\n",
    "        v=beta1*v+(1-beta1)*p.grad.data\n",
    "        s=beta2*s+(1-beta2)*p.grad.data**2\n",
    "        v_hat=v/(1-beta1**t)\n",
    "        s_hat=s/(1-beta2**t)\n",
    "        g_hat=hyperparams['lr']*v_hat /(torch.sqrt(s_hat)+eps)\n",
    "        p.data -=g_hat\n"
   ]
  },
  {
   "cell_type": "code",
   "execution_count": 29,
   "metadata": {
    "ExecuteTime": {
     "end_time": "2021-05-06T03:00:13.672407Z",
     "start_time": "2021-05-06T03:00:13.667407Z"
    },
    "collapsed": true
   },
   "outputs": [],
   "source": [
    "def linreg(x,w,b):\n",
    "    return torch.mm(x,w)+b\n",
    "def squared_loss(y_hat,y):\n",
    "    return (y_hat-y.view(y_hat.shape))**2"
   ]
  },
  {
   "cell_type": "code",
   "execution_count": 32,
   "metadata": {
    "ExecuteTime": {
     "end_time": "2021-05-06T03:00:28.113233Z",
     "start_time": "2021-05-06T03:00:28.029229Z"
    },
    "collapsed": true
   },
   "outputs": [],
   "source": [
    "def train_ch7(optimizer_fn,states,hyperparams,features,labels,\n",
    "              batch_size=10,num_epochs=2):\n",
    "    net,loss=linreg,squared_loss\n",
    "    w = nn.Parameter(torch.tensor(np.random.normal(0, 0.01, size=(features.shape[1], 1)),\n",
    "                     dtype=torch.float32,\n",
    "                     requires_grad=True))\n",
    "    b = nn.Parameter(\n",
    "        torch.tensor(np.zeros(1), dtype=torch.float32, requires_grad=True))\n",
    "    \n",
    "    data_iter=torch.utils.data.DataLoader(\n",
    "    torch.utils.data.TensorDataset(features,labels),batch_size=batch_size,\n",
    "    shuffle=True)\n",
    "    \n",
    "    def eval_loss():\n",
    "        return loss(net(features,w,b),labels).mean().item()/2\n",
    "    \n",
    "    ls=[eval_loss()]\n",
    "    for _ in range(num_epochs):\n",
    "        start=time.time()\n",
    "        for batch_i,(X,y) in enumerate(data_iter):\n",
    "            l=loss(net(X,w,b),y).mean()/2\n",
    "            if w.grad is not None:\n",
    "                w.grad.data.zero_()\n",
    "                b.grad.data.zero_()\n",
    "            l.backward()\n",
    "            optimizer_fn([w,b],states,hyperparams)\n",
    "            if (batch_i+1)*batch_size %100 ==0:\n",
    "                ls.append(eval_loss())\n",
    "    print('loss : %f, %f sec per epoch' % (ls[-1],time.time()/num_epochs))\n",
    "    plt.plot(np.linspace(0,num_epochs,len(ls)),ls)\n",
    "    plt.xlabel('epochs')\n",
    "    plt.ylabel('loss')"
   ]
  },
  {
   "cell_type": "code",
   "execution_count": 33,
   "metadata": {
    "ExecuteTime": {
     "end_time": "2021-05-06T03:00:28.901278Z",
     "start_time": "2021-05-06T03:00:28.624263Z"
    }
   },
   "outputs": [
    {
     "name": "stdout",
     "output_type": "stream",
     "text": [
      "loss : 0.249045, 810135014.408637 sec per epoch\n"
     ]
    },
    {
     "data": {
      "image/png": "[encoded data removed]",
      "text/plain": [
       "<matplotlib.figure.Figure at 0x10ff4320>"
      ]
     },
     "metadata": {},
     "output_type": "display_data"
    }
   ],
   "source": [
    "train_ch7(adad_sge, init_adam_states(), {'lr': 0.01, 't': 1},\n",
    "features, labels)"
   ]
  },
  {
   "cell_type": "code",
   "execution_count": null,
   "metadata": {
    "collapsed": true
   },
   "outputs": [],
   "source": []
  }
 ],
 "metadata": {
  "kernelspec": {
   "display_name": "Python 3",
   "language": "python",
   "name": "python3"
  },
  "language_info": {
   "codemirror_mode": {
    "name": "ipython",
    "version": 3
   },
   "file_extension": ".py",
   "mimetype": "text/x-python",
   "name": "python",
   "nbconvert_exporter": "python",
   "pygments_lexer": "ipython3",
   "version": "3.6.3"
  }
 },
 "nbformat": 4,
 "nbformat_minor": 2
}
