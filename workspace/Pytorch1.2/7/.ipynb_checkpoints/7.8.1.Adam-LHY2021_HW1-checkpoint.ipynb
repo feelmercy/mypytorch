{
 "cells": [
  {
   "cell_type": "code",
   "execution_count": 2,
   "metadata": {
    "ExecuteTime": {
     "end_time": "2021-05-07T07:25:34.857626Z",
     "start_time": "2021-05-07T07:25:32.095468Z"
    },
    "collapsed": true
   },
   "outputs": [],
   "source": [
    "import torch\n",
    "import numpy as np\n",
    "from torch import nn,optim\n",
    "import time\n",
    "import matplotlib.pyplot as plt\n",
    "import torchvision\n",
    "%matplotlib inline"
   ]
  },
  {
   "cell_type": "code",
   "execution_count": 3,
   "metadata": {
    "ExecuteTime": {
     "end_time": "2021-05-07T07:25:40.963976Z",
     "start_time": "2021-05-07T07:25:40.942974Z"
    },
    "collapsed": true
   },
   "outputs": [],
   "source": [
    "def get_data_ch7():\n",
    "    data=np.genfromtxt(r'F:\\study\\ml\\DataSet\\airfoil_self_noise\\airfoil_self_noise.dat',\n",
    "                      delimiter='\\t')\n",
    "    data=(data-data.mean(axis=0)) / data.std(axis=0)\n",
    "    features=torch.tensor(data[:1500,:-1],dtype=torch.float32)\n",
    "    labels=torch.tensor(data[:1500,-1],dtype=torch.float32)\n",
    "    return features,labels"
   ]
  },
  {
   "cell_type": "code",
   "execution_count": 4,
   "metadata": {
    "ExecuteTime": {
     "end_time": "2021-05-07T07:25:41.954032Z",
     "start_time": "2021-05-07T07:25:41.902029Z"
    }
   },
   "outputs": [
    {
     "data": {
      "text/plain": [
       "torch.Size([1500, 5])"
      ]
     },
     "execution_count": 4,
     "metadata": {},
     "output_type": "execute_result"
    }
   ],
   "source": [
    "features,labels=get_data_ch7()\n",
    "features.shape"
   ]
  },
  {
   "cell_type": "code",
   "execution_count": 5,
   "metadata": {
    "ExecuteTime": {
     "end_time": "2021-05-07T07:25:43.982148Z",
     "start_time": "2021-05-07T07:25:43.965147Z"
    },
    "collapsed": true
   },
   "outputs": [],
   "source": [
    "def init_adam_states():\n",
    "    s_w=torch.zeros((features.shape[1],1),dtype=torch.float32)\n",
    "    s_b=torch.zeros((1),dtype=torch.float32)\n",
    "    v_w=torch.zeros((features.shape[1],1),dtype=torch.float32)\n",
    "    v_b=torch.zeros((1),dtype=torch.float32)\n",
    "    return ((v_w,s_w),(v_b,s_b))\n",
    "    "
   ]
  },
  {
   "cell_type": "code",
   "execution_count": 6,
   "metadata": {
    "ExecuteTime": {
     "end_time": "2021-05-07T07:25:45.040209Z",
     "start_time": "2021-05-07T07:25:45.017207Z"
    },
    "collapsed": true
   },
   "outputs": [],
   "source": [
    "def adad_sge(params,states,hyperparams):\n",
    "    beta1,beta2,t=0.9,0.999,hyperparams['t']\n",
    "    eps=1e-6\n",
    "    for p,(v,s) in zip(params,states):\n",
    "        v=beta1*v+(1-beta1)*p.grad.data\n",
    "        s=beta2*s+(1-beta2)*p.grad.data**2\n",
    "        v_hat=v/(1-beta1**t)\n",
    "        s_hat=s/(1-beta2**t)\n",
    "        g_hat=hyperparams['lr']*v_hat /(torch.sqrt(s_hat)+eps)\n",
    "        p.data -=g_hat\n"
   ]
  },
  {
   "cell_type": "code",
   "execution_count": 7,
   "metadata": {
    "ExecuteTime": {
     "end_time": "2021-05-07T07:25:45.603241Z",
     "start_time": "2021-05-07T07:25:45.590240Z"
    },
    "collapsed": true
   },
   "outputs": [],
   "source": [
    "def linreg(x,w,b):\n",
    "    return torch.mm(x,w)+b\n",
    "def squared_loss(y_hat,y):\n",
    "    return (y_hat-y.view(y_hat.shape))**2"
   ]
  },
  {
   "cell_type": "code",
   "execution_count": 8,
   "metadata": {
    "ExecuteTime": {
     "end_time": "2021-05-07T07:25:46.396286Z",
     "start_time": "2021-05-07T07:25:46.333283Z"
    },
    "collapsed": true
   },
   "outputs": [],
   "source": [
    "def train_ch7(optimizer_fn,states,hyperparams,features,labels,\n",
    "              batch_size=10,num_epochs=2):\n",
    "    net,loss=linreg,squared_loss\n",
    "    w = nn.Parameter(torch.tensor(np.random.normal(0, 0.01, size=(features.shape[1], 1)),\n",
    "                     dtype=torch.float32,\n",
    "                     requires_grad=True))\n",
    "    b = nn.Parameter(\n",
    "        torch.tensor(np.zeros(1), dtype=torch.float32, requires_grad=True))\n",
    "    \n",
    "    data_iter=torch.utils.data.DataLoader(\n",
    "    torch.utils.data.TensorDataset(features,labels),batch_size=batch_size,\n",
    "    shuffle=True)\n",
    "    \n",
    "    def eval_loss():\n",
    "        return loss(net(features,w,b),labels).mean().item()/2\n",
    "    \n",
    "    ls=[eval_loss()]\n",
    "    for _ in range(num_epochs):\n",
    "        start=time.time()\n",
    "        for batch_i,(X,y) in enumerate(data_iter):\n",
    "            l=loss(net(X,w,b),y).mean()/2\n",
    "            if w.grad is not None:\n",
    "                w.grad.data.zero_()\n",
    "                b.grad.data.zero_()\n",
    "            l.backward()\n",
    "            optimizer_fn([w,b],states,hyperparams)\n",
    "            if (batch_i+1)*batch_size %100 ==0:\n",
    "                ls.append(eval_loss())\n",
    "#     print('loss : %f, %f sec per epoch' % (ls[-1],time.time()/num_epochs))\n",
    "#     plt.plot(np.linspace(0,num_epochs,len(ls)),ls)\n",
    "#     plt.xlabel('epochs')\n",
    "#     plt.ylabel('loss')"
   ]
  },
  {
   "cell_type": "code",
   "execution_count": 9,
   "metadata": {
    "ExecuteTime": {
     "end_time": "2021-05-07T07:27:27.865090Z",
     "start_time": "2021-05-07T07:27:27.854089Z"
    },
    "collapsed": true
   },
   "outputs": [],
   "source": [
    "import csv\n",
    "import os\n",
    "from torch.utils.data import Dataset, DataLoader\n",
    "myseed = 42069  # set a random seed for reproducibility\n",
    "torch.backends.cudnn.deterministic = True\n",
    "torch.backends.cudnn.benchmark = False\n",
    "np.random.seed(myseed)\n",
    "torch.manual_seed(myseed)\n",
    "if torch.cuda.is_available():\n",
    "    torch.cuda.manual_seed_all(myseed)"
   ]
  },
  {
   "cell_type": "code",
   "execution_count": 32,
   "metadata": {
    "ExecuteTime": {
     "end_time": "2021-05-07T07:56:27.117570Z",
     "start_time": "2021-05-07T07:56:27.023564Z"
    }
   },
   "outputs": [],
   "source": [
    "class COVID19Dataset(Dataset):\n",
    "    def __init__(self,path,mode='train',target_only=False):\n",
    "        self.mode=mode\n",
    "        with open(path,'r') as fp:\n",
    "            data=list(csv.reader(fp))\n",
    "            data=np.array(data[1:])[1:][:,1:].astype(float)\n",
    "        \n",
    "        if not target_only:\n",
    "            feats=list(range(93))\n",
    "        else:\n",
    "            pass\n",
    "        if mode =='test':\n",
    "            data=data[:,feats]\n",
    "            self.data=torch.FloatTensor(data)\n",
    "            \n",
    "        else:\n",
    "            target=data[:,-1]\n",
    "            data=data[:,feats]\n",
    "            \n",
    "            if mode=='train':\n",
    "                indices=[i for i in range(len(data)) if i %10 !=0]\n",
    "            elif mode=='dev':\n",
    "                indices=[i for i in range(len(data)) if i %10 ==0]\n",
    "            \n",
    "            self.data=torch.FloatTensor(data[indices])\n",
    "            self.target=torch.FloatTensor(target[indices])\n",
    "            \n",
    "        self.data[:,40:]= \\\n",
    "        (self.data[:,40:]-self.data[:,40:].mean(dim=0,keepdim=True)) \\\n",
    "        /self.data[:,40:].std(dim=0,keepdim=True)\n",
    "        \n",
    "        self.dim=self.data.shape[1]\n",
    "        print('Finished reading the {} set of COVID19 Dataset ({} samples found, each dim = {})'\n",
    "        .format(mode, len(self.data), self.dim))\n",
    "        \n",
    "    def __getitem__(self,index):\n",
    "        if self.mode in ['train','dev']:\n",
    "            return self.data[index],self.target[index]\n",
    "        else:\n",
    "            return self.data[index]\n",
    "        \n",
    "    def __len__(self):\n",
    "        return len(self.data)\n",
    "        \n",
    "            "
   ]
  },
  {
   "cell_type": "code",
   "execution_count": 33,
   "metadata": {
    "ExecuteTime": {
     "end_time": "2021-05-07T07:56:27.408586Z",
     "start_time": "2021-05-07T07:56:27.397586Z"
    },
    "collapsed": true
   },
   "outputs": [],
   "source": [
    "def prep_dataloader(path, mode, batch_size, n_jobs=0, target_only=False):\n",
    "    ''' Generates a dataset, then is put into a dataloader. '''\n",
    "    dataset = COVID19Dataset(path, mode=mode, target_only=target_only)  # Construct dataset\n",
    "    dataloader = DataLoader(\n",
    "        dataset, batch_size,\n",
    "        shuffle=(mode == 'train'), drop_last=False,\n",
    "        num_workers=n_jobs, pin_memory=True)                            # Construct dataloader\n",
    "    return dataloader"
   ]
  },
  {
   "cell_type": "code",
   "execution_count": 35,
   "metadata": {
    "ExecuteTime": {
     "end_time": "2021-05-07T07:56:28.070624Z",
     "start_time": "2021-05-07T07:56:28.062624Z"
    },
    "collapsed": true
   },
   "outputs": [],
   "source": [
    "tr_path=r'F:\\study\\ml\\HonyiLee2021\\Lhy_Machine_Learning-main\\01 Introduction\\dataset\\covid.train.csv'\n",
    "tt_path=r'F:\\study\\ml\\HonyiLee2021\\Lhy_Machine_Learning-main\\01 Introduction\\dataset\\covid.test.csv'"
   ]
  },
  {
   "cell_type": "code",
   "execution_count": 36,
   "metadata": {
    "ExecuteTime": {
     "end_time": "2021-05-07T07:56:28.489648Z",
     "start_time": "2021-05-07T07:56:28.482648Z"
    },
    "collapsed": true
   },
   "outputs": [],
   "source": [
    "target_only=False\n",
    "\n",
    "config={\n",
    "    'n_epochs':3000,\n",
    "    'batch_size':270,\n",
    "    'optimizer':'SGD',\n",
    "    'optim_hparas':{\n",
    "        'lr':0.001,\n",
    "        'momentum':0.9\n",
    "    },\n",
    "    'early_stop':200,\n",
    "    'save_path':r'F:\\study\\ml\\HonyiLee2021\\Lhy_Machine_Learning-main\\01 Introduction\\models\\model',\n",
    "}"
   ]
  },
  {
   "cell_type": "code",
   "execution_count": 40,
   "metadata": {
    "ExecuteTime": {
     "end_time": "2021-05-07T08:46:29.736310Z",
     "start_time": "2021-05-07T08:46:29.204279Z"
    }
   },
   "outputs": [
    {
     "name": "stdout",
     "output_type": "stream",
     "text": [
      "Finished reading the train set of COVID19 Dataset (2429 samples found, each dim = 93)\n",
      "Finished reading the dev set of COVID19 Dataset (270 samples found, each dim = 93)\n",
      "Finished reading the test set of COVID19 Dataset (892 samples found, each dim = 93)\n"
     ]
    }
   ],
   "source": [
    "tr_set=prep_dataloader(tr_path,'train',config['batch_size'],target_only=target_only)\n",
    "dv_set=prep_dataloader(tr_path,'dev',config['batch_size'],target_only=target_only)\n",
    "tt_set=prep_dataloader(tt_path,'test',config['batch_size'],target_only=target_only)"
   ]
  },
  {
   "cell_type": "code",
   "execution_count": null,
   "metadata": {
    "collapsed": true
   },
   "outputs": [],
   "source": []
  },
  {
   "cell_type": "code",
   "execution_count": 44,
   "metadata": {
    "ExecuteTime": {
     "end_time": "2021-05-07T08:48:16.447413Z",
     "start_time": "2021-05-07T08:48:16.426412Z"
    },
    "collapsed": true
   },
   "outputs": [],
   "source": [
    "def get_data_dev_set():\n",
    "    data=np.genfromtxt(r'F:\\study\\ml\\HonyiLee2021\\Lhy_Machine_Learning-main\\01 Introduction\\dataset\\covid.test.csv',\n",
    "                      delimiter=',',skip_header=1)\n",
    "    data=(data-data.mean(axis=0)) / data.std(axis=0)\n",
    "    features=torch.tensor(data[:,:-1],dtype=torch.float32)\n",
    "    labels=torch.tensor(data[:,-1],dtype=torch.float32)\n",
    "    return features,labels"
   ]
  },
  {
   "cell_type": "code",
   "execution_count": 45,
   "metadata": {
    "ExecuteTime": {
     "end_time": "2021-05-07T08:48:17.184455Z",
     "start_time": "2021-05-07T08:48:17.077449Z"
    }
   },
   "outputs": [
    {
     "data": {
      "text/plain": [
       "torch.Size([893, 93])"
      ]
     },
     "execution_count": 45,
     "metadata": {},
     "output_type": "execute_result"
    }
   ],
   "source": [
    "features,labels=get_data_dev_set()\n",
    "features.shape"
   ]
  },
  {
   "cell_type": "code",
   "execution_count": 86,
   "metadata": {
    "ExecuteTime": {
     "end_time": "2021-05-07T09:43:11.945905Z",
     "start_time": "2021-05-07T09:43:11.928904Z"
    },
    "collapsed": true
   },
   "outputs": [],
   "source": [
    "def linreg2(x,w1,w2,b1,b2):\n",
    "    net1=torch.mm(x,w1)+b1\n",
    "    net2=torch.clamp(net1,min=0)\n",
    "    net3=torch.mm(net2,w2)+b2\n",
    "    return net3"
   ]
  },
  {
   "cell_type": "code",
   "execution_count": 87,
   "metadata": {
    "ExecuteTime": {
     "end_time": "2021-05-07T09:43:12.622944Z",
     "start_time": "2021-05-07T09:43:12.596942Z"
    },
    "collapsed": true
   },
   "outputs": [],
   "source": [
    "def adad_sge(params,states,hyperparams):\n",
    "    beta1,beta2,t=0.9,0.999,hyperparams['t']\n",
    "    eps=1e-6\n",
    "    for p,(v,s) in zip(params,states):\n",
    "        v=beta1*v+(1-beta1)*p.grad.data\n",
    "        s=beta2*s+(1-beta2)*p.grad.data**2\n",
    "        v_hat=v/(1-beta1**t)\n",
    "        s_hat=s/(1-beta2**t)\n",
    "        g_hat=hyperparams['lr']*v_hat /(torch.sqrt(s_hat)+eps)\n",
    "        p.data -=g_hat\n"
   ]
  },
  {
   "cell_type": "code",
   "execution_count": 98,
   "metadata": {
    "ExecuteTime": {
     "end_time": "2021-05-07T09:50:15.571135Z",
     "start_time": "2021-05-07T09:50:15.541133Z"
    },
    "collapsed": true
   },
   "outputs": [],
   "source": [
    "def init_adam_states2():\n",
    "    s_w1=torch.zeros((93,64),dtype=torch.float32)\n",
    "    s_b1=torch.zeros((64),dtype=torch.float32)\n",
    "    v_w1=torch.zeros((93,64),dtype=torch.float32)\n",
    "    v_b1=torch.zeros((64),dtype=torch.float32)\n",
    "    s_w2=torch.zeros((64,1),dtype=torch.float32)\n",
    "    s_b2=torch.zeros((1),dtype=torch.float32)\n",
    "    v_w2=torch.zeros((64,1),dtype=torch.float32)\n",
    "    v_b2=torch.zeros((1),dtype=torch.float32)\n",
    "    return ((v_w1,s_w1),(v_w2,s_w2),(v_b1,s_b1),(v_b2,s_b2))"
   ]
  },
  {
   "cell_type": "code",
   "execution_count": 128,
   "metadata": {
    "ExecuteTime": {
     "end_time": "2021-05-07T10:08:58.622370Z",
     "start_time": "2021-05-07T10:08:58.590368Z"
    },
    "collapsed": true
   },
   "outputs": [],
   "source": [
    "def adad_sge(params,states,hyperparams):\n",
    "    beta1,beta2,t=0.5,0.999,hyperparams['t']\n",
    "    eps=1e-6\n",
    "    for p,(v,s) in zip(params,states):\n",
    "        v=beta1*v+(1-beta1)*p.grad.data\n",
    "        s=beta2*s+(1-beta2)*p.grad.data**2\n",
    "        v_hat=v/(1-beta1**t)\n",
    "        s_hat=s/(1-beta2**t)\n",
    "        g_hat=hyperparams['lr']*v_hat /(torch.sqrt(s_hat)+eps)\n",
    "        p.data -=g_hat\n"
   ]
  },
  {
   "cell_type": "code",
   "execution_count": 129,
   "metadata": {
    "ExecuteTime": {
     "end_time": "2021-05-07T10:08:59.224404Z",
     "start_time": "2021-05-07T10:08:59.125398Z"
    },
    "collapsed": true
   },
   "outputs": [],
   "source": [
    "def train_ch7_hw1(optimizer_fn,states,hyperparams,tr_set,features,labels,\n",
    "              batch_size=270,num_epochs=200):\n",
    "    net,loss=linreg2,squared_loss\n",
    "    w1 = nn.Parameter(torch.tensor(np.random.normal(0, 0.1, size=(93, 64)),\n",
    "                     dtype=torch.float32,\n",
    "                     requires_grad=True))\n",
    "    b1 = nn.Parameter(\n",
    "        torch.tensor(np.zeros(64), dtype=torch.float32, requires_grad=True))\n",
    "    w2 = nn.Parameter(torch.tensor(np.random.normal(0, 0.1, size=(64, 1)),\n",
    "                     dtype=torch.float32,\n",
    "                     requires_grad=True))\n",
    "    b2 = nn.Parameter(\n",
    "        torch.tensor(np.zeros(1), dtype=torch.float32, requires_grad=True))\n",
    "    \n",
    "#     data_iter=torch.utils.data.DataLoader(\n",
    "#     torch.utils.data.TensorDataset(features,labels),batch_size=batch_size,\n",
    "#     shuffle=True)\n",
    "    \n",
    "    \n",
    "    def eval_loss():\n",
    "        net1=torch.mm(features,w1)+b1\n",
    "        net2=torch.clamp(net1,min=0)\n",
    "        net3=torch.mm(net2,w2)+b2\n",
    "        loss1=(net3-labels.view(net3.shape)).mean().item()\n",
    "        return loss1\n",
    "    \n",
    "    ls=[eval_loss()]\n",
    "    for _ in range(num_epochs):\n",
    "        start=time.time()\n",
    "        for batch_i,(X,y) in enumerate(tr_set):\n",
    "            l=loss(net(X,w1,w2,b1,b2),y).mean()/2\n",
    "            if w1.grad is not None:\n",
    "                w1.grad.data.zero_()\n",
    "                b1.grad.data.zero_()\n",
    "                w2.grad.data.zero_()\n",
    "                b2.grad.data.zero_()\n",
    "            l.backward()\n",
    "            optimizer_fn([w1,w2,b1,b2],states,hyperparams)\n",
    "#             if (batch_i+1)*batch_size %100 ==0:\n",
    "        ls.append(eval_loss())\n",
    "    print(ls)\n",
    "    print('loss : %f, %f sec per epoch' % (ls[-1],time.time()/num_epochs))\n",
    "    plt.plot(np.linspace(0,num_epochs,len(ls)),ls)\n",
    "    plt.xlabel('epochs')\n",
    "    plt.ylabel('loss')"
   ]
  },
  {
   "cell_type": "code",
   "execution_count": 130,
   "metadata": {
    "ExecuteTime": {
     "end_time": "2021-05-07T10:09:05.858784Z",
     "start_time": "2021-05-07T10:09:00.149457Z"
    },
    "scrolled": false
   },
   "outputs": [
    {
     "name": "stdout",
     "output_type": "stream",
     "text": [
      "[-0.43298861384391785, -0.013960473239421844, 0.41755783557891846, 0.8770430088043213, 1.3742828369140625, 1.9152648448944092, 2.501971483230591, 3.141634941101074, 3.832589864730835, 4.581968784332275, 5.388589859008789, 6.253085136413574, 7.167783737182617, 8.09520149230957, 8.949005126953125, 9.609950065612793, 9.954106330871582, 10.199318885803223, 10.373739242553711, 10.324599266052246, 10.325644493103027, 10.37013053894043, 10.509081840515137, 10.590580940246582, 10.612008094787598, 10.749258995056152, 11.004661560058594, 11.094642639160156, 11.341432571411133, 11.485895156860352, 11.74201488494873, 11.789656639099121, 11.923471450805664, 12.277942657470703, 12.31704044342041, 12.388375282287598, 12.665175437927246, 12.780577659606934, 12.945627212524414, 13.033588409423828, 13.09372615814209, 13.290568351745605, 13.27073860168457, 13.474454879760742, 13.427992820739746, 13.517829895019531, 13.612730026245117, 13.550311088562012, 13.69969367980957, 13.687007904052734, 13.714864730834961, 13.792216300964355, 13.85660171508789, 13.997220039367676, 14.01345443725586, 13.905624389648438, 14.060091972351074, 14.003704071044922, 14.074851036071777, 14.151942253112793, 14.001930236816406, 14.081183433532715, 14.139737129211426, 14.106427192687988, 14.151158332824707, 14.133987426757812, 14.119020462036133, 14.28197956085205, 14.172410011291504, 14.086287498474121, 14.207305908203125, 14.226380348205566, 14.266127586364746, 14.084169387817383, 14.266140937805176, 14.24441909790039, 14.102838516235352, 14.220964431762695, 14.234118461608887, 14.194499969482422, 14.191622734069824, 14.219453811645508, 14.1780424118042, 14.31459903717041, 14.356281280517578, 14.271878242492676, 14.217414855957031, 14.157504081726074, 14.22418212890625, 14.094449996948242, 14.072061538696289, 14.231552124023438, 14.164864540100098, 14.261085510253906, 14.181623458862305, 14.27389144897461, 14.137950897216797, 14.289631843566895, 14.147735595703125, 14.14933967590332, 14.200188636779785, 14.161799430847168, 14.292482376098633, 14.213224411010742, 14.090554237365723, 14.269875526428223, 14.075418472290039, 14.247186660766602, 14.169025421142578, 14.200224876403809, 14.150276184082031, 14.239662170410156, 14.239612579345703, 14.135350227355957, 14.19581127166748, 14.257669448852539, 14.197318077087402, 14.093982696533203, 14.300716400146484, 14.155163764953613, 14.26569652557373, 14.305994033813477, 14.101492881774902, 14.22734260559082, 14.10365104675293, 14.19115924835205, 14.105048179626465, 14.20113468170166, 14.13082218170166, 14.184751510620117, 14.04293441772461, 14.224221229553223, 14.301676750183105, 14.271105766296387, 14.197253227233887, 14.230147361755371, 14.16773509979248, 14.20062255859375, 14.162034034729004, 14.208029747009277, 14.126216888427734, 14.19913387298584, 14.035256385803223, 14.161979675292969, 14.090651512145996, 14.245401382446289, 14.151226043701172, 14.236627578735352, 14.171568870544434, 14.19442367553711, 14.317584991455078, 14.250388145446777, 14.134894371032715, 14.30915355682373, 14.1939115524292, 14.304234504699707, 14.249433517456055, 14.4219970703125, 14.251530647277832, 14.32795524597168, 14.263733863830566, 14.330071449279785, 14.288786888122559, 14.356324195861816, 14.224453926086426, 14.375653266906738, 14.276187896728516, 14.307930946350098, 14.416616439819336, 14.350143432617188, 14.478911399841309, 14.32014274597168, 14.367838859558105, 14.501348495483398, 14.326722145080566, 14.449602127075195, 14.455482482910156, 14.3134765625, 14.450793266296387, 14.343545913696289, 14.445158004760742, 14.305540084838867, 14.450343132019043, 14.433358192443848, 14.429876327514648, 14.341239929199219, 14.464680671691895, 14.356539726257324, 14.471379280090332, 14.35676097869873, 14.510368347167969, 14.385687828063965, 14.465624809265137, 14.407966613769531, 14.410680770874023, 14.475065231323242, 14.467206954956055, 14.475212097167969, 14.473551750183105, 14.525104522705078, 14.647115707397461]\n",
      "loss : 14.647116, 8101910.728819 sec per epoch\n"
     ]
    },
    {
     "data": {
      "image/png": "[encoded data removed]",
      "text/plain": [
       "<matplotlib.figure.Figure at 0x7ed1be0>"
      ]
     },
     "metadata": {},
     "output_type": "display_data"
    }
   ],
   "source": [
    "train_ch7_hw1(adad_sge, init_adam_states2(), {'lr': 0.001, 't': 1},tr_set,\n",
    "features, labels)"
   ]
  },
  {
   "cell_type": "code",
   "execution_count": null,
   "metadata": {
    "collapsed": true
   },
   "outputs": [],
   "source": []
  }
 ],
 "metadata": {
  "kernelspec": {
   "display_name": "Python 3",
   "language": "python",
   "name": "python3"
  },
  "language_info": {
   "codemirror_mode": {
    "name": "ipython",
    "version": 3
   },
   "file_extension": ".py",
   "mimetype": "text/x-python",
   "name": "python",
   "nbconvert_exporter": "python",
   "pygments_lexer": "ipython3",
   "version": "3.6.3"
  }
 },
 "nbformat": 4,
 "nbformat_minor": 2
}
