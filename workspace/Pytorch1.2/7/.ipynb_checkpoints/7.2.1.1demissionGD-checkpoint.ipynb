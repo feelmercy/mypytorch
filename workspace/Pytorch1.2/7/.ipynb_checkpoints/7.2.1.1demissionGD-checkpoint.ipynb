{
 "cells": [
  {
   "cell_type": "code",
   "execution_count": 1,
   "metadata": {
    "ExecuteTime": {
     "end_time": "2021-04-08T02:34:25.971054Z",
     "start_time": "2021-04-08T02:34:17.850990Z"
    }
   },
   "outputs": [
    {
     "name": "stdout",
     "output_type": "stream",
     "text": [
      "Using matplotlib backend: Qt5Agg\n"
     ]
    }
   ],
   "source": [
    "import numpy as np\n",
    "import torch\n",
    "import math\n",
    "import matplotlib.pyplot as plt\n",
    "%matplotlib auto"
   ]
  },
  {
   "cell_type": "code",
   "execution_count": 19,
   "metadata": {
    "ExecuteTime": {
     "end_time": "2021-04-08T05:59:12.656614Z",
     "start_time": "2021-04-08T05:59:12.646613Z"
    },
    "collapsed": true
   },
   "outputs": [],
   "source": [
    "def gd(eta):\n",
    "    x=10\n",
    "    results=[x]\n",
    "    for i in range(10):\n",
    "        x -=eta*2*x\n",
    "        results.append(x)\n",
    "        print('epoch :',i , ' x: ',x)\n",
    "    return results"
   ]
  },
  {
   "cell_type": "code",
   "execution_count": 20,
   "metadata": {
    "ExecuteTime": {
     "end_time": "2021-04-08T05:59:13.135641Z",
     "start_time": "2021-04-08T05:59:13.118640Z"
    },
    "collapsed": true
   },
   "outputs": [],
   "source": [
    "def show_trace(tes):\n",
    "    n=max(abs(min(res)),abs(max(res)),10)\n",
    "    f_line=np.arange(-n,n,0.1)\n",
    "    plt.plot(f_line,[x*x for x in f_line])\n",
    "    plt.plot(res,[x*x for x in res],'-o')\n",
    "    plt.xlabel('x')\n",
    "    plt.ylabel('f(x)')"
   ]
  },
  {
   "cell_type": "code",
   "execution_count": 24,
   "metadata": {
    "ExecuteTime": {
     "end_time": "2021-04-08T06:09:23.116530Z",
     "start_time": "2021-04-08T06:09:19.520325Z"
    }
   },
   "outputs": [
    {
     "name": "stdout",
     "output_type": "stream",
     "text": [
      "epoch : 0  x:  -30\n",
      "epoch : 1  x:  90\n",
      "epoch : 2  x:  -270\n",
      "epoch : 3  x:  810\n",
      "epoch : 4  x:  -2430\n",
      "epoch : 5  x:  7290\n",
      "epoch : 6  x:  -21870\n",
      "epoch : 7  x:  65610\n",
      "epoch : 8  x:  -196830\n",
      "epoch : 9  x:  590490\n"
     ]
    }
   ],
   "source": [
    "res=gd(2)\n",
    "show_trace(res)"
   ]
  },
  {
   "cell_type": "code",
   "execution_count": null,
   "metadata": {
    "collapsed": true
   },
   "outputs": [],
   "source": []
  }
 ],
 "metadata": {
  "kernelspec": {
   "display_name": "Python 3",
   "language": "python",
   "name": "python3"
  },
  "language_info": {
   "codemirror_mode": {
    "name": "ipython",
    "version": 3
   },
   "file_extension": ".py",
   "mimetype": "text/x-python",
   "name": "python",
   "nbconvert_exporter": "python",
   "pygments_lexer": "ipython3",
   "version": "3.6.3"
  }
 },
 "nbformat": 4,
 "nbformat_minor": 2
}
