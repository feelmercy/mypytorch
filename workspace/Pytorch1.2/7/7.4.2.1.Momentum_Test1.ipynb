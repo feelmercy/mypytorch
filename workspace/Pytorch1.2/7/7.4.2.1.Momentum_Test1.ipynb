{
 "cells": [
  {
   "cell_type": "code",
   "execution_count": 1,
   "metadata": {
    "ExecuteTime": {
     "end_time": "2021-04-28T07:31:18.104873Z",
     "start_time": "2021-04-28T07:31:17.341230Z"
    },
    "collapsed": true
   },
   "outputs": [],
   "source": [
    "import numpy as np\n",
    "import time\n",
    "import torch\n",
    "import torchvision\n",
    "from torch import nn,optim\n",
    "import sys\n",
    "import matplotlib.pyplot as plt\n",
    "%matplotlib inline"
   ]
  },
  {
   "cell_type": "code",
   "execution_count": 8,
   "metadata": {
    "ExecuteTime": {
     "end_time": "2021-04-28T07:49:17.040231Z",
     "start_time": "2021-04-28T07:49:17.008030Z"
    },
    "collapsed": true
   },
   "outputs": [],
   "source": [
    "def get_data_ch7():\n",
    "    data=np.genfromtxt(r'F:\\study\\ml\\DataSet\\airfoil_self_noise\\airfoil_self_noise.dat',\n",
    "                      delimiter='\\t')\n",
    "    data=(data-data.mean(axis=0)) / data.std(axis=0)\n",
    "    features=torch.tensor(data[:1500,:-1],dtype=torch.float32)\n",
    "    labels=torch.tensor(data[:1500,-1],dtype=torch.float32)\n",
    "    return features,labels"
   ]
  },
  {
   "cell_type": "code",
   "execution_count": 9,
   "metadata": {
    "ExecuteTime": {
     "end_time": "2021-04-28T07:49:20.389486Z",
     "start_time": "2021-04-28T07:49:20.344285Z"
    }
   },
   "outputs": [
    {
     "data": {
      "text/plain": [
       "torch.Size([1500, 5])"
      ]
     },
     "execution_count": 9,
     "metadata": {},
     "output_type": "execute_result"
    }
   ],
   "source": [
    "features,labels=get_data_ch7()\n",
    "features.shape"
   ]
  },
  {
   "cell_type": "code",
   "execution_count": 73,
   "metadata": {
    "ExecuteTime": {
     "end_time": "2021-04-28T08:55:09.158338Z",
     "start_time": "2021-04-28T08:55:09.118737Z"
    },
    "collapsed": true
   },
   "outputs": [],
   "source": [
    "def linreg(x,w,b):\n",
    "    return torch.mm(x,w)+b\n",
    "\n",
    "def squared_loss(y_hat,y):\n",
    "    return (y_hat-y.view(y_hat.size()))**2 /2\n",
    "\n",
    "def sgd_momentum(params,states,hyperparams):\n",
    "    for p,v in zip(params,states):\n",
    "        v.data=hyperparams['momentum']*v.data +hyperparams['lr']*p.grad.data\n",
    "        p.data -=v.data\n",
    "\n",
    "def init_momentum_states():\n",
    "    v_w=torch.zeros((features.size()[1],1),dtype=torch.float32)\n",
    "    b_w=torch.zeros((1),dtype=torch.float32)\n",
    "    return (v_w,b_w)"
   ]
  },
  {
   "cell_type": "code",
   "execution_count": 74,
   "metadata": {
    "ExecuteTime": {
     "end_time": "2021-04-28T08:55:09.771167Z",
     "start_time": "2021-04-28T08:55:09.753566Z"
    }
   },
   "outputs": [
    {
     "data": {
      "text/plain": [
       "(tensor([[0.],\n",
       "         [0.],\n",
       "         [0.],\n",
       "         [0.],\n",
       "         [0.]]), tensor([0.]))"
      ]
     },
     "execution_count": 74,
     "metadata": {},
     "output_type": "execute_result"
    }
   ],
   "source": [
    "init_momentum_states()"
   ]
  },
  {
   "cell_type": "code",
   "execution_count": 2,
   "metadata": {
    "ExecuteTime": {
     "end_time": "2021-04-29T05:02:14.615847Z",
     "start_time": "2021-04-29T05:02:14.528842Z"
    }
   },
   "outputs": [
    {
     "ename": "NameError",
     "evalue": "name 'features' is not defined",
     "output_type": "error",
     "traceback": [
      "\u001b[1;31m---------------------------------------------------------------------------\u001b[0m",
      "\u001b[1;31mNameError\u001b[0m                                 Traceback (most recent call last)",
      "\u001b[1;32m<ipython-input-2-8671b7638892>\u001b[0m in \u001b[0;36m<module>\u001b[1;34m()\u001b[0m\n\u001b[0;32m      2\u001b[0m              \u001b[0mstates\u001b[0m\u001b[1;33m,\u001b[0m\u001b[1;33m\u001b[0m\u001b[0m\n\u001b[0;32m      3\u001b[0m              \u001b[0mhyperparams\u001b[0m\u001b[1;33m,\u001b[0m\u001b[1;33m\u001b[0m\u001b[0m\n\u001b[1;32m----> 4\u001b[1;33m              \u001b[0mfeatures\u001b[0m\u001b[1;33m=\u001b[0m\u001b[0mfeatures\u001b[0m\u001b[1;33m,\u001b[0m\u001b[1;33m\u001b[0m\u001b[0m\n\u001b[0m\u001b[0;32m      5\u001b[0m              \u001b[0mlabels\u001b[0m\u001b[1;33m=\u001b[0m\u001b[0mlabels\u001b[0m\u001b[1;33m,\u001b[0m\u001b[1;33m\u001b[0m\u001b[0m\n\u001b[0;32m      6\u001b[0m              \u001b[0mbatch_size\u001b[0m\u001b[1;33m=\u001b[0m\u001b[1;36m10\u001b[0m\u001b[1;33m,\u001b[0m\u001b[1;33m\u001b[0m\u001b[0m\n",
      "\u001b[1;31mNameError\u001b[0m: name 'features' is not defined"
     ]
    }
   ],
   "source": [
    "def train_ch7(optimizer_fn,\n",
    "             states,\n",
    "             hyperparams,\n",
    "             features=features,\n",
    "             labels=labels,\n",
    "             batch_size=10,\n",
    "             num_epochs=2):\n",
    "    net,loss=linreg,squared_loss\n",
    "    \n",
    "    w=torch.nn.Parameter(\n",
    "        torch.tensor(np.random.normal(0,0.01,size=(features.size()[1],1)),\n",
    "                    dtype=torch.float32,requires_grad=True))\n",
    "    b=torch.nn.Parameter(\n",
    "        torch.tensor(np.zeros(1),\n",
    "                    dtype=torch.float32,requires_grad=True))\n",
    "    \n",
    "    data_iter=torch.utils.data.DataLoader(\n",
    "        torch.utils.data.TensorDataset(features,labels),batch_size=batch_size,\n",
    "    shuffle=True)\n",
    "    \n",
    "    def eval_loss():\n",
    "        return (loss(net(features,w,b),labels)).mean() /2\n",
    "        \n",
    "    \n",
    "    ls=[eval_loss()]\n",
    "    for _ in range(num_epochs):\n",
    "        start=time.time()\n",
    "        for batch_i,(X,y) in enumerate(data_iter):\n",
    "            l=(loss(net(X,w,b),y)).mean()\n",
    "#             ls.append(l)\n",
    "#             print('loss :',l)\n",
    "            if w.grad is not None:\n",
    "                w.grad.data.zero_()\n",
    "                b.grad.data.zero_()\n",
    "            l.backward()\n",
    "            optimizer_fn([w,b],states,hyperparams)\n",
    "            if (batch_i+1)*batch_size % 100 ==0:\n",
    "                ls.append(eval_loss())\n",
    "#             print(batch_i)\n",
    "#     print('ls len :',len(ls))\n",
    "    print('loss %f, %f sec per epoch' % (ls[-1],time.time()-start))\n",
    "    plt.plot(np.linspace(0,num_epochs,len(ls)),ls,'-')\n",
    "    plt.xlabel('epochs')\n",
    "    plt.ylabel('loss')"
   ]
  },
  {
   "cell_type": "code",
   "execution_count": 133,
   "metadata": {
    "ExecuteTime": {
     "end_time": "2021-04-28T09:57:50.765034Z",
     "start_time": "2021-04-28T09:57:50.517020Z"
    }
   },
   "outputs": [
    {
     "name": "stdout",
     "output_type": "stream",
     "text": [
      "loss 0.243581, 0.052003 sec per epoch\n"
     ]
    },
    {
     "data": {
      "image/png": "[encoded data removed]",
      "text/plain": [
       "<matplotlib.figure.Figure at 0x10ef8278>"
      ]
     },
     "metadata": {},
     "output_type": "display_data"
    }
   ],
   "source": [
    "train_ch7(sgd_momentum, init_momentum_states(), {\n",
    "    'lr': 0.02,\n",
    "    'momentum': 0.5\n",
    "}, features, labels)"
   ]
  },
  {
   "cell_type": "code",
   "execution_count": 115,
   "metadata": {
    "ExecuteTime": {
     "end_time": "2021-04-28T09:27:58.562526Z",
     "start_time": "2021-04-28T09:27:58.319512Z"
    }
   },
   "outputs": [
    {
     "name": "stdout",
     "output_type": "stream",
     "text": [
      "loss 0.290616, 0.054003 sec per epoch\n"
     ]
    },
    {
     "data": {
      "image/png": "[encoded data removed]",
      "text/plain": [
       "<matplotlib.figure.Figure at 0x11bff978>"
      ]
     },
     "metadata": {},
     "output_type": "display_data"
    }
   ],
   "source": [
    "train_ch7(sgd_momentum, init_momentum_states(), {\n",
    "    'lr': 0.02,\n",
    "    'momentum': 0.9\n",
    "}, features, labels)"
   ]
  },
  {
   "cell_type": "code",
   "execution_count": null,
   "metadata": {
    "collapsed": true
   },
   "outputs": [],
   "source": []
  },
  {
   "cell_type": "code",
   "execution_count": null,
   "metadata": {
    "collapsed": true
   },
   "outputs": [],
   "source": []
  },
  {
   "cell_type": "code",
   "execution_count": null,
   "metadata": {
    "collapsed": true
   },
   "outputs": [],
   "source": []
  },
  {
   "cell_type": "code",
   "execution_count": null,
   "metadata": {
    "collapsed": true
   },
   "outputs": [],
   "source": []
  },
  {
   "cell_type": "code",
   "execution_count": 119,
   "metadata": {
    "ExecuteTime": {
     "end_time": "2021-04-28T09:36:39.652331Z",
     "start_time": "2021-04-28T09:36:39.644330Z"
    },
    "collapsed": true
   },
   "outputs": [],
   "source": [
    "# train_ch7(sgd_momentum, init_momentum_states(), {\n",
    "#     'lr': 0.004,\n",
    "#     'momentum': 0.9\n",
    "# }, features, labels)"
   ]
  },
  {
   "cell_type": "code",
   "execution_count": 138,
   "metadata": {
    "ExecuteTime": {
     "end_time": "2021-04-28T10:09:34.026258Z",
     "start_time": "2021-04-28T10:09:33.955254Z"
    },
    "collapsed": true
   },
   "outputs": [],
   "source": [
    "def train_pytorch_ch7(optimizer_fn,optimizer_hyperparams,features,labels,batch_size=10,\n",
    "                     num_epochs=2):\n",
    "    net=nn.Sequential(nn.Linear(features.shape[-1],1))\n",
    "    loss=nn.MSELoss()\n",
    "    optimizer=optimizer_fn(net.parameters(),**optimizer_hyperparams)\n",
    "    \n",
    "    data_iter=torch.utils.data.DataLoader(\n",
    "    torch.utils.data.TensorDataset(features,labels),\n",
    "    batch_size=batch_size,shuffle=True)\n",
    "    \n",
    "    def eval_loss():\n",
    "        return loss(net(features).view(-1),labels).item() /2\n",
    "    ls=[eval_loss()]\n",
    "    for _ in range(num_epochs):\n",
    "        start=time.time()\n",
    "        for batch_i,(X,y) in enumerate(data_iter):\n",
    "            l=loss(net(X).view(-1),y)/2\n",
    "            optimizer.zero_grad()\n",
    "            l.backward()\n",
    "            optimizer.step()\n",
    "            if (batch_i+1) * batch_size % 100 ==0:\n",
    "#                 print(eval_loss())\n",
    "                ls.append(eval_loss())\n",
    "    print('loss: %f, %f sec per epoch' % (ls[-1],time.time()-start))\n",
    "    plt.plot(np.linspace(0,num_epochs,len(ls)),ls,'-')\n",
    "    plt.xlabel('epochs')\n",
    "    plt.ylabel('loss')\n",
    "    "
   ]
  },
  {
   "cell_type": "code",
   "execution_count": 273,
   "metadata": {
    "ExecuteTime": {
     "end_time": "2021-04-28T10:13:17.024013Z",
     "start_time": "2021-04-28T10:13:16.803000Z"
    }
   },
   "outputs": [
    {
     "name": "stdout",
     "output_type": "stream",
     "text": [
      "loss: 0.244092, 0.047003 sec per epoch\n"
     ]
    },
    {
     "data": {
      "image/png": "[encoded data removed]",
      "text/plain": [
       "<matplotlib.figure.Figure at 0x1582e6d8>"
      ]
     },
     "metadata": {},
     "output_type": "display_data"
    }
   ],
   "source": [
    "train_pytorch_ch7(torch.optim.SGD, {\n",
    "    'lr': 0.004,\n",
    "    'momentum': 0.9\n",
    "}, features, labels)"
   ]
  },
  {
   "cell_type": "code",
   "execution_count": null,
   "metadata": {
    "collapsed": true
   },
   "outputs": [],
   "source": []
  },
  {
   "cell_type": "code",
   "execution_count": null,
   "metadata": {
    "collapsed": true
   },
   "outputs": [],
   "source": []
  }
 ],
 "metadata": {
  "kernelspec": {
   "display_name": "Python 3",
   "language": "python",
   "name": "python3"
  },
  "language_info": {
   "codemirror_mode": {
    "name": "ipython",
    "version": 3
   },
   "file_extension": ".py",
   "mimetype": "text/x-python",
   "name": "python",
   "nbconvert_exporter": "python",
   "pygments_lexer": "ipython3",
   "version": "3.6.3"
  }
 },
 "nbformat": 4,
 "nbformat_minor": 2
}
