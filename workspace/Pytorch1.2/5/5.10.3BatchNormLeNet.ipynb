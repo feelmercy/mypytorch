{
 "cells": [
  {
   "cell_type": "code",
   "execution_count": 37,
   "metadata": {
    "ExecuteTime": {
     "end_time": "2021-03-08T09:52:19.102613Z",
     "start_time": "2021-03-08T09:52:19.090613Z"
    },
    "collapsed": true
   },
   "outputs": [],
   "source": [
    "import torch\n",
    "import torchvision\n",
    "import torchvision.transforms as transforms\n",
    "from torch import nn,optim\n",
    "import torch.nn._functions as F\n",
    "import time"
   ]
  },
  {
   "cell_type": "code",
   "execution_count": 38,
   "metadata": {
    "ExecuteTime": {
     "end_time": "2021-03-08T09:52:19.614643Z",
     "start_time": "2021-03-08T09:52:19.601642Z"
    }
   },
   "outputs": [],
   "source": [
    "class FlattenLayer(nn.Module):\n",
    "    def __init__(self):\n",
    "        super().__init__()\n",
    "    def forward(self,x):\n",
    "        return x.view(x.size()[0],-1)"
   ]
  },
  {
   "cell_type": "code",
   "execution_count": 39,
   "metadata": {
    "ExecuteTime": {
     "end_time": "2021-03-08T09:52:20.911717Z",
     "start_time": "2021-03-08T09:52:20.865714Z"
    },
    "collapsed": true
   },
   "outputs": [],
   "source": [
    "def batch_norm(is_training,X,gamma,beta,moving_mean,moving_var,eps,momentum):\n",
    "    if not is_training:\n",
    "        X_hat=(X-moving_mean) / torch.sqrt(moving_var+eps)\n",
    "    else:\n",
    "        assert len(X.shape) in (2,4)\n",
    "        if len(X.shape)==2:\n",
    "            mean=X.mean(dim=0)\n",
    "            var=((X-mean)**2).mean(dim=0)\n",
    "        else:\n",
    "            mean=X.mean(dim=0,keepdim=True).mean(dim=2,keepdim=True).mean(dim=3,keepdim=True)\n",
    "            var=((X-mean)**2).mean(dim=0,keepdim=True).mean(dim=2,keepdim=True).mean(dim=3,keepdim=True)\n",
    "        X_hat=(X-mean)/torch.sqrt(var+eps)\n",
    "        moving_mean=momentum*moving_mean+(1.0-momentum)*mean\n",
    "        moving_var=momentum*moving_var+(1.0-momentum)*var\n",
    "    Y=gamma*X_hat+beta\n",
    "    return Y,moving_mean,moving_var"
   ]
  },
  {
   "cell_type": "code",
   "execution_count": 42,
   "metadata": {
    "ExecuteTime": {
     "end_time": "2021-03-08T09:52:37.139645Z",
     "start_time": "2021-03-08T09:52:37.091642Z"
    },
    "collapsed": true
   },
   "outputs": [],
   "source": [
    "class BatchNorm(nn.Module):\n",
    "    def __init__(self, num_features, num_dims):\n",
    "        super().__init__()\n",
    "        if num_dims == 2:\n",
    "            shape = (1, num_features)\n",
    "        else:\n",
    "            shape = (1, num_features, 1, 1)\n",
    "        ## nn.Parameter 是一种类型\n",
    "        # 参与求梯度和迭代的拉伸和偏移参数，分别初始化成0和1\n",
    "        self.gamma = nn.Parameter(torch.ones(shape))\n",
    "        self.beta = nn.Parameter(torch.zeros(shape))\n",
    "        # 不参与求梯度和迭代的变量，全在内存上初始化成0\n",
    "        self.moving_mean = torch.zeros(shape)\n",
    "        self.moving_var = torch.zeros(shape)\n",
    "\n",
    "    def forward(self, X):\n",
    "        Y, self.moving_mean, self.moving_var = batch_norm(self.training,\n",
    "                                                          X,\n",
    "                                                          self.gamma,\n",
    "                                                          self.beta,\n",
    "                                                          self.moving_mean,\n",
    "                                                          self.moving_var,\n",
    "                                                          eps=1e-5,\n",
    "                                                          momentum=0.9)\n",
    "        return Y"
   ]
  },
  {
   "cell_type": "code",
   "execution_count": 50,
   "metadata": {
    "ExecuteTime": {
     "end_time": "2021-03-08T10:00:03.372168Z",
     "start_time": "2021-03-08T10:00:03.341166Z"
    },
    "scrolled": true
   },
   "outputs": [],
   "source": [
    "net = nn.Sequential(nn.Conv2d(1, 6, 5), \n",
    "                    BatchNorm(6,num_dims=4), \n",
    "                    nn.Sigmoid(),\n",
    "                    nn.MaxPool2d(2, 2), \n",
    "                    nn.Conv2d(6, 16, 5),\n",
    "                    BatchNorm(16,num_dims=4), \n",
    "                    nn.Sigmoid(), \n",
    "                    nn.MaxPool2d(2, 2),\n",
    "                    FlattenLayer(), \n",
    "                    nn.Linear(16 * 4 * 4, 120),\n",
    "                    BatchNorm(120,num_dims=2), \n",
    "                    nn.Sigmoid(), \n",
    "                    nn.Linear(120, 84),\n",
    "                    BatchNorm(84,num_dims=2),\n",
    "                    nn.Sigmoid(), \n",
    "                    nn.Linear(84, 10))"
   ]
  },
  {
   "cell_type": "code",
   "execution_count": 51,
   "metadata": {
    "ExecuteTime": {
     "end_time": "2021-03-08T10:00:04.051207Z",
     "start_time": "2021-03-08T10:00:04.018205Z"
    },
    "collapsed": true
   },
   "outputs": [],
   "source": [
    "def load_data_fashion_mnist(batch_size,\n",
    "                            resize=None,\n",
    "                            root=r'F:\\study\\ml\\DataSet\\FashionMNIST'):\n",
    "    trans = []\n",
    "    if resize:\n",
    "        trans.append(torchvision.transforms.Resize(size=resize))\n",
    "    trans.append(torchvision.transforms.ToTensor())\n",
    "    transform = torchvision.transforms.Compose(trans)\n",
    "    mnist_train = torchvision.datasets.FashionMNIST(root=root,\n",
    "                                                    train=True,\n",
    "                                                    download=True,\n",
    "                                                    transform=transform)\n",
    "    mnist_test = torchvision.datasets.FashionMNIST(root=root,\n",
    "                                                   train=False,\n",
    "                                                   download=True,\n",
    "                                                   transform=transform)\n",
    "\n",
    "    train_iter = torch.utils.data.DataLoader(mnist_train,\n",
    "                                             batch_size=batch_size,\n",
    "                                             shuffle=True,\n",
    "                                             num_workers=4)\n",
    "    test_iter = torch.utils.data.DataLoader(mnist_test,\n",
    "                                            batch_size=batch_size,\n",
    "                                            shuffle=False,\n",
    "                                            num_workers=4)\n",
    "    return train_iter, test_iter"
   ]
  },
  {
   "cell_type": "code",
   "execution_count": 52,
   "metadata": {
    "ExecuteTime": {
     "end_time": "2021-03-08T10:00:04.840252Z",
     "start_time": "2021-03-08T10:00:04.795250Z"
    },
    "collapsed": true
   },
   "outputs": [],
   "source": [
    "def train_ch5(net, train_iter, test_iter, batch_size, optimizer, num_epochs):\n",
    "    loss = torch.nn.CrossEntropyLoss()\n",
    "    batch_count = 0\n",
    "    for epoch in range(num_epochs):\n",
    "        train_l_sum, train_acc, n, start = 0.0, 0.0, 0, time.time()\n",
    "        for x, y in train_iter:\n",
    "            y_hat = net(x)\n",
    "            l = loss(y_hat, y)\n",
    "            optimizer.zero_grad()\n",
    "            l.backward()\n",
    "            optimizer.step()\n",
    "            train_l_sum += l.item()\n",
    "            n += y.shape[0]\n",
    "            batch_count += 1\n",
    "            train_acc += (y_hat.argmax(dim=1)==y).sum().item()\n",
    "#             break\n",
    "        test_acc = evaluate_accuracy(test_iter, net)\n",
    "        print('epoch %d,loss %.4f,train acc %.3f,test acc %.3f,time %.1f sec' %\n",
    "              (epoch + 1, train_l_sum / batch_count, train_acc / n, test_acc,\n",
    "               time.time() - start))"
   ]
  },
  {
   "cell_type": "code",
   "execution_count": 53,
   "metadata": {
    "ExecuteTime": {
     "end_time": "2021-03-08T10:00:05.352281Z",
     "start_time": "2021-03-08T10:00:05.330280Z"
    },
    "collapsed": true
   },
   "outputs": [],
   "source": [
    "def evaluate_accuracy(data_iter,net):\n",
    "    acc_sum,n=0.0,0\n",
    "    with torch.no_grad():\n",
    "        for x,y in data_iter:\n",
    "            net.eval()\n",
    "            acc_sum +=(net(x).argmax(dim=1)==y).float().sum().item()\n",
    "            net.train()\n",
    "            n+=y.shape[0]\n",
    "        return acc_sum /n"
   ]
  },
  {
   "cell_type": "code",
   "execution_count": 54,
   "metadata": {
    "ExecuteTime": {
     "end_time": "2021-03-08T10:04:12.052392Z",
     "start_time": "2021-03-08T10:00:05.979317Z"
    }
   },
   "outputs": [
    {
     "name": "stdout",
     "output_type": "stream",
     "text": [
      "epoch 1,loss 0.9680,train acc 0.795,test acc 0.831,time 38.5 sec\n",
      "epoch 2,loss 0.2229,train acc 0.868,test acc 0.837,time 77.2 sec\n",
      "epoch 3,loss 0.1200,train acc 0.883,test acc 0.856,time 42.3 sec\n",
      "epoch 4,loss 0.0810,train acc 0.889,test acc 0.875,time 48.3 sec\n",
      "epoch 5,loss 0.0604,train acc 0.894,test acc 0.866,time 39.7 sec\n"
     ]
    }
   ],
   "source": [
    "batch_size=256\n",
    "train_iter,test_iter=load_data_fashion_mnist(batch_size=batch_size)\n",
    "\n",
    "lr,num_epochs=0.001,5\n",
    "optimizer=torch.optim.Adam(net.parameters(),lr=lr)\n",
    "train_ch5(net,train_iter,test_iter,batch_size,optimizer,num_epochs)"
   ]
  },
  {
   "cell_type": "code",
   "execution_count": null,
   "metadata": {
    "collapsed": true
   },
   "outputs": [],
   "source": []
  }
 ],
 "metadata": {
  "kernelspec": {
   "display_name": "Python 3",
   "language": "python",
   "name": "python3"
  },
  "language_info": {
   "codemirror_mode": {
    "name": "ipython",
    "version": 3
   },
   "file_extension": ".py",
   "mimetype": "text/x-python",
   "name": "python",
   "nbconvert_exporter": "python",
   "pygments_lexer": "ipython3",
   "version": "3.6.3"
  }
 },
 "nbformat": 4,
 "nbformat_minor": 2
}
