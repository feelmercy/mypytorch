{
 "cells": [
  {
   "cell_type": "code",
   "execution_count": 6,
   "metadata": {
    "ExecuteTime": {
     "end_time": "2021-03-09T07:11:27.580619Z",
     "start_time": "2021-03-09T07:11:27.567618Z"
    },
    "collapsed": true
   },
   "outputs": [],
   "source": [
    "import torch\n",
    "import torchvision.transforms as transforms\n",
    "import torchvision\n",
    "from torch import nn,optim\n",
    "import torch.nn.functional as F\n",
    "import time"
   ]
  },
  {
   "cell_type": "code",
   "execution_count": 4,
   "metadata": {
    "ExecuteTime": {
     "end_time": "2021-03-08T07:00:50.569143Z",
     "start_time": "2021-03-08T07:00:50.563143Z"
    },
    "collapsed": true
   },
   "outputs": [],
   "source": [
    "import numpy as np"
   ]
  },
  {
   "cell_type": "code",
   "execution_count": 1,
   "metadata": {
    "ExecuteTime": {
     "end_time": "2021-03-09T07:10:36.328688Z",
     "start_time": "2021-03-09T07:10:36.321687Z"
    },
    "collapsed": true
   },
   "outputs": [],
   "source": [
    "import sys"
   ]
  },
  {
   "cell_type": "code",
   "execution_count": 2,
   "metadata": {
    "ExecuteTime": {
     "end_time": "2021-03-09T07:11:00.322060Z",
     "start_time": "2021-03-09T07:11:00.314059Z"
    },
    "collapsed": true
   },
   "outputs": [],
   "source": [
    "sys.path.append(r'F:\\study\\ml\\python_packages')"
   ]
  },
  {
   "cell_type": "code",
   "execution_count": 3,
   "metadata": {
    "ExecuteTime": {
     "end_time": "2021-03-09T07:11:08.152508Z",
     "start_time": "2021-03-09T07:11:07.683481Z"
    },
    "collapsed": true
   },
   "outputs": [],
   "source": [
    "import d2l"
   ]
  },
  {
   "cell_type": "markdown",
   "metadata": {
    "ExecuteTime": {
     "end_time": "2021-03-08T06:55:38.264280Z",
     "start_time": "2021-03-08T06:55:38.102271Z"
    }
   },
   "source": [
    "- 多少个输出通道,就要分别每个通道做归一化,所以输出通道保持不变\n",
    "- 训练与预测不同,需要需要通过均值,方差归一化,预测要用移动平均方法\n",
    "- 2是全连接层,4是卷积层"
   ]
  },
  {
   "cell_type": "code",
   "execution_count": 7,
   "metadata": {
    "ExecuteTime": {
     "end_time": "2021-03-09T07:11:33.226942Z",
     "start_time": "2021-03-09T07:11:33.158938Z"
    },
    "collapsed": true
   },
   "outputs": [],
   "source": [
    "def batch_norm(is_training,X,gamma,beta,moving_mean,moving_var,eps,momentum):\n",
    "    if not is_training:\n",
    "        X_hat=(X-moving_mean) / torch.sqrt(moving_var+eps)\n",
    "    else:\n",
    "        assert len(X.shape) in (2,4)\n",
    "        if len(X.shape)==2:\n",
    "            mean=X.mean(dim=0)\n",
    "            var=((X-mean)**2).mean(dim=0)\n",
    "        else:\n",
    "            mean=X.mean(dim=0,keepdim=True).mean(dim=2,keepdim=True).mean(dim=3,keepdim=True)\n",
    "            var=((X-mean)**2).mean(dim=0,keepdim=True).mean(dim=2,keepdim=True).mean(dim=3,keepdim=True)\n",
    "        X_hat=(X-mean)/torch.sqrt(var+eps)\n",
    "        moving_mean=momentum*moving_mean+(1.0-momentum)*mean\n",
    "        moving_var=momentum*moving_var+(1.0-momentum)*var\n",
    "    Y=gamma*X_hat+beta\n",
    "    return Y,moving_mean,moving_var"
   ]
  },
  {
   "cell_type": "markdown",
   "metadata": {
    "ExecuteTime": {
     "end_time": "2021-03-08T07:17:57.918904Z",
     "start_time": "2021-03-08T07:17:57.907903Z"
    }
   },
   "source": [
    "- BatchNorm 实例\n",
    "所需指定的 num_features 参数对于全连接层来说应为输出个数，对于卷积层来说则为输出通道数"
   ]
  },
  {
   "cell_type": "code",
   "execution_count": 8,
   "metadata": {
    "ExecuteTime": {
     "end_time": "2021-03-09T07:11:34.860035Z",
     "start_time": "2021-03-09T07:11:34.817033Z"
    }
   },
   "outputs": [],
   "source": [
    "class BatchNorm(nn.Module):\n",
    "    def __init__(self, num_features, num_dims):\n",
    "        super().__init__()\n",
    "        if num_dims == 2:\n",
    "            shape = (1, num_features)\n",
    "        else:\n",
    "            shape = (1, num_features, 1, 1)\n",
    "        ## nn.Parameter 是一种类型\n",
    "        # 参与求梯度和迭代的拉伸和偏移参数，分别初始化成0和1\n",
    "        self.gamma = nn.Parameter(torch.ones(shape))\n",
    "        self.beta = nn.Parameter(torch.zeros(shape))\n",
    "        # 不参与求梯度和迭代的变量，全在内存上初始化成0\n",
    "        self.moving_mean = torch.zeros(shape)\n",
    "        self.moving_var = torch.zeros(shape)\n",
    "\n",
    "    def forward(self, X):\n",
    "        Y, self.moving_mean, self.moving_var = batch_norm(self.training,\n",
    "                                                          X,\n",
    "                                                          self.gamma,\n",
    "                                                          self.beta,\n",
    "                                                          self.moving_mean,\n",
    "                                                          self.moving_var,\n",
    "                                                          eps=1e-5,\n",
    "                                                          momentum=0.9)\n",
    "        return Y"
   ]
  },
  {
   "cell_type": "code",
   "execution_count": 9,
   "metadata": {
    "ExecuteTime": {
     "end_time": "2021-03-09T07:11:50.758945Z",
     "start_time": "2021-03-09T07:11:50.634938Z"
    },
    "collapsed": true
   },
   "outputs": [],
   "source": [
    "net = nn.Sequential(\n",
    "    nn.Conv2d(1, 6, 5),\n",
    "    BatchNorm(6, num_dims=4),\n",
    "    nn.Sigmoid(),\n",
    "    nn.MaxPool2d(2,2),\n",
    "    nn.Conv2d(6,16,5),\n",
    "    BatchNorm(16,num_dims=4),\n",
    "    nn.Sigmoid(),\n",
    "    nn.MaxPool2d(2,2),\n",
    "    d2l.FlattenLayer(),\n",
    "    nn.Linear(16*4*4,120),\n",
    "    BatchNorm(120,num_dims=2),\n",
    "    nn.Sigmoid(),\n",
    "    nn.Linear(120,84),\n",
    "    BatchNorm(84,num_dims=2),\n",
    "    nn.Sigmoid(),\n",
    "    nn.Linear(84,10)\n",
    ")"
   ]
  },
  {
   "cell_type": "code",
   "execution_count": 10,
   "metadata": {
    "ExecuteTime": {
     "end_time": "2021-03-09T07:15:37.623921Z",
     "start_time": "2021-03-09T07:12:22.200743Z"
    }
   },
   "outputs": [
    {
     "name": "stdout",
     "output_type": "stream",
     "text": [
      "epoch 1,loss 1.0063,train acc 0.782,test acc 0.778,time 35.3 sec\n",
      "epoch 2,loss 0.2278,train acc 0.865,test acc 0.818,time 33.9 sec\n",
      "epoch 3,loss 0.1235,train acc 0.876,test acc 0.849,time 34.0 sec\n",
      "epoch 4,loss 0.0836,train acc 0.885,test acc 0.864,time 41.9 sec\n",
      "epoch 5,loss 0.0626,train acc 0.890,test acc 0.871,time 50.2 sec\n"
     ]
    }
   ],
   "source": [
    "batch_size=256\n",
    "train_iter,test_iter=d2l.load_data_fashion_mnist(batch_size=batch_size)\n",
    "\n",
    "lr,num_epochs=0.001,5\n",
    "optimizer=torch.optim.Adam(net.parameters(),lr=lr)\n",
    "d2l.train_ch5(net,train_iter,test_iter,batch_size,optimizer,num_epochs)\n"
   ]
  },
  {
   "cell_type": "code",
   "execution_count": 30,
   "metadata": {
    "ExecuteTime": {
     "end_time": "2021-03-08T07:44:54.167348Z",
     "start_time": "2021-03-08T07:44:54.122346Z"
    }
   },
   "outputs": [
    {
     "data": {
      "text/plain": [
       "(tensor([1.0270, 0.9866, 1.2438, 1.0900, 0.9440, 0.8653],\n",
       "        grad_fn=<ViewBackward>),\n",
       " tensor([-0.6213, -0.6319,  0.1360, -0.7276, -0.1986, -0.2034],\n",
       "        grad_fn=<ViewBackward>))"
      ]
     },
     "execution_count": 30,
     "metadata": {},
     "output_type": "execute_result"
    }
   ],
   "source": [
    "net[1].gamma.view((-1,)),net[1].beta.view((-1,))"
   ]
  },
  {
   "cell_type": "code",
   "execution_count": null,
   "metadata": {
    "collapsed": true
   },
   "outputs": [],
   "source": []
  }
 ],
 "metadata": {
  "kernelspec": {
   "display_name": "Python 3",
   "language": "python",
   "name": "python3"
  },
  "language_info": {
   "codemirror_mode": {
    "name": "ipython",
    "version": 3
   },
   "file_extension": ".py",
   "mimetype": "text/x-python",
   "name": "python",
   "nbconvert_exporter": "python",
   "pygments_lexer": "ipython3",
   "version": "3.6.3"
  }
 },
 "nbformat": 4,
 "nbformat_minor": 2
}
