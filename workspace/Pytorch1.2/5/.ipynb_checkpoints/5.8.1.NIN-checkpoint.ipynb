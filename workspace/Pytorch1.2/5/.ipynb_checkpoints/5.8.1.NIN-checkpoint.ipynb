{
 "cells": [
  {
   "cell_type": "code",
   "execution_count": 1,
   "metadata": {
    "ExecuteTime": {
     "end_time": "2021-02-25T10:01:17.729066Z",
     "start_time": "2021-02-25T10:01:09.226980Z"
    },
    "collapsed": true
   },
   "outputs": [],
   "source": [
    "import time\n",
    "import torch\n",
    "from torch import nn,optim\n",
    "import torch.nn.functional as F\n",
    "import torchvision \n",
    "import torchvision.transforms as transforms"
   ]
  },
  {
   "cell_type": "code",
   "execution_count": 9,
   "metadata": {
    "ExecuteTime": {
     "end_time": "2021-02-08T09:32:17.373270Z",
     "start_time": "2021-02-08T09:32:17.356269Z"
    },
    "collapsed": true
   },
   "outputs": [],
   "source": [
    "def nin_block(in_channels, out_channels, kernel_size, stride, padding):\n",
    "    blk = nn.Sequential(\n",
    "        nn.Conv2d(in_channels, out_channels, kernel_size, stride, padding),\n",
    "        nn.ReLU(), \n",
    "        nn.Conv2d(out_channels, out_channels, kernel_size=1),\n",
    "        nn.ReLU(), \n",
    "        nn.Conv2d(out_channels, out_channels, kernel_size=1),\n",
    "        nn.ReLU())\n",
    "    return blk"
   ]
  },
  {
   "cell_type": "code",
   "execution_count": 10,
   "metadata": {
    "ExecuteTime": {
     "end_time": "2021-02-08T09:32:17.622284Z",
     "start_time": "2021-02-08T09:32:17.614283Z"
    },
    "collapsed": true
   },
   "outputs": [],
   "source": [
    "class GlobalAvgPool2d(nn.Module):\n",
    "    def __init__(self):\n",
    "        super().__init__()\n",
    "    def forward(self,x):\n",
    "        return F.avg_pool2d(x,kernel_size=x.size()[2:])"
   ]
  },
  {
   "cell_type": "code",
   "execution_count": 11,
   "metadata": {
    "ExecuteTime": {
     "end_time": "2021-02-08T09:32:17.908300Z",
     "start_time": "2021-02-08T09:32:17.891299Z"
    },
    "collapsed": true
   },
   "outputs": [],
   "source": [
    "class FlattenLayer(nn.Module):\n",
    "    def __init__(self):\n",
    "        super().__init__()\n",
    "    def forward(self,x):\n",
    "        return x.view(x.shape[0],-1)"
   ]
  },
  {
   "cell_type": "code",
   "execution_count": 12,
   "metadata": {
    "ExecuteTime": {
     "end_time": "2021-02-08T09:32:18.609340Z",
     "start_time": "2021-02-08T09:32:18.566338Z"
    },
    "collapsed": true
   },
   "outputs": [],
   "source": [
    "net = nn.Sequential(nin_block(1, 96, kernel_size=11, stride=4, padding=0),\n",
    "                    nn.MaxPool2d(kernel_size=3, stride=2),\n",
    "                    nin_block(96, 256, kernel_size=4, stride=1, padding=2),\n",
    "                    nn.MaxPool2d(kernel_size=3, stride=2),\n",
    "                    nin_block(256, 384, kernel_size=3, stride=1, padding=1),\n",
    "                    nn.MaxPool2d(kernel_size=3, stride=2), nn.Dropout(0.5),\n",
    "                    nin_block(384, 10, kernel_size=3, stride=1, padding=1),\n",
    "                    GlobalAvgPool2d(), \n",
    "                    FlattenLayer())"
   ]
  },
  {
   "cell_type": "code",
   "execution_count": 13,
   "metadata": {
    "ExecuteTime": {
     "end_time": "2021-02-08T09:32:19.517392Z",
     "start_time": "2021-02-08T09:32:19.398386Z"
    }
   },
   "outputs": [
    {
     "name": "stdout",
     "output_type": "stream",
     "text": [
      "0 output shape:  torch.Size([1, 96, 54, 54])\n",
      "1 output shape:  torch.Size([1, 96, 26, 26])\n",
      "2 output shape:  torch.Size([1, 256, 27, 27])\n",
      "3 output shape:  torch.Size([1, 256, 13, 13])\n",
      "4 output shape:  torch.Size([1, 384, 13, 13])\n",
      "5 output shape:  torch.Size([1, 384, 6, 6])\n",
      "6 output shape:  torch.Size([1, 384, 6, 6])\n",
      "7 output shape:  torch.Size([1, 10, 6, 6])\n",
      "8 output shape:  torch.Size([1, 10, 1, 1])\n",
      "9 output shape:  torch.Size([1, 10])\n"
     ]
    }
   ],
   "source": [
    "x=torch.rand(1,1,224,224)\n",
    "for name,blk in net.named_children():\n",
    "    x=blk(x)\n",
    "    print(name,'output shape: ',x.shape)"
   ]
  },
  {
   "cell_type": "code",
   "execution_count": 14,
   "metadata": {
    "ExecuteTime": {
     "end_time": "2021-02-08T09:37:22.134701Z",
     "start_time": "2021-02-08T09:37:22.123700Z"
    }
   },
   "outputs": [
    {
     "name": "stdout",
     "output_type": "stream",
     "text": [
      "Sequential(\n",
      "  (0): Sequential(\n",
      "    (0): Conv2d(1, 96, kernel_size=(11, 11), stride=(4, 4))\n",
      "    (1): ReLU()\n",
      "    (2): Conv2d(96, 96, kernel_size=(1, 1), stride=(1, 1))\n",
      "    (3): ReLU()\n",
      "    (4): Conv2d(96, 96, kernel_size=(1, 1), stride=(1, 1))\n",
      "    (5): ReLU()\n",
      "  )\n",
      "  (1): MaxPool2d(kernel_size=3, stride=2, padding=0, dilation=1, ceil_mode=False)\n",
      "  (2): Sequential(\n",
      "    (0): Conv2d(96, 256, kernel_size=(4, 4), stride=(1, 1), padding=(2, 2))\n",
      "    (1): ReLU()\n",
      "    (2): Conv2d(256, 256, kernel_size=(1, 1), stride=(1, 1))\n",
      "    (3): ReLU()\n",
      "    (4): Conv2d(256, 256, kernel_size=(1, 1), stride=(1, 1))\n",
      "    (5): ReLU()\n",
      "  )\n",
      "  (3): MaxPool2d(kernel_size=3, stride=2, padding=0, dilation=1, ceil_mode=False)\n",
      "  (4): Sequential(\n",
      "    (0): Conv2d(256, 384, kernel_size=(3, 3), stride=(1, 1), padding=(1, 1))\n",
      "    (1): ReLU()\n",
      "    (2): Conv2d(384, 384, kernel_size=(1, 1), stride=(1, 1))\n",
      "    (3): ReLU()\n",
      "    (4): Conv2d(384, 384, kernel_size=(1, 1), stride=(1, 1))\n",
      "    (5): ReLU()\n",
      "  )\n",
      "  (5): MaxPool2d(kernel_size=3, stride=2, padding=0, dilation=1, ceil_mode=False)\n",
      "  (6): Dropout(p=0.5)\n",
      "  (7): Sequential(\n",
      "    (0): Conv2d(384, 10, kernel_size=(3, 3), stride=(1, 1), padding=(1, 1))\n",
      "    (1): ReLU()\n",
      "    (2): Conv2d(10, 10, kernel_size=(1, 1), stride=(1, 1))\n",
      "    (3): ReLU()\n",
      "    (4): Conv2d(10, 10, kernel_size=(1, 1), stride=(1, 1))\n",
      "    (5): ReLU()\n",
      "  )\n",
      "  (8): GlobalAvgPool2d()\n",
      "  (9): FlattenLayer()\n",
      ")\n"
     ]
    }
   ],
   "source": [
    "print(net)"
   ]
  },
  {
   "cell_type": "code",
   "execution_count": 15,
   "metadata": {
    "ExecuteTime": {
     "end_time": "2021-02-08T09:38:05.999210Z",
     "start_time": "2021-02-08T09:38:05.974209Z"
    },
    "collapsed": true
   },
   "outputs": [],
   "source": [
    "def load_data_fashion_mnist(batch_size,\n",
    "                            resize=None,\n",
    "                            root=r'F:\\study\\ml\\DataSet\\FashionMNIST'):\n",
    "    trans = []\n",
    "    if resize:\n",
    "        trans.append(torchvision.transforms.Resize(size=resize))\n",
    "    trans.append(torchvision.transforms.ToTensor())\n",
    "    transform = torchvision.transforms.Compose(trans)\n",
    "    mnist_train = torchvision.datasets.FashionMNIST(root=root,\n",
    "                                                    train=True,\n",
    "                                                    download=True,\n",
    "                                                    transform=transform)\n",
    "    mnist_test = torchvision.datasets.FashionMNIST(root=root,\n",
    "                                                   train=False,\n",
    "                                                   download=True,\n",
    "                                                   transform=transform)\n",
    "\n",
    "    train_iter = torch.utils.data.DataLoader(mnist_train,\n",
    "                                             batch_size=batch_size,\n",
    "                                             shuffle=True,\n",
    "                                             num_workers=4)\n",
    "    test_iter = torch.utils.data.DataLoader(mnist_test,\n",
    "                                            batch_size=batch_size,\n",
    "                                            shuffle=False,\n",
    "                                            num_workers=4)\n",
    "    return train_iter, test_iter"
   ]
  },
  {
   "cell_type": "code",
   "execution_count": 16,
   "metadata": {
    "ExecuteTime": {
     "end_time": "2021-02-08T09:38:15.648762Z",
     "start_time": "2021-02-08T09:38:15.627761Z"
    },
    "collapsed": true
   },
   "outputs": [],
   "source": [
    "def evaluate_accuracy(data_iter,net):\n",
    "    acc_sum,n=0.0,0\n",
    "    with torch.no_grad():\n",
    "        for x,y in data_iter:\n",
    "            net.eval()\n",
    "            acc_sum +=(net(x).argmax(dim=1)==y).float().sum().item()\n",
    "            net.train()\n",
    "            n+=y.shape[0]\n",
    "        return acc_sum /n"
   ]
  },
  {
   "cell_type": "code",
   "execution_count": 17,
   "metadata": {
    "ExecuteTime": {
     "end_time": "2021-02-08T09:38:24.144248Z",
     "start_time": "2021-02-08T09:38:24.100245Z"
    },
    "collapsed": true
   },
   "outputs": [],
   "source": [
    "def train_ch5(net, train_iter, test_iter, batch_size, optimizer, num_epochs):\n",
    "    loss = torch.nn.CrossEntropyLoss()\n",
    "    batch_count = 0\n",
    "    for epoch in range(num_epochs):\n",
    "        train_l_sum, train_acc, n, start = 0.0, 0.0, 0, time.time()\n",
    "        for x, y in train_iter:\n",
    "            y_hat = net(x)\n",
    "            l = loss(y_hat, y)\n",
    "            optimizer.zero_grad()\n",
    "            l.backward()\n",
    "            optimizer.step()\n",
    "            train_l_sum += l.item()\n",
    "            n += y.shape[0]\n",
    "            batch_count += 1\n",
    "            train_acc += (y_hat.argmax(dim=1)==y).sum().item()\n",
    "#             break\n",
    "        test_acc = evaluate_accuracy(test_iter, net)\n",
    "        print('epoch %d,loss %.4f,train acc %.3f,test acc %.3f,time %.1f sec' %\n",
    "              (epoch + 1, train_l_sum / batch_count, train_acc / n, test_acc,\n",
    "               time.time() - start))"
   ]
  },
  {
   "cell_type": "code",
   "execution_count": 21,
   "metadata": {
    "ExecuteTime": {
     "end_time": "2021-02-08T15:38:57.162586Z",
     "start_time": "2021-02-08T09:39:45.043875Z"
    }
   },
   "outputs": [
    {
     "name": "stdout",
     "output_type": "stream",
     "text": [
      "epoch 1,loss 2.3027,train acc 0.100,test acc 0.100,time 4661.8 sec\n",
      "epoch 2,loss 1.1513,train acc 0.100,test acc 0.100,time 4222.5 sec\n",
      "epoch 3,loss 0.7675,train acc 0.100,test acc 0.100,time 4216.0 sec\n",
      "epoch 4,loss 0.5756,train acc 0.100,test acc 0.100,time 4230.2 sec\n",
      "epoch 5,loss 0.4605,train acc 0.100,test acc 0.100,time 4220.9 sec\n"
     ]
    }
   ],
   "source": [
    "batch_size=128\n",
    "train_iter,test_iter=load_data_fashion_mnist(batch_size,resize=224)\n",
    "lr,num_epochs=0.002,5\n",
    "optimizer=torch.optim.Adam(net.parameters(),lr=lr)\n",
    "train_ch5(net,train_iter,test_iter,batch_size,optimizer,num_epochs)"
   ]
  },
  {
   "cell_type": "code",
   "execution_count": 25,
   "metadata": {
    "ExecuteTime": {
     "end_time": "2021-02-09T02:32:53.055750Z",
     "start_time": "2021-02-09T02:32:53.047750Z"
    }
   },
   "outputs": [
    {
     "data": {
      "text/plain": [
       "(0.01414213562373095, 0.9858578643762691)"
      ]
     },
     "execution_count": 25,
     "metadata": {},
     "output_type": "execute_result"
    }
   ],
   "source": [
    "(0.001/5)**(1/2),1-(0.001/5)**(1/2)"
   ]
  },
  {
   "cell_type": "code",
   "execution_count": 26,
   "metadata": {
    "ExecuteTime": {
     "end_time": "2021-02-09T02:33:20.038294Z",
     "start_time": "2021-02-09T02:33:20.026293Z"
    }
   },
   "outputs": [
    {
     "data": {
      "text/plain": [
       "(0.022360679774997897, 0.9776393202250021)"
      ]
     },
     "execution_count": 26,
     "metadata": {},
     "output_type": "execute_result"
    }
   ],
   "source": [
    "(0.001/2)**(1/2),1-(0.001/2)**(1/2)"
   ]
  },
  {
   "cell_type": "code",
   "execution_count": 27,
   "metadata": {
    "ExecuteTime": {
     "end_time": "2021-02-09T02:34:29.213250Z",
     "start_time": "2021-02-09T02:34:29.202250Z"
    }
   },
   "outputs": [
    {
     "data": {
      "text/plain": [
       "(0.007071067811865475, 0.9929289321881345)"
      ]
     },
     "execution_count": 27,
     "metadata": {},
     "output_type": "execute_result"
    }
   ],
   "source": [
    "(0.001/20)**(1/2),1-(0.001/20)**(1/2)"
   ]
  },
  {
   "cell_type": "code",
   "execution_count": 28,
   "metadata": {
    "ExecuteTime": {
     "end_time": "2021-02-09T02:36:06.719827Z",
     "start_time": "2021-02-09T02:36:06.708827Z"
    }
   },
   "outputs": [
    {
     "data": {
      "text/plain": [
       "(0.0007071067811865476, 0.9992928932188134)"
      ]
     },
     "execution_count": 28,
     "metadata": {},
     "output_type": "execute_result"
    }
   ],
   "source": [
    "(0.00001/20)**(1/2),1-(0.00001/20)**(1/2)"
   ]
  },
  {
   "cell_type": "code",
   "execution_count": null,
   "metadata": {
    "collapsed": true
   },
   "outputs": [],
   "source": []
  }
 ],
 "metadata": {
  "kernelspec": {
   "display_name": "Python 3",
   "language": "python",
   "name": "python3"
  },
  "language_info": {
   "codemirror_mode": {
    "name": "ipython",
    "version": 3
   },
   "file_extension": ".py",
   "mimetype": "text/x-python",
   "name": "python",
   "nbconvert_exporter": "python",
   "pygments_lexer": "ipython3",
   "version": "3.6.3"
  }
 },
 "nbformat": 4,
 "nbformat_minor": 2
}
