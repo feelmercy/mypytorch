{
 "cells": [
  {
   "cell_type": "code",
   "execution_count": 1,
   "metadata": {
    "ExecuteTime": {
     "end_time": "2021-01-29T02:04:43.074313Z",
     "start_time": "2021-01-29T02:04:43.070313Z"
    },
    "collapsed": true
   },
   "outputs": [],
   "source": [
    "import torch\n",
    "import torch.nn as nn"
   ]
  },
  {
   "cell_type": "code",
   "execution_count": 8,
   "metadata": {
    "ExecuteTime": {
     "end_time": "2021-01-29T02:40:45.138976Z",
     "start_time": "2021-01-29T02:40:45.127976Z"
    }
   },
   "outputs": [],
   "source": [
    "def corr2d_multi_in_out_1(x,k):\n",
    "    ci,h,w=x.shape #### 3,3,3\n",
    "    co=k.shape[0]  #### 2\n",
    "    x=x.view(ci,h*w)  ### 3,9\n",
    "    k=k.view(co,ci) ## 2,3\n",
    "    y=torch.mm(k,x) ## 2,3 * 3,9=2,9\n",
    "    return y.view(co,h,w) ##2,3,3"
   ]
  },
  {
   "cell_type": "code",
   "execution_count": 9,
   "metadata": {
    "ExecuteTime": {
     "end_time": "2021-01-29T02:40:45.742011Z",
     "start_time": "2021-01-29T02:40:45.719009Z"
    },
    "collapsed": true
   },
   "outputs": [],
   "source": [
    "def corr2d(x,k):\n",
    "    h,w=k.shape\n",
    "    y=torch.zeros((x.shape[0]-h+1,x.shape[1]-w+1))\n",
    "    for i in range(y.shape[0]):\n",
    "        for j in range(y.shape[1]):\n",
    "            y[i,j]=(x[i:i+h,j:j+w].float() * k.float()).sum()\n",
    "    return y"
   ]
  },
  {
   "cell_type": "code",
   "execution_count": 10,
   "metadata": {
    "ExecuteTime": {
     "end_time": "2021-01-29T02:40:46.752068Z",
     "start_time": "2021-01-29T02:40:46.735067Z"
    },
    "collapsed": true
   },
   "outputs": [],
   "source": [
    "def corr2d_multi(x,k):\n",
    "    res=corr2d(x[0,:,:],k[0,:,:])\n",
    "    for i in range(1,x.shape[0]):\n",
    "        res +=corr2d(x[i,:,:],k[i,:,:])\n",
    "    return res"
   ]
  },
  {
   "cell_type": "code",
   "execution_count": 12,
   "metadata": {
    "ExecuteTime": {
     "end_time": "2021-01-29T02:41:23.260157Z",
     "start_time": "2021-01-29T02:41:23.250156Z"
    },
    "collapsed": true
   },
   "outputs": [],
   "source": [
    "def corr2d_multi_in_out(x,k):\n",
    "    return torch.stack([corr2d_multi(x,kk) for kk in k])"
   ]
  },
  {
   "cell_type": "code",
   "execution_count": 13,
   "metadata": {
    "ExecuteTime": {
     "end_time": "2021-01-29T02:41:41.923224Z",
     "start_time": "2021-01-29T02:41:41.726213Z"
    }
   },
   "outputs": [
    {
     "data": {
      "text/plain": [
       "True"
      ]
     },
     "execution_count": 13,
     "metadata": {},
     "output_type": "execute_result"
    }
   ],
   "source": [
    "x=torch.rand(3,3,3)\n",
    "k=torch.rand(2,3,1,1)\n",
    "y1=corr2d_multi_in_out_1(x,k)\n",
    "y2=corr2d_multi_in_out(x,k)\n",
    "\n",
    "(y1-y2).norm().item() < 1e-6"
   ]
  },
  {
   "cell_type": "code",
   "execution_count": null,
   "metadata": {
    "collapsed": true
   },
   "outputs": [],
   "source": []
  }
 ],
 "metadata": {
  "kernelspec": {
   "display_name": "Python 3",
   "language": "python",
   "name": "python3"
  },
  "language_info": {
   "codemirror_mode": {
    "name": "ipython",
    "version": 3
   },
   "file_extension": ".py",
   "mimetype": "text/x-python",
   "name": "python",
   "nbconvert_exporter": "python",
   "pygments_lexer": "ipython3",
   "version": "3.6.3"
  }
 },
 "nbformat": 4,
 "nbformat_minor": 2
}
