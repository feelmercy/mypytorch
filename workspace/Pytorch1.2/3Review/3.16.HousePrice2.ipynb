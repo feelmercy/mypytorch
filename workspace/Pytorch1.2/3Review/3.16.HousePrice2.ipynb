{
 "cells": [
  {
   "cell_type": "code",
   "execution_count": 1,
   "metadata": {
    "ExecuteTime": {
     "end_time": "2021-08-26T02:35:07.496475Z",
     "start_time": "2021-08-26T02:34:55.790805Z"
    },
    "collapsed": true
   },
   "outputs": [],
   "source": [
    "import torch\n",
    "import torchvision\n",
    "import numpy as np\n",
    "from torch import nn,optim\n",
    "import pandas as pd"
   ]
  },
  {
   "cell_type": "markdown",
   "metadata": {},
   "source": [
    "pre-processing data"
   ]
  },
  {
   "cell_type": "code",
   "execution_count": 2,
   "metadata": {
    "ExecuteTime": {
     "end_time": "2021-08-26T02:35:09.084566Z",
     "start_time": "2021-08-26T02:35:08.788549Z"
    },
    "collapsed": true
   },
   "outputs": [],
   "source": [
    "train_data=pd.read_csv(r'F:\\study\\ml\\DataSet\\House_Prices\\train.csv')\n",
    "test_data=pd.read_csv(r'F:\\study\\ml\\DataSet\\House_Prices\\test.csv')"
   ]
  },
  {
   "cell_type": "code",
   "execution_count": 3,
   "metadata": {
    "ExecuteTime": {
     "end_time": "2021-08-26T02:35:09.806607Z",
     "start_time": "2021-08-26T02:35:09.756604Z"
    },
    "collapsed": true
   },
   "outputs": [],
   "source": [
    "all_features=pd.concat((train_data.iloc[:,1:-1],test_data.iloc[:,1:]))"
   ]
  },
  {
   "cell_type": "code",
   "execution_count": 4,
   "metadata": {
    "ExecuteTime": {
     "end_time": "2021-08-26T02:35:10.402641Z",
     "start_time": "2021-08-26T02:35:10.380640Z"
    }
   },
   "outputs": [
    {
     "data": {
      "text/plain": [
       "(2919, 79)"
      ]
     },
     "execution_count": 4,
     "metadata": {},
     "output_type": "execute_result"
    }
   ],
   "source": [
    "all_features.shape"
   ]
  },
  {
   "cell_type": "code",
   "execution_count": 5,
   "metadata": {
    "ExecuteTime": {
     "end_time": "2021-08-26T02:35:11.199687Z",
     "start_time": "2021-08-26T02:35:11.180686Z"
    }
   },
   "outputs": [
    {
     "data": {
      "text/plain": [
       "Index(['MSSubClass', 'LotFrontage', 'LotArea', 'OverallQual', 'OverallCond',\n",
       "       'YearBuilt', 'YearRemodAdd', 'MasVnrArea', 'BsmtFinSF1', 'BsmtFinSF2',\n",
       "       'BsmtUnfSF', 'TotalBsmtSF', '1stFlrSF', '2ndFlrSF', 'LowQualFinSF',\n",
       "       'GrLivArea', 'BsmtFullBath', 'BsmtHalfBath', 'FullBath', 'HalfBath',\n",
       "       'BedroomAbvGr', 'KitchenAbvGr', 'TotRmsAbvGrd', 'Fireplaces',\n",
       "       'GarageYrBlt', 'GarageCars', 'GarageArea', 'WoodDeckSF', 'OpenPorchSF',\n",
       "       'EnclosedPorch', '3SsnPorch', 'ScreenPorch', 'PoolArea', 'MiscVal',\n",
       "       'MoSold', 'YrSold'],\n",
       "      dtype='object')"
      ]
     },
     "execution_count": 5,
     "metadata": {},
     "output_type": "execute_result"
    }
   ],
   "source": [
    "numeric_features=all_features.dtypes[all_features.dtypes != 'object'].index\n",
    "numeric_features"
   ]
  },
  {
   "cell_type": "code",
   "execution_count": 6,
   "metadata": {
    "ExecuteTime": {
     "end_time": "2021-08-26T02:35:11.853724Z",
     "start_time": "2021-08-26T02:35:11.780720Z"
    },
    "collapsed": true
   },
   "outputs": [],
   "source": [
    "all_features[numeric_features]=all_features[numeric_features].apply(\n",
    "lambda x: (x-x.mean()) / (x.std()))"
   ]
  },
  {
   "cell_type": "code",
   "execution_count": 7,
   "metadata": {
    "ExecuteTime": {
     "end_time": "2021-08-26T02:35:12.373754Z",
     "start_time": "2021-08-26T02:35:12.333752Z"
    },
    "collapsed": true
   },
   "outputs": [],
   "source": [
    "all_features=all_features.fillna(0)"
   ]
  },
  {
   "cell_type": "code",
   "execution_count": 8,
   "metadata": {
    "ExecuteTime": {
     "end_time": "2021-08-26T02:35:12.862782Z",
     "start_time": "2021-08-26T02:35:12.852781Z"
    }
   },
   "outputs": [
    {
     "data": {
      "text/plain": [
       "(2919, 79)"
      ]
     },
     "execution_count": 8,
     "metadata": {},
     "output_type": "execute_result"
    }
   ],
   "source": [
    "all_features.shape"
   ]
  },
  {
   "cell_type": "code",
   "execution_count": 9,
   "metadata": {
    "ExecuteTime": {
     "end_time": "2021-08-26T02:35:14.099853Z",
     "start_time": "2021-08-26T02:35:14.028849Z"
    }
   },
   "outputs": [
    {
     "data": {
      "text/plain": [
       "(2919, 354)"
      ]
     },
     "execution_count": 9,
     "metadata": {},
     "output_type": "execute_result"
    }
   ],
   "source": [
    "all_features=pd.get_dummies(all_features,dummy_na=True)\n",
    "all_features.shape"
   ]
  },
  {
   "cell_type": "code",
   "execution_count": 10,
   "metadata": {
    "ExecuteTime": {
     "end_time": "2021-08-26T02:35:14.941901Z",
     "start_time": "2021-08-26T02:35:14.676886Z"
    },
    "collapsed": true
   },
   "outputs": [],
   "source": [
    "num_train=train_data.shape[0]\n",
    "train_features=torch.Tensor(all_features.iloc[:num_train,:].values)\n",
    "test_features=torch.Tensor(all_features.iloc[num_train:,:].values)\n",
    "train_labels=torch.Tensor(train_data.SalePrice.values).view(-1,1)"
   ]
  },
  {
   "cell_type": "markdown",
   "metadata": {},
   "source": [
    "define model and func"
   ]
  },
  {
   "cell_type": "code",
   "execution_count": 11,
   "metadata": {
    "ExecuteTime": {
     "end_time": "2021-08-26T02:35:15.689944Z",
     "start_time": "2021-08-26T02:35:15.683943Z"
    },
    "collapsed": true
   },
   "outputs": [],
   "source": [
    "loss=nn.MSELoss()"
   ]
  },
  {
   "cell_type": "code",
   "execution_count": 12,
   "metadata": {
    "ExecuteTime": {
     "end_time": "2021-08-26T02:35:16.275977Z",
     "start_time": "2021-08-26T02:35:16.260976Z"
    },
    "collapsed": true
   },
   "outputs": [],
   "source": [
    "def get_net(feature_num):\n",
    "    net=nn.Linear(feature_num,1)\n",
    "    for p in net.parameters():\n",
    "        nn.init.normal_(p,mean=0,std=0.01)\n",
    "    return net\n",
    "    "
   ]
  },
  {
   "cell_type": "code",
   "execution_count": 13,
   "metadata": {
    "ExecuteTime": {
     "end_time": "2021-08-26T02:35:16.949016Z",
     "start_time": "2021-08-26T02:35:16.933015Z"
    },
    "collapsed": true
   },
   "outputs": [],
   "source": [
    "def log_rmse(net,features,labels):\n",
    "    with torch.no_grad():\n",
    "        clipped_pred=torch.max(net(features),torch.Tensor([1.0]))\n",
    "        rmse=torch.sqrt(2*loss(clipped_pred.log(),labels.log()).mean())\n",
    "    return rmse.item()"
   ]
  },
  {
   "cell_type": "code",
   "execution_count": 14,
   "metadata": {
    "ExecuteTime": {
     "end_time": "2021-08-26T02:35:17.714059Z",
     "start_time": "2021-08-26T02:35:17.653056Z"
    },
    "collapsed": true
   },
   "outputs": [],
   "source": [
    "def train(net,train_features,train_labels,test_features,test_labels,\n",
    "         num_epochs,learning_rate,weight_decay,batch_size):\n",
    "    net=net.float()\n",
    "    optimizer=optim.Adam(net.parameters(),lr=learning_rate,weight_decay=weight_decay)\n",
    "    train_ls,test_ls=[],[]\n",
    "    dataset=torch.utils.data.TensorDataset(train_features,train_labels)\n",
    "    train_iter=torch.utils.data.DataLoader(dataset,batch_size,shuffle=True)\n",
    "    for i in range(num_epochs):\n",
    "        for x,y in train_iter:\n",
    "            l=loss(net(x).float(),y.float())\n",
    "            \n",
    "            optimizer.zero_grad()\n",
    "            l.backward()\n",
    "            optimizer.step()\n",
    "            \n",
    "        train_ls.append(log_rmse(net,train_features,train_labels))\n",
    "        if test_labels is not None:\n",
    "            test_ls.append(log_rmse(net,test_features,test_labels))\n",
    "    return train_ls,test_ls\n",
    "        \n",
    "            "
   ]
  },
  {
   "cell_type": "code",
   "execution_count": 15,
   "metadata": {
    "ExecuteTime": {
     "end_time": "2021-08-26T02:35:18.452102Z",
     "start_time": "2021-08-26T02:35:18.421100Z"
    },
    "collapsed": true
   },
   "outputs": [],
   "source": [
    "def get_k_fold_data(k,i,x,y):\n",
    "\n",
    "    x_train,y_train=None,None\n",
    "    fold_size=x.shape[0]//k\n",
    "    for j in range(k):\n",
    "        idx=slice(j*fold_size,(j+1) *fold_size)\n",
    "        x_part,y_part=x[idx,:],y[idx]\n",
    "        if i==j:\n",
    "            x_valid,y_valid=x_part,y_part\n",
    "        elif x_train is None:\n",
    "            x_train,y_train=x_part,y_part\n",
    "        else:\n",
    "            x_train=torch.cat((x_train,x_part),dim=0)\n",
    "            y_train=torch.cat((y_train,y_part),dim=0)\n",
    "    return x_train,y_train,x_valid,y_valid"
   ]
  },
  {
   "cell_type": "code",
   "execution_count": 16,
   "metadata": {
    "ExecuteTime": {
     "end_time": "2021-08-26T02:35:19.217145Z",
     "start_time": "2021-08-26T02:35:19.185144Z"
    },
    "collapsed": true
   },
   "outputs": [],
   "source": [
    "def k_fold(k,x_train,y_train,num_epochs,learning_rate,weight_decay,batch_size):\n",
    "    train_l_sum,valid_l_sum=0,0\n",
    "    net=get_net(x_train.shape[1])\n",
    "    for i in range(k):\n",
    "        data=get_k_fold_data(k,i,x_train,y_train)\n",
    "        train_ls,valid_ls=train(net,*data,num_epochs,learning_rate,\n",
    "                               weight_decay, batch_size)\n",
    "        train_l_sum+=train_ls[-1]\n",
    "        valid_l_sum+=valid_ls[-1]\n",
    "        print('fold %d ,train rmse %f,valid rmse %f ' %(\n",
    "        i+1,train_ls[-1],valid_ls[-1]))\n",
    "    return train_l_sum/k,valid_l_sum/k\n",
    "        \n",
    "        "
   ]
  },
  {
   "cell_type": "code",
   "execution_count": 17,
   "metadata": {
    "ExecuteTime": {
     "end_time": "2021-08-26T02:35:19.789178Z",
     "start_time": "2021-08-26T02:35:19.784178Z"
    },
    "collapsed": true
   },
   "outputs": [],
   "source": [
    "k,num_epochs,lr,weight_decay,batch_size=5,100,5,0,64"
   ]
  },
  {
   "cell_type": "code",
   "execution_count": 18,
   "metadata": {
    "ExecuteTime": {
     "end_time": "2021-08-26T02:35:28.865697Z",
     "start_time": "2021-08-26T02:35:20.932244Z"
    }
   },
   "outputs": [
    {
     "name": "stdout",
     "output_type": "stream",
     "text": [
      "fold 1 ,train rmse 0.240077,valid rmse 0.221725 \n",
      "fold 2 ,train rmse 0.187932,valid rmse 0.207320 \n",
      "fold 3 ,train rmse 0.175479,valid rmse 0.196727 \n",
      "fold 4 ,train rmse 0.181101,valid rmse 0.175211 \n",
      "fold 5 ,train rmse 0.169347,valid rmse 0.206272 \n",
      "5-fold validation: avg train rmse 0.190787, avg valid rmse 0.201451\n"
     ]
    }
   ],
   "source": [
    "train_l, valid_l = k_fold(k, train_features, train_labels, num_epochs, lr,\n",
    "                          weight_decay, batch_size)\n",
    "print('%d-fold validation: avg train rmse %f, avg valid rmse %f' %\n",
    "      (k, train_l, valid_l))"
   ]
  },
  {
   "cell_type": "code",
   "execution_count": 36,
   "metadata": {
    "ExecuteTime": {
     "end_time": "2021-08-26T07:16:39.883664Z",
     "start_time": "2021-08-26T07:16:39.850662Z"
    },
    "collapsed": true
   },
   "outputs": [],
   "source": [
    "def train_and_pred(train_features, test_features, train_labels, test_data,\n",
    "                   num_epochs, lr, weight_decay, batch_size):\n",
    "    net = get_net(train_features.shape[1])\n",
    "    train_ls, _ = train(net, train_features, train_labels, test_features, None,\n",
    "                        num_epochs, lr, weight_decay, batch_size)\n",
    "    print('train rmse %f' % train_ls[-1])\n",
    "    preds = net(test_features).detach().numpy()\n",
    "    test_data['SalePrice'] = pd.Series(preds.reshape(1, -1)[0])\n",
    "    submission = pd.concat([test_data['Id'], test_data['SalePrice']], axis=1)\n",
    "    submission.to_csv(r'F:\\study\\ml\\DataSet\\HousePrice\\Submission1.csv',\n",
    "                      index=False)"
   ]
  },
  {
   "cell_type": "code",
   "execution_count": 37,
   "metadata": {
    "ExecuteTime": {
     "end_time": "2021-08-26T07:16:42.603820Z",
     "start_time": "2021-08-26T07:16:40.697711Z"
    }
   },
   "outputs": [
    {
     "name": "stdout",
     "output_type": "stream",
     "text": [
      "train rmse 0.230025\n"
     ]
    }
   ],
   "source": [
    "train_and_pred(train_features, test_features, train_labels, test_data,\n",
    "               num_epochs, lr, weight_decay, batch_size)"
   ]
  },
  {
   "cell_type": "code",
   "execution_count": null,
   "metadata": {
    "collapsed": true
   },
   "outputs": [],
   "source": []
  },
  {
   "cell_type": "code",
   "execution_count": 29,
   "metadata": {
    "ExecuteTime": {
     "end_time": "2021-08-26T03:13:00.644492Z",
     "start_time": "2021-08-26T03:13:00.617490Z"
    }
   },
   "outputs": [
    {
     "name": "stdout",
     "output_type": "stream",
     "text": [
      "[[1 2 3]\n",
      " [4 5 6]]\n",
      "[[1 2 3 4 5 6]]\n",
      "[1 2 3 4 5 6]\n"
     ]
    },
    {
     "data": {
      "text/plain": [
       "0    1\n",
       "1    2\n",
       "2    3\n",
       "3    4\n",
       "4    5\n",
       "5    6\n",
       "dtype: int32"
      ]
     },
     "execution_count": 29,
     "metadata": {},
     "output_type": "execute_result"
    }
   ],
   "source": [
    "a=np.array([1,2,3,4,5,6]).reshape(2,3)\n",
    "print(a)\n",
    "print(a.reshape(1,-1))\n",
    "print(a.reshape(1,-1)[0])\n",
    "pd.Series(a.reshape(1,-1)[0])"
   ]
  },
  {
   "cell_type": "code",
   "execution_count": null,
   "metadata": {
    "collapsed": true
   },
   "outputs": [],
   "source": []
  },
  {
   "cell_type": "code",
   "execution_count": 19,
   "metadata": {
    "ExecuteTime": {
     "end_time": "2021-08-26T02:35:30.473789Z",
     "start_time": "2021-08-26T02:35:30.108768Z"
    }
   },
   "outputs": [
    {
     "data": {
      "text/plain": [
       "tensor([[-0.0048]], requires_grad=True)"
      ]
     },
     "execution_count": 19,
     "metadata": {},
     "output_type": "execute_result"
    }
   ],
   "source": [
    "x=torch.Tensor([[2.01],[3.01]])\n",
    "y=torch.Tensor([[4.01],[6.02]])\n",
    "w=torch.Tensor(np.random.normal(0,0.01,(1,1)))\n",
    "w.requires_grad_(requires_grad=True)"
   ]
  },
  {
   "cell_type": "code",
   "execution_count": 20,
   "metadata": {
    "ExecuteTime": {
     "end_time": "2021-08-26T02:35:31.818866Z",
     "start_time": "2021-08-26T02:35:31.812866Z"
    },
    "collapsed": true
   },
   "outputs": [],
   "source": [
    "# torch.mm(x,w)"
   ]
  },
  {
   "cell_type": "code",
   "execution_count": 21,
   "metadata": {
    "ExecuteTime": {
     "end_time": "2021-08-26T02:35:45.331639Z",
     "start_time": "2021-08-26T02:35:45.324639Z"
    },
    "collapsed": true
   },
   "outputs": [],
   "source": [
    "def linreg_net(x,w):\n",
    "    return torch.mm(x,w)"
   ]
  },
  {
   "cell_type": "code",
   "execution_count": 22,
   "metadata": {
    "ExecuteTime": {
     "end_time": "2021-08-26T02:35:46.257692Z",
     "start_time": "2021-08-26T02:35:46.244691Z"
    },
    "collapsed": true
   },
   "outputs": [],
   "source": [
    "def sgd(params,lr):\n",
    "    with torch.no_grad():\n",
    "        print('p.grad',params.grad)\n",
    "        print('p.data',params.data)\n",
    "        params -= lr*params.grad\n"
   ]
  },
  {
   "cell_type": "code",
   "execution_count": 23,
   "metadata": {
    "ExecuteTime": {
     "end_time": "2021-08-26T02:35:47.965790Z",
     "start_time": "2021-08-26T02:35:47.957789Z"
    },
    "collapsed": true
   },
   "outputs": [],
   "source": [
    "def squared_loss(y_hat,y):\n",
    "    return (y_hat-y)**2"
   ]
  },
  {
   "cell_type": "code",
   "execution_count": 24,
   "metadata": {
    "ExecuteTime": {
     "end_time": "2021-08-26T02:35:51.668001Z",
     "start_time": "2021-08-26T02:35:51.461990Z"
    }
   },
   "outputs": [
    {
     "name": "stdout",
     "output_type": "stream",
     "text": [
      "tensor(52.5724, grad_fn=<SumBackward0>)\n",
      "---------- tensor([[-52.4865]])\n",
      "w.grad : tensor([[-52.4865]])\n",
      "w.data tensor([[-0.0048]])\n",
      "p.grad tensor([[-52.4865]])\n",
      "p.data tensor([[-0.0048]])\n",
      "new w tensor([[2.6195]], requires_grad=True)\n",
      "tensor(5.0529, grad_fn=<SumBackward0>)\n",
      "---------- tensor([[0.]])\n",
      "---------- tensor([[16.2719]])\n",
      "w.grad : tensor([[16.2719]])\n",
      "w.data tensor([[2.6195]])\n",
      "p.grad tensor([[16.2719]])\n",
      "p.data tensor([[2.6195]])\n",
      "new w tensor([[1.8059]], requires_grad=True)\n",
      "tensor(0.4857, grad_fn=<SumBackward0>)\n",
      "---------- tensor([[0.]])\n",
      "---------- tensor([[-5.0446]])\n",
      "w.grad : tensor([[-5.0446]])\n",
      "w.data tensor([[1.8059]])\n",
      "p.grad tensor([[-5.0446]])\n",
      "p.data tensor([[1.8059]])\n",
      "new w tensor([[2.0582]], requires_grad=True)\n",
      "tensor(0.0467, grad_fn=<SumBackward0>)\n",
      "---------- tensor([[0.]])\n",
      "---------- tensor([[1.5639]])\n",
      "w.grad : tensor([[1.5639]])\n",
      "w.data tensor([[2.0582]])\n",
      "p.grad tensor([[1.5639]])\n",
      "p.data tensor([[2.0582]])\n",
      "new w tensor([[1.9800]], requires_grad=True)\n",
      "tensor(0.0046, grad_fn=<SumBackward0>)\n",
      "---------- tensor([[0.]])\n",
      "---------- tensor([[-0.4848]])\n",
      "w.grad : tensor([[-0.4848]])\n",
      "w.data tensor([[1.9800]])\n",
      "p.grad tensor([[-0.4848]])\n",
      "p.data tensor([[1.9800]])\n",
      "new w tensor([[2.0042]], requires_grad=True)\n",
      "tensor(0.0005, grad_fn=<SumBackward0>)\n",
      "---------- tensor([[0.]])\n",
      "---------- tensor([[0.1503]])\n",
      "w.grad : tensor([[0.1503]])\n",
      "w.data tensor([[2.0042]])\n",
      "p.grad tensor([[0.1503]])\n",
      "p.data tensor([[2.0042]])\n",
      "new w tensor([[1.9967]], requires_grad=True)\n",
      "tensor(0.0001, grad_fn=<SumBackward0>)\n",
      "---------- tensor([[0.]])\n",
      "---------- tensor([[-0.0466]])\n",
      "w.grad : tensor([[-0.0466]])\n",
      "w.data tensor([[1.9967]])\n",
      "p.grad tensor([[-0.0466]])\n",
      "p.data tensor([[1.9967]])\n",
      "new w tensor([[1.9990]], requires_grad=True)\n",
      "tensor(7.3135e-05, grad_fn=<SumBackward0>)\n",
      "---------- tensor([[0.]])\n",
      "---------- tensor([[0.0144]])\n",
      "w.grad : tensor([[0.0144]])\n",
      "w.data tensor([[1.9990]])\n",
      "p.grad tensor([[0.0144]])\n",
      "p.data tensor([[1.9990]])\n",
      "new w tensor([[1.9983]], requires_grad=True)\n",
      "tensor(6.9539e-05, grad_fn=<SumBackward0>)\n",
      "---------- tensor([[0.]])\n",
      "---------- tensor([[-0.0045]])\n",
      "w.grad : tensor([[-0.0045]])\n",
      "w.data tensor([[1.9983]])\n",
      "p.grad tensor([[-0.0045]])\n",
      "p.data tensor([[1.9983]])\n",
      "new w tensor([[1.9985]], requires_grad=True)\n",
      "tensor(6.9196e-05, grad_fn=<SumBackward0>)\n",
      "---------- tensor([[0.]])\n",
      "---------- tensor([[0.0014]])\n",
      "w.grad : tensor([[0.0014]])\n",
      "w.data tensor([[1.9985]])\n",
      "p.grad tensor([[0.0014]])\n",
      "p.data tensor([[1.9985]])\n",
      "new w tensor([[1.9984]], requires_grad=True)\n"
     ]
    }
   ],
   "source": [
    "for i in range(10):    \n",
    "    y_hat=linreg_net(x,w)\n",
    "    l=squared_loss(y_hat,y).sum()\n",
    "    print(l)\n",
    "    if w.grad is not None:\n",
    "        w.grad.data.zero_()\n",
    "        print('----------',w.grad.data)\n",
    "    l.backward()\n",
    "    \n",
    "    print('----------',w.grad.data)\n",
    "    if w.grad is not None:\n",
    "        print('w.grad :',w.grad)\n",
    "        print('w.data',w.data)\n",
    "        sgd(w,0.05)\n",
    "    print('new w',w)\n"
   ]
  },
  {
   "cell_type": "code",
   "execution_count": null,
   "metadata": {
    "collapsed": true
   },
   "outputs": [],
   "source": []
  },
  {
   "cell_type": "code",
   "execution_count": null,
   "metadata": {
    "collapsed": true
   },
   "outputs": [],
   "source": []
  }
 ],
 "metadata": {
  "kernelspec": {
   "display_name": "Python 3",
   "language": "python",
   "name": "python3"
  },
  "language_info": {
   "codemirror_mode": {
    "name": "ipython",
    "version": 3
   },
   "file_extension": ".py",
   "mimetype": "text/x-python",
   "name": "python",
   "nbconvert_exporter": "python",
   "pygments_lexer": "ipython3",
   "version": "3.6.3"
  }
 },
 "nbformat": 4,
 "nbformat_minor": 2
}
