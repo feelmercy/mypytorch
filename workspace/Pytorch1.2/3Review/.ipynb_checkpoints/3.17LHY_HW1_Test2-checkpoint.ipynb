{
 "cells": [
  {
   "cell_type": "code",
   "execution_count": 10,
   "metadata": {
    "ExecuteTime": {
     "end_time": "2021-08-30T07:48:49.988472Z",
     "start_time": "2021-08-30T07:48:49.975471Z"
    },
    "collapsed": true
   },
   "outputs": [],
   "source": [
    "import torch\n",
    "import torch.nn as nn\n",
    "from torch.utils.data import Dataset, DataLoader\n",
    "import numpy as np\n",
    "import torchvision \n",
    "import pandas as pd"
   ]
  },
  {
   "cell_type": "code",
   "execution_count": 11,
   "metadata": {
    "ExecuteTime": {
     "end_time": "2021-08-30T07:48:50.602507Z",
     "start_time": "2021-08-30T07:48:50.509502Z"
    },
    "collapsed": true
   },
   "outputs": [],
   "source": [
    "train_data=pd.read_csv(r'F:\\study\\ml\\HonyiLee2021\\Lhy_Machine_Learning-main\\01 Introduction\\dataset\\covid.train.csv',)\n",
    "test_data=pd.read_csv(r'F:\\study\\ml\\HonyiLee2021\\Lhy_Machine_Learning-main\\01 Introduction\\dataset\\covid.test.csv')"
   ]
  },
  {
   "cell_type": "code",
   "execution_count": 12,
   "metadata": {
    "ExecuteTime": {
     "end_time": "2021-08-30T07:48:51.088535Z",
     "start_time": "2021-08-30T07:48:51.077534Z"
    }
   },
   "outputs": [
    {
     "data": {
      "text/plain": [
       "(2700, 95)"
      ]
     },
     "execution_count": 12,
     "metadata": {},
     "output_type": "execute_result"
    }
   ],
   "source": [
    "train_data.shape"
   ]
  },
  {
   "cell_type": "code",
   "execution_count": 13,
   "metadata": {
    "ExecuteTime": {
     "end_time": "2021-08-30T07:48:51.607564Z",
     "start_time": "2021-08-30T07:48:51.596564Z"
    }
   },
   "outputs": [
    {
     "data": {
      "text/plain": [
       "(893, 94)"
      ]
     },
     "execution_count": 13,
     "metadata": {},
     "output_type": "execute_result"
    }
   ],
   "source": [
    "test_data.shape"
   ]
  },
  {
   "cell_type": "code",
   "execution_count": 14,
   "metadata": {
    "ExecuteTime": {
     "end_time": "2021-08-30T07:48:52.260602Z",
     "start_time": "2021-08-30T07:48:52.236600Z"
    }
   },
   "outputs": [
    {
     "data": {
      "text/plain": [
       "(3593, 93)"
      ]
     },
     "execution_count": 14,
     "metadata": {},
     "output_type": "execute_result"
    }
   ],
   "source": [
    "all_features=pd.concat((train_data.iloc[:,1:-1],test_data.iloc[:,1:]))\n",
    "all_features.shape"
   ]
  },
  {
   "cell_type": "code",
   "execution_count": 16,
   "metadata": {
    "ExecuteTime": {
     "end_time": "2021-08-30T07:49:26.514561Z",
     "start_time": "2021-08-30T07:49:26.477559Z"
    }
   },
   "outputs": [
    {
     "data": {
      "text/plain": [
       "0"
      ]
     },
     "execution_count": 16,
     "metadata": {},
     "output_type": "execute_result"
    }
   ],
   "source": [
    "all_features.isnull().sum().sum()"
   ]
  },
  {
   "cell_type": "code",
   "execution_count": 17,
   "metadata": {
    "ExecuteTime": {
     "end_time": "2021-08-30T08:26:21.491250Z",
     "start_time": "2021-08-30T08:26:21.435247Z"
    },
    "collapsed": true
   },
   "outputs": [],
   "source": [
    "all_features.iloc[:,40:]=all_features.iloc[:,40:].apply(lambda x: (x-x.mean()) / x.std())"
   ]
  },
  {
   "cell_type": "code",
   "execution_count": 18,
   "metadata": {
    "ExecuteTime": {
     "end_time": "2021-08-30T08:26:38.925248Z",
     "start_time": "2021-08-30T08:26:38.914247Z"
    }
   },
   "outputs": [
    {
     "data": {
      "text/plain": [
       "(3593, 93)"
      ]
     },
     "execution_count": 18,
     "metadata": {},
     "output_type": "execute_result"
    }
   ],
   "source": [
    "all_features.shape"
   ]
  },
  {
   "cell_type": "code",
   "execution_count": 19,
   "metadata": {
    "ExecuteTime": {
     "end_time": "2021-08-30T08:32:30.373349Z",
     "start_time": "2021-08-30T08:32:30.072332Z"
    },
    "collapsed": true
   },
   "outputs": [],
   "source": [
    "n_train=train_data.shape[0]\n",
    "train_features=torch.Tensor(all_features.iloc[:n_train,:].values)\n",
    "test_features=torch.Tensor(all_features.iloc[n_train,:].values)\n",
    "train_labels=torch.Tensor(train_data.tested_positive.values).view(-1,1)"
   ]
  },
  {
   "cell_type": "code",
   "execution_count": 20,
   "metadata": {
    "ExecuteTime": {
     "end_time": "2021-08-30T08:34:32.478333Z",
     "start_time": "2021-08-30T08:34:32.471333Z"
    },
    "collapsed": true
   },
   "outputs": [],
   "source": [
    "loss=nn.MSELoss()"
   ]
  },
  {
   "cell_type": "code",
   "execution_count": 27,
   "metadata": {
    "ExecuteTime": {
     "end_time": "2021-08-30T09:47:46.042631Z",
     "start_time": "2021-08-30T09:47:46.028630Z"
    },
    "collapsed": true
   },
   "outputs": [],
   "source": [
    "def get_net(num_features):\n",
    "    net=nn.Linear(num_features,1)\n",
    "    for p in net.parameters():\n",
    "        nn.init.normal_(p,mean=0,std=0.01)\n",
    "    return net"
   ]
  },
  {
   "cell_type": "code",
   "execution_count": 28,
   "metadata": {
    "ExecuteTime": {
     "end_time": "2021-08-30T09:47:46.418652Z",
     "start_time": "2021-08-30T09:47:46.407652Z"
    },
    "collapsed": true
   },
   "outputs": [],
   "source": [
    "def rmse(net,features,labels):\n",
    "    net.eval()\n",
    "    with torch.no_grad():\n",
    "        rmse=torch.sqrt(2*loss(net(features),labels).mean()).item()\n",
    "    net.train()\n",
    "    return rmse"
   ]
  },
  {
   "cell_type": "code",
   "execution_count": 39,
   "metadata": {
    "ExecuteTime": {
     "end_time": "2021-08-30T09:58:30.733505Z",
     "start_time": "2021-08-30T09:58:30.671501Z"
    },
    "collapsed": true
   },
   "outputs": [],
   "source": [
    "def train(net,train_features,train_labels,test_features,test_labels,\n",
    "         num_epochs,learning_rate,weight_decay,batch_size):\n",
    "    train_ls,test_ls=[],[]\n",
    "    dataset=torch.utils.data.TensorDataset(train_features,train_labels)\n",
    "    train_iter=torch.utils.data.DataLoader(dataset,batch_size,shuffle=True)\n",
    "    optimizer=torch.optim.Adam(net.parameters(),lr=learning_rate,weight_decay=weight_decay)\n",
    "    min_rmse=1000.\n",
    "    for e in range(num_epochs):\n",
    "        for x,y in train_iter:\n",
    "            l=loss(net(x),y)\n",
    "            optimizer.zero_grad()\n",
    "            l.backward()\n",
    "            optimizer.step()\n",
    "\n",
    "        \n",
    "        train_ls.append(rmse(net,train_features,train_labels))\n",
    "        if test_labels is not None:\n",
    "            test_ls.append(rmse(net,test_features,test_labels))\n",
    "            dev_rmse=test_ls[-1]    \n",
    "            if dev_rmse<min_rmse:\n",
    "                min_rmse=dev_rmse\n",
    "                print('save model (epoch %d) train rmse %f, test rmse %f ' %(\n",
    "                e+1,train_ls[-1],min_rmse))\n",
    "                torch.save(net.state_dict(),r'F:\\study\\ml\\HonyiLee2021\\Lhy_Machine_Learning-main\\01 Introduction\\models\\model.pht')\n",
    "                \n",
    "        \n",
    "    return train_ls,test_ls"
   ]
  },
  {
   "cell_type": "code",
   "execution_count": 40,
   "metadata": {
    "ExecuteTime": {
     "end_time": "2021-08-30T09:58:31.542551Z",
     "start_time": "2021-08-30T09:58:31.492548Z"
    },
    "collapsed": true
   },
   "outputs": [],
   "source": [
    "def get_k_fold_data(k,i,x,y):\n",
    "    assert k>1\n",
    "    fold_size=x.shape[0]//k\n",
    "    x_train,y_train=None,None\n",
    "    index_list=list(range(x.shape[0]))\n",
    "    np.random.shuffle(index_list)\n",
    "    for j in range(k):\n",
    "        idx=slice(j*fold_size,(j+1)*fold_size)\n",
    "        x_part,y_part=x[index_list[idx],:],y[index_list[idx]]\n",
    "        \n",
    "        if j==i:\n",
    "            x_valid,y_valid=x_part,y_part\n",
    "        elif x_train is None:\n",
    "            x_train,y_train=x_part,y_part\n",
    "        else:\n",
    "            x_train=torch.cat((x_train,x_part))\n",
    "            y_train=torch.cat((y_train,y_part))\n",
    "    \n",
    "    return x_train,y_train,x_valid,y_valid"
   ]
  },
  {
   "cell_type": "code",
   "execution_count": 41,
   "metadata": {
    "ExecuteTime": {
     "end_time": "2021-08-30T09:58:32.055581Z",
     "start_time": "2021-08-30T09:58:32.028579Z"
    },
    "collapsed": true
   },
   "outputs": [],
   "source": [
    "def k_fold(k,x_train,y_train,num_epochs,learning_rate,weight_decay,batch_size):\n",
    "    train_l_sum,valid_l_sum=0,0\n",
    "    for i in range(k):\n",
    "        data=get_k_fold_data(k,i,x_train,y_train)\n",
    "        net=get_net(x_train.shape[1])\n",
    "        train_ls,valid_ls=train(net,*data,num_epochs,learning_rate,\n",
    "                           weight_decay,batch_size)\n",
    "        train_l_sum+=train_ls[-1]\n",
    "        valid_l_sum+=valid_ls[-1]\n",
    "        \n",
    "        print('fold %d,train rmse %f,valid %f' % (\n",
    "            i,train_ls[-1],valid_ls[-1]))\n",
    "    return train_l_sum/k,valid_l_sum/k\n",
    "        "
   ]
  },
  {
   "cell_type": "code",
   "execution_count": 43,
   "metadata": {
    "ExecuteTime": {
     "end_time": "2021-08-30T10:01:04.422295Z",
     "start_time": "2021-08-30T10:00:50.191481Z"
    }
   },
   "outputs": [
    {
     "name": "stdout",
     "output_type": "stream",
     "text": [
      "save model (epoch 1) train rmse 19.131882, test rmse 19.218702 \n",
      "save model (epoch 2) train rmse 15.250222, test rmse 15.356034 \n",
      "save model (epoch 3) train rmse 11.813848, test rmse 11.929383 \n",
      "save model (epoch 4) train rmse 9.114777, test rmse 9.146272 \n",
      "save model (epoch 5) train rmse 6.615634, test rmse 6.719354 \n",
      "save model (epoch 6) train rmse 4.711744, test rmse 4.809836 \n",
      "save model (epoch 7) train rmse 3.283542, test rmse 3.332742 \n",
      "save model (epoch 8) train rmse 2.280216, test rmse 2.347567 \n",
      "save model (epoch 9) train rmse 1.566052, test rmse 1.599944 \n",
      "save model (epoch 10) train rmse 1.124855, test rmse 1.164639 \n",
      "save model (epoch 11) train rmse 0.880633, test rmse 0.906301 \n",
      "save model (epoch 12) train rmse 0.761269, test rmse 0.775518 \n",
      "save model (epoch 13) train rmse 0.699326, test rmse 0.709686 \n",
      "save model (epoch 14) train rmse 0.669431, test rmse 0.673521 \n",
      "save model (epoch 15) train rmse 0.649473, test rmse 0.654517 \n",
      "save model (epoch 16) train rmse 0.635771, test rmse 0.635196 \n",
      "save model (epoch 17) train rmse 0.623021, test rmse 0.623636 \n",
      "save model (epoch 18) train rmse 0.615316, test rmse 0.609610 \n",
      "save model (epoch 19) train rmse 0.602517, test rmse 0.601452 \n",
      "save model (epoch 20) train rmse 0.589875, test rmse 0.590252 \n",
      "save model (epoch 21) train rmse 0.590128, test rmse 0.585738 \n",
      "save model (epoch 22) train rmse 0.576842, test rmse 0.573047 \n",
      "save model (epoch 24) train rmse 0.559073, test rmse 0.559604 \n",
      "save model (epoch 25) train rmse 0.558337, test rmse 0.557299 \n",
      "save model (epoch 26) train rmse 0.536026, test rmse 0.530086 \n",
      "save model (epoch 27) train rmse 0.522462, test rmse 0.516410 \n",
      "save model (epoch 29) train rmse 0.509842, test rmse 0.509329 \n",
      "save model (epoch 31) train rmse 0.490097, test rmse 0.483613 \n",
      "save model (epoch 32) train rmse 0.473324, test rmse 0.468683 \n",
      "save model (epoch 34) train rmse 0.459268, test rmse 0.451262 \n",
      "save model (epoch 35) train rmse 0.448932, test rmse 0.445916 \n",
      "save model (epoch 36) train rmse 0.445603, test rmse 0.438816 \n",
      "save model (epoch 37) train rmse 0.426910, test rmse 0.420288 \n",
      "save model (epoch 38) train rmse 0.416013, test rmse 0.414854 \n",
      "save model (epoch 40) train rmse 0.407140, test rmse 0.402974 \n",
      "save model (epoch 41) train rmse 0.389798, test rmse 0.385508 \n",
      "save model (epoch 42) train rmse 0.381285, test rmse 0.380981 \n",
      "save model (epoch 44) train rmse 0.367874, test rmse 0.364605 \n",
      "save model (epoch 45) train rmse 0.360014, test rmse 0.357052 \n",
      "save model (epoch 46) train rmse 0.354764, test rmse 0.354742 \n",
      "save model (epoch 47) train rmse 0.335231, test rmse 0.333432 \n",
      "save model (epoch 48) train rmse 0.323418, test rmse 0.321748 \n",
      "save model (epoch 51) train rmse 0.304015, test rmse 0.303737 \n",
      "save model (epoch 52) train rmse 0.293507, test rmse 0.293686 \n",
      "save model (epoch 53) train rmse 0.288658, test rmse 0.285531 \n",
      "save model (epoch 55) train rmse 0.275967, test rmse 0.279173 \n",
      "save model (epoch 56) train rmse 0.261399, test rmse 0.260847 \n",
      "save model (epoch 57) train rmse 0.248612, test rmse 0.247671 \n",
      "save model (epoch 58) train rmse 0.246599, test rmse 0.243883 \n",
      "save model (epoch 60) train rmse 0.227735, test rmse 0.225341 \n",
      "save model (epoch 61) train rmse 0.222616, test rmse 0.221255 \n",
      "save model (epoch 62) train rmse 0.217455, test rmse 0.217849 \n",
      "save model (epoch 63) train rmse 0.204169, test rmse 0.206068 \n",
      "save model (epoch 64) train rmse 0.203765, test rmse 0.203202 \n",
      "save model (epoch 65) train rmse 0.189974, test rmse 0.190591 \n",
      "save model (epoch 67) train rmse 0.178161, test rmse 0.178387 \n",
      "save model (epoch 68) train rmse 0.168140, test rmse 0.165939 \n",
      "save model (epoch 69) train rmse 0.160997, test rmse 0.161467 \n",
      "save model (epoch 70) train rmse 0.157624, test rmse 0.157117 \n",
      "save model (epoch 71) train rmse 0.155089, test rmse 0.155530 \n",
      "save model (epoch 72) train rmse 0.142515, test rmse 0.144004 \n",
      "save model (epoch 73) train rmse 0.143773, test rmse 0.142893 \n",
      "save model (epoch 74) train rmse 0.131289, test rmse 0.131976 \n",
      "save model (epoch 75) train rmse 0.128088, test rmse 0.127559 \n",
      "save model (epoch 76) train rmse 0.120073, test rmse 0.120921 \n",
      "save model (epoch 77) train rmse 0.116048, test rmse 0.117929 \n",
      "save model (epoch 78) train rmse 0.111847, test rmse 0.110574 \n",
      "save model (epoch 79) train rmse 0.109759, test rmse 0.110363 \n",
      "save model (epoch 80) train rmse 0.101210, test rmse 0.102966 \n",
      "save model (epoch 81) train rmse 0.100408, test rmse 0.099705 \n",
      "save model (epoch 82) train rmse 0.096063, test rmse 0.096475 \n",
      "save model (epoch 83) train rmse 0.087465, test rmse 0.086149 \n",
      "save model (epoch 84) train rmse 0.084350, test rmse 0.084055 \n",
      "save model (epoch 85) train rmse 0.081155, test rmse 0.082621 \n",
      "save model (epoch 86) train rmse 0.079530, test rmse 0.079775 \n",
      "save model (epoch 87) train rmse 0.077239, test rmse 0.079543 \n",
      "save model (epoch 88) train rmse 0.068798, test rmse 0.067390 \n",
      "save model (epoch 90) train rmse 0.062142, test rmse 0.062365 \n",
      "save model (epoch 91) train rmse 0.059382, test rmse 0.059110 \n",
      "save model (epoch 92) train rmse 0.056382, test rmse 0.056288 \n",
      "save model (epoch 94) train rmse 0.053854, test rmse 0.055330 \n",
      "save model (epoch 95) train rmse 0.049761, test rmse 0.049961 \n",
      "save model (epoch 97) train rmse 0.044217, test rmse 0.045632 \n",
      "save model (epoch 98) train rmse 0.041015, test rmse 0.043166 \n",
      "save model (epoch 99) train rmse 0.038874, test rmse 0.038646 \n",
      "fold 0,train rmse 0.040925,valid 0.040655\n",
      "save model (epoch 1) train rmse 19.150105, test rmse 18.917685 \n",
      "save model (epoch 2) train rmse 15.279638, test rmse 15.149347 \n",
      "save model (epoch 3) train rmse 11.703810, test rmse 11.726117 \n",
      "save model (epoch 4) train rmse 8.922355, test rmse 8.982972 \n",
      "save model (epoch 5) train rmse 6.449481, test rmse 6.420688 \n",
      "save model (epoch 6) train rmse 4.572994, test rmse 4.577743 \n",
      "save model (epoch 7) train rmse 3.174288, test rmse 3.178457 \n",
      "save model (epoch 8) train rmse 2.180568, test rmse 2.168609 \n",
      "save model (epoch 9) train rmse 1.482601, test rmse 1.487663 \n",
      "save model (epoch 10) train rmse 1.045951, test rmse 1.068261 \n",
      "save model (epoch 11) train rmse 0.819455, test rmse 0.858234 \n",
      "save model (epoch 12) train rmse 0.704460, test rmse 0.749653 \n",
      "save model (epoch 13) train rmse 0.647734, test rmse 0.696067 \n",
      "save model (epoch 14) train rmse 0.625861, test rmse 0.674906 \n",
      "save model (epoch 15) train rmse 0.616909, test rmse 0.668778 \n",
      "save model (epoch 16) train rmse 0.596239, test rmse 0.646036 \n",
      "save model (epoch 17) train rmse 0.584971, test rmse 0.634200 \n",
      "save model (epoch 18) train rmse 0.567077, test rmse 0.620719 \n",
      "save model (epoch 19) train rmse 0.559921, test rmse 0.612606 \n",
      "save model (epoch 20) train rmse 0.551179, test rmse 0.599384 \n",
      "save model (epoch 22) train rmse 0.526150, test rmse 0.577215 \n",
      "save model (epoch 23) train rmse 0.522507, test rmse 0.571111 \n",
      "save model (epoch 24) train rmse 0.525142, test rmse 0.567327 \n",
      "save model (epoch 25) train rmse 0.506586, test rmse 0.552398 \n",
      "save model (epoch 26) train rmse 0.486133, test rmse 0.534922 \n",
      "save model (epoch 27) train rmse 0.475020, test rmse 0.522587 \n",
      "save model (epoch 28) train rmse 0.465809, test rmse 0.510133 \n",
      "save model (epoch 30) train rmse 0.445832, test rmse 0.488634 \n",
      "save model (epoch 31) train rmse 0.435069, test rmse 0.477836 \n",
      "save model (epoch 32) train rmse 0.425132, test rmse 0.465948 \n",
      "save model (epoch 33) train rmse 0.417691, test rmse 0.457835 \n",
      "save model (epoch 34) train rmse 0.413027, test rmse 0.448566 \n",
      "save model (epoch 35) train rmse 0.400313, test rmse 0.439432 \n",
      "save model (epoch 36) train rmse 0.385335, test rmse 0.422367 \n",
      "save model (epoch 37) train rmse 0.384675, test rmse 0.418820 \n",
      "save model (epoch 38) train rmse 0.359882, test rmse 0.394172 \n",
      "save model (epoch 39) train rmse 0.356598, test rmse 0.393847 \n",
      "save model (epoch 40) train rmse 0.342499, test rmse 0.376480 \n",
      "save model (epoch 41) train rmse 0.331146, test rmse 0.360763 \n",
      "save model (epoch 42) train rmse 0.323947, test rmse 0.355560 \n",
      "save model (epoch 43) train rmse 0.322547, test rmse 0.355124 \n",
      "save model (epoch 44) train rmse 0.307377, test rmse 0.338473 \n",
      "save model (epoch 45) train rmse 0.296624, test rmse 0.326214 \n",
      "save model (epoch 46) train rmse 0.283329, test rmse 0.313081 \n",
      "save model (epoch 48) train rmse 0.262203, test rmse 0.289610 \n"
     ]
    },
    {
     "name": "stdout",
     "output_type": "stream",
     "text": [
      "save model (epoch 50) train rmse 0.250259, test rmse 0.277415 \n",
      "save model (epoch 51) train rmse 0.236703, test rmse 0.263002 \n",
      "save model (epoch 52) train rmse 0.236130, test rmse 0.260262 \n",
      "save model (epoch 53) train rmse 0.229869, test rmse 0.251389 \n",
      "save model (epoch 54) train rmse 0.211965, test rmse 0.235701 \n",
      "save model (epoch 55) train rmse 0.203458, test rmse 0.226054 \n",
      "save model (epoch 56) train rmse 0.197531, test rmse 0.218132 \n",
      "save model (epoch 57) train rmse 0.195088, test rmse 0.217495 \n",
      "save model (epoch 58) train rmse 0.188109, test rmse 0.207406 \n",
      "save model (epoch 59) train rmse 0.172499, test rmse 0.192508 \n",
      "save model (epoch 60) train rmse 0.171820, test rmse 0.191502 \n",
      "save model (epoch 61) train rmse 0.161288, test rmse 0.178928 \n",
      "save model (epoch 62) train rmse 0.157645, test rmse 0.175462 \n",
      "save model (epoch 63) train rmse 0.155158, test rmse 0.171611 \n",
      "save model (epoch 64) train rmse 0.143977, test rmse 0.159591 \n",
      "save model (epoch 65) train rmse 0.134800, test rmse 0.151850 \n",
      "save model (epoch 66) train rmse 0.132830, test rmse 0.146809 \n",
      "save model (epoch 67) train rmse 0.123473, test rmse 0.138490 \n",
      "save model (epoch 68) train rmse 0.122549, test rmse 0.137859 \n",
      "save model (epoch 69) train rmse 0.111771, test rmse 0.126171 \n",
      "save model (epoch 70) train rmse 0.108519, test rmse 0.120035 \n",
      "save model (epoch 71) train rmse 0.103415, test rmse 0.115013 \n",
      "save model (epoch 72) train rmse 0.099443, test rmse 0.111634 \n",
      "save model (epoch 73) train rmse 0.097105, test rmse 0.108270 \n",
      "save model (epoch 74) train rmse 0.086779, test rmse 0.098032 \n",
      "save model (epoch 75) train rmse 0.087060, test rmse 0.098000 \n",
      "save model (epoch 76) train rmse 0.082221, test rmse 0.092846 \n",
      "save model (epoch 77) train rmse 0.075514, test rmse 0.086349 \n",
      "save model (epoch 78) train rmse 0.076681, test rmse 0.085756 \n",
      "save model (epoch 79) train rmse 0.071174, test rmse 0.079780 \n",
      "save model (epoch 80) train rmse 0.062669, test rmse 0.072172 \n",
      "save model (epoch 81) train rmse 0.061530, test rmse 0.070953 \n",
      "save model (epoch 83) train rmse 0.056053, test rmse 0.064110 \n",
      "save model (epoch 84) train rmse 0.055059, test rmse 0.062370 \n",
      "save model (epoch 85) train rmse 0.050763, test rmse 0.058469 \n",
      "save model (epoch 86) train rmse 0.046020, test rmse 0.052837 \n",
      "save model (epoch 87) train rmse 0.043903, test rmse 0.050672 \n",
      "save model (epoch 89) train rmse 0.040602, test rmse 0.047131 \n",
      "save model (epoch 90) train rmse 0.039792, test rmse 0.045700 \n",
      "save model (epoch 91) train rmse 0.037257, test rmse 0.042501 \n",
      "save model (epoch 92) train rmse 0.036174, test rmse 0.040839 \n",
      "save model (epoch 93) train rmse 0.033173, test rmse 0.039170 \n",
      "save model (epoch 94) train rmse 0.030230, test rmse 0.035438 \n",
      "save model (epoch 95) train rmse 0.030319, test rmse 0.035038 \n",
      "save model (epoch 97) train rmse 0.026687, test rmse 0.030950 \n",
      "save model (epoch 98) train rmse 0.025272, test rmse 0.029171 \n",
      "fold 1,train rmse 0.026808,valid 0.030004\n",
      "save model (epoch 1) train rmse 19.213594, test rmse 19.055887 \n",
      "save model (epoch 2) train rmse 15.181657, test rmse 14.984480 \n",
      "save model (epoch 3) train rmse 11.756695, test rmse 11.634540 \n",
      "save model (epoch 4) train rmse 8.803873, test rmse 8.725184 \n",
      "save model (epoch 5) train rmse 6.434956, test rmse 6.395881 \n",
      "save model (epoch 6) train rmse 4.571084, test rmse 4.561609 \n",
      "save model (epoch 7) train rmse 3.163129, test rmse 3.171803 \n",
      "save model (epoch 8) train rmse 2.169650, test rmse 2.205552 \n",
      "save model (epoch 9) train rmse 1.496993, test rmse 1.503092 \n",
      "save model (epoch 10) train rmse 1.080753, test rmse 1.091015 \n",
      "save model (epoch 11) train rmse 0.832073, test rmse 0.847932 \n",
      "save model (epoch 12) train rmse 0.725367, test rmse 0.728985 \n",
      "save model (epoch 13) train rmse 0.672024, test rmse 0.676638 \n",
      "save model (epoch 14) train rmse 0.651318, test rmse 0.654192 \n",
      "save model (epoch 15) train rmse 0.635858, test rmse 0.632332 \n",
      "save model (epoch 16) train rmse 0.616270, test rmse 0.618007 \n",
      "save model (epoch 17) train rmse 0.609251, test rmse 0.602805 \n",
      "save model (epoch 19) train rmse 0.583149, test rmse 0.586945 \n",
      "save model (epoch 21) train rmse 0.562814, test rmse 0.569111 \n",
      "save model (epoch 22) train rmse 0.559958, test rmse 0.559313 \n",
      "save model (epoch 23) train rmse 0.539496, test rmse 0.540139 \n",
      "save model (epoch 24) train rmse 0.533004, test rmse 0.535219 \n",
      "save model (epoch 25) train rmse 0.528062, test rmse 0.534065 \n",
      "save model (epoch 26) train rmse 0.510484, test rmse 0.508876 \n",
      "save model (epoch 28) train rmse 0.501694, test rmse 0.500217 \n",
      "save model (epoch 30) train rmse 0.470214, test rmse 0.478883 \n",
      "save model (epoch 31) train rmse 0.458117, test rmse 0.463090 \n",
      "save model (epoch 32) train rmse 0.446480, test rmse 0.454174 \n",
      "save model (epoch 34) train rmse 0.428862, test rmse 0.434036 \n",
      "save model (epoch 35) train rmse 0.413788, test rmse 0.420389 \n",
      "save model (epoch 36) train rmse 0.408779, test rmse 0.406099 \n",
      "save model (epoch 37) train rmse 0.394210, test rmse 0.400535 \n",
      "save model (epoch 38) train rmse 0.387557, test rmse 0.395280 \n",
      "save model (epoch 39) train rmse 0.381876, test rmse 0.389707 \n",
      "save model (epoch 40) train rmse 0.391452, test rmse 0.386402 \n",
      "save model (epoch 41) train rmse 0.357167, test rmse 0.366160 \n",
      "save model (epoch 42) train rmse 0.360125, test rmse 0.363204 \n",
      "save model (epoch 43) train rmse 0.359811, test rmse 0.361581 \n",
      "save model (epoch 44) train rmse 0.341033, test rmse 0.351409 \n",
      "save model (epoch 45) train rmse 0.329242, test rmse 0.331959 \n",
      "save model (epoch 46) train rmse 0.313032, test rmse 0.318212 \n",
      "save model (epoch 47) train rmse 0.295907, test rmse 0.301781 \n",
      "save model (epoch 48) train rmse 0.290137, test rmse 0.295903 \n",
      "save model (epoch 49) train rmse 0.279256, test rmse 0.288169 \n",
      "save model (epoch 50) train rmse 0.265680, test rmse 0.275147 \n",
      "save model (epoch 51) train rmse 0.256225, test rmse 0.261817 \n",
      "save model (epoch 52) train rmse 0.248473, test rmse 0.254398 \n",
      "save model (epoch 53) train rmse 0.242880, test rmse 0.248091 \n",
      "save model (epoch 54) train rmse 0.237631, test rmse 0.247396 \n",
      "save model (epoch 55) train rmse 0.232457, test rmse 0.242826 \n",
      "save model (epoch 56) train rmse 0.215950, test rmse 0.218781 \n",
      "save model (epoch 57) train rmse 0.207064, test rmse 0.212539 \n",
      "save model (epoch 58) train rmse 0.205330, test rmse 0.210236 \n",
      "save model (epoch 59) train rmse 0.199212, test rmse 0.206287 \n",
      "save model (epoch 60) train rmse 0.201125, test rmse 0.203169 \n",
      "save model (epoch 61) train rmse 0.175784, test rmse 0.183441 \n",
      "save model (epoch 62) train rmse 0.171067, test rmse 0.179036 \n",
      "save model (epoch 63) train rmse 0.164543, test rmse 0.168271 \n",
      "save model (epoch 64) train rmse 0.155539, test rmse 0.164113 \n",
      "save model (epoch 65) train rmse 0.148511, test rmse 0.155783 \n",
      "save model (epoch 67) train rmse 0.137460, test rmse 0.147057 \n",
      "save model (epoch 68) train rmse 0.133180, test rmse 0.142890 \n",
      "save model (epoch 70) train rmse 0.118911, test rmse 0.124719 \n",
      "save model (epoch 72) train rmse 0.111163, test rmse 0.118253 \n",
      "save model (epoch 73) train rmse 0.105460, test rmse 0.109871 \n",
      "save model (epoch 74) train rmse 0.101058, test rmse 0.109109 \n",
      "save model (epoch 75) train rmse 0.094955, test rmse 0.101561 \n",
      "save model (epoch 76) train rmse 0.091207, test rmse 0.096088 \n",
      "save model (epoch 77) train rmse 0.086782, test rmse 0.092231 \n",
      "save model (epoch 78) train rmse 0.080831, test rmse 0.086624 \n",
      "save model (epoch 79) train rmse 0.077624, test rmse 0.082074 \n",
      "save model (epoch 80) train rmse 0.073204, test rmse 0.077297 \n",
      "save model (epoch 81) train rmse 0.070141, test rmse 0.076655 \n",
      "save model (epoch 82) train rmse 0.071686, test rmse 0.072926 \n",
      "save model (epoch 83) train rmse 0.062467, test rmse 0.067790 \n",
      "save model (epoch 84) train rmse 0.062449, test rmse 0.066068 \n",
      "save model (epoch 87) train rmse 0.051460, test rmse 0.056297 \n",
      "save model (epoch 88) train rmse 0.052615, test rmse 0.055589 \n",
      "save model (epoch 89) train rmse 0.045792, test rmse 0.050485 \n",
      "save model (epoch 90) train rmse 0.044847, test rmse 0.047471 \n",
      "save model (epoch 91) train rmse 0.042088, test rmse 0.043457 \n",
      "save model (epoch 93) train rmse 0.037712, test rmse 0.040676 \n",
      "save model (epoch 94) train rmse 0.034621, test rmse 0.037817 \n",
      "save model (epoch 96) train rmse 0.032775, test rmse 0.035162 \n",
      "save model (epoch 97) train rmse 0.028154, test rmse 0.031301 \n"
     ]
    },
    {
     "name": "stdout",
     "output_type": "stream",
     "text": [
      "save model (epoch 99) train rmse 0.025559, test rmse 0.028114 \n",
      "save model (epoch 100) train rmse 0.024628, test rmse 0.027343 \n",
      "fold 2,train rmse 0.024628,valid 0.027343\n",
      "save model (epoch 1) train rmse 19.095234, test rmse 19.192610 \n",
      "save model (epoch 2) train rmse 15.194485, test rmse 15.303797 \n",
      "save model (epoch 3) train rmse 11.858932, test rmse 11.967269 \n",
      "save model (epoch 4) train rmse 8.917784, test rmse 9.018898 \n",
      "save model (epoch 5) train rmse 6.573620, test rmse 6.676973 \n",
      "save model (epoch 6) train rmse 4.717829, test rmse 4.802364 \n",
      "save model (epoch 7) train rmse 3.275779, test rmse 3.357151 \n",
      "save model (epoch 8) train rmse 2.250414, test rmse 2.332033 \n",
      "save model (epoch 9) train rmse 1.569803, test rmse 1.649834 \n",
      "save model (epoch 10) train rmse 1.119719, test rmse 1.180998 \n",
      "save model (epoch 11) train rmse 0.867639, test rmse 0.928741 \n",
      "save model (epoch 12) train rmse 0.758910, test rmse 0.794339 \n",
      "save model (epoch 13) train rmse 0.677517, test rmse 0.715866 \n",
      "save model (epoch 14) train rmse 0.652975, test rmse 0.684321 \n",
      "save model (epoch 15) train rmse 0.629265, test rmse 0.660991 \n",
      "save model (epoch 16) train rmse 0.614409, test rmse 0.647521 \n",
      "save model (epoch 17) train rmse 0.604059, test rmse 0.637390 \n",
      "save model (epoch 18) train rmse 0.603386, test rmse 0.627446 \n",
      "save model (epoch 19) train rmse 0.585191, test rmse 0.621889 \n",
      "save model (epoch 20) train rmse 0.572719, test rmse 0.608847 \n",
      "save model (epoch 21) train rmse 0.558456, test rmse 0.586670 \n",
      "save model (epoch 22) train rmse 0.549434, test rmse 0.573529 \n",
      "save model (epoch 23) train rmse 0.542562, test rmse 0.567975 \n",
      "save model (epoch 24) train rmse 0.521752, test rmse 0.551589 \n",
      "save model (epoch 25) train rmse 0.513390, test rmse 0.547120 \n",
      "save model (epoch 26) train rmse 0.508966, test rmse 0.539634 \n",
      "save model (epoch 27) train rmse 0.493475, test rmse 0.524708 \n",
      "save model (epoch 28) train rmse 0.486724, test rmse 0.521704 \n",
      "save model (epoch 29) train rmse 0.472096, test rmse 0.499141 \n",
      "save model (epoch 30) train rmse 0.465771, test rmse 0.497339 \n",
      "save model (epoch 31) train rmse 0.465689, test rmse 0.488940 \n",
      "save model (epoch 33) train rmse 0.429656, test rmse 0.459334 \n",
      "save model (epoch 34) train rmse 0.422460, test rmse 0.451866 \n",
      "save model (epoch 35) train rmse 0.413497, test rmse 0.444132 \n",
      "save model (epoch 36) train rmse 0.400865, test rmse 0.427989 \n",
      "save model (epoch 37) train rmse 0.388527, test rmse 0.417951 \n",
      "save model (epoch 38) train rmse 0.384553, test rmse 0.415944 \n",
      "save model (epoch 39) train rmse 0.377304, test rmse 0.408845 \n",
      "save model (epoch 40) train rmse 0.363806, test rmse 0.385772 \n",
      "save model (epoch 41) train rmse 0.360908, test rmse 0.381792 \n",
      "save model (epoch 43) train rmse 0.352909, test rmse 0.371563 \n",
      "save model (epoch 44) train rmse 0.334234, test rmse 0.357672 \n",
      "save model (epoch 45) train rmse 0.321124, test rmse 0.348933 \n",
      "save model (epoch 46) train rmse 0.309442, test rmse 0.336080 \n",
      "save model (epoch 47) train rmse 0.300501, test rmse 0.327577 \n",
      "save model (epoch 48) train rmse 0.285266, test rmse 0.308979 \n",
      "save model (epoch 49) train rmse 0.284597, test rmse 0.308221 \n",
      "save model (epoch 50) train rmse 0.271807, test rmse 0.297295 \n",
      "save model (epoch 52) train rmse 0.271142, test rmse 0.291054 \n",
      "save model (epoch 53) train rmse 0.242043, test rmse 0.263085 \n",
      "save model (epoch 54) train rmse 0.238713, test rmse 0.257139 \n",
      "save model (epoch 55) train rmse 0.230173, test rmse 0.251247 \n",
      "save model (epoch 56) train rmse 0.230113, test rmse 0.245192 \n",
      "save model (epoch 57) train rmse 0.211586, test rmse 0.228175 \n",
      "save model (epoch 58) train rmse 0.208405, test rmse 0.227134 \n",
      "save model (epoch 60) train rmse 0.192529, test rmse 0.209170 \n",
      "save model (epoch 61) train rmse 0.187038, test rmse 0.200575 \n",
      "save model (epoch 62) train rmse 0.178371, test rmse 0.192034 \n",
      "save model (epoch 63) train rmse 0.169026, test rmse 0.184712 \n",
      "save model (epoch 64) train rmse 0.157185, test rmse 0.172382 \n",
      "save model (epoch 66) train rmse 0.153359, test rmse 0.166425 \n",
      "save model (epoch 67) train rmse 0.138192, test rmse 0.152678 \n",
      "save model (epoch 68) train rmse 0.134282, test rmse 0.148225 \n",
      "save model (epoch 69) train rmse 0.131173, test rmse 0.144424 \n",
      "save model (epoch 70) train rmse 0.121757, test rmse 0.133709 \n",
      "save model (epoch 71) train rmse 0.122976, test rmse 0.130755 \n",
      "save model (epoch 72) train rmse 0.114842, test rmse 0.125894 \n",
      "save model (epoch 73) train rmse 0.110685, test rmse 0.119524 \n",
      "save model (epoch 75) train rmse 0.097579, test rmse 0.107431 \n",
      "save model (epoch 76) train rmse 0.091302, test rmse 0.100668 \n",
      "save model (epoch 77) train rmse 0.091750, test rmse 0.098892 \n",
      "save model (epoch 78) train rmse 0.082341, test rmse 0.090182 \n",
      "save model (epoch 80) train rmse 0.077134, test rmse 0.084768 \n",
      "save model (epoch 82) train rmse 0.070861, test rmse 0.077320 \n",
      "save model (epoch 83) train rmse 0.069142, test rmse 0.076953 \n",
      "save model (epoch 84) train rmse 0.061108, test rmse 0.069153 \n",
      "save model (epoch 85) train rmse 0.059126, test rmse 0.064382 \n",
      "save model (epoch 87) train rmse 0.051012, test rmse 0.057563 \n",
      "save model (epoch 88) train rmse 0.049048, test rmse 0.054477 \n",
      "save model (epoch 89) train rmse 0.046282, test rmse 0.051368 \n",
      "save model (epoch 91) train rmse 0.045710, test rmse 0.050745 \n",
      "save model (epoch 92) train rmse 0.042957, test rmse 0.047895 \n",
      "save model (epoch 93) train rmse 0.039988, test rmse 0.044216 \n",
      "save model (epoch 94) train rmse 0.040331, test rmse 0.043104 \n",
      "save model (epoch 95) train rmse 0.034041, test rmse 0.037223 \n",
      "save model (epoch 96) train rmse 0.034063, test rmse 0.036130 \n",
      "save model (epoch 97) train rmse 0.030529, test rmse 0.033858 \n",
      "save model (epoch 98) train rmse 0.030860, test rmse 0.033105 \n",
      "save model (epoch 99) train rmse 0.027519, test rmse 0.030922 \n",
      "fold 3,train rmse 0.029694,valid 0.032825\n",
      "save model (epoch 1) train rmse 19.056330, test rmse 19.361748 \n",
      "save model (epoch 2) train rmse 15.150884, test rmse 15.394916 \n",
      "save model (epoch 3) train rmse 11.800346, test rmse 11.968436 \n",
      "save model (epoch 4) train rmse 8.939838, test rmse 9.105106 \n",
      "save model (epoch 5) train rmse 6.629689, test rmse 6.790878 \n",
      "save model (epoch 6) train rmse 4.672927, test rmse 4.771575 \n",
      "save model (epoch 7) train rmse 3.303107, test rmse 3.409248 \n",
      "save model (epoch 8) train rmse 2.303599, test rmse 2.376897 \n",
      "save model (epoch 9) train rmse 1.550931, test rmse 1.585519 \n",
      "save model (epoch 10) train rmse 1.104028, test rmse 1.128570 \n",
      "save model (epoch 11) train rmse 0.863029, test rmse 0.877824 \n",
      "save model (epoch 12) train rmse 0.741965, test rmse 0.765637 \n",
      "save model (epoch 13) train rmse 0.683638, test rmse 0.705722 \n",
      "save model (epoch 14) train rmse 0.651411, test rmse 0.659913 \n",
      "save model (epoch 15) train rmse 0.635228, test rmse 0.644342 \n",
      "save model (epoch 16) train rmse 0.623311, test rmse 0.639519 \n",
      "save model (epoch 17) train rmse 0.617811, test rmse 0.627185 \n",
      "save model (epoch 18) train rmse 0.605342, test rmse 0.613454 \n",
      "save model (epoch 19) train rmse 0.593487, test rmse 0.603028 \n",
      "save model (epoch 20) train rmse 0.583550, test rmse 0.591756 \n",
      "save model (epoch 21) train rmse 0.567266, test rmse 0.574040 \n",
      "save model (epoch 23) train rmse 0.562356, test rmse 0.566198 \n",
      "save model (epoch 24) train rmse 0.535789, test rmse 0.542238 \n",
      "save model (epoch 25) train rmse 0.528827, test rmse 0.532269 \n",
      "save model (epoch 26) train rmse 0.518048, test rmse 0.520048 \n",
      "save model (epoch 27) train rmse 0.514733, test rmse 0.516067 \n",
      "save model (epoch 28) train rmse 0.502995, test rmse 0.509619 \n",
      "save model (epoch 29) train rmse 0.490335, test rmse 0.501504 \n",
      "save model (epoch 30) train rmse 0.480034, test rmse 0.483563 \n",
      "save model (epoch 31) train rmse 0.468771, test rmse 0.473538 \n",
      "save model (epoch 32) train rmse 0.461473, test rmse 0.466781 \n",
      "save model (epoch 33) train rmse 0.460015, test rmse 0.460132 \n",
      "save model (epoch 34) train rmse 0.433832, test rmse 0.436460 \n",
      "save model (epoch 35) train rmse 0.428803, test rmse 0.423539 \n",
      "save model (epoch 37) train rmse 0.408390, test rmse 0.404638 \n",
      "save model (epoch 39) train rmse 0.395267, test rmse 0.393172 \n",
      "save model (epoch 40) train rmse 0.376813, test rmse 0.382185 \n",
      "save model (epoch 41) train rmse 0.374358, test rmse 0.378466 \n",
      "save model (epoch 42) train rmse 0.371691, test rmse 0.377790 \n",
      "save model (epoch 43) train rmse 0.348492, test rmse 0.353350 \n",
      "save model (epoch 44) train rmse 0.342038, test rmse 0.344812 \n"
     ]
    },
    {
     "name": "stdout",
     "output_type": "stream",
     "text": [
      "save model (epoch 46) train rmse 0.319647, test rmse 0.323650 \n",
      "save model (epoch 47) train rmse 0.308325, test rmse 0.307956 \n",
      "save model (epoch 49) train rmse 0.295806, test rmse 0.297502 \n",
      "save model (epoch 50) train rmse 0.286238, test rmse 0.284464 \n",
      "save model (epoch 51) train rmse 0.273456, test rmse 0.277542 \n",
      "save model (epoch 52) train rmse 0.267523, test rmse 0.267478 \n",
      "save model (epoch 53) train rmse 0.257387, test rmse 0.257619 \n",
      "save model (epoch 54) train rmse 0.251622, test rmse 0.253017 \n",
      "save model (epoch 55) train rmse 0.246947, test rmse 0.248737 \n",
      "save model (epoch 56) train rmse 0.238553, test rmse 0.238436 \n",
      "save model (epoch 57) train rmse 0.221081, test rmse 0.222191 \n",
      "save model (epoch 58) train rmse 0.220903, test rmse 0.221877 \n",
      "save model (epoch 59) train rmse 0.210121, test rmse 0.214887 \n",
      "save model (epoch 60) train rmse 0.201314, test rmse 0.204541 \n",
      "save model (epoch 61) train rmse 0.191621, test rmse 0.189174 \n",
      "save model (epoch 63) train rmse 0.180978, test rmse 0.183393 \n",
      "save model (epoch 64) train rmse 0.176850, test rmse 0.180520 \n",
      "save model (epoch 65) train rmse 0.164938, test rmse 0.166931 \n",
      "save model (epoch 66) train rmse 0.166147, test rmse 0.165927 \n",
      "save model (epoch 67) train rmse 0.166136, test rmse 0.165752 \n",
      "save model (epoch 68) train rmse 0.162093, test rmse 0.163073 \n",
      "save model (epoch 69) train rmse 0.138352, test rmse 0.140913 \n",
      "save model (epoch 70) train rmse 0.133743, test rmse 0.136181 \n",
      "save model (epoch 71) train rmse 0.125176, test rmse 0.128254 \n",
      "save model (epoch 73) train rmse 0.121834, test rmse 0.121432 \n",
      "save model (epoch 74) train rmse 0.110455, test rmse 0.112392 \n",
      "save model (epoch 76) train rmse 0.102299, test rmse 0.105339 \n",
      "save model (epoch 78) train rmse 0.094640, test rmse 0.094728 \n",
      "save model (epoch 80) train rmse 0.087467, test rmse 0.087682 \n",
      "save model (epoch 81) train rmse 0.085552, test rmse 0.086522 \n",
      "save model (epoch 82) train rmse 0.073084, test rmse 0.074690 \n",
      "save model (epoch 85) train rmse 0.066545, test rmse 0.066612 \n",
      "save model (epoch 86) train rmse 0.058739, test rmse 0.060218 \n",
      "save model (epoch 89) train rmse 0.054347, test rmse 0.056395 \n",
      "save model (epoch 90) train rmse 0.050003, test rmse 0.051674 \n",
      "save model (epoch 91) train rmse 0.044724, test rmse 0.045163 \n",
      "save model (epoch 93) train rmse 0.040940, test rmse 0.042689 \n",
      "save model (epoch 94) train rmse 0.039396, test rmse 0.041313 \n",
      "save model (epoch 95) train rmse 0.037362, test rmse 0.038661 \n",
      "save model (epoch 96) train rmse 0.033103, test rmse 0.033898 \n",
      "save model (epoch 97) train rmse 0.032230, test rmse 0.033145 \n",
      "save model (epoch 100) train rmse 0.026442, test rmse 0.026896 \n",
      "fold 4,train rmse 0.026442,valid 0.026896\n",
      "\n",
      " 5-fold validation: avg train rmse 0.029699, avg valid rmse 0.031545\n"
     ]
    }
   ],
   "source": [
    "k, num_epochs, lr, weight_decay, batch_size = 5, 100, 0.05, 0, 64\n",
    "train_l, valid_l = k_fold(k, train_features, train_labels, num_epochs, lr,\n",
    "                          weight_decay, batch_size)\n",
    "print('\\n %d-fold validation: avg train rmse %f, avg valid rmse %f' %\n",
    "(k, train_l, valid_l))"
   ]
  },
  {
   "cell_type": "code",
   "execution_count": null,
   "metadata": {
    "collapsed": true
   },
   "outputs": [],
   "source": []
  },
  {
   "cell_type": "code",
   "execution_count": null,
   "metadata": {
    "collapsed": true
   },
   "outputs": [],
   "source": []
  }
 ],
 "metadata": {
  "kernelspec": {
   "display_name": "Python 3",
   "language": "python",
   "name": "python3"
  },
  "language_info": {
   "codemirror_mode": {
    "name": "ipython",
    "version": 3
   },
   "file_extension": ".py",
   "mimetype": "text/x-python",
   "name": "python",
   "nbconvert_exporter": "python",
   "pygments_lexer": "ipython3",
   "version": "3.6.3"
  }
 },
 "nbformat": 4,
 "nbformat_minor": 2
}
