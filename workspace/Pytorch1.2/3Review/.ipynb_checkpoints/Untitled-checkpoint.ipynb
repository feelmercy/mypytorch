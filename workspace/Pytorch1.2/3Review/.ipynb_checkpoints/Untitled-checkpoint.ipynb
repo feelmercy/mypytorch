{
 "cells": [
  {
   "cell_type": "code",
   "execution_count": 1,
   "metadata": {
    "ExecuteTime": {
     "end_time": "2021-09-03T08:40:29.781300Z",
     "start_time": "2021-09-03T08:40:24.907021Z"
    },
    "collapsed": true
   },
   "outputs": [],
   "source": [
    "import torch\n",
    "import torchvision\n",
    "import numpy as np\n",
    "from torch import nn,optim\n",
    "import pandas as pd"
   ]
  },
  {
   "cell_type": "code",
   "execution_count": 2,
   "metadata": {
    "ExecuteTime": {
     "end_time": "2021-09-03T08:44:10.433921Z",
     "start_time": "2021-09-03T08:44:10.184906Z"
    },
    "collapsed": true
   },
   "outputs": [],
   "source": [
    "train_data=pd.read_csv(r'F:\\study\\ml\\DataSet\\House_Prices\\train.csv')\n",
    "test_data=pd.read_csv(r'F:\\study\\ml\\DataSet\\House_Prices\\test.csv')"
   ]
  },
  {
   "cell_type": "code",
   "execution_count": 3,
   "metadata": {
    "ExecuteTime": {
     "end_time": "2021-09-03T08:45:06.298116Z",
     "start_time": "2021-09-03T08:45:06.233112Z"
    },
    "collapsed": true
   },
   "outputs": [],
   "source": [
    "all_features=pd.concat((train_data.iloc[:,1:-1],test_data.iloc[:,1:]))"
   ]
  },
  {
   "cell_type": "code",
   "execution_count": 9,
   "metadata": {
    "ExecuteTime": {
     "end_time": "2021-09-03T09:10:04.221792Z",
     "start_time": "2021-09-03T09:10:04.203791Z"
    }
   },
   "outputs": [
    {
     "data": {
      "text/plain": [
       "Index(['MSSubClass', 'LotFrontage', 'LotArea', 'OverallQual', 'OverallCond',\n",
       "       'YearBuilt', 'YearRemodAdd', 'MasVnrArea', 'BsmtFinSF1', 'BsmtFinSF2',\n",
       "       'BsmtUnfSF', 'TotalBsmtSF', '1stFlrSF', '2ndFlrSF', 'LowQualFinSF',\n",
       "       'GrLivArea', 'BsmtFullBath', 'BsmtHalfBath', 'FullBath', 'HalfBath',\n",
       "       'BedroomAbvGr', 'KitchenAbvGr', 'TotRmsAbvGrd', 'Fireplaces',\n",
       "       'GarageYrBlt', 'GarageCars', 'GarageArea', 'WoodDeckSF', 'OpenPorchSF',\n",
       "       'EnclosedPorch', '3SsnPorch', 'ScreenPorch', 'PoolArea', 'MiscVal',\n",
       "       'MoSold', 'YrSold'],\n",
       "      dtype='object')"
      ]
     },
     "execution_count": 9,
     "metadata": {},
     "output_type": "execute_result"
    }
   ],
   "source": [
    "numeric_feature=all_features.dtypes[all_features.dtypes != 'object'].index\n",
    "numeric_feature"
   ]
  },
  {
   "cell_type": "code",
   "execution_count": 10,
   "metadata": {
    "ExecuteTime": {
     "end_time": "2021-09-03T09:10:09.085070Z",
     "start_time": "2021-09-03T09:10:09.020067Z"
    }
   },
   "outputs": [],
   "source": [
    "all_features[numeric_feature]=all_features[numeric_feature].apply(lambda x : (x-x.mean())/x.std())"
   ]
  },
  {
   "cell_type": "code",
   "execution_count": 14,
   "metadata": {
    "ExecuteTime": {
     "end_time": "2021-09-03T09:10:53.384604Z",
     "start_time": "2021-09-03T09:10:53.364603Z"
    }
   },
   "outputs": [],
   "source": [
    "all_features=all_features.fillna(0)"
   ]
  },
  {
   "cell_type": "code",
   "execution_count": 15,
   "metadata": {
    "ExecuteTime": {
     "end_time": "2021-09-03T09:11:03.315172Z",
     "start_time": "2021-09-03T09:11:03.306172Z"
    }
   },
   "outputs": [
    {
     "data": {
      "text/plain": [
       "(2919, 79)"
      ]
     },
     "execution_count": 15,
     "metadata": {},
     "output_type": "execute_result"
    }
   ],
   "source": [
    "all_features.shape"
   ]
  },
  {
   "cell_type": "code",
   "execution_count": 16,
   "metadata": {
    "ExecuteTime": {
     "end_time": "2021-09-03T09:11:25.595447Z",
     "start_time": "2021-09-03T09:11:25.509442Z"
    },
    "collapsed": true
   },
   "outputs": [],
   "source": [
    "all_features=pd.get_dummies(all_features,dummy_na=True)"
   ]
  },
  {
   "cell_type": "code",
   "execution_count": 17,
   "metadata": {
    "ExecuteTime": {
     "end_time": "2021-09-03T09:11:30.452724Z",
     "start_time": "2021-09-03T09:11:30.441724Z"
    }
   },
   "outputs": [
    {
     "data": {
      "text/plain": [
       "(2919, 354)"
      ]
     },
     "execution_count": 17,
     "metadata": {},
     "output_type": "execute_result"
    }
   ],
   "source": [
    "all_features.shape"
   ]
  },
  {
   "cell_type": "code",
   "execution_count": 33,
   "metadata": {
    "ExecuteTime": {
     "end_time": "2021-09-03T09:58:57.237551Z",
     "start_time": "2021-09-03T09:58:57.196549Z"
    }
   },
   "outputs": [],
   "source": [
    "n_train=train_data.shape[0]\n",
    "train_features=torch.Tensor(all_features.iloc[:n_train,:].values)\n",
    "test_features=torch.Tensor(all_features.iloc[n_train:,:].values)\n",
    "train_labels=torch.Tensor(train_data.SalePrice.values).view(-1,1)"
   ]
  },
  {
   "cell_type": "code",
   "execution_count": 18,
   "metadata": {
    "ExecuteTime": {
     "end_time": "2021-09-03T09:16:00.369163Z",
     "start_time": "2021-09-03T09:16:00.363162Z"
    },
    "collapsed": true
   },
   "outputs": [],
   "source": [
    "loss=nn.MSELoss()"
   ]
  },
  {
   "cell_type": "code",
   "execution_count": 19,
   "metadata": {
    "ExecuteTime": {
     "end_time": "2021-09-03T09:16:25.810618Z",
     "start_time": "2021-09-03T09:16:25.802617Z"
    },
    "collapsed": true
   },
   "outputs": [],
   "source": [
    "def get_net(feature_num):\n",
    "    net=nn.Linear(feature_num,1)\n",
    "    return net"
   ]
  },
  {
   "cell_type": "code",
   "execution_count": 21,
   "metadata": {
    "ExecuteTime": {
     "end_time": "2021-09-03T09:18:53.091042Z",
     "start_time": "2021-09-03T09:18:53.075041Z"
    }
   },
   "outputs": [],
   "source": [
    "def log_rmse(net,features,labels):\n",
    "    with torch.no_grad():\n",
    "        clipped_pred=torch.max(net(features),torch.Tensor([1]))\n",
    "        rmse=torch.sqrt(2*(loss(clipped_pred.log(),labels.log()).mean())).item()\n",
    "    return rmse\n",
    "    "
   ]
  },
  {
   "cell_type": "code",
   "execution_count": 22,
   "metadata": {
    "ExecuteTime": {
     "end_time": "2021-09-03T09:39:19.168169Z",
     "start_time": "2021-09-03T09:39:19.116166Z"
    },
    "collapsed": true
   },
   "outputs": [],
   "source": [
    "def train(net,train_features,train_labels,test_features,test_labels,num_epochs,\n",
    "         lr,weight_decay,batch_size):\n",
    "    train_l,test_l=[],[]\n",
    "    dataset=torch.utils.data.TensorDataset(train_features,train_labels)\n",
    "    train_iter=torch.utils.data.DataLoader(dataset,batch_size,shuffle=True)\n",
    "    optimizer=optim.Adam(net.parameters(),lr,weight_decay=weight_decay)\n",
    "    \n",
    "    for i in range(num_epochs):\n",
    "        for x,y in train_iter:\n",
    "            l=loss(net(x),y)\n",
    "            optimizer.zero_grad()\n",
    "            l.backward()\n",
    "            optimizer.step()\n",
    "        train_l.append(log_rmse(net,train_features,train_labels))\n",
    "        if test_labels is not None:\n",
    "            test_l.append(log_rmse(net,test_features,test_labels))\n",
    "    return train_l,test_l\n",
    "            \n",
    "            "
   ]
  },
  {
   "cell_type": "code",
   "execution_count": 38,
   "metadata": {
    "ExecuteTime": {
     "end_time": "2021-09-03T09:59:38.181893Z",
     "start_time": "2021-09-03T09:59:38.132890Z"
    },
    "collapsed": true
   },
   "outputs": [],
   "source": [
    "def get_k_fold_data(k,i,x,y):\n",
    "    assert k>1\n",
    "    fold_size=x.shape[0]//k\n",
    "    row_list=list(range(x.shape[0]))\n",
    "    np.random.shuffle(row_list)\n",
    "    x_train,y_train=None,None\n",
    "    for j in range(k):\n",
    "        idx=slice(j*fold_size,(j+1)*fold_size)\n",
    "        x_part,y_part=x[row_list[idx],:],y[row_list[idx]]\n",
    "        \n",
    "        if j==i:\n",
    "            x_valid,y_valid=x_part,y_part\n",
    "        elif x_train is None:\n",
    "            x_train,y_train=x_part,y_part\n",
    "        else:\n",
    "            x_train=torch.cat((x_train,x_part))\n",
    "            y_train=torch.cat((y_train,y_part))\n",
    "    return x_train,y_train,x_valid,y_valid"
   ]
  },
  {
   "cell_type": "code",
   "execution_count": 39,
   "metadata": {
    "ExecuteTime": {
     "end_time": "2021-09-03T09:59:38.833930Z",
     "start_time": "2021-09-03T09:59:38.803929Z"
    },
    "collapsed": true
   },
   "outputs": [],
   "source": [
    "def k_fold(k,x_train,y_train,num_epochs,lr,weight_decay,batch_size):\n",
    "    train_l_sum,valid_l_sum=0,0\n",
    "    for i in range(k):\n",
    "        data=get_k_fold_data(k,i,x_train,y_train)\n",
    "        net=get_net(x_train.shape[1])\n",
    "        train_l,valid_l=train(net,*data,num_epochs,lr,weight_decay,batch_size)\n",
    "        train_l_sum+=train_l[-1]\n",
    "        valid_l_sum+=valid_l[-1]\n",
    "        \n",
    "        print('fold %d ,train rmse %f,valid %f ' % (\n",
    "        i+1,train_l[-1],valid_l[-1]))\n",
    "    return train_l_sum,valid_l_sum"
   ]
  },
  {
   "cell_type": "code",
   "execution_count": 40,
   "metadata": {
    "ExecuteTime": {
     "end_time": "2021-09-03T09:59:39.370961Z",
     "start_time": "2021-09-03T09:59:39.363961Z"
    },
    "collapsed": true
   },
   "outputs": [],
   "source": [
    "k,num_epochs,lr,weight_decay,batch_size=5,100,5,0,64"
   ]
  },
  {
   "cell_type": "code",
   "execution_count": 41,
   "metadata": {
    "ExecuteTime": {
     "end_time": "2021-09-03T09:59:47.545429Z",
     "start_time": "2021-09-03T09:59:40.214009Z"
    }
   },
   "outputs": [
    {
     "name": "stdout",
     "output_type": "stream",
     "text": [
      "fold 1 ,train rmse 0.242905,valid 0.232301 \n",
      "fold 2 ,train rmse 0.234325,valid 0.237820 \n",
      "fold 3 ,train rmse 0.232058,valid 0.236673 \n",
      "fold 4 ,train rmse 0.238686,valid 0.225906 \n",
      "fold 5 ,train rmse 0.235760,valid 0.226049 \n",
      "5 fold validation : avg train rmse 0.236747, avg valid rmse 0.231750\n"
     ]
    }
   ],
   "source": [
    "train_l_sum,valid_l_sum=k_fold(k,train_features,train_labels,num_epochs,\n",
    "                          lr,weight_decay,batch_size)\n",
    "print('%d fold validation : avg train rmse %f, avg valid rmse %f' % (\n",
    "k,train_l_sum/k,valid_l_sum/k))"
   ]
  },
  {
   "cell_type": "code",
   "execution_count": null,
   "metadata": {
    "collapsed": true
   },
   "outputs": [],
   "source": []
  },
  {
   "cell_type": "code",
   "execution_count": null,
   "metadata": {
    "collapsed": true
   },
   "outputs": [],
   "source": []
  },
  {
   "cell_type": "code",
   "execution_count": null,
   "metadata": {
    "collapsed": true
   },
   "outputs": [],
   "source": []
  }
 ],
 "metadata": {
  "kernelspec": {
   "display_name": "Python 3",
   "language": "python",
   "name": "python3"
  },
  "language_info": {
   "codemirror_mode": {
    "name": "ipython",
    "version": 3
   },
   "file_extension": ".py",
   "mimetype": "text/x-python",
   "name": "python",
   "nbconvert_exporter": "python",
   "pygments_lexer": "ipython3",
   "version": "3.6.3"
  }
 },
 "nbformat": 4,
 "nbformat_minor": 2
}
