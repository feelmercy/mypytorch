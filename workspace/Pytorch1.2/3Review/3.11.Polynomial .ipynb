{
 "cells": [
  {
   "cell_type": "code",
   "execution_count": 1,
   "metadata": {
    "ExecuteTime": {
     "end_time": "2021-08-16T03:24:26.183660Z",
     "start_time": "2021-08-16T03:24:25.840640Z"
    },
    "collapsed": true
   },
   "outputs": [],
   "source": [
    "import torch\n",
    "import numpy as np\n"
   ]
  },
  {
   "cell_type": "code",
   "execution_count": 2,
   "metadata": {
    "ExecuteTime": {
     "end_time": "2021-08-16T03:24:26.942703Z",
     "start_time": "2021-08-16T03:24:26.920702Z"
    }
   },
   "outputs": [],
   "source": [
    "n_train, n_test, true_w, true_b = 100, 100, [1.2, -3.4, 5.6], 5\n",
    "features = torch.randn((n_train + n_test, 1))\n",
    "poly_features = torch.cat(\n",
    "    (features, torch.pow(features, 2), torch.pow(features, 3)), 1)\n",
    "labels = (true_w[0] * poly_features[:, 0] + true_w[1] * poly_features[:, 1] +\n",
    "          true_w[2] * poly_features[:, 2] + true_b)\n",
    "labels += torch.tensor(\n",
    "    np.random.normal(0, 0.01, size=labels.size()), dtype=torch.float32)"
   ]
  },
  {
   "cell_type": "code",
   "execution_count": 3,
   "metadata": {
    "ExecuteTime": {
     "end_time": "2021-08-16T03:24:27.534737Z",
     "start_time": "2021-08-16T03:24:27.503735Z"
    }
   },
   "outputs": [
    {
     "data": {
      "text/plain": [
       "(tensor([[-0.1988],\n",
       "         [-0.2163]]), tensor([[-0.1988,  0.0395, -0.0079],\n",
       "         [-0.2163,  0.0468, -0.0101]]), tensor([4.5769, 4.5262]))"
      ]
     },
     "execution_count": 3,
     "metadata": {},
     "output_type": "execute_result"
    }
   ],
   "source": [
    "features[:2],poly_features[:2],labels[:2]"
   ]
  },
  {
   "cell_type": "code",
   "execution_count": 4,
   "metadata": {
    "ExecuteTime": {
     "end_time": "2021-08-16T03:24:28.047767Z",
     "start_time": "2021-08-16T03:24:28.039766Z"
    },
    "collapsed": true
   },
   "outputs": [],
   "source": [
    "num_epochs,loss=100,torch.nn.MSELoss()"
   ]
  },
  {
   "cell_type": "code",
   "execution_count": 5,
   "metadata": {
    "ExecuteTime": {
     "end_time": "2021-08-16T03:24:29.036823Z",
     "start_time": "2021-08-16T03:24:28.557796Z"
    }
   },
   "outputs": [
    {
     "name": "stdout",
     "output_type": "stream",
     "text": [
      "Using matplotlib backend: Qt5Agg\n"
     ]
    }
   ],
   "source": [
    "import torchvision\n",
    "import matplotlib.pyplot as plt\n",
    "%matplotlib auto"
   ]
  },
  {
   "cell_type": "code",
   "execution_count": 6,
   "metadata": {
    "ExecuteTime": {
     "end_time": "2021-08-16T03:24:29.152830Z",
     "start_time": "2021-08-16T03:24:29.112828Z"
    }
   },
   "outputs": [],
   "source": [
    "def fit_and_plot(train_features,test_features,train_labels,test_labels):\n",
    "    net=torch.nn.Linear(train_features.shape[-1],1)\n",
    "    batch_size=min(10,train_labels.shape[0])\n",
    "    dataset=torch.utils.data.TensorDataset(train_features,train_labels)\n",
    "    train_iter=torch.utils.data.DataLoader(dataset,batch_size,shuffle=True)\n",
    "    optimizer=torch.optim.SGD(net.parameters(),lr=0.01)\n",
    "    train_ls,test_ls=[],[]\n",
    "    for _ in range(num_epochs):\n",
    "        for x,y in train_iter:\n",
    "            l=loss(net(x),y.view(-1,1))\n",
    "            optimizer.zero_grad()\n",
    "            l.backward()\n",
    "            optimizer.step()\n",
    "        train_labels=train_labels.view(-1,1)\n",
    "        test_labels=test_labels.view(-1,1)\n",
    "        train_ls.append(loss(net(train_features),train_labels).item())\n",
    "        test_ls.append(loss(net(test_features),test_labels).item())\n",
    "    print('final epoch : train loss ',train_ls[-1],'test loss : ' ,test_ls[-1])\n",
    "    print('weight :',net.weight.data,' bias :',net.bias.data)\n",
    "    plt.plot(range(1,num_epochs+1),train_ls,'b-')\n",
    "    plt.plot(range(1,num_epochs+1),test_ls,'r--')\n",
    "    plt.show()\n",
    "#     for p in net.parameters():\n",
    "#         print(p)\n",
    "    \n",
    "    "
   ]
  },
  {
   "cell_type": "code",
   "execution_count": 7,
   "metadata": {
    "ExecuteTime": {
     "end_time": "2021-08-16T03:24:32.206004Z",
     "start_time": "2021-08-16T03:24:31.846984Z"
    }
   },
   "outputs": [
    {
     "name": "stdout",
     "output_type": "stream",
     "text": [
      "final epoch : train loss  0.00011758734763134271 test loss :  0.00016712353681214154\n",
      "weight : tensor([[ 1.2098, -3.3981,  5.5978]])  bias : tensor([4.9967])\n"
     ]
    }
   ],
   "source": [
    "fit_and_plot(poly_features[:n_train, :], poly_features[n_train:, :],\n",
    "labels[:n_train], labels[n_train:])"
   ]
  },
  {
   "cell_type": "code",
   "execution_count": 8,
   "metadata": {
    "ExecuteTime": {
     "end_time": "2021-08-16T03:24:37.366300Z",
     "start_time": "2021-08-16T03:24:37.023280Z"
    }
   },
   "outputs": [
    {
     "name": "stdout",
     "output_type": "stream",
     "text": [
      "final epoch : train loss  81.84788513183594 test loss :  182.2057647705078\n",
      "weight : tensor([[14.4040]])  bias : tensor([3.0819])\n"
     ]
    }
   ],
   "source": [
    "fit_and_plot(features[:n_train,:],features[n_train:,:],labels[:n_train],\n",
    "            labels[n_train:])"
   ]
  },
  {
   "cell_type": "code",
   "execution_count": null,
   "metadata": {
    "collapsed": true
   },
   "outputs": [],
   "source": []
  }
 ],
 "metadata": {
  "kernelspec": {
   "display_name": "Python 3",
   "language": "python",
   "name": "python3"
  },
  "language_info": {
   "codemirror_mode": {
    "name": "ipython",
    "version": 3
   },
   "file_extension": ".py",
   "mimetype": "text/x-python",
   "name": "python",
   "nbconvert_exporter": "python",
   "pygments_lexer": "ipython3",
   "version": "3.6.3"
  }
 },
 "nbformat": 4,
 "nbformat_minor": 2
}
