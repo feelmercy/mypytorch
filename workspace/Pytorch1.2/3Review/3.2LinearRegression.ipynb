{
 "cells": [
  {
   "cell_type": "code",
   "execution_count": 3,
   "metadata": {
    "ExecuteTime": {
     "end_time": "2021-08-05T01:13:05.383008Z",
     "start_time": "2021-08-05T01:13:03.902923Z"
    }
   },
   "outputs": [
    {
     "name": "stdout",
     "output_type": "stream",
     "text": [
      "Using matplotlib backend: Qt5Agg\n"
     ]
    }
   ],
   "source": [
    "import torch\n",
    "import numpy as np\n",
    "from matplotlib import pyplot as plt\n",
    "%matplotlib auto"
   ]
  },
  {
   "cell_type": "code",
   "execution_count": 8,
   "metadata": {
    "ExecuteTime": {
     "end_time": "2021-08-05T01:23:52.578025Z",
     "start_time": "2021-08-05T01:23:52.560024Z"
    }
   },
   "outputs": [],
   "source": [
    "m=1000\n",
    "n=2\n",
    "true_w=[2,-3,4]\n",
    "true_b=4.2\n",
    "features=torch.from_numpy(np.random.normal(0,1,(m,n)))\n",
    "labels=true_w[0]*features[:,0]+true_w[1]*features[:,1]+true_b\n",
    "labels+=torch.from_numpy(np.random.normal(0,0.01,size=labels.size()))"
   ]
  },
  {
   "cell_type": "code",
   "execution_count": 10,
   "metadata": {
    "ExecuteTime": {
     "end_time": "2021-08-05T01:25:12.092573Z",
     "start_time": "2021-08-05T01:25:12.008569Z"
    }
   },
   "outputs": [
    {
     "data": {
      "text/plain": [
       "<matplotlib.collections.PathCollection at 0x10e42588>"
      ]
     },
     "execution_count": 10,
     "metadata": {},
     "output_type": "execute_result"
    }
   ],
   "source": [
    "plt.scatter(features[:,1],labels)"
   ]
  },
  {
   "cell_type": "code",
   "execution_count": 13,
   "metadata": {
    "ExecuteTime": {
     "end_time": "2021-08-05T01:29:47.766341Z",
     "start_time": "2021-08-05T01:29:47.745340Z"
    },
    "collapsed": true
   },
   "outputs": [],
   "source": [
    "def data_iter(batch_size,features,labels):\n",
    "    num_examples=len(features)\n",
    "    indices=list(range(num_examples))\n",
    "    np.random.shuffle(indices)\n",
    "    for i in range(0,num_examples,batch_size):\n",
    "        j=torch.LongTensor(indices[i:min(i+batch_size,num_examples)])\n",
    "        yield features.index_select(0,j),labels.index_select(0,j)"
   ]
  },
  {
   "cell_type": "code",
   "execution_count": 14,
   "metadata": {
    "ExecuteTime": {
     "end_time": "2021-08-05T01:29:48.417378Z",
     "start_time": "2021-08-05T01:29:48.392377Z"
    }
   },
   "outputs": [
    {
     "name": "stdout",
     "output_type": "stream",
     "text": [
      "tensor([[-1.2074,  0.7194],\n",
      "        [ 0.5890, -1.6221],\n",
      "        [ 1.3483,  1.3167],\n",
      "        [ 0.9048, -0.2384],\n",
      "        [-1.4152, -1.4273],\n",
      "        [-1.6490, -0.4000],\n",
      "        [-0.1788,  0.3474],\n",
      "        [-0.6418,  0.0103],\n",
      "        [-0.0120,  0.1955],\n",
      "        [-0.3107, -0.2873]], dtype=torch.float64) tensor([-0.3790, 10.2457,  2.9532,  6.7210,  5.6695,  2.1117,  2.7771,  2.8947,\n",
      "         3.6053,  4.4461], dtype=torch.float64)\n"
     ]
    }
   ],
   "source": [
    "batch_size=10\n",
    "for X,y in data_iter(batch_size,features,labels):\n",
    "    print(X,y)\n",
    "    break"
   ]
  },
  {
   "cell_type": "code",
   "execution_count": 30,
   "metadata": {
    "ExecuteTime": {
     "end_time": "2021-08-05T02:17:56.090544Z",
     "start_time": "2021-08-05T02:17:56.082543Z"
    },
    "collapsed": true
   },
   "outputs": [],
   "source": [
    "w=torch.tensor(np.random.normal(0,0.01,(n,1)),dtype=torch.float64)\n",
    "b=torch.zeros(1,dtype=torch.float64)"
   ]
  },
  {
   "cell_type": "code",
   "execution_count": 31,
   "metadata": {
    "ExecuteTime": {
     "end_time": "2021-08-05T02:17:57.526626Z",
     "start_time": "2021-08-05T02:17:57.513625Z"
    }
   },
   "outputs": [
    {
     "data": {
      "text/plain": [
       "tensor([0.], dtype=torch.float64, requires_grad=True)"
      ]
     },
     "execution_count": 31,
     "metadata": {},
     "output_type": "execute_result"
    }
   ],
   "source": [
    "w.requires_grad_(requires_grad=True)\n",
    "b.requires_grad_(requires_grad=True)"
   ]
  },
  {
   "cell_type": "code",
   "execution_count": 32,
   "metadata": {
    "ExecuteTime": {
     "end_time": "2021-08-05T02:17:57.944650Z",
     "start_time": "2021-08-05T02:17:57.937649Z"
    },
    "collapsed": true
   },
   "outputs": [],
   "source": [
    "def linreg(X,w,b):\n",
    "    return torch.mm(X,w)+b"
   ]
  },
  {
   "cell_type": "code",
   "execution_count": 33,
   "metadata": {
    "ExecuteTime": {
     "end_time": "2021-08-05T02:17:58.342673Z",
     "start_time": "2021-08-05T02:17:58.335672Z"
    },
    "collapsed": true
   },
   "outputs": [],
   "source": [
    "def squared_loss(y_hat,y):\n",
    "    return (y_hat-y.view(y_hat.size()))**2/2"
   ]
  },
  {
   "cell_type": "code",
   "execution_count": 34,
   "metadata": {
    "ExecuteTime": {
     "end_time": "2021-08-05T02:17:58.746696Z",
     "start_time": "2021-08-05T02:17:58.737695Z"
    },
    "collapsed": true
   },
   "outputs": [],
   "source": [
    "def sgd(params,lr,batch_size):\n",
    "    for p in params:\n",
    "        p.data -= lr*p.grad /batch_size"
   ]
  },
  {
   "cell_type": "code",
   "execution_count": 35,
   "metadata": {
    "ExecuteTime": {
     "end_time": "2021-08-05T02:17:59.830758Z",
     "start_time": "2021-08-05T02:17:59.380732Z"
    }
   },
   "outputs": [
    {
     "name": "stdout",
     "output_type": "stream",
     "text": [
      "epoch 1,loss: 0.043508\n",
      "epoch 2,loss: 0.000191\n",
      "epoch 3,loss: 0.000050\n"
     ]
    }
   ],
   "source": [
    "lr=0.03\n",
    "num_epochs=3\n",
    "loss=squared_loss\n",
    "net=linreg\n",
    "\n",
    "for epoch in range(num_epochs):\n",
    "    for X,y in data_iter(batch_size,features,labels):\n",
    "        l=loss(net(X,w,b),y).sum()\n",
    "        l.backward()\n",
    "        sgd([w,b],lr,batch_size)\n",
    "        \n",
    "        w.grad.data.zero_()\n",
    "        b.grad.data.zero_()\n",
    "    train_l=loss(net(features,w,b),labels)\n",
    "    print('epoch %d,loss: %f' % (epoch+1,train_l.mean().item()))\n",
    "    "
   ]
  },
  {
   "cell_type": "code",
   "execution_count": 29,
   "metadata": {
    "ExecuteTime": {
     "end_time": "2021-08-05T02:16:16.812865Z",
     "start_time": "2021-08-05T02:16:16.803865Z"
    }
   },
   "outputs": [
    {
     "data": {
      "text/plain": [
       "torch.float32"
      ]
     },
     "execution_count": 29,
     "metadata": {},
     "output_type": "execute_result"
    }
   ],
   "source": []
  },
  {
   "cell_type": "code",
   "execution_count": null,
   "metadata": {
    "collapsed": true
   },
   "outputs": [],
   "source": []
  },
  {
   "cell_type": "code",
   "execution_count": null,
   "metadata": {
    "collapsed": true
   },
   "outputs": [],
   "source": []
  },
  {
   "cell_type": "code",
   "execution_count": null,
   "metadata": {
    "collapsed": true
   },
   "outputs": [],
   "source": []
  },
  {
   "cell_type": "code",
   "execution_count": null,
   "metadata": {
    "collapsed": true
   },
   "outputs": [],
   "source": []
  }
 ],
 "metadata": {
  "kernelspec": {
   "display_name": "Python 3",
   "language": "python",
   "name": "python3"
  },
  "language_info": {
   "codemirror_mode": {
    "name": "ipython",
    "version": 3
   },
   "file_extension": ".py",
   "mimetype": "text/x-python",
   "name": "python",
   "nbconvert_exporter": "python",
   "pygments_lexer": "ipython3",
   "version": "3.6.3"
  }
 },
 "nbformat": 4,
 "nbformat_minor": 2
}
