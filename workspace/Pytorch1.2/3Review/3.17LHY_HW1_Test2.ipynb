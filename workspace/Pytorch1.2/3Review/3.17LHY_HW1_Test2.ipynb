{
 "cells": [
  {
   "cell_type": "code",
   "execution_count": 1,
   "metadata": {
    "ExecuteTime": {
     "end_time": "2021-09-07T02:12:07.474966Z",
     "start_time": "2021-09-07T02:11:56.029311Z"
    },
    "collapsed": true
   },
   "outputs": [],
   "source": [
    "import torch\n",
    "import torch.nn as nn\n",
    "from torch.utils.data import Dataset, DataLoader\n",
    "import numpy as np\n",
    "import torchvision \n",
    "import pandas as pd"
   ]
  },
  {
   "cell_type": "code",
   "execution_count": 2,
   "metadata": {
    "ExecuteTime": {
     "end_time": "2021-09-07T02:12:47.283243Z",
     "start_time": "2021-09-07T02:12:46.906221Z"
    },
    "collapsed": true
   },
   "outputs": [],
   "source": [
    "train_data=pd.read_csv(r'F:\\study\\ml\\HonyiLee2021\\Lhy_Machine_Learning-main\\01 Introduction\\dataset\\covid.train.csv',)\n",
    "test_data=pd.read_csv(r'F:\\study\\ml\\HonyiLee2021\\Lhy_Machine_Learning-main\\01 Introduction\\dataset\\covid.test.csv')"
   ]
  },
  {
   "cell_type": "code",
   "execution_count": 3,
   "metadata": {
    "ExecuteTime": {
     "end_time": "2021-09-07T02:12:47.921279Z",
     "start_time": "2021-09-07T02:12:47.890277Z"
    }
   },
   "outputs": [
    {
     "data": {
      "text/plain": [
       "(2700, 95)"
      ]
     },
     "execution_count": 3,
     "metadata": {},
     "output_type": "execute_result"
    }
   ],
   "source": [
    "train_data.shape"
   ]
  },
  {
   "cell_type": "code",
   "execution_count": 4,
   "metadata": {
    "ExecuteTime": {
     "end_time": "2021-09-07T02:12:48.416308Z",
     "start_time": "2021-09-07T02:12:48.407307Z"
    }
   },
   "outputs": [
    {
     "data": {
      "text/plain": [
       "(893, 94)"
      ]
     },
     "execution_count": 4,
     "metadata": {},
     "output_type": "execute_result"
    }
   ],
   "source": [
    "test_data.shape"
   ]
  },
  {
   "cell_type": "code",
   "execution_count": 5,
   "metadata": {
    "ExecuteTime": {
     "end_time": "2021-09-07T02:12:48.893335Z",
     "start_time": "2021-09-07T02:12:48.863333Z"
    }
   },
   "outputs": [
    {
     "data": {
      "text/plain": [
       "(3593, 93)"
      ]
     },
     "execution_count": 5,
     "metadata": {},
     "output_type": "execute_result"
    }
   ],
   "source": [
    "all_features=pd.concat((train_data.iloc[:,1:-1],test_data.iloc[:,1:]))\n",
    "all_features.shape"
   ]
  },
  {
   "cell_type": "code",
   "execution_count": 6,
   "metadata": {
    "ExecuteTime": {
     "end_time": "2021-09-07T02:12:49.315359Z",
     "start_time": "2021-09-07T02:12:49.290358Z"
    }
   },
   "outputs": [
    {
     "data": {
      "text/plain": [
       "0"
      ]
     },
     "execution_count": 6,
     "metadata": {},
     "output_type": "execute_result"
    }
   ],
   "source": [
    "all_features.isnull().sum().sum()"
   ]
  },
  {
   "cell_type": "code",
   "execution_count": 7,
   "metadata": {
    "ExecuteTime": {
     "end_time": "2021-09-07T02:12:49.801387Z",
     "start_time": "2021-09-07T02:12:49.727383Z"
    },
    "collapsed": true
   },
   "outputs": [],
   "source": [
    "all_features.iloc[:,40:]=all_features.iloc[:,40:].apply(lambda x: (x-x.mean()) / x.std())"
   ]
  },
  {
   "cell_type": "code",
   "execution_count": 8,
   "metadata": {
    "ExecuteTime": {
     "end_time": "2021-09-07T02:12:50.156407Z",
     "start_time": "2021-09-07T02:12:50.147407Z"
    }
   },
   "outputs": [
    {
     "data": {
      "text/plain": [
       "(3593, 93)"
      ]
     },
     "execution_count": 8,
     "metadata": {},
     "output_type": "execute_result"
    }
   ],
   "source": [
    "all_features.shape"
   ]
  },
  {
   "cell_type": "code",
   "execution_count": 30,
   "metadata": {
    "ExecuteTime": {
     "end_time": "2021-09-07T02:30:43.287787Z",
     "start_time": "2021-09-07T02:30:43.267786Z"
    }
   },
   "outputs": [
    {
     "data": {
      "text/html": [
       "<div>\n",
       "<style>\n",
       "    .dataframe thead tr:only-child th {\n",
       "        text-align: right;\n",
       "    }\n",
       "\n",
       "    .dataframe thead th {\n",
       "        text-align: left;\n",
       "    }\n",
       "\n",
       "    .dataframe tbody tr th {\n",
       "        vertical-align: top;\n",
       "    }\n",
       "</style>\n",
       "<table border=\"1\" class=\"dataframe\">\n",
       "  <thead>\n",
       "    <tr style=\"text-align: right;\">\n",
       "      <th></th>\n",
       "      <th>tested_positive</th>\n",
       "      <th>tested_positive.1</th>\n",
       "    </tr>\n",
       "  </thead>\n",
       "  <tbody>\n",
       "    <tr>\n",
       "      <th>0</th>\n",
       "      <td>0.438190</td>\n",
       "      <td>0.505859</td>\n",
       "    </tr>\n",
       "    <tr>\n",
       "      <th>1</th>\n",
       "      <td>0.511783</td>\n",
       "      <td>0.577989</td>\n",
       "    </tr>\n",
       "    <tr>\n",
       "      <th>2</th>\n",
       "      <td>0.583781</td>\n",
       "      <td>0.654668</td>\n",
       "    </tr>\n",
       "    <tr>\n",
       "      <th>3</th>\n",
       "      <td>0.660320</td>\n",
       "      <td>0.638203</td>\n",
       "    </tr>\n",
       "    <tr>\n",
       "      <th>4</th>\n",
       "      <td>0.643885</td>\n",
       "      <td>0.472574</td>\n",
       "    </tr>\n",
       "  </tbody>\n",
       "</table>\n",
       "</div>"
      ],
      "text/plain": [
       "   tested_positive  tested_positive.1\n",
       "0         0.438190           0.505859\n",
       "1         0.511783           0.577989\n",
       "2         0.583781           0.654668\n",
       "3         0.660320           0.638203\n",
       "4         0.643885           0.472574"
      ]
     },
     "execution_count": 30,
     "metadata": {},
     "output_type": "execute_result"
    }
   ],
   "source": [
    "all_features.iloc[:5,[57,75]]"
   ]
  },
  {
   "cell_type": "code",
   "execution_count": 65,
   "metadata": {
    "ExecuteTime": {
     "end_time": "2021-09-07T03:24:43.284104Z",
     "start_time": "2021-09-07T03:24:43.272103Z"
    }
   },
   "outputs": [],
   "source": [
    "# n_train=train_data.shape[0]\n",
    "# train_features=torch.Tensor(all_features.iloc[:n_train,:].values)\n",
    "# test_features=torch.Tensor(all_features.iloc[n_train:,:].values)\n",
    "# train_labels=torch.Tensor(train_data.iloc[:,-1].values).view(-1,1)\n",
    "\n",
    "#2 features\n",
    "\n",
    "n_train=train_data.shape[0]\n",
    "train_features=torch.Tensor(all_features.iloc[:n_train,[57,75]].values)\n",
    "test_features=torch.Tensor(all_features.iloc[n_train:,[57,75]].values)\n",
    "train_labels=torch.Tensor(train_data.iloc[:,-1].values).view(-1,1)\n"
   ]
  },
  {
   "cell_type": "code",
   "execution_count": 66,
   "metadata": {
    "ExecuteTime": {
     "end_time": "2021-09-07T03:24:43.889139Z",
     "start_time": "2021-09-07T03:24:43.886138Z"
    },
    "collapsed": true
   },
   "outputs": [],
   "source": [
    "loss=nn.MSELoss()"
   ]
  },
  {
   "cell_type": "code",
   "execution_count": 67,
   "metadata": {
    "ExecuteTime": {
     "end_time": "2021-09-07T03:24:44.365166Z",
     "start_time": "2021-09-07T03:24:44.358165Z"
    },
    "collapsed": true
   },
   "outputs": [],
   "source": [
    "def get_net(num_features):\n",
    "#     net=nn.Linear(num_features,1)\n",
    "    net = nn.Sequential(nn.Linear(num_features, 186), \n",
    "                        nn.ReLU(),\n",
    "                        nn.Linear(186, 64), \n",
    "                        nn.ReLU(),\n",
    "                        nn.Linear(64, 1))\n",
    "    for p in net.parameters():\n",
    "        nn.init.normal_(p, mean=0, std=0.01)\n",
    "    return net"
   ]
  },
  {
   "cell_type": "code",
   "execution_count": 68,
   "metadata": {
    "ExecuteTime": {
     "end_time": "2021-09-07T03:24:44.897196Z",
     "start_time": "2021-09-07T03:24:44.888196Z"
    },
    "collapsed": true
   },
   "outputs": [],
   "source": [
    "def rmse(net,features,labels):\n",
    "    net.eval()\n",
    "    with torch.no_grad():\n",
    "        rmse=torch.sqrt(loss(net(features),labels).mean()).item()\n",
    "    net.train()\n",
    "    return rmse"
   ]
  },
  {
   "cell_type": "code",
   "execution_count": 69,
   "metadata": {
    "ExecuteTime": {
     "end_time": "2021-09-07T03:24:45.418226Z",
     "start_time": "2021-09-07T03:24:45.360223Z"
    },
    "collapsed": true
   },
   "outputs": [],
   "source": [
    "def train(net,train_features,train_labels,test_features,test_labels,\n",
    "         num_epochs,learning_rate,weight_decay,batch_size):\n",
    "    train_ls,test_ls=[],[]\n",
    "    dataset=torch.utils.data.TensorDataset(train_features,train_labels)\n",
    "    train_iter=torch.utils.data.DataLoader(dataset,batch_size,shuffle=True)\n",
    "    optimizer=torch.optim.Adam(net.parameters(),lr=learning_rate,weight_decay=weight_decay)\n",
    "    min_rmse=1000.\n",
    "    early_stop_count=300\n",
    "    for e in range(num_epochs):\n",
    "        i=0\n",
    "        for x,y in train_iter:\n",
    "            l=loss(net(x),y)\n",
    "            optimizer.zero_grad()\n",
    "            l.backward()\n",
    "            optimizer.step()\n",
    "\n",
    "        \n",
    "        train_ls.append(rmse(net,train_features,train_labels))\n",
    "        if test_labels is not None:\n",
    "            test_ls.append(rmse(net,test_features,test_labels))\n",
    "            dev_rmse=test_ls[-1]    \n",
    "            if dev_rmse<min_rmse:\n",
    "                min_rmse=dev_rmse\n",
    "                print('save model (epoch %d) train rmse %f, test rmse %f ' %(\n",
    "                e+1,train_ls[-1],min_rmse))\n",
    "                torch.save(net.state_dict(),r'F:\\study\\ml\\HonyiLee2021\\Lhy_Machine_Learning-main\\01 Introduction\\models\\model.pht')\n",
    "                i=0\n",
    "            else:\n",
    "                i+=1\n",
    "            if i>early_stop_count:\n",
    "                break\n",
    "            \n",
    "                \n",
    "                \n",
    "        \n",
    "    return train_ls,test_ls"
   ]
  },
  {
   "cell_type": "code",
   "execution_count": 70,
   "metadata": {
    "ExecuteTime": {
     "end_time": "2021-09-07T03:24:45.872252Z",
     "start_time": "2021-09-07T03:24:45.846250Z"
    },
    "collapsed": true
   },
   "outputs": [],
   "source": [
    "def get_k_fold_data(k,i,x,y):\n",
    "    assert k>1\n",
    "    fold_size=x.shape[0]//k\n",
    "    x_train,y_train=None,None\n",
    "    index_list=list(range(x.shape[0]))\n",
    "    np.random.shuffle(index_list)\n",
    "    for j in range(k):\n",
    "        idx=slice(j*fold_size,(j+1)*fold_size)\n",
    "        x_part,y_part=x[index_list[idx],:],y[index_list[idx]]\n",
    "        \n",
    "        if j==i:\n",
    "            x_valid,y_valid=x_part,y_part\n",
    "        elif x_train is None:\n",
    "            x_train,y_train=x_part,y_part\n",
    "        else:\n",
    "            x_train=torch.cat((x_train,x_part))\n",
    "            y_train=torch.cat((y_train,y_part))\n",
    "    \n",
    "    return x_train,y_train,x_valid,y_valid"
   ]
  },
  {
   "cell_type": "code",
   "execution_count": 71,
   "metadata": {
    "ExecuteTime": {
     "end_time": "2021-09-07T03:24:46.388281Z",
     "start_time": "2021-09-07T03:24:46.382281Z"
    },
    "collapsed": true
   },
   "outputs": [],
   "source": [
    "def get_net(num_features):\n",
    "#     net=nn.Linear(num_features,1)\n",
    "    net = nn.Sequential(nn.Linear(num_features, 64), \n",
    "#                         nn.ReLU(),\n",
    "#                         nn.Linear(128, 64), \n",
    "                        nn.ReLU()\n",
    "                        nn.Linear(64, 1))\n",
    "    for p in net.parameters():\n",
    "        nn.init.normal_(p, mean=0, std=0.01)\n",
    "    return net"
   ]
  },
  {
   "cell_type": "code",
   "execution_count": 72,
   "metadata": {
    "ExecuteTime": {
     "end_time": "2021-09-07T03:24:46.879310Z",
     "start_time": "2021-09-07T03:24:46.856308Z"
    },
    "collapsed": true
   },
   "outputs": [],
   "source": [
    "def k_fold(k,x_train,y_train,num_epochs,learning_rate,weight_decay,batch_size):\n",
    "    train_l_sum,valid_l_sum=0,0\n",
    "    for i in range(k):\n",
    "        data=get_k_fold_data(k,i,x_train,y_train)\n",
    "        net=get_net(x_train.shape[1])\n",
    "        train_ls,valid_ls=train(net,*data,num_epochs,learning_rate,\n",
    "                           weight_decay,batch_size)\n",
    "        train_l_sum+=train_ls[-1]\n",
    "        valid_l_sum+=valid_ls[-1]\n",
    "        \n",
    "        print('fold %d,train rmse %f,valid %f' % (\n",
    "            i,train_ls[-1],valid_ls[-1]))\n",
    "    return train_l_sum/k,valid_l_sum/k\n",
    "        "
   ]
  },
  {
   "cell_type": "code",
   "execution_count": 73,
   "metadata": {
    "ExecuteTime": {
     "end_time": "2021-09-07T03:25:03.303249Z",
     "start_time": "2021-09-07T03:24:47.704357Z"
    }
   },
   "outputs": [
    {
     "name": "stdout",
     "output_type": "stream",
     "text": [
      "save model (epoch 1) train rmse 16.955643, test rmse 17.220272 \n",
      "save model (epoch 2) train rmse 13.654101, test rmse 13.843808 \n",
      "save model (epoch 3) train rmse 9.009602, test rmse 8.905493 \n",
      "save model (epoch 4) train rmse 4.629296, test rmse 4.402546 \n",
      "save model (epoch 7) train rmse 3.576016, test rmse 3.500607 \n",
      "save model (epoch 10) train rmse 2.892408, test rmse 2.715712 \n",
      "save model (epoch 11) train rmse 1.709682, test rmse 1.565934 \n",
      "save model (epoch 15) train rmse 1.467478, test rmse 1.478957 \n",
      "save model (epoch 16) train rmse 1.309696, test rmse 1.304996 \n",
      "save model (epoch 18) train rmse 1.160902, test rmse 1.157113 \n",
      "save model (epoch 22) train rmse 1.150191, test rmse 1.148911 \n",
      "save model (epoch 30) train rmse 1.117253, test rmse 1.140632 \n",
      "save model (epoch 31) train rmse 1.118838, test rmse 1.138116 \n",
      "save model (epoch 35) train rmse 1.110472, test rmse 1.134955 \n",
      "save model (epoch 39) train rmse 1.102780, test rmse 1.128901 \n",
      "save model (epoch 48) train rmse 1.096506, test rmse 1.126384 \n",
      "save model (epoch 53) train rmse 1.095718, test rmse 1.125157 \n",
      "save model (epoch 64) train rmse 1.087690, test rmse 1.118801 \n",
      "save model (epoch 83) train rmse 1.085218, test rmse 1.117493 \n",
      "fold 0,train rmse 1.088260,valid 1.121998\n",
      "save model (epoch 1) train rmse 17.088732, test rmse 16.999313 \n",
      "save model (epoch 2) train rmse 14.109884, test rmse 13.971276 \n",
      "save model (epoch 3) train rmse 9.851439, test rmse 9.731077 \n",
      "save model (epoch 4) train rmse 4.186434, test rmse 4.270863 \n",
      "save model (epoch 7) train rmse 3.890902, test rmse 4.066071 \n",
      "save model (epoch 10) train rmse 3.393635, test rmse 3.404046 \n",
      "save model (epoch 11) train rmse 2.227453, test rmse 2.281506 \n",
      "save model (epoch 12) train rmse 1.940197, test rmse 2.047322 \n",
      "save model (epoch 14) train rmse 1.720453, test rmse 1.822693 \n",
      "save model (epoch 15) train rmse 1.569492, test rmse 1.631753 \n",
      "save model (epoch 16) train rmse 1.451959, test rmse 1.506910 \n",
      "save model (epoch 17) train rmse 1.378874, test rmse 1.439336 \n",
      "save model (epoch 18) train rmse 1.241456, test rmse 1.303394 \n",
      "save model (epoch 19) train rmse 1.142954, test rmse 1.221054 \n",
      "save model (epoch 24) train rmse 1.124884, test rmse 1.201057 \n",
      "save model (epoch 25) train rmse 1.123962, test rmse 1.200760 \n",
      "save model (epoch 30) train rmse 1.119904, test rmse 1.196589 \n",
      "save model (epoch 31) train rmse 1.121062, test rmse 1.195949 \n",
      "save model (epoch 36) train rmse 1.116490, test rmse 1.190140 \n",
      "save model (epoch 37) train rmse 1.110918, test rmse 1.183387 \n",
      "save model (epoch 38) train rmse 1.109114, test rmse 1.182039 \n",
      "save model (epoch 42) train rmse 1.111459, test rmse 1.181846 \n",
      "save model (epoch 43) train rmse 1.109713, test rmse 1.180192 \n",
      "save model (epoch 44) train rmse 1.104780, test rmse 1.175617 \n",
      "save model (epoch 47) train rmse 1.106218, test rmse 1.175120 \n",
      "save model (epoch 48) train rmse 1.100912, test rmse 1.169953 \n",
      "save model (epoch 52) train rmse 1.098889, test rmse 1.166528 \n",
      "save model (epoch 59) train rmse 1.094393, test rmse 1.161204 \n",
      "save model (epoch 64) train rmse 1.092655, test rmse 1.159233 \n",
      "save model (epoch 68) train rmse 1.089739, test rmse 1.155726 \n",
      "save model (epoch 92) train rmse 1.090224, test rmse 1.155674 \n",
      "save model (epoch 96) train rmse 1.087371, test rmse 1.152644 \n",
      "fold 1,train rmse 1.099853,valid 1.164109\n",
      "save model (epoch 1) train rmse 16.889074, test rmse 16.864689 \n",
      "save model (epoch 2) train rmse 13.094281, test rmse 13.039201 \n",
      "save model (epoch 3) train rmse 7.601269, test rmse 7.458990 \n",
      "save model (epoch 4) train rmse 6.060753, test rmse 5.940036 \n",
      "save model (epoch 6) train rmse 4.668538, test rmse 4.672351 \n",
      "save model (epoch 7) train rmse 3.617093, test rmse 3.592899 \n",
      "save model (epoch 9) train rmse 3.113543, test rmse 3.045834 \n",
      "save model (epoch 10) train rmse 1.843090, test rmse 1.823736 \n",
      "save model (epoch 12) train rmse 1.420561, test rmse 1.495174 \n",
      "save model (epoch 15) train rmse 1.176708, test rmse 1.216254 \n",
      "save model (epoch 22) train rmse 1.122237, test rmse 1.159793 \n",
      "save model (epoch 29) train rmse 1.107405, test rmse 1.146831 \n",
      "save model (epoch 33) train rmse 1.104459, test rmse 1.142735 \n",
      "save model (epoch 38) train rmse 1.105799, test rmse 1.140678 \n",
      "save model (epoch 40) train rmse 1.104182, test rmse 1.139493 \n",
      "save model (epoch 43) train rmse 1.101961, test rmse 1.136627 \n",
      "save model (epoch 46) train rmse 1.097654, test rmse 1.132863 \n",
      "save model (epoch 47) train rmse 1.095630, test rmse 1.131840 \n",
      "save model (epoch 57) train rmse 1.094733, test rmse 1.128667 \n",
      "save model (epoch 65) train rmse 1.093074, test rmse 1.128442 \n",
      "save model (epoch 67) train rmse 1.091992, test rmse 1.126704 \n",
      "save model (epoch 76) train rmse 1.088750, test rmse 1.123916 \n",
      "save model (epoch 96) train rmse 1.084828, test rmse 1.121627 \n",
      "fold 2,train rmse 1.096838,valid 1.131773\n",
      "save model (epoch 1) train rmse 16.690327, test rmse 17.390297 \n",
      "save model (epoch 2) train rmse 12.637360, test rmse 13.198498 \n",
      "save model (epoch 3) train rmse 6.707059, test rmse 6.729813 \n",
      "save model (epoch 6) train rmse 3.901699, test rmse 3.950440 \n",
      "save model (epoch 7) train rmse 3.686913, test rmse 3.775853 \n",
      "save model (epoch 9) train rmse 1.969595, test rmse 2.012144 \n",
      "save model (epoch 12) train rmse 1.362635, test rmse 1.473812 \n",
      "save model (epoch 15) train rmse 1.318314, test rmse 1.375830 \n",
      "save model (epoch 16) train rmse 1.325427, test rmse 1.374555 \n",
      "save model (epoch 17) train rmse 1.233053, test rmse 1.315070 \n",
      "save model (epoch 19) train rmse 1.201447, test rmse 1.296557 \n",
      "save model (epoch 20) train rmse 1.200457, test rmse 1.268254 \n",
      "save model (epoch 21) train rmse 1.127949, test rmse 1.206793 \n",
      "save model (epoch 24) train rmse 1.113807, test rmse 1.191229 \n",
      "save model (epoch 28) train rmse 1.102058, test rmse 1.183166 \n",
      "save model (epoch 36) train rmse 1.099072, test rmse 1.181233 \n",
      "save model (epoch 40) train rmse 1.097883, test rmse 1.180837 \n",
      "save model (epoch 44) train rmse 1.093117, test rmse 1.175013 \n",
      "save model (epoch 49) train rmse 1.087829, test rmse 1.168765 \n",
      "save model (epoch 53) train rmse 1.081605, test rmse 1.159939 \n",
      "fold 3,train rmse 1.090139,valid 1.171115\n",
      "save model (epoch 1) train rmse 16.762058, test rmse 16.659464 \n",
      "save model (epoch 2) train rmse 12.451804, test rmse 12.337801 \n",
      "save model (epoch 3) train rmse 6.303662, test rmse 6.506989 \n",
      "save model (epoch 6) train rmse 3.639259, test rmse 3.855642 \n",
      "save model (epoch 9) train rmse 1.874320, test rmse 2.054506 \n",
      "save model (epoch 12) train rmse 1.422620, test rmse 1.556046 \n",
      "save model (epoch 15) train rmse 1.410794, test rmse 1.499967 \n",
      "save model (epoch 16) train rmse 1.330558, test rmse 1.410861 \n",
      "save model (epoch 17) train rmse 1.266834, test rmse 1.401846 \n",
      "save model (epoch 19) train rmse 1.159580, test rmse 1.289968 \n",
      "save model (epoch 21) train rmse 1.129877, test rmse 1.251560 \n",
      "save model (epoch 24) train rmse 1.098926, test rmse 1.213639 \n",
      "save model (epoch 28) train rmse 1.092087, test rmse 1.212642 \n",
      "save model (epoch 29) train rmse 1.084709, test rmse 1.204306 \n",
      "save model (epoch 48) train rmse 1.078713, test rmse 1.204265 \n",
      "save model (epoch 53) train rmse 1.077949, test rmse 1.203646 \n",
      "save model (epoch 58) train rmse 1.073648, test rmse 1.199314 \n",
      "save model (epoch 61) train rmse 1.072645, test rmse 1.198318 \n",
      "save model (epoch 74) train rmse 1.070004, test rmse 1.195161 \n",
      "save model (epoch 77) train rmse 1.069720, test rmse 1.194702 \n",
      "fold 4,train rmse 1.072773,valid 1.197924\n",
      "\n",
      " 5-fold validation: avg train rmse 1.089573, avg valid rmse 1.157384\n"
     ]
    }
   ],
   "source": [
    "k, num_epochs, lr, weight_decay, batch_size = 5, 100, 0.05, 0.5, 800\n",
    "train_l, valid_l = k_fold(k, train_features, train_labels, num_epochs, lr,\n",
    "                          weight_decay, batch_size)\n",
    "print('\\n %d-fold validation: avg train rmse %f, avg valid rmse %f' %\n",
    "(k, train_l, valid_l))"
   ]
  },
  {
   "cell_type": "code",
   "execution_count": null,
   "metadata": {
    "collapsed": true
   },
   "outputs": [],
   "source": []
  },
  {
   "cell_type": "code",
   "execution_count": null,
   "metadata": {
    "collapsed": true
   },
   "outputs": [],
   "source": []
  },
  {
   "cell_type": "code",
   "execution_count": null,
   "metadata": {
    "collapsed": true
   },
   "outputs": [],
   "source": []
  },
  {
   "cell_type": "code",
   "execution_count": null,
   "metadata": {
    "collapsed": true
   },
   "outputs": [],
   "source": []
  },
  {
   "cell_type": "code",
   "execution_count": null,
   "metadata": {
    "collapsed": true
   },
   "outputs": [],
   "source": []
  },
  {
   "cell_type": "code",
   "execution_count": 21,
   "metadata": {
    "ExecuteTime": {
     "end_time": "2021-09-01T05:49:45.381019Z",
     "start_time": "2021-09-01T05:49:45.308015Z"
    },
    "collapsed": true
   },
   "outputs": [],
   "source": [
    "class NeuralNet(nn.Module):\n",
    "    ''' A simple fully-connected deep neural network '''\n",
    "    def __init__(self, input_dim):\n",
    "        super(NeuralNet, self).__init__()\n",
    "\n",
    "        # Define your neural network here\n",
    "        # TODO: How to modify this model to achieve better performance?\n",
    "        self.net = nn.Sequential(\n",
    "#             nn.BatchNorm1d(input_dim),\n",
    "#             nn.Linear(input_dim, 86),\n",
    "#             nn.ReLU(),\n",
    "# #             nn.BatchNorm1d(64),\n",
    "#             nn.Linear(86, 1)\n",
    "            nn.Linear(input_dim,1)\n",
    "        )\n",
    "\n",
    "        # Mean squared error loss\n",
    "        self.criterion = nn.MSELoss(reduction='mean')\n",
    "\n",
    "    def forward(self, x):\n",
    "        ''' Given input of size (batch_size x input_dim), compute output of the network '''\n",
    "        return self.net(x).squeeze(1)\n",
    "\n",
    "    def cal_loss(self, pred, target):\n",
    "        ''' Calculate loss '''\n",
    "        # TODO: you may implement L2 regularization here\n",
    "        return self.criterion(pred, target)"
   ]
  },
  {
   "cell_type": "code",
   "execution_count": 33,
   "metadata": {
    "ExecuteTime": {
     "end_time": "2021-09-01T06:01:17.549609Z",
     "start_time": "2021-09-01T06:01:17.507607Z"
    }
   },
   "outputs": [
    {
     "name": "stdout",
     "output_type": "stream",
     "text": [
      "15.147257804870605\n"
     ]
    }
   ],
   "source": [
    "model=model = NeuralNet(93)\n",
    "model_chk=torch.load(r'F:\\study\\ml\\HonyiLee2021\\Lhy_Machine_Learning-main\\01 Introduction\\models\\model.pth')\n",
    "model.load_state_dict(model_chk)\n",
    "\n",
    "train_mse=rmse(model,train_features,train_labels)\n",
    "print(train_mse)"
   ]
  },
  {
   "cell_type": "code",
   "execution_count": 34,
   "metadata": {
    "ExecuteTime": {
     "end_time": "2021-09-01T06:01:18.029637Z",
     "start_time": "2021-09-01T06:01:18.004635Z"
    }
   },
   "outputs": [
    {
     "data": {
      "text/plain": [
       "1.4321184158325195"
      ]
     },
     "execution_count": 34,
     "metadata": {},
     "output_type": "execute_result"
    }
   ],
   "source": [
    "model.eval()\n",
    "((model(train_features).view(-1,1).detach()-train_labels)**2).mean().item()"
   ]
  },
  {
   "cell_type": "code",
   "execution_count": null,
   "metadata": {
    "collapsed": true
   },
   "outputs": [],
   "source": [
    "model.eval()\n",
    "((model(train_features).view(-1,1).detach()-train_labels)**2).mean().item()"
   ]
  },
  {
   "cell_type": "code",
   "execution_count": 60,
   "metadata": {
    "ExecuteTime": {
     "end_time": "2021-09-01T07:53:08.398448Z",
     "start_time": "2021-09-01T07:53:08.364446Z"
    }
   },
   "outputs": [
    {
     "data": {
      "text/plain": [
       "1.4321180582046509"
      ]
     },
     "execution_count": 60,
     "metadata": {},
     "output_type": "execute_result"
    }
   ],
   "source": [
    "loss=nn.MSELoss()\n",
    "model.eval()\n",
    "loss(model(train_features).view(-1,1).detach() , train_labels).mean().item()"
   ]
  },
  {
   "cell_type": "code",
   "execution_count": 62,
   "metadata": {
    "ExecuteTime": {
     "end_time": "2021-09-01T07:55:13.829622Z",
     "start_time": "2021-09-01T07:55:13.810621Z"
    }
   },
   "outputs": [
    {
     "data": {
      "text/plain": [
       "tensor([[-0.4117, -0.5661, -0.4015, -0.3501, -0.9618,  1.3095,  0.9901,  1.7442,\n",
       "          1.2648,  1.2836,  1.4166, -0.6311, -1.1444, -0.6191, -0.8205, -1.8231,\n",
       "         -0.2361,  0.4382, -0.3616, -0.4875, -0.4080, -0.3551, -1.0991,  1.3260,\n",
       "          1.0272,  1.8005,  1.2503,  1.2497,  1.3251, -0.6742, -1.2312, -0.6082,\n",
       "         -0.9910, -1.8735, -0.1731,  0.5059, -0.2294, -0.3054, -0.3758, -0.3375,\n",
       "         -1.0290,  1.2156,  0.9943,  1.6239,  1.2857,  1.1208,  1.2708, -0.7290,\n",
       "         -1.1782, -0.5782, -0.9398, -1.7712, -0.1820],\n",
       "        [-0.3534, -0.4798, -0.3982, -0.3456, -1.0841,  1.3110,  1.0142,  1.7842,\n",
       "          1.2391,  1.2316,  1.3127, -0.6792, -1.2313, -0.6141, -0.9865, -1.8530,\n",
       "         -0.1689,  0.5118, -0.2211, -0.2978, -0.3665, -0.3290, -1.0159,  1.2019,\n",
       "          0.9844,  1.6035,  1.2721,  1.1039,  1.2580, -0.7323, -1.1820, -0.5856,\n",
       "         -0.9354, -1.7531, -0.1767,  0.5780, -0.0501, -0.1217, -0.4092, -0.3946,\n",
       "         -1.0876,  1.0830,  0.9917,  1.5324,  1.2628,  1.0850,  1.2647, -0.6923,\n",
       "         -1.2583, -0.7476, -1.0120, -1.7394, -0.3666],\n",
       "        [-0.2129, -0.2898, -0.3569, -0.3196, -1.0012,  1.1873,  0.9715,  1.5872,\n",
       "          1.2608,  1.0861,  1.2457, -0.7374, -1.1822, -0.5915, -0.9310, -1.7327,\n",
       "         -0.1725,  0.5838, -0.0418, -0.1141, -0.3998, -0.3860, -1.0744,  1.0698,\n",
       "          0.9818,  1.5121,  1.2493,  1.0682,  1.2519, -0.6956, -1.2621, -0.7555,\n",
       "         -1.0077, -1.7212, -0.3608,  0.6547, -0.0920, -0.1274, -0.3881, -0.4033,\n",
       "         -1.1142,  1.1866,  1.1147,  1.5530,  1.2471,  1.1104,  1.2726, -0.6589,\n",
       "         -1.0408, -0.4162, -1.0984, -1.8294, -0.3063],\n",
       "        [-0.0334, -0.1058, -0.3901, -0.3764, -1.0595,  1.0556,  0.9689,  1.4958,\n",
       "          1.2380,  1.0504,  1.2396, -0.7007, -1.2621, -0.7615, -1.0032, -1.7010,\n",
       "         -0.3564,  0.6603, -0.0837, -0.1198, -0.3788, -0.3947, -1.1009,  1.1730,\n",
       "          1.1046,  1.5327,  1.2336,  1.0935,  1.2598, -0.6623, -1.0446, -0.4232,\n",
       "         -1.0943, -1.8112, -0.3006,  0.6382, -0.1106, -0.1140, -0.3441, -0.3836,\n",
       "         -1.1481,  1.0454,  0.9615,  1.3696,  1.0671,  1.0481,  1.1399, -0.7520,\n",
       "         -1.2290, -0.4997, -1.1827, -2.0249, -0.3191],\n",
       "        [-0.0754, -0.1115, -0.3692, -0.3851, -1.0859,  1.1585,  1.0913,  1.5163,\n",
       "          1.2223,  1.0757,  1.2475, -0.6673, -1.0451, -0.4291, -1.0897, -1.7907,\n",
       "         -0.2963,  0.6439, -0.1023, -0.1063, -0.3350, -0.3750, -1.1348,  1.0323,\n",
       "          0.9517,  1.3495,  1.0541,  1.0313,  1.1273, -0.7553, -1.2328, -0.5069,\n",
       "         -1.1787, -2.0064, -0.3134,  0.4726, -0.2628, -0.2933, -0.3300, -0.3960,\n",
       "         -1.1039,  0.9793,  0.7785,  1.2289,  0.9812,  1.0995,  1.0689, -0.6925,\n",
       "         -1.4598, -0.3790, -1.1499, -2.0062, -0.2375]])"
      ]
     },
     "execution_count": 62,
     "metadata": {},
     "output_type": "execute_result"
    }
   ],
   "source": [
    "train_features[:5,40:]"
   ]
  },
  {
   "cell_type": "code",
   "execution_count": 36,
   "metadata": {
    "ExecuteTime": {
     "end_time": "2021-09-01T06:24:21.699778Z",
     "start_time": "2021-09-01T06:24:21.685777Z"
    },
    "collapsed": true
   },
   "outputs": [],
   "source": [
    "net=get_net(train_features.shape[1])\n",
    "net_chk=torch.load(r'F:\\study\\ml\\HonyiLee2021\\Lhy_Machine_Learning-main\\01 Introduction\\models\\model.wx')\n",
    "net.load_state_dict(net_chk)"
   ]
  },
  {
   "cell_type": "code",
   "execution_count": 37,
   "metadata": {
    "ExecuteTime": {
     "end_time": "2021-09-01T06:24:52.376533Z",
     "start_time": "2021-09-01T06:24:52.342531Z"
    }
   },
   "outputs": [
    {
     "data": {
      "text/plain": [
       "1.2438639714673627e-05"
      ]
     },
     "execution_count": 37,
     "metadata": {},
     "output_type": "execute_result"
    }
   ],
   "source": [
    "net.eval()\n",
    "((net(train_features).view(-1,1).detach()-train_labels)**2).mean().item()"
   ]
  },
  {
   "cell_type": "code",
   "execution_count": 55,
   "metadata": {
    "ExecuteTime": {
     "end_time": "2021-09-01T06:42:03.704521Z",
     "start_time": "2021-09-01T06:42:03.673519Z"
    }
   },
   "outputs": [
    {
     "data": {
      "text/plain": [
       "(893, 1)"
      ]
     },
     "execution_count": 55,
     "metadata": {},
     "output_type": "execute_result"
    }
   ],
   "source": [
    "net.eval()\n",
    "test_pred=net(test_features).view(-1,1).detach().numpy()\n",
    "test_data['tested_positive']=test_pred.reshape(1,-1)[0]\n",
    "submission=pd.concat([test_data['id'],test_data['tested_positive']],axis=1)\n",
    "submission\n",
    "test_pred.shape"
   ]
  },
  {
   "cell_type": "code",
   "execution_count": 58,
   "metadata": {
    "ExecuteTime": {
     "end_time": "2021-09-01T06:43:46.307390Z",
     "start_time": "2021-09-01T06:43:46.286389Z"
    },
    "collapsed": true
   },
   "outputs": [],
   "source": [
    "submission.to_csv(r'F:\\study\\ml\\HonyiLee2021\\Lhy_Machine_Learning-main\\01 Introduction\\dataset\\prednew68.csv',\n",
    "                 index=False)"
   ]
  },
  {
   "cell_type": "code",
   "execution_count": null,
   "metadata": {
    "collapsed": true
   },
   "outputs": [],
   "source": []
  }
 ],
 "metadata": {
  "kernelspec": {
   "display_name": "Python 3",
   "language": "python",
   "name": "python3"
  },
  "language_info": {
   "codemirror_mode": {
    "name": "ipython",
    "version": 3
   },
   "file_extension": ".py",
   "mimetype": "text/x-python",
   "name": "python",
   "nbconvert_exporter": "python",
   "pygments_lexer": "ipython3",
   "version": "3.6.3"
  }
 },
 "nbformat": 4,
 "nbformat_minor": 2
}
