{
 "cells": [
  {
   "cell_type": "code",
   "execution_count": 1,
   "metadata": {
    "ExecuteTime": {
     "end_time": "2021-08-11T05:18:11.964410Z",
     "start_time": "2021-08-11T05:18:11.960410Z"
    },
    "collapsed": true
   },
   "outputs": [],
   "source": [
    "import torch\n",
    "from torch import nn,optim\n",
    "import numpy as np\n",
    "import torchvision \n",
    "from torchvision import transforms"
   ]
  },
  {
   "cell_type": "code",
   "execution_count": 55,
   "metadata": {
    "ExecuteTime": {
     "end_time": "2021-08-11T06:40:38.145315Z",
     "start_time": "2021-08-11T06:40:38.096313Z"
    },
    "collapsed": true
   },
   "outputs": [],
   "source": [
    "batch_size=256\n",
    "mnist_train=torchvision.datasets.FashionMNIST(\n",
    "    root='F:\\study\\ml\\DataSet\\FashionMNIST',train=True,\n",
    "    download=True,transform=transforms.ToTensor())\n",
    "mnist_test=torchvision.datasets.FashionMNIST(\n",
    "    root='F:\\study\\ml\\DataSet\\FashionMNIST',train=False,\n",
    "    download=True,transform=transforms.ToTensor())"
   ]
  },
  {
   "cell_type": "code",
   "execution_count": 56,
   "metadata": {
    "ExecuteTime": {
     "end_time": "2021-08-11T06:40:38.389329Z",
     "start_time": "2021-08-11T06:40:38.381329Z"
    },
    "collapsed": true
   },
   "outputs": [],
   "source": [
    "train_iter=torch.utils.data.DataLoader(mnist_train,batch_size,shuffle=True)\n",
    "test_iter=torch.utils.data.DataLoader(mnist_test,batch_size,shuffle=True)"
   ]
  },
  {
   "cell_type": "code",
   "execution_count": 57,
   "metadata": {
    "ExecuteTime": {
     "end_time": "2021-08-11T06:40:38.707347Z",
     "start_time": "2021-08-11T06:40:38.669345Z"
    },
    "collapsed": true
   },
   "outputs": [],
   "source": [
    "num_inputs,num_outputs,num_hiddens=784,10,256\n",
    "w1=torch.Tensor(np.random.normal(0,0.01,(num_inputs,num_hiddens)))\n",
    "b1=torch.zeros(num_hiddens,dtype=torch.float32)\n",
    "w2=torch.Tensor(np.random.normal(0,0.01,(num_hiddens,num_outputs)))\n",
    "b2=torch.zeros(num_outputs,dtype=torch.float32)\n",
    "\n",
    "params=[w1,b1,w2,b2]\n",
    "for p in params:\n",
    "    p.requires_grad_(requires_grad=True)\n"
   ]
  },
  {
   "cell_type": "code",
   "execution_count": 58,
   "metadata": {
    "ExecuteTime": {
     "end_time": "2021-08-11T06:40:39.247378Z",
     "start_time": "2021-08-11T06:40:39.237378Z"
    },
    "collapsed": true
   },
   "outputs": [],
   "source": [
    "def relu(X):\n",
    "    return torch.max(input=X,other=torch.Tensor([0.0]))"
   ]
  },
  {
   "cell_type": "code",
   "execution_count": 59,
   "metadata": {
    "ExecuteTime": {
     "end_time": "2021-08-11T06:40:39.525394Z",
     "start_time": "2021-08-11T06:40:39.516394Z"
    },
    "collapsed": true
   },
   "outputs": [],
   "source": [
    "def net(X):\n",
    "    X=X.view((-1,num_inputs))\n",
    "    H=relu(torch.matmul(X,w1)+b1)\n",
    "    return torch.matmul(H,w2)+b2"
   ]
  },
  {
   "cell_type": "code",
   "execution_count": 61,
   "metadata": {
    "ExecuteTime": {
     "end_time": "2021-08-11T06:44:22.584153Z",
     "start_time": "2021-08-11T06:44:22.575152Z"
    }
   },
   "outputs": [],
   "source": [
    "def sgd(params,lr,batch_size):\n",
    "    for p in params:\n",
    "        p.data -= lr * p.grad/batch_size"
   ]
  },
  {
   "cell_type": "code",
   "execution_count": 62,
   "metadata": {
    "ExecuteTime": {
     "end_time": "2021-08-11T06:44:27.251419Z",
     "start_time": "2021-08-11T06:44:27.244419Z"
    },
    "collapsed": true
   },
   "outputs": [],
   "source": [
    "loss=nn.CrossEntropyLoss()"
   ]
  },
  {
   "cell_type": "code",
   "execution_count": 78,
   "metadata": {
    "ExecuteTime": {
     "end_time": "2021-08-11T07:37:05.305050Z",
     "start_time": "2021-08-11T07:37:05.280048Z"
    },
    "collapsed": true
   },
   "outputs": [],
   "source": [
    "def eval_acc(data_iter):\n",
    "    acc,n=0,0\n",
    "    for x,y in data_iter:\n",
    "        acc+=(net(x).argmax(dim=1)==y).float().sum().item()\n",
    "        n+=len(y)\n",
    "# #         print(net(x).argmax(dim=1))\n",
    "# #         print(y)\n",
    "#         print('-----------------------')\n",
    "#         print(acc)\n",
    "#     print('test acc:',acc/y)\n",
    "    return acc/n"
   ]
  },
  {
   "cell_type": "code",
   "execution_count": 80,
   "metadata": {
    "ExecuteTime": {
     "end_time": "2021-08-11T07:38:42.988637Z",
     "start_time": "2021-08-11T07:38:07.560611Z"
    }
   },
   "outputs": [
    {
     "name": "stdout",
     "output_type": "stream",
     "text": [
      "epoch 1,train loss : 0.766,train acc 0.719 ,test acc: 0.745\n",
      "epoch 2,train loss : 0.481,train acc 0.824 ,test acc: 0.826\n",
      "epoch 3,train loss : 0.426,train acc 0.844 ,test acc: 0.829\n",
      "epoch 4,train loss : 0.396,train acc 0.855 ,test acc: 0.837\n",
      "epoch 5,train loss : 0.371,train acc 0.863 ,test acc: 0.817\n"
     ]
    }
   ],
   "source": [
    "lr=100\n",
    "for i in range(5):\n",
    "    train_l,train_acc,test_acc,n=0,0,0,0\n",
    "    for x,y in train_iter:\n",
    "        y_hat=net(x)\n",
    "        l=loss(y_hat,y).sum()\n",
    "        \n",
    "        if params[0].grad is not None:\n",
    "            for p in params:\n",
    "                p.grad.data.zero_()\n",
    "        l.backward()\n",
    "        sgd(params,lr,batch_size)\n",
    "        train_l+=l.item()\n",
    "        train_acc+=(y_hat.argmax(dim=1)==y).float().sum().item()\n",
    "        n+=len(y)\n",
    "    test_acc=eval_acc(test_iter)\n",
    "    print('epoch %d,train loss : %.3f,train acc %.3f ,test acc: %.3f' % (\n",
    "    i+1,\n",
    "        train_l/235,\n",
    "        train_acc/n,\n",
    "        test_acc))\n",
    "        "
   ]
  },
  {
   "cell_type": "code",
   "execution_count": null,
   "metadata": {
    "collapsed": true
   },
   "outputs": [],
   "source": []
  },
  {
   "cell_type": "code",
   "execution_count": null,
   "metadata": {
    "collapsed": true
   },
   "outputs": [],
   "source": []
  },
  {
   "cell_type": "code",
   "execution_count": null,
   "metadata": {
    "collapsed": true
   },
   "outputs": [],
   "source": []
  },
  {
   "cell_type": "code",
   "execution_count": null,
   "metadata": {
    "collapsed": true
   },
   "outputs": [],
   "source": []
  }
 ],
 "metadata": {
  "kernelspec": {
   "display_name": "Python 3",
   "language": "python",
   "name": "python3"
  },
  "language_info": {
   "codemirror_mode": {
    "name": "ipython",
    "version": 3
   },
   "file_extension": ".py",
   "mimetype": "text/x-python",
   "name": "python",
   "nbconvert_exporter": "python",
   "pygments_lexer": "ipython3",
   "version": "3.6.3"
  }
 },
 "nbformat": 4,
 "nbformat_minor": 2
}
