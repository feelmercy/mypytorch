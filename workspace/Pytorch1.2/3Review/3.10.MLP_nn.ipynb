{
 "cells": [
  {
   "cell_type": "code",
   "execution_count": 1,
   "metadata": {
    "ExecuteTime": {
     "end_time": "2021-08-11T08:41:41.848775Z",
     "start_time": "2021-08-11T08:41:41.841775Z"
    },
    "collapsed": true
   },
   "outputs": [],
   "source": [
    "import torch\n",
    "from torch import nn,optim\n",
    "import numpy as np\n",
    "import torchvision \n",
    "from torchvision import transforms"
   ]
  },
  {
   "cell_type": "code",
   "execution_count": 2,
   "metadata": {
    "ExecuteTime": {
     "end_time": "2021-08-11T08:41:49.654222Z",
     "start_time": "2021-08-11T08:41:49.597219Z"
    },
    "collapsed": true
   },
   "outputs": [],
   "source": [
    "batch_size=256\n",
    "mnist_train=torchvision.datasets.FashionMNIST(\n",
    "    root='F:\\study\\ml\\DataSet\\FashionMNIST',train=True,\n",
    "    download=True,transform=transforms.ToTensor())\n",
    "mnist_test=torchvision.datasets.FashionMNIST(\n",
    "    root='F:\\study\\ml\\DataSet\\FashionMNIST',train=False,\n",
    "    download=True,transform=transforms.ToTensor())"
   ]
  },
  {
   "cell_type": "code",
   "execution_count": 3,
   "metadata": {
    "ExecuteTime": {
     "end_time": "2021-08-11T08:41:56.770629Z",
     "start_time": "2021-08-11T08:41:56.764629Z"
    },
    "collapsed": true
   },
   "outputs": [],
   "source": [
    "train_iter=torch.utils.data.DataLoader(mnist_train,batch_size,shuffle=True)\n",
    "test_iter=torch.utils.data.DataLoader(mnist_test,batch_size,shuffle=True)"
   ]
  },
  {
   "cell_type": "code",
   "execution_count": 4,
   "metadata": {
    "ExecuteTime": {
     "end_time": "2021-08-11T08:42:24.786231Z",
     "start_time": "2021-08-11T08:42:24.779231Z"
    },
    "collapsed": true
   },
   "outputs": [],
   "source": [
    "num_inputs,num_outputs,num_hiddens=784,10,256"
   ]
  },
  {
   "cell_type": "code",
   "execution_count": 13,
   "metadata": {
    "ExecuteTime": {
     "end_time": "2021-08-11T08:56:13.423627Z",
     "start_time": "2021-08-11T08:56:13.401625Z"
    },
    "collapsed": true
   },
   "outputs": [],
   "source": [
    "class MLPNet(nn.Module):\n",
    "    def __init__(self,num_inputs,num_hiddens,num_outputs):\n",
    "        super().__init__()\n",
    "        self.layer=nn.Sequential(nn.Linear(num_inputs,num_hiddens),\n",
    "                                nn.ReLU(),\n",
    "                                nn.Linear(num_hiddens,num_outputs))\n",
    "#         self.parameters=self.layer.parameters\n",
    "    def forward(self,x):\n",
    "        x=x.view(-1,784)\n",
    "        y=self.layer(x)\n",
    "        return y\n",
    "        "
   ]
  },
  {
   "cell_type": "code",
   "execution_count": 14,
   "metadata": {
    "ExecuteTime": {
     "end_time": "2021-08-11T08:56:14.027661Z",
     "start_time": "2021-08-11T08:56:14.020661Z"
    }
   },
   "outputs": [
    {
     "name": "stdout",
     "output_type": "stream",
     "text": [
      "torch.Size([256, 784])\n",
      "torch.Size([256])\n",
      "torch.Size([10, 256])\n",
      "torch.Size([10])\n"
     ]
    }
   ],
   "source": [
    "net=MLPNet(num_inputs,num_hiddens,num_outputs)\n",
    "for p in net.parameters():\n",
    "    print(p.shape)"
   ]
  },
  {
   "cell_type": "code",
   "execution_count": 15,
   "metadata": {
    "ExecuteTime": {
     "end_time": "2021-08-11T08:56:17.505860Z",
     "start_time": "2021-08-11T08:56:17.500860Z"
    }
   },
   "outputs": [
    {
     "name": "stdout",
     "output_type": "stream",
     "text": [
      "layer.0.weight torch.Size([256, 784])\n",
      "layer.0.bias torch.Size([256])\n",
      "layer.2.weight torch.Size([10, 256])\n",
      "layer.2.bias torch.Size([10])\n"
     ]
    }
   ],
   "source": [
    "for n,l in net.named_parameters():\n",
    "    print(n,l.shape)"
   ]
  },
  {
   "cell_type": "code",
   "execution_count": 17,
   "metadata": {
    "ExecuteTime": {
     "end_time": "2021-08-11T08:57:33.159187Z",
     "start_time": "2021-08-11T08:57:33.153187Z"
    }
   },
   "outputs": [
    {
     "name": "stdout",
     "output_type": "stream",
     "text": [
      "('layer', Sequential(\n",
      "  (0): Linear(in_features=784, out_features=256, bias=True)\n",
      "  (1): ReLU()\n",
      "  (2): Linear(in_features=256, out_features=10, bias=True)\n",
      "))\n"
     ]
    }
   ],
   "source": [
    "for i in net.named_children():\n",
    "    print(i)"
   ]
  },
  {
   "cell_type": "code",
   "execution_count": 19,
   "metadata": {
    "ExecuteTime": {
     "end_time": "2021-08-11T09:01:38.652229Z",
     "start_time": "2021-08-11T09:01:38.644228Z"
    },
    "collapsed": true
   },
   "outputs": [],
   "source": [
    "def eval_acc(data_iter):\n",
    "    acc,n = 0,0\n",
    "    for x,y in data_iter:\n",
    "        acc+=(net(x).argmax(dim=1)==y).float().sum()\n",
    "        n+=len(y)\n",
    "    return acc/n"
   ]
  },
  {
   "cell_type": "code",
   "execution_count": 18,
   "metadata": {
    "ExecuteTime": {
     "end_time": "2021-08-11T09:00:01.391666Z",
     "start_time": "2021-08-11T09:00:01.384665Z"
    },
    "collapsed": true
   },
   "outputs": [],
   "source": [
    "lr=0.5\n",
    "loss=nn.CrossEntropyLoss()\n",
    "optimizer=optim.SGD(net.parameters(),lr=lr)"
   ]
  },
  {
   "cell_type": "code",
   "execution_count": 20,
   "metadata": {
    "ExecuteTime": {
     "end_time": "2021-08-11T09:06:11.962861Z",
     "start_time": "2021-08-11T09:05:18.396797Z"
    }
   },
   "outputs": [
    {
     "name": "stdout",
     "output_type": "stream",
     "text": [
      "epoch 1 ,train loss 0.787,train acc 0.710,test acc 0.785\n",
      "epoch 2 ,train loss 0.479,train acc 0.822,test acc 0.830\n",
      "epoch 3 ,train loss 0.427,train acc 0.842,test acc 0.794\n",
      "epoch 4 ,train loss 0.388,train acc 0.857,test acc 0.842\n",
      "epoch 5 ,train loss 0.365,train acc 0.864,test acc 0.838\n"
     ]
    }
   ],
   "source": [
    "for i in range(5):\n",
    "    train_l,train_acc,test_acc,n=0,0,0,0\n",
    "    for x,y in train_iter:\n",
    "        y_hat=net(x)\n",
    "        l=loss(y_hat,y).sum()\n",
    "        \n",
    "        optimizer.zero_grad()\n",
    "        l.backward()\n",
    "        optimizer.step()\n",
    "        \n",
    "        train_l+=l.item()\n",
    "        train_acc+=(y_hat.argmax(dim=1)==y).float().sum()\n",
    "        n+=len(y)\n",
    "    test_acc=eval_acc(test_iter)\n",
    "    print('epoch %d ,train loss %.3f,train acc %.3f,test acc %.3f' % (\n",
    "    i+1,train_l/235,train_acc/n,test_acc))"
   ]
  },
  {
   "cell_type": "code",
   "execution_count": null,
   "metadata": {
    "collapsed": true
   },
   "outputs": [],
   "source": []
  }
 ],
 "metadata": {
  "kernelspec": {
   "display_name": "Python 3",
   "language": "python",
   "name": "python3"
  },
  "language_info": {
   "codemirror_mode": {
    "name": "ipython",
    "version": 3
   },
   "file_extension": ".py",
   "mimetype": "text/x-python",
   "name": "python",
   "nbconvert_exporter": "python",
   "pygments_lexer": "ipython3",
   "version": "3.6.3"
  }
 },
 "nbformat": 4,
 "nbformat_minor": 2
}
