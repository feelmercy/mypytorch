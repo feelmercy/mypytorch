{
 "cells": [
  {
   "cell_type": "markdown",
   "id": "1c7eac52",
   "metadata": {},
   "source": [
    "#### 最小二乘法 三基站"
   ]
  },
  {
   "cell_type": "code",
   "execution_count": 1,
   "id": "dcb03c6a",
   "metadata": {
    "ExecuteTime": {
     "end_time": "2022-07-08T02:28:32.439885Z",
     "start_time": "2022-07-08T02:28:32.430894Z"
    }
   },
   "outputs": [],
   "source": [
    "def uwb3_loc3(x1,y1,d1,x2,y2,d2,x3,y3,d3):\n",
    "#     matrix A\n",
    "    A11=2*(x1-x3)\n",
    "    A12=2*(y1-y3)\n",
    "    A21=2*(x2-x3)\n",
    "    A22=2*(y2-y3)\n",
    "    B1=x1**2-x3**2+y1**2-y3**2+d3**2-d1**2\n",
    "    B2=x2**2-x3**2+y2**2-y3**2+d3**2-d2**2\n",
    "    xx=(B1*A22-A12*B2)/(A11*A22-A12*A21)\n",
    "    yy=(A11*B2-B1*A21)/(A11*A22-A12*A21)\n",
    "    print(A11*A22-A12*A21)\n",
    "    print(B1*A22-A12*B2)\n",
    "    print(A11*B2-B1*A21)\n",
    "    return xx,yy\n",
    "    "
   ]
  },
  {
   "cell_type": "code",
   "execution_count": 2,
   "id": "c7771986",
   "metadata": {
    "ExecuteTime": {
     "end_time": "2022-07-08T02:28:32.892613Z",
     "start_time": "2022-07-08T02:28:32.876621Z"
    }
   },
   "outputs": [
    {
     "name": "stdout",
     "output_type": "stream",
     "text": [
      "-40000\n",
      "-4035200\n",
      "-7936000\n"
     ]
    },
    {
     "data": {
      "text/plain": [
       "(100.88, 198.4)"
      ]
     },
     "execution_count": 2,
     "metadata": {},
     "output_type": "execute_result"
    }
   ],
   "source": [
    "uwb3_loc3(0,0,224,100,0,200,0,-100,316)"
   ]
  },
  {
   "cell_type": "code",
   "execution_count": 3,
   "id": "a331f567",
   "metadata": {
    "ExecuteTime": {
     "end_time": "2022-07-08T02:28:33.589131Z",
     "start_time": "2022-07-08T02:28:33.571651Z"
    }
   },
   "outputs": [],
   "source": [
    "def uwb3_loc32(x1,y1,d1,x2,y2,d2,x3,y3,d3):\n",
    "    A11=2*(x2-x1)\n",
    "    A12=2*(y2-y1)\n",
    "    A21=2*(x3-x2)\n",
    "    A22=2*(y3-y2)\n",
    "    B1=d1**2-d2**2-(x1**2+y1**2)+x2**2+y2**2\n",
    "    B2=d2**2-d3**2-(x2**2+y2**2)+x3**2+y3**2\n",
    "    xx=(B1*A22-A12*B2)/(A11*A22-A12*A21)\n",
    "    yy=(A11*B2-B1*A21)/(A11*A22-A12*A21)\n",
    "    print(A11*A22-A12*A21)\n",
    "    print(B1*A22-A12*B2)\n",
    "    print(A11*B2-B1*A21)\n",
    "    return xx,yy"
   ]
  },
  {
   "cell_type": "code",
   "execution_count": 18,
   "id": "d2ee7cd9",
   "metadata": {
    "ExecuteTime": {
     "end_time": "2022-06-07T06:44:50.242814Z",
     "start_time": "2022-06-07T06:44:50.235813Z"
    }
   },
   "outputs": [
    {
     "name": "stdout",
     "output_type": "stream",
     "text": [
      "-40000\n",
      "-4035200\n",
      "-7936000\n"
     ]
    },
    {
     "data": {
      "text/plain": [
       "(100.88, 198.4)"
      ]
     },
     "execution_count": 18,
     "metadata": {},
     "output_type": "execute_result"
    }
   ],
   "source": [
    "uwb3_loc32(0,0,224,100,0,200,0,-100,316)"
   ]
  },
  {
   "cell_type": "code",
   "execution_count": 4,
   "id": "2e91dd90",
   "metadata": {
    "ExecuteTime": {
     "end_time": "2022-07-08T02:28:45.363153Z",
     "start_time": "2022-07-08T02:28:45.357156Z"
    }
   },
   "outputs": [
    {
     "name": "stdout",
     "output_type": "stream",
     "text": [
      "-40000\n",
      "-4035200\n",
      "-9744800\n"
     ]
    },
    {
     "data": {
      "text/plain": [
       "(100.88, 243.62)"
      ]
     },
     "execution_count": 4,
     "metadata": {},
     "output_type": "execute_result"
    }
   ],
   "source": [
    "uwb3_loc32(0,0,224,100,0,200,0,-100,330)"
   ]
  },
  {
   "cell_type": "code",
   "execution_count": 7,
   "id": "1bdad663",
   "metadata": {
    "ExecuteTime": {
     "end_time": "2022-07-08T02:35:01.398353Z",
     "start_time": "2022-07-08T02:35:01.389358Z"
    }
   },
   "outputs": [
    {
     "name": "stdout",
     "output_type": "stream",
     "text": [
      "-40000\n",
      "-5185000\n",
      "-9115000\n"
     ]
    },
    {
     "data": {
      "text/plain": [
       "(129.625, 227.875)"
      ]
     },
     "execution_count": 7,
     "metadata": {},
     "output_type": "execute_result"
    }
   ],
   "source": [
    "uwb3_loc32(0,0,245,100,0,210,0,-100,340)"
   ]
  },
  {
   "cell_type": "code",
   "execution_count": null,
   "id": "e952651e",
   "metadata": {},
   "outputs": [],
   "source": []
  },
  {
   "cell_type": "code",
   "execution_count": null,
   "id": "6beae440",
   "metadata": {},
   "outputs": [],
   "source": []
  }
 ],
 "metadata": {
  "kernelspec": {
   "display_name": "Python 3",
   "language": "python",
   "name": "python3"
  },
  "language_info": {
   "codemirror_mode": {
    "name": "ipython",
    "version": 3
   },
   "file_extension": ".py",
   "mimetype": "text/x-python",
   "name": "python",
   "nbconvert_exporter": "python",
   "pygments_lexer": "ipython3",
   "version": "3.8.8"
  }
 },
 "nbformat": 4,
 "nbformat_minor": 5
}
