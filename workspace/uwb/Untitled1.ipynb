{
 "cells": [
  {
   "cell_type": "code",
   "execution_count": 18,
   "metadata": {
    "ExecuteTime": {
     "end_time": "2022-05-12T09:26:45.270572Z",
     "start_time": "2022-05-12T09:26:45.266072Z"
    },
    "collapsed": true
   },
   "outputs": [],
   "source": [
    "import numpy as np\n",
    "import math"
   ]
  },
  {
   "cell_type": "code",
   "execution_count": null,
   "metadata": {
    "collapsed": true
   },
   "outputs": [],
   "source": []
  },
  {
   "cell_type": "code",
   "execution_count": 19,
   "metadata": {
    "ExecuteTime": {
     "end_time": "2022-05-12T09:26:45.627618Z",
     "start_time": "2022-05-12T09:26:45.603615Z"
    },
    "collapsed": true
   },
   "outputs": [],
   "source": [
    "def uwb_loc(ax,ay,atheta1,atheta2,adist,bx,by,btheta1,btheta2,bdist):\n",
    "    def _get_data(theta1,theta2,dist):\n",
    "        d1=dist*np.cos(abs(math.radians(theta1)))*np.cos(abs(math.radians(theta2)))\n",
    "        d2=dist*np.cos(abs(math.radians(theta1)))*np.sin(abs(math.radians(theta2)))\n",
    "        return d1,d2\n",
    "    ad1,ad2=_get_data(atheta1,atheta2,adist)\n",
    "    bd1,bd2=_get_data(btheta1,btheta2,bdist)\n",
    "    print(ad1,ad2)\n",
    "    print(bd1,bd2)\n",
    "    \n",
    "    if atheta2<0:\n",
    "        ax2=ax-ad1\n",
    "    else:\n",
    "        ax2=ax+ad1\n",
    "    print(ax2)\n",
    "    if btheta2<0:\n",
    "        by2=by=bd1\n",
    "    else:\n",
    "        by2=by+bd1\n",
    "    print(by2)\n",
    "    return (ax+ax2)/2,(by+by2)/2"
   ]
  },
  {
   "cell_type": "code",
   "execution_count": 20,
   "metadata": {
    "ExecuteTime": {
     "end_time": "2022-05-12T09:26:45.764135Z",
     "start_time": "2022-05-12T09:26:45.756134Z"
    }
   },
   "outputs": [
    {
     "name": "stdout",
     "output_type": "stream",
     "text": [
      "2.0 0.0\n",
      "2.0 0.0\n",
      "4.0\n",
      "4.0\n"
     ]
    },
    {
     "data": {
      "text/plain": [
       "(3.0, 3.0)"
      ]
     },
     "execution_count": 20,
     "metadata": {},
     "output_type": "execute_result"
    }
   ],
   "source": [
    "uwb_loc(2,0,0,0,2,0,2,0,0,2)"
   ]
  },
  {
   "cell_type": "code",
   "execution_count": 21,
   "metadata": {
    "ExecuteTime": {
     "end_time": "2022-05-12T09:26:45.906653Z",
     "start_time": "2022-05-12T09:26:45.903153Z"
    }
   },
   "outputs": [
    {
     "data": {
      "text/plain": [
       "1.2490457723982544"
      ]
     },
     "execution_count": 21,
     "metadata": {},
     "output_type": "execute_result"
    }
   ],
   "source": [
    "np.arcsin(3/(10**(1/2)))"
   ]
  },
  {
   "cell_type": "code",
   "execution_count": 22,
   "metadata": {
    "ExecuteTime": {
     "end_time": "2022-05-12T09:26:46.049671Z",
     "start_time": "2022-05-12T09:26:46.046171Z"
    }
   },
   "outputs": [
    {
     "data": {
      "text/plain": [
       "0.5235987755982989"
      ]
     },
     "execution_count": 22,
     "metadata": {},
     "output_type": "execute_result"
    }
   ],
   "source": [
    "np.arcsin(1/2)"
   ]
  },
  {
   "cell_type": "code",
   "execution_count": 23,
   "metadata": {
    "ExecuteTime": {
     "end_time": "2022-05-12T09:26:46.223693Z",
     "start_time": "2022-05-12T09:26:46.220193Z"
    }
   },
   "outputs": [
    {
     "data": {
      "text/plain": [
       "90.0"
      ]
     },
     "execution_count": 23,
     "metadata": {},
     "output_type": "execute_result"
    }
   ],
   "source": [
    "np.arcsin(1)/np.pi*180"
   ]
  },
  {
   "cell_type": "code",
   "execution_count": 24,
   "metadata": {
    "ExecuteTime": {
     "end_time": "2022-05-12T09:26:46.379213Z",
     "start_time": "2022-05-12T09:26:46.371712Z"
    }
   },
   "outputs": [
    {
     "data": {
      "text/plain": [
       "0.8660254037844386"
      ]
     },
     "execution_count": 24,
     "metadata": {},
     "output_type": "execute_result"
    }
   ],
   "source": [
    "math.sin(math.radians(60))"
   ]
  },
  {
   "cell_type": "code",
   "execution_count": 25,
   "metadata": {
    "ExecuteTime": {
     "end_time": "2022-05-12T09:26:46.511730Z",
     "start_time": "2022-05-12T09:26:46.506229Z"
    }
   },
   "outputs": [
    {
     "data": {
      "text/plain": [
       "0.7071067811865476"
      ]
     },
     "execution_count": 25,
     "metadata": {},
     "output_type": "execute_result"
    }
   ],
   "source": [
    "math.sin(math.radians(45))"
   ]
  },
  {
   "cell_type": "code",
   "execution_count": 26,
   "metadata": {
    "ExecuteTime": {
     "end_time": "2022-05-12T09:26:46.690253Z",
     "start_time": "2022-05-12T09:26:46.686752Z"
    }
   },
   "outputs": [
    {
     "data": {
      "text/plain": [
       "1.719131320877811"
      ]
     },
     "execution_count": 26,
     "metadata": {},
     "output_type": "execute_result"
    }
   ],
   "source": [
    "np.arcsin(3/(10**2))/np.pi*180"
   ]
  },
  {
   "cell_type": "code",
   "execution_count": 27,
   "metadata": {
    "ExecuteTime": {
     "end_time": "2022-05-12T09:26:46.811268Z",
     "start_time": "2022-05-12T09:26:46.806267Z"
    }
   },
   "outputs": [
    {
     "data": {
      "text/plain": [
       "30.000000000000004"
      ]
     },
     "execution_count": 27,
     "metadata": {},
     "output_type": "execute_result"
    }
   ],
   "source": [
    "np.arcsin(0.5)/np.pi*180"
   ]
  },
  {
   "cell_type": "code",
   "execution_count": 28,
   "metadata": {
    "ExecuteTime": {
     "end_time": "2022-05-12T09:26:47.033796Z",
     "start_time": "2022-05-12T09:26:47.029796Z"
    }
   },
   "outputs": [
    {
     "data": {
      "text/plain": [
       "0.9486832980505138"
      ]
     },
     "execution_count": 28,
     "metadata": {},
     "output_type": "execute_result"
    }
   ],
   "source": [
    "math.sin(math.radians(np.arcsin(3/(10**0.5))/np.pi*180))"
   ]
  },
  {
   "cell_type": "code",
   "execution_count": 29,
   "metadata": {
    "ExecuteTime": {
     "end_time": "2022-05-12T09:26:47.250324Z",
     "start_time": "2022-05-12T09:26:47.246323Z"
    }
   },
   "outputs": [
    {
     "data": {
      "text/plain": [
       "1.2490457723982544"
      ]
     },
     "execution_count": 29,
     "metadata": {},
     "output_type": "execute_result"
    }
   ],
   "source": [
    "math.radians(np.arcsin(3/(10**0.5))/np.pi*180)"
   ]
  },
  {
   "cell_type": "code",
   "execution_count": 30,
   "metadata": {
    "ExecuteTime": {
     "end_time": "2022-05-12T09:26:47.537360Z",
     "start_time": "2022-05-12T09:26:47.534360Z"
    }
   },
   "outputs": [
    {
     "data": {
      "text/plain": [
       "0.9486832980505138"
      ]
     },
     "execution_count": 30,
     "metadata": {},
     "output_type": "execute_result"
    }
   ],
   "source": [
    "3/(10**0.5)"
   ]
  },
  {
   "cell_type": "code",
   "execution_count": 31,
   "metadata": {
    "ExecuteTime": {
     "end_time": "2022-05-12T09:26:47.849900Z",
     "start_time": "2022-05-12T09:26:47.846400Z"
    }
   },
   "outputs": [
    {
     "data": {
      "text/plain": [
       "71.56505117707799"
      ]
     },
     "execution_count": 31,
     "metadata": {},
     "output_type": "execute_result"
    }
   ],
   "source": [
    "np.arcsin(3/(10**0.5))/np.pi*180"
   ]
  },
  {
   "cell_type": "code",
   "execution_count": 32,
   "metadata": {
    "ExecuteTime": {
     "end_time": "2022-05-12T09:26:48.146438Z",
     "start_time": "2022-05-12T09:26:48.142437Z"
    }
   },
   "outputs": [
    {
     "data": {
      "text/plain": [
       "18.43494882292201"
      ]
     },
     "execution_count": 32,
     "metadata": {},
     "output_type": "execute_result"
    }
   ],
   "source": [
    "90-np.arcsin(3/(10**0.5))/np.pi*180"
   ]
  },
  {
   "cell_type": "code",
   "execution_count": 33,
   "metadata": {
    "ExecuteTime": {
     "end_time": "2022-05-12T09:26:48.636000Z",
     "start_time": "2022-05-12T09:26:48.603996Z"
    },
    "collapsed": true
   },
   "outputs": [],
   "source": [
    "def uwb_loc(ax,ay,atheta1,atheta2,adist,bx,by,btheta1,btheta2,bdist):\n",
    "    def _get_data(theta1,theta2,dist):\n",
    "        d1=dist*np.cos(abs(math.radians(90-abs(theta1))))*np.cos(math.radians(90-abs(theta2)))\n",
    "        d2=dist*np.cos(abs(math.radians(90-abs(theta1))))*np.sin(math.radians(90-abs(theta2)))\n",
    "        return d1,d2\n",
    "    ad1,ad2=_get_data(atheta1,atheta2,adist)\n",
    "    bd1,bd2=_get_data(btheta1,btheta2,bdist)\n",
    "#     print(ad1,ad2)\n",
    "#     print(bd1,bd2)\n",
    "    \n",
    "    if atheta2<0:\n",
    "        ax2=ax-ad1\n",
    "    else:\n",
    "        ax2=ax+ad1\n",
    "#     print(ax2)\n",
    "    if btheta2<0:\n",
    "        by2=by=bd1\n",
    "    else:\n",
    "        by2=by+bd1\n",
    "#     print(by2)\n",
    "    \n",
    "    \n",
    "#     print(ad2,ax2)\n",
    "#     print(bd2,by2)\n",
    "    \n",
    "    return (ad2+ax2)/2,(bd2+by2)/2"
   ]
  },
  {
   "cell_type": "code",
   "execution_count": 34,
   "metadata": {
    "ExecuteTime": {
     "end_time": "2022-05-12T09:26:49.242577Z",
     "start_time": "2022-05-12T09:26:49.235576Z"
    }
   },
   "outputs": [
    {
     "data": {
      "text/plain": [
       "(3.0000881518988702, 3.0000881518988702)"
      ]
     },
     "execution_count": 34,
     "metadata": {},
     "output_type": "execute_result"
    }
   ],
   "source": [
    "uwb_loc(2,0,90,18.44,10**0.5,0,2,90,18.44,10**0.5)"
   ]
  },
  {
   "cell_type": "code",
   "execution_count": 35,
   "metadata": {
    "ExecuteTime": {
     "end_time": "2022-05-12T09:26:49.825651Z",
     "start_time": "2022-05-12T09:26:49.818650Z"
    }
   },
   "outputs": [
    {
     "data": {
      "text/plain": [
       "(1.0, 1.0000000000000002)"
      ]
     },
     "execution_count": 35,
     "metadata": {},
     "output_type": "execute_result"
    }
   ],
   "source": [
    "uwb_loc(2,0,90,-45,2**0.5,0,2,90,-45,2**0.5)"
   ]
  },
  {
   "cell_type": "code",
   "execution_count": null,
   "metadata": {
    "collapsed": true
   },
   "outputs": [],
   "source": []
  },
  {
   "cell_type": "code",
   "execution_count": null,
   "metadata": {
    "collapsed": true
   },
   "outputs": [],
   "source": []
  },
  {
   "cell_type": "code",
   "execution_count": null,
   "metadata": {
    "collapsed": true
   },
   "outputs": [],
   "source": []
  },
  {
   "cell_type": "code",
   "execution_count": 57,
   "metadata": {
    "ExecuteTime": {
     "end_time": "2022-05-11T09:05:27.321751Z",
     "start_time": "2022-05-11T09:05:27.308249Z"
    },
    "collapsed": true
   },
   "outputs": [],
   "source": [
    "def get_data(theta1,theta2,dist):\n",
    "    d1=dist*np.cos(abs(math.radians(theta1)))*np.cos(abs(math.radians(theta2)))\n",
    "    d2=dist*np.cos(abs(math.radians(theta1)))*np.sin(abs(math.radians(theta2)))\n",
    "    return d1,d2"
   ]
  },
  {
   "cell_type": "code",
   "execution_count": 58,
   "metadata": {
    "ExecuteTime": {
     "end_time": "2022-05-11T09:05:27.772308Z",
     "start_time": "2022-05-11T09:05:27.760307Z"
    }
   },
   "outputs": [
    {
     "data": {
      "text/plain": [
       "(0.9997408765078917, 3.0000863620634712)"
      ]
     },
     "execution_count": 58,
     "metadata": {},
     "output_type": "execute_result"
    }
   ],
   "source": [
    "get_data(0,71.57,10**0.5)"
   ]
  },
  {
   "cell_type": "code",
   "execution_count": 91,
   "metadata": {
    "ExecuteTime": {
     "end_time": "2022-05-11T09:23:38.941369Z",
     "start_time": "2022-05-11T09:23:38.923867Z"
    },
    "collapsed": true
   },
   "outputs": [],
   "source": [
    "def get_data2(theta1,theta2,dist):\n",
    "    d1=dist*np.cos(abs(math.radians(90-abs(theta1))))*np.cos(math.radians(90-abs(theta2)))\n",
    "    d2=dist*np.cos(abs(math.radians(90-abs(theta1))))*np.sin(math.radians(90-abs(theta2)))\n",
    "    return d1,d2"
   ]
  },
  {
   "cell_type": "code",
   "execution_count": 92,
   "metadata": {
    "ExecuteTime": {
     "end_time": "2022-05-11T09:23:39.430931Z",
     "start_time": "2022-05-11T09:23:39.422930Z"
    }
   },
   "outputs": [
    {
     "data": {
      "text/plain": [
       "(1.0002644751269303, 2.9999118286708106)"
      ]
     },
     "execution_count": 92,
     "metadata": {},
     "output_type": "execute_result"
    }
   ],
   "source": [
    "get_data2(90,18.44,10**0.5)"
   ]
  },
  {
   "cell_type": "code",
   "execution_count": 86,
   "metadata": {
    "ExecuteTime": {
     "end_time": "2022-05-11T09:22:38.107144Z",
     "start_time": "2022-05-11T09:22:38.093142Z"
    }
   },
   "outputs": [
    {
     "data": {
      "text/plain": [
       "1.0"
      ]
     },
     "execution_count": 86,
     "metadata": {},
     "output_type": "execute_result"
    }
   ],
   "source": [
    "np.cos(abs(math.radians(90-abs(90))))"
   ]
  },
  {
   "cell_type": "code",
   "execution_count": 88,
   "metadata": {
    "ExecuteTime": {
     "end_time": "2022-05-11T09:23:01.362597Z",
     "start_time": "2022-05-11T09:23:01.349596Z"
    }
   },
   "outputs": [
    {
     "data": {
      "text/plain": [
       "0.5000000000000001"
      ]
     },
     "execution_count": 88,
     "metadata": {},
     "output_type": "execute_result"
    }
   ],
   "source": [
    "np.cos(math.radians(90-abs(30)))"
   ]
  },
  {
   "cell_type": "code",
   "execution_count": null,
   "metadata": {
    "collapsed": true
   },
   "outputs": [],
   "source": []
  }
 ],
 "metadata": {
  "kernelspec": {
   "display_name": "Python 3",
   "language": "python",
   "name": "python3"
  },
  "language_info": {
   "codemirror_mode": {
    "name": "ipython",
    "version": 3
   },
   "file_extension": ".py",
   "mimetype": "text/x-python",
   "name": "python",
   "nbconvert_exporter": "python",
   "pygments_lexer": "ipython3",
   "version": "3.8.8"
  }
 },
 "nbformat": 4,
 "nbformat_minor": 2
}
