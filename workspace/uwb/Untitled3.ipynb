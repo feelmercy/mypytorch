{
 "cells": [
  {
   "cell_type": "code",
   "execution_count": 1,
   "id": "0c92bde3",
   "metadata": {
    "ExecuteTime": {
     "end_time": "2022-05-26T01:09:39.580594Z",
     "start_time": "2022-05-26T01:09:36.567211Z"
    }
   },
   "outputs": [],
   "source": [
    "import numpy as np\n",
    "import math"
   ]
  },
  {
   "cell_type": "code",
   "execution_count": 2,
   "id": "544dbb31",
   "metadata": {
    "ExecuteTime": {
     "end_time": "2022-05-26T01:09:39.622099Z",
     "start_time": "2022-05-26T01:09:39.588095Z"
    }
   },
   "outputs": [
    {
     "name": "stdout",
     "output_type": "stream",
     "text": [
      "1\n",
      "2\n"
     ]
    }
   ],
   "source": [
    "a=(1,2,3)\n",
    "b=(2,3,5)\n",
    "for i in [a,b]:\n",
    "    print(i[0])"
   ]
  },
  {
   "cell_type": "code",
   "execution_count": 3,
   "id": "e456c1b1",
   "metadata": {
    "ExecuteTime": {
     "end_time": "2022-05-26T01:09:40.565719Z",
     "start_time": "2022-05-26T01:09:40.547717Z"
    }
   },
   "outputs": [],
   "source": [
    "def uwb_loc4(a,b,c,d,pr):\n",
    "    A=np.zeros((3,3))\n",
    "    B=np.zeros((3,1))\n",
    "    l=[a,b,c,d]\n",
    "    for i in range(3):\n",
    "        for j in range(3):\n",
    "            A[i,j]=(l[i+1][j]-l[i][j])*2\n",
    "    for i in range(3):\n",
    "        B[i,:]=(pr[i]**2-pr[i+1]**2+sum([j**2 for j in l[i+1]])-sum([j**2 for j in l[i]]))\n",
    "    print(A)\n",
    "    print(B)\n",
    "    print('---------')\n",
    "    denominator=np.linalg.inv(np.matmul(A.transpose(),A))\n",
    "    nominator=np.matmul(A.transpose(),B)\n",
    "    print('denominator',denominator.shape)\n",
    "    print('---------')\n",
    "    print('nominator',nominator.shape)\n",
    "    print('---------')\n",
    "    print(np.matmul(denominator,nominator))\n",
    "    \n",
    "    \n",
    "    "
   ]
  },
  {
   "cell_type": "code",
   "execution_count": 4,
   "id": "89b5be2d",
   "metadata": {
    "ExecuteTime": {
     "end_time": "2022-05-26T01:09:41.750369Z",
     "start_time": "2022-05-26T01:09:40.996774Z"
    }
   },
   "outputs": [
    {
     "name": "stdout",
     "output_type": "stream",
     "text": [
      "[[ 10.   0.   0.]\n",
      " [-10.  10.   0.]\n",
      " [  0. -10.  10.]]\n",
      "[[ 20.]\n",
      " [-20.]\n",
      " [  0.]]\n",
      "---------\n",
      "denominator (3, 3)\n",
      "---------\n",
      "nominator (3, 1)\n",
      "---------\n",
      "[[2.]\n",
      " [0.]\n",
      " [0.]]\n"
     ]
    }
   ],
   "source": [
    "uwb_loc4((0,0,0),(5,0,0),(0,5,0),(0,0,5),(2,3,np.sqrt(29),np.sqrt(29)))"
   ]
  },
  {
   "cell_type": "code",
   "execution_count": 5,
   "id": "5635485c",
   "metadata": {
    "ExecuteTime": {
     "end_time": "2022-05-26T01:09:41.775373Z",
     "start_time": "2022-05-26T01:09:41.757870Z"
    }
   },
   "outputs": [
    {
     "name": "stdout",
     "output_type": "stream",
     "text": [
      "3.534416500640523\n",
      "5.593040318109641\n",
      "5.685472715614772\n",
      "12.510479607113389\n"
     ]
    }
   ],
   "source": [
    "xyz=(3.59, 2.64, 1.12)\n",
    "for i in [(5,0,3,25),(0,0,4.5),(0,6.5,3.25),(15,6.5,4.5)]:\n",
    "    d=0\n",
    "    for j in range(3):\n",
    "        d+=(xyz[j]-i[j])**2\n",
    "    print(np.sqrt(d))"
   ]
  },
  {
   "cell_type": "code",
   "execution_count": 6,
   "id": "0563b857",
   "metadata": {
    "ExecuteTime": {
     "end_time": "2022-05-26T01:09:42.299439Z",
     "start_time": "2022-05-26T01:09:42.291938Z"
    }
   },
   "outputs": [],
   "source": [
    "A=np.array([[ 10. ,  0. ,  0.],\n",
    " [-10.,  10. ,  0.],\n",
    " [  0., -10. , 10.]])"
   ]
  },
  {
   "cell_type": "code",
   "execution_count": 14,
   "id": "f8d997b7",
   "metadata": {
    "ExecuteTime": {
     "end_time": "2022-05-26T01:11:52.049915Z",
     "start_time": "2022-05-26T01:11:52.045415Z"
    }
   },
   "outputs": [],
   "source": [
    "B=np.array([[ 20.],\n",
    " [-20.],\n",
    " [  0.]])"
   ]
  },
  {
   "cell_type": "code",
   "execution_count": 7,
   "id": "f8e5cf09",
   "metadata": {
    "ExecuteTime": {
     "end_time": "2022-05-26T01:09:42.800503Z",
     "start_time": "2022-05-26T01:09:42.772499Z"
    }
   },
   "outputs": [
    {
     "data": {
      "text/plain": [
       "array([[250.   ,   0.   ,  11.25 ],\n",
       "       [  0.   ,  42.25 ,  -8.125],\n",
       "       [ 11.25 ,  -8.125,   5.375]])"
      ]
     },
     "execution_count": 7,
     "metadata": {},
     "output_type": "execute_result"
    }
   ],
   "source": [
    "np.matmul(A.transpose(),A)"
   ]
  },
  {
   "cell_type": "code",
   "execution_count": 8,
   "id": "427eed21",
   "metadata": {
    "ExecuteTime": {
     "end_time": "2022-05-26T01:09:43.266562Z",
     "start_time": "2022-05-26T01:09:43.252560Z"
    }
   },
   "outputs": [
    {
     "data": {
      "text/plain": [
       "array([[ 0.00461248, -0.00261742, -0.01361059],\n",
       "       [-0.00261742,  0.0348542 ,  0.0581649 ],\n",
       "       [-0.01361059,  0.0581649 ,  0.30245747]])"
      ]
     },
     "execution_count": 8,
     "metadata": {},
     "output_type": "execute_result"
    }
   ],
   "source": [
    "np.linalg.inv(np.matmul(A.transpose(),A))"
   ]
  },
  {
   "cell_type": "code",
   "execution_count": 9,
   "id": "06f58ef0",
   "metadata": {
    "ExecuteTime": {
     "end_time": "2022-05-26T01:09:43.802130Z",
     "start_time": "2022-05-26T01:09:43.788628Z"
    }
   },
   "outputs": [
    {
     "data": {
      "text/plain": [
       "array([[250.   ,   0.   ,  11.25 ],\n",
       "       [  0.   ,  42.25 ,  -8.125],\n",
       "       [ 11.25 ,  -8.125,   5.375]])"
      ]
     },
     "execution_count": 9,
     "metadata": {},
     "output_type": "execute_result"
    }
   ],
   "source": [
    "np.matmul(A.transpose(),A)"
   ]
  },
  {
   "cell_type": "code",
   "execution_count": 10,
   "id": "f74853bc",
   "metadata": {
    "ExecuteTime": {
     "end_time": "2022-05-26T01:09:44.811258Z",
     "start_time": "2022-05-26T01:09:44.796256Z"
    }
   },
   "outputs": [
    {
     "name": "stdout",
     "output_type": "stream",
     "text": [
      "[[-10.    0.    3. ]\n",
      " [  0.   13.   -2.5]\n",
      " [ 30.    0.    2.5]]\n",
      "[[-657.6196]\n",
      " [  31.6585]\n",
      " [ 110.5635]]\n",
      "---------\n",
      "denominator (3, 3)\n",
      "---------\n",
      "nominator (3, 1)\n",
      "---------\n",
      "[[  17.18034348]\n",
      " [ -28.70679264]\n",
      " [-161.93872174]]\n"
     ]
    }
   ],
   "source": [
    "uwb_loc4((5,0,3,25),(0,0,4.5),(0,6.5,3.25),(15,6.5,4.5),(3.55,5.61,5.69,12.51))"
   ]
  },
  {
   "cell_type": "code",
   "execution_count": 11,
   "id": "5bcb67fa",
   "metadata": {
    "ExecuteTime": {
     "end_time": "2022-05-26T01:09:45.406334Z",
     "start_time": "2022-05-26T01:09:45.396332Z"
    }
   },
   "outputs": [],
   "source": [
    "x1=np.array([[ 0.00461248, -0.00261742, -0.01361059],\n",
    " [-0.00261742 , 0.0348542 ,  0.0581649 ],\n",
    " [-0.01361059 , 0.0581649  , 0.30245747]])\n",
    "x2=np.array([[2473.27525 ],\n",
    " [ 102.890125],\n",
    " [-443.899075]])\n"
   ]
  },
  {
   "cell_type": "code",
   "execution_count": 12,
   "id": "ab7f13c9",
   "metadata": {
    "ExecuteTime": {
     "end_time": "2022-05-26T01:09:46.881521Z",
     "start_time": "2022-05-26T01:09:46.868519Z"
    }
   },
   "outputs": [
    {
     "data": {
      "text/plain": [
       "array([[  17.18035427],\n",
       "       [ -28.70679242],\n",
       "       [-161.93873271]])"
      ]
     },
     "execution_count": 12,
     "metadata": {},
     "output_type": "execute_result"
    }
   ],
   "source": [
    "np.matmul(x1,x2)"
   ]
  },
  {
   "cell_type": "code",
   "execution_count": null,
   "id": "1b4cc7ac",
   "metadata": {},
   "outputs": [],
   "source": []
  },
  {
   "cell_type": "code",
   "execution_count": 15,
   "id": "30eab366",
   "metadata": {
    "ExecuteTime": {
     "end_time": "2022-05-26T01:11:54.889776Z",
     "start_time": "2022-05-26T01:11:54.876774Z"
    }
   },
   "outputs": [
    {
     "data": {
      "text/plain": [
       "array([[250.   ,   0.   ,  11.25 ],\n",
       "       [  0.   ,  42.25 ,  -8.125],\n",
       "       [ 11.25 ,  -8.125,   5.375]])"
      ]
     },
     "execution_count": 15,
     "metadata": {},
     "output_type": "execute_result"
    }
   ],
   "source": [
    "np.matmul(A.transpose(),A)"
   ]
  },
  {
   "cell_type": "code",
   "execution_count": 16,
   "id": "65b79246",
   "metadata": {
    "ExecuteTime": {
     "end_time": "2022-05-26T01:11:58.049677Z",
     "start_time": "2022-05-26T01:11:58.036676Z"
    }
   },
   "outputs": [
    {
     "data": {
      "text/plain": [
       "array([[-100.],\n",
       "       [-130.],\n",
       "       [  55.]])"
      ]
     },
     "execution_count": 16,
     "metadata": {},
     "output_type": "execute_result"
    }
   ],
   "source": [
    "np.matmul(A.transpose(),B)"
   ]
  },
  {
   "cell_type": "code",
   "execution_count": 17,
   "id": "cda55b42",
   "metadata": {
    "ExecuteTime": {
     "end_time": "2022-05-26T01:12:19.411390Z",
     "start_time": "2022-05-26T01:12:19.397388Z"
    }
   },
   "outputs": [
    {
     "name": "stderr",
     "output_type": "stream",
     "text": [
      "<ipython-input-17-ecb10c68fe47>:1: RuntimeWarning: divide by zero encountered in true_divide\n",
      "  np.matmul(A.transpose(),B) / np.matmul(A.transpose(),A)\n"
     ]
    },
    {
     "data": {
      "text/plain": [
       "array([[-0.4       ,        -inf, -8.88888889],\n",
       "       [       -inf, -3.07692308, 16.        ],\n",
       "       [ 4.88888889, -6.76923077, 10.23255814]])"
      ]
     },
     "execution_count": 17,
     "metadata": {},
     "output_type": "execute_result"
    }
   ],
   "source": [
    "np.matmul(A.transpose(),B) / np.matmul(A.transpose(),A)"
   ]
  },
  {
   "cell_type": "code",
   "execution_count": null,
   "id": "f3a12aca",
   "metadata": {},
   "outputs": [],
   "source": []
  }
 ],
 "metadata": {
  "kernelspec": {
   "display_name": "Python 3",
   "language": "python",
   "name": "python3"
  },
  "language_info": {
   "codemirror_mode": {
    "name": "ipython",
    "version": 3
   },
   "file_extension": ".py",
   "mimetype": "text/x-python",
   "name": "python",
   "nbconvert_exporter": "python",
   "pygments_lexer": "ipython3",
   "version": "3.8.8"
  }
 },
 "nbformat": 4,
 "nbformat_minor": 5
}
