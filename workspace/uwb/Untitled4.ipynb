{
 "cells": [
  {
   "cell_type": "markdown",
   "id": "c8a382c3",
   "metadata": {},
   "source": [
    "### code by hand"
   ]
  },
  {
   "cell_type": "code",
   "execution_count": 1,
   "id": "44a808ff",
   "metadata": {
    "ExecuteTime": {
     "end_time": "2022-05-26T07:32:55.664726Z",
     "start_time": "2022-05-26T07:32:54.474075Z"
    }
   },
   "outputs": [],
   "source": [
    "import numpy as np"
   ]
  },
  {
   "cell_type": "code",
   "execution_count": 17,
   "id": "3a5568be",
   "metadata": {
    "ExecuteTime": {
     "end_time": "2022-05-26T07:43:29.683236Z",
     "start_time": "2022-05-26T07:43:29.678735Z"
    }
   },
   "outputs": [],
   "source": [
    "def bs_m(m,n,A):\n",
    "    l=[]\n",
    "    for i in range(3):\n",
    "        if i !=m:\n",
    "            for j in range(3):\n",
    "                if j !=n:\n",
    "#                     print(A[i][j])\n",
    "                    l.append(A[i][j])\n",
    "#   m+1,n+1\n",
    "    return (-1)**(m+1+n+1) * (l[0]*l[3]-l[1]*l[2])"
   ]
  },
  {
   "cell_type": "code",
   "execution_count": 18,
   "id": "1f812749",
   "metadata": {
    "ExecuteTime": {
     "end_time": "2022-05-26T07:43:30.096788Z",
     "start_time": "2022-05-26T07:43:30.079286Z"
    }
   },
   "outputs": [],
   "source": [
    "def uwb_loc4(a,b,c,d,pr):\n",
    "    A=np.zeros((3,3))\n",
    "    B=np.zeros((3,1))\n",
    "    l=[a,b,c,d]\n",
    "    for i in range(3):\n",
    "        for j in range(3):\n",
    "            A[i,j]=(l[i+1][j]-l[i][j])*2\n",
    "    for i in range(3):\n",
    "        B[i,:]=(pr[i]**2-pr[i+1]**2+sum([j**2 for j in l[i+1]])-sum([j**2 for j in l[i]]))\n",
    "    print(A)\n",
    "    print(B)\n",
    "    C=np.matmul(A.transpose(),A)\n",
    "    C_bs=np.zeros_like(A)\n",
    "    for i in range(3):\n",
    "        for j in range(3):\n",
    "            C_bs[i][j]=bs_m(i,j,C)\n",
    "    C_bs=C_bs.transpose()\n",
    "    C_hjs=C[0][0]*C[1][1]*C[2][2]+C[0][1]*C[1][2]*C[2][0]+C[0][2]*C[1][0]*C[2][1]-(C[0][2]*C[1][1]*C[2][0]+C[1][2]*C[2][1]*C[0][0]+C[0][1]*C[1][0]*C[2][2])\n",
    "    C_inv=C_bs/C_hjs\n",
    "    print(C)\n",
    "    print(C_bs)\n",
    "    print(C_hjs)\n",
    "    print(C_inv)\n",
    "    print('---------')\n",
    "    denominator=C_inv\n",
    "    nominator=np.matmul(A.transpose(),B)\n",
    "    print('denominator',denominator.shape)\n",
    "    print('---------')\n",
    "    print('nominator',nominator.shape)\n",
    "    print('---------')\n",
    "    print(np.matmul(denominator,nominator))\n",
    "    \n",
    "    \n",
    "    "
   ]
  },
  {
   "cell_type": "code",
   "execution_count": 19,
   "id": "67b714d0",
   "metadata": {
    "ExecuteTime": {
     "end_time": "2022-05-26T07:43:33.976281Z",
     "start_time": "2022-05-26T07:43:33.966780Z"
    }
   },
   "outputs": [
    {
     "name": "stdout",
     "output_type": "stream",
     "text": [
      "[[ 10.   0.   0.]\n",
      " [-10.  10.   0.]\n",
      " [  0. -10.  10.]]\n",
      "[[ 20.]\n",
      " [-20.]\n",
      " [  0.]]\n",
      "[[ 200. -100.    0.]\n",
      " [-100.  200. -100.]\n",
      " [   0. -100.  100.]]\n",
      "[[10000. 10000. 10000.]\n",
      " [10000. 20000. 20000.]\n",
      " [10000. 20000. 30000.]]\n",
      "1000000.0\n",
      "[[0.01 0.01 0.01]\n",
      " [0.01 0.02 0.02]\n",
      " [0.01 0.02 0.03]]\n",
      "---------\n",
      "denominator (3, 3)\n",
      "---------\n",
      "nominator (3, 1)\n",
      "---------\n",
      "[[2.00000000e+00]\n",
      " [4.10782519e-17]\n",
      " [4.10782519e-17]]\n"
     ]
    }
   ],
   "source": [
    "uwb_loc4((0,0,0),(5,0,0),(0,5,0),(0,0,5),(2,3,np.sqrt(29),np.sqrt(29)))"
   ]
  },
  {
   "cell_type": "code",
   "execution_count": null,
   "id": "f6cb55bd",
   "metadata": {},
   "outputs": [],
   "source": []
  },
  {
   "cell_type": "code",
   "execution_count": 12,
   "id": "ca9560ce",
   "metadata": {
    "ExecuteTime": {
     "end_time": "2022-05-26T07:41:53.118474Z",
     "start_time": "2022-05-26T07:41:53.103472Z"
    }
   },
   "outputs": [
    {
     "name": "stdout",
     "output_type": "stream",
     "text": [
      "0.0\n",
      "0.0\n",
      "0.0\n",
      "0.0\n"
     ]
    },
    {
     "data": {
      "text/plain": [
       "0.0"
      ]
     },
     "execution_count": 12,
     "metadata": {},
     "output_type": "execute_result"
    }
   ],
   "source": [
    "A=np.zeros((3,3))\n",
    "C=np.matmul(A.transpose(),A)\n",
    "bs_m(0,0,C)"
   ]
  },
  {
   "cell_type": "code",
   "execution_count": null,
   "id": "4e7af9a3",
   "metadata": {},
   "outputs": [],
   "source": []
  }
 ],
 "metadata": {
  "kernelspec": {
   "display_name": "Python 3",
   "language": "python",
   "name": "python3"
  },
  "language_info": {
   "codemirror_mode": {
    "name": "ipython",
    "version": 3
   },
   "file_extension": ".py",
   "mimetype": "text/x-python",
   "name": "python",
   "nbconvert_exporter": "python",
   "pygments_lexer": "ipython3",
   "version": "3.8.8"
  }
 },
 "nbformat": 4,
 "nbformat_minor": 5
}
