{
 "cells": [
  {
   "cell_type": "markdown",
   "id": "400747ee",
   "metadata": {},
   "source": [
    "### code by numpy"
   ]
  },
  {
   "cell_type": "code",
   "execution_count": 1,
   "id": "0c92bde3",
   "metadata": {
    "ExecuteTime": {
     "end_time": "2022-05-26T03:13:53.418111Z",
     "start_time": "2022-05-26T03:13:53.312098Z"
    }
   },
   "outputs": [],
   "source": [
    "import numpy as np"
   ]
  },
  {
   "cell_type": "code",
   "execution_count": 2,
   "id": "544dbb31",
   "metadata": {
    "ExecuteTime": {
     "end_time": "2022-05-26T01:09:39.622099Z",
     "start_time": "2022-05-26T01:09:39.588095Z"
    }
   },
   "outputs": [
    {
     "name": "stdout",
     "output_type": "stream",
     "text": [
      "1\n",
      "2\n"
     ]
    }
   ],
   "source": [
    "a=(1,2,3)\n",
    "b=(2,3,5)\n",
    "for i in [a,b]:\n",
    "    print(i[0])"
   ]
  },
  {
   "cell_type": "code",
   "execution_count": 2,
   "id": "e456c1b1",
   "metadata": {
    "ExecuteTime": {
     "end_time": "2022-05-26T03:19:11.234469Z",
     "start_time": "2022-05-26T03:19:11.223967Z"
    }
   },
   "outputs": [],
   "source": [
    "def uwb_loc4(a,b,c,d,pr):\n",
    "    A=np.zeros((3,3))\n",
    "    B=np.zeros((3,1))\n",
    "    l=[a,b,c,d]\n",
    "    for i in range(3):\n",
    "        for j in range(3):\n",
    "            A[i,j]=(l[i+1][j]-l[i][j])*2\n",
    "    for i in range(3):\n",
    "        B[i,:]=(pr[i]**2-pr[i+1]**2+sum([j**2 for j in l[i+1]])-sum([j**2 for j in l[i]]))    \n",
    "    print(A)\n",
    "    print(B)\n",
    "    print('---------')\n",
    "    denominator=np.linalg.inv(np.matmul(A.transpose(),A))\n",
    "    nominator=np.matmul(A.transpose(),B)\n",
    "    print('denominator',denominator.shape)\n",
    "    print('---------')\n",
    "    print('nominator',nominator.shape)\n",
    "    print('---------')\n",
    "    print(np.matmul(denominator,nominator))\n",
    "    "
   ]
  },
  {
   "cell_type": "code",
   "execution_count": 3,
   "id": "89b5be2d",
   "metadata": {
    "ExecuteTime": {
     "end_time": "2022-05-26T03:19:11.710029Z",
     "start_time": "2022-05-26T03:19:11.676025Z"
    }
   },
   "outputs": [
    {
     "name": "stdout",
     "output_type": "stream",
     "text": [
      "[[ 10.   0.   0.]\n",
      " [-10.  10.   0.]\n",
      " [  0. -10.  10.]]\n",
      "[[ 20.]\n",
      " [-20.]\n",
      " [  0.]]\n",
      "---------\n",
      "denominator (3, 3)\n",
      "---------\n",
      "nominator (3, 1)\n",
      "---------\n",
      "[[2.]\n",
      " [0.]\n",
      " [0.]]\n"
     ]
    }
   ],
   "source": [
    "uwb_loc4((0,0,0),(5,0,0),(0,5,0),(0,0,5),(2,3,np.sqrt(29),np.sqrt(29)))"
   ]
  },
  {
   "cell_type": "code",
   "execution_count": 4,
   "id": "5635485c",
   "metadata": {
    "ExecuteTime": {
     "end_time": "2022-05-26T03:19:11.860548Z",
     "start_time": "2022-05-26T03:19:11.853047Z"
    }
   },
   "outputs": [
    {
     "name": "stdout",
     "output_type": "stream",
     "text": [
      "3.534416500640523\n",
      "5.593040318109641\n",
      "5.685472715614772\n",
      "12.510479607113389\n"
     ]
    }
   ],
   "source": [
    "xyz=(3.59, 2.64, 1.12)\n",
    "for i in [(5,0,3,25),(0,0,4.5),(0,6.5,3.25),(15,6.5,4.5)]:\n",
    "    d=0\n",
    "    for j in range(3):\n",
    "        d+=(xyz[j]-i[j])**2\n",
    "    print(np.sqrt(d))"
   ]
  },
  {
   "cell_type": "code",
   "execution_count": 5,
   "id": "0563b857",
   "metadata": {
    "ExecuteTime": {
     "end_time": "2022-05-26T03:19:12.065574Z",
     "start_time": "2022-05-26T03:19:12.058073Z"
    }
   },
   "outputs": [],
   "source": [
    "A=np.array([[ 10. ,  0. ,  0.],\n",
    " [-10.,  10. ,  0.],\n",
    " [  0., -10. , 10.]])"
   ]
  },
  {
   "cell_type": "code",
   "execution_count": 6,
   "id": "f8d997b7",
   "metadata": {
    "ExecuteTime": {
     "end_time": "2022-05-26T03:19:12.241096Z",
     "start_time": "2022-05-26T03:19:12.236096Z"
    }
   },
   "outputs": [],
   "source": [
    "B=np.array([[ 20.],\n",
    " [-20.],\n",
    " [  0.]])"
   ]
  },
  {
   "cell_type": "code",
   "execution_count": 7,
   "id": "f8e5cf09",
   "metadata": {
    "ExecuteTime": {
     "end_time": "2022-05-26T03:19:12.428620Z",
     "start_time": "2022-05-26T03:19:12.410618Z"
    }
   },
   "outputs": [
    {
     "data": {
      "text/plain": [
       "array([[ 200., -100.,    0.],\n",
       "       [-100.,  200., -100.],\n",
       "       [   0., -100.,  100.]])"
      ]
     },
     "execution_count": 7,
     "metadata": {},
     "output_type": "execute_result"
    }
   ],
   "source": [
    "np.matmul(A.transpose(),A)"
   ]
  },
  {
   "cell_type": "code",
   "execution_count": 8,
   "id": "427eed21",
   "metadata": {
    "ExecuteTime": {
     "end_time": "2022-05-26T03:19:12.864676Z",
     "start_time": "2022-05-26T03:19:12.855174Z"
    }
   },
   "outputs": [
    {
     "data": {
      "text/plain": [
       "array([[0.01, 0.01, 0.01],\n",
       "       [0.01, 0.02, 0.02],\n",
       "       [0.01, 0.02, 0.03]])"
      ]
     },
     "execution_count": 8,
     "metadata": {},
     "output_type": "execute_result"
    }
   ],
   "source": [
    "np.linalg.inv(np.matmul(A.transpose(),A))"
   ]
  },
  {
   "cell_type": "code",
   "execution_count": 9,
   "id": "06f58ef0",
   "metadata": {
    "ExecuteTime": {
     "end_time": "2022-05-26T03:19:13.066201Z",
     "start_time": "2022-05-26T03:19:13.060701Z"
    }
   },
   "outputs": [
    {
     "data": {
      "text/plain": [
       "array([[ 200., -100.,    0.],\n",
       "       [-100.,  200., -100.],\n",
       "       [   0., -100.,  100.]])"
      ]
     },
     "execution_count": 9,
     "metadata": {},
     "output_type": "execute_result"
    }
   ],
   "source": [
    "np.matmul(A.transpose(),A)"
   ]
  },
  {
   "cell_type": "code",
   "execution_count": 10,
   "id": "f74853bc",
   "metadata": {
    "ExecuteTime": {
     "end_time": "2022-05-26T03:19:13.276228Z",
     "start_time": "2022-05-26T03:19:13.267727Z"
    }
   },
   "outputs": [
    {
     "name": "stdout",
     "output_type": "stream",
     "text": [
      "[[-10.    0.    3. ]\n",
      " [  0.   13.   -2.5]\n",
      " [ 30.    0.    2.5]]\n",
      "[[-657.6196]\n",
      " [  31.6585]\n",
      " [ 110.5635]]\n",
      "---------\n",
      "denominator (3, 3)\n",
      "---------\n",
      "nominator (3, 1)\n",
      "---------\n",
      "[[  17.18034348]\n",
      " [ -28.70679264]\n",
      " [-161.93872174]]\n"
     ]
    }
   ],
   "source": [
    "uwb_loc4((5,0,3,25),(0,0,4.5),(0,6.5,3.25),(15,6.5,4.5),(3.55,5.61,5.69,12.51))"
   ]
  },
  {
   "cell_type": "code",
   "execution_count": 11,
   "id": "5bcb67fa",
   "metadata": {
    "ExecuteTime": {
     "end_time": "2022-05-26T03:19:13.682280Z",
     "start_time": "2022-05-26T03:19:13.674278Z"
    }
   },
   "outputs": [],
   "source": [
    "x1=np.array([[ 0.00461248, -0.00261742, -0.01361059],\n",
    " [-0.00261742 , 0.0348542 ,  0.0581649 ],\n",
    " [-0.01361059 , 0.0581649  , 0.30245747]])\n",
    "x2=np.array([[2473.27525 ],\n",
    " [ 102.890125],\n",
    " [-443.899075]])\n"
   ]
  },
  {
   "cell_type": "code",
   "execution_count": 12,
   "id": "ab7f13c9",
   "metadata": {
    "ExecuteTime": {
     "end_time": "2022-05-26T03:19:13.873804Z",
     "start_time": "2022-05-26T03:19:13.864803Z"
    }
   },
   "outputs": [
    {
     "data": {
      "text/plain": [
       "array([[  17.18035427],\n",
       "       [ -28.70679242],\n",
       "       [-161.93873271]])"
      ]
     },
     "execution_count": 12,
     "metadata": {},
     "output_type": "execute_result"
    }
   ],
   "source": [
    "np.matmul(x1,x2)"
   ]
  },
  {
   "cell_type": "code",
   "execution_count": null,
   "id": "1b4cc7ac",
   "metadata": {},
   "outputs": [],
   "source": []
  },
  {
   "cell_type": "code",
   "execution_count": 13,
   "id": "30eab366",
   "metadata": {
    "ExecuteTime": {
     "end_time": "2022-05-26T03:19:14.518886Z",
     "start_time": "2022-05-26T03:19:14.506384Z"
    }
   },
   "outputs": [
    {
     "data": {
      "text/plain": [
       "array([[ 200., -100.,    0.],\n",
       "       [-100.,  200., -100.],\n",
       "       [   0., -100.,  100.]])"
      ]
     },
     "execution_count": 13,
     "metadata": {},
     "output_type": "execute_result"
    }
   ],
   "source": [
    "np.matmul(A.transpose(),A)"
   ]
  },
  {
   "cell_type": "code",
   "execution_count": 14,
   "id": "65b79246",
   "metadata": {
    "ExecuteTime": {
     "end_time": "2022-05-26T03:19:14.904435Z",
     "start_time": "2022-05-26T03:19:14.894933Z"
    }
   },
   "outputs": [
    {
     "data": {
      "text/plain": [
       "array([[ 400.],\n",
       "       [-200.],\n",
       "       [   0.]])"
      ]
     },
     "execution_count": 14,
     "metadata": {},
     "output_type": "execute_result"
    }
   ],
   "source": [
    "np.matmul(A.transpose(),B)"
   ]
  },
  {
   "cell_type": "code",
   "execution_count": 18,
   "id": "a01a0f38",
   "metadata": {
    "ExecuteTime": {
     "end_time": "2022-05-26T03:22:04.798509Z",
     "start_time": "2022-05-26T03:22:04.787007Z"
    }
   },
   "outputs": [
    {
     "data": {
      "text/plain": [
       "array([[ 10.,   0.,   0.],\n",
       "       [-10.,  10.,   0.],\n",
       "       [  0., -10.,  10.]])"
      ]
     },
     "execution_count": 18,
     "metadata": {},
     "output_type": "execute_result"
    }
   ],
   "source": [
    "A"
   ]
  },
  {
   "cell_type": "code",
   "execution_count": 26,
   "id": "684a58c5",
   "metadata": {
    "ExecuteTime": {
     "end_time": "2022-05-26T05:33:21.304198Z",
     "start_time": "2022-05-26T05:33:21.281695Z"
    }
   },
   "outputs": [
    {
     "name": "stdout",
     "output_type": "stream",
     "text": [
      "0.0\n",
      "0.0\n",
      "-10.0\n",
      "10.0\n"
     ]
    },
    {
     "data": {
      "text/plain": [
       "0.0"
      ]
     },
     "execution_count": 26,
     "metadata": {},
     "output_type": "execute_result"
    }
   ],
   "source": [
    "l=[]\n",
    "m=1\n",
    "n=0\n",
    "for i in range(3):\n",
    "    if i !=m:\n",
    "        for j in range(3):\n",
    "            if j !=n:\n",
    "                print(A[i][j])\n",
    "                l.append(A[i][j])\n",
    "-1**(m+n) * l[0]*l[3]-l[1]*l[2]\n",
    "\n",
    "                \n",
    "        \n",
    "        "
   ]
  },
  {
   "cell_type": "code",
   "execution_count": 57,
   "id": "eca6563b",
   "metadata": {
    "ExecuteTime": {
     "end_time": "2022-05-26T07:29:36.433927Z",
     "start_time": "2022-05-26T07:29:36.425926Z"
    }
   },
   "outputs": [],
   "source": [
    "def bs_m(m,n,A):\n",
    "    l=[]\n",
    "    for i in range(3):\n",
    "        if i !=m:\n",
    "            for j in range(3):\n",
    "                if j !=n:\n",
    "                    print(A[i][j])\n",
    "                    l.append(A[i][j])\n",
    "#   m+1,n+1\n",
    "    return -1**(m+1+n+1) * (l[0]*l[3]-l[1]*l[2])"
   ]
  },
  {
   "cell_type": "code",
   "execution_count": 31,
   "id": "ae1ad114",
   "metadata": {
    "ExecuteTime": {
     "end_time": "2022-05-26T05:40:10.966718Z",
     "start_time": "2022-05-26T05:40:10.953217Z"
    }
   },
   "outputs": [
    {
     "name": "stdout",
     "output_type": "stream",
     "text": [
      "10.0\n",
      "0.0\n",
      "-10.0\n",
      "10.0\n"
     ]
    },
    {
     "data": {
      "text/plain": [
       "-100.0"
      ]
     },
     "execution_count": 31,
     "metadata": {},
     "output_type": "execute_result"
    }
   ],
   "source": [
    "bs_m(2,2,A)"
   ]
  },
  {
   "cell_type": "code",
   "execution_count": 33,
   "id": "4c75f826",
   "metadata": {
    "ExecuteTime": {
     "end_time": "2022-05-26T05:42:37.913878Z",
     "start_time": "2022-05-26T05:42:37.883874Z"
    }
   },
   "outputs": [
    {
     "name": "stdout",
     "output_type": "stream",
     "text": [
      "10.0\n",
      "0.0\n",
      "-10.0\n",
      "10.0\n",
      "-10.0\n",
      "0.0\n",
      "0.0\n",
      "10.0\n",
      "-10.0\n",
      "10.0\n",
      "0.0\n",
      "-10.0\n",
      "0.0\n",
      "0.0\n",
      "-10.0\n",
      "10.0\n",
      "10.0\n",
      "0.0\n",
      "0.0\n",
      "10.0\n",
      "10.0\n",
      "0.0\n",
      "0.0\n",
      "-10.0\n",
      "0.0\n",
      "0.0\n",
      "10.0\n",
      "0.0\n",
      "10.0\n",
      "0.0\n",
      "-10.0\n",
      "0.0\n",
      "10.0\n",
      "0.0\n",
      "-10.0\n",
      "10.0\n"
     ]
    },
    {
     "data": {
      "text/plain": [
       "array([[-100.,  100., -100.],\n",
       "       [  -0., -100.,  100.],\n",
       "       [  -0.,   -0., -100.]])"
      ]
     },
     "execution_count": 33,
     "metadata": {},
     "output_type": "execute_result"
    }
   ],
   "source": [
    "A_bs=np.zeros_like(A)\n",
    "for i in range(3):\n",
    "    for j in range(3):\n",
    "        A_bs[i][j]=bs_m(i,j,A)\n",
    "A_bs"
   ]
  },
  {
   "cell_type": "code",
   "execution_count": 34,
   "id": "46304592",
   "metadata": {
    "ExecuteTime": {
     "end_time": "2022-05-26T06:20:28.511207Z",
     "start_time": "2022-05-26T06:20:28.495705Z"
    }
   },
   "outputs": [
    {
     "data": {
      "text/plain": [
       "1000.0"
      ]
     },
     "execution_count": 34,
     "metadata": {},
     "output_type": "execute_result"
    }
   ],
   "source": [
    "A[0][0]*A[1][1]*A[2][2]+A[0][1]*A[1][2]*A[2][0]+A[0][2]*A[1][0]*A[2][1]-(A[0][2]*A[1][1]*A[2][0]+A[1][2]*A[2][1]*A[0][0]+A[0][1]*A[1][0]*A[2][2])"
   ]
  },
  {
   "cell_type": "code",
   "execution_count": 36,
   "id": "b5f22572",
   "metadata": {
    "ExecuteTime": {
     "end_time": "2022-05-26T06:22:22.159639Z",
     "start_time": "2022-05-26T06:22:22.136636Z"
    }
   },
   "outputs": [
    {
     "name": "stdout",
     "output_type": "stream",
     "text": [
      "200.0\n",
      "-100.0\n",
      "-100.0\n",
      "100.0\n",
      "-100.0\n",
      "-100.0\n",
      "0.0\n",
      "100.0\n",
      "-100.0\n",
      "200.0\n",
      "0.0\n",
      "-100.0\n",
      "-100.0\n",
      "0.0\n",
      "-100.0\n",
      "100.0\n",
      "200.0\n",
      "0.0\n",
      "0.0\n",
      "100.0\n",
      "200.0\n",
      "-100.0\n",
      "0.0\n",
      "-100.0\n",
      "-100.0\n",
      "0.0\n",
      "200.0\n",
      "-100.0\n",
      "200.0\n",
      "0.0\n",
      "-100.0\n",
      "-100.0\n",
      "200.0\n",
      "-100.0\n",
      "-100.0\n",
      "200.0\n"
     ]
    },
    {
     "data": {
      "text/plain": [
       "array([[-10000.,  10000., -10000.],\n",
       "       [ 10000., -20000.,  20000.],\n",
       "       [-10000.,  20000., -30000.]])"
      ]
     },
     "execution_count": 36,
     "metadata": {},
     "output_type": "execute_result"
    }
   ],
   "source": [
    "A_bs=np.zeros_like(A)\n",
    "for i in range(3):\n",
    "    for j in range(3):\n",
    "        A_bs[i][j]=bs_m(i,j,np.matmul(A.transpose(),A))\n",
    "A_bs"
   ]
  },
  {
   "cell_type": "code",
   "execution_count": 38,
   "id": "39a7da50",
   "metadata": {
    "ExecuteTime": {
     "end_time": "2022-05-26T06:23:29.384675Z",
     "start_time": "2022-05-26T06:23:29.371674Z"
    }
   },
   "outputs": [
    {
     "data": {
      "text/plain": [
       "array([[-10.,  10., -10.],\n",
       "       [ 10., -20.,  20.],\n",
       "       [-10.,  20., -30.]])"
      ]
     },
     "execution_count": 38,
     "metadata": {},
     "output_type": "execute_result"
    }
   ],
   "source": [
    "A_bs.transpose()/1000"
   ]
  },
  {
   "cell_type": "code",
   "execution_count": 44,
   "id": "d2590dd2",
   "metadata": {
    "ExecuteTime": {
     "end_time": "2022-05-26T06:58:55.863704Z",
     "start_time": "2022-05-26T06:58:55.853703Z"
    }
   },
   "outputs": [
    {
     "data": {
      "text/plain": [
       "array([[-6.],\n",
       "       [ 8.],\n",
       "       [-8.]])"
      ]
     },
     "execution_count": 44,
     "metadata": {},
     "output_type": "execute_result"
    }
   ],
   "source": [
    "np.matmul(A_bs.transpose()/1000000.0 ,np.matmul(A.transpose(),B))"
   ]
  },
  {
   "cell_type": "code",
   "execution_count": 40,
   "id": "cd9f2b10",
   "metadata": {
    "ExecuteTime": {
     "end_time": "2022-05-26T06:25:18.882080Z",
     "start_time": "2022-05-26T06:25:18.876079Z"
    }
   },
   "outputs": [
    {
     "data": {
      "text/plain": [
       "array([[0.01, 0.01, 0.01],\n",
       "       [0.01, 0.02, 0.02],\n",
       "       [0.01, 0.02, 0.03]])"
      ]
     },
     "execution_count": 40,
     "metadata": {},
     "output_type": "execute_result"
    }
   ],
   "source": [
    "np.linalg.inv(np.matmul(A.transpose(),A))"
   ]
  },
  {
   "cell_type": "code",
   "execution_count": 41,
   "id": "913e942c",
   "metadata": {
    "ExecuteTime": {
     "end_time": "2022-05-26T06:57:23.579485Z",
     "start_time": "2022-05-26T06:57:23.560483Z"
    }
   },
   "outputs": [
    {
     "data": {
      "text/plain": [
       "999999.9999999995"
      ]
     },
     "execution_count": 41,
     "metadata": {},
     "output_type": "execute_result"
    }
   ],
   "source": [
    "np.linalg.det(np.matmul(A.transpose(),A))"
   ]
  },
  {
   "cell_type": "code",
   "execution_count": 42,
   "id": "aabb0590",
   "metadata": {
    "ExecuteTime": {
     "end_time": "2022-05-26T06:58:12.571207Z",
     "start_time": "2022-05-26T06:58:12.567206Z"
    }
   },
   "outputs": [],
   "source": [
    "C=np.matmul(A.transpose(),A)"
   ]
  },
  {
   "cell_type": "code",
   "execution_count": 43,
   "id": "90dc1aab",
   "metadata": {
    "ExecuteTime": {
     "end_time": "2022-05-26T06:58:18.028399Z",
     "start_time": "2022-05-26T06:58:18.016398Z"
    }
   },
   "outputs": [
    {
     "data": {
      "text/plain": [
       "1000000.0"
      ]
     },
     "execution_count": 43,
     "metadata": {},
     "output_type": "execute_result"
    }
   ],
   "source": [
    "C[0][0]*C[1][1]*C[2][2]+C[0][1]*C[1][2]*C[2][0]+C[0][2]*C[1][0]*C[2][1]-(C[0][2]*C[1][1]*C[2][0]+C[1][2]*C[2][1]*C[0][0]+C[0][1]*C[1][0]*C[2][2])"
   ]
  },
  {
   "cell_type": "code",
   "execution_count": 45,
   "id": "1b957517",
   "metadata": {
    "ExecuteTime": {
     "end_time": "2022-05-26T06:59:11.571199Z",
     "start_time": "2022-05-26T06:59:11.562197Z"
    }
   },
   "outputs": [
    {
     "data": {
      "text/plain": [
       "array([[-0.01,  0.01, -0.01],\n",
       "       [ 0.01, -0.02,  0.02],\n",
       "       [-0.01,  0.02, -0.03]])"
      ]
     },
     "execution_count": 45,
     "metadata": {},
     "output_type": "execute_result"
    }
   ],
   "source": [
    "A_bs.transpose()/1000000.0"
   ]
  },
  {
   "cell_type": "code",
   "execution_count": 46,
   "id": "790186e9",
   "metadata": {
    "ExecuteTime": {
     "end_time": "2022-05-26T06:59:21.823500Z",
     "start_time": "2022-05-26T06:59:21.815499Z"
    }
   },
   "outputs": [
    {
     "data": {
      "text/plain": [
       "array([[0.01, 0.01, 0.01],\n",
       "       [0.01, 0.02, 0.02],\n",
       "       [0.01, 0.02, 0.03]])"
      ]
     },
     "execution_count": 46,
     "metadata": {},
     "output_type": "execute_result"
    }
   ],
   "source": [
    "np.linalg.inv(np.matmul(A.transpose(),A))"
   ]
  },
  {
   "cell_type": "code",
   "execution_count": 65,
   "id": "fccf3cf7",
   "metadata": {
    "ExecuteTime": {
     "end_time": "2022-05-26T07:31:21.696293Z",
     "start_time": "2022-05-26T07:31:21.681291Z"
    }
   },
   "outputs": [
    {
     "name": "stdout",
     "output_type": "stream",
     "text": [
      "200.0\n",
      "-100.0\n",
      "-100.0\n",
      "100.0\n",
      "-100.0\n",
      "-100.0\n",
      "0.0\n",
      "100.0\n",
      "-100.0\n",
      "200.0\n",
      "0.0\n",
      "-100.0\n",
      "-100.0\n",
      "0.0\n",
      "-100.0\n",
      "100.0\n",
      "200.0\n",
      "0.0\n",
      "0.0\n",
      "100.0\n",
      "200.0\n",
      "-100.0\n",
      "0.0\n",
      "-100.0\n",
      "-100.0\n",
      "0.0\n",
      "200.0\n",
      "-100.0\n",
      "200.0\n",
      "0.0\n",
      "-100.0\n",
      "-100.0\n",
      "200.0\n",
      "-100.0\n",
      "-100.0\n",
      "200.0\n"
     ]
    },
    {
     "data": {
      "text/plain": [
       "array([[10000., 10000., 10000.],\n",
       "       [10000., 20000., 20000.],\n",
       "       [10000., 20000., 30000.]])"
      ]
     },
     "execution_count": 65,
     "metadata": {},
     "output_type": "execute_result"
    }
   ],
   "source": [
    "A_bs=np.zeros_like(A)\n",
    "for i in range(3):\n",
    "    for j in range(3):\n",
    "        A_bs[i][j]=bs_m(i,j,np.matmul(A.transpose(),A))\n",
    "A_bs.transpose()"
   ]
  },
  {
   "cell_type": "code",
   "execution_count": 69,
   "id": "c2e95064",
   "metadata": {
    "ExecuteTime": {
     "end_time": "2022-05-26T07:32:17.319357Z",
     "start_time": "2022-05-26T07:32:17.310355Z"
    }
   },
   "outputs": [
    {
     "data": {
      "text/plain": [
       "array([[0.01, 0.01, 0.01],\n",
       "       [0.01, 0.02, 0.02],\n",
       "       [0.01, 0.02, 0.03]])"
      ]
     },
     "execution_count": 69,
     "metadata": {},
     "output_type": "execute_result"
    }
   ],
   "source": [
    "A_bs/1000000"
   ]
  },
  {
   "cell_type": "code",
   "execution_count": 50,
   "id": "243972fa",
   "metadata": {
    "ExecuteTime": {
     "end_time": "2022-05-26T07:20:35.932792Z",
     "start_time": "2022-05-26T07:20:35.922790Z"
    }
   },
   "outputs": [
    {
     "data": {
      "text/plain": [
       "array([[0.01, 0.01, 0.01],\n",
       "       [0.01, 0.02, 0.02],\n",
       "       [0.01, 0.02, 0.03]])"
      ]
     },
     "execution_count": 50,
     "metadata": {},
     "output_type": "execute_result"
    }
   ],
   "source": [
    "np.linalg.inv(np.matmul(A.transpose(),A))"
   ]
  },
  {
   "cell_type": "code",
   "execution_count": 49,
   "id": "bc253393",
   "metadata": {
    "ExecuteTime": {
     "end_time": "2022-05-26T07:20:19.311181Z",
     "start_time": "2022-05-26T07:20:19.301180Z"
    }
   },
   "outputs": [
    {
     "data": {
      "text/plain": [
       "array([[ 200., -100.,    0.],\n",
       "       [-100.,  200., -100.],\n",
       "       [   0., -100.,  100.]])"
      ]
     },
     "execution_count": 49,
     "metadata": {},
     "output_type": "execute_result"
    }
   ],
   "source": [
    "C"
   ]
  },
  {
   "cell_type": "code",
   "execution_count": 64,
   "id": "da016141",
   "metadata": {
    "ExecuteTime": {
     "end_time": "2022-05-26T07:31:16.469630Z",
     "start_time": "2022-05-26T07:31:16.456628Z"
    }
   },
   "outputs": [
    {
     "name": "stdout",
     "output_type": "stream",
     "text": [
      "200.0\n",
      "-100.0\n",
      "-100.0\n",
      "100.0\n"
     ]
    },
    {
     "data": {
      "text/plain": [
       "10000.0"
      ]
     },
     "execution_count": 64,
     "metadata": {},
     "output_type": "execute_result"
    }
   ],
   "source": [
    "bs_m(0,0,C)"
   ]
  },
  {
   "cell_type": "code",
   "execution_count": null,
   "id": "43bb273d",
   "metadata": {},
   "outputs": [],
   "source": []
  }
 ],
 "metadata": {
  "kernelspec": {
   "display_name": "Python 3",
   "language": "python",
   "name": "python3"
  },
  "language_info": {
   "codemirror_mode": {
    "name": "ipython",
    "version": 3
   },
   "file_extension": ".py",
   "mimetype": "text/x-python",
   "name": "python",
   "nbconvert_exporter": "python",
   "pygments_lexer": "ipython3",
   "version": "3.8.8"
  }
 },
 "nbformat": 4,
 "nbformat_minor": 5
}
