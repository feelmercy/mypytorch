{
 "cells": [
  {
   "cell_type": "code",
   "execution_count": 1,
   "id": "1da2feb8",
   "metadata": {
    "ExecuteTime": {
     "end_time": "2022-08-09T02:11:16.179139Z",
     "start_time": "2022-08-09T02:11:11.073377Z"
    }
   },
   "outputs": [
    {
     "name": "stdout",
     "output_type": "stream",
     "text": [
      "Using matplotlib backend: Qt5Agg\n"
     ]
    }
   ],
   "source": [
    "import matplotlib.pyplot as plt\n",
    "%matplotlib auto"
   ]
  },
  {
   "cell_type": "code",
   "execution_count": 2,
   "id": "cd293c51",
   "metadata": {
    "ExecuteTime": {
     "end_time": "2022-08-09T02:11:16.195079Z",
     "start_time": "2022-08-09T02:11:16.181087Z"
    }
   },
   "outputs": [],
   "source": [
    "x1,y1,r1=5,5,3\n",
    "x2,y2,r2=-2,3,4\n",
    "x3,y3,r3=2,-2,3\n"
   ]
  },
  {
   "cell_type": "code",
   "execution_count": 3,
   "id": "8a05637f",
   "metadata": {
    "ExecuteTime": {
     "end_time": "2022-08-09T02:11:16.211069Z",
     "start_time": "2022-08-09T02:11:16.197077Z"
    }
   },
   "outputs": [
    {
     "ename": "SyntaxError",
     "evalue": "cannot assign to operator (<ipython-input-3-da63434a44d0>, line 1)",
     "output_type": "error",
     "traceback": [
      "\u001b[1;36m  File \u001b[1;32m\"<ipython-input-3-da63434a44d0>\"\u001b[1;36m, line \u001b[1;32m1\u001b[0m\n\u001b[1;33m    (-100.0, 0.0),(0.0, -100.0),(100.0, 0.0),589,277,259= 699.6,-651.36\u001b[0m\n\u001b[1;37m    ^\u001b[0m\n\u001b[1;31mSyntaxError\u001b[0m\u001b[1;31m:\u001b[0m cannot assign to operator\n"
     ]
    }
   ],
   "source": [
    "(-100.0, 0.0),(0.0, -100.0),(100.0, 0.0),589,277,259= 699.6,-651.36"
   ]
  },
  {
   "cell_type": "code",
   "execution_count": 4,
   "id": "a8d865f8",
   "metadata": {
    "ExecuteTime": {
     "end_time": "2022-08-09T02:11:19.730104Z",
     "start_time": "2022-08-09T02:11:19.712116Z"
    }
   },
   "outputs": [],
   "source": [
    "x1,y1,=-100.0, 0.0\n",
    "x2,y2=0.0, -100.0\n",
    "x3,y3=100.0, 0.0\n",
    "r1,r2,r3=589,277,259"
   ]
  },
  {
   "cell_type": "code",
   "execution_count": 5,
   "id": "074533b3",
   "metadata": {
    "ExecuteTime": {
     "end_time": "2022-08-09T02:11:20.406008Z",
     "start_time": "2022-08-09T02:11:20.393003Z"
    }
   },
   "outputs": [],
   "source": [
    "x1,y1,=-100.0, 0.0\n",
    "x2,y2=0.0, -100.0\n",
    "x3,y3=100.0, 0.0\n",
    "r1,r2,r3=27,252,226\n",
    "x4,y4= -125.8675,188.00"
   ]
  },
  {
   "cell_type": "code",
   "execution_count": 6,
   "id": "0b50f8e0",
   "metadata": {
    "ExecuteTime": {
     "end_time": "2022-08-09T02:11:21.008043Z",
     "start_time": "2022-08-09T02:11:21.001049Z"
    }
   },
   "outputs": [],
   "source": [
    "x1,y1=0,0\n",
    "x2,y2=100,0\n",
    "x3,y3=0,-100\n",
    "r1,r2,r3=224,200,330\n",
    "x4,y4= 195,243.00"
   ]
  },
  {
   "cell_type": "code",
   "execution_count": 9,
   "id": "325346cf",
   "metadata": {
    "ExecuteTime": {
     "end_time": "2022-08-09T02:11:55.195865Z",
     "start_time": "2022-08-09T02:11:55.177861Z"
    }
   },
   "outputs": [],
   "source": [
    "x1,y1,r1,x2,y2,r2,x3,y3,r3=0,0,245,100,0,210,0,-100,340\n",
    "x4,y4= 130,228"
   ]
  },
  {
   "cell_type": "code",
   "execution_count": 10,
   "id": "014881cb",
   "metadata": {
    "ExecuteTime": {
     "end_time": "2022-08-09T02:11:56.237228Z",
     "start_time": "2022-08-09T02:11:56.031945Z"
    }
   },
   "outputs": [],
   "source": [
    "plt.figure(figsize=(5, 5))\n",
    "plt.scatter([x1,x2,x3],[y1,y2,y3],color='k')\n",
    "plt.scatter(x4,y4,color='m')\n",
    "circle1=plt.Circle((x1,y1),r1,color='r',fill=False)\n",
    "circle2=plt.Circle((x2,y2),r2,color='g',fill=False)\n",
    "circle3=plt.Circle((x3,y3),r3,color='b',fill=False)\n",
    "plt.gcf().gca().add_patch(circle1)\n",
    "plt.gcf().gca().add_patch(circle2)\n",
    "plt.gcf().gca().add_patch(circle3)\n",
    "plt.axis('equal')\n",
    "plt.xlim(-1000, 1000)\n",
    "plt.ylim(-1000, 1000)\n",
    "plt.show()"
   ]
  },
  {
   "cell_type": "code",
   "execution_count": null,
   "id": "30662752",
   "metadata": {},
   "outputs": [],
   "source": []
  },
  {
   "cell_type": "code",
   "execution_count": 22,
   "id": "b5ac9402",
   "metadata": {
    "ExecuteTime": {
     "end_time": "2022-07-11T01:41:39.826631Z",
     "start_time": "2022-07-11T01:41:39.768657Z"
    }
   },
   "outputs": [],
   "source": [
    "plt.figure(figsize=(5, 5))\n",
    "plt.scatter([x1,x2,x3],[y1,y2,y3],color='k')\n",
    "plt.scatter(x4,y4,color='m')\n",
    "circle1=plt.Circle((x1,y1),r1,color='r',fill=False)\n",
    "circle2=plt.Circle((x2,y2),r2,color='g',fill=False)\n",
    "circle3=plt.Circle((x3,y3),r3,color='b',fill=False)\n",
    "plt.gcf().gca().add_artist(circle1)\n",
    "plt.gcf().gca().add_artist(circle2)\n",
    "plt.gcf().gca().add_artist(circle3)\n",
    "plt.axis('equal')\n",
    "plt.xlim(-1000, 1000)\n",
    "plt.ylim(-1000, 1000)\n",
    "plt.show()"
   ]
  },
  {
   "cell_type": "code",
   "execution_count": null,
   "id": "105a2ae8",
   "metadata": {},
   "outputs": [],
   "source": []
  },
  {
   "cell_type": "code",
   "execution_count": null,
   "id": "b757ee26",
   "metadata": {},
   "outputs": [],
   "source": []
  },
  {
   "cell_type": "code",
   "execution_count": 18,
   "id": "8ac77872",
   "metadata": {
    "ExecuteTime": {
     "end_time": "2022-07-11T01:35:41.983480Z",
     "start_time": "2022-07-11T01:35:41.968483Z"
    }
   },
   "outputs": [],
   "source": [
    "x1,y1=-100.0, 0.0\n",
    "x2,y2=0.0, -100.0\n",
    "x3,y3=100.0, 0.0\n",
    "r1,r2,r3=27,252,226"
   ]
  },
  {
   "cell_type": "code",
   "execution_count": 14,
   "id": "8bf05eb7",
   "metadata": {
    "ExecuteTime": {
     "end_time": "2022-07-11T01:35:00.574442Z",
     "start_time": "2022-07-11T01:35:00.560451Z"
    }
   },
   "outputs": [],
   "source": [
    "(x1,y1),(x2,y2),(x3,y3),r1,r2,r3=(-100.0, 0.0),(0.0, -100.0),(100.0, 0.0),27,252,226"
   ]
  },
  {
   "cell_type": "code",
   "execution_count": 15,
   "id": "eb60a552",
   "metadata": {
    "ExecuteTime": {
     "end_time": "2022-07-11T01:35:01.123475Z",
     "start_time": "2022-07-11T01:35:01.120463Z"
    }
   },
   "outputs": [],
   "source": [
    "(x1,y1),(x2,y2),(x3,y3),r1,r2,r3=(-100.0, 0.0),(0.0, -100.0),(100.0, 0.0),27,252,226"
   ]
  },
  {
   "cell_type": "code",
   "execution_count": 20,
   "id": "b323e9e2",
   "metadata": {
    "ExecuteTime": {
     "end_time": "2022-07-11T01:41:18.607613Z",
     "start_time": "2022-07-11T01:41:18.592597Z"
    }
   },
   "outputs": [],
   "source": [
    "\n",
    "x1,y1=0,0\n",
    "x2,y2=100,0\n",
    "x3,y3=0,-100\n",
    "r1,r2,r3=224,200,330"
   ]
  },
  {
   "cell_type": "code",
   "execution_count": 21,
   "id": "0fca6fbd",
   "metadata": {
    "ExecuteTime": {
     "end_time": "2022-07-11T01:41:20.460056Z",
     "start_time": "2022-07-11T01:41:20.408657Z"
    }
   },
   "outputs": [],
   "source": [
    "plt.figure(figsize=(5, 5))\n",
    "plt.scatter([x1,x2,x3],[y1,y2,y3],c=['r','g','b'],s=10)\n",
    "circle1=plt.Circle((x1,y1),r1,color='r',fill=False)\n",
    "circle2=plt.Circle((x2,y2),r2,color='g',fill=False)\n",
    "circle3=plt.Circle((x3,y3),r3,color='b',fill=False)\n",
    "plt.gcf().gca().add_artist(circle1)\n",
    "plt.gcf().gca().add_artist(circle2)\n",
    "plt.gcf().gca().add_artist(circle3)\n",
    "plt.axis('equal')\n",
    "plt.xlim(-1000, 1000)\n",
    "plt.ylim(-1000, 1000)\n",
    "plt.show()"
   ]
  },
  {
   "cell_type": "code",
   "execution_count": null,
   "id": "c370b9ba",
   "metadata": {},
   "outputs": [],
   "source": []
  }
 ],
 "metadata": {
  "kernelspec": {
   "display_name": "Python 3",
   "language": "python",
   "name": "python3"
  },
  "language_info": {
   "codemirror_mode": {
    "name": "ipython",
    "version": 3
   },
   "file_extension": ".py",
   "mimetype": "text/x-python",
   "name": "python",
   "nbconvert_exporter": "python",
   "pygments_lexer": "ipython3",
   "version": "3.8.8"
  }
 },
 "nbformat": 4,
 "nbformat_minor": 5
}
