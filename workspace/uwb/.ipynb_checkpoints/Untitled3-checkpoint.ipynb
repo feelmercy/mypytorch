{
 "cells": [
  {
   "cell_type": "code",
   "execution_count": 2,
   "id": "0c92bde3",
   "metadata": {
    "ExecuteTime": {
     "end_time": "2022-05-25T08:05:33.677971Z",
     "start_time": "2022-05-25T08:05:33.673971Z"
    }
   },
   "outputs": [],
   "source": [
    "import numpy as np\n",
    "import math"
   ]
  },
  {
   "cell_type": "code",
   "execution_count": 5,
   "id": "544dbb31",
   "metadata": {
    "ExecuteTime": {
     "end_time": "2022-05-25T08:18:15.261680Z",
     "start_time": "2022-05-25T08:18:15.248678Z"
    }
   },
   "outputs": [
    {
     "name": "stdout",
     "output_type": "stream",
     "text": [
      "1\n",
      "2\n"
     ]
    }
   ],
   "source": [
    "a=(1,2,3)\n",
    "b=(2,3,5)\n",
    "for i in [a,b]:\n",
    "    print(i[0])"
   ]
  },
  {
   "cell_type": "code",
   "execution_count": 52,
   "id": "e456c1b1",
   "metadata": {
    "ExecuteTime": {
     "end_time": "2022-05-25T09:21:29.144942Z",
     "start_time": "2022-05-25T09:21:29.138941Z"
    }
   },
   "outputs": [],
   "source": [
    "def uwb_loc4(a,b,c,d,pr):\n",
    "    A=np.zeros((3,3))\n",
    "    B=np.zeros((3,1))\n",
    "    l=[a,b,c,d]\n",
    "    for i in range(3):\n",
    "        for j in range(3):\n",
    "            A[i,j]=(l[i+1][j]-l[i][j])*2\n",
    "    for i in range(3):\n",
    "        B[i,:]=(pr[i]**2-pr[i+1]**2+sum([j**2 for j in l[i+1]])-sum([j**2 for j in l[i]]))\n",
    "    print(A)\n",
    "    print(B)\n",
    "    print('---------')\n",
    "    denominator=np.linalg.inv(np.matmul(A.transpose(),A))\n",
    "    nominator=np.matmul(A.transpose(),B)\n",
    "    print('denominator',denominator.shape)\n",
    "    print('---------')\n",
    "    print('nominator',nominator.shape)\n",
    "    print('---------')\n",
    "    print(np.matmul(denominator,nominator))\n",
    "    \n",
    "    \n",
    "    "
   ]
  },
  {
   "cell_type": "code",
   "execution_count": 53,
   "id": "89b5be2d",
   "metadata": {
    "ExecuteTime": {
     "end_time": "2022-05-25T09:21:29.559495Z",
     "start_time": "2022-05-25T09:21:29.554494Z"
    }
   },
   "outputs": [
    {
     "name": "stdout",
     "output_type": "stream",
     "text": [
      "[[ 10.   0.   0.]\n",
      " [-10.  10.   0.]\n",
      " [  0. -10.  10.]]\n",
      "[[ 20.]\n",
      " [-20.]\n",
      " [  0.]]\n",
      "---------\n",
      "denominator (3, 3)\n",
      "---------\n",
      "nominator (3, 1)\n",
      "---------\n",
      "[[2.]\n",
      " [0.]\n",
      " [0.]]\n"
     ]
    }
   ],
   "source": [
    "uwb_loc4((0,0,0),(5,0,0),(0,5,0),(0,0,5),(2,3,np.sqrt(29),np.sqrt(29)))"
   ]
  },
  {
   "cell_type": "code",
   "execution_count": 30,
   "id": "5635485c",
   "metadata": {
    "ExecuteTime": {
     "end_time": "2022-05-25T08:56:35.870320Z",
     "start_time": "2022-05-25T08:56:35.865820Z"
    }
   },
   "outputs": [
    {
     "name": "stdout",
     "output_type": "stream",
     "text": [
      "3.534416500640523\n",
      "5.593040318109641\n",
      "5.685472715614772\n",
      "12.510479607113389\n"
     ]
    }
   ],
   "source": [
    "xyz=(3.59, 2.64, 1.12)\n",
    "for i in [(5,0,3,25),(0,0,4.5),(0,6.5,3.25),(15,6.5,4.5)]:\n",
    "    d=0\n",
    "    for j in range(3):\n",
    "        d+=(xyz[j]-i[j])**2\n",
    "    print(np.sqrt(d))"
   ]
  },
  {
   "cell_type": "code",
   "execution_count": 36,
   "id": "0563b857",
   "metadata": {
    "ExecuteTime": {
     "end_time": "2022-05-25T09:00:06.310543Z",
     "start_time": "2022-05-25T09:00:06.307042Z"
    }
   },
   "outputs": [],
   "source": [
    "A=np.array([[-5.  ,  0.,    1.5 ],\n",
    " [ 0.,    6.5,  -1.25],\n",
    " [15. ,   0.  ,  1.25]])"
   ]
  },
  {
   "cell_type": "code",
   "execution_count": 38,
   "id": "f8e5cf09",
   "metadata": {
    "ExecuteTime": {
     "end_time": "2022-05-25T09:00:38.965689Z",
     "start_time": "2022-05-25T09:00:38.961189Z"
    }
   },
   "outputs": [
    {
     "data": {
      "text/plain": [
       "array([[250.   ,   0.   ,  11.25 ],\n",
       "       [  0.   ,  42.25 ,  -8.125],\n",
       "       [ 11.25 ,  -8.125,   5.375]])"
      ]
     },
     "execution_count": 38,
     "metadata": {},
     "output_type": "execute_result"
    }
   ],
   "source": [
    "np.matmul(A.transpose(),A)"
   ]
  },
  {
   "cell_type": "code",
   "execution_count": 39,
   "id": "427eed21",
   "metadata": {
    "ExecuteTime": {
     "end_time": "2022-05-25T09:01:04.143387Z",
     "start_time": "2022-05-25T09:01:04.137886Z"
    }
   },
   "outputs": [
    {
     "data": {
      "text/plain": [
       "array([[ 0.00461248, -0.00261742, -0.01361059],\n",
       "       [-0.00261742,  0.0348542 ,  0.0581649 ],\n",
       "       [-0.01361059,  0.0581649 ,  0.30245747]])"
      ]
     },
     "execution_count": 39,
     "metadata": {},
     "output_type": "execute_result"
    }
   ],
   "source": [
    "np.linalg.inv(np.matmul(A.transpose(),A))"
   ]
  },
  {
   "cell_type": "code",
   "execution_count": null,
   "id": "06f58ef0",
   "metadata": {},
   "outputs": [],
   "source": [
    "np.matmul(A.transpose(),A)"
   ]
  },
  {
   "cell_type": "code",
   "execution_count": 31,
   "id": "f74853bc",
   "metadata": {
    "ExecuteTime": {
     "end_time": "2022-05-25T08:56:36.278372Z",
     "start_time": "2022-05-25T08:56:36.272871Z"
    }
   },
   "outputs": [
    {
     "name": "stdout",
     "output_type": "stream",
     "text": [
      "[[-5.    0.    1.5 ]\n",
      " [ 0.    6.5  -1.25]\n",
      " [15.    0.    1.25]]\n",
      "[[-328.8098 ]\n",
      " [  15.82925]\n",
      " [  55.28175]]\n",
      "---------\n",
      "[[ 0.00461248 -0.00261742 -0.01361059]\n",
      " [-0.00261742  0.0348542   0.0581649 ]\n",
      " [-0.01361059  0.0581649   0.30245747]]\n",
      "---------\n",
      "[[2473.27525 ]\n",
      " [ 102.890125]\n",
      " [-443.899075]]\n",
      "---------\n",
      "[[  11.40792365   -6.47360106  -33.66272552]\n",
      " [  -0.26930671    3.58615261    5.98459357]\n",
      " [   6.04172654  -25.81934419 -134.26058979]]\n"
     ]
    }
   ],
   "source": [
    "uwb_loc4((5,0,3,25),(0,0,4.5),(0,6.5,3.25),(15,6.5,4.5),(3.55,5.61,5.69,12.51))"
   ]
  },
  {
   "cell_type": "code",
   "execution_count": 34,
   "id": "5bcb67fa",
   "metadata": {
    "ExecuteTime": {
     "end_time": "2022-05-25T08:57:50.848341Z",
     "start_time": "2022-05-25T08:57:50.843841Z"
    }
   },
   "outputs": [],
   "source": [
    "x1=np.array([[ 0.00461248, -0.00261742, -0.01361059],\n",
    " [-0.00261742 , 0.0348542 ,  0.0581649 ],\n",
    " [-0.01361059 , 0.0581649  , 0.30245747]])\n",
    "x2=np.array([[2473.27525 ],\n",
    " [ 102.890125],\n",
    " [-443.899075]])\n"
   ]
  },
  {
   "cell_type": "code",
   "execution_count": 35,
   "id": "ab7f13c9",
   "metadata": {
    "ExecuteTime": {
     "end_time": "2022-05-25T08:58:04.818115Z",
     "start_time": "2022-05-25T08:58:04.812114Z"
    }
   },
   "outputs": [
    {
     "data": {
      "text/plain": [
       "array([[  17.18035427],\n",
       "       [ -28.70679242],\n",
       "       [-161.93873271]])"
      ]
     },
     "execution_count": 35,
     "metadata": {},
     "output_type": "execute_result"
    }
   ],
   "source": [
    "np.matmul(x1,x2)"
   ]
  },
  {
   "cell_type": "code",
   "execution_count": 10,
   "id": "2443a4c2",
   "metadata": {
    "ExecuteTime": {
     "end_time": "2022-05-25T08:35:45.700569Z",
     "start_time": "2022-05-25T08:35:45.692068Z"
    }
   },
   "outputs": [
    {
     "ename": "AttributeError",
     "evalue": "'list' object has no attribute 'sum'",
     "output_type": "error",
     "traceback": [
      "\u001b[1;31m---------------------------------------------------------------------------\u001b[0m",
      "\u001b[1;31mAttributeError\u001b[0m                            Traceback (most recent call last)",
      "\u001b[1;32m<ipython-input-10-3bc09a90a9f2>\u001b[0m in \u001b[0;36m<module>\u001b[1;34m\u001b[0m\n\u001b[1;32m----> 1\u001b[1;33m \u001b[1;33m[\u001b[0m\u001b[1;36m1\u001b[0m\u001b[1;33m,\u001b[0m\u001b[1;36m2\u001b[0m\u001b[1;33m,\u001b[0m\u001b[1;36m3\u001b[0m\u001b[1;33m]\u001b[0m\u001b[1;33m.\u001b[0m\u001b[0msum\u001b[0m\u001b[1;33m(\u001b[0m\u001b[1;33m)\u001b[0m\u001b[1;33m\u001b[0m\u001b[1;33m\u001b[0m\u001b[0m\n\u001b[0m",
      "\u001b[1;31mAttributeError\u001b[0m: 'list' object has no attribute 'sum'"
     ]
    }
   ],
   "source": [
    "[1,2,3].sum()"
   ]
  },
  {
   "cell_type": "code",
   "execution_count": null,
   "id": "30eab366",
   "metadata": {},
   "outputs": [],
   "source": []
  }
 ],
 "metadata": {
  "kernelspec": {
   "display_name": "Python 3",
   "language": "python",
   "name": "python3"
  },
  "language_info": {
   "codemirror_mode": {
    "name": "ipython",
    "version": 3
   },
   "file_extension": ".py",
   "mimetype": "text/x-python",
   "name": "python",
   "nbconvert_exporter": "python",
   "pygments_lexer": "ipython3",
   "version": "3.8.8"
  }
 },
 "nbformat": 4,
 "nbformat_minor": 5
}
