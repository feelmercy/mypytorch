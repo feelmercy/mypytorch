{
 "cells": [
  {
   "cell_type": "code",
   "execution_count": 29,
   "metadata": {
    "ExecuteTime": {
     "end_time": "2022-05-11T08:47:34.696045Z",
     "start_time": "2022-05-11T08:47:34.689544Z"
    },
    "collapsed": true
   },
   "outputs": [],
   "source": [
    "import numpy as np\n",
    "import math"
   ]
  },
  {
   "cell_type": "code",
   "execution_count": null,
   "metadata": {
    "collapsed": true
   },
   "outputs": [],
   "source": []
  },
  {
   "cell_type": "code",
   "execution_count": 67,
   "metadata": {
    "ExecuteTime": {
     "end_time": "2022-05-11T09:09:53.413040Z",
     "start_time": "2022-05-11T09:09:53.357033Z"
    },
    "collapsed": true
   },
   "outputs": [],
   "source": [
    "def uwb_loc(ax,ay,atheta1,atheta2,adist,bx,by,btheta1,btheta2,bdist):\n",
    "    def _get_data(theta1,theta2,dist):\n",
    "        d1=dist*np.cos(abs(math.radians(theta1)))*np.cos(abs(math.radians(theta2)))\n",
    "        d2=dist*np.cos(abs(math.radians(theta1)))*np.sin(abs(math.radians(theta2)))\n",
    "        return d1,d2\n",
    "    ad1,ad2=_get_data(atheta1,atheta2,adist)\n",
    "    bd1,bd2=_get_data(btheta1,btheta2,bdist)\n",
    "    print(ad1,ad2)\n",
    "    print(bd1,bd2)\n",
    "    \n",
    "    if atheta2<0:\n",
    "        ax2=ax-ad1\n",
    "    else:\n",
    "        ax2=ax+ad1\n",
    "    print(ax2)\n",
    "    if btheta2<0:\n",
    "        by2=by=bd1\n",
    "    else:\n",
    "        by2=by+bd1\n",
    "    print(by2)\n",
    "    return (ax+ax2)/2,(by+by2)/2"
   ]
  },
  {
   "cell_type": "code",
   "execution_count": 65,
   "metadata": {
    "ExecuteTime": {
     "end_time": "2022-05-11T09:08:13.545859Z",
     "start_time": "2022-05-11T09:08:13.539858Z"
    }
   },
   "outputs": [
    {
     "name": "stdout",
     "output_type": "stream",
     "text": [
      "2.0 0.0\n",
      "2.0 0.0\n",
      "2.0\n",
      "2.0\n"
     ]
    },
    {
     "data": {
      "text/plain": [
       "(2.0, 2.0)"
      ]
     },
     "execution_count": 65,
     "metadata": {},
     "output_type": "execute_result"
    }
   ],
   "source": [
    "uwb_loc(2,0,0,0,2,0,2,0,0,2)"
   ]
  },
  {
   "cell_type": "code",
   "execution_count": 8,
   "metadata": {
    "ExecuteTime": {
     "end_time": "2022-05-11T08:36:17.462547Z",
     "start_time": "2022-05-11T08:36:17.449545Z"
    }
   },
   "outputs": [
    {
     "data": {
      "text/plain": [
       "1.2490457723982544"
      ]
     },
     "execution_count": 8,
     "metadata": {},
     "output_type": "execute_result"
    }
   ],
   "source": [
    "np.arcsin(3/(10**(1/2)))"
   ]
  },
  {
   "cell_type": "code",
   "execution_count": 12,
   "metadata": {
    "ExecuteTime": {
     "end_time": "2022-05-11T08:38:05.596278Z",
     "start_time": "2022-05-11T08:38:05.589778Z"
    }
   },
   "outputs": [
    {
     "data": {
      "text/plain": [
       "0.5235987755982989"
      ]
     },
     "execution_count": 12,
     "metadata": {},
     "output_type": "execute_result"
    }
   ],
   "source": [
    "np.arcsin(1/2)"
   ]
  },
  {
   "cell_type": "code",
   "execution_count": 17,
   "metadata": {
    "ExecuteTime": {
     "end_time": "2022-05-11T08:42:20.386133Z",
     "start_time": "2022-05-11T08:42:20.376131Z"
    }
   },
   "outputs": [
    {
     "data": {
      "text/plain": [
       "90.0"
      ]
     },
     "execution_count": 17,
     "metadata": {},
     "output_type": "execute_result"
    }
   ],
   "source": [
    "np.arcsin(1)/np.pi*180"
   ]
  },
  {
   "cell_type": "code",
   "execution_count": 30,
   "metadata": {
    "ExecuteTime": {
     "end_time": "2022-05-11T08:48:20.879409Z",
     "start_time": "2022-05-11T08:48:20.866408Z"
    }
   },
   "outputs": [
    {
     "data": {
      "text/plain": [
       "0.8660254037844386"
      ]
     },
     "execution_count": 30,
     "metadata": {},
     "output_type": "execute_result"
    }
   ],
   "source": [
    "math.sin(math.radians(60))"
   ]
  },
  {
   "cell_type": "code",
   "execution_count": 36,
   "metadata": {
    "ExecuteTime": {
     "end_time": "2022-05-11T08:51:21.705371Z",
     "start_time": "2022-05-11T08:51:21.696370Z"
    }
   },
   "outputs": [
    {
     "data": {
      "text/plain": [
       "0.7071067811865476"
      ]
     },
     "execution_count": 36,
     "metadata": {},
     "output_type": "execute_result"
    }
   ],
   "source": [
    "math.sin(math.radians(45))"
   ]
  },
  {
   "cell_type": "code",
   "execution_count": 42,
   "metadata": {
    "ExecuteTime": {
     "end_time": "2022-05-11T08:57:07.113733Z",
     "start_time": "2022-05-11T08:57:07.098231Z"
    }
   },
   "outputs": [
    {
     "data": {
      "text/plain": [
       "1.719131320877811"
      ]
     },
     "execution_count": 42,
     "metadata": {},
     "output_type": "execute_result"
    }
   ],
   "source": [
    "np.arcsin(3/(10**2))/np.pi*180"
   ]
  },
  {
   "cell_type": "code",
   "execution_count": 41,
   "metadata": {
    "ExecuteTime": {
     "end_time": "2022-05-11T08:56:58.257108Z",
     "start_time": "2022-05-11T08:56:58.244106Z"
    }
   },
   "outputs": [
    {
     "data": {
      "text/plain": [
       "30.000000000000004"
      ]
     },
     "execution_count": 41,
     "metadata": {},
     "output_type": "execute_result"
    }
   ],
   "source": [
    "np.arcsin(0.5)/np.pi*180"
   ]
  },
  {
   "cell_type": "code",
   "execution_count": 45,
   "metadata": {
    "ExecuteTime": {
     "end_time": "2022-05-11T08:59:21.943354Z",
     "start_time": "2022-05-11T08:59:21.931852Z"
    }
   },
   "outputs": [
    {
     "data": {
      "text/plain": [
       "0.9486832980505138"
      ]
     },
     "execution_count": 45,
     "metadata": {},
     "output_type": "execute_result"
    }
   ],
   "source": [
    "math.sin(math.radians(np.arcsin(3/(10**0.5))/np.pi*180))"
   ]
  },
  {
   "cell_type": "code",
   "execution_count": 50,
   "metadata": {
    "ExecuteTime": {
     "end_time": "2022-05-11T09:03:19.912572Z",
     "start_time": "2022-05-11T09:03:19.899070Z"
    }
   },
   "outputs": [
    {
     "data": {
      "text/plain": [
       "1.2490457723982544"
      ]
     },
     "execution_count": 50,
     "metadata": {},
     "output_type": "execute_result"
    }
   ],
   "source": [
    "math.radians(np.arcsin(3/(10**0.5))/np.pi*180)"
   ]
  },
  {
   "cell_type": "code",
   "execution_count": 46,
   "metadata": {
    "ExecuteTime": {
     "end_time": "2022-05-11T08:59:28.646205Z",
     "start_time": "2022-05-11T08:59:28.638204Z"
    }
   },
   "outputs": [
    {
     "data": {
      "text/plain": [
       "0.9486832980505138"
      ]
     },
     "execution_count": 46,
     "metadata": {},
     "output_type": "execute_result"
    }
   ],
   "source": [
    "3/(10**0.5)"
   ]
  },
  {
   "cell_type": "code",
   "execution_count": 51,
   "metadata": {
    "ExecuteTime": {
     "end_time": "2022-05-11T09:03:36.568687Z",
     "start_time": "2022-05-11T09:03:36.555185Z"
    }
   },
   "outputs": [
    {
     "data": {
      "text/plain": [
       "71.56505117707799"
      ]
     },
     "execution_count": 51,
     "metadata": {},
     "output_type": "execute_result"
    }
   ],
   "source": [
    "np.arcsin(3/(10**0.5))/np.pi*180"
   ]
  },
  {
   "cell_type": "code",
   "execution_count": 48,
   "metadata": {
    "ExecuteTime": {
     "end_time": "2022-05-11T09:01:16.224866Z",
     "start_time": "2022-05-11T09:01:16.212364Z"
    }
   },
   "outputs": [
    {
     "data": {
      "text/plain": [
       "18.43494882292201"
      ]
     },
     "execution_count": 48,
     "metadata": {},
     "output_type": "execute_result"
    }
   ],
   "source": [
    "90-np.arcsin(3/(10**0.5))/np.pi*180"
   ]
  },
  {
   "cell_type": "code",
   "execution_count": 93,
   "metadata": {
    "ExecuteTime": {
     "end_time": "2022-05-11T09:24:19.311495Z",
     "start_time": "2022-05-11T09:24:19.236986Z"
    }
   },
   "outputs": [],
   "source": [
    "def uwb_loc(ax,ay,atheta1,atheta2,adist,bx,by,btheta1,btheta2,bdist):\n",
    "    def _get_data(theta1,theta2,dist):\n",
    "        d1=dist*np.cos(abs(math.radians(90-abs(theta1))))*np.cos(math.radians(90-abs(theta2)))\n",
    "        d2=dist*np.cos(abs(math.radians(90-abs(theta1))))*np.sin(math.radians(90-abs(theta2)))\n",
    "        return d1,d2\n",
    "    ad1,ad2=_get_data(atheta1,atheta2,adist)\n",
    "    bd1,bd2=_get_data(btheta1,btheta2,bdist)\n",
    "    print(ad1,ad2)\n",
    "    print(bd1,bd2)\n",
    "    \n",
    "    if atheta2<0:\n",
    "        ax2=ax-ad1\n",
    "    else:\n",
    "        ax2=ax+ad1\n",
    "    print(ax2)\n",
    "    if btheta2<0:\n",
    "        by2=by=bd1\n",
    "    else:\n",
    "        by2=by+bd1\n",
    "    print(by2)\n",
    "    \n",
    "    \n",
    "#     print(ad2,ax2)\n",
    "#     print(bd2,by2)\n",
    "    \n",
    "    return (ad2+ax2)/2,(bd2+by2)/2"
   ]
  },
  {
   "cell_type": "code",
   "execution_count": 94,
   "metadata": {
    "ExecuteTime": {
     "end_time": "2022-05-11T09:24:19.851064Z",
     "start_time": "2022-05-11T09:24:19.841063Z"
    }
   },
   "outputs": [
    {
     "name": "stdout",
     "output_type": "stream",
     "text": [
      "1.0002644751269303 2.9999118286708106\n",
      "1.0002644751269303 2.9999118286708106\n",
      "3.0002644751269303\n",
      "3.0002644751269303\n"
     ]
    },
    {
     "data": {
      "text/plain": [
       "(3.0000881518988702, 3.0000881518988702)"
      ]
     },
     "execution_count": 94,
     "metadata": {},
     "output_type": "execute_result"
    }
   ],
   "source": [
    "uwb_loc(2,0,90,18.44,10**0.5,0,2,90,18.44,10**0.5)"
   ]
  },
  {
   "cell_type": "code",
   "execution_count": 95,
   "metadata": {
    "ExecuteTime": {
     "end_time": "2022-05-11T09:26:39.128750Z",
     "start_time": "2022-05-11T09:26:39.110748Z"
    }
   },
   "outputs": [
    {
     "name": "stdout",
     "output_type": "stream",
     "text": [
      "1.0000000000000002 1.0000000000000002\n",
      "1.0000000000000002 1.0000000000000002\n",
      "0.9999999999999998\n",
      "1.0000000000000002\n"
     ]
    },
    {
     "data": {
      "text/plain": [
       "(1.0, 1.0000000000000002)"
      ]
     },
     "execution_count": 95,
     "metadata": {},
     "output_type": "execute_result"
    }
   ],
   "source": [
    "uwb_loc(2,0,90,-45,2**0.5,0,2,90,-45,2**0.5)"
   ]
  },
  {
   "cell_type": "code",
   "execution_count": null,
   "metadata": {
    "collapsed": true
   },
   "outputs": [],
   "source": []
  },
  {
   "cell_type": "code",
   "execution_count": null,
   "metadata": {
    "collapsed": true
   },
   "outputs": [],
   "source": []
  },
  {
   "cell_type": "code",
   "execution_count": null,
   "metadata": {
    "collapsed": true
   },
   "outputs": [],
   "source": []
  },
  {
   "cell_type": "code",
   "execution_count": 57,
   "metadata": {
    "ExecuteTime": {
     "end_time": "2022-05-11T09:05:27.321751Z",
     "start_time": "2022-05-11T09:05:27.308249Z"
    },
    "collapsed": true
   },
   "outputs": [],
   "source": [
    "def get_data(theta1,theta2,dist):\n",
    "    d1=dist*np.cos(abs(math.radians(theta1)))*np.cos(abs(math.radians(theta2)))\n",
    "    d2=dist*np.cos(abs(math.radians(theta1)))*np.sin(abs(math.radians(theta2)))\n",
    "    return d1,d2"
   ]
  },
  {
   "cell_type": "code",
   "execution_count": 58,
   "metadata": {
    "ExecuteTime": {
     "end_time": "2022-05-11T09:05:27.772308Z",
     "start_time": "2022-05-11T09:05:27.760307Z"
    }
   },
   "outputs": [
    {
     "data": {
      "text/plain": [
       "(0.9997408765078917, 3.0000863620634712)"
      ]
     },
     "execution_count": 58,
     "metadata": {},
     "output_type": "execute_result"
    }
   ],
   "source": [
    "get_data(0,71.57,10**0.5)"
   ]
  },
  {
   "cell_type": "code",
   "execution_count": 91,
   "metadata": {
    "ExecuteTime": {
     "end_time": "2022-05-11T09:23:38.941369Z",
     "start_time": "2022-05-11T09:23:38.923867Z"
    },
    "collapsed": true
   },
   "outputs": [],
   "source": [
    "def get_data2(theta1,theta2,dist):\n",
    "    d1=dist*np.cos(abs(math.radians(90-abs(theta1))))*np.cos(math.radians(90-abs(theta2)))\n",
    "    d2=dist*np.cos(abs(math.radians(90-abs(theta1))))*np.sin(math.radians(90-abs(theta2)))\n",
    "    return d1,d2"
   ]
  },
  {
   "cell_type": "code",
   "execution_count": 92,
   "metadata": {
    "ExecuteTime": {
     "end_time": "2022-05-11T09:23:39.430931Z",
     "start_time": "2022-05-11T09:23:39.422930Z"
    }
   },
   "outputs": [
    {
     "data": {
      "text/plain": [
       "(1.0002644751269303, 2.9999118286708106)"
      ]
     },
     "execution_count": 92,
     "metadata": {},
     "output_type": "execute_result"
    }
   ],
   "source": [
    "get_data2(90,18.44,10**0.5)"
   ]
  },
  {
   "cell_type": "code",
   "execution_count": 86,
   "metadata": {
    "ExecuteTime": {
     "end_time": "2022-05-11T09:22:38.107144Z",
     "start_time": "2022-05-11T09:22:38.093142Z"
    }
   },
   "outputs": [
    {
     "data": {
      "text/plain": [
       "1.0"
      ]
     },
     "execution_count": 86,
     "metadata": {},
     "output_type": "execute_result"
    }
   ],
   "source": [
    "np.cos(abs(math.radians(90-abs(90))))"
   ]
  },
  {
   "cell_type": "code",
   "execution_count": 88,
   "metadata": {
    "ExecuteTime": {
     "end_time": "2022-05-11T09:23:01.362597Z",
     "start_time": "2022-05-11T09:23:01.349596Z"
    }
   },
   "outputs": [
    {
     "data": {
      "text/plain": [
       "0.5000000000000001"
      ]
     },
     "execution_count": 88,
     "metadata": {},
     "output_type": "execute_result"
    }
   ],
   "source": [
    "np.cos(math.radians(90-abs(30)))"
   ]
  },
  {
   "cell_type": "code",
   "execution_count": null,
   "metadata": {
    "collapsed": true
   },
   "outputs": [],
   "source": []
  }
 ],
 "metadata": {
  "kernelspec": {
   "display_name": "Python 3",
   "language": "python",
   "name": "python3"
  },
  "language_info": {
   "codemirror_mode": {
    "name": "ipython",
    "version": 3
   },
   "file_extension": ".py",
   "mimetype": "text/x-python",
   "name": "python",
   "nbconvert_exporter": "python",
   "pygments_lexer": "ipython3",
   "version": "3.6.3"
  }
 },
 "nbformat": 4,
 "nbformat_minor": 2
}
