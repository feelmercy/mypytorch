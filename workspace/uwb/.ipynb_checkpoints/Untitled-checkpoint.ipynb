{
 "cells": [
  {
   "cell_type": "code",
   "execution_count": 6,
   "metadata": {
    "ExecuteTime": {
     "end_time": "2022-06-06T07:10:06.936990Z",
     "start_time": "2022-06-06T07:10:06.933989Z"
    }
   },
   "outputs": [],
   "source": [
    "import numpy as np"
   ]
  },
  {
   "cell_type": "markdown",
   "metadata": {},
   "source": [
    "#### 最小二乘法效果不错"
   ]
  },
  {
   "cell_type": "code",
   "execution_count": 2,
   "metadata": {
    "ExecuteTime": {
     "end_time": "2022-06-06T06:26:00.366918Z",
     "start_time": "2022-06-06T06:26:00.361417Z"
    }
   },
   "outputs": [],
   "source": [
    "def toa_loc(x1,y1,x2,y2,x3,y3,d1,d2,d3):\n",
    "    res_A=-2*x1+2*x2\n",
    "    res_B=-2*y1+2*y2\n",
    "    res_C=d1**2-d2**2-x1**2+x2**2-y1**2+y2**2\n",
    "    res_D=-2*x2+2*x3\n",
    "    res_E=-2*y2+2*y3\n",
    "    res_F=d2**2-d3**2-x2**2+x3**2-y2**2+y3**2\n",
    "    xx=(res_C*res_E-res_F*res_B)/(res_E*res_A-res_B*res_D)\n",
    "    yy=(res_C*res_D-res_A*res_F)/(res_B*res_D-res_A*res_E)\n",
    "    return xx,yy"
   ]
  },
  {
   "cell_type": "code",
   "execution_count": 3,
   "metadata": {
    "ExecuteTime": {
     "end_time": "2022-06-06T06:26:00.969995Z",
     "start_time": "2022-06-06T06:26:00.954993Z"
    }
   },
   "outputs": [
    {
     "data": {
      "text/plain": [
       "(5.0, 5.0)"
      ]
     },
     "execution_count": 3,
     "metadata": {},
     "output_type": "execute_result"
    }
   ],
   "source": [
    "toa_loc(0,0,10,0,0,10,5*np.sqrt(2),5*np.sqrt(2),5*np.sqrt(2))"
   ]
  },
  {
   "cell_type": "code",
   "execution_count": 5,
   "metadata": {
    "ExecuteTime": {
     "end_time": "2022-06-06T06:26:51.705437Z",
     "start_time": "2022-06-06T06:26:51.698936Z"
    }
   },
   "outputs": [
    {
     "data": {
      "text/plain": [
       "(10.000000000000002, 10.000000000000002)"
      ]
     },
     "execution_count": 5,
     "metadata": {},
     "output_type": "execute_result"
    }
   ],
   "source": [
    "toa_loc(0,0,10,0,0,10,10*np.sqrt(2),10,10)"
   ]
  },
  {
   "cell_type": "code",
   "execution_count": 5,
   "metadata": {
    "ExecuteTime": {
     "end_time": "2022-05-31T05:13:30.564191Z",
     "start_time": "2022-05-31T05:13:30.550689Z"
    }
   },
   "outputs": [
    {
     "data": {
      "text/plain": [
       "(5.0, 5.0)"
      ]
     },
     "execution_count": 5,
     "metadata": {},
     "output_type": "execute_result"
    }
   ],
   "source": [
    "toa_loc(0,0,10,0,0,10,5*np.sqrt(2),5*np.sqrt(2),5*np.sqrt(2))"
   ]
  },
  {
   "cell_type": "code",
   "execution_count": 6,
   "metadata": {
    "ExecuteTime": {
     "end_time": "2022-05-31T05:13:30.959241Z",
     "start_time": "2022-05-31T05:13:30.949740Z"
    }
   },
   "outputs": [
    {
     "data": {
      "text/plain": [
       "(10.0, 5.0)"
      ]
     },
     "execution_count": 6,
     "metadata": {},
     "output_type": "execute_result"
    }
   ],
   "source": [
    "toa_loc(0,0,10,0,0,10,np.sqrt(125),5,np.sqrt(125))"
   ]
  },
  {
   "cell_type": "code",
   "execution_count": 7,
   "metadata": {
    "ExecuteTime": {
     "end_time": "2022-05-31T05:13:32.165894Z",
     "start_time": "2022-05-31T05:13:32.152393Z"
    }
   },
   "outputs": [
    {
     "data": {
      "text/plain": [
       "(5.0, 10.0)"
      ]
     },
     "execution_count": 7,
     "metadata": {},
     "output_type": "execute_result"
    }
   ],
   "source": [
    "toa_loc(0,0,10,0,0,10,np.sqrt(125),np.sqrt(125),5)"
   ]
  },
  {
   "cell_type": "code",
   "execution_count": 8,
   "metadata": {
    "ExecuteTime": {
     "end_time": "2022-05-31T05:13:32.670958Z",
     "start_time": "2022-05-31T05:13:32.656457Z"
    }
   },
   "outputs": [
    {
     "data": {
      "text/plain": [
       "(10.000000000000002, 20.0)"
      ]
     },
     "execution_count": 8,
     "metadata": {},
     "output_type": "execute_result"
    }
   ],
   "source": [
    "toa_loc(0,0,10,0,0,10,np.sqrt(500),20,10*np.sqrt(2))"
   ]
  },
  {
   "cell_type": "code",
   "execution_count": 9,
   "metadata": {
    "ExecuteTime": {
     "end_time": "2022-05-31T05:13:33.063008Z",
     "start_time": "2022-05-31T05:13:33.048506Z"
    }
   },
   "outputs": [
    {
     "data": {
      "text/plain": [
       "(10.000000000000002, 10.000000000000002)"
      ]
     },
     "execution_count": 9,
     "metadata": {},
     "output_type": "execute_result"
    }
   ],
   "source": [
    "toa_loc(0,0,10,0,0,10,10*np.sqrt(2),10,10)"
   ]
  },
  {
   "cell_type": "code",
   "execution_count": 10,
   "metadata": {
    "ExecuteTime": {
     "end_time": "2022-05-31T05:13:33.522067Z",
     "start_time": "2022-05-31T05:13:33.512565Z"
    }
   },
   "outputs": [
    {
     "data": {
      "text/plain": [
       "(10.000000000000002, 10.000000000000002)"
      ]
     },
     "execution_count": 10,
     "metadata": {},
     "output_type": "execute_result"
    }
   ],
   "source": [
    "toa_loc(0,0,10,0,0,10,10*np.sqrt(2),10,10)"
   ]
  },
  {
   "cell_type": "code",
   "execution_count": 11,
   "metadata": {
    "ExecuteTime": {
     "end_time": "2022-05-31T05:13:34.719219Z",
     "start_time": "2022-05-31T05:13:34.705217Z"
    }
   },
   "outputs": [
    {
     "data": {
      "text/plain": [
       "(10.000000000000002, 10.000000000000002)"
      ]
     },
     "execution_count": 11,
     "metadata": {},
     "output_type": "execute_result"
    }
   ],
   "source": [
    "toa_loc(0,0,10,0,0,10,10*np.sqrt(2),10,10)"
   ]
  },
  {
   "cell_type": "code",
   "execution_count": null,
   "metadata": {},
   "outputs": [],
   "source": []
  }
 ],
 "metadata": {
  "kernelspec": {
   "display_name": "Python 3",
   "language": "python",
   "name": "python3"
  },
  "language_info": {
   "codemirror_mode": {
    "name": "ipython",
    "version": 3
   },
   "file_extension": ".py",
   "mimetype": "text/x-python",
   "name": "python",
   "nbconvert_exporter": "python",
   "pygments_lexer": "ipython3",
   "version": "3.8.8"
  }
 },
 "nbformat": 4,
 "nbformat_minor": 2
}
