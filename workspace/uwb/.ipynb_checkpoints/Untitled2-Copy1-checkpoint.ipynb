{
 "cells": [
  {
   "cell_type": "code",
   "execution_count": 1,
   "metadata": {
    "ExecuteTime": {
     "end_time": "2022-05-13T05:48:48.892612Z",
     "start_time": "2022-05-13T05:48:48.794100Z"
    },
    "collapsed": true
   },
   "outputs": [],
   "source": [
    "import numpy as np\n",
    "import math"
   ]
  },
  {
   "cell_type": "code",
   "execution_count": 2,
   "metadata": {
    "ExecuteTime": {
     "end_time": "2022-05-13T05:48:49.403677Z",
     "start_time": "2022-05-13T05:48:49.343669Z"
    },
    "collapsed": true
   },
   "outputs": [],
   "source": [
    "def uwb_loc3(ax,ay,ar,atheta,bx,by,br,btheta):\n",
    "    print((ax-bx)**2+(ay-by)**2)\n",
    "    d=np.sqrt((ax-bx)**2+(ay-by)**2)\n",
    "    print(d)\n",
    "    alpha=(ar**2-br**2+d**2)/(2*d)\n",
    "    print(alpha)\n",
    "    ex=ax+alpha/d*(bx-ax)\n",
    "    ey=ay+alpha/d*(by-ay)\n",
    "    h=np.sqrt(ar**2-alpha**2)\n",
    "    cx=ex-h/d*(by-ay)\n",
    "    cy=ey-h/d*(bx-ax)\n",
    "    dx=ex+h/d*(by-ay)\n",
    "    dy=ey+h/d*(bx-ax)\n",
    "    \n",
    "    if atheta>0 and btheta<0:\n",
    "        return cx,cy\n",
    "    else:\n",
    "        return dx,dy"
   ]
  },
  {
   "cell_type": "code",
   "execution_count": 6,
   "metadata": {
    "ExecuteTime": {
     "end_time": "2022-05-13T06:03:25.807966Z",
     "start_time": "2022-05-13T06:03:25.793464Z"
    }
   },
   "outputs": [
    {
     "name": "stdout",
     "output_type": "stream",
     "text": [
      "25\n",
      "5.0\n",
      "3.7\n"
     ]
    },
    {
     "data": {
      "text/plain": [
       "(4.519868415357066, 3.7)"
      ]
     },
     "execution_count": 6,
     "metadata": {},
     "output_type": "execute_result"
    }
   ],
   "source": [
    "uwb_loc3(3,0,4,-5,3,5,2,-5)"
   ]
  },
  {
   "cell_type": "code",
   "execution_count": null,
   "metadata": {
    "collapsed": true
   },
   "outputs": [],
   "source": []
  },
  {
   "cell_type": "code",
   "execution_count": 19,
   "metadata": {
    "ExecuteTime": {
     "end_time": "2022-05-12T10:06:07.013476Z",
     "start_time": "2022-05-12T10:06:07.008475Z"
    }
   },
   "outputs": [
    {
     "name": "stdout",
     "output_type": "stream",
     "text": [
      "25.0\n",
      "5.0\n",
      "2.5\n"
     ]
    },
    {
     "data": {
      "text/plain": [
       "(2.5, 2.5)"
      ]
     },
     "execution_count": 19,
     "metadata": {},
     "output_type": "execute_result"
    }
   ],
   "source": [
    "uwb_loc3(2.5,0,2.5,0,2.5,5,2.5,0)"
   ]
  },
  {
   "cell_type": "code",
   "execution_count": 7,
   "metadata": {
    "ExecuteTime": {
     "end_time": "2022-05-12T09:47:01.122966Z",
     "start_time": "2022-05-12T09:47:01.119466Z"
    }
   },
   "outputs": [
    {
     "data": {
      "text/plain": [
       "5.0"
      ]
     },
     "execution_count": 7,
     "metadata": {},
     "output_type": "execute_result"
    }
   ],
   "source": [
    "np.sqrt(25)"
   ]
  },
  {
   "cell_type": "code",
   "execution_count": 14,
   "metadata": {
    "ExecuteTime": {
     "end_time": "2022-05-12T09:48:35.858996Z",
     "start_time": "2022-05-12T09:48:35.855496Z"
    }
   },
   "outputs": [
    {
     "data": {
      "text/plain": [
       "1.66"
      ]
     },
     "execution_count": 14,
     "metadata": {},
     "output_type": "execute_result"
    }
   ],
   "source": [
    "3-1.34"
   ]
  },
  {
   "cell_type": "code",
   "execution_count": 9,
   "metadata": {
    "ExecuteTime": {
     "end_time": "2022-05-13T06:56:18.461342Z",
     "start_time": "2022-05-13T06:56:18.410836Z"
    },
    "collapsed": true
   },
   "outputs": [],
   "source": [
    "def uwb_loc4(ax,ay,ar,atheta,bx,by,br,btheta):\n",
    "    print((ax-bx)**2+(ay-by)**2)\n",
    "    d=np.sqrt((ax-bx)**2+(ay-by)**2)\n",
    "    print(d)\n",
    "    alpha=(ar**2-br**2+d**2)/(2*d)\n",
    "    print(alpha)\n",
    "    ex=ax+alpha/d*(bx-ax)\n",
    "    ey=ay+alpha/d*(by-ay)\n",
    "    print(ex,ey)\n",
    "    h=np.sqrt(ar**2-alpha**2)\n",
    "    cx=ex-h/d*(by-ay)\n",
    "    cy=ey-h/d*(bx-ax)\n",
    "    dx=ex+h/d*(by-ay)\n",
    "    dy=ey+h/d*(bx-ax)\n",
    "    \n",
    "    if atheta>0 and btheta<0:\n",
    "        return cx,cy\n",
    "    else:\n",
    "        return dx,dy"
   ]
  },
  {
   "cell_type": "code",
   "execution_count": null,
   "metadata": {
    "collapsed": true
   },
   "outputs": [],
   "source": [
    "ax：-6.455ay:366.4ar:314.125atheta:-26.6bx:-19.1by:-283.8br:302.75btheta:-16.5"
   ]
  },
  {
   "cell_type": "code",
   "execution_count": 11,
   "metadata": {
    "ExecuteTime": {
     "end_time": "2022-05-13T06:57:52.349264Z",
     "start_time": "2022-05-13T06:57:52.338763Z"
    }
   },
   "outputs": [
    {
     "data": {
      "text/plain": [
       "616.8199999999999"
      ]
     },
     "execution_count": 11,
     "metadata": {},
     "output_type": "execute_result"
    }
   ],
   "source": [
    "314.12+302.7"
   ]
  },
  {
   "cell_type": "code",
   "execution_count": 12,
   "metadata": {
    "ExecuteTime": {
     "end_time": "2022-05-13T06:58:10.061514Z",
     "start_time": "2022-05-13T06:58:10.051512Z"
    }
   },
   "outputs": [
    {
     "data": {
      "text/plain": [
       "650.2"
      ]
     },
     "execution_count": 12,
     "metadata": {},
     "output_type": "execute_result"
    }
   ],
   "source": [
    "366.4+283.8"
   ]
  },
  {
   "cell_type": "code",
   "execution_count": 10,
   "metadata": {
    "ExecuteTime": {
     "end_time": "2022-05-13T06:56:20.947658Z",
     "start_time": "2022-05-13T06:56:20.929656Z"
    }
   },
   "outputs": [
    {
     "name": "stdout",
     "output_type": "stream",
     "text": [
      "422919.93602500006\n",
      "650.3229474845556\n",
      "330.5773093876648\n"
     ]
    },
    {
     "name": "stderr",
     "output_type": "stream",
     "text": [
      "D:\\ProgramData\\Anaconda3\\lib\\site-packages\\ipykernel_launcher.py:9: RuntimeWarning: invalid value encountered in sqrt\n",
      "  if __name__ == '__main__':\n"
     ]
    },
    {
     "data": {
      "text/plain": [
       "(nan, nan)"
      ]
     },
     "execution_count": 10,
     "metadata": {},
     "output_type": "execute_result"
    }
   ],
   "source": [
    "uwb_loc3(-6.455,366.4,314.12,-26.6,-19.1,-283.8,302.7,-16.5)"
   ]
  },
  {
   "cell_type": "code",
   "execution_count": null,
   "metadata": {
    "collapsed": true
   },
   "outputs": [],
   "source": []
  }
 ],
 "metadata": {
  "kernelspec": {
   "display_name": "Python 3",
   "language": "python",
   "name": "python3"
  },
  "language_info": {
   "codemirror_mode": {
    "name": "ipython",
    "version": 3
   },
   "file_extension": ".py",
   "mimetype": "text/x-python",
   "name": "python",
   "nbconvert_exporter": "python",
   "pygments_lexer": "ipython3",
   "version": "3.8.8"
  }
 },
 "nbformat": 4,
 "nbformat_minor": 2
}
