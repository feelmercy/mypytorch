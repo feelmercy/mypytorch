{
 "cells": [
  {
   "cell_type": "code",
   "execution_count": 7,
   "id": "66c3f6f4",
   "metadata": {
    "ExecuteTime": {
     "end_time": "2022-07-08T01:14:24.227889Z",
     "start_time": "2022-07-08T01:14:20.772144Z"
    }
   },
   "outputs": [
    {
     "name": "stdout",
     "output_type": "stream",
     "text": [
      "Using matplotlib backend: Qt5Agg\n"
     ]
    }
   ],
   "source": [
    "import matplotlib.pyplot as plt\n",
    "%matplotlib auto"
   ]
  },
  {
   "cell_type": "code",
   "execution_count": 13,
   "id": "8f1645da",
   "metadata": {
    "ExecuteTime": {
     "end_time": "2022-07-08T01:16:27.855760Z",
     "start_time": "2022-07-08T01:16:27.844765Z"
    }
   },
   "outputs": [],
   "source": [
    "x1,y1,r1=5,5,3\n",
    "x2,y2,r2=-2,3,4\n",
    "x3,y3,r3=2,-2,3\n"
   ]
  },
  {
   "cell_type": "code",
   "execution_count": null,
   "id": "2b7f5192",
   "metadata": {},
   "outputs": [],
   "source": [
    "(-100.0, 0.0),(0.0, -100.0),(100.0, 0.0),589,277,259= 699.6,-651.36"
   ]
  },
  {
   "cell_type": "code",
   "execution_count": 20,
   "id": "2872b2e7",
   "metadata": {
    "ExecuteTime": {
     "end_time": "2022-07-08T01:19:45.781885Z",
     "start_time": "2022-07-08T01:19:45.771890Z"
    }
   },
   "outputs": [],
   "source": [
    "x1,y1,=-100.0, 0.0\n",
    "x2,y2=0.0, -100.0\n",
    "x3,y3=100.0, 0.0\n",
    "r1,r2,r3=589,277,259"
   ]
  },
  {
   "cell_type": "code",
   "execution_count": null,
   "id": "9923706e",
   "metadata": {},
   "outputs": [],
   "source": [
    "(-100.0, 0.0),(0.0, -100.0),(100.0, 0.0),27,252,226= -125.8675,188.0075"
   ]
  },
  {
   "cell_type": "code",
   "execution_count": 25,
   "id": "22494913",
   "metadata": {
    "ExecuteTime": {
     "end_time": "2022-07-08T01:24:23.051191Z",
     "start_time": "2022-07-08T01:24:23.037199Z"
    }
   },
   "outputs": [],
   "source": [
    "x1,y1,=-100.0, 0.0\n",
    "x2,y2=0.0, -100.0\n",
    "x3,y3=100.0, 0.0\n",
    "r1,r2,r3=27,252,226\n",
    "x4,y4= -125.8675,188.00"
   ]
  },
  {
   "cell_type": "code",
   "execution_count": 26,
   "id": "c31cb96d",
   "metadata": {
    "ExecuteTime": {
     "end_time": "2022-07-08T01:24:23.737053Z",
     "start_time": "2022-07-08T01:24:23.668302Z"
    }
   },
   "outputs": [],
   "source": [
    "plt.figure(figsize=(5, 5))\n",
    "plt.scatter([x1,x2,x3],[y1,y2,y3],color='k')\n",
    "plt.scatter(x4,y4,color='m')\n",
    "circle1=plt.Circle((x1,y1),r1,color='r',fill=False)\n",
    "circle2=plt.Circle((x2,y2),r2,color='g',fill=False)\n",
    "circle3=plt.Circle((x3,y3),r3,color='b',fill=False)\n",
    "plt.gcf().gca().add_artist(circle1)\n",
    "plt.gcf().gca().add_artist(circle2)\n",
    "plt.gcf().gca().add_artist(circle3)\n",
    "plt.axis('equal')\n",
    "plt.xlim(-1000, 1000)\n",
    "plt.ylim(-1000, 1000)\n",
    "plt.show()"
   ]
  },
  {
   "cell_type": "code",
   "execution_count": null,
   "id": "b4359a45",
   "metadata": {},
   "outputs": [],
   "source": []
  },
  {
   "cell_type": "code",
   "execution_count": null,
   "id": "2a214564",
   "metadata": {},
   "outputs": [],
   "source": []
  },
  {
   "cell_type": "code",
   "execution_count": null,
   "id": "b1761893",
   "metadata": {},
   "outputs": [],
   "source": [
    "x1,y1=-100.0, 0.0\n",
    "x2,y2=0.0, -100.0\n",
    "x3,y3=100.0, 0.0\n",
    "r1,r2,r3=27,252,226"
   ]
  },
  {
   "cell_type": "code",
   "execution_count": 27,
   "id": "2d57d219",
   "metadata": {
    "ExecuteTime": {
     "end_time": "2022-07-08T01:25:51.412410Z",
     "start_time": "2022-07-08T01:25:51.405400Z"
    }
   },
   "outputs": [],
   "source": [
    "(x1,y1),(x2,y2),(x3,y3),r1,r2,r3=(-100.0, 0.0),(0.0, -100.0),(100.0, 0.0),27,252,226"
   ]
  },
  {
   "cell_type": "code",
   "execution_count": 40,
   "id": "ec088332",
   "metadata": {
    "ExecuteTime": {
     "end_time": "2022-07-08T02:17:44.521367Z",
     "start_time": "2022-07-08T02:17:44.515370Z"
    }
   },
   "outputs": [],
   "source": [
    "(x1,y1),(x2,y2),(x3,y3),r1,r2,r3=(-100.0, 0.0),(0.0, -100.0),(100.0, 0.0),27,252,226"
   ]
  },
  {
   "cell_type": "code",
   "execution_count": 41,
   "id": "75765257",
   "metadata": {
    "ExecuteTime": {
     "end_time": "2022-07-08T02:17:45.110254Z",
     "start_time": "2022-07-08T02:17:45.050384Z"
    }
   },
   "outputs": [],
   "source": [
    "plt.figure(figsize=(5, 5))\n",
    "plt.scatter([x1,x2,x3],[y1,y2,y3],c=['r','g','b'],s=10)\n",
    "circle1=plt.Circle((x1,y1),r1,color='r',fill=False)\n",
    "circle2=plt.Circle((x2,y2),r2,color='g',fill=False)\n",
    "circle3=plt.Circle((x3,y3),r3,color='b',fill=False)\n",
    "plt.gcf().gca().add_artist(circle1)\n",
    "plt.gcf().gca().add_artist(circle2)\n",
    "plt.gcf().gca().add_artist(circle3)\n",
    "plt.axis('equal')\n",
    "plt.xlim(-1000, 1000)\n",
    "plt.ylim(-1000, 1000)\n",
    "plt.show()"
   ]
  },
  {
   "cell_type": "code",
   "execution_count": null,
   "id": "cd1a35da",
   "metadata": {},
   "outputs": [],
   "source": []
  }
 ],
 "metadata": {
  "kernelspec": {
   "display_name": "Python 3",
   "language": "python",
   "name": "python3"
  },
  "language_info": {
   "codemirror_mode": {
    "name": "ipython",
    "version": 3
   },
   "file_extension": ".py",
   "mimetype": "text/x-python",
   "name": "python",
   "nbconvert_exporter": "python",
   "pygments_lexer": "ipython3",
   "version": "3.8.8"
  }
 },
 "nbformat": 4,
 "nbformat_minor": 5
}
