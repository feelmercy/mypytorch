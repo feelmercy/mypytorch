{
 "cells": [
  {
   "cell_type": "code",
   "execution_count": null,
   "metadata": {
    "ExecuteTime": {
     "start_time": "2020-06-11T09:06:04.760Z"
    },
    "collapsed": true
   },
   "outputs": [],
   "source": [
    "import threading\n",
    "import time\n",
    "import datetime"
   ]
  },
  {
   "cell_type": "code",
   "execution_count": null,
   "metadata": {
    "ExecuteTime": {
     "start_time": "2020-06-11T09:06:07.428Z"
    }
   },
   "outputs": [],
   "source": [
    "threading.activeCount()"
   ]
  },
  {
   "cell_type": "code",
   "execution_count": null,
   "metadata": {
    "ExecuteTime": {
     "end_time": "2020-06-11T09:03:05.370274Z",
     "start_time": "2020-06-11T09:03:05.364274Z"
    }
   },
   "outputs": [],
   "source": [
    "threading.enumerate()"
   ]
  },
  {
   "cell_type": "code",
   "execution_count": null,
   "metadata": {
    "ExecuteTime": {
     "end_time": "2020-06-11T09:03:06.657348Z",
     "start_time": "2020-06-11T09:03:06.652348Z"
    }
   },
   "outputs": [],
   "source": [
    "threading.currentThread()"
   ]
  },
  {
   "cell_type": "code",
   "execution_count": null,
   "metadata": {
    "ExecuteTime": {
     "end_time": "2020-06-11T09:03:08.741467Z",
     "start_time": "2020-06-11T09:03:08.730466Z"
    },
    "collapsed": true
   },
   "outputs": [],
   "source": [
    "def tp(i):\n",
    "    print('i : ',i)\n",
    "    timer = threading.Timer(1, tp(i))\n",
    "    time.sleep(2)\n",
    "    print(datetime.datetime.now())\n",
    "    timer.start()"
   ]
  },
  {
   "cell_type": "code",
   "execution_count": null,
   "metadata": {
    "ExecuteTime": {
     "end_time": "2020-06-11T09:03:13.076715Z",
     "start_time": "2020-06-11T09:03:13.070715Z"
    }
   },
   "outputs": [],
   "source": [
    "t=threading.Thread(target=tp,args=(1,))"
   ]
  },
  {
   "cell_type": "code",
   "execution_count": null,
   "metadata": {
    "ExecuteTime": {
     "end_time": "2020-06-11T09:03:14.040770Z",
     "start_time": "2020-06-11T09:03:14.018769Z"
    }
   },
   "outputs": [],
   "source": [
    "t.start()"
   ]
  },
  {
   "cell_type": "code",
   "execution_count": null,
   "metadata": {
    "ExecuteTime": {
     "end_time": "2020-06-11T09:01:59.873528Z",
     "start_time": "2020-06-11T09:01:59.868528Z"
    }
   },
   "outputs": [],
   "source": [
    "threading.currentThread()"
   ]
  },
  {
   "cell_type": "code",
   "execution_count": null,
   "metadata": {
    "collapsed": true
   },
   "outputs": [],
   "source": []
  }
 ],
 "metadata": {
  "kernelspec": {
   "display_name": "Python 3",
   "language": "python",
   "name": "python3"
  },
  "language_info": {
   "codemirror_mode": {
    "name": "ipython",
    "version": 3
   },
   "file_extension": ".py",
   "mimetype": "text/x-python",
   "name": "python",
   "nbconvert_exporter": "python",
   "pygments_lexer": "ipython3",
   "version": "3.6.3"
  }
 },
 "nbformat": 4,
 "nbformat_minor": 2
}
