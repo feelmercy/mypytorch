{
 "cells": [
  {
   "cell_type": "code",
   "execution_count": 51,
   "metadata": {
    "ExecuteTime": {
     "end_time": "2020-06-30T08:02:20.113245Z",
     "start_time": "2020-06-30T08:02:20.104244Z"
    },
    "collapsed": true
   },
   "outputs": [],
   "source": [
    "import threading\n",
    "import time\n",
    "import datetime"
   ]
  },
  {
   "cell_type": "code",
   "execution_count": 52,
   "metadata": {
    "ExecuteTime": {
     "end_time": "2020-06-30T08:02:20.572271Z",
     "start_time": "2020-06-30T08:02:20.565271Z"
    },
    "collapsed": true
   },
   "outputs": [],
   "source": [
    "def tc_run():\n",
    "    time.sleep(5)\n",
    "    print(threading.current_thread().name,'--Start -- \\n')\n",
    "    print(threading.current_thread().name,'--End -- \\n')"
   ]
  },
  {
   "cell_type": "code",
   "execution_count": 55,
   "metadata": {
    "ExecuteTime": {
     "end_time": "2020-06-30T08:13:40.795178Z",
     "start_time": "2020-06-30T08:13:40.759176Z"
    },
    "collapsed": true
   },
   "outputs": [],
   "source": [
    "def print_name(name):\n",
    "    start_time = time.time()\n",
    "    print('call  : ',name)\n",
    "    print('main threading: ',threading.current_thread().name)\n",
    "    print('------------------')\n",
    "    tc_list=[]\n",
    "    for i in range(4):\n",
    "        tc=threading.Thread(target=tc_run,args=())\n",
    "        tc_list.append(tc)\n",
    "    for tc in tc_list:\n",
    "        tc.setDaemon(True)\n",
    "        tc.start()\n",
    "    for tc in tc_list:\n",
    "        tc.join()\n",
    "    print('total time: ', time.time() - start_time)\n",
    "        \n",
    "        "
   ]
  },
  {
   "cell_type": "code",
   "execution_count": 56,
   "metadata": {
    "ExecuteTime": {
     "end_time": "2020-06-30T08:13:42.736289Z",
     "start_time": "2020-06-30T08:13:42.701287Z"
    }
   },
   "outputs": [
    {
     "name": "stdout",
     "output_type": "stream",
     "text": [
      "call  :  a\n",
      "main threading:  Thread-70\n",
      "------------------\n",
      "Thread-71Thread-73Thread-72Thread-74    total time: --Start -- \n",
      "--Start -- \n",
      "--Start -- \n",
      "--Start -- \n",
      " \n",
      "\n",
      "\n",
      "\n",
      "5.089291334152222Thread-71Thread-73Thread-72Thread-74\n",
      "    --End -- \n",
      "--End -- \n",
      "--End -- \n",
      "--End -- \n",
      "\n",
      "\n",
      "\n",
      "\n"
     ]
    }
   ],
   "source": [
    "t = threading.Thread(target=print_name, args=('a'))\n",
    "t.start()\n"
   ]
  },
  {
   "cell_type": "code",
   "execution_count": null,
   "metadata": {
    "collapsed": true
   },
   "outputs": [],
   "source": []
  },
  {
   "cell_type": "code",
   "execution_count": null,
   "metadata": {
    "collapsed": true
   },
   "outputs": [],
   "source": []
  }
 ],
 "metadata": {
  "kernelspec": {
   "display_name": "Python 3",
   "language": "python",
   "name": "python3"
  },
  "language_info": {
   "codemirror_mode": {
    "name": "ipython",
    "version": 3
   },
   "file_extension": ".py",
   "mimetype": "text/x-python",
   "name": "python",
   "nbconvert_exporter": "python",
   "pygments_lexer": "ipython3",
   "version": "3.6.3"
  }
 },
 "nbformat": 4,
 "nbformat_minor": 2
}
