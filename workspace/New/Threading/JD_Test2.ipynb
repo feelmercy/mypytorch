{
 "cells": [
  {
   "cell_type": "code",
   "execution_count": 1,
   "metadata": {
    "ExecuteTime": {
     "end_time": "2020-06-30T08:38:07.876090Z",
     "start_time": "2020-06-30T08:38:07.702080Z"
    }
   },
   "outputs": [
    {
     "name": "stdout",
     "output_type": "stream",
     "text": [
      "2020-06-30 18:00:00\n",
      "4912.139911爬虫开始执行\n",
      "\n"
     ]
    },
    {
     "name": "stderr",
     "output_type": "stream",
     "text": [
      "Exception in thread Thread-6:\n",
      "Traceback (most recent call last):\n",
      "  File \"D:\\ProgramData\\Anaconda3\\lib\\threading.py\", line 916, in _bootstrap_inner\n",
      "    self.run()\n",
      "  File \"D:\\ProgramData\\Anaconda3\\lib\\threading.py\", line 1182, in run\n",
      "    self.function(*self.args, **self.kwargs)\n",
      "  File \"<ipython-input-1-a040c3f8a359>\", line 8, in func\n",
      "    getdata()\n",
      "NameError: name 'getdata' is not defined\n",
      "\n"
     ]
    }
   ],
   "source": [
    "import datetime\n",
    "import threading\n",
    "import requests\n",
    "\n",
    "\n",
    "def func():\n",
    "    print(\"爬虫开始执行\")\n",
    "    getdata()\n",
    "    print(\"爬虫执行完毕\")\n",
    "    #每隔多少秒执行一次,默认10秒\n",
    "    timer = threading.Timer(10, func)\n",
    "    timer.start()\n",
    "\n",
    "\n",
    "# 获取现在时间\n",
    "now_time = datetime.datetime.now()\n",
    "# 获取时间\n",
    "next_time = now_time + datetime.timedelta(days=+0)\n",
    "next_year = next_time.date().year\n",
    "next_month = next_time.date().month\n",
    "next_day = next_time.date().day\n",
    "# 获取定时时间\n",
    "next_time = datetime.datetime.strptime(\n",
    "    str(next_year) + \"-\" + str(next_month) + \"-\" + str(next_day) + \" 18:00:00\",\n",
    "    \"%Y-%m-%d %H:%M:%S\")\n",
    "print(next_time)\n",
    "\n",
    "# 获取距离定时时间差，单位为秒\n",
    "timer_start_time = (next_time - now_time).total_seconds()\n",
    "print(timer_start_time)\n",
    "# 54186.75975\n",
    "\n",
    "#定时器,参数为(多少时间后执行，单位为秒，执行的方法)\n",
    "# timer = threading.Timer(timer_start_time, func)\n",
    "timer = threading.Timer(0, func)\n",
    "timer.start()\n",
    "\n",
    "\n",
    "#爬虫\n",
    "def getdata():\n",
    "    headers = {\n",
    "        'origin':\n",
    "        'https://prodev.m.jd.com',\n",
    "        'accept-encoding':\n",
    "        'gzip, deflate',\n",
    "        'accept-language':\n",
    "        'zh-CN,zh;q=0.8',\n",
    "        'user-agent':\n",
    "        'Mozilla/5.0 (Windows NT 6.1; WOW64) AppleWebKit/537.36 (KHTML, like Gecko) Chrome/49.0.2623.221 Safari/537.36 SE 2.X MetaSr 1.0',\n",
    "        'content-type':\n",
    "        'application/x-www-form-urlencoded',\n",
    "        'accept':\n",
    "        '*/*',\n",
    "        'referer':\n",
    "        'https://prodev.m.jd.com/mall/active/2KwUoULZwmV1bH4A98vzC9DedVeP/index.html',\n",
    "        'authority':\n",
    "        'api.m.jd.com',\n",
    "        'cookie':\n",
    "        'areaId=22; ipLoc-djd=22-1930-50947-0; user-key=bde17081-2ce4-4868-9f76-0c61a3c03a0e; TrackID=1WLOpyTxROw3Qe7tTB3G-lMHo0z2TZVXxYKRzmGv2P4EU5hfjmc1sCZdVVkrs5OpsAkbuVvo5XKpaO4RxiMysvA; pinId=NHuBB8jVT1T1jn8Eu3f9tA; pin=feelmercy; unick=simenwan; ceshi3.com=201; _tp=o7a4ozhcuG800e2%2B9AK3WA%3D%3D; _pst=feelmercy; autoOpenApp_downCloseDate_auto=1591780613317_21600000; thor=B100B9FC0C019A6991EEC5A83EF53627D11A60EF7E4E5C6B4E94157B0D19A1CC1950512F2D1493C10B1FA9D3B14D94934407B7310CA14011EC2B580FC7D072E1663768E27414FD84183AD4390AB7A8CCA1B5F072F826E169BA5ABB7A65E8AD8E50EF07230FB5F86E9052B891C9224D46C1245121AC568C4AF7CC2941B307135FCF9476E631D6911BFFA7774E596B40D0; cn=95; unpl=V2_ZzNtbREEFxwnDENQfhFUB2IBFw9KVRYVIQ1BBCseCwdnChRfclRCFnQUR1NnGV0UZwUZXUpcQxBFCEdkexhdBGYCEFpBU3NXK14YECdSbDVkAyJdQ2dDEX0IRFZ%2bH18AbwAQXUVWSxN3CEJVeSlsAlczIlxyVnMURUMoVTYZWA1nARBYRFRGHXYKRlN6EVoHZwcTX3JWcxY%3d; __jdv=76161171|123.sogou.com|t_1000003625_sogoumz|tuiguang|bbe8c5454993434c93d1e46aa6f31873|1591780749899; __jdu=15913347249231609731503; __jda=122270672.15913347249231609731503.1591334724.1591772186.1591779376.16; __jdb=122270672.15.15913347249231609731503|16.1591779376; __jdc=122270672; shshshfp=6510c4fa3f04220c1fd166a597e28f49; shshshsID=ba3308bceb12522958e80b35584be618_13_1591780767912; shshshfpa=e20af-1591334728%3B%20__jdu%3D15913347249231609731503; shshshfpb=cnfXPvp6xq6bG7IQRMMRkrQ%3D%3D; UM_distinctid=1729d86fb320-014c2a1c3f84e2-1571466f-1fa400-1729d86fb334d3; 3AB9D23F7A4B3C9B=3ONTI4QZ25TDQNSHLJ4DSXZYKSWNVRZAPW7S6B2A4ZROFAFWPUXQ6LU6ND4ATMATARWPS2BVWO5FYRW4NP6XQAEUJY; __jd_ref_cls=Babel_FreeCouponExpo; mba_sid=15917807670609005250249848962.1; mba_muid=15913347249231609731503',\n",
    "    }\n",
    "\n",
    "    params = (('functionId', 'newBabelAwardCollection'), )\n",
    "\n",
    "    data = {\n",
    "        'body':\n",
    "        '{\"activityId\":\"2KwUoULZwmV1bH4A98vzC9DedVeP\",\"scene\":\"1\",\"args\":\"key=A6A601CC67E02D49CD6596A3A46561D5E9FA685EF4CB51C272C5106F4D4BDD2CAB2577C86334298926F4BF085640B80C_babel,roleId=F6CE3D733837E982E3C76A3B076D9217_babel\",\"platform\":\"3\",\"orgType\":\"2\",\"openId\":\"-1\",\"pageClickKey\":\"-1\",\"eid\":\"3ONTI4QZ25TDQNSHLJ4DSXZYKSWNVRZAPW7S6B2A4ZROFAFWPUXQ6LU6ND4ATMATARWPS2BVWO5FYRW4NP6XQAEUJY\",\"fp\":\"38f4c8a905b54b0c7b555c224f6f86ae\",\"shshshfp\":\"6510c4fa3f04220c1fd166a597e28f49\",\"shshshfpa\":\"e20af-1591334728; __jdu=15913347249231609731503\",\"shshshfpb\":\"cnfXPvp6xq6bG7IQRMMRkrQ==\",\"childActivityUrl\":\"https://prodev.m.jd.com/mall/active/2KwUoULZwmV1bH4A98vzC9DedVeP/index.html\",\"pageClick\":\"Babel_Coupon\",\"mitemAddrId\":\"\",\"geo\":{\"lng\":\"\",\"lat\":\"\"},\"addressId\":\"\",\"posLng\":\"\",\"posLat\":\"\",\"focus\":\"\",\"innerAnchor\":\"\",\"cv\":\"2.0\"}',\n",
    "        'screen': '750*1334',\n",
    "        'client': 'wh5',\n",
    "        'clientVersion': '1.0.0',\n",
    "        'sid': '',\n",
    "        'uuid': '15913347249231609731503',\n",
    "        'area': ''\n",
    "    }\n",
    "\n",
    "    response = requests.post('https://api.m.jd.com/client.action',\n",
    "                             headers=headers,\n",
    "                             params=params,\n",
    "                             data=data)\n",
    "    for i in response:\n",
    "        #         print(i)\n",
    "        print(i.decode(encoding=r\"utf-8\"))\n",
    "\n",
    "\n",
    "#NB. Original query string below. It seems impossible to parse and\n",
    "#reproduce query strings 100% accurately so the one below is given\n",
    "#in case the reproduced version is not \"correct\".\n",
    "# response = requests.post('https://api.m.jd.com/client.action?functionId=newBabelAwardCollection', headers=headers, data=data)"
   ]
  },
  {
   "cell_type": "code",
   "execution_count": 6,
   "metadata": {
    "ExecuteTime": {
     "end_time": "2020-06-11T08:03:31.704314Z",
     "start_time": "2020-06-11T08:03:31.686714Z"
    }
   },
   "outputs": [
    {
     "data": {
      "text/plain": [
       "8"
      ]
     },
     "execution_count": 6,
     "metadata": {},
     "output_type": "execute_result"
    },
    {
     "name": "stdout",
     "output_type": "stream",
     "text": [
      "爬虫开始执行\n",
      "b'{\"subCodeMsg\":\"\\xe6\\x82\\xa8\\xe6\\x9d\\xa5\\xe5\\xa4\\xaa\\xe6\\x99\\x9a\\xe4\\xba\\x86\\xef\\xbc\\x8c\\xe6\\xb4\\xbb\\xe5\\x8a\\xa8\\xe5\\xb7\\xb2\\xe7\\xbb\\x8f\\xe7\\xbb\\x93\\xe6\\x9d\\x9f\\xe4\\xba\\x86\\xe5\\x93\\x9f~\",\"subCode\":\"A6\",\"code\":\"0\",\"msg\":null}'\n",
      "爬虫执行完毕\n",
      "爬虫开始执行\n",
      "b'{\"subCodeMsg\":\"\\xe6\\x82\\xa8\\xe6\\x9d\\xa5\\xe5\\xa4\\xaa\\xe6\\x99\\x9a\\xe4\\xba\\x86\\xef\\xbc\\x8c\\xe6\\xb4\\xbb\\xe5\\x8a\\xa8\\xe5\\xb7\\xb2\\xe7\\xbb\\x8f\\xe7\\xbb\\x93\\xe6\\x9d\\x9f\\xe4\\xba\\x86\\xe5\\x93\\x9f~\",\"subCode\":\"A6\",\"code\":\"0\",\"msg\":null}'\n",
      "爬虫执行完毕\n",
      "爬虫开始执行\n",
      "b'{\"subCodeMsg\":\"\\xe6\\x82\\xa8\\xe6\\x9d\\xa5\\xe5\\xa4\\xaa\\xe6\\x99\\x9a\\xe4\\xba\\x86\\xef\\xbc\\x8c\\xe6\\xb4\\xbb\\xe5\\x8a\\xa8\\xe5\\xb7\\xb2\\xe7\\xbb\\x8f\\xe7\\xbb\\x93\\xe6\\x9d\\x9f\\xe4\\xba\\x86\\xe5\\x93\\x9f~\",\"subCode\":\"A6\",\"code\":\"0\",\"msg\":null}'\n",
      "爬虫执行完毕\n",
      "爬虫开始执行\n",
      "b'{\"subCodeMsg\":\"\\xe6\\x82\\xa8\\xe6\\x9d\\xa5\\xe5\\xa4\\xaa\\xe6\\x99\\x9a\\xe4\\xba\\x86\\xef\\xbc\\x8c\\xe6\\xb4\\xbb\\xe5\\x8a\\xa8\\xe5\\xb7\\xb2\\xe7\\xbb\\x8f\\xe7\\xbb\\x93\\xe6\\x9d\\x9f\\xe4\\xba\\x86\\xe5\\x93\\x9f~\",\"subCode\":\"A6\",\"code\":\"0\",\"msg\":null}'\n",
      "爬虫执行完毕\n",
      "爬虫开始执行\n",
      "b'{\"subCodeMsg\":\"\\xe6\\x82\\xa8\\xe6\\x9d\\xa5\\xe5\\xa4\\xaa\\xe6\\x99\\x9a\\xe4\\xba\\x86\\xef\\xbc\\x8c\\xe6\\xb4\\xbb\\xe5\\x8a\\xa8\\xe5\\xb7\\xb2\\xe7\\xbb\\x8f\\xe7\\xbb\\x93\\xe6\\x9d\\x9f\\xe4\\xba\\x86\\xe5\\x93\\x9f~\",\"subCode\":\"A6\",\"code\":\"0\",\"msg\":null}'\n",
      "爬虫执行完毕\n",
      "爬虫开始执行\n",
      "b'{\"subCodeMsg\":\"\\xe6\\x82\\xa8\\xe6\\x9d\\xa5\\xe5\\xa4\\xaa\\xe6\\x99\\x9a\\xe4\\xba\\x86\\xef\\xbc\\x8c\\xe6\\xb4\\xbb\\xe5\\x8a\\xa8\\xe5\\xb7\\xb2\\xe7\\xbb\\x8f\\xe7\\xbb\\x93\\xe6\\x9d\\x9f\\xe4\\xba\\x86\\xe5\\x93\\x9f~\",\"subCode\":\"A6\",\"code\":\"0\",\"msg\":null}'\n",
      "爬虫执行完毕\n"
     ]
    }
   ],
   "source": [
    "threading.active_count()"
   ]
  }
 ],
 "metadata": {
  "kernelspec": {
   "display_name": "Python 3",
   "language": "python",
   "name": "python3"
  },
  "language_info": {
   "codemirror_mode": {
    "name": "ipython",
    "version": 3
   },
   "file_extension": ".py",
   "mimetype": "text/x-python",
   "name": "python",
   "nbconvert_exporter": "python",
   "pygments_lexer": "ipython3",
   "version": "3.6.3"
  }
 },
 "nbformat": 4,
 "nbformat_minor": 2
}
