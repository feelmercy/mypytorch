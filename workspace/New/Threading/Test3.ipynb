{
 "cells": [
  {
   "cell_type": "code",
   "execution_count": 1,
   "metadata": {
    "ExecuteTime": {
     "end_time": "2020-06-12T03:00:43.937533Z",
     "start_time": "2020-06-12T03:00:43.934533Z"
    },
    "collapsed": true
   },
   "outputs": [],
   "source": [
    "import threading\n",
    "import datetime\n",
    "import time"
   ]
  },
  {
   "cell_type": "code",
   "execution_count": 4,
   "metadata": {
    "ExecuteTime": {
     "end_time": "2020-06-12T03:06:11.274255Z",
     "start_time": "2020-06-12T03:06:11.254254Z"
    },
    "collapsed": true
   },
   "outputs": [],
   "source": [
    "def run2(name):\n",
    "    time.sleep(2)\n",
    "    print('name is called :',name)\n",
    "    print('---------------------')\n",
    "    print('current thread name: '+threading.current_thread().name+'\\n')\n",
    "    print('current thread Qua: '+str(threading.active_count())+'\\n')\n",
    "#     threading.Timer(2,run2('---main---'))\n",
    "    time.sleep(2)\n",
    "    print(threading.current_thread().name+' is end !')"
   ]
  },
  {
   "cell_type": "code",
   "execution_count": 5,
   "metadata": {
    "ExecuteTime": {
     "end_time": "2020-06-12T03:06:15.968524Z",
     "start_time": "2020-06-12T03:06:11.862289Z"
    }
   },
   "outputs": [
    {
     "name": "stdout",
     "output_type": "stream",
     "text": [
      "This is main thread:  MainThread\n",
      "name is called :name is called :name is called :name is called :name is called :    ---son------son--- ---son------son---\n",
      "\n",
      "---son---\n",
      "\n",
      "------------------------------------------\n",
      "------------------------------------------\n",
      "\n",
      "---------------------\n",
      "\n",
      "current thread name: Thread-13\n",
      "current thread name: Thread-15\n",
      "\n",
      "current thread name: Thread-11\n",
      "current thread name: Thread-14\n",
      "\n",
      "\n",
      "current thread name: Thread-12\n",
      "\n",
      "\n",
      "current thread Qua: 10\n",
      "current thread Qua: 10\n",
      "\n",
      "current thread Qua: 10\n",
      "current thread Qua: 10\n",
      "\n",
      "\n",
      "current thread Qua: 10\n",
      "\n",
      "\n",
      "\n",
      "run2 is end !run2 is end !run2 is end !run2 is end !run2 is end !\n",
      "\n",
      "\n",
      "\n",
      "main thread is end !  \n",
      "MainThread\n",
      "total time:  4.07023286819458\n"
     ]
    }
   ],
   "source": [
    "start_time = time.time()\n",
    "print('This is main thread: ', threading.current_thread().name)\n",
    "thread_list = []\n",
    "for i in range(5):\n",
    "    t = threading.Thread(target=run2, args=('---son---', ))\n",
    "#     threading.Timer(2,run2('---main---'))\n",
    "    thread_list.append(t)\n",
    "\n",
    "for t in thread_list:\n",
    "    t.setDaemon(True)\n",
    "    t.start()\n",
    "\n",
    "\n",
    "#         t.Timer(2,run2('---son 2---'))\n",
    "for t in thread_list:\n",
    "    t.join(6)\n",
    "print('main thread is end ! ', threading.current_thread().name)\n",
    "print('total time: ', time.time() - start_time)"
   ]
  },
  {
   "cell_type": "code",
   "execution_count": 9,
   "metadata": {
    "ExecuteTime": {
     "end_time": "2020-06-12T07:59:32.323978Z",
     "start_time": "2020-06-12T07:59:28.315749Z"
    }
   },
   "outputs": [
    {
     "name": "stdout",
     "output_type": "stream",
     "text": [
      "name is called : --test--\n",
      "---------------------\n",
      "current thread name: MainThread\n",
      "\n",
      "current thread Qua: 5\n",
      "\n",
      "run2 is end !\n"
     ]
    }
   ],
   "source": [
    "t6=threading.Timer(2,run2('--test--'))"
   ]
  },
  {
   "cell_type": "code",
   "execution_count": 12,
   "metadata": {
    "ExecuteTime": {
     "end_time": "2020-06-12T08:09:31.105226Z",
     "start_time": "2020-06-12T08:09:31.095226Z"
    }
   },
   "outputs": [
    {
     "data": {
      "text/plain": [
       "[<_MainThread(MainThread, started 8816)>,\n",
       " <Thread(Thread-4, started daemon 5604)>,\n",
       " <Heartbeat(Thread-5, started daemon 7420)>,\n",
       " <HistorySavingThread(IPythonHistorySavingThread, started 7864)>,\n",
       " <ParentPollerWindows(Thread-3, started daemon 9500)>]"
      ]
     },
     "execution_count": 12,
     "metadata": {},
     "output_type": "execute_result"
    }
   ],
   "source": [
    "threading.enumerate()"
   ]
  },
  {
   "cell_type": "code",
   "execution_count": null,
   "metadata": {
    "collapsed": true
   },
   "outputs": [],
   "source": []
  }
 ],
 "metadata": {
  "kernelspec": {
   "display_name": "Python 3",
   "language": "python",
   "name": "python3"
  },
  "language_info": {
   "codemirror_mode": {
    "name": "ipython",
    "version": 3
   },
   "file_extension": ".py",
   "mimetype": "text/x-python",
   "name": "python",
   "nbconvert_exporter": "python",
   "pygments_lexer": "ipython3",
   "version": "3.6.3"
  }
 },
 "nbformat": 4,
 "nbformat_minor": 2
}
