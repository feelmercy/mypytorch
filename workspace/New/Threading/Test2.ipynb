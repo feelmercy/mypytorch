{
 "cells": [
  {
   "cell_type": "code",
   "execution_count": 2,
   "metadata": {
    "ExecuteTime": {
     "end_time": "2020-12-23T08:47:30.298075Z",
     "start_time": "2020-12-23T08:47:30.293075Z"
    },
    "collapsed": true
   },
   "outputs": [],
   "source": [
    "import threading\n",
    "import time\n",
    "import datetime"
   ]
  },
  {
   "cell_type": "code",
   "execution_count": 3,
   "metadata": {
    "ExecuteTime": {
     "end_time": "2020-12-23T08:47:33.208242Z",
     "start_time": "2020-12-23T08:47:33.187241Z"
    }
   },
   "outputs": [
    {
     "data": {
      "text/plain": [
       "5"
      ]
     },
     "execution_count": 3,
     "metadata": {},
     "output_type": "execute_result"
    }
   ],
   "source": [
    "threading.activeCount()"
   ]
  },
  {
   "cell_type": "code",
   "execution_count": 4,
   "metadata": {
    "ExecuteTime": {
     "end_time": "2020-12-23T08:47:39.437598Z",
     "start_time": "2020-12-23T08:47:39.429598Z"
    }
   },
   "outputs": [
    {
     "data": {
      "text/plain": [
       "<_MainThread(MainThread, started 7132)>"
      ]
     },
     "execution_count": 4,
     "metadata": {},
     "output_type": "execute_result"
    }
   ],
   "source": [
    "threading.current_thread()"
   ]
  },
  {
   "cell_type": "code",
   "execution_count": 5,
   "metadata": {
    "ExecuteTime": {
     "end_time": "2020-12-23T08:47:43.317820Z",
     "start_time": "2020-12-23T08:47:43.310820Z"
    }
   },
   "outputs": [
    {
     "data": {
      "text/plain": [
       "[<_MainThread(MainThread, started 7132)>,\n",
       " <Thread(Thread-4, started daemon 13140)>,\n",
       " <Heartbeat(Thread-5, started daemon 8996)>,\n",
       " <HistorySavingThread(IPythonHistorySavingThread, started 1728)>,\n",
       " <ParentPollerWindows(Thread-3, started daemon 7004)>]"
      ]
     },
     "execution_count": 5,
     "metadata": {},
     "output_type": "execute_result"
    }
   ],
   "source": [
    "threading.enumerate()"
   ]
  },
  {
   "cell_type": "code",
   "execution_count": 6,
   "metadata": {
    "ExecuteTime": {
     "end_time": "2020-12-23T08:48:08.144240Z",
     "start_time": "2020-12-23T08:48:08.126239Z"
    },
    "collapsed": true
   },
   "outputs": [],
   "source": [
    "def tp(i):\n",
    "    print('i : ',i)\n",
    "#     timer = threading.Timer(1, tp(i))\n",
    "    print(threading.enumerate())\n",
    "    print('-------------------')\n",
    "    print(threading.current_thread())\n",
    "    print('-------------------')\n",
    "    print(threading.activeCount())\n",
    "    time.sleep(10)\n",
    "    print(datetime.datetime.now())\n",
    "#     timer.start()"
   ]
  },
  {
   "cell_type": "code",
   "execution_count": 7,
   "metadata": {
    "ExecuteTime": {
     "end_time": "2020-12-23T08:48:27.957373Z",
     "start_time": "2020-12-23T08:48:27.949373Z"
    },
    "collapsed": true
   },
   "outputs": [],
   "source": [
    "t=threading.Thread(target=tp,args=(1,))"
   ]
  },
  {
   "cell_type": "code",
   "execution_count": 8,
   "metadata": {
    "ExecuteTime": {
     "end_time": "2020-12-23T08:48:33.465688Z",
     "start_time": "2020-12-23T08:48:33.431687Z"
    }
   },
   "outputs": [
    {
     "name": "stdout",
     "output_type": "stream",
     "text": [
      "i :  1\n",
      "[<_MainThread(MainThread, started 7132)>, <Thread(Thread-4, started daemon 13140)>, <Heartbeat(Thread-5, started daemon 8996)>, <HistorySavingThread(IPythonHistorySavingThread, started 1728)>, <ParentPollerWindows(Thread-3, started daemon 7004)>, <Thread(Thread-6, started 3544)>]\n",
      "-------------------\n",
      "<Thread(Thread-6, started 3544)>\n",
      "-------------------\n",
      "6\n",
      "2020-12-23 16:48:43.453260\n"
     ]
    }
   ],
   "source": [
    "t.start()"
   ]
  },
  {
   "cell_type": "code",
   "execution_count": 9,
   "metadata": {
    "ExecuteTime": {
     "end_time": "2020-12-23T08:49:13.288966Z",
     "start_time": "2020-12-23T08:49:13.284966Z"
    }
   },
   "outputs": [
    {
     "data": {
      "text/plain": [
       "[<_MainThread(MainThread, started 7132)>,\n",
       " <Thread(Thread-4, started daemon 13140)>,\n",
       " <Heartbeat(Thread-5, started daemon 8996)>,\n",
       " <HistorySavingThread(IPythonHistorySavingThread, started 1728)>,\n",
       " <ParentPollerWindows(Thread-3, started daemon 7004)>]"
      ]
     },
     "execution_count": 9,
     "metadata": {},
     "output_type": "execute_result"
    }
   ],
   "source": [
    "threading.enumerate()"
   ]
  },
  {
   "cell_type": "code",
   "execution_count": 10,
   "metadata": {
    "ExecuteTime": {
     "end_time": "2020-12-23T08:49:20.721391Z",
     "start_time": "2020-12-23T08:49:20.710391Z"
    }
   },
   "outputs": [
    {
     "data": {
      "text/plain": [
       "5"
      ]
     },
     "execution_count": 10,
     "metadata": {},
     "output_type": "execute_result"
    }
   ],
   "source": [
    "threading.activeCount()"
   ]
  },
  {
   "cell_type": "code",
   "execution_count": 11,
   "metadata": {
    "ExecuteTime": {
     "end_time": "2020-12-23T08:49:24.447604Z",
     "start_time": "2020-12-23T08:49:24.432604Z"
    },
    "collapsed": true
   },
   "outputs": [],
   "source": [
    "def tp2(i):\n",
    "    print(threading.activeCount())\n",
    "    print('------------------')\n",
    "    print(threading.enumerate())\n",
    "    print('------------------')\n",
    "    print(threading.current_thread())\n",
    "    print('-------------------')\n",
    "    time.sleep(10)\n",
    "    print(datetime.datetime.now())"
   ]
  },
  {
   "cell_type": "code",
   "execution_count": 48,
   "metadata": {
    "ExecuteTime": {
     "end_time": "2020-06-11T09:26:19.762029Z",
     "start_time": "2020-06-11T09:26:19.749028Z"
    }
   },
   "outputs": [
    {
     "name": "stdout",
     "output_type": "stream",
     "text": [
      "6\n",
      "------------------\n",
      "[<_MainThread(MainThread, started 1380)>, <Thread(Thread-4, started daemon 4208)>, <Heartbeat(Thread-5, started daemon 5384)>, <HistorySavingThread(IPythonHistorySavingThread, started 3380)>, <ParentPollerWindows(Thread-3, started daemon 6236)>, <Thread(Thread-17, started 7556)>]\n",
      "------------------\n",
      "<Thread(Thread-17, started 7556)>\n",
      "-------------------\n",
      "2020-06-11 17:26:29.760601\n"
     ]
    }
   ],
   "source": [
    "t=threading.Thread(target=tp2,args=(5,))\n",
    "t.start()"
   ]
  },
  {
   "cell_type": "code",
   "execution_count": 13,
   "metadata": {
    "ExecuteTime": {
     "end_time": "2020-12-23T08:59:49.405350Z",
     "start_time": "2020-12-23T08:59:49.394349Z"
    }
   },
   "outputs": [
    {
     "data": {
      "text/plain": [
       "[<_MainThread(MainThread, started 7132)>,\n",
       " <Thread(Thread-4, started daemon 13140)>,\n",
       " <Heartbeat(Thread-5, started daemon 8996)>,\n",
       " <HistorySavingThread(IPythonHistorySavingThread, started 1728)>,\n",
       " <ParentPollerWindows(Thread-3, started daemon 7004)>]"
      ]
     },
     "execution_count": 13,
     "metadata": {},
     "output_type": "execute_result"
    }
   ],
   "source": [
    "threading.enumerate()"
   ]
  },
  {
   "cell_type": "code",
   "execution_count": 14,
   "metadata": {
    "ExecuteTime": {
     "end_time": "2020-12-23T08:59:49.934380Z",
     "start_time": "2020-12-23T08:59:49.924380Z"
    },
    "collapsed": true
   },
   "outputs": [],
   "source": [
    "def run():\n",
    "    time.sleep(2)\n",
    "    print('current thread name: '+threading.current_thread().name+'\\n')\n",
    "    time.sleep(2)"
   ]
  },
  {
   "cell_type": "code",
   "execution_count": 15,
   "metadata": {
    "ExecuteTime": {
     "end_time": "2020-12-23T08:59:50.970440Z",
     "start_time": "2020-12-23T08:59:50.939438Z"
    }
   },
   "outputs": [
    {
     "name": "stdout",
     "output_type": "stream",
     "text": [
      "This is main thread:  MainThread\n",
      "main thread is end !  MainThread\n",
      "total time:  0.0030002593994140625\n",
      "current thread name: Thread-11\n",
      "\n",
      "current thread name: Thread-10\n",
      "current thread name: Thread-7\n",
      "current thread name: Thread-8\n",
      "current thread name: Thread-9\n",
      "\n",
      "\n",
      "\n",
      "\n"
     ]
    }
   ],
   "source": [
    "start_time=time.time()\n",
    "print('This is main thread: ',threading.current_thread().name)\n",
    "thread_list=[]\n",
    "for i in range(5):\n",
    "    t=threading.Thread(target=run)\n",
    "    thread_list.append(t)\n",
    "    \n",
    "for t in thread_list:\n",
    "    t.start()\n",
    "    \n",
    "print('main thread is end ! ',threading.current_thread().name)\n",
    "print('total time: ',time.time()-start_time)"
   ]
  },
  {
   "cell_type": "code",
   "execution_count": 53,
   "metadata": {
    "ExecuteTime": {
     "end_time": "2020-06-11T09:34:06.023697Z",
     "start_time": "2020-06-11T09:34:06.015697Z"
    }
   },
   "outputs": [
    {
     "data": {
      "text/plain": [
       "<_MainThread(MainThread, started 1380)>"
      ]
     },
     "execution_count": 53,
     "metadata": {},
     "output_type": "execute_result"
    }
   ],
   "source": [
    "threading.current_thread()"
   ]
  },
  {
   "cell_type": "code",
   "execution_count": 16,
   "metadata": {
    "ExecuteTime": {
     "end_time": "2020-12-23T09:00:42.327377Z",
     "start_time": "2020-12-23T09:00:42.311376Z"
    },
    "collapsed": true
   },
   "outputs": [],
   "source": [
    "def tp3():\n",
    "    start_time=time.time()\n",
    "    print('This is main thread: ',threading.current_thread().name)\n",
    "    thread_list=[]\n",
    "    for i in range(5):\n",
    "        t=threading.Thread(target=run)\n",
    "        thread_list.append(t)\n",
    "\n",
    "    for t in thread_list:\n",
    "        t.setDaemon(True)\n",
    "        t.start()\n",
    "\n",
    "    print('main thread is end ! ',threading.current_thread().name)\n",
    "    print('total time: ',time.time()-start_time)"
   ]
  },
  {
   "cell_type": "code",
   "execution_count": 17,
   "metadata": {
    "ExecuteTime": {
     "end_time": "2020-12-23T09:00:48.581735Z",
     "start_time": "2020-12-23T09:00:48.564734Z"
    }
   },
   "outputs": [
    {
     "name": "stdout",
     "output_type": "stream",
     "text": [
      "This is main thread:  Thread-12\n",
      "main thread is end !  Thread-12\n",
      "total time:  0.01500082015991211\n",
      "current thread name: Thread-16\n",
      "current thread name: Thread-13\n",
      "current thread name: Thread-14\n",
      "current thread name: Thread-17\n",
      "current thread name: Thread-15\n",
      "\n",
      "\n",
      "\n",
      "\n",
      "\n"
     ]
    }
   ],
   "source": [
    "tt=threading.Thread(target=tp3)\n",
    "tt.start()"
   ]
  },
  {
   "cell_type": "code",
   "execution_count": 66,
   "metadata": {
    "ExecuteTime": {
     "end_time": "2020-06-11T09:43:01.941350Z",
     "start_time": "2020-06-11T09:43:01.931350Z"
    }
   },
   "outputs": [
    {
     "data": {
      "text/plain": [
       "[<_MainThread(MainThread, started 1380)>,\n",
       " <Thread(Thread-4, started daemon 4208)>,\n",
       " <Heartbeat(Thread-5, started daemon 5384)>,\n",
       " <HistorySavingThread(IPythonHistorySavingThread, started 3380)>,\n",
       " <ParentPollerWindows(Thread-3, started daemon 6236)>]"
      ]
     },
     "execution_count": 66,
     "metadata": {},
     "output_type": "execute_result"
    }
   ],
   "source": [
    "threading.enumerate()"
   ]
  },
  {
   "cell_type": "code",
   "execution_count": 18,
   "metadata": {
    "ExecuteTime": {
     "end_time": "2020-12-23T09:12:48.975939Z",
     "start_time": "2020-12-23T09:12:48.965938Z"
    },
    "collapsed": true
   },
   "outputs": [],
   "source": [
    "def tp4():\n",
    "    start_time=time.time()\n",
    "    print('This is main thread: ',threading.current_thread().name)\n",
    "    thread_list=[]\n",
    "    for i in range(5):\n",
    "        t=threading.Thread(target=run)\n",
    "        thread_list.append(t)\n",
    "\n",
    "    for t in thread_list:\n",
    "        t.setDaemon(True)\n",
    "        t.start()\n",
    "    for t in thread_list:\n",
    "        t.join(2)   \n",
    "    print('main thread is end ! ',threading.current_thread().name)\n",
    "    print('total time: ',time.time()-start_time)"
   ]
  },
  {
   "cell_type": "code",
   "execution_count": 68,
   "metadata": {
    "ExecuteTime": {
     "end_time": "2020-06-11T09:46:15.835440Z",
     "start_time": "2020-06-11T09:46:15.807439Z"
    }
   },
   "outputs": [
    {
     "name": "stdout",
     "output_type": "stream",
     "text": [
      "This is main thread:  Thread-55\n",
      "current thread name: Thread-57\n",
      "current thread name: Thread-58\n",
      "current thread name: Thread-56\n",
      "current thread name: Thread-59\n",
      "current thread name: Thread-60\n",
      "\n",
      "\n",
      "\n",
      "\n",
      "\n",
      "main thread is end !  Thread-55\n",
      "total time:  4.089234113693237\n"
     ]
    }
   ],
   "source": [
    "ttt=threading.Thread(target=tp4)\n",
    "ttt.start()"
   ]
  },
  {
   "cell_type": "code",
   "execution_count": 84,
   "metadata": {
    "ExecuteTime": {
     "end_time": "2020-06-12T01:01:36.732736Z",
     "start_time": "2020-06-12T01:01:36.714735Z"
    },
    "collapsed": true
   },
   "outputs": [],
   "source": [
    "def run2(name):\n",
    "    \n",
    "    time.sleep(2)\n",
    "    print('name is called :',name)\n",
    "    print('---------------------')\n",
    "    print('current thread name: '+threading.current_thread().name+'\\n')\n",
    "    print('current thread Qua: '+str(threading.active_count())+'\\n')\n",
    "    time.sleep(2)"
   ]
  },
  {
   "cell_type": "code",
   "execution_count": 86,
   "metadata": {
    "ExecuteTime": {
     "end_time": "2020-06-12T01:05:30.653115Z",
     "start_time": "2020-06-12T01:05:06.532736Z"
    },
    "scrolled": true
   },
   "outputs": [
    {
     "name": "stdout",
     "output_type": "stream",
     "text": [
      "This is main thread:  MainThread\n",
      "name is called : ---main---\n",
      "---------------------\n",
      "current thread name: MainThread\n",
      "\n",
      "current thread Qua: 5\n",
      "\n",
      "name is called : ---main---\n",
      "---------------------\n",
      "current thread name: MainThread\n",
      "\n",
      "current thread Qua: 5\n",
      "\n",
      "name is called : ---main---\n",
      "---------------------\n",
      "current thread name: MainThread\n",
      "\n",
      "current thread Qua: 5\n",
      "\n",
      "name is called : ---main---\n",
      "---------------------\n",
      "current thread name: MainThread\n",
      "\n",
      "current thread Qua: 5\n",
      "\n",
      "name is called : ---main---\n",
      "---------------------\n",
      "current thread name: MainThread\n",
      "\n",
      "current thread Qua: 5\n",
      "\n",
      "name is called :name is called :name is called :name is called :name is called :     ---son------son------son------son------son---\n",
      "\n",
      "\n",
      "\n",
      "\n",
      "---------------------------------------------------------------------------------------------------------\n",
      "\n",
      "\n",
      "\n",
      "\n",
      "current thread name: Thread-138\n",
      "current thread name: Thread-140\n",
      "current thread name: Thread-144\n",
      "current thread name: Thread-146\n",
      "current thread name: Thread-142\n",
      "\n",
      "\n",
      "\n",
      "\n",
      "\n",
      "current thread Qua: 10\n",
      "current thread Qua: 10\n",
      "current thread Qua: 10\n",
      "current thread Qua: 10\n",
      "current thread Qua: 10\n",
      "\n",
      "\n",
      "\n",
      "\n",
      "\n",
      "main thread is end !  MainThread\n",
      "total time:  24.081377267837524\n"
     ]
    }
   ],
   "source": [
    "start_time=time.time()\n",
    "print('This is main thread: ',threading.current_thread().name)\n",
    "thread_list=[]\n",
    "for i in range(5):\n",
    "    t=threading.Thread(target=run2,args=('---son---',))\n",
    "    threading.Timer(2,run2('---main---'))\n",
    "    thread_list.append(t)\n",
    "\n",
    "for t in thread_list:\n",
    "    t.setDaemon(True)\n",
    "    t.start()\n",
    "#     t.Timer(2,run2('---son 2---'))\n",
    "for t in thread_list:\n",
    "    t.join(5)\n",
    "print('main thread is end ! ',threading.current_thread().name)\n",
    "print('total time: ',time.time()-start_time)"
   ]
  },
  {
   "cell_type": "code",
   "execution_count": 87,
   "metadata": {
    "ExecuteTime": {
     "end_time": "2020-06-12T01:09:42.252506Z",
     "start_time": "2020-06-12T01:09:42.218504Z"
    },
    "collapsed": true
   },
   "outputs": [],
   "source": [
    "def df4():\n",
    "    start_time=time.time()\n",
    "    print('This is main thread: ',threading.current_thread().name)\n",
    "    thread_list=[]\n",
    "    for i in range(5):\n",
    "        t=threading.Thread(target=run2,args=('---son---',))\n",
    "        threading.Timer(2,run2('---main---'))\n",
    "        thread_list.append(t)\n",
    "\n",
    "    for t in thread_list:\n",
    "        t.setDaemon(True)\n",
    "        t.start()\n",
    "    #     t.Timer(2,run2('---son 2---'))\n",
    "    for t in thread_list:\n",
    "        t.join(5)\n",
    "    print('main thread is end ! ',threading.current_thread().name)\n",
    "    print('total time: ',time.time()-start_time)"
   ]
  },
  {
   "cell_type": "code",
   "execution_count": 89,
   "metadata": {
    "ExecuteTime": {
     "end_time": "2020-06-12T01:10:43.506010Z",
     "start_time": "2020-06-12T01:10:43.478008Z"
    }
   },
   "outputs": [
    {
     "name": "stdout",
     "output_type": "stream",
     "text": [
      "This is main thread:  Thread-149\n",
      "name is called : ---main---\n",
      "---------------------\n",
      "current thread name: Thread-149\n",
      "\n",
      "current thread Qua: 6\n",
      "\n",
      "name is called : ---main---\n",
      "---------------------\n",
      "current thread name: Thread-149\n",
      "\n",
      "current thread Qua: 6\n",
      "\n",
      "name is called : ---main---\n",
      "---------------------\n",
      "current thread name: Thread-149\n",
      "\n",
      "current thread Qua: 6\n",
      "\n",
      "name is called : ---main---\n",
      "---------------------\n",
      "current thread name: Thread-149\n",
      "\n",
      "current thread Qua: 6\n",
      "\n",
      "name is called : ---main---\n",
      "---------------------\n",
      "current thread name: Thread-149\n",
      "\n",
      "current thread Qua: 6\n",
      "\n",
      "name is called :name is called :name is called :name is called :name is called :     ---son------son------son------son------son---\n",
      "\n",
      "\n",
      "\n",
      "\n",
      "---------------------------------------------------------------------------------------------------------\n",
      "\n",
      "\n",
      "\n",
      "\n",
      "current thread name: Thread-152\n",
      "current thread name: Thread-156\n",
      "current thread name: Thread-150\n",
      "current thread name: Thread-158\n",
      "current thread name: Thread-154\n",
      "\n",
      "\n",
      "\n",
      "\n",
      "\n",
      "current thread Qua: 11\n",
      "current thread Qua: 11\n",
      "current thread Qua: 11\n",
      "current thread Qua: 11\n",
      "current thread Qua: 11\n",
      "\n",
      "\n",
      "\n",
      "\n",
      "\n",
      "main thread is end !  Thread-149\n",
      "total time:  24.11437964439392\n"
     ]
    }
   ],
   "source": [
    "t4=threading.Thread(target=df4)\n",
    "t4.start()"
   ]
  },
  {
   "cell_type": "code",
   "execution_count": null,
   "metadata": {
    "collapsed": true
   },
   "outputs": [],
   "source": []
  },
  {
   "cell_type": "code",
   "execution_count": 109,
   "metadata": {
    "ExecuteTime": {
     "end_time": "2020-06-12T02:16:49.504852Z",
     "start_time": "2020-06-12T02:16:49.493851Z"
    },
    "collapsed": true
   },
   "outputs": [],
   "source": [
    "def run2(name):\n",
    "    time.sleep(2)\n",
    "    print('name is called :',name)\n",
    "    print('---------------------')\n",
    "    print('current thread name: '+threading.current_thread().name+'\\n')\n",
    "    print('current thread Qua: '+str(threading.active_count())+'\\n')\n",
    "    time.sleep(2)\n",
    "    print('run2 is end !')"
   ]
  },
  {
   "cell_type": "code",
   "execution_count": 112,
   "metadata": {
    "ExecuteTime": {
     "end_time": "2020-06-12T02:17:25.505911Z",
     "start_time": "2020-06-12T02:17:25.483910Z"
    },
    "collapsed": true
   },
   "outputs": [],
   "source": [
    "def df5():\n",
    "    start_time = time.time()\n",
    "    print('This is main thread: ', threading.current_thread().name)\n",
    "    thread_list = []\n",
    "    for i in range(5):\n",
    "        t = threading.Thread(target=run2, args=('---son---', ))\n",
    "        #         threading.Timer(2,run2('---main---'))\n",
    "        thread_list.append(t)\n",
    "\n",
    "    for t in thread_list:\n",
    "        t.setDaemon(True)\n",
    "        t.start()\n",
    "\n",
    "\n",
    "#         t.Timer(2,run2('---son 2---'))\n",
    "    for t in thread_list:\n",
    "        t.join(0.1)\n",
    "    print('main thread is end ! ', threading.current_thread().name)\n",
    "    print('total time: ', time.time() - start_time)"
   ]
  },
  {
   "cell_type": "code",
   "execution_count": 113,
   "metadata": {
    "ExecuteTime": {
     "end_time": "2020-06-12T02:17:26.807985Z",
     "start_time": "2020-06-12T02:17:26.777984Z"
    }
   },
   "outputs": [
    {
     "name": "stdout",
     "output_type": "stream",
     "text": [
      "This is main thread:  Thread-226\n",
      "main thread is end !  Thread-226\n",
      "total time:  0.5570318698883057\n",
      "name is called :name is called :name is called :name is called :name is called :     ---son------son------son------son------son---\n",
      "\n",
      "\n",
      "\n",
      "\n",
      "---------------------------------------------------------------------------------------------------------\n",
      "\n",
      "\n",
      "\n",
      "\n",
      "current thread name: Thread-227\n",
      "current thread name: Thread-230\n",
      "current thread name: Thread-231\n",
      "current thread name: Thread-228\n",
      "current thread name: Thread-229\n",
      "\n",
      "\n",
      "\n",
      "\n",
      "\n",
      "current thread Qua: 10\n",
      "current thread Qua: 10\n",
      "current thread Qua: 10\n",
      "current thread Qua: 10\n",
      "current thread Qua: 10\n",
      "\n",
      "\n",
      "\n",
      "\n",
      "\n",
      "run2 is end !run2 is end !\n",
      "\n",
      "run2 is end !run2 is end !run2 is end !\n",
      "\n",
      "\n"
     ]
    }
   ],
   "source": [
    "t5=threading.Thread(target=df5)\n",
    "# t5.setDaemon(True)\n",
    "t5.start()"
   ]
  },
  {
   "cell_type": "code",
   "execution_count": null,
   "metadata": {
    "collapsed": true
   },
   "outputs": [],
   "source": []
  },
  {
   "cell_type": "code",
   "execution_count": null,
   "metadata": {
    "collapsed": true
   },
   "outputs": [],
   "source": []
  }
 ],
 "metadata": {
  "kernelspec": {
   "display_name": "Python 3",
   "language": "python",
   "name": "python3"
  },
  "language_info": {
   "codemirror_mode": {
    "name": "ipython",
    "version": 3
   },
   "file_extension": ".py",
   "mimetype": "text/x-python",
   "name": "python",
   "nbconvert_exporter": "python",
   "pygments_lexer": "ipython3",
   "version": "3.6.3"
  }
 },
 "nbformat": 4,
 "nbformat_minor": 2
}
