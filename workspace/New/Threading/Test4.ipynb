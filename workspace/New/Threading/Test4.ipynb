{
 "cells": [
  {
   "cell_type": "code",
   "execution_count": 1,
   "metadata": {
    "ExecuteTime": {
     "end_time": "2020-06-30T06:55:17.436161Z",
     "start_time": "2020-06-30T06:55:17.428160Z"
    },
    "collapsed": true
   },
   "outputs": [],
   "source": [
    "import time\n",
    "import datetime\n",
    "import threading"
   ]
  },
  {
   "cell_type": "code",
   "execution_count": 2,
   "metadata": {
    "ExecuteTime": {
     "end_time": "2020-06-30T06:55:18.155202Z",
     "start_time": "2020-06-30T06:55:18.144201Z"
    },
    "collapsed": true
   },
   "outputs": [],
   "source": [
    "def light_rg(name):\n",
    "    print(' Green %s !\\n' % name)\n",
    "    time.sleep(10)\n"
   ]
  },
  {
   "cell_type": "code",
   "execution_count": 3,
   "metadata": {
    "ExecuteTime": {
     "end_time": "2020-06-30T06:57:14.052831Z",
     "start_time": "2020-06-30T06:55:23.631515Z"
    }
   },
   "outputs": [
    {
     "name": "stdout",
     "output_type": "stream",
     "text": [
      " Green red !\n",
      "\n",
      " Green green !\n",
      "\n",
      " Green green !\n",
      "\n",
      " Green red !\n",
      "\n",
      " Green red !\n",
      " Green green !\n",
      "\n",
      "\n",
      " Green green !\n",
      "\n",
      " Green red !\n",
      "\n",
      " Green red !\n",
      " Green green !\n",
      "\n",
      "\n",
      " Green green !\n",
      " Green red !\n",
      "\n",
      "\n",
      " Green red !\n",
      "\n",
      " Green green !\n",
      "\n",
      " Green green !\n",
      "\n",
      " Green red !\n",
      "\n",
      " Green red !\n",
      " Green green !\n",
      "\n",
      "\n",
      " Green green !\n",
      "\n",
      " Green red !\n",
      "\n",
      " Green red !\n",
      " Green green !\n",
      "\n",
      "\n"
     ]
    }
   ],
   "source": [
    "i=0\n",
    "while(i<=10):\n",
    "    if i %2==0:\n",
    "        t5=threading.Thread(target=light_rg,args=('red',))\n",
    "        t6=threading.Thread(target=light_rg,args=('green',))\n",
    "    else:\n",
    "        t5=threading.Thread(target=light_rg,args=('green',))\n",
    "        t6=threading.Thread(target=light_rg,args=('red',))\n",
    "    \n",
    "    t5.setDaemon(True)\n",
    "    t6.setDaemon(True)\n",
    "    \n",
    "    t5.start()\n",
    "    t6.start()\n",
    "    \n",
    "    t5.join()\n",
    "    t6.join()\n",
    "    i+=1\n",
    "    \n",
    "        \n"
   ]
  },
  {
   "cell_type": "code",
   "execution_count": null,
   "metadata": {
    "collapsed": true
   },
   "outputs": [],
   "source": []
  }
 ],
 "metadata": {
  "kernelspec": {
   "display_name": "Python 3",
   "language": "python",
   "name": "python3"
  },
  "language_info": {
   "codemirror_mode": {
    "name": "ipython",
    "version": 3
   },
   "file_extension": ".py",
   "mimetype": "text/x-python",
   "name": "python",
   "nbconvert_exporter": "python",
   "pygments_lexer": "ipython3",
   "version": "3.6.3"
  }
 },
 "nbformat": 4,
 "nbformat_minor": 2
}
