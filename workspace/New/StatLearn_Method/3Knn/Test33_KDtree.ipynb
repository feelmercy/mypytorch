{
 "cells": [
  {
   "cell_type": "code",
   "execution_count": 5,
   "metadata": {
    "ExecuteTime": {
     "end_time": "2019-03-11T02:14:04.620032Z",
     "start_time": "2019-03-11T02:14:04.617032Z"
    }
   },
   "outputs": [],
   "source": [
    "from collections import namedtuple\n",
    "from pprint import pformat"
   ]
  },
  {
   "cell_type": "code",
   "execution_count": 11,
   "metadata": {
    "ExecuteTime": {
     "end_time": "2019-03-11T02:31:56.103068Z",
     "start_time": "2019-03-11T02:31:56.071867Z"
    }
   },
   "outputs": [],
   "source": [
    "class Node(namedtuple('Node','location,left_set,right_set')):\n",
    "    def __repr__(self):\n",
    "        return pformat(tuple(self))"
   ]
  },
  {
   "cell_type": "code",
   "execution_count": 22,
   "metadata": {
    "ExecuteTime": {
     "end_time": "2019-03-11T02:44:34.763007Z",
     "start_time": "2019-03-11T02:44:34.731807Z"
    }
   },
   "outputs": [
    {
     "data": {
      "text/plain": [
       "[1, 2, 3]"
      ]
     },
     "execution_count": 22,
     "metadata": {},
     "output_type": "execute_result"
    }
   ],
   "source": [
    "b=[1,2,3,4,5,6,7]\n",
    "b[:3]"
   ]
  },
  {
   "cell_type": "code",
   "execution_count": 23,
   "metadata": {
    "ExecuteTime": {
     "end_time": "2019-03-11T02:44:50.368023Z",
     "start_time": "2019-03-11T02:44:50.351423Z"
    }
   },
   "outputs": [
    {
     "data": {
      "text/plain": [
       "[5, 6, 7]"
      ]
     },
     "execution_count": 23,
     "metadata": {},
     "output_type": "execute_result"
    }
   ],
   "source": [
    "b[4:]"
   ]
  },
  {
   "cell_type": "code",
   "execution_count": 31,
   "metadata": {
    "ExecuteTime": {
     "end_time": "2019-03-11T02:51:00.068670Z",
     "start_time": "2019-03-11T02:51:00.032469Z"
    }
   },
   "outputs": [],
   "source": [
    "def KDTree(data_set,depth=0):\n",
    "    if not data_set :\n",
    "        return None\n",
    "    data_set.sort(key=lambda x:x[depth])\n",
    "    split_pos=len(data_set)//2\n",
    "    median=data_set[split_pos]\n",
    "    depth=(depth+1) % len(data_set[0])\n",
    "    \n",
    "    ## 返回 node实例,左右数据集,继续创建节点\n",
    "    return Node(location=median,\n",
    "                left_set=KDTree(data_set[:split_pos],depth),\n",
    "                right_set=KDTree(data_set[split_pos+1:],depth)\n",
    "    )\n",
    "    "
   ]
  },
  {
   "cell_type": "code",
   "execution_count": 86,
   "metadata": {
    "ExecuteTime": {
     "end_time": "2019-03-11T06:43:50.055784Z",
     "start_time": "2019-03-11T06:43:50.040783Z"
    }
   },
   "outputs": [
    {
     "name": "stdout",
     "output_type": "stream",
     "text": [
      "((7, 2),\n",
      " ((5, 4), ((2, 3), None, None), ((4, 7), None, None)),\n",
      " ((9, 6), ((8, 1), None, None), None))\n"
     ]
    }
   ],
   "source": [
    "data=[(2,3), (5,4), (9,6), (4,7), (8,1), (7,2)]\n",
    "tree=KDTree(data,0)\n",
    "print(tree)"
   ]
  },
  {
   "cell_type": "code",
   "execution_count": 48,
   "metadata": {
    "ExecuteTime": {
     "end_time": "2019-03-11T03:01:50.630956Z",
     "start_time": "2019-03-11T03:01:50.613955Z"
    }
   },
   "outputs": [],
   "source": [
    "def preorder(node):\n",
    "    print(node.location)\n",
    "    if  node.left_set:\n",
    "        print('------ left---------')\n",
    "        preorder(node.left_set)\n",
    "    if  node.right_set:\n",
    "        print('------ right---------')\n",
    "        preorder(node.right_set)"
   ]
  },
  {
   "cell_type": "code",
   "execution_count": 49,
   "metadata": {
    "ExecuteTime": {
     "end_time": "2019-03-11T03:01:51.104983Z",
     "start_time": "2019-03-11T03:01:51.092983Z"
    }
   },
   "outputs": [
    {
     "name": "stdout",
     "output_type": "stream",
     "text": [
      "(7, 2)\n",
      "------ left---------\n",
      "(5, 4)\n",
      "------ left---------\n",
      "(2, 3)\n",
      "------ right---------\n",
      "(4, 7)\n",
      "------ right---------\n",
      "(9, 6)\n",
      "------ left---------\n",
      "(8, 1)\n"
     ]
    }
   ],
   "source": [
    "preorder(tree)"
   ]
  },
  {
   "cell_type": "markdown",
   "metadata": {},
   "source": [
    "node2"
   ]
  },
  {
   "cell_type": "code",
   "execution_count": 97,
   "metadata": {
    "ExecuteTime": {
     "end_time": "2019-03-11T06:46:46.817894Z",
     "start_time": "2019-03-11T06:46:46.796893Z"
    }
   },
   "outputs": [],
   "source": [
    "class Node2:\n",
    "    def __init__(self,location,split,left_set,right_set):\n",
    "        self.location=location\n",
    "        self.split=split\n",
    "        self.left_set=left_set\n",
    "        self.right_set=right_set\n",
    "    \n",
    "    def __repr__(self):\n",
    "        return pformat(tuple(self))"
   ]
  },
  {
   "cell_type": "code",
   "execution_count": 98,
   "metadata": {
    "ExecuteTime": {
     "end_time": "2019-03-11T06:46:47.791950Z",
     "start_time": "2019-03-11T06:46:47.769948Z"
    }
   },
   "outputs": [],
   "source": [
    "def CreateNode2(split,data_set):\n",
    "    if not data_set:\n",
    "        return None\n",
    "    data_set.sort(key=lambda x:x[split])\n",
    "    split_pos=len(data_set)//2\n",
    "    median=data_set[split_pos]\n",
    "    split_next=(split+1) % len(data_set[split])\n",
    "    print(median)\n",
    "    ## recursive  create kd node\n",
    "    return Node2(median,\n",
    "                 split,\n",
    "                CreateNode2(split_next,data_set[:split_pos]),\n",
    "                CreateNode2(split_next,data_set[split_pos+1:]))\n",
    "    "
   ]
  },
  {
   "cell_type": "code",
   "execution_count": 100,
   "metadata": {
    "ExecuteTime": {
     "end_time": "2019-03-11T06:47:04.236890Z",
     "start_time": "2019-03-11T06:47:04.220889Z"
    }
   },
   "outputs": [
    {
     "name": "stdout",
     "output_type": "stream",
     "text": [
      "(7, 2)\n",
      "(5, 4)\n",
      "(2, 3)\n",
      "(4, 7)\n",
      "(9, 6)\n",
      "(8, 1)\n"
     ]
    }
   ],
   "source": [
    "data2=[(2,3), (5,4), (9,6), (4,7), (8,1), (7,2)]\n",
    "kdtree2=CreateNode2(0,data2)\n",
    "# print(kdtree2)"
   ]
  },
  {
   "cell_type": "code",
   "execution_count": 72,
   "metadata": {
    "ExecuteTime": {
     "end_time": "2019-03-11T06:12:48.671319Z",
     "start_time": "2019-03-11T06:12:48.659318Z"
    }
   },
   "outputs": [
    {
     "name": "stdout",
     "output_type": "stream",
     "text": [
      "(7, 2)\n",
      "------ left---------\n",
      "(5, 4)\n",
      "------ left---------\n",
      "(2, 3)\n",
      "------ right---------\n",
      "(4, 7)\n",
      "------ right---------\n",
      "(9, 6)\n",
      "------ left---------\n",
      "(8, 1)\n"
     ]
    }
   ],
   "source": [
    "preorder(kdtree2)"
   ]
  },
  {
   "cell_type": "markdown",
   "metadata": {},
   "source": [
    "node3"
   ]
  },
  {
   "cell_type": "code",
   "execution_count": 91,
   "metadata": {
    "ExecuteTime": {
     "end_time": "2019-03-11T06:45:49.453613Z",
     "start_time": "2019-03-11T06:45:49.442612Z"
    }
   },
   "outputs": [],
   "source": [
    "class KDNode3(namedtuple('Node','split,location,left,right')):\n",
    "    def __repr__(self):\n",
    "        return pformat(tuple(self))"
   ]
  },
  {
   "cell_type": "code",
   "execution_count": 92,
   "metadata": {
    "ExecuteTime": {
     "end_time": "2019-03-11T06:45:50.107650Z",
     "start_time": "2019-03-11T06:45:50.081649Z"
    }
   },
   "outputs": [],
   "source": [
    "def CreateNode3(split,data_set):\n",
    "    if not data_set :\n",
    "        return None\n",
    "    data_set.sort(key=lambda x:x[split])\n",
    "    split_pos=len(data_set) //2\n",
    "    median=data_set[split_pos]\n",
    "    split_next=(split+1) % len(data_set[0])\n",
    "    \n",
    "    return KDNode3(split,\n",
    "                  median,\n",
    "                  CreateNode3(split_next,data_set[:split_pos]),\n",
    "                  CreateNode3(split_next,data_set[split_pos+1:]))\n",
    "    "
   ]
  },
  {
   "cell_type": "code",
   "execution_count": 93,
   "metadata": {
    "ExecuteTime": {
     "end_time": "2019-03-11T06:45:51.229715Z",
     "start_time": "2019-03-11T06:45:51.218714Z"
    }
   },
   "outputs": [
    {
     "name": "stdout",
     "output_type": "stream",
     "text": [
      "(0,\n",
      " (7, 2),\n",
      " (1, (5, 4), (0, (2, 3), None, None), (0, (4, 7), None, None)),\n",
      " (1, (9, 6), (0, (8, 1), None, None), None))\n"
     ]
    }
   ],
   "source": [
    "kdtree3=CreateNode3(0,data2)\n",
    "print(kdtree3)"
   ]
  },
  {
   "cell_type": "code",
   "execution_count": 103,
   "metadata": {
    "ExecuteTime": {
     "end_time": "2019-03-11T07:28:42.111761Z",
     "start_time": "2019-03-11T07:28:42.098760Z"
    }
   },
   "outputs": [
    {
     "data": {
      "text/plain": [
       "(1, (5, 4), (0, (2, 3), None, None), (0, (4, 7), None, None))"
      ]
     },
     "execution_count": 103,
     "metadata": {},
     "output_type": "execute_result"
    }
   ],
   "source": [
    "kdtree3.left"
   ]
  },
  {
   "cell_type": "code",
   "execution_count": 131,
   "metadata": {
    "ExecuteTime": {
     "end_time": "2019-03-11T09:20:27.603293Z",
     "start_time": "2019-03-11T09:20:27.592292Z"
    }
   },
   "outputs": [
    {
     "data": {
      "text/plain": [
       "(0, (8, 1), None, None)"
      ]
     },
     "execution_count": 131,
     "metadata": {},
     "output_type": "execute_result"
    }
   ],
   "source": [
    "kdtree3.right.left"
   ]
  },
  {
   "cell_type": "markdown",
   "metadata": {},
   "source": [
    "find nearest"
   ]
  },
  {
   "cell_type": "code",
   "execution_count": 133,
   "metadata": {
    "ExecuteTime": {
     "end_time": "2019-03-11T09:21:00.685185Z",
     "start_time": "2019-03-11T09:21:00.674184Z"
    }
   },
   "outputs": [
    {
     "name": "stdout",
     "output_type": "stream",
     "text": [
      "None\n",
      "is none\n"
     ]
    }
   ],
   "source": [
    "print (kdtree3.right.right)\n",
    "if kdtree3.right.right is None :\n",
    "    print(\"is none\")\n",
    "else :\n",
    "    print(\"not none\")"
   ]
  },
  {
   "cell_type": "code",
   "execution_count": 134,
   "metadata": {
    "ExecuteTime": {
     "end_time": "2019-03-11T09:27:29.207407Z",
     "start_time": "2019-03-11T09:27:29.195406Z"
    }
   },
   "outputs": [
    {
     "data": {
      "text/plain": [
       "True"
      ]
     },
     "execution_count": 134,
     "metadata": {},
     "output_type": "execute_result"
    }
   ],
   "source": [
    "float('inf')>1"
   ]
  },
  {
   "cell_type": "code",
   "execution_count": 140,
   "metadata": {
    "ExecuteTime": {
     "end_time": "2019-03-11T09:53:01.489049Z",
     "start_time": "2019-03-11T09:53:01.482048Z"
    }
   },
   "outputs": [],
   "source": [
    "import numpy as np"
   ]
  },
  {
   "cell_type": "code",
   "execution_count": 123,
   "metadata": {
    "ExecuteTime": {
     "end_time": "2019-03-11T08:30:41.440494Z",
     "start_time": "2019-03-11T08:30:41.431493Z"
    }
   },
   "outputs": [],
   "source": [
    "result=namedtuple('Result_tuple','nearest_point,nearest_dist,nodes_visited')"
   ]
  },
  {
   "cell_type": "code",
   "execution_count": 145,
   "metadata": {
    "ExecuteTime": {
     "end_time": "2019-03-11T09:54:07.661833Z",
     "start_time": "2019-03-11T09:54:07.555827Z"
    }
   },
   "outputs": [],
   "source": [
    "def find_nearest(tree,point):\n",
    "    k=len(point)\n",
    "    def travel(kd_node,target,max_dist):\n",
    "        if kd_node is None:\n",
    "            return result([0] *k,float('inf'),0)\n",
    "        \n",
    "        nodes_visited=1\n",
    "        s=kd_node.split # 进行分割的维度\n",
    "        pivot=kd_node.location # 进行分割的中心\n",
    "       ########## 判断目标点再数据集的那个区域,左边或右边 \n",
    "        if target[s] <=pivot[s]:\n",
    "            nearer_node=kd_node.left\n",
    "            further_node=kd_node.right\n",
    "            \n",
    "        else :\n",
    "            nearer_node=kd_node.right\n",
    "            further_node=kd_node.left\n",
    "            \n",
    "        ########递归查找,直到返回为 None\n",
    "        temp1=travel(nearer_node,target,max_dist)\n",
    "        \n",
    "        ##############################找到了\n",
    "        nearest=temp1.nearest_point\n",
    "        dist=temp1.nearest_dist\n",
    "        nodes_visited+=temp1.nodes_visited\n",
    "        \n",
    "        if dist<max_dist:   #########max_dist 前面一直是无穷\n",
    "            max_dist=dist\n",
    "            \n",
    "        temp_dist=abs(pivot[s]-target[s])     ######是none前一次的值\n",
    "        if max_dist<temp_dist:\n",
    "            return result(nearest,dist,nodes_visited)\n",
    "        \n",
    "        ######### tool func #################\n",
    "        ## 1 computer dist between tart and piovt\n",
    "        temp_dist=np.sqrt(sum((p1-p2)**2 for p1,p2 in zip(pivot,target)))\n",
    "        \n",
    "        if temp_dist<dist:   #######找到上一层,改变初始dist数据\n",
    "            nearest=pivot\n",
    "            dist=temp_dist\n",
    "            max_dist=dist\n",
    "            \n",
    "        ## check other point if nearer\n",
    "        temp2=travel(further_node,target,max_dist)\n",
    "        \n",
    "        nodes_visited+=temp2.nodes_visited\n",
    "        if temp2.nearest_dist<dist:\n",
    "            nearest=temp2.nearest_point\n",
    "            distt=temp2.nearest_dist\n",
    "        \n",
    "        return result(nearest,dist,nodes_visited)\n",
    "    \n",
    "    return travel(tree,point,float('inf'))"
   ]
  },
  {
   "cell_type": "code",
   "execution_count": 149,
   "metadata": {
    "ExecuteTime": {
     "end_time": "2019-03-11T09:54:29.718095Z",
     "start_time": "2019-03-11T09:54:29.706094Z"
    }
   },
   "outputs": [
    {
     "name": "stdout",
     "output_type": "stream",
     "text": [
      "Result_tuple(nearest_point=(2, 3), nearest_dist=2.0615528128088303, nodes_visited=4)\n"
     ]
    }
   ],
   "source": [
    "kd = CreateNode3(0,data)\n",
    "ret = find_nearest(kd, [3,4.5])\n",
    "print(ret)"
   ]
  },
  {
   "cell_type": "code",
   "execution_count": 158,
   "metadata": {
    "ExecuteTime": {
     "end_time": "2019-03-12T02:18:10.795235Z",
     "start_time": "2019-03-12T02:18:10.775635Z"
    }
   },
   "outputs": [
    {
     "data": {
      "text/plain": [
       "3.2015621187164243"
      ]
     },
     "execution_count": 158,
     "metadata": {},
     "output_type": "execute_result"
    }
   ],
   "source": [
    "np.sqrt(np.sum((p1-p2)**2 for p1,p2 in zip([4,7],[2,4.5])))"
   ]
  },
  {
   "cell_type": "code",
   "execution_count": 162,
   "metadata": {
    "ExecuteTime": {
     "end_time": "2019-03-12T07:12:56.473619Z",
     "start_time": "2019-03-12T07:12:56.462618Z"
    }
   },
   "outputs": [
    {
     "data": {
      "text/plain": [
       "3.0413812651491097"
      ]
     },
     "execution_count": 162,
     "metadata": {},
     "output_type": "execute_result"
    }
   ],
   "source": [
    "np.sqrt(np.sum((p1-p2)**2 for p1,p2 in zip([5,4],[2,4.5])))"
   ]
  },
  {
   "cell_type": "code",
   "execution_count": null,
   "metadata": {},
   "outputs": [],
   "source": [
    "# result=namedtuple('Result_tuple','nearest_point,nearest_dist,nodes_visited')"
   ]
  },
  {
   "cell_type": "code",
   "execution_count": 245,
   "metadata": {
    "ExecuteTime": {
     "end_time": "2019-03-14T08:29:39.457489Z",
     "start_time": "2019-03-14T08:29:39.384485Z"
    }
   },
   "outputs": [],
   "source": [
    "def find_nearest2(tree,target):\n",
    "    k=len(target)\n",
    "    def travel(tree,target,radius):\n",
    "        if tree is None:\n",
    "            return result([0]*k ,float('inf'),0)\n",
    "        \n",
    "        page_visited=1\n",
    "        page_split=tree.split\n",
    "        page_point=tree.location\n",
    "        \n",
    "        if target[page_split]<page_point[page_split]:\n",
    "            near_data=tree.left\n",
    "            far_data=tree.right\n",
    "        else:\n",
    "            near_data=tree.right\n",
    "            far_data=tree.left\n",
    "        \n",
    "        temp=travel(near_data,target,radius)\n",
    "        \n",
    "        page_visited+=temp.nodes_visited\n",
    "        \n",
    "        return_point=temp.nearest_point\n",
    "        return_dist=temp.nearest_dist\n",
    "        return_visited=temp.nodes_visited\n",
    "        \n",
    "        if return_dist <radius:\n",
    "            radius=return_dist\n",
    "            \n",
    "        test_dist=np.abs(target[page_split]-page_point[page_split])\n",
    "        \n",
    "        if test_dist> radius:\n",
    "            return result(return_point,return_dist,page_visited)\n",
    "        \n",
    "        temp_dist=np.sqrt(sum((p1-p2)**2 for p1,p2 in zip(target,page_point)))\n",
    "        \n",
    "        if temp_dist < return_dist:\n",
    "            return_dist=temp_dist\n",
    "            radius = temp_dist\n",
    "            return_point=page_point\n",
    "            \n",
    "        temp2=travel(far_data,target,radius)\n",
    "        \n",
    "        page_visited+=temp2.nodes_visited\n",
    "        \n",
    "        if temp2.nearest_dist < return_dist:\n",
    "            return_dist=temp2.nearest_dist\n",
    "            return_point=temp2.nearest_point\n",
    "        \n",
    "        return result(return_point,return_dist,page_visited)\n",
    "    return travel(tree,target,float('inf'))"
   ]
  },
  {
   "cell_type": "code",
   "execution_count": 246,
   "metadata": {
    "ExecuteTime": {
     "end_time": "2019-03-14T08:29:40.224533Z",
     "start_time": "2019-03-14T08:29:40.208532Z"
    }
   },
   "outputs": [
    {
     "data": {
      "text/plain": [
       "Result_tuple(nearest_point=[2, 3], nearest_dist=1.5, nodes_visited=4)"
      ]
     },
     "execution_count": 246,
     "metadata": {},
     "output_type": "execute_result"
    }
   ],
   "source": [
    "data = [[2,3],[5,4],[9,6],[4,7],[8,1],[7,2]]\n",
    "kd = CreateNode3(0,data)\n",
    "find_nearest2(kd,[2,4.5])"
   ]
  },
  {
   "cell_type": "code",
   "execution_count": 242,
   "metadata": {
    "ExecuteTime": {
     "end_time": "2019-03-14T08:26:12.991680Z",
     "start_time": "2019-03-14T08:26:12.982680Z"
    }
   },
   "outputs": [
    {
     "data": {
      "text/plain": [
       "5.5901699437494745"
      ]
     },
     "execution_count": 242,
     "metadata": {},
     "output_type": "execute_result"
    }
   ],
   "source": [
    "np.sqrt(sum((p1-p2)**2 for p1,p2 in zip([2,4.5],[7,2])))"
   ]
  },
  {
   "cell_type": "code",
   "execution_count": null,
   "metadata": {},
   "outputs": [],
   "source": []
  },
  {
   "cell_type": "code",
   "execution_count": 247,
   "metadata": {
    "ExecuteTime": {
     "end_time": "2019-03-14T08:32:58.874895Z",
     "start_time": "2019-03-14T08:32:58.868895Z"
    }
   },
   "outputs": [],
   "source": [
    "from time import clock\n",
    "from random import random\n",
    "\n",
    "# 产生一个k维随机向量，每维分量值在0~1之间\n",
    "def random_point(k):\n",
    "    return [random() for _ in range(k)]\n",
    " \n",
    "# 产生n个k维随机向量 \n",
    "def random_points(k, n):\n",
    "    return [random_point(k) for _ in range(n)]    "
   ]
  },
  {
   "cell_type": "code",
   "execution_count": 248,
   "metadata": {
    "ExecuteTime": {
     "end_time": "2019-03-14T08:33:00.127967Z",
     "start_time": "2019-03-14T08:32:59.524932Z"
    }
   },
   "outputs": [],
   "source": [
    "N = 400000\n",
    "data4=random_points(3, N)"
   ]
  },
  {
   "cell_type": "code",
   "execution_count": 256,
   "metadata": {
    "ExecuteTime": {
     "end_time": "2019-03-14T08:35:47.953566Z",
     "start_time": "2019-03-14T08:35:43.432307Z"
    }
   },
   "outputs": [
    {
     "name": "stdout",
     "output_type": "stream",
     "text": [
      "time:  4.50529144713073 s\n",
      "Result_tuple(nearest_point=[0.10414390617772129, 0.4892394364727126, 0.8075517994494747], nearest_dist=0.013783735370342488, nodes_visited=93)\n"
     ]
    }
   ],
   "source": [
    "\n",
    "t0 = clock()\n",
    "kd2 = CreateNode3(0,data4)           # 构建包含四十万个3维空间样本点的kd树\n",
    "ret2 = find_nearest2(kd2, [0.1,0.5,0.8])      # 四十万个样本点中寻找离目标最近的点\n",
    "t1 = clock()\n",
    "print (\"time: \",t1-t0, \"s\")\n",
    "print (ret2)"
   ]
  },
  {
   "cell_type": "code",
   "execution_count": null,
   "metadata": {},
   "outputs": [],
   "source": []
  },
  {
   "cell_type": "code",
   "execution_count": null,
   "metadata": {},
   "outputs": [],
   "source": []
  }
 ],
 "metadata": {
  "kernelspec": {
   "display_name": "Python 3",
   "language": "python",
   "name": "python3"
  },
  "language_info": {
   "codemirror_mode": {
    "name": "ipython",
    "version": 3
   },
   "file_extension": ".py",
   "mimetype": "text/x-python",
   "name": "python",
   "nbconvert_exporter": "python",
   "pygments_lexer": "ipython3",
   "version": "3.6.3"
  }
 },
 "nbformat": 4,
 "nbformat_minor": 2
}
