{
 "cells": [
  {
   "cell_type": "code",
   "execution_count": null,
   "metadata": {},
   "outputs": [],
   "source": [
    "import numpy as np\n",
    "import pandas as pd\n",
    "import matplotlib.pyplot as plt\n",
    "%matplotlib inline\n",
    "\n",
    "from sklearn.datasets import load_iris\n",
    "from sklearn.model_selection import train_test_split\n",
    "\n",
    "from collections import Counter"
   ]
  },
  {
   "cell_type": "code",
   "execution_count": 2,
   "metadata": {
    "ExecuteTime": {
     "end_time": "2019-03-14T09:24:14.372804Z",
     "start_time": "2019-03-14T09:24:14.358803Z"
    }
   },
   "outputs": [],
   "source": [
    "iris = load_iris()\n",
    "df = pd.DataFrame(iris.data, columns=iris.feature_names)\n",
    "df['label'] = iris.target\n",
    "df.columns = ['sepal length', 'sepal width', 'petal length', 'petal width', 'label']\n",
    "# data = np.array(df.iloc[:100, [0, 1, -1]])"
   ]
  },
  {
   "cell_type": "code",
   "execution_count": 3,
   "metadata": {
    "ExecuteTime": {
     "end_time": "2019-03-14T09:24:24.095360Z",
     "start_time": "2019-03-14T09:24:24.078359Z"
    }
   },
   "outputs": [],
   "source": [
    "data = np.array(df.iloc[:100, [0, 1, -1]])\n",
    "X, y = data[:,:-1], data[:,-1]\n",
    "X_train, X_test, y_train, y_test = train_test_split(X, y, test_size=0.2)"
   ]
  },
  {
   "cell_type": "code",
   "execution_count": 64,
   "metadata": {
    "ExecuteTime": {
     "end_time": "2019-03-15T02:27:10.660327Z",
     "start_time": "2019-03-15T02:27:10.614324Z"
    }
   },
   "outputs": [],
   "source": [
    "def knn_predict(k,x,y,target):\n",
    "    knn_list=[]\n",
    "    for i in range(k):\n",
    "        dist=np.linalg.norm(target-x[i],ord=2)\n",
    "        knn_list.append((dist,y[i]))\n",
    "    for m in range(k,len(x)):\n",
    "        max_index=knn_list.index(max(knn_list,key=lambda x:x[0]))\n",
    "        dist2=dist=np.linalg.norm(target-x[m],ord=2)\n",
    "        if knn_list[max_index][0]>dist2:\n",
    "            knn_list[max_index]=(dist2,y[m])\n",
    "    \n",
    "    y_value=[n for m,n in knn_list]\n",
    "    value_counter=Counter(y_value)\n",
    "    max_value=sorted(value_counter)[-1]\n",
    "    return max_value\n",
    "        "
   ]
  },
  {
   "cell_type": "code",
   "execution_count": 65,
   "metadata": {
    "ExecuteTime": {
     "end_time": "2019-03-15T02:27:11.773390Z",
     "start_time": "2019-03-15T02:27:11.756389Z"
    }
   },
   "outputs": [
    {
     "data": {
      "text/plain": [
       "0.0"
      ]
     },
     "execution_count": 65,
     "metadata": {},
     "output_type": "execute_result"
    }
   ],
   "source": [
    "test_point =[4.9 ,3.1]\n",
    "knn_predict(3,X_train,y_train,test_point)"
   ]
  },
  {
   "cell_type": "code",
   "execution_count": null,
   "metadata": {},
   "outputs": [],
   "source": []
  },
  {
   "cell_type": "code",
   "execution_count": 25,
   "metadata": {
    "ExecuteTime": {
     "end_time": "2019-03-15T01:40:25.442877Z",
     "start_time": "2019-03-15T01:40:25.421876Z"
    }
   },
   "outputs": [],
   "source": [
    "def predict_score(k,x_train,y_train,x_test,y_test):\n",
    "    right_counter=0\n",
    "    for i in range(len(y_test)):\n",
    "        if y_test[i] == knn_predict(k,x_train,y_train,x_test[i]):\n",
    "            right_counter+=1\n",
    "    return right_counter/len(y_test)\n",
    "    \n",
    "        \n",
    "    \n",
    "    "
   ]
  },
  {
   "cell_type": "code",
   "execution_count": 66,
   "metadata": {
    "ExecuteTime": {
     "end_time": "2019-03-15T02:27:16.507661Z",
     "start_time": "2019-03-15T02:27:16.469659Z"
    }
   },
   "outputs": [
    {
     "data": {
      "text/plain": [
       "1.0"
      ]
     },
     "execution_count": 66,
     "metadata": {},
     "output_type": "execute_result"
    }
   ],
   "source": [
    "predict_score(3,X_train,y_train,X_test,y_test)"
   ]
  },
  {
   "cell_type": "code",
   "execution_count": 89,
   "metadata": {
    "ExecuteTime": {
     "end_time": "2019-03-15T08:31:57.917206Z",
     "start_time": "2019-03-15T08:31:57.909206Z"
    }
   },
   "outputs": [],
   "source": [
    "from collections import namedtuple\n",
    "from pprint import pformat"
   ]
  },
  {
   "cell_type": "code",
   "execution_count": 91,
   "metadata": {
    "ExecuteTime": {
     "end_time": "2019-03-15T08:33:40.104051Z",
     "start_time": "2019-03-15T08:33:40.089050Z"
    }
   },
   "outputs": [],
   "source": [
    "class kdd_nodes(namedtuple('nodes','split,location,left,right')):\n",
    "    def __repr__(self):\n",
    "        return pformat(tuple(self))\n",
    "        "
   ]
  },
  {
   "cell_type": "code",
   "execution_count": 96,
   "metadata": {
    "ExecuteTime": {
     "end_time": "2019-03-15T09:12:38.310789Z",
     "start_time": "2019-03-15T09:12:38.278787Z"
    }
   },
   "outputs": [],
   "source": [
    "def createnode(data,split):\n",
    "    if not data:\n",
    "        return None\n",
    "    \n",
    "    \n",
    "    k=len(data[0])\n",
    "    data.sort(key=lambda x:x[0])\n",
    "    m=len(data)//2\n",
    "    median=data[m]\n",
    "    split_next=(split+1) % k\n",
    "\n",
    "    \n",
    "    return kdd_nodes(split,\n",
    "                     median,\n",
    "                    createnode(data[:m],split_next),\n",
    "                    createnode(data[m+1:],split_next))\n",
    "    \n",
    "    \n",
    "    \n",
    "    "
   ]
  },
  {
   "cell_type": "code",
   "execution_count": 98,
   "metadata": {
    "ExecuteTime": {
     "end_time": "2019-03-15T09:12:48.081347Z",
     "start_time": "2019-03-15T09:12:48.066347Z"
    }
   },
   "outputs": [
    {
     "name": "stdout",
     "output_type": "stream",
     "text": [
      "(0,\n",
      " [7, 2],\n",
      " (1, [4, 7], (0, [2, 3], None, None), (0, [5, 4], None, None)),\n",
      " (1, [9, 6], (0, [8, 1], None, None), None))\n"
     ]
    }
   ],
   "source": [
    "data = [[2,3],[5,4],[9,6],[4,7],[8,1],[7,2]]\n",
    "kd=createnode(data,0)\n",
    "print(kd)"
   ]
  },
  {
   "cell_type": "code",
   "execution_count": 100,
   "metadata": {
    "ExecuteTime": {
     "end_time": "2019-03-15T09:31:57.861111Z",
     "start_time": "2019-03-15T09:31:57.853111Z"
    }
   },
   "outputs": [],
   "source": [
    "result=namedtuple('noderesult','point,dist,visited')"
   ]
  },
  {
   "cell_type": "code",
   "execution_count": null,
   "metadata": {},
   "outputs": [],
   "source": [
    "def travel(tree,target,radius):\n",
    "    k=len(target)\n",
    "    if tree is None :\n",
    "        return result([0]*k,float('inf'),0)\n",
    "    \n",
    "    page_visited=1\n",
    "    page_split=tree.split\n",
    "    page_point=tree.location\n",
    "    \n",
    "    if target[page_split]< page_point[page_split]:\n",
    "        near_data=tree.left\n",
    "        far_data=tree.right\n",
    "    else:\n",
    "        near_data=tree.right\n",
    "        far_data=tree.left\n",
    "    \n",
    "    temp1=travel(near_data,target,radius)\n",
    "    \n",
    "    page_visited+=temp1.visited\n",
    "    return_point=temp1.point\n",
    "    return_dist=temp1.dist\n",
    "    \n",
    "    if return_dist<radius:\n",
    "        radius=return_dist\n",
    "        \n",
    "    test_dist=np.abs(target[page_split]-page_point[page_split])\n",
    "    \n",
    "    if test_dist>radius:\n",
    "        return result(return_point,return_dist,page_visited)\n",
    "    \n",
    "    "
   ]
  }
 ],
 "metadata": {
  "kernelspec": {
   "display_name": "Python 3",
   "language": "python",
   "name": "python3"
  },
  "language_info": {
   "codemirror_mode": {
    "name": "ipython",
    "version": 3
   },
   "file_extension": ".py",
   "mimetype": "text/x-python",
   "name": "python",
   "nbconvert_exporter": "python",
   "pygments_lexer": "ipython3",
   "version": "3.6.3"
  }
 },
 "nbformat": 4,
 "nbformat_minor": 2
}
