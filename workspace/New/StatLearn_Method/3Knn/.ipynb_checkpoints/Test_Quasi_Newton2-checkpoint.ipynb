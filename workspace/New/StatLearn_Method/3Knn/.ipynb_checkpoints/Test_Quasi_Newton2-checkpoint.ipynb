{
 "cells": [
  {
   "cell_type": "code",
   "execution_count": 12,
   "metadata": {
    "ExecuteTime": {
     "end_time": "2019-05-08T02:40:26.006903Z",
     "start_time": "2019-05-08T02:40:26.001903Z"
    }
   },
   "outputs": [],
   "source": [
    "import numpy as np"
   ]
  },
  {
   "cell_type": "code",
   "execution_count": 22,
   "metadata": {
    "ExecuteTime": {
     "end_time": "2019-05-08T02:42:51.558229Z",
     "start_time": "2019-05-08T02:42:51.525227Z"
    }
   },
   "outputs": [],
   "source": [
    "\n",
    "from numpy import *\n",
    " \n",
    "#fun\n",
    "def fun(x):\n",
    "    return 100 * (x[0,0] ** 2 - x[1,0]) ** 2 + (x[0,0] - 1) ** 2\n",
    " \n",
    "#gfun\n",
    "def gfun(x):\n",
    "    result = zeros((2, 1))\n",
    "    result[0, 0] = 400 * x[0,0] * (x[0,0] ** 2 - x[1,0]) + 2 * (x[0,0] - 1)\n",
    "    result[1, 0] = -200 * (x[0,0] ** 2 - x[1,0])\n",
    "    return result"
   ]
  },
  {
   "cell_type": "code",
   "execution_count": 23,
   "metadata": {
    "ExecuteTime": {
     "end_time": "2019-05-08T02:42:55.118432Z",
     "start_time": "2019-05-08T02:42:55.053428Z"
    }
   },
   "outputs": [],
   "source": [
    "def bfgs(fun, gfun, x0):\n",
    "    result = []\n",
    "    maxk = 500\n",
    "    rho = 0.55\n",
    "    sigma = 0.4\n",
    "    m = shape(x0)[0]\n",
    "    Bk = eye(m)\n",
    "    k = 0\n",
    "    while (k < maxk):\n",
    "        gk = mat(gfun(x0))#计算梯度\n",
    "        dk = mat(-linalg.solve(Bk, gk))\n",
    "        m = 0\n",
    "        mk = 0\n",
    "        while (m < 20):\n",
    "            newf = fun(x0 + rho ** m * dk)\n",
    "            oldf = fun(x0)\n",
    "            if (newf < oldf + sigma * (rho ** m) * (gk.T * dk)[0,0]):\n",
    "                mk = m\n",
    "                break\n",
    "            m = m + 1\n",
    "        \n",
    "        #BFGS校正\n",
    "        x = x0 + rho ** mk * dk\n",
    "        sk = x - x0\n",
    "        yk = gfun(x) - gk\n",
    "        if (yk.T * sk > 0):\n",
    "            Bk = Bk - (Bk * sk * sk.T * Bk) / (sk.T * Bk * sk) + (yk * yk.T) / (yk.T * sk)\n",
    "        \n",
    "        k = k + 1\n",
    "        x0 = x\n",
    "        result.append(fun(x0))\n",
    "    \n",
    "    return result"
   ]
  },
  {
   "cell_type": "code",
   "execution_count": 14,
   "metadata": {
    "ExecuteTime": {
     "end_time": "2019-05-08T02:40:41.658799Z",
     "start_time": "2019-05-08T02:40:41.645798Z"
    }
   },
   "outputs": [
    {
     "data": {
      "text/plain": [
       "matrix([[-1.2],\n",
       "        [ 1. ]])"
      ]
     },
     "execution_count": 14,
     "metadata": {},
     "output_type": "execute_result"
    }
   ],
   "source": [
    "np.mat([[-1.2],[1]])"
   ]
  },
  {
   "cell_type": "code",
   "execution_count": 15,
   "metadata": {
    "ExecuteTime": {
     "end_time": "2019-05-08T02:41:03.094025Z",
     "start_time": "2019-05-08T02:41:03.091025Z"
    }
   },
   "outputs": [],
   "source": [
    "x0=np.mat([[-1.2],[1]])"
   ]
  },
  {
   "cell_type": "code",
   "execution_count": 34,
   "metadata": {
    "ExecuteTime": {
     "end_time": "2019-05-08T02:59:36.050682Z",
     "start_time": "2019-05-08T02:59:36.041682Z"
    }
   },
   "outputs": [
    {
     "data": {
      "text/plain": [
       "matrix([[-215.6],\n",
       "        [ -88. ]])"
      ]
     },
     "execution_count": 34,
     "metadata": {},
     "output_type": "execute_result"
    }
   ],
   "source": [
    "np.mat(gfun(x0))"
   ]
  },
  {
   "cell_type": "code",
   "execution_count": 37,
   "metadata": {
    "ExecuteTime": {
     "end_time": "2019-05-08T03:06:56.345866Z",
     "start_time": "2019-05-08T03:06:56.331865Z"
    }
   },
   "outputs": [
    {
     "data": {
      "text/plain": [
       "matrix([[215.6],\n",
       "        [ 88. ]])"
      ]
     },
     "execution_count": 37,
     "metadata": {},
     "output_type": "execute_result"
    }
   ],
   "source": [
    "np.mat(np.linalg.solve(-np.eye(2),np.mat(gfun(x0))))"
   ]
  },
  {
   "cell_type": "code",
   "execution_count": 39,
   "metadata": {
    "ExecuteTime": {
     "end_time": "2019-05-08T03:10:34.554346Z",
     "start_time": "2019-05-08T03:10:34.526345Z"
    }
   },
   "outputs": [
    {
     "data": {
      "text/plain": [
       "matrix([[64.019],\n",
       "        [27.62 ]])"
      ]
     },
     "execution_count": 39,
     "metadata": {},
     "output_type": "execute_result"
    }
   ],
   "source": [
    "x0 = np.mat([[-1.2], [1]])\n",
    "result = []\n",
    "maxk = 500\n",
    "rho = 0.55\n",
    "sigma = 0.4\n",
    "m = shape(x0)[0]\n",
    "Bk = eye(m)\n",
    "k = 0\n",
    "gk = mat(gfun(x0))#计算梯度\n",
    "dk = mat(-linalg.solve(Bk, gk))\n",
    "x0+rho**m*dk"
   ]
  },
  {
   "cell_type": "code",
   "execution_count": 41,
   "metadata": {
    "ExecuteTime": {
     "end_time": "2019-05-08T03:11:03.289990Z",
     "start_time": "2019-05-08T03:11:03.277989Z"
    }
   },
   "outputs": [
    {
     "data": {
      "text/plain": [
       "matrix([[65.219],\n",
       "        [26.62 ]])"
      ]
     },
     "execution_count": 41,
     "metadata": {},
     "output_type": "execute_result"
    }
   ],
   "source": [
    "rho**m*dk"
   ]
  },
  {
   "cell_type": "code",
   "execution_count": 40,
   "metadata": {
    "ExecuteTime": {
     "end_time": "2019-05-08T03:10:48.905167Z",
     "start_time": "2019-05-08T03:10:48.901167Z"
    }
   },
   "outputs": [
    {
     "data": {
      "text/plain": [
       "matrix([[-1.2],\n",
       "        [ 1. ]])"
      ]
     },
     "execution_count": 40,
     "metadata": {},
     "output_type": "execute_result"
    }
   ],
   "source": [
    "x0"
   ]
  },
  {
   "cell_type": "code",
   "execution_count": 28,
   "metadata": {
    "ExecuteTime": {
     "end_time": "2019-05-08T02:43:44.479255Z",
     "start_time": "2019-05-08T02:43:44.470255Z"
    }
   },
   "outputs": [],
   "source": [
    "# import matplotlib.pyplot as plt  \n",
    "# x0 = np.mat([[-1.2], [1]])\n",
    "# result = bfgs(fun, gfun, x0)\n",
    "# n = len(result)\n",
    "# ax = plt.figure().add_subplot(111)\n",
    "# x = np.arange(0, n, 1)\n",
    "# y = result\n",
    "# ax.plot(x,y)\n",
    "# plt.show()"
   ]
  },
  {
   "cell_type": "code",
   "execution_count": 31,
   "metadata": {
    "ExecuteTime": {
     "end_time": "2019-05-08T02:55:14.389716Z",
     "start_time": "2019-05-08T02:55:14.384716Z"
    }
   },
   "outputs": [],
   "source": [
    "# bfgs(fun,gfun,x0)"
   ]
  },
  {
   "cell_type": "code",
   "execution_count": null,
   "metadata": {},
   "outputs": [],
   "source": []
  }
 ],
 "metadata": {
  "kernelspec": {
   "display_name": "Python 3",
   "language": "python",
   "name": "python3"
  },
  "language_info": {
   "codemirror_mode": {
    "name": "ipython",
    "version": 3
   },
   "file_extension": ".py",
   "mimetype": "text/x-python",
   "name": "python",
   "nbconvert_exporter": "python",
   "pygments_lexer": "ipython3",
   "version": "3.6.3"
  }
 },
 "nbformat": 4,
 "nbformat_minor": 2
}
