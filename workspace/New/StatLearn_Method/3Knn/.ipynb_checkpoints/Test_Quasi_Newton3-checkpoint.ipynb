{
 "cells": [
  {
   "cell_type": "code",
   "execution_count": 1,
   "metadata": {
    "ExecuteTime": {
     "end_time": "2019-05-10T07:27:59.322331Z",
     "start_time": "2019-05-10T07:27:58.039258Z"
    }
   },
   "outputs": [],
   "source": [
    "import numpy as np"
   ]
  },
  {
   "cell_type": "code",
   "execution_count": 2,
   "metadata": {
    "ExecuteTime": {
     "end_time": "2019-05-10T07:27:59.327332Z",
     "start_time": "2019-05-10T07:27:59.324331Z"
    }
   },
   "outputs": [],
   "source": [
    "ffun=lambda x:100*(x[0]**2 - x[1])**2+(x[0]-1)**2"
   ]
  },
  {
   "cell_type": "code",
   "execution_count": 3,
   "metadata": {
    "ExecuteTime": {
     "end_time": "2019-05-10T07:27:59.337332Z",
     "start_time": "2019-05-10T07:27:59.330332Z"
    }
   },
   "outputs": [],
   "source": [
    "gfun=lambda x:np.array([400*x[0]*(x[0]**2-x[1])+2*(x[0]-1),\n",
    "                      -200*(x[0]**2-x[1])])"
   ]
  },
  {
   "cell_type": "code",
   "execution_count": 4,
   "metadata": {
    "ExecuteTime": {
     "end_time": "2019-05-10T07:27:59.348333Z",
     "start_time": "2019-05-10T07:27:59.339332Z"
    }
   },
   "outputs": [],
   "source": [
    "hess=lambda x:np.array([[1200*x[0]**2-400*x[1]+2,-400*x[0]],\n",
    "                        [-400*x[0],200]])"
   ]
  },
  {
   "cell_type": "code",
   "execution_count": 5,
   "metadata": {
    "ExecuteTime": {
     "end_time": "2019-05-10T07:27:59.358333Z",
     "start_time": "2019-05-10T07:27:59.350333Z"
    }
   },
   "outputs": [],
   "source": [
    "x0=np.array([0,0])"
   ]
  },
  {
   "cell_type": "code",
   "execution_count": 18,
   "metadata": {
    "ExecuteTime": {
     "end_time": "2019-05-13T09:43:53.713277Z",
     "start_time": "2019-05-13T09:43:53.641277Z"
    }
   },
   "outputs": [],
   "source": [
    "def dfp(ffun,gfun,hess,x0):\n",
    "    maxk=1e5\n",
    "    rho=0.05\n",
    "    sigma=0.4\n",
    "    epsilon=1e-5\n",
    "    k=0\n",
    "    n=np.shape(x0)[0]\n",
    "    \n",
    "    DK=np.linalg.inv(hess(x0))\n",
    "    \n",
    "    while k<maxk:\n",
    "        gk=gfun(x0)\n",
    "        if np.linalg.norm(gk)<epsilon:\n",
    "            break\n",
    "        dk=-1.0*np.dot(DK,gk)  # 海森矩阵的逆或者通过单位矩阵实现海森矩阵\n",
    "        \n",
    "        m=0\n",
    "        mk=0\n",
    "        while m<20: # ues armijo to find labmda\n",
    "            if ffun(x0+rho**m*dk)<ffun(x0)+sigma*rho**m*np.dot(dk,gk):\n",
    "                mk=m\n",
    "                break\n",
    "            m+=1\n",
    "            \n",
    "        ##DFP correct\n",
    "        \n",
    "        x=x0+rho**mk*dk\n",
    "        print (\"第\"+str(k)+\"次的迭代结果为：\"+str(x))\n",
    "        sk=x-x0\n",
    "        yk=gfun(x)-gk\n",
    "        if np.dot(sk,yk)>0:\n",
    "            Dy=np.dot(DK,yk)\n",
    "            sy=np.dot(sk,yk)\n",
    "            yDy=np.dot(np.dot(yk,DK),yk)\n",
    "            DK=DK-1.0*Dy.reshape(n,1)*Dy/yDy+sk.reshape(n,1)*sk/sy\n",
    "        k+=1\n",
    "        x0=x\n",
    "    return DK\n"
   ]
  },
  {
   "cell_type": "code",
   "execution_count": 20,
   "metadata": {
    "ExecuteTime": {
     "end_time": "2019-05-13T09:49:46.255277Z",
     "start_time": "2019-05-13T09:49:46.243277Z"
    }
   },
   "outputs": [
    {
     "data": {
      "text/plain": [
       "array([[0.5  , 0.   ],\n",
       "       [0.   , 0.005]])"
      ]
     },
     "execution_count": 20,
     "metadata": {},
     "output_type": "execute_result"
    }
   ],
   "source": [
    "x0=np.array([0,0])\n",
    "DK=np.linalg.inv(hess(x0))\n",
    "DK"
   ]
  },
  {
   "cell_type": "code",
   "execution_count": 21,
   "metadata": {
    "ExecuteTime": {
     "end_time": "2019-05-13T09:50:15.681277Z",
     "start_time": "2019-05-13T09:50:15.669277Z"
    }
   },
   "outputs": [
    {
     "data": {
      "text/plain": [
       "array([ 1., -0.])"
      ]
     },
     "execution_count": 21,
     "metadata": {},
     "output_type": "execute_result"
    }
   ],
   "source": [
    "gk=gfun(x0)\n",
    "dk=-1.0*np.dot(DK,gk)\n",
    "dk"
   ]
  },
  {
   "cell_type": "code",
   "execution_count": 22,
   "metadata": {
    "ExecuteTime": {
     "end_time": "2019-05-15T01:20:19.333362Z",
     "start_time": "2019-05-15T01:20:19.328362Z"
    }
   },
   "outputs": [],
   "source": [
    "# dfp(ffun,gfun,hess,np.array([0,0]))"
   ]
  },
  {
   "cell_type": "code",
   "execution_count": 23,
   "metadata": {
    "ExecuteTime": {
     "end_time": "2019-05-15T01:25:28.177027Z",
     "start_time": "2019-05-15T01:25:28.163026Z"
    }
   },
   "outputs": [
    {
     "data": {
      "text/plain": [
       "array([[0.5  , 0.   ],\n",
       "       [0.   , 0.005]])"
      ]
     },
     "execution_count": 23,
     "metadata": {},
     "output_type": "execute_result"
    }
   ],
   "source": [
    "np.linalg.inv(hess(x0)) "
   ]
  },
  {
   "cell_type": "code",
   "execution_count": 24,
   "metadata": {
    "ExecuteTime": {
     "end_time": "2019-05-15T01:25:46.274062Z",
     "start_time": "2019-05-15T01:25:46.265062Z"
    }
   },
   "outputs": [
    {
     "data": {
      "text/plain": [
       "array([[1., 0.],\n",
       "       [0., 1.]])"
      ]
     },
     "execution_count": 24,
     "metadata": {},
     "output_type": "execute_result"
    }
   ],
   "source": [
    "np.eye(2)"
   ]
  },
  {
   "cell_type": "code",
   "execution_count": null,
   "metadata": {},
   "outputs": [],
   "source": [
    "def bfgs(ffun,gfun,hess,x0):\n",
    "    maxk = 1e5\n",
    "    rho = 0.55\n",
    "    sigma = 0.4\n",
    "    gama = 0.7\n",
    "    epsilon = 1e-5\n",
    "    k = 0\n",
    "    n=np.shape(x0)[0]\n",
    "    BK=np.eye(n)\n",
    "    "
   ]
  }
 ],
 "metadata": {
  "kernelspec": {
   "display_name": "Python 3",
   "language": "python",
   "name": "python3"
  },
  "language_info": {
   "codemirror_mode": {
    "name": "ipython",
    "version": 3
   },
   "file_extension": ".py",
   "mimetype": "text/x-python",
   "name": "python",
   "nbconvert_exporter": "python",
   "pygments_lexer": "ipython3",
   "version": "3.6.3"
  }
 },
 "nbformat": 4,
 "nbformat_minor": 2
}
