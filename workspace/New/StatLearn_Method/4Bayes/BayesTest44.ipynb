{
 "cells": [
  {
   "cell_type": "code",
   "execution_count": 20,
   "metadata": {
    "ExecuteTime": {
     "end_time": "2019-03-28T07:55:43.958228Z",
     "start_time": "2019-03-28T07:55:43.941227Z"
    }
   },
   "outputs": [],
   "source": [
    "import numpy as np\n",
    "import pandas as pd\n",
    "import matplotlib.pyplot as plt\n",
    "# %matplotlib inline\n",
    "\n",
    "from sklearn.datasets import load_iris\n",
    "from sklearn.model_selection import train_test_split\n",
    "\n",
    "from collections import Counter\n",
    "import math"
   ]
  },
  {
   "cell_type": "code",
   "execution_count": 21,
   "metadata": {
    "ExecuteTime": {
     "end_time": "2019-03-28T07:55:44.514260Z",
     "start_time": "2019-03-28T07:55:44.496259Z"
    }
   },
   "outputs": [],
   "source": [
    "iris = load_iris()\n",
    "df = pd.DataFrame(iris.data, columns=iris.feature_names)\n",
    "df['label'] = iris.target\n",
    "df.columns = ['sepal length', 'sepal width', 'petal length', 'petal width', 'label']\n",
    "data = np.array(df.iloc[:100, :])\n",
    "X,y=data[:,:-1], data[:,-1]\n",
    "X_train, X_test, y_train, y_test = train_test_split(X, y,\n",
    "                                                    test_size=0.3,random_state=7)"
   ]
  },
  {
   "cell_type": "code",
   "execution_count": 22,
   "metadata": {
    "ExecuteTime": {
     "end_time": "2019-03-28T07:55:45.025289Z",
     "start_time": "2019-03-28T07:55:45.015288Z"
    }
   },
   "outputs": [
    {
     "data": {
      "text/plain": [
       "(array([4.9, 3.1, 1.5, 0.1]), 0.0)"
      ]
     },
     "execution_count": 22,
     "metadata": {},
     "output_type": "execute_result"
    }
   ],
   "source": [
    "X_test[0], y_test[0]"
   ]
  },
  {
   "cell_type": "code",
   "execution_count": 23,
   "metadata": {
    "ExecuteTime": {
     "end_time": "2019-03-28T07:55:45.500316Z",
     "start_time": "2019-03-28T07:55:45.495316Z"
    }
   },
   "outputs": [
    {
     "data": {
      "text/plain": [
       "851.5999999999999"
      ]
     },
     "execution_count": 23,
     "metadata": {},
     "output_type": "execute_result"
    }
   ],
   "source": [
    "X_train.sum()"
   ]
  },
  {
   "cell_type": "code",
   "execution_count": 24,
   "metadata": {
    "ExecuteTime": {
     "end_time": "2019-03-28T07:55:46.086350Z",
     "start_time": "2019-03-28T07:55:46.063348Z"
    }
   },
   "outputs": [],
   "source": [
    "def mean(x):\n",
    "    return sum(x)/float(len(x))\n",
    "\n",
    "def stdev(x):\n",
    "    return np.sqrt(sum((x1-mean(x))**2 for x1 in x)/len(x))\n",
    "\n",
    "def gaussian_probability(x,mean,stdev):\n",
    "    exponent=np.exp(-(((x-mean)**2)/(2*stdev**2)))\n",
    "    return 1/(np.sqrt(2*np.pi)*stdev)*exponent"
   ]
  },
  {
   "cell_type": "code",
   "execution_count": 34,
   "metadata": {
    "ExecuteTime": {
     "end_time": "2019-03-28T07:59:06.830832Z",
     "start_time": "2019-03-28T07:59:06.817831Z"
    }
   },
   "outputs": [
    {
     "data": {
      "text/plain": [
       "0.2821373977379298"
      ]
     },
     "execution_count": 34,
     "metadata": {},
     "output_type": "execute_result"
    }
   ],
   "source": [
    "a=[1,2,3,4,5]\n",
    "gaussian_probability(3,3,1.414)"
   ]
  },
  {
   "cell_type": "code",
   "execution_count": 26,
   "metadata": {
    "ExecuteTime": {
     "end_time": "2019-03-28T07:55:47.389424Z",
     "start_time": "2019-03-28T07:55:47.375423Z"
    }
   },
   "outputs": [],
   "source": [
    "train_model={}\n",
    "for label in list(set(y_train)):\n",
    "    train_model[label]=[]\n",
    "for x_data,y_data in zip(X_train,y_train):\n",
    "    train_model[y_data].append(x_data)"
   ]
  },
  {
   "cell_type": "code",
   "execution_count": 27,
   "metadata": {
    "ExecuteTime": {
     "end_time": "2019-03-28T07:55:49.268532Z",
     "start_time": "2019-03-28T07:55:49.239530Z"
    }
   },
   "outputs": [
    {
     "data": {
      "text/plain": [
       "{0.0: [array([5.2, 3.5, 1.5, 0.2]),\n",
       "  array([5.5, 4.2, 1.4, 0.2]),\n",
       "  array([5. , 3.5, 1.6, 0.6]),\n",
       "  array([5.5, 3.5, 1.3, 0.2]),\n",
       "  array([5.1, 3.7, 1.5, 0.4]),\n",
       "  array([5.2, 4.1, 1.5, 0.1]),\n",
       "  array([4.5, 2.3, 1.3, 0.3]),\n",
       "  array([5.4, 3.7, 1.5, 0.2]),\n",
       "  array([5.2, 3.4, 1.4, 0.2]),\n",
       "  array([4.7, 3.2, 1.6, 0.2]),\n",
       "  array([5.4, 3.4, 1.5, 0.4]),\n",
       "  array([5.4, 3.9, 1.3, 0.4]),\n",
       "  array([4.9, 3. , 1.4, 0.2]),\n",
       "  array([4.6, 3.1, 1.5, 0.2]),\n",
       "  array([5. , 3.2, 1.2, 0.2]),\n",
       "  array([4.9, 3.1, 1.5, 0.1]),\n",
       "  array([5.1, 3.8, 1.6, 0.2]),\n",
       "  array([5. , 3.6, 1.4, 0.2]),\n",
       "  array([4.4, 3. , 1.3, 0.2]),\n",
       "  array([4.9, 3.1, 1.5, 0.1]),\n",
       "  array([4.8, 3.4, 1.9, 0.2]),\n",
       "  array([5.1, 3.8, 1.5, 0.3]),\n",
       "  array([4.6, 3.4, 1.4, 0.3]),\n",
       "  array([5.1, 3.5, 1.4, 0.2]),\n",
       "  array([5.1, 3.8, 1.9, 0.4]),\n",
       "  array([5. , 3.4, 1.5, 0.2]),\n",
       "  array([5.3, 3.7, 1.5, 0.2]),\n",
       "  array([5.1, 3.4, 1.5, 0.2]),\n",
       "  array([4.4, 2.9, 1.4, 0.2]),\n",
       "  array([4.4, 3.2, 1.3, 0.2]),\n",
       "  array([5.8, 4. , 1.2, 0.2]),\n",
       "  array([5.1, 3.3, 1.7, 0.5]),\n",
       "  array([5. , 3. , 1.6, 0.2]),\n",
       "  array([4.6, 3.2, 1.4, 0.2])],\n",
       " 1.0: [array([6.7, 3.1, 4.4, 1.4]),\n",
       "  array([6.5, 2.8, 4.6, 1.5]),\n",
       "  array([6.6, 2.9, 4.6, 1.3]),\n",
       "  array([5.9, 3.2, 4.8, 1.8]),\n",
       "  array([6. , 2.2, 4. , 1. ]),\n",
       "  array([5.7, 2.8, 4.1, 1.3]),\n",
       "  array([6.1, 2.8, 4.7, 1.2]),\n",
       "  array([5.2, 2.7, 3.9, 1.4]),\n",
       "  array([6.8, 2.8, 4.8, 1.4]),\n",
       "  array([5.7, 3. , 4.2, 1.2]),\n",
       "  array([5.5, 2.4, 3.8, 1.1]),\n",
       "  array([5.5, 2.4, 3.7, 1. ]),\n",
       "  array([5.4, 3. , 4.5, 1.5]),\n",
       "  array([6.7, 3. , 5. , 1.7]),\n",
       "  array([6.3, 2.3, 4.4, 1.3]),\n",
       "  array([5.5, 2.6, 4.4, 1.2]),\n",
       "  array([5.5, 2.5, 4. , 1.3]),\n",
       "  array([5.6, 2.9, 3.6, 1.3]),\n",
       "  array([5.9, 3. , 4.2, 1.5]),\n",
       "  array([5.5, 2.3, 4. , 1.3]),\n",
       "  array([5.7, 2.6, 3.5, 1. ]),\n",
       "  array([6.3, 3.3, 4.7, 1.6]),\n",
       "  array([5.6, 2.5, 3.9, 1.1]),\n",
       "  array([6.1, 2.9, 4.7, 1.4]),\n",
       "  array([5.8, 2.7, 3.9, 1.2]),\n",
       "  array([5. , 2. , 3.5, 1. ]),\n",
       "  array([5.7, 2.8, 4.5, 1.3]),\n",
       "  array([6.6, 3. , 4.4, 1.4]),\n",
       "  array([5.1, 2.5, 3. , 1.1]),\n",
       "  array([6.3, 2.5, 4.9, 1.5]),\n",
       "  array([5.6, 2.7, 4.2, 1.3]),\n",
       "  array([4.9, 2.4, 3.3, 1. ]),\n",
       "  array([5.8, 2.6, 4. , 1.2]),\n",
       "  array([6. , 2.7, 5.1, 1.6]),\n",
       "  array([5.8, 2.7, 4.1, 1. ]),\n",
       "  array([6.2, 2.2, 4.5, 1.5])]}"
      ]
     },
     "execution_count": 27,
     "metadata": {},
     "output_type": "execute_result"
    }
   ],
   "source": [
    "train_model"
   ]
  },
  {
   "cell_type": "code",
   "execution_count": 28,
   "metadata": {
    "ExecuteTime": {
     "end_time": "2019-03-28T07:55:50.632610Z",
     "start_time": "2019-03-28T07:55:50.607608Z"
    }
   },
   "outputs": [],
   "source": [
    "train_model2={}\n",
    "for label,data in train_model.items():\n",
    "    train_model2[label]=[]\n",
    "    for i in zip(*data):\n",
    "        train_model2[label].append((mean(i),stdev(i)))\n",
    "    \n",
    "    "
   ]
  },
  {
   "cell_type": "code",
   "execution_count": 29,
   "metadata": {
    "ExecuteTime": {
     "end_time": "2019-03-28T07:55:51.676669Z",
     "start_time": "2019-03-28T07:55:51.663669Z"
    }
   },
   "outputs": [
    {
     "data": {
      "text/plain": [
       "{0.0: [(5.008823529411764, 0.33726202682852463),\n",
       "  (3.4205882352941184, 0.38100440924166706),\n",
       "  (1.4705882352941178, 0.15629800300689908),\n",
       "  (0.24411764705882355, 0.10898239596264063)],\n",
       " 1.0: [(5.86388888888889, 0.4859999872986838),\n",
       "  (2.688888888888889, 0.2960647243216495),\n",
       "  (4.219444444444445, 0.4886599842906246),\n",
       "  (1.302777777777778, 0.2074797327600285)]}"
      ]
     },
     "execution_count": 29,
     "metadata": {},
     "output_type": "execute_result"
    }
   ],
   "source": [
    "train_model2"
   ]
  },
  {
   "cell_type": "code",
   "execution_count": 30,
   "metadata": {
    "ExecuteTime": {
     "end_time": "2019-03-28T07:55:59.252103Z",
     "start_time": "2019-03-28T07:55:59.242102Z"
    }
   },
   "outputs": [
    {
     "data": {
      "text/plain": [
       "{0.0: [(5.008823529411764, 0.33726202682852463),\n",
       "  (3.4205882352941184, 0.38100440924166706),\n",
       "  (1.4705882352941178, 0.15629800300689908),\n",
       "  (0.24411764705882355, 0.10898239596264063)],\n",
       " 1.0: [(5.86388888888889, 0.4859999872986838),\n",
       "  (2.688888888888889, 0.2960647243216495),\n",
       "  (4.219444444444445, 0.4886599842906246),\n",
       "  (1.302777777777778, 0.2074797327600285)]}"
      ]
     },
     "execution_count": 30,
     "metadata": {},
     "output_type": "execute_result"
    }
   ],
   "source": [
    "train_model2"
   ]
  },
  {
   "cell_type": "code",
   "execution_count": null,
   "metadata": {},
   "outputs": [],
   "source": [
    "predict([4.4,  3.2,  1.3,  0.2])"
   ]
  },
  {
   "cell_type": "code",
   "execution_count": null,
   "metadata": {
    "ExecuteTime": {
     "end_time": "2019-03-20T07:43:59.729570Z",
     "start_time": "2019-03-20T07:43:59.724569Z"
    }
   },
   "outputs": [],
   "source": [
    "test=[4.4,  3.2,  1.3,  0.2]"
   ]
  },
  {
   "cell_type": "code",
   "execution_count": 35,
   "metadata": {
    "ExecuteTime": {
     "end_time": "2019-03-28T08:10:48.025938Z",
     "start_time": "2019-03-28T08:10:48.007937Z"
    }
   },
   "outputs": [],
   "source": [
    "def predict(test):\n",
    "    global train_model2\n",
    "    probability={}\n",
    "    for label,result in train_model2.items():\n",
    "        probability[label]=1\n",
    "        for i in range(len(test)):\n",
    "            probability[label] *= gaussian_probability(test[i],\n",
    "                                                       result[i][0],result[i][1])\n",
    "    return sorted(probability.items(),key=lambda x:x[1])[-1][0]\n"
   ]
  },
  {
   "cell_type": "code",
   "execution_count": 38,
   "metadata": {
    "ExecuteTime": {
     "end_time": "2019-03-28T08:11:24.858044Z",
     "start_time": "2019-03-28T08:11:24.850044Z"
    }
   },
   "outputs": [],
   "source": [
    "probability=predict([4.4,  3.2,  1.3,  0.2])"
   ]
  },
  {
   "cell_type": "code",
   "execution_count": 39,
   "metadata": {
    "ExecuteTime": {
     "end_time": "2019-03-28T08:11:30.355359Z",
     "start_time": "2019-03-28T08:11:30.345358Z"
    }
   },
   "outputs": [
    {
     "data": {
      "text/plain": [
       "0.0"
      ]
     },
     "execution_count": 39,
     "metadata": {},
     "output_type": "execute_result"
    }
   ],
   "source": [
    "probability"
   ]
  },
  {
   "cell_type": "code",
   "execution_count": 37,
   "metadata": {
    "ExecuteTime": {
     "end_time": "2019-03-28T08:10:59.587599Z",
     "start_time": "2019-03-28T08:10:59.567598Z"
    }
   },
   "outputs": [
    {
     "ename": "NameError",
     "evalue": "name 'probability' is not defined",
     "output_type": "error",
     "traceback": [
      "\u001b[1;31m---------------------------------------------------------------------------\u001b[0m",
      "\u001b[1;31mNameError\u001b[0m                                 Traceback (most recent call last)",
      "\u001b[1;32m<ipython-input-37-907544ae8fda>\u001b[0m in \u001b[0;36m<module>\u001b[1;34m()\u001b[0m\n\u001b[1;32m----> 1\u001b[1;33m \u001b[0msorted\u001b[0m\u001b[1;33m(\u001b[0m\u001b[0mprobability\u001b[0m\u001b[1;33m.\u001b[0m\u001b[0mitems\u001b[0m\u001b[1;33m(\u001b[0m\u001b[1;33m)\u001b[0m\u001b[1;33m,\u001b[0m\u001b[0mkey\u001b[0m\u001b[1;33m=\u001b[0m\u001b[1;32mlambda\u001b[0m \u001b[0mx\u001b[0m\u001b[1;33m:\u001b[0m\u001b[0mx\u001b[0m\u001b[1;33m[\u001b[0m\u001b[1;36m1\u001b[0m\u001b[1;33m]\u001b[0m\u001b[1;33m)\u001b[0m\u001b[1;33m[\u001b[0m\u001b[1;33m-\u001b[0m\u001b[1;36m1\u001b[0m\u001b[1;33m]\u001b[0m\u001b[1;33m[\u001b[0m\u001b[1;36m0\u001b[0m\u001b[1;33m]\u001b[0m\u001b[1;33m\u001b[0m\u001b[0m\n\u001b[0m",
      "\u001b[1;31mNameError\u001b[0m: name 'probability' is not defined"
     ]
    }
   ],
   "source": [
    "sorted(probability.items(),key=lambda x:x[1])[-1][0]"
   ]
  },
  {
   "cell_type": "code",
   "execution_count": null,
   "metadata": {
    "ExecuteTime": {
     "end_time": "2019-03-20T08:42:55.751819Z",
     "start_time": "2019-03-20T08:42:55.746818Z"
    }
   },
   "outputs": [],
   "source": [
    "def score(x_test,y_test):\n",
    "    right=0\n",
    "    for x,y in zip(x_test,y_test):\n",
    "        if predict(x_test[i]) ==y_test[i]:\n",
    "            right+=1\n",
    "    return right / float(len(y_test))\n",
    "        "
   ]
  },
  {
   "cell_type": "code",
   "execution_count": null,
   "metadata": {
    "ExecuteTime": {
     "end_time": "2019-03-20T08:42:56.638869Z",
     "start_time": "2019-03-20T08:42:56.629869Z"
    }
   },
   "outputs": [],
   "source": [
    "score(X_test,y_test)"
   ]
  },
  {
   "cell_type": "code",
   "execution_count": null,
   "metadata": {
    "ExecuteTime": {
     "end_time": "2019-03-20T08:53:38.031555Z",
     "start_time": "2019-03-20T08:53:38.027555Z"
    }
   },
   "outputs": [],
   "source": [
    "from sklearn.naive_bayes import GaussianNB"
   ]
  },
  {
   "cell_type": "code",
   "execution_count": null,
   "metadata": {
    "ExecuteTime": {
     "end_time": "2019-03-20T08:55:13.494015Z",
     "start_time": "2019-03-20T08:55:13.459013Z"
    }
   },
   "outputs": [],
   "source": [
    "clf=GaussianNB()\n",
    "clf.fit(X_train,y_train)"
   ]
  },
  {
   "cell_type": "code",
   "execution_count": null,
   "metadata": {
    "ExecuteTime": {
     "end_time": "2019-03-20T08:55:53.558307Z",
     "start_time": "2019-03-20T08:55:53.543306Z"
    }
   },
   "outputs": [],
   "source": [
    "clf.score(X_test,y_test)"
   ]
  },
  {
   "cell_type": "code",
   "execution_count": null,
   "metadata": {
    "ExecuteTime": {
     "end_time": "2019-03-20T08:57:26.628630Z",
     "start_time": "2019-03-20T08:57:26.610629Z"
    }
   },
   "outputs": [],
   "source": [
    "clf.predict([[4.4,3.2,1.3,0.2]])"
   ]
  },
  {
   "cell_type": "code",
   "execution_count": null,
   "metadata": {},
   "outputs": [],
   "source": []
  },
  {
   "cell_type": "code",
   "execution_count": null,
   "metadata": {},
   "outputs": [],
   "source": []
  }
 ],
 "metadata": {
  "kernelspec": {
   "display_name": "Python 3",
   "language": "python",
   "name": "python3"
  },
  "language_info": {
   "codemirror_mode": {
    "name": "ipython",
    "version": 3
   },
   "file_extension": ".py",
   "mimetype": "text/x-python",
   "name": "python",
   "nbconvert_exporter": "python",
   "pygments_lexer": "ipython3",
   "version": "3.6.3"
  }
 },
 "nbformat": 4,
 "nbformat_minor": 2
}
