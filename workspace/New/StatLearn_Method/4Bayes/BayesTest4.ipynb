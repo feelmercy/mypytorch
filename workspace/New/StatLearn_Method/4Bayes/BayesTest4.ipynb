{
 "cells": [
  {
   "cell_type": "code",
   "execution_count": 1,
   "metadata": {
    "ExecuteTime": {
     "end_time": "2019-03-19T08:14:34.326705Z",
     "start_time": "2019-03-19T08:14:22.232014Z"
    }
   },
   "outputs": [],
   "source": [
    "import numpy as np\n",
    "import pandas as pd\n",
    "import matplotlib.pyplot as plt\n",
    "# %matplotlib inline\n",
    "\n",
    "from sklearn.datasets import load_iris\n",
    "from sklearn.model_selection import train_test_split\n",
    "\n",
    "from collections import Counter\n",
    "import math"
   ]
  },
  {
   "cell_type": "code",
   "execution_count": 117,
   "metadata": {
    "ExecuteTime": {
     "end_time": "2019-03-20T07:32:22.784707Z",
     "start_time": "2019-03-20T07:32:22.768706Z"
    }
   },
   "outputs": [],
   "source": [
    "iris = load_iris()\n",
    "df = pd.DataFrame(iris.data, columns=iris.feature_names)\n",
    "df['label'] = iris.target\n",
    "df.columns = ['sepal length', 'sepal width', 'petal length', 'petal width', 'label']\n",
    "data = np.array(df.iloc[:100, :])\n",
    "X,y=data[:,:-1], data[:,-1]\n",
    "X_train, X_test, y_train, y_test = train_test_split(X, y, test_size=0.3,random_state=7)"
   ]
  },
  {
   "cell_type": "code",
   "execution_count": 6,
   "metadata": {
    "ExecuteTime": {
     "end_time": "2019-03-19T08:16:36.104671Z",
     "start_time": "2019-03-19T08:16:36.092670Z"
    }
   },
   "outputs": [
    {
     "data": {
      "text/plain": [
       "(array([4.6, 3.4, 1.4, 0.3]), 0.0)"
      ]
     },
     "execution_count": 6,
     "metadata": {},
     "output_type": "execute_result"
    }
   ],
   "source": [
    "X_test[0], y_test[0]"
   ]
  },
  {
   "cell_type": "code",
   "execution_count": 24,
   "metadata": {
    "ExecuteTime": {
     "end_time": "2019-03-19T09:20:39.795517Z",
     "start_time": "2019-03-19T09:20:39.776516Z"
    }
   },
   "outputs": [
    {
     "name": "stdout",
     "output_type": "stream",
     "text": [
      "(0.0, [3, 4])\n",
      "(1.0, [])\n"
     ]
    }
   ],
   "source": [
    "a={label:[] for label in list(set(y_test))}\n",
    "a[0.0].append(3)\n",
    "a[0.0].append(4)\n",
    "for i in a.items():\n",
    "    print(i)"
   ]
  },
  {
   "cell_type": "code",
   "execution_count": 28,
   "metadata": {
    "ExecuteTime": {
     "end_time": "2019-03-19T09:24:19.254070Z",
     "start_time": "2019-03-19T09:24:19.242069Z"
    }
   },
   "outputs": [
    {
     "data": {
      "text/plain": [
       "{0.0: [3, 4], 1.0: []}"
      ]
     },
     "execution_count": 28,
     "metadata": {},
     "output_type": "execute_result"
    }
   ],
   "source": [
    "{label:value for label,value in a.items()}\n"
   ]
  },
  {
   "cell_type": "code",
   "execution_count": 118,
   "metadata": {
    "ExecuteTime": {
     "end_time": "2019-03-20T07:32:26.081895Z",
     "start_time": "2019-03-20T07:32:25.982890Z"
    }
   },
   "outputs": [],
   "source": [
    "model=None\n",
    "\n",
    "def mean(x):\n",
    "    return sum(x) / float(len(x))\n",
    "\n",
    "def stdev(x):\n",
    "    avg=mean(x)\n",
    "    return np.sqrt((sum((x1-mean(x))**2 for x1 in x))/len(x))\n",
    "\n",
    "def gaussian_probability(x,mean,stdev):\n",
    "    exponent=math.exp(-(math.pow(x-mean,2)/(2*math.pow(stdev,2))))\n",
    "    return (1 / (math.sqrt(2*np.pi)*stdev)) * exponent\n",
    "\n",
    "def summary(train_data):\n",
    "    summaries=[(mean(i),stdev(i)) for i in zip(*train_data)]\n",
    "    return summaries\n",
    "\n",
    "def fit(x,y):\n",
    "    global model\n",
    "    labels=list(set(y))\n",
    "    data={label:[] for label in labels}\n",
    "    for f,label in zip(x,y):\n",
    "        data[label].append(f)\n",
    "#     model=data\n",
    "    model={label:summary(value) for label,value in data.items()}\n",
    "    return 'gaussianNB train done'\n",
    "\n",
    "def calculate_probabilityes(input_data):\n",
    "    probabilities={}\n",
    "    global model\n",
    "    for label,value in model.items():\n",
    "        probabilities[label]=1\n",
    "        for i in range(len(value)):\n",
    "            mean,stdev=value[i]\n",
    "            print(input_data[i])\n",
    "            probabilities[label] *=gaussian_probability(input_data[i],mean,stdev)  \n",
    "            #此处的mean,stdev 并不是函数,而是变量,函数需要传递参数\n",
    "    print(probabilities)        \n",
    "    return probabilities\n",
    "\n",
    "def predict(x_test):\n",
    "    label=sorted(calculate_probabilityes(x_test).items(),key=lambda x:x[-1])[-1][0]\n",
    "    return label\n",
    "\n",
    "def score(x_test,y_test):\n",
    "    right=0\n",
    "    for x,y in zip(x_test,y_test):\n",
    "        label=predict(x)\n",
    "        if label ==y:\n",
    "            right+=1\n",
    "    return right/float(len(x_test))"
   ]
  },
  {
   "cell_type": "code",
   "execution_count": 119,
   "metadata": {
    "ExecuteTime": {
     "end_time": "2019-03-20T07:32:30.841168Z",
     "start_time": "2019-03-20T07:32:30.832167Z"
    }
   },
   "outputs": [
    {
     "data": {
      "text/plain": [
       "'gaussianNB train done'"
      ]
     },
     "execution_count": 119,
     "metadata": {},
     "output_type": "execute_result"
    }
   ],
   "source": [
    "fit(X_train,y_train)"
   ]
  },
  {
   "cell_type": "code",
   "execution_count": 107,
   "metadata": {
    "ExecuteTime": {
     "end_time": "2019-03-20T03:16:28.310481Z",
     "start_time": "2019-03-20T03:16:28.304481Z"
    }
   },
   "outputs": [
    {
     "name": "stdout",
     "output_type": "stream",
     "text": [
      "4.4\n",
      "3.2\n",
      "1.3\n",
      "0.2\n",
      "4.4\n",
      "3.2\n",
      "1.3\n",
      "0.2\n",
      "{0.0: 1.1412978897950963, 1.0: 1.0876612115906482e-20}\n"
     ]
    },
    {
     "data": {
      "text/plain": [
       "0.0"
      ]
     },
     "execution_count": 107,
     "metadata": {},
     "output_type": "execute_result"
    }
   ],
   "source": [
    "predict([4.4,  3.2,  1.3,  0.2])"
   ]
  },
  {
   "cell_type": "code",
   "execution_count": 120,
   "metadata": {
    "ExecuteTime": {
     "end_time": "2019-03-20T07:32:33.368312Z",
     "start_time": "2019-03-20T07:32:33.361312Z"
    }
   },
   "outputs": [
    {
     "data": {
      "text/plain": [
       "{0.0: [(5.008823529411764, 0.33726202682852463),\n",
       "  (3.4205882352941184, 0.38100440924166706),\n",
       "  (1.4705882352941178, 0.15629800300689908),\n",
       "  (0.24411764705882355, 0.10898239596264063)],\n",
       " 1.0: [(5.86388888888889, 0.4859999872986838),\n",
       "  (2.688888888888889, 0.2960647243216495),\n",
       "  (4.219444444444445, 0.4886599842906246),\n",
       "  (1.302777777777778, 0.2074797327600285)]}"
      ]
     },
     "execution_count": 120,
     "metadata": {},
     "output_type": "execute_result"
    }
   ],
   "source": [
    "model"
   ]
  },
  {
   "cell_type": "code",
   "execution_count": 112,
   "metadata": {
    "ExecuteTime": {
     "end_time": "2019-03-20T05:48:49.373320Z",
     "start_time": "2019-03-20T05:48:49.348319Z"
    }
   },
   "outputs": [
    {
     "data": {
      "text/plain": [
       "{0.0: [array([4.7, 3.2, 1.3, 0.2]),\n",
       "  array([5.4, 3.4, 1.7, 0.2]),\n",
       "  array([4.8, 3. , 1.4, 0.3]),\n",
       "  array([4.8, 3.4, 1.9, 0.2]),\n",
       "  array([5. , 3.6, 1.4, 0.2]),\n",
       "  array([5.1, 3.3, 1.7, 0.5]),\n",
       "  array([5.1, 3.7, 1.5, 0.4]),\n",
       "  array([5.4, 3.9, 1.7, 0.4]),\n",
       "  array([5.4, 3.9, 1.3, 0.4]),\n",
       "  array([4.9, 3. , 1.4, 0.2]),\n",
       "  array([4.7, 3.2, 1.6, 0.2]),\n",
       "  array([4.9, 3.1, 1.5, 0.1]),\n",
       "  array([5.2, 4.1, 1.5, 0.1]),\n",
       "  array([5. , 3.5, 1.3, 0.3]),\n",
       "  array([5.1, 3.8, 1.9, 0.4]),\n",
       "  array([5.2, 3.5, 1.5, 0.2]),\n",
       "  array([5.2, 3.4, 1.4, 0.2]),\n",
       "  array([4.6, 3.1, 1.5, 0.2]),\n",
       "  array([5.7, 3.8, 1.7, 0.3]),\n",
       "  array([5.4, 3.7, 1.5, 0.2]),\n",
       "  array([4.5, 2.3, 1.3, 0.3]),\n",
       "  array([5. , 3.3, 1.4, 0.2]),\n",
       "  array([5.5, 3.5, 1.3, 0.2]),\n",
       "  array([5. , 3. , 1.6, 0.2]),\n",
       "  array([4.3, 3. , 1.1, 0.1]),\n",
       "  array([5.1, 3.8, 1.6, 0.2]),\n",
       "  array([5.1, 3.8, 1.5, 0.3]),\n",
       "  array([4.6, 3.6, 1. , 0.2]),\n",
       "  array([5. , 3.4, 1.5, 0.2]),\n",
       "  array([4.4, 3. , 1.3, 0.2]),\n",
       "  array([5.3, 3.7, 1.5, 0.2]),\n",
       "  array([4.6, 3.2, 1.4, 0.2]),\n",
       "  array([5.1, 3.4, 1.5, 0.2]),\n",
       "  array([4.9, 3.1, 1.5, 0.1]),\n",
       "  array([4.9, 3.1, 1.5, 0.1]),\n",
       "  array([4.8, 3.1, 1.6, 0.2])],\n",
       " 1.0: [array([5.9, 3.2, 4.8, 1.8]),\n",
       "  array([5.9, 3. , 4.2, 1.5]),\n",
       "  array([5.5, 2.4, 3.8, 1.1]),\n",
       "  array([5.5, 2.3, 4. , 1.3]),\n",
       "  array([5.7, 2.9, 4.2, 1.3]),\n",
       "  array([6. , 2.7, 5.1, 1.6]),\n",
       "  array([6.3, 2.3, 4.4, 1.3]),\n",
       "  array([6.3, 2.5, 4.9, 1.5]),\n",
       "  array([5.6, 2.9, 3.6, 1.3]),\n",
       "  array([6.1, 2.9, 4.7, 1.4]),\n",
       "  array([6.2, 2.2, 4.5, 1.5]),\n",
       "  array([6.3, 3.3, 4.7, 1.6]),\n",
       "  array([6.6, 2.9, 4.6, 1.3]),\n",
       "  array([5.8, 2.7, 4.1, 1. ]),\n",
       "  array([5.2, 2.7, 3.9, 1.4]),\n",
       "  array([6.1, 2.8, 4.7, 1.2]),\n",
       "  array([5.7, 2.8, 4.1, 1.3]),\n",
       "  array([6.7, 3.1, 4.7, 1.5]),\n",
       "  array([6. , 2.9, 4.5, 1.5]),\n",
       "  array([5.6, 2.7, 4.2, 1.3]),\n",
       "  array([6.4, 3.2, 4.5, 1.5]),\n",
       "  array([6.4, 2.9, 4.3, 1.3]),\n",
       "  array([6.1, 2.8, 4. , 1.3]),\n",
       "  array([6.9, 3.1, 4.9, 1.5]),\n",
       "  array([6.7, 3.1, 4.4, 1.4]),\n",
       "  array([5.7, 2.8, 4.5, 1.3]),\n",
       "  array([5. , 2. , 3.5, 1. ]),\n",
       "  array([5.7, 2.6, 3.5, 1. ]),\n",
       "  array([5.8, 2.6, 4. , 1.2]),\n",
       "  array([5.4, 3. , 4.5, 1.5]),\n",
       "  array([6. , 3.4, 4.5, 1.6]),\n",
       "  array([5.1, 2.5, 3. , 1.1]),\n",
       "  array([5.6, 2.5, 3.9, 1.1]),\n",
       "  array([6.6, 3. , 4.4, 1.4])]}"
      ]
     },
     "execution_count": 112,
     "metadata": {},
     "output_type": "execute_result"
    }
   ],
   "source": [
    "model"
   ]
  },
  {
   "cell_type": "code",
   "execution_count": 104,
   "metadata": {
    "ExecuteTime": {
     "end_time": "2019-03-20T03:08:49.065214Z",
     "start_time": "2019-03-20T03:08:49.059213Z"
    }
   },
   "outputs": [
    {
     "data": {
      "text/plain": [
       "0.21971223238070992"
      ]
     },
     "execution_count": 104,
     "metadata": {},
     "output_type": "execute_result"
    }
   ],
   "source": [
    "gaussian_probability(2,3,1.414)"
   ]
  },
  {
   "cell_type": "code",
   "execution_count": null,
   "metadata": {},
   "outputs": [],
   "source": []
  }
 ],
 "metadata": {
  "kernelspec": {
   "display_name": "Python 3",
   "language": "python",
   "name": "python3"
  },
  "language_info": {
   "codemirror_mode": {
    "name": "ipython",
    "version": 3
   },
   "file_extension": ".py",
   "mimetype": "text/x-python",
   "name": "python",
   "nbconvert_exporter": "python",
   "pygments_lexer": "ipython3",
   "version": "3.6.3"
  }
 },
 "nbformat": 4,
 "nbformat_minor": 2
}
