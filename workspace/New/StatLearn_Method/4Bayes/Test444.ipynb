{
 "cells": [
  {
   "cell_type": "code",
   "execution_count": 1,
   "metadata": {
    "ExecuteTime": {
     "end_time": "2019-04-19T01:29:21.329685Z",
     "start_time": "2019-04-19T01:29:19.878602Z"
    }
   },
   "outputs": [],
   "source": [
    "import numpy as np\n",
    "import pandas as pd\n",
    "import matplotlib.pyplot as plt\n",
    "# %matplotlib inline\n",
    "\n",
    "from sklearn.datasets import load_iris\n",
    "from sklearn.model_selection import train_test_split\n",
    "\n",
    "from collections import Counter\n",
    "import math"
   ]
  },
  {
   "cell_type": "code",
   "execution_count": 2,
   "metadata": {
    "ExecuteTime": {
     "end_time": "2019-04-19T03:21:00.013828Z",
     "start_time": "2019-04-19T03:20:59.998827Z"
    }
   },
   "outputs": [],
   "source": [
    "# data\n",
    "def create_data():\n",
    "    iris = load_iris()\n",
    "    df = pd.DataFrame(iris.data, columns=iris.feature_names)\n",
    "    df['label'] = iris.target\n",
    "    df.columns = ['sepal length', 'sepal width', 'petal length', 'petal width', 'label']\n",
    "    data = np.array(df.iloc[:100, :])\n",
    "    # print(data)\n",
    "    return data[:,:-1], data[:,-1]"
   ]
  },
  {
   "cell_type": "code",
   "execution_count": 3,
   "metadata": {
    "ExecuteTime": {
     "end_time": "2019-04-19T03:21:07.913279Z",
     "start_time": "2019-04-19T03:21:07.893278Z"
    }
   },
   "outputs": [],
   "source": [
    "X, y = create_data()\n",
    "X_train, X_test, y_train, y_test = train_test_split(X, y, test_size=0.3)"
   ]
  },
  {
   "cell_type": "code",
   "execution_count": 4,
   "metadata": {
    "ExecuteTime": {
     "end_time": "2019-04-19T03:21:12.640550Z",
     "start_time": "2019-04-19T03:21:12.625549Z"
    }
   },
   "outputs": [
    {
     "data": {
      "text/plain": [
       "(array([4.6, 3.1, 1.5, 0.2]), 0.0)"
      ]
     },
     "execution_count": 4,
     "metadata": {},
     "output_type": "execute_result"
    }
   ],
   "source": [
    "X_test[0], y_test[0]"
   ]
  },
  {
   "cell_type": "code",
   "execution_count": 32,
   "metadata": {
    "ExecuteTime": {
     "end_time": "2019-04-19T09:56:05.185686Z",
     "start_time": "2019-04-19T09:56:05.169685Z"
    }
   },
   "outputs": [],
   "source": [
    "def mean(x):\n",
    "    return sum(x) / float(len(x))\n",
    "\n",
    "def stdev(x):\n",
    "    avg=mean(x)\n",
    "    return np.sqrt(sum((x1-avg)**2 for x1 in x)) / float(len(x))\n",
    "\n",
    "def gaussian_proba(x,mean,stdev):\n",
    "    exp=math.exp(-(math.pow(x-mean,2)/(2*math.pow(stdev,2))))\n",
    "    return (1/(math.pow(2*math.pi,1/2)*stdev)) * exp\n"
   ]
  },
  {
   "cell_type": "code",
   "execution_count": 14,
   "metadata": {
    "ExecuteTime": {
     "end_time": "2019-04-19T09:39:42.478478Z",
     "start_time": "2019-04-19T09:39:42.470478Z"
    }
   },
   "outputs": [],
   "source": [
    "def summariez(train_data):\n",
    "    summaries=[(mean(i),stdev(i)) for i in zip(*train_data)]\n",
    "    return summaries"
   ]
  },
  {
   "cell_type": "code",
   "execution_count": 15,
   "metadata": {
    "ExecuteTime": {
     "end_time": "2019-04-19T09:39:43.069512Z",
     "start_time": "2019-04-19T09:39:43.061512Z"
    }
   },
   "outputs": [
    {
     "data": {
      "text/plain": [
       "array([[4.7, 3.2, 1.6, 0.2],\n",
       "       [4.8, 3. , 1.4, 0.3],\n",
       "       [5. , 3. , 1.6, 0.2],\n",
       "       [5.9, 3. , 4.2, 1.5],\n",
       "       [6.3, 3.3, 4.7, 1.6]])"
      ]
     },
     "execution_count": 15,
     "metadata": {},
     "output_type": "execute_result"
    }
   ],
   "source": [
    "X_train[:5]"
   ]
  },
  {
   "cell_type": "code",
   "execution_count": 17,
   "metadata": {
    "ExecuteTime": {
     "end_time": "2019-04-19T09:40:38.077658Z",
     "start_time": "2019-04-19T09:40:38.057657Z"
    }
   },
   "outputs": [],
   "source": [
    "def fit(x,y):\n",
    "    labels=list(set(y))\n",
    "    data={label:[] for label in labels}\n",
    "    model={}\n",
    "    for f ,label in zip(x,y):\n",
    "        data[label].append(f)\n",
    "    model={label:summariez(value for label,value in data.items())}\n",
    "    return model\n",
    "        "
   ]
  },
  {
   "cell_type": "code",
   "execution_count": 37,
   "metadata": {
    "ExecuteTime": {
     "end_time": "2019-04-19T09:58:03.573457Z",
     "start_time": "2019-04-19T09:58:03.554456Z"
    }
   },
   "outputs": [],
   "source": [
    "def calculate_proba(input_data,model):\n",
    "    probability={}\n",
    "    for label,value in model.items():\n",
    "        probability[label]=1\n",
    "        for i in range(len(value)):\n",
    "            mean,stdev=value[i]\n",
    "            print(mean,stdev)\n",
    "            probability[label]*=gaussian_proba(input_data[i],mean,stdev)\n",
    "    return probability"
   ]
  },
  {
   "cell_type": "code",
   "execution_count": 38,
   "metadata": {
    "ExecuteTime": {
     "end_time": "2019-04-19T09:58:04.056485Z",
     "start_time": "2019-04-19T09:58:04.050485Z"
    }
   },
   "outputs": [],
   "source": [
    "def predict(x,y,x_test):\n",
    "    label=sorted(calculate_proba(x_test,fit(x,y)).items(),key=lambda x:x[-1])[-1][0]\n",
    "    return label"
   ]
  },
  {
   "cell_type": "code",
   "execution_count": 39,
   "metadata": {
    "ExecuteTime": {
     "end_time": "2019-04-19T09:58:04.347502Z",
     "start_time": "2019-04-19T09:58:04.339501Z"
    }
   },
   "outputs": [],
   "source": [
    "def score(x_test,y_test):\n",
    "    right=0\n",
    "    for x,y in zip(x_test,y_test):\n",
    "        label=predict(x)\n",
    "        if label==y:\n",
    "            right+=1\n",
    "    return right / float(len(x_test))"
   ]
  },
  {
   "cell_type": "code",
   "execution_count": 40,
   "metadata": {
    "ExecuteTime": {
     "end_time": "2019-04-19T09:58:04.931535Z",
     "start_time": "2019-04-19T09:58:04.884532Z"
    }
   },
   "outputs": [
    {
     "name": "stdout",
     "output_type": "stream",
     "text": [
      "[5.3  3.1  2.9  0.85] [0.42426407 0.07071068 0.91923882 0.45961941]\n"
     ]
    },
    {
     "ename": "TypeError",
     "evalue": "only size-1 arrays can be converted to Python scalars",
     "output_type": "error",
     "traceback": [
      "\u001b[1;31m---------------------------------------------------------------------------\u001b[0m",
      "\u001b[1;31mTypeError\u001b[0m                                 Traceback (most recent call last)",
      "\u001b[1;32m<ipython-input-40-cdea0d25b508>\u001b[0m in \u001b[0;36m<module>\u001b[1;34m()\u001b[0m\n\u001b[1;32m----> 1\u001b[1;33m \u001b[0mpredict\u001b[0m\u001b[1;33m(\u001b[0m\u001b[0mX_train\u001b[0m\u001b[1;33m,\u001b[0m\u001b[0my_train\u001b[0m\u001b[1;33m,\u001b[0m\u001b[0mX_test\u001b[0m\u001b[1;33m)\u001b[0m\u001b[1;33m\u001b[0m\u001b[0m\n\u001b[0m",
      "\u001b[1;32m<ipython-input-38-02e12b0684d8>\u001b[0m in \u001b[0;36mpredict\u001b[1;34m(x, y, x_test)\u001b[0m\n\u001b[0;32m      1\u001b[0m \u001b[1;32mdef\u001b[0m \u001b[0mpredict\u001b[0m\u001b[1;33m(\u001b[0m\u001b[0mx\u001b[0m\u001b[1;33m,\u001b[0m\u001b[0my\u001b[0m\u001b[1;33m,\u001b[0m\u001b[0mx_test\u001b[0m\u001b[1;33m)\u001b[0m\u001b[1;33m:\u001b[0m\u001b[1;33m\u001b[0m\u001b[0m\n\u001b[1;32m----> 2\u001b[1;33m     \u001b[0mlabel\u001b[0m\u001b[1;33m=\u001b[0m\u001b[0msorted\u001b[0m\u001b[1;33m(\u001b[0m\u001b[0mcalculate_proba\u001b[0m\u001b[1;33m(\u001b[0m\u001b[0mx_test\u001b[0m\u001b[1;33m,\u001b[0m\u001b[0mfit\u001b[0m\u001b[1;33m(\u001b[0m\u001b[0mx\u001b[0m\u001b[1;33m,\u001b[0m\u001b[0my\u001b[0m\u001b[1;33m)\u001b[0m\u001b[1;33m)\u001b[0m\u001b[1;33m.\u001b[0m\u001b[0mitems\u001b[0m\u001b[1;33m(\u001b[0m\u001b[1;33m)\u001b[0m\u001b[1;33m,\u001b[0m\u001b[0mkey\u001b[0m\u001b[1;33m=\u001b[0m\u001b[1;32mlambda\u001b[0m \u001b[0mx\u001b[0m\u001b[1;33m:\u001b[0m\u001b[0mx\u001b[0m\u001b[1;33m[\u001b[0m\u001b[1;33m-\u001b[0m\u001b[1;36m1\u001b[0m\u001b[1;33m]\u001b[0m\u001b[1;33m)\u001b[0m\u001b[1;33m[\u001b[0m\u001b[1;33m-\u001b[0m\u001b[1;36m1\u001b[0m\u001b[1;33m]\u001b[0m\u001b[1;33m[\u001b[0m\u001b[1;36m0\u001b[0m\u001b[1;33m]\u001b[0m\u001b[1;33m\u001b[0m\u001b[0m\n\u001b[0m\u001b[0;32m      3\u001b[0m     \u001b[1;32mreturn\u001b[0m \u001b[0mlabel\u001b[0m\u001b[1;33m\u001b[0m\u001b[0m\n",
      "\u001b[1;32m<ipython-input-37-e36e3120b07a>\u001b[0m in \u001b[0;36mcalculate_proba\u001b[1;34m(input_data, model)\u001b[0m\n\u001b[0;32m      6\u001b[0m             \u001b[0mmean\u001b[0m\u001b[1;33m,\u001b[0m\u001b[0mstdev\u001b[0m\u001b[1;33m=\u001b[0m\u001b[0mvalue\u001b[0m\u001b[1;33m[\u001b[0m\u001b[0mi\u001b[0m\u001b[1;33m]\u001b[0m\u001b[1;33m\u001b[0m\u001b[0m\n\u001b[0;32m      7\u001b[0m             \u001b[0mprint\u001b[0m\u001b[1;33m(\u001b[0m\u001b[0mmean\u001b[0m\u001b[1;33m,\u001b[0m\u001b[0mstdev\u001b[0m\u001b[1;33m)\u001b[0m\u001b[1;33m\u001b[0m\u001b[0m\n\u001b[1;32m----> 8\u001b[1;33m             \u001b[0mprobability\u001b[0m\u001b[1;33m[\u001b[0m\u001b[0mlabel\u001b[0m\u001b[1;33m]\u001b[0m\u001b[1;33m*=\u001b[0m\u001b[0mgaussian_proba\u001b[0m\u001b[1;33m(\u001b[0m\u001b[0minput_data\u001b[0m\u001b[1;33m[\u001b[0m\u001b[0mi\u001b[0m\u001b[1;33m]\u001b[0m\u001b[1;33m,\u001b[0m\u001b[0mmean\u001b[0m\u001b[1;33m,\u001b[0m\u001b[0mstdev\u001b[0m\u001b[1;33m)\u001b[0m\u001b[1;33m\u001b[0m\u001b[0m\n\u001b[0m\u001b[0;32m      9\u001b[0m     \u001b[1;32mreturn\u001b[0m \u001b[0mprobability\u001b[0m\u001b[1;33m\u001b[0m\u001b[0m\n",
      "\u001b[1;32m<ipython-input-32-e5d87ec30f12>\u001b[0m in \u001b[0;36mgaussian_proba\u001b[1;34m(x, mean, stdev)\u001b[0m\n\u001b[0;32m      7\u001b[0m \u001b[1;33m\u001b[0m\u001b[0m\n\u001b[0;32m      8\u001b[0m \u001b[1;32mdef\u001b[0m \u001b[0mgaussian_proba\u001b[0m\u001b[1;33m(\u001b[0m\u001b[0mx\u001b[0m\u001b[1;33m,\u001b[0m\u001b[0mmean\u001b[0m\u001b[1;33m,\u001b[0m\u001b[0mstdev\u001b[0m\u001b[1;33m)\u001b[0m\u001b[1;33m:\u001b[0m\u001b[1;33m\u001b[0m\u001b[0m\n\u001b[1;32m----> 9\u001b[1;33m     \u001b[0mexp\u001b[0m\u001b[1;33m=\u001b[0m\u001b[0mmath\u001b[0m\u001b[1;33m.\u001b[0m\u001b[0mexp\u001b[0m\u001b[1;33m(\u001b[0m\u001b[1;33m-\u001b[0m\u001b[1;33m(\u001b[0m\u001b[0mmath\u001b[0m\u001b[1;33m.\u001b[0m\u001b[0mpow\u001b[0m\u001b[1;33m(\u001b[0m\u001b[0mx\u001b[0m\u001b[1;33m-\u001b[0m\u001b[0mmean\u001b[0m\u001b[1;33m,\u001b[0m\u001b[1;36m2\u001b[0m\u001b[1;33m)\u001b[0m\u001b[1;33m/\u001b[0m\u001b[1;33m(\u001b[0m\u001b[1;36m2\u001b[0m\u001b[1;33m*\u001b[0m\u001b[0mmath\u001b[0m\u001b[1;33m.\u001b[0m\u001b[0mpow\u001b[0m\u001b[1;33m(\u001b[0m\u001b[0mstdev\u001b[0m\u001b[1;33m,\u001b[0m\u001b[1;36m2\u001b[0m\u001b[1;33m)\u001b[0m\u001b[1;33m)\u001b[0m\u001b[1;33m)\u001b[0m\u001b[1;33m)\u001b[0m\u001b[1;33m\u001b[0m\u001b[0m\n\u001b[0m\u001b[0;32m     10\u001b[0m     \u001b[1;32mreturn\u001b[0m \u001b[1;33m(\u001b[0m\u001b[1;36m1\u001b[0m\u001b[1;33m/\u001b[0m\u001b[1;33m(\u001b[0m\u001b[0mmath\u001b[0m\u001b[1;33m.\u001b[0m\u001b[0mpow\u001b[0m\u001b[1;33m(\u001b[0m\u001b[1;36m2\u001b[0m\u001b[1;33m*\u001b[0m\u001b[0mmath\u001b[0m\u001b[1;33m.\u001b[0m\u001b[0mpi\u001b[0m\u001b[1;33m,\u001b[0m\u001b[1;36m1\u001b[0m\u001b[1;33m/\u001b[0m\u001b[1;36m2\u001b[0m\u001b[1;33m)\u001b[0m\u001b[1;33m*\u001b[0m\u001b[0mstdev\u001b[0m\u001b[1;33m)\u001b[0m\u001b[1;33m)\u001b[0m \u001b[1;33m*\u001b[0m \u001b[0mexp\u001b[0m\u001b[1;33m\u001b[0m\u001b[0m\n",
      "\u001b[1;31mTypeError\u001b[0m: only size-1 arrays can be converted to Python scalars"
     ]
    }
   ],
   "source": [
    "predict(X_train,y_train,X_test)"
   ]
  },
  {
   "cell_type": "code",
   "execution_count": 41,
   "metadata": {
    "ExecuteTime": {
     "end_time": "2019-04-19T09:58:38.272442Z",
     "start_time": "2019-04-19T09:58:38.242440Z"
    }
   },
   "outputs": [
    {
     "data": {
      "text/plain": [
       "{0.0: [(array([5.3 , 3.1 , 2.9 , 0.85]),\n",
       "   array([0.42426407, 0.07071068, 0.91923882, 0.45961941])),\n",
       "  (array([5.55, 3.15, 3.05, 0.95]),\n",
       "   array([0.53033009, 0.10606602, 1.16672619, 0.45961941])),\n",
       "  (array([5.35, 2.95, 2.9 , 0.75]),\n",
       "   array([0.24748737, 0.03535534, 0.91923882, 0.38890873])),\n",
       "  (array([5.55, 3.25, 2.7 , 0.75]),\n",
       "   array([0.03535534, 0.1767767 , 0.98994949, 0.38890873])),\n",
       "  (array([5.55, 3.1 , 3.1 , 1.  ]),\n",
       "   array([0.31819805, 0.14142136, 0.98994949, 0.35355339])),\n",
       "  (array([5.45, 3.45, 3.  , 0.7 ]),\n",
       "   array([0.1767767 , 0.45961941, 1.06066017, 0.42426407])),\n",
       "  (array([5.6 , 2.95, 2.85, 0.7 ]),\n",
       "   array([0.56568542, 0.03535534, 1.02530483, 0.42426407])),\n",
       "  (array([5.6 , 3.3 , 2.95, 0.85]),\n",
       "   array([0.35355339, 0.35355339, 0.74246212, 0.31819805])),\n",
       "  (array([5.45, 3.  , 3.15, 0.8 ]),\n",
       "   array([0.45961941, 0.07071068, 1.09601551, 0.42426407])),\n",
       "  (array([4.95, 2.85, 2.65, 0.7 ]),\n",
       "   array([0.45961941, 0.10606602, 1.09601551, 0.42426407])),\n",
       "  (array([5.4 , 2.3 , 2.85, 0.8 ]),\n",
       "   array([0.6363961 , 0.        , 1.09601551, 0.35355339])),\n",
       "  (array([5.6, 3.6, 2.8, 0.7]),\n",
       "   array([0.07071068, 0.42426407, 0.98994949, 0.35355339])),\n",
       "  (array([5.55, 2.95, 3.4 , 0.85]),\n",
       "   array([0.53033009, 0.31819805, 1.06066017, 0.45961941])),\n",
       "  (array([5.45, 3.25, 2.1 , 0.65]),\n",
       "   array([0.24748737, 0.53033009, 0.6363961 , 0.31819805])),\n",
       "  (array([5.15, 3.1 , 3.05, 1.  ]),\n",
       "   array([0.53033009, 0.07071068, 1.23743687, 0.56568542])),\n",
       "  (array([5.75, 3.2 , 3.05, 0.9 ]),\n",
       "   array([0.24748737, 0.14142136, 1.09601551, 0.35355339])),\n",
       "  (array([5.75, 3.05, 3.  , 0.85]),\n",
       "   array([0.53033009, 0.1767767 , 1.13137085, 0.45961941])),\n",
       "  (array([4.75, 2.8 , 2.35, 0.6 ]),\n",
       "   array([0.10606602, 0.28284271, 0.67175144, 0.28284271])),\n",
       "  (array([5.45, 3.2 , 2.85, 0.85]),\n",
       "   array([0.03535534, 0.49497475, 0.8131728 , 0.31819805])),\n",
       "  (array([5.2, 3. , 2.4, 0.6]),\n",
       "   array([0.14142136, 0.49497475, 0.6363961 , 0.28284271])),\n",
       "  (array([5.3 , 3.05, 2.65, 0.65]),\n",
       "   array([0.21213203, 0.38890873, 0.88388348, 0.31819805])),\n",
       "  (array([5.35, 2.85, 2.75, 0.6 ]),\n",
       "   array([0.31819805, 0.10606602, 0.95459415, 0.28284271])),\n",
       "  (array([5.45, 3.  , 2.45, 0.6 ]),\n",
       "   array([0.1767767 , 0.28284271, 0.74246212, 0.28284271])),\n",
       "  (array([5.25, 2.85, 2.75, 0.75]),\n",
       "   array([0.1767767 , 0.38890873, 0.88388348, 0.38890873])),\n",
       "  (array([5.45, 3.25, 3.  , 0.85]),\n",
       "   array([0.38890873, 0.10606602, 1.06066017, 0.53033009])),\n",
       "  (array([5.25, 2.95, 2.5 , 0.65]),\n",
       "   array([0.1767767 , 0.38890873, 0.84852814, 0.24748737])),\n",
       "  (array([5.6 , 3.1 , 2.75, 0.7 ]),\n",
       "   array([0.07071068, 0.49497475, 0.74246212, 0.28284271])),\n",
       "  (array([5.35, 2.85, 2.75, 0.65]),\n",
       "   array([0.31819805, 0.1767767 , 0.88388348, 0.38890873])),\n",
       "  (array([5.85, 3.2 , 2.95, 0.8 ]),\n",
       "   array([0.53033009, 0.14142136, 1.02530483, 0.42426407])),\n",
       "  (array([5.25, 3.05, 3.  , 0.8 ]),\n",
       "   array([0.24748737, 0.03535534, 1.06066017, 0.49497475])),\n",
       "  (array([5.75, 3.1 , 3.2 , 0.7 ]),\n",
       "   array([0.24748737, 0.21213203, 1.06066017, 0.35355339])),\n",
       "  (array([5.75, 3.3 , 2.9 , 0.75]),\n",
       "   array([0.31819805, 0.28284271, 0.98994949, 0.38890873])),\n",
       "  (array([5.1 , 2.75, 2.5 , 0.6 ]),\n",
       "   array([0.07071068, 0.53033009, 0.70710678, 0.28284271])),\n",
       "  (array([5.55, 3.2 , 2.9 , 0.85]),\n",
       "   array([0.60104076, 0.        , 1.13137085, 0.45961941])),\n",
       "  (array([5.9 , 3.45, 3.  , 0.8 ]),\n",
       "   array([0.56568542, 0.24748737, 0.98994949, 0.42426407]))]}"
      ]
     },
     "execution_count": 41,
     "metadata": {},
     "output_type": "execute_result"
    }
   ],
   "source": [
    "fit(X_train,y_train)"
   ]
  },
  {
   "cell_type": "code",
   "execution_count": null,
   "metadata": {},
   "outputs": [],
   "source": []
  }
 ],
 "metadata": {
  "kernelspec": {
   "display_name": "Python 3",
   "language": "python",
   "name": "python3"
  },
  "language_info": {
   "codemirror_mode": {
    "name": "ipython",
    "version": 3
   },
   "file_extension": ".py",
   "mimetype": "text/x-python",
   "name": "python",
   "nbconvert_exporter": "python",
   "pygments_lexer": "ipython3",
   "version": "3.6.3"
  }
 },
 "nbformat": 4,
 "nbformat_minor": 2
}
