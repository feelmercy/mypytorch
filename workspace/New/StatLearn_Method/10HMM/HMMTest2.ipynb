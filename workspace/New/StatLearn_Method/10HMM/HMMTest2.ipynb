{
 "cells": [
  {
   "cell_type": "code",
   "execution_count": null,
   "metadata": {
    "ExecuteTime": {
     "end_time": "2019-07-08T02:42:02.760731Z",
     "start_time": "2019-07-08T02:42:01.621666Z"
    }
   },
   "outputs": [],
   "source": [
    "import numpy as np"
   ]
  },
  {
   "cell_type": "code",
   "execution_count": 8,
   "metadata": {
    "ExecuteTime": {
     "end_time": "2019-07-08T05:56:27.187898Z",
     "start_time": "2019-07-08T05:56:27.169897Z"
    }
   },
   "outputs": [],
   "source": [
    "Q = [1, 2, 3]\n",
    "V = ['红', '白']\n",
    "A = [[0.5, 0.2, 0.3], [0.3, 0.5, 0.2], [0.2, 0.3, 0.5]]\n",
    "B = [[0.5, 0.5], [0.4, 0.6], [0.7, 0.3]]\n",
    "O = ['红', '白', '红', '红', '白', '红', '白', '白']\n",
    "PI = [[0.2, 0.3, 0.5]]"
   ]
  },
  {
   "cell_type": "code",
   "execution_count": null,
   "metadata": {},
   "outputs": [],
   "source": [
    "                betas[i][t-1]=np.dot(np.multiply([a for a in A[i]], \n",
    "                                            [b[indexOfO] for b in B]),\n",
    "                                     [beta for beta in betas[:,t]])"
   ]
  },
  {
   "cell_type": "code",
   "execution_count": 136,
   "metadata": {
    "ExecuteTime": {
     "end_time": "2019-07-08T08:21:00.908006Z",
     "start_time": "2019-07-08T08:21:00.761998Z"
    }
   },
   "outputs": [],
   "source": [
    "class HiddenMarkov:\n",
    "    def forward(self,Q,V,A,B,O,PI):\n",
    "        '''\n",
    "        Q:状态集合\n",
    "        V:观测集合\n",
    "        A:状态转移概率矩阵\n",
    "        B:观测概率矩阵\n",
    "        O:观测序列\n",
    "        PI:初始参数\n",
    "        '''\n",
    "        N=len(Q)  #状态集合,就是箱子\n",
    "        M=len(O)  # 观测序列\n",
    "        alphas=np.zeros((N,M))\n",
    "        T=M ### T=观测序列的长度\n",
    "        \n",
    "        for t in range(T):\n",
    "            for i in range(N):\n",
    "                indexOfO=V.index(O[t])\n",
    "                if t==0:\n",
    "                    alphas[i][t]=PI[t][i]*B[i][indexOfO]\n",
    "                else:\n",
    "                    alphas[i][t]=np.dot([alpha[t-1] for alpha in alphas],\\\n",
    "                                       [a[i] for a in A]) * B[i][indexOfO]\n",
    "        print(alphas)\n",
    "        P=np.sum([alpha[M-1] for alpha in alphas])\n",
    "        print(P)\n",
    "        \n",
    "        \n",
    "    def backward(self,Q,V,A,B,O,PI):\n",
    "        '''\n",
    "        Q:状态集合\n",
    "        V:观测集合\n",
    "        A:状态转移概率矩阵\n",
    "        B:观测概率矩阵\n",
    "        O:观测序列\n",
    "        PI:初始参数\n",
    "        '''\n",
    "        M=len(Q)\n",
    "        N=len(O)\n",
    "        T=N\n",
    "        betas=np.ones((M,N))\n",
    "        \n",
    "        for i in range(M):\n",
    "            print('betas[%d][%d] = %d' % (i,N-1,betas[i][N-1]))\n",
    "        \n",
    "        for t in range(T-1,0,-1):\n",
    "            indexOfO=V.index(O[t])\n",
    "            for i in range(M):\n",
    "#                 print('---------A-----------')\n",
    "#                 print([np.float64(a) for a in A[i]])\n",
    "#                 print('---------B-----------')\n",
    "#                 print( [np.float64(b[indexOfO]) for b in B])\n",
    "#                 print('---------beta-----------')\n",
    "#                 print([beta for beta in betas[:,t]])\n",
    "                print('-----------{}--{}------------'.format(t,i))\n",
    "                print('-------part11----------')\n",
    "                print([a for a in A[i]])\n",
    "                print('-------part12----------')\n",
    "                print([b[indexOfO] for b in B])\n",
    "                print('---------part2------------')\n",
    "                print([beta for beta in betas[:,t]])\n",
    "                print('-------------------------')\n",
    "                      \n",
    "                betas[i][t-1]=np.dot(np.multiply([a for a in A[i]], \n",
    "                                            [b[indexOfO] for b in B]),\n",
    "                                     [beta for beta in betas[:,t]])\n",
    "        \n",
    "        P=0\n",
    "        indexOfO2=V.index(O[0])\n",
    "        for i in range(M):\n",
    "            P+=PI[0][i]*B[i][indexOfO2]*betas[i][0]\n",
    "        print(betas)\n",
    "        return P\n",
    "        "
   ]
  },
  {
   "cell_type": "code",
   "execution_count": 137,
   "metadata": {
    "ExecuteTime": {
     "end_time": "2019-07-08T08:21:01.316030Z",
     "start_time": "2019-07-08T08:21:01.310029Z"
    }
   },
   "outputs": [],
   "source": [
    "HMM = HiddenMarkov()"
   ]
  },
  {
   "cell_type": "code",
   "execution_count": 140,
   "metadata": {
    "ExecuteTime": {
     "end_time": "2019-07-08T08:21:21.164165Z",
     "start_time": "2019-07-08T08:21:21.151164Z"
    }
   },
   "outputs": [
    {
     "name": "stdout",
     "output_type": "stream",
     "text": [
      "[[0.1        0.078      0.04302    0.0218541  0.01146343 0.00576595\n",
      "  0.0028617  0.00141148]\n",
      " [0.12       0.111      0.036684   0.0174942  0.01394714 0.00467612\n",
      "  0.00338859 0.00169797]\n",
      " [0.35       0.0687     0.055965   0.03375771 0.00808018 0.00718798\n",
      "  0.0018777  0.00074252]]\n",
      "0.0038519735794910995\n"
     ]
    }
   ],
   "source": [
    "HMM.forward(Q,V,A,B,O,PI)"
   ]
  },
  {
   "cell_type": "code",
   "execution_count": 139,
   "metadata": {
    "ExecuteTime": {
     "end_time": "2019-07-08T08:21:02.247083Z",
     "start_time": "2019-07-08T08:21:02.216081Z"
    }
   },
   "outputs": [
    {
     "name": "stdout",
     "output_type": "stream",
     "text": [
      "betas[0][7] = 1\n",
      "betas[1][7] = 1\n",
      "betas[2][7] = 1\n",
      "-----------7--0------------\n",
      "-------part11----------\n",
      "[0.5, 0.2, 0.3]\n",
      "-------part12----------\n",
      "[0.5, 0.6, 0.3]\n",
      "---------part2------------\n",
      "[1.0, 1.0, 1.0]\n",
      "-------------------------\n",
      "-----------7--1------------\n",
      "-------part11----------\n",
      "[0.3, 0.5, 0.2]\n",
      "-------part12----------\n",
      "[0.5, 0.6, 0.3]\n",
      "---------part2------------\n",
      "[1.0, 1.0, 1.0]\n",
      "-------------------------\n",
      "-----------7--2------------\n",
      "-------part11----------\n",
      "[0.2, 0.3, 0.5]\n",
      "-------part12----------\n",
      "[0.5, 0.6, 0.3]\n",
      "---------part2------------\n",
      "[1.0, 1.0, 1.0]\n",
      "-------------------------\n",
      "-----------6--0------------\n",
      "-------part11----------\n",
      "[0.5, 0.2, 0.3]\n",
      "-------part12----------\n",
      "[0.5, 0.6, 0.3]\n",
      "---------part2------------\n",
      "[0.45999999999999996, 0.51, 0.43000000000000005]\n",
      "-------------------------\n",
      "-----------6--1------------\n",
      "-------part11----------\n",
      "[0.3, 0.5, 0.2]\n",
      "-------part12----------\n",
      "[0.5, 0.6, 0.3]\n",
      "---------part2------------\n",
      "[0.45999999999999996, 0.51, 0.43000000000000005]\n",
      "-------------------------\n",
      "-----------6--2------------\n",
      "-------part11----------\n",
      "[0.2, 0.3, 0.5]\n",
      "-------part12----------\n",
      "[0.5, 0.6, 0.3]\n",
      "---------part2------------\n",
      "[0.45999999999999996, 0.51, 0.43000000000000005]\n",
      "-------------------------\n",
      "-----------5--0------------\n",
      "-------part11----------\n",
      "[0.5, 0.2, 0.3]\n",
      "-------part12----------\n",
      "[0.5, 0.4, 0.7]\n",
      "---------part2------------\n",
      "[0.2149, 0.24779999999999996, 0.20229999999999998]\n",
      "-------------------------\n",
      "-----------5--1------------\n",
      "-------part11----------\n",
      "[0.3, 0.5, 0.2]\n",
      "-------part12----------\n",
      "[0.5, 0.4, 0.7]\n",
      "---------part2------------\n",
      "[0.2149, 0.24779999999999996, 0.20229999999999998]\n",
      "-------------------------\n",
      "-----------5--2------------\n",
      "-------part11----------\n",
      "[0.2, 0.3, 0.5]\n",
      "-------part12----------\n",
      "[0.5, 0.4, 0.7]\n",
      "---------part2------------\n",
      "[0.2149, 0.24779999999999996, 0.20229999999999998]\n",
      "-------------------------\n",
      "-----------4--0------------\n",
      "-------part11----------\n",
      "[0.5, 0.2, 0.3]\n",
      "-------part12----------\n",
      "[0.5, 0.6, 0.3]\n",
      "---------part2------------\n",
      "[0.116032, 0.11011699999999999, 0.12203099999999999]\n",
      "-------------------------\n",
      "-----------4--1------------\n",
      "-------part11----------\n",
      "[0.3, 0.5, 0.2]\n",
      "-------part12----------\n",
      "[0.5, 0.6, 0.3]\n",
      "---------part2------------\n",
      "[0.116032, 0.11011699999999999, 0.12203099999999999]\n",
      "-------------------------\n",
      "-----------4--2------------\n",
      "-------part11----------\n",
      "[0.2, 0.3, 0.5]\n",
      "-------part12----------\n",
      "[0.5, 0.6, 0.3]\n",
      "---------part2------------\n",
      "[0.116032, 0.11011699999999999, 0.12203099999999999]\n",
      "-------------------------\n",
      "-----------3--0------------\n",
      "-------part11----------\n",
      "[0.5, 0.2, 0.3]\n",
      "-------part12----------\n",
      "[0.5, 0.4, 0.7]\n",
      "---------part2------------\n",
      "[0.053204829999999995, 0.057761759999999995, 0.049728909999999994]\n",
      "-------------------------\n",
      "-----------3--1------------\n",
      "-------part11----------\n",
      "[0.3, 0.5, 0.2]\n",
      "-------part12----------\n",
      "[0.5, 0.4, 0.7]\n",
      "---------part2------------\n",
      "[0.053204829999999995, 0.057761759999999995, 0.049728909999999994]\n",
      "-------------------------\n",
      "-----------3--2------------\n",
      "-------part11----------\n",
      "[0.2, 0.3, 0.5]\n",
      "-------part12----------\n",
      "[0.5, 0.4, 0.7]\n",
      "---------part2------------\n",
      "[0.053204829999999995, 0.057761759999999995, 0.049728909999999994]\n",
      "-------------------------\n",
      "-----------2--0------------\n",
      "-------part11----------\n",
      "[0.5, 0.2, 0.3]\n",
      "-------part12----------\n",
      "[0.5, 0.4, 0.7]\n",
      "---------part2------------\n",
      "[0.028365219399999995, 0.026495123899999997, 0.029657012699999995]\n",
      "-------------------------\n",
      "-----------2--1------------\n",
      "-------part11----------\n",
      "[0.3, 0.5, 0.2]\n",
      "-------part12----------\n",
      "[0.5, 0.4, 0.7]\n",
      "---------part2------------\n",
      "[0.028365219399999995, 0.026495123899999997, 0.029657012699999995]\n",
      "-------------------------\n",
      "-----------2--2------------\n",
      "-------part11----------\n",
      "[0.2, 0.3, 0.5]\n",
      "-------part12----------\n",
      "[0.5, 0.4, 0.7]\n",
      "---------part2------------\n",
      "[0.028365219399999995, 0.026495123899999997, 0.029657012699999995]\n",
      "-------------------------\n",
      "-----------1--0------------\n",
      "-------part11----------\n",
      "[0.5, 0.2, 0.3]\n",
      "-------part12----------\n",
      "[0.5, 0.6, 0.3]\n",
      "---------part2------------\n",
      "[0.015438887428999997, 0.013705789467999998, 0.016395891252999995]\n",
      "-------------------------\n",
      "-----------1--1------------\n",
      "-------part11----------\n",
      "[0.3, 0.5, 0.2]\n",
      "-------part12----------\n",
      "[0.5, 0.6, 0.3]\n",
      "---------part2------------\n",
      "[0.015438887428999997, 0.013705789467999998, 0.016395891252999995]\n",
      "-------------------------\n",
      "-----------1--2------------\n",
      "-------part11----------\n",
      "[0.2, 0.3, 0.5]\n",
      "-------part12----------\n",
      "[0.5, 0.6, 0.3]\n",
      "---------part2------------\n",
      "[0.015438887428999997, 0.013705789467999998, 0.016395891252999995]\n",
      "-------------------------\n",
      "[[0.00698005 0.01543889 0.02836522 0.05320483 0.116032   0.2149\n",
      "  0.46       1.        ]\n",
      " [0.00741132 0.01370579 0.02649512 0.05776176 0.110117   0.2478\n",
      "  0.51       1.        ]\n",
      " [0.00647031 0.01639589 0.02965701 0.04972891 0.122031   0.2023\n",
      "  0.43       1.        ]]\n"
     ]
    },
    {
     "data": {
      "text/plain": [
       "0.0038519735794910986"
      ]
     },
     "execution_count": 139,
     "metadata": {},
     "output_type": "execute_result"
    }
   ],
   "source": [
    "HMM.backward(Q,V,A,B,O,PI)"
   ]
  },
  {
   "cell_type": "code",
   "execution_count": 24,
   "metadata": {
    "ExecuteTime": {
     "end_time": "2019-07-08T06:26:55.458469Z",
     "start_time": "2019-07-08T06:26:55.448469Z"
    }
   },
   "outputs": [
    {
     "data": {
      "text/plain": [
       "[[0.5, 0.2, 0.3], [0.3, 0.5, 0.2], [0.2, 0.3, 0.5]]"
      ]
     },
     "execution_count": 24,
     "metadata": {},
     "output_type": "execute_result"
    }
   ],
   "source": [
    "A"
   ]
  },
  {
   "cell_type": "code",
   "execution_count": 90,
   "metadata": {
    "ExecuteTime": {
     "end_time": "2019-07-08T07:01:47.082103Z",
     "start_time": "2019-07-08T07:01:47.059102Z"
    }
   },
   "outputs": [
    {
     "data": {
      "text/plain": [
       "array([2, 4, 6])"
      ]
     },
     "execution_count": 90,
     "metadata": {},
     "output_type": "execute_result"
    }
   ],
   "source": [
    "a=[1,2,3]\n",
    "b=[2,2,2]\n",
    "np.multiply(a,b)"
   ]
  },
  {
   "cell_type": "code",
   "execution_count": 147,
   "metadata": {
    "ExecuteTime": {
     "end_time": "2019-07-09T03:07:00.182176Z",
     "start_time": "2019-07-09T03:07:00.160175Z"
    }
   },
   "outputs": [],
   "source": [
    "Q = [1, 2, 3]\n",
    "V = ['红', '白']\n",
    "A = [[0.5, 0.2, 0.3], [0.3, 0.5, 0.2], [0.2, 0.3, 0.5]]\n",
    "B = [[0.5, 0.5], [0.4, 0.6], [0.7, 0.3]]\n",
    "# O = ['红', '白', '红', '红', '白', '红', '白', '白']\n",
    "O = ['红', '白', '红', '白']    #习题10.1的例子\n",
    "PI = [[0.2, 0.4, 0.4]]"
   ]
  },
  {
   "cell_type": "code",
   "execution_count": 142,
   "metadata": {
    "ExecuteTime": {
     "end_time": "2019-07-09T02:16:49.795992Z",
     "start_time": "2019-07-09T02:16:49.782991Z"
    }
   },
   "outputs": [
    {
     "data": {
      "text/plain": [
       "[[0.5, 0.2, 0.3], [0.3, 0.5, 0.2], [0.2, 0.3, 0.5]]"
      ]
     },
     "execution_count": 142,
     "metadata": {},
     "output_type": "execute_result"
    }
   ],
   "source": [
    "A"
   ]
  },
  {
   "cell_type": "code",
   "execution_count": 143,
   "metadata": {
    "ExecuteTime": {
     "end_time": "2019-07-09T02:16:55.554321Z",
     "start_time": "2019-07-09T02:16:55.542320Z"
    }
   },
   "outputs": [
    {
     "data": {
      "text/plain": [
       "[[0.5, 0.5], [0.4, 0.6], [0.7, 0.3]]"
      ]
     },
     "execution_count": 143,
     "metadata": {},
     "output_type": "execute_result"
    }
   ],
   "source": [
    "B"
   ]
  },
  {
   "cell_type": "code",
   "execution_count": 144,
   "metadata": {
    "ExecuteTime": {
     "end_time": "2019-07-09T02:34:51.627869Z",
     "start_time": "2019-07-09T02:34:51.614868Z"
    }
   },
   "outputs": [
    {
     "data": {
      "text/plain": [
       "(0.020000000000000004, 0.08, 0.084)"
      ]
     },
     "execution_count": 144,
     "metadata": {},
     "output_type": "execute_result"
    }
   ],
   "source": [
    "0.1*0.2,0.16*0.5,0.28*0.3"
   ]
  },
  {
   "cell_type": "code",
   "execution_count": 145,
   "metadata": {
    "ExecuteTime": {
     "end_time": "2019-07-09T02:36:42.059185Z",
     "start_time": "2019-07-09T02:36:42.052185Z"
    }
   },
   "outputs": [
    {
     "data": {
      "text/plain": [
       "0.0504"
      ]
     },
     "execution_count": 145,
     "metadata": {},
     "output_type": "execute_result"
    }
   ],
   "source": [
    "0.084*0.6"
   ]
  },
  {
   "cell_type": "code",
   "execution_count": 161,
   "metadata": {
    "ExecuteTime": {
     "end_time": "2019-07-09T09:16:17.554505Z",
     "start_time": "2019-07-09T09:16:17.473501Z"
    }
   },
   "outputs": [],
   "source": [
    "class HiddenMarkov2:\n",
    "    def viterbi(self,Q,V,A,B,O,PI):\n",
    "        '''\n",
    "        Q:状态集合\n",
    "        V:观测集合\n",
    "        A:状态转移概率矩阵\n",
    "        B:观测概率矩阵\n",
    "        O:观测序列\n",
    "        PI:初始参数\n",
    "        '''        \n",
    "        M=len(Q)\n",
    "        N=len(O)\n",
    "        deltas=np.zeros((M,N))\n",
    "        psis=np.zeros((M,N))\n",
    "        I=np.zeros((1,N))\n",
    "        for t in range(N):\n",
    "            realT=t+1\n",
    "            for i in range(M):\n",
    "                indexOfO=V.index(O[t])\n",
    "                realI=i+1\n",
    "                if t==0:\n",
    "                    deltas[i][t]=PI[0][i] * B[i][indexOfO]\n",
    "                    psis[i][t] =0\n",
    "                    print('delta[%d][0] = pi[%d] * B[%d][%d]=%.2f * %.2f=%.2f' \\\n",
    "                          % (i,i,i,indexOfO,PI[0][i],B[i][indexOfO],PI[0][i] * B[i][indexOfO]))\n",
    "                    print('psis[%d][0]=0' % (realI))\n",
    "                else:\n",
    "                    deltas[i][t]=np.max(np.multiply([delta[t-1] for delta in deltas],\\\n",
    "                                                   [a[i] for a in A]))* B[i][indexOfO]\n",
    "                    psis[i][t]=np.argmax(np.multiply([delta[t-1] for delta in deltas],\\\n",
    "                                                    [a[i] for a in A]))\n",
    "                    \n",
    "            print(deltas)\n",
    "            print(psis)\n",
    "            I[0][N-1]=np.argmax([delta[N-1] for delta in deltas])\n",
    "            print('i%d=argmax[deltaT(i)]=%d' % (N, I[0][N-1]))\n",
    "            for t in range(N-2,-1,-1):\n",
    "                I[0][t]=psis[int(I[0][t+1])][t+1]\n",
    "                print('i%d=psis%d(i%d)=%d' % (t+1, t+2, t+2, I[0][t]+1))\n",
    "            print(I)\n"
   ]
  },
  {
   "cell_type": "code",
   "execution_count": 162,
   "metadata": {
    "ExecuteTime": {
     "end_time": "2019-07-09T09:16:17.950528Z",
     "start_time": "2019-07-09T09:16:17.931527Z"
    }
   },
   "outputs": [
    {
     "name": "stdout",
     "output_type": "stream",
     "text": [
      "delta[0][0] = pi[0] * B[0][0]=0.20 * 0.50=0.10\n",
      "psis[1][0]=0\n",
      "delta[1][0] = pi[1] * B[1][0]=0.40 * 0.40=0.16\n",
      "psis[2][0]=0\n",
      "delta[2][0] = pi[2] * B[2][0]=0.40 * 0.70=0.28\n",
      "psis[3][0]=0\n",
      "[[0.1  0.   0.   0.  ]\n",
      " [0.16 0.   0.   0.  ]\n",
      " [0.28 0.   0.   0.  ]]\n",
      "[[0. 0. 0. 0.]\n",
      " [0. 0. 0. 0.]\n",
      " [0. 0. 0. 0.]]\n",
      "i4=argmax[deltaT(i)]=0\n",
      "i3=psis4(i4)=1\n",
      "i2=psis3(i3)=1\n",
      "i1=psis2(i2)=1\n",
      "[[0. 0. 0. 0.]]\n",
      "[[0.1    0.028  0.     0.    ]\n",
      " [0.16   0.0504 0.     0.    ]\n",
      " [0.28   0.042  0.     0.    ]]\n",
      "[[0. 2. 0. 0.]\n",
      " [0. 2. 0. 0.]\n",
      " [0. 2. 0. 0.]]\n",
      "i4=argmax[deltaT(i)]=0\n",
      "i3=psis4(i4)=1\n",
      "i2=psis3(i3)=1\n",
      "i1=psis2(i2)=3\n",
      "[[2. 0. 0. 0.]]\n",
      "[[0.1     0.028   0.00756 0.     ]\n",
      " [0.16    0.0504  0.01008 0.     ]\n",
      " [0.28    0.042   0.0147  0.     ]]\n",
      "[[0. 2. 1. 0.]\n",
      " [0. 2. 1. 0.]\n",
      " [0. 2. 2. 0.]]\n",
      "i4=argmax[deltaT(i)]=0\n",
      "i3=psis4(i4)=1\n",
      "i2=psis3(i3)=2\n",
      "i1=psis2(i2)=3\n",
      "[[2. 1. 0. 0.]]\n",
      "[[0.1      0.028    0.00756  0.00189 ]\n",
      " [0.16     0.0504   0.01008  0.003024]\n",
      " [0.28     0.042    0.0147   0.002205]]\n",
      "[[0. 2. 1. 0.]\n",
      " [0. 2. 1. 1.]\n",
      " [0. 2. 2. 2.]]\n",
      "i4=argmax[deltaT(i)]=1\n",
      "i3=psis4(i4)=2\n",
      "i2=psis3(i3)=2\n",
      "i1=psis2(i2)=3\n",
      "[[2. 1. 1. 1.]]\n"
     ]
    }
   ],
   "source": [
    "HMM2=HiddenMarkov2()\n",
    "HMM2.viterbi(Q,V,A,B,O,PI)"
   ]
  },
  {
   "cell_type": "code",
   "execution_count": 179,
   "metadata": {
    "ExecuteTime": {
     "end_time": "2019-07-10T03:09:10.001399Z",
     "start_time": "2019-07-10T03:09:09.935395Z"
    }
   },
   "outputs": [],
   "source": [
    "class HiddenMarkov3:\n",
    "    def viterbi(self,Q,V,A,B,O,PI):\n",
    "        '''\n",
    "        Q:状态集合\n",
    "        V:观测集合\n",
    "        A:状态转移概率矩阵\n",
    "        B:观测概率矩阵\n",
    "        O:观测序列\n",
    "        PI:初始参数\n",
    "        ''' \n",
    "        M=len(Q)\n",
    "        N=len(O)\n",
    "        T=N\n",
    "        deltas=np.ones((M,N))\n",
    "        psis=np.ones((M,N))\n",
    "        I=np.ones((1,N))\n",
    "        \n",
    "        for t in range(T):\n",
    "            indexOfO=V.index(O[t])\n",
    "            for i in range(M):\n",
    "                if t==0:\n",
    "                    deltas[i][t]=PI[t][i] * B[i][indexOfO]\n",
    "#                     print([deltas[t] for delta in deltas])\n",
    "                    psis[i][t]=np.argmax([PI[t][j] * B[j][indexOfO] for j in range(M)])\n",
    "                else:\n",
    "                    deltas[i][t]=np.max(np.multiply([delta[t-1] for delta in deltas],\n",
    "                                            [a[i] for a in A])) * B[i][indexOfO]\n",
    "                    psis[i][t]=np.argmax(np.multiply([delta[t-1] for delta in deltas],\n",
    "                                            [a[i] for a in A]))\n",
    "        print(deltas)\n",
    "        print(psis)\n",
    "        \n",
    "        I=np.zeros((1,N))\n",
    "        for i in range(N-1,-1,-1):\n",
    "            I[0][i]=psis[np.argmax([delta[i] for delta in deltas])][i]\n",
    "        print(I)\n",
    "                    \n",
    "                    \n",
    "                    \n",
    "                \n",
    "    "
   ]
  },
  {
   "cell_type": "code",
   "execution_count": 180,
   "metadata": {
    "ExecuteTime": {
     "end_time": "2019-07-10T03:09:10.697438Z",
     "start_time": "2019-07-10T03:09:10.687438Z"
    }
   },
   "outputs": [
    {
     "name": "stdout",
     "output_type": "stream",
     "text": [
      "[[0.1      0.028    0.00756  0.00189 ]\n",
      " [0.16     0.0504   0.01008  0.003024]\n",
      " [0.28     0.042    0.0147   0.002205]]\n",
      "[[2. 2. 1. 0.]\n",
      " [2. 2. 1. 1.]\n",
      " [2. 2. 2. 2.]]\n",
      "[[2. 2. 2. 1.]]\n"
     ]
    }
   ],
   "source": [
    "HMM3=HiddenMarkov3()\n",
    "HMM3.viterbi(Q,V,A,B,O,PI)"
   ]
  },
  {
   "cell_type": "code",
   "execution_count": null,
   "metadata": {},
   "outputs": [],
   "source": []
  }
 ],
 "metadata": {
  "kernelspec": {
   "display_name": "Python 3",
   "language": "python",
   "name": "python3"
  },
  "language_info": {
   "codemirror_mode": {
    "name": "ipython",
    "version": 3
   },
   "file_extension": ".py",
   "mimetype": "text/x-python",
   "name": "python",
   "nbconvert_exporter": "python",
   "pygments_lexer": "ipython3",
   "version": "3.6.3"
  }
 },
 "nbformat": 4,
 "nbformat_minor": 2
}
