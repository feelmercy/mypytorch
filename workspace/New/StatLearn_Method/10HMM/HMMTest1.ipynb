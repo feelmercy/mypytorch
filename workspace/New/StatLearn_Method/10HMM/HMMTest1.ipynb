{
 "cells": [
  {
   "cell_type": "code",
   "execution_count": 2,
   "metadata": {
    "ExecuteTime": {
     "end_time": "2019-07-02T07:59:10.171051Z",
     "start_time": "2019-07-02T07:59:10.164051Z"
    }
   },
   "outputs": [],
   "source": [
    "import numpy as np"
   ]
  },
  {
   "cell_type": "code",
   "execution_count": 3,
   "metadata": {
    "ExecuteTime": {
     "end_time": "2019-07-02T08:04:32.052462Z",
     "start_time": "2019-07-02T08:04:32.018460Z"
    }
   },
   "outputs": [
    {
     "data": {
      "text/plain": [
       "0.15400000000000003"
      ]
     },
     "execution_count": 3,
     "metadata": {},
     "output_type": "execute_result"
    }
   ],
   "source": [
    "# 0.1\n",
    "# 0.16\n",
    "# 0.28\n",
    "\n",
    "0.05+0.16*0.3+0.28*0.2"
   ]
  },
  {
   "cell_type": "code",
   "execution_count": 5,
   "metadata": {
    "ExecuteTime": {
     "end_time": "2019-07-02T08:26:08.695626Z",
     "start_time": "2019-07-02T08:26:08.683625Z"
    }
   },
   "outputs": [
    {
     "data": {
      "text/plain": [
       "0.04187"
      ]
     },
     "execution_count": 5,
     "metadata": {},
     "output_type": "execute_result"
    }
   ],
   "source": [
    "(0.077*0.5+0.1104*0.3+0.0606*0.2)*0.5"
   ]
  },
  {
   "cell_type": "code",
   "execution_count": 6,
   "metadata": {
    "ExecuteTime": {
     "end_time": "2019-07-02T08:28:57.934305Z",
     "start_time": "2019-07-02T08:28:57.921305Z"
    }
   },
   "outputs": [
    {
     "data": {
      "text/plain": [
       "array([[0.5, 0.2, 0.3],\n",
       "       [0.3, 0.5, 0.2],\n",
       "       [0.2, 0.3, 0.5]])"
      ]
     },
     "execution_count": 6,
     "metadata": {},
     "output_type": "execute_result"
    }
   ],
   "source": [
    "np.array([[0.5,0.2,0.3],[0.3,0.5,0.2],[0.2,0.3,0.5]])"
   ]
  },
  {
   "cell_type": "code",
   "execution_count": null,
   "metadata": {},
   "outputs": [],
   "source": []
  }
 ],
 "metadata": {
  "kernelspec": {
   "display_name": "Python 3",
   "language": "python",
   "name": "python3"
  },
  "language_info": {
   "codemirror_mode": {
    "name": "ipython",
    "version": 3
   },
   "file_extension": ".py",
   "mimetype": "text/x-python",
   "name": "python",
   "nbconvert_exporter": "python",
   "pygments_lexer": "ipython3",
   "version": "3.6.3"
  }
 },
 "nbformat": 4,
 "nbformat_minor": 2
}
