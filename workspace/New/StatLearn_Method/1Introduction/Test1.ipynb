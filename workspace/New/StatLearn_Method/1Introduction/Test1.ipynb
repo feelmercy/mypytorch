{
 "cells": [
  {
   "cell_type": "markdown",
   "metadata": {
    "ExecuteTime": {
     "end_time": "2019-02-27T01:59:41.732388Z",
     "start_time": "2019-02-27T01:59:41.723387Z"
    }
   },
   "source": [
    "least Square Test1"
   ]
  },
  {
   "cell_type": "code",
   "execution_count": 1,
   "metadata": {
    "ExecuteTime": {
     "end_time": "2019-03-05T06:45:28.598132Z",
     "start_time": "2019-03-05T06:45:20.348660Z"
    }
   },
   "outputs": [],
   "source": [
    "import numpy as np\n",
    "import scipy as sp\n",
    "from scipy.optimize import leastsq\n",
    "import matplotlib.pyplot as plt"
   ]
  },
  {
   "cell_type": "code",
   "execution_count": 3,
   "metadata": {
    "ExecuteTime": {
     "end_time": "2019-03-05T06:45:30.085963Z",
     "start_time": "2019-03-05T06:45:30.050762Z"
    }
   },
   "outputs": [],
   "source": [
    "## object fun\n",
    "def object_func(x):\n",
    "    return np.sin(2*np.pi*x)\n",
    "\n",
    "## fit fun\n",
    "def fit_func(p,x):\n",
    "    f=np.poly1d(p)\n",
    "    return f(x)\n",
    "## residule fun\n",
    "def residules_func(p,x,y):\n",
    "    return fit_func(p,x) -y\n",
    "    \n"
   ]
  },
  {
   "cell_type": "code",
   "execution_count": 17,
   "metadata": {
    "ExecuteTime": {
     "end_time": "2019-03-05T06:48:21.228264Z",
     "start_time": "2019-03-05T06:48:21.209664Z"
    }
   },
   "outputs": [],
   "source": [
    "x_s=np.linspace(0,1,10)\n",
    "y_s=object_func(x_s)\n",
    "x_new=np.linspace(0,1,100)\n",
    "y_s_e=[np.random.normal(0,0.1)+y1 for y1 in y_s]\n"
   ]
  },
  {
   "cell_type": "code",
   "execution_count": 18,
   "metadata": {
    "ExecuteTime": {
     "end_time": "2019-03-05T06:48:22.610701Z",
     "start_time": "2019-03-05T06:48:22.595101Z"
    }
   },
   "outputs": [],
   "source": [
    "p0=np.random.rand(4)\n",
    "para0=leastsq(residules_func,p0,(x_s,y_s_e))[0]"
   ]
  },
  {
   "cell_type": "code",
   "execution_count": 22,
   "metadata": {
    "ExecuteTime": {
     "end_time": "2019-03-05T06:49:37.870033Z",
     "start_time": "2019-03-05T06:49:37.746426Z"
    }
   },
   "outputs": [
    {
     "data": {
      "image/png": "[encoded data removed]",
      "text/plain": [
       "<matplotlib.figure.Figure at 0x1179fcf8>"
      ]
     },
     "metadata": {},
     "output_type": "display_data"
    }
   ],
   "source": [
    "plt.plot(x_new,object_func(x_new),label='real')\n",
    "plt.plot(x_new,fit_func(para0,x_new),label='fit curve')\n",
    "# plt.plot(x_new,fit_func(para0,x_new),label='fit curve')\n",
    "plt.plot(x_s,y_s_e,'ro',label='noise')\n",
    "plt.legend()\n",
    "plt.show()"
   ]
  },
  {
   "cell_type": "markdown",
   "metadata": {},
   "source": [
    "regulation:\n",
    "L1: regularization*abs(p)\n",
    "L2: 0.5 * regularization * np.square(p)"
   ]
  },
  {
   "cell_type": "code",
   "execution_count": 35,
   "metadata": {
    "ExecuteTime": {
     "end_time": "2019-03-05T07:18:59.854201Z",
     "start_time": "2019-03-05T07:18:59.838601Z"
    }
   },
   "outputs": [],
   "source": [
    "regularization=0.0001"
   ]
  },
  {
   "cell_type": "code",
   "execution_count": 40,
   "metadata": {
    "ExecuteTime": {
     "end_time": "2019-03-05T07:21:00.479508Z",
     "start_time": "2019-03-05T07:21:00.457907Z"
    }
   },
   "outputs": [],
   "source": [
    "def residules_regu_func(p,x,y):\n",
    "    ret=fit_func(p,x)-y\n",
    "    return np.append(ret,np.sqrt(0.5*regularization*np.square(p)))"
   ]
  },
  {
   "cell_type": "code",
   "execution_count": 55,
   "metadata": {
    "ExecuteTime": {
     "end_time": "2019-03-05T07:27:47.938419Z",
     "start_time": "2019-03-05T07:27:47.919819Z"
    }
   },
   "outputs": [
    {
     "data": {
      "text/plain": [
       "array([ 23.01104145, -34.46295118,  11.58018357,  -0.0547061 ])"
      ]
     },
     "execution_count": 55,
     "metadata": {},
     "output_type": "execute_result"
    }
   ],
   "source": [
    "para0"
   ]
  },
  {
   "cell_type": "code",
   "execution_count": 37,
   "metadata": {
    "ExecuteTime": {
     "end_time": "2019-03-05T07:19:17.277101Z",
     "start_time": "2019-03-05T07:19:17.255501Z"
    }
   },
   "outputs": [
    {
     "data": {
      "text/plain": [
       "array([0.16271263, 0.24368986, 0.08188426, 0.00038683])"
      ]
     },
     "execution_count": 37,
     "metadata": {},
     "output_type": "execute_result"
    }
   ],
   "source": [
    "np.sqrt(0.5*regularization*np.square(para0))"
   ]
  },
  {
   "cell_type": "code",
   "execution_count": 54,
   "metadata": {
    "ExecuteTime": {
     "end_time": "2019-03-05T07:26:19.143355Z",
     "start_time": "2019-03-05T07:26:19.125755Z"
    }
   },
   "outputs": [
    {
     "data": {
      "text/plain": [
       "[1, 2, 3, array([0.16271263, 0.24368986, 0.08188426, 0.00038683])]"
      ]
     },
     "execution_count": 54,
     "metadata": {},
     "output_type": "execute_result"
    }
   ],
   "source": [
    "a=[1,2,3]\n",
    "a.append(np.sqrt(0.5*regularization*np.square(para0)))\n",
    "a"
   ]
  },
  {
   "cell_type": "code",
   "execution_count": 57,
   "metadata": {
    "ExecuteTime": {
     "end_time": "2019-03-05T07:30:56.492546Z",
     "start_time": "2019-03-05T07:30:56.472946Z"
    }
   },
   "outputs": [
    {
     "data": {
      "text/plain": [
       "array([6.16271263, 6.24368986, 6.08188426, 6.00038683])"
      ]
     },
     "execution_count": 57,
     "metadata": {},
     "output_type": "execute_result"
    }
   ],
   "source": [
    "sum(a)"
   ]
  },
  {
   "cell_type": "code",
   "execution_count": 58,
   "metadata": {
    "ExecuteTime": {
     "end_time": "2019-03-05T07:34:17.753043Z",
     "start_time": "2019-03-05T07:34:17.720442Z"
    }
   },
   "outputs": [
    {
     "ename": "ValueError",
     "evalue": "operands could not be broadcast together with shapes (3,) (4,) ",
     "output_type": "error",
     "traceback": [
      "\u001b[1;31m---------------------------------------------------------------------------\u001b[0m",
      "\u001b[1;31mValueError\u001b[0m                                Traceback (most recent call last)",
      "\u001b[1;32m<ipython-input-58-4f04fe4b1d88>\u001b[0m in \u001b[0;36m<module>\u001b[1;34m()\u001b[0m\n\u001b[0;32m      1\u001b[0m \u001b[0mb\u001b[0m\u001b[1;33m=\u001b[0m\u001b[1;33m[\u001b[0m\u001b[1;36m1\u001b[0m\u001b[1;33m,\u001b[0m\u001b[1;36m2\u001b[0m\u001b[1;33m,\u001b[0m\u001b[1;36m3\u001b[0m\u001b[1;33m]\u001b[0m\u001b[1;33m\u001b[0m\u001b[0m\n\u001b[1;32m----> 2\u001b[1;33m \u001b[0mb\u001b[0m\u001b[1;33m+\u001b[0m\u001b[0mnp\u001b[0m\u001b[1;33m.\u001b[0m\u001b[0msqrt\u001b[0m\u001b[1;33m(\u001b[0m\u001b[1;36m0.5\u001b[0m\u001b[1;33m*\u001b[0m\u001b[0mregularization\u001b[0m\u001b[1;33m*\u001b[0m\u001b[0mnp\u001b[0m\u001b[1;33m.\u001b[0m\u001b[0msquare\u001b[0m\u001b[1;33m(\u001b[0m\u001b[0mpara0\u001b[0m\u001b[1;33m)\u001b[0m\u001b[1;33m)\u001b[0m\u001b[1;33m\u001b[0m\u001b[0m\n\u001b[0m",
      "\u001b[1;31mValueError\u001b[0m: operands could not be broadcast together with shapes (3,) (4,) "
     ]
    }
   ],
   "source": [
    "b=[1,2,3]\n",
    "b+np.sqrt(0.5*regularization*np.square(para0))"
   ]
  },
  {
   "cell_type": "code",
   "execution_count": 42,
   "metadata": {
    "ExecuteTime": {
     "end_time": "2019-03-05T07:21:11.464579Z",
     "start_time": "2019-03-05T07:21:11.448979Z"
    }
   },
   "outputs": [],
   "source": [
    "p1=np.random.rand(4)"
   ]
  },
  {
   "cell_type": "code",
   "execution_count": 43,
   "metadata": {
    "ExecuteTime": {
     "end_time": "2019-03-05T07:21:14.364322Z",
     "start_time": "2019-03-05T07:21:14.333122Z"
    }
   },
   "outputs": [],
   "source": [
    "para1=leastsq(residules_regu_func,p1,args=(x_s,y_s))[0]"
   ]
  },
  {
   "cell_type": "code",
   "execution_count": 46,
   "metadata": {
    "ExecuteTime": {
     "end_time": "2019-03-05T07:22:50.560210Z",
     "start_time": "2019-03-05T07:22:50.405002Z"
    }
   },
   "outputs": [
    {
     "data": {
      "image/png": "[encoded data removed]",
      "text/plain": [
       "<matplotlib.figure.Figure at 0x1403c6d8>"
      ]
     },
     "metadata": {},
     "output_type": "display_data"
    }
   ],
   "source": [
    "plt.plot(x_new,object_func(x_new),label='real')\n",
    "plt.plot(x_new,fit_func(para0,x_new),label=' fit curve')\n",
    "plt.plot(x_new,fit_func(para1,x_new),label='regu fit curve')\n",
    "plt.plot(x_s,y_s_e,'ro',label='noise')\n",
    "plt.legend()\n",
    "plt.show()"
   ]
  },
  {
   "cell_type": "code",
   "execution_count": null,
   "metadata": {},
   "outputs": [],
   "source": []
  },
  {
   "cell_type": "code",
   "execution_count": null,
   "metadata": {},
   "outputs": [],
   "source": []
  },
  {
   "cell_type": "code",
   "execution_count": null,
   "metadata": {},
   "outputs": [],
   "source": []
  },
  {
   "cell_type": "code",
   "execution_count": null,
   "metadata": {},
   "outputs": [],
   "source": []
  }
 ],
 "metadata": {
  "kernelspec": {
   "display_name": "Python 3",
   "language": "python",
   "name": "python3"
  },
  "language_info": {
   "codemirror_mode": {
    "name": "ipython",
    "version": 3
   },
   "file_extension": ".py",
   "mimetype": "text/x-python",
   "name": "python",
   "nbconvert_exporter": "python",
   "pygments_lexer": "ipython3",
   "version": "3.6.3"
  }
 },
 "nbformat": 4,
 "nbformat_minor": 2
}
