{
 "cells": [
  {
   "cell_type": "code",
   "execution_count": 1,
   "metadata": {
    "ExecuteTime": {
     "end_time": "2019-04-16T03:12:51.687505Z",
     "start_time": "2019-04-16T03:12:47.681276Z"
    }
   },
   "outputs": [],
   "source": [
    "import numpy as np\n",
    "import scipy as sp\n",
    "from scipy.optimize import leastsq\n",
    "import matplotlib.pyplot as plt"
   ]
  },
  {
   "cell_type": "code",
   "execution_count": 2,
   "metadata": {
    "ExecuteTime": {
     "end_time": "2019-04-16T03:14:47.352121Z",
     "start_time": "2019-04-16T03:14:47.333120Z"
    }
   },
   "outputs": [],
   "source": [
    "def real_func(x):\n",
    "    return np.sin(2*np.pi*x)\n",
    "\n",
    "def fit_func(p,x):\n",
    "    f=np.poly1d(p)\n",
    "    return f(x)\n",
    "\n",
    "def residuals_func(p,x,y):\n",
    "    ret = fit_func(p,x)-y\n",
    "    return ret"
   ]
  },
  {
   "cell_type": "code",
   "execution_count": 4,
   "metadata": {
    "ExecuteTime": {
     "end_time": "2019-04-16T03:16:45.337869Z",
     "start_time": "2019-04-16T03:16:45.306867Z"
    }
   },
   "outputs": [],
   "source": [
    "x=np.linspace(0,1,10)\n",
    "x_point=np.linspace(0,1,1000)\n",
    "y=real_func(x)\n",
    "y_err=[np.random.normal(0,0.1)+y1 for y1 in y]"
   ]
  },
  {
   "cell_type": "code",
   "execution_count": 9,
   "metadata": {
    "ExecuteTime": {
     "end_time": "2019-04-16T03:23:08.802802Z",
     "start_time": "2019-04-16T03:23:08.782801Z"
    }
   },
   "outputs": [],
   "source": [
    "def fitting_func(m=0):\n",
    "    p_init=np.random.rand(m+1)\n",
    "    p_lsq=leastsq(residuals_func,p_init,args=(x,y_err))\n",
    "    print('fitting paras:'+str(p_lsq[0]))\n",
    "    \n",
    "    plt.plot(x_point,real_func(x_point),label='real')\n",
    "    plt.plot(x_point,fit_func(p_lsq[0],x_point),label='fitted curve')\n",
    "    plt.plot(x,y_err,'bo',label='noise')\n",
    "    plt.legend()\n",
    "    return p_lsq"
   ]
  },
  {
   "cell_type": "code",
   "execution_count": 25,
   "metadata": {
    "ExecuteTime": {
     "end_time": "2019-04-16T03:32:16.859149Z",
     "start_time": "2019-04-16T03:32:16.733142Z"
    }
   },
   "outputs": [
    {
     "name": "stdout",
     "output_type": "stream",
     "text": [
      "fitting paras:[ 20.39643052 -30.18768435   9.96936169  -0.05946724]\n",
      "(array([ 20.39643052, -30.18768435,   9.96936169,  -0.05946724]), 1)\n"
     ]
    },
    {
     "data": {
      "image/png": "[encoded data removed]",
      "text/plain": [
       "<matplotlib.figure.Figure at 0x11a58048>"
      ]
     },
     "metadata": {},
     "output_type": "display_data"
    },
    {
     "name": "stdout",
     "output_type": "stream",
     "text": [
      "      3         2\n",
      "20.4 x - 30.19 x + 9.969 x - 0.05947\n"
     ]
    }
   ],
   "source": [
    "p_new=fitting_func(m=3)\n",
    "print(p_new)\n",
    "plt.show()\n",
    "print(np.poly1d(p_new[0]))"
   ]
  },
  {
   "cell_type": "code",
   "execution_count": 26,
   "metadata": {
    "ExecuteTime": {
     "end_time": "2019-04-16T06:27:20.005895Z",
     "start_time": "2019-04-16T06:27:19.988894Z"
    }
   },
   "outputs": [],
   "source": [
    "regularization=0.0001\n",
    "def residuals_regularization_func(p,x,y):\n",
    "    ret=fit_func(p,x)-y\n",
    "    ret=np.append(ret,np.sqrt(0.5*regularization*np.square(p)))\n",
    "    return ret\n",
    "    "
   ]
  },
  {
   "cell_type": "code",
   "execution_count": 28,
   "metadata": {
    "ExecuteTime": {
     "end_time": "2019-04-16T06:34:42.725217Z",
     "start_time": "2019-04-16T06:34:42.712216Z"
    }
   },
   "outputs": [
    {
     "data": {
      "text/plain": [
       "(array([ 19.80133025, -29.27087643,   9.60603893,  -0.03508063]), 1)"
      ]
     },
     "execution_count": 28,
     "metadata": {},
     "output_type": "execute_result"
    }
   ],
   "source": [
    "p_init=np.random.rand(4)\n",
    "p_lsq_regu=leastsq(residuals_regularization_func,p_init,args=(x,y_err))\n",
    "p_lsq_regu\n"
   ]
  },
  {
   "cell_type": "code",
   "execution_count": 30,
   "metadata": {
    "ExecuteTime": {
     "end_time": "2019-04-16T06:36:17.907661Z",
     "start_time": "2019-04-16T06:36:17.894660Z"
    }
   },
   "outputs": [
    {
     "data": {
      "text/plain": [
       "array([0.14001655, 0.20697635, 0.06792495, 0.00024806])"
      ]
     },
     "execution_count": 30,
     "metadata": {},
     "output_type": "execute_result"
    }
   ],
   "source": [
    "np.sqrt(0.5*regularization*np.square(p_lsq_regu[0]))"
   ]
  },
  {
   "cell_type": "code",
   "execution_count": null,
   "metadata": {},
   "outputs": [],
   "source": []
  }
 ],
 "metadata": {
  "kernelspec": {
   "display_name": "Python 3",
   "language": "python",
   "name": "python3"
  },
  "language_info": {
   "codemirror_mode": {
    "name": "ipython",
    "version": 3
   },
   "file_extension": ".py",
   "mimetype": "text/x-python",
   "name": "python",
   "nbconvert_exporter": "python",
   "pygments_lexer": "ipython3",
   "version": "3.6.3"
  }
 },
 "nbformat": 4,
 "nbformat_minor": 2
}
