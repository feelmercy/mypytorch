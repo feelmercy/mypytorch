{
 "cells": [
  {
   "cell_type": "code",
   "execution_count": 1,
   "metadata": {
    "ExecuteTime": {
     "end_time": "2019-05-08T02:47:32.601303Z",
     "start_time": "2019-05-08T02:47:32.492297Z"
    }
   },
   "outputs": [],
   "source": [
    "import numpy as np"
   ]
  },
  {
   "cell_type": "code",
   "execution_count": 2,
   "metadata": {
    "ExecuteTime": {
     "end_time": "2019-05-08T02:47:32.606304Z",
     "start_time": "2019-05-08T02:47:32.602303Z"
    }
   },
   "outputs": [],
   "source": [
    "def ffun(x):\n",
    "    return 100*(x[0,0]**2 - x[1,0])**2 + (x[0,0]-1)**2"
   ]
  },
  {
   "cell_type": "code",
   "execution_count": 3,
   "metadata": {
    "ExecuteTime": {
     "end_time": "2019-05-08T02:47:32.634305Z",
     "start_time": "2019-05-08T02:47:32.608304Z"
    }
   },
   "outputs": [],
   "source": [
    "def gfun(x):\n",
    "    ret=np.zeros((2,1))\n",
    "    ret[0,0]= 400*x[0,0]*(x[0,0]**2-x[1,0])+2*(x[0,0]-1)\n",
    "    ret[1,0]=-200 * (x[0,0]**2 -x[1,0])\n",
    "    return ret"
   ]
  },
  {
   "cell_type": "code",
   "execution_count": 4,
   "metadata": {
    "ExecuteTime": {
     "end_time": "2019-05-08T02:47:32.673307Z",
     "start_time": "2019-05-08T02:47:32.636305Z"
    }
   },
   "outputs": [],
   "source": [
    "def bfgs(ffun,gfun,x0):\n",
    "    ret=[]\n",
    "    maxk=500\n",
    "    rho=0.55\n",
    "    sigma=0.4\n",
    "    epsilon=1e-5\n",
    "    k=0\n",
    "    m=np.shape(x0)[0]\n",
    "    BK=np.eye(m)\n",
    "    while(k<maxk):\n",
    "        gk=np.mat(gfun(x0))\n",
    "        dk=np.mat(-np.linalg.solve(BK,gk))\n",
    "        m=0\n",
    "        mk=0\n",
    "        while(m<20):\n",
    "            newf=ffun(x0+rho**m*dk)\n",
    "            oldf=ffun(x0)\n",
    "            if (newf<oldf+sigma*(rho**m)*(gk.T*dk)[0,0]):\n",
    "                mk=m\n",
    "                break\n",
    "            m=m+1\n",
    "            \n",
    "            x=x0+rho**mk*dk\n",
    "            sk=x-x0\n",
    "            yk=gfun(x)-gk\n",
    "            if(yk.T*sk>0):\n",
    "                BK=BK-(BK*sk*sk.T*BK)/(sk.T*BK*sk)+(yk*yk.T)\n",
    "            k+=1\n",
    "            x0=x\n",
    "            ret.append(ffun(x0))\n",
    "        return ret\n",
    "            "
   ]
  },
  {
   "cell_type": "code",
   "execution_count": 5,
   "metadata": {
    "ExecuteTime": {
     "end_time": "2019-05-08T02:47:32.692309Z",
     "start_time": "2019-05-08T02:47:32.674307Z"
    }
   },
   "outputs": [
    {
     "name": "stdout",
     "output_type": "stream",
     "text": [
      "[210482437168.52002, 3412258856941.0, 17350087721570.125, 54954414109819.41, 134341369716987.39, 278812772854907.56, 516856128451948.8, 882144628053014.4, 1413537149819543.0, 2155078258529510.0, 3155998205577421.0, 4470712928974321.0, 6158824053347790.0, 8285118889941942.0, 1.0919570436617426e+16, 1.4137337377851422e+16, 1.801876408473765e+16, 2.264938061498637e+16, 2.8119902712924364e+16, 3.452623180949497e+16]\n"
     ]
    }
   ],
   "source": [
    "x0 = np.mat([[-1.2], [1]])\n",
    "result = bfgs(ffun, gfun, x0)\n",
    "print(result)"
   ]
  },
  {
   "cell_type": "code",
   "execution_count": 6,
   "metadata": {
    "ExecuteTime": {
     "end_time": "2019-05-08T02:47:32.953323Z",
     "start_time": "2019-05-08T02:47:32.694309Z"
    }
   },
   "outputs": [
    {
     "data": {
      "text/plain": [
       "[<matplotlib.lines.Line2D at 0x7634710>]"
      ]
     },
     "execution_count": 6,
     "metadata": {},
     "output_type": "execute_result"
    }
   ],
   "source": [
    "\n",
    "import matplotlib.pyplot as plt  \n",
    "\n",
    "n = len(result)\n",
    "ax = plt.figure().add_subplot(111)\n",
    "x = np.arange(0, n, 1)\n",
    "y = result\n",
    "ax.plot(x,y)\n",
    "# plt.show()\n",
    " \n"
   ]
  },
  {
   "cell_type": "code",
   "execution_count": 7,
   "metadata": {
    "ExecuteTime": {
     "end_time": "2019-05-08T02:47:41.867833Z",
     "start_time": "2019-05-08T02:47:41.855833Z"
    }
   },
   "outputs": [
    {
     "data": {
      "text/plain": [
       "array([[-215.6],\n",
       "       [ -88. ]])"
      ]
     },
     "execution_count": 7,
     "metadata": {},
     "output_type": "execute_result"
    }
   ],
   "source": [
    "gfun(x0)"
   ]
  },
  {
   "cell_type": "code",
   "execution_count": 8,
   "metadata": {
    "ExecuteTime": {
     "end_time": "2019-05-08T02:48:16.133793Z",
     "start_time": "2019-05-08T02:48:16.118792Z"
    }
   },
   "outputs": [
    {
     "data": {
      "text/plain": [
       "[210482437168.52002,\n",
       " 3412258856941.0,\n",
       " 17350087721570.125,\n",
       " 54954414109819.41,\n",
       " 134341369716987.39,\n",
       " 278812772854907.56,\n",
       " 516856128451948.8,\n",
       " 882144628053014.4,\n",
       " 1413537149819543.0,\n",
       " 2155078258529510.0,\n",
       " 3155998205577421.0,\n",
       " 4470712928974321.0,\n",
       " 6158824053347790.0,\n",
       " 8285118889941942.0,\n",
       " 1.0919570436617426e+16,\n",
       " 1.4137337377851422e+16,\n",
       " 1.801876408473765e+16,\n",
       " 2.264938061498637e+16,\n",
       " 2.8119902712924364e+16,\n",
       " 3.452623180949497e+16]"
      ]
     },
     "execution_count": 8,
     "metadata": {},
     "output_type": "execute_result"
    }
   ],
   "source": [
    "bfgs(ffun,gfun,x0)"
   ]
  },
  {
   "cell_type": "code",
   "execution_count": null,
   "metadata": {},
   "outputs": [],
   "source": []
  }
 ],
 "metadata": {
  "kernelspec": {
   "display_name": "Python 3",
   "language": "python",
   "name": "python3"
  },
  "language_info": {
   "codemirror_mode": {
    "name": "ipython",
    "version": 3
   },
   "file_extension": ".py",
   "mimetype": "text/x-python",
   "name": "python",
   "nbconvert_exporter": "python",
   "pygments_lexer": "ipython3",
   "version": "3.6.3"
  }
 },
 "nbformat": 4,
 "nbformat_minor": 2
}
