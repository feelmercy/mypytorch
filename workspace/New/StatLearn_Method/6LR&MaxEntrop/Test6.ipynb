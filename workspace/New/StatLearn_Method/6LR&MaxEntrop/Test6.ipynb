{
 "cells": [
  {
   "cell_type": "code",
   "execution_count": 38,
   "metadata": {
    "ExecuteTime": {
     "end_time": "2019-05-05T02:07:20.080405Z",
     "start_time": "2019-05-05T02:07:20.065405Z"
    }
   },
   "outputs": [],
   "source": [
    "from math import exp\n",
    "import numpy as np\n",
    "import pandas as pd\n",
    "import matplotlib.pyplot as plt\n",
    "# %matplotlib inline\n",
    "\n",
    "from sklearn.datasets import load_iris\n",
    "from sklearn.model_selection import train_test_split"
   ]
  },
  {
   "cell_type": "code",
   "execution_count": 39,
   "metadata": {
    "ExecuteTime": {
     "end_time": "2019-05-05T02:07:20.704441Z",
     "start_time": "2019-05-05T02:07:20.690440Z"
    }
   },
   "outputs": [],
   "source": [
    "def create_data():\n",
    "    iris = load_iris()\n",
    "    df = pd.DataFrame(iris.data, columns=iris.feature_names)\n",
    "    df['label'] = iris.target\n",
    "    df.columns = ['sepal length', 'sepal width', 'petal length', 'petal width', 'label']\n",
    "    data = np.array(df.iloc[:100, [0,1,-1]])\n",
    "    # print(data)\n",
    "    return data[:,:2], data[:,-1]"
   ]
  },
  {
   "cell_type": "code",
   "execution_count": 40,
   "metadata": {
    "ExecuteTime": {
     "end_time": "2019-05-05T02:07:21.296475Z",
     "start_time": "2019-05-05T02:07:21.242472Z"
    }
   },
   "outputs": [],
   "source": [
    "X,y=create_data()\n",
    "X_train,X_test,y_train,y_test=train_test_split(X,y,test_size=0.3)"
   ]
  },
  {
   "cell_type": "code",
   "execution_count": 41,
   "metadata": {
    "ExecuteTime": {
     "end_time": "2019-05-05T02:55:57.848104Z",
     "start_time": "2019-05-05T02:55:57.816904Z"
    }
   },
   "outputs": [],
   "source": [
    "def sigmoid(x):\n",
    "    return 1/(1+exp(-x))"
   ]
  },
  {
   "cell_type": "code",
   "execution_count": 44,
   "metadata": {
    "ExecuteTime": {
     "end_time": "2019-05-05T02:59:26.881688Z",
     "start_time": "2019-05-05T02:59:26.874687Z"
    }
   },
   "outputs": [
    {
     "name": "stdout",
     "output_type": "stream",
     "text": [
      "1 2 3 4\n"
     ]
    }
   ],
   "source": [
    "a=[1,2,3,4]\n",
    "print(*a)\n"
   ]
  },
  {
   "cell_type": "code",
   "execution_count": 49,
   "metadata": {
    "ExecuteTime": {
     "end_time": "2019-05-05T03:03:49.122255Z",
     "start_time": "2019-05-05T03:03:49.112254Z"
    }
   },
   "outputs": [],
   "source": [
    "def data_matrix(x):\n",
    "    data_mat=[]\n",
    "    for d in x:\n",
    "        data_mat.append([1.0,*d])\n",
    "    return data_mat"
   ]
  },
  {
   "cell_type": "code",
   "execution_count": 59,
   "metadata": {
    "ExecuteTime": {
     "end_time": "2019-05-05T03:07:38.785192Z",
     "start_time": "2019-05-05T03:07:38.779191Z"
    }
   },
   "outputs": [],
   "source": [
    "# data_matrix(X_test)"
   ]
  },
  {
   "cell_type": "code",
   "execution_count": 76,
   "metadata": {
    "ExecuteTime": {
     "end_time": "2019-05-05T07:15:21.989277Z",
     "start_time": "2019-05-05T07:15:21.958275Z"
    }
   },
   "outputs": [],
   "source": [
    "def fit(x,y,max_iter=200,learning_rate=0.01):\n",
    "    data_mat=data_matrix(x)\n",
    "    weights=np.zeros((len(data_mat[0]),1),dtype=np.float32)\n",
    "    \n",
    "    for iter_ in range(max_iter):\n",
    "        for i in range(len(x)):\n",
    "            ret=sigmoid(np.dot(data_mat[i],weights))\n",
    "            err=y[i]-ret## 如果 ret- y,下面就是负号\n",
    "            weights+=learning_rate*err*np.transpose([data_mat[i]])\n",
    "    return weights"
   ]
  },
  {
   "cell_type": "code",
   "execution_count": 80,
   "metadata": {
    "ExecuteTime": {
     "end_time": "2019-05-05T07:15:49.035762Z",
     "start_time": "2019-05-05T07:15:48.905755Z"
    }
   },
   "outputs": [
    {
     "data": {
      "text/plain": [
       "array([[-0.51967335],\n",
       "       [ 2.6240523 ],\n",
       "       [-4.483044  ]], dtype=float32)"
      ]
     },
     "execution_count": 80,
     "metadata": {},
     "output_type": "execute_result"
    }
   ],
   "source": [
    "fit(X_train,y_train,100,0.01)"
   ]
  },
  {
   "cell_type": "code",
   "execution_count": 81,
   "metadata": {
    "ExecuteTime": {
     "end_time": "2019-05-05T07:15:50.799846Z",
     "start_time": "2019-05-05T07:15:49.821790Z"
    }
   },
   "outputs": [
    {
     "data": {
      "text/plain": [
       "array([[-0.5295738],\n",
       "       [ 2.6163   ],\n",
       "       [-4.4423842]], dtype=float32)"
      ]
     },
     "execution_count": 81,
     "metadata": {},
     "output_type": "execute_result"
    }
   ],
   "source": [
    "fit(X_train,y_train,1000,0.001)"
   ]
  },
  {
   "cell_type": "code",
   "execution_count": 114,
   "metadata": {
    "ExecuteTime": {
     "end_time": "2019-05-05T07:45:40.740371Z",
     "start_time": "2019-05-05T07:45:40.715370Z"
    }
   },
   "outputs": [],
   "source": [
    "def score(x_test,y_test,w):\n",
    "    right=0\n",
    "    x_test=data_matrix(x_test)\n",
    "    for x,y in zip(x_test,y_test):\n",
    "        ret=np.dot(x,w)\n",
    "        print(str(x)+'--'+str(ret)+'--'+str(y))\n",
    "        if (ret>0 and y ==1) or (ret<0 and y==0):\n",
    "            right+=1\n",
    "    return np.float(right) / len(x_test)\n",
    "            "
   ]
  },
  {
   "cell_type": "code",
   "execution_count": 116,
   "metadata": {
    "ExecuteTime": {
     "end_time": "2019-05-05T08:03:42.933983Z",
     "start_time": "2019-05-05T08:03:42.845979Z"
    }
   },
   "outputs": [
    {
     "name": "stdout",
     "output_type": "stream",
     "text": [
      "[1.0, 6.4, 3.2]--[1.35471753]--1.0\n",
      "[1.0, 5.9, 3.2]--[0.39610401]--1.0\n",
      "[1.0, 5.5, 2.5]--[1.94682699]--1.0\n",
      "[1.0, 6.5, 2.8]--[2.87079097]--1.0\n",
      "[1.0, 5.5, 3.5]--[-1.36404985]--0.0\n",
      "[1.0, 5.8, 4.0]--[-2.44432017]--0.0\n",
      "[1.0, 4.6, 3.4]--[-2.75846649]--0.0\n",
      "[1.0, 5.6, 3.0]--[0.48311127]--1.0\n",
      "[1.0, 6.1, 2.9]--[1.77281247]--1.0\n",
      "[1.0, 4.4, 3.2]--[-2.47973653]--0.0\n",
      "[1.0, 6.1, 2.8]--[2.10390016]--1.0\n",
      "[1.0, 5.7, 3.0]--[0.67483398]--1.0\n",
      "[1.0, 4.4, 3.0]--[-1.81756116]--0.0\n",
      "[1.0, 5.1, 3.8]--[-3.12420372]--0.0\n",
      "[1.0, 5.0, 3.5]--[-2.32266337]--0.0\n",
      "[1.0, 6.6, 2.9]--[2.73142599]--1.0\n",
      "[1.0, 6.2, 2.2]--[4.28214897]--1.0\n",
      "[1.0, 4.3, 3.0]--[-2.00928386]--0.0\n",
      "[1.0, 5.0, 3.3]--[-1.660488]--0.0\n",
      "[1.0, 6.6, 3.0]--[2.4003383]--1.0\n",
      "[1.0, 4.9, 3.0]--[-0.85894765]--0.0\n",
      "[1.0, 5.8, 2.7]--[1.85981973]--1.0\n",
      "[1.0, 5.6, 2.5]--[2.1385497]--1.0\n",
      "[1.0, 6.3, 2.3]--[4.14278399]--1.0\n",
      "[1.0, 5.1, 3.5]--[-2.13094066]--0.0\n",
      "[1.0, 4.8, 3.4]--[-2.37502109]--0.0\n",
      "[1.0, 5.7, 2.8]--[1.33700935]--1.0\n",
      "[1.0, 6.1, 3.0]--[1.44172479]--1.0\n",
      "[1.0, 4.9, 3.1]--[-1.19003533]--0.0\n",
      "[1.0, 5.7, 2.6]--[1.99918472]--1.0\n"
     ]
    },
    {
     "data": {
      "text/plain": [
       "1.0"
      ]
     },
     "execution_count": 116,
     "metadata": {},
     "output_type": "execute_result"
    }
   ],
   "source": [
    "w1=fit(X_train,y_train,50,0.01)\n",
    "score(X_test,y_test,w1)"
   ]
  },
  {
   "cell_type": "code",
   "execution_count": null,
   "metadata": {},
   "outputs": [],
   "source": []
  }
 ],
 "metadata": {
  "kernelspec": {
   "display_name": "Python 3",
   "language": "python",
   "name": "python3"
  },
  "language_info": {
   "codemirror_mode": {
    "name": "ipython",
    "version": 3
   },
   "file_extension": ".py",
   "mimetype": "text/x-python",
   "name": "python",
   "nbconvert_exporter": "python",
   "pygments_lexer": "ipython3",
   "version": "3.6.3"
  }
 },
 "nbformat": 4,
 "nbformat_minor": 2
}
