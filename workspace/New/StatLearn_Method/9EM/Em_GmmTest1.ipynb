{
 "cells": [
  {
   "cell_type": "code",
   "execution_count": 1,
   "metadata": {
    "ExecuteTime": {
     "end_time": "2019-06-28T08:53:15.349122Z",
     "start_time": "2019-06-28T08:53:14.312062Z"
    }
   },
   "outputs": [],
   "source": [
    "import numpy as np"
   ]
  },
  {
   "cell_type": "code",
   "execution_count": 2,
   "metadata": {
    "ExecuteTime": {
     "end_time": "2019-06-28T08:53:26.000731Z",
     "start_time": "2019-06-28T08:53:25.977729Z"
    }
   },
   "outputs": [],
   "source": [
    "def generateData(k,mu,sigma,dataNum):\n",
    "    '''\n",
    "    产生混合高斯模型的数据\n",
    "    :param k: 比例系数\n",
    "    :param mu: 均值\n",
    "    :param sigma: 标准差\n",
    "    :param dataNum:数据个数\n",
    "    :return: 生成的数据\n",
    "    '''\n",
    "    # 初始化数据\n",
    "    dataArray = np.zeros(dataNum,dtype=np.float32)\n",
    "    # 逐个依据概率产生数据\n",
    "    # 高斯分布个数\n",
    "    n = len(k)\n",
    "    for i in range(dataNum):\n",
    "        # 产生[0,1]之间的随机数\n",
    "        rand = np.random.random()\n",
    "        Sum = 0\n",
    "        index = 0\n",
    "        while(index < n):\n",
    "            Sum += k[index]\n",
    "            if(rand < Sum):\n",
    "                dataArray[i] = np.random.normal(mu[index],sigma[index])\n",
    "                break\n",
    "            else:\n",
    "                index += 1\n",
    "    return dataArray"
   ]
  },
  {
   "cell_type": "code",
   "execution_count": 3,
   "metadata": {
    "ExecuteTime": {
     "end_time": "2019-06-28T09:02:05.405439Z",
     "start_time": "2019-06-28T09:02:05.388438Z"
    }
   },
   "outputs": [],
   "source": [
    "def normPdf(x,mu,sigma):\n",
    "    '''\n",
    "    probability density function\n",
    "    均值为mu,标准差为sigma的正态分布个概率密度函数\n",
    "    '''\n",
    "    return (1/(np.sqrt(2*np.pi)*sigma)) * (np.exp(-(x-mu)**2/(2*sigma**2)))\n",
    "    "
   ]
  },
  {
   "cell_type": "code",
   "execution_count": 6,
   "metadata": {
    "ExecuteTime": {
     "end_time": "2019-06-28T09:26:13.573269Z",
     "start_time": "2019-06-28T09:26:13.523267Z"
    }
   },
   "outputs": [],
   "source": [
    "def em(dataArray,k,mu,sigma,step=10):\n",
    "    '''\n",
    "    em gmm model\n",
    "    '''\n",
    "    n=len(k)\n",
    "    dataNum=dataArray.size\n",
    "    gammaArray=np.zeros((n,dataNum))\n",
    "    for s in range(step):\n",
    "        for i in range(n):\n",
    "            for j in range(dataNum):\n",
    "                Sum=sum([k[t]*normPdf(dataArray[j],mu[t],sigma[t]) for t in range(n)])\n",
    "                gammaArray[i][j]=k[i]*normPdf(dataArray[j],mu[i],sigma[i])/float(Sum)\n",
    "        '''update mu'''\n",
    "        for i in range(n):\n",
    "            mu[i]=np.sum(gammaArray[i] * dataArray)/np.sum(gammaArray[i])\n",
    "        '''update sigma'''\n",
    "        for i in range(n):\n",
    "            sigma[i]=np.sqrt(np.sum(gammaArray[i] * (dataArray-mu[i])**2)/np.sum(gammaArray[i]))\n",
    "        '''update k '''\n",
    "        for i in range(n):\n",
    "            k[i]=np.sum(gammaArray[i])/dataNum\n",
    "    return [k,mu,sigma]"
   ]
  },
  {
   "cell_type": "code",
   "execution_count": 8,
   "metadata": {
    "ExecuteTime": {
     "end_time": "2019-06-28T09:26:36.422576Z",
     "start_time": "2019-06-28T09:26:34.086443Z"
    }
   },
   "outputs": [
    {
     "name": "stdout",
     "output_type": "stream",
     "text": [
      "参数实际值:\n",
      "k: [0.3, 0.4, 0.3]\n",
      "mu: [2, 4, 3]\n",
      "sigma: [1, 1, 4]\n",
      "参数估计值:\n",
      "k1: [0.16000074181117827, 0.35999968208092376, 0.4799995761078979]\n",
      "mu1: [2.4831446507295794, 3.187025318058108, 3.187025318058109]\n",
      "sigma1: [4.904702283233486, 1.6996439383615876, 1.699643938361592]\n"
     ]
    }
   ],
   "source": [
    "k = [0.3,0.4,0.3]\n",
    "mu = [2,4,3]\n",
    "sigma = [1,1,4]\n",
    "# 样本数\n",
    "dataNum = 5000\n",
    "# 产生数据\n",
    "dataArray = generateData(k,mu,sigma,dataNum)\n",
    "# 参数的初始值\n",
    "# 注意em算法对于参数的初始值是十分敏感的\n",
    "k0 = [0.3,0.3,0.4]\n",
    "mu0 = [1,2,2]\n",
    "sigma0 = [1,1,1]\n",
    "step = 6\n",
    "# 使用em算法估计参数\n",
    "k1,mu1,sigma1 = em(dataArray,k0,mu0,sigma0,step)\n",
    "# 输出参数的值\n",
    "print(\"参数实际值:\")\n",
    "print(\"k:\",k)\n",
    "print(\"mu:\",mu)\n",
    "print(\"sigma:\",sigma)\n",
    "print(\"参数估计值:\")\n",
    "print(\"k1:\",k1)\n",
    "print(\"mu1:\",mu1)\n",
    "print(\"sigma1:\",sigma1)"
   ]
  },
  {
   "cell_type": "code",
   "execution_count": 10,
   "metadata": {
    "ExecuteTime": {
     "end_time": "2019-06-28T09:53:34.563129Z",
     "start_time": "2019-06-28T09:53:34.529127Z"
    }
   },
   "outputs": [
    {
     "data": {
      "text/plain": [
       "5000"
      ]
     },
     "execution_count": 10,
     "metadata": {},
     "output_type": "execute_result"
    }
   ],
   "source": [
    "len(generateData(k,mu,sigma,dataNum))"
   ]
  },
  {
   "cell_type": "code",
   "execution_count": null,
   "metadata": {},
   "outputs": [],
   "source": []
  }
 ],
 "metadata": {
  "kernelspec": {
   "display_name": "Python 3",
   "language": "python",
   "name": "python3"
  },
  "language_info": {
   "codemirror_mode": {
    "name": "ipython",
    "version": 3
   },
   "file_extension": ".py",
   "mimetype": "text/x-python",
   "name": "python",
   "nbconvert_exporter": "python",
   "pygments_lexer": "ipython3",
   "version": "3.6.3"
  }
 },
 "nbformat": 4,
 "nbformat_minor": 2
}
