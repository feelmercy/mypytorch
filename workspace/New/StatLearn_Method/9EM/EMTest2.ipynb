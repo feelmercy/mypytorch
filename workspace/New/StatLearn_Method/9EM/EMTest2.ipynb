{
 "cells": [
  {
   "cell_type": "code",
   "execution_count": 5,
   "metadata": {
    "ExecuteTime": {
     "end_time": "2019-06-28T01:14:16.445986Z",
     "start_time": "2019-06-28T01:14:16.436986Z"
    }
   },
   "outputs": [],
   "source": [
    "import numpy as np\n",
    "from numpy import *"
   ]
  },
  {
   "cell_type": "code",
   "execution_count": 57,
   "metadata": {
    "ExecuteTime": {
     "end_time": "2019-06-28T01:46:25.042296Z",
     "start_time": "2019-06-28T01:46:24.922289Z"
    }
   },
   "outputs": [],
   "source": [
    "def em(arr_y,theta,tol,iterator_num):\n",
    "#     pi=0\n",
    "#     p=0\n",
    "#     q=0\n",
    "    m,n=arr_y.shape\n",
    "    mat_y=arr_y.getA()\n",
    "    \n",
    "    for i in range(iterator_num):\n",
    "        miu=[]\n",
    "        pi=copy(theta[0])\n",
    "        p=copy(theta[1])\n",
    "        q=copy(theta[2])\n",
    "        \n",
    "        for j in range(m):\n",
    "            miu_a=pi*(p**mat_y[j])*((1-p)**(1-mat_y[j]))\n",
    "            miu_b=(1-pi)*(q**mat_y[j])*((1-q)**(1-mat_y[j]))\n",
    "            miu.append(miu_a/(miu_a+miu_b))\n",
    "        \n",
    "        sum1=0.0\n",
    "        for j in range(m):\n",
    "            sum1+=miu[j]\n",
    "        theta[0]=sum1/m\n",
    "        \n",
    "        \n",
    "        sum2_a=0.0\n",
    "        sum2_b=0\n",
    "        for j in range(m):\n",
    "            sum2_a+=miu[j]*arr_y[j]\n",
    "            sum2_b+=miu[j]\n",
    "        theta[1]=sum2_a/sum2_b\n",
    "        \n",
    "        \n",
    "        sum3_a=0.0\n",
    "        sum3_b=0\n",
    "        for j in range(m):\n",
    "            sum3_a+=(1-miu[j])*arr_y[j]\n",
    "            sum3_b+=1-miu[j]\n",
    "        theta[2]=sum3_a/sum3_b\n",
    "        \n",
    "        \n",
    "        print(\"-------------------\")\n",
    "        print(theta)\n",
    "        print(\"---------pi,p,q--------\")\n",
    "        print('theta[0]: '+str(theta[0])+' pi: '+str(pi)+' diff: '+str(abs(theta[0] - pi)))\n",
    "        print(abs(theta[1] - p))\n",
    "        print(abs(theta[2] - q))\n",
    "        \n",
    "        if(abs(theta[0] - pi) <= tol and abs(theta[1] - p) <= tol \\\n",
    "            and abs(theta[2] - q) <= tol):\n",
    "            print(\"-------------------\")\n",
    "            print(theta)\n",
    "            print(\"break\")\n",
    "            break\n",
    "            \n",
    "    return pi,p,q\n",
    "        \n",
    "        \n",
    "            \n",
    "        "
   ]
  },
  {
   "cell_type": "code",
   "execution_count": 58,
   "metadata": {
    "ExecuteTime": {
     "end_time": "2019-06-28T01:46:25.401316Z",
     "start_time": "2019-06-28T01:46:25.382315Z"
    }
   },
   "outputs": [
    {
     "name": "stdout",
     "output_type": "stream",
     "text": [
      "[[1.]\n",
      " [1.]\n",
      " [0.]\n",
      " [1.]\n",
      " [0.]\n",
      " [0.]\n",
      " [1.]\n",
      " [0.]\n",
      " [1.]\n",
      " [1.]]\n"
     ]
    }
   ],
   "source": [
    "mat_y = mat(zeros((10, 1)))\n",
    "mat_y[0,0] = 1\n",
    "mat_y[1,0] = 1\n",
    "mat_y[2,0] = 0\n",
    "mat_y[3,0] = 1\n",
    "mat_y[4,0] = 0\n",
    "mat_y[5,0] = 0\n",
    "mat_y[6,0] = 1\n",
    "mat_y[7,0] = 0\n",
    "mat_y[8,0] = 1\n",
    "mat_y[9,0] = 1\n",
    "theta = [0.4, 0.6, 0.7]\n",
    "print(mat_y)"
   ]
  },
  {
   "cell_type": "code",
   "execution_count": 59,
   "metadata": {
    "ExecuteTime": {
     "end_time": "2019-06-28T01:46:25.816340Z",
     "start_time": "2019-06-28T01:46:25.791339Z"
    }
   },
   "outputs": [
    {
     "name": "stdout",
     "output_type": "stream",
     "text": [
      "-------------------\n",
      "[array([0.40641711]), matrix([[0.53684211]]), matrix([[0.64324324]])]\n",
      "---------pi,p,q--------\n",
      "theta[0]: [0.40641711] pi: 0.4 diff: [0.00641711]\n",
      "[[0.06315789]]\n",
      "[[0.05675676]]\n",
      "-------------------\n",
      "[array([[0.40641711]]), matrix([[0.53684211]]), matrix([[0.64324324]])]\n",
      "---------pi,p,q--------\n",
      "theta[0]: [[0.40641711]] pi: [0.40641711] diff: [[1.11022302e-16]]\n",
      "[[0.]]\n",
      "[[0.]]\n",
      "-------------------\n",
      "[array([[0.40641711]]), matrix([[0.53684211]]), matrix([[0.64324324]])]\n",
      "break\n"
     ]
    },
    {
     "data": {
      "text/plain": [
       "(array([0.40641711]), array([[0.53684211]]), array([[0.64324324]]))"
      ]
     },
     "execution_count": 59,
     "metadata": {},
     "output_type": "execute_result"
    }
   ],
   "source": [
    "em(mat_y, theta, 0.001, 100)"
   ]
  },
  {
   "cell_type": "code",
   "execution_count": 60,
   "metadata": {
    "ExecuteTime": {
     "end_time": "2019-06-28T09:07:13.592066Z",
     "start_time": "2019-06-28T09:07:13.579066Z"
    }
   },
   "outputs": [
    {
     "data": {
      "text/plain": [
       "10"
      ]
     },
     "execution_count": 60,
     "metadata": {},
     "output_type": "execute_result"
    }
   ],
   "source": [
    "mat_y.size"
   ]
  },
  {
   "cell_type": "code",
   "execution_count": 63,
   "metadata": {
    "ExecuteTime": {
     "end_time": "2019-06-28T09:08:04.935003Z",
     "start_time": "2019-06-28T09:08:04.922002Z"
    }
   },
   "outputs": [
    {
     "data": {
      "text/plain": [
       "12"
      ]
     },
     "execution_count": 63,
     "metadata": {},
     "output_type": "execute_result"
    }
   ],
   "source": [
    "np.ones((3,4)).size"
   ]
  },
  {
   "cell_type": "code",
   "execution_count": null,
   "metadata": {},
   "outputs": [],
   "source": []
  }
 ],
 "metadata": {
  "kernelspec": {
   "display_name": "Python 3",
   "language": "python",
   "name": "python3"
  },
  "language_info": {
   "codemirror_mode": {
    "name": "ipython",
    "version": 3
   },
   "file_extension": ".py",
   "mimetype": "text/x-python",
   "name": "python",
   "nbconvert_exporter": "python",
   "pygments_lexer": "ipython3",
   "version": "3.6.3"
  }
 },
 "nbformat": 4,
 "nbformat_minor": 2
}
