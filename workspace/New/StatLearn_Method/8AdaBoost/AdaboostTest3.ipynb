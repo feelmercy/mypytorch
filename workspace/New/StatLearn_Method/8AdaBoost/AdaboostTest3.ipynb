{
 "cells": [
  {
   "cell_type": "code",
   "execution_count": 1,
   "metadata": {
    "ExecuteTime": {
     "end_time": "2019-06-24T01:53:00.367718Z",
     "start_time": "2019-06-24T01:52:58.975638Z"
    }
   },
   "outputs": [],
   "source": [
    "import numpy as np\n",
    "import pandas as pd\n",
    "from sklearn.datasets import load_iris\n",
    "from sklearn.model_selection  import train_test_split\n",
    "import matplotlib.pyplot as plt"
   ]
  },
  {
   "cell_type": "code",
   "execution_count": 2,
   "metadata": {
    "ExecuteTime": {
     "end_time": "2019-06-24T01:53:01.330773Z",
     "start_time": "2019-06-24T01:53:01.302771Z"
    }
   },
   "outputs": [],
   "source": [
    "# data\n",
    "def create_data():\n",
    "    iris = load_iris()\n",
    "    df = pd.DataFrame(iris.data, columns=iris.feature_names)\n",
    "    df['label'] = iris.target\n",
    "    df.columns = ['sepal length', 'sepal width', 'petal length', 'petal width', 'label']\n",
    "    data = np.array(df.iloc[:100, [0, 1, -1]])\n",
    "    for i in range(len(data)):\n",
    "        if data[i,-1] == 0:\n",
    "            data[i,-1] = -1\n",
    "    # print(data)\n",
    "    return data[:,:2], data[:,-1]"
   ]
  },
  {
   "cell_type": "code",
   "execution_count": 3,
   "metadata": {
    "ExecuteTime": {
     "end_time": "2019-06-24T01:53:07.351117Z",
     "start_time": "2019-06-24T01:53:07.332116Z"
    }
   },
   "outputs": [],
   "source": [
    "X, y = create_data()\n",
    "X_train, X_test, y_train, y_test = train_test_split(X, y, test_size=0.2)"
   ]
  },
  {
   "cell_type": "code",
   "execution_count": 66,
   "metadata": {
    "ExecuteTime": {
     "end_time": "2019-06-24T06:38:55.951961Z",
     "start_time": "2019-06-24T06:38:55.722948Z"
    }
   },
   "outputs": [],
   "source": [
    "class Adaboosting:\n",
    "    def __init__(self,lr=0.2):\n",
    "        self.lr=lr\n",
    "        \n",
    "    def _em(self,ypred):\n",
    "        tmp=np.array([0 if ypred[i]==self.y[i] else 1 for i in range(self.m)])\n",
    "        return np.sum(np.multiply(self.D,tmp))\n",
    "        \n",
    "    def _predict(self,x,axis,threshold,direct):\n",
    "#         print(x)\n",
    "#         print('axis: '+str(axis))\n",
    "#         print(x[:,axis])\n",
    "        \n",
    "        if direct=='p':\n",
    "            return np.array([1 if i >= threshold else -1 for i in x[:,axis] ])\n",
    "        if direct=='n':\n",
    "            return np.array([-1 if i >= threshold else 1 for i in x[:,axis] ])\n",
    "        \n",
    "    def fit(self,x,y):\n",
    "        self.x=np.array(x)\n",
    "        self.y=np.array(y)\n",
    "        self.m,self.n=self.x.shape\n",
    "        self.D=np.ones(self.m)/self.m\n",
    "        self.funList=[]\n",
    "        \n",
    "        minError=np.inf\n",
    "        minTree=None\n",
    "        \n",
    "#         print('D:'+str(self.D))\n",
    "#         print('D:'+str(self.D))\n",
    "        \n",
    "        while minError>0.01:\n",
    "            for axis in range(self.n):\n",
    "                minv=min(self.x[:,axis])\n",
    "                maxv=max(self.x[:,axis])\n",
    "                \n",
    "                for threshold in np.arange(minv,maxv,self.lr):\n",
    "                    ## direct = p\n",
    "                    ypred=self._predict(self.x,axis,threshold,'p')\n",
    "                    error=self._em(ypred)\n",
    "#                     print('Error: '+str(error))\n",
    "                    \n",
    "                    if minError>error:\n",
    "                        minError=error\n",
    "                        minTree=(axis,threshold,'p')\n",
    "#                         print('p em :'+str(minError))\n",
    "#                         print('p minTree :'+str(minTree))\n",
    "                    ## direct = n    \n",
    "                    ypred=self._predict(self.x,axis,threshold,'n')\n",
    "                    error=self._em(ypred)\n",
    "                    \n",
    "                    if minError>error:\n",
    "                        minError=error\n",
    "                        minTree=(axis,threshold,'n')\n",
    "#                         print('n em :'+str(minError))\n",
    "#                         print('n minTree :'+str(minTree))\n",
    "                    \n",
    "            alpha=0.5*np.log((1-minError)/minError)\n",
    "            self.funList.append((alpha,minTree))\n",
    "            gm=self._predict(self.x,minTree[0],minTree[1],minTree[2])\n",
    "            eta=np.multiply(-alpha*self.y,gm)\n",
    "            z=np.sum(np.multiply(self.D,np.exp(eta)))\n",
    "            self.D=np.multiply(self.D,np.exp(eta))/z\n",
    "            \n",
    "            \n",
    "    \n",
    "    def predict(self,x):\n",
    "        sumv=0\n",
    "        for f in self.funList:\n",
    "            falpha=f[0]\n",
    "            ftree=f[1]\n",
    "            sumv+=falpha*self._predict(x,ftree[0],ftree[1],ftree[2])\n",
    "        print(sumv)\n",
    "        return [1 if sumv[i] >0 else -1 for i in range(len(x))]\n",
    "    \n",
    "    def pred_score(self,y_pred,y_true):\n",
    "        count=0\n",
    "        l=len(y_pred)\n",
    "        for i in range(l):\n",
    "            if y_pred[i]==y_true[i]:\n",
    "                count+=1\n",
    "        return count/float(l)\n",
    "        "
   ]
  },
  {
   "cell_type": "code",
   "execution_count": 67,
   "metadata": {
    "ExecuteTime": {
     "end_time": "2019-06-24T06:38:57.801067Z",
     "start_time": "2019-06-24T06:38:57.747064Z"
    }
   },
   "outputs": [
    {
     "name": "stdout",
     "output_type": "stream",
     "text": [
      "[-5.94728824]\n",
      "[-1]\n"
     ]
    }
   ],
   "source": [
    "dataSet = np.array([[0, 1, 3], [0, 3, 1], [1, 2, 2], [1, 1, 3], [1, 2, 3], [0, 1, 2], [1, 1, 2], [1, 1, 1], [1, 3, 1], [0, 2, 1]])    #p153的例子\n",
    "labels = np.array([-1, -1, -1, -1, -1, -1, 1, 1, -1, -1])\n",
    "adaboost = Adaboosting()\n",
    "adaboost.fit(dataSet, labels)\n",
    "print(adaboost.predict(np.array([1, 3, 2]).reshape(1,-1)))"
   ]
  },
  {
   "cell_type": "code",
   "execution_count": 55,
   "metadata": {
    "ExecuteTime": {
     "end_time": "2019-06-24T06:31:45.260327Z",
     "start_time": "2019-06-24T06:31:45.251326Z"
    }
   },
   "outputs": [
    {
     "data": {
      "text/plain": [
       "array([3, 1, 2, 3, 3, 2, 2, 1, 1, 1])"
      ]
     },
     "execution_count": 55,
     "metadata": {},
     "output_type": "execute_result"
    }
   ],
   "source": [
    "dataSet[:,2]"
   ]
  },
  {
   "cell_type": "code",
   "execution_count": 70,
   "metadata": {
    "ExecuteTime": {
     "end_time": "2019-06-24T06:40:39.123862Z",
     "start_time": "2019-06-24T06:40:39.060859Z"
    }
   },
   "outputs": [
    {
     "name": "stdout",
     "output_type": "stream",
     "text": [
      "[  0.08163916  -7.18320255   8.75832327 -13.02157786   4.34489375\n",
      "  -1.46895825   4.34489375  13.02157786  13.02157786  -7.30733356\n",
      "   8.75832327  -7.30733356   0.08163916  -7.30733356  -1.46895825\n",
      "  -7.18320255  13.02157786  -7.18320255  -1.46895825   8.75832327]\n",
      "[1, -1, 1, -1, 1, -1, 1, 1, 1, -1, 1, -1, 1, -1, -1, -1, 1, -1, -1, 1]\n",
      "[  0.08163916  -7.18320255   8.75832327 -13.02157786   4.34489375\n",
      "  -1.46895825   4.34489375  13.02157786  13.02157786  -7.30733356\n",
      "   8.75832327  -7.30733356   0.08163916  -7.30733356  -1.46895825\n",
      "  -7.18320255  13.02157786  -7.18320255  -1.46895825   8.75832327]\n"
     ]
    },
    {
     "data": {
      "text/plain": [
       "0.95"
      ]
     },
     "execution_count": 70,
     "metadata": {},
     "output_type": "execute_result"
    }
   ],
   "source": [
    "adaboost2 = Adaboosting(lr=0.5)\n",
    "adaboost2.fit(X_train, y_train)\n",
    "print(adaboost2.predict(X_test))\n",
    "adaboost2.pred_score(adaboost2.predict(X_test),y_test)"
   ]
  },
  {
   "cell_type": "code",
   "execution_count": 64,
   "metadata": {
    "ExecuteTime": {
     "end_time": "2019-06-24T06:35:04.722735Z",
     "start_time": "2019-06-24T06:35:04.712735Z"
    }
   },
   "outputs": [
    {
     "data": {
      "text/plain": [
       "array([-1., -1.,  1., -1.,  1., -1.,  1.,  1.,  1., -1.,  1., -1.,  1.,\n",
       "       -1., -1., -1.,  1., -1., -1.,  1.])"
      ]
     },
     "execution_count": 64,
     "metadata": {},
     "output_type": "execute_result"
    }
   ],
   "source": [
    "y_test"
   ]
  },
  {
   "cell_type": "code",
   "execution_count": 73,
   "metadata": {
    "ExecuteTime": {
     "end_time": "2019-06-24T07:13:42.463303Z",
     "start_time": "2019-06-24T07:13:42.456302Z"
    }
   },
   "outputs": [],
   "source": [
    "from sklearn.ensemble import AdaBoostClassifier"
   ]
  },
  {
   "cell_type": "code",
   "execution_count": 74,
   "metadata": {
    "ExecuteTime": {
     "end_time": "2019-06-24T07:14:29.474992Z",
     "start_time": "2019-06-24T07:14:29.329983Z"
    }
   },
   "outputs": [
    {
     "data": {
      "text/plain": [
       "1.0"
      ]
     },
     "execution_count": 74,
     "metadata": {},
     "output_type": "execute_result"
    }
   ],
   "source": [
    "clf=AdaBoostClassifier(n_estimators=100,learning_rate=0.5)\n",
    "clf.fit(X_train,y_train)\n",
    "clf.score(X_test,y_test)"
   ]
  },
  {
   "cell_type": "code",
   "execution_count": null,
   "metadata": {},
   "outputs": [],
   "source": []
  }
 ],
 "metadata": {
  "kernelspec": {
   "display_name": "Python 3",
   "language": "python",
   "name": "python3"
  },
  "language_info": {
   "codemirror_mode": {
    "name": "ipython",
    "version": 3
   },
   "file_extension": ".py",
   "mimetype": "text/x-python",
   "name": "python",
   "nbconvert_exporter": "python",
   "pygments_lexer": "ipython3",
   "version": "3.6.3"
  }
 },
 "nbformat": 4,
 "nbformat_minor": 2
}
