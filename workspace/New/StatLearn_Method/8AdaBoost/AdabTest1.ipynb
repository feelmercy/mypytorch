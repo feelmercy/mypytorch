{
 "cells": [
  {
   "cell_type": "code",
   "execution_count": 132,
   "metadata": {
    "ExecuteTime": {
     "end_time": "2019-06-24T06:41:11.698725Z",
     "start_time": "2019-06-24T06:41:11.686725Z"
    }
   },
   "outputs": [],
   "source": [
    "import numpy as np\n",
    "import pandas as pd\n",
    "from sklearn.datasets import load_iris\n",
    "from sklearn.model_selection  import train_test_split\n",
    "import matplotlib.pyplot as plt"
   ]
  },
  {
   "cell_type": "code",
   "execution_count": 133,
   "metadata": {
    "ExecuteTime": {
     "end_time": "2019-06-24T06:41:12.316761Z",
     "start_time": "2019-06-24T06:41:12.288759Z"
    }
   },
   "outputs": [],
   "source": [
    "# data\n",
    "def create_data():\n",
    "    iris = load_iris()\n",
    "    df = pd.DataFrame(iris.data, columns=iris.feature_names)\n",
    "    df['label'] = iris.target\n",
    "    df.columns = ['sepal length', 'sepal width', 'petal length', 'petal width', 'label']\n",
    "    data = np.array(df.iloc[:100, [0, 1, -1]])\n",
    "    for i in range(len(data)):\n",
    "        if data[i,-1] == 0:\n",
    "            data[i,-1] = -1\n",
    "    # print(data)\n",
    "    return data[:,:2], data[:,-1]"
   ]
  },
  {
   "cell_type": "code",
   "execution_count": 134,
   "metadata": {
    "ExecuteTime": {
     "end_time": "2019-06-24T06:41:12.836790Z",
     "start_time": "2019-06-24T06:41:12.822790Z"
    }
   },
   "outputs": [],
   "source": [
    "X, y = create_data()\n",
    "X_train, X_test, y_train, y_test = train_test_split(X, y, test_size=0.2)"
   ]
  },
  {
   "cell_type": "code",
   "execution_count": 135,
   "metadata": {
    "ExecuteTime": {
     "end_time": "2019-06-24T06:41:13.463826Z",
     "start_time": "2019-06-24T06:41:13.426824Z"
    }
   },
   "outputs": [],
   "source": [
    "class SingleDecisionTree:\n",
    "    def __init__(self,axis=0,threshold=0,flag=True):\n",
    "        self.axis=axis\n",
    "        self.threshold=threshold\n",
    "        self.flag=flag\n",
    "        \n",
    "    def predict(self,x):\n",
    "        if self.flag==True:\n",
    "            return -1 if x[self.axis]>=self.threshold else 1\n",
    "        else :\n",
    "            return 1 if x[self.axis]>=self.threshold else -1\n",
    "        \n",
    "    def predictArr(self,dataSet):\n",
    "        result=list()\n",
    "        for x in dataSet:\n",
    "            if self.flag==True:\n",
    "                result.append(-1 if x[self.axis]>=self.threshold else 1)\n",
    "            else:\n",
    "                result.append(1 if x[self.axis]>=self.threshold else -1)\n",
    "        return result"
   ]
  },
  {
   "cell_type": "code",
   "execution_count": 139,
   "metadata": {
    "ExecuteTime": {
     "end_time": "2019-06-24T06:41:50.796962Z",
     "start_time": "2019-06-24T06:41:50.676955Z"
    }
   },
   "outputs": [],
   "source": [
    "class Adaboost:\n",
    "    def train(self,dataSet,labels):\n",
    "        N,M=np.array(dataSet).shape\n",
    "        self.funList=list()\n",
    "        D=np.ones((N,1))/float(N)\n",
    "        \n",
    "        L=0.5\n",
    "        minError=np.inf\n",
    "        minTree=None\n",
    "        while minError>0.01:\n",
    "            for axis in range(M):\n",
    "                min=np.min(np.array(dataSet)[:,axis])\n",
    "                max=np.max(np.array(dataSet)[:,axis])\n",
    "                for threshold in np.arange(min,max,L):\n",
    "                    tree = SingleDecisionTree(axis=axis,threshold=threshold,flag=True)\n",
    "                    em=self.calcEm(D,tree,dataSet,labels)\n",
    "                    if (minError>em):\n",
    "                        minError=em\n",
    "                        minTree =tree\n",
    "                    tree = SingleDecisionTree(axis=axis,threshold=threshold,flag=False)\n",
    "                    em=self.calcEm(D,tree,dataSet,labels)\n",
    "                    if (minError>em):\n",
    "                        minError=em\n",
    "                        minTree =tree\n",
    "            alpha=(0.5)*np.log((1-minError)/float(minError))\n",
    "            print('alpha'+str(alpha))\n",
    "            self.funList.append((alpha,minTree))\n",
    "            yi=np.array(labels).reshape(-1,1)\n",
    "            gm=np.array(minTree.predictArr(dataSet)).reshape(-1,1)\n",
    "            # -ai * yi *gm\n",
    "            eta=np.multiply(-alpha* yi,gm)\n",
    "            Z=sum(np.multiply(D,np.exp(eta)))\n",
    "            \n",
    "            D=np.multiply(D,np.exp(eta))/Z\n",
    "    \n",
    "    def predict(self,x):\n",
    "        sum=0\n",
    "        print(self.funList)\n",
    "        for fun in self.funList:\n",
    "            alpha=fun[0]\n",
    "            tree = fun[1]\n",
    "            sum+=alpha* tree.predict(x)\n",
    "        print(sum)\n",
    "        return 1 if sum>0 else -1\n",
    "    \n",
    "    def calcEm(self,D,Gm,dataSet,labels):\n",
    "        value=[0 if Gm.predict(row) == labels[i] else 1 for (i,row) in enumerate(dataSet)]\n",
    "        return np.sum(np.multiply(D,np.array(value).reshape(-1,1)))"
   ]
  },
  {
   "cell_type": "code",
   "execution_count": 140,
   "metadata": {
    "ExecuteTime": {
     "end_time": "2019-06-24T06:41:51.419997Z",
     "start_time": "2019-06-24T06:41:51.383995Z"
    }
   },
   "outputs": [
    {
     "name": "stdout",
     "output_type": "stream",
     "text": [
      "alpha0.6931471805599453\n",
      "alpha0.7331685343967135\n",
      "alpha0.7331685343967135\n",
      "alpha1.0932930895655817\n",
      "alpha1.0932930895655817\n",
      "alpha1.149273824723755\n",
      "alpha1.149273824723755\n",
      "alpha1.4492075459468585\n",
      "alpha1.4492075459468585\n",
      "alpha2.0162052978500324\n",
      "alpha2.0162052978500324\n",
      "alpha2.0345539490161575\n",
      "alpha2.0345539490161575\n",
      "alpha3.6324422339216196\n",
      "[(0.6931471805599453, <__main__.SingleDecisionTree object at 0x0000000013C5B860>), (0.7331685343967135, <__main__.SingleDecisionTree object at 0x0000000013CCD5C0>), (0.7331685343967135, <__main__.SingleDecisionTree object at 0x0000000013CCD5C0>), (1.0932930895655817, <__main__.SingleDecisionTree object at 0x0000000013CCD5F8>), (1.0932930895655817, <__main__.SingleDecisionTree object at 0x0000000013CCD5F8>), (1.149273824723755, <__main__.SingleDecisionTree object at 0x0000000013CCDCF8>), (1.149273824723755, <__main__.SingleDecisionTree object at 0x0000000013CCDCF8>), (1.4492075459468585, <__main__.SingleDecisionTree object at 0x0000000013CCD630>), (1.4492075459468585, <__main__.SingleDecisionTree object at 0x0000000013CCD630>), (2.0162052978500324, <__main__.SingleDecisionTree object at 0x0000000013CCD240>), (2.0162052978500324, <__main__.SingleDecisionTree object at 0x0000000013CCD240>), (2.0345539490161575, <__main__.SingleDecisionTree object at 0x0000000013CCD7B8>), (2.0345539490161575, <__main__.SingleDecisionTree object at 0x0000000013CCD7B8>), (3.6324422339216196, <__main__.SingleDecisionTree object at 0x0000000013CCD470>)]\n",
      "-5.9472882382363945\n",
      "-1\n"
     ]
    }
   ],
   "source": [
    "dataSet = [[0, 1, 3], [0, 3, 1], [1, 2, 2], [1, 1, 3], [1, 2, 3], [0, 1, 2], [1, 1, 2], [1, 1, 1], [1, 3, 1], [0, 2, 1]]    #p153的例子\n",
    "labels = [-1, -1, -1, -1, -1, -1, 1, 1, -1, -1]\n",
    "adaboost = Adaboost()\n",
    "adaboost.train(dataSet, labels)\n",
    "print(adaboost.predict([1, 3, 2]))"
   ]
  },
  {
   "cell_type": "code",
   "execution_count": 141,
   "metadata": {
    "ExecuteTime": {
     "end_time": "2019-06-24T06:41:51.905025Z",
     "start_time": "2019-06-24T06:41:51.900025Z"
    }
   },
   "outputs": [],
   "source": [
    "def pred_score(obj,x,y):\n",
    "    count=0\n",
    "    l=len(y)\n",
    "    for i in range(l):\n",
    "        if y[i]==obj.predict(x[i]):\n",
    "            count+=1\n",
    "    return count/float(l)"
   ]
  },
  {
   "cell_type": "code",
   "execution_count": 143,
   "metadata": {
    "ExecuteTime": {
     "end_time": "2019-06-24T06:41:59.158440Z",
     "start_time": "2019-06-24T06:41:59.110437Z"
    }
   },
   "outputs": [
    {
     "name": "stdout",
     "output_type": "stream",
     "text": [
      "alpha0.7752987062055835\n",
      "alpha1.0270618668477742\n",
      "alpha1.0270618668477742\n",
      "alpha1.340510764357147\n",
      "alpha1.340510764357147\n",
      "alpha1.5635483429126418\n",
      "alpha1.5635483429126418\n",
      "alpha2.0727370005931793\n",
      "alpha2.0727370005931793\n",
      "alpha2.850620884119584\n",
      "[(0.7752987062055835, <__main__.SingleDecisionTree object at 0x0000000013A8C710>), (1.0270618668477742, <__main__.SingleDecisionTree object at 0x0000000013A8C438>), (1.0270618668477742, <__main__.SingleDecisionTree object at 0x0000000013A8C438>), (1.340510764357147, <__main__.SingleDecisionTree object at 0x0000000013A8C668>), (1.340510764357147, <__main__.SingleDecisionTree object at 0x0000000013A8C668>), (1.5635483429126418, <__main__.SingleDecisionTree object at 0x0000000013A8CA90>), (1.5635483429126418, <__main__.SingleDecisionTree object at 0x0000000013A8CA90>), (2.0727370005931793, <__main__.SingleDecisionTree object at 0x0000000013A8C780>), (2.0727370005931793, <__main__.SingleDecisionTree object at 0x0000000013A8C780>), (2.850620884119584, <__main__.SingleDecisionTree object at 0x000000001409BF28>)]\n",
      "7.342687537373935\n",
      "[(0.7752987062055835, <__main__.SingleDecisionTree object at 0x0000000013A8C710>), (1.0270618668477742, <__main__.SingleDecisionTree object at 0x0000000013A8C438>), (1.0270618668477742, <__main__.SingleDecisionTree object at 0x0000000013A8C438>), (1.340510764357147, <__main__.SingleDecisionTree object at 0x0000000013A8C668>), (1.340510764357147, <__main__.SingleDecisionTree object at 0x0000000013A8C668>), (1.5635483429126418, <__main__.SingleDecisionTree object at 0x0000000013A8CA90>), (1.5635483429126418, <__main__.SingleDecisionTree object at 0x0000000013A8CA90>), (2.0727370005931793, <__main__.SingleDecisionTree object at 0x0000000013A8C780>), (2.0727370005931793, <__main__.SingleDecisionTree object at 0x0000000013A8C780>), (2.850620884119584, <__main__.SingleDecisionTree object at 0x000000001409BF28>)]\n",
      "7.342687537373935\n",
      "[(0.7752987062055835, <__main__.SingleDecisionTree object at 0x0000000013A8C710>), (1.0270618668477742, <__main__.SingleDecisionTree object at 0x0000000013A8C438>), (1.0270618668477742, <__main__.SingleDecisionTree object at 0x0000000013A8C438>), (1.340510764357147, <__main__.SingleDecisionTree object at 0x0000000013A8C668>), (1.340510764357147, <__main__.SingleDecisionTree object at 0x0000000013A8C668>), (1.5635483429126418, <__main__.SingleDecisionTree object at 0x0000000013A8CA90>), (1.5635483429126418, <__main__.SingleDecisionTree object at 0x0000000013A8CA90>), (2.0727370005931793, <__main__.SingleDecisionTree object at 0x0000000013A8C780>), (2.0727370005931793, <__main__.SingleDecisionTree object at 0x0000000013A8C780>), (2.850620884119584, <__main__.SingleDecisionTree object at 0x000000001409BF28>)]\n",
      "-3.6782003998569177\n",
      "[(0.7752987062055835, <__main__.SingleDecisionTree object at 0x0000000013A8C710>), (1.0270618668477742, <__main__.SingleDecisionTree object at 0x0000000013A8C438>), (1.0270618668477742, <__main__.SingleDecisionTree object at 0x0000000013A8C438>), (1.340510764357147, <__main__.SingleDecisionTree object at 0x0000000013A8C668>), (1.340510764357147, <__main__.SingleDecisionTree object at 0x0000000013A8C668>), (1.5635483429126418, <__main__.SingleDecisionTree object at 0x0000000013A8CA90>), (1.5635483429126418, <__main__.SingleDecisionTree object at 0x0000000013A8CA90>), (2.0727370005931793, <__main__.SingleDecisionTree object at 0x0000000013A8C780>), (2.0727370005931793, <__main__.SingleDecisionTree object at 0x0000000013A8C780>), (2.850620884119584, <__main__.SingleDecisionTree object at 0x000000001409BF28>)]\n",
      "-9.379442168096086\n",
      "[(0.7752987062055835, <__main__.SingleDecisionTree object at 0x0000000013A8C710>), (1.0270618668477742, <__main__.SingleDecisionTree object at 0x0000000013A8C438>), (1.0270618668477742, <__main__.SingleDecisionTree object at 0x0000000013A8C438>), (1.340510764357147, <__main__.SingleDecisionTree object at 0x0000000013A8C668>), (1.340510764357147, <__main__.SingleDecisionTree object at 0x0000000013A8C668>), (1.5635483429126418, <__main__.SingleDecisionTree object at 0x0000000013A8CA90>), (1.5635483429126418, <__main__.SingleDecisionTree object at 0x0000000013A8CA90>), (2.0727370005931793, <__main__.SingleDecisionTree object at 0x0000000013A8C780>), (2.0727370005931793, <__main__.SingleDecisionTree object at 0x0000000013A8C780>), (2.850620884119584, <__main__.SingleDecisionTree object at 0x000000001409BF28>)]\n",
      "7.342687537373935\n",
      "[(0.7752987062055835, <__main__.SingleDecisionTree object at 0x0000000013A8C710>), (1.0270618668477742, <__main__.SingleDecisionTree object at 0x0000000013A8C438>), (1.0270618668477742, <__main__.SingleDecisionTree object at 0x0000000013A8C438>), (1.340510764357147, <__main__.SingleDecisionTree object at 0x0000000013A8C668>), (1.340510764357147, <__main__.SingleDecisionTree object at 0x0000000013A8C668>), (1.5635483429126418, <__main__.SingleDecisionTree object at 0x0000000013A8CA90>), (1.5635483429126418, <__main__.SingleDecisionTree object at 0x0000000013A8CA90>), (2.0727370005931793, <__main__.SingleDecisionTree object at 0x0000000013A8C780>), (2.0727370005931793, <__main__.SingleDecisionTree object at 0x0000000013A8C780>), (2.850620884119584, <__main__.SingleDecisionTree object at 0x000000001409BF28>)]\n",
      "-9.379442168096086\n",
      "[(0.7752987062055835, <__main__.SingleDecisionTree object at 0x0000000013A8C710>), (1.0270618668477742, <__main__.SingleDecisionTree object at 0x0000000013A8C438>), (1.0270618668477742, <__main__.SingleDecisionTree object at 0x0000000013A8C438>), (1.340510764357147, <__main__.SingleDecisionTree object at 0x0000000013A8C668>), (1.340510764357147, <__main__.SingleDecisionTree object at 0x0000000013A8C668>), (1.5635483429126418, <__main__.SingleDecisionTree object at 0x0000000013A8CA90>), (1.5635483429126418, <__main__.SingleDecisionTree object at 0x0000000013A8CA90>), (2.0727370005931793, <__main__.SingleDecisionTree object at 0x0000000013A8C780>), (2.0727370005931793, <__main__.SingleDecisionTree object at 0x0000000013A8C780>), (2.850620884119584, <__main__.SingleDecisionTree object at 0x000000001409BF28>)]\n",
      "-9.932393771507483\n",
      "[(0.7752987062055835, <__main__.SingleDecisionTree object at 0x0000000013A8C710>), (1.0270618668477742, <__main__.SingleDecisionTree object at 0x0000000013A8C438>), (1.0270618668477742, <__main__.SingleDecisionTree object at 0x0000000013A8C438>), (1.340510764357147, <__main__.SingleDecisionTree object at 0x0000000013A8C668>), (1.340510764357147, <__main__.SingleDecisionTree object at 0x0000000013A8C668>), (1.5635483429126418, <__main__.SingleDecisionTree object at 0x0000000013A8CA90>), (1.5635483429126418, <__main__.SingleDecisionTree object at 0x0000000013A8CA90>), (2.0727370005931793, <__main__.SingleDecisionTree object at 0x0000000013A8C780>), (2.0727370005931793, <__main__.SingleDecisionTree object at 0x0000000013A8C780>), (2.850620884119584, <__main__.SingleDecisionTree object at 0x000000001409BF28>)]\n",
      "-9.932393771507483\n",
      "[(0.7752987062055835, <__main__.SingleDecisionTree object at 0x0000000013A8C710>), (1.0270618668477742, <__main__.SingleDecisionTree object at 0x0000000013A8C438>), (1.0270618668477742, <__main__.SingleDecisionTree object at 0x0000000013A8C438>), (1.340510764357147, <__main__.SingleDecisionTree object at 0x0000000013A8C668>), (1.340510764357147, <__main__.SingleDecisionTree object at 0x0000000013A8C668>), (1.5635483429126418, <__main__.SingleDecisionTree object at 0x0000000013A8CA90>), (1.5635483429126418, <__main__.SingleDecisionTree object at 0x0000000013A8CA90>), (2.0727370005931793, <__main__.SingleDecisionTree object at 0x0000000013A8C780>), (2.0727370005931793, <__main__.SingleDecisionTree object at 0x0000000013A8C780>), (2.850620884119584, <__main__.SingleDecisionTree object at 0x000000001409BF28>)]\n",
      "-3.6782003998569177\n",
      "[(0.7752987062055835, <__main__.SingleDecisionTree object at 0x0000000013A8C710>), (1.0270618668477742, <__main__.SingleDecisionTree object at 0x0000000013A8C438>), (1.0270618668477742, <__main__.SingleDecisionTree object at 0x0000000013A8C438>), (1.340510764357147, <__main__.SingleDecisionTree object at 0x0000000013A8C668>), (1.340510764357147, <__main__.SingleDecisionTree object at 0x0000000013A8C668>), (1.5635483429126418, <__main__.SingleDecisionTree object at 0x0000000013A8CA90>), (1.5635483429126418, <__main__.SingleDecisionTree object at 0x0000000013A8CA90>), (2.0727370005931793, <__main__.SingleDecisionTree object at 0x0000000013A8C780>), (2.0727370005931793, <__main__.SingleDecisionTree object at 0x0000000013A8C780>), (2.850620884119584, <__main__.SingleDecisionTree object at 0x000000001409BF28>)]\n",
      "0.43004706753417965\n",
      "[(0.7752987062055835, <__main__.SingleDecisionTree object at 0x0000000013A8C710>), (1.0270618668477742, <__main__.SingleDecisionTree object at 0x0000000013A8C438>), (1.0270618668477742, <__main__.SingleDecisionTree object at 0x0000000013A8C438>), (1.340510764357147, <__main__.SingleDecisionTree object at 0x0000000013A8C668>), (1.340510764357147, <__main__.SingleDecisionTree object at 0x0000000013A8C668>), (1.5635483429126418, <__main__.SingleDecisionTree object at 0x0000000013A8CA90>), (1.5635483429126418, <__main__.SingleDecisionTree object at 0x0000000013A8CA90>), (2.0727370005931793, <__main__.SingleDecisionTree object at 0x0000000013A8C780>), (2.0727370005931793, <__main__.SingleDecisionTree object at 0x0000000013A8C780>), (2.850620884119584, <__main__.SingleDecisionTree object at 0x000000001409BF28>)]\n",
      "-5.271194700704989\n",
      "[(0.7752987062055835, <__main__.SingleDecisionTree object at 0x0000000013A8C710>), (1.0270618668477742, <__main__.SingleDecisionTree object at 0x0000000013A8C438>), (1.0270618668477742, <__main__.SingleDecisionTree object at 0x0000000013A8C438>), (1.340510764357147, <__main__.SingleDecisionTree object at 0x0000000013A8C668>), (1.340510764357147, <__main__.SingleDecisionTree object at 0x0000000013A8C668>), (1.5635483429126418, <__main__.SingleDecisionTree object at 0x0000000013A8CA90>), (1.5635483429126418, <__main__.SingleDecisionTree object at 0x0000000013A8CA90>), (2.0727370005931793, <__main__.SingleDecisionTree object at 0x0000000013A8C780>), (2.0727370005931793, <__main__.SingleDecisionTree object at 0x0000000013A8C780>), (2.850620884119584, <__main__.SingleDecisionTree object at 0x000000001409BF28>)]\n",
      "0.43004706753417965\n",
      "[(0.7752987062055835, <__main__.SingleDecisionTree object at 0x0000000013A8C710>), (1.0270618668477742, <__main__.SingleDecisionTree object at 0x0000000013A8C438>), (1.0270618668477742, <__main__.SingleDecisionTree object at 0x0000000013A8C438>), (1.340510764357147, <__main__.SingleDecisionTree object at 0x0000000013A8C668>), (1.340510764357147, <__main__.SingleDecisionTree object at 0x0000000013A8C668>), (1.5635483429126418, <__main__.SingleDecisionTree object at 0x0000000013A8CA90>), (1.5635483429126418, <__main__.SingleDecisionTree object at 0x0000000013A8CA90>), (2.0727370005931793, <__main__.SingleDecisionTree object at 0x0000000013A8C780>), (2.0727370005931793, <__main__.SingleDecisionTree object at 0x0000000013A8C780>), (2.850620884119584, <__main__.SingleDecisionTree object at 0x000000001409BF28>)]\n",
      "7.342687537373935\n",
      "[(0.7752987062055835, <__main__.SingleDecisionTree object at 0x0000000013A8C710>), (1.0270618668477742, <__main__.SingleDecisionTree object at 0x0000000013A8C438>), (1.0270618668477742, <__main__.SingleDecisionTree object at 0x0000000013A8C438>), (1.340510764357147, <__main__.SingleDecisionTree object at 0x0000000013A8C668>), (1.340510764357147, <__main__.SingleDecisionTree object at 0x0000000013A8C668>), (1.5635483429126418, <__main__.SingleDecisionTree object at 0x0000000013A8CA90>), (1.5635483429126418, <__main__.SingleDecisionTree object at 0x0000000013A8CA90>), (2.0727370005931793, <__main__.SingleDecisionTree object at 0x0000000013A8C780>), (2.0727370005931793, <__main__.SingleDecisionTree object at 0x0000000013A8C780>), (2.850620884119584, <__main__.SingleDecisionTree object at 0x000000001409BF28>)]\n",
      "-3.0197533016677287\n",
      "[(0.7752987062055835, <__main__.SingleDecisionTree object at 0x0000000013A8C710>), (1.0270618668477742, <__main__.SingleDecisionTree object at 0x0000000013A8C438>), (1.0270618668477742, <__main__.SingleDecisionTree object at 0x0000000013A8C438>), (1.340510764357147, <__main__.SingleDecisionTree object at 0x0000000013A8C668>), (1.340510764357147, <__main__.SingleDecisionTree object at 0x0000000013A8C668>), (1.5635483429126418, <__main__.SingleDecisionTree object at 0x0000000013A8CA90>), (1.5635483429126418, <__main__.SingleDecisionTree object at 0x0000000013A8CA90>), (2.0727370005931793, <__main__.SingleDecisionTree object at 0x0000000013A8C780>), (2.0727370005931793, <__main__.SingleDecisionTree object at 0x0000000013A8C780>), (2.850620884119584, <__main__.SingleDecisionTree object at 0x000000001409BF28>)]\n",
      "-9.379442168096086\n",
      "[(0.7752987062055835, <__main__.SingleDecisionTree object at 0x0000000013A8C710>), (1.0270618668477742, <__main__.SingleDecisionTree object at 0x0000000013A8C438>), (1.0270618668477742, <__main__.SingleDecisionTree object at 0x0000000013A8C438>), (1.340510764357147, <__main__.SingleDecisionTree object at 0x0000000013A8C668>), (1.340510764357147, <__main__.SingleDecisionTree object at 0x0000000013A8C668>), (1.5635483429126418, <__main__.SingleDecisionTree object at 0x0000000013A8CA90>), (1.5635483429126418, <__main__.SingleDecisionTree object at 0x0000000013A8CA90>), (2.0727370005931793, <__main__.SingleDecisionTree object at 0x0000000013A8C780>), (2.0727370005931793, <__main__.SingleDecisionTree object at 0x0000000013A8C780>), (2.850620884119584, <__main__.SingleDecisionTree object at 0x000000001409BF28>)]\n",
      "7.342687537373935\n",
      "[(0.7752987062055835, <__main__.SingleDecisionTree object at 0x0000000013A8C710>), (1.0270618668477742, <__main__.SingleDecisionTree object at 0x0000000013A8C438>), (1.0270618668477742, <__main__.SingleDecisionTree object at 0x0000000013A8C438>), (1.340510764357147, <__main__.SingleDecisionTree object at 0x0000000013A8C668>), (1.340510764357147, <__main__.SingleDecisionTree object at 0x0000000013A8C668>), (1.5635483429126418, <__main__.SingleDecisionTree object at 0x0000000013A8CA90>), (1.5635483429126418, <__main__.SingleDecisionTree object at 0x0000000013A8CA90>), (2.0727370005931793, <__main__.SingleDecisionTree object at 0x0000000013A8C780>), (2.0727370005931793, <__main__.SingleDecisionTree object at 0x0000000013A8C780>), (2.850620884119584, <__main__.SingleDecisionTree object at 0x000000001409BF28>)]\n",
      "7.342687537373935\n",
      "[(0.7752987062055835, <__main__.SingleDecisionTree object at 0x0000000013A8C710>), (1.0270618668477742, <__main__.SingleDecisionTree object at 0x0000000013A8C438>), (1.0270618668477742, <__main__.SingleDecisionTree object at 0x0000000013A8C438>), (1.340510764357147, <__main__.SingleDecisionTree object at 0x0000000013A8C668>), (1.340510764357147, <__main__.SingleDecisionTree object at 0x0000000013A8C668>), (1.5635483429126418, <__main__.SingleDecisionTree object at 0x0000000013A8CA90>), (1.5635483429126418, <__main__.SingleDecisionTree object at 0x0000000013A8CA90>), (2.0727370005931793, <__main__.SingleDecisionTree object at 0x0000000013A8C780>), (2.0727370005931793, <__main__.SingleDecisionTree object at 0x0000000013A8C780>), (2.850620884119584, <__main__.SingleDecisionTree object at 0x000000001409BF28>)]\n",
      "0.43004706753417965\n",
      "[(0.7752987062055835, <__main__.SingleDecisionTree object at 0x0000000013A8C710>), (1.0270618668477742, <__main__.SingleDecisionTree object at 0x0000000013A8C438>), (1.0270618668477742, <__main__.SingleDecisionTree object at 0x0000000013A8C438>), (1.340510764357147, <__main__.SingleDecisionTree object at 0x0000000013A8C668>), (1.340510764357147, <__main__.SingleDecisionTree object at 0x0000000013A8C668>), (1.5635483429126418, <__main__.SingleDecisionTree object at 0x0000000013A8CA90>), (1.5635483429126418, <__main__.SingleDecisionTree object at 0x0000000013A8CA90>), (2.0727370005931793, <__main__.SingleDecisionTree object at 0x0000000013A8C780>), (2.0727370005931793, <__main__.SingleDecisionTree object at 0x0000000013A8C780>), (2.850620884119584, <__main__.SingleDecisionTree object at 0x000000001409BF28>)]\n",
      "7.342687537373935\n",
      "[(0.7752987062055835, <__main__.SingleDecisionTree object at 0x0000000013A8C710>), (1.0270618668477742, <__main__.SingleDecisionTree object at 0x0000000013A8C438>), (1.0270618668477742, <__main__.SingleDecisionTree object at 0x0000000013A8C438>), (1.340510764357147, <__main__.SingleDecisionTree object at 0x0000000013A8C668>), (1.340510764357147, <__main__.SingleDecisionTree object at 0x0000000013A8C668>), (1.5635483429126418, <__main__.SingleDecisionTree object at 0x0000000013A8CA90>), (1.5635483429126418, <__main__.SingleDecisionTree object at 0x0000000013A8CA90>), (2.0727370005931793, <__main__.SingleDecisionTree object at 0x0000000013A8C780>), (2.0727370005931793, <__main__.SingleDecisionTree object at 0x0000000013A8C780>), (2.850620884119584, <__main__.SingleDecisionTree object at 0x000000001409BF28>)]\n",
      "-9.932393771507483\n"
     ]
    },
    {
     "data": {
      "text/plain": [
       "1.0"
      ]
     },
     "execution_count": 143,
     "metadata": {},
     "output_type": "execute_result"
    }
   ],
   "source": [
    "adaboost2 = Adaboost()\n",
    "adaboost2.train(X_train, y_train)\n",
    "pred_score(adaboost2,X_test,y_test)"
   ]
  }
 ],
 "metadata": {
  "kernelspec": {
   "display_name": "Python 3",
   "language": "python",
   "name": "python3"
  },
  "language_info": {
   "codemirror_mode": {
    "name": "ipython",
    "version": 3
   },
   "file_extension": ".py",
   "mimetype": "text/x-python",
   "name": "python",
   "nbconvert_exporter": "python",
   "pygments_lexer": "ipython3",
   "version": "3.6.3"
  }
 },
 "nbformat": 4,
 "nbformat_minor": 2
}
