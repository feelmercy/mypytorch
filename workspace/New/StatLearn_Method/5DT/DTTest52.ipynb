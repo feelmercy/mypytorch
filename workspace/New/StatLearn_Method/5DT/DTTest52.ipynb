{
 "cells": [
  {
   "cell_type": "code",
   "execution_count": 1,
   "metadata": {
    "ExecuteTime": {
     "end_time": "2019-04-23T01:11:12.632536Z",
     "start_time": "2019-04-23T01:11:11.877492Z"
    }
   },
   "outputs": [],
   "source": [
    "import numpy as np\n",
    "import pandas as pd\n",
    "import matplotlib.pyplot as plt\n",
    "\n",
    "from collections import Counter\n",
    "import math\n",
    "from math import log\n",
    "\n",
    "from  pprint import pformat\n",
    "from collections import namedtuple"
   ]
  },
  {
   "cell_type": "code",
   "execution_count": 2,
   "metadata": {
    "ExecuteTime": {
     "end_time": "2019-04-23T01:11:12.647536Z",
     "start_time": "2019-04-23T01:11:12.633536Z"
    }
   },
   "outputs": [],
   "source": [
    "def create_data():\n",
    "    datasets = [['青年', '否', '否', '一般', '否'],\n",
    "           ['青年', '否', '否', '好', '否'],\n",
    "           ['青年', '是', '否', '好', '是'],\n",
    "           ['青年', '是', '是', '一般', '是'],\n",
    "           ['青年', '否', '否', '一般', '否'],\n",
    "           ['中年', '否', '否', '一般', '否'],\n",
    "           ['中年', '否', '否', '好', '否'],\n",
    "           ['中年', '是', '是', '好', '是'],\n",
    "           ['中年', '否', '是', '非常好', '是'],\n",
    "           ['中年', '否', '是', '非常好', '是'],\n",
    "           ['老年', '否', '是', '非常好', '是'],\n",
    "           ['老年', '否', '是', '好', '是'],\n",
    "           ['老年', '是', '否', '好', '是'],\n",
    "           ['老年', '是', '否', '非常好', '是'],\n",
    "           ['老年', '否', '否', '一般', '否'],\n",
    "           ]\n",
    "    labels = [u'年龄', u'有工作', u'有自己的房子', u'信贷情况', u'类别']\n",
    "    \n",
    "    return datasets,labels"
   ]
  },
  {
   "cell_type": "code",
   "execution_count": 3,
   "metadata": {
    "ExecuteTime": {
     "end_time": "2019-04-23T01:11:12.677538Z",
     "start_time": "2019-04-23T01:11:12.649537Z"
    }
   },
   "outputs": [],
   "source": [
    "datasets,labels=create_data()\n",
    "train_data=pd.DataFrame(datasets,columns=labels)\n",
    "train_data2=train_data\n",
    "train_data2.columns=['Age','Work','Hourse','Loan','Category']"
   ]
  },
  {
   "cell_type": "code",
   "execution_count": 4,
   "metadata": {
    "ExecuteTime": {
     "end_time": "2019-04-23T01:11:12.727541Z",
     "start_time": "2019-04-23T01:11:12.678538Z"
    }
   },
   "outputs": [
    {
     "data": {
      "text/html": [
       "<div>\n",
       "<style scoped>\n",
       "    .dataframe tbody tr th:only-of-type {\n",
       "        vertical-align: middle;\n",
       "    }\n",
       "\n",
       "    .dataframe tbody tr th {\n",
       "        vertical-align: top;\n",
       "    }\n",
       "\n",
       "    .dataframe thead th {\n",
       "        text-align: right;\n",
       "    }\n",
       "</style>\n",
       "<table border=\"1\" class=\"dataframe\">\n",
       "  <thead>\n",
       "    <tr style=\"text-align: right;\">\n",
       "      <th></th>\n",
       "      <th>Age</th>\n",
       "      <th>Work</th>\n",
       "      <th>Hourse</th>\n",
       "      <th>Loan</th>\n",
       "      <th>Category</th>\n",
       "    </tr>\n",
       "  </thead>\n",
       "  <tbody>\n",
       "    <tr>\n",
       "      <th>0</th>\n",
       "      <td>青年</td>\n",
       "      <td>否</td>\n",
       "      <td>否</td>\n",
       "      <td>一般</td>\n",
       "      <td>否</td>\n",
       "    </tr>\n",
       "    <tr>\n",
       "      <th>1</th>\n",
       "      <td>青年</td>\n",
       "      <td>否</td>\n",
       "      <td>否</td>\n",
       "      <td>好</td>\n",
       "      <td>否</td>\n",
       "    </tr>\n",
       "    <tr>\n",
       "      <th>2</th>\n",
       "      <td>青年</td>\n",
       "      <td>是</td>\n",
       "      <td>否</td>\n",
       "      <td>好</td>\n",
       "      <td>是</td>\n",
       "    </tr>\n",
       "    <tr>\n",
       "      <th>3</th>\n",
       "      <td>青年</td>\n",
       "      <td>是</td>\n",
       "      <td>是</td>\n",
       "      <td>一般</td>\n",
       "      <td>是</td>\n",
       "    </tr>\n",
       "    <tr>\n",
       "      <th>4</th>\n",
       "      <td>青年</td>\n",
       "      <td>否</td>\n",
       "      <td>否</td>\n",
       "      <td>一般</td>\n",
       "      <td>否</td>\n",
       "    </tr>\n",
       "    <tr>\n",
       "      <th>5</th>\n",
       "      <td>中年</td>\n",
       "      <td>否</td>\n",
       "      <td>否</td>\n",
       "      <td>一般</td>\n",
       "      <td>否</td>\n",
       "    </tr>\n",
       "    <tr>\n",
       "      <th>6</th>\n",
       "      <td>中年</td>\n",
       "      <td>否</td>\n",
       "      <td>否</td>\n",
       "      <td>好</td>\n",
       "      <td>否</td>\n",
       "    </tr>\n",
       "    <tr>\n",
       "      <th>7</th>\n",
       "      <td>中年</td>\n",
       "      <td>是</td>\n",
       "      <td>是</td>\n",
       "      <td>好</td>\n",
       "      <td>是</td>\n",
       "    </tr>\n",
       "    <tr>\n",
       "      <th>8</th>\n",
       "      <td>中年</td>\n",
       "      <td>否</td>\n",
       "      <td>是</td>\n",
       "      <td>非常好</td>\n",
       "      <td>是</td>\n",
       "    </tr>\n",
       "    <tr>\n",
       "      <th>9</th>\n",
       "      <td>中年</td>\n",
       "      <td>否</td>\n",
       "      <td>是</td>\n",
       "      <td>非常好</td>\n",
       "      <td>是</td>\n",
       "    </tr>\n",
       "    <tr>\n",
       "      <th>10</th>\n",
       "      <td>老年</td>\n",
       "      <td>否</td>\n",
       "      <td>是</td>\n",
       "      <td>非常好</td>\n",
       "      <td>是</td>\n",
       "    </tr>\n",
       "    <tr>\n",
       "      <th>11</th>\n",
       "      <td>老年</td>\n",
       "      <td>否</td>\n",
       "      <td>是</td>\n",
       "      <td>好</td>\n",
       "      <td>是</td>\n",
       "    </tr>\n",
       "    <tr>\n",
       "      <th>12</th>\n",
       "      <td>老年</td>\n",
       "      <td>是</td>\n",
       "      <td>否</td>\n",
       "      <td>好</td>\n",
       "      <td>是</td>\n",
       "    </tr>\n",
       "    <tr>\n",
       "      <th>13</th>\n",
       "      <td>老年</td>\n",
       "      <td>是</td>\n",
       "      <td>否</td>\n",
       "      <td>非常好</td>\n",
       "      <td>是</td>\n",
       "    </tr>\n",
       "    <tr>\n",
       "      <th>14</th>\n",
       "      <td>老年</td>\n",
       "      <td>否</td>\n",
       "      <td>否</td>\n",
       "      <td>一般</td>\n",
       "      <td>否</td>\n",
       "    </tr>\n",
       "  </tbody>\n",
       "</table>\n",
       "</div>"
      ],
      "text/plain": [
       "   Age Work Hourse Loan Category\n",
       "0   青年    否      否   一般        否\n",
       "1   青年    否      否    好        否\n",
       "2   青年    是      否    好        是\n",
       "3   青年    是      是   一般        是\n",
       "4   青年    否      否   一般        否\n",
       "5   中年    否      否   一般        否\n",
       "6   中年    否      否    好        否\n",
       "7   中年    是      是    好        是\n",
       "8   中年    否      是  非常好        是\n",
       "9   中年    否      是  非常好        是\n",
       "10  老年    否      是  非常好        是\n",
       "11  老年    否      是    好        是\n",
       "12  老年    是      否    好        是\n",
       "13  老年    是      否  非常好        是\n",
       "14  老年    否      否   一般        否"
      ]
     },
     "execution_count": 4,
     "metadata": {},
     "output_type": "execute_result"
    }
   ],
   "source": [
    "train_data2"
   ]
  },
  {
   "cell_type": "code",
   "execution_count": 5,
   "metadata": {
    "ExecuteTime": {
     "end_time": "2019-04-23T01:11:12.734541Z",
     "start_time": "2019-04-23T01:11:12.728541Z"
    }
   },
   "outputs": [
    {
     "data": {
      "text/plain": [
       "{'否': 6, '是': 9}"
      ]
     },
     "execution_count": 5,
     "metadata": {},
     "output_type": "execute_result"
    }
   ],
   "source": [
    "dict(train_data2.Category.value_counts())"
   ]
  },
  {
   "cell_type": "code",
   "execution_count": 6,
   "metadata": {
    "ExecuteTime": {
     "end_time": "2019-04-23T01:11:12.740542Z",
     "start_time": "2019-04-23T01:11:12.735541Z"
    }
   },
   "outputs": [
    {
     "data": {
      "text/plain": [
       "3.0"
      ]
     },
     "execution_count": 6,
     "metadata": {},
     "output_type": "execute_result"
    }
   ],
   "source": [
    "math.log(8,2)"
   ]
  },
  {
   "cell_type": "code",
   "execution_count": 7,
   "metadata": {
    "ExecuteTime": {
     "end_time": "2019-04-23T01:11:12.748542Z",
     "start_time": "2019-04-23T01:11:12.741542Z"
    }
   },
   "outputs": [],
   "source": [
    "def emp_ent(col):\n",
    "    length=len(col)\n",
    "    eent=0\n",
    "    for k,v in dict(col.value_counts()).items():\n",
    "        p=v/float(length)\n",
    "        eent+=p*math.log(p,2)\n",
    "    return -eent\n",
    "    "
   ]
  },
  {
   "cell_type": "code",
   "execution_count": 8,
   "metadata": {
    "ExecuteTime": {
     "end_time": "2019-04-23T01:11:12.757543Z",
     "start_time": "2019-04-23T01:11:12.750542Z"
    }
   },
   "outputs": [
    {
     "data": {
      "text/plain": [
       "0.9709505944546686"
      ]
     },
     "execution_count": 8,
     "metadata": {},
     "output_type": "execute_result"
    }
   ],
   "source": [
    "emp_ent(train_data2.Category)"
   ]
  },
  {
   "cell_type": "code",
   "execution_count": 9,
   "metadata": {
    "ExecuteTime": {
     "end_time": "2019-04-23T01:11:12.766543Z",
     "start_time": "2019-04-23T01:11:12.759543Z"
    }
   },
   "outputs": [],
   "source": [
    "def cond_ent(data,feat,label):\n",
    "    length=len(data[feat])\n",
    "    cent=0\n",
    "    for k,v in dict(data[feat].value_counts()).items():\n",
    "        p=v/float(length)\n",
    "        cent+=p*emp_ent(data[data[feat]==k][label])\n",
    "    return cent\n",
    "    \n",
    "    "
   ]
  },
  {
   "cell_type": "code",
   "execution_count": 10,
   "metadata": {
    "ExecuteTime": {
     "end_time": "2019-04-23T01:11:12.781544Z",
     "start_time": "2019-04-23T01:11:12.768543Z"
    }
   },
   "outputs": [
    {
     "data": {
      "text/plain": [
       "0.8879430945988998"
      ]
     },
     "execution_count": 10,
     "metadata": {},
     "output_type": "execute_result"
    }
   ],
   "source": [
    "cond_ent(train_data2,'Age','Category')"
   ]
  },
  {
   "cell_type": "code",
   "execution_count": 11,
   "metadata": {
    "ExecuteTime": {
     "end_time": "2019-04-23T01:11:12.788545Z",
     "start_time": "2019-04-23T01:11:12.783544Z"
    }
   },
   "outputs": [],
   "source": [
    "def gini_func(data,feat,label):\n",
    "    return emp_ent(data[label])-cond_ent(data,feat,label)"
   ]
  },
  {
   "cell_type": "code",
   "execution_count": 12,
   "metadata": {
    "ExecuteTime": {
     "end_time": "2019-04-23T01:11:12.804545Z",
     "start_time": "2019-04-23T01:11:12.789545Z"
    }
   },
   "outputs": [
    {
     "data": {
      "text/plain": [
       "0.08300749985576883"
      ]
     },
     "execution_count": 12,
     "metadata": {},
     "output_type": "execute_result"
    }
   ],
   "source": [
    "gini_func(train_data2,'Age','Category')"
   ]
  },
  {
   "cell_type": "code",
   "execution_count": 13,
   "metadata": {
    "ExecuteTime": {
     "end_time": "2019-04-23T01:11:12.815546Z",
     "start_time": "2019-04-23T01:11:12.805545Z"
    }
   },
   "outputs": [],
   "source": [
    "def find_max_gini(data,label):\n",
    "    col=data.columns.values.tolist()\n",
    "    col.remove(label)\n",
    "    mgini=0\n",
    "    name=None\n",
    "    for n in col:\n",
    "        t=gini_func(data,n,label)\n",
    "        if mgini<t:\n",
    "            mgini=t\n",
    "            name=n\n",
    "    return (name,mgini)\n",
    "        "
   ]
  },
  {
   "cell_type": "code",
   "execution_count": 14,
   "metadata": {
    "ExecuteTime": {
     "end_time": "2019-04-23T01:11:12.841548Z",
     "start_time": "2019-04-23T01:11:12.817546Z"
    }
   },
   "outputs": [
    {
     "data": {
      "text/plain": [
       "('Hourse', 0.4199730940219749)"
      ]
     },
     "execution_count": 14,
     "metadata": {},
     "output_type": "execute_result"
    }
   ],
   "source": [
    "find_max_gini(train_data2,'Category')"
   ]
  },
  {
   "cell_type": "code",
   "execution_count": 15,
   "metadata": {
    "ExecuteTime": {
     "end_time": "2019-04-23T01:11:12.849548Z",
     "start_time": "2019-04-23T01:11:12.842548Z"
    }
   },
   "outputs": [
    {
     "data": {
      "text/plain": [
       "'否'"
      ]
     },
     "execution_count": 15,
     "metadata": {},
     "output_type": "execute_result"
    }
   ],
   "source": [
    "train_data2.Category.unique()[0]"
   ]
  },
  {
   "cell_type": "code",
   "execution_count": 16,
   "metadata": {
    "ExecuteTime": {
     "end_time": "2019-04-23T01:11:12.855548Z",
     "start_time": "2019-04-23T01:11:12.850548Z"
    }
   },
   "outputs": [],
   "source": [
    "class tree(namedtuple('dt_tree','feat,value ,label,subtree')):\n",
    "    def __repr__(self):\n",
    "        return pformat(tuple(self))"
   ]
  },
  {
   "cell_type": "code",
   "execution_count": 17,
   "metadata": {
    "ExecuteTime": {
     "end_time": "2019-04-23T01:11:12.866549Z",
     "start_time": "2019-04-23T01:11:12.856548Z"
    }
   },
   "outputs": [
    {
     "data": {
      "text/plain": [
       "'是'"
      ]
     },
     "execution_count": 17,
     "metadata": {},
     "output_type": "execute_result"
    }
   ],
   "source": [
    "train_data2.Category.value_counts().sort_values().index[-1]"
   ]
  },
  {
   "cell_type": "code",
   "execution_count": 18,
   "metadata": {
    "ExecuteTime": {
     "end_time": "2019-04-23T01:11:12.913552Z",
     "start_time": "2019-04-23T01:11:12.868549Z"
    }
   },
   "outputs": [],
   "source": [
    "def dt_train(data,label,epsilon=0.1):\n",
    "    col=data.columns.values.tolist()\n",
    "    if len(data[label].unique())==1:\n",
    "        return tree(None,None,data[label][0],None)\n",
    "    \n",
    "    if data.shape[1]==1 and (label !='' or label is not None):\n",
    "        label=sorted(dict(data[label].value_counts()).items(),key=lambda x:x[1])[-1][0]\n",
    "        return tree(None,None,label,None)\n",
    "    \n",
    "    fname,mgini=find_max_gini(data,label)\n",
    "    \n",
    "    if mgini<epsilon:\n",
    "        return tree(fname,None,data[label].value_counts().sort_values().index[-1],None)\n",
    "    \n",
    "    \n",
    "    \n",
    "    tl=None\n",
    "    st=[]\n",
    "    for v in list(set(data[fname])):\n",
    "        ll=len(data[data[fname]==v][label].unique())\n",
    "        if ll ==1:\n",
    "            tl=data[data[fname]==v][label].unique()[0]\n",
    "            tv=v\n",
    "            st.append(tree(None,v,tl,None))    \n",
    "        else:\n",
    "#             print(col)\n",
    "#             print(fname)\n",
    "            col.remove(fname)\n",
    "            temp=dt_train(data[data[fname]==v][col],label)\n",
    "            st.append(tree(None,v,None,temp))\n",
    "        \n",
    "    return tree(fname,None,None,st)"
   ]
  },
  {
   "cell_type": "code",
   "execution_count": 19,
   "metadata": {
    "ExecuteTime": {
     "end_time": "2019-04-23T01:11:12.957554Z",
     "start_time": "2019-04-23T01:11:12.914552Z"
    }
   },
   "outputs": [
    {
     "name": "stdout",
     "output_type": "stream",
     "text": [
      "('Hourse',\n",
      " None,\n",
      " None,\n",
      " [(None,\n",
      " '否',\n",
      " None,\n",
      " ('Work', None, None, [(None, '否', '否', None), (None, '是', '是', None)])),\n",
      "  (None, '是', '是', None)])\n"
     ]
    }
   ],
   "source": [
    "print(dt_train(train_data2,'Category'))"
   ]
  },
  {
   "cell_type": "code",
   "execution_count": 20,
   "metadata": {
    "ExecuteTime": {
     "end_time": "2019-04-23T01:11:12.973555Z",
     "start_time": "2019-04-23T01:11:12.959554Z"
    }
   },
   "outputs": [],
   "source": [
    "def dt_pred(tr,last_col,x):\n",
    "    fv=tr.feat\n",
    "    if fv is None:\n",
    "        fv=last_col\n",
    "    vv=tr.value\n",
    "    lv=tr.label\n",
    "    tv=x[fv][0]\n",
    "    \n",
    "    if vv==tv and lv is not None:\n",
    "        return lv\n",
    "    \n",
    "    if vv ==tv :\n",
    "        lv=dt_pred(tr.subtree,fv,x)\n",
    "    \n",
    "    if lv is None:\n",
    "        i=0\n",
    "        while tr.subtree[i].value != tv:\n",
    "            i+=1\n",
    "        lv=dt_pred(tr.subtree[i],fv,x)\n",
    "    return lv"
   ]
  },
  {
   "cell_type": "code",
   "execution_count": 21,
   "metadata": {
    "ExecuteTime": {
     "end_time": "2019-04-23T01:11:13.024558Z",
     "start_time": "2019-04-23T01:11:12.974555Z"
    }
   },
   "outputs": [
    {
     "data": {
      "text/html": [
       "<div>\n",
       "<style scoped>\n",
       "    .dataframe tbody tr th:only-of-type {\n",
       "        vertical-align: middle;\n",
       "    }\n",
       "\n",
       "    .dataframe tbody tr th {\n",
       "        vertical-align: top;\n",
       "    }\n",
       "\n",
       "    .dataframe thead th {\n",
       "        text-align: right;\n",
       "    }\n",
       "</style>\n",
       "<table border=\"1\" class=\"dataframe\">\n",
       "  <thead>\n",
       "    <tr style=\"text-align: right;\">\n",
       "      <th></th>\n",
       "      <th>Age</th>\n",
       "      <th>Work</th>\n",
       "      <th>Hourse</th>\n",
       "      <th>Loan</th>\n",
       "    </tr>\n",
       "  </thead>\n",
       "  <tbody>\n",
       "    <tr>\n",
       "      <th>0</th>\n",
       "      <td>老年</td>\n",
       "      <td>否</td>\n",
       "      <td>否</td>\n",
       "      <td>一般</td>\n",
       "    </tr>\n",
       "  </tbody>\n",
       "</table>\n",
       "</div>"
      ],
      "text/plain": [
       "  Age Work Hourse Loan\n",
       "0  老年    否      否   一般"
      ]
     },
     "execution_count": 21,
     "metadata": {},
     "output_type": "execute_result"
    }
   ],
   "source": [
    "t_data=np.array(['老年', '否', '否', '一般'])\n",
    "t_data=t_data.reshape(1,4)\n",
    "t_col=train_data2.columns.values.tolist()[:-1]\n",
    "# test_data=pd.DataFrame(np.array(t_data),columns=t_col)\n",
    "test_data=pd.DataFrame(t_data,columns=t_col)\n",
    "test_data"
   ]
  },
  {
   "cell_type": "code",
   "execution_count": 22,
   "metadata": {
    "ExecuteTime": {
     "end_time": "2019-04-23T01:11:13.106563Z",
     "start_time": "2019-04-23T01:11:13.025558Z"
    }
   },
   "outputs": [
    {
     "data": {
      "text/plain": [
       "'否'"
      ]
     },
     "execution_count": 22,
     "metadata": {},
     "output_type": "execute_result"
    }
   ],
   "source": [
    "dt=dt_train(train_data2,'Category')\n",
    "dt_pred(dt,None,test_data)"
   ]
  },
  {
   "cell_type": "markdown",
   "metadata": {},
   "source": [
    "Sklearn.tree.DTClassifier"
   ]
  },
  {
   "cell_type": "code",
   "execution_count": 23,
   "metadata": {
    "ExecuteTime": {
     "end_time": "2019-04-23T01:11:18.521872Z",
     "start_time": "2019-04-23T01:11:13.107563Z"
    }
   },
   "outputs": [],
   "source": [
    "from sklearn.tree import DecisionTreeClassifier\n",
    "from sklearn.tree import export_graphviz\n",
    "import graphviz\n",
    "from sklearn.model_selection import train_test_split\n",
    "from sklearn.datasets import load_iris"
   ]
  },
  {
   "cell_type": "code",
   "execution_count": 24,
   "metadata": {
    "ExecuteTime": {
     "end_time": "2019-04-23T01:11:18.532873Z",
     "start_time": "2019-04-23T01:11:18.523873Z"
    }
   },
   "outputs": [],
   "source": [
    "def create_data2():\n",
    "    iris=load_iris()\n",
    "    df=pd.DataFrame(iris.data,columns=iris.feature_names)\n",
    "    df['label']=iris.target\n",
    "    df.columns = ['sepal length', 'sepal width', 'petal length', 'petal width', 'label']\n",
    "    data = np.array(df.iloc[:100, [0, 1, -1]])\n",
    "    return data[:,:2],data[:,-1]"
   ]
  },
  {
   "cell_type": "code",
   "execution_count": 25,
   "metadata": {
    "ExecuteTime": {
     "end_time": "2019-04-23T01:11:18.616878Z",
     "start_time": "2019-04-23T01:11:18.535873Z"
    }
   },
   "outputs": [],
   "source": [
    "X,y=create_data2()\n",
    "X_train,X_test,y_train,y_test=train_test_split(X,y,test_size=0.3)"
   ]
  },
  {
   "cell_type": "code",
   "execution_count": 26,
   "metadata": {
    "ExecuteTime": {
     "end_time": "2019-04-23T01:11:18.623878Z",
     "start_time": "2019-04-23T01:11:18.618878Z"
    }
   },
   "outputs": [
    {
     "data": {
      "text/plain": [
       "DecisionTreeClassifier(class_weight=None, criterion='gini', max_depth=None,\n",
       "            max_features=None, max_leaf_nodes=None,\n",
       "            min_impurity_decrease=0.0, min_impurity_split=None,\n",
       "            min_samples_leaf=1, min_samples_split=2,\n",
       "            min_weight_fraction_leaf=0.0, presort=False, random_state=None,\n",
       "            splitter='best')"
      ]
     },
     "execution_count": 26,
     "metadata": {},
     "output_type": "execute_result"
    }
   ],
   "source": [
    "clf=DecisionTreeClassifier()\n",
    "clf.fit(X_train,y_train)"
   ]
  },
  {
   "cell_type": "code",
   "execution_count": 27,
   "metadata": {
    "ExecuteTime": {
     "end_time": "2019-04-23T01:11:18.630879Z",
     "start_time": "2019-04-23T01:11:18.625878Z"
    }
   },
   "outputs": [
    {
     "data": {
      "text/plain": [
       "0.9666666666666667"
      ]
     },
     "execution_count": 27,
     "metadata": {},
     "output_type": "execute_result"
    }
   ],
   "source": [
    "clf.score(X_test,y_test)"
   ]
  },
  {
   "cell_type": "code",
   "execution_count": 28,
   "metadata": {
    "ExecuteTime": {
     "end_time": "2019-04-23T01:11:18.639879Z",
     "start_time": "2019-04-23T01:11:18.632879Z"
    }
   },
   "outputs": [],
   "source": [
    "tree_image=export_graphviz(clf,out_file='dtt1.pdf')\n",
    "with open(\"dtt1.pdf\") as f:\n",
    "    dot_graph=f.read()"
   ]
  },
  {
   "cell_type": "code",
   "execution_count": 29,
   "metadata": {
    "ExecuteTime": {
     "end_time": "2019-04-23T01:11:18.645880Z",
     "start_time": "2019-04-23T01:11:18.641879Z"
    }
   },
   "outputs": [],
   "source": [
    "# graphviz.Source(dot_graph)"
   ]
  },
  {
   "cell_type": "code",
   "execution_count": 30,
   "metadata": {
    "ExecuteTime": {
     "end_time": "2019-04-23T01:11:18.652880Z",
     "start_time": "2019-04-23T01:11:18.647880Z"
    }
   },
   "outputs": [
    {
     "data": {
      "text/plain": [
       "{'中年', '老年', '青年'}"
      ]
     },
     "execution_count": 30,
     "metadata": {},
     "output_type": "execute_result"
    }
   ],
   "source": [
    "set(train_data2['Age'])"
   ]
  },
  {
   "cell_type": "code",
   "execution_count": 31,
   "metadata": {
    "ExecuteTime": {
     "end_time": "2019-04-23T01:11:18.664881Z",
     "start_time": "2019-04-23T01:11:18.654880Z"
    }
   },
   "outputs": [
    {
     "data": {
      "text/plain": [
       "15"
      ]
     },
     "execution_count": 31,
     "metadata": {},
     "output_type": "execute_result"
    }
   ],
   "source": [
    "train_data2['Age'].shape[0]"
   ]
  },
  {
   "cell_type": "code",
   "execution_count": 32,
   "metadata": {
    "ExecuteTime": {
     "end_time": "2019-04-23T01:11:18.679881Z",
     "start_time": "2019-04-23T01:11:18.665881Z"
    }
   },
   "outputs": [],
   "source": [
    "def gini_func2(data,feat,label):\n",
    "    lv='是'\n",
    "    length=data.shape[0]\n",
    "    g={}\n",
    "    for n in set(data[feat]):\n",
    "        a=data[data[feat]==n].shape[0] /length\n",
    "        p1=data[(data[label]==lv) & (data[feat]==n)][label].shape[0] /data[data[feat]==n].shape[0]\n",
    "        p2=data[(data[label]==lv) & (data[feat]!=n)][label].shape[0] /data[data[feat]!=n].shape[0]\n",
    "        gv=a * (2*p1*(1-p1))+(1-a)*(2*p2*(1-p2))\n",
    "        g[n]=gv\n",
    "#         print('a: '+str(a))\n",
    "#         print('p: '+str(p))\n",
    "    return g"
   ]
  },
  {
   "cell_type": "code",
   "execution_count": 33,
   "metadata": {
    "ExecuteTime": {
     "end_time": "2019-04-23T01:11:18.698883Z",
     "start_time": "2019-04-23T01:11:18.681882Z"
    }
   },
   "outputs": [
    {
     "data": {
      "text/plain": [
       "{'中年': 0.48, '老年': 0.44, '青年': 0.44000000000000006}"
      ]
     },
     "execution_count": 33,
     "metadata": {},
     "output_type": "execute_result"
    }
   ],
   "source": [
    "gini_func2(train_data2,'Age','Category')"
   ]
  },
  {
   "cell_type": "code",
   "execution_count": 34,
   "metadata": {
    "ExecuteTime": {
     "end_time": "2019-04-23T01:11:18.712883Z",
     "start_time": "2019-04-23T01:11:18.700883Z"
    }
   },
   "outputs": [
    {
     "data": {
      "text/plain": [
       "{'否': 0.26666666666666666, '是': 0.26666666666666666}"
      ]
     },
     "execution_count": 34,
     "metadata": {},
     "output_type": "execute_result"
    }
   ],
   "source": [
    "gini_func2(train_data2,'Hourse','Category')"
   ]
  },
  {
   "cell_type": "code",
   "execution_count": 35,
   "metadata": {
    "ExecuteTime": {
     "end_time": "2019-04-23T01:11:18.725884Z",
     "start_time": "2019-04-23T01:11:18.714883Z"
    }
   },
   "outputs": [
    {
     "data": {
      "text/plain": [
       "{'否': 0.26666666666666666, '是': 0.26666666666666666}"
      ]
     },
     "execution_count": 35,
     "metadata": {},
     "output_type": "execute_result"
    }
   ],
   "source": [
    "gini_func2(train_data2,'Hourse','Category')"
   ]
  },
  {
   "cell_type": "code",
   "execution_count": 36,
   "metadata": {
    "ExecuteTime": {
     "end_time": "2019-04-23T01:11:18.746885Z",
     "start_time": "2019-04-23T01:11:18.726884Z"
    }
   },
   "outputs": [],
   "source": [
    "def find_min_gini(data,label):\n",
    "    col=data.columns.values.tolist()\n",
    "    col.remove(label)\n",
    "    name=None\n",
    "    gm=1\n",
    "    gn=None\n",
    "    gn1=None\n",
    "    for n in col:\n",
    "        temp=gini_func2(data,n,label)\n",
    "        \n",
    "        gn1,gv=sorted(temp.items(),key=lambda x:x[1])[0]\n",
    "        \n",
    "        if len(temp)==2 and  len(data[data[n]==gn1][label].unique())!=1:\n",
    "#             print(\"test\")\n",
    "            gn1,gv=sorted(temp.items(),key=lambda x:x[1])[-1]\n",
    "        if gm>gv:\n",
    "            gm=gv\n",
    "            gn=gn1\n",
    "            name=n\n",
    "    return name,gn,gm\n",
    "\n",
    "                  "
   ]
  },
  {
   "cell_type": "code",
   "execution_count": 37,
   "metadata": {
    "ExecuteTime": {
     "end_time": "2019-04-23T01:11:18.760886Z",
     "start_time": "2019-04-23T01:11:18.747885Z"
    }
   },
   "outputs": [],
   "source": [
    "def find_gini(data,label):\n",
    "    col=data.columns.values.tolist()\n",
    "    col.remove(label)\n",
    "    name=None\n",
    "    gm=1\n",
    "    gr={}\n",
    "    for n in col:\n",
    "        temp=gini_func2(data,n,label)\n",
    "        tn,tg=sorted(temp.items(),key=lambda x:x[1])[0]\n",
    "        if len(temp)==2 and  len(data[data[n]==tn][label].unique())!=1:\n",
    "            tn,tg=sorted(temp.items(),key=lambda x:x[1])[1]\n",
    "        gr[n]=[tn,tg]\n",
    "    return gr\n",
    "        "
   ]
  },
  {
   "cell_type": "code",
   "execution_count": 38,
   "metadata": {
    "ExecuteTime": {
     "end_time": "2019-04-23T01:11:18.797888Z",
     "start_time": "2019-04-23T01:11:18.762886Z"
    }
   },
   "outputs": [
    {
     "data": {
      "text/plain": [
       "{'Age': ['老年', 0.44],\n",
       " 'Hourse': ['是', 0.26666666666666666],\n",
       " 'Loan': ['一般', 0.32],\n",
       " 'Work': ['是', 0.32]}"
      ]
     },
     "execution_count": 38,
     "metadata": {},
     "output_type": "execute_result"
    }
   ],
   "source": [
    "find_gini(train_data2,'Category')"
   ]
  },
  {
   "cell_type": "code",
   "execution_count": 39,
   "metadata": {
    "ExecuteTime": {
     "end_time": "2019-04-23T01:11:18.835890Z",
     "start_time": "2019-04-23T01:11:18.799888Z"
    }
   },
   "outputs": [
    {
     "data": {
      "text/plain": [
       "[('Hourse', ['是', 0.26666666666666666]),\n",
       " ('Work', ['是', 0.32]),\n",
       " ('Loan', ['一般', 0.32]),\n",
       " ('Age', ['老年', 0.44])]"
      ]
     },
     "execution_count": 39,
     "metadata": {},
     "output_type": "execute_result"
    }
   ],
   "source": [
    "sorted(find_gini(train_data2,'Category').items(),key=lambda x:x[1][1])"
   ]
  },
  {
   "cell_type": "code",
   "execution_count": 40,
   "metadata": {
    "ExecuteTime": {
     "end_time": "2019-04-23T01:11:18.851891Z",
     "start_time": "2019-04-23T01:11:18.836890Z"
    }
   },
   "outputs": [
    {
     "data": {
      "text/plain": [
       "{'一般': 0.32, '好': 0.4740740740740741, '非常好': 0.36363636363636365}"
      ]
     },
     "execution_count": 40,
     "metadata": {},
     "output_type": "execute_result"
    }
   ],
   "source": [
    " gini_func2(train_data2[['Age', 'Loan', 'Category']],'Loan','Category')"
   ]
  },
  {
   "cell_type": "code",
   "execution_count": 41,
   "metadata": {
    "ExecuteTime": {
     "end_time": "2019-04-23T01:11:18.888893Z",
     "start_time": "2019-04-23T01:11:18.852891Z"
    }
   },
   "outputs": [
    {
     "data": {
      "text/plain": [
       "('Hourse', '是', 0.26666666666666666)"
      ]
     },
     "execution_count": 41,
     "metadata": {},
     "output_type": "execute_result"
    }
   ],
   "source": [
    "find_min_gini(train_data2,'Category')"
   ]
  },
  {
   "cell_type": "code",
   "execution_count": 42,
   "metadata": {
    "ExecuteTime": {
     "end_time": "2019-04-23T01:11:18.913895Z",
     "start_time": "2019-04-23T01:11:18.889894Z"
    }
   },
   "outputs": [
    {
     "data": {
      "text/plain": [
       "('Loan', '一般', 0.32)"
      ]
     },
     "execution_count": 42,
     "metadata": {},
     "output_type": "execute_result"
    }
   ],
   "source": [
    "find_min_gini(train_data2[['Age', 'Loan', 'Category']],'Category')"
   ]
  },
  {
   "cell_type": "code",
   "execution_count": 43,
   "metadata": {
    "ExecuteTime": {
     "end_time": "2019-04-23T01:11:18.944897Z",
     "start_time": "2019-04-23T01:11:18.914895Z"
    }
   },
   "outputs": [
    {
     "data": {
      "text/plain": [
       "('Work', '是', 0.32)"
      ]
     },
     "execution_count": 43,
     "metadata": {},
     "output_type": "execute_result"
    }
   ],
   "source": [
    "find_min_gini(train_data2[['Age', 'Work', 'Loan', 'Category']],'Category')"
   ]
  },
  {
   "cell_type": "code",
   "execution_count": 44,
   "metadata": {
    "ExecuteTime": {
     "end_time": "2019-04-23T01:11:18.953897Z",
     "start_time": "2019-04-23T01:11:18.946897Z"
    }
   },
   "outputs": [
    {
     "data": {
      "text/plain": [
       "['Age', 'Work', 'Hourse', 'Loan', 'Category']"
      ]
     },
     "execution_count": 44,
     "metadata": {},
     "output_type": "execute_result"
    }
   ],
   "source": [
    "train_data2.columns.values.tolist()"
   ]
  },
  {
   "cell_type": "code",
   "execution_count": 45,
   "metadata": {
    "ExecuteTime": {
     "end_time": "2019-04-23T01:11:18.989899Z",
     "start_time": "2019-04-23T01:11:18.954897Z"
    }
   },
   "outputs": [
    {
     "data": {
      "text/plain": [
       "{'Age': ['老年', 0.44],\n",
       " 'Hourse': ['是', 0.26666666666666666],\n",
       " 'Loan': ['一般', 0.32],\n",
       " 'Work': ['是', 0.32]}"
      ]
     },
     "execution_count": 45,
     "metadata": {},
     "output_type": "execute_result"
    }
   ],
   "source": [
    "find_gini(train_data2,'Category')"
   ]
  },
  {
   "cell_type": "code",
   "execution_count": 46,
   "metadata": {
    "ExecuteTime": {
     "end_time": "2019-04-23T01:11:19.024901Z",
     "start_time": "2019-04-23T01:11:18.990899Z"
    }
   },
   "outputs": [
    {
     "name": "stdout",
     "output_type": "stream",
     "text": [
      "{'Age': ['老年', 0.44], 'Work': ['是', 0.32], 'Hourse': ['是', 0.26666666666666666], 'Loan': ['一般', 0.32]}\n"
     ]
    }
   ],
   "source": [
    "a=find_gini(train_data2,'Category')\n",
    "print(a)"
   ]
  },
  {
   "cell_type": "code",
   "execution_count": 48,
   "metadata": {
    "ExecuteTime": {
     "end_time": "2019-04-23T08:40:03.551502Z",
     "start_time": "2019-04-23T08:40:03.484498Z"
    }
   },
   "outputs": [],
   "source": [
    "def dt_train2(alldata,data,label,epsilon=0.1):\n",
    "    col=data.columns.values.tolist()\n",
    "#     if len(data[label].unique())==1:\n",
    "#         return tree(None,None,data[label][0],None)\n",
    "    \n",
    "    if data.shape[1]==1 :\n",
    "        return tree(None,None,None,None)\n",
    "    \n",
    "\n",
    "    \n",
    "#     if mgini<epsilon:\n",
    "#         return tree(fname,None,data[label].value_counts().sort_values().index[-1],None)\n",
    "    st=[]\n",
    "    gdict=find_gini(alldata,label)\n",
    "    m=alldata.shape[1]-data.shape[1]\n",
    "    fn,v = sorted(gdict.items(),key=lambda x:x[1][1])[m]\n",
    "    fv=v[0]\n",
    "    print('fn:'+str(fn))\n",
    "    print('fv:'+str(fv))\n",
    "    print('gini:'+str(v[1]))\n",
    "    print(data)\n",
    "    lv=sorted(Counter(data[data[fn]==fv][label]).items(),key=lambda x:x[1])[-1][0]\n",
    "    if data.shape[1]>2:\n",
    "        lv=sorted(Counter(data[data[fn]==fv][label]).items()\n",
    "                  ,key=lambda x:x[1])[-1][0]\n",
    "    else:\n",
    "\n",
    "        print('lv:'+lv)\n",
    "        col.remove(fn)\n",
    "        print(col)\n",
    "    #     print(data[data[fn]!=fv][col])\n",
    "        temp=dt_train2(alldata,data[data[fn]!=fv][col],label)\n",
    "        ts.append(dttree(None,v,None,temp))\n",
    "    return tree(fn,fv,lv,st)\n"
   ]
  },
  {
   "cell_type": "code",
   "execution_count": 49,
   "metadata": {
    "ExecuteTime": {
     "end_time": "2019-04-23T08:40:04.349547Z",
     "start_time": "2019-04-23T08:40:04.334547Z"
    }
   },
   "outputs": [
    {
     "data": {
      "text/plain": [
       "[('否', 6), ('是', 9)]"
      ]
     },
     "execution_count": 49,
     "metadata": {},
     "output_type": "execute_result"
    }
   ],
   "source": [
    "sorted(Counter(train_data2['Category']).items(),key=lambda x:x[1])"
   ]
  },
  {
   "cell_type": "code",
   "execution_count": null,
   "metadata": {
    "ExecuteTime": {
     "end_time": "2019-04-23T01:11:19.070904Z",
     "start_time": "2019-04-23T01:11:11.957Z"
    }
   },
   "outputs": [],
   "source": [
    "print(dt_train2(train_data2,train_data2,'Category'))"
   ]
  },
  {
   "cell_type": "code",
   "execution_count": null,
   "metadata": {
    "ExecuteTime": {
     "end_time": "2019-04-23T01:11:19.071904Z",
     "start_time": "2019-04-23T01:11:11.959Z"
    }
   },
   "outputs": [],
   "source": [
    "train_data2[(train_data2['Work']!='是') & (train_data2['Hourse']!='是')][['Age','Loan','Category']]"
   ]
  },
  {
   "cell_type": "code",
   "execution_count": null,
   "metadata": {
    "ExecuteTime": {
     "end_time": "2019-04-23T01:11:19.072904Z",
     "start_time": "2019-04-23T01:11:11.961Z"
    }
   },
   "outputs": [],
   "source": [
    "gini_func2(train_data2[(train_data2['Work']!='是') & (train_data2['Hourse']!='是')]\n",
    "[['Age','Loan','Category']],'Loan','Category')"
   ]
  },
  {
   "cell_type": "code",
   "execution_count": null,
   "metadata": {},
   "outputs": [],
   "source": []
  }
 ],
 "metadata": {
  "kernelspec": {
   "display_name": "Python 3",
   "language": "python",
   "name": "python3"
  },
  "language_info": {
   "codemirror_mode": {
    "name": "ipython",
    "version": 3
   },
   "file_extension": ".py",
   "mimetype": "text/x-python",
   "name": "python",
   "nbconvert_exporter": "python",
   "pygments_lexer": "ipython3",
   "version": "3.6.3"
  }
 },
 "nbformat": 4,
 "nbformat_minor": 2
}
