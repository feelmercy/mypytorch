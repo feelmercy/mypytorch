{
 "cells": [
  {
   "cell_type": "code",
   "execution_count": 2,
   "metadata": {
    "ExecuteTime": {
     "end_time": "2019-03-29T07:25:29.062219Z",
     "start_time": "2019-03-29T07:25:22.593849Z"
    }
   },
   "outputs": [],
   "source": [
    "import numpy as np\n",
    "import pandas as pd\n",
    "import matplotlib.pyplot as plt\n",
    "\n",
    "from collections import Counter\n",
    "import math\n",
    "from math import log\n",
    "\n",
    "from  pprint import pformat\n",
    "from collections import namedtuple"
   ]
  },
  {
   "cell_type": "code",
   "execution_count": 3,
   "metadata": {
    "ExecuteTime": {
     "end_time": "2019-03-29T07:25:29.098221Z",
     "start_time": "2019-03-29T07:25:29.067219Z"
    }
   },
   "outputs": [],
   "source": [
    "def create_data():\n",
    "    datasets = [['青年', '否', '否', '一般', '否'],\n",
    "           ['青年', '否', '否', '好', '否'],\n",
    "           ['青年', '是', '否', '好', '是'],\n",
    "           ['青年', '是', '是', '一般', '是'],\n",
    "           ['青年', '否', '否', '一般', '否'],\n",
    "           ['中年', '否', '否', '一般', '否'],\n",
    "           ['中年', '否', '否', '好', '否'],\n",
    "           ['中年', '是', '是', '好', '是'],\n",
    "           ['中年', '否', '是', '非常好', '是'],\n",
    "           ['中年', '否', '是', '非常好', '是'],\n",
    "           ['老年', '否', '是', '非常好', '是'],\n",
    "           ['老年', '否', '是', '好', '是'],\n",
    "           ['老年', '是', '否', '好', '是'],\n",
    "           ['老年', '是', '否', '非常好', '是'],\n",
    "           ['老年', '否', '否', '一般', '否'],\n",
    "           ]\n",
    "    labels = [u'年龄', u'有工作', u'有自己的房子', u'信贷情况', u'类别']\n",
    "    \n",
    "    return datasets,labels"
   ]
  },
  {
   "cell_type": "code",
   "execution_count": 4,
   "metadata": {
    "ExecuteTime": {
     "end_time": "2019-03-29T07:25:29.107222Z",
     "start_time": "2019-03-29T07:25:29.101221Z"
    }
   },
   "outputs": [],
   "source": [
    "datasets,labels=create_data()"
   ]
  },
  {
   "cell_type": "code",
   "execution_count": 5,
   "metadata": {
    "ExecuteTime": {
     "end_time": "2019-03-29T07:25:29.118222Z",
     "start_time": "2019-03-29T07:25:29.109222Z"
    }
   },
   "outputs": [],
   "source": [
    "train_data=pd.DataFrame(datasets,columns=labels)"
   ]
  },
  {
   "cell_type": "code",
   "execution_count": 6,
   "metadata": {
    "ExecuteTime": {
     "end_time": "2019-03-29T07:25:29.261231Z",
     "start_time": "2019-03-29T07:25:29.120222Z"
    }
   },
   "outputs": [
    {
     "data": {
      "text/html": [
       "<div>\n",
       "<style scoped>\n",
       "    .dataframe tbody tr th:only-of-type {\n",
       "        vertical-align: middle;\n",
       "    }\n",
       "\n",
       "    .dataframe tbody tr th {\n",
       "        vertical-align: top;\n",
       "    }\n",
       "\n",
       "    .dataframe thead th {\n",
       "        text-align: right;\n",
       "    }\n",
       "</style>\n",
       "<table border=\"1\" class=\"dataframe\">\n",
       "  <thead>\n",
       "    <tr style=\"text-align: right;\">\n",
       "      <th></th>\n",
       "      <th>年龄</th>\n",
       "      <th>有工作</th>\n",
       "      <th>有自己的房子</th>\n",
       "      <th>信贷情况</th>\n",
       "      <th>类别</th>\n",
       "    </tr>\n",
       "  </thead>\n",
       "  <tbody>\n",
       "    <tr>\n",
       "      <th>0</th>\n",
       "      <td>青年</td>\n",
       "      <td>否</td>\n",
       "      <td>否</td>\n",
       "      <td>一般</td>\n",
       "      <td>否</td>\n",
       "    </tr>\n",
       "    <tr>\n",
       "      <th>1</th>\n",
       "      <td>青年</td>\n",
       "      <td>否</td>\n",
       "      <td>否</td>\n",
       "      <td>好</td>\n",
       "      <td>否</td>\n",
       "    </tr>\n",
       "    <tr>\n",
       "      <th>2</th>\n",
       "      <td>青年</td>\n",
       "      <td>是</td>\n",
       "      <td>否</td>\n",
       "      <td>好</td>\n",
       "      <td>是</td>\n",
       "    </tr>\n",
       "    <tr>\n",
       "      <th>3</th>\n",
       "      <td>青年</td>\n",
       "      <td>是</td>\n",
       "      <td>是</td>\n",
       "      <td>一般</td>\n",
       "      <td>是</td>\n",
       "    </tr>\n",
       "    <tr>\n",
       "      <th>4</th>\n",
       "      <td>青年</td>\n",
       "      <td>否</td>\n",
       "      <td>否</td>\n",
       "      <td>一般</td>\n",
       "      <td>否</td>\n",
       "    </tr>\n",
       "    <tr>\n",
       "      <th>5</th>\n",
       "      <td>中年</td>\n",
       "      <td>否</td>\n",
       "      <td>否</td>\n",
       "      <td>一般</td>\n",
       "      <td>否</td>\n",
       "    </tr>\n",
       "    <tr>\n",
       "      <th>6</th>\n",
       "      <td>中年</td>\n",
       "      <td>否</td>\n",
       "      <td>否</td>\n",
       "      <td>好</td>\n",
       "      <td>否</td>\n",
       "    </tr>\n",
       "    <tr>\n",
       "      <th>7</th>\n",
       "      <td>中年</td>\n",
       "      <td>是</td>\n",
       "      <td>是</td>\n",
       "      <td>好</td>\n",
       "      <td>是</td>\n",
       "    </tr>\n",
       "    <tr>\n",
       "      <th>8</th>\n",
       "      <td>中年</td>\n",
       "      <td>否</td>\n",
       "      <td>是</td>\n",
       "      <td>非常好</td>\n",
       "      <td>是</td>\n",
       "    </tr>\n",
       "    <tr>\n",
       "      <th>9</th>\n",
       "      <td>中年</td>\n",
       "      <td>否</td>\n",
       "      <td>是</td>\n",
       "      <td>非常好</td>\n",
       "      <td>是</td>\n",
       "    </tr>\n",
       "    <tr>\n",
       "      <th>10</th>\n",
       "      <td>老年</td>\n",
       "      <td>否</td>\n",
       "      <td>是</td>\n",
       "      <td>非常好</td>\n",
       "      <td>是</td>\n",
       "    </tr>\n",
       "    <tr>\n",
       "      <th>11</th>\n",
       "      <td>老年</td>\n",
       "      <td>否</td>\n",
       "      <td>是</td>\n",
       "      <td>好</td>\n",
       "      <td>是</td>\n",
       "    </tr>\n",
       "    <tr>\n",
       "      <th>12</th>\n",
       "      <td>老年</td>\n",
       "      <td>是</td>\n",
       "      <td>否</td>\n",
       "      <td>好</td>\n",
       "      <td>是</td>\n",
       "    </tr>\n",
       "    <tr>\n",
       "      <th>13</th>\n",
       "      <td>老年</td>\n",
       "      <td>是</td>\n",
       "      <td>否</td>\n",
       "      <td>非常好</td>\n",
       "      <td>是</td>\n",
       "    </tr>\n",
       "    <tr>\n",
       "      <th>14</th>\n",
       "      <td>老年</td>\n",
       "      <td>否</td>\n",
       "      <td>否</td>\n",
       "      <td>一般</td>\n",
       "      <td>否</td>\n",
       "    </tr>\n",
       "  </tbody>\n",
       "</table>\n",
       "</div>"
      ],
      "text/plain": [
       "    年龄 有工作 有自己的房子 信贷情况 类别\n",
       "0   青年   否      否   一般  否\n",
       "1   青年   否      否    好  否\n",
       "2   青年   是      否    好  是\n",
       "3   青年   是      是   一般  是\n",
       "4   青年   否      否   一般  否\n",
       "5   中年   否      否   一般  否\n",
       "6   中年   否      否    好  否\n",
       "7   中年   是      是    好  是\n",
       "8   中年   否      是  非常好  是\n",
       "9   中年   否      是  非常好  是\n",
       "10  老年   否      是  非常好  是\n",
       "11  老年   否      是    好  是\n",
       "12  老年   是      否    好  是\n",
       "13  老年   是      否  非常好  是\n",
       "14  老年   否      否   一般  否"
      ]
     },
     "execution_count": 6,
     "metadata": {},
     "output_type": "execute_result"
    }
   ],
   "source": [
    "train_data"
   ]
  },
  {
   "cell_type": "code",
   "execution_count": 7,
   "metadata": {
    "ExecuteTime": {
     "end_time": "2019-03-29T07:25:29.266231Z",
     "start_time": "2019-03-29T07:25:29.263231Z"
    }
   },
   "outputs": [],
   "source": [
    "train_data2=train_data\n",
    "train_data2.columns=['Age','Work','Hourse','Loan','Category']"
   ]
  },
  {
   "cell_type": "code",
   "execution_count": 8,
   "metadata": {
    "ExecuteTime": {
     "end_time": "2019-03-29T07:25:29.295232Z",
     "start_time": "2019-03-29T07:25:29.268231Z"
    }
   },
   "outputs": [],
   "source": [
    "def emp_ent(col):\n",
    "    data_length = len(col)\n",
    "    label_count = {}\n",
    "#     for i in range(data_length):\n",
    "#         label = datasets[i][-1]\n",
    "#         if label not in label_count:\n",
    "#             label_count[label] = 0\n",
    "#         label_count[label] += 1\n",
    "    label_count=dict(col.value_counts())\n",
    "    ent = -(sum((p/data_length) * math.log((p/data_length),2) for p in label_count.values()))\n",
    "    return ent"
   ]
  },
  {
   "cell_type": "code",
   "execution_count": 9,
   "metadata": {
    "ExecuteTime": {
     "end_time": "2019-03-29T07:25:29.321234Z",
     "start_time": "2019-03-29T07:25:29.297233Z"
    }
   },
   "outputs": [
    {
     "data": {
      "text/plain": [
       "0.9709505944546686"
      ]
     },
     "execution_count": 9,
     "metadata": {},
     "output_type": "execute_result"
    }
   ],
   "source": [
    "emp_ent(train_data2.Category)"
   ]
  },
  {
   "cell_type": "code",
   "execution_count": 10,
   "metadata": {
    "ExecuteTime": {
     "end_time": "2019-03-29T07:25:29.333235Z",
     "start_time": "2019-03-29T07:25:29.323234Z"
    }
   },
   "outputs": [],
   "source": [
    "def cond_ent(data,feat_col,label_col):\n",
    "    lfeat=len(data[feat_col])\n",
    "    feat_value=data[feat_col].unique().tolist()\n",
    "    cent=0\n",
    "    for fv in feat_value:\n",
    "        eent=emp_ent(data[data[feat_col]==fv][label_col])\n",
    "        p=len(data[data[feat_col]==fv][feat_col])/lfeat\n",
    "        cent+=eent*p\n",
    "    return cent\n",
    "        \n",
    "    "
   ]
  },
  {
   "cell_type": "code",
   "execution_count": 11,
   "metadata": {
    "ExecuteTime": {
     "end_time": "2019-03-29T07:25:29.354236Z",
     "start_time": "2019-03-29T07:25:29.335235Z"
    }
   },
   "outputs": [
    {
     "data": {
      "text/plain": [
       "0.8879430945988998"
      ]
     },
     "execution_count": 11,
     "metadata": {},
     "output_type": "execute_result"
    }
   ],
   "source": [
    "cond_ent(train_data2,'Age','Category')"
   ]
  },
  {
   "cell_type": "code",
   "execution_count": 12,
   "metadata": {
    "ExecuteTime": {
     "end_time": "2019-03-29T07:25:29.360236Z",
     "start_time": "2019-03-29T07:25:29.355236Z"
    }
   },
   "outputs": [],
   "source": [
    "def gini_func(data,feat_col,label_col):\n",
    "    return emp_ent(data[label_col])-cond_ent(data,feat_col,label_col)"
   ]
  },
  {
   "cell_type": "code",
   "execution_count": 13,
   "metadata": {
    "ExecuteTime": {
     "end_time": "2019-03-29T07:25:29.374237Z",
     "start_time": "2019-03-29T07:25:29.362236Z"
    }
   },
   "outputs": [
    {
     "data": {
      "text/plain": [
       "0.08300749985576883"
      ]
     },
     "execution_count": 13,
     "metadata": {},
     "output_type": "execute_result"
    }
   ],
   "source": [
    "gini_func(train_data2,'Age','Category')"
   ]
  },
  {
   "cell_type": "code",
   "execution_count": 14,
   "metadata": {
    "ExecuteTime": {
     "end_time": "2019-03-29T07:25:29.385238Z",
     "start_time": "2019-03-29T07:25:29.376237Z"
    }
   },
   "outputs": [],
   "source": [
    "def find_max_gini(data,label_col):\n",
    "    feat_name=data.columns.values.tolist()\n",
    "    feat_name.remove(label_col)\n",
    "    gini_result={}\n",
    "    for fname in feat_name:\n",
    "        gini_result[fname]=gini_func(data,fname,label_col)\n",
    "    max_val=sorted(gini_result.items(),key=lambda x:x[1])[-1]\n",
    "    print(\"max_gini : \"+str(max_val))\n",
    "    return max_val\n",
    "        "
   ]
  },
  {
   "cell_type": "code",
   "execution_count": 15,
   "metadata": {
    "ExecuteTime": {
     "end_time": "2019-03-29T07:25:29.418240Z",
     "start_time": "2019-03-29T07:25:29.387238Z"
    }
   },
   "outputs": [
    {
     "name": "stdout",
     "output_type": "stream",
     "text": [
      "max_gini : ('Hourse', 0.4199730940219749)\n"
     ]
    },
    {
     "data": {
      "text/plain": [
       "('Hourse', 0.4199730940219749)"
      ]
     },
     "execution_count": 15,
     "metadata": {},
     "output_type": "execute_result"
    }
   ],
   "source": [
    "find_max_gini(train_data2,'Category')"
   ]
  },
  {
   "cell_type": "code",
   "execution_count": 16,
   "metadata": {
    "ExecuteTime": {
     "end_time": "2019-03-29T07:25:29.424240Z",
     "start_time": "2019-03-29T07:25:29.419240Z"
    }
   },
   "outputs": [],
   "source": [
    "class tree(namedtuple('dt_tree','feat,value')):\n",
    "    def __repr__(self):\n",
    "        return pformat(tuple(self))"
   ]
  },
  {
   "cell_type": "code",
   "execution_count": 17,
   "metadata": {
    "ExecuteTime": {
     "end_time": "2019-03-29T07:25:29.452241Z",
     "start_time": "2019-03-29T07:25:29.426240Z"
    }
   },
   "outputs": [],
   "source": [
    "def dt_train(data,label_col):\n",
    "    feat_name=data.columns.values.tolist()\n",
    "    feat_name.remove(label_col)\n",
    "    \n",
    "    if len(feat_name)<=1:\n",
    "        return tree(None,None)\n",
    "    \n",
    "    ## find max gini\n",
    "    fname,gvalue=find_max_gini(data,label_col)\n",
    "    print('fname:'+str(fname))\n",
    "    \n",
    "    feat_value=data[fname].unique().tolist()\n",
    "    print('feat_name:'+str(feat_value))\n",
    "    next_value=''\n",
    "    for fvalue in feat_value:\n",
    "        print('fvalue: '+str(fvalue))\n",
    "        label_values=data[data[fname]==fvalue][label_col].unique().tolist()\n",
    "        if len(label_values) ==1:\n",
    "            lvalue=label_values\n",
    "            next_value+='{'+str(fvalue)+':{label:'+str(lvalue)+'}}'\n",
    "        else:\n",
    "            feat_name1=feat_name\n",
    "            feat_name1.remove(fname)\n",
    "            feat_name1.append(label_col)\n",
    "            temp=dt_train(data[data[fname]==fvalue][feat_name1],label_col)\n",
    "            next_value+='{'+str(fvalue)+'{'+str(temp.feat)+','+str(temp.value)+'}}'\n",
    "    return tree(fname,next_value)\n"
   ]
  },
  {
   "cell_type": "code",
   "execution_count": 18,
   "metadata": {
    "ExecuteTime": {
     "end_time": "2019-03-29T07:25:29.500244Z",
     "start_time": "2019-03-29T07:25:29.454242Z"
    }
   },
   "outputs": [
    {
     "name": "stdout",
     "output_type": "stream",
     "text": [
      "max_gini : ('Hourse', 0.4199730940219749)\n",
      "fname:Hourse\n",
      "feat_name:['否', '是']\n",
      "fvalue: 否\n",
      "max_gini : ('Work', 0.9182958340544896)\n",
      "fname:Work\n",
      "feat_name:['否', '是']\n",
      "fvalue: 否\n",
      "fvalue: 是\n",
      "fvalue: 是\n"
     ]
    },
    {
     "data": {
      "text/plain": [
       "('Hourse', \"{否{Work,{否:{label:['否']}}{是:{label:['是']}}}}{是:{label:['是']}}\")"
      ]
     },
     "execution_count": 18,
     "metadata": {},
     "output_type": "execute_result"
    }
   ],
   "source": [
    "dt_train(train_data2,'Category')"
   ]
  },
  {
   "cell_type": "code",
   "execution_count": 19,
   "metadata": {
    "ExecuteTime": {
     "end_time": "2019-03-29T07:25:29.506245Z",
     "start_time": "2019-03-29T07:25:29.502244Z"
    }
   },
   "outputs": [],
   "source": [
    "class tree2(namedtuple('dt_tree','feat,label,value,subtree')):\n",
    "    def __repr__(self):\n",
    "        return pformat(tuple(self))"
   ]
  },
  {
   "cell_type": "code",
   "execution_count": 20,
   "metadata": {
    "ExecuteTime": {
     "end_time": "2019-03-29T07:25:29.546247Z",
     "start_time": "2019-03-29T07:25:29.508245Z"
    }
   },
   "outputs": [],
   "source": [
    "def dt_train2(data,label_col):\n",
    "    feat_name=data.columns.values.tolist()\n",
    "    feat_name.remove(label_col)\n",
    "    \n",
    "    if len(feat_name)<=1:\n",
    "        return tree(None,None,None,None)\n",
    "    \n",
    "    ## find max gini\n",
    "    fname,gvalue=find_max_gini(data,label_col)\n",
    "    print('fname:'+str(fname))\n",
    "    \n",
    "    feat_value=data[fname].unique().tolist()\n",
    "    print('feat_name:'+str(feat_value))\n",
    "#     next_value=''\n",
    "    tl=''\n",
    "    tv=''\n",
    "    st=''\n",
    "    for fvalue in feat_value:\n",
    "        print('fvalue: '+str(fvalue))\n",
    "        label_values=data[data[fname]==fvalue][label_col].unique().tolist()\n",
    "        if len(label_values) ==1:\n",
    "            lvalue=label_values\n",
    "#             next_value+='{'+str(fvalue)+':{label:'+str(lvalue)+'}}'\n",
    "            tl=label_values\n",
    "            tv=fvalue\n",
    "#             return tree2(fname,label_values,fvalue,None)\n",
    "        else:\n",
    "            feat_name1=feat_name\n",
    "            feat_name1.remove(fname)\n",
    "            feat_name1.append(label_col)\n",
    "            temp=dt_train2(data[data[fname]==fvalue][feat_name1],label_col)\n",
    "#             next_value+='{'+str(fvalue)+'{'+str(temp.feat)+','+str(temp.value)+'}}'\n",
    "            st=tree2(fname,None,fvalue,temp) \n",
    "            return tree2(fname,None,fvalue,temp) \n",
    "            \n",
    "    return tree2(fname,tl,tv,st)\n"
   ]
  },
  {
   "cell_type": "code",
   "execution_count": 21,
   "metadata": {
    "ExecuteTime": {
     "end_time": "2019-03-29T07:25:29.589249Z",
     "start_time": "2019-03-29T07:25:29.548247Z"
    }
   },
   "outputs": [
    {
     "name": "stdout",
     "output_type": "stream",
     "text": [
      "max_gini : ('Hourse', 0.4199730940219749)\n",
      "fname:Hourse\n",
      "feat_name:['否', '是']\n",
      "fvalue: 否\n",
      "max_gini : ('Work', 0.9182958340544896)\n",
      "fname:Work\n",
      "feat_name:['否', '是']\n",
      "fvalue: 否\n",
      "fvalue: 是\n",
      "('Hourse', None, '否', ('Work', ['是'], '是', ''))\n"
     ]
    }
   ],
   "source": [
    "print(dt_train2(train_data2,'Category'))"
   ]
  },
  {
   "cell_type": "code",
   "execution_count": 22,
   "metadata": {
    "ExecuteTime": {
     "end_time": "2019-03-29T07:25:29.631252Z",
     "start_time": "2019-03-29T07:25:29.591249Z"
    }
   },
   "outputs": [
    {
     "name": "stdout",
     "output_type": "stream",
     "text": [
      "max_gini : ('Hourse', 0.4199730940219749)\n",
      "fname:Hourse\n",
      "feat_name:['否', '是']\n",
      "fvalue: 否\n",
      "max_gini : ('Work', 0.9182958340544896)\n",
      "fname:Work\n",
      "feat_name:['否', '是']\n",
      "fvalue: 否\n",
      "fvalue: 是\n"
     ]
    },
    {
     "data": {
      "text/plain": [
       "('Hourse', None, '否', ('Work', ['是'], '是', ''))"
      ]
     },
     "execution_count": 22,
     "metadata": {},
     "output_type": "execute_result"
    }
   ],
   "source": [
    "dt_train2(train_data2,'Category')"
   ]
  },
  {
   "cell_type": "code",
   "execution_count": 23,
   "metadata": {
    "ExecuteTime": {
     "end_time": "2019-03-29T07:25:29.636252Z",
     "start_time": "2019-03-29T07:25:29.632252Z"
    }
   },
   "outputs": [],
   "source": [
    "class tree3(namedtuple('dt_tree','feat,value,label,subtree')):\n",
    "    def __repr__(self):\n",
    "        return pformat(tuple(self))"
   ]
  },
  {
   "cell_type": "code",
   "execution_count": 24,
   "metadata": {
    "ExecuteTime": {
     "end_time": "2019-03-29T07:25:29.679254Z",
     "start_time": "2019-03-29T07:25:29.637252Z"
    }
   },
   "outputs": [],
   "source": [
    "def dt_train3(data,label_col):\n",
    "    feat_name=data.columns.values.tolist()\n",
    "    feat_name.remove(label_col)\n",
    "    \n",
    "    if len(feat_name)<=1:\n",
    "        return tree3(None,None,None,None)\n",
    "    \n",
    "    ## find max gini\n",
    "    fname,gvalue=find_max_gini(data,label_col)\n",
    "    print('fname:'+str(fname))\n",
    "    \n",
    "    feat_value=data[fname].unique().tolist()\n",
    "    print('feat_name:'+str(feat_value))\n",
    "    next_value=''\n",
    "    lv=None\n",
    "    fv=None\n",
    "    nv=[]\n",
    "    for fvalue in feat_value:\n",
    "        print('fvalue: '+str(fvalue))\n",
    "        label_values=data[data[fname]==fvalue][label_col].unique().tolist()\n",
    "        if len(label_values) ==1:\n",
    "            lv=label_values\n",
    "            fv=fvalue\n",
    "            # next_value+='{'+str(fvalue)+':{label:'+str(lvalue)+'}}'\n",
    "#             next_value+=',{'+str(fvalue)+str(lvalue)+'}'\n",
    "            nv.append(tree3(None,fv,lv,None))\n",
    "            \n",
    "            \n",
    "        else:\n",
    "            feat_name1=feat_name\n",
    "            feat_name1.remove(fname)\n",
    "            feat_name1.append(label_col)\n",
    "            temp=dt_train3(data[data[fname]==fvalue][feat_name1],label_col)\n",
    "#             next_value+='{'+str(fvalue)+'{'+str(temp.feat)+','+str(temp.value)+'}}'\n",
    "            fv=fvalue\n",
    "            nv.append(tree3(None,fv,None,temp))\n",
    "    return tree3(fname,None,None,nv)\n"
   ]
  },
  {
   "cell_type": "code",
   "execution_count": 25,
   "metadata": {
    "ExecuteTime": {
     "end_time": "2019-03-29T07:25:29.726257Z",
     "start_time": "2019-03-29T07:25:29.681255Z"
    }
   },
   "outputs": [
    {
     "name": "stdout",
     "output_type": "stream",
     "text": [
      "max_gini : ('Hourse', 0.4199730940219749)\n",
      "fname:Hourse\n",
      "feat_name:['否', '是']\n",
      "fvalue: 否\n",
      "max_gini : ('Work', 0.9182958340544896)\n",
      "fname:Work\n",
      "feat_name:['否', '是']\n",
      "fvalue: 否\n",
      "fvalue: 是\n",
      "fvalue: 是\n"
     ]
    },
    {
     "data": {
      "text/plain": [
       "('Hourse',\n",
       " None,\n",
       " None,\n",
       " [(None,\n",
       " '否',\n",
       " None,\n",
       " ('Work', None, None, [(None, '否', ['否'], None), (None, '是', ['是'], None)])),\n",
       "  (None, '是', ['是'], None)])"
      ]
     },
     "execution_count": 25,
     "metadata": {},
     "output_type": "execute_result"
    }
   ],
   "source": [
    "dt_train3(train_data2,'Category')"
   ]
  },
  {
   "cell_type": "code",
   "execution_count": 26,
   "metadata": {
    "ExecuteTime": {
     "end_time": "2019-03-29T07:25:29.730257Z",
     "start_time": "2019-03-29T07:25:29.728257Z"
    }
   },
   "outputs": [],
   "source": [
    "from time import clock"
   ]
  },
  {
   "cell_type": "code",
   "execution_count": 27,
   "metadata": {
    "ExecuteTime": {
     "end_time": "2019-03-29T07:25:29.771260Z",
     "start_time": "2019-03-29T07:25:29.731257Z"
    }
   },
   "outputs": [
    {
     "name": "stdout",
     "output_type": "stream",
     "text": [
      "max_gini : ('Hourse', 0.4199730940219749)\n",
      "fname:Hourse\n",
      "feat_name:['否', '是']\n",
      "fvalue: 否\n",
      "max_gini : ('Work', 0.9182958340544896)\n",
      "fname:Work\n",
      "feat_name:['否', '是']\n",
      "fvalue: 否\n",
      "fvalue: 是\n",
      "fvalue: 是\n",
      "0.03480066917904272\n"
     ]
    }
   ],
   "source": [
    "t0=clock()\n",
    "dt3=dt_train3(train_data2,'Category')\n",
    "t1=clock()\n",
    "print(t1-t0)"
   ]
  },
  {
   "cell_type": "code",
   "execution_count": 28,
   "metadata": {
    "ExecuteTime": {
     "end_time": "2019-03-29T07:25:29.877266Z",
     "start_time": "2019-03-29T07:25:29.772260Z"
    }
   },
   "outputs": [
    {
     "data": {
      "text/html": [
       "<div>\n",
       "<style scoped>\n",
       "    .dataframe tbody tr th:only-of-type {\n",
       "        vertical-align: middle;\n",
       "    }\n",
       "\n",
       "    .dataframe tbody tr th {\n",
       "        vertical-align: top;\n",
       "    }\n",
       "\n",
       "    .dataframe thead th {\n",
       "        text-align: right;\n",
       "    }\n",
       "</style>\n",
       "<table border=\"1\" class=\"dataframe\">\n",
       "  <thead>\n",
       "    <tr style=\"text-align: right;\">\n",
       "      <th></th>\n",
       "      <th>Age</th>\n",
       "      <th>Work</th>\n",
       "      <th>Hourse</th>\n",
       "      <th>Loan</th>\n",
       "    </tr>\n",
       "  </thead>\n",
       "  <tbody>\n",
       "    <tr>\n",
       "      <th>0</th>\n",
       "      <td>老年</td>\n",
       "      <td>否</td>\n",
       "      <td>否</td>\n",
       "      <td>一般</td>\n",
       "    </tr>\n",
       "  </tbody>\n",
       "</table>\n",
       "</div>"
      ],
      "text/plain": [
       "  Age Work Hourse Loan\n",
       "0  老年    否      否   一般"
      ]
     },
     "execution_count": 28,
     "metadata": {},
     "output_type": "execute_result"
    }
   ],
   "source": [
    "t_data=np.array(['老年', '否', '否', '一般'])\n",
    "t_data=t_data.reshape(1,4)\n",
    "t_col=train_data2.columns.values.tolist()[:-1]\n",
    "# test_data=pd.DataFrame(np.array(t_data),columns=t_col)\n",
    "test_data=pd.DataFrame(t_data,columns=t_col)\n",
    "test_data"
   ]
  },
  {
   "cell_type": "code",
   "execution_count": 29,
   "metadata": {
    "ExecuteTime": {
     "end_time": "2019-03-29T07:25:30.082277Z",
     "start_time": "2019-03-29T07:25:29.880266Z"
    }
   },
   "outputs": [
    {
     "data": {
      "text/plain": [
       "'否'"
      ]
     },
     "execution_count": 29,
     "metadata": {},
     "output_type": "execute_result"
    }
   ],
   "source": [
    "dt3.subtree[0].value"
   ]
  },
  {
   "cell_type": "code",
   "execution_count": 30,
   "metadata": {
    "ExecuteTime": {
     "end_time": "2019-03-29T07:25:30.088278Z",
     "start_time": "2019-03-29T07:25:30.084278Z"
    }
   },
   "outputs": [
    {
     "name": "stdout",
     "output_type": "stream",
     "text": [
      "Not\n"
     ]
    }
   ],
   "source": [
    "if dt3.subtree[0].feat is None:\n",
    "    print('Not')"
   ]
  },
  {
   "cell_type": "code",
   "execution_count": 31,
   "metadata": {
    "ExecuteTime": {
     "end_time": "2019-03-29T07:25:30.099278Z",
     "start_time": "2019-03-29T07:25:30.090278Z"
    }
   },
   "outputs": [
    {
     "data": {
      "text/plain": [
       "[(None,\n",
       " '否',\n",
       " None,\n",
       " ('Work', None, None, [(None, '否', ['否'], None), (None, '是', ['是'], None)])),\n",
       " (None, '是', ['是'], None)]"
      ]
     },
     "execution_count": 31,
     "metadata": {},
     "output_type": "execute_result"
    }
   ],
   "source": [
    "dt3.subtree"
   ]
  },
  {
   "cell_type": "code",
   "execution_count": 32,
   "metadata": {
    "ExecuteTime": {
     "end_time": "2019-03-29T07:25:30.109279Z",
     "start_time": "2019-03-29T07:25:30.101279Z"
    }
   },
   "outputs": [
    {
     "data": {
      "text/plain": [
       "('Work', None, None, [(None, '否', ['否'], None), (None, '是', ['是'], None)])"
      ]
     },
     "execution_count": 32,
     "metadata": {},
     "output_type": "execute_result"
    }
   ],
   "source": [
    "dt3.subtree[0].subtree"
   ]
  },
  {
   "cell_type": "code",
   "execution_count": 33,
   "metadata": {
    "ExecuteTime": {
     "end_time": "2019-03-29T07:25:30.116279Z",
     "start_time": "2019-03-29T07:25:30.111279Z"
    }
   },
   "outputs": [
    {
     "data": {
      "text/plain": [
       "('Work', None, None, [(None, '否', ['否'], None), (None, '是', ['是'], None)])"
      ]
     },
     "execution_count": 33,
     "metadata": {},
     "output_type": "execute_result"
    }
   ],
   "source": [
    "dt3.subtree[0].subtree"
   ]
  },
  {
   "cell_type": "code",
   "execution_count": 34,
   "metadata": {
    "ExecuteTime": {
     "end_time": "2019-03-29T07:25:30.124280Z",
     "start_time": "2019-03-29T07:25:30.118280Z"
    }
   },
   "outputs": [
    {
     "data": {
      "text/plain": [
       "True"
      ]
     },
     "execution_count": 34,
     "metadata": {},
     "output_type": "execute_result"
    }
   ],
   "source": [
    "dt3.subtree[0].value=='否'"
   ]
  },
  {
   "cell_type": "code",
   "execution_count": 35,
   "metadata": {
    "ExecuteTime": {
     "end_time": "2019-03-29T07:25:30.162282Z",
     "start_time": "2019-03-29T07:25:30.126280Z"
    }
   },
   "outputs": [],
   "source": [
    "def dt3_predict(trained_tree,test_data,last_feat=None):\n",
    "    print('-----------')\n",
    "    print(trained_tree)\n",
    "    print('-----------')\n",
    "    f=trained_tree.feat\n",
    "    if f is None:\n",
    "        f=last_feat\n",
    "    l=trained_tree.label\n",
    "    v=trained_tree.value\n",
    "    tv=test_data[f].values[0]\n",
    "    print('l:'+str(l))\n",
    "    print('v:'+str(v))\n",
    "    print('f:'+str(f))\n",
    "    print('tv:'+str(tv))\n",
    "    if ((tv==v) and (l is not None) ):\n",
    "        return l\n",
    "\n",
    "    if tv==v:\n",
    "        print('tv == v')\n",
    "        l=dt3_predict(trained_tree.subtree,test_data,f)\n",
    "\n",
    "\n",
    "    \n",
    "    if l is  None:\n",
    "        print( 'tv ! = v')\n",
    "        i=0\n",
    "        while trained_tree.subtree[i].value != tv  :\n",
    "            i+=1\n",
    "        print('i:'+str(i))\n",
    "        print('---'+str(trained_tree.subtree[i].value))\n",
    "        print('---'+str(trained_tree.subtree[i]))\n",
    "        l=dt3_predict(trained_tree.subtree[i],test_data,f)\n",
    "    return l[0]\n",
    "    "
   ]
  },
  {
   "cell_type": "code",
   "execution_count": 36,
   "metadata": {
    "ExecuteTime": {
     "end_time": "2019-03-29T07:25:30.169282Z",
     "start_time": "2019-03-29T07:25:30.163282Z"
    }
   },
   "outputs": [],
   "source": [
    "from time import clock"
   ]
  },
  {
   "cell_type": "code",
   "execution_count": 37,
   "metadata": {
    "ExecuteTime": {
     "end_time": "2019-03-29T07:25:30.181283Z",
     "start_time": "2019-03-29T07:25:30.171283Z"
    }
   },
   "outputs": [
    {
     "name": "stdout",
     "output_type": "stream",
     "text": [
      "-----------\n",
      "('Hourse',\n",
      " None,\n",
      " None,\n",
      " [(None,\n",
      " '否',\n",
      " None,\n",
      " ('Work', None, None, [(None, '否', ['否'], None), (None, '是', ['是'], None)])),\n",
      "  (None, '是', ['是'], None)])\n",
      "-----------\n",
      "l:None\n",
      "v:None\n",
      "f:Hourse\n",
      "tv:否\n",
      "tv ! = v\n",
      "i:0\n",
      "---否\n",
      "---(None,\n",
      " '否',\n",
      " None,\n",
      " ('Work', None, None, [(None, '否', ['否'], None), (None, '是', ['是'], None)]))\n",
      "-----------\n",
      "(None,\n",
      " '否',\n",
      " None,\n",
      " ('Work', None, None, [(None, '否', ['否'], None), (None, '是', ['是'], None)]))\n",
      "-----------\n",
      "l:None\n",
      "v:否\n",
      "f:Hourse\n",
      "tv:否\n",
      "tv == v\n",
      "-----------\n",
      "('Work', None, None, [(None, '否', ['否'], None), (None, '是', ['是'], None)])\n",
      "-----------\n",
      "l:None\n",
      "v:None\n",
      "f:Work\n",
      "tv:否\n",
      "tv ! = v\n",
      "i:0\n",
      "---否\n",
      "---(None, '否', ['否'], None)\n",
      "-----------\n",
      "(None, '否', ['否'], None)\n",
      "-----------\n",
      "l:['否']\n",
      "v:否\n",
      "f:Work\n",
      "tv:否\n",
      "0.0033269233221461247\n"
     ]
    }
   ],
   "source": [
    "t0=clock()\n",
    "dt3_predict(dt3,test_data)\n",
    "t1=clock()\n",
    "print(t1-t0)"
   ]
  },
  {
   "cell_type": "code",
   "execution_count": 38,
   "metadata": {
    "ExecuteTime": {
     "end_time": "2019-03-29T07:25:30.187283Z",
     "start_time": "2019-03-29T07:25:30.183283Z"
    }
   },
   "outputs": [
    {
     "name": "stdout",
     "output_type": "stream",
     "text": [
      "tttttt\n"
     ]
    }
   ],
   "source": [
    "l=None\n",
    "tv=1\n",
    "v=1\n",
    "if tv==v and l is None:\n",
    "    print('tttttt')\n"
   ]
  },
  {
   "cell_type": "code",
   "execution_count": 39,
   "metadata": {
    "ExecuteTime": {
     "end_time": "2019-03-29T07:25:30.196284Z",
     "start_time": "2019-03-29T07:25:30.189284Z"
    }
   },
   "outputs": [
    {
     "data": {
      "text/plain": [
       "0    否\n",
       "Name: Hourse, dtype: object"
      ]
     },
     "execution_count": 39,
     "metadata": {},
     "output_type": "execute_result"
    }
   ],
   "source": [
    "test_data.loc[:,'Hourse']"
   ]
  },
  {
   "cell_type": "markdown",
   "metadata": {},
   "source": [
    "sklearn DT"
   ]
  },
  {
   "cell_type": "code",
   "execution_count": 40,
   "metadata": {
    "ExecuteTime": {
     "end_time": "2019-03-29T07:25:36.523646Z",
     "start_time": "2019-03-29T07:25:30.197284Z"
    }
   },
   "outputs": [],
   "source": [
    "from sklearn.tree import DecisionTreeClassifier\n",
    "from sklearn.tree import export_graphviz\n",
    "import graphviz\n",
    "from sklearn.datasets import load_iris\n",
    "from sklearn.model_selection import train_test_split"
   ]
  },
  {
   "cell_type": "code",
   "execution_count": 41,
   "metadata": {
    "ExecuteTime": {
     "end_time": "2019-03-29T07:25:36.588650Z",
     "start_time": "2019-03-29T07:25:36.529646Z"
    }
   },
   "outputs": [],
   "source": [
    "# data\n",
    "def create_data():\n",
    "    iris = load_iris()\n",
    "    df = pd.DataFrame(iris.data, columns=iris.feature_names)\n",
    "    df['label'] = iris.target\n",
    "    df.columns = ['sepal length', 'sepal width', 'petal length', 'petal width', 'label']\n",
    "    data = np.array(df.iloc[:100, [0, 1, -1]])\n",
    "    # print(data)\n",
    "    return data[:,:2], data[:,-1]\n",
    "\n",
    "X, y = create_data()\n",
    "X_train, X_test, y_train, y_test = train_test_split(X, y, test_size=0.3)"
   ]
  },
  {
   "cell_type": "code",
   "execution_count": 43,
   "metadata": {
    "ExecuteTime": {
     "end_time": "2019-03-29T07:25:39.532818Z",
     "start_time": "2019-03-29T07:25:39.517817Z"
    }
   },
   "outputs": [
    {
     "data": {
      "text/plain": [
       "DecisionTreeClassifier(class_weight=None, criterion='gini', max_depth=None,\n",
       "            max_features=None, max_leaf_nodes=None,\n",
       "            min_impurity_decrease=0.0, min_impurity_split=None,\n",
       "            min_samples_leaf=1, min_samples_split=2,\n",
       "            min_weight_fraction_leaf=0.0, presort=False, random_state=None,\n",
       "            splitter='best')"
      ]
     },
     "execution_count": 43,
     "metadata": {},
     "output_type": "execute_result"
    }
   ],
   "source": [
    "clf=DecisionTreeClassifier()\n",
    "clf.fit(X_train,y_train)"
   ]
  },
  {
   "cell_type": "code",
   "execution_count": 44,
   "metadata": {
    "ExecuteTime": {
     "end_time": "2019-03-29T07:25:41.689941Z",
     "start_time": "2019-03-29T07:25:41.676941Z"
    }
   },
   "outputs": [
    {
     "data": {
      "text/plain": [
       "1.0"
      ]
     },
     "execution_count": 44,
     "metadata": {},
     "output_type": "execute_result"
    }
   ],
   "source": [
    "clf.score(X_test,y_test)"
   ]
  },
  {
   "cell_type": "code",
   "execution_count": 46,
   "metadata": {
    "ExecuteTime": {
     "end_time": "2019-03-29T09:18:33.676277Z",
     "start_time": "2019-03-29T09:18:33.667276Z"
    }
   },
   "outputs": [],
   "source": [
    "from sklearn.tree import export_graphviz\n",
    "import graphviz"
   ]
  },
  {
   "cell_type": "code",
   "execution_count": 47,
   "metadata": {
    "ExecuteTime": {
     "end_time": "2019-03-29T09:18:34.709336Z",
     "start_time": "2019-03-29T09:18:34.698335Z"
    }
   },
   "outputs": [],
   "source": [
    "tree_pic=export_graphviz(clf,out_file='mytree1.pdf')"
   ]
  },
  {
   "cell_type": "code",
   "execution_count": 53,
   "metadata": {
    "ExecuteTime": {
     "end_time": "2019-03-29T09:49:29.569428Z",
     "start_time": "2019-03-29T09:49:29.559427Z"
    },
    "scrolled": true
   },
   "outputs": [],
   "source": [
    "with open('mytree1.pdf','r') as f:\n",
    "#     print(f.read())\n",
    "    dot_graph=f.read()"
   ]
  },
  {
   "cell_type": "code",
   "execution_count": 57,
   "metadata": {
    "ExecuteTime": {
     "end_time": "2019-03-29T10:00:10.911111Z",
     "start_time": "2019-03-29T10:00:10.904110Z"
    }
   },
   "outputs": [],
   "source": [
    "# graphviz.Source(dot_graph)"
   ]
  },
  {
   "cell_type": "code",
   "execution_count": 56,
   "metadata": {
    "ExecuteTime": {
     "end_time": "2019-03-29T09:57:16.785151Z",
     "start_time": "2019-03-29T09:57:16.677145Z"
    }
   },
   "outputs": [
    {
     "name": "stdout",
     "output_type": "stream",
     "text": [
      "DTree:\n",
      "0 (2, None)\n",
      "1 (1, '否')\n",
      "2 (0, '否')\n",
      "3 (3, '青年')\n",
      "4 (None, '一般', '否', 3)\n",
      "4 (None, '好', '否', 1)\n",
      "3 (None, '中年', '否', 2)\n",
      "3 (None, '老年', '否', 1)\n",
      "2 (None, '是', '是', 3)\n",
      "1 (None, '是', '是', 6)\n",
      "result: 否\n",
      "Ent: [0.9182958340544896, 0.0, 0.0, 0.0, 0.0, 0.0]\n",
      "C(T): 5.754887502163468\n",
      "Ent: [0.8112781244591328, 0.0, 0.0, 0.0, 0.0]\n",
      "C(T): 5.745112497836532\n",
      "Ent: [0.5916727785823275, 0.0, 0.0]\n",
      "C(T): 5.641709450076292\n",
      "Ent: [0.9709505944546686, 0.0]\n",
      "C(T): 10.709505944546686\n",
      "DTree:\n",
      "0 (2, None)\n",
      "1 (1, '否')\n",
      "2 (None, '否', '否', 7)\n",
      "2 (None, '是', '是', 3)\n",
      "1 (None, '是', '是', 6)\n",
      "result: 否\n"
     ]
    }
   ],
   "source": [
    "%run Decision_Tree_Cut_Page"
   ]
  },
  {
   "cell_type": "code",
   "execution_count": null,
   "metadata": {},
   "outputs": [],
   "source": []
  }
 ],
 "metadata": {
  "kernelspec": {
   "display_name": "Python 3",
   "language": "python",
   "name": "python3"
  },
  "language_info": {
   "codemirror_mode": {
    "name": "ipython",
    "version": 3
   },
   "file_extension": ".py",
   "mimetype": "text/x-python",
   "name": "python",
   "nbconvert_exporter": "python",
   "pygments_lexer": "ipython3",
   "version": "3.6.3"
  }
 },
 "nbformat": 4,
 "nbformat_minor": 2
}
