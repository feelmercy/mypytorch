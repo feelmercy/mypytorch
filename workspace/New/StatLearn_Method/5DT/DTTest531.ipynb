{
 "cells": [
  {
   "cell_type": "code",
   "execution_count": 1,
   "metadata": {
    "ExecuteTime": {
     "end_time": "2019-04-26T02:35:22.214619Z",
     "start_time": "2019-04-26T02:35:21.607584Z"
    }
   },
   "outputs": [],
   "source": [
    "import numpy as np\n",
    "import pandas as pd\n",
    "import matplotlib.pyplot as plt\n",
    "\n",
    "from collections import Counter\n",
    "import math\n",
    "from math import log\n",
    "\n",
    "from  pprint import pformat\n",
    "from collections import namedtuple"
   ]
  },
  {
   "cell_type": "code",
   "execution_count": 2,
   "metadata": {
    "ExecuteTime": {
     "end_time": "2019-04-26T02:35:22.329625Z",
     "start_time": "2019-04-26T02:35:22.315624Z"
    }
   },
   "outputs": [],
   "source": [
    "def create_data():\n",
    "    datasets = [['青年', '否', '否', '一般', '否'],\n",
    "           ['青年', '否', '否', '好', '否'],\n",
    "           ['青年', '是', '否', '好', '是'],\n",
    "           ['青年', '是', '是', '一般', '是'],\n",
    "           ['青年', '否', '否', '一般', '否'],\n",
    "           ['中年', '否', '否', '一般', '否'],\n",
    "           ['中年', '否', '否', '好', '否'],\n",
    "           ['中年', '是', '是', '好', '是'],\n",
    "           ['中年', '否', '是', '非常好', '是'],\n",
    "           ['中年', '否', '是', '非常好', '是'],\n",
    "           ['老年', '否', '是', '非常好', '是'],\n",
    "           ['老年', '否', '是', '好', '是'],\n",
    "           ['老年', '是', '否', '好', '是'],\n",
    "           ['老年', '是', '否', '非常好', '是'],\n",
    "           ['老年', '否', '否', '一般', '否'],\n",
    "           ]\n",
    "    labels = [u'年龄', u'有工作', u'有自己的房子', u'信贷情况', u'类别']\n",
    "    \n",
    "    return datasets,labels"
   ]
  },
  {
   "cell_type": "code",
   "execution_count": 3,
   "metadata": {
    "ExecuteTime": {
     "end_time": "2019-04-26T02:35:23.805654Z",
     "start_time": "2019-04-26T02:35:23.781654Z"
    }
   },
   "outputs": [],
   "source": [
    "datasets,labels=create_data()\n",
    "train_data=pd.DataFrame(datasets,columns=labels)\n",
    "train_data2=train_data\n",
    "train_data2.columns=['Age','Work','Hourse','Loan','Category']"
   ]
  },
  {
   "cell_type": "code",
   "execution_count": 4,
   "metadata": {
    "ExecuteTime": {
     "end_time": "2019-04-26T02:35:24.510685Z",
     "start_time": "2019-04-26T02:35:24.465683Z"
    }
   },
   "outputs": [
    {
     "data": {
      "text/html": [
       "<div>\n",
       "<style scoped>\n",
       "    .dataframe tbody tr th:only-of-type {\n",
       "        vertical-align: middle;\n",
       "    }\n",
       "\n",
       "    .dataframe tbody tr th {\n",
       "        vertical-align: top;\n",
       "    }\n",
       "\n",
       "    .dataframe thead th {\n",
       "        text-align: right;\n",
       "    }\n",
       "</style>\n",
       "<table border=\"1\" class=\"dataframe\">\n",
       "  <thead>\n",
       "    <tr style=\"text-align: right;\">\n",
       "      <th></th>\n",
       "      <th>Age</th>\n",
       "      <th>Work</th>\n",
       "      <th>Hourse</th>\n",
       "      <th>Loan</th>\n",
       "      <th>Category</th>\n",
       "    </tr>\n",
       "  </thead>\n",
       "  <tbody>\n",
       "    <tr>\n",
       "      <th>0</th>\n",
       "      <td>青年</td>\n",
       "      <td>否</td>\n",
       "      <td>否</td>\n",
       "      <td>一般</td>\n",
       "      <td>否</td>\n",
       "    </tr>\n",
       "    <tr>\n",
       "      <th>1</th>\n",
       "      <td>青年</td>\n",
       "      <td>否</td>\n",
       "      <td>否</td>\n",
       "      <td>好</td>\n",
       "      <td>否</td>\n",
       "    </tr>\n",
       "    <tr>\n",
       "      <th>2</th>\n",
       "      <td>青年</td>\n",
       "      <td>是</td>\n",
       "      <td>否</td>\n",
       "      <td>好</td>\n",
       "      <td>是</td>\n",
       "    </tr>\n",
       "    <tr>\n",
       "      <th>3</th>\n",
       "      <td>青年</td>\n",
       "      <td>是</td>\n",
       "      <td>是</td>\n",
       "      <td>一般</td>\n",
       "      <td>是</td>\n",
       "    </tr>\n",
       "    <tr>\n",
       "      <th>4</th>\n",
       "      <td>青年</td>\n",
       "      <td>否</td>\n",
       "      <td>否</td>\n",
       "      <td>一般</td>\n",
       "      <td>否</td>\n",
       "    </tr>\n",
       "    <tr>\n",
       "      <th>5</th>\n",
       "      <td>中年</td>\n",
       "      <td>否</td>\n",
       "      <td>否</td>\n",
       "      <td>一般</td>\n",
       "      <td>否</td>\n",
       "    </tr>\n",
       "    <tr>\n",
       "      <th>6</th>\n",
       "      <td>中年</td>\n",
       "      <td>否</td>\n",
       "      <td>否</td>\n",
       "      <td>好</td>\n",
       "      <td>否</td>\n",
       "    </tr>\n",
       "    <tr>\n",
       "      <th>7</th>\n",
       "      <td>中年</td>\n",
       "      <td>是</td>\n",
       "      <td>是</td>\n",
       "      <td>好</td>\n",
       "      <td>是</td>\n",
       "    </tr>\n",
       "    <tr>\n",
       "      <th>8</th>\n",
       "      <td>中年</td>\n",
       "      <td>否</td>\n",
       "      <td>是</td>\n",
       "      <td>非常好</td>\n",
       "      <td>是</td>\n",
       "    </tr>\n",
       "    <tr>\n",
       "      <th>9</th>\n",
       "      <td>中年</td>\n",
       "      <td>否</td>\n",
       "      <td>是</td>\n",
       "      <td>非常好</td>\n",
       "      <td>是</td>\n",
       "    </tr>\n",
       "    <tr>\n",
       "      <th>10</th>\n",
       "      <td>老年</td>\n",
       "      <td>否</td>\n",
       "      <td>是</td>\n",
       "      <td>非常好</td>\n",
       "      <td>是</td>\n",
       "    </tr>\n",
       "    <tr>\n",
       "      <th>11</th>\n",
       "      <td>老年</td>\n",
       "      <td>否</td>\n",
       "      <td>是</td>\n",
       "      <td>好</td>\n",
       "      <td>是</td>\n",
       "    </tr>\n",
       "    <tr>\n",
       "      <th>12</th>\n",
       "      <td>老年</td>\n",
       "      <td>是</td>\n",
       "      <td>否</td>\n",
       "      <td>好</td>\n",
       "      <td>是</td>\n",
       "    </tr>\n",
       "    <tr>\n",
       "      <th>13</th>\n",
       "      <td>老年</td>\n",
       "      <td>是</td>\n",
       "      <td>否</td>\n",
       "      <td>非常好</td>\n",
       "      <td>是</td>\n",
       "    </tr>\n",
       "    <tr>\n",
       "      <th>14</th>\n",
       "      <td>老年</td>\n",
       "      <td>否</td>\n",
       "      <td>否</td>\n",
       "      <td>一般</td>\n",
       "      <td>否</td>\n",
       "    </tr>\n",
       "  </tbody>\n",
       "</table>\n",
       "</div>"
      ],
      "text/plain": [
       "   Age Work Hourse Loan Category\n",
       "0   青年    否      否   一般        否\n",
       "1   青年    否      否    好        否\n",
       "2   青年    是      否    好        是\n",
       "3   青年    是      是   一般        是\n",
       "4   青年    否      否   一般        否\n",
       "5   中年    否      否   一般        否\n",
       "6   中年    否      否    好        否\n",
       "7   中年    是      是    好        是\n",
       "8   中年    否      是  非常好        是\n",
       "9   中年    否      是  非常好        是\n",
       "10  老年    否      是  非常好        是\n",
       "11  老年    否      是    好        是\n",
       "12  老年    是      否    好        是\n",
       "13  老年    是      否  非常好        是\n",
       "14  老年    否      否   一般        否"
      ]
     },
     "execution_count": 4,
     "metadata": {},
     "output_type": "execute_result"
    }
   ],
   "source": [
    "train_data2"
   ]
  },
  {
   "cell_type": "code",
   "execution_count": 5,
   "metadata": {
    "ExecuteTime": {
     "end_time": "2019-04-26T02:35:25.248713Z",
     "start_time": "2019-04-26T02:35:25.226713Z"
    }
   },
   "outputs": [],
   "source": [
    "#熵\n",
    "def emp_ent(label):\n",
    "    length=len(label)\n",
    "    s=0\n",
    "    for k ,v in dict(label.value_counts()).items():\n",
    "        p=v/length\n",
    "        s+=p * math.log(p,2)\n",
    "    return -s"
   ]
  },
  {
   "cell_type": "code",
   "execution_count": 6,
   "metadata": {
    "ExecuteTime": {
     "end_time": "2019-04-26T02:35:25.893743Z",
     "start_time": "2019-04-26T02:35:25.874743Z"
    }
   },
   "outputs": [
    {
     "data": {
      "text/plain": [
       "0.9709505944546686"
      ]
     },
     "execution_count": 6,
     "metadata": {},
     "output_type": "execute_result"
    }
   ],
   "source": [
    "emp_ent(train_data2.Category)"
   ]
  },
  {
   "cell_type": "code",
   "execution_count": 7,
   "metadata": {
    "ExecuteTime": {
     "end_time": "2019-04-26T02:35:26.988774Z",
     "start_time": "2019-04-26T02:35:26.963773Z"
    }
   },
   "outputs": [],
   "source": [
    "# 条件熵\n",
    "def cond_ent(data,col,label):\n",
    "    length=len(data[col])\n",
    "    s=0\n",
    "    for k,v in dict(data[col].value_counts()).items():\n",
    "        p=v/length\n",
    "        s+=p*emp_ent(data[data[col]==k][label])\n",
    "    return s\n",
    "    \n",
    "    \n",
    "    "
   ]
  },
  {
   "cell_type": "code",
   "execution_count": 8,
   "metadata": {
    "ExecuteTime": {
     "end_time": "2019-04-26T02:35:27.552802Z",
     "start_time": "2019-04-26T02:35:27.529802Z"
    }
   },
   "outputs": [
    {
     "data": {
      "text/plain": [
       "0.8879430945988998"
      ]
     },
     "execution_count": 8,
     "metadata": {},
     "output_type": "execute_result"
    }
   ],
   "source": [
    "cond_ent(train_data2,'Age','Category')"
   ]
  },
  {
   "cell_type": "code",
   "execution_count": 9,
   "metadata": {
    "ExecuteTime": {
     "end_time": "2019-04-26T02:35:28.022829Z",
     "start_time": "2019-04-26T02:35:28.016829Z"
    }
   },
   "outputs": [],
   "source": [
    "def gain_func(data,col,label):\n",
    "    return emp_ent(data[label]) - cond_ent(data,col,label)\n",
    "    "
   ]
  },
  {
   "cell_type": "code",
   "execution_count": 10,
   "metadata": {
    "ExecuteTime": {
     "end_time": "2019-04-26T02:35:29.338861Z",
     "start_time": "2019-04-26T02:35:29.310860Z"
    }
   },
   "outputs": [
    {
     "data": {
      "text/plain": [
       "0.08300749985576883"
      ]
     },
     "execution_count": 10,
     "metadata": {},
     "output_type": "execute_result"
    }
   ],
   "source": [
    "gain_func(train_data2,'Age','Category')"
   ]
  },
  {
   "cell_type": "code",
   "execution_count": 11,
   "metadata": {
    "ExecuteTime": {
     "end_time": "2019-04-26T02:35:29.934891Z",
     "start_time": "2019-04-26T02:35:29.902890Z"
    }
   },
   "outputs": [],
   "source": [
    "def max_gain(data,label):\n",
    "    ret={}\n",
    "    for col in data.columns:\n",
    "        if col != label:\n",
    "            ret[col]=gain_func(data,col,label)\n",
    "    print(ret)\n",
    "    return sorted(ret.items(),key=lambda x:x[1])[-1]\n",
    "\n",
    "            "
   ]
  },
  {
   "cell_type": "code",
   "execution_count": 12,
   "metadata": {
    "ExecuteTime": {
     "end_time": "2019-04-26T02:35:30.606923Z",
     "start_time": "2019-04-26T02:35:30.536920Z"
    }
   },
   "outputs": [
    {
     "name": "stdout",
     "output_type": "stream",
     "text": [
      "{'Age': 0.08300749985576883, 'Work': 0.32365019815155627, 'Hourse': 0.4199730940219749, 'Loan': 0.36298956253708536}\n"
     ]
    },
    {
     "data": {
      "text/plain": [
       "('Hourse', 0.4199730940219749)"
      ]
     },
     "execution_count": 12,
     "metadata": {},
     "output_type": "execute_result"
    }
   ],
   "source": [
    "max_gain(train_data2,'Category')"
   ]
  },
  {
   "cell_type": "code",
   "execution_count": 13,
   "metadata": {
    "ExecuteTime": {
     "end_time": "2019-04-26T02:35:31.143950Z",
     "start_time": "2019-04-26T02:35:31.129949Z"
    }
   },
   "outputs": [],
   "source": [
    "def gain_rate(data,col,label):\n",
    "    return gain_func(data,col,label) / emp_ent(data[label])"
   ]
  },
  {
   "cell_type": "code",
   "execution_count": 14,
   "metadata": {
    "ExecuteTime": {
     "end_time": "2019-04-26T02:35:31.691979Z",
     "start_time": "2019-04-26T02:35:31.665978Z"
    }
   },
   "outputs": [
    {
     "data": {
      "text/plain": [
       "0.08549096146585063"
      ]
     },
     "execution_count": 14,
     "metadata": {},
     "output_type": "execute_result"
    }
   ],
   "source": [
    "gain_rate(train_data2,'Age','Category')"
   ]
  },
  {
   "cell_type": "code",
   "execution_count": 15,
   "metadata": {
    "ExecuteTime": {
     "end_time": "2019-04-26T02:35:32.195008Z",
     "start_time": "2019-04-26T02:35:32.180007Z"
    }
   },
   "outputs": [],
   "source": [
    "def max_gain_rate(data,label):\n",
    "    ret={}\n",
    "    for col in data.columns:\n",
    "        if col != label:\n",
    "            ret[col]=gain_rate(data,col,label)\n",
    "    print(ret)\n",
    "    return sorted(ret.items(),key=lambda x:x[1])[-1]"
   ]
  },
  {
   "cell_type": "code",
   "execution_count": 16,
   "metadata": {
    "ExecuteTime": {
     "end_time": "2019-04-26T02:35:32.743037Z",
     "start_time": "2019-04-26T02:35:32.706036Z"
    }
   },
   "outputs": [
    {
     "name": "stdout",
     "output_type": "stream",
     "text": [
      "{'Age': 0.08549096146585063, 'Work': 0.3333333333333334, 'Hourse': 0.4325380677663126, 'Loan': 0.3738496733100589}\n"
     ]
    },
    {
     "data": {
      "text/plain": [
       "('Hourse', 0.4325380677663126)"
      ]
     },
     "execution_count": 16,
     "metadata": {},
     "output_type": "execute_result"
    }
   ],
   "source": [
    "max_gain_rate(train_data2,'Category')"
   ]
  },
  {
   "cell_type": "code",
   "execution_count": 17,
   "metadata": {
    "ExecuteTime": {
     "end_time": "2019-04-26T02:35:34.427067Z",
     "start_time": "2019-04-26T02:35:34.413066Z"
    }
   },
   "outputs": [],
   "source": [
    "from collections import namedtuple\n",
    "from pprint import pformat"
   ]
  },
  {
   "cell_type": "code",
   "execution_count": 18,
   "metadata": {
    "ExecuteTime": {
     "end_time": "2019-04-26T02:35:34.969095Z",
     "start_time": "2019-04-26T02:35:34.959095Z"
    }
   },
   "outputs": [],
   "source": [
    "class dttree(namedtuple('dttree','feat,value,label,subtree')):\n",
    "    def __repr__(self):\n",
    "        return pformat(tuple(self))"
   ]
  },
  {
   "cell_type": "code",
   "execution_count": 19,
   "metadata": {
    "ExecuteTime": {
     "end_time": "2019-04-26T02:35:35.767129Z",
     "start_time": "2019-04-26T02:35:35.684125Z"
    }
   },
   "outputs": [],
   "source": [
    "def create_dttree(data,label):\n",
    "    col= data.columns.values.tolist()\n",
    "#     col.remove(label)\n",
    "    \n",
    "    if data is None:\n",
    "        return dttree(None,None,None,None)\n",
    "    \n",
    "    \n",
    "    if len(data[label].unique())==1:\n",
    "        return dttree(None,None,data[label][0],None)\n",
    "    \n",
    "    if data.shape[1]==1 and (label !='' or label is not None):\n",
    "        label=sorted(dict(data[label].value_counts()).items(),key=lambda x:x[1])[-1][0]\n",
    "        return dttree(None,None,label,None)\n",
    "    \n",
    "#     if len(col)==2:\n",
    "#         return dttree(col[0],None,\n",
    "#                       sorted(dict(data[label].value_counts()).items())[-1][0],None)\n",
    "    \n",
    "#     print(data)\n",
    "    fn,gv=max_gain_rate(data,label)\n",
    "    ts=[]\n",
    "    tl=None\n",
    "    tv=None\n",
    "#     print(fn)\n",
    "#     print(col)\n",
    "#     col.remove(fn)\n",
    "    for v in list(set(data[fn])):\n",
    "        lvl =data[data[fn]==v][label].unique().tolist()\n",
    "        if len(lvl)==1:\n",
    "            ts.append(dttree(None,v,lvl[0],None))\n",
    "        \n",
    "        else :\n",
    "#             print(col)\n",
    "            col.remove(fn)\n",
    "#             col.append(label)\n",
    "\n",
    "            temp=create_dttree(data[data[fn]==v][col],label)\n",
    "            ts.append(dttree(None,v,None,temp))\n",
    "    \n",
    "    return dttree(fn,None,None,ts)\n",
    "            "
   ]
  },
  {
   "cell_type": "code",
   "execution_count": 20,
   "metadata": {
    "ExecuteTime": {
     "end_time": "2019-04-26T02:35:36.617159Z",
     "start_time": "2019-04-26T02:35:36.551156Z"
    }
   },
   "outputs": [
    {
     "name": "stdout",
     "output_type": "stream",
     "text": [
      "{'Age': 0.08549096146585063, 'Work': 0.3333333333333334, 'Hourse': 0.4325380677663126, 'Loan': 0.3738496733100589}\n",
      "{'Age': 0.274017542121281, 'Work': 1.0, 'Loan': 0.5160116947475206}\n"
     ]
    },
    {
     "data": {
      "text/plain": [
       "('Hourse',\n",
       " None,\n",
       " None,\n",
       " [(None, '是', '是', None),\n",
       "  (None,\n",
       " '否',\n",
       " None,\n",
       " ('Work', None, None, [(None, '是', '是', None), (None, '否', '否', None)]))])"
      ]
     },
     "execution_count": 20,
     "metadata": {},
     "output_type": "execute_result"
    }
   ],
   "source": [
    "create_dttree(train_data2,'Category')"
   ]
  },
  {
   "cell_type": "code",
   "execution_count": 21,
   "metadata": {
    "ExecuteTime": {
     "end_time": "2019-04-26T02:35:37.356189Z",
     "start_time": "2019-04-26T02:35:37.311187Z"
    }
   },
   "outputs": [],
   "source": [
    "def kdtree_predict(tr,x,last_col=None):\n",
    "#     print(tr)\n",
    "    tn=tr.feat\n",
    "    if tn is  None:\n",
    "        tn=last_col\n",
    "    tv=tr.value\n",
    "    tl=tr.label\n",
    "#     print(tn)\n",
    "#     print(x[tn])\n",
    "#     print(x[tn][0])\n",
    "    test_v=x[tn][0]\n",
    "\n",
    "    \n",
    "    if test_v==tv and tl is not None:\n",
    "        l=tl\n",
    "        return l\n",
    "    \n",
    "    if test_v==tv :\n",
    "        l=kdtree_predict(tr.subtree,x,tn)\n",
    "        return l\n",
    "            \n",
    "    \n",
    "    if tv is None:\n",
    "        i=0\n",
    "        while tr.subtree[i].value!= test_v:\n",
    "            i+=1\n",
    "        l= kdtree_predict(tr.subtree[i],x,tn)\n",
    "    return l\n",
    "    "
   ]
  },
  {
   "cell_type": "code",
   "execution_count": 22,
   "metadata": {
    "ExecuteTime": {
     "end_time": "2019-04-26T02:35:39.087220Z",
     "start_time": "2019-04-26T02:35:39.061219Z"
    }
   },
   "outputs": [
    {
     "data": {
      "text/html": [
       "<div>\n",
       "<style scoped>\n",
       "    .dataframe tbody tr th:only-of-type {\n",
       "        vertical-align: middle;\n",
       "    }\n",
       "\n",
       "    .dataframe tbody tr th {\n",
       "        vertical-align: top;\n",
       "    }\n",
       "\n",
       "    .dataframe thead th {\n",
       "        text-align: right;\n",
       "    }\n",
       "</style>\n",
       "<table border=\"1\" class=\"dataframe\">\n",
       "  <thead>\n",
       "    <tr style=\"text-align: right;\">\n",
       "      <th></th>\n",
       "      <th>Age</th>\n",
       "      <th>Work</th>\n",
       "      <th>Hourse</th>\n",
       "      <th>Loan</th>\n",
       "    </tr>\n",
       "  </thead>\n",
       "  <tbody>\n",
       "    <tr>\n",
       "      <th>0</th>\n",
       "      <td>老年</td>\n",
       "      <td>是</td>\n",
       "      <td>是</td>\n",
       "      <td>一般</td>\n",
       "    </tr>\n",
       "  </tbody>\n",
       "</table>\n",
       "</div>"
      ],
      "text/plain": [
       "  Age Work Hourse Loan\n",
       "0  老年    是      是   一般"
      ]
     },
     "execution_count": 22,
     "metadata": {},
     "output_type": "execute_result"
    }
   ],
   "source": [
    "t_data=np.array(['老年', '是', '是', '一般'])\n",
    "t_data=t_data.reshape(1,4)\n",
    "t_col=train_data2.columns.values.tolist()[:-1]\n",
    "# test_data=pd.DataFrame(np.array(t_data),columns=t_col)\n",
    "test_data=pd.DataFrame(t_data,columns=t_col)\n",
    "test_data"
   ]
  },
  {
   "cell_type": "code",
   "execution_count": 23,
   "metadata": {
    "ExecuteTime": {
     "end_time": "2019-04-26T02:35:41.532255Z",
     "start_time": "2019-04-26T02:35:41.481253Z"
    }
   },
   "outputs": [
    {
     "name": "stdout",
     "output_type": "stream",
     "text": [
      "{'Age': 0.08549096146585063, 'Work': 0.3333333333333334, 'Hourse': 0.4325380677663126, 'Loan': 0.3738496733100589}\n",
      "{'Age': 0.274017542121281, 'Work': 1.0, 'Loan': 0.5160116947475206}\n"
     ]
    },
    {
     "data": {
      "text/plain": [
       "'是'"
      ]
     },
     "execution_count": 23,
     "metadata": {},
     "output_type": "execute_result"
    }
   ],
   "source": [
    "dt=create_dttree(train_data2,'Category')\n",
    "kdtree_predict(dt,test_data)"
   ]
  },
  {
   "cell_type": "code",
   "execution_count": 24,
   "metadata": {
    "ExecuteTime": {
     "end_time": "2019-04-26T02:35:43.675286Z",
     "start_time": "2019-04-26T02:35:43.655286Z"
    }
   },
   "outputs": [
    {
     "data": {
      "text/plain": [
       "'是'"
      ]
     },
     "execution_count": 24,
     "metadata": {},
     "output_type": "execute_result"
    }
   ],
   "source": [
    "test_data['Hourse'][0]"
   ]
  },
  {
   "cell_type": "code",
   "execution_count": 25,
   "metadata": {
    "ExecuteTime": {
     "end_time": "2019-04-26T02:35:44.328319Z",
     "start_time": "2019-04-26T02:35:44.285317Z"
    }
   },
   "outputs": [],
   "source": [
    "def gini_func(data,col,label,lv='是'):\n",
    "    length1=len(data[col])\n",
    "    ret={}\n",
    "    for k,v in dict(data[col].value_counts()).items():\n",
    "        p1=v/length1\n",
    "#         print(p1)\n",
    "        p2=data[(data[col]==k) & (data[label]==lv)].shape[0] /len(data[data[col]==k][label]) \n",
    "#         print(p2)\n",
    "        p3=data[(data[col]!=k) & (data[label]==lv)].shape[0] /len(data[data[col]!=k][label])\n",
    "#         print(p3)\n",
    "        ret[k]=p1*(2*p2*(1-p2)) + (1-p1)*(2*p3*(1-p3))\n",
    "#         print(ret)\n",
    "    return ret\n",
    "    "
   ]
  },
  {
   "cell_type": "code",
   "execution_count": 26,
   "metadata": {
    "ExecuteTime": {
     "end_time": "2019-04-26T02:35:44.852347Z",
     "start_time": "2019-04-26T02:35:44.821346Z"
    }
   },
   "outputs": [
    {
     "data": {
      "text/plain": [
       "{'中年': 0.48, '老年': 0.44, '青年': 0.44000000000000006}"
      ]
     },
     "execution_count": 26,
     "metadata": {},
     "output_type": "execute_result"
    }
   ],
   "source": [
    "gini_func(train_data2,'Age','Category')"
   ]
  },
  {
   "cell_type": "code",
   "execution_count": 27,
   "metadata": {
    "ExecuteTime": {
     "end_time": "2019-04-26T02:35:45.372377Z",
     "start_time": "2019-04-26T02:35:45.325374Z"
    }
   },
   "outputs": [
    {
     "name": "stdout",
     "output_type": "stream",
     "text": [
      "Age->{'中年': 0.48, '老年': 0.44, '青年': 0.44000000000000006}\n",
      "Work->{'否': 0.31999999999999995, '是': 0.32}\n",
      "Hourse->{'否': 0.26666666666666666, '是': 0.26666666666666666}\n",
      "Loan->{'好': 0.4740740740740741, '一般': 0.32, '非常好': 0.36363636363636365}\n"
     ]
    }
   ],
   "source": [
    "for c in train_data2.columns:\n",
    "    if c !='Category':\n",
    "        print(c+'->'+str(gini_func(train_data2,c,'Category')))"
   ]
  },
  {
   "cell_type": "code",
   "execution_count": 28,
   "metadata": {
    "ExecuteTime": {
     "end_time": "2019-04-26T02:35:46.071405Z",
     "start_time": "2019-04-26T02:35:46.034404Z"
    }
   },
   "outputs": [
    {
     "data": {
      "text/plain": [
       "'中年'"
      ]
     },
     "execution_count": 28,
     "metadata": {},
     "output_type": "execute_result"
    }
   ],
   "source": [
    "a=sorted(gini_func(train_data2,'Age','Category').items(),key=lambda x:x[1])\n",
    "# len(a)\n",
    "a[-1][0]"
   ]
  },
  {
   "cell_type": "code",
   "execution_count": 29,
   "metadata": {
    "ExecuteTime": {
     "end_time": "2019-04-26T02:35:46.712435Z",
     "start_time": "2019-04-26T02:35:46.677434Z"
    }
   },
   "outputs": [],
   "source": [
    "def min_gini(data,label):\n",
    "    ret={}\n",
    "    for c in data.columns:\n",
    "        if c !=label:\n",
    "            s=sorted(gini_func(train_data2,c,label).items(),key=lambda x:x[1])\n",
    "#             print(s)\n",
    "            if len(s)==2:\n",
    "                temp1=s[0]\n",
    "                temp2=s[1]\n",
    "#                 print(temp1[0])\n",
    "                if len(data[data[c]==temp1[0]][label].unique()) ==1:\n",
    "                    print(c)\n",
    "                    print(temp1)\n",
    "                    ret[c]=temp1\n",
    "                else :\n",
    "                    ret[c]=temp2\n",
    "            else:\n",
    "#                 print(c)\n",
    "                ret[c]=s[0]\n",
    "    return ret\n"
   ]
  },
  {
   "cell_type": "code",
   "execution_count": 30,
   "metadata": {
    "ExecuteTime": {
     "end_time": "2019-04-26T02:35:47.323466Z",
     "start_time": "2019-04-26T02:35:47.254463Z"
    }
   },
   "outputs": [
    {
     "data": {
      "text/plain": [
       "{'Age': ('老年', 0.44),\n",
       " 'Hourse': ('是', 0.26666666666666666),\n",
       " 'Loan': ('一般', 0.32),\n",
       " 'Work': ('是', 0.32)}"
      ]
     },
     "execution_count": 30,
     "metadata": {},
     "output_type": "execute_result"
    }
   ],
   "source": [
    "min_gini(train_data2,'Category')"
   ]
  },
  {
   "cell_type": "code",
   "execution_count": 31,
   "metadata": {
    "ExecuteTime": {
     "end_time": "2019-04-26T02:35:48.306498Z",
     "start_time": "2019-04-26T02:35:48.210494Z"
    }
   },
   "outputs": [],
   "source": [
    "def create_dttree_cart(alldata,data,label):\n",
    "    col=data.columns.values.tolist()\n",
    "    s=sorted(min_gini(alldata,label).items(),key=lambda x:x[1][1])\n",
    "#     s=min_gini(data,label)\n",
    "    for i in range(len(s)-1):\n",
    "        temp1=s[i]\n",
    "        temp2=s[i+1]\n",
    "        if temp1[1][1]==temp2[1][1]:\n",
    "            if len(alldata[alldata[temp1[0]]==temp1[1][0]][label].unique())!=1:\n",
    "                s[i]=temp2\n",
    "                s[i+1]=temp1\n",
    "    \n",
    "    if len(col)>2:\n",
    "    \n",
    "        n=alldata.shape[1]-data.shape[1]\n",
    "        print(s)\n",
    "        print(n)\n",
    "        gn,gvs=s[n]\n",
    "        gv=gvs[0]\n",
    "        l=sorted(dict(alldata[alldata[gn]==gv][label].value_counts()).items(),key=lambda x:x[1])[-1][0]\n",
    "        col.remove(gn)\n",
    "        temp=create_dttree_cart(alldata,data[col],label)\n",
    "        return dttree(gn,gv,l,temp)\n",
    "    elif len(col)==2:\n",
    "        n=alldata.shape[1]-data.shape[1]\n",
    "        print(s)\n",
    "        print(n)\n",
    "        gn,gvs=s[n]\n",
    "        gv=gvs[0]\n",
    "        l=sorted(dict(alldata[alldata[gn]==gv][label].value_counts()).items(),key=lambda x:x[1])[-1][0]\n",
    "        ls=list(set(alldata[label]))\n",
    "        ls.remove(l)\n",
    "        nl=ls[0]\n",
    "        return dttree(gn,gv,l,nl) \n",
    "                 \n",
    "    \n",
    "        \n",
    "\n",
    "    "
   ]
  },
  {
   "cell_type": "code",
   "execution_count": 32,
   "metadata": {
    "ExecuteTime": {
     "end_time": "2019-04-26T02:35:49.092533Z",
     "start_time": "2019-04-26T02:35:48.947525Z"
    }
   },
   "outputs": [
    {
     "name": "stdout",
     "output_type": "stream",
     "text": [
      "[('Hourse', ('是', 0.26666666666666666)), ('Work', ('是', 0.32)), ('Loan', ('一般', 0.32)), ('Age', ('老年', 0.44))]\n",
      "0\n",
      "[('Hourse', ('是', 0.26666666666666666)), ('Work', ('是', 0.32)), ('Loan', ('一般', 0.32)), ('Age', ('老年', 0.44))]\n",
      "1\n",
      "[('Hourse', ('是', 0.26666666666666666)), ('Work', ('是', 0.32)), ('Loan', ('一般', 0.32)), ('Age', ('老年', 0.44))]\n",
      "2\n",
      "[('Hourse', ('是', 0.26666666666666666)), ('Work', ('是', 0.32)), ('Loan', ('一般', 0.32)), ('Age', ('老年', 0.44))]\n",
      "3\n"
     ]
    },
    {
     "data": {
      "text/plain": [
       "('Hourse',\n",
       " '是',\n",
       " '是',\n",
       " ('Work', '是', '是', ('Loan', '一般', '否', ('Age', '老年', '是', '否'))))"
      ]
     },
     "execution_count": 32,
     "metadata": {},
     "output_type": "execute_result"
    }
   ],
   "source": [
    "create_dttree_cart(train_data2,train_data2,'Category')"
   ]
  },
  {
   "cell_type": "code",
   "execution_count": 33,
   "metadata": {
    "ExecuteTime": {
     "end_time": "2019-04-26T02:35:50.883569Z",
     "start_time": "2019-04-26T02:35:50.821566Z"
    }
   },
   "outputs": [
    {
     "data": {
      "text/plain": [
       "[('Hourse', ('是', 0.26666666666666666)),\n",
       " ('Work', ('是', 0.32)),\n",
       " ('Loan', ('一般', 0.32)),\n",
       " ('Age', ('老年', 0.44))]"
      ]
     },
     "execution_count": 33,
     "metadata": {},
     "output_type": "execute_result"
    }
   ],
   "source": [
    "a=sorted(min_gini(train_data2,'Category').items(),key=lambda x:x[1][1])\n",
    "a"
   ]
  },
  {
   "cell_type": "code",
   "execution_count": 34,
   "metadata": {
    "ExecuteTime": {
     "end_time": "2019-04-26T02:35:51.404597Z",
     "start_time": "2019-04-26T02:35:51.350595Z"
    }
   },
   "outputs": [
    {
     "name": "stdout",
     "output_type": "stream",
     "text": [
      "0.44\n",
      "0.32\n",
      "0.26666666666666666\n",
      "0.32\n"
     ]
    }
   ],
   "source": [
    "for k,v in min_gini(train_data2,'Category').items():\n",
    "    print(v[1])\n"
   ]
  },
  {
   "cell_type": "code",
   "execution_count": 36,
   "metadata": {
    "ExecuteTime": {
     "end_time": "2019-04-26T02:36:11.302204Z",
     "start_time": "2019-04-26T02:36:11.152196Z"
    }
   },
   "outputs": [
    {
     "name": "stdout",
     "output_type": "stream",
     "text": [
      "[('Hourse', ('是', 0.26666666666666666)), ('Work', ('是', 0.32)), ('Loan', ('一般', 0.32)), ('Age', ('老年', 0.44))]\n",
      "0\n",
      "[('Hourse', ('是', 0.26666666666666666)), ('Work', ('是', 0.32)), ('Loan', ('一般', 0.32)), ('Age', ('老年', 0.44))]\n",
      "1\n",
      "[('Hourse', ('是', 0.26666666666666666)), ('Work', ('是', 0.32)), ('Loan', ('一般', 0.32)), ('Age', ('老年', 0.44))]\n",
      "2\n",
      "[('Hourse', ('是', 0.26666666666666666)), ('Work', ('是', 0.32)), ('Loan', ('一般', 0.32)), ('Age', ('老年', 0.44))]\n",
      "3\n"
     ]
    },
    {
     "data": {
      "text/plain": [
       "('Hourse',\n",
       " '是',\n",
       " '是',\n",
       " ('Work', '是', '是', ('Loan', '一般', '否', ('Age', '老年', '是', '否'))))"
      ]
     },
     "execution_count": 36,
     "metadata": {},
     "output_type": "execute_result"
    }
   ],
   "source": [
    "create_dttree_cart(train_data2,train_data2,'Category')"
   ]
  },
  {
   "cell_type": "code",
   "execution_count": 37,
   "metadata": {
    "ExecuteTime": {
     "end_time": "2019-04-26T02:37:11.861158Z",
     "start_time": "2019-04-26T02:37:11.848157Z"
    }
   },
   "outputs": [
    {
     "data": {
      "text/html": [
       "<div>\n",
       "<style scoped>\n",
       "    .dataframe tbody tr th:only-of-type {\n",
       "        vertical-align: middle;\n",
       "    }\n",
       "\n",
       "    .dataframe tbody tr th {\n",
       "        vertical-align: top;\n",
       "    }\n",
       "\n",
       "    .dataframe thead th {\n",
       "        text-align: right;\n",
       "    }\n",
       "</style>\n",
       "<table border=\"1\" class=\"dataframe\">\n",
       "  <thead>\n",
       "    <tr style=\"text-align: right;\">\n",
       "      <th></th>\n",
       "      <th>Age</th>\n",
       "      <th>Work</th>\n",
       "      <th>Hourse</th>\n",
       "      <th>Loan</th>\n",
       "    </tr>\n",
       "  </thead>\n",
       "  <tbody>\n",
       "    <tr>\n",
       "      <th>0</th>\n",
       "      <td>老年</td>\n",
       "      <td>是</td>\n",
       "      <td>是</td>\n",
       "      <td>一般</td>\n",
       "    </tr>\n",
       "  </tbody>\n",
       "</table>\n",
       "</div>"
      ],
      "text/plain": [
       "  Age Work Hourse Loan\n",
       "0  老年    是      是   一般"
      ]
     },
     "execution_count": 37,
     "metadata": {},
     "output_type": "execute_result"
    }
   ],
   "source": [
    "test_data"
   ]
  },
  {
   "cell_type": "code",
   "execution_count": 38,
   "metadata": {
    "ExecuteTime": {
     "end_time": "2019-04-26T02:46:21.394590Z",
     "start_time": "2019-04-26T02:46:21.247581Z"
    }
   },
   "outputs": [
    {
     "name": "stdout",
     "output_type": "stream",
     "text": [
      "[('Hourse', ('是', 0.26666666666666666)), ('Work', ('是', 0.32)), ('Loan', ('一般', 0.32)), ('Age', ('老年', 0.44))]\n",
      "0\n",
      "[('Hourse', ('是', 0.26666666666666666)), ('Work', ('是', 0.32)), ('Loan', ('一般', 0.32)), ('Age', ('老年', 0.44))]\n",
      "1\n",
      "[('Hourse', ('是', 0.26666666666666666)), ('Work', ('是', 0.32)), ('Loan', ('一般', 0.32)), ('Age', ('老年', 0.44))]\n",
      "2\n",
      "[('Hourse', ('是', 0.26666666666666666)), ('Work', ('是', 0.32)), ('Loan', ('一般', 0.32)), ('Age', ('老年', 0.44))]\n",
      "3\n"
     ]
    }
   ],
   "source": [
    "a=create_dttree_cart(train_data2,train_data2,'Category')"
   ]
  },
  {
   "cell_type": "code",
   "execution_count": 45,
   "metadata": {
    "ExecuteTime": {
     "end_time": "2019-04-26T02:48:38.462429Z",
     "start_time": "2019-04-26T02:48:38.456429Z"
    }
   },
   "outputs": [
    {
     "data": {
      "text/plain": [
       "4"
      ]
     },
     "execution_count": 45,
     "metadata": {},
     "output_type": "execute_result"
    }
   ],
   "source": [
    "len(a)"
   ]
  },
  {
   "cell_type": "code",
   "execution_count": 44,
   "metadata": {
    "ExecuteTime": {
     "end_time": "2019-04-26T02:47:56.195012Z",
     "start_time": "2019-04-26T02:47:56.186011Z"
    }
   },
   "outputs": [
    {
     "name": "stdout",
     "output_type": "stream",
     "text": [
      "否\n"
     ]
    },
    {
     "data": {
      "text/plain": [
       "1"
      ]
     },
     "execution_count": 44,
     "metadata": {},
     "output_type": "execute_result"
    }
   ],
   "source": [
    "print(a.subtree.subtree.subtree.subtree)\n",
    "len(a.subtree.subtree.subtree.subtree)"
   ]
  },
  {
   "cell_type": "code",
   "execution_count": 46,
   "metadata": {
    "ExecuteTime": {
     "end_time": "2019-04-26T02:51:01.129590Z",
     "start_time": "2019-04-26T02:51:01.103588Z"
    }
   },
   "outputs": [],
   "source": [
    "def kdtree_cart_predict(tr,test):\n",
    "    tn=tr.feat\n",
    "    tv=tr.value\n",
    "    tl=tr.label\n",
    "    test_v=test[tn][0]\n",
    "    len1=len(tr)\n",
    "    len2=len(tr.subtree)\n",
    "    \n",
    "    if test_v ==tv and tl is not None:\n",
    "        l= tl\n",
    "    \n",
    "    if test_v != tv:\n",
    "        if len1==len2:\n",
    "            l=kdtree_cart_predict(tr.subtree,test)\n",
    "        else:\n",
    "            l=tr.subtree\n",
    "    \n",
    "    return l\n",
    "            \n",
    "    \n",
    "    \n",
    "    "
   ]
  },
  {
   "cell_type": "code",
   "execution_count": 48,
   "metadata": {
    "ExecuteTime": {
     "end_time": "2019-04-26T02:52:30.597707Z",
     "start_time": "2019-04-26T02:52:30.579706Z"
    }
   },
   "outputs": [
    {
     "data": {
      "text/html": [
       "<div>\n",
       "<style scoped>\n",
       "    .dataframe tbody tr th:only-of-type {\n",
       "        vertical-align: middle;\n",
       "    }\n",
       "\n",
       "    .dataframe tbody tr th {\n",
       "        vertical-align: top;\n",
       "    }\n",
       "\n",
       "    .dataframe thead th {\n",
       "        text-align: right;\n",
       "    }\n",
       "</style>\n",
       "<table border=\"1\" class=\"dataframe\">\n",
       "  <thead>\n",
       "    <tr style=\"text-align: right;\">\n",
       "      <th></th>\n",
       "      <th>Age</th>\n",
       "      <th>Work</th>\n",
       "      <th>Hourse</th>\n",
       "      <th>Loan</th>\n",
       "    </tr>\n",
       "  </thead>\n",
       "  <tbody>\n",
       "    <tr>\n",
       "      <th>0</th>\n",
       "      <td>老年</td>\n",
       "      <td>是</td>\n",
       "      <td>是</td>\n",
       "      <td>一般</td>\n",
       "    </tr>\n",
       "  </tbody>\n",
       "</table>\n",
       "</div>"
      ],
      "text/plain": [
       "  Age Work Hourse Loan\n",
       "0  老年    是      是   一般"
      ]
     },
     "execution_count": 48,
     "metadata": {},
     "output_type": "execute_result"
    }
   ],
   "source": [
    "test_data"
   ]
  },
  {
   "cell_type": "code",
   "execution_count": 47,
   "metadata": {
    "ExecuteTime": {
     "end_time": "2019-04-26T02:52:19.304061Z",
     "start_time": "2019-04-26T02:52:19.298061Z"
    }
   },
   "outputs": [
    {
     "data": {
      "text/plain": [
       "'是'"
      ]
     },
     "execution_count": 47,
     "metadata": {},
     "output_type": "execute_result"
    }
   ],
   "source": [
    "kdtree_cart_predict(a,test_data)"
   ]
  },
  {
   "cell_type": "code",
   "execution_count": 52,
   "metadata": {
    "ExecuteTime": {
     "end_time": "2019-04-26T02:54:23.616171Z",
     "start_time": "2019-04-26T02:54:23.591170Z"
    }
   },
   "outputs": [
    {
     "data": {
      "text/html": [
       "<div>\n",
       "<style scoped>\n",
       "    .dataframe tbody tr th:only-of-type {\n",
       "        vertical-align: middle;\n",
       "    }\n",
       "\n",
       "    .dataframe tbody tr th {\n",
       "        vertical-align: top;\n",
       "    }\n",
       "\n",
       "    .dataframe thead th {\n",
       "        text-align: right;\n",
       "    }\n",
       "</style>\n",
       "<table border=\"1\" class=\"dataframe\">\n",
       "  <thead>\n",
       "    <tr style=\"text-align: right;\">\n",
       "      <th></th>\n",
       "      <th>Age</th>\n",
       "      <th>Work</th>\n",
       "      <th>Hourse</th>\n",
       "      <th>Loan</th>\n",
       "    </tr>\n",
       "  </thead>\n",
       "  <tbody>\n",
       "    <tr>\n",
       "      <th>0</th>\n",
       "      <td>老年</td>\n",
       "      <td>否</td>\n",
       "      <td>否</td>\n",
       "      <td>好</td>\n",
       "    </tr>\n",
       "  </tbody>\n",
       "</table>\n",
       "</div>"
      ],
      "text/plain": [
       "  Age Work Hourse Loan\n",
       "0  老年    否      否    好"
      ]
     },
     "execution_count": 52,
     "metadata": {},
     "output_type": "execute_result"
    }
   ],
   "source": [
    "t_data2=np.array(['老年', '否', '否', '好'])\n",
    "t_data2=t_data2.reshape(1,4)\n",
    "t_col=train_data2.columns.values.tolist()[:-1]\n",
    "# test_data=pd.DataFrame(np.array(t_data),columns=t_col)\n",
    "test_data2=pd.DataFrame(t_data2,columns=t_col)\n",
    "test_data2"
   ]
  },
  {
   "cell_type": "code",
   "execution_count": 53,
   "metadata": {
    "ExecuteTime": {
     "end_time": "2019-04-26T02:54:24.059196Z",
     "start_time": "2019-04-26T02:54:24.054196Z"
    }
   },
   "outputs": [
    {
     "data": {
      "text/plain": [
       "'是'"
      ]
     },
     "execution_count": 53,
     "metadata": {},
     "output_type": "execute_result"
    }
   ],
   "source": [
    "kdtree_cart_predict(a,test_data2)"
   ]
  },
  {
   "cell_type": "code",
   "execution_count": 55,
   "metadata": {
    "ExecuteTime": {
     "end_time": "2019-04-28T02:57:31.123048Z",
     "start_time": "2019-04-28T02:57:31.115048Z"
    }
   },
   "outputs": [
    {
     "data": {
      "text/plain": [
       "'是'"
      ]
     },
     "execution_count": 55,
     "metadata": {},
     "output_type": "execute_result"
    }
   ],
   "source": [
    "kdtree_cart_predict(a,test_data2)"
   ]
  },
  {
   "cell_type": "code",
   "execution_count": 56,
   "metadata": {
    "ExecuteTime": {
     "end_time": "2019-04-28T02:58:07.711141Z",
     "start_time": "2019-04-28T02:58:07.691140Z"
    }
   },
   "outputs": [
    {
     "data": {
      "text/html": [
       "<div>\n",
       "<style scoped>\n",
       "    .dataframe tbody tr th:only-of-type {\n",
       "        vertical-align: middle;\n",
       "    }\n",
       "\n",
       "    .dataframe tbody tr th {\n",
       "        vertical-align: top;\n",
       "    }\n",
       "\n",
       "    .dataframe thead th {\n",
       "        text-align: right;\n",
       "    }\n",
       "</style>\n",
       "<table border=\"1\" class=\"dataframe\">\n",
       "  <thead>\n",
       "    <tr style=\"text-align: right;\">\n",
       "      <th></th>\n",
       "      <th>Age</th>\n",
       "      <th>Work</th>\n",
       "      <th>Hourse</th>\n",
       "      <th>Loan</th>\n",
       "    </tr>\n",
       "  </thead>\n",
       "  <tbody>\n",
       "    <tr>\n",
       "      <th>0</th>\n",
       "      <td>中年</td>\n",
       "      <td>否</td>\n",
       "      <td>否</td>\n",
       "      <td>好</td>\n",
       "    </tr>\n",
       "  </tbody>\n",
       "</table>\n",
       "</div>"
      ],
      "text/plain": [
       "  Age Work Hourse Loan\n",
       "0  中年    否      否    好"
      ]
     },
     "execution_count": 56,
     "metadata": {},
     "output_type": "execute_result"
    }
   ],
   "source": [
    "t_data3=np.array(['中年', '否', '否', '好'])\n",
    "t_data3=t_data3.reshape(1,4)\n",
    "t_col=train_data2.columns.values.tolist()[:-1]\n",
    "# test_data=pd.DataFrame(np.array(t_data),columns=t_col)\n",
    "test_data3=pd.DataFrame(t_data3,columns=t_col)\n",
    "test_data3"
   ]
  },
  {
   "cell_type": "code",
   "execution_count": 57,
   "metadata": {
    "ExecuteTime": {
     "end_time": "2019-04-28T02:58:15.296575Z",
     "start_time": "2019-04-28T02:58:15.287574Z"
    }
   },
   "outputs": [
    {
     "data": {
      "text/plain": [
       "'否'"
      ]
     },
     "execution_count": 57,
     "metadata": {},
     "output_type": "execute_result"
    }
   ],
   "source": [
    "kdtree_cart_predict(a,test_data3)"
   ]
  },
  {
   "cell_type": "code",
   "execution_count": 69,
   "metadata": {
    "ExecuteTime": {
     "end_time": "2019-04-28T03:16:20.847665Z",
     "start_time": "2019-04-28T03:16:20.838664Z"
    }
   },
   "outputs": [
    {
     "data": {
      "text/plain": [
       "[3, 2, 1]"
      ]
     },
     "execution_count": 69,
     "metadata": {},
     "output_type": "execute_result"
    }
   ],
   "source": [
    "d={'a':1,'b':2,'c':3}\n",
    "# for k in d.items():\n",
    "#     print(k)\n",
    "sorted(d.values(),reverse=True)"
   ]
  },
  {
   "cell_type": "code",
   "execution_count": null,
   "metadata": {},
   "outputs": [],
   "source": []
  }
 ],
 "metadata": {
  "kernelspec": {
   "display_name": "Python 3",
   "language": "python",
   "name": "python3"
  },
  "language_info": {
   "codemirror_mode": {
    "name": "ipython",
    "version": 3
   },
   "file_extension": ".py",
   "mimetype": "text/x-python",
   "name": "python",
   "nbconvert_exporter": "python",
   "pygments_lexer": "ipython3",
   "version": "3.6.3"
  }
 },
 "nbformat": 4,
 "nbformat_minor": 2
}
