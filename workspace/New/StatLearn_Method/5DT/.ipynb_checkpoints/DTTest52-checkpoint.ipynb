{
 "cells": [
  {
   "cell_type": "code",
   "execution_count": 4,
   "metadata": {
    "ExecuteTime": {
     "end_time": "2019-04-04T02:49:57.585443Z",
     "start_time": "2019-04-04T02:49:57.579443Z"
    }
   },
   "outputs": [],
   "source": [
    "import numpy as np\n",
    "import pandas as pd\n",
    "import matplotlib.pyplot as plt\n",
    "\n",
    "from collections import Counter\n",
    "import math\n",
    "from math import log\n",
    "\n",
    "from  pprint import pformat\n",
    "from collections import namedtuple"
   ]
  },
  {
   "cell_type": "code",
   "execution_count": 5,
   "metadata": {
    "ExecuteTime": {
     "end_time": "2019-04-04T02:49:57.603444Z",
     "start_time": "2019-04-04T02:49:57.588443Z"
    }
   },
   "outputs": [],
   "source": [
    "def create_data():\n",
    "    datasets = [['青年', '否', '否', '一般', '否'],\n",
    "           ['青年', '否', '否', '好', '否'],\n",
    "           ['青年', '是', '否', '好', '是'],\n",
    "           ['青年', '是', '是', '一般', '是'],\n",
    "           ['青年', '否', '否', '一般', '否'],\n",
    "           ['中年', '否', '否', '一般', '否'],\n",
    "           ['中年', '否', '否', '好', '否'],\n",
    "           ['中年', '是', '是', '好', '是'],\n",
    "           ['中年', '否', '是', '非常好', '是'],\n",
    "           ['中年', '否', '是', '非常好', '是'],\n",
    "           ['老年', '否', '是', '非常好', '是'],\n",
    "           ['老年', '否', '是', '好', '是'],\n",
    "           ['老年', '是', '否', '好', '是'],\n",
    "           ['老年', '是', '否', '非常好', '是'],\n",
    "           ['老年', '否', '否', '一般', '否'],\n",
    "           ]\n",
    "    labels = [u'年龄', u'有工作', u'有自己的房子', u'信贷情况', u'类别']\n",
    "    \n",
    "    return datasets,labels"
   ]
  },
  {
   "cell_type": "code",
   "execution_count": 6,
   "metadata": {
    "ExecuteTime": {
     "end_time": "2019-04-04T02:49:57.622445Z",
     "start_time": "2019-04-04T02:49:57.605444Z"
    }
   },
   "outputs": [],
   "source": [
    "datasets,labels=create_data()\n",
    "train_data=pd.DataFrame(datasets,columns=labels)\n",
    "train_data2=train_data\n",
    "train_data2.columns=['Age','Work','Hourse','Loan','Category']"
   ]
  },
  {
   "cell_type": "code",
   "execution_count": 7,
   "metadata": {
    "ExecuteTime": {
     "end_time": "2019-04-04T02:53:42.362300Z",
     "start_time": "2019-04-04T02:53:42.320297Z"
    }
   },
   "outputs": [
    {
     "data": {
      "text/html": [
       "<div>\n",
       "<style scoped>\n",
       "    .dataframe tbody tr th:only-of-type {\n",
       "        vertical-align: middle;\n",
       "    }\n",
       "\n",
       "    .dataframe tbody tr th {\n",
       "        vertical-align: top;\n",
       "    }\n",
       "\n",
       "    .dataframe thead th {\n",
       "        text-align: right;\n",
       "    }\n",
       "</style>\n",
       "<table border=\"1\" class=\"dataframe\">\n",
       "  <thead>\n",
       "    <tr style=\"text-align: right;\">\n",
       "      <th></th>\n",
       "      <th>Age</th>\n",
       "      <th>Work</th>\n",
       "      <th>Hourse</th>\n",
       "      <th>Loan</th>\n",
       "      <th>Category</th>\n",
       "    </tr>\n",
       "  </thead>\n",
       "  <tbody>\n",
       "    <tr>\n",
       "      <th>0</th>\n",
       "      <td>青年</td>\n",
       "      <td>否</td>\n",
       "      <td>否</td>\n",
       "      <td>一般</td>\n",
       "      <td>否</td>\n",
       "    </tr>\n",
       "    <tr>\n",
       "      <th>1</th>\n",
       "      <td>青年</td>\n",
       "      <td>否</td>\n",
       "      <td>否</td>\n",
       "      <td>好</td>\n",
       "      <td>否</td>\n",
       "    </tr>\n",
       "    <tr>\n",
       "      <th>2</th>\n",
       "      <td>青年</td>\n",
       "      <td>是</td>\n",
       "      <td>否</td>\n",
       "      <td>好</td>\n",
       "      <td>是</td>\n",
       "    </tr>\n",
       "    <tr>\n",
       "      <th>3</th>\n",
       "      <td>青年</td>\n",
       "      <td>是</td>\n",
       "      <td>是</td>\n",
       "      <td>一般</td>\n",
       "      <td>是</td>\n",
       "    </tr>\n",
       "    <tr>\n",
       "      <th>4</th>\n",
       "      <td>青年</td>\n",
       "      <td>否</td>\n",
       "      <td>否</td>\n",
       "      <td>一般</td>\n",
       "      <td>否</td>\n",
       "    </tr>\n",
       "  </tbody>\n",
       "</table>\n",
       "</div>"
      ],
      "text/plain": [
       "  Age Work Hourse Loan Category\n",
       "0  青年    否      否   一般        否\n",
       "1  青年    否      否    好        否\n",
       "2  青年    是      否    好        是\n",
       "3  青年    是      是   一般        是\n",
       "4  青年    否      否   一般        否"
      ]
     },
     "execution_count": 7,
     "metadata": {},
     "output_type": "execute_result"
    }
   ],
   "source": [
    "train_data2.head()"
   ]
  },
  {
   "cell_type": "code",
   "execution_count": 9,
   "metadata": {
    "ExecuteTime": {
     "end_time": "2019-04-04T06:33:38.448073Z",
     "start_time": "2019-04-04T06:33:38.435072Z"
    }
   },
   "outputs": [
    {
     "data": {
      "text/plain": [
       "{'否': 6, '是': 9}"
      ]
     },
     "execution_count": 9,
     "metadata": {},
     "output_type": "execute_result"
    }
   ],
   "source": [
    "dict(train_data2.Category.value_counts())"
   ]
  },
  {
   "cell_type": "code",
   "execution_count": 10,
   "metadata": {
    "ExecuteTime": {
     "end_time": "2019-04-04T06:38:30.202760Z",
     "start_time": "2019-04-04T06:38:30.190759Z"
    }
   },
   "outputs": [
    {
     "data": {
      "text/plain": [
       "3.0"
      ]
     },
     "execution_count": 10,
     "metadata": {},
     "output_type": "execute_result"
    }
   ],
   "source": [
    "math.log(8,2)"
   ]
  },
  {
   "cell_type": "code",
   "execution_count": 15,
   "metadata": {
    "ExecuteTime": {
     "end_time": "2019-04-04T06:43:23.176517Z",
     "start_time": "2019-04-04T06:43:23.160516Z"
    }
   },
   "outputs": [],
   "source": [
    "def emp_ent(col):\n",
    "    length=len(col)\n",
    "    eent=0\n",
    "    for k,v in dict(col.value_counts()).items():\n",
    "        p=v/float(length)\n",
    "        eent+=p*math.log(p,2)\n",
    "    return -eent\n",
    "    "
   ]
  },
  {
   "cell_type": "code",
   "execution_count": 16,
   "metadata": {
    "ExecuteTime": {
     "end_time": "2019-04-04T06:43:23.801553Z",
     "start_time": "2019-04-04T06:43:23.793553Z"
    }
   },
   "outputs": [
    {
     "data": {
      "text/plain": [
       "0.9709505944546686"
      ]
     },
     "execution_count": 16,
     "metadata": {},
     "output_type": "execute_result"
    }
   ],
   "source": [
    "emp_ent(train_data2.Category)"
   ]
  },
  {
   "cell_type": "code",
   "execution_count": 20,
   "metadata": {
    "ExecuteTime": {
     "end_time": "2019-04-04T07:07:57.293832Z",
     "start_time": "2019-04-04T07:07:57.270831Z"
    }
   },
   "outputs": [],
   "source": [
    "def cond_ent(data,feat,label):\n",
    "    length=len(data[feat])\n",
    "    cent=0\n",
    "    for k,v in dict(data[feat].value_counts()).items():\n",
    "        p=v/float(length)\n",
    "        cent+=p*emp_ent(data[data[feat]==k][label])\n",
    "    return cent\n",
    "    \n",
    "    "
   ]
  },
  {
   "cell_type": "code",
   "execution_count": 21,
   "metadata": {
    "ExecuteTime": {
     "end_time": "2019-04-04T07:07:57.748858Z",
     "start_time": "2019-04-04T07:07:57.735857Z"
    }
   },
   "outputs": [
    {
     "data": {
      "text/plain": [
       "0.8879430945988998"
      ]
     },
     "execution_count": 21,
     "metadata": {},
     "output_type": "execute_result"
    }
   ],
   "source": [
    "cond_ent(train_data2,'Age','Category')"
   ]
  },
  {
   "cell_type": "code",
   "execution_count": 22,
   "metadata": {
    "ExecuteTime": {
     "end_time": "2019-04-04T07:11:17.598289Z",
     "start_time": "2019-04-04T07:11:17.591288Z"
    }
   },
   "outputs": [],
   "source": [
    "def gini_func(data,feat,label):\n",
    "    return emp_ent(data[label])-cond_ent(data,feat,label)"
   ]
  },
  {
   "cell_type": "code",
   "execution_count": 23,
   "metadata": {
    "ExecuteTime": {
     "end_time": "2019-04-04T07:11:28.667922Z",
     "start_time": "2019-04-04T07:11:28.645921Z"
    }
   },
   "outputs": [
    {
     "data": {
      "text/plain": [
       "0.08300749985576883"
      ]
     },
     "execution_count": 23,
     "metadata": {},
     "output_type": "execute_result"
    }
   ],
   "source": [
    "gini_func(train_data2,'Age','Category')"
   ]
  },
  {
   "cell_type": "code",
   "execution_count": 24,
   "metadata": {
    "ExecuteTime": {
     "end_time": "2019-04-04T07:15:36.014069Z",
     "start_time": "2019-04-04T07:15:36.005069Z"
    }
   },
   "outputs": [],
   "source": [
    "def find_max_gini(data,label):\n",
    "    col=data.columns.values.tolist()\n",
    "    col.remove(label)\n",
    "    mgini=0\n",
    "    name=None\n",
    "    for n in col:\n",
    "        t=gini_func(data,n,label)\n",
    "        if mgini<t:\n",
    "            mgini=t\n",
    "            name=n\n",
    "    return (name,mgini)\n",
    "        "
   ]
  },
  {
   "cell_type": "code",
   "execution_count": 25,
   "metadata": {
    "ExecuteTime": {
     "end_time": "2019-04-04T07:15:50.965924Z",
     "start_time": "2019-04-04T07:15:50.925922Z"
    }
   },
   "outputs": [
    {
     "data": {
      "text/plain": [
       "('Hourse', 0.4199730940219749)"
      ]
     },
     "execution_count": 25,
     "metadata": {},
     "output_type": "execute_result"
    }
   ],
   "source": [
    "find_max_gini(train_data2,'Category')"
   ]
  },
  {
   "cell_type": "code",
   "execution_count": 30,
   "metadata": {
    "ExecuteTime": {
     "end_time": "2019-04-04T08:57:00.658091Z",
     "start_time": "2019-04-04T08:57:00.648090Z"
    }
   },
   "outputs": [
    {
     "data": {
      "text/plain": [
       "'否'"
      ]
     },
     "execution_count": 30,
     "metadata": {},
     "output_type": "execute_result"
    }
   ],
   "source": [
    "train_data2.Category.unique()[0]"
   ]
  },
  {
   "cell_type": "code",
   "execution_count": 40,
   "metadata": {
    "ExecuteTime": {
     "end_time": "2019-04-04T09:29:45.994502Z",
     "start_time": "2019-04-04T09:29:45.982501Z"
    }
   },
   "outputs": [],
   "source": [
    "class tree(namedtuple('dt_tree','feat,value ,label,subtree')):\n",
    "    def __repr__(self):\n",
    "        return pformat(tuple(self))"
   ]
  },
  {
   "cell_type": "code",
   "execution_count": 43,
   "metadata": {
    "ExecuteTime": {
     "end_time": "2019-04-04T09:30:00.672341Z",
     "start_time": "2019-04-04T09:30:00.608338Z"
    }
   },
   "outputs": [],
   "source": [
    "def dt_train(data,label):\n",
    "    col=data.columns.values.tolist()\n",
    "    if len(data[label].unique())==1:\n",
    "        return tree(None,None,data[label][0],None)\n",
    "    \n",
    "    if data.shape[1]==1 and (label !='' or label is not None):\n",
    "        label=sorted(dict(data[label].value_counts()).items(),key=lambda x:x[1])[-1][0]\n",
    "        return tree(None,None,label,None)\n",
    "    \n",
    "    fname,mgini=find_max_gini(data,label)\n",
    "    tl=None\n",
    "    st=[]\n",
    "    for v in list(set(data[fname])):\n",
    "        ll=len(data[data[fname]==v][label].unique())\n",
    "        if ll ==1:\n",
    "            tl=data[data[fname]==v][label].unique()[0]\n",
    "            tv=v\n",
    "            st.append(tree(None,v,tl,None))    \n",
    "        else:\n",
    "#             print(col)\n",
    "#             print(fname)\n",
    "            col.remove(fname)\n",
    "            temp=dt_train(data[data[fname]==v][col],label)\n",
    "            st.append(tree(None,v,None,temp))\n",
    "        \n",
    "    return tree(fname,None,None,st)"
   ]
  },
  {
   "cell_type": "code",
   "execution_count": 44,
   "metadata": {
    "ExecuteTime": {
     "end_time": "2019-04-04T09:30:01.041362Z",
     "start_time": "2019-04-04T09:30:00.983359Z"
    }
   },
   "outputs": [
    {
     "name": "stdout",
     "output_type": "stream",
     "text": [
      "('Hourse',\n",
      " None,\n",
      " None,\n",
      " [(None,\n",
      " '否',\n",
      " None,\n",
      " ('Work', None, None, [(None, '否', '否', None), (None, '是', '是', None)])),\n",
      "  (None, '是', '是', None)])\n"
     ]
    }
   ],
   "source": [
    "print(dt_train(train_data2,'Category'))"
   ]
  },
  {
   "cell_type": "code",
   "execution_count": 46,
   "metadata": {
    "ExecuteTime": {
     "end_time": "2019-04-04T09:47:14.375466Z",
     "start_time": "2019-04-04T09:47:14.328463Z"
    }
   },
   "outputs": [],
   "source": [
    "def dt_pred(tr,last_col,x):\n",
    "    fv=tr.feat\n",
    "    if fv is None:\n",
    "        fv=last_col\n",
    "    vv=tr.value\n",
    "    lv=tr.label\n",
    "    tv=x[fv][0]\n",
    "    \n",
    "    if vv==tv and lv is not None:\n",
    "        return lv\n",
    "    \n",
    "    if vv ==tv :\n",
    "        lv=dt_pred(tr.subtree,fv,x)\n",
    "    \n",
    "    if lv is None:\n",
    "        i=0\n",
    "        while tr.subtree[i].value != tv:\n",
    "            i+=1\n",
    "        lv=dt_pred(tr.subtree[i],fv,x)\n",
    "    return lv"
   ]
  },
  {
   "cell_type": "code",
   "execution_count": 54,
   "metadata": {
    "ExecuteTime": {
     "end_time": "2019-04-04T09:51:32.289218Z",
     "start_time": "2019-04-04T09:51:32.265216Z"
    }
   },
   "outputs": [
    {
     "data": {
      "text/html": [
       "<div>\n",
       "<style scoped>\n",
       "    .dataframe tbody tr th:only-of-type {\n",
       "        vertical-align: middle;\n",
       "    }\n",
       "\n",
       "    .dataframe tbody tr th {\n",
       "        vertical-align: top;\n",
       "    }\n",
       "\n",
       "    .dataframe thead th {\n",
       "        text-align: right;\n",
       "    }\n",
       "</style>\n",
       "<table border=\"1\" class=\"dataframe\">\n",
       "  <thead>\n",
       "    <tr style=\"text-align: right;\">\n",
       "      <th></th>\n",
       "      <th>Age</th>\n",
       "      <th>Work</th>\n",
       "      <th>Hourse</th>\n",
       "      <th>Loan</th>\n",
       "    </tr>\n",
       "  </thead>\n",
       "  <tbody>\n",
       "    <tr>\n",
       "      <th>0</th>\n",
       "      <td>老年</td>\n",
       "      <td>否</td>\n",
       "      <td>是</td>\n",
       "      <td>一般</td>\n",
       "    </tr>\n",
       "  </tbody>\n",
       "</table>\n",
       "</div>"
      ],
      "text/plain": [
       "  Age Work Hourse Loan\n",
       "0  老年    否      是   一般"
      ]
     },
     "execution_count": 54,
     "metadata": {},
     "output_type": "execute_result"
    }
   ],
   "source": [
    "t_data=np.array(['老年', '否', '是', '一般'])\n",
    "t_data=t_data.reshape(1,4)\n",
    "t_col=train_data2.columns.values.tolist()[:-1]\n",
    "# test_data=pd.DataFrame(np.array(t_data),columns=t_col)\n",
    "test_data=pd.DataFrame(t_data,columns=t_col)\n",
    "test_data"
   ]
  },
  {
   "cell_type": "code",
   "execution_count": 55,
   "metadata": {
    "ExecuteTime": {
     "end_time": "2019-04-04T09:51:32.783246Z",
     "start_time": "2019-04-04T09:51:32.731243Z"
    }
   },
   "outputs": [
    {
     "data": {
      "text/plain": [
       "'是'"
      ]
     },
     "execution_count": 55,
     "metadata": {},
     "output_type": "execute_result"
    }
   ],
   "source": [
    "dt=dt_train(train_data2,'Category')\n",
    "dt_pred(dt,None,test_data)"
   ]
  },
  {
   "cell_type": "code",
   "execution_count": null,
   "metadata": {},
   "outputs": [],
   "source": []
  }
 ],
 "metadata": {
  "kernelspec": {
   "display_name": "Python 3",
   "language": "python",
   "name": "python3"
  },
  "language_info": {
   "codemirror_mode": {
    "name": "ipython",
    "version": 3
   },
   "file_extension": ".py",
   "mimetype": "text/x-python",
   "name": "python",
   "nbconvert_exporter": "python",
   "pygments_lexer": "ipython3",
   "version": "3.6.3"
  }
 },
 "nbformat": 4,
 "nbformat_minor": 2
}
