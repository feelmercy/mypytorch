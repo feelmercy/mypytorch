{
 "cells": [
  {
   "cell_type": "code",
   "execution_count": 23,
   "metadata": {
    "ExecuteTime": {
     "end_time": "2019-03-25T03:05:57.204371Z",
     "start_time": "2019-03-25T03:05:57.188370Z"
    }
   },
   "outputs": [],
   "source": [
    "import numpy as np\n",
    "import pandas as pd\n",
    "import matplotlib.pyplot as plt\n",
    "\n",
    "from collections import Counter\n",
    "import math\n",
    "from math import log\n",
    "\n",
    "from  pprint import pformat\n",
    "from collections import namedtuple"
   ]
  },
  {
   "cell_type": "code",
   "execution_count": 2,
   "metadata": {
    "ExecuteTime": {
     "end_time": "2019-03-25T02:12:29.931925Z",
     "start_time": "2019-03-25T02:12:29.918924Z"
    }
   },
   "outputs": [],
   "source": [
    "def create_data():\n",
    "    datasets = [['青年', '否', '否', '一般', '否'],\n",
    "           ['青年', '否', '否', '好', '否'],\n",
    "           ['青年', '是', '否', '好', '是'],\n",
    "           ['青年', '是', '是', '一般', '是'],\n",
    "           ['青年', '否', '否', '一般', '否'],\n",
    "           ['中年', '否', '否', '一般', '否'],\n",
    "           ['中年', '否', '否', '好', '否'],\n",
    "           ['中年', '是', '是', '好', '是'],\n",
    "           ['中年', '否', '是', '非常好', '是'],\n",
    "           ['中年', '否', '是', '非常好', '是'],\n",
    "           ['老年', '否', '是', '非常好', '是'],\n",
    "           ['老年', '否', '是', '好', '是'],\n",
    "           ['老年', '是', '否', '好', '是'],\n",
    "           ['老年', '是', '否', '非常好', '是'],\n",
    "           ['老年', '否', '否', '一般', '否'],\n",
    "           ]\n",
    "    labels = [u'年龄', u'有工作', u'有自己的房子', u'信贷情况', u'类别']\n",
    "    \n",
    "    return datasets,labels"
   ]
  },
  {
   "cell_type": "code",
   "execution_count": 3,
   "metadata": {
    "ExecuteTime": {
     "end_time": "2019-03-25T02:12:29.957927Z",
     "start_time": "2019-03-25T02:12:29.933925Z"
    }
   },
   "outputs": [],
   "source": [
    "datasets,labels=create_data()"
   ]
  },
  {
   "cell_type": "code",
   "execution_count": 4,
   "metadata": {
    "ExecuteTime": {
     "end_time": "2019-03-25T02:12:29.966927Z",
     "start_time": "2019-03-25T02:12:29.958927Z"
    }
   },
   "outputs": [],
   "source": [
    "train_data=pd.DataFrame(datasets,columns=labels)"
   ]
  },
  {
   "cell_type": "code",
   "execution_count": 5,
   "metadata": {
    "ExecuteTime": {
     "end_time": "2019-03-25T02:12:29.991928Z",
     "start_time": "2019-03-25T02:12:29.967927Z"
    }
   },
   "outputs": [
    {
     "data": {
      "text/html": [
       "<div>\n",
       "<style scoped>\n",
       "    .dataframe tbody tr th:only-of-type {\n",
       "        vertical-align: middle;\n",
       "    }\n",
       "\n",
       "    .dataframe tbody tr th {\n",
       "        vertical-align: top;\n",
       "    }\n",
       "\n",
       "    .dataframe thead th {\n",
       "        text-align: right;\n",
       "    }\n",
       "</style>\n",
       "<table border=\"1\" class=\"dataframe\">\n",
       "  <thead>\n",
       "    <tr style=\"text-align: right;\">\n",
       "      <th></th>\n",
       "      <th>年龄</th>\n",
       "      <th>有工作</th>\n",
       "      <th>有自己的房子</th>\n",
       "      <th>信贷情况</th>\n",
       "      <th>类别</th>\n",
       "    </tr>\n",
       "  </thead>\n",
       "  <tbody>\n",
       "    <tr>\n",
       "      <th>0</th>\n",
       "      <td>青年</td>\n",
       "      <td>否</td>\n",
       "      <td>否</td>\n",
       "      <td>一般</td>\n",
       "      <td>否</td>\n",
       "    </tr>\n",
       "    <tr>\n",
       "      <th>1</th>\n",
       "      <td>青年</td>\n",
       "      <td>否</td>\n",
       "      <td>否</td>\n",
       "      <td>好</td>\n",
       "      <td>否</td>\n",
       "    </tr>\n",
       "    <tr>\n",
       "      <th>2</th>\n",
       "      <td>青年</td>\n",
       "      <td>是</td>\n",
       "      <td>否</td>\n",
       "      <td>好</td>\n",
       "      <td>是</td>\n",
       "    </tr>\n",
       "    <tr>\n",
       "      <th>3</th>\n",
       "      <td>青年</td>\n",
       "      <td>是</td>\n",
       "      <td>是</td>\n",
       "      <td>一般</td>\n",
       "      <td>是</td>\n",
       "    </tr>\n",
       "    <tr>\n",
       "      <th>4</th>\n",
       "      <td>青年</td>\n",
       "      <td>否</td>\n",
       "      <td>否</td>\n",
       "      <td>一般</td>\n",
       "      <td>否</td>\n",
       "    </tr>\n",
       "    <tr>\n",
       "      <th>5</th>\n",
       "      <td>中年</td>\n",
       "      <td>否</td>\n",
       "      <td>否</td>\n",
       "      <td>一般</td>\n",
       "      <td>否</td>\n",
       "    </tr>\n",
       "    <tr>\n",
       "      <th>6</th>\n",
       "      <td>中年</td>\n",
       "      <td>否</td>\n",
       "      <td>否</td>\n",
       "      <td>好</td>\n",
       "      <td>否</td>\n",
       "    </tr>\n",
       "    <tr>\n",
       "      <th>7</th>\n",
       "      <td>中年</td>\n",
       "      <td>是</td>\n",
       "      <td>是</td>\n",
       "      <td>好</td>\n",
       "      <td>是</td>\n",
       "    </tr>\n",
       "    <tr>\n",
       "      <th>8</th>\n",
       "      <td>中年</td>\n",
       "      <td>否</td>\n",
       "      <td>是</td>\n",
       "      <td>非常好</td>\n",
       "      <td>是</td>\n",
       "    </tr>\n",
       "    <tr>\n",
       "      <th>9</th>\n",
       "      <td>中年</td>\n",
       "      <td>否</td>\n",
       "      <td>是</td>\n",
       "      <td>非常好</td>\n",
       "      <td>是</td>\n",
       "    </tr>\n",
       "    <tr>\n",
       "      <th>10</th>\n",
       "      <td>老年</td>\n",
       "      <td>否</td>\n",
       "      <td>是</td>\n",
       "      <td>非常好</td>\n",
       "      <td>是</td>\n",
       "    </tr>\n",
       "    <tr>\n",
       "      <th>11</th>\n",
       "      <td>老年</td>\n",
       "      <td>否</td>\n",
       "      <td>是</td>\n",
       "      <td>好</td>\n",
       "      <td>是</td>\n",
       "    </tr>\n",
       "    <tr>\n",
       "      <th>12</th>\n",
       "      <td>老年</td>\n",
       "      <td>是</td>\n",
       "      <td>否</td>\n",
       "      <td>好</td>\n",
       "      <td>是</td>\n",
       "    </tr>\n",
       "    <tr>\n",
       "      <th>13</th>\n",
       "      <td>老年</td>\n",
       "      <td>是</td>\n",
       "      <td>否</td>\n",
       "      <td>非常好</td>\n",
       "      <td>是</td>\n",
       "    </tr>\n",
       "    <tr>\n",
       "      <th>14</th>\n",
       "      <td>老年</td>\n",
       "      <td>否</td>\n",
       "      <td>否</td>\n",
       "      <td>一般</td>\n",
       "      <td>否</td>\n",
       "    </tr>\n",
       "  </tbody>\n",
       "</table>\n",
       "</div>"
      ],
      "text/plain": [
       "    年龄 有工作 有自己的房子 信贷情况 类别\n",
       "0   青年   否      否   一般  否\n",
       "1   青年   否      否    好  否\n",
       "2   青年   是      否    好  是\n",
       "3   青年   是      是   一般  是\n",
       "4   青年   否      否   一般  否\n",
       "5   中年   否      否   一般  否\n",
       "6   中年   否      否    好  否\n",
       "7   中年   是      是    好  是\n",
       "8   中年   否      是  非常好  是\n",
       "9   中年   否      是  非常好  是\n",
       "10  老年   否      是  非常好  是\n",
       "11  老年   否      是    好  是\n",
       "12  老年   是      否    好  是\n",
       "13  老年   是      否  非常好  是\n",
       "14  老年   否      否   一般  否"
      ]
     },
     "execution_count": 5,
     "metadata": {},
     "output_type": "execute_result"
    }
   ],
   "source": [
    "train_data"
   ]
  },
  {
   "cell_type": "code",
   "execution_count": 6,
   "metadata": {
    "ExecuteTime": {
     "end_time": "2019-03-25T02:12:29.996929Z",
     "start_time": "2019-03-25T02:12:29.993929Z"
    }
   },
   "outputs": [],
   "source": [
    "train_data2=train_data\n",
    "train_data2.columns=['Age','Work','Hourse','Loan','Category']"
   ]
  },
  {
   "cell_type": "code",
   "execution_count": 7,
   "metadata": {
    "ExecuteTime": {
     "end_time": "2019-03-25T02:12:30.004929Z",
     "start_time": "2019-03-25T02:12:29.998929Z"
    }
   },
   "outputs": [],
   "source": [
    "def emp_ent(col):\n",
    "    data_length = len(col)\n",
    "    label_count = {}\n",
    "#     for i in range(data_length):\n",
    "#         label = datasets[i][-1]\n",
    "#         if label not in label_count:\n",
    "#             label_count[label] = 0\n",
    "#         label_count[label] += 1\n",
    "    label_count=dict(col.value_counts())\n",
    "    ent = -(sum((p/data_length) * math.log((p/data_length),2) for p in label_count.values()))\n",
    "    return ent"
   ]
  },
  {
   "cell_type": "code",
   "execution_count": 8,
   "metadata": {
    "ExecuteTime": {
     "end_time": "2019-03-25T02:12:30.015930Z",
     "start_time": "2019-03-25T02:12:30.006929Z"
    }
   },
   "outputs": [
    {
     "data": {
      "text/plain": [
       "0.9709505944546686"
      ]
     },
     "execution_count": 8,
     "metadata": {},
     "output_type": "execute_result"
    }
   ],
   "source": [
    "emp_ent(train_data2.Category)"
   ]
  },
  {
   "cell_type": "code",
   "execution_count": 10,
   "metadata": {
    "ExecuteTime": {
     "end_time": "2019-03-25T02:22:22.688829Z",
     "start_time": "2019-03-25T02:22:22.669828Z"
    }
   },
   "outputs": [],
   "source": [
    "def cond_ent(data,feat_col,label_col):\n",
    "    lfeat=len(data[feat_col])\n",
    "    feat_value=data[feat_col].unique().tolist()\n",
    "    cent=0\n",
    "    for fv in feat_value:\n",
    "        eent=emp_ent(data[data[feat_col]==fv][label_col])\n",
    "        p=len(data[data[feat_col]==fv][feat_col])/lfeat\n",
    "        cent+=eent*p\n",
    "    return cent\n",
    "        \n",
    "    "
   ]
  },
  {
   "cell_type": "code",
   "execution_count": 11,
   "metadata": {
    "ExecuteTime": {
     "end_time": "2019-03-25T02:23:09.777522Z",
     "start_time": "2019-03-25T02:23:09.743520Z"
    }
   },
   "outputs": [
    {
     "data": {
      "text/plain": [
       "0.8879430945988998"
      ]
     },
     "execution_count": 11,
     "metadata": {},
     "output_type": "execute_result"
    }
   ],
   "source": [
    "cond_ent(train_data2,'Age','Category')"
   ]
  },
  {
   "cell_type": "code",
   "execution_count": 14,
   "metadata": {
    "ExecuteTime": {
     "end_time": "2019-03-25T02:24:59.169779Z",
     "start_time": "2019-03-25T02:24:59.161779Z"
    }
   },
   "outputs": [],
   "source": [
    "def gini_func(data,feat_col,label_col):\n",
    "    return emp_ent(data[label_col])-cond_ent(data,feat_col,label_col)"
   ]
  },
  {
   "cell_type": "code",
   "execution_count": 15,
   "metadata": {
    "ExecuteTime": {
     "end_time": "2019-03-25T02:24:59.668808Z",
     "start_time": "2019-03-25T02:24:59.646806Z"
    }
   },
   "outputs": [
    {
     "data": {
      "text/plain": [
       "0.08300749985576883"
      ]
     },
     "execution_count": 15,
     "metadata": {},
     "output_type": "execute_result"
    }
   ],
   "source": [
    "gini_func(train_data2,'Age','Category')"
   ]
  },
  {
   "cell_type": "code",
   "execution_count": 49,
   "metadata": {
    "ExecuteTime": {
     "end_time": "2019-03-25T05:49:23.313248Z",
     "start_time": "2019-03-25T05:49:23.293247Z"
    }
   },
   "outputs": [],
   "source": [
    "def find_max_gini(data,label_col):\n",
    "    feat_name=data.columns.values.tolist()\n",
    "    feat_name.remove(label_col)\n",
    "    gini_result={}\n",
    "    for fname in feat_name:\n",
    "        gini_result[fname]=gini_func(data,fname,label_col)\n",
    "    max_val=sorted(gini_result.items(),key=lambda x:x[1])[-1]\n",
    "    print(\"max_gini : \"+str(max_val))\n",
    "    return max_val\n",
    "        "
   ]
  },
  {
   "cell_type": "code",
   "execution_count": 48,
   "metadata": {
    "ExecuteTime": {
     "end_time": "2019-03-25T05:49:14.935769Z",
     "start_time": "2019-03-25T05:49:14.892766Z"
    }
   },
   "outputs": [
    {
     "name": "stdout",
     "output_type": "stream",
     "text": [
      "max_gini :('Hourse', 0.4199730940219749)\n"
     ]
    },
    {
     "data": {
      "text/plain": [
       "('Hourse', 0.4199730940219749)"
      ]
     },
     "execution_count": 48,
     "metadata": {},
     "output_type": "execute_result"
    }
   ],
   "source": [
    "find_max_gini(train_data2,'Category')"
   ]
  },
  {
   "cell_type": "code",
   "execution_count": 25,
   "metadata": {
    "ExecuteTime": {
     "end_time": "2019-03-25T03:07:51.506908Z",
     "start_time": "2019-03-25T03:07:51.498908Z"
    }
   },
   "outputs": [],
   "source": [
    "class tree(namedtuple('dt_tree','feat,value')):\n",
    "    def __repr__(self):\n",
    "        return pformat(tuple(self))"
   ]
  },
  {
   "cell_type": "code",
   "execution_count": 60,
   "metadata": {
    "ExecuteTime": {
     "end_time": "2019-03-25T06:13:08.982791Z",
     "start_time": "2019-03-25T06:13:08.924788Z"
    }
   },
   "outputs": [],
   "source": [
    "def dt_train(data,label_col):\n",
    "    feat_name=data.columns.values.tolist()\n",
    "    feat_name.remove(label_col)\n",
    "    \n",
    "    if len(feat_name)<=1:\n",
    "        return tree(None,None)\n",
    "    \n",
    "    ## find max gini\n",
    "    fname,gvalue=find_max_gini(data,label_col)\n",
    "    print('fname:'+str(fname))\n",
    "    \n",
    "    feat_value=data[fname].unique().tolist()\n",
    "    print('feat_name:'+str(feat_value))\n",
    "    next_value=''\n",
    "    for fvalue in feat_value:\n",
    "        print('fvalue: '+str(fvalue))\n",
    "        label_values=data[data[fname]==fvalue][label_col].unique().tolist()\n",
    "        if len(label_values) ==1:\n",
    "            lvalue=label_values\n",
    "            next_value+='{'+str(fvalue)+':{label:'+str(lvalue)+'}}'\n",
    "        else:\n",
    "            feat_name1=feat_name\n",
    "            feat_name1.remove(fname)\n",
    "            feat_name1.append(label_col)\n",
    "            temp=dt_train(data[data[fname]==fvalue][feat_name1],label_col)\n",
    "            next_value+='{'+str(fvalue)+'{'+str(temp.feat)+','+str(temp.value)+'}}'\n",
    "    return tree(fname,next_value)\n"
   ]
  },
  {
   "cell_type": "code",
   "execution_count": 61,
   "metadata": {
    "ExecuteTime": {
     "end_time": "2019-03-25T06:13:09.426817Z",
     "start_time": "2019-03-25T06:13:09.379814Z"
    }
   },
   "outputs": [
    {
     "name": "stdout",
     "output_type": "stream",
     "text": [
      "max_gini : ('Hourse', 0.4199730940219749)\n",
      "fname:Hourse\n",
      "feat_name:['否', '是']\n",
      "fvalue: 否\n",
      "max_gini : ('Work', 0.9182958340544896)\n",
      "fname:Work\n",
      "feat_name:['否', '是']\n",
      "fvalue: 否\n",
      "fvalue: 是\n",
      "fvalue: 是\n"
     ]
    },
    {
     "data": {
      "text/plain": [
       "('Hourse', \"{否{Work,{否:{label:['否']}}{是:{label:['是']}}}}{是:{label:['是']}}\")"
      ]
     },
     "execution_count": 61,
     "metadata": {},
     "output_type": "execute_result"
    }
   ],
   "source": [
    "dt_train(train_data2,'Category')"
   ]
  },
  {
   "cell_type": "code",
   "execution_count": 124,
   "metadata": {
    "ExecuteTime": {
     "end_time": "2019-03-25T08:55:57.250504Z",
     "start_time": "2019-03-25T08:55:57.240504Z"
    }
   },
   "outputs": [],
   "source": [
    "class tree2(namedtuple('dt_tree','feat,label,value,subtree')):\n",
    "    def __repr__(self):\n",
    "        return pformat(tuple(self))"
   ]
  },
  {
   "cell_type": "code",
   "execution_count": 130,
   "metadata": {
    "ExecuteTime": {
     "end_time": "2019-03-25T09:20:30.460767Z",
     "start_time": "2019-03-25T09:20:30.390763Z"
    }
   },
   "outputs": [],
   "source": [
    "def dt_train2(data,label_col):\n",
    "    feat_name=data.columns.values.tolist()\n",
    "    feat_name.remove(label_col)\n",
    "    \n",
    "    if len(feat_name)<=1:\n",
    "        return tree(None,None,None,None)\n",
    "    \n",
    "    ## find max gini\n",
    "    fname,gvalue=find_max_gini(data,label_col)\n",
    "    print('fname:'+str(fname))\n",
    "    \n",
    "    feat_value=data[fname].unique().tolist()\n",
    "    print('feat_name:'+str(feat_value))\n",
    "#     next_value=''\n",
    "    tl=''\n",
    "    tv=''\n",
    "    st=''\n",
    "    for fvalue in feat_value:\n",
    "        print('fvalue: '+str(fvalue))\n",
    "        label_values=data[data[fname]==fvalue][label_col].unique().tolist()\n",
    "        if len(label_values) ==1:\n",
    "            lvalue=label_values\n",
    "#             next_value+='{'+str(fvalue)+':{label:'+str(lvalue)+'}}'\n",
    "            tl=label_values\n",
    "            tv=fvalue\n",
    "#             return tree2(fname,label_values,fvalue,None)\n",
    "        else:\n",
    "            feat_name1=feat_name\n",
    "            feat_name1.remove(fname)\n",
    "            feat_name1.append(label_col)\n",
    "            temp=dt_train2(data[data[fname]==fvalue][feat_name1],label_col)\n",
    "#             next_value+='{'+str(fvalue)+'{'+str(temp.feat)+','+str(temp.value)+'}}'\n",
    "            st=tree2(fname,None,fvalue,temp) \n",
    "            return tree2(fname,None,fvalue,temp) \n",
    "            \n",
    "    return tree2(fname,tl,tv,st)\n"
   ]
  },
  {
   "cell_type": "code",
   "execution_count": 131,
   "metadata": {
    "ExecuteTime": {
     "end_time": "2019-03-25T09:20:31.195809Z",
     "start_time": "2019-03-25T09:20:31.125805Z"
    }
   },
   "outputs": [
    {
     "name": "stdout",
     "output_type": "stream",
     "text": [
      "max_gini : ('Hourse', 0.4199730940219749)\n",
      "fname:Hourse\n",
      "feat_name:['否', '是']\n",
      "fvalue: 否\n",
      "max_gini : ('Work', 0.9182958340544896)\n",
      "fname:Work\n",
      "feat_name:['否', '是']\n",
      "fvalue: 否\n",
      "fvalue: 是\n",
      "('Hourse', None, '否', ('Work', ['是'], '是', ''))\n"
     ]
    }
   ],
   "source": [
    "print(dt_train2(train_data2,'Category'))"
   ]
  },
  {
   "cell_type": "code",
   "execution_count": 105,
   "metadata": {
    "ExecuteTime": {
     "end_time": "2019-03-25T08:31:35.198880Z",
     "start_time": "2019-03-25T08:31:35.130876Z"
    }
   },
   "outputs": [
    {
     "name": "stdout",
     "output_type": "stream",
     "text": [
      "max_gini : ('Hourse', 0.4199730940219749)\n",
      "fname:Hourse\n",
      "feat_name:['否', '是']\n",
      "fvalue: 否\n",
      "max_gini : ('Work', 0.9182958340544896)\n",
      "fname:Work\n",
      "feat_name:['否', '是']\n",
      "fvalue: 否\n",
      "fvalue: 是\n",
      "fvalue: 是\n"
     ]
    },
    {
     "data": {
      "text/plain": [
       "('Hourse', \"['否']['是']['是']\", '否(\\'Work\\', \"[\\'否\\'][\\'是\\']\", \\'否是\\')是')"
      ]
     },
     "execution_count": 105,
     "metadata": {},
     "output_type": "execute_result"
    }
   ],
   "source": [
    "dt_train2(train_data2,'Category')"
   ]
  },
  {
   "cell_type": "code",
   "execution_count": 166,
   "metadata": {
    "ExecuteTime": {
     "end_time": "2019-03-27T02:30:30.226309Z",
     "start_time": "2019-03-27T02:30:30.214308Z"
    }
   },
   "outputs": [],
   "source": [
    "class tree3(namedtuple('dt_tree','feat,value,label,subtree')):\n",
    "    def __repr__(self):\n",
    "        return pformat(tuple(self))"
   ]
  },
  {
   "cell_type": "code",
   "execution_count": 189,
   "metadata": {
    "ExecuteTime": {
     "end_time": "2019-03-27T07:13:50.389663Z",
     "start_time": "2019-03-27T07:13:50.331659Z"
    }
   },
   "outputs": [],
   "source": [
    "def dt_train3(data,label_col):\n",
    "    feat_name=data.columns.values.tolist()\n",
    "    feat_name.remove(label_col)\n",
    "    \n",
    "    if len(feat_name)<=1:\n",
    "        return tree3(None,None,None,None)\n",
    "    \n",
    "    ## find max gini\n",
    "    fname,gvalue=find_max_gini(data,label_col)\n",
    "    print('fname:'+str(fname))\n",
    "    \n",
    "    feat_value=data[fname].unique().tolist()\n",
    "    print('feat_name:'+str(feat_value))\n",
    "    next_value=''\n",
    "    lv=None\n",
    "    fv=None\n",
    "    nv=[]\n",
    "    for fvalue in feat_value:\n",
    "        print('fvalue: '+str(fvalue))\n",
    "        label_values=data[data[fname]==fvalue][label_col].unique().tolist()\n",
    "        if len(label_values) ==1:\n",
    "            lv=label_values\n",
    "            fv=fvalue\n",
    "            # next_value+='{'+str(fvalue)+':{label:'+str(lvalue)+'}}'\n",
    "#             next_value+=',{'+str(fvalue)+str(lvalue)+'}'\n",
    "            nv.append(tree3(None,fv,lv,None))\n",
    "            \n",
    "            \n",
    "        else:\n",
    "            feat_name1=feat_name\n",
    "            feat_name1.remove(fname)\n",
    "            feat_name1.append(label_col)\n",
    "            temp=dt_train3(data[data[fname]==fvalue][feat_name1],label_col)\n",
    "#             next_value+='{'+str(fvalue)+'{'+str(temp.feat)+','+str(temp.value)+'}}'\n",
    "            fv=fvalue\n",
    "            nv.append(tree3(None,fv,None,temp))\n",
    "    return tree3(fname,None,None,nv)\n"
   ]
  },
  {
   "cell_type": "code",
   "execution_count": 190,
   "metadata": {
    "ExecuteTime": {
     "end_time": "2019-03-27T07:13:50.772685Z",
     "start_time": "2019-03-27T07:13:50.712681Z"
    }
   },
   "outputs": [
    {
     "name": "stdout",
     "output_type": "stream",
     "text": [
      "max_gini : ('Hourse', 0.4199730940219749)\n",
      "fname:Hourse\n",
      "feat_name:['否', '是']\n",
      "fvalue: 否\n",
      "max_gini : ('Work', 0.9182958340544896)\n",
      "fname:Work\n",
      "feat_name:['否', '是']\n",
      "fvalue: 否\n",
      "fvalue: 是\n",
      "fvalue: 是\n"
     ]
    },
    {
     "data": {
      "text/plain": [
       "('Hourse',\n",
       " None,\n",
       " None,\n",
       " [(None,\n",
       " '否',\n",
       " None,\n",
       " ('Work', None, None, [(None, '否', ['否'], None), (None, '是', ['是'], None)])),\n",
       "  (None, '是', ['是'], None)])"
      ]
     },
     "execution_count": 190,
     "metadata": {},
     "output_type": "execute_result"
    }
   ],
   "source": [
    "dt_train3(train_data2,'Category')"
   ]
  },
  {
   "cell_type": "code",
   "execution_count": 207,
   "metadata": {
    "ExecuteTime": {
     "end_time": "2019-03-27T08:07:55.415268Z",
     "start_time": "2019-03-27T08:07:55.341263Z"
    }
   },
   "outputs": [
    {
     "name": "stdout",
     "output_type": "stream",
     "text": [
      "max_gini : ('Hourse', 0.4199730940219749)\n",
      "fname:Hourse\n",
      "feat_name:['否', '是']\n",
      "fvalue: 否\n",
      "max_gini : ('Work', 0.9182958340544896)\n",
      "fname:Work\n",
      "feat_name:['否', '是']\n",
      "fvalue: 否\n",
      "fvalue: 是\n",
      "fvalue: 是\n"
     ]
    }
   ],
   "source": [
    "dt3=dt_train3(train_data2,'Category')"
   ]
  },
  {
   "cell_type": "code",
   "execution_count": 355,
   "metadata": {
    "ExecuteTime": {
     "end_time": "2019-03-28T02:51:20.255604Z",
     "start_time": "2019-03-28T02:51:20.232603Z"
    }
   },
   "outputs": [
    {
     "data": {
      "text/html": [
       "<div>\n",
       "<style scoped>\n",
       "    .dataframe tbody tr th:only-of-type {\n",
       "        vertical-align: middle;\n",
       "    }\n",
       "\n",
       "    .dataframe tbody tr th {\n",
       "        vertical-align: top;\n",
       "    }\n",
       "\n",
       "    .dataframe thead th {\n",
       "        text-align: right;\n",
       "    }\n",
       "</style>\n",
       "<table border=\"1\" class=\"dataframe\">\n",
       "  <thead>\n",
       "    <tr style=\"text-align: right;\">\n",
       "      <th></th>\n",
       "      <th>Age</th>\n",
       "      <th>Work</th>\n",
       "      <th>Hourse</th>\n",
       "      <th>Loan</th>\n",
       "    </tr>\n",
       "  </thead>\n",
       "  <tbody>\n",
       "    <tr>\n",
       "      <th>0</th>\n",
       "      <td>老年</td>\n",
       "      <td>否</td>\n",
       "      <td>否</td>\n",
       "      <td>一般</td>\n",
       "    </tr>\n",
       "  </tbody>\n",
       "</table>\n",
       "</div>"
      ],
      "text/plain": [
       "  Age Work Hourse Loan\n",
       "0  老年    否      否   一般"
      ]
     },
     "execution_count": 355,
     "metadata": {},
     "output_type": "execute_result"
    }
   ],
   "source": [
    "t_data=np.array(['老年', '否', '否', '一般'])\n",
    "t_data=t_data.reshape(1,4)\n",
    "t_col=train_data2.columns.values.tolist()[:-1]\n",
    "# test_data=pd.DataFrame(np.array(t_data),columns=t_col)\n",
    "test_data=pd.DataFrame(t_data,columns=t_col)\n",
    "test_data"
   ]
  },
  {
   "cell_type": "code",
   "execution_count": 356,
   "metadata": {
    "ExecuteTime": {
     "end_time": "2019-03-28T02:51:20.823636Z",
     "start_time": "2019-03-28T02:51:20.813636Z"
    }
   },
   "outputs": [
    {
     "data": {
      "text/plain": [
       "'否'"
      ]
     },
     "execution_count": 356,
     "metadata": {},
     "output_type": "execute_result"
    }
   ],
   "source": [
    "dt3.subtree[0].value"
   ]
  },
  {
   "cell_type": "code",
   "execution_count": 357,
   "metadata": {
    "ExecuteTime": {
     "end_time": "2019-03-28T02:51:21.359667Z",
     "start_time": "2019-03-28T02:51:21.352667Z"
    }
   },
   "outputs": [
    {
     "name": "stdout",
     "output_type": "stream",
     "text": [
      "Not\n"
     ]
    }
   ],
   "source": [
    "if dt3.subtree[0].feat is None:\n",
    "    print('Not')"
   ]
  },
  {
   "cell_type": "code",
   "execution_count": 358,
   "metadata": {
    "ExecuteTime": {
     "end_time": "2019-03-28T02:51:22.137712Z",
     "start_time": "2019-03-28T02:51:22.126711Z"
    }
   },
   "outputs": [
    {
     "data": {
      "text/plain": [
       "[(None,\n",
       " '否',\n",
       " None,\n",
       " ('Work', None, None, [(None, '否', ['否'], None), (None, '是', ['是'], None)])),\n",
       " (None, '是', ['是'], None)]"
      ]
     },
     "execution_count": 358,
     "metadata": {},
     "output_type": "execute_result"
    }
   ],
   "source": [
    "dt3.subtree"
   ]
  },
  {
   "cell_type": "code",
   "execution_count": 359,
   "metadata": {
    "ExecuteTime": {
     "end_time": "2019-03-28T02:51:24.371839Z",
     "start_time": "2019-03-28T02:51:24.358839Z"
    }
   },
   "outputs": [
    {
     "data": {
      "text/plain": [
       "('Work', None, None, [(None, '否', ['否'], None), (None, '是', ['是'], None)])"
      ]
     },
     "execution_count": 359,
     "metadata": {},
     "output_type": "execute_result"
    }
   ],
   "source": [
    "dt3.subtree[0].subtree"
   ]
  },
  {
   "cell_type": "code",
   "execution_count": 360,
   "metadata": {
    "ExecuteTime": {
     "end_time": "2019-03-28T02:51:25.274891Z",
     "start_time": "2019-03-28T02:51:25.262890Z"
    }
   },
   "outputs": [
    {
     "data": {
      "text/plain": [
       "('Work', None, None, [(None, '否', ['否'], None), (None, '是', ['是'], None)])"
      ]
     },
     "execution_count": 360,
     "metadata": {},
     "output_type": "execute_result"
    }
   ],
   "source": [
    "dt3.subtree[0].subtree"
   ]
  },
  {
   "cell_type": "code",
   "execution_count": 361,
   "metadata": {
    "ExecuteTime": {
     "end_time": "2019-03-28T02:51:25.947929Z",
     "start_time": "2019-03-28T02:51:25.941929Z"
    }
   },
   "outputs": [
    {
     "data": {
      "text/plain": [
       "True"
      ]
     },
     "execution_count": 361,
     "metadata": {},
     "output_type": "execute_result"
    }
   ],
   "source": [
    "dt3.subtree[0].value=='否'"
   ]
  },
  {
   "cell_type": "code",
   "execution_count": 381,
   "metadata": {
    "ExecuteTime": {
     "end_time": "2019-03-28T08:15:30.264081Z",
     "start_time": "2019-03-28T08:15:30.221078Z"
    }
   },
   "outputs": [],
   "source": [
    "def dt3_predict(trained_tree,test_data,last_feat=None):\n",
    "#     print('-----------')\n",
    "#     print(trained_tree)\n",
    "#     print('-----------')\n",
    "    f=trained_tree.feat\n",
    "    if f is None:\n",
    "        f=last_feat\n",
    "    l=trained_tree.label\n",
    "    v=trained_tree.value\n",
    "    tv=test_data[f].values[0]\n",
    "#     print('l:'+str(l))\n",
    "#     print('v:'+str(v))\n",
    "#     print('f:'+str(f))\n",
    "#     print('tv:'+str(tv))\n",
    "    if ((tv==v) and (l is not None) ):\n",
    "        return l\n",
    "\n",
    "    if tv==v:\n",
    "#         print('tv == v')\n",
    "        l=dt3_predict(trained_tree.subtree,test_data,f)\n",
    "\n",
    "\n",
    "    \n",
    "    if l is  None:\n",
    "#         print( 'tv ! = v')\n",
    "        i=0\n",
    "        while trained_tree.subtree[i].value != tv  :\n",
    "            i+=1\n",
    "#         print('i:'+str(i))\n",
    "#         print('---'+str(trained_tree.subtree[i].value))\n",
    "#         print('---'+str(trained_tree.subtree[i]))\n",
    "        l=dt3_predict(trained_tree.subtree[i],test_data,f)\n",
    "    return l[0]\n",
    "    "
   ]
  },
  {
   "cell_type": "code",
   "execution_count": 379,
   "metadata": {
    "ExecuteTime": {
     "end_time": "2019-03-28T08:14:07.925371Z",
     "start_time": "2019-03-28T08:14:07.921371Z"
    }
   },
   "outputs": [],
   "source": [
    "from time import clock"
   ]
  },
  {
   "cell_type": "code",
   "execution_count": 385,
   "metadata": {
    "ExecuteTime": {
     "end_time": "2019-03-28T08:15:56.549584Z",
     "start_time": "2019-03-28T08:15:56.538584Z"
    }
   },
   "outputs": [
    {
     "name": "stdout",
     "output_type": "stream",
     "text": [
      "0.0007371046343251919\n"
     ]
    }
   ],
   "source": [
    "t0=clock()\n",
    "dt3_predict(dt3,test_data)\n",
    "t1=clock()\n",
    "print(t1-t0)"
   ]
  },
  {
   "cell_type": "code",
   "execution_count": 311,
   "metadata": {
    "ExecuteTime": {
     "end_time": "2019-03-27T15:07:42.023859Z",
     "start_time": "2019-03-27T15:07:42.014859Z"
    }
   },
   "outputs": [
    {
     "name": "stdout",
     "output_type": "stream",
     "text": [
      "tttttt\n"
     ]
    }
   ],
   "source": [
    "l=None\n",
    "tv=1\n",
    "v=1\n",
    "if tv==v and l is None:\n",
    "    print('tttttt')\n"
   ]
  },
  {
   "cell_type": "code",
   "execution_count": 248,
   "metadata": {
    "ExecuteTime": {
     "end_time": "2019-03-27T10:58:55.290099Z",
     "start_time": "2019-03-27T10:58:55.279098Z"
    }
   },
   "outputs": [
    {
     "data": {
      "text/plain": [
       "0    否\n",
       "Name: Hourse, dtype: object"
      ]
     },
     "execution_count": 248,
     "metadata": {},
     "output_type": "execute_result"
    }
   ],
   "source": [
    "test_data.loc[:,'Hourse']"
   ]
  },
  {
   "cell_type": "code",
   "execution_count": null,
   "metadata": {},
   "outputs": [],
   "source": []
  }
 ],
 "metadata": {
  "kernelspec": {
   "display_name": "Python 3",
   "language": "python",
   "name": "python3"
  },
  "language_info": {
   "codemirror_mode": {
    "name": "ipython",
    "version": 3
   },
   "file_extension": ".py",
   "mimetype": "text/x-python",
   "name": "python",
   "nbconvert_exporter": "python",
   "pygments_lexer": "ipython3",
   "version": "3.6.3"
  }
 },
 "nbformat": 4,
 "nbformat_minor": 2
}
