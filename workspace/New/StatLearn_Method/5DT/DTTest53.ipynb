{
 "cells": [
  {
   "cell_type": "code",
   "execution_count": 1,
   "metadata": {
    "ExecuteTime": {
     "end_time": "2019-04-22T07:12:43.071542Z",
     "start_time": "2019-04-22T07:12:36.391000Z"
    }
   },
   "outputs": [],
   "source": [
    "import numpy as np\n",
    "import pandas as pd\n",
    "import matplotlib.pyplot as plt\n",
    "\n",
    "from collections import Counter\n",
    "import math\n",
    "from math import log\n",
    "\n",
    "from  pprint import pformat\n",
    "from collections import namedtuple"
   ]
  },
  {
   "cell_type": "code",
   "execution_count": 4,
   "metadata": {
    "ExecuteTime": {
     "end_time": "2019-04-22T07:14:25.036019Z",
     "start_time": "2019-04-22T07:14:24.986818Z"
    }
   },
   "outputs": [],
   "source": [
    "def create_data():\n",
    "    datasets = [['青年', '否', '否', '一般', '否'],\n",
    "           ['青年', '否', '否', '好', '否'],\n",
    "           ['青年', '是', '否', '好', '是'],\n",
    "           ['青年', '是', '是', '一般', '是'],\n",
    "           ['青年', '否', '否', '一般', '否'],\n",
    "           ['中年', '否', '否', '一般', '否'],\n",
    "           ['中年', '否', '否', '好', '否'],\n",
    "           ['中年', '是', '是', '好', '是'],\n",
    "           ['中年', '否', '是', '非常好', '是'],\n",
    "           ['中年', '否', '是', '非常好', '是'],\n",
    "           ['老年', '否', '是', '非常好', '是'],\n",
    "           ['老年', '否', '是', '好', '是'],\n",
    "           ['老年', '是', '否', '好', '是'],\n",
    "           ['老年', '是', '否', '非常好', '是'],\n",
    "           ['老年', '否', '否', '一般', '否'],\n",
    "           ]\n",
    "    labels = [u'年龄', u'有工作', u'有自己的房子', u'信贷情况', u'类别']\n",
    "    \n",
    "    return datasets,labels"
   ]
  },
  {
   "cell_type": "code",
   "execution_count": 5,
   "metadata": {
    "ExecuteTime": {
     "end_time": "2019-04-22T07:14:25.605246Z",
     "start_time": "2019-04-22T07:14:25.587646Z"
    }
   },
   "outputs": [],
   "source": [
    "datasets,labels=create_data()\n",
    "train_data=pd.DataFrame(datasets,columns=labels)\n",
    "train_data2=train_data\n",
    "train_data2.columns=['Age','Work','Hourse','Loan','Category']"
   ]
  },
  {
   "cell_type": "code",
   "execution_count": 155,
   "metadata": {
    "ExecuteTime": {
     "end_time": "2019-04-24T06:05:55.836360Z",
     "start_time": "2019-04-24T06:05:55.807358Z"
    }
   },
   "outputs": [
    {
     "data": {
      "text/html": [
       "<div>\n",
       "<style scoped>\n",
       "    .dataframe tbody tr th:only-of-type {\n",
       "        vertical-align: middle;\n",
       "    }\n",
       "\n",
       "    .dataframe tbody tr th {\n",
       "        vertical-align: top;\n",
       "    }\n",
       "\n",
       "    .dataframe thead th {\n",
       "        text-align: right;\n",
       "    }\n",
       "</style>\n",
       "<table border=\"1\" class=\"dataframe\">\n",
       "  <thead>\n",
       "    <tr style=\"text-align: right;\">\n",
       "      <th></th>\n",
       "      <th>Age</th>\n",
       "      <th>Work</th>\n",
       "      <th>Hourse</th>\n",
       "      <th>Loan</th>\n",
       "      <th>Category</th>\n",
       "    </tr>\n",
       "  </thead>\n",
       "  <tbody>\n",
       "    <tr>\n",
       "      <th>0</th>\n",
       "      <td>青年</td>\n",
       "      <td>否</td>\n",
       "      <td>否</td>\n",
       "      <td>一般</td>\n",
       "      <td>否</td>\n",
       "    </tr>\n",
       "    <tr>\n",
       "      <th>1</th>\n",
       "      <td>青年</td>\n",
       "      <td>否</td>\n",
       "      <td>否</td>\n",
       "      <td>好</td>\n",
       "      <td>否</td>\n",
       "    </tr>\n",
       "    <tr>\n",
       "      <th>2</th>\n",
       "      <td>青年</td>\n",
       "      <td>是</td>\n",
       "      <td>否</td>\n",
       "      <td>好</td>\n",
       "      <td>是</td>\n",
       "    </tr>\n",
       "    <tr>\n",
       "      <th>3</th>\n",
       "      <td>青年</td>\n",
       "      <td>是</td>\n",
       "      <td>是</td>\n",
       "      <td>一般</td>\n",
       "      <td>是</td>\n",
       "    </tr>\n",
       "    <tr>\n",
       "      <th>4</th>\n",
       "      <td>青年</td>\n",
       "      <td>否</td>\n",
       "      <td>否</td>\n",
       "      <td>一般</td>\n",
       "      <td>否</td>\n",
       "    </tr>\n",
       "    <tr>\n",
       "      <th>5</th>\n",
       "      <td>中年</td>\n",
       "      <td>否</td>\n",
       "      <td>否</td>\n",
       "      <td>一般</td>\n",
       "      <td>否</td>\n",
       "    </tr>\n",
       "    <tr>\n",
       "      <th>6</th>\n",
       "      <td>中年</td>\n",
       "      <td>否</td>\n",
       "      <td>否</td>\n",
       "      <td>好</td>\n",
       "      <td>否</td>\n",
       "    </tr>\n",
       "    <tr>\n",
       "      <th>7</th>\n",
       "      <td>中年</td>\n",
       "      <td>是</td>\n",
       "      <td>是</td>\n",
       "      <td>好</td>\n",
       "      <td>是</td>\n",
       "    </tr>\n",
       "    <tr>\n",
       "      <th>8</th>\n",
       "      <td>中年</td>\n",
       "      <td>否</td>\n",
       "      <td>是</td>\n",
       "      <td>非常好</td>\n",
       "      <td>是</td>\n",
       "    </tr>\n",
       "    <tr>\n",
       "      <th>9</th>\n",
       "      <td>中年</td>\n",
       "      <td>否</td>\n",
       "      <td>是</td>\n",
       "      <td>非常好</td>\n",
       "      <td>是</td>\n",
       "    </tr>\n",
       "    <tr>\n",
       "      <th>10</th>\n",
       "      <td>老年</td>\n",
       "      <td>否</td>\n",
       "      <td>是</td>\n",
       "      <td>非常好</td>\n",
       "      <td>是</td>\n",
       "    </tr>\n",
       "    <tr>\n",
       "      <th>11</th>\n",
       "      <td>老年</td>\n",
       "      <td>否</td>\n",
       "      <td>是</td>\n",
       "      <td>好</td>\n",
       "      <td>是</td>\n",
       "    </tr>\n",
       "    <tr>\n",
       "      <th>12</th>\n",
       "      <td>老年</td>\n",
       "      <td>是</td>\n",
       "      <td>否</td>\n",
       "      <td>好</td>\n",
       "      <td>是</td>\n",
       "    </tr>\n",
       "    <tr>\n",
       "      <th>13</th>\n",
       "      <td>老年</td>\n",
       "      <td>是</td>\n",
       "      <td>否</td>\n",
       "      <td>非常好</td>\n",
       "      <td>是</td>\n",
       "    </tr>\n",
       "    <tr>\n",
       "      <th>14</th>\n",
       "      <td>老年</td>\n",
       "      <td>否</td>\n",
       "      <td>否</td>\n",
       "      <td>一般</td>\n",
       "      <td>否</td>\n",
       "    </tr>\n",
       "  </tbody>\n",
       "</table>\n",
       "</div>"
      ],
      "text/plain": [
       "   Age Work Hourse Loan Category\n",
       "0   青年    否      否   一般        否\n",
       "1   青年    否      否    好        否\n",
       "2   青年    是      否    好        是\n",
       "3   青年    是      是   一般        是\n",
       "4   青年    否      否   一般        否\n",
       "5   中年    否      否   一般        否\n",
       "6   中年    否      否    好        否\n",
       "7   中年    是      是    好        是\n",
       "8   中年    否      是  非常好        是\n",
       "9   中年    否      是  非常好        是\n",
       "10  老年    否      是  非常好        是\n",
       "11  老年    否      是    好        是\n",
       "12  老年    是      否    好        是\n",
       "13  老年    是      否  非常好        是\n",
       "14  老年    否      否   一般        否"
      ]
     },
     "execution_count": 155,
     "metadata": {},
     "output_type": "execute_result"
    }
   ],
   "source": [
    "train_data2"
   ]
  },
  {
   "cell_type": "code",
   "execution_count": 12,
   "metadata": {
    "ExecuteTime": {
     "end_time": "2019-04-22T07:22:08.248491Z",
     "start_time": "2019-04-22T07:22:08.222890Z"
    }
   },
   "outputs": [],
   "source": [
    "#熵\n",
    "def emp_ent(label):\n",
    "    length=len(label)\n",
    "    s=0\n",
    "    for k ,v in dict(label.value_counts()).items():\n",
    "        p=v/length\n",
    "        s+=p * math.log(p,2)\n",
    "    return -s"
   ]
  },
  {
   "cell_type": "code",
   "execution_count": 13,
   "metadata": {
    "ExecuteTime": {
     "end_time": "2019-04-22T07:22:09.424920Z",
     "start_time": "2019-04-22T07:22:09.409320Z"
    }
   },
   "outputs": [
    {
     "data": {
      "text/plain": [
       "0.9709505944546686"
      ]
     },
     "execution_count": 13,
     "metadata": {},
     "output_type": "execute_result"
    }
   ],
   "source": [
    "emp_ent(train_data2.Category)"
   ]
  },
  {
   "cell_type": "code",
   "execution_count": 16,
   "metadata": {
    "ExecuteTime": {
     "end_time": "2019-04-22T07:44:10.872920Z",
     "start_time": "2019-04-22T07:44:10.838720Z"
    }
   },
   "outputs": [],
   "source": [
    "# 条件熵\n",
    "def cond_ent(data,col,label):\n",
    "    length=len(data[col])\n",
    "    s=0\n",
    "    for k,v in dict(data[col].value_counts()).items():\n",
    "        p=v/length\n",
    "        s+=p*emp_ent(data[data[col]==k][label])\n",
    "    return s\n",
    "    \n",
    "    \n",
    "    "
   ]
  },
  {
   "cell_type": "code",
   "execution_count": 17,
   "metadata": {
    "ExecuteTime": {
     "end_time": "2019-04-22T07:44:11.359948Z",
     "start_time": "2019-04-22T07:44:11.339947Z"
    }
   },
   "outputs": [
    {
     "data": {
      "text/plain": [
       "0.8879430945988998"
      ]
     },
     "execution_count": 17,
     "metadata": {},
     "output_type": "execute_result"
    }
   ],
   "source": [
    "cond_ent(train_data2,'Age','Category')"
   ]
  },
  {
   "cell_type": "code",
   "execution_count": 22,
   "metadata": {
    "ExecuteTime": {
     "end_time": "2019-04-22T07:45:49.121584Z",
     "start_time": "2019-04-22T07:45:49.090384Z"
    }
   },
   "outputs": [],
   "source": [
    "def gain_func(data,col,label):\n",
    "    return emp_ent(data[label]) - cond_ent(data,col,label)\n",
    "    "
   ]
  },
  {
   "cell_type": "code",
   "execution_count": 23,
   "metadata": {
    "ExecuteTime": {
     "end_time": "2019-04-22T07:45:49.894814Z",
     "start_time": "2019-04-22T07:45:49.856213Z"
    }
   },
   "outputs": [
    {
     "data": {
      "text/plain": [
       "0.08300749985576883"
      ]
     },
     "execution_count": 23,
     "metadata": {},
     "output_type": "execute_result"
    }
   ],
   "source": [
    "gain_func(train_data2,'Age','Category')"
   ]
  },
  {
   "cell_type": "code",
   "execution_count": 26,
   "metadata": {
    "ExecuteTime": {
     "end_time": "2019-04-22T07:55:55.809203Z",
     "start_time": "2019-04-22T07:55:55.784602Z"
    }
   },
   "outputs": [],
   "source": [
    "def max_gain(data,label):\n",
    "    ret={}\n",
    "    for col in data.columns:\n",
    "        if col != label:\n",
    "            ret[col]=gain_func(data,col,label)\n",
    "    print(ret)\n",
    "    return sorted(ret.items(),key=lambda x:x[1])[-1]\n",
    "\n",
    "            "
   ]
  },
  {
   "cell_type": "code",
   "execution_count": 27,
   "metadata": {
    "ExecuteTime": {
     "end_time": "2019-04-22T07:56:09.240620Z",
     "start_time": "2019-04-22T07:56:09.192018Z"
    }
   },
   "outputs": [
    {
     "name": "stdout",
     "output_type": "stream",
     "text": [
      "{'Age': 0.08300749985576883, 'Work': 0.32365019815155627, 'Hourse': 0.4199730940219749, 'Loan': 0.36298956253708536}\n"
     ]
    },
    {
     "data": {
      "text/plain": [
       "('Hourse', 0.4199730940219749)"
      ]
     },
     "execution_count": 27,
     "metadata": {},
     "output_type": "execute_result"
    }
   ],
   "source": [
    "max_gain(train_data2,'Category')"
   ]
  },
  {
   "cell_type": "code",
   "execution_count": 28,
   "metadata": {
    "ExecuteTime": {
     "end_time": "2019-04-22T08:14:14.177847Z",
     "start_time": "2019-04-22T08:14:14.161246Z"
    }
   },
   "outputs": [],
   "source": [
    "def gain_rate(data,col,label):\n",
    "    return gain_func(data,col,label) / emp_ent(data[label])"
   ]
  },
  {
   "cell_type": "code",
   "execution_count": 29,
   "metadata": {
    "ExecuteTime": {
     "end_time": "2019-04-22T08:15:09.356301Z",
     "start_time": "2019-04-22T08:15:09.335300Z"
    }
   },
   "outputs": [
    {
     "data": {
      "text/plain": [
       "0.08549096146585063"
      ]
     },
     "execution_count": 29,
     "metadata": {},
     "output_type": "execute_result"
    }
   ],
   "source": [
    "gain_rate(train_data2,'Age','Category')"
   ]
  },
  {
   "cell_type": "code",
   "execution_count": 32,
   "metadata": {
    "ExecuteTime": {
     "end_time": "2019-04-22T08:16:04.780522Z",
     "start_time": "2019-04-22T08:16:04.771521Z"
    }
   },
   "outputs": [],
   "source": [
    "def max_gain_rate(data,label):\n",
    "    ret={}\n",
    "    for col in data.columns:\n",
    "        if col != label:\n",
    "            ret[col]=gain_rate(data,col,label)\n",
    "    print(ret)\n",
    "    return sorted(ret.items(),key=lambda x:x[1])[-1]"
   ]
  },
  {
   "cell_type": "code",
   "execution_count": 33,
   "metadata": {
    "ExecuteTime": {
     "end_time": "2019-04-22T08:16:05.239548Z",
     "start_time": "2019-04-22T08:16:05.204546Z"
    }
   },
   "outputs": [
    {
     "name": "stdout",
     "output_type": "stream",
     "text": [
      "{'Age': 0.08549096146585063, 'Work': 0.3333333333333334, 'Hourse': 0.4325380677663126, 'Loan': 0.3738496733100589}\n"
     ]
    },
    {
     "data": {
      "text/plain": [
       "('Hourse', 0.4325380677663126)"
      ]
     },
     "execution_count": 33,
     "metadata": {},
     "output_type": "execute_result"
    }
   ],
   "source": [
    "max_gain_rate(train_data2,'Category')"
   ]
  },
  {
   "cell_type": "code",
   "execution_count": 34,
   "metadata": {
    "ExecuteTime": {
     "end_time": "2019-04-22T09:19:31.189241Z",
     "start_time": "2019-04-22T09:19:31.173641Z"
    }
   },
   "outputs": [],
   "source": [
    "from collections import namedtuple\n",
    "from pprint import pformat"
   ]
  },
  {
   "cell_type": "code",
   "execution_count": 35,
   "metadata": {
    "ExecuteTime": {
     "end_time": "2019-04-22T09:20:54.442009Z",
     "start_time": "2019-04-22T09:20:54.410809Z"
    }
   },
   "outputs": [],
   "source": [
    "class dttree(namedtuple('dttree','feat,value,label,subtree')):\n",
    "    def __repr__(self):\n",
    "        return pformat(tuple(self))"
   ]
  },
  {
   "cell_type": "code",
   "execution_count": 85,
   "metadata": {
    "ExecuteTime": {
     "end_time": "2019-04-24T02:07:52.900423Z",
     "start_time": "2019-04-24T02:07:52.828419Z"
    }
   },
   "outputs": [],
   "source": [
    "def create_dttree(data,label):\n",
    "    col= data.columns.values.tolist()\n",
    "#     col.remove(label)\n",
    "    \n",
    "    if data is None:\n",
    "        return dttree(None,None,None,None)\n",
    "    \n",
    "    \n",
    "    if len(data[label].unique())==1:\n",
    "        return dttree(None,None,data[label][0],None)\n",
    "    \n",
    "    if data.shape[1]==1 and (label !='' or label is not None):\n",
    "        label=sorted(dict(data[label].value_counts()).items(),key=lambda x:x[1])[-1][0]\n",
    "        return dttree(None,None,label,None)\n",
    "    \n",
    "#     if len(col)==2:\n",
    "#         return dttree(col[0],None,\n",
    "#                       sorted(dict(data[label].value_counts()).items())[-1][0],None)\n",
    "    \n",
    "#     print(data)\n",
    "    fn,gv=max_gain_rate(data,label)\n",
    "    ts=[]\n",
    "    tl=None\n",
    "    tv=None\n",
    "#     print(fn)\n",
    "#     print(col)\n",
    "#     col.remove(fn)\n",
    "    for v in list(set(data[fn])):\n",
    "        lvl =data[data[fn]==v][label].unique().tolist()\n",
    "        if len(lvl)==1:\n",
    "            ts.append(dttree(None,v,lvl[0],None))\n",
    "        \n",
    "        else :\n",
    "#             print(col)\n",
    "            col.remove(fn)\n",
    "#             col.append(label)\n",
    "\n",
    "            temp=create_dttree(data[data[fn]==v][col],label)\n",
    "            ts.append(dttree(None,v,None,temp))\n",
    "    \n",
    "    return dttree(fn,None,None,ts)\n",
    "            "
   ]
  },
  {
   "cell_type": "code",
   "execution_count": 86,
   "metadata": {
    "ExecuteTime": {
     "end_time": "2019-04-24T02:07:53.383450Z",
     "start_time": "2019-04-24T02:07:53.320447Z"
    }
   },
   "outputs": [
    {
     "name": "stdout",
     "output_type": "stream",
     "text": [
      "{'Age': 0.08549096146585063, 'Work': 0.3333333333333334, 'Hourse': 0.4325380677663126, 'Loan': 0.3738496733100589}\n",
      "{'Age': 0.274017542121281, 'Work': 1.0, 'Loan': 0.5160116947475206}\n"
     ]
    },
    {
     "data": {
      "text/plain": [
       "('Hourse',\n",
       " None,\n",
       " None,\n",
       " [(None,\n",
       " '否',\n",
       " None,\n",
       " ('Work', None, None, [(None, '否', '否', None), (None, '是', '是', None)])),\n",
       "  (None, '是', '是', None)])"
      ]
     },
     "execution_count": 86,
     "metadata": {},
     "output_type": "execute_result"
    }
   ],
   "source": [
    "create_dttree(train_data2,'Category')"
   ]
  },
  {
   "cell_type": "code",
   "execution_count": 131,
   "metadata": {
    "ExecuteTime": {
     "end_time": "2019-04-24T02:41:56.614317Z",
     "start_time": "2019-04-24T02:41:56.576314Z"
    }
   },
   "outputs": [],
   "source": [
    "def kdtree_predict(tr,x,last_col=None):\n",
    "#     print(tr)\n",
    "    tn=tr.feat\n",
    "    if tn is  None:\n",
    "        tn=last_col\n",
    "    tv=tr.value\n",
    "    tl=tr.label\n",
    "#     print(tn)\n",
    "#     print(x[tn])\n",
    "#     print(x[tn][0])\n",
    "    test_v=x[tn][0]\n",
    "\n",
    "    \n",
    "    if test_v==tv and tl is not None:\n",
    "        l=tl\n",
    "        return l\n",
    "    \n",
    "    if test_v==tv :\n",
    "        l=kdtree_predict(tr.subtree,x,tn)\n",
    "        return l\n",
    "            \n",
    "    \n",
    "    if tv is None:\n",
    "        i=0\n",
    "        while tr.subtree[i].value!= test_v:\n",
    "            i+=1\n",
    "        l= kdtree_predict(tr.subtree[i],x,tn)\n",
    "    return l\n",
    "    "
   ]
  },
  {
   "cell_type": "code",
   "execution_count": 134,
   "metadata": {
    "ExecuteTime": {
     "end_time": "2019-04-24T02:42:21.917764Z",
     "start_time": "2019-04-24T02:42:21.897763Z"
    }
   },
   "outputs": [
    {
     "data": {
      "text/html": [
       "<div>\n",
       "<style scoped>\n",
       "    .dataframe tbody tr th:only-of-type {\n",
       "        vertical-align: middle;\n",
       "    }\n",
       "\n",
       "    .dataframe tbody tr th {\n",
       "        vertical-align: top;\n",
       "    }\n",
       "\n",
       "    .dataframe thead th {\n",
       "        text-align: right;\n",
       "    }\n",
       "</style>\n",
       "<table border=\"1\" class=\"dataframe\">\n",
       "  <thead>\n",
       "    <tr style=\"text-align: right;\">\n",
       "      <th></th>\n",
       "      <th>Age</th>\n",
       "      <th>Work</th>\n",
       "      <th>Hourse</th>\n",
       "      <th>Loan</th>\n",
       "    </tr>\n",
       "  </thead>\n",
       "  <tbody>\n",
       "    <tr>\n",
       "      <th>0</th>\n",
       "      <td>老年</td>\n",
       "      <td>是</td>\n",
       "      <td>是</td>\n",
       "      <td>一般</td>\n",
       "    </tr>\n",
       "  </tbody>\n",
       "</table>\n",
       "</div>"
      ],
      "text/plain": [
       "  Age Work Hourse Loan\n",
       "0  老年    是      是   一般"
      ]
     },
     "execution_count": 134,
     "metadata": {},
     "output_type": "execute_result"
    }
   ],
   "source": [
    "t_data=np.array(['老年', '是', '是', '一般'])\n",
    "t_data=t_data.reshape(1,4)\n",
    "t_col=train_data2.columns.values.tolist()[:-1]\n",
    "# test_data=pd.DataFrame(np.array(t_data),columns=t_col)\n",
    "test_data=pd.DataFrame(t_data,columns=t_col)\n",
    "test_data"
   ]
  },
  {
   "cell_type": "code",
   "execution_count": 135,
   "metadata": {
    "ExecuteTime": {
     "end_time": "2019-04-24T02:42:22.215781Z",
     "start_time": "2019-04-24T02:42:22.162778Z"
    }
   },
   "outputs": [
    {
     "name": "stdout",
     "output_type": "stream",
     "text": [
      "{'Age': 0.08549096146585063, 'Work': 0.3333333333333334, 'Hourse': 0.4325380677663126, 'Loan': 0.3738496733100589}\n",
      "{'Age': 0.274017542121281, 'Work': 1.0, 'Loan': 0.5160116947475206}\n"
     ]
    },
    {
     "data": {
      "text/plain": [
       "'是'"
      ]
     },
     "execution_count": 135,
     "metadata": {},
     "output_type": "execute_result"
    }
   ],
   "source": [
    "dt=create_dttree(train_data2,'Category')\n",
    "kdtree_predict(dt,test_data)"
   ]
  },
  {
   "cell_type": "code",
   "execution_count": 129,
   "metadata": {
    "ExecuteTime": {
     "end_time": "2019-04-24T02:41:37.731237Z",
     "start_time": "2019-04-24T02:41:37.722236Z"
    }
   },
   "outputs": [
    {
     "data": {
      "text/plain": [
       "'否'"
      ]
     },
     "execution_count": 129,
     "metadata": {},
     "output_type": "execute_result"
    }
   ],
   "source": [
    "test_data['Hourse'][0]"
   ]
  },
  {
   "cell_type": "code",
   "execution_count": 150,
   "metadata": {
    "ExecuteTime": {
     "end_time": "2019-04-24T05:54:45.946045Z",
     "start_time": "2019-04-24T05:54:45.900042Z"
    }
   },
   "outputs": [],
   "source": [
    "def gini_func(data,col,label,lv='是'):\n",
    "    length1=len(data[col])\n",
    "    ret={}\n",
    "    for k,v in dict(data[col].value_counts()).items():\n",
    "        p1=v/length1\n",
    "#         print(p1)\n",
    "        p2=data[(data[col]==k) & (data[label]==lv)].shape[0] /len(data[data[col]==k][label]) \n",
    "#         print(p2)\n",
    "        p3=data[(data[col]!=k) & (data[label]==lv)].shape[0] /len(data[data[col]!=k][label])\n",
    "#         print(p3)\n",
    "        ret[k]=p1*(2*p2*(1-p2)) + (1-p1)*(2*p3*(1-p3))\n",
    "#         print(ret)\n",
    "    return ret\n",
    "    "
   ]
  },
  {
   "cell_type": "code",
   "execution_count": 151,
   "metadata": {
    "ExecuteTime": {
     "end_time": "2019-04-24T05:54:46.304065Z",
     "start_time": "2019-04-24T05:54:46.288064Z"
    }
   },
   "outputs": [
    {
     "data": {
      "text/plain": [
       "{'中年': 0.48, '老年': 0.44, '青年': 0.44000000000000006}"
      ]
     },
     "execution_count": 151,
     "metadata": {},
     "output_type": "execute_result"
    }
   ],
   "source": [
    "gini_func(train_data2,'Age','Category')"
   ]
  },
  {
   "cell_type": "code",
   "execution_count": 154,
   "metadata": {
    "ExecuteTime": {
     "end_time": "2019-04-24T05:57:32.359563Z",
     "start_time": "2019-04-24T05:57:32.314560Z"
    }
   },
   "outputs": [
    {
     "name": "stdout",
     "output_type": "stream",
     "text": [
      "Age->{'老年': 0.44, '青年': 0.44000000000000006, '中年': 0.48}\n",
      "Work->{'否': 0.31999999999999995, '是': 0.32}\n",
      "Hourse->{'否': 0.26666666666666666, '是': 0.26666666666666666}\n",
      "Loan->{'好': 0.4740740740740741, '一般': 0.32, '非常好': 0.36363636363636365}\n"
     ]
    }
   ],
   "source": [
    "for c in train_data2.columns:\n",
    "    if c !='Category':\n",
    "        print(c+'->'+str(gini_func(train_data2,c,'Category')))"
   ]
  },
  {
   "cell_type": "code",
   "execution_count": 164,
   "metadata": {
    "ExecuteTime": {
     "end_time": "2019-04-24T06:39:48.643630Z",
     "start_time": "2019-04-24T06:39:48.604628Z"
    }
   },
   "outputs": [
    {
     "data": {
      "text/plain": [
       "'中年'"
      ]
     },
     "execution_count": 164,
     "metadata": {},
     "output_type": "execute_result"
    }
   ],
   "source": [
    "a=sorted(gini_func(train_data2,'Age','Category').items(),key=lambda x:x[1])\n",
    "# len(a)\n",
    "a[-1][0]"
   ]
  },
  {
   "cell_type": "code",
   "execution_count": 204,
   "metadata": {
    "ExecuteTime": {
     "end_time": "2019-04-24T07:48:23.263973Z",
     "start_time": "2019-04-24T07:48:23.233971Z"
    }
   },
   "outputs": [],
   "source": [
    "def min_gini(data,label):\n",
    "    ret={}\n",
    "    for c in data.columns:\n",
    "        if c !=label:\n",
    "            s=sorted(gini_func(train_data2,c,label).items(),key=lambda x:x[1])\n",
    "#             print(s)\n",
    "            if len(s)==2:\n",
    "                temp1=s[0]\n",
    "                temp2=s[1]\n",
    "#                 print(temp1[0])\n",
    "                if len(data[data[c]==temp1[0]][label].unique()) ==1:\n",
    "                    print(c)\n",
    "                    print(temp1)\n",
    "                    ret[c]=temp1\n",
    "                else :\n",
    "                    ret[c]=temp2\n",
    "            else:\n",
    "#                 print(c)\n",
    "                ret[c]=s[0]\n",
    "    return ret\n"
   ]
  },
  {
   "cell_type": "code",
   "execution_count": 205,
   "metadata": {
    "ExecuteTime": {
     "end_time": "2019-04-24T07:48:23.666996Z",
     "start_time": "2019-04-24T07:48:23.628994Z"
    }
   },
   "outputs": [
    {
     "data": {
      "text/plain": [
       "{'Age': ('老年', 0.44),\n",
       " 'Hourse': ('是', 0.26666666666666666),\n",
       " 'Loan': ('一般', 0.32),\n",
       " 'Work': ('是', 0.32)}"
      ]
     },
     "execution_count": 205,
     "metadata": {},
     "output_type": "execute_result"
    }
   ],
   "source": [
    "min_gini(train_data2,'Category')"
   ]
  },
  {
   "cell_type": "code",
   "execution_count": null,
   "metadata": {},
   "outputs": [],
   "source": [
    "[('Hourse', ('是', 0.26666666666666666)),\n",
    " ('Work', ('是', 0.32)),\n",
    " ('Loan', ('一般', 0.32)),\n",
    " ('Age', ('老年', 0.44))]"
   ]
  },
  {
   "cell_type": "code",
   "execution_count": 363,
   "metadata": {
    "ExecuteTime": {
     "end_time": "2019-04-25T09:41:46.706337Z",
     "start_time": "2019-04-25T09:41:46.637333Z"
    }
   },
   "outputs": [],
   "source": [
    "def create_dttree_cart(data,label):\n",
    "    col=data.columns.values.tolist()\n",
    "    s=sorted(min_gini(data,label).items(),key=lambda x:x[1][1])\n",
    "#     s=min_gini(data,label)\n",
    "    for i in range(len(s)-1):\n",
    "        temp1=s[i]\n",
    "        temp2=s[i+1]\n",
    "        if temp1[1][1]==temp2[1][1]:\n",
    "            if len(data[data[temp1[0]]==temp1[1][0]][label].unique())!=1:\n",
    "                s[i]=temp2\n",
    "                s[i+1]=temp1\n",
    "    print(s)            \n",
    "\n",
    "\n",
    "    gn,gvs=s[0] \n",
    "    gv=gvs[0]\n",
    "    print(gn)\n",
    "    print(gv)\n",
    "    print(data)\n",
    "    \n",
    "    if data[data[gn]==gv].shape[0]>=1:\n",
    "        ls=sorted(dict(data[data[gn]==gv][label].value_counts()).items(),\n",
    "                                key=lambda x:x[1])\n",
    "        if len(ls)>=2:\n",
    "            l=ls[0][0]\n",
    "            nl=ls[1][0]\n",
    "        else:\n",
    "            l=ls[0][0]\n",
    "\n",
    "        if len(s)>1:\n",
    "            col.remove(gn)\n",
    "            temp=create_dttree_cart(data[data[gn]!=gv][col],label)\n",
    "\n",
    "            return dttree(gn,gv,l,temp)\n",
    "        else:\n",
    "            nls=data[data[gn]!=gv][label].unique().tolist()\n",
    "            nls.remove(l)\n",
    "            nl=nls[0]\n",
    "            return dttree(gn,gv,l,nl)\n",
    "    else :\n",
    "        return dttree(None,None,None,None)\n",
    "                \n",
    "    \n",
    "    "
   ]
  },
  {
   "cell_type": "code",
   "execution_count": 364,
   "metadata": {
    "ExecuteTime": {
     "end_time": "2019-04-25T09:41:47.006354Z",
     "start_time": "2019-04-25T09:41:47.003354Z"
    }
   },
   "outputs": [],
   "source": [
    "# sorted(dict(train_data2['Category'].value_counts()).items(),key=lambda x:x[1])[-1][0]"
   ]
  },
  {
   "cell_type": "code",
   "execution_count": 365,
   "metadata": {
    "ExecuteTime": {
     "end_time": "2019-04-25T09:41:47.553386Z",
     "start_time": "2019-04-25T09:41:47.458380Z"
    }
   },
   "outputs": [
    {
     "name": "stdout",
     "output_type": "stream",
     "text": [
      "[('Hourse', ('是', 0.26666666666666666)), ('Work', ('是', 0.32)), ('Loan', ('一般', 0.32)), ('Age', ('老年', 0.44))]\n",
      "Hourse\n",
      "是\n",
      "   Age Work Hourse Loan Category\n",
      "0   青年    否      否   一般        否\n",
      "1   青年    否      否    好        否\n",
      "2   青年    是      否    好        是\n",
      "3   青年    是      是   一般        是\n",
      "4   青年    否      否   一般        否\n",
      "5   中年    否      否   一般        否\n",
      "6   中年    否      否    好        否\n",
      "7   中年    是      是    好        是\n",
      "8   中年    否      是  非常好        是\n",
      "9   中年    否      是  非常好        是\n",
      "10  老年    否      是  非常好        是\n",
      "11  老年    否      是    好        是\n",
      "12  老年    是      否    好        是\n",
      "13  老年    是      否  非常好        是\n",
      "14  老年    否      否   一般        否\n",
      "Work\n",
      "('否', 0.31999999999999995)\n",
      "[('Work', ('否', 0.31999999999999995)), ('Loan', ('一般', 0.32)), ('Age', ('老年', 0.44))]\n",
      "Work\n",
      "否\n",
      "   Age Work Loan Category\n",
      "0   青年    否   一般        否\n",
      "1   青年    否    好        否\n",
      "2   青年    是    好        是\n",
      "4   青年    否   一般        否\n",
      "5   中年    否   一般        否\n",
      "6   中年    否    好        否\n",
      "12  老年    是    好        是\n",
      "13  老年    是  非常好        是\n",
      "14  老年    否   一般        否\n",
      "[('Loan', ('一般', 0.32)), ('Age', ('老年', 0.44))]\n",
      "Loan\n",
      "一般\n",
      "   Age Loan Category\n",
      "2   青年    好        是\n",
      "12  老年    好        是\n",
      "13  老年  非常好        是\n"
     ]
    },
    {
     "data": {
      "text/plain": [
       "('Hourse', '是', '是', ('Work', '否', '否', (None, None, None, None)))"
      ]
     },
     "execution_count": 365,
     "metadata": {},
     "output_type": "execute_result"
    }
   ],
   "source": [
    "create_dttree_cart(train_data2,'Category')"
   ]
  },
  {
   "cell_type": "code",
   "execution_count": 238,
   "metadata": {
    "ExecuteTime": {
     "end_time": "2019-04-24T08:34:59.744922Z",
     "start_time": "2019-04-24T08:34:59.696920Z"
    }
   },
   "outputs": [
    {
     "data": {
      "text/plain": [
       "[('Hourse', ('是', 0.26666666666666666)),\n",
       " ('Work', ('是', 0.32)),\n",
       " ('Loan', ('一般', 0.32)),\n",
       " ('Age', ('老年', 0.44))]"
      ]
     },
     "execution_count": 238,
     "metadata": {},
     "output_type": "execute_result"
    }
   ],
   "source": [
    "a=sorted(min_gini(train_data2,'Category').items(),key=lambda x:x[1][1])\n",
    "a"
   ]
  },
  {
   "cell_type": "code",
   "execution_count": 223,
   "metadata": {
    "ExecuteTime": {
     "end_time": "2019-04-24T08:12:15.002864Z",
     "start_time": "2019-04-24T08:12:14.956861Z"
    }
   },
   "outputs": [
    {
     "name": "stdout",
     "output_type": "stream",
     "text": [
      "0.44\n",
      "0.32\n",
      "0.26666666666666666\n",
      "0.32\n"
     ]
    }
   ],
   "source": [
    "for k,v in min_gini(train_data2,'Category').items():\n",
    "    print(v[1])\n"
   ]
  },
  {
   "cell_type": "code",
   "execution_count": 215,
   "metadata": {
    "ExecuteTime": {
     "end_time": "2019-04-24T08:07:06.663228Z",
     "start_time": "2019-04-24T08:07:06.610225Z"
    }
   },
   "outputs": [
    {
     "name": "stdout",
     "output_type": "stream",
     "text": [
      "{'Age': ('老年', 0.44), 'Work': ('是', 0.32), 'Hourse': ('是', 0.26666666666666666), 'Loan': ('一般', 0.32)}\n"
     ]
    },
    {
     "data": {
      "text/plain": [
       "{'Age': ('老年', 0.44),\n",
       " 'Hourse': ('是', 0.26666666666666666),\n",
       " 'Loan': ('一般', 0.32),\n",
       " 'Work': ('是', 0.32)}"
      ]
     },
     "execution_count": 215,
     "metadata": {},
     "output_type": "execute_result"
    }
   ],
   "source": [
    "create_dttree_cart(train_data2,'Category')"
   ]
  },
  {
   "cell_type": "code",
   "execution_count": null,
   "metadata": {},
   "outputs": [],
   "source": []
  }
 ],
 "metadata": {
  "kernelspec": {
   "display_name": "Python 3",
   "language": "python",
   "name": "python3"
  },
  "language_info": {
   "codemirror_mode": {
    "name": "ipython",
    "version": 3
   },
   "file_extension": ".py",
   "mimetype": "text/x-python",
   "name": "python",
   "nbconvert_exporter": "python",
   "pygments_lexer": "ipython3",
   "version": "3.6.3"
  }
 },
 "nbformat": 4,
 "nbformat_minor": 2
}
