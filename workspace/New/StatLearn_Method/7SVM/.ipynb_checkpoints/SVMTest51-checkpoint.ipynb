{
 "cells": [
  {
   "cell_type": "code",
   "execution_count": 1,
   "metadata": {
    "ExecuteTime": {
     "end_time": "2019-06-10T07:45:16.225401Z",
     "start_time": "2019-06-10T07:45:15.018332Z"
    }
   },
   "outputs": [],
   "source": [
    "import numpy as np\n",
    "import pandas as pd\n",
    "from sklearn.datasets import load_iris\n",
    "from sklearn.model_selection import  train_test_split\n",
    "import matplotlib.pyplot as plt"
   ]
  },
  {
   "cell_type": "code",
   "execution_count": 2,
   "metadata": {
    "ExecuteTime": {
     "end_time": "2019-06-10T07:45:19.960615Z",
     "start_time": "2019-06-10T07:45:19.936613Z"
    }
   },
   "outputs": [],
   "source": [
    "def create_data():\n",
    "    iris = load_iris()\n",
    "    df = pd.DataFrame(iris.data, columns=iris.feature_names)\n",
    "    df['label'] = iris.target\n",
    "    df.columns = ['sepal length', 'sepal width', 'petal length', 'petal width', 'label']\n",
    "    data = np.array(df.iloc[:100, [0, 1, -1]])\n",
    "    for i in range(len(data)):\n",
    "        if data[i,-1] == 0:\n",
    "            data[i,-1] = -1\n",
    "    # print(data)\n",
    "    return data[:,:2], data[:,-1]"
   ]
  },
  {
   "cell_type": "code",
   "execution_count": 3,
   "metadata": {
    "ExecuteTime": {
     "end_time": "2019-06-10T07:45:24.892897Z",
     "start_time": "2019-06-10T07:45:24.870896Z"
    }
   },
   "outputs": [],
   "source": [
    "X, y = create_data()\n",
    "X_train, X_test, y_train, y_test = train_test_split(X, y, test_size=0.25)"
   ]
  },
  {
   "cell_type": "code",
   "execution_count": 35,
   "metadata": {
    "ExecuteTime": {
     "end_time": "2019-06-10T08:58:30.233724Z",
     "start_time": "2019-06-10T08:58:30.166720Z"
    }
   },
   "outputs": [],
   "source": [
    "class SVM_SMO():\n",
    "    def __init__(self,max_iter=1000,C=1.0,kernel='linear',c=0.5,d=3,b=0):\n",
    "        self.C=C\n",
    "        self.max_iter=max_iter\n",
    "        self.kernel=kernel\n",
    "        self.c=c\n",
    "        self.d=d\n",
    "        self.b=b\n",
    "    \n",
    "    def fit(self,x,y):\n",
    "        self.x=x\n",
    "        self.y=y\n",
    "        self.m,self.n=x.shape\n",
    "        self.alpha=[0.0]*self.m\n",
    "        self.E=np.array([self._E_(i) for i in range(self.m)])\n",
    "        print(self.E)\n",
    "#         self._smo()\n",
    "        \n",
    "    ######## init E ,e=gx-y\n",
    "    \n",
    "    # gx:sigma a,y,k(x,xi) b\n",
    "    def _g_(self,i):\n",
    "        k=[self._k_(i,j) for j in range(self.m)]\n",
    "#         print(k)\n",
    "        return np.dot(self.alpha*self.y,k)+self.b\n",
    "    \n",
    "    # k:kernel func\n",
    "    def _k_(self,i,j):\n",
    "        if self.kernel == 'linear':\n",
    "            return np.dot(self.x[i],self.x[j])\n",
    "        elif self.kernel=='polynomial':\n",
    "            return (np.dot(self.x[i],self.x[j])+self.c)**self.d\n",
    "    \n",
    "    def _E_(self,i):\n",
    "#         print(self._g_(i))\n",
    "        return self._g_(i)-self.y[i]\n",
    "    \n",
    "    def _satisfy_kkt_(self,i):\n",
    "        tmp=self.y[i]*self._g_(i)\n",
    "        if self.alpha[i]==0:\n",
    "            return tmp>=1\n",
    "        elif self.alpha[i]>self.C:\n",
    "            return tmp<=1\n",
    "        else:\n",
    "            return tmp==1\n",
    "        \n",
    "    \n",
    "    def _select_2_(self):\n",
    "        alpha_1_index=[i for i in range(self.m) if self.alpha[i]>0 and self.alpha[i]<self.C]\n",
    "        alpha_2_index=list(set(list(self.m))-set(alpha_1_index))\n",
    "        alpha_1_index.extend(alpha_2_index)\n",
    "        \n",
    "        for i in alpha_1_index:\n",
    "            if self._satisfy_kkt_(i):\n",
    "                continue\n",
    "            imax=(0,0)\n",
    "            E1=self.E[i]\n",
    "            alpha_1_index.remove(i)\n",
    "            for j in alpha_1_index:\n",
    "                E2=self.E[j]\n",
    "                if abs(E1-E2)>imax[0]:\n",
    "                    imax=(abs(E1-E2),j)\n",
    "            return i imax[1]\n",
    "        \n",
    "    def _smo(self):\n",
    "        for _ in range(self.max_iter):\n",
    "            if (_+1)%100==0:\n",
    "                print('iter round :%d' % (_+1))\n",
    "            \n",
    "            tup=self._select_2_()\n",
    "            if tup is None:\n",
    "                print('satisfy kkt,stop')\n",
    "            else\n",
    "    \n",
    "    \n",
    "            \n",
    "        \n",
    "        \n",
    "        "
   ]
  },
  {
   "cell_type": "code",
   "execution_count": 36,
   "metadata": {
    "ExecuteTime": {
     "end_time": "2019-06-10T08:58:30.572743Z",
     "start_time": "2019-06-10T08:58:30.544742Z"
    }
   },
   "outputs": [
    {
     "name": "stdout",
     "output_type": "stream",
     "text": [
      "[ 1.  1.  1.  1.  1. -1. -1.  1.  1.  1. -1.  1.  1. -1. -1. -1.  1.  1.\n",
      "  1. -1. -1. -1. -1. -1. -1.  1.  1. -1.  1.  1. -1. -1. -1. -1.  1.  1.\n",
      " -1. -1. -1.  1.  1. -1.  1.  1. -1. -1. -1.  1. -1.  1. -1.  1.  1. -1.\n",
      " -1.  1.  1. -1. -1. -1. -1.  1.  1. -1.  1. -1. -1.  1.  1.  1. -1.  1.\n",
      "  1. -1. -1.]\n"
     ]
    }
   ],
   "source": [
    "smo=SVM_SMO()\n",
    "smo.fit(X_train,y_train)"
   ]
  },
  {
   "cell_type": "code",
   "execution_count": 58,
   "metadata": {
    "ExecuteTime": {
     "end_time": "2019-06-10T09:30:36.687911Z",
     "start_time": "2019-06-10T09:30:36.664910Z"
    }
   },
   "outputs": [],
   "source": [
    "def test():\n",
    "    for i in range(10):\n",
    "        if i<10:\n",
    "            continue\n",
    "        a=0\n",
    "#         imax = (0, 0)# store |E1-E2|, index of alpha2\n",
    "#         E1 = 0\n",
    "#         for j in range(5):\n",
    "#             E2 = j\n",
    "#             if abs(E1 - E2) > imax[0]:\n",
    "#                 imax = (abs(E1 - E2), j)\n",
    "\n",
    "        return i, a"
   ]
  },
  {
   "cell_type": "code",
   "execution_count": 59,
   "metadata": {
    "ExecuteTime": {
     "end_time": "2019-06-10T09:30:37.138937Z",
     "start_time": "2019-06-10T09:30:37.130936Z"
    }
   },
   "outputs": [
    {
     "name": "stdout",
     "output_type": "stream",
     "text": [
      "None\n"
     ]
    }
   ],
   "source": [
    "a=test()\n",
    "print(a)"
   ]
  },
  {
   "cell_type": "code",
   "execution_count": 60,
   "metadata": {
    "ExecuteTime": {
     "end_time": "2019-06-10T09:31:33.452158Z",
     "start_time": "2019-06-10T09:31:33.441157Z"
    }
   },
   "outputs": [],
   "source": [
    "def test2():\n",
    "    for i in range(20):\n",
    "        if i <20:\n",
    "            continue\n",
    "        a=2\n",
    "        return i,a"
   ]
  },
  {
   "cell_type": "code",
   "execution_count": null,
   "metadata": {},
   "outputs": [],
   "source": []
  }
 ],
 "metadata": {
  "kernelspec": {
   "display_name": "Python 3",
   "language": "python",
   "name": "python3"
  },
  "language_info": {
   "codemirror_mode": {
    "name": "ipython",
    "version": 3
   },
   "file_extension": ".py",
   "mimetype": "text/x-python",
   "name": "python",
   "nbconvert_exporter": "python",
   "pygments_lexer": "ipython3",
   "version": "3.6.3"
  }
 },
 "nbformat": 4,
 "nbformat_minor": 2
}
