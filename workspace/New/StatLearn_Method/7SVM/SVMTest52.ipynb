{
 "cells": [
  {
   "cell_type": "code",
   "execution_count": 1,
   "metadata": {
    "ExecuteTime": {
     "end_time": "2019-06-11T08:08:07.510329Z",
     "start_time": "2019-06-11T08:08:00.677977Z"
    }
   },
   "outputs": [],
   "source": [
    "import numpy as np\n",
    "import pandas as pd\n",
    "from sklearn.datasets import load_iris\n",
    "from sklearn.model_selection import  train_test_split\n",
    "import matplotlib.pyplot as plt"
   ]
  },
  {
   "cell_type": "code",
   "execution_count": 125,
   "metadata": {
    "ExecuteTime": {
     "end_time": "2019-06-12T07:55:18.967401Z",
     "start_time": "2019-06-12T07:55:18.944400Z"
    }
   },
   "outputs": [],
   "source": [
    "def create_data():\n",
    "    iris = load_iris()\n",
    "    df = pd.DataFrame(iris.data, columns=iris.feature_names)\n",
    "    df['label'] = iris.target\n",
    "    df.columns = ['sepal length', 'sepal width', 'petal length', 'petal width', 'label']\n",
    "    data = np.array(df.iloc[:100, [0, 1, -1]])\n",
    "    for i in range(len(data)):\n",
    "        if data[i,-1] == 0:\n",
    "            data[i,-1] = -1\n",
    "    # print(data)\n",
    "    return data[:,:2], data[:,-1]"
   ]
  },
  {
   "cell_type": "code",
   "execution_count": 126,
   "metadata": {
    "ExecuteTime": {
     "end_time": "2019-06-12T07:55:19.605438Z",
     "start_time": "2019-06-12T07:55:19.588437Z"
    }
   },
   "outputs": [],
   "source": [
    "X, y = create_data()\n",
    "X_train, X_test, y_train, y_test = train_test_split(X, y, test_size=0.25,random_state=13)"
   ]
  },
  {
   "cell_type": "code",
   "execution_count": 212,
   "metadata": {
    "ExecuteTime": {
     "end_time": "2019-06-13T09:53:42.561260Z",
     "start_time": "2019-06-13T09:53:41.879222Z"
    }
   },
   "outputs": [],
   "source": [
    "class SVM_SMO():\n",
    "    def __init__(self,max_iter=1000,C=1.0,kernel='linear',c=0.5,d=3,b=0,gamma='auto'):\n",
    "        self.C=C\n",
    "        self.max_iter=max_iter\n",
    "        self.kernel=kernel\n",
    "        self.c=c\n",
    "        self.d=d\n",
    "        self.b=b\n",
    "        self.gamma=gamma\n",
    "        if self.kernel not in('linear','polynomial','gaussian'):\n",
    "            raise ValueError('we only support linear,polynomial and gaussian kernel function!')\n",
    "\n",
    "    \n",
    "    def fit(self,x,y):\n",
    "        self.x=x\n",
    "        self.y=y\n",
    "        self.m,self.n=x.shape\n",
    "        if self.gamma=='auto':\n",
    "            self.gamma=1/self.m\n",
    "        self.alpha=[0.0]*self.m\n",
    "        self.E=np.array([self._E_(i) for i in range(self.m)])\n",
    "        print(self.E)\n",
    "        self._smo()\n",
    "        print(self.alpha)\n",
    "        \n",
    "    def _E_(self,i):\n",
    "        return self._g_(i)-self.y[i]\n",
    "    \n",
    "    ### kernel f=sigma ayk(xi,x)+b\n",
    "    def _g_(self,i):\n",
    "        k=[self._k_(i,j) for j in range(self.m)]\n",
    "        return np.dot(self.alpha*self.y,k)+self.b\n",
    "    \n",
    "    def _k_(self,i,j):\n",
    "        if isinstance(i,int):\n",
    "            if self.kernel=='linear':\n",
    "                return np.inner(self.x[i],self.x[j])\n",
    "            elif self.kernel=='polynomial':\n",
    "                return (np.dot(self.x[i],self.x[j])+self.c)**self.d\n",
    "            else :\n",
    "                return np.exp((np.linalg.norm(self.x[i]-self.x[j])**2)*-1*self.gamma)\n",
    "        else:\n",
    "            if self.kernel=='linear':\n",
    "                return np.inner(i,self.x[j])\n",
    "            elif self.kernel=='polynomial':\n",
    "                return (np.dot(i,self.x[j])+self.c)**self.d\n",
    "            else:\n",
    "                return np.exp((np.linalg.norm(i-self.x[j])**2)*-1*self.gamma)\n",
    "    \n",
    "    \n",
    "    def _satisfy(self,i):\n",
    "        tmp=self.y[i]*self._g_(i)\n",
    "        if self.alpha[i] == 0:\n",
    "            return tmp>=1\n",
    "        elif self.alpha[i]>self.C:\n",
    "            return tmp<=1\n",
    "        else:\n",
    "            return tmp ==1\n",
    "        \n",
    "    def _select_2(self):\n",
    "        alpha_1_index=[i for i in range(self.m) if self.alpha[i]>0 and self.alpha[i]<self.C]\n",
    "        alpha_2_index=list(set(list(range(self.m)))-set(alpha_1_index))\n",
    "        alpha_1_index.extend(alpha_2_index)\n",
    "        \n",
    "        for i in alpha_1_index:\n",
    "            if self._satisfy(i):\n",
    "                continue\n",
    "            imax=(0,0)\n",
    "            E1=self.E[i]\n",
    "            alpha_1_index.remove(i)\n",
    "            for j in alpha_1_index:\n",
    "                E2=self.E[j]\n",
    "                if abs(E1-E2)>imax[0]:\n",
    "                    imax=(abs(E1-E2),j)\n",
    "            return i,imax[1]\n",
    "    \n",
    "    def _smo(self):\n",
    "        print('max iter : '+str(self.max_iter))\n",
    "        for _ in range(self.max_iter):\n",
    "            if (_+1)%100==0 :\n",
    "                print('iter round :%d' % (_+1))\n",
    "            \n",
    "            tup = self._select_2()\n",
    "            if tup is None:\n",
    "                print(\"alphas satisfy kkt condition,stop\")\n",
    "                break\n",
    "            else :\n",
    "                i1,i2=tup\n",
    "            E1,E2=self.E[i1],self.E[i2]\n",
    "            \n",
    "            eta=self._k_(i1,i1)+self._k_(i2,i2)-2*self._k_(i1,i2)\n",
    "            alpha2_new_unc=self.alpha[i2]+self.y[i2]*(E1-E2)/eta\n",
    "            \n",
    "            if self.y[i2]==self.y[i1]:\n",
    "                L = max(0, self.alpha[i2] + self.alpha[i1] - self.C)\n",
    "                H = min(self.C, self.alpha[i2] + self.alpha[i1])\n",
    "            else:\n",
    "                L = max(0, self.alpha[i2] - self.alpha[i1])\n",
    "                H = min(self.C, self.C + self.alpha[i2] - self.alpha[i1])\n",
    "            \n",
    "            alpha2_new=H if alpha2_new_unc>H else L if alpha2_new_unc<L else alpha2_new_unc\n",
    "            \n",
    "            alpha1_new=self.alpha[i1]+self.y[i1]*self.y[i2]*(self.alpha[i2]-alpha2_new)\n",
    "            \n",
    "            b1_new=-E1-self.y[i1]*self._k_(i1,i1)*(alpha1_new-self.alpha[i1]) \\\n",
    "            -self.y[i2]*self._k_(i2,i2)*(alpha2_new-self.alpha[i2])+self.b\n",
    "        \n",
    "            b2_new=-E2-self.y[i1]*self._k_(i1,i2)*(alpha1_new-self.alpha[i1]) \\\n",
    "            -self.y[i2]*self._k_(i2,i2)*(alpha2_new-self.alpha[i2])+self.b\n",
    "                \n",
    "                \n",
    "            if alpha1_new>0 and alpha1_new<self.C:\n",
    "                self.b=b1_new\n",
    "            elif alpha2_new>0 and alpha2_new<self.C:\n",
    "                self.b=b2_new\n",
    "            else:\n",
    "                self.b=(b1_new+b2_new)/2\n",
    "            \n",
    "            self.alpha[i1]=alpha1_new\n",
    "            self.alpha[i2]=alpha2_new\n",
    "            self.E[i1]=self._E_(i1)\n",
    "            self.E[i2]=self._E_(i2)\n",
    "            \n",
    "    def predict(self,x):\n",
    "        res=[self._predict_(x1) for x1 in x]\n",
    "        return res\n",
    "    \n",
    "    def _predict_(self,x):\n",
    "        res=self.b\n",
    "        for i in range(self.m):\n",
    "            res+=self.alpha[i]*self.y[i]*self._k_(x,i)\n",
    "        return 1 if res>0 else -1"
   ]
  },
  {
   "cell_type": "code",
   "execution_count": 213,
   "metadata": {
    "ExecuteTime": {
     "end_time": "2019-06-13T09:53:42.855277Z",
     "start_time": "2019-06-13T09:53:42.806274Z"
    }
   },
   "outputs": [
    {
     "name": "stdout",
     "output_type": "stream",
     "text": [
      "[-1. -1. -1. -1.  1.  1.  1.  1.  1.  1. -1.  1. -1.  1. -1. -1.  1. -1.\n",
      " -1.  1.  1. -1. -1. -1.  1. -1. -1.  1. -1.  1. -1. -1.  1. -1. -1.  1.\n",
      "  1. -1. -1. -1.  1. -1.  1. -1.  1.  1. -1.  1. -1.  1.  1.  1.  1. -1.\n",
      "  1. -1.  1.  1.  1.  1. -1. -1. -1. -1. -1. -1.  1. -1.  1. -1.  1.  1.\n",
      " -1.  1. -1.]\n",
      "max iter : 5\n",
      "[1.0, 0.0, 0.0, 0.0, 1.0, 0.0, 0.0, 0.0, 0.0, 0.0, 0.0, 0.0, 0.0, 0.0, 0.0, 0.0, 0.0, 0.0, 0.0, 0.0, 0.0, 0.0, 0.0, 0.0, 0.0, 0.0, 0.0, 0.0, 0.0, 0.0, 0.0, 0.0, 0.0, 0.0, 0.0, 0.0, 0.0, 0.0, 0.0, 0.0, 0.0, 0.0, 0.0, 0.0, 0.0, 0.0, 0.0, 0.0, 0.0, 0.0, 0.0, 0.0, 0.0, 0.0, 0.0, 0.0, 0.0, 0.0, 0.0, 0.0, 0.0, 0.0, 0.0, 0.0, 0.0, 0.0, 0.0, 0.0, 0.0, 0.0, 0.0, 0.0, 0.0, 0.0, 0.0]\n"
     ]
    },
    {
     "data": {
      "text/plain": [
       "[-1,\n",
       " 1,\n",
       " 1,\n",
       " -1,\n",
       " -1,\n",
       " -1,\n",
       " -1,\n",
       " -1,\n",
       " 1,\n",
       " -1,\n",
       " -1,\n",
       " 1,\n",
       " -1,\n",
       " 1,\n",
       " -1,\n",
       " -1,\n",
       " 1,\n",
       " -1,\n",
       " 1,\n",
       " 1,\n",
       " -1,\n",
       " -1,\n",
       " 1,\n",
       " 1,\n",
       " -1]"
      ]
     },
     "execution_count": 213,
     "metadata": {},
     "output_type": "execute_result"
    }
   ],
   "source": [
    "smo=SVM_SMO(max_iter=5)\n",
    "smo.fit(X_train,y_train)\n",
    "smo.predict(X_test)"
   ]
  },
  {
   "cell_type": "code",
   "execution_count": 214,
   "metadata": {
    "ExecuteTime": {
     "end_time": "2019-06-13T09:53:43.423304Z",
     "start_time": "2019-06-13T09:53:43.405304Z"
    }
   },
   "outputs": [],
   "source": [
    "def pred_score(y_pred,y_true):\n",
    "    count=0\n",
    "    for i in range(len(y_pred)):\n",
    "        if y_pred[i]==y_true[i]:\n",
    "            count+=1\n",
    "    return count/len(y_pred)"
   ]
  },
  {
   "cell_type": "code",
   "execution_count": 215,
   "metadata": {
    "ExecuteTime": {
     "end_time": "2019-06-13T09:53:44.719335Z",
     "start_time": "2019-06-13T09:53:44.686334Z"
    }
   },
   "outputs": [
    {
     "data": {
      "text/plain": [
       "0.96"
      ]
     },
     "execution_count": 215,
     "metadata": {},
     "output_type": "execute_result"
    }
   ],
   "source": [
    "pred_score(smo.predict(X_test),y_test)"
   ]
  },
  {
   "cell_type": "code",
   "execution_count": 216,
   "metadata": {
    "ExecuteTime": {
     "end_time": "2019-06-13T09:53:45.267363Z",
     "start_time": "2019-06-13T09:53:45.247363Z"
    }
   },
   "outputs": [
    {
     "name": "stdout",
     "output_type": "stream",
     "text": [
      "[-1.  1.  1. -1. -1. -1. -1. -1.  1.  1. -1.  1. -1.  1. -1. -1.  1. -1.\n",
      "  1.  1. -1. -1.  1.  1. -1.]\n"
     ]
    }
   ],
   "source": [
    "print(y_test)"
   ]
  },
  {
   "cell_type": "code",
   "execution_count": 217,
   "metadata": {
    "ExecuteTime": {
     "end_time": "2019-06-13T09:53:45.870391Z",
     "start_time": "2019-06-13T09:53:45.850391Z"
    }
   },
   "outputs": [
    {
     "name": "stdout",
     "output_type": "stream",
     "text": [
      "[-1, 1, 1, -1, -1, -1, -1, -1, 1, -1, -1, 1, -1, 1, -1, -1, 1, -1, 1, 1, -1, -1, 1, 1, -1]\n"
     ]
    }
   ],
   "source": [
    "print(smo.predict(X_test))"
   ]
  },
  {
   "cell_type": "code",
   "execution_count": 219,
   "metadata": {
    "ExecuteTime": {
     "end_time": "2019-06-13T09:54:02.226811Z",
     "start_time": "2019-06-13T09:54:02.188809Z"
    }
   },
   "outputs": [
    {
     "ename": "ValueError",
     "evalue": "we only support linear,polynomial and gaussian kernel function!",
     "output_type": "error",
     "traceback": [
      "\u001b[1;31m---------------------------------------------------------------------------\u001b[0m",
      "\u001b[1;31mValueError\u001b[0m                                Traceback (most recent call last)",
      "\u001b[1;32m<ipython-input-219-220e8d0bb496>\u001b[0m in \u001b[0;36m<module>\u001b[1;34m()\u001b[0m\n\u001b[1;32m----> 1\u001b[1;33m \u001b[0msmo2\u001b[0m\u001b[1;33m=\u001b[0m\u001b[0mSVM_SMO\u001b[0m\u001b[1;33m(\u001b[0m\u001b[0mmax_iter\u001b[0m\u001b[1;33m=\u001b[0m\u001b[1;36m50\u001b[0m\u001b[1;33m,\u001b[0m\u001b[0mkernel\u001b[0m\u001b[1;33m=\u001b[0m\u001b[1;34m'gaussian1'\u001b[0m\u001b[1;33m)\u001b[0m\u001b[1;33m\u001b[0m\u001b[0m\n\u001b[0m\u001b[0;32m      2\u001b[0m \u001b[0msmo2\u001b[0m\u001b[1;33m.\u001b[0m\u001b[0mfit\u001b[0m\u001b[1;33m(\u001b[0m\u001b[0mX_train\u001b[0m\u001b[1;33m,\u001b[0m\u001b[0my_train\u001b[0m\u001b[1;33m)\u001b[0m\u001b[1;33m\u001b[0m\u001b[0m\n\u001b[0;32m      3\u001b[0m \u001b[0msmo2\u001b[0m\u001b[1;33m.\u001b[0m\u001b[0mpredict\u001b[0m\u001b[1;33m(\u001b[0m\u001b[0mX_test\u001b[0m\u001b[1;33m)\u001b[0m\u001b[1;33m\u001b[0m\u001b[0m\n",
      "\u001b[1;32m<ipython-input-212-a9cd2790b9eb>\u001b[0m in \u001b[0;36m__init__\u001b[1;34m(self, max_iter, C, kernel, c, d, b, gamma)\u001b[0m\n\u001b[0;32m      9\u001b[0m         \u001b[0mself\u001b[0m\u001b[1;33m.\u001b[0m\u001b[0mgamma\u001b[0m\u001b[1;33m=\u001b[0m\u001b[0mgamma\u001b[0m\u001b[1;33m\u001b[0m\u001b[0m\n\u001b[0;32m     10\u001b[0m         \u001b[1;32mif\u001b[0m \u001b[0mself\u001b[0m\u001b[1;33m.\u001b[0m\u001b[0mkernel\u001b[0m \u001b[1;32mnot\u001b[0m \u001b[1;32min\u001b[0m\u001b[1;33m(\u001b[0m\u001b[1;34m'linear'\u001b[0m\u001b[1;33m,\u001b[0m\u001b[1;34m'polynomial'\u001b[0m\u001b[1;33m,\u001b[0m\u001b[1;34m'gaussian'\u001b[0m\u001b[1;33m)\u001b[0m\u001b[1;33m:\u001b[0m\u001b[1;33m\u001b[0m\u001b[0m\n\u001b[1;32m---> 11\u001b[1;33m             \u001b[1;32mraise\u001b[0m \u001b[0mValueError\u001b[0m\u001b[1;33m(\u001b[0m\u001b[1;34m'we only support linear,polynomial and gaussian kernel function!'\u001b[0m\u001b[1;33m)\u001b[0m\u001b[1;33m\u001b[0m\u001b[0m\n\u001b[0m\u001b[0;32m     12\u001b[0m \u001b[1;33m\u001b[0m\u001b[0m\n\u001b[0;32m     13\u001b[0m \u001b[1;33m\u001b[0m\u001b[0m\n",
      "\u001b[1;31mValueError\u001b[0m: we only support linear,polynomial and gaussian kernel function!"
     ]
    }
   ],
   "source": [
    "smo2=SVM_SMO(max_iter=50,kernel='gaussian1')\n",
    "smo2.fit(X_train,y_train)\n",
    "smo2.predict(X_test)"
   ]
  },
  {
   "cell_type": "code",
   "execution_count": 188,
   "metadata": {
    "ExecuteTime": {
     "end_time": "2019-06-13T03:03:51.557782Z",
     "start_time": "2019-06-13T03:03:51.508779Z"
    }
   },
   "outputs": [
    {
     "data": {
      "text/plain": [
       "0.96"
      ]
     },
     "execution_count": 188,
     "metadata": {},
     "output_type": "execute_result"
    }
   ],
   "source": [
    "pred_score(smo2.predict(X_test),y_test)"
   ]
  },
  {
   "cell_type": "markdown",
   "metadata": {},
   "source": [
    "sklearn"
   ]
  },
  {
   "cell_type": "code",
   "execution_count": 170,
   "metadata": {
    "ExecuteTime": {
     "end_time": "2019-06-13T02:52:35.571117Z",
     "start_time": "2019-06-13T02:52:35.565117Z"
    }
   },
   "outputs": [
    {
     "data": {
      "text/plain": [
       "SVC(C=1.0, cache_size=200, class_weight=None, coef0=0.0,\n",
       "  decision_function_shape='ovr', degree=3, gamma='auto', kernel='rbf',\n",
       "  max_iter=-1, probability=False, random_state=None, shrinking=True,\n",
       "  tol=0.001, verbose=False)"
      ]
     },
     "execution_count": 170,
     "metadata": {},
     "output_type": "execute_result"
    }
   ],
   "source": [
    "from sklearn.svm import SVC\n",
    "clf=SVC()\n",
    "clf.fit(X_train,y_train)"
   ]
  },
  {
   "cell_type": "code",
   "execution_count": 151,
   "metadata": {
    "ExecuteTime": {
     "end_time": "2019-06-13T01:27:04.406632Z",
     "start_time": "2019-06-13T01:27:04.392631Z"
    }
   },
   "outputs": [
    {
     "data": {
      "text/plain": [
       "0.96"
      ]
     },
     "execution_count": 151,
     "metadata": {},
     "output_type": "execute_result"
    }
   ],
   "source": [
    "clf.score(X_test,y_test)"
   ]
  },
  {
   "cell_type": "code",
   "execution_count": 156,
   "metadata": {
    "ExecuteTime": {
     "end_time": "2019-06-13T02:25:48.546201Z",
     "start_time": "2019-06-13T02:25:48.539200Z"
    }
   },
   "outputs": [],
   "source": [
    "v1=[1,1]\n",
    "v2=[2,2]\n",
    "v3=[3,3]\n",
    "vec1=np.array([v1])\n",
    "vec2=np.array([v2])\n",
    "vec3=np.array([v3])"
   ]
  },
  {
   "cell_type": "code",
   "execution_count": 153,
   "metadata": {
    "ExecuteTime": {
     "end_time": "2019-06-13T02:22:34.338093Z",
     "start_time": "2019-06-13T02:22:34.331092Z"
    }
   },
   "outputs": [],
   "source": [
    "from sklearn.metrics import euclidean_distances"
   ]
  },
  {
   "cell_type": "code",
   "execution_count": 154,
   "metadata": {
    "ExecuteTime": {
     "end_time": "2019-06-13T02:22:55.147283Z",
     "start_time": "2019-06-13T02:22:55.125282Z"
    }
   },
   "outputs": [
    {
     "data": {
      "text/plain": [
       "array([[1.41421356]])"
      ]
     },
     "execution_count": 154,
     "metadata": {},
     "output_type": "execute_result"
    }
   ],
   "source": [
    "euclidean_distances(vec1,vec2)"
   ]
  },
  {
   "cell_type": "code",
   "execution_count": 155,
   "metadata": {
    "ExecuteTime": {
     "end_time": "2019-06-13T02:23:12.297264Z",
     "start_time": "2019-06-13T02:23:12.269262Z"
    }
   },
   "outputs": [
    {
     "data": {
      "text/plain": [
       "1.4142135623730951"
      ]
     },
     "execution_count": 155,
     "metadata": {},
     "output_type": "execute_result"
    }
   ],
   "source": [
    "np.linalg.norm(vec1-vec2)"
   ]
  },
  {
   "cell_type": "code",
   "execution_count": 160,
   "metadata": {
    "ExecuteTime": {
     "end_time": "2019-06-13T02:27:07.926741Z",
     "start_time": "2019-06-13T02:27:07.915741Z"
    }
   },
   "outputs": [
    {
     "data": {
      "text/plain": [
       "array([[2.82842712]])"
      ]
     },
     "execution_count": 160,
     "metadata": {},
     "output_type": "execute_result"
    }
   ],
   "source": [
    "euclidean_distances(vec1,vec3)"
   ]
  },
  {
   "cell_type": "code",
   "execution_count": 161,
   "metadata": {
    "ExecuteTime": {
     "end_time": "2019-06-13T02:27:42.600724Z",
     "start_time": "2019-06-13T02:27:42.591724Z"
    }
   },
   "outputs": [
    {
     "data": {
      "text/plain": [
       "2.8284271247461903"
      ]
     },
     "execution_count": 161,
     "metadata": {},
     "output_type": "execute_result"
    }
   ],
   "source": [
    "np.power(8,1/2)"
   ]
  },
  {
   "cell_type": "code",
   "execution_count": 162,
   "metadata": {
    "ExecuteTime": {
     "end_time": "2019-06-13T02:51:23.239980Z",
     "start_time": "2019-06-13T02:51:23.226980Z"
    }
   },
   "outputs": [
    {
     "data": {
      "text/plain": [
       "7.38905609893065"
      ]
     },
     "execution_count": 162,
     "metadata": {},
     "output_type": "execute_result"
    }
   ],
   "source": [
    "np.exp(2)"
   ]
  },
  {
   "cell_type": "code",
   "execution_count": 163,
   "metadata": {
    "ExecuteTime": {
     "end_time": "2019-06-13T02:51:30.121374Z",
     "start_time": "2019-06-13T02:51:30.107373Z"
    }
   },
   "outputs": [
    {
     "data": {
      "text/plain": [
       "2.718281828459045"
      ]
     },
     "execution_count": 163,
     "metadata": {},
     "output_type": "execute_result"
    }
   ],
   "source": [
    "np.exp(1)"
   ]
  },
  {
   "cell_type": "code",
   "execution_count": 197,
   "metadata": {
    "ExecuteTime": {
     "end_time": "2019-06-13T03:32:50.551246Z",
     "start_time": "2019-06-13T03:32:50.532245Z"
    }
   },
   "outputs": [
    {
     "ename": "AttributeError",
     "evalue": "'list' object has no attribute 'var'",
     "output_type": "error",
     "traceback": [
      "\u001b[1;31m---------------------------------------------------------------------------\u001b[0m",
      "\u001b[1;31mAttributeError\u001b[0m                            Traceback (most recent call last)",
      "\u001b[1;32m<ipython-input-197-35e0c490f514>\u001b[0m in \u001b[0;36m<module>\u001b[1;34m()\u001b[0m\n\u001b[1;32m----> 1\u001b[1;33m \u001b[0mv1\u001b[0m\u001b[1;33m.\u001b[0m\u001b[0mvar\u001b[0m\u001b[1;33m(\u001b[0m\u001b[1;33m)\u001b[0m\u001b[1;33m\u001b[0m\u001b[0m\n\u001b[0m",
      "\u001b[1;31mAttributeError\u001b[0m: 'list' object has no attribute 'var'"
     ]
    }
   ],
   "source": [
    "v1.var()"
   ]
  },
  {
   "cell_type": "code",
   "execution_count": 202,
   "metadata": {
    "ExecuteTime": {
     "end_time": "2019-06-13T06:04:53.340040Z",
     "start_time": "2019-06-13T06:04:53.328039Z"
    }
   },
   "outputs": [
    {
     "data": {
      "text/plain": [
       "array([4.9, 3.1])"
      ]
     },
     "execution_count": 202,
     "metadata": {},
     "output_type": "execute_result"
    }
   ],
   "source": [
    "X_test[0]"
   ]
  },
  {
   "cell_type": "code",
   "execution_count": 203,
   "metadata": {
    "ExecuteTime": {
     "end_time": "2019-06-13T06:44:17.462260Z",
     "start_time": "2019-06-13T06:44:17.454260Z"
    }
   },
   "outputs": [
    {
     "data": {
      "text/plain": [
       "0.2"
      ]
     },
     "execution_count": 203,
     "metadata": {},
     "output_type": "execute_result"
    }
   ],
   "source": [
    "1/5"
   ]
  },
  {
   "cell_type": "code",
   "execution_count": null,
   "metadata": {},
   "outputs": [],
   "source": []
  }
 ],
 "metadata": {
  "kernelspec": {
   "display_name": "Python 3",
   "language": "python",
   "name": "python3"
  },
  "language_info": {
   "codemirror_mode": {
    "name": "ipython",
    "version": 3
   },
   "file_extension": ".py",
   "mimetype": "text/x-python",
   "name": "python",
   "nbconvert_exporter": "python",
   "pygments_lexer": "ipython3",
   "version": "3.6.3"
  }
 },
 "nbformat": 4,
 "nbformat_minor": 2
}
