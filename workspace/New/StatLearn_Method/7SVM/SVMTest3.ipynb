{
 "cells": [
  {
   "cell_type": "code",
   "execution_count": 1,
   "metadata": {
    "ExecuteTime": {
     "end_time": "2019-06-12T07:59:11.355544Z",
     "start_time": "2019-06-12T07:59:09.981465Z"
    }
   },
   "outputs": [],
   "source": [
    "import numpy as np\n",
    "import pandas as pd\n",
    "from sklearn.datasets import load_iris\n",
    "from sklearn.model_selection import  train_test_split\n",
    "import matplotlib.pyplot as plt"
   ]
  },
  {
   "cell_type": "code",
   "execution_count": 2,
   "metadata": {
    "ExecuteTime": {
     "end_time": "2019-06-12T07:59:11.366545Z",
     "start_time": "2019-06-12T07:59:11.357544Z"
    }
   },
   "outputs": [],
   "source": [
    "def create_data():\n",
    "    iris = load_iris()\n",
    "    df = pd.DataFrame(iris.data, columns=iris.feature_names)\n",
    "    df['label'] = iris.target\n",
    "    df.columns = ['sepal length', 'sepal width', 'petal length', 'petal width', 'label']\n",
    "    data = np.array(df.iloc[:100, [0, 1, -1]])\n",
    "    for i in range(len(data)):\n",
    "        if data[i,-1] == 0:\n",
    "            data[i,-1] = -1\n",
    "    # print(data)\n",
    "    return data[:,:2], data[:,-1]"
   ]
  },
  {
   "cell_type": "code",
   "execution_count": 18,
   "metadata": {
    "ExecuteTime": {
     "end_time": "2019-06-12T08:02:41.719576Z",
     "start_time": "2019-06-12T08:02:41.700575Z"
    }
   },
   "outputs": [],
   "source": [
    "X, y = create_data()\n",
    "X_train, X_test, y_train, y_test = train_test_split(X, y, test_size=0.25,random_state=13)"
   ]
  },
  {
   "cell_type": "code",
   "execution_count": 19,
   "metadata": {
    "ExecuteTime": {
     "end_time": "2019-06-12T08:02:42.244606Z",
     "start_time": "2019-06-12T08:02:42.238606Z"
    }
   },
   "outputs": [],
   "source": [
    "A=[[1  ,10], [100,1000]]\n",
    "B=[[1,2], [3,4]]"
   ]
  },
  {
   "cell_type": "code",
   "execution_count": 20,
   "metadata": {
    "ExecuteTime": {
     "end_time": "2019-06-12T08:02:42.631628Z",
     "start_time": "2019-06-12T08:02:42.625628Z"
    }
   },
   "outputs": [
    {
     "data": {
      "text/plain": [
       "array([[  31,   42],\n",
       "       [3100, 4200]])"
      ]
     },
     "execution_count": 20,
     "metadata": {},
     "output_type": "execute_result"
    }
   ],
   "source": [
    "np.dot(A,B)"
   ]
  },
  {
   "cell_type": "code",
   "execution_count": 21,
   "metadata": {
    "ExecuteTime": {
     "end_time": "2019-06-12T08:02:42.983648Z",
     "start_time": "2019-06-12T08:02:42.978648Z"
    }
   },
   "outputs": [],
   "source": [
    "A=[[100,1000]]\n",
    "B=[[1,2], [3,4]]"
   ]
  },
  {
   "cell_type": "code",
   "execution_count": 22,
   "metadata": {
    "ExecuteTime": {
     "end_time": "2019-06-12T08:02:44.515736Z",
     "start_time": "2019-06-12T08:02:43.889700Z"
    }
   },
   "outputs": [],
   "source": [
    "class SVC():\n",
    "    def __init__(self,C=1.0,max_iter=1000,kernel='linear',epsilon=0.001,c=0.5,d=3):\n",
    "        self.C=C\n",
    "        self.kernel=kernel\n",
    "        self.epsilon=epsilon\n",
    "        self.max_iter=max_iter\n",
    "        self.c=c\n",
    "        self.d=d\n",
    "        if self.C<0:\n",
    "            raise ValueError('penalty term must be positive ,bot got (C=%r)' % self.C)\n",
    "        if self.kernel not in ('linear','polynomial'):\n",
    "            raise ValueError('we only support linear kernal or polynomial kernal fun now')\n",
    "    \n",
    "    \n",
    "    # train  a svm model\n",
    "    def fit(self,x,y):\n",
    "        self.x=x\n",
    "        self.Y=y\n",
    "        self.b=0.0\n",
    "        self.m=len(x)\n",
    "        self.n=len(x[0])\n",
    "        self.alpha=[0.0]* self.m\n",
    "        self.E=np.array([self._E_(i) for i in range (self.m)])\n",
    "        self._smo()\n",
    "        \n",
    "    #check if the alpha[i] satify the kkt condition\n",
    "    def _safisfy_KKT_(self,i):\n",
    "        tmp=self.Y[i]*self._g_(i)\n",
    "        if abs(self.alpha[i])<self.epsilon:\n",
    "            return tmp>=1\n",
    "        elif abs(self.alpha[i]-self.C) < self.epsilon:\n",
    "            return tmp<=1\n",
    "        else:\n",
    "            return abs(tmp-1)< self.epsilon\n",
    "    \n",
    "    ## the predict val of sample[i]\n",
    "    def _g_(self,i):\n",
    "        k=np.array([self._k_(i,j) for j in range(self.m) ])\n",
    "        return np.dot(self.alpha * self.Y,k)+self.b\n",
    "    \n",
    "    def _k_(self,i,j):\n",
    "        if isinstance(i,int):\n",
    "            if self.kernel=='linear':\n",
    "                return np.inner(self.x[i],self.x[j])\n",
    "            elif self.kernel=='polynomial':\n",
    "                return (np.dot(self.x[i],slef.x[j])+self.c)**self.d\n",
    "        else: # i is a vector\n",
    "            if self.kernel == 'linear':\n",
    "                return np.inner(i,self.x[j])\n",
    "            elif self.kernel=='polynomial':\n",
    "                return (np.dot(i,self.x[j])+self.c)**self.d\n",
    "    \n",
    "    ###compute predict val-true val for sample_i\n",
    "    def _E_(self,i):\n",
    "        return self._g_(i)-self.Y[i]\n",
    "    \n",
    "    ### select 2 alpha to update:\n",
    "    # if return none ,stop\n",
    "    def _select_2(self):\n",
    "        #first alpha:find not satisfy kkt condition from all 0<alpha[i]<c\n",
    "        alpha_1_index=[i for i in range(self.m) if self.alpha[i] >\n",
    "                      self.epsilon and abs(self.alpha[i]-self.C) > self.epsilon]\n",
    "        alpha_2_index=list(set(list(range(self.m)))-set(alpha_1_index))\n",
    "        \n",
    "        # first check 0<alpha[i]<c ,if they satisfy kkt all,then check other alpha\n",
    "        alpha_1_index.extend(alpha_2_index ) \n",
    "        \n",
    "        for i in alpha_1_index:\n",
    "            if self._safisfy_KKT_(i):\n",
    "                continue\n",
    "            imax=(0,0) #store |E1-E2| ,index of alpha2\n",
    "            E1=self.E[i]\n",
    "            alpha_1_index.remove(i)\n",
    "            for j in alpha_1_index:\n",
    "                E2 = self.E[j]\n",
    "                if abs(E1-E2)> imax[0]:\n",
    "                    imax=(abs(E1-E2),j)\n",
    "            return i,imax[1]\n",
    "    \n",
    "    #classical squecntial minimal optimization algorithm\n",
    "    def _smo(self):\n",
    "        for _ in range(self.max_iter):\n",
    "            if (_+1)%100==0 :\n",
    "                print('iter round :%d' % (_+1))\n",
    "            \n",
    "            tup = self._select_2()\n",
    "            if tup is None :\n",
    "                print('satisfy stop condition')\n",
    "                break\n",
    "            else :\n",
    "                i1,i2=tup\n",
    "            \n",
    "            E1,E2=self.E[i1],self.E[i2]\n",
    "            eta=self._k_(i1,i1)+self._k_(i2,i2)-2*self._k_(i1,i2)\n",
    "#             print('-------')\n",
    "#             print(self.alpha[i2])\n",
    "#             print('-------')\n",
    "            alpha2_new_unc=self.alpha[i2]+self.Y[i2]*(E1-E2)/eta\n",
    "#             print('-------')\n",
    "#             print(alpha2_new_unc)\n",
    "#             print('-------')           \n",
    "            if self.Y[i1]==self.Y[i2]:\n",
    "                L=max(0,self.alpha[i2]+self.alpha[i1]-self.C)\n",
    "                H=min(self.C,self.alpha[i2]+self.alpha[i1])\n",
    "            else:\n",
    "                L=max(0,self.alpha[i2]-self.alpha[i1])\n",
    "                H=min(self.C,self.C+self.alpha[i2]-self.alpha[i1])\n",
    "#             alpha2_new = H if alpha2_new_unc > H else L if alpha2_new_unc < L else alpha2_new_unc\n",
    "#             print(H)\n",
    "#             print(L)\n",
    "#             print(alpha2_new_unc)\n",
    "            alpha2_new= H if alpha2_new_unc >H  else L if alpha2_new_unc<L else alpha2_new_unc\n",
    "            alpha1_new=self.alpha[i1]+self.Y[i1]*self.Y[i2]*(self.alpha[i2]-alpha2_new)\n",
    "            \n",
    "            #update b\n",
    "            b1_new=-E1-self.Y[i1]*self._k_(i1,i1)*(alpha1_new-self.alpha[i1])\\\n",
    "            -self.Y[i2]*self._k_(i2,i1)*(alpha2_new - self.alpha[i2])+self.b\n",
    "            b2_new=-E2-self.Y[i1]*self._k_(i1,i2)*(alpha1_new-self.alpha[i1])\\\n",
    "            -self.Y[i2]*self._k_(i2,i2)*(alpha2_new - self.alpha[i2])+self.b\n",
    "            \n",
    "            # update b ,alpha1,alpha2,E1,E2\n",
    "            if alpha1_new >0 and alpha1_new<self.C:\n",
    "                self.b = b1_new\n",
    "            elif alpha2_new >0 and alpha2_new<self.C:\n",
    "                self.b=b2_new\n",
    "            else:\n",
    "                self.b=(b1_new+b2_new)/2\n",
    "            \n",
    "            self.alpha[i1]=alpha1_new\n",
    "            self.alpha[i2]=alpha2_new\n",
    "            self.E[i1]=self._E_(i1)\n",
    "            self.E[i2]=self._E_(i2)\n",
    "            \n",
    "    def _predict_(self,x):\n",
    "        res=self.b\n",
    "        for i in range(self.m):\n",
    "            res+=self.alpha[i]*self.Y[i]*self._k_(x,i)\n",
    "        return 1 if res >0 else -1\n",
    "\n",
    "    def predict(self,x):\n",
    "        res=[self._predict_(x1) for x1 in x]\n",
    "        return res\n",
    "            "
   ]
  },
  {
   "cell_type": "code",
   "execution_count": 23,
   "metadata": {
    "ExecuteTime": {
     "end_time": "2019-06-12T08:02:44.639743Z",
     "start_time": "2019-06-12T08:02:44.626742Z"
    }
   },
   "outputs": [
    {
     "name": "stdout",
     "output_type": "stream",
     "text": [
      "satisfy stop condition\n",
      "[-1, 1, 1, 1]\n"
     ]
    }
   ],
   "source": [
    "svc = SVC()\n",
    "X = np.array([\n",
    "    [3,3],\n",
    "    [4,3],\n",
    "    [1,1]])\n",
    "Y = np.array([1, 1, -1])\n",
    "svc.fit(X, Y)\n",
    "print(svc.predict([\n",
    "    [1, 1/2],\n",
    "    [3, 5],\n",
    "    [6, 2],\n",
    "    [3,4]\n",
    "]))"
   ]
  },
  {
   "cell_type": "code",
   "execution_count": 24,
   "metadata": {
    "ExecuteTime": {
     "end_time": "2019-06-12T08:02:45.442789Z",
     "start_time": "2019-06-12T08:02:45.427788Z"
    }
   },
   "outputs": [],
   "source": [
    "def pred_score(y_pred,y_true):\n",
    "    count=0\n",
    "    for i in range(len(y_pred)):\n",
    "        if y_pred[i]==y_true[i]:\n",
    "            count+=1\n",
    "    return count/len(y_pred)\n",
    "    "
   ]
  },
  {
   "cell_type": "code",
   "execution_count": 25,
   "metadata": {
    "ExecuteTime": {
     "end_time": "2019-06-12T08:02:46.803867Z",
     "start_time": "2019-06-12T08:02:46.159830Z"
    }
   },
   "outputs": [
    {
     "name": "stderr",
     "output_type": "stream",
     "text": [
      "D:\\ProgramData\\Anaconda3\\lib\\site-packages\\ipykernel_launcher.py:98: RuntimeWarning: divide by zero encountered in double_scalars\n"
     ]
    },
    {
     "name": "stdout",
     "output_type": "stream",
     "text": [
      "iter round :100\n",
      "iter round :200\n",
      "iter round :300\n",
      "iter round :400\n",
      "iter round :500\n",
      "iter round :600\n",
      "iter round :700\n",
      "iter round :800\n",
      "iter round :900\n",
      "iter round :1000\n"
     ]
    },
    {
     "data": {
      "text/plain": [
       "0.76"
      ]
     },
     "execution_count": 25,
     "metadata": {},
     "output_type": "execute_result"
    }
   ],
   "source": [
    "svc.fit(X_train,y_train)\n",
    "pred_score(svc.predict(X_test),y_test)\n"
   ]
  },
  {
   "cell_type": "code",
   "execution_count": 27,
   "metadata": {
    "ExecuteTime": {
     "end_time": "2019-06-12T08:03:09.414160Z",
     "start_time": "2019-06-12T08:03:09.368158Z"
    }
   },
   "outputs": [
    {
     "data": {
      "text/plain": [
       "0.96"
      ]
     },
     "execution_count": 27,
     "metadata": {},
     "output_type": "execute_result"
    }
   ],
   "source": [
    "smo=SVC(max_iter=5)\n",
    "smo.fit(X_train,y_train)\n",
    "pred_score(smo.predict(X_test),y_test)"
   ]
  },
  {
   "cell_type": "code",
   "execution_count": null,
   "metadata": {},
   "outputs": [],
   "source": []
  }
 ],
 "metadata": {
  "kernelspec": {
   "display_name": "Python 3",
   "language": "python",
   "name": "python3"
  },
  "language_info": {
   "codemirror_mode": {
    "name": "ipython",
    "version": 3
   },
   "file_extension": ".py",
   "mimetype": "text/x-python",
   "name": "python",
   "nbconvert_exporter": "python",
   "pygments_lexer": "ipython3",
   "version": "3.6.3"
  }
 },
 "nbformat": 4,
 "nbformat_minor": 2
}
