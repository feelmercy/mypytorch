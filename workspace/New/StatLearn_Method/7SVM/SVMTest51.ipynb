{
 "cells": [
  {
   "cell_type": "code",
   "execution_count": 1,
   "metadata": {
    "ExecuteTime": {
     "end_time": "2019-06-10T07:45:16.225401Z",
     "start_time": "2019-06-10T07:45:15.018332Z"
    }
   },
   "outputs": [],
   "source": [
    "import numpy as np\n",
    "import pandas as pd\n",
    "from sklearn.datasets import load_iris\n",
    "from sklearn.model_selection import  train_test_split\n",
    "import matplotlib.pyplot as plt"
   ]
  },
  {
   "cell_type": "code",
   "execution_count": 2,
   "metadata": {
    "ExecuteTime": {
     "end_time": "2019-06-10T07:45:19.960615Z",
     "start_time": "2019-06-10T07:45:19.936613Z"
    }
   },
   "outputs": [],
   "source": [
    "def create_data():\n",
    "    iris = load_iris()\n",
    "    df = pd.DataFrame(iris.data, columns=iris.feature_names)\n",
    "    df['label'] = iris.target\n",
    "    df.columns = ['sepal length', 'sepal width', 'petal length', 'petal width', 'label']\n",
    "    data = np.array(df.iloc[:100, [0, 1, -1]])\n",
    "    for i in range(len(data)):\n",
    "        if data[i,-1] == 0:\n",
    "            data[i,-1] = -1\n",
    "    # print(data)\n",
    "    return data[:,:2], data[:,-1]"
   ]
  },
  {
   "cell_type": "code",
   "execution_count": 161,
   "metadata": {
    "ExecuteTime": {
     "end_time": "2019-06-12T07:53:47.426165Z",
     "start_time": "2019-06-12T07:53:47.401164Z"
    }
   },
   "outputs": [],
   "source": [
    "X, y = create_data()\n",
    "X_train, X_test, y_train, y_test = train_test_split(X, y, test_size=0.25,random_state=13)"
   ]
  },
  {
   "cell_type": "code",
   "execution_count": 162,
   "metadata": {
    "ExecuteTime": {
     "end_time": "2019-06-12T07:53:49.224268Z",
     "start_time": "2019-06-12T07:53:48.660236Z"
    }
   },
   "outputs": [],
   "source": [
    "class SVM_SMO():\n",
    "    def __init__(self,max_iter=1000,C=1.0,kernel='linear',c=0.5,d=3,b=0):\n",
    "        self.C=C\n",
    "        self.max_iter=max_iter\n",
    "        self.kernel=kernel\n",
    "        self.c=c\n",
    "        self.d=d\n",
    "        self.b=b\n",
    "    \n",
    "    def fit(self,x,y):\n",
    "        self.x=x\n",
    "        self.y=y\n",
    "        self.m,self.n=x.shape\n",
    "        self.alpha=[0.0]*self.m\n",
    "        self.E=np.array([self._E_(i) for i in range(self.m)])\n",
    "        print(self.E)\n",
    "        self._smo()\n",
    "        print(self.alpha)\n",
    "        \n",
    "    ######## init E ,e=gx-y\n",
    "    \n",
    "    # gx:sigma a,y,k(x,xi) b\n",
    "    def _g_(self,i):\n",
    "        k=[self._k_(i,j) for j in range(self.m)]\n",
    "#         print(k)\n",
    "        return np.dot(self.alpha*self.y,k)+self.b\n",
    "    \n",
    "    # k:kernel func\n",
    "    def _k_(self,i,j):\n",
    "        if isinstance(i,int):\n",
    "            if self.kernel == 'linear':\n",
    "                return np.inner(self.x[i],self.x[j])\n",
    "            elif self.kernel=='polynomial':\n",
    "                return (np.dot(self.x[i],self.x[j])+self.c)**self.d\n",
    "        else:\n",
    "            if self.kernel == 'linear':\n",
    "                return np.inner(i,self.x[j])\n",
    "            elif self.kernel=='polynomial':\n",
    "                return (np.dot(i,self.x[j])+self.c)**self.d \n",
    "    \n",
    "    def _E_(self,i):\n",
    "#         print(self._g_(i))\n",
    "        return self._g_(i)-self.y[i]\n",
    "    \n",
    "    def _satisfy_kkt_(self,i):\n",
    "        tmp=self.y[i]*self._g_(i)\n",
    "        if self.alpha[i]==0:\n",
    "            return tmp>=1\n",
    "        elif self.alpha[i]>self.C:\n",
    "            return tmp<=1\n",
    "        else:\n",
    "            return tmp==1\n",
    "        \n",
    "    \n",
    "    def _select_2_(self):\n",
    "        alpha_1_index=[i for i in range(self.m) if self.alpha[i]>0 and self.alpha[i]<self.C]\n",
    "        alpha_2_index=list(set(list(range(self.m)))-set(alpha_1_index))\n",
    "        alpha_1_index.extend(alpha_2_index)\n",
    "        \n",
    "        for i in alpha_1_index:\n",
    "            if self._satisfy_kkt_(i):\n",
    "                continue\n",
    "            imax=(0,0)\n",
    "            E1=self.E[i]\n",
    "            alpha_1_index.remove(i)\n",
    "            for j in alpha_1_index:\n",
    "                E2=self.E[j]\n",
    "                if abs(E1-E2)>imax[0]:\n",
    "                    imax=(abs(E1-E2),j)\n",
    "            return i, imax[1]\n",
    "        \n",
    "    def _smo(self):\n",
    "        for _ in range(self.max_iter):\n",
    "            if (_+1)%100==0:\n",
    "                print('iter round :%d' % (_+1))\n",
    "            \n",
    "            tup=self._select_2_()\n",
    "            if tup is None:\n",
    "                print('satisfy kkt,stop')\n",
    "                break\n",
    "            else:\n",
    "                i1,i2=tup\n",
    "            \n",
    "            E1,E2=self.E[i1],self.E[i2]\n",
    "            eta=self._k_(i1,i1)+self._k_(i2,i2)-2*self._k_(i1,i2)\n",
    "            \n",
    "            alpha2_new_unc=self.alpha[i2]+self.y[i2]*(E1-E2)/eta\n",
    "            \n",
    "            if self.y[i1] == self.y[i2]:\n",
    "                L = max(0, self.alpha[i2] + self.alpha[i1] - self.C)\n",
    "                H = min(self.C, self.alpha[i2] + self.alpha[i1])\n",
    "            else:\n",
    "                L = max(0, self.alpha[i2] - self.alpha[i1])\n",
    "                H = min(self.C, self.C + self.alpha[i2] - self.alpha[i1])\n",
    "                \n",
    "            alpha2_new = H if alpha2_new_unc > H else L if alpha2_new_unc < L else alpha2_new_unc\n",
    "\n",
    "            alpha1_new = self.alpha[i1] + self.y[i1]*self.y[i2]*(self.alpha[i2] - alpha2_new)\n",
    "\n",
    "            # update b\n",
    "            b1_new = -E1 - self.y[i1]*self._k_(i1,i1)*(alpha1_new - self.alpha[i1]) \\\n",
    "                     - self.y[i2]*self._k_(i2,i1)*(alpha2_new - self.alpha[i2]) + self.b\n",
    "            b2_new = -E2 - self.y[i1]*self._k_(i1,i2)*(alpha1_new - self.alpha[i1]) \\\n",
    "                     - self.y[i2]*self._k_(i2,i2)*(alpha2_new - self.alpha[i2]) + self.b\n",
    "\n",
    "            # update b, alpha1, alpha2, E1, E2\n",
    "            if alpha1_new > 0 and alpha1_new < self.C:\n",
    "                self.b = b1_new\n",
    "            elif alpha2_new > 0 and alpha2_new < self.C:\n",
    "                self.b = b2_new\n",
    "            else:\n",
    "                self.b = (b1_new + b2_new) / 2\n",
    "            self.alpha[i1] = alpha1_new\n",
    "            self.alpha[i2] = alpha2_new\n",
    "            self.E[i1] = self._E_(i1)\n",
    "            self.E[i2] = self._E_(i2)\n",
    "    \n",
    "    def _predict_(self, x):\n",
    "        res = self.b\n",
    "        for i in range(self.m):\n",
    "#             print(str(x)+'---'+str(i))\n",
    "#             print(self.alpha[i])\n",
    "#             print(self.y[i])\n",
    "#             print(self._k_(x,i))\n",
    "            res += self.alpha[i]*self.y[i]*self._k_(x, i)\n",
    "\n",
    "        return 1 if res > 0 else -1\n",
    "\n",
    "    def predict(self, X):\n",
    "        res = [self._predict_(x1) for x1 in X]\n",
    "        return res\n",
    "        \n",
    "        \n"
   ]
  },
  {
   "cell_type": "code",
   "execution_count": 169,
   "metadata": {
    "ExecuteTime": {
     "end_time": "2019-06-12T08:03:16.812583Z",
     "start_time": "2019-06-12T08:03:16.774581Z"
    }
   },
   "outputs": [
    {
     "name": "stdout",
     "output_type": "stream",
     "text": [
      "[-1. -1. -1. -1.  1.  1.  1.  1.  1.  1. -1.  1. -1.  1. -1. -1.  1. -1.\n",
      " -1.  1.  1. -1. -1. -1.  1. -1. -1.  1. -1.  1. -1. -1.  1. -1. -1.  1.\n",
      "  1. -1. -1. -1.  1. -1.  1. -1.  1.  1. -1.  1. -1.  1.  1.  1.  1. -1.\n",
      "  1. -1.  1.  1.  1.  1. -1. -1. -1. -1. -1. -1.  1. -1.  1. -1.  1.  1.\n",
      " -1.  1. -1.]\n",
      "[1.0, 0.0, 0.0, 0.0, 1.0, 0.0, 0.0, 0.0, 0.0, 0.0, 0.0, 0.0, 0.0, 0.0, 0.0, 0.0, 0.0, 0.0, 0.0, 0.0, 0.0, 0.0, 0.0, 0.0, 0.0, 0.0, 0.0, 0.0, 0.0, 0.0, 0.0, 0.0, 0.0, 0.0, 0.0, 0.0, 0.0, 0.0, 0.0, 0.0, 0.0, 0.0, 0.0, 0.0, 0.0, 0.0, 0.0, 0.0, 0.0, 0.0, 0.0, 0.0, 0.0, 0.0, 0.0, 0.0, 0.0, 0.0, 0.0, 0.0, 0.0, 0.0, 0.0, 0.0, 0.0, 0.0, 0.0, 0.0, 0.0, 0.0, 0.0, 0.0, 0.0, 0.0, 0.0]\n"
     ]
    }
   ],
   "source": [
    "smo=SVM_SMO(max_iter=5)\n",
    "smo.fit(X_train,y_train)"
   ]
  },
  {
   "cell_type": "code",
   "execution_count": 170,
   "metadata": {
    "ExecuteTime": {
     "end_time": "2019-06-12T08:03:17.484622Z",
     "start_time": "2019-06-12T08:03:17.454620Z"
    }
   },
   "outputs": [
    {
     "data": {
      "text/plain": [
       "[-1,\n",
       " 1,\n",
       " 1,\n",
       " -1,\n",
       " -1,\n",
       " -1,\n",
       " -1,\n",
       " -1,\n",
       " 1,\n",
       " -1,\n",
       " -1,\n",
       " 1,\n",
       " -1,\n",
       " 1,\n",
       " -1,\n",
       " -1,\n",
       " 1,\n",
       " -1,\n",
       " 1,\n",
       " 1,\n",
       " -1,\n",
       " -1,\n",
       " 1,\n",
       " 1,\n",
       " -1]"
      ]
     },
     "execution_count": 170,
     "metadata": {},
     "output_type": "execute_result"
    }
   ],
   "source": [
    "smo.predict(X_test)"
   ]
  },
  {
   "cell_type": "code",
   "execution_count": 171,
   "metadata": {
    "ExecuteTime": {
     "end_time": "2019-06-12T08:03:18.101657Z",
     "start_time": "2019-06-12T08:03:18.086656Z"
    }
   },
   "outputs": [],
   "source": [
    "def pred_score(y_pred,y_true):\n",
    "    count=0\n",
    "    for i in range(len(y_true)):\n",
    "        if y_pred[i]==y_true[i]:\n",
    "            count+=1\n",
    "    return count/len(y_pred)"
   ]
  },
  {
   "cell_type": "code",
   "execution_count": 172,
   "metadata": {
    "ExecuteTime": {
     "end_time": "2019-06-12T08:03:19.137716Z",
     "start_time": "2019-06-12T08:03:19.116715Z"
    }
   },
   "outputs": [
    {
     "data": {
      "text/plain": [
       "0.96"
      ]
     },
     "execution_count": 172,
     "metadata": {},
     "output_type": "execute_result"
    }
   ],
   "source": [
    "pred_score(smo.predict(X_test),y_test)"
   ]
  },
  {
   "cell_type": "code",
   "execution_count": 167,
   "metadata": {
    "ExecuteTime": {
     "end_time": "2019-06-12T07:53:56.081660Z",
     "start_time": "2019-06-12T07:53:56.061659Z"
    }
   },
   "outputs": [
    {
     "name": "stdout",
     "output_type": "stream",
     "text": [
      "[-1, 1, 1, -1, -1, -1, -1, -1, 1, -1, -1, 1, -1, 1, -1, -1, 1, -1, 1, 1, -1, -1, 1, 1, -1]\n"
     ]
    }
   ],
   "source": [
    "print(smo.predict(X_test))"
   ]
  },
  {
   "cell_type": "code",
   "execution_count": 168,
   "metadata": {
    "ExecuteTime": {
     "end_time": "2019-06-12T07:53:57.311731Z",
     "start_time": "2019-06-12T07:53:57.301730Z"
    }
   },
   "outputs": [
    {
     "name": "stdout",
     "output_type": "stream",
     "text": [
      "[-1.  1.  1. -1. -1. -1. -1. -1.  1.  1. -1.  1. -1.  1. -1. -1.  1. -1.\n",
      "  1.  1. -1. -1.  1.  1. -1.]\n"
     ]
    }
   ],
   "source": [
    "print(y_test)"
   ]
  },
  {
   "cell_type": "code",
   "execution_count": null,
   "metadata": {},
   "outputs": [],
   "source": []
  },
  {
   "cell_type": "code",
   "execution_count": null,
   "metadata": {},
   "outputs": [],
   "source": []
  }
 ],
 "metadata": {
  "kernelspec": {
   "display_name": "Python 3",
   "language": "python",
   "name": "python3"
  },
  "language_info": {
   "codemirror_mode": {
    "name": "ipython",
    "version": 3
   },
   "file_extension": ".py",
   "mimetype": "text/x-python",
   "name": "python",
   "nbconvert_exporter": "python",
   "pygments_lexer": "ipython3",
   "version": "3.6.3"
  }
 },
 "nbformat": 4,
 "nbformat_minor": 2
}
