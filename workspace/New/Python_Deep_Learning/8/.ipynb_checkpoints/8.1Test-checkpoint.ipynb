{
 "cells": [
  {
   "cell_type": "code",
   "execution_count": 1,
   "metadata": {
    "ExecuteTime": {
     "end_time": "2019-09-02T06:15:01.478814Z",
     "start_time": "2019-09-02T06:14:41.758488Z"
    }
   },
   "outputs": [
    {
     "name": "stderr",
     "output_type": "stream",
     "text": [
      "d:\\programdata\\anaconda3\\lib\\site-packages\\h5py\\__init__.py:34: FutureWarning: Conversion of the second argument of issubdtype from `float` to `np.floating` is deprecated. In future, it will be treated as `np.float64 == np.dtype(float).type`.\n",
      "  from ._conv import register_converters as _register_converters\n",
      "Using TensorFlow backend.\n"
     ]
    }
   ],
   "source": [
    "from keras import models, layers\n",
    "import numpy as np\n",
    "import keras"
   ]
  },
  {
   "cell_type": "code",
   "execution_count": 7,
   "metadata": {
    "ExecuteTime": {
     "end_time": "2019-09-02T06:16:53.382027Z",
     "start_time": "2019-09-02T06:16:53.350827Z"
    }
   },
   "outputs": [],
   "source": [
    "def reweight_distribution(original_distribution, temprature=0.5):\n",
    "    distribution = np.log(original_distribution) / temprature\n",
    "    distribution = np.exp(distribution)\n",
    "    return distribution / np.sum(distribution)"
   ]
  },
  {
   "cell_type": "code",
   "execution_count": 25,
   "metadata": {
    "ExecuteTime": {
     "end_time": "2019-09-02T06:25:46.966335Z",
     "start_time": "2019-09-02T06:25:46.953335Z"
    }
   },
   "outputs": [],
   "source": [
    "def reweight_distribution2(original_distribution, temperature=0.5):\n",
    "    distribution = np.log(original_distribution) / temperature\n",
    "    distribution = np.exp(distribution)\n",
    "    return distribution / np.sum(distribution)"
   ]
  },
  {
   "cell_type": "code",
   "execution_count": 8,
   "metadata": {
    "ExecuteTime": {
     "end_time": "2019-09-02T06:16:54.098055Z",
     "start_time": "2019-09-02T06:16:54.066855Z"
    }
   },
   "outputs": [
    {
     "data": {
      "text/plain": [
       "-1.6094379124341003"
      ]
     },
     "execution_count": 8,
     "metadata": {},
     "output_type": "execute_result"
    }
   ],
   "source": [
    "np.log(0.2)"
   ]
  },
  {
   "cell_type": "code",
   "execution_count": 9,
   "metadata": {
    "ExecuteTime": {
     "end_time": "2019-09-02T06:16:54.582083Z",
     "start_time": "2019-09-02T06:16:54.570082Z"
    }
   },
   "outputs": [
    {
     "data": {
      "text/plain": [
       "0.049787068367863944"
      ]
     },
     "execution_count": 9,
     "metadata": {},
     "output_type": "execute_result"
    }
   ],
   "source": [
    "np.exp(-3)"
   ]
  },
  {
   "cell_type": "code",
   "execution_count": 26,
   "metadata": {
    "ExecuteTime": {
     "end_time": "2019-09-02T06:25:52.813670Z",
     "start_time": "2019-09-02T06:25:52.802669Z"
    }
   },
   "outputs": [
    {
     "data": {
      "text/plain": [
       "array([1.24688279e-04, 3.02992519e-02, 9.69576060e-01])"
      ]
     },
     "execution_count": 26,
     "metadata": {},
     "output_type": "execute_result"
    }
   ],
   "source": [
    "reweight_distribution2([0.1,0.3,0.6],0.2)"
   ]
  },
  {
   "cell_type": "code",
   "execution_count": 27,
   "metadata": {
    "ExecuteTime": {
     "end_time": "2019-09-02T06:26:05.414391Z",
     "start_time": "2019-09-02T06:26:05.401390Z"
    }
   },
   "outputs": [
    {
     "data": {
      "text/plain": [
       "array([0.00954471, 0.14878729, 0.841668  ])"
      ]
     },
     "execution_count": 27,
     "metadata": {},
     "output_type": "execute_result"
    }
   ],
   "source": [
    "reweight_distribution2([0.1,0.3,0.6],0.4)"
   ]
  },
  {
   "cell_type": "code",
   "execution_count": 28,
   "metadata": {
    "ExecuteTime": {
     "end_time": "2019-09-02T06:26:20.997282Z",
     "start_time": "2019-09-02T06:26:20.985281Z"
    }
   },
   "outputs": [
    {
     "data": {
      "text/plain": [
       "array([0.05337501, 0.25641283, 0.69021216])"
      ]
     },
     "execution_count": 28,
     "metadata": {},
     "output_type": "execute_result"
    }
   ],
   "source": [
    "reweight_distribution([0.1,0.3,0.6],0.7)"
   ]
  },
  {
   "cell_type": "code",
   "execution_count": 29,
   "metadata": {
    "ExecuteTime": {
     "end_time": "2019-09-02T07:19:10.153547Z",
     "start_time": "2019-09-02T07:19:10.093544Z"
    }
   },
   "outputs": [
    {
     "name": "stdout",
     "output_type": "stream",
     "text": [
      "Corpus length: 600893\n"
     ]
    }
   ],
   "source": [
    "path = keras.utils.get_file(\n",
    "    'nietzsche.txt',\n",
    "    origin='https://s3.amazonaws.com/text-datasets/nietzsche.txt')\n",
    "text=open(path).read().lower()\n",
    "print('Corpus length:',len(text))"
   ]
  },
  {
   "cell_type": "code",
   "execution_count": 30,
   "metadata": {
    "ExecuteTime": {
     "end_time": "2019-09-02T07:19:12.163662Z",
     "start_time": "2019-09-02T07:19:12.154662Z"
    }
   },
   "outputs": [],
   "source": [
    "maxlen=60\n",
    "step=3\n",
    "sentences=[]\n",
    "next_chars=[]"
   ]
  },
  {
   "cell_type": "code",
   "execution_count": 32,
   "metadata": {
    "ExecuteTime": {
     "end_time": "2019-09-02T07:22:21.579496Z",
     "start_time": "2019-09-02T07:22:21.452489Z"
    }
   },
   "outputs": [],
   "source": [
    "for i in range(0,len(text)-maxlen,step):\n",
    "    sentences.append(text[i:i+maxlen])\n",
    "    next_chars.append(text[i+maxlen])"
   ]
  },
  {
   "cell_type": "code",
   "execution_count": 33,
   "metadata": {
    "ExecuteTime": {
     "end_time": "2019-09-02T07:22:45.140844Z",
     "start_time": "2019-09-02T07:22:45.132843Z"
    }
   },
   "outputs": [
    {
     "name": "stdout",
     "output_type": "stream",
     "text": [
      "Num of sequences: 200278\n"
     ]
    }
   ],
   "source": [
    "print('Num of sequences:',len(sentences))"
   ]
  },
  {
   "cell_type": "code",
   "execution_count": 35,
   "metadata": {
    "ExecuteTime": {
     "end_time": "2019-09-02T07:28:35.150863Z",
     "start_time": "2019-09-02T07:28:35.117861Z"
    }
   },
   "outputs": [
    {
     "name": "stdout",
     "output_type": "stream",
     "text": [
      "unique characters: 58\n"
     ]
    }
   ],
   "source": [
    "chars=sorted(list(set(text)))\n",
    "print('unique characters:',len(chars))\n",
    "char_indices=dict((char,chars.index(char)) for char in chars)"
   ]
  },
  {
   "cell_type": "code",
   "execution_count": null,
   "metadata": {},
   "outputs": [],
   "source": []
  }
 ],
 "metadata": {
  "kernelspec": {
   "display_name": "Python 3",
   "language": "python",
   "name": "python3"
  },
  "language_info": {
   "codemirror_mode": {
    "name": "ipython",
    "version": 3
   },
   "file_extension": ".py",
   "mimetype": "text/x-python",
   "name": "python",
   "nbconvert_exporter": "python",
   "pygments_lexer": "ipython3",
   "version": "3.6.3"
  }
 },
 "nbformat": 4,
 "nbformat_minor": 2
}
