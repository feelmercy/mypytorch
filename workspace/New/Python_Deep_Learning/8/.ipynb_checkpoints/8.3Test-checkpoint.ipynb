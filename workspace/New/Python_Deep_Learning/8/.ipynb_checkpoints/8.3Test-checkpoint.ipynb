{
 "cells": [
  {
   "cell_type": "code",
   "execution_count": 1,
   "metadata": {
    "ExecuteTime": {
     "end_time": "2019-09-10T09:47:39.135033Z",
     "start_time": "2019-09-10T09:47:39.119433Z"
    }
   },
   "outputs": [],
   "source": [
    "from keras import models,layers\n",
    "from keras.preprocessing.image import load_img,img_to_array"
   ]
  },
  {
   "cell_type": "code",
   "execution_count": 2,
   "metadata": {
    "ExecuteTime": {
     "end_time": "2019-09-10T10:00:37.235932Z",
     "start_time": "2019-09-10T10:00:37.220332Z"
    }
   },
   "outputs": [],
   "source": [
    "target_image_path='F:\\\\study\\\\ml\\\\DataSet\\\\StyleTransform\\\\portrait.jpg'\n",
    "style_reference_image_path='F:\\\\study\\\\ml\\\\DataSet\\\\StyleTransform\\\\transfer_style_reference.jpg'"
   ]
  },
  {
   "cell_type": "code",
   "execution_count": null,
   "metadata": {},
   "outputs": [],
   "source": []
  }
 ],
 "metadata": {
  "kernelspec": {
   "display_name": "Python 3",
   "language": "python",
   "name": "python3"
  },
  "language_info": {
   "codemirror_mode": {
    "name": "ipython",
    "version": 3
   },
   "file_extension": ".py",
   "mimetype": "text/x-python",
   "name": "python",
   "nbconvert_exporter": "python",
   "pygments_lexer": "ipython3",
   "version": "3.6.3"
  }
 },
 "nbformat": 4,
 "nbformat_minor": 2
}
