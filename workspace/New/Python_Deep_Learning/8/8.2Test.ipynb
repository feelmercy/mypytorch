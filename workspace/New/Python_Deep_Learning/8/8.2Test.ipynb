{
 "cells": [
  {
   "cell_type": "code",
   "execution_count": null,
   "metadata": {
    "ExecuteTime": {
     "end_time": "2019-09-06T01:38:12.127797Z",
     "start_time": "2019-09-06T01:38:10.434980Z"
    }
   },
   "outputs": [],
   "source": [
    "from keras import models, layers\n",
    "from keras.applications import inception_v3\n",
    "from keras import backend as k"
   ]
  },
  {
   "cell_type": "code",
   "execution_count": 9,
   "metadata": {
    "ExecuteTime": {
     "end_time": "2019-09-06T01:43:21.917793Z",
     "start_time": "2019-09-06T01:43:13.015684Z"
    }
   },
   "outputs": [],
   "source": [
    "k.set_learning_phase(0)\n",
    "model = inception_v3.InceptionV3(weights='imagenet', include_top=False)"
   ]
  },
  {
   "cell_type": "code",
   "execution_count": 10,
   "metadata": {
    "ExecuteTime": {
     "end_time": "2019-09-06T01:43:23.009221Z",
     "start_time": "2019-09-06T01:43:22.984621Z"
    }
   },
   "outputs": [],
   "source": [
    "layer_contributions = {\n",
    "    'mixed2': 0.2,\n",
    "    'mixed3': 3.,\n",
    "    'mixed4': 2.,\n",
    "    'mixed5': 1.5,\n",
    "}"
   ]
  },
  {
   "cell_type": "code",
   "execution_count": 11,
   "metadata": {
    "ExecuteTime": {
     "end_time": "2019-09-06T01:43:24.315253Z",
     "start_time": "2019-09-06T01:43:24.266651Z"
    }
   },
   "outputs": [
    {
     "name": "stdout",
     "output_type": "stream",
     "text": [
      "WARNING:tensorflow:Variable += will be deprecated. Use variable.assign_add if you want assignment to the variable value or 'x = x + y' if you want a new python Tensor object.\n"
     ]
    }
   ],
   "source": [
    "layer_dict = dict([(layer.name, layer) for layer in model.layers])\n",
    "loss = k.variable(0.)\n",
    "for layer_name in layer_contributions:\n",
    "    coeff = layer_contributions[layer_name]\n",
    "    activation = layer_dict[layer_name].output\n",
    "\n",
    "    scaling = k.prod(k.cast(k.shape(activation), 'float32'))\n",
    "    loss += coeff * k.sum(k.square(activation[:, 2:-2, 2:-2, :])) / scaling"
   ]
  },
  {
   "cell_type": "code",
   "execution_count": 26,
   "metadata": {
    "ExecuteTime": {
     "end_time": "2019-09-06T02:43:32.143801Z",
     "start_time": "2019-09-06T02:43:32.122200Z"
    }
   },
   "outputs": [
    {
     "data": {
      "text/plain": [
       "<tf.Tensor 'strided_slice_5:0' shape=(?, ?, ?, 768) dtype=float32>"
      ]
     },
     "execution_count": 26,
     "metadata": {},
     "output_type": "execute_result"
    }
   ],
   "source": [
    "activation[:,2:-2,2:-2,:]"
   ]
  },
  {
   "cell_type": "code",
   "execution_count": 25,
   "metadata": {
    "ExecuteTime": {
     "end_time": "2019-09-06T02:41:43.384175Z",
     "start_time": "2019-09-06T02:41:43.368575Z"
    }
   },
   "outputs": [
    {
     "data": {
      "text/plain": [
       "<tf.Tensor 'mixed5/concat:0' shape=(?, ?, ?, 768) dtype=float32>"
      ]
     },
     "execution_count": 25,
     "metadata": {},
     "output_type": "execute_result"
    }
   ],
   "source": [
    "activation"
   ]
  },
  {
   "cell_type": "code",
   "execution_count": 23,
   "metadata": {
    "ExecuteTime": {
     "end_time": "2019-09-06T02:38:47.487953Z",
     "start_time": "2019-09-06T02:38:47.472353Z"
    }
   },
   "outputs": [
    {
     "data": {
      "text/plain": [
       "<tf.Tensor 'add_3:0' shape=() dtype=float32>"
      ]
     },
     "execution_count": 23,
     "metadata": {},
     "output_type": "execute_result"
    }
   ],
   "source": [
    "loss"
   ]
  },
  {
   "cell_type": "code",
   "execution_count": 24,
   "metadata": {
    "ExecuteTime": {
     "end_time": "2019-09-06T02:38:55.903994Z",
     "start_time": "2019-09-06T02:38:55.888394Z"
    }
   },
   "outputs": [
    {
     "data": {
      "text/plain": [
       "<tf.Tensor 'Prod_3:0' shape=() dtype=float32>"
      ]
     },
     "execution_count": 24,
     "metadata": {},
     "output_type": "execute_result"
    }
   ],
   "source": [
    "scaling"
   ]
  },
  {
   "cell_type": "code",
   "execution_count": 13,
   "metadata": {
    "ExecuteTime": {
     "end_time": "2019-09-06T01:43:47.250242Z",
     "start_time": "2019-09-06T01:43:47.230642Z"
    }
   },
   "outputs": [],
   "source": [
    "v_1 = k.constant([1, 2, 3, 4], dtype='int32')\n",
    "v_2 = k.constant([2, 1, 5, 3], dtype='int32')\n",
    "v_3 = k.constant([[1, 2, 3], [4, 5, 6]], dtype='int32')"
   ]
  },
  {
   "cell_type": "code",
   "execution_count": 14,
   "metadata": {
    "ExecuteTime": {
     "end_time": "2019-09-06T01:43:50.148674Z",
     "start_time": "2019-09-06T01:43:50.130074Z"
    }
   },
   "outputs": [
    {
     "data": {
      "text/plain": [
       "<tf.Tensor 'Prod_4:0' shape=(2,) dtype=int32>"
      ]
     },
     "execution_count": 14,
     "metadata": {},
     "output_type": "execute_result"
    }
   ],
   "source": [
    "k.prod(v_3, axis=1)"
   ]
  },
  {
   "cell_type": "code",
   "execution_count": 15,
   "metadata": {
    "ExecuteTime": {
     "end_time": "2019-09-06T01:43:56.529314Z",
     "start_time": "2019-09-06T01:43:56.498114Z"
    }
   },
   "outputs": [],
   "source": [
    "import numpy as np"
   ]
  },
  {
   "cell_type": "code",
   "execution_count": null,
   "metadata": {},
   "outputs": [],
   "source": [
    "[\n",
    "    [\n",
    "        [2, 4, 6], [2, 4, 6]\n",
    "    ], [\n",
    "        [1, 1, 1], [2, 2, 2]\n",
    "    ]\n",
    "]"
   ]
  },
  {
   "cell_type": "code",
   "execution_count": 16,
   "metadata": {
    "ExecuteTime": {
     "end_time": "2019-09-06T01:44:03.646251Z",
     "start_time": "2019-09-06T01:44:03.620650Z"
    }
   },
   "outputs": [
    {
     "name": "stdout",
     "output_type": "stream",
     "text": [
      "0 :\n",
      " [[ 2  4  6]\n",
      " [ 4  8 12]]\n",
      "1 :\n",
      " [[ 4 16 36]\n",
      " [ 2  2  2]]\n",
      "2 :\n",
      " [[48 48]\n",
      " [ 1  8]]\n"
     ]
    }
   ],
   "source": [
    "x = np.array([[[2, 4, 6], [2, 4, 6]], [[1, 1, 1], [2, 2, 2]]])\n",
    "print('0 :\\n', np.prod(x, axis=0))\n",
    "print('1 :\\n', np.prod(x, axis=1))\n",
    "print('2 :\\n', np.prod(x, axis=2))"
   ]
  },
  {
   "cell_type": "code",
   "execution_count": 17,
   "metadata": {
    "ExecuteTime": {
     "end_time": "2019-09-06T01:44:34.547573Z",
     "start_time": "2019-09-06T01:44:34.531973Z"
    }
   },
   "outputs": [
    {
     "data": {
      "text/plain": [
       "127"
      ]
     },
     "execution_count": 17,
     "metadata": {},
     "output_type": "execute_result"
    }
   ],
   "source": [
    "np.sum(np.square(x))"
   ]
  },
  {
   "cell_type": "code",
   "execution_count": 18,
   "metadata": {
    "ExecuteTime": {
     "end_time": "2019-09-06T01:44:36.472204Z",
     "start_time": "2019-09-06T01:44:36.441004Z"
    }
   },
   "outputs": [
    {
     "data": {
      "text/plain": [
       "<tf.Tensor 'mixed1/concat:0' shape=(?, ?, ?, 288) dtype=float32>"
      ]
     },
     "execution_count": 18,
     "metadata": {},
     "output_type": "execute_result"
    }
   ],
   "source": [
    "layer_dict['mixed1'].output"
   ]
  },
  {
   "cell_type": "code",
   "execution_count": 19,
   "metadata": {
    "ExecuteTime": {
     "end_time": "2019-09-06T01:44:38.939237Z",
     "start_time": "2019-09-06T01:44:38.915637Z"
    }
   },
   "outputs": [
    {
     "data": {
      "text/plain": [
       "<tf.Tensor 'strided_slice_4:0' shape=(?, ?, ?, 288) dtype=float32>"
      ]
     },
     "execution_count": 19,
     "metadata": {},
     "output_type": "execute_result"
    }
   ],
   "source": [
    "layer_dict['mixed1'].output[:, 2:-2, 2:-2, :]"
   ]
  },
  {
   "cell_type": "code",
   "execution_count": 20,
   "metadata": {
    "ExecuteTime": {
     "end_time": "2019-09-06T01:44:40.102666Z",
     "start_time": "2019-09-06T01:44:40.086066Z"
    }
   },
   "outputs": [
    {
     "data": {
      "text/plain": [
       "<tf.Tensor 'mixed2/concat:0' shape=(?, ?, ?, 288) dtype=float32>"
      ]
     },
     "execution_count": 20,
     "metadata": {},
     "output_type": "execute_result"
    }
   ],
   "source": [
    "layer_dict['mixed2'].output"
   ]
  },
  {
   "cell_type": "code",
   "execution_count": 21,
   "metadata": {
    "ExecuteTime": {
     "end_time": "2019-09-06T01:44:41.170895Z",
     "start_time": "2019-09-06T01:44:41.145294Z"
    }
   },
   "outputs": [
    {
     "data": {
      "text/plain": [
       "<tf.Tensor 'Shape_4:0' shape=(4,) dtype=int32>"
      ]
     },
     "execution_count": 21,
     "metadata": {},
     "output_type": "execute_result"
    }
   ],
   "source": [
    "k.shape(layer_dict['mixed2'].output)"
   ]
  },
  {
   "cell_type": "code",
   "execution_count": 22,
   "metadata": {
    "ExecuteTime": {
     "end_time": "2019-09-06T01:44:43.336527Z",
     "start_time": "2019-09-06T01:44:43.295327Z"
    },
    "scrolled": true
   },
   "outputs": [
    {
     "data": {
      "text/plain": [
       "{'activation_1': <keras.layers.core.Activation at 0x1a6e9a90>,\n",
       " 'activation_10': <keras.layers.core.Activation at 0x1c5a64e0>,\n",
       " 'activation_11': <keras.layers.core.Activation at 0x1c68e4e0>,\n",
       " 'activation_12': <keras.layers.core.Activation at 0x1c7d8f28>,\n",
       " 'activation_13': <keras.layers.core.Activation at 0x1ccbcd68>,\n",
       " 'activation_14': <keras.layers.core.Activation at 0x1d1bb7b8>,\n",
       " 'activation_15': <keras.layers.core.Activation at 0x1d2a4780>,\n",
       " 'activation_16': <keras.layers.core.Activation at 0x1d38c780>,\n",
       " 'activation_17': <keras.layers.core.Activation at 0x1d476748>,\n",
       " 'activation_18': <keras.layers.core.Activation at 0x1d563780>,\n",
       " 'activation_19': <keras.layers.core.Activation at 0x1d6b19b0>,\n",
       " 'activation_2': <keras.layers.core.Activation at 0x6d8cda0>,\n",
       " 'activation_20': <keras.layers.core.Activation at 0x1d792cc0>,\n",
       " 'activation_21': <keras.layers.core.Activation at 0x1d81ecf8>,\n",
       " 'activation_22': <keras.layers.core.Activation at 0x1d907cc0>,\n",
       " 'activation_23': <keras.layers.core.Activation at 0x1d9eecc0>,\n",
       " 'activation_24': <keras.layers.core.Activation at 0x1dad9cc0>,\n",
       " 'activation_25': <keras.layers.core.Activation at 0x1dbc3cc0>,\n",
       " 'activation_26': <keras.layers.core.Activation at 0x1dd0bf28>,\n",
       " 'activation_27': <keras.layers.core.Activation at 0x1ddf0c18>,\n",
       " 'activation_28': <keras.layers.core.Activation at 0x1deac4e0>,\n",
       " 'activation_29': <keras.layers.core.Activation at 0x1df984a8>,\n",
       " 'activation_3': <keras.layers.core.Activation at 0x6e74c88>,\n",
       " 'activation_30': <keras.layers.core.Activation at 0x1e052ac8>,\n",
       " 'activation_31': <keras.layers.core.Activation at 0x1e18aa58>,\n",
       " 'activation_32': <keras.layers.core.Activation at 0x1e2437b8>,\n",
       " 'activation_33': <keras.layers.core.Activation at 0x1e32d7b8>,\n",
       " 'activation_34': <keras.layers.core.Activation at 0x1e416780>,\n",
       " 'activation_35': <keras.layers.core.Activation at 0x1e4fe780>,\n",
       " 'activation_36': <keras.layers.core.Activation at 0x1e5e8780>,\n",
       " 'activation_37': <keras.layers.core.Activation at 0x1e6d3780>,\n",
       " 'activation_38': <keras.layers.core.Activation at 0x1e7c0780>,\n",
       " 'activation_39': <keras.layers.core.Activation at 0x1e8a9780>,\n",
       " 'activation_4': <keras.layers.core.Activation at 0x1b870f98>,\n",
       " 'activation_40': <keras.layers.core.Activation at 0x1e9f69b0>,\n",
       " 'activation_41': <keras.layers.core.Activation at 0x1ead6cc0>,\n",
       " 'activation_42': <keras.layers.core.Activation at 0x1eb67cf8>,\n",
       " 'activation_43': <keras.layers.core.Activation at 0x1ec53cc0>,\n",
       " 'activation_44': <keras.layers.core.Activation at 0x1ed3fcc0>,\n",
       " 'activation_45': <keras.layers.core.Activation at 0x1ee2acc0>,\n",
       " 'activation_46': <keras.layers.core.Activation at 0x1fee4cc0>,\n",
       " 'activation_47': <keras.layers.core.Activation at 0x1ffcbcc0>,\n",
       " 'activation_48': <keras.layers.core.Activation at 0x200b9cc0>,\n",
       " 'activation_49': <keras.layers.core.Activation at 0x201a1be0>,\n",
       " 'activation_5': <keras.layers.core.Activation at 0x1b8fad68>,\n",
       " 'activation_50': <keras.layers.core.Activation at 0x202e0da0>,\n",
       " 'activation_51': <keras.layers.core.Activation at 0x203c76a0>,\n",
       " 'activation_52': <keras.layers.core.Activation at 0x20457f98>,\n",
       " 'activation_53': <keras.layers.core.Activation at 0x20543f98>,\n",
       " 'activation_54': <keras.layers.core.Activation at 0x2062dfd0>,\n",
       " 'activation_55': <keras.layers.core.Activation at 0x20717f98>,\n",
       " 'activation_56': <keras.layers.core.Activation at 0x20803f98>,\n",
       " 'activation_57': <keras.layers.core.Activation at 0x208eff98>,\n",
       " 'activation_58': <keras.layers.core.Activation at 0x209d6f98>,\n",
       " 'activation_59': <keras.layers.core.Activation at 0x20a687f0>,\n",
       " 'activation_6': <keras.layers.core.Activation at 0x1be2e828>,\n",
       " 'activation_60': <keras.layers.core.Activation at 0x20be8e80>,\n",
       " 'activation_61': <keras.layers.core.Activation at 0x20ccdf28>,\n",
       " 'activation_62': <keras.layers.core.Activation at 0x20d8d748>,\n",
       " 'activation_63': <keras.layers.core.Activation at 0x20e76710>,\n",
       " 'activation_64': <keras.layers.core.Activation at 0x20f60710>,\n",
       " 'activation_65': <keras.layers.core.Activation at 0x2104b710>,\n",
       " 'activation_66': <keras.layers.core.Activation at 0x21135710>,\n",
       " 'activation_67': <keras.layers.core.Activation at 0x21220710>,\n",
       " 'activation_68': <keras.layers.core.Activation at 0x21309710>,\n",
       " 'activation_69': <keras.layers.core.Activation at 0x213f6710>,\n",
       " 'activation_7': <keras.layers.core.Activation at 0x1bef8518>,\n",
       " 'activation_70': <keras.layers.core.Activation at 0x21545940>,\n",
       " 'activation_71': <keras.layers.core.Activation at 0x21626c50>,\n",
       " 'activation_72': <keras.layers.core.Activation at 0x216b2c88>,\n",
       " 'activation_73': <keras.layers.core.Activation at 0x2179dc50>,\n",
       " 'activation_74': <keras.layers.core.Activation at 0x2188bc50>,\n",
       " 'activation_75': <keras.layers.core.Activation at 0x21974c50>,\n",
       " 'activation_76': <keras.layers.core.Activation at 0x21a5ec50>,\n",
       " 'activation_77': <keras.layers.core.Activation at 0x21ba8b38>,\n",
       " 'activation_78': <keras.layers.core.Activation at 0x21c33fd0>,\n",
       " 'activation_79': <keras.layers.core.Activation at 0x21d20fd0>,\n",
       " 'activation_8': <keras.layers.core.Activation at 0x1c1d2518>,\n",
       " 'activation_80': <keras.layers.core.Activation at 0x21e0cf98>,\n",
       " 'activation_81': <keras.layers.core.Activation at 0x21f41cc0>,\n",
       " 'activation_82': <keras.layers.core.Activation at 0x2200d4a8>,\n",
       " 'activation_83': <keras.layers.core.Activation at 0x22114fd0>,\n",
       " 'activation_84': <keras.layers.core.Activation at 0x22200fd0>,\n",
       " 'activation_85': <keras.layers.core.Activation at 0x22320940>,\n",
       " 'activation_86': <keras.layers.core.Activation at 0x22407c88>,\n",
       " 'activation_87': <keras.layers.core.Activation at 0x22491c88>,\n",
       " 'activation_88': <keras.layers.core.Activation at 0x2257ccc0>,\n",
       " 'activation_89': <keras.layers.core.Activation at 0x22666c88>,\n",
       " 'activation_9': <keras.layers.core.Activation at 0x1c2ba4e0>,\n",
       " 'activation_90': <keras.layers.core.Activation at 0x227b0f28>,\n",
       " 'activation_91': <keras.layers.core.Activation at 0x22840cf8>,\n",
       " 'activation_92': <keras.layers.core.Activation at 0x22928cc0>,\n",
       " 'activation_93': <keras.layers.core.Activation at 0x22a16cc0>,\n",
       " 'activation_94': <keras.layers.core.Activation at 0x22b5bc18>,\n",
       " 'average_pooling2d_1': <keras.layers.pooling.AveragePooling2D at 0x1c6addd8>,\n",
       " 'average_pooling2d_2': <keras.layers.pooling.AveragePooling2D at 0x1d5c60b8>,\n",
       " 'average_pooling2d_3': <keras.layers.pooling.AveragePooling2D at 0x1dc3ddd8>,\n",
       " 'average_pooling2d_4': <keras.layers.pooling.AveragePooling2D at 0x1e90e0b8>,\n",
       " 'average_pooling2d_5': <keras.layers.pooling.AveragePooling2D at 0x20213cf8>,\n",
       " 'average_pooling2d_6': <keras.layers.pooling.AveragePooling2D at 0x20b09c88>,\n",
       " 'average_pooling2d_7': <keras.layers.pooling.AveragePooling2D at 0x2145d048>,\n",
       " 'average_pooling2d_8': <keras.layers.pooling.AveragePooling2D at 0x22234438>,\n",
       " 'average_pooling2d_9': <keras.layers.pooling.AveragePooling2D at 0x22a70ef0>,\n",
       " 'batch_normalization_1': <keras.layers.normalization.BatchNormalization at 0x1a6e9668>,\n",
       " 'batch_normalization_10': <keras.layers.normalization.BatchNormalization at 0x1c55aa20>,\n",
       " 'batch_normalization_11': <keras.layers.normalization.BatchNormalization at 0x1c646a20>,\n",
       " 'batch_normalization_12': <keras.layers.normalization.BatchNormalization at 0x1c7d8dd8>,\n",
       " 'batch_normalization_13': <keras.layers.normalization.BatchNormalization at 0x1a6e99b0>,\n",
       " 'batch_normalization_14': <keras.layers.normalization.BatchNormalization at 0x1d17bb00>,\n",
       " 'batch_normalization_15': <keras.layers.normalization.BatchNormalization at 0x1d2d2f98>,\n",
       " 'batch_normalization_16': <keras.layers.normalization.BatchNormalization at 0x1d3b9f98>,\n",
       " 'batch_normalization_17': <keras.layers.normalization.BatchNormalization at 0x1d400898>,\n",
       " 'batch_normalization_18': <keras.layers.normalization.BatchNormalization at 0x1d590f98>,\n",
       " 'batch_normalization_19': <keras.layers.normalization.BatchNormalization at 0x1d6b1518>,\n",
       " 'batch_normalization_2': <keras.layers.normalization.BatchNormalization at 0x6d77080>,\n",
       " 'batch_normalization_20': <keras.layers.normalization.BatchNormalization at 0x1d6c3fd0>,\n",
       " 'batch_normalization_21': <keras.layers.normalization.BatchNormalization at 0x1d800048>,\n",
       " 'batch_normalization_22': <keras.layers.normalization.BatchNormalization at 0x1d8e92e8>,\n",
       " 'batch_normalization_23': <keras.layers.normalization.BatchNormalization at 0x1d9d32e8>,\n",
       " 'batch_normalization_24': <keras.layers.normalization.BatchNormalization at 0x1dabf2e8>,\n",
       " 'batch_normalization_25': <keras.layers.normalization.BatchNormalization at 0x1dba72e8>,\n",
       " 'batch_normalization_26': <keras.layers.normalization.BatchNormalization at 0x1dd0ba58>,\n",
       " 'batch_normalization_27': <keras.layers.normalization.BatchNormalization at 0x1dd3e5c0>,\n",
       " 'batch_normalization_28': <keras.layers.normalization.BatchNormalization at 0x1de63a20>,\n",
       " 'batch_normalization_29': <keras.layers.normalization.BatchNormalization at 0x1df4d9e8>,\n",
       " 'batch_normalization_3': <keras.layers.normalization.BatchNormalization at 0x6e5b5f8>,\n",
       " 'batch_normalization_30': <keras.layers.normalization.BatchNormalization at 0x1e0359e8>,\n",
       " 'batch_normalization_31': <keras.layers.normalization.BatchNormalization at 0x1e18ada0>,\n",
       " 'batch_normalization_32': <keras.layers.normalization.BatchNormalization at 0x1e204b00>,\n",
       " 'batch_normalization_33': <keras.layers.normalization.BatchNormalization at 0x1e2e9b00>,\n",
       " 'batch_normalization_34': <keras.layers.normalization.BatchNormalization at 0x1e444f98>,\n",
       " 'batch_normalization_35': <keras.layers.normalization.BatchNormalization at 0x1e52af98>,\n",
       " 'batch_normalization_36': <keras.layers.normalization.BatchNormalization at 0x1e615f98>,\n",
       " 'batch_normalization_37': <keras.layers.normalization.BatchNormalization at 0x1e6fff98>,\n",
       " 'batch_normalization_38': <keras.layers.normalization.BatchNormalization at 0x1e7ecf98>,\n",
       " 'batch_normalization_39': <keras.layers.normalization.BatchNormalization at 0x1e8d4f98>,\n",
       " 'batch_normalization_4': <keras.layers.normalization.BatchNormalization at 0x1b870b00>,\n",
       " 'batch_normalization_40': <keras.layers.normalization.BatchNormalization at 0x1e9f6518>,\n",
       " 'batch_normalization_41': <keras.layers.normalization.BatchNormalization at 0x1ea0afd0>,\n",
       " 'batch_normalization_42': <keras.layers.normalization.BatchNormalization at 0x1eb49048>,\n",
       " 'batch_normalization_43': <keras.layers.normalization.BatchNormalization at 0x1ec332e8>,\n",
       " 'batch_normalization_44': <keras.layers.normalization.BatchNormalization at 0x1ed212e8>,\n",
       " 'batch_normalization_45': <keras.layers.normalization.BatchNormalization at 0x1ee0d2e8>,\n",
       " 'batch_normalization_46': <keras.layers.normalization.BatchNormalization at 0x1fec52e8>,\n",
       " 'batch_normalization_47': <keras.layers.normalization.BatchNormalization at 0x1ffb02e8>,\n",
       " 'batch_normalization_48': <keras.layers.normalization.BatchNormalization at 0x2009c2e8>,\n",
       " 'batch_normalization_49': <keras.layers.normalization.BatchNormalization at 0x20183668>,\n",
       " 'batch_normalization_5': <keras.layers.normalization.BatchNormalization at 0x1b8dd940>,\n",
       " 'batch_normalization_50': <keras.layers.normalization.BatchNormalization at 0x202e0978>,\n",
       " 'batch_normalization_51': <keras.layers.normalization.BatchNormalization at 0x203c7c88>,\n",
       " 'batch_normalization_52': <keras.layers.normalization.BatchNormalization at 0x20438908>,\n",
       " 'batch_normalization_53': <keras.layers.normalization.BatchNormalization at 0x20522940>,\n",
       " 'batch_normalization_54': <keras.layers.normalization.BatchNormalization at 0x2060c978>,\n",
       " 'batch_normalization_55': <keras.layers.normalization.BatchNormalization at 0x206f8940>,\n",
       " 'batch_normalization_56': <keras.layers.normalization.BatchNormalization at 0x207e3940>,\n",
       " 'batch_normalization_57': <keras.layers.normalization.BatchNormalization at 0x208cc940>,\n",
       " 'batch_normalization_58': <keras.layers.normalization.BatchNormalization at 0x209b6940>,\n",
       " 'batch_normalization_59': <keras.layers.normalization.BatchNormalization at 0x20894c18>,\n",
       " 'batch_normalization_6': <keras.layers.normalization.BatchNormalization at 0x1be2ed68>,\n",
       " 'batch_normalization_60': <keras.layers.normalization.BatchNormalization at 0x20be89b0>,\n",
       " 'batch_normalization_61': <keras.layers.normalization.BatchNormalization at 0x20ccdc50>,\n",
       " 'batch_normalization_62': <keras.layers.normalization.BatchNormalization at 0x20dbada0>,\n",
       " 'batch_normalization_63': <keras.layers.normalization.BatchNormalization at 0x20ea4fd0>,\n",
       " 'batch_normalization_64': <keras.layers.normalization.BatchNormalization at 0x20f8efd0>,\n",
       " 'batch_normalization_65': <keras.layers.normalization.BatchNormalization at 0x21079fd0>,\n",
       " 'batch_normalization_66': <keras.layers.normalization.BatchNormalization at 0x21161fd0>,\n",
       " 'batch_normalization_67': <keras.layers.normalization.BatchNormalization at 0x2124dfd0>,\n",
       " 'batch_normalization_68': <keras.layers.normalization.BatchNormalization at 0x2133bfd0>,\n",
       " 'batch_normalization_69': <keras.layers.normalization.BatchNormalization at 0x21426fd0>,\n",
       " 'batch_normalization_7': <keras.layers.normalization.BatchNormalization at 0x1beada58>,\n",
       " 'batch_normalization_70': <keras.layers.normalization.BatchNormalization at 0x215454a8>,\n",
       " 'batch_normalization_71': <keras.layers.normalization.BatchNormalization at 0x21558a90>,\n",
       " 'batch_normalization_72': <keras.layers.normalization.BatchNormalization at 0x216985f8>,\n",
       " 'batch_normalization_73': <keras.layers.normalization.BatchNormalization at 0x217855c0>,\n",
       " 'batch_normalization_74': <keras.layers.normalization.BatchNormalization at 0x2186e5c0>,\n",
       " 'batch_normalization_75': <keras.layers.normalization.BatchNormalization at 0x219595c0>,\n",
       " 'batch_normalization_76': <keras.layers.normalization.BatchNormalization at 0x21a445c0>,\n",
       " 'batch_normalization_77': <keras.layers.normalization.BatchNormalization at 0x21ba87f0>,\n",
       " 'batch_normalization_78': <keras.layers.normalization.BatchNormalization at 0x21c149b0>,\n",
       " 'batch_normalization_79': <keras.layers.normalization.BatchNormalization at 0x21d029b0>,\n",
       " 'batch_normalization_8': <keras.layers.normalization.BatchNormalization at 0x1c188a58>,\n",
       " 'batch_normalization_80': <keras.layers.normalization.BatchNormalization at 0x21dec4e0>,\n",
       " 'batch_normalization_81': <keras.layers.normalization.BatchNormalization at 0x21ef7fd0>,\n",
       " 'batch_normalization_82': <keras.layers.normalization.BatchNormalization at 0x22028cf8>,\n",
       " 'batch_normalization_83': <keras.layers.normalization.BatchNormalization at 0x220aa240>,\n",
       " 'batch_normalization_84': <keras.layers.normalization.BatchNormalization at 0x22196240>,\n",
       " 'batch_normalization_85': <keras.layers.normalization.BatchNormalization at 0x222edc88>,\n",
       " 'batch_normalization_86': <keras.layers.normalization.BatchNormalization at 0x224077f0>,\n",
       " 'batch_normalization_87': <keras.layers.normalization.BatchNormalization at 0x224785f8>,\n",
       " 'batch_normalization_88': <keras.layers.normalization.BatchNormalization at 0x2255d2e8>,\n",
       " 'batch_normalization_89': <keras.layers.normalization.BatchNormalization at 0x2264d5f8>,\n",
       " 'batch_normalization_9': <keras.layers.normalization.BatchNormalization at 0x1c271a20>,\n",
       " 'batch_normalization_90': <keras.layers.normalization.BatchNormalization at 0x22752c88>,\n",
       " 'batch_normalization_91': <keras.layers.normalization.BatchNormalization at 0x2281f908>,\n",
       " 'batch_normalization_92': <keras.layers.normalization.BatchNormalization at 0x2290aa58>,\n",
       " 'batch_normalization_93': <keras.layers.normalization.BatchNormalization at 0x229f3a58>,\n",
       " 'batch_normalization_94': <keras.layers.normalization.BatchNormalization at 0x22b5b7b8>,\n",
       " 'concatenate_1': <keras.layers.merge.Concatenate at 0x22234668>,\n",
       " 'concatenate_2': <keras.layers.merge.Concatenate at 0x22a70780>,\n",
       " 'conv2d_1': <keras.layers.convolutional.Conv2D at 0x1a6e9b38>,\n",
       " 'conv2d_10': <keras.layers.convolutional.Conv2D at 0x1c4d7dd8>,\n",
       " 'conv2d_11': <keras.layers.convolutional.Conv2D at 0x1c5c5dd8>,\n",
       " 'conv2d_12': <keras.layers.convolutional.Conv2D at 0x1c6f1a90>,\n",
       " 'conv2d_13': <keras.layers.convolutional.Conv2D at 0x1c807400>,\n",
       " 'conv2d_14': <keras.layers.convolutional.Conv2D at 0x1ccef208>,\n",
       " 'conv2d_15': <keras.layers.convolutional.Conv2D at 0x1d2200f0>,\n",
       " 'conv2d_16': <keras.layers.convolutional.Conv2D at 0x1d3080b8>,\n",
       " 'conv2d_17': <keras.layers.convolutional.Conv2D at 0x1d3ef0b8>,\n",
       " 'conv2d_18': <keras.layers.convolutional.Conv2D at 0x1d4dc0b8>,\n",
       " 'conv2d_19': <keras.layers.convolutional.Conv2D at 0x1d634438>,\n",
       " 'conv2d_2': <keras.layers.convolutional.Conv2D at 0x1a6e9ac8>,\n",
       " 'conv2d_20': <keras.layers.convolutional.Conv2D at 0x1d6b1b70>,\n",
       " 'conv2d_21': <keras.layers.convolutional.Conv2D at 0x1d7926d8>,\n",
       " 'conv2d_22': <keras.layers.convolutional.Conv2D at 0x1d877550>,\n",
       " 'conv2d_23': <keras.layers.convolutional.Conv2D at 0x1d97fdd8>,\n",
       " 'conv2d_24': <keras.layers.convolutional.Conv2D at 0x1da6add8>,\n",
       " 'conv2d_25': <keras.layers.convolutional.Conv2D at 0x1db53dd8>,\n",
       " 'conv2d_26': <keras.layers.convolutional.Conv2D at 0x1dc1deb8>,\n",
       " 'conv2d_27': <keras.layers.convolutional.Conv2D at 0x1dd0bef0>,\n",
       " 'conv2d_28': <keras.layers.convolutional.Conv2D at 0x1ddf0a90>,\n",
       " 'conv2d_29': <keras.layers.convolutional.Conv2D at 0x1decddd8>,\n",
       " 'conv2d_3': <keras.layers.convolutional.Conv2D at 0x6def588>,\n",
       " 'conv2d_30': <keras.layers.convolutional.Conv2D at 0x1dfb8da0>,\n",
       " 'conv2d_31': <keras.layers.convolutional.Conv2D at 0x1e0e5320>,\n",
       " 'conv2d_32': <keras.layers.convolutional.Conv2D at 0x1e1b80f0>,\n",
       " 'conv2d_33': <keras.layers.convolutional.Conv2D at 0x1e2a50f0>,\n",
       " 'conv2d_34': <keras.layers.convolutional.Conv2D at 0x1e3900f0>,\n",
       " 'conv2d_35': <keras.layers.convolutional.Conv2D at 0x1e47a0b8>,\n",
       " 'conv2d_36': <keras.layers.convolutional.Conv2D at 0x1e5620b8>,\n",
       " 'conv2d_37': <keras.layers.convolutional.Conv2D at 0x1e64f0b8>,\n",
       " 'conv2d_38': <keras.layers.convolutional.Conv2D at 0x1e7390b8>,\n",
       " 'conv2d_39': <keras.layers.convolutional.Conv2D at 0x1e8250b8>,\n",
       " 'conv2d_4': <keras.layers.convolutional.Conv2D at 0x1b7b1e80>,\n",
       " 'conv2d_40': <keras.layers.convolutional.Conv2D at 0x1e97d438>,\n",
       " 'conv2d_41': <keras.layers.convolutional.Conv2D at 0x1e9f6b70>,\n",
       " 'conv2d_42': <keras.layers.convolutional.Conv2D at 0x1ead66d8>,\n",
       " 'conv2d_43': <keras.layers.convolutional.Conv2D at 0x1ebc0550>,\n",
       " 'conv2d_44': <keras.layers.convolutional.Conv2D at 0x1ecced68>,\n",
       " 'conv2d_45': <keras.layers.convolutional.Conv2D at 0x1edb7dd8>,\n",
       " 'conv2d_46': <keras.layers.convolutional.Conv2D at 0x1eea1dd8>,\n",
       " 'conv2d_47': <keras.layers.convolutional.Conv2D at 0x1ff5bdd8>,\n",
       " 'conv2d_48': <keras.layers.convolutional.Conv2D at 0x20049dd8>,\n",
       " 'conv2d_49': <keras.layers.convolutional.Conv2D at 0x2012fdd8>,\n",
       " 'conv2d_5': <keras.layers.convolutional.Conv2D at 0x1b8705c0>,\n",
       " 'conv2d_50': <keras.layers.convolutional.Conv2D at 0x201f8dd8>,\n",
       " 'conv2d_51': <keras.layers.convolutional.Conv2D at 0x202e0fd0>,\n",
       " 'conv2d_52': <keras.layers.convolutional.Conv2D at 0x203c76d8>,\n",
       " 'conv2d_53': <keras.layers.convolutional.Conv2D at 0x204a1cf8>,\n",
       " 'conv2d_54': <keras.layers.convolutional.Conv2D at 0x2058bcf8>,\n",
       " 'conv2d_55': <keras.layers.convolutional.Conv2D at 0x20677d30>,\n",
       " 'conv2d_56': <keras.layers.convolutional.Conv2D at 0x2075fcf8>,\n",
       " 'conv2d_57': <keras.layers.convolutional.Conv2D at 0x2084dcf8>,\n",
       " 'conv2d_58': <keras.layers.convolutional.Conv2D at 0x20936cf8>,\n",
       " 'conv2d_59': <keras.layers.convolutional.Conv2D at 0x20a20cf8>,\n",
       " 'conv2d_6': <keras.layers.convolutional.Conv2D at 0x1bb78860>,\n",
       " 'conv2d_60': <keras.layers.convolutional.Conv2D at 0x20b4c9b0>,\n",
       " 'conv2d_61': <keras.layers.convolutional.Conv2D at 0x20c12320>,\n",
       " 'conv2d_62': <keras.layers.convolutional.Conv2D at 0x20d01198>,\n",
       " 'conv2d_63': <keras.layers.convolutional.Conv2D at 0x20df0080>,\n",
       " 'conv2d_64': <keras.layers.convolutional.Conv2D at 0x20ed7048>,\n",
       " 'conv2d_65': <keras.layers.convolutional.Conv2D at 0x20fc5048>,\n",
       " 'conv2d_66': <keras.layers.convolutional.Conv2D at 0x210b0048>,\n",
       " 'conv2d_67': <keras.layers.convolutional.Conv2D at 0x2119a048>,\n",
       " 'conv2d_68': <keras.layers.convolutional.Conv2D at 0x21283048>,\n",
       " 'conv2d_69': <keras.layers.convolutional.Conv2D at 0x21370048>,\n",
       " 'conv2d_7': <keras.layers.convolutional.Conv2D at 0x1be2eb70>,\n",
       " 'conv2d_70': <keras.layers.convolutional.Conv2D at 0x214cb3c8>,\n",
       " 'conv2d_71': <keras.layers.convolutional.Conv2D at 0x21545b00>,\n",
       " 'conv2d_72': <keras.layers.convolutional.Conv2D at 0x21641da0>,\n",
       " 'conv2d_73': <keras.layers.convolutional.Conv2D at 0x2172cda0>,\n",
       " 'conv2d_74': <keras.layers.convolutional.Conv2D at 0x21817d68>,\n",
       " 'conv2d_75': <keras.layers.convolutional.Conv2D at 0x21903d68>,\n",
       " 'conv2d_76': <keras.layers.convolutional.Conv2D at 0x219eed68>,\n",
       " 'conv2d_77': <keras.layers.convolutional.Conv2D at 0x21aef6a0>,\n",
       " 'conv2d_78': <keras.layers.convolutional.Conv2D at 0x21ba8b00>,\n",
       " 'conv2d_79': <keras.layers.convolutional.Conv2D at 0x21c7fd68>,\n",
       " 'conv2d_8': <keras.layers.convolutional.Conv2D at 0x1bf18e10>,\n",
       " 'conv2d_80': <keras.layers.convolutional.Conv2D at 0x21d6ad68>,\n",
       " 'conv2d_81': <keras.layers.convolutional.Conv2D at 0x21e85198>,\n",
       " 'conv2d_82': <keras.layers.convolutional.Conv2D at 0x21f41a20>,\n",
       " 'conv2d_83': <keras.layers.convolutional.Conv2D at 0x2205e160>,\n",
       " 'conv2d_84': <keras.layers.convolutional.Conv2D at 0x22146668>,\n",
       " 'conv2d_85': <keras.layers.convolutional.Conv2D at 0x2224ac88>,\n",
       " 'conv2d_86': <keras.layers.convolutional.Conv2D at 0x22320b70>,\n",
       " 'conv2d_87': <keras.layers.convolutional.Conv2D at 0x22421dd8>,\n",
       " 'conv2d_88': <keras.layers.convolutional.Conv2D at 0x22509da0>,\n",
       " 'conv2d_89': <keras.layers.convolutional.Conv2D at 0x225f8dd8>,\n",
       " 'conv2d_9': <keras.layers.convolutional.Conv2D at 0x1c1f2e10>,\n",
       " 'conv2d_90': <keras.layers.convolutional.Conv2D at 0x226f86d8>,\n",
       " 'conv2d_91': <keras.layers.convolutional.Conv2D at 0x227b07b8>,\n",
       " 'conv2d_92': <keras.layers.convolutional.Conv2D at 0x228977b8>,\n",
       " 'conv2d_93': <keras.layers.convolutional.Conv2D at 0x22985780>,\n",
       " 'conv2d_94': <keras.layers.convolutional.Conv2D at 0x22aa6780>,\n",
       " 'input_1': <keras.engine.input_layer.InputLayer at 0x1a6e9208>,\n",
       " 'max_pooling2d_1': <keras.layers.pooling.MaxPooling2D at 0x1b7ccda0>,\n",
       " 'max_pooling2d_2': <keras.layers.pooling.MaxPooling2D at 0x1bb36828>,\n",
       " 'max_pooling2d_3': <keras.layers.pooling.MaxPooling2D at 0x1e09fd30>,\n",
       " 'max_pooling2d_4': <keras.layers.pooling.MaxPooling2D at 0x21adbd68>,\n",
       " 'mixed0': <keras.layers.merge.Concatenate at 0x1c807668>,\n",
       " 'mixed1': <keras.layers.merge.Concatenate at 0x1d6b10b8>,\n",
       " 'mixed10': <keras.layers.merge.Concatenate at 0x22b5be10>,\n",
       " 'mixed2': <keras.layers.merge.Concatenate at 0x1dd0b518>,\n",
       " 'mixed3': <keras.layers.merge.Concatenate at 0x1e0e5a58>,\n",
       " 'mixed4': <keras.layers.merge.Concatenate at 0x1e9f60b8>,\n",
       " 'mixed5': <keras.layers.merge.Concatenate at 0x202e0438>,\n",
       " 'mixed6': <keras.layers.merge.Concatenate at 0x20be8e10>,\n",
       " 'mixed7': <keras.layers.merge.Concatenate at 0x21545048>,\n",
       " 'mixed8': <keras.layers.merge.Concatenate at 0x21abae48>,\n",
       " 'mixed9': <keras.layers.merge.Concatenate at 0x22320208>,\n",
       " 'mixed9_0': <keras.layers.merge.Concatenate at 0x21e54d30>,\n",
       " 'mixed9_1': <keras.layers.merge.Concatenate at 0x226e3da0>}"
      ]
     },
     "execution_count": 22,
     "metadata": {},
     "output_type": "execute_result"
    }
   ],
   "source": [
    "layer_dict"
   ]
  },
  {
   "cell_type": "code",
   "execution_count": null,
   "metadata": {
    "ExecuteTime": {
     "end_time": "2019-09-05T09:32:42.295898Z",
     "start_time": "2019-09-05T09:32:41.784270Z"
    }
   },
   "outputs": [],
   "source": [
    "dream = model.input\n",
    "\n",
    "grads = k.gradients(loss, dream)[0]\n",
    "grads /= k.maximum(k.mean(k.abs(grads)), 1e-7)\n",
    "\n",
    "outputs = [loss, grads]\n",
    "fetch_loss_and_grads = k.function([dream], outputs)\n",
    "\n",
    "def eval_loss_and_grads(x):\n",
    "    outs=fetch_loss_and_grads([x])\n",
    "    loss_value=outs[0]\n",
    "    grad_values=outs[1]\n",
    "    return loss_value,grad_values\n",
    "\n",
    "def gradient_ascent(x, iterations, step, max_loss=None):\n",
    "    for i in range(iterations):\n",
    "        loss_value, grad_values = eval_loss_and_grads(x)\n",
    "        if max_loss is not None and loss_value > max_loss:\n",
    "            break\n",
    "        print('...loss value as', i, 'loss_value')\n",
    "        x += step * grad_values\n",
    "    return x"
   ]
  },
  {
   "cell_type": "code",
   "execution_count": null,
   "metadata": {
    "ExecuteTime": {
     "end_time": "2019-09-04T06:20:36.512202Z",
     "start_time": "2019-09-04T06:20:36.505202Z"
    }
   },
   "outputs": [],
   "source": [
    "import numpy as np\n",
    "from keras.preprocessing import image\n",
    "\n",
    "import scipy"
   ]
  },
  {
   "cell_type": "code",
   "execution_count": null,
   "metadata": {
    "ExecuteTime": {
     "end_time": "2019-09-04T06:28:01.167583Z",
     "start_time": "2019-09-04T06:28:01.107580Z"
    }
   },
   "outputs": [],
   "source": [
    "def resize_img(img, size):\n",
    "    img = np.copy(img)\n",
    "    factors = (1, float(size[0]) / img.shape[1], float(size[1]) / img.shape[2],\n",
    "               1)\n",
    "    return scipy.ndimage.zoom(img, factors, order=1)\n",
    "\n",
    "\n",
    "def save_img(img, fname):\n",
    "    pil_img = deprecess_image(np.copy(img))\n",
    "    scipy.misc.imsave(fname, pil_img)\n",
    "\n",
    "\n",
    "def preprocess_image(image_path):\n",
    "    img = image.load_img(image_path)\n",
    "    img = image.img_to_array(img)\n",
    "    img = np.expand_dims(img, axis=0)\n",
    "    img = inception_v3.preprocess_input(img)\n",
    "    return img\n",
    "\n",
    "\n",
    "def deprocess_image(x):\n",
    "    if k.image_data_format == 'channels_first':\n",
    "        x = x.reshape((3, x.shape[2], x.shape[3]))\n",
    "        x = x.transpose((1, 2, 0))\n",
    "    else:\n",
    "        x = x.reshape((x.shape[1], x.shape[2], 3))\n",
    "        x /= 2.\n",
    "        x += 0.5\n",
    "        x *= 255.\n",
    "        x = np.clip(x, 0, 255).astype('uint8')\n",
    "        return x"
   ]
  },
  {
   "cell_type": "code",
   "execution_count": null,
   "metadata": {
    "ExecuteTime": {
     "end_time": "2019-09-04T06:28:13.143959Z",
     "start_time": "2019-09-04T06:28:13.036954Z"
    },
    "scrolled": true
   },
   "outputs": [],
   "source": [
    "step = 0.01\n",
    "num_octave = 3\n",
    "iterations = 20\n",
    "\n",
    "max_loss = 10\n",
    "base_image_path = '...'\n",
    "img = preprocess_image(base_image_path)\n",
    "\n",
    "original_shape = img.shape[1:3]\n",
    "successive_shapes[original_shape]\n",
    "for i in range(1, num_octave):\n",
    "    shape = tuple([int(dim / octave_scale**i) for dim in original_shape])\n",
    "    successive_shapes.append(shape)\n",
    "    successive_shapes = successive_shapes[::1]\n",
    "\n",
    "    original_img = np.copy(img)\n",
    "    shrunk_original_img = resize_img(img, successive_shapes[0])\n",
    "\n",
    "    for shape in successive_shapes:\n",
    "        print('Processing image shape: ', shape)\n",
    "        img = resize_img(img, shape)\n",
    "        img = gradient_ascent(img,\n",
    "                              iterations=iterations,\n",
    "                              step=step,\n",
    "                              max_loss=max_loss)\n",
    "\n",
    "        upscaled_shrunk_original_img = resize_img(shrunk_original_img, shapee)\n",
    "        same_size_original = resize_img(original_img, shape)\n",
    "        lost_detail = same_size_original - upscaled_shrunk_original_img\n",
    "\n",
    "        img += lost_detail\n",
    "        shrunk_original_img = resize_img(original_img, shape)\n",
    "        save_img(img, fname='dream_as_scale' + str(shape) + '.png')\n",
    "\n",
    "    save_img(img, fname='final_dream.png')"
   ]
  },
  {
   "cell_type": "code",
   "execution_count": null,
   "metadata": {},
   "outputs": [],
   "source": []
  }
 ],
 "metadata": {
  "kernelspec": {
   "display_name": "Python 3",
   "language": "python",
   "name": "python3"
  },
  "language_info": {
   "codemirror_mode": {
    "name": "ipython",
    "version": 3
   },
   "file_extension": ".py",
   "mimetype": "text/x-python",
   "name": "python",
   "nbconvert_exporter": "python",
   "pygments_lexer": "ipython3",
   "version": "3.6.3"
  }
 },
 "nbformat": 4,
 "nbformat_minor": 2
}
