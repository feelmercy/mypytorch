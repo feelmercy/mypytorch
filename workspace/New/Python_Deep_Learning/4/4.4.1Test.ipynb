{
 "cells": [
  {
   "cell_type": "code",
   "execution_count": 1,
   "metadata": {
    "ExecuteTime": {
     "end_time": "2019-07-16T01:47:42.323291Z",
     "start_time": "2019-07-16T01:47:18.429925Z"
    }
   },
   "outputs": [
    {
     "name": "stderr",
     "output_type": "stream",
     "text": [
      "D:\\ProgramData\\Anaconda3\\lib\\site-packages\\h5py\\__init__.py:34: FutureWarning: Conversion of the second argument of issubdtype from `float` to `np.floating` is deprecated. In future, it will be treated as `np.float64 == np.dtype(float).type`.\n",
      "  from ._conv import register_converters as _register_converters\n",
      "Using TensorFlow backend.\n"
     ]
    },
    {
     "data": {
      "text/plain": [
       "'2.2.4'"
      ]
     },
     "execution_count": 1,
     "metadata": {},
     "output_type": "execute_result"
    }
   ],
   "source": [
    "import keras\n",
    "keras.__version__"
   ]
  },
  {
   "cell_type": "code",
   "execution_count": 2,
   "metadata": {
    "ExecuteTime": {
     "end_time": "2019-07-16T01:47:53.821103Z",
     "start_time": "2019-07-16T01:47:47.942168Z"
    }
   },
   "outputs": [],
   "source": [
    "from keras.datasets import imdb\n",
    "import numpy as np\n",
    "\n",
    "(train_data, train_labels), (test_data, test_labels) = imdb.load_data(num_words=10000)\n",
    "\n",
    "def vectorize_sequences(sequences, dimension=10000):\n",
    "    # Create an all-zero matrix of shape (len(sequences), dimension)\n",
    "    results = np.zeros((len(sequences), dimension))\n",
    "    for i, sequence in enumerate(sequences):\n",
    "        results[i, sequence] = 1.  # set specific indices of results[i] to 1s\n",
    "    return results\n",
    "\n",
    "# Our vectorized training data\n",
    "x_train = vectorize_sequences(train_data)\n",
    "# Our vectorized test data\n",
    "x_test = vectorize_sequences(test_data)\n",
    "# Our vectorized labels\n",
    "y_train = np.asarray(train_labels).astype('float32')\n",
    "y_test = np.asarray(test_labels).astype('float32')"
   ]
  },
  {
   "cell_type": "code",
   "execution_count": 3,
   "metadata": {
    "ExecuteTime": {
     "end_time": "2019-07-16T01:47:56.749352Z",
     "start_time": "2019-07-16T01:47:56.395134Z"
    }
   },
   "outputs": [],
   "source": [
    "from keras import models\n",
    "from keras import layers\n",
    "\n",
    "original_model = models.Sequential()\n",
    "original_model.add(layers.Dense(16, activation='relu', input_shape=(10000,)))\n",
    "original_model.add(layers.Dense(16, activation='relu'))\n",
    "original_model.add(layers.Dense(1, activation='sigmoid'))\n",
    "\n",
    "original_model.compile(optimizer='rmsprop',\n",
    "                       loss='binary_crossentropy',\n",
    "                       metrics=['acc'])"
   ]
  },
  {
   "cell_type": "code",
   "execution_count": 4,
   "metadata": {
    "ExecuteTime": {
     "end_time": "2019-07-16T01:47:58.396985Z",
     "start_time": "2019-07-16T01:47:58.313381Z"
    }
   },
   "outputs": [],
   "source": [
    "smaller_model = models.Sequential()\n",
    "smaller_model.add(layers.Dense(4, activation='relu', input_shape=(10000,)))\n",
    "smaller_model.add(layers.Dense(4, activation='relu'))\n",
    "smaller_model.add(layers.Dense(1, activation='sigmoid'))\n",
    "\n",
    "smaller_model.compile(optimizer='rmsprop',\n",
    "                      loss='binary_crossentropy',\n",
    "                      metrics=['acc'])"
   ]
  },
  {
   "cell_type": "code",
   "execution_count": 5,
   "metadata": {
    "ExecuteTime": {
     "end_time": "2019-07-16T01:49:19.189709Z",
     "start_time": "2019-07-16T01:48:04.507838Z"
    }
   },
   "outputs": [
    {
     "name": "stdout",
     "output_type": "stream",
     "text": [
      "Train on 25000 samples, validate on 25000 samples\n",
      "Epoch 1/20\n",
      "25000/25000 [==============================] - 5s 203us/step - loss: 0.4440 - acc: 0.8244 - val_loss: 0.3288 - val_acc: 0.8846\n",
      "Epoch 2/20\n",
      "25000/25000 [==============================] - 4s 144us/step - loss: 0.2576 - acc: 0.9081 - val_loss: 0.2859 - val_acc: 0.8886\n",
      "Epoch 3/20\n",
      "25000/25000 [==============================] - 4s 145us/step - loss: 0.1992 - acc: 0.9288 - val_loss: 0.2822 - val_acc: 0.8885\n",
      "Epoch 4/20\n",
      "25000/25000 [==============================] - 4s 146us/step - loss: 0.1663 - acc: 0.9416 - val_loss: 0.2941 - val_acc: 0.8840\n",
      "Epoch 5/20\n",
      "25000/25000 [==============================] - 4s 146us/step - loss: 0.1424 - acc: 0.9503 - val_loss: 0.3123 - val_acc: 0.8803\n",
      "Epoch 6/20\n",
      "25000/25000 [==============================] - 4s 146us/step - loss: 0.1245 - acc: 0.9565 - val_loss: 0.3512 - val_acc: 0.8716\n",
      "Epoch 7/20\n",
      "25000/25000 [==============================] - 4s 146us/step - loss: 0.1095 - acc: 0.9625 - val_loss: 0.3593 - val_acc: 0.8725\n",
      "Epoch 8/20\n",
      "25000/25000 [==============================] - 4s 146us/step - loss: 0.0958 - acc: 0.9679 - val_loss: 0.3968 - val_acc: 0.8667\n",
      "Epoch 9/20\n",
      "25000/25000 [==============================] - 4s 146us/step - loss: 0.0825 - acc: 0.9728 - val_loss: 0.4352 - val_acc: 0.8610\n",
      "Epoch 10/20\n",
      "25000/25000 [==============================] - 4s 146us/step - loss: 0.0725 - acc: 0.9770 - val_loss: 0.5092 - val_acc: 0.8524\n",
      "Epoch 11/20\n",
      "25000/25000 [==============================] - 4s 146us/step - loss: 0.0659 - acc: 0.9794 - val_loss: 0.4870 - val_acc: 0.8603\n",
      "Epoch 12/20\n",
      "25000/25000 [==============================] - 4s 146us/step - loss: 0.0536 - acc: 0.9839 - val_loss: 0.5249 - val_acc: 0.8573\n",
      "Epoch 13/20\n",
      "25000/25000 [==============================] - 4s 147us/step - loss: 0.0480 - acc: 0.9857 - val_loss: 0.5366 - val_acc: 0.8579\n",
      "Epoch 14/20\n",
      "25000/25000 [==============================] - 4s 146us/step - loss: 0.0389 - acc: 0.9894 - val_loss: 0.6338 - val_acc: 0.8473\n",
      "Epoch 15/20\n",
      "25000/25000 [==============================] - 4s 147us/step - loss: 0.0356 - acc: 0.9895 - val_loss: 0.6062 - val_acc: 0.8553\n",
      "Epoch 16/20\n",
      "25000/25000 [==============================] - 4s 146us/step - loss: 0.0265 - acc: 0.9932 - val_loss: 0.6644 - val_acc: 0.8512\n",
      "Epoch 17/20\n",
      "25000/25000 [==============================] - 4s 146us/step - loss: 0.0250 - acc: 0.9932 - val_loss: 0.6833 - val_acc: 0.8520\n",
      "Epoch 18/20\n",
      "25000/25000 [==============================] - 4s 146us/step - loss: 0.0169 - acc: 0.9962 - val_loss: 0.7244 - val_acc: 0.8516\n",
      "Epoch 19/20\n",
      "25000/25000 [==============================] - 4s 146us/step - loss: 0.0192 - acc: 0.9949 - val_loss: 0.7535 - val_acc: 0.8501\n",
      "Epoch 20/20\n",
      "25000/25000 [==============================] - 4s 147us/step - loss: 0.0119 - acc: 0.9974 - val_loss: 0.9264 - val_acc: 0.8365\n"
     ]
    }
   ],
   "source": [
    "original_hist = original_model.fit(x_train, y_train,\n",
    "                                   epochs=20,\n",
    "                                   batch_size=512,\n",
    "                                   validation_data=(x_test, y_test))"
   ]
  },
  {
   "cell_type": "code",
   "execution_count": 6,
   "metadata": {
    "ExecuteTime": {
     "end_time": "2019-07-16T02:37:01.159188Z",
     "start_time": "2019-07-16T02:35:45.607267Z"
    }
   },
   "outputs": [
    {
     "name": "stdout",
     "output_type": "stream",
     "text": [
      "Train on 25000 samples, validate on 25000 samples\n",
      "Epoch 1/20\n",
      "25000/25000 [==============================] - 4s 147us/step - loss: 0.5804 - acc: 0.7027 - val_loss: 0.5309 - val_acc: 0.7558\n",
      "Epoch 2/20\n",
      "25000/25000 [==============================] - 4s 144us/step - loss: 0.4843 - acc: 0.8455 - val_loss: 0.4876 - val_acc: 0.8280\n",
      "Epoch 3/20\n",
      "25000/25000 [==============================] - 4s 145us/step - loss: 0.4389 - acc: 0.8918 - val_loss: 0.4664 - val_acc: 0.8496\n",
      "Epoch 4/20\n",
      "25000/25000 [==============================] - 4s 145us/step - loss: 0.4077 - acc: 0.9153 - val_loss: 0.4525 - val_acc: 0.8673\n",
      "Epoch 5/20\n",
      "25000/25000 [==============================] - 4s 146us/step - loss: 0.3832 - acc: 0.9303 - val_loss: 0.4521 - val_acc: 0.8608\n",
      "Epoch 6/20\n",
      "25000/25000 [==============================] - 4s 144us/step - loss: 0.3620 - acc: 0.9411 - val_loss: 0.4434 - val_acc: 0.8722\n",
      "Epoch 7/20\n",
      "25000/25000 [==============================] - 4s 157us/step - loss: 0.3425 - acc: 0.9509 - val_loss: 0.4487 - val_acc: 0.8678\n",
      "Epoch 8/20\n",
      "25000/25000 [==============================] - 4s 153us/step - loss: 0.3262 - acc: 0.9567 - val_loss: 0.4501 - val_acc: 0.8679\n",
      "Epoch 9/20\n",
      "25000/25000 [==============================] - 4s 152us/step - loss: 0.3099 - acc: 0.9618 - val_loss: 0.4703 - val_acc: 0.8630\n",
      "Epoch 10/20\n",
      "25000/25000 [==============================] - 4s 153us/step - loss: 0.2960 - acc: 0.9651 - val_loss: 0.4727 - val_acc: 0.8617\n",
      "Epoch 11/20\n",
      "25000/25000 [==============================] - 4s 147us/step - loss: 0.2815 - acc: 0.9691 - val_loss: 0.4853 - val_acc: 0.8606\n",
      "Epoch 12/20\n",
      "25000/25000 [==============================] - 4s 155us/step - loss: 0.2688 - acc: 0.9718 - val_loss: 0.4942 - val_acc: 0.8593\n",
      "Epoch 13/20\n",
      "25000/25000 [==============================] - 4s 160us/step - loss: 0.2565 - acc: 0.9748 - val_loss: 0.5106 - val_acc: 0.8592\n",
      "Epoch 14/20\n",
      "25000/25000 [==============================] - 4s 155us/step - loss: 0.2455 - acc: 0.9764 - val_loss: 0.5482 - val_acc: 0.8534\n",
      "Epoch 15/20\n",
      "25000/25000 [==============================] - 4s 153us/step - loss: 0.2338 - acc: 0.9780 - val_loss: 0.5390 - val_acc: 0.8564\n",
      "Epoch 16/20\n",
      "25000/25000 [==============================] - 4s 152us/step - loss: 0.2237 - acc: 0.9800 - val_loss: 0.5454 - val_acc: 0.8573\n",
      "Epoch 17/20\n",
      "25000/25000 [==============================] - 4s 152us/step - loss: 0.2144 - acc: 0.9808 - val_loss: 0.5858 - val_acc: 0.8531\n",
      "Epoch 18/20\n",
      "25000/25000 [==============================] - 4s 151us/step - loss: 0.2047 - acc: 0.9824 - val_loss: 0.6316 - val_acc: 0.8508\n",
      "Epoch 19/20\n",
      "25000/25000 [==============================] - 4s 151us/step - loss: 0.1963 - acc: 0.9835 - val_loss: 0.6454 - val_acc: 0.8508\n",
      "Epoch 20/20\n",
      "25000/25000 [==============================] - 4s 152us/step - loss: 0.1884 - acc: 0.9842 - val_loss: 0.6810 - val_acc: 0.8481\n"
     ]
    }
   ],
   "source": [
    "smaller_model_hist = smaller_model.fit(x_train, y_train,\n",
    "                                       epochs=20,\n",
    "                                       batch_size=512,\n",
    "                                       validation_data=(x_test, y_test))"
   ]
  },
  {
   "cell_type": "code",
   "execution_count": 9,
   "metadata": {
    "ExecuteTime": {
     "end_time": "2019-07-16T02:47:30.983852Z",
     "start_time": "2019-07-16T02:47:30.909848Z"
    }
   },
   "outputs": [],
   "source": [
    "bigg_model=models.Sequential()\n",
    "bigg_model.add(layers.Dense(512,activation='relu',input_shape=(10000,)))\n",
    "bigg_model.add(layers.Dense(512,activation='relu'))\n",
    "bigg_model.add(layers.Dense(1,activation='sigmoid'))\n",
    "\n",
    "bigg_model.compile(optimizer='rmsprop',\n",
    "                 loss='binary_crossentropy',\n",
    "                 metrics=['acc'])"
   ]
  },
  {
   "cell_type": "code",
   "execution_count": 11,
   "metadata": {
    "ExecuteTime": {
     "end_time": "2019-07-16T02:55:58.506881Z",
     "start_time": "2019-07-16T02:52:05.693565Z"
    }
   },
   "outputs": [
    {
     "name": "stdout",
     "output_type": "stream",
     "text": [
      "Train on 25000 samples, validate on 25000 samples\n",
      "Epoch 1/20\n",
      "25000/25000 [==============================] - 11s 428us/step - loss: 2.2490 - acc: 0.8120 - val_loss: 2.0733 - val_acc: 0.7998\n",
      "Epoch 2/20\n",
      "25000/25000 [==============================] - 11s 428us/step - loss: 0.8646 - acc: 0.8564 - val_loss: 0.4682 - val_acc: 0.8618\n",
      "Epoch 3/20\n",
      "25000/25000 [==============================] - 11s 432us/step - loss: 0.3577 - acc: 0.8861 - val_loss: 0.3422 - val_acc: 0.8598\n",
      "Epoch 4/20\n",
      "25000/25000 [==============================] - 11s 453us/step - loss: 0.3368 - acc: 0.8934 - val_loss: 0.3557 - val_acc: 0.8794\n",
      "Epoch 5/20\n",
      "25000/25000 [==============================] - 13s 532us/step - loss: 0.2766 - acc: 0.9156 - val_loss: 0.3390 - val_acc: 0.8787\n",
      "Epoch 6/20\n",
      "25000/25000 [==============================] - 14s 547us/step - loss: 0.1195 - acc: 0.9554 - val_loss: 0.4303 - val_acc: 0.8754\n",
      "Epoch 7/20\n",
      "25000/25000 [==============================] - 13s 512us/step - loss: 0.0870 - acc: 0.9685 - val_loss: 0.4299 - val_acc: 0.8782\n",
      "Epoch 8/20\n",
      "25000/25000 [==============================] - 12s 464us/step - loss: 0.0606 - acc: 0.9848 - val_loss: 0.5428 - val_acc: 0.8796\n",
      "Epoch 9/20\n",
      "25000/25000 [==============================] - 12s 470us/step - loss: 0.0064 - acc: 0.9990 - val_loss: 0.7306 - val_acc: 0.8767\n",
      "Epoch 10/20\n",
      "25000/25000 [==============================] - 12s 461us/step - loss: 0.0799 - acc: 0.9887 - val_loss: 0.7953 - val_acc: 0.8782\n",
      "Epoch 11/20\n",
      "25000/25000 [==============================] - 12s 460us/step - loss: 0.0011 - acc: 1.0000 - val_loss: 0.8402 - val_acc: 0.8761\n",
      "Epoch 12/20\n",
      "25000/25000 [==============================] - 11s 456us/step - loss: 0.0833 - acc: 0.9926 - val_loss: 1.0396 - val_acc: 0.8777\n",
      "Epoch 13/20\n",
      "25000/25000 [==============================] - 11s 455us/step - loss: 7.7033e-04 - acc: 1.0000 - val_loss: 0.9846 - val_acc: 0.8780\n",
      "Epoch 14/20\n",
      "25000/25000 [==============================] - 11s 459us/step - loss: 6.6210e-04 - acc: 1.0000 - val_loss: 0.9986 - val_acc: 0.8780\n",
      "Epoch 15/20\n",
      "25000/25000 [==============================] - 12s 468us/step - loss: 6.5042e-04 - acc: 1.0000 - val_loss: 1.0545 - val_acc: 0.8770\n",
      "Epoch 16/20\n",
      "25000/25000 [==============================] - 11s 457us/step - loss: 6.4603e-04 - acc: 1.0000 - val_loss: 1.1129 - val_acc: 0.8773\n",
      "Epoch 17/20\n",
      "25000/25000 [==============================] - 12s 466us/step - loss: 6.4506e-04 - acc: 1.0000 - val_loss: 1.1842 - val_acc: 0.8776\n",
      "Epoch 18/20\n",
      "25000/25000 [==============================] - 11s 456us/step - loss: 0.0762 - acc: 0.9929 - val_loss: 1.2575 - val_acc: 0.8774\n",
      "Epoch 19/20\n",
      "25000/25000 [==============================] - 11s 453us/step - loss: 6.4623e-04 - acc: 1.0000 - val_loss: 1.2469 - val_acc: 0.8778\n",
      "Epoch 20/20\n",
      "25000/25000 [==============================] - 11s 452us/step - loss: 6.4516e-04 - acc: 1.0000 - val_loss: 1.2479 - val_acc: 0.8782\n"
     ]
    }
   ],
   "source": [
    "bigg_model_hist=bigg_model.fit(x_train,y_train,\n",
    "                              epochs=20,\n",
    "                              batch_size=512,\n",
    "                              validation_data=(x_test,y_test))"
   ]
  },
  {
   "cell_type": "code",
   "execution_count": 12,
   "metadata": {
    "ExecuteTime": {
     "end_time": "2019-07-16T03:04:59.824842Z",
     "start_time": "2019-07-16T03:04:59.819842Z"
    }
   },
   "outputs": [],
   "source": [
    "from keras import regularizers"
   ]
  },
  {
   "cell_type": "code",
   "execution_count": 14,
   "metadata": {
    "ExecuteTime": {
     "end_time": "2019-07-16T03:07:36.619811Z",
     "start_time": "2019-07-16T03:07:36.563807Z"
    }
   },
   "outputs": [],
   "source": [
    "l2_model=models.Sequential()\n",
    "l2_model.add(layers.Dense(16,kernel_regularizer=regularizers.l2(0.001),\n",
    "                          activation='relu',input_shape=(10000,)))\n",
    "l2_model.add(layers.Dense(16,kernel_regularizer=regularizers.l2(0.001),\n",
    "                         activation='relu'))\n",
    "l2_model.add(layers.Dense(1,activation='sigmoid'))"
   ]
  },
  {
   "cell_type": "code",
   "execution_count": 15,
   "metadata": {
    "ExecuteTime": {
     "end_time": "2019-07-16T03:08:21.395372Z",
     "start_time": "2019-07-16T03:08:21.345369Z"
    }
   },
   "outputs": [],
   "source": [
    "l2_model.compile(optimizer='rmsprop',\n",
    "                loss='binary_crossentropy',\n",
    "                metrics=['acc'])"
   ]
  },
  {
   "cell_type": "code",
   "execution_count": 16,
   "metadata": {
    "ExecuteTime": {
     "end_time": "2019-07-16T03:10:33.086904Z",
     "start_time": "2019-07-16T03:09:13.830371Z"
    }
   },
   "outputs": [
    {
     "name": "stdout",
     "output_type": "stream",
     "text": [
      "Train on 25000 samples, validate on 25000 samples\n",
      "Epoch 1/20\n",
      "25000/25000 [==============================] - 4s 158us/step - loss: 0.4781 - acc: 0.8287 - val_loss: 0.3747 - val_acc: 0.8790\n",
      "Epoch 2/20\n",
      "25000/25000 [==============================] - 4s 151us/step - loss: 0.3118 - acc: 0.9058 - val_loss: 0.3344 - val_acc: 0.8890\n",
      "Epoch 3/20\n",
      "25000/25000 [==============================] - 4s 152us/step - loss: 0.2673 - acc: 0.9212 - val_loss: 0.3334 - val_acc: 0.8870\n",
      "Epoch 4/20\n",
      "25000/25000 [==============================] - 4s 150us/step - loss: 0.2464 - acc: 0.9297 - val_loss: 0.3353 - val_acc: 0.8854\n",
      "Epoch 5/20\n",
      "25000/25000 [==============================] - 4s 157us/step - loss: 0.2340 - acc: 0.9336 - val_loss: 0.3591 - val_acc: 0.8772\n",
      "Epoch 6/20\n",
      "25000/25000 [==============================] - 4s 171us/step - loss: 0.2268 - acc: 0.9370 - val_loss: 0.3506 - val_acc: 0.8828\n",
      "Epoch 7/20\n",
      "25000/25000 [==============================] - 4s 171us/step - loss: 0.2212 - acc: 0.9390 - val_loss: 0.3606 - val_acc: 0.8780\n",
      "Epoch 8/20\n",
      "25000/25000 [==============================] - 4s 159us/step - loss: 0.2127 - acc: 0.9419 - val_loss: 0.3930 - val_acc: 0.8684\n",
      "Epoch 9/20\n",
      "25000/25000 [==============================] - 4s 160us/step - loss: 0.2112 - acc: 0.9435 - val_loss: 0.3778 - val_acc: 0.8749\n",
      "Epoch 10/20\n",
      "25000/25000 [==============================] - 4s 153us/step - loss: 0.2049 - acc: 0.9452 - val_loss: 0.3829 - val_acc: 0.8737\n",
      "Epoch 11/20\n",
      "25000/25000 [==============================] - 4s 157us/step - loss: 0.2066 - acc: 0.9452 - val_loss: 0.3918 - val_acc: 0.8738\n",
      "Epoch 12/20\n",
      "25000/25000 [==============================] - 4s 156us/step - loss: 0.2021 - acc: 0.9461 - val_loss: 0.4107 - val_acc: 0.8697\n",
      "Epoch 13/20\n",
      "25000/25000 [==============================] - 4s 158us/step - loss: 0.1993 - acc: 0.9484 - val_loss: 0.4313 - val_acc: 0.8646\n",
      "Epoch 14/20\n",
      "25000/25000 [==============================] - 4s 159us/step - loss: 0.2010 - acc: 0.9465 - val_loss: 0.4010 - val_acc: 0.8711\n",
      "Epoch 15/20\n",
      "25000/25000 [==============================] - 4s 155us/step - loss: 0.1981 - acc: 0.9501 - val_loss: 0.4044 - val_acc: 0.8706\n",
      "Epoch 16/20\n",
      "25000/25000 [==============================] - 4s 153us/step - loss: 0.1914 - acc: 0.9499 - val_loss: 0.4083 - val_acc: 0.8711\n",
      "Epoch 17/20\n",
      "25000/25000 [==============================] - 4s 167us/step - loss: 0.1875 - acc: 0.9518 - val_loss: 0.4173 - val_acc: 0.8681\n",
      "Epoch 18/20\n",
      "25000/25000 [==============================] - 4s 159us/step - loss: 0.1927 - acc: 0.9503 - val_loss: 0.4204 - val_acc: 0.8677\n",
      "Epoch 19/20\n",
      "25000/25000 [==============================] - 4s 160us/step - loss: 0.1899 - acc: 0.9506 - val_loss: 0.4287 - val_acc: 0.8658\n",
      "Epoch 20/20\n",
      "25000/25000 [==============================] - 4s 154us/step - loss: 0.1875 - acc: 0.9512 - val_loss: 0.4755 - val_acc: 0.8510\n"
     ]
    }
   ],
   "source": [
    "l2_model_hist=l2_model.fit(x_train,y_train,\n",
    "                          epochs=20,\n",
    "                          batch_size=512,\n",
    "                          validation_data=(x_test,y_test))"
   ]
  },
  {
   "cell_type": "code",
   "execution_count": 19,
   "metadata": {
    "ExecuteTime": {
     "end_time": "2019-07-16T03:24:57.745359Z",
     "start_time": "2019-07-16T03:24:57.639353Z"
    }
   },
   "outputs": [],
   "source": [
    "dpt_model=models.Sequential()\n",
    "dpt_model.add(layers.Dense(16,activation='relu',input_shape=(10000,)))\n",
    "dpt_model.add(layers.Dropout(0.5))\n",
    "dpt_model.add(layers.Dense(16,activation='relu'))\n",
    "dpt_model.add(layers.Dropout(0.5))\n",
    "dpt_model.add(layers.Dense(1,activation='sigmoid'))\n",
    "\n",
    "dpt_model.compile(optimizer='rmsprop',\n",
    "                 loss='binary_crossentropy',\n",
    "                 metrics=['acc'])"
   ]
  },
  {
   "cell_type": "code",
   "execution_count": 20,
   "metadata": {
    "ExecuteTime": {
     "end_time": "2019-07-16T03:26:59.437320Z",
     "start_time": "2019-07-16T03:25:43.547979Z"
    }
   },
   "outputs": [
    {
     "name": "stdout",
     "output_type": "stream",
     "text": [
      "Train on 25000 samples, validate on 25000 samples\n",
      "Epoch 1/20\n",
      "25000/25000 [==============================] - 4s 160us/step - loss: 0.5994 - acc: 0.6703 - val_loss: 0.4508 - val_acc: 0.8674\n",
      "Epoch 2/20\n",
      "25000/25000 [==============================] - 4s 151us/step - loss: 0.4495 - acc: 0.8124 - val_loss: 0.3352 - val_acc: 0.8847\n",
      "Epoch 3/20\n",
      "25000/25000 [==============================] - 4s 150us/step - loss: 0.3568 - acc: 0.8665 - val_loss: 0.2943 - val_acc: 0.8889\n",
      "Epoch 4/20\n",
      "25000/25000 [==============================] - 4s 148us/step - loss: 0.3055 - acc: 0.8922 - val_loss: 0.2812 - val_acc: 0.8892\n",
      "Epoch 5/20\n",
      "25000/25000 [==============================] - 4s 149us/step - loss: 0.2629 - acc: 0.9101 - val_loss: 0.2944 - val_acc: 0.8876\n",
      "Epoch 6/20\n",
      "25000/25000 [==============================] - 4s 149us/step - loss: 0.2352 - acc: 0.9212 - val_loss: 0.2916 - val_acc: 0.8873\n",
      "Epoch 7/20\n",
      "25000/25000 [==============================] - 4s 150us/step - loss: 0.2113 - acc: 0.9314 - val_loss: 0.3073 - val_acc: 0.8862\n",
      "Epoch 8/20\n",
      "25000/25000 [==============================] - 4s 149us/step - loss: 0.1923 - acc: 0.9376 - val_loss: 0.3227 - val_acc: 0.8844\n",
      "Epoch 9/20\n",
      "25000/25000 [==============================] - 4s 150us/step - loss: 0.1786 - acc: 0.9432 - val_loss: 0.3389 - val_acc: 0.8842\n",
      "Epoch 10/20\n",
      "25000/25000 [==============================] - 4s 150us/step - loss: 0.1625 - acc: 0.9475 - val_loss: 0.3815 - val_acc: 0.8818\n",
      "Epoch 11/20\n",
      "25000/25000 [==============================] - 4s 150us/step - loss: 0.1533 - acc: 0.9515 - val_loss: 0.3918 - val_acc: 0.8827\n",
      "Epoch 12/20\n",
      "25000/25000 [==============================] - 4s 151us/step - loss: 0.1469 - acc: 0.9548 - val_loss: 0.4382 - val_acc: 0.8807\n",
      "Epoch 13/20\n",
      "25000/25000 [==============================] - 4s 150us/step - loss: 0.1391 - acc: 0.9562 - val_loss: 0.4280 - val_acc: 0.8721\n",
      "Epoch 14/20\n",
      "25000/25000 [==============================] - 4s 149us/step - loss: 0.1280 - acc: 0.9608 - val_loss: 0.4702 - val_acc: 0.8807\n",
      "Epoch 15/20\n",
      "25000/25000 [==============================] - 4s 150us/step - loss: 0.1238 - acc: 0.9620 - val_loss: 0.4806 - val_acc: 0.8784\n",
      "Epoch 16/20\n",
      "25000/25000 [==============================] - 4s 150us/step - loss: 0.1190 - acc: 0.9624 - val_loss: 0.5034 - val_acc: 0.8780\n",
      "Epoch 17/20\n",
      "25000/25000 [==============================] - 4s 151us/step - loss: 0.1163 - acc: 0.9635 - val_loss: 0.4942 - val_acc: 0.8749\n",
      "Epoch 18/20\n",
      "25000/25000 [==============================] - 4s 151us/step - loss: 0.1112 - acc: 0.9670 - val_loss: 0.5381 - val_acc: 0.8770\n",
      "Epoch 19/20\n",
      "25000/25000 [==============================] - 4s 152us/step - loss: 0.1152 - acc: 0.9642 - val_loss: 0.5582 - val_acc: 0.8753\n",
      "Epoch 20/20\n",
      "25000/25000 [==============================] - 4s 151us/step - loss: 0.1086 - acc: 0.9675 - val_loss: 0.5784 - val_acc: 0.8750\n"
     ]
    }
   ],
   "source": [
    "dpt_model_hist=dpt_model.fit(x_train,y_train,\n",
    "                            epochs=20,\n",
    "                            batch_size=512,\n",
    "                            validation_data=(x_test,y_test))"
   ]
  },
  {
   "cell_type": "code",
   "execution_count": null,
   "metadata": {},
   "outputs": [],
   "source": []
  }
 ],
 "metadata": {
  "kernelspec": {
   "display_name": "Python 3",
   "language": "python",
   "name": "python3"
  },
  "language_info": {
   "codemirror_mode": {
    "name": "ipython",
    "version": 3
   },
   "file_extension": ".py",
   "mimetype": "text/x-python",
   "name": "python",
   "nbconvert_exporter": "python",
   "pygments_lexer": "ipython3",
   "version": "3.6.3"
  }
 },
 "nbformat": 4,
 "nbformat_minor": 2
}
