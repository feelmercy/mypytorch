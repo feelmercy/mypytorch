{
 "cells": [
  {
   "cell_type": "code",
   "execution_count": 1,
   "metadata": {
    "ExecuteTime": {
     "end_time": "2019-07-15T09:56:05.925555Z",
     "start_time": "2019-07-15T09:56:03.474415Z"
    }
   },
   "outputs": [
    {
     "name": "stderr",
     "output_type": "stream",
     "text": [
      "D:\\ProgramData\\Anaconda3\\lib\\site-packages\\h5py\\__init__.py:34: FutureWarning: Conversion of the second argument of issubdtype from `float` to `np.floating` is deprecated. In future, it will be treated as `np.float64 == np.dtype(float).type`.\n",
      "  from ._conv import register_converters as _register_converters\n",
      "Using TensorFlow backend.\n"
     ]
    }
   ],
   "source": [
    "from keras import models,layers\n",
    "import numpy as np\n",
    "from keras.datasets import imdb"
   ]
  },
  {
   "cell_type": "code",
   "execution_count": 3,
   "metadata": {
    "ExecuteTime": {
     "end_time": "2019-07-15T09:56:21.461135Z",
     "start_time": "2019-07-15T09:56:17.441906Z"
    }
   },
   "outputs": [],
   "source": [
    "(train_data,train_labels),(test_data,test_labels)=imdb.load_data(num_words=10000)"
   ]
  },
  {
   "cell_type": "code",
   "execution_count": 4,
   "metadata": {
    "ExecuteTime": {
     "end_time": "2019-07-15T09:56:22.567164Z",
     "start_time": "2019-07-15T09:56:22.547163Z"
    }
   },
   "outputs": [],
   "source": [
    "def vectorize_sequences(sequences,dimension=10000):\n",
    "    results=np.zeros((len(sequences),dimension))\n",
    "    for i,sequence in enumerate(sequences):\n",
    "        results[i,sequence]=1.\n",
    "    return results"
   ]
  },
  {
   "cell_type": "code",
   "execution_count": 5,
   "metadata": {
    "ExecuteTime": {
     "end_time": "2019-07-15T09:56:24.781274Z",
     "start_time": "2019-07-15T09:56:23.334192Z"
    }
   },
   "outputs": [],
   "source": [
    "x_train=vectorize_sequences(train_data)\n",
    "x_test=vectorize_sequences(test_data)\n",
    "y_train=np.asarray(train_labels).astype('float32')\n",
    "y_test=np.asanyarray(test_labels).astype('float32')"
   ]
  },
  {
   "cell_type": "code",
   "execution_count": 6,
   "metadata": {
    "ExecuteTime": {
     "end_time": "2019-07-15T09:56:24.894280Z",
     "start_time": "2019-07-15T09:56:24.782274Z"
    }
   },
   "outputs": [],
   "source": [
    "original_model=models.Sequential()\n",
    "original_model.add(layers.Dense(16,activation='relu',input_shape=(10000,)))\n",
    "original_model.add(layers.Dense(16,activation='relu'))\n",
    "original_model.add(layers.Dense(1,activation='sigmoid'))\n",
    "original_model.compile(optimizer='rmsprop',\n",
    "                      loss='binary_crossentropy',\n",
    "                      metrics=['acc'])"
   ]
  },
  {
   "cell_type": "code",
   "execution_count": 7,
   "metadata": {
    "ExecuteTime": {
     "end_time": "2019-07-15T09:56:25.050289Z",
     "start_time": "2019-07-15T09:56:24.998286Z"
    }
   },
   "outputs": [],
   "source": [
    "smaller_model=models.Sequential()\n",
    "smaller_model.add(layers.Dense(4,activation='relu',input_shape=(10000,)))\n",
    "smaller_model.add(layers.Dense(4,activation='relu'))\n",
    "smaller_model.add(layers.Dense(1,activation='sigmoid'))\n",
    "\n",
    "smaller_model.compile(optimizer='rmsprop',\n",
    "                     loss='binary_crossentropy',\n",
    "                     metrics=['acc'])"
   ]
  },
  {
   "cell_type": "code",
   "execution_count": 8,
   "metadata": {
    "ExecuteTime": {
     "end_time": "2019-07-15T09:57:41.639521Z",
     "start_time": "2019-07-15T09:56:28.197322Z"
    }
   },
   "outputs": [
    {
     "name": "stdout",
     "output_type": "stream",
     "text": [
      "Train on 25000 samples, validate on 25000 samples\n",
      "Epoch 1/20\n",
      "25000/25000 [==============================] - 4s 160us/step - loss: 0.4440 - acc: 0.8251 - val_loss: 0.3286 - val_acc: 0.8835\n",
      "Epoch 2/20\n",
      "25000/25000 [==============================] - 4s 141us/step - loss: 0.2573 - acc: 0.9078 - val_loss: 0.2864 - val_acc: 0.8882\n",
      "Epoch 3/20\n",
      "25000/25000 [==============================] - 4s 144us/step - loss: 0.1991 - acc: 0.9292 - val_loss: 0.2822 - val_acc: 0.8891\n",
      "Epoch 4/20\n",
      "25000/25000 [==============================] - 4s 146us/step - loss: 0.1666 - acc: 0.9414 - val_loss: 0.2940 - val_acc: 0.8846\n",
      "Epoch 5/20\n",
      "25000/25000 [==============================] - 4s 146us/step - loss: 0.1435 - acc: 0.9502 - val_loss: 0.3115 - val_acc: 0.8805\n",
      "Epoch 6/20\n",
      "25000/25000 [==============================] - 4s 146us/step - loss: 0.1258 - acc: 0.9559 - val_loss: 0.3484 - val_acc: 0.8718\n",
      "Epoch 7/20\n",
      "25000/25000 [==============================] - 4s 146us/step - loss: 0.1110 - acc: 0.9616 - val_loss: 0.3583 - val_acc: 0.8734\n",
      "Epoch 8/20\n",
      "25000/25000 [==============================] - 4s 147us/step - loss: 0.0979 - acc: 0.9671 - val_loss: 0.3957 - val_acc: 0.8658\n",
      "Epoch 9/20\n",
      "25000/25000 [==============================] - 4s 146us/step - loss: 0.0841 - acc: 0.9720 - val_loss: 0.4132 - val_acc: 0.8673\n",
      "Epoch 10/20\n",
      "25000/25000 [==============================] - 4s 147us/step - loss: 0.0753 - acc: 0.9762 - val_loss: 0.4732 - val_acc: 0.8583\n",
      "Epoch 11/20\n",
      "25000/25000 [==============================] - 4s 147us/step - loss: 0.0686 - acc: 0.9780 - val_loss: 0.4981 - val_acc: 0.8573\n",
      "Epoch 12/20\n",
      "25000/25000 [==============================] - 4s 146us/step - loss: 0.0561 - acc: 0.9831 - val_loss: 0.5180 - val_acc: 0.8571\n",
      "Epoch 13/20\n",
      "25000/25000 [==============================] - 4s 145us/step - loss: 0.0517 - acc: 0.9840 - val_loss: 0.5342 - val_acc: 0.8576\n",
      "Epoch 14/20\n",
      "25000/25000 [==============================] - 4s 145us/step - loss: 0.0425 - acc: 0.9877 - val_loss: 0.6036 - val_acc: 0.8512\n",
      "Epoch 15/20\n",
      "25000/25000 [==============================] - 4s 146us/step - loss: 0.0361 - acc: 0.9900 - val_loss: 0.6196 - val_acc: 0.8535\n",
      "Epoch 16/20\n",
      "25000/25000 [==============================] - 4s 146us/step - loss: 0.0297 - acc: 0.9922 - val_loss: 0.6503 - val_acc: 0.8540\n",
      "Epoch 17/20\n",
      "25000/25000 [==============================] - 4s 146us/step - loss: 0.0256 - acc: 0.9930 - val_loss: 0.6883 - val_acc: 0.8529\n",
      "Epoch 18/20\n",
      "25000/25000 [==============================] - 4s 146us/step - loss: 0.0206 - acc: 0.9948 - val_loss: 0.7571 - val_acc: 0.8471\n",
      "Epoch 19/20\n",
      "25000/25000 [==============================] - 4s 146us/step - loss: 0.0193 - acc: 0.9948 - val_loss: 0.7716 - val_acc: 0.8483\n",
      "Epoch 20/20\n",
      "25000/25000 [==============================] - 4s 146us/step - loss: 0.0143 - acc: 0.9970 - val_loss: 0.9553 - val_acc: 0.8334\n"
     ]
    }
   ],
   "source": [
    "original_hist=original_model.fit(x_train,y_train,\n",
    "                                epochs=20,\n",
    "                                batch_size=512,\n",
    "                                validation_data=(x_test,y_test))"
   ]
  },
  {
   "cell_type": "code",
   "execution_count": 9,
   "metadata": {
    "ExecuteTime": {
     "end_time": "2019-07-15T09:57:57.570894Z",
     "start_time": "2019-07-15T09:57:57.548894Z"
    }
   },
   "outputs": [
    {
     "data": {
      "text/plain": [
       "dict_keys(['val_loss', 'val_acc', 'loss', 'acc'])"
      ]
     },
     "execution_count": 9,
     "metadata": {},
     "output_type": "execute_result"
    }
   ],
   "source": [
    "original_hist.history.keys()"
   ]
  },
  {
   "cell_type": "code",
   "execution_count": 10,
   "metadata": {
    "ExecuteTime": {
     "end_time": "2019-07-15T09:59:11.925024Z",
     "start_time": "2019-07-15T09:58:00.279927Z"
    }
   },
   "outputs": [
    {
     "name": "stdout",
     "output_type": "stream",
     "text": [
      "Train on 25000 samples, validate on 25000 samples\n",
      "Epoch 1/20\n",
      "25000/25000 [==============================] - 4s 148us/step - loss: 0.5804 - acc: 0.7027 - val_loss: 0.5309 - val_acc: 0.7558\n",
      "Epoch 2/20\n",
      "25000/25000 [==============================] - 4s 144us/step - loss: 0.4843 - acc: 0.8455 - val_loss: 0.4876 - val_acc: 0.8280\n",
      "Epoch 3/20\n",
      "25000/25000 [==============================] - 4s 144us/step - loss: 0.4389 - acc: 0.8918 - val_loss: 0.4664 - val_acc: 0.8494\n",
      "Epoch 4/20\n",
      "25000/25000 [==============================] - 4s 142us/step - loss: 0.4077 - acc: 0.9153 - val_loss: 0.4524 - val_acc: 0.8668\n",
      "Epoch 5/20\n",
      "25000/25000 [==============================] - 4s 142us/step - loss: 0.3832 - acc: 0.9304 - val_loss: 0.4521 - val_acc: 0.8610\n",
      "Epoch 6/20\n",
      "25000/25000 [==============================] - 4s 142us/step - loss: 0.3618 - acc: 0.9415 - val_loss: 0.4433 - val_acc: 0.8716\n",
      "Epoch 7/20\n",
      "25000/25000 [==============================] - 4s 142us/step - loss: 0.3426 - acc: 0.9510 - val_loss: 0.4478 - val_acc: 0.8684\n",
      "Epoch 8/20\n",
      "25000/25000 [==============================] - 4s 142us/step - loss: 0.3260 - acc: 0.9561 - val_loss: 0.4498 - val_acc: 0.8685\n",
      "Epoch 9/20\n",
      "25000/25000 [==============================] - 4s 142us/step - loss: 0.3100 - acc: 0.9616 - val_loss: 0.4785 - val_acc: 0.8589\n",
      "Epoch 10/20\n",
      "25000/25000 [==============================] - 4s 142us/step - loss: 0.2958 - acc: 0.9648 - val_loss: 0.4708 - val_acc: 0.8625\n",
      "Epoch 11/20\n",
      "25000/25000 [==============================] - 4s 142us/step - loss: 0.2812 - acc: 0.9692 - val_loss: 0.4918 - val_acc: 0.8592\n",
      "Epoch 12/20\n",
      "25000/25000 [==============================] - 4s 142us/step - loss: 0.2687 - acc: 0.9720 - val_loss: 0.4902 - val_acc: 0.8611\n",
      "Epoch 13/20\n",
      "25000/25000 [==============================] - 4s 142us/step - loss: 0.2567 - acc: 0.9746 - val_loss: 0.5129 - val_acc: 0.8587\n",
      "Epoch 14/20\n",
      "25000/25000 [==============================] - 4s 142us/step - loss: 0.2454 - acc: 0.9767 - val_loss: 0.5481 - val_acc: 0.8542\n",
      "Epoch 15/20\n",
      "25000/25000 [==============================] - 4s 142us/step - loss: 0.2340 - acc: 0.9778 - val_loss: 0.5173 - val_acc: 0.8606\n",
      "Epoch 16/20\n",
      "25000/25000 [==============================] - 4s 142us/step - loss: 0.2238 - acc: 0.9802 - val_loss: 0.5388 - val_acc: 0.8582\n",
      "Epoch 17/20\n",
      "25000/25000 [==============================] - 4s 143us/step - loss: 0.2152 - acc: 0.9805 - val_loss: 0.5656 - val_acc: 0.8562\n",
      "Epoch 18/20\n",
      "25000/25000 [==============================] - 4s 144us/step - loss: 0.2051 - acc: 0.9824 - val_loss: 0.6475 - val_acc: 0.8494\n",
      "Epoch 19/20\n",
      "25000/25000 [==============================] - 4s 144us/step - loss: 0.1968 - acc: 0.9829 - val_loss: 0.5929 - val_acc: 0.8549\n",
      "Epoch 20/20\n",
      "25000/25000 [==============================] - 4s 145us/step - loss: 0.1885 - acc: 0.9839 - val_loss: 0.6027 - val_acc: 0.8544\n"
     ]
    }
   ],
   "source": [
    "smaller_model_hist=smaller_model.fit(x_train,y_train,\n",
    "                                    epochs=20,\n",
    "                                    batch_size=512,\n",
    "                                    validation_data=(x_test,y_test))"
   ]
  },
  {
   "cell_type": "code",
   "execution_count": null,
   "metadata": {},
   "outputs": [],
   "source": []
  }
 ],
 "metadata": {
  "kernelspec": {
   "display_name": "Python 3",
   "language": "python",
   "name": "python3"
  },
  "language_info": {
   "codemirror_mode": {
    "name": "ipython",
    "version": 3
   },
   "file_extension": ".py",
   "mimetype": "text/x-python",
   "name": "python",
   "nbconvert_exporter": "python",
   "pygments_lexer": "ipython3",
   "version": "3.6.3"
  }
 },
 "nbformat": 4,
 "nbformat_minor": 2
}
