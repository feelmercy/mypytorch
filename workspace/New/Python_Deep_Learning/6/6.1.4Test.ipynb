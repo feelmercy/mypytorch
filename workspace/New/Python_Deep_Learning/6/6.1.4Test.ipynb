{
 "cells": [
  {
   "cell_type": "code",
   "execution_count": 1,
   "metadata": {
    "ExecuteTime": {
     "end_time": "2019-08-20T05:53:26.629131Z",
     "start_time": "2019-08-20T05:53:24.825028Z"
    }
   },
   "outputs": [
    {
     "name": "stderr",
     "output_type": "stream",
     "text": [
      "d:\\programdata\\anaconda3\\lib\\site-packages\\h5py\\__init__.py:34: FutureWarning: Conversion of the second argument of issubdtype from `float` to `np.floating` is deprecated. In future, it will be treated as `np.float64 == np.dtype(float).type`.\n",
      "  from ._conv import register_converters as _register_converters\n",
      "Using TensorFlow backend.\n"
     ]
    },
    {
     "data": {
      "text/plain": [
       "'2.2.4'"
      ]
     },
     "execution_count": 1,
     "metadata": {},
     "output_type": "execute_result"
    }
   ],
   "source": [
    "from  keras.datasets import imdb\n",
    "from keras import models,layers\n",
    "import numpy as np\n",
    "from keras import optimizers\n",
    "from keras import preprocessing\n",
    "import os\n",
    "import keras\n",
    "keras.__version__"
   ]
  },
  {
   "cell_type": "code",
   "execution_count": 2,
   "metadata": {
    "ExecuteTime": {
     "end_time": "2019-08-20T05:53:29.982323Z",
     "start_time": "2019-08-20T05:53:29.975322Z"
    }
   },
   "outputs": [],
   "source": [
    "imdb_dir='F:\\\\study\\\\ml\\\\DataSet\\\\aclImdb'\n",
    "train_dir=os.path.join(imdb_dir,'train')"
   ]
  },
  {
   "cell_type": "code",
   "execution_count": 3,
   "metadata": {
    "ExecuteTime": {
     "end_time": "2019-08-20T05:53:35.782654Z",
     "start_time": "2019-08-20T05:53:30.773368Z"
    }
   },
   "outputs": [],
   "source": [
    "labels=[]\n",
    "texts=[]\n",
    "\n",
    "for label_type in ['pos','neg']:\n",
    "    dir_name = os.path.join(train_dir,label_type)\n",
    "    for fname in os.listdir(dir_name):\n",
    "        if fname[-4:]=='.txt':\n",
    "            f=open(os.path.join(dir_name,fname),encoding='utf-8')\n",
    "            texts.append(f.read())\n",
    "            f.close()\n",
    "            if label_type == 'pos':\n",
    "                labels.append(1)\n",
    "            else:\n",
    "                labels.append(0)\n",
    "            \n"
   ]
  },
  {
   "cell_type": "code",
   "execution_count": 4,
   "metadata": {
    "ExecuteTime": {
     "end_time": "2019-08-20T05:53:36.683706Z",
     "start_time": "2019-08-20T05:53:36.679706Z"
    }
   },
   "outputs": [],
   "source": [
    "from keras.preprocessing.text import Tokenizer"
   ]
  },
  {
   "cell_type": "code",
   "execution_count": 5,
   "metadata": {
    "ExecuteTime": {
     "end_time": "2019-08-20T05:53:45.282198Z",
     "start_time": "2019-08-20T05:53:37.476751Z"
    }
   },
   "outputs": [],
   "source": [
    "maxlen=100\n",
    "train_samples=10000\n",
    "validation_samples=5000\n",
    "max_words=10000\n",
    "\n",
    "tokenizer=Tokenizer(num_words=max_words)\n",
    "tokenizer.fit_on_texts(texts)\n",
    "sequences=tokenizer.texts_to_sequences(texts)\n",
    "word_index=tokenizer.word_index"
   ]
  },
  {
   "cell_type": "code",
   "execution_count": 6,
   "metadata": {
    "ExecuteTime": {
     "end_time": "2019-08-20T05:53:46.394261Z",
     "start_time": "2019-08-20T05:53:46.383261Z"
    }
   },
   "outputs": [
    {
     "data": {
      "text/plain": [
       "list"
      ]
     },
     "execution_count": 6,
     "metadata": {},
     "output_type": "execute_result"
    }
   ],
   "source": [
    "type(sequences)"
   ]
  },
  {
   "cell_type": "code",
   "execution_count": 7,
   "metadata": {
    "ExecuteTime": {
     "end_time": "2019-08-20T05:53:46.934292Z",
     "start_time": "2019-08-20T05:53:46.923292Z"
    }
   },
   "outputs": [
    {
     "data": {
      "text/plain": [
       "[309,\n",
       " 6,\n",
       " 3,\n",
       " 1069,\n",
       " 209,\n",
       " 9,\n",
       " 2161,\n",
       " 30,\n",
       " 1,\n",
       " 169,\n",
       " 55,\n",
       " 14,\n",
       " 46,\n",
       " 82,\n",
       " 5844,\n",
       " 41,\n",
       " 392,\n",
       " 110,\n",
       " 138,\n",
       " 14,\n",
       " 5340,\n",
       " 58,\n",
       " 4449,\n",
       " 150,\n",
       " 8,\n",
       " 1,\n",
       " 4988,\n",
       " 5924,\n",
       " 482,\n",
       " 69,\n",
       " 5,\n",
       " 261,\n",
       " 12,\n",
       " 2002,\n",
       " 6,\n",
       " 73,\n",
       " 2425,\n",
       " 5,\n",
       " 632,\n",
       " 71,\n",
       " 6,\n",
       " 5340,\n",
       " 1,\n",
       " 5,\n",
       " 2003,\n",
       " 1,\n",
       " 5925,\n",
       " 1534,\n",
       " 34,\n",
       " 67,\n",
       " 64,\n",
       " 205,\n",
       " 140,\n",
       " 65,\n",
       " 1230,\n",
       " 1,\n",
       " 4,\n",
       " 1,\n",
       " 223,\n",
       " 901,\n",
       " 29,\n",
       " 3022,\n",
       " 69,\n",
       " 4,\n",
       " 1,\n",
       " 5845,\n",
       " 10,\n",
       " 693,\n",
       " 2,\n",
       " 65,\n",
       " 1534,\n",
       " 51,\n",
       " 10,\n",
       " 216,\n",
       " 1,\n",
       " 387,\n",
       " 8,\n",
       " 60,\n",
       " 3,\n",
       " 1467,\n",
       " 3712,\n",
       " 800,\n",
       " 5,\n",
       " 3513,\n",
       " 177,\n",
       " 1,\n",
       " 392,\n",
       " 10,\n",
       " 1237,\n",
       " 30,\n",
       " 309,\n",
       " 3,\n",
       " 353,\n",
       " 344,\n",
       " 2974,\n",
       " 143,\n",
       " 130,\n",
       " 5,\n",
       " 7799,\n",
       " 28,\n",
       " 4,\n",
       " 126,\n",
       " 5340,\n",
       " 1467,\n",
       " 2373,\n",
       " 5,\n",
       " 309,\n",
       " 10,\n",
       " 532,\n",
       " 12,\n",
       " 108,\n",
       " 1468,\n",
       " 4,\n",
       " 58,\n",
       " 555,\n",
       " 101,\n",
       " 12,\n",
       " 309,\n",
       " 6,\n",
       " 227,\n",
       " 4174,\n",
       " 48,\n",
       " 3,\n",
       " 2232,\n",
       " 12,\n",
       " 9,\n",
       " 215]"
      ]
     },
     "execution_count": 7,
     "metadata": {},
     "output_type": "execute_result"
    }
   ],
   "source": [
    "sequences[0]"
   ]
  },
  {
   "cell_type": "code",
   "execution_count": 8,
   "metadata": {
    "ExecuteTime": {
     "end_time": "2019-08-20T05:53:47.790341Z",
     "start_time": "2019-08-20T05:53:47.512325Z"
    }
   },
   "outputs": [
    {
     "name": "stdout",
     "output_type": "stream",
     "text": [
      "shape of data tensor (25000, 100)\n",
      "shape of label tensor (25000,)\n"
     ]
    }
   ],
   "source": [
    "data=preprocessing.sequence.pad_sequences(sequences,maxlen=maxlen)\n",
    "labels=np.asarray(labels)\n",
    "print('shape of data tensor',data.shape)\n",
    "print('shape of label tensor',labels.shape)"
   ]
  },
  {
   "cell_type": "code",
   "execution_count": 9,
   "metadata": {
    "ExecuteTime": {
     "end_time": "2019-08-20T05:53:48.036355Z",
     "start_time": "2019-08-20T05:53:48.031355Z"
    }
   },
   "outputs": [],
   "source": [
    "indices=np.arange(data.shape[0])"
   ]
  },
  {
   "cell_type": "code",
   "execution_count": 10,
   "metadata": {
    "ExecuteTime": {
     "end_time": "2019-08-20T05:53:48.599388Z",
     "start_time": "2019-08-20T05:53:48.593387Z"
    }
   },
   "outputs": [],
   "source": [
    "np.random.shuffle(indices)"
   ]
  },
  {
   "cell_type": "code",
   "execution_count": 11,
   "metadata": {
    "ExecuteTime": {
     "end_time": "2019-08-20T05:53:49.105417Z",
     "start_time": "2019-08-20T05:53:49.099416Z"
    }
   },
   "outputs": [
    {
     "data": {
      "text/plain": [
       "array([20426,  8932, 16408, ...,  3434, 14325, 23271])"
      ]
     },
     "execution_count": 11,
     "metadata": {},
     "output_type": "execute_result"
    }
   ],
   "source": [
    "indices"
   ]
  },
  {
   "cell_type": "code",
   "execution_count": 12,
   "metadata": {
    "ExecuteTime": {
     "end_time": "2019-08-20T05:53:49.738453Z",
     "start_time": "2019-08-20T05:53:49.719452Z"
    }
   },
   "outputs": [],
   "source": [
    "indices=np.arange(data.shape[0])\n",
    "np.random.shuffle(indices)\n",
    "data=data[indices]\n",
    "labels=labels[indices]"
   ]
  },
  {
   "cell_type": "code",
   "execution_count": 13,
   "metadata": {
    "ExecuteTime": {
     "end_time": "2019-08-20T05:53:50.489496Z",
     "start_time": "2019-08-20T05:53:50.480495Z"
    }
   },
   "outputs": [
    {
     "data": {
      "text/plain": [
       "(25000, 100)"
      ]
     },
     "execution_count": 13,
     "metadata": {},
     "output_type": "execute_result"
    }
   ],
   "source": [
    "data.shape"
   ]
  },
  {
   "cell_type": "code",
   "execution_count": 14,
   "metadata": {
    "ExecuteTime": {
     "end_time": "2019-08-20T05:53:51.084530Z",
     "start_time": "2019-08-20T05:53:51.079529Z"
    }
   },
   "outputs": [],
   "source": [
    "x_train=data[:train_samples]\n",
    "y_train=labels[:train_samples]\n",
    "x_val=data[train_samples:train_samples+validation_samples]\n",
    "y_val=labels[train_samples:train_samples+validation_samples]"
   ]
  },
  {
   "cell_type": "code",
   "execution_count": 15,
   "metadata": {
    "ExecuteTime": {
     "end_time": "2019-08-20T05:53:51.789570Z",
     "start_time": "2019-08-20T05:53:51.781570Z"
    }
   },
   "outputs": [
    {
     "data": {
      "text/plain": [
       "(10000, 100)"
      ]
     },
     "execution_count": 15,
     "metadata": {},
     "output_type": "execute_result"
    }
   ],
   "source": [
    "x_train.shape"
   ]
  },
  {
   "cell_type": "code",
   "execution_count": 16,
   "metadata": {
    "ExecuteTime": {
     "end_time": "2019-08-20T05:53:52.384604Z",
     "start_time": "2019-08-20T05:53:52.373603Z"
    }
   },
   "outputs": [
    {
     "data": {
      "text/plain": [
       "(5000, 100)"
      ]
     },
     "execution_count": 16,
     "metadata": {},
     "output_type": "execute_result"
    }
   ],
   "source": [
    "x_val.shape"
   ]
  },
  {
   "cell_type": "code",
   "execution_count": 17,
   "metadata": {
    "ExecuteTime": {
     "end_time": "2019-08-20T05:53:53.150648Z",
     "start_time": "2019-08-20T05:53:53.139647Z"
    }
   },
   "outputs": [
    {
     "data": {
      "text/plain": [
       "(10000, 100)"
      ]
     },
     "execution_count": 17,
     "metadata": {},
     "output_type": "execute_result"
    }
   ],
   "source": [
    "x_train.shape"
   ]
  },
  {
   "cell_type": "code",
   "execution_count": 18,
   "metadata": {
    "ExecuteTime": {
     "end_time": "2019-08-20T05:53:53.715680Z",
     "start_time": "2019-08-20T05:53:53.710680Z"
    }
   },
   "outputs": [],
   "source": [
    "glove_dir='F:\\\\study\\\\ml\\\\DataSet\\\\glove.6B'"
   ]
  },
  {
   "cell_type": "code",
   "execution_count": 19,
   "metadata": {
    "ExecuteTime": {
     "end_time": "2019-08-20T05:54:08.928550Z",
     "start_time": "2019-08-20T05:53:54.395719Z"
    }
   },
   "outputs": [],
   "source": [
    "embeddings_index={}\n",
    "f=open(os.path.join(glove_dir,'glove.6B.100d.txt'),encoding='utf-8')\n",
    "for line in f:\n",
    "    values=line.split()\n",
    "    word = values[0]\n",
    "    coefs=np.asarray(values[1:],dtype='float32')\n",
    "    embeddings_index[word]=coefs\n",
    "f.close()"
   ]
  },
  {
   "cell_type": "code",
   "execution_count": 20,
   "metadata": {
    "ExecuteTime": {
     "end_time": "2019-08-20T05:54:08.934551Z",
     "start_time": "2019-08-20T05:54:08.930550Z"
    }
   },
   "outputs": [
    {
     "data": {
      "text/plain": [
       "400000"
      ]
     },
     "execution_count": 20,
     "metadata": {},
     "output_type": "execute_result"
    }
   ],
   "source": [
    "len(embeddings_index)"
   ]
  },
  {
   "cell_type": "code",
   "execution_count": 21,
   "metadata": {
    "ExecuteTime": {
     "end_time": "2019-08-20T05:54:09.856603Z",
     "start_time": "2019-08-20T05:54:09.844603Z"
    }
   },
   "outputs": [
    {
     "data": {
      "text/plain": [
       "88582"
      ]
     },
     "execution_count": 21,
     "metadata": {},
     "output_type": "execute_result"
    }
   ],
   "source": [
    "len(word_index)"
   ]
  },
  {
   "cell_type": "code",
   "execution_count": 22,
   "metadata": {
    "ExecuteTime": {
     "end_time": "2019-08-20T05:54:10.532642Z",
     "start_time": "2019-08-20T05:54:10.524642Z"
    }
   },
   "outputs": [],
   "source": [
    "# x_train=data[:200]\n",
    "# y_train=labels[:200]\n",
    "# x_val=data[200:200+validation_samples]\n",
    "# y_val=labels[200:200+validation_samples]"
   ]
  },
  {
   "cell_type": "code",
   "execution_count": 23,
   "metadata": {
    "ExecuteTime": {
     "end_time": "2019-08-20T05:54:11.214681Z",
     "start_time": "2019-08-20T05:54:11.160678Z"
    }
   },
   "outputs": [],
   "source": [
    "embeddings_dim=100\n",
    "embeddings_matrix=np.zeros((max_words,embeddings_dim))\n",
    "for word,i in word_index.items():\n",
    "    if i < max_words:\n",
    "        embeddings_vector=embeddings_index.get(word)\n",
    "        if embeddings_vector is not None:\n",
    "            embeddings_matrix[i]=embeddings_vector"
   ]
  },
  {
   "cell_type": "code",
   "execution_count": 24,
   "metadata": {
    "ExecuteTime": {
     "end_time": "2019-08-20T05:54:11.843717Z",
     "start_time": "2019-08-20T05:54:11.784714Z"
    }
   },
   "outputs": [
    {
     "name": "stdout",
     "output_type": "stream",
     "text": [
      "_________________________________________________________________\n",
      "Layer (type)                 Output Shape              Param #   \n",
      "=================================================================\n",
      "embedding_1 (Embedding)      (None, 100, 100)          1000000   \n",
      "_________________________________________________________________\n",
      "flatten_1 (Flatten)          (None, 10000)             0         \n",
      "_________________________________________________________________\n",
      "dense_1 (Dense)              (None, 32)                320032    \n",
      "_________________________________________________________________\n",
      "dense_2 (Dense)              (None, 1)                 33        \n",
      "=================================================================\n",
      "Total params: 1,320,065\n",
      "Trainable params: 1,320,065\n",
      "Non-trainable params: 0\n",
      "_________________________________________________________________\n"
     ]
    }
   ],
   "source": [
    "model=models.Sequential()\n",
    "model.add(layers.Embedding(max_words,embeddings_dim,input_length=maxlen))\n",
    "model.add(layers.Flatten())\n",
    "model.add(layers.Dense(32,activation='relu'))\n",
    "model.add(layers.Dense(1,activation='sigmoid'))\n",
    "model.summary()"
   ]
  },
  {
   "cell_type": "code",
   "execution_count": 25,
   "metadata": {
    "ExecuteTime": {
     "end_time": "2019-08-20T05:54:12.990783Z",
     "start_time": "2019-08-20T05:54:12.933779Z"
    }
   },
   "outputs": [],
   "source": [
    "model.layers[0].set_weights([embeddings_matrix])\n",
    "model.layers[0].trainable=False"
   ]
  },
  {
   "cell_type": "code",
   "execution_count": 26,
   "metadata": {
    "ExecuteTime": {
     "end_time": "2019-08-20T05:54:13.760827Z",
     "start_time": "2019-08-20T05:54:13.711824Z"
    }
   },
   "outputs": [],
   "source": [
    "model.compile(optimizer='rmsprop',loss='binary_crossentropy',metrics=['acc'])"
   ]
  },
  {
   "cell_type": "code",
   "execution_count": 27,
   "metadata": {
    "ExecuteTime": {
     "end_time": "2019-08-20T05:54:14.256855Z",
     "start_time": "2019-08-20T05:54:14.248855Z"
    }
   },
   "outputs": [
    {
     "data": {
      "text/plain": [
       "(10000, 100)"
      ]
     },
     "execution_count": 27,
     "metadata": {},
     "output_type": "execute_result"
    }
   ],
   "source": [
    "x_train.shape"
   ]
  },
  {
   "cell_type": "code",
   "execution_count": 28,
   "metadata": {
    "ExecuteTime": {
     "end_time": "2019-08-20T05:54:14.821887Z",
     "start_time": "2019-08-20T05:54:14.813887Z"
    }
   },
   "outputs": [
    {
     "data": {
      "text/plain": [
       "(5000, 100)"
      ]
     },
     "execution_count": 28,
     "metadata": {},
     "output_type": "execute_result"
    }
   ],
   "source": [
    "x_val.shape"
   ]
  },
  {
   "cell_type": "code",
   "execution_count": 29,
   "metadata": {
    "ExecuteTime": {
     "end_time": "2019-08-20T05:54:35.397064Z",
     "start_time": "2019-08-20T05:54:15.427922Z"
    }
   },
   "outputs": [
    {
     "name": "stdout",
     "output_type": "stream",
     "text": [
      "Train on 10000 samples, validate on 5000 samples\n",
      "Epoch 1/10\n",
      "10000/10000 [==============================] - 2s 204us/step - loss: 0.6920 - acc: 0.5797 - val_loss: 0.6433 - val_acc: 0.6432\n",
      "Epoch 2/10\n",
      "10000/10000 [==============================] - 2s 194us/step - loss: 0.5973 - acc: 0.7053 - val_loss: 0.8031 - val_acc: 0.5542\n",
      "Epoch 3/10\n",
      "10000/10000 [==============================] - 2s 198us/step - loss: 0.5354 - acc: 0.7419 - val_loss: 0.5912 - val_acc: 0.7022\n",
      "Epoch 4/10\n",
      "10000/10000 [==============================] - 2s 195us/step - loss: 0.4390 - acc: 0.7989 - val_loss: 0.5816 - val_acc: 0.7146\n",
      "Epoch 5/10\n",
      "10000/10000 [==============================] - 2s 195us/step - loss: 0.3770 - acc: 0.8317 - val_loss: 0.6956 - val_acc: 0.6748\n",
      "Epoch 6/10\n",
      "10000/10000 [==============================] - 2s 196us/step - loss: 0.3274 - acc: 0.8590 - val_loss: 0.8192 - val_acc: 0.6650\n",
      "Epoch 7/10\n",
      "10000/10000 [==============================] - 2s 197us/step - loss: 0.2730 - acc: 0.8825 - val_loss: 0.7436 - val_acc: 0.7006\n",
      "Epoch 8/10\n",
      "10000/10000 [==============================] - 2s 196us/step - loss: 0.2286 - acc: 0.9102 - val_loss: 0.8249 - val_acc: 0.6732\n",
      "Epoch 9/10\n",
      "10000/10000 [==============================] - 2s 200us/step - loss: 0.1819 - acc: 0.9312 - val_loss: 1.0152 - val_acc: 0.6854\n",
      "Epoch 10/10\n",
      "10000/10000 [==============================] - 2s 197us/step - loss: 0.1532 - acc: 0.9395 - val_loss: 0.8770 - val_acc: 0.6998\n"
     ]
    }
   ],
   "source": [
    "history=model.fit(x_train,y_train,\n",
    "                 epochs=10,\n",
    "                 batch_size=32,\n",
    "                 validation_data=(x_val,y_val))"
   ]
  },
  {
   "cell_type": "markdown",
   "metadata": {},
   "source": [
    "######## no use pre embedding"
   ]
  },
  {
   "cell_type": "code",
   "execution_count": 30,
   "metadata": {
    "ExecuteTime": {
     "end_time": "2019-08-20T05:54:42.395465Z",
     "start_time": "2019-08-20T05:54:42.347462Z"
    }
   },
   "outputs": [
    {
     "name": "stdout",
     "output_type": "stream",
     "text": [
      "_________________________________________________________________\n",
      "Layer (type)                 Output Shape              Param #   \n",
      "=================================================================\n",
      "embedding_1 (Embedding)      (None, 100, 100)          1000000   \n",
      "_________________________________________________________________\n",
      "flatten_1 (Flatten)          (None, 10000)             0         \n",
      "_________________________________________________________________\n",
      "dense_1 (Dense)              (None, 32)                320032    \n",
      "_________________________________________________________________\n",
      "dense_2 (Dense)              (None, 1)                 33        \n",
      "=================================================================\n",
      "Total params: 1,320,065\n",
      "Trainable params: 320,065\n",
      "Non-trainable params: 1,000,000\n",
      "_________________________________________________________________\n"
     ]
    }
   ],
   "source": [
    "model2=models.Sequential()\n",
    "model2.add(layers.Embedding(max_words,embeddings_dim,input_length=maxlen))\n",
    "model2.add(layers.Flatten())\n",
    "model2.add(layers.Dense(32,activation='relu'))\n",
    "model2.add(layers.Dense(1,activation='sigmoid'))\n",
    "model.summary()"
   ]
  },
  {
   "cell_type": "code",
   "execution_count": 31,
   "metadata": {
    "ExecuteTime": {
     "end_time": "2019-08-20T05:54:43.375521Z",
     "start_time": "2019-08-20T05:54:43.327518Z"
    }
   },
   "outputs": [],
   "source": [
    "model2.compile(optimizer='rmsprop',loss='binary_crossentropy',metrics=['acc'])"
   ]
  },
  {
   "cell_type": "code",
   "execution_count": 32,
   "metadata": {
    "ExecuteTime": {
     "end_time": "2019-08-20T05:55:44.264003Z",
     "start_time": "2019-08-20T05:54:44.365577Z"
    }
   },
   "outputs": [
    {
     "name": "stdout",
     "output_type": "stream",
     "text": [
      "Train on 10000 samples, validate on 5000 samples\n",
      "Epoch 1/10\n",
      "10000/10000 [==============================] - 6s 594us/step - loss: 0.5075 - acc: 0.7315 - val_loss: 0.3977 - val_acc: 0.8216\n",
      "Epoch 2/10\n",
      "10000/10000 [==============================] - 6s 586us/step - loss: 0.1290 - acc: 0.9555 - val_loss: 0.4718 - val_acc: 0.8084\n",
      "Epoch 3/10\n",
      "10000/10000 [==============================] - 6s 595us/step - loss: 0.0095 - acc: 0.9978 - val_loss: 0.6775 - val_acc: 0.8136\n",
      "Epoch 4/10\n",
      "10000/10000 [==============================] - 6s 590us/step - loss: 5.2370e-04 - acc: 0.9998 - val_loss: 0.7587 - val_acc: 0.8192\n",
      "Epoch 5/10\n",
      "10000/10000 [==============================] - 6s 594us/step - loss: 7.6568e-06 - acc: 1.0000 - val_loss: 0.9066 - val_acc: 0.8210\n",
      "Epoch 6/10\n",
      "10000/10000 [==============================] - 6s 587us/step - loss: 1.7436e-06 - acc: 1.0000 - val_loss: 0.9699 - val_acc: 0.8236\n",
      "Epoch 7/10\n",
      "10000/10000 [==============================] - 6s 615us/step - loss: 1.3236e-07 - acc: 1.0000 - val_loss: 0.9902 - val_acc: 0.8238\n",
      "Epoch 8/10\n",
      "10000/10000 [==============================] - 6s 601us/step - loss: 1.1062e-07 - acc: 1.0000 - val_loss: 1.0010 - val_acc: 0.8238\n",
      "Epoch 9/10\n",
      "10000/10000 [==============================] - 6s 609us/step - loss: 1.1105e-07 - acc: 1.0000 - val_loss: 1.0083 - val_acc: 0.8228\n",
      "Epoch 10/10\n",
      "10000/10000 [==============================] - 6s 601us/step - loss: 1.0981e-07 - acc: 1.0000 - val_loss: 1.0108 - val_acc: 0.8240\n"
     ]
    }
   ],
   "source": [
    "history2=model2.fit(x_train,y_train,\n",
    "                 epochs=10,\n",
    "                 batch_size=32,\n",
    "                 validation_data=(x_val,y_val))"
   ]
  },
  {
   "cell_type": "code",
   "execution_count": 33,
   "metadata": {
    "ExecuteTime": {
     "end_time": "2019-08-20T05:56:55.454075Z",
     "start_time": "2019-08-20T05:56:42.333325Z"
    }
   },
   "outputs": [],
   "source": [
    "test_dir=os.path.join(imdb_dir,'test')\n",
    "test_labels=[]\n",
    "test_texts=[]\n",
    "\n",
    "for label_type in ['pos','neg']:\n",
    "    dir_name = os.path.join(test_dir,label_type)\n",
    "    for fname in os.listdir(dir_name):\n",
    "        if fname[-4:]=='.txt':\n",
    "            f=open(os.path.join(dir_name,fname),encoding='utf-8')\n",
    "            test_texts.append(f.read())\n",
    "            f.close()\n",
    "            if label_type == 'pos':\n",
    "                test_labels.append(1)\n",
    "            else:\n",
    "                test_labels.append(0)\n",
    "            \n"
   ]
  },
  {
   "cell_type": "code",
   "execution_count": 35,
   "metadata": {
    "ExecuteTime": {
     "end_time": "2019-08-20T05:58:45.097346Z",
     "start_time": "2019-08-20T05:58:41.135120Z"
    }
   },
   "outputs": [],
   "source": [
    "test_sequences=tokenizer.texts_to_sequences(test_texts)\n",
    "x_test=preprocessing.sequence.pad_sequences(test_sequences,maxlen=maxlen)\n",
    "y_test=np.asarray(test_labels)"
   ]
  },
  {
   "cell_type": "code",
   "execution_count": 36,
   "metadata": {
    "ExecuteTime": {
     "end_time": "2019-08-20T05:59:22.588491Z",
     "start_time": "2019-08-20T05:59:21.291416Z"
    }
   },
   "outputs": [
    {
     "name": "stdout",
     "output_type": "stream",
     "text": [
      "25000/25000 [==============================] - 1s 52us/step\n"
     ]
    },
    {
     "data": {
      "text/plain": [
       "[0.9071477563762664, 0.69096]"
      ]
     },
     "execution_count": 36,
     "metadata": {},
     "output_type": "execute_result"
    }
   ],
   "source": [
    "model.evaluate(x_test,y_test)"
   ]
  },
  {
   "cell_type": "code",
   "execution_count": null,
   "metadata": {},
   "outputs": [],
   "source": []
  }
 ],
 "metadata": {
  "kernelspec": {
   "display_name": "Python 3",
   "language": "python",
   "name": "python3"
  },
  "language_info": {
   "codemirror_mode": {
    "name": "ipython",
    "version": 3
   },
   "file_extension": ".py",
   "mimetype": "text/x-python",
   "name": "python",
   "nbconvert_exporter": "python",
   "pygments_lexer": "ipython3",
   "version": "3.6.3"
  }
 },
 "nbformat": 4,
 "nbformat_minor": 2
}
