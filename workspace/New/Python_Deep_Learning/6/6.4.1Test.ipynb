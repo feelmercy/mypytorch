{
 "cells": [
  {
   "cell_type": "code",
   "execution_count": 1,
   "metadata": {
    "ExecuteTime": {
     "end_time": "2019-08-27T03:32:21.789126Z",
     "start_time": "2019-08-27T03:32:21.785126Z"
    }
   },
   "outputs": [],
   "source": [
    "from keras import models, layers, optimizers\n",
    "from keras.preprocessing import sequence\n",
    "from keras.datasets import imdb"
   ]
  },
  {
   "cell_type": "code",
   "execution_count": 41,
   "metadata": {
    "ExecuteTime": {
     "end_time": "2019-08-27T08:16:47.916253Z",
     "start_time": "2019-08-27T08:16:44.155038Z"
    }
   },
   "outputs": [
    {
     "name": "stdout",
     "output_type": "stream",
     "text": [
      "25000\n",
      "25000\n"
     ]
    }
   ],
   "source": [
    "max_features = 10000\n",
    "maxlen = 500\n",
    "(x_train, y_train), (x_test, y_test) = imdb.load_data(num_words=max_features)\n",
    "print(len(x_train))\n",
    "print(len(x_test))"
   ]
  },
  {
   "cell_type": "code",
   "execution_count": 42,
   "metadata": {
    "ExecuteTime": {
     "end_time": "2019-08-27T08:16:49.655353Z",
     "start_time": "2019-08-27T08:16:48.559290Z"
    }
   },
   "outputs": [
    {
     "name": "stdout",
     "output_type": "stream",
     "text": [
      "(25000, 500)\n",
      "(25000, 500)\n"
     ]
    }
   ],
   "source": [
    "x_train = sequence.pad_sequences(x_train, maxlen=maxlen)\n",
    "x_test = sequence.pad_sequences(x_test, maxlen=maxlen)\n",
    "print(x_train.shape)\n",
    "print(x_test.shape)"
   ]
  },
  {
   "cell_type": "code",
   "execution_count": 43,
   "metadata": {
    "ExecuteTime": {
     "end_time": "2019-08-27T08:16:49.707355Z",
     "start_time": "2019-08-27T08:16:49.657353Z"
    }
   },
   "outputs": [
    {
     "name": "stdout",
     "output_type": "stream",
     "text": [
      "_________________________________________________________________\n",
      "Layer (type)                 Output Shape              Param #   \n",
      "=================================================================\n",
      "embedding_3 (Embedding)      (None, 500, 128)          1280000   \n",
      "_________________________________________________________________\n",
      "conv1d_11 (Conv1D)           (None, 494, 32)           28704     \n",
      "_________________________________________________________________\n",
      "max_pooling1d_7 (MaxPooling1 (None, 98, 32)            0         \n",
      "_________________________________________________________________\n",
      "conv1d_12 (Conv1D)           (None, 92, 32)            7200      \n",
      "_________________________________________________________________\n",
      "global_max_pooling1d_4 (Glob (None, 32)                0         \n",
      "_________________________________________________________________\n",
      "dense_4 (Dense)              (None, 1)                 33        \n",
      "=================================================================\n",
      "Total params: 1,315,937\n",
      "Trainable params: 1,315,937\n",
      "Non-trainable params: 0\n",
      "_________________________________________________________________\n"
     ]
    }
   ],
   "source": [
    "model = models.Sequential()\n",
    "model.add(layers.Embedding(max_features, 128, input_length=max_len))\n",
    "model.add(layers.Conv1D(32, 7, activation='relu'))\n",
    "model.add(layers.MaxPool1D(5))\n",
    "model.add(layers.Conv1D(32, 7, activation='relu'))\n",
    "model.add(layers.GlobalMaxPool1D())\n",
    "model.add(layers.Dense(1))\n",
    "model.summary()"
   ]
  },
  {
   "cell_type": "code",
   "execution_count": 44,
   "metadata": {
    "ExecuteTime": {
     "end_time": "2019-08-27T08:25:25.185839Z",
     "start_time": "2019-08-27T08:16:50.832420Z"
    }
   },
   "outputs": [
    {
     "name": "stdout",
     "output_type": "stream",
     "text": [
      "Train on 20000 samples, validate on 5000 samples\n",
      "Epoch 1/10\n",
      "20000/20000 [==============================] - 52s 3ms/step - loss: 0.8336 - acc: 0.5092 - val_loss: 0.6874 - val_acc: 0.5646\n",
      "Epoch 2/10\n",
      "20000/20000 [==============================] - 52s 3ms/step - loss: 0.6699 - acc: 0.6393 - val_loss: 0.6641 - val_acc: 0.6586\n",
      "Epoch 3/10\n",
      "20000/20000 [==============================] - 51s 3ms/step - loss: 0.6234 - acc: 0.7530 - val_loss: 0.6078 - val_acc: 0.7440\n",
      "Epoch 4/10\n",
      "20000/20000 [==============================] - 52s 3ms/step - loss: 0.5255 - acc: 0.8075 - val_loss: 0.4844 - val_acc: 0.8052\n",
      "Epoch 5/10\n",
      "20000/20000 [==============================] - 49s 2ms/step - loss: 0.4107 - acc: 0.8491 - val_loss: 0.4292 - val_acc: 0.8306\n",
      "Epoch 6/10\n",
      "20000/20000 [==============================] - 49s 2ms/step - loss: 0.3520 - acc: 0.8710 - val_loss: 0.4116 - val_acc: 0.8390\n",
      "Epoch 7/10\n",
      "20000/20000 [==============================] - 50s 3ms/step - loss: 0.3139 - acc: 0.8739 - val_loss: 0.4380 - val_acc: 0.8294\n",
      "Epoch 8/10\n",
      "20000/20000 [==============================] - 56s 3ms/step - loss: 0.2842 - acc: 0.8631 - val_loss: 0.4173 - val_acc: 0.8138\n",
      "Epoch 9/10\n",
      "20000/20000 [==============================] - 52s 3ms/step - loss: 0.2596 - acc: 0.8426 - val_loss: 0.4332 - val_acc: 0.7954\n",
      "Epoch 10/10\n",
      "20000/20000 [==============================] - 49s 2ms/step - loss: 0.2344 - acc: 0.8191 - val_loss: 0.4711 - val_acc: 0.7734\n"
     ]
    }
   ],
   "source": [
    "model.compile(optimizer=optimizers.RMSprop(lr=1e-4),\n",
    "              loss='binary_crossentropy',\n",
    "              metrics=['acc'])\n",
    "\n",
    "history = model.fit(x_train,\n",
    "                    y_train,\n",
    "                    epochs=10,\n",
    "                    batch_size=128,\n",
    "                    validation_split=0.2)"
   ]
  },
  {
   "cell_type": "markdown",
   "metadata": {},
   "source": [
    "convnet for tempurature"
   ]
  },
  {
   "cell_type": "code",
   "execution_count": 16,
   "metadata": {
    "ExecuteTime": {
     "end_time": "2019-08-27T06:21:17.054830Z",
     "start_time": "2019-08-27T06:21:17.050830Z"
    }
   },
   "outputs": [],
   "source": [
    "import os\n",
    "import numpy as np"
   ]
  },
  {
   "cell_type": "code",
   "execution_count": 17,
   "metadata": {
    "ExecuteTime": {
     "end_time": "2019-08-27T06:21:19.067946Z",
     "start_time": "2019-08-27T06:21:18.828932Z"
    }
   },
   "outputs": [],
   "source": [
    "data_dir = 'F:\\study\\ml\\DataSet\\jena_climate'\n",
    "fname = os.path.join(data_dir, 'jena_climate_2009_2016.csv')\n",
    "\n",
    "f = open(fname)\n",
    "data = f.read()\n",
    "f.close()"
   ]
  },
  {
   "cell_type": "code",
   "execution_count": 18,
   "metadata": {
    "ExecuteTime": {
     "end_time": "2019-08-27T06:21:19.369963Z",
     "start_time": "2019-08-27T06:21:19.290958Z"
    }
   },
   "outputs": [
    {
     "name": "stdout",
     "output_type": "stream",
     "text": [
      "['\"Date Time\"', '\"p (mbar)\"', '\"T (degC)\"', '\"Tpot (K)\"', '\"Tdew (degC)\"', '\"rh (%)\"', '\"VPmax (mbar)\"', '\"VPact (mbar)\"', '\"VPdef (mbar)\"', '\"sh (g/kg)\"', '\"H2OC (mmol/mol)\"', '\"rho (g/m**3)\"', '\"wv (m/s)\"', '\"max. wv (m/s)\"', '\"wd (deg)\"']\n",
      "420551\n"
     ]
    }
   ],
   "source": [
    "lines = data.split('\\n')\n",
    "header = lines[0].split(',')\n",
    "lines = lines[1:]\n",
    "print(header)\n",
    "print(len(lines))"
   ]
  },
  {
   "cell_type": "code",
   "execution_count": 19,
   "metadata": {
    "ExecuteTime": {
     "end_time": "2019-08-27T06:21:22.974169Z",
     "start_time": "2019-08-27T06:21:20.259014Z"
    }
   },
   "outputs": [],
   "source": [
    "float_data = np.zeros((len(lines), len(header) - 1))\n",
    "for i, line in enumerate(lines):\n",
    "    values = [float(x) for x in line.split(',')[1:]]\n",
    "    float_data[i, :] = values"
   ]
  },
  {
   "cell_type": "code",
   "execution_count": 21,
   "metadata": {
    "ExecuteTime": {
     "end_time": "2019-08-27T06:22:58.752647Z",
     "start_time": "2019-08-27T06:22:58.703644Z"
    }
   },
   "outputs": [],
   "source": [
    "mean = float_data[:20000].mean(axis=0)\n",
    "float_data -= mean\n",
    "std = float_data[:20000].std(axis=0)\n",
    "float_data /= std"
   ]
  },
  {
   "cell_type": "code",
   "execution_count": 24,
   "metadata": {
    "ExecuteTime": {
     "end_time": "2019-08-27T06:26:57.654312Z",
     "start_time": "2019-08-27T06:26:57.605309Z"
    }
   },
   "outputs": [],
   "source": [
    "def generator(data,\n",
    "              lookback,\n",
    "              delay,\n",
    "              min_index,\n",
    "              max_index,\n",
    "              shuffle=False,\n",
    "              batch_size=128,\n",
    "              step=6):\n",
    "    if max_index is None:\n",
    "        max_index = len(data) - delay - 1\n",
    "    i = min_index + lookback\n",
    "\n",
    "    while 1:\n",
    "        if shuffle:\n",
    "            rows = np.random.randint(min_index + lookback, max_index,\n",
    "                                     batch_size)\n",
    "        else:\n",
    "            if i + batch_size > max_index:\n",
    "                i = min_index + lookback\n",
    "            rows = np.arange(i, min(i + batch_size, max_index))\n",
    "            i += len(rows)\n",
    "#         print(rows)\n",
    "#         print(len(rows))\n",
    "\n",
    "        samples = np.zeros((len(rows), lookback // step, data.shape[-1]))\n",
    "        targets = np.zeros((len(rows), ))\n",
    "        #         print(samples.shape)\n",
    "\n",
    "        for j, row in enumerate(rows):\n",
    "            indices = range(rows[j] - lookback, rows[j], step)\n",
    "            #             print(indices)\n",
    "            samples[j] = data[indices]\n",
    "            targets[j] = data[rows[j] + delay][1]\n",
    "\n",
    "\n",
    "#             print(samples.shape)\n",
    "        yield samples, targets"
   ]
  },
  {
   "cell_type": "code",
   "execution_count": 25,
   "metadata": {
    "ExecuteTime": {
     "end_time": "2019-08-27T06:27:10.512047Z",
     "start_time": "2019-08-27T06:27:10.507047Z"
    }
   },
   "outputs": [],
   "source": [
    "lookback = 1440\n",
    "step = 6\n",
    "delay = 144\n",
    "batch_size = 128"
   ]
  },
  {
   "cell_type": "code",
   "execution_count": 26,
   "metadata": {
    "ExecuteTime": {
     "end_time": "2019-08-27T06:27:31.089224Z",
     "start_time": "2019-08-27T06:27:31.081224Z"
    }
   },
   "outputs": [],
   "source": [
    "train_gen = generator(float_data,\n",
    "                      lookback=lookback,\n",
    "                      delay=delay,\n",
    "                      min_index=0,\n",
    "                      max_index=200000,\n",
    "                      shuffle=True,\n",
    "                      step=step,\n",
    "                      batch_size=batch_size)\n",
    "val_gen = generator(\n",
    "    float_data,\n",
    "    lookback=lookback,\n",
    "    delay=delay,\n",
    "    min_index=200001,\n",
    "    max_index=300000,\n",
    "    #                       shuffle=True,\n",
    "    step=step,\n",
    "    batch_size=batch_size)"
   ]
  },
  {
   "cell_type": "code",
   "execution_count": 28,
   "metadata": {
    "ExecuteTime": {
     "end_time": "2019-08-27T06:28:30.799639Z",
     "start_time": "2019-08-27T06:28:30.795639Z"
    }
   },
   "outputs": [],
   "source": [
    "val_steps = (300000 - 200001 - lookback) // batch_size"
   ]
  },
  {
   "cell_type": "code",
   "execution_count": 23,
   "metadata": {
    "ExecuteTime": {
     "end_time": "2019-08-27T06:25:29.612276Z",
     "start_time": "2019-08-27T06:25:29.535271Z"
    }
   },
   "outputs": [],
   "source": [
    "model2 = models.Sequential()\n",
    "model2.add(\n",
    "    layers.Conv1D(32,\n",
    "                  5,\n",
    "                  activation='relu',\n",
    "                  input_shape=(None, float_data.shape[-1])))\n",
    "model2.add(layers.MaxPooling1D(3))\n",
    "model2.add(layers.Conv1D(32, 5, activation='relu'))\n",
    "model2.add(layers.MaxPooling1D(3))\n",
    "model2.add(layers.Conv1D(32, 5, activation='relu'))\n",
    "model2.add(layers.GlobalMaxPooling1D())\n",
    "model2.add(layers.Dense(1))"
   ]
  },
  {
   "cell_type": "code",
   "execution_count": 29,
   "metadata": {
    "ExecuteTime": {
     "end_time": "2019-08-27T06:39:23.958998Z",
     "start_time": "2019-08-27T06:28:32.533738Z"
    }
   },
   "outputs": [
    {
     "name": "stdout",
     "output_type": "stream",
     "text": [
      "Epoch 1/20\n",
      "500/500 [==============================] - 33s 66ms/step - loss: 0.4844 - val_loss: 0.5199\n",
      "Epoch 2/20\n",
      "500/500 [==============================] - 32s 65ms/step - loss: 0.4213 - val_loss: 0.5033\n",
      "Epoch 3/20\n",
      "500/500 [==============================] - 33s 65ms/step - loss: 0.3936 - val_loss: 0.4993\n",
      "Epoch 4/20\n",
      "500/500 [==============================] - 33s 65ms/step - loss: 0.3753 - val_loss: 0.5046\n",
      "Epoch 5/20\n",
      "500/500 [==============================] - 32s 65ms/step - loss: 0.3608 - val_loss: 0.5633\n",
      "Epoch 6/20\n",
      "500/500 [==============================] - 32s 65ms/step - loss: 0.3524 - val_loss: 0.5576\n",
      "Epoch 7/20\n",
      "500/500 [==============================] - 32s 65ms/step - loss: 0.3435 - val_loss: 0.5211\n",
      "Epoch 8/20\n",
      "500/500 [==============================] - 32s 65ms/step - loss: 0.3374 - val_loss: 0.5181\n",
      "Epoch 9/20\n",
      "500/500 [==============================] - 32s 65ms/step - loss: 0.3304 - val_loss: 0.5261\n",
      "Epoch 10/20\n",
      "500/500 [==============================] - 33s 65ms/step - loss: 0.3245 - val_loss: 0.5163\n",
      "Epoch 11/20\n",
      "500/500 [==============================] - 33s 65ms/step - loss: 0.3203 - val_loss: 0.5486\n",
      "Epoch 12/20\n",
      "500/500 [==============================] - 33s 65ms/step - loss: 0.3164 - val_loss: 0.5434\n",
      "Epoch 13/20\n",
      "500/500 [==============================] - 33s 65ms/step - loss: 0.3111 - val_loss: 0.5638\n",
      "Epoch 14/20\n",
      "500/500 [==============================] - 33s 65ms/step - loss: 0.3075 - val_loss: 0.5315\n",
      "Epoch 15/20\n",
      "500/500 [==============================] - 33s 65ms/step - loss: 0.3049 - val_loss: 0.5281\n",
      "Epoch 16/20\n",
      "500/500 [==============================] - 33s 65ms/step - loss: 0.3007 - val_loss: 0.5280\n",
      "Epoch 17/20\n",
      "500/500 [==============================] - 33s 65ms/step - loss: 0.2994 - val_loss: 0.5303\n",
      "Epoch 18/20\n",
      "500/500 [==============================] - 33s 65ms/step - loss: 0.2938 - val_loss: 0.5394\n",
      "Epoch 19/20\n",
      "500/500 [==============================] - 33s 65ms/step - loss: 0.2921 - val_loss: 0.5499\n",
      "Epoch 20/20\n",
      "500/500 [==============================] - 33s 66ms/step - loss: 0.2908 - val_loss: 0.5595\n"
     ]
    }
   ],
   "source": [
    "model2.compile(optimizer=optimizers.RMSprop(), loss='mae')\n",
    "\n",
    "history2 = model2.fit_generator(train_gen,\n",
    "                                steps_per_epoch=500,\n",
    "                                epochs=20,\n",
    "                                validation_data=val_gen,\n",
    "                                validation_steps=val_steps)"
   ]
  },
  {
   "cell_type": "code",
   "execution_count": 30,
   "metadata": {
    "ExecuteTime": {
     "end_time": "2019-08-27T07:12:08.679373Z",
     "start_time": "2019-08-27T07:12:08.672373Z"
    }
   },
   "outputs": [],
   "source": [
    "step = 3\n",
    "lookback = 720\n",
    "delay = 144"
   ]
  },
  {
   "cell_type": "code",
   "execution_count": 32,
   "metadata": {
    "ExecuteTime": {
     "end_time": "2019-08-27T07:13:35.221323Z",
     "start_time": "2019-08-27T07:13:35.207322Z"
    }
   },
   "outputs": [],
   "source": [
    "train_gen = generator(float_data,\n",
    "                      lookback=lookback,\n",
    "                      delay=delay,\n",
    "                      min_index=0,\n",
    "                      max_index=200000,\n",
    "                      shuffle=True,\n",
    "                      step=step,\n",
    "                      batch_size=batch_size)\n",
    "val_gen = generator(\n",
    "    float_data,\n",
    "    lookback=lookback,\n",
    "    delay=delay,\n",
    "    min_index=200001,\n",
    "    max_index=300000,\n",
    "    #                       shuffle=True,\n",
    "    step=step,\n",
    "    batch_size=batch_size)"
   ]
  },
  {
   "cell_type": "code",
   "execution_count": 31,
   "metadata": {
    "ExecuteTime": {
     "end_time": "2019-08-27T07:13:30.235038Z",
     "start_time": "2019-08-27T07:13:30.231038Z"
    }
   },
   "outputs": [],
   "source": [
    "val_steps = (300000 - 200001 - lookback) // batch_size"
   ]
  },
  {
   "cell_type": "code",
   "execution_count": 33,
   "metadata": {
    "ExecuteTime": {
     "end_time": "2019-08-27T07:14:45.910366Z",
     "start_time": "2019-08-27T07:14:45.885365Z"
    }
   },
   "outputs": [
    {
     "data": {
      "text/plain": [
       "(420551, 14)"
      ]
     },
     "execution_count": 33,
     "metadata": {},
     "output_type": "execute_result"
    }
   ],
   "source": [
    "float_data.shape"
   ]
  },
  {
   "cell_type": "code",
   "execution_count": 37,
   "metadata": {
    "ExecuteTime": {
     "end_time": "2019-08-27T07:17:50.387918Z",
     "start_time": "2019-08-27T07:17:50.180906Z"
    }
   },
   "outputs": [
    {
     "name": "stdout",
     "output_type": "stream",
     "text": [
      "_________________________________________________________________\n",
      "Layer (type)                 Output Shape              Param #   \n",
      "=================================================================\n",
      "conv1d_9 (Conv1D)            (None, None, 32)          2272      \n",
      "_________________________________________________________________\n",
      "max_pooling1d_6 (MaxPooling1 (None, None, 32)          0         \n",
      "_________________________________________________________________\n",
      "conv1d_10 (Conv1D)           (None, None, 32)          5152      \n",
      "_________________________________________________________________\n",
      "gru_1 (GRU)                  (None, 32)                6240      \n",
      "_________________________________________________________________\n",
      "dense_3 (Dense)              (None, 1)                 33        \n",
      "=================================================================\n",
      "Total params: 13,697\n",
      "Trainable params: 13,697\n",
      "Non-trainable params: 0\n",
      "_________________________________________________________________\n"
     ]
    }
   ],
   "source": [
    "model3=models.Sequential()\n",
    "model3.add(layers.Conv1D(32,5,activation='relu',\n",
    "                        input_shape=(None,float_data.shape[-1])))\n",
    "model3.add(layers.MaxPooling1D(3))\n",
    "model3.add(layers.Conv1D(32,5,activation='relu'))\n",
    "model3.add(layers.GRU(32,dropout=0.1,recurrent_dropout=0.5))\n",
    "model3.add(layers.Dense(1))\n",
    "model3.summary()"
   ]
  },
  {
   "cell_type": "code",
   "execution_count": 40,
   "metadata": {
    "ExecuteTime": {
     "end_time": "2019-08-27T07:38:55.688289Z",
     "start_time": "2019-08-27T07:19:50.010760Z"
    }
   },
   "outputs": [
    {
     "name": "stdout",
     "output_type": "stream",
     "text": [
      "Epoch 1/20\n",
      "500/500 [==============================] - 55s 109ms/step - loss: 0.3873 - val_loss: 0.3257\n",
      "Epoch 2/20\n",
      "500/500 [==============================] - 56s 111ms/step - loss: 0.3472 - val_loss: 0.3163\n",
      "Epoch 3/20\n",
      "500/500 [==============================] - 57s 114ms/step - loss: 0.3369 - val_loss: 0.3175\n",
      "Epoch 4/20\n",
      "500/500 [==============================] - 75s 151ms/step - loss: 0.3274 - val_loss: 0.3138\n",
      "Epoch 5/20\n",
      "500/500 [==============================] - 58s 116ms/step - loss: 0.3178 - val_loss: 0.3237\n",
      "Epoch 6/20\n",
      "500/500 [==============================] - 62s 124ms/step - loss: 0.3125 - val_loss: 0.3179\n",
      "Epoch 7/20\n",
      "500/500 [==============================] - 60s 121ms/step - loss: 0.3056 - val_loss: 0.3218\n",
      "Epoch 8/20\n",
      "500/500 [==============================] - 61s 122ms/step - loss: 0.3007 - val_loss: 0.3204\n",
      "Epoch 9/20\n",
      "500/500 [==============================] - 62s 124ms/step - loss: 0.2961 - val_loss: 0.3253\n",
      "Epoch 10/20\n",
      "500/500 [==============================] - 57s 114ms/step - loss: 0.2902 - val_loss: 0.3273\n",
      "Epoch 11/20\n",
      "500/500 [==============================] - 52s 104ms/step - loss: 0.2866 - val_loss: 0.3241\n",
      "Epoch 12/20\n",
      "500/500 [==============================] - 52s 103ms/step - loss: 0.2812 - val_loss: 0.3272\n",
      "Epoch 13/20\n",
      "500/500 [==============================] - 59s 118ms/step - loss: 0.2777 - val_loss: 0.3314\n",
      "Epoch 14/20\n",
      "500/500 [==============================] - 56s 112ms/step - loss: 0.2764 - val_loss: 0.3397\n",
      "Epoch 15/20\n",
      "500/500 [==============================] - 55s 109ms/step - loss: 0.2717 - val_loss: 0.3409\n",
      "Epoch 16/20\n",
      "500/500 [==============================] - 54s 108ms/step - loss: 0.2702 - val_loss: 0.3387\n",
      "Epoch 17/20\n",
      "500/500 [==============================] - 54s 108ms/step - loss: 0.2676 - val_loss: 0.3402\n",
      "Epoch 18/20\n",
      "500/500 [==============================] - 54s 107ms/step - loss: 0.2651 - val_loss: 0.3384\n",
      "Epoch 19/20\n",
      "500/500 [==============================] - 54s 107ms/step - loss: 0.2621 - val_loss: 0.3394\n",
      "Epoch 20/20\n",
      "500/500 [==============================] - 54s 108ms/step - loss: 0.2592 - val_loss: 0.3428\n"
     ]
    }
   ],
   "source": [
    "model3.compile(optimizer=optimizers.RMSprop(),loss='mae')\n",
    "history3=model3.fit_generator(train_gen,\n",
    "                             steps_per_epoch=500,\n",
    "                             epochs=20,\n",
    "                             validation_data=val_gen,\n",
    "                             validation_steps=val_steps)"
   ]
  },
  {
   "cell_type": "code",
   "execution_count": null,
   "metadata": {},
   "outputs": [],
   "source": []
  }
 ],
 "metadata": {
  "kernelspec": {
   "display_name": "Python 3",
   "language": "python",
   "name": "python3"
  },
  "language_info": {
   "codemirror_mode": {
    "name": "ipython",
    "version": 3
   },
   "file_extension": ".py",
   "mimetype": "text/x-python",
   "name": "python",
   "nbconvert_exporter": "python",
   "pygments_lexer": "ipython3",
   "version": "3.6.3"
  }
 },
 "nbformat": 4,
 "nbformat_minor": 2
}
