{
 "cells": [
  {
   "cell_type": "code",
   "execution_count": null,
   "metadata": {
    "ExecuteTime": {
     "end_time": "2019-08-26T07:23:36.127896Z",
     "start_time": "2019-08-26T07:23:21.744073Z"
    }
   },
   "outputs": [],
   "source": [
    "import numpy as np\n",
    "import pandas as pd\n",
    "import os\n",
    "import keras\n",
    "from keras import models, layers"
   ]
  },
  {
   "cell_type": "code",
   "execution_count": null,
   "metadata": {
    "ExecuteTime": {
     "end_time": "2019-08-26T07:23:36.734931Z",
     "start_time": "2019-08-26T07:23:36.130896Z"
    }
   },
   "outputs": [],
   "source": [
    "data_dir = 'F:\\study\\ml\\DataSet\\jena_climate'\n",
    "fname = os.path.join(data_dir, 'jena_climate_2009_2016.csv')\n",
    "\n",
    "f = open(fname)\n",
    "data = f.read()\n",
    "f.close()"
   ]
  },
  {
   "cell_type": "code",
   "execution_count": 3,
   "metadata": {
    "ExecuteTime": {
     "end_time": "2019-08-26T07:23:45.397426Z",
     "start_time": "2019-08-26T07:23:45.313421Z"
    }
   },
   "outputs": [
    {
     "name": "stdout",
     "output_type": "stream",
     "text": [
      "['\"Date Time\"', '\"p (mbar)\"', '\"T (degC)\"', '\"Tpot (K)\"', '\"Tdew (degC)\"', '\"rh (%)\"', '\"VPmax (mbar)\"', '\"VPact (mbar)\"', '\"VPdef (mbar)\"', '\"sh (g/kg)\"', '\"H2OC (mmol/mol)\"', '\"rho (g/m**3)\"', '\"wv (m/s)\"', '\"max. wv (m/s)\"', '\"wd (deg)\"']\n",
      "420551\n"
     ]
    }
   ],
   "source": [
    "lines = data.split('\\n')\n",
    "header = lines[0].split(',')\n",
    "lines = lines[1:]\n",
    "print(header)\n",
    "print(len(lines))"
   ]
  },
  {
   "cell_type": "code",
   "execution_count": 4,
   "metadata": {
    "ExecuteTime": {
     "end_time": "2019-08-26T07:23:48.741617Z",
     "start_time": "2019-08-26T07:23:46.069464Z"
    }
   },
   "outputs": [],
   "source": [
    "float_data = np.zeros((len(lines), len(header) - 1))\n",
    "for i, line in enumerate(lines):\n",
    "    values = [float(x) for x in line.split(',')[1:]]\n",
    "    float_data[i, :] = values"
   ]
  },
  {
   "cell_type": "code",
   "execution_count": 5,
   "metadata": {
    "ExecuteTime": {
     "end_time": "2019-08-26T07:23:48.777619Z",
     "start_time": "2019-08-26T07:23:48.743617Z"
    }
   },
   "outputs": [],
   "source": [
    "mean = float_data[:20000].mean(axis=0)\n",
    "float_data -= mean\n",
    "std = float_data[:20000].std(axis=0)\n",
    "float_data /= std"
   ]
  },
  {
   "cell_type": "code",
   "execution_count": 6,
   "metadata": {
    "ExecuteTime": {
     "end_time": "2019-08-26T07:23:49.727674Z",
     "start_time": "2019-08-26T07:23:49.700672Z"
    }
   },
   "outputs": [
    {
     "data": {
      "text/plain": [
       "(420551, 14)"
      ]
     },
     "execution_count": 6,
     "metadata": {},
     "output_type": "execute_result"
    }
   ],
   "source": [
    "float_data.shape"
   ]
  },
  {
   "cell_type": "code",
   "execution_count": 15,
   "metadata": {
    "ExecuteTime": {
     "end_time": "2019-08-26T07:26:39.877406Z",
     "start_time": "2019-08-26T07:26:39.822403Z"
    }
   },
   "outputs": [],
   "source": [
    "def generator(data,\n",
    "              lookback,\n",
    "              delay,\n",
    "              min_index,\n",
    "              max_index,\n",
    "              shuffle=False,\n",
    "              batch_size=128,\n",
    "              step=6):\n",
    "    if max_index is None:\n",
    "        max_index = len(data) - delay - 1\n",
    "    i = min_index + lookback\n",
    "\n",
    "    while 1:\n",
    "        if shuffle:\n",
    "            rows = np.random.randint(min_index + lookback, max_index,\n",
    "                                     batch_size)\n",
    "        else:\n",
    "            if i + batch_size > max_index:\n",
    "                i = min_index + lookback\n",
    "            rows = np.arange(i, min(i + batch_size, max_index))\n",
    "            i += len(rows)\n",
    "#         print(rows)\n",
    "#         print(len(rows))\n",
    "\n",
    "        samples = np.zeros((len(rows), lookback // step, data.shape[-1]))\n",
    "        targets = np.zeros((len(rows), ))\n",
    "        #         print(samples.shape)\n",
    "\n",
    "        for j, row in enumerate(rows):\n",
    "            indices = range(rows[j] - lookback, rows[j], step)\n",
    "            #             print(indices)\n",
    "            samples[j] = data[indices]\n",
    "            targets[j] = data[rows[j] + delay][1]\n",
    "\n",
    "\n",
    "#             print(samples.shape)\n",
    "        yield samples, targets"
   ]
  },
  {
   "cell_type": "code",
   "execution_count": 16,
   "metadata": {
    "ExecuteTime": {
     "end_time": "2019-08-26T07:26:40.504442Z",
     "start_time": "2019-08-26T07:26:40.495441Z"
    }
   },
   "outputs": [],
   "source": [
    "lookback = 1440\n",
    "step = 6\n",
    "delay = 144\n",
    "batch_size = 128"
   ]
  },
  {
   "cell_type": "code",
   "execution_count": 17,
   "metadata": {
    "ExecuteTime": {
     "end_time": "2019-08-26T07:26:40.977469Z",
     "start_time": "2019-08-26T07:26:40.970468Z"
    }
   },
   "outputs": [],
   "source": [
    "train_gen = generator(float_data,\n",
    "                      lookback=lookback,\n",
    "                      delay=delay,\n",
    "                      min_index=0,\n",
    "                      max_index=200000,\n",
    "                      shuffle=True,\n",
    "                      step=step,\n",
    "                      batch_size=batch_size)"
   ]
  },
  {
   "cell_type": "code",
   "execution_count": 18,
   "metadata": {
    "ExecuteTime": {
     "end_time": "2019-08-26T07:26:41.466497Z",
     "start_time": "2019-08-26T07:26:41.461496Z"
    }
   },
   "outputs": [],
   "source": [
    "# next(train_gen)"
   ]
  },
  {
   "cell_type": "code",
   "execution_count": 19,
   "metadata": {
    "ExecuteTime": {
     "end_time": "2019-08-26T07:26:42.034529Z",
     "start_time": "2019-08-26T07:26:42.023528Z"
    }
   },
   "outputs": [],
   "source": [
    "val_gen = generator(\n",
    "    float_data,\n",
    "    lookback=lookback,\n",
    "    delay=delay,\n",
    "    min_index=200001,\n",
    "    max_index=300000,\n",
    "    #                       shuffle=True,\n",
    "    step=step,\n",
    "    batch_size=batch_size)"
   ]
  },
  {
   "cell_type": "code",
   "execution_count": 20,
   "metadata": {
    "ExecuteTime": {
     "end_time": "2019-08-26T07:26:42.557559Z",
     "start_time": "2019-08-26T07:26:42.552559Z"
    }
   },
   "outputs": [],
   "source": [
    "val_steps = (300000 - 200001 - lookback) // batch_size"
   ]
  },
  {
   "cell_type": "code",
   "execution_count": 21,
   "metadata": {
    "ExecuteTime": {
     "end_time": "2019-08-26T07:26:43.058588Z",
     "start_time": "2019-08-26T07:26:43.048587Z"
    }
   },
   "outputs": [],
   "source": [
    "def evaluate_naive_method():\n",
    "    batch_maes = []\n",
    "    for step in range(val_steps):\n",
    "        samples, targets = next(val_gen)\n",
    "        preds = samples[:, -1, 1]\n",
    "        mae = np.mean(np.abs(preds - targets))\n",
    "        batch_maes.append(mae)\n",
    "    print(np.mean(batch_maes))"
   ]
  },
  {
   "cell_type": "code",
   "execution_count": 22,
   "metadata": {
    "ExecuteTime": {
     "end_time": "2019-08-26T07:26:52.496127Z",
     "start_time": "2019-08-26T07:26:47.403836Z"
    }
   },
   "outputs": [
    {
     "name": "stdout",
     "output_type": "stream",
     "text": [
      "0.33551756286169604\n"
     ]
    }
   ],
   "source": [
    "evaluate_naive_method()"
   ]
  },
  {
   "cell_type": "code",
   "execution_count": 23,
   "metadata": {
    "ExecuteTime": {
     "end_time": "2019-08-26T08:30:54.931902Z",
     "start_time": "2019-08-26T08:30:54.927902Z"
    }
   },
   "outputs": [],
   "source": [
    "from keras import models, layers, optimizers"
   ]
  },
  {
   "cell_type": "code",
   "execution_count": 24,
   "metadata": {
    "ExecuteTime": {
     "end_time": "2019-08-26T08:32:18.098659Z",
     "start_time": "2019-08-26T08:32:18.049656Z"
    }
   },
   "outputs": [],
   "source": [
    "model = models.Sequential()\n",
    "model.add(layers.Flatten(input_shape=(lookback // step, float_data.shape[-1])))\n",
    "model.add(layers.Dense(32, activation='relu'))\n",
    "model.add(layers.Dense(1))"
   ]
  },
  {
   "cell_type": "code",
   "execution_count": 25,
   "metadata": {
    "ExecuteTime": {
     "end_time": "2019-08-26T08:38:13.547990Z",
     "start_time": "2019-08-26T08:34:39.149727Z"
    }
   },
   "outputs": [
    {
     "name": "stdout",
     "output_type": "stream",
     "text": [
      "Epoch 1/20\n",
      "500/500 [==============================] - 11s 22ms/step - loss: 1.4615 - val_loss: 0.7871\n",
      "Epoch 2/20\n",
      "500/500 [==============================] - 11s 22ms/step - loss: 0.4892 - val_loss: 0.4033\n",
      "Epoch 3/20\n",
      "500/500 [==============================] - 11s 21ms/step - loss: 0.3409 - val_loss: 0.4125\n",
      "Epoch 4/20\n",
      "500/500 [==============================] - 11s 21ms/step - loss: 0.3018 - val_loss: 0.3961\n",
      "Epoch 5/20\n",
      "500/500 [==============================] - 11s 21ms/step - loss: 0.2848 - val_loss: 0.3653\n",
      "Epoch 6/20\n",
      "500/500 [==============================] - 11s 21ms/step - loss: 0.2729 - val_loss: 0.3872\n",
      "Epoch 7/20\n",
      "500/500 [==============================] - 11s 21ms/step - loss: 0.2659 - val_loss: 0.3758\n",
      "Epoch 8/20\n",
      "500/500 [==============================] - 11s 21ms/step - loss: 0.2580 - val_loss: 0.4109\n",
      "Epoch 9/20\n",
      "500/500 [==============================] - 11s 21ms/step - loss: 0.2522 - val_loss: 0.3944\n",
      "Epoch 10/20\n",
      "500/500 [==============================] - 11s 21ms/step - loss: 0.2484 - val_loss: 0.3897\n",
      "Epoch 11/20\n",
      "500/500 [==============================] - 11s 21ms/step - loss: 0.2428 - val_loss: 0.3888\n",
      "Epoch 12/20\n",
      "500/500 [==============================] - 11s 21ms/step - loss: 0.2383 - val_loss: 0.3889\n",
      "Epoch 13/20\n",
      "500/500 [==============================] - 11s 21ms/step - loss: 0.2355 - val_loss: 0.3910\n",
      "Epoch 14/20\n",
      "500/500 [==============================] - 11s 21ms/step - loss: 0.2316 - val_loss: 0.4199\n",
      "Epoch 15/20\n",
      "500/500 [==============================] - 11s 21ms/step - loss: 0.2288 - val_loss: 0.4223\n",
      "Epoch 16/20\n",
      "500/500 [==============================] - 11s 22ms/step - loss: 0.2244 - val_loss: 0.4068\n",
      "Epoch 17/20\n",
      "500/500 [==============================] - 11s 21ms/step - loss: 0.2228 - val_loss: 0.4205\n",
      "Epoch 18/20\n",
      "500/500 [==============================] - 11s 21ms/step - loss: 0.2202 - val_loss: 0.4777\n",
      "Epoch 19/20\n",
      "500/500 [==============================] - 11s 21ms/step - loss: 0.2173 - val_loss: 0.4312\n",
      "Epoch 20/20\n",
      "500/500 [==============================] - 11s 21ms/step - loss: 0.2152 - val_loss: 0.4245\n"
     ]
    }
   ],
   "source": [
    "model.compile(optimizer=optimizers.rmsprop(), loss='mae')\n",
    "history = model.fit_generator(train_gen,\n",
    "                              steps_per_epoch=500,\n",
    "                              epochs=20,\n",
    "                              validation_data=val_gen,\n",
    "                              validation_steps=val_steps)"
   ]
  },
  {
   "cell_type": "code",
   "execution_count": 28,
   "metadata": {
    "ExecuteTime": {
     "end_time": "2019-08-26T08:41:08.688007Z",
     "start_time": "2019-08-26T08:41:08.558000Z"
    }
   },
   "outputs": [],
   "source": [
    "model2 = models.Sequential()\n",
    "model2.add(layers.GRU(32, input_shape=(None, float_data.shape[-1])))\n",
    "model2.add(layers.Dense(1))"
   ]
  },
  {
   "cell_type": "code",
   "execution_count": 29,
   "metadata": {
    "ExecuteTime": {
     "end_time": "2019-08-26T09:02:47.736308Z",
     "start_time": "2019-08-26T08:41:09.624061Z"
    }
   },
   "outputs": [
    {
     "name": "stdout",
     "output_type": "stream",
     "text": [
      "Epoch 1/20\n",
      "500/500 [==============================] - 59s 117ms/step - loss: 0.3678 - val_loss: 0.3180\n",
      "Epoch 2/20\n",
      "500/500 [==============================] - 65s 129ms/step - loss: 0.3285 - val_loss: 0.3090\n",
      "Epoch 3/20\n",
      "500/500 [==============================] - 72s 143ms/step - loss: 0.3183 - val_loss: 0.3081\n",
      "Epoch 4/20\n",
      "500/500 [==============================] - 70s 141ms/step - loss: 0.3070 - val_loss: 0.3113\n",
      "Epoch 5/20\n",
      "500/500 [==============================] - 66s 132ms/step - loss: 0.3028 - val_loss: 0.3192\n",
      "Epoch 6/20\n",
      "500/500 [==============================] - 80s 160ms/step - loss: 0.2971 - val_loss: 0.3235\n",
      "Epoch 7/20\n",
      "500/500 [==============================] - 59s 117ms/step - loss: 0.2918 - val_loss: 0.3218\n",
      "Epoch 8/20\n",
      "500/500 [==============================] - 65s 129ms/step - loss: 0.2853 - val_loss: 0.3284\n",
      "Epoch 9/20\n",
      "500/500 [==============================] - 59s 119ms/step - loss: 0.2808 - val_loss: 0.3304\n",
      "Epoch 10/20\n",
      "500/500 [==============================] - 64s 128ms/step - loss: 0.2765 - val_loss: 0.3437\n",
      "Epoch 11/20\n",
      "500/500 [==============================] - 63s 125ms/step - loss: 0.2718 - val_loss: 0.3376\n",
      "Epoch 12/20\n",
      "500/500 [==============================] - 65s 130ms/step - loss: 0.2683 - val_loss: 0.3453\n",
      "Epoch 13/20\n",
      "500/500 [==============================] - 61s 121ms/step - loss: 0.2633 - val_loss: 0.3423\n",
      "Epoch 14/20\n",
      "500/500 [==============================] - 63s 126ms/step - loss: 0.2596 - val_loss: 0.3476\n",
      "Epoch 15/20\n",
      "500/500 [==============================] - 63s 126ms/step - loss: 0.2583 - val_loss: 0.3559\n",
      "Epoch 16/20\n",
      "500/500 [==============================] - 69s 138ms/step - loss: 0.2537 - val_loss: 0.3556\n",
      "Epoch 17/20\n",
      "500/500 [==============================] - 70s 140ms/step - loss: 0.2505 - val_loss: 0.3563\n",
      "Epoch 18/20\n",
      "500/500 [==============================] - 62s 124ms/step - loss: 0.2469 - val_loss: 0.3543\n",
      "Epoch 19/20\n",
      "500/500 [==============================] - 61s 123ms/step - loss: 0.2436 - val_loss: 0.3599\n",
      "Epoch 20/20\n",
      "500/500 [==============================] - 63s 127ms/step - loss: 0.2416 - val_loss: 0.3621\n"
     ]
    }
   ],
   "source": [
    "model2.compile(optimizer=optimizers.rmsprop(), loss='mae')\n",
    "history = model2.fit_generator(train_gen,\n",
    "                               steps_per_epoch=500,\n",
    "                               epochs=20,\n",
    "                               validation_data=val_gen,\n",
    "                               validation_steps=val_steps)"
   ]
  },
  {
   "cell_type": "code",
   "execution_count": 31,
   "metadata": {
    "ExecuteTime": {
     "end_time": "2019-08-26T09:13:08.267801Z",
     "start_time": "2019-08-26T09:13:08.107792Z"
    }
   },
   "outputs": [],
   "source": [
    "model3 = models.Sequential()\n",
    "model3.add(\n",
    "    layers.GRU(32,\n",
    "               dropout=0.2,\n",
    "               recurrent_dropout=0.2,\n",
    "               input_shape=(None, float_data.shape[-1])))\n",
    "model3.add(layers.Dense(1))"
   ]
  },
  {
   "cell_type": "code",
   "execution_count": 32,
   "metadata": {
    "ExecuteTime": {
     "end_time": "2019-08-26T09:36:10.560863Z",
     "start_time": "2019-08-26T09:13:19.127422Z"
    }
   },
   "outputs": [
    {
     "name": "stdout",
     "output_type": "stream",
     "text": [
      "Epoch 1/20\n",
      "500/500 [==============================] - 71s 141ms/step - loss: 0.3856 - val_loss: 0.3261\n",
      "Epoch 2/20\n",
      "500/500 [==============================] - 70s 139ms/step - loss: 0.3653 - val_loss: 0.3207\n",
      "Epoch 3/20\n",
      "500/500 [==============================] - 66s 132ms/step - loss: 0.3566 - val_loss: 0.3193\n",
      "Epoch 4/20\n",
      "500/500 [==============================] - 66s 132ms/step - loss: 0.3509 - val_loss: 0.3125\n",
      "Epoch 5/20\n",
      "500/500 [==============================] - 66s 131ms/step - loss: 0.3466 - val_loss: 0.3161\n",
      "Epoch 6/20\n",
      "500/500 [==============================] - 66s 131ms/step - loss: 0.3410 - val_loss: 0.3119\n",
      "Epoch 7/20\n",
      "500/500 [==============================] - 66s 131ms/step - loss: 0.3402 - val_loss: 0.3160\n",
      "Epoch 8/20\n",
      "500/500 [==============================] - 66s 131ms/step - loss: 0.3357 - val_loss: 0.3126\n",
      "Epoch 9/20\n",
      "500/500 [==============================] - 65s 131ms/step - loss: 0.3322 - val_loss: 0.3199\n",
      "Epoch 10/20\n",
      "500/500 [==============================] - 66s 132ms/step - loss: 0.3304 - val_loss: 0.3129\n",
      "Epoch 11/20\n",
      "500/500 [==============================] - 73s 147ms/step - loss: 0.3274 - val_loss: 0.3202\n",
      "Epoch 12/20\n",
      "500/500 [==============================] - 67s 135ms/step - loss: 0.3248 - val_loss: 0.3213\n",
      "Epoch 13/20\n",
      "500/500 [==============================] - 69s 138ms/step - loss: 0.3230 - val_loss: 0.3116\n",
      "Epoch 14/20\n",
      "500/500 [==============================] - 68s 135ms/step - loss: 0.3212 - val_loss: 0.3139\n",
      "Epoch 15/20\n",
      "500/500 [==============================] - 71s 143ms/step - loss: 0.3201 - val_loss: 0.3120\n",
      "Epoch 16/20\n",
      "500/500 [==============================] - 71s 142ms/step - loss: 0.3197 - val_loss: 0.3089\n",
      "Epoch 17/20\n",
      "500/500 [==============================] - 69s 138ms/step - loss: 0.3188 - val_loss: 0.3147\n",
      "Epoch 18/20\n",
      "500/500 [==============================] - 71s 142ms/step - loss: 0.3175 - val_loss: 0.3131\n",
      "Epoch 19/20\n",
      "500/500 [==============================] - 72s 144ms/step - loss: 0.3162 - val_loss: 0.3136\n",
      "Epoch 20/20\n",
      "500/500 [==============================] - 73s 146ms/step - loss: 0.3162 - val_loss: 0.3136\n"
     ]
    }
   ],
   "source": [
    "model3.compile(optimizer=optimizers.rmsprop(), loss='mae')\n",
    "history = model3.fit_generator(train_gen,\n",
    "                               steps_per_epoch=500,\n",
    "                               epochs=20,\n",
    "                               validation_data=val_gen,\n",
    "                               validation_steps=val_steps)"
   ]
  },
  {
   "cell_type": "code",
   "execution_count": 33,
   "metadata": {
    "ExecuteTime": {
     "end_time": "2019-08-27T01:24:25.159048Z",
     "start_time": "2019-08-27T01:24:24.829029Z"
    }
   },
   "outputs": [],
   "source": [
    "model4 = models.Sequential()\n",
    "model4.add(\n",
    "    layers.GRU(32,\n",
    "               dropout=0.1,\n",
    "               recurrent_dropout=0.5,\n",
    "               return_sequences=True,\n",
    "               input_shape=(None, float_data.shape[-1])))\n",
    "model4.add(\n",
    "    layers.GRU(64, activation='relu', dropout=0.1, recurrent_dropout=0.5))\n",
    "model4.add(layers.Dense(1))"
   ]
  },
  {
   "cell_type": "code",
   "execution_count": 34,
   "metadata": {
    "ExecuteTime": {
     "end_time": "2019-08-27T02:24:21.140727Z",
     "start_time": "2019-08-27T01:24:43.997126Z"
    }
   },
   "outputs": [
    {
     "name": "stdout",
     "output_type": "stream",
     "text": [
      "Epoch 1/20\n",
      "500/500 [==============================] - 181s 362ms/step - loss: 0.3843 - val_loss: 0.3377\n",
      "Epoch 2/20\n",
      "500/500 [==============================] - 178s 356ms/step - loss: 0.3599 - val_loss: 0.3266\n",
      "Epoch 3/20\n",
      "500/500 [==============================] - 176s 351ms/step - loss: 0.3567 - val_loss: 0.3148\n",
      "Epoch 4/20\n",
      "500/500 [==============================] - 176s 351ms/step - loss: 0.3484 - val_loss: 0.3214\n",
      "Epoch 5/20\n",
      "500/500 [==============================] - 176s 352ms/step - loss: 0.3451 - val_loss: 0.3415\n",
      "Epoch 6/20\n",
      "500/500 [==============================] - 176s 352ms/step - loss: 0.3402 - val_loss: 0.3105\n",
      "Epoch 7/20\n",
      "500/500 [==============================] - 176s 353ms/step - loss: 0.3376 - val_loss: 0.3194\n",
      "Epoch 8/20\n",
      "500/500 [==============================] - 176s 352ms/step - loss: 0.3347 - val_loss: 0.3185\n",
      "Epoch 9/20\n",
      "500/500 [==============================] - 176s 352ms/step - loss: 0.3325 - val_loss: 0.3274\n",
      "Epoch 10/20\n",
      "500/500 [==============================] - 176s 352ms/step - loss: 0.3252 - val_loss: 0.3205\n",
      "Epoch 11/20\n",
      "500/500 [==============================] - 176s 352ms/step - loss: 0.3271 - val_loss: 0.3355\n",
      "Epoch 12/20\n",
      "500/500 [==============================] - 177s 354ms/step - loss: 0.3220 - val_loss: 0.3386\n",
      "Epoch 13/20\n",
      "500/500 [==============================] - 179s 357ms/step - loss: 0.3208 - val_loss: 0.3217\n",
      "Epoch 14/20\n",
      "500/500 [==============================] - 180s 360ms/step - loss: 0.3198 - val_loss: 0.3207\n",
      "Epoch 15/20\n",
      "500/500 [==============================] - 186s 372ms/step - loss: 0.3184 - val_loss: 0.3115\n",
      "Epoch 16/20\n",
      "500/500 [==============================] - 193s 385ms/step - loss: 0.3160 - val_loss: 0.3152\n",
      "Epoch 17/20\n",
      "500/500 [==============================] - 179s 357ms/step - loss: 0.3151 - val_loss: 0.3245\n",
      "Epoch 18/20\n",
      "500/500 [==============================] - 179s 359ms/step - loss: 0.3131 - val_loss: 0.3283\n",
      "Epoch 19/20\n",
      "500/500 [==============================] - 182s 364ms/step - loss: 0.3119 - val_loss: 0.3260\n",
      "Epoch 20/20\n",
      "500/500 [==============================] - 179s 358ms/step - loss: 0.3091 - val_loss: 0.3208\n"
     ]
    }
   ],
   "source": [
    "model4.compile(optimizer=optimizers.rmsprop(), loss='mae')\n",
    "history = model4.fit_generator(train_gen,\n",
    "                               steps_per_epoch=500,\n",
    "                               epochs=20,\n",
    "                               validation_data=val_gen,\n",
    "                               validation_steps=val_steps)"
   ]
  },
  {
   "cell_type": "markdown",
   "metadata": {
    "ExecuteTime": {
     "end_time": "2019-08-27T02:24:33.465432Z",
     "start_time": "2019-08-27T02:24:33.458431Z"
    }
   },
   "source": [
    "reverse ltsm imdb"
   ]
  },
  {
   "cell_type": "code",
   "execution_count": 36,
   "metadata": {
    "ExecuteTime": {
     "end_time": "2019-08-27T02:24:59.867942Z",
     "start_time": "2019-08-27T02:24:59.860941Z"
    }
   },
   "outputs": [],
   "source": [
    "from keras.datasets import imdb"
   ]
  },
  {
   "cell_type": "code",
   "execution_count": 38,
   "metadata": {
    "ExecuteTime": {
     "end_time": "2019-08-27T02:28:56.417472Z",
     "start_time": "2019-08-27T02:28:52.524249Z"
    }
   },
   "outputs": [],
   "source": [
    "max_features = 10000\n",
    "maxlen = 500\n",
    "\n",
    "(x_train, y_train), (x_test, y_test) = imdb.load_data(num_words=max_features)"
   ]
  },
  {
   "cell_type": "code",
   "execution_count": 40,
   "metadata": {
    "ExecuteTime": {
     "end_time": "2019-08-27T02:31:00.546571Z",
     "start_time": "2019-08-27T02:31:00.538571Z"
    }
   },
   "outputs": [
    {
     "data": {
      "text/plain": [
       "list"
      ]
     },
     "execution_count": 40,
     "metadata": {},
     "output_type": "execute_result"
    }
   ],
   "source": [
    "type(x_train[0])"
   ]
  },
  {
   "cell_type": "code",
   "execution_count": 39,
   "metadata": {
    "ExecuteTime": {
     "end_time": "2019-08-27T02:29:01.918786Z",
     "start_time": "2019-08-27T02:29:01.901785Z"
    }
   },
   "outputs": [
    {
     "data": {
      "text/plain": [
       "[1,\n",
       " 14,\n",
       " 22,\n",
       " 16,\n",
       " 43,\n",
       " 530,\n",
       " 973,\n",
       " 1622,\n",
       " 1385,\n",
       " 65,\n",
       " 458,\n",
       " 4468,\n",
       " 66,\n",
       " 3941,\n",
       " 4,\n",
       " 173,\n",
       " 36,\n",
       " 256,\n",
       " 5,\n",
       " 25,\n",
       " 100,\n",
       " 43,\n",
       " 838,\n",
       " 112,\n",
       " 50,\n",
       " 670,\n",
       " 2,\n",
       " 9,\n",
       " 35,\n",
       " 480,\n",
       " 284,\n",
       " 5,\n",
       " 150,\n",
       " 4,\n",
       " 172,\n",
       " 112,\n",
       " 167,\n",
       " 2,\n",
       " 336,\n",
       " 385,\n",
       " 39,\n",
       " 4,\n",
       " 172,\n",
       " 4536,\n",
       " 1111,\n",
       " 17,\n",
       " 546,\n",
       " 38,\n",
       " 13,\n",
       " 447,\n",
       " 4,\n",
       " 192,\n",
       " 50,\n",
       " 16,\n",
       " 6,\n",
       " 147,\n",
       " 2025,\n",
       " 19,\n",
       " 14,\n",
       " 22,\n",
       " 4,\n",
       " 1920,\n",
       " 4613,\n",
       " 469,\n",
       " 4,\n",
       " 22,\n",
       " 71,\n",
       " 87,\n",
       " 12,\n",
       " 16,\n",
       " 43,\n",
       " 530,\n",
       " 38,\n",
       " 76,\n",
       " 15,\n",
       " 13,\n",
       " 1247,\n",
       " 4,\n",
       " 22,\n",
       " 17,\n",
       " 515,\n",
       " 17,\n",
       " 12,\n",
       " 16,\n",
       " 626,\n",
       " 18,\n",
       " 2,\n",
       " 5,\n",
       " 62,\n",
       " 386,\n",
       " 12,\n",
       " 8,\n",
       " 316,\n",
       " 8,\n",
       " 106,\n",
       " 5,\n",
       " 4,\n",
       " 2223,\n",
       " 5244,\n",
       " 16,\n",
       " 480,\n",
       " 66,\n",
       " 3785,\n",
       " 33,\n",
       " 4,\n",
       " 130,\n",
       " 12,\n",
       " 16,\n",
       " 38,\n",
       " 619,\n",
       " 5,\n",
       " 25,\n",
       " 124,\n",
       " 51,\n",
       " 36,\n",
       " 135,\n",
       " 48,\n",
       " 25,\n",
       " 1415,\n",
       " 33,\n",
       " 6,\n",
       " 22,\n",
       " 12,\n",
       " 215,\n",
       " 28,\n",
       " 77,\n",
       " 52,\n",
       " 5,\n",
       " 14,\n",
       " 407,\n",
       " 16,\n",
       " 82,\n",
       " 2,\n",
       " 8,\n",
       " 4,\n",
       " 107,\n",
       " 117,\n",
       " 5952,\n",
       " 15,\n",
       " 256,\n",
       " 4,\n",
       " 2,\n",
       " 7,\n",
       " 3766,\n",
       " 5,\n",
       " 723,\n",
       " 36,\n",
       " 71,\n",
       " 43,\n",
       " 530,\n",
       " 476,\n",
       " 26,\n",
       " 400,\n",
       " 317,\n",
       " 46,\n",
       " 7,\n",
       " 4,\n",
       " 2,\n",
       " 1029,\n",
       " 13,\n",
       " 104,\n",
       " 88,\n",
       " 4,\n",
       " 381,\n",
       " 15,\n",
       " 297,\n",
       " 98,\n",
       " 32,\n",
       " 2071,\n",
       " 56,\n",
       " 26,\n",
       " 141,\n",
       " 6,\n",
       " 194,\n",
       " 7486,\n",
       " 18,\n",
       " 4,\n",
       " 226,\n",
       " 22,\n",
       " 21,\n",
       " 134,\n",
       " 476,\n",
       " 26,\n",
       " 480,\n",
       " 5,\n",
       " 144,\n",
       " 30,\n",
       " 5535,\n",
       " 18,\n",
       " 51,\n",
       " 36,\n",
       " 28,\n",
       " 224,\n",
       " 92,\n",
       " 25,\n",
       " 104,\n",
       " 4,\n",
       " 226,\n",
       " 65,\n",
       " 16,\n",
       " 38,\n",
       " 1334,\n",
       " 88,\n",
       " 12,\n",
       " 16,\n",
       " 283,\n",
       " 5,\n",
       " 16,\n",
       " 4472,\n",
       " 113,\n",
       " 103,\n",
       " 32,\n",
       " 15,\n",
       " 16,\n",
       " 5345,\n",
       " 19,\n",
       " 178,\n",
       " 32]"
      ]
     },
     "execution_count": 39,
     "metadata": {},
     "output_type": "execute_result"
    }
   ],
   "source": [
    "x_train[0]"
   ]
  },
  {
   "cell_type": "code",
   "execution_count": 41,
   "metadata": {
    "ExecuteTime": {
     "end_time": "2019-08-27T02:31:28.647179Z",
     "start_time": "2019-08-27T02:31:28.465168Z"
    }
   },
   "outputs": [],
   "source": [
    "x_train = [x[::-1] for x in x_train]\n",
    "x_test = [x[::-1] for x in x_test]"
   ]
  },
  {
   "cell_type": "code",
   "execution_count": 42,
   "metadata": {
    "ExecuteTime": {
     "end_time": "2019-08-27T02:31:48.183296Z",
     "start_time": "2019-08-27T02:31:48.172295Z"
    }
   },
   "outputs": [],
   "source": [
    "from keras.preprocessing import sequence"
   ]
  },
  {
   "cell_type": "code",
   "execution_count": 43,
   "metadata": {
    "ExecuteTime": {
     "end_time": "2019-08-27T02:33:56.508636Z",
     "start_time": "2019-08-27T02:33:55.537580Z"
    }
   },
   "outputs": [],
   "source": [
    "x_train = sequence.pad_sequences(x_train, maxlen=maxlen)\n",
    "x_test = sequence.pad_sequences(x_test, maxlen=maxlen)"
   ]
  },
  {
   "cell_type": "code",
   "execution_count": 44,
   "metadata": {
    "ExecuteTime": {
     "end_time": "2019-08-27T02:35:27.279828Z",
     "start_time": "2019-08-27T02:35:27.127819Z"
    }
   },
   "outputs": [],
   "source": [
    "model5 = models.Sequential()\n",
    "model5.add(layers.Embedding(max_features, 128))\n",
    "model5.add(layers.LSTM(32))\n",
    "model5.add(layers.Dense(1, activation='sigmoid'))"
   ]
  },
  {
   "cell_type": "code",
   "execution_count": 46,
   "metadata": {
    "ExecuteTime": {
     "end_time": "2019-08-27T02:37:12.257832Z",
     "start_time": "2019-08-27T02:37:12.216830Z"
    }
   },
   "outputs": [],
   "source": [
    "model5.compile(optimizer='rmsprop',\n",
    "               loss='binary_crossentropy',\n",
    "               metrics=['acc'])"
   ]
  },
  {
   "cell_type": "code",
   "execution_count": 47,
   "metadata": {
    "ExecuteTime": {
     "end_time": "2019-08-27T02:50:04.037975Z",
     "start_time": "2019-08-27T02:37:55.272292Z"
    }
   },
   "outputs": [
    {
     "name": "stdout",
     "output_type": "stream",
     "text": [
      "Train on 20000 samples, validate on 5000 samples\n",
      "Epoch 1/10\n",
      "20000/20000 [==============================] - 71s 4ms/step - loss: 0.4832 - acc: 0.7690 - val_loss: 0.3547 - val_acc: 0.8644\n",
      "Epoch 2/10\n",
      "20000/20000 [==============================] - 71s 4ms/step - loss: 0.3105 - acc: 0.8824 - val_loss: 0.3705 - val_acc: 0.8490\n",
      "Epoch 3/10\n",
      "20000/20000 [==============================] - 76s 4ms/step - loss: 0.2546 - acc: 0.9057 - val_loss: 0.3321 - val_acc: 0.8586\n",
      "Epoch 4/10\n",
      "20000/20000 [==============================] - 78s 4ms/step - loss: 0.2182 - acc: 0.9208 - val_loss: 0.4067 - val_acc: 0.8642\n",
      "Epoch 5/10\n",
      "20000/20000 [==============================] - 74s 4ms/step - loss: 0.1973 - acc: 0.9306 - val_loss: 0.3504 - val_acc: 0.8668\n",
      "Epoch 6/10\n",
      "20000/20000 [==============================] - 74s 4ms/step - loss: 0.1734 - acc: 0.9398 - val_loss: 0.3842 - val_acc: 0.8746\n",
      "Epoch 7/10\n",
      "20000/20000 [==============================] - 70s 4ms/step - loss: 0.1584 - acc: 0.9448 - val_loss: 0.4484 - val_acc: 0.8664\n",
      "Epoch 8/10\n",
      "20000/20000 [==============================] - 71s 4ms/step - loss: 0.1445 - acc: 0.9502 - val_loss: 0.3858 - val_acc: 0.8656\n",
      "Epoch 9/10\n",
      "20000/20000 [==============================] - 71s 4ms/step - loss: 0.1313 - acc: 0.9566 - val_loss: 0.4763 - val_acc: 0.8684\n",
      "Epoch 10/10\n",
      "20000/20000 [==============================] - 71s 4ms/step - loss: 0.1163 - acc: 0.9601 - val_loss: 0.4870 - val_acc: 0.8748\n"
     ]
    }
   ],
   "source": [
    "history5 = model5.fit(x_train,\n",
    "                      y_train,\n",
    "                      epochs=10,\n",
    "                      batch_size=128,\n",
    "                      validation_split=0.2)"
   ]
  },
  {
   "cell_type": "code",
   "execution_count": null,
   "metadata": {},
   "outputs": [],
   "source": [
    "BidiRNN"
   ]
  },
  {
   "cell_type": "code",
   "execution_count": 50,
   "metadata": {
    "ExecuteTime": {
     "end_time": "2019-08-27T03:00:14.508892Z",
     "start_time": "2019-08-27T03:00:14.461890Z"
    }
   },
   "outputs": [],
   "source": [
    "def reverse_order_generator(\n",
    "                            data,\n",
    "                            lookback,\n",
    "                            delay,\n",
    "                            min_index,\n",
    "                            max_index,\n",
    "                            shuffle=False,\n",
    "                            batch_size=128,\n",
    "                            step=6):\n",
    "    if max_index is None:\n",
    "        max_index=len(data)-delay-1\n",
    "    i=min_index+lookback\n",
    "    \n",
    "    while 1:\n",
    "        if shuffle:\n",
    "            rows=np.random.randint(min_index+lookback,max_index,step)\n",
    "        else:\n",
    "            if i+batch_size>max_index:\n",
    "                i=min_index+lookback\n",
    "            rows=np.arange(i,min(i+lookback,max_index))\n",
    "        \n",
    "        samples=np.zeros((len(rows),lookback//step,data.shape[-1]))\n",
    "        targets=np.zeros((len(rows),))\n",
    "        \n",
    "        for j,row in enumerate(rows):\n",
    "            indices=range(rows[j]-lookback,rows[j],step)\n",
    "            samples[j]=data[indices]\n",
    "            targets[j]=data[rows[j]+delay][1]\n",
    "        yield samples[:,::-1,:],targets\n",
    "            "
   ]
  },
  {
   "cell_type": "code",
   "execution_count": 51,
   "metadata": {
    "ExecuteTime": {
     "end_time": "2019-08-27T03:00:15.426945Z",
     "start_time": "2019-08-27T03:00:15.414944Z"
    }
   },
   "outputs": [],
   "source": [
    "train_gen_reverse = reverse_order_generator(float_data,\n",
    "                                            lookback=lookback,\n",
    "                                            delay=delay,\n",
    "                                            min_index=0,\n",
    "                                            max_index=200000,\n",
    "                                            shuffle=True,\n",
    "                                            step=step,\n",
    "                                            batch_size=batch_size)\n",
    "val_gen_reverse = reverse_order_generator(float_data,\n",
    "                                          lookback=lookback,\n",
    "                                          delay=delay,\n",
    "                                          min_index=200001,\n",
    "                                          max_index=300000,\n",
    "                                          step=step,\n",
    "                                          batch_size=batch_size)"
   ]
  },
  {
   "cell_type": "code",
   "execution_count": 53,
   "metadata": {
    "ExecuteTime": {
     "end_time": "2019-08-27T04:26:32.019029Z",
     "start_time": "2019-08-27T03:07:28.040689Z"
    }
   },
   "outputs": [
    {
     "name": "stdout",
     "output_type": "stream",
     "text": [
      "Epoch 1/20\n",
      "500/500 [==============================] - 245s 490ms/step - loss: 0.3829 - val_loss: 0.3522\n",
      "Epoch 2/20\n",
      "500/500 [==============================] - 243s 486ms/step - loss: 0.3580 - val_loss: 0.3197\n",
      "Epoch 3/20\n",
      "500/500 [==============================] - 243s 486ms/step - loss: 0.3477 - val_loss: 0.3697\n",
      "Epoch 4/20\n",
      "500/500 [==============================] - 240s 479ms/step - loss: 0.3286 - val_loss: 0.2708\n",
      "Epoch 5/20\n",
      "500/500 [==============================] - 238s 477ms/step - loss: 0.3456 - val_loss: 0.3051\n",
      "Epoch 6/20\n",
      "500/500 [==============================] - 234s 468ms/step - loss: 0.3345 - val_loss: 0.2861\n",
      "Epoch 7/20\n",
      "500/500 [==============================] - 238s 476ms/step - loss: 0.3302 - val_loss: 0.3383\n",
      "Epoch 8/20\n",
      "500/500 [==============================] - 237s 475ms/step - loss: 0.3313 - val_loss: 0.2670\n",
      "Epoch 9/20\n",
      "500/500 [==============================] - 235s 471ms/step - loss: 0.3391 - val_loss: 0.2972\n",
      "Epoch 10/20\n",
      "500/500 [==============================] - 236s 473ms/step - loss: 0.3268 - val_loss: 0.3157\n",
      "Epoch 11/20\n",
      "500/500 [==============================] - 235s 470ms/step - loss: 0.3167 - val_loss: 0.2798\n",
      "Epoch 12/20\n",
      "500/500 [==============================] - 235s 471ms/step - loss: 0.3263 - val_loss: 0.3606\n",
      "Epoch 13/20\n",
      "500/500 [==============================] - 235s 471ms/step - loss: 0.3291 - val_loss: 0.2988\n",
      "Epoch 14/20\n",
      "500/500 [==============================] - 235s 470ms/step - loss: 0.3188 - val_loss: 0.2605\n",
      "Epoch 15/20\n",
      "500/500 [==============================] - 235s 471ms/step - loss: 0.3163 - val_loss: 0.2708\n",
      "Epoch 16/20\n",
      "500/500 [==============================] - 235s 471ms/step - loss: 0.3128 - val_loss: 0.3242\n",
      "Epoch 17/20\n",
      "500/500 [==============================] - 235s 470ms/step - loss: 0.3148 - val_loss: 0.2803\n",
      "Epoch 18/20\n",
      "500/500 [==============================] - 235s 471ms/step - loss: 0.3068 - val_loss: 0.2911\n",
      "Epoch 19/20\n",
      "500/500 [==============================] - 236s 471ms/step - loss: 0.3072 - val_loss: 0.2686\n",
      "Epoch 20/20\n",
      "500/500 [==============================] - 235s 471ms/step - loss: 0.3126 - val_loss: 0.2470\n"
     ]
    }
   ],
   "source": [
    "model6 = models.Sequential()\n",
    "model6.add(layers.Bidirectional(layers.GRU(32),input_shape=(None,float_data.shape[-1])))\n",
    "model6.add(layers.Dense(1))\n",
    "\n",
    "model6.compile(optimizer=optimizers.RMSprop(), loss='mae')\n",
    "history6 = model6.fit_generator(train_gen_reverse,\n",
    "                               steps_per_epoch=500,\n",
    "                               epochs=20,\n",
    "                               validation_data=val_gen_reverse,\n",
    "                               validation_steps=val_steps)"
   ]
  },
  {
   "cell_type": "code",
   "execution_count": null,
   "metadata": {},
   "outputs": [],
   "source": []
  }
 ],
 "metadata": {
  "kernelspec": {
   "display_name": "Python 3",
   "language": "python",
   "name": "python3"
  },
  "language_info": {
   "codemirror_mode": {
    "name": "ipython",
    "version": 3
   },
   "file_extension": ".py",
   "mimetype": "text/x-python",
   "name": "python",
   "nbconvert_exporter": "python",
   "pygments_lexer": "ipython3",
   "version": "3.6.3"
  }
 },
 "nbformat": 4,
 "nbformat_minor": 2
}
