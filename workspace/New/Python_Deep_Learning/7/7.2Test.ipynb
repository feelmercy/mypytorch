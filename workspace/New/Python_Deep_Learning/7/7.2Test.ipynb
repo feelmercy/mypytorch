{
 "cells": [
  {
   "cell_type": "code",
   "execution_count": null,
   "metadata": {
    "ExecuteTime": {
     "end_time": "2019-08-29T07:08:21.918998Z",
     "start_time": "2019-08-29T07:08:21.914998Z"
    }
   },
   "outputs": [],
   "source": [
    "# from keras import models, Model, layers, Input\n",
    "# from keras import callbacks\n",
    "# import keras\n",
    "\n",
    "# callbacks_list = [\n",
    "#     keras.callbacks.EarlyStopping(\n",
    "#         monitor='acc',\n",
    "#         patience=1,\n",
    "#     ),\n",
    "#     keras.callbacks.ModelCheckpoint(\n",
    "#         filepath='my_model.h5',\n",
    "#         monitor='val_loss',\n",
    "#         save_best_only=True,\n",
    "#     )\n",
    "# ]\n",
    "\n",
    "# model.fit(x,\n",
    "#           y,\n",
    "#           epochs=10,\n",
    "#           batch_size=32,\n",
    "#           callbacks=callbacks_list,\n",
    "#           validation_data=(x_val, y_val))\n",
    "\n",
    "# callbacks_list = [\n",
    "#     keras.callbacks.ReduceLROnPlateau(monitor='val_loss',\n",
    "#                                       factor=0.1,\n",
    "#                                       patience=10)\n",
    "# ]\n",
    "\n",
    "# class ActivationLogger(keras.callbacks.Callback):\n",
    "#     def set_model(self, model):\n",
    "#         self.model = model\n",
    "#         layer_outputs = [layer.output for layer in model.layers]\n",
    "#         self.activations_model = keras.models.Model(model.input, layer_outputs)\n",
    "\n",
    "#     def on_epoch_end(self, epoch, logs=None):\n",
    "#         if self.validation_data is None:\n",
    "#             raise RuntimeError('Requires validation_data')\n",
    "\n",
    "#         validation_sample = self.validation_data[0][0:1]\n",
    "#         activations_modelns = self.activations_model.prediction(\n",
    "#             validation_sample)\n",
    "#         f = open('activations_at_ecpoch_' + str(epoch) + '.npz', + 'w')\n",
    "#         np.savez(f.activations)\n",
    "#         f.close()"
   ]
  },
  {
   "cell_type": "markdown",
   "metadata": {},
   "source": [
    "7.2.2 TensorBoard"
   ]
  },
  {
   "cell_type": "code",
   "execution_count": 1,
   "metadata": {
    "ExecuteTime": {
     "end_time": "2019-08-30T03:13:19.494183Z",
     "start_time": "2019-08-30T03:13:17.551072Z"
    }
   },
   "outputs": [
    {
     "name": "stderr",
     "output_type": "stream",
     "text": [
      "d:\\programdata\\anaconda3\\lib\\site-packages\\h5py\\__init__.py:34: FutureWarning: Conversion of the second argument of issubdtype from `float` to `np.floating` is deprecated. In future, it will be treated as `np.float64 == np.dtype(float).type`.\n",
      "  from ._conv import register_converters as _register_converters\n",
      "Using TensorFlow backend.\n"
     ]
    }
   ],
   "source": [
    "from keras.datasets import imdb\n",
    "from keras.preprocessing import sequence\n",
    "from keras import models, layers, optimizers\n",
    "import keras"
   ]
  },
  {
   "cell_type": "code",
   "execution_count": 2,
   "metadata": {
    "ExecuteTime": {
     "end_time": "2019-08-30T03:13:24.650478Z",
     "start_time": "2019-08-30T03:13:19.496183Z"
    }
   },
   "outputs": [],
   "source": [
    "max_features = 2000\n",
    "maxlen = 500\n",
    "\n",
    "(x_train, y_train), (x_test, y_test) = imdb.load_data(num_words=max_features)\n",
    "x_train = sequence.pad_sequences(x_train, maxlen=maxlen)\n",
    "x_test = sequence.pad_sequences(x_test, maxlen=maxlen)"
   ]
  },
  {
   "cell_type": "code",
   "execution_count": 3,
   "metadata": {
    "ExecuteTime": {
     "end_time": "2019-08-30T03:13:28.968725Z",
     "start_time": "2019-08-30T03:13:28.659707Z"
    }
   },
   "outputs": [
    {
     "name": "stdout",
     "output_type": "stream",
     "text": [
      "WARNING:tensorflow:From d:\\programdata\\anaconda3\\lib\\site-packages\\tensorflow\\python\\util\\deprecation.py:497: calling conv1d (from tensorflow.python.ops.nn_ops) with data_format=NHWC is deprecated and will be removed in a future version.\n",
      "Instructions for updating:\n",
      "`NHWC` for data_format is deprecated, use `NWC` instead\n",
      "_________________________________________________________________\n",
      "Layer (type)                 Output Shape              Param #   \n",
      "=================================================================\n",
      "embed (Embedding)            (None, 500, 128)          256000    \n",
      "_________________________________________________________________\n",
      "conv1d_1 (Conv1D)            (None, 494, 32)           28704     \n",
      "_________________________________________________________________\n",
      "max_pooling1d_1 (MaxPooling1 (None, 98, 32)            0         \n",
      "_________________________________________________________________\n",
      "conv1d_2 (Conv1D)            (None, 92, 32)            7200      \n",
      "_________________________________________________________________\n",
      "global_max_pooling1d_1 (Glob (None, 32)                0         \n",
      "_________________________________________________________________\n",
      "dense_1 (Dense)              (None, 1)                 33        \n",
      "=================================================================\n",
      "Total params: 291,937\n",
      "Trainable params: 291,937\n",
      "Non-trainable params: 0\n",
      "_________________________________________________________________\n"
     ]
    }
   ],
   "source": [
    "model = models.Sequential()\n",
    "model.add(\n",
    "    layers.Embedding(max_features, 128, input_length=maxlen, name='embed'))\n",
    "model.add(layers.Conv1D(32, 7, activation='relu'))\n",
    "model.add(layers.MaxPooling1D(5))\n",
    "model.add(layers.Conv1D(32, 7, activation='relu'))\n",
    "model.add(layers.GlobalMaxPooling1D())\n",
    "model.add(layers.Dense(1))\n",
    "\n",
    "model.summary()"
   ]
  },
  {
   "cell_type": "code",
   "execution_count": 4,
   "metadata": {
    "ExecuteTime": {
     "end_time": "2019-08-30T03:13:29.437752Z",
     "start_time": "2019-08-30T03:13:29.424751Z"
    }
   },
   "outputs": [
    {
     "data": {
      "text/plain": [
       "1"
      ]
     },
     "execution_count": 4,
     "metadata": {},
     "output_type": "execute_result"
    }
   ],
   "source": [
    "y_train[0]"
   ]
  },
  {
   "cell_type": "code",
   "execution_count": 5,
   "metadata": {
    "ExecuteTime": {
     "end_time": "2019-08-30T03:13:30.257798Z",
     "start_time": "2019-08-30T03:13:30.214796Z"
    }
   },
   "outputs": [],
   "source": [
    "model.compile(optimizer='rmsprop', loss='binary_crossentropy', metrics=['acc'])"
   ]
  },
  {
   "cell_type": "code",
   "execution_count": 6,
   "metadata": {
    "ExecuteTime": {
     "end_time": "2019-08-30T03:13:30.763827Z",
     "start_time": "2019-08-30T03:13:30.756827Z"
    }
   },
   "outputs": [],
   "source": [
    "import pandas as pd"
   ]
  },
  {
   "cell_type": "code",
   "execution_count": 7,
   "metadata": {
    "ExecuteTime": {
     "end_time": "2019-08-30T03:13:32.603933Z",
     "start_time": "2019-08-30T03:13:31.482869Z"
    }
   },
   "outputs": [],
   "source": [
    "callbacks = [\n",
    "    keras.callbacks.TensorBoard(\n",
    "        log_dir='F:\\\\study\\\\ml\\\\DataSet\\\\imdb_test\\\\my_log_dir',\n",
    "        histogram_freq=1,\n",
    "        embeddings_freq=1,\n",
    "        embeddings_data=x_train[:100].astype('float32')\n",
    "    )\n",
    "]"
   ]
  },
  {
   "cell_type": "code",
   "execution_count": 11,
   "metadata": {
    "ExecuteTime": {
     "end_time": "2019-08-30T01:47:59.311325Z",
     "start_time": "2019-08-30T01:43:46.456863Z"
    }
   },
   "outputs": [
    {
     "name": "stdout",
     "output_type": "stream",
     "text": [
      "Train on 20000 samples, validate on 5000 samples\n",
      "Epoch 1/5\n",
      "20000/20000 [==============================] - 50s 3ms/step - loss: 0.6414 - acc: 0.6492 - val_loss: 0.4101 - val_acc: 0.8394\n",
      "Epoch 2/5\n",
      "20000/20000 [==============================] - 49s 2ms/step - loss: 0.4291 - acc: 0.8192 - val_loss: 0.4270 - val_acc: 0.8218\n",
      "Epoch 3/5\n",
      "20000/20000 [==============================] - 49s 2ms/step - loss: 0.3719 - acc: 0.8047 - val_loss: 0.8936 - val_acc: 0.6374\n",
      "Epoch 4/5\n",
      "20000/20000 [==============================] - 49s 2ms/step - loss: 0.3438 - acc: 0.7649 - val_loss: 1.6498 - val_acc: 0.4646\n",
      "Epoch 5/5\n",
      "20000/20000 [==============================] - 55s 3ms/step - loss: 0.3105 - acc: 0.7279 - val_loss: 0.5368 - val_acc: 0.7092\n"
     ]
    }
   ],
   "source": [
    "history = model.fit(x_train,\n",
    "                    y_train,\n",
    "                    epochs=5,\n",
    "                    batch_size=128,\n",
    "                    validation_split=0.2\n",
    "#                     callbacks=callbacks\n",
    "                   )"
   ]
  },
  {
   "cell_type": "code",
   "execution_count": 8,
   "metadata": {
    "ExecuteTime": {
     "end_time": "2019-08-30T03:13:46.304716Z",
     "start_time": "2019-08-30T03:13:46.301716Z"
    }
   },
   "outputs": [],
   "source": [
    "from keras.utils import plot_model"
   ]
  },
  {
   "cell_type": "code",
   "execution_count": 10,
   "metadata": {
    "ExecuteTime": {
     "end_time": "2019-08-30T03:23:48.087136Z",
     "start_time": "2019-08-30T03:23:47.941128Z"
    }
   },
   "outputs": [],
   "source": [
    "plot_model(model,show_shapes=True)"
   ]
  },
  {
   "cell_type": "code",
   "execution_count": null,
   "metadata": {},
   "outputs": [],
   "source": []
  }
 ],
 "metadata": {
  "kernelspec": {
   "display_name": "Python 3",
   "language": "python",
   "name": "python3"
  },
  "language_info": {
   "codemirror_mode": {
    "name": "ipython",
    "version": 3
   },
   "file_extension": ".py",
   "mimetype": "text/x-python",
   "name": "python",
   "nbconvert_exporter": "python",
   "pygments_lexer": "ipython3",
   "version": "3.6.3"
  }
 },
 "nbformat": 4,
 "nbformat_minor": 2
}
