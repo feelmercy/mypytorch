{
 "cells": [
  {
   "cell_type": "code",
   "execution_count": 5,
   "metadata": {
    "ExecuteTime": {
     "end_time": "2019-08-27T08:34:17.280273Z",
     "start_time": "2019-08-27T08:34:17.275273Z"
    }
   },
   "outputs": [],
   "source": [
    "from keras import Input,layers,models,optimizers,Model\n",
    "import numpy as np"
   ]
  },
  {
   "cell_type": "code",
   "execution_count": 4,
   "metadata": {
    "ExecuteTime": {
     "end_time": "2019-08-27T08:29:59.088506Z",
     "start_time": "2019-08-27T08:29:59.053504Z"
    }
   },
   "outputs": [],
   "source": [
    "input_tensor=Input(shape=(32,))\n",
    "dense=layers.Dense(32,activation='relu')\n",
    "output_tensor=dense(input_tensor)"
   ]
  },
  {
   "cell_type": "code",
   "execution_count": 7,
   "metadata": {
    "ExecuteTime": {
     "end_time": "2019-08-27T08:34:46.016917Z",
     "start_time": "2019-08-27T08:34:45.938912Z"
    }
   },
   "outputs": [],
   "source": [
    "seq_model=models.Sequential()\n",
    "seq_model.add(layers.Dense(32,activation='relu',input_shape=(64,)))\n",
    "seq_model.add(layers.Dense(32,activation='relu'))\n",
    "seq_model.add(layers.Dense(10,activation='softmax'))\n",
    "\n",
    "input_tensor=Input(shape=(64,))\n",
    "x=layers.Dense(32,activation='relu')(input_tensor)\n",
    "x=layers.Dense(32,activation='relu')(x)\n",
    "output_tensor=layers.Dense(10,activation='softmax')(x)\n",
    "\n",
    "model=Model(input_tensor,output_tensor)"
   ]
  },
  {
   "cell_type": "code",
   "execution_count": 8,
   "metadata": {
    "ExecuteTime": {
     "end_time": "2019-08-27T08:34:52.260274Z",
     "start_time": "2019-08-27T08:34:52.251273Z"
    }
   },
   "outputs": [
    {
     "name": "stdout",
     "output_type": "stream",
     "text": [
      "_________________________________________________________________\n",
      "Layer (type)                 Output Shape              Param #   \n",
      "=================================================================\n",
      "input_3 (InputLayer)         (None, 64)                0         \n",
      "_________________________________________________________________\n",
      "dense_11 (Dense)             (None, 32)                2080      \n",
      "_________________________________________________________________\n",
      "dense_12 (Dense)             (None, 32)                1056      \n",
      "_________________________________________________________________\n",
      "dense_13 (Dense)             (None, 10)                330       \n",
      "=================================================================\n",
      "Total params: 3,466\n",
      "Trainable params: 3,466\n",
      "Non-trainable params: 0\n",
      "_________________________________________________________________\n"
     ]
    }
   ],
   "source": [
    "model.summary()"
   ]
  },
  {
   "cell_type": "code",
   "execution_count": 10,
   "metadata": {
    "ExecuteTime": {
     "end_time": "2019-08-27T08:38:47.543731Z",
     "start_time": "2019-08-27T08:38:47.506729Z"
    }
   },
   "outputs": [
    {
     "ename": "ValueError",
     "evalue": "Graph disconnected: cannot obtain value for tensor Tensor(\"input_3:0\", shape=(?, 64), dtype=float32) at layer \"input_3\". The following previous layers were accessed without issue: []",
     "output_type": "error",
     "traceback": [
      "\u001b[1;31m---------------------------------------------------------------------------\u001b[0m",
      "\u001b[1;31mValueError\u001b[0m                                Traceback (most recent call last)",
      "\u001b[1;32m<ipython-input-10-0e54186da389>\u001b[0m in \u001b[0;36m<module>\u001b[1;34m()\u001b[0m\n\u001b[0;32m      1\u001b[0m \u001b[0munrelated_input\u001b[0m\u001b[1;33m=\u001b[0m\u001b[0mInput\u001b[0m\u001b[1;33m(\u001b[0m\u001b[0mshape\u001b[0m\u001b[1;33m=\u001b[0m\u001b[1;33m(\u001b[0m\u001b[1;36m32\u001b[0m\u001b[1;33m,\u001b[0m\u001b[1;33m)\u001b[0m\u001b[1;33m)\u001b[0m\u001b[1;33m\u001b[0m\u001b[0m\n\u001b[1;32m----> 2\u001b[1;33m \u001b[0mbad_model\u001b[0m\u001b[1;33m=\u001b[0m\u001b[0mmodel\u001b[0m\u001b[1;33m=\u001b[0m\u001b[0mModel\u001b[0m\u001b[1;33m(\u001b[0m\u001b[0munrelated_input\u001b[0m\u001b[1;33m,\u001b[0m\u001b[0moutput_tensor\u001b[0m\u001b[1;33m)\u001b[0m\u001b[1;33m\u001b[0m\u001b[0m\n\u001b[0m",
      "\u001b[1;32md:\\programdata\\anaconda3\\lib\\site-packages\\keras\\legacy\\interfaces.py\u001b[0m in \u001b[0;36mwrapper\u001b[1;34m(*args, **kwargs)\u001b[0m\n\u001b[0;32m     89\u001b[0m                 warnings.warn('Update your `' + object_name + '` call to the ' +\n\u001b[0;32m     90\u001b[0m                               'Keras 2 API: ' + signature, stacklevel=2)\n\u001b[1;32m---> 91\u001b[1;33m             \u001b[1;32mreturn\u001b[0m \u001b[0mfunc\u001b[0m\u001b[1;33m(\u001b[0m\u001b[1;33m*\u001b[0m\u001b[0margs\u001b[0m\u001b[1;33m,\u001b[0m \u001b[1;33m**\u001b[0m\u001b[0mkwargs\u001b[0m\u001b[1;33m)\u001b[0m\u001b[1;33m\u001b[0m\u001b[0m\n\u001b[0m\u001b[0;32m     92\u001b[0m         \u001b[0mwrapper\u001b[0m\u001b[1;33m.\u001b[0m\u001b[0m_original_function\u001b[0m \u001b[1;33m=\u001b[0m \u001b[0mfunc\u001b[0m\u001b[1;33m\u001b[0m\u001b[0m\n\u001b[0;32m     93\u001b[0m         \u001b[1;32mreturn\u001b[0m \u001b[0mwrapper\u001b[0m\u001b[1;33m\u001b[0m\u001b[0m\n",
      "\u001b[1;32md:\\programdata\\anaconda3\\lib\\site-packages\\keras\\engine\\network.py\u001b[0m in \u001b[0;36m__init__\u001b[1;34m(self, *args, **kwargs)\u001b[0m\n\u001b[0;32m     91\u001b[0m                 'inputs' in kwargs and 'outputs' in kwargs):\n\u001b[0;32m     92\u001b[0m             \u001b[1;31m# Graph network\u001b[0m\u001b[1;33m\u001b[0m\u001b[1;33m\u001b[0m\u001b[0m\n\u001b[1;32m---> 93\u001b[1;33m             \u001b[0mself\u001b[0m\u001b[1;33m.\u001b[0m\u001b[0m_init_graph_network\u001b[0m\u001b[1;33m(\u001b[0m\u001b[1;33m*\u001b[0m\u001b[0margs\u001b[0m\u001b[1;33m,\u001b[0m \u001b[1;33m**\u001b[0m\u001b[0mkwargs\u001b[0m\u001b[1;33m)\u001b[0m\u001b[1;33m\u001b[0m\u001b[0m\n\u001b[0m\u001b[0;32m     94\u001b[0m         \u001b[1;32melse\u001b[0m\u001b[1;33m:\u001b[0m\u001b[1;33m\u001b[0m\u001b[0m\n\u001b[0;32m     95\u001b[0m             \u001b[1;31m# Subclassed network\u001b[0m\u001b[1;33m\u001b[0m\u001b[1;33m\u001b[0m\u001b[0m\n",
      "\u001b[1;32md:\\programdata\\anaconda3\\lib\\site-packages\\keras\\engine\\network.py\u001b[0m in \u001b[0;36m_init_graph_network\u001b[1;34m(self, inputs, outputs, name)\u001b[0m\n\u001b[0;32m    229\u001b[0m         \u001b[1;31m# Keep track of the network's nodes and layers.\u001b[0m\u001b[1;33m\u001b[0m\u001b[1;33m\u001b[0m\u001b[0m\n\u001b[0;32m    230\u001b[0m         nodes, nodes_by_depth, layers, layers_by_depth = _map_graph_network(\n\u001b[1;32m--> 231\u001b[1;33m             self.inputs, self.outputs)\n\u001b[0m\u001b[0;32m    232\u001b[0m         \u001b[0mself\u001b[0m\u001b[1;33m.\u001b[0m\u001b[0m_network_nodes\u001b[0m \u001b[1;33m=\u001b[0m \u001b[0mnodes\u001b[0m\u001b[1;33m\u001b[0m\u001b[0m\n\u001b[0;32m    233\u001b[0m         \u001b[0mself\u001b[0m\u001b[1;33m.\u001b[0m\u001b[0m_nodes_by_depth\u001b[0m \u001b[1;33m=\u001b[0m \u001b[0mnodes_by_depth\u001b[0m\u001b[1;33m\u001b[0m\u001b[0m\n",
      "\u001b[1;32md:\\programdata\\anaconda3\\lib\\site-packages\\keras\\engine\\network.py\u001b[0m in \u001b[0;36m_map_graph_network\u001b[1;34m(inputs, outputs)\u001b[0m\n\u001b[0;32m   1441\u001b[0m                                          \u001b[1;34m'The following previous layers '\u001b[0m\u001b[1;33m\u001b[0m\u001b[0m\n\u001b[0;32m   1442\u001b[0m                                          \u001b[1;34m'were accessed without issue: '\u001b[0m \u001b[1;33m+\u001b[0m\u001b[1;33m\u001b[0m\u001b[0m\n\u001b[1;32m-> 1443\u001b[1;33m                                          str(layers_with_complete_input))\n\u001b[0m\u001b[0;32m   1444\u001b[0m                 \u001b[1;32mfor\u001b[0m \u001b[0mx\u001b[0m \u001b[1;32min\u001b[0m \u001b[0mnode\u001b[0m\u001b[1;33m.\u001b[0m\u001b[0moutput_tensors\u001b[0m\u001b[1;33m:\u001b[0m\u001b[1;33m\u001b[0m\u001b[0m\n\u001b[0;32m   1445\u001b[0m                     \u001b[0mcomputable_tensors\u001b[0m\u001b[1;33m.\u001b[0m\u001b[0mappend\u001b[0m\u001b[1;33m(\u001b[0m\u001b[0mx\u001b[0m\u001b[1;33m)\u001b[0m\u001b[1;33m\u001b[0m\u001b[0m\n",
      "\u001b[1;31mValueError\u001b[0m: Graph disconnected: cannot obtain value for tensor Tensor(\"input_3:0\", shape=(?, 64), dtype=float32) at layer \"input_3\". The following previous layers were accessed without issue: []"
     ]
    }
   ],
   "source": [
    "unrelated_input=Input(shape=(32,))\n",
    "bad_model=model=Model(unrelated_input,output_tensor)"
   ]
  },
  {
   "cell_type": "code",
   "execution_count": 11,
   "metadata": {
    "ExecuteTime": {
     "end_time": "2019-08-27T08:43:01.776273Z",
     "start_time": "2019-08-27T08:43:01.738271Z"
    }
   },
   "outputs": [],
   "source": [
    "model.compile(optimizer='rmsprop',loss='categorical_crossentropy')"
   ]
  },
  {
   "cell_type": "code",
   "execution_count": 12,
   "metadata": {
    "ExecuteTime": {
     "end_time": "2019-08-27T08:44:19.424714Z",
     "start_time": "2019-08-27T08:44:19.412713Z"
    }
   },
   "outputs": [],
   "source": [
    "x_train=np.random.random((1000,64))\n",
    "y_train=np.random.random((1000,10))"
   ]
  },
  {
   "cell_type": "code",
   "execution_count": 14,
   "metadata": {
    "ExecuteTime": {
     "end_time": "2019-08-27T08:52:23.774417Z",
     "start_time": "2019-08-27T08:52:23.329392Z"
    }
   },
   "outputs": [
    {
     "name": "stdout",
     "output_type": "stream",
     "text": [
      "Epoch 1/10\n",
      "1000/1000 [==============================] - 0s 162us/step - loss: 11.8167\n",
      "Epoch 2/10\n",
      "1000/1000 [==============================] - 0s 14us/step - loss: 11.7491\n",
      "Epoch 3/10\n",
      "1000/1000 [==============================] - 0s 13us/step - loss: 11.7308\n",
      "Epoch 4/10\n",
      "1000/1000 [==============================] - 0s 12us/step - loss: 11.7211\n",
      "Epoch 5/10\n",
      "1000/1000 [==============================] - 0s 12us/step - loss: 11.7138\n",
      "Epoch 6/10\n",
      "1000/1000 [==============================] - 0s 12us/step - loss: 11.7081\n",
      "Epoch 7/10\n",
      "1000/1000 [==============================] - 0s 12us/step - loss: 11.7039\n",
      "Epoch 8/10\n",
      "1000/1000 [==============================] - 0s 13us/step - loss: 11.7014\n",
      "Epoch 9/10\n",
      "1000/1000 [==============================] - 0s 11us/step - loss: 11.6990\n",
      "Epoch 10/10\n",
      "1000/1000 [==============================] - 0s 11us/step - loss: 11.6970\n"
     ]
    },
    {
     "data": {
      "text/plain": [
       "<keras.callbacks.History at 0x1df90518>"
      ]
     },
     "execution_count": 14,
     "metadata": {},
     "output_type": "execute_result"
    }
   ],
   "source": [
    "model.fit(x_train,y_train,epochs=10,batch_size=128)"
   ]
  },
  {
   "cell_type": "code",
   "execution_count": 16,
   "metadata": {
    "ExecuteTime": {
     "end_time": "2019-08-27T08:52:53.424113Z",
     "start_time": "2019-08-27T08:52:53.389111Z"
    }
   },
   "outputs": [
    {
     "name": "stdout",
     "output_type": "stream",
     "text": [
      "1000/1000 [==============================] - 0s 28us/step\n"
     ]
    },
    {
     "data": {
      "text/plain": [
       "11.694019760131836"
      ]
     },
     "execution_count": 16,
     "metadata": {},
     "output_type": "execute_result"
    }
   ],
   "source": [
    "score=model.evaluate(x_train,y_train)\n",
    "score"
   ]
  },
  {
   "cell_type": "code",
   "execution_count": 21,
   "metadata": {
    "ExecuteTime": {
     "end_time": "2019-08-27T09:58:20.858749Z",
     "start_time": "2019-08-27T09:58:20.607735Z"
    }
   },
   "outputs": [],
   "source": [
    "text_vocabulary_size=10000\n",
    "question_vocabulary_size=10000\n",
    "answer_vocabulary_size=500\n",
    "\n",
    "## text input\n",
    "text_input=Input(shape=(None,),dtype='int32',name='text')\n",
    "embedded_text=layers.Embedding(text_vocabulary_size,64)(text_input)\n",
    "encoded_text=layers.LSTM(32)(embedded_text)\n",
    "\n",
    "## question text\n",
    "question_input=Input(shape=(None,),dtype='int32',name='question')\n",
    "embedded_question=layers.Embedding(question_vocabulary_size,32)(question_input)\n",
    "encoded_question=layers.LSTM(16)(embedded_question)\n",
    "\n",
    "## join two input\n",
    "concatenated=layers.concatenate([encoded_text,encoded_question],axis=1)\n",
    "answer=layers.Dense(answer_vocabulary_size,activation='softmax')(concatenated)"
   ]
  },
  {
   "cell_type": "code",
   "execution_count": 23,
   "metadata": {
    "ExecuteTime": {
     "end_time": "2019-08-27T09:58:55.883753Z",
     "start_time": "2019-08-27T09:58:55.878752Z"
    }
   },
   "outputs": [],
   "source": [
    "model=Model([text_input,question_input],answer)"
   ]
  },
  {
   "cell_type": "code",
   "execution_count": 24,
   "metadata": {
    "ExecuteTime": {
     "end_time": "2019-08-27T09:59:01.594079Z",
     "start_time": "2019-08-27T09:59:01.586079Z"
    }
   },
   "outputs": [
    {
     "name": "stdout",
     "output_type": "stream",
     "text": [
      "__________________________________________________________________________________________________\n",
      "Layer (type)                    Output Shape         Param #     Connected to                     \n",
      "==================================================================================================\n",
      "text (InputLayer)               (None, None)         0                                            \n",
      "__________________________________________________________________________________________________\n",
      "question (InputLayer)           (None, None)         0                                            \n",
      "__________________________________________________________________________________________________\n",
      "embedding_5 (Embedding)         (None, None, 64)     640000      text[0][0]                       \n",
      "__________________________________________________________________________________________________\n",
      "embedding_6 (Embedding)         (None, None, 32)     320000      question[0][0]                   \n",
      "__________________________________________________________________________________________________\n",
      "lstm_6 (LSTM)                   (None, 32)           12416       embedding_5[0][0]                \n",
      "__________________________________________________________________________________________________\n",
      "lstm_7 (LSTM)                   (None, 16)           3136        embedding_6[0][0]                \n",
      "__________________________________________________________________________________________________\n",
      "concatenate_2 (Concatenate)     (None, 48)           0           lstm_6[0][0]                     \n",
      "                                                                 lstm_7[0][0]                     \n",
      "__________________________________________________________________________________________________\n",
      "dense_14 (Dense)                (None, 500)          24500       concatenate_2[0][0]              \n",
      "==================================================================================================\n",
      "Total params: 1,000,052\n",
      "Trainable params: 1,000,052\n",
      "Non-trainable params: 0\n",
      "__________________________________________________________________________________________________\n"
     ]
    }
   ],
   "source": [
    "model.summary()"
   ]
  },
  {
   "cell_type": "code",
   "execution_count": 25,
   "metadata": {
    "ExecuteTime": {
     "end_time": "2019-08-27T10:00:39.996708Z",
     "start_time": "2019-08-27T10:00:39.952705Z"
    }
   },
   "outputs": [],
   "source": [
    "model.compile(optimizer='rmsprop',loss='categorical_crossentropy',metrics=['acc'])"
   ]
  },
  {
   "cell_type": "code",
   "execution_count": 26,
   "metadata": {
    "ExecuteTime": {
     "end_time": "2019-08-28T02:58:58.219326Z",
     "start_time": "2019-08-28T02:58:58.213326Z"
    }
   },
   "outputs": [],
   "source": [
    "import keras"
   ]
  },
  {
   "cell_type": "code",
   "execution_count": 30,
   "metadata": {
    "ExecuteTime": {
     "end_time": "2019-08-28T03:03:45.631765Z",
     "start_time": "2019-08-28T03:03:45.594763Z"
    }
   },
   "outputs": [],
   "source": [
    "num_samples=1000\n",
    "max_length=100\n",
    "\n",
    "text=np.random.randint(1,text_vocabulary_size,size=(num_samples,max_length))\n",
    "question=np.random.randint(1,question_vocabulary_size,size=(num_samples,max_length))\n",
    "\n",
    "answers=np.random.randint(answer_vocabulary_size,size=(num_samples))\n",
    "answers=keras.utils.to_categorical(answers,answer_vocabulary_size)"
   ]
  },
  {
   "cell_type": "code",
   "execution_count": 32,
   "metadata": {
    "ExecuteTime": {
     "end_time": "2019-08-28T03:05:33.771950Z",
     "start_time": "2019-08-28T03:05:24.107398Z"
    }
   },
   "outputs": [
    {
     "name": "stdout",
     "output_type": "stream",
     "text": [
      "Epoch 1/10\n",
      "1000/1000 [==============================] - 1s 1ms/step - loss: 6.2141 - acc: 0.0020\n",
      "Epoch 2/10\n",
      "1000/1000 [==============================] - 1s 782us/step - loss: 6.1977 - acc: 0.0400\n",
      "Epoch 3/10\n",
      "1000/1000 [==============================] - 1s 808us/step - loss: 6.1569 - acc: 0.0110\n",
      "Epoch 4/10\n",
      "1000/1000 [==============================] - 1s 772us/step - loss: 6.0606 - acc: 0.0030\n",
      "Epoch 5/10\n",
      "1000/1000 [==============================] - 1s 820us/step - loss: 5.9987 - acc: 0.0090\n",
      "Epoch 6/10\n",
      "1000/1000 [==============================] - 1s 786us/step - loss: 5.9343 - acc: 0.0140\n",
      "Epoch 7/10\n",
      "1000/1000 [==============================] - 1s 821us/step - loss: 5.8450 - acc: 0.0110\n",
      "Epoch 8/10\n",
      "1000/1000 [==============================] - 1s 792us/step - loss: 5.7443 - acc: 0.0210\n",
      "Epoch 9/10\n",
      "1000/1000 [==============================] - 1s 814us/step - loss: 5.6635 - acc: 0.0200\n",
      "Epoch 10/10\n",
      "1000/1000 [==============================] - 1s 794us/step - loss: 5.5650 - acc: 0.0310\n"
     ]
    },
    {
     "data": {
      "text/plain": [
       "<keras.callbacks.History at 0x259f9358>"
      ]
     },
     "execution_count": 32,
     "metadata": {},
     "output_type": "execute_result"
    }
   ],
   "source": [
    "model.fit([text,question],answers,epochs=10,batch_size=128)"
   ]
  },
  {
   "cell_type": "code",
   "execution_count": 33,
   "metadata": {
    "ExecuteTime": {
     "end_time": "2019-08-28T03:12:55.928240Z",
     "start_time": "2019-08-28T03:12:47.749773Z"
    }
   },
   "outputs": [
    {
     "name": "stdout",
     "output_type": "stream",
     "text": [
      "Epoch 1/10\n",
      "1000/1000 [==============================] - 1s 808us/step - loss: 5.5000 - acc: 0.0340\n",
      "Epoch 2/10\n",
      "1000/1000 [==============================] - 1s 822us/step - loss: 5.4243 - acc: 0.0410\n",
      "Epoch 3/10\n",
      "1000/1000 [==============================] - 1s 790us/step - loss: 5.3470 - acc: 0.0400\n",
      "Epoch 4/10\n",
      "1000/1000 [==============================] - 1s 799us/step - loss: 5.2963 - acc: 0.0360\n",
      "Epoch 5/10\n",
      "1000/1000 [==============================] - 1s 805us/step - loss: 5.2284 - acc: 0.0510\n",
      "Epoch 6/10\n",
      "1000/1000 [==============================] - 1s 838us/step - loss: 5.1660 - acc: 0.0510\n",
      "Epoch 7/10\n",
      "1000/1000 [==============================] - 1s 817us/step - loss: 5.1151 - acc: 0.0560\n",
      "Epoch 8/10\n",
      "1000/1000 [==============================] - 1s 849us/step - loss: 5.0571 - acc: 0.0540\n",
      "Epoch 9/10\n",
      "1000/1000 [==============================] - 1s 817us/step - loss: 4.9929 - acc: 0.0680\n",
      "Epoch 10/10\n",
      "1000/1000 [==============================] - 1s 813us/step - loss: 4.9806 - acc: 0.0690\n"
     ]
    },
    {
     "data": {
      "text/plain": [
       "<keras.callbacks.History at 0x27b2fe80>"
      ]
     },
     "execution_count": 33,
     "metadata": {},
     "output_type": "execute_result"
    }
   ],
   "source": [
    "model.fit({'text':text,'question':question},answers,epochs=10,batch_size=128)"
   ]
  },
  {
   "cell_type": "markdown",
   "metadata": {},
   "source": [
    "7.1.3 a input with mutil-output"
   ]
  },
  {
   "cell_type": "code",
   "execution_count": 34,
   "metadata": {
    "ExecuteTime": {
     "end_time": "2019-08-28T06:00:46.989272Z",
     "start_time": "2019-08-28T06:00:46.847264Z"
    }
   },
   "outputs": [
    {
     "name": "stdout",
     "output_type": "stream",
     "text": [
      "WARNING:tensorflow:From d:\\programdata\\anaconda3\\lib\\site-packages\\tensorflow\\python\\util\\deprecation.py:497: calling conv1d (from tensorflow.python.ops.nn_ops) with data_format=NHWC is deprecated and will be removed in a future version.\n",
      "Instructions for updating:\n",
      "`NHWC` for data_format is deprecated, use `NWC` instead\n"
     ]
    }
   ],
   "source": [
    "vacabulary_size=50000\n",
    "num_income_groups=10\n",
    "\n",
    "posts_input=Input(shape=(None,),dtype='int32',name='posts')\n",
    "embedded_posts=layers.Embedding(256,vacabulary_size)(posts_input)\n",
    "x=layers.Conv1D(128,5,activation='relu')(embedded_posts)\n",
    "x=layers.MaxPooling1D(5)(x)\n",
    "x=layers.Conv1D(256,5,activation='relu')(x)\n",
    "x=layers.Conv1D(256,5,activation='relu')(x)\n",
    "x=layers.MaxPooling1D(5)(x)\n",
    "x=layers.Conv1D(256,5,activation='relu')(x)\n",
    "x=layers.Conv1D(256,5,activation='relu')(x)\n",
    "x=layers.GlobalMaxPooling1D()(x)\n",
    "x=layers.Dense(128,activation='relu')(x)\n",
    "\n",
    "age_prediction=layers.Dense(1,name='age')(x)\n",
    "income_prediction=layers.Dense(num_income_groups,\n",
    "                              activation='softmax',\n",
    "                              name='income')(x)\n",
    "gender_prediction=layers.Dense(1,activation='sigmoid',name='gender')(x)\n"
   ]
  },
  {
   "cell_type": "code",
   "execution_count": 40,
   "metadata": {
    "ExecuteTime": {
     "end_time": "2019-08-28T06:04:35.980370Z",
     "start_time": "2019-08-28T06:04:35.977369Z"
    }
   },
   "outputs": [],
   "source": [
    "model2=Model(posts_input,[age_prediction,income_prediction,gender_prediction])"
   ]
  },
  {
   "cell_type": "code",
   "execution_count": 41,
   "metadata": {
    "ExecuteTime": {
     "end_time": "2019-08-28T06:04:46.115949Z",
     "start_time": "2019-08-28T06:04:46.105949Z"
    }
   },
   "outputs": [
    {
     "name": "stdout",
     "output_type": "stream",
     "text": [
      "__________________________________________________________________________________________________\n",
      "Layer (type)                    Output Shape         Param #     Connected to                     \n",
      "==================================================================================================\n",
      "posts (InputLayer)              (None, None)         0                                            \n",
      "__________________________________________________________________________________________________\n",
      "embedding_7 (Embedding)         (None, None, 50000)  12800000    posts[0][0]                      \n",
      "__________________________________________________________________________________________________\n",
      "conv1d_1 (Conv1D)               (None, None, 128)    32000128    embedding_7[0][0]                \n",
      "__________________________________________________________________________________________________\n",
      "max_pooling1d_1 (MaxPooling1D)  (None, None, 128)    0           conv1d_1[0][0]                   \n",
      "__________________________________________________________________________________________________\n",
      "conv1d_2 (Conv1D)               (None, None, 256)    164096      max_pooling1d_1[0][0]            \n",
      "__________________________________________________________________________________________________\n",
      "conv1d_3 (Conv1D)               (None, None, 256)    327936      conv1d_2[0][0]                   \n",
      "__________________________________________________________________________________________________\n",
      "max_pooling1d_2 (MaxPooling1D)  (None, None, 256)    0           conv1d_3[0][0]                   \n",
      "__________________________________________________________________________________________________\n",
      "conv1d_4 (Conv1D)               (None, None, 256)    327936      max_pooling1d_2[0][0]            \n",
      "__________________________________________________________________________________________________\n",
      "conv1d_5 (Conv1D)               (None, None, 256)    327936      conv1d_4[0][0]                   \n",
      "__________________________________________________________________________________________________\n",
      "global_max_pooling1d_1 (GlobalM (None, 256)          0           conv1d_5[0][0]                   \n",
      "__________________________________________________________________________________________________\n",
      "dense_15 (Dense)                (None, 128)          32896       global_max_pooling1d_1[0][0]     \n",
      "__________________________________________________________________________________________________\n",
      "age (Dense)                     (None, 1)            129         dense_15[0][0]                   \n",
      "__________________________________________________________________________________________________\n",
      "income (Dense)                  (None, 10)           1290        dense_15[0][0]                   \n",
      "__________________________________________________________________________________________________\n",
      "gender (Dense)                  (None, 1)            129         dense_15[0][0]                   \n",
      "==================================================================================================\n",
      "Total params: 45,982,476\n",
      "Trainable params: 45,982,476\n",
      "Non-trainable params: 0\n",
      "__________________________________________________________________________________________________\n"
     ]
    }
   ],
   "source": [
    "model2.summary()"
   ]
  },
  {
   "cell_type": "code",
   "execution_count": 42,
   "metadata": {
    "ExecuteTime": {
     "end_time": "2019-08-28T06:10:15.808807Z",
     "start_time": "2019-08-28T06:10:15.744803Z"
    }
   },
   "outputs": [],
   "source": [
    "model2.compile(optimizer='rmsprop',\n",
    "               loss=['mse','categorical_crossentropy','binary_crossentropy'])"
   ]
  },
  {
   "cell_type": "code",
   "execution_count": 43,
   "metadata": {
    "ExecuteTime": {
     "end_time": "2019-08-28T06:15:21.376284Z",
     "start_time": "2019-08-28T06:15:21.314281Z"
    }
   },
   "outputs": [],
   "source": [
    "model2.compile(optimizer='rmsprop',\n",
    "              loss=['mse','categorical_crossentropy','binary_crossentropy'],\n",
    "              loss_weights=[0.25,1.,10])"
   ]
  },
  {
   "cell_type": "code",
   "execution_count": null,
   "metadata": {},
   "outputs": [],
   "source": [
    "# model2.fit(posts,[age_targets,incom])"
   ]
  },
  {
   "cell_type": "markdown",
   "metadata": {},
   "source": [
    "7.1.4 inception"
   ]
  },
  {
   "cell_type": "code",
   "execution_count": 44,
   "metadata": {
    "ExecuteTime": {
     "end_time": "2019-08-28T06:34:19.879403Z",
     "start_time": "2019-08-28T06:34:19.875403Z"
    }
   },
   "outputs": [],
   "source": [
    "from keras import layers"
   ]
  },
  {
   "cell_type": "code",
   "execution_count": 46,
   "metadata": {
    "ExecuteTime": {
     "end_time": "2019-08-28T06:46:30.862213Z",
     "start_time": "2019-08-28T06:46:30.853212Z"
    }
   },
   "outputs": [],
   "source": [
    "branch_a = layers.Conv2D(128,1,activation='relu',strides=2)(x)\n",
    "\n",
    "branch_b=layers.Conv2D(128,1,activation='relu')(x)\n",
    "branch_b=layers.Conv2D(128,3,activation='relu',strides=2)(branch_b)\n",
    "\n",
    "branch_c=layers.AveragePooling2D(3,strides=2)(x)\n",
    "branch_c=layers.Conv2D(128,3,activation='relu')(branch_c)\n",
    "\n",
    "branch_d=layers.Conv2D(128,1,activation='relu')(x)\n",
    "branch_d=layers.Conv2D(128,3,activation='relu')(branch_d)\n",
    "branch_d=layers.Conv2D(128,3,activation='relu')(branch_d)\n",
    "\n",
    "output=layers.Concatenate([branch_a,\n",
    "                          branch_b,\n",
    "                          branch_c,\n",
    "                          branch_d],axis=1)"
   ]
  },
  {
   "cell_type": "markdown",
   "metadata": {},
   "source": [
    "7.1.5 siamese LSTM"
   ]
  },
  {
   "cell_type": "code",
   "execution_count": 49,
   "metadata": {
    "ExecuteTime": {
     "end_time": "2019-08-29T06:12:56.566799Z",
     "start_time": "2019-08-29T06:12:56.351787Z"
    }
   },
   "outputs": [
    {
     "name": "stdout",
     "output_type": "stream",
     "text": [
      "__________________________________________________________________________________________________\n",
      "Layer (type)                    Output Shape         Param #     Connected to                     \n",
      "==================================================================================================\n",
      "input_10 (InputLayer)           (None, None, 128)    0                                            \n",
      "__________________________________________________________________________________________________\n",
      "input_11 (InputLayer)           (None, None, 128)    0                                            \n",
      "__________________________________________________________________________________________________\n",
      "lstm_10 (LSTM)                  (None, 32)           20608       input_10[0][0]                   \n",
      "                                                                 input_11[0][0]                   \n",
      "__________________________________________________________________________________________________\n",
      "concatenate_5 (Concatenate)     (None, 64)           0           lstm_10[0][0]                    \n",
      "                                                                 lstm_10[1][0]                    \n",
      "__________________________________________________________________________________________________\n",
      "dense_18 (Dense)                (None, 1)            65          concatenate_5[0][0]              \n",
      "==================================================================================================\n",
      "Total params: 20,673\n",
      "Trainable params: 20,673\n",
      "Non-trainable params: 0\n",
      "__________________________________________________________________________________________________\n"
     ]
    }
   ],
   "source": [
    "lstm=layers.LSTM(32)\n",
    "left_input=Input(shape=(None,128))\n",
    "left_output=lstm(left_input)\n",
    "\n",
    "right_input=Input(shape=(None,128))\n",
    "right_output=lstm(right_input)\n",
    "\n",
    "merged=layers.concatenate([left_output,right_output],axis=1)\n",
    "predictions=layers.Dense(1,activation='sigmoid')(merged)\n",
    "\n",
    "model=Model([left_input,right_input],predictions)\n",
    "\n",
    "model.summary()"
   ]
  },
  {
   "cell_type": "markdown",
   "metadata": {},
   "source": [
    "xception"
   ]
  },
  {
   "cell_type": "code",
   "execution_count": 50,
   "metadata": {
    "ExecuteTime": {
     "end_time": "2019-08-29T06:17:48.968523Z",
     "start_time": "2019-08-29T06:17:48.964523Z"
    }
   },
   "outputs": [],
   "source": [
    "from keras import applications"
   ]
  },
  {
   "cell_type": "code",
   "execution_count": null,
   "metadata": {},
   "outputs": [],
   "source": [
    "xception_base=applications.Xception(weights=None,include_top=False)\n",
    "\n",
    "left_input=Input(shape=(250,250,3))\n",
    "right_input=Input(shape=(250,250,3))\n",
    "\n",
    "left_features=xception_base(left_input)\n",
    "right_input=xception_base(right_input)\n",
    "  "
   ]
  }
 ],
 "metadata": {
  "kernelspec": {
   "display_name": "Python 3",
   "language": "python",
   "name": "python3"
  },
  "language_info": {
   "codemirror_mode": {
    "name": "ipython",
    "version": 3
   },
   "file_extension": ".py",
   "mimetype": "text/x-python",
   "name": "python",
   "nbconvert_exporter": "python",
   "pygments_lexer": "ipython3",
   "version": "3.6.3"
  }
 },
 "nbformat": 4,
 "nbformat_minor": 2
}
