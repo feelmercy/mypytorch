{
 "cells": [
  {
   "cell_type": "code",
   "execution_count": 1,
   "metadata": {
    "ExecuteTime": {
     "end_time": "2019-07-11T01:26:00.915706Z",
     "start_time": "2019-07-11T01:25:46.422678Z"
    }
   },
   "outputs": [
    {
     "name": "stderr",
     "output_type": "stream",
     "text": [
      "D:\\ProgramData\\Anaconda3\\lib\\site-packages\\h5py\\__init__.py:34: FutureWarning: Conversion of the second argument of issubdtype from `float` to `np.floating` is deprecated. In future, it will be treated as `np.float64 == np.dtype(float).type`.\n",
      "  from ._conv import register_converters as _register_converters\n",
      "Using TensorFlow backend.\n"
     ]
    }
   ],
   "source": [
    "from keras import models\n",
    "from keras import layers"
   ]
  },
  {
   "cell_type": "code",
   "execution_count": 2,
   "metadata": {
    "ExecuteTime": {
     "end_time": "2019-07-11T01:26:00.969709Z",
     "start_time": "2019-07-11T01:26:00.919706Z"
    }
   },
   "outputs": [],
   "source": [
    "model=models.Sequential()\n",
    "model.add(layers.Dense(32,activation='relu',input_shape=(784,)))\n",
    "model.add(layers.Dense(10,activation='softmax'))"
   ]
  },
  {
   "cell_type": "code",
   "execution_count": 3,
   "metadata": {
    "ExecuteTime": {
     "end_time": "2019-07-11T01:26:05.117945Z",
     "start_time": "2019-07-11T01:26:05.053343Z"
    }
   },
   "outputs": [],
   "source": [
    "input_tensor=layers.Input(shape=(784,))\n",
    "x=layers.Dense(32,activation='relu')(input_tensor)\n",
    "output_tensor=layers.Dense(10,activation='softmax')(x)\n",
    "model=models.Model(inputs=input_tensor,outputs=output_tensor)"
   ]
  },
  {
   "cell_type": "code",
   "execution_count": 4,
   "metadata": {
    "ExecuteTime": {
     "end_time": "2019-07-11T01:26:06.349373Z",
     "start_time": "2019-07-11T01:26:06.333773Z"
    }
   },
   "outputs": [],
   "source": [
    "from keras import optimizers"
   ]
  },
  {
   "cell_type": "code",
   "execution_count": 5,
   "metadata": {
    "ExecuteTime": {
     "end_time": "2019-07-11T01:26:07.363005Z",
     "start_time": "2019-07-11T01:26:07.286802Z"
    }
   },
   "outputs": [],
   "source": [
    "model.compile(optimizer=optimizers.RMSprop(lr=0.001),loss='mse',metrics=['accuracy'])"
   ]
  },
  {
   "cell_type": "markdown",
   "metadata": {},
   "source": [
    "#3.1"
   ]
  },
  {
   "cell_type": "code",
   "execution_count": 6,
   "metadata": {
    "ExecuteTime": {
     "end_time": "2019-07-11T01:26:10.757979Z",
     "start_time": "2019-07-11T01:26:10.753979Z"
    }
   },
   "outputs": [],
   "source": [
    "from keras.datasets import imdb\n",
    "import numpy as np"
   ]
  },
  {
   "cell_type": "code",
   "execution_count": 7,
   "metadata": {
    "ExecuteTime": {
     "end_time": "2019-07-11T01:26:16.486630Z",
     "start_time": "2019-07-11T01:26:12.593209Z"
    }
   },
   "outputs": [],
   "source": [
    "(train_data,train_labels),(test_data,test_labels)=imdb.load_data(num_words=10000)"
   ]
  },
  {
   "cell_type": "code",
   "execution_count": 8,
   "metadata": {
    "ExecuteTime": {
     "end_time": "2019-07-11T01:26:19.602062Z",
     "start_time": "2019-07-11T01:26:19.572461Z"
    }
   },
   "outputs": [
    {
     "data": {
      "text/plain": [
       "[1,\n",
       " 14,\n",
       " 22,\n",
       " 16,\n",
       " 43,\n",
       " 530,\n",
       " 973,\n",
       " 1622,\n",
       " 1385,\n",
       " 65,\n",
       " 458,\n",
       " 4468,\n",
       " 66,\n",
       " 3941,\n",
       " 4,\n",
       " 173,\n",
       " 36,\n",
       " 256,\n",
       " 5,\n",
       " 25,\n",
       " 100,\n",
       " 43,\n",
       " 838,\n",
       " 112,\n",
       " 50,\n",
       " 670,\n",
       " 2,\n",
       " 9,\n",
       " 35,\n",
       " 480,\n",
       " 284,\n",
       " 5,\n",
       " 150,\n",
       " 4,\n",
       " 172,\n",
       " 112,\n",
       " 167,\n",
       " 2,\n",
       " 336,\n",
       " 385,\n",
       " 39,\n",
       " 4,\n",
       " 172,\n",
       " 4536,\n",
       " 1111,\n",
       " 17,\n",
       " 546,\n",
       " 38,\n",
       " 13,\n",
       " 447,\n",
       " 4,\n",
       " 192,\n",
       " 50,\n",
       " 16,\n",
       " 6,\n",
       " 147,\n",
       " 2025,\n",
       " 19,\n",
       " 14,\n",
       " 22,\n",
       " 4,\n",
       " 1920,\n",
       " 4613,\n",
       " 469,\n",
       " 4,\n",
       " 22,\n",
       " 71,\n",
       " 87,\n",
       " 12,\n",
       " 16,\n",
       " 43,\n",
       " 530,\n",
       " 38,\n",
       " 76,\n",
       " 15,\n",
       " 13,\n",
       " 1247,\n",
       " 4,\n",
       " 22,\n",
       " 17,\n",
       " 515,\n",
       " 17,\n",
       " 12,\n",
       " 16,\n",
       " 626,\n",
       " 18,\n",
       " 2,\n",
       " 5,\n",
       " 62,\n",
       " 386,\n",
       " 12,\n",
       " 8,\n",
       " 316,\n",
       " 8,\n",
       " 106,\n",
       " 5,\n",
       " 4,\n",
       " 2223,\n",
       " 5244,\n",
       " 16,\n",
       " 480,\n",
       " 66,\n",
       " 3785,\n",
       " 33,\n",
       " 4,\n",
       " 130,\n",
       " 12,\n",
       " 16,\n",
       " 38,\n",
       " 619,\n",
       " 5,\n",
       " 25,\n",
       " 124,\n",
       " 51,\n",
       " 36,\n",
       " 135,\n",
       " 48,\n",
       " 25,\n",
       " 1415,\n",
       " 33,\n",
       " 6,\n",
       " 22,\n",
       " 12,\n",
       " 215,\n",
       " 28,\n",
       " 77,\n",
       " 52,\n",
       " 5,\n",
       " 14,\n",
       " 407,\n",
       " 16,\n",
       " 82,\n",
       " 2,\n",
       " 8,\n",
       " 4,\n",
       " 107,\n",
       " 117,\n",
       " 5952,\n",
       " 15,\n",
       " 256,\n",
       " 4,\n",
       " 2,\n",
       " 7,\n",
       " 3766,\n",
       " 5,\n",
       " 723,\n",
       " 36,\n",
       " 71,\n",
       " 43,\n",
       " 530,\n",
       " 476,\n",
       " 26,\n",
       " 400,\n",
       " 317,\n",
       " 46,\n",
       " 7,\n",
       " 4,\n",
       " 2,\n",
       " 1029,\n",
       " 13,\n",
       " 104,\n",
       " 88,\n",
       " 4,\n",
       " 381,\n",
       " 15,\n",
       " 297,\n",
       " 98,\n",
       " 32,\n",
       " 2071,\n",
       " 56,\n",
       " 26,\n",
       " 141,\n",
       " 6,\n",
       " 194,\n",
       " 7486,\n",
       " 18,\n",
       " 4,\n",
       " 226,\n",
       " 22,\n",
       " 21,\n",
       " 134,\n",
       " 476,\n",
       " 26,\n",
       " 480,\n",
       " 5,\n",
       " 144,\n",
       " 30,\n",
       " 5535,\n",
       " 18,\n",
       " 51,\n",
       " 36,\n",
       " 28,\n",
       " 224,\n",
       " 92,\n",
       " 25,\n",
       " 104,\n",
       " 4,\n",
       " 226,\n",
       " 65,\n",
       " 16,\n",
       " 38,\n",
       " 1334,\n",
       " 88,\n",
       " 12,\n",
       " 16,\n",
       " 283,\n",
       " 5,\n",
       " 16,\n",
       " 4472,\n",
       " 113,\n",
       " 103,\n",
       " 32,\n",
       " 15,\n",
       " 16,\n",
       " 5345,\n",
       " 19,\n",
       " 178,\n",
       " 32]"
      ]
     },
     "execution_count": 8,
     "metadata": {},
     "output_type": "execute_result"
    }
   ],
   "source": [
    "train_data[0]"
   ]
  },
  {
   "cell_type": "code",
   "execution_count": 9,
   "metadata": {
    "ExecuteTime": {
     "end_time": "2019-07-11T01:26:21.175091Z",
     "start_time": "2019-07-11T01:26:21.159491Z"
    }
   },
   "outputs": [
    {
     "data": {
      "text/plain": [
       "1"
      ]
     },
     "execution_count": 9,
     "metadata": {},
     "output_type": "execute_result"
    }
   ],
   "source": [
    "train_labels[0]"
   ]
  },
  {
   "cell_type": "code",
   "execution_count": 10,
   "metadata": {
    "ExecuteTime": {
     "end_time": "2019-07-11T01:26:24.092331Z",
     "start_time": "2019-07-11T01:26:23.947723Z"
    }
   },
   "outputs": [
    {
     "data": {
      "text/plain": [
       "9999"
      ]
     },
     "execution_count": 10,
     "metadata": {},
     "output_type": "execute_result"
    }
   ],
   "source": [
    "max([max(sequence) for sequence in train_data])"
   ]
  },
  {
   "cell_type": "code",
   "execution_count": 11,
   "metadata": {
    "ExecuteTime": {
     "end_time": "2019-07-11T01:26:25.434364Z",
     "start_time": "2019-07-11T01:26:25.313758Z"
    }
   },
   "outputs": [],
   "source": [
    "word_index=imdb.get_word_index()\n",
    "reverse_word_index=dict(\n",
    "[(value,key) for (key,value) in word_index.items()])\n",
    "decoded_review=' '.join(\n",
    "[reverse_word_index.get(i-3,'?') for i in train_data[0]])"
   ]
  },
  {
   "cell_type": "code",
   "execution_count": 12,
   "metadata": {
    "ExecuteTime": {
     "end_time": "2019-07-11T01:26:27.146393Z",
     "start_time": "2019-07-11T01:26:27.130793Z"
    }
   },
   "outputs": [],
   "source": [
    "def vectorize_sequences(sequences,dimension=10000):\n",
    "    results=np.zeros((len(sequences),dimension))\n",
    "    for i ,sequence in enumerate(sequences):\n",
    "        results[i,sequence]=1.\n",
    "    return results\n",
    "    "
   ]
  },
  {
   "cell_type": "code",
   "execution_count": 13,
   "metadata": {
    "ExecuteTime": {
     "end_time": "2019-07-11T01:26:30.359495Z",
     "start_time": "2019-07-11T01:26:29.082822Z"
    }
   },
   "outputs": [],
   "source": [
    "X_train=vectorize_sequences(train_data)\n",
    "X_test=vectorize_sequences(test_data)"
   ]
  },
  {
   "cell_type": "code",
   "execution_count": 14,
   "metadata": {
    "ExecuteTime": {
     "end_time": "2019-07-11T01:35:02.814460Z",
     "start_time": "2019-07-11T01:35:02.803459Z"
    }
   },
   "outputs": [
    {
     "data": {
      "text/plain": [
       "array([0., 1., 1., ..., 0., 0., 0.])"
      ]
     },
     "execution_count": 14,
     "metadata": {},
     "output_type": "execute_result"
    }
   ],
   "source": [
    "X_train[0]"
   ]
  },
  {
   "cell_type": "code",
   "execution_count": 15,
   "metadata": {
    "ExecuteTime": {
     "end_time": "2019-07-11T01:38:14.081400Z",
     "start_time": "2019-07-11T01:38:14.056398Z"
    }
   },
   "outputs": [],
   "source": [
    "y_train=np.asarray(train_labels).astype('float32')\n",
    "y_test=np.asarray(test_labels).astype('float32')"
   ]
  },
  {
   "cell_type": "code",
   "execution_count": 19,
   "metadata": {
    "ExecuteTime": {
     "end_time": "2019-07-11T03:15:03.035266Z",
     "start_time": "2019-07-11T03:15:02.957261Z"
    }
   },
   "outputs": [],
   "source": [
    "model=models.Sequential()\n",
    "model.add(layers.Dense(16,activation='relu',input_shape=(10000,)))\n",
    "model.add(layers.Dense(16,activation='relu'))\n",
    "model.add(layers.Dense(1,activation='sigmoid'))"
   ]
  },
  {
   "cell_type": "code",
   "execution_count": 21,
   "metadata": {
    "ExecuteTime": {
     "end_time": "2019-07-11T03:23:58.720905Z",
     "start_time": "2019-07-11T03:23:58.659902Z"
    }
   },
   "outputs": [],
   "source": [
    "model.compile(optimizer=optimizers.RMSprop(lr=0.001),\n",
    "             loss='binary_crossentropy',\n",
    "             metrics=['accuracy'])"
   ]
  },
  {
   "cell_type": "code",
   "execution_count": 22,
   "metadata": {
    "ExecuteTime": {
     "end_time": "2019-07-11T03:25:01.094473Z",
     "start_time": "2019-07-11T03:25:01.087472Z"
    }
   },
   "outputs": [
    {
     "data": {
      "text/plain": [
       "(25000, 10000)"
      ]
     },
     "execution_count": 22,
     "metadata": {},
     "output_type": "execute_result"
    }
   ],
   "source": [
    "X_train.shape"
   ]
  },
  {
   "cell_type": "code",
   "execution_count": 23,
   "metadata": {
    "ExecuteTime": {
     "end_time": "2019-07-11T03:26:01.763943Z",
     "start_time": "2019-07-11T03:26:01.755942Z"
    }
   },
   "outputs": [],
   "source": [
    "x_val=X_train[:10000]\n",
    "partial_x_train=X_train[10000:]\n",
    "\n",
    "y_val=y_train[:10000]\n",
    "partial_y_train=y_train[10000:]\n"
   ]
  },
  {
   "cell_type": "code",
   "execution_count": 24,
   "metadata": {
    "ExecuteTime": {
     "end_time": "2019-07-11T03:28:55.263866Z",
     "start_time": "2019-07-11T03:27:53.079310Z"
    }
   },
   "outputs": [
    {
     "name": "stdout",
     "output_type": "stream",
     "text": [
      "Train on 15000 samples, validate on 10000 samples\n",
      "Epoch 1/20\n",
      "15000/15000 [==============================] - 4s 242us/step - loss: 0.3513 - acc: 0.8554 - val_loss: 0.2806 - val_acc: 0.8862\n",
      "Epoch 2/20\n",
      "15000/15000 [==============================] - 3s 203us/step - loss: 0.2031 - acc: 0.9223 - val_loss: 0.2882 - val_acc: 0.8873\n",
      "Epoch 3/20\n",
      "15000/15000 [==============================] - 3s 198us/step - loss: 0.1567 - acc: 0.9423 - val_loss: 0.3158 - val_acc: 0.8858\n",
      "Epoch 4/20\n",
      "15000/15000 [==============================] - 3s 202us/step - loss: 0.1253 - acc: 0.9557 - val_loss: 0.3556 - val_acc: 0.8856\n",
      "Epoch 5/20\n",
      "15000/15000 [==============================] - 3s 203us/step - loss: 0.1014 - acc: 0.9635 - val_loss: 0.4051 - val_acc: 0.8769\n",
      "Epoch 6/20\n",
      "15000/15000 [==============================] - 3s 204us/step - loss: 0.0797 - acc: 0.9716 - val_loss: 0.4599 - val_acc: 0.8786\n",
      "Epoch 7/20\n",
      "15000/15000 [==============================] - 3s 206us/step - loss: 0.0631 - acc: 0.9779 - val_loss: 0.5223 - val_acc: 0.8749\n",
      "Epoch 8/20\n",
      "15000/15000 [==============================] - 3s 206us/step - loss: 0.0513 - acc: 0.9840 - val_loss: 0.6004 - val_acc: 0.8745\n",
      "Epoch 9/20\n",
      "15000/15000 [==============================] - 3s 206us/step - loss: 0.0384 - acc: 0.9869 - val_loss: 0.6734 - val_acc: 0.8704\n",
      "Epoch 10/20\n",
      "15000/15000 [==============================] - 3s 203us/step - loss: 0.0295 - acc: 0.9913 - val_loss: 0.7432 - val_acc: 0.8707\n",
      "Epoch 11/20\n",
      "15000/15000 [==============================] - 3s 205us/step - loss: 0.0226 - acc: 0.9939 - val_loss: 0.8380 - val_acc: 0.8679\n",
      "Epoch 12/20\n",
      "15000/15000 [==============================] - 3s 202us/step - loss: 0.0157 - acc: 0.9952 - val_loss: 0.9276 - val_acc: 0.8672\n",
      "Epoch 13/20\n",
      "15000/15000 [==============================] - 3s 205us/step - loss: 0.0107 - acc: 0.9969 - val_loss: 1.0219 - val_acc: 0.8667\n",
      "Epoch 14/20\n",
      "15000/15000 [==============================] - 3s 204us/step - loss: 0.0074 - acc: 0.9979 - val_loss: 1.1060 - val_acc: 0.8660\n",
      "Epoch 15/20\n",
      "15000/15000 [==============================] - 3s 204us/step - loss: 0.0050 - acc: 0.9985 - val_loss: 1.1792 - val_acc: 0.8629\n",
      "Epoch 16/20\n",
      "15000/15000 [==============================] - 3s 204us/step - loss: 0.0032 - acc: 0.9991 - val_loss: 1.2685 - val_acc: 0.8632\n",
      "Epoch 17/20\n",
      "15000/15000 [==============================] - 3s 208us/step - loss: 0.0024 - acc: 0.9992 - val_loss: 1.3266 - val_acc: 0.8661\n",
      "Epoch 18/20\n",
      "15000/15000 [==============================] - 3s 208us/step - loss: 0.0021 - acc: 0.9996 - val_loss: 1.3818 - val_acc: 0.8638\n",
      "Epoch 19/20\n",
      "15000/15000 [==============================] - 3s 207us/step - loss: 0.0013 - acc: 0.9997 - val_loss: 1.4326 - val_acc: 0.8649\n",
      "Epoch 20/20\n",
      "15000/15000 [==============================] - 3s 202us/step - loss: 9.7138e-04 - acc: 0.9998 - val_loss: 1.4811 - val_acc: 0.8634\n"
     ]
    }
   ],
   "source": [
    "history=model.fit(partial_x_train,\n",
    "                 partial_y_train,\n",
    "                 epochs=20,\n",
    "                 validation_data=(x_val,y_val))"
   ]
  },
  {
   "cell_type": "code",
   "execution_count": 26,
   "metadata": {
    "ExecuteTime": {
     "end_time": "2019-07-11T03:30:35.744613Z",
     "start_time": "2019-07-11T03:30:35.738613Z"
    }
   },
   "outputs": [
    {
     "data": {
      "text/plain": [
       "dict_keys(['val_loss', 'val_acc', 'loss', 'acc'])"
      ]
     },
     "execution_count": 26,
     "metadata": {},
     "output_type": "execute_result"
    }
   ],
   "source": [
    "history_dict=history.history\n",
    "history_dict.keys()"
   ]
  },
  {
   "cell_type": "code",
   "execution_count": 33,
   "metadata": {
    "ExecuteTime": {
     "end_time": "2019-07-11T07:11:26.196975Z",
     "start_time": "2019-07-11T07:11:26.138972Z"
    }
   },
   "outputs": [],
   "source": [
    "model=models.Sequential()\n",
    "model.add(layers.Dense(64,activation='relu',input_shape=(10000,)))\n",
    "model.add(layers.Dense(64,activation='relu'))\n",
    "model.add(layers.Dense(1,activation='sigmoid'))"
   ]
  },
  {
   "cell_type": "code",
   "execution_count": 34,
   "metadata": {
    "ExecuteTime": {
     "end_time": "2019-07-11T07:11:28.071082Z",
     "start_time": "2019-07-11T07:11:27.987078Z"
    }
   },
   "outputs": [],
   "source": [
    "model.compile(optimizer='rmsprop',\n",
    "             loss='binary_crossentropy',\n",
    "             metrics=['accuracy'])"
   ]
  },
  {
   "cell_type": "code",
   "execution_count": 35,
   "metadata": {
    "ExecuteTime": {
     "end_time": "2019-07-11T07:11:43.712977Z",
     "start_time": "2019-07-11T07:11:29.135143Z"
    }
   },
   "outputs": [
    {
     "name": "stdout",
     "output_type": "stream",
     "text": [
      "Epoch 1/4\n",
      "25000/25000 [==============================] - 3s 127us/step - loss: 0.4294 - acc: 0.8080\n",
      "Epoch 2/4\n",
      "25000/25000 [==============================] - 3s 106us/step - loss: 0.2382 - acc: 0.9093\n",
      "Epoch 3/4\n",
      "25000/25000 [==============================] - 3s 105us/step - loss: 0.1829 - acc: 0.9310\n",
      "Epoch 4/4\n",
      "25000/25000 [==============================] - 3s 106us/step - loss: 0.1419 - acc: 0.9464\n",
      "25000/25000 [==============================] - 3s 126us/step\n"
     ]
    }
   ],
   "source": [
    "model.fit(X_train,y_train,epochs=4,batch_size=512)\n",
    "results=model.evaluate(X_test,y_test)"
   ]
  },
  {
   "cell_type": "code",
   "execution_count": 36,
   "metadata": {
    "ExecuteTime": {
     "end_time": "2019-07-11T07:12:17.544912Z",
     "start_time": "2019-07-11T07:12:17.534912Z"
    }
   },
   "outputs": [
    {
     "data": {
      "text/plain": [
       "[0.3383116394090652, 0.8726]"
      ]
     },
     "execution_count": 36,
     "metadata": {},
     "output_type": "execute_result"
    }
   ],
   "source": [
    "results"
   ]
  },
  {
   "cell_type": "code",
   "execution_count": null,
   "metadata": {},
   "outputs": [],
   "source": [
    "[0.32425593941688535, 0.8732]"
   ]
  },
  {
   "cell_type": "code",
   "execution_count": 32,
   "metadata": {
    "ExecuteTime": {
     "end_time": "2019-07-11T07:07:55.711936Z",
     "start_time": "2019-07-11T07:07:53.691821Z"
    }
   },
   "outputs": [
    {
     "data": {
      "text/plain": [
       "array([[0.14250116],\n",
       "       [0.99970406],\n",
       "       [0.28931814],\n",
       "       ...,\n",
       "       [0.07107645],\n",
       "       [0.04292201],\n",
       "       [0.47185946]], dtype=float32)"
      ]
     },
     "execution_count": 32,
     "metadata": {},
     "output_type": "execute_result"
    }
   ],
   "source": [
    "model.predict(X_test)"
   ]
  },
  {
   "cell_type": "code",
   "execution_count": 37,
   "metadata": {
    "ExecuteTime": {
     "end_time": "2019-07-11T07:20:28.132972Z",
     "start_time": "2019-07-11T07:20:28.126972Z"
    }
   },
   "outputs": [],
   "source": [
    "from keras.datasets import reuters"
   ]
  },
  {
   "cell_type": "code",
   "execution_count": 38,
   "metadata": {
    "ExecuteTime": {
     "end_time": "2019-07-11T07:24:22.780393Z",
     "start_time": "2019-07-11T07:24:07.985547Z"
    }
   },
   "outputs": [
    {
     "name": "stdout",
     "output_type": "stream",
     "text": [
      "Downloading data from https://s3.amazonaws.com/text-datasets/reuters.npz\n",
      "2113536/2110848 [==============================] - 11s 5us/step\n"
     ]
    }
   ],
   "source": [
    "(train_data,train_labels),(test_data,test_labels)=reuters.load_data(num_words=10000)"
   ]
  },
  {
   "cell_type": "code",
   "execution_count": 39,
   "metadata": {
    "ExecuteTime": {
     "end_time": "2019-07-11T07:25:16.377459Z",
     "start_time": "2019-07-11T07:25:16.369458Z"
    }
   },
   "outputs": [
    {
     "data": {
      "text/plain": [
       "(8982,)"
      ]
     },
     "execution_count": 39,
     "metadata": {},
     "output_type": "execute_result"
    }
   ],
   "source": [
    "train_data.shape"
   ]
  },
  {
   "cell_type": "code",
   "execution_count": 40,
   "metadata": {
    "ExecuteTime": {
     "end_time": "2019-07-11T07:25:28.570156Z",
     "start_time": "2019-07-11T07:25:28.562156Z"
    }
   },
   "outputs": [
    {
     "data": {
      "text/plain": [
       "(2246,)"
      ]
     },
     "execution_count": 40,
     "metadata": {},
     "output_type": "execute_result"
    }
   ],
   "source": [
    "test_data.shape"
   ]
  },
  {
   "cell_type": "code",
   "execution_count": 41,
   "metadata": {
    "ExecuteTime": {
     "end_time": "2019-07-11T07:25:52.989553Z",
     "start_time": "2019-07-11T07:25:52.977552Z"
    }
   },
   "outputs": [
    {
     "data": {
      "text/plain": [
       "[1,\n",
       " 245,\n",
       " 273,\n",
       " 207,\n",
       " 156,\n",
       " 53,\n",
       " 74,\n",
       " 160,\n",
       " 26,\n",
       " 14,\n",
       " 46,\n",
       " 296,\n",
       " 26,\n",
       " 39,\n",
       " 74,\n",
       " 2979,\n",
       " 3554,\n",
       " 14,\n",
       " 46,\n",
       " 4689,\n",
       " 4329,\n",
       " 86,\n",
       " 61,\n",
       " 3499,\n",
       " 4795,\n",
       " 14,\n",
       " 61,\n",
       " 451,\n",
       " 4329,\n",
       " 17,\n",
       " 12]"
      ]
     },
     "execution_count": 41,
     "metadata": {},
     "output_type": "execute_result"
    }
   ],
   "source": [
    "train_data[10]"
   ]
  },
  {
   "cell_type": "code",
   "execution_count": 42,
   "metadata": {
    "ExecuteTime": {
     "end_time": "2019-07-11T07:36:53.368324Z",
     "start_time": "2019-07-11T07:36:35.733316Z"
    }
   },
   "outputs": [
    {
     "name": "stdout",
     "output_type": "stream",
     "text": [
      "Downloading data from https://s3.amazonaws.com/text-datasets/reuters_word_index.json\n",
      "557056/550378 [==============================] - 16s 29us/step\n"
     ]
    }
   ],
   "source": [
    "word_index=reuters.get_word_index()\n",
    "reverse_word_index=dict([(value,key) for (key,value) in word_index.items()])\n",
    "decoded_newswire=' '.join ([reverse_word_index.get(i-3,'?') for i in train_data[0]])"
   ]
  },
  {
   "cell_type": "code",
   "execution_count": 48,
   "metadata": {
    "ExecuteTime": {
     "end_time": "2019-07-11T07:39:52.666580Z",
     "start_time": "2019-07-11T07:39:52.656579Z"
    }
   },
   "outputs": [
    {
     "data": {
      "text/plain": [
       "45"
      ]
     },
     "execution_count": 48,
     "metadata": {},
     "output_type": "execute_result"
    }
   ],
   "source": [
    "np.max(train_labels)"
   ]
  },
  {
   "cell_type": "code",
   "execution_count": 49,
   "metadata": {
    "ExecuteTime": {
     "end_time": "2019-07-11T07:39:59.915994Z",
     "start_time": "2019-07-11T07:39:59.906994Z"
    }
   },
   "outputs": [
    {
     "data": {
      "text/plain": [
       "0"
      ]
     },
     "execution_count": 49,
     "metadata": {},
     "output_type": "execute_result"
    }
   ],
   "source": [
    "np.min(train_labels)"
   ]
  },
  {
   "cell_type": "code",
   "execution_count": 52,
   "metadata": {
    "ExecuteTime": {
     "end_time": "2019-07-11T07:59:46.700874Z",
     "start_time": "2019-07-11T07:59:46.691874Z"
    }
   },
   "outputs": [],
   "source": [
    "def vectorize_sequences(sequences,dimension=10000):\n",
    "    results=np.zeros((len(sequences),dimension))\n",
    "    for i ,sequence in enumerate(sequences):\n",
    "        results[i,sequence]=1.\n",
    "    return results"
   ]
  },
  {
   "cell_type": "code",
   "execution_count": 53,
   "metadata": {
    "ExecuteTime": {
     "end_time": "2019-07-11T07:59:47.384914Z",
     "start_time": "2019-07-11T07:59:47.172901Z"
    }
   },
   "outputs": [],
   "source": [
    "x_train=vectorize_sequences(train_data)\n",
    "x_test=vectorize_sequences(test_data)"
   ]
  },
  {
   "cell_type": "code",
   "execution_count": 58,
   "metadata": {
    "ExecuteTime": {
     "end_time": "2019-07-11T08:13:10.066824Z",
     "start_time": "2019-07-11T08:13:10.056824Z"
    }
   },
   "outputs": [],
   "source": [
    "def to_one_hot(labels,dimension=46):\n",
    "    results=np.zeros((len(labels),dimension))\n",
    "    for i ,labels in enumerate(labels):\n",
    "        results[i,labels]=1.0\n",
    "    return results"
   ]
  },
  {
   "cell_type": "code",
   "execution_count": 59,
   "metadata": {
    "ExecuteTime": {
     "end_time": "2019-07-11T08:14:19.527797Z",
     "start_time": "2019-07-11T08:14:19.506796Z"
    }
   },
   "outputs": [],
   "source": [
    "one_hot_train_labels=to_one_hot(train_labels)\n",
    "one_hot_test_labels=to_one_hot(test_labels)"
   ]
  },
  {
   "cell_type": "code",
   "execution_count": 60,
   "metadata": {
    "ExecuteTime": {
     "end_time": "2019-07-11T08:14:57.126948Z",
     "start_time": "2019-07-11T08:14:57.119947Z"
    }
   },
   "outputs": [],
   "source": [
    "from keras.utils.np_utils import to_categorical"
   ]
  },
  {
   "cell_type": "code",
   "execution_count": 61,
   "metadata": {
    "ExecuteTime": {
     "end_time": "2019-07-11T08:15:58.278446Z",
     "start_time": "2019-07-11T08:15:58.256444Z"
    }
   },
   "outputs": [],
   "source": [
    "one_hot_train_labels1=to_categorical(train_labels)\n",
    "one_hot_test_labels1=to_categorical(test_labels)"
   ]
  },
  {
   "cell_type": "code",
   "execution_count": 64,
   "metadata": {
    "ExecuteTime": {
     "end_time": "2019-07-11T08:18:39.958693Z",
     "start_time": "2019-07-11T08:18:39.946692Z"
    }
   },
   "outputs": [
    {
     "data": {
      "text/plain": [
       "(8982, 10000)"
      ]
     },
     "execution_count": 64,
     "metadata": {},
     "output_type": "execute_result"
    }
   ],
   "source": [
    "x_train.shape"
   ]
  },
  {
   "cell_type": "code",
   "execution_count": 66,
   "metadata": {
    "ExecuteTime": {
     "end_time": "2019-07-11T08:20:08.267744Z",
     "start_time": "2019-07-11T08:20:08.195740Z"
    }
   },
   "outputs": [],
   "source": [
    "model1=models.Sequential()\n",
    "model1.add(layers.Dense(64,activation='relu',input_shape=(10000,)))\n",
    "model1.add(layers.Dense(64,activation='relu'))\n",
    "model1.add(layers.Dense(46,activation='softmax'))"
   ]
  },
  {
   "cell_type": "code",
   "execution_count": 67,
   "metadata": {
    "ExecuteTime": {
     "end_time": "2019-07-11T08:22:28.233750Z",
     "start_time": "2019-07-11T08:22:28.171746Z"
    }
   },
   "outputs": [],
   "source": [
    "model1.compile(optimizer='rmsprop',\n",
    "              loss='categorical_crossentropy',\n",
    "              metrics=['acc'])"
   ]
  },
  {
   "cell_type": "code",
   "execution_count": 68,
   "metadata": {
    "ExecuteTime": {
     "end_time": "2019-07-11T08:24:41.229357Z",
     "start_time": "2019-07-11T08:24:41.221356Z"
    }
   },
   "outputs": [],
   "source": [
    "x_val=x_train[:1000]\n",
    "partial_x_train=x_train[1000:]\n",
    "\n",
    "y_val=one_hot_train_labels[:1000]\n",
    "partial_y_train=one_hot_train_labels[1000:]"
   ]
  },
  {
   "cell_type": "code",
   "execution_count": 71,
   "metadata": {
    "ExecuteTime": {
     "end_time": "2019-07-11T08:27:27.876888Z",
     "start_time": "2019-07-11T08:27:07.962749Z"
    }
   },
   "outputs": [
    {
     "name": "stdout",
     "output_type": "stream",
     "text": [
      "Train on 7982 samples, validate on 1000 samples\n",
      "Epoch 1/20\n",
      "7982/7982 [==============================] - 1s 124us/step - loss: 1.4465 - acc: 0.6858 - val_loss: 1.3506 - val_acc: 0.7130\n",
      "Epoch 2/20\n",
      "7982/7982 [==============================] - 1s 125us/step - loss: 1.1010 - acc: 0.7618 - val_loss: 1.1777 - val_acc: 0.7370\n",
      "Epoch 3/20\n",
      "7982/7982 [==============================] - 1s 125us/step - loss: 0.8792 - acc: 0.8084 - val_loss: 1.0696 - val_acc: 0.7610\n",
      "Epoch 4/20\n",
      "7982/7982 [==============================] - 1s 126us/step - loss: 0.7072 - acc: 0.8478 - val_loss: 1.0003 - val_acc: 0.7830\n",
      "Epoch 5/20\n",
      "7982/7982 [==============================] - 1s 125us/step - loss: 0.5700 - acc: 0.8794 - val_loss: 0.9977 - val_acc: 0.7730\n",
      "Epoch 6/20\n",
      "7982/7982 [==============================] - 1s 123us/step - loss: 0.4587 - acc: 0.9049 - val_loss: 0.8901 - val_acc: 0.8150\n",
      "Epoch 7/20\n",
      "7982/7982 [==============================] - 1s 124us/step - loss: 0.3687 - acc: 0.9223 - val_loss: 0.8870 - val_acc: 0.8120\n",
      "Epoch 8/20\n",
      "7982/7982 [==============================] - 1s 124us/step - loss: 0.3043 - acc: 0.9336 - val_loss: 0.8916 - val_acc: 0.8090\n",
      "Epoch 9/20\n",
      "7982/7982 [==============================] - 1s 124us/step - loss: 0.2525 - acc: 0.9411 - val_loss: 0.9260 - val_acc: 0.8020\n",
      "Epoch 10/20\n",
      "7982/7982 [==============================] - 1s 124us/step - loss: 0.2189 - acc: 0.9481 - val_loss: 0.9364 - val_acc: 0.8030\n",
      "Epoch 11/20\n",
      "7982/7982 [==============================] - 1s 124us/step - loss: 0.1883 - acc: 0.9509 - val_loss: 0.9119 - val_acc: 0.8140\n",
      "Epoch 12/20\n",
      "7982/7982 [==============================] - 1s 123us/step - loss: 0.1713 - acc: 0.9511 - val_loss: 0.9299 - val_acc: 0.8100\n",
      "Epoch 13/20\n",
      "7982/7982 [==============================] - 1s 123us/step - loss: 0.1537 - acc: 0.9546 - val_loss: 0.9756 - val_acc: 0.8000\n",
      "Epoch 14/20\n",
      "7982/7982 [==============================] - 1s 124us/step - loss: 0.1436 - acc: 0.9541 - val_loss: 0.9821 - val_acc: 0.8060\n",
      "Epoch 15/20\n",
      "7982/7982 [==============================] - 1s 126us/step - loss: 0.1301 - acc: 0.9569 - val_loss: 1.0340 - val_acc: 0.8020\n",
      "Epoch 16/20\n",
      "7982/7982 [==============================] - 1s 124us/step - loss: 0.1268 - acc: 0.9574 - val_loss: 1.0588 - val_acc: 0.8000\n",
      "Epoch 17/20\n",
      "7982/7982 [==============================] - 1s 124us/step - loss: 0.1198 - acc: 0.9582 - val_loss: 1.0138 - val_acc: 0.8050\n",
      "Epoch 18/20\n",
      "7982/7982 [==============================] - 1s 124us/step - loss: 0.1158 - acc: 0.9572 - val_loss: 1.0522 - val_acc: 0.8050\n",
      "Epoch 19/20\n",
      "7982/7982 [==============================] - 1s 127us/step - loss: 0.1122 - acc: 0.9554 - val_loss: 1.0737 - val_acc: 0.8030\n",
      "Epoch 20/20\n",
      "7982/7982 [==============================] - 1s 127us/step - loss: 0.1048 - acc: 0.9579 - val_loss: 1.0511 - val_acc: 0.8000\n"
     ]
    }
   ],
   "source": [
    "history=model1.fit(partial_x_train,\n",
    "                 partial_y_train,\n",
    "                 epochs=20,\n",
    "                 batch_size=512,\n",
    "                 validation_data=(x_val,y_val))"
   ]
  },
  {
   "cell_type": "code",
   "execution_count": 72,
   "metadata": {
    "ExecuteTime": {
     "end_time": "2019-07-11T08:29:26.520674Z",
     "start_time": "2019-07-11T08:29:17.092135Z"
    }
   },
   "outputs": [
    {
     "name": "stdout",
     "output_type": "stream",
     "text": [
      "Train on 7982 samples, validate on 1000 samples\n",
      "Epoch 1/9\n",
      "7982/7982 [==============================] - 1s 128us/step - loss: 0.1035 - acc: 0.9589 - val_loss: 1.0883 - val_acc: 0.8080\n",
      "Epoch 2/9\n",
      "7982/7982 [==============================] - 1s 126us/step - loss: 0.1018 - acc: 0.9577 - val_loss: 1.1182 - val_acc: 0.8040\n",
      "Epoch 3/9\n",
      "7982/7982 [==============================] - 1s 125us/step - loss: 0.0995 - acc: 0.9585 - val_loss: 1.1371 - val_acc: 0.7920\n",
      "Epoch 4/9\n",
      "7982/7982 [==============================] - 1s 129us/step - loss: 0.0960 - acc: 0.9600 - val_loss: 1.1722 - val_acc: 0.7900\n",
      "Epoch 5/9\n",
      "7982/7982 [==============================] - 1s 127us/step - loss: 0.0977 - acc: 0.9592 - val_loss: 1.1491 - val_acc: 0.7930\n",
      "Epoch 6/9\n",
      "7982/7982 [==============================] - 1s 128us/step - loss: 0.0936 - acc: 0.9575 - val_loss: 1.1871 - val_acc: 0.8000\n",
      "Epoch 7/9\n",
      "7982/7982 [==============================] - 1s 125us/step - loss: 0.0968 - acc: 0.9575 - val_loss: 1.1628 - val_acc: 0.8000\n",
      "Epoch 8/9\n",
      "7982/7982 [==============================] - 1s 126us/step - loss: 0.0922 - acc: 0.9594 - val_loss: 1.2335 - val_acc: 0.7860\n",
      "Epoch 9/9\n",
      "7982/7982 [==============================] - 1s 124us/step - loss: 0.0913 - acc: 0.9588 - val_loss: 1.2508 - val_acc: 0.7790\n",
      "2246/2246 [==============================] - 0s 141us/step\n"
     ]
    }
   ],
   "source": [
    "history=model1.fit(partial_x_train,\n",
    "                 partial_y_train,\n",
    "                 epochs=9,\n",
    "                 batch_size=512,\n",
    "                 validation_data=(x_val,y_val))\n",
    "results=model1.evaluate(x_test,one_hot_test_labels)"
   ]
  },
  {
   "cell_type": "code",
   "execution_count": 73,
   "metadata": {
    "ExecuteTime": {
     "end_time": "2019-07-11T08:29:44.555706Z",
     "start_time": "2019-07-11T08:29:44.547705Z"
    }
   },
   "outputs": [
    {
     "data": {
      "text/plain": [
       "[1.4009787361216355, 0.7675868210682143]"
      ]
     },
     "execution_count": 73,
     "metadata": {},
     "output_type": "execute_result"
    }
   ],
   "source": [
    "results"
   ]
  },
  {
   "cell_type": "code",
   "execution_count": 75,
   "metadata": {
    "ExecuteTime": {
     "end_time": "2019-07-11T09:02:19.960549Z",
     "start_time": "2019-07-11T09:02:19.955548Z"
    }
   },
   "outputs": [],
   "source": [
    "import copy"
   ]
  },
  {
   "cell_type": "code",
   "execution_count": 76,
   "metadata": {
    "ExecuteTime": {
     "end_time": "2019-07-11T09:02:20.221564Z",
     "start_time": "2019-07-11T09:02:20.211563Z"
    }
   },
   "outputs": [
    {
     "data": {
      "text/plain": [
       "0.17586821015138024"
      ]
     },
     "execution_count": 76,
     "metadata": {},
     "output_type": "execute_result"
    }
   ],
   "source": [
    "test_labels_copy=copy.copy(test_labels)\n",
    "np.random.shuffle(test_labels_copy)\n",
    "hist_array=np.array(test_labels)==np.array(test_labels_copy)\n",
    "float(np.sum(hist_array))/len(test_labels)"
   ]
  },
  {
   "cell_type": "code",
   "execution_count": 77,
   "metadata": {
    "ExecuteTime": {
     "end_time": "2019-07-11T09:02:36.140474Z",
     "start_time": "2019-07-11T09:02:36.128473Z"
    }
   },
   "outputs": [
    {
     "data": {
      "text/plain": [
       "array([ True, False, False, ..., False,  True, False])"
      ]
     },
     "execution_count": 77,
     "metadata": {},
     "output_type": "execute_result"
    }
   ],
   "source": [
    "hist_array\n"
   ]
  },
  {
   "cell_type": "code",
   "execution_count": 79,
   "metadata": {
    "ExecuteTime": {
     "end_time": "2019-07-11T09:04:04.381521Z",
     "start_time": "2019-07-11T09:04:04.373521Z"
    }
   },
   "outputs": [
    {
     "data": {
      "text/plain": [
       "array([ True, False, False])"
      ]
     },
     "execution_count": 79,
     "metadata": {},
     "output_type": "execute_result"
    }
   ],
   "source": [
    "np.array([1,2,3])==np.array([1,3,4])"
   ]
  },
  {
   "cell_type": "code",
   "execution_count": 80,
   "metadata": {
    "ExecuteTime": {
     "end_time": "2019-07-11T09:05:02.786862Z",
     "start_time": "2019-07-11T09:05:02.461843Z"
    }
   },
   "outputs": [],
   "source": [
    "predictions=model1.predict(x_test)"
   ]
  },
  {
   "cell_type": "code",
   "execution_count": 81,
   "metadata": {
    "ExecuteTime": {
     "end_time": "2019-07-11T09:05:13.610481Z",
     "start_time": "2019-07-11T09:05:13.604481Z"
    }
   },
   "outputs": [
    {
     "data": {
      "text/plain": [
       "(46,)"
      ]
     },
     "execution_count": 81,
     "metadata": {},
     "output_type": "execute_result"
    }
   ],
   "source": [
    "predictions[0].shape"
   ]
  },
  {
   "cell_type": "code",
   "execution_count": 82,
   "metadata": {
    "ExecuteTime": {
     "end_time": "2019-07-11T09:05:23.566050Z",
     "start_time": "2019-07-11T09:05:23.561050Z"
    }
   },
   "outputs": [
    {
     "data": {
      "text/plain": [
       "array([[3.7760284e-08, 6.1208866e-08, 1.6162452e-10, ..., 1.6908431e-11,\n",
       "        9.3914806e-13, 5.0967407e-12],\n",
       "       [4.6087640e-05, 5.2540302e-03, 1.5483463e-08, ..., 4.9509879e-11,\n",
       "        4.0505065e-12, 8.1391374e-07],\n",
       "       [5.9238183e-03, 9.1465008e-01, 1.8382951e-04, ..., 1.4678280e-06,\n",
       "        1.1789758e-07, 3.3837644e-06],\n",
       "       ...,\n",
       "       [3.9465085e-08, 3.5966750e-07, 4.8329087e-09, ..., 5.2782851e-11,\n",
       "        7.7629958e-11, 9.9827759e-12],\n",
       "       [6.6929759e-04, 5.2991327e-02, 3.2482727e-05, ..., 2.5519032e-06,\n",
       "        1.8739136e-08, 5.8256258e-08],\n",
       "       [1.3519943e-05, 7.7712184e-01, 2.0129967e-02, ..., 6.6056942e-09,\n",
       "        2.2745185e-12, 1.4069607e-07]], dtype=float32)"
      ]
     },
     "execution_count": 82,
     "metadata": {},
     "output_type": "execute_result"
    }
   ],
   "source": [
    "predictions"
   ]
  },
  {
   "cell_type": "code",
   "execution_count": 84,
   "metadata": {
    "ExecuteTime": {
     "end_time": "2019-07-11T09:05:46.687373Z",
     "start_time": "2019-07-11T09:05:46.676372Z"
    }
   },
   "outputs": [
    {
     "data": {
      "text/plain": [
       "1.0000001"
      ]
     },
     "execution_count": 84,
     "metadata": {},
     "output_type": "execute_result"
    }
   ],
   "source": [
    "np.sum(predictions[2])"
   ]
  },
  {
   "cell_type": "code",
   "execution_count": 86,
   "metadata": {
    "ExecuteTime": {
     "end_time": "2019-07-11T09:06:18.460190Z",
     "start_time": "2019-07-11T09:06:18.450189Z"
    }
   },
   "outputs": [
    {
     "data": {
      "text/plain": [
       "10"
      ]
     },
     "execution_count": 86,
     "metadata": {},
     "output_type": "execute_result"
    }
   ],
   "source": [
    "np.argmax(predictions[1])"
   ]
  },
  {
   "cell_type": "code",
   "execution_count": 87,
   "metadata": {
    "ExecuteTime": {
     "end_time": "2019-07-11T09:16:35.808500Z",
     "start_time": "2019-07-11T09:16:35.801500Z"
    }
   },
   "outputs": [],
   "source": [
    "y_train=np.array(train_labels)\n",
    "y_test=np.array(test_labels)"
   ]
  },
  {
   "cell_type": "code",
   "execution_count": 95,
   "metadata": {
    "ExecuteTime": {
     "end_time": "2019-07-12T01:04:20.759562Z",
     "start_time": "2019-07-12T01:04:20.678359Z"
    }
   },
   "outputs": [],
   "source": [
    "model1.compile(optimizer='rmsprop',\n",
    "              loss='sparse_categorical_crossentropy',\n",
    "              metrics=['acc'])"
   ]
  },
  {
   "cell_type": "code",
   "execution_count": 100,
   "metadata": {
    "ExecuteTime": {
     "end_time": "2019-07-12T01:05:59.304185Z",
     "start_time": "2019-07-12T01:05:38.344788Z"
    }
   },
   "outputs": [
    {
     "name": "stdout",
     "output_type": "stream",
     "text": [
      "Epoch 1/20\n",
      "8982/8982 [==============================] - 1s 154us/step - loss: 0.2312 - acc: 0.9404\n",
      "Epoch 2/20\n",
      "8982/8982 [==============================] - 1s 115us/step - loss: 0.1581 - acc: 0.9469\n",
      "Epoch 3/20\n",
      "8982/8982 [==============================] - 1s 113us/step - loss: 0.1393 - acc: 0.9516\n",
      "Epoch 4/20\n",
      "8982/8982 [==============================] - 1s 113us/step - loss: 0.1248 - acc: 0.9532\n",
      "Epoch 5/20\n",
      "8982/8982 [==============================] - 1s 112us/step - loss: 0.1159 - acc: 0.9561\n",
      "Epoch 6/20\n",
      "8982/8982 [==============================] - 1s 114us/step - loss: 0.1146 - acc: 0.9541\n",
      "Epoch 7/20\n",
      "8982/8982 [==============================] - 1s 113us/step - loss: 0.1079 - acc: 0.9541\n",
      "Epoch 8/20\n",
      "8982/8982 [==============================] - 1s 114us/step - loss: 0.1068 - acc: 0.9544\n",
      "Epoch 9/20\n",
      "8982/8982 [==============================] - 1s 114us/step - loss: 0.1033 - acc: 0.9554\n",
      "Epoch 10/20\n",
      "8982/8982 [==============================] - 1s 112us/step - loss: 0.1025 - acc: 0.9571\n",
      "Epoch 11/20\n",
      "8982/8982 [==============================] - 1s 113us/step - loss: 0.1006 - acc: 0.9555\n",
      "Epoch 12/20\n",
      "8982/8982 [==============================] - 1s 113us/step - loss: 0.0967 - acc: 0.9561\n",
      "Epoch 13/20\n",
      "8982/8982 [==============================] - 1s 114us/step - loss: 0.0977 - acc: 0.9565\n",
      "Epoch 14/20\n",
      "8982/8982 [==============================] - 1s 113us/step - loss: 0.0982 - acc: 0.9565\n",
      "Epoch 15/20\n",
      "8982/8982 [==============================] - 1s 112us/step - loss: 0.0973 - acc: 0.9565\n",
      "Epoch 16/20\n",
      "8982/8982 [==============================] - 1s 113us/step - loss: 0.0943 - acc: 0.9555\n",
      "Epoch 17/20\n",
      "8982/8982 [==============================] - 1s 112us/step - loss: 0.0929 - acc: 0.9559\n",
      "Epoch 18/20\n",
      "8982/8982 [==============================] - 1s 112us/step - loss: 0.0936 - acc: 0.9561\n",
      "Epoch 19/20\n",
      "8982/8982 [==============================] - 1s 112us/step - loss: 0.0937 - acc: 0.9549\n",
      "Epoch 20/20\n",
      "8982/8982 [==============================] - 1s 112us/step - loss: 0.0922 - acc: 0.9559\n"
     ]
    }
   ],
   "source": [
    "history=model1.fit(x_train,\n",
    "                 y_train,\n",
    "                 epochs=20,\n",
    "                 batch_size=512)"
   ]
  },
  {
   "cell_type": "code",
   "execution_count": 98,
   "metadata": {
    "ExecuteTime": {
     "end_time": "2019-07-12T01:05:06.317068Z",
     "start_time": "2019-07-12T01:05:06.299468Z"
    }
   },
   "outputs": [
    {
     "data": {
      "text/plain": [
       "(8982, 10000)"
      ]
     },
     "execution_count": 98,
     "metadata": {},
     "output_type": "execute_result"
    }
   ],
   "source": [
    "x_train.shape"
   ]
  },
  {
   "cell_type": "code",
   "execution_count": 99,
   "metadata": {
    "ExecuteTime": {
     "end_time": "2019-07-12T01:05:14.420810Z",
     "start_time": "2019-07-12T01:05:14.404210Z"
    }
   },
   "outputs": [
    {
     "data": {
      "text/plain": [
       "(8982,)"
      ]
     },
     "execution_count": 99,
     "metadata": {},
     "output_type": "execute_result"
    }
   ],
   "source": [
    "y_train.shape"
   ]
  },
  {
   "cell_type": "code",
   "execution_count": 101,
   "metadata": {
    "ExecuteTime": {
     "end_time": "2019-07-12T01:07:08.480047Z",
     "start_time": "2019-07-12T01:07:08.127829Z"
    }
   },
   "outputs": [
    {
     "name": "stdout",
     "output_type": "stream",
     "text": [
      "2246/2246 [==============================] - 0s 155us/step\n"
     ]
    },
    {
     "data": {
      "text/plain": [
       "[1.480849994258592, 0.7809439003202179]"
      ]
     },
     "execution_count": 101,
     "metadata": {},
     "output_type": "execute_result"
    }
   ],
   "source": [
    "results=model1.evaluate(x_test,y_test)\n",
    "results"
   ]
  },
  {
   "cell_type": "code",
   "execution_count": null,
   "metadata": {},
   "outputs": [],
   "source": []
  }
 ],
 "metadata": {
  "kernelspec": {
   "display_name": "Python 3",
   "language": "python",
   "name": "python3"
  },
  "language_info": {
   "codemirror_mode": {
    "name": "ipython",
    "version": 3
   },
   "file_extension": ".py",
   "mimetype": "text/x-python",
   "name": "python",
   "nbconvert_exporter": "python",
   "pygments_lexer": "ipython3",
   "version": "3.6.3"
  }
 },
 "nbformat": 4,
 "nbformat_minor": 2
}
