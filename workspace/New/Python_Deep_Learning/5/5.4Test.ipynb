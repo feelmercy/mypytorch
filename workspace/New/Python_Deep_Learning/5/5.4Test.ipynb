{
 "cells": [
  {
   "cell_type": "code",
   "execution_count": 1,
   "metadata": {
    "ExecuteTime": {
     "end_time": "2019-07-24T09:54:04.524781Z",
     "start_time": "2019-07-24T09:54:02.922690Z"
    }
   },
   "outputs": [
    {
     "name": "stderr",
     "output_type": "stream",
     "text": [
      "d:\\programdata\\anaconda3\\lib\\site-packages\\h5py\\__init__.py:34: FutureWarning: Conversion of the second argument of issubdtype from `float` to `np.floating` is deprecated. In future, it will be treated as `np.float64 == np.dtype(float).type`.\n",
      "  from ._conv import register_converters as _register_converters\n",
      "Using TensorFlow backend.\n"
     ]
    }
   ],
   "source": [
    "from keras.models import load_model\n",
    "from keras import optimizers,layers,models\n",
    "from keras.applications import VGG16"
   ]
  },
  {
   "cell_type": "code",
   "execution_count": 2,
   "metadata": {
    "ExecuteTime": {
     "end_time": "2019-07-24T09:54:06.256880Z",
     "start_time": "2019-07-24T09:54:05.639845Z"
    }
   },
   "outputs": [],
   "source": [
    "model=load_model('F:\\\\study\\\\ml\\\\DataSet\\\\dogs_vs_cats\\\\cats_and_dogs_small\\\\models\\\\cats_and_dogs_small_2.h5')"
   ]
  },
  {
   "cell_type": "code",
   "execution_count": 4,
   "metadata": {
    "ExecuteTime": {
     "end_time": "2019-07-24T09:54:23.295855Z",
     "start_time": "2019-07-24T09:54:23.284854Z"
    }
   },
   "outputs": [
    {
     "name": "stdout",
     "output_type": "stream",
     "text": [
      "_________________________________________________________________\n",
      "Layer (type)                 Output Shape              Param #   \n",
      "=================================================================\n",
      "conv2d_9 (Conv2D)            (None, 148, 148, 32)      896       \n",
      "_________________________________________________________________\n",
      "max_pooling2d_9 (MaxPooling2 (None, 74, 74, 32)        0         \n",
      "_________________________________________________________________\n",
      "conv2d_10 (Conv2D)           (None, 72, 72, 64)        18496     \n",
      "_________________________________________________________________\n",
      "max_pooling2d_10 (MaxPooling (None, 36, 36, 64)        0         \n",
      "_________________________________________________________________\n",
      "conv2d_11 (Conv2D)           (None, 34, 34, 128)       73856     \n",
      "_________________________________________________________________\n",
      "max_pooling2d_11 (MaxPooling (None, 17, 17, 128)       0         \n",
      "_________________________________________________________________\n",
      "conv2d_12 (Conv2D)           (None, 15, 15, 128)       147584    \n",
      "_________________________________________________________________\n",
      "max_pooling2d_12 (MaxPooling (None, 7, 7, 128)         0         \n",
      "_________________________________________________________________\n",
      "flatten_3 (Flatten)          (None, 6272)              0         \n",
      "_________________________________________________________________\n",
      "dropout_1 (Dropout)          (None, 6272)              0         \n",
      "_________________________________________________________________\n",
      "dense_4 (Dense)              (None, 512)               3211776   \n",
      "_________________________________________________________________\n",
      "dense_5 (Dense)              (None, 1)                 513       \n",
      "=================================================================\n",
      "Total params: 3,453,121\n",
      "Trainable params: 3,453,121\n",
      "Non-trainable params: 0\n",
      "_________________________________________________________________\n"
     ]
    }
   ],
   "source": [
    "model.summary()"
   ]
  },
  {
   "cell_type": "code",
   "execution_count": 7,
   "metadata": {
    "ExecuteTime": {
     "end_time": "2019-07-24T09:54:50.119389Z",
     "start_time": "2019-07-24T09:54:50.113389Z"
    }
   },
   "outputs": [],
   "source": [
    "imp_path='F://study//ml//DataSet//dogs_vs_cats//cats_and_dogs_small//test//cats/cat.1700.jpg'"
   ]
  },
  {
   "cell_type": "code",
   "execution_count": 8,
   "metadata": {
    "ExecuteTime": {
     "end_time": "2019-07-24T09:54:50.748425Z",
     "start_time": "2019-07-24T09:54:50.743425Z"
    }
   },
   "outputs": [],
   "source": [
    "from keras.preprocessing import image\n",
    "import numpy as np"
   ]
  },
  {
   "cell_type": "code",
   "execution_count": 9,
   "metadata": {
    "ExecuteTime": {
     "end_time": "2019-07-24T09:54:51.259454Z",
     "start_time": "2019-07-24T09:54:51.216452Z"
    }
   },
   "outputs": [
    {
     "data": {
      "text/plain": [
       "(1, 150, 150, 3)"
      ]
     },
     "execution_count": 9,
     "metadata": {},
     "output_type": "execute_result"
    }
   ],
   "source": [
    "img=image.load_img(imp_path,target_size=(150,150))\n",
    "img_tensor=image.img_to_array(img)\n",
    "img_tensor=np.expand_dims(img_tensor,axis=0)\n",
    "img_tensor/=255\n",
    "img_tensor.shape"
   ]
  },
  {
   "cell_type": "code",
   "execution_count": 10,
   "metadata": {
    "ExecuteTime": {
     "end_time": "2019-07-24T09:55:08.019413Z",
     "start_time": "2019-07-24T09:55:07.864404Z"
    }
   },
   "outputs": [],
   "source": [
    "import matplotlib.pyplot as plt"
   ]
  },
  {
   "cell_type": "code",
   "execution_count": null,
   "metadata": {
    "ExecuteTime": {
     "end_time": "2019-07-24T08:25:26.616614Z",
     "start_time": "2019-07-24T08:25:26.610614Z"
    }
   },
   "outputs": [],
   "source": [
    "# plt.imshow(img_tensor[0])"
   ]
  },
  {
   "cell_type": "code",
   "execution_count": 11,
   "metadata": {
    "ExecuteTime": {
     "end_time": "2019-07-24T09:55:36.694053Z",
     "start_time": "2019-07-24T09:55:36.683052Z"
    }
   },
   "outputs": [],
   "source": [
    "layer_outputs=[layer.output for layer in model.layers[:8]]\n",
    "activation_model=models.Model(inputs=model.input,outputs=layer_outputs)"
   ]
  },
  {
   "cell_type": "code",
   "execution_count": 12,
   "metadata": {
    "ExecuteTime": {
     "end_time": "2019-07-24T09:56:09.534931Z",
     "start_time": "2019-07-24T09:56:09.385923Z"
    }
   },
   "outputs": [],
   "source": [
    "activations=activation_model.predict(img_tensor)"
   ]
  },
  {
   "cell_type": "code",
   "execution_count": 13,
   "metadata": {
    "ExecuteTime": {
     "end_time": "2019-07-24T09:57:16.123740Z",
     "start_time": "2019-07-24T09:57:16.113739Z"
    }
   },
   "outputs": [
    {
     "data": {
      "text/plain": [
       "(1, 148, 148, 32)"
      ]
     },
     "execution_count": 13,
     "metadata": {},
     "output_type": "execute_result"
    }
   ],
   "source": [
    "first_layer_activation=activations[0]\n",
    "first_layer_activation.shape"
   ]
  },
  {
   "cell_type": "code",
   "execution_count": 37,
   "metadata": {
    "ExecuteTime": {
     "end_time": "2019-07-26T06:08:03.932754Z",
     "start_time": "2019-07-26T06:08:03.919754Z"
    }
   },
   "outputs": [
    {
     "data": {
      "text/plain": [
       "8"
      ]
     },
     "execution_count": 37,
     "metadata": {},
     "output_type": "execute_result"
    }
   ],
   "source": [
    "len(activations)"
   ]
  },
  {
   "cell_type": "code",
   "execution_count": 38,
   "metadata": {
    "ExecuteTime": {
     "end_time": "2019-07-26T06:12:39.206499Z",
     "start_time": "2019-07-26T06:12:39.199499Z"
    }
   },
   "outputs": [
    {
     "data": {
      "text/plain": [
       "(1, 148, 148, 32)"
      ]
     },
     "execution_count": 38,
     "metadata": {},
     "output_type": "execute_result"
    }
   ],
   "source": [
    "activations[0].shape"
   ]
  },
  {
   "cell_type": "code",
   "execution_count": 46,
   "metadata": {
    "ExecuteTime": {
     "end_time": "2019-07-26T07:33:13.412000Z",
     "start_time": "2019-07-26T07:33:13.401999Z"
    }
   },
   "outputs": [
    {
     "data": {
      "text/plain": [
       "(148, 148)"
      ]
     },
     "execution_count": 46,
     "metadata": {},
     "output_type": "execute_result"
    }
   ],
   "source": [
    "activations[0][0,:,:,0].shape"
   ]
  },
  {
   "cell_type": "code",
   "execution_count": 45,
   "metadata": {
    "ExecuteTime": {
     "end_time": "2019-07-26T07:29:07.638942Z",
     "start_time": "2019-07-26T07:29:07.628942Z"
    }
   },
   "outputs": [
    {
     "data": {
      "text/plain": [
       "128.00137"
      ]
     },
     "execution_count": 45,
     "metadata": {},
     "output_type": "execute_result"
    }
   ],
   "source": [
    "activations[0][0,:,:,0].mean()"
   ]
  },
  {
   "cell_type": "code",
   "execution_count": 20,
   "metadata": {
    "ExecuteTime": {
     "end_time": "2019-07-25T01:07:00.913811Z",
     "start_time": "2019-07-25T01:07:00.901811Z"
    }
   },
   "outputs": [
    {
     "data": {
      "text/plain": [
       "(148, 148, 32)"
      ]
     },
     "execution_count": 20,
     "metadata": {},
     "output_type": "execute_result"
    }
   ],
   "source": [
    "first_layer_activation[0].shape"
   ]
  },
  {
   "cell_type": "code",
   "execution_count": 21,
   "metadata": {
    "ExecuteTime": {
     "end_time": "2019-07-25T09:29:48.540301Z",
     "start_time": "2019-07-25T09:29:48.534301Z"
    }
   },
   "outputs": [],
   "source": [
    "#通道太多,显示不了\n",
    "# plt.imshow(first_layer_activation[0])"
   ]
  },
  {
   "cell_type": "code",
   "execution_count": 27,
   "metadata": {
    "ExecuteTime": {
     "end_time": "2019-07-26T02:45:14.541705Z",
     "start_time": "2019-07-26T02:45:14.534705Z"
    }
   },
   "outputs": [],
   "source": [
    "# plt.matshow(first_layer_activation[0,:,:,4],cmap='viridis')"
   ]
  },
  {
   "cell_type": "code",
   "execution_count": 29,
   "metadata": {
    "ExecuteTime": {
     "end_time": "2019-07-26T02:45:36.780977Z",
     "start_time": "2019-07-26T02:45:36.774977Z"
    }
   },
   "outputs": [],
   "source": [
    "# plt.matshow(first_layer_activation[0,:,:,7],cmap='viridis')"
   ]
  },
  {
   "cell_type": "code",
   "execution_count": 48,
   "metadata": {
    "ExecuteTime": {
     "end_time": "2019-07-26T08:15:55.912567Z",
     "start_time": "2019-07-26T08:15:55.753557Z"
    },
    "scrolled": true
   },
   "outputs": [
    {
     "name": "stdout",
     "output_type": "stream",
     "text": [
      "(296, 2368)\n",
      "(148, 1184)\n",
      "(288, 1152)\n",
      "(144, 576)\n",
      "(272, 544)\n",
      "(136, 272)\n",
      "(120, 240)\n",
      "(56, 112)\n"
     ]
    }
   ],
   "source": [
    "layer_names=[]\n",
    "for layer in model.layers[:8]:\n",
    "    layer_names.append(layer.name)\n",
    "    \n",
    "images_per_row=16\n",
    "\n",
    "for layer_name,layer_activation in zip(layer_names,activations):\n",
    "    n_features=layer_activation.shape[-1]  # channel num\n",
    "    \n",
    "    size=layer_activation.shape[1] # feature num\n",
    "    \n",
    "    n_cols=n_features // images_per_row # 32 / 16=2   channel num / 16\n",
    "    display_grid=np.zeros((size * n_cols,images_per_row * size))  \n",
    "    # row * features num  ,col * feature num\n",
    "    print(display_grid.shape) # * * 32 \n",
    "    \n",
    "    for col in range(n_cols):  #2\n",
    "        for row in range(images_per_row): #16\n",
    "            channel_image=layer_activation[0,:,:,col*images_per_row+row] \n",
    "            # col = row  *  16,\n",
    "            channel_image-=channel_image.mean()\n",
    "            channel_image/=channel_image.std()\n",
    "            channel_image*=64\n",
    "            channel_image+=128\n",
    "            channel_image=np.clip(channel_image,0,255).astype('uint8')\n",
    "            display_grid[col * size:(col+1) * size,\n",
    "                        row*size:(row+1)*size]=channel_image\n",
    "    scale=1./size\n",
    "#     plt.figure(figsize=(scale*display_grid.shape[1],\n",
    "#                        scale*display_grid.shape[0]))\n",
    "#     plt.title(layer_name)\n",
    "#     plt.grid(False)\n",
    "#     plt.imshow(display_grid,aspect='auto',cmap='viridis')\n",
    "        \n",
    "        \n",
    "\n",
    "            "
   ]
  },
  {
   "cell_type": "code",
   "execution_count": null,
   "metadata": {},
   "outputs": [],
   "source": []
  }
 ],
 "metadata": {
  "kernelspec": {
   "display_name": "Python 3",
   "language": "python",
   "name": "python3"
  },
  "language_info": {
   "codemirror_mode": {
    "name": "ipython",
    "version": 3
   },
   "file_extension": ".py",
   "mimetype": "text/x-python",
   "name": "python",
   "nbconvert_exporter": "python",
   "pygments_lexer": "ipython3",
   "version": "3.6.3"
  }
 },
 "nbformat": 4,
 "nbformat_minor": 2
}
