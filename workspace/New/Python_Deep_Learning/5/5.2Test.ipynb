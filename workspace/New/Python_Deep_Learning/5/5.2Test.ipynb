{
 "cells": [
  {
   "cell_type": "code",
   "execution_count": 1,
   "metadata": {
    "ExecuteTime": {
     "end_time": "2019-07-17T09:39:24.386897Z",
     "start_time": "2019-07-17T09:39:24.379896Z"
    }
   },
   "outputs": [],
   "source": [
    "import os,shutil"
   ]
  },
  {
   "cell_type": "code",
   "execution_count": 8,
   "metadata": {
    "ExecuteTime": {
     "end_time": "2019-07-18T06:09:08.024079Z",
     "start_time": "2019-07-18T06:08:56.367413Z"
    }
   },
   "outputs": [],
   "source": [
    "original_dataset_dir='F:\\\\study\\\\ml\\\\DataSet\\\\dogs_vs_cats\\original'\n",
    "base_dir='F:\\study\\ml\\DataSet\\dogs_vs_cats\\cats_and_dogs_small'\n",
    "os.mkdir(base_dir)\n",
    "\n",
    "train_dir=os.path.join(base_dir,'train')\n",
    "os.mkdir(train_dir)\n",
    "validation_dir=os.path.join(base_dir,'validation')\n",
    "os.mkdir(validation_dir)\n",
    "test_dir=os.path.join(base_dir,'test')\n",
    "os.mkdir(test_dir)\n",
    "\n",
    "\n",
    "train_cats_dir=os.path.join(train_dir,'cats')\n",
    "os.mkdir(train_cats_dir)\n",
    "train_dogs_dir=os.path.join(train_dir,'dogs')\n",
    "os.mkdir(train_dogs_dir)\n",
    "\n",
    "validation_cats_dir=os.path.join(validation_dir,'cats')\n",
    "os.mkdir(validation_cats_dir)\n",
    "validation_dogs_dir=os.path.join(validation_dir,'dogs')\n",
    "os.mkdir(validation_dogs_dir)\n",
    "\n",
    "test_cats_dir=os.path.join(test_dir,'cats')\n",
    "os.mkdir(test_cats_dir)\n",
    "test_dogs_dir=os.path.join(test_dir,'dogs')\n",
    "os.mkdir(test_dogs_dir)\n",
    "\n",
    "fnames=['cat.{}.jpg'.format(i) for i in range(1000)]\n",
    "for fname in fnames:\n",
    "    src=os.path.join(original_dataset_dir,fname)\n",
    "    dst=os.path.join(train_cats_dir,fname)\n",
    "    shutil.copyfile(src,dst)\n",
    "    \n",
    "fnames=['cat.{}.jpg'.format(i) for i in range(1000,1500)]\n",
    "for fname in fnames:\n",
    "    src=os.path.join(original_dataset_dir,fname)\n",
    "    dst=os.path.join(validation_cats_dir,fname)\n",
    "    shutil.copyfile(src,dst) \n",
    "    \n",
    "fnames=['cat.{}.jpg'.format(i) for i in range(1500,2000)]\n",
    "for fname in fnames:\n",
    "    src=os.path.join(original_dataset_dir,fname)\n",
    "    dst=os.path.join(test_cats_dir,fname)\n",
    "    shutil.copyfile(src,dst) \n",
    "\n",
    "    # dog\n",
    "\n",
    "fnames=['dog.{}.jpg'.format(i) for i in range(1000)]\n",
    "for fname in fnames:\n",
    "    src=os.path.join(original_dataset_dir,fname)\n",
    "    dst=os.path.join(train_dogs_dir,fname)\n",
    "    shutil.copyfile(src,dst)\n",
    "    \n",
    "fnames=['dog.{}.jpg'.format(i) for i in range(1000,1500)]\n",
    "for fname in fnames:\n",
    "    src=os.path.join(original_dataset_dir,fname)\n",
    "    dst=os.path.join(validation_dogs_dir,fname)\n",
    "    shutil.copyfile(src,dst) \n",
    "    \n",
    "fnames=['dog.{}.jpg'.format(i) for i in range(1500,2000)]\n",
    "for fname in fnames:\n",
    "    src=os.path.join(original_dataset_dir,fname)\n",
    "    dst=os.path.join(test_dogs_dir,fname)\n",
    "    shutil.copyfile(src,dst) \n",
    "    "
   ]
  },
  {
   "cell_type": "code",
   "execution_count": 10,
   "metadata": {
    "ExecuteTime": {
     "end_time": "2019-07-18T06:12:54.204016Z",
     "start_time": "2019-07-18T06:12:54.174014Z"
    }
   },
   "outputs": [
    {
     "name": "stdout",
     "output_type": "stream",
     "text": [
      "total training cat images: 1000\n",
      "total training dog images: 1000\n",
      "total training cat images: 500\n",
      "total training dog images: 500\n",
      "total training cat images: 500\n",
      "total training dog images: 500\n"
     ]
    }
   ],
   "source": [
    "print('total training cat images:',len(os.listdir(train_cats_dir)))\n",
    "print('total training dog images:',len(os.listdir(train_dogs_dir)))\n",
    "\n",
    "print('total training cat images:',len(os.listdir(validation_cats_dir)))\n",
    "print('total training dog images:',len(os.listdir(validation_dogs_dir)))\n",
    "\n",
    "print('total training cat images:',len(os.listdir(test_cats_dir)))\n",
    "print('total training dog images:',len(os.listdir(test_dogs_dir)))\n"
   ]
  },
  {
   "cell_type": "code",
   "execution_count": 11,
   "metadata": {
    "ExecuteTime": {
     "end_time": "2019-07-18T06:22:45.370829Z",
     "start_time": "2019-07-18T06:22:45.363828Z"
    }
   },
   "outputs": [],
   "source": [
    "from keras import layers,models"
   ]
  },
  {
   "cell_type": "code",
   "execution_count": 13,
   "metadata": {
    "ExecuteTime": {
     "end_time": "2019-07-18T06:28:03.249010Z",
     "start_time": "2019-07-18T06:28:03.157005Z"
    }
   },
   "outputs": [],
   "source": [
    "model=models.Sequential()\n",
    "model.add(layers.Conv2D(32,(3,3),activation='relu',input_shape=(150,150,3)))\n",
    "model.add(layers.MaxPooling2D((2,2)))\n",
    "model.add(layers.Conv2D(64,(3,3),activation='relu'))\n",
    "model.add(layers.MaxPooling2D((2,2)))\n",
    "model.add(layers.Conv2D(128,(3,3),activation='relu'))\n",
    "model.add(layers.MaxPooling2D((2,2)))\n",
    "model.add(layers.Conv2D(128,(3,3),activation='relu'))\n",
    "model.add(layers.MaxPooling2D((2,2)))\n",
    "model.add(layers.Flatten())\n",
    "model.add(layers.Dense(512,activation='relu'))\n",
    "model.add(layers.Dense(1,activation='sigmoid'))\n"
   ]
  },
  {
   "cell_type": "code",
   "execution_count": 14,
   "metadata": {
    "ExecuteTime": {
     "end_time": "2019-07-18T06:28:09.306357Z",
     "start_time": "2019-07-18T06:28:09.294356Z"
    }
   },
   "outputs": [
    {
     "name": "stdout",
     "output_type": "stream",
     "text": [
      "_________________________________________________________________\n",
      "Layer (type)                 Output Shape              Param #   \n",
      "=================================================================\n",
      "conv2d_5 (Conv2D)            (None, 148, 148, 32)      896       \n",
      "_________________________________________________________________\n",
      "max_pooling2d_5 (MaxPooling2 (None, 74, 74, 32)        0         \n",
      "_________________________________________________________________\n",
      "conv2d_6 (Conv2D)            (None, 72, 72, 64)        18496     \n",
      "_________________________________________________________________\n",
      "max_pooling2d_6 (MaxPooling2 (None, 36, 36, 64)        0         \n",
      "_________________________________________________________________\n",
      "conv2d_7 (Conv2D)            (None, 34, 34, 128)       73856     \n",
      "_________________________________________________________________\n",
      "max_pooling2d_7 (MaxPooling2 (None, 17, 17, 128)       0         \n",
      "_________________________________________________________________\n",
      "conv2d_8 (Conv2D)            (None, 15, 15, 128)       147584    \n",
      "_________________________________________________________________\n",
      "max_pooling2d_8 (MaxPooling2 (None, 7, 7, 128)         0         \n",
      "_________________________________________________________________\n",
      "flatten_2 (Flatten)          (None, 6272)              0         \n",
      "_________________________________________________________________\n",
      "dense_2 (Dense)              (None, 512)               3211776   \n",
      "_________________________________________________________________\n",
      "dense_3 (Dense)              (None, 1)                 513       \n",
      "=================================================================\n",
      "Total params: 3,453,121\n",
      "Trainable params: 3,453,121\n",
      "Non-trainable params: 0\n",
      "_________________________________________________________________\n"
     ]
    }
   ],
   "source": [
    "model.summary()"
   ]
  },
  {
   "cell_type": "code",
   "execution_count": 15,
   "metadata": {
    "ExecuteTime": {
     "end_time": "2019-07-18T06:30:16.824650Z",
     "start_time": "2019-07-18T06:30:16.818650Z"
    }
   },
   "outputs": [],
   "source": [
    "from keras import optimizers"
   ]
  },
  {
   "cell_type": "code",
   "execution_count": 17,
   "metadata": {
    "ExecuteTime": {
     "end_time": "2019-07-18T06:31:23.708476Z",
     "start_time": "2019-07-18T06:31:23.657473Z"
    }
   },
   "outputs": [],
   "source": [
    "model.compile(loss='binary_crossentropy',\n",
    "             optimizer=optimizers.RMSprop(lr=1e-4),\n",
    "             metrics=['acc'])"
   ]
  },
  {
   "cell_type": "code",
   "execution_count": 18,
   "metadata": {
    "ExecuteTime": {
     "end_time": "2019-07-18T06:41:07.223851Z",
     "start_time": "2019-07-18T06:41:07.219851Z"
    }
   },
   "outputs": [],
   "source": [
    "from keras.preprocessing.image import ImageDataGenerator"
   ]
  },
  {
   "cell_type": "code",
   "execution_count": 19,
   "metadata": {
    "ExecuteTime": {
     "end_time": "2019-07-18T06:42:08.122334Z",
     "start_time": "2019-07-18T06:42:08.103333Z"
    }
   },
   "outputs": [],
   "source": [
    "train_datagen=ImageDataGenerator(rescale=1./255)\n",
    "test_datagen=ImageDataGenerator(rescale=1./255)"
   ]
  },
  {
   "cell_type": "code",
   "execution_count": 21,
   "metadata": {
    "ExecuteTime": {
     "end_time": "2019-07-18T06:47:45.276618Z",
     "start_time": "2019-07-18T06:47:44.675584Z"
    }
   },
   "outputs": [
    {
     "name": "stdout",
     "output_type": "stream",
     "text": [
      "Found 2000 images belonging to 2 classes.\n",
      "Found 1000 images belonging to 2 classes.\n"
     ]
    }
   ],
   "source": [
    "train_generator=train_datagen.flow_from_directory(train_dir,target_size=(150,150),\n",
    "                                                 batch_size=20,\n",
    "                                                 class_mode='binary')\n",
    "validation_generator=test_datagen.flow_from_directory(validation_dir,\n",
    "                                                      target_size=(150,150),\n",
    "                                                     batch_size=20,\n",
    "                                                     class_mode='binary')"
   ]
  },
  {
   "cell_type": "code",
   "execution_count": 27,
   "metadata": {
    "ExecuteTime": {
     "end_time": "2019-07-18T06:55:56.141694Z",
     "start_time": "2019-07-18T06:55:56.055689Z"
    }
   },
   "outputs": [
    {
     "name": "stdout",
     "output_type": "stream",
     "text": [
      "data batch shape: (20, 150, 150, 3)\n",
      "labels batch shape: (20,)\n"
     ]
    }
   ],
   "source": [
    "for data_batch ,labels_batch in train_generator:\n",
    "    print('data batch shape:',data_batch.shape)\n",
    "    print('labels batch shape:',labels_batch.shape)\n",
    "    break"
   ]
  },
  {
   "cell_type": "code",
   "execution_count": 28,
   "metadata": {
    "ExecuteTime": {
     "end_time": "2019-07-18T07:42:54.187877Z",
     "start_time": "2019-07-18T07:01:50.136942Z"
    }
   },
   "outputs": [
    {
     "name": "stdout",
     "output_type": "stream",
     "text": [
      "Epoch 1/30\n",
      "100/100 [==============================] - 81s 806ms/step - loss: 0.6943 - acc: 0.5275 - val_loss: 0.6807 - val_acc: 0.6290\n",
      "Epoch 2/30\n",
      "100/100 [==============================] - 79s 790ms/step - loss: 0.6660 - acc: 0.6150 - val_loss: 0.6404 - val_acc: 0.6460\n",
      "Epoch 3/30\n",
      "100/100 [==============================] - 79s 789ms/step - loss: 0.6083 - acc: 0.6820 - val_loss: 0.6146 - val_acc: 0.6600\n",
      "Epoch 4/30\n",
      "100/100 [==============================] - 86s 863ms/step - loss: 0.5733 - acc: 0.6960 - val_loss: 0.6110 - val_acc: 0.6510\n",
      "Epoch 5/30\n",
      "100/100 [==============================] - 96s 958ms/step - loss: 0.5436 - acc: 0.7225 - val_loss: 0.6059 - val_acc: 0.6570\n",
      "Epoch 6/30\n",
      "100/100 [==============================] - 91s 907ms/step - loss: 0.5134 - acc: 0.7440 - val_loss: 0.5838 - val_acc: 0.6820\n",
      "Epoch 7/30\n",
      "100/100 [==============================] - 83s 831ms/step - loss: 0.4820 - acc: 0.7620 - val_loss: 0.6122 - val_acc: 0.6690\n",
      "Epoch 8/30\n",
      "100/100 [==============================] - 83s 827ms/step - loss: 0.4595 - acc: 0.7800 - val_loss: 0.5896 - val_acc: 0.6870\n",
      "Epoch 9/30\n",
      "100/100 [==============================] - 84s 835ms/step - loss: 0.4317 - acc: 0.8045 - val_loss: 0.5598 - val_acc: 0.7060\n",
      "Epoch 10/30\n",
      "100/100 [==============================] - 81s 814ms/step - loss: 0.4004 - acc: 0.8155 - val_loss: 0.5676 - val_acc: 0.7060\n",
      "Epoch 11/30\n",
      "100/100 [==============================] - 81s 815ms/step - loss: 0.3835 - acc: 0.8270 - val_loss: 0.6084 - val_acc: 0.6990\n",
      "Epoch 12/30\n",
      "100/100 [==============================] - 81s 813ms/step - loss: 0.3547 - acc: 0.8455 - val_loss: 0.6115 - val_acc: 0.6960\n",
      "Epoch 13/30\n",
      "100/100 [==============================] - 81s 810ms/step - loss: 0.3336 - acc: 0.8595 - val_loss: 0.5996 - val_acc: 0.7130\n",
      "Epoch 14/30\n",
      "100/100 [==============================] - 81s 810ms/step - loss: 0.3103 - acc: 0.8695 - val_loss: 0.6113 - val_acc: 0.7020\n",
      "Epoch 15/30\n",
      "100/100 [==============================] - 81s 808ms/step - loss: 0.2816 - acc: 0.8845 - val_loss: 0.6274 - val_acc: 0.6990\n",
      "Epoch 16/30\n",
      "100/100 [==============================] - 81s 811ms/step - loss: 0.2553 - acc: 0.8935 - val_loss: 0.6997 - val_acc: 0.7050\n",
      "Epoch 17/30\n",
      "100/100 [==============================] - 81s 812ms/step - loss: 0.2325 - acc: 0.9075 - val_loss: 0.7866 - val_acc: 0.6890\n",
      "Epoch 18/30\n",
      "100/100 [==============================] - 81s 813ms/step - loss: 0.2018 - acc: 0.9190 - val_loss: 0.6903 - val_acc: 0.7190\n",
      "Epoch 19/30\n",
      "100/100 [==============================] - 81s 811ms/step - loss: 0.1852 - acc: 0.9315 - val_loss: 0.7088 - val_acc: 0.7140\n",
      "Epoch 20/30\n",
      "100/100 [==============================] - 81s 809ms/step - loss: 0.1638 - acc: 0.9370 - val_loss: 0.7739 - val_acc: 0.7200\n",
      "Epoch 21/30\n",
      "100/100 [==============================] - 81s 812ms/step - loss: 0.1560 - acc: 0.9385 - val_loss: 0.7895 - val_acc: 0.7210\n",
      "Epoch 22/30\n",
      "100/100 [==============================] - 81s 810ms/step - loss: 0.1353 - acc: 0.9490 - val_loss: 0.8185 - val_acc: 0.7100\n",
      "Epoch 23/30\n",
      "100/100 [==============================] - 81s 810ms/step - loss: 0.1103 - acc: 0.9605 - val_loss: 0.9691 - val_acc: 0.7190\n",
      "Epoch 24/30\n",
      "100/100 [==============================] - 81s 811ms/step - loss: 0.1031 - acc: 0.9660 - val_loss: 0.9299 - val_acc: 0.6930\n",
      "Epoch 25/30\n",
      "100/100 [==============================] - 81s 812ms/step - loss: 0.0754 - acc: 0.9790 - val_loss: 1.0370 - val_acc: 0.6820\n",
      "Epoch 26/30\n",
      "100/100 [==============================] - 81s 811ms/step - loss: 0.0746 - acc: 0.9765 - val_loss: 1.0825 - val_acc: 0.7030\n",
      "Epoch 27/30\n",
      "100/100 [==============================] - 81s 809ms/step - loss: 0.0684 - acc: 0.9840 - val_loss: 1.1152 - val_acc: 0.7000\n",
      "Epoch 28/30\n",
      "100/100 [==============================] - 81s 809ms/step - loss: 0.0550 - acc: 0.9835 - val_loss: 1.1724 - val_acc: 0.6970\n",
      "Epoch 29/30\n",
      "100/100 [==============================] - 81s 810ms/step - loss: 0.0443 - acc: 0.9865 - val_loss: 1.1452 - val_acc: 0.6940\n",
      "Epoch 30/30\n",
      "100/100 [==============================] - 81s 808ms/step - loss: 0.0445 - acc: 0.9870 - val_loss: 1.2820 - val_acc: 0.6980\n"
     ]
    }
   ],
   "source": [
    "history=model.fit_generator(\n",
    "train_generator,\n",
    "steps_per_epoch=100,\n",
    "epochs=30,\n",
    "validation_data=validation_generator,\n",
    "validation_steps=50)"
   ]
  },
  {
   "cell_type": "code",
   "execution_count": 36,
   "metadata": {
    "ExecuteTime": {
     "end_time": "2019-07-18T08:57:40.298468Z",
     "start_time": "2019-07-18T08:57:40.037453Z"
    }
   },
   "outputs": [],
   "source": [
    "model.save('F:\\\\study\\\\ml\\\\DataSet\\\\dogs_vs_cats\\\\cats_and_dogs_small\\\\models\\\\cats_and_dogs_small_1.h5')"
   ]
  },
  {
   "cell_type": "code",
   "execution_count": 30,
   "metadata": {
    "ExecuteTime": {
     "end_time": "2019-07-18T08:19:05.950095Z",
     "start_time": "2019-07-18T08:19:05.943095Z"
    }
   },
   "outputs": [],
   "source": [
    "datagen=ImageDataGenerator(\n",
    "rotation_range=40,\n",
    "width_shift_range=0.2,\n",
    "height_shift_range=0.2,\n",
    "shear_range=0.2,\n",
    "zoom_range=0.2,\n",
    "horizontal_flip=True,\n",
    "fill_mode='nearest')"
   ]
  },
  {
   "cell_type": "code",
   "execution_count": 31,
   "metadata": {
    "ExecuteTime": {
     "end_time": "2019-07-18T08:19:31.625564Z",
     "start_time": "2019-07-18T08:19:31.621563Z"
    }
   },
   "outputs": [],
   "source": [
    "from keras.preprocessing import image"
   ]
  },
  {
   "cell_type": "code",
   "execution_count": 32,
   "metadata": {
    "ExecuteTime": {
     "end_time": "2019-07-18T08:24:56.372138Z",
     "start_time": "2019-07-18T08:24:55.057063Z"
    }
   },
   "outputs": [],
   "source": [
    "import matplotlib.pyplot as plt"
   ]
  },
  {
   "cell_type": "code",
   "execution_count": 44,
   "metadata": {
    "ExecuteTime": {
     "end_time": "2019-07-18T09:29:52.370976Z",
     "start_time": "2019-07-18T09:29:52.211967Z"
    }
   },
   "outputs": [],
   "source": [
    "fnames = [os.path.join(train_cats_dir,fname) for fname in os.listdir(train_cats_dir)]\n",
    "imag_path=fnames[3]\n",
    "img=image.load_img(imag_path,target_size=(150,150))\n",
    "x=image.img_to_array(img)\n",
    "x=x.reshape((1,)+x.shape)\n",
    "\n",
    "i=0\n",
    "for batch in datagen.flow(x,batch_size=1):\n",
    "#     print(batch)\n",
    "    plt.figure(i)\n",
    "    imgplot=plt.imshow(image.array_to_img(batch[0]))\n",
    "    i+=1\n",
    "    if i %4 ==0:\n",
    "        break\n",
    "# plt.show()\n"
   ]
  },
  {
   "cell_type": "code",
   "execution_count": 45,
   "metadata": {
    "ExecuteTime": {
     "end_time": "2019-07-18T09:38:54.845004Z",
     "start_time": "2019-07-18T09:38:54.599990Z"
    }
   },
   "outputs": [],
   "source": [
    "model=models.Sequential()\n",
    "model.add(layers.Conv2D(32,(3,3),activation='relu',input_shape=(150,150,3)))\n",
    "model.add(layers.MaxPooling2D((2,2)))\n",
    "model.add(layers.Conv2D(64,(3,3),activation='relu'))\n",
    "model.add(layers.MaxPooling2D((2,2)))\n",
    "model.add(layers.Conv2D(128,(3,3),activation='relu'))\n",
    "model.add(layers.MaxPooling2D(2,2))\n",
    "model.add(layers.Conv2D(128,(3,3),activation='relu'))\n",
    "model.add(layers.MaxPooling2D((2,2)))\n",
    "model.add(layers.Flatten())\n",
    "model.add(layers.Dropout(0.5))\n",
    "model.add(layers.Dense(512,activation='relu'))\n",
    "model.add(layers.Dense(1,activation='sigmoid'))\n"
   ]
  },
  {
   "cell_type": "code",
   "execution_count": 46,
   "metadata": {
    "ExecuteTime": {
     "end_time": "2019-07-18T09:39:51.699256Z",
     "start_time": "2019-07-18T09:39:51.655254Z"
    }
   },
   "outputs": [],
   "source": [
    "model.compile(optimizer=optimizers.RMSprop(lr=1e-4),\n",
    "             loss='binary_crossentropy',\n",
    "             metrics=['acc'])"
   ]
  },
  {
   "cell_type": "code",
   "execution_count": 48,
   "metadata": {
    "ExecuteTime": {
     "end_time": "2019-07-18T09:47:43.606248Z",
     "start_time": "2019-07-18T09:47:43.596247Z"
    }
   },
   "outputs": [],
   "source": [
    "train_datagen=ImageDataGenerator(rescale=1./255,\n",
    "                                rotation_range=40,\n",
    "                                width_shift_range=0.2,\n",
    "                                height_shift_range=0.2,\n",
    "                                shear_range=0.2,\n",
    "                                zoom_range=0.2,\n",
    "                                horizontal_flip=True,)\n",
    "test_datagen=ImageDataGenerator(rescale=1./255)"
   ]
  },
  {
   "cell_type": "code",
   "execution_count": 49,
   "metadata": {
    "ExecuteTime": {
     "end_time": "2019-07-18T09:50:03.833268Z",
     "start_time": "2019-07-18T09:50:03.586254Z"
    }
   },
   "outputs": [
    {
     "name": "stdout",
     "output_type": "stream",
     "text": [
      "Found 2000 images belonging to 2 classes.\n",
      "Found 1000 images belonging to 2 classes.\n"
     ]
    }
   ],
   "source": [
    "train_generator=train_datagen.flow_from_directory(train_dir,\n",
    "                                                 target_size=(150,150),\n",
    "                                                 batch_size=32,\n",
    "                                                 class_mode='binary')\n",
    "\n",
    "validation_generator=test_datagen.flow_from_directory(validation_dir,\n",
    "                                                     target_size=(150,150),\n",
    "                                                     batch_size=32,\n",
    "                                                     class_mode='binary')\n"
   ]
  },
  {
   "cell_type": "code",
   "execution_count": 50,
   "metadata": {
    "ExecuteTime": {
     "end_time": "2019-07-18T13:39:18.288978Z",
     "start_time": "2019-07-18T10:01:49.124609Z"
    }
   },
   "outputs": [
    {
     "name": "stdout",
     "output_type": "stream",
     "text": [
      "Epoch 1/100\n",
      "100/100 [==============================] - 134s 1s/step - loss: 0.6925 - acc: 0.5056 - val_loss: 0.6803 - val_acc: 0.5355\n",
      "Epoch 2/100\n",
      "100/100 [==============================] - 132s 1s/step - loss: 0.6804 - acc: 0.5556 - val_loss: 0.6695 - val_acc: 0.5735\n",
      "Epoch 3/100\n",
      "100/100 [==============================] - 130s 1s/step - loss: 0.6608 - acc: 0.5937 - val_loss: 0.6409 - val_acc: 0.6244\n",
      "Epoch 4/100\n",
      "100/100 [==============================] - 129s 1s/step - loss: 0.6507 - acc: 0.6128 - val_loss: 0.6598 - val_acc: 0.5902\n",
      "Epoch 5/100\n",
      "100/100 [==============================] - 133s 1s/step - loss: 0.6319 - acc: 0.6300 - val_loss: 0.6068 - val_acc: 0.6827\n",
      "Epoch 6/100\n",
      "100/100 [==============================] - 129s 1s/step - loss: 0.6225 - acc: 0.6491 - val_loss: 0.5817 - val_acc: 0.6939\n",
      "Epoch 7/100\n",
      "100/100 [==============================] - 130s 1s/step - loss: 0.6080 - acc: 0.6628 - val_loss: 0.6255 - val_acc: 0.6466\n",
      "Epoch 8/100\n",
      "100/100 [==============================] - 129s 1s/step - loss: 0.5987 - acc: 0.6709 - val_loss: 0.5626 - val_acc: 0.7055\n",
      "Epoch 9/100\n",
      "100/100 [==============================] - 128s 1s/step - loss: 0.5946 - acc: 0.6897 - val_loss: 0.5609 - val_acc: 0.6965\n",
      "Epoch 10/100\n",
      "100/100 [==============================] - 129s 1s/step - loss: 0.5866 - acc: 0.6797 - val_loss: 0.6153 - val_acc: 0.6497\n",
      "Epoch 11/100\n",
      "100/100 [==============================] - 130s 1s/step - loss: 0.5822 - acc: 0.6822 - val_loss: 0.6314 - val_acc: 0.6469\n",
      "Epoch 12/100\n",
      "100/100 [==============================] - 129s 1s/step - loss: 0.5866 - acc: 0.6809 - val_loss: 0.5702 - val_acc: 0.6973\n",
      "Epoch 13/100\n",
      "100/100 [==============================] - 129s 1s/step - loss: 0.5698 - acc: 0.7034 - val_loss: 0.6789 - val_acc: 0.6649\n",
      "Epoch 14/100\n",
      "100/100 [==============================] - 129s 1s/step - loss: 0.5637 - acc: 0.7044 - val_loss: 0.5262 - val_acc: 0.7278\n",
      "Epoch 15/100\n",
      "100/100 [==============================] - 129s 1s/step - loss: 0.5705 - acc: 0.7072 - val_loss: 0.6629 - val_acc: 0.6495\n",
      "Epoch 16/100\n",
      "100/100 [==============================] - 129s 1s/step - loss: 0.5527 - acc: 0.7059 - val_loss: 0.5169 - val_acc: 0.7352\n",
      "Epoch 17/100\n",
      "100/100 [==============================] - 128s 1s/step - loss: 0.5522 - acc: 0.7150 - val_loss: 0.5272 - val_acc: 0.7183\n",
      "Epoch 18/100\n",
      "100/100 [==============================] - 130s 1s/step - loss: 0.5539 - acc: 0.7119 - val_loss: 0.5233 - val_acc: 0.7300\n",
      "Epoch 19/100\n",
      "100/100 [==============================] - 130s 1s/step - loss: 0.5428 - acc: 0.7278 - val_loss: 0.5484 - val_acc: 0.7037\n",
      "Epoch 20/100\n",
      "100/100 [==============================] - 129s 1s/step - loss: 0.5481 - acc: 0.7228 - val_loss: 0.5150 - val_acc: 0.7494\n",
      "Epoch 21/100\n",
      "100/100 [==============================] - 131s 1s/step - loss: 0.5372 - acc: 0.7281 - val_loss: 0.5899 - val_acc: 0.7088\n",
      "Epoch 22/100\n",
      "100/100 [==============================] - 129s 1s/step - loss: 0.5312 - acc: 0.7266 - val_loss: 0.5083 - val_acc: 0.7384\n",
      "Epoch 23/100\n",
      "100/100 [==============================] - 131s 1s/step - loss: 0.5283 - acc: 0.7297 - val_loss: 0.4981 - val_acc: 0.7513\n",
      "Epoch 24/100\n",
      "100/100 [==============================] - 130s 1s/step - loss: 0.5318 - acc: 0.7269 - val_loss: 0.5796 - val_acc: 0.6997\n",
      "Epoch 25/100\n",
      "100/100 [==============================] - 130s 1s/step - loss: 0.5281 - acc: 0.7462 - val_loss: 0.5082 - val_acc: 0.7577\n",
      "Epoch 26/100\n",
      "100/100 [==============================] - 130s 1s/step - loss: 0.5242 - acc: 0.7325 - val_loss: 0.4951 - val_acc: 0.7671\n",
      "Epoch 27/100\n",
      "100/100 [==============================] - 129s 1s/step - loss: 0.5119 - acc: 0.7434 - val_loss: 0.5162 - val_acc: 0.7242\n",
      "Epoch 28/100\n",
      "100/100 [==============================] - 130s 1s/step - loss: 0.5131 - acc: 0.7372 - val_loss: 0.4890 - val_acc: 0.7659\n",
      "Epoch 29/100\n",
      "100/100 [==============================] - 129s 1s/step - loss: 0.5068 - acc: 0.7503 - val_loss: 0.5031 - val_acc: 0.7487\n",
      "Epoch 30/100\n",
      "100/100 [==============================] - 130s 1s/step - loss: 0.5155 - acc: 0.7528 - val_loss: 0.5019 - val_acc: 0.7513\n",
      "Epoch 31/100\n",
      "100/100 [==============================] - 130s 1s/step - loss: 0.5205 - acc: 0.7413 - val_loss: 0.4992 - val_acc: 0.7577\n",
      "Epoch 32/100\n",
      "100/100 [==============================] - 130s 1s/step - loss: 0.4910 - acc: 0.7634 - val_loss: 0.5268 - val_acc: 0.7390\n",
      "Epoch 33/100\n",
      "100/100 [==============================] - 130s 1s/step - loss: 0.5084 - acc: 0.7484 - val_loss: 0.5507 - val_acc: 0.7278\n",
      "Epoch 34/100\n",
      "100/100 [==============================] - 130s 1s/step - loss: 0.4982 - acc: 0.7600 - val_loss: 0.4989 - val_acc: 0.7590\n",
      "Epoch 35/100\n",
      "100/100 [==============================] - 132s 1s/step - loss: 0.4957 - acc: 0.7641 - val_loss: 0.4683 - val_acc: 0.7741\n",
      "Epoch 36/100\n",
      "100/100 [==============================] - 129s 1s/step - loss: 0.4902 - acc: 0.7628 - val_loss: 0.4924 - val_acc: 0.7513\n",
      "Epoch 37/100\n",
      "100/100 [==============================] - 131s 1s/step - loss: 0.5095 - acc: 0.7538 - val_loss: 0.5297 - val_acc: 0.7360\n",
      "Epoch 38/100\n",
      "100/100 [==============================] - 129s 1s/step - loss: 0.4919 - acc: 0.7550 - val_loss: 0.5630 - val_acc: 0.7107\n",
      "Epoch 39/100\n",
      "100/100 [==============================] - 130s 1s/step - loss: 0.4766 - acc: 0.7687 - val_loss: 0.5133 - val_acc: 0.7646\n",
      "Epoch 40/100\n",
      "100/100 [==============================] - 131s 1s/step - loss: 0.4863 - acc: 0.7669 - val_loss: 0.4605 - val_acc: 0.7829\n",
      "Epoch 41/100\n",
      "100/100 [==============================] - 130s 1s/step - loss: 0.4773 - acc: 0.7759 - val_loss: 0.4477 - val_acc: 0.7977\n",
      "Epoch 42/100\n",
      "100/100 [==============================] - 130s 1s/step - loss: 0.4916 - acc: 0.7550 - val_loss: 0.5046 - val_acc: 0.7411\n",
      "Epoch 43/100\n",
      "100/100 [==============================] - 130s 1s/step - loss: 0.4768 - acc: 0.7700 - val_loss: 0.4640 - val_acc: 0.7854\n",
      "Epoch 44/100\n",
      "100/100 [==============================] - 131s 1s/step - loss: 0.4814 - acc: 0.7688 - val_loss: 0.4715 - val_acc: 0.7697\n",
      "Epoch 45/100\n",
      "100/100 [==============================] - 130s 1s/step - loss: 0.4868 - acc: 0.7619 - val_loss: 0.4544 - val_acc: 0.7751\n",
      "Epoch 46/100\n",
      "100/100 [==============================] - 131s 1s/step - loss: 0.4732 - acc: 0.7703 - val_loss: 0.4457 - val_acc: 0.7982\n",
      "Epoch 47/100\n",
      "100/100 [==============================] - 131s 1s/step - loss: 0.4840 - acc: 0.7653 - val_loss: 0.4707 - val_acc: 0.7835\n",
      "Epoch 48/100\n",
      "100/100 [==============================] - 129s 1s/step - loss: 0.4710 - acc: 0.7763 - val_loss: 0.4799 - val_acc: 0.7925\n",
      "Epoch 49/100\n",
      "100/100 [==============================] - 131s 1s/step - loss: 0.4717 - acc: 0.7769 - val_loss: 0.4544 - val_acc: 0.8027\n",
      "Epoch 50/100\n",
      "100/100 [==============================] - 130s 1s/step - loss: 0.4694 - acc: 0.7753 - val_loss: 0.4784 - val_acc: 0.7880\n",
      "Epoch 51/100\n",
      "100/100 [==============================] - 129s 1s/step - loss: 0.4676 - acc: 0.7834 - val_loss: 0.4574 - val_acc: 0.7976\n",
      "Epoch 52/100\n",
      "100/100 [==============================] - 132s 1s/step - loss: 0.4688 - acc: 0.7713 - val_loss: 0.4909 - val_acc: 0.7771\n",
      "Epoch 53/100\n",
      "100/100 [==============================] - 130s 1s/step - loss: 0.4547 - acc: 0.7812 - val_loss: 0.4435 - val_acc: 0.7938\n",
      "Epoch 54/100\n",
      "100/100 [==============================] - 130s 1s/step - loss: 0.4553 - acc: 0.7897 - val_loss: 0.4552 - val_acc: 0.7854\n",
      "Epoch 55/100\n",
      "100/100 [==============================] - 131s 1s/step - loss: 0.4589 - acc: 0.7828 - val_loss: 0.5991 - val_acc: 0.7468\n",
      "Epoch 56/100\n",
      "100/100 [==============================] - 130s 1s/step - loss: 0.4771 - acc: 0.7647 - val_loss: 0.4572 - val_acc: 0.7925\n",
      "Epoch 57/100\n",
      "100/100 [==============================] - 131s 1s/step - loss: 0.4598 - acc: 0.7772 - val_loss: 0.4462 - val_acc: 0.7912\n",
      "Epoch 58/100\n",
      "100/100 [==============================] - 130s 1s/step - loss: 0.4439 - acc: 0.7922 - val_loss: 0.4703 - val_acc: 0.7912\n",
      "Epoch 59/100\n",
      "100/100 [==============================] - 130s 1s/step - loss: 0.4536 - acc: 0.7884 - val_loss: 0.4425 - val_acc: 0.7835\n",
      "Epoch 60/100\n",
      "100/100 [==============================] - 131s 1s/step - loss: 0.4637 - acc: 0.7756 - val_loss: 0.5020 - val_acc: 0.7570\n",
      "Epoch 61/100\n",
      "100/100 [==============================] - 130s 1s/step - loss: 0.4402 - acc: 0.7984 - val_loss: 0.5228 - val_acc: 0.7481\n"
     ]
    },
    {
     "name": "stdout",
     "output_type": "stream",
     "text": [
      "Epoch 62/100\n",
      "100/100 [==============================] - 130s 1s/step - loss: 0.4420 - acc: 0.7931 - val_loss: 0.4574 - val_acc: 0.7982\n",
      "Epoch 63/100\n",
      "100/100 [==============================] - 130s 1s/step - loss: 0.4390 - acc: 0.7959 - val_loss: 0.4238 - val_acc: 0.7990\n",
      "Epoch 64/100\n",
      "100/100 [==============================] - 130s 1s/step - loss: 0.4344 - acc: 0.7916 - val_loss: 0.5926 - val_acc: 0.7532\n",
      "Epoch 65/100\n",
      "100/100 [==============================] - 130s 1s/step - loss: 0.4449 - acc: 0.7928 - val_loss: 0.4806 - val_acc: 0.7925\n",
      "Epoch 66/100\n",
      "100/100 [==============================] - 129s 1s/step - loss: 0.4506 - acc: 0.7925 - val_loss: 0.5168 - val_acc: 0.7300\n",
      "Epoch 67/100\n",
      "100/100 [==============================] - 130s 1s/step - loss: 0.4411 - acc: 0.7919 - val_loss: 0.4852 - val_acc: 0.7925\n",
      "Epoch 68/100\n",
      "100/100 [==============================] - 130s 1s/step - loss: 0.4440 - acc: 0.7909 - val_loss: 0.4532 - val_acc: 0.7867\n",
      "Epoch 69/100\n",
      "100/100 [==============================] - 131s 1s/step - loss: 0.4467 - acc: 0.7922 - val_loss: 0.4550 - val_acc: 0.7855\n",
      "Epoch 70/100\n",
      "100/100 [==============================] - 130s 1s/step - loss: 0.4473 - acc: 0.7944 - val_loss: 0.4394 - val_acc: 0.7996\n",
      "Epoch 71/100\n",
      "100/100 [==============================] - 130s 1s/step - loss: 0.4350 - acc: 0.7997 - val_loss: 0.4780 - val_acc: 0.7633\n",
      "Epoch 72/100\n",
      "100/100 [==============================] - 130s 1s/step - loss: 0.4546 - acc: 0.7972 - val_loss: 0.4993 - val_acc: 0.7700\n",
      "Epoch 73/100\n",
      "100/100 [==============================] - 129s 1s/step - loss: 0.4415 - acc: 0.7997 - val_loss: 0.4560 - val_acc: 0.8022\n",
      "Epoch 74/100\n",
      "100/100 [==============================] - 130s 1s/step - loss: 0.4417 - acc: 0.7922 - val_loss: 0.4532 - val_acc: 0.7919\n",
      "Epoch 75/100\n",
      "100/100 [==============================] - 129s 1s/step - loss: 0.4364 - acc: 0.7997 - val_loss: 0.4365 - val_acc: 0.8086\n",
      "Epoch 76/100\n",
      "100/100 [==============================] - 131s 1s/step - loss: 0.4403 - acc: 0.7956 - val_loss: 0.4906 - val_acc: 0.7652\n",
      "Epoch 77/100\n",
      "100/100 [==============================] - 129s 1s/step - loss: 0.4307 - acc: 0.8037 - val_loss: 0.5588 - val_acc: 0.7564\n",
      "Epoch 78/100\n",
      "100/100 [==============================] - 130s 1s/step - loss: 0.4424 - acc: 0.7928 - val_loss: 0.4711 - val_acc: 0.7862\n",
      "Epoch 79/100\n",
      "100/100 [==============================] - 130s 1s/step - loss: 0.4189 - acc: 0.8047 - val_loss: 0.4774 - val_acc: 0.7957\n",
      "Epoch 80/100\n",
      "100/100 [==============================] - 128s 1s/step - loss: 0.4386 - acc: 0.7925 - val_loss: 0.4564 - val_acc: 0.7925\n",
      "Epoch 81/100\n",
      "100/100 [==============================] - 130s 1s/step - loss: 0.4263 - acc: 0.8078 - val_loss: 0.4897 - val_acc: 0.7608\n",
      "Epoch 82/100\n",
      "100/100 [==============================] - 130s 1s/step - loss: 0.4259 - acc: 0.8019 - val_loss: 0.4439 - val_acc: 0.7996\n",
      "Epoch 83/100\n",
      "100/100 [==============================] - 129s 1s/step - loss: 0.4203 - acc: 0.8109 - val_loss: 0.4651 - val_acc: 0.8090\n",
      "Epoch 84/100\n",
      "100/100 [==============================] - 130s 1s/step - loss: 0.4196 - acc: 0.8103 - val_loss: 0.4432 - val_acc: 0.7964\n",
      "Epoch 85/100\n",
      "100/100 [==============================] - 129s 1s/step - loss: 0.4094 - acc: 0.8084 - val_loss: 0.4886 - val_acc: 0.7938\n",
      "Epoch 86/100\n",
      "100/100 [==============================] - 130s 1s/step - loss: 0.4250 - acc: 0.8031 - val_loss: 0.4755 - val_acc: 0.7925\n",
      "Epoch 87/100\n",
      "100/100 [==============================] - 129s 1s/step - loss: 0.4191 - acc: 0.8075 - val_loss: 0.4255 - val_acc: 0.8128\n",
      "Epoch 88/100\n",
      "100/100 [==============================] - 129s 1s/step - loss: 0.4092 - acc: 0.8147 - val_loss: 0.4278 - val_acc: 0.8054\n",
      "Epoch 89/100\n",
      "100/100 [==============================] - 129s 1s/step - loss: 0.4306 - acc: 0.8091 - val_loss: 0.4422 - val_acc: 0.8086\n",
      "Epoch 90/100\n",
      "100/100 [==============================] - 130s 1s/step - loss: 0.4062 - acc: 0.8172 - val_loss: 0.4611 - val_acc: 0.7754\n",
      "Epoch 91/100\n",
      "100/100 [==============================] - 130s 1s/step - loss: 0.4137 - acc: 0.8050 - val_loss: 0.4649 - val_acc: 0.8119\n",
      "Epoch 92/100\n",
      "100/100 [==============================] - 130s 1s/step - loss: 0.4158 - acc: 0.8106 - val_loss: 0.5425 - val_acc: 0.7766\n",
      "Epoch 93/100\n",
      "100/100 [==============================] - 130s 1s/step - loss: 0.4230 - acc: 0.8038 - val_loss: 0.4620 - val_acc: 0.7796\n",
      "Epoch 94/100\n",
      "100/100 [==============================] - 130s 1s/step - loss: 0.4078 - acc: 0.8188 - val_loss: 0.6942 - val_acc: 0.7088\n",
      "Epoch 95/100\n",
      "100/100 [==============================] - 130s 1s/step - loss: 0.4212 - acc: 0.8100 - val_loss: 0.4603 - val_acc: 0.7945\n",
      "Epoch 96/100\n",
      "100/100 [==============================] - 136s 1s/step - loss: 0.4077 - acc: 0.8144 - val_loss: 0.4317 - val_acc: 0.8099\n",
      "Epoch 97/100\n",
      "100/100 [==============================] - 140s 1s/step - loss: 0.4242 - acc: 0.8153 - val_loss: 0.4670 - val_acc: 0.8014\n",
      "Epoch 98/100\n",
      "100/100 [==============================] - 148s 1s/step - loss: 0.3978 - acc: 0.8172 - val_loss: 0.4405 - val_acc: 0.7919\n",
      "Epoch 99/100\n",
      "100/100 [==============================] - 143s 1s/step - loss: 0.4138 - acc: 0.8163 - val_loss: 0.5688 - val_acc: 0.7805\n",
      "Epoch 100/100\n",
      "100/100 [==============================] - 140s 1s/step - loss: 0.4294 - acc: 0.8109 - val_loss: 0.4443 - val_acc: 0.8048\n"
     ]
    }
   ],
   "source": [
    "history=model.fit_generator(train_generator,\n",
    "                           steps_per_epoch=100,\n",
    "                           epochs=100,\n",
    "                           validation_data=validation_generator,\n",
    "                           validation_steps=50)"
   ]
  },
  {
   "cell_type": "code",
   "execution_count": 51,
   "metadata": {
    "ExecuteTime": {
     "end_time": "2019-07-19T02:16:23.406146Z",
     "start_time": "2019-07-19T02:16:23.305140Z"
    }
   },
   "outputs": [],
   "source": [
    "model.save('F:\\\\study\\\\ml\\\\DataSet\\\\dogs_vs_cats\\\\cats_and_dogs_small\\\\models\\\\cats_and_dogs_small_2.h5')"
   ]
  },
  {
   "cell_type": "code",
   "execution_count": 64,
   "metadata": {
    "ExecuteTime": {
     "end_time": "2019-07-19T02:31:20.089433Z",
     "start_time": "2019-07-19T02:31:20.058432Z"
    }
   },
   "outputs": [
    {
     "data": {
      "text/plain": [
       "<matplotlib.legend.Legend at 0x200937b8>"
      ]
     },
     "execution_count": 64,
     "metadata": {},
     "output_type": "execute_result"
    }
   ],
   "source": [
    "acc = history.history['acc']\n",
    "val_acc = history.history['val_acc']\n",
    "loss = history.history['loss']\n",
    "val_loss = history.history['val_loss']\n",
    "epochs=range(1,len(acc)+1)\n",
    "plt.plot(epochs,acc,'bo',label='Training acc')\n",
    "plt.plot(epochs,val_acc,'b',label='validation acc')\n",
    "plt.title('training and validation accuracy')\n",
    "plt.legend()\n",
    "# plt.show()\n"
   ]
  },
  {
   "cell_type": "code",
   "execution_count": 63,
   "metadata": {
    "ExecuteTime": {
     "end_time": "2019-07-19T02:31:17.685296Z",
     "start_time": "2019-07-19T02:31:17.617292Z"
    }
   },
   "outputs": [
    {
     "data": {
      "text/plain": [
       "<matplotlib.legend.Legend at 0x1fa517b8>"
      ]
     },
     "execution_count": 63,
     "metadata": {},
     "output_type": "execute_result"
    }
   ],
   "source": [
    "plt.plot(epochs, loss, 'bo', label='Training loss')\n",
    "plt.plot(epochs, val_loss, 'b', label='Validation loss')\n",
    "plt.title('Training and validation loss')\n",
    "plt.legend()\n",
    "# plt.show()"
   ]
  },
  {
   "cell_type": "code",
   "execution_count": null,
   "metadata": {},
   "outputs": [],
   "source": []
  }
 ],
 "metadata": {
  "kernelspec": {
   "display_name": "Python 3",
   "language": "python",
   "name": "python3"
  },
  "language_info": {
   "codemirror_mode": {
    "name": "ipython",
    "version": 3
   },
   "file_extension": ".py",
   "mimetype": "text/x-python",
   "name": "python",
   "nbconvert_exporter": "python",
   "pygments_lexer": "ipython3",
   "version": "3.6.3"
  }
 },
 "nbformat": 4,
 "nbformat_minor": 2
}
