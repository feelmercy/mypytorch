{
 "cells": [
  {
   "cell_type": "code",
   "execution_count": 3,
   "metadata": {
    "ExecuteTime": {
     "end_time": "2019-08-06T07:54:26.674381Z",
     "start_time": "2019-08-06T07:54:26.669381Z"
    }
   },
   "outputs": [],
   "source": [
    "from keras.applications import VGG16"
   ]
  },
  {
   "cell_type": "code",
   "execution_count": 28,
   "metadata": {
    "ExecuteTime": {
     "end_time": "2019-08-06T09:15:55.979033Z",
     "start_time": "2019-08-06T09:15:55.391000Z"
    }
   },
   "outputs": [],
   "source": [
    "conv_base = VGG16(weights='imagenet',\n",
    "                  include_top=False,\n",
    "                  input_shape=(150, 150, 3))"
   ]
  },
  {
   "cell_type": "code",
   "execution_count": 29,
   "metadata": {
    "ExecuteTime": {
     "end_time": "2019-08-06T09:15:55.986034Z",
     "start_time": "2019-08-06T09:15:55.981033Z"
    },
    "scrolled": true
   },
   "outputs": [
    {
     "name": "stdout",
     "output_type": "stream",
     "text": [
      "_________________________________________________________________\n",
      "Layer (type)                 Output Shape              Param #   \n",
      "=================================================================\n",
      "input_5 (InputLayer)         (None, 150, 150, 3)       0         \n",
      "_________________________________________________________________\n",
      "block1_conv1 (Conv2D)        (None, 150, 150, 64)      1792      \n",
      "_________________________________________________________________\n",
      "block1_conv2 (Conv2D)        (None, 150, 150, 64)      36928     \n",
      "_________________________________________________________________\n",
      "block1_pool (MaxPooling2D)   (None, 75, 75, 64)        0         \n",
      "_________________________________________________________________\n",
      "block2_conv1 (Conv2D)        (None, 75, 75, 128)       73856     \n",
      "_________________________________________________________________\n",
      "block2_conv2 (Conv2D)        (None, 75, 75, 128)       147584    \n",
      "_________________________________________________________________\n",
      "block2_pool (MaxPooling2D)   (None, 37, 37, 128)       0         \n",
      "_________________________________________________________________\n",
      "block3_conv1 (Conv2D)        (None, 37, 37, 256)       295168    \n",
      "_________________________________________________________________\n",
      "block3_conv2 (Conv2D)        (None, 37, 37, 256)       590080    \n",
      "_________________________________________________________________\n",
      "block3_conv3 (Conv2D)        (None, 37, 37, 256)       590080    \n",
      "_________________________________________________________________\n",
      "block3_pool (MaxPooling2D)   (None, 18, 18, 256)       0         \n",
      "_________________________________________________________________\n",
      "block4_conv1 (Conv2D)        (None, 18, 18, 512)       1180160   \n",
      "_________________________________________________________________\n",
      "block4_conv2 (Conv2D)        (None, 18, 18, 512)       2359808   \n",
      "_________________________________________________________________\n",
      "block4_conv3 (Conv2D)        (None, 18, 18, 512)       2359808   \n",
      "_________________________________________________________________\n",
      "block4_pool (MaxPooling2D)   (None, 9, 9, 512)         0         \n",
      "_________________________________________________________________\n",
      "block5_conv1 (Conv2D)        (None, 9, 9, 512)         2359808   \n",
      "_________________________________________________________________\n",
      "block5_conv2 (Conv2D)        (None, 9, 9, 512)         2359808   \n",
      "_________________________________________________________________\n",
      "block5_conv3 (Conv2D)        (None, 9, 9, 512)         2359808   \n",
      "_________________________________________________________________\n",
      "block5_pool (MaxPooling2D)   (None, 4, 4, 512)         0         \n",
      "=================================================================\n",
      "Total params: 14,714,688\n",
      "Trainable params: 14,714,688\n",
      "Non-trainable params: 0\n",
      "_________________________________________________________________\n"
     ]
    }
   ],
   "source": [
    "conv_base.summary()"
   ]
  },
  {
   "cell_type": "code",
   "execution_count": 7,
   "metadata": {
    "ExecuteTime": {
     "end_time": "2019-08-06T08:15:17.903947Z",
     "start_time": "2019-08-06T08:15:17.896947Z"
    }
   },
   "outputs": [],
   "source": [
    "import os\n",
    "import numpy as np\n",
    "from keras.preprocessing.image import ImageDataGenerator"
   ]
  },
  {
   "cell_type": "code",
   "execution_count": 8,
   "metadata": {
    "ExecuteTime": {
     "end_time": "2019-08-06T08:15:58.108247Z",
     "start_time": "2019-08-06T08:15:58.072245Z"
    }
   },
   "outputs": [],
   "source": [
    "original_dataset_dir = 'F:\\\\study\\\\ml\\\\DataSet\\\\dogs_vs_cats\\original'\n",
    "base_dir = 'F:\\study\\ml\\DataSet\\dogs_vs_cats\\cats_and_dogs_small'\n",
    "train_dir = os.path.join(base_dir, 'train')\n",
    "validation_dir = os.path.join(base_dir, 'validation')\n",
    "test_dir = os.path.join(base_dir, 'test')\n",
    "train_cats_dir = os.path.join(train_dir, 'cats')\n",
    "train_dogs_dir = os.path.join(train_dir, 'dogs')\n",
    "validation_cats_dir = os.path.join(validation_dir, 'cats')\n",
    "validation_dogs_dir = os.path.join(validation_dir, 'dogs')\n",
    "test_cats_dir = os.path.join(test_dir, 'cats')\n",
    "test_dogs_dir = os.path.join(test_dir, 'dogs')"
   ]
  },
  {
   "cell_type": "code",
   "execution_count": 9,
   "metadata": {
    "ExecuteTime": {
     "end_time": "2019-08-06T08:16:27.779944Z",
     "start_time": "2019-08-06T08:16:27.772943Z"
    }
   },
   "outputs": [],
   "source": [
    "datagen = ImageDataGenerator(rescale=1. / 255)\n",
    "batch_size = 20"
   ]
  },
  {
   "cell_type": "code",
   "execution_count": 13,
   "metadata": {
    "ExecuteTime": {
     "end_time": "2019-08-06T08:39:32.191128Z",
     "start_time": "2019-08-06T08:39:32.161126Z"
    }
   },
   "outputs": [],
   "source": [
    "def extract_feature(directory, sample_count):\n",
    "    features = np.zeros(shape=(sample_count, 4, 4, 512))\n",
    "    lables = np.zeros(shape=(sample_count))\n",
    "    generator = datagen.flow_from_directory(directory,\n",
    "                                            target_size=(150, 150),\n",
    "                                            batch_size=batch_size,\n",
    "                                            class_mode='binary')\n",
    "    i = 0\n",
    "    for input_batch, labels_batch in generator:\n",
    "        features_batch = conv_base.predict(input_batch)\n",
    "        features[i * batch_size:(i + 1) * batch_size] = features_batch\n",
    "        lables[i * batch_size:(i + 1) * batch_size] = labels_batch\n",
    "        i += 1\n",
    "        if i * batch_size >= sample_count:\n",
    "            break\n",
    "    return features, lables"
   ]
  },
  {
   "cell_type": "code",
   "execution_count": 30,
   "metadata": {
    "ExecuteTime": {
     "end_time": "2019-08-06T09:50:19.816078Z",
     "start_time": "2019-08-06T09:41:14.103865Z"
    }
   },
   "outputs": [
    {
     "name": "stdout",
     "output_type": "stream",
     "text": [
      "Found 2000 images belonging to 2 classes.\n",
      "Found 1000 images belonging to 2 classes.\n",
      "Found 1000 images belonging to 2 classes.\n"
     ]
    }
   ],
   "source": [
    "train_features, train_labels = extract_feature(train_dir, 2000)\n",
    "validation_features, validation_labels = extract_feature(validation_dir, 1000)\n",
    "test_features, test_labels = extract_feature(test_dir, 1000)"
   ]
  },
  {
   "cell_type": "code",
   "execution_count": 31,
   "metadata": {
    "ExecuteTime": {
     "end_time": "2019-08-06T09:50:45.793564Z",
     "start_time": "2019-08-06T09:50:45.774563Z"
    }
   },
   "outputs": [
    {
     "data": {
      "text/plain": [
       "(2000, 4, 4, 512)"
      ]
     },
     "execution_count": 31,
     "metadata": {},
     "output_type": "execute_result"
    }
   ],
   "source": [
    "train_features.shape"
   ]
  },
  {
   "cell_type": "code",
   "execution_count": 32,
   "metadata": {
    "ExecuteTime": {
     "end_time": "2019-08-06T09:51:00.157385Z",
     "start_time": "2019-08-06T09:51:00.147385Z"
    }
   },
   "outputs": [
    {
     "data": {
      "text/plain": [
       "array([[[0.91105127, 0.        , 0.        , ..., 0.        ,\n",
       "         1.13704181, 0.        ],\n",
       "        [1.25691807, 0.        , 0.        , ..., 0.        ,\n",
       "         0.56305552, 0.        ],\n",
       "        [0.01481284, 0.        , 0.58635139, ..., 0.        ,\n",
       "         0.15478727, 0.        ],\n",
       "        [0.49365985, 0.        , 0.        , ..., 0.        ,\n",
       "         0.59466094, 0.        ]],\n",
       "\n",
       "       [[0.80253357, 0.        , 0.        , ..., 0.        ,\n",
       "         1.03387094, 0.        ],\n",
       "        [1.1789521 , 0.        , 0.72089756, ..., 0.        ,\n",
       "         0.75889981, 0.        ],\n",
       "        [0.56917733, 0.        , 1.07801533, ..., 0.        ,\n",
       "         0.        , 0.        ],\n",
       "        [0.53726596, 0.        , 0.32577533, ..., 0.        ,\n",
       "         0.        , 0.        ]],\n",
       "\n",
       "       [[0.        , 0.        , 0.        , ..., 0.        ,\n",
       "         0.71279502, 0.        ],\n",
       "        [0.13314265, 0.        , 0.31844726, ..., 0.        ,\n",
       "         0.37937379, 0.        ],\n",
       "        [0.2722365 , 0.        , 0.4345656 , ..., 0.        ,\n",
       "         0.09038526, 0.        ],\n",
       "        [0.15045886, 0.        , 0.        , ..., 0.        ,\n",
       "         0.03562927, 0.        ]],\n",
       "\n",
       "       [[0.3108981 , 0.        , 0.45043972, ..., 0.        ,\n",
       "         0.45647836, 0.        ],\n",
       "        [0.38774329, 0.        , 0.44639105, ..., 0.        ,\n",
       "         0.01043975, 0.        ],\n",
       "        [0.        , 0.        , 0.        , ..., 0.        ,\n",
       "         0.13319743, 0.        ],\n",
       "        [0.55214643, 0.        , 0.        , ..., 0.        ,\n",
       "         0.04022336, 0.        ]]])"
      ]
     },
     "execution_count": 32,
     "metadata": {},
     "output_type": "execute_result"
    }
   ],
   "source": [
    "train_features[0]"
   ]
  },
  {
   "cell_type": "code",
   "execution_count": 15,
   "metadata": {
    "ExecuteTime": {
     "end_time": "2019-08-06T09:06:30.319679Z",
     "start_time": "2019-08-06T09:06:30.311679Z"
    }
   },
   "outputs": [],
   "source": [
    "train_features = np.reshape(train_features, (2000, 4 * 4 * 512))\n",
    "validation_features = np.reshape(validation_features, (1000, 4 * 4 * 512))\n",
    "test_features = np.reshape(test_features, (1000, 4 * 4 * 512))"
   ]
  },
  {
   "cell_type": "code",
   "execution_count": 16,
   "metadata": {
    "ExecuteTime": {
     "end_time": "2019-08-06T09:06:31.951773Z",
     "start_time": "2019-08-06T09:06:31.941772Z"
    }
   },
   "outputs": [],
   "source": [
    "from keras import models, layers, optimizers"
   ]
  },
  {
   "cell_type": "code",
   "execution_count": 17,
   "metadata": {
    "ExecuteTime": {
     "end_time": "2019-08-06T09:06:33.829880Z",
     "start_time": "2019-08-06T09:06:33.772877Z"
    }
   },
   "outputs": [],
   "source": [
    "model = models.Sequential()\n",
    "model.add(layers.Dense(256, activation='relu', input_dim=4 * 4 * 512))\n",
    "model.add(layers.Dropout(0.5))\n",
    "model.add(layers.Dense(1, activation='sigmoid'))"
   ]
  },
  {
   "cell_type": "code",
   "execution_count": 18,
   "metadata": {
    "ExecuteTime": {
     "end_time": "2019-08-06T09:06:34.777934Z",
     "start_time": "2019-08-06T09:06:34.725931Z"
    }
   },
   "outputs": [],
   "source": [
    "model.compile(optimizer=optimizers.RMSprop(lr=2e-5),\n",
    "              loss='binary_crossentropy',\n",
    "              metrics=['acc'])"
   ]
  },
  {
   "cell_type": "code",
   "execution_count": 19,
   "metadata": {
    "ExecuteTime": {
     "end_time": "2019-08-06T09:08:27.255368Z",
     "start_time": "2019-08-06T09:06:38.538149Z"
    }
   },
   "outputs": [
    {
     "name": "stdout",
     "output_type": "stream",
     "text": [
      "Train on 2000 samples, validate on 1000 samples\n",
      "Epoch 1/30\n",
      "2000/2000 [==============================] - 3s 2ms/step - loss: 0.6016 - acc: 0.6770 - val_loss: 0.4554 - val_acc: 0.8020\n",
      "Epoch 2/30\n",
      "2000/2000 [==============================] - 3s 2ms/step - loss: 0.4248 - acc: 0.8120 - val_loss: 0.3683 - val_acc: 0.8470\n",
      "Epoch 3/30\n",
      "2000/2000 [==============================] - 4s 2ms/step - loss: 0.3556 - acc: 0.8530 - val_loss: 0.3220 - val_acc: 0.8840\n",
      "Epoch 4/30\n",
      "2000/2000 [==============================] - 4s 2ms/step - loss: 0.3099 - acc: 0.8790 - val_loss: 0.3157 - val_acc: 0.8650\n",
      "Epoch 5/30\n",
      "2000/2000 [==============================] - 4s 2ms/step - loss: 0.2837 - acc: 0.8915 - val_loss: 0.2829 - val_acc: 0.8950\n",
      "Epoch 6/30\n",
      "2000/2000 [==============================] - 4s 2ms/step - loss: 0.2632 - acc: 0.8975 - val_loss: 0.2772 - val_acc: 0.8900\n",
      "Epoch 7/30\n",
      "2000/2000 [==============================] - 4s 2ms/step - loss: 0.2453 - acc: 0.9070 - val_loss: 0.2634 - val_acc: 0.8970\n",
      "Epoch 8/30\n",
      "2000/2000 [==============================] - 4s 2ms/step - loss: 0.2286 - acc: 0.9115 - val_loss: 0.2592 - val_acc: 0.8950\n",
      "Epoch 9/30\n",
      "2000/2000 [==============================] - 4s 2ms/step - loss: 0.2205 - acc: 0.9140 - val_loss: 0.2532 - val_acc: 0.9080\n",
      "Epoch 10/30\n",
      "2000/2000 [==============================] - 4s 2ms/step - loss: 0.2057 - acc: 0.9275 - val_loss: 0.2617 - val_acc: 0.8850\n",
      "Epoch 11/30\n",
      "2000/2000 [==============================] - 4s 2ms/step - loss: 0.1901 - acc: 0.9265 - val_loss: 0.2442 - val_acc: 0.9010\n",
      "Epoch 12/30\n",
      "2000/2000 [==============================] - 4s 2ms/step - loss: 0.1896 - acc: 0.9265 - val_loss: 0.2444 - val_acc: 0.9010\n",
      "Epoch 13/30\n",
      "2000/2000 [==============================] - 4s 2ms/step - loss: 0.1801 - acc: 0.9355 - val_loss: 0.2472 - val_acc: 0.9010\n",
      "Epoch 14/30\n",
      "2000/2000 [==============================] - 4s 2ms/step - loss: 0.1640 - acc: 0.9440 - val_loss: 0.2386 - val_acc: 0.9050\n",
      "Epoch 15/30\n",
      "2000/2000 [==============================] - 4s 2ms/step - loss: 0.1607 - acc: 0.9400 - val_loss: 0.2522 - val_acc: 0.8940\n",
      "Epoch 16/30\n",
      "2000/2000 [==============================] - 4s 2ms/step - loss: 0.1613 - acc: 0.9470 - val_loss: 0.2394 - val_acc: 0.8990\n",
      "Epoch 17/30\n",
      "2000/2000 [==============================] - 4s 2ms/step - loss: 0.1467 - acc: 0.9485 - val_loss: 0.2412 - val_acc: 0.9000\n",
      "Epoch 18/30\n",
      "2000/2000 [==============================] - 4s 2ms/step - loss: 0.1449 - acc: 0.9480 - val_loss: 0.2358 - val_acc: 0.9040\n",
      "Epoch 19/30\n",
      "2000/2000 [==============================] - 4s 2ms/step - loss: 0.1376 - acc: 0.9500 - val_loss: 0.2391 - val_acc: 0.9000\n",
      "Epoch 20/30\n",
      "2000/2000 [==============================] - 4s 2ms/step - loss: 0.1327 - acc: 0.9560 - val_loss: 0.2420 - val_acc: 0.9000\n",
      "Epoch 21/30\n",
      "2000/2000 [==============================] - 3s 2ms/step - loss: 0.1248 - acc: 0.9580 - val_loss: 0.2377 - val_acc: 0.9040\n",
      "Epoch 22/30\n",
      "2000/2000 [==============================] - 4s 2ms/step - loss: 0.1227 - acc: 0.9610 - val_loss: 0.2383 - val_acc: 0.9000\n",
      "Epoch 23/30\n",
      "2000/2000 [==============================] - 3s 2ms/step - loss: 0.1128 - acc: 0.9650 - val_loss: 0.2339 - val_acc: 0.9040\n",
      "Epoch 24/30\n",
      "2000/2000 [==============================] - 4s 2ms/step - loss: 0.1132 - acc: 0.9640 - val_loss: 0.2414 - val_acc: 0.8980\n",
      "Epoch 25/30\n",
      "2000/2000 [==============================] - 3s 2ms/step - loss: 0.1063 - acc: 0.9650 - val_loss: 0.2347 - val_acc: 0.9060\n",
      "Epoch 26/30\n",
      "2000/2000 [==============================] - 3s 2ms/step - loss: 0.0999 - acc: 0.9660 - val_loss: 0.2380 - val_acc: 0.9010\n",
      "Epoch 27/30\n",
      "2000/2000 [==============================] - 3s 2ms/step - loss: 0.0995 - acc: 0.9680 - val_loss: 0.2376 - val_acc: 0.9020\n",
      "Epoch 28/30\n",
      "2000/2000 [==============================] - 3s 2ms/step - loss: 0.0926 - acc: 0.9705 - val_loss: 0.2377 - val_acc: 0.9060\n",
      "Epoch 29/30\n",
      "2000/2000 [==============================] - 4s 2ms/step - loss: 0.0936 - acc: 0.9725 - val_loss: 0.2394 - val_acc: 0.9040\n",
      "Epoch 30/30\n",
      "2000/2000 [==============================] - 3s 2ms/step - loss: 0.0872 - acc: 0.9745 - val_loss: 0.2413 - val_acc: 0.9010\n"
     ]
    }
   ],
   "source": [
    "history = model.fit(train_features,\n",
    "                    train_labels,\n",
    "                    epochs=30,\n",
    "                    batch_size=20,\n",
    "                    validation_data=(validation_features, validation_labels))"
   ]
  },
  {
   "cell_type": "code",
   "execution_count": 33,
   "metadata": {
    "ExecuteTime": {
     "end_time": "2019-08-06T13:34:34.113620Z",
     "start_time": "2019-08-06T13:34:34.039615Z"
    }
   },
   "outputs": [],
   "source": [
    "model = models.Sequential()\n",
    "model.add(conv_base)\n",
    "model.add(layers.Flatten())\n",
    "model.add(layers.Dense(256, activation='relu'))\n",
    "model.add(layers.Dense(1, activation='sigmoid'))"
   ]
  },
  {
   "cell_type": "code",
   "execution_count": 34,
   "metadata": {
    "ExecuteTime": {
     "end_time": "2019-08-06T13:34:42.301088Z",
     "start_time": "2019-08-06T13:34:42.295088Z"
    }
   },
   "outputs": [
    {
     "name": "stdout",
     "output_type": "stream",
     "text": [
      "_________________________________________________________________\n",
      "Layer (type)                 Output Shape              Param #   \n",
      "=================================================================\n",
      "vgg16 (Model)                (None, 4, 4, 512)         14714688  \n",
      "_________________________________________________________________\n",
      "flatten_1 (Flatten)          (None, 8192)              0         \n",
      "_________________________________________________________________\n",
      "dense_3 (Dense)              (None, 256)               2097408   \n",
      "_________________________________________________________________\n",
      "dense_4 (Dense)              (None, 1)                 257       \n",
      "=================================================================\n",
      "Total params: 16,812,353\n",
      "Trainable params: 16,812,353\n",
      "Non-trainable params: 0\n",
      "_________________________________________________________________\n"
     ]
    }
   ],
   "source": [
    "model.summary()"
   ]
  },
  {
   "cell_type": "code",
   "execution_count": 35,
   "metadata": {
    "ExecuteTime": {
     "end_time": "2019-08-06T13:35:27.151653Z",
     "start_time": "2019-08-06T13:35:27.145653Z"
    }
   },
   "outputs": [],
   "source": [
    "conv_base.trainable = False"
   ]
  },
  {
   "cell_type": "code",
   "execution_count": 36,
   "metadata": {
    "ExecuteTime": {
     "end_time": "2019-08-06T13:36:08.459016Z",
     "start_time": "2019-08-06T13:36:08.452016Z"
    }
   },
   "outputs": [],
   "source": [
    "train_datagen = ImageDataGenerator(rescale=1. / 255,\n",
    "                                   rotation_range=40,\n",
    "                                   width_shift_range=0.2,\n",
    "                                   height_shift_range=0.2,\n",
    "                                   shear_range=0.2,\n",
    "                                   zoom_range=0.2,\n",
    "                                   horizontal_flip=True,\n",
    "                                   fill_mode='nearest')"
   ]
  },
  {
   "cell_type": "code",
   "execution_count": 37,
   "metadata": {
    "ExecuteTime": {
     "end_time": "2019-08-06T13:36:19.048622Z",
     "start_time": "2019-08-06T13:36:19.043621Z"
    }
   },
   "outputs": [],
   "source": [
    "test_datagen = ImageDataGenerator(rescale=1. / 255)"
   ]
  },
  {
   "cell_type": "code",
   "execution_count": 38,
   "metadata": {
    "ExecuteTime": {
     "end_time": "2019-08-06T13:36:53.335583Z",
     "start_time": "2019-08-06T13:36:53.220576Z"
    }
   },
   "outputs": [
    {
     "name": "stdout",
     "output_type": "stream",
     "text": [
      "Found 2000 images belonging to 2 classes.\n"
     ]
    }
   ],
   "source": [
    "train_generator = train_datagen.flow_from_directory(train_dir,\n",
    "                                                    target_size=(150, 150),\n",
    "                                                    batch_size=20,\n",
    "                                                    class_mode='binary')"
   ]
  },
  {
   "cell_type": "code",
   "execution_count": 39,
   "metadata": {
    "ExecuteTime": {
     "end_time": "2019-08-06T13:37:05.059253Z",
     "start_time": "2019-08-06T13:37:04.948247Z"
    }
   },
   "outputs": [
    {
     "name": "stdout",
     "output_type": "stream",
     "text": [
      "Found 1000 images belonging to 2 classes.\n"
     ]
    }
   ],
   "source": [
    "validation_generator = test_datagen.flow_from_directory(validation_dir,\n",
    "                                                        target_size=(150, 150),\n",
    "                                                        batch_size=20,\n",
    "                                                        class_mode='binary')"
   ]
  },
  {
   "cell_type": "code",
   "execution_count": 40,
   "metadata": {
    "ExecuteTime": {
     "end_time": "2019-08-06T13:37:15.935875Z",
     "start_time": "2019-08-06T13:37:15.903874Z"
    }
   },
   "outputs": [],
   "source": [
    "model.compile(loss='binary_crossentropy',\n",
    "              optimizer=optimizers.RMSprop(lr=2e-5),\n",
    "              metrics=['acc'])"
   ]
  },
  {
   "cell_type": "code",
   "execution_count": 41,
   "metadata": {
    "ExecuteTime": {
     "end_time": "2019-08-06T16:37:05.549006Z",
     "start_time": "2019-08-06T13:37:31.250751Z"
    }
   },
   "outputs": [
    {
     "name": "stdout",
     "output_type": "stream",
     "text": [
      "Epoch 1/30\n",
      "100/100 [==============================] - 362s 4s/step - loss: 0.5856 - acc: 0.6980 - val_loss: 0.4477 - val_acc: 0.8250\n",
      "Epoch 2/30\n",
      "100/100 [==============================] - 360s 4s/step - loss: 0.4822 - acc: 0.7845 - val_loss: 0.3792 - val_acc: 0.8440\n",
      "Epoch 3/30\n",
      "100/100 [==============================] - 359s 4s/step - loss: 0.4252 - acc: 0.8150 - val_loss: 0.3438 - val_acc: 0.8670\n",
      "Epoch 4/30\n",
      "100/100 [==============================] - 359s 4s/step - loss: 0.4045 - acc: 0.8230 - val_loss: 0.3133 - val_acc: 0.8760\n",
      "Epoch 5/30\n",
      "100/100 [==============================] - 359s 4s/step - loss: 0.3904 - acc: 0.8320 - val_loss: 0.2982 - val_acc: 0.8740\n",
      "Epoch 6/30\n",
      "100/100 [==============================] - 359s 4s/step - loss: 0.3704 - acc: 0.8330 - val_loss: 0.2839 - val_acc: 0.8850\n",
      "Epoch 7/30\n",
      "100/100 [==============================] - 359s 4s/step - loss: 0.3614 - acc: 0.8380 - val_loss: 0.2747 - val_acc: 0.8900\n",
      "Epoch 8/30\n",
      "100/100 [==============================] - 359s 4s/step - loss: 0.3544 - acc: 0.8520 - val_loss: 0.2882 - val_acc: 0.8770\n",
      "Epoch 9/30\n",
      "100/100 [==============================] - 359s 4s/step - loss: 0.3484 - acc: 0.8515 - val_loss: 0.2698 - val_acc: 0.8870\n",
      "Epoch 10/30\n",
      "100/100 [==============================] - 359s 4s/step - loss: 0.3365 - acc: 0.8465 - val_loss: 0.2642 - val_acc: 0.8930\n",
      "Epoch 11/30\n",
      "100/100 [==============================] - 359s 4s/step - loss: 0.3333 - acc: 0.8585 - val_loss: 0.2577 - val_acc: 0.8940\n",
      "Epoch 12/30\n",
      "100/100 [==============================] - 360s 4s/step - loss: 0.3277 - acc: 0.8545 - val_loss: 0.2546 - val_acc: 0.8930\n",
      "Epoch 13/30\n",
      "100/100 [==============================] - 359s 4s/step - loss: 0.3255 - acc: 0.8540 - val_loss: 0.2523 - val_acc: 0.8980\n",
      "Epoch 14/30\n",
      "100/100 [==============================] - 359s 4s/step - loss: 0.3256 - acc: 0.8635 - val_loss: 0.2521 - val_acc: 0.8980\n",
      "Epoch 15/30\n",
      "100/100 [==============================] - 359s 4s/step - loss: 0.3139 - acc: 0.8615 - val_loss: 0.2481 - val_acc: 0.8960\n",
      "Epoch 16/30\n",
      "100/100 [==============================] - 359s 4s/step - loss: 0.3152 - acc: 0.8495 - val_loss: 0.2442 - val_acc: 0.8970\n",
      "Epoch 17/30\n",
      "100/100 [==============================] - 359s 4s/step - loss: 0.3118 - acc: 0.8675 - val_loss: 0.2492 - val_acc: 0.8990\n",
      "Epoch 18/30\n",
      "100/100 [==============================] - 359s 4s/step - loss: 0.3119 - acc: 0.8695 - val_loss: 0.2446 - val_acc: 0.8990\n",
      "Epoch 19/30\n",
      "100/100 [==============================] - 359s 4s/step - loss: 0.2932 - acc: 0.8795 - val_loss: 0.2747 - val_acc: 0.8860\n",
      "Epoch 20/30\n",
      "100/100 [==============================] - 359s 4s/step - loss: 0.3161 - acc: 0.8645 - val_loss: 0.2418 - val_acc: 0.9050\n",
      "Epoch 21/30\n",
      "100/100 [==============================] - 359s 4s/step - loss: 0.2950 - acc: 0.8725 - val_loss: 0.2498 - val_acc: 0.8970\n",
      "Epoch 22/30\n",
      "100/100 [==============================] - 359s 4s/step - loss: 0.3013 - acc: 0.8640 - val_loss: 0.2427 - val_acc: 0.9050\n",
      "Epoch 23/30\n",
      "100/100 [==============================] - 360s 4s/step - loss: 0.2899 - acc: 0.8740 - val_loss: 0.2432 - val_acc: 0.9000\n",
      "Epoch 24/30\n",
      "100/100 [==============================] - 360s 4s/step - loss: 0.3038 - acc: 0.8630 - val_loss: 0.2367 - val_acc: 0.9020\n",
      "Epoch 25/30\n",
      "100/100 [==============================] - 359s 4s/step - loss: 0.3014 - acc: 0.8665 - val_loss: 0.2394 - val_acc: 0.9000\n",
      "Epoch 26/30\n",
      "100/100 [==============================] - 359s 4s/step - loss: 0.2872 - acc: 0.8775 - val_loss: 0.2366 - val_acc: 0.9040\n",
      "Epoch 27/30\n",
      "100/100 [==============================] - 361s 4s/step - loss: 0.2882 - acc: 0.8750 - val_loss: 0.2378 - val_acc: 0.9000\n",
      "Epoch 28/30\n",
      "100/100 [==============================] - 357s 4s/step - loss: 0.2806 - acc: 0.8780 - val_loss: 0.2385 - val_acc: 0.9040\n",
      "Epoch 29/30\n",
      "100/100 [==============================] - 354s 4s/step - loss: 0.3028 - acc: 0.8615 - val_loss: 0.2378 - val_acc: 0.9030\n",
      "Epoch 30/30\n",
      "100/100 [==============================] - 354s 4s/step - loss: 0.2783 - acc: 0.8755 - val_loss: 0.2360 - val_acc: 0.9080\n"
     ]
    }
   ],
   "source": [
    "history = model.fit_generator(train_generator,\n",
    "                              steps_per_epoch=100,\n",
    "                              epochs=30,\n",
    "                              validation_data=validation_generator,\n",
    "                              validation_steps=50)"
   ]
  },
  {
   "cell_type": "markdown",
   "metadata": {},
   "source": [
    "fine-tuning"
   ]
  },
  {
   "cell_type": "code",
   "execution_count": 42,
   "metadata": {
    "ExecuteTime": {
     "end_time": "2019-08-07T07:43:35.308922Z",
     "start_time": "2019-08-07T07:43:35.300922Z"
    }
   },
   "outputs": [
    {
     "name": "stdout",
     "output_type": "stream",
     "text": [
      "_________________________________________________________________\n",
      "Layer (type)                 Output Shape              Param #   \n",
      "=================================================================\n",
      "input_5 (InputLayer)         (None, 150, 150, 3)       0         \n",
      "_________________________________________________________________\n",
      "block1_conv1 (Conv2D)        (None, 150, 150, 64)      1792      \n",
      "_________________________________________________________________\n",
      "block1_conv2 (Conv2D)        (None, 150, 150, 64)      36928     \n",
      "_________________________________________________________________\n",
      "block1_pool (MaxPooling2D)   (None, 75, 75, 64)        0         \n",
      "_________________________________________________________________\n",
      "block2_conv1 (Conv2D)        (None, 75, 75, 128)       73856     \n",
      "_________________________________________________________________\n",
      "block2_conv2 (Conv2D)        (None, 75, 75, 128)       147584    \n",
      "_________________________________________________________________\n",
      "block2_pool (MaxPooling2D)   (None, 37, 37, 128)       0         \n",
      "_________________________________________________________________\n",
      "block3_conv1 (Conv2D)        (None, 37, 37, 256)       295168    \n",
      "_________________________________________________________________\n",
      "block3_conv2 (Conv2D)        (None, 37, 37, 256)       590080    \n",
      "_________________________________________________________________\n",
      "block3_conv3 (Conv2D)        (None, 37, 37, 256)       590080    \n",
      "_________________________________________________________________\n",
      "block3_pool (MaxPooling2D)   (None, 18, 18, 256)       0         \n",
      "_________________________________________________________________\n",
      "block4_conv1 (Conv2D)        (None, 18, 18, 512)       1180160   \n",
      "_________________________________________________________________\n",
      "block4_conv2 (Conv2D)        (None, 18, 18, 512)       2359808   \n",
      "_________________________________________________________________\n",
      "block4_conv3 (Conv2D)        (None, 18, 18, 512)       2359808   \n",
      "_________________________________________________________________\n",
      "block4_pool (MaxPooling2D)   (None, 9, 9, 512)         0         \n",
      "_________________________________________________________________\n",
      "block5_conv1 (Conv2D)        (None, 9, 9, 512)         2359808   \n",
      "_________________________________________________________________\n",
      "block5_conv2 (Conv2D)        (None, 9, 9, 512)         2359808   \n",
      "_________________________________________________________________\n",
      "block5_conv3 (Conv2D)        (None, 9, 9, 512)         2359808   \n",
      "_________________________________________________________________\n",
      "block5_pool (MaxPooling2D)   (None, 4, 4, 512)         0         \n",
      "=================================================================\n",
      "Total params: 14,714,688\n",
      "Trainable params: 0\n",
      "Non-trainable params: 14,714,688\n",
      "_________________________________________________________________\n"
     ]
    }
   ],
   "source": [
    "conv_base.summary()"
   ]
  },
  {
   "cell_type": "code",
   "execution_count": 43,
   "metadata": {
    "ExecuteTime": {
     "end_time": "2019-08-07T07:44:29.406016Z",
     "start_time": "2019-08-07T07:44:29.401016Z"
    }
   },
   "outputs": [],
   "source": [
    "conv_base.trainable = True"
   ]
  },
  {
   "cell_type": "code",
   "execution_count": 45,
   "metadata": {
    "ExecuteTime": {
     "end_time": "2019-08-07T07:56:06.767903Z",
     "start_time": "2019-08-07T07:56:06.750902Z"
    }
   },
   "outputs": [],
   "source": [
    "set_trainable = False\n",
    "for layer in conv_base.layers:\n",
    "    if layer.name == 'block5_conv1':\n",
    "        set_trainable = True\n",
    "    if set_trainable == True:\n",
    "        layer.trainable = True\n",
    "    else:\n",
    "        layer.trainable = False"
   ]
  },
  {
   "cell_type": "code",
   "execution_count": 46,
   "metadata": {
    "ExecuteTime": {
     "end_time": "2019-08-07T07:56:08.508003Z",
     "start_time": "2019-08-07T07:56:08.493002Z"
    }
   },
   "outputs": [
    {
     "name": "stdout",
     "output_type": "stream",
     "text": [
      "<keras.engine.input_layer.InputLayer object at 0x000000001D64F748>--False\n",
      "<keras.layers.convolutional.Conv2D object at 0x000000001D64FF28>--False\n",
      "<keras.layers.convolutional.Conv2D object at 0x000000001D64FDD8>--False\n",
      "<keras.layers.pooling.MaxPooling2D object at 0x000000001D65C0F0>--False\n",
      "<keras.layers.convolutional.Conv2D object at 0x000000001E9EF048>--False\n",
      "<keras.layers.convolutional.Conv2D object at 0x000000001D62DCC0>--False\n",
      "<keras.layers.pooling.MaxPooling2D object at 0x000000001D61EE48>--False\n",
      "<keras.layers.convolutional.Conv2D object at 0x000000001D635C88>--False\n",
      "<keras.layers.convolutional.Conv2D object at 0x000000001D616F98>--False\n",
      "<keras.layers.convolutional.Conv2D object at 0x000000001D6186D8>--False\n",
      "<keras.layers.pooling.MaxPooling2D object at 0x000000001B8D6898>--False\n",
      "<keras.layers.convolutional.Conv2D object at 0x000000001D622978>--False\n",
      "<keras.layers.convolutional.Conv2D object at 0x000000001D60E358>--False\n",
      "<keras.layers.convolutional.Conv2D object at 0x000000001D639710>--False\n",
      "<keras.layers.pooling.MaxPooling2D object at 0x000000001D6204A8>--False\n",
      "<keras.layers.convolutional.Conv2D object at 0x000000001BB9D390>--True\n",
      "<keras.layers.convolutional.Conv2D object at 0x000000001AB22128>--True\n",
      "<keras.layers.convolutional.Conv2D object at 0x000000001CEE3A90>--True\n",
      "<keras.layers.pooling.MaxPooling2D object at 0x000000001ACD7048>--True\n"
     ]
    }
   ],
   "source": [
    "for l in conv_base.layers:\n",
    "    print(str(l) + '--' + str(l.trainable))"
   ]
  },
  {
   "cell_type": "code",
   "execution_count": 47,
   "metadata": {
    "ExecuteTime": {
     "end_time": "2019-08-07T07:56:50.786421Z",
     "start_time": "2019-08-07T07:56:50.740418Z"
    }
   },
   "outputs": [],
   "source": [
    "model.compile(loss='binary_crossentropy',\n",
    "              optimizer=optimizers.RMSprop(lr=1e-5),\n",
    "              metrics=['acc'])"
   ]
  },
  {
   "cell_type": "code",
   "execution_count": 48,
   "metadata": {
    "ExecuteTime": {
     "end_time": "2019-08-07T07:57:24.352341Z",
     "start_time": "2019-08-07T07:57:02.977118Z"
    }
   },
   "outputs": [
    {
     "name": "stdout",
     "output_type": "stream",
     "text": [
      "Epoch 1/100\n",
      "  5/100 [>.............................] - ETA: 5:30 - loss: 0.4088 - acc: 0.7900"
     ]
    },
    {
     "ename": "KeyboardInterrupt",
     "evalue": "",
     "output_type": "error",
     "traceback": [
      "\u001b[1;31m---------------------------------------------------------------------------\u001b[0m",
      "\u001b[1;31mKeyboardInterrupt\u001b[0m                         Traceback (most recent call last)",
      "\u001b[1;32m<ipython-input-48-507e4209fa54>\u001b[0m in \u001b[0;36m<module>\u001b[1;34m()\u001b[0m\n\u001b[0;32m      3\u001b[0m                               \u001b[0mepochs\u001b[0m\u001b[1;33m=\u001b[0m\u001b[1;36m100\u001b[0m\u001b[1;33m,\u001b[0m\u001b[1;33m\u001b[0m\u001b[0m\n\u001b[0;32m      4\u001b[0m                               \u001b[0mvalidation_data\u001b[0m\u001b[1;33m=\u001b[0m\u001b[0mvalidation_generator\u001b[0m\u001b[1;33m,\u001b[0m\u001b[1;33m\u001b[0m\u001b[0m\n\u001b[1;32m----> 5\u001b[1;33m                               validation_steps=50)\n\u001b[0m",
      "\u001b[1;32md:\\programdata\\anaconda3\\lib\\site-packages\\keras\\legacy\\interfaces.py\u001b[0m in \u001b[0;36mwrapper\u001b[1;34m(*args, **kwargs)\u001b[0m\n\u001b[0;32m     89\u001b[0m                 warnings.warn('Update your `' + object_name + '` call to the ' +\n\u001b[0;32m     90\u001b[0m                               'Keras 2 API: ' + signature, stacklevel=2)\n\u001b[1;32m---> 91\u001b[1;33m             \u001b[1;32mreturn\u001b[0m \u001b[0mfunc\u001b[0m\u001b[1;33m(\u001b[0m\u001b[1;33m*\u001b[0m\u001b[0margs\u001b[0m\u001b[1;33m,\u001b[0m \u001b[1;33m**\u001b[0m\u001b[0mkwargs\u001b[0m\u001b[1;33m)\u001b[0m\u001b[1;33m\u001b[0m\u001b[0m\n\u001b[0m\u001b[0;32m     92\u001b[0m         \u001b[0mwrapper\u001b[0m\u001b[1;33m.\u001b[0m\u001b[0m_original_function\u001b[0m \u001b[1;33m=\u001b[0m \u001b[0mfunc\u001b[0m\u001b[1;33m\u001b[0m\u001b[0m\n\u001b[0;32m     93\u001b[0m         \u001b[1;32mreturn\u001b[0m \u001b[0mwrapper\u001b[0m\u001b[1;33m\u001b[0m\u001b[0m\n",
      "\u001b[1;32md:\\programdata\\anaconda3\\lib\\site-packages\\keras\\engine\\training.py\u001b[0m in \u001b[0;36mfit_generator\u001b[1;34m(self, generator, steps_per_epoch, epochs, verbose, callbacks, validation_data, validation_steps, class_weight, max_queue_size, workers, use_multiprocessing, shuffle, initial_epoch)\u001b[0m\n\u001b[0;32m   1416\u001b[0m             \u001b[0muse_multiprocessing\u001b[0m\u001b[1;33m=\u001b[0m\u001b[0muse_multiprocessing\u001b[0m\u001b[1;33m,\u001b[0m\u001b[1;33m\u001b[0m\u001b[0m\n\u001b[0;32m   1417\u001b[0m             \u001b[0mshuffle\u001b[0m\u001b[1;33m=\u001b[0m\u001b[0mshuffle\u001b[0m\u001b[1;33m,\u001b[0m\u001b[1;33m\u001b[0m\u001b[0m\n\u001b[1;32m-> 1418\u001b[1;33m             initial_epoch=initial_epoch)\n\u001b[0m\u001b[0;32m   1419\u001b[0m \u001b[1;33m\u001b[0m\u001b[0m\n\u001b[0;32m   1420\u001b[0m     \u001b[1;33m@\u001b[0m\u001b[0minterfaces\u001b[0m\u001b[1;33m.\u001b[0m\u001b[0mlegacy_generator_methods_support\u001b[0m\u001b[1;33m\u001b[0m\u001b[0m\n",
      "\u001b[1;32md:\\programdata\\anaconda3\\lib\\site-packages\\keras\\engine\\training_generator.py\u001b[0m in \u001b[0;36mfit_generator\u001b[1;34m(model, generator, steps_per_epoch, epochs, verbose, callbacks, validation_data, validation_steps, class_weight, max_queue_size, workers, use_multiprocessing, shuffle, initial_epoch)\u001b[0m\n\u001b[0;32m    215\u001b[0m                 outs = model.train_on_batch(x, y,\n\u001b[0;32m    216\u001b[0m                                             \u001b[0msample_weight\u001b[0m\u001b[1;33m=\u001b[0m\u001b[0msample_weight\u001b[0m\u001b[1;33m,\u001b[0m\u001b[1;33m\u001b[0m\u001b[0m\n\u001b[1;32m--> 217\u001b[1;33m                                             class_weight=class_weight)\n\u001b[0m\u001b[0;32m    218\u001b[0m \u001b[1;33m\u001b[0m\u001b[0m\n\u001b[0;32m    219\u001b[0m                 \u001b[0mouts\u001b[0m \u001b[1;33m=\u001b[0m \u001b[0mto_list\u001b[0m\u001b[1;33m(\u001b[0m\u001b[0mouts\u001b[0m\u001b[1;33m)\u001b[0m\u001b[1;33m\u001b[0m\u001b[0m\n",
      "\u001b[1;32md:\\programdata\\anaconda3\\lib\\site-packages\\keras\\engine\\training.py\u001b[0m in \u001b[0;36mtrain_on_batch\u001b[1;34m(self, x, y, sample_weight, class_weight)\u001b[0m\n\u001b[0;32m   1215\u001b[0m             \u001b[0mins\u001b[0m \u001b[1;33m=\u001b[0m \u001b[0mx\u001b[0m \u001b[1;33m+\u001b[0m \u001b[0my\u001b[0m \u001b[1;33m+\u001b[0m \u001b[0msample_weights\u001b[0m\u001b[1;33m\u001b[0m\u001b[0m\n\u001b[0;32m   1216\u001b[0m         \u001b[0mself\u001b[0m\u001b[1;33m.\u001b[0m\u001b[0m_make_train_function\u001b[0m\u001b[1;33m(\u001b[0m\u001b[1;33m)\u001b[0m\u001b[1;33m\u001b[0m\u001b[0m\n\u001b[1;32m-> 1217\u001b[1;33m         \u001b[0moutputs\u001b[0m \u001b[1;33m=\u001b[0m \u001b[0mself\u001b[0m\u001b[1;33m.\u001b[0m\u001b[0mtrain_function\u001b[0m\u001b[1;33m(\u001b[0m\u001b[0mins\u001b[0m\u001b[1;33m)\u001b[0m\u001b[1;33m\u001b[0m\u001b[0m\n\u001b[0m\u001b[0;32m   1218\u001b[0m         \u001b[1;32mreturn\u001b[0m \u001b[0munpack_singleton\u001b[0m\u001b[1;33m(\u001b[0m\u001b[0moutputs\u001b[0m\u001b[1;33m)\u001b[0m\u001b[1;33m\u001b[0m\u001b[0m\n\u001b[0;32m   1219\u001b[0m \u001b[1;33m\u001b[0m\u001b[0m\n",
      "\u001b[1;32md:\\programdata\\anaconda3\\lib\\site-packages\\keras\\backend\\tensorflow_backend.py\u001b[0m in \u001b[0;36m__call__\u001b[1;34m(self, inputs)\u001b[0m\n\u001b[0;32m   2719\u001b[0m                     \u001b[1;34m'In order to feed symbolic tensors to a Keras model '\u001b[0m\u001b[1;33m\u001b[0m\u001b[0m\n\u001b[0;32m   2720\u001b[0m                     'in TensorFlow, you need tensorflow 1.8 or higher.')\n\u001b[1;32m-> 2721\u001b[1;33m             \u001b[1;32mreturn\u001b[0m \u001b[0mself\u001b[0m\u001b[1;33m.\u001b[0m\u001b[0m_legacy_call\u001b[0m\u001b[1;33m(\u001b[0m\u001b[0minputs\u001b[0m\u001b[1;33m)\u001b[0m\u001b[1;33m\u001b[0m\u001b[0m\n\u001b[0m\u001b[0;32m   2722\u001b[0m \u001b[1;33m\u001b[0m\u001b[0m\n\u001b[0;32m   2723\u001b[0m \u001b[1;33m\u001b[0m\u001b[0m\n",
      "\u001b[1;32md:\\programdata\\anaconda3\\lib\\site-packages\\keras\\backend\\tensorflow_backend.py\u001b[0m in \u001b[0;36m_legacy_call\u001b[1;34m(self, inputs)\u001b[0m\n\u001b[0;32m   2691\u001b[0m         \u001b[0msession\u001b[0m \u001b[1;33m=\u001b[0m \u001b[0mget_session\u001b[0m\u001b[1;33m(\u001b[0m\u001b[1;33m)\u001b[0m\u001b[1;33m\u001b[0m\u001b[0m\n\u001b[0;32m   2692\u001b[0m         updated = session.run(fetches=fetches, feed_dict=feed_dict,\n\u001b[1;32m-> 2693\u001b[1;33m                               **self.session_kwargs)\n\u001b[0m\u001b[0;32m   2694\u001b[0m         \u001b[1;32mreturn\u001b[0m \u001b[0mupdated\u001b[0m\u001b[1;33m[\u001b[0m\u001b[1;33m:\u001b[0m\u001b[0mlen\u001b[0m\u001b[1;33m(\u001b[0m\u001b[0mself\u001b[0m\u001b[1;33m.\u001b[0m\u001b[0moutputs\u001b[0m\u001b[1;33m)\u001b[0m\u001b[1;33m]\u001b[0m\u001b[1;33m\u001b[0m\u001b[0m\n\u001b[0;32m   2695\u001b[0m \u001b[1;33m\u001b[0m\u001b[0m\n",
      "\u001b[1;32md:\\programdata\\anaconda3\\lib\\site-packages\\tensorflow\\python\\client\\session.py\u001b[0m in \u001b[0;36mrun\u001b[1;34m(self, fetches, feed_dict, options, run_metadata)\u001b[0m\n\u001b[0;32m    903\u001b[0m     \u001b[1;32mtry\u001b[0m\u001b[1;33m:\u001b[0m\u001b[1;33m\u001b[0m\u001b[0m\n\u001b[0;32m    904\u001b[0m       result = self._run(None, fetches, feed_dict, options_ptr,\n\u001b[1;32m--> 905\u001b[1;33m                          run_metadata_ptr)\n\u001b[0m\u001b[0;32m    906\u001b[0m       \u001b[1;32mif\u001b[0m \u001b[0mrun_metadata\u001b[0m\u001b[1;33m:\u001b[0m\u001b[1;33m\u001b[0m\u001b[0m\n\u001b[0;32m    907\u001b[0m         \u001b[0mproto_data\u001b[0m \u001b[1;33m=\u001b[0m \u001b[0mtf_session\u001b[0m\u001b[1;33m.\u001b[0m\u001b[0mTF_GetBuffer\u001b[0m\u001b[1;33m(\u001b[0m\u001b[0mrun_metadata_ptr\u001b[0m\u001b[1;33m)\u001b[0m\u001b[1;33m\u001b[0m\u001b[0m\n",
      "\u001b[1;32md:\\programdata\\anaconda3\\lib\\site-packages\\tensorflow\\python\\client\\session.py\u001b[0m in \u001b[0;36m_run\u001b[1;34m(self, handle, fetches, feed_dict, options, run_metadata)\u001b[0m\n\u001b[0;32m   1135\u001b[0m     \u001b[1;32mif\u001b[0m \u001b[0mfinal_fetches\u001b[0m \u001b[1;32mor\u001b[0m \u001b[0mfinal_targets\u001b[0m \u001b[1;32mor\u001b[0m \u001b[1;33m(\u001b[0m\u001b[0mhandle\u001b[0m \u001b[1;32mand\u001b[0m \u001b[0mfeed_dict_tensor\u001b[0m\u001b[1;33m)\u001b[0m\u001b[1;33m:\u001b[0m\u001b[1;33m\u001b[0m\u001b[0m\n\u001b[0;32m   1136\u001b[0m       results = self._do_run(handle, final_targets, final_fetches,\n\u001b[1;32m-> 1137\u001b[1;33m                              feed_dict_tensor, options, run_metadata)\n\u001b[0m\u001b[0;32m   1138\u001b[0m     \u001b[1;32melse\u001b[0m\u001b[1;33m:\u001b[0m\u001b[1;33m\u001b[0m\u001b[0m\n\u001b[0;32m   1139\u001b[0m       \u001b[0mresults\u001b[0m \u001b[1;33m=\u001b[0m \u001b[1;33m[\u001b[0m\u001b[1;33m]\u001b[0m\u001b[1;33m\u001b[0m\u001b[0m\n",
      "\u001b[1;32md:\\programdata\\anaconda3\\lib\\site-packages\\tensorflow\\python\\client\\session.py\u001b[0m in \u001b[0;36m_do_run\u001b[1;34m(self, handle, target_list, fetch_list, feed_dict, options, run_metadata)\u001b[0m\n\u001b[0;32m   1353\u001b[0m     \u001b[1;32mif\u001b[0m \u001b[0mhandle\u001b[0m \u001b[1;32mis\u001b[0m \u001b[1;32mNone\u001b[0m\u001b[1;33m:\u001b[0m\u001b[1;33m\u001b[0m\u001b[0m\n\u001b[0;32m   1354\u001b[0m       return self._do_call(_run_fn, self._session, feeds, fetches, targets,\n\u001b[1;32m-> 1355\u001b[1;33m                            options, run_metadata)\n\u001b[0m\u001b[0;32m   1356\u001b[0m     \u001b[1;32melse\u001b[0m\u001b[1;33m:\u001b[0m\u001b[1;33m\u001b[0m\u001b[0m\n\u001b[0;32m   1357\u001b[0m       \u001b[1;32mreturn\u001b[0m \u001b[0mself\u001b[0m\u001b[1;33m.\u001b[0m\u001b[0m_do_call\u001b[0m\u001b[1;33m(\u001b[0m\u001b[0m_prun_fn\u001b[0m\u001b[1;33m,\u001b[0m \u001b[0mself\u001b[0m\u001b[1;33m.\u001b[0m\u001b[0m_session\u001b[0m\u001b[1;33m,\u001b[0m \u001b[0mhandle\u001b[0m\u001b[1;33m,\u001b[0m \u001b[0mfeeds\u001b[0m\u001b[1;33m,\u001b[0m \u001b[0mfetches\u001b[0m\u001b[1;33m)\u001b[0m\u001b[1;33m\u001b[0m\u001b[0m\n",
      "\u001b[1;32md:\\programdata\\anaconda3\\lib\\site-packages\\tensorflow\\python\\client\\session.py\u001b[0m in \u001b[0;36m_do_call\u001b[1;34m(self, fn, *args)\u001b[0m\n\u001b[0;32m   1359\u001b[0m   \u001b[1;32mdef\u001b[0m \u001b[0m_do_call\u001b[0m\u001b[1;33m(\u001b[0m\u001b[0mself\u001b[0m\u001b[1;33m,\u001b[0m \u001b[0mfn\u001b[0m\u001b[1;33m,\u001b[0m \u001b[1;33m*\u001b[0m\u001b[0margs\u001b[0m\u001b[1;33m)\u001b[0m\u001b[1;33m:\u001b[0m\u001b[1;33m\u001b[0m\u001b[0m\n\u001b[0;32m   1360\u001b[0m     \u001b[1;32mtry\u001b[0m\u001b[1;33m:\u001b[0m\u001b[1;33m\u001b[0m\u001b[0m\n\u001b[1;32m-> 1361\u001b[1;33m       \u001b[1;32mreturn\u001b[0m \u001b[0mfn\u001b[0m\u001b[1;33m(\u001b[0m\u001b[1;33m*\u001b[0m\u001b[0margs\u001b[0m\u001b[1;33m)\u001b[0m\u001b[1;33m\u001b[0m\u001b[0m\n\u001b[0m\u001b[0;32m   1362\u001b[0m     \u001b[1;32mexcept\u001b[0m \u001b[0merrors\u001b[0m\u001b[1;33m.\u001b[0m\u001b[0mOpError\u001b[0m \u001b[1;32mas\u001b[0m \u001b[0me\u001b[0m\u001b[1;33m:\u001b[0m\u001b[1;33m\u001b[0m\u001b[0m\n\u001b[0;32m   1363\u001b[0m       \u001b[0mmessage\u001b[0m \u001b[1;33m=\u001b[0m \u001b[0mcompat\u001b[0m\u001b[1;33m.\u001b[0m\u001b[0mas_text\u001b[0m\u001b[1;33m(\u001b[0m\u001b[0me\u001b[0m\u001b[1;33m.\u001b[0m\u001b[0mmessage\u001b[0m\u001b[1;33m)\u001b[0m\u001b[1;33m\u001b[0m\u001b[0m\n",
      "\u001b[1;32md:\\programdata\\anaconda3\\lib\\site-packages\\tensorflow\\python\\client\\session.py\u001b[0m in \u001b[0;36m_run_fn\u001b[1;34m(session, feed_dict, fetch_list, target_list, options, run_metadata)\u001b[0m\n\u001b[0;32m   1338\u001b[0m         \u001b[1;32melse\u001b[0m\u001b[1;33m:\u001b[0m\u001b[1;33m\u001b[0m\u001b[0m\n\u001b[0;32m   1339\u001b[0m           return tf_session.TF_Run(session, options, feed_dict, fetch_list,\n\u001b[1;32m-> 1340\u001b[1;33m                                    target_list, status, run_metadata)\n\u001b[0m\u001b[0;32m   1341\u001b[0m \u001b[1;33m\u001b[0m\u001b[0m\n\u001b[0;32m   1342\u001b[0m     \u001b[1;32mdef\u001b[0m \u001b[0m_prun_fn\u001b[0m\u001b[1;33m(\u001b[0m\u001b[0msession\u001b[0m\u001b[1;33m,\u001b[0m \u001b[0mhandle\u001b[0m\u001b[1;33m,\u001b[0m \u001b[0mfeed_dict\u001b[0m\u001b[1;33m,\u001b[0m \u001b[0mfetch_list\u001b[0m\u001b[1;33m)\u001b[0m\u001b[1;33m:\u001b[0m\u001b[1;33m\u001b[0m\u001b[0m\n",
      "\u001b[1;31mKeyboardInterrupt\u001b[0m: "
     ]
    }
   ],
   "source": [
    "history = model.fit_generator(train_generator,\n",
    "                              steps_per_epoch=100,\n",
    "                              epochs=100,\n",
    "                              validation_data=validation_generator,\n",
    "                              validation_steps=50)"
   ]
  },
  {
   "cell_type": "code",
   "execution_count": null,
   "metadata": {},
   "outputs": [],
   "source": []
  }
 ],
 "metadata": {
  "kernelspec": {
   "display_name": "Python 3",
   "language": "python",
   "name": "python3"
  },
  "language_info": {
   "codemirror_mode": {
    "name": "ipython",
    "version": 3
   },
   "file_extension": ".py",
   "mimetype": "text/x-python",
   "name": "python",
   "nbconvert_exporter": "python",
   "pygments_lexer": "ipython3",
   "version": "3.6.3"
  }
 },
 "nbformat": 4,
 "nbformat_minor": 2
}
