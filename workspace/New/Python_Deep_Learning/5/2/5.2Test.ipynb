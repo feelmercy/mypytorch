{
 "cells": [
  {
   "cell_type": "code",
   "execution_count": 2,
   "metadata": {
    "ExecuteTime": {
     "end_time": "2019-08-05T07:56:42.894375Z",
     "start_time": "2019-08-05T07:56:42.885374Z"
    }
   },
   "outputs": [],
   "source": [
    "import os,shutil\n",
    "from keras import models,layers,optimizers"
   ]
  },
  {
   "cell_type": "code",
   "execution_count": 3,
   "metadata": {
    "ExecuteTime": {
     "end_time": "2019-08-05T08:01:58.061401Z",
     "start_time": "2019-08-05T08:01:57.957396Z"
    }
   },
   "outputs": [],
   "source": [
    "model=models.Sequential()\n",
    "model.add(layers.Conv2D(32,(3,3),activation='relu',input_shape=(150,150,3)))\n",
    "model.add(layers.MaxPooling2D((2,2)))\n",
    "model.add(layers.Conv2D(64,(3,3),activation='relu'))\n",
    "model.add(layers.MaxPooling2D((2,2)))\n",
    "model.add(layers.Conv2D(128,(3,3),activation='relu'))\n",
    "model.add(layers.MaxPooling2D((2,2)))\n",
    "model.add(layers.Conv2D(128,(3,3),activation='relu'))\n",
    "model.add(layers.MaxPooling2D((2,2)))\n",
    "model.add(layers.Flatten())\n",
    "model.add(layers.Dense(512,activation='relu'))\n",
    "model.add(layers.Dense(1,activation='sigmoid'))"
   ]
  },
  {
   "cell_type": "code",
   "execution_count": 4,
   "metadata": {
    "ExecuteTime": {
     "end_time": "2019-08-05T08:02:03.424708Z",
     "start_time": "2019-08-05T08:02:03.409707Z"
    }
   },
   "outputs": [
    {
     "name": "stdout",
     "output_type": "stream",
     "text": [
      "_________________________________________________________________\n",
      "Layer (type)                 Output Shape              Param #   \n",
      "=================================================================\n",
      "conv2d_1 (Conv2D)            (None, 148, 148, 32)      896       \n",
      "_________________________________________________________________\n",
      "max_pooling2d_1 (MaxPooling2 (None, 74, 74, 32)        0         \n",
      "_________________________________________________________________\n",
      "conv2d_2 (Conv2D)            (None, 72, 72, 64)        18496     \n",
      "_________________________________________________________________\n",
      "max_pooling2d_2 (MaxPooling2 (None, 36, 36, 64)        0         \n",
      "_________________________________________________________________\n",
      "conv2d_3 (Conv2D)            (None, 34, 34, 128)       73856     \n",
      "_________________________________________________________________\n",
      "max_pooling2d_3 (MaxPooling2 (None, 17, 17, 128)       0         \n",
      "_________________________________________________________________\n",
      "conv2d_4 (Conv2D)            (None, 15, 15, 128)       147584    \n",
      "_________________________________________________________________\n",
      "max_pooling2d_4 (MaxPooling2 (None, 7, 7, 128)         0         \n",
      "_________________________________________________________________\n",
      "flatten_1 (Flatten)          (None, 6272)              0         \n",
      "_________________________________________________________________\n",
      "dense_1 (Dense)              (None, 512)               3211776   \n",
      "_________________________________________________________________\n",
      "dense_2 (Dense)              (None, 1)                 513       \n",
      "=================================================================\n",
      "Total params: 3,453,121\n",
      "Trainable params: 3,453,121\n",
      "Non-trainable params: 0\n",
      "_________________________________________________________________\n"
     ]
    }
   ],
   "source": [
    "model.summary()"
   ]
  },
  {
   "cell_type": "code",
   "execution_count": 21,
   "metadata": {
    "ExecuteTime": {
     "end_time": "2019-08-05T08:52:49.735947Z",
     "start_time": "2019-08-05T08:52:49.687945Z"
    }
   },
   "outputs": [],
   "source": [
    "model.compile(loss='binary_crossentropy',\n",
    "             optimizer=optimizers.RMSprop(lr=1e-4),\n",
    "             metrics=['acc'])"
   ]
  },
  {
   "cell_type": "code",
   "execution_count": 23,
   "metadata": {
    "ExecuteTime": {
     "end_time": "2019-08-05T08:57:42.656701Z",
     "start_time": "2019-08-05T08:57:42.630700Z"
    }
   },
   "outputs": [],
   "source": [
    "original_dataset_dir='F:\\\\study\\\\ml\\\\DataSet\\\\dogs_vs_cats\\original'\n",
    "base_dir='F:\\study\\ml\\DataSet\\dogs_vs_cats\\cats_and_dogs_small'\n",
    "train_dir=os.path.join(base_dir,'train')\n",
    "validation_dir=os.path.join(base_dir,'validation')\n",
    "test_dir=os.path.join(base_dir,'test')\n",
    "train_cats_dir=os.path.join(train_dir,'cats')\n",
    "train_dogs_dir=os.path.join(train_dir,'dogs')\n",
    "validation_cats_dir=os.path.join(validation_dir,'cats')\n",
    "validation_dogs_dir=os.path.join(validation_dir,'dogs')\n",
    "test_cats_dir=os.path.join(test_dir,'cats')\n",
    "test_dogs_dir=os.path.join(test_dir,'dogs')"
   ]
  },
  {
   "cell_type": "code",
   "execution_count": 22,
   "metadata": {
    "ExecuteTime": {
     "end_time": "2019-08-05T08:53:30.278266Z",
     "start_time": "2019-08-05T08:53:30.273266Z"
    }
   },
   "outputs": [],
   "source": [
    "from keras.preprocessing.image import ImageDataGenerator"
   ]
  },
  {
   "cell_type": "code",
   "execution_count": 24,
   "metadata": {
    "ExecuteTime": {
     "end_time": "2019-08-05T09:01:14.933843Z",
     "start_time": "2019-08-05T09:01:14.926843Z"
    }
   },
   "outputs": [],
   "source": [
    "train_datagen=ImageDataGenerator(rescale=1./255)\n",
    "test_datagen=ImageDataGenerator(rescale=1./255)"
   ]
  },
  {
   "cell_type": "code",
   "execution_count": 27,
   "metadata": {
    "ExecuteTime": {
     "end_time": "2019-08-05T09:06:42.568583Z",
     "start_time": "2019-08-05T09:06:42.222563Z"
    }
   },
   "outputs": [
    {
     "name": "stdout",
     "output_type": "stream",
     "text": [
      "Found 2000 images belonging to 2 classes.\n",
      "Found 1000 images belonging to 2 classes.\n"
     ]
    }
   ],
   "source": [
    "train_generator=train_datagen.flow_from_directory(train_dir,\n",
    "                                                 target_size=(150,150),\n",
    "                                                 batch_size=20,\n",
    "                                                 class_mode='binary')\n",
    "\n",
    "validation_generator=train_datagen.flow_from_directory(validation_dir,\n",
    "                                                 target_size=(150,150),\n",
    "                                                 batch_size=20,\n",
    "                                                 class_mode='binary')"
   ]
  },
  {
   "cell_type": "code",
   "execution_count": 32,
   "metadata": {
    "ExecuteTime": {
     "end_time": "2019-08-05T09:50:50.511036Z",
     "start_time": "2019-08-05T09:10:03.904098Z"
    }
   },
   "outputs": [
    {
     "name": "stdout",
     "output_type": "stream",
     "text": [
      "Epoch 1/30\n",
      "100/100 [==============================] - 90s 901ms/step - loss: 0.6892 - acc: 0.5400 - val_loss: 0.6758 - val_acc: 0.5570\n",
      "Epoch 2/30\n",
      "100/100 [==============================] - 80s 804ms/step - loss: 0.6466 - acc: 0.6295 - val_loss: 0.6340 - val_acc: 0.6400\n",
      "Epoch 3/30\n",
      "100/100 [==============================] - 92s 917ms/step - loss: 0.5793 - acc: 0.7015 - val_loss: 0.6392 - val_acc: 0.6300\n",
      "Epoch 4/30\n",
      "100/100 [==============================] - 92s 923ms/step - loss: 0.5524 - acc: 0.7120 - val_loss: 0.6651 - val_acc: 0.6280\n",
      "Epoch 5/30\n",
      "100/100 [==============================] - 88s 877ms/step - loss: 0.5194 - acc: 0.7405 - val_loss: 0.6053 - val_acc: 0.6770\n",
      "Epoch 6/30\n",
      "100/100 [==============================] - 89s 889ms/step - loss: 0.4902 - acc: 0.7585 - val_loss: 0.5803 - val_acc: 0.6910\n",
      "Epoch 7/30\n",
      "100/100 [==============================] - 89s 886ms/step - loss: 0.4561 - acc: 0.7790 - val_loss: 0.6335 - val_acc: 0.6830\n",
      "Epoch 8/30\n",
      "100/100 [==============================] - 84s 841ms/step - loss: 0.4313 - acc: 0.8025 - val_loss: 0.5717 - val_acc: 0.6960\n",
      "Epoch 9/30\n",
      "100/100 [==============================] - 84s 842ms/step - loss: 0.4026 - acc: 0.8170 - val_loss: 0.5440 - val_acc: 0.7090\n",
      "Epoch 10/30\n",
      "100/100 [==============================] - 78s 776ms/step - loss: 0.3703 - acc: 0.8340 - val_loss: 0.5692 - val_acc: 0.7160\n",
      "Epoch 11/30\n",
      "100/100 [==============================] - 78s 780ms/step - loss: 0.3398 - acc: 0.8570 - val_loss: 0.6040 - val_acc: 0.7090\n",
      "Epoch 12/30\n",
      "100/100 [==============================] - 78s 781ms/step - loss: 0.3162 - acc: 0.8665 - val_loss: 0.5875 - val_acc: 0.7190\n",
      "Epoch 13/30\n",
      "100/100 [==============================] - 78s 779ms/step - loss: 0.2871 - acc: 0.8745 - val_loss: 0.6604 - val_acc: 0.6980\n",
      "Epoch 14/30\n",
      "100/100 [==============================] - 79s 791ms/step - loss: 0.2670 - acc: 0.8925 - val_loss: 0.6070 - val_acc: 0.7300\n",
      "Epoch 15/30\n",
      "100/100 [==============================] - 79s 791ms/step - loss: 0.2363 - acc: 0.9055 - val_loss: 0.6659 - val_acc: 0.7060\n",
      "Epoch 16/30\n",
      "100/100 [==============================] - 79s 788ms/step - loss: 0.2145 - acc: 0.9190 - val_loss: 0.6720 - val_acc: 0.7210\n",
      "Epoch 17/30\n",
      "100/100 [==============================] - 79s 786ms/step - loss: 0.1885 - acc: 0.9295 - val_loss: 0.6482 - val_acc: 0.7280\n",
      "Epoch 18/30\n",
      "100/100 [==============================] - 79s 788ms/step - loss: 0.1710 - acc: 0.9405 - val_loss: 0.7217 - val_acc: 0.7170\n",
      "Epoch 19/30\n",
      "100/100 [==============================] - 79s 794ms/step - loss: 0.1441 - acc: 0.9495 - val_loss: 0.7142 - val_acc: 0.7260\n",
      "Epoch 20/30\n",
      "100/100 [==============================] - 79s 790ms/step - loss: 0.1203 - acc: 0.9595 - val_loss: 0.8422 - val_acc: 0.6970\n",
      "Epoch 21/30\n",
      "100/100 [==============================] - 79s 789ms/step - loss: 0.1062 - acc: 0.9645 - val_loss: 0.8889 - val_acc: 0.7110\n",
      "Epoch 22/30\n",
      "100/100 [==============================] - 80s 797ms/step - loss: 0.0876 - acc: 0.9700 - val_loss: 1.0425 - val_acc: 0.6940\n",
      "Epoch 23/30\n",
      "100/100 [==============================] - 79s 791ms/step - loss: 0.0794 - acc: 0.9740 - val_loss: 0.9047 - val_acc: 0.7100\n",
      "Epoch 24/30\n",
      "100/100 [==============================] - 79s 794ms/step - loss: 0.0663 - acc: 0.9770 - val_loss: 1.0739 - val_acc: 0.7090\n",
      "Epoch 25/30\n",
      "100/100 [==============================] - 80s 805ms/step - loss: 0.0545 - acc: 0.9825 - val_loss: 1.0269 - val_acc: 0.7180\n",
      "Epoch 26/30\n",
      "100/100 [==============================] - 80s 797ms/step - loss: 0.0485 - acc: 0.9835 - val_loss: 1.0771 - val_acc: 0.7220\n",
      "Epoch 27/30\n",
      "100/100 [==============================] - 79s 791ms/step - loss: 0.0476 - acc: 0.9870 - val_loss: 1.1035 - val_acc: 0.7190\n",
      "Epoch 28/30\n",
      "100/100 [==============================] - 78s 783ms/step - loss: 0.0440 - acc: 0.9875 - val_loss: 1.3132 - val_acc: 0.6940\n",
      "Epoch 29/30\n",
      "100/100 [==============================] - 80s 796ms/step - loss: 0.0380 - acc: 0.9850 - val_loss: 1.3325 - val_acc: 0.7040\n",
      "Epoch 30/30\n",
      "100/100 [==============================] - 80s 796ms/step - loss: 0.0286 - acc: 0.9930 - val_loss: 1.3113 - val_acc: 0.7210\n"
     ]
    }
   ],
   "source": [
    "history=model.fit_generator(train_generator,\n",
    "                          steps_per_epoch=100,\n",
    "                          epochs=30,\n",
    "                          validation_data=validation_generator,\n",
    "                          validation_steps=50)"
   ]
  },
  {
   "cell_type": "code",
   "execution_count": 33,
   "metadata": {
    "ExecuteTime": {
     "end_time": "2019-08-06T01:57:47.538420Z",
     "start_time": "2019-08-06T01:57:47.530420Z"
    }
   },
   "outputs": [],
   "source": [
    "datagen=ImageDataGenerator(rotation_range=40,\n",
    "                          width_shift_range=0.2,\n",
    "                          height_shift_range=0.2,\n",
    "                          shear_range=0.2,\n",
    "                          zoom_range=0.2,\n",
    "                          horizontal_flip=True,\n",
    "                          fill_mode='nearest')"
   ]
  },
  {
   "cell_type": "code",
   "execution_count": 41,
   "metadata": {
    "ExecuteTime": {
     "end_time": "2019-08-06T02:07:26.269522Z",
     "start_time": "2019-08-06T02:07:25.274465Z"
    }
   },
   "outputs": [],
   "source": [
    "from keras.preprocessing import image\n",
    "import matplotlib.pyplot as plt"
   ]
  },
  {
   "cell_type": "code",
   "execution_count": 36,
   "metadata": {
    "ExecuteTime": {
     "end_time": "2019-08-06T01:59:58.050885Z",
     "start_time": "2019-08-06T01:59:58.031884Z"
    }
   },
   "outputs": [],
   "source": [
    "fnames=[os.path.join(train_cats_dir,fname) for \n",
    "       fname in os.listdir(train_cats_dir)]"
   ]
  },
  {
   "cell_type": "code",
   "execution_count": 39,
   "metadata": {
    "ExecuteTime": {
     "end_time": "2019-08-06T02:01:51.725387Z",
     "start_time": "2019-08-06T02:01:51.704386Z"
    }
   },
   "outputs": [
    {
     "data": {
      "text/plain": [
       "(150, 150, 3)"
      ]
     },
     "execution_count": 39,
     "metadata": {},
     "output_type": "execute_result"
    }
   ],
   "source": [
    "img_path=fnames[3]\n",
    "img=image.load_img(img_path,target_size=(150,150))\n",
    "x=image.img_to_array(img)\n",
    "x.shape"
   ]
  },
  {
   "cell_type": "code",
   "execution_count": 40,
   "metadata": {
    "ExecuteTime": {
     "end_time": "2019-08-06T02:02:32.416714Z",
     "start_time": "2019-08-06T02:02:32.404714Z"
    }
   },
   "outputs": [
    {
     "data": {
      "text/plain": [
       "(1, 150, 150, 3)"
      ]
     },
     "execution_count": 40,
     "metadata": {},
     "output_type": "execute_result"
    }
   ],
   "source": [
    "x=x.reshape((1,)+x.shape)\n",
    "x.shape"
   ]
  },
  {
   "cell_type": "code",
   "execution_count": 46,
   "metadata": {
    "ExecuteTime": {
     "end_time": "2019-08-06T02:29:27.260078Z",
     "start_time": "2019-08-06T02:29:27.253078Z"
    }
   },
   "outputs": [],
   "source": [
    "# i=0\n",
    "# for batch in datagen.flow(x,batch_size=1):\n",
    "#     plt.figure(i)\n",
    "#     plt.imshow(image.array_to_img(batch[0]))\n",
    "#     i+=1\n",
    "#     if i%4 ==0:\n",
    "#         break\n",
    "# plt.show()\n",
    "    "
   ]
  },
  {
   "cell_type": "code",
   "execution_count": 49,
   "metadata": {
    "ExecuteTime": {
     "end_time": "2019-08-06T02:36:59.037918Z",
     "start_time": "2019-08-06T02:36:58.931912Z"
    }
   },
   "outputs": [],
   "source": [
    "model=models.Sequential()\n",
    "model.add(layers.Conv2D(32,(3,3),activation='relu',input_shape=(150,150,3)))\n",
    "model.add(layers.MaxPooling2D((2,2)))\n",
    "model.add(layers.Conv2D(64,(3,3),activation='relu'))\n",
    "model.add(layers.MaxPooling2D((2,2)))\n",
    "model.add(layers.Conv2D(128,(3,3),activation='relu'))\n",
    "model.add(layers.MaxPooling2D((2,2)))\n",
    "model.add(layers.Conv2D(128,(3,3),activation='relu'))\n",
    "model.add(layers.MaxPooling2D((2,2)))\n",
    "model.add(layers.Flatten())\n",
    "model.add(layers.Dropout(0.5))\n",
    "model.add(layers.Dense(512,activation='relu'))\n",
    "model.add(layers.Dense(1,activation='sigmoid'))\n"
   ]
  },
  {
   "cell_type": "code",
   "execution_count": 50,
   "metadata": {
    "ExecuteTime": {
     "end_time": "2019-08-06T02:37:05.490288Z",
     "start_time": "2019-08-06T02:37:05.478287Z"
    }
   },
   "outputs": [
    {
     "name": "stdout",
     "output_type": "stream",
     "text": [
      "_________________________________________________________________\n",
      "Layer (type)                 Output Shape              Param #   \n",
      "=================================================================\n",
      "conv2d_6 (Conv2D)            (None, 148, 148, 32)      896       \n",
      "_________________________________________________________________\n",
      "max_pooling2d_5 (MaxPooling2 (None, 74, 74, 32)        0         \n",
      "_________________________________________________________________\n",
      "conv2d_7 (Conv2D)            (None, 72, 72, 64)        18496     \n",
      "_________________________________________________________________\n",
      "max_pooling2d_6 (MaxPooling2 (None, 36, 36, 64)        0         \n",
      "_________________________________________________________________\n",
      "conv2d_8 (Conv2D)            (None, 34, 34, 128)       73856     \n",
      "_________________________________________________________________\n",
      "max_pooling2d_7 (MaxPooling2 (None, 17, 17, 128)       0         \n",
      "_________________________________________________________________\n",
      "conv2d_9 (Conv2D)            (None, 15, 15, 128)       147584    \n",
      "_________________________________________________________________\n",
      "max_pooling2d_8 (MaxPooling2 (None, 7, 7, 128)         0         \n",
      "_________________________________________________________________\n",
      "flatten_2 (Flatten)          (None, 6272)              0         \n",
      "_________________________________________________________________\n",
      "dropout_1 (Dropout)          (None, 6272)              0         \n",
      "_________________________________________________________________\n",
      "dense_3 (Dense)              (None, 512)               3211776   \n",
      "_________________________________________________________________\n",
      "dense_4 (Dense)              (None, 1)                 513       \n",
      "=================================================================\n",
      "Total params: 3,453,121\n",
      "Trainable params: 3,453,121\n",
      "Non-trainable params: 0\n",
      "_________________________________________________________________\n"
     ]
    }
   ],
   "source": [
    "model.summary()"
   ]
  },
  {
   "cell_type": "code",
   "execution_count": 51,
   "metadata": {
    "ExecuteTime": {
     "end_time": "2019-08-06T02:38:39.889687Z",
     "start_time": "2019-08-06T02:38:39.844684Z"
    }
   },
   "outputs": [],
   "source": [
    "model.compile(loss='binary_crossentropy',\n",
    "             optimizer=optimizers.RMSprop(lr=1e-4),\n",
    "             metrics=['acc'])"
   ]
  },
  {
   "cell_type": "code",
   "execution_count": 53,
   "metadata": {
    "ExecuteTime": {
     "end_time": "2019-08-06T02:40:10.388863Z",
     "start_time": "2019-08-06T02:40:10.377862Z"
    }
   },
   "outputs": [],
   "source": [
    "train_datagen=ImageDataGenerator(rescale=1./255,\n",
    "                          rotation_range=40,\n",
    "                          width_shift_range=0.2,\n",
    "                          height_shift_range=0.2,\n",
    "                          shear_range=0.2,\n",
    "                          zoom_range=0.2,\n",
    "                          horizontal_flip=True)\n",
    "test_datagen=ImageDataGenerator(rescale=1./255)"
   ]
  },
  {
   "cell_type": "code",
   "execution_count": 54,
   "metadata": {
    "ExecuteTime": {
     "end_time": "2019-08-06T02:43:53.394618Z",
     "start_time": "2019-08-06T02:43:53.163605Z"
    }
   },
   "outputs": [
    {
     "name": "stdout",
     "output_type": "stream",
     "text": [
      "Found 2000 images belonging to 2 classes.\n",
      "Found 1000 images belonging to 2 classes.\n"
     ]
    }
   ],
   "source": [
    "train_generator=train_datagen.flow_from_directory(train_dir,\n",
    "                                                     target_size=(150,150),\n",
    "                                                     batch_size=32,\n",
    "                                                     class_mode='binary')\n",
    "\n",
    "validation_generator=test_datagen.flow_from_directory(validation_dir,\n",
    "                                                     target_size=(150,150),\n",
    "                                                     batch_size=32,\n",
    "                                                     class_mode='binary')"
   ]
  },
  {
   "cell_type": "code",
   "execution_count": 55,
   "metadata": {
    "ExecuteTime": {
     "end_time": "2019-08-06T03:29:05.379735Z",
     "start_time": "2019-08-06T02:46:09.506403Z"
    }
   },
   "outputs": [
    {
     "name": "stdout",
     "output_type": "stream",
     "text": [
      "Epoch 1/20\n",
      "100/100 [==============================] - 130s 1s/step - loss: 0.6925 - acc: 0.5200 - val_loss: 0.6775 - val_acc: 0.5984\n",
      "Epoch 2/20\n",
      "100/100 [==============================] - 126s 1s/step - loss: 0.6794 - acc: 0.5719 - val_loss: 0.6548 - val_acc: 0.6089\n",
      "Epoch 3/20\n",
      "100/100 [==============================] - 133s 1s/step - loss: 0.6640 - acc: 0.5884 - val_loss: 0.6597 - val_acc: 0.5844\n",
      "Epoch 4/20\n",
      "100/100 [==============================] - 137s 1s/step - loss: 0.6596 - acc: 0.6034 - val_loss: 0.6510 - val_acc: 0.5941\n",
      "Epoch 5/20\n",
      "100/100 [==============================] - 133s 1s/step - loss: 0.6379 - acc: 0.6300 - val_loss: 0.6156 - val_acc: 0.6504\n",
      "Epoch 6/20\n",
      "100/100 [==============================] - 139s 1s/step - loss: 0.6295 - acc: 0.6350 - val_loss: 0.6005 - val_acc: 0.6707\n",
      "Epoch 7/20\n",
      "100/100 [==============================] - 128s 1s/step - loss: 0.6131 - acc: 0.6591 - val_loss: 0.6025 - val_acc: 0.6764\n",
      "Epoch 8/20\n",
      "100/100 [==============================] - 132s 1s/step - loss: 0.6053 - acc: 0.6747 - val_loss: 0.6186 - val_acc: 0.6443\n",
      "Epoch 9/20\n",
      "100/100 [==============================] - 130s 1s/step - loss: 0.6035 - acc: 0.6678 - val_loss: 0.6237 - val_acc: 0.6482\n",
      "Epoch 10/20\n",
      "100/100 [==============================] - 128s 1s/step - loss: 0.6002 - acc: 0.6725 - val_loss: 0.5635 - val_acc: 0.7119\n",
      "Epoch 11/20\n",
      "100/100 [==============================] - 124s 1s/step - loss: 0.5902 - acc: 0.6744 - val_loss: 0.5437 - val_acc: 0.7191\n",
      "Epoch 12/20\n",
      "100/100 [==============================] - 124s 1s/step - loss: 0.5869 - acc: 0.6897 - val_loss: 0.5559 - val_acc: 0.7132\n",
      "Epoch 13/20\n",
      "100/100 [==============================] - 123s 1s/step - loss: 0.5818 - acc: 0.6959 - val_loss: 0.5339 - val_acc: 0.7236\n",
      "Epoch 14/20\n",
      "100/100 [==============================] - 124s 1s/step - loss: 0.5823 - acc: 0.6975 - val_loss: 0.5942 - val_acc: 0.6904\n",
      "Epoch 15/20\n",
      "100/100 [==============================] - 126s 1s/step - loss: 0.5645 - acc: 0.7019 - val_loss: 0.5253 - val_acc: 0.7204\n",
      "Epoch 16/20\n",
      "100/100 [==============================] - 124s 1s/step - loss: 0.5624 - acc: 0.7078 - val_loss: 0.6288 - val_acc: 0.6695\n",
      "Epoch 17/20\n",
      "100/100 [==============================] - 123s 1s/step - loss: 0.5580 - acc: 0.7144 - val_loss: 0.5423 - val_acc: 0.7183\n",
      "Epoch 18/20\n",
      "100/100 [==============================] - 124s 1s/step - loss: 0.5589 - acc: 0.7078 - val_loss: 0.5664 - val_acc: 0.7017\n",
      "Epoch 19/20\n",
      "100/100 [==============================] - 127s 1s/step - loss: 0.5504 - acc: 0.7119 - val_loss: 0.5461 - val_acc: 0.7221\n",
      "Epoch 20/20\n",
      "100/100 [==============================] - 142s 1s/step - loss: 0.5496 - acc: 0.7216 - val_loss: 0.5298 - val_acc: 0.7365\n"
     ]
    }
   ],
   "source": [
    "history=model.fit_generator(train_generator,\n",
    "                           steps_per_epoch=100,\n",
    "                           epochs=20,\n",
    "                           validation_data=validation_generator,\n",
    "                           validation_steps=50)"
   ]
  },
  {
   "cell_type": "code",
   "execution_count": 59,
   "metadata": {
    "ExecuteTime": {
     "end_time": "2019-08-06T07:37:14.047318Z",
     "start_time": "2019-08-06T07:37:14.040318Z"
    }
   },
   "outputs": [],
   "source": [
    "# acc=history.history['acc']\n",
    "# val_acc=history.history['val_acc']\n",
    "# acc_epochs=[i for i in range(20)]\n",
    "# plt.plot(acc_epochs,acc,'b',label=' train acc')\n",
    "# plt.plot(acc_epochs,val_acc,'bo',label='validation acc')"
   ]
  },
  {
   "cell_type": "code",
   "execution_count": null,
   "metadata": {},
   "outputs": [],
   "source": []
  }
 ],
 "metadata": {
  "kernelspec": {
   "display_name": "Python 3",
   "language": "python",
   "name": "python3"
  },
  "language_info": {
   "codemirror_mode": {
    "name": "ipython",
    "version": 3
   },
   "file_extension": ".py",
   "mimetype": "text/x-python",
   "name": "python",
   "nbconvert_exporter": "python",
   "pygments_lexer": "ipython3",
   "version": "3.6.3"
  }
 },
 "nbformat": 4,
 "nbformat_minor": 2
}
