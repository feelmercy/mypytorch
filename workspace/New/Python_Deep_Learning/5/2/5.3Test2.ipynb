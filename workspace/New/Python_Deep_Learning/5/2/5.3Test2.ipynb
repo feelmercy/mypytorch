{
 "cells": [
  {
   "cell_type": "code",
   "execution_count": 1,
   "metadata": {
    "ExecuteTime": {
     "end_time": "2019-08-07T02:50:54.183483Z",
     "start_time": "2019-08-07T02:50:54.180483Z"
    }
   },
   "outputs": [],
   "source": [
    "from keras.applications import VGG16"
   ]
  },
  {
   "cell_type": "code",
   "execution_count": 2,
   "metadata": {
    "ExecuteTime": {
     "end_time": "2019-08-07T02:50:54.986529Z",
     "start_time": "2019-08-07T02:50:54.187484Z"
    }
   },
   "outputs": [],
   "source": [
    "conv_base = VGG16(weights='imagenet',\n",
    "                  include_top=False,\n",
    "                  input_shape=(150, 150, 3))"
   ]
  },
  {
   "cell_type": "code",
   "execution_count": 3,
   "metadata": {
    "ExecuteTime": {
     "end_time": "2019-08-07T02:50:59.778803Z",
     "start_time": "2019-08-07T02:50:59.768803Z"
    }
   },
   "outputs": [
    {
     "name": "stdout",
     "output_type": "stream",
     "text": [
      "_________________________________________________________________\n",
      "Layer (type)                 Output Shape              Param #   \n",
      "=================================================================\n",
      "input_1 (InputLayer)         (None, 150, 150, 3)       0         \n",
      "_________________________________________________________________\n",
      "block1_conv1 (Conv2D)        (None, 150, 150, 64)      1792      \n",
      "_________________________________________________________________\n",
      "block1_conv2 (Conv2D)        (None, 150, 150, 64)      36928     \n",
      "_________________________________________________________________\n",
      "block1_pool (MaxPooling2D)   (None, 75, 75, 64)        0         \n",
      "_________________________________________________________________\n",
      "block2_conv1 (Conv2D)        (None, 75, 75, 128)       73856     \n",
      "_________________________________________________________________\n",
      "block2_conv2 (Conv2D)        (None, 75, 75, 128)       147584    \n",
      "_________________________________________________________________\n",
      "block2_pool (MaxPooling2D)   (None, 37, 37, 128)       0         \n",
      "_________________________________________________________________\n",
      "block3_conv1 (Conv2D)        (None, 37, 37, 256)       295168    \n",
      "_________________________________________________________________\n",
      "block3_conv2 (Conv2D)        (None, 37, 37, 256)       590080    \n",
      "_________________________________________________________________\n",
      "block3_conv3 (Conv2D)        (None, 37, 37, 256)       590080    \n",
      "_________________________________________________________________\n",
      "block3_pool (MaxPooling2D)   (None, 18, 18, 256)       0         \n",
      "_________________________________________________________________\n",
      "block4_conv1 (Conv2D)        (None, 18, 18, 512)       1180160   \n",
      "_________________________________________________________________\n",
      "block4_conv2 (Conv2D)        (None, 18, 18, 512)       2359808   \n",
      "_________________________________________________________________\n",
      "block4_conv3 (Conv2D)        (None, 18, 18, 512)       2359808   \n",
      "_________________________________________________________________\n",
      "block4_pool (MaxPooling2D)   (None, 9, 9, 512)         0         \n",
      "_________________________________________________________________\n",
      "block5_conv1 (Conv2D)        (None, 9, 9, 512)         2359808   \n",
      "_________________________________________________________________\n",
      "block5_conv2 (Conv2D)        (None, 9, 9, 512)         2359808   \n",
      "_________________________________________________________________\n",
      "block5_conv3 (Conv2D)        (None, 9, 9, 512)         2359808   \n",
      "_________________________________________________________________\n",
      "block5_pool (MaxPooling2D)   (None, 4, 4, 512)         0         \n",
      "=================================================================\n",
      "Total params: 14,714,688\n",
      "Trainable params: 14,714,688\n",
      "Non-trainable params: 0\n",
      "_________________________________________________________________\n"
     ]
    }
   ],
   "source": [
    "conv_base.summary()"
   ]
  },
  {
   "cell_type": "code",
   "execution_count": 4,
   "metadata": {
    "ExecuteTime": {
     "end_time": "2019-08-07T02:51:02.894982Z",
     "start_time": "2019-08-07T02:51:02.888981Z"
    }
   },
   "outputs": [],
   "source": [
    "import os\n",
    "import numpy as np\n",
    "from keras.preprocessing.image import ImageDataGenerator"
   ]
  },
  {
   "cell_type": "code",
   "execution_count": 5,
   "metadata": {
    "ExecuteTime": {
     "end_time": "2019-08-07T02:51:10.288405Z",
     "start_time": "2019-08-07T02:51:10.262403Z"
    }
   },
   "outputs": [],
   "source": [
    "original_dataset_dir = 'F:\\\\study\\\\ml\\\\DataSet\\\\dogs_vs_cats\\original'\n",
    "base_dir = 'F:\\study\\ml\\DataSet\\dogs_vs_cats\\cats_and_dogs_small'\n",
    "train_dir = os.path.join(base_dir, 'train')\n",
    "validation_dir = os.path.join(base_dir, 'validation')\n",
    "test_dir = os.path.join(base_dir, 'test')\n",
    "train_cats_dir = os.path.join(train_dir, 'cats')\n",
    "train_dogs_dir = os.path.join(train_dir, 'dogs')\n",
    "validation_cats_dir = os.path.join(validation_dir, 'cats')\n",
    "validation_dogs_dir = os.path.join(validation_dir, 'dogs')\n",
    "test_cats_dir = os.path.join(test_dir, 'cats')\n",
    "test_dogs_dir = os.path.join(test_dir, 'dogs')"
   ]
  },
  {
   "cell_type": "code",
   "execution_count": 6,
   "metadata": {
    "ExecuteTime": {
     "end_time": "2019-08-07T02:51:22.254089Z",
     "start_time": "2019-08-07T02:51:22.247089Z"
    }
   },
   "outputs": [],
   "source": [
    "datagen = ImageDataGenerator(rescale=1. / 255)\n",
    "batch_size = 20"
   ]
  },
  {
   "cell_type": "code",
   "execution_count": 9,
   "metadata": {
    "ExecuteTime": {
     "end_time": "2019-08-07T03:01:02.365269Z",
     "start_time": "2019-08-07T03:01:02.337268Z"
    }
   },
   "outputs": [],
   "source": [
    "def extract_feature(directory, sample_count):\n",
    "    feats = np.zeros((sample_count, 4, 4, 512))\n",
    "    labels = np.zeros(sample_count)\n",
    "\n",
    "    data_generator = datagen.flow_from_directory(directory,\n",
    "                                                 target_size=(150, 150),\n",
    "                                                 batch_size=batch_size,\n",
    "                                                 class_mode='binary')\n",
    "    i = 0\n",
    "    for input_batch, batch_label in data_generator:\n",
    "        feat_batch = conv_base.predict(input_batch)\n",
    "        feats[i * batch_size:(i + 1) * batch_size] = feat_batch\n",
    "        labels[i * batch_size:(i + 1) * batch_size] = batch_label\n",
    "\n",
    "        i += 1\n",
    "        if i * batch_size >= sample_count:\n",
    "            break\n",
    "    return feats, labels"
   ]
  },
  {
   "cell_type": "code",
   "execution_count": 10,
   "metadata": {
    "ExecuteTime": {
     "end_time": "2019-08-07T03:09:49.624427Z",
     "start_time": "2019-08-07T03:01:04.265378Z"
    }
   },
   "outputs": [
    {
     "name": "stdout",
     "output_type": "stream",
     "text": [
      "Found 2000 images belonging to 2 classes.\n",
      "Found 1000 images belonging to 2 classes.\n",
      "Found 1000 images belonging to 2 classes.\n"
     ]
    }
   ],
   "source": [
    "train_features, train_labels = extract_feature(train_dir, 2000)\n",
    "validation_features, validation_labels = extract_feature(validation_dir, 1000)\n",
    "test_features, test_labels = extract_feature(test_dir, 1000)"
   ]
  },
  {
   "cell_type": "code",
   "execution_count": 61,
   "metadata": {
    "ExecuteTime": {
     "end_time": "2019-08-07T06:57:15.261913Z",
     "start_time": "2019-08-07T06:57:15.253912Z"
    }
   },
   "outputs": [],
   "source": [
    "train_features = np.reshape(train_features, (2000, 4 * 4 * 512))\n",
    "validation_features = np.reshape(validation_features, (1000, 4 * 4 * 512))\n",
    "test_features = np.reshape(test_features, (1000, 4 * 4 * 512))"
   ]
  },
  {
   "cell_type": "code",
   "execution_count": 63,
   "metadata": {
    "ExecuteTime": {
     "end_time": "2019-08-07T06:57:43.206511Z",
     "start_time": "2019-08-07T06:57:43.198511Z"
    }
   },
   "outputs": [],
   "source": [
    "train_features = np.reshape(train_features, (2000, 4 , 4 , 512))\n",
    "validation_features = np.reshape(validation_features, (1000, 4 , 4 , 512))\n",
    "test_features = np.reshape(test_features, (1000, 4 , 4 , 512))"
   ]
  },
  {
   "cell_type": "code",
   "execution_count": 54,
   "metadata": {
    "ExecuteTime": {
     "end_time": "2019-08-07T06:55:32.449032Z",
     "start_time": "2019-08-07T06:55:32.443032Z"
    }
   },
   "outputs": [
    {
     "data": {
      "text/plain": [
       "(2000, 4, 4, 512)"
      ]
     },
     "execution_count": 54,
     "metadata": {},
     "output_type": "execute_result"
    }
   ],
   "source": [
    "train_features.shape"
   ]
  },
  {
   "cell_type": "code",
   "execution_count": 14,
   "metadata": {
    "ExecuteTime": {
     "end_time": "2019-08-07T03:12:38.409081Z",
     "start_time": "2019-08-07T03:12:38.402080Z"
    }
   },
   "outputs": [],
   "source": [
    "from keras import models, layers, optimizers"
   ]
  },
  {
   "cell_type": "code",
   "execution_count": null,
   "metadata": {},
   "outputs": [],
   "source": []
  },
  {
   "cell_type": "code",
   "execution_count": 82,
   "metadata": {
    "ExecuteTime": {
     "end_time": "2019-08-07T07:01:52.586775Z",
     "start_time": "2019-08-07T07:01:52.534772Z"
    }
   },
   "outputs": [],
   "source": [
    "train_features = np.reshape(train_features, (2000, 4 * 4 * 512))\n",
    "validation_features = np.reshape(validation_features, (1000, 4 * 4 * 512))\n",
    "test_features = np.reshape(test_features, (1000, 4 * 4 * 512))\n",
    "\n",
    "\n",
    "model = models.Sequential()\n",
    "model.add(layers.Dense(256, activation='relu', input_dim=4*4*512))\n",
    "model.add(layers.Dropout(0.5))\n",
    "model.add(layers.Dense(1, activation='sigmoid'))"
   ]
  },
  {
   "cell_type": "code",
   "execution_count": null,
   "metadata": {},
   "outputs": [],
   "source": []
  },
  {
   "cell_type": "code",
   "execution_count": 91,
   "metadata": {
    "ExecuteTime": {
     "end_time": "2019-08-07T07:13:17.391943Z",
     "start_time": "2019-08-07T07:13:17.030923Z"
    }
   },
   "outputs": [],
   "source": [
    "train_features = np.reshape(train_features, (2000, 4 , 4 , 512))\n",
    "validation_features = np.reshape(validation_features, (1000, 4 , 4 , 512))\n",
    "test_features = np.reshape(test_features, (1000, 4 , 4 , 512))\n",
    "\n",
    "\n",
    "model = models.Sequential()\n",
    "model.add(layers.Dense(256, activation='relu', input_shape=(4,4,512)))\n",
    "# model.add(layers.Dense(256, activation='relu'))\n",
    "model.add(layers.Flatten())\n",
    "model.add(layers.Dropout(0.5))\n",
    "model.add(layers.Dense(1, activation='sigmoid'))"
   ]
  },
  {
   "cell_type": "code",
   "execution_count": 92,
   "metadata": {
    "ExecuteTime": {
     "end_time": "2019-08-07T07:13:18.786023Z",
     "start_time": "2019-08-07T07:13:18.739020Z"
    }
   },
   "outputs": [],
   "source": [
    "model.compile(optimizer=optimizers.RMSprop(lr=2e-5),\n",
    "              loss='binary_crossentropy',\n",
    "              metrics=['acc'])"
   ]
  },
  {
   "cell_type": "code",
   "execution_count": 72,
   "metadata": {
    "ExecuteTime": {
     "end_time": "2019-08-07T06:59:34.971904Z",
     "start_time": "2019-08-07T06:59:34.962903Z"
    }
   },
   "outputs": [
    {
     "data": {
      "text/plain": [
       "(2000, 4, 4, 512)"
      ]
     },
     "execution_count": 72,
     "metadata": {},
     "output_type": "execute_result"
    }
   ],
   "source": [
    "train_features.shape"
   ]
  },
  {
   "cell_type": "code",
   "execution_count": 73,
   "metadata": {
    "ExecuteTime": {
     "end_time": "2019-08-07T06:59:35.344925Z",
     "start_time": "2019-08-07T06:59:35.338925Z"
    }
   },
   "outputs": [
    {
     "data": {
      "text/plain": [
       "(2000,)"
      ]
     },
     "execution_count": 73,
     "metadata": {},
     "output_type": "execute_result"
    }
   ],
   "source": [
    "train_labels.shape"
   ]
  },
  {
   "cell_type": "code",
   "execution_count": 93,
   "metadata": {
    "ExecuteTime": {
     "end_time": "2019-08-07T07:13:46.152588Z",
     "start_time": "2019-08-07T07:13:20.841141Z"
    }
   },
   "outputs": [
    {
     "name": "stdout",
     "output_type": "stream",
     "text": [
      "Train on 2000 samples, validate on 1000 samples\n",
      "Epoch 1/30\n",
      "2000/2000 [==============================] - 1s 561us/step - loss: 0.7200 - acc: 0.4940 - val_loss: 0.6693 - val_acc: 0.6180\n",
      "Epoch 2/30\n",
      "2000/2000 [==============================] - 1s 406us/step - loss: 0.6758 - acc: 0.5790 - val_loss: 0.6321 - val_acc: 0.7400\n",
      "Epoch 3/30\n",
      "2000/2000 [==============================] - 1s 412us/step - loss: 0.6337 - acc: 0.6470 - val_loss: 0.5966 - val_acc: 0.7820\n",
      "Epoch 4/30\n",
      "2000/2000 [==============================] - 1s 412us/step - loss: 0.5891 - acc: 0.7130 - val_loss: 0.5618 - val_acc: 0.8060\n",
      "Epoch 5/30\n",
      "2000/2000 [==============================] - 1s 417us/step - loss: 0.5537 - acc: 0.7485 - val_loss: 0.5274 - val_acc: 0.8260\n",
      "Epoch 6/30\n",
      "2000/2000 [==============================] - 1s 413us/step - loss: 0.5163 - acc: 0.7775 - val_loss: 0.4961 - val_acc: 0.8360\n",
      "Epoch 7/30\n",
      "2000/2000 [==============================] - 1s 408us/step - loss: 0.4895 - acc: 0.7900 - val_loss: 0.4689 - val_acc: 0.8330\n",
      "Epoch 8/30\n",
      "2000/2000 [==============================] - 1s 417us/step - loss: 0.4590 - acc: 0.8120 - val_loss: 0.4414 - val_acc: 0.8410\n",
      "Epoch 9/30\n",
      "2000/2000 [==============================] - 1s 411us/step - loss: 0.4373 - acc: 0.8115 - val_loss: 0.4182 - val_acc: 0.8450\n",
      "Epoch 10/30\n",
      "2000/2000 [==============================] - 1s 409us/step - loss: 0.4123 - acc: 0.8390 - val_loss: 0.3968 - val_acc: 0.8500\n",
      "Epoch 11/30\n",
      "2000/2000 [==============================] - 1s 413us/step - loss: 0.3916 - acc: 0.8420 - val_loss: 0.3791 - val_acc: 0.8500\n",
      "Epoch 12/30\n",
      "2000/2000 [==============================] - 1s 408us/step - loss: 0.3752 - acc: 0.8410 - val_loss: 0.3696 - val_acc: 0.8530\n",
      "Epoch 13/30\n",
      "2000/2000 [==============================] - 1s 415us/step - loss: 0.3628 - acc: 0.8425 - val_loss: 0.3501 - val_acc: 0.8560\n",
      "Epoch 14/30\n",
      "2000/2000 [==============================] - 1s 410us/step - loss: 0.3402 - acc: 0.8605 - val_loss: 0.3403 - val_acc: 0.8580\n",
      "Epoch 15/30\n",
      "2000/2000 [==============================] - 1s 412us/step - loss: 0.3294 - acc: 0.8620 - val_loss: 0.3274 - val_acc: 0.8660\n",
      "Epoch 16/30\n",
      "2000/2000 [==============================] - 1s 415us/step - loss: 0.3247 - acc: 0.8575 - val_loss: 0.3196 - val_acc: 0.8650\n",
      "Epoch 17/30\n",
      "2000/2000 [==============================] - 1s 413us/step - loss: 0.3115 - acc: 0.8770 - val_loss: 0.3124 - val_acc: 0.8650\n",
      "Epoch 18/30\n",
      "2000/2000 [==============================] - 1s 413us/step - loss: 0.3082 - acc: 0.8665 - val_loss: 0.3072 - val_acc: 0.8690\n",
      "Epoch 19/30\n",
      "2000/2000 [==============================] - 1s 410us/step - loss: 0.2978 - acc: 0.8810 - val_loss: 0.2998 - val_acc: 0.8720\n",
      "Epoch 20/30\n",
      "2000/2000 [==============================] - 1s 411us/step - loss: 0.2897 - acc: 0.8735 - val_loss: 0.2926 - val_acc: 0.8790\n",
      "Epoch 21/30\n",
      "2000/2000 [==============================] - 1s 415us/step - loss: 0.2819 - acc: 0.8845 - val_loss: 0.2869 - val_acc: 0.8780\n",
      "Epoch 22/30\n",
      "2000/2000 [==============================] - 1s 410us/step - loss: 0.2727 - acc: 0.8960 - val_loss: 0.2827 - val_acc: 0.8780\n",
      "Epoch 23/30\n",
      "2000/2000 [==============================] - 1s 413us/step - loss: 0.2679 - acc: 0.8920 - val_loss: 0.2791 - val_acc: 0.8770\n",
      "Epoch 24/30\n",
      "2000/2000 [==============================] - 1s 417us/step - loss: 0.2681 - acc: 0.8860 - val_loss: 0.2732 - val_acc: 0.8820\n",
      "Epoch 25/30\n",
      "2000/2000 [==============================] - 1s 417us/step - loss: 0.2686 - acc: 0.8875 - val_loss: 0.2762 - val_acc: 0.8810\n",
      "Epoch 26/30\n",
      "2000/2000 [==============================] - 1s 414us/step - loss: 0.2503 - acc: 0.8940 - val_loss: 0.2670 - val_acc: 0.8940\n",
      "Epoch 27/30\n",
      "2000/2000 [==============================] - 1s 415us/step - loss: 0.2445 - acc: 0.9020 - val_loss: 0.2695 - val_acc: 0.8830\n",
      "Epoch 28/30\n",
      "2000/2000 [==============================] - 1s 416us/step - loss: 0.2427 - acc: 0.9005 - val_loss: 0.2600 - val_acc: 0.8880\n",
      "Epoch 29/30\n",
      "2000/2000 [==============================] - 1s 413us/step - loss: 0.2370 - acc: 0.9070 - val_loss: 0.2584 - val_acc: 0.8870\n",
      "Epoch 30/30\n",
      "2000/2000 [==============================] - 1s 421us/step - loss: 0.2322 - acc: 0.9070 - val_loss: 0.2545 - val_acc: 0.8890\n"
     ]
    }
   ],
   "source": [
    "history = model.fit(train_features,\n",
    "                    train_labels,\n",
    "                    epochs=30,\n",
    "                    batch_size=20,\n",
    "                    validation_data=(validation_features, validation_labels))"
   ]
  },
  {
   "cell_type": "code",
   "execution_count": null,
   "metadata": {},
   "outputs": [],
   "source": []
  }
 ],
 "metadata": {
  "kernelspec": {
   "display_name": "Python 3",
   "language": "python",
   "name": "python3"
  },
  "language_info": {
   "codemirror_mode": {
    "name": "ipython",
    "version": 3
   },
   "file_extension": ".py",
   "mimetype": "text/x-python",
   "name": "python",
   "nbconvert_exporter": "python",
   "pygments_lexer": "ipython3",
   "version": "3.6.3"
  }
 },
 "nbformat": 4,
 "nbformat_minor": 2
}
