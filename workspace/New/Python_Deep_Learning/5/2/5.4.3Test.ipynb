{
 "cells": [
  {
   "cell_type": "code",
   "execution_count": 8,
   "metadata": {
    "ExecuteTime": {
     "end_time": "2019-08-09T05:58:00.003158Z",
     "start_time": "2019-08-09T05:57:59.997158Z"
    }
   },
   "outputs": [],
   "source": [
    "from keras import layers,models\n",
    "import numpy as np\n",
    "from keras.applications.vgg16 import VGG16"
   ]
  },
  {
   "cell_type": "code",
   "execution_count": 2,
   "metadata": {
    "ExecuteTime": {
     "end_time": "2019-08-09T05:53:27.404566Z",
     "start_time": "2019-08-09T05:53:27.400566Z"
    }
   },
   "outputs": [],
   "source": [
    "from keras.preprocessing import image\n",
    "from keras.applications.vgg16 import preprocess_input,decode_predictions"
   ]
  },
  {
   "cell_type": "code",
   "execution_count": 47,
   "metadata": {
    "ExecuteTime": {
     "end_time": "2019-08-09T06:25:30.339552Z",
     "start_time": "2019-08-09T06:25:30.332552Z"
    }
   },
   "outputs": [],
   "source": [
    "img_path='F:\\\\study\\\\ml\\\\DataSet\\\\dogs_vs_cats\\\\creative_commons_elephant.jpg'"
   ]
  },
  {
   "cell_type": "code",
   "execution_count": 4,
   "metadata": {
    "ExecuteTime": {
     "end_time": "2019-08-09T05:55:45.509466Z",
     "start_time": "2019-08-09T05:55:45.299454Z"
    }
   },
   "outputs": [
    {
     "data": {
      "text/plain": [
       "(1, 224, 224, 3)"
      ]
     },
     "execution_count": 4,
     "metadata": {},
     "output_type": "execute_result"
    }
   ],
   "source": [
    "img=image.load_img(img_path,target_size=(224,224))\n",
    "x=image.img_to_array(img)\n",
    "x=np.expand_dims(x,axis=0)\n",
    "x.shape"
   ]
  },
  {
   "cell_type": "code",
   "execution_count": 5,
   "metadata": {
    "ExecuteTime": {
     "end_time": "2019-08-09T05:56:17.077271Z",
     "start_time": "2019-08-09T05:56:17.064270Z"
    }
   },
   "outputs": [
    {
     "data": {
      "text/plain": [
       "array([[[[181., 203., 224.],\n",
       "         [181., 203., 224.],\n",
       "         [181., 203., 224.],\n",
       "         ...,\n",
       "         [173., 190., 210.],\n",
       "         [173., 190., 210.],\n",
       "         [172., 189., 209.]],\n",
       "\n",
       "        [[181., 203., 224.],\n",
       "         [181., 203., 224.],\n",
       "         [180., 202., 223.],\n",
       "         ...,\n",
       "         [173., 190., 210.],\n",
       "         [173., 190., 210.],\n",
       "         [172., 189., 209.]],\n",
       "\n",
       "        [[178., 203., 223.],\n",
       "         [180., 205., 225.],\n",
       "         [178., 203., 223.],\n",
       "         ...,\n",
       "         [174., 191., 211.],\n",
       "         [173., 190., 210.],\n",
       "         [172., 189., 209.]],\n",
       "\n",
       "        ...,\n",
       "\n",
       "        [[ 75.,  82.,  41.],\n",
       "         [ 95., 104.,  61.],\n",
       "         [ 98., 107.,  62.],\n",
       "         ...,\n",
       "         [ 96.,  96.,  68.],\n",
       "         [114., 117.,  86.],\n",
       "         [ 83.,  87.,  54.]],\n",
       "\n",
       "        [[120., 135.,  80.],\n",
       "         [ 99., 113.,  60.],\n",
       "         [107., 119.,  71.],\n",
       "         ...,\n",
       "         [ 95.,  94.,  66.],\n",
       "         [101., 102.,  71.],\n",
       "         [ 95.,  99.,  66.]],\n",
       "\n",
       "        [[120., 135.,  80.],\n",
       "         [107., 121.,  68.],\n",
       "         [104., 116.,  68.],\n",
       "         ...,\n",
       "         [108., 107.,  79.],\n",
       "         [112., 113.,  82.],\n",
       "         [ 98., 102.,  69.]]]], dtype=float32)"
      ]
     },
     "execution_count": 5,
     "metadata": {},
     "output_type": "execute_result"
    }
   ],
   "source": [
    "x"
   ]
  },
  {
   "cell_type": "code",
   "execution_count": 6,
   "metadata": {
    "ExecuteTime": {
     "end_time": "2019-08-09T05:56:23.096615Z",
     "start_time": "2019-08-09T05:56:23.083615Z"
    }
   },
   "outputs": [
    {
     "data": {
      "text/plain": [
       "array([[[[120.061     ,  86.221     ,  57.32      ],\n",
       "         [120.061     ,  86.221     ,  57.32      ],\n",
       "         [120.061     ,  86.221     ,  57.32      ],\n",
       "         ...,\n",
       "         [106.061     ,  73.221     ,  49.32      ],\n",
       "         [106.061     ,  73.221     ,  49.32      ],\n",
       "         [105.061     ,  72.221     ,  48.32      ]],\n",
       "\n",
       "        [[120.061     ,  86.221     ,  57.32      ],\n",
       "         [120.061     ,  86.221     ,  57.32      ],\n",
       "         [119.061     ,  85.221     ,  56.32      ],\n",
       "         ...,\n",
       "         [106.061     ,  73.221     ,  49.32      ],\n",
       "         [106.061     ,  73.221     ,  49.32      ],\n",
       "         [105.061     ,  72.221     ,  48.32      ]],\n",
       "\n",
       "        [[119.061     ,  86.221     ,  54.32      ],\n",
       "         [121.061     ,  88.221     ,  56.32      ],\n",
       "         [119.061     ,  86.221     ,  54.32      ],\n",
       "         ...,\n",
       "         [107.061     ,  74.221     ,  50.32      ],\n",
       "         [106.061     ,  73.221     ,  49.32      ],\n",
       "         [105.061     ,  72.221     ,  48.32      ]],\n",
       "\n",
       "        ...,\n",
       "\n",
       "        [[-62.939003  , -34.779     , -48.68      ],\n",
       "         [-42.939003  , -12.778999  , -28.68      ],\n",
       "         [-41.939003  ,  -9.778999  , -25.68      ],\n",
       "         ...,\n",
       "         [-35.939003  , -20.779     , -27.68      ],\n",
       "         [-17.939003  ,   0.22100067,  -9.68      ],\n",
       "         [-49.939003  , -29.779     , -40.68      ]],\n",
       "\n",
       "        [[-23.939003  ,  18.221     ,  -3.6800003 ],\n",
       "         [-43.939003  ,  -3.7789993 , -24.68      ],\n",
       "         [-32.939003  ,   2.2210007 , -16.68      ],\n",
       "         ...,\n",
       "         [-37.939003  , -22.779     , -28.68      ],\n",
       "         [-32.939003  , -14.778999  , -22.68      ],\n",
       "         [-37.939003  , -17.779     , -28.68      ]],\n",
       "\n",
       "        [[-23.939003  ,  18.221     ,  -3.6800003 ],\n",
       "         [-35.939003  ,   4.2210007 , -16.68      ],\n",
       "         [-35.939003  ,  -0.7789993 , -19.68      ],\n",
       "         ...,\n",
       "         [-24.939003  ,  -9.778999  , -15.68      ],\n",
       "         [-21.939003  ,  -3.7789993 , -11.68      ],\n",
       "         [-34.939003  , -14.778999  , -25.68      ]]]], dtype=float32)"
      ]
     },
     "execution_count": 6,
     "metadata": {},
     "output_type": "execute_result"
    }
   ],
   "source": [
    "x=preprocess_input(x)\n",
    "x"
   ]
  },
  {
   "cell_type": "code",
   "execution_count": 9,
   "metadata": {
    "ExecuteTime": {
     "end_time": "2019-08-09T05:58:09.245687Z",
     "start_time": "2019-08-09T05:58:04.473414Z"
    }
   },
   "outputs": [],
   "source": [
    "model=VGG16(weights='imagenet')"
   ]
  },
  {
   "cell_type": "code",
   "execution_count": 10,
   "metadata": {
    "ExecuteTime": {
     "end_time": "2019-08-09T05:58:44.165684Z",
     "start_time": "2019-08-09T05:58:43.816664Z"
    }
   },
   "outputs": [],
   "source": [
    "preds=model.predict(x)"
   ]
  },
  {
   "cell_type": "code",
   "execution_count": 12,
   "metadata": {
    "ExecuteTime": {
     "end_time": "2019-08-09T05:59:54.846727Z",
     "start_time": "2019-08-09T05:59:54.830726Z"
    }
   },
   "outputs": [
    {
     "name": "stdout",
     "output_type": "stream",
     "text": [
      "predict: [('n02504458', 'African_elephant', 0.83298635), ('n01871265', 'tusker', 0.14927106), ('n02504013', 'Indian_elephant', 0.012977002), ('n02408429', 'water_buffalo', 0.0047369567), ('n02403003', 'ox', 9.239731e-06)]\n"
     ]
    }
   ],
   "source": [
    "print('predict:',decode_predictions(preds,top=5)[0])"
   ]
  },
  {
   "cell_type": "code",
   "execution_count": 16,
   "metadata": {
    "ExecuteTime": {
     "end_time": "2019-08-09T06:01:22.083717Z",
     "start_time": "2019-08-09T06:01:22.075716Z"
    }
   },
   "outputs": [
    {
     "data": {
      "text/plain": [
       "386"
      ]
     },
     "execution_count": 16,
     "metadata": {},
     "output_type": "execute_result"
    }
   ],
   "source": [
    "np.argmax(preds[0])"
   ]
  },
  {
   "cell_type": "markdown",
   "metadata": {},
   "source": [
    "Grad_CAM"
   ]
  },
  {
   "cell_type": "code",
   "execution_count": 20,
   "metadata": {
    "ExecuteTime": {
     "end_time": "2019-08-09T06:03:52.758335Z",
     "start_time": "2019-08-09T06:03:52.753334Z"
    }
   },
   "outputs": [],
   "source": [
    "from keras import backend as k"
   ]
  },
  {
   "cell_type": "code",
   "execution_count": 17,
   "metadata": {
    "ExecuteTime": {
     "end_time": "2019-08-09T06:02:59.365281Z",
     "start_time": "2019-08-09T06:02:59.353280Z"
    }
   },
   "outputs": [],
   "source": [
    "african_elephant_output=model.output[:,386]\n",
    "last_conv_layer=model.get_layer('block5_conv3')"
   ]
  },
  {
   "cell_type": "code",
   "execution_count": 23,
   "metadata": {
    "ExecuteTime": {
     "end_time": "2019-08-09T06:08:01.587567Z",
     "start_time": "2019-08-09T06:08:01.545564Z"
    }
   },
   "outputs": [],
   "source": [
    "grads=k.gradients(african_elephant_output,last_conv_layer.output)[0]"
   ]
  },
  {
   "cell_type": "code",
   "execution_count": 24,
   "metadata": {
    "ExecuteTime": {
     "end_time": "2019-08-09T06:08:40.370785Z",
     "start_time": "2019-08-09T06:08:40.361785Z"
    }
   },
   "outputs": [
    {
     "data": {
      "text/plain": [
       "TensorShape([Dimension(None), Dimension(14), Dimension(14), Dimension(512)])"
      ]
     },
     "execution_count": 24,
     "metadata": {},
     "output_type": "execute_result"
    }
   ],
   "source": [
    "grads.shape"
   ]
  },
  {
   "cell_type": "code",
   "execution_count": 25,
   "metadata": {
    "ExecuteTime": {
     "end_time": "2019-08-09T06:08:54.475592Z",
     "start_time": "2019-08-09T06:08:54.465591Z"
    }
   },
   "outputs": [],
   "source": [
    "pooled_grads=k.mean(grads,axis=(0,1,2))"
   ]
  },
  {
   "cell_type": "code",
   "execution_count": 26,
   "metadata": {
    "ExecuteTime": {
     "end_time": "2019-08-09T06:11:31.152553Z",
     "start_time": "2019-08-09T06:11:30.771531Z"
    }
   },
   "outputs": [],
   "source": [
    "iterate=k.function([model.input],[pooled_grads,last_conv_layer.output[0]])\n",
    "pooled_grads_value,conv_layer_output_value=iterate([x])"
   ]
  },
  {
   "cell_type": "code",
   "execution_count": 35,
   "metadata": {
    "ExecuteTime": {
     "end_time": "2019-08-09T06:19:54.914367Z",
     "start_time": "2019-08-09T06:19:54.891365Z"
    }
   },
   "outputs": [],
   "source": [
    "for i in range(512):\n",
    "    conv_layer_output_value[:,:,1]*=pooled_grads_value[i]\n",
    "    \n",
    "heatmap=np.mean(conv_layer_output_value,axis=-1)"
   ]
  },
  {
   "cell_type": "code",
   "execution_count": 36,
   "metadata": {
    "ExecuteTime": {
     "end_time": "2019-08-09T06:19:55.550403Z",
     "start_time": "2019-08-09T06:19:55.539403Z"
    }
   },
   "outputs": [
    {
     "data": {
      "text/plain": [
       "(14, 14, 512)"
      ]
     },
     "execution_count": 36,
     "metadata": {},
     "output_type": "execute_result"
    }
   ],
   "source": [
    "conv_layer_output_value.shape"
   ]
  },
  {
   "cell_type": "code",
   "execution_count": 37,
   "metadata": {
    "ExecuteTime": {
     "end_time": "2019-08-09T06:19:56.004429Z",
     "start_time": "2019-08-09T06:19:56.000429Z"
    }
   },
   "outputs": [
    {
     "data": {
      "text/plain": [
       "(14, 14)"
      ]
     },
     "execution_count": 37,
     "metadata": {},
     "output_type": "execute_result"
    }
   ],
   "source": [
    "heatmap.shape"
   ]
  },
  {
   "cell_type": "code",
   "execution_count": 38,
   "metadata": {
    "ExecuteTime": {
     "end_time": "2019-08-09T06:19:56.826476Z",
     "start_time": "2019-08-09T06:19:56.819476Z"
    }
   },
   "outputs": [],
   "source": [
    "import matplotlib.pyplot as plt"
   ]
  },
  {
   "cell_type": "code",
   "execution_count": 39,
   "metadata": {
    "ExecuteTime": {
     "end_time": "2019-08-09T06:19:57.583519Z",
     "start_time": "2019-08-09T06:19:57.573519Z"
    }
   },
   "outputs": [],
   "source": [
    "heatmap=np.maximum(heatmap,0)\n",
    "heatmap/=np.max(heatmap)\n",
    "# plt.matshow(heatmap)"
   ]
  },
  {
   "cell_type": "code",
   "execution_count": 40,
   "metadata": {
    "ExecuteTime": {
     "end_time": "2019-08-09T06:22:43.555013Z",
     "start_time": "2019-08-09T06:22:43.528011Z"
    }
   },
   "outputs": [],
   "source": [
    "import cv2\n",
    "img=cv2.imread(img_path)\n",
    "heatmap=cv2.resize(heatmap,(img.shape[1],img.shape[0]))\n",
    "heatmap=np.uint8(255*heatmap)\n",
    "heatmap=cv2.applyColorMap(heatmap,cv2.COLORMAP_JET)\n",
    "superimposed_img=heatmap*0.4+img"
   ]
  },
  {
   "cell_type": "code",
   "execution_count": 46,
   "metadata": {
    "ExecuteTime": {
     "end_time": "2019-08-09T06:24:56.961643Z",
     "start_time": "2019-08-09T06:24:56.944642Z"
    }
   },
   "outputs": [
    {
     "data": {
      "text/plain": [
       "True"
      ]
     },
     "execution_count": 46,
     "metadata": {},
     "output_type": "execute_result"
    }
   ],
   "source": [
    "cv2.imwrite('F:\\\\study\\\\ml\\\\DataSet\\\\dogs_vs_cats\\\\elephant_cam2.jpg',superimposed_img)"
   ]
  },
  {
   "cell_type": "code",
   "execution_count": 49,
   "metadata": {
    "ExecuteTime": {
     "end_time": "2019-08-09T06:30:10.880598Z",
     "start_time": "2019-08-09T06:30:10.876598Z"
    }
   },
   "outputs": [],
   "source": [
    "# img2_path='F:\\\\study\\\\ml\\\\DataSet\\\\dogs_vs_cats\\\\elephant_cam2.jpg'\n",
    "# img2=image.load_img(img2_path)\n",
    "# img2"
   ]
  },
  {
   "cell_type": "code",
   "execution_count": null,
   "metadata": {},
   "outputs": [],
   "source": []
  }
 ],
 "metadata": {
  "kernelspec": {
   "display_name": "Python 3",
   "language": "python",
   "name": "python3"
  },
  "language_info": {
   "codemirror_mode": {
    "name": "ipython",
    "version": 3
   },
   "file_extension": ".py",
   "mimetype": "text/x-python",
   "name": "python",
   "nbconvert_exporter": "python",
   "pygments_lexer": "ipython3",
   "version": "3.6.3"
  }
 },
 "nbformat": 4,
 "nbformat_minor": 2
}
