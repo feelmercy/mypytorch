{
 "cells": [
  {
   "cell_type": "code",
   "execution_count": 1,
   "metadata": {
    "ExecuteTime": {
     "end_time": "2019-07-31T08:10:33.726304Z",
     "start_time": "2019-07-31T08:10:31.910200Z"
    }
   },
   "outputs": [
    {
     "name": "stderr",
     "output_type": "stream",
     "text": [
      "d:\\programdata\\anaconda3\\lib\\site-packages\\h5py\\__init__.py:34: FutureWarning: Conversion of the second argument of issubdtype from `float` to `np.floating` is deprecated. In future, it will be treated as `np.float64 == np.dtype(float).type`.\n",
      "  from ._conv import register_converters as _register_converters\n",
      "Using TensorFlow backend.\n"
     ]
    }
   ],
   "source": [
    "from keras import models,layers\n",
    "from keras.applications.vgg16 import VGG16\n",
    "import numpy as np\n",
    "import matplotlib.pyplot as plt"
   ]
  },
  {
   "cell_type": "code",
   "execution_count": 2,
   "metadata": {
    "ExecuteTime": {
     "end_time": "2019-07-31T08:10:36.809481Z",
     "start_time": "2019-07-31T08:10:33.728304Z"
    }
   },
   "outputs": [],
   "source": [
    "model=VGG16(weights='imagenet')"
   ]
  },
  {
   "cell_type": "code",
   "execution_count": 3,
   "metadata": {
    "ExecuteTime": {
     "end_time": "2019-07-31T08:10:36.817481Z",
     "start_time": "2019-07-31T08:10:36.811481Z"
    }
   },
   "outputs": [],
   "source": [
    "from keras.preprocessing import image\n",
    "from keras.applications.vgg16 import preprocess_input,decode_predictions\n",
    "import numpy as np\n",
    "from keras import backend as k"
   ]
  },
  {
   "cell_type": "code",
   "execution_count": 4,
   "metadata": {
    "ExecuteTime": {
     "end_time": "2019-07-31T08:10:36.872484Z",
     "start_time": "2019-07-31T08:10:36.820481Z"
    }
   },
   "outputs": [
    {
     "data": {
      "text/plain": [
       "(1, 224, 224, 3)"
      ]
     },
     "execution_count": 4,
     "metadata": {},
     "output_type": "execute_result"
    }
   ],
   "source": [
    "img_path='F:\\\\study\\\\ml\\\\DataSet\\\\dogs_vs_cats\\\\creative_commons_elephant.jpg'\n",
    "img=image.load_img(img_path,target_size=(224,224))\n",
    "x=image.img_to_array(img)\n",
    "x=np.expand_dims(x,axis=0)\n",
    "x=preprocess_input(x)\n",
    "x.shape"
   ]
  },
  {
   "cell_type": "code",
   "execution_count": 5,
   "metadata": {
    "ExecuteTime": {
     "end_time": "2019-07-31T08:10:37.208503Z",
     "start_time": "2019-07-31T08:10:36.875484Z"
    }
   },
   "outputs": [
    {
     "name": "stdout",
     "output_type": "stream",
     "text": [
      "predicted: [('n02504458', 'African_elephant', 0.83298635), ('n01871265', 'tusker', 0.14927106), ('n02504013', 'Indian_elephant', 0.012977002)]\n"
     ]
    }
   ],
   "source": [
    "preds=model.predict(x)\n",
    "print('predicted:',decode_predictions(preds,top=3)[0])"
   ]
  },
  {
   "cell_type": "code",
   "execution_count": 6,
   "metadata": {
    "ExecuteTime": {
     "end_time": "2019-07-31T08:10:38.555580Z",
     "start_time": "2019-07-31T08:10:38.545580Z"
    }
   },
   "outputs": [
    {
     "data": {
      "text/plain": [
       "386"
      ]
     },
     "execution_count": 6,
     "metadata": {},
     "output_type": "execute_result"
    }
   ],
   "source": [
    "np.argmax(preds[0])"
   ]
  },
  {
   "cell_type": "code",
   "execution_count": 7,
   "metadata": {
    "ExecuteTime": {
     "end_time": "2019-07-31T08:10:39.445631Z",
     "start_time": "2019-07-31T08:10:39.430631Z"
    }
   },
   "outputs": [],
   "source": [
    "african_elephant_output=model.output[:,386]"
   ]
  },
  {
   "cell_type": "code",
   "execution_count": 8,
   "metadata": {
    "ExecuteTime": {
     "end_time": "2019-07-31T08:10:39.961661Z",
     "start_time": "2019-07-31T08:10:39.958661Z"
    }
   },
   "outputs": [],
   "source": [
    "last_conv_layer=model.get_layer('block5_conv3')"
   ]
  },
  {
   "cell_type": "code",
   "execution_count": 9,
   "metadata": {
    "ExecuteTime": {
     "end_time": "2019-07-31T08:10:40.531693Z",
     "start_time": "2019-07-31T08:10:40.476690Z"
    }
   },
   "outputs": [],
   "source": [
    "grads=k.gradients(african_elephant_output,last_conv_layer.output)[0]"
   ]
  },
  {
   "cell_type": "code",
   "execution_count": 10,
   "metadata": {
    "ExecuteTime": {
     "end_time": "2019-07-31T08:10:42.477805Z",
     "start_time": "2019-07-31T08:10:42.079782Z"
    }
   },
   "outputs": [],
   "source": [
    "pooled_grads=k.mean(grads,axis=[0,1,2])\n",
    "iterate=k.function([model.input],[pooled_grads,last_conv_layer.output[0]])\n",
    "\n",
    "pooled_grads_value,conv_layer_value=iterate([x])"
   ]
  },
  {
   "cell_type": "code",
   "execution_count": 11,
   "metadata": {
    "ExecuteTime": {
     "end_time": "2019-07-31T08:10:42.866827Z",
     "start_time": "2019-07-31T08:10:42.855826Z"
    }
   },
   "outputs": [],
   "source": [
    "for i in range(512):\n",
    "    conv_layer_value[:,:,i]*=pooled_grads_value[i]\n",
    "    \n",
    "heatmap=np.mean(conv_layer_value,axis=-1)"
   ]
  },
  {
   "cell_type": "code",
   "execution_count": 12,
   "metadata": {
    "ExecuteTime": {
     "end_time": "2019-07-31T08:10:47.469090Z",
     "start_time": "2019-07-31T08:10:47.463090Z"
    }
   },
   "outputs": [],
   "source": [
    "# heatmat=np.maximum(heatmap,0)\n",
    "# heatmap/=np.max(heatmap)\n",
    "# plt.matshow(heatmap)"
   ]
  },
  {
   "cell_type": "code",
   "execution_count": 13,
   "metadata": {
    "ExecuteTime": {
     "end_time": "2019-07-31T08:10:48.105127Z",
     "start_time": "2019-07-31T08:10:48.062124Z"
    }
   },
   "outputs": [],
   "source": [
    "import cv2"
   ]
  },
  {
   "cell_type": "code",
   "execution_count": 16,
   "metadata": {
    "ExecuteTime": {
     "end_time": "2019-07-31T08:17:30.475141Z",
     "start_time": "2019-07-31T08:17:30.418138Z"
    }
   },
   "outputs": [
    {
     "data": {
      "text/plain": [
       "True"
      ]
     },
     "execution_count": 16,
     "metadata": {},
     "output_type": "execute_result"
    }
   ],
   "source": [
    "img=cv2.imread(img_path)\n",
    "heatmap=cv2.resize(heatmap,(img.shape[1],img.shape[0]))\n",
    "heatmap=np.uint8(255 * heatmap)\n",
    "heatmap=cv2.applyColorMap(heatmap,cv2.COLORMAP_JET)\n",
    "superimposed_img=heatmap*0.4+img\n",
    "cv2.imwrite('F:\\\\study\\\\ml\\\\DataSet\\\\dogs_vs_cats\\\\elephant_cam.jpg', superimposed_img)"
   ]
  },
  {
   "cell_type": "code",
   "execution_count": null,
   "metadata": {},
   "outputs": [],
   "source": []
  }
 ],
 "metadata": {
  "kernelspec": {
   "display_name": "Python 3",
   "language": "python",
   "name": "python3"
  },
  "language_info": {
   "codemirror_mode": {
    "name": "ipython",
    "version": 3
   },
   "file_extension": ".py",
   "mimetype": "text/x-python",
   "name": "python",
   "nbconvert_exporter": "python",
   "pygments_lexer": "ipython3",
   "version": "3.6.3"
  }
 },
 "nbformat": 4,
 "nbformat_minor": 2
}
