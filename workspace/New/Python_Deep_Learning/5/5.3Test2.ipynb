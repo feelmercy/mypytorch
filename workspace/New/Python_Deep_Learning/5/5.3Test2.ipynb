{
 "cells": [
  {
   "cell_type": "code",
   "execution_count": 2,
   "metadata": {
    "ExecuteTime": {
     "end_time": "2019-07-19T08:11:59.834520Z",
     "start_time": "2019-07-19T08:11:59.830520Z"
    }
   },
   "outputs": [],
   "source": [
    "from keras import models,layers,optimizers\n",
    "from keras.applications import VGG16"
   ]
  },
  {
   "cell_type": "code",
   "execution_count": 3,
   "metadata": {
    "ExecuteTime": {
     "end_time": "2019-07-19T08:12:02.033646Z",
     "start_time": "2019-07-19T08:12:01.486614Z"
    }
   },
   "outputs": [],
   "source": [
    "conv_base=VGG16(weights='imagenet',\n",
    "               include_top=False,\n",
    "               input_shape=(150,150,3))"
   ]
  },
  {
   "cell_type": "code",
   "execution_count": 4,
   "metadata": {
    "ExecuteTime": {
     "end_time": "2019-07-19T08:13:24.365355Z",
     "start_time": "2019-07-19T08:13:24.294351Z"
    }
   },
   "outputs": [],
   "source": [
    "model=models.Sequential()\n",
    "model.add(conv_base)\n",
    "model.add(layers.Flatten())\n",
    "model.add(layers.Dense(256,activation='relu'))\n",
    "model.add(layers.Dense(1,activation='sigmoid'))"
   ]
  },
  {
   "cell_type": "code",
   "execution_count": 5,
   "metadata": {
    "ExecuteTime": {
     "end_time": "2019-07-19T08:13:31.285751Z",
     "start_time": "2019-07-19T08:13:31.274750Z"
    }
   },
   "outputs": [
    {
     "name": "stdout",
     "output_type": "stream",
     "text": [
      "_________________________________________________________________\n",
      "Layer (type)                 Output Shape              Param #   \n",
      "=================================================================\n",
      "vgg16 (Model)                (None, 4, 4, 512)         14714688  \n",
      "_________________________________________________________________\n",
      "flatten_1 (Flatten)          (None, 8192)              0         \n",
      "_________________________________________________________________\n",
      "dense_1 (Dense)              (None, 256)               2097408   \n",
      "_________________________________________________________________\n",
      "dense_2 (Dense)              (None, 1)                 257       \n",
      "=================================================================\n",
      "Total params: 16,812,353\n",
      "Trainable params: 16,812,353\n",
      "Non-trainable params: 0\n",
      "_________________________________________________________________\n"
     ]
    }
   ],
   "source": [
    "model.summary()"
   ]
  },
  {
   "cell_type": "code",
   "execution_count": 6,
   "metadata": {
    "ExecuteTime": {
     "end_time": "2019-07-19T08:16:17.811275Z",
     "start_time": "2019-07-19T08:16:17.802275Z"
    }
   },
   "outputs": [
    {
     "name": "stdout",
     "output_type": "stream",
     "text": [
      "this is the num of trainable weight before freezing the conv base: 30\n"
     ]
    }
   ],
   "source": [
    "print('this is the num of trainable weight before freezing the conv base:',\n",
    "     len(model.trainable_weights))"
   ]
  },
  {
   "cell_type": "code",
   "execution_count": 8,
   "metadata": {
    "ExecuteTime": {
     "end_time": "2019-07-19T08:18:48.968921Z",
     "start_time": "2019-07-19T08:18:48.965921Z"
    }
   },
   "outputs": [],
   "source": [
    "conv_base.trainable=False"
   ]
  },
  {
   "cell_type": "code",
   "execution_count": 9,
   "metadata": {
    "ExecuteTime": {
     "end_time": "2019-07-19T08:18:50.508009Z",
     "start_time": "2019-07-19T08:18:50.504009Z"
    }
   },
   "outputs": [
    {
     "name": "stdout",
     "output_type": "stream",
     "text": [
      "this is num of trainable weight after freezing the conv base: 4\n"
     ]
    }
   ],
   "source": [
    "print('this is num of trainable weight after freezing the conv base:',\n",
    "     len(model.trainable_weights))"
   ]
  },
  {
   "cell_type": "code",
   "execution_count": 10,
   "metadata": {
    "ExecuteTime": {
     "end_time": "2019-07-19T08:20:25.847462Z",
     "start_time": "2019-07-19T08:20:25.841462Z"
    }
   },
   "outputs": [],
   "source": [
    "from keras.preprocessing.image import ImageDataGenerator"
   ]
  },
  {
   "cell_type": "code",
   "execution_count": 13,
   "metadata": {
    "ExecuteTime": {
     "end_time": "2019-07-19T08:23:01.847385Z",
     "start_time": "2019-07-19T08:23:01.844385Z"
    }
   },
   "outputs": [],
   "source": [
    "import os\n",
    "import numpy as np"
   ]
  },
  {
   "cell_type": "code",
   "execution_count": 14,
   "metadata": {
    "ExecuteTime": {
     "end_time": "2019-07-19T08:23:03.259466Z",
     "start_time": "2019-07-19T08:23:03.249465Z"
    }
   },
   "outputs": [],
   "source": [
    "base_dir='F:\\\\study\\\\ml\\\\DataSet\\\\dogs_vs_cats\\\\cats_and_dogs_small'\n",
    "train_dir=os.path.join(base_dir,'train')\n",
    "validation_dir=os.path.join(base_dir,'validation')\n",
    "test_dir=os.path.join(base_dir,'test')"
   ]
  },
  {
   "cell_type": "code",
   "execution_count": 11,
   "metadata": {
    "ExecuteTime": {
     "end_time": "2019-07-19T08:22:09.850411Z",
     "start_time": "2019-07-19T08:22:09.843411Z"
    }
   },
   "outputs": [],
   "source": [
    "train_datagen=ImageDataGenerator(rescale=1./255,\n",
    "                                rotation_range=40,\n",
    "                                width_shift_range=0.2,\n",
    "                                height_shift_range=0.2,\n",
    "                                shear_range=0.2,\n",
    "                                zoom_range=0.2,\n",
    "                                horizontal_flip=True,\n",
    "                                fill_mode='nearest')\n",
    "\n",
    "test_datagen=ImageDataGenerator(rescale=1./255)\n",
    "\n",
    "train_generator=train_datagen.flow_from_directory(train_dir,\n",
    "                                                 target_size=(150,150),\n",
    "                                                 batch_size=20,\n",
    "                                                 class_mode='binary')\n",
    "\n",
    "validation_generator=test_datagen.flow_from_directory(validation_dir,\n",
    "                                                     target_size=(150,150),\n",
    "                                                     batch_size=20,\n",
    "                                                     class_mode='binary')\n",
    "\n",
    "model.compile(loss='binary_crossentropy',\n",
    "            optimizer=optimizers.RMSprop(lr=2e-5),\n",
    "            metrics=['acc'])"
   ]
  },
  {
   "cell_type": "code",
   "execution_count": 19,
   "metadata": {
    "ExecuteTime": {
     "end_time": "2019-07-19T11:39:22.297188Z",
     "start_time": "2019-07-19T08:27:48.328771Z"
    }
   },
   "outputs": [
    {
     "name": "stdout",
     "output_type": "stream",
     "text": [
      "Epoch 1/30\n",
      "100/100 [==============================] - 378s 4s/step - loss: 0.6024 - acc: 0.6850 - val_loss: 0.4578 - val_acc: 0.8420\n",
      "Epoch 2/30\n",
      "100/100 [==============================] - 378s 4s/step - loss: 0.4890 - acc: 0.7850 - val_loss: 0.3822 - val_acc: 0.8570\n",
      "Epoch 3/30\n",
      "100/100 [==============================] - 376s 4s/step - loss: 0.4403 - acc: 0.8080 - val_loss: 0.3416 - val_acc: 0.8750\n",
      "Epoch 4/30\n",
      "100/100 [==============================] - 377s 4s/step - loss: 0.4089 - acc: 0.8205 - val_loss: 0.3499 - val_acc: 0.8570\n",
      "Epoch 5/30\n",
      "100/100 [==============================] - 377s 4s/step - loss: 0.3828 - acc: 0.8300 - val_loss: 0.2953 - val_acc: 0.8780\n",
      "Epoch 6/30\n",
      "100/100 [==============================] - 413s 4s/step - loss: 0.3741 - acc: 0.8415 - val_loss: 0.2901 - val_acc: 0.8830\n",
      "Epoch 7/30\n",
      "100/100 [==============================] - 390s 4s/step - loss: 0.3661 - acc: 0.8405 - val_loss: 0.2900 - val_acc: 0.8790\n",
      "Epoch 8/30\n",
      "100/100 [==============================] - 424s 4s/step - loss: 0.3588 - acc: 0.8360 - val_loss: 0.2756 - val_acc: 0.8880\n",
      "Epoch 9/30\n",
      "100/100 [==============================] - 418s 4s/step - loss: 0.3360 - acc: 0.8555 - val_loss: 0.2664 - val_acc: 0.8900\n",
      "Epoch 10/30\n",
      "100/100 [==============================] - 392s 4s/step - loss: 0.3423 - acc: 0.8500 - val_loss: 0.2729 - val_acc: 0.8880\n",
      "Epoch 11/30\n",
      "100/100 [==============================] - 389s 4s/step - loss: 0.3264 - acc: 0.8620 - val_loss: 0.2616 - val_acc: 0.8960\n",
      "Epoch 12/30\n",
      "100/100 [==============================] - 381s 4s/step - loss: 0.3324 - acc: 0.8440 - val_loss: 0.2664 - val_acc: 0.8860\n",
      "Epoch 13/30\n",
      "100/100 [==============================] - 377s 4s/step - loss: 0.3206 - acc: 0.8590 - val_loss: 0.2576 - val_acc: 0.8930\n",
      "Epoch 14/30\n",
      "100/100 [==============================] - 377s 4s/step - loss: 0.3262 - acc: 0.8670 - val_loss: 0.2551 - val_acc: 0.8940\n",
      "Epoch 15/30\n",
      "100/100 [==============================] - 377s 4s/step - loss: 0.3098 - acc: 0.8715 - val_loss: 0.2530 - val_acc: 0.8930\n",
      "Epoch 16/30\n",
      "100/100 [==============================] - 378s 4s/step - loss: 0.3006 - acc: 0.8675 - val_loss: 0.2527 - val_acc: 0.8930\n",
      "Epoch 17/30\n",
      "100/100 [==============================] - 377s 4s/step - loss: 0.3103 - acc: 0.8630 - val_loss: 0.2518 - val_acc: 0.8970\n",
      "Epoch 18/30\n",
      "100/100 [==============================] - 378s 4s/step - loss: 0.3107 - acc: 0.8625 - val_loss: 0.2467 - val_acc: 0.8960\n",
      "Epoch 19/30\n",
      "100/100 [==============================] - 378s 4s/step - loss: 0.2945 - acc: 0.8760 - val_loss: 0.2467 - val_acc: 0.8930\n",
      "Epoch 20/30\n",
      "100/100 [==============================] - 378s 4s/step - loss: 0.3073 - acc: 0.8720 - val_loss: 0.2441 - val_acc: 0.8950\n",
      "Epoch 21/30\n",
      "100/100 [==============================] - 381s 4s/step - loss: 0.2966 - acc: 0.8750 - val_loss: 0.2560 - val_acc: 0.8930\n",
      "Epoch 22/30\n",
      "100/100 [==============================] - 378s 4s/step - loss: 0.2993 - acc: 0.8735 - val_loss: 0.2427 - val_acc: 0.8950\n",
      "Epoch 23/30\n",
      "100/100 [==============================] - 378s 4s/step - loss: 0.2961 - acc: 0.8785 - val_loss: 0.2415 - val_acc: 0.9030\n",
      "Epoch 24/30\n",
      "100/100 [==============================] - 378s 4s/step - loss: 0.3167 - acc: 0.8585 - val_loss: 0.2410 - val_acc: 0.9000\n",
      "Epoch 25/30\n",
      "100/100 [==============================] - 378s 4s/step - loss: 0.2930 - acc: 0.8705 - val_loss: 0.2434 - val_acc: 0.8990\n",
      "Epoch 26/30\n",
      "100/100 [==============================] - 378s 4s/step - loss: 0.2929 - acc: 0.8715 - val_loss: 0.2481 - val_acc: 0.9000\n",
      "Epoch 27/30\n",
      "100/100 [==============================] - 377s 4s/step - loss: 0.2852 - acc: 0.8760 - val_loss: 0.2421 - val_acc: 0.9000\n",
      "Epoch 28/30\n",
      "100/100 [==============================] - 378s 4s/step - loss: 0.2952 - acc: 0.8705 - val_loss: 0.2422 - val_acc: 0.8970\n",
      "Epoch 29/30\n",
      "100/100 [==============================] - 378s 4s/step - loss: 0.2836 - acc: 0.8795 - val_loss: 0.2595 - val_acc: 0.8920\n",
      "Epoch 30/30\n",
      "100/100 [==============================] - 377s 4s/step - loss: 0.2896 - acc: 0.8750 - val_loss: 0.2379 - val_acc: 0.9010\n"
     ]
    }
   ],
   "source": [
    "history=model.fit_generator(train_generator,\n",
    "                           steps_per_epoch=100,\n",
    "                           epochs=30,\n",
    "                           validation_data=validation_generator,\n",
    "                           validation_steps=50)"
   ]
  },
  {
   "cell_type": "code",
   "execution_count": 21,
   "metadata": {
    "ExecuteTime": {
     "end_time": "2019-07-22T09:16:08.914022Z",
     "start_time": "2019-07-22T09:16:08.806016Z"
    }
   },
   "outputs": [],
   "source": [
    "model.save('F:\\study\\ml\\DataSet\\dogs_vs_cats\\cats_and_dogs_small\\models\\\\cats_and_dogs_small_3.h5')"
   ]
  },
  {
   "cell_type": "code",
   "execution_count": 22,
   "metadata": {
    "ExecuteTime": {
     "end_time": "2019-07-23T02:53:13.270688Z",
     "start_time": "2019-07-23T02:53:13.252687Z"
    }
   },
   "outputs": [
    {
     "name": "stdout",
     "output_type": "stream",
     "text": [
      "_________________________________________________________________\n",
      "Layer (type)                 Output Shape              Param #   \n",
      "=================================================================\n",
      "input_1 (InputLayer)         (None, 150, 150, 3)       0         \n",
      "_________________________________________________________________\n",
      "block1_conv1 (Conv2D)        (None, 150, 150, 64)      1792      \n",
      "_________________________________________________________________\n",
      "block1_conv2 (Conv2D)        (None, 150, 150, 64)      36928     \n",
      "_________________________________________________________________\n",
      "block1_pool (MaxPooling2D)   (None, 75, 75, 64)        0         \n",
      "_________________________________________________________________\n",
      "block2_conv1 (Conv2D)        (None, 75, 75, 128)       73856     \n",
      "_________________________________________________________________\n",
      "block2_conv2 (Conv2D)        (None, 75, 75, 128)       147584    \n",
      "_________________________________________________________________\n",
      "block2_pool (MaxPooling2D)   (None, 37, 37, 128)       0         \n",
      "_________________________________________________________________\n",
      "block3_conv1 (Conv2D)        (None, 37, 37, 256)       295168    \n",
      "_________________________________________________________________\n",
      "block3_conv2 (Conv2D)        (None, 37, 37, 256)       590080    \n",
      "_________________________________________________________________\n",
      "block3_conv3 (Conv2D)        (None, 37, 37, 256)       590080    \n",
      "_________________________________________________________________\n",
      "block3_pool (MaxPooling2D)   (None, 18, 18, 256)       0         \n",
      "_________________________________________________________________\n",
      "block4_conv1 (Conv2D)        (None, 18, 18, 512)       1180160   \n",
      "_________________________________________________________________\n",
      "block4_conv2 (Conv2D)        (None, 18, 18, 512)       2359808   \n",
      "_________________________________________________________________\n",
      "block4_conv3 (Conv2D)        (None, 18, 18, 512)       2359808   \n",
      "_________________________________________________________________\n",
      "block4_pool (MaxPooling2D)   (None, 9, 9, 512)         0         \n",
      "_________________________________________________________________\n",
      "block5_conv1 (Conv2D)        (None, 9, 9, 512)         2359808   \n",
      "_________________________________________________________________\n",
      "block5_conv2 (Conv2D)        (None, 9, 9, 512)         2359808   \n",
      "_________________________________________________________________\n",
      "block5_conv3 (Conv2D)        (None, 9, 9, 512)         2359808   \n",
      "_________________________________________________________________\n",
      "block5_pool (MaxPooling2D)   (None, 4, 4, 512)         0         \n",
      "=================================================================\n",
      "Total params: 14,714,688\n",
      "Trainable params: 0\n",
      "Non-trainable params: 14,714,688\n",
      "_________________________________________________________________\n"
     ]
    }
   ],
   "source": [
    "conv_base.summary()"
   ]
  },
  {
   "cell_type": "code",
   "execution_count": 47,
   "metadata": {
    "ExecuteTime": {
     "end_time": "2019-07-23T06:13:41.333654Z",
     "start_time": "2019-07-23T06:13:41.327654Z"
    }
   },
   "outputs": [],
   "source": [
    "conv_base.trainable=True"
   ]
  },
  {
   "cell_type": "code",
   "execution_count": 48,
   "metadata": {
    "ExecuteTime": {
     "end_time": "2019-07-23T06:13:43.388772Z",
     "start_time": "2019-07-23T06:13:43.385771Z"
    }
   },
   "outputs": [
    {
     "name": "stdout",
     "output_type": "stream",
     "text": [
      "this is num of trainable weight after freezing the conv base: 10\n"
     ]
    }
   ],
   "source": [
    "print('this is num of trainable weight after freezing the conv base:',\n",
    "     len(model.trainable_weights))"
   ]
  },
  {
   "cell_type": "code",
   "execution_count": 42,
   "metadata": {
    "ExecuteTime": {
     "end_time": "2019-07-23T06:05:31.002609Z",
     "start_time": "2019-07-23T06:05:30.998608Z"
    }
   },
   "outputs": [],
   "source": [
    "# conv_base.trainable=False"
   ]
  },
  {
   "cell_type": "code",
   "execution_count": 53,
   "metadata": {
    "ExecuteTime": {
     "end_time": "2019-07-23T09:57:49.584850Z",
     "start_time": "2019-07-23T09:57:49.578850Z"
    }
   },
   "outputs": [
    {
     "name": "stdout",
     "output_type": "stream",
     "text": [
      "input_1\n",
      "False\n",
      "block1_conv1\n",
      "False\n",
      "block1_conv2\n",
      "False\n",
      "block1_pool\n",
      "False\n",
      "block2_conv1\n",
      "False\n",
      "block2_conv2\n",
      "False\n",
      "block2_pool\n",
      "False\n",
      "block3_conv1\n",
      "False\n",
      "block3_conv2\n",
      "False\n",
      "block3_conv3\n",
      "False\n",
      "block3_pool\n",
      "False\n",
      "block4_conv1\n",
      "False\n",
      "block4_conv2\n",
      "False\n",
      "block4_conv3\n",
      "False\n",
      "block4_pool\n",
      "False\n",
      "block5_conv1\n",
      "True\n",
      "block5_conv2\n",
      "True\n",
      "block5_conv3\n",
      "True\n",
      "block5_pool\n",
      "True\n"
     ]
    }
   ],
   "source": [
    "for i in conv_base.layers:\n",
    "    print(i.name)\n",
    "    print(i.trainable)"
   ]
  },
  {
   "cell_type": "code",
   "execution_count": 43,
   "metadata": {
    "ExecuteTime": {
     "end_time": "2019-07-23T06:05:31.527639Z",
     "start_time": "2019-07-23T06:05:31.518638Z"
    }
   },
   "outputs": [],
   "source": [
    "set_trainable=False\n",
    "for layer in conv_base.layers:\n",
    "    if layer.name=='block5_conv1':\n",
    "        set_trainable=True\n",
    "    if set_trainable:\n",
    "        layer.trainable=True\n",
    "    else:\n",
    "        layer.trainable=False"
   ]
  },
  {
   "cell_type": "code",
   "execution_count": 50,
   "metadata": {
    "ExecuteTime": {
     "end_time": "2019-07-23T06:38:19.237185Z",
     "start_time": "2019-07-23T06:38:19.233185Z"
    }
   },
   "outputs": [],
   "source": [
    "# for i in conv_base.layers:\n",
    "#     print(i.name)\n",
    "#     print(i.trainable)"
   ]
  },
  {
   "cell_type": "code",
   "execution_count": 54,
   "metadata": {
    "ExecuteTime": {
     "end_time": "2019-07-23T09:58:05.447757Z",
     "start_time": "2019-07-23T09:58:05.407755Z"
    }
   },
   "outputs": [],
   "source": [
    "model.compile(loss='binary_crossentropy',\n",
    "             optimizer=optimizers.RMSprop(lr=1e-5),\n",
    "             metrics=['acc'])"
   ]
  },
  {
   "cell_type": "code",
   "execution_count": 55,
   "metadata": {
    "ExecuteTime": {
     "end_time": "2019-07-23T09:58:06.187800Z",
     "start_time": "2019-07-23T09:58:06.178799Z"
    }
   },
   "outputs": [
    {
     "data": {
      "text/plain": [
       "10"
      ]
     },
     "execution_count": 55,
     "metadata": {},
     "output_type": "execute_result"
    }
   ],
   "source": [
    "len(model.trainable_weights)"
   ]
  },
  {
   "cell_type": "code",
   "execution_count": 56,
   "metadata": {
    "ExecuteTime": {
     "end_time": "2019-07-23T12:26:57.974669Z",
     "start_time": "2019-07-23T09:58:12.179142Z"
    }
   },
   "outputs": [
    {
     "name": "stdout",
     "output_type": "stream",
     "text": [
      "Epoch 1/20\n",
      "100/100 [==============================] - 453s 5s/step - loss: 0.2087 - acc: 0.9230 - val_loss: 0.2070 - val_acc: 0.9380\n",
      "Epoch 2/20\n",
      "100/100 [==============================] - 448s 4s/step - loss: 0.1751 - acc: 0.9335 - val_loss: 0.1893 - val_acc: 0.9380\n",
      "Epoch 3/20\n",
      "100/100 [==============================] - 445s 4s/step - loss: 0.1517 - acc: 0.9400 - val_loss: 0.2777 - val_acc: 0.9190\n",
      "Epoch 4/20\n",
      "100/100 [==============================] - 445s 4s/step - loss: 0.1588 - acc: 0.9375 - val_loss: 0.2444 - val_acc: 0.9210\n",
      "Epoch 5/20\n",
      "100/100 [==============================] - 446s 4s/step - loss: 0.1500 - acc: 0.9380 - val_loss: 0.2139 - val_acc: 0.9240\n",
      "Epoch 6/20\n",
      "100/100 [==============================] - 445s 4s/step - loss: 0.1273 - acc: 0.9500 - val_loss: 0.1788 - val_acc: 0.9350\n",
      "Epoch 7/20\n",
      "100/100 [==============================] - 445s 4s/step - loss: 0.1316 - acc: 0.9460 - val_loss: 0.1801 - val_acc: 0.9280\n",
      "Epoch 8/20\n",
      "100/100 [==============================] - 446s 4s/step - loss: 0.1152 - acc: 0.9545 - val_loss: 0.1894 - val_acc: 0.9340\n",
      "Epoch 9/20\n",
      "100/100 [==============================] - 445s 4s/step - loss: 0.1099 - acc: 0.9570 - val_loss: 0.2067 - val_acc: 0.9290\n",
      "Epoch 10/20\n",
      "100/100 [==============================] - 444s 4s/step - loss: 0.1100 - acc: 0.9580 - val_loss: 0.2118 - val_acc: 0.9290\n",
      "Epoch 11/20\n",
      "100/100 [==============================] - 445s 4s/step - loss: 0.1026 - acc: 0.9535 - val_loss: 0.3030 - val_acc: 0.9170\n",
      "Epoch 12/20\n",
      "100/100 [==============================] - 445s 4s/step - loss: 0.1097 - acc: 0.9585 - val_loss: 0.1812 - val_acc: 0.9390\n",
      "Epoch 13/20\n",
      "100/100 [==============================] - 447s 4s/step - loss: 0.1050 - acc: 0.9595 - val_loss: 0.1799 - val_acc: 0.9380\n",
      "Epoch 14/20\n",
      "100/100 [==============================] - 447s 4s/step - loss: 0.1078 - acc: 0.9610 - val_loss: 0.1923 - val_acc: 0.9300\n",
      "Epoch 15/20\n",
      "100/100 [==============================] - 447s 4s/step - loss: 0.0950 - acc: 0.9590 - val_loss: 0.1804 - val_acc: 0.9340\n",
      "Epoch 16/20\n",
      "100/100 [==============================] - 446s 4s/step - loss: 0.0978 - acc: 0.9610 - val_loss: 0.1925 - val_acc: 0.9310\n",
      "Epoch 17/20\n",
      "100/100 [==============================] - 447s 4s/step - loss: 0.0850 - acc: 0.9655 - val_loss: 0.2534 - val_acc: 0.9240\n",
      "Epoch 18/20\n",
      "100/100 [==============================] - 447s 4s/step - loss: 0.0781 - acc: 0.9720 - val_loss: 0.3107 - val_acc: 0.9160\n",
      "Epoch 19/20\n",
      "100/100 [==============================] - 447s 4s/step - loss: 0.0800 - acc: 0.9695 - val_loss: 0.2100 - val_acc: 0.9310\n",
      "Epoch 20/20\n",
      "100/100 [==============================] - 446s 4s/step - loss: 0.0929 - acc: 0.9600 - val_loss: 0.2324 - val_acc: 0.9210\n"
     ]
    }
   ],
   "source": [
    "history=model.fit_generator(\n",
    "train_generator,\n",
    "steps_per_epoch=100,\n",
    "epochs=20,\n",
    "validation_data=validation_generator,\n",
    "validation_steps=50)"
   ]
  },
  {
   "cell_type": "code",
   "execution_count": 57,
   "metadata": {
    "ExecuteTime": {
     "end_time": "2019-07-24T01:06:39.979810Z",
     "start_time": "2019-07-24T01:06:39.154763Z"
    }
   },
   "outputs": [],
   "source": [
    "import matplotlib.pyplot as plt"
   ]
  },
  {
   "cell_type": "code",
   "execution_count": 85,
   "metadata": {
    "ExecuteTime": {
     "end_time": "2019-07-24T01:17:38.341466Z",
     "start_time": "2019-07-24T01:17:38.334466Z"
    }
   },
   "outputs": [],
   "source": [
    "# acc=history.history['acc']\n",
    "# val_acc=history.history['val_acc']\n",
    "# loss=history.history['loss']\n",
    "# val_loss=history.history['val_loss']\n",
    "\n",
    "# plot_epochs=range(1,len(acc)+1)\n",
    "# plt.plot(plot_epochs,acc,'bo',label='acc')\n",
    "# plt.plot(plot_epochs,val_acc,'b',label='validation acc')\n",
    "# plt.legend()\n",
    "# # # plt.show()\n"
   ]
  },
  {
   "cell_type": "code",
   "execution_count": 93,
   "metadata": {
    "ExecuteTime": {
     "end_time": "2019-07-24T01:26:46.625826Z",
     "start_time": "2019-07-24T01:26:46.609825Z"
    }
   },
   "outputs": [],
   "source": [
    "def smooth_curve(points,factor=0.8):\n",
    "    smooth_point=[]\n",
    "    for point in points:\n",
    "        if smooth_point:\n",
    "            previous=smooth_point[-1]\n",
    "            smooth_point.append(previous*factor + (1-factor)* point)\n",
    "        else:\n",
    "            smooth_point.append(point)\n",
    "    return smooth_point"
   ]
  },
  {
   "cell_type": "code",
   "execution_count": 95,
   "metadata": {
    "ExecuteTime": {
     "end_time": "2019-07-24T01:27:06.888985Z",
     "start_time": "2019-07-24T01:27:06.884985Z"
    }
   },
   "outputs": [],
   "source": [
    "# plt.plot(plot_epochs,smooth_curve(acc),'bo',label='acc')\n",
    "# plt.plot(plot_epochs,smooth_curve(val_acc),'b',label='validation acc')\n",
    "# plt.legend()"
   ]
  }
 ],
 "metadata": {
  "kernelspec": {
   "display_name": "Python 3",
   "language": "python",
   "name": "python3"
  },
  "language_info": {
   "codemirror_mode": {
    "name": "ipython",
    "version": 3
   },
   "file_extension": ".py",
   "mimetype": "text/x-python",
   "name": "python",
   "nbconvert_exporter": "python",
   "pygments_lexer": "ipython3",
   "version": "3.6.3"
  }
 },
 "nbformat": 4,
 "nbformat_minor": 2
}
