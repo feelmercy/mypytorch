{
 "cells": [
  {
   "cell_type": "code",
   "execution_count": 1,
   "metadata": {
    "ExecuteTime": {
     "end_time": "2021-02-23T07:16:16.577614Z",
     "start_time": "2021-02-23T07:16:15.713565Z"
    },
    "collapsed": true
   },
   "outputs": [],
   "source": [
    "import numpy as np"
   ]
  },
  {
   "cell_type": "code",
   "execution_count": 8,
   "metadata": {
    "ExecuteTime": {
     "end_time": "2021-02-23T07:22:41.676640Z",
     "start_time": "2021-02-23T07:22:41.673640Z"
    },
    "collapsed": true
   },
   "outputs": [],
   "source": [
    "b=np.array([[-1,2,-3],[4,-6,6]])"
   ]
  },
  {
   "cell_type": "code",
   "execution_count": 5,
   "metadata": {
    "ExecuteTime": {
     "end_time": "2021-02-23T07:20:19.148488Z",
     "start_time": "2021-02-23T07:20:19.139488Z"
    }
   },
   "outputs": [
    {
     "data": {
      "text/plain": [
       "17.15586487845379"
      ]
     },
     "execution_count": 5,
     "metadata": {},
     "output_type": "execute_result"
    }
   ],
   "source": [
    "a=0\n",
    "for i in [17,40,45]:\n",
    "    a+=np.sqrt(i)\n",
    "a"
   ]
  },
  {
   "cell_type": "code",
   "execution_count": 10,
   "metadata": {
    "ExecuteTime": {
     "end_time": "2021-02-23T07:24:03.231305Z",
     "start_time": "2021-02-23T07:24:03.227305Z"
    }
   },
   "outputs": [
    {
     "data": {
      "text/plain": [
       "10.92865938"
      ]
     },
     "execution_count": 10,
     "metadata": {},
     "output_type": "execute_result"
    }
   ],
   "source": [
    "10.062275+0.86638438"
   ]
  },
  {
   "cell_type": "code",
   "execution_count": 9,
   "metadata": {
    "ExecuteTime": {
     "end_time": "2021-02-23T07:22:44.615809Z",
     "start_time": "2021-02-23T07:22:44.515803Z"
    }
   },
   "outputs": [
    {
     "data": {
      "text/plain": [
       "(array([[-0.3630926 ,  0.93175306],\n",
       "        [ 0.93175306,  0.3630926 ]]),\n",
       " array([10.062275  ,  0.86638438]),\n",
       " array([[ 0.40647913, -0.62776097,  0.66384552],\n",
       "        [ 0.60090806, -0.36363711, -0.71181286],\n",
       "        [-0.6882472 , -0.6882472 , -0.22941573]]))"
      ]
     },
     "execution_count": 9,
     "metadata": {},
     "output_type": "execute_result"
    }
   ],
   "source": [
    "b=np.array([[-1,2,-3],[4,-6,6]])\n",
    "np.linalg.svd(b)"
   ]
  },
  {
   "cell_type": "code",
   "execution_count": 6,
   "metadata": {
    "ExecuteTime": {
     "end_time": "2021-02-23T07:21:03.767040Z",
     "start_time": "2021-02-23T07:21:03.763040Z"
    }
   },
   "outputs": [
    {
     "data": {
      "text/plain": [
       "10.099504938362077"
      ]
     },
     "execution_count": 6,
     "metadata": {},
     "output_type": "execute_result"
    }
   ],
   "source": [
    "np.sqrt(17+40+45)"
   ]
  }
 ],
 "metadata": {
  "kernelspec": {
   "display_name": "Python 3",
   "language": "python",
   "name": "python3"
  },
  "language_info": {
   "codemirror_mode": {
    "name": "ipython",
    "version": 3
   },
   "file_extension": ".py",
   "mimetype": "text/x-python",
   "name": "python",
   "nbconvert_exporter": "python",
   "pygments_lexer": "ipython3",
   "version": "3.6.3"
  }
 },
 "nbformat": 4,
 "nbformat_minor": 2
}
