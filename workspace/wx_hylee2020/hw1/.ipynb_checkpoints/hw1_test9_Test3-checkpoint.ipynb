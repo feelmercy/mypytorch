{
 "cells": [
  {
   "cell_type": "code",
   "execution_count": null,
   "metadata": {
    "ExecuteTime": {
     "end_time": "2022-01-06T08:28:11.410977Z",
     "start_time": "2022-01-06T08:28:10.228909Z"
    }
   },
   "outputs": [],
   "source": [
    "import numpy as np\n",
    "import torch \n",
    "import pandas as pd\n",
    "import torchvision\n",
    "from torch import optim,nn\n",
    "import seaborn as sns\n",
    "from scipy import stats\n",
    "from scipy.stats import norm,skew,kurtosis\n",
    "import matplotlib.pyplot as plt\n",
    "%matplotlib auto"
   ]
  },
  {
   "cell_type": "markdown",
   "metadata": {},
   "source": [
    "### just try 17 feature to predict next pm2.5,"
   ]
  },
  {
   "cell_type": "code",
   "execution_count": 2,
   "metadata": {
    "ExecuteTime": {
     "end_time": "2022-01-06T08:28:18.021355Z",
     "start_time": "2022-01-06T08:28:17.955351Z"
    },
    "collapsed": true
   },
   "outputs": [],
   "source": [
    "train_data=pd.read_csv(r'F:\\study\\ml\\HonyiLee2020\\hw1\\data\\train.csv',encoding='big5')\n",
    "test_data=pd.read_csv(r'F:\\study\\ml\\HonyiLee2020\\hw1\\data\\test.csv',encoding='big5',header=None)"
   ]
  },
  {
   "cell_type": "code",
   "execution_count": 3,
   "metadata": {
    "ExecuteTime": {
     "end_time": "2022-01-06T08:28:18.613389Z",
     "start_time": "2022-01-06T08:28:18.603388Z"
    }
   },
   "outputs": [
    {
     "name": "stdout",
     "output_type": "stream",
     "text": [
      "train_data shape:  (4320, 27)\n",
      "test_data shape:  (4320, 11)\n"
     ]
    }
   ],
   "source": [
    "print('train_data shape: ',train_data.shape)\n",
    "print('test_data shape: ',test_data.shape)"
   ]
  },
  {
   "cell_type": "code",
   "execution_count": 4,
   "metadata": {
    "ExecuteTime": {
     "end_time": "2022-01-06T08:28:19.179421Z",
     "start_time": "2022-01-06T08:28:19.138419Z"
    },
    "collapsed": true
   },
   "outputs": [],
   "source": [
    "train_data1=train_data.replace('NR',0)\n",
    "train_data1=train_data1.iloc[:,3:]"
   ]
  },
  {
   "cell_type": "code",
   "execution_count": 5,
   "metadata": {
    "ExecuteTime": {
     "end_time": "2022-01-06T08:28:19.918464Z",
     "start_time": "2022-01-06T08:28:19.835459Z"
    },
    "collapsed": true
   },
   "outputs": [],
   "source": [
    "year_data={}\n",
    "for m in range(12):\n",
    "    month_data=np.empty((18,20*24))\n",
    "    for d in range(20):\n",
    "        month_data[:,d*24:(d+1)*24]=train_data1.iloc[m*20*18+d*18:m*20*18+(d+1)*18,:]\n",
    "    year_data[m]=month_data"
   ]
  },
  {
   "cell_type": "code",
   "execution_count": 6,
   "metadata": {
    "ExecuteTime": {
     "end_time": "2022-01-06T08:28:20.450494Z",
     "start_time": "2022-01-06T08:28:20.446494Z"
    },
    "collapsed": true
   },
   "outputs": [],
   "source": [
    "year_data1=year_data.copy()"
   ]
  },
  {
   "cell_type": "code",
   "execution_count": 7,
   "metadata": {
    "ExecuteTime": {
     "end_time": "2022-01-06T08:28:20.976524Z",
     "start_time": "2022-01-06T08:28:20.970524Z"
    },
    "collapsed": true
   },
   "outputs": [],
   "source": [
    "#### 台湾温度不会低于0度"
   ]
  },
  {
   "cell_type": "code",
   "execution_count": 8,
   "metadata": {
    "ExecuteTime": {
     "end_time": "2022-01-06T08:28:21.670564Z",
     "start_time": "2022-01-06T08:28:21.610560Z"
    }
   },
   "outputs": [
    {
     "name": "stdout",
     "output_type": "stream",
     "text": [
      " month :  0\n",
      " month :  1\n",
      " month :  2\n",
      "---------- pm2.5 start : \n",
      " -3.1 \n",
      "\n",
      "-8.0\n",
      "-7.2\n",
      "-6.8\n",
      "-6.5\n",
      "-7.1\n",
      "-7.4\n",
      "-8.1\n",
      "-8.3\n",
      "-8.4\n",
      "-9.3\n",
      "-10.6\n",
      "-11.2\n",
      "-12.1\n",
      "0.0\n",
      "0.0\n",
      "0.0\n",
      "0.0\n",
      "-12.3\n",
      "pm2.5 end ------------\n",
      "correct value between  : 19.0 18.0\n",
      " month :  3\n",
      " month :  4\n",
      " month :  5\n",
      " month :  6\n",
      " month :  7\n",
      " month :  8\n",
      " month :  9\n",
      " month :  10\n",
      " month :  11\n"
     ]
    }
   ],
   "source": [
    "# temperature always >=0 in Taiwan and change fast when temperature <=0 ,so correct it\n",
    "for idx in [0]:\t\n",
    "\tfor m in range(12):\n",
    "\t\tprint(' month : ',m)\n",
    "\t\ti=0\n",
    "\t\twhile i<480:\n",
    "\t\t\tif year_data1[m][idx,i] <=5:\n",
    "\t\t\t\tprint('---------- pm2.5 start : \\n',year_data1[m][idx,i],'\\n')\n",
    "\t\t\t\tfor k in range(30):\n",
    "\t\t\t\t\tif k+i+1>479:\n",
    "\t\t\t\t\t\tbreak\n",
    "\t\t\t\t\telse:\n",
    "\t\t\t\t\t\tif year_data1[m][idx,k+i+1] >5:\n",
    "\t\t\t\t\t\t\tbreak\n",
    "\t\t\t\t\t\telse:\n",
    "\t\t\t\t\t\t\tprint(year_data1[m][idx,k+i+1])\n",
    "\t\t\t\ti=i+k\n",
    "\t\t\t\tprint('pm2.5 end ------------')\n",
    "\t\t\t\tprint('correct value between  :',year_data1[m][idx,i-1-k],year_data1[m][idx,i+1])\n",
    "\t\t\t\t## add correct to mean value\n",
    "\t\t\t\tyear_data1[m][idx,i-k:i+1]=(year_data1[m][idx,i-1-k]+year_data1[m][idx,i+1])/2\n",
    "\t\t\ti=i+1"
   ]
  },
  {
   "cell_type": "code",
   "execution_count": 9,
   "metadata": {
    "ExecuteTime": {
     "end_time": "2022-01-06T08:28:22.278599Z",
     "start_time": "2022-01-06T08:28:22.267598Z"
    }
   },
   "outputs": [
    {
     "data": {
      "text/plain": [
       "478"
      ]
     },
     "execution_count": 9,
     "metadata": {},
     "output_type": "execute_result"
    }
   ],
   "source": [
    "min(478,480)"
   ]
  },
  {
   "cell_type": "code",
   "execution_count": 10,
   "metadata": {
    "ExecuteTime": {
     "end_time": "2022-01-06T08:28:23.262655Z",
     "start_time": "2022-01-06T08:28:22.986639Z"
    },
    "scrolled": true
   },
   "outputs": [
    {
     "name": "stdout",
     "output_type": "stream",
     "text": [
      " month :  0\n",
      " month :  1\n",
      " month :  2\n",
      " month :  3\n",
      "---------- pm2.5 start : \n",
      " 0.0 \n",
      "\n",
      "0.0\n",
      "pm2.5 end ------------\n",
      "1 177 180\n",
      "correct value between  : 1.6 1.6\n",
      " month :  4\n",
      " month :  5\n",
      "---------- pm2.5 start : \n",
      " 0.0 \n",
      "\n",
      "pm2.5 end ------------\n",
      "1 370 372\n",
      "correct value between  : 1.6 1.6\n",
      " month :  6\n",
      " month :  7\n",
      "---------- pm2.5 start : \n",
      " 0.0 \n",
      "\n",
      "pm2.5 end ------------\n",
      "1 179 181\n",
      "correct value between  : 1.6 1.7\n",
      "---------- pm2.5 start : \n",
      " 0.0 \n",
      "\n",
      "pm2.5 end ------------\n",
      "1 442 444\n",
      "correct value between  : 1.7 1.6\n",
      " month :  8\n",
      "---------- pm2.5 start : \n",
      " 0.0 \n",
      "\n",
      "pm2.5 end ------------\n",
      "1 105 107\n",
      "correct value between  : 1.7 1.8\n",
      " month :  9\n",
      " month :  10\n",
      " month :  11\n",
      "---------- pm2.5 start : \n",
      " -0.2 \n",
      "\n",
      "-0.2\n",
      "-0.2\n",
      "-0.2\n",
      "-0.2\n",
      "-0.2\n",
      "-0.2\n",
      "-0.2\n",
      "-0.2\n",
      "pm2.5 end ------------\n",
      "1 73 83\n",
      "correct value between  : 1.8 1.8\n",
      " month :  0\n",
      " month :  1\n",
      " month :  2\n",
      " month :  3\n",
      " month :  4\n",
      " month :  5\n",
      " month :  6\n",
      " month :  7\n",
      " month :  8\n",
      " month :  9\n",
      " month :  10\n",
      " month :  11\n",
      "---------- pm2.5 start : \n",
      " -0.12 \n",
      "\n",
      "pm2.5 end ------------\n",
      "2 73 75\n",
      "correct value between  : 0.34 0.26\n",
      " month :  0\n",
      " month :  1\n",
      " month :  2\n",
      " month :  3\n",
      "---------- pm2.5 start : \n",
      " 0.0 \n",
      "\n",
      "0.0\n",
      "pm2.5 end ------------\n",
      "4 20 23\n",
      "correct value between  : 0.3 0.1\n",
      " month :  4\n",
      " month :  5\n",
      "---------- pm2.5 start : \n",
      " 0.0 \n",
      "\n",
      "pm2.5 end ------------\n",
      "4 217 219\n",
      "correct value between  : 0.2 0.9\n",
      "---------- pm2.5 start : \n",
      " 0.0 \n",
      "\n",
      "pm2.5 end ------------\n",
      "4 410 412\n",
      "correct value between  : 1.0 0.2\n",
      "---------- pm2.5 start : \n",
      " 0.0 \n",
      "\n",
      "pm2.5 end ------------\n",
      "4 433 435\n",
      "correct value between  : 0.3 1.5\n",
      " month :  6\n",
      " month :  7\n",
      " month :  8\n",
      "---------- pm2.5 start : \n",
      " -0.1 \n",
      "\n",
      "pm2.5 end ------------\n",
      "4 26 28\n",
      "correct value between  : 2.5 0.3\n",
      "---------- pm2.5 start : \n",
      " -0.1 \n",
      "\n",
      "pm2.5 end ------------\n",
      "4 35 37\n",
      "correct value between  : 0.1 1.0\n",
      "---------- pm2.5 start : \n",
      " 0.0 \n",
      "\n",
      "pm2.5 end ------------\n",
      "4 363 365\n",
      "correct value between  : 0.2 0.2\n",
      "---------- pm2.5 start : \n",
      " 0.0 \n",
      "\n",
      "pm2.5 end ------------\n",
      "4 381 383\n",
      "correct value between  : 0.3 0.3\n",
      " month :  9\n",
      " month :  10\n",
      " month :  11\n",
      "---------- pm2.5 start : \n",
      " -1.1 \n",
      "\n",
      "pm2.5 end ------------\n",
      "4 74 76\n",
      "correct value between  : 6.6 1.2\n",
      " month :  0\n",
      " month :  1\n",
      " month :  2\n",
      " month :  3\n",
      " month :  4\n",
      "---------- pm2.5 start : \n",
      " -0.9 \n",
      "\n",
      "pm2.5 end ------------\n",
      "6 179 181\n",
      "correct value between  : 17.0 17.0\n",
      " month :  5\n",
      " month :  6\n",
      " month :  7\n",
      "---------- pm2.5 start : \n",
      " -1.0 \n",
      "\n",
      "pm2.5 end ------------\n",
      "6 444 446\n",
      "correct value between  : 7.4 10.0\n",
      " month :  8\n",
      " month :  9\n",
      " month :  10\n",
      "---------- pm2.5 start : \n",
      " -2.4 \n",
      "\n",
      "pm2.5 end ------------\n",
      "6 397 399\n",
      "correct value between  : 7.0 6.6\n",
      " month :  11\n",
      " month :  0\n",
      "---------- pm2.5 start : \n",
      " 0.0 \n",
      "\n",
      "0.0\n",
      "pm2.5 end ------------\n",
      "9 218 221\n",
      "correct value between  : 7.0 1.0\n",
      "---------- pm2.5 start : \n",
      " -1.0 \n",
      "\n",
      "pm2.5 end ------------\n",
      "9 468 470\n",
      "correct value between  : 46.0 51.0\n",
      " month :  1\n",
      "---------- pm2.5 start : \n",
      " 0.0 \n",
      "\n",
      "pm2.5 end ------------\n",
      "9 80 82\n",
      "correct value between  : 7.0 2.0\n",
      "---------- pm2.5 start : \n",
      " 0.0 \n",
      "\n",
      "0.0\n",
      "0.0\n",
      "pm2.5 end ------------\n",
      "9 99 103\n",
      "correct value between  : 4.0 2.0\n",
      "---------- pm2.5 start : \n",
      " 0.0 \n",
      "\n",
      "pm2.5 end ------------\n",
      "9 185 187\n",
      "correct value between  : 7.0 3.0\n",
      "---------- pm2.5 start : \n",
      " 0.0 \n",
      "\n",
      "0.0\n",
      "0.0\n",
      "pm2.5 end ------------\n",
      "9 193 197\n",
      "correct value between  : 6.0 7.0\n",
      "---------- pm2.5 start : \n",
      " 0.0 \n",
      "\n",
      "0.0\n",
      "pm2.5 end ------------\n",
      "9 203 206\n",
      "correct value between  : 3.0 11.0\n",
      "---------- pm2.5 start : \n",
      " 0.0 \n",
      "\n",
      "pm2.5 end ------------\n",
      "9 212 214\n",
      "correct value between  : 4.0 1.0\n",
      "---------- pm2.5 start : \n",
      " 0.0 \n",
      "\n",
      "0.0\n",
      "0.0\n",
      "pm2.5 end ------------\n",
      "9 214 218\n",
      "correct value between  : 1.0 4.0\n",
      "---------- pm2.5 start : \n",
      " 0.0 \n",
      "\n",
      "pm2.5 end ------------\n",
      "9 224 226\n",
      "correct value between  : 4.0 5.0\n",
      "---------- pm2.5 start : \n",
      " 0.0 \n",
      "\n",
      "pm2.5 end ------------\n",
      "9 240 242\n",
      "correct value between  : 4.0 2.0\n",
      "---------- pm2.5 start : \n",
      " 0.0 \n",
      "\n",
      "0.0\n",
      "pm2.5 end ------------\n",
      "9 267 270\n",
      "correct value between  : 1.0 1.0\n",
      "---------- pm2.5 start : \n",
      " 0.0 \n",
      "\n",
      "pm2.5 end ------------\n",
      "9 297 299\n",
      "correct value between  : 1.0 4.0\n",
      "---------- pm2.5 start : \n",
      " 0.0 \n",
      "\n",
      "0.0\n",
      "pm2.5 end ------------\n",
      "9 428 431\n",
      "correct value between  : 9.0 1.0\n",
      "---------- pm2.5 start : \n",
      " 0.0 \n",
      "\n",
      "0.0\n",
      "0.0\n",
      "pm2.5 end ------------\n",
      "9 433 437\n",
      "correct value between  : 2.0 5.0\n",
      "---------- pm2.5 start : \n",
      " 0.0 \n",
      "\n",
      "0.0\n",
      "0.0\n",
      "0.0\n",
      "0.0\n",
      "0.0\n",
      "0.0\n",
      "pm2.5 end ------------\n",
      "9 442 450\n",
      "correct value between  : 6.0 7.0\n",
      " month :  2\n",
      "---------- pm2.5 start : \n",
      " 0.0 \n",
      "\n",
      "pm2.5 end ------------\n",
      "9 29 31\n",
      "correct value between  : 2.0 2.0\n",
      "---------- pm2.5 start : \n",
      " 0.0 \n",
      "\n",
      "pm2.5 end ------------\n",
      "9 47 49\n",
      "correct value between  : 3.0 2.0\n",
      "---------- pm2.5 start : \n",
      " 0.0 \n",
      "\n",
      "pm2.5 end ------------\n",
      "9 51 53\n",
      "correct value between  : 3.0 1.0\n",
      "---------- pm2.5 start : \n",
      " 0.0 \n",
      "\n",
      "0.0\n",
      "0.0\n",
      "pm2.5 end ------------\n",
      "9 123 127\n",
      "correct value between  : 4.0 6.0\n",
      "---------- pm2.5 start : \n",
      " 0.0 \n",
      "\n",
      "pm2.5 end ------------\n",
      "9 141 143\n",
      "correct value between  : 1.0 1.0\n",
      "---------- pm2.5 start : \n",
      " 0.0 \n",
      "\n",
      "0.0\n",
      "0.0\n",
      "0.0\n",
      "0.0\n",
      "0.0\n",
      "0.0\n",
      "pm2.5 end ------------\n",
      "9 148 156\n",
      "correct value between  : 5.0 13.0\n",
      "---------- pm2.5 start : \n",
      " 0.0 \n",
      "\n",
      "0.0\n",
      "0.0\n",
      "pm2.5 end ------------\n",
      "9 188 192\n",
      "correct value between  : 2.0 4.0\n",
      "---------- pm2.5 start : \n",
      " 0.0 \n",
      "\n",
      "0.0\n",
      "0.0\n",
      "0.0\n",
      "0.0\n",
      "0.0\n",
      "pm2.5 end ------------\n",
      "9 196 203\n",
      "correct value between  : 1.0 1.0\n",
      "---------- pm2.5 start : \n",
      " 0.0 \n",
      "\n",
      "0.0\n",
      "0.0\n",
      "pm2.5 end ------------\n",
      "9 304 308\n",
      "correct value between  : 1.0 5.0\n",
      " month :  3\n",
      "---------- pm2.5 start : \n",
      " -1.0 \n",
      "\n",
      "pm2.5 end ------------\n",
      "9 9 11\n",
      "correct value between  : 6.0 16.0\n",
      "---------- pm2.5 start : \n",
      " 0.0 \n",
      "\n",
      "0.0\n",
      "pm2.5 end ------------\n",
      "9 27 30\n",
      "correct value between  : 3.0 1.0\n",
      "---------- pm2.5 start : \n",
      " 0.0 \n",
      "\n",
      "pm2.5 end ------------\n",
      "9 32 34\n",
      "correct value between  : 1.0 8.0\n",
      "---------- pm2.5 start : \n",
      " 0.0 \n",
      "\n",
      "pm2.5 end ------------\n",
      "9 51 53\n",
      "correct value between  : 4.0 13.0\n",
      "---------- pm2.5 start : \n",
      " 0.0 \n",
      "\n",
      "pm2.5 end ------------\n",
      "9 155 157\n",
      "correct value between  : 6.0 5.0\n",
      "---------- pm2.5 start : \n",
      " -1.0 \n",
      "\n",
      "pm2.5 end ------------\n",
      "9 177 179\n",
      "correct value between  : 13.0 16.0\n",
      "---------- pm2.5 start : \n",
      " -1.0 \n",
      "\n",
      "pm2.5 end ------------\n",
      "9 350 352\n",
      "correct value between  : 55.0 48.0\n",
      " month :  4\n",
      "---------- pm2.5 start : \n",
      " 0.0 \n",
      "\n",
      "0.0\n",
      "pm2.5 end ------------\n",
      "9 30 33\n",
      "correct value between  : 4.0 11.0\n",
      "---------- pm2.5 start : \n",
      " -1.0 \n",
      "\n",
      "-1.0\n",
      "-1.0\n",
      "-1.0\n",
      "-1.0\n",
      "-1.0\n",
      "pm2.5 end ------------\n",
      "9 103 110\n",
      "correct value between  : 5.0 1.0\n",
      "---------- pm2.5 start : \n",
      " -1.0 \n",
      "\n",
      "-1.0\n",
      "-1.0\n",
      "pm2.5 end ------------\n",
      "9 120 124\n",
      "correct value between  : 2.0 4.0\n",
      "---------- pm2.5 start : \n",
      " -1.0 \n",
      "\n",
      "0.0\n",
      "pm2.5 end ------------\n",
      "9 128 131\n",
      "correct value between  : 5.0 7.0\n",
      "---------- pm2.5 start : \n",
      " -1.0 \n",
      "\n",
      "-1.0\n",
      "-1.0\n",
      "pm2.5 end ------------\n",
      "9 138 142\n",
      "correct value between  : 10.0 9.0\n",
      "---------- pm2.5 start : \n",
      " -1.0 \n",
      "\n",
      "-1.0\n",
      "-1.0\n",
      "-1.0\n",
      "-1.0\n",
      "-1.0\n",
      "-1.0\n",
      "-1.0\n",
      "-1.0\n",
      "-1.0\n",
      "-1.0\n",
      "pm2.5 end ------------\n",
      "9 144 156\n",
      "correct value between  : 9.0 2.0\n",
      "---------- pm2.5 start : \n",
      " 0.0 \n",
      "\n",
      "pm2.5 end ------------\n",
      "9 177 179\n",
      "correct value between  : 6.0 11.0\n",
      "---------- pm2.5 start : \n",
      " 0.0 \n",
      "\n",
      "0.0\n",
      "pm2.5 end ------------\n",
      "9 194 197\n",
      "correct value between  : 5.0 9.0\n",
      "---------- pm2.5 start : \n",
      " 0.0 \n",
      "\n",
      "pm2.5 end ------------\n",
      "9 226 228\n",
      "correct value between  : 3.0 6.0\n",
      "---------- pm2.5 start : \n",
      " 0.0 \n",
      "\n",
      "0.0\n",
      "pm2.5 end ------------\n",
      "9 241 244\n",
      "correct value between  : 2.0 2.0\n",
      "---------- pm2.5 start : \n",
      " 0.0 \n",
      "\n",
      "0.0\n",
      "0.0\n",
      "pm2.5 end ------------\n",
      "9 248 252\n",
      "correct value between  : 2.0 6.0\n",
      "---------- pm2.5 start : \n",
      " 0.0 \n",
      "\n",
      "0.0\n",
      "0.0\n",
      "pm2.5 end ------------\n",
      "9 265 269\n",
      "correct value between  : 8.0 9.0\n",
      "---------- pm2.5 start : \n",
      " 0.0 \n",
      "\n",
      "0.0\n",
      "pm2.5 end ------------\n",
      "9 271 274\n",
      "correct value between  : 9.0 3.0\n",
      "---------- pm2.5 start : \n",
      " 0.0 \n",
      "\n",
      "pm2.5 end ------------\n",
      "9 276 278\n",
      "correct value between  : 3.0 8.0\n",
      "---------- pm2.5 start : \n",
      " 0.0 \n",
      "\n",
      "0.0\n",
      "-1.0\n",
      "-1.0\n",
      "pm2.5 end ------------\n",
      "9 295 300\n",
      "correct value between  : 1.0 4.0\n",
      "---------- pm2.5 start : \n",
      " 0.0 \n",
      "\n",
      "pm2.5 end ------------\n",
      "9 307 309\n",
      "correct value between  : 7.0 6.0\n",
      "---------- pm2.5 start : \n",
      " 0.0 \n",
      "\n",
      "0.0\n",
      "pm2.5 end ------------\n",
      "9 311 314\n",
      "correct value between  : 6.0 2.0\n",
      "---------- pm2.5 start : \n",
      " 0.0 \n",
      "\n",
      "pm2.5 end ------------\n",
      "9 317 319\n",
      "correct value between  : 6.0 6.0\n",
      "---------- pm2.5 start : \n",
      " 0.0 \n",
      "\n",
      "pm2.5 end ------------\n",
      "9 341 343\n",
      "correct value between  : 4.0 5.0\n",
      "---------- pm2.5 start : \n",
      " 0.0 \n",
      "\n",
      "pm2.5 end ------------\n",
      "9 345 347\n",
      "correct value between  : 6.0 5.0\n",
      "---------- pm2.5 start : \n",
      " 0.0 \n",
      "\n",
      "pm2.5 end ------------\n",
      "9 351 353\n",
      "correct value between  : 2.0 6.0\n",
      "---------- pm2.5 start : \n",
      " 0.0 \n",
      "\n",
      "0.0\n",
      "0.0\n",
      "0.0\n",
      "0.0\n",
      "0.0\n",
      "0.0\n",
      "pm2.5 end ------------\n",
      "9 355 363\n",
      "correct value between  : 5.0 1.0\n",
      "---------- pm2.5 start : \n",
      " 0.0 \n",
      "\n",
      "pm2.5 end ------------\n",
      "9 389 391\n",
      "correct value between  : 2.0 4.0\n",
      "---------- pm2.5 start : \n",
      " 0.0 \n",
      "\n",
      "pm2.5 end ------------\n",
      "9 419 421\n",
      "correct value between  : 3.0 3.0\n",
      "---------- pm2.5 start : \n",
      " 0.0 \n",
      "\n",
      "0.0\n",
      "0.0\n",
      "0.0\n",
      "pm2.5 end ------------\n",
      "9 427 432\n",
      "correct value between  : 1.0 4.0\n",
      "---------- pm2.5 start : \n",
      " 0.0 \n",
      "\n",
      "0.0\n",
      "pm2.5 end ------------\n",
      "9 437 440\n",
      "correct value between  : 9.0 3.0\n",
      "---------- pm2.5 start : \n",
      " 0.0 \n",
      "\n",
      "0.0\n",
      "pm2.5 end ------------\n",
      "9 455 458\n",
      "correct value between  : 9.0 4.0\n",
      "---------- pm2.5 start : \n",
      " 0.0 \n",
      "\n",
      "0.0\n",
      "pm2.5 end ------------\n",
      "9 464 467\n",
      "correct value between  : 4.0 1.0\n",
      "---------- pm2.5 start : \n",
      " 0.0 \n",
      "\n",
      "pm2.5 end ------------\n",
      "9 478 480\n",
      "correct value between  : 9.0 9.0\n",
      " month :  5\n",
      "---------- pm2.5 start : \n",
      " 0.0 \n",
      "\n",
      "0.0\n",
      "pm2.5 end ------------\n",
      "9 58 61\n",
      "correct value between  : 1.0 6.0\n",
      "---------- pm2.5 start : \n",
      " 0.0 \n",
      "\n",
      "pm2.5 end ------------\n",
      "9 65 67\n",
      "correct value between  : 1.0 4.0\n",
      "---------- pm2.5 start : \n",
      " 0.0 \n",
      "\n",
      "pm2.5 end ------------\n",
      "9 74 76\n",
      "correct value between  : 1.0 1.0\n",
      "---------- pm2.5 start : \n",
      " 0.0 \n",
      "\n",
      "pm2.5 end ------------\n",
      "9 98 100\n",
      "correct value between  : 5.0 3.0\n",
      "---------- pm2.5 start : \n",
      " 0.0 \n",
      "\n",
      "0.0\n",
      "0.0\n",
      "0.0\n",
      "0.0\n",
      "0.0\n",
      "pm2.5 end ------------\n",
      "9 145 152\n",
      "correct value between  : 5.0 2.0\n",
      "---------- pm2.5 start : \n",
      " 0.0 \n",
      "\n",
      "pm2.5 end ------------\n",
      "9 161 163\n",
      "correct value between  : 4.0 4.0\n",
      "---------- pm2.5 start : \n",
      " 0.0 \n",
      "\n",
      "pm2.5 end ------------\n",
      "9 172 174\n",
      "correct value between  : 3.0 3.0\n",
      "---------- pm2.5 start : \n",
      " 0.0 \n",
      "\n",
      "0.0\n",
      "pm2.5 end ------------\n",
      "9 176 179\n",
      "correct value between  : 2.0 10.0\n",
      "---------- pm2.5 start : \n",
      " 0.0 \n",
      "\n",
      "0.0\n",
      "0.0\n",
      "0.0\n",
      "pm2.5 end ------------\n",
      "9 196 201\n",
      "correct value between  : 7.0 8.0\n",
      "---------- pm2.5 start : \n",
      " 0.0 \n",
      "\n",
      "0.0\n",
      "0.0\n",
      "pm2.5 end ------------\n",
      "9 239 243\n",
      "correct value between  : 2.0 10.0\n",
      "---------- pm2.5 start : \n",
      " 0.0 \n",
      "\n",
      "0.0\n",
      "0.0\n",
      "0.0\n",
      "pm2.5 end ------------\n",
      "9 264 269\n",
      "correct value between  : 1.0 5.0\n",
      "---------- pm2.5 start : \n",
      " 0.0 \n",
      "\n",
      "0.0\n",
      "0.0\n",
      "0.0\n",
      "0.0\n",
      "pm2.5 end ------------\n",
      "9 315 321\n",
      "correct value between  : 8.0 7.0\n",
      "---------- pm2.5 start : \n",
      " 0.0 \n",
      "\n",
      "0.0\n",
      "pm2.5 end ------------\n",
      "9 361 364\n",
      "correct value between  : 3.0 8.0\n",
      "---------- pm2.5 start : \n",
      " 0.0 \n",
      "\n",
      "pm2.5 end ------------\n",
      "9 401 403\n",
      "correct value between  : 4.0 14.0\n",
      "---------- pm2.5 start : \n",
      " 0.0 \n",
      "\n",
      "pm2.5 end ------------\n",
      "9 457 459\n",
      "correct value between  : 6.0 6.0\n",
      " month :  6\n",
      "---------- pm2.5 start : \n",
      " 0.0 \n",
      "\n",
      "pm2.5 end ------------\n",
      "9 2 4\n",
      "correct value between  : 5.0 3.0\n",
      "---------- pm2.5 start : \n",
      " 0.0 \n",
      "\n",
      "0.0\n",
      "0.0\n",
      "pm2.5 end ------------\n",
      "9 170 174\n",
      "correct value between  : 7.0 4.0\n",
      "---------- pm2.5 start : \n",
      " -1.0 \n",
      "\n",
      "-1.0\n",
      "pm2.5 end ------------\n",
      "9 180 183\n",
      "correct value between  : 20.0 27.0\n",
      "---------- pm2.5 start : \n",
      " 0.0 \n",
      "\n",
      "pm2.5 end ------------\n",
      "9 288 290\n",
      "correct value between  : 9.0 3.0\n",
      " month :  7\n",
      "---------- pm2.5 start : \n",
      " 0.0 \n",
      "\n",
      "pm2.5 end ------------\n",
      "9 68 70\n",
      "correct value between  : 7.0 2.0\n",
      "---------- pm2.5 start : \n",
      " 0.0 \n",
      "\n",
      "pm2.5 end ------------\n",
      "9 74 76\n",
      "correct value between  : 1.0 2.0\n",
      "---------- pm2.5 start : \n",
      " 0.0 \n",
      "\n",
      "pm2.5 end ------------\n",
      "9 108 110\n",
      "correct value between  : 12.0 6.0\n",
      "---------- pm2.5 start : \n",
      " 0.0 \n",
      "\n",
      "pm2.5 end ------------\n",
      "9 230 232\n",
      "correct value between  : 7.0 3.0\n",
      "---------- pm2.5 start : \n",
      " 0.0 \n",
      "\n",
      "0.0\n",
      "pm2.5 end ------------\n",
      "9 260 263\n",
      "correct value between  : 2.0 3.0\n",
      "---------- pm2.5 start : \n",
      " 0.0 \n",
      "\n",
      "pm2.5 end ------------\n",
      "9 408 410\n",
      "correct value between  : 6.0 11.0\n",
      "---------- pm2.5 start : \n",
      " 0.0 \n",
      "\n",
      "0.0\n",
      "0.0\n",
      "0.0\n",
      "pm2.5 end ------------\n",
      "9 429 434\n",
      "correct value between  : 1.0 5.0\n",
      "---------- pm2.5 start : \n",
      " 0.0 \n",
      "\n",
      "pm2.5 end ------------\n",
      "9 459 461\n",
      "correct value between  : 7.0 6.0\n",
      " month :  8\n",
      " month :  9\n",
      "---------- pm2.5 start : \n",
      " 0.0 \n",
      "\n",
      "pm2.5 end ------------\n",
      "9 98 100\n",
      "correct value between  : 9.0 6.0\n",
      "---------- pm2.5 start : \n",
      " 0.0 \n",
      "\n",
      "pm2.5 end ------------\n",
      "9 215 217\n",
      "correct value between  : 2.0 7.0\n",
      "---------- pm2.5 start : \n",
      " 0.0 \n",
      "\n",
      "pm2.5 end ------------\n",
      "9 219 221\n",
      "correct value between  : 8.0 7.0\n",
      " month :  10\n",
      "---------- pm2.5 start : \n",
      " 0.0 \n",
      "\n",
      "pm2.5 end ------------\n",
      "9 197 199\n",
      "correct value between  : 1.0 1.0\n",
      "---------- pm2.5 start : \n",
      " 0.0 \n",
      "\n",
      "pm2.5 end ------------\n",
      "9 210 212\n",
      "correct value between  : 6.0 5.0\n",
      "---------- pm2.5 start : \n",
      " 0.0 \n",
      "\n",
      "0.0\n",
      "0.0\n",
      "0.0\n",
      "0.0\n",
      "0.0\n",
      "0.0\n",
      "pm2.5 end ------------\n",
      "9 216 224\n",
      "correct value between  : 3.0 4.0\n",
      "---------- pm2.5 start : \n",
      " 0.0 \n",
      "\n",
      "pm2.5 end ------------\n",
      "9 244 246\n",
      "correct value between  : 12.0 2.0\n",
      "---------- pm2.5 start : \n",
      " 0.0 \n",
      "\n",
      "pm2.5 end ------------\n",
      "9 275 277\n",
      "correct value between  : 1.0 6.0\n",
      "---------- pm2.5 start : \n",
      " 0.0 \n",
      "\n",
      "pm2.5 end ------------\n",
      "9 315 317\n",
      "correct value between  : 5.0 4.0\n",
      "---------- pm2.5 start : \n",
      " 0.0 \n",
      "\n",
      "0.0\n",
      "0.0\n",
      "pm2.5 end ------------\n",
      "9 340 344\n",
      "correct value between  : 1.0 4.0\n",
      "---------- pm2.5 start : \n",
      " 0.0 \n",
      "\n",
      "pm2.5 end ------------\n",
      "9 346 348\n",
      "correct value between  : 6.0 2.0\n",
      "---------- pm2.5 start : \n",
      " 0.0 \n",
      "\n",
      "0.0\n",
      "0.0\n",
      "0.0\n",
      "0.0\n",
      "pm2.5 end ------------\n",
      "9 358 364\n",
      "correct value between  : 11.0 1.0\n",
      "---------- pm2.5 start : \n",
      " -1.0 \n",
      "\n",
      "-1.0\n",
      "-1.0\n",
      "-1.0\n",
      "-1.0\n",
      "-1.0\n",
      "-1.0\n",
      "-1.0\n",
      "-1.0\n",
      "-1.0\n",
      "-1.0\n",
      "-1.0\n",
      "-1.0\n",
      "-1.0\n",
      "-1.0\n",
      "-1.0\n",
      "-1.0\n",
      "-1.0\n",
      "pm2.5 end ------------\n",
      "9 376 395\n",
      "correct value between  : 18.0 18.0\n",
      "---------- pm2.5 start : \n",
      " 0.0 \n",
      "\n",
      "pm2.5 end ------------\n",
      "9 395 397\n",
      "correct value between  : 18.0 15.0\n",
      "---------- pm2.5 start : \n",
      " 0.0 \n",
      "\n",
      "pm2.5 end ------------\n",
      "9 433 435\n",
      "correct value between  : 3.0 4.0\n",
      "---------- pm2.5 start : \n",
      " 0.0 \n",
      "\n",
      "pm2.5 end ------------\n",
      "9 460 462\n",
      "correct value between  : 2.0 4.0\n",
      " month :  11\n",
      "---------- pm2.5 start : \n",
      " 0.0 \n",
      "\n",
      "0.0\n",
      "pm2.5 end ------------\n",
      "9 7 10\n",
      "correct value between  : 4.0 3.0\n",
      "---------- pm2.5 start : \n",
      " 0.0 \n",
      "\n",
      "pm2.5 end ------------\n",
      "9 25 27\n",
      "correct value between  : 6.0 10.0\n",
      "---------- pm2.5 start : \n",
      " 0.0 \n",
      "\n",
      "0.0\n",
      "0.0\n",
      "0.0\n",
      "0.0\n",
      "0.0\n",
      "0.0\n",
      "0.0\n",
      "0.0\n",
      "0.0\n",
      "0.0\n",
      "0.0\n",
      "pm2.5 end ------------\n",
      "9 74 87\n",
      "correct value between  : 21.0 10.0\n",
      "---------- pm2.5 start : \n",
      " 0.0 \n",
      "\n",
      "0.0\n",
      "pm2.5 end ------------\n",
      "9 121 124\n",
      "correct value between  : 2.0 1.0\n",
      "---------- pm2.5 start : \n",
      " 0.0 \n",
      "\n",
      "0.0\n",
      "0.0\n",
      "pm2.5 end ------------\n",
      "9 149 153\n",
      "correct value between  : 4.0 3.0\n",
      "---------- pm2.5 start : \n",
      " -1.0 \n",
      "\n",
      "-1.0\n",
      "pm2.5 end ------------\n",
      "9 179 182\n",
      "correct value between  : 13.0 7.0\n",
      "---------- pm2.5 start : \n",
      " 0.0 \n",
      "\n",
      "0.0\n",
      "pm2.5 end ------------\n",
      "9 245 248\n",
      "correct value between  : 1.0 1.0\n",
      "---------- pm2.5 start : \n",
      " 0.0 \n",
      "\n",
      "pm2.5 end ------------\n",
      "9 274 276\n",
      "correct value between  : 4.0 1.0\n",
      "---------- pm2.5 start : \n",
      " 0.0 \n",
      "\n",
      "pm2.5 end ------------\n",
      "9 403 405\n",
      "correct value between  : 5.0 6.0\n",
      "---------- pm2.5 start : \n",
      " 0.0 \n",
      "\n",
      "pm2.5 end ------------\n",
      "9 407 409\n",
      "correct value between  : 5.0 2.0\n",
      "---------- pm2.5 start : \n",
      " 0.0 \n",
      "\n",
      "pm2.5 end ------------\n",
      "9 452 454\n",
      "correct value between  : 11.0 7.0\n",
      "---------- pm2.5 start : \n",
      " 0.0 \n",
      "\n",
      "0.0\n",
      "0.0\n",
      "pm2.5 end ------------\n",
      "9 459 463\n",
      "correct value between  : 1.0 2.0\n",
      " month :  0\n",
      "---------- pm2.5 start : \n",
      " -0.9 \n",
      "\n",
      "-0.9\n",
      "-0.9\n",
      "pm2.5 end ------------\n",
      "12 204 208\n",
      "correct value between  : 1.6 1.3\n",
      "---------- pm2.5 start : \n",
      " -0.1 \n",
      "\n",
      "-0.1\n",
      "-0.2\n",
      "-0.3\n",
      "pm2.5 end ------------\n",
      "12 284 289\n",
      "correct value between  : 0.1 1.2\n",
      " month :  1\n",
      "---------- pm2.5 start : \n",
      " -0.2 \n",
      "\n",
      "pm2.5 end ------------\n",
      "12 255 257\n",
      "correct value between  : 1.1 0.3\n",
      " month :  2\n",
      " month :  3\n",
      " month :  4\n",
      " month :  5\n",
      "---------- pm2.5 start : \n",
      " -1.5 \n",
      "\n",
      "pm2.5 end ------------\n",
      "12 109 111\n",
      "correct value between  : 0.2 2.3\n",
      "---------- pm2.5 start : \n",
      " -0.3 \n",
      "\n",
      "-0.2\n",
      "pm2.5 end ------------\n",
      "12 273 276\n",
      "correct value between  : 3.8 2.2\n",
      " month :  6\n",
      " month :  7\n",
      "---------- pm2.5 start : \n",
      " -1.6 \n",
      "\n",
      "pm2.5 end ------------\n",
      "12 158 160\n",
      "correct value between  : 4.3 2.7\n",
      " month :  8\n",
      " month :  9\n",
      " month :  10\n",
      "---------- pm2.5 start : \n",
      " 0.0 \n",
      "\n",
      "0.0\n",
      "-0.2\n",
      "pm2.5 end ------------\n",
      "12 33 37\n",
      "correct value between  : 0.2 0.9\n",
      "---------- pm2.5 start : \n",
      " -0.1 \n",
      "\n",
      "-0.3\n",
      "pm2.5 end ------------\n",
      "12 418 421\n",
      "correct value between  : 0.2 0.3\n",
      " month :  11\n",
      "---------- pm2.5 start : \n",
      " 0.0 \n",
      "\n",
      "-0.2\n",
      "-0.4\n",
      "-0.5\n",
      "pm2.5 end ------------\n",
      "12 139 144\n",
      "correct value between  : 0.2 1.2\n",
      "---------- pm2.5 start : \n",
      " 0.0 \n",
      "\n",
      "-0.3\n",
      "-0.3\n",
      "pm2.5 end ------------\n",
      "12 164 168\n",
      "correct value between  : 0.4 1.1\n",
      "---------- pm2.5 start : \n",
      " -0.2 \n",
      "\n",
      "pm2.5 end ------------\n",
      "12 431 433\n",
      "correct value between  : 2.8 2.0\n",
      " month :  0\n",
      " month :  1\n",
      " month :  2\n",
      " month :  3\n",
      "---------- pm2.5 start : \n",
      " 0.0 \n",
      "\n",
      "0.0\n",
      "pm2.5 end ------------\n",
      "13 177 180\n",
      "correct value between  : 1.9 1.7\n",
      " month :  4\n",
      " month :  5\n",
      "---------- pm2.5 start : \n",
      " 0.0 \n",
      "\n",
      "pm2.5 end ------------\n",
      "13 370 372\n",
      "correct value between  : 1.9 1.8\n",
      " month :  6\n",
      " month :  7\n",
      "---------- pm2.5 start : \n",
      " 0.0 \n",
      "\n",
      "pm2.5 end ------------\n",
      "13 179 181\n"
     ]
    },
    {
     "name": "stdout",
     "output_type": "stream",
     "text": [
      "correct value between  : 2.0 1.9\n",
      "---------- pm2.5 start : \n",
      " 0.0 \n",
      "\n",
      "0.0\n",
      "pm2.5 end ------------\n",
      "13 441 444\n",
      "correct value between  : 2.0 1.9\n",
      " month :  8\n",
      "---------- pm2.5 start : \n",
      " 0.0 \n",
      "\n",
      "pm2.5 end ------------\n",
      "13 105 107\n",
      "correct value between  : 1.8 2.0\n",
      " month :  9\n",
      " month :  10\n",
      " month :  11\n",
      "---------- pm2.5 start : \n",
      " -0.2 \n",
      "\n",
      "-0.2\n",
      "-0.2\n",
      "-0.2\n",
      "-0.2\n",
      "-0.2\n",
      "-0.2\n",
      "-0.2\n",
      "-0.2\n",
      "pm2.5 end ------------\n",
      "13 73 83\n",
      "correct value between  : 2.0 1.9\n"
     ]
    }
   ],
   "source": [
    "for idx in [1, 2, 4, 6, 9, 12, 13]:\n",
    "    for m in range(12):\n",
    "        print(' month : ', m)\n",
    "        i = 0\n",
    "        while i < 480:\n",
    "            if year_data1[m][idx, i] <= 0:\n",
    "                print('---------- pm2.5 start : \\n', year_data1[m][idx, i],\n",
    "                      '\\n')\n",
    "                for k in range(30):\n",
    "                    if k + i + 1 > 479:\n",
    "                        break\n",
    "                    else:\n",
    "                        if year_data1[m][idx, k + i + 1] > 0:\n",
    "                            break\n",
    "                        else:\n",
    "                            print(year_data1[m][idx, k + i + 1])\n",
    "                i = i + k\n",
    "                print('pm2.5 end ------------')\n",
    "                print(idx,i-1-k,i+1)\n",
    "                if year_data1[m][idx, min(i + 1,479)]==0:\n",
    "                    year_data1[m][idx, min(i + 1,479)]=1\n",
    "                if i+1>=480:\n",
    "                    print('correct value between  :',year_data1[m][idx, i - 1 - k], year_data1[m][idx, i - 1 - k])\n",
    "#                     year_data1[m][idx, 479]=year_data1[m][idx, i - 1 - k]\n",
    "                    year_data1[m][idx,i - k:] = year_data1[m][idx, i - 1 - k]\n",
    "                else:\n",
    "                    print('correct value between  :',year_data1[m][idx, i - 1 - k], year_data1[m][idx, i + 1])\n",
    "                ## add correct to mean value\n",
    "                    year_data1[m][idx,i - k:i + 1] = (year_data1[m][idx, i - 1 - k] +year_data1[m][idx, i + 1]) / 2\n",
    "            i = i + 1"
   ]
  },
  {
   "cell_type": "code",
   "execution_count": null,
   "metadata": {
    "collapsed": true
   },
   "outputs": [],
   "source": []
  },
  {
   "cell_type": "code",
   "execution_count": 11,
   "metadata": {
    "ExecuteTime": {
     "end_time": "2022-01-06T08:28:24.585731Z",
     "start_time": "2022-01-06T08:28:24.561729Z"
    },
    "collapsed": true
   },
   "outputs": [],
   "source": [
    "month_list=[]\n",
    "for i in range(12):\n",
    "    month_list.append(pd.DataFrame(year_data1[i]))\n",
    "all_train_data1=pd.concat(month_list,axis=1).T"
   ]
  },
  {
   "cell_type": "code",
   "execution_count": 22,
   "metadata": {
    "ExecuteTime": {
     "end_time": "2022-01-06T08:31:13.371385Z",
     "start_time": "2022-01-06T08:31:13.363384Z"
    },
    "collapsed": true
   },
   "outputs": [],
   "source": [
    "from scipy.stats import boxcox,boxcox_normmax\n",
    "from scipy.special import boxcox1p"
   ]
  },
  {
   "cell_type": "code",
   "execution_count": 23,
   "metadata": {
    "ExecuteTime": {
     "end_time": "2022-01-06T08:31:15.262493Z",
     "start_time": "2022-01-06T08:31:15.019479Z"
    }
   },
   "outputs": [
    {
     "name": "stdout",
     "output_type": "stream",
     "text": [
      "0 --skew :  -0.2834134242907861 --kurt :  -0.7968009844193018\n",
      "lambda :  1.461645538288768\n",
      "0 --skew :  -0.07414275326700835 --kurt :  -0.9258821506244836\n",
      "--------------------------------------------------------------------\n",
      "1 --skew :  0.012533992778003633 --kurt :  -0.587252860997554\n",
      "lambda :  0.8920982850249821\n",
      "1 --skew :  0.005496794798210646 --kurt :  -0.5911686671270657\n",
      "--------------------------------------------------------------------\n",
      "2 --skew :  9.165303973318487 --kurt :  132.25692190213024\n",
      "lambda :  -3.259330902857795\n",
      "2 --skew :  -0.003907562716963148 --kurt :  -0.06972890461562153\n",
      "--------------------------------------------------------------------\n",
      "3 --skew :  2.172048918138678 --kurt :  8.458548044518952\n",
      "lambda :  -6.182620739009405\n",
      "3 --skew :  0.05859262861967747 --kurt :  -0.5568735662256521\n",
      "--------------------------------------------------------------------\n",
      "4 --skew :  5.381555433985442 --kurt :  41.286157239228515\n",
      "lambda :  -0.8099547985075456\n",
      "4 --skew :  -0.0288449315484698 --kurt :  0.39638836819653456\n",
      "--------------------------------------------------------------------\n",
      "5 --skew :  1.6391191931961593 --kurt :  3.8457481859587697\n",
      "lambda :  0.003516830957090046\n",
      "5 --skew :  0.013408365980071172 --kurt :  0.19498206467320722\n",
      "--------------------------------------------------------------------\n",
      "6 --skew :  2.071649558193799 --kurt :  6.419180514549189\n",
      "lambda :  -0.1942146862014387\n",
      "6 --skew :  -0.002404565434079636 --kurt :  0.0440333018723158\n",
      "--------------------------------------------------------------------\n",
      "7 --skew :  1.3121217461933794 --kurt :  5.2975502420733696\n",
      "lambda :  0.41482616104608666\n",
      "7 --skew :  0.006751929748339162 --kurt :  0.28627689522357613\n",
      "--------------------------------------------------------------------\n",
      "8 --skew :  1.103678593463204 --kurt :  1.7728459308764268\n",
      "lambda :  0.4477248234931694\n",
      "8 --skew :  0.02201672862987185 --kurt :  0.1603650294853538\n",
      "--------------------------------------------------------------------\n",
      "9 --skew :  1.335499824520679 --kurt :  2.2557670616820547\n",
      "lambda :  0.4477248234931694\n",
      "9 --skew :  0.3459306021760701 --kurt :  -0.15188539199946405\n",
      "--------------------------------------------------------------------\n",
      "10 --skew :  21.7839204262489 --kurt :  623.8917732792679\n",
      "lambda :  -6.186399577904084\n",
      "10 --skew :  3.759158275003242 --kurt :  12.400036693306454\n",
      "--------------------------------------------------------------------\n",
      "11 --skew :  -0.6050425772235472 --kurt :  -0.1979575284081454\n",
      "lambda :  2.4338353657960474\n",
      "11 --skew :  -0.07298225942919347 --kurt :  -0.8136949843530794\n",
      "--------------------------------------------------------------------\n",
      "12 --skew :  2.18412861180394 --kurt :  8.346261164523817\n",
      "lambda :  -0.25929145151826455\n",
      "12 --skew :  0.02127381309777997 --kurt :  0.5061524134537358\n",
      "--------------------------------------------------------------------\n",
      "13 --skew :  1.190894395086798 --kurt :  3.473842823041667\n",
      "lambda :  -4.105227071965199\n",
      "13 --skew :  0.057344526969301465 --kurt :  0.1759812538174419\n",
      "--------------------------------------------------------------------\n",
      "14 --skew :  0.5569055078560654 --kurt :  -0.9777533530993172\n",
      "lambda :  0.3417183305204095\n",
      "14 --skew :  -0.11116266544173034 --kurt :  -0.5747813166565554\n",
      "--------------------------------------------------------------------\n",
      "15 --skew :  0.5166061431100419 --kurt :  -1.0455161114586577\n",
      "lambda :  0.31039132586722773\n",
      "15 --skew :  -0.12154909027070926 --kurt :  -0.6493410942779887\n",
      "--------------------------------------------------------------------\n",
      "16 --skew :  0.9251663396039612 --kurt :  1.023738040336486\n",
      "lambda :  -0.14707046206981406\n",
      "16 --skew :  0.016664314785999827 --kurt :  -0.4468770575550054\n",
      "--------------------------------------------------------------------\n",
      "17 --skew :  1.0990996760341267 --kurt :  1.2102189438217152\n",
      "lambda :  -0.2521218322454977\n",
      "17 --skew :  0.012020490427854405 --kurt :  -0.5440498606314681\n",
      "--------------------------------------------------------------------\n"
     ]
    }
   ],
   "source": [
    "all_train_data2=pd.DataFrame()\n",
    "for i in range(all_train_data1.shape[1]):\n",
    "    if i != 9:\n",
    "        lm=boxcox_normmax(all_train_data1[i]+1)\n",
    "        all_train_data2[i]=boxcox1p(all_train_data1[i],lm)\n",
    "    else:\n",
    "        all_train_data2[i]=np.sqrt(all_train_data1[i])\n",
    "        \n",
    "    \n",
    "    print(all_train_data1.index[i],'--skew : ',all_train_data1[i].skew(),'--kurt : ',all_train_data1[i].kurt())\n",
    "    print('lambda : ',lm)\n",
    "    print(all_train_data2.index[i],'--skew : ',all_train_data2[i].skew(),'--kurt : ',all_train_data2[i].kurt())\n",
    "    print('--------------------------------------------------------------------')"
   ]
  },
  {
   "cell_type": "code",
   "execution_count": 16,
   "metadata": {
    "ExecuteTime": {
     "end_time": "2022-01-06T08:28:30.436065Z",
     "start_time": "2022-01-06T08:28:30.427065Z"
    },
    "collapsed": true
   },
   "outputs": [],
   "source": [
    "# all_train_data3=pd.DataFrame()\n",
    "# for i in range(all_train_data2.shape[1]):\n",
    "#     if i!=9:\n",
    "#         all_train_data3[i]=(all_train_data2[i] - all_train_data2[i].mean()) / all_train_data2[i].std()\n",
    "#     else:\n",
    "#         all_train_data3[i]=all_train_data2[i]"
   ]
  },
  {
   "cell_type": "code",
   "execution_count": 24,
   "metadata": {
    "ExecuteTime": {
     "end_time": "2022-01-06T08:31:29.309296Z",
     "start_time": "2022-01-06T08:31:29.232292Z"
    }
   },
   "outputs": [
    {
     "data": {
      "text/html": [
       "<div>\n",
       "<style>\n",
       "    .dataframe thead tr:only-child th {\n",
       "        text-align: right;\n",
       "    }\n",
       "\n",
       "    .dataframe thead th {\n",
       "        text-align: left;\n",
       "    }\n",
       "\n",
       "    .dataframe tbody tr th {\n",
       "        vertical-align: top;\n",
       "    }\n",
       "</style>\n",
       "<table border=\"1\" class=\"dataframe\">\n",
       "  <thead>\n",
       "    <tr style=\"text-align: right;\">\n",
       "      <th></th>\n",
       "      <th>0</th>\n",
       "      <th>1</th>\n",
       "      <th>2</th>\n",
       "      <th>3</th>\n",
       "      <th>4</th>\n",
       "      <th>5</th>\n",
       "      <th>6</th>\n",
       "      <th>7</th>\n",
       "      <th>8</th>\n",
       "      <th>9</th>\n",
       "      <th>10</th>\n",
       "      <th>11</th>\n",
       "      <th>12</th>\n",
       "      <th>13</th>\n",
       "      <th>14</th>\n",
       "      <th>15</th>\n",
       "      <th>16</th>\n",
       "      <th>17</th>\n",
       "    </tr>\n",
       "  </thead>\n",
       "  <tbody>\n",
       "    <tr>\n",
       "      <th>count</th>\n",
       "      <td>5760.000000</td>\n",
       "      <td>5760.000000</td>\n",
       "      <td>5760.000000</td>\n",
       "      <td>5760.000000</td>\n",
       "      <td>5760.000000</td>\n",
       "      <td>5760.000000</td>\n",
       "      <td>5760.000000</td>\n",
       "      <td>5760.000000</td>\n",
       "      <td>5760.000000</td>\n",
       "      <td>5760.000000</td>\n",
       "      <td>5760.000000</td>\n",
       "      <td>5760.000000</td>\n",
       "      <td>5760.000000</td>\n",
       "      <td>5760.000000</td>\n",
       "      <td>5760.000000</td>\n",
       "      <td>5760.000000</td>\n",
       "      <td>5760.000000</td>\n",
       "      <td>5760.000000</td>\n",
       "    </tr>\n",
       "    <tr>\n",
       "      <th>mean</th>\n",
       "      <td>70.426493</td>\n",
       "      <td>1.604398</td>\n",
       "      <td>0.186377</td>\n",
       "      <td>0.079806</td>\n",
       "      <td>0.664179</td>\n",
       "      <td>2.283694</td>\n",
       "      <td>1.937404</td>\n",
       "      <td>7.449352</td>\n",
       "      <td>9.327724</td>\n",
       "      <td>4.334282</td>\n",
       "      <td>0.008977</td>\n",
       "      <td>15482.226219</td>\n",
       "      <td>1.041644</td>\n",
       "      <td>0.240173</td>\n",
       "      <td>12.803597</td>\n",
       "      <td>11.687312</td>\n",
       "      <td>1.046624</td>\n",
       "      <td>0.813470</td>\n",
       "    </tr>\n",
       "    <tr>\n",
       "      <th>std</th>\n",
       "      <td>25.536335</td>\n",
       "      <td>0.075221</td>\n",
       "      <td>0.041562</td>\n",
       "      <td>0.032614</td>\n",
       "      <td>0.170238</td>\n",
       "      <td>0.523410</td>\n",
       "      <td>0.306804</td>\n",
       "      <td>2.431622</td>\n",
       "      <td>3.291614</td>\n",
       "      <td>1.716322</td>\n",
       "      <td>0.035324</td>\n",
       "      <td>6063.422584</td>\n",
       "      <td>0.296484</td>\n",
       "      <td>0.000672</td>\n",
       "      <td>3.602422</td>\n",
       "      <td>3.020925</td>\n",
       "      <td>0.263948</td>\n",
       "      <td>0.292340</td>\n",
       "    </tr>\n",
       "    <tr>\n",
       "      <th>min</th>\n",
       "      <td>12.833239</td>\n",
       "      <td>1.417616</td>\n",
       "      <td>0.068067</td>\n",
       "      <td>0.000000</td>\n",
       "      <td>0.091724</td>\n",
       "      <td>0.000000</td>\n",
       "      <td>0.769032</td>\n",
       "      <td>0.000000</td>\n",
       "      <td>0.000000</td>\n",
       "      <td>1.000000</td>\n",
       "      <td>0.000000</td>\n",
       "      <td>1616.845054</td>\n",
       "      <td>0.094142</td>\n",
       "      <td>0.237929</td>\n",
       "      <td>0.096879</td>\n",
       "      <td>0.000000</td>\n",
       "      <td>0.000000</td>\n",
       "      <td>0.000000</td>\n",
       "    </tr>\n",
       "    <tr>\n",
       "      <th>25%</th>\n",
       "      <td>49.926550</td>\n",
       "      <td>1.508009</td>\n",
       "      <td>0.158556</td>\n",
       "      <td>0.055291</td>\n",
       "      <td>0.557687</td>\n",
       "      <td>1.938097</td>\n",
       "      <td>1.735287</td>\n",
       "      <td>5.766358</td>\n",
       "      <td>7.204513</td>\n",
       "      <td>3.000000</td>\n",
       "      <td>0.000000</td>\n",
       "      <td>10617.557930</td>\n",
       "      <td>0.846343</td>\n",
       "      <td>0.239463</td>\n",
       "      <td>9.751980</td>\n",
       "      <td>9.184518</td>\n",
       "      <td>0.857234</td>\n",
       "      <td>0.592611</td>\n",
       "    </tr>\n",
       "    <tr>\n",
       "      <th>50%</th>\n",
       "      <td>70.525274</td>\n",
       "      <td>1.598028</td>\n",
       "      <td>0.188618</td>\n",
       "      <td>0.076901</td>\n",
       "      <td>0.665221</td>\n",
       "      <td>2.270782</td>\n",
       "      <td>1.916995</td>\n",
       "      <td>7.472206</td>\n",
       "      <td>9.283713</td>\n",
       "      <td>4.242641</td>\n",
       "      <td>0.000000</td>\n",
       "      <td>15534.166404</td>\n",
       "      <td>1.026800</td>\n",
       "      <td>0.240036</td>\n",
       "      <td>12.099014</td>\n",
       "      <td>11.107693</td>\n",
       "      <td>1.042283</td>\n",
       "      <td>0.818152</td>\n",
       "    </tr>\n",
       "    <tr>\n",
       "      <th>75%</th>\n",
       "      <td>88.521007</td>\n",
       "      <td>1.687688</td>\n",
       "      <td>0.215417</td>\n",
       "      <td>0.103613</td>\n",
       "      <td>0.765212</td>\n",
       "      <td>2.651342</td>\n",
       "      <td>2.143833</td>\n",
       "      <td>9.063998</td>\n",
       "      <td>11.523345</td>\n",
       "      <td>5.477226</td>\n",
       "      <td>0.000000</td>\n",
       "      <td>20398.022735</td>\n",
       "      <td>1.230209</td>\n",
       "      <td>0.240513</td>\n",
       "      <td>15.383128</td>\n",
       "      <td>13.963600</td>\n",
       "      <td>1.233421</td>\n",
       "      <td>1.030980</td>\n",
       "    </tr>\n",
       "    <tr>\n",
       "      <th>max</th>\n",
       "      <td>133.380091</td>\n",
       "      <td>1.865986</td>\n",
       "      <td>0.306532</td>\n",
       "      <td>0.160805</td>\n",
       "      <td>1.160089</td>\n",
       "      <td>3.876332</td>\n",
       "      <td>2.905076</td>\n",
       "      <td>20.678088</td>\n",
       "      <td>20.721569</td>\n",
       "      <td>10.583005</td>\n",
       "      <td>0.161645</td>\n",
       "      <td>30295.187454</td>\n",
       "      <td>2.146147</td>\n",
       "      <td>0.242770</td>\n",
       "      <td>18.965279</td>\n",
       "      <td>16.819218</td>\n",
       "      <td>1.852950</td>\n",
       "      <td>1.618322</td>\n",
       "    </tr>\n",
       "  </tbody>\n",
       "</table>\n",
       "</div>"
      ],
      "text/plain": [
       "                0            1            2            3            4   \\\n",
       "count  5760.000000  5760.000000  5760.000000  5760.000000  5760.000000   \n",
       "mean     70.426493     1.604398     0.186377     0.079806     0.664179   \n",
       "std      25.536335     0.075221     0.041562     0.032614     0.170238   \n",
       "min      12.833239     1.417616     0.068067     0.000000     0.091724   \n",
       "25%      49.926550     1.508009     0.158556     0.055291     0.557687   \n",
       "50%      70.525274     1.598028     0.188618     0.076901     0.665221   \n",
       "75%      88.521007     1.687688     0.215417     0.103613     0.765212   \n",
       "max     133.380091     1.865986     0.306532     0.160805     1.160089   \n",
       "\n",
       "                5            6            7            8            9   \\\n",
       "count  5760.000000  5760.000000  5760.000000  5760.000000  5760.000000   \n",
       "mean      2.283694     1.937404     7.449352     9.327724     4.334282   \n",
       "std       0.523410     0.306804     2.431622     3.291614     1.716322   \n",
       "min       0.000000     0.769032     0.000000     0.000000     1.000000   \n",
       "25%       1.938097     1.735287     5.766358     7.204513     3.000000   \n",
       "50%       2.270782     1.916995     7.472206     9.283713     4.242641   \n",
       "75%       2.651342     2.143833     9.063998    11.523345     5.477226   \n",
       "max       3.876332     2.905076    20.678088    20.721569    10.583005   \n",
       "\n",
       "                10            11           12           13           14  \\\n",
       "count  5760.000000   5760.000000  5760.000000  5760.000000  5760.000000   \n",
       "mean      0.008977  15482.226219     1.041644     0.240173    12.803597   \n",
       "std       0.035324   6063.422584     0.296484     0.000672     3.602422   \n",
       "min       0.000000   1616.845054     0.094142     0.237929     0.096879   \n",
       "25%       0.000000  10617.557930     0.846343     0.239463     9.751980   \n",
       "50%       0.000000  15534.166404     1.026800     0.240036    12.099014   \n",
       "75%       0.000000  20398.022735     1.230209     0.240513    15.383128   \n",
       "max       0.161645  30295.187454     2.146147     0.242770    18.965279   \n",
       "\n",
       "                15           16           17  \n",
       "count  5760.000000  5760.000000  5760.000000  \n",
       "mean     11.687312     1.046624     0.813470  \n",
       "std       3.020925     0.263948     0.292340  \n",
       "min       0.000000     0.000000     0.000000  \n",
       "25%       9.184518     0.857234     0.592611  \n",
       "50%      11.107693     1.042283     0.818152  \n",
       "75%      13.963600     1.233421     1.030980  \n",
       "max      16.819218     1.852950     1.618322  "
      ]
     },
     "execution_count": 24,
     "metadata": {},
     "output_type": "execute_result"
    }
   ],
   "source": [
    "all_train_data2.describe()"
   ]
  },
  {
   "cell_type": "code",
   "execution_count": 25,
   "metadata": {
    "ExecuteTime": {
     "end_time": "2022-01-06T08:31:43.749122Z",
     "start_time": "2022-01-06T08:31:43.720120Z"
    }
   },
   "outputs": [],
   "source": [
    "all_train_data3=pd.DataFrame()\n",
    "for i in range(all_train_data2.shape[1]):\n",
    "        all_train_data3[i]=(all_train_data2[i] - all_train_data2[i].mean()) / all_train_data2[i].std()"
   ]
  },
  {
   "cell_type": "code",
   "execution_count": 50,
   "metadata": {
    "ExecuteTime": {
     "end_time": "2022-01-06T09:21:58.597562Z",
     "start_time": "2022-01-06T09:21:58.527558Z"
    }
   },
   "outputs": [
    {
     "data": {
      "text/html": [
       "<div>\n",
       "<style>\n",
       "    .dataframe thead tr:only-child th {\n",
       "        text-align: right;\n",
       "    }\n",
       "\n",
       "    .dataframe thead th {\n",
       "        text-align: left;\n",
       "    }\n",
       "\n",
       "    .dataframe tbody tr th {\n",
       "        vertical-align: top;\n",
       "    }\n",
       "</style>\n",
       "<table border=\"1\" class=\"dataframe\">\n",
       "  <thead>\n",
       "    <tr style=\"text-align: right;\">\n",
       "      <th></th>\n",
       "      <th>0</th>\n",
       "      <th>1</th>\n",
       "      <th>2</th>\n",
       "      <th>3</th>\n",
       "      <th>4</th>\n",
       "      <th>5</th>\n",
       "      <th>6</th>\n",
       "      <th>7</th>\n",
       "      <th>8</th>\n",
       "      <th>9</th>\n",
       "      <th>10</th>\n",
       "      <th>11</th>\n",
       "      <th>12</th>\n",
       "      <th>13</th>\n",
       "      <th>14</th>\n",
       "      <th>15</th>\n",
       "      <th>16</th>\n",
       "      <th>17</th>\n",
       "    </tr>\n",
       "  </thead>\n",
       "  <tbody>\n",
       "    <tr>\n",
       "      <th>count</th>\n",
       "      <td>5760.000000</td>\n",
       "      <td>5760.000000</td>\n",
       "      <td>5760.000000</td>\n",
       "      <td>5760.000000</td>\n",
       "      <td>5760.000000</td>\n",
       "      <td>5760.000000</td>\n",
       "      <td>5760.000000</td>\n",
       "      <td>5760.000000</td>\n",
       "      <td>5760.000000</td>\n",
       "      <td>5760.000000</td>\n",
       "      <td>5760.000000</td>\n",
       "      <td>5760.000000</td>\n",
       "      <td>5760.00000</td>\n",
       "      <td>5760.000000</td>\n",
       "      <td>5760.000000</td>\n",
       "      <td>5760.000000</td>\n",
       "      <td>5760.000000</td>\n",
       "      <td>5760.000000</td>\n",
       "    </tr>\n",
       "    <tr>\n",
       "      <th>mean</th>\n",
       "      <td>22.610382</td>\n",
       "      <td>1.707231</td>\n",
       "      <td>0.388436</td>\n",
       "      <td>0.140427</td>\n",
       "      <td>2.137483</td>\n",
       "      <td>10.125990</td>\n",
       "      <td>12.254115</td>\n",
       "      <td>31.905469</td>\n",
       "      <td>42.709201</td>\n",
       "      <td>21.731250</td>\n",
       "      <td>0.200625</td>\n",
       "      <td>73.229167</td>\n",
       "      <td>2.76967</td>\n",
       "      <td>1.845304</td>\n",
       "      <td>156.329271</td>\n",
       "      <td>158.482795</td>\n",
       "      <td>2.297240</td>\n",
       "      <td>1.712760</td>\n",
       "    </tr>\n",
       "    <tr>\n",
       "      <th>std</th>\n",
       "      <td>6.062216</td>\n",
       "      <td>0.083752</td>\n",
       "      <td>0.323505</td>\n",
       "      <td>0.104645</td>\n",
       "      <td>2.281195</td>\n",
       "      <td>6.187555</td>\n",
       "      <td>7.571422</td>\n",
       "      <td>18.703486</td>\n",
       "      <td>26.222292</td>\n",
       "      <td>16.361366</td>\n",
       "      <td>2.045443</td>\n",
       "      <td>13.361351</td>\n",
       "      <td>1.80898</td>\n",
       "      <td>0.149816</td>\n",
       "      <td>95.745881</td>\n",
       "      <td>94.697432</td>\n",
       "      <td>1.065408</td>\n",
       "      <td>1.062683</td>\n",
       "    </tr>\n",
       "    <tr>\n",
       "      <th>min</th>\n",
       "      <td>6.700000</td>\n",
       "      <td>1.500000</td>\n",
       "      <td>0.080000</td>\n",
       "      <td>0.000000</td>\n",
       "      <td>0.100000</td>\n",
       "      <td>0.000000</td>\n",
       "      <td>1.300000</td>\n",
       "      <td>0.000000</td>\n",
       "      <td>0.000000</td>\n",
       "      <td>1.000000</td>\n",
       "      <td>0.000000</td>\n",
       "      <td>29.000000</td>\n",
       "      <td>0.10000</td>\n",
       "      <td>1.500000</td>\n",
       "      <td>0.100000</td>\n",
       "      <td>0.000000</td>\n",
       "      <td>0.000000</td>\n",
       "      <td>0.000000</td>\n",
       "    </tr>\n",
       "    <tr>\n",
       "      <th>25%</th>\n",
       "      <td>18.000000</td>\n",
       "      <td>1.600000</td>\n",
       "      <td>0.250000</td>\n",
       "      <td>0.070000</td>\n",
       "      <td>1.100000</td>\n",
       "      <td>5.900000</td>\n",
       "      <td>7.300000</td>\n",
       "      <td>18.000000</td>\n",
       "      <td>24.000000</td>\n",
       "      <td>9.000000</td>\n",
       "      <td>0.000000</td>\n",
       "      <td>64.000000</td>\n",
       "      <td>1.60000</td>\n",
       "      <td>1.700000</td>\n",
       "      <td>72.000000</td>\n",
       "      <td>76.000000</td>\n",
       "      <td>1.500000</td>\n",
       "      <td>0.900000</td>\n",
       "    </tr>\n",
       "    <tr>\n",
       "      <th>50%</th>\n",
       "      <td>23.000000</td>\n",
       "      <td>1.700000</td>\n",
       "      <td>0.340000</td>\n",
       "      <td>0.110000</td>\n",
       "      <td>1.600000</td>\n",
       "      <td>8.600000</td>\n",
       "      <td>10.000000</td>\n",
       "      <td>29.000000</td>\n",
       "      <td>38.000000</td>\n",
       "      <td>18.000000</td>\n",
       "      <td>0.000000</td>\n",
       "      <td>75.000000</td>\n",
       "      <td>2.30000</td>\n",
       "      <td>1.800000</td>\n",
       "      <td>119.000000</td>\n",
       "      <td>121.500000</td>\n",
       "      <td>2.100000</td>\n",
       "      <td>1.500000</td>\n",
       "    </tr>\n",
       "    <tr>\n",
       "      <th>75%</th>\n",
       "      <td>27.000000</td>\n",
       "      <td>1.800000</td>\n",
       "      <td>0.450000</td>\n",
       "      <td>0.180000</td>\n",
       "      <td>2.300000</td>\n",
       "      <td>13.000000</td>\n",
       "      <td>15.000000</td>\n",
       "      <td>42.000000</td>\n",
       "      <td>57.000000</td>\n",
       "      <td>30.000000</td>\n",
       "      <td>0.000000</td>\n",
       "      <td>84.000000</td>\n",
       "      <td>3.40000</td>\n",
       "      <td>1.900000</td>\n",
       "      <td>213.000000</td>\n",
       "      <td>219.000000</td>\n",
       "      <td>2.900000</td>\n",
       "      <td>2.300000</td>\n",
       "    </tr>\n",
       "    <tr>\n",
       "      <th>max</th>\n",
       "      <td>36.000000</td>\n",
       "      <td>2.000000</td>\n",
       "      <td>7.570000</td>\n",
       "      <td>1.300000</td>\n",
       "      <td>31.000000</td>\n",
       "      <td>46.000000</td>\n",
       "      <td>71.000000</td>\n",
       "      <td>231.000000</td>\n",
       "      <td>181.000000</td>\n",
       "      <td>112.000000</td>\n",
       "      <td>74.000000</td>\n",
       "      <td>99.000000</td>\n",
       "      <td>22.00000</td>\n",
       "      <td>3.000000</td>\n",
       "      <td>360.000000</td>\n",
       "      <td>360.000000</td>\n",
       "      <td>7.700000</td>\n",
       "      <td>7.000000</td>\n",
       "    </tr>\n",
       "  </tbody>\n",
       "</table>\n",
       "</div>"
      ],
      "text/plain": [
       "                0            1            2            3            4   \\\n",
       "count  5760.000000  5760.000000  5760.000000  5760.000000  5760.000000   \n",
       "mean     22.610382     1.707231     0.388436     0.140427     2.137483   \n",
       "std       6.062216     0.083752     0.323505     0.104645     2.281195   \n",
       "min       6.700000     1.500000     0.080000     0.000000     0.100000   \n",
       "25%      18.000000     1.600000     0.250000     0.070000     1.100000   \n",
       "50%      23.000000     1.700000     0.340000     0.110000     1.600000   \n",
       "75%      27.000000     1.800000     0.450000     0.180000     2.300000   \n",
       "max      36.000000     2.000000     7.570000     1.300000    31.000000   \n",
       "\n",
       "                5            6            7            8            9   \\\n",
       "count  5760.000000  5760.000000  5760.000000  5760.000000  5760.000000   \n",
       "mean     10.125990    12.254115    31.905469    42.709201    21.731250   \n",
       "std       6.187555     7.571422    18.703486    26.222292    16.361366   \n",
       "min       0.000000     1.300000     0.000000     0.000000     1.000000   \n",
       "25%       5.900000     7.300000    18.000000    24.000000     9.000000   \n",
       "50%       8.600000    10.000000    29.000000    38.000000    18.000000   \n",
       "75%      13.000000    15.000000    42.000000    57.000000    30.000000   \n",
       "max      46.000000    71.000000   231.000000   181.000000   112.000000   \n",
       "\n",
       "                10           11          12           13           14  \\\n",
       "count  5760.000000  5760.000000  5760.00000  5760.000000  5760.000000   \n",
       "mean      0.200625    73.229167     2.76967     1.845304   156.329271   \n",
       "std       2.045443    13.361351     1.80898     0.149816    95.745881   \n",
       "min       0.000000    29.000000     0.10000     1.500000     0.100000   \n",
       "25%       0.000000    64.000000     1.60000     1.700000    72.000000   \n",
       "50%       0.000000    75.000000     2.30000     1.800000   119.000000   \n",
       "75%       0.000000    84.000000     3.40000     1.900000   213.000000   \n",
       "max      74.000000    99.000000    22.00000     3.000000   360.000000   \n",
       "\n",
       "                15           16           17  \n",
       "count  5760.000000  5760.000000  5760.000000  \n",
       "mean    158.482795     2.297240     1.712760  \n",
       "std      94.697432     1.065408     1.062683  \n",
       "min       0.000000     0.000000     0.000000  \n",
       "25%      76.000000     1.500000     0.900000  \n",
       "50%     121.500000     2.100000     1.500000  \n",
       "75%     219.000000     2.900000     2.300000  \n",
       "max     360.000000     7.700000     7.000000  "
      ]
     },
     "execution_count": 50,
     "metadata": {},
     "output_type": "execute_result"
    }
   ],
   "source": [
    "all_train_data1.describe()"
   ]
  },
  {
   "cell_type": "code",
   "execution_count": 27,
   "metadata": {
    "ExecuteTime": {
     "end_time": "2022-01-06T08:32:55.610232Z",
     "start_time": "2022-01-06T08:32:55.533228Z"
    }
   },
   "outputs": [
    {
     "data": {
      "text/html": [
       "<div>\n",
       "<style>\n",
       "    .dataframe thead tr:only-child th {\n",
       "        text-align: right;\n",
       "    }\n",
       "\n",
       "    .dataframe thead th {\n",
       "        text-align: left;\n",
       "    }\n",
       "\n",
       "    .dataframe tbody tr th {\n",
       "        vertical-align: top;\n",
       "    }\n",
       "</style>\n",
       "<table border=\"1\" class=\"dataframe\">\n",
       "  <thead>\n",
       "    <tr style=\"text-align: right;\">\n",
       "      <th></th>\n",
       "      <th>0</th>\n",
       "      <th>1</th>\n",
       "      <th>2</th>\n",
       "      <th>3</th>\n",
       "      <th>4</th>\n",
       "      <th>5</th>\n",
       "      <th>6</th>\n",
       "      <th>7</th>\n",
       "      <th>8</th>\n",
       "      <th>9</th>\n",
       "      <th>10</th>\n",
       "      <th>11</th>\n",
       "      <th>12</th>\n",
       "      <th>13</th>\n",
       "      <th>14</th>\n",
       "      <th>15</th>\n",
       "      <th>16</th>\n",
       "      <th>17</th>\n",
       "    </tr>\n",
       "  </thead>\n",
       "  <tbody>\n",
       "    <tr>\n",
       "      <th>count</th>\n",
       "      <td>5760.000000</td>\n",
       "      <td>5760.000000</td>\n",
       "      <td>5760.000000</td>\n",
       "      <td>5760.000000</td>\n",
       "      <td>5760.000000</td>\n",
       "      <td>5760.000000</td>\n",
       "      <td>5760.000000</td>\n",
       "      <td>5760.000000</td>\n",
       "      <td>5760.000000</td>\n",
       "      <td>5760.000000</td>\n",
       "      <td>5760.000000</td>\n",
       "      <td>5760.000000</td>\n",
       "      <td>5760.000000</td>\n",
       "      <td>5760.000000</td>\n",
       "      <td>5760.000000</td>\n",
       "      <td>5760.000000</td>\n",
       "      <td>5760.000000</td>\n",
       "      <td>5760.000000</td>\n",
       "    </tr>\n",
       "    <tr>\n",
       "      <th>mean</th>\n",
       "      <td>70.426493</td>\n",
       "      <td>1.604398</td>\n",
       "      <td>0.186377</td>\n",
       "      <td>0.079806</td>\n",
       "      <td>0.664179</td>\n",
       "      <td>2.283694</td>\n",
       "      <td>1.937404</td>\n",
       "      <td>7.449352</td>\n",
       "      <td>9.327724</td>\n",
       "      <td>4.334282</td>\n",
       "      <td>0.008977</td>\n",
       "      <td>15482.226219</td>\n",
       "      <td>1.041644</td>\n",
       "      <td>0.240173</td>\n",
       "      <td>12.803597</td>\n",
       "      <td>11.687312</td>\n",
       "      <td>1.046624</td>\n",
       "      <td>0.813470</td>\n",
       "    </tr>\n",
       "    <tr>\n",
       "      <th>std</th>\n",
       "      <td>25.536335</td>\n",
       "      <td>0.075221</td>\n",
       "      <td>0.041562</td>\n",
       "      <td>0.032614</td>\n",
       "      <td>0.170238</td>\n",
       "      <td>0.523410</td>\n",
       "      <td>0.306804</td>\n",
       "      <td>2.431622</td>\n",
       "      <td>3.291614</td>\n",
       "      <td>1.716322</td>\n",
       "      <td>0.035324</td>\n",
       "      <td>6063.422584</td>\n",
       "      <td>0.296484</td>\n",
       "      <td>0.000672</td>\n",
       "      <td>3.602422</td>\n",
       "      <td>3.020925</td>\n",
       "      <td>0.263948</td>\n",
       "      <td>0.292340</td>\n",
       "    </tr>\n",
       "    <tr>\n",
       "      <th>min</th>\n",
       "      <td>12.833239</td>\n",
       "      <td>1.417616</td>\n",
       "      <td>0.068067</td>\n",
       "      <td>0.000000</td>\n",
       "      <td>0.091724</td>\n",
       "      <td>0.000000</td>\n",
       "      <td>0.769032</td>\n",
       "      <td>0.000000</td>\n",
       "      <td>0.000000</td>\n",
       "      <td>1.000000</td>\n",
       "      <td>0.000000</td>\n",
       "      <td>1616.845054</td>\n",
       "      <td>0.094142</td>\n",
       "      <td>0.237929</td>\n",
       "      <td>0.096879</td>\n",
       "      <td>0.000000</td>\n",
       "      <td>0.000000</td>\n",
       "      <td>0.000000</td>\n",
       "    </tr>\n",
       "    <tr>\n",
       "      <th>25%</th>\n",
       "      <td>49.926550</td>\n",
       "      <td>1.508009</td>\n",
       "      <td>0.158556</td>\n",
       "      <td>0.055291</td>\n",
       "      <td>0.557687</td>\n",
       "      <td>1.938097</td>\n",
       "      <td>1.735287</td>\n",
       "      <td>5.766358</td>\n",
       "      <td>7.204513</td>\n",
       "      <td>3.000000</td>\n",
       "      <td>0.000000</td>\n",
       "      <td>10617.557930</td>\n",
       "      <td>0.846343</td>\n",
       "      <td>0.239463</td>\n",
       "      <td>9.751980</td>\n",
       "      <td>9.184518</td>\n",
       "      <td>0.857234</td>\n",
       "      <td>0.592611</td>\n",
       "    </tr>\n",
       "    <tr>\n",
       "      <th>50%</th>\n",
       "      <td>70.525274</td>\n",
       "      <td>1.598028</td>\n",
       "      <td>0.188618</td>\n",
       "      <td>0.076901</td>\n",
       "      <td>0.665221</td>\n",
       "      <td>2.270782</td>\n",
       "      <td>1.916995</td>\n",
       "      <td>7.472206</td>\n",
       "      <td>9.283713</td>\n",
       "      <td>4.242641</td>\n",
       "      <td>0.000000</td>\n",
       "      <td>15534.166404</td>\n",
       "      <td>1.026800</td>\n",
       "      <td>0.240036</td>\n",
       "      <td>12.099014</td>\n",
       "      <td>11.107693</td>\n",
       "      <td>1.042283</td>\n",
       "      <td>0.818152</td>\n",
       "    </tr>\n",
       "    <tr>\n",
       "      <th>75%</th>\n",
       "      <td>88.521007</td>\n",
       "      <td>1.687688</td>\n",
       "      <td>0.215417</td>\n",
       "      <td>0.103613</td>\n",
       "      <td>0.765212</td>\n",
       "      <td>2.651342</td>\n",
       "      <td>2.143833</td>\n",
       "      <td>9.063998</td>\n",
       "      <td>11.523345</td>\n",
       "      <td>5.477226</td>\n",
       "      <td>0.000000</td>\n",
       "      <td>20398.022735</td>\n",
       "      <td>1.230209</td>\n",
       "      <td>0.240513</td>\n",
       "      <td>15.383128</td>\n",
       "      <td>13.963600</td>\n",
       "      <td>1.233421</td>\n",
       "      <td>1.030980</td>\n",
       "    </tr>\n",
       "    <tr>\n",
       "      <th>max</th>\n",
       "      <td>133.380091</td>\n",
       "      <td>1.865986</td>\n",
       "      <td>0.306532</td>\n",
       "      <td>0.160805</td>\n",
       "      <td>1.160089</td>\n",
       "      <td>3.876332</td>\n",
       "      <td>2.905076</td>\n",
       "      <td>20.678088</td>\n",
       "      <td>20.721569</td>\n",
       "      <td>10.583005</td>\n",
       "      <td>0.161645</td>\n",
       "      <td>30295.187454</td>\n",
       "      <td>2.146147</td>\n",
       "      <td>0.242770</td>\n",
       "      <td>18.965279</td>\n",
       "      <td>16.819218</td>\n",
       "      <td>1.852950</td>\n",
       "      <td>1.618322</td>\n",
       "    </tr>\n",
       "  </tbody>\n",
       "</table>\n",
       "</div>"
      ],
      "text/plain": [
       "                0            1            2            3            4   \\\n",
       "count  5760.000000  5760.000000  5760.000000  5760.000000  5760.000000   \n",
       "mean     70.426493     1.604398     0.186377     0.079806     0.664179   \n",
       "std      25.536335     0.075221     0.041562     0.032614     0.170238   \n",
       "min      12.833239     1.417616     0.068067     0.000000     0.091724   \n",
       "25%      49.926550     1.508009     0.158556     0.055291     0.557687   \n",
       "50%      70.525274     1.598028     0.188618     0.076901     0.665221   \n",
       "75%      88.521007     1.687688     0.215417     0.103613     0.765212   \n",
       "max     133.380091     1.865986     0.306532     0.160805     1.160089   \n",
       "\n",
       "                5            6            7            8            9   \\\n",
       "count  5760.000000  5760.000000  5760.000000  5760.000000  5760.000000   \n",
       "mean      2.283694     1.937404     7.449352     9.327724     4.334282   \n",
       "std       0.523410     0.306804     2.431622     3.291614     1.716322   \n",
       "min       0.000000     0.769032     0.000000     0.000000     1.000000   \n",
       "25%       1.938097     1.735287     5.766358     7.204513     3.000000   \n",
       "50%       2.270782     1.916995     7.472206     9.283713     4.242641   \n",
       "75%       2.651342     2.143833     9.063998    11.523345     5.477226   \n",
       "max       3.876332     2.905076    20.678088    20.721569    10.583005   \n",
       "\n",
       "                10            11           12           13           14  \\\n",
       "count  5760.000000   5760.000000  5760.000000  5760.000000  5760.000000   \n",
       "mean      0.008977  15482.226219     1.041644     0.240173    12.803597   \n",
       "std       0.035324   6063.422584     0.296484     0.000672     3.602422   \n",
       "min       0.000000   1616.845054     0.094142     0.237929     0.096879   \n",
       "25%       0.000000  10617.557930     0.846343     0.239463     9.751980   \n",
       "50%       0.000000  15534.166404     1.026800     0.240036    12.099014   \n",
       "75%       0.000000  20398.022735     1.230209     0.240513    15.383128   \n",
       "max       0.161645  30295.187454     2.146147     0.242770    18.965279   \n",
       "\n",
       "                15           16           17  \n",
       "count  5760.000000  5760.000000  5760.000000  \n",
       "mean     11.687312     1.046624     0.813470  \n",
       "std       3.020925     0.263948     0.292340  \n",
       "min       0.000000     0.000000     0.000000  \n",
       "25%       9.184518     0.857234     0.592611  \n",
       "50%      11.107693     1.042283     0.818152  \n",
       "75%      13.963600     1.233421     1.030980  \n",
       "max      16.819218     1.852950     1.618322  "
      ]
     },
     "execution_count": 27,
     "metadata": {},
     "output_type": "execute_result"
    }
   ],
   "source": [
    "all_train_data2.describe()"
   ]
  },
  {
   "cell_type": "code",
   "execution_count": 26,
   "metadata": {
    "ExecuteTime": {
     "end_time": "2022-01-06T08:31:45.633230Z",
     "start_time": "2022-01-06T08:31:45.563226Z"
    }
   },
   "outputs": [
    {
     "data": {
      "text/html": [
       "<div>\n",
       "<style>\n",
       "    .dataframe thead tr:only-child th {\n",
       "        text-align: right;\n",
       "    }\n",
       "\n",
       "    .dataframe thead th {\n",
       "        text-align: left;\n",
       "    }\n",
       "\n",
       "    .dataframe tbody tr th {\n",
       "        vertical-align: top;\n",
       "    }\n",
       "</style>\n",
       "<table border=\"1\" class=\"dataframe\">\n",
       "  <thead>\n",
       "    <tr style=\"text-align: right;\">\n",
       "      <th></th>\n",
       "      <th>0</th>\n",
       "      <th>1</th>\n",
       "      <th>2</th>\n",
       "      <th>3</th>\n",
       "      <th>4</th>\n",
       "      <th>5</th>\n",
       "      <th>6</th>\n",
       "      <th>7</th>\n",
       "      <th>8</th>\n",
       "      <th>9</th>\n",
       "      <th>10</th>\n",
       "      <th>11</th>\n",
       "      <th>12</th>\n",
       "      <th>13</th>\n",
       "      <th>14</th>\n",
       "      <th>15</th>\n",
       "      <th>16</th>\n",
       "      <th>17</th>\n",
       "    </tr>\n",
       "  </thead>\n",
       "  <tbody>\n",
       "    <tr>\n",
       "      <th>count</th>\n",
       "      <td>5.760000e+03</td>\n",
       "      <td>5.760000e+03</td>\n",
       "      <td>5.760000e+03</td>\n",
       "      <td>5.760000e+03</td>\n",
       "      <td>5.760000e+03</td>\n",
       "      <td>5.760000e+03</td>\n",
       "      <td>5.760000e+03</td>\n",
       "      <td>5.760000e+03</td>\n",
       "      <td>5.760000e+03</td>\n",
       "      <td>5.760000e+03</td>\n",
       "      <td>5.760000e+03</td>\n",
       "      <td>5.760000e+03</td>\n",
       "      <td>5.760000e+03</td>\n",
       "      <td>5.760000e+03</td>\n",
       "      <td>5.760000e+03</td>\n",
       "      <td>5.760000e+03</td>\n",
       "      <td>5.760000e+03</td>\n",
       "      <td>5.760000e+03</td>\n",
       "    </tr>\n",
       "    <tr>\n",
       "      <th>mean</th>\n",
       "      <td>1.019875e-13</td>\n",
       "      <td>-4.451758e-13</td>\n",
       "      <td>6.653925e-14</td>\n",
       "      <td>2.549689e-14</td>\n",
       "      <td>1.782786e-14</td>\n",
       "      <td>-6.727368e-14</td>\n",
       "      <td>-4.221841e-14</td>\n",
       "      <td>2.062856e-15</td>\n",
       "      <td>5.215490e-14</td>\n",
       "      <td>-1.005904e-14</td>\n",
       "      <td>-1.659610e-15</td>\n",
       "      <td>6.245795e-14</td>\n",
       "      <td>3.845739e-14</td>\n",
       "      <td>-6.354188e-12</td>\n",
       "      <td>1.616595e-14</td>\n",
       "      <td>-8.086471e-15</td>\n",
       "      <td>3.354384e-14</td>\n",
       "      <td>3.181464e-15</td>\n",
       "    </tr>\n",
       "    <tr>\n",
       "      <th>std</th>\n",
       "      <td>1.000000e+00</td>\n",
       "      <td>1.000000e+00</td>\n",
       "      <td>1.000000e+00</td>\n",
       "      <td>1.000000e+00</td>\n",
       "      <td>1.000000e+00</td>\n",
       "      <td>1.000000e+00</td>\n",
       "      <td>1.000000e+00</td>\n",
       "      <td>1.000000e+00</td>\n",
       "      <td>1.000000e+00</td>\n",
       "      <td>1.000000e+00</td>\n",
       "      <td>1.000000e+00</td>\n",
       "      <td>1.000000e+00</td>\n",
       "      <td>1.000000e+00</td>\n",
       "      <td>1.000000e+00</td>\n",
       "      <td>1.000000e+00</td>\n",
       "      <td>1.000000e+00</td>\n",
       "      <td>1.000000e+00</td>\n",
       "      <td>1.000000e+00</td>\n",
       "    </tr>\n",
       "    <tr>\n",
       "      <th>min</th>\n",
       "      <td>-2.255345e+00</td>\n",
       "      <td>-2.483110e+00</td>\n",
       "      <td>-2.846587e+00</td>\n",
       "      <td>-2.447008e+00</td>\n",
       "      <td>-3.362674e+00</td>\n",
       "      <td>-4.363104e+00</td>\n",
       "      <td>-3.808196e+00</td>\n",
       "      <td>-3.063532e+00</td>\n",
       "      <td>-2.833784e+00</td>\n",
       "      <td>-1.942691e+00</td>\n",
       "      <td>-2.541260e-01</td>\n",
       "      <td>-2.286725e+00</td>\n",
       "      <td>-3.195798e+00</td>\n",
       "      <td>-3.340700e+00</td>\n",
       "      <td>-3.527271e+00</td>\n",
       "      <td>-3.868786e+00</td>\n",
       "      <td>-3.965265e+00</td>\n",
       "      <td>-2.782619e+00</td>\n",
       "    </tr>\n",
       "    <tr>\n",
       "      <th>25%</th>\n",
       "      <td>-8.027755e-01</td>\n",
       "      <td>-1.281405e+00</td>\n",
       "      <td>-6.693840e-01</td>\n",
       "      <td>-7.516859e-01</td>\n",
       "      <td>-6.255434e-01</td>\n",
       "      <td>-6.602794e-01</td>\n",
       "      <td>-6.587790e-01</td>\n",
       "      <td>-6.921282e-01</td>\n",
       "      <td>-6.450364e-01</td>\n",
       "      <td>-7.774080e-01</td>\n",
       "      <td>-2.541260e-01</td>\n",
       "      <td>-8.022974e-01</td>\n",
       "      <td>-6.587225e-01</td>\n",
       "      <td>-1.057126e+00</td>\n",
       "      <td>-8.471015e-01</td>\n",
       "      <td>-8.284860e-01</td>\n",
       "      <td>-7.175293e-01</td>\n",
       "      <td>-7.554874e-01</td>\n",
       "    </tr>\n",
       "    <tr>\n",
       "      <th>50%</th>\n",
       "      <td>3.868283e-03</td>\n",
       "      <td>-8.467753e-02</td>\n",
       "      <td>5.390355e-02</td>\n",
       "      <td>-8.905258e-02</td>\n",
       "      <td>6.122491e-03</td>\n",
       "      <td>-2.466757e-02</td>\n",
       "      <td>-6.652185e-02</td>\n",
       "      <td>9.398760e-03</td>\n",
       "      <td>-1.337080e-02</td>\n",
       "      <td>-5.339410e-02</td>\n",
       "      <td>-2.541260e-01</td>\n",
       "      <td>8.566150e-03</td>\n",
       "      <td>-5.006604e-02</td>\n",
       "      <td>-2.047486e-01</td>\n",
       "      <td>-1.955858e-01</td>\n",
       "      <td>-1.918681e-01</td>\n",
       "      <td>-1.644871e-02</td>\n",
       "      <td>1.601343e-02</td>\n",
       "    </tr>\n",
       "    <tr>\n",
       "      <th>75%</th>\n",
       "      <td>7.085792e-01</td>\n",
       "      <td>1.107276e+00</td>\n",
       "      <td>6.987095e-01</td>\n",
       "      <td>7.299705e-01</td>\n",
       "      <td>5.934813e-01</td>\n",
       "      <td>7.024097e-01</td>\n",
       "      <td>6.728357e-01</td>\n",
       "      <td>6.640201e-01</td>\n",
       "      <td>6.670347e-01</td>\n",
       "      <td>6.659262e-01</td>\n",
       "      <td>-2.541260e-01</td>\n",
       "      <td>8.107297e-01</td>\n",
       "      <td>6.360047e-01</td>\n",
       "      <td>5.054627e-01</td>\n",
       "      <td>7.160547e-01</td>\n",
       "      <td>7.535070e-01</td>\n",
       "      <td>7.077023e-01</td>\n",
       "      <td>7.440291e-01</td>\n",
       "    </tr>\n",
       "    <tr>\n",
       "      <th>max</th>\n",
       "      <td>2.465256e+00</td>\n",
       "      <td>3.477601e+00</td>\n",
       "      <td>2.890982e+00</td>\n",
       "      <td>2.483615e+00</td>\n",
       "      <td>2.913043e+00</td>\n",
       "      <td>3.042810e+00</td>\n",
       "      <td>3.154037e+00</td>\n",
       "      <td>5.440292e+00</td>\n",
       "      <td>3.461476e+00</td>\n",
       "      <td>3.640765e+00</td>\n",
       "      <td>4.321989e+00</td>\n",
       "      <td>2.443003e+00</td>\n",
       "      <td>3.725344e+00</td>\n",
       "      <td>3.864731e+00</td>\n",
       "      <td>1.710428e+00</td>\n",
       "      <td>1.698787e+00</td>\n",
       "      <td>3.054866e+00</td>\n",
       "      <td>2.753135e+00</td>\n",
       "    </tr>\n",
       "  </tbody>\n",
       "</table>\n",
       "</div>"
      ],
      "text/plain": [
       "                 0             1             2             3             4   \\\n",
       "count  5.760000e+03  5.760000e+03  5.760000e+03  5.760000e+03  5.760000e+03   \n",
       "mean   1.019875e-13 -4.451758e-13  6.653925e-14  2.549689e-14  1.782786e-14   \n",
       "std    1.000000e+00  1.000000e+00  1.000000e+00  1.000000e+00  1.000000e+00   \n",
       "min   -2.255345e+00 -2.483110e+00 -2.846587e+00 -2.447008e+00 -3.362674e+00   \n",
       "25%   -8.027755e-01 -1.281405e+00 -6.693840e-01 -7.516859e-01 -6.255434e-01   \n",
       "50%    3.868283e-03 -8.467753e-02  5.390355e-02 -8.905258e-02  6.122491e-03   \n",
       "75%    7.085792e-01  1.107276e+00  6.987095e-01  7.299705e-01  5.934813e-01   \n",
       "max    2.465256e+00  3.477601e+00  2.890982e+00  2.483615e+00  2.913043e+00   \n",
       "\n",
       "                 5             6             7             8             9   \\\n",
       "count  5.760000e+03  5.760000e+03  5.760000e+03  5.760000e+03  5.760000e+03   \n",
       "mean  -6.727368e-14 -4.221841e-14  2.062856e-15  5.215490e-14 -1.005904e-14   \n",
       "std    1.000000e+00  1.000000e+00  1.000000e+00  1.000000e+00  1.000000e+00   \n",
       "min   -4.363104e+00 -3.808196e+00 -3.063532e+00 -2.833784e+00 -1.942691e+00   \n",
       "25%   -6.602794e-01 -6.587790e-01 -6.921282e-01 -6.450364e-01 -7.774080e-01   \n",
       "50%   -2.466757e-02 -6.652185e-02  9.398760e-03 -1.337080e-02 -5.339410e-02   \n",
       "75%    7.024097e-01  6.728357e-01  6.640201e-01  6.670347e-01  6.659262e-01   \n",
       "max    3.042810e+00  3.154037e+00  5.440292e+00  3.461476e+00  3.640765e+00   \n",
       "\n",
       "                 10            11            12            13            14  \\\n",
       "count  5.760000e+03  5.760000e+03  5.760000e+03  5.760000e+03  5.760000e+03   \n",
       "mean  -1.659610e-15  6.245795e-14  3.845739e-14 -6.354188e-12  1.616595e-14   \n",
       "std    1.000000e+00  1.000000e+00  1.000000e+00  1.000000e+00  1.000000e+00   \n",
       "min   -2.541260e-01 -2.286725e+00 -3.195798e+00 -3.340700e+00 -3.527271e+00   \n",
       "25%   -2.541260e-01 -8.022974e-01 -6.587225e-01 -1.057126e+00 -8.471015e-01   \n",
       "50%   -2.541260e-01  8.566150e-03 -5.006604e-02 -2.047486e-01 -1.955858e-01   \n",
       "75%   -2.541260e-01  8.107297e-01  6.360047e-01  5.054627e-01  7.160547e-01   \n",
       "max    4.321989e+00  2.443003e+00  3.725344e+00  3.864731e+00  1.710428e+00   \n",
       "\n",
       "                 15            16            17  \n",
       "count  5.760000e+03  5.760000e+03  5.760000e+03  \n",
       "mean  -8.086471e-15  3.354384e-14  3.181464e-15  \n",
       "std    1.000000e+00  1.000000e+00  1.000000e+00  \n",
       "min   -3.868786e+00 -3.965265e+00 -2.782619e+00  \n",
       "25%   -8.284860e-01 -7.175293e-01 -7.554874e-01  \n",
       "50%   -1.918681e-01 -1.644871e-02  1.601343e-02  \n",
       "75%    7.535070e-01  7.077023e-01  7.440291e-01  \n",
       "max    1.698787e+00  3.054866e+00  2.753135e+00  "
      ]
     },
     "execution_count": 26,
     "metadata": {},
     "output_type": "execute_result"
    }
   ],
   "source": [
    "all_train_data3.describe()"
   ]
  },
  {
   "cell_type": "code",
   "execution_count": 28,
   "metadata": {
    "ExecuteTime": {
     "end_time": "2022-01-06T08:52:51.403628Z",
     "start_time": "2022-01-06T08:52:51.396627Z"
    },
    "collapsed": true
   },
   "outputs": [],
   "source": [
    "from scipy import stats\n",
    "import seaborn as sns"
   ]
  },
  {
   "cell_type": "code",
   "execution_count": 49,
   "metadata": {
    "ExecuteTime": {
     "end_time": "2022-01-06T09:21:38.592417Z",
     "start_time": "2022-01-06T09:21:38.518413Z"
    },
    "collapsed": true
   },
   "outputs": [],
   "source": [
    "stats.probplot(all_train_data1[9].values,fit=stats.norm,plot=plt)\n",
    "plt.show()"
   ]
  },
  {
   "cell_type": "code",
   "execution_count": 56,
   "metadata": {
    "ExecuteTime": {
     "end_time": "2022-01-06T09:22:38.639852Z",
     "start_time": "2022-01-06T09:22:38.541846Z"
    }
   },
   "outputs": [
    {
     "data": {
      "text/plain": [
       "<matplotlib.axes._subplots.AxesSubplot at 0x174c1898>"
      ]
     },
     "execution_count": 56,
     "metadata": {},
     "output_type": "execute_result"
    }
   ],
   "source": [
    "sns.distplot(np.sqrt(all_train_data1[9].values),fit=stats.norm)"
   ]
  },
  {
   "cell_type": "code",
   "execution_count": 54,
   "metadata": {
    "ExecuteTime": {
     "end_time": "2022-01-06T09:22:32.239486Z",
     "start_time": "2022-01-06T09:22:32.173482Z"
    },
    "collapsed": true
   },
   "outputs": [],
   "source": [
    "stats.probplot(np.sqrt(all_train_data1[9].values),fit=stats.norm,plot=plt)\n",
    "plt.show()"
   ]
  },
  {
   "cell_type": "code",
   "execution_count": 57,
   "metadata": {
    "ExecuteTime": {
     "end_time": "2022-01-06T09:23:15.678970Z",
     "start_time": "2022-01-06T09:23:15.653969Z"
    },
    "collapsed": true
   },
   "outputs": [],
   "source": [
    "stats.probplot(all_train_data2[9].values,fit=stats.norm,plot=plt)\n",
    "plt.show()"
   ]
  },
  {
   "cell_type": "code",
   "execution_count": 58,
   "metadata": {
    "ExecuteTime": {
     "end_time": "2022-01-06T09:23:19.678199Z",
     "start_time": "2022-01-06T09:23:19.581194Z"
    }
   },
   "outputs": [
    {
     "data": {
      "text/plain": [
       "<matplotlib.axes._subplots.AxesSubplot at 0x1746f438>"
      ]
     },
     "execution_count": 58,
     "metadata": {},
     "output_type": "execute_result"
    }
   ],
   "source": [
    "\n",
    "sns.distplot(all_train_data2[9].values,fit=stats.norm)"
   ]
  },
  {
   "cell_type": "code",
   "execution_count": 59,
   "metadata": {
    "ExecuteTime": {
     "end_time": "2022-01-06T09:23:29.286749Z",
     "start_time": "2022-01-06T09:23:29.205744Z"
    }
   },
   "outputs": [
    {
     "data": {
      "text/plain": [
       "((array([-3.67199794, -3.43886226, -3.31047894, ...,  3.31047894,\n",
       "          3.43886226,  3.67199794]),\n",
       "  array([-1.9426908 , -1.9426908 , -1.9426908 , ...,  3.55762257,\n",
       "          3.55762257,  3.64076476])),\n",
       " (0.9945437850375948, -9.39409242307104e-15, 0.9940455917244347))"
      ]
     },
     "execution_count": 59,
     "metadata": {},
     "output_type": "execute_result"
    }
   ],
   "source": [
    "stats.probplot(all_train_data3[9].values,fit=stats.norm,plot=plt)"
   ]
  },
  {
   "cell_type": "code",
   "execution_count": null,
   "metadata": {
    "collapsed": true
   },
   "outputs": [],
   "source": [
    "sns.distplot(all_train_data3[9].values,fit=stats.norm)"
   ]
  },
  {
   "cell_type": "markdown",
   "metadata": {},
   "source": [
    "- all_train_data1 : fix outlier \n",
    "- all_train_data2 : fix skew and kurt\n",
    "- all_train_data3 : 18 feats norm"
   ]
  },
  {
   "cell_type": "code",
   "execution_count": null,
   "metadata": {
    "ExecuteTime": {
     "end_time": "2022-01-04T06:01:05.263841Z",
     "start_time": "2022-01-04T06:01:05.241840Z"
    },
    "collapsed": true,
    "scrolled": true
   },
   "outputs": [],
   "source": [
    "8897+989"
   ]
  },
  {
   "cell_type": "markdown",
   "metadata": {},
   "source": [
    "### just use original data to predict next pm2.5\n",
    "- use all_train_data1"
   ]
  },
  {
   "cell_type": "code",
   "execution_count": 60,
   "metadata": {
    "ExecuteTime": {
     "end_time": "2022-01-06T09:24:30.662259Z",
     "start_time": "2022-01-06T09:24:30.630257Z"
    },
    "collapsed": true
   },
   "outputs": [],
   "source": [
    "year_data3={}\n",
    "for m in range(12):\n",
    "    month_data3=np.empty((18,480))\n",
    "    month_data3[:,:]=all_train_data1.T.iloc[:,m*480:(m+1)*480]\n",
    "    year_data3[m]=month_data3"
   ]
  },
  {
   "cell_type": "markdown",
   "metadata": {
    "ExecuteTime": {
     "end_time": "2022-01-05T02:03:44.490791Z",
     "start_time": "2022-01-05T02:03:44.479791Z"
    }
   },
   "source": [
    "- x shape : 12 * 479 (480-1,since next pm2.5) , 17\n",
    "- y shape : t+1 pm2.5 ,12 * 479"
   ]
  },
  {
   "cell_type": "code",
   "execution_count": 61,
   "metadata": {
    "ExecuteTime": {
     "end_time": "2022-01-06T09:24:31.837326Z",
     "start_time": "2022-01-06T09:24:31.828326Z"
    },
    "collapsed": true
   },
   "outputs": [],
   "source": []
  },
  {
   "cell_type": "code",
   "execution_count": 62,
   "metadata": {
    "ExecuteTime": {
     "end_time": "2022-01-06T09:24:32.415359Z",
     "start_time": "2022-01-06T09:24:32.405359Z"
    }
   },
   "outputs": [
    {
     "data": {
      "text/plain": [
       "(18, 480)"
      ]
     },
     "execution_count": 62,
     "metadata": {},
     "output_type": "execute_result"
    }
   ],
   "source": [
    "year_data3[0].shape"
   ]
  },
  {
   "cell_type": "code",
   "execution_count": null,
   "metadata": {
    "ExecuteTime": {
     "end_time": "2022-01-05T02:25:21.476975Z",
     "start_time": "2022-01-05T02:25:21.471975Z"
    },
    "collapsed": true
   },
   "outputs": [],
   "source": [
    "year_data3[m].transpose().shape"
   ]
  },
  {
   "cell_type": "code",
   "execution_count": 63,
   "metadata": {
    "ExecuteTime": {
     "end_time": "2022-01-06T09:25:01.229008Z",
     "start_time": "2022-01-06T09:25:01.215007Z"
    }
   },
   "outputs": [
    {
     "data": {
      "text/plain": [
       "array([14.  ,  1.8 ,  0.51,  0.2 ,  0.9 , 16.  , 17.  , 16.  , 56.  ,\n",
       "       26.  ,  0.  , 77.  ,  1.8 ,  2.  , 37.  , 35.  ,  1.4 ,  0.5 ])"
      ]
     },
     "execution_count": 63,
     "metadata": {},
     "output_type": "execute_result"
    }
   ],
   "source": [
    "year_data3[0].transpose()[:479,[0,1,2,3,4,5,6,7,8,9,10,11,12,13,14,15,16,17]][0]"
   ]
  },
  {
   "cell_type": "code",
   "execution_count": 64,
   "metadata": {
    "ExecuteTime": {
     "end_time": "2022-01-06T09:25:01.738037Z",
     "start_time": "2022-01-06T09:25:01.724036Z"
    }
   },
   "outputs": [
    {
     "data": {
      "text/plain": [
       "array([[2.3e+01, 1.6e+00, 2.2e-01, 7.0e-02, 1.5e+00, 6.1e+00, 7.6e+00,\n",
       "        1.6e+01, 3.4e+01, 2.2e+01, 0.0e+00, 7.9e+01, 1.8e+00, 1.7e+00,\n",
       "        9.0e+01, 9.3e+01, 1.8e+00, 1.3e+00],\n",
       "       [2.3e+01, 1.7e+00, 2.0e-01, 7.0e-02, 1.3e+00, 6.1e+00, 7.4e+00,\n",
       "        1.8e+01, 1.9e+01, 1.7e+01, 0.0e+00, 7.8e+01, 1.6e+00, 1.7e+00,\n",
       "        4.9e+01, 5.0e+01, 2.1e+00, 9.0e-01],\n",
       "       [2.3e+01, 1.7e+00, 1.8e-01, 3.0e-02, 1.4e+00, 4.6e+00, 6.0e+00,\n",
       "        2.7e+01, 2.4e+01, 1.7e+01, 0.0e+00, 8.1e+01, 2.5e+00, 1.7e+00,\n",
       "        8.2e+01, 9.9e+01, 3.2e+00, 1.0e+00],\n",
       "       [2.2e+01, 1.7e+00, 3.0e-01, 6.0e-02, 1.1e+00, 6.0e+00, 7.0e+00,\n",
       "        3.3e+01, 2.9e+01, 2.2e+01, 0.0e+00, 8.2e+01, 3.2e+00, 1.7e+00,\n",
       "        8.5e+01, 7.1e+01, 4.0e+00, 2.2e+00],\n",
       "       [2.1e+01, 1.7e+00, 4.0e-01, 5.0e-02, 9.0e-01, 6.3e+00, 7.1e+00,\n",
       "        2.2e+01, 3.5e+01, 2.7e+01, 0.0e+00, 7.9e+01, 1.5e+00, 1.8e+00,\n",
       "        5.8e+01, 5.8e+01, 3.3e+00, 3.7e+00]])"
      ]
     },
     "execution_count": 64,
     "metadata": {},
     "output_type": "execute_result"
    }
   ],
   "source": [
    "year_data3[m].transpose()[:5,[0,1,2,3,4,5,6,7,8,9,10,11,12,13,14,15,16,17]]"
   ]
  },
  {
   "cell_type": "code",
   "execution_count": 65,
   "metadata": {
    "ExecuteTime": {
     "end_time": "2022-01-06T09:25:06.306298Z",
     "start_time": "2022-01-06T09:25:06.295297Z"
    }
   },
   "outputs": [
    {
     "data": {
      "text/plain": [
       "array([39., 36., 35., 31., 28.])"
      ]
     },
     "execution_count": 65,
     "metadata": {},
     "output_type": "execute_result"
    }
   ],
   "source": [
    "year_data3[0].transpose()[1:,9][:5]"
   ]
  },
  {
   "cell_type": "code",
   "execution_count": 67,
   "metadata": {
    "ExecuteTime": {
     "end_time": "2022-01-06T09:25:43.239410Z",
     "start_time": "2022-01-06T09:25:43.230410Z"
    },
    "collapsed": true
   },
   "outputs": [],
   "source": [
    "x=np.empty((12*479,18))\n",
    "y=np.empty((12*479,1))"
   ]
  },
  {
   "cell_type": "code",
   "execution_count": 68,
   "metadata": {
    "ExecuteTime": {
     "end_time": "2022-01-06T09:25:44.100460Z",
     "start_time": "2022-01-06T09:25:44.086459Z"
    }
   },
   "outputs": [],
   "source": [
    "for m in range(12):\n",
    "    x[m*479:(m+1)*479,:]=year_data3[m].transpose()[:479,[0,1,2,3,4,5,6,7,8,9,10,11,12,13,14,15,16,17]]\n",
    "    y[m*479:(m+1)*479,:]=year_data3[m].transpose()[1:,9:10]"
   ]
  },
  {
   "cell_type": "code",
   "execution_count": null,
   "metadata": {
    "ExecuteTime": {
     "end_time": "2022-01-05T02:26:00.239192Z",
     "start_time": "2022-01-05T02:26:00.225191Z"
    },
    "collapsed": true
   },
   "outputs": [],
   "source": [
    "x[:5]"
   ]
  },
  {
   "cell_type": "code",
   "execution_count": null,
   "metadata": {
    "ExecuteTime": {
     "end_time": "2022-01-05T02:26:49.453007Z",
     "start_time": "2022-01-05T02:26:49.441006Z"
    },
    "collapsed": true
   },
   "outputs": [],
   "source": [
    "y[:5]"
   ]
  },
  {
   "cell_type": "code",
   "execution_count": null,
   "metadata": {
    "collapsed": true
   },
   "outputs": [],
   "source": []
  },
  {
   "cell_type": "code",
   "execution_count": 69,
   "metadata": {
    "ExecuteTime": {
     "end_time": "2022-01-06T09:25:56.684179Z",
     "start_time": "2022-01-06T09:25:47.909677Z"
    },
    "collapsed": true
   },
   "outputs": [],
   "source": [
    "from sklearn.linear_model import Lasso,ElasticNet,Ridge\n",
    "from sklearn.ensemble import RandomForestRegressor,GradientBoostingRegressor\n",
    "from sklearn.pipeline import make_pipeline\n",
    "from sklearn.preprocessing import RobustScaler\n",
    "from sklearn.model_selection import train_test_split,KFold,cross_val_score\n",
    "from sklearn.metrics import mean_squared_error\n",
    "import xgboost as xgb\n",
    "import lightgbm as lgb"
   ]
  },
  {
   "cell_type": "code",
   "execution_count": 70,
   "metadata": {
    "ExecuteTime": {
     "end_time": "2022-01-06T09:26:03.668579Z",
     "start_time": "2022-01-06T09:25:59.982368Z"
    }
   },
   "outputs": [
    {
     "name": "stdout",
     "output_type": "stream",
     "text": [
      "----------------------------------- 0 ----------------------------------------\n"
     ]
    },
    {
     "name": "stderr",
     "output_type": "stream",
     "text": [
      "D:\\ProgramData\\Anaconda3\\lib\\site-packages\\sklearn\\linear_model\\coordinate_descent.py:491: ConvergenceWarning: Objective did not converge. You might want to increase the number of iterations. Fitting data with very small alpha may cause precision problems.\n",
      "  ConvergenceWarning)\n",
      "D:\\ProgramData\\Anaconda3\\lib\\site-packages\\sklearn\\linear_model\\coordinate_descent.py:491: ConvergenceWarning: Objective did not converge. You might want to increase the number of iterations. Fitting data with very small alpha may cause precision problems.\n",
      "  ConvergenceWarning)\n",
      "D:\\ProgramData\\Anaconda3\\lib\\site-packages\\sklearn\\linear_model\\coordinate_descent.py:491: ConvergenceWarning: Objective did not converge. You might want to increase the number of iterations. Fitting data with very small alpha may cause precision problems.\n",
      "  ConvergenceWarning)\n",
      "D:\\ProgramData\\Anaconda3\\lib\\site-packages\\sklearn\\linear_model\\coordinate_descent.py:491: ConvergenceWarning: Objective did not converge. You might want to increase the number of iterations. Fitting data with very small alpha may cause precision problems.\n",
      "  ConvergenceWarning)\n",
      "D:\\ProgramData\\Anaconda3\\lib\\site-packages\\sklearn\\linear_model\\coordinate_descent.py:491: ConvergenceWarning: Objective did not converge. You might want to increase the number of iterations. Fitting data with very small alpha may cause precision problems.\n",
      "  ConvergenceWarning)\n",
      "D:\\ProgramData\\Anaconda3\\lib\\site-packages\\sklearn\\linear_model\\coordinate_descent.py:491: ConvergenceWarning: Objective did not converge. You might want to increase the number of iterations. Fitting data with very small alpha may cause precision problems.\n",
      "  ConvergenceWarning)\n"
     ]
    },
    {
     "name": "stdout",
     "output_type": "stream",
     "text": [
      "\n",
      "Lasso score: 6.1767 (0.6346)\n",
      "\n",
      "----------------------------------- 1 ----------------------------------------\n"
     ]
    },
    {
     "name": "stderr",
     "output_type": "stream",
     "text": [
      "D:\\ProgramData\\Anaconda3\\lib\\site-packages\\sklearn\\linear_model\\coordinate_descent.py:491: ConvergenceWarning: Objective did not converge. You might want to increase the number of iterations. Fitting data with very small alpha may cause precision problems.\n",
      "  ConvergenceWarning)\n",
      "D:\\ProgramData\\Anaconda3\\lib\\site-packages\\sklearn\\linear_model\\coordinate_descent.py:491: ConvergenceWarning: Objective did not converge. You might want to increase the number of iterations. Fitting data with very small alpha may cause precision problems.\n",
      "  ConvergenceWarning)\n",
      "D:\\ProgramData\\Anaconda3\\lib\\site-packages\\sklearn\\linear_model\\coordinate_descent.py:491: ConvergenceWarning: Objective did not converge. You might want to increase the number of iterations. Fitting data with very small alpha may cause precision problems.\n",
      "  ConvergenceWarning)\n"
     ]
    },
    {
     "name": "stdout",
     "output_type": "stream",
     "text": [
      "\n",
      "Lasso score: 6.1767 (0.6346)\n",
      "\n",
      "----------------------------------- 2 ----------------------------------------\n"
     ]
    },
    {
     "name": "stderr",
     "output_type": "stream",
     "text": [
      "D:\\ProgramData\\Anaconda3\\lib\\site-packages\\sklearn\\linear_model\\coordinate_descent.py:491: ConvergenceWarning: Objective did not converge. You might want to increase the number of iterations. Fitting data with very small alpha may cause precision problems.\n",
      "  ConvergenceWarning)\n",
      "D:\\ProgramData\\Anaconda3\\lib\\site-packages\\sklearn\\linear_model\\coordinate_descent.py:491: ConvergenceWarning: Objective did not converge. You might want to increase the number of iterations. Fitting data with very small alpha may cause precision problems.\n",
      "  ConvergenceWarning)\n",
      "D:\\ProgramData\\Anaconda3\\lib\\site-packages\\sklearn\\linear_model\\coordinate_descent.py:491: ConvergenceWarning: Objective did not converge. You might want to increase the number of iterations. Fitting data with very small alpha may cause precision problems.\n",
      "  ConvergenceWarning)\n"
     ]
    },
    {
     "name": "stdout",
     "output_type": "stream",
     "text": [
      "\n",
      "Lasso score: 6.1767 (0.6346)\n",
      "\n",
      "----------------------------------- 3 ----------------------------------------\n"
     ]
    },
    {
     "name": "stderr",
     "output_type": "stream",
     "text": [
      "D:\\ProgramData\\Anaconda3\\lib\\site-packages\\sklearn\\linear_model\\coordinate_descent.py:491: ConvergenceWarning: Objective did not converge. You might want to increase the number of iterations. Fitting data with very small alpha may cause precision problems.\n",
      "  ConvergenceWarning)\n",
      "D:\\ProgramData\\Anaconda3\\lib\\site-packages\\sklearn\\linear_model\\coordinate_descent.py:491: ConvergenceWarning: Objective did not converge. You might want to increase the number of iterations. Fitting data with very small alpha may cause precision problems.\n",
      "  ConvergenceWarning)\n",
      "D:\\ProgramData\\Anaconda3\\lib\\site-packages\\sklearn\\linear_model\\coordinate_descent.py:491: ConvergenceWarning: Objective did not converge. You might want to increase the number of iterations. Fitting data with very small alpha may cause precision problems.\n",
      "  ConvergenceWarning)\n",
      "D:\\ProgramData\\Anaconda3\\lib\\site-packages\\sklearn\\linear_model\\coordinate_descent.py:491: ConvergenceWarning: Objective did not converge. You might want to increase the number of iterations. Fitting data with very small alpha may cause precision problems.\n",
      "  ConvergenceWarning)\n",
      "D:\\ProgramData\\Anaconda3\\lib\\site-packages\\sklearn\\linear_model\\coordinate_descent.py:491: ConvergenceWarning: Objective did not converge. You might want to increase the number of iterations. Fitting data with very small alpha may cause precision problems.\n",
      "  ConvergenceWarning)\n",
      "D:\\ProgramData\\Anaconda3\\lib\\site-packages\\sklearn\\linear_model\\coordinate_descent.py:491: ConvergenceWarning: Objective did not converge. You might want to increase the number of iterations. Fitting data with very small alpha may cause precision problems.\n",
      "  ConvergenceWarning)\n"
     ]
    },
    {
     "name": "stdout",
     "output_type": "stream",
     "text": [
      "\n",
      "Lasso score: 6.1767 (0.6346)\n",
      "\n",
      "----------------------------------- 4 ----------------------------------------\n"
     ]
    },
    {
     "name": "stderr",
     "output_type": "stream",
     "text": [
      "D:\\ProgramData\\Anaconda3\\lib\\site-packages\\sklearn\\linear_model\\coordinate_descent.py:491: ConvergenceWarning: Objective did not converge. You might want to increase the number of iterations. Fitting data with very small alpha may cause precision problems.\n",
      "  ConvergenceWarning)\n",
      "D:\\ProgramData\\Anaconda3\\lib\\site-packages\\sklearn\\linear_model\\coordinate_descent.py:491: ConvergenceWarning: Objective did not converge. You might want to increase the number of iterations. Fitting data with very small alpha may cause precision problems.\n",
      "  ConvergenceWarning)\n",
      "D:\\ProgramData\\Anaconda3\\lib\\site-packages\\sklearn\\linear_model\\coordinate_descent.py:491: ConvergenceWarning: Objective did not converge. You might want to increase the number of iterations. Fitting data with very small alpha may cause precision problems.\n",
      "  ConvergenceWarning)\n"
     ]
    },
    {
     "name": "stdout",
     "output_type": "stream",
     "text": [
      "\n",
      "Lasso score: 6.1767 (0.6346)\n",
      "\n",
      "----------------------------------- 5 ----------------------------------------\n"
     ]
    },
    {
     "name": "stderr",
     "output_type": "stream",
     "text": [
      "D:\\ProgramData\\Anaconda3\\lib\\site-packages\\sklearn\\linear_model\\coordinate_descent.py:491: ConvergenceWarning: Objective did not converge. You might want to increase the number of iterations. Fitting data with very small alpha may cause precision problems.\n",
      "  ConvergenceWarning)\n",
      "D:\\ProgramData\\Anaconda3\\lib\\site-packages\\sklearn\\linear_model\\coordinate_descent.py:491: ConvergenceWarning: Objective did not converge. You might want to increase the number of iterations. Fitting data with very small alpha may cause precision problems.\n",
      "  ConvergenceWarning)\n",
      "D:\\ProgramData\\Anaconda3\\lib\\site-packages\\sklearn\\linear_model\\coordinate_descent.py:491: ConvergenceWarning: Objective did not converge. You might want to increase the number of iterations. Fitting data with very small alpha may cause precision problems.\n",
      "  ConvergenceWarning)\n"
     ]
    },
    {
     "name": "stdout",
     "output_type": "stream",
     "text": [
      "\n",
      "Lasso score: 6.1767 (0.6346)\n",
      "\n",
      "----------------------------------- 6 ----------------------------------------\n"
     ]
    },
    {
     "name": "stderr",
     "output_type": "stream",
     "text": [
      "D:\\ProgramData\\Anaconda3\\lib\\site-packages\\sklearn\\linear_model\\coordinate_descent.py:491: ConvergenceWarning: Objective did not converge. You might want to increase the number of iterations. Fitting data with very small alpha may cause precision problems.\n",
      "  ConvergenceWarning)\n",
      "D:\\ProgramData\\Anaconda3\\lib\\site-packages\\sklearn\\linear_model\\coordinate_descent.py:491: ConvergenceWarning: Objective did not converge. You might want to increase the number of iterations. Fitting data with very small alpha may cause precision problems.\n",
      "  ConvergenceWarning)\n",
      "D:\\ProgramData\\Anaconda3\\lib\\site-packages\\sklearn\\linear_model\\coordinate_descent.py:491: ConvergenceWarning: Objective did not converge. You might want to increase the number of iterations. Fitting data with very small alpha may cause precision problems.\n",
      "  ConvergenceWarning)\n",
      "D:\\ProgramData\\Anaconda3\\lib\\site-packages\\sklearn\\linear_model\\coordinate_descent.py:491: ConvergenceWarning: Objective did not converge. You might want to increase the number of iterations. Fitting data with very small alpha may cause precision problems.\n",
      "  ConvergenceWarning)\n",
      "D:\\ProgramData\\Anaconda3\\lib\\site-packages\\sklearn\\linear_model\\coordinate_descent.py:491: ConvergenceWarning: Objective did not converge. You might want to increase the number of iterations. Fitting data with very small alpha may cause precision problems.\n",
      "  ConvergenceWarning)\n"
     ]
    },
    {
     "name": "stdout",
     "output_type": "stream",
     "text": [
      "\n",
      "Lasso score: 6.1767 (0.6346)\n",
      "\n",
      "----------------------------------- 7 ----------------------------------------\n"
     ]
    },
    {
     "name": "stderr",
     "output_type": "stream",
     "text": [
      "D:\\ProgramData\\Anaconda3\\lib\\site-packages\\sklearn\\linear_model\\coordinate_descent.py:491: ConvergenceWarning: Objective did not converge. You might want to increase the number of iterations. Fitting data with very small alpha may cause precision problems.\n",
      "  ConvergenceWarning)\n",
      "D:\\ProgramData\\Anaconda3\\lib\\site-packages\\sklearn\\linear_model\\coordinate_descent.py:491: ConvergenceWarning: Objective did not converge. You might want to increase the number of iterations. Fitting data with very small alpha may cause precision problems.\n",
      "  ConvergenceWarning)\n",
      "D:\\ProgramData\\Anaconda3\\lib\\site-packages\\sklearn\\linear_model\\coordinate_descent.py:491: ConvergenceWarning: Objective did not converge. You might want to increase the number of iterations. Fitting data with very small alpha may cause precision problems.\n",
      "  ConvergenceWarning)\n"
     ]
    },
    {
     "name": "stdout",
     "output_type": "stream",
     "text": [
      "\n",
      "Lasso score: 6.1767 (0.6346)\n",
      "\n",
      "----------------------------------- 8 ----------------------------------------\n"
     ]
    },
    {
     "name": "stderr",
     "output_type": "stream",
     "text": [
      "D:\\ProgramData\\Anaconda3\\lib\\site-packages\\sklearn\\linear_model\\coordinate_descent.py:491: ConvergenceWarning: Objective did not converge. You might want to increase the number of iterations. Fitting data with very small alpha may cause precision problems.\n",
      "  ConvergenceWarning)\n",
      "D:\\ProgramData\\Anaconda3\\lib\\site-packages\\sklearn\\linear_model\\coordinate_descent.py:491: ConvergenceWarning: Objective did not converge. You might want to increase the number of iterations. Fitting data with very small alpha may cause precision problems.\n",
      "  ConvergenceWarning)\n",
      "D:\\ProgramData\\Anaconda3\\lib\\site-packages\\sklearn\\linear_model\\coordinate_descent.py:491: ConvergenceWarning: Objective did not converge. You might want to increase the number of iterations. Fitting data with very small alpha may cause precision problems.\n",
      "  ConvergenceWarning)\n"
     ]
    },
    {
     "name": "stdout",
     "output_type": "stream",
     "text": [
      "\n",
      "Lasso score: 6.1767 (0.6346)\n",
      "\n"
     ]
    },
    {
     "name": "stderr",
     "output_type": "stream",
     "text": [
      "D:\\ProgramData\\Anaconda3\\lib\\site-packages\\sklearn\\linear_model\\coordinate_descent.py:491: ConvergenceWarning: Objective did not converge. You might want to increase the number of iterations. Fitting data with very small alpha may cause precision problems.\n",
      "  ConvergenceWarning)\n"
     ]
    }
   ],
   "source": [
    "n_folds=5\n",
    "for i in range(9):\n",
    "    print('-----------------------------------',i,'----------------------------------------')\n",
    "    lasso=make_pipeline(RobustScaler(),Lasso(alpha=0.0005,random_state=1))\n",
    "    kf=KFold(n_folds,shuffle=True,random_state=42).get_n_splits(x)\n",
    "    rmse=np.sqrt(-cross_val_score(lasso,x,y,scoring='neg_mean_squared_error',cv=kf))\n",
    "    score=rmse\n",
    "    print(\"\\nLasso score: {:.4f} ({:.4f})\\n\".format(score.mean(), score.std()))\n"
   ]
  },
  {
   "cell_type": "markdown",
   "metadata": {},
   "source": [
    "#### ust sqrt of  pm2.5"
   ]
  },
  {
   "cell_type": "code",
   "execution_count": 92,
   "metadata": {
    "ExecuteTime": {
     "end_time": "2022-01-06T09:47:40.352745Z",
     "start_time": "2022-01-06T09:47:40.328744Z"
    },
    "collapsed": true
   },
   "outputs": [],
   "source": [
    "year_data33={}\n",
    "all_train_data11=all_train_data1.copy()\n",
    "## ust sqrt to pm2.5\n",
    "all_train_data11[9]=np.sqrt(all_train_data11[9])\n",
    "for m in range(12):\n",
    "    month_data3=np.empty((18,480))\n",
    "    month_data3[:,:]=all_train_data11.T.iloc[:,m*480:(m+1)*480]\n",
    "    year_data33[m]=month_data3"
   ]
  },
  {
   "cell_type": "code",
   "execution_count": 93,
   "metadata": {
    "ExecuteTime": {
     "end_time": "2022-01-06T09:48:00.297886Z",
     "start_time": "2022-01-06T09:48:00.288885Z"
    },
    "collapsed": true
   },
   "outputs": [],
   "source": [
    "x1=np.empty((12*479,18))\n",
    "y1=np.empty((12*479,1))"
   ]
  },
  {
   "cell_type": "code",
   "execution_count": 94,
   "metadata": {
    "ExecuteTime": {
     "end_time": "2022-01-06T09:48:19.649993Z",
     "start_time": "2022-01-06T09:48:19.632992Z"
    },
    "collapsed": true
   },
   "outputs": [],
   "source": [
    "for m in range(12):\n",
    "    x1[m*479:(m+1)*479,:]=year_data33[m].transpose()[:479,[0,1,2,3,4,5,6,7,8,9,10,11,12,13,14,15,16,17]]\n",
    "    y1[m*479:(m+1)*479,:]=year_data33[m].transpose()[1:,9:10]"
   ]
  },
  {
   "cell_type": "code",
   "execution_count": 95,
   "metadata": {
    "ExecuteTime": {
     "end_time": "2022-01-06T09:48:37.955040Z",
     "start_time": "2022-01-06T09:48:37.152994Z"
    }
   },
   "outputs": [
    {
     "name": "stdout",
     "output_type": "stream",
     "text": [
      "----------------------------------- 0 ----------------------------------------\n",
      "\n",
      "Lasso score: 0.6969 (0.0394)\n",
      "\n",
      "----------------------------------- 1 ----------------------------------------\n",
      "\n",
      "Lasso score: 0.6969 (0.0394)\n",
      "\n",
      "----------------------------------- 2 ----------------------------------------\n",
      "\n",
      "Lasso score: 0.6969 (0.0394)\n",
      "\n",
      "----------------------------------- 3 ----------------------------------------\n",
      "\n",
      "Lasso score: 0.6969 (0.0394)\n",
      "\n",
      "----------------------------------- 4 ----------------------------------------\n",
      "\n",
      "Lasso score: 0.6969 (0.0394)\n",
      "\n",
      "----------------------------------- 5 ----------------------------------------\n",
      "\n",
      "Lasso score: 0.6969 (0.0394)\n",
      "\n",
      "----------------------------------- 6 ----------------------------------------\n",
      "\n",
      "Lasso score: 0.6969 (0.0394)\n",
      "\n",
      "----------------------------------- 7 ----------------------------------------\n",
      "\n",
      "Lasso score: 0.6969 (0.0394)\n",
      "\n",
      "----------------------------------- 8 ----------------------------------------\n",
      "\n",
      "Lasso score: 0.6969 (0.0394)\n",
      "\n"
     ]
    }
   ],
   "source": [
    "n_folds=5\n",
    "for i in range(9):\n",
    "    print('-----------------------------------',i,'----------------------------------------')\n",
    "    lasso=make_pipeline(RobustScaler(),Lasso(alpha=0.0005,random_state=1))\n",
    "    kf=KFold(n_folds,shuffle=True,random_state=42).get_n_splits(x1)\n",
    "    rmse=np.sqrt(-cross_val_score(lasso,x1,y1,scoring='neg_mean_squared_error',cv=kf))\n",
    "    score=rmse\n",
    "    print(\"\\nLasso score: {:.4f} ({:.4f})\\n\".format(score.mean(), score.std()))\n"
   ]
  },
  {
   "cell_type": "markdown",
   "metadata": {},
   "source": [
    "### just use original data to predict next pm2.5\n",
    "- use all_train_data2 & use all_train_data3"
   ]
  },
  {
   "cell_type": "code",
   "execution_count": 73,
   "metadata": {
    "ExecuteTime": {
     "end_time": "2022-01-06T09:27:14.175612Z",
     "start_time": "2022-01-06T09:27:14.150610Z"
    },
    "collapsed": true
   },
   "outputs": [],
   "source": [
    "year_data4={}\n",
    "for m in range(12):\n",
    "    month_data3=np.empty((18,480))\n",
    "    month_data3[:,:]=all_train_data2.T.iloc[:,m*480:(m+1)*480]\n",
    "    year_data4[m]=month_data3"
   ]
  },
  {
   "cell_type": "code",
   "execution_count": 74,
   "metadata": {
    "ExecuteTime": {
     "end_time": "2022-01-06T09:27:14.774646Z",
     "start_time": "2022-01-06T09:27:14.750645Z"
    },
    "collapsed": true
   },
   "outputs": [],
   "source": [
    "year_data5={}\n",
    "for m in range(12):\n",
    "    month_data3=np.empty((18,480))\n",
    "    month_data3[:,:]=all_train_data3.T.iloc[:,m*480:(m+1)*480]\n",
    "    year_data5[m]=month_data3"
   ]
  },
  {
   "cell_type": "code",
   "execution_count": 75,
   "metadata": {
    "ExecuteTime": {
     "end_time": "2022-01-06T09:27:22.702099Z",
     "start_time": "2022-01-06T09:27:22.694099Z"
    },
    "collapsed": true
   },
   "outputs": [],
   "source": [
    "x2=np.empty((12*479,18))\n",
    "y2=np.empty((12*479,1))"
   ]
  },
  {
   "cell_type": "code",
   "execution_count": 76,
   "metadata": {
    "ExecuteTime": {
     "end_time": "2022-01-06T09:27:25.637267Z",
     "start_time": "2022-01-06T09:27:25.631267Z"
    },
    "collapsed": true
   },
   "outputs": [],
   "source": [
    "x3=np.empty((12*479,18))\n",
    "y3=np.empty((12*479,1))"
   ]
  },
  {
   "cell_type": "code",
   "execution_count": 77,
   "metadata": {
    "ExecuteTime": {
     "end_time": "2022-01-06T09:30:29.267770Z",
     "start_time": "2022-01-06T09:30:29.254770Z"
    },
    "collapsed": true
   },
   "outputs": [],
   "source": [
    "for m in range(12):\n",
    "    x2[m*479:(m+1)*479,:]=year_data4[m].transpose()[:479,[0,1,2,3,4,5,6,7,8,9,10,11,12,13,14,15,16,17]]\n",
    "    y2[m*479:(m+1)*479,:]=year_data4[m].transpose()[1:,9:10]"
   ]
  },
  {
   "cell_type": "code",
   "execution_count": 79,
   "metadata": {
    "ExecuteTime": {
     "end_time": "2022-01-06T09:30:37.752256Z",
     "start_time": "2022-01-06T09:30:37.737255Z"
    }
   },
   "outputs": [],
   "source": [
    "for m in range(12):\n",
    "    x3[m*479:(m+1)*479,:]=year_data5[m].transpose()[:479,[0,1,2,3,4,5,6,7,8,9,10,11,12,13,14,15,16,17]]\n",
    "    y3[m*479:(m+1)*479,:]=year_data5[m].transpose()[1:,9:10]"
   ]
  },
  {
   "cell_type": "markdown",
   "metadata": {},
   "source": [
    "### use  all_train_data2"
   ]
  },
  {
   "cell_type": "code",
   "execution_count": 80,
   "metadata": {
    "ExecuteTime": {
     "end_time": "2022-01-06T09:30:39.385349Z",
     "start_time": "2022-01-06T09:30:39.301344Z"
    }
   },
   "outputs": [
    {
     "name": "stdout",
     "output_type": "stream",
     "text": [
      "----------------------------------- start ----------------------------------------\n",
      "\n",
      "Lasso score: 0.6953 (0.0384)\n",
      "\n"
     ]
    }
   ],
   "source": [
    "n_folds=5\n",
    "print('-----------------------------------','start','----------------------------------------')\n",
    "lasso=make_pipeline(RobustScaler(),Lasso(alpha=0.0005,random_state=1))\n",
    "kf=KFold(n_folds,shuffle=True,random_state=42).get_n_splits(x2)\n",
    "rmse=np.sqrt(-cross_val_score(lasso,x2,y2,scoring='neg_mean_squared_error',cv=kf))\n",
    "score=rmse\n",
    "print(\"\\nLasso score: {:.4f} ({:.4f})\\n\".format(score.mean(), score.std()))\n"
   ]
  },
  {
   "cell_type": "markdown",
   "metadata": {},
   "source": [
    "### use  all_train_data3"
   ]
  },
  {
   "cell_type": "code",
   "execution_count": 81,
   "metadata": {
    "ExecuteTime": {
     "end_time": "2022-01-06T09:30:40.812431Z",
     "start_time": "2022-01-06T09:30:40.740426Z"
    }
   },
   "outputs": [
    {
     "name": "stdout",
     "output_type": "stream",
     "text": [
      "----------------------------------- start ----------------------------------------\n",
      "\n",
      "Lasso score: 0.4050 (0.0222)\n",
      "\n"
     ]
    }
   ],
   "source": [
    "n_folds=5\n",
    "print('-----------------------------------','start','----------------------------------------')\n",
    "lasso=make_pipeline(RobustScaler(),Lasso(alpha=0.0005,random_state=1))\n",
    "kf=KFold(n_folds,shuffle=True,random_state=42).get_n_splits(x3)\n",
    "rmse=np.sqrt(-cross_val_score(lasso,x3,y3,scoring='neg_mean_squared_error',cv=kf))\n",
    "score=rmse\n",
    "print(\"\\nLasso score: {:.4f} ({:.4f})\\n\".format(score.mean(), score.std()))"
   ]
  },
  {
   "cell_type": "markdown",
   "metadata": {
    "ExecuteTime": {
     "end_time": "2022-01-05T03:02:15.593615Z",
     "start_time": "2022-01-05T03:02:15.587615Z"
    }
   },
   "source": [
    "### x use all_train_data3 and y use all_train_data1"
   ]
  },
  {
   "cell_type": "code",
   "execution_count": 82,
   "metadata": {
    "ExecuteTime": {
     "end_time": "2022-01-06T09:31:26.872065Z",
     "start_time": "2022-01-06T09:31:26.598049Z"
    }
   },
   "outputs": [
    {
     "name": "stdout",
     "output_type": "stream",
     "text": [
      "----------------------------------- start ----------------------------------------\n",
      "\n",
      "Lasso score: 7.1592 (0.7185)\n",
      "\n"
     ]
    }
   ],
   "source": [
    "n_folds=5\n",
    "print('-----------------------------------','start','----------------------------------------')\n",
    "lasso=make_pipeline(RobustScaler(),Lasso(alpha=0.0005,random_state=1))\n",
    "kf=KFold(n_folds,shuffle=True,random_state=42).get_n_splits(x3)\n",
    "rmse=np.sqrt(-cross_val_score(lasso,x3,y,scoring='neg_mean_squared_error',cv=kf))\n",
    "score=rmse\n",
    "print(\"\\nLasso score: {:.4f} ({:.4f})\\n\".format(score.mean(), score.std()))"
   ]
  },
  {
   "cell_type": "code",
   "execution_count": 83,
   "metadata": {
    "ExecuteTime": {
     "end_time": "2022-01-06T09:31:41.504902Z",
     "start_time": "2022-01-06T09:31:41.463900Z"
    },
    "collapsed": true
   },
   "outputs": [],
   "source": [
    "lasso.fit(x3,y3)\n",
    "y3_hat=lasso.predict(x3).reshape(-1,1)"
   ]
  },
  {
   "cell_type": "code",
   "execution_count": 84,
   "metadata": {
    "ExecuteTime": {
     "end_time": "2022-01-06T09:31:42.006931Z",
     "start_time": "2022-01-06T09:31:41.983929Z"
    },
    "collapsed": true
   },
   "outputs": [],
   "source": [
    "lasso.fit(x2,y2)\n",
    "y2_hat=lasso.predict(x2).reshape(-1,1)"
   ]
  },
  {
   "cell_type": "code",
   "execution_count": 85,
   "metadata": {
    "ExecuteTime": {
     "end_time": "2022-01-06T09:31:42.634967Z",
     "start_time": "2022-01-06T09:31:42.509959Z"
    }
   },
   "outputs": [
    {
     "name": "stderr",
     "output_type": "stream",
     "text": [
      "D:\\ProgramData\\Anaconda3\\lib\\site-packages\\sklearn\\linear_model\\coordinate_descent.py:491: ConvergenceWarning: Objective did not converge. You might want to increase the number of iterations. Fitting data with very small alpha may cause precision problems.\n",
      "  ConvergenceWarning)\n"
     ]
    }
   ],
   "source": [
    "lasso.fit(x,y)\n",
    "y_hat=lasso.predict(x2).reshape(-1,1)"
   ]
  },
  {
   "cell_type": "code",
   "execution_count": 86,
   "metadata": {
    "ExecuteTime": {
     "end_time": "2022-01-06T09:31:43.190998Z",
     "start_time": "2022-01-06T09:31:43.182998Z"
    },
    "collapsed": true
   },
   "outputs": [],
   "source": [
    "x4=np.empty((12*479,3))\n",
    "x4[:,0:1]=y_hat\n",
    "x4[:,1:2]=y2_hat\n",
    "x4[:,2:3]=y3_hat"
   ]
  },
  {
   "cell_type": "code",
   "execution_count": 87,
   "metadata": {
    "ExecuteTime": {
     "end_time": "2022-01-06T09:31:43.833035Z",
     "start_time": "2022-01-06T09:31:43.829035Z"
    }
   },
   "outputs": [
    {
     "data": {
      "text/plain": [
       "array([[-407.12615151,    5.05920993,    0.42210318],\n",
       "       [-300.55996841,    5.93881557,    0.93289554],\n",
       "       [-290.18052625,    5.65313117,    0.76514916],\n",
       "       [-369.36139029,    5.55579873,    0.7104485 ],\n",
       "       [-346.09756532,    5.24326854,    0.52891552]])"
      ]
     },
     "execution_count": 87,
     "metadata": {},
     "output_type": "execute_result"
    }
   ],
   "source": [
    "x4[:5]"
   ]
  },
  {
   "cell_type": "code",
   "execution_count": 88,
   "metadata": {
    "ExecuteTime": {
     "end_time": "2022-01-06T09:31:44.394067Z",
     "start_time": "2022-01-06T09:31:44.383067Z"
    }
   },
   "outputs": [
    {
     "data": {
      "text/plain": [
       "array([[1.11326216],\n",
       "       [0.97051618],\n",
       "       [0.92162079],\n",
       "       [0.71867781],\n",
       "       [0.55771628]])"
      ]
     },
     "execution_count": 88,
     "metadata": {},
     "output_type": "execute_result"
    }
   ],
   "source": [
    "y3[:5]"
   ]
  },
  {
   "cell_type": "code",
   "execution_count": 89,
   "metadata": {
    "ExecuteTime": {
     "end_time": "2022-01-06T09:31:44.873095Z",
     "start_time": "2022-01-06T09:31:44.861094Z"
    }
   },
   "outputs": [
    {
     "data": {
      "text/plain": [
       "array([[6.244998  ],\n",
       "       [6.        ],\n",
       "       [5.91607978],\n",
       "       [5.56776436],\n",
       "       [5.29150262]])"
      ]
     },
     "execution_count": 89,
     "metadata": {},
     "output_type": "execute_result"
    }
   ],
   "source": [
    "y2[:5]"
   ]
  },
  {
   "cell_type": "code",
   "execution_count": 90,
   "metadata": {
    "ExecuteTime": {
     "end_time": "2022-01-06T09:31:45.518132Z",
     "start_time": "2022-01-06T09:31:45.454128Z"
    }
   },
   "outputs": [
    {
     "name": "stdout",
     "output_type": "stream",
     "text": [
      "----------------------------------- start ----------------------------------------\n",
      "\n",
      "Lasso score: 0.4022 (0.0212)\n",
      "\n"
     ]
    }
   ],
   "source": [
    "n_folds=5\n",
    "print('-----------------------------------','start','----------------------------------------')\n",
    "lasso=make_pipeline(RobustScaler(),Lasso(alpha=0.0005,random_state=1))\n",
    "kf=KFold(n_folds,shuffle=True,random_state=42).get_n_splits(x4)\n",
    "rmse=np.sqrt(-cross_val_score(lasso,x4,y3,scoring='neg_mean_squared_error',cv=kf))\n",
    "score=rmse\n",
    "print(\"\\nLasso score: {:.4f} ({:.4f})\\n\".format(score.mean(), score.std()))"
   ]
  },
  {
   "cell_type": "code",
   "execution_count": 91,
   "metadata": {
    "ExecuteTime": {
     "end_time": "2022-01-06T09:31:46.103165Z",
     "start_time": "2022-01-06T09:31:46.062163Z"
    }
   },
   "outputs": [
    {
     "data": {
      "text/plain": [
       "0    -0.027470\n",
       "1     0.330326\n",
       "2     0.284273\n",
       "3     0.288906\n",
       "4     0.029632\n",
       "5     0.451861\n",
       "6     0.377964\n",
       "7     0.357789\n",
       "8     0.772313\n",
       "9     1.000000\n",
       "10   -0.062040\n",
       "11   -0.259209\n",
       "12    0.368880\n",
       "13    0.394145\n",
       "14    0.185643\n",
       "15    0.157551\n",
       "16   -0.083962\n",
       "17   -0.049691\n",
       "Name: 9, dtype: float64"
      ]
     },
     "execution_count": 91,
     "metadata": {},
     "output_type": "execute_result"
    }
   ],
   "source": [
    "all_train_data1.corr()[9]"
   ]
  },
  {
   "cell_type": "code",
   "execution_count": null,
   "metadata": {
    "ExecuteTime": {
     "end_time": "2022-01-05T06:25:36.719480Z",
     "start_time": "2022-01-05T06:25:36.693478Z"
    },
    "collapsed": true
   },
   "outputs": [],
   "source": [
    "all_train_data2.corr()[9]"
   ]
  },
  {
   "cell_type": "code",
   "execution_count": null,
   "metadata": {
    "ExecuteTime": {
     "end_time": "2022-01-05T06:27:01.582333Z",
     "start_time": "2022-01-05T06:27:01.549332Z"
    },
    "collapsed": true
   },
   "outputs": [],
   "source": [
    "all_train_data3.corr()[9]"
   ]
  },
  {
   "cell_type": "code",
   "execution_count": null,
   "metadata": {
    "collapsed": true
   },
   "outputs": [],
   "source": []
  }
 ],
 "metadata": {
  "kernelspec": {
   "display_name": "Python 3",
   "language": "python",
   "name": "python3"
  },
  "language_info": {
   "codemirror_mode": {
    "name": "ipython",
    "version": 3
   },
   "file_extension": ".py",
   "mimetype": "text/x-python",
   "name": "python",
   "nbconvert_exporter": "python",
   "pygments_lexer": "ipython3",
   "version": "3.6.3"
  }
 },
 "nbformat": 4,
 "nbformat_minor": 2
}
