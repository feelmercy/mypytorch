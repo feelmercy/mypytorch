{
 "cells": [
  {
   "cell_type": "code",
   "execution_count": 4,
   "metadata": {
    "ExecuteTime": {
     "end_time": "2021-12-16T09:57:43.775228Z",
     "start_time": "2021-12-16T09:57:43.752227Z"
    }
   },
   "outputs": [
    {
     "name": "stdout",
     "output_type": "stream",
     "text": [
      "Using matplotlib backend: Qt5Agg\n"
     ]
    }
   ],
   "source": [
    "import numpy as np\n",
    "import torch \n",
    "import pandas as pd\n",
    "import torchvision\n",
    "from torch import optim,nn\n",
    "import seaborn as sns\n",
    "from scipy import stats\n",
    "from scipy.stats import norm,skew,kurtosis\n",
    "import matplotlib.pyplot as plt\n",
    "%matplotlib auto"
   ]
  },
  {
   "cell_type": "code",
   "execution_count": 5,
   "metadata": {
    "ExecuteTime": {
     "end_time": "2021-12-16T09:57:44.468268Z",
     "start_time": "2021-12-16T09:57:44.400264Z"
    },
    "collapsed": true
   },
   "outputs": [],
   "source": [
    "train_data=pd.read_csv(r'F:\\study\\ml\\HonyiLee2020\\hw1\\data\\train.csv',encoding='big5')\n",
    "test_data=pd.read_csv(r'F:\\study\\ml\\HonyiLee2020\\hw1\\data\\test.csv',encoding='big5',header=None)"
   ]
  },
  {
   "cell_type": "code",
   "execution_count": 6,
   "metadata": {
    "ExecuteTime": {
     "end_time": "2021-12-16T09:57:45.044301Z",
     "start_time": "2021-12-16T09:57:45.032300Z"
    }
   },
   "outputs": [
    {
     "name": "stdout",
     "output_type": "stream",
     "text": [
      "train_data shape:  (4320, 27)\n",
      "test_data shape:  (4320, 11)\n"
     ]
    }
   ],
   "source": [
    "print('train_data shape: ',train_data.shape)\n",
    "print('test_data shape: ',test_data.shape)"
   ]
  },
  {
   "cell_type": "code",
   "execution_count": 7,
   "metadata": {
    "ExecuteTime": {
     "end_time": "2021-12-16T09:57:45.896350Z",
     "start_time": "2021-12-16T09:57:45.848347Z"
    }
   },
   "outputs": [
    {
     "data": {
      "text/html": [
       "<div>\n",
       "<style>\n",
       "    .dataframe thead tr:only-child th {\n",
       "        text-align: right;\n",
       "    }\n",
       "\n",
       "    .dataframe thead th {\n",
       "        text-align: left;\n",
       "    }\n",
       "\n",
       "    .dataframe tbody tr th {\n",
       "        vertical-align: top;\n",
       "    }\n",
       "</style>\n",
       "<table border=\"1\" class=\"dataframe\">\n",
       "  <thead>\n",
       "    <tr style=\"text-align: right;\">\n",
       "      <th></th>\n",
       "      <th>日期</th>\n",
       "      <th>測站</th>\n",
       "      <th>測項</th>\n",
       "      <th>0</th>\n",
       "      <th>1</th>\n",
       "      <th>2</th>\n",
       "      <th>3</th>\n",
       "      <th>4</th>\n",
       "      <th>5</th>\n",
       "      <th>6</th>\n",
       "      <th>...</th>\n",
       "      <th>14</th>\n",
       "      <th>15</th>\n",
       "      <th>16</th>\n",
       "      <th>17</th>\n",
       "      <th>18</th>\n",
       "      <th>19</th>\n",
       "      <th>20</th>\n",
       "      <th>21</th>\n",
       "      <th>22</th>\n",
       "      <th>23</th>\n",
       "    </tr>\n",
       "  </thead>\n",
       "  <tbody>\n",
       "    <tr>\n",
       "      <th>0</th>\n",
       "      <td>2014/1/1</td>\n",
       "      <td>豐原</td>\n",
       "      <td>AMB_TEMP</td>\n",
       "      <td>14</td>\n",
       "      <td>14</td>\n",
       "      <td>14</td>\n",
       "      <td>13</td>\n",
       "      <td>12</td>\n",
       "      <td>12</td>\n",
       "      <td>12</td>\n",
       "      <td>...</td>\n",
       "      <td>22</td>\n",
       "      <td>22</td>\n",
       "      <td>21</td>\n",
       "      <td>19</td>\n",
       "      <td>17</td>\n",
       "      <td>16</td>\n",
       "      <td>15</td>\n",
       "      <td>15</td>\n",
       "      <td>15</td>\n",
       "      <td>15</td>\n",
       "    </tr>\n",
       "    <tr>\n",
       "      <th>1</th>\n",
       "      <td>2014/1/1</td>\n",
       "      <td>豐原</td>\n",
       "      <td>CH4</td>\n",
       "      <td>1.8</td>\n",
       "      <td>1.8</td>\n",
       "      <td>1.8</td>\n",
       "      <td>1.8</td>\n",
       "      <td>1.8</td>\n",
       "      <td>1.8</td>\n",
       "      <td>1.8</td>\n",
       "      <td>...</td>\n",
       "      <td>1.8</td>\n",
       "      <td>1.8</td>\n",
       "      <td>1.8</td>\n",
       "      <td>1.8</td>\n",
       "      <td>1.8</td>\n",
       "      <td>1.8</td>\n",
       "      <td>1.8</td>\n",
       "      <td>1.8</td>\n",
       "      <td>1.8</td>\n",
       "      <td>1.8</td>\n",
       "    </tr>\n",
       "    <tr>\n",
       "      <th>2</th>\n",
       "      <td>2014/1/1</td>\n",
       "      <td>豐原</td>\n",
       "      <td>CO</td>\n",
       "      <td>0.51</td>\n",
       "      <td>0.41</td>\n",
       "      <td>0.39</td>\n",
       "      <td>0.37</td>\n",
       "      <td>0.35</td>\n",
       "      <td>0.3</td>\n",
       "      <td>0.37</td>\n",
       "      <td>...</td>\n",
       "      <td>0.37</td>\n",
       "      <td>0.37</td>\n",
       "      <td>0.47</td>\n",
       "      <td>0.69</td>\n",
       "      <td>0.56</td>\n",
       "      <td>0.45</td>\n",
       "      <td>0.38</td>\n",
       "      <td>0.35</td>\n",
       "      <td>0.36</td>\n",
       "      <td>0.32</td>\n",
       "    </tr>\n",
       "    <tr>\n",
       "      <th>3</th>\n",
       "      <td>2014/1/1</td>\n",
       "      <td>豐原</td>\n",
       "      <td>NMHC</td>\n",
       "      <td>0.2</td>\n",
       "      <td>0.15</td>\n",
       "      <td>0.13</td>\n",
       "      <td>0.12</td>\n",
       "      <td>0.11</td>\n",
       "      <td>0.06</td>\n",
       "      <td>0.1</td>\n",
       "      <td>...</td>\n",
       "      <td>0.1</td>\n",
       "      <td>0.13</td>\n",
       "      <td>0.14</td>\n",
       "      <td>0.23</td>\n",
       "      <td>0.18</td>\n",
       "      <td>0.12</td>\n",
       "      <td>0.1</td>\n",
       "      <td>0.09</td>\n",
       "      <td>0.1</td>\n",
       "      <td>0.08</td>\n",
       "    </tr>\n",
       "    <tr>\n",
       "      <th>4</th>\n",
       "      <td>2014/1/1</td>\n",
       "      <td>豐原</td>\n",
       "      <td>NO</td>\n",
       "      <td>0.9</td>\n",
       "      <td>0.6</td>\n",
       "      <td>0.5</td>\n",
       "      <td>1.7</td>\n",
       "      <td>1.8</td>\n",
       "      <td>1.5</td>\n",
       "      <td>1.9</td>\n",
       "      <td>...</td>\n",
       "      <td>2.5</td>\n",
       "      <td>2.2</td>\n",
       "      <td>2.5</td>\n",
       "      <td>2.3</td>\n",
       "      <td>2.1</td>\n",
       "      <td>1.9</td>\n",
       "      <td>1.5</td>\n",
       "      <td>1.6</td>\n",
       "      <td>1.8</td>\n",
       "      <td>1.5</td>\n",
       "    </tr>\n",
       "  </tbody>\n",
       "</table>\n",
       "<p>5 rows × 27 columns</p>\n",
       "</div>"
      ],
      "text/plain": [
       "         日期  測站        測項     0     1     2     3     4     5     6  ...   \\\n",
       "0  2014/1/1  豐原  AMB_TEMP    14    14    14    13    12    12    12  ...    \n",
       "1  2014/1/1  豐原       CH4   1.8   1.8   1.8   1.8   1.8   1.8   1.8  ...    \n",
       "2  2014/1/1  豐原        CO  0.51  0.41  0.39  0.37  0.35   0.3  0.37  ...    \n",
       "3  2014/1/1  豐原      NMHC   0.2  0.15  0.13  0.12  0.11  0.06   0.1  ...    \n",
       "4  2014/1/1  豐原        NO   0.9   0.6   0.5   1.7   1.8   1.5   1.9  ...    \n",
       "\n",
       "     14    15    16    17    18    19    20    21    22    23  \n",
       "0    22    22    21    19    17    16    15    15    15    15  \n",
       "1   1.8   1.8   1.8   1.8   1.8   1.8   1.8   1.8   1.8   1.8  \n",
       "2  0.37  0.37  0.47  0.69  0.56  0.45  0.38  0.35  0.36  0.32  \n",
       "3   0.1  0.13  0.14  0.23  0.18  0.12   0.1  0.09   0.1  0.08  \n",
       "4   2.5   2.2   2.5   2.3   2.1   1.9   1.5   1.6   1.8   1.5  \n",
       "\n",
       "[5 rows x 27 columns]"
      ]
     },
     "execution_count": 7,
     "metadata": {},
     "output_type": "execute_result"
    }
   ],
   "source": [
    "train_data.head()"
   ]
  },
  {
   "cell_type": "code",
   "execution_count": 8,
   "metadata": {
    "ExecuteTime": {
     "end_time": "2021-12-16T09:57:46.358376Z",
     "start_time": "2021-12-16T09:57:46.326374Z"
    },
    "collapsed": true
   },
   "outputs": [],
   "source": [
    "train_data1=train_data.replace('NR',0)\n",
    "train_data1=train_data1.iloc[:,3:]"
   ]
  },
  {
   "cell_type": "markdown",
   "metadata": {},
   "source": [
    "- transform train data to 18 , 480 (20 days * 24 hours)"
   ]
  },
  {
   "cell_type": "code",
   "execution_count": 9,
   "metadata": {
    "ExecuteTime": {
     "end_time": "2021-12-16T09:57:48.076474Z",
     "start_time": "2021-12-16T09:57:47.824460Z"
    }
   },
   "outputs": [
    {
     "ename": "ValueError",
     "evalue": "could not broadcast input array from shape (0,24) into shape (18,24)",
     "output_type": "error",
     "traceback": [
      "\u001b[1;31m---------------------------------------------------------------------------\u001b[0m",
      "\u001b[1;31mValueError\u001b[0m                                Traceback (most recent call last)",
      "\u001b[1;32m<ipython-input-9-72a5bd8f5136>\u001b[0m in \u001b[0;36m<module>\u001b[1;34m()\u001b[0m\n\u001b[0;32m      3\u001b[0m     \u001b[0mmonth_data\u001b[0m\u001b[1;33m=\u001b[0m\u001b[0mnp\u001b[0m\u001b[1;33m.\u001b[0m\u001b[0mempty\u001b[0m\u001b[1;33m(\u001b[0m\u001b[1;33m(\u001b[0m\u001b[1;36m18\u001b[0m\u001b[1;33m,\u001b[0m\u001b[1;36m20\u001b[0m\u001b[1;33m*\u001b[0m\u001b[1;36m24\u001b[0m\u001b[1;33m)\u001b[0m\u001b[1;33m)\u001b[0m\u001b[1;33m\u001b[0m\u001b[0m\n\u001b[0;32m      4\u001b[0m     \u001b[1;32mfor\u001b[0m \u001b[0md\u001b[0m \u001b[1;32min\u001b[0m \u001b[0mrange\u001b[0m\u001b[1;33m(\u001b[0m\u001b[1;36m20\u001b[0m\u001b[1;33m)\u001b[0m\u001b[1;33m:\u001b[0m\u001b[1;33m\u001b[0m\u001b[0m\n\u001b[1;32m----> 5\u001b[1;33m         \u001b[0mmonth_data\u001b[0m\u001b[1;33m[\u001b[0m\u001b[1;33m:\u001b[0m\u001b[1;33m,\u001b[0m\u001b[1;36m24\u001b[0m\u001b[1;33m*\u001b[0m\u001b[0md\u001b[0m\u001b[1;33m:\u001b[0m\u001b[1;36m24\u001b[0m\u001b[1;33m*\u001b[0m\u001b[1;33m(\u001b[0m\u001b[0md\u001b[0m\u001b[1;33m+\u001b[0m\u001b[1;36m1\u001b[0m\u001b[1;33m)\u001b[0m\u001b[1;33m]\u001b[0m\u001b[1;33m=\u001b[0m\u001b[0mtrain_data1\u001b[0m\u001b[1;33m.\u001b[0m\u001b[0miloc\u001b[0m\u001b[1;33m[\u001b[0m\u001b[0mm\u001b[0m\u001b[1;33m*\u001b[0m\u001b[1;36m480\u001b[0m\u001b[1;33m+\u001b[0m\u001b[1;36m18\u001b[0m\u001b[1;33m*\u001b[0m\u001b[0md\u001b[0m\u001b[1;33m:\u001b[0m\u001b[0mm\u001b[0m\u001b[1;33m*\u001b[0m\u001b[1;36m480\u001b[0m\u001b[1;33m+\u001b[0m\u001b[1;36m18\u001b[0m\u001b[1;33m*\u001b[0m\u001b[1;33m(\u001b[0m\u001b[0md\u001b[0m\u001b[1;33m+\u001b[0m\u001b[1;36m1\u001b[0m\u001b[1;33m)\u001b[0m\u001b[1;33m,\u001b[0m\u001b[1;33m:\u001b[0m\u001b[1;33m]\u001b[0m\u001b[1;33m\u001b[0m\u001b[0m\n\u001b[0m\u001b[0;32m      6\u001b[0m     \u001b[0myear_data\u001b[0m\u001b[1;33m[\u001b[0m\u001b[0mm\u001b[0m\u001b[1;33m]\u001b[0m\u001b[1;33m=\u001b[0m\u001b[0mmonth_data\u001b[0m\u001b[1;33m\u001b[0m\u001b[0m\n\u001b[0;32m      7\u001b[0m \u001b[1;33m\u001b[0m\u001b[0m\n",
      "\u001b[1;31mValueError\u001b[0m: could not broadcast input array from shape (0,24) into shape (18,24)"
     ]
    }
   ],
   "source": [
    "year_data={}\n",
    "for m in range(12):\n",
    "    month_data=np.empty((18,20*24))\n",
    "    for d in range(20):\n",
    "        month_data[:,24*d:24*(d+1)]=train_data1.iloc[m*480+18*d:m*480+18*(d+1),:]\n",
    "    year_data[m]=month_data\n",
    "        "
   ]
  },
  {
   "cell_type": "code",
   "execution_count": null,
   "metadata": {
    "ExecuteTime": {
     "end_time": "2021-12-16T06:10:14.324525Z",
     "start_time": "2021-12-16T06:10:14.318524Z"
    }
   },
   "outputs": [],
   "source": [
    "year_data[1][:10,:]"
   ]
  },
  {
   "cell_type": "code",
   "execution_count": null,
   "metadata": {
    "ExecuteTime": {
     "end_time": "2021-12-16T06:10:14.770550Z",
     "start_time": "2021-12-16T06:10:14.758549Z"
    }
   },
   "outputs": [],
   "source": [
    "year_data[0].shape"
   ]
  },
  {
   "cell_type": "markdown",
   "metadata": {
    "collapsed": true
   },
   "source": [
    "- split every 9 hours to a group,so 480 -9 = 471 groups\n",
    "- all data x = (12 * 471 ,18 * 9 ) , y = (12 * 471 ,1)"
   ]
  },
  {
   "cell_type": "code",
   "execution_count": null,
   "metadata": {
    "ExecuteTime": {
     "end_time": "2021-12-16T06:10:16.150629Z",
     "start_time": "2021-12-16T06:10:16.140628Z"
    },
    "collapsed": true
   },
   "outputs": [],
   "source": [
    "x=np.empty((12*471,9*18))\n",
    "y=np.empty((12*471,1))"
   ]
  },
  {
   "cell_type": "code",
   "execution_count": null,
   "metadata": {
    "ExecuteTime": {
     "end_time": "2021-12-16T06:10:16.768664Z",
     "start_time": "2021-12-16T06:10:16.708661Z"
    },
    "collapsed": true
   },
   "outputs": [],
   "source": [
    "for m in range(12):\n",
    "    for i in range(471):\n",
    "        x[471*m+i:471*m+i+1,:]=year_data[m][:,i:i+9].reshape(1,-1)\n",
    "        y[471*m+i:471*m+i+1,:]=year_data[m][9,9+i]"
   ]
  },
  {
   "cell_type": "code",
   "execution_count": null,
   "metadata": {
    "ExecuteTime": {
     "end_time": "2021-12-16T06:10:19.186803Z",
     "start_time": "2021-12-16T06:10:17.341697Z"
    },
    "collapsed": true
   },
   "outputs": [],
   "source": [
    "sns.distplot(y,fit=norm)\n",
    "plt.show()"
   ]
  },
  {
   "cell_type": "markdown",
   "metadata": {},
   "source": [
    "- 通过观察y的高斯分布图:发现y明显是左偏"
   ]
  },
  {
   "cell_type": "code",
   "execution_count": null,
   "metadata": {
    "ExecuteTime": {
     "end_time": "2021-12-16T06:10:22.501992Z",
     "start_time": "2021-12-16T06:10:22.491992Z"
    }
   },
   "outputs": [],
   "source": [
    "y.shape"
   ]
  },
  {
   "cell_type": "code",
   "execution_count": null,
   "metadata": {
    "ExecuteTime": {
     "end_time": "2021-12-16T06:10:23.126028Z",
     "start_time": "2021-12-16T06:10:23.117027Z"
    },
    "collapsed": true
   },
   "outputs": [],
   "source": [
    "yy=pd.DataFrame({'pm25':y.flatten()})"
   ]
  },
  {
   "cell_type": "code",
   "execution_count": null,
   "metadata": {
    "ExecuteTime": {
     "end_time": "2021-12-16T06:10:23.803067Z",
     "start_time": "2021-12-16T06:10:23.668059Z"
    }
   },
   "outputs": [],
   "source": [
    "yy.describe()"
   ]
  },
  {
   "cell_type": "markdown",
   "metadata": {},
   "source": [
    "- y有-1 属于异常值,需要处理"
   ]
  },
  {
   "cell_type": "code",
   "execution_count": null,
   "metadata": {
    "ExecuteTime": {
     "end_time": "2021-12-16T06:10:24.837126Z",
     "start_time": "2021-12-16T06:10:24.824125Z"
    }
   },
   "outputs": [],
   "source": [
    "yy.head()"
   ]
  },
  {
   "cell_type": "code",
   "execution_count": null,
   "metadata": {
    "ExecuteTime": {
     "end_time": "2021-12-16T06:10:25.460161Z",
     "start_time": "2021-12-16T06:10:25.442160Z"
    }
   },
   "outputs": [],
   "source": [
    "yy[yy['pm25']==-1]"
   ]
  },
  {
   "cell_type": "code",
   "execution_count": null,
   "metadata": {
    "ExecuteTime": {
     "end_time": "2021-12-16T06:10:26.012193Z",
     "start_time": "2021-12-16T06:10:25.997192Z"
    }
   },
   "outputs": [],
   "source": [
    "yy[yy['pm25']==0]"
   ]
  },
  {
   "attachments": {
    "image.png": {
     "image/png": "[encoded data removed]"
    }
   },
   "cell_type": "markdown",
   "metadata": {},
   "source": [
    "- -1对应的组的数据,通过观察 461和 4699 组的数据,发现 pm2.5 为-1 的前后组的数据,都是如图 \n",
    "![image.png](attachment:image.png)故认为应该取均值,而不是-1"
   ]
  },
  {
   "cell_type": "markdown",
   "metadata": {
    "ExecuteTime": {
     "end_time": "2021-12-15T05:55:40.551119Z",
     "start_time": "2021-12-15T05:55:40.541118Z"
    }
   },
   "source": [
    "- 对比0 前后组的数据,是前面往往是6,7,8,7 到0 ,而不像-1,是45,46,-1,57 ,故认为-1处不应该是0 ,而应该是前后的均值"
   ]
  },
  {
   "cell_type": "code",
   "execution_count": null,
   "metadata": {
    "ExecuteTime": {
     "end_time": "2021-12-16T06:10:28.204318Z",
     "start_time": "2021-12-16T06:10:28.196318Z"
    }
   },
   "outputs": [],
   "source": [
    "yy.iloc[461,:]"
   ]
  },
  {
   "cell_type": "code",
   "execution_count": null,
   "metadata": {
    "ExecuteTime": {
     "end_time": "2021-12-16T06:10:28.978363Z",
     "start_time": "2021-12-16T06:10:28.973362Z"
    }
   },
   "outputs": [],
   "source": [
    "x[462,9*9:9*10]"
   ]
  },
  {
   "cell_type": "code",
   "execution_count": null,
   "metadata": {
    "ExecuteTime": {
     "end_time": "2021-12-16T06:10:29.797410Z",
     "start_time": "2021-12-16T06:10:29.790409Z"
    }
   },
   "outputs": [],
   "source": [
    "x[460,9*9:9*10]"
   ]
  },
  {
   "cell_type": "code",
   "execution_count": null,
   "metadata": {
    "ExecuteTime": {
     "end_time": "2021-12-16T06:10:30.335440Z",
     "start_time": "2021-12-16T06:10:30.329440Z"
    }
   },
   "outputs": [],
   "source": [
    "x[461,9*9:9*10]"
   ]
  },
  {
   "cell_type": "code",
   "execution_count": null,
   "metadata": {
    "ExecuteTime": {
     "end_time": "2021-12-16T06:10:30.931474Z",
     "start_time": "2021-12-16T06:10:30.924474Z"
    }
   },
   "outputs": [],
   "source": [
    "x[210,9*9:9*10]"
   ]
  },
  {
   "cell_type": "code",
   "execution_count": null,
   "metadata": {
    "ExecuteTime": {
     "end_time": "2021-12-16T06:10:31.377500Z",
     "start_time": "2021-12-16T06:10:31.366499Z"
    }
   },
   "outputs": [],
   "source": [
    "x[211,9*9:9*10]"
   ]
  },
  {
   "cell_type": "code",
   "execution_count": null,
   "metadata": {
    "ExecuteTime": {
     "end_time": "2021-12-16T06:10:31.719519Z",
     "start_time": "2021-12-16T06:10:31.710519Z"
    }
   },
   "outputs": [],
   "source": [
    "x[212,9*9:9*10]"
   ]
  },
  {
   "cell_type": "code",
   "execution_count": null,
   "metadata": {
    "ExecuteTime": {
     "end_time": "2021-12-16T06:10:31.981534Z",
     "start_time": "2021-12-16T06:10:31.975534Z"
    }
   },
   "outputs": [],
   "source": [
    "x[4698,9*9:9*10]"
   ]
  },
  {
   "cell_type": "code",
   "execution_count": null,
   "metadata": {
    "ExecuteTime": {
     "end_time": "2021-12-16T06:10:32.225548Z",
     "start_time": "2021-12-16T06:10:32.218548Z"
    }
   },
   "outputs": [],
   "source": [
    "x[4699,9*9:9*10]"
   ]
  },
  {
   "cell_type": "code",
   "execution_count": null,
   "metadata": {
    "ExecuteTime": {
     "end_time": "2021-12-16T06:10:32.430560Z",
     "start_time": "2021-12-16T06:10:32.423560Z"
    }
   },
   "outputs": [],
   "source": [
    "x[4700,9*9:9*10]"
   ]
  },
  {
   "cell_type": "code",
   "execution_count": null,
   "metadata": {
    "ExecuteTime": {
     "end_time": "2021-12-16T06:10:32.700576Z",
     "start_time": "2021-12-16T06:10:32.693575Z"
    }
   },
   "outputs": [],
   "source": [
    "x[4701,9*9:9*10]"
   ]
  },
  {
   "cell_type": "markdown",
   "metadata": {},
   "source": [
    "- correct -1 to mean value"
   ]
  },
  {
   "cell_type": "code",
   "execution_count": null,
   "metadata": {
    "ExecuteTime": {
     "end_time": "2021-12-16T06:10:33.117599Z",
     "start_time": "2021-12-16T06:10:33.103599Z"
    }
   },
   "outputs": [],
   "source": [
    "yy.iloc[yy[yy['pm25']==-1].index-1,:]"
   ]
  },
  {
   "cell_type": "code",
   "execution_count": null,
   "metadata": {
    "ExecuteTime": {
     "end_time": "2021-12-16T06:10:33.939646Z",
     "start_time": "2021-12-16T06:10:33.926646Z"
    }
   },
   "outputs": [],
   "source": [
    "yy.iloc[yy[yy['pm25']==-1].index+1,:]"
   ]
  },
  {
   "cell_type": "code",
   "execution_count": null,
   "metadata": {
    "ExecuteTime": {
     "end_time": "2021-12-16T06:10:34.420674Z",
     "start_time": "2021-12-16T06:10:34.405673Z"
    }
   },
   "outputs": [],
   "source": [
    "yy.iloc[yy[yy['pm25']==-1].index-1,:].values+yy.iloc[yy[yy['pm25']==-1].index+1,:].values"
   ]
  },
  {
   "cell_type": "markdown",
   "metadata": {},
   "source": [
    "- fill mean value of two groups between pre-group and post-group"
   ]
  },
  {
   "cell_type": "code",
   "execution_count": null,
   "metadata": {
    "ExecuteTime": {
     "end_time": "2021-12-16T06:10:34.827697Z",
     "start_time": "2021-12-16T06:10:34.815697Z"
    },
    "collapsed": true
   },
   "outputs": [],
   "source": [
    "yy.iloc[yy[yy['pm25']==-1].index,:]=(yy.iloc[yy[yy['pm25']==-1].index-1,:].values+yy.iloc[yy[yy['pm25']==-1].index+1,:].values.reshape(-1,1))/2"
   ]
  },
  {
   "cell_type": "code",
   "execution_count": null,
   "metadata": {
    "ExecuteTime": {
     "end_time": "2021-12-16T06:10:53.476764Z",
     "start_time": "2021-12-16T06:10:53.462763Z"
    }
   },
   "outputs": [],
   "source": [
    "yy.iloc[460,:]"
   ]
  },
  {
   "cell_type": "code",
   "execution_count": null,
   "metadata": {
    "ExecuteTime": {
     "end_time": "2021-12-16T06:20:44.122547Z",
     "start_time": "2021-12-16T06:20:44.072544Z"
    }
   },
   "outputs": [],
   "source": [
    "xx=pd.DataFrame(x)\n",
    "xx.head()"
   ]
  },
  {
   "cell_type": "code",
   "execution_count": null,
   "metadata": {
    "ExecuteTime": {
     "end_time": "2021-12-16T06:41:09.704646Z",
     "start_time": "2021-12-16T06:41:09.630642Z"
    }
   },
   "outputs": [],
   "source": [
    "train_data2=pd.DataFrame(year_data[0].transpose())\n",
    "train_data2.describe()"
   ]
  },
  {
   "cell_type": "code",
   "execution_count": null,
   "metadata": {
    "ExecuteTime": {
     "end_time": "2021-12-16T06:33:54.288742Z",
     "start_time": "2021-12-16T06:33:54.277741Z"
    }
   },
   "outputs": [],
   "source": [
    "train_data2.shape"
   ]
  },
  {
   "cell_type": "code",
   "execution_count": null,
   "metadata": {
    "ExecuteTime": {
     "end_time": "2021-12-16T06:43:13.148707Z",
     "start_time": "2021-12-16T06:43:13.094704Z"
    }
   },
   "outputs": [],
   "source": [
    "train_data2.T"
   ]
  },
  {
   "cell_type": "code",
   "execution_count": null,
   "metadata": {
    "ExecuteTime": {
     "end_time": "2021-12-16T06:47:14.443508Z",
     "start_time": "2021-12-16T06:47:14.427507Z"
    }
   },
   "outputs": [],
   "source": [
    "tl=[]\n",
    "for i in range(12):\n",
    "    tl.append(pd.DataFrame(year_data[i]))\n",
    "train_data3=pd.concat(tl,axis=1)\n",
    "train_data3.shape"
   ]
  },
  {
   "cell_type": "code",
   "execution_count": null,
   "metadata": {
    "ExecuteTime": {
     "end_time": "2021-12-16T06:47:27.912278Z",
     "start_time": "2021-12-16T06:47:27.830274Z"
    }
   },
   "outputs": [],
   "source": [
    "train_data3.T.describe()"
   ]
  },
  {
   "cell_type": "code",
   "execution_count": null,
   "metadata": {
    "ExecuteTime": {
     "end_time": "2021-12-16T06:55:12.145831Z",
     "start_time": "2021-12-16T06:55:12.137831Z"
    },
    "collapsed": true
   },
   "outputs": [],
   "source": [
    "train_data4=train_data3.T"
   ]
  },
  {
   "cell_type": "code",
   "execution_count": null,
   "metadata": {
    "ExecuteTime": {
     "end_time": "2021-12-16T06:57:59.978431Z",
     "start_time": "2021-12-16T06:57:59.907427Z"
    }
   },
   "outputs": [],
   "source": [
    "train_data4[train_data4[12]<0]"
   ]
  },
  {
   "cell_type": "code",
   "execution_count": null,
   "metadata": {
    "ExecuteTime": {
     "end_time": "2021-12-16T06:57:12.270702Z",
     "start_time": "2021-12-16T06:57:12.236700Z"
    }
   },
   "outputs": [],
   "source": [
    "train_data4.iloc[205:215,:]"
   ]
  },
  {
   "cell_type": "code",
   "execution_count": null,
   "metadata": {
    "ExecuteTime": {
     "end_time": "2021-12-16T06:58:33.843368Z",
     "start_time": "2021-12-16T06:58:33.804365Z"
    }
   },
   "outputs": [],
   "source": [
    "train_data4.iloc[280:295,:]"
   ]
  },
  {
   "cell_type": "code",
   "execution_count": null,
   "metadata": {
    "ExecuteTime": {
     "end_time": "2021-12-16T09:22:12.064302Z",
     "start_time": "2021-12-16T09:22:12.054301Z"
    }
   },
   "outputs": [],
   "source": [
    "year_data[0].shape"
   ]
  },
  {
   "cell_type": "code",
   "execution_count": null,
   "metadata": {
    "collapsed": true
   },
   "outputs": [],
   "source": [
    "year_data[0][12,]"
   ]
  },
  {
   "cell_type": "code",
   "execution_count": null,
   "metadata": {
    "ExecuteTime": {
     "end_time": "2021-12-16T09:54:47.573150Z",
     "start_time": "2021-12-16T09:54:47.560150Z"
    }
   },
   "outputs": [],
   "source": [
    "year_data[10]"
   ]
  },
  {
   "cell_type": "code",
   "execution_count": null,
   "metadata": {
    "ExecuteTime": {
     "end_time": "2021-12-16T09:53:38.545202Z",
     "start_time": "2021-12-16T09:53:38.458197Z"
    }
   },
   "outputs": [],
   "source": [
    "for m in range(12):\n",
    "    print(' month : ',m)\n",
    "    i=0\n",
    "    while i<480:\n",
    "        if year_data[m][12,i] <0:\n",
    "            print('---------- so2 start : \\n',year_data[m][12,i],'\\n')\n",
    "            for k in range(10):\n",
    "                if k+i+1>479:\n",
    "                    break\n",
    "                else:\n",
    "                    if year_data[m][12,k+i+1] >=0:\n",
    "                        break\n",
    "                    else:\n",
    "                        print(year_data[m][12,k+i+1])\n",
    "            i=i+k\n",
    "            print('so2 end ------------')\n",
    "            print('correct value between  :',year_data[m][12,i-1-k],year_data[m][12,i+1])\n",
    "        i=i+1\n",
    "        "
   ]
  },
  {
   "cell_type": "code",
   "execution_count": null,
   "metadata": {
    "ExecuteTime": {
     "end_time": "2021-12-16T09:26:00.634375Z",
     "start_time": "2021-12-16T09:26:00.622374Z"
    }
   },
   "outputs": [],
   "source": [
    "for m in range(12):\n",
    "    print(' month : ',m)\n",
    "    i=0\n",
    "    while i<480:\n",
    "        if year_data[m][12,i] <0:\n",
    "            print('---------- so2 start : \\n',year_data[m][12,i],'\\n')\n",
    "            for k in range(10):\n",
    "                if k+i+1>479:\n",
    "                    break\n",
    "                else:\n",
    "                    if year_data[m][12,k+i+1] >=0:\n",
    "                        break\n",
    "                    else:\n",
    "                        print(year_data[m][12,k+i+1])\n",
    "            i=i+k\n",
    "            print('so2 end ------------')\n",
    "        i=i+1\n",
    "        "
   ]
  }
 ],
 "metadata": {
  "kernelspec": {
   "display_name": "Python 3",
   "language": "python",
   "name": "python3"
  },
  "language_info": {
   "codemirror_mode": {
    "name": "ipython",
    "version": 3
   },
   "file_extension": ".py",
   "mimetype": "text/x-python",
   "name": "python",
   "nbconvert_exporter": "python",
   "pygments_lexer": "ipython3",
   "version": "3.6.3"
  }
 },
 "nbformat": 4,
 "nbformat_minor": 2
}
