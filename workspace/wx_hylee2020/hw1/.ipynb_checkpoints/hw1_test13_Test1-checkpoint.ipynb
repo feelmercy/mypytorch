{
 "cells": [
  {
   "cell_type": "code",
   "execution_count": null,
   "metadata": {
    "ExecuteTime": {
     "end_time": "2022-04-14T02:25:44.724643Z",
     "start_time": "2022-04-14T02:25:43.337564Z"
    }
   },
   "outputs": [],
   "source": [
    "import numpy as np\n",
    "import torch \n",
    "import pandas as pd\n",
    "import torchvision\n",
    "from torch import optim,nn\n",
    "import seaborn as sns\n",
    "from scipy import stats\n",
    "from scipy.stats import norm,skew,kurtosis\n",
    "import matplotlib.pyplot as plt\n",
    "%matplotlib auto"
   ]
  },
  {
   "cell_type": "code",
   "execution_count": 2,
   "metadata": {
    "ExecuteTime": {
     "end_time": "2022-04-14T02:25:45.624695Z",
     "start_time": "2022-04-14T02:25:45.556691Z"
    },
    "collapsed": true
   },
   "outputs": [],
   "source": [
    "train_data=pd.read_csv(r'F:\\study\\ml\\HonyiLee2020\\hw1\\data\\train.csv',encoding='big5')\n",
    "test_data=pd.read_csv(r'F:\\study\\ml\\HonyiLee2020\\hw1\\data\\test.csv',encoding='big5',header=None)"
   ]
  },
  {
   "cell_type": "code",
   "execution_count": 3,
   "metadata": {
    "ExecuteTime": {
     "end_time": "2022-04-14T02:25:46.157725Z",
     "start_time": "2022-04-14T02:25:46.147725Z"
    }
   },
   "outputs": [
    {
     "name": "stdout",
     "output_type": "stream",
     "text": [
      "train_data shape:  (4320, 27)\n",
      "test_data shape:  (4320, 11)\n"
     ]
    }
   ],
   "source": [
    "print('train_data shape: ',train_data.shape)\n",
    "print('test_data shape: ',test_data.shape)"
   ]
  },
  {
   "cell_type": "code",
   "execution_count": 4,
   "metadata": {
    "ExecuteTime": {
     "end_time": "2022-04-14T02:25:46.421740Z",
     "start_time": "2022-04-14T02:25:46.392739Z"
    },
    "collapsed": true
   },
   "outputs": [],
   "source": [
    "train_data1=train_data.replace('NR',0)\n",
    "train_data1=train_data1.iloc[:,3:]"
   ]
  },
  {
   "cell_type": "code",
   "execution_count": 5,
   "metadata": {
    "ExecuteTime": {
     "end_time": "2022-04-14T02:25:46.779761Z",
     "start_time": "2022-04-14T02:25:46.595750Z"
    },
    "collapsed": true
   },
   "outputs": [],
   "source": [
    "year_data={}\n",
    "for m in range(12):\n",
    "    month_data=np.empty((18,20*24))\n",
    "    for d in range(20):\n",
    "        month_data[:,d*24:(d+1)*24]=train_data1.iloc[m*20*18+d*18:m*20*18+(d+1)*18,:]\n",
    "    year_data[m]=month_data"
   ]
  },
  {
   "cell_type": "code",
   "execution_count": 6,
   "metadata": {
    "ExecuteTime": {
     "end_time": "2022-04-14T02:25:46.794762Z",
     "start_time": "2022-04-14T02:25:46.781761Z"
    },
    "collapsed": true
   },
   "outputs": [],
   "source": [
    "year_data1=year_data.copy()\n",
    "month_list=[]\n",
    "for i in range(12):\n",
    "    month_list.append(pd.DataFrame(year_data1[i]))\n",
    "all_train_data1=pd.concat(month_list,axis=1).T"
   ]
  },
  {
   "cell_type": "code",
   "execution_count": 7,
   "metadata": {
    "ExecuteTime": {
     "end_time": "2022-04-14T02:25:46.966772Z",
     "start_time": "2022-04-14T02:25:46.958771Z"
    }
   },
   "outputs": [
    {
     "data": {
      "text/plain": [
       "22.527413194444442"
      ]
     },
     "execution_count": 7,
     "metadata": {},
     "output_type": "execute_result"
    }
   ],
   "source": [
    "all_train_data1.iloc[:,0].mean()"
   ]
  },
  {
   "cell_type": "code",
   "execution_count": 8,
   "metadata": {
    "ExecuteTime": {
     "end_time": "2022-04-14T02:25:47.143782Z",
     "start_time": "2022-04-14T02:25:47.136781Z"
    }
   },
   "outputs": [
    {
     "data": {
      "text/plain": [
       "(18, 5760)"
      ]
     },
     "execution_count": 8,
     "metadata": {},
     "output_type": "execute_result"
    }
   ],
   "source": [
    "all_train_data1.T.shape"
   ]
  },
  {
   "cell_type": "code",
   "execution_count": 9,
   "metadata": {
    "ExecuteTime": {
     "end_time": "2022-04-14T02:25:47.321792Z",
     "start_time": "2022-04-14T02:25:47.291790Z"
    }
   },
   "outputs": [
    {
     "name": "stdout",
     "output_type": "stream",
     "text": [
      " month :  0\n",
      " month :  1\n",
      " month :  2\n",
      "---------- pm2.5 start : \n",
      " -3.1 \n",
      "\n",
      "-8.0\n",
      "-7.2\n",
      "-6.8\n",
      "-6.5\n",
      "-7.1\n",
      "-7.4\n",
      "-8.1\n",
      "-8.3\n",
      "-8.4\n",
      "-9.3\n",
      "-10.6\n",
      "-11.2\n",
      "-12.1\n",
      "0.0\n",
      "0.0\n",
      "0.0\n",
      "0.0\n",
      "-12.3\n",
      "pm2.5 end ------------\n",
      "correct value between  : 19.0 18.0\n",
      " month :  3\n",
      " month :  4\n",
      " month :  5\n",
      " month :  6\n",
      " month :  7\n",
      " month :  8\n",
      " month :  9\n",
      " month :  10\n",
      " month :  11\n"
     ]
    }
   ],
   "source": [
    "# temperature always >=0 in Taiwan and change fast when temperature <=0 ,so correct it\n",
    "for idx in [0]:\t\n",
    "\tfor m in range(12):\n",
    "\t\tprint(' month : ',m)\n",
    "\t\ti=0\n",
    "\t\twhile i<480:\n",
    "\t\t\tif year_data1[m][idx,i] <=0:\n",
    "\t\t\t\tprint('---------- pm2.5 start : \\n',year_data1[m][idx,i],'\\n')\n",
    "\t\t\t\tfor k in range(30):\n",
    "\t\t\t\t\tif k+i+1>479:\n",
    "\t\t\t\t\t\tbreak\n",
    "\t\t\t\t\telse:\n",
    "\t\t\t\t\t\tif year_data1[m][idx,k+i+1] >0:\n",
    "\t\t\t\t\t\t\tbreak\n",
    "\t\t\t\t\t\telse:\n",
    "\t\t\t\t\t\t\tprint(year_data1[m][idx,k+i+1])\n",
    "\t\t\t\ti=i+k\n",
    "\t\t\t\tprint('pm2.5 end ------------')\n",
    "\t\t\t\tprint('correct value between  :',year_data1[m][idx,i-1-k],year_data1[m][idx,i+1])\n",
    "\t\t\t\t## add correct to mean value\n",
    "\t\t\t\tyear_data1[m][idx,i-k:i+1]=(year_data1[m][idx,i-1-k]+year_data1[m][idx,i+1])/2\n",
    "\t\t\ti=i+1"
   ]
  },
  {
   "cell_type": "code",
   "execution_count": 10,
   "metadata": {
    "ExecuteTime": {
     "end_time": "2022-04-14T02:25:47.601808Z",
     "start_time": "2022-04-14T02:25:47.473801Z"
    }
   },
   "outputs": [
    {
     "name": "stdout",
     "output_type": "stream",
     "text": [
      " month :  0\n",
      " month :  1\n",
      " month :  2\n",
      " month :  3\n",
      " month :  4\n",
      " month :  5\n",
      " month :  6\n",
      " month :  7\n",
      " month :  8\n",
      " month :  9\n",
      " month :  10\n",
      " month :  11\n",
      "---------- pm2.5 start : \n",
      " -0.2 \n",
      "\n",
      "-0.2\n",
      "-0.2\n",
      "-0.2\n",
      "-0.2\n",
      "-0.2\n",
      "-0.2\n",
      "-0.2\n",
      "-0.2\n",
      "pm2.5 end ------------\n",
      "correct value between  : 1.8 1.8\n",
      " month :  0\n",
      " month :  1\n",
      " month :  2\n",
      " month :  3\n",
      " month :  4\n",
      " month :  5\n",
      " month :  6\n",
      " month :  7\n",
      " month :  8\n",
      " month :  9\n",
      " month :  10\n",
      " month :  11\n",
      "---------- pm2.5 start : \n",
      " -0.12 \n",
      "\n",
      "pm2.5 end ------------\n",
      "correct value between  : 0.34 0.26\n",
      " month :  0\n",
      " month :  1\n",
      " month :  2\n",
      " month :  3\n",
      " month :  4\n",
      " month :  5\n",
      " month :  6\n",
      " month :  7\n",
      " month :  8\n",
      "---------- pm2.5 start : \n",
      " -0.1 \n",
      "\n",
      "pm2.5 end ------------\n",
      "correct value between  : 2.5 0.3\n",
      "---------- pm2.5 start : \n",
      " -0.1 \n",
      "\n",
      "pm2.5 end ------------\n",
      "correct value between  : 0.1 1.0\n",
      " month :  9\n",
      " month :  10\n",
      " month :  11\n",
      "---------- pm2.5 start : \n",
      " -1.1 \n",
      "\n",
      "pm2.5 end ------------\n",
      "correct value between  : 6.6 1.2\n",
      " month :  0\n",
      " month :  1\n",
      " month :  2\n",
      " month :  3\n",
      " month :  4\n",
      "---------- pm2.5 start : \n",
      " -0.9 \n",
      "\n",
      "pm2.5 end ------------\n",
      "correct value between  : 17.0 17.0\n",
      " month :  5\n",
      " month :  6\n",
      " month :  7\n",
      "---------- pm2.5 start : \n",
      " -1.0 \n",
      "\n",
      "pm2.5 end ------------\n",
      "correct value between  : 7.4 10.0\n",
      " month :  8\n",
      " month :  9\n",
      " month :  10\n",
      "---------- pm2.5 start : \n",
      " -2.4 \n",
      "\n",
      "pm2.5 end ------------\n",
      "correct value between  : 7.0 6.6\n",
      " month :  11\n",
      " month :  0\n",
      "---------- pm2.5 start : \n",
      " -1.0 \n",
      "\n",
      "pm2.5 end ------------\n",
      "correct value between  : 46.0 51.0\n",
      " month :  1\n",
      " month :  2\n",
      " month :  3\n",
      "---------- pm2.5 start : \n",
      " -1.0 \n",
      "\n",
      "pm2.5 end ------------\n",
      "correct value between  : 6.0 16.0\n",
      "---------- pm2.5 start : \n",
      " -1.0 \n",
      "\n",
      "pm2.5 end ------------\n",
      "correct value between  : 13.0 16.0\n",
      "---------- pm2.5 start : \n",
      " -1.0 \n",
      "\n",
      "pm2.5 end ------------\n",
      "correct value between  : 55.0 48.0\n",
      " month :  4\n",
      "---------- pm2.5 start : \n",
      " -1.0 \n",
      "\n",
      "-1.0\n",
      "-1.0\n",
      "-1.0\n",
      "-1.0\n",
      "-1.0\n",
      "pm2.5 end ------------\n",
      "correct value between  : 5.0 1.0\n",
      "---------- pm2.5 start : \n",
      " -1.0 \n",
      "\n",
      "-1.0\n",
      "-1.0\n",
      "pm2.5 end ------------\n",
      "correct value between  : 2.0 4.0\n",
      "---------- pm2.5 start : \n",
      " -1.0 \n",
      "\n",
      "pm2.5 end ------------\n",
      "correct value between  : 5.0 0.0\n",
      "---------- pm2.5 start : \n",
      " -1.0 \n",
      "\n",
      "-1.0\n",
      "-1.0\n",
      "pm2.5 end ------------\n",
      "correct value between  : 10.0 9.0\n",
      "---------- pm2.5 start : \n",
      " -1.0 \n",
      "\n",
      "-1.0\n",
      "-1.0\n",
      "-1.0\n",
      "-1.0\n",
      "-1.0\n",
      "-1.0\n",
      "-1.0\n",
      "-1.0\n",
      "-1.0\n",
      "-1.0\n",
      "pm2.5 end ------------\n",
      "correct value between  : 9.0 2.0\n",
      "---------- pm2.5 start : \n",
      " -1.0 \n",
      "\n",
      "-1.0\n",
      "pm2.5 end ------------\n",
      "correct value between  : 0.0 4.0\n",
      " month :  5\n",
      " month :  6\n",
      "---------- pm2.5 start : \n",
      " -1.0 \n",
      "\n",
      "-1.0\n",
      "pm2.5 end ------------\n",
      "correct value between  : 20.0 27.0\n",
      " month :  7\n",
      " month :  8\n",
      " month :  9\n",
      " month :  10\n",
      "---------- pm2.5 start : \n",
      " -1.0 \n",
      "\n",
      "-1.0\n",
      "-1.0\n",
      "-1.0\n",
      "-1.0\n",
      "-1.0\n",
      "-1.0\n",
      "-1.0\n",
      "-1.0\n",
      "-1.0\n",
      "-1.0\n",
      "-1.0\n",
      "-1.0\n",
      "-1.0\n",
      "-1.0\n",
      "-1.0\n",
      "-1.0\n",
      "-1.0\n",
      "pm2.5 end ------------\n",
      "correct value between  : 18.0 18.0\n",
      " month :  11\n",
      "---------- pm2.5 start : \n",
      " -1.0 \n",
      "\n",
      "-1.0\n",
      "pm2.5 end ------------\n",
      "correct value between  : 13.0 7.0\n",
      " month :  0\n",
      "---------- pm2.5 start : \n",
      " -0.9 \n",
      "\n",
      "-0.9\n",
      "-0.9\n",
      "pm2.5 end ------------\n",
      "correct value between  : 1.6 1.3\n",
      "---------- pm2.5 start : \n",
      " -0.1 \n",
      "\n",
      "-0.1\n",
      "-0.2\n",
      "-0.3\n",
      "pm2.5 end ------------\n",
      "correct value between  : 0.1 1.2\n",
      " month :  1\n",
      "---------- pm2.5 start : \n",
      " -0.2 \n",
      "\n",
      "pm2.5 end ------------\n",
      "correct value between  : 1.1 0.3\n",
      " month :  2\n",
      " month :  3\n",
      " month :  4\n",
      " month :  5\n",
      "---------- pm2.5 start : \n",
      " -1.5 \n",
      "\n",
      "pm2.5 end ------------\n",
      "correct value between  : 0.2 2.3\n",
      "---------- pm2.5 start : \n",
      " -0.3 \n",
      "\n",
      "-0.2\n",
      "pm2.5 end ------------\n",
      "correct value between  : 3.8 2.2\n",
      " month :  6\n",
      " month :  7\n",
      "---------- pm2.5 start : \n",
      " -1.6 \n",
      "\n",
      "pm2.5 end ------------\n",
      "correct value between  : 4.3 2.7\n",
      " month :  8\n",
      " month :  9\n",
      " month :  10\n",
      "---------- pm2.5 start : \n",
      " -0.2 \n",
      "\n",
      "pm2.5 end ------------\n",
      "correct value between  : 0.0 0.9\n",
      "---------- pm2.5 start : \n",
      " -0.1 \n",
      "\n",
      "-0.3\n",
      "pm2.5 end ------------\n",
      "correct value between  : 0.2 0.3\n",
      " month :  11\n",
      "---------- pm2.5 start : \n",
      " -0.2 \n",
      "\n",
      "-0.4\n",
      "-0.5\n",
      "pm2.5 end ------------\n",
      "correct value between  : 0.0 1.2\n",
      "---------- pm2.5 start : \n",
      " -0.3 \n",
      "\n",
      "-0.3\n",
      "pm2.5 end ------------\n",
      "correct value between  : 0.0 1.1\n",
      "---------- pm2.5 start : \n",
      " -0.2 \n",
      "\n",
      "pm2.5 end ------------\n",
      "correct value between  : 2.8 2.0\n",
      " month :  0\n",
      " month :  1\n",
      " month :  2\n",
      " month :  3\n",
      " month :  4\n",
      " month :  5\n",
      " month :  6\n",
      " month :  7\n",
      " month :  8\n",
      " month :  9\n",
      " month :  10\n",
      " month :  11\n",
      "---------- pm2.5 start : \n",
      " -0.2 \n",
      "\n",
      "-0.2\n",
      "-0.2\n",
      "-0.2\n",
      "-0.2\n",
      "-0.2\n",
      "-0.2\n",
      "-0.2\n",
      "-0.2\n",
      "pm2.5 end ------------\n",
      "correct value between  : 2.0 1.9\n"
     ]
    }
   ],
   "source": [
    "for idx in [1,2,4,6,9,12,13]:\t\n",
    "\tfor m in range(12):\n",
    "\t\tprint(' month : ',m)\n",
    "\t\ti=0\n",
    "\t\twhile i<480:\n",
    "\t\t\tif year_data1[m][idx,i] <0:\n",
    "\t\t\t\tprint('---------- pm2.5 start : \\n',year_data1[m][idx,i],'\\n')\n",
    "\t\t\t\tfor k in range(30):\n",
    "\t\t\t\t\tif k+i+1>479:\n",
    "\t\t\t\t\t\tbreak\n",
    "\t\t\t\t\telse:\n",
    "\t\t\t\t\t\tif year_data1[m][idx,k+i+1] >=0:\n",
    "\t\t\t\t\t\t\tbreak\n",
    "\t\t\t\t\t\telse:\n",
    "\t\t\t\t\t\t\tprint(year_data1[m][idx,k+i+1])\n",
    "\t\t\t\ti=i+k\n",
    "\t\t\t\tprint('pm2.5 end ------------')\n",
    "\t\t\t\tprint('correct value between  :',year_data1[m][idx,i-1-k],year_data1[m][idx,i+1])\n",
    "\t\t\t\t## add correct to mean value\n",
    "\t\t\t\tyear_data1[m][idx,i-k:i+1]=(year_data1[m][idx,i-1-k]+year_data1[m][idx,i+1])/2\n",
    "\t\t\ti=i+1"
   ]
  },
  {
   "cell_type": "code",
   "execution_count": 11,
   "metadata": {
    "ExecuteTime": {
     "end_time": "2022-04-14T02:25:47.640810Z",
     "start_time": "2022-04-14T02:25:47.635810Z"
    }
   },
   "outputs": [
    {
     "data": {
      "text/plain": [
       "0    14.00\n",
       "1     1.80\n",
       "2     0.51\n",
       "3     0.20\n",
       "4     0.90\n",
       "Name: 0, dtype: float64"
      ]
     },
     "execution_count": 11,
     "metadata": {},
     "output_type": "execute_result"
    }
   ],
   "source": [
    "all_train_data1.iloc[0,:5]"
   ]
  },
  {
   "cell_type": "code",
   "execution_count": 12,
   "metadata": {
    "ExecuteTime": {
     "end_time": "2022-04-14T02:25:47.865823Z",
     "start_time": "2022-04-14T02:25:47.818820Z"
    },
    "collapsed": true
   },
   "outputs": [],
   "source": [
    "all_train_data2=all_train_data1.apply(lambda x : (x-x.mean())/x.std())"
   ]
  },
  {
   "cell_type": "code",
   "execution_count": 13,
   "metadata": {
    "ExecuteTime": {
     "end_time": "2022-04-14T02:25:48.095836Z",
     "start_time": "2022-04-14T02:25:48.006831Z"
    }
   },
   "outputs": [
    {
     "data": {
      "text/html": [
       "<div>\n",
       "<style scoped>\n",
       "    .dataframe tbody tr th:only-of-type {\n",
       "        vertical-align: middle;\n",
       "    }\n",
       "\n",
       "    .dataframe tbody tr th {\n",
       "        vertical-align: top;\n",
       "    }\n",
       "\n",
       "    .dataframe thead th {\n",
       "        text-align: right;\n",
       "    }\n",
       "</style>\n",
       "<table border=\"1\" class=\"dataframe\">\n",
       "  <thead>\n",
       "    <tr style=\"text-align: right;\">\n",
       "      <th></th>\n",
       "      <th>0</th>\n",
       "      <th>1</th>\n",
       "      <th>2</th>\n",
       "      <th>3</th>\n",
       "      <th>4</th>\n",
       "      <th>5</th>\n",
       "      <th>6</th>\n",
       "      <th>7</th>\n",
       "      <th>8</th>\n",
       "      <th>9</th>\n",
       "      <th>10</th>\n",
       "      <th>11</th>\n",
       "      <th>12</th>\n",
       "      <th>13</th>\n",
       "      <th>14</th>\n",
       "      <th>15</th>\n",
       "      <th>16</th>\n",
       "      <th>17</th>\n",
       "    </tr>\n",
       "  </thead>\n",
       "  <tbody>\n",
       "    <tr>\n",
       "      <th>count</th>\n",
       "      <td>5760.000000</td>\n",
       "      <td>5760.000000</td>\n",
       "      <td>5760.000000</td>\n",
       "      <td>5760.000000</td>\n",
       "      <td>5760.000000</td>\n",
       "      <td>5760.000000</td>\n",
       "      <td>5760.000000</td>\n",
       "      <td>5760.000000</td>\n",
       "      <td>5760.000000</td>\n",
       "      <td>5760.000000</td>\n",
       "      <td>5760.000000</td>\n",
       "      <td>5760.000000</td>\n",
       "      <td>5760.000000</td>\n",
       "      <td>5760.000000</td>\n",
       "      <td>5760.000000</td>\n",
       "      <td>5760.000000</td>\n",
       "      <td>5760.000000</td>\n",
       "      <td>5760.000000</td>\n",
       "    </tr>\n",
       "    <tr>\n",
       "      <th>mean</th>\n",
       "      <td>22.527413</td>\n",
       "      <td>1.702396</td>\n",
       "      <td>0.388363</td>\n",
       "      <td>0.140427</td>\n",
       "      <td>2.135729</td>\n",
       "      <td>10.125990</td>\n",
       "      <td>12.247726</td>\n",
       "      <td>31.905469</td>\n",
       "      <td>42.709201</td>\n",
       "      <td>21.414236</td>\n",
       "      <td>0.200625</td>\n",
       "      <td>73.229167</td>\n",
       "      <td>2.763125</td>\n",
       "      <td>1.839653</td>\n",
       "      <td>156.329271</td>\n",
       "      <td>158.482795</td>\n",
       "      <td>2.297240</td>\n",
       "      <td>1.712760</td>\n",
       "    </tr>\n",
       "    <tr>\n",
       "      <th>std</th>\n",
       "      <td>6.290152</td>\n",
       "      <td>0.125265</td>\n",
       "      <td>0.323573</td>\n",
       "      <td>0.104645</td>\n",
       "      <td>2.282155</td>\n",
       "      <td>6.187555</td>\n",
       "      <td>7.577133</td>\n",
       "      <td>18.703486</td>\n",
       "      <td>26.222292</td>\n",
       "      <td>16.662537</td>\n",
       "      <td>2.045443</td>\n",
       "      <td>13.361351</td>\n",
       "      <td>1.816940</td>\n",
       "      <td>0.181839</td>\n",
       "      <td>95.745881</td>\n",
       "      <td>94.697432</td>\n",
       "      <td>1.065408</td>\n",
       "      <td>1.062683</td>\n",
       "    </tr>\n",
       "    <tr>\n",
       "      <th>min</th>\n",
       "      <td>-12.300000</td>\n",
       "      <td>-0.200000</td>\n",
       "      <td>-0.120000</td>\n",
       "      <td>0.000000</td>\n",
       "      <td>-1.100000</td>\n",
       "      <td>0.000000</td>\n",
       "      <td>-2.400000</td>\n",
       "      <td>0.000000</td>\n",
       "      <td>0.000000</td>\n",
       "      <td>-1.000000</td>\n",
       "      <td>0.000000</td>\n",
       "      <td>29.000000</td>\n",
       "      <td>-1.600000</td>\n",
       "      <td>-0.200000</td>\n",
       "      <td>0.100000</td>\n",
       "      <td>0.000000</td>\n",
       "      <td>0.000000</td>\n",
       "      <td>0.000000</td>\n",
       "    </tr>\n",
       "    <tr>\n",
       "      <th>25%</th>\n",
       "      <td>18.000000</td>\n",
       "      <td>1.600000</td>\n",
       "      <td>0.250000</td>\n",
       "      <td>0.070000</td>\n",
       "      <td>1.100000</td>\n",
       "      <td>5.900000</td>\n",
       "      <td>7.300000</td>\n",
       "      <td>18.000000</td>\n",
       "      <td>24.000000</td>\n",
       "      <td>9.000000</td>\n",
       "      <td>0.000000</td>\n",
       "      <td>64.000000</td>\n",
       "      <td>1.600000</td>\n",
       "      <td>1.700000</td>\n",
       "      <td>72.000000</td>\n",
       "      <td>76.000000</td>\n",
       "      <td>1.500000</td>\n",
       "      <td>0.900000</td>\n",
       "    </tr>\n",
       "    <tr>\n",
       "      <th>50%</th>\n",
       "      <td>23.000000</td>\n",
       "      <td>1.700000</td>\n",
       "      <td>0.340000</td>\n",
       "      <td>0.110000</td>\n",
       "      <td>1.600000</td>\n",
       "      <td>8.600000</td>\n",
       "      <td>10.000000</td>\n",
       "      <td>29.000000</td>\n",
       "      <td>38.000000</td>\n",
       "      <td>18.000000</td>\n",
       "      <td>0.000000</td>\n",
       "      <td>75.000000</td>\n",
       "      <td>2.300000</td>\n",
       "      <td>1.800000</td>\n",
       "      <td>119.000000</td>\n",
       "      <td>121.500000</td>\n",
       "      <td>2.100000</td>\n",
       "      <td>1.500000</td>\n",
       "    </tr>\n",
       "    <tr>\n",
       "      <th>75%</th>\n",
       "      <td>27.000000</td>\n",
       "      <td>1.800000</td>\n",
       "      <td>0.450000</td>\n",
       "      <td>0.180000</td>\n",
       "      <td>2.300000</td>\n",
       "      <td>13.000000</td>\n",
       "      <td>15.000000</td>\n",
       "      <td>42.000000</td>\n",
       "      <td>57.000000</td>\n",
       "      <td>29.250000</td>\n",
       "      <td>0.000000</td>\n",
       "      <td>84.000000</td>\n",
       "      <td>3.400000</td>\n",
       "      <td>1.900000</td>\n",
       "      <td>213.000000</td>\n",
       "      <td>219.000000</td>\n",
       "      <td>2.900000</td>\n",
       "      <td>2.300000</td>\n",
       "    </tr>\n",
       "    <tr>\n",
       "      <th>max</th>\n",
       "      <td>36.000000</td>\n",
       "      <td>2.000000</td>\n",
       "      <td>7.570000</td>\n",
       "      <td>1.300000</td>\n",
       "      <td>31.000000</td>\n",
       "      <td>46.000000</td>\n",
       "      <td>71.000000</td>\n",
       "      <td>231.000000</td>\n",
       "      <td>181.000000</td>\n",
       "      <td>112.000000</td>\n",
       "      <td>74.000000</td>\n",
       "      <td>99.000000</td>\n",
       "      <td>22.000000</td>\n",
       "      <td>3.000000</td>\n",
       "      <td>360.000000</td>\n",
       "      <td>360.000000</td>\n",
       "      <td>7.700000</td>\n",
       "      <td>7.000000</td>\n",
       "    </tr>\n",
       "  </tbody>\n",
       "</table>\n",
       "</div>"
      ],
      "text/plain": [
       "                0            1            2            3            4   \\\n",
       "count  5760.000000  5760.000000  5760.000000  5760.000000  5760.000000   \n",
       "mean     22.527413     1.702396     0.388363     0.140427     2.135729   \n",
       "std       6.290152     0.125265     0.323573     0.104645     2.282155   \n",
       "min     -12.300000    -0.200000    -0.120000     0.000000    -1.100000   \n",
       "25%      18.000000     1.600000     0.250000     0.070000     1.100000   \n",
       "50%      23.000000     1.700000     0.340000     0.110000     1.600000   \n",
       "75%      27.000000     1.800000     0.450000     0.180000     2.300000   \n",
       "max      36.000000     2.000000     7.570000     1.300000    31.000000   \n",
       "\n",
       "                5            6            7            8            9   \\\n",
       "count  5760.000000  5760.000000  5760.000000  5760.000000  5760.000000   \n",
       "mean     10.125990    12.247726    31.905469    42.709201    21.414236   \n",
       "std       6.187555     7.577133    18.703486    26.222292    16.662537   \n",
       "min       0.000000    -2.400000     0.000000     0.000000    -1.000000   \n",
       "25%       5.900000     7.300000    18.000000    24.000000     9.000000   \n",
       "50%       8.600000    10.000000    29.000000    38.000000    18.000000   \n",
       "75%      13.000000    15.000000    42.000000    57.000000    29.250000   \n",
       "max      46.000000    71.000000   231.000000   181.000000   112.000000   \n",
       "\n",
       "                10           11           12           13           14  \\\n",
       "count  5760.000000  5760.000000  5760.000000  5760.000000  5760.000000   \n",
       "mean      0.200625    73.229167     2.763125     1.839653   156.329271   \n",
       "std       2.045443    13.361351     1.816940     0.181839    95.745881   \n",
       "min       0.000000    29.000000    -1.600000    -0.200000     0.100000   \n",
       "25%       0.000000    64.000000     1.600000     1.700000    72.000000   \n",
       "50%       0.000000    75.000000     2.300000     1.800000   119.000000   \n",
       "75%       0.000000    84.000000     3.400000     1.900000   213.000000   \n",
       "max      74.000000    99.000000    22.000000     3.000000   360.000000   \n",
       "\n",
       "                15           16           17  \n",
       "count  5760.000000  5760.000000  5760.000000  \n",
       "mean    158.482795     2.297240     1.712760  \n",
       "std      94.697432     1.065408     1.062683  \n",
       "min       0.000000     0.000000     0.000000  \n",
       "25%      76.000000     1.500000     0.900000  \n",
       "50%     121.500000     2.100000     1.500000  \n",
       "75%     219.000000     2.900000     2.300000  \n",
       "max     360.000000     7.700000     7.000000  "
      ]
     },
     "execution_count": 13,
     "metadata": {},
     "output_type": "execute_result"
    }
   ],
   "source": [
    "all_train_data1.describe()"
   ]
  },
  {
   "cell_type": "code",
   "execution_count": 14,
   "metadata": {
    "ExecuteTime": {
     "end_time": "2022-04-14T02:25:48.225844Z",
     "start_time": "2022-04-14T02:25:48.217843Z"
    }
   },
   "outputs": [
    {
     "data": {
      "text/plain": [
       "22.527413194444442"
      ]
     },
     "execution_count": 14,
     "metadata": {},
     "output_type": "execute_result"
    }
   ],
   "source": [
    "all_train_data1.iloc[:,0].mean()"
   ]
  },
  {
   "cell_type": "code",
   "execution_count": 15,
   "metadata": {
    "ExecuteTime": {
     "end_time": "2022-04-14T02:25:48.437856Z",
     "start_time": "2022-04-14T02:25:48.430855Z"
    }
   },
   "outputs": [
    {
     "data": {
      "text/plain": [
       "0   -1.355677\n",
       "1   -1.355677\n",
       "2   -1.355677\n",
       "3   -1.514655\n",
       "4   -1.673634\n",
       "5   -1.673634\n",
       "6   -1.673634\n",
       "7   -1.673634\n",
       "8   -1.196698\n",
       "9   -0.878741\n",
       "Name: 0, dtype: float64"
      ]
     },
     "execution_count": 15,
     "metadata": {},
     "output_type": "execute_result"
    }
   ],
   "source": [
    "all_train_data2.iloc[0:10,0]"
   ]
  },
  {
   "cell_type": "code",
   "execution_count": 16,
   "metadata": {
    "ExecuteTime": {
     "end_time": "2022-04-14T02:25:48.723872Z",
     "start_time": "2022-04-14T02:25:48.653868Z"
    }
   },
   "outputs": [
    {
     "data": {
      "text/html": [
       "<div>\n",
       "<style scoped>\n",
       "    .dataframe tbody tr th:only-of-type {\n",
       "        vertical-align: middle;\n",
       "    }\n",
       "\n",
       "    .dataframe tbody tr th {\n",
       "        vertical-align: top;\n",
       "    }\n",
       "\n",
       "    .dataframe thead th {\n",
       "        text-align: right;\n",
       "    }\n",
       "</style>\n",
       "<table border=\"1\" class=\"dataframe\">\n",
       "  <thead>\n",
       "    <tr style=\"text-align: right;\">\n",
       "      <th></th>\n",
       "      <th>0</th>\n",
       "      <th>1</th>\n",
       "      <th>2</th>\n",
       "      <th>3</th>\n",
       "      <th>4</th>\n",
       "      <th>5</th>\n",
       "      <th>6</th>\n",
       "      <th>7</th>\n",
       "      <th>8</th>\n",
       "      <th>9</th>\n",
       "      <th>10</th>\n",
       "      <th>11</th>\n",
       "      <th>12</th>\n",
       "      <th>13</th>\n",
       "      <th>14</th>\n",
       "      <th>15</th>\n",
       "      <th>16</th>\n",
       "      <th>17</th>\n",
       "    </tr>\n",
       "  </thead>\n",
       "  <tbody>\n",
       "    <tr>\n",
       "      <th>count</th>\n",
       "      <td>5.760000e+03</td>\n",
       "      <td>5.760000e+03</td>\n",
       "      <td>5.760000e+03</td>\n",
       "      <td>5.760000e+03</td>\n",
       "      <td>5.760000e+03</td>\n",
       "      <td>5.760000e+03</td>\n",
       "      <td>5.760000e+03</td>\n",
       "      <td>5.760000e+03</td>\n",
       "      <td>5.760000e+03</td>\n",
       "      <td>5.760000e+03</td>\n",
       "      <td>5.760000e+03</td>\n",
       "      <td>5.760000e+03</td>\n",
       "      <td>5.760000e+03</td>\n",
       "      <td>5.760000e+03</td>\n",
       "      <td>5.760000e+03</td>\n",
       "      <td>5.760000e+03</td>\n",
       "      <td>5.760000e+03</td>\n",
       "      <td>5.760000e+03</td>\n",
       "    </tr>\n",
       "    <tr>\n",
       "      <th>mean</th>\n",
       "      <td>2.921351e-15</td>\n",
       "      <td>-4.132630e-13</td>\n",
       "      <td>-1.393800e-14</td>\n",
       "      <td>5.078230e-15</td>\n",
       "      <td>3.474738e-15</td>\n",
       "      <td>-2.338465e-15</td>\n",
       "      <td>-3.438183e-15</td>\n",
       "      <td>-4.431640e-16</td>\n",
       "      <td>2.485088e-16</td>\n",
       "      <td>1.855094e-16</td>\n",
       "      <td>4.130921e-15</td>\n",
       "      <td>-9.199431e-16</td>\n",
       "      <td>5.026265e-16</td>\n",
       "      <td>3.205650e-13</td>\n",
       "      <td>8.574353e-17</td>\n",
       "      <td>5.245418e-16</td>\n",
       "      <td>5.851993e-16</td>\n",
       "      <td>1.040902e-15</td>\n",
       "    </tr>\n",
       "    <tr>\n",
       "      <th>std</th>\n",
       "      <td>1.000000e+00</td>\n",
       "      <td>1.000000e+00</td>\n",
       "      <td>1.000000e+00</td>\n",
       "      <td>1.000000e+00</td>\n",
       "      <td>1.000000e+00</td>\n",
       "      <td>1.000000e+00</td>\n",
       "      <td>1.000000e+00</td>\n",
       "      <td>1.000000e+00</td>\n",
       "      <td>1.000000e+00</td>\n",
       "      <td>1.000000e+00</td>\n",
       "      <td>1.000000e+00</td>\n",
       "      <td>1.000000e+00</td>\n",
       "      <td>1.000000e+00</td>\n",
       "      <td>1.000000e+00</td>\n",
       "      <td>1.000000e+00</td>\n",
       "      <td>1.000000e+00</td>\n",
       "      <td>1.000000e+00</td>\n",
       "      <td>1.000000e+00</td>\n",
       "    </tr>\n",
       "    <tr>\n",
       "      <th>min</th>\n",
       "      <td>-5.536816e+00</td>\n",
       "      <td>-1.518692e+01</td>\n",
       "      <td>-1.571093e+00</td>\n",
       "      <td>-1.341940e+00</td>\n",
       "      <td>-1.417839e+00</td>\n",
       "      <td>-1.636509e+00</td>\n",
       "      <td>-1.933149e+00</td>\n",
       "      <td>-1.705857e+00</td>\n",
       "      <td>-1.628736e+00</td>\n",
       "      <td>-1.345187e+00</td>\n",
       "      <td>-9.808389e-02</td>\n",
       "      <td>-3.310232e+00</td>\n",
       "      <td>-2.401358e+00</td>\n",
       "      <td>-1.121682e+01</td>\n",
       "      <td>-1.631707e+00</td>\n",
       "      <td>-1.673570e+00</td>\n",
       "      <td>-2.156207e+00</td>\n",
       "      <td>-1.611732e+00</td>\n",
       "    </tr>\n",
       "    <tr>\n",
       "      <th>25%</th>\n",
       "      <td>-7.197621e-01</td>\n",
       "      <td>-8.174309e-01</td>\n",
       "      <td>-4.276098e-01</td>\n",
       "      <td>-6.730107e-01</td>\n",
       "      <td>-4.538382e-01</td>\n",
       "      <td>-6.829821e-01</td>\n",
       "      <td>-6.529812e-01</td>\n",
       "      <td>-7.434694e-01</td>\n",
       "      <td>-7.134846e-01</td>\n",
       "      <td>-7.450388e-01</td>\n",
       "      <td>-9.808389e-02</td>\n",
       "      <td>-6.907360e-01</td>\n",
       "      <td>-6.401558e-01</td>\n",
       "      <td>-7.680033e-01</td>\n",
       "      <td>-8.807613e-01</td>\n",
       "      <td>-8.710141e-01</td>\n",
       "      <td>-7.482952e-01</td>\n",
       "      <td>-7.648192e-01</td>\n",
       "    </tr>\n",
       "    <tr>\n",
       "      <th>50%</th>\n",
       "      <td>7.513122e-02</td>\n",
       "      <td>-1.912605e-02</td>\n",
       "      <td>-1.494652e-01</td>\n",
       "      <td>-2.907653e-01</td>\n",
       "      <td>-2.347470e-01</td>\n",
       "      <td>-2.466224e-01</td>\n",
       "      <td>-2.966459e-01</td>\n",
       "      <td>-1.553437e-01</td>\n",
       "      <td>-1.795877e-01</td>\n",
       "      <td>-2.049049e-01</td>\n",
       "      <td>-9.808389e-02</td>\n",
       "      <td>1.325340e-01</td>\n",
       "      <td>-2.548928e-01</td>\n",
       "      <td>-2.180656e-01</td>\n",
       "      <td>-3.898786e-01</td>\n",
       "      <td>-3.905364e-01</td>\n",
       "      <td>-1.851306e-01</td>\n",
       "      <td>-2.002106e-01</td>\n",
       "    </tr>\n",
       "    <tr>\n",
       "      <th>75%</th>\n",
       "      <td>7.110459e-01</td>\n",
       "      <td>7.791788e-01</td>\n",
       "      <td>1.904894e-01</td>\n",
       "      <td>3.781641e-01</td>\n",
       "      <td>7.198057e-02</td>\n",
       "      <td>4.644824e-01</td>\n",
       "      <td>3.632342e-01</td>\n",
       "      <td>5.397139e-01</td>\n",
       "      <td>5.449866e-01</td>\n",
       "      <td>4.702623e-01</td>\n",
       "      <td>-9.808389e-02</td>\n",
       "      <td>8.061186e-01</td>\n",
       "      <td>3.505206e-01</td>\n",
       "      <td>3.318721e-01</td>\n",
       "      <td>5.918869e-01</td>\n",
       "      <td>6.390586e-01</td>\n",
       "      <td>5.657555e-01</td>\n",
       "      <td>5.526008e-01</td>\n",
       "    </tr>\n",
       "    <tr>\n",
       "      <th>max</th>\n",
       "      <td>2.141854e+00</td>\n",
       "      <td>2.375788e+00</td>\n",
       "      <td>2.219482e+01</td>\n",
       "      <td>1.108104e+01</td>\n",
       "      <td>1.264781e+01</td>\n",
       "      <td>5.797768e+00</td>\n",
       "      <td>7.753892e+00</td>\n",
       "      <td>1.064478e+01</td>\n",
       "      <td>5.273788e+00</td>\n",
       "      <td>5.436493e+00</td>\n",
       "      <td>3.607990e+01</td>\n",
       "      <td>1.928760e+00</td>\n",
       "      <td>1.058751e+01</td>\n",
       "      <td>6.381187e+00</td>\n",
       "      <td>2.127201e+00</td>\n",
       "      <td>2.128011e+00</td>\n",
       "      <td>5.071072e+00</td>\n",
       "      <td>4.975368e+00</td>\n",
       "    </tr>\n",
       "  </tbody>\n",
       "</table>\n",
       "</div>"
      ],
      "text/plain": [
       "                 0             1             2             3             4   \\\n",
       "count  5.760000e+03  5.760000e+03  5.760000e+03  5.760000e+03  5.760000e+03   \n",
       "mean   2.921351e-15 -4.132630e-13 -1.393800e-14  5.078230e-15  3.474738e-15   \n",
       "std    1.000000e+00  1.000000e+00  1.000000e+00  1.000000e+00  1.000000e+00   \n",
       "min   -5.536816e+00 -1.518692e+01 -1.571093e+00 -1.341940e+00 -1.417839e+00   \n",
       "25%   -7.197621e-01 -8.174309e-01 -4.276098e-01 -6.730107e-01 -4.538382e-01   \n",
       "50%    7.513122e-02 -1.912605e-02 -1.494652e-01 -2.907653e-01 -2.347470e-01   \n",
       "75%    7.110459e-01  7.791788e-01  1.904894e-01  3.781641e-01  7.198057e-02   \n",
       "max    2.141854e+00  2.375788e+00  2.219482e+01  1.108104e+01  1.264781e+01   \n",
       "\n",
       "                 5             6             7             8             9   \\\n",
       "count  5.760000e+03  5.760000e+03  5.760000e+03  5.760000e+03  5.760000e+03   \n",
       "mean  -2.338465e-15 -3.438183e-15 -4.431640e-16  2.485088e-16  1.855094e-16   \n",
       "std    1.000000e+00  1.000000e+00  1.000000e+00  1.000000e+00  1.000000e+00   \n",
       "min   -1.636509e+00 -1.933149e+00 -1.705857e+00 -1.628736e+00 -1.345187e+00   \n",
       "25%   -6.829821e-01 -6.529812e-01 -7.434694e-01 -7.134846e-01 -7.450388e-01   \n",
       "50%   -2.466224e-01 -2.966459e-01 -1.553437e-01 -1.795877e-01 -2.049049e-01   \n",
       "75%    4.644824e-01  3.632342e-01  5.397139e-01  5.449866e-01  4.702623e-01   \n",
       "max    5.797768e+00  7.753892e+00  1.064478e+01  5.273788e+00  5.436493e+00   \n",
       "\n",
       "                 10            11            12            13            14  \\\n",
       "count  5.760000e+03  5.760000e+03  5.760000e+03  5.760000e+03  5.760000e+03   \n",
       "mean   4.130921e-15 -9.199431e-16  5.026265e-16  3.205650e-13  8.574353e-17   \n",
       "std    1.000000e+00  1.000000e+00  1.000000e+00  1.000000e+00  1.000000e+00   \n",
       "min   -9.808389e-02 -3.310232e+00 -2.401358e+00 -1.121682e+01 -1.631707e+00   \n",
       "25%   -9.808389e-02 -6.907360e-01 -6.401558e-01 -7.680033e-01 -8.807613e-01   \n",
       "50%   -9.808389e-02  1.325340e-01 -2.548928e-01 -2.180656e-01 -3.898786e-01   \n",
       "75%   -9.808389e-02  8.061186e-01  3.505206e-01  3.318721e-01  5.918869e-01   \n",
       "max    3.607990e+01  1.928760e+00  1.058751e+01  6.381187e+00  2.127201e+00   \n",
       "\n",
       "                 15            16            17  \n",
       "count  5.760000e+03  5.760000e+03  5.760000e+03  \n",
       "mean   5.245418e-16  5.851993e-16  1.040902e-15  \n",
       "std    1.000000e+00  1.000000e+00  1.000000e+00  \n",
       "min   -1.673570e+00 -2.156207e+00 -1.611732e+00  \n",
       "25%   -8.710141e-01 -7.482952e-01 -7.648192e-01  \n",
       "50%   -3.905364e-01 -1.851306e-01 -2.002106e-01  \n",
       "75%    6.390586e-01  5.657555e-01  5.526008e-01  \n",
       "max    2.128011e+00  5.071072e+00  4.975368e+00  "
      ]
     },
     "execution_count": 16,
     "metadata": {},
     "output_type": "execute_result"
    }
   ],
   "source": [
    "all_train_data2.describe()"
   ]
  },
  {
   "cell_type": "code",
   "execution_count": 17,
   "metadata": {
    "ExecuteTime": {
     "end_time": "2022-04-14T02:25:48.996888Z",
     "start_time": "2022-04-14T02:25:48.882881Z"
    },
    "collapsed": true
   },
   "outputs": [],
   "source": [
    "from sklearn.model_selection import KFold,cross_val_score\n",
    "from sklearn.linear_model import LassoCV,RidgeCV,ElasticNetCV\n",
    "from sklearn.metrics import mean_squared_error\n",
    "from sklearn.pipeline import make_pipeline\n",
    "from sklearn.preprocessing import RobustScaler"
   ]
  },
  {
   "cell_type": "code",
   "execution_count": 18,
   "metadata": {
    "ExecuteTime": {
     "end_time": "2022-04-14T02:25:49.101894Z",
     "start_time": "2022-04-14T02:25:49.094893Z"
    },
    "collapsed": true
   },
   "outputs": [],
   "source": [
    "x=np.empty((471*12,18*9))\n",
    "y=np.empty((471*12,1))"
   ]
  },
  {
   "cell_type": "code",
   "execution_count": 19,
   "metadata": {
    "ExecuteTime": {
     "end_time": "2022-04-14T02:25:50.252960Z",
     "start_time": "2022-04-14T02:25:49.321906Z"
    },
    "collapsed": true
   },
   "outputs": [],
   "source": [
    "for m in range(12):\n",
    "    for g in range(471):\n",
    "        x[m*471+g:m*471+g+1,:]=all_train_data2.iloc[m*480+g:m*480+g+9,:].values.reshape(1,-1)\n",
    "        y[m*471+g:g*471+g+1,:]=all_train_data2.iloc[m*480+g+9:m*480+g+9+1,9].values.reshape(1,1)"
   ]
  },
  {
   "cell_type": "code",
   "execution_count": 20,
   "metadata": {
    "ExecuteTime": {
     "end_time": "2022-04-14T02:25:50.261960Z",
     "start_time": "2022-04-14T02:25:50.253960Z"
    }
   },
   "outputs": [
    {
     "data": {
      "text/plain": [
       "array([ 0.5152735 , -0.09808389])"
      ]
     },
     "execution_count": 20,
     "metadata": {},
     "output_type": "execute_result"
    }
   ],
   "source": [
    "x[9,9:11]"
   ]
  },
  {
   "cell_type": "code",
   "execution_count": 21,
   "metadata": {
    "ExecuteTime": {
     "end_time": "2022-04-14T02:25:50.287962Z",
     "start_time": "2022-04-14T02:25:50.263960Z"
    }
   },
   "outputs": [
    {
     "data": {
      "text/plain": [
       "array([[0.5152735 ],\n",
       "       [1.17543706]])"
      ]
     },
     "execution_count": 21,
     "metadata": {},
     "output_type": "execute_result"
    }
   ],
   "source": [
    "y[0:2]"
   ]
  },
  {
   "cell_type": "code",
   "execution_count": 22,
   "metadata": {
    "ExecuteTime": {
     "end_time": "2022-04-14T02:25:50.300962Z",
     "start_time": "2022-04-14T02:25:50.291962Z"
    }
   },
   "outputs": [
    {
     "data": {
      "text/plain": [
       "10    1.175437\n",
       "Name: 9, dtype: float64"
      ]
     },
     "execution_count": 22,
     "metadata": {},
     "output_type": "execute_result"
    }
   ],
   "source": [
    "all_train_data2.iloc[10:11,9]"
   ]
  },
  {
   "cell_type": "code",
   "execution_count": 23,
   "metadata": {
    "ExecuteTime": {
     "end_time": "2022-04-14T02:25:50.325964Z",
     "start_time": "2022-04-14T02:25:50.304962Z"
    }
   },
   "outputs": [
    {
     "data": {
      "text/plain": [
       "array([-0.17958771,  0.5152735 , -0.09808389, -1.28947789,  6.73487971,\n",
       "        0.88180982, -1.15231349, -0.05789803, -1.40532054, -1.32942776])"
      ]
     },
     "execution_count": 23,
     "metadata": {},
     "output_type": "execute_result"
    }
   ],
   "source": [
    "x[1,-10:]"
   ]
  },
  {
   "cell_type": "code",
   "execution_count": 24,
   "metadata": {
    "ExecuteTime": {
     "end_time": "2022-04-14T02:25:50.495973Z",
     "start_time": "2022-04-14T02:25:50.483973Z"
    }
   },
   "outputs": [
    {
     "data": {
      "text/plain": [
       "array([0.5152735])"
      ]
     },
     "execution_count": 24,
     "metadata": {},
     "output_type": "execute_result"
    }
   ],
   "source": [
    "y[0]"
   ]
  },
  {
   "cell_type": "code",
   "execution_count": null,
   "metadata": {
    "collapsed": true
   },
   "outputs": [],
   "source": []
  },
  {
   "cell_type": "code",
   "execution_count": null,
   "metadata": {
    "collapsed": true
   },
   "outputs": [],
   "source": []
  },
  {
   "cell_type": "code",
   "execution_count": null,
   "metadata": {
    "collapsed": true
   },
   "outputs": [],
   "source": []
  },
  {
   "cell_type": "code",
   "execution_count": 25,
   "metadata": {
    "ExecuteTime": {
     "end_time": "2022-04-14T02:25:51.728044Z",
     "start_time": "2022-04-14T02:25:51.707043Z"
    },
    "collapsed": true
   },
   "outputs": [],
   "source": [
    "kf=KFold(n_splits=10,shuffle=True,random_state=42)\n",
    "\n",
    "def rmse(y,y_hat):\n",
    "    return np.sqrt(mean_squared_error(y,y_hat))\n",
    "\n",
    "def cv_rmse(model,x=x,y=y):\n",
    "    rmse=np.sqrt( -cross_val_score(model,x,y,scoring='neg_mean_squared_error',cv=kf) )\n",
    "    return rmse"
   ]
  },
  {
   "cell_type": "code",
   "execution_count": 26,
   "metadata": {
    "ExecuteTime": {
     "end_time": "2022-04-14T02:25:51.912054Z",
     "start_time": "2022-04-14T02:25:51.900054Z"
    },
    "collapsed": true
   },
   "outputs": [],
   "source": [
    "alphas_alt = [14.5, 14.6, 14.7, 14.8, 14.9, 15, 15.1, 15.2, 15.3, 15.4, 15.5]\n",
    "alphas2 = [5e-05, 0.0001, 0.0002, 0.0003, 0.0004, 0.0005, 0.0006, 0.0007, 0.0008]\n",
    "e_alphas = [0.0001, 0.0002, 0.0003, 0.0004, 0.0005, 0.0006, 0.0007]\n",
    "e_l1ratio = [0.8, 0.85, 0.9, 0.95, 0.99, 1]"
   ]
  },
  {
   "cell_type": "code",
   "execution_count": 27,
   "metadata": {
    "ExecuteTime": {
     "end_time": "2022-04-14T02:25:52.109066Z",
     "start_time": "2022-04-14T02:25:52.097065Z"
    },
    "collapsed": true
   },
   "outputs": [],
   "source": [
    "ridge=make_pipeline(RobustScaler(),RidgeCV(alphas=alphas_alt,cv=kf))\n",
    "lasso=make_pipeline(RobustScaler(),LassoCV(max_iter=1e7,alphas=alphas2,random_state=42,cv=kf))\n",
    "elasticnet=make_pipeline(RobustScaler(),ElasticNetCV(max_iter=1e7,alphas=e_alphas,cv=kf,l1_ratio=e_l1ratio))"
   ]
  },
  {
   "cell_type": "code",
   "execution_count": 28,
   "metadata": {
    "ExecuteTime": {
     "end_time": "2022-04-14T02:26:12.742246Z",
     "start_time": "2022-04-14T02:25:52.305077Z"
    }
   },
   "outputs": [
    {
     "name": "stdout",
     "output_type": "stream",
     "text": [
      "Ridge: 0.3776 (0.0248)\n",
      "\n"
     ]
    }
   ],
   "source": [
    "score=cv_rmse(ridge)\n",
    "print(\"Ridge: {:.4f} ({:.4f})\\n\".format(score.mean(), score.std()))"
   ]
  },
  {
   "cell_type": "code",
   "execution_count": 29,
   "metadata": {
    "ExecuteTime": {
     "end_time": "2022-04-14T02:26:40.091810Z",
     "start_time": "2022-04-14T02:26:12.744246Z"
    }
   },
   "outputs": [
    {
     "name": "stderr",
     "output_type": "stream",
     "text": [
      "D:\\ProgramData\\Anaconda3\\lib\\site-packages\\sklearn\\linear_model\\coordinate_descent.py:1094: DataConversionWarning: A column-vector y was passed when a 1d array was expected. Please change the shape of y to (n_samples, ), for example using ravel().\n",
      "  y = column_or_1d(y, warn=True)\n",
      "D:\\ProgramData\\Anaconda3\\lib\\site-packages\\sklearn\\linear_model\\coordinate_descent.py:1094: DataConversionWarning: A column-vector y was passed when a 1d array was expected. Please change the shape of y to (n_samples, ), for example using ravel().\n",
      "  y = column_or_1d(y, warn=True)\n",
      "D:\\ProgramData\\Anaconda3\\lib\\site-packages\\sklearn\\linear_model\\coordinate_descent.py:1094: DataConversionWarning: A column-vector y was passed when a 1d array was expected. Please change the shape of y to (n_samples, ), for example using ravel().\n",
      "  y = column_or_1d(y, warn=True)\n",
      "D:\\ProgramData\\Anaconda3\\lib\\site-packages\\sklearn\\linear_model\\coordinate_descent.py:1094: DataConversionWarning: A column-vector y was passed when a 1d array was expected. Please change the shape of y to (n_samples, ), for example using ravel().\n",
      "  y = column_or_1d(y, warn=True)\n",
      "D:\\ProgramData\\Anaconda3\\lib\\site-packages\\sklearn\\linear_model\\coordinate_descent.py:1094: DataConversionWarning: A column-vector y was passed when a 1d array was expected. Please change the shape of y to (n_samples, ), for example using ravel().\n",
      "  y = column_or_1d(y, warn=True)\n",
      "D:\\ProgramData\\Anaconda3\\lib\\site-packages\\sklearn\\linear_model\\coordinate_descent.py:1094: DataConversionWarning: A column-vector y was passed when a 1d array was expected. Please change the shape of y to (n_samples, ), for example using ravel().\n",
      "  y = column_or_1d(y, warn=True)\n",
      "D:\\ProgramData\\Anaconda3\\lib\\site-packages\\sklearn\\linear_model\\coordinate_descent.py:1094: DataConversionWarning: A column-vector y was passed when a 1d array was expected. Please change the shape of y to (n_samples, ), for example using ravel().\n",
      "  y = column_or_1d(y, warn=True)\n",
      "D:\\ProgramData\\Anaconda3\\lib\\site-packages\\sklearn\\linear_model\\coordinate_descent.py:1094: DataConversionWarning: A column-vector y was passed when a 1d array was expected. Please change the shape of y to (n_samples, ), for example using ravel().\n",
      "  y = column_or_1d(y, warn=True)\n",
      "D:\\ProgramData\\Anaconda3\\lib\\site-packages\\sklearn\\linear_model\\coordinate_descent.py:1094: DataConversionWarning: A column-vector y was passed when a 1d array was expected. Please change the shape of y to (n_samples, ), for example using ravel().\n",
      "  y = column_or_1d(y, warn=True)\n",
      "D:\\ProgramData\\Anaconda3\\lib\\site-packages\\sklearn\\linear_model\\coordinate_descent.py:1094: DataConversionWarning: A column-vector y was passed when a 1d array was expected. Please change the shape of y to (n_samples, ), for example using ravel().\n",
      "  y = column_or_1d(y, warn=True)\n"
     ]
    },
    {
     "name": "stdout",
     "output_type": "stream",
     "text": [
      "LASSO: 0.3759 (0.0246)\n",
      "\n"
     ]
    }
   ],
   "source": [
    "score = cv_rmse(lasso)\n",
    "print(\"LASSO: {:.4f} ({:.4f})\\n\".format(score.mean(), score.std()))"
   ]
  },
  {
   "cell_type": "code",
   "execution_count": 30,
   "metadata": {
    "ExecuteTime": {
     "end_time": "2022-04-14T02:28:28.579015Z",
     "start_time": "2022-04-14T02:26:40.094810Z"
    }
   },
   "outputs": [
    {
     "name": "stderr",
     "output_type": "stream",
     "text": [
      "D:\\ProgramData\\Anaconda3\\lib\\site-packages\\sklearn\\linear_model\\coordinate_descent.py:1094: DataConversionWarning: A column-vector y was passed when a 1d array was expected. Please change the shape of y to (n_samples, ), for example using ravel().\n",
      "  y = column_or_1d(y, warn=True)\n",
      "D:\\ProgramData\\Anaconda3\\lib\\site-packages\\sklearn\\linear_model\\coordinate_descent.py:1094: DataConversionWarning: A column-vector y was passed when a 1d array was expected. Please change the shape of y to (n_samples, ), for example using ravel().\n",
      "  y = column_or_1d(y, warn=True)\n",
      "D:\\ProgramData\\Anaconda3\\lib\\site-packages\\sklearn\\linear_model\\coordinate_descent.py:1094: DataConversionWarning: A column-vector y was passed when a 1d array was expected. Please change the shape of y to (n_samples, ), for example using ravel().\n",
      "  y = column_or_1d(y, warn=True)\n",
      "D:\\ProgramData\\Anaconda3\\lib\\site-packages\\sklearn\\linear_model\\coordinate_descent.py:1094: DataConversionWarning: A column-vector y was passed when a 1d array was expected. Please change the shape of y to (n_samples, ), for example using ravel().\n",
      "  y = column_or_1d(y, warn=True)\n",
      "D:\\ProgramData\\Anaconda3\\lib\\site-packages\\sklearn\\linear_model\\coordinate_descent.py:1094: DataConversionWarning: A column-vector y was passed when a 1d array was expected. Please change the shape of y to (n_samples, ), for example using ravel().\n",
      "  y = column_or_1d(y, warn=True)\n",
      "D:\\ProgramData\\Anaconda3\\lib\\site-packages\\sklearn\\linear_model\\coordinate_descent.py:1094: DataConversionWarning: A column-vector y was passed when a 1d array was expected. Please change the shape of y to (n_samples, ), for example using ravel().\n",
      "  y = column_or_1d(y, warn=True)\n",
      "D:\\ProgramData\\Anaconda3\\lib\\site-packages\\sklearn\\linear_model\\coordinate_descent.py:1094: DataConversionWarning: A column-vector y was passed when a 1d array was expected. Please change the shape of y to (n_samples, ), for example using ravel().\n",
      "  y = column_or_1d(y, warn=True)\n",
      "D:\\ProgramData\\Anaconda3\\lib\\site-packages\\sklearn\\linear_model\\coordinate_descent.py:1094: DataConversionWarning: A column-vector y was passed when a 1d array was expected. Please change the shape of y to (n_samples, ), for example using ravel().\n",
      "  y = column_or_1d(y, warn=True)\n",
      "D:\\ProgramData\\Anaconda3\\lib\\site-packages\\sklearn\\linear_model\\coordinate_descent.py:1094: DataConversionWarning: A column-vector y was passed when a 1d array was expected. Please change the shape of y to (n_samples, ), for example using ravel().\n",
      "  y = column_or_1d(y, warn=True)\n",
      "D:\\ProgramData\\Anaconda3\\lib\\site-packages\\sklearn\\linear_model\\coordinate_descent.py:1094: DataConversionWarning: A column-vector y was passed when a 1d array was expected. Please change the shape of y to (n_samples, ), for example using ravel().\n",
      "  y = column_or_1d(y, warn=True)\n"
     ]
    },
    {
     "name": "stdout",
     "output_type": "stream",
     "text": [
      "elastic net: 0.3760 (0.0247)\n",
      "\n"
     ]
    }
   ],
   "source": [
    "score = cv_rmse(elasticnet)\n",
    "print(\"elastic net: {:.4f} ({:.4f})\\n\".format(score.mean(), score.std()))"
   ]
  },
  {
   "cell_type": "markdown",
   "metadata": {
    "ExecuteTime": {
     "end_time": "2022-04-14T02:09:54.892316Z",
     "start_time": "2022-04-14T02:09:54.886316Z"
    },
    "collapsed": true
   },
   "source": [
    "#### LSTM"
   ]
  },
  {
   "cell_type": "code",
   "execution_count": 32,
   "metadata": {
    "ExecuteTime": {
     "end_time": "2022-04-14T06:27:57.829889Z",
     "start_time": "2022-04-14T06:27:57.803888Z"
    }
   },
   "outputs": [],
   "source": [
    "class LSTM_Reg(nn.Module):\n",
    "    def __init__(self,input_size,hidden_size,layer_size,output_size):\n",
    "        super().__init__()\n",
    "        self.lstm_net=nn.LSTM(input_size=input_size,hidden_size=hidden_size,num_layers=layer_size)\n",
    "        self.dense=nn.Linear(hidden_size,output_size)\n",
    "        self.state=None\n",
    "    \n",
    "    def forward(self,x,state):\n",
    "        y,self.state=self.lstm_net(x,state)\n",
    "        output=self.dense(y.view(-1,y.shape[-1]))\n",
    "        return output,self.state\n",
    "    "
   ]
  },
  {
   "cell_type": "code",
   "execution_count": 33,
   "metadata": {
    "ExecuteTime": {
     "end_time": "2022-04-14T06:32:26.556260Z",
     "start_time": "2022-04-14T06:32:26.545259Z"
    }
   },
   "outputs": [
    {
     "data": {
      "text/plain": [
       "(5652, 162)"
      ]
     },
     "execution_count": 33,
     "metadata": {},
     "output_type": "execute_result"
    }
   ],
   "source": [
    "x.shape"
   ]
  },
  {
   "cell_type": "code",
   "execution_count": 34,
   "metadata": {
    "ExecuteTime": {
     "end_time": "2022-04-14T06:32:33.067632Z",
     "start_time": "2022-04-14T06:32:33.056631Z"
    }
   },
   "outputs": [
    {
     "data": {
      "text/plain": [
       "(5652, 1)"
      ]
     },
     "execution_count": 34,
     "metadata": {},
     "output_type": "execute_result"
    }
   ],
   "source": [
    "y.shape"
   ]
  },
  {
   "cell_type": "code",
   "execution_count": 36,
   "metadata": {
    "ExecuteTime": {
     "end_time": "2022-04-14T07:07:04.637119Z",
     "start_time": "2022-04-14T07:07:04.617118Z"
    }
   },
   "outputs": [
    {
     "data": {
      "text/html": [
       "<div>\n",
       "<style scoped>\n",
       "    .dataframe tbody tr th:only-of-type {\n",
       "        vertical-align: middle;\n",
       "    }\n",
       "\n",
       "    .dataframe tbody tr th {\n",
       "        vertical-align: top;\n",
       "    }\n",
       "\n",
       "    .dataframe thead th {\n",
       "        text-align: right;\n",
       "    }\n",
       "</style>\n",
       "<table border=\"1\" class=\"dataframe\">\n",
       "  <thead>\n",
       "    <tr style=\"text-align: right;\">\n",
       "      <th></th>\n",
       "      <th>0</th>\n",
       "      <th>1</th>\n",
       "      <th>2</th>\n",
       "      <th>3</th>\n",
       "      <th>4</th>\n",
       "      <th>5</th>\n",
       "      <th>6</th>\n",
       "      <th>7</th>\n",
       "      <th>8</th>\n",
       "      <th>9</th>\n",
       "      <th>10</th>\n",
       "      <th>11</th>\n",
       "      <th>12</th>\n",
       "      <th>13</th>\n",
       "      <th>14</th>\n",
       "      <th>15</th>\n",
       "      <th>16</th>\n",
       "      <th>17</th>\n",
       "    </tr>\n",
       "  </thead>\n",
       "  <tbody>\n",
       "    <tr>\n",
       "      <th>0</th>\n",
       "      <td>-1.355677</td>\n",
       "      <td>0.779179</td>\n",
       "      <td>0.375919</td>\n",
       "      <td>0.569287</td>\n",
       "      <td>-0.541475</td>\n",
       "      <td>0.949327</td>\n",
       "      <td>0.627186</td>\n",
       "      <td>-0.850401</td>\n",
       "      <td>0.506851</td>\n",
       "      <td>0.275214</td>\n",
       "      <td>-0.098084</td>\n",
       "      <td>0.282219</td>\n",
       "      <td>-0.530081</td>\n",
       "      <td>0.881810</td>\n",
       "      <td>-1.246312</td>\n",
       "      <td>-1.303972</td>\n",
       "      <td>-0.842156</td>\n",
       "      <td>-1.141225</td>\n",
       "    </tr>\n",
       "    <tr>\n",
       "      <th>1</th>\n",
       "      <td>-1.355677</td>\n",
       "      <td>0.779179</td>\n",
       "      <td>0.066870</td>\n",
       "      <td>0.091480</td>\n",
       "      <td>-0.672929</td>\n",
       "      <td>-0.149654</td>\n",
       "      <td>-0.323041</td>\n",
       "      <td>-0.101878</td>\n",
       "      <td>0.278038</td>\n",
       "      <td>1.055407</td>\n",
       "      <td>-0.098084</td>\n",
       "      <td>-0.391365</td>\n",
       "      <td>-0.420006</td>\n",
       "      <td>0.881810</td>\n",
       "      <td>-0.797207</td>\n",
       "      <td>-0.839334</td>\n",
       "      <td>-0.466713</td>\n",
       "      <td>-0.764819</td>\n",
       "    </tr>\n",
       "    <tr>\n",
       "      <th>2</th>\n",
       "      <td>-1.355677</td>\n",
       "      <td>0.779179</td>\n",
       "      <td>0.005060</td>\n",
       "      <td>-0.099643</td>\n",
       "      <td>-0.716748</td>\n",
       "      <td>-0.311268</td>\n",
       "      <td>-0.468215</td>\n",
       "      <td>-0.262276</td>\n",
       "      <td>0.201767</td>\n",
       "      <td>0.875363</td>\n",
       "      <td>-0.098084</td>\n",
       "      <td>-0.466208</td>\n",
       "      <td>-0.585118</td>\n",
       "      <td>0.881810</td>\n",
       "      <td>-1.037426</td>\n",
       "      <td>-1.648226</td>\n",
       "      <td>-1.217599</td>\n",
       "      <td>-1.047123</td>\n",
       "    </tr>\n",
       "    <tr>\n",
       "      <th>3</th>\n",
       "      <td>-1.514655</td>\n",
       "      <td>0.779179</td>\n",
       "      <td>-0.056750</td>\n",
       "      <td>-0.195204</td>\n",
       "      <td>-0.190929</td>\n",
       "      <td>-0.521367</td>\n",
       "      <td>-0.481412</td>\n",
       "      <td>-0.476140</td>\n",
       "      <td>-0.293994</td>\n",
       "      <td>0.815348</td>\n",
       "      <td>-0.098084</td>\n",
       "      <td>0.057691</td>\n",
       "      <td>-0.640156</td>\n",
       "      <td>0.331872</td>\n",
       "      <td>-0.838984</td>\n",
       "      <td>-1.092773</td>\n",
       "      <td>-1.593042</td>\n",
       "      <td>-1.329428</td>\n",
       "    </tr>\n",
       "    <tr>\n",
       "      <th>4</th>\n",
       "      <td>-1.673634</td>\n",
       "      <td>0.779179</td>\n",
       "      <td>-0.118560</td>\n",
       "      <td>-0.290765</td>\n",
       "      <td>-0.147111</td>\n",
       "      <td>-0.537529</td>\n",
       "      <td>-0.494610</td>\n",
       "      <td>-0.422674</td>\n",
       "      <td>-0.675349</td>\n",
       "      <td>0.575288</td>\n",
       "      <td>-0.098084</td>\n",
       "      <td>-0.091994</td>\n",
       "      <td>-0.475043</td>\n",
       "      <td>0.331872</td>\n",
       "      <td>-0.483877</td>\n",
       "      <td>-0.680935</td>\n",
       "      <td>-0.560574</td>\n",
       "      <td>-1.047123</td>\n",
       "    </tr>\n",
       "    <tr>\n",
       "      <th>5</th>\n",
       "      <td>-1.673634</td>\n",
       "      <td>0.779179</td>\n",
       "      <td>-0.273085</td>\n",
       "      <td>-0.768572</td>\n",
       "      <td>-0.278565</td>\n",
       "      <td>-1.022373</td>\n",
       "      <td>-0.916933</td>\n",
       "      <td>-0.208810</td>\n",
       "      <td>-1.171110</td>\n",
       "      <td>0.395244</td>\n",
       "      <td>-0.098084</td>\n",
       "      <td>-0.017151</td>\n",
       "      <td>-0.750231</td>\n",
       "      <td>-0.218066</td>\n",
       "      <td>-0.525655</td>\n",
       "      <td>-0.448616</td>\n",
       "      <td>0.190312</td>\n",
       "      <td>0.176195</td>\n",
       "    </tr>\n",
       "    <tr>\n",
       "      <th>6</th>\n",
       "      <td>-1.673634</td>\n",
       "      <td>0.779179</td>\n",
       "      <td>-0.056750</td>\n",
       "      <td>-0.386327</td>\n",
       "      <td>-0.103292</td>\n",
       "      <td>-0.521367</td>\n",
       "      <td>-0.455017</td>\n",
       "      <td>-0.422674</td>\n",
       "      <td>-1.476194</td>\n",
       "      <td>0.215199</td>\n",
       "      <td>-0.098084</td>\n",
       "      <td>0.057691</td>\n",
       "      <td>-0.695193</td>\n",
       "      <td>0.331872</td>\n",
       "      <td>-0.577876</td>\n",
       "      <td>-0.554216</td>\n",
       "      <td>0.190312</td>\n",
       "      <td>0.270297</td>\n",
       "    </tr>\n",
       "    <tr>\n",
       "      <th>7</th>\n",
       "      <td>-1.673634</td>\n",
       "      <td>0.779179</td>\n",
       "      <td>0.252299</td>\n",
       "      <td>-0.099643</td>\n",
       "      <td>0.028162</td>\n",
       "      <td>-0.375914</td>\n",
       "      <td>-0.309844</td>\n",
       "      <td>-0.529605</td>\n",
       "      <td>-1.552465</td>\n",
       "      <td>-0.084875</td>\n",
       "      <td>-0.098084</td>\n",
       "      <td>-0.017151</td>\n",
       "      <td>-0.640156</td>\n",
       "      <td>0.331872</td>\n",
       "      <td>-0.546543</td>\n",
       "      <td>-0.680935</td>\n",
       "      <td>-0.278991</td>\n",
       "      <td>0.270297</td>\n",
       "    </tr>\n",
       "    <tr>\n",
       "      <th>8</th>\n",
       "      <td>-1.196698</td>\n",
       "      <td>0.779179</td>\n",
       "      <td>1.210353</td>\n",
       "      <td>1.142655</td>\n",
       "      <td>1.956165</td>\n",
       "      <td>0.787712</td>\n",
       "      <td>1.287066</td>\n",
       "      <td>-0.583071</td>\n",
       "      <td>-1.209246</td>\n",
       "      <td>-0.144890</td>\n",
       "      <td>-0.098084</td>\n",
       "      <td>-0.541051</td>\n",
       "      <td>1.286159</td>\n",
       "      <td>1.431748</td>\n",
       "      <td>-0.337657</td>\n",
       "      <td>0.776338</td>\n",
       "      <td>-1.593042</td>\n",
       "      <td>-1.141225</td>\n",
       "    </tr>\n",
       "    <tr>\n",
       "      <th>9</th>\n",
       "      <td>-0.878741</td>\n",
       "      <td>0.779179</td>\n",
       "      <td>1.086733</td>\n",
       "      <td>0.855971</td>\n",
       "      <td>2.525802</td>\n",
       "      <td>1.757400</td>\n",
       "      <td>2.210899</td>\n",
       "      <td>-0.155344</td>\n",
       "      <td>-0.179588</td>\n",
       "      <td>0.515273</td>\n",
       "      <td>-0.098084</td>\n",
       "      <td>-1.289478</td>\n",
       "      <td>6.734880</td>\n",
       "      <td>0.881810</td>\n",
       "      <td>-1.152313</td>\n",
       "      <td>-0.057898</td>\n",
       "      <td>-1.405321</td>\n",
       "      <td>-1.329428</td>\n",
       "    </tr>\n",
       "  </tbody>\n",
       "</table>\n",
       "</div>"
      ],
      "text/plain": [
       "         0         1         2         3         4         5         6   \\\n",
       "0 -1.355677  0.779179  0.375919  0.569287 -0.541475  0.949327  0.627186   \n",
       "1 -1.355677  0.779179  0.066870  0.091480 -0.672929 -0.149654 -0.323041   \n",
       "2 -1.355677  0.779179  0.005060 -0.099643 -0.716748 -0.311268 -0.468215   \n",
       "3 -1.514655  0.779179 -0.056750 -0.195204 -0.190929 -0.521367 -0.481412   \n",
       "4 -1.673634  0.779179 -0.118560 -0.290765 -0.147111 -0.537529 -0.494610   \n",
       "5 -1.673634  0.779179 -0.273085 -0.768572 -0.278565 -1.022373 -0.916933   \n",
       "6 -1.673634  0.779179 -0.056750 -0.386327 -0.103292 -0.521367 -0.455017   \n",
       "7 -1.673634  0.779179  0.252299 -0.099643  0.028162 -0.375914 -0.309844   \n",
       "8 -1.196698  0.779179  1.210353  1.142655  1.956165  0.787712  1.287066   \n",
       "9 -0.878741  0.779179  1.086733  0.855971  2.525802  1.757400  2.210899   \n",
       "\n",
       "         7         8         9         10        11        12        13  \\\n",
       "0 -0.850401  0.506851  0.275214 -0.098084  0.282219 -0.530081  0.881810   \n",
       "1 -0.101878  0.278038  1.055407 -0.098084 -0.391365 -0.420006  0.881810   \n",
       "2 -0.262276  0.201767  0.875363 -0.098084 -0.466208 -0.585118  0.881810   \n",
       "3 -0.476140 -0.293994  0.815348 -0.098084  0.057691 -0.640156  0.331872   \n",
       "4 -0.422674 -0.675349  0.575288 -0.098084 -0.091994 -0.475043  0.331872   \n",
       "5 -0.208810 -1.171110  0.395244 -0.098084 -0.017151 -0.750231 -0.218066   \n",
       "6 -0.422674 -1.476194  0.215199 -0.098084  0.057691 -0.695193  0.331872   \n",
       "7 -0.529605 -1.552465 -0.084875 -0.098084 -0.017151 -0.640156  0.331872   \n",
       "8 -0.583071 -1.209246 -0.144890 -0.098084 -0.541051  1.286159  1.431748   \n",
       "9 -0.155344 -0.179588  0.515273 -0.098084 -1.289478  6.734880  0.881810   \n",
       "\n",
       "         14        15        16        17  \n",
       "0 -1.246312 -1.303972 -0.842156 -1.141225  \n",
       "1 -0.797207 -0.839334 -0.466713 -0.764819  \n",
       "2 -1.037426 -1.648226 -1.217599 -1.047123  \n",
       "3 -0.838984 -1.092773 -1.593042 -1.329428  \n",
       "4 -0.483877 -0.680935 -0.560574 -1.047123  \n",
       "5 -0.525655 -0.448616  0.190312  0.176195  \n",
       "6 -0.577876 -0.554216  0.190312  0.270297  \n",
       "7 -0.546543 -0.680935 -0.278991  0.270297  \n",
       "8 -0.337657  0.776338 -1.593042 -1.141225  \n",
       "9 -1.152313 -0.057898 -1.405321 -1.329428  "
      ]
     },
     "execution_count": 36,
     "metadata": {},
     "output_type": "execute_result"
    }
   ],
   "source": [
    "all_train_data2.iloc[:10,:]"
   ]
  },
  {
   "cell_type": "code",
   "execution_count": 39,
   "metadata": {
    "ExecuteTime": {
     "end_time": "2022-04-14T07:10:20.399316Z",
     "start_time": "2022-04-14T07:10:20.394316Z"
    }
   },
   "outputs": [
    {
     "data": {
      "text/plain": [
       "array([[-1.35567676,  0.77917878,  0.37591913,  0.56928682, -0.54147467,\n",
       "         0.94932657,  0.6271863 , -0.85040131,  0.50685114,  0.27521402,\n",
       "        -0.09808389,  0.28221947, -0.53008068,  0.88180982, -1.24631231,\n",
       "        -1.30397195, -0.84215595, -1.1412249 ],\n",
       "       [-1.35567676,  0.77917878,  0.06686953,  0.09148008, -0.67292936,\n",
       "        -0.14965355, -0.32304112, -0.10187773,  0.27803819,  1.05540732,\n",
       "        -0.09808389, -0.39136512, -0.42000552,  0.88180982, -0.79720683,\n",
       "        -0.83933422, -0.46671288, -0.76481918],\n",
       "       [-1.35567676,  0.77917878,  0.00505961, -0.09964261, -0.7167476 ,\n",
       "        -0.31126827, -0.46821475, -0.26227564,  0.20176721,  0.87536271,\n",
       "        -0.09808389, -0.46620785, -0.58511826,  0.88180982, -1.03742604,\n",
       "        -1.64822627, -1.21759901, -1.04712347],\n",
       "       [-1.51465542,  0.77917878, -0.05675031, -0.19520396, -0.19092882,\n",
       "        -0.52136741, -0.48141236, -0.47613952, -0.29399419,  0.81534784,\n",
       "        -0.09808389,  0.05769127, -0.64015584,  0.33187212, -0.83898409,\n",
       "        -1.09277298, -1.59304207, -1.32942776],\n",
       "       [-1.67363409,  0.77917878, -0.11856023, -0.29076531, -0.14711058,\n",
       "        -0.53752889, -0.49460996, -0.42267355, -0.6753491 ,  0.57528837,\n",
       "        -0.09808389, -0.09199419, -0.4750431 ,  0.33187212, -0.48387743,\n",
       "        -0.68093499, -0.56057365, -1.04712347],\n",
       "       [-1.67363409,  0.77917878, -0.27308503, -0.76857205, -0.27856528,\n",
       "        -1.02237306, -0.91693326, -0.20880967, -1.1711105 ,  0.39524376,\n",
       "        -0.09808389, -0.01715146, -0.75023099, -0.21806557, -0.52565468,\n",
       "        -0.44861613,  0.19031248,  0.17619513],\n",
       "       [-1.67363409,  0.77917878, -0.05675031, -0.38632666, -0.10329235,\n",
       "        -0.52136741, -0.45501715, -0.42267355, -1.47619443,  0.21519915,\n",
       "        -0.09808389,  0.05769127, -0.69519342,  0.33187212, -0.57787625,\n",
       "        -0.55421561,  0.19031248,  0.27029656],\n",
       "       [-1.67363409,  0.77917878,  0.25229929, -0.09964261,  0.02816234,\n",
       "        -0.37591416, -0.30984352, -0.52960549, -1.55246541, -0.0848752 ,\n",
       "        -0.09808389, -0.01715146, -0.64015584,  0.33187212, -0.54654331,\n",
       "        -0.68093499, -0.27899135,  0.27029656],\n",
       "       [-1.19669809,  0.77917878,  1.21035305,  1.14265491,  1.95616454,\n",
       "         0.78771184,  1.28706645, -0.58307146, -1.20924599, -0.14489006,\n",
       "        -0.09808389, -0.54105058,  1.28615942,  1.43174751, -0.33765704,\n",
       "         0.7763379 , -1.59304207, -1.1412249 ]])"
      ]
     },
     "execution_count": 39,
     "metadata": {},
     "output_type": "execute_result"
    }
   ],
   "source": [
    "x[0,:].reshape(9,18)"
   ]
  },
  {
   "cell_type": "code",
   "execution_count": null,
   "metadata": {
    "collapsed": true
   },
   "outputs": [],
   "source": []
  },
  {
   "cell_type": "code",
   "execution_count": null,
   "metadata": {
    "collapsed": true
   },
   "outputs": [],
   "source": [
    "def train_pytorch(num_epochs,lr,train_features,train_labels,batch_size):\n",
    "    net=LSTM_Reg(162,256,2)\n",
    "    loss=nn.MSELoss()\n",
    "    optimizer=optim.Adam(net.parameters(),lr=5e-3)\n",
    "    dataset=torch.utils.data.TensorDataset(train_features,train_labels)\n",
    "    data_iter=torch.utils.data.DataLoader(dataset,batch_size,shuffle=True)\n",
    "    for e in range(num_epochs):\n",
    "        net.train()\n",
    "        for x,y in data_iter:\n",
    "            \n",
    "    \n",
    "    "
   ]
  },
  {
   "cell_type": "code",
   "execution_count": null,
   "metadata": {
    "collapsed": true
   },
   "outputs": [],
   "source": []
  },
  {
   "cell_type": "code",
   "execution_count": null,
   "metadata": {
    "collapsed": true
   },
   "outputs": [],
   "source": []
  },
  {
   "cell_type": "code",
   "execution_count": null,
   "metadata": {
    "collapsed": true
   },
   "outputs": [],
   "source": []
  }
 ],
 "metadata": {
  "kernelspec": {
   "display_name": "Python 3",
   "language": "python",
   "name": "python3"
  },
  "language_info": {
   "codemirror_mode": {
    "name": "ipython",
    "version": 3
   },
   "file_extension": ".py",
   "mimetype": "text/x-python",
   "name": "python",
   "nbconvert_exporter": "python",
   "pygments_lexer": "ipython3",
   "version": "3.6.3"
  }
 },
 "nbformat": 4,
 "nbformat_minor": 2
}
