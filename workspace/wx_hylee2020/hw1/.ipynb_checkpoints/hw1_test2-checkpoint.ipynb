{
 "cells": [
  {
   "cell_type": "code",
   "execution_count": 1,
   "metadata": {
    "ExecuteTime": {
     "end_time": "2021-10-09T08:40:08.579182Z",
     "start_time": "2021-10-09T08:40:07.858140Z"
    },
    "collapsed": true
   },
   "outputs": [],
   "source": [
    "import numpy as np\n",
    "import torch \n",
    "import pandas as pd\n",
    "import torchvision\n",
    "from torch import optim,nn"
   ]
  },
  {
   "cell_type": "code",
   "execution_count": 2,
   "metadata": {
    "ExecuteTime": {
     "end_time": "2021-10-09T08:40:09.584239Z",
     "start_time": "2021-10-09T08:40:09.514235Z"
    },
    "collapsed": true
   },
   "outputs": [],
   "source": [
    "train_data=pd.read_csv(r'F:\\study\\ml\\HonyiLee2020\\hw1\\data\\train.csv',encoding='big5')\n",
    "test_data=pd.read_csv(r'F:\\study\\ml\\HonyiLee2020\\hw1\\data\\test.csv',encoding='big5',header=None)"
   ]
  },
  {
   "cell_type": "code",
   "execution_count": 3,
   "metadata": {
    "ExecuteTime": {
     "end_time": "2021-10-09T08:40:10.421287Z",
     "start_time": "2021-10-09T08:40:10.346283Z"
    },
    "scrolled": true
   },
   "outputs": [
    {
     "data": {
      "text/html": [
       "<div>\n",
       "<style>\n",
       "    .dataframe thead tr:only-child th {\n",
       "        text-align: right;\n",
       "    }\n",
       "\n",
       "    .dataframe thead th {\n",
       "        text-align: left;\n",
       "    }\n",
       "\n",
       "    .dataframe tbody tr th {\n",
       "        vertical-align: top;\n",
       "    }\n",
       "</style>\n",
       "<table border=\"1\" class=\"dataframe\">\n",
       "  <thead>\n",
       "    <tr style=\"text-align: right;\">\n",
       "      <th></th>\n",
       "      <th>日期</th>\n",
       "      <th>測站</th>\n",
       "      <th>測項</th>\n",
       "      <th>0</th>\n",
       "      <th>1</th>\n",
       "      <th>2</th>\n",
       "      <th>3</th>\n",
       "      <th>4</th>\n",
       "      <th>5</th>\n",
       "      <th>6</th>\n",
       "      <th>...</th>\n",
       "      <th>14</th>\n",
       "      <th>15</th>\n",
       "      <th>16</th>\n",
       "      <th>17</th>\n",
       "      <th>18</th>\n",
       "      <th>19</th>\n",
       "      <th>20</th>\n",
       "      <th>21</th>\n",
       "      <th>22</th>\n",
       "      <th>23</th>\n",
       "    </tr>\n",
       "  </thead>\n",
       "  <tbody>\n",
       "    <tr>\n",
       "      <th>0</th>\n",
       "      <td>2014/1/1</td>\n",
       "      <td>豐原</td>\n",
       "      <td>AMB_TEMP</td>\n",
       "      <td>14</td>\n",
       "      <td>14</td>\n",
       "      <td>14</td>\n",
       "      <td>13</td>\n",
       "      <td>12</td>\n",
       "      <td>12</td>\n",
       "      <td>12</td>\n",
       "      <td>...</td>\n",
       "      <td>22</td>\n",
       "      <td>22</td>\n",
       "      <td>21</td>\n",
       "      <td>19</td>\n",
       "      <td>17</td>\n",
       "      <td>16</td>\n",
       "      <td>15</td>\n",
       "      <td>15</td>\n",
       "      <td>15</td>\n",
       "      <td>15</td>\n",
       "    </tr>\n",
       "    <tr>\n",
       "      <th>1</th>\n",
       "      <td>2014/1/1</td>\n",
       "      <td>豐原</td>\n",
       "      <td>CH4</td>\n",
       "      <td>1.8</td>\n",
       "      <td>1.8</td>\n",
       "      <td>1.8</td>\n",
       "      <td>1.8</td>\n",
       "      <td>1.8</td>\n",
       "      <td>1.8</td>\n",
       "      <td>1.8</td>\n",
       "      <td>...</td>\n",
       "      <td>1.8</td>\n",
       "      <td>1.8</td>\n",
       "      <td>1.8</td>\n",
       "      <td>1.8</td>\n",
       "      <td>1.8</td>\n",
       "      <td>1.8</td>\n",
       "      <td>1.8</td>\n",
       "      <td>1.8</td>\n",
       "      <td>1.8</td>\n",
       "      <td>1.8</td>\n",
       "    </tr>\n",
       "    <tr>\n",
       "      <th>2</th>\n",
       "      <td>2014/1/1</td>\n",
       "      <td>豐原</td>\n",
       "      <td>CO</td>\n",
       "      <td>0.51</td>\n",
       "      <td>0.41</td>\n",
       "      <td>0.39</td>\n",
       "      <td>0.37</td>\n",
       "      <td>0.35</td>\n",
       "      <td>0.3</td>\n",
       "      <td>0.37</td>\n",
       "      <td>...</td>\n",
       "      <td>0.37</td>\n",
       "      <td>0.37</td>\n",
       "      <td>0.47</td>\n",
       "      <td>0.69</td>\n",
       "      <td>0.56</td>\n",
       "      <td>0.45</td>\n",
       "      <td>0.38</td>\n",
       "      <td>0.35</td>\n",
       "      <td>0.36</td>\n",
       "      <td>0.32</td>\n",
       "    </tr>\n",
       "    <tr>\n",
       "      <th>3</th>\n",
       "      <td>2014/1/1</td>\n",
       "      <td>豐原</td>\n",
       "      <td>NMHC</td>\n",
       "      <td>0.2</td>\n",
       "      <td>0.15</td>\n",
       "      <td>0.13</td>\n",
       "      <td>0.12</td>\n",
       "      <td>0.11</td>\n",
       "      <td>0.06</td>\n",
       "      <td>0.1</td>\n",
       "      <td>...</td>\n",
       "      <td>0.1</td>\n",
       "      <td>0.13</td>\n",
       "      <td>0.14</td>\n",
       "      <td>0.23</td>\n",
       "      <td>0.18</td>\n",
       "      <td>0.12</td>\n",
       "      <td>0.1</td>\n",
       "      <td>0.09</td>\n",
       "      <td>0.1</td>\n",
       "      <td>0.08</td>\n",
       "    </tr>\n",
       "    <tr>\n",
       "      <th>4</th>\n",
       "      <td>2014/1/1</td>\n",
       "      <td>豐原</td>\n",
       "      <td>NO</td>\n",
       "      <td>0.9</td>\n",
       "      <td>0.6</td>\n",
       "      <td>0.5</td>\n",
       "      <td>1.7</td>\n",
       "      <td>1.8</td>\n",
       "      <td>1.5</td>\n",
       "      <td>1.9</td>\n",
       "      <td>...</td>\n",
       "      <td>2.5</td>\n",
       "      <td>2.2</td>\n",
       "      <td>2.5</td>\n",
       "      <td>2.3</td>\n",
       "      <td>2.1</td>\n",
       "      <td>1.9</td>\n",
       "      <td>1.5</td>\n",
       "      <td>1.6</td>\n",
       "      <td>1.8</td>\n",
       "      <td>1.5</td>\n",
       "    </tr>\n",
       "    <tr>\n",
       "      <th>5</th>\n",
       "      <td>2014/1/1</td>\n",
       "      <td>豐原</td>\n",
       "      <td>NO2</td>\n",
       "      <td>16</td>\n",
       "      <td>9.2</td>\n",
       "      <td>8.2</td>\n",
       "      <td>6.9</td>\n",
       "      <td>6.8</td>\n",
       "      <td>3.8</td>\n",
       "      <td>6.9</td>\n",
       "      <td>...</td>\n",
       "      <td>11</td>\n",
       "      <td>11</td>\n",
       "      <td>22</td>\n",
       "      <td>28</td>\n",
       "      <td>19</td>\n",
       "      <td>12</td>\n",
       "      <td>8.1</td>\n",
       "      <td>7</td>\n",
       "      <td>6.9</td>\n",
       "      <td>6</td>\n",
       "    </tr>\n",
       "    <tr>\n",
       "      <th>6</th>\n",
       "      <td>2014/1/1</td>\n",
       "      <td>豐原</td>\n",
       "      <td>NOx</td>\n",
       "      <td>17</td>\n",
       "      <td>9.8</td>\n",
       "      <td>8.7</td>\n",
       "      <td>8.6</td>\n",
       "      <td>8.5</td>\n",
       "      <td>5.3</td>\n",
       "      <td>8.8</td>\n",
       "      <td>...</td>\n",
       "      <td>14</td>\n",
       "      <td>13</td>\n",
       "      <td>25</td>\n",
       "      <td>30</td>\n",
       "      <td>21</td>\n",
       "      <td>13</td>\n",
       "      <td>9.7</td>\n",
       "      <td>8.6</td>\n",
       "      <td>8.7</td>\n",
       "      <td>7.5</td>\n",
       "    </tr>\n",
       "    <tr>\n",
       "      <th>7</th>\n",
       "      <td>2014/1/1</td>\n",
       "      <td>豐原</td>\n",
       "      <td>O3</td>\n",
       "      <td>16</td>\n",
       "      <td>30</td>\n",
       "      <td>27</td>\n",
       "      <td>23</td>\n",
       "      <td>24</td>\n",
       "      <td>28</td>\n",
       "      <td>24</td>\n",
       "      <td>...</td>\n",
       "      <td>65</td>\n",
       "      <td>64</td>\n",
       "      <td>51</td>\n",
       "      <td>34</td>\n",
       "      <td>33</td>\n",
       "      <td>34</td>\n",
       "      <td>37</td>\n",
       "      <td>38</td>\n",
       "      <td>38</td>\n",
       "      <td>36</td>\n",
       "    </tr>\n",
       "    <tr>\n",
       "      <th>8</th>\n",
       "      <td>2014/1/1</td>\n",
       "      <td>豐原</td>\n",
       "      <td>PM10</td>\n",
       "      <td>56</td>\n",
       "      <td>50</td>\n",
       "      <td>48</td>\n",
       "      <td>35</td>\n",
       "      <td>25</td>\n",
       "      <td>12</td>\n",
       "      <td>4</td>\n",
       "      <td>...</td>\n",
       "      <td>52</td>\n",
       "      <td>51</td>\n",
       "      <td>66</td>\n",
       "      <td>85</td>\n",
       "      <td>85</td>\n",
       "      <td>63</td>\n",
       "      <td>46</td>\n",
       "      <td>36</td>\n",
       "      <td>42</td>\n",
       "      <td>42</td>\n",
       "    </tr>\n",
       "    <tr>\n",
       "      <th>9</th>\n",
       "      <td>2014/1/1</td>\n",
       "      <td>豐原</td>\n",
       "      <td>PM2.5</td>\n",
       "      <td>26</td>\n",
       "      <td>39</td>\n",
       "      <td>36</td>\n",
       "      <td>35</td>\n",
       "      <td>31</td>\n",
       "      <td>28</td>\n",
       "      <td>25</td>\n",
       "      <td>...</td>\n",
       "      <td>36</td>\n",
       "      <td>45</td>\n",
       "      <td>42</td>\n",
       "      <td>49</td>\n",
       "      <td>45</td>\n",
       "      <td>44</td>\n",
       "      <td>41</td>\n",
       "      <td>30</td>\n",
       "      <td>24</td>\n",
       "      <td>13</td>\n",
       "    </tr>\n",
       "    <tr>\n",
       "      <th>10</th>\n",
       "      <td>2014/1/1</td>\n",
       "      <td>豐原</td>\n",
       "      <td>RAINFALL</td>\n",
       "      <td>NR</td>\n",
       "      <td>NR</td>\n",
       "      <td>NR</td>\n",
       "      <td>NR</td>\n",
       "      <td>NR</td>\n",
       "      <td>NR</td>\n",
       "      <td>NR</td>\n",
       "      <td>...</td>\n",
       "      <td>NR</td>\n",
       "      <td>NR</td>\n",
       "      <td>NR</td>\n",
       "      <td>NR</td>\n",
       "      <td>NR</td>\n",
       "      <td>NR</td>\n",
       "      <td>NR</td>\n",
       "      <td>NR</td>\n",
       "      <td>NR</td>\n",
       "      <td>NR</td>\n",
       "    </tr>\n",
       "    <tr>\n",
       "      <th>11</th>\n",
       "      <td>2014/1/1</td>\n",
       "      <td>豐原</td>\n",
       "      <td>RH</td>\n",
       "      <td>77</td>\n",
       "      <td>68</td>\n",
       "      <td>67</td>\n",
       "      <td>74</td>\n",
       "      <td>72</td>\n",
       "      <td>73</td>\n",
       "      <td>74</td>\n",
       "      <td>...</td>\n",
       "      <td>47</td>\n",
       "      <td>49</td>\n",
       "      <td>56</td>\n",
       "      <td>67</td>\n",
       "      <td>72</td>\n",
       "      <td>69</td>\n",
       "      <td>70</td>\n",
       "      <td>70</td>\n",
       "      <td>70</td>\n",
       "      <td>69</td>\n",
       "    </tr>\n",
       "    <tr>\n",
       "      <th>12</th>\n",
       "      <td>2014/1/1</td>\n",
       "      <td>豐原</td>\n",
       "      <td>SO2</td>\n",
       "      <td>1.8</td>\n",
       "      <td>2</td>\n",
       "      <td>1.7</td>\n",
       "      <td>1.6</td>\n",
       "      <td>1.9</td>\n",
       "      <td>1.4</td>\n",
       "      <td>1.5</td>\n",
       "      <td>...</td>\n",
       "      <td>3.9</td>\n",
       "      <td>4.4</td>\n",
       "      <td>9.9</td>\n",
       "      <td>5.1</td>\n",
       "      <td>3.4</td>\n",
       "      <td>2.3</td>\n",
       "      <td>2</td>\n",
       "      <td>1.9</td>\n",
       "      <td>1.9</td>\n",
       "      <td>1.9</td>\n",
       "    </tr>\n",
       "    <tr>\n",
       "      <th>13</th>\n",
       "      <td>2014/1/1</td>\n",
       "      <td>豐原</td>\n",
       "      <td>THC</td>\n",
       "      <td>2</td>\n",
       "      <td>2</td>\n",
       "      <td>2</td>\n",
       "      <td>1.9</td>\n",
       "      <td>1.9</td>\n",
       "      <td>1.8</td>\n",
       "      <td>1.9</td>\n",
       "      <td>...</td>\n",
       "      <td>1.9</td>\n",
       "      <td>1.9</td>\n",
       "      <td>1.9</td>\n",
       "      <td>2.1</td>\n",
       "      <td>2</td>\n",
       "      <td>1.9</td>\n",
       "      <td>1.9</td>\n",
       "      <td>1.9</td>\n",
       "      <td>1.9</td>\n",
       "      <td>1.9</td>\n",
       "    </tr>\n",
       "    <tr>\n",
       "      <th>14</th>\n",
       "      <td>2014/1/1</td>\n",
       "      <td>豐原</td>\n",
       "      <td>WD_HR</td>\n",
       "      <td>37</td>\n",
       "      <td>80</td>\n",
       "      <td>57</td>\n",
       "      <td>76</td>\n",
       "      <td>110</td>\n",
       "      <td>106</td>\n",
       "      <td>101</td>\n",
       "      <td>...</td>\n",
       "      <td>307</td>\n",
       "      <td>304</td>\n",
       "      <td>307</td>\n",
       "      <td>124</td>\n",
       "      <td>118</td>\n",
       "      <td>121</td>\n",
       "      <td>113</td>\n",
       "      <td>112</td>\n",
       "      <td>106</td>\n",
       "      <td>110</td>\n",
       "    </tr>\n",
       "    <tr>\n",
       "      <th>15</th>\n",
       "      <td>2014/1/1</td>\n",
       "      <td>豐原</td>\n",
       "      <td>WIND_DIREC</td>\n",
       "      <td>35</td>\n",
       "      <td>79</td>\n",
       "      <td>2.4</td>\n",
       "      <td>55</td>\n",
       "      <td>94</td>\n",
       "      <td>116</td>\n",
       "      <td>106</td>\n",
       "      <td>...</td>\n",
       "      <td>313</td>\n",
       "      <td>305</td>\n",
       "      <td>291</td>\n",
       "      <td>124</td>\n",
       "      <td>119</td>\n",
       "      <td>118</td>\n",
       "      <td>114</td>\n",
       "      <td>108</td>\n",
       "      <td>102</td>\n",
       "      <td>111</td>\n",
       "    </tr>\n",
       "    <tr>\n",
       "      <th>16</th>\n",
       "      <td>2014/1/1</td>\n",
       "      <td>豐原</td>\n",
       "      <td>WIND_SPEED</td>\n",
       "      <td>1.4</td>\n",
       "      <td>1.8</td>\n",
       "      <td>1</td>\n",
       "      <td>0.6</td>\n",
       "      <td>1.7</td>\n",
       "      <td>2.5</td>\n",
       "      <td>2.5</td>\n",
       "      <td>...</td>\n",
       "      <td>2.5</td>\n",
       "      <td>2.2</td>\n",
       "      <td>1.4</td>\n",
       "      <td>2.2</td>\n",
       "      <td>2.8</td>\n",
       "      <td>3</td>\n",
       "      <td>2.6</td>\n",
       "      <td>2.7</td>\n",
       "      <td>2.1</td>\n",
       "      <td>2.1</td>\n",
       "    </tr>\n",
       "    <tr>\n",
       "      <th>17</th>\n",
       "      <td>2014/1/1</td>\n",
       "      <td>豐原</td>\n",
       "      <td>WS_HR</td>\n",
       "      <td>0.5</td>\n",
       "      <td>0.9</td>\n",
       "      <td>0.6</td>\n",
       "      <td>0.3</td>\n",
       "      <td>0.6</td>\n",
       "      <td>1.9</td>\n",
       "      <td>2</td>\n",
       "      <td>...</td>\n",
       "      <td>2.1</td>\n",
       "      <td>2.1</td>\n",
       "      <td>1.9</td>\n",
       "      <td>1</td>\n",
       "      <td>2.5</td>\n",
       "      <td>2.5</td>\n",
       "      <td>2.8</td>\n",
       "      <td>2.6</td>\n",
       "      <td>2.4</td>\n",
       "      <td>2.3</td>\n",
       "    </tr>\n",
       "    <tr>\n",
       "      <th>18</th>\n",
       "      <td>2014/1/2</td>\n",
       "      <td>豐原</td>\n",
       "      <td>AMB_TEMP</td>\n",
       "      <td>16</td>\n",
       "      <td>15</td>\n",
       "      <td>15</td>\n",
       "      <td>14</td>\n",
       "      <td>14</td>\n",
       "      <td>15</td>\n",
       "      <td>16</td>\n",
       "      <td>...</td>\n",
       "      <td>24</td>\n",
       "      <td>24</td>\n",
       "      <td>23</td>\n",
       "      <td>21</td>\n",
       "      <td>20</td>\n",
       "      <td>19</td>\n",
       "      <td>18</td>\n",
       "      <td>18</td>\n",
       "      <td>18</td>\n",
       "      <td>18</td>\n",
       "    </tr>\n",
       "    <tr>\n",
       "      <th>19</th>\n",
       "      <td>2014/1/2</td>\n",
       "      <td>豐原</td>\n",
       "      <td>CH4</td>\n",
       "      <td>1.8</td>\n",
       "      <td>1.8</td>\n",
       "      <td>1.8</td>\n",
       "      <td>1.8</td>\n",
       "      <td>1.8</td>\n",
       "      <td>1.8</td>\n",
       "      <td>1.8</td>\n",
       "      <td>...</td>\n",
       "      <td>1.8</td>\n",
       "      <td>1.8</td>\n",
       "      <td>1.8</td>\n",
       "      <td>1.8</td>\n",
       "      <td>1.8</td>\n",
       "      <td>1.8</td>\n",
       "      <td>1.8</td>\n",
       "      <td>1.8</td>\n",
       "      <td>1.8</td>\n",
       "      <td>1.8</td>\n",
       "    </tr>\n",
       "  </tbody>\n",
       "</table>\n",
       "<p>20 rows × 27 columns</p>\n",
       "</div>"
      ],
      "text/plain": [
       "          日期  測站          測項     0     1     2     3     4     5     6  ...   \\\n",
       "0   2014/1/1  豐原    AMB_TEMP    14    14    14    13    12    12    12  ...    \n",
       "1   2014/1/1  豐原         CH4   1.8   1.8   1.8   1.8   1.8   1.8   1.8  ...    \n",
       "2   2014/1/1  豐原          CO  0.51  0.41  0.39  0.37  0.35   0.3  0.37  ...    \n",
       "3   2014/1/1  豐原        NMHC   0.2  0.15  0.13  0.12  0.11  0.06   0.1  ...    \n",
       "4   2014/1/1  豐原          NO   0.9   0.6   0.5   1.7   1.8   1.5   1.9  ...    \n",
       "5   2014/1/1  豐原         NO2    16   9.2   8.2   6.9   6.8   3.8   6.9  ...    \n",
       "6   2014/1/1  豐原         NOx    17   9.8   8.7   8.6   8.5   5.3   8.8  ...    \n",
       "7   2014/1/1  豐原          O3    16    30    27    23    24    28    24  ...    \n",
       "8   2014/1/1  豐原        PM10    56    50    48    35    25    12     4  ...    \n",
       "9   2014/1/1  豐原       PM2.5    26    39    36    35    31    28    25  ...    \n",
       "10  2014/1/1  豐原    RAINFALL    NR    NR    NR    NR    NR    NR    NR  ...    \n",
       "11  2014/1/1  豐原          RH    77    68    67    74    72    73    74  ...    \n",
       "12  2014/1/1  豐原         SO2   1.8     2   1.7   1.6   1.9   1.4   1.5  ...    \n",
       "13  2014/1/1  豐原         THC     2     2     2   1.9   1.9   1.8   1.9  ...    \n",
       "14  2014/1/1  豐原       WD_HR    37    80    57    76   110   106   101  ...    \n",
       "15  2014/1/1  豐原  WIND_DIREC    35    79   2.4    55    94   116   106  ...    \n",
       "16  2014/1/1  豐原  WIND_SPEED   1.4   1.8     1   0.6   1.7   2.5   2.5  ...    \n",
       "17  2014/1/1  豐原       WS_HR   0.5   0.9   0.6   0.3   0.6   1.9     2  ...    \n",
       "18  2014/1/2  豐原    AMB_TEMP    16    15    15    14    14    15    16  ...    \n",
       "19  2014/1/2  豐原         CH4   1.8   1.8   1.8   1.8   1.8   1.8   1.8  ...    \n",
       "\n",
       "      14    15    16    17    18    19    20    21    22    23  \n",
       "0     22    22    21    19    17    16    15    15    15    15  \n",
       "1    1.8   1.8   1.8   1.8   1.8   1.8   1.8   1.8   1.8   1.8  \n",
       "2   0.37  0.37  0.47  0.69  0.56  0.45  0.38  0.35  0.36  0.32  \n",
       "3    0.1  0.13  0.14  0.23  0.18  0.12   0.1  0.09   0.1  0.08  \n",
       "4    2.5   2.2   2.5   2.3   2.1   1.9   1.5   1.6   1.8   1.5  \n",
       "5     11    11    22    28    19    12   8.1     7   6.9     6  \n",
       "6     14    13    25    30    21    13   9.7   8.6   8.7   7.5  \n",
       "7     65    64    51    34    33    34    37    38    38    36  \n",
       "8     52    51    66    85    85    63    46    36    42    42  \n",
       "9     36    45    42    49    45    44    41    30    24    13  \n",
       "10    NR    NR    NR    NR    NR    NR    NR    NR    NR    NR  \n",
       "11    47    49    56    67    72    69    70    70    70    69  \n",
       "12   3.9   4.4   9.9   5.1   3.4   2.3     2   1.9   1.9   1.9  \n",
       "13   1.9   1.9   1.9   2.1     2   1.9   1.9   1.9   1.9   1.9  \n",
       "14   307   304   307   124   118   121   113   112   106   110  \n",
       "15   313   305   291   124   119   118   114   108   102   111  \n",
       "16   2.5   2.2   1.4   2.2   2.8     3   2.6   2.7   2.1   2.1  \n",
       "17   2.1   2.1   1.9     1   2.5   2.5   2.8   2.6   2.4   2.3  \n",
       "18    24    24    23    21    20    19    18    18    18    18  \n",
       "19   1.8   1.8   1.8   1.8   1.8   1.8   1.8   1.8   1.8   1.8  \n",
       "\n",
       "[20 rows x 27 columns]"
      ]
     },
     "execution_count": 3,
     "metadata": {},
     "output_type": "execute_result"
    }
   ],
   "source": [
    "train_data[:20]"
   ]
  },
  {
   "cell_type": "code",
   "execution_count": 4,
   "metadata": {
    "ExecuteTime": {
     "end_time": "2021-10-09T08:40:11.309338Z",
     "start_time": "2021-10-09T08:40:11.274336Z"
    }
   },
   "outputs": [
    {
     "data": {
      "text/html": [
       "<div>\n",
       "<style>\n",
       "    .dataframe thead tr:only-child th {\n",
       "        text-align: right;\n",
       "    }\n",
       "\n",
       "    .dataframe thead th {\n",
       "        text-align: left;\n",
       "    }\n",
       "\n",
       "    .dataframe tbody tr th {\n",
       "        vertical-align: top;\n",
       "    }\n",
       "</style>\n",
       "<table border=\"1\" class=\"dataframe\">\n",
       "  <thead>\n",
       "    <tr style=\"text-align: right;\">\n",
       "      <th></th>\n",
       "      <th>0</th>\n",
       "      <th>1</th>\n",
       "      <th>2</th>\n",
       "      <th>3</th>\n",
       "      <th>4</th>\n",
       "      <th>5</th>\n",
       "      <th>6</th>\n",
       "      <th>7</th>\n",
       "      <th>8</th>\n",
       "      <th>9</th>\n",
       "      <th>10</th>\n",
       "    </tr>\n",
       "  </thead>\n",
       "  <tbody>\n",
       "    <tr>\n",
       "      <th>0</th>\n",
       "      <td>id_0</td>\n",
       "      <td>AMB_TEMP</td>\n",
       "      <td>21</td>\n",
       "      <td>21</td>\n",
       "      <td>20</td>\n",
       "      <td>20</td>\n",
       "      <td>19</td>\n",
       "      <td>19</td>\n",
       "      <td>19</td>\n",
       "      <td>18</td>\n",
       "      <td>17</td>\n",
       "    </tr>\n",
       "    <tr>\n",
       "      <th>1</th>\n",
       "      <td>id_0</td>\n",
       "      <td>CH4</td>\n",
       "      <td>1.7</td>\n",
       "      <td>1.7</td>\n",
       "      <td>1.7</td>\n",
       "      <td>1.7</td>\n",
       "      <td>1.7</td>\n",
       "      <td>1.7</td>\n",
       "      <td>1.7</td>\n",
       "      <td>1.7</td>\n",
       "      <td>1.8</td>\n",
       "    </tr>\n",
       "    <tr>\n",
       "      <th>2</th>\n",
       "      <td>id_0</td>\n",
       "      <td>CO</td>\n",
       "      <td>0.39</td>\n",
       "      <td>0.36</td>\n",
       "      <td>0.36</td>\n",
       "      <td>0.4</td>\n",
       "      <td>0.53</td>\n",
       "      <td>0.55</td>\n",
       "      <td>0.34</td>\n",
       "      <td>0.31</td>\n",
       "      <td>0.23</td>\n",
       "    </tr>\n",
       "    <tr>\n",
       "      <th>3</th>\n",
       "      <td>id_0</td>\n",
       "      <td>NMHC</td>\n",
       "      <td>0.16</td>\n",
       "      <td>0.24</td>\n",
       "      <td>0.22</td>\n",
       "      <td>0.27</td>\n",
       "      <td>0.27</td>\n",
       "      <td>0.26</td>\n",
       "      <td>0.27</td>\n",
       "      <td>0.29</td>\n",
       "      <td>0.1</td>\n",
       "    </tr>\n",
       "    <tr>\n",
       "      <th>4</th>\n",
       "      <td>id_0</td>\n",
       "      <td>NO</td>\n",
       "      <td>1.3</td>\n",
       "      <td>1.3</td>\n",
       "      <td>1.3</td>\n",
       "      <td>1.3</td>\n",
       "      <td>1.4</td>\n",
       "      <td>1.6</td>\n",
       "      <td>1.2</td>\n",
       "      <td>1.1</td>\n",
       "      <td>0.9</td>\n",
       "    </tr>\n",
       "  </tbody>\n",
       "</table>\n",
       "</div>"
      ],
      "text/plain": [
       "     0         1     2     3     4     5     6     7     8     9     10\n",
       "0  id_0  AMB_TEMP    21    21    20    20    19    19    19    18    17\n",
       "1  id_0       CH4   1.7   1.7   1.7   1.7   1.7   1.7   1.7   1.7   1.8\n",
       "2  id_0        CO  0.39  0.36  0.36   0.4  0.53  0.55  0.34  0.31  0.23\n",
       "3  id_0      NMHC  0.16  0.24  0.22  0.27  0.27  0.26  0.27  0.29   0.1\n",
       "4  id_0        NO   1.3   1.3   1.3   1.3   1.4   1.6   1.2   1.1   0.9"
      ]
     },
     "execution_count": 4,
     "metadata": {},
     "output_type": "execute_result"
    }
   ],
   "source": [
    "test_data.head()"
   ]
  },
  {
   "cell_type": "code",
   "execution_count": 5,
   "metadata": {
    "ExecuteTime": {
     "end_time": "2021-10-09T08:40:16.456632Z",
     "start_time": "2021-10-09T08:40:16.443631Z"
    }
   },
   "outputs": [
    {
     "name": "stdout",
     "output_type": "stream",
     "text": [
      "(4320, 27)\n",
      "(4320, 11)\n"
     ]
    }
   ],
   "source": [
    "print(train_data.shape)\n",
    "print(test_data.shape)"
   ]
  },
  {
   "cell_type": "code",
   "execution_count": 6,
   "metadata": {
    "ExecuteTime": {
     "end_time": "2021-10-09T08:40:17.114670Z",
     "start_time": "2021-10-09T08:40:17.106669Z"
    },
    "collapsed": true
   },
   "outputs": [],
   "source": [
    "data=train_data.iloc[:,3:]"
   ]
  },
  {
   "cell_type": "code",
   "execution_count": 7,
   "metadata": {
    "ExecuteTime": {
     "end_time": "2021-10-09T08:40:18.749763Z",
     "start_time": "2021-10-09T08:40:18.714761Z"
    },
    "collapsed": true
   },
   "outputs": [],
   "source": [
    "data=data.replace('NR',0)"
   ]
  },
  {
   "cell_type": "code",
   "execution_count": 8,
   "metadata": {
    "ExecuteTime": {
     "end_time": "2021-10-09T08:40:19.195789Z",
     "start_time": "2021-10-09T08:40:19.186788Z"
    },
    "collapsed": true
   },
   "outputs": [],
   "source": [
    "raw_data=np.array(data.values)"
   ]
  },
  {
   "cell_type": "code",
   "execution_count": 9,
   "metadata": {
    "ExecuteTime": {
     "end_time": "2021-10-09T08:40:19.633814Z",
     "start_time": "2021-10-09T08:40:19.624813Z"
    }
   },
   "outputs": [
    {
     "data": {
      "text/plain": [
       "(4320, 24)"
      ]
     },
     "execution_count": 9,
     "metadata": {},
     "output_type": "execute_result"
    }
   ],
   "source": [
    "raw_data.shape"
   ]
  },
  {
   "cell_type": "code",
   "execution_count": 10,
   "metadata": {
    "ExecuteTime": {
     "end_time": "2021-10-09T08:40:20.177845Z",
     "start_time": "2021-10-09T08:40:20.167844Z"
    }
   },
   "outputs": [
    {
     "data": {
      "text/plain": [
       "432"
      ]
     },
     "execution_count": 10,
     "metadata": {},
     "output_type": "execute_result"
    }
   ],
   "source": [
    "18*24"
   ]
  },
  {
   "cell_type": "code",
   "execution_count": 11,
   "metadata": {
    "ExecuteTime": {
     "end_time": "2021-10-09T08:40:21.339912Z",
     "start_time": "2021-10-09T08:40:21.330911Z"
    },
    "collapsed": true
   },
   "outputs": [],
   "source": [
    "# month_data = {}\n",
    "# for month in range(12):\n",
    "#     sample = np.empty([18, 480])\n",
    "#     for day in range(20):\n",
    "#         sample[:,day * 24:(day + 1) * 24] = raw_data[18 * (20 * month + day):18 *\n",
    "#                                                    (20 * month + day + 1), :]\n",
    "#     month_data[month]=sample"
   ]
  },
  {
   "cell_type": "markdown",
   "metadata": {},
   "source": [
    "每小时18个特征,每天20小时,每个月20天"
   ]
  },
  {
   "cell_type": "code",
   "execution_count": 12,
   "metadata": {
    "ExecuteTime": {
     "end_time": "2021-10-09T08:40:23.827054Z",
     "start_time": "2021-10-09T08:40:23.778051Z"
    },
    "collapsed": true
   },
   "outputs": [],
   "source": [
    "month_day={}\n",
    "for m in range(12):\n",
    "    sample=np.empty([18,480])\n",
    "    for d in range(20):\n",
    "        sample[:,d*24:(d+1)*24]=raw_data[18*(20*m+d):18*(20*m+d+1),:]\n",
    "    month_day[m]=sample"
   ]
  },
  {
   "cell_type": "markdown",
   "metadata": {},
   "source": [
    "   每个月共480(20天 * 24小时)小时数据,由于最终目的是根据前9小时的数据预测第10小时的PM2.5\n",
    "   故共480-9=471组数据/每个月,每组 18(特征数)*9小时=162个"
   ]
  },
  {
   "cell_type": "code",
   "execution_count": 13,
   "metadata": {
    "ExecuteTime": {
     "end_time": "2021-10-09T08:40:25.788166Z",
     "start_time": "2021-10-09T08:40:25.778165Z"
    },
    "collapsed": true
   },
   "outputs": [],
   "source": [
    "x=np.empty([12 * 471,18*9],dtype=float)\n",
    "y=np.empty([12 * 471,1],dtype=float)"
   ]
  },
  {
   "cell_type": "code",
   "execution_count": 14,
   "metadata": {
    "ExecuteTime": {
     "end_time": "2021-10-09T08:40:26.558210Z",
     "start_time": "2021-10-09T08:40:26.553210Z"
    },
    "collapsed": true
   },
   "outputs": [],
   "source": [
    "# for month in range(12):\n",
    "#     for idx in range(471):\n",
    "#         x[idx+471*month,:]=month_data[month][:,idx:idx+9].reshape(1,-1)\n",
    "#         y[idx+471*month,:]=month_data[month][9,idx+9]"
   ]
  },
  {
   "cell_type": "code",
   "execution_count": 15,
   "metadata": {
    "ExecuteTime": {
     "end_time": "2021-10-09T08:40:27.315253Z",
     "start_time": "2021-10-09T08:40:27.284252Z"
    },
    "collapsed": true
   },
   "outputs": [],
   "source": [
    "for m in range(12):\n",
    "    for idx in range(471):\n",
    "        x[m*471+idx,:]=month_day[m][:,idx:idx+9].reshape(1,-1)\n",
    "        y[m*471+idx,0]=month_day[m][9,idx+9]"
   ]
  },
  {
   "cell_type": "code",
   "execution_count": 16,
   "metadata": {
    "ExecuteTime": {
     "end_time": "2021-10-09T08:40:28.210304Z",
     "start_time": "2021-10-09T08:40:28.202304Z"
    }
   },
   "outputs": [
    {
     "data": {
      "text/plain": [
       "(5652, 162)"
      ]
     },
     "execution_count": 16,
     "metadata": {},
     "output_type": "execute_result"
    }
   ],
   "source": [
    "x.shape"
   ]
  },
  {
   "cell_type": "code",
   "execution_count": 17,
   "metadata": {
    "ExecuteTime": {
     "end_time": "2021-10-09T08:40:28.877343Z",
     "start_time": "2021-10-09T08:40:28.866342Z"
    }
   },
   "outputs": [
    {
     "data": {
      "text/plain": [
       "(5652, 1)"
      ]
     },
     "execution_count": 17,
     "metadata": {},
     "output_type": "execute_result"
    }
   ],
   "source": [
    "y.shape"
   ]
  },
  {
   "cell_type": "code",
   "execution_count": 18,
   "metadata": {
    "ExecuteTime": {
     "end_time": "2021-10-09T08:40:31.142472Z",
     "start_time": "2021-10-09T08:40:31.130472Z"
    }
   },
   "outputs": [
    {
     "data": {
      "text/plain": [
       "(162,)"
      ]
     },
     "execution_count": 18,
     "metadata": {},
     "output_type": "execute_result"
    }
   ],
   "source": [
    "x.mean(axis=0).shape"
   ]
  },
  {
   "cell_type": "code",
   "execution_count": 19,
   "metadata": {
    "ExecuteTime": {
     "end_time": "2021-10-09T08:40:32.102527Z",
     "start_time": "2021-10-09T08:40:32.050524Z"
    }
   },
   "outputs": [
    {
     "data": {
      "text/html": [
       "<div>\n",
       "<style>\n",
       "    .dataframe thead tr:only-child th {\n",
       "        text-align: right;\n",
       "    }\n",
       "\n",
       "    .dataframe thead th {\n",
       "        text-align: left;\n",
       "    }\n",
       "\n",
       "    .dataframe tbody tr th {\n",
       "        vertical-align: top;\n",
       "    }\n",
       "</style>\n",
       "<table border=\"1\" class=\"dataframe\">\n",
       "  <thead>\n",
       "    <tr style=\"text-align: right;\">\n",
       "      <th></th>\n",
       "      <th>0</th>\n",
       "      <th>1</th>\n",
       "      <th>2</th>\n",
       "      <th>3</th>\n",
       "      <th>4</th>\n",
       "      <th>5</th>\n",
       "      <th>6</th>\n",
       "      <th>7</th>\n",
       "      <th>8</th>\n",
       "      <th>9</th>\n",
       "      <th>...</th>\n",
       "      <th>152</th>\n",
       "      <th>153</th>\n",
       "      <th>154</th>\n",
       "      <th>155</th>\n",
       "      <th>156</th>\n",
       "      <th>157</th>\n",
       "      <th>158</th>\n",
       "      <th>159</th>\n",
       "      <th>160</th>\n",
       "      <th>161</th>\n",
       "    </tr>\n",
       "  </thead>\n",
       "  <tbody>\n",
       "    <tr>\n",
       "      <th>0</th>\n",
       "      <td>14.0</td>\n",
       "      <td>14.0</td>\n",
       "      <td>14.0</td>\n",
       "      <td>13.0</td>\n",
       "      <td>12.0</td>\n",
       "      <td>12.0</td>\n",
       "      <td>12.0</td>\n",
       "      <td>12.0</td>\n",
       "      <td>15.0</td>\n",
       "      <td>1.8</td>\n",
       "      <td>...</td>\n",
       "      <td>0.6</td>\n",
       "      <td>0.5</td>\n",
       "      <td>0.9</td>\n",
       "      <td>0.6</td>\n",
       "      <td>0.3</td>\n",
       "      <td>0.6</td>\n",
       "      <td>1.9</td>\n",
       "      <td>2.0</td>\n",
       "      <td>2.0</td>\n",
       "      <td>0.5</td>\n",
       "    </tr>\n",
       "    <tr>\n",
       "      <th>1</th>\n",
       "      <td>14.0</td>\n",
       "      <td>14.0</td>\n",
       "      <td>13.0</td>\n",
       "      <td>12.0</td>\n",
       "      <td>12.0</td>\n",
       "      <td>12.0</td>\n",
       "      <td>12.0</td>\n",
       "      <td>15.0</td>\n",
       "      <td>17.0</td>\n",
       "      <td>1.8</td>\n",
       "      <td>...</td>\n",
       "      <td>0.8</td>\n",
       "      <td>0.9</td>\n",
       "      <td>0.6</td>\n",
       "      <td>0.3</td>\n",
       "      <td>0.6</td>\n",
       "      <td>1.9</td>\n",
       "      <td>2.0</td>\n",
       "      <td>2.0</td>\n",
       "      <td>0.5</td>\n",
       "      <td>0.3</td>\n",
       "    </tr>\n",
       "    <tr>\n",
       "      <th>2</th>\n",
       "      <td>14.0</td>\n",
       "      <td>13.0</td>\n",
       "      <td>12.0</td>\n",
       "      <td>12.0</td>\n",
       "      <td>12.0</td>\n",
       "      <td>12.0</td>\n",
       "      <td>15.0</td>\n",
       "      <td>17.0</td>\n",
       "      <td>20.0</td>\n",
       "      <td>1.8</td>\n",
       "      <td>...</td>\n",
       "      <td>1.6</td>\n",
       "      <td>0.6</td>\n",
       "      <td>0.3</td>\n",
       "      <td>0.6</td>\n",
       "      <td>1.9</td>\n",
       "      <td>2.0</td>\n",
       "      <td>2.0</td>\n",
       "      <td>0.5</td>\n",
       "      <td>0.3</td>\n",
       "      <td>0.8</td>\n",
       "    </tr>\n",
       "    <tr>\n",
       "      <th>3</th>\n",
       "      <td>13.0</td>\n",
       "      <td>12.0</td>\n",
       "      <td>12.0</td>\n",
       "      <td>12.0</td>\n",
       "      <td>12.0</td>\n",
       "      <td>15.0</td>\n",
       "      <td>17.0</td>\n",
       "      <td>20.0</td>\n",
       "      <td>22.0</td>\n",
       "      <td>1.8</td>\n",
       "      <td>...</td>\n",
       "      <td>1.9</td>\n",
       "      <td>0.3</td>\n",
       "      <td>0.6</td>\n",
       "      <td>1.9</td>\n",
       "      <td>2.0</td>\n",
       "      <td>2.0</td>\n",
       "      <td>0.5</td>\n",
       "      <td>0.3</td>\n",
       "      <td>0.8</td>\n",
       "      <td>1.2</td>\n",
       "    </tr>\n",
       "    <tr>\n",
       "      <th>4</th>\n",
       "      <td>12.0</td>\n",
       "      <td>12.0</td>\n",
       "      <td>12.0</td>\n",
       "      <td>12.0</td>\n",
       "      <td>15.0</td>\n",
       "      <td>17.0</td>\n",
       "      <td>20.0</td>\n",
       "      <td>22.0</td>\n",
       "      <td>22.0</td>\n",
       "      <td>1.8</td>\n",
       "      <td>...</td>\n",
       "      <td>2.1</td>\n",
       "      <td>0.6</td>\n",
       "      <td>1.9</td>\n",
       "      <td>2.0</td>\n",
       "      <td>2.0</td>\n",
       "      <td>0.5</td>\n",
       "      <td>0.3</td>\n",
       "      <td>0.8</td>\n",
       "      <td>1.2</td>\n",
       "      <td>2.0</td>\n",
       "    </tr>\n",
       "  </tbody>\n",
       "</table>\n",
       "<p>5 rows × 162 columns</p>\n",
       "</div>"
      ],
      "text/plain": [
       "    0     1     2     3     4     5     6     7     8    9   ...   152  153  \\\n",
       "0  14.0  14.0  14.0  13.0  12.0  12.0  12.0  12.0  15.0  1.8 ...   0.6  0.5   \n",
       "1  14.0  14.0  13.0  12.0  12.0  12.0  12.0  15.0  17.0  1.8 ...   0.8  0.9   \n",
       "2  14.0  13.0  12.0  12.0  12.0  12.0  15.0  17.0  20.0  1.8 ...   1.6  0.6   \n",
       "3  13.0  12.0  12.0  12.0  12.0  15.0  17.0  20.0  22.0  1.8 ...   1.9  0.3   \n",
       "4  12.0  12.0  12.0  12.0  15.0  17.0  20.0  22.0  22.0  1.8 ...   2.1  0.6   \n",
       "\n",
       "   154  155  156  157  158  159  160  161  \n",
       "0  0.9  0.6  0.3  0.6  1.9  2.0  2.0  0.5  \n",
       "1  0.6  0.3  0.6  1.9  2.0  2.0  0.5  0.3  \n",
       "2  0.3  0.6  1.9  2.0  2.0  0.5  0.3  0.8  \n",
       "3  0.6  1.9  2.0  2.0  0.5  0.3  0.8  1.2  \n",
       "4  1.9  2.0  2.0  0.5  0.3  0.8  1.2  2.0  \n",
       "\n",
       "[5 rows x 162 columns]"
      ]
     },
     "execution_count": 19,
     "metadata": {},
     "output_type": "execute_result"
    }
   ],
   "source": [
    "x1=pd.DataFrame(x)\n",
    "x1.head()"
   ]
  },
  {
   "cell_type": "code",
   "execution_count": 20,
   "metadata": {
    "ExecuteTime": {
     "end_time": "2021-10-09T08:40:33.377600Z",
     "start_time": "2021-10-09T08:40:33.234592Z"
    }
   },
   "outputs": [
    {
     "data": {
      "text/html": [
       "<div>\n",
       "<style>\n",
       "    .dataframe thead tr:only-child th {\n",
       "        text-align: right;\n",
       "    }\n",
       "\n",
       "    .dataframe thead th {\n",
       "        text-align: left;\n",
       "    }\n",
       "\n",
       "    .dataframe tbody tr th {\n",
       "        vertical-align: top;\n",
       "    }\n",
       "</style>\n",
       "<table border=\"1\" class=\"dataframe\">\n",
       "  <thead>\n",
       "    <tr style=\"text-align: right;\">\n",
       "      <th></th>\n",
       "      <th>0</th>\n",
       "      <th>1</th>\n",
       "      <th>2</th>\n",
       "      <th>3</th>\n",
       "      <th>4</th>\n",
       "      <th>5</th>\n",
       "      <th>6</th>\n",
       "      <th>7</th>\n",
       "      <th>8</th>\n",
       "      <th>9</th>\n",
       "      <th>...</th>\n",
       "      <th>152</th>\n",
       "      <th>153</th>\n",
       "      <th>154</th>\n",
       "      <th>155</th>\n",
       "      <th>156</th>\n",
       "      <th>157</th>\n",
       "      <th>158</th>\n",
       "      <th>159</th>\n",
       "      <th>160</th>\n",
       "      <th>161</th>\n",
       "    </tr>\n",
       "  </thead>\n",
       "  <tbody>\n",
       "    <tr>\n",
       "      <th>0</th>\n",
       "      <td>-1.358133</td>\n",
       "      <td>-1.358719</td>\n",
       "      <td>-1.359102</td>\n",
       "      <td>-1.517992</td>\n",
       "      <td>-1.676543</td>\n",
       "      <td>-1.675830</td>\n",
       "      <td>-1.675028</td>\n",
       "      <td>-1.674061</td>\n",
       "      <td>-1.197040</td>\n",
       "      <td>0.775375</td>\n",
       "      <td>...</td>\n",
       "      <td>-1.598482</td>\n",
       "      <td>-1.138872</td>\n",
       "      <td>-0.764102</td>\n",
       "      <td>-1.044615</td>\n",
       "      <td>-1.324452</td>\n",
       "      <td>-1.043850</td>\n",
       "      <td>0.173173</td>\n",
       "      <td>0.266484</td>\n",
       "      <td>0.265656</td>\n",
       "      <td>-1.140720</td>\n",
       "    </tr>\n",
       "    <tr>\n",
       "      <th>1</th>\n",
       "      <td>-1.358133</td>\n",
       "      <td>-1.358719</td>\n",
       "      <td>-1.518065</td>\n",
       "      <td>-1.676883</td>\n",
       "      <td>-1.676543</td>\n",
       "      <td>-1.675830</td>\n",
       "      <td>-1.675028</td>\n",
       "      <td>-1.198262</td>\n",
       "      <td>-0.880015</td>\n",
       "      <td>0.775375</td>\n",
       "      <td>...</td>\n",
       "      <td>-1.411100</td>\n",
       "      <td>-0.763602</td>\n",
       "      <td>-1.045549</td>\n",
       "      <td>-1.325864</td>\n",
       "      <td>-1.043502</td>\n",
       "      <td>0.173616</td>\n",
       "      <td>0.266881</td>\n",
       "      <td>0.266484</td>\n",
       "      <td>-1.139531</td>\n",
       "      <td>-1.328212</td>\n",
       "    </tr>\n",
       "    <tr>\n",
       "      <th>2</th>\n",
       "      <td>-1.358133</td>\n",
       "      <td>-1.517759</td>\n",
       "      <td>-1.677028</td>\n",
       "      <td>-1.676883</td>\n",
       "      <td>-1.676543</td>\n",
       "      <td>-1.675830</td>\n",
       "      <td>-1.198999</td>\n",
       "      <td>-0.881062</td>\n",
       "      <td>-0.404478</td>\n",
       "      <td>0.775375</td>\n",
       "      <td>...</td>\n",
       "      <td>-0.661572</td>\n",
       "      <td>-1.045054</td>\n",
       "      <td>-1.326996</td>\n",
       "      <td>-1.044615</td>\n",
       "      <td>0.173945</td>\n",
       "      <td>0.267267</td>\n",
       "      <td>0.266881</td>\n",
       "      <td>-1.139134</td>\n",
       "      <td>-1.326889</td>\n",
       "      <td>-0.859484</td>\n",
       "    </tr>\n",
       "    <tr>\n",
       "      <th>3</th>\n",
       "      <td>-1.517230</td>\n",
       "      <td>-1.676800</td>\n",
       "      <td>-1.677028</td>\n",
       "      <td>-1.676883</td>\n",
       "      <td>-1.676543</td>\n",
       "      <td>-1.199572</td>\n",
       "      <td>-0.881646</td>\n",
       "      <td>-0.405263</td>\n",
       "      <td>-0.087454</td>\n",
       "      <td>0.775375</td>\n",
       "      <td>...</td>\n",
       "      <td>-0.380499</td>\n",
       "      <td>-1.326506</td>\n",
       "      <td>-1.045549</td>\n",
       "      <td>0.174130</td>\n",
       "      <td>0.267594</td>\n",
       "      <td>0.267267</td>\n",
       "      <td>-1.138731</td>\n",
       "      <td>-1.326549</td>\n",
       "      <td>-0.858493</td>\n",
       "      <td>-0.484501</td>\n",
       "    </tr>\n",
       "    <tr>\n",
       "      <th>4</th>\n",
       "      <td>-1.676327</td>\n",
       "      <td>-1.676800</td>\n",
       "      <td>-1.677028</td>\n",
       "      <td>-1.676883</td>\n",
       "      <td>-1.200071</td>\n",
       "      <td>-0.882066</td>\n",
       "      <td>-0.405616</td>\n",
       "      <td>-0.088063</td>\n",
       "      <td>-0.087454</td>\n",
       "      <td>0.775375</td>\n",
       "      <td>...</td>\n",
       "      <td>-0.193117</td>\n",
       "      <td>-1.045054</td>\n",
       "      <td>0.174053</td>\n",
       "      <td>0.267880</td>\n",
       "      <td>0.267594</td>\n",
       "      <td>-1.137501</td>\n",
       "      <td>-1.326146</td>\n",
       "      <td>-0.858010</td>\n",
       "      <td>-0.483777</td>\n",
       "      <td>0.265463</td>\n",
       "    </tr>\n",
       "  </tbody>\n",
       "</table>\n",
       "<p>5 rows × 162 columns</p>\n",
       "</div>"
      ],
      "text/plain": [
       "        0         1         2         3         4         5         6    \\\n",
       "0 -1.358133 -1.358719 -1.359102 -1.517992 -1.676543 -1.675830 -1.675028   \n",
       "1 -1.358133 -1.358719 -1.518065 -1.676883 -1.676543 -1.675830 -1.675028   \n",
       "2 -1.358133 -1.517759 -1.677028 -1.676883 -1.676543 -1.675830 -1.198999   \n",
       "3 -1.517230 -1.676800 -1.677028 -1.676883 -1.676543 -1.199572 -0.881646   \n",
       "4 -1.676327 -1.676800 -1.677028 -1.676883 -1.200071 -0.882066 -0.405616   \n",
       "\n",
       "        7         8         9      ...          152       153       154  \\\n",
       "0 -1.674061 -1.197040  0.775375    ...    -1.598482 -1.138872 -0.764102   \n",
       "1 -1.198262 -0.880015  0.775375    ...    -1.411100 -0.763602 -1.045549   \n",
       "2 -0.881062 -0.404478  0.775375    ...    -0.661572 -1.045054 -1.326996   \n",
       "3 -0.405263 -0.087454  0.775375    ...    -0.380499 -1.326506 -1.045549   \n",
       "4 -0.088063 -0.087454  0.775375    ...    -0.193117 -1.045054  0.174053   \n",
       "\n",
       "        155       156       157       158       159       160       161  \n",
       "0 -1.044615 -1.324452 -1.043850  0.173173  0.266484  0.265656 -1.140720  \n",
       "1 -1.325864 -1.043502  0.173616  0.266881  0.266484 -1.139531 -1.328212  \n",
       "2 -1.044615  0.173945  0.267267  0.266881 -1.139134 -1.326889 -0.859484  \n",
       "3  0.174130  0.267594  0.267267 -1.138731 -1.326549 -0.858493 -0.484501  \n",
       "4  0.267880  0.267594 -1.137501 -1.326146 -0.858010 -0.483777  0.265463  \n",
       "\n",
       "[5 rows x 162 columns]"
      ]
     },
     "execution_count": 20,
     "metadata": {},
     "output_type": "execute_result"
    }
   ],
   "source": [
    "x1=x1.apply(lambda x: (x-x.mean())/x.std())\n",
    "y1=y\n",
    "x1.head()"
   ]
  },
  {
   "cell_type": "code",
   "execution_count": 21,
   "metadata": {
    "ExecuteTime": {
     "end_time": "2021-10-09T08:40:36.136758Z",
     "start_time": "2021-10-09T08:40:36.132758Z"
    },
    "collapsed": true
   },
   "outputs": [],
   "source": [
    "def lin_reg(x,w,b):\n",
    "    return torch.mm(x,w)+b"
   ]
  },
  {
   "cell_type": "code",
   "execution_count": 22,
   "metadata": {
    "ExecuteTime": {
     "end_time": "2021-10-09T08:40:39.834969Z",
     "start_time": "2021-10-09T08:40:39.825969Z"
    },
    "collapsed": true
   },
   "outputs": [],
   "source": [
    "def squared_loss(y_hat,y):\n",
    "    return (y_hat-y.view(y_hat.size()))**2"
   ]
  },
  {
   "cell_type": "code",
   "execution_count": 23,
   "metadata": {
    "ExecuteTime": {
     "end_time": "2021-10-09T08:40:40.445004Z",
     "start_time": "2021-10-09T08:40:40.434004Z"
    },
    "collapsed": true
   },
   "outputs": [],
   "source": [
    "def sgd(params,lr,batch_size):\n",
    "    for p in params:\n",
    "        p.data -= lr * p.grad/batch_size"
   ]
  },
  {
   "cell_type": "code",
   "execution_count": 25,
   "metadata": {
    "ExecuteTime": {
     "end_time": "2021-10-09T08:41:06.257481Z",
     "start_time": "2021-10-09T08:41:06.234479Z"
    }
   },
   "outputs": [],
   "source": [
    "features=torch.Tensor(x1.values)\n",
    "labels=torch.Tensor(y1)"
   ]
  },
  {
   "cell_type": "code",
   "execution_count": 27,
   "metadata": {
    "ExecuteTime": {
     "end_time": "2021-10-09T08:41:19.012210Z",
     "start_time": "2021-10-09T08:41:19.005210Z"
    }
   },
   "outputs": [],
   "source": [
    "# dataset=torch.utils.data.TensorDataset(features,labels)\n",
    "# data_iter=torch.utils.data.DataLoader(dataset,batch_size=128,shuffle=True)\n",
    "# for xx,yy in data_iter:\n",
    "#     print(xx.shape)"
   ]
  },
  {
   "cell_type": "code",
   "execution_count": 42,
   "metadata": {
    "ExecuteTime": {
     "end_time": "2021-10-09T09:31:24.718127Z",
     "start_time": "2021-10-09T09:09:48.856008Z"
    }
   },
   "outputs": [
    {
     "name": "stdout",
     "output_type": "stream",
     "text": [
      "loss: 568.69384765625\n",
      "loss: 34.54467010498047\n",
      "loss: 33.081947326660156\n",
      "loss: 32.62842559814453\n",
      "loss: 32.451683044433594\n",
      "loss: 32.376220703125\n",
      "loss: 32.34162139892578\n",
      "loss: 32.324485778808594\n",
      "loss: 32.312744140625\n",
      "loss: 32.305931091308594\n",
      "loss: 32.30112838745117\n",
      "loss: 32.297061920166016\n",
      "loss: 32.29491424560547\n",
      "loss: 32.2911262512207\n",
      "loss: 32.288108825683594\n",
      "loss: 32.286102294921875\n",
      "loss: 32.28438949584961\n",
      "loss: 32.28374481201172\n",
      "loss: 32.280982971191406\n",
      "loss: 32.27942657470703\n",
      "loss: 32.27897644042969\n",
      "loss: 32.277523040771484\n"
     ]
    },
    {
     "ename": "KeyboardInterrupt",
     "evalue": "",
     "output_type": "error",
     "traceback": [
      "\u001b[1;31m---------------------------------------------------------------------------\u001b[0m",
      "\u001b[1;31mKeyboardInterrupt\u001b[0m                         Traceback (most recent call last)",
      "\u001b[1;32m<ipython-input-42-d157a780eba9>\u001b[0m in \u001b[0;36m<module>\u001b[1;34m()\u001b[0m\n\u001b[0;32m     10\u001b[0m \u001b[1;32mfor\u001b[0m \u001b[0me\u001b[0m \u001b[1;32min\u001b[0m \u001b[0mrange\u001b[0m\u001b[1;33m(\u001b[0m\u001b[0mnum_epochs\u001b[0m\u001b[1;33m)\u001b[0m\u001b[1;33m:\u001b[0m\u001b[1;33m\u001b[0m\u001b[0m\n\u001b[0;32m     11\u001b[0m     \u001b[1;32mfor\u001b[0m \u001b[0mx\u001b[0m\u001b[1;33m,\u001b[0m\u001b[0my\u001b[0m \u001b[1;32min\u001b[0m \u001b[0mdata_iter\u001b[0m\u001b[1;33m:\u001b[0m\u001b[1;33m\u001b[0m\u001b[0m\n\u001b[1;32m---> 12\u001b[1;33m         \u001b[0ml\u001b[0m\u001b[1;33m=\u001b[0m\u001b[0msquared_loss\u001b[0m\u001b[1;33m(\u001b[0m\u001b[0mlin_reg\u001b[0m\u001b[1;33m(\u001b[0m\u001b[0mx\u001b[0m\u001b[1;33m,\u001b[0m\u001b[0mw\u001b[0m\u001b[1;33m,\u001b[0m\u001b[0mb\u001b[0m\u001b[1;33m)\u001b[0m\u001b[1;33m,\u001b[0m\u001b[0my\u001b[0m\u001b[1;33m)\u001b[0m\u001b[1;33m.\u001b[0m\u001b[0mmean\u001b[0m\u001b[1;33m(\u001b[0m\u001b[1;33m)\u001b[0m\u001b[1;33m\u001b[0m\u001b[0m\n\u001b[0m\u001b[0;32m     13\u001b[0m         \u001b[1;32mif\u001b[0m \u001b[0mw\u001b[0m\u001b[1;33m.\u001b[0m\u001b[0mgrad\u001b[0m \u001b[1;32mis\u001b[0m \u001b[1;32mnot\u001b[0m \u001b[1;32mNone\u001b[0m\u001b[1;33m:\u001b[0m\u001b[1;33m\u001b[0m\u001b[0m\n\u001b[0;32m     14\u001b[0m             \u001b[0mw\u001b[0m\u001b[1;33m.\u001b[0m\u001b[0mgrad\u001b[0m\u001b[1;33m.\u001b[0m\u001b[0mdata\u001b[0m\u001b[1;33m.\u001b[0m\u001b[0mzero_\u001b[0m\u001b[1;33m(\u001b[0m\u001b[1;33m)\u001b[0m\u001b[1;33m\u001b[0m\u001b[0m\n",
      "\u001b[1;32m<ipython-input-21-f38011747dd3>\u001b[0m in \u001b[0;36mlin_reg\u001b[1;34m(x, w, b)\u001b[0m\n\u001b[0;32m      1\u001b[0m \u001b[1;32mdef\u001b[0m \u001b[0mlin_reg\u001b[0m\u001b[1;33m(\u001b[0m\u001b[0mx\u001b[0m\u001b[1;33m,\u001b[0m\u001b[0mw\u001b[0m\u001b[1;33m,\u001b[0m\u001b[0mb\u001b[0m\u001b[1;33m)\u001b[0m\u001b[1;33m:\u001b[0m\u001b[1;33m\u001b[0m\u001b[0m\n\u001b[1;32m----> 2\u001b[1;33m     \u001b[1;32mreturn\u001b[0m \u001b[0mtorch\u001b[0m\u001b[1;33m.\u001b[0m\u001b[0mmm\u001b[0m\u001b[1;33m(\u001b[0m\u001b[0mx\u001b[0m\u001b[1;33m,\u001b[0m\u001b[0mw\u001b[0m\u001b[1;33m)\u001b[0m\u001b[1;33m+\u001b[0m\u001b[0mb\u001b[0m\u001b[1;33m\u001b[0m\u001b[0m\n\u001b[0m",
      "\u001b[1;31mKeyboardInterrupt\u001b[0m: "
     ]
    }
   ],
   "source": [
    "lr=0.03\n",
    "batch_size=128\n",
    "num_epochs=100000\n",
    "dataset=torch.utils.data.TensorDataset(features,labels)\n",
    "data_iter=torch.utils.data.DataLoader(dataset,batch_size=batch_size,shuffle=True)\n",
    "w=torch.Tensor(np.random.normal(0,0.01,(features.shape[1],1)))\n",
    "b=torch.Tensor([1.])\n",
    "for p in [w,b]:\n",
    "    p.requires_grad_(requires_grad=True)\n",
    "for e in range(num_epochs):\n",
    "    for x,y in data_iter:\n",
    "        l=squared_loss(lin_reg(x,w,b),y).mean()\n",
    "        if w.grad is not None:\n",
    "            w.grad.data.zero_()\n",
    "            b.grad.data.zero_()\n",
    "        l.backward()\n",
    "        sgd([w,b],lr,batch_size)\n",
    "#     if e+1 % 10 ==0:\n",
    "#         print('loss ',l.item())\n",
    "#     print('epoch :',e)\n",
    "    if e % 1000 ==0:\n",
    "        print('loss:',squared_loss(lin_reg(features,w,b),labels).mean().item())"
   ]
  },
  {
   "cell_type": "code",
   "execution_count": 59,
   "metadata": {
    "ExecuteTime": {
     "end_time": "2021-10-09T09:59:52.179788Z",
     "start_time": "2021-10-09T09:59:52.118784Z"
    },
    "collapsed": true
   },
   "outputs": [],
   "source": [
    "def train_hand(num_epochs,x_train,y_train,x_test,y_test,lr,batch_size):\n",
    "    train_l,test_l=[],[]\n",
    "    for e in range(num_epochs):\n",
    "        dataset=torch.utils.data.TensorDataset(x_train,y_train)\n",
    "        data_iter=torch.utils.data.DataLoader(dataset,batch_size=batch_size,shuffle=True)\n",
    "        for x,y in data_iter:\n",
    "            l=squared_loss(lin_reg(x,w,b),y).mean()\n",
    "            if w.grad is not None:\n",
    "                w.grad.data.zero_()\n",
    "                b.grad.data.zero_()\n",
    "            l.backward()\n",
    "            sgd([w,b],lr,batch_size)\n",
    "    #     if e+1 % 10 ==0:\n",
    "    #         print('loss ',l.item())\n",
    "    #     print('epoch :',e)\n",
    "        if (e+1) % 100 ==0:\n",
    "#             print('train loss:',squared_loss(lin_reg(x_train,w,b),y_train).mean().item())\n",
    "            train_l.append(squared_loss(lin_reg(x_train,w,b),y_train).mean().item())\n",
    "            if x_test is not None:\n",
    "#                 print('test loss : ',squared_loss(lin_reg(x_test,w,b),y_test).mean().item())\n",
    "                test_l.append(squared_loss(lin_reg(x_test,w,b),y_test).mean().item())\n",
    "    return train_l,test_l\n",
    "        \n",
    "    "
   ]
  },
  {
   "cell_type": "code",
   "execution_count": 57,
   "metadata": {
    "ExecuteTime": {
     "end_time": "2021-10-09T09:54:31.792463Z",
     "start_time": "2021-10-09T09:53:33.863149Z"
    }
   },
   "outputs": [
    {
     "name": "stdout",
     "output_type": "stream",
     "text": [
      "train loss: 32.27676010131836\n"
     ]
    }
   ],
   "source": [
    "train_hand(1000,features,labels,None,None,0.03,128)"
   ]
  },
  {
   "cell_type": "code",
   "execution_count": 52,
   "metadata": {
    "ExecuteTime": {
     "end_time": "2021-10-09T09:47:52.948650Z",
     "start_time": "2021-10-09T09:47:52.914648Z"
    },
    "collapsed": true
   },
   "outputs": [],
   "source": [
    "def get_kfold_data(k,j,xdata,ydata):\n",
    "    fold_size=xdata.shape[0]//k\n",
    "#     print('fold size :',fold_size)\n",
    "    xtrain,ytrain=None,None\n",
    "    for i in range(k):\n",
    "#         xtrain,ytrain=None,None\n",
    "        xpart=xdata[i*fold_size:(i+1)*fold_size,:]\n",
    "        ypart=ydata[i*fold_size:(i+1)*fold_size,:]\n",
    "        if j==i:\n",
    "            xval,yval=xpart,ypart\n",
    "        elif xtrain is None:\n",
    "            xtrain,ytrain=xpart,ypart\n",
    "        else:\n",
    "            xtrain=torch.cat((xtrain,xpart))\n",
    "            ytrain=torch.cat((ytrain,ypart))\n",
    "    return xtrain,ytrain,xval,yval\n",
    "        \n",
    "        "
   ]
  },
  {
   "cell_type": "code",
   "execution_count": 53,
   "metadata": {
    "ExecuteTime": {
     "end_time": "2021-10-09T09:47:54.647747Z",
     "start_time": "2021-10-09T09:47:54.632747Z"
    }
   },
   "outputs": [],
   "source": [
    "data=get_kfold_data(5,1,features,labels)"
   ]
  },
  {
   "cell_type": "code",
   "execution_count": 54,
   "metadata": {
    "ExecuteTime": {
     "end_time": "2021-10-09T09:48:01.842159Z",
     "start_time": "2021-10-09T09:48:01.830158Z"
    }
   },
   "outputs": [
    {
     "data": {
      "text/plain": [
       "torch.Size([4520, 162])"
      ]
     },
     "execution_count": 54,
     "metadata": {},
     "output_type": "execute_result"
    }
   ],
   "source": [
    "data[0].shape"
   ]
  },
  {
   "cell_type": "code",
   "execution_count": 56,
   "metadata": {
    "ExecuteTime": {
     "end_time": "2021-10-09T09:48:32.918936Z",
     "start_time": "2021-10-09T09:48:32.910936Z"
    }
   },
   "outputs": [
    {
     "data": {
      "text/plain": [
       "torch.Size([1130, 162])"
      ]
     },
     "execution_count": 56,
     "metadata": {},
     "output_type": "execute_result"
    }
   ],
   "source": [
    "data[2].shape"
   ]
  },
  {
   "cell_type": "code",
   "execution_count": 64,
   "metadata": {
    "ExecuteTime": {
     "end_time": "2021-10-09T10:04:11.797637Z",
     "start_time": "2021-10-09T10:04:11.777636Z"
    }
   },
   "outputs": [],
   "source": [
    "def train_kfold(num_epochs,k,features,labels,lr,batch_size):\n",
    "    train_l,test_l=None,None\n",
    "    for j in range(k):\n",
    "        data=get_kfold_data(k,j,features,labels)\n",
    "        train_l,test_l=train_hand(num_epochs,*data,lr,batch_size)\n",
    "        print('fold %d ,train loss %f,test %f' % (j,np.mean(train_l),np.mean(test_l)))\n",
    "        \n",
    "        "
   ]
  },
  {
   "cell_type": "code",
   "execution_count": 65,
   "metadata": {
    "ExecuteTime": {
     "end_time": "2021-10-09T10:08:56.518922Z",
     "start_time": "2021-10-09T10:05:16.911362Z"
    }
   },
   "outputs": [
    {
     "name": "stdout",
     "output_type": "stream",
     "text": [
      "fold 0 ,train loss 30.911386,test 39.131478\n",
      "fold 1 ,train loss 30.904913,test 39.081165\n",
      "fold 2 ,train loss 30.486874,test 40.606875\n",
      "fold 3 ,train loss 35.223409,test 21.216832\n",
      "fold 4 ,train loss 32.800095,test 31.086601\n"
     ]
    }
   ],
   "source": [
    "lr=0.03\n",
    "batch_size=128\n",
    "num_epochs=1000\n",
    "train_kfold(num_epochs,5,features,labels,lr,batch_size)"
   ]
  },
  {
   "cell_type": "code",
   "execution_count": null,
   "metadata": {
    "collapsed": true
   },
   "outputs": [],
   "source": []
  },
  {
   "cell_type": "code",
   "execution_count": null,
   "metadata": {
    "collapsed": true
   },
   "outputs": [],
   "source": []
  },
  {
   "cell_type": "code",
   "execution_count": null,
   "metadata": {
    "collapsed": true
   },
   "outputs": [],
   "source": []
  },
  {
   "cell_type": "code",
   "execution_count": null,
   "metadata": {
    "collapsed": true
   },
   "outputs": [],
   "source": []
  },
  {
   "cell_type": "code",
   "execution_count": null,
   "metadata": {
    "collapsed": true
   },
   "outputs": [],
   "source": []
  },
  {
   "cell_type": "markdown",
   "metadata": {},
   "source": [
    "## test in nn"
   ]
  },
  {
   "cell_type": "code",
   "execution_count": null,
   "metadata": {
    "ExecuteTime": {
     "end_time": "2021-09-30T09:22:25.564355Z",
     "start_time": "2021-09-30T09:22:25.553354Z"
    },
    "collapsed": true
   },
   "outputs": [],
   "source": [
    "net=nn.Linear(x.shape[1],1)\n",
    "loss=nn.MSELoss()\n",
    "optimizer=optim.SGD(net.parameters(),lr=0.001)"
   ]
  },
  {
   "cell_type": "code",
   "execution_count": null,
   "metadata": {
    "ExecuteTime": {
     "start_time": "2021-09-30T09:38:32.726Z"
    },
    "collapsed": true
   },
   "outputs": [],
   "source": [
    "\n",
    "def train_pytorch(num_epochs,dataset,lr,batch_size):\n",
    "    for e in range(epoch_num):\n",
    "        for x,y in torch.utils.data.DataLoader(dataset,batch_size,shuffle=True):\n",
    "            l=loss(net(x).reshape(-1,1),y).mean()\n",
    "            optimizer.zero_grad()\n",
    "            l.backward()\n",
    "            optimizer.step()\n",
    "        if e%100 ==0:\n",
    "            print(l.item())\n",
    "            \n",
    "        \n",
    "    "
   ]
  },
  {
   "cell_type": "code",
   "execution_count": null,
   "metadata": {
    "ExecuteTime": {
     "start_time": "2021-09-30T09:38:33.373Z"
    },
    "collapsed": true
   },
   "outputs": [],
   "source": [
    "net=nn.Linear(x.shape[1],1)\n",
    "loss=nn.MSELoss()\n",
    "optimizer=optim.SGD(net.parameters(),lr=0.0001)\n",
    "train_pytorch(1000,dataset,0.0001,128)"
   ]
  },
  {
   "cell_type": "code",
   "execution_count": null,
   "metadata": {
    "collapsed": true
   },
   "outputs": [],
   "source": []
  }
 ],
 "metadata": {
  "kernelspec": {
   "display_name": "Python 3",
   "language": "python",
   "name": "python3"
  },
  "language_info": {
   "codemirror_mode": {
    "name": "ipython",
    "version": 3
   },
   "file_extension": ".py",
   "mimetype": "text/x-python",
   "name": "python",
   "nbconvert_exporter": "python",
   "pygments_lexer": "ipython3",
   "version": "3.6.3"
  }
 },
 "nbformat": 4,
 "nbformat_minor": 2
}
