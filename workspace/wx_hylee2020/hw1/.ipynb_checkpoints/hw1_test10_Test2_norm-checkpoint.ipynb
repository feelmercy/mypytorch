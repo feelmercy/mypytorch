{
 "cells": [
  {
   "cell_type": "code",
   "execution_count": 1,
   "metadata": {
    "ExecuteTime": {
     "end_time": "2022-01-13T02:22:17.894383Z",
     "start_time": "2022-01-13T02:22:16.723316Z"
    }
   },
   "outputs": [
    {
     "name": "stdout",
     "output_type": "stream",
     "text": [
      "Using matplotlib backend: Qt5Agg\n"
     ]
    }
   ],
   "source": [
    "import numpy as np\n",
    "import torch \n",
    "import pandas as pd\n",
    "import torchvision\n",
    "from torch import optim,nn\n",
    "import seaborn as sns\n",
    "from scipy import stats\n",
    "from scipy.stats import norm,skew,kurtosis\n",
    "import matplotlib.pyplot as plt\n",
    "%matplotlib auto"
   ]
  },
  {
   "cell_type": "code",
   "execution_count": 2,
   "metadata": {
    "ExecuteTime": {
     "end_time": "2022-01-13T02:22:19.109452Z",
     "start_time": "2022-01-13T02:22:19.029448Z"
    },
    "collapsed": true
   },
   "outputs": [],
   "source": [
    "import numpy as np\n",
    "from collections import Counter\n",
    "\n",
    "def train_data_generation(filename):\n",
    "    train_file = open(filename, encoding= 'iso 8859-15')\n",
    "    train_data_raw = np.loadtxt(train_file, delimiter= ',', dtype = str, skiprows = 1)\n",
    "\n",
    "    n_parameters = 18\n",
    "    n_date = len(Counter(train_data_raw[:, 0]).keys())\n",
    "\n",
    "    train_data_raw[train_data_raw == 'NR'] = 0\n",
    "\n",
    "    train_data_raw = train_data_raw[:, 3:].astype(np.float64)\n",
    "\n",
    "    train_data = train_data_raw[:n_parameters, :]\n",
    "\n",
    "    for i in range(1, n_date):\n",
    "        temp = train_data_raw[(n_parameters * (i - 1)): (n_parameters * i), :]\n",
    "        train_data = np.hstack((train_data, temp))\n",
    "        \n",
    "    orig_data=train_data.copy()\n",
    "    \n",
    "    n_series = 9\n",
    "    target_row = 9\n",
    "\n",
    "    mean_x = np.mean(train_data, axis = 1)\n",
    "    std_x = np.std(train_data, axis = 1)\n",
    "\n",
    "    for i in range(n_parameters):\n",
    "        if std_x[i] != 0:\n",
    "            train_data[i, :] = (train_data[i, :] - mean_x[i])/std_x[i]\n",
    "\n",
    "    final_data = []\n",
    "\n",
    "\n",
    "    for j in range(train_data.shape[1] - n_series):\n",
    "        key = train_data[:, j:j+n_series].reshape(18*9, )\n",
    "        value = train_data[target_row, j+n_series]\n",
    "        final_data.append([key, value])\n",
    "\n",
    "    return orig_data,final_data, [mean_x, std_x]\n"
   ]
  },
  {
   "cell_type": "code",
   "execution_count": 3,
   "metadata": {
    "ExecuteTime": {
     "end_time": "2022-01-13T02:22:20.127510Z",
     "start_time": "2022-01-13T02:22:19.922499Z"
    },
    "collapsed": true
   },
   "outputs": [],
   "source": [
    "train_file = r'F:\\study\\ml\\HonyiLee2020\\hw1\\data\\train.csv'\n",
    "orig_data,train_data, [mean_x, std_x] = train_data_generation(train_file)"
   ]
  },
  {
   "cell_type": "code",
   "execution_count": 4,
   "metadata": {
    "ExecuteTime": {
     "end_time": "2022-01-13T02:22:20.681542Z",
     "start_time": "2022-01-13T02:22:20.666541Z"
    }
   },
   "outputs": [
    {
     "data": {
      "text/plain": [
       "5751"
      ]
     },
     "execution_count": 4,
     "metadata": {},
     "output_type": "execute_result"
    }
   ],
   "source": [
    "len(train_data)"
   ]
  },
  {
   "cell_type": "code",
   "execution_count": 5,
   "metadata": {
    "ExecuteTime": {
     "end_time": "2022-01-13T02:22:21.411584Z",
     "start_time": "2022-01-13T02:22:21.402583Z"
    },
    "collapsed": true
   },
   "outputs": [],
   "source": [
    "x=np.empty((len(train_data),162))\n",
    "y=np.empty((len(train_data),1))"
   ]
  },
  {
   "cell_type": "code",
   "execution_count": 6,
   "metadata": {
    "ExecuteTime": {
     "end_time": "2022-01-13T02:22:22.275633Z",
     "start_time": "2022-01-13T02:22:22.235631Z"
    },
    "collapsed": true
   },
   "outputs": [],
   "source": [
    "for i in range(len(train_data)):\n",
    "    x[i,:]=train_data[i][0].reshape(1,-1)\n",
    "    y[i,:]=train_data[i][1]"
   ]
  },
  {
   "cell_type": "code",
   "execution_count": 7,
   "metadata": {
    "ExecuteTime": {
     "end_time": "2022-01-13T02:22:22.757661Z",
     "start_time": "2022-01-13T02:22:22.746660Z"
    }
   },
   "outputs": [
    {
     "data": {
      "text/plain": [
       "(5751, 162)"
      ]
     },
     "execution_count": 7,
     "metadata": {},
     "output_type": "execute_result"
    }
   ],
   "source": [
    "x.shape"
   ]
  },
  {
   "cell_type": "code",
   "execution_count": 8,
   "metadata": {
    "ExecuteTime": {
     "end_time": "2022-01-13T02:22:23.141683Z",
     "start_time": "2022-01-13T02:22:23.130682Z"
    }
   },
   "outputs": [
    {
     "data": {
      "text/plain": [
       "(5751, 1)"
      ]
     },
     "execution_count": 8,
     "metadata": {},
     "output_type": "execute_result"
    }
   ],
   "source": [
    "y.shape"
   ]
  },
  {
   "cell_type": "code",
   "execution_count": 9,
   "metadata": {
    "ExecuteTime": {
     "end_time": "2022-01-13T02:22:23.434700Z",
     "start_time": "2022-01-13T02:22:23.418699Z"
    }
   },
   "outputs": [
    {
     "data": {
      "text/plain": [
       "array([-1.35778813, -1.35778813, -1.35778813, -1.51688483, -1.67598153,\n",
       "       -1.67598153, -1.67598153, -1.67598153, -1.19869143,  0.77619746,\n",
       "        0.77619746,  0.77619746,  0.77619746,  0.77619746,  0.77619746,\n",
       "        0.77619746,  0.77619746,  0.77619746,  0.37401732,  0.06488992,\n",
       "        0.00306444, -0.05876104, -0.12058652, -0.27515022, -0.05876104,\n",
       "        0.25036636,  1.2086613 ,  0.56845165,  0.09031475, -0.10094001,\n",
       "       -0.19656739, -0.29219477, -0.77033167, -0.38782215, -0.10094001,\n",
       "        1.14221592, -0.54346672, -0.67484025, -0.71863142, -0.19313733,\n",
       "       -0.14934615, -0.28071968, -0.10555498,  0.02581855,  1.95263023,\n",
       "        0.94661235, -0.151387  , -0.31285749, -0.52276913, -0.53891617,\n",
       "       -1.02332765, -0.52276913, -0.37744568,  0.78514185,  0.62442892,\n",
       "       -0.32497482, -0.47002261, -0.48320877, -0.49639494, -0.91835215,\n",
       "       -0.45683645, -0.31178866,  1.28373707, -0.85204595, -0.10400171,\n",
       "       -0.26429691, -0.47802383, -0.4245921 , -0.21086517, -0.4245921 ,\n",
       "       -0.53145556, -0.5848873 ,  0.50379999,  0.27491138,  0.19861518,\n",
       "       -0.29731014, -0.67879116, -1.17471648, -1.4799013 , -1.5561975 ,\n",
       "       -1.21286459,  0.26995363,  1.05048215,  0.87036018,  0.81031953,\n",
       "        0.5701569 ,  0.39003494,  0.20991297, -0.0902903 , -0.15033096,\n",
       "       -0.09807534, -0.09807534, -0.09807534, -0.09807534, -0.09807534,\n",
       "       -0.09807534, -0.09807534, -0.09807534, -0.09807534,  0.28577658,\n",
       "       -0.38697479, -0.46172495,  0.06152612, -0.08797418, -0.01322403,\n",
       "        0.06152612, -0.01322403, -0.5364751 , -0.53030194, -0.42081632,\n",
       "       -0.58504475, -0.63978755, -0.47555913, -0.74927317, -0.69453036,\n",
       "       -0.63978755,  1.2762107 ,  0.87949784,  0.87949784,  0.87949784,\n",
       "        0.32969237,  0.32969237, -0.22011309,  0.32969237,  0.32969237,\n",
       "        1.4293033 , -1.24946757, -0.8002062 , -1.04050879, -0.84199795,\n",
       "       -0.48676803, -0.52855978, -0.58079948, -0.54945566, -0.34049688,\n",
       "       -1.30683497, -0.84217165, -1.65110825, -1.09562437, -0.6837637 ,\n",
       "       -0.45143204, -0.55703734, -0.6837637 ,  0.77358944, -0.84097857,\n",
       "       -0.46545731, -1.21649984, -1.59202111, -0.55933762,  0.19170491,\n",
       "        0.19170491, -0.27769667, -1.59202111, -1.14051589, -0.76423629,\n",
       "       -1.04644599, -1.3286557 , -1.04644599,  0.17646272,  0.27053262,\n",
       "        0.27053262, -1.14051589])"
      ]
     },
     "execution_count": 9,
     "metadata": {},
     "output_type": "execute_result"
    }
   ],
   "source": [
    "x[0]"
   ]
  },
  {
   "cell_type": "code",
   "execution_count": 10,
   "metadata": {
    "ExecuteTime": {
     "end_time": "2022-01-13T02:22:23.708715Z",
     "start_time": "2022-01-13T02:22:23.698715Z"
    }
   },
   "outputs": [
    {
     "data": {
      "text/plain": [
       "array([0.51011625])"
      ]
     },
     "execution_count": 10,
     "metadata": {},
     "output_type": "execute_result"
    }
   ],
   "source": [
    "y[0]"
   ]
  },
  {
   "cell_type": "code",
   "execution_count": 11,
   "metadata": {
    "ExecuteTime": {
     "end_time": "2022-01-13T02:22:23.998732Z",
     "start_time": "2022-01-13T02:22:23.987731Z"
    }
   },
   "outputs": [
    {
     "data": {
      "text/plain": [
       "(5751, 162)"
      ]
     },
     "execution_count": 11,
     "metadata": {},
     "output_type": "execute_result"
    }
   ],
   "source": [
    "x.shape"
   ]
  },
  {
   "cell_type": "code",
   "execution_count": 12,
   "metadata": {
    "ExecuteTime": {
     "end_time": "2022-01-13T02:22:24.246746Z",
     "start_time": "2022-01-13T02:22:24.242746Z"
    },
    "collapsed": true
   },
   "outputs": [],
   "source": [
    "x1=pd.DataFrame(x)"
   ]
  },
  {
   "cell_type": "code",
   "execution_count": 13,
   "metadata": {
    "ExecuteTime": {
     "end_time": "2022-01-13T02:22:30.112081Z",
     "start_time": "2022-01-13T02:22:24.522762Z"
    }
   },
   "outputs": [
    {
     "data": {
      "text/html": [
       "<div>\n",
       "<style>\n",
       "    .dataframe thead tr:only-child th {\n",
       "        text-align: right;\n",
       "    }\n",
       "\n",
       "    .dataframe thead th {\n",
       "        text-align: left;\n",
       "    }\n",
       "\n",
       "    .dataframe tbody tr th {\n",
       "        vertical-align: top;\n",
       "    }\n",
       "</style>\n",
       "<table border=\"1\" class=\"dataframe\">\n",
       "  <thead>\n",
       "    <tr style=\"text-align: right;\">\n",
       "      <th></th>\n",
       "      <th>0</th>\n",
       "      <th>1</th>\n",
       "      <th>2</th>\n",
       "      <th>3</th>\n",
       "      <th>4</th>\n",
       "      <th>5</th>\n",
       "      <th>6</th>\n",
       "      <th>7</th>\n",
       "      <th>8</th>\n",
       "      <th>9</th>\n",
       "      <th>...</th>\n",
       "      <th>5741</th>\n",
       "      <th>5742</th>\n",
       "      <th>5743</th>\n",
       "      <th>5744</th>\n",
       "      <th>5745</th>\n",
       "      <th>5746</th>\n",
       "      <th>5747</th>\n",
       "      <th>5748</th>\n",
       "      <th>5749</th>\n",
       "      <th>5750</th>\n",
       "    </tr>\n",
       "  </thead>\n",
       "  <tbody>\n",
       "    <tr>\n",
       "      <th>count</th>\n",
       "      <td>162.000000</td>\n",
       "      <td>162.000000</td>\n",
       "      <td>162.000000</td>\n",
       "      <td>162.000000</td>\n",
       "      <td>162.000000</td>\n",
       "      <td>162.000000</td>\n",
       "      <td>162.000000</td>\n",
       "      <td>162.000000</td>\n",
       "      <td>162.000000</td>\n",
       "      <td>162.000000</td>\n",
       "      <td>...</td>\n",
       "      <td>162.000000</td>\n",
       "      <td>162.000000</td>\n",
       "      <td>162.000000</td>\n",
       "      <td>162.000000</td>\n",
       "      <td>162.000000</td>\n",
       "      <td>162.000000</td>\n",
       "      <td>162.000000</td>\n",
       "      <td>162.000000</td>\n",
       "      <td>162.000000</td>\n",
       "      <td>162.000000</td>\n",
       "    </tr>\n",
       "    <tr>\n",
       "      <th>mean</th>\n",
       "      <td>-0.244348</td>\n",
       "      <td>-0.161487</td>\n",
       "      <td>-0.101469</td>\n",
       "      <td>-0.027633</td>\n",
       "      <td>0.052456</td>\n",
       "      <td>0.137427</td>\n",
       "      <td>0.219306</td>\n",
       "      <td>0.294057</td>\n",
       "      <td>0.405611</td>\n",
       "      <td>0.452325</td>\n",
       "      <td>...</td>\n",
       "      <td>0.186086</td>\n",
       "      <td>0.185168</td>\n",
       "      <td>0.141944</td>\n",
       "      <td>0.047403</td>\n",
       "      <td>-0.076131</td>\n",
       "      <td>-0.113228</td>\n",
       "      <td>-0.176468</td>\n",
       "      <td>-0.200846</td>\n",
       "      <td>-0.227134</td>\n",
       "      <td>-0.251523</td>\n",
       "    </tr>\n",
       "    <tr>\n",
       "      <th>std</th>\n",
       "      <td>0.731394</td>\n",
       "      <td>0.964779</td>\n",
       "      <td>0.996859</td>\n",
       "      <td>1.017410</td>\n",
       "      <td>1.024950</td>\n",
       "      <td>1.044160</td>\n",
       "      <td>1.046995</td>\n",
       "      <td>1.049079</td>\n",
       "      <td>1.084622</td>\n",
       "      <td>1.080353</td>\n",
       "      <td>...</td>\n",
       "      <td>1.271218</td>\n",
       "      <td>1.271447</td>\n",
       "      <td>1.266086</td>\n",
       "      <td>1.192810</td>\n",
       "      <td>0.808198</td>\n",
       "      <td>0.749908</td>\n",
       "      <td>0.696647</td>\n",
       "      <td>0.658183</td>\n",
       "      <td>0.656755</td>\n",
       "      <td>0.667627</td>\n",
       "    </tr>\n",
       "    <tr>\n",
       "      <th>min</th>\n",
       "      <td>-1.675982</td>\n",
       "      <td>-1.675982</td>\n",
       "      <td>-2.106228</td>\n",
       "      <td>-2.704230</td>\n",
       "      <td>-2.704230</td>\n",
       "      <td>-2.704230</td>\n",
       "      <td>-2.704230</td>\n",
       "      <td>-2.704230</td>\n",
       "      <td>-2.704230</td>\n",
       "      <td>-2.704230</td>\n",
       "      <td>...</td>\n",
       "      <td>-1.539167</td>\n",
       "      <td>-1.539167</td>\n",
       "      <td>-1.539167</td>\n",
       "      <td>-1.539167</td>\n",
       "      <td>-1.539167</td>\n",
       "      <td>-1.539167</td>\n",
       "      <td>-1.539167</td>\n",
       "      <td>-1.441753</td>\n",
       "      <td>-1.441753</td>\n",
       "      <td>-1.441753</td>\n",
       "    </tr>\n",
       "    <tr>\n",
       "      <th>25%</th>\n",
       "      <td>-0.677803</td>\n",
       "      <td>-0.666077</td>\n",
       "      <td>-0.626102</td>\n",
       "      <td>-0.546821</td>\n",
       "      <td>-0.516176</td>\n",
       "      <td>-0.399361</td>\n",
       "      <td>-0.288570</td>\n",
       "      <td>-0.100224</td>\n",
       "      <td>-0.098075</td>\n",
       "      <td>-0.089936</td>\n",
       "      <td>...</td>\n",
       "      <td>-0.609325</td>\n",
       "      <td>-0.587460</td>\n",
       "      <td>-0.615924</td>\n",
       "      <td>-0.636241</td>\n",
       "      <td>-0.665929</td>\n",
       "      <td>-0.652934</td>\n",
       "      <td>-0.723628</td>\n",
       "      <td>-0.665929</td>\n",
       "      <td>-0.649442</td>\n",
       "      <td>-0.740210</td>\n",
       "    </tr>\n",
       "    <tr>\n",
       "      <th>50%</th>\n",
       "      <td>-0.279208</td>\n",
       "      <td>-0.242205</td>\n",
       "      <td>-0.170150</td>\n",
       "      <td>-0.098075</td>\n",
       "      <td>-0.086494</td>\n",
       "      <td>0.102075</td>\n",
       "      <td>0.260449</td>\n",
       "      <td>0.329692</td>\n",
       "      <td>0.370375</td>\n",
       "      <td>0.370375</td>\n",
       "      <td>...</td>\n",
       "      <td>-0.021465</td>\n",
       "      <td>-0.021465</td>\n",
       "      <td>-0.049336</td>\n",
       "      <td>-0.098075</td>\n",
       "      <td>-0.098075</td>\n",
       "      <td>-0.098075</td>\n",
       "      <td>-0.101815</td>\n",
       "      <td>-0.149839</td>\n",
       "      <td>-0.220113</td>\n",
       "      <td>-0.251700</td>\n",
       "    </tr>\n",
       "    <tr>\n",
       "      <th>75%</th>\n",
       "      <td>0.207089</td>\n",
       "      <td>0.207089</td>\n",
       "      <td>0.475359</td>\n",
       "      <td>0.608529</td>\n",
       "      <td>0.678689</td>\n",
       "      <td>0.776197</td>\n",
       "      <td>0.776197</td>\n",
       "      <td>0.850238</td>\n",
       "      <td>0.899484</td>\n",
       "      <td>0.923211</td>\n",
       "      <td>...</td>\n",
       "      <td>0.776197</td>\n",
       "      <td>0.772075</td>\n",
       "      <td>0.649207</td>\n",
       "      <td>0.352952</td>\n",
       "      <td>0.317772</td>\n",
       "      <td>0.278592</td>\n",
       "      <td>0.184568</td>\n",
       "      <td>0.163157</td>\n",
       "      <td>0.087972</td>\n",
       "      <td>0.002074</td>\n",
       "    </tr>\n",
       "    <tr>\n",
       "      <th>max</th>\n",
       "      <td>1.952630</td>\n",
       "      <td>6.695749</td>\n",
       "      <td>6.695749</td>\n",
       "      <td>6.695749</td>\n",
       "      <td>6.695749</td>\n",
       "      <td>6.695749</td>\n",
       "      <td>6.695749</td>\n",
       "      <td>6.695749</td>\n",
       "      <td>6.695749</td>\n",
       "      <td>6.695749</td>\n",
       "      <td>...</td>\n",
       "      <td>8.696471</td>\n",
       "      <td>8.696471</td>\n",
       "      <td>8.696471</td>\n",
       "      <td>8.696471</td>\n",
       "      <td>2.399847</td>\n",
       "      <td>2.399847</td>\n",
       "      <td>2.399847</td>\n",
       "      <td>2.399847</td>\n",
       "      <td>2.399847</td>\n",
       "      <td>2.399847</td>\n",
       "    </tr>\n",
       "  </tbody>\n",
       "</table>\n",
       "<p>8 rows × 5751 columns</p>\n",
       "</div>"
      ],
      "text/plain": [
       "             0           1           2           3           4           5     \\\n",
       "count  162.000000  162.000000  162.000000  162.000000  162.000000  162.000000   \n",
       "mean    -0.244348   -0.161487   -0.101469   -0.027633    0.052456    0.137427   \n",
       "std      0.731394    0.964779    0.996859    1.017410    1.024950    1.044160   \n",
       "min     -1.675982   -1.675982   -2.106228   -2.704230   -2.704230   -2.704230   \n",
       "25%     -0.677803   -0.666077   -0.626102   -0.546821   -0.516176   -0.399361   \n",
       "50%     -0.279208   -0.242205   -0.170150   -0.098075   -0.086494    0.102075   \n",
       "75%      0.207089    0.207089    0.475359    0.608529    0.678689    0.776197   \n",
       "max      1.952630    6.695749    6.695749    6.695749    6.695749    6.695749   \n",
       "\n",
       "             6           7           8           9        ...            5741  \\\n",
       "count  162.000000  162.000000  162.000000  162.000000     ...      162.000000   \n",
       "mean     0.219306    0.294057    0.405611    0.452325     ...        0.186086   \n",
       "std      1.046995    1.049079    1.084622    1.080353     ...        1.271218   \n",
       "min     -2.704230   -2.704230   -2.704230   -2.704230     ...       -1.539167   \n",
       "25%     -0.288570   -0.100224   -0.098075   -0.089936     ...       -0.609325   \n",
       "50%      0.260449    0.329692    0.370375    0.370375     ...       -0.021465   \n",
       "75%      0.776197    0.850238    0.899484    0.923211     ...        0.776197   \n",
       "max      6.695749    6.695749    6.695749    6.695749     ...        8.696471   \n",
       "\n",
       "             5742        5743        5744        5745        5746        5747  \\\n",
       "count  162.000000  162.000000  162.000000  162.000000  162.000000  162.000000   \n",
       "mean     0.185168    0.141944    0.047403   -0.076131   -0.113228   -0.176468   \n",
       "std      1.271447    1.266086    1.192810    0.808198    0.749908    0.696647   \n",
       "min     -1.539167   -1.539167   -1.539167   -1.539167   -1.539167   -1.539167   \n",
       "25%     -0.587460   -0.615924   -0.636241   -0.665929   -0.652934   -0.723628   \n",
       "50%     -0.021465   -0.049336   -0.098075   -0.098075   -0.098075   -0.101815   \n",
       "75%      0.772075    0.649207    0.352952    0.317772    0.278592    0.184568   \n",
       "max      8.696471    8.696471    8.696471    2.399847    2.399847    2.399847   \n",
       "\n",
       "             5748        5749        5750  \n",
       "count  162.000000  162.000000  162.000000  \n",
       "mean    -0.200846   -0.227134   -0.251523  \n",
       "std      0.658183    0.656755    0.667627  \n",
       "min     -1.441753   -1.441753   -1.441753  \n",
       "25%     -0.665929   -0.649442   -0.740210  \n",
       "50%     -0.149839   -0.220113   -0.251700  \n",
       "75%      0.163157    0.087972    0.002074  \n",
       "max      2.399847    2.399847    2.399847  \n",
       "\n",
       "[8 rows x 5751 columns]"
      ]
     },
     "execution_count": 13,
     "metadata": {},
     "output_type": "execute_result"
    }
   ],
   "source": [
    "x1.T.describe()"
   ]
  },
  {
   "cell_type": "code",
   "execution_count": 14,
   "metadata": {
    "ExecuteTime": {
     "end_time": "2022-01-13T02:22:30.118082Z",
     "start_time": "2022-01-13T02:22:30.114082Z"
    }
   },
   "outputs": [
    {
     "data": {
      "text/plain": [
       "(18, 5760)"
      ]
     },
     "execution_count": 14,
     "metadata": {},
     "output_type": "execute_result"
    }
   ],
   "source": [
    "orig_data.shape"
   ]
  },
  {
   "cell_type": "code",
   "execution_count": 15,
   "metadata": {
    "ExecuteTime": {
     "end_time": "2022-01-13T02:22:30.127082Z",
     "start_time": "2022-01-13T02:22:30.120082Z"
    }
   },
   "outputs": [
    {
     "data": {
      "text/plain": [
       "array([[14.  , 14.  , 14.  , ..., 14.  , 14.  , 15.  ],\n",
       "       [ 1.8 ,  1.8 ,  1.8 , ...,  1.7 ,  1.7 ,  1.7 ],\n",
       "       [ 0.51,  0.41,  0.39, ...,  0.26,  0.2 ,  0.19],\n",
       "       ...,\n",
       "       [16.  , 30.  , 27.  , ..., 22.  , 32.  , 32.  ],\n",
       "       [56.  , 50.  , 48.  , ..., 36.  , 24.  , 29.  ],\n",
       "       [26.  , 39.  , 36.  , ...,  0.  ,  7.  ,  7.  ]])"
      ]
     },
     "execution_count": 15,
     "metadata": {},
     "output_type": "execute_result"
    }
   ],
   "source": [
    "orig_data[:10,:]"
   ]
  },
  {
   "cell_type": "code",
   "execution_count": 16,
   "metadata": {
    "ExecuteTime": {
     "end_time": "2022-01-13T02:22:30.137083Z",
     "start_time": "2022-01-13T02:22:30.129082Z"
    }
   },
   "outputs": [
    {
     "data": {
      "text/plain": [
       "[array([-1.35778813, -1.35778813, -1.35778813, -1.51688483, -1.67598153,\n",
       "        -1.67598153, -1.67598153, -1.67598153, -1.19869143,  0.77619746,\n",
       "         0.77619746,  0.77619746,  0.77619746,  0.77619746,  0.77619746,\n",
       "         0.77619746,  0.77619746,  0.77619746,  0.37401732,  0.06488992,\n",
       "         0.00306444, -0.05876104, -0.12058652, -0.27515022, -0.05876104,\n",
       "         0.25036636,  1.2086613 ,  0.56845165,  0.09031475, -0.10094001,\n",
       "        -0.19656739, -0.29219477, -0.77033167, -0.38782215, -0.10094001,\n",
       "         1.14221592, -0.54346672, -0.67484025, -0.71863142, -0.19313733,\n",
       "        -0.14934615, -0.28071968, -0.10555498,  0.02581855,  1.95263023,\n",
       "         0.94661235, -0.151387  , -0.31285749, -0.52276913, -0.53891617,\n",
       "        -1.02332765, -0.52276913, -0.37744568,  0.78514185,  0.62442892,\n",
       "        -0.32497482, -0.47002261, -0.48320877, -0.49639494, -0.91835215,\n",
       "        -0.45683645, -0.31178866,  1.28373707, -0.85204595, -0.10400171,\n",
       "        -0.26429691, -0.47802383, -0.4245921 , -0.21086517, -0.4245921 ,\n",
       "        -0.53145556, -0.5848873 ,  0.50379999,  0.27491138,  0.19861518,\n",
       "        -0.29731014, -0.67879116, -1.17471648, -1.4799013 , -1.5561975 ,\n",
       "        -1.21286459,  0.26995363,  1.05048215,  0.87036018,  0.81031953,\n",
       "         0.5701569 ,  0.39003494,  0.20991297, -0.0902903 , -0.15033096,\n",
       "        -0.09807534, -0.09807534, -0.09807534, -0.09807534, -0.09807534,\n",
       "        -0.09807534, -0.09807534, -0.09807534, -0.09807534,  0.28577658,\n",
       "        -0.38697479, -0.46172495,  0.06152612, -0.08797418, -0.01322403,\n",
       "         0.06152612, -0.01322403, -0.5364751 , -0.53030194, -0.42081632,\n",
       "        -0.58504475, -0.63978755, -0.47555913, -0.74927317, -0.69453036,\n",
       "        -0.63978755,  1.2762107 ,  0.87949784,  0.87949784,  0.87949784,\n",
       "         0.32969237,  0.32969237, -0.22011309,  0.32969237,  0.32969237,\n",
       "         1.4293033 , -1.24946757, -0.8002062 , -1.04050879, -0.84199795,\n",
       "        -0.48676803, -0.52855978, -0.58079948, -0.54945566, -0.34049688,\n",
       "        -1.30683497, -0.84217165, -1.65110825, -1.09562437, -0.6837637 ,\n",
       "        -0.45143204, -0.55703734, -0.6837637 ,  0.77358944, -0.84097857,\n",
       "        -0.46545731, -1.21649984, -1.59202111, -0.55933762,  0.19170491,\n",
       "         0.19170491, -0.27769667, -1.59202111, -1.14051589, -0.76423629,\n",
       "        -1.04644599, -1.3286557 , -1.04644599,  0.17646272,  0.27053262,\n",
       "         0.27053262, -1.14051589]), 0.5101162486097021]"
      ]
     },
     "execution_count": 16,
     "metadata": {},
     "output_type": "execute_result"
    }
   ],
   "source": [
    "train_data[0]"
   ]
  },
  {
   "cell_type": "code",
   "execution_count": 17,
   "metadata": {
    "ExecuteTime": {
     "end_time": "2022-01-13T02:23:58.346128Z",
     "start_time": "2022-01-13T02:22:30.140083Z"
    }
   },
   "outputs": [
    {
     "name": "stdout",
     "output_type": "stream",
     "text": [
      "[11.90590504]\n"
     ]
    }
   ],
   "source": [
    "w_shape = (1, 18*9)\n",
    "\n",
    "#get training data set and validation set, randomly chosen.\n",
    "np.random.shuffle(train_data)\n",
    "test_data = train_data[:500]\n",
    "train_data = train_data[500:]\n",
    "\n",
    "#set initial values\n",
    "w = np.zeros(w_shape, dtype = float)\n",
    "b = 0\n",
    "eta = 0.0006 #learning rate\n",
    "\n",
    "n_iter = 1000 #iteration time\n",
    "train_loss = 0\n",
    "test_loss = 0\n",
    "result = []\n",
    "\n",
    "for i in range(n_iter):\n",
    "    train_loss = 0\n",
    "    for j in range(len(train_data)):\n",
    "        x = train_data[j][0]\n",
    "        y = np.dot(w, x) + b\n",
    "        target = train_data[j][1]\n",
    "\n",
    "        w_gradient = 2 * (y - target) * x.T\n",
    "        b_gradient = 2 * (y - target)\n",
    "\n",
    "        w = w - eta * w_gradient\n",
    "        b = b - eta * b_gradient\n",
    "\n",
    "        train_loss += (target - y) ** 2\n",
    "\n",
    "    result.append(train_loss)\n",
    "np.savetxt('train_loss.txt', result)\n",
    "\n",
    "for k in range(len(test_data)):\n",
    "\n",
    "    x = test_data[k][0]\n",
    "    y = np.dot(w, x) + b\n",
    "    target = test_data[k][1]\n",
    "\n",
    "    test_loss += (target - y) ** 2\n",
    "\n",
    "print(test_loss/5)\n",
    "\n",
    "x_train = []\n",
    "y_train = []\n",
    "x_test = []\n",
    "y_test = []\n",
    "\n",
    "for i in train_data:\n",
    "    x_train.append(i[0])\n",
    "    y_train.append(i[1])\n",
    "\n",
    "for j in test_data:\n",
    "    x_test.append(j[0])\n",
    "    y_test.append(j[1])"
   ]
  },
  {
   "cell_type": "code",
   "execution_count": 19,
   "metadata": {
    "ExecuteTime": {
     "end_time": "2022-01-13T02:30:44.195341Z",
     "start_time": "2022-01-13T02:30:44.188341Z"
    }
   },
   "outputs": [
    {
     "data": {
      "text/plain": [
       "5251"
      ]
     },
     "execution_count": 19,
     "metadata": {},
     "output_type": "execute_result"
    }
   ],
   "source": [
    "len(train_data)"
   ]
  },
  {
   "cell_type": "code",
   "execution_count": 20,
   "metadata": {
    "ExecuteTime": {
     "end_time": "2022-01-13T02:30:44.723372Z",
     "start_time": "2022-01-13T02:30:44.715371Z"
    },
    "collapsed": true
   },
   "outputs": [],
   "source": [
    "x=np.empty((5251,162))\n",
    "y=np.empty((5251,1))"
   ]
  },
  {
   "cell_type": "code",
   "execution_count": 21,
   "metadata": {
    "ExecuteTime": {
     "end_time": "2022-01-13T02:30:45.133395Z",
     "start_time": "2022-01-13T02:30:45.097393Z"
    },
    "collapsed": true
   },
   "outputs": [],
   "source": [
    "for i in range(5251):\n",
    "    x[i,:]=train_data[i][0].reshape(1,-1)\n",
    "    y[i,:]=train_data[i][1]"
   ]
  },
  {
   "cell_type": "code",
   "execution_count": 22,
   "metadata": {
    "ExecuteTime": {
     "end_time": "2022-01-13T02:30:45.401410Z",
     "start_time": "2022-01-13T02:30:45.395410Z"
    },
    "collapsed": true
   },
   "outputs": [],
   "source": [
    "x_t=np.empty((500,162))\n",
    "y_t=np.empty((500,1))"
   ]
  },
  {
   "cell_type": "code",
   "execution_count": 23,
   "metadata": {
    "ExecuteTime": {
     "end_time": "2022-01-13T02:30:45.722429Z",
     "start_time": "2022-01-13T02:30:45.707428Z"
    },
    "collapsed": true
   },
   "outputs": [],
   "source": [
    "for i in range(500):\n",
    "    x_t[i,:]=test_data[i][0].reshape(1,-1)\n",
    "    y_t[i,:]=test_data[i][1]"
   ]
  },
  {
   "cell_type": "code",
   "execution_count": 24,
   "metadata": {
    "ExecuteTime": {
     "end_time": "2022-01-13T02:30:46.199456Z",
     "start_time": "2022-01-13T02:30:46.042447Z"
    }
   },
   "outputs": [
    {
     "name": "stdout",
     "output_type": "stream",
     "text": [
      "0.11258995715342526\n"
     ]
    }
   ],
   "source": [
    "from sklearn import linear_model\n",
    "from sklearn.metrics import mean_squared_error\n",
    "\n",
    "LR = linear_model.LinearRegression()\n",
    "LR.fit(x, y)\n",
    "y_pred = LR.predict(x_t)\n",
    "print(mean_squared_error(y_pred, y_t))"
   ]
  },
  {
   "cell_type": "code",
   "execution_count": null,
   "metadata": {
    "collapsed": true
   },
   "outputs": [],
   "source": []
  }
 ],
 "metadata": {
  "kernelspec": {
   "display_name": "Python 3",
   "language": "python",
   "name": "python3"
  },
  "language_info": {
   "codemirror_mode": {
    "name": "ipython",
    "version": 3
   },
   "file_extension": ".py",
   "mimetype": "text/x-python",
   "name": "python",
   "nbconvert_exporter": "python",
   "pygments_lexer": "ipython3",
   "version": "3.6.3"
  }
 },
 "nbformat": 4,
 "nbformat_minor": 2
}
