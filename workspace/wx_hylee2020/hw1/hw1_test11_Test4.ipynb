{
 "cells": [
  {
   "cell_type": "code",
   "execution_count": null,
   "metadata": {
    "ExecuteTime": {
     "end_time": "2022-01-18T02:21:12.150848Z",
     "start_time": "2022-01-18T02:20:53.693792Z"
    }
   },
   "outputs": [],
   "source": [
    "import numpy as np\n",
    "import torch \n",
    "import pandas as pd\n",
    "import torchvision\n",
    "from torch import optim,nn\n",
    "import seaborn as sns\n",
    "from scipy import stats\n",
    "from scipy.stats import norm,skew,kurtosis\n",
    "import matplotlib.pyplot as plt\n",
    "%matplotlib auto"
   ]
  },
  {
   "cell_type": "code",
   "execution_count": 2,
   "metadata": {
    "ExecuteTime": {
     "end_time": "2022-01-18T02:21:17.458152Z",
     "start_time": "2022-01-18T02:21:17.107132Z"
    },
    "collapsed": true
   },
   "outputs": [],
   "source": [
    "train_data=pd.read_csv(r'F:\\study\\ml\\HonyiLee2020\\hw1\\data\\train.csv',encoding='big5')\n",
    "test_data=pd.read_csv(r'F:\\study\\ml\\HonyiLee2020\\hw1\\data\\test.csv',encoding='big5',header=None)"
   ]
  },
  {
   "cell_type": "code",
   "execution_count": 3,
   "metadata": {
    "ExecuteTime": {
     "end_time": "2022-01-18T02:21:18.069187Z",
     "start_time": "2022-01-18T02:21:18.058186Z"
    }
   },
   "outputs": [
    {
     "name": "stdout",
     "output_type": "stream",
     "text": [
      "train_data shape:  (4320, 27)\n",
      "test_data shape:  (4320, 11)\n"
     ]
    }
   ],
   "source": [
    "print('train_data shape: ',train_data.shape)\n",
    "print('test_data shape: ',test_data.shape)"
   ]
  },
  {
   "cell_type": "code",
   "execution_count": 4,
   "metadata": {
    "ExecuteTime": {
     "end_time": "2022-01-18T02:21:18.847231Z",
     "start_time": "2022-01-18T02:21:18.770227Z"
    },
    "collapsed": true
   },
   "outputs": [],
   "source": [
    "import numpy as np\n",
    "from collections import Counter\n",
    "\n",
    "def train_data_generation(filename):\n",
    "    train_file = open(filename, encoding= 'iso 8859-15')\n",
    "    train_data_raw = np.loadtxt(train_file, delimiter= ',', dtype = str, skiprows = 1)\n",
    "\n",
    "    n_parameters = 18\n",
    "    n_date = len(Counter(train_data_raw[:, 0]).keys())\n",
    "\n",
    "    train_data_raw[train_data_raw == 'NR'] = 0\n",
    "\n",
    "    train_data_raw = train_data_raw[:, 3:].astype(np.float64)\n",
    "\n",
    "    train_data = train_data_raw[:n_parameters, :]\n",
    "\n",
    "    for i in range(1, n_date):\n",
    "        temp = train_data_raw[(n_parameters * (i - 1)): (n_parameters * i), :]\n",
    "        train_data = np.hstack((train_data, temp))\n",
    "\n",
    "    n_series = 9\n",
    "    target_row = 9\n",
    "\n",
    "    mean_x = np.mean(train_data, axis = 1)\n",
    "    std_x = np.std(train_data, axis = 1)\n",
    "\n",
    "    for i in range(n_parameters):\n",
    "        if std_x[i] != 0:\n",
    "            train_data[i, :] = (train_data[i, :] - mean_x[i])/std_x[i]\n",
    "\n",
    "    final_data = []\n",
    "\n",
    "\n",
    "    for j in range(train_data.shape[1] - n_series):\n",
    "        key = train_data[:, j:j+n_series].reshape(18*9, )\n",
    "        value = train_data[target_row, j+n_series]\n",
    "        final_data.append([key, value])\n",
    "\n",
    "    return final_data, [mean_x, std_x]\n"
   ]
  },
  {
   "cell_type": "code",
   "execution_count": 5,
   "metadata": {
    "ExecuteTime": {
     "end_time": "2022-01-18T02:21:19.623275Z",
     "start_time": "2022-01-18T02:21:19.438265Z"
    }
   },
   "outputs": [],
   "source": [
    "train_file = r'F:\\study\\ml\\HonyiLee2020\\hw1\\data\\train.csv'\n",
    "orgi_data, [mean_x, std_x] = train_data_generation(train_file)\n"
   ]
  },
  {
   "cell_type": "code",
   "execution_count": 6,
   "metadata": {
    "ExecuteTime": {
     "end_time": "2022-01-18T02:21:20.199308Z",
     "start_time": "2022-01-18T02:21:20.161306Z"
    },
    "collapsed": true
   },
   "outputs": [],
   "source": [
    "w_shape = (1, 18*9)\n",
    "\n",
    "#get training data set and validation set, randomly chosen.\n",
    "np.random.shuffle(orgi_data)\n",
    "test_data = orgi_data[:500]\n",
    "train_data = orgi_data[500:]\n",
    "\n",
    "#set initial values\n",
    "w = np.zeros(w_shape, dtype = float)\n",
    "b = 0\n",
    "eta = 0.0006 #learning rate\n",
    "\n",
    "n_iter = 1000 #iteration time\n",
    "train_loss = 0\n",
    "test_loss = 0\n",
    "result = []"
   ]
  },
  {
   "cell_type": "code",
   "execution_count": 7,
   "metadata": {
    "ExecuteTime": {
     "end_time": "2022-01-18T02:23:04.888296Z",
     "start_time": "2022-01-18T02:21:20.962352Z"
    },
    "collapsed": true
   },
   "outputs": [],
   "source": [
    "for i in range(n_iter):\n",
    "    train_loss = 0\n",
    "    for j in range(len(train_data)):\n",
    "        x = train_data[j][0]\n",
    "        y = np.dot(w, x) + b\n",
    "        target = train_data[j][1]\n",
    "\n",
    "        w_gradient = 2 * (y - target) * x.T\n",
    "        b_gradient = 2 * (y - target)\n",
    "\n",
    "        w = w - eta * w_gradient\n",
    "        b = b - eta * b_gradient\n",
    "\n",
    "        train_loss += (target - y) ** 2\n",
    "\n",
    "    result.append(train_loss)"
   ]
  },
  {
   "cell_type": "code",
   "execution_count": 8,
   "metadata": {
    "ExecuteTime": {
     "end_time": "2022-01-18T02:23:34.206973Z",
     "start_time": "2022-01-18T02:23:34.169971Z"
    }
   },
   "outputs": [
    {
     "name": "stdout",
     "output_type": "stream",
     "text": [
      "[16.53058956]\n"
     ]
    }
   ],
   "source": [
    "for k in range(len(test_data)):\n",
    "\n",
    "    x = test_data[k][0]\n",
    "    y = np.dot(w, x) + b\n",
    "    target = test_data[k][1]\n",
    "\n",
    "    test_loss += (target - y) ** 2\n",
    "\n",
    "print(test_loss/5)"
   ]
  },
  {
   "cell_type": "code",
   "execution_count": 9,
   "metadata": {
    "ExecuteTime": {
     "end_time": "2022-01-18T02:23:38.193201Z",
     "start_time": "2022-01-18T02:23:38.154199Z"
    },
    "collapsed": true
   },
   "outputs": [],
   "source": [
    "x_train = []\n",
    "y_train = []\n",
    "x_test = []\n",
    "y_test = []\n",
    "\n",
    "for i in train_data:\n",
    "    x_train.append(i[0])\n",
    "    y_train.append(i[1])\n",
    "\n",
    "for j in test_data:\n",
    "    x_test.append(j[0])\n",
    "    y_test.append(j[1])\n"
   ]
  },
  {
   "cell_type": "code",
   "execution_count": 10,
   "metadata": {
    "ExecuteTime": {
     "end_time": "2022-01-18T02:23:39.203259Z",
     "start_time": "2022-01-18T02:23:39.186258Z"
    }
   },
   "outputs": [
    {
     "data": {
      "text/plain": [
       "5251"
      ]
     },
     "execution_count": 10,
     "metadata": {},
     "output_type": "execute_result"
    }
   ],
   "source": [
    "len(train_data)"
   ]
  },
  {
   "cell_type": "code",
   "execution_count": 11,
   "metadata": {
    "ExecuteTime": {
     "end_time": "2022-01-18T02:23:41.157371Z",
     "start_time": "2022-01-18T02:23:40.511334Z"
    }
   },
   "outputs": [
    {
     "name": "stdout",
     "output_type": "stream",
     "text": [
      "0.14463701637196005\n"
     ]
    }
   ],
   "source": [
    "from sklearn import linear_model\n",
    "from sklearn.metrics import mean_squared_error\n",
    "\n",
    "LR = linear_model.LinearRegression()\n",
    "LR.fit(x_train, y_train)\n",
    "y_pred = LR.predict(x_test)\n",
    "print(mean_squared_error(y_pred, y_test))"
   ]
  },
  {
   "cell_type": "code",
   "execution_count": null,
   "metadata": {
    "collapsed": true
   },
   "outputs": [],
   "source": []
  }
 ],
 "metadata": {
  "kernelspec": {
   "display_name": "Python 3",
   "language": "python",
   "name": "python3"
  },
  "language_info": {
   "codemirror_mode": {
    "name": "ipython",
    "version": 3
   },
   "file_extension": ".py",
   "mimetype": "text/x-python",
   "name": "python",
   "nbconvert_exporter": "python",
   "pygments_lexer": "ipython3",
   "version": "3.6.3"
  }
 },
 "nbformat": 4,
 "nbformat_minor": 2
}
