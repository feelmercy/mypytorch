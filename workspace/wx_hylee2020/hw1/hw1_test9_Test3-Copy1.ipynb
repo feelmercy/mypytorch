{
 "cells": [
  {
   "cell_type": "code",
   "execution_count": 1,
   "metadata": {
    "ExecuteTime": {
     "end_time": "2022-01-07T02:52:24.676248Z",
     "start_time": "2022-01-07T02:52:23.505181Z"
    }
   },
   "outputs": [
    {
     "name": "stdout",
     "output_type": "stream",
     "text": [
      "Using matplotlib backend: Qt5Agg\n"
     ]
    }
   ],
   "source": [
    "import numpy as np\n",
    "import torch \n",
    "import pandas as pd\n",
    "import torchvision\n",
    "from torch import optim,nn\n",
    "import seaborn as sns\n",
    "from scipy import stats\n",
    "from scipy.stats import norm,skew,kurtosis\n",
    "import matplotlib.pyplot as plt\n",
    "%matplotlib auto"
   ]
  },
  {
   "cell_type": "markdown",
   "metadata": {},
   "source": [
    "### just try 17 feature to predict next pm2.5"
   ]
  },
  {
   "cell_type": "code",
   "execution_count": 2,
   "metadata": {
    "ExecuteTime": {
     "end_time": "2022-01-06T09:29:32.613530Z",
     "start_time": "2022-01-06T09:29:32.549526Z"
    },
    "collapsed": true
   },
   "outputs": [],
   "source": [
    "train_data=pd.read_csv(r'F:\\study\\ml\\HonyiLee2020\\hw1\\data\\train.csv',encoding='big5')\n",
    "test_data=pd.read_csv(r'F:\\study\\ml\\HonyiLee2020\\hw1\\data\\test.csv',encoding='big5',header=None)"
   ]
  },
  {
   "cell_type": "code",
   "execution_count": 3,
   "metadata": {
    "ExecuteTime": {
     "end_time": "2022-01-06T09:29:33.080557Z",
     "start_time": "2022-01-06T09:29:33.068556Z"
    }
   },
   "outputs": [
    {
     "name": "stdout",
     "output_type": "stream",
     "text": [
      "train_data shape:  (4320, 27)\n",
      "test_data shape:  (4320, 11)\n"
     ]
    }
   ],
   "source": [
    "print('train_data shape: ',train_data.shape)\n",
    "print('test_data shape: ',test_data.shape)"
   ]
  },
  {
   "cell_type": "code",
   "execution_count": 4,
   "metadata": {
    "ExecuteTime": {
     "end_time": "2022-01-06T09:29:33.581585Z",
     "start_time": "2022-01-06T09:29:33.564584Z"
    },
    "collapsed": true
   },
   "outputs": [],
   "source": [
    "train_data1=train_data.replace('NR',0)\n",
    "train_data1=train_data1.iloc[:,3:]"
   ]
  },
  {
   "cell_type": "code",
   "execution_count": 5,
   "metadata": {
    "ExecuteTime": {
     "end_time": "2022-01-06T09:29:34.091614Z",
     "start_time": "2022-01-06T09:29:34.013610Z"
    },
    "collapsed": true
   },
   "outputs": [],
   "source": [
    "year_data={}\n",
    "for m in range(12):\n",
    "    month_data=np.empty((18,20*24))\n",
    "    for d in range(20):\n",
    "        month_data[:,d*24:(d+1)*24]=train_data1.iloc[m*20*18+d*18:m*20*18+(d+1)*18,:]\n",
    "    year_data[m]=month_data"
   ]
  },
  {
   "cell_type": "code",
   "execution_count": 6,
   "metadata": {
    "ExecuteTime": {
     "end_time": "2022-01-06T09:29:34.411633Z",
     "start_time": "2022-01-06T09:29:34.407632Z"
    },
    "collapsed": true
   },
   "outputs": [],
   "source": [
    "year_data1=year_data.copy()"
   ]
  },
  {
   "cell_type": "code",
   "execution_count": 7,
   "metadata": {
    "ExecuteTime": {
     "end_time": "2022-01-06T09:29:34.972665Z",
     "start_time": "2022-01-06T09:29:34.917662Z"
    }
   },
   "outputs": [
    {
     "name": "stdout",
     "output_type": "stream",
     "text": [
      " month :  0\n",
      " month :  1\n",
      " month :  2\n",
      "---------- pm2.5 start : \n",
      " -3.1 \n",
      "\n",
      "-8.0\n",
      "-7.2\n",
      "-6.8\n",
      "-6.5\n",
      "-7.1\n",
      "-7.4\n",
      "-8.1\n",
      "-8.3\n",
      "-8.4\n",
      "-9.3\n",
      "-10.6\n",
      "-11.2\n",
      "-12.1\n",
      "0.0\n",
      "0.0\n",
      "0.0\n",
      "0.0\n",
      "-12.3\n",
      "pm2.5 end ------------\n",
      "correct value between  : 19.0 18.0\n",
      " month :  3\n",
      " month :  4\n",
      " month :  5\n",
      " month :  6\n",
      " month :  7\n",
      " month :  8\n",
      " month :  9\n",
      " month :  10\n",
      " month :  11\n"
     ]
    }
   ],
   "source": [
    "# temperature always >=0 in Taiwan and change fast when temperature <=0 ,so correct it\n",
    "for idx in [0]:\t\n",
    "\tfor m in range(12):\n",
    "\t\tprint(' month : ',m)\n",
    "\t\ti=0\n",
    "\t\twhile i<480:\n",
    "\t\t\tif year_data1[m][idx,i] <=0:\n",
    "\t\t\t\tprint('---------- pm2.5 start : \\n',year_data1[m][idx,i],'\\n')\n",
    "\t\t\t\tfor k in range(30):\n",
    "\t\t\t\t\tif k+i+1>479:\n",
    "\t\t\t\t\t\tbreak\n",
    "\t\t\t\t\telse:\n",
    "\t\t\t\t\t\tif year_data1[m][idx,k+i+1] >0:\n",
    "\t\t\t\t\t\t\tbreak\n",
    "\t\t\t\t\t\telse:\n",
    "\t\t\t\t\t\t\tprint(year_data1[m][idx,k+i+1])\n",
    "\t\t\t\ti=i+k\n",
    "\t\t\t\tprint('pm2.5 end ------------')\n",
    "\t\t\t\tprint('correct value between  :',year_data1[m][idx,i-1-k],year_data1[m][idx,i+1])\n",
    "\t\t\t\t## add correct to mean value\n",
    "\t\t\t\tyear_data1[m][idx,i-k:i+1]=(year_data1[m][idx,i-1-k]+year_data1[m][idx,i+1])/2\n",
    "\t\t\ti=i+1"
   ]
  },
  {
   "cell_type": "code",
   "execution_count": 8,
   "metadata": {
    "ExecuteTime": {
     "end_time": "2022-01-06T09:29:35.523696Z",
     "start_time": "2022-01-06T09:29:35.397689Z"
    }
   },
   "outputs": [
    {
     "name": "stdout",
     "output_type": "stream",
     "text": [
      " month :  0\n",
      " month :  1\n",
      " month :  2\n",
      " month :  3\n",
      " month :  4\n",
      " month :  5\n",
      " month :  6\n",
      " month :  7\n",
      " month :  8\n",
      " month :  9\n",
      " month :  10\n",
      " month :  11\n",
      "---------- pm2.5 start : \n",
      " -0.2 \n",
      "\n",
      "-0.2\n",
      "-0.2\n",
      "-0.2\n",
      "-0.2\n",
      "-0.2\n",
      "-0.2\n",
      "-0.2\n",
      "-0.2\n",
      "pm2.5 end ------------\n",
      "correct value between  : 1.8 1.8\n",
      " month :  0\n",
      " month :  1\n",
      " month :  2\n",
      " month :  3\n",
      " month :  4\n",
      " month :  5\n",
      " month :  6\n",
      " month :  7\n",
      " month :  8\n",
      " month :  9\n",
      " month :  10\n",
      " month :  11\n",
      "---------- pm2.5 start : \n",
      " -0.12 \n",
      "\n",
      "pm2.5 end ------------\n",
      "correct value between  : 0.34 0.26\n",
      " month :  0\n",
      " month :  1\n",
      " month :  2\n",
      " month :  3\n",
      " month :  4\n",
      " month :  5\n",
      " month :  6\n",
      " month :  7\n",
      " month :  8\n",
      "---------- pm2.5 start : \n",
      " -0.1 \n",
      "\n",
      "pm2.5 end ------------\n",
      "correct value between  : 2.5 0.3\n",
      "---------- pm2.5 start : \n",
      " -0.1 \n",
      "\n",
      "pm2.5 end ------------\n",
      "correct value between  : 0.1 1.0\n",
      " month :  9\n",
      " month :  10\n",
      " month :  11\n",
      "---------- pm2.5 start : \n",
      " -1.1 \n",
      "\n",
      "pm2.5 end ------------\n",
      "correct value between  : 6.6 1.2\n",
      " month :  0\n",
      " month :  1\n",
      " month :  2\n",
      " month :  3\n",
      " month :  4\n",
      "---------- pm2.5 start : \n",
      " -0.9 \n",
      "\n",
      "pm2.5 end ------------\n",
      "correct value between  : 17.0 17.0\n",
      " month :  5\n",
      " month :  6\n",
      " month :  7\n",
      "---------- pm2.5 start : \n",
      " -1.0 \n",
      "\n",
      "pm2.5 end ------------\n",
      "correct value between  : 7.4 10.0\n",
      " month :  8\n",
      " month :  9\n",
      " month :  10\n",
      "---------- pm2.5 start : \n",
      " -2.4 \n",
      "\n",
      "pm2.5 end ------------\n",
      "correct value between  : 7.0 6.6\n",
      " month :  11\n",
      " month :  0\n",
      "---------- pm2.5 start : \n",
      " -1.0 \n",
      "\n",
      "pm2.5 end ------------\n",
      "correct value between  : 46.0 51.0\n",
      " month :  1\n",
      " month :  2\n",
      " month :  3\n",
      "---------- pm2.5 start : \n",
      " -1.0 \n",
      "\n",
      "pm2.5 end ------------\n",
      "correct value between  : 6.0 16.0\n",
      "---------- pm2.5 start : \n",
      " -1.0 \n",
      "\n",
      "pm2.5 end ------------\n",
      "correct value between  : 13.0 16.0\n",
      "---------- pm2.5 start : \n",
      " -1.0 \n",
      "\n",
      "pm2.5 end ------------\n",
      "correct value between  : 55.0 48.0\n",
      " month :  4\n",
      "---------- pm2.5 start : \n",
      " -1.0 \n",
      "\n",
      "-1.0\n",
      "-1.0\n",
      "-1.0\n",
      "-1.0\n",
      "-1.0\n",
      "pm2.5 end ------------\n",
      "correct value between  : 5.0 1.0\n",
      "---------- pm2.5 start : \n",
      " -1.0 \n",
      "\n",
      "-1.0\n",
      "-1.0\n",
      "pm2.5 end ------------\n",
      "correct value between  : 2.0 4.0\n",
      "---------- pm2.5 start : \n",
      " -1.0 \n",
      "\n",
      "pm2.5 end ------------\n",
      "correct value between  : 5.0 0.0\n",
      "---------- pm2.5 start : \n",
      " -1.0 \n",
      "\n",
      "-1.0\n",
      "-1.0\n",
      "pm2.5 end ------------\n",
      "correct value between  : 10.0 9.0\n",
      "---------- pm2.5 start : \n",
      " -1.0 \n",
      "\n",
      "-1.0\n",
      "-1.0\n",
      "-1.0\n",
      "-1.0\n",
      "-1.0\n",
      "-1.0\n",
      "-1.0\n",
      "-1.0\n",
      "-1.0\n",
      "-1.0\n",
      "pm2.5 end ------------\n",
      "correct value between  : 9.0 2.0\n",
      "---------- pm2.5 start : \n",
      " -1.0 \n",
      "\n",
      "-1.0\n",
      "pm2.5 end ------------\n",
      "correct value between  : 0.0 4.0\n",
      " month :  5\n",
      " month :  6\n",
      "---------- pm2.5 start : \n",
      " -1.0 \n",
      "\n",
      "-1.0\n",
      "pm2.5 end ------------\n",
      "correct value between  : 20.0 27.0\n",
      " month :  7\n",
      " month :  8\n",
      " month :  9\n",
      " month :  10\n",
      "---------- pm2.5 start : \n",
      " -1.0 \n",
      "\n",
      "-1.0\n",
      "-1.0\n",
      "-1.0\n",
      "-1.0\n",
      "-1.0\n",
      "-1.0\n",
      "-1.0\n",
      "-1.0\n",
      "-1.0\n",
      "-1.0\n",
      "-1.0\n",
      "-1.0\n",
      "-1.0\n",
      "-1.0\n",
      "-1.0\n",
      "-1.0\n",
      "-1.0\n",
      "pm2.5 end ------------\n",
      "correct value between  : 18.0 18.0\n",
      " month :  11\n",
      "---------- pm2.5 start : \n",
      " -1.0 \n",
      "\n",
      "-1.0\n",
      "pm2.5 end ------------\n",
      "correct value between  : 13.0 7.0\n",
      " month :  0\n",
      "---------- pm2.5 start : \n",
      " -0.9 \n",
      "\n",
      "-0.9\n",
      "-0.9\n",
      "pm2.5 end ------------\n",
      "correct value between  : 1.6 1.3\n",
      "---------- pm2.5 start : \n",
      " -0.1 \n",
      "\n",
      "-0.1\n",
      "-0.2\n",
      "-0.3\n",
      "pm2.5 end ------------\n",
      "correct value between  : 0.1 1.2\n",
      " month :  1\n",
      "---------- pm2.5 start : \n",
      " -0.2 \n",
      "\n",
      "pm2.5 end ------------\n",
      "correct value between  : 1.1 0.3\n",
      " month :  2\n",
      " month :  3\n",
      " month :  4\n",
      " month :  5\n",
      "---------- pm2.5 start : \n",
      " -1.5 \n",
      "\n",
      "pm2.5 end ------------\n",
      "correct value between  : 0.2 2.3\n",
      "---------- pm2.5 start : \n",
      " -0.3 \n",
      "\n",
      "-0.2\n",
      "pm2.5 end ------------\n",
      "correct value between  : 3.8 2.2\n",
      " month :  6\n",
      " month :  7\n",
      "---------- pm2.5 start : \n",
      " -1.6 \n",
      "\n",
      "pm2.5 end ------------\n",
      "correct value between  : 4.3 2.7\n",
      " month :  8\n",
      " month :  9\n",
      " month :  10\n",
      "---------- pm2.5 start : \n",
      " -0.2 \n",
      "\n",
      "pm2.5 end ------------\n",
      "correct value between  : 0.0 0.9\n",
      "---------- pm2.5 start : \n",
      " -0.1 \n",
      "\n",
      "-0.3\n",
      "pm2.5 end ------------\n",
      "correct value between  : 0.2 0.3\n",
      " month :  11\n",
      "---------- pm2.5 start : \n",
      " -0.2 \n",
      "\n",
      "-0.4\n",
      "-0.5\n",
      "pm2.5 end ------------\n",
      "correct value between  : 0.0 1.2\n",
      "---------- pm2.5 start : \n",
      " -0.3 \n",
      "\n",
      "-0.3\n",
      "pm2.5 end ------------\n",
      "correct value between  : 0.0 1.1\n",
      "---------- pm2.5 start : \n",
      " -0.2 \n",
      "\n",
      "pm2.5 end ------------\n",
      "correct value between  : 2.8 2.0\n",
      " month :  0\n",
      " month :  1\n",
      " month :  2\n",
      " month :  3\n",
      " month :  4\n",
      " month :  5\n",
      " month :  6\n",
      " month :  7\n",
      " month :  8\n",
      " month :  9\n",
      " month :  10\n",
      " month :  11\n",
      "---------- pm2.5 start : \n",
      " -0.2 \n",
      "\n",
      "-0.2\n",
      "-0.2\n",
      "-0.2\n",
      "-0.2\n",
      "-0.2\n",
      "-0.2\n",
      "-0.2\n",
      "-0.2\n",
      "pm2.5 end ------------\n",
      "correct value between  : 2.0 1.9\n"
     ]
    }
   ],
   "source": [
    "for idx in [1,2,4,6,9,12,13]:\t\n",
    "\tfor m in range(12):\n",
    "\t\tprint(' month : ',m)\n",
    "\t\ti=0\n",
    "\t\twhile i<480:\n",
    "\t\t\tif year_data1[m][idx,i] <0:\n",
    "\t\t\t\tprint('---------- pm2.5 start : \\n',year_data1[m][idx,i],'\\n')\n",
    "\t\t\t\tfor k in range(30):\n",
    "\t\t\t\t\tif k+i+1>479:\n",
    "\t\t\t\t\t\tbreak\n",
    "\t\t\t\t\telse:\n",
    "\t\t\t\t\t\tif year_data1[m][idx,k+i+1] >=0:\n",
    "\t\t\t\t\t\t\tbreak\n",
    "\t\t\t\t\t\telse:\n",
    "\t\t\t\t\t\t\tprint(year_data1[m][idx,k+i+1])\n",
    "\t\t\t\ti=i+k\n",
    "\t\t\t\tprint('pm2.5 end ------------')\n",
    "\t\t\t\tprint('correct value between  :',year_data1[m][idx,i-1-k],year_data1[m][idx,i+1])\n",
    "\t\t\t\t## add correct to mean value\n",
    "\t\t\t\tyear_data1[m][idx,i-k:i+1]=(year_data1[m][idx,i-1-k]+year_data1[m][idx,i+1])/2\n",
    "\t\t\ti=i+1"
   ]
  },
  {
   "cell_type": "code",
   "execution_count": 9,
   "metadata": {
    "ExecuteTime": {
     "end_time": "2022-01-06T09:29:36.096729Z",
     "start_time": "2022-01-06T09:29:36.068727Z"
    },
    "collapsed": true
   },
   "outputs": [],
   "source": [
    "month_list=[]\n",
    "for i in range(12):\n",
    "    month_list.append(pd.DataFrame(year_data1[i]))\n",
    "all_train_data1=pd.concat(month_list,axis=1).T"
   ]
  },
  {
   "cell_type": "code",
   "execution_count": 10,
   "metadata": {
    "ExecuteTime": {
     "end_time": "2022-01-06T09:29:36.571756Z",
     "start_time": "2022-01-06T09:29:36.564756Z"
    },
    "collapsed": true
   },
   "outputs": [],
   "source": [
    "from scipy.stats import boxcox,boxcox_normmax\n",
    "from scipy.special import boxcox1p"
   ]
  },
  {
   "cell_type": "code",
   "execution_count": 11,
   "metadata": {
    "ExecuteTime": {
     "end_time": "2022-01-06T09:29:37.350801Z",
     "start_time": "2022-01-06T09:29:37.100786Z"
    }
   },
   "outputs": [
    {
     "name": "stdout",
     "output_type": "stream",
     "text": [
      "0 --skew :  -0.2834134242907861 --kurt :  -0.7968009844193018\n",
      "lambda :  1.461645538288768\n",
      "0 --skew :  -0.07414275326700835 --kurt :  -0.9258821506244836\n",
      "--------------------------------------------------------------------\n",
      "1 --skew :  -5.095255676523535 --kurt :  85.70760213466164\n",
      "lambda :  5.990940784090655\n",
      "1 --skew :  0.2052435896115669 --kurt :  0.583625236412292\n",
      "--------------------------------------------------------------------\n",
      "2 --skew :  9.165303973318487 --kurt :  132.25692190213024\n",
      "lambda :  -3.259330902857795\n",
      "2 --skew :  -0.003907562716963148 --kurt :  -0.06972890461562153\n",
      "--------------------------------------------------------------------\n",
      "3 --skew :  2.172048918138678 --kurt :  8.458548044518952\n",
      "lambda :  -6.182620739009405\n",
      "3 --skew :  0.05859262861967747 --kurt :  -0.5568735662256521\n",
      "--------------------------------------------------------------------\n",
      "4 --skew :  5.378836580918865 --kurt :  41.25921290333162\n",
      "lambda :  -0.7826645126628972\n",
      "4 --skew :  -0.03484059806052529 --kurt :  0.5414188516389893\n",
      "--------------------------------------------------------------------\n",
      "5 --skew :  1.6391191931961593 --kurt :  3.8457481859587697\n",
      "lambda :  0.003516830957090046\n",
      "5 --skew :  0.013408365980071172 --kurt :  0.19498206467320722\n",
      "--------------------------------------------------------------------\n",
      "6 --skew :  2.071649558193799 --kurt :  6.419180514549189\n",
      "lambda :  -0.1942146862014387\n",
      "6 --skew :  -0.002404565434079636 --kurt :  0.0440333018723158\n",
      "--------------------------------------------------------------------\n",
      "7 --skew :  1.3121217461933794 --kurt :  5.2975502420733696\n",
      "lambda :  0.41482616104608666\n",
      "7 --skew :  0.006751929748339162 --kurt :  0.28627689522357613\n",
      "--------------------------------------------------------------------\n",
      "8 --skew :  1.103678593463204 --kurt :  1.7728459308764268\n",
      "lambda :  0.4477248234931694\n",
      "8 --skew :  0.02201672862987185 --kurt :  0.1603650294853538\n",
      "--------------------------------------------------------------------\n",
      "9 --skew :  1.2763236528649795 --kurt :  2.115391100082106\n",
      "lambda :  0.4145678510523434\n",
      "9 --skew :  0.03317866068741833 --kurt :  -0.18174471082602928\n",
      "--------------------------------------------------------------------\n",
      "10 --skew :  21.7839204262489 --kurt :  623.8917732792679\n",
      "lambda :  -6.186399577904084\n",
      "10 --skew :  3.759158275003242 --kurt :  12.400036693306454\n",
      "--------------------------------------------------------------------\n",
      "11 --skew :  -0.6050425772235472 --kurt :  -0.1979575284081454\n",
      "lambda :  2.4338353657960474\n",
      "11 --skew :  -0.07298225942919347 --kurt :  -0.8136949843530794\n",
      "--------------------------------------------------------------------\n",
      "12 --skew :  2.1806637991938813 --kurt :  8.332926208370576\n",
      "lambda :  -0.24358108144432533\n",
      "12 --skew :  0.021947686457242925 --kurt :  0.5477017915641502\n",
      "--------------------------------------------------------------------\n",
      "13 --skew :  -0.7973228533500623 --kurt :  21.5544747714386\n",
      "lambda :  2.0482410553537025\n",
      "13 --skew :  0.8584013280369255 --kurt :  8.48135294318179\n",
      "--------------------------------------------------------------------\n",
      "14 --skew :  0.5569055078560654 --kurt :  -0.9777533530993172\n",
      "lambda :  0.3417183305204095\n",
      "14 --skew :  -0.11116266544173034 --kurt :  -0.5747813166565554\n",
      "--------------------------------------------------------------------\n",
      "15 --skew :  0.5166061431100419 --kurt :  -1.0455161114586577\n",
      "lambda :  0.31039132586722773\n",
      "15 --skew :  -0.12154909027070926 --kurt :  -0.6493410942779887\n",
      "--------------------------------------------------------------------\n",
      "16 --skew :  0.9251663396039612 --kurt :  1.023738040336486\n",
      "lambda :  -0.14707046206981406\n",
      "16 --skew :  0.016664314785999827 --kurt :  -0.4468770575550054\n",
      "--------------------------------------------------------------------\n",
      "17 --skew :  1.0990996760341267 --kurt :  1.2102189438217152\n",
      "lambda :  -0.2521218322454977\n",
      "17 --skew :  0.012020490427854405 --kurt :  -0.5440498606314681\n",
      "--------------------------------------------------------------------\n"
     ]
    }
   ],
   "source": [
    "all_train_data2=pd.DataFrame()\n",
    "for i in range(all_train_data1.shape[1]):\n",
    "    lm=boxcox_normmax(all_train_data1[i]+1)\n",
    "    all_train_data2[i]=boxcox1p(all_train_data1[i],lm)\n",
    "    print(all_train_data1.index[i],'--skew : ',all_train_data1[i].skew(),'--kurt : ',all_train_data1[i].kurt())\n",
    "    print('lambda : ',lm)\n",
    "    print(all_train_data2.index[i],'--skew : ',all_train_data2[i].skew(),'--kurt : ',all_train_data2[i].kurt())\n",
    "    print('--------------------------------------------------------------------')"
   ]
  },
  {
   "cell_type": "code",
   "execution_count": 12,
   "metadata": {
    "ExecuteTime": {
     "end_time": "2022-01-06T09:29:37.927834Z",
     "start_time": "2022-01-06T09:29:37.848829Z"
    }
   },
   "outputs": [
    {
     "data": {
      "text/html": [
       "<div>\n",
       "<style>\n",
       "    .dataframe thead tr:only-child th {\n",
       "        text-align: right;\n",
       "    }\n",
       "\n",
       "    .dataframe thead th {\n",
       "        text-align: left;\n",
       "    }\n",
       "\n",
       "    .dataframe tbody tr th {\n",
       "        vertical-align: top;\n",
       "    }\n",
       "</style>\n",
       "<table border=\"1\" class=\"dataframe\">\n",
       "  <thead>\n",
       "    <tr style=\"text-align: right;\">\n",
       "      <th></th>\n",
       "      <th>0</th>\n",
       "      <th>1</th>\n",
       "      <th>2</th>\n",
       "      <th>3</th>\n",
       "      <th>4</th>\n",
       "      <th>5</th>\n",
       "      <th>6</th>\n",
       "      <th>7</th>\n",
       "      <th>8</th>\n",
       "      <th>9</th>\n",
       "      <th>10</th>\n",
       "      <th>11</th>\n",
       "      <th>12</th>\n",
       "      <th>13</th>\n",
       "      <th>14</th>\n",
       "      <th>15</th>\n",
       "      <th>16</th>\n",
       "      <th>17</th>\n",
       "    </tr>\n",
       "  </thead>\n",
       "  <tbody>\n",
       "    <tr>\n",
       "      <th>count</th>\n",
       "      <td>5760.000000</td>\n",
       "      <td>5760.000000</td>\n",
       "      <td>5760.000000</td>\n",
       "      <td>5760.000000</td>\n",
       "      <td>5760.000000</td>\n",
       "      <td>5760.000000</td>\n",
       "      <td>5760.000000</td>\n",
       "      <td>5760.000000</td>\n",
       "      <td>5760.000000</td>\n",
       "      <td>5760.000000</td>\n",
       "      <td>5760.000000</td>\n",
       "      <td>5760.000000</td>\n",
       "      <td>5760.000000</td>\n",
       "      <td>5760.000000</td>\n",
       "      <td>5760.000000</td>\n",
       "      <td>5760.000000</td>\n",
       "      <td>5760.000000</td>\n",
       "      <td>5760.000000</td>\n",
       "    </tr>\n",
       "    <tr>\n",
       "      <th>mean</th>\n",
       "      <td>22.610382</td>\n",
       "      <td>1.705521</td>\n",
       "      <td>0.388436</td>\n",
       "      <td>0.140427</td>\n",
       "      <td>2.136970</td>\n",
       "      <td>10.125990</td>\n",
       "      <td>12.254115</td>\n",
       "      <td>31.905469</td>\n",
       "      <td>42.709201</td>\n",
       "      <td>21.534201</td>\n",
       "      <td>0.200625</td>\n",
       "      <td>73.229167</td>\n",
       "      <td>2.769089</td>\n",
       "      <td>1.843012</td>\n",
       "      <td>156.329271</td>\n",
       "      <td>158.482795</td>\n",
       "      <td>2.297240</td>\n",
       "      <td>1.712760</td>\n",
       "    </tr>\n",
       "    <tr>\n",
       "      <th>std</th>\n",
       "      <td>6.062216</td>\n",
       "      <td>0.100203</td>\n",
       "      <td>0.323505</td>\n",
       "      <td>0.104645</td>\n",
       "      <td>2.281611</td>\n",
       "      <td>6.187555</td>\n",
       "      <td>7.571422</td>\n",
       "      <td>18.703486</td>\n",
       "      <td>26.222292</td>\n",
       "      <td>16.576035</td>\n",
       "      <td>2.045443</td>\n",
       "      <td>13.361351</td>\n",
       "      <td>1.809743</td>\n",
       "      <td>0.163008</td>\n",
       "      <td>95.745881</td>\n",
       "      <td>94.697432</td>\n",
       "      <td>1.065408</td>\n",
       "      <td>1.062683</td>\n",
       "    </tr>\n",
       "    <tr>\n",
       "      <th>min</th>\n",
       "      <td>6.700000</td>\n",
       "      <td>0.000000</td>\n",
       "      <td>0.080000</td>\n",
       "      <td>0.000000</td>\n",
       "      <td>0.000000</td>\n",
       "      <td>0.000000</td>\n",
       "      <td>1.300000</td>\n",
       "      <td>0.000000</td>\n",
       "      <td>0.000000</td>\n",
       "      <td>0.000000</td>\n",
       "      <td>0.000000</td>\n",
       "      <td>29.000000</td>\n",
       "      <td>0.000000</td>\n",
       "      <td>0.000000</td>\n",
       "      <td>0.100000</td>\n",
       "      <td>0.000000</td>\n",
       "      <td>0.000000</td>\n",
       "      <td>0.000000</td>\n",
       "    </tr>\n",
       "    <tr>\n",
       "      <th>25%</th>\n",
       "      <td>18.000000</td>\n",
       "      <td>1.600000</td>\n",
       "      <td>0.250000</td>\n",
       "      <td>0.070000</td>\n",
       "      <td>1.100000</td>\n",
       "      <td>5.900000</td>\n",
       "      <td>7.300000</td>\n",
       "      <td>18.000000</td>\n",
       "      <td>24.000000</td>\n",
       "      <td>9.000000</td>\n",
       "      <td>0.000000</td>\n",
       "      <td>64.000000</td>\n",
       "      <td>1.600000</td>\n",
       "      <td>1.700000</td>\n",
       "      <td>72.000000</td>\n",
       "      <td>76.000000</td>\n",
       "      <td>1.500000</td>\n",
       "      <td>0.900000</td>\n",
       "    </tr>\n",
       "    <tr>\n",
       "      <th>50%</th>\n",
       "      <td>23.000000</td>\n",
       "      <td>1.700000</td>\n",
       "      <td>0.340000</td>\n",
       "      <td>0.110000</td>\n",
       "      <td>1.600000</td>\n",
       "      <td>8.600000</td>\n",
       "      <td>10.000000</td>\n",
       "      <td>29.000000</td>\n",
       "      <td>38.000000</td>\n",
       "      <td>18.000000</td>\n",
       "      <td>0.000000</td>\n",
       "      <td>75.000000</td>\n",
       "      <td>2.300000</td>\n",
       "      <td>1.800000</td>\n",
       "      <td>119.000000</td>\n",
       "      <td>121.500000</td>\n",
       "      <td>2.100000</td>\n",
       "      <td>1.500000</td>\n",
       "    </tr>\n",
       "    <tr>\n",
       "      <th>75%</th>\n",
       "      <td>27.000000</td>\n",
       "      <td>1.800000</td>\n",
       "      <td>0.450000</td>\n",
       "      <td>0.180000</td>\n",
       "      <td>2.300000</td>\n",
       "      <td>13.000000</td>\n",
       "      <td>15.000000</td>\n",
       "      <td>42.000000</td>\n",
       "      <td>57.000000</td>\n",
       "      <td>30.000000</td>\n",
       "      <td>0.000000</td>\n",
       "      <td>84.000000</td>\n",
       "      <td>3.400000</td>\n",
       "      <td>1.900000</td>\n",
       "      <td>213.000000</td>\n",
       "      <td>219.000000</td>\n",
       "      <td>2.900000</td>\n",
       "      <td>2.300000</td>\n",
       "    </tr>\n",
       "    <tr>\n",
       "      <th>max</th>\n",
       "      <td>36.000000</td>\n",
       "      <td>2.000000</td>\n",
       "      <td>7.570000</td>\n",
       "      <td>1.300000</td>\n",
       "      <td>31.000000</td>\n",
       "      <td>46.000000</td>\n",
       "      <td>71.000000</td>\n",
       "      <td>231.000000</td>\n",
       "      <td>181.000000</td>\n",
       "      <td>112.000000</td>\n",
       "      <td>74.000000</td>\n",
       "      <td>99.000000</td>\n",
       "      <td>22.000000</td>\n",
       "      <td>3.000000</td>\n",
       "      <td>360.000000</td>\n",
       "      <td>360.000000</td>\n",
       "      <td>7.700000</td>\n",
       "      <td>7.000000</td>\n",
       "    </tr>\n",
       "  </tbody>\n",
       "</table>\n",
       "</div>"
      ],
      "text/plain": [
       "                0            1            2            3            4   \\\n",
       "count  5760.000000  5760.000000  5760.000000  5760.000000  5760.000000   \n",
       "mean     22.610382     1.705521     0.388436     0.140427     2.136970   \n",
       "std       6.062216     0.100203     0.323505     0.104645     2.281611   \n",
       "min       6.700000     0.000000     0.080000     0.000000     0.000000   \n",
       "25%      18.000000     1.600000     0.250000     0.070000     1.100000   \n",
       "50%      23.000000     1.700000     0.340000     0.110000     1.600000   \n",
       "75%      27.000000     1.800000     0.450000     0.180000     2.300000   \n",
       "max      36.000000     2.000000     7.570000     1.300000    31.000000   \n",
       "\n",
       "                5            6            7            8            9   \\\n",
       "count  5760.000000  5760.000000  5760.000000  5760.000000  5760.000000   \n",
       "mean     10.125990    12.254115    31.905469    42.709201    21.534201   \n",
       "std       6.187555     7.571422    18.703486    26.222292    16.576035   \n",
       "min       0.000000     1.300000     0.000000     0.000000     0.000000   \n",
       "25%       5.900000     7.300000    18.000000    24.000000     9.000000   \n",
       "50%       8.600000    10.000000    29.000000    38.000000    18.000000   \n",
       "75%      13.000000    15.000000    42.000000    57.000000    30.000000   \n",
       "max      46.000000    71.000000   231.000000   181.000000   112.000000   \n",
       "\n",
       "                10           11           12           13           14  \\\n",
       "count  5760.000000  5760.000000  5760.000000  5760.000000  5760.000000   \n",
       "mean      0.200625    73.229167     2.769089     1.843012   156.329271   \n",
       "std       2.045443    13.361351     1.809743     0.163008    95.745881   \n",
       "min       0.000000    29.000000     0.000000     0.000000     0.100000   \n",
       "25%       0.000000    64.000000     1.600000     1.700000    72.000000   \n",
       "50%       0.000000    75.000000     2.300000     1.800000   119.000000   \n",
       "75%       0.000000    84.000000     3.400000     1.900000   213.000000   \n",
       "max      74.000000    99.000000    22.000000     3.000000   360.000000   \n",
       "\n",
       "                15           16           17  \n",
       "count  5760.000000  5760.000000  5760.000000  \n",
       "mean    158.482795     2.297240     1.712760  \n",
       "std      94.697432     1.065408     1.062683  \n",
       "min       0.000000     0.000000     0.000000  \n",
       "25%      76.000000     1.500000     0.900000  \n",
       "50%     121.500000     2.100000     1.500000  \n",
       "75%     219.000000     2.900000     2.300000  \n",
       "max     360.000000     7.700000     7.000000  "
      ]
     },
     "execution_count": 12,
     "metadata": {},
     "output_type": "execute_result"
    }
   ],
   "source": [
    "all_train_data1.describe()"
   ]
  },
  {
   "cell_type": "code",
   "execution_count": 13,
   "metadata": {
    "ExecuteTime": {
     "end_time": "2022-01-06T09:29:38.431863Z",
     "start_time": "2022-01-06T09:29:38.355858Z"
    }
   },
   "outputs": [
    {
     "data": {
      "text/html": [
       "<div>\n",
       "<style>\n",
       "    .dataframe thead tr:only-child th {\n",
       "        text-align: right;\n",
       "    }\n",
       "\n",
       "    .dataframe thead th {\n",
       "        text-align: left;\n",
       "    }\n",
       "\n",
       "    .dataframe tbody tr th {\n",
       "        vertical-align: top;\n",
       "    }\n",
       "</style>\n",
       "<table border=\"1\" class=\"dataframe\">\n",
       "  <thead>\n",
       "    <tr style=\"text-align: right;\">\n",
       "      <th></th>\n",
       "      <th>0</th>\n",
       "      <th>1</th>\n",
       "      <th>2</th>\n",
       "      <th>3</th>\n",
       "      <th>4</th>\n",
       "      <th>5</th>\n",
       "      <th>6</th>\n",
       "      <th>7</th>\n",
       "      <th>8</th>\n",
       "      <th>9</th>\n",
       "      <th>10</th>\n",
       "      <th>11</th>\n",
       "      <th>12</th>\n",
       "      <th>13</th>\n",
       "      <th>14</th>\n",
       "      <th>15</th>\n",
       "      <th>16</th>\n",
       "      <th>17</th>\n",
       "    </tr>\n",
       "  </thead>\n",
       "  <tbody>\n",
       "    <tr>\n",
       "      <th>count</th>\n",
       "      <td>5760.000000</td>\n",
       "      <td>5760.000000</td>\n",
       "      <td>5760.000000</td>\n",
       "      <td>5760.000000</td>\n",
       "      <td>5760.000000</td>\n",
       "      <td>5760.000000</td>\n",
       "      <td>5760.000000</td>\n",
       "      <td>5760.000000</td>\n",
       "      <td>5760.000000</td>\n",
       "      <td>5760.000000</td>\n",
       "      <td>5760.000000</td>\n",
       "      <td>5760.000000</td>\n",
       "      <td>5760.000000</td>\n",
       "      <td>5760.000000</td>\n",
       "      <td>5760.000000</td>\n",
       "      <td>5760.000000</td>\n",
       "      <td>5760.000000</td>\n",
       "      <td>5760.000000</td>\n",
       "    </tr>\n",
       "    <tr>\n",
       "      <th>mean</th>\n",
       "      <td>70.426493</td>\n",
       "      <td>65.832202</td>\n",
       "      <td>0.186377</td>\n",
       "      <td>0.079806</td>\n",
       "      <td>0.672361</td>\n",
       "      <td>2.283694</td>\n",
       "      <td>1.937404</td>\n",
       "      <td>7.449352</td>\n",
       "      <td>9.327724</td>\n",
       "      <td>5.756380</td>\n",
       "      <td>0.008977</td>\n",
       "      <td>15482.226219</td>\n",
       "      <td>1.051691</td>\n",
       "      <td>3.676586</td>\n",
       "      <td>12.803597</td>\n",
       "      <td>11.687312</td>\n",
       "      <td>1.046624</td>\n",
       "      <td>0.813470</td>\n",
       "    </tr>\n",
       "    <tr>\n",
       "      <th>std</th>\n",
       "      <td>25.536335</td>\n",
       "      <td>12.405338</td>\n",
       "      <td>0.041562</td>\n",
       "      <td>0.032614</td>\n",
       "      <td>0.176061</td>\n",
       "      <td>0.523410</td>\n",
       "      <td>0.306804</td>\n",
       "      <td>2.431622</td>\n",
       "      <td>3.291614</td>\n",
       "      <td>2.725299</td>\n",
       "      <td>0.035324</td>\n",
       "      <td>6063.422584</td>\n",
       "      <td>0.303361</td>\n",
       "      <td>0.481140</td>\n",
       "      <td>3.602422</td>\n",
       "      <td>3.020925</td>\n",
       "      <td>0.263948</td>\n",
       "      <td>0.292340</td>\n",
       "    </tr>\n",
       "    <tr>\n",
       "      <th>min</th>\n",
       "      <td>12.833239</td>\n",
       "      <td>0.000000</td>\n",
       "      <td>0.068067</td>\n",
       "      <td>0.000000</td>\n",
       "      <td>0.000000</td>\n",
       "      <td>0.000000</td>\n",
       "      <td>0.769032</td>\n",
       "      <td>0.000000</td>\n",
       "      <td>0.000000</td>\n",
       "      <td>0.000000</td>\n",
       "      <td>0.000000</td>\n",
       "      <td>1616.845054</td>\n",
       "      <td>0.000000</td>\n",
       "      <td>0.000000</td>\n",
       "      <td>0.096879</td>\n",
       "      <td>0.000000</td>\n",
       "      <td>0.000000</td>\n",
       "      <td>0.000000</td>\n",
       "    </tr>\n",
       "    <tr>\n",
       "      <th>25%</th>\n",
       "      <td>49.926550</td>\n",
       "      <td>50.952479</td>\n",
       "      <td>0.158556</td>\n",
       "      <td>0.055291</td>\n",
       "      <td>0.562804</td>\n",
       "      <td>1.938097</td>\n",
       "      <td>1.735287</td>\n",
       "      <td>5.766358</td>\n",
       "      <td>7.204513</td>\n",
       "      <td>3.853588</td>\n",
       "      <td>0.000000</td>\n",
       "      <td>10617.557930</td>\n",
       "      <td>0.852464</td>\n",
       "      <td>3.245618</td>\n",
       "      <td>9.751980</td>\n",
       "      <td>9.184518</td>\n",
       "      <td>0.857234</td>\n",
       "      <td>0.592611</td>\n",
       "    </tr>\n",
       "    <tr>\n",
       "      <th>50%</th>\n",
       "      <td>70.525274</td>\n",
       "      <td>63.921527</td>\n",
       "      <td>0.188618</td>\n",
       "      <td>0.076901</td>\n",
       "      <td>0.672848</td>\n",
       "      <td>2.270782</td>\n",
       "      <td>1.916995</td>\n",
       "      <td>7.472206</td>\n",
       "      <td>9.283713</td>\n",
       "      <td>5.763730</td>\n",
       "      <td>0.000000</td>\n",
       "      <td>15534.166404</td>\n",
       "      <td>1.035990</td>\n",
       "      <td>3.534372</td>\n",
       "      <td>12.099014</td>\n",
       "      <td>11.107693</td>\n",
       "      <td>1.042283</td>\n",
       "      <td>0.818152</td>\n",
       "    </tr>\n",
       "    <tr>\n",
       "      <th>75%</th>\n",
       "      <td>88.521007</td>\n",
       "      <td>79.522794</td>\n",
       "      <td>0.215417</td>\n",
       "      <td>0.103613</td>\n",
       "      <td>0.775804</td>\n",
       "      <td>2.651342</td>\n",
       "      <td>2.143833</td>\n",
       "      <td>9.063998</td>\n",
       "      <td>11.523345</td>\n",
       "      <td>7.603404</td>\n",
       "      <td>0.000000</td>\n",
       "      <td>20398.022735</td>\n",
       "      <td>1.243713</td>\n",
       "      <td>3.834142</td>\n",
       "      <td>15.383128</td>\n",
       "      <td>13.963600</td>\n",
       "      <td>1.233421</td>\n",
       "      <td>1.030980</td>\n",
       "    </tr>\n",
       "    <tr>\n",
       "      <th>max</th>\n",
       "      <td>133.380091</td>\n",
       "      <td>120.311749</td>\n",
       "      <td>0.306532</td>\n",
       "      <td>0.160805</td>\n",
       "      <td>1.192886</td>\n",
       "      <td>3.876332</td>\n",
       "      <td>2.905076</td>\n",
       "      <td>20.678088</td>\n",
       "      <td>20.721569</td>\n",
       "      <td>14.709463</td>\n",
       "      <td>0.161645</td>\n",
       "      <td>30295.187454</td>\n",
       "      <td>2.192628</td>\n",
       "      <td>7.863631</td>\n",
       "      <td>18.965279</td>\n",
       "      <td>16.819218</td>\n",
       "      <td>1.852950</td>\n",
       "      <td>1.618322</td>\n",
       "    </tr>\n",
       "  </tbody>\n",
       "</table>\n",
       "</div>"
      ],
      "text/plain": [
       "                0            1            2            3            4   \\\n",
       "count  5760.000000  5760.000000  5760.000000  5760.000000  5760.000000   \n",
       "mean     70.426493    65.832202     0.186377     0.079806     0.672361   \n",
       "std      25.536335    12.405338     0.041562     0.032614     0.176061   \n",
       "min      12.833239     0.000000     0.068067     0.000000     0.000000   \n",
       "25%      49.926550    50.952479     0.158556     0.055291     0.562804   \n",
       "50%      70.525274    63.921527     0.188618     0.076901     0.672848   \n",
       "75%      88.521007    79.522794     0.215417     0.103613     0.775804   \n",
       "max     133.380091   120.311749     0.306532     0.160805     1.192886   \n",
       "\n",
       "                5            6            7            8            9   \\\n",
       "count  5760.000000  5760.000000  5760.000000  5760.000000  5760.000000   \n",
       "mean      2.283694     1.937404     7.449352     9.327724     5.756380   \n",
       "std       0.523410     0.306804     2.431622     3.291614     2.725299   \n",
       "min       0.000000     0.769032     0.000000     0.000000     0.000000   \n",
       "25%       1.938097     1.735287     5.766358     7.204513     3.853588   \n",
       "50%       2.270782     1.916995     7.472206     9.283713     5.763730   \n",
       "75%       2.651342     2.143833     9.063998    11.523345     7.603404   \n",
       "max       3.876332     2.905076    20.678088    20.721569    14.709463   \n",
       "\n",
       "                10            11           12           13           14  \\\n",
       "count  5760.000000   5760.000000  5760.000000  5760.000000  5760.000000   \n",
       "mean      0.008977  15482.226219     1.051691     3.676586    12.803597   \n",
       "std       0.035324   6063.422584     0.303361     0.481140     3.602422   \n",
       "min       0.000000   1616.845054     0.000000     0.000000     0.096879   \n",
       "25%       0.000000  10617.557930     0.852464     3.245618     9.751980   \n",
       "50%       0.000000  15534.166404     1.035990     3.534372    12.099014   \n",
       "75%       0.000000  20398.022735     1.243713     3.834142    15.383128   \n",
       "max       0.161645  30295.187454     2.192628     7.863631    18.965279   \n",
       "\n",
       "                15           16           17  \n",
       "count  5760.000000  5760.000000  5760.000000  \n",
       "mean     11.687312     1.046624     0.813470  \n",
       "std       3.020925     0.263948     0.292340  \n",
       "min       0.000000     0.000000     0.000000  \n",
       "25%       9.184518     0.857234     0.592611  \n",
       "50%      11.107693     1.042283     0.818152  \n",
       "75%      13.963600     1.233421     1.030980  \n",
       "max      16.819218     1.852950     1.618322  "
      ]
     },
     "execution_count": 13,
     "metadata": {},
     "output_type": "execute_result"
    }
   ],
   "source": [
    "all_train_data2.describe()"
   ]
  },
  {
   "cell_type": "code",
   "execution_count": 14,
   "metadata": {
    "ExecuteTime": {
     "end_time": "2022-01-06T09:29:38.842886Z",
     "start_time": "2022-01-06T09:29:38.797884Z"
    },
    "collapsed": true
   },
   "outputs": [],
   "source": [
    "all_train_data3=pd.DataFrame()\n",
    "for i in range(all_train_data2.shape[1]):\n",
    "    if i!=9:\n",
    "        all_train_data3[i]=(all_train_data2[i] - all_train_data2[i].mean()) / all_train_data2[i].std()\n",
    "    else:\n",
    "        all_train_data3[i]=all_train_data2[i]"
   ]
  },
  {
   "cell_type": "code",
   "execution_count": 15,
   "metadata": {
    "ExecuteTime": {
     "end_time": "2022-01-06T09:29:39.298912Z",
     "start_time": "2022-01-06T09:29:39.223908Z"
    }
   },
   "outputs": [
    {
     "data": {
      "text/html": [
       "<div>\n",
       "<style>\n",
       "    .dataframe thead tr:only-child th {\n",
       "        text-align: right;\n",
       "    }\n",
       "\n",
       "    .dataframe thead th {\n",
       "        text-align: left;\n",
       "    }\n",
       "\n",
       "    .dataframe tbody tr th {\n",
       "        vertical-align: top;\n",
       "    }\n",
       "</style>\n",
       "<table border=\"1\" class=\"dataframe\">\n",
       "  <thead>\n",
       "    <tr style=\"text-align: right;\">\n",
       "      <th></th>\n",
       "      <th>0</th>\n",
       "      <th>1</th>\n",
       "      <th>2</th>\n",
       "      <th>3</th>\n",
       "      <th>4</th>\n",
       "      <th>5</th>\n",
       "      <th>6</th>\n",
       "      <th>7</th>\n",
       "      <th>8</th>\n",
       "      <th>9</th>\n",
       "      <th>10</th>\n",
       "      <th>11</th>\n",
       "      <th>12</th>\n",
       "      <th>13</th>\n",
       "      <th>14</th>\n",
       "      <th>15</th>\n",
       "      <th>16</th>\n",
       "      <th>17</th>\n",
       "    </tr>\n",
       "  </thead>\n",
       "  <tbody>\n",
       "    <tr>\n",
       "      <th>count</th>\n",
       "      <td>5.760000e+03</td>\n",
       "      <td>5.760000e+03</td>\n",
       "      <td>5.760000e+03</td>\n",
       "      <td>5.760000e+03</td>\n",
       "      <td>5.760000e+03</td>\n",
       "      <td>5.760000e+03</td>\n",
       "      <td>5.760000e+03</td>\n",
       "      <td>5.760000e+03</td>\n",
       "      <td>5.760000e+03</td>\n",
       "      <td>5760.000000</td>\n",
       "      <td>5.760000e+03</td>\n",
       "      <td>5.760000e+03</td>\n",
       "      <td>5.760000e+03</td>\n",
       "      <td>5.760000e+03</td>\n",
       "      <td>5.760000e+03</td>\n",
       "      <td>5.760000e+03</td>\n",
       "      <td>5.760000e+03</td>\n",
       "      <td>5.760000e+03</td>\n",
       "    </tr>\n",
       "    <tr>\n",
       "      <th>mean</th>\n",
       "      <td>1.019875e-13</td>\n",
       "      <td>-5.144712e-14</td>\n",
       "      <td>6.653925e-14</td>\n",
       "      <td>2.549689e-14</td>\n",
       "      <td>2.334629e-15</td>\n",
       "      <td>-6.727368e-14</td>\n",
       "      <td>-4.221841e-14</td>\n",
       "      <td>2.062856e-15</td>\n",
       "      <td>5.215490e-14</td>\n",
       "      <td>5.756380</td>\n",
       "      <td>-1.659610e-15</td>\n",
       "      <td>6.245795e-14</td>\n",
       "      <td>-9.682569e-15</td>\n",
       "      <td>-1.537578e-14</td>\n",
       "      <td>1.616595e-14</td>\n",
       "      <td>-8.086471e-15</td>\n",
       "      <td>3.354384e-14</td>\n",
       "      <td>3.181464e-15</td>\n",
       "    </tr>\n",
       "    <tr>\n",
       "      <th>std</th>\n",
       "      <td>1.000000e+00</td>\n",
       "      <td>1.000000e+00</td>\n",
       "      <td>1.000000e+00</td>\n",
       "      <td>1.000000e+00</td>\n",
       "      <td>1.000000e+00</td>\n",
       "      <td>1.000000e+00</td>\n",
       "      <td>1.000000e+00</td>\n",
       "      <td>1.000000e+00</td>\n",
       "      <td>1.000000e+00</td>\n",
       "      <td>2.725299</td>\n",
       "      <td>1.000000e+00</td>\n",
       "      <td>1.000000e+00</td>\n",
       "      <td>1.000000e+00</td>\n",
       "      <td>1.000000e+00</td>\n",
       "      <td>1.000000e+00</td>\n",
       "      <td>1.000000e+00</td>\n",
       "      <td>1.000000e+00</td>\n",
       "      <td>1.000000e+00</td>\n",
       "    </tr>\n",
       "    <tr>\n",
       "      <th>min</th>\n",
       "      <td>-2.255345e+00</td>\n",
       "      <td>-5.306764e+00</td>\n",
       "      <td>-2.846587e+00</td>\n",
       "      <td>-2.447008e+00</td>\n",
       "      <td>-3.818917e+00</td>\n",
       "      <td>-4.363104e+00</td>\n",
       "      <td>-3.808196e+00</td>\n",
       "      <td>-3.063532e+00</td>\n",
       "      <td>-2.833784e+00</td>\n",
       "      <td>0.000000</td>\n",
       "      <td>-2.541260e-01</td>\n",
       "      <td>-2.286725e+00</td>\n",
       "      <td>-3.466795e+00</td>\n",
       "      <td>-7.641412e+00</td>\n",
       "      <td>-3.527271e+00</td>\n",
       "      <td>-3.868786e+00</td>\n",
       "      <td>-3.965265e+00</td>\n",
       "      <td>-2.782619e+00</td>\n",
       "    </tr>\n",
       "    <tr>\n",
       "      <th>25%</th>\n",
       "      <td>-8.027755e-01</td>\n",
       "      <td>-1.199461e+00</td>\n",
       "      <td>-6.693840e-01</td>\n",
       "      <td>-7.516859e-01</td>\n",
       "      <td>-6.222681e-01</td>\n",
       "      <td>-6.602794e-01</td>\n",
       "      <td>-6.587790e-01</td>\n",
       "      <td>-6.921282e-01</td>\n",
       "      <td>-6.450364e-01</td>\n",
       "      <td>3.853588</td>\n",
       "      <td>-2.541260e-01</td>\n",
       "      <td>-8.022974e-01</td>\n",
       "      <td>-6.567335e-01</td>\n",
       "      <td>-8.957229e-01</td>\n",
       "      <td>-8.471015e-01</td>\n",
       "      <td>-8.284860e-01</td>\n",
       "      <td>-7.175293e-01</td>\n",
       "      <td>-7.554874e-01</td>\n",
       "    </tr>\n",
       "    <tr>\n",
       "      <th>50%</th>\n",
       "      <td>3.868283e-03</td>\n",
       "      <td>-1.540203e-01</td>\n",
       "      <td>5.390355e-02</td>\n",
       "      <td>-8.905258e-02</td>\n",
       "      <td>2.767230e-03</td>\n",
       "      <td>-2.466757e-02</td>\n",
       "      <td>-6.652185e-02</td>\n",
       "      <td>9.398760e-03</td>\n",
       "      <td>-1.337080e-02</td>\n",
       "      <td>5.763730</td>\n",
       "      <td>-2.541260e-01</td>\n",
       "      <td>8.566150e-03</td>\n",
       "      <td>-5.175865e-02</td>\n",
       "      <td>-2.955772e-01</td>\n",
       "      <td>-1.955858e-01</td>\n",
       "      <td>-1.918681e-01</td>\n",
       "      <td>-1.644871e-02</td>\n",
       "      <td>1.601343e-02</td>\n",
       "    </tr>\n",
       "    <tr>\n",
       "      <th>75%</th>\n",
       "      <td>7.085792e-01</td>\n",
       "      <td>1.103605e+00</td>\n",
       "      <td>6.987095e-01</td>\n",
       "      <td>7.299705e-01</td>\n",
       "      <td>5.875442e-01</td>\n",
       "      <td>7.024097e-01</td>\n",
       "      <td>6.728357e-01</td>\n",
       "      <td>6.640201e-01</td>\n",
       "      <td>6.670347e-01</td>\n",
       "      <td>7.603404</td>\n",
       "      <td>-2.541260e-01</td>\n",
       "      <td>8.107297e-01</td>\n",
       "      <td>6.329803e-01</td>\n",
       "      <td>3.274645e-01</td>\n",
       "      <td>7.160547e-01</td>\n",
       "      <td>7.535070e-01</td>\n",
       "      <td>7.077023e-01</td>\n",
       "      <td>7.440291e-01</td>\n",
       "    </tr>\n",
       "    <tr>\n",
       "      <th>max</th>\n",
       "      <td>2.465256e+00</td>\n",
       "      <td>4.391621e+00</td>\n",
       "      <td>2.890982e+00</td>\n",
       "      <td>2.483615e+00</td>\n",
       "      <td>2.956513e+00</td>\n",
       "      <td>3.042810e+00</td>\n",
       "      <td>3.154037e+00</td>\n",
       "      <td>5.440292e+00</td>\n",
       "      <td>3.461476e+00</td>\n",
       "      <td>14.709463</td>\n",
       "      <td>4.321989e+00</td>\n",
       "      <td>2.443003e+00</td>\n",
       "      <td>3.760984e+00</td>\n",
       "      <td>8.702351e+00</td>\n",
       "      <td>1.710428e+00</td>\n",
       "      <td>1.698787e+00</td>\n",
       "      <td>3.054866e+00</td>\n",
       "      <td>2.753135e+00</td>\n",
       "    </tr>\n",
       "  </tbody>\n",
       "</table>\n",
       "</div>"
      ],
      "text/plain": [
       "                 0             1             2             3             4   \\\n",
       "count  5.760000e+03  5.760000e+03  5.760000e+03  5.760000e+03  5.760000e+03   \n",
       "mean   1.019875e-13 -5.144712e-14  6.653925e-14  2.549689e-14  2.334629e-15   \n",
       "std    1.000000e+00  1.000000e+00  1.000000e+00  1.000000e+00  1.000000e+00   \n",
       "min   -2.255345e+00 -5.306764e+00 -2.846587e+00 -2.447008e+00 -3.818917e+00   \n",
       "25%   -8.027755e-01 -1.199461e+00 -6.693840e-01 -7.516859e-01 -6.222681e-01   \n",
       "50%    3.868283e-03 -1.540203e-01  5.390355e-02 -8.905258e-02  2.767230e-03   \n",
       "75%    7.085792e-01  1.103605e+00  6.987095e-01  7.299705e-01  5.875442e-01   \n",
       "max    2.465256e+00  4.391621e+00  2.890982e+00  2.483615e+00  2.956513e+00   \n",
       "\n",
       "                 5             6             7             8            9   \\\n",
       "count  5.760000e+03  5.760000e+03  5.760000e+03  5.760000e+03  5760.000000   \n",
       "mean  -6.727368e-14 -4.221841e-14  2.062856e-15  5.215490e-14     5.756380   \n",
       "std    1.000000e+00  1.000000e+00  1.000000e+00  1.000000e+00     2.725299   \n",
       "min   -4.363104e+00 -3.808196e+00 -3.063532e+00 -2.833784e+00     0.000000   \n",
       "25%   -6.602794e-01 -6.587790e-01 -6.921282e-01 -6.450364e-01     3.853588   \n",
       "50%   -2.466757e-02 -6.652185e-02  9.398760e-03 -1.337080e-02     5.763730   \n",
       "75%    7.024097e-01  6.728357e-01  6.640201e-01  6.670347e-01     7.603404   \n",
       "max    3.042810e+00  3.154037e+00  5.440292e+00  3.461476e+00    14.709463   \n",
       "\n",
       "                 10            11            12            13            14  \\\n",
       "count  5.760000e+03  5.760000e+03  5.760000e+03  5.760000e+03  5.760000e+03   \n",
       "mean  -1.659610e-15  6.245795e-14 -9.682569e-15 -1.537578e-14  1.616595e-14   \n",
       "std    1.000000e+00  1.000000e+00  1.000000e+00  1.000000e+00  1.000000e+00   \n",
       "min   -2.541260e-01 -2.286725e+00 -3.466795e+00 -7.641412e+00 -3.527271e+00   \n",
       "25%   -2.541260e-01 -8.022974e-01 -6.567335e-01 -8.957229e-01 -8.471015e-01   \n",
       "50%   -2.541260e-01  8.566150e-03 -5.175865e-02 -2.955772e-01 -1.955858e-01   \n",
       "75%   -2.541260e-01  8.107297e-01  6.329803e-01  3.274645e-01  7.160547e-01   \n",
       "max    4.321989e+00  2.443003e+00  3.760984e+00  8.702351e+00  1.710428e+00   \n",
       "\n",
       "                 15            16            17  \n",
       "count  5.760000e+03  5.760000e+03  5.760000e+03  \n",
       "mean  -8.086471e-15  3.354384e-14  3.181464e-15  \n",
       "std    1.000000e+00  1.000000e+00  1.000000e+00  \n",
       "min   -3.868786e+00 -3.965265e+00 -2.782619e+00  \n",
       "25%   -8.284860e-01 -7.175293e-01 -7.554874e-01  \n",
       "50%   -1.918681e-01 -1.644871e-02  1.601343e-02  \n",
       "75%    7.535070e-01  7.077023e-01  7.440291e-01  \n",
       "max    1.698787e+00  3.054866e+00  2.753135e+00  "
      ]
     },
     "execution_count": 15,
     "metadata": {},
     "output_type": "execute_result"
    }
   ],
   "source": [
    "all_train_data3.describe()"
   ]
  },
  {
   "cell_type": "markdown",
   "metadata": {},
   "source": [
    "- all_train_data1 : fix outlier \n",
    "- all_train_data2 : fix skew and kurt\n",
    "- all_train_data3 : 18 feats norm"
   ]
  },
  {
   "cell_type": "code",
   "execution_count": 16,
   "metadata": {
    "ExecuteTime": {
     "end_time": "2022-01-06T09:29:40.135960Z",
     "start_time": "2022-01-06T09:29:40.125960Z"
    },
    "scrolled": true
   },
   "outputs": [
    {
     "data": {
      "text/plain": [
       "9886"
      ]
     },
     "execution_count": 16,
     "metadata": {},
     "output_type": "execute_result"
    }
   ],
   "source": [
    "8897+989"
   ]
  },
  {
   "cell_type": "markdown",
   "metadata": {},
   "source": [
    "### just use original data to predict next pm2.5\n",
    "- use all_train_data1"
   ]
  },
  {
   "cell_type": "code",
   "execution_count": 17,
   "metadata": {
    "ExecuteTime": {
     "end_time": "2022-01-06T09:29:41.265025Z",
     "start_time": "2022-01-06T09:29:41.237023Z"
    },
    "collapsed": true
   },
   "outputs": [],
   "source": [
    "year_data3={}\n",
    "for m in range(12):\n",
    "    month_data3=np.empty((18,480))\n",
    "    month_data3[:,:]=all_train_data1.T.iloc[:,m*480:(m+1)*480]\n",
    "    year_data3[m]=month_data3"
   ]
  },
  {
   "cell_type": "markdown",
   "metadata": {
    "ExecuteTime": {
     "end_time": "2022-01-05T02:03:44.490791Z",
     "start_time": "2022-01-05T02:03:44.479791Z"
    }
   },
   "source": [
    "- x shape : 12 * 479 (480-1,since next pm2.5) , 17\n",
    "- y shape : t+1 pm2.5 ,12 * 479"
   ]
  },
  {
   "cell_type": "code",
   "execution_count": 18,
   "metadata": {
    "ExecuteTime": {
     "end_time": "2022-01-06T09:29:42.428091Z",
     "start_time": "2022-01-06T09:29:42.419091Z"
    },
    "collapsed": true
   },
   "outputs": [],
   "source": [
    "x=np.empty((12*479,17))\n",
    "y=np.empty((12*479,1))"
   ]
  },
  {
   "cell_type": "code",
   "execution_count": 19,
   "metadata": {
    "ExecuteTime": {
     "end_time": "2022-01-06T09:29:42.860116Z",
     "start_time": "2022-01-06T09:29:42.852115Z"
    }
   },
   "outputs": [
    {
     "data": {
      "text/plain": [
       "(18, 480)"
      ]
     },
     "execution_count": 19,
     "metadata": {},
     "output_type": "execute_result"
    }
   ],
   "source": [
    "year_data3[0].shape"
   ]
  },
  {
   "cell_type": "code",
   "execution_count": 20,
   "metadata": {
    "ExecuteTime": {
     "end_time": "2022-01-06T09:29:43.278140Z",
     "start_time": "2022-01-06T09:29:43.268139Z"
    }
   },
   "outputs": [
    {
     "data": {
      "text/plain": [
       "(480, 18)"
      ]
     },
     "execution_count": 20,
     "metadata": {},
     "output_type": "execute_result"
    }
   ],
   "source": [
    "year_data3[m].transpose().shape"
   ]
  },
  {
   "cell_type": "code",
   "execution_count": 21,
   "metadata": {
    "ExecuteTime": {
     "end_time": "2022-01-06T09:29:43.698164Z",
     "start_time": "2022-01-06T09:29:43.692163Z"
    }
   },
   "outputs": [
    {
     "data": {
      "text/plain": [
       "array([14.  ,  1.8 ,  0.51,  0.2 ,  0.9 , 16.  , 17.  , 16.  , 56.  ,\n",
       "        0.  , 77.  ,  1.8 ,  2.  , 37.  , 35.  ,  1.4 ,  0.5 ])"
      ]
     },
     "execution_count": 21,
     "metadata": {},
     "output_type": "execute_result"
    }
   ],
   "source": [
    "year_data3[0].transpose()[:479,[0,1,2,3,4,5,6,7,8,10,11,12,13,14,15,16,17]][0]"
   ]
  },
  {
   "cell_type": "code",
   "execution_count": 22,
   "metadata": {
    "ExecuteTime": {
     "end_time": "2022-01-06T09:29:44.235195Z",
     "start_time": "2022-01-06T09:29:44.220194Z"
    }
   },
   "outputs": [
    {
     "data": {
      "text/plain": [
       "array([[2.3e+01, 1.6e+00, 2.2e-01, 7.0e-02, 1.5e+00, 6.1e+00, 7.6e+00,\n",
       "        1.6e+01, 3.4e+01, 0.0e+00, 7.9e+01, 1.8e+00, 1.7e+00, 9.0e+01,\n",
       "        9.3e+01, 1.8e+00, 1.3e+00],\n",
       "       [2.3e+01, 1.7e+00, 2.0e-01, 7.0e-02, 1.3e+00, 6.1e+00, 7.4e+00,\n",
       "        1.8e+01, 1.9e+01, 0.0e+00, 7.8e+01, 1.6e+00, 1.7e+00, 4.9e+01,\n",
       "        5.0e+01, 2.1e+00, 9.0e-01],\n",
       "       [2.3e+01, 1.7e+00, 1.8e-01, 3.0e-02, 1.4e+00, 4.6e+00, 6.0e+00,\n",
       "        2.7e+01, 2.4e+01, 0.0e+00, 8.1e+01, 2.5e+00, 1.7e+00, 8.2e+01,\n",
       "        9.9e+01, 3.2e+00, 1.0e+00],\n",
       "       [2.2e+01, 1.7e+00, 3.0e-01, 6.0e-02, 1.1e+00, 6.0e+00, 7.0e+00,\n",
       "        3.3e+01, 2.9e+01, 0.0e+00, 8.2e+01, 3.2e+00, 1.7e+00, 8.5e+01,\n",
       "        7.1e+01, 4.0e+00, 2.2e+00],\n",
       "       [2.1e+01, 1.7e+00, 4.0e-01, 5.0e-02, 9.0e-01, 6.3e+00, 7.1e+00,\n",
       "        2.2e+01, 3.5e+01, 0.0e+00, 7.9e+01, 1.5e+00, 1.8e+00, 5.8e+01,\n",
       "        5.8e+01, 3.3e+00, 3.7e+00]])"
      ]
     },
     "execution_count": 22,
     "metadata": {},
     "output_type": "execute_result"
    }
   ],
   "source": [
    "year_data3[m].transpose()[:5,[0,1,2,3,4,5,6,7,8,10,11,12,13,14,15,16,17]]"
   ]
  },
  {
   "cell_type": "code",
   "execution_count": 23,
   "metadata": {
    "ExecuteTime": {
     "end_time": "2022-01-06T09:29:44.705221Z",
     "start_time": "2022-01-06T09:29:44.693221Z"
    }
   },
   "outputs": [
    {
     "data": {
      "text/plain": [
       "array([39., 36., 35., 31., 28.])"
      ]
     },
     "execution_count": 23,
     "metadata": {},
     "output_type": "execute_result"
    }
   ],
   "source": [
    "year_data3[0].transpose()[1:,9][:5]"
   ]
  },
  {
   "cell_type": "code",
   "execution_count": 24,
   "metadata": {
    "ExecuteTime": {
     "end_time": "2022-01-06T09:29:45.276254Z",
     "start_time": "2022-01-06T09:29:45.260253Z"
    },
    "collapsed": true
   },
   "outputs": [],
   "source": [
    "for m in range(12):\n",
    "    x[m*479:(m+1)*479,:]=year_data3[m].transpose()[:479,[0,1,2,3,4,5,6,7,8,10,11,12,13,14,15,16,17]]\n",
    "    y[m*479:(m+1)*479,:]=year_data3[m].transpose()[1:,9:10]"
   ]
  },
  {
   "cell_type": "code",
   "execution_count": 25,
   "metadata": {
    "ExecuteTime": {
     "end_time": "2022-01-06T09:29:45.724280Z",
     "start_time": "2022-01-06T09:29:45.712279Z"
    }
   },
   "outputs": [
    {
     "data": {
      "text/plain": [
       "array([[ 14.  ,   1.8 ,   0.51,   0.2 ,   0.9 ,  16.  ,  17.  ,  16.  ,\n",
       "         56.  ,   0.  ,  77.  ,   1.8 ,   2.  ,  37.  ,  35.  ,   1.4 ,\n",
       "          0.5 ],\n",
       "       [ 14.  ,   1.8 ,   0.41,   0.15,   0.6 ,   9.2 ,   9.8 ,  30.  ,\n",
       "         50.  ,   0.  ,  68.  ,   2.  ,   2.  ,  80.  ,  79.  ,   1.8 ,\n",
       "          0.9 ],\n",
       "       [ 14.  ,   1.8 ,   0.39,   0.13,   0.5 ,   8.2 ,   8.7 ,  27.  ,\n",
       "         48.  ,   0.  ,  67.  ,   1.7 ,   2.  ,  57.  ,   2.4 ,   1.  ,\n",
       "          0.6 ],\n",
       "       [ 13.  ,   1.8 ,   0.37,   0.12,   1.7 ,   6.9 ,   8.6 ,  23.  ,\n",
       "         35.  ,   0.  ,  74.  ,   1.6 ,   1.9 ,  76.  ,  55.  ,   0.6 ,\n",
       "          0.3 ],\n",
       "       [ 12.  ,   1.8 ,   0.35,   0.11,   1.8 ,   6.8 ,   8.5 ,  24.  ,\n",
       "         25.  ,   0.  ,  72.  ,   1.9 ,   1.9 , 110.  ,  94.  ,   1.7 ,\n",
       "          0.6 ]])"
      ]
     },
     "execution_count": 25,
     "metadata": {},
     "output_type": "execute_result"
    }
   ],
   "source": [
    "x[:5]"
   ]
  },
  {
   "cell_type": "code",
   "execution_count": 26,
   "metadata": {
    "ExecuteTime": {
     "end_time": "2022-01-06T09:29:46.191306Z",
     "start_time": "2022-01-06T09:29:46.180306Z"
    }
   },
   "outputs": [
    {
     "data": {
      "text/plain": [
       "array([[39.],\n",
       "       [36.],\n",
       "       [35.],\n",
       "       [31.],\n",
       "       [28.]])"
      ]
     },
     "execution_count": 26,
     "metadata": {},
     "output_type": "execute_result"
    }
   ],
   "source": [
    "y[:5]"
   ]
  },
  {
   "cell_type": "code",
   "execution_count": null,
   "metadata": {
    "collapsed": true
   },
   "outputs": [],
   "source": []
  },
  {
   "cell_type": "code",
   "execution_count": 27,
   "metadata": {
    "ExecuteTime": {
     "end_time": "2022-01-06T09:29:48.715451Z",
     "start_time": "2022-01-06T09:29:47.268368Z"
    },
    "collapsed": true
   },
   "outputs": [],
   "source": [
    "from sklearn.linear_model import Lasso,ElasticNet,Ridge\n",
    "from sklearn.ensemble import RandomForestRegressor,GradientBoostingRegressor\n",
    "from sklearn.pipeline import make_pipeline\n",
    "from sklearn.preprocessing import RobustScaler\n",
    "from sklearn.model_selection import train_test_split,KFold,cross_val_score\n",
    "from sklearn.metrics import mean_squared_error\n",
    "import xgboost as xgb\n",
    "import lightgbm as lgb"
   ]
  },
  {
   "cell_type": "code",
   "execution_count": 28,
   "metadata": {
    "ExecuteTime": {
     "end_time": "2022-01-06T09:29:51.811628Z",
     "start_time": "2022-01-06T09:29:48.717451Z"
    }
   },
   "outputs": [
    {
     "name": "stdout",
     "output_type": "stream",
     "text": [
      "----------------------------------- 0 ----------------------------------------\n"
     ]
    },
    {
     "name": "stderr",
     "output_type": "stream",
     "text": [
      "D:\\ProgramData\\Anaconda3\\lib\\site-packages\\sklearn\\linear_model\\coordinate_descent.py:491: ConvergenceWarning: Objective did not converge. You might want to increase the number of iterations. Fitting data with very small alpha may cause precision problems.\n",
      "  ConvergenceWarning)\n",
      "D:\\ProgramData\\Anaconda3\\lib\\site-packages\\sklearn\\linear_model\\coordinate_descent.py:491: ConvergenceWarning: Objective did not converge. You might want to increase the number of iterations. Fitting data with very small alpha may cause precision problems.\n",
      "  ConvergenceWarning)\n",
      "D:\\ProgramData\\Anaconda3\\lib\\site-packages\\sklearn\\linear_model\\coordinate_descent.py:491: ConvergenceWarning: Objective did not converge. You might want to increase the number of iterations. Fitting data with very small alpha may cause precision problems.\n",
      "  ConvergenceWarning)\n",
      "D:\\ProgramData\\Anaconda3\\lib\\site-packages\\sklearn\\linear_model\\coordinate_descent.py:491: ConvergenceWarning: Objective did not converge. You might want to increase the number of iterations. Fitting data with very small alpha may cause precision problems.\n",
      "  ConvergenceWarning)\n"
     ]
    },
    {
     "name": "stdout",
     "output_type": "stream",
     "text": [
      "\n",
      "Lasso score: 10.4385 (1.4052)\n",
      "\n",
      "----------------------------------- 1 ----------------------------------------\n"
     ]
    },
    {
     "name": "stderr",
     "output_type": "stream",
     "text": [
      "D:\\ProgramData\\Anaconda3\\lib\\site-packages\\sklearn\\linear_model\\coordinate_descent.py:491: ConvergenceWarning: Objective did not converge. You might want to increase the number of iterations. Fitting data with very small alpha may cause precision problems.\n",
      "  ConvergenceWarning)\n",
      "D:\\ProgramData\\Anaconda3\\lib\\site-packages\\sklearn\\linear_model\\coordinate_descent.py:491: ConvergenceWarning: Objective did not converge. You might want to increase the number of iterations. Fitting data with very small alpha may cause precision problems.\n",
      "  ConvergenceWarning)\n",
      "D:\\ProgramData\\Anaconda3\\lib\\site-packages\\sklearn\\linear_model\\coordinate_descent.py:491: ConvergenceWarning: Objective did not converge. You might want to increase the number of iterations. Fitting data with very small alpha may cause precision problems.\n",
      "  ConvergenceWarning)\n"
     ]
    },
    {
     "name": "stdout",
     "output_type": "stream",
     "text": [
      "\n",
      "Lasso score: 10.4385 (1.4052)\n",
      "\n",
      "----------------------------------- 2 ----------------------------------------\n"
     ]
    },
    {
     "name": "stderr",
     "output_type": "stream",
     "text": [
      "D:\\ProgramData\\Anaconda3\\lib\\site-packages\\sklearn\\linear_model\\coordinate_descent.py:491: ConvergenceWarning: Objective did not converge. You might want to increase the number of iterations. Fitting data with very small alpha may cause precision problems.\n",
      "  ConvergenceWarning)\n",
      "D:\\ProgramData\\Anaconda3\\lib\\site-packages\\sklearn\\linear_model\\coordinate_descent.py:491: ConvergenceWarning: Objective did not converge. You might want to increase the number of iterations. Fitting data with very small alpha may cause precision problems.\n",
      "  ConvergenceWarning)\n",
      "D:\\ProgramData\\Anaconda3\\lib\\site-packages\\sklearn\\linear_model\\coordinate_descent.py:491: ConvergenceWarning: Objective did not converge. You might want to increase the number of iterations. Fitting data with very small alpha may cause precision problems.\n",
      "  ConvergenceWarning)\n"
     ]
    },
    {
     "name": "stdout",
     "output_type": "stream",
     "text": [
      "\n",
      "Lasso score: 10.4385 (1.4052)\n",
      "\n",
      "----------------------------------- 3 ----------------------------------------\n"
     ]
    },
    {
     "name": "stderr",
     "output_type": "stream",
     "text": [
      "D:\\ProgramData\\Anaconda3\\lib\\site-packages\\sklearn\\linear_model\\coordinate_descent.py:491: ConvergenceWarning: Objective did not converge. You might want to increase the number of iterations. Fitting data with very small alpha may cause precision problems.\n",
      "  ConvergenceWarning)\n",
      "D:\\ProgramData\\Anaconda3\\lib\\site-packages\\sklearn\\linear_model\\coordinate_descent.py:491: ConvergenceWarning: Objective did not converge. You might want to increase the number of iterations. Fitting data with very small alpha may cause precision problems.\n",
      "  ConvergenceWarning)\n",
      "D:\\ProgramData\\Anaconda3\\lib\\site-packages\\sklearn\\linear_model\\coordinate_descent.py:491: ConvergenceWarning: Objective did not converge. You might want to increase the number of iterations. Fitting data with very small alpha may cause precision problems.\n",
      "  ConvergenceWarning)\n"
     ]
    },
    {
     "name": "stdout",
     "output_type": "stream",
     "text": [
      "\n",
      "Lasso score: 10.4385 (1.4052)\n",
      "\n",
      "----------------------------------- 4 ----------------------------------------\n"
     ]
    },
    {
     "name": "stderr",
     "output_type": "stream",
     "text": [
      "D:\\ProgramData\\Anaconda3\\lib\\site-packages\\sklearn\\linear_model\\coordinate_descent.py:491: ConvergenceWarning: Objective did not converge. You might want to increase the number of iterations. Fitting data with very small alpha may cause precision problems.\n",
      "  ConvergenceWarning)\n",
      "D:\\ProgramData\\Anaconda3\\lib\\site-packages\\sklearn\\linear_model\\coordinate_descent.py:491: ConvergenceWarning: Objective did not converge. You might want to increase the number of iterations. Fitting data with very small alpha may cause precision problems.\n",
      "  ConvergenceWarning)\n",
      "D:\\ProgramData\\Anaconda3\\lib\\site-packages\\sklearn\\linear_model\\coordinate_descent.py:491: ConvergenceWarning: Objective did not converge. You might want to increase the number of iterations. Fitting data with very small alpha may cause precision problems.\n",
      "  ConvergenceWarning)\n"
     ]
    },
    {
     "name": "stdout",
     "output_type": "stream",
     "text": [
      "\n",
      "Lasso score: 10.4385 (1.4052)\n",
      "\n",
      "----------------------------------- 5 ----------------------------------------\n"
     ]
    },
    {
     "name": "stderr",
     "output_type": "stream",
     "text": [
      "D:\\ProgramData\\Anaconda3\\lib\\site-packages\\sklearn\\linear_model\\coordinate_descent.py:491: ConvergenceWarning: Objective did not converge. You might want to increase the number of iterations. Fitting data with very small alpha may cause precision problems.\n",
      "  ConvergenceWarning)\n",
      "D:\\ProgramData\\Anaconda3\\lib\\site-packages\\sklearn\\linear_model\\coordinate_descent.py:491: ConvergenceWarning: Objective did not converge. You might want to increase the number of iterations. Fitting data with very small alpha may cause precision problems.\n",
      "  ConvergenceWarning)\n",
      "D:\\ProgramData\\Anaconda3\\lib\\site-packages\\sklearn\\linear_model\\coordinate_descent.py:491: ConvergenceWarning: Objective did not converge. You might want to increase the number of iterations. Fitting data with very small alpha may cause precision problems.\n",
      "  ConvergenceWarning)\n"
     ]
    },
    {
     "name": "stdout",
     "output_type": "stream",
     "text": [
      "\n",
      "Lasso score: 10.4385 (1.4052)\n",
      "\n",
      "----------------------------------- 6 ----------------------------------------\n"
     ]
    },
    {
     "name": "stderr",
     "output_type": "stream",
     "text": [
      "D:\\ProgramData\\Anaconda3\\lib\\site-packages\\sklearn\\linear_model\\coordinate_descent.py:491: ConvergenceWarning: Objective did not converge. You might want to increase the number of iterations. Fitting data with very small alpha may cause precision problems.\n",
      "  ConvergenceWarning)\n",
      "D:\\ProgramData\\Anaconda3\\lib\\site-packages\\sklearn\\linear_model\\coordinate_descent.py:491: ConvergenceWarning: Objective did not converge. You might want to increase the number of iterations. Fitting data with very small alpha may cause precision problems.\n",
      "  ConvergenceWarning)\n",
      "D:\\ProgramData\\Anaconda3\\lib\\site-packages\\sklearn\\linear_model\\coordinate_descent.py:491: ConvergenceWarning: Objective did not converge. You might want to increase the number of iterations. Fitting data with very small alpha may cause precision problems.\n",
      "  ConvergenceWarning)\n"
     ]
    },
    {
     "name": "stdout",
     "output_type": "stream",
     "text": [
      "\n",
      "Lasso score: 10.4385 (1.4052)\n",
      "\n",
      "----------------------------------- 7 ----------------------------------------\n"
     ]
    },
    {
     "name": "stderr",
     "output_type": "stream",
     "text": [
      "D:\\ProgramData\\Anaconda3\\lib\\site-packages\\sklearn\\linear_model\\coordinate_descent.py:491: ConvergenceWarning: Objective did not converge. You might want to increase the number of iterations. Fitting data with very small alpha may cause precision problems.\n",
      "  ConvergenceWarning)\n",
      "D:\\ProgramData\\Anaconda3\\lib\\site-packages\\sklearn\\linear_model\\coordinate_descent.py:491: ConvergenceWarning: Objective did not converge. You might want to increase the number of iterations. Fitting data with very small alpha may cause precision problems.\n",
      "  ConvergenceWarning)\n",
      "D:\\ProgramData\\Anaconda3\\lib\\site-packages\\sklearn\\linear_model\\coordinate_descent.py:491: ConvergenceWarning: Objective did not converge. You might want to increase the number of iterations. Fitting data with very small alpha may cause precision problems.\n",
      "  ConvergenceWarning)\n"
     ]
    },
    {
     "name": "stdout",
     "output_type": "stream",
     "text": [
      "\n",
      "Lasso score: 10.4385 (1.4052)\n",
      "\n",
      "----------------------------------- 8 ----------------------------------------\n",
      "\n",
      "Lasso score: 10.4385 (1.4052)\n",
      "\n"
     ]
    },
    {
     "name": "stderr",
     "output_type": "stream",
     "text": [
      "D:\\ProgramData\\Anaconda3\\lib\\site-packages\\sklearn\\linear_model\\coordinate_descent.py:491: ConvergenceWarning: Objective did not converge. You might want to increase the number of iterations. Fitting data with very small alpha may cause precision problems.\n",
      "  ConvergenceWarning)\n",
      "D:\\ProgramData\\Anaconda3\\lib\\site-packages\\sklearn\\linear_model\\coordinate_descent.py:491: ConvergenceWarning: Objective did not converge. You might want to increase the number of iterations. Fitting data with very small alpha may cause precision problems.\n",
      "  ConvergenceWarning)\n"
     ]
    }
   ],
   "source": [
    "n_folds=5\n",
    "for i in range(9):\n",
    "    print('-----------------------------------',i,'----------------------------------------')\n",
    "    lasso=make_pipeline(RobustScaler(),Lasso(alpha=0.0005,random_state=1))\n",
    "    kf=KFold(n_folds,shuffle=True,random_state=42).get_n_splits(x)\n",
    "    rmse=np.sqrt(-cross_val_score(lasso,x,y,scoring='neg_mean_squared_error',cv=kf))\n",
    "    score=rmse\n",
    "    print(\"\\nLasso score: {:.4f} ({:.4f})\\n\".format(score.mean(), score.std()))\n"
   ]
  },
  {
   "cell_type": "code",
   "execution_count": 29,
   "metadata": {
    "ExecuteTime": {
     "end_time": "2022-01-06T09:32:56.924216Z",
     "start_time": "2022-01-06T09:32:56.909215Z"
    },
    "collapsed": true
   },
   "outputs": [],
   "source": [
    "n_folds=5\n",
    "\n",
    "def rmlse_cv0(model):\n",
    "    kf=KFold(n_folds,shuffle=True,random_state=42).get_n_splits(x[0])\n",
    "    rmse=np.sqrt(-cross_val_score(model,x[0],y[0],scoring='neg_mean_squared_error',cv=kf))\n",
    "    return rmse"
   ]
  },
  {
   "cell_type": "code",
   "execution_count": 30,
   "metadata": {
    "ExecuteTime": {
     "end_time": "2022-01-06T09:32:57.752263Z",
     "start_time": "2022-01-06T09:32:57.501249Z"
    }
   },
   "outputs": [
    {
     "ename": "ValueError",
     "evalue": "Found input variables with inconsistent numbers of samples: [17, 1]",
     "output_type": "error",
     "traceback": [
      "\u001b[1;31m---------------------------------------------------------------------------\u001b[0m",
      "\u001b[1;31mValueError\u001b[0m                                Traceback (most recent call last)",
      "\u001b[1;32m<ipython-input-30-a23087f241c6>\u001b[0m in \u001b[0;36m<module>\u001b[1;34m()\u001b[0m\n\u001b[0;32m      1\u001b[0m \u001b[0mlasso\u001b[0m\u001b[1;33m=\u001b[0m\u001b[0mmake_pipeline\u001b[0m\u001b[1;33m(\u001b[0m\u001b[0mRobustScaler\u001b[0m\u001b[1;33m(\u001b[0m\u001b[1;33m)\u001b[0m\u001b[1;33m,\u001b[0m\u001b[0mLasso\u001b[0m\u001b[1;33m(\u001b[0m\u001b[0malpha\u001b[0m\u001b[1;33m=\u001b[0m\u001b[1;36m0.0005\u001b[0m\u001b[1;33m,\u001b[0m\u001b[0mrandom_state\u001b[0m\u001b[1;33m=\u001b[0m\u001b[1;36m1\u001b[0m\u001b[1;33m)\u001b[0m\u001b[1;33m)\u001b[0m\u001b[1;33m\u001b[0m\u001b[0m\n\u001b[1;32m----> 2\u001b[1;33m \u001b[0mscore\u001b[0m\u001b[1;33m=\u001b[0m\u001b[0mrmlse_cv0\u001b[0m\u001b[1;33m(\u001b[0m\u001b[0mlasso\u001b[0m\u001b[1;33m)\u001b[0m\u001b[1;33m\u001b[0m\u001b[0m\n\u001b[0m\u001b[0;32m      3\u001b[0m \u001b[0mprint\u001b[0m\u001b[1;33m(\u001b[0m\u001b[1;34m\"\\nLasso score: {:.4f} ({:.4f})\\n\"\u001b[0m\u001b[1;33m.\u001b[0m\u001b[0mformat\u001b[0m\u001b[1;33m(\u001b[0m\u001b[0mscore\u001b[0m\u001b[1;33m.\u001b[0m\u001b[0mmean\u001b[0m\u001b[1;33m(\u001b[0m\u001b[1;33m)\u001b[0m\u001b[1;33m,\u001b[0m \u001b[0mscore\u001b[0m\u001b[1;33m.\u001b[0m\u001b[0mstd\u001b[0m\u001b[1;33m(\u001b[0m\u001b[1;33m)\u001b[0m\u001b[1;33m)\u001b[0m\u001b[1;33m)\u001b[0m\u001b[1;33m\u001b[0m\u001b[0m\n",
      "\u001b[1;32m<ipython-input-29-800adf3d3b88>\u001b[0m in \u001b[0;36mrmlse_cv0\u001b[1;34m(model)\u001b[0m\n\u001b[0;32m      3\u001b[0m \u001b[1;32mdef\u001b[0m \u001b[0mrmlse_cv0\u001b[0m\u001b[1;33m(\u001b[0m\u001b[0mmodel\u001b[0m\u001b[1;33m)\u001b[0m\u001b[1;33m:\u001b[0m\u001b[1;33m\u001b[0m\u001b[0m\n\u001b[0;32m      4\u001b[0m     \u001b[0mkf\u001b[0m\u001b[1;33m=\u001b[0m\u001b[0mKFold\u001b[0m\u001b[1;33m(\u001b[0m\u001b[0mn_folds\u001b[0m\u001b[1;33m,\u001b[0m\u001b[0mshuffle\u001b[0m\u001b[1;33m=\u001b[0m\u001b[1;32mTrue\u001b[0m\u001b[1;33m,\u001b[0m\u001b[0mrandom_state\u001b[0m\u001b[1;33m=\u001b[0m\u001b[1;36m42\u001b[0m\u001b[1;33m)\u001b[0m\u001b[1;33m.\u001b[0m\u001b[0mget_n_splits\u001b[0m\u001b[1;33m(\u001b[0m\u001b[0mx\u001b[0m\u001b[1;33m[\u001b[0m\u001b[1;36m0\u001b[0m\u001b[1;33m]\u001b[0m\u001b[1;33m)\u001b[0m\u001b[1;33m\u001b[0m\u001b[0m\n\u001b[1;32m----> 5\u001b[1;33m     \u001b[0mrmse\u001b[0m\u001b[1;33m=\u001b[0m\u001b[0mnp\u001b[0m\u001b[1;33m.\u001b[0m\u001b[0msqrt\u001b[0m\u001b[1;33m(\u001b[0m\u001b[1;33m-\u001b[0m\u001b[0mcross_val_score\u001b[0m\u001b[1;33m(\u001b[0m\u001b[0mmodel\u001b[0m\u001b[1;33m,\u001b[0m\u001b[0mx\u001b[0m\u001b[1;33m[\u001b[0m\u001b[1;36m0\u001b[0m\u001b[1;33m]\u001b[0m\u001b[1;33m,\u001b[0m\u001b[0my\u001b[0m\u001b[1;33m[\u001b[0m\u001b[1;36m0\u001b[0m\u001b[1;33m]\u001b[0m\u001b[1;33m,\u001b[0m\u001b[0mscoring\u001b[0m\u001b[1;33m=\u001b[0m\u001b[1;34m'neg_mean_squared_error'\u001b[0m\u001b[1;33m,\u001b[0m\u001b[0mcv\u001b[0m\u001b[1;33m=\u001b[0m\u001b[0mkf\u001b[0m\u001b[1;33m)\u001b[0m\u001b[1;33m)\u001b[0m\u001b[1;33m\u001b[0m\u001b[0m\n\u001b[0m\u001b[0;32m      6\u001b[0m     \u001b[1;32mreturn\u001b[0m \u001b[0mrmse\u001b[0m\u001b[1;33m\u001b[0m\u001b[0m\n",
      "\u001b[1;32mD:\\ProgramData\\Anaconda3\\lib\\site-packages\\sklearn\\model_selection\\_validation.py\u001b[0m in \u001b[0;36mcross_val_score\u001b[1;34m(estimator, X, y, groups, scoring, cv, n_jobs, verbose, fit_params, pre_dispatch)\u001b[0m\n\u001b[0;32m    340\u001b[0m                                 \u001b[0mn_jobs\u001b[0m\u001b[1;33m=\u001b[0m\u001b[0mn_jobs\u001b[0m\u001b[1;33m,\u001b[0m \u001b[0mverbose\u001b[0m\u001b[1;33m=\u001b[0m\u001b[0mverbose\u001b[0m\u001b[1;33m,\u001b[0m\u001b[1;33m\u001b[0m\u001b[0m\n\u001b[0;32m    341\u001b[0m                                 \u001b[0mfit_params\u001b[0m\u001b[1;33m=\u001b[0m\u001b[0mfit_params\u001b[0m\u001b[1;33m,\u001b[0m\u001b[1;33m\u001b[0m\u001b[0m\n\u001b[1;32m--> 342\u001b[1;33m                                 pre_dispatch=pre_dispatch)\n\u001b[0m\u001b[0;32m    343\u001b[0m     \u001b[1;32mreturn\u001b[0m \u001b[0mcv_results\u001b[0m\u001b[1;33m[\u001b[0m\u001b[1;34m'test_score'\u001b[0m\u001b[1;33m]\u001b[0m\u001b[1;33m\u001b[0m\u001b[0m\n\u001b[0;32m    344\u001b[0m \u001b[1;33m\u001b[0m\u001b[0m\n",
      "\u001b[1;32mD:\\ProgramData\\Anaconda3\\lib\\site-packages\\sklearn\\model_selection\\_validation.py\u001b[0m in \u001b[0;36mcross_validate\u001b[1;34m(estimator, X, y, groups, scoring, cv, n_jobs, verbose, fit_params, pre_dispatch, return_train_score)\u001b[0m\n\u001b[0;32m    190\u001b[0m \u001b[1;33m\u001b[0m\u001b[0m\n\u001b[0;32m    191\u001b[0m     \"\"\"\n\u001b[1;32m--> 192\u001b[1;33m     \u001b[0mX\u001b[0m\u001b[1;33m,\u001b[0m \u001b[0my\u001b[0m\u001b[1;33m,\u001b[0m \u001b[0mgroups\u001b[0m \u001b[1;33m=\u001b[0m \u001b[0mindexable\u001b[0m\u001b[1;33m(\u001b[0m\u001b[0mX\u001b[0m\u001b[1;33m,\u001b[0m \u001b[0my\u001b[0m\u001b[1;33m,\u001b[0m \u001b[0mgroups\u001b[0m\u001b[1;33m)\u001b[0m\u001b[1;33m\u001b[0m\u001b[0m\n\u001b[0m\u001b[0;32m    193\u001b[0m \u001b[1;33m\u001b[0m\u001b[0m\n\u001b[0;32m    194\u001b[0m     \u001b[0mcv\u001b[0m \u001b[1;33m=\u001b[0m \u001b[0mcheck_cv\u001b[0m\u001b[1;33m(\u001b[0m\u001b[0mcv\u001b[0m\u001b[1;33m,\u001b[0m \u001b[0my\u001b[0m\u001b[1;33m,\u001b[0m \u001b[0mclassifier\u001b[0m\u001b[1;33m=\u001b[0m\u001b[0mis_classifier\u001b[0m\u001b[1;33m(\u001b[0m\u001b[0mestimator\u001b[0m\u001b[1;33m)\u001b[0m\u001b[1;33m)\u001b[0m\u001b[1;33m\u001b[0m\u001b[0m\n",
      "\u001b[1;32mD:\\ProgramData\\Anaconda3\\lib\\site-packages\\sklearn\\utils\\validation.py\u001b[0m in \u001b[0;36mindexable\u001b[1;34m(*iterables)\u001b[0m\n\u001b[0;32m    227\u001b[0m         \u001b[1;32melse\u001b[0m\u001b[1;33m:\u001b[0m\u001b[1;33m\u001b[0m\u001b[0m\n\u001b[0;32m    228\u001b[0m             \u001b[0mresult\u001b[0m\u001b[1;33m.\u001b[0m\u001b[0mappend\u001b[0m\u001b[1;33m(\u001b[0m\u001b[0mnp\u001b[0m\u001b[1;33m.\u001b[0m\u001b[0marray\u001b[0m\u001b[1;33m(\u001b[0m\u001b[0mX\u001b[0m\u001b[1;33m)\u001b[0m\u001b[1;33m)\u001b[0m\u001b[1;33m\u001b[0m\u001b[0m\n\u001b[1;32m--> 229\u001b[1;33m     \u001b[0mcheck_consistent_length\u001b[0m\u001b[1;33m(\u001b[0m\u001b[1;33m*\u001b[0m\u001b[0mresult\u001b[0m\u001b[1;33m)\u001b[0m\u001b[1;33m\u001b[0m\u001b[0m\n\u001b[0m\u001b[0;32m    230\u001b[0m     \u001b[1;32mreturn\u001b[0m \u001b[0mresult\u001b[0m\u001b[1;33m\u001b[0m\u001b[0m\n\u001b[0;32m    231\u001b[0m \u001b[1;33m\u001b[0m\u001b[0m\n",
      "\u001b[1;32mD:\\ProgramData\\Anaconda3\\lib\\site-packages\\sklearn\\utils\\validation.py\u001b[0m in \u001b[0;36mcheck_consistent_length\u001b[1;34m(*arrays)\u001b[0m\n\u001b[0;32m    202\u001b[0m     \u001b[1;32mif\u001b[0m \u001b[0mlen\u001b[0m\u001b[1;33m(\u001b[0m\u001b[0muniques\u001b[0m\u001b[1;33m)\u001b[0m \u001b[1;33m>\u001b[0m \u001b[1;36m1\u001b[0m\u001b[1;33m:\u001b[0m\u001b[1;33m\u001b[0m\u001b[0m\n\u001b[0;32m    203\u001b[0m         raise ValueError(\"Found input variables with inconsistent numbers of\"\n\u001b[1;32m--> 204\u001b[1;33m                          \" samples: %r\" % [int(l) for l in lengths])\n\u001b[0m\u001b[0;32m    205\u001b[0m \u001b[1;33m\u001b[0m\u001b[0m\n\u001b[0;32m    206\u001b[0m \u001b[1;33m\u001b[0m\u001b[0m\n",
      "\u001b[1;31mValueError\u001b[0m: Found input variables with inconsistent numbers of samples: [17, 1]"
     ]
    }
   ],
   "source": [
    "lasso=make_pipeline(RobustScaler(),Lasso(alpha=0.0005,random_state=1))\n",
    "score=rmlse_cv0(lasso)\n",
    "print(\"\\nLasso score: {:.4f} ({:.4f})\\n\".format(score.mean(), score.std()))"
   ]
  },
  {
   "cell_type": "code",
   "execution_count": null,
   "metadata": {
    "collapsed": true
   },
   "outputs": [],
   "source": [
    "year_data3={}\n",
    "for m in range(12):\n",
    "    month_data3=np.empty((18,480))\n",
    "    month_data3[:,:]=all_train_data1.T.iloc[:,m*480:(m+1)*480]\n",
    "    year_data3[m]=month_data3"
   ]
  },
  {
   "cell_type": "code",
   "execution_count": null,
   "metadata": {
    "collapsed": true
   },
   "outputs": [],
   "source": []
  },
  {
   "cell_type": "code",
   "execution_count": null,
   "metadata": {
    "collapsed": true
   },
   "outputs": [],
   "source": []
  },
  {
   "cell_type": "code",
   "execution_count": null,
   "metadata": {
    "collapsed": true
   },
   "outputs": [],
   "source": []
  }
 ],
 "metadata": {
  "kernelspec": {
   "display_name": "Python 3",
   "language": "python",
   "name": "python3"
  },
  "language_info": {
   "codemirror_mode": {
    "name": "ipython",
    "version": 3
   },
   "file_extension": ".py",
   "mimetype": "text/x-python",
   "name": "python",
   "nbconvert_exporter": "python",
   "pygments_lexer": "ipython3",
   "version": "3.6.3"
  }
 },
 "nbformat": 4,
 "nbformat_minor": 2
}
