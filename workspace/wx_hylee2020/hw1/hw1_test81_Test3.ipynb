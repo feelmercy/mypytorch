{
 "cells": [
  {
   "cell_type": "code",
   "execution_count": 2,
   "metadata": {
    "ExecuteTime": {
     "end_time": "2022-01-13T07:34:46.108719Z",
     "start_time": "2022-01-13T07:34:46.065717Z"
    }
   },
   "outputs": [
    {
     "name": "stdout",
     "output_type": "stream",
     "text": [
      "Using matplotlib backend: Qt5Agg\n"
     ]
    }
   ],
   "source": [
    "import numpy as np\n",
    "import torch \n",
    "import pandas as pd\n",
    "import torchvision\n",
    "from torch import optim,nn\n",
    "import seaborn as sns\n",
    "from scipy import stats\n",
    "from scipy.stats import norm,skew,kurtosis\n",
    "import matplotlib.pyplot as plt\n",
    "%matplotlib auto"
   ]
  },
  {
   "cell_type": "code",
   "execution_count": 3,
   "metadata": {
    "ExecuteTime": {
     "end_time": "2022-01-13T07:35:05.903851Z",
     "start_time": "2022-01-13T07:35:05.840848Z"
    },
    "collapsed": true
   },
   "outputs": [],
   "source": [
    "train_data=pd.read_csv(r'F:\\study\\ml\\HonyiLee2020\\hw1\\data\\train.csv',encoding='big5')\n",
    "test_data=pd.read_csv(r'F:\\study\\ml\\HonyiLee2020\\hw1\\data\\test.csv',encoding='big5',header=None)"
   ]
  },
  {
   "cell_type": "code",
   "execution_count": 4,
   "metadata": {
    "ExecuteTime": {
     "end_time": "2022-01-13T07:35:14.844363Z",
     "start_time": "2022-01-13T07:35:14.833362Z"
    }
   },
   "outputs": [
    {
     "name": "stdout",
     "output_type": "stream",
     "text": [
      "train_data shape:  (4320, 27)\n",
      "test_data shape:  (4320, 11)\n"
     ]
    }
   ],
   "source": [
    "print('train_data shape: ',train_data.shape)\n",
    "print('test_data shape: ',test_data.shape)"
   ]
  },
  {
   "cell_type": "code",
   "execution_count": 5,
   "metadata": {
    "ExecuteTime": {
     "end_time": "2022-01-13T07:35:15.727413Z",
     "start_time": "2022-01-13T07:35:15.695411Z"
    },
    "collapsed": true
   },
   "outputs": [],
   "source": [
    "train_data1=train_data.replace('NR',0)\n",
    "train_data1=train_data1.iloc[:,3:]"
   ]
  },
  {
   "cell_type": "code",
   "execution_count": 6,
   "metadata": {
    "ExecuteTime": {
     "end_time": "2022-01-13T07:35:18.699583Z",
     "start_time": "2022-01-13T07:35:18.624579Z"
    },
    "collapsed": true
   },
   "outputs": [],
   "source": [
    "year_data={}\n",
    "for m in range(12):\n",
    "    month_data=np.empty((18,20*24))\n",
    "    for d in range(20):\n",
    "        month_data[:,d*24:(d+1)*24]=train_data1.iloc[m*20*18+d*18:m*20*18+(d+1)*18,:]\n",
    "    year_data[m]=month_data"
   ]
  },
  {
   "cell_type": "code",
   "execution_count": 7,
   "metadata": {
    "ExecuteTime": {
     "end_time": "2022-01-13T07:35:19.269616Z",
     "start_time": "2022-01-13T07:35:19.265616Z"
    },
    "collapsed": true
   },
   "outputs": [],
   "source": [
    "x=np.empty((12*471,9*18))\n",
    "y=np.empty((12*471,1))"
   ]
  },
  {
   "cell_type": "code",
   "execution_count": 8,
   "metadata": {
    "ExecuteTime": {
     "end_time": "2022-01-13T07:35:20.891709Z",
     "start_time": "2022-01-13T07:35:20.839706Z"
    },
    "collapsed": true
   },
   "outputs": [],
   "source": [
    "for m in range(12):\n",
    "    for g in range(471):\n",
    "        x[m*471+g:m*471+g+1,:]=year_data[m][:,g:g+9].reshape(1,-1)\n",
    "        y[m*471+g:m*471+g+1,:]=year_data[m][9,g+9]"
   ]
  },
  {
   "cell_type": "markdown",
   "metadata": {},
   "source": [
    "- just test no normalize"
   ]
  },
  {
   "cell_type": "code",
   "execution_count": 9,
   "metadata": {
    "ExecuteTime": {
     "end_time": "2022-01-13T07:35:28.470142Z",
     "start_time": "2022-01-13T07:35:28.462142Z"
    },
    "collapsed": true
   },
   "outputs": [],
   "source": [
    "import torch \n",
    "from torch import optim,nn"
   ]
  },
  {
   "cell_type": "code",
   "execution_count": 10,
   "metadata": {
    "ExecuteTime": {
     "end_time": "2022-01-13T07:35:29.059176Z",
     "start_time": "2022-01-13T07:35:28.976171Z"
    },
    "collapsed": true
   },
   "outputs": [],
   "source": [
    "def train_k_fold_data(net,num_epochs,lr,train_features,train_labels,test_features,test_labels,batch_size,montum,wd):\n",
    "#     net=nn.Linear(train_features.shape[1],1)\n",
    "#     net=nn.Sequential(nn.Linear(train_features.shape[1],1))\n",
    "    loss=nn.MSELoss()\n",
    "#     optimizer=optim.SGD(net.parameters(),lr=lr,momentum=montum,weight_decay=wd)\n",
    "    optimizer=optim.Adam(net.parameters(),lr=lr,weight_decay=wd)\n",
    "    dataset=torch.utils.data.TensorDataset(train_features,train_labels)\n",
    "    data_iter=torch.utils.data.DataLoader(dataset,batch_size,shuffle=True)\n",
    "    train_l,test_l=[],[]\n",
    "    \n",
    "    min_test_loss=1000\n",
    "    early_stop_cnt=0\n",
    "    train_loss,test_loss=0,0\n",
    "    \n",
    "    for e in range(num_epochs):\n",
    "        net.train()\n",
    "        for x,y in data_iter:\n",
    "            l=loss(net(x),y)\n",
    "            optimizer.zero_grad()\n",
    "            l.backward()\n",
    "            optimizer.step()\n",
    "#         if (e+1) %1000==0 and test_features is not  None:\n",
    "        net.eval()\n",
    "        with torch.no_grad():\n",
    "            test_loss=loss(net(test_features),test_labels).item()\n",
    "            if test_loss<min_test_loss:\n",
    "                min_test_loss=test_loss\n",
    "#                 test_l.append(test_loss)\n",
    "                train_loss=loss(net(train_features),train_labels).item()\n",
    "                test_l.append(test_loss)\n",
    "                train_l.append(train_loss)\n",
    "                print('epoch = %d train_loss : %f , test loss : %f' % (e+1,train_loss,test_loss))\n",
    "                early_stop_cnt=0\n",
    "            else:\n",
    "                early_stop_cnt+=1\n",
    "        if early_stop_cnt > 500:\n",
    "            \n",
    "            break\n",
    "                \n",
    "#             net.eval()\n",
    "#             with torch.no_grad():\n",
    "#                 train_l.append(loss(net(train_features),train_labels).item())\n",
    "#                 test_l.append(loss(net(test_features),test_labels).item())\n",
    "# #                 print('epoch ',(e+1),'train loss : ',train_l[-1],'test loss : ',test_l[-1])\n",
    "\n",
    "    return train_l,test_l"
   ]
  },
  {
   "cell_type": "code",
   "execution_count": 11,
   "metadata": {
    "ExecuteTime": {
     "end_time": "2022-01-13T07:35:29.524202Z",
     "start_time": "2022-01-13T07:35:29.495201Z"
    },
    "collapsed": true
   },
   "outputs": [],
   "source": [
    "def get_kfold_data(k,j,x,y,random_state=13):\n",
    "    assert k>=1, 'k must >=1'\n",
    "    fold_size = x.shape[0] // k\n",
    "    x_train,y_train=None,None\n",
    "    row_list=list(range(x.shape[0]))\n",
    "    np.random.seed(random_state)\n",
    "    np.random.shuffle(row_list)\n",
    "    for i in range(k):\n",
    "        idx=slice(fold_size*i,fold_size*(i+1))\n",
    "        x_part,y_part=x[row_list[idx],:],y[row_list[idx],:]\n",
    "        if i==j:\n",
    "            x_val,y_val=x_part,y_part\n",
    "        elif x_train is None:\n",
    "            x_train,y_train=x_part,y_part\n",
    "        else:\n",
    "            x_train=torch.cat((x_train,x_part))\n",
    "            y_train=torch.cat((y_train,y_part))\n",
    "    return x_train,y_train,x_val,y_val"
   ]
  },
  {
   "cell_type": "code",
   "execution_count": 12,
   "metadata": {
    "ExecuteTime": {
     "end_time": "2022-01-13T07:35:30.041232Z",
     "start_time": "2022-01-13T07:35:30.003230Z"
    },
    "collapsed": true
   },
   "outputs": [],
   "source": [
    "def train_kfold(net1,num_epochs,lr,k,x_data,y_data,batch_size,montum,wd):\n",
    "    train_sum_l,test_sum_l=[],[]\n",
    "    train_l,test_l=[],[]\n",
    "#     net=nn.Linear(x_data.shape[1])\n",
    "    for j in range(k):\n",
    "        net1=get_net()\n",
    "#         for p in net1.parameters():\n",
    "#             torch.nn.init.normal_(p)\n",
    "        net=net1\n",
    "        data=get_kfold_data(k,j,x_data,y_data)\n",
    "        train_l,test_l=train_k_fold_data(net,num_epochs,lr,*data,batch_size,montum,wd)\n",
    "        train_sum_l.append(train_l[-1])\n",
    "        test_sum_l.append(test_l[-1])\n",
    "        print('--------------------------------------------------------------------------')\n",
    "        print('fold %d,train loss mean : %f,test loss : %f' % (j+1,train_l[-1],test_l[-1]))\n",
    "        print('-------------------------------------------------------------------------')\n",
    "    print('%d fold ,total train loss mean : %f,total test loss mean : %f ' % (k,np.mean(train_sum_l),np.mean(test_sum_l)))\n",
    "    print('-----------------------------------------------------------------------------')"
   ]
  },
  {
   "cell_type": "code",
   "execution_count": 13,
   "metadata": {
    "ExecuteTime": {
     "end_time": "2022-01-13T07:35:31.523317Z",
     "start_time": "2022-01-13T07:35:31.503316Z"
    },
    "collapsed": true
   },
   "outputs": [],
   "source": [
    "x1=torch.Tensor(x)\n",
    "y1=torch.Tensor(y)"
   ]
  },
  {
   "cell_type": "code",
   "execution_count": null,
   "metadata": {
    "ExecuteTime": {
     "end_time": "2021-12-30T05:39:53.480556Z",
     "start_time": "2021-12-30T05:35:34.945769Z"
    }
   },
   "outputs": [],
   "source": [
    "def get_net():\n",
    "    return nn.Sequential(nn.Linear(x1.shape[1],128),nn.Linear(128,1))\n",
    "net1=get_net()\n",
    "train_kfold(net1,1000,0.001,5,x1,y1,256,0,0)"
   ]
  },
  {
   "cell_type": "code",
   "execution_count": null,
   "metadata": {
    "ExecuteTime": {
     "end_time": "2021-12-28T02:24:50.698522Z",
     "start_time": "2021-12-28T02:17:21.373822Z"
    }
   },
   "outputs": [],
   "source": [
    "def get_net():\n",
    "    return nn.Sequential(nn.Linear(x1.shape[1],512),nn.Linear(512,1))\n",
    "net1=get_net()\n",
    "train_kfold(net1,1000,0.001,5,x1,y1,256,0,0)"
   ]
  },
  {
   "cell_type": "markdown",
   "metadata": {},
   "source": [
    "### just test data col normalize"
   ]
  },
  {
   "cell_type": "code",
   "execution_count": null,
   "metadata": {
    "ExecuteTime": {
     "end_time": "2022-01-13T07:19:14.239419Z",
     "start_time": "2022-01-13T07:19:14.224418Z"
    }
   },
   "outputs": [],
   "source": [
    "x.shape"
   ]
  },
  {
   "cell_type": "code",
   "execution_count": 14,
   "metadata": {
    "ExecuteTime": {
     "end_time": "2022-01-13T07:35:39.650782Z",
     "start_time": "2022-01-13T07:35:39.549776Z"
    },
    "collapsed": true
   },
   "outputs": [],
   "source": [
    "x2=pd.DataFrame(x)\n",
    "x2=x2.apply(lambda x:((x-x.mean())/x.std()))"
   ]
  },
  {
   "cell_type": "code",
   "execution_count": 15,
   "metadata": {
    "ExecuteTime": {
     "end_time": "2022-01-13T07:35:40.155810Z",
     "start_time": "2022-01-13T07:35:40.135809Z"
    },
    "collapsed": true
   },
   "outputs": [],
   "source": [
    "x22=torch.Tensor(x2.values)\n",
    "y22=torch.Tensor(y)"
   ]
  },
  {
   "cell_type": "code",
   "execution_count": 17,
   "metadata": {
    "ExecuteTime": {
     "end_time": "2022-01-13T07:36:28.749590Z",
     "start_time": "2022-01-13T07:36:28.516577Z"
    }
   },
   "outputs": [
    {
     "data": {
      "text/html": [
       "<div>\n",
       "<style>\n",
       "    .dataframe thead tr:only-child th {\n",
       "        text-align: right;\n",
       "    }\n",
       "\n",
       "    .dataframe thead th {\n",
       "        text-align: left;\n",
       "    }\n",
       "\n",
       "    .dataframe tbody tr th {\n",
       "        vertical-align: top;\n",
       "    }\n",
       "</style>\n",
       "<table border=\"1\" class=\"dataframe\">\n",
       "  <thead>\n",
       "    <tr style=\"text-align: right;\">\n",
       "      <th></th>\n",
       "      <th>0</th>\n",
       "      <th>1</th>\n",
       "      <th>2</th>\n",
       "      <th>3</th>\n",
       "      <th>4</th>\n",
       "      <th>5</th>\n",
       "      <th>6</th>\n",
       "      <th>7</th>\n",
       "      <th>8</th>\n",
       "      <th>9</th>\n",
       "      <th>...</th>\n",
       "      <th>152</th>\n",
       "      <th>153</th>\n",
       "      <th>154</th>\n",
       "      <th>155</th>\n",
       "      <th>156</th>\n",
       "      <th>157</th>\n",
       "      <th>158</th>\n",
       "      <th>159</th>\n",
       "      <th>160</th>\n",
       "      <th>161</th>\n",
       "    </tr>\n",
       "  </thead>\n",
       "  <tbody>\n",
       "    <tr>\n",
       "      <th>count</th>\n",
       "      <td>5.652000e+03</td>\n",
       "      <td>5.652000e+03</td>\n",
       "      <td>5.652000e+03</td>\n",
       "      <td>5.652000e+03</td>\n",
       "      <td>5.652000e+03</td>\n",
       "      <td>5.652000e+03</td>\n",
       "      <td>5.652000e+03</td>\n",
       "      <td>5.652000e+03</td>\n",
       "      <td>5.652000e+03</td>\n",
       "      <td>5.652000e+03</td>\n",
       "      <td>...</td>\n",
       "      <td>5.652000e+03</td>\n",
       "      <td>5.652000e+03</td>\n",
       "      <td>5.652000e+03</td>\n",
       "      <td>5.652000e+03</td>\n",
       "      <td>5.652000e+03</td>\n",
       "      <td>5.652000e+03</td>\n",
       "      <td>5.652000e+03</td>\n",
       "      <td>5.652000e+03</td>\n",
       "      <td>5.652000e+03</td>\n",
       "      <td>5.652000e+03</td>\n",
       "    </tr>\n",
       "    <tr>\n",
       "      <th>mean</th>\n",
       "      <td>2.065895e-15</td>\n",
       "      <td>1.361261e-16</td>\n",
       "      <td>-4.041903e-15</td>\n",
       "      <td>-2.625603e-15</td>\n",
       "      <td>2.080313e-15</td>\n",
       "      <td>-4.369942e-15</td>\n",
       "      <td>-1.373204e-15</td>\n",
       "      <td>-2.386626e-15</td>\n",
       "      <td>-4.881681e-16</td>\n",
       "      <td>-4.224199e-13</td>\n",
       "      <td>...</td>\n",
       "      <td>2.393108e-15</td>\n",
       "      <td>-5.601794e-16</td>\n",
       "      <td>-1.593834e-16</td>\n",
       "      <td>-6.258067e-16</td>\n",
       "      <td>1.009258e-16</td>\n",
       "      <td>-7.327826e-16</td>\n",
       "      <td>4.103032e-16</td>\n",
       "      <td>3.857396e-16</td>\n",
       "      <td>1.155409e-15</td>\n",
       "      <td>-1.405457e-16</td>\n",
       "    </tr>\n",
       "    <tr>\n",
       "      <th>std</th>\n",
       "      <td>1.000000e+00</td>\n",
       "      <td>1.000000e+00</td>\n",
       "      <td>1.000000e+00</td>\n",
       "      <td>1.000000e+00</td>\n",
       "      <td>1.000000e+00</td>\n",
       "      <td>1.000000e+00</td>\n",
       "      <td>1.000000e+00</td>\n",
       "      <td>1.000000e+00</td>\n",
       "      <td>1.000000e+00</td>\n",
       "      <td>1.000000e+00</td>\n",
       "      <td>...</td>\n",
       "      <td>1.000000e+00</td>\n",
       "      <td>1.000000e+00</td>\n",
       "      <td>1.000000e+00</td>\n",
       "      <td>1.000000e+00</td>\n",
       "      <td>1.000000e+00</td>\n",
       "      <td>1.000000e+00</td>\n",
       "      <td>1.000000e+00</td>\n",
       "      <td>1.000000e+00</td>\n",
       "      <td>1.000000e+00</td>\n",
       "      <td>1.000000e+00</td>\n",
       "    </tr>\n",
       "    <tr>\n",
       "      <th>min</th>\n",
       "      <td>-5.542380e+00</td>\n",
       "      <td>-5.541477e+00</td>\n",
       "      <td>-5.539834e+00</td>\n",
       "      <td>-5.537931e+00</td>\n",
       "      <td>-5.535965e+00</td>\n",
       "      <td>-5.533520e+00</td>\n",
       "      <td>-5.530868e+00</td>\n",
       "      <td>-5.528037e+00</td>\n",
       "      <td>-5.524426e+00</td>\n",
       "      <td>-1.511159e+01</td>\n",
       "      <td>...</td>\n",
       "      <td>-2.160628e+00</td>\n",
       "      <td>-1.607958e+00</td>\n",
       "      <td>-1.608443e+00</td>\n",
       "      <td>-1.607113e+00</td>\n",
       "      <td>-1.605401e+00</td>\n",
       "      <td>-1.605757e+00</td>\n",
       "      <td>-1.607268e+00</td>\n",
       "      <td>-1.607673e+00</td>\n",
       "      <td>-1.607926e+00</td>\n",
       "      <td>-1.609448e+00</td>\n",
       "    </tr>\n",
       "    <tr>\n",
       "      <th>25%</th>\n",
       "      <td>-7.217457e-01</td>\n",
       "      <td>-7.225582e-01</td>\n",
       "      <td>-7.232489e-01</td>\n",
       "      <td>-7.235381e-01</td>\n",
       "      <td>-7.235989e-01</td>\n",
       "      <td>-7.233135e-01</td>\n",
       "      <td>-7.229693e-01</td>\n",
       "      <td>-7.224626e-01</td>\n",
       "      <td>-7.215030e-01</td>\n",
       "      <td>-8.133217e-01</td>\n",
       "      <td>...</td>\n",
       "      <td>-7.552632e-01</td>\n",
       "      <td>-7.636022e-01</td>\n",
       "      <td>-7.641024e-01</td>\n",
       "      <td>-7.633663e-01</td>\n",
       "      <td>-7.625531e-01</td>\n",
       "      <td>-7.628962e-01</td>\n",
       "      <td>-7.639013e-01</td>\n",
       "      <td>-7.643024e-01</td>\n",
       "      <td>-7.648141e-01</td>\n",
       "      <td>-7.657381e-01</td>\n",
       "    </tr>\n",
       "    <tr>\n",
       "      <th>50%</th>\n",
       "      <td>7.373852e-02</td>\n",
       "      <td>7.264301e-02</td>\n",
       "      <td>7.156720e-02</td>\n",
       "      <td>7.091615e-02</td>\n",
       "      <td>7.052099e-02</td>\n",
       "      <td>7.045002e-02</td>\n",
       "      <td>7.041341e-02</td>\n",
       "      <td>7.053651e-02</td>\n",
       "      <td>7.105850e-02</td>\n",
       "      <td>-1.897329e-02</td>\n",
       "      <td>...</td>\n",
       "      <td>-1.931174e-01</td>\n",
       "      <td>-2.006981e-01</td>\n",
       "      <td>-2.012089e-01</td>\n",
       "      <td>-2.008684e-01</td>\n",
       "      <td>-2.006544e-01</td>\n",
       "      <td>-2.009889e-01</td>\n",
       "      <td>-2.016567e-01</td>\n",
       "      <td>-2.020554e-01</td>\n",
       "      <td>-2.027394e-01</td>\n",
       "      <td>-2.032647e-01</td>\n",
       "    </tr>\n",
       "    <tr>\n",
       "      <th>75%</th>\n",
       "      <td>7.101259e-01</td>\n",
       "      <td>7.088040e-01</td>\n",
       "      <td>7.074201e-01</td>\n",
       "      <td>7.064796e-01</td>\n",
       "      <td>7.058169e-01</td>\n",
       "      <td>7.054608e-01</td>\n",
       "      <td>7.051196e-01</td>\n",
       "      <td>7.049358e-01</td>\n",
       "      <td>7.051077e-01</td>\n",
       "      <td>7.753752e-01</td>\n",
       "      <td>...</td>\n",
       "      <td>5.564103e-01</td>\n",
       "      <td>5.498407e-01</td>\n",
       "      <td>5.493158e-01</td>\n",
       "      <td>5.491288e-01</td>\n",
       "      <td>5.485438e-01</td>\n",
       "      <td>5.482208e-01</td>\n",
       "      <td>5.480028e-01</td>\n",
       "      <td>5.476072e-01</td>\n",
       "      <td>5.466935e-01</td>\n",
       "      <td>5.466999e-01</td>\n",
       "    </tr>\n",
       "    <tr>\n",
       "      <th>max</th>\n",
       "      <td>2.141998e+00</td>\n",
       "      <td>2.140166e+00</td>\n",
       "      <td>2.138089e+00</td>\n",
       "      <td>2.136497e+00</td>\n",
       "      <td>2.135233e+00</td>\n",
       "      <td>2.134235e+00</td>\n",
       "      <td>2.133208e+00</td>\n",
       "      <td>2.132334e+00</td>\n",
       "      <td>2.131718e+00</td>\n",
       "      <td>2.364072e+00</td>\n",
       "      <td>...</td>\n",
       "      <td>5.053576e+00</td>\n",
       "      <td>4.959256e+00</td>\n",
       "      <td>4.958648e+00</td>\n",
       "      <td>4.955362e+00</td>\n",
       "      <td>4.950084e+00</td>\n",
       "      <td>4.949828e+00</td>\n",
       "      <td>4.952252e+00</td>\n",
       "      <td>4.951875e+00</td>\n",
       "      <td>4.949612e+00</td>\n",
       "      <td>4.952742e+00</td>\n",
       "    </tr>\n",
       "  </tbody>\n",
       "</table>\n",
       "<p>8 rows × 162 columns</p>\n",
       "</div>"
      ],
      "text/plain": [
       "                0             1             2             3             4    \\\n",
       "count  5.652000e+03  5.652000e+03  5.652000e+03  5.652000e+03  5.652000e+03   \n",
       "mean   2.065895e-15  1.361261e-16 -4.041903e-15 -2.625603e-15  2.080313e-15   \n",
       "std    1.000000e+00  1.000000e+00  1.000000e+00  1.000000e+00  1.000000e+00   \n",
       "min   -5.542380e+00 -5.541477e+00 -5.539834e+00 -5.537931e+00 -5.535965e+00   \n",
       "25%   -7.217457e-01 -7.225582e-01 -7.232489e-01 -7.235381e-01 -7.235989e-01   \n",
       "50%    7.373852e-02  7.264301e-02  7.156720e-02  7.091615e-02  7.052099e-02   \n",
       "75%    7.101259e-01  7.088040e-01  7.074201e-01  7.064796e-01  7.058169e-01   \n",
       "max    2.141998e+00  2.140166e+00  2.138089e+00  2.136497e+00  2.135233e+00   \n",
       "\n",
       "                5             6             7             8             9    \\\n",
       "count  5.652000e+03  5.652000e+03  5.652000e+03  5.652000e+03  5.652000e+03   \n",
       "mean  -4.369942e-15 -1.373204e-15 -2.386626e-15 -4.881681e-16 -4.224199e-13   \n",
       "std    1.000000e+00  1.000000e+00  1.000000e+00  1.000000e+00  1.000000e+00   \n",
       "min   -5.533520e+00 -5.530868e+00 -5.528037e+00 -5.524426e+00 -1.511159e+01   \n",
       "25%   -7.233135e-01 -7.229693e-01 -7.224626e-01 -7.215030e-01 -8.133217e-01   \n",
       "50%    7.045002e-02  7.041341e-02  7.053651e-02  7.105850e-02 -1.897329e-02   \n",
       "75%    7.054608e-01  7.051196e-01  7.049358e-01  7.051077e-01  7.753752e-01   \n",
       "max    2.134235e+00  2.133208e+00  2.132334e+00  2.131718e+00  2.364072e+00   \n",
       "\n",
       "           ...                152           153           154           155  \\\n",
       "count      ...       5.652000e+03  5.652000e+03  5.652000e+03  5.652000e+03   \n",
       "mean       ...       2.393108e-15 -5.601794e-16 -1.593834e-16 -6.258067e-16   \n",
       "std        ...       1.000000e+00  1.000000e+00  1.000000e+00  1.000000e+00   \n",
       "min        ...      -2.160628e+00 -1.607958e+00 -1.608443e+00 -1.607113e+00   \n",
       "25%        ...      -7.552632e-01 -7.636022e-01 -7.641024e-01 -7.633663e-01   \n",
       "50%        ...      -1.931174e-01 -2.006981e-01 -2.012089e-01 -2.008684e-01   \n",
       "75%        ...       5.564103e-01  5.498407e-01  5.493158e-01  5.491288e-01   \n",
       "max        ...       5.053576e+00  4.959256e+00  4.958648e+00  4.955362e+00   \n",
       "\n",
       "                156           157           158           159           160  \\\n",
       "count  5.652000e+03  5.652000e+03  5.652000e+03  5.652000e+03  5.652000e+03   \n",
       "mean   1.009258e-16 -7.327826e-16  4.103032e-16  3.857396e-16  1.155409e-15   \n",
       "std    1.000000e+00  1.000000e+00  1.000000e+00  1.000000e+00  1.000000e+00   \n",
       "min   -1.605401e+00 -1.605757e+00 -1.607268e+00 -1.607673e+00 -1.607926e+00   \n",
       "25%   -7.625531e-01 -7.628962e-01 -7.639013e-01 -7.643024e-01 -7.648141e-01   \n",
       "50%   -2.006544e-01 -2.009889e-01 -2.016567e-01 -2.020554e-01 -2.027394e-01   \n",
       "75%    5.485438e-01  5.482208e-01  5.480028e-01  5.476072e-01  5.466935e-01   \n",
       "max    4.950084e+00  4.949828e+00  4.952252e+00  4.951875e+00  4.949612e+00   \n",
       "\n",
       "                161  \n",
       "count  5.652000e+03  \n",
       "mean  -1.405457e-16  \n",
       "std    1.000000e+00  \n",
       "min   -1.609448e+00  \n",
       "25%   -7.657381e-01  \n",
       "50%   -2.032647e-01  \n",
       "75%    5.466999e-01  \n",
       "max    4.952742e+00  \n",
       "\n",
       "[8 rows x 162 columns]"
      ]
     },
     "execution_count": 17,
     "metadata": {},
     "output_type": "execute_result"
    }
   ],
   "source": [
    "x2.describe()"
   ]
  },
  {
   "cell_type": "code",
   "execution_count": 18,
   "metadata": {
    "ExecuteTime": {
     "end_time": "2022-01-13T07:37:08.195846Z",
     "start_time": "2022-01-13T07:37:08.188846Z"
    }
   },
   "outputs": [
    {
     "data": {
      "text/plain": [
       "(5652, 162)"
      ]
     },
     "execution_count": 18,
     "metadata": {},
     "output_type": "execute_result"
    }
   ],
   "source": [
    "x2.shape"
   ]
  },
  {
   "cell_type": "code",
   "execution_count": null,
   "metadata": {
    "collapsed": true
   },
   "outputs": [],
   "source": []
  },
  {
   "cell_type": "code",
   "execution_count": null,
   "metadata": {
    "collapsed": true
   },
   "outputs": [],
   "source": []
  },
  {
   "cell_type": "code",
   "execution_count": null,
   "metadata": {
    "ExecuteTime": {
     "end_time": "2021-12-28T02:36:45.573410Z",
     "start_time": "2021-12-28T02:33:36.734609Z"
    }
   },
   "outputs": [],
   "source": [
    "def get_net():\n",
    "    return nn.Sequential(nn.Linear(x22.shape[1],128),nn.Linear(128,1))\n",
    "net1=get_net()\n",
    "train_kfold(net1,1000,0.001,5,x22,y22,256,0,0)"
   ]
  },
  {
   "cell_type": "code",
   "execution_count": null,
   "metadata": {
    "ExecuteTime": {
     "end_time": "2021-12-29T06:16:45.502570Z",
     "start_time": "2021-12-29T06:09:26.908484Z"
    }
   },
   "outputs": [],
   "source": [
    "def get_net():\n",
    "    return nn.Sequential(nn.Linear(x22.shape[1],512),nn.Linear(512,1))\n",
    "net1=get_net()\n",
    "train_kfold(net1,1000,0.001,5,x22,y22,256,0,0)"
   ]
  },
  {
   "cell_type": "markdown",
   "metadata": {},
   "source": [
    "- just test linear model"
   ]
  },
  {
   "cell_type": "code",
   "execution_count": 19,
   "metadata": {
    "ExecuteTime": {
     "end_time": "2022-01-13T07:40:12.018360Z",
     "start_time": "2022-01-13T07:40:10.618280Z"
    },
    "collapsed": true
   },
   "outputs": [],
   "source": [
    "from sklearn.linear_model import Lasso,ElasticNet,Ridge\n",
    "from sklearn.ensemble import RandomForestRegressor,GradientBoostingRegressor\n",
    "from sklearn.pipeline import make_pipeline\n",
    "from sklearn.preprocessing import RobustScaler\n",
    "from sklearn.model_selection import train_test_split,KFold,cross_val_score\n",
    "from sklearn.metrics import mean_squared_error\n",
    "import xgboost as xgb\n",
    "import lightgbm as lgb"
   ]
  },
  {
   "cell_type": "code",
   "execution_count": 20,
   "metadata": {
    "ExecuteTime": {
     "end_time": "2022-01-13T07:40:12.770403Z",
     "start_time": "2022-01-13T07:40:12.745402Z"
    },
    "collapsed": true
   },
   "outputs": [],
   "source": [
    "n_folds=5\n",
    "\n",
    "def rmlse_cv(model):\n",
    "    kf=KFold(n_folds,shuffle=True,random_state=42).get_n_splits(x)\n",
    "    rmse=np.sqrt(-cross_val_score(model,x,y,scoring='neg_mean_squared_error',cv=kf))\n",
    "    return rmse"
   ]
  },
  {
   "cell_type": "code",
   "execution_count": 21,
   "metadata": {
    "ExecuteTime": {
     "end_time": "2022-01-13T07:40:17.028647Z",
     "start_time": "2022-01-13T07:40:13.458442Z"
    }
   },
   "outputs": [
    {
     "name": "stderr",
     "output_type": "stream",
     "text": [
      "D:\\ProgramData\\Anaconda3\\lib\\site-packages\\sklearn\\linear_model\\coordinate_descent.py:491: ConvergenceWarning: Objective did not converge. You might want to increase the number of iterations. Fitting data with very small alpha may cause precision problems.\n",
      "  ConvergenceWarning)\n",
      "D:\\ProgramData\\Anaconda3\\lib\\site-packages\\sklearn\\linear_model\\coordinate_descent.py:491: ConvergenceWarning: Objective did not converge. You might want to increase the number of iterations. Fitting data with very small alpha may cause precision problems.\n",
      "  ConvergenceWarning)\n",
      "D:\\ProgramData\\Anaconda3\\lib\\site-packages\\sklearn\\linear_model\\coordinate_descent.py:491: ConvergenceWarning: Objective did not converge. You might want to increase the number of iterations. Fitting data with very small alpha may cause precision problems.\n",
      "  ConvergenceWarning)\n",
      "D:\\ProgramData\\Anaconda3\\lib\\site-packages\\sklearn\\linear_model\\coordinate_descent.py:491: ConvergenceWarning: Objective did not converge. You might want to increase the number of iterations. Fitting data with very small alpha may cause precision problems.\n",
      "  ConvergenceWarning)\n"
     ]
    },
    {
     "name": "stdout",
     "output_type": "stream",
     "text": [
      "\n",
      "Lasso score: 5.9364 (0.6516)\n",
      "\n"
     ]
    },
    {
     "name": "stderr",
     "output_type": "stream",
     "text": [
      "D:\\ProgramData\\Anaconda3\\lib\\site-packages\\sklearn\\linear_model\\coordinate_descent.py:491: ConvergenceWarning: Objective did not converge. You might want to increase the number of iterations. Fitting data with very small alpha may cause precision problems.\n",
      "  ConvergenceWarning)\n"
     ]
    }
   ],
   "source": [
    "lasso=make_pipeline(RobustScaler(),Lasso(alpha=0.0005,random_state=1))\n",
    "score=rmlse_cv(lasso)\n",
    "print(\"\\nLasso score: {:.4f} ({:.4f})\\n\".format(score.mean(), score.std()))"
   ]
  },
  {
   "cell_type": "code",
   "execution_count": 22,
   "metadata": {
    "ExecuteTime": {
     "end_time": "2022-01-13T07:40:18.195713Z",
     "start_time": "2022-01-13T07:40:18.184713Z"
    }
   },
   "outputs": [
    {
     "data": {
      "text/plain": [
       "5.8588435719005165"
      ]
     },
     "execution_count": 22,
     "metadata": {},
     "output_type": "execute_result"
    }
   ],
   "source": [
    "np.sqrt(34.326048 )"
   ]
  },
  {
   "cell_type": "code",
   "execution_count": 23,
   "metadata": {
    "ExecuteTime": {
     "end_time": "2022-01-13T07:40:22.439956Z",
     "start_time": "2022-01-13T07:40:18.864752Z"
    }
   },
   "outputs": [
    {
     "name": "stderr",
     "output_type": "stream",
     "text": [
      "D:\\ProgramData\\Anaconda3\\lib\\site-packages\\sklearn\\linear_model\\coordinate_descent.py:491: ConvergenceWarning: Objective did not converge. You might want to increase the number of iterations. Fitting data with very small alpha may cause precision problems.\n",
      "  ConvergenceWarning)\n",
      "D:\\ProgramData\\Anaconda3\\lib\\site-packages\\sklearn\\linear_model\\coordinate_descent.py:491: ConvergenceWarning: Objective did not converge. You might want to increase the number of iterations. Fitting data with very small alpha may cause precision problems.\n",
      "  ConvergenceWarning)\n",
      "D:\\ProgramData\\Anaconda3\\lib\\site-packages\\sklearn\\linear_model\\coordinate_descent.py:491: ConvergenceWarning: Objective did not converge. You might want to increase the number of iterations. Fitting data with very small alpha may cause precision problems.\n",
      "  ConvergenceWarning)\n",
      "D:\\ProgramData\\Anaconda3\\lib\\site-packages\\sklearn\\linear_model\\coordinate_descent.py:491: ConvergenceWarning: Objective did not converge. You might want to increase the number of iterations. Fitting data with very small alpha may cause precision problems.\n",
      "  ConvergenceWarning)\n"
     ]
    },
    {
     "name": "stdout",
     "output_type": "stream",
     "text": [
      "\n",
      " enet score: 5.9364 (0.6516)\n",
      "\n"
     ]
    },
    {
     "name": "stderr",
     "output_type": "stream",
     "text": [
      "D:\\ProgramData\\Anaconda3\\lib\\site-packages\\sklearn\\linear_model\\coordinate_descent.py:491: ConvergenceWarning: Objective did not converge. You might want to increase the number of iterations. Fitting data with very small alpha may cause precision problems.\n",
      "  ConvergenceWarning)\n"
     ]
    }
   ],
   "source": [
    "enet=make_pipeline(RobustScaler(),ElasticNet(alpha=0.0005,l1_ratio=0.9))\n",
    "scoreo=rmlse_cv(enet)\n",
    "print(\"\\n enet score: {:.4f} ({:.4f})\\n\".format(score.mean(), score.std()))"
   ]
  },
  {
   "cell_type": "code",
   "execution_count": 24,
   "metadata": {
    "ExecuteTime": {
     "end_time": "2022-01-13T07:40:25.352123Z",
     "start_time": "2022-01-13T07:40:25.009103Z"
    }
   },
   "outputs": [
    {
     "name": "stdout",
     "output_type": "stream",
     "text": [
      "\n",
      " ridge score: 5.9404 (0.6500)\n",
      "\n"
     ]
    }
   ],
   "source": [
    "ridge=make_pipeline(RobustScaler(),Ridge(alpha=0.5))\n",
    "score=rmlse_cv(ridge)\n",
    "print(\"\\n ridge score: {:.4f} ({:.4f})\\n\".format(score.mean(), score.std()))"
   ]
  },
  {
   "cell_type": "code",
   "execution_count": 25,
   "metadata": {
    "ExecuteTime": {
     "end_time": "2022-01-13T07:41:44.029623Z",
     "start_time": "2022-01-13T07:40:27.193228Z"
    }
   },
   "outputs": [
    {
     "name": "stderr",
     "output_type": "stream",
     "text": [
      "D:\\ProgramData\\Anaconda3\\lib\\site-packages\\sklearn\\utils\\validation.py:578: DataConversionWarning: A column-vector y was passed when a 1d array was expected. Please change the shape of y to (n_samples, ), for example using ravel().\n",
      "  y = column_or_1d(y, warn=True)\n",
      "D:\\ProgramData\\Anaconda3\\lib\\site-packages\\sklearn\\utils\\validation.py:578: DataConversionWarning: A column-vector y was passed when a 1d array was expected. Please change the shape of y to (n_samples, ), for example using ravel().\n",
      "  y = column_or_1d(y, warn=True)\n",
      "D:\\ProgramData\\Anaconda3\\lib\\site-packages\\sklearn\\utils\\validation.py:578: DataConversionWarning: A column-vector y was passed when a 1d array was expected. Please change the shape of y to (n_samples, ), for example using ravel().\n",
      "  y = column_or_1d(y, warn=True)\n",
      "D:\\ProgramData\\Anaconda3\\lib\\site-packages\\sklearn\\utils\\validation.py:578: DataConversionWarning: A column-vector y was passed when a 1d array was expected. Please change the shape of y to (n_samples, ), for example using ravel().\n",
      "  y = column_or_1d(y, warn=True)\n",
      "D:\\ProgramData\\Anaconda3\\lib\\site-packages\\sklearn\\utils\\validation.py:578: DataConversionWarning: A column-vector y was passed when a 1d array was expected. Please change the shape of y to (n_samples, ), for example using ravel().\n",
      "  y = column_or_1d(y, warn=True)\n"
     ]
    },
    {
     "name": "stdout",
     "output_type": "stream",
     "text": [
      "Gradient Boosting score: 6.9629 (1.0416)\n",
      "\n"
     ]
    }
   ],
   "source": [
    "GBoost = GradientBoostingRegressor(n_estimators=3000,\n",
    "                                   learning_rate=0.05,\n",
    "                                   max_depth=4,\n",
    "                                   max_features='sqrt',\n",
    "                                   min_samples_leaf=15,\n",
    "                                   min_samples_split=10,\n",
    "                                   loss='huber',\n",
    "                                   random_state=5)\n",
    "score = rmlse_cv(GBoost)\n",
    "print(\"Gradient Boosting score: {:.4f} ({:.4f})\\n\".format(score.mean(), score.std()))"
   ]
  },
  {
   "cell_type": "code",
   "execution_count": 26,
   "metadata": {
    "ExecuteTime": {
     "end_time": "2022-01-13T07:42:26.756067Z",
     "start_time": "2022-01-13T07:41:44.031623Z"
    }
   },
   "outputs": [
    {
     "name": "stdout",
     "output_type": "stream",
     "text": [
      "[15:41:44] WARNING: C:\\Users\\Administrator\\workspace\\xgboost-win64_release_1.1.0\\src\\learner.cc:480: \n",
      "Parameters: { silent } might not be used.\n",
      "\n",
      "  This may not be accurate due to some parameters are only used in language bindings but\n",
      "  passed down to XGBoost core.  Or some parameters are not used but slip through this\n",
      "  verification. Please open an issue if you find above cases.\n",
      "\n",
      "\n",
      "[15:41:52] WARNING: C:\\Users\\Administrator\\workspace\\xgboost-win64_release_1.1.0\\src\\learner.cc:480: \n",
      "Parameters: { silent } might not be used.\n",
      "\n",
      "  This may not be accurate due to some parameters are only used in language bindings but\n",
      "  passed down to XGBoost core.  Or some parameters are not used but slip through this\n",
      "  verification. Please open an issue if you find above cases.\n",
      "\n",
      "\n",
      "[15:42:01] WARNING: C:\\Users\\Administrator\\workspace\\xgboost-win64_release_1.1.0\\src\\learner.cc:480: \n",
      "Parameters: { silent } might not be used.\n",
      "\n",
      "  This may not be accurate due to some parameters are only used in language bindings but\n",
      "  passed down to XGBoost core.  Or some parameters are not used but slip through this\n",
      "  verification. Please open an issue if you find above cases.\n",
      "\n",
      "\n",
      "[15:42:09] WARNING: C:\\Users\\Administrator\\workspace\\xgboost-win64_release_1.1.0\\src\\learner.cc:480: \n",
      "Parameters: { silent } might not be used.\n",
      "\n",
      "  This may not be accurate due to some parameters are only used in language bindings but\n",
      "  passed down to XGBoost core.  Or some parameters are not used but slip through this\n",
      "  verification. Please open an issue if you find above cases.\n",
      "\n",
      "\n",
      "[15:42:18] WARNING: C:\\Users\\Administrator\\workspace\\xgboost-win64_release_1.1.0\\src\\learner.cc:480: \n",
      "Parameters: { silent } might not be used.\n",
      "\n",
      "  This may not be accurate due to some parameters are only used in language bindings but\n",
      "  passed down to XGBoost core.  Or some parameters are not used but slip through this\n",
      "  verification. Please open an issue if you find above cases.\n",
      "\n",
      "\n",
      "Xgboost score: 6.5696 (0.8384)\n",
      "\n"
     ]
    }
   ],
   "source": [
    "model_xgb = xgb.XGBRegressor(colsample_bytree=0.4603, gamma=0.0468, \n",
    "                             learning_rate=0.05, max_depth=3, \n",
    "                             min_child_weight=1.7817, n_estimators=2200,\n",
    "                             reg_alpha=0.4640, reg_lambda=0.8571,\n",
    "                             subsample=0.5213, silent=1,\n",
    "                             random_state =7, nthread = -1)\n",
    "score = rmlse_cv(model_xgb)\n",
    "print(\"Xgboost score: {:.4f} ({:.4f})\\n\".format(score.mean(), score.std()))"
   ]
  },
  {
   "cell_type": "code",
   "execution_count": 27,
   "metadata": {
    "ExecuteTime": {
     "end_time": "2022-01-13T07:42:28.449164Z",
     "start_time": "2022-01-13T07:42:26.790069Z"
    }
   },
   "outputs": [
    {
     "name": "stderr",
     "output_type": "stream",
     "text": [
      "D:\\ProgramData\\Anaconda3\\lib\\site-packages\\sklearn\\utils\\validation.py:578: DataConversionWarning: A column-vector y was passed when a 1d array was expected. Please change the shape of y to (n_samples, ), for example using ravel().\n",
      "  y = column_or_1d(y, warn=True)\n",
      "D:\\ProgramData\\Anaconda3\\lib\\site-packages\\sklearn\\utils\\validation.py:578: DataConversionWarning: A column-vector y was passed when a 1d array was expected. Please change the shape of y to (n_samples, ), for example using ravel().\n",
      "  y = column_or_1d(y, warn=True)\n",
      "D:\\ProgramData\\Anaconda3\\lib\\site-packages\\sklearn\\utils\\validation.py:578: DataConversionWarning: A column-vector y was passed when a 1d array was expected. Please change the shape of y to (n_samples, ), for example using ravel().\n",
      "  y = column_or_1d(y, warn=True)\n",
      "D:\\ProgramData\\Anaconda3\\lib\\site-packages\\sklearn\\utils\\validation.py:578: DataConversionWarning: A column-vector y was passed when a 1d array was expected. Please change the shape of y to (n_samples, ), for example using ravel().\n",
      "  y = column_or_1d(y, warn=True)\n",
      "D:\\ProgramData\\Anaconda3\\lib\\site-packages\\sklearn\\utils\\validation.py:578: DataConversionWarning: A column-vector y was passed when a 1d array was expected. Please change the shape of y to (n_samples, ), for example using ravel().\n",
      "  y = column_or_1d(y, warn=True)\n"
     ]
    },
    {
     "name": "stdout",
     "output_type": "stream",
     "text": [
      "LGBM score: 6.6617 (0.9785)\n",
      "\n"
     ]
    }
   ],
   "source": [
    "model_lgb = lgb.LGBMRegressor(objective='regression',num_leaves=5,\n",
    "                              learning_rate=0.05, n_estimators=720,\n",
    "                              max_bin = 55, bagging_fraction = 0.8,\n",
    "                              bagging_freq = 5, feature_fraction = 0.2319,\n",
    "                              feature_fraction_seed=9, bagging_seed=9,\n",
    "                              min_data_in_leaf =6, min_sum_hessian_in_leaf = 11)\n",
    "score = rmlse_cv(model_lgb)\n",
    "print(\"LGBM score: {:.4f} ({:.4f})\\n\" .format(score.mean(), score.std()))"
   ]
  },
  {
   "cell_type": "code",
   "execution_count": 28,
   "metadata": {
    "ExecuteTime": {
     "end_time": "2022-01-13T07:42:28.465164Z",
     "start_time": "2022-01-13T07:42:28.455164Z"
    },
    "collapsed": true
   },
   "outputs": [],
   "source": [
    "month_list=[]\n",
    "for i in range(12):\n",
    "    month_list.append(pd.DataFrame(year_data[i]))\n",
    "all_train_data=pd.concat(month_list,axis=1).T"
   ]
  },
  {
   "cell_type": "code",
   "execution_count": 29,
   "metadata": {
    "ExecuteTime": {
     "end_time": "2022-01-13T07:42:28.498166Z",
     "start_time": "2022-01-13T07:42:28.471165Z"
    }
   },
   "outputs": [
    {
     "data": {
      "text/plain": [
       "(18, 480)"
      ]
     },
     "execution_count": 29,
     "metadata": {},
     "output_type": "execute_result"
    }
   ],
   "source": [
    "month_list[11].shape"
   ]
  },
  {
   "cell_type": "code",
   "execution_count": 30,
   "metadata": {
    "ExecuteTime": {
     "end_time": "2022-01-13T07:42:28.516167Z",
     "start_time": "2022-01-13T07:42:28.505167Z"
    }
   },
   "outputs": [
    {
     "data": {
      "text/plain": [
       "(5760, 18)"
      ]
     },
     "execution_count": 30,
     "metadata": {},
     "output_type": "execute_result"
    }
   ],
   "source": [
    "all_train_data.shape"
   ]
  },
  {
   "cell_type": "markdown",
   "metadata": {},
   "source": [
    "- check reshape data is right ?"
   ]
  },
  {
   "cell_type": "code",
   "execution_count": 31,
   "metadata": {
    "ExecuteTime": {
     "end_time": "2022-01-13T07:42:30.942306Z",
     "start_time": "2022-01-13T07:42:30.911304Z"
    }
   },
   "outputs": [
    {
     "data": {
      "text/html": [
       "<div>\n",
       "<style>\n",
       "    .dataframe thead tr:only-child th {\n",
       "        text-align: right;\n",
       "    }\n",
       "\n",
       "    .dataframe thead th {\n",
       "        text-align: left;\n",
       "    }\n",
       "\n",
       "    .dataframe tbody tr th {\n",
       "        vertical-align: top;\n",
       "    }\n",
       "</style>\n",
       "<table border=\"1\" class=\"dataframe\">\n",
       "  <thead>\n",
       "    <tr style=\"text-align: right;\">\n",
       "      <th></th>\n",
       "      <th>9</th>\n",
       "      <th>10</th>\n",
       "      <th>11</th>\n",
       "      <th>12</th>\n",
       "      <th>13</th>\n",
       "      <th>14</th>\n",
       "      <th>15</th>\n",
       "      <th>16</th>\n",
       "      <th>17</th>\n",
       "    </tr>\n",
       "  </thead>\n",
       "  <tbody>\n",
       "    <tr>\n",
       "      <th>475</th>\n",
       "      <td>37.0</td>\n",
       "      <td>0.0</td>\n",
       "      <td>76.0</td>\n",
       "      <td>2.6</td>\n",
       "      <td>1.9</td>\n",
       "      <td>109.0</td>\n",
       "      <td>97.0</td>\n",
       "      <td>1.0</td>\n",
       "      <td>1.4</td>\n",
       "    </tr>\n",
       "    <tr>\n",
       "      <th>476</th>\n",
       "      <td>28.0</td>\n",
       "      <td>0.0</td>\n",
       "      <td>80.0</td>\n",
       "      <td>2.2</td>\n",
       "      <td>1.9</td>\n",
       "      <td>108.0</td>\n",
       "      <td>107.0</td>\n",
       "      <td>1.7</td>\n",
       "      <td>1.3</td>\n",
       "    </tr>\n",
       "    <tr>\n",
       "      <th>477</th>\n",
       "      <td>17.0</td>\n",
       "      <td>0.0</td>\n",
       "      <td>82.0</td>\n",
       "      <td>2.3</td>\n",
       "      <td>1.9</td>\n",
       "      <td>114.0</td>\n",
       "      <td>118.0</td>\n",
       "      <td>1.5</td>\n",
       "      <td>1.6</td>\n",
       "    </tr>\n",
       "    <tr>\n",
       "      <th>478</th>\n",
       "      <td>24.0</td>\n",
       "      <td>0.0</td>\n",
       "      <td>84.0</td>\n",
       "      <td>2.3</td>\n",
       "      <td>2.0</td>\n",
       "      <td>108.0</td>\n",
       "      <td>100.0</td>\n",
       "      <td>2.0</td>\n",
       "      <td>1.8</td>\n",
       "    </tr>\n",
       "    <tr>\n",
       "      <th>479</th>\n",
       "      <td>29.0</td>\n",
       "      <td>0.0</td>\n",
       "      <td>84.0</td>\n",
       "      <td>2.3</td>\n",
       "      <td>2.0</td>\n",
       "      <td>109.0</td>\n",
       "      <td>105.0</td>\n",
       "      <td>2.0</td>\n",
       "      <td>2.0</td>\n",
       "    </tr>\n",
       "  </tbody>\n",
       "</table>\n",
       "</div>"
      ],
      "text/plain": [
       "       9    10    11   12   13     14     15   16   17\n",
       "475  37.0  0.0  76.0  2.6  1.9  109.0   97.0  1.0  1.4\n",
       "476  28.0  0.0  80.0  2.2  1.9  108.0  107.0  1.7  1.3\n",
       "477  17.0  0.0  82.0  2.3  1.9  114.0  118.0  1.5  1.6\n",
       "478  24.0  0.0  84.0  2.3  2.0  108.0  100.0  2.0  1.8\n",
       "479  29.0  0.0  84.0  2.3  2.0  109.0  105.0  2.0  2.0"
      ]
     },
     "execution_count": 31,
     "metadata": {},
     "output_type": "execute_result"
    }
   ],
   "source": [
    "all_train_data.iloc[-5:,9:]"
   ]
  },
  {
   "cell_type": "code",
   "execution_count": 32,
   "metadata": {
    "ExecuteTime": {
     "end_time": "2022-01-13T07:42:37.735695Z",
     "start_time": "2022-01-13T07:42:37.640689Z"
    }
   },
   "outputs": [
    {
     "data": {
      "text/html": [
       "<div>\n",
       "<style>\n",
       "    .dataframe thead tr:only-child th {\n",
       "        text-align: right;\n",
       "    }\n",
       "\n",
       "    .dataframe thead th {\n",
       "        text-align: left;\n",
       "    }\n",
       "\n",
       "    .dataframe tbody tr th {\n",
       "        vertical-align: top;\n",
       "    }\n",
       "</style>\n",
       "<table border=\"1\" class=\"dataframe\">\n",
       "  <thead>\n",
       "    <tr style=\"text-align: right;\">\n",
       "      <th></th>\n",
       "      <th>0</th>\n",
       "      <th>1</th>\n",
       "      <th>2</th>\n",
       "      <th>3</th>\n",
       "      <th>4</th>\n",
       "      <th>5</th>\n",
       "      <th>6</th>\n",
       "      <th>7</th>\n",
       "      <th>8</th>\n",
       "      <th>9</th>\n",
       "      <th>10</th>\n",
       "      <th>11</th>\n",
       "      <th>12</th>\n",
       "      <th>13</th>\n",
       "      <th>14</th>\n",
       "      <th>15</th>\n",
       "      <th>16</th>\n",
       "      <th>17</th>\n",
       "    </tr>\n",
       "  </thead>\n",
       "  <tbody>\n",
       "    <tr>\n",
       "      <th>count</th>\n",
       "      <td>5760.000000</td>\n",
       "      <td>5760.000000</td>\n",
       "      <td>5760.000000</td>\n",
       "      <td>5760.000000</td>\n",
       "      <td>5760.000000</td>\n",
       "      <td>5760.000000</td>\n",
       "      <td>5760.000000</td>\n",
       "      <td>5760.000000</td>\n",
       "      <td>5760.000000</td>\n",
       "      <td>5760.000000</td>\n",
       "      <td>5760.000000</td>\n",
       "      <td>5760.000000</td>\n",
       "      <td>5760.000000</td>\n",
       "      <td>5760.000000</td>\n",
       "      <td>5760.000000</td>\n",
       "      <td>5760.000000</td>\n",
       "      <td>5760.000000</td>\n",
       "      <td>5760.000000</td>\n",
       "    </tr>\n",
       "    <tr>\n",
       "      <th>mean</th>\n",
       "      <td>22.527413</td>\n",
       "      <td>1.702396</td>\n",
       "      <td>0.388363</td>\n",
       "      <td>0.140427</td>\n",
       "      <td>2.135729</td>\n",
       "      <td>10.125990</td>\n",
       "      <td>12.247726</td>\n",
       "      <td>31.905469</td>\n",
       "      <td>42.709201</td>\n",
       "      <td>21.414236</td>\n",
       "      <td>0.200625</td>\n",
       "      <td>73.229167</td>\n",
       "      <td>2.763125</td>\n",
       "      <td>1.839653</td>\n",
       "      <td>156.329271</td>\n",
       "      <td>158.482795</td>\n",
       "      <td>2.297240</td>\n",
       "      <td>1.712760</td>\n",
       "    </tr>\n",
       "    <tr>\n",
       "      <th>std</th>\n",
       "      <td>6.290152</td>\n",
       "      <td>0.125265</td>\n",
       "      <td>0.323573</td>\n",
       "      <td>0.104645</td>\n",
       "      <td>2.282155</td>\n",
       "      <td>6.187555</td>\n",
       "      <td>7.577133</td>\n",
       "      <td>18.703486</td>\n",
       "      <td>26.222292</td>\n",
       "      <td>16.662537</td>\n",
       "      <td>2.045443</td>\n",
       "      <td>13.361351</td>\n",
       "      <td>1.816940</td>\n",
       "      <td>0.181839</td>\n",
       "      <td>95.745881</td>\n",
       "      <td>94.697432</td>\n",
       "      <td>1.065408</td>\n",
       "      <td>1.062683</td>\n",
       "    </tr>\n",
       "    <tr>\n",
       "      <th>min</th>\n",
       "      <td>-12.300000</td>\n",
       "      <td>-0.200000</td>\n",
       "      <td>-0.120000</td>\n",
       "      <td>0.000000</td>\n",
       "      <td>-1.100000</td>\n",
       "      <td>0.000000</td>\n",
       "      <td>-2.400000</td>\n",
       "      <td>0.000000</td>\n",
       "      <td>0.000000</td>\n",
       "      <td>-1.000000</td>\n",
       "      <td>0.000000</td>\n",
       "      <td>29.000000</td>\n",
       "      <td>-1.600000</td>\n",
       "      <td>-0.200000</td>\n",
       "      <td>0.100000</td>\n",
       "      <td>0.000000</td>\n",
       "      <td>0.000000</td>\n",
       "      <td>0.000000</td>\n",
       "    </tr>\n",
       "    <tr>\n",
       "      <th>25%</th>\n",
       "      <td>18.000000</td>\n",
       "      <td>1.600000</td>\n",
       "      <td>0.250000</td>\n",
       "      <td>0.070000</td>\n",
       "      <td>1.100000</td>\n",
       "      <td>5.900000</td>\n",
       "      <td>7.300000</td>\n",
       "      <td>18.000000</td>\n",
       "      <td>24.000000</td>\n",
       "      <td>9.000000</td>\n",
       "      <td>0.000000</td>\n",
       "      <td>64.000000</td>\n",
       "      <td>1.600000</td>\n",
       "      <td>1.700000</td>\n",
       "      <td>72.000000</td>\n",
       "      <td>76.000000</td>\n",
       "      <td>1.500000</td>\n",
       "      <td>0.900000</td>\n",
       "    </tr>\n",
       "    <tr>\n",
       "      <th>50%</th>\n",
       "      <td>23.000000</td>\n",
       "      <td>1.700000</td>\n",
       "      <td>0.340000</td>\n",
       "      <td>0.110000</td>\n",
       "      <td>1.600000</td>\n",
       "      <td>8.600000</td>\n",
       "      <td>10.000000</td>\n",
       "      <td>29.000000</td>\n",
       "      <td>38.000000</td>\n",
       "      <td>18.000000</td>\n",
       "      <td>0.000000</td>\n",
       "      <td>75.000000</td>\n",
       "      <td>2.300000</td>\n",
       "      <td>1.800000</td>\n",
       "      <td>119.000000</td>\n",
       "      <td>121.500000</td>\n",
       "      <td>2.100000</td>\n",
       "      <td>1.500000</td>\n",
       "    </tr>\n",
       "    <tr>\n",
       "      <th>75%</th>\n",
       "      <td>27.000000</td>\n",
       "      <td>1.800000</td>\n",
       "      <td>0.450000</td>\n",
       "      <td>0.180000</td>\n",
       "      <td>2.300000</td>\n",
       "      <td>13.000000</td>\n",
       "      <td>15.000000</td>\n",
       "      <td>42.000000</td>\n",
       "      <td>57.000000</td>\n",
       "      <td>29.250000</td>\n",
       "      <td>0.000000</td>\n",
       "      <td>84.000000</td>\n",
       "      <td>3.400000</td>\n",
       "      <td>1.900000</td>\n",
       "      <td>213.000000</td>\n",
       "      <td>219.000000</td>\n",
       "      <td>2.900000</td>\n",
       "      <td>2.300000</td>\n",
       "    </tr>\n",
       "    <tr>\n",
       "      <th>max</th>\n",
       "      <td>36.000000</td>\n",
       "      <td>2.000000</td>\n",
       "      <td>7.570000</td>\n",
       "      <td>1.300000</td>\n",
       "      <td>31.000000</td>\n",
       "      <td>46.000000</td>\n",
       "      <td>71.000000</td>\n",
       "      <td>231.000000</td>\n",
       "      <td>181.000000</td>\n",
       "      <td>112.000000</td>\n",
       "      <td>74.000000</td>\n",
       "      <td>99.000000</td>\n",
       "      <td>22.000000</td>\n",
       "      <td>3.000000</td>\n",
       "      <td>360.000000</td>\n",
       "      <td>360.000000</td>\n",
       "      <td>7.700000</td>\n",
       "      <td>7.000000</td>\n",
       "    </tr>\n",
       "  </tbody>\n",
       "</table>\n",
       "</div>"
      ],
      "text/plain": [
       "                0            1            2            3            4   \\\n",
       "count  5760.000000  5760.000000  5760.000000  5760.000000  5760.000000   \n",
       "mean     22.527413     1.702396     0.388363     0.140427     2.135729   \n",
       "std       6.290152     0.125265     0.323573     0.104645     2.282155   \n",
       "min     -12.300000    -0.200000    -0.120000     0.000000    -1.100000   \n",
       "25%      18.000000     1.600000     0.250000     0.070000     1.100000   \n",
       "50%      23.000000     1.700000     0.340000     0.110000     1.600000   \n",
       "75%      27.000000     1.800000     0.450000     0.180000     2.300000   \n",
       "max      36.000000     2.000000     7.570000     1.300000    31.000000   \n",
       "\n",
       "                5            6            7            8            9   \\\n",
       "count  5760.000000  5760.000000  5760.000000  5760.000000  5760.000000   \n",
       "mean     10.125990    12.247726    31.905469    42.709201    21.414236   \n",
       "std       6.187555     7.577133    18.703486    26.222292    16.662537   \n",
       "min       0.000000    -2.400000     0.000000     0.000000    -1.000000   \n",
       "25%       5.900000     7.300000    18.000000    24.000000     9.000000   \n",
       "50%       8.600000    10.000000    29.000000    38.000000    18.000000   \n",
       "75%      13.000000    15.000000    42.000000    57.000000    29.250000   \n",
       "max      46.000000    71.000000   231.000000   181.000000   112.000000   \n",
       "\n",
       "                10           11           12           13           14  \\\n",
       "count  5760.000000  5760.000000  5760.000000  5760.000000  5760.000000   \n",
       "mean      0.200625    73.229167     2.763125     1.839653   156.329271   \n",
       "std       2.045443    13.361351     1.816940     0.181839    95.745881   \n",
       "min       0.000000    29.000000    -1.600000    -0.200000     0.100000   \n",
       "25%       0.000000    64.000000     1.600000     1.700000    72.000000   \n",
       "50%       0.000000    75.000000     2.300000     1.800000   119.000000   \n",
       "75%       0.000000    84.000000     3.400000     1.900000   213.000000   \n",
       "max      74.000000    99.000000    22.000000     3.000000   360.000000   \n",
       "\n",
       "                15           16           17  \n",
       "count  5760.000000  5760.000000  5760.000000  \n",
       "mean    158.482795     2.297240     1.712760  \n",
       "std      94.697432     1.065408     1.062683  \n",
       "min       0.000000     0.000000     0.000000  \n",
       "25%      76.000000     1.500000     0.900000  \n",
       "50%     121.500000     2.100000     1.500000  \n",
       "75%     219.000000     2.900000     2.300000  \n",
       "max     360.000000     7.700000     7.000000  "
      ]
     },
     "execution_count": 32,
     "metadata": {},
     "output_type": "execute_result"
    }
   ],
   "source": [
    "all_train_data.describe()"
   ]
  },
  {
   "cell_type": "markdown",
   "metadata": {
    "ExecuteTime": {
     "end_time": "2021-12-28T03:08:39.600886Z",
     "start_time": "2021-12-28T03:08:39.594886Z"
    },
    "collapsed": true
   },
   "source": [
    "### correct outlier value"
   ]
  },
  {
   "cell_type": "code",
   "execution_count": 33,
   "metadata": {
    "ExecuteTime": {
     "end_time": "2022-01-13T07:42:41.207893Z",
     "start_time": "2022-01-13T07:42:41.199893Z"
    },
    "collapsed": true
   },
   "outputs": [],
   "source": [
    "year_data1=year_data.copy()"
   ]
  },
  {
   "cell_type": "code",
   "execution_count": 34,
   "metadata": {
    "ExecuteTime": {
     "end_time": "2022-01-13T07:42:41.974937Z",
     "start_time": "2022-01-13T07:42:41.928935Z"
    }
   },
   "outputs": [
    {
     "name": "stdout",
     "output_type": "stream",
     "text": [
      " month :  0\n",
      " month :  1\n",
      " month :  2\n",
      "---------- pm2.5 start : \n",
      " -3.1 \n",
      "\n",
      "-8.0\n",
      "-7.2\n",
      "-6.8\n",
      "-6.5\n",
      "-7.1\n",
      "-7.4\n",
      "-8.1\n",
      "-8.3\n",
      "-8.4\n",
      "-9.3\n",
      "-10.6\n",
      "-11.2\n",
      "-12.1\n",
      "0.0\n",
      "0.0\n",
      "0.0\n",
      "0.0\n",
      "-12.3\n",
      "pm2.5 end ------------\n",
      "correct value between  : 19.0 18.0\n",
      " month :  3\n",
      " month :  4\n",
      " month :  5\n",
      " month :  6\n",
      " month :  7\n",
      " month :  8\n",
      " month :  9\n",
      " month :  10\n",
      " month :  11\n"
     ]
    }
   ],
   "source": [
    "# temperature always >=0 in Taiwan and change fast when temperature <=0 ,so correct it\n",
    "for idx in [0]:\t\n",
    "\tfor m in range(12):\n",
    "\t\tprint(' month : ',m)\n",
    "\t\ti=0\n",
    "\t\twhile i<480:\n",
    "\t\t\tif year_data1[m][idx,i] <=0:\n",
    "\t\t\t\tprint('---------- pm2.5 start : \\n',year_data1[m][idx,i],'\\n')\n",
    "\t\t\t\tfor k in range(30):\n",
    "\t\t\t\t\tif k+i+1>479:\n",
    "\t\t\t\t\t\tbreak\n",
    "\t\t\t\t\telse:\n",
    "\t\t\t\t\t\tif year_data1[m][idx,k+i+1] >0:\n",
    "\t\t\t\t\t\t\tbreak\n",
    "\t\t\t\t\t\telse:\n",
    "\t\t\t\t\t\t\tprint(year_data1[m][idx,k+i+1])\n",
    "\t\t\t\ti=i+k\n",
    "\t\t\t\tprint('pm2.5 end ------------')\n",
    "\t\t\t\tprint('correct value between  :',year_data1[m][idx,i-1-k],year_data1[m][idx,i+1])\n",
    "\t\t\t\t## add correct to mean value\n",
    "\t\t\t\tyear_data1[m][idx,i-k:i+1]=(year_data1[m][idx,i-1-k]+year_data1[m][idx,i+1])/2\n",
    "\t\t\ti=i+1"
   ]
  },
  {
   "cell_type": "code",
   "execution_count": 53,
   "metadata": {
    "ExecuteTime": {
     "end_time": "2022-01-13T07:49:04.770832Z",
     "start_time": "2022-01-13T07:49:04.745830Z"
    },
    "collapsed": true
   },
   "outputs": [],
   "source": [
    "month_list=[]\n",
    "for i in range(12):\n",
    "    month_list.append(pd.DataFrame(year_data1[i]))\n",
    "all_train_data1=pd.concat(month_list,axis=1).T"
   ]
  },
  {
   "cell_type": "code",
   "execution_count": 54,
   "metadata": {
    "ExecuteTime": {
     "end_time": "2022-01-13T07:49:09.332093Z",
     "start_time": "2022-01-13T07:49:09.261089Z"
    }
   },
   "outputs": [
    {
     "data": {
      "text/html": [
       "<div>\n",
       "<style>\n",
       "    .dataframe thead tr:only-child th {\n",
       "        text-align: right;\n",
       "    }\n",
       "\n",
       "    .dataframe thead th {\n",
       "        text-align: left;\n",
       "    }\n",
       "\n",
       "    .dataframe tbody tr th {\n",
       "        vertical-align: top;\n",
       "    }\n",
       "</style>\n",
       "<table border=\"1\" class=\"dataframe\">\n",
       "  <thead>\n",
       "    <tr style=\"text-align: right;\">\n",
       "      <th></th>\n",
       "      <th>0</th>\n",
       "      <th>1</th>\n",
       "      <th>2</th>\n",
       "      <th>3</th>\n",
       "      <th>4</th>\n",
       "      <th>5</th>\n",
       "      <th>6</th>\n",
       "      <th>7</th>\n",
       "      <th>8</th>\n",
       "      <th>9</th>\n",
       "      <th>10</th>\n",
       "      <th>11</th>\n",
       "      <th>12</th>\n",
       "      <th>13</th>\n",
       "      <th>14</th>\n",
       "      <th>15</th>\n",
       "      <th>16</th>\n",
       "      <th>17</th>\n",
       "    </tr>\n",
       "  </thead>\n",
       "  <tbody>\n",
       "    <tr>\n",
       "      <th>count</th>\n",
       "      <td>5760.000000</td>\n",
       "      <td>5760.000000</td>\n",
       "      <td>5760.000000</td>\n",
       "      <td>5760.000000</td>\n",
       "      <td>5760.000000</td>\n",
       "      <td>5760.000000</td>\n",
       "      <td>5760.000000</td>\n",
       "      <td>5760.000000</td>\n",
       "      <td>5760.000000</td>\n",
       "      <td>5760.000000</td>\n",
       "      <td>5760.000000</td>\n",
       "      <td>5760.000000</td>\n",
       "      <td>5760.000000</td>\n",
       "      <td>5760.000000</td>\n",
       "      <td>5760.000000</td>\n",
       "      <td>5760.000000</td>\n",
       "      <td>5760.000000</td>\n",
       "      <td>5760.000000</td>\n",
       "    </tr>\n",
       "    <tr>\n",
       "      <th>mean</th>\n",
       "      <td>22.610382</td>\n",
       "      <td>1.705521</td>\n",
       "      <td>0.388436</td>\n",
       "      <td>0.140427</td>\n",
       "      <td>2.136970</td>\n",
       "      <td>10.125990</td>\n",
       "      <td>12.254115</td>\n",
       "      <td>31.905469</td>\n",
       "      <td>42.709201</td>\n",
       "      <td>21.534201</td>\n",
       "      <td>0.200625</td>\n",
       "      <td>73.229167</td>\n",
       "      <td>2.769089</td>\n",
       "      <td>1.843012</td>\n",
       "      <td>156.329271</td>\n",
       "      <td>158.482795</td>\n",
       "      <td>2.297240</td>\n",
       "      <td>1.712760</td>\n",
       "    </tr>\n",
       "    <tr>\n",
       "      <th>std</th>\n",
       "      <td>6.062216</td>\n",
       "      <td>0.100203</td>\n",
       "      <td>0.323505</td>\n",
       "      <td>0.104645</td>\n",
       "      <td>2.281611</td>\n",
       "      <td>6.187555</td>\n",
       "      <td>7.571422</td>\n",
       "      <td>18.703486</td>\n",
       "      <td>26.222292</td>\n",
       "      <td>16.576035</td>\n",
       "      <td>2.045443</td>\n",
       "      <td>13.361351</td>\n",
       "      <td>1.809743</td>\n",
       "      <td>0.163008</td>\n",
       "      <td>95.745881</td>\n",
       "      <td>94.697432</td>\n",
       "      <td>1.065408</td>\n",
       "      <td>1.062683</td>\n",
       "    </tr>\n",
       "    <tr>\n",
       "      <th>min</th>\n",
       "      <td>6.700000</td>\n",
       "      <td>0.000000</td>\n",
       "      <td>0.080000</td>\n",
       "      <td>0.000000</td>\n",
       "      <td>0.000000</td>\n",
       "      <td>0.000000</td>\n",
       "      <td>1.300000</td>\n",
       "      <td>0.000000</td>\n",
       "      <td>0.000000</td>\n",
       "      <td>0.000000</td>\n",
       "      <td>0.000000</td>\n",
       "      <td>29.000000</td>\n",
       "      <td>0.000000</td>\n",
       "      <td>0.000000</td>\n",
       "      <td>0.100000</td>\n",
       "      <td>0.000000</td>\n",
       "      <td>0.000000</td>\n",
       "      <td>0.000000</td>\n",
       "    </tr>\n",
       "    <tr>\n",
       "      <th>25%</th>\n",
       "      <td>18.000000</td>\n",
       "      <td>1.600000</td>\n",
       "      <td>0.250000</td>\n",
       "      <td>0.070000</td>\n",
       "      <td>1.100000</td>\n",
       "      <td>5.900000</td>\n",
       "      <td>7.300000</td>\n",
       "      <td>18.000000</td>\n",
       "      <td>24.000000</td>\n",
       "      <td>9.000000</td>\n",
       "      <td>0.000000</td>\n",
       "      <td>64.000000</td>\n",
       "      <td>1.600000</td>\n",
       "      <td>1.700000</td>\n",
       "      <td>72.000000</td>\n",
       "      <td>76.000000</td>\n",
       "      <td>1.500000</td>\n",
       "      <td>0.900000</td>\n",
       "    </tr>\n",
       "    <tr>\n",
       "      <th>50%</th>\n",
       "      <td>23.000000</td>\n",
       "      <td>1.700000</td>\n",
       "      <td>0.340000</td>\n",
       "      <td>0.110000</td>\n",
       "      <td>1.600000</td>\n",
       "      <td>8.600000</td>\n",
       "      <td>10.000000</td>\n",
       "      <td>29.000000</td>\n",
       "      <td>38.000000</td>\n",
       "      <td>18.000000</td>\n",
       "      <td>0.000000</td>\n",
       "      <td>75.000000</td>\n",
       "      <td>2.300000</td>\n",
       "      <td>1.800000</td>\n",
       "      <td>119.000000</td>\n",
       "      <td>121.500000</td>\n",
       "      <td>2.100000</td>\n",
       "      <td>1.500000</td>\n",
       "    </tr>\n",
       "    <tr>\n",
       "      <th>75%</th>\n",
       "      <td>27.000000</td>\n",
       "      <td>1.800000</td>\n",
       "      <td>0.450000</td>\n",
       "      <td>0.180000</td>\n",
       "      <td>2.300000</td>\n",
       "      <td>13.000000</td>\n",
       "      <td>15.000000</td>\n",
       "      <td>42.000000</td>\n",
       "      <td>57.000000</td>\n",
       "      <td>30.000000</td>\n",
       "      <td>0.000000</td>\n",
       "      <td>84.000000</td>\n",
       "      <td>3.400000</td>\n",
       "      <td>1.900000</td>\n",
       "      <td>213.000000</td>\n",
       "      <td>219.000000</td>\n",
       "      <td>2.900000</td>\n",
       "      <td>2.300000</td>\n",
       "    </tr>\n",
       "    <tr>\n",
       "      <th>max</th>\n",
       "      <td>36.000000</td>\n",
       "      <td>2.000000</td>\n",
       "      <td>7.570000</td>\n",
       "      <td>1.300000</td>\n",
       "      <td>31.000000</td>\n",
       "      <td>46.000000</td>\n",
       "      <td>71.000000</td>\n",
       "      <td>231.000000</td>\n",
       "      <td>181.000000</td>\n",
       "      <td>112.000000</td>\n",
       "      <td>74.000000</td>\n",
       "      <td>99.000000</td>\n",
       "      <td>22.000000</td>\n",
       "      <td>3.000000</td>\n",
       "      <td>360.000000</td>\n",
       "      <td>360.000000</td>\n",
       "      <td>7.700000</td>\n",
       "      <td>7.000000</td>\n",
       "    </tr>\n",
       "  </tbody>\n",
       "</table>\n",
       "</div>"
      ],
      "text/plain": [
       "                0            1            2            3            4   \\\n",
       "count  5760.000000  5760.000000  5760.000000  5760.000000  5760.000000   \n",
       "mean     22.610382     1.705521     0.388436     0.140427     2.136970   \n",
       "std       6.062216     0.100203     0.323505     0.104645     2.281611   \n",
       "min       6.700000     0.000000     0.080000     0.000000     0.000000   \n",
       "25%      18.000000     1.600000     0.250000     0.070000     1.100000   \n",
       "50%      23.000000     1.700000     0.340000     0.110000     1.600000   \n",
       "75%      27.000000     1.800000     0.450000     0.180000     2.300000   \n",
       "max      36.000000     2.000000     7.570000     1.300000    31.000000   \n",
       "\n",
       "                5            6            7            8            9   \\\n",
       "count  5760.000000  5760.000000  5760.000000  5760.000000  5760.000000   \n",
       "mean     10.125990    12.254115    31.905469    42.709201    21.534201   \n",
       "std       6.187555     7.571422    18.703486    26.222292    16.576035   \n",
       "min       0.000000     1.300000     0.000000     0.000000     0.000000   \n",
       "25%       5.900000     7.300000    18.000000    24.000000     9.000000   \n",
       "50%       8.600000    10.000000    29.000000    38.000000    18.000000   \n",
       "75%      13.000000    15.000000    42.000000    57.000000    30.000000   \n",
       "max      46.000000    71.000000   231.000000   181.000000   112.000000   \n",
       "\n",
       "                10           11           12           13           14  \\\n",
       "count  5760.000000  5760.000000  5760.000000  5760.000000  5760.000000   \n",
       "mean      0.200625    73.229167     2.769089     1.843012   156.329271   \n",
       "std       2.045443    13.361351     1.809743     0.163008    95.745881   \n",
       "min       0.000000    29.000000     0.000000     0.000000     0.100000   \n",
       "25%       0.000000    64.000000     1.600000     1.700000    72.000000   \n",
       "50%       0.000000    75.000000     2.300000     1.800000   119.000000   \n",
       "75%       0.000000    84.000000     3.400000     1.900000   213.000000   \n",
       "max      74.000000    99.000000    22.000000     3.000000   360.000000   \n",
       "\n",
       "                15           16           17  \n",
       "count  5760.000000  5760.000000  5760.000000  \n",
       "mean    158.482795     2.297240     1.712760  \n",
       "std      94.697432     1.065408     1.062683  \n",
       "min       0.000000     0.000000     0.000000  \n",
       "25%      76.000000     1.500000     0.900000  \n",
       "50%     121.500000     2.100000     1.500000  \n",
       "75%     219.000000     2.900000     2.300000  \n",
       "max     360.000000     7.700000     7.000000  "
      ]
     },
     "execution_count": 54,
     "metadata": {},
     "output_type": "execute_result"
    }
   ],
   "source": [
    "all_train_data1.describe()"
   ]
  },
  {
   "cell_type": "code",
   "execution_count": 55,
   "metadata": {
    "ExecuteTime": {
     "end_time": "2022-01-13T07:49:09.931127Z",
     "start_time": "2022-01-13T07:49:09.866123Z"
    }
   },
   "outputs": [
    {
     "name": "stdout",
     "output_type": "stream",
     "text": [
      " month :  0\n",
      " month :  1\n",
      " month :  2\n",
      " month :  3\n",
      " month :  4\n",
      " month :  5\n",
      " month :  6\n",
      " month :  7\n",
      " month :  8\n",
      " month :  9\n",
      " month :  10\n",
      " month :  11\n",
      " month :  0\n",
      " month :  1\n",
      " month :  2\n",
      " month :  3\n",
      " month :  4\n",
      " month :  5\n",
      " month :  6\n",
      " month :  7\n",
      " month :  8\n",
      " month :  9\n",
      " month :  10\n",
      " month :  11\n",
      " month :  0\n",
      " month :  1\n",
      " month :  2\n",
      " month :  3\n",
      " month :  4\n",
      " month :  5\n",
      " month :  6\n",
      " month :  7\n",
      " month :  8\n",
      " month :  9\n",
      " month :  10\n",
      " month :  11\n",
      " month :  0\n",
      " month :  1\n",
      " month :  2\n",
      " month :  3\n",
      " month :  4\n",
      " month :  5\n",
      " month :  6\n",
      " month :  7\n",
      " month :  8\n",
      " month :  9\n",
      " month :  10\n",
      " month :  11\n",
      " month :  0\n",
      " month :  1\n",
      " month :  2\n",
      " month :  3\n",
      " month :  4\n",
      " month :  5\n",
      " month :  6\n",
      " month :  7\n",
      " month :  8\n",
      " month :  9\n",
      " month :  10\n",
      " month :  11\n",
      " month :  0\n",
      " month :  1\n",
      " month :  2\n",
      " month :  3\n",
      " month :  4\n",
      " month :  5\n",
      " month :  6\n",
      " month :  7\n",
      " month :  8\n",
      " month :  9\n",
      " month :  10\n",
      " month :  11\n",
      " month :  0\n",
      " month :  1\n",
      " month :  2\n",
      " month :  3\n",
      " month :  4\n",
      " month :  5\n",
      " month :  6\n",
      " month :  7\n",
      " month :  8\n",
      " month :  9\n",
      " month :  10\n",
      " month :  11\n"
     ]
    }
   ],
   "source": [
    "for idx in [1,2,4,6,9,12,13]:\t\n",
    "\tfor m in range(12):\n",
    "\t\tprint(' month : ',m)\n",
    "\t\ti=0\n",
    "\t\twhile i<480:\n",
    "\t\t\tif year_data1[m][idx,i] <0:\n",
    "\t\t\t\tprint('---------- pm2.5 start : \\n',year_data1[m][idx,i],'\\n')\n",
    "\t\t\t\tfor k in range(30):\n",
    "\t\t\t\t\tif k+i+1>479:\n",
    "\t\t\t\t\t\tbreak\n",
    "\t\t\t\t\telse:\n",
    "\t\t\t\t\t\tif year_data1[m][idx,k+i+1] >=0:\n",
    "\t\t\t\t\t\t\tbreak\n",
    "\t\t\t\t\t\telse:\n",
    "\t\t\t\t\t\t\tprint(year_data1[m][idx,k+i+1])\n",
    "\t\t\t\ti=i+k\n",
    "\t\t\t\tprint('pm2.5 end ------------')\n",
    "\t\t\t\tprint('correct value between  :',year_data1[m][idx,i-1-k],year_data1[m][idx,i+1])\n",
    "\t\t\t\t## add correct to mean value\n",
    "\t\t\t\tyear_data1[m][idx,i-k:i+1]=(year_data1[m][idx,i-1-k]+year_data1[m][idx,i+1])/2\n",
    "\t\t\ti=i+1"
   ]
  },
  {
   "cell_type": "code",
   "execution_count": 56,
   "metadata": {
    "ExecuteTime": {
     "end_time": "2022-01-13T07:49:10.687170Z",
     "start_time": "2022-01-13T07:49:10.665169Z"
    },
    "collapsed": true
   },
   "outputs": [],
   "source": [
    "month_list=[]\n",
    "for i in range(12):\n",
    "    month_list.append(pd.DataFrame(year_data1[i]))\n",
    "all_train_data1=pd.concat(month_list,axis=1).T"
   ]
  },
  {
   "cell_type": "code",
   "execution_count": 57,
   "metadata": {
    "ExecuteTime": {
     "end_time": "2022-01-13T07:49:11.664226Z",
     "start_time": "2022-01-13T07:49:11.582221Z"
    }
   },
   "outputs": [
    {
     "data": {
      "text/html": [
       "<div>\n",
       "<style>\n",
       "    .dataframe thead tr:only-child th {\n",
       "        text-align: right;\n",
       "    }\n",
       "\n",
       "    .dataframe thead th {\n",
       "        text-align: left;\n",
       "    }\n",
       "\n",
       "    .dataframe tbody tr th {\n",
       "        vertical-align: top;\n",
       "    }\n",
       "</style>\n",
       "<table border=\"1\" class=\"dataframe\">\n",
       "  <thead>\n",
       "    <tr style=\"text-align: right;\">\n",
       "      <th></th>\n",
       "      <th>0</th>\n",
       "      <th>1</th>\n",
       "      <th>2</th>\n",
       "      <th>3</th>\n",
       "      <th>4</th>\n",
       "      <th>5</th>\n",
       "      <th>6</th>\n",
       "      <th>7</th>\n",
       "      <th>8</th>\n",
       "      <th>9</th>\n",
       "      <th>10</th>\n",
       "      <th>11</th>\n",
       "      <th>12</th>\n",
       "      <th>13</th>\n",
       "      <th>14</th>\n",
       "      <th>15</th>\n",
       "      <th>16</th>\n",
       "      <th>17</th>\n",
       "    </tr>\n",
       "  </thead>\n",
       "  <tbody>\n",
       "    <tr>\n",
       "      <th>count</th>\n",
       "      <td>5760.000000</td>\n",
       "      <td>5760.000000</td>\n",
       "      <td>5760.000000</td>\n",
       "      <td>5760.000000</td>\n",
       "      <td>5760.000000</td>\n",
       "      <td>5760.000000</td>\n",
       "      <td>5760.000000</td>\n",
       "      <td>5760.000000</td>\n",
       "      <td>5760.000000</td>\n",
       "      <td>5760.000000</td>\n",
       "      <td>5760.000000</td>\n",
       "      <td>5760.000000</td>\n",
       "      <td>5760.000000</td>\n",
       "      <td>5760.000000</td>\n",
       "      <td>5760.000000</td>\n",
       "      <td>5760.000000</td>\n",
       "      <td>5760.000000</td>\n",
       "      <td>5760.000000</td>\n",
       "    </tr>\n",
       "    <tr>\n",
       "      <th>mean</th>\n",
       "      <td>22.610382</td>\n",
       "      <td>1.705521</td>\n",
       "      <td>0.388436</td>\n",
       "      <td>0.140427</td>\n",
       "      <td>2.136970</td>\n",
       "      <td>10.125990</td>\n",
       "      <td>12.254115</td>\n",
       "      <td>31.905469</td>\n",
       "      <td>42.709201</td>\n",
       "      <td>21.534201</td>\n",
       "      <td>0.200625</td>\n",
       "      <td>73.229167</td>\n",
       "      <td>2.769089</td>\n",
       "      <td>1.843012</td>\n",
       "      <td>156.329271</td>\n",
       "      <td>158.482795</td>\n",
       "      <td>2.297240</td>\n",
       "      <td>1.712760</td>\n",
       "    </tr>\n",
       "    <tr>\n",
       "      <th>std</th>\n",
       "      <td>6.062216</td>\n",
       "      <td>0.100203</td>\n",
       "      <td>0.323505</td>\n",
       "      <td>0.104645</td>\n",
       "      <td>2.281611</td>\n",
       "      <td>6.187555</td>\n",
       "      <td>7.571422</td>\n",
       "      <td>18.703486</td>\n",
       "      <td>26.222292</td>\n",
       "      <td>16.576035</td>\n",
       "      <td>2.045443</td>\n",
       "      <td>13.361351</td>\n",
       "      <td>1.809743</td>\n",
       "      <td>0.163008</td>\n",
       "      <td>95.745881</td>\n",
       "      <td>94.697432</td>\n",
       "      <td>1.065408</td>\n",
       "      <td>1.062683</td>\n",
       "    </tr>\n",
       "    <tr>\n",
       "      <th>min</th>\n",
       "      <td>6.700000</td>\n",
       "      <td>0.000000</td>\n",
       "      <td>0.080000</td>\n",
       "      <td>0.000000</td>\n",
       "      <td>0.000000</td>\n",
       "      <td>0.000000</td>\n",
       "      <td>1.300000</td>\n",
       "      <td>0.000000</td>\n",
       "      <td>0.000000</td>\n",
       "      <td>0.000000</td>\n",
       "      <td>0.000000</td>\n",
       "      <td>29.000000</td>\n",
       "      <td>0.000000</td>\n",
       "      <td>0.000000</td>\n",
       "      <td>0.100000</td>\n",
       "      <td>0.000000</td>\n",
       "      <td>0.000000</td>\n",
       "      <td>0.000000</td>\n",
       "    </tr>\n",
       "    <tr>\n",
       "      <th>25%</th>\n",
       "      <td>18.000000</td>\n",
       "      <td>1.600000</td>\n",
       "      <td>0.250000</td>\n",
       "      <td>0.070000</td>\n",
       "      <td>1.100000</td>\n",
       "      <td>5.900000</td>\n",
       "      <td>7.300000</td>\n",
       "      <td>18.000000</td>\n",
       "      <td>24.000000</td>\n",
       "      <td>9.000000</td>\n",
       "      <td>0.000000</td>\n",
       "      <td>64.000000</td>\n",
       "      <td>1.600000</td>\n",
       "      <td>1.700000</td>\n",
       "      <td>72.000000</td>\n",
       "      <td>76.000000</td>\n",
       "      <td>1.500000</td>\n",
       "      <td>0.900000</td>\n",
       "    </tr>\n",
       "    <tr>\n",
       "      <th>50%</th>\n",
       "      <td>23.000000</td>\n",
       "      <td>1.700000</td>\n",
       "      <td>0.340000</td>\n",
       "      <td>0.110000</td>\n",
       "      <td>1.600000</td>\n",
       "      <td>8.600000</td>\n",
       "      <td>10.000000</td>\n",
       "      <td>29.000000</td>\n",
       "      <td>38.000000</td>\n",
       "      <td>18.000000</td>\n",
       "      <td>0.000000</td>\n",
       "      <td>75.000000</td>\n",
       "      <td>2.300000</td>\n",
       "      <td>1.800000</td>\n",
       "      <td>119.000000</td>\n",
       "      <td>121.500000</td>\n",
       "      <td>2.100000</td>\n",
       "      <td>1.500000</td>\n",
       "    </tr>\n",
       "    <tr>\n",
       "      <th>75%</th>\n",
       "      <td>27.000000</td>\n",
       "      <td>1.800000</td>\n",
       "      <td>0.450000</td>\n",
       "      <td>0.180000</td>\n",
       "      <td>2.300000</td>\n",
       "      <td>13.000000</td>\n",
       "      <td>15.000000</td>\n",
       "      <td>42.000000</td>\n",
       "      <td>57.000000</td>\n",
       "      <td>30.000000</td>\n",
       "      <td>0.000000</td>\n",
       "      <td>84.000000</td>\n",
       "      <td>3.400000</td>\n",
       "      <td>1.900000</td>\n",
       "      <td>213.000000</td>\n",
       "      <td>219.000000</td>\n",
       "      <td>2.900000</td>\n",
       "      <td>2.300000</td>\n",
       "    </tr>\n",
       "    <tr>\n",
       "      <th>max</th>\n",
       "      <td>36.000000</td>\n",
       "      <td>2.000000</td>\n",
       "      <td>7.570000</td>\n",
       "      <td>1.300000</td>\n",
       "      <td>31.000000</td>\n",
       "      <td>46.000000</td>\n",
       "      <td>71.000000</td>\n",
       "      <td>231.000000</td>\n",
       "      <td>181.000000</td>\n",
       "      <td>112.000000</td>\n",
       "      <td>74.000000</td>\n",
       "      <td>99.000000</td>\n",
       "      <td>22.000000</td>\n",
       "      <td>3.000000</td>\n",
       "      <td>360.000000</td>\n",
       "      <td>360.000000</td>\n",
       "      <td>7.700000</td>\n",
       "      <td>7.000000</td>\n",
       "    </tr>\n",
       "  </tbody>\n",
       "</table>\n",
       "</div>"
      ],
      "text/plain": [
       "                0            1            2            3            4   \\\n",
       "count  5760.000000  5760.000000  5760.000000  5760.000000  5760.000000   \n",
       "mean     22.610382     1.705521     0.388436     0.140427     2.136970   \n",
       "std       6.062216     0.100203     0.323505     0.104645     2.281611   \n",
       "min       6.700000     0.000000     0.080000     0.000000     0.000000   \n",
       "25%      18.000000     1.600000     0.250000     0.070000     1.100000   \n",
       "50%      23.000000     1.700000     0.340000     0.110000     1.600000   \n",
       "75%      27.000000     1.800000     0.450000     0.180000     2.300000   \n",
       "max      36.000000     2.000000     7.570000     1.300000    31.000000   \n",
       "\n",
       "                5            6            7            8            9   \\\n",
       "count  5760.000000  5760.000000  5760.000000  5760.000000  5760.000000   \n",
       "mean     10.125990    12.254115    31.905469    42.709201    21.534201   \n",
       "std       6.187555     7.571422    18.703486    26.222292    16.576035   \n",
       "min       0.000000     1.300000     0.000000     0.000000     0.000000   \n",
       "25%       5.900000     7.300000    18.000000    24.000000     9.000000   \n",
       "50%       8.600000    10.000000    29.000000    38.000000    18.000000   \n",
       "75%      13.000000    15.000000    42.000000    57.000000    30.000000   \n",
       "max      46.000000    71.000000   231.000000   181.000000   112.000000   \n",
       "\n",
       "                10           11           12           13           14  \\\n",
       "count  5760.000000  5760.000000  5760.000000  5760.000000  5760.000000   \n",
       "mean      0.200625    73.229167     2.769089     1.843012   156.329271   \n",
       "std       2.045443    13.361351     1.809743     0.163008    95.745881   \n",
       "min       0.000000    29.000000     0.000000     0.000000     0.100000   \n",
       "25%       0.000000    64.000000     1.600000     1.700000    72.000000   \n",
       "50%       0.000000    75.000000     2.300000     1.800000   119.000000   \n",
       "75%       0.000000    84.000000     3.400000     1.900000   213.000000   \n",
       "max      74.000000    99.000000    22.000000     3.000000   360.000000   \n",
       "\n",
       "                15           16           17  \n",
       "count  5760.000000  5760.000000  5760.000000  \n",
       "mean    158.482795     2.297240     1.712760  \n",
       "std      94.697432     1.065408     1.062683  \n",
       "min       0.000000     0.000000     0.000000  \n",
       "25%      76.000000     1.500000     0.900000  \n",
       "50%     121.500000     2.100000     1.500000  \n",
       "75%     219.000000     2.900000     2.300000  \n",
       "max     360.000000     7.700000     7.000000  "
      ]
     },
     "execution_count": 57,
     "metadata": {},
     "output_type": "execute_result"
    }
   ],
   "source": [
    "all_train_data1.describe()"
   ]
  },
  {
   "cell_type": "code",
   "execution_count": 58,
   "metadata": {
    "ExecuteTime": {
     "end_time": "2022-01-13T07:49:12.987302Z",
     "start_time": "2022-01-13T07:49:12.978301Z"
    },
    "collapsed": true
   },
   "outputs": [],
   "source": [
    "x3=np.empty((12*471,18*9))\n",
    "y3=np.empty((12*471,1))"
   ]
  },
  {
   "cell_type": "code",
   "execution_count": 59,
   "metadata": {
    "ExecuteTime": {
     "end_time": "2022-01-13T07:49:14.282376Z",
     "start_time": "2022-01-13T07:49:14.230373Z"
    },
    "collapsed": true
   },
   "outputs": [],
   "source": [
    "for m in range(12):\n",
    "    for g in range(471):\n",
    "        x3[m*471+g:m*471+g+1,:]=year_data1[m][:,g:g+9].reshape(1,-1)\n",
    "        y3[m*471+g:m*471+g+1,:]=year_data1[m][9,g+9]"
   ]
  },
  {
   "cell_type": "code",
   "execution_count": 60,
   "metadata": {
    "ExecuteTime": {
     "end_time": "2022-01-13T07:49:16.724516Z",
     "start_time": "2022-01-13T07:49:16.713515Z"
    }
   },
   "outputs": [
    {
     "data": {
      "text/plain": [
       "array([1.7, 1.7, 1.7, 1.7, 1.8])"
      ]
     },
     "execution_count": 60,
     "metadata": {},
     "output_type": "execute_result"
    }
   ],
   "source": [
    "year_data[11][-5,:5]"
   ]
  },
  {
   "cell_type": "code",
   "execution_count": 61,
   "metadata": {
    "ExecuteTime": {
     "end_time": "2022-01-13T07:49:18.732630Z",
     "start_time": "2022-01-13T07:49:18.720630Z"
    }
   },
   "outputs": [
    {
     "data": {
      "text/plain": [
       "array([1.7, 1.7, 1.7, 1.7, 1.8])"
      ]
     },
     "execution_count": 61,
     "metadata": {},
     "output_type": "execute_result"
    }
   ],
   "source": [
    "year_data1[11][-5,:5]"
   ]
  },
  {
   "cell_type": "code",
   "execution_count": 62,
   "metadata": {
    "ExecuteTime": {
     "end_time": "2022-01-13T07:49:19.733688Z",
     "start_time": "2022-01-13T07:49:19.722687Z"
    }
   },
   "outputs": [
    {
     "data": {
      "text/plain": [
       "array([1.3, 1.7, 0.7, 0.4, 1.1])"
      ]
     },
     "execution_count": 62,
     "metadata": {},
     "output_type": "execute_result"
    }
   ],
   "source": [
    "x[-5,-5:]"
   ]
  },
  {
   "cell_type": "code",
   "execution_count": 63,
   "metadata": {
    "ExecuteTime": {
     "end_time": "2022-01-13T07:49:20.232716Z",
     "start_time": "2022-01-13T07:49:20.225716Z"
    }
   },
   "outputs": [
    {
     "data": {
      "text/plain": [
       "array([1.3, 1.7, 0.7, 0.4, 1.1])"
      ]
     },
     "execution_count": 63,
     "metadata": {},
     "output_type": "execute_result"
    }
   ],
   "source": [
    "x3[-5,-5:]"
   ]
  },
  {
   "cell_type": "code",
   "execution_count": 64,
   "metadata": {
    "ExecuteTime": {
     "end_time": "2022-01-13T07:49:20.826750Z",
     "start_time": "2022-01-13T07:49:20.816750Z"
    }
   },
   "outputs": [
    {
     "data": {
      "text/plain": [
       "array([[37.],\n",
       "       [28.],\n",
       "       [17.],\n",
       "       [24.],\n",
       "       [29.]])"
      ]
     },
     "execution_count": 64,
     "metadata": {},
     "output_type": "execute_result"
    }
   ],
   "source": [
    "y[-5:]"
   ]
  },
  {
   "cell_type": "code",
   "execution_count": 65,
   "metadata": {
    "ExecuteTime": {
     "end_time": "2022-01-13T07:49:21.285776Z",
     "start_time": "2022-01-13T07:49:21.279776Z"
    }
   },
   "outputs": [
    {
     "data": {
      "text/plain": [
       "array([[37.],\n",
       "       [28.],\n",
       "       [17.],\n",
       "       [24.],\n",
       "       [29.]])"
      ]
     },
     "execution_count": 65,
     "metadata": {},
     "output_type": "execute_result"
    }
   ],
   "source": [
    "y3[-5:]"
   ]
  },
  {
   "cell_type": "code",
   "execution_count": 66,
   "metadata": {
    "ExecuteTime": {
     "end_time": "2022-01-13T07:49:22.023819Z",
     "start_time": "2022-01-13T07:49:21.945814Z"
    }
   },
   "outputs": [
    {
     "data": {
      "text/plain": [
       "array([-1., -1., -1., -1., -1., -1., -1., -1., -1., -1., -1., -1., -1.,\n",
       "       -1., -1., -1., -1., -1., -1., -1., -1., -1., -1., -1., -1., -1.,\n",
       "       -1., -1., -1., -1., -1., -1., -1., -1., -1., -1., -1., -1., -1.,\n",
       "       -1., -1., -1., -1., -1., -1., -1., -1., -1., -1., -1., -1., -1.])"
      ]
     },
     "execution_count": 66,
     "metadata": {},
     "output_type": "execute_result"
    }
   ],
   "source": [
    "y[y<0]"
   ]
  },
  {
   "cell_type": "code",
   "execution_count": 67,
   "metadata": {
    "ExecuteTime": {
     "end_time": "2022-01-13T07:49:22.644854Z",
     "start_time": "2022-01-13T07:49:22.633854Z"
    }
   },
   "outputs": [
    {
     "data": {
      "text/plain": [
       "array([], dtype=float64)"
      ]
     },
     "execution_count": 67,
     "metadata": {},
     "output_type": "execute_result"
    }
   ],
   "source": [
    "y3[y3<0]"
   ]
  },
  {
   "cell_type": "code",
   "execution_count": 68,
   "metadata": {
    "ExecuteTime": {
     "end_time": "2022-01-13T07:49:23.221887Z",
     "start_time": "2022-01-13T07:49:23.209886Z"
    }
   },
   "outputs": [
    {
     "data": {
      "text/plain": [
       "array([], dtype=float64)"
      ]
     },
     "execution_count": 68,
     "metadata": {},
     "output_type": "execute_result"
    }
   ],
   "source": [
    "x3[x3<0]"
   ]
  },
  {
   "cell_type": "code",
   "execution_count": 69,
   "metadata": {
    "ExecuteTime": {
     "end_time": "2022-01-13T07:49:23.826922Z",
     "start_time": "2022-01-13T07:49:23.740917Z"
    },
    "collapsed": true
   },
   "outputs": [],
   "source": [
    "x33=pd.DataFrame(x3)\n",
    "x33=x33.apply(lambda x: (x-x.mean())/x.std())\n",
    "x33=x33.values\n",
    "y33=y3"
   ]
  },
  {
   "cell_type": "code",
   "execution_count": 52,
   "metadata": {
    "ExecuteTime": {
     "end_time": "2022-01-13T07:43:01.104031Z",
     "start_time": "2022-01-13T07:43:01.085030Z"
    },
    "collapsed": true
   },
   "outputs": [],
   "source": [
    "x333=torch.Tensor(x33)\n",
    "y333=torch.Tensor(y33)"
   ]
  },
  {
   "cell_type": "code",
   "execution_count": 70,
   "metadata": {
    "ExecuteTime": {
     "end_time": "2022-01-13T07:49:32.604424Z",
     "start_time": "2022-01-13T07:49:32.593423Z"
    }
   },
   "outputs": [
    {
     "data": {
      "text/plain": [
       "array([[30.],\n",
       "       [41.],\n",
       "       [44.],\n",
       "       [33.],\n",
       "       [37.]])"
      ]
     },
     "execution_count": 70,
     "metadata": {},
     "output_type": "execute_result"
    }
   ],
   "source": [
    "y33[:5]"
   ]
  },
  {
   "cell_type": "code",
   "execution_count": null,
   "metadata": {
    "collapsed": true
   },
   "outputs": [],
   "source": []
  },
  {
   "cell_type": "code",
   "execution_count": null,
   "metadata": {
    "collapsed": true
   },
   "outputs": [],
   "source": []
  },
  {
   "cell_type": "code",
   "execution_count": null,
   "metadata": {
    "ExecuteTime": {
     "end_time": "2021-12-29T02:16:28.216948Z",
     "start_time": "2021-12-29T02:12:18.918689Z"
    }
   },
   "outputs": [],
   "source": [
    "def get_net():\n",
    "    return nn.Sequential(nn.Linear(x1.shape[1],128),nn.Linear(128,1))\n",
    "net1=get_net()\n",
    "train_kfold(net1,1000,0.001,5,x1,y1,256,0,0)"
   ]
  },
  {
   "cell_type": "code",
   "execution_count": null,
   "metadata": {
    "ExecuteTime": {
     "end_time": "2021-12-30T08:03:25.478134Z",
     "start_time": "2021-12-30T08:03:15.837583Z"
    }
   },
   "outputs": [],
   "source": [
    "def get_net():\n",
    "    return nn.Sequential(nn.Linear(x1.shape[1],128),nn.Linear(128,1))\n",
    "net1=get_net()\n",
    "train_kfold(net1,10000,0.00001,5,x1,y1,256,0,0)"
   ]
  },
  {
   "cell_type": "code",
   "execution_count": null,
   "metadata": {
    "ExecuteTime": {
     "end_time": "2021-12-28T05:51:27.381571Z",
     "start_time": "2021-12-28T05:38:58.692749Z"
    }
   },
   "outputs": [],
   "source": [
    "def get_net():\n",
    "    return nn.Sequential(nn.Linear(x1.shape[1],512),nn.Linear(512,256),nn.Linear(256,64),nn.Linear(64,1))\n",
    "net1=get_net()\n",
    "train_kfold(net1,1000,0.001,5,x1,y1,256,0,0)"
   ]
  },
  {
   "cell_type": "code",
   "execution_count": null,
   "metadata": {
    "ExecuteTime": {
     "end_time": "2021-12-28T08:49:30.635619Z",
     "start_time": "2021-12-28T08:41:07.260827Z"
    }
   },
   "outputs": [],
   "source": [
    "def get_net():\n",
    "    return nn.Sequential(nn.Linear(x1.shape[1],8),nn.Linear(8,1))\n",
    "net1=get_net()\n",
    "train_kfold(net1,5000,0.0001,5,x1,y1,256,0,0)"
   ]
  },
  {
   "cell_type": "code",
   "execution_count": null,
   "metadata": {
    "ExecuteTime": {
     "end_time": "2021-12-30T05:45:11.065721Z",
     "start_time": "2021-12-30T05:45:11.053720Z"
    },
    "collapsed": true
   },
   "outputs": [],
   "source": [
    "n_folds=5\n",
    "\n",
    "def rmlse_cv2(model):\n",
    "    kf=KFold(n_folds,shuffle=True,random_state=42).get_n_splits(x33)\n",
    "    rmse=np.sqrt(-cross_val_score(model,x33,y33,scoring='neg_mean_squared_error',cv=kf))\n",
    "    return rmse"
   ]
  },
  {
   "cell_type": "code",
   "execution_count": null,
   "metadata": {
    "ExecuteTime": {
     "end_time": "2021-12-30T05:45:14.419913Z",
     "start_time": "2021-12-30T05:45:11.734759Z"
    }
   },
   "outputs": [],
   "source": [
    "lasso=make_pipeline(RobustScaler(),Lasso(alpha=0.005,random_state=1))\n",
    "score=rmlse_cv2(lasso)\n",
    "print(\"\\nLasso score: {:.4f} ({:.4f})\\n\".format(score.mean(), score.std()))"
   ]
  },
  {
   "cell_type": "code",
   "execution_count": null,
   "metadata": {
    "collapsed": true
   },
   "outputs": [],
   "source": []
  },
  {
   "cell_type": "markdown",
   "metadata": {},
   "source": [
    "- use boxcox transformer to gaussian dist"
   ]
  },
  {
   "cell_type": "code",
   "execution_count": 73,
   "metadata": {
    "ExecuteTime": {
     "end_time": "2022-01-13T07:50:07.004391Z",
     "start_time": "2022-01-13T07:50:06.998391Z"
    },
    "collapsed": true
   },
   "outputs": [],
   "source": [
    "from scipy.stats import boxcox,boxcox_normmax\n",
    "from scipy.special import boxcox1p"
   ]
  },
  {
   "cell_type": "code",
   "execution_count": 74,
   "metadata": {
    "ExecuteTime": {
     "end_time": "2022-01-13T07:50:07.544422Z",
     "start_time": "2022-01-13T07:50:07.537422Z"
    }
   },
   "outputs": [
    {
     "data": {
      "text/plain": [
       "(5760, 18)"
      ]
     },
     "execution_count": 74,
     "metadata": {},
     "output_type": "execute_result"
    }
   ],
   "source": [
    "all_train_data1.shape"
   ]
  },
  {
   "cell_type": "code",
   "execution_count": 75,
   "metadata": {
    "ExecuteTime": {
     "end_time": "2022-01-13T07:50:07.933445Z",
     "start_time": "2022-01-13T07:50:07.929444Z"
    }
   },
   "outputs": [
    {
     "data": {
      "text/plain": [
       "18"
      ]
     },
     "execution_count": 75,
     "metadata": {},
     "output_type": "execute_result"
    }
   ],
   "source": [
    "all_train_data1.shape[1]"
   ]
  },
  {
   "cell_type": "code",
   "execution_count": 76,
   "metadata": {
    "ExecuteTime": {
     "end_time": "2022-01-13T07:50:08.419472Z",
     "start_time": "2022-01-13T07:50:08.392471Z"
    }
   },
   "outputs": [
    {
     "name": "stdout",
     "output_type": "stream",
     "text": [
      "0 --skew :  -0.2834134242907861 --kurt :  -0.7968009844193018\n",
      "1 --skew :  -5.095255676523535 --kurt :  85.70760213466164\n",
      "2 --skew :  9.165303973318487 --kurt :  132.25692190213024\n",
      "3 --skew :  2.172048918138678 --kurt :  8.458548044518952\n",
      "4 --skew :  5.378836580918865 --kurt :  41.25921290333162\n",
      "5 --skew :  1.6391191931961593 --kurt :  3.8457481859587697\n",
      "6 --skew :  2.071649558193799 --kurt :  6.419180514549189\n",
      "7 --skew :  1.3121217461933794 --kurt :  5.2975502420733696\n",
      "8 --skew :  1.103678593463204 --kurt :  1.7728459308764268\n",
      "9 --skew :  1.2763236528649795 --kurt :  2.115391100082106\n",
      "10 --skew :  21.7839204262489 --kurt :  623.8917732792679\n",
      "11 --skew :  -0.6050425772235472 --kurt :  -0.1979575284081454\n",
      "12 --skew :  2.1806637991938813 --kurt :  8.332926208370576\n",
      "13 --skew :  -0.7973228533500623 --kurt :  21.5544747714386\n",
      "14 --skew :  0.5569055078560654 --kurt :  -0.9777533530993172\n",
      "15 --skew :  0.5166061431100419 --kurt :  -1.0455161114586577\n",
      "16 --skew :  0.9251663396039612 --kurt :  1.023738040336486\n",
      "17 --skew :  1.0990996760341267 --kurt :  1.2102189438217152\n"
     ]
    }
   ],
   "source": [
    "for i in range(all_train_data1.shape[1]):\n",
    "    print(all_train_data1.index[i],'--skew : ',all_train_data1[i].skew(),'--kurt : ',all_train_data1[i].kurt())"
   ]
  },
  {
   "cell_type": "code",
   "execution_count": 77,
   "metadata": {
    "ExecuteTime": {
     "end_time": "2022-01-13T07:50:09.107512Z",
     "start_time": "2022-01-13T07:50:08.809495Z"
    }
   },
   "outputs": [
    {
     "name": "stdout",
     "output_type": "stream",
     "text": [
      "0 --skew :  -0.2834134242907861 --kurt :  -0.7968009844193018\n",
      "lambda :  1.461645538288768\n",
      "0 --skew :  -0.07414275326700835 --kurt :  -0.9258821506244836\n",
      "--------------------------------------------------------------------\n",
      "1 --skew :  -5.095255676523535 --kurt :  85.70760213466164\n",
      "lambda :  5.990940784090655\n",
      "1 --skew :  0.2052435896115669 --kurt :  0.583625236412292\n",
      "--------------------------------------------------------------------\n",
      "2 --skew :  9.165303973318487 --kurt :  132.25692190213024\n",
      "lambda :  -3.259330902857795\n",
      "2 --skew :  -0.003907562716963148 --kurt :  -0.06972890461562153\n",
      "--------------------------------------------------------------------\n",
      "3 --skew :  2.172048918138678 --kurt :  8.458548044518952\n",
      "lambda :  -6.182620739009405\n",
      "3 --skew :  0.05859262861967747 --kurt :  -0.5568735662256521\n",
      "--------------------------------------------------------------------\n",
      "4 --skew :  5.378836580918865 --kurt :  41.25921290333162\n",
      "lambda :  -0.7826645126628972\n",
      "4 --skew :  -0.03484059806052529 --kurt :  0.5414188516389893\n",
      "--------------------------------------------------------------------\n",
      "5 --skew :  1.6391191931961593 --kurt :  3.8457481859587697\n",
      "lambda :  0.003516830957090046\n",
      "5 --skew :  0.013408365980071172 --kurt :  0.19498206467320722\n",
      "--------------------------------------------------------------------\n",
      "6 --skew :  2.071649558193799 --kurt :  6.419180514549189\n",
      "lambda :  -0.1942146862014387\n",
      "6 --skew :  -0.002404565434079636 --kurt :  0.0440333018723158\n",
      "--------------------------------------------------------------------\n",
      "7 --skew :  1.3121217461933794 --kurt :  5.2975502420733696\n",
      "lambda :  0.41482616104608666\n",
      "7 --skew :  0.006751929748339162 --kurt :  0.28627689522357613\n",
      "--------------------------------------------------------------------\n",
      "8 --skew :  1.103678593463204 --kurt :  1.7728459308764268\n",
      "lambda :  0.4477248234931694\n",
      "8 --skew :  0.02201672862987185 --kurt :  0.1603650294853538\n",
      "--------------------------------------------------------------------\n",
      "9 --skew :  1.2763236528649795 --kurt :  2.115391100082106\n",
      "lambda :  0.4145678510523434\n",
      "9 --skew :  0.03317866068741833 --kurt :  -0.18174471082602928\n",
      "--------------------------------------------------------------------\n",
      "10 --skew :  21.7839204262489 --kurt :  623.8917732792679\n",
      "lambda :  -6.186399577904084\n",
      "10 --skew :  3.759158275003242 --kurt :  12.400036693306454\n",
      "--------------------------------------------------------------------\n",
      "11 --skew :  -0.6050425772235472 --kurt :  -0.1979575284081454\n",
      "lambda :  2.4338353657960474\n",
      "11 --skew :  -0.07298225942919347 --kurt :  -0.8136949843530794\n",
      "--------------------------------------------------------------------\n",
      "12 --skew :  2.1806637991938813 --kurt :  8.332926208370576\n",
      "lambda :  -0.24358108144432533\n",
      "12 --skew :  0.021947686457242925 --kurt :  0.5477017915641502\n",
      "--------------------------------------------------------------------\n",
      "13 --skew :  -0.7973228533500623 --kurt :  21.5544747714386\n",
      "lambda :  2.0482410553537025\n",
      "13 --skew :  0.8584013280369255 --kurt :  8.48135294318179\n",
      "--------------------------------------------------------------------\n",
      "14 --skew :  0.5569055078560654 --kurt :  -0.9777533530993172\n",
      "lambda :  0.3417183305204095\n",
      "14 --skew :  -0.11116266544173034 --kurt :  -0.5747813166565554\n",
      "--------------------------------------------------------------------\n",
      "15 --skew :  0.5166061431100419 --kurt :  -1.0455161114586577\n",
      "lambda :  0.31039132586722773\n",
      "15 --skew :  -0.12154909027070926 --kurt :  -0.6493410942779887\n",
      "--------------------------------------------------------------------\n",
      "16 --skew :  0.9251663396039612 --kurt :  1.023738040336486\n",
      "lambda :  -0.14707046206981406\n",
      "16 --skew :  0.016664314785999827 --kurt :  -0.4468770575550054\n",
      "--------------------------------------------------------------------\n",
      "17 --skew :  1.0990996760341267 --kurt :  1.2102189438217152\n",
      "lambda :  -0.2521218322454977\n",
      "17 --skew :  0.012020490427854405 --kurt :  -0.5440498606314681\n",
      "--------------------------------------------------------------------\n"
     ]
    }
   ],
   "source": [
    "all_train_data2=pd.DataFrame()\n",
    "for i in range(all_train_data1.shape[1]):\n",
    "    lm=boxcox_normmax(all_train_data1[i]+1)\n",
    "    all_train_data2[i]=boxcox1p(all_train_data1[i],lm)\n",
    "    print(all_train_data1.index[i],'--skew : ',all_train_data1[i].skew(),'--kurt : ',all_train_data1[i].kurt())\n",
    "    print('lambda : ',lm)\n",
    "    print(all_train_data2.index[i],'--skew : ',all_train_data2[i].skew(),'--kurt : ',all_train_data2[i].kurt())\n",
    "    print('--------------------------------------------------------------------')"
   ]
  },
  {
   "cell_type": "code",
   "execution_count": 78,
   "metadata": {
    "ExecuteTime": {
     "end_time": "2022-01-13T07:50:09.289522Z",
     "start_time": "2022-01-13T07:50:09.285522Z"
    }
   },
   "outputs": [
    {
     "data": {
      "text/plain": [
       "(5760, 18)"
      ]
     },
     "execution_count": 78,
     "metadata": {},
     "output_type": "execute_result"
    }
   ],
   "source": [
    "all_train_data2.shape"
   ]
  },
  {
   "cell_type": "code",
   "execution_count": 79,
   "metadata": {
    "ExecuteTime": {
     "end_time": "2022-01-13T07:50:10.521593Z",
     "start_time": "2022-01-13T07:50:10.503592Z"
    }
   },
   "outputs": [],
   "source": [
    "year_data2={}\n",
    "for m in range(12):\n",
    "    month_data2=np.empty((18,480))\n",
    "    month_data2[:,:]=all_train_data2.T.iloc[:,m*480:(m+1)*480]\n",
    "    year_data2[m]=month_data2\n",
    "    "
   ]
  },
  {
   "cell_type": "code",
   "execution_count": 80,
   "metadata": {
    "ExecuteTime": {
     "end_time": "2022-01-13T07:50:11.266635Z",
     "start_time": "2022-01-13T07:50:11.248634Z"
    },
    "collapsed": true
   },
   "outputs": [],
   "source": [
    "year_data3={}\n",
    "for m in range(12):\n",
    "    month_data3=np.empty((18,480))\n",
    "    month_data3[:,:]=all_train_data1.T.iloc[:,m*480:(m+1)*480]\n",
    "    year_data3[m]=month_data3"
   ]
  },
  {
   "cell_type": "code",
   "execution_count": 81,
   "metadata": {
    "ExecuteTime": {
     "end_time": "2022-01-13T07:50:12.035679Z",
     "start_time": "2022-01-13T07:50:12.024679Z"
    }
   },
   "outputs": [
    {
     "data": {
      "text/plain": [
       "array([2.6, 2.2, 2.3, 2.3, 2.3])"
      ]
     },
     "execution_count": 81,
     "metadata": {},
     "output_type": "execute_result"
    }
   ],
   "source": [
    "year_data[11][-6,-5:]"
   ]
  },
  {
   "cell_type": "code",
   "execution_count": 82,
   "metadata": {
    "ExecuteTime": {
     "end_time": "2022-01-13T07:50:12.389699Z",
     "start_time": "2022-01-13T07:50:12.382699Z"
    }
   },
   "outputs": [
    {
     "data": {
      "text/plain": [
       "array([2.6, 2.2, 2.3, 2.3, 2.3])"
      ]
     },
     "execution_count": 82,
     "metadata": {},
     "output_type": "execute_result"
    }
   ],
   "source": [
    "year_data3[11][-6,-5:]"
   ]
  },
  {
   "cell_type": "code",
   "execution_count": 83,
   "metadata": {
    "ExecuteTime": {
     "end_time": "2022-01-13T07:50:12.864727Z",
     "start_time": "2022-01-13T07:50:12.857726Z"
    }
   },
   "outputs": [
    {
     "data": {
      "text/plain": [
       "array([1.1003593 , 1.01289662, 1.03598957, 1.03598957, 1.03598957])"
      ]
     },
     "execution_count": 83,
     "metadata": {},
     "output_type": "execute_result"
    }
   ],
   "source": [
    "year_data2[11][-6,-5:]"
   ]
  },
  {
   "cell_type": "markdown",
   "metadata": {},
   "source": [
    "### compare all_train_data1 and all_train_data2\n",
    "- all_train_data1 : just correct outlier value\n",
    "- all_train_data2 : just boxcox after all_train_data1"
   ]
  },
  {
   "cell_type": "code",
   "execution_count": 84,
   "metadata": {
    "ExecuteTime": {
     "end_time": "2022-01-13T07:50:14.958846Z",
     "start_time": "2022-01-13T07:50:14.879842Z"
    }
   },
   "outputs": [
    {
     "data": {
      "text/html": [
       "<div>\n",
       "<style>\n",
       "    .dataframe thead tr:only-child th {\n",
       "        text-align: right;\n",
       "    }\n",
       "\n",
       "    .dataframe thead th {\n",
       "        text-align: left;\n",
       "    }\n",
       "\n",
       "    .dataframe tbody tr th {\n",
       "        vertical-align: top;\n",
       "    }\n",
       "</style>\n",
       "<table border=\"1\" class=\"dataframe\">\n",
       "  <thead>\n",
       "    <tr style=\"text-align: right;\">\n",
       "      <th></th>\n",
       "      <th>0</th>\n",
       "      <th>1</th>\n",
       "      <th>2</th>\n",
       "      <th>3</th>\n",
       "      <th>4</th>\n",
       "      <th>5</th>\n",
       "      <th>6</th>\n",
       "      <th>7</th>\n",
       "      <th>8</th>\n",
       "      <th>9</th>\n",
       "      <th>10</th>\n",
       "      <th>11</th>\n",
       "      <th>12</th>\n",
       "      <th>13</th>\n",
       "      <th>14</th>\n",
       "      <th>15</th>\n",
       "      <th>16</th>\n",
       "      <th>17</th>\n",
       "    </tr>\n",
       "  </thead>\n",
       "  <tbody>\n",
       "    <tr>\n",
       "      <th>count</th>\n",
       "      <td>5760.000000</td>\n",
       "      <td>5760.000000</td>\n",
       "      <td>5760.000000</td>\n",
       "      <td>5760.000000</td>\n",
       "      <td>5760.000000</td>\n",
       "      <td>5760.000000</td>\n",
       "      <td>5760.000000</td>\n",
       "      <td>5760.000000</td>\n",
       "      <td>5760.000000</td>\n",
       "      <td>5760.000000</td>\n",
       "      <td>5760.000000</td>\n",
       "      <td>5760.000000</td>\n",
       "      <td>5760.000000</td>\n",
       "      <td>5760.000000</td>\n",
       "      <td>5760.000000</td>\n",
       "      <td>5760.000000</td>\n",
       "      <td>5760.000000</td>\n",
       "      <td>5760.000000</td>\n",
       "    </tr>\n",
       "    <tr>\n",
       "      <th>mean</th>\n",
       "      <td>22.610382</td>\n",
       "      <td>1.705521</td>\n",
       "      <td>0.388436</td>\n",
       "      <td>0.140427</td>\n",
       "      <td>2.136970</td>\n",
       "      <td>10.125990</td>\n",
       "      <td>12.254115</td>\n",
       "      <td>31.905469</td>\n",
       "      <td>42.709201</td>\n",
       "      <td>21.534201</td>\n",
       "      <td>0.200625</td>\n",
       "      <td>73.229167</td>\n",
       "      <td>2.769089</td>\n",
       "      <td>1.843012</td>\n",
       "      <td>156.329271</td>\n",
       "      <td>158.482795</td>\n",
       "      <td>2.297240</td>\n",
       "      <td>1.712760</td>\n",
       "    </tr>\n",
       "    <tr>\n",
       "      <th>std</th>\n",
       "      <td>6.062216</td>\n",
       "      <td>0.100203</td>\n",
       "      <td>0.323505</td>\n",
       "      <td>0.104645</td>\n",
       "      <td>2.281611</td>\n",
       "      <td>6.187555</td>\n",
       "      <td>7.571422</td>\n",
       "      <td>18.703486</td>\n",
       "      <td>26.222292</td>\n",
       "      <td>16.576035</td>\n",
       "      <td>2.045443</td>\n",
       "      <td>13.361351</td>\n",
       "      <td>1.809743</td>\n",
       "      <td>0.163008</td>\n",
       "      <td>95.745881</td>\n",
       "      <td>94.697432</td>\n",
       "      <td>1.065408</td>\n",
       "      <td>1.062683</td>\n",
       "    </tr>\n",
       "    <tr>\n",
       "      <th>min</th>\n",
       "      <td>6.700000</td>\n",
       "      <td>0.000000</td>\n",
       "      <td>0.080000</td>\n",
       "      <td>0.000000</td>\n",
       "      <td>0.000000</td>\n",
       "      <td>0.000000</td>\n",
       "      <td>1.300000</td>\n",
       "      <td>0.000000</td>\n",
       "      <td>0.000000</td>\n",
       "      <td>0.000000</td>\n",
       "      <td>0.000000</td>\n",
       "      <td>29.000000</td>\n",
       "      <td>0.000000</td>\n",
       "      <td>0.000000</td>\n",
       "      <td>0.100000</td>\n",
       "      <td>0.000000</td>\n",
       "      <td>0.000000</td>\n",
       "      <td>0.000000</td>\n",
       "    </tr>\n",
       "    <tr>\n",
       "      <th>25%</th>\n",
       "      <td>18.000000</td>\n",
       "      <td>1.600000</td>\n",
       "      <td>0.250000</td>\n",
       "      <td>0.070000</td>\n",
       "      <td>1.100000</td>\n",
       "      <td>5.900000</td>\n",
       "      <td>7.300000</td>\n",
       "      <td>18.000000</td>\n",
       "      <td>24.000000</td>\n",
       "      <td>9.000000</td>\n",
       "      <td>0.000000</td>\n",
       "      <td>64.000000</td>\n",
       "      <td>1.600000</td>\n",
       "      <td>1.700000</td>\n",
       "      <td>72.000000</td>\n",
       "      <td>76.000000</td>\n",
       "      <td>1.500000</td>\n",
       "      <td>0.900000</td>\n",
       "    </tr>\n",
       "    <tr>\n",
       "      <th>50%</th>\n",
       "      <td>23.000000</td>\n",
       "      <td>1.700000</td>\n",
       "      <td>0.340000</td>\n",
       "      <td>0.110000</td>\n",
       "      <td>1.600000</td>\n",
       "      <td>8.600000</td>\n",
       "      <td>10.000000</td>\n",
       "      <td>29.000000</td>\n",
       "      <td>38.000000</td>\n",
       "      <td>18.000000</td>\n",
       "      <td>0.000000</td>\n",
       "      <td>75.000000</td>\n",
       "      <td>2.300000</td>\n",
       "      <td>1.800000</td>\n",
       "      <td>119.000000</td>\n",
       "      <td>121.500000</td>\n",
       "      <td>2.100000</td>\n",
       "      <td>1.500000</td>\n",
       "    </tr>\n",
       "    <tr>\n",
       "      <th>75%</th>\n",
       "      <td>27.000000</td>\n",
       "      <td>1.800000</td>\n",
       "      <td>0.450000</td>\n",
       "      <td>0.180000</td>\n",
       "      <td>2.300000</td>\n",
       "      <td>13.000000</td>\n",
       "      <td>15.000000</td>\n",
       "      <td>42.000000</td>\n",
       "      <td>57.000000</td>\n",
       "      <td>30.000000</td>\n",
       "      <td>0.000000</td>\n",
       "      <td>84.000000</td>\n",
       "      <td>3.400000</td>\n",
       "      <td>1.900000</td>\n",
       "      <td>213.000000</td>\n",
       "      <td>219.000000</td>\n",
       "      <td>2.900000</td>\n",
       "      <td>2.300000</td>\n",
       "    </tr>\n",
       "    <tr>\n",
       "      <th>max</th>\n",
       "      <td>36.000000</td>\n",
       "      <td>2.000000</td>\n",
       "      <td>7.570000</td>\n",
       "      <td>1.300000</td>\n",
       "      <td>31.000000</td>\n",
       "      <td>46.000000</td>\n",
       "      <td>71.000000</td>\n",
       "      <td>231.000000</td>\n",
       "      <td>181.000000</td>\n",
       "      <td>112.000000</td>\n",
       "      <td>74.000000</td>\n",
       "      <td>99.000000</td>\n",
       "      <td>22.000000</td>\n",
       "      <td>3.000000</td>\n",
       "      <td>360.000000</td>\n",
       "      <td>360.000000</td>\n",
       "      <td>7.700000</td>\n",
       "      <td>7.000000</td>\n",
       "    </tr>\n",
       "  </tbody>\n",
       "</table>\n",
       "</div>"
      ],
      "text/plain": [
       "                0            1            2            3            4   \\\n",
       "count  5760.000000  5760.000000  5760.000000  5760.000000  5760.000000   \n",
       "mean     22.610382     1.705521     0.388436     0.140427     2.136970   \n",
       "std       6.062216     0.100203     0.323505     0.104645     2.281611   \n",
       "min       6.700000     0.000000     0.080000     0.000000     0.000000   \n",
       "25%      18.000000     1.600000     0.250000     0.070000     1.100000   \n",
       "50%      23.000000     1.700000     0.340000     0.110000     1.600000   \n",
       "75%      27.000000     1.800000     0.450000     0.180000     2.300000   \n",
       "max      36.000000     2.000000     7.570000     1.300000    31.000000   \n",
       "\n",
       "                5            6            7            8            9   \\\n",
       "count  5760.000000  5760.000000  5760.000000  5760.000000  5760.000000   \n",
       "mean     10.125990    12.254115    31.905469    42.709201    21.534201   \n",
       "std       6.187555     7.571422    18.703486    26.222292    16.576035   \n",
       "min       0.000000     1.300000     0.000000     0.000000     0.000000   \n",
       "25%       5.900000     7.300000    18.000000    24.000000     9.000000   \n",
       "50%       8.600000    10.000000    29.000000    38.000000    18.000000   \n",
       "75%      13.000000    15.000000    42.000000    57.000000    30.000000   \n",
       "max      46.000000    71.000000   231.000000   181.000000   112.000000   \n",
       "\n",
       "                10           11           12           13           14  \\\n",
       "count  5760.000000  5760.000000  5760.000000  5760.000000  5760.000000   \n",
       "mean      0.200625    73.229167     2.769089     1.843012   156.329271   \n",
       "std       2.045443    13.361351     1.809743     0.163008    95.745881   \n",
       "min       0.000000    29.000000     0.000000     0.000000     0.100000   \n",
       "25%       0.000000    64.000000     1.600000     1.700000    72.000000   \n",
       "50%       0.000000    75.000000     2.300000     1.800000   119.000000   \n",
       "75%       0.000000    84.000000     3.400000     1.900000   213.000000   \n",
       "max      74.000000    99.000000    22.000000     3.000000   360.000000   \n",
       "\n",
       "                15           16           17  \n",
       "count  5760.000000  5760.000000  5760.000000  \n",
       "mean    158.482795     2.297240     1.712760  \n",
       "std      94.697432     1.065408     1.062683  \n",
       "min       0.000000     0.000000     0.000000  \n",
       "25%      76.000000     1.500000     0.900000  \n",
       "50%     121.500000     2.100000     1.500000  \n",
       "75%     219.000000     2.900000     2.300000  \n",
       "max     360.000000     7.700000     7.000000  "
      ]
     },
     "execution_count": 84,
     "metadata": {},
     "output_type": "execute_result"
    }
   ],
   "source": [
    "all_train_data1.describe()"
   ]
  },
  {
   "cell_type": "code",
   "execution_count": 85,
   "metadata": {
    "ExecuteTime": {
     "end_time": "2022-01-13T07:50:17.000963Z",
     "start_time": "2022-01-13T07:50:16.912958Z"
    }
   },
   "outputs": [
    {
     "data": {
      "text/html": [
       "<div>\n",
       "<style>\n",
       "    .dataframe thead tr:only-child th {\n",
       "        text-align: right;\n",
       "    }\n",
       "\n",
       "    .dataframe thead th {\n",
       "        text-align: left;\n",
       "    }\n",
       "\n",
       "    .dataframe tbody tr th {\n",
       "        vertical-align: top;\n",
       "    }\n",
       "</style>\n",
       "<table border=\"1\" class=\"dataframe\">\n",
       "  <thead>\n",
       "    <tr style=\"text-align: right;\">\n",
       "      <th></th>\n",
       "      <th>0</th>\n",
       "      <th>1</th>\n",
       "      <th>2</th>\n",
       "      <th>3</th>\n",
       "      <th>4</th>\n",
       "      <th>5</th>\n",
       "      <th>6</th>\n",
       "      <th>7</th>\n",
       "      <th>8</th>\n",
       "      <th>9</th>\n",
       "      <th>10</th>\n",
       "      <th>11</th>\n",
       "      <th>12</th>\n",
       "      <th>13</th>\n",
       "      <th>14</th>\n",
       "      <th>15</th>\n",
       "      <th>16</th>\n",
       "      <th>17</th>\n",
       "    </tr>\n",
       "  </thead>\n",
       "  <tbody>\n",
       "    <tr>\n",
       "      <th>count</th>\n",
       "      <td>5760.000000</td>\n",
       "      <td>5760.000000</td>\n",
       "      <td>5760.000000</td>\n",
       "      <td>5760.000000</td>\n",
       "      <td>5760.000000</td>\n",
       "      <td>5760.000000</td>\n",
       "      <td>5760.000000</td>\n",
       "      <td>5760.000000</td>\n",
       "      <td>5760.000000</td>\n",
       "      <td>5760.000000</td>\n",
       "      <td>5760.000000</td>\n",
       "      <td>5760.000000</td>\n",
       "      <td>5760.000000</td>\n",
       "      <td>5760.000000</td>\n",
       "      <td>5760.000000</td>\n",
       "      <td>5760.000000</td>\n",
       "      <td>5760.000000</td>\n",
       "      <td>5760.000000</td>\n",
       "    </tr>\n",
       "    <tr>\n",
       "      <th>mean</th>\n",
       "      <td>70.426493</td>\n",
       "      <td>65.832202</td>\n",
       "      <td>0.186377</td>\n",
       "      <td>0.079806</td>\n",
       "      <td>0.672361</td>\n",
       "      <td>2.283694</td>\n",
       "      <td>1.937404</td>\n",
       "      <td>7.449352</td>\n",
       "      <td>9.327724</td>\n",
       "      <td>5.756380</td>\n",
       "      <td>0.008977</td>\n",
       "      <td>15482.226219</td>\n",
       "      <td>1.051691</td>\n",
       "      <td>3.676586</td>\n",
       "      <td>12.803597</td>\n",
       "      <td>11.687312</td>\n",
       "      <td>1.046624</td>\n",
       "      <td>0.813470</td>\n",
       "    </tr>\n",
       "    <tr>\n",
       "      <th>std</th>\n",
       "      <td>25.536335</td>\n",
       "      <td>12.405338</td>\n",
       "      <td>0.041562</td>\n",
       "      <td>0.032614</td>\n",
       "      <td>0.176061</td>\n",
       "      <td>0.523410</td>\n",
       "      <td>0.306804</td>\n",
       "      <td>2.431622</td>\n",
       "      <td>3.291614</td>\n",
       "      <td>2.725299</td>\n",
       "      <td>0.035324</td>\n",
       "      <td>6063.422584</td>\n",
       "      <td>0.303361</td>\n",
       "      <td>0.481140</td>\n",
       "      <td>3.602422</td>\n",
       "      <td>3.020925</td>\n",
       "      <td>0.263948</td>\n",
       "      <td>0.292340</td>\n",
       "    </tr>\n",
       "    <tr>\n",
       "      <th>min</th>\n",
       "      <td>12.833239</td>\n",
       "      <td>0.000000</td>\n",
       "      <td>0.068067</td>\n",
       "      <td>0.000000</td>\n",
       "      <td>0.000000</td>\n",
       "      <td>0.000000</td>\n",
       "      <td>0.769032</td>\n",
       "      <td>0.000000</td>\n",
       "      <td>0.000000</td>\n",
       "      <td>0.000000</td>\n",
       "      <td>0.000000</td>\n",
       "      <td>1616.845054</td>\n",
       "      <td>0.000000</td>\n",
       "      <td>0.000000</td>\n",
       "      <td>0.096879</td>\n",
       "      <td>0.000000</td>\n",
       "      <td>0.000000</td>\n",
       "      <td>0.000000</td>\n",
       "    </tr>\n",
       "    <tr>\n",
       "      <th>25%</th>\n",
       "      <td>49.926550</td>\n",
       "      <td>50.952479</td>\n",
       "      <td>0.158556</td>\n",
       "      <td>0.055291</td>\n",
       "      <td>0.562804</td>\n",
       "      <td>1.938097</td>\n",
       "      <td>1.735287</td>\n",
       "      <td>5.766358</td>\n",
       "      <td>7.204513</td>\n",
       "      <td>3.853588</td>\n",
       "      <td>0.000000</td>\n",
       "      <td>10617.557930</td>\n",
       "      <td>0.852464</td>\n",
       "      <td>3.245618</td>\n",
       "      <td>9.751980</td>\n",
       "      <td>9.184518</td>\n",
       "      <td>0.857234</td>\n",
       "      <td>0.592611</td>\n",
       "    </tr>\n",
       "    <tr>\n",
       "      <th>50%</th>\n",
       "      <td>70.525274</td>\n",
       "      <td>63.921527</td>\n",
       "      <td>0.188618</td>\n",
       "      <td>0.076901</td>\n",
       "      <td>0.672848</td>\n",
       "      <td>2.270782</td>\n",
       "      <td>1.916995</td>\n",
       "      <td>7.472206</td>\n",
       "      <td>9.283713</td>\n",
       "      <td>5.763730</td>\n",
       "      <td>0.000000</td>\n",
       "      <td>15534.166404</td>\n",
       "      <td>1.035990</td>\n",
       "      <td>3.534372</td>\n",
       "      <td>12.099014</td>\n",
       "      <td>11.107693</td>\n",
       "      <td>1.042283</td>\n",
       "      <td>0.818152</td>\n",
       "    </tr>\n",
       "    <tr>\n",
       "      <th>75%</th>\n",
       "      <td>88.521007</td>\n",
       "      <td>79.522794</td>\n",
       "      <td>0.215417</td>\n",
       "      <td>0.103613</td>\n",
       "      <td>0.775804</td>\n",
       "      <td>2.651342</td>\n",
       "      <td>2.143833</td>\n",
       "      <td>9.063998</td>\n",
       "      <td>11.523345</td>\n",
       "      <td>7.603404</td>\n",
       "      <td>0.000000</td>\n",
       "      <td>20398.022735</td>\n",
       "      <td>1.243713</td>\n",
       "      <td>3.834142</td>\n",
       "      <td>15.383128</td>\n",
       "      <td>13.963600</td>\n",
       "      <td>1.233421</td>\n",
       "      <td>1.030980</td>\n",
       "    </tr>\n",
       "    <tr>\n",
       "      <th>max</th>\n",
       "      <td>133.380091</td>\n",
       "      <td>120.311749</td>\n",
       "      <td>0.306532</td>\n",
       "      <td>0.160805</td>\n",
       "      <td>1.192886</td>\n",
       "      <td>3.876332</td>\n",
       "      <td>2.905076</td>\n",
       "      <td>20.678088</td>\n",
       "      <td>20.721569</td>\n",
       "      <td>14.709463</td>\n",
       "      <td>0.161645</td>\n",
       "      <td>30295.187454</td>\n",
       "      <td>2.192628</td>\n",
       "      <td>7.863631</td>\n",
       "      <td>18.965279</td>\n",
       "      <td>16.819218</td>\n",
       "      <td>1.852950</td>\n",
       "      <td>1.618322</td>\n",
       "    </tr>\n",
       "  </tbody>\n",
       "</table>\n",
       "</div>"
      ],
      "text/plain": [
       "                0            1            2            3            4   \\\n",
       "count  5760.000000  5760.000000  5760.000000  5760.000000  5760.000000   \n",
       "mean     70.426493    65.832202     0.186377     0.079806     0.672361   \n",
       "std      25.536335    12.405338     0.041562     0.032614     0.176061   \n",
       "min      12.833239     0.000000     0.068067     0.000000     0.000000   \n",
       "25%      49.926550    50.952479     0.158556     0.055291     0.562804   \n",
       "50%      70.525274    63.921527     0.188618     0.076901     0.672848   \n",
       "75%      88.521007    79.522794     0.215417     0.103613     0.775804   \n",
       "max     133.380091   120.311749     0.306532     0.160805     1.192886   \n",
       "\n",
       "                5            6            7            8            9   \\\n",
       "count  5760.000000  5760.000000  5760.000000  5760.000000  5760.000000   \n",
       "mean      2.283694     1.937404     7.449352     9.327724     5.756380   \n",
       "std       0.523410     0.306804     2.431622     3.291614     2.725299   \n",
       "min       0.000000     0.769032     0.000000     0.000000     0.000000   \n",
       "25%       1.938097     1.735287     5.766358     7.204513     3.853588   \n",
       "50%       2.270782     1.916995     7.472206     9.283713     5.763730   \n",
       "75%       2.651342     2.143833     9.063998    11.523345     7.603404   \n",
       "max       3.876332     2.905076    20.678088    20.721569    14.709463   \n",
       "\n",
       "                10            11           12           13           14  \\\n",
       "count  5760.000000   5760.000000  5760.000000  5760.000000  5760.000000   \n",
       "mean      0.008977  15482.226219     1.051691     3.676586    12.803597   \n",
       "std       0.035324   6063.422584     0.303361     0.481140     3.602422   \n",
       "min       0.000000   1616.845054     0.000000     0.000000     0.096879   \n",
       "25%       0.000000  10617.557930     0.852464     3.245618     9.751980   \n",
       "50%       0.000000  15534.166404     1.035990     3.534372    12.099014   \n",
       "75%       0.000000  20398.022735     1.243713     3.834142    15.383128   \n",
       "max       0.161645  30295.187454     2.192628     7.863631    18.965279   \n",
       "\n",
       "                15           16           17  \n",
       "count  5760.000000  5760.000000  5760.000000  \n",
       "mean     11.687312     1.046624     0.813470  \n",
       "std       3.020925     0.263948     0.292340  \n",
       "min       0.000000     0.000000     0.000000  \n",
       "25%       9.184518     0.857234     0.592611  \n",
       "50%      11.107693     1.042283     0.818152  \n",
       "75%      13.963600     1.233421     1.030980  \n",
       "max      16.819218     1.852950     1.618322  "
      ]
     },
     "execution_count": 85,
     "metadata": {},
     "output_type": "execute_result"
    }
   ],
   "source": [
    "all_train_data2.describe()"
   ]
  },
  {
   "cell_type": "markdown",
   "metadata": {
    "ExecuteTime": {
     "end_time": "2021-12-29T06:30:30.106735Z",
     "start_time": "2021-12-29T06:30:30.100734Z"
    }
   },
   "source": [
    "## diff with hw_test81 begin\n",
    "- all_train_data3 : normalized\n",
    "- all_train_data2 : no normalized"
   ]
  },
  {
   "cell_type": "code",
   "execution_count": null,
   "metadata": {
    "ExecuteTime": {
     "end_time": "2021-12-30T05:59:02.849296Z",
     "start_time": "2021-12-30T05:59:02.845296Z"
    },
    "collapsed": true
   },
   "outputs": [],
   "source": [
    "# (all_train_data2[0] - all_train_data2[0].mean()) / all_train_data2[0].std()"
   ]
  },
  {
   "cell_type": "code",
   "execution_count": 86,
   "metadata": {
    "ExecuteTime": {
     "end_time": "2022-01-13T07:51:36.454508Z",
     "start_time": "2022-01-13T07:51:36.418506Z"
    },
    "collapsed": true
   },
   "outputs": [],
   "source": [
    "all_train_data3=pd.DataFrame()\n",
    "for i in range(all_train_data2.shape[1]):\n",
    "    if i!=9:\n",
    "        all_train_data3[i]=(all_train_data2[i] - all_train_data2[i].mean()) / all_train_data2[i].std()\n",
    "    else:\n",
    "        all_train_data3[i]=all_train_data2[i]"
   ]
  },
  {
   "cell_type": "code",
   "execution_count": 87,
   "metadata": {
    "ExecuteTime": {
     "end_time": "2022-01-13T07:51:37.201550Z",
     "start_time": "2022-01-13T07:51:37.194550Z"
    },
    "collapsed": true
   },
   "outputs": [],
   "source": [
    "\n",
    "# all_train_data3=all_train_data3.apply(lambda x : (x-x.mean())/x.std())"
   ]
  },
  {
   "cell_type": "code",
   "execution_count": 88,
   "metadata": {
    "ExecuteTime": {
     "end_time": "2022-01-13T07:51:37.789584Z",
     "start_time": "2022-01-13T07:51:37.730581Z"
    },
    "scrolled": true
   },
   "outputs": [
    {
     "data": {
      "text/html": [
       "<div>\n",
       "<style>\n",
       "    .dataframe thead tr:only-child th {\n",
       "        text-align: right;\n",
       "    }\n",
       "\n",
       "    .dataframe thead th {\n",
       "        text-align: left;\n",
       "    }\n",
       "\n",
       "    .dataframe tbody tr th {\n",
       "        vertical-align: top;\n",
       "    }\n",
       "</style>\n",
       "<table border=\"1\" class=\"dataframe\">\n",
       "  <thead>\n",
       "    <tr style=\"text-align: right;\">\n",
       "      <th></th>\n",
       "      <th>0</th>\n",
       "      <th>1</th>\n",
       "      <th>2</th>\n",
       "      <th>3</th>\n",
       "      <th>4</th>\n",
       "      <th>5</th>\n",
       "      <th>6</th>\n",
       "      <th>7</th>\n",
       "      <th>8</th>\n",
       "      <th>9</th>\n",
       "      <th>10</th>\n",
       "      <th>11</th>\n",
       "      <th>12</th>\n",
       "      <th>13</th>\n",
       "      <th>14</th>\n",
       "      <th>15</th>\n",
       "      <th>16</th>\n",
       "      <th>17</th>\n",
       "    </tr>\n",
       "  </thead>\n",
       "  <tbody>\n",
       "    <tr>\n",
       "      <th>count</th>\n",
       "      <td>5.760000e+03</td>\n",
       "      <td>5.760000e+03</td>\n",
       "      <td>5.760000e+03</td>\n",
       "      <td>5.760000e+03</td>\n",
       "      <td>5.760000e+03</td>\n",
       "      <td>5.760000e+03</td>\n",
       "      <td>5.760000e+03</td>\n",
       "      <td>5.760000e+03</td>\n",
       "      <td>5.760000e+03</td>\n",
       "      <td>5760.000000</td>\n",
       "      <td>5.760000e+03</td>\n",
       "      <td>5.760000e+03</td>\n",
       "      <td>5.760000e+03</td>\n",
       "      <td>5.760000e+03</td>\n",
       "      <td>5.760000e+03</td>\n",
       "      <td>5.760000e+03</td>\n",
       "      <td>5.760000e+03</td>\n",
       "      <td>5.760000e+03</td>\n",
       "    </tr>\n",
       "    <tr>\n",
       "      <th>mean</th>\n",
       "      <td>1.019875e-13</td>\n",
       "      <td>-5.144712e-14</td>\n",
       "      <td>6.653925e-14</td>\n",
       "      <td>2.549689e-14</td>\n",
       "      <td>2.334629e-15</td>\n",
       "      <td>-6.727368e-14</td>\n",
       "      <td>-4.221841e-14</td>\n",
       "      <td>2.062856e-15</td>\n",
       "      <td>5.215490e-14</td>\n",
       "      <td>5.756380</td>\n",
       "      <td>-1.659610e-15</td>\n",
       "      <td>6.245795e-14</td>\n",
       "      <td>-9.682569e-15</td>\n",
       "      <td>-1.537578e-14</td>\n",
       "      <td>1.616595e-14</td>\n",
       "      <td>-8.086471e-15</td>\n",
       "      <td>3.354384e-14</td>\n",
       "      <td>3.181464e-15</td>\n",
       "    </tr>\n",
       "    <tr>\n",
       "      <th>std</th>\n",
       "      <td>1.000000e+00</td>\n",
       "      <td>1.000000e+00</td>\n",
       "      <td>1.000000e+00</td>\n",
       "      <td>1.000000e+00</td>\n",
       "      <td>1.000000e+00</td>\n",
       "      <td>1.000000e+00</td>\n",
       "      <td>1.000000e+00</td>\n",
       "      <td>1.000000e+00</td>\n",
       "      <td>1.000000e+00</td>\n",
       "      <td>2.725299</td>\n",
       "      <td>1.000000e+00</td>\n",
       "      <td>1.000000e+00</td>\n",
       "      <td>1.000000e+00</td>\n",
       "      <td>1.000000e+00</td>\n",
       "      <td>1.000000e+00</td>\n",
       "      <td>1.000000e+00</td>\n",
       "      <td>1.000000e+00</td>\n",
       "      <td>1.000000e+00</td>\n",
       "    </tr>\n",
       "    <tr>\n",
       "      <th>min</th>\n",
       "      <td>-2.255345e+00</td>\n",
       "      <td>-5.306764e+00</td>\n",
       "      <td>-2.846587e+00</td>\n",
       "      <td>-2.447008e+00</td>\n",
       "      <td>-3.818917e+00</td>\n",
       "      <td>-4.363104e+00</td>\n",
       "      <td>-3.808196e+00</td>\n",
       "      <td>-3.063532e+00</td>\n",
       "      <td>-2.833784e+00</td>\n",
       "      <td>0.000000</td>\n",
       "      <td>-2.541260e-01</td>\n",
       "      <td>-2.286725e+00</td>\n",
       "      <td>-3.466795e+00</td>\n",
       "      <td>-7.641412e+00</td>\n",
       "      <td>-3.527271e+00</td>\n",
       "      <td>-3.868786e+00</td>\n",
       "      <td>-3.965265e+00</td>\n",
       "      <td>-2.782619e+00</td>\n",
       "    </tr>\n",
       "    <tr>\n",
       "      <th>25%</th>\n",
       "      <td>-8.027755e-01</td>\n",
       "      <td>-1.199461e+00</td>\n",
       "      <td>-6.693840e-01</td>\n",
       "      <td>-7.516859e-01</td>\n",
       "      <td>-6.222681e-01</td>\n",
       "      <td>-6.602794e-01</td>\n",
       "      <td>-6.587790e-01</td>\n",
       "      <td>-6.921282e-01</td>\n",
       "      <td>-6.450364e-01</td>\n",
       "      <td>3.853588</td>\n",
       "      <td>-2.541260e-01</td>\n",
       "      <td>-8.022974e-01</td>\n",
       "      <td>-6.567335e-01</td>\n",
       "      <td>-8.957229e-01</td>\n",
       "      <td>-8.471015e-01</td>\n",
       "      <td>-8.284860e-01</td>\n",
       "      <td>-7.175293e-01</td>\n",
       "      <td>-7.554874e-01</td>\n",
       "    </tr>\n",
       "    <tr>\n",
       "      <th>50%</th>\n",
       "      <td>3.868283e-03</td>\n",
       "      <td>-1.540203e-01</td>\n",
       "      <td>5.390355e-02</td>\n",
       "      <td>-8.905258e-02</td>\n",
       "      <td>2.767230e-03</td>\n",
       "      <td>-2.466757e-02</td>\n",
       "      <td>-6.652185e-02</td>\n",
       "      <td>9.398760e-03</td>\n",
       "      <td>-1.337080e-02</td>\n",
       "      <td>5.763730</td>\n",
       "      <td>-2.541260e-01</td>\n",
       "      <td>8.566150e-03</td>\n",
       "      <td>-5.175865e-02</td>\n",
       "      <td>-2.955772e-01</td>\n",
       "      <td>-1.955858e-01</td>\n",
       "      <td>-1.918681e-01</td>\n",
       "      <td>-1.644871e-02</td>\n",
       "      <td>1.601343e-02</td>\n",
       "    </tr>\n",
       "    <tr>\n",
       "      <th>75%</th>\n",
       "      <td>7.085792e-01</td>\n",
       "      <td>1.103605e+00</td>\n",
       "      <td>6.987095e-01</td>\n",
       "      <td>7.299705e-01</td>\n",
       "      <td>5.875442e-01</td>\n",
       "      <td>7.024097e-01</td>\n",
       "      <td>6.728357e-01</td>\n",
       "      <td>6.640201e-01</td>\n",
       "      <td>6.670347e-01</td>\n",
       "      <td>7.603404</td>\n",
       "      <td>-2.541260e-01</td>\n",
       "      <td>8.107297e-01</td>\n",
       "      <td>6.329803e-01</td>\n",
       "      <td>3.274645e-01</td>\n",
       "      <td>7.160547e-01</td>\n",
       "      <td>7.535070e-01</td>\n",
       "      <td>7.077023e-01</td>\n",
       "      <td>7.440291e-01</td>\n",
       "    </tr>\n",
       "    <tr>\n",
       "      <th>max</th>\n",
       "      <td>2.465256e+00</td>\n",
       "      <td>4.391621e+00</td>\n",
       "      <td>2.890982e+00</td>\n",
       "      <td>2.483615e+00</td>\n",
       "      <td>2.956513e+00</td>\n",
       "      <td>3.042810e+00</td>\n",
       "      <td>3.154037e+00</td>\n",
       "      <td>5.440292e+00</td>\n",
       "      <td>3.461476e+00</td>\n",
       "      <td>14.709463</td>\n",
       "      <td>4.321989e+00</td>\n",
       "      <td>2.443003e+00</td>\n",
       "      <td>3.760984e+00</td>\n",
       "      <td>8.702351e+00</td>\n",
       "      <td>1.710428e+00</td>\n",
       "      <td>1.698787e+00</td>\n",
       "      <td>3.054866e+00</td>\n",
       "      <td>2.753135e+00</td>\n",
       "    </tr>\n",
       "  </tbody>\n",
       "</table>\n",
       "</div>"
      ],
      "text/plain": [
       "                 0             1             2             3             4   \\\n",
       "count  5.760000e+03  5.760000e+03  5.760000e+03  5.760000e+03  5.760000e+03   \n",
       "mean   1.019875e-13 -5.144712e-14  6.653925e-14  2.549689e-14  2.334629e-15   \n",
       "std    1.000000e+00  1.000000e+00  1.000000e+00  1.000000e+00  1.000000e+00   \n",
       "min   -2.255345e+00 -5.306764e+00 -2.846587e+00 -2.447008e+00 -3.818917e+00   \n",
       "25%   -8.027755e-01 -1.199461e+00 -6.693840e-01 -7.516859e-01 -6.222681e-01   \n",
       "50%    3.868283e-03 -1.540203e-01  5.390355e-02 -8.905258e-02  2.767230e-03   \n",
       "75%    7.085792e-01  1.103605e+00  6.987095e-01  7.299705e-01  5.875442e-01   \n",
       "max    2.465256e+00  4.391621e+00  2.890982e+00  2.483615e+00  2.956513e+00   \n",
       "\n",
       "                 5             6             7             8            9   \\\n",
       "count  5.760000e+03  5.760000e+03  5.760000e+03  5.760000e+03  5760.000000   \n",
       "mean  -6.727368e-14 -4.221841e-14  2.062856e-15  5.215490e-14     5.756380   \n",
       "std    1.000000e+00  1.000000e+00  1.000000e+00  1.000000e+00     2.725299   \n",
       "min   -4.363104e+00 -3.808196e+00 -3.063532e+00 -2.833784e+00     0.000000   \n",
       "25%   -6.602794e-01 -6.587790e-01 -6.921282e-01 -6.450364e-01     3.853588   \n",
       "50%   -2.466757e-02 -6.652185e-02  9.398760e-03 -1.337080e-02     5.763730   \n",
       "75%    7.024097e-01  6.728357e-01  6.640201e-01  6.670347e-01     7.603404   \n",
       "max    3.042810e+00  3.154037e+00  5.440292e+00  3.461476e+00    14.709463   \n",
       "\n",
       "                 10            11            12            13            14  \\\n",
       "count  5.760000e+03  5.760000e+03  5.760000e+03  5.760000e+03  5.760000e+03   \n",
       "mean  -1.659610e-15  6.245795e-14 -9.682569e-15 -1.537578e-14  1.616595e-14   \n",
       "std    1.000000e+00  1.000000e+00  1.000000e+00  1.000000e+00  1.000000e+00   \n",
       "min   -2.541260e-01 -2.286725e+00 -3.466795e+00 -7.641412e+00 -3.527271e+00   \n",
       "25%   -2.541260e-01 -8.022974e-01 -6.567335e-01 -8.957229e-01 -8.471015e-01   \n",
       "50%   -2.541260e-01  8.566150e-03 -5.175865e-02 -2.955772e-01 -1.955858e-01   \n",
       "75%   -2.541260e-01  8.107297e-01  6.329803e-01  3.274645e-01  7.160547e-01   \n",
       "max    4.321989e+00  2.443003e+00  3.760984e+00  8.702351e+00  1.710428e+00   \n",
       "\n",
       "                 15            16            17  \n",
       "count  5.760000e+03  5.760000e+03  5.760000e+03  \n",
       "mean  -8.086471e-15  3.354384e-14  3.181464e-15  \n",
       "std    1.000000e+00  1.000000e+00  1.000000e+00  \n",
       "min   -3.868786e+00 -3.965265e+00 -2.782619e+00  \n",
       "25%   -8.284860e-01 -7.175293e-01 -7.554874e-01  \n",
       "50%   -1.918681e-01 -1.644871e-02  1.601343e-02  \n",
       "75%    7.535070e-01  7.077023e-01  7.440291e-01  \n",
       "max    1.698787e+00  3.054866e+00  2.753135e+00  "
      ]
     },
     "execution_count": 88,
     "metadata": {},
     "output_type": "execute_result"
    }
   ],
   "source": [
    "all_train_data3.describe()"
   ]
  },
  {
   "cell_type": "code",
   "execution_count": 89,
   "metadata": {
    "ExecuteTime": {
     "end_time": "2022-01-13T07:51:51.484367Z",
     "start_time": "2022-01-13T07:51:51.418364Z"
    }
   },
   "outputs": [
    {
     "data": {
      "text/html": [
       "<div>\n",
       "<style>\n",
       "    .dataframe thead tr:only-child th {\n",
       "        text-align: right;\n",
       "    }\n",
       "\n",
       "    .dataframe thead th {\n",
       "        text-align: left;\n",
       "    }\n",
       "\n",
       "    .dataframe tbody tr th {\n",
       "        vertical-align: top;\n",
       "    }\n",
       "</style>\n",
       "<table border=\"1\" class=\"dataframe\">\n",
       "  <thead>\n",
       "    <tr style=\"text-align: right;\">\n",
       "      <th></th>\n",
       "      <th>0</th>\n",
       "      <th>1</th>\n",
       "      <th>2</th>\n",
       "      <th>3</th>\n",
       "      <th>4</th>\n",
       "      <th>5</th>\n",
       "      <th>6</th>\n",
       "      <th>7</th>\n",
       "      <th>8</th>\n",
       "      <th>9</th>\n",
       "      <th>10</th>\n",
       "      <th>11</th>\n",
       "      <th>12</th>\n",
       "      <th>13</th>\n",
       "      <th>14</th>\n",
       "      <th>15</th>\n",
       "      <th>16</th>\n",
       "      <th>17</th>\n",
       "    </tr>\n",
       "  </thead>\n",
       "  <tbody>\n",
       "    <tr>\n",
       "      <th>count</th>\n",
       "      <td>5760.000000</td>\n",
       "      <td>5760.000000</td>\n",
       "      <td>5760.000000</td>\n",
       "      <td>5760.000000</td>\n",
       "      <td>5760.000000</td>\n",
       "      <td>5760.000000</td>\n",
       "      <td>5760.000000</td>\n",
       "      <td>5760.000000</td>\n",
       "      <td>5760.000000</td>\n",
       "      <td>5760.000000</td>\n",
       "      <td>5760.000000</td>\n",
       "      <td>5760.000000</td>\n",
       "      <td>5760.000000</td>\n",
       "      <td>5760.000000</td>\n",
       "      <td>5760.000000</td>\n",
       "      <td>5760.000000</td>\n",
       "      <td>5760.000000</td>\n",
       "      <td>5760.000000</td>\n",
       "    </tr>\n",
       "    <tr>\n",
       "      <th>mean</th>\n",
       "      <td>70.426493</td>\n",
       "      <td>65.832202</td>\n",
       "      <td>0.186377</td>\n",
       "      <td>0.079806</td>\n",
       "      <td>0.672361</td>\n",
       "      <td>2.283694</td>\n",
       "      <td>1.937404</td>\n",
       "      <td>7.449352</td>\n",
       "      <td>9.327724</td>\n",
       "      <td>5.756380</td>\n",
       "      <td>0.008977</td>\n",
       "      <td>15482.226219</td>\n",
       "      <td>1.051691</td>\n",
       "      <td>3.676586</td>\n",
       "      <td>12.803597</td>\n",
       "      <td>11.687312</td>\n",
       "      <td>1.046624</td>\n",
       "      <td>0.813470</td>\n",
       "    </tr>\n",
       "    <tr>\n",
       "      <th>std</th>\n",
       "      <td>25.536335</td>\n",
       "      <td>12.405338</td>\n",
       "      <td>0.041562</td>\n",
       "      <td>0.032614</td>\n",
       "      <td>0.176061</td>\n",
       "      <td>0.523410</td>\n",
       "      <td>0.306804</td>\n",
       "      <td>2.431622</td>\n",
       "      <td>3.291614</td>\n",
       "      <td>2.725299</td>\n",
       "      <td>0.035324</td>\n",
       "      <td>6063.422584</td>\n",
       "      <td>0.303361</td>\n",
       "      <td>0.481140</td>\n",
       "      <td>3.602422</td>\n",
       "      <td>3.020925</td>\n",
       "      <td>0.263948</td>\n",
       "      <td>0.292340</td>\n",
       "    </tr>\n",
       "    <tr>\n",
       "      <th>min</th>\n",
       "      <td>12.833239</td>\n",
       "      <td>0.000000</td>\n",
       "      <td>0.068067</td>\n",
       "      <td>0.000000</td>\n",
       "      <td>0.000000</td>\n",
       "      <td>0.000000</td>\n",
       "      <td>0.769032</td>\n",
       "      <td>0.000000</td>\n",
       "      <td>0.000000</td>\n",
       "      <td>0.000000</td>\n",
       "      <td>0.000000</td>\n",
       "      <td>1616.845054</td>\n",
       "      <td>0.000000</td>\n",
       "      <td>0.000000</td>\n",
       "      <td>0.096879</td>\n",
       "      <td>0.000000</td>\n",
       "      <td>0.000000</td>\n",
       "      <td>0.000000</td>\n",
       "    </tr>\n",
       "    <tr>\n",
       "      <th>25%</th>\n",
       "      <td>49.926550</td>\n",
       "      <td>50.952479</td>\n",
       "      <td>0.158556</td>\n",
       "      <td>0.055291</td>\n",
       "      <td>0.562804</td>\n",
       "      <td>1.938097</td>\n",
       "      <td>1.735287</td>\n",
       "      <td>5.766358</td>\n",
       "      <td>7.204513</td>\n",
       "      <td>3.853588</td>\n",
       "      <td>0.000000</td>\n",
       "      <td>10617.557930</td>\n",
       "      <td>0.852464</td>\n",
       "      <td>3.245618</td>\n",
       "      <td>9.751980</td>\n",
       "      <td>9.184518</td>\n",
       "      <td>0.857234</td>\n",
       "      <td>0.592611</td>\n",
       "    </tr>\n",
       "    <tr>\n",
       "      <th>50%</th>\n",
       "      <td>70.525274</td>\n",
       "      <td>63.921527</td>\n",
       "      <td>0.188618</td>\n",
       "      <td>0.076901</td>\n",
       "      <td>0.672848</td>\n",
       "      <td>2.270782</td>\n",
       "      <td>1.916995</td>\n",
       "      <td>7.472206</td>\n",
       "      <td>9.283713</td>\n",
       "      <td>5.763730</td>\n",
       "      <td>0.000000</td>\n",
       "      <td>15534.166404</td>\n",
       "      <td>1.035990</td>\n",
       "      <td>3.534372</td>\n",
       "      <td>12.099014</td>\n",
       "      <td>11.107693</td>\n",
       "      <td>1.042283</td>\n",
       "      <td>0.818152</td>\n",
       "    </tr>\n",
       "    <tr>\n",
       "      <th>75%</th>\n",
       "      <td>88.521007</td>\n",
       "      <td>79.522794</td>\n",
       "      <td>0.215417</td>\n",
       "      <td>0.103613</td>\n",
       "      <td>0.775804</td>\n",
       "      <td>2.651342</td>\n",
       "      <td>2.143833</td>\n",
       "      <td>9.063998</td>\n",
       "      <td>11.523345</td>\n",
       "      <td>7.603404</td>\n",
       "      <td>0.000000</td>\n",
       "      <td>20398.022735</td>\n",
       "      <td>1.243713</td>\n",
       "      <td>3.834142</td>\n",
       "      <td>15.383128</td>\n",
       "      <td>13.963600</td>\n",
       "      <td>1.233421</td>\n",
       "      <td>1.030980</td>\n",
       "    </tr>\n",
       "    <tr>\n",
       "      <th>max</th>\n",
       "      <td>133.380091</td>\n",
       "      <td>120.311749</td>\n",
       "      <td>0.306532</td>\n",
       "      <td>0.160805</td>\n",
       "      <td>1.192886</td>\n",
       "      <td>3.876332</td>\n",
       "      <td>2.905076</td>\n",
       "      <td>20.678088</td>\n",
       "      <td>20.721569</td>\n",
       "      <td>14.709463</td>\n",
       "      <td>0.161645</td>\n",
       "      <td>30295.187454</td>\n",
       "      <td>2.192628</td>\n",
       "      <td>7.863631</td>\n",
       "      <td>18.965279</td>\n",
       "      <td>16.819218</td>\n",
       "      <td>1.852950</td>\n",
       "      <td>1.618322</td>\n",
       "    </tr>\n",
       "  </tbody>\n",
       "</table>\n",
       "</div>"
      ],
      "text/plain": [
       "                0            1            2            3            4   \\\n",
       "count  5760.000000  5760.000000  5760.000000  5760.000000  5760.000000   \n",
       "mean     70.426493    65.832202     0.186377     0.079806     0.672361   \n",
       "std      25.536335    12.405338     0.041562     0.032614     0.176061   \n",
       "min      12.833239     0.000000     0.068067     0.000000     0.000000   \n",
       "25%      49.926550    50.952479     0.158556     0.055291     0.562804   \n",
       "50%      70.525274    63.921527     0.188618     0.076901     0.672848   \n",
       "75%      88.521007    79.522794     0.215417     0.103613     0.775804   \n",
       "max     133.380091   120.311749     0.306532     0.160805     1.192886   \n",
       "\n",
       "                5            6            7            8            9   \\\n",
       "count  5760.000000  5760.000000  5760.000000  5760.000000  5760.000000   \n",
       "mean      2.283694     1.937404     7.449352     9.327724     5.756380   \n",
       "std       0.523410     0.306804     2.431622     3.291614     2.725299   \n",
       "min       0.000000     0.769032     0.000000     0.000000     0.000000   \n",
       "25%       1.938097     1.735287     5.766358     7.204513     3.853588   \n",
       "50%       2.270782     1.916995     7.472206     9.283713     5.763730   \n",
       "75%       2.651342     2.143833     9.063998    11.523345     7.603404   \n",
       "max       3.876332     2.905076    20.678088    20.721569    14.709463   \n",
       "\n",
       "                10            11           12           13           14  \\\n",
       "count  5760.000000   5760.000000  5760.000000  5760.000000  5760.000000   \n",
       "mean      0.008977  15482.226219     1.051691     3.676586    12.803597   \n",
       "std       0.035324   6063.422584     0.303361     0.481140     3.602422   \n",
       "min       0.000000   1616.845054     0.000000     0.000000     0.096879   \n",
       "25%       0.000000  10617.557930     0.852464     3.245618     9.751980   \n",
       "50%       0.000000  15534.166404     1.035990     3.534372    12.099014   \n",
       "75%       0.000000  20398.022735     1.243713     3.834142    15.383128   \n",
       "max       0.161645  30295.187454     2.192628     7.863631    18.965279   \n",
       "\n",
       "                15           16           17  \n",
       "count  5760.000000  5760.000000  5760.000000  \n",
       "mean     11.687312     1.046624     0.813470  \n",
       "std       3.020925     0.263948     0.292340  \n",
       "min       0.000000     0.000000     0.000000  \n",
       "25%       9.184518     0.857234     0.592611  \n",
       "50%      11.107693     1.042283     0.818152  \n",
       "75%      13.963600     1.233421     1.030980  \n",
       "max      16.819218     1.852950     1.618322  "
      ]
     },
     "execution_count": 89,
     "metadata": {},
     "output_type": "execute_result"
    }
   ],
   "source": [
    "all_train_data2.describe()"
   ]
  },
  {
   "cell_type": "code",
   "execution_count": 90,
   "metadata": {
    "ExecuteTime": {
     "end_time": "2022-01-13T07:51:52.174407Z",
     "start_time": "2022-01-13T07:51:52.156406Z"
    },
    "collapsed": true
   },
   "outputs": [],
   "source": [
    "year_data3={}\n",
    "for m in range(12):\n",
    "    month_data3=np.empty((18,480))\n",
    "    month_data3[:,:]=all_train_data3.T.iloc[:,m*480:(m+1)*480]\n",
    "    year_data3[m]=month_data3"
   ]
  },
  {
   "cell_type": "markdown",
   "metadata": {
    "collapsed": true
   },
   "source": [
    "## diff with hw_test81 end"
   ]
  },
  {
   "cell_type": "code",
   "execution_count": null,
   "metadata": {
    "collapsed": true
   },
   "outputs": [],
   "source": []
  },
  {
   "cell_type": "code",
   "execution_count": null,
   "metadata": {
    "ExecuteTime": {
     "end_time": "2021-12-30T05:59:56.968392Z",
     "start_time": "2021-12-30T05:59:56.911388Z"
    },
    "collapsed": true
   },
   "outputs": [],
   "source": [
    "x4=np.empty((12*471,18*9))\n",
    "y4=np.empty((12*471,1))\n",
    "\n",
    "for m in range(12):\n",
    "    for g in range(471):\n",
    "        x4[m*471+g:m*471+g+1,:]=year_data3[m][:,g:g+9].reshape(1,-1)\n",
    "        y4[m*471+g:m*471+g+1,:]=year_data3[m][9,g+9]"
   ]
  },
  {
   "cell_type": "code",
   "execution_count": null,
   "metadata": {
    "ExecuteTime": {
     "end_time": "2021-12-30T05:59:58.289467Z",
     "start_time": "2021-12-30T05:59:58.279467Z"
    }
   },
   "outputs": [],
   "source": [
    "x4[-6,81:92]"
   ]
  },
  {
   "cell_type": "code",
   "execution_count": null,
   "metadata": {
    "ExecuteTime": {
     "end_time": "2021-12-30T06:00:04.015795Z",
     "start_time": "2021-12-30T06:00:04.006794Z"
    }
   },
   "outputs": [],
   "source": [
    "x4[-5,81:92]"
   ]
  },
  {
   "cell_type": "code",
   "execution_count": null,
   "metadata": {
    "ExecuteTime": {
     "end_time": "2021-12-30T06:00:09.448105Z",
     "start_time": "2021-12-30T06:00:09.439105Z"
    }
   },
   "outputs": [],
   "source": [
    "x4[-4,81:92]"
   ]
  },
  {
   "cell_type": "code",
   "execution_count": null,
   "metadata": {
    "ExecuteTime": {
     "end_time": "2021-12-30T06:00:10.052140Z",
     "start_time": "2021-12-30T06:00:10.045140Z"
    }
   },
   "outputs": [],
   "source": [
    "y4.shape"
   ]
  },
  {
   "cell_type": "code",
   "execution_count": null,
   "metadata": {
    "ExecuteTime": {
     "end_time": "2021-12-30T06:00:35.544598Z",
     "start_time": "2021-12-30T06:00:35.535598Z"
    }
   },
   "outputs": [],
   "source": [
    "y4[-6:]"
   ]
  },
  {
   "cell_type": "code",
   "execution_count": null,
   "metadata": {
    "ExecuteTime": {
     "end_time": "2021-12-30T06:00:36.013625Z",
     "start_time": "2021-12-30T06:00:36.007625Z"
    }
   },
   "outputs": [],
   "source": [
    "y4[-5:]"
   ]
  },
  {
   "cell_type": "code",
   "execution_count": null,
   "metadata": {
    "ExecuteTime": {
     "end_time": "2021-12-30T06:00:37.141689Z",
     "start_time": "2021-12-30T06:00:37.133689Z"
    }
   },
   "outputs": [],
   "source": [
    "y4[-4:]"
   ]
  },
  {
   "cell_type": "code",
   "execution_count": null,
   "metadata": {
    "ExecuteTime": {
     "end_time": "2021-12-30T06:00:40.436878Z",
     "start_time": "2021-12-30T06:00:40.416877Z"
    },
    "collapsed": true
   },
   "outputs": [],
   "source": [
    "x44=torch.Tensor(x4)\n",
    "y44=torch.Tensor(y4)"
   ]
  },
  {
   "cell_type": "code",
   "execution_count": null,
   "metadata": {
    "ExecuteTime": {
     "end_time": "2021-12-30T06:04:41.200649Z",
     "start_time": "2021-12-30T06:00:42.383989Z"
    }
   },
   "outputs": [],
   "source": [
    "def get_net():\n",
    "    return nn.Sequential(nn.Linear(x44.shape[1],128),nn.Linear(128,1))\n",
    "net1=get_net()\n",
    "train_kfold(net1,1000,0.001,5,x44,y44,256,0,0)"
   ]
  },
  {
   "cell_type": "code",
   "execution_count": null,
   "metadata": {
    "ExecuteTime": {
     "end_time": "2021-12-30T08:55:32.368982Z",
     "start_time": "2021-12-30T08:43:00.087954Z"
    }
   },
   "outputs": [],
   "source": [
    "def get_net():\n",
    "    return nn.Sequential(nn.Linear(x44.shape[1],128),nn.ReLU(),nn.Linear(128,1))\n",
    "net1=get_net()\n",
    "train_kfold(net1,5000,0.00001,5,x44,y44,256,0,0)"
   ]
  },
  {
   "cell_type": "code",
   "execution_count": null,
   "metadata": {
    "ExecuteTime": {
     "end_time": "2021-12-30T06:50:45.792774Z",
     "start_time": "2021-12-30T06:46:47.604151Z"
    }
   },
   "outputs": [],
   "source": [
    "def get_net():\n",
    "    return nn.Sequential(nn.Linear(x44.shape[1],256),nn.Linear(256,1))\n",
    "net1=get_net()\n",
    "train_kfold(net1,1000,0.001,5,x44,y44,256,0,0)"
   ]
  },
  {
   "cell_type": "code",
   "execution_count": null,
   "metadata": {
    "ExecuteTime": {
     "end_time": "2021-12-30T07:06:53.264111Z",
     "start_time": "2021-12-30T07:02:44.480881Z"
    }
   },
   "outputs": [],
   "source": [
    "def get_net():\n",
    "    return nn.Sequential(nn.Linear(x44.shape[1],16),nn.Linear(16,1))\n",
    "net1=get_net()\n",
    "train_kfold(net1,1000,0.0005,5,x44,y44,256,0,0)"
   ]
  },
  {
   "cell_type": "code",
   "execution_count": null,
   "metadata": {
    "ExecuteTime": {
     "end_time": "2021-12-29T06:56:09.978810Z",
     "start_time": "2021-12-29T06:53:03.206128Z"
    }
   },
   "outputs": [],
   "source": [
    "def get_net():\n",
    "    return nn.Sequential(nn.Linear(x44.shape[1],32),nn.Linear(32,1))\n",
    "net1=get_net()\n",
    "train_kfold(net1,1000,0.001,5,x44,y44,256,0,0)"
   ]
  },
  {
   "cell_type": "markdown",
   "metadata": {
    "ExecuteTime": {
     "end_time": "2021-12-28T07:05:00.556991Z",
     "start_time": "2021-12-28T07:05:00.534989Z"
    }
   },
   "source": [
    "#### set lr = 0.0001 , batch_size = 64 , test loss <=1"
   ]
  },
  {
   "cell_type": "code",
   "execution_count": null,
   "metadata": {
    "ExecuteTime": {
     "end_time": "2021-12-30T06:09:48.800243Z",
     "start_time": "2021-12-30T06:04:55.671477Z"
    }
   },
   "outputs": [],
   "source": [
    "def get_net():\n",
    "    return nn.Sequential(nn.Linear(x44.shape[1],16),nn.ReLU(),nn.Linear(16,1))\n",
    "net1=get_net()\n",
    "train_kfold(net1,5000,0.0001,5,x44,y44,64,0,0)"
   ]
  },
  {
   "cell_type": "code",
   "execution_count": null,
   "metadata": {
    "ExecuteTime": {
     "end_time": "2021-12-29T07:04:34.344658Z",
     "start_time": "2021-12-29T07:00:12.549685Z"
    }
   },
   "outputs": [],
   "source": [
    "def get_net():\n",
    "    return nn.Sequential(nn.Linear(x44.shape[1],8),nn.ReLU(),nn.Linear(8,1))\n",
    "net1=get_net()\n",
    "train_kfold(net1,5000,0.0001,5,x44,y44,64,0,0)"
   ]
  },
  {
   "cell_type": "markdown",
   "metadata": {},
   "source": [
    "### linear function  test"
   ]
  },
  {
   "cell_type": "code",
   "execution_count": null,
   "metadata": {
    "ExecuteTime": {
     "end_time": "2021-12-30T07:07:56.948753Z",
     "start_time": "2021-12-30T07:07:56.943753Z"
    },
    "collapsed": true
   },
   "outputs": [],
   "source": [
    "def rmsle_cv(model):\n",
    "    kf=KFold(n_folds,shuffle=True,random_state=42).get_n_splits(x4)\n",
    "    rmse=np.sqrt(-cross_val_score(model,x4,y4,scoring='neg_mean_squared_error',cv=kf))\n",
    "    return rmse"
   ]
  },
  {
   "cell_type": "code",
   "execution_count": null,
   "metadata": {
    "ExecuteTime": {
     "end_time": "2021-12-30T07:08:03.042102Z",
     "start_time": "2021-12-30T07:07:58.680852Z"
    }
   },
   "outputs": [],
   "source": [
    "lasso=make_pipeline(RobustScaler(),Lasso(alpha=0.0005,random_state=1))\n",
    "score=rmsle_cv(lasso)\n",
    "print(\"\\nLasso score: {:.4f} ({:.4f})\\n\".format(score.mean(), score.std()))"
   ]
  },
  {
   "cell_type": "code",
   "execution_count": null,
   "metadata": {
    "ExecuteTime": {
     "end_time": "2021-12-30T07:08:12.793660Z",
     "start_time": "2021-12-30T07:08:08.455411Z"
    }
   },
   "outputs": [],
   "source": [
    "enet=make_pipeline(RobustScaler(),ElasticNet(alpha=0.0005,l1_ratio=0.9))\n",
    "scoreo=rmsle_cv(enet)\n",
    "print(\"\\n enet score: {:.4f} ({:.4f})\\n\".format(score.mean(), score.std()))"
   ]
  },
  {
   "cell_type": "code",
   "execution_count": null,
   "metadata": {
    "ExecuteTime": {
     "end_time": "2021-12-30T07:08:18.071961Z",
     "start_time": "2021-12-30T07:08:17.695940Z"
    }
   },
   "outputs": [],
   "source": [
    "ridge=make_pipeline(RobustScaler(),Ridge(alpha=0.5))\n",
    "score=rmsle_cv(ridge)\n",
    "print(\"\\n ridge score: {:.4f} ({:.4f})\\n\".format(score.mean(), score.std()))"
   ]
  },
  {
   "cell_type": "code",
   "execution_count": null,
   "metadata": {
    "ExecuteTime": {
     "end_time": "2021-12-30T07:08:26.331434Z",
     "start_time": "2021-12-30T07:08:25.958412Z"
    }
   },
   "outputs": [],
   "source": [
    "ridge=make_pipeline(Ridge(alpha=0.5))\n",
    "score=rmsle_cv(ridge)\n",
    "print(\"\\n ridge score: {:.4f} ({:.4f})\\n\".format(score.mean(), score.std()))"
   ]
  },
  {
   "cell_type": "code",
   "execution_count": null,
   "metadata": {
    "ExecuteTime": {
     "end_time": "2021-12-30T07:09:53.373412Z",
     "start_time": "2021-12-30T07:08:27.447498Z"
    }
   },
   "outputs": [],
   "source": [
    "GBoost = GradientBoostingRegressor(n_estimators=3000,\n",
    "                                   learning_rate=0.05,\n",
    "                                   max_depth=4,\n",
    "                                   max_features='sqrt',\n",
    "                                   min_samples_leaf=15,\n",
    "                                   min_samples_split=10,\n",
    "                                   loss='huber',\n",
    "                                   random_state=5)\n",
    "score = rmsle_cv(GBoost)\n",
    "print(\"Gradient Boosting score: {:.4f} ({:.4f})\\n\".format(score.mean(), score.std()))"
   ]
  },
  {
   "cell_type": "code",
   "execution_count": null,
   "metadata": {
    "ExecuteTime": {
     "end_time": "2021-12-30T07:13:24.133467Z",
     "start_time": "2021-12-30T07:11:06.824614Z"
    }
   },
   "outputs": [],
   "source": [
    "model_xgb = xgb.XGBRegressor(colsample_bytree=0.4603, gamma=0.0468, \n",
    "                             learning_rate=0.05, max_depth=3, \n",
    "                             min_child_weight=1.7817, n_estimators=2200,\n",
    "                             reg_alpha=0.4640, reg_lambda=0.8571,\n",
    "                             subsample=0.5213, silent=1,\n",
    "                             random_state =7, nthread = -1)\n",
    "score = rmsle_cv(model_xgb)\n",
    "print(\"Xgboost score: {:.4f} ({:.4f})\\n\".format(score.mean(), score.std()))"
   ]
  },
  {
   "cell_type": "code",
   "execution_count": null,
   "metadata": {
    "ExecuteTime": {
     "end_time": "2021-12-30T07:13:35.138097Z",
     "start_time": "2021-12-30T07:13:24.137467Z"
    }
   },
   "outputs": [],
   "source": [
    "model_lgb = lgb.LGBMRegressor(objective='regression',num_leaves=5,\n",
    "                              learning_rate=0.05, n_estimators=720,\n",
    "                              max_bin = 55, bagging_fraction = 0.8,\n",
    "                              bagging_freq = 5, feature_fraction = 0.2319,\n",
    "                              feature_fraction_seed=9, bagging_seed=9,\n",
    "                              min_data_in_leaf =6, min_sum_hessian_in_leaf = 11)\n",
    "score = rmsle_cv(model_lgb)\n",
    "print(\"LGBM score: {:.4f} ({:.4f})\\n\" .format(score.mean(), score.std()))"
   ]
  },
  {
   "cell_type": "code",
   "execution_count": null,
   "metadata": {
    "ExecuteTime": {
     "end_time": "2021-12-24T09:33:30.208720Z",
     "start_time": "2021-12-24T09:33:28.560626Z"
    },
    "collapsed": true
   },
   "outputs": [],
   "source": [
    "# x4_cxv=pd.DataFrame(x4.reshape(-1,9))\n",
    "# x4_cxv.to_csv(r'F:\\study\\ml\\HonyiLee2020\\hw1\\data\\wx_x_cxv.csv')"
   ]
  },
  {
   "cell_type": "code",
   "execution_count": null,
   "metadata": {
    "ExecuteTime": {
     "end_time": "2021-12-30T02:13:16.613496Z",
     "start_time": "2021-12-30T02:13:16.604495Z"
    }
   },
   "outputs": [],
   "source": [
    "x4[-5,81:91]"
   ]
  },
  {
   "cell_type": "code",
   "execution_count": null,
   "metadata": {
    "ExecuteTime": {
     "end_time": "2021-12-30T02:13:17.163527Z",
     "start_time": "2021-12-30T02:13:17.153527Z"
    }
   },
   "outputs": [],
   "source": [
    "x4[-4,81:91]"
   ]
  },
  {
   "cell_type": "code",
   "execution_count": null,
   "metadata": {
    "ExecuteTime": {
     "end_time": "2021-12-30T02:13:17.621554Z",
     "start_time": "2021-12-30T02:13:17.614553Z"
    }
   },
   "outputs": [],
   "source": [
    "x4[-3,81:91]"
   ]
  },
  {
   "cell_type": "code",
   "execution_count": null,
   "metadata": {
    "ExecuteTime": {
     "end_time": "2021-12-30T02:13:18.119582Z",
     "start_time": "2021-12-30T02:13:18.112582Z"
    }
   },
   "outputs": [],
   "source": [
    "y4[-5:]"
   ]
  },
  {
   "cell_type": "code",
   "execution_count": null,
   "metadata": {
    "ExecuteTime": {
     "end_time": "2021-12-30T07:13:35.230102Z",
     "start_time": "2021-12-30T07:13:35.143097Z"
    }
   },
   "outputs": [],
   "source": [
    "all_train_data3.describe()"
   ]
  },
  {
   "cell_type": "code",
   "execution_count": null,
   "metadata": {
    "ExecuteTime": {
     "end_time": "2021-12-30T02:14:02.102098Z",
     "start_time": "2021-12-30T02:14:02.093097Z"
    }
   },
   "outputs": [],
   "source": [
    " 0.6281137*2.725299+5.756380"
   ]
  },
  {
   "cell_type": "code",
   "execution_count": null,
   "metadata": {
    "ExecuteTime": {
     "end_time": "2021-12-30T07:24:38.452036Z",
     "start_time": "2021-12-30T07:24:38.445036Z"
    },
    "collapsed": true
   },
   "outputs": [],
   "source": [
    "from scipy.special import inv_boxcox1p"
   ]
  },
  {
   "cell_type": "code",
   "execution_count": null,
   "metadata": {
    "ExecuteTime": {
     "end_time": "2021-12-30T02:14:03.244163Z",
     "start_time": "2021-12-30T02:14:03.236163Z"
    }
   },
   "outputs": [],
   "source": [
    " 0.6281137*2.725299+5.756380\n",
    "inv_boxcox1p(7.4681776384963,0.4145678510523434)"
   ]
  },
  {
   "cell_type": "code",
   "execution_count": null,
   "metadata": {
    "ExecuteTime": {
     "end_time": "2021-12-30T02:14:04.158215Z",
     "start_time": "2021-12-30T02:14:04.148215Z"
    }
   },
   "outputs": [],
   "source": [
    "-0.06379855*2.725299+5.756380"
   ]
  },
  {
   "cell_type": "code",
   "execution_count": null,
   "metadata": {
    "ExecuteTime": {
     "end_time": "2021-12-30T02:14:06.111327Z",
     "start_time": "2021-12-30T02:14:06.099326Z"
    }
   },
   "outputs": [],
   "source": [
    "inv_boxcox1p(5.5825098754835505,0.4145678510523434)"
   ]
  },
  {
   "cell_type": "code",
   "execution_count": null,
   "metadata": {
    "ExecuteTime": {
     "end_time": "2021-12-30T02:14:07.613413Z",
     "start_time": "2021-12-30T02:14:07.603412Z"
    }
   },
   "outputs": [],
   "source": [
    "0.38*0.38"
   ]
  },
  {
   "cell_type": "code",
   "execution_count": null,
   "metadata": {
    "ExecuteTime": {
     "end_time": "2021-12-30T07:23:02.245533Z",
     "start_time": "2021-12-30T07:23:02.229532Z"
    }
   },
   "outputs": [],
   "source": [
    "x4_len=x4.shape[0]\n",
    "print(int(0.8*x4_len))\n",
    "x4_train=x4[:int(0.8*x4_len),:]\n",
    "y4_train=y4[:int(0.8*x4_len),:]\n",
    "x4_test=x4[int(0.8*x4_len):,:]\n",
    "y4_test=y4[int(0.8*x4_len):,:]"
   ]
  },
  {
   "cell_type": "code",
   "execution_count": null,
   "metadata": {
    "ExecuteTime": {
     "end_time": "2021-12-30T07:23:07.151814Z",
     "start_time": "2021-12-30T07:23:07.139813Z"
    }
   },
   "outputs": [],
   "source": [
    "x4_train.shape"
   ]
  },
  {
   "cell_type": "code",
   "execution_count": null,
   "metadata": {
    "ExecuteTime": {
     "end_time": "2021-12-30T07:23:07.664843Z",
     "start_time": "2021-12-30T07:23:07.656843Z"
    }
   },
   "outputs": [],
   "source": [
    "y4_train.shape"
   ]
  },
  {
   "cell_type": "code",
   "execution_count": null,
   "metadata": {
    "ExecuteTime": {
     "end_time": "2021-12-30T07:23:40.511722Z",
     "start_time": "2021-12-30T07:23:39.817682Z"
    }
   },
   "outputs": [],
   "source": [
    "lasso=Lasso(alpha=0.0005,random_state=1)\n",
    "lasso.fit(x4_train,y4_train)\n",
    "y4_hat=lasso.predict(x4_test)"
   ]
  },
  {
   "cell_type": "code",
   "execution_count": null,
   "metadata": {
    "ExecuteTime": {
     "end_time": "2021-12-30T07:23:42.684846Z",
     "start_time": "2021-12-30T07:23:42.679846Z"
    }
   },
   "outputs": [],
   "source": [
    "y4_hat[-5:]"
   ]
  },
  {
   "cell_type": "code",
   "execution_count": null,
   "metadata": {
    "ExecuteTime": {
     "end_time": "2021-12-30T07:23:44.275937Z",
     "start_time": "2021-12-30T07:23:44.266937Z"
    }
   },
   "outputs": [],
   "source": [
    "y4_test[-5:]"
   ]
  },
  {
   "cell_type": "code",
   "execution_count": null,
   "metadata": {
    "ExecuteTime": {
     "end_time": "2021-12-30T02:14:22.110242Z",
     "start_time": "2021-12-30T02:14:22.099241Z"
    }
   },
   "outputs": [],
   "source": [
    "0.04508735*2.725299+5.756380\n",
    "\n",
    "inv_boxcox1p(5.87925650986765,0.4145678510523434)"
   ]
  },
  {
   "cell_type": "code",
   "execution_count": null,
   "metadata": {
    "ExecuteTime": {
     "end_time": "2021-12-30T07:23:57.003665Z",
     "start_time": "2021-12-30T07:23:56.995665Z"
    },
    "collapsed": true
   },
   "outputs": [],
   "source": [
    "from sklearn.model_selection import cross_val_predict"
   ]
  },
  {
   "cell_type": "code",
   "execution_count": null,
   "metadata": {
    "ExecuteTime": {
     "end_time": "2021-12-30T07:23:58.917775Z",
     "start_time": "2021-12-30T07:23:58.906774Z"
    },
    "collapsed": true
   },
   "outputs": [],
   "source": [
    "def rmsle_cv_predict(model):\n",
    "    kf=KFold(n_folds,shuffle=True,random_state=42).get_n_splits(x4_train)\n",
    "    rmse=np.sqrt(-cross_val_predict(model,x4_train,y4_train,scoring='neg_mean_squared_error',cv=kf))\n",
    "    return rmse"
   ]
  },
  {
   "cell_type": "code",
   "execution_count": null,
   "metadata": {
    "ExecuteTime": {
     "end_time": "2021-12-30T07:24:00.694876Z",
     "start_time": "2021-12-30T07:23:59.883830Z"
    }
   },
   "outputs": [],
   "source": [
    "lasso=Lasso(alpha=0.0005,random_state=1)\n",
    "lasso.fit(x4_train,y4_train)\n",
    "y4_hat=lasso.predict(x4_test).reshape(-1,1)\n",
    "np.sqrt(np.sum(np.power(y4_hat-y4_test,2),axis=0)/y4_test.shape[0])"
   ]
  },
  {
   "cell_type": "code",
   "execution_count": null,
   "metadata": {
    "ExecuteTime": {
     "end_time": "2021-12-30T07:26:23.094021Z",
     "start_time": "2021-12-30T07:26:23.077020Z"
    }
   },
   "outputs": [],
   "source": [
    "y4_hat_orig=y4_hat\n",
    "y4_test_orig=y4_test\n",
    "y4_hat_orig=inv_boxcox1p(y4_hat_orig,0.4145678510523434)\n",
    "y4_test_orig=inv_boxcox1p(y4_test_orig,0.4145678510523434)\n",
    "np.sqrt(mean_squared_error(y4_hat_orig,y4_test_orig))"
   ]
  },
  {
   "cell_type": "code",
   "execution_count": null,
   "metadata": {
    "ExecuteTime": {
     "end_time": "2021-12-30T07:24:55.726024Z",
     "start_time": "2021-12-30T07:24:55.715023Z"
    }
   },
   "outputs": [],
   "source": [
    "inv_boxcox1p(1.05,0.4145678510523434)"
   ]
  },
  {
   "cell_type": "code",
   "execution_count": null,
   "metadata": {
    "ExecuteTime": {
     "end_time": "2021-12-29T09:37:28.812408Z",
     "start_time": "2021-12-29T09:37:28.656399Z"
    },
    "collapsed": true
   },
   "outputs": [],
   "source": [
    "ridge=Ridge(alpha=0.5)\n",
    "ridge.fit(x4_train,y4_train)\n",
    "y_hat=ridge.predict(x4_test)"
   ]
  },
  {
   "cell_type": "code",
   "execution_count": null,
   "metadata": {
    "ExecuteTime": {
     "end_time": "2021-12-29T09:37:41.302122Z",
     "start_time": "2021-12-29T09:37:41.294122Z"
    }
   },
   "outputs": [],
   "source": [
    "y_hat[-5:]"
   ]
  },
  {
   "cell_type": "code",
   "execution_count": null,
   "metadata": {
    "ExecuteTime": {
     "end_time": "2021-12-29T09:52:27.554813Z",
     "start_time": "2021-12-29T09:52:27.537812Z"
    },
    "collapsed": true
   },
   "outputs": [],
   "source": [
    "x44_train=torch.Tensor(x4_train)\n",
    "y44_train=torch.Tensor(y4_train)\n",
    "x44_test=torch.Tensor(x4_test)"
   ]
  },
  {
   "cell_type": "code",
   "execution_count": null,
   "metadata": {
    "ExecuteTime": {
     "end_time": "2021-12-29T09:52:29.186906Z",
     "start_time": "2021-12-29T09:52:29.136904Z"
    },
    "collapsed": true
   },
   "outputs": [],
   "source": [
    "def train_kfold_pred(net1,num_epochs,lr,k,x_data,y_data,batch_size,montum,wd,test_features):\n",
    "    train_sum_l,test_sum_l=[],[]\n",
    "    train_l,test_l=[],[]\n",
    "#     net=nn.Linear(x_data.shape[1])\n",
    "    for j in range(k):\n",
    "        net1=get_net()\n",
    "#         for p in net1.parameters():\n",
    "#             torch.nn.init.normal_(p)\n",
    "        net=net1\n",
    "        data=get_kfold_data(k,j,x_data,y_data)\n",
    "        train_l,test_l=train_k_fold_data(net,num_epochs,lr,*data,batch_size,montum,wd)\n",
    "        train_sum_l.append(train_l[-1])\n",
    "        test_sum_l.append(test_l[-1])\n",
    "        print('--------------------------------------------------------------------------')\n",
    "        print('fold %d,train loss mean : %f,test loss : %f' % (j+1,train_l[-1],test_l[-1]))\n",
    "        print('-------------------------------------------------------------------------')\n",
    "    print('%d fold ,total train loss mean : %f,total test loss mean : %f ' % (k,np.mean(train_sum_l),np.mean(test_sum_l)))\n",
    "    print('-----------------------------------------------------------------------------')\n",
    "    preds=net(test_features).detach().numpy()\n",
    "    print('pred :\\n', preds[-5:])\n",
    "\n",
    "    return preds"
   ]
  },
  {
   "cell_type": "code",
   "execution_count": null,
   "metadata": {
    "ExecuteTime": {
     "end_time": "2021-12-29T09:57:40.688723Z",
     "start_time": "2021-12-29T09:52:37.955408Z"
    }
   },
   "outputs": [],
   "source": [
    "def get_net():\n",
    "    return nn.Sequential(nn.Linear(x44.shape[1],8),nn.ReLU(),nn.Linear(8,1))\n",
    "net1=get_net()\n",
    "y4_hat=train_kfold_pred(net1,5000,0.0001,5,x44_train,y44_train,64,0,0,x44_test)"
   ]
  },
  {
   "cell_type": "code",
   "execution_count": null,
   "metadata": {
    "collapsed": true
   },
   "outputs": [],
   "source": []
  }
 ],
 "metadata": {
  "kernelspec": {
   "display_name": "Python 3",
   "language": "python",
   "name": "python3"
  },
  "language_info": {
   "codemirror_mode": {
    "name": "ipython",
    "version": 3
   },
   "file_extension": ".py",
   "mimetype": "text/x-python",
   "name": "python",
   "nbconvert_exporter": "python",
   "pygments_lexer": "ipython3",
   "version": "3.6.3"
  }
 },
 "nbformat": 4,
 "nbformat_minor": 2
}
