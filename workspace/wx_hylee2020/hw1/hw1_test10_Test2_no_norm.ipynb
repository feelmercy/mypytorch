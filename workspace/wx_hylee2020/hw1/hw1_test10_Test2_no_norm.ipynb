{
 "cells": [
  {
   "cell_type": "code",
   "execution_count": null,
   "metadata": {
    "ExecuteTime": {
     "end_time": "2022-01-13T03:06:41.852752Z",
     "start_time": "2022-01-13T03:06:40.690686Z"
    }
   },
   "outputs": [],
   "source": [
    "import numpy as np\n",
    "import torch \n",
    "import pandas as pd\n",
    "import torchvision\n",
    "from torch import optim,nn\n",
    "import seaborn as sns\n",
    "from scipy import stats\n",
    "from scipy.stats import norm,skew,kurtosis\n",
    "import matplotlib.pyplot as plt\n",
    "%matplotlib auto"
   ]
  },
  {
   "cell_type": "code",
   "execution_count": null,
   "metadata": {
    "ExecuteTime": {
     "end_time": "2022-01-13T03:06:41.912756Z",
     "start_time": "2022-01-13T03:06:41.863753Z"
    },
    "collapsed": true
   },
   "outputs": [],
   "source": [
    "import numpy as np\n",
    "from collections import Counter\n",
    "\n",
    "def train_data_generation(filename):\n",
    "    train_file = open(filename, encoding= 'iso 8859-15')\n",
    "    train_data_raw = np.loadtxt(train_file, delimiter= ',', dtype = str, skiprows = 1)\n",
    "\n",
    "    n_parameters = 18\n",
    "    n_date = len(Counter(train_data_raw[:, 0]).keys())\n",
    "\n",
    "    train_data_raw[train_data_raw == 'NR'] = 0\n",
    "\n",
    "    train_data_raw = train_data_raw[:, 3:].astype(np.float64)\n",
    "\n",
    "    train_data = train_data_raw[:n_parameters, :]\n",
    "\n",
    "    for i in range(1, n_date):\n",
    "        temp = train_data_raw[(n_parameters * (i - 1)): (n_parameters * i), :]\n",
    "        train_data = np.hstack((train_data, temp))\n",
    "        \n",
    "    orig_data=train_data.copy()\n",
    "    \n",
    "    n_series = 9\n",
    "    target_row = 9\n",
    "\n",
    "    mean_x = np.mean(train_data, axis = 1)\n",
    "    std_x = np.std(train_data, axis = 1)\n",
    "\n",
    "#     for i in range(n_parameters):\n",
    "#         if std_x[i] != 0:\n",
    "#             train_data[i, :] = (train_data[i, :] - mean_x[i])/std_x[i]\n",
    "\n",
    "    final_data = []\n",
    "\n",
    "\n",
    "    for j in range(train_data.shape[1] - n_series):\n",
    "        key = train_data[:, j:j+n_series].reshape(18*9, )\n",
    "        value = train_data[target_row, j+n_series]\n",
    "        final_data.append([key, value])\n",
    "\n",
    "    return orig_data,final_data, [mean_x, std_x]\n"
   ]
  },
  {
   "cell_type": "code",
   "execution_count": 3,
   "metadata": {
    "ExecuteTime": {
     "end_time": "2022-01-13T03:06:44.319893Z",
     "start_time": "2022-01-13T03:06:44.141883Z"
    },
    "collapsed": true
   },
   "outputs": [],
   "source": [
    "train_file = r'F:\\study\\ml\\HonyiLee2020\\hw1\\data\\train.csv'\n",
    "orig_data,train_data, [mean_x, std_x] = train_data_generation(train_file)"
   ]
  },
  {
   "cell_type": "code",
   "execution_count": 4,
   "metadata": {
    "ExecuteTime": {
     "end_time": "2022-01-13T03:06:44.875925Z",
     "start_time": "2022-01-13T03:06:44.860924Z"
    }
   },
   "outputs": [
    {
     "data": {
      "text/plain": [
       "5751"
      ]
     },
     "execution_count": 4,
     "metadata": {},
     "output_type": "execute_result"
    }
   ],
   "source": [
    "len(train_data)"
   ]
  },
  {
   "cell_type": "code",
   "execution_count": 5,
   "metadata": {
    "ExecuteTime": {
     "end_time": "2022-01-13T03:06:45.323951Z",
     "start_time": "2022-01-13T03:06:45.311950Z"
    },
    "collapsed": true
   },
   "outputs": [],
   "source": [
    "x=np.empty((len(train_data),162))\n",
    "y=np.empty((len(train_data),1))"
   ]
  },
  {
   "cell_type": "code",
   "execution_count": 6,
   "metadata": {
    "ExecuteTime": {
     "end_time": "2022-01-13T03:06:45.723974Z",
     "start_time": "2022-01-13T03:06:45.692972Z"
    },
    "collapsed": true
   },
   "outputs": [],
   "source": [
    "for i in range(len(train_data)):\n",
    "    x[i,:]=train_data[i][0].reshape(1,-1)\n",
    "    y[i,:]=train_data[i][1]"
   ]
  },
  {
   "cell_type": "code",
   "execution_count": 7,
   "metadata": {
    "ExecuteTime": {
     "end_time": "2022-01-13T03:06:46.098995Z",
     "start_time": "2022-01-13T03:06:46.086995Z"
    }
   },
   "outputs": [
    {
     "data": {
      "text/plain": [
       "(5751, 162)"
      ]
     },
     "execution_count": 7,
     "metadata": {},
     "output_type": "execute_result"
    }
   ],
   "source": [
    "x.shape"
   ]
  },
  {
   "cell_type": "code",
   "execution_count": 8,
   "metadata": {
    "ExecuteTime": {
     "end_time": "2022-01-13T03:06:46.512019Z",
     "start_time": "2022-01-13T03:06:46.501018Z"
    }
   },
   "outputs": [
    {
     "data": {
      "text/plain": [
       "(5751, 1)"
      ]
     },
     "execution_count": 8,
     "metadata": {},
     "output_type": "execute_result"
    }
   ],
   "source": [
    "y.shape"
   ]
  },
  {
   "cell_type": "code",
   "execution_count": 9,
   "metadata": {
    "ExecuteTime": {
     "end_time": "2022-01-13T03:06:46.944044Z",
     "start_time": "2022-01-13T03:06:46.928043Z"
    }
   },
   "outputs": [
    {
     "data": {
      "text/plain": [
       "array([1.40e+01, 1.40e+01, 1.40e+01, 1.30e+01, 1.20e+01, 1.20e+01,\n",
       "       1.20e+01, 1.20e+01, 1.50e+01, 1.80e+00, 1.80e+00, 1.80e+00,\n",
       "       1.80e+00, 1.80e+00, 1.80e+00, 1.80e+00, 1.80e+00, 1.80e+00,\n",
       "       5.10e-01, 4.10e-01, 3.90e-01, 3.70e-01, 3.50e-01, 3.00e-01,\n",
       "       3.70e-01, 4.70e-01, 7.80e-01, 2.00e-01, 1.50e-01, 1.30e-01,\n",
       "       1.20e-01, 1.10e-01, 6.00e-02, 1.00e-01, 1.30e-01, 2.60e-01,\n",
       "       9.00e-01, 6.00e-01, 5.00e-01, 1.70e+00, 1.80e+00, 1.50e+00,\n",
       "       1.90e+00, 2.20e+00, 6.60e+00, 1.60e+01, 9.20e+00, 8.20e+00,\n",
       "       6.90e+00, 6.80e+00, 3.80e+00, 6.90e+00, 7.80e+00, 1.50e+01,\n",
       "       1.70e+01, 9.80e+00, 8.70e+00, 8.60e+00, 8.50e+00, 5.30e+00,\n",
       "       8.80e+00, 9.90e+00, 2.20e+01, 1.60e+01, 3.00e+01, 2.70e+01,\n",
       "       2.30e+01, 2.40e+01, 2.80e+01, 2.40e+01, 2.20e+01, 2.10e+01,\n",
       "       5.60e+01, 5.00e+01, 4.80e+01, 3.50e+01, 2.50e+01, 1.20e+01,\n",
       "       4.00e+00, 2.00e+00, 1.10e+01, 2.60e+01, 3.90e+01, 3.60e+01,\n",
       "       3.50e+01, 3.10e+01, 2.80e+01, 2.50e+01, 2.00e+01, 1.90e+01,\n",
       "       0.00e+00, 0.00e+00, 0.00e+00, 0.00e+00, 0.00e+00, 0.00e+00,\n",
       "       0.00e+00, 0.00e+00, 0.00e+00, 7.70e+01, 6.80e+01, 6.70e+01,\n",
       "       7.40e+01, 7.20e+01, 7.30e+01, 7.40e+01, 7.30e+01, 6.60e+01,\n",
       "       1.80e+00, 2.00e+00, 1.70e+00, 1.60e+00, 1.90e+00, 1.40e+00,\n",
       "       1.50e+00, 1.60e+00, 5.10e+00, 2.00e+00, 2.00e+00, 2.00e+00,\n",
       "       1.90e+00, 1.90e+00, 1.80e+00, 1.90e+00, 1.90e+00, 2.10e+00,\n",
       "       3.70e+01, 8.00e+01, 5.70e+01, 7.60e+01, 1.10e+02, 1.06e+02,\n",
       "       1.01e+02, 1.04e+02, 1.24e+02, 3.50e+01, 7.90e+01, 2.40e+00,\n",
       "       5.50e+01, 9.40e+01, 1.16e+02, 1.06e+02, 9.40e+01, 2.32e+02,\n",
       "       1.40e+00, 1.80e+00, 1.00e+00, 6.00e-01, 1.70e+00, 2.50e+00,\n",
       "       2.50e+00, 2.00e+00, 6.00e-01, 5.00e-01, 9.00e-01, 6.00e-01,\n",
       "       3.00e-01, 6.00e-01, 1.90e+00, 2.00e+00, 2.00e+00, 5.00e-01])"
      ]
     },
     "execution_count": 9,
     "metadata": {},
     "output_type": "execute_result"
    }
   ],
   "source": [
    "x[0]"
   ]
  },
  {
   "cell_type": "code",
   "execution_count": 10,
   "metadata": {
    "ExecuteTime": {
     "end_time": "2022-01-13T03:06:47.351067Z",
     "start_time": "2022-01-13T03:06:47.341066Z"
    }
   },
   "outputs": [
    {
     "data": {
      "text/plain": [
       "array([30.])"
      ]
     },
     "execution_count": 10,
     "metadata": {},
     "output_type": "execute_result"
    }
   ],
   "source": [
    "y[0]"
   ]
  },
  {
   "cell_type": "code",
   "execution_count": 11,
   "metadata": {
    "ExecuteTime": {
     "end_time": "2022-01-13T03:06:47.754090Z",
     "start_time": "2022-01-13T03:06:47.741089Z"
    }
   },
   "outputs": [
    {
     "data": {
      "text/plain": [
       "(5751, 162)"
      ]
     },
     "execution_count": 11,
     "metadata": {},
     "output_type": "execute_result"
    }
   ],
   "source": [
    "x.shape"
   ]
  },
  {
   "cell_type": "code",
   "execution_count": 12,
   "metadata": {
    "ExecuteTime": {
     "end_time": "2022-01-13T03:06:48.186115Z",
     "start_time": "2022-01-13T03:06:48.181114Z"
    },
    "collapsed": true
   },
   "outputs": [],
   "source": [
    "x1=pd.DataFrame(x)"
   ]
  },
  {
   "cell_type": "code",
   "execution_count": 13,
   "metadata": {
    "ExecuteTime": {
     "end_time": "2022-01-13T03:06:54.382469Z",
     "start_time": "2022-01-13T03:06:48.837152Z"
    }
   },
   "outputs": [
    {
     "data": {
      "text/html": [
       "<div>\n",
       "<style>\n",
       "    .dataframe thead tr:only-child th {\n",
       "        text-align: right;\n",
       "    }\n",
       "\n",
       "    .dataframe thead th {\n",
       "        text-align: left;\n",
       "    }\n",
       "\n",
       "    .dataframe tbody tr th {\n",
       "        vertical-align: top;\n",
       "    }\n",
       "</style>\n",
       "<table border=\"1\" class=\"dataframe\">\n",
       "  <thead>\n",
       "    <tr style=\"text-align: right;\">\n",
       "      <th></th>\n",
       "      <th>0</th>\n",
       "      <th>1</th>\n",
       "      <th>2</th>\n",
       "      <th>3</th>\n",
       "      <th>4</th>\n",
       "      <th>5</th>\n",
       "      <th>6</th>\n",
       "      <th>7</th>\n",
       "      <th>8</th>\n",
       "      <th>9</th>\n",
       "      <th>...</th>\n",
       "      <th>5741</th>\n",
       "      <th>5742</th>\n",
       "      <th>5743</th>\n",
       "      <th>5744</th>\n",
       "      <th>5745</th>\n",
       "      <th>5746</th>\n",
       "      <th>5747</th>\n",
       "      <th>5748</th>\n",
       "      <th>5749</th>\n",
       "      <th>5750</th>\n",
       "    </tr>\n",
       "  </thead>\n",
       "  <tbody>\n",
       "    <tr>\n",
       "      <th>count</th>\n",
       "      <td>162.000000</td>\n",
       "      <td>162.000000</td>\n",
       "      <td>162.000000</td>\n",
       "      <td>162.000000</td>\n",
       "      <td>162.000000</td>\n",
       "      <td>162.000000</td>\n",
       "      <td>162.000000</td>\n",
       "      <td>162.000000</td>\n",
       "      <td>162.000000</td>\n",
       "      <td>162.000000</td>\n",
       "      <td>...</td>\n",
       "      <td>162.000000</td>\n",
       "      <td>162.000000</td>\n",
       "      <td>162.000000</td>\n",
       "      <td>162.000000</td>\n",
       "      <td>162.000000</td>\n",
       "      <td>162.000000</td>\n",
       "      <td>162.000000</td>\n",
       "      <td>162.000000</td>\n",
       "      <td>162.000000</td>\n",
       "      <td>162.000000</td>\n",
       "    </tr>\n",
       "    <tr>\n",
       "      <th>mean</th>\n",
       "      <td>20.772901</td>\n",
       "      <td>21.665864</td>\n",
       "      <td>24.067284</td>\n",
       "      <td>27.374568</td>\n",
       "      <td>30.456914</td>\n",
       "      <td>33.458457</td>\n",
       "      <td>36.463457</td>\n",
       "      <td>39.582778</td>\n",
       "      <td>42.942099</td>\n",
       "      <td>43.143827</td>\n",
       "      <td>...</td>\n",
       "      <td>21.074938</td>\n",
       "      <td>21.339753</td>\n",
       "      <td>21.037840</td>\n",
       "      <td>20.971111</td>\n",
       "      <td>20.359136</td>\n",
       "      <td>20.204198</td>\n",
       "      <td>19.997716</td>\n",
       "      <td>20.378642</td>\n",
       "      <td>20.380370</td>\n",
       "      <td>20.110926</td>\n",
       "    </tr>\n",
       "    <tr>\n",
       "      <th>std</th>\n",
       "      <td>34.045272</td>\n",
       "      <td>35.319302</td>\n",
       "      <td>43.765793</td>\n",
       "      <td>51.725311</td>\n",
       "      <td>59.289896</td>\n",
       "      <td>66.394884</td>\n",
       "      <td>72.542403</td>\n",
       "      <td>77.930304</td>\n",
       "      <td>82.624760</td>\n",
       "      <td>81.482061</td>\n",
       "      <td>...</td>\n",
       "      <td>27.024134</td>\n",
       "      <td>27.530209</td>\n",
       "      <td>27.053115</td>\n",
       "      <td>27.453030</td>\n",
       "      <td>27.030013</td>\n",
       "      <td>27.142983</td>\n",
       "      <td>27.282312</td>\n",
       "      <td>28.336946</td>\n",
       "      <td>29.104168</td>\n",
       "      <td>29.150311</td>\n",
       "    </tr>\n",
       "    <tr>\n",
       "      <th>min</th>\n",
       "      <td>0.000000</td>\n",
       "      <td>0.000000</td>\n",
       "      <td>0.000000</td>\n",
       "      <td>0.000000</td>\n",
       "      <td>0.000000</td>\n",
       "      <td>0.000000</td>\n",
       "      <td>0.000000</td>\n",
       "      <td>0.000000</td>\n",
       "      <td>0.000000</td>\n",
       "      <td>0.000000</td>\n",
       "      <td>...</td>\n",
       "      <td>0.000000</td>\n",
       "      <td>0.000000</td>\n",
       "      <td>0.000000</td>\n",
       "      <td>0.000000</td>\n",
       "      <td>0.000000</td>\n",
       "      <td>0.000000</td>\n",
       "      <td>0.000000</td>\n",
       "      <td>0.000000</td>\n",
       "      <td>0.000000</td>\n",
       "      <td>0.000000</td>\n",
       "    </tr>\n",
       "    <tr>\n",
       "      <th>25%</th>\n",
       "      <td>1.425000</td>\n",
       "      <td>1.500000</td>\n",
       "      <td>1.525000</td>\n",
       "      <td>1.600000</td>\n",
       "      <td>1.800000</td>\n",
       "      <td>1.800000</td>\n",
       "      <td>1.800000</td>\n",
       "      <td>1.800000</td>\n",
       "      <td>1.800000</td>\n",
       "      <td>1.800000</td>\n",
       "      <td>...</td>\n",
       "      <td>1.600000</td>\n",
       "      <td>1.700000</td>\n",
       "      <td>1.625000</td>\n",
       "      <td>1.700000</td>\n",
       "      <td>1.625000</td>\n",
       "      <td>1.700000</td>\n",
       "      <td>1.600000</td>\n",
       "      <td>1.625000</td>\n",
       "      <td>1.600000</td>\n",
       "      <td>1.600000</td>\n",
       "    </tr>\n",
       "    <tr>\n",
       "      <th>50%</th>\n",
       "      <td>3.150000</td>\n",
       "      <td>4.550000</td>\n",
       "      <td>4.800000</td>\n",
       "      <td>5.200000</td>\n",
       "      <td>5.200000</td>\n",
       "      <td>5.200000</td>\n",
       "      <td>6.750000</td>\n",
       "      <td>7.850000</td>\n",
       "      <td>11.000000</td>\n",
       "      <td>11.000000</td>\n",
       "      <td>...</td>\n",
       "      <td>7.000000</td>\n",
       "      <td>6.850000</td>\n",
       "      <td>6.850000</td>\n",
       "      <td>6.450000</td>\n",
       "      <td>5.950000</td>\n",
       "      <td>5.400000</td>\n",
       "      <td>5.100000</td>\n",
       "      <td>4.550000</td>\n",
       "      <td>3.800000</td>\n",
       "      <td>3.800000</td>\n",
       "    </tr>\n",
       "    <tr>\n",
       "      <th>75%</th>\n",
       "      <td>24.750000</td>\n",
       "      <td>26.500000</td>\n",
       "      <td>26.500000</td>\n",
       "      <td>28.000000</td>\n",
       "      <td>28.750000</td>\n",
       "      <td>29.750000</td>\n",
       "      <td>36.750000</td>\n",
       "      <td>39.500000</td>\n",
       "      <td>42.000000</td>\n",
       "      <td>44.000000</td>\n",
       "      <td>...</td>\n",
       "      <td>32.500000</td>\n",
       "      <td>32.500000</td>\n",
       "      <td>32.500000</td>\n",
       "      <td>32.500000</td>\n",
       "      <td>28.000000</td>\n",
       "      <td>27.750000</td>\n",
       "      <td>26.750000</td>\n",
       "      <td>25.750000</td>\n",
       "      <td>25.000000</td>\n",
       "      <td>24.750000</td>\n",
       "    </tr>\n",
       "    <tr>\n",
       "      <th>max</th>\n",
       "      <td>232.000000</td>\n",
       "      <td>232.000000</td>\n",
       "      <td>283.000000</td>\n",
       "      <td>283.000000</td>\n",
       "      <td>297.000000</td>\n",
       "      <td>316.000000</td>\n",
       "      <td>316.000000</td>\n",
       "      <td>316.000000</td>\n",
       "      <td>316.000000</td>\n",
       "      <td>316.000000</td>\n",
       "      <td>...</td>\n",
       "      <td>111.000000</td>\n",
       "      <td>111.000000</td>\n",
       "      <td>100.000000</td>\n",
       "      <td>100.000000</td>\n",
       "      <td>100.000000</td>\n",
       "      <td>100.000000</td>\n",
       "      <td>100.000000</td>\n",
       "      <td>106.000000</td>\n",
       "      <td>106.000000</td>\n",
       "      <td>106.000000</td>\n",
       "    </tr>\n",
       "  </tbody>\n",
       "</table>\n",
       "<p>8 rows × 5751 columns</p>\n",
       "</div>"
      ],
      "text/plain": [
       "             0           1           2           3           4           5     \\\n",
       "count  162.000000  162.000000  162.000000  162.000000  162.000000  162.000000   \n",
       "mean    20.772901   21.665864   24.067284   27.374568   30.456914   33.458457   \n",
       "std     34.045272   35.319302   43.765793   51.725311   59.289896   66.394884   \n",
       "min      0.000000    0.000000    0.000000    0.000000    0.000000    0.000000   \n",
       "25%      1.425000    1.500000    1.525000    1.600000    1.800000    1.800000   \n",
       "50%      3.150000    4.550000    4.800000    5.200000    5.200000    5.200000   \n",
       "75%     24.750000   26.500000   26.500000   28.000000   28.750000   29.750000   \n",
       "max    232.000000  232.000000  283.000000  283.000000  297.000000  316.000000   \n",
       "\n",
       "             6           7           8           9        ...            5741  \\\n",
       "count  162.000000  162.000000  162.000000  162.000000     ...      162.000000   \n",
       "mean    36.463457   39.582778   42.942099   43.143827     ...       21.074938   \n",
       "std     72.542403   77.930304   82.624760   81.482061     ...       27.024134   \n",
       "min      0.000000    0.000000    0.000000    0.000000     ...        0.000000   \n",
       "25%      1.800000    1.800000    1.800000    1.800000     ...        1.600000   \n",
       "50%      6.750000    7.850000   11.000000   11.000000     ...        7.000000   \n",
       "75%     36.750000   39.500000   42.000000   44.000000     ...       32.500000   \n",
       "max    316.000000  316.000000  316.000000  316.000000     ...      111.000000   \n",
       "\n",
       "             5742        5743        5744        5745        5746        5747  \\\n",
       "count  162.000000  162.000000  162.000000  162.000000  162.000000  162.000000   \n",
       "mean    21.339753   21.037840   20.971111   20.359136   20.204198   19.997716   \n",
       "std     27.530209   27.053115   27.453030   27.030013   27.142983   27.282312   \n",
       "min      0.000000    0.000000    0.000000    0.000000    0.000000    0.000000   \n",
       "25%      1.700000    1.625000    1.700000    1.625000    1.700000    1.600000   \n",
       "50%      6.850000    6.850000    6.450000    5.950000    5.400000    5.100000   \n",
       "75%     32.500000   32.500000   32.500000   28.000000   27.750000   26.750000   \n",
       "max    111.000000  100.000000  100.000000  100.000000  100.000000  100.000000   \n",
       "\n",
       "             5748        5749        5750  \n",
       "count  162.000000  162.000000  162.000000  \n",
       "mean    20.378642   20.380370   20.110926  \n",
       "std     28.336946   29.104168   29.150311  \n",
       "min      0.000000    0.000000    0.000000  \n",
       "25%      1.625000    1.600000    1.600000  \n",
       "50%      4.550000    3.800000    3.800000  \n",
       "75%     25.750000   25.000000   24.750000  \n",
       "max    106.000000  106.000000  106.000000  \n",
       "\n",
       "[8 rows x 5751 columns]"
      ]
     },
     "execution_count": 13,
     "metadata": {},
     "output_type": "execute_result"
    }
   ],
   "source": [
    "x1.T.describe()"
   ]
  },
  {
   "cell_type": "code",
   "execution_count": 14,
   "metadata": {
    "ExecuteTime": {
     "end_time": "2022-01-13T03:06:54.388469Z",
     "start_time": "2022-01-13T03:06:54.384469Z"
    }
   },
   "outputs": [
    {
     "data": {
      "text/plain": [
       "(18, 5760)"
      ]
     },
     "execution_count": 14,
     "metadata": {},
     "output_type": "execute_result"
    }
   ],
   "source": [
    "orig_data.shape"
   ]
  },
  {
   "cell_type": "code",
   "execution_count": 15,
   "metadata": {
    "ExecuteTime": {
     "end_time": "2022-01-13T03:06:54.397470Z",
     "start_time": "2022-01-13T03:06:54.390469Z"
    }
   },
   "outputs": [
    {
     "data": {
      "text/plain": [
       "array([[14.  , 14.  , 14.  , ..., 14.  , 14.  , 15.  ],\n",
       "       [ 1.8 ,  1.8 ,  1.8 , ...,  1.7 ,  1.7 ,  1.7 ],\n",
       "       [ 0.51,  0.41,  0.39, ...,  0.26,  0.2 ,  0.19],\n",
       "       ...,\n",
       "       [16.  , 30.  , 27.  , ..., 22.  , 32.  , 32.  ],\n",
       "       [56.  , 50.  , 48.  , ..., 36.  , 24.  , 29.  ],\n",
       "       [26.  , 39.  , 36.  , ...,  0.  ,  7.  ,  7.  ]])"
      ]
     },
     "execution_count": 15,
     "metadata": {},
     "output_type": "execute_result"
    }
   ],
   "source": [
    "orig_data[:10,:]"
   ]
  },
  {
   "cell_type": "code",
   "execution_count": 16,
   "metadata": {
    "ExecuteTime": {
     "end_time": "2022-01-13T03:06:54.405470Z",
     "start_time": "2022-01-13T03:06:54.399470Z"
    }
   },
   "outputs": [
    {
     "data": {
      "text/plain": [
       "[array([1.40e+01, 1.40e+01, 1.40e+01, 1.30e+01, 1.20e+01, 1.20e+01,\n",
       "        1.20e+01, 1.20e+01, 1.50e+01, 1.80e+00, 1.80e+00, 1.80e+00,\n",
       "        1.80e+00, 1.80e+00, 1.80e+00, 1.80e+00, 1.80e+00, 1.80e+00,\n",
       "        5.10e-01, 4.10e-01, 3.90e-01, 3.70e-01, 3.50e-01, 3.00e-01,\n",
       "        3.70e-01, 4.70e-01, 7.80e-01, 2.00e-01, 1.50e-01, 1.30e-01,\n",
       "        1.20e-01, 1.10e-01, 6.00e-02, 1.00e-01, 1.30e-01, 2.60e-01,\n",
       "        9.00e-01, 6.00e-01, 5.00e-01, 1.70e+00, 1.80e+00, 1.50e+00,\n",
       "        1.90e+00, 2.20e+00, 6.60e+00, 1.60e+01, 9.20e+00, 8.20e+00,\n",
       "        6.90e+00, 6.80e+00, 3.80e+00, 6.90e+00, 7.80e+00, 1.50e+01,\n",
       "        1.70e+01, 9.80e+00, 8.70e+00, 8.60e+00, 8.50e+00, 5.30e+00,\n",
       "        8.80e+00, 9.90e+00, 2.20e+01, 1.60e+01, 3.00e+01, 2.70e+01,\n",
       "        2.30e+01, 2.40e+01, 2.80e+01, 2.40e+01, 2.20e+01, 2.10e+01,\n",
       "        5.60e+01, 5.00e+01, 4.80e+01, 3.50e+01, 2.50e+01, 1.20e+01,\n",
       "        4.00e+00, 2.00e+00, 1.10e+01, 2.60e+01, 3.90e+01, 3.60e+01,\n",
       "        3.50e+01, 3.10e+01, 2.80e+01, 2.50e+01, 2.00e+01, 1.90e+01,\n",
       "        0.00e+00, 0.00e+00, 0.00e+00, 0.00e+00, 0.00e+00, 0.00e+00,\n",
       "        0.00e+00, 0.00e+00, 0.00e+00, 7.70e+01, 6.80e+01, 6.70e+01,\n",
       "        7.40e+01, 7.20e+01, 7.30e+01, 7.40e+01, 7.30e+01, 6.60e+01,\n",
       "        1.80e+00, 2.00e+00, 1.70e+00, 1.60e+00, 1.90e+00, 1.40e+00,\n",
       "        1.50e+00, 1.60e+00, 5.10e+00, 2.00e+00, 2.00e+00, 2.00e+00,\n",
       "        1.90e+00, 1.90e+00, 1.80e+00, 1.90e+00, 1.90e+00, 2.10e+00,\n",
       "        3.70e+01, 8.00e+01, 5.70e+01, 7.60e+01, 1.10e+02, 1.06e+02,\n",
       "        1.01e+02, 1.04e+02, 1.24e+02, 3.50e+01, 7.90e+01, 2.40e+00,\n",
       "        5.50e+01, 9.40e+01, 1.16e+02, 1.06e+02, 9.40e+01, 2.32e+02,\n",
       "        1.40e+00, 1.80e+00, 1.00e+00, 6.00e-01, 1.70e+00, 2.50e+00,\n",
       "        2.50e+00, 2.00e+00, 6.00e-01, 5.00e-01, 9.00e-01, 6.00e-01,\n",
       "        3.00e-01, 6.00e-01, 1.90e+00, 2.00e+00, 2.00e+00, 5.00e-01]), 30.0]"
      ]
     },
     "execution_count": 16,
     "metadata": {},
     "output_type": "execute_result"
    }
   ],
   "source": [
    "train_data[0]"
   ]
  },
  {
   "cell_type": "code",
   "execution_count": 17,
   "metadata": {
    "ExecuteTime": {
     "end_time": "2022-01-13T03:08:21.306441Z",
     "start_time": "2022-01-13T03:06:54.409471Z"
    }
   },
   "outputs": [
    {
     "name": "stderr",
     "output_type": "stream",
     "text": [
      "D:\\ProgramData\\Anaconda3\\lib\\site-packages\\ipykernel_launcher.py:31: RuntimeWarning: overflow encountered in square\n",
      "D:\\ProgramData\\Anaconda3\\lib\\site-packages\\ipykernel_launcher.py:25: RuntimeWarning: overflow encountered in multiply\n",
      "D:\\ProgramData\\Anaconda3\\lib\\site-packages\\ipykernel_launcher.py:25: RuntimeWarning: invalid value encountered in multiply\n",
      "D:\\ProgramData\\Anaconda3\\lib\\site-packages\\ipykernel_launcher.py:28: RuntimeWarning: invalid value encountered in subtract\n"
     ]
    },
    {
     "name": "stdout",
     "output_type": "stream",
     "text": [
      "[nan]\n"
     ]
    }
   ],
   "source": [
    "w_shape = (1, 18*9)\n",
    "\n",
    "#get training data set and validation set, randomly chosen.\n",
    "np.random.shuffle(train_data)\n",
    "test_data = train_data[:500]\n",
    "train_data = train_data[500:]\n",
    "\n",
    "#set initial values\n",
    "w = np.zeros(w_shape, dtype = float)\n",
    "b = 0\n",
    "eta = 0.0006 #learning rate\n",
    "\n",
    "n_iter = 1000 #iteration time\n",
    "train_loss = 0\n",
    "test_loss = 0\n",
    "result = []\n",
    "\n",
    "for i in range(n_iter):\n",
    "    train_loss = 0\n",
    "    for j in range(len(train_data)):\n",
    "        x = train_data[j][0]\n",
    "        y = np.dot(w, x) + b\n",
    "        target = train_data[j][1]\n",
    "\n",
    "        w_gradient = 2 * (y - target) * x.T\n",
    "        b_gradient = 2 * (y - target)\n",
    "\n",
    "        w = w - eta * w_gradient\n",
    "        b = b - eta * b_gradient\n",
    "\n",
    "        train_loss += (target - y) ** 2\n",
    "\n",
    "    result.append(train_loss)\n",
    "np.savetxt('train_loss.txt', result)\n",
    "\n",
    "for k in range(len(test_data)):\n",
    "\n",
    "    x = test_data[k][0]\n",
    "    y = np.dot(w, x) + b\n",
    "    target = test_data[k][1]\n",
    "\n",
    "    test_loss += (target - y) ** 2\n",
    "\n",
    "print(test_loss/5)\n",
    "\n",
    "x_train = []\n",
    "y_train = []\n",
    "x_test = []\n",
    "y_test = []\n",
    "\n",
    "for i in train_data:\n",
    "    x_train.append(i[0])\n",
    "    y_train.append(i[1])\n",
    "\n",
    "for j in test_data:\n",
    "    x_test.append(j[0])\n",
    "    y_test.append(j[1])"
   ]
  },
  {
   "cell_type": "code",
   "execution_count": 18,
   "metadata": {
    "ExecuteTime": {
     "end_time": "2022-01-13T03:08:21.315441Z",
     "start_time": "2022-01-13T03:08:21.308441Z"
    }
   },
   "outputs": [
    {
     "data": {
      "text/plain": [
       "5251"
      ]
     },
     "execution_count": 18,
     "metadata": {},
     "output_type": "execute_result"
    }
   ],
   "source": [
    "len(train_data)"
   ]
  },
  {
   "cell_type": "code",
   "execution_count": 19,
   "metadata": {
    "ExecuteTime": {
     "end_time": "2022-01-13T03:08:21.328442Z",
     "start_time": "2022-01-13T03:08:21.321442Z"
    },
    "collapsed": true
   },
   "outputs": [],
   "source": [
    "x=np.empty((5251,162))\n",
    "y=np.empty((5251,1))"
   ]
  },
  {
   "cell_type": "code",
   "execution_count": 20,
   "metadata": {
    "ExecuteTime": {
     "end_time": "2022-01-13T03:08:21.355444Z",
     "start_time": "2022-01-13T03:08:21.331442Z"
    },
    "collapsed": true
   },
   "outputs": [],
   "source": [
    "for i in range(5251):\n",
    "    x[i,:]=train_data[i][0].reshape(1,-1)\n",
    "    y[i,:]=train_data[i][1]"
   ]
  },
  {
   "cell_type": "code",
   "execution_count": 21,
   "metadata": {
    "ExecuteTime": {
     "end_time": "2022-01-13T03:08:21.363444Z",
     "start_time": "2022-01-13T03:08:21.358444Z"
    },
    "collapsed": true
   },
   "outputs": [],
   "source": [
    "x_t=np.empty((500,162))\n",
    "y_t=np.empty((500,1))"
   ]
  },
  {
   "cell_type": "code",
   "execution_count": 22,
   "metadata": {
    "ExecuteTime": {
     "end_time": "2022-01-13T03:08:21.375445Z",
     "start_time": "2022-01-13T03:08:21.366444Z"
    },
    "collapsed": true
   },
   "outputs": [],
   "source": [
    "for i in range(500):\n",
    "    x_t[i,:]=test_data[i][0].reshape(1,-1)\n",
    "    y_t[i,:]=test_data[i][1]"
   ]
  },
  {
   "cell_type": "code",
   "execution_count": 23,
   "metadata": {
    "ExecuteTime": {
     "end_time": "2022-01-13T03:10:21.941341Z",
     "start_time": "2022-01-13T03:10:21.790332Z"
    }
   },
   "outputs": [
    {
     "name": "stdout",
     "output_type": "stream",
     "text": [
      "36.24358097096148\n"
     ]
    }
   ],
   "source": [
    "from sklearn import linear_model\n",
    "from sklearn.metrics import mean_squared_error\n",
    "\n",
    "LR = linear_model.LinearRegression()\n",
    "LR.fit(x, y)\n",
    "y_pred = LR.predict(x_t)\n",
    "print(mean_squared_error(y_pred, y_t))"
   ]
  },
  {
   "cell_type": "code",
   "execution_count": null,
   "metadata": {
    "collapsed": true
   },
   "outputs": [],
   "source": []
  }
 ],
 "metadata": {
  "kernelspec": {
   "display_name": "Python 3",
   "language": "python",
   "name": "python3"
  },
  "language_info": {
   "codemirror_mode": {
    "name": "ipython",
    "version": 3
   },
   "file_extension": ".py",
   "mimetype": "text/x-python",
   "name": "python",
   "nbconvert_exporter": "python",
   "pygments_lexer": "ipython3",
   "version": "3.6.3"
  }
 },
 "nbformat": 4,
 "nbformat_minor": 2
}
