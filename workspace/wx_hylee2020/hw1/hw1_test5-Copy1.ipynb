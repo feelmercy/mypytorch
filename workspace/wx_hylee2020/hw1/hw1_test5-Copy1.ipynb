{
 "cells": [
  {
   "cell_type": "code",
   "execution_count": 1,
   "metadata": {
    "ExecuteTime": {
     "end_time": "2022-01-13T07:53:33.207186Z",
     "start_time": "2022-01-13T07:53:32.511146Z"
    },
    "collapsed": true
   },
   "outputs": [],
   "source": [
    "import numpy as np\n",
    "import torch \n",
    "import pandas as pd\n",
    "import torchvision\n",
    "from torch import optim,nn"
   ]
  },
  {
   "cell_type": "code",
   "execution_count": 2,
   "metadata": {
    "ExecuteTime": {
     "end_time": "2022-01-13T07:53:34.184241Z",
     "start_time": "2022-01-13T07:53:34.124238Z"
    },
    "collapsed": true
   },
   "outputs": [],
   "source": [
    "train_data=pd.read_csv(r'F:\\study\\ml\\HonyiLee2020\\hw1\\data\\train.csv',encoding='big5')\n",
    "test_data=pd.read_csv(r'F:\\study\\ml\\HonyiLee2020\\hw1\\data\\test.csv',encoding='big5',header=None)"
   ]
  },
  {
   "cell_type": "code",
   "execution_count": 3,
   "metadata": {
    "ExecuteTime": {
     "end_time": "2022-01-13T07:54:37.650871Z",
     "start_time": "2022-01-13T07:54:37.620870Z"
    }
   },
   "outputs": [
    {
     "data": {
      "text/plain": [
       "(4320, 27)"
      ]
     },
     "execution_count": 3,
     "metadata": {},
     "output_type": "execute_result"
    }
   ],
   "source": [
    "train_data.shape"
   ]
  },
  {
   "cell_type": "code",
   "execution_count": 4,
   "metadata": {
    "ExecuteTime": {
     "end_time": "2022-01-13T07:54:38.172901Z",
     "start_time": "2022-01-13T07:54:38.162901Z"
    }
   },
   "outputs": [
    {
     "data": {
      "text/plain": [
       "(4320, 11)"
      ]
     },
     "execution_count": 4,
     "metadata": {},
     "output_type": "execute_result"
    }
   ],
   "source": [
    "test_data.shape"
   ]
  },
  {
   "cell_type": "code",
   "execution_count": 5,
   "metadata": {
    "ExecuteTime": {
     "end_time": "2022-01-13T07:54:39.789994Z",
     "start_time": "2022-01-13T07:54:39.728990Z"
    }
   },
   "outputs": [
    {
     "data": {
      "text/html": [
       "<div>\n",
       "<style>\n",
       "    .dataframe thead tr:only-child th {\n",
       "        text-align: right;\n",
       "    }\n",
       "\n",
       "    .dataframe thead th {\n",
       "        text-align: left;\n",
       "    }\n",
       "\n",
       "    .dataframe tbody tr th {\n",
       "        vertical-align: top;\n",
       "    }\n",
       "</style>\n",
       "<table border=\"1\" class=\"dataframe\">\n",
       "  <thead>\n",
       "    <tr style=\"text-align: right;\">\n",
       "      <th></th>\n",
       "      <th>日期</th>\n",
       "      <th>測站</th>\n",
       "      <th>測項</th>\n",
       "      <th>0</th>\n",
       "      <th>1</th>\n",
       "      <th>2</th>\n",
       "      <th>3</th>\n",
       "      <th>4</th>\n",
       "      <th>5</th>\n",
       "      <th>6</th>\n",
       "      <th>...</th>\n",
       "      <th>14</th>\n",
       "      <th>15</th>\n",
       "      <th>16</th>\n",
       "      <th>17</th>\n",
       "      <th>18</th>\n",
       "      <th>19</th>\n",
       "      <th>20</th>\n",
       "      <th>21</th>\n",
       "      <th>22</th>\n",
       "      <th>23</th>\n",
       "    </tr>\n",
       "  </thead>\n",
       "  <tbody>\n",
       "    <tr>\n",
       "      <th>0</th>\n",
       "      <td>2014/1/1</td>\n",
       "      <td>豐原</td>\n",
       "      <td>AMB_TEMP</td>\n",
       "      <td>14</td>\n",
       "      <td>14</td>\n",
       "      <td>14</td>\n",
       "      <td>13</td>\n",
       "      <td>12</td>\n",
       "      <td>12</td>\n",
       "      <td>12</td>\n",
       "      <td>...</td>\n",
       "      <td>22</td>\n",
       "      <td>22</td>\n",
       "      <td>21</td>\n",
       "      <td>19</td>\n",
       "      <td>17</td>\n",
       "      <td>16</td>\n",
       "      <td>15</td>\n",
       "      <td>15</td>\n",
       "      <td>15</td>\n",
       "      <td>15</td>\n",
       "    </tr>\n",
       "    <tr>\n",
       "      <th>1</th>\n",
       "      <td>2014/1/1</td>\n",
       "      <td>豐原</td>\n",
       "      <td>CH4</td>\n",
       "      <td>1.8</td>\n",
       "      <td>1.8</td>\n",
       "      <td>1.8</td>\n",
       "      <td>1.8</td>\n",
       "      <td>1.8</td>\n",
       "      <td>1.8</td>\n",
       "      <td>1.8</td>\n",
       "      <td>...</td>\n",
       "      <td>1.8</td>\n",
       "      <td>1.8</td>\n",
       "      <td>1.8</td>\n",
       "      <td>1.8</td>\n",
       "      <td>1.8</td>\n",
       "      <td>1.8</td>\n",
       "      <td>1.8</td>\n",
       "      <td>1.8</td>\n",
       "      <td>1.8</td>\n",
       "      <td>1.8</td>\n",
       "    </tr>\n",
       "    <tr>\n",
       "      <th>2</th>\n",
       "      <td>2014/1/1</td>\n",
       "      <td>豐原</td>\n",
       "      <td>CO</td>\n",
       "      <td>0.51</td>\n",
       "      <td>0.41</td>\n",
       "      <td>0.39</td>\n",
       "      <td>0.37</td>\n",
       "      <td>0.35</td>\n",
       "      <td>0.3</td>\n",
       "      <td>0.37</td>\n",
       "      <td>...</td>\n",
       "      <td>0.37</td>\n",
       "      <td>0.37</td>\n",
       "      <td>0.47</td>\n",
       "      <td>0.69</td>\n",
       "      <td>0.56</td>\n",
       "      <td>0.45</td>\n",
       "      <td>0.38</td>\n",
       "      <td>0.35</td>\n",
       "      <td>0.36</td>\n",
       "      <td>0.32</td>\n",
       "    </tr>\n",
       "    <tr>\n",
       "      <th>3</th>\n",
       "      <td>2014/1/1</td>\n",
       "      <td>豐原</td>\n",
       "      <td>NMHC</td>\n",
       "      <td>0.2</td>\n",
       "      <td>0.15</td>\n",
       "      <td>0.13</td>\n",
       "      <td>0.12</td>\n",
       "      <td>0.11</td>\n",
       "      <td>0.06</td>\n",
       "      <td>0.1</td>\n",
       "      <td>...</td>\n",
       "      <td>0.1</td>\n",
       "      <td>0.13</td>\n",
       "      <td>0.14</td>\n",
       "      <td>0.23</td>\n",
       "      <td>0.18</td>\n",
       "      <td>0.12</td>\n",
       "      <td>0.1</td>\n",
       "      <td>0.09</td>\n",
       "      <td>0.1</td>\n",
       "      <td>0.08</td>\n",
       "    </tr>\n",
       "    <tr>\n",
       "      <th>4</th>\n",
       "      <td>2014/1/1</td>\n",
       "      <td>豐原</td>\n",
       "      <td>NO</td>\n",
       "      <td>0.9</td>\n",
       "      <td>0.6</td>\n",
       "      <td>0.5</td>\n",
       "      <td>1.7</td>\n",
       "      <td>1.8</td>\n",
       "      <td>1.5</td>\n",
       "      <td>1.9</td>\n",
       "      <td>...</td>\n",
       "      <td>2.5</td>\n",
       "      <td>2.2</td>\n",
       "      <td>2.5</td>\n",
       "      <td>2.3</td>\n",
       "      <td>2.1</td>\n",
       "      <td>1.9</td>\n",
       "      <td>1.5</td>\n",
       "      <td>1.6</td>\n",
       "      <td>1.8</td>\n",
       "      <td>1.5</td>\n",
       "    </tr>\n",
       "  </tbody>\n",
       "</table>\n",
       "<p>5 rows × 27 columns</p>\n",
       "</div>"
      ],
      "text/plain": [
       "         日期  測站        測項     0     1     2     3     4     5     6  ...   \\\n",
       "0  2014/1/1  豐原  AMB_TEMP    14    14    14    13    12    12    12  ...    \n",
       "1  2014/1/1  豐原       CH4   1.8   1.8   1.8   1.8   1.8   1.8   1.8  ...    \n",
       "2  2014/1/1  豐原        CO  0.51  0.41  0.39  0.37  0.35   0.3  0.37  ...    \n",
       "3  2014/1/1  豐原      NMHC   0.2  0.15  0.13  0.12  0.11  0.06   0.1  ...    \n",
       "4  2014/1/1  豐原        NO   0.9   0.6   0.5   1.7   1.8   1.5   1.9  ...    \n",
       "\n",
       "     14    15    16    17    18    19    20    21    22    23  \n",
       "0    22    22    21    19    17    16    15    15    15    15  \n",
       "1   1.8   1.8   1.8   1.8   1.8   1.8   1.8   1.8   1.8   1.8  \n",
       "2  0.37  0.37  0.47  0.69  0.56  0.45  0.38  0.35  0.36  0.32  \n",
       "3   0.1  0.13  0.14  0.23  0.18  0.12   0.1  0.09   0.1  0.08  \n",
       "4   2.5   2.2   2.5   2.3   2.1   1.9   1.5   1.6   1.8   1.5  \n",
       "\n",
       "[5 rows x 27 columns]"
      ]
     },
     "execution_count": 5,
     "metadata": {},
     "output_type": "execute_result"
    }
   ],
   "source": [
    "train_data.head()"
   ]
  },
  {
   "cell_type": "code",
   "execution_count": 6,
   "metadata": {
    "ExecuteTime": {
     "end_time": "2022-01-13T07:54:41.769107Z",
     "start_time": "2022-01-13T07:54:41.727105Z"
    }
   },
   "outputs": [
    {
     "data": {
      "text/html": [
       "<div>\n",
       "<style>\n",
       "    .dataframe thead tr:only-child th {\n",
       "        text-align: right;\n",
       "    }\n",
       "\n",
       "    .dataframe thead th {\n",
       "        text-align: left;\n",
       "    }\n",
       "\n",
       "    .dataframe tbody tr th {\n",
       "        vertical-align: top;\n",
       "    }\n",
       "</style>\n",
       "<table border=\"1\" class=\"dataframe\">\n",
       "  <thead>\n",
       "    <tr style=\"text-align: right;\">\n",
       "      <th></th>\n",
       "      <th>0</th>\n",
       "      <th>1</th>\n",
       "      <th>2</th>\n",
       "      <th>3</th>\n",
       "      <th>4</th>\n",
       "      <th>5</th>\n",
       "      <th>6</th>\n",
       "      <th>7</th>\n",
       "      <th>8</th>\n",
       "      <th>9</th>\n",
       "      <th>10</th>\n",
       "    </tr>\n",
       "  </thead>\n",
       "  <tbody>\n",
       "    <tr>\n",
       "      <th>0</th>\n",
       "      <td>id_0</td>\n",
       "      <td>AMB_TEMP</td>\n",
       "      <td>21</td>\n",
       "      <td>21</td>\n",
       "      <td>20</td>\n",
       "      <td>20</td>\n",
       "      <td>19</td>\n",
       "      <td>19</td>\n",
       "      <td>19</td>\n",
       "      <td>18</td>\n",
       "      <td>17</td>\n",
       "    </tr>\n",
       "    <tr>\n",
       "      <th>1</th>\n",
       "      <td>id_0</td>\n",
       "      <td>CH4</td>\n",
       "      <td>1.7</td>\n",
       "      <td>1.7</td>\n",
       "      <td>1.7</td>\n",
       "      <td>1.7</td>\n",
       "      <td>1.7</td>\n",
       "      <td>1.7</td>\n",
       "      <td>1.7</td>\n",
       "      <td>1.7</td>\n",
       "      <td>1.8</td>\n",
       "    </tr>\n",
       "    <tr>\n",
       "      <th>2</th>\n",
       "      <td>id_0</td>\n",
       "      <td>CO</td>\n",
       "      <td>0.39</td>\n",
       "      <td>0.36</td>\n",
       "      <td>0.36</td>\n",
       "      <td>0.4</td>\n",
       "      <td>0.53</td>\n",
       "      <td>0.55</td>\n",
       "      <td>0.34</td>\n",
       "      <td>0.31</td>\n",
       "      <td>0.23</td>\n",
       "    </tr>\n",
       "    <tr>\n",
       "      <th>3</th>\n",
       "      <td>id_0</td>\n",
       "      <td>NMHC</td>\n",
       "      <td>0.16</td>\n",
       "      <td>0.24</td>\n",
       "      <td>0.22</td>\n",
       "      <td>0.27</td>\n",
       "      <td>0.27</td>\n",
       "      <td>0.26</td>\n",
       "      <td>0.27</td>\n",
       "      <td>0.29</td>\n",
       "      <td>0.1</td>\n",
       "    </tr>\n",
       "    <tr>\n",
       "      <th>4</th>\n",
       "      <td>id_0</td>\n",
       "      <td>NO</td>\n",
       "      <td>1.3</td>\n",
       "      <td>1.3</td>\n",
       "      <td>1.3</td>\n",
       "      <td>1.3</td>\n",
       "      <td>1.4</td>\n",
       "      <td>1.6</td>\n",
       "      <td>1.2</td>\n",
       "      <td>1.1</td>\n",
       "      <td>0.9</td>\n",
       "    </tr>\n",
       "  </tbody>\n",
       "</table>\n",
       "</div>"
      ],
      "text/plain": [
       "     0         1     2     3     4     5     6     7     8     9     10\n",
       "0  id_0  AMB_TEMP    21    21    20    20    19    19    19    18    17\n",
       "1  id_0       CH4   1.7   1.7   1.7   1.7   1.7   1.7   1.7   1.7   1.8\n",
       "2  id_0        CO  0.39  0.36  0.36   0.4  0.53  0.55  0.34  0.31  0.23\n",
       "3  id_0      NMHC  0.16  0.24  0.22  0.27  0.27  0.26  0.27  0.29   0.1\n",
       "4  id_0        NO   1.3   1.3   1.3   1.3   1.4   1.6   1.2   1.1   0.9"
      ]
     },
     "execution_count": 6,
     "metadata": {},
     "output_type": "execute_result"
    }
   ],
   "source": [
    "test_data.head()"
   ]
  },
  {
   "cell_type": "code",
   "execution_count": 7,
   "metadata": {
    "ExecuteTime": {
     "end_time": "2022-01-13T07:54:42.579153Z",
     "start_time": "2022-01-13T07:54:42.572153Z"
    },
    "collapsed": true
   },
   "outputs": [],
   "source": [
    "train_data1=train_data.iloc[:,3:]"
   ]
  },
  {
   "cell_type": "markdown",
   "metadata": {},
   "source": [
    " - split train_data1 to 18 ,每个月20天,每天24小时,每小时18个特征\n",
    " - transform to 18,24*20"
   ]
  },
  {
   "cell_type": "code",
   "execution_count": 8,
   "metadata": {
    "ExecuteTime": {
     "end_time": "2022-01-13T07:54:45.058295Z",
     "start_time": "2022-01-13T07:54:45.027293Z"
    },
    "collapsed": true
   },
   "outputs": [],
   "source": [
    "train_data1=train_data1.replace('NR',0)"
   ]
  },
  {
   "cell_type": "code",
   "execution_count": 9,
   "metadata": {
    "ExecuteTime": {
     "end_time": "2022-01-13T07:54:54.221819Z",
     "start_time": "2022-01-13T07:54:54.140815Z"
    },
    "collapsed": true
   },
   "outputs": [],
   "source": [
    "month_data={}\n",
    "for m in range(12):\n",
    "    sample_data=np.empty((18,480),dtype=np.float)\n",
    "    for d in range(20):\n",
    "        sample_data[:,24*d:24*(d+1)]=train_data1.iloc[18*(m*20+d):18*(m*20+d+1),:]\n",
    "    month_data[m]=sample_data"
   ]
  },
  {
   "cell_type": "code",
   "execution_count": 10,
   "metadata": {
    "ExecuteTime": {
     "end_time": "2022-01-13T07:54:57.095984Z",
     "start_time": "2022-01-13T07:54:57.083983Z"
    }
   },
   "outputs": [
    {
     "data": {
      "text/plain": [
       "(18, 480)"
      ]
     },
     "execution_count": 10,
     "metadata": {},
     "output_type": "execute_result"
    }
   ],
   "source": [
    "month_data[0].shape"
   ]
  },
  {
   "cell_type": "markdown",
   "metadata": {
    "ExecuteTime": {
     "end_time": "2021-10-22T08:44:01.090339Z",
     "start_time": "2021-10-22T08:44:01.085339Z"
    }
   },
   "source": [
    "- from 9 hour data to predict No. 10 hour data\n",
    "- split group per 9 hours data \n",
    "- 20 * 24 -9 = 471 groups per month\n",
    "- 471,9 * 18 per month\n",
    "- 12 * 471,9*18"
   ]
  },
  {
   "cell_type": "code",
   "execution_count": 11,
   "metadata": {
    "ExecuteTime": {
     "end_time": "2022-01-13T07:54:58.805081Z",
     "start_time": "2022-01-13T07:54:58.795081Z"
    },
    "collapsed": true
   },
   "outputs": [],
   "source": [
    "x=np.empty((12*471,9*18))\n",
    "y=np.empty((12*471,1))"
   ]
  },
  {
   "cell_type": "code",
   "execution_count": 12,
   "metadata": {
    "ExecuteTime": {
     "end_time": "2022-01-13T07:55:00.742192Z",
     "start_time": "2022-01-13T07:55:00.685189Z"
    },
    "collapsed": true
   },
   "outputs": [],
   "source": [
    "for m in range(12):\n",
    "    for d in range(471):\n",
    "#         print(m,d)\n",
    "#         print(month_data[m][:,9*d:9*(d+1)].shape)\n",
    "        x[m*471+d:m*471+(d+1),:]=month_data[m][:,d:9+d].reshape(1,-1)\n",
    "        y[m*471+d:m*471+(d+1),0]=month_data[m][9,9+d]"
   ]
  },
  {
   "cell_type": "code",
   "execution_count": 13,
   "metadata": {
    "ExecuteTime": {
     "end_time": "2022-01-13T07:55:03.219334Z",
     "start_time": "2022-01-13T07:55:03.104327Z"
    }
   },
   "outputs": [
    {
     "data": {
      "text/html": [
       "<div>\n",
       "<style>\n",
       "    .dataframe thead tr:only-child th {\n",
       "        text-align: right;\n",
       "    }\n",
       "\n",
       "    .dataframe thead th {\n",
       "        text-align: left;\n",
       "    }\n",
       "\n",
       "    .dataframe tbody tr th {\n",
       "        vertical-align: top;\n",
       "    }\n",
       "</style>\n",
       "<table border=\"1\" class=\"dataframe\">\n",
       "  <thead>\n",
       "    <tr style=\"text-align: right;\">\n",
       "      <th></th>\n",
       "      <th>0</th>\n",
       "      <th>1</th>\n",
       "      <th>2</th>\n",
       "      <th>3</th>\n",
       "      <th>4</th>\n",
       "      <th>5</th>\n",
       "      <th>6</th>\n",
       "      <th>7</th>\n",
       "      <th>8</th>\n",
       "      <th>9</th>\n",
       "      <th>...</th>\n",
       "      <th>152</th>\n",
       "      <th>153</th>\n",
       "      <th>154</th>\n",
       "      <th>155</th>\n",
       "      <th>156</th>\n",
       "      <th>157</th>\n",
       "      <th>158</th>\n",
       "      <th>159</th>\n",
       "      <th>160</th>\n",
       "      <th>161</th>\n",
       "    </tr>\n",
       "  </thead>\n",
       "  <tbody>\n",
       "    <tr>\n",
       "      <th>0</th>\n",
       "      <td>-1.358133</td>\n",
       "      <td>-1.358719</td>\n",
       "      <td>-1.359102</td>\n",
       "      <td>-1.517992</td>\n",
       "      <td>-1.676543</td>\n",
       "      <td>-1.675830</td>\n",
       "      <td>-1.675028</td>\n",
       "      <td>-1.674061</td>\n",
       "      <td>-1.197040</td>\n",
       "      <td>0.775375</td>\n",
       "      <td>...</td>\n",
       "      <td>-1.598482</td>\n",
       "      <td>-1.138872</td>\n",
       "      <td>-0.764102</td>\n",
       "      <td>-1.044615</td>\n",
       "      <td>-1.324452</td>\n",
       "      <td>-1.043850</td>\n",
       "      <td>0.173173</td>\n",
       "      <td>0.266484</td>\n",
       "      <td>0.265656</td>\n",
       "      <td>-1.140720</td>\n",
       "    </tr>\n",
       "    <tr>\n",
       "      <th>1</th>\n",
       "      <td>-1.358133</td>\n",
       "      <td>-1.358719</td>\n",
       "      <td>-1.518065</td>\n",
       "      <td>-1.676883</td>\n",
       "      <td>-1.676543</td>\n",
       "      <td>-1.675830</td>\n",
       "      <td>-1.675028</td>\n",
       "      <td>-1.198262</td>\n",
       "      <td>-0.880015</td>\n",
       "      <td>0.775375</td>\n",
       "      <td>...</td>\n",
       "      <td>-1.411100</td>\n",
       "      <td>-0.763602</td>\n",
       "      <td>-1.045549</td>\n",
       "      <td>-1.325864</td>\n",
       "      <td>-1.043502</td>\n",
       "      <td>0.173616</td>\n",
       "      <td>0.266881</td>\n",
       "      <td>0.266484</td>\n",
       "      <td>-1.139531</td>\n",
       "      <td>-1.328212</td>\n",
       "    </tr>\n",
       "    <tr>\n",
       "      <th>2</th>\n",
       "      <td>-1.358133</td>\n",
       "      <td>-1.517759</td>\n",
       "      <td>-1.677028</td>\n",
       "      <td>-1.676883</td>\n",
       "      <td>-1.676543</td>\n",
       "      <td>-1.675830</td>\n",
       "      <td>-1.198999</td>\n",
       "      <td>-0.881062</td>\n",
       "      <td>-0.404478</td>\n",
       "      <td>0.775375</td>\n",
       "      <td>...</td>\n",
       "      <td>-0.661572</td>\n",
       "      <td>-1.045054</td>\n",
       "      <td>-1.326996</td>\n",
       "      <td>-1.044615</td>\n",
       "      <td>0.173945</td>\n",
       "      <td>0.267267</td>\n",
       "      <td>0.266881</td>\n",
       "      <td>-1.139134</td>\n",
       "      <td>-1.326889</td>\n",
       "      <td>-0.859484</td>\n",
       "    </tr>\n",
       "    <tr>\n",
       "      <th>3</th>\n",
       "      <td>-1.517230</td>\n",
       "      <td>-1.676800</td>\n",
       "      <td>-1.677028</td>\n",
       "      <td>-1.676883</td>\n",
       "      <td>-1.676543</td>\n",
       "      <td>-1.199572</td>\n",
       "      <td>-0.881646</td>\n",
       "      <td>-0.405263</td>\n",
       "      <td>-0.087454</td>\n",
       "      <td>0.775375</td>\n",
       "      <td>...</td>\n",
       "      <td>-0.380499</td>\n",
       "      <td>-1.326506</td>\n",
       "      <td>-1.045549</td>\n",
       "      <td>0.174130</td>\n",
       "      <td>0.267594</td>\n",
       "      <td>0.267267</td>\n",
       "      <td>-1.138731</td>\n",
       "      <td>-1.326549</td>\n",
       "      <td>-0.858493</td>\n",
       "      <td>-0.484501</td>\n",
       "    </tr>\n",
       "    <tr>\n",
       "      <th>4</th>\n",
       "      <td>-1.676327</td>\n",
       "      <td>-1.676800</td>\n",
       "      <td>-1.677028</td>\n",
       "      <td>-1.676883</td>\n",
       "      <td>-1.200071</td>\n",
       "      <td>-0.882066</td>\n",
       "      <td>-0.405616</td>\n",
       "      <td>-0.088063</td>\n",
       "      <td>-0.087454</td>\n",
       "      <td>0.775375</td>\n",
       "      <td>...</td>\n",
       "      <td>-0.193117</td>\n",
       "      <td>-1.045054</td>\n",
       "      <td>0.174053</td>\n",
       "      <td>0.267880</td>\n",
       "      <td>0.267594</td>\n",
       "      <td>-1.137501</td>\n",
       "      <td>-1.326146</td>\n",
       "      <td>-0.858010</td>\n",
       "      <td>-0.483777</td>\n",
       "      <td>0.265463</td>\n",
       "    </tr>\n",
       "  </tbody>\n",
       "</table>\n",
       "<p>5 rows × 162 columns</p>\n",
       "</div>"
      ],
      "text/plain": [
       "        0         1         2         3         4         5         6    \\\n",
       "0 -1.358133 -1.358719 -1.359102 -1.517992 -1.676543 -1.675830 -1.675028   \n",
       "1 -1.358133 -1.358719 -1.518065 -1.676883 -1.676543 -1.675830 -1.675028   \n",
       "2 -1.358133 -1.517759 -1.677028 -1.676883 -1.676543 -1.675830 -1.198999   \n",
       "3 -1.517230 -1.676800 -1.677028 -1.676883 -1.676543 -1.199572 -0.881646   \n",
       "4 -1.676327 -1.676800 -1.677028 -1.676883 -1.200071 -0.882066 -0.405616   \n",
       "\n",
       "        7         8         9      ...          152       153       154  \\\n",
       "0 -1.674061 -1.197040  0.775375    ...    -1.598482 -1.138872 -0.764102   \n",
       "1 -1.198262 -0.880015  0.775375    ...    -1.411100 -0.763602 -1.045549   \n",
       "2 -0.881062 -0.404478  0.775375    ...    -0.661572 -1.045054 -1.326996   \n",
       "3 -0.405263 -0.087454  0.775375    ...    -0.380499 -1.326506 -1.045549   \n",
       "4 -0.088063 -0.087454  0.775375    ...    -0.193117 -1.045054  0.174053   \n",
       "\n",
       "        155       156       157       158       159       160       161  \n",
       "0 -1.044615 -1.324452 -1.043850  0.173173  0.266484  0.265656 -1.140720  \n",
       "1 -1.325864 -1.043502  0.173616  0.266881  0.266484 -1.139531 -1.328212  \n",
       "2 -1.044615  0.173945  0.267267  0.266881 -1.139134 -1.326889 -0.859484  \n",
       "3  0.174130  0.267594  0.267267 -1.138731 -1.326549 -0.858493 -0.484501  \n",
       "4  0.267880  0.267594 -1.137501 -1.326146 -0.858010 -0.483777  0.265463  \n",
       "\n",
       "[5 rows x 162 columns]"
      ]
     },
     "execution_count": 13,
     "metadata": {},
     "output_type": "execute_result"
    }
   ],
   "source": [
    "x1=pd.DataFrame(x)\n",
    "x1=x1.apply(lambda x: (x-x.mean())/x.std())\n",
    "x1.head()"
   ]
  },
  {
   "cell_type": "code",
   "execution_count": 14,
   "metadata": {
    "ExecuteTime": {
     "end_time": "2022-01-13T07:55:18.887230Z",
     "start_time": "2022-01-13T07:55:18.644216Z"
    },
    "collapsed": true
   },
   "outputs": [],
   "source": [
    "x2=torch.Tensor(x1.values)\n",
    "y2=torch.Tensor(y)\n",
    "w=torch.Tensor(np.random.normal(0,0.01,(x2.shape[1],1)))\n",
    "b=torch.Tensor([1.])\n",
    "for p in [w,b]:\n",
    "    p.requires_grad_(requires_grad=True)\n"
   ]
  },
  {
   "cell_type": "markdown",
   "metadata": {},
   "source": [
    "model by hand"
   ]
  },
  {
   "cell_type": "code",
   "execution_count": 15,
   "metadata": {
    "ExecuteTime": {
     "end_time": "2022-01-13T07:55:21.643388Z",
     "start_time": "2022-01-13T07:55:21.634387Z"
    },
    "collapsed": true
   },
   "outputs": [],
   "source": [
    "def lin_reg(x,w,b):\n",
    "    return torch.mm(x,w)+b\n",
    "    "
   ]
  },
  {
   "cell_type": "code",
   "execution_count": 16,
   "metadata": {
    "ExecuteTime": {
     "end_time": "2022-01-13T07:55:22.053411Z",
     "start_time": "2022-01-13T07:55:22.044411Z"
    },
    "collapsed": true
   },
   "outputs": [],
   "source": [
    "def squared_loss(y_hat,y):\n",
    "    return (y_hat-y.view(y_hat.size()))**2"
   ]
  },
  {
   "cell_type": "code",
   "execution_count": 17,
   "metadata": {
    "ExecuteTime": {
     "end_time": "2022-01-13T07:55:22.382430Z",
     "start_time": "2022-01-13T07:55:22.371429Z"
    },
    "collapsed": true
   },
   "outputs": [],
   "source": [
    "def sgd(params,lr,batch_size):\n",
    "    for p in params:\n",
    "        p.data -= lr * p.grad/batch_size"
   ]
  },
  {
   "cell_type": "code",
   "execution_count": 18,
   "metadata": {
    "ExecuteTime": {
     "end_time": "2022-01-13T07:55:22.932461Z",
     "start_time": "2022-01-13T07:55:22.876458Z"
    },
    "collapsed": true
   },
   "outputs": [],
   "source": [
    "def train_hand(num_epochs,lr,train_features,train_labels,batch_size):\n",
    "    dataset=torch.utils.data.TensorDataset(train_features,train_labels)\n",
    "    data_iter=torch.utils.data.DataLoader(dataset,batch_size,shuffle=True)\n",
    "    for i in range(num_epochs):\n",
    "        for x,y in data_iter:\n",
    "            l=squared_loss(lin_reg(x,w,b),y).mean()\n",
    "            if w.grad is not None:\n",
    "                w.grad.data.zero_()\n",
    "                b.grad.data.zero_()\n",
    "            l.backward()\n",
    "            sgd([w,b],lr,batch_size)\n",
    "        if (i+1) % 100 ==0:\n",
    "            with torch.no_grad():\n",
    "                print('epoch ',i+1,'train loss: ',squared_loss(lin_reg(train_features,w,b),train_labels).mean().item())\n",
    "            "
   ]
  },
  {
   "cell_type": "code",
   "execution_count": 20,
   "metadata": {
    "ExecuteTime": {
     "end_time": "2021-10-26T09:48:16.397465Z",
     "start_time": "2021-10-26T09:39:51.358579Z"
    }
   },
   "outputs": [
    {
     "name": "stdout",
     "output_type": "stream",
     "text": [
      "epoch  100 train loss:  380.9410705566406\n",
      "epoch  200 train loss:  279.9990539550781\n",
      "epoch  300 train loss:  211.99411010742188\n",
      "epoch  400 train loss:  164.7173614501953\n",
      "epoch  500 train loss:  131.41778564453125\n",
      "epoch  600 train loss:  107.8755874633789\n",
      "epoch  700 train loss:  91.11438751220703\n",
      "epoch  800 train loss:  79.11027526855469\n",
      "epoch  900 train loss:  70.45252227783203\n",
      "epoch  1000 train loss:  64.12333679199219\n",
      "epoch  1100 train loss:  59.45973205566406\n",
      "epoch  1200 train loss:  56.00725555419922\n",
      "epoch  1300 train loss:  53.378814697265625\n",
      "epoch  1400 train loss:  51.36820983886719\n",
      "epoch  1500 train loss:  49.788265228271484\n",
      "epoch  1600 train loss:  48.51777648925781\n",
      "epoch  1700 train loss:  47.483455657958984\n",
      "epoch  1800 train loss:  46.62392044067383\n",
      "epoch  1900 train loss:  45.89391326904297\n",
      "epoch  2000 train loss:  45.26203918457031\n",
      "epoch  2100 train loss:  44.70806884765625\n",
      "epoch  2200 train loss:  44.20965576171875\n",
      "epoch  2300 train loss:  43.76535415649414\n",
      "epoch  2400 train loss:  43.35892105102539\n",
      "epoch  2500 train loss:  42.98130798339844\n",
      "epoch  2600 train loss:  42.63349914550781\n",
      "epoch  2700 train loss:  42.308372497558594\n",
      "epoch  2800 train loss:  42.006202697753906\n",
      "epoch  2900 train loss:  41.7216796875\n",
      "epoch  3000 train loss:  41.4533576965332\n",
      "epoch  3100 train loss:  41.19972229003906\n",
      "epoch  3200 train loss:  40.96115493774414\n",
      "epoch  3300 train loss:  40.73361587524414\n",
      "epoch  3400 train loss:  40.5150260925293\n",
      "epoch  3500 train loss:  40.30808639526367\n",
      "epoch  3600 train loss:  40.109710693359375\n",
      "epoch  3700 train loss:  39.921443939208984\n",
      "epoch  3800 train loss:  39.74137878417969\n",
      "epoch  3900 train loss:  39.56903839111328\n",
      "epoch  4000 train loss:  39.40420913696289\n",
      "epoch  4100 train loss:  39.24513626098633\n",
      "epoch  4200 train loss:  39.09347152709961\n",
      "epoch  4300 train loss:  38.94666290283203\n",
      "epoch  4400 train loss:  38.8051643371582\n",
      "epoch  4500 train loss:  38.669490814208984\n",
      "epoch  4600 train loss:  38.53864669799805\n",
      "epoch  4700 train loss:  38.412899017333984\n",
      "epoch  4800 train loss:  38.29155731201172\n",
      "epoch  4900 train loss:  38.17315673828125\n",
      "epoch  5000 train loss:  38.05937194824219\n",
      "epoch  5100 train loss:  37.9500732421875\n",
      "epoch  5200 train loss:  37.84343338012695\n",
      "epoch  5300 train loss:  37.740562438964844\n",
      "epoch  5400 train loss:  37.64118194580078\n",
      "epoch  5500 train loss:  37.544281005859375\n",
      "epoch  5600 train loss:  37.4506950378418\n",
      "epoch  5700 train loss:  37.360313415527344\n",
      "epoch  5800 train loss:  37.27304458618164\n",
      "epoch  5900 train loss:  37.1874885559082\n",
      "epoch  6000 train loss:  37.10485076904297\n",
      "epoch  6100 train loss:  37.02466583251953\n",
      "epoch  6200 train loss:  36.946136474609375\n",
      "epoch  6300 train loss:  36.87021255493164\n",
      "epoch  6400 train loss:  36.79572677612305\n",
      "epoch  6500 train loss:  36.723575592041016\n",
      "epoch  6600 train loss:  36.653602600097656\n",
      "epoch  6700 train loss:  36.58523178100586\n",
      "epoch  6800 train loss:  36.51929473876953\n",
      "epoch  6900 train loss:  36.454830169677734\n",
      "epoch  7000 train loss:  36.39157485961914\n",
      "epoch  7100 train loss:  36.330360412597656\n",
      "epoch  7200 train loss:  36.27128219604492\n",
      "epoch  7300 train loss:  36.211326599121094\n",
      "epoch  7400 train loss:  36.154640197753906\n",
      "epoch  7500 train loss:  36.09921646118164\n",
      "epoch  7600 train loss:  36.04419708251953\n",
      "epoch  7700 train loss:  35.99142837524414\n",
      "epoch  7800 train loss:  35.93901062011719\n",
      "epoch  7900 train loss:  35.88874053955078\n",
      "epoch  8000 train loss:  35.83931350708008\n",
      "epoch  8100 train loss:  35.790653228759766\n",
      "epoch  8200 train loss:  35.743690490722656\n",
      "epoch  8300 train loss:  35.69720458984375\n",
      "epoch  8400 train loss:  35.6521110534668\n",
      "epoch  8500 train loss:  35.60749435424805\n",
      "epoch  8600 train loss:  35.56406784057617\n",
      "epoch  8700 train loss:  35.521244049072266\n",
      "epoch  8800 train loss:  35.47934341430664\n",
      "epoch  8900 train loss:  35.43843460083008\n",
      "epoch  9000 train loss:  35.398319244384766\n",
      "epoch  9100 train loss:  35.35883712768555\n",
      "epoch  9200 train loss:  35.32121276855469\n",
      "epoch  9300 train loss:  35.28276062011719\n",
      "epoch  9400 train loss:  35.245567321777344\n",
      "epoch  9500 train loss:  35.20964050292969\n",
      "epoch  9600 train loss:  35.174095153808594\n",
      "epoch  9700 train loss:  35.13961410522461\n",
      "epoch  9800 train loss:  35.10482406616211\n",
      "epoch  9900 train loss:  35.07154083251953\n",
      "epoch  10000 train loss:  35.038394927978516\n"
     ]
    }
   ],
   "source": [
    "x2=torch.Tensor(x1.values)\n",
    "y2=torch.Tensor(y)\n",
    "w=torch.Tensor(np.random.normal(0,0.01,(x2.shape[1],1)))\n",
    "b=torch.Tensor([1.])\n",
    "for p in [w,b]:\n",
    "    p.requires_grad_(requires_grad=True)\n",
    "\n",
    "train_hand(10000,0.01,x2,y2,256)"
   ]
  },
  {
   "cell_type": "markdown",
   "metadata": {},
   "source": [
    "model by nn"
   ]
  },
  {
   "cell_type": "code",
   "execution_count": 21,
   "metadata": {
    "ExecuteTime": {
     "end_time": "2021-10-26T09:48:16.405466Z",
     "start_time": "2021-10-26T09:48:16.399465Z"
    },
    "collapsed": true
   },
   "outputs": [],
   "source": [
    "def lr_net(feat_input,feat_output):\n",
    "    return nn.Linear(feat_input,feat_output)"
   ]
  },
  {
   "cell_type": "markdown",
   "metadata": {
    "collapsed": true
   },
   "source": [
    "### test linear model"
   ]
  },
  {
   "cell_type": "code",
   "execution_count": 19,
   "metadata": {
    "ExecuteTime": {
     "end_time": "2022-01-13T07:57:38.908239Z",
     "start_time": "2022-01-13T07:57:38.899238Z"
    },
    "collapsed": true
   },
   "outputs": [],
   "source": [
    "from sklearn.linear_model import Lasso,Ridge,LinearRegression\n",
    "from sklearn.model_selection import KFold,cross_val_score\n",
    "from sklearn.metrics import mean_squared_error"
   ]
  },
  {
   "cell_type": "code",
   "execution_count": 22,
   "metadata": {
    "ExecuteTime": {
     "end_time": "2022-01-13T08:32:28.187739Z",
     "start_time": "2022-01-13T08:32:25.144565Z"
    }
   },
   "outputs": [
    {
     "name": "stderr",
     "output_type": "stream",
     "text": [
      "D:\\ProgramData\\Anaconda3\\lib\\site-packages\\sklearn\\linear_model\\coordinate_descent.py:491: ConvergenceWarning: Objective did not converge. You might want to increase the number of iterations. Fitting data with very small alpha may cause precision problems.\n",
      "  ConvergenceWarning)\n",
      "D:\\ProgramData\\Anaconda3\\lib\\site-packages\\sklearn\\linear_model\\coordinate_descent.py:491: ConvergenceWarning: Objective did not converge. You might want to increase the number of iterations. Fitting data with very small alpha may cause precision problems.\n",
      "  ConvergenceWarning)\n",
      "D:\\ProgramData\\Anaconda3\\lib\\site-packages\\sklearn\\linear_model\\coordinate_descent.py:491: ConvergenceWarning: Objective did not converge. You might want to increase the number of iterations. Fitting data with very small alpha may cause precision problems.\n",
      "  ConvergenceWarning)\n",
      "D:\\ProgramData\\Anaconda3\\lib\\site-packages\\sklearn\\linear_model\\coordinate_descent.py:491: ConvergenceWarning: Objective did not converge. You might want to increase the number of iterations. Fitting data with very small alpha may cause precision problems.\n",
      "  ConvergenceWarning)\n"
     ]
    },
    {
     "name": "stdout",
     "output_type": "stream",
     "text": [
      "score :  34.76870881410614\n"
     ]
    },
    {
     "name": "stderr",
     "output_type": "stream",
     "text": [
      "D:\\ProgramData\\Anaconda3\\lib\\site-packages\\sklearn\\linear_model\\coordinate_descent.py:491: ConvergenceWarning: Objective did not converge. You might want to increase the number of iterations. Fitting data with very small alpha may cause precision problems.\n",
      "  ConvergenceWarning)\n"
     ]
    }
   ],
   "source": [
    "lasso=Lasso(alpha=0.005)\n",
    "kf=KFold(n_splits=5,shuffle=True,random_state=7).split(x)\n",
    "score = cross_val_score(lasso,x,y,scoring='neg_mean_squared_error',cv=kf)\n",
    "print('score : ',np.mean(-score))"
   ]
  },
  {
   "cell_type": "markdown",
   "metadata": {},
   "source": [
    "#### feats norm"
   ]
  },
  {
   "cell_type": "code",
   "execution_count": 23,
   "metadata": {
    "ExecuteTime": {
     "end_time": "2022-01-13T08:47:47.811338Z",
     "start_time": "2022-01-13T08:47:47.804338Z"
    }
   },
   "outputs": [
    {
     "data": {
      "text/plain": [
       "(18, 480)"
      ]
     },
     "execution_count": 23,
     "metadata": {},
     "output_type": "execute_result"
    }
   ],
   "source": [
    "month_data[0].shape"
   ]
  },
  {
   "cell_type": "code",
   "execution_count": 26,
   "metadata": {
    "ExecuteTime": {
     "end_time": "2022-01-13T08:56:51.588440Z",
     "start_time": "2022-01-13T08:56:51.580440Z"
    }
   },
   "outputs": [],
   "source": [
    "all_train_data=pd.DataFrame()\n",
    "month_list=[]\n",
    "sample_data=month_data[0]\n",
    "for m in range(1,12,1):\n",
    "    sample_data=np.hstack((sample_data,month_data[m]))\n",
    "all_train_data=pd.DataFrame(sample_data)"
   ]
  },
  {
   "cell_type": "code",
   "execution_count": 27,
   "metadata": {
    "ExecuteTime": {
     "end_time": "2022-01-13T08:56:55.827683Z",
     "start_time": "2022-01-13T08:56:55.822683Z"
    }
   },
   "outputs": [
    {
     "data": {
      "text/plain": [
       "(18, 5760)"
      ]
     },
     "execution_count": 27,
     "metadata": {},
     "output_type": "execute_result"
    }
   ],
   "source": [
    "all_train_data.shape"
   ]
  },
  {
   "cell_type": "code",
   "execution_count": 59,
   "metadata": {
    "ExecuteTime": {
     "end_time": "2022-01-13T09:33:30.414206Z",
     "start_time": "2022-01-13T09:33:30.339202Z"
    }
   },
   "outputs": [
    {
     "data": {
      "text/html": [
       "<div>\n",
       "<style>\n",
       "    .dataframe thead tr:only-child th {\n",
       "        text-align: right;\n",
       "    }\n",
       "\n",
       "    .dataframe thead th {\n",
       "        text-align: left;\n",
       "    }\n",
       "\n",
       "    .dataframe tbody tr th {\n",
       "        vertical-align: top;\n",
       "    }\n",
       "</style>\n",
       "<table border=\"1\" class=\"dataframe\">\n",
       "  <thead>\n",
       "    <tr style=\"text-align: right;\">\n",
       "      <th></th>\n",
       "      <th>0</th>\n",
       "      <th>1</th>\n",
       "      <th>2</th>\n",
       "      <th>3</th>\n",
       "      <th>4</th>\n",
       "      <th>5</th>\n",
       "      <th>6</th>\n",
       "      <th>7</th>\n",
       "      <th>8</th>\n",
       "      <th>9</th>\n",
       "      <th>10</th>\n",
       "      <th>11</th>\n",
       "      <th>12</th>\n",
       "      <th>13</th>\n",
       "      <th>14</th>\n",
       "      <th>15</th>\n",
       "      <th>16</th>\n",
       "      <th>17</th>\n",
       "    </tr>\n",
       "  </thead>\n",
       "  <tbody>\n",
       "    <tr>\n",
       "      <th>count</th>\n",
       "      <td>5760.000000</td>\n",
       "      <td>5760.000000</td>\n",
       "      <td>5760.000000</td>\n",
       "      <td>5760.000000</td>\n",
       "      <td>5760.000000</td>\n",
       "      <td>5760.000000</td>\n",
       "      <td>5760.000000</td>\n",
       "      <td>5760.000000</td>\n",
       "      <td>5760.000000</td>\n",
       "      <td>5760.000000</td>\n",
       "      <td>5760.000000</td>\n",
       "      <td>5760.000000</td>\n",
       "      <td>5760.000000</td>\n",
       "      <td>5760.000000</td>\n",
       "      <td>5760.000000</td>\n",
       "      <td>5760.000000</td>\n",
       "      <td>5760.000000</td>\n",
       "      <td>5760.000000</td>\n",
       "    </tr>\n",
       "    <tr>\n",
       "      <th>mean</th>\n",
       "      <td>22.527413</td>\n",
       "      <td>1.702396</td>\n",
       "      <td>0.388363</td>\n",
       "      <td>0.140427</td>\n",
       "      <td>2.135729</td>\n",
       "      <td>10.125990</td>\n",
       "      <td>12.247726</td>\n",
       "      <td>31.905469</td>\n",
       "      <td>42.709201</td>\n",
       "      <td>21.414236</td>\n",
       "      <td>0.200625</td>\n",
       "      <td>73.229167</td>\n",
       "      <td>2.763125</td>\n",
       "      <td>1.839653</td>\n",
       "      <td>156.329271</td>\n",
       "      <td>158.482795</td>\n",
       "      <td>2.297240</td>\n",
       "      <td>1.712760</td>\n",
       "    </tr>\n",
       "    <tr>\n",
       "      <th>std</th>\n",
       "      <td>6.290152</td>\n",
       "      <td>0.125265</td>\n",
       "      <td>0.323573</td>\n",
       "      <td>0.104645</td>\n",
       "      <td>2.282155</td>\n",
       "      <td>6.187555</td>\n",
       "      <td>7.577133</td>\n",
       "      <td>18.703486</td>\n",
       "      <td>26.222292</td>\n",
       "      <td>16.662537</td>\n",
       "      <td>2.045443</td>\n",
       "      <td>13.361351</td>\n",
       "      <td>1.816940</td>\n",
       "      <td>0.181839</td>\n",
       "      <td>95.745881</td>\n",
       "      <td>94.697432</td>\n",
       "      <td>1.065408</td>\n",
       "      <td>1.062683</td>\n",
       "    </tr>\n",
       "    <tr>\n",
       "      <th>min</th>\n",
       "      <td>-12.300000</td>\n",
       "      <td>-0.200000</td>\n",
       "      <td>-0.120000</td>\n",
       "      <td>0.000000</td>\n",
       "      <td>-1.100000</td>\n",
       "      <td>0.000000</td>\n",
       "      <td>-2.400000</td>\n",
       "      <td>0.000000</td>\n",
       "      <td>0.000000</td>\n",
       "      <td>-1.000000</td>\n",
       "      <td>0.000000</td>\n",
       "      <td>29.000000</td>\n",
       "      <td>-1.600000</td>\n",
       "      <td>-0.200000</td>\n",
       "      <td>0.100000</td>\n",
       "      <td>0.000000</td>\n",
       "      <td>0.000000</td>\n",
       "      <td>0.000000</td>\n",
       "    </tr>\n",
       "    <tr>\n",
       "      <th>25%</th>\n",
       "      <td>18.000000</td>\n",
       "      <td>1.600000</td>\n",
       "      <td>0.250000</td>\n",
       "      <td>0.070000</td>\n",
       "      <td>1.100000</td>\n",
       "      <td>5.900000</td>\n",
       "      <td>7.300000</td>\n",
       "      <td>18.000000</td>\n",
       "      <td>24.000000</td>\n",
       "      <td>9.000000</td>\n",
       "      <td>0.000000</td>\n",
       "      <td>64.000000</td>\n",
       "      <td>1.600000</td>\n",
       "      <td>1.700000</td>\n",
       "      <td>72.000000</td>\n",
       "      <td>76.000000</td>\n",
       "      <td>1.500000</td>\n",
       "      <td>0.900000</td>\n",
       "    </tr>\n",
       "    <tr>\n",
       "      <th>50%</th>\n",
       "      <td>23.000000</td>\n",
       "      <td>1.700000</td>\n",
       "      <td>0.340000</td>\n",
       "      <td>0.110000</td>\n",
       "      <td>1.600000</td>\n",
       "      <td>8.600000</td>\n",
       "      <td>10.000000</td>\n",
       "      <td>29.000000</td>\n",
       "      <td>38.000000</td>\n",
       "      <td>18.000000</td>\n",
       "      <td>0.000000</td>\n",
       "      <td>75.000000</td>\n",
       "      <td>2.300000</td>\n",
       "      <td>1.800000</td>\n",
       "      <td>119.000000</td>\n",
       "      <td>121.500000</td>\n",
       "      <td>2.100000</td>\n",
       "      <td>1.500000</td>\n",
       "    </tr>\n",
       "    <tr>\n",
       "      <th>75%</th>\n",
       "      <td>27.000000</td>\n",
       "      <td>1.800000</td>\n",
       "      <td>0.450000</td>\n",
       "      <td>0.180000</td>\n",
       "      <td>2.300000</td>\n",
       "      <td>13.000000</td>\n",
       "      <td>15.000000</td>\n",
       "      <td>42.000000</td>\n",
       "      <td>57.000000</td>\n",
       "      <td>29.250000</td>\n",
       "      <td>0.000000</td>\n",
       "      <td>84.000000</td>\n",
       "      <td>3.400000</td>\n",
       "      <td>1.900000</td>\n",
       "      <td>213.000000</td>\n",
       "      <td>219.000000</td>\n",
       "      <td>2.900000</td>\n",
       "      <td>2.300000</td>\n",
       "    </tr>\n",
       "    <tr>\n",
       "      <th>max</th>\n",
       "      <td>36.000000</td>\n",
       "      <td>2.000000</td>\n",
       "      <td>7.570000</td>\n",
       "      <td>1.300000</td>\n",
       "      <td>31.000000</td>\n",
       "      <td>46.000000</td>\n",
       "      <td>71.000000</td>\n",
       "      <td>231.000000</td>\n",
       "      <td>181.000000</td>\n",
       "      <td>112.000000</td>\n",
       "      <td>74.000000</td>\n",
       "      <td>99.000000</td>\n",
       "      <td>22.000000</td>\n",
       "      <td>3.000000</td>\n",
       "      <td>360.000000</td>\n",
       "      <td>360.000000</td>\n",
       "      <td>7.700000</td>\n",
       "      <td>7.000000</td>\n",
       "    </tr>\n",
       "  </tbody>\n",
       "</table>\n",
       "</div>"
      ],
      "text/plain": [
       "                0            1            2            3            4   \\\n",
       "count  5760.000000  5760.000000  5760.000000  5760.000000  5760.000000   \n",
       "mean     22.527413     1.702396     0.388363     0.140427     2.135729   \n",
       "std       6.290152     0.125265     0.323573     0.104645     2.282155   \n",
       "min     -12.300000    -0.200000    -0.120000     0.000000    -1.100000   \n",
       "25%      18.000000     1.600000     0.250000     0.070000     1.100000   \n",
       "50%      23.000000     1.700000     0.340000     0.110000     1.600000   \n",
       "75%      27.000000     1.800000     0.450000     0.180000     2.300000   \n",
       "max      36.000000     2.000000     7.570000     1.300000    31.000000   \n",
       "\n",
       "                5            6            7            8            9   \\\n",
       "count  5760.000000  5760.000000  5760.000000  5760.000000  5760.000000   \n",
       "mean     10.125990    12.247726    31.905469    42.709201    21.414236   \n",
       "std       6.187555     7.577133    18.703486    26.222292    16.662537   \n",
       "min       0.000000    -2.400000     0.000000     0.000000    -1.000000   \n",
       "25%       5.900000     7.300000    18.000000    24.000000     9.000000   \n",
       "50%       8.600000    10.000000    29.000000    38.000000    18.000000   \n",
       "75%      13.000000    15.000000    42.000000    57.000000    29.250000   \n",
       "max      46.000000    71.000000   231.000000   181.000000   112.000000   \n",
       "\n",
       "                10           11           12           13           14  \\\n",
       "count  5760.000000  5760.000000  5760.000000  5760.000000  5760.000000   \n",
       "mean      0.200625    73.229167     2.763125     1.839653   156.329271   \n",
       "std       2.045443    13.361351     1.816940     0.181839    95.745881   \n",
       "min       0.000000    29.000000    -1.600000    -0.200000     0.100000   \n",
       "25%       0.000000    64.000000     1.600000     1.700000    72.000000   \n",
       "50%       0.000000    75.000000     2.300000     1.800000   119.000000   \n",
       "75%       0.000000    84.000000     3.400000     1.900000   213.000000   \n",
       "max      74.000000    99.000000    22.000000     3.000000   360.000000   \n",
       "\n",
       "                15           16           17  \n",
       "count  5760.000000  5760.000000  5760.000000  \n",
       "mean    158.482795     2.297240     1.712760  \n",
       "std      94.697432     1.065408     1.062683  \n",
       "min       0.000000     0.000000     0.000000  \n",
       "25%      76.000000     1.500000     0.900000  \n",
       "50%     121.500000     2.100000     1.500000  \n",
       "75%     219.000000     2.900000     2.300000  \n",
       "max     360.000000     7.700000     7.000000  "
      ]
     },
     "execution_count": 59,
     "metadata": {},
     "output_type": "execute_result"
    }
   ],
   "source": [
    "all_train_data.T.describe()"
   ]
  },
  {
   "cell_type": "code",
   "execution_count": 28,
   "metadata": {
    "ExecuteTime": {
     "end_time": "2022-01-13T08:58:07.266769Z",
     "start_time": "2022-01-13T08:58:01.671449Z"
    }
   },
   "outputs": [
    {
     "data": {
      "text/html": [
       "<div>\n",
       "<style>\n",
       "    .dataframe thead tr:only-child th {\n",
       "        text-align: right;\n",
       "    }\n",
       "\n",
       "    .dataframe thead th {\n",
       "        text-align: left;\n",
       "    }\n",
       "\n",
       "    .dataframe tbody tr th {\n",
       "        vertical-align: top;\n",
       "    }\n",
       "</style>\n",
       "<table border=\"1\" class=\"dataframe\">\n",
       "  <thead>\n",
       "    <tr style=\"text-align: right;\">\n",
       "      <th></th>\n",
       "      <th>0</th>\n",
       "      <th>1</th>\n",
       "      <th>2</th>\n",
       "      <th>3</th>\n",
       "      <th>4</th>\n",
       "      <th>5</th>\n",
       "      <th>6</th>\n",
       "      <th>7</th>\n",
       "      <th>8</th>\n",
       "      <th>9</th>\n",
       "      <th>...</th>\n",
       "      <th>5750</th>\n",
       "      <th>5751</th>\n",
       "      <th>5752</th>\n",
       "      <th>5753</th>\n",
       "      <th>5754</th>\n",
       "      <th>5755</th>\n",
       "      <th>5756</th>\n",
       "      <th>5757</th>\n",
       "      <th>5758</th>\n",
       "      <th>5759</th>\n",
       "    </tr>\n",
       "  </thead>\n",
       "  <tbody>\n",
       "    <tr>\n",
       "      <th>count</th>\n",
       "      <td>18.000000</td>\n",
       "      <td>18.000000</td>\n",
       "      <td>18.000000</td>\n",
       "      <td>18.000000</td>\n",
       "      <td>18.000000</td>\n",
       "      <td>18.000000</td>\n",
       "      <td>18.000000</td>\n",
       "      <td>18.000000</td>\n",
       "      <td>18.000000</td>\n",
       "      <td>18.000000</td>\n",
       "      <td>...</td>\n",
       "      <td>18.000000</td>\n",
       "      <td>18.000000</td>\n",
       "      <td>18.000000</td>\n",
       "      <td>18.000000</td>\n",
       "      <td>18.000000</td>\n",
       "      <td>18.000000</td>\n",
       "      <td>18.000000</td>\n",
       "      <td>18.000000</td>\n",
       "      <td>18.000000</td>\n",
       "      <td>18.000000</td>\n",
       "    </tr>\n",
       "    <tr>\n",
       "      <th>mean</th>\n",
       "      <td>16.839444</td>\n",
       "      <td>21.592222</td>\n",
       "      <td>15.356667</td>\n",
       "      <td>18.605000</td>\n",
       "      <td>21.858889</td>\n",
       "      <td>21.964444</td>\n",
       "      <td>20.765000</td>\n",
       "      <td>19.822222</td>\n",
       "      <td>30.152222</td>\n",
       "      <td>24.876111</td>\n",
       "      <td>...</td>\n",
       "      <td>12.212222</td>\n",
       "      <td>43.421111</td>\n",
       "      <td>32.013333</td>\n",
       "      <td>17.016667</td>\n",
       "      <td>26.269444</td>\n",
       "      <td>24.573889</td>\n",
       "      <td>25.279444</td>\n",
       "      <td>24.792778</td>\n",
       "      <td>22.931111</td>\n",
       "      <td>23.119444</td>\n",
       "    </tr>\n",
       "    <tr>\n",
       "      <th>std</th>\n",
       "      <td>22.018169</td>\n",
       "      <td>28.887701</td>\n",
       "      <td>21.934004</td>\n",
       "      <td>25.814773</td>\n",
       "      <td>34.266238</td>\n",
       "      <td>36.986731</td>\n",
       "      <td>34.861763</td>\n",
       "      <td>33.538186</td>\n",
       "      <td>58.974914</td>\n",
       "      <td>36.440285</td>\n",
       "      <td>...</td>\n",
       "      <td>18.531536</td>\n",
       "      <td>97.926387</td>\n",
       "      <td>75.904846</td>\n",
       "      <td>20.152310</td>\n",
       "      <td>37.060988</td>\n",
       "      <td>35.466682</td>\n",
       "      <td>37.516946</td>\n",
       "      <td>39.197999</td>\n",
       "      <td>35.628224</td>\n",
       "      <td>36.337805</td>\n",
       "    </tr>\n",
       "    <tr>\n",
       "      <th>min</th>\n",
       "      <td>0.000000</td>\n",
       "      <td>0.000000</td>\n",
       "      <td>0.000000</td>\n",
       "      <td>0.000000</td>\n",
       "      <td>0.000000</td>\n",
       "      <td>0.000000</td>\n",
       "      <td>0.000000</td>\n",
       "      <td>0.000000</td>\n",
       "      <td>0.000000</td>\n",
       "      <td>0.000000</td>\n",
       "      <td>...</td>\n",
       "      <td>0.000000</td>\n",
       "      <td>0.000000</td>\n",
       "      <td>0.000000</td>\n",
       "      <td>0.000000</td>\n",
       "      <td>0.000000</td>\n",
       "      <td>0.000000</td>\n",
       "      <td>0.000000</td>\n",
       "      <td>0.000000</td>\n",
       "      <td>0.000000</td>\n",
       "      <td>0.000000</td>\n",
       "    </tr>\n",
       "    <tr>\n",
       "      <th>25%</th>\n",
       "      <td>1.025000</td>\n",
       "      <td>1.125000</td>\n",
       "      <td>0.700000</td>\n",
       "      <td>0.850000</td>\n",
       "      <td>1.725000</td>\n",
       "      <td>1.575000</td>\n",
       "      <td>1.825000</td>\n",
       "      <td>1.825000</td>\n",
       "      <td>1.035000</td>\n",
       "      <td>1.050000</td>\n",
       "      <td>...</td>\n",
       "      <td>1.300000</td>\n",
       "      <td>1.700000</td>\n",
       "      <td>1.000000</td>\n",
       "      <td>1.025000</td>\n",
       "      <td>1.350000</td>\n",
       "      <td>1.100000</td>\n",
       "      <td>1.550000</td>\n",
       "      <td>1.525000</td>\n",
       "      <td>1.800000</td>\n",
       "      <td>1.850000</td>\n",
       "    </tr>\n",
       "    <tr>\n",
       "      <th>50%</th>\n",
       "      <td>8.000000</td>\n",
       "      <td>5.600000</td>\n",
       "      <td>2.200000</td>\n",
       "      <td>4.400000</td>\n",
       "      <td>4.350000</td>\n",
       "      <td>3.150000</td>\n",
       "      <td>3.250000</td>\n",
       "      <td>2.100000</td>\n",
       "      <td>8.800000</td>\n",
       "      <td>16.000000</td>\n",
       "      <td>...</td>\n",
       "      <td>2.450000</td>\n",
       "      <td>4.900000</td>\n",
       "      <td>7.050000</td>\n",
       "      <td>10.050000</td>\n",
       "      <td>9.200000</td>\n",
       "      <td>7.800000</td>\n",
       "      <td>7.600000</td>\n",
       "      <td>7.650000</td>\n",
       "      <td>7.650000</td>\n",
       "      <td>7.650000</td>\n",
       "    </tr>\n",
       "    <tr>\n",
       "      <th>75%</th>\n",
       "      <td>23.750000</td>\n",
       "      <td>36.750000</td>\n",
       "      <td>23.750000</td>\n",
       "      <td>32.000000</td>\n",
       "      <td>24.750000</td>\n",
       "      <td>24.000000</td>\n",
       "      <td>21.000000</td>\n",
       "      <td>18.000000</td>\n",
       "      <td>20.500000</td>\n",
       "      <td>29.750000</td>\n",
       "      <td>...</td>\n",
       "      <td>15.500000</td>\n",
       "      <td>16.750000</td>\n",
       "      <td>27.000000</td>\n",
       "      <td>24.750000</td>\n",
       "      <td>39.000000</td>\n",
       "      <td>32.250000</td>\n",
       "      <td>24.750000</td>\n",
       "      <td>16.500000</td>\n",
       "      <td>21.500000</td>\n",
       "      <td>20.250000</td>\n",
       "    </tr>\n",
       "    <tr>\n",
       "      <th>max</th>\n",
       "      <td>77.000000</td>\n",
       "      <td>80.000000</td>\n",
       "      <td>67.000000</td>\n",
       "      <td>76.000000</td>\n",
       "      <td>110.000000</td>\n",
       "      <td>116.000000</td>\n",
       "      <td>106.000000</td>\n",
       "      <td>104.000000</td>\n",
       "      <td>232.000000</td>\n",
       "      <td>153.000000</td>\n",
       "      <td>...</td>\n",
       "      <td>59.000000</td>\n",
       "      <td>311.000000</td>\n",
       "      <td>327.000000</td>\n",
       "      <td>65.000000</td>\n",
       "      <td>121.000000</td>\n",
       "      <td>109.000000</td>\n",
       "      <td>108.000000</td>\n",
       "      <td>118.000000</td>\n",
       "      <td>108.000000</td>\n",
       "      <td>109.000000</td>\n",
       "    </tr>\n",
       "  </tbody>\n",
       "</table>\n",
       "<p>8 rows × 5760 columns</p>\n",
       "</div>"
      ],
      "text/plain": [
       "            0          1          2          3           4           5     \\\n",
       "count  18.000000  18.000000  18.000000  18.000000   18.000000   18.000000   \n",
       "mean   16.839444  21.592222  15.356667  18.605000   21.858889   21.964444   \n",
       "std    22.018169  28.887701  21.934004  25.814773   34.266238   36.986731   \n",
       "min     0.000000   0.000000   0.000000   0.000000    0.000000    0.000000   \n",
       "25%     1.025000   1.125000   0.700000   0.850000    1.725000    1.575000   \n",
       "50%     8.000000   5.600000   2.200000   4.400000    4.350000    3.150000   \n",
       "75%    23.750000  36.750000  23.750000  32.000000   24.750000   24.000000   \n",
       "max    77.000000  80.000000  67.000000  76.000000  110.000000  116.000000   \n",
       "\n",
       "             6           7           8           9        ...           5750  \\\n",
       "count   18.000000   18.000000   18.000000   18.000000     ...      18.000000   \n",
       "mean    20.765000   19.822222   30.152222   24.876111     ...      12.212222   \n",
       "std     34.861763   33.538186   58.974914   36.440285     ...      18.531536   \n",
       "min      0.000000    0.000000    0.000000    0.000000     ...       0.000000   \n",
       "25%      1.825000    1.825000    1.035000    1.050000     ...       1.300000   \n",
       "50%      3.250000    2.100000    8.800000   16.000000     ...       2.450000   \n",
       "75%     21.000000   18.000000   20.500000   29.750000     ...      15.500000   \n",
       "max    106.000000  104.000000  232.000000  153.000000     ...      59.000000   \n",
       "\n",
       "             5751        5752       5753        5754        5755        5756  \\\n",
       "count   18.000000   18.000000  18.000000   18.000000   18.000000   18.000000   \n",
       "mean    43.421111   32.013333  17.016667   26.269444   24.573889   25.279444   \n",
       "std     97.926387   75.904846  20.152310   37.060988   35.466682   37.516946   \n",
       "min      0.000000    0.000000   0.000000    0.000000    0.000000    0.000000   \n",
       "25%      1.700000    1.000000   1.025000    1.350000    1.100000    1.550000   \n",
       "50%      4.900000    7.050000  10.050000    9.200000    7.800000    7.600000   \n",
       "75%     16.750000   27.000000  24.750000   39.000000   32.250000   24.750000   \n",
       "max    311.000000  327.000000  65.000000  121.000000  109.000000  108.000000   \n",
       "\n",
       "             5757        5758        5759  \n",
       "count   18.000000   18.000000   18.000000  \n",
       "mean    24.792778   22.931111   23.119444  \n",
       "std     39.197999   35.628224   36.337805  \n",
       "min      0.000000    0.000000    0.000000  \n",
       "25%      1.525000    1.800000    1.850000  \n",
       "50%      7.650000    7.650000    7.650000  \n",
       "75%     16.500000   21.500000   20.250000  \n",
       "max    118.000000  108.000000  109.000000  \n",
       "\n",
       "[8 rows x 5760 columns]"
      ]
     },
     "execution_count": 28,
     "metadata": {},
     "output_type": "execute_result"
    }
   ],
   "source": [
    "all_train_data.describe()"
   ]
  },
  {
   "cell_type": "code",
   "execution_count": 31,
   "metadata": {
    "ExecuteTime": {
     "end_time": "2022-01-13T09:01:16.688603Z",
     "start_time": "2022-01-13T09:01:16.669602Z"
    }
   },
   "outputs": [],
   "source": [
    "all_train_data1=all_train_data.T\n",
    "all_train_data1=all_train_data1.apply(lambda x : (x-x.mean()) / x.std())"
   ]
  },
  {
   "cell_type": "code",
   "execution_count": 32,
   "metadata": {
    "ExecuteTime": {
     "end_time": "2022-01-13T09:01:21.382872Z",
     "start_time": "2022-01-13T09:01:21.306867Z"
    }
   },
   "outputs": [
    {
     "data": {
      "text/html": [
       "<div>\n",
       "<style>\n",
       "    .dataframe thead tr:only-child th {\n",
       "        text-align: right;\n",
       "    }\n",
       "\n",
       "    .dataframe thead th {\n",
       "        text-align: left;\n",
       "    }\n",
       "\n",
       "    .dataframe tbody tr th {\n",
       "        vertical-align: top;\n",
       "    }\n",
       "</style>\n",
       "<table border=\"1\" class=\"dataframe\">\n",
       "  <thead>\n",
       "    <tr style=\"text-align: right;\">\n",
       "      <th></th>\n",
       "      <th>0</th>\n",
       "      <th>1</th>\n",
       "      <th>2</th>\n",
       "      <th>3</th>\n",
       "      <th>4</th>\n",
       "      <th>5</th>\n",
       "      <th>6</th>\n",
       "      <th>7</th>\n",
       "      <th>8</th>\n",
       "      <th>9</th>\n",
       "      <th>10</th>\n",
       "      <th>11</th>\n",
       "      <th>12</th>\n",
       "      <th>13</th>\n",
       "      <th>14</th>\n",
       "      <th>15</th>\n",
       "      <th>16</th>\n",
       "      <th>17</th>\n",
       "    </tr>\n",
       "  </thead>\n",
       "  <tbody>\n",
       "    <tr>\n",
       "      <th>count</th>\n",
       "      <td>5.760000e+03</td>\n",
       "      <td>5.760000e+03</td>\n",
       "      <td>5.760000e+03</td>\n",
       "      <td>5.760000e+03</td>\n",
       "      <td>5.760000e+03</td>\n",
       "      <td>5.760000e+03</td>\n",
       "      <td>5.760000e+03</td>\n",
       "      <td>5.760000e+03</td>\n",
       "      <td>5.760000e+03</td>\n",
       "      <td>5.760000e+03</td>\n",
       "      <td>5.760000e+03</td>\n",
       "      <td>5.760000e+03</td>\n",
       "      <td>5.760000e+03</td>\n",
       "      <td>5.760000e+03</td>\n",
       "      <td>5.760000e+03</td>\n",
       "      <td>5.760000e+03</td>\n",
       "      <td>5.760000e+03</td>\n",
       "      <td>5.760000e+03</td>\n",
       "    </tr>\n",
       "    <tr>\n",
       "      <th>mean</th>\n",
       "      <td>2.921351e-15</td>\n",
       "      <td>-4.132630e-13</td>\n",
       "      <td>-1.393800e-14</td>\n",
       "      <td>5.078230e-15</td>\n",
       "      <td>3.474738e-15</td>\n",
       "      <td>-2.338465e-15</td>\n",
       "      <td>-3.438183e-15</td>\n",
       "      <td>-4.431640e-16</td>\n",
       "      <td>2.485088e-16</td>\n",
       "      <td>1.855094e-16</td>\n",
       "      <td>4.130921e-15</td>\n",
       "      <td>-9.199431e-16</td>\n",
       "      <td>5.026265e-16</td>\n",
       "      <td>3.205650e-13</td>\n",
       "      <td>8.574353e-17</td>\n",
       "      <td>5.245418e-16</td>\n",
       "      <td>5.851993e-16</td>\n",
       "      <td>1.040902e-15</td>\n",
       "    </tr>\n",
       "    <tr>\n",
       "      <th>std</th>\n",
       "      <td>1.000000e+00</td>\n",
       "      <td>1.000000e+00</td>\n",
       "      <td>1.000000e+00</td>\n",
       "      <td>1.000000e+00</td>\n",
       "      <td>1.000000e+00</td>\n",
       "      <td>1.000000e+00</td>\n",
       "      <td>1.000000e+00</td>\n",
       "      <td>1.000000e+00</td>\n",
       "      <td>1.000000e+00</td>\n",
       "      <td>1.000000e+00</td>\n",
       "      <td>1.000000e+00</td>\n",
       "      <td>1.000000e+00</td>\n",
       "      <td>1.000000e+00</td>\n",
       "      <td>1.000000e+00</td>\n",
       "      <td>1.000000e+00</td>\n",
       "      <td>1.000000e+00</td>\n",
       "      <td>1.000000e+00</td>\n",
       "      <td>1.000000e+00</td>\n",
       "    </tr>\n",
       "    <tr>\n",
       "      <th>min</th>\n",
       "      <td>-5.536816e+00</td>\n",
       "      <td>-1.518692e+01</td>\n",
       "      <td>-1.571093e+00</td>\n",
       "      <td>-1.341940e+00</td>\n",
       "      <td>-1.417839e+00</td>\n",
       "      <td>-1.636509e+00</td>\n",
       "      <td>-1.933149e+00</td>\n",
       "      <td>-1.705857e+00</td>\n",
       "      <td>-1.628736e+00</td>\n",
       "      <td>-1.345187e+00</td>\n",
       "      <td>-9.808389e-02</td>\n",
       "      <td>-3.310232e+00</td>\n",
       "      <td>-2.401358e+00</td>\n",
       "      <td>-1.121682e+01</td>\n",
       "      <td>-1.631707e+00</td>\n",
       "      <td>-1.673570e+00</td>\n",
       "      <td>-2.156207e+00</td>\n",
       "      <td>-1.611732e+00</td>\n",
       "    </tr>\n",
       "    <tr>\n",
       "      <th>25%</th>\n",
       "      <td>-7.197621e-01</td>\n",
       "      <td>-8.174309e-01</td>\n",
       "      <td>-4.276098e-01</td>\n",
       "      <td>-6.730107e-01</td>\n",
       "      <td>-4.538382e-01</td>\n",
       "      <td>-6.829821e-01</td>\n",
       "      <td>-6.529812e-01</td>\n",
       "      <td>-7.434694e-01</td>\n",
       "      <td>-7.134846e-01</td>\n",
       "      <td>-7.450388e-01</td>\n",
       "      <td>-9.808389e-02</td>\n",
       "      <td>-6.907360e-01</td>\n",
       "      <td>-6.401558e-01</td>\n",
       "      <td>-7.680033e-01</td>\n",
       "      <td>-8.807613e-01</td>\n",
       "      <td>-8.710141e-01</td>\n",
       "      <td>-7.482952e-01</td>\n",
       "      <td>-7.648192e-01</td>\n",
       "    </tr>\n",
       "    <tr>\n",
       "      <th>50%</th>\n",
       "      <td>7.513122e-02</td>\n",
       "      <td>-1.912605e-02</td>\n",
       "      <td>-1.494652e-01</td>\n",
       "      <td>-2.907653e-01</td>\n",
       "      <td>-2.347470e-01</td>\n",
       "      <td>-2.466224e-01</td>\n",
       "      <td>-2.966459e-01</td>\n",
       "      <td>-1.553437e-01</td>\n",
       "      <td>-1.795877e-01</td>\n",
       "      <td>-2.049049e-01</td>\n",
       "      <td>-9.808389e-02</td>\n",
       "      <td>1.325340e-01</td>\n",
       "      <td>-2.548928e-01</td>\n",
       "      <td>-2.180656e-01</td>\n",
       "      <td>-3.898786e-01</td>\n",
       "      <td>-3.905364e-01</td>\n",
       "      <td>-1.851306e-01</td>\n",
       "      <td>-2.002106e-01</td>\n",
       "    </tr>\n",
       "    <tr>\n",
       "      <th>75%</th>\n",
       "      <td>7.110459e-01</td>\n",
       "      <td>7.791788e-01</td>\n",
       "      <td>1.904894e-01</td>\n",
       "      <td>3.781641e-01</td>\n",
       "      <td>7.198057e-02</td>\n",
       "      <td>4.644824e-01</td>\n",
       "      <td>3.632342e-01</td>\n",
       "      <td>5.397139e-01</td>\n",
       "      <td>5.449866e-01</td>\n",
       "      <td>4.702623e-01</td>\n",
       "      <td>-9.808389e-02</td>\n",
       "      <td>8.061186e-01</td>\n",
       "      <td>3.505206e-01</td>\n",
       "      <td>3.318721e-01</td>\n",
       "      <td>5.918869e-01</td>\n",
       "      <td>6.390586e-01</td>\n",
       "      <td>5.657555e-01</td>\n",
       "      <td>5.526008e-01</td>\n",
       "    </tr>\n",
       "    <tr>\n",
       "      <th>max</th>\n",
       "      <td>2.141854e+00</td>\n",
       "      <td>2.375788e+00</td>\n",
       "      <td>2.219482e+01</td>\n",
       "      <td>1.108104e+01</td>\n",
       "      <td>1.264781e+01</td>\n",
       "      <td>5.797768e+00</td>\n",
       "      <td>7.753892e+00</td>\n",
       "      <td>1.064478e+01</td>\n",
       "      <td>5.273788e+00</td>\n",
       "      <td>5.436493e+00</td>\n",
       "      <td>3.607990e+01</td>\n",
       "      <td>1.928760e+00</td>\n",
       "      <td>1.058751e+01</td>\n",
       "      <td>6.381187e+00</td>\n",
       "      <td>2.127201e+00</td>\n",
       "      <td>2.128011e+00</td>\n",
       "      <td>5.071072e+00</td>\n",
       "      <td>4.975368e+00</td>\n",
       "    </tr>\n",
       "  </tbody>\n",
       "</table>\n",
       "</div>"
      ],
      "text/plain": [
       "                 0             1             2             3             4   \\\n",
       "count  5.760000e+03  5.760000e+03  5.760000e+03  5.760000e+03  5.760000e+03   \n",
       "mean   2.921351e-15 -4.132630e-13 -1.393800e-14  5.078230e-15  3.474738e-15   \n",
       "std    1.000000e+00  1.000000e+00  1.000000e+00  1.000000e+00  1.000000e+00   \n",
       "min   -5.536816e+00 -1.518692e+01 -1.571093e+00 -1.341940e+00 -1.417839e+00   \n",
       "25%   -7.197621e-01 -8.174309e-01 -4.276098e-01 -6.730107e-01 -4.538382e-01   \n",
       "50%    7.513122e-02 -1.912605e-02 -1.494652e-01 -2.907653e-01 -2.347470e-01   \n",
       "75%    7.110459e-01  7.791788e-01  1.904894e-01  3.781641e-01  7.198057e-02   \n",
       "max    2.141854e+00  2.375788e+00  2.219482e+01  1.108104e+01  1.264781e+01   \n",
       "\n",
       "                 5             6             7             8             9   \\\n",
       "count  5.760000e+03  5.760000e+03  5.760000e+03  5.760000e+03  5.760000e+03   \n",
       "mean  -2.338465e-15 -3.438183e-15 -4.431640e-16  2.485088e-16  1.855094e-16   \n",
       "std    1.000000e+00  1.000000e+00  1.000000e+00  1.000000e+00  1.000000e+00   \n",
       "min   -1.636509e+00 -1.933149e+00 -1.705857e+00 -1.628736e+00 -1.345187e+00   \n",
       "25%   -6.829821e-01 -6.529812e-01 -7.434694e-01 -7.134846e-01 -7.450388e-01   \n",
       "50%   -2.466224e-01 -2.966459e-01 -1.553437e-01 -1.795877e-01 -2.049049e-01   \n",
       "75%    4.644824e-01  3.632342e-01  5.397139e-01  5.449866e-01  4.702623e-01   \n",
       "max    5.797768e+00  7.753892e+00  1.064478e+01  5.273788e+00  5.436493e+00   \n",
       "\n",
       "                 10            11            12            13            14  \\\n",
       "count  5.760000e+03  5.760000e+03  5.760000e+03  5.760000e+03  5.760000e+03   \n",
       "mean   4.130921e-15 -9.199431e-16  5.026265e-16  3.205650e-13  8.574353e-17   \n",
       "std    1.000000e+00  1.000000e+00  1.000000e+00  1.000000e+00  1.000000e+00   \n",
       "min   -9.808389e-02 -3.310232e+00 -2.401358e+00 -1.121682e+01 -1.631707e+00   \n",
       "25%   -9.808389e-02 -6.907360e-01 -6.401558e-01 -7.680033e-01 -8.807613e-01   \n",
       "50%   -9.808389e-02  1.325340e-01 -2.548928e-01 -2.180656e-01 -3.898786e-01   \n",
       "75%   -9.808389e-02  8.061186e-01  3.505206e-01  3.318721e-01  5.918869e-01   \n",
       "max    3.607990e+01  1.928760e+00  1.058751e+01  6.381187e+00  2.127201e+00   \n",
       "\n",
       "                 15            16            17  \n",
       "count  5.760000e+03  5.760000e+03  5.760000e+03  \n",
       "mean   5.245418e-16  5.851993e-16  1.040902e-15  \n",
       "std    1.000000e+00  1.000000e+00  1.000000e+00  \n",
       "min   -1.673570e+00 -2.156207e+00 -1.611732e+00  \n",
       "25%   -8.710141e-01 -7.482952e-01 -7.648192e-01  \n",
       "50%   -3.905364e-01 -1.851306e-01 -2.002106e-01  \n",
       "75%    6.390586e-01  5.657555e-01  5.526008e-01  \n",
       "max    2.128011e+00  5.071072e+00  4.975368e+00  "
      ]
     },
     "execution_count": 32,
     "metadata": {},
     "output_type": "execute_result"
    }
   ],
   "source": [
    "all_train_data1.describe()"
   ]
  },
  {
   "cell_type": "code",
   "execution_count": 34,
   "metadata": {
    "ExecuteTime": {
     "end_time": "2022-01-13T09:03:03.973740Z",
     "start_time": "2022-01-13T09:03:03.965739Z"
    }
   },
   "outputs": [
    {
     "data": {
      "text/plain": [
       "(5760, 18)"
      ]
     },
     "execution_count": 34,
     "metadata": {},
     "output_type": "execute_result"
    }
   ],
   "source": [
    "all_train_data1.shape"
   ]
  },
  {
   "cell_type": "code",
   "execution_count": 33,
   "metadata": {
    "ExecuteTime": {
     "end_time": "2022-01-13T09:02:50.350961Z",
     "start_time": "2022-01-13T09:02:50.344960Z"
    },
    "collapsed": true
   },
   "outputs": [],
   "source": [
    "x3=np.empty((12*471,18*9))\n",
    "y3=np.empty((12*471,1))"
   ]
  },
  {
   "cell_type": "code",
   "execution_count": 36,
   "metadata": {
    "ExecuteTime": {
     "end_time": "2022-01-13T09:10:27.223092Z",
     "start_time": "2022-01-13T09:10:26.373043Z"
    }
   },
   "outputs": [],
   "source": [
    "for m in range(12):\n",
    "    for g in range(471):\n",
    "        x3[471*m+g:471*m+g+1,:]=all_train_data1.iloc[480*m:480*(m+1)].values[g:g+9,:].reshape(1,-1)\n",
    "        y3[471*m+g:471*m+g+1,:]=all_train_data1.iloc[480*m:480*(m+1)].values[g+9,9]"
   ]
  },
  {
   "cell_type": "code",
   "execution_count": 46,
   "metadata": {
    "ExecuteTime": {
     "end_time": "2022-01-13T09:17:08.524045Z",
     "start_time": "2022-01-13T09:17:08.513045Z"
    }
   },
   "outputs": [
    {
     "data": {
      "text/plain": [
       "array([-0.17958771,  0.5152735 , -0.09808389, -1.28947789,  6.73487971,\n",
       "        0.88180982, -1.15231349, -0.05789803, -1.40532054, -1.32942776])"
      ]
     },
     "execution_count": 46,
     "metadata": {},
     "output_type": "execute_result"
    }
   ],
   "source": [
    "x3[1,152:162]"
   ]
  },
  {
   "cell_type": "code",
   "execution_count": 41,
   "metadata": {
    "ExecuteTime": {
     "end_time": "2022-01-13T09:13:11.713500Z",
     "start_time": "2022-01-13T09:13:11.703500Z"
    }
   },
   "outputs": [
    {
     "data": {
      "text/plain": [
       "array([0.5152735])"
      ]
     },
     "execution_count": 41,
     "metadata": {},
     "output_type": "execute_result"
    }
   ],
   "source": [
    "y3[0]"
   ]
  },
  {
   "cell_type": "code",
   "execution_count": 45,
   "metadata": {
    "ExecuteTime": {
     "end_time": "2022-01-13T09:15:38.257882Z",
     "start_time": "2022-01-13T09:15:38.240881Z"
    }
   },
   "outputs": [
    {
     "data": {
      "text/plain": [
       "array([-1.35567676,  0.77917878,  0.37591913,  0.56928682, -0.54147467,\n",
       "        0.94932657,  0.6271863 , -0.85040131,  0.50685114,  0.27521402,\n",
       "       -0.09808389,  0.28221947, -0.53008068,  0.88180982, -1.24631231,\n",
       "       -1.30397195, -0.84215595, -1.1412249 , -1.35567676,  0.77917878,\n",
       "        0.06686953,  0.09148008, -0.67292936, -0.14965355, -0.32304112,\n",
       "       -0.10187773,  0.27803819,  1.05540732, -0.09808389, -0.39136512,\n",
       "       -0.42000552,  0.88180982, -0.79720683, -0.83933422, -0.46671288,\n",
       "       -0.76481918, -1.35567676,  0.77917878,  0.00505961, -0.09964261,\n",
       "       -0.7167476 , -0.31126827, -0.46821475, -0.26227564,  0.20176721,\n",
       "        0.87536271, -0.09808389, -0.46620785, -0.58511826,  0.88180982,\n",
       "       -1.03742604, -1.64822627, -1.21759901, -1.04712347, -1.51465542,\n",
       "        0.77917878, -0.05675031, -0.19520396, -0.19092882, -0.52136741,\n",
       "       -0.48141236, -0.47613952, -0.29399419,  0.81534784, -0.09808389,\n",
       "        0.05769127, -0.64015584,  0.33187212, -0.83898409, -1.09277298,\n",
       "       -1.59304207, -1.32942776, -1.67363409,  0.77917878, -0.11856023,\n",
       "       -0.29076531, -0.14711058, -0.53752889, -0.49460996, -0.42267355,\n",
       "       -0.6753491 ,  0.57528837, -0.09808389, -0.09199419, -0.4750431 ,\n",
       "        0.33187212, -0.48387743, -0.68093499, -0.56057365, -1.04712347,\n",
       "       -1.67363409,  0.77917878, -0.27308503, -0.76857205, -0.27856528,\n",
       "       -1.02237306, -0.91693326, -0.20880967, -1.1711105 ,  0.39524376,\n",
       "       -0.09808389, -0.01715146, -0.75023099, -0.21806557, -0.52565468,\n",
       "       -0.44861613,  0.19031248,  0.17619513, -1.67363409,  0.77917878,\n",
       "       -0.05675031, -0.38632666, -0.10329235, -0.52136741, -0.45501715,\n",
       "       -0.42267355, -1.47619443,  0.21519915, -0.09808389,  0.05769127,\n",
       "       -0.69519342,  0.33187212, -0.57787625, -0.55421561,  0.19031248,\n",
       "        0.27029656, -1.67363409,  0.77917878,  0.25229929, -0.09964261,\n",
       "        0.02816234, -0.37591416, -0.30984352, -0.52960549, -1.55246541,\n",
       "       -0.0848752 , -0.09808389, -0.01715146, -0.64015584,  0.33187212,\n",
       "       -0.54654331, -0.68093499, -0.27899135,  0.27029656, -1.19669809,\n",
       "        0.77917878,  1.21035305,  1.14265491,  1.95616454,  0.78771184,\n",
       "        1.28706645, -0.58307146, -1.20924599, -0.14489006, -0.09808389,\n",
       "       -0.54105058,  1.28615942,  1.43174751, -0.33765704,  0.7763379 ,\n",
       "       -1.59304207, -1.1412249 ])"
      ]
     },
     "execution_count": 45,
     "metadata": {},
     "output_type": "execute_result"
    }
   ],
   "source": [
    "x3[0]"
   ]
  },
  {
   "cell_type": "code",
   "execution_count": 43,
   "metadata": {
    "ExecuteTime": {
     "end_time": "2022-01-13T09:15:03.690905Z",
     "start_time": "2022-01-13T09:15:03.640902Z"
    }
   },
   "outputs": [
    {
     "data": {
      "text/html": [
       "<div>\n",
       "<style>\n",
       "    .dataframe thead tr:only-child th {\n",
       "        text-align: right;\n",
       "    }\n",
       "\n",
       "    .dataframe thead th {\n",
       "        text-align: left;\n",
       "    }\n",
       "\n",
       "    .dataframe tbody tr th {\n",
       "        vertical-align: top;\n",
       "    }\n",
       "</style>\n",
       "<table border=\"1\" class=\"dataframe\">\n",
       "  <thead>\n",
       "    <tr style=\"text-align: right;\">\n",
       "      <th></th>\n",
       "      <th>0</th>\n",
       "      <th>1</th>\n",
       "      <th>2</th>\n",
       "      <th>3</th>\n",
       "      <th>4</th>\n",
       "      <th>5</th>\n",
       "      <th>6</th>\n",
       "      <th>7</th>\n",
       "      <th>8</th>\n",
       "      <th>9</th>\n",
       "      <th>10</th>\n",
       "      <th>11</th>\n",
       "      <th>12</th>\n",
       "      <th>13</th>\n",
       "      <th>14</th>\n",
       "      <th>15</th>\n",
       "      <th>16</th>\n",
       "      <th>17</th>\n",
       "    </tr>\n",
       "  </thead>\n",
       "  <tbody>\n",
       "    <tr>\n",
       "      <th>0</th>\n",
       "      <td>-1.355677</td>\n",
       "      <td>0.779179</td>\n",
       "      <td>0.375919</td>\n",
       "      <td>0.569287</td>\n",
       "      <td>-0.541475</td>\n",
       "      <td>0.949327</td>\n",
       "      <td>0.627186</td>\n",
       "      <td>-0.850401</td>\n",
       "      <td>0.506851</td>\n",
       "      <td>0.275214</td>\n",
       "      <td>-0.098084</td>\n",
       "      <td>0.282219</td>\n",
       "      <td>-0.530081</td>\n",
       "      <td>0.881810</td>\n",
       "      <td>-1.246312</td>\n",
       "      <td>-1.303972</td>\n",
       "      <td>-0.842156</td>\n",
       "      <td>-1.141225</td>\n",
       "    </tr>\n",
       "    <tr>\n",
       "      <th>1</th>\n",
       "      <td>-1.355677</td>\n",
       "      <td>0.779179</td>\n",
       "      <td>0.066870</td>\n",
       "      <td>0.091480</td>\n",
       "      <td>-0.672929</td>\n",
       "      <td>-0.149654</td>\n",
       "      <td>-0.323041</td>\n",
       "      <td>-0.101878</td>\n",
       "      <td>0.278038</td>\n",
       "      <td>1.055407</td>\n",
       "      <td>-0.098084</td>\n",
       "      <td>-0.391365</td>\n",
       "      <td>-0.420006</td>\n",
       "      <td>0.881810</td>\n",
       "      <td>-0.797207</td>\n",
       "      <td>-0.839334</td>\n",
       "      <td>-0.466713</td>\n",
       "      <td>-0.764819</td>\n",
       "    </tr>\n",
       "    <tr>\n",
       "      <th>2</th>\n",
       "      <td>-1.355677</td>\n",
       "      <td>0.779179</td>\n",
       "      <td>0.005060</td>\n",
       "      <td>-0.099643</td>\n",
       "      <td>-0.716748</td>\n",
       "      <td>-0.311268</td>\n",
       "      <td>-0.468215</td>\n",
       "      <td>-0.262276</td>\n",
       "      <td>0.201767</td>\n",
       "      <td>0.875363</td>\n",
       "      <td>-0.098084</td>\n",
       "      <td>-0.466208</td>\n",
       "      <td>-0.585118</td>\n",
       "      <td>0.881810</td>\n",
       "      <td>-1.037426</td>\n",
       "      <td>-1.648226</td>\n",
       "      <td>-1.217599</td>\n",
       "      <td>-1.047123</td>\n",
       "    </tr>\n",
       "    <tr>\n",
       "      <th>3</th>\n",
       "      <td>-1.514655</td>\n",
       "      <td>0.779179</td>\n",
       "      <td>-0.056750</td>\n",
       "      <td>-0.195204</td>\n",
       "      <td>-0.190929</td>\n",
       "      <td>-0.521367</td>\n",
       "      <td>-0.481412</td>\n",
       "      <td>-0.476140</td>\n",
       "      <td>-0.293994</td>\n",
       "      <td>0.815348</td>\n",
       "      <td>-0.098084</td>\n",
       "      <td>0.057691</td>\n",
       "      <td>-0.640156</td>\n",
       "      <td>0.331872</td>\n",
       "      <td>-0.838984</td>\n",
       "      <td>-1.092773</td>\n",
       "      <td>-1.593042</td>\n",
       "      <td>-1.329428</td>\n",
       "    </tr>\n",
       "    <tr>\n",
       "      <th>4</th>\n",
       "      <td>-1.673634</td>\n",
       "      <td>0.779179</td>\n",
       "      <td>-0.118560</td>\n",
       "      <td>-0.290765</td>\n",
       "      <td>-0.147111</td>\n",
       "      <td>-0.537529</td>\n",
       "      <td>-0.494610</td>\n",
       "      <td>-0.422674</td>\n",
       "      <td>-0.675349</td>\n",
       "      <td>0.575288</td>\n",
       "      <td>-0.098084</td>\n",
       "      <td>-0.091994</td>\n",
       "      <td>-0.475043</td>\n",
       "      <td>0.331872</td>\n",
       "      <td>-0.483877</td>\n",
       "      <td>-0.680935</td>\n",
       "      <td>-0.560574</td>\n",
       "      <td>-1.047123</td>\n",
       "    </tr>\n",
       "    <tr>\n",
       "      <th>5</th>\n",
       "      <td>-1.673634</td>\n",
       "      <td>0.779179</td>\n",
       "      <td>-0.273085</td>\n",
       "      <td>-0.768572</td>\n",
       "      <td>-0.278565</td>\n",
       "      <td>-1.022373</td>\n",
       "      <td>-0.916933</td>\n",
       "      <td>-0.208810</td>\n",
       "      <td>-1.171110</td>\n",
       "      <td>0.395244</td>\n",
       "      <td>-0.098084</td>\n",
       "      <td>-0.017151</td>\n",
       "      <td>-0.750231</td>\n",
       "      <td>-0.218066</td>\n",
       "      <td>-0.525655</td>\n",
       "      <td>-0.448616</td>\n",
       "      <td>0.190312</td>\n",
       "      <td>0.176195</td>\n",
       "    </tr>\n",
       "    <tr>\n",
       "      <th>6</th>\n",
       "      <td>-1.673634</td>\n",
       "      <td>0.779179</td>\n",
       "      <td>-0.056750</td>\n",
       "      <td>-0.386327</td>\n",
       "      <td>-0.103292</td>\n",
       "      <td>-0.521367</td>\n",
       "      <td>-0.455017</td>\n",
       "      <td>-0.422674</td>\n",
       "      <td>-1.476194</td>\n",
       "      <td>0.215199</td>\n",
       "      <td>-0.098084</td>\n",
       "      <td>0.057691</td>\n",
       "      <td>-0.695193</td>\n",
       "      <td>0.331872</td>\n",
       "      <td>-0.577876</td>\n",
       "      <td>-0.554216</td>\n",
       "      <td>0.190312</td>\n",
       "      <td>0.270297</td>\n",
       "    </tr>\n",
       "    <tr>\n",
       "      <th>7</th>\n",
       "      <td>-1.673634</td>\n",
       "      <td>0.779179</td>\n",
       "      <td>0.252299</td>\n",
       "      <td>-0.099643</td>\n",
       "      <td>0.028162</td>\n",
       "      <td>-0.375914</td>\n",
       "      <td>-0.309844</td>\n",
       "      <td>-0.529605</td>\n",
       "      <td>-1.552465</td>\n",
       "      <td>-0.084875</td>\n",
       "      <td>-0.098084</td>\n",
       "      <td>-0.017151</td>\n",
       "      <td>-0.640156</td>\n",
       "      <td>0.331872</td>\n",
       "      <td>-0.546543</td>\n",
       "      <td>-0.680935</td>\n",
       "      <td>-0.278991</td>\n",
       "      <td>0.270297</td>\n",
       "    </tr>\n",
       "    <tr>\n",
       "      <th>8</th>\n",
       "      <td>-1.196698</td>\n",
       "      <td>0.779179</td>\n",
       "      <td>1.210353</td>\n",
       "      <td>1.142655</td>\n",
       "      <td>1.956165</td>\n",
       "      <td>0.787712</td>\n",
       "      <td>1.287066</td>\n",
       "      <td>-0.583071</td>\n",
       "      <td>-1.209246</td>\n",
       "      <td>-0.144890</td>\n",
       "      <td>-0.098084</td>\n",
       "      <td>-0.541051</td>\n",
       "      <td>1.286159</td>\n",
       "      <td>1.431748</td>\n",
       "      <td>-0.337657</td>\n",
       "      <td>0.776338</td>\n",
       "      <td>-1.593042</td>\n",
       "      <td>-1.141225</td>\n",
       "    </tr>\n",
       "    <tr>\n",
       "      <th>9</th>\n",
       "      <td>-0.878741</td>\n",
       "      <td>0.779179</td>\n",
       "      <td>1.086733</td>\n",
       "      <td>0.855971</td>\n",
       "      <td>2.525802</td>\n",
       "      <td>1.757400</td>\n",
       "      <td>2.210899</td>\n",
       "      <td>-0.155344</td>\n",
       "      <td>-0.179588</td>\n",
       "      <td>0.515273</td>\n",
       "      <td>-0.098084</td>\n",
       "      <td>-1.289478</td>\n",
       "      <td>6.734880</td>\n",
       "      <td>0.881810</td>\n",
       "      <td>-1.152313</td>\n",
       "      <td>-0.057898</td>\n",
       "      <td>-1.405321</td>\n",
       "      <td>-1.329428</td>\n",
       "    </tr>\n",
       "  </tbody>\n",
       "</table>\n",
       "</div>"
      ],
      "text/plain": [
       "         0         1         2         3         4         5         6   \\\n",
       "0 -1.355677  0.779179  0.375919  0.569287 -0.541475  0.949327  0.627186   \n",
       "1 -1.355677  0.779179  0.066870  0.091480 -0.672929 -0.149654 -0.323041   \n",
       "2 -1.355677  0.779179  0.005060 -0.099643 -0.716748 -0.311268 -0.468215   \n",
       "3 -1.514655  0.779179 -0.056750 -0.195204 -0.190929 -0.521367 -0.481412   \n",
       "4 -1.673634  0.779179 -0.118560 -0.290765 -0.147111 -0.537529 -0.494610   \n",
       "5 -1.673634  0.779179 -0.273085 -0.768572 -0.278565 -1.022373 -0.916933   \n",
       "6 -1.673634  0.779179 -0.056750 -0.386327 -0.103292 -0.521367 -0.455017   \n",
       "7 -1.673634  0.779179  0.252299 -0.099643  0.028162 -0.375914 -0.309844   \n",
       "8 -1.196698  0.779179  1.210353  1.142655  1.956165  0.787712  1.287066   \n",
       "9 -0.878741  0.779179  1.086733  0.855971  2.525802  1.757400  2.210899   \n",
       "\n",
       "         7         8         9         10        11        12        13  \\\n",
       "0 -0.850401  0.506851  0.275214 -0.098084  0.282219 -0.530081  0.881810   \n",
       "1 -0.101878  0.278038  1.055407 -0.098084 -0.391365 -0.420006  0.881810   \n",
       "2 -0.262276  0.201767  0.875363 -0.098084 -0.466208 -0.585118  0.881810   \n",
       "3 -0.476140 -0.293994  0.815348 -0.098084  0.057691 -0.640156  0.331872   \n",
       "4 -0.422674 -0.675349  0.575288 -0.098084 -0.091994 -0.475043  0.331872   \n",
       "5 -0.208810 -1.171110  0.395244 -0.098084 -0.017151 -0.750231 -0.218066   \n",
       "6 -0.422674 -1.476194  0.215199 -0.098084  0.057691 -0.695193  0.331872   \n",
       "7 -0.529605 -1.552465 -0.084875 -0.098084 -0.017151 -0.640156  0.331872   \n",
       "8 -0.583071 -1.209246 -0.144890 -0.098084 -0.541051  1.286159  1.431748   \n",
       "9 -0.155344 -0.179588  0.515273 -0.098084 -1.289478  6.734880  0.881810   \n",
       "\n",
       "         14        15        16        17  \n",
       "0 -1.246312 -1.303972 -0.842156 -1.141225  \n",
       "1 -0.797207 -0.839334 -0.466713 -0.764819  \n",
       "2 -1.037426 -1.648226 -1.217599 -1.047123  \n",
       "3 -0.838984 -1.092773 -1.593042 -1.329428  \n",
       "4 -0.483877 -0.680935 -0.560574 -1.047123  \n",
       "5 -0.525655 -0.448616  0.190312  0.176195  \n",
       "6 -0.577876 -0.554216  0.190312  0.270297  \n",
       "7 -0.546543 -0.680935 -0.278991  0.270297  \n",
       "8 -0.337657  0.776338 -1.593042 -1.141225  \n",
       "9 -1.152313 -0.057898 -1.405321 -1.329428  "
      ]
     },
     "execution_count": 43,
     "metadata": {},
     "output_type": "execute_result"
    }
   ],
   "source": [
    "all_train_data1.iloc[:10,:]"
   ]
  },
  {
   "cell_type": "code",
   "execution_count": 47,
   "metadata": {
    "ExecuteTime": {
     "end_time": "2022-01-13T09:18:06.989389Z",
     "start_time": "2022-01-13T09:18:06.977389Z"
    }
   },
   "outputs": [
    {
     "data": {
      "text/plain": [
       "array([-0.59907812, -0.62500902, -0.09808389, -0.01715146, -0.91534373,\n",
       "       -0.21806557, -1.18364643,  1.62113377, -0.84215595, -0.95302204])"
      ]
     },
     "execution_count": 47,
     "metadata": {},
     "output_type": "execute_result"
    }
   ],
   "source": [
    "x3[5000,152:162]"
   ]
  },
  {
   "cell_type": "code",
   "execution_count": 48,
   "metadata": {
    "ExecuteTime": {
     "end_time": "2022-01-13T09:18:08.891498Z",
     "start_time": "2022-01-13T09:18:08.881497Z"
    }
   },
   "outputs": [
    {
     "data": {
      "text/plain": [
       "array([-0.62500902])"
      ]
     },
     "execution_count": 48,
     "metadata": {},
     "output_type": "execute_result"
    }
   ],
   "source": [
    "y3[4999]"
   ]
  },
  {
   "cell_type": "code",
   "execution_count": 52,
   "metadata": {
    "ExecuteTime": {
     "end_time": "2022-01-13T09:19:08.953933Z",
     "start_time": "2022-01-13T09:19:08.616914Z"
    }
   },
   "outputs": [
    {
     "name": "stdout",
     "output_type": "stream",
     "text": [
      "score :  0.12661058827144347\n"
     ]
    }
   ],
   "source": [
    "lasso=Lasso(alpha=0.005)\n",
    "kf=KFold(n_splits=5,shuffle=True,random_state=10).split(x3)\n",
    "score = cross_val_score(lasso,x3,y3,scoring='neg_mean_squared_error',cv=kf)\n",
    "print('score : ',np.mean(-score))"
   ]
  },
  {
   "cell_type": "code",
   "execution_count": 56,
   "metadata": {
    "ExecuteTime": {
     "end_time": "2022-01-13T09:22:29.113382Z",
     "start_time": "2022-01-13T09:22:29.105381Z"
    },
    "collapsed": true
   },
   "outputs": [],
   "source": [
    "from sklearn import linear_model\n",
    "from sklearn.metrics import mean_squared_error\n",
    "from sklearn.model_selection import KFold,cross_val_score"
   ]
  },
  {
   "cell_type": "code",
   "execution_count": 57,
   "metadata": {
    "ExecuteTime": {
     "end_time": "2022-01-13T09:22:29.732417Z",
     "start_time": "2022-01-13T09:22:29.704416Z"
    },
    "collapsed": true
   },
   "outputs": [],
   "source": [
    "data_idx=list(range(len(x3)))\n",
    "np.random.shuffle(data_idx)\n",
    "x_train=x3[data_idx[500:]]\n",
    "y_train=y3[data_idx[500:]]\n",
    "x_test=x3[data_idx[:500]]\n",
    "y_test=y3[data_idx[:500]]"
   ]
  },
  {
   "cell_type": "code",
   "execution_count": 58,
   "metadata": {
    "ExecuteTime": {
     "end_time": "2022-01-13T09:22:30.389455Z",
     "start_time": "2022-01-13T09:22:30.297450Z"
    }
   },
   "outputs": [
    {
     "name": "stdout",
     "output_type": "stream",
     "text": [
      "0.14281836291740085\n"
     ]
    }
   ],
   "source": [
    "LR = linear_model.LinearRegression()\n",
    "LR.fit(x_train, y_train)\n",
    "y_pred = LR.predict(x_test)\n",
    "print(mean_squared_error(y_pred, y_test))"
   ]
  },
  {
   "cell_type": "code",
   "execution_count": 63,
   "metadata": {
    "ExecuteTime": {
     "end_time": "2022-01-13T09:37:43.007654Z",
     "start_time": "2022-01-13T09:37:42.996653Z"
    }
   },
   "outputs": [
    {
     "data": {
      "text/plain": [
       "array([18.])"
      ]
     },
     "execution_count": 63,
     "metadata": {},
     "output_type": "execute_result"
    }
   ],
   "source": [
    "y[3700]"
   ]
  },
  {
   "cell_type": "code",
   "execution_count": 64,
   "metadata": {
    "ExecuteTime": {
     "end_time": "2022-01-13T09:37:44.125718Z",
     "start_time": "2022-01-13T09:37:44.121717Z"
    }
   },
   "outputs": [
    {
     "data": {
      "text/plain": [
       "array([-0.20490493])"
      ]
     },
     "execution_count": 64,
     "metadata": {},
     "output_type": "execute_result"
    }
   ],
   "source": [
    "y3[3700]"
   ]
  },
  {
   "cell_type": "code",
   "execution_count": null,
   "metadata": {
    "collapsed": true
   },
   "outputs": [],
   "source": [
    "21.414236,16.662537"
   ]
  },
  {
   "cell_type": "code",
   "execution_count": 65,
   "metadata": {
    "ExecuteTime": {
     "end_time": "2022-01-13T09:37:52.933221Z",
     "start_time": "2022-01-13T09:37:52.922221Z"
    }
   },
   "outputs": [
    {
     "data": {
      "text/plain": [
       "-0.20490493134388832"
      ]
     },
     "execution_count": 65,
     "metadata": {},
     "output_type": "execute_result"
    }
   ],
   "source": [
    "(18-21.414236)/16.662537"
   ]
  },
  {
   "cell_type": "code",
   "execution_count": 66,
   "metadata": {
    "ExecuteTime": {
     "end_time": "2022-01-13T09:45:46.869329Z",
     "start_time": "2022-01-13T09:45:46.707320Z"
    }
   },
   "outputs": [
    {
     "name": "stdout",
     "output_type": "stream",
     "text": [
      "39.65211192109832\n"
     ]
    }
   ],
   "source": [
    "LR2 = linear_model.LinearRegression()\n",
    "y_pred_train=LR.predict(x_train)\n",
    "LR2.fit(y_pred_train, y[data_idx[500:]])\n",
    "y_pred_test = LR2.predict(y_pred)\n",
    "print(mean_squared_error(y_pred_test, y[data_idx[:500]]))"
   ]
  },
  {
   "cell_type": "code",
   "execution_count": null,
   "metadata": {
    "collapsed": true
   },
   "outputs": [],
   "source": []
  }
 ],
 "metadata": {
  "kernelspec": {
   "display_name": "Python 3",
   "language": "python",
   "name": "python3"
  },
  "language_info": {
   "codemirror_mode": {
    "name": "ipython",
    "version": 3
   },
   "file_extension": ".py",
   "mimetype": "text/x-python",
   "name": "python",
   "nbconvert_exporter": "python",
   "pygments_lexer": "ipython3",
   "version": "3.6.3"
  }
 },
 "nbformat": 4,
 "nbformat_minor": 2
}
