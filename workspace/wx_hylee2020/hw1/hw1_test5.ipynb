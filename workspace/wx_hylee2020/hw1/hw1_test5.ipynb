{
 "cells": [
  {
   "cell_type": "code",
   "execution_count": 1,
   "metadata": {
    "ExecuteTime": {
     "end_time": "2021-10-27T02:10:24.982514Z",
     "start_time": "2021-10-27T02:10:13.516858Z"
    },
    "collapsed": true
   },
   "outputs": [],
   "source": [
    "import numpy as np\n",
    "import torch \n",
    "import pandas as pd\n",
    "import torchvision\n",
    "from torch import optim,nn"
   ]
  },
  {
   "cell_type": "code",
   "execution_count": 2,
   "metadata": {
    "ExecuteTime": {
     "end_time": "2021-10-27T02:10:25.398538Z",
     "start_time": "2021-10-27T02:10:24.988514Z"
    },
    "collapsed": true
   },
   "outputs": [],
   "source": [
    "train_data=pd.read_csv(r'F:\\study\\ml\\HonyiLee2020\\hw1\\data\\train.csv',encoding='big5')\n",
    "test_data=pd.read_csv(r'F:\\study\\ml\\HonyiLee2020\\hw1\\data\\test.csv',encoding='big5',header=None)"
   ]
  },
  {
   "cell_type": "code",
   "execution_count": 3,
   "metadata": {
    "ExecuteTime": {
     "end_time": "2021-10-27T02:10:39.902367Z",
     "start_time": "2021-10-27T02:10:39.881366Z"
    }
   },
   "outputs": [
    {
     "data": {
      "text/plain": [
       "(4320, 27)"
      ]
     },
     "execution_count": 3,
     "metadata": {},
     "output_type": "execute_result"
    }
   ],
   "source": [
    "train_data.shape"
   ]
  },
  {
   "cell_type": "code",
   "execution_count": 4,
   "metadata": {
    "ExecuteTime": {
     "end_time": "2021-10-27T02:10:40.588407Z",
     "start_time": "2021-10-27T02:10:40.577406Z"
    }
   },
   "outputs": [
    {
     "data": {
      "text/plain": [
       "(4320, 11)"
      ]
     },
     "execution_count": 4,
     "metadata": {},
     "output_type": "execute_result"
    }
   ],
   "source": [
    "test_data.shape"
   ]
  },
  {
   "cell_type": "code",
   "execution_count": 5,
   "metadata": {
    "ExecuteTime": {
     "end_time": "2021-10-27T02:10:41.479458Z",
     "start_time": "2021-10-27T02:10:41.431455Z"
    }
   },
   "outputs": [
    {
     "data": {
      "text/html": [
       "<div>\n",
       "<style>\n",
       "    .dataframe thead tr:only-child th {\n",
       "        text-align: right;\n",
       "    }\n",
       "\n",
       "    .dataframe thead th {\n",
       "        text-align: left;\n",
       "    }\n",
       "\n",
       "    .dataframe tbody tr th {\n",
       "        vertical-align: top;\n",
       "    }\n",
       "</style>\n",
       "<table border=\"1\" class=\"dataframe\">\n",
       "  <thead>\n",
       "    <tr style=\"text-align: right;\">\n",
       "      <th></th>\n",
       "      <th>日期</th>\n",
       "      <th>測站</th>\n",
       "      <th>測項</th>\n",
       "      <th>0</th>\n",
       "      <th>1</th>\n",
       "      <th>2</th>\n",
       "      <th>3</th>\n",
       "      <th>4</th>\n",
       "      <th>5</th>\n",
       "      <th>6</th>\n",
       "      <th>...</th>\n",
       "      <th>14</th>\n",
       "      <th>15</th>\n",
       "      <th>16</th>\n",
       "      <th>17</th>\n",
       "      <th>18</th>\n",
       "      <th>19</th>\n",
       "      <th>20</th>\n",
       "      <th>21</th>\n",
       "      <th>22</th>\n",
       "      <th>23</th>\n",
       "    </tr>\n",
       "  </thead>\n",
       "  <tbody>\n",
       "    <tr>\n",
       "      <th>0</th>\n",
       "      <td>2014/1/1</td>\n",
       "      <td>豐原</td>\n",
       "      <td>AMB_TEMP</td>\n",
       "      <td>14</td>\n",
       "      <td>14</td>\n",
       "      <td>14</td>\n",
       "      <td>13</td>\n",
       "      <td>12</td>\n",
       "      <td>12</td>\n",
       "      <td>12</td>\n",
       "      <td>...</td>\n",
       "      <td>22</td>\n",
       "      <td>22</td>\n",
       "      <td>21</td>\n",
       "      <td>19</td>\n",
       "      <td>17</td>\n",
       "      <td>16</td>\n",
       "      <td>15</td>\n",
       "      <td>15</td>\n",
       "      <td>15</td>\n",
       "      <td>15</td>\n",
       "    </tr>\n",
       "    <tr>\n",
       "      <th>1</th>\n",
       "      <td>2014/1/1</td>\n",
       "      <td>豐原</td>\n",
       "      <td>CH4</td>\n",
       "      <td>1.8</td>\n",
       "      <td>1.8</td>\n",
       "      <td>1.8</td>\n",
       "      <td>1.8</td>\n",
       "      <td>1.8</td>\n",
       "      <td>1.8</td>\n",
       "      <td>1.8</td>\n",
       "      <td>...</td>\n",
       "      <td>1.8</td>\n",
       "      <td>1.8</td>\n",
       "      <td>1.8</td>\n",
       "      <td>1.8</td>\n",
       "      <td>1.8</td>\n",
       "      <td>1.8</td>\n",
       "      <td>1.8</td>\n",
       "      <td>1.8</td>\n",
       "      <td>1.8</td>\n",
       "      <td>1.8</td>\n",
       "    </tr>\n",
       "    <tr>\n",
       "      <th>2</th>\n",
       "      <td>2014/1/1</td>\n",
       "      <td>豐原</td>\n",
       "      <td>CO</td>\n",
       "      <td>0.51</td>\n",
       "      <td>0.41</td>\n",
       "      <td>0.39</td>\n",
       "      <td>0.37</td>\n",
       "      <td>0.35</td>\n",
       "      <td>0.3</td>\n",
       "      <td>0.37</td>\n",
       "      <td>...</td>\n",
       "      <td>0.37</td>\n",
       "      <td>0.37</td>\n",
       "      <td>0.47</td>\n",
       "      <td>0.69</td>\n",
       "      <td>0.56</td>\n",
       "      <td>0.45</td>\n",
       "      <td>0.38</td>\n",
       "      <td>0.35</td>\n",
       "      <td>0.36</td>\n",
       "      <td>0.32</td>\n",
       "    </tr>\n",
       "    <tr>\n",
       "      <th>3</th>\n",
       "      <td>2014/1/1</td>\n",
       "      <td>豐原</td>\n",
       "      <td>NMHC</td>\n",
       "      <td>0.2</td>\n",
       "      <td>0.15</td>\n",
       "      <td>0.13</td>\n",
       "      <td>0.12</td>\n",
       "      <td>0.11</td>\n",
       "      <td>0.06</td>\n",
       "      <td>0.1</td>\n",
       "      <td>...</td>\n",
       "      <td>0.1</td>\n",
       "      <td>0.13</td>\n",
       "      <td>0.14</td>\n",
       "      <td>0.23</td>\n",
       "      <td>0.18</td>\n",
       "      <td>0.12</td>\n",
       "      <td>0.1</td>\n",
       "      <td>0.09</td>\n",
       "      <td>0.1</td>\n",
       "      <td>0.08</td>\n",
       "    </tr>\n",
       "    <tr>\n",
       "      <th>4</th>\n",
       "      <td>2014/1/1</td>\n",
       "      <td>豐原</td>\n",
       "      <td>NO</td>\n",
       "      <td>0.9</td>\n",
       "      <td>0.6</td>\n",
       "      <td>0.5</td>\n",
       "      <td>1.7</td>\n",
       "      <td>1.8</td>\n",
       "      <td>1.5</td>\n",
       "      <td>1.9</td>\n",
       "      <td>...</td>\n",
       "      <td>2.5</td>\n",
       "      <td>2.2</td>\n",
       "      <td>2.5</td>\n",
       "      <td>2.3</td>\n",
       "      <td>2.1</td>\n",
       "      <td>1.9</td>\n",
       "      <td>1.5</td>\n",
       "      <td>1.6</td>\n",
       "      <td>1.8</td>\n",
       "      <td>1.5</td>\n",
       "    </tr>\n",
       "  </tbody>\n",
       "</table>\n",
       "<p>5 rows × 27 columns</p>\n",
       "</div>"
      ],
      "text/plain": [
       "         日期  測站        測項     0     1     2     3     4     5     6  ...   \\\n",
       "0  2014/1/1  豐原  AMB_TEMP    14    14    14    13    12    12    12  ...    \n",
       "1  2014/1/1  豐原       CH4   1.8   1.8   1.8   1.8   1.8   1.8   1.8  ...    \n",
       "2  2014/1/1  豐原        CO  0.51  0.41  0.39  0.37  0.35   0.3  0.37  ...    \n",
       "3  2014/1/1  豐原      NMHC   0.2  0.15  0.13  0.12  0.11  0.06   0.1  ...    \n",
       "4  2014/1/1  豐原        NO   0.9   0.6   0.5   1.7   1.8   1.5   1.9  ...    \n",
       "\n",
       "     14    15    16    17    18    19    20    21    22    23  \n",
       "0    22    22    21    19    17    16    15    15    15    15  \n",
       "1   1.8   1.8   1.8   1.8   1.8   1.8   1.8   1.8   1.8   1.8  \n",
       "2  0.37  0.37  0.47  0.69  0.56  0.45  0.38  0.35  0.36  0.32  \n",
       "3   0.1  0.13  0.14  0.23  0.18  0.12   0.1  0.09   0.1  0.08  \n",
       "4   2.5   2.2   2.5   2.3   2.1   1.9   1.5   1.6   1.8   1.5  \n",
       "\n",
       "[5 rows x 27 columns]"
      ]
     },
     "execution_count": 5,
     "metadata": {},
     "output_type": "execute_result"
    }
   ],
   "source": [
    "train_data.head()"
   ]
  },
  {
   "cell_type": "code",
   "execution_count": 6,
   "metadata": {
    "ExecuteTime": {
     "end_time": "2021-10-27T02:10:41.737472Z",
     "start_time": "2021-10-27T02:10:41.708471Z"
    }
   },
   "outputs": [
    {
     "data": {
      "text/html": [
       "<div>\n",
       "<style>\n",
       "    .dataframe thead tr:only-child th {\n",
       "        text-align: right;\n",
       "    }\n",
       "\n",
       "    .dataframe thead th {\n",
       "        text-align: left;\n",
       "    }\n",
       "\n",
       "    .dataframe tbody tr th {\n",
       "        vertical-align: top;\n",
       "    }\n",
       "</style>\n",
       "<table border=\"1\" class=\"dataframe\">\n",
       "  <thead>\n",
       "    <tr style=\"text-align: right;\">\n",
       "      <th></th>\n",
       "      <th>0</th>\n",
       "      <th>1</th>\n",
       "      <th>2</th>\n",
       "      <th>3</th>\n",
       "      <th>4</th>\n",
       "      <th>5</th>\n",
       "      <th>6</th>\n",
       "      <th>7</th>\n",
       "      <th>8</th>\n",
       "      <th>9</th>\n",
       "      <th>10</th>\n",
       "    </tr>\n",
       "  </thead>\n",
       "  <tbody>\n",
       "    <tr>\n",
       "      <th>0</th>\n",
       "      <td>id_0</td>\n",
       "      <td>AMB_TEMP</td>\n",
       "      <td>21</td>\n",
       "      <td>21</td>\n",
       "      <td>20</td>\n",
       "      <td>20</td>\n",
       "      <td>19</td>\n",
       "      <td>19</td>\n",
       "      <td>19</td>\n",
       "      <td>18</td>\n",
       "      <td>17</td>\n",
       "    </tr>\n",
       "    <tr>\n",
       "      <th>1</th>\n",
       "      <td>id_0</td>\n",
       "      <td>CH4</td>\n",
       "      <td>1.7</td>\n",
       "      <td>1.7</td>\n",
       "      <td>1.7</td>\n",
       "      <td>1.7</td>\n",
       "      <td>1.7</td>\n",
       "      <td>1.7</td>\n",
       "      <td>1.7</td>\n",
       "      <td>1.7</td>\n",
       "      <td>1.8</td>\n",
       "    </tr>\n",
       "    <tr>\n",
       "      <th>2</th>\n",
       "      <td>id_0</td>\n",
       "      <td>CO</td>\n",
       "      <td>0.39</td>\n",
       "      <td>0.36</td>\n",
       "      <td>0.36</td>\n",
       "      <td>0.4</td>\n",
       "      <td>0.53</td>\n",
       "      <td>0.55</td>\n",
       "      <td>0.34</td>\n",
       "      <td>0.31</td>\n",
       "      <td>0.23</td>\n",
       "    </tr>\n",
       "    <tr>\n",
       "      <th>3</th>\n",
       "      <td>id_0</td>\n",
       "      <td>NMHC</td>\n",
       "      <td>0.16</td>\n",
       "      <td>0.24</td>\n",
       "      <td>0.22</td>\n",
       "      <td>0.27</td>\n",
       "      <td>0.27</td>\n",
       "      <td>0.26</td>\n",
       "      <td>0.27</td>\n",
       "      <td>0.29</td>\n",
       "      <td>0.1</td>\n",
       "    </tr>\n",
       "    <tr>\n",
       "      <th>4</th>\n",
       "      <td>id_0</td>\n",
       "      <td>NO</td>\n",
       "      <td>1.3</td>\n",
       "      <td>1.3</td>\n",
       "      <td>1.3</td>\n",
       "      <td>1.3</td>\n",
       "      <td>1.4</td>\n",
       "      <td>1.6</td>\n",
       "      <td>1.2</td>\n",
       "      <td>1.1</td>\n",
       "      <td>0.9</td>\n",
       "    </tr>\n",
       "  </tbody>\n",
       "</table>\n",
       "</div>"
      ],
      "text/plain": [
       "     0         1     2     3     4     5     6     7     8     9     10\n",
       "0  id_0  AMB_TEMP    21    21    20    20    19    19    19    18    17\n",
       "1  id_0       CH4   1.7   1.7   1.7   1.7   1.7   1.7   1.7   1.7   1.8\n",
       "2  id_0        CO  0.39  0.36  0.36   0.4  0.53  0.55  0.34  0.31  0.23\n",
       "3  id_0      NMHC  0.16  0.24  0.22  0.27  0.27  0.26  0.27  0.29   0.1\n",
       "4  id_0        NO   1.3   1.3   1.3   1.3   1.4   1.6   1.2   1.1   0.9"
      ]
     },
     "execution_count": 6,
     "metadata": {},
     "output_type": "execute_result"
    }
   ],
   "source": [
    "test_data.head()"
   ]
  },
  {
   "cell_type": "code",
   "execution_count": 7,
   "metadata": {
    "ExecuteTime": {
     "end_time": "2021-10-27T02:10:42.305505Z",
     "start_time": "2021-10-27T02:10:42.297504Z"
    },
    "collapsed": true
   },
   "outputs": [],
   "source": [
    "train_data1=train_data.iloc[:,3:]"
   ]
  },
  {
   "cell_type": "markdown",
   "metadata": {},
   "source": [
    " - split train_data1 to 18 ,每个月20天,每天24小时,每小时18个特征\n",
    " - transform to 18,24*20"
   ]
  },
  {
   "cell_type": "code",
   "execution_count": 8,
   "metadata": {
    "ExecuteTime": {
     "end_time": "2021-10-27T02:10:44.878652Z",
     "start_time": "2021-10-27T02:10:44.841650Z"
    },
    "collapsed": true
   },
   "outputs": [],
   "source": [
    "train_data1=train_data1.replace('NR',0)"
   ]
  },
  {
   "cell_type": "code",
   "execution_count": 9,
   "metadata": {
    "ExecuteTime": {
     "end_time": "2021-10-27T02:10:45.470686Z",
     "start_time": "2021-10-27T02:10:45.379681Z"
    },
    "collapsed": true
   },
   "outputs": [],
   "source": [
    "month_data={}\n",
    "for m in range(12):\n",
    "    sample_data=np.empty((18,480),dtype=np.float)\n",
    "    for d in range(20):\n",
    "        sample_data[:,24*d:24*(d+1)]=train_data1.iloc[18*(m*20+d):18*(m*20+d+1),:]\n",
    "    month_data[m]=sample_data"
   ]
  },
  {
   "cell_type": "code",
   "execution_count": 10,
   "metadata": {
    "ExecuteTime": {
     "end_time": "2021-10-27T02:10:45.788704Z",
     "start_time": "2021-10-27T02:10:45.778703Z"
    }
   },
   "outputs": [
    {
     "data": {
      "text/plain": [
       "(18, 480)"
      ]
     },
     "execution_count": 10,
     "metadata": {},
     "output_type": "execute_result"
    }
   ],
   "source": [
    "month_data[0].shape"
   ]
  },
  {
   "cell_type": "markdown",
   "metadata": {
    "ExecuteTime": {
     "end_time": "2021-10-22T08:44:01.090339Z",
     "start_time": "2021-10-22T08:44:01.085339Z"
    }
   },
   "source": [
    "- from 9 hour data to predict No. 10 hour data\n",
    "- split group per 9 hours data \n",
    "- 20 * 24 -9 = 471 groups per month\n",
    "- 471,9 * 18 per month\n",
    "- 12 * 471,9*18"
   ]
  },
  {
   "cell_type": "code",
   "execution_count": 11,
   "metadata": {
    "ExecuteTime": {
     "end_time": "2021-10-27T02:10:46.711757Z",
     "start_time": "2021-10-27T02:10:46.704756Z"
    },
    "collapsed": true
   },
   "outputs": [],
   "source": [
    "x=np.empty((12*471,9*18))\n",
    "y=np.empty((12*471,1))"
   ]
  },
  {
   "cell_type": "code",
   "execution_count": 12,
   "metadata": {
    "ExecuteTime": {
     "end_time": "2021-10-27T02:10:47.188784Z",
     "start_time": "2021-10-27T02:10:47.129781Z"
    },
    "collapsed": true
   },
   "outputs": [],
   "source": [
    "for m in range(12):\n",
    "    for d in range(471):\n",
    "#         print(m,d)\n",
    "#         print(month_data[m][:,9*d:9*(d+1)].shape)\n",
    "        x[m*471+d:m*471+(d+1),:]=month_data[m][:,d:9+d].reshape(1,-1)\n",
    "        y[m*471+d:m*471+(d+1),0]=month_data[m][9,9+d]"
   ]
  },
  {
   "cell_type": "code",
   "execution_count": 13,
   "metadata": {
    "ExecuteTime": {
     "end_time": "2021-10-27T02:10:47.763817Z",
     "start_time": "2021-10-27T02:10:47.644810Z"
    }
   },
   "outputs": [
    {
     "data": {
      "text/html": [
       "<div>\n",
       "<style>\n",
       "    .dataframe thead tr:only-child th {\n",
       "        text-align: right;\n",
       "    }\n",
       "\n",
       "    .dataframe thead th {\n",
       "        text-align: left;\n",
       "    }\n",
       "\n",
       "    .dataframe tbody tr th {\n",
       "        vertical-align: top;\n",
       "    }\n",
       "</style>\n",
       "<table border=\"1\" class=\"dataframe\">\n",
       "  <thead>\n",
       "    <tr style=\"text-align: right;\">\n",
       "      <th></th>\n",
       "      <th>0</th>\n",
       "      <th>1</th>\n",
       "      <th>2</th>\n",
       "      <th>3</th>\n",
       "      <th>4</th>\n",
       "      <th>5</th>\n",
       "      <th>6</th>\n",
       "      <th>7</th>\n",
       "      <th>8</th>\n",
       "      <th>9</th>\n",
       "      <th>...</th>\n",
       "      <th>152</th>\n",
       "      <th>153</th>\n",
       "      <th>154</th>\n",
       "      <th>155</th>\n",
       "      <th>156</th>\n",
       "      <th>157</th>\n",
       "      <th>158</th>\n",
       "      <th>159</th>\n",
       "      <th>160</th>\n",
       "      <th>161</th>\n",
       "    </tr>\n",
       "  </thead>\n",
       "  <tbody>\n",
       "    <tr>\n",
       "      <th>0</th>\n",
       "      <td>-1.358133</td>\n",
       "      <td>-1.358719</td>\n",
       "      <td>-1.359102</td>\n",
       "      <td>-1.517992</td>\n",
       "      <td>-1.676543</td>\n",
       "      <td>-1.675830</td>\n",
       "      <td>-1.675028</td>\n",
       "      <td>-1.674061</td>\n",
       "      <td>-1.197040</td>\n",
       "      <td>0.775375</td>\n",
       "      <td>...</td>\n",
       "      <td>-1.598482</td>\n",
       "      <td>-1.138872</td>\n",
       "      <td>-0.764102</td>\n",
       "      <td>-1.044615</td>\n",
       "      <td>-1.324452</td>\n",
       "      <td>-1.043850</td>\n",
       "      <td>0.173173</td>\n",
       "      <td>0.266484</td>\n",
       "      <td>0.265656</td>\n",
       "      <td>-1.140720</td>\n",
       "    </tr>\n",
       "    <tr>\n",
       "      <th>1</th>\n",
       "      <td>-1.358133</td>\n",
       "      <td>-1.358719</td>\n",
       "      <td>-1.518065</td>\n",
       "      <td>-1.676883</td>\n",
       "      <td>-1.676543</td>\n",
       "      <td>-1.675830</td>\n",
       "      <td>-1.675028</td>\n",
       "      <td>-1.198262</td>\n",
       "      <td>-0.880015</td>\n",
       "      <td>0.775375</td>\n",
       "      <td>...</td>\n",
       "      <td>-1.411100</td>\n",
       "      <td>-0.763602</td>\n",
       "      <td>-1.045549</td>\n",
       "      <td>-1.325864</td>\n",
       "      <td>-1.043502</td>\n",
       "      <td>0.173616</td>\n",
       "      <td>0.266881</td>\n",
       "      <td>0.266484</td>\n",
       "      <td>-1.139531</td>\n",
       "      <td>-1.328212</td>\n",
       "    </tr>\n",
       "    <tr>\n",
       "      <th>2</th>\n",
       "      <td>-1.358133</td>\n",
       "      <td>-1.517759</td>\n",
       "      <td>-1.677028</td>\n",
       "      <td>-1.676883</td>\n",
       "      <td>-1.676543</td>\n",
       "      <td>-1.675830</td>\n",
       "      <td>-1.198999</td>\n",
       "      <td>-0.881062</td>\n",
       "      <td>-0.404478</td>\n",
       "      <td>0.775375</td>\n",
       "      <td>...</td>\n",
       "      <td>-0.661572</td>\n",
       "      <td>-1.045054</td>\n",
       "      <td>-1.326996</td>\n",
       "      <td>-1.044615</td>\n",
       "      <td>0.173945</td>\n",
       "      <td>0.267267</td>\n",
       "      <td>0.266881</td>\n",
       "      <td>-1.139134</td>\n",
       "      <td>-1.326889</td>\n",
       "      <td>-0.859484</td>\n",
       "    </tr>\n",
       "    <tr>\n",
       "      <th>3</th>\n",
       "      <td>-1.517230</td>\n",
       "      <td>-1.676800</td>\n",
       "      <td>-1.677028</td>\n",
       "      <td>-1.676883</td>\n",
       "      <td>-1.676543</td>\n",
       "      <td>-1.199572</td>\n",
       "      <td>-0.881646</td>\n",
       "      <td>-0.405263</td>\n",
       "      <td>-0.087454</td>\n",
       "      <td>0.775375</td>\n",
       "      <td>...</td>\n",
       "      <td>-0.380499</td>\n",
       "      <td>-1.326506</td>\n",
       "      <td>-1.045549</td>\n",
       "      <td>0.174130</td>\n",
       "      <td>0.267594</td>\n",
       "      <td>0.267267</td>\n",
       "      <td>-1.138731</td>\n",
       "      <td>-1.326549</td>\n",
       "      <td>-0.858493</td>\n",
       "      <td>-0.484501</td>\n",
       "    </tr>\n",
       "    <tr>\n",
       "      <th>4</th>\n",
       "      <td>-1.676327</td>\n",
       "      <td>-1.676800</td>\n",
       "      <td>-1.677028</td>\n",
       "      <td>-1.676883</td>\n",
       "      <td>-1.200071</td>\n",
       "      <td>-0.882066</td>\n",
       "      <td>-0.405616</td>\n",
       "      <td>-0.088063</td>\n",
       "      <td>-0.087454</td>\n",
       "      <td>0.775375</td>\n",
       "      <td>...</td>\n",
       "      <td>-0.193117</td>\n",
       "      <td>-1.045054</td>\n",
       "      <td>0.174053</td>\n",
       "      <td>0.267880</td>\n",
       "      <td>0.267594</td>\n",
       "      <td>-1.137501</td>\n",
       "      <td>-1.326146</td>\n",
       "      <td>-0.858010</td>\n",
       "      <td>-0.483777</td>\n",
       "      <td>0.265463</td>\n",
       "    </tr>\n",
       "  </tbody>\n",
       "</table>\n",
       "<p>5 rows × 162 columns</p>\n",
       "</div>"
      ],
      "text/plain": [
       "        0         1         2         3         4         5         6    \\\n",
       "0 -1.358133 -1.358719 -1.359102 -1.517992 -1.676543 -1.675830 -1.675028   \n",
       "1 -1.358133 -1.358719 -1.518065 -1.676883 -1.676543 -1.675830 -1.675028   \n",
       "2 -1.358133 -1.517759 -1.677028 -1.676883 -1.676543 -1.675830 -1.198999   \n",
       "3 -1.517230 -1.676800 -1.677028 -1.676883 -1.676543 -1.199572 -0.881646   \n",
       "4 -1.676327 -1.676800 -1.677028 -1.676883 -1.200071 -0.882066 -0.405616   \n",
       "\n",
       "        7         8         9      ...          152       153       154  \\\n",
       "0 -1.674061 -1.197040  0.775375    ...    -1.598482 -1.138872 -0.764102   \n",
       "1 -1.198262 -0.880015  0.775375    ...    -1.411100 -0.763602 -1.045549   \n",
       "2 -0.881062 -0.404478  0.775375    ...    -0.661572 -1.045054 -1.326996   \n",
       "3 -0.405263 -0.087454  0.775375    ...    -0.380499 -1.326506 -1.045549   \n",
       "4 -0.088063 -0.087454  0.775375    ...    -0.193117 -1.045054  0.174053   \n",
       "\n",
       "        155       156       157       158       159       160       161  \n",
       "0 -1.044615 -1.324452 -1.043850  0.173173  0.266484  0.265656 -1.140720  \n",
       "1 -1.325864 -1.043502  0.173616  0.266881  0.266484 -1.139531 -1.328212  \n",
       "2 -1.044615  0.173945  0.267267  0.266881 -1.139134 -1.326889 -0.859484  \n",
       "3  0.174130  0.267594  0.267267 -1.138731 -1.326549 -0.858493 -0.484501  \n",
       "4  0.267880  0.267594 -1.137501 -1.326146 -0.858010 -0.483777  0.265463  \n",
       "\n",
       "[5 rows x 162 columns]"
      ]
     },
     "execution_count": 13,
     "metadata": {},
     "output_type": "execute_result"
    }
   ],
   "source": [
    "x1=pd.DataFrame(x)\n",
    "x1=x1.apply(lambda x: (x-x.mean())/x.std())\n",
    "x1.head()"
   ]
  },
  {
   "cell_type": "code",
   "execution_count": 15,
   "metadata": {
    "ExecuteTime": {
     "end_time": "2021-10-26T09:39:48.788432Z",
     "start_time": "2021-10-26T09:39:48.558419Z"
    },
    "collapsed": true
   },
   "outputs": [],
   "source": [
    "x2=torch.Tensor(x1.values)\n",
    "y2=torch.Tensor(y)\n",
    "w=torch.Tensor(np.random.normal(0,0.01,(x2.shape[1],1)))\n",
    "b=torch.Tensor([1.])\n",
    "for p in [w,b]:\n",
    "    p.requires_grad_(requires_grad=True)\n"
   ]
  },
  {
   "cell_type": "markdown",
   "metadata": {},
   "source": [
    "model by hand"
   ]
  },
  {
   "cell_type": "code",
   "execution_count": 16,
   "metadata": {
    "ExecuteTime": {
     "end_time": "2021-10-26T09:39:49.407467Z",
     "start_time": "2021-10-26T09:39:49.398467Z"
    },
    "collapsed": true
   },
   "outputs": [],
   "source": [
    "def lin_reg(x,w,b):\n",
    "    return torch.mm(x,w)+b\n",
    "    "
   ]
  },
  {
   "cell_type": "code",
   "execution_count": 17,
   "metadata": {
    "ExecuteTime": {
     "end_time": "2021-10-26T09:39:49.793489Z",
     "start_time": "2021-10-26T09:39:49.787489Z"
    },
    "collapsed": true
   },
   "outputs": [],
   "source": [
    "def squared_loss(y_hat,y):\n",
    "    return (y_hat-y.view(y_hat.size()))**2"
   ]
  },
  {
   "cell_type": "code",
   "execution_count": 18,
   "metadata": {
    "ExecuteTime": {
     "end_time": "2021-10-26T09:39:50.172511Z",
     "start_time": "2021-10-26T09:39:50.164510Z"
    },
    "collapsed": true
   },
   "outputs": [],
   "source": [
    "def sgd(params,lr,batch_size):\n",
    "    for p in params:\n",
    "        p.data -= lr * p.grad/batch_size"
   ]
  },
  {
   "cell_type": "code",
   "execution_count": 19,
   "metadata": {
    "ExecuteTime": {
     "end_time": "2021-10-26T09:39:50.589535Z",
     "start_time": "2021-10-26T09:39:50.547532Z"
    },
    "collapsed": true
   },
   "outputs": [],
   "source": [
    "def train_hand(num_epochs,lr,train_features,train_labels,batch_size):\n",
    "    dataset=torch.utils.data.TensorDataset(train_features,train_labels)\n",
    "    data_iter=torch.utils.data.DataLoader(dataset,batch_size,shuffle=True)\n",
    "    for i in range(num_epochs):\n",
    "        for x,y in data_iter:\n",
    "            l=squared_loss(lin_reg(x,w,b),y).mean()\n",
    "            if w.grad is not None:\n",
    "                w.grad.data.zero_()\n",
    "                b.grad.data.zero_()\n",
    "            l.backward()\n",
    "            sgd([w,b],lr,batch_size)\n",
    "        if (i+1) % 100 ==0:\n",
    "            with torch.no_grad():\n",
    "                print('epoch ',i+1,'train loss: ',squared_loss(lin_reg(train_features,w,b),train_labels).mean().item())\n",
    "            "
   ]
  },
  {
   "cell_type": "code",
   "execution_count": 20,
   "metadata": {
    "ExecuteTime": {
     "end_time": "2021-10-26T09:48:16.397465Z",
     "start_time": "2021-10-26T09:39:51.358579Z"
    }
   },
   "outputs": [
    {
     "name": "stdout",
     "output_type": "stream",
     "text": [
      "epoch  100 train loss:  380.9410705566406\n",
      "epoch  200 train loss:  279.9990539550781\n",
      "epoch  300 train loss:  211.99411010742188\n",
      "epoch  400 train loss:  164.7173614501953\n",
      "epoch  500 train loss:  131.41778564453125\n",
      "epoch  600 train loss:  107.8755874633789\n",
      "epoch  700 train loss:  91.11438751220703\n",
      "epoch  800 train loss:  79.11027526855469\n",
      "epoch  900 train loss:  70.45252227783203\n",
      "epoch  1000 train loss:  64.12333679199219\n",
      "epoch  1100 train loss:  59.45973205566406\n",
      "epoch  1200 train loss:  56.00725555419922\n",
      "epoch  1300 train loss:  53.378814697265625\n",
      "epoch  1400 train loss:  51.36820983886719\n",
      "epoch  1500 train loss:  49.788265228271484\n",
      "epoch  1600 train loss:  48.51777648925781\n",
      "epoch  1700 train loss:  47.483455657958984\n",
      "epoch  1800 train loss:  46.62392044067383\n",
      "epoch  1900 train loss:  45.89391326904297\n",
      "epoch  2000 train loss:  45.26203918457031\n",
      "epoch  2100 train loss:  44.70806884765625\n",
      "epoch  2200 train loss:  44.20965576171875\n",
      "epoch  2300 train loss:  43.76535415649414\n",
      "epoch  2400 train loss:  43.35892105102539\n",
      "epoch  2500 train loss:  42.98130798339844\n",
      "epoch  2600 train loss:  42.63349914550781\n",
      "epoch  2700 train loss:  42.308372497558594\n",
      "epoch  2800 train loss:  42.006202697753906\n",
      "epoch  2900 train loss:  41.7216796875\n",
      "epoch  3000 train loss:  41.4533576965332\n",
      "epoch  3100 train loss:  41.19972229003906\n",
      "epoch  3200 train loss:  40.96115493774414\n",
      "epoch  3300 train loss:  40.73361587524414\n",
      "epoch  3400 train loss:  40.5150260925293\n",
      "epoch  3500 train loss:  40.30808639526367\n",
      "epoch  3600 train loss:  40.109710693359375\n",
      "epoch  3700 train loss:  39.921443939208984\n",
      "epoch  3800 train loss:  39.74137878417969\n",
      "epoch  3900 train loss:  39.56903839111328\n",
      "epoch  4000 train loss:  39.40420913696289\n",
      "epoch  4100 train loss:  39.24513626098633\n",
      "epoch  4200 train loss:  39.09347152709961\n",
      "epoch  4300 train loss:  38.94666290283203\n",
      "epoch  4400 train loss:  38.8051643371582\n",
      "epoch  4500 train loss:  38.669490814208984\n",
      "epoch  4600 train loss:  38.53864669799805\n",
      "epoch  4700 train loss:  38.412899017333984\n",
      "epoch  4800 train loss:  38.29155731201172\n",
      "epoch  4900 train loss:  38.17315673828125\n",
      "epoch  5000 train loss:  38.05937194824219\n",
      "epoch  5100 train loss:  37.9500732421875\n",
      "epoch  5200 train loss:  37.84343338012695\n",
      "epoch  5300 train loss:  37.740562438964844\n",
      "epoch  5400 train loss:  37.64118194580078\n",
      "epoch  5500 train loss:  37.544281005859375\n",
      "epoch  5600 train loss:  37.4506950378418\n",
      "epoch  5700 train loss:  37.360313415527344\n",
      "epoch  5800 train loss:  37.27304458618164\n",
      "epoch  5900 train loss:  37.1874885559082\n",
      "epoch  6000 train loss:  37.10485076904297\n",
      "epoch  6100 train loss:  37.02466583251953\n",
      "epoch  6200 train loss:  36.946136474609375\n",
      "epoch  6300 train loss:  36.87021255493164\n",
      "epoch  6400 train loss:  36.79572677612305\n",
      "epoch  6500 train loss:  36.723575592041016\n",
      "epoch  6600 train loss:  36.653602600097656\n",
      "epoch  6700 train loss:  36.58523178100586\n",
      "epoch  6800 train loss:  36.51929473876953\n",
      "epoch  6900 train loss:  36.454830169677734\n",
      "epoch  7000 train loss:  36.39157485961914\n",
      "epoch  7100 train loss:  36.330360412597656\n",
      "epoch  7200 train loss:  36.27128219604492\n",
      "epoch  7300 train loss:  36.211326599121094\n",
      "epoch  7400 train loss:  36.154640197753906\n",
      "epoch  7500 train loss:  36.09921646118164\n",
      "epoch  7600 train loss:  36.04419708251953\n",
      "epoch  7700 train loss:  35.99142837524414\n",
      "epoch  7800 train loss:  35.93901062011719\n",
      "epoch  7900 train loss:  35.88874053955078\n",
      "epoch  8000 train loss:  35.83931350708008\n",
      "epoch  8100 train loss:  35.790653228759766\n",
      "epoch  8200 train loss:  35.743690490722656\n",
      "epoch  8300 train loss:  35.69720458984375\n",
      "epoch  8400 train loss:  35.6521110534668\n",
      "epoch  8500 train loss:  35.60749435424805\n",
      "epoch  8600 train loss:  35.56406784057617\n",
      "epoch  8700 train loss:  35.521244049072266\n",
      "epoch  8800 train loss:  35.47934341430664\n",
      "epoch  8900 train loss:  35.43843460083008\n",
      "epoch  9000 train loss:  35.398319244384766\n",
      "epoch  9100 train loss:  35.35883712768555\n",
      "epoch  9200 train loss:  35.32121276855469\n",
      "epoch  9300 train loss:  35.28276062011719\n",
      "epoch  9400 train loss:  35.245567321777344\n",
      "epoch  9500 train loss:  35.20964050292969\n",
      "epoch  9600 train loss:  35.174095153808594\n",
      "epoch  9700 train loss:  35.13961410522461\n",
      "epoch  9800 train loss:  35.10482406616211\n",
      "epoch  9900 train loss:  35.07154083251953\n",
      "epoch  10000 train loss:  35.038394927978516\n"
     ]
    }
   ],
   "source": [
    "x2=torch.Tensor(x1.values)\n",
    "y2=torch.Tensor(y)\n",
    "w=torch.Tensor(np.random.normal(0,0.01,(x2.shape[1],1)))\n",
    "b=torch.Tensor([1.])\n",
    "for p in [w,b]:\n",
    "    p.requires_grad_(requires_grad=True)\n",
    "\n",
    "train_hand(10000,0.01,x2,y2,256)"
   ]
  },
  {
   "cell_type": "markdown",
   "metadata": {},
   "source": [
    "model by nn"
   ]
  },
  {
   "cell_type": "code",
   "execution_count": 21,
   "metadata": {
    "ExecuteTime": {
     "end_time": "2021-10-26T09:48:16.405466Z",
     "start_time": "2021-10-26T09:48:16.399465Z"
    },
    "collapsed": true
   },
   "outputs": [],
   "source": [
    "def lr_net(feat_input,feat_output):\n",
    "    return nn.Linear(feat_input,feat_output)"
   ]
  },
  {
   "cell_type": "code",
   "execution_count": 22,
   "metadata": {
    "ExecuteTime": {
     "end_time": "2021-10-26T09:48:16.428467Z",
     "start_time": "2021-10-26T09:48:16.409466Z"
    }
   },
   "outputs": [
    {
     "ename": "SyntaxError",
     "evalue": "unexpected EOF while parsing (<ipython-input-22-f459b0cd9ac3>, line 9)",
     "output_type": "error",
     "traceback": [
      "\u001b[1;36m  File \u001b[1;32m\"<ipython-input-22-f459b0cd9ac3>\"\u001b[1;36m, line \u001b[1;32m9\u001b[0m\n\u001b[1;33m    \u001b[0m\n\u001b[1;37m    ^\u001b[0m\n\u001b[1;31mSyntaxError\u001b[0m\u001b[1;31m:\u001b[0m unexpected EOF while parsing\n"
     ]
    }
   ],
   "source": [
    "def train_pytorch(num_epochs,lr,train_features,train_labels,batch_size):\n",
    "    dataset=torch.utils.data.TensorDataset(train_features,train_labels)\n",
    "    data_iter=torch.utils.data.DataLoader(dataset,batch_size,shuffle=True)\n",
    "    net=nn.Linear(train_features.shape[1],1)\n",
    "    loss=nn.MSELoss()\n",
    "    optimizer=optim.SGD(net.parameters(),lr=lr)\n",
    "    for e in range(num_epochs):\n",
    "        for x,y in data_iter:\n",
    "            "
   ]
  },
  {
   "cell_type": "code",
   "execution_count": null,
   "metadata": {
    "collapsed": true
   },
   "outputs": [],
   "source": []
  },
  {
   "cell_type": "code",
   "execution_count": null,
   "metadata": {
    "collapsed": true
   },
   "outputs": [],
   "source": []
  }
 ],
 "metadata": {
  "kernelspec": {
   "display_name": "Python 3",
   "language": "python",
   "name": "python3"
  },
  "language_info": {
   "codemirror_mode": {
    "name": "ipython",
    "version": 3
   },
   "file_extension": ".py",
   "mimetype": "text/x-python",
   "name": "python",
   "nbconvert_exporter": "python",
   "pygments_lexer": "ipython3",
   "version": "3.6.3"
  }
 },
 "nbformat": 4,
 "nbformat_minor": 2
}
