{
 "cells": [
  {
   "cell_type": "markdown",
   "metadata": {},
   "source": [
    "#### add min_loss and early_stop"
   ]
  },
  {
   "cell_type": "code",
   "execution_count": 1,
   "metadata": {
    "ExecuteTime": {
     "end_time": "2021-10-12T01:10:38.981671Z",
     "start_time": "2021-10-12T01:10:27.394008Z"
    },
    "collapsed": true
   },
   "outputs": [],
   "source": [
    "import numpy as np\n",
    "import torch \n",
    "import pandas as pd\n",
    "import torchvision\n",
    "from torch import optim,nn"
   ]
  },
  {
   "cell_type": "code",
   "execution_count": 2,
   "metadata": {
    "ExecuteTime": {
     "end_time": "2021-10-12T01:10:39.436697Z",
     "start_time": "2021-10-12T01:10:38.987671Z"
    },
    "collapsed": true
   },
   "outputs": [],
   "source": [
    "train_data=pd.read_csv(r'F:\\study\\ml\\HonyiLee2020\\hw1\\data\\train.csv',encoding='big5')\n",
    "test_data=pd.read_csv(r'F:\\study\\ml\\HonyiLee2020\\hw1\\data\\test.csv',encoding='big5',header=None)"
   ]
  },
  {
   "cell_type": "code",
   "execution_count": 3,
   "metadata": {
    "ExecuteTime": {
     "end_time": "2021-10-12T01:10:39.523702Z",
     "start_time": "2021-10-12T01:10:39.442697Z"
    }
   },
   "outputs": [
    {
     "data": {
      "text/html": [
       "<div>\n",
       "<style>\n",
       "    .dataframe thead tr:only-child th {\n",
       "        text-align: right;\n",
       "    }\n",
       "\n",
       "    .dataframe thead th {\n",
       "        text-align: left;\n",
       "    }\n",
       "\n",
       "    .dataframe tbody tr th {\n",
       "        vertical-align: top;\n",
       "    }\n",
       "</style>\n",
       "<table border=\"1\" class=\"dataframe\">\n",
       "  <thead>\n",
       "    <tr style=\"text-align: right;\">\n",
       "      <th></th>\n",
       "      <th>日期</th>\n",
       "      <th>測站</th>\n",
       "      <th>測項</th>\n",
       "      <th>0</th>\n",
       "      <th>1</th>\n",
       "      <th>2</th>\n",
       "      <th>3</th>\n",
       "      <th>4</th>\n",
       "      <th>5</th>\n",
       "      <th>6</th>\n",
       "      <th>...</th>\n",
       "      <th>14</th>\n",
       "      <th>15</th>\n",
       "      <th>16</th>\n",
       "      <th>17</th>\n",
       "      <th>18</th>\n",
       "      <th>19</th>\n",
       "      <th>20</th>\n",
       "      <th>21</th>\n",
       "      <th>22</th>\n",
       "      <th>23</th>\n",
       "    </tr>\n",
       "  </thead>\n",
       "  <tbody>\n",
       "    <tr>\n",
       "      <th>0</th>\n",
       "      <td>2014/1/1</td>\n",
       "      <td>豐原</td>\n",
       "      <td>AMB_TEMP</td>\n",
       "      <td>14</td>\n",
       "      <td>14</td>\n",
       "      <td>14</td>\n",
       "      <td>13</td>\n",
       "      <td>12</td>\n",
       "      <td>12</td>\n",
       "      <td>12</td>\n",
       "      <td>...</td>\n",
       "      <td>22</td>\n",
       "      <td>22</td>\n",
       "      <td>21</td>\n",
       "      <td>19</td>\n",
       "      <td>17</td>\n",
       "      <td>16</td>\n",
       "      <td>15</td>\n",
       "      <td>15</td>\n",
       "      <td>15</td>\n",
       "      <td>15</td>\n",
       "    </tr>\n",
       "    <tr>\n",
       "      <th>1</th>\n",
       "      <td>2014/1/1</td>\n",
       "      <td>豐原</td>\n",
       "      <td>CH4</td>\n",
       "      <td>1.8</td>\n",
       "      <td>1.8</td>\n",
       "      <td>1.8</td>\n",
       "      <td>1.8</td>\n",
       "      <td>1.8</td>\n",
       "      <td>1.8</td>\n",
       "      <td>1.8</td>\n",
       "      <td>...</td>\n",
       "      <td>1.8</td>\n",
       "      <td>1.8</td>\n",
       "      <td>1.8</td>\n",
       "      <td>1.8</td>\n",
       "      <td>1.8</td>\n",
       "      <td>1.8</td>\n",
       "      <td>1.8</td>\n",
       "      <td>1.8</td>\n",
       "      <td>1.8</td>\n",
       "      <td>1.8</td>\n",
       "    </tr>\n",
       "    <tr>\n",
       "      <th>2</th>\n",
       "      <td>2014/1/1</td>\n",
       "      <td>豐原</td>\n",
       "      <td>CO</td>\n",
       "      <td>0.51</td>\n",
       "      <td>0.41</td>\n",
       "      <td>0.39</td>\n",
       "      <td>0.37</td>\n",
       "      <td>0.35</td>\n",
       "      <td>0.3</td>\n",
       "      <td>0.37</td>\n",
       "      <td>...</td>\n",
       "      <td>0.37</td>\n",
       "      <td>0.37</td>\n",
       "      <td>0.47</td>\n",
       "      <td>0.69</td>\n",
       "      <td>0.56</td>\n",
       "      <td>0.45</td>\n",
       "      <td>0.38</td>\n",
       "      <td>0.35</td>\n",
       "      <td>0.36</td>\n",
       "      <td>0.32</td>\n",
       "    </tr>\n",
       "    <tr>\n",
       "      <th>3</th>\n",
       "      <td>2014/1/1</td>\n",
       "      <td>豐原</td>\n",
       "      <td>NMHC</td>\n",
       "      <td>0.2</td>\n",
       "      <td>0.15</td>\n",
       "      <td>0.13</td>\n",
       "      <td>0.12</td>\n",
       "      <td>0.11</td>\n",
       "      <td>0.06</td>\n",
       "      <td>0.1</td>\n",
       "      <td>...</td>\n",
       "      <td>0.1</td>\n",
       "      <td>0.13</td>\n",
       "      <td>0.14</td>\n",
       "      <td>0.23</td>\n",
       "      <td>0.18</td>\n",
       "      <td>0.12</td>\n",
       "      <td>0.1</td>\n",
       "      <td>0.09</td>\n",
       "      <td>0.1</td>\n",
       "      <td>0.08</td>\n",
       "    </tr>\n",
       "    <tr>\n",
       "      <th>4</th>\n",
       "      <td>2014/1/1</td>\n",
       "      <td>豐原</td>\n",
       "      <td>NO</td>\n",
       "      <td>0.9</td>\n",
       "      <td>0.6</td>\n",
       "      <td>0.5</td>\n",
       "      <td>1.7</td>\n",
       "      <td>1.8</td>\n",
       "      <td>1.5</td>\n",
       "      <td>1.9</td>\n",
       "      <td>...</td>\n",
       "      <td>2.5</td>\n",
       "      <td>2.2</td>\n",
       "      <td>2.5</td>\n",
       "      <td>2.3</td>\n",
       "      <td>2.1</td>\n",
       "      <td>1.9</td>\n",
       "      <td>1.5</td>\n",
       "      <td>1.6</td>\n",
       "      <td>1.8</td>\n",
       "      <td>1.5</td>\n",
       "    </tr>\n",
       "    <tr>\n",
       "      <th>5</th>\n",
       "      <td>2014/1/1</td>\n",
       "      <td>豐原</td>\n",
       "      <td>NO2</td>\n",
       "      <td>16</td>\n",
       "      <td>9.2</td>\n",
       "      <td>8.2</td>\n",
       "      <td>6.9</td>\n",
       "      <td>6.8</td>\n",
       "      <td>3.8</td>\n",
       "      <td>6.9</td>\n",
       "      <td>...</td>\n",
       "      <td>11</td>\n",
       "      <td>11</td>\n",
       "      <td>22</td>\n",
       "      <td>28</td>\n",
       "      <td>19</td>\n",
       "      <td>12</td>\n",
       "      <td>8.1</td>\n",
       "      <td>7</td>\n",
       "      <td>6.9</td>\n",
       "      <td>6</td>\n",
       "    </tr>\n",
       "    <tr>\n",
       "      <th>6</th>\n",
       "      <td>2014/1/1</td>\n",
       "      <td>豐原</td>\n",
       "      <td>NOx</td>\n",
       "      <td>17</td>\n",
       "      <td>9.8</td>\n",
       "      <td>8.7</td>\n",
       "      <td>8.6</td>\n",
       "      <td>8.5</td>\n",
       "      <td>5.3</td>\n",
       "      <td>8.8</td>\n",
       "      <td>...</td>\n",
       "      <td>14</td>\n",
       "      <td>13</td>\n",
       "      <td>25</td>\n",
       "      <td>30</td>\n",
       "      <td>21</td>\n",
       "      <td>13</td>\n",
       "      <td>9.7</td>\n",
       "      <td>8.6</td>\n",
       "      <td>8.7</td>\n",
       "      <td>7.5</td>\n",
       "    </tr>\n",
       "    <tr>\n",
       "      <th>7</th>\n",
       "      <td>2014/1/1</td>\n",
       "      <td>豐原</td>\n",
       "      <td>O3</td>\n",
       "      <td>16</td>\n",
       "      <td>30</td>\n",
       "      <td>27</td>\n",
       "      <td>23</td>\n",
       "      <td>24</td>\n",
       "      <td>28</td>\n",
       "      <td>24</td>\n",
       "      <td>...</td>\n",
       "      <td>65</td>\n",
       "      <td>64</td>\n",
       "      <td>51</td>\n",
       "      <td>34</td>\n",
       "      <td>33</td>\n",
       "      <td>34</td>\n",
       "      <td>37</td>\n",
       "      <td>38</td>\n",
       "      <td>38</td>\n",
       "      <td>36</td>\n",
       "    </tr>\n",
       "    <tr>\n",
       "      <th>8</th>\n",
       "      <td>2014/1/1</td>\n",
       "      <td>豐原</td>\n",
       "      <td>PM10</td>\n",
       "      <td>56</td>\n",
       "      <td>50</td>\n",
       "      <td>48</td>\n",
       "      <td>35</td>\n",
       "      <td>25</td>\n",
       "      <td>12</td>\n",
       "      <td>4</td>\n",
       "      <td>...</td>\n",
       "      <td>52</td>\n",
       "      <td>51</td>\n",
       "      <td>66</td>\n",
       "      <td>85</td>\n",
       "      <td>85</td>\n",
       "      <td>63</td>\n",
       "      <td>46</td>\n",
       "      <td>36</td>\n",
       "      <td>42</td>\n",
       "      <td>42</td>\n",
       "    </tr>\n",
       "    <tr>\n",
       "      <th>9</th>\n",
       "      <td>2014/1/1</td>\n",
       "      <td>豐原</td>\n",
       "      <td>PM2.5</td>\n",
       "      <td>26</td>\n",
       "      <td>39</td>\n",
       "      <td>36</td>\n",
       "      <td>35</td>\n",
       "      <td>31</td>\n",
       "      <td>28</td>\n",
       "      <td>25</td>\n",
       "      <td>...</td>\n",
       "      <td>36</td>\n",
       "      <td>45</td>\n",
       "      <td>42</td>\n",
       "      <td>49</td>\n",
       "      <td>45</td>\n",
       "      <td>44</td>\n",
       "      <td>41</td>\n",
       "      <td>30</td>\n",
       "      <td>24</td>\n",
       "      <td>13</td>\n",
       "    </tr>\n",
       "    <tr>\n",
       "      <th>10</th>\n",
       "      <td>2014/1/1</td>\n",
       "      <td>豐原</td>\n",
       "      <td>RAINFALL</td>\n",
       "      <td>NR</td>\n",
       "      <td>NR</td>\n",
       "      <td>NR</td>\n",
       "      <td>NR</td>\n",
       "      <td>NR</td>\n",
       "      <td>NR</td>\n",
       "      <td>NR</td>\n",
       "      <td>...</td>\n",
       "      <td>NR</td>\n",
       "      <td>NR</td>\n",
       "      <td>NR</td>\n",
       "      <td>NR</td>\n",
       "      <td>NR</td>\n",
       "      <td>NR</td>\n",
       "      <td>NR</td>\n",
       "      <td>NR</td>\n",
       "      <td>NR</td>\n",
       "      <td>NR</td>\n",
       "    </tr>\n",
       "    <tr>\n",
       "      <th>11</th>\n",
       "      <td>2014/1/1</td>\n",
       "      <td>豐原</td>\n",
       "      <td>RH</td>\n",
       "      <td>77</td>\n",
       "      <td>68</td>\n",
       "      <td>67</td>\n",
       "      <td>74</td>\n",
       "      <td>72</td>\n",
       "      <td>73</td>\n",
       "      <td>74</td>\n",
       "      <td>...</td>\n",
       "      <td>47</td>\n",
       "      <td>49</td>\n",
       "      <td>56</td>\n",
       "      <td>67</td>\n",
       "      <td>72</td>\n",
       "      <td>69</td>\n",
       "      <td>70</td>\n",
       "      <td>70</td>\n",
       "      <td>70</td>\n",
       "      <td>69</td>\n",
       "    </tr>\n",
       "    <tr>\n",
       "      <th>12</th>\n",
       "      <td>2014/1/1</td>\n",
       "      <td>豐原</td>\n",
       "      <td>SO2</td>\n",
       "      <td>1.8</td>\n",
       "      <td>2</td>\n",
       "      <td>1.7</td>\n",
       "      <td>1.6</td>\n",
       "      <td>1.9</td>\n",
       "      <td>1.4</td>\n",
       "      <td>1.5</td>\n",
       "      <td>...</td>\n",
       "      <td>3.9</td>\n",
       "      <td>4.4</td>\n",
       "      <td>9.9</td>\n",
       "      <td>5.1</td>\n",
       "      <td>3.4</td>\n",
       "      <td>2.3</td>\n",
       "      <td>2</td>\n",
       "      <td>1.9</td>\n",
       "      <td>1.9</td>\n",
       "      <td>1.9</td>\n",
       "    </tr>\n",
       "    <tr>\n",
       "      <th>13</th>\n",
       "      <td>2014/1/1</td>\n",
       "      <td>豐原</td>\n",
       "      <td>THC</td>\n",
       "      <td>2</td>\n",
       "      <td>2</td>\n",
       "      <td>2</td>\n",
       "      <td>1.9</td>\n",
       "      <td>1.9</td>\n",
       "      <td>1.8</td>\n",
       "      <td>1.9</td>\n",
       "      <td>...</td>\n",
       "      <td>1.9</td>\n",
       "      <td>1.9</td>\n",
       "      <td>1.9</td>\n",
       "      <td>2.1</td>\n",
       "      <td>2</td>\n",
       "      <td>1.9</td>\n",
       "      <td>1.9</td>\n",
       "      <td>1.9</td>\n",
       "      <td>1.9</td>\n",
       "      <td>1.9</td>\n",
       "    </tr>\n",
       "    <tr>\n",
       "      <th>14</th>\n",
       "      <td>2014/1/1</td>\n",
       "      <td>豐原</td>\n",
       "      <td>WD_HR</td>\n",
       "      <td>37</td>\n",
       "      <td>80</td>\n",
       "      <td>57</td>\n",
       "      <td>76</td>\n",
       "      <td>110</td>\n",
       "      <td>106</td>\n",
       "      <td>101</td>\n",
       "      <td>...</td>\n",
       "      <td>307</td>\n",
       "      <td>304</td>\n",
       "      <td>307</td>\n",
       "      <td>124</td>\n",
       "      <td>118</td>\n",
       "      <td>121</td>\n",
       "      <td>113</td>\n",
       "      <td>112</td>\n",
       "      <td>106</td>\n",
       "      <td>110</td>\n",
       "    </tr>\n",
       "    <tr>\n",
       "      <th>15</th>\n",
       "      <td>2014/1/1</td>\n",
       "      <td>豐原</td>\n",
       "      <td>WIND_DIREC</td>\n",
       "      <td>35</td>\n",
       "      <td>79</td>\n",
       "      <td>2.4</td>\n",
       "      <td>55</td>\n",
       "      <td>94</td>\n",
       "      <td>116</td>\n",
       "      <td>106</td>\n",
       "      <td>...</td>\n",
       "      <td>313</td>\n",
       "      <td>305</td>\n",
       "      <td>291</td>\n",
       "      <td>124</td>\n",
       "      <td>119</td>\n",
       "      <td>118</td>\n",
       "      <td>114</td>\n",
       "      <td>108</td>\n",
       "      <td>102</td>\n",
       "      <td>111</td>\n",
       "    </tr>\n",
       "    <tr>\n",
       "      <th>16</th>\n",
       "      <td>2014/1/1</td>\n",
       "      <td>豐原</td>\n",
       "      <td>WIND_SPEED</td>\n",
       "      <td>1.4</td>\n",
       "      <td>1.8</td>\n",
       "      <td>1</td>\n",
       "      <td>0.6</td>\n",
       "      <td>1.7</td>\n",
       "      <td>2.5</td>\n",
       "      <td>2.5</td>\n",
       "      <td>...</td>\n",
       "      <td>2.5</td>\n",
       "      <td>2.2</td>\n",
       "      <td>1.4</td>\n",
       "      <td>2.2</td>\n",
       "      <td>2.8</td>\n",
       "      <td>3</td>\n",
       "      <td>2.6</td>\n",
       "      <td>2.7</td>\n",
       "      <td>2.1</td>\n",
       "      <td>2.1</td>\n",
       "    </tr>\n",
       "    <tr>\n",
       "      <th>17</th>\n",
       "      <td>2014/1/1</td>\n",
       "      <td>豐原</td>\n",
       "      <td>WS_HR</td>\n",
       "      <td>0.5</td>\n",
       "      <td>0.9</td>\n",
       "      <td>0.6</td>\n",
       "      <td>0.3</td>\n",
       "      <td>0.6</td>\n",
       "      <td>1.9</td>\n",
       "      <td>2</td>\n",
       "      <td>...</td>\n",
       "      <td>2.1</td>\n",
       "      <td>2.1</td>\n",
       "      <td>1.9</td>\n",
       "      <td>1</td>\n",
       "      <td>2.5</td>\n",
       "      <td>2.5</td>\n",
       "      <td>2.8</td>\n",
       "      <td>2.6</td>\n",
       "      <td>2.4</td>\n",
       "      <td>2.3</td>\n",
       "    </tr>\n",
       "    <tr>\n",
       "      <th>18</th>\n",
       "      <td>2014/1/2</td>\n",
       "      <td>豐原</td>\n",
       "      <td>AMB_TEMP</td>\n",
       "      <td>16</td>\n",
       "      <td>15</td>\n",
       "      <td>15</td>\n",
       "      <td>14</td>\n",
       "      <td>14</td>\n",
       "      <td>15</td>\n",
       "      <td>16</td>\n",
       "      <td>...</td>\n",
       "      <td>24</td>\n",
       "      <td>24</td>\n",
       "      <td>23</td>\n",
       "      <td>21</td>\n",
       "      <td>20</td>\n",
       "      <td>19</td>\n",
       "      <td>18</td>\n",
       "      <td>18</td>\n",
       "      <td>18</td>\n",
       "      <td>18</td>\n",
       "    </tr>\n",
       "    <tr>\n",
       "      <th>19</th>\n",
       "      <td>2014/1/2</td>\n",
       "      <td>豐原</td>\n",
       "      <td>CH4</td>\n",
       "      <td>1.8</td>\n",
       "      <td>1.8</td>\n",
       "      <td>1.8</td>\n",
       "      <td>1.8</td>\n",
       "      <td>1.8</td>\n",
       "      <td>1.8</td>\n",
       "      <td>1.8</td>\n",
       "      <td>...</td>\n",
       "      <td>1.8</td>\n",
       "      <td>1.8</td>\n",
       "      <td>1.8</td>\n",
       "      <td>1.8</td>\n",
       "      <td>1.8</td>\n",
       "      <td>1.8</td>\n",
       "      <td>1.8</td>\n",
       "      <td>1.8</td>\n",
       "      <td>1.8</td>\n",
       "      <td>1.8</td>\n",
       "    </tr>\n",
       "  </tbody>\n",
       "</table>\n",
       "<p>20 rows × 27 columns</p>\n",
       "</div>"
      ],
      "text/plain": [
       "          日期  測站          測項     0     1     2     3     4     5     6  ...   \\\n",
       "0   2014/1/1  豐原    AMB_TEMP    14    14    14    13    12    12    12  ...    \n",
       "1   2014/1/1  豐原         CH4   1.8   1.8   1.8   1.8   1.8   1.8   1.8  ...    \n",
       "2   2014/1/1  豐原          CO  0.51  0.41  0.39  0.37  0.35   0.3  0.37  ...    \n",
       "3   2014/1/1  豐原        NMHC   0.2  0.15  0.13  0.12  0.11  0.06   0.1  ...    \n",
       "4   2014/1/1  豐原          NO   0.9   0.6   0.5   1.7   1.8   1.5   1.9  ...    \n",
       "5   2014/1/1  豐原         NO2    16   9.2   8.2   6.9   6.8   3.8   6.9  ...    \n",
       "6   2014/1/1  豐原         NOx    17   9.8   8.7   8.6   8.5   5.3   8.8  ...    \n",
       "7   2014/1/1  豐原          O3    16    30    27    23    24    28    24  ...    \n",
       "8   2014/1/1  豐原        PM10    56    50    48    35    25    12     4  ...    \n",
       "9   2014/1/1  豐原       PM2.5    26    39    36    35    31    28    25  ...    \n",
       "10  2014/1/1  豐原    RAINFALL    NR    NR    NR    NR    NR    NR    NR  ...    \n",
       "11  2014/1/1  豐原          RH    77    68    67    74    72    73    74  ...    \n",
       "12  2014/1/1  豐原         SO2   1.8     2   1.7   1.6   1.9   1.4   1.5  ...    \n",
       "13  2014/1/1  豐原         THC     2     2     2   1.9   1.9   1.8   1.9  ...    \n",
       "14  2014/1/1  豐原       WD_HR    37    80    57    76   110   106   101  ...    \n",
       "15  2014/1/1  豐原  WIND_DIREC    35    79   2.4    55    94   116   106  ...    \n",
       "16  2014/1/1  豐原  WIND_SPEED   1.4   1.8     1   0.6   1.7   2.5   2.5  ...    \n",
       "17  2014/1/1  豐原       WS_HR   0.5   0.9   0.6   0.3   0.6   1.9     2  ...    \n",
       "18  2014/1/2  豐原    AMB_TEMP    16    15    15    14    14    15    16  ...    \n",
       "19  2014/1/2  豐原         CH4   1.8   1.8   1.8   1.8   1.8   1.8   1.8  ...    \n",
       "\n",
       "      14    15    16    17    18    19    20    21    22    23  \n",
       "0     22    22    21    19    17    16    15    15    15    15  \n",
       "1    1.8   1.8   1.8   1.8   1.8   1.8   1.8   1.8   1.8   1.8  \n",
       "2   0.37  0.37  0.47  0.69  0.56  0.45  0.38  0.35  0.36  0.32  \n",
       "3    0.1  0.13  0.14  0.23  0.18  0.12   0.1  0.09   0.1  0.08  \n",
       "4    2.5   2.2   2.5   2.3   2.1   1.9   1.5   1.6   1.8   1.5  \n",
       "5     11    11    22    28    19    12   8.1     7   6.9     6  \n",
       "6     14    13    25    30    21    13   9.7   8.6   8.7   7.5  \n",
       "7     65    64    51    34    33    34    37    38    38    36  \n",
       "8     52    51    66    85    85    63    46    36    42    42  \n",
       "9     36    45    42    49    45    44    41    30    24    13  \n",
       "10    NR    NR    NR    NR    NR    NR    NR    NR    NR    NR  \n",
       "11    47    49    56    67    72    69    70    70    70    69  \n",
       "12   3.9   4.4   9.9   5.1   3.4   2.3     2   1.9   1.9   1.9  \n",
       "13   1.9   1.9   1.9   2.1     2   1.9   1.9   1.9   1.9   1.9  \n",
       "14   307   304   307   124   118   121   113   112   106   110  \n",
       "15   313   305   291   124   119   118   114   108   102   111  \n",
       "16   2.5   2.2   1.4   2.2   2.8     3   2.6   2.7   2.1   2.1  \n",
       "17   2.1   2.1   1.9     1   2.5   2.5   2.8   2.6   2.4   2.3  \n",
       "18    24    24    23    21    20    19    18    18    18    18  \n",
       "19   1.8   1.8   1.8   1.8   1.8   1.8   1.8   1.8   1.8   1.8  \n",
       "\n",
       "[20 rows x 27 columns]"
      ]
     },
     "execution_count": 3,
     "metadata": {},
     "output_type": "execute_result"
    }
   ],
   "source": [
    "train_data[:20]"
   ]
  },
  {
   "cell_type": "code",
   "execution_count": 4,
   "metadata": {
    "ExecuteTime": {
     "end_time": "2021-10-12T01:10:39.558704Z",
     "start_time": "2021-10-12T01:10:39.525702Z"
    }
   },
   "outputs": [
    {
     "data": {
      "text/html": [
       "<div>\n",
       "<style>\n",
       "    .dataframe thead tr:only-child th {\n",
       "        text-align: right;\n",
       "    }\n",
       "\n",
       "    .dataframe thead th {\n",
       "        text-align: left;\n",
       "    }\n",
       "\n",
       "    .dataframe tbody tr th {\n",
       "        vertical-align: top;\n",
       "    }\n",
       "</style>\n",
       "<table border=\"1\" class=\"dataframe\">\n",
       "  <thead>\n",
       "    <tr style=\"text-align: right;\">\n",
       "      <th></th>\n",
       "      <th>0</th>\n",
       "      <th>1</th>\n",
       "      <th>2</th>\n",
       "      <th>3</th>\n",
       "      <th>4</th>\n",
       "      <th>5</th>\n",
       "      <th>6</th>\n",
       "      <th>7</th>\n",
       "      <th>8</th>\n",
       "      <th>9</th>\n",
       "      <th>10</th>\n",
       "    </tr>\n",
       "  </thead>\n",
       "  <tbody>\n",
       "    <tr>\n",
       "      <th>0</th>\n",
       "      <td>id_0</td>\n",
       "      <td>AMB_TEMP</td>\n",
       "      <td>21</td>\n",
       "      <td>21</td>\n",
       "      <td>20</td>\n",
       "      <td>20</td>\n",
       "      <td>19</td>\n",
       "      <td>19</td>\n",
       "      <td>19</td>\n",
       "      <td>18</td>\n",
       "      <td>17</td>\n",
       "    </tr>\n",
       "    <tr>\n",
       "      <th>1</th>\n",
       "      <td>id_0</td>\n",
       "      <td>CH4</td>\n",
       "      <td>1.7</td>\n",
       "      <td>1.7</td>\n",
       "      <td>1.7</td>\n",
       "      <td>1.7</td>\n",
       "      <td>1.7</td>\n",
       "      <td>1.7</td>\n",
       "      <td>1.7</td>\n",
       "      <td>1.7</td>\n",
       "      <td>1.8</td>\n",
       "    </tr>\n",
       "    <tr>\n",
       "      <th>2</th>\n",
       "      <td>id_0</td>\n",
       "      <td>CO</td>\n",
       "      <td>0.39</td>\n",
       "      <td>0.36</td>\n",
       "      <td>0.36</td>\n",
       "      <td>0.4</td>\n",
       "      <td>0.53</td>\n",
       "      <td>0.55</td>\n",
       "      <td>0.34</td>\n",
       "      <td>0.31</td>\n",
       "      <td>0.23</td>\n",
       "    </tr>\n",
       "    <tr>\n",
       "      <th>3</th>\n",
       "      <td>id_0</td>\n",
       "      <td>NMHC</td>\n",
       "      <td>0.16</td>\n",
       "      <td>0.24</td>\n",
       "      <td>0.22</td>\n",
       "      <td>0.27</td>\n",
       "      <td>0.27</td>\n",
       "      <td>0.26</td>\n",
       "      <td>0.27</td>\n",
       "      <td>0.29</td>\n",
       "      <td>0.1</td>\n",
       "    </tr>\n",
       "    <tr>\n",
       "      <th>4</th>\n",
       "      <td>id_0</td>\n",
       "      <td>NO</td>\n",
       "      <td>1.3</td>\n",
       "      <td>1.3</td>\n",
       "      <td>1.3</td>\n",
       "      <td>1.3</td>\n",
       "      <td>1.4</td>\n",
       "      <td>1.6</td>\n",
       "      <td>1.2</td>\n",
       "      <td>1.1</td>\n",
       "      <td>0.9</td>\n",
       "    </tr>\n",
       "  </tbody>\n",
       "</table>\n",
       "</div>"
      ],
      "text/plain": [
       "     0         1     2     3     4     5     6     7     8     9     10\n",
       "0  id_0  AMB_TEMP    21    21    20    20    19    19    19    18    17\n",
       "1  id_0       CH4   1.7   1.7   1.7   1.7   1.7   1.7   1.7   1.7   1.8\n",
       "2  id_0        CO  0.39  0.36  0.36   0.4  0.53  0.55  0.34  0.31  0.23\n",
       "3  id_0      NMHC  0.16  0.24  0.22  0.27  0.27  0.26  0.27  0.29   0.1\n",
       "4  id_0        NO   1.3   1.3   1.3   1.3   1.4   1.6   1.2   1.1   0.9"
      ]
     },
     "execution_count": 4,
     "metadata": {},
     "output_type": "execute_result"
    }
   ],
   "source": [
    "test_data.head()"
   ]
  },
  {
   "cell_type": "code",
   "execution_count": 5,
   "metadata": {
    "ExecuteTime": {
     "end_time": "2021-10-12T01:10:39.648709Z",
     "start_time": "2021-10-12T01:10:39.630708Z"
    }
   },
   "outputs": [
    {
     "name": "stdout",
     "output_type": "stream",
     "text": [
      "(4320, 27)\n",
      "(4320, 11)\n"
     ]
    }
   ],
   "source": [
    "print(train_data.shape)\n",
    "print(test_data.shape)"
   ]
  },
  {
   "cell_type": "code",
   "execution_count": 6,
   "metadata": {
    "ExecuteTime": {
     "end_time": "2021-10-12T01:10:40.302746Z",
     "start_time": "2021-10-12T01:10:40.286745Z"
    }
   },
   "outputs": [
    {
     "data": {
      "text/plain": [
       "(4320, 24)"
      ]
     },
     "execution_count": 6,
     "metadata": {},
     "output_type": "execute_result"
    }
   ],
   "source": [
    "data=train_data.iloc[:,3:]\n",
    "data=data.replace('NR',0)\n",
    "data.shape"
   ]
  },
  {
   "cell_type": "code",
   "execution_count": 7,
   "metadata": {
    "ExecuteTime": {
     "end_time": "2021-10-12T01:10:40.625765Z",
     "start_time": "2021-10-12T01:10:40.622765Z"
    },
    "collapsed": true
   },
   "outputs": [],
   "source": [
    "raw_data=data.values"
   ]
  },
  {
   "cell_type": "markdown",
   "metadata": {},
   "source": [
    "20 天 * 24小时 * 18 feature => 18 , 20*24"
   ]
  },
  {
   "cell_type": "code",
   "execution_count": 8,
   "metadata": {
    "ExecuteTime": {
     "end_time": "2021-10-12T01:10:41.175796Z",
     "start_time": "2021-10-12T01:10:41.150795Z"
    }
   },
   "outputs": [
    {
     "name": "stdout",
     "output_type": "stream",
     "text": [
      "(18, 480)\n"
     ]
    }
   ],
   "source": [
    "year_data={}\n",
    "for m in range(12):\n",
    "    month_data=np.empty((18,480))\n",
    "    for d in range(20):\n",
    "        month_data[:,24*d:24*(d+1)]=raw_data[18*(m*20+d):18*(m*20+d+1),:]\n",
    "    year_data[m]=month_data\n",
    "print(year_data[0].shape)"
   ]
  },
  {
   "cell_type": "markdown",
   "metadata": {
    "ExecuteTime": {
     "end_time": "2021-10-11T06:48:47.292505Z",
     "start_time": "2021-10-11T06:48:47.281504Z"
    }
   },
   "source": [
    "任务是根据9小时预测10小时,一个月有 20 天 * 24 小时 = 480 小时,按9小时分组,为 480-9=471组"
   ]
  },
  {
   "cell_type": "code",
   "execution_count": 9,
   "metadata": {
    "ExecuteTime": {
     "end_time": "2021-10-12T01:10:42.095849Z",
     "start_time": "2021-10-12T01:10:42.087848Z"
    },
    "collapsed": true
   },
   "outputs": [],
   "source": [
    "x=np.empty((12*471,9*18))\n",
    "y=np.empty((12*471,1))"
   ]
  },
  {
   "cell_type": "code",
   "execution_count": 10,
   "metadata": {
    "ExecuteTime": {
     "end_time": "2021-10-12T01:10:43.351921Z",
     "start_time": "2021-10-12T01:10:43.285917Z"
    },
    "collapsed": true
   },
   "outputs": [],
   "source": [
    "for m in range(12):\n",
    "    for d in range(471):      \n",
    "#         print(d,year_data[m][:,9*d:9*(d+1)].shape)\n",
    "        x[(m*471+d):(m*471+d+1),:]=year_data[m][:,d:9+d].reshape(1,-1)\n",
    "        y[(m*471+d):(m*471+d+1),:]=year_data[m][9,9+d]"
   ]
  },
  {
   "cell_type": "code",
   "execution_count": 82,
   "metadata": {
    "ExecuteTime": {
     "end_time": "2021-10-12T08:13:05.100386Z",
     "start_time": "2021-10-12T08:13:05.095385Z"
    },
    "collapsed": true
   },
   "outputs": [],
   "source": [
    "def linear_reg(x,w,b):\n",
    "    return torch.mm(x,w)+b"
   ]
  },
  {
   "cell_type": "code",
   "execution_count": 83,
   "metadata": {
    "ExecuteTime": {
     "end_time": "2021-10-12T08:13:06.692477Z",
     "start_time": "2021-10-12T08:13:06.684476Z"
    },
    "collapsed": true
   },
   "outputs": [],
   "source": [
    "def squared_loss(y_hat,y):\n",
    "    return (y_hat-y.reshape(y_hat.size()))**2"
   ]
  },
  {
   "cell_type": "code",
   "execution_count": 84,
   "metadata": {
    "ExecuteTime": {
     "end_time": "2021-10-12T08:13:08.327570Z",
     "start_time": "2021-10-12T08:13:08.315570Z"
    },
    "collapsed": true
   },
   "outputs": [],
   "source": [
    "def sgd(params,lr,batch_size):\n",
    "    for p in params :\n",
    "        p.data -= lr*p.grad/batch_size"
   ]
  },
  {
   "cell_type": "code",
   "execution_count": 85,
   "metadata": {
    "ExecuteTime": {
     "end_time": "2021-10-12T08:13:12.040783Z",
     "start_time": "2021-10-12T08:13:12.010781Z"
    },
    "collapsed": true
   },
   "outputs": [],
   "source": [
    "def train_hand(params,num_epochs,x_train,y_train,x_test,y_test,lr,batch_size):\n",
    "    train_l,test_l=[],[]\n",
    "    dataset=torch.utils.data.TensorDataset(x_train,y_train)\n",
    "    data_iter=torch.utils.data.DataLoader(dataset,batch_size,shuffle=True)\n",
    "    for e in range(num_epochs):\n",
    "        for x,y in data_iter:\n",
    "            l=squared_loss(linear_reg(x,params[0],params[1]),y).mean()\n",
    "            if params[0].grad is not None:\n",
    "                for p in params:\n",
    "                    p.grad.data.zero_()\n",
    "#                 w.grad.data.zero_()\n",
    "#                 b.grad.data.zero_()\n",
    "            l.backward()\n",
    "            sgd(params,lr,batch_size)\n",
    "        if (e+1) % 200 ==0:\n",
    "            train_l.append(squared_loss(linear_reg(x_train,params[0],params[1]),y_train).mean().item())\n",
    "            if x_test is not None:\n",
    "                with torch.no_grad():\n",
    "                    test_l.append(squared_loss(linear_reg(x_test,params[0],params[1]),y_test).mean().item())\n",
    "    return train_l,test_l\n",
    "                "
   ]
  },
  {
   "cell_type": "code",
   "execution_count": 86,
   "metadata": {
    "ExecuteTime": {
     "end_time": "2021-10-12T08:13:12.819827Z",
     "start_time": "2021-10-12T08:13:12.780825Z"
    },
    "collapsed": true
   },
   "outputs": [],
   "source": [
    "def get_kfold_data(k,j,x_data,y_data):\n",
    "    fold_size=x.shape[0]//k\n",
    "#     idx=list(range(x.shape[0]))\n",
    "#     np.random.shuffle(idx)\n",
    "    x_train,y_train=None,None\n",
    "    for i in range(k):\n",
    "        x_part=x_data[i*fold_size:(i+1)*fold_size,:]\n",
    "        y_part=y_data[i*fold_size:(i+1)*fold_size,:]\n",
    "        if i==j:\n",
    "            x_val,y_val=x_part,y_part\n",
    "        elif x_train is None:\n",
    "            x_train,y_train=x_part,y_part\n",
    "        else:\n",
    "            x_train=torch.cat((x_train,x_part))\n",
    "            y_train=torch.cat((y_train,y_part))\n",
    "    return x_train,y_train,x_val,y_val\n",
    "            \n",
    "        "
   ]
  },
  {
   "cell_type": "code",
   "execution_count": 87,
   "metadata": {
    "ExecuteTime": {
     "end_time": "2021-10-12T08:13:13.458864Z",
     "start_time": "2021-10-12T08:13:13.424862Z"
    },
    "collapsed": true
   },
   "outputs": [],
   "source": [
    "def train_kfold(k,num_epochs,features,labels,lr,batch_size):\n",
    "    train_l_sum,test_l_sum=[],[]\n",
    "    for j in range(k):\n",
    "        w=torch.Tensor(np.random.normal(0,0.01,(features.shape[1],1)))\n",
    "        b=torch.Tensor([1.])\n",
    "        for p in [w,b]:\n",
    "            p.requires_grad_(requires_grad=True)\n",
    "        params=[w,b]\n",
    "        data=get_kfold_data(k,j,features,labels)\n",
    "        train_l,test_l=train_hand(params,num_epochs,*data,lr,batch_size)\n",
    "        train_l_sum.append(np.mean(train_l))\n",
    "        test_l_sum.append(np.mean(test_l))\n",
    "        print('%d fold:No. %d,train loss : %f, test loss : %f' % \n",
    "              (k,j,train_l_sum[-1],test_l_sum[-1]))\n",
    "    print('%d fold train loss avg : %f,test loss avg : %f ' % (k,np.mean(train_l_sum)\n",
    "                                                              ,np.mean(test_l_sum)))\n",
    "    "
   ]
  },
  {
   "cell_type": "code",
   "execution_count": 88,
   "metadata": {
    "ExecuteTime": {
     "end_time": "2021-10-12T08:32:31.964127Z",
     "start_time": "2021-10-12T08:13:14.278911Z"
    }
   },
   "outputs": [
    {
     "name": "stdout",
     "output_type": "stream",
     "text": [
      "5 fold:No. 0,train loss : 32.944531, test loss : 42.002495\n",
      "5 fold:No. 1,train loss : 32.765359, test loss : 43.024784\n",
      "5 fold:No. 2,train loss : 32.323253, test loss : 45.014255\n",
      "5 fold:No. 3,train loss : 37.132110, test loss : 22.804949\n",
      "5 fold:No. 4,train loss : 34.597182, test loss : 34.595697\n",
      "5 fold train loss avg : 33.952487,test loss avg : 37.488436 \n"
     ]
    }
   ],
   "source": [
    "w=torch.Tensor(np.random.normal(0,0.01,(features.shape[1],1)))\n",
    "b=torch.Tensor([1.])\n",
    "for p in [w,b]:\n",
    "    p.requires_grad_(requires_grad=True)\n",
    "features=torch.Tensor(x1.values)\n",
    "labels=torch.Tensor(y)\n",
    "k=5\n",
    "num_epochs=5000\n",
    "lr=0.03\n",
    "batch_size=128\n",
    "train_kfold(k,num_epochs,features,labels,lr,batch_size)"
   ]
  },
  {
   "cell_type": "code",
   "execution_count": 38,
   "metadata": {
    "ExecuteTime": {
     "end_time": "2021-10-12T03:02:35.935858Z",
     "start_time": "2021-10-12T03:02:35.924858Z"
    }
   },
   "outputs": [
    {
     "data": {
      "text/plain": [
       "5.759340239992772"
      ]
     },
     "execution_count": 38,
     "metadata": {},
     "output_type": "execute_result"
    }
   ],
   "source": [
    "np.sqrt(33.17)"
   ]
  },
  {
   "cell_type": "markdown",
   "metadata": {},
   "source": [
    "add active func"
   ]
  },
  {
   "cell_type": "code",
   "execution_count": 69,
   "metadata": {
    "ExecuteTime": {
     "end_time": "2021-10-12T07:45:50.492892Z",
     "start_time": "2021-10-12T07:45:50.484891Z"
    },
    "collapsed": true
   },
   "outputs": [],
   "source": [
    "def relu(x):\n",
    "    return torch.max(x,torch.Tensor([0.]))"
   ]
  },
  {
   "cell_type": "markdown",
   "metadata": {},
   "source": [
    "add more layers"
   ]
  },
  {
   "cell_type": "code",
   "execution_count": 89,
   "metadata": {
    "ExecuteTime": {
     "end_time": "2021-10-12T08:34:56.607400Z",
     "start_time": "2021-10-12T08:34:56.596399Z"
    },
    "collapsed": true
   },
   "outputs": [],
   "source": [
    "def linear_reg2(x,w1,b1,w2,b2):\n",
    "    h1= relu(torch.mm(x,w1)+b1)\n",
    "    return torch.mm(h1,w2)+b2"
   ]
  },
  {
   "cell_type": "code",
   "execution_count": 102,
   "metadata": {
    "ExecuteTime": {
     "end_time": "2021-10-12T08:40:52.428751Z",
     "start_time": "2021-10-12T08:40:52.376749Z"
    },
    "collapsed": true
   },
   "outputs": [],
   "source": [
    "def train_hand2(params,num_epochs,x_train,y_train,x_test,y_test,lr,batch_size):\n",
    "    train_l,test_l=[],[]\n",
    "    dataset=torch.utils.data.TensorDataset(x_train,y_train)\n",
    "    data_iter=torch.utils.data.DataLoader(dataset,batch_size,shuffle=True)\n",
    "    min_loss=1000.\n",
    "    early_stop_cnt=0\n",
    "    for e in range(num_epochs):\n",
    "        for x,y in data_iter:\n",
    "            l=squared_loss(linear_reg2(x,params[0],params[1],params[2],params[3]),y).mean()\n",
    "            if params[0].grad is not None:\n",
    "                for p in params:\n",
    "                    p.grad.data.zero_()\n",
    "            l.backward()\n",
    "            sgd(params,lr,batch_size)\n",
    "        if (e+1) % 200 ==0:\n",
    "            train_l.append(squared_loss(linear_reg2(x_train,params[0],params[1],params[2],params[3]),y_train).mean().item())\n",
    "            if x_test is not None:\n",
    "                with torch.no_grad():\n",
    "                    test_l.append(squared_loss(linear_reg2(x_test,params[0],params[1],params[2],params[3]),y_test).mean().item())\n",
    "                    \n",
    "    return train_l,test_l\n",
    "                "
   ]
  },
  {
   "cell_type": "code",
   "execution_count": 105,
   "metadata": {
    "ExecuteTime": {
     "end_time": "2021-10-12T08:42:05.036904Z",
     "start_time": "2021-10-12T08:42:04.982901Z"
    },
    "collapsed": true
   },
   "outputs": [],
   "source": [
    "def train_kfold2(k,num_epochs,features,labels,lr,batch_size):\n",
    "    train_l_sum,test_l_sum=[],[]\n",
    "    for j in range(k):\n",
    "        w1=torch.Tensor(np.random.normal(0,0.01,(features.shape[1],64)))\n",
    "        w2=torch.Tensor(np.random.normal(0,0.01,(64,1)))\n",
    "        b1=torch.Tensor(np.ones(64))\n",
    "        b2=torch.Tensor([1.])\n",
    "        for p in [w1,b1,w2,b2]:\n",
    "            p.requires_grad_(requires_grad=True)\n",
    "        params=[w1,b1,w2,b2]\n",
    "        data=get_kfold_data(k,j,features,labels)\n",
    "        train_l,test_l=train_hand2(params,num_epochs,*data,lr,batch_size)\n",
    "        train_l_sum.append(np.mean(train_l))\n",
    "        test_l_sum.append(np.mean(test_l))\n",
    "        print('%d fold:No. %d,train loss : %f, test loss : %f' % \n",
    "              (k,j,train_l_sum[-1],test_l_sum[-1]))\n",
    "    print('%d fold train loss avg : %f,test loss avg : %f ' % (k,np.mean(train_l_sum)\n",
    "                                                              ,np.mean(test_l_sum)))\n",
    "    "
   ]
  },
  {
   "cell_type": "code",
   "execution_count": 106,
   "metadata": {
    "ExecuteTime": {
     "end_time": "2021-10-12T08:46:48.407112Z",
     "start_time": "2021-10-12T08:42:06.967015Z"
    }
   },
   "outputs": [
    {
     "name": "stdout",
     "output_type": "stream",
     "text": [
      "5 fold:No. 0,train loss : 31.898910, test loss : 40.648410\n",
      "5 fold:No. 1,train loss : 32.294398, test loss : 42.337601\n",
      "5 fold:No. 2,train loss : 30.990164, test loss : 45.626721\n",
      "5 fold:No. 3,train loss : 35.700326, test loss : 23.395190\n",
      "5 fold:No. 4,train loss : 33.496547, test loss : 36.045113\n",
      "5 fold train loss avg : 32.876069,test loss avg : 37.610607 \n"
     ]
    }
   ],
   "source": [
    "w1=torch.Tensor(np.random.normal(0,0.01,(features.shape[1],64)))\n",
    "w2=torch.Tensor(np.random.normal(0,0.01,(64,1)))\n",
    "b1=torch.Tensor(np.ones(64))\n",
    "b2=torch.Tensor([1.])\n",
    "for p in [w1,b1,w2,b2]:\n",
    "    p.requires_grad_(requires_grad=True)\n",
    "features=torch.Tensor(x1.values)\n",
    "labels=torch.Tensor(y)\n",
    "k=5\n",
    "num_epochs=1000\n",
    "lr=0.01\n",
    "batch_size=128\n",
    "train_kfold2(k,num_epochs,features,labels,lr,batch_size)"
   ]
  },
  {
   "cell_type": "code",
   "execution_count": null,
   "metadata": {
    "collapsed": true
   },
   "outputs": [],
   "source": []
  }
 ],
 "metadata": {
  "kernelspec": {
   "display_name": "Python 3",
   "language": "python",
   "name": "python3"
  },
  "language_info": {
   "codemirror_mode": {
    "name": "ipython",
    "version": 3
   },
   "file_extension": ".py",
   "mimetype": "text/x-python",
   "name": "python",
   "nbconvert_exporter": "python",
   "pygments_lexer": "ipython3",
   "version": "3.6.3"
  }
 },
 "nbformat": 4,
 "nbformat_minor": 2
}
