{
 "cells": [
  {
   "cell_type": "code",
   "execution_count": 3,
   "metadata": {
    "ExecuteTime": {
     "end_time": "2021-12-28T09:01:44.382587Z",
     "start_time": "2021-12-28T09:01:44.337584Z"
    }
   },
   "outputs": [
    {
     "name": "stdout",
     "output_type": "stream",
     "text": [
      "Using matplotlib backend: Qt5Agg\n"
     ]
    }
   ],
   "source": [
    "import numpy as np\n",
    "import torch \n",
    "import pandas as pd\n",
    "import torchvision\n",
    "from torch import optim,nn\n",
    "import seaborn as sns\n",
    "from scipy import stats\n",
    "from scipy.stats import norm,skew,kurtosis\n",
    "import matplotlib.pyplot as plt\n",
    "%matplotlib auto"
   ]
  },
  {
   "cell_type": "code",
   "execution_count": 4,
   "metadata": {
    "ExecuteTime": {
     "end_time": "2021-12-28T09:01:45.257637Z",
     "start_time": "2021-12-28T09:01:45.195633Z"
    },
    "collapsed": true
   },
   "outputs": [],
   "source": [
    "train_data=pd.read_csv(r'F:\\study\\ml\\HonyiLee2020\\hw1\\data\\train.csv',encoding='big5')\n",
    "test_data=pd.read_csv(r'F:\\study\\ml\\HonyiLee2020\\hw1\\data\\test.csv',encoding='big5',header=None)"
   ]
  },
  {
   "cell_type": "code",
   "execution_count": 5,
   "metadata": {
    "ExecuteTime": {
     "end_time": "2021-12-28T09:01:45.887673Z",
     "start_time": "2021-12-28T09:01:45.879672Z"
    }
   },
   "outputs": [
    {
     "name": "stdout",
     "output_type": "stream",
     "text": [
      "train_data shape:  (4320, 27)\n",
      "test_data shape:  (4320, 11)\n"
     ]
    }
   ],
   "source": [
    "print('train_data shape: ',train_data.shape)\n",
    "print('test_data shape: ',test_data.shape)"
   ]
  },
  {
   "cell_type": "code",
   "execution_count": 6,
   "metadata": {
    "ExecuteTime": {
     "end_time": "2021-12-28T09:01:46.529709Z",
     "start_time": "2021-12-28T09:01:46.457705Z"
    }
   },
   "outputs": [
    {
     "data": {
      "text/html": [
       "<div>\n",
       "<style>\n",
       "    .dataframe thead tr:only-child th {\n",
       "        text-align: right;\n",
       "    }\n",
       "\n",
       "    .dataframe thead th {\n",
       "        text-align: left;\n",
       "    }\n",
       "\n",
       "    .dataframe tbody tr th {\n",
       "        vertical-align: top;\n",
       "    }\n",
       "</style>\n",
       "<table border=\"1\" class=\"dataframe\">\n",
       "  <thead>\n",
       "    <tr style=\"text-align: right;\">\n",
       "      <th></th>\n",
       "      <th>日期</th>\n",
       "      <th>測站</th>\n",
       "      <th>測項</th>\n",
       "      <th>0</th>\n",
       "      <th>1</th>\n",
       "      <th>2</th>\n",
       "      <th>3</th>\n",
       "      <th>4</th>\n",
       "      <th>5</th>\n",
       "      <th>6</th>\n",
       "      <th>...</th>\n",
       "      <th>14</th>\n",
       "      <th>15</th>\n",
       "      <th>16</th>\n",
       "      <th>17</th>\n",
       "      <th>18</th>\n",
       "      <th>19</th>\n",
       "      <th>20</th>\n",
       "      <th>21</th>\n",
       "      <th>22</th>\n",
       "      <th>23</th>\n",
       "    </tr>\n",
       "  </thead>\n",
       "  <tbody>\n",
       "    <tr>\n",
       "      <th>0</th>\n",
       "      <td>2014/1/1</td>\n",
       "      <td>豐原</td>\n",
       "      <td>AMB_TEMP</td>\n",
       "      <td>14</td>\n",
       "      <td>14</td>\n",
       "      <td>14</td>\n",
       "      <td>13</td>\n",
       "      <td>12</td>\n",
       "      <td>12</td>\n",
       "      <td>12</td>\n",
       "      <td>...</td>\n",
       "      <td>22</td>\n",
       "      <td>22</td>\n",
       "      <td>21</td>\n",
       "      <td>19</td>\n",
       "      <td>17</td>\n",
       "      <td>16</td>\n",
       "      <td>15</td>\n",
       "      <td>15</td>\n",
       "      <td>15</td>\n",
       "      <td>15</td>\n",
       "    </tr>\n",
       "    <tr>\n",
       "      <th>1</th>\n",
       "      <td>2014/1/1</td>\n",
       "      <td>豐原</td>\n",
       "      <td>CH4</td>\n",
       "      <td>1.8</td>\n",
       "      <td>1.8</td>\n",
       "      <td>1.8</td>\n",
       "      <td>1.8</td>\n",
       "      <td>1.8</td>\n",
       "      <td>1.8</td>\n",
       "      <td>1.8</td>\n",
       "      <td>...</td>\n",
       "      <td>1.8</td>\n",
       "      <td>1.8</td>\n",
       "      <td>1.8</td>\n",
       "      <td>1.8</td>\n",
       "      <td>1.8</td>\n",
       "      <td>1.8</td>\n",
       "      <td>1.8</td>\n",
       "      <td>1.8</td>\n",
       "      <td>1.8</td>\n",
       "      <td>1.8</td>\n",
       "    </tr>\n",
       "    <tr>\n",
       "      <th>2</th>\n",
       "      <td>2014/1/1</td>\n",
       "      <td>豐原</td>\n",
       "      <td>CO</td>\n",
       "      <td>0.51</td>\n",
       "      <td>0.41</td>\n",
       "      <td>0.39</td>\n",
       "      <td>0.37</td>\n",
       "      <td>0.35</td>\n",
       "      <td>0.3</td>\n",
       "      <td>0.37</td>\n",
       "      <td>...</td>\n",
       "      <td>0.37</td>\n",
       "      <td>0.37</td>\n",
       "      <td>0.47</td>\n",
       "      <td>0.69</td>\n",
       "      <td>0.56</td>\n",
       "      <td>0.45</td>\n",
       "      <td>0.38</td>\n",
       "      <td>0.35</td>\n",
       "      <td>0.36</td>\n",
       "      <td>0.32</td>\n",
       "    </tr>\n",
       "    <tr>\n",
       "      <th>3</th>\n",
       "      <td>2014/1/1</td>\n",
       "      <td>豐原</td>\n",
       "      <td>NMHC</td>\n",
       "      <td>0.2</td>\n",
       "      <td>0.15</td>\n",
       "      <td>0.13</td>\n",
       "      <td>0.12</td>\n",
       "      <td>0.11</td>\n",
       "      <td>0.06</td>\n",
       "      <td>0.1</td>\n",
       "      <td>...</td>\n",
       "      <td>0.1</td>\n",
       "      <td>0.13</td>\n",
       "      <td>0.14</td>\n",
       "      <td>0.23</td>\n",
       "      <td>0.18</td>\n",
       "      <td>0.12</td>\n",
       "      <td>0.1</td>\n",
       "      <td>0.09</td>\n",
       "      <td>0.1</td>\n",
       "      <td>0.08</td>\n",
       "    </tr>\n",
       "    <tr>\n",
       "      <th>4</th>\n",
       "      <td>2014/1/1</td>\n",
       "      <td>豐原</td>\n",
       "      <td>NO</td>\n",
       "      <td>0.9</td>\n",
       "      <td>0.6</td>\n",
       "      <td>0.5</td>\n",
       "      <td>1.7</td>\n",
       "      <td>1.8</td>\n",
       "      <td>1.5</td>\n",
       "      <td>1.9</td>\n",
       "      <td>...</td>\n",
       "      <td>2.5</td>\n",
       "      <td>2.2</td>\n",
       "      <td>2.5</td>\n",
       "      <td>2.3</td>\n",
       "      <td>2.1</td>\n",
       "      <td>1.9</td>\n",
       "      <td>1.5</td>\n",
       "      <td>1.6</td>\n",
       "      <td>1.8</td>\n",
       "      <td>1.5</td>\n",
       "    </tr>\n",
       "  </tbody>\n",
       "</table>\n",
       "<p>5 rows × 27 columns</p>\n",
       "</div>"
      ],
      "text/plain": [
       "         日期  測站        測項     0     1     2     3     4     5     6  ...   \\\n",
       "0  2014/1/1  豐原  AMB_TEMP    14    14    14    13    12    12    12  ...    \n",
       "1  2014/1/1  豐原       CH4   1.8   1.8   1.8   1.8   1.8   1.8   1.8  ...    \n",
       "2  2014/1/1  豐原        CO  0.51  0.41  0.39  0.37  0.35   0.3  0.37  ...    \n",
       "3  2014/1/1  豐原      NMHC   0.2  0.15  0.13  0.12  0.11  0.06   0.1  ...    \n",
       "4  2014/1/1  豐原        NO   0.9   0.6   0.5   1.7   1.8   1.5   1.9  ...    \n",
       "\n",
       "     14    15    16    17    18    19    20    21    22    23  \n",
       "0    22    22    21    19    17    16    15    15    15    15  \n",
       "1   1.8   1.8   1.8   1.8   1.8   1.8   1.8   1.8   1.8   1.8  \n",
       "2  0.37  0.37  0.47  0.69  0.56  0.45  0.38  0.35  0.36  0.32  \n",
       "3   0.1  0.13  0.14  0.23  0.18  0.12   0.1  0.09   0.1  0.08  \n",
       "4   2.5   2.2   2.5   2.3   2.1   1.9   1.5   1.6   1.8   1.5  \n",
       "\n",
       "[5 rows x 27 columns]"
      ]
     },
     "execution_count": 6,
     "metadata": {},
     "output_type": "execute_result"
    }
   ],
   "source": [
    "train_data.head()"
   ]
  },
  {
   "cell_type": "code",
   "execution_count": 7,
   "metadata": {
    "ExecuteTime": {
     "end_time": "2021-12-28T09:01:46.974735Z",
     "start_time": "2021-12-28T09:01:46.955734Z"
    },
    "collapsed": true
   },
   "outputs": [],
   "source": [
    "train_data1=train_data.replace('NR',0)\n",
    "train_data1=train_data1.iloc[:,3:]"
   ]
  },
  {
   "cell_type": "markdown",
   "metadata": {},
   "source": [
    "- transform train data to 18 , 480 (20 days * 24 hours)"
   ]
  },
  {
   "cell_type": "code",
   "execution_count": 8,
   "metadata": {
    "ExecuteTime": {
     "end_time": "2021-12-28T09:01:48.667832Z",
     "start_time": "2021-12-28T09:01:48.571826Z"
    },
    "collapsed": true
   },
   "outputs": [],
   "source": [
    "year_data={}\n",
    "for m in range(12):\n",
    "    month_data=np.empty((18,20*24))\n",
    "    for d in range(20):\n",
    "#         print(18,'--',24*d,24*(d+1))\n",
    "#         print(m*480+18*d,m*480+18*(d+1),'--',24)\n",
    "        month_data[:,24*d:24*(d+1)]=train_data1.iloc[m*360+18*d:m*360+18*(d+1),:]\n",
    "    year_data[m]=month_data\n",
    "        "
   ]
  },
  {
   "cell_type": "code",
   "execution_count": 9,
   "metadata": {
    "ExecuteTime": {
     "end_time": "2021-12-28T09:01:49.345870Z",
     "start_time": "2021-12-28T09:01:49.335870Z"
    }
   },
   "outputs": [
    {
     "data": {
      "text/plain": [
       "array([[18.  , 18.  , 18.  , ..., 14.  , 13.  , 13.  ],\n",
       "       [ 1.8 ,  1.8 ,  1.8 , ...,  1.8 ,  1.8 ,  1.8 ],\n",
       "       [ 0.39,  0.36,  0.4 , ...,  0.42,  0.47,  0.49],\n",
       "       ...,\n",
       "       [21.  , 21.  , 16.  , ..., 23.  , 24.  , 23.  ],\n",
       "       [37.  , 43.  , 38.  , ..., 44.  , 54.  , 50.  ],\n",
       "       [13.  ,  7.  ,  3.  , ..., 27.  , 34.  , 32.  ]])"
      ]
     },
     "execution_count": 9,
     "metadata": {},
     "output_type": "execute_result"
    }
   ],
   "source": [
    "year_data[2][:10,:]"
   ]
  },
  {
   "cell_type": "code",
   "execution_count": 10,
   "metadata": {
    "ExecuteTime": {
     "end_time": "2021-12-28T09:01:49.959906Z",
     "start_time": "2021-12-28T09:01:49.949905Z"
    }
   },
   "outputs": [
    {
     "data": {
      "text/plain": [
       "array([[15.  , 14.  , 14.  , ...,  8.4 ,  8.  ,  7.6 ],\n",
       "       [ 1.8 ,  1.8 ,  1.7 , ...,  1.7 ,  1.7 ,  1.7 ],\n",
       "       [ 0.27,  0.26,  0.25, ...,  0.36,  0.35,  0.32],\n",
       "       ...,\n",
       "       [45.  , 45.  , 45.  , ..., 39.  , 39.  , 38.  ],\n",
       "       [32.  , 22.  , 27.  , ..., 62.  , 60.  , 65.  ],\n",
       "       [30.  , 32.  , 36.  , ..., 35.  , 38.  , 34.  ]])"
      ]
     },
     "execution_count": 10,
     "metadata": {},
     "output_type": "execute_result"
    }
   ],
   "source": [
    "year_data[1][:10,:]"
   ]
  },
  {
   "cell_type": "code",
   "execution_count": 11,
   "metadata": {
    "ExecuteTime": {
     "end_time": "2021-12-28T09:01:50.751951Z",
     "start_time": "2021-12-28T09:01:50.740950Z"
    }
   },
   "outputs": [
    {
     "data": {
      "text/plain": [
       "(18, 480)"
      ]
     },
     "execution_count": 11,
     "metadata": {},
     "output_type": "execute_result"
    }
   ],
   "source": [
    "year_data[0].shape"
   ]
  },
  {
   "cell_type": "markdown",
   "metadata": {
    "collapsed": true
   },
   "source": [
    "- split every 9 hours to a group,so 480 -9 = 471 groups\n",
    "- all data x = (12 * 471 ,18 * 9 ) , y = (12 * 471 ,1)"
   ]
  },
  {
   "cell_type": "code",
   "execution_count": 12,
   "metadata": {
    "ExecuteTime": {
     "end_time": "2021-12-28T09:01:52.197034Z",
     "start_time": "2021-12-28T09:01:52.189033Z"
    },
    "collapsed": true
   },
   "outputs": [],
   "source": [
    "x=np.empty((12*471,9*18))\n",
    "y=np.empty((12*471,1))"
   ]
  },
  {
   "cell_type": "code",
   "execution_count": 13,
   "metadata": {
    "ExecuteTime": {
     "end_time": "2021-12-28T09:01:52.924075Z",
     "start_time": "2021-12-28T09:01:52.869072Z"
    },
    "collapsed": true
   },
   "outputs": [],
   "source": [
    "for m in range(12):\n",
    "    for i in range(471):\n",
    "        x[471*m+i:471*m+i+1,:]=year_data[m][:,i:i+9].reshape(1,-1)\n",
    "        y[471*m+i:471*m+i+1,:]=year_data[m][9,9+i]"
   ]
  },
  {
   "cell_type": "code",
   "execution_count": 14,
   "metadata": {
    "ExecuteTime": {
     "end_time": "2021-12-28T09:01:59.731464Z",
     "start_time": "2021-12-28T09:01:56.674290Z"
    },
    "collapsed": true
   },
   "outputs": [],
   "source": [
    "sns.distplot(y,fit=norm)\n",
    "plt.show()"
   ]
  },
  {
   "cell_type": "markdown",
   "metadata": {},
   "source": [
    "- 通过观察y的高斯分布图:发现y明显是左偏"
   ]
  },
  {
   "cell_type": "code",
   "execution_count": 15,
   "metadata": {
    "ExecuteTime": {
     "end_time": "2021-12-28T09:02:03.358672Z",
     "start_time": "2021-12-28T09:02:03.347671Z"
    }
   },
   "outputs": [
    {
     "data": {
      "text/plain": [
       "(5652, 1)"
      ]
     },
     "execution_count": 15,
     "metadata": {},
     "output_type": "execute_result"
    }
   ],
   "source": [
    "y.shape"
   ]
  },
  {
   "cell_type": "code",
   "execution_count": 16,
   "metadata": {
    "ExecuteTime": {
     "end_time": "2021-12-28T09:02:04.244723Z",
     "start_time": "2021-12-28T09:02:04.235722Z"
    },
    "collapsed": true
   },
   "outputs": [],
   "source": [
    "yy=pd.DataFrame({'pm25':y.flatten()})"
   ]
  },
  {
   "cell_type": "code",
   "execution_count": 17,
   "metadata": {
    "ExecuteTime": {
     "end_time": "2021-12-28T09:02:04.824756Z",
     "start_time": "2021-12-28T09:02:04.805755Z"
    }
   },
   "outputs": [
    {
     "data": {
      "text/html": [
       "<div>\n",
       "<style>\n",
       "    .dataframe thead tr:only-child th {\n",
       "        text-align: right;\n",
       "    }\n",
       "\n",
       "    .dataframe thead th {\n",
       "        text-align: left;\n",
       "    }\n",
       "\n",
       "    .dataframe tbody tr th {\n",
       "        vertical-align: top;\n",
       "    }\n",
       "</style>\n",
       "<table border=\"1\" class=\"dataframe\">\n",
       "  <thead>\n",
       "    <tr style=\"text-align: right;\">\n",
       "      <th></th>\n",
       "      <th>pm25</th>\n",
       "    </tr>\n",
       "  </thead>\n",
       "  <tbody>\n",
       "    <tr>\n",
       "      <th>count</th>\n",
       "      <td>5652.000000</td>\n",
       "    </tr>\n",
       "    <tr>\n",
       "      <th>mean</th>\n",
       "      <td>21.374027</td>\n",
       "    </tr>\n",
       "    <tr>\n",
       "      <th>std</th>\n",
       "      <td>16.614767</td>\n",
       "    </tr>\n",
       "    <tr>\n",
       "      <th>min</th>\n",
       "      <td>-1.000000</td>\n",
       "    </tr>\n",
       "    <tr>\n",
       "      <th>25%</th>\n",
       "      <td>9.000000</td>\n",
       "    </tr>\n",
       "    <tr>\n",
       "      <th>50%</th>\n",
       "      <td>18.000000</td>\n",
       "    </tr>\n",
       "    <tr>\n",
       "      <th>75%</th>\n",
       "      <td>29.250000</td>\n",
       "    </tr>\n",
       "    <tr>\n",
       "      <th>max</th>\n",
       "      <td>112.000000</td>\n",
       "    </tr>\n",
       "  </tbody>\n",
       "</table>\n",
       "</div>"
      ],
      "text/plain": [
       "              pm25\n",
       "count  5652.000000\n",
       "mean     21.374027\n",
       "std      16.614767\n",
       "min      -1.000000\n",
       "25%       9.000000\n",
       "50%      18.000000\n",
       "75%      29.250000\n",
       "max     112.000000"
      ]
     },
     "execution_count": 17,
     "metadata": {},
     "output_type": "execute_result"
    }
   ],
   "source": [
    "yy.describe()"
   ]
  },
  {
   "cell_type": "markdown",
   "metadata": {},
   "source": [
    "- y有-1 属于异常值,需要处理"
   ]
  },
  {
   "cell_type": "code",
   "execution_count": 18,
   "metadata": {
    "ExecuteTime": {
     "end_time": "2021-12-28T09:02:06.011824Z",
     "start_time": "2021-12-28T09:02:05.995823Z"
    }
   },
   "outputs": [
    {
     "data": {
      "text/html": [
       "<div>\n",
       "<style>\n",
       "    .dataframe thead tr:only-child th {\n",
       "        text-align: right;\n",
       "    }\n",
       "\n",
       "    .dataframe thead th {\n",
       "        text-align: left;\n",
       "    }\n",
       "\n",
       "    .dataframe tbody tr th {\n",
       "        vertical-align: top;\n",
       "    }\n",
       "</style>\n",
       "<table border=\"1\" class=\"dataframe\">\n",
       "  <thead>\n",
       "    <tr style=\"text-align: right;\">\n",
       "      <th></th>\n",
       "      <th>pm25</th>\n",
       "    </tr>\n",
       "  </thead>\n",
       "  <tbody>\n",
       "    <tr>\n",
       "      <th>0</th>\n",
       "      <td>30.0</td>\n",
       "    </tr>\n",
       "    <tr>\n",
       "      <th>1</th>\n",
       "      <td>41.0</td>\n",
       "    </tr>\n",
       "    <tr>\n",
       "      <th>2</th>\n",
       "      <td>44.0</td>\n",
       "    </tr>\n",
       "    <tr>\n",
       "      <th>3</th>\n",
       "      <td>33.0</td>\n",
       "    </tr>\n",
       "    <tr>\n",
       "      <th>4</th>\n",
       "      <td>37.0</td>\n",
       "    </tr>\n",
       "  </tbody>\n",
       "</table>\n",
       "</div>"
      ],
      "text/plain": [
       "   pm25\n",
       "0  30.0\n",
       "1  41.0\n",
       "2  44.0\n",
       "3  33.0\n",
       "4  37.0"
      ]
     },
     "execution_count": 18,
     "metadata": {},
     "output_type": "execute_result"
    }
   ],
   "source": [
    "yy.head()"
   ]
  },
  {
   "cell_type": "code",
   "execution_count": 19,
   "metadata": {
    "ExecuteTime": {
     "end_time": "2021-12-28T09:02:06.524853Z",
     "start_time": "2021-12-28T09:02:06.486851Z"
    }
   },
   "outputs": [
    {
     "data": {
      "text/html": [
       "<div>\n",
       "<style>\n",
       "    .dataframe thead tr:only-child th {\n",
       "        text-align: right;\n",
       "    }\n",
       "\n",
       "    .dataframe thead th {\n",
       "        text-align: left;\n",
       "    }\n",
       "\n",
       "    .dataframe tbody tr th {\n",
       "        vertical-align: top;\n",
       "    }\n",
       "</style>\n",
       "<table border=\"1\" class=\"dataframe\">\n",
       "  <thead>\n",
       "    <tr style=\"text-align: right;\">\n",
       "      <th></th>\n",
       "      <th>pm25</th>\n",
       "    </tr>\n",
       "  </thead>\n",
       "  <tbody>\n",
       "    <tr>\n",
       "      <th>460</th>\n",
       "      <td>-1.0</td>\n",
       "    </tr>\n",
       "    <tr>\n",
       "      <th>1414</th>\n",
       "      <td>-1.0</td>\n",
       "    </tr>\n",
       "    <tr>\n",
       "      <th>1582</th>\n",
       "      <td>-1.0</td>\n",
       "    </tr>\n",
       "    <tr>\n",
       "      <th>1755</th>\n",
       "      <td>-1.0</td>\n",
       "    </tr>\n",
       "    <tr>\n",
       "      <th>1979</th>\n",
       "      <td>-1.0</td>\n",
       "    </tr>\n",
       "    <tr>\n",
       "      <th>1980</th>\n",
       "      <td>-1.0</td>\n",
       "    </tr>\n",
       "    <tr>\n",
       "      <th>1981</th>\n",
       "      <td>-1.0</td>\n",
       "    </tr>\n",
       "    <tr>\n",
       "      <th>1982</th>\n",
       "      <td>-1.0</td>\n",
       "    </tr>\n",
       "    <tr>\n",
       "      <th>1983</th>\n",
       "      <td>-1.0</td>\n",
       "    </tr>\n",
       "    <tr>\n",
       "      <th>1984</th>\n",
       "      <td>-1.0</td>\n",
       "    </tr>\n",
       "    <tr>\n",
       "      <th>1996</th>\n",
       "      <td>-1.0</td>\n",
       "    </tr>\n",
       "    <tr>\n",
       "      <th>1997</th>\n",
       "      <td>-1.0</td>\n",
       "    </tr>\n",
       "    <tr>\n",
       "      <th>1998</th>\n",
       "      <td>-1.0</td>\n",
       "    </tr>\n",
       "    <tr>\n",
       "      <th>2004</th>\n",
       "      <td>-1.0</td>\n",
       "    </tr>\n",
       "    <tr>\n",
       "      <th>2014</th>\n",
       "      <td>-1.0</td>\n",
       "    </tr>\n",
       "    <tr>\n",
       "      <th>2015</th>\n",
       "      <td>-1.0</td>\n",
       "    </tr>\n",
       "    <tr>\n",
       "      <th>2016</th>\n",
       "      <td>-1.0</td>\n",
       "    </tr>\n",
       "    <tr>\n",
       "      <th>2020</th>\n",
       "      <td>-1.0</td>\n",
       "    </tr>\n",
       "    <tr>\n",
       "      <th>2021</th>\n",
       "      <td>-1.0</td>\n",
       "    </tr>\n",
       "    <tr>\n",
       "      <th>2022</th>\n",
       "      <td>-1.0</td>\n",
       "    </tr>\n",
       "    <tr>\n",
       "      <th>2023</th>\n",
       "      <td>-1.0</td>\n",
       "    </tr>\n",
       "    <tr>\n",
       "      <th>2024</th>\n",
       "      <td>-1.0</td>\n",
       "    </tr>\n",
       "    <tr>\n",
       "      <th>2025</th>\n",
       "      <td>-1.0</td>\n",
       "    </tr>\n",
       "    <tr>\n",
       "      <th>2026</th>\n",
       "      <td>-1.0</td>\n",
       "    </tr>\n",
       "    <tr>\n",
       "      <th>2027</th>\n",
       "      <td>-1.0</td>\n",
       "    </tr>\n",
       "    <tr>\n",
       "      <th>2028</th>\n",
       "      <td>-1.0</td>\n",
       "    </tr>\n",
       "    <tr>\n",
       "      <th>2029</th>\n",
       "      <td>-1.0</td>\n",
       "    </tr>\n",
       "    <tr>\n",
       "      <th>2030</th>\n",
       "      <td>-1.0</td>\n",
       "    </tr>\n",
       "    <tr>\n",
       "      <th>2173</th>\n",
       "      <td>-1.0</td>\n",
       "    </tr>\n",
       "    <tr>\n",
       "      <th>2174</th>\n",
       "      <td>-1.0</td>\n",
       "    </tr>\n",
       "    <tr>\n",
       "      <th>2998</th>\n",
       "      <td>-1.0</td>\n",
       "    </tr>\n",
       "    <tr>\n",
       "      <th>2999</th>\n",
       "      <td>-1.0</td>\n",
       "    </tr>\n",
       "    <tr>\n",
       "      <th>5078</th>\n",
       "      <td>-1.0</td>\n",
       "    </tr>\n",
       "    <tr>\n",
       "      <th>5079</th>\n",
       "      <td>-1.0</td>\n",
       "    </tr>\n",
       "    <tr>\n",
       "      <th>5080</th>\n",
       "      <td>-1.0</td>\n",
       "    </tr>\n",
       "    <tr>\n",
       "      <th>5081</th>\n",
       "      <td>-1.0</td>\n",
       "    </tr>\n",
       "    <tr>\n",
       "      <th>5082</th>\n",
       "      <td>-1.0</td>\n",
       "    </tr>\n",
       "    <tr>\n",
       "      <th>5083</th>\n",
       "      <td>-1.0</td>\n",
       "    </tr>\n",
       "    <tr>\n",
       "      <th>5084</th>\n",
       "      <td>-1.0</td>\n",
       "    </tr>\n",
       "    <tr>\n",
       "      <th>5085</th>\n",
       "      <td>-1.0</td>\n",
       "    </tr>\n",
       "    <tr>\n",
       "      <th>5086</th>\n",
       "      <td>-1.0</td>\n",
       "    </tr>\n",
       "    <tr>\n",
       "      <th>5087</th>\n",
       "      <td>-1.0</td>\n",
       "    </tr>\n",
       "    <tr>\n",
       "      <th>5088</th>\n",
       "      <td>-1.0</td>\n",
       "    </tr>\n",
       "    <tr>\n",
       "      <th>5089</th>\n",
       "      <td>-1.0</td>\n",
       "    </tr>\n",
       "    <tr>\n",
       "      <th>5090</th>\n",
       "      <td>-1.0</td>\n",
       "    </tr>\n",
       "    <tr>\n",
       "      <th>5091</th>\n",
       "      <td>-1.0</td>\n",
       "    </tr>\n",
       "    <tr>\n",
       "      <th>5092</th>\n",
       "      <td>-1.0</td>\n",
       "    </tr>\n",
       "    <tr>\n",
       "      <th>5093</th>\n",
       "      <td>-1.0</td>\n",
       "    </tr>\n",
       "    <tr>\n",
       "      <th>5094</th>\n",
       "      <td>-1.0</td>\n",
       "    </tr>\n",
       "    <tr>\n",
       "      <th>5095</th>\n",
       "      <td>-1.0</td>\n",
       "    </tr>\n",
       "    <tr>\n",
       "      <th>5352</th>\n",
       "      <td>-1.0</td>\n",
       "    </tr>\n",
       "    <tr>\n",
       "      <th>5353</th>\n",
       "      <td>-1.0</td>\n",
       "    </tr>\n",
       "  </tbody>\n",
       "</table>\n",
       "</div>"
      ],
      "text/plain": [
       "      pm25\n",
       "460   -1.0\n",
       "1414  -1.0\n",
       "1582  -1.0\n",
       "1755  -1.0\n",
       "1979  -1.0\n",
       "1980  -1.0\n",
       "1981  -1.0\n",
       "1982  -1.0\n",
       "1983  -1.0\n",
       "1984  -1.0\n",
       "1996  -1.0\n",
       "1997  -1.0\n",
       "1998  -1.0\n",
       "2004  -1.0\n",
       "2014  -1.0\n",
       "2015  -1.0\n",
       "2016  -1.0\n",
       "2020  -1.0\n",
       "2021  -1.0\n",
       "2022  -1.0\n",
       "2023  -1.0\n",
       "2024  -1.0\n",
       "2025  -1.0\n",
       "2026  -1.0\n",
       "2027  -1.0\n",
       "2028  -1.0\n",
       "2029  -1.0\n",
       "2030  -1.0\n",
       "2173  -1.0\n",
       "2174  -1.0\n",
       "2998  -1.0\n",
       "2999  -1.0\n",
       "5078  -1.0\n",
       "5079  -1.0\n",
       "5080  -1.0\n",
       "5081  -1.0\n",
       "5082  -1.0\n",
       "5083  -1.0\n",
       "5084  -1.0\n",
       "5085  -1.0\n",
       "5086  -1.0\n",
       "5087  -1.0\n",
       "5088  -1.0\n",
       "5089  -1.0\n",
       "5090  -1.0\n",
       "5091  -1.0\n",
       "5092  -1.0\n",
       "5093  -1.0\n",
       "5094  -1.0\n",
       "5095  -1.0\n",
       "5352  -1.0\n",
       "5353  -1.0"
      ]
     },
     "execution_count": 19,
     "metadata": {},
     "output_type": "execute_result"
    }
   ],
   "source": [
    "yy[yy['pm25']==-1]"
   ]
  },
  {
   "cell_type": "code",
   "execution_count": 20,
   "metadata": {
    "ExecuteTime": {
     "end_time": "2021-12-28T09:02:06.980879Z",
     "start_time": "2021-12-28T09:02:06.953878Z"
    }
   },
   "outputs": [
    {
     "data": {
      "text/html": [
       "<div>\n",
       "<style>\n",
       "    .dataframe thead tr:only-child th {\n",
       "        text-align: right;\n",
       "    }\n",
       "\n",
       "    .dataframe thead th {\n",
       "        text-align: left;\n",
       "    }\n",
       "\n",
       "    .dataframe tbody tr th {\n",
       "        vertical-align: top;\n",
       "    }\n",
       "</style>\n",
       "<table border=\"1\" class=\"dataframe\">\n",
       "  <thead>\n",
       "    <tr style=\"text-align: right;\">\n",
       "      <th></th>\n",
       "      <th>pm25</th>\n",
       "    </tr>\n",
       "  </thead>\n",
       "  <tbody>\n",
       "    <tr>\n",
       "      <th>210</th>\n",
       "      <td>0.0</td>\n",
       "    </tr>\n",
       "    <tr>\n",
       "      <th>211</th>\n",
       "      <td>0.0</td>\n",
       "    </tr>\n",
       "    <tr>\n",
       "      <th>543</th>\n",
       "      <td>0.0</td>\n",
       "    </tr>\n",
       "    <tr>\n",
       "      <th>562</th>\n",
       "      <td>0.0</td>\n",
       "    </tr>\n",
       "    <tr>\n",
       "      <th>563</th>\n",
       "      <td>0.0</td>\n",
       "    </tr>\n",
       "    <tr>\n",
       "      <th>564</th>\n",
       "      <td>0.0</td>\n",
       "    </tr>\n",
       "    <tr>\n",
       "      <th>648</th>\n",
       "      <td>0.0</td>\n",
       "    </tr>\n",
       "    <tr>\n",
       "      <th>656</th>\n",
       "      <td>0.0</td>\n",
       "    </tr>\n",
       "    <tr>\n",
       "      <th>657</th>\n",
       "      <td>0.0</td>\n",
       "    </tr>\n",
       "    <tr>\n",
       "      <th>658</th>\n",
       "      <td>0.0</td>\n",
       "    </tr>\n",
       "    <tr>\n",
       "      <th>666</th>\n",
       "      <td>0.0</td>\n",
       "    </tr>\n",
       "    <tr>\n",
       "      <th>667</th>\n",
       "      <td>0.0</td>\n",
       "    </tr>\n",
       "    <tr>\n",
       "      <th>675</th>\n",
       "      <td>0.0</td>\n",
       "    </tr>\n",
       "    <tr>\n",
       "      <th>677</th>\n",
       "      <td>0.0</td>\n",
       "    </tr>\n",
       "    <tr>\n",
       "      <th>678</th>\n",
       "      <td>0.0</td>\n",
       "    </tr>\n",
       "    <tr>\n",
       "      <th>679</th>\n",
       "      <td>0.0</td>\n",
       "    </tr>\n",
       "    <tr>\n",
       "      <th>687</th>\n",
       "      <td>0.0</td>\n",
       "    </tr>\n",
       "    <tr>\n",
       "      <th>703</th>\n",
       "      <td>0.0</td>\n",
       "    </tr>\n",
       "    <tr>\n",
       "      <th>730</th>\n",
       "      <td>0.0</td>\n",
       "    </tr>\n",
       "    <tr>\n",
       "      <th>731</th>\n",
       "      <td>0.0</td>\n",
       "    </tr>\n",
       "    <tr>\n",
       "      <th>760</th>\n",
       "      <td>0.0</td>\n",
       "    </tr>\n",
       "    <tr>\n",
       "      <th>891</th>\n",
       "      <td>0.0</td>\n",
       "    </tr>\n",
       "    <tr>\n",
       "      <th>892</th>\n",
       "      <td>0.0</td>\n",
       "    </tr>\n",
       "    <tr>\n",
       "      <th>896</th>\n",
       "      <td>0.0</td>\n",
       "    </tr>\n",
       "    <tr>\n",
       "      <th>897</th>\n",
       "      <td>0.0</td>\n",
       "    </tr>\n",
       "    <tr>\n",
       "      <th>898</th>\n",
       "      <td>0.0</td>\n",
       "    </tr>\n",
       "    <tr>\n",
       "      <th>905</th>\n",
       "      <td>0.0</td>\n",
       "    </tr>\n",
       "    <tr>\n",
       "      <th>906</th>\n",
       "      <td>0.0</td>\n",
       "    </tr>\n",
       "    <tr>\n",
       "      <th>907</th>\n",
       "      <td>0.0</td>\n",
       "    </tr>\n",
       "    <tr>\n",
       "      <th>908</th>\n",
       "      <td>0.0</td>\n",
       "    </tr>\n",
       "    <tr>\n",
       "      <th>...</th>\n",
       "      <td>...</td>\n",
       "    </tr>\n",
       "    <tr>\n",
       "      <th>5135</th>\n",
       "      <td>0.0</td>\n",
       "    </tr>\n",
       "    <tr>\n",
       "      <th>5162</th>\n",
       "      <td>0.0</td>\n",
       "    </tr>\n",
       "    <tr>\n",
       "      <th>5181</th>\n",
       "      <td>0.0</td>\n",
       "    </tr>\n",
       "    <tr>\n",
       "      <th>5198</th>\n",
       "      <td>0.0</td>\n",
       "    </tr>\n",
       "    <tr>\n",
       "      <th>5247</th>\n",
       "      <td>0.0</td>\n",
       "    </tr>\n",
       "    <tr>\n",
       "      <th>5248</th>\n",
       "      <td>0.0</td>\n",
       "    </tr>\n",
       "    <tr>\n",
       "      <th>5249</th>\n",
       "      <td>0.0</td>\n",
       "    </tr>\n",
       "    <tr>\n",
       "      <th>5250</th>\n",
       "      <td>0.0</td>\n",
       "    </tr>\n",
       "    <tr>\n",
       "      <th>5251</th>\n",
       "      <td>0.0</td>\n",
       "    </tr>\n",
       "    <tr>\n",
       "      <th>5252</th>\n",
       "      <td>0.0</td>\n",
       "    </tr>\n",
       "    <tr>\n",
       "      <th>5253</th>\n",
       "      <td>0.0</td>\n",
       "    </tr>\n",
       "    <tr>\n",
       "      <th>5254</th>\n",
       "      <td>0.0</td>\n",
       "    </tr>\n",
       "    <tr>\n",
       "      <th>5255</th>\n",
       "      <td>0.0</td>\n",
       "    </tr>\n",
       "    <tr>\n",
       "      <th>5256</th>\n",
       "      <td>0.0</td>\n",
       "    </tr>\n",
       "    <tr>\n",
       "      <th>5257</th>\n",
       "      <td>0.0</td>\n",
       "    </tr>\n",
       "    <tr>\n",
       "      <th>5258</th>\n",
       "      <td>0.0</td>\n",
       "    </tr>\n",
       "    <tr>\n",
       "      <th>5294</th>\n",
       "      <td>0.0</td>\n",
       "    </tr>\n",
       "    <tr>\n",
       "      <th>5295</th>\n",
       "      <td>0.0</td>\n",
       "    </tr>\n",
       "    <tr>\n",
       "      <th>5322</th>\n",
       "      <td>0.0</td>\n",
       "    </tr>\n",
       "    <tr>\n",
       "      <th>5323</th>\n",
       "      <td>0.0</td>\n",
       "    </tr>\n",
       "    <tr>\n",
       "      <th>5324</th>\n",
       "      <td>0.0</td>\n",
       "    </tr>\n",
       "    <tr>\n",
       "      <th>5418</th>\n",
       "      <td>0.0</td>\n",
       "    </tr>\n",
       "    <tr>\n",
       "      <th>5419</th>\n",
       "      <td>0.0</td>\n",
       "    </tr>\n",
       "    <tr>\n",
       "      <th>5447</th>\n",
       "      <td>0.0</td>\n",
       "    </tr>\n",
       "    <tr>\n",
       "      <th>5576</th>\n",
       "      <td>0.0</td>\n",
       "    </tr>\n",
       "    <tr>\n",
       "      <th>5580</th>\n",
       "      <td>0.0</td>\n",
       "    </tr>\n",
       "    <tr>\n",
       "      <th>5625</th>\n",
       "      <td>0.0</td>\n",
       "    </tr>\n",
       "    <tr>\n",
       "      <th>5632</th>\n",
       "      <td>0.0</td>\n",
       "    </tr>\n",
       "    <tr>\n",
       "      <th>5633</th>\n",
       "      <td>0.0</td>\n",
       "    </tr>\n",
       "    <tr>\n",
       "      <th>5634</th>\n",
       "      <td>0.0</td>\n",
       "    </tr>\n",
       "  </tbody>\n",
       "</table>\n",
       "<p>217 rows × 1 columns</p>\n",
       "</div>"
      ],
      "text/plain": [
       "      pm25\n",
       "210    0.0\n",
       "211    0.0\n",
       "543    0.0\n",
       "562    0.0\n",
       "563    0.0\n",
       "564    0.0\n",
       "648    0.0\n",
       "656    0.0\n",
       "657    0.0\n",
       "658    0.0\n",
       "666    0.0\n",
       "667    0.0\n",
       "675    0.0\n",
       "677    0.0\n",
       "678    0.0\n",
       "679    0.0\n",
       "687    0.0\n",
       "703    0.0\n",
       "730    0.0\n",
       "731    0.0\n",
       "760    0.0\n",
       "891    0.0\n",
       "892    0.0\n",
       "896    0.0\n",
       "897    0.0\n",
       "898    0.0\n",
       "905    0.0\n",
       "906    0.0\n",
       "907    0.0\n",
       "908    0.0\n",
       "...    ...\n",
       "5135   0.0\n",
       "5162   0.0\n",
       "5181   0.0\n",
       "5198   0.0\n",
       "5247   0.0\n",
       "5248   0.0\n",
       "5249   0.0\n",
       "5250   0.0\n",
       "5251   0.0\n",
       "5252   0.0\n",
       "5253   0.0\n",
       "5254   0.0\n",
       "5255   0.0\n",
       "5256   0.0\n",
       "5257   0.0\n",
       "5258   0.0\n",
       "5294   0.0\n",
       "5295   0.0\n",
       "5322   0.0\n",
       "5323   0.0\n",
       "5324   0.0\n",
       "5418   0.0\n",
       "5419   0.0\n",
       "5447   0.0\n",
       "5576   0.0\n",
       "5580   0.0\n",
       "5625   0.0\n",
       "5632   0.0\n",
       "5633   0.0\n",
       "5634   0.0\n",
       "\n",
       "[217 rows x 1 columns]"
      ]
     },
     "execution_count": 20,
     "metadata": {},
     "output_type": "execute_result"
    }
   ],
   "source": [
    "yy[yy['pm25']==0]"
   ]
  },
  {
   "attachments": {
    "image.png": {
     "image/png": "[encoded data removed]"
    }
   },
   "cell_type": "markdown",
   "metadata": {},
   "source": [
    "- -1对应的组的数据,通过观察 461和 4699 组的数据,发现 pm2.5 为-1 的前后组的数据,都是如图 \n",
    "![image.png](attachment:image.png)故认为应该取均值,而不是-1"
   ]
  },
  {
   "cell_type": "markdown",
   "metadata": {
    "ExecuteTime": {
     "end_time": "2021-12-15T05:55:40.551119Z",
     "start_time": "2021-12-15T05:55:40.541118Z"
    }
   },
   "source": [
    "- 对比0 前后组的数据,是前面往往是6,7,8,7 到0 ,而不像-1,是45,46,-1,57 ,故认为-1处不应该是0 ,而应该是前后的均值"
   ]
  },
  {
   "cell_type": "code",
   "execution_count": 21,
   "metadata": {
    "ExecuteTime": {
     "end_time": "2021-12-28T09:02:10.422076Z",
     "start_time": "2021-12-28T09:02:10.411075Z"
    }
   },
   "outputs": [
    {
     "data": {
      "text/plain": [
       "pm25   -1.0\n",
       "Name: 460, dtype: float64"
      ]
     },
     "execution_count": 21,
     "metadata": {},
     "output_type": "execute_result"
    }
   ],
   "source": [
    "yy.iloc[460,:]"
   ]
  },
  {
   "cell_type": "code",
   "execution_count": 22,
   "metadata": {
    "ExecuteTime": {
     "end_time": "2021-12-28T09:02:11.453135Z",
     "start_time": "2021-12-28T09:02:11.443134Z"
    }
   },
   "outputs": [
    {
     "data": {
      "text/plain": [
       "array([60., 66., 53., 55., 57., 57., 51., 46., -1.])"
      ]
     },
     "execution_count": 22,
     "metadata": {},
     "output_type": "execute_result"
    }
   ],
   "source": [
    "x[461,9*9:9*10]"
   ]
  },
  {
   "cell_type": "code",
   "execution_count": 23,
   "metadata": {
    "ExecuteTime": {
     "end_time": "2021-12-28T09:02:12.070170Z",
     "start_time": "2021-12-28T09:02:12.060170Z"
    }
   },
   "outputs": [
    {
     "data": {
      "text/plain": [
       "array([66., 53., 55., 57., 57., 51., 46., -1., 51.])"
      ]
     },
     "execution_count": 23,
     "metadata": {},
     "output_type": "execute_result"
    }
   ],
   "source": [
    "x[462,9*9:9*10]"
   ]
  },
  {
   "cell_type": "code",
   "execution_count": 24,
   "metadata": {
    "ExecuteTime": {
     "end_time": "2021-12-28T09:02:13.267239Z",
     "start_time": "2021-12-28T09:02:13.254238Z"
    }
   },
   "outputs": [
    {
     "data": {
      "text/plain": [
       "array([18., 22., 15., 11.,  1.,  1.,  6.,  7.,  7.])"
      ]
     },
     "execution_count": 24,
     "metadata": {},
     "output_type": "execute_result"
    }
   ],
   "source": [
    "x[210,9*9:9*10]"
   ]
  },
  {
   "cell_type": "code",
   "execution_count": 25,
   "metadata": {
    "ExecuteTime": {
     "end_time": "2021-12-28T09:02:13.883274Z",
     "start_time": "2021-12-28T09:02:13.873273Z"
    }
   },
   "outputs": [
    {
     "data": {
      "text/plain": [
       "array([22., 15., 11.,  1.,  1.,  6.,  7.,  7.,  0.])"
      ]
     },
     "execution_count": 25,
     "metadata": {},
     "output_type": "execute_result"
    }
   ],
   "source": [
    "x[211,9*9:9*10]"
   ]
  },
  {
   "cell_type": "code",
   "execution_count": 26,
   "metadata": {
    "ExecuteTime": {
     "end_time": "2021-12-28T09:02:14.432305Z",
     "start_time": "2021-12-28T09:02:14.419305Z"
    }
   },
   "outputs": [
    {
     "data": {
      "text/plain": [
       "array([15., 11.,  1.,  1.,  6.,  7.,  7.,  0.,  0.])"
      ]
     },
     "execution_count": 26,
     "metadata": {},
     "output_type": "execute_result"
    }
   ],
   "source": [
    "x[212,9*9:9*10]"
   ]
  },
  {
   "cell_type": "code",
   "execution_count": 27,
   "metadata": {
    "ExecuteTime": {
     "end_time": "2021-12-28T09:02:14.973336Z",
     "start_time": "2021-12-28T09:02:14.965336Z"
    }
   },
   "outputs": [
    {
     "data": {
      "text/plain": [
       "array([-1., -1., -1., -1., -1., -1., -1., -1., -1.])"
      ]
     },
     "execution_count": 27,
     "metadata": {},
     "output_type": "execute_result"
    }
   ],
   "source": [
    "x[5087,9*9:9*10]"
   ]
  },
  {
   "cell_type": "code",
   "execution_count": 28,
   "metadata": {
    "ExecuteTime": {
     "end_time": "2021-12-28T09:02:15.523368Z",
     "start_time": "2021-12-28T09:02:15.517367Z"
    }
   },
   "outputs": [
    {
     "data": {
      "text/plain": [
       "array([-1., -1., -1., -1., -1., -1., -1., -1., -1.])"
      ]
     },
     "execution_count": 28,
     "metadata": {},
     "output_type": "execute_result"
    }
   ],
   "source": [
    "x[5092,9*9:9*10]"
   ]
  },
  {
   "cell_type": "code",
   "execution_count": 29,
   "metadata": {
    "ExecuteTime": {
     "end_time": "2021-12-28T09:02:16.814442Z",
     "start_time": "2021-12-28T09:02:16.805441Z"
    }
   },
   "outputs": [
    {
     "data": {
      "text/plain": [
       "array([-1., -1., -1., -1., -1., -1., -1., -1., -1.])"
      ]
     },
     "execution_count": 29,
     "metadata": {},
     "output_type": "execute_result"
    }
   ],
   "source": [
    "x[5093,9*9:9*10]"
   ]
  },
  {
   "cell_type": "code",
   "execution_count": 30,
   "metadata": {
    "ExecuteTime": {
     "end_time": "2021-12-28T09:02:18.064513Z",
     "start_time": "2021-12-28T09:02:18.052512Z"
    }
   },
   "outputs": [
    {
     "data": {
      "text/plain": [
       "array([-1., -1., -1., -1., -1., -1., -1., -1., -1.])"
      ]
     },
     "execution_count": 30,
     "metadata": {},
     "output_type": "execute_result"
    }
   ],
   "source": [
    "x[5094,9*9:9*10]"
   ]
  },
  {
   "cell_type": "code",
   "execution_count": 31,
   "metadata": {
    "ExecuteTime": {
     "end_time": "2021-12-28T09:02:19.537597Z",
     "start_time": "2021-12-28T09:02:19.524597Z"
    }
   },
   "outputs": [
    {
     "data": {
      "text/plain": [
       "array([-1., -1., -1., -1., -1., -1., -1., -1., -1.])"
      ]
     },
     "execution_count": 31,
     "metadata": {},
     "output_type": "execute_result"
    }
   ],
   "source": [
    "x[5095,9*9:9*10]"
   ]
  },
  {
   "cell_type": "code",
   "execution_count": 32,
   "metadata": {
    "ExecuteTime": {
     "end_time": "2021-12-28T09:02:20.151632Z",
     "start_time": "2021-12-28T09:02:20.140632Z"
    }
   },
   "outputs": [
    {
     "data": {
      "text/plain": [
       "array([-1., -1., -1., -1., -1., -1., -1., -1., -1.])"
      ]
     },
     "execution_count": 32,
     "metadata": {},
     "output_type": "execute_result"
    }
   ],
   "source": [
    "x[5096,9*9:9*10]"
   ]
  },
  {
   "cell_type": "markdown",
   "metadata": {},
   "source": [
    "- correct -1 to mean value"
   ]
  },
  {
   "cell_type": "code",
   "execution_count": 33,
   "metadata": {
    "ExecuteTime": {
     "end_time": "2021-12-28T09:02:25.242924Z",
     "start_time": "2021-12-28T09:02:25.214922Z"
    }
   },
   "outputs": [
    {
     "data": {
      "text/html": [
       "<div>\n",
       "<style>\n",
       "    .dataframe thead tr:only-child th {\n",
       "        text-align: right;\n",
       "    }\n",
       "\n",
       "    .dataframe thead th {\n",
       "        text-align: left;\n",
       "    }\n",
       "\n",
       "    .dataframe tbody tr th {\n",
       "        vertical-align: top;\n",
       "    }\n",
       "</style>\n",
       "<table border=\"1\" class=\"dataframe\">\n",
       "  <thead>\n",
       "    <tr style=\"text-align: right;\">\n",
       "      <th></th>\n",
       "      <th>pm25</th>\n",
       "    </tr>\n",
       "  </thead>\n",
       "  <tbody>\n",
       "    <tr>\n",
       "      <th>459</th>\n",
       "      <td>46.0</td>\n",
       "    </tr>\n",
       "    <tr>\n",
       "      <th>1413</th>\n",
       "      <td>6.0</td>\n",
       "    </tr>\n",
       "    <tr>\n",
       "      <th>1581</th>\n",
       "      <td>13.0</td>\n",
       "    </tr>\n",
       "    <tr>\n",
       "      <th>1754</th>\n",
       "      <td>55.0</td>\n",
       "    </tr>\n",
       "    <tr>\n",
       "      <th>1978</th>\n",
       "      <td>5.0</td>\n",
       "    </tr>\n",
       "    <tr>\n",
       "      <th>1979</th>\n",
       "      <td>-1.0</td>\n",
       "    </tr>\n",
       "    <tr>\n",
       "      <th>1980</th>\n",
       "      <td>-1.0</td>\n",
       "    </tr>\n",
       "    <tr>\n",
       "      <th>1981</th>\n",
       "      <td>-1.0</td>\n",
       "    </tr>\n",
       "    <tr>\n",
       "      <th>1982</th>\n",
       "      <td>-1.0</td>\n",
       "    </tr>\n",
       "    <tr>\n",
       "      <th>1983</th>\n",
       "      <td>-1.0</td>\n",
       "    </tr>\n",
       "    <tr>\n",
       "      <th>1995</th>\n",
       "      <td>2.0</td>\n",
       "    </tr>\n",
       "    <tr>\n",
       "      <th>1996</th>\n",
       "      <td>-1.0</td>\n",
       "    </tr>\n",
       "    <tr>\n",
       "      <th>1997</th>\n",
       "      <td>-1.0</td>\n",
       "    </tr>\n",
       "    <tr>\n",
       "      <th>2003</th>\n",
       "      <td>5.0</td>\n",
       "    </tr>\n",
       "    <tr>\n",
       "      <th>2013</th>\n",
       "      <td>10.0</td>\n",
       "    </tr>\n",
       "    <tr>\n",
       "      <th>2014</th>\n",
       "      <td>-1.0</td>\n",
       "    </tr>\n",
       "    <tr>\n",
       "      <th>2015</th>\n",
       "      <td>-1.0</td>\n",
       "    </tr>\n",
       "    <tr>\n",
       "      <th>2019</th>\n",
       "      <td>9.0</td>\n",
       "    </tr>\n",
       "    <tr>\n",
       "      <th>2020</th>\n",
       "      <td>-1.0</td>\n",
       "    </tr>\n",
       "    <tr>\n",
       "      <th>2021</th>\n",
       "      <td>-1.0</td>\n",
       "    </tr>\n",
       "    <tr>\n",
       "      <th>2022</th>\n",
       "      <td>-1.0</td>\n",
       "    </tr>\n",
       "    <tr>\n",
       "      <th>2023</th>\n",
       "      <td>-1.0</td>\n",
       "    </tr>\n",
       "    <tr>\n",
       "      <th>2024</th>\n",
       "      <td>-1.0</td>\n",
       "    </tr>\n",
       "    <tr>\n",
       "      <th>2025</th>\n",
       "      <td>-1.0</td>\n",
       "    </tr>\n",
       "    <tr>\n",
       "      <th>2026</th>\n",
       "      <td>-1.0</td>\n",
       "    </tr>\n",
       "    <tr>\n",
       "      <th>2027</th>\n",
       "      <td>-1.0</td>\n",
       "    </tr>\n",
       "    <tr>\n",
       "      <th>2028</th>\n",
       "      <td>-1.0</td>\n",
       "    </tr>\n",
       "    <tr>\n",
       "      <th>2029</th>\n",
       "      <td>-1.0</td>\n",
       "    </tr>\n",
       "    <tr>\n",
       "      <th>2172</th>\n",
       "      <td>0.0</td>\n",
       "    </tr>\n",
       "    <tr>\n",
       "      <th>2173</th>\n",
       "      <td>-1.0</td>\n",
       "    </tr>\n",
       "    <tr>\n",
       "      <th>2997</th>\n",
       "      <td>20.0</td>\n",
       "    </tr>\n",
       "    <tr>\n",
       "      <th>2998</th>\n",
       "      <td>-1.0</td>\n",
       "    </tr>\n",
       "    <tr>\n",
       "      <th>5077</th>\n",
       "      <td>18.0</td>\n",
       "    </tr>\n",
       "    <tr>\n",
       "      <th>5078</th>\n",
       "      <td>-1.0</td>\n",
       "    </tr>\n",
       "    <tr>\n",
       "      <th>5079</th>\n",
       "      <td>-1.0</td>\n",
       "    </tr>\n",
       "    <tr>\n",
       "      <th>5080</th>\n",
       "      <td>-1.0</td>\n",
       "    </tr>\n",
       "    <tr>\n",
       "      <th>5081</th>\n",
       "      <td>-1.0</td>\n",
       "    </tr>\n",
       "    <tr>\n",
       "      <th>5082</th>\n",
       "      <td>-1.0</td>\n",
       "    </tr>\n",
       "    <tr>\n",
       "      <th>5083</th>\n",
       "      <td>-1.0</td>\n",
       "    </tr>\n",
       "    <tr>\n",
       "      <th>5084</th>\n",
       "      <td>-1.0</td>\n",
       "    </tr>\n",
       "    <tr>\n",
       "      <th>5085</th>\n",
       "      <td>-1.0</td>\n",
       "    </tr>\n",
       "    <tr>\n",
       "      <th>5086</th>\n",
       "      <td>-1.0</td>\n",
       "    </tr>\n",
       "    <tr>\n",
       "      <th>5087</th>\n",
       "      <td>-1.0</td>\n",
       "    </tr>\n",
       "    <tr>\n",
       "      <th>5088</th>\n",
       "      <td>-1.0</td>\n",
       "    </tr>\n",
       "    <tr>\n",
       "      <th>5089</th>\n",
       "      <td>-1.0</td>\n",
       "    </tr>\n",
       "    <tr>\n",
       "      <th>5090</th>\n",
       "      <td>-1.0</td>\n",
       "    </tr>\n",
       "    <tr>\n",
       "      <th>5091</th>\n",
       "      <td>-1.0</td>\n",
       "    </tr>\n",
       "    <tr>\n",
       "      <th>5092</th>\n",
       "      <td>-1.0</td>\n",
       "    </tr>\n",
       "    <tr>\n",
       "      <th>5093</th>\n",
       "      <td>-1.0</td>\n",
       "    </tr>\n",
       "    <tr>\n",
       "      <th>5094</th>\n",
       "      <td>-1.0</td>\n",
       "    </tr>\n",
       "    <tr>\n",
       "      <th>5351</th>\n",
       "      <td>13.0</td>\n",
       "    </tr>\n",
       "    <tr>\n",
       "      <th>5352</th>\n",
       "      <td>-1.0</td>\n",
       "    </tr>\n",
       "  </tbody>\n",
       "</table>\n",
       "</div>"
      ],
      "text/plain": [
       "      pm25\n",
       "459   46.0\n",
       "1413   6.0\n",
       "1581  13.0\n",
       "1754  55.0\n",
       "1978   5.0\n",
       "1979  -1.0\n",
       "1980  -1.0\n",
       "1981  -1.0\n",
       "1982  -1.0\n",
       "1983  -1.0\n",
       "1995   2.0\n",
       "1996  -1.0\n",
       "1997  -1.0\n",
       "2003   5.0\n",
       "2013  10.0\n",
       "2014  -1.0\n",
       "2015  -1.0\n",
       "2019   9.0\n",
       "2020  -1.0\n",
       "2021  -1.0\n",
       "2022  -1.0\n",
       "2023  -1.0\n",
       "2024  -1.0\n",
       "2025  -1.0\n",
       "2026  -1.0\n",
       "2027  -1.0\n",
       "2028  -1.0\n",
       "2029  -1.0\n",
       "2172   0.0\n",
       "2173  -1.0\n",
       "2997  20.0\n",
       "2998  -1.0\n",
       "5077  18.0\n",
       "5078  -1.0\n",
       "5079  -1.0\n",
       "5080  -1.0\n",
       "5081  -1.0\n",
       "5082  -1.0\n",
       "5083  -1.0\n",
       "5084  -1.0\n",
       "5085  -1.0\n",
       "5086  -1.0\n",
       "5087  -1.0\n",
       "5088  -1.0\n",
       "5089  -1.0\n",
       "5090  -1.0\n",
       "5091  -1.0\n",
       "5092  -1.0\n",
       "5093  -1.0\n",
       "5094  -1.0\n",
       "5351  13.0\n",
       "5352  -1.0"
      ]
     },
     "execution_count": 33,
     "metadata": {},
     "output_type": "execute_result"
    }
   ],
   "source": [
    "yy.iloc[yy[yy['pm25']==-1].index-1,:]"
   ]
  },
  {
   "cell_type": "markdown",
   "metadata": {},
   "source": [
    "- fill mean value of two groups between pre-group and post-group"
   ]
  },
  {
   "cell_type": "code",
   "execution_count": 34,
   "metadata": {
    "ExecuteTime": {
     "end_time": "2021-12-28T09:02:42.807928Z",
     "start_time": "2021-12-28T09:02:42.731924Z"
    }
   },
   "outputs": [
    {
     "name": "stdout",
     "output_type": "stream",
     "text": [
      " month :  0\n",
      "---------- pm2.5 start : \n",
      " -1.0 \n",
      "\n",
      "pm2.5 end ------------\n",
      "correct value between  : 46.0 51.0\n",
      " month :  1\n",
      " month :  2\n",
      " month :  3\n",
      "---------- pm2.5 start : \n",
      " -1.0 \n",
      "\n",
      "pm2.5 end ------------\n",
      "correct value between  : 6.0 16.0\n",
      "---------- pm2.5 start : \n",
      " -1.0 \n",
      "\n",
      "pm2.5 end ------------\n",
      "correct value between  : 13.0 16.0\n",
      "---------- pm2.5 start : \n",
      " -1.0 \n",
      "\n",
      "pm2.5 end ------------\n",
      "correct value between  : 55.0 48.0\n",
      " month :  4\n",
      "---------- pm2.5 start : \n",
      " -1.0 \n",
      "\n",
      "-1.0\n",
      "-1.0\n",
      "-1.0\n",
      "-1.0\n",
      "-1.0\n",
      "pm2.5 end ------------\n",
      "correct value between  : 5.0 1.0\n",
      "---------- pm2.5 start : \n",
      " -1.0 \n",
      "\n",
      "-1.0\n",
      "-1.0\n",
      "pm2.5 end ------------\n",
      "correct value between  : 2.0 4.0\n",
      "---------- pm2.5 start : \n",
      " -1.0 \n",
      "\n",
      "pm2.5 end ------------\n",
      "correct value between  : 5.0 0.0\n",
      "---------- pm2.5 start : \n",
      " -1.0 \n",
      "\n",
      "-1.0\n",
      "-1.0\n",
      "pm2.5 end ------------\n",
      "correct value between  : 10.0 9.0\n",
      "---------- pm2.5 start : \n",
      " -1.0 \n",
      "\n",
      "-1.0\n",
      "-1.0\n",
      "-1.0\n",
      "-1.0\n",
      "-1.0\n",
      "-1.0\n",
      "-1.0\n",
      "-1.0\n",
      "-1.0\n",
      "-1.0\n",
      "pm2.5 end ------------\n",
      "correct value between  : 9.0 2.0\n",
      "---------- pm2.5 start : \n",
      " -1.0 \n",
      "\n",
      "-1.0\n",
      "pm2.5 end ------------\n",
      "correct value between  : 0.0 4.0\n",
      " month :  5\n",
      " month :  6\n",
      "---------- pm2.5 start : \n",
      " -1.0 \n",
      "\n",
      "-1.0\n",
      "pm2.5 end ------------\n",
      "correct value between  : 20.0 27.0\n",
      " month :  7\n",
      " month :  8\n",
      " month :  9\n",
      " month :  10\n",
      "---------- pm2.5 start : \n",
      " -1.0 \n",
      "\n",
      "-1.0\n",
      "-1.0\n",
      "-1.0\n",
      "-1.0\n",
      "-1.0\n",
      "-1.0\n",
      "-1.0\n",
      "-1.0\n",
      "-1.0\n",
      "-1.0\n",
      "-1.0\n",
      "-1.0\n",
      "-1.0\n",
      "-1.0\n",
      "-1.0\n",
      "-1.0\n",
      "-1.0\n",
      "pm2.5 end ------------\n",
      "correct value between  : 18.0 18.0\n",
      " month :  11\n",
      "---------- pm2.5 start : \n",
      " -1.0 \n",
      "\n",
      "-1.0\n",
      "pm2.5 end ------------\n",
      "correct value between  : 13.0 7.0\n"
     ]
    }
   ],
   "source": [
    "for m in range(12):\n",
    "    print(' month : ',m)\n",
    "    i=0\n",
    "    while i<480:\n",
    "        if year_data[m][9,i] <0:\n",
    "            print('---------- pm2.5 start : \\n',year_data[m][9,i],'\\n')\n",
    "            for k in range(20):\n",
    "                if k+i+1>479:\n",
    "                    break\n",
    "                else:\n",
    "                    if year_data[m][9,k+i+1] >=0:\n",
    "                        break\n",
    "                    else:\n",
    "                        print(year_data[m][9,k+i+1])\n",
    "            i=i+k\n",
    "            print('pm2.5 end ------------')\n",
    "            print('correct value between  :',year_data[m][9,i-1-k],year_data[m][9,i+1])\n",
    "        i=i+1\n",
    "        "
   ]
  },
  {
   "cell_type": "markdown",
   "metadata": {},
   "source": [
    "correct to mean value"
   ]
  },
  {
   "cell_type": "code",
   "execution_count": 35,
   "metadata": {
    "ExecuteTime": {
     "end_time": "2021-12-28T09:02:45.802100Z",
     "start_time": "2021-12-28T09:02:45.730095Z"
    }
   },
   "outputs": [
    {
     "name": "stdout",
     "output_type": "stream",
     "text": [
      " month :  0\n",
      "---------- pm2.5 start : \n",
      " -1.0 \n",
      "\n",
      "pm2.5 end ------------\n",
      "correct value between  : 46.0 51.0\n",
      " month :  1\n",
      " month :  2\n",
      " month :  3\n",
      "---------- pm2.5 start : \n",
      " -1.0 \n",
      "\n",
      "pm2.5 end ------------\n",
      "correct value between  : 6.0 16.0\n",
      "---------- pm2.5 start : \n",
      " -1.0 \n",
      "\n",
      "pm2.5 end ------------\n",
      "correct value between  : 13.0 16.0\n",
      "---------- pm2.5 start : \n",
      " -1.0 \n",
      "\n",
      "pm2.5 end ------------\n",
      "correct value between  : 55.0 48.0\n",
      " month :  4\n",
      "---------- pm2.5 start : \n",
      " -1.0 \n",
      "\n",
      "-1.0\n",
      "-1.0\n",
      "-1.0\n",
      "-1.0\n",
      "-1.0\n",
      "pm2.5 end ------------\n",
      "correct value between  : 5.0 1.0\n",
      "---------- pm2.5 start : \n",
      " -1.0 \n",
      "\n",
      "-1.0\n",
      "-1.0\n",
      "pm2.5 end ------------\n",
      "correct value between  : 2.0 4.0\n",
      "---------- pm2.5 start : \n",
      " -1.0 \n",
      "\n",
      "pm2.5 end ------------\n",
      "correct value between  : 5.0 0.0\n",
      "---------- pm2.5 start : \n",
      " -1.0 \n",
      "\n",
      "-1.0\n",
      "-1.0\n",
      "pm2.5 end ------------\n",
      "correct value between  : 10.0 9.0\n",
      "---------- pm2.5 start : \n",
      " -1.0 \n",
      "\n",
      "-1.0\n",
      "-1.0\n",
      "-1.0\n",
      "-1.0\n",
      "-1.0\n",
      "-1.0\n",
      "-1.0\n",
      "-1.0\n",
      "-1.0\n",
      "-1.0\n",
      "pm2.5 end ------------\n",
      "correct value between  : 9.0 2.0\n",
      "---------- pm2.5 start : \n",
      " -1.0 \n",
      "\n",
      "-1.0\n",
      "pm2.5 end ------------\n",
      "correct value between  : 0.0 4.0\n",
      " month :  5\n",
      " month :  6\n",
      "---------- pm2.5 start : \n",
      " -1.0 \n",
      "\n",
      "-1.0\n",
      "pm2.5 end ------------\n",
      "correct value between  : 20.0 27.0\n",
      " month :  7\n",
      " month :  8\n",
      " month :  9\n",
      " month :  10\n",
      "---------- pm2.5 start : \n",
      " -1.0 \n",
      "\n",
      "-1.0\n",
      "-1.0\n",
      "-1.0\n",
      "-1.0\n",
      "-1.0\n",
      "-1.0\n",
      "-1.0\n",
      "-1.0\n",
      "-1.0\n",
      "-1.0\n",
      "-1.0\n",
      "-1.0\n",
      "-1.0\n",
      "-1.0\n",
      "-1.0\n",
      "-1.0\n",
      "-1.0\n",
      "pm2.5 end ------------\n",
      "correct value between  : 18.0 18.0\n",
      " month :  11\n",
      "---------- pm2.5 start : \n",
      " -1.0 \n",
      "\n",
      "-1.0\n",
      "pm2.5 end ------------\n",
      "correct value between  : 13.0 7.0\n"
     ]
    }
   ],
   "source": [
    "for m in range(12):\n",
    "    print(' month : ',m)\n",
    "    i=0\n",
    "    while i<480:\n",
    "        if year_data[m][9,i] <0:\n",
    "            print('---------- pm2.5 start : \\n',year_data[m][9,i],'\\n')\n",
    "            for k in range(20):\n",
    "                if k+i+1>479:\n",
    "                    break\n",
    "                else:\n",
    "                    if year_data[m][9,k+i+1] >=0:\n",
    "                        break\n",
    "                    else:\n",
    "                        print(year_data[m][9,k+i+1])\n",
    "            i=i+k\n",
    "            print('pm2.5 end ------------')\n",
    "            print('correct value between  :',year_data[m][9,i-1-k],year_data[m][9,i+1])\n",
    "            ## add correct to mean value\n",
    "            year_data[m][9,i-k:i+1]=(year_data[m][9,i-1-k]+year_data[m][9,i+1])/2\n",
    "        i=i+1\n",
    "        "
   ]
  },
  {
   "cell_type": "markdown",
   "metadata": {},
   "source": [
    "- check correct value"
   ]
  },
  {
   "cell_type": "code",
   "execution_count": 36,
   "metadata": {
    "ExecuteTime": {
     "end_time": "2021-12-28T09:02:55.516655Z",
     "start_time": "2021-12-28T09:02:55.459652Z"
    },
    "collapsed": true
   },
   "outputs": [],
   "source": [
    "x1=np.empty((12*471,9*18))\n",
    "y1=np.empty((12*471,1))\n",
    "for m in range(12):\n",
    "    for i in range(471):\n",
    "        x1[471*m+i:471*m+i+1,:]=year_data[m][:,i:i+9].reshape(1,-1)\n",
    "        y1[471*m+i:471*m+i+1,:]=year_data[m][9,9+i]"
   ]
  },
  {
   "cell_type": "code",
   "execution_count": 37,
   "metadata": {
    "ExecuteTime": {
     "end_time": "2021-12-28T09:02:56.297700Z",
     "start_time": "2021-12-28T09:02:56.290699Z"
    }
   },
   "outputs": [
    {
     "data": {
      "text/plain": [
       "array([-1., -1., -1., -1., -1., -1., -1., -1., -1.])"
      ]
     },
     "execution_count": 37,
     "metadata": {},
     "output_type": "execute_result"
    }
   ],
   "source": [
    "x[5087,9*9:9*10]"
   ]
  },
  {
   "cell_type": "code",
   "execution_count": 38,
   "metadata": {
    "ExecuteTime": {
     "end_time": "2021-12-28T09:02:58.708838Z",
     "start_time": "2021-12-28T09:02:58.701837Z"
    }
   },
   "outputs": [
    {
     "data": {
      "text/plain": [
       "array([18., 18., 18., 18., 18., 18., 18., 18., 18.])"
      ]
     },
     "execution_count": 38,
     "metadata": {},
     "output_type": "execute_result"
    }
   ],
   "source": [
    "x1[5087,9*9:9*10]"
   ]
  },
  {
   "cell_type": "code",
   "execution_count": 39,
   "metadata": {
    "ExecuteTime": {
     "end_time": "2021-12-28T09:03:00.189922Z",
     "start_time": "2021-12-28T09:03:00.061915Z"
    },
    "collapsed": true
   },
   "outputs": [],
   "source": [
    "sns.distplot(y,fit=norm)\n",
    "sns.distplot(y1,fit=norm)\n",
    "plt.show()"
   ]
  },
  {
   "cell_type": "code",
   "execution_count": null,
   "metadata": {
    "collapsed": true
   },
   "outputs": [],
   "source": []
  },
  {
   "cell_type": "markdown",
   "metadata": {},
   "source": [
    "- correct SO2 value to positive"
   ]
  },
  {
   "cell_type": "markdown",
   "metadata": {},
   "source": [
    "- create new data set for 18 features"
   ]
  },
  {
   "cell_type": "code",
   "execution_count": 40,
   "metadata": {
    "ExecuteTime": {
     "end_time": "2021-12-28T09:03:04.963196Z",
     "start_time": "2021-12-28T09:03:04.947195Z"
    },
    "collapsed": true
   },
   "outputs": [],
   "source": [
    "month_list=[]\n",
    "for i in range(12):\n",
    "    month_list.append(pd.DataFrame(year_data[m].transpose()))\n",
    "all_train_data=pd.concat(month_list,axis=0)"
   ]
  },
  {
   "cell_type": "code",
   "execution_count": 41,
   "metadata": {
    "ExecuteTime": {
     "end_time": "2021-12-28T09:03:05.674236Z",
     "start_time": "2021-12-28T09:03:05.609232Z"
    }
   },
   "outputs": [
    {
     "data": {
      "text/html": [
       "<div>\n",
       "<style>\n",
       "    .dataframe thead tr:only-child th {\n",
       "        text-align: right;\n",
       "    }\n",
       "\n",
       "    .dataframe thead th {\n",
       "        text-align: left;\n",
       "    }\n",
       "\n",
       "    .dataframe tbody tr th {\n",
       "        vertical-align: top;\n",
       "    }\n",
       "</style>\n",
       "<table border=\"1\" class=\"dataframe\">\n",
       "  <thead>\n",
       "    <tr style=\"text-align: right;\">\n",
       "      <th></th>\n",
       "      <th>0</th>\n",
       "      <th>1</th>\n",
       "      <th>2</th>\n",
       "      <th>3</th>\n",
       "      <th>4</th>\n",
       "      <th>5</th>\n",
       "      <th>6</th>\n",
       "      <th>7</th>\n",
       "      <th>8</th>\n",
       "      <th>9</th>\n",
       "      <th>10</th>\n",
       "      <th>11</th>\n",
       "      <th>12</th>\n",
       "      <th>13</th>\n",
       "      <th>14</th>\n",
       "      <th>15</th>\n",
       "      <th>16</th>\n",
       "      <th>17</th>\n",
       "    </tr>\n",
       "  </thead>\n",
       "  <tbody>\n",
       "    <tr>\n",
       "      <th>count</th>\n",
       "      <td>5760.000000</td>\n",
       "      <td>5760.000000</td>\n",
       "      <td>5760.000000</td>\n",
       "      <td>5760.000000</td>\n",
       "      <td>5760.000000</td>\n",
       "      <td>5760.000000</td>\n",
       "      <td>5760.00000</td>\n",
       "      <td>5760.000000</td>\n",
       "      <td>5760.000000</td>\n",
       "      <td>5760.000000</td>\n",
       "      <td>5760.000000</td>\n",
       "      <td>5760.000000</td>\n",
       "      <td>5760.000000</td>\n",
       "      <td>5760.000000</td>\n",
       "      <td>5760.000000</td>\n",
       "      <td>5760.000000</td>\n",
       "      <td>5760.000000</td>\n",
       "      <td>5760.000000</td>\n",
       "    </tr>\n",
       "    <tr>\n",
       "      <th>mean</th>\n",
       "      <td>15.727292</td>\n",
       "      <td>1.719792</td>\n",
       "      <td>0.407458</td>\n",
       "      <td>0.132833</td>\n",
       "      <td>2.280000</td>\n",
       "      <td>11.596667</td>\n",
       "      <td>13.87250</td>\n",
       "      <td>26.185208</td>\n",
       "      <td>39.922917</td>\n",
       "      <td>19.512500</td>\n",
       "      <td>0.031667</td>\n",
       "      <td>71.235417</td>\n",
       "      <td>2.169583</td>\n",
       "      <td>1.849792</td>\n",
       "      <td>105.763125</td>\n",
       "      <td>110.135833</td>\n",
       "      <td>2.253958</td>\n",
       "      <td>1.501875</td>\n",
       "    </tr>\n",
       "    <tr>\n",
       "      <th>std</th>\n",
       "      <td>3.293357</td>\n",
       "      <td>0.270139</td>\n",
       "      <td>0.136364</td>\n",
       "      <td>0.080313</td>\n",
       "      <td>2.655959</td>\n",
       "      <td>5.567304</td>\n",
       "      <td>7.28572</td>\n",
       "      <td>11.324166</td>\n",
       "      <td>22.865263</td>\n",
       "      <td>14.043857</td>\n",
       "      <td>0.229869</td>\n",
       "      <td>12.664399</td>\n",
       "      <td>1.577659</td>\n",
       "      <td>0.300858</td>\n",
       "      <td>87.210812</td>\n",
       "      <td>86.498298</td>\n",
       "      <td>1.007841</td>\n",
       "      <td>0.812665</td>\n",
       "    </tr>\n",
       "    <tr>\n",
       "      <th>min</th>\n",
       "      <td>8.200000</td>\n",
       "      <td>-0.200000</td>\n",
       "      <td>-0.120000</td>\n",
       "      <td>0.000000</td>\n",
       "      <td>-1.100000</td>\n",
       "      <td>2.700000</td>\n",
       "      <td>3.40000</td>\n",
       "      <td>1.000000</td>\n",
       "      <td>0.000000</td>\n",
       "      <td>0.000000</td>\n",
       "      <td>0.000000</td>\n",
       "      <td>34.000000</td>\n",
       "      <td>-0.500000</td>\n",
       "      <td>-0.200000</td>\n",
       "      <td>1.000000</td>\n",
       "      <td>2.100000</td>\n",
       "      <td>0.500000</td>\n",
       "      <td>0.100000</td>\n",
       "    </tr>\n",
       "    <tr>\n",
       "      <th>25%</th>\n",
       "      <td>14.000000</td>\n",
       "      <td>1.700000</td>\n",
       "      <td>0.320000</td>\n",
       "      <td>0.070000</td>\n",
       "      <td>1.100000</td>\n",
       "      <td>7.300000</td>\n",
       "      <td>8.80000</td>\n",
       "      <td>18.000000</td>\n",
       "      <td>22.000000</td>\n",
       "      <td>8.750000</td>\n",
       "      <td>0.000000</td>\n",
       "      <td>61.000000</td>\n",
       "      <td>1.100000</td>\n",
       "      <td>1.800000</td>\n",
       "      <td>60.000000</td>\n",
       "      <td>59.000000</td>\n",
       "      <td>1.400000</td>\n",
       "      <td>0.900000</td>\n",
       "    </tr>\n",
       "    <tr>\n",
       "      <th>50%</th>\n",
       "      <td>15.000000</td>\n",
       "      <td>1.800000</td>\n",
       "      <td>0.390000</td>\n",
       "      <td>0.120000</td>\n",
       "      <td>1.600000</td>\n",
       "      <td>11.000000</td>\n",
       "      <td>12.00000</td>\n",
       "      <td>25.000000</td>\n",
       "      <td>34.500000</td>\n",
       "      <td>19.000000</td>\n",
       "      <td>0.000000</td>\n",
       "      <td>73.000000</td>\n",
       "      <td>1.900000</td>\n",
       "      <td>1.900000</td>\n",
       "      <td>70.000000</td>\n",
       "      <td>75.000000</td>\n",
       "      <td>2.100000</td>\n",
       "      <td>1.400000</td>\n",
       "    </tr>\n",
       "    <tr>\n",
       "      <th>75%</th>\n",
       "      <td>18.000000</td>\n",
       "      <td>1.800000</td>\n",
       "      <td>0.482500</td>\n",
       "      <td>0.170000</td>\n",
       "      <td>2.600000</td>\n",
       "      <td>15.000000</td>\n",
       "      <td>18.00000</td>\n",
       "      <td>33.000000</td>\n",
       "      <td>55.000000</td>\n",
       "      <td>27.000000</td>\n",
       "      <td>0.000000</td>\n",
       "      <td>81.000000</td>\n",
       "      <td>2.900000</td>\n",
       "      <td>1.900000</td>\n",
       "      <td>102.000000</td>\n",
       "      <td>110.000000</td>\n",
       "      <td>2.900000</td>\n",
       "      <td>2.000000</td>\n",
       "    </tr>\n",
       "    <tr>\n",
       "      <th>max</th>\n",
       "      <td>23.000000</td>\n",
       "      <td>1.900000</td>\n",
       "      <td>0.990000</td>\n",
       "      <td>0.450000</td>\n",
       "      <td>27.000000</td>\n",
       "      <td>33.000000</td>\n",
       "      <td>55.00000</td>\n",
       "      <td>74.000000</td>\n",
       "      <td>111.000000</td>\n",
       "      <td>70.000000</td>\n",
       "      <td>3.600000</td>\n",
       "      <td>99.000000</td>\n",
       "      <td>9.000000</td>\n",
       "      <td>2.300000</td>\n",
       "      <td>360.000000</td>\n",
       "      <td>357.000000</td>\n",
       "      <td>6.500000</td>\n",
       "      <td>5.200000</td>\n",
       "    </tr>\n",
       "  </tbody>\n",
       "</table>\n",
       "</div>"
      ],
      "text/plain": [
       "                0            1            2            3            4   \\\n",
       "count  5760.000000  5760.000000  5760.000000  5760.000000  5760.000000   \n",
       "mean     15.727292     1.719792     0.407458     0.132833     2.280000   \n",
       "std       3.293357     0.270139     0.136364     0.080313     2.655959   \n",
       "min       8.200000    -0.200000    -0.120000     0.000000    -1.100000   \n",
       "25%      14.000000     1.700000     0.320000     0.070000     1.100000   \n",
       "50%      15.000000     1.800000     0.390000     0.120000     1.600000   \n",
       "75%      18.000000     1.800000     0.482500     0.170000     2.600000   \n",
       "max      23.000000     1.900000     0.990000     0.450000    27.000000   \n",
       "\n",
       "                5           6            7            8            9   \\\n",
       "count  5760.000000  5760.00000  5760.000000  5760.000000  5760.000000   \n",
       "mean     11.596667    13.87250    26.185208    39.922917    19.512500   \n",
       "std       5.567304     7.28572    11.324166    22.865263    14.043857   \n",
       "min       2.700000     3.40000     1.000000     0.000000     0.000000   \n",
       "25%       7.300000     8.80000    18.000000    22.000000     8.750000   \n",
       "50%      11.000000    12.00000    25.000000    34.500000    19.000000   \n",
       "75%      15.000000    18.00000    33.000000    55.000000    27.000000   \n",
       "max      33.000000    55.00000    74.000000   111.000000    70.000000   \n",
       "\n",
       "                10           11           12           13           14  \\\n",
       "count  5760.000000  5760.000000  5760.000000  5760.000000  5760.000000   \n",
       "mean      0.031667    71.235417     2.169583     1.849792   105.763125   \n",
       "std       0.229869    12.664399     1.577659     0.300858    87.210812   \n",
       "min       0.000000    34.000000    -0.500000    -0.200000     1.000000   \n",
       "25%       0.000000    61.000000     1.100000     1.800000    60.000000   \n",
       "50%       0.000000    73.000000     1.900000     1.900000    70.000000   \n",
       "75%       0.000000    81.000000     2.900000     1.900000   102.000000   \n",
       "max       3.600000    99.000000     9.000000     2.300000   360.000000   \n",
       "\n",
       "                15           16           17  \n",
       "count  5760.000000  5760.000000  5760.000000  \n",
       "mean    110.135833     2.253958     1.501875  \n",
       "std      86.498298     1.007841     0.812665  \n",
       "min       2.100000     0.500000     0.100000  \n",
       "25%      59.000000     1.400000     0.900000  \n",
       "50%      75.000000     2.100000     1.400000  \n",
       "75%     110.000000     2.900000     2.000000  \n",
       "max     357.000000     6.500000     5.200000  "
      ]
     },
     "execution_count": 41,
     "metadata": {},
     "output_type": "execute_result"
    }
   ],
   "source": [
    "all_train_data.describe()"
   ]
  },
  {
   "cell_type": "code",
   "execution_count": 42,
   "metadata": {
    "ExecuteTime": {
     "end_time": "2021-12-28T09:03:06.132262Z",
     "start_time": "2021-12-28T09:03:06.124262Z"
    }
   },
   "outputs": [
    {
     "data": {
      "text/plain": [
       "(18, 480)"
      ]
     },
     "execution_count": 42,
     "metadata": {},
     "output_type": "execute_result"
    }
   ],
   "source": [
    "year_data[0].shape"
   ]
  },
  {
   "cell_type": "code",
   "execution_count": 43,
   "metadata": {
    "ExecuteTime": {
     "end_time": "2021-12-28T09:03:07.803358Z",
     "start_time": "2021-12-28T09:03:07.709353Z"
    }
   },
   "outputs": [
    {
     "name": "stdout",
     "output_type": "stream",
     "text": [
      " month :  0\n",
      " month :  1\n",
      " month :  2\n",
      " month :  3\n",
      " month :  4\n",
      " month :  5\n",
      " month :  6\n",
      " month :  7\n",
      " month :  8\n",
      " month :  9\n",
      " month :  10\n",
      " month :  11\n",
      "---------- pm2.5 start : \n",
      " -0.2 \n",
      "\n",
      "-0.2\n",
      "-0.2\n",
      "-0.2\n",
      "-0.2\n",
      "-0.2\n",
      "-0.2\n",
      "-0.2\n",
      "-0.2\n",
      "pm2.5 end ------------\n",
      "correct value between  : 1.8 1.8\n",
      " month :  0\n",
      " month :  1\n",
      " month :  2\n",
      " month :  3\n",
      " month :  4\n",
      " month :  5\n",
      " month :  6\n",
      " month :  7\n",
      " month :  8\n",
      " month :  9\n",
      " month :  10\n",
      " month :  11\n",
      "---------- pm2.5 start : \n",
      " -0.12 \n",
      "\n",
      "pm2.5 end ------------\n",
      "correct value between  : 0.34 0.26\n",
      " month :  0\n",
      " month :  1\n",
      " month :  2\n",
      " month :  3\n",
      " month :  4\n",
      " month :  5\n",
      " month :  6\n",
      " month :  7\n",
      " month :  8\n",
      "---------- pm2.5 start : \n",
      " -0.1 \n",
      "\n",
      "pm2.5 end ------------\n",
      "correct value between  : 2.5 0.3\n",
      "---------- pm2.5 start : \n",
      " -0.1 \n",
      "\n",
      "pm2.5 end ------------\n",
      "correct value between  : 0.1 1.0\n",
      " month :  9\n",
      " month :  10\n",
      " month :  11\n",
      "---------- pm2.5 start : \n",
      " -1.1 \n",
      "\n",
      "pm2.5 end ------------\n",
      "correct value between  : 6.6 1.2\n",
      " month :  0\n",
      "---------- pm2.5 start : \n",
      " -0.9 \n",
      "\n",
      "-0.9\n",
      "-0.9\n",
      "pm2.5 end ------------\n",
      "correct value between  : 1.6 1.3\n",
      "---------- pm2.5 start : \n",
      " -0.1 \n",
      "\n",
      "-0.1\n",
      "-0.2\n",
      "-0.3\n",
      "pm2.5 end ------------\n",
      "correct value between  : 0.1 1.2\n",
      " month :  1\n",
      "---------- pm2.5 start : \n",
      " -0.2 \n",
      "\n",
      "pm2.5 end ------------\n",
      "correct value between  : 1.1 0.3\n",
      " month :  2\n",
      " month :  3\n",
      " month :  4\n",
      " month :  5\n",
      "---------- pm2.5 start : \n",
      " -1.5 \n",
      "\n",
      "pm2.5 end ------------\n",
      "correct value between  : 0.2 2.3\n",
      "---------- pm2.5 start : \n",
      " -0.3 \n",
      "\n",
      "-0.2\n",
      "pm2.5 end ------------\n",
      "correct value between  : 3.8 2.2\n",
      " month :  6\n",
      " month :  7\n",
      "---------- pm2.5 start : \n",
      " -1.6 \n",
      "\n",
      "pm2.5 end ------------\n",
      "correct value between  : 4.3 2.7\n",
      " month :  8\n",
      " month :  9\n",
      " month :  10\n",
      "---------- pm2.5 start : \n",
      " -0.2 \n",
      "\n",
      "pm2.5 end ------------\n",
      "correct value between  : 0.0 0.9\n",
      "---------- pm2.5 start : \n",
      " -0.1 \n",
      "\n",
      "-0.3\n",
      "pm2.5 end ------------\n",
      "correct value between  : 0.2 0.3\n",
      " month :  11\n",
      "---------- pm2.5 start : \n",
      " -0.2 \n",
      "\n",
      "-0.4\n",
      "-0.5\n",
      "pm2.5 end ------------\n",
      "correct value between  : 0.0 1.2\n",
      "---------- pm2.5 start : \n",
      " -0.3 \n",
      "\n",
      "-0.3\n",
      "pm2.5 end ------------\n",
      "correct value between  : 0.0 1.1\n",
      "---------- pm2.5 start : \n",
      " -0.2 \n",
      "\n",
      "pm2.5 end ------------\n",
      "correct value between  : 2.8 2.0\n",
      " month :  0\n",
      " month :  1\n",
      " month :  2\n",
      " month :  3\n",
      " month :  4\n",
      " month :  5\n",
      " month :  6\n",
      " month :  7\n",
      " month :  8\n",
      " month :  9\n",
      " month :  10\n",
      " month :  11\n",
      "---------- pm2.5 start : \n",
      " -0.2 \n",
      "\n",
      "-0.2\n",
      "-0.2\n",
      "-0.2\n",
      "-0.2\n",
      "-0.2\n",
      "-0.2\n",
      "-0.2\n",
      "-0.2\n",
      "pm2.5 end ------------\n",
      "correct value between  : 2.0 1.9\n"
     ]
    }
   ],
   "source": [
    "for idx in (1,2,4,12,13):\t\n",
    "\tfor m in range(12):\n",
    "\t\tprint(' month : ',m)\n",
    "\t\ti=0\n",
    "\t\twhile i<480:\n",
    "\t\t\tif year_data[m][idx,i] <0:\n",
    "\t\t\t\tprint('---------- pm2.5 start : \\n',year_data[m][idx,i],'\\n')\n",
    "\t\t\t\tfor k in range(20):\n",
    "\t\t\t\t\tif k+i+1>479:\n",
    "\t\t\t\t\t\tbreak\n",
    "\t\t\t\t\telse:\n",
    "\t\t\t\t\t\tif year_data[m][idx,k+i+1] >=0:\n",
    "\t\t\t\t\t\t\tbreak\n",
    "\t\t\t\t\t\telse:\n",
    "\t\t\t\t\t\t\tprint(year_data[m][idx,k+i+1])\n",
    "\t\t\t\ti=i+k\n",
    "\t\t\t\tprint('pm2.5 end ------------')\n",
    "\t\t\t\tprint('correct value between  :',year_data[m][idx,i-1-k],year_data[m][idx,i+1])\n",
    "\t\t\t\t## add correct to mean value\n",
    "\t\t\t\tyear_data[m][idx,i-k:i+1]=(year_data[m][idx,i-1-k]+year_data[m][idx,i+1])/2\n",
    "\t\t\ti=i+1"
   ]
  },
  {
   "cell_type": "code",
   "execution_count": 44,
   "metadata": {
    "ExecuteTime": {
     "end_time": "2021-12-28T09:03:10.631520Z",
     "start_time": "2021-12-28T09:03:10.563516Z"
    },
    "collapsed": true
   },
   "outputs": [],
   "source": [
    "x2=np.empty((12*471,9*18))\n",
    "y2=np.empty((12*471,1))\n",
    "for m in range(12):\n",
    "    for i in range(471):\n",
    "        x2[471*m+i:471*m+i+1,:]=year_data[m][:,i:i+9].reshape(1,-1)\n",
    "        y2[471*m+i:471*m+i+1,:]=year_data[m][9,9+i]"
   ]
  },
  {
   "cell_type": "markdown",
   "metadata": {},
   "source": [
    "- check"
   ]
  },
  {
   "cell_type": "code",
   "execution_count": 45,
   "metadata": {
    "ExecuteTime": {
     "end_time": "2021-12-28T09:03:13.853704Z",
     "start_time": "2021-12-28T09:03:13.843703Z"
    }
   },
   "outputs": [
    {
     "data": {
      "text/plain": [
       "array([[-0.3,  1.2,  1. ,  0.9,  0.9,  0.8,  0.8,  0.9,  0.9,  1.8,  1.8,\n",
       "         1.8],\n",
       "       [ 1.2,  1. ,  0.9,  0.9,  0.8,  0.8,  0.9,  0.9,  1. ,  1.8,  1.8,\n",
       "         1.8]])"
      ]
     },
     "execution_count": 45,
     "metadata": {},
     "output_type": "execute_result"
    }
   ],
   "source": [
    "x1[288:290,12*9:12*10]"
   ]
  },
  {
   "cell_type": "code",
   "execution_count": 46,
   "metadata": {
    "ExecuteTime": {
     "end_time": "2021-12-28T09:03:14.408736Z",
     "start_time": "2021-12-28T09:03:14.395735Z"
    }
   },
   "outputs": [
    {
     "data": {
      "text/plain": [
       "array([[0.65, 1.2 , 1.  , 0.9 , 0.9 , 0.8 , 0.8 , 0.9 , 0.9 , 1.8 , 1.8 ,\n",
       "        1.8 ],\n",
       "       [1.2 , 1.  , 0.9 , 0.9 , 0.8 , 0.8 , 0.9 , 0.9 , 1.  , 1.8 , 1.8 ,\n",
       "        1.8 ]])"
      ]
     },
     "execution_count": 46,
     "metadata": {},
     "output_type": "execute_result"
    }
   ],
   "source": [
    "x2[288:290,12*9:12*10]"
   ]
  },
  {
   "cell_type": "code",
   "execution_count": 47,
   "metadata": {
    "ExecuteTime": {
     "end_time": "2021-12-28T09:03:15.153778Z",
     "start_time": "2021-12-28T09:03:15.131777Z"
    },
    "collapsed": true
   },
   "outputs": [],
   "source": [
    "month_list=[]\n",
    "for i in range(12):\n",
    "    month_list.append(pd.DataFrame(year_data[m].transpose()))\n",
    "all_train_data=pd.concat(month_list,axis=0)"
   ]
  },
  {
   "cell_type": "code",
   "execution_count": 48,
   "metadata": {
    "ExecuteTime": {
     "end_time": "2021-12-28T09:03:38.232098Z",
     "start_time": "2021-12-28T09:03:38.144093Z"
    }
   },
   "outputs": [
    {
     "data": {
      "text/html": [
       "<div>\n",
       "<style>\n",
       "    .dataframe thead tr:only-child th {\n",
       "        text-align: right;\n",
       "    }\n",
       "\n",
       "    .dataframe thead th {\n",
       "        text-align: left;\n",
       "    }\n",
       "\n",
       "    .dataframe tbody tr th {\n",
       "        vertical-align: top;\n",
       "    }\n",
       "</style>\n",
       "<table border=\"1\" class=\"dataframe\">\n",
       "  <thead>\n",
       "    <tr style=\"text-align: right;\">\n",
       "      <th></th>\n",
       "      <th>0</th>\n",
       "      <th>1</th>\n",
       "      <th>2</th>\n",
       "      <th>3</th>\n",
       "      <th>4</th>\n",
       "      <th>5</th>\n",
       "      <th>6</th>\n",
       "      <th>7</th>\n",
       "      <th>8</th>\n",
       "      <th>9</th>\n",
       "      <th>10</th>\n",
       "      <th>11</th>\n",
       "      <th>12</th>\n",
       "      <th>13</th>\n",
       "      <th>14</th>\n",
       "      <th>15</th>\n",
       "      <th>16</th>\n",
       "      <th>17</th>\n",
       "    </tr>\n",
       "  </thead>\n",
       "  <tbody>\n",
       "    <tr>\n",
       "      <th>count</th>\n",
       "      <td>5760.000000</td>\n",
       "      <td>5760.000000</td>\n",
       "      <td>5760.000000</td>\n",
       "      <td>5760.000000</td>\n",
       "      <td>5760.000000</td>\n",
       "      <td>5760.000000</td>\n",
       "      <td>5760.00000</td>\n",
       "      <td>5760.000000</td>\n",
       "      <td>5760.000000</td>\n",
       "      <td>5760.000000</td>\n",
       "      <td>5760.000000</td>\n",
       "      <td>5760.000000</td>\n",
       "      <td>5760.000000</td>\n",
       "      <td>5760.000000</td>\n",
       "      <td>5760.000000</td>\n",
       "      <td>5760.000000</td>\n",
       "      <td>5760.000000</td>\n",
       "      <td>5760.000000</td>\n",
       "    </tr>\n",
       "    <tr>\n",
       "      <th>mean</th>\n",
       "      <td>15.727292</td>\n",
       "      <td>1.757292</td>\n",
       "      <td>0.408333</td>\n",
       "      <td>0.132833</td>\n",
       "      <td>2.290417</td>\n",
       "      <td>11.596667</td>\n",
       "      <td>13.87250</td>\n",
       "      <td>26.185208</td>\n",
       "      <td>39.922917</td>\n",
       "      <td>19.512500</td>\n",
       "      <td>0.031667</td>\n",
       "      <td>71.235417</td>\n",
       "      <td>2.184583</td>\n",
       "      <td>1.890104</td>\n",
       "      <td>105.763125</td>\n",
       "      <td>110.135833</td>\n",
       "      <td>2.253958</td>\n",
       "      <td>1.501875</td>\n",
       "    </tr>\n",
       "    <tr>\n",
       "      <th>std</th>\n",
       "      <td>3.293357</td>\n",
       "      <td>0.050718</td>\n",
       "      <td>0.134308</td>\n",
       "      <td>0.080313</td>\n",
       "      <td>2.652484</td>\n",
       "      <td>5.567304</td>\n",
       "      <td>7.28572</td>\n",
       "      <td>11.324166</td>\n",
       "      <td>22.865263</td>\n",
       "      <td>14.043857</td>\n",
       "      <td>0.229869</td>\n",
       "      <td>12.664399</td>\n",
       "      <td>1.561346</td>\n",
       "      <td>0.101410</td>\n",
       "      <td>87.210812</td>\n",
       "      <td>86.498298</td>\n",
       "      <td>1.007841</td>\n",
       "      <td>0.812665</td>\n",
       "    </tr>\n",
       "    <tr>\n",
       "      <th>min</th>\n",
       "      <td>8.200000</td>\n",
       "      <td>1.600000</td>\n",
       "      <td>0.140000</td>\n",
       "      <td>0.000000</td>\n",
       "      <td>0.100000</td>\n",
       "      <td>2.700000</td>\n",
       "      <td>3.40000</td>\n",
       "      <td>1.000000</td>\n",
       "      <td>0.000000</td>\n",
       "      <td>0.000000</td>\n",
       "      <td>0.000000</td>\n",
       "      <td>34.000000</td>\n",
       "      <td>0.000000</td>\n",
       "      <td>1.700000</td>\n",
       "      <td>1.000000</td>\n",
       "      <td>2.100000</td>\n",
       "      <td>0.500000</td>\n",
       "      <td>0.100000</td>\n",
       "    </tr>\n",
       "    <tr>\n",
       "      <th>25%</th>\n",
       "      <td>14.000000</td>\n",
       "      <td>1.700000</td>\n",
       "      <td>0.320000</td>\n",
       "      <td>0.070000</td>\n",
       "      <td>1.100000</td>\n",
       "      <td>7.300000</td>\n",
       "      <td>8.80000</td>\n",
       "      <td>18.000000</td>\n",
       "      <td>22.000000</td>\n",
       "      <td>8.750000</td>\n",
       "      <td>0.000000</td>\n",
       "      <td>61.000000</td>\n",
       "      <td>1.100000</td>\n",
       "      <td>1.800000</td>\n",
       "      <td>60.000000</td>\n",
       "      <td>59.000000</td>\n",
       "      <td>1.400000</td>\n",
       "      <td>0.900000</td>\n",
       "    </tr>\n",
       "    <tr>\n",
       "      <th>50%</th>\n",
       "      <td>15.000000</td>\n",
       "      <td>1.800000</td>\n",
       "      <td>0.390000</td>\n",
       "      <td>0.120000</td>\n",
       "      <td>1.600000</td>\n",
       "      <td>11.000000</td>\n",
       "      <td>12.00000</td>\n",
       "      <td>25.000000</td>\n",
       "      <td>34.500000</td>\n",
       "      <td>19.000000</td>\n",
       "      <td>0.000000</td>\n",
       "      <td>73.000000</td>\n",
       "      <td>1.900000</td>\n",
       "      <td>1.900000</td>\n",
       "      <td>70.000000</td>\n",
       "      <td>75.000000</td>\n",
       "      <td>2.100000</td>\n",
       "      <td>1.400000</td>\n",
       "    </tr>\n",
       "    <tr>\n",
       "      <th>75%</th>\n",
       "      <td>18.000000</td>\n",
       "      <td>1.800000</td>\n",
       "      <td>0.482500</td>\n",
       "      <td>0.170000</td>\n",
       "      <td>2.600000</td>\n",
       "      <td>15.000000</td>\n",
       "      <td>18.00000</td>\n",
       "      <td>33.000000</td>\n",
       "      <td>55.000000</td>\n",
       "      <td>27.000000</td>\n",
       "      <td>0.000000</td>\n",
       "      <td>81.000000</td>\n",
       "      <td>2.900000</td>\n",
       "      <td>1.900000</td>\n",
       "      <td>102.000000</td>\n",
       "      <td>110.000000</td>\n",
       "      <td>2.900000</td>\n",
       "      <td>2.000000</td>\n",
       "    </tr>\n",
       "    <tr>\n",
       "      <th>max</th>\n",
       "      <td>23.000000</td>\n",
       "      <td>1.900000</td>\n",
       "      <td>0.990000</td>\n",
       "      <td>0.450000</td>\n",
       "      <td>27.000000</td>\n",
       "      <td>33.000000</td>\n",
       "      <td>55.00000</td>\n",
       "      <td>74.000000</td>\n",
       "      <td>111.000000</td>\n",
       "      <td>70.000000</td>\n",
       "      <td>3.600000</td>\n",
       "      <td>99.000000</td>\n",
       "      <td>9.000000</td>\n",
       "      <td>2.300000</td>\n",
       "      <td>360.000000</td>\n",
       "      <td>357.000000</td>\n",
       "      <td>6.500000</td>\n",
       "      <td>5.200000</td>\n",
       "    </tr>\n",
       "  </tbody>\n",
       "</table>\n",
       "</div>"
      ],
      "text/plain": [
       "                0            1            2            3            4   \\\n",
       "count  5760.000000  5760.000000  5760.000000  5760.000000  5760.000000   \n",
       "mean     15.727292     1.757292     0.408333     0.132833     2.290417   \n",
       "std       3.293357     0.050718     0.134308     0.080313     2.652484   \n",
       "min       8.200000     1.600000     0.140000     0.000000     0.100000   \n",
       "25%      14.000000     1.700000     0.320000     0.070000     1.100000   \n",
       "50%      15.000000     1.800000     0.390000     0.120000     1.600000   \n",
       "75%      18.000000     1.800000     0.482500     0.170000     2.600000   \n",
       "max      23.000000     1.900000     0.990000     0.450000    27.000000   \n",
       "\n",
       "                5           6            7            8            9   \\\n",
       "count  5760.000000  5760.00000  5760.000000  5760.000000  5760.000000   \n",
       "mean     11.596667    13.87250    26.185208    39.922917    19.512500   \n",
       "std       5.567304     7.28572    11.324166    22.865263    14.043857   \n",
       "min       2.700000     3.40000     1.000000     0.000000     0.000000   \n",
       "25%       7.300000     8.80000    18.000000    22.000000     8.750000   \n",
       "50%      11.000000    12.00000    25.000000    34.500000    19.000000   \n",
       "75%      15.000000    18.00000    33.000000    55.000000    27.000000   \n",
       "max      33.000000    55.00000    74.000000   111.000000    70.000000   \n",
       "\n",
       "                10           11           12           13           14  \\\n",
       "count  5760.000000  5760.000000  5760.000000  5760.000000  5760.000000   \n",
       "mean      0.031667    71.235417     2.184583     1.890104   105.763125   \n",
       "std       0.229869    12.664399     1.561346     0.101410    87.210812   \n",
       "min       0.000000    34.000000     0.000000     1.700000     1.000000   \n",
       "25%       0.000000    61.000000     1.100000     1.800000    60.000000   \n",
       "50%       0.000000    73.000000     1.900000     1.900000    70.000000   \n",
       "75%       0.000000    81.000000     2.900000     1.900000   102.000000   \n",
       "max       3.600000    99.000000     9.000000     2.300000   360.000000   \n",
       "\n",
       "                15           16           17  \n",
       "count  5760.000000  5760.000000  5760.000000  \n",
       "mean    110.135833     2.253958     1.501875  \n",
       "std      86.498298     1.007841     0.812665  \n",
       "min       2.100000     0.500000     0.100000  \n",
       "25%      59.000000     1.400000     0.900000  \n",
       "50%      75.000000     2.100000     1.400000  \n",
       "75%     110.000000     2.900000     2.000000  \n",
       "max     357.000000     6.500000     5.200000  "
      ]
     },
     "execution_count": 48,
     "metadata": {},
     "output_type": "execute_result"
    }
   ],
   "source": [
    "all_train_data.describe()"
   ]
  },
  {
   "cell_type": "code",
   "execution_count": 49,
   "metadata": {
    "ExecuteTime": {
     "end_time": "2021-12-28T09:03:39.197154Z",
     "start_time": "2021-12-28T09:03:39.189153Z"
    }
   },
   "outputs": [
    {
     "data": {
      "text/plain": [
       "5760"
      ]
     },
     "execution_count": 49,
     "metadata": {},
     "output_type": "execute_result"
    }
   ],
   "source": [
    "len(all_train_data)"
   ]
  },
  {
   "cell_type": "code",
   "execution_count": 50,
   "metadata": {
    "ExecuteTime": {
     "end_time": "2021-12-28T09:03:40.956254Z",
     "start_time": "2021-12-28T09:03:40.903251Z"
    }
   },
   "outputs": [
    {
     "name": "stdout",
     "output_type": "stream",
     "text": [
      "0 --- 0.18491462218246735 --- -0.5753517386245353\n",
      "1 --- -0.24669731430835704 --- -1.5655590725603141\n",
      "2 --- 0.8936742592257527 --- 1.7000807320545306\n",
      "3 --- 1.2632102876154878 --- 1.5493222469404246\n",
      "4 --- 4.982429719426829 --- 32.218149140125604\n",
      "5 --- 0.9264604690531637 --- 0.658641795423609\n",
      "6 --- 1.7352554534171754 --- 4.956683726751129\n",
      "7 --- 0.7276253577877806 --- 1.2969066625303531\n",
      "8 --- 0.5623017633329355 --- -0.19486748100010054\n",
      "9 --- 0.919701942116512 --- 1.2468906703023945\n",
      "10 --- 11.706534721000976 --- 156.28477137475778\n",
      "11 --- -0.48087337947218156 --- -0.6782359106971403\n",
      "12 --- 0.8800460887704035 --- 0.496987573872937\n",
      "13 --- 0.8996196186586904 --- 1.088217775094832\n",
      "14 --- 1.818168532439435 --- 1.8327275829866556\n",
      "15 --- 1.672078851690044 --- 1.3384958605746613\n",
      "16 --- 0.668238144929008 --- 0.2115109285270096\n",
      "17 --- 0.9761263878521096 --- 1.0070937171457865\n"
     ]
    }
   ],
   "source": [
    "for i in range(all_train_data.shape[1]):\n",
    "    print(i,'---',all_train_data[i].skew(),'---',all_train_data[i].kurt())"
   ]
  },
  {
   "cell_type": "code",
   "execution_count": 51,
   "metadata": {
    "ExecuteTime": {
     "end_time": "2021-12-28T09:03:41.654294Z",
     "start_time": "2021-12-28T09:03:41.548288Z"
    }
   },
   "outputs": [
    {
     "data": {
      "text/plain": [
       "<matplotlib.axes._subplots.AxesSubplot at 0x17e75b70>"
      ]
     },
     "execution_count": 51,
     "metadata": {},
     "output_type": "execute_result"
    }
   ],
   "source": [
    "sns.distplot(all_train_data[8],fit=norm)"
   ]
  },
  {
   "cell_type": "markdown",
   "metadata": {},
   "source": [
    "- plot Q-Q "
   ]
  },
  {
   "cell_type": "code",
   "execution_count": 52,
   "metadata": {
    "ExecuteTime": {
     "end_time": "2021-12-28T09:03:47.526630Z",
     "start_time": "2021-12-28T09:03:47.259615Z"
    }
   },
   "outputs": [
    {
     "data": {
      "text/plain": [
       "<matplotlib.axes._subplots.AxesSubplot at 0x13d7a828>"
      ]
     },
     "execution_count": 52,
     "metadata": {},
     "output_type": "execute_result"
    }
   ],
   "source": [
    "sns.distplot(all_train_data[9],fit=norm)"
   ]
  },
  {
   "cell_type": "code",
   "execution_count": 53,
   "metadata": {
    "ExecuteTime": {
     "end_time": "2021-12-28T09:03:50.128779Z",
     "start_time": "2021-12-28T09:03:49.940768Z"
    },
    "collapsed": true
   },
   "outputs": [],
   "source": [
    "stats.probplot(all_train_data[9],plot=plt)\n",
    "plt.show()"
   ]
  },
  {
   "cell_type": "code",
   "execution_count": 54,
   "metadata": {
    "ExecuteTime": {
     "end_time": "2021-12-28T09:03:53.043946Z",
     "start_time": "2021-12-28T09:03:53.035945Z"
    },
    "collapsed": true
   },
   "outputs": [],
   "source": [
    "from scipy.special import boxcox,boxcox1p\n",
    "from scipy.stats import boxcox,boxcox_normmax"
   ]
  },
  {
   "cell_type": "code",
   "execution_count": 55,
   "metadata": {
    "ExecuteTime": {
     "end_time": "2021-12-28T09:03:58.243243Z",
     "start_time": "2021-12-28T09:03:58.003229Z"
    }
   },
   "outputs": [
    {
     "name": "stdout",
     "output_type": "stream",
     "text": [
      "0 --- 0.18491462218246735 --- -0.5753517386245353 --- lambda : 0.495869995668681\n",
      "1 --- -0.24669731430835704 --- -1.5655590725603141 --- lambda : 6.4476779903503045\n",
      "2 --- 0.8936742592257527 --- 1.7000807320545306 --- lambda : -1.81540053758502\n",
      "3 --- 1.2632102876154878 --- 1.5493222469404246 --- lambda : -6.6435000771900015\n",
      "4 --- 4.982429719426829 --- 32.218149140125604 --- lambda : -0.7288950672870043\n",
      "5 --- 0.9264604690531637 --- 0.658641795423609 --- lambda : 0.06673548776074652\n",
      "6 --- 1.7352554534171754 --- 4.956683726751129 --- lambda : -0.12595253971226167\n",
      "7 --- 0.7276253577877806 --- 1.2969066625303531 --- lambda : 0.6036012394324745\n",
      "8 --- 0.5623017633329355 --- -0.19486748100010054 --- lambda : 0.5706711379590969\n",
      "9 --- 0.919701942116512 --- 1.2468906703023945 --- lambda : 0.5883665633735\n",
      "10 --- 11.706534721000976 --- 156.28477137475778 --- lambda : -6.487805875940047\n",
      "11 --- -0.48087337947218156 --- -0.6782359106971403 --- lambda : 2.4722277535599066\n",
      "12 --- 0.8800460887704035 --- 0.496987573872937 --- lambda : 0.20007280896974347\n",
      "13 --- 0.8996196186586904 --- 1.088217775094832 --- lambda : -5.8330109680336175\n",
      "14 --- 1.818168532439435 --- 1.8327275829866556 --- lambda : 0.03186444643330644\n",
      "15 --- 1.672078851690044 --- 1.3384958605746613 --- lambda : -0.003913434982420211\n",
      "16 --- 0.668238144929008 --- 0.2115109285270096 --- lambda : 0.05077598364382972\n",
      "17 --- 0.9761263878521096 --- 1.0070937171457865 --- lambda : -0.27043389941466545\n"
     ]
    }
   ],
   "source": [
    "for i in range(all_train_data.shape[1]):\n",
    "    print(i,'---',all_train_data[i].skew(),'---',all_train_data[i].kurt(),'--- lambda :',boxcox_normmax(all_train_data[i]+1))"
   ]
  },
  {
   "cell_type": "code",
   "execution_count": 56,
   "metadata": {
    "ExecuteTime": {
     "end_time": "2021-12-28T09:03:59.305304Z",
     "start_time": "2021-12-28T09:03:59.038288Z"
    }
   },
   "outputs": [
    {
     "name": "stdout",
     "output_type": "stream",
     "text": [
      "0 --- 0.18491462218246735 --- -0.5753517386245353 --- lambda : 0.495869995668681\n",
      "0 --- -0.036994580572544296 --- -0.48817905115777016\n",
      "-----------------------------------------------\n",
      "1 --- -0.24669731430835704 --- -1.5655590725603141 --- lambda : 6.4476779903503045\n",
      "1 --- -0.18476623619348753 --- -1.461754837101399\n",
      "-----------------------------------------------\n",
      "2 --- 0.8936742592257527 --- 1.7000807320545306 --- lambda : -1.81540053758502\n",
      "2 --- 0.008412335987846745 --- -0.15023749286434462\n",
      "-----------------------------------------------\n",
      "3 --- 1.2632102876154878 --- 1.5493222469404246 --- lambda : -6.6435000771900015\n",
      "3 --- 0.03800674841120048 --- -0.6043650288519289\n",
      "-----------------------------------------------\n",
      "4 --- 4.982429719426829 --- 32.218149140125604 --- lambda : -0.7288950672870043\n",
      "4 --- -0.01250825478996862 --- 0.021431064489707996\n",
      "-----------------------------------------------\n",
      "5 --- 0.9264604690531637 --- 0.658641795423609 --- lambda : 0.06673548776074652\n",
      "5 --- -0.00478155756626774 --- -0.48123515242935966\n",
      "-----------------------------------------------\n",
      "6 --- 1.7352554534171754 --- 4.956683726751129 --- lambda : -0.12595253971226167\n",
      "6 --- 0.006524521890000419 --- -0.18149797899541387\n",
      "-----------------------------------------------\n",
      "7 --- 0.7276253577877806 --- 1.2969066625303531 --- lambda : 0.6036012394324745\n",
      "7 --- 0.05533109600162763 --- 0.6539629809731733\n",
      "-----------------------------------------------\n",
      "8 --- 0.5623017633329355 --- -0.19486748100010054 --- lambda : 0.5706711379590969\n",
      "8 --- -0.03777215957019342 --- -0.42596100125590475\n",
      "-----------------------------------------------\n",
      "9 --- 0.919701942116512 --- 1.2468906703023945 --- lambda : 0.5883665633735\n",
      "9 --- 0.0521115713426094 --- -0.22650279410209206\n",
      "-----------------------------------------------\n",
      "10 --- 11.706534721000976 --- 156.28477137475778 --- lambda : -6.487805875940047\n",
      "10 --- 4.217354207027187 --- 16.34865870621261\n",
      "-----------------------------------------------\n",
      "11 --- -0.48087337947218156 --- -0.6782359106971403 --- lambda : 2.4722277535599066\n",
      "11 --- -0.06384470103903389 --- -0.9654690808264852\n",
      "-----------------------------------------------\n",
      "12 --- 0.8800460887704035 --- 0.496987573872937 --- lambda : 0.20007280896974347\n",
      "12 --- 0.040875903501192495 --- -0.5942812081967528\n",
      "-----------------------------------------------\n",
      "13 --- 0.8996196186586904 --- 1.088217775094832 --- lambda : -5.8330109680336175\n",
      "13 --- 0.18332902717471344 --- -0.07061368818952518\n",
      "-----------------------------------------------\n",
      "14 --- 1.818168532439435 --- 1.8327275829866556 --- lambda : 0.03186444643330644\n",
      "14 --- 0.16224701937730798 --- 2.6896725579219503\n",
      "-----------------------------------------------\n",
      "15 --- 1.672078851690044 --- 1.3384958605746613 --- lambda : -0.003913434982420211\n",
      "15 --- 0.18295579823030647 --- 2.4338413119577567\n",
      "-----------------------------------------------\n",
      "16 --- 0.668238144929008 --- 0.2115109285270096 --- lambda : 0.05077598364382972\n",
      "16 --- 0.009857019153696387 --- -0.5562003065112031\n",
      "-----------------------------------------------\n",
      "17 --- 0.9761263878521096 --- 1.0070937171457865 --- lambda : -0.27043389941466545\n",
      "17 --- 0.005352863832237663 --- -0.43724896337737595\n",
      "-----------------------------------------------\n"
     ]
    }
   ],
   "source": [
    "all_train_data_new=pd.DataFrame()\n",
    "for i in range(all_train_data.shape[1]):\n",
    "    lm=boxcox_normmax(all_train_data[i]+1)\n",
    "    all_train_data_new[i]=boxcox1p(all_train_data[i],lm)\n",
    "    print(i,'---',all_train_data[i].skew(),'---',all_train_data[i].kurt(),'--- lambda :',lm)\n",
    "    print(i,'---',all_train_data_new[i].skew(),'---',all_train_data_new[i].kurt())\n",
    "    print('-----------------------------------------------')\n",
    "    \n",
    "    "
   ]
  },
  {
   "cell_type": "code",
   "execution_count": 57,
   "metadata": {
    "ExecuteTime": {
     "end_time": "2021-12-28T09:04:05.614665Z",
     "start_time": "2021-12-28T09:04:05.516659Z"
    }
   },
   "outputs": [
    {
     "data": {
      "text/plain": [
       "<matplotlib.axes._subplots.AxesSubplot at 0x13edb048>"
      ]
     },
     "execution_count": 57,
     "metadata": {},
     "output_type": "execute_result"
    }
   ],
   "source": [
    "sns.distplot(all_train_data[9],fit=norm)"
   ]
  },
  {
   "cell_type": "code",
   "execution_count": 58,
   "metadata": {
    "ExecuteTime": {
     "end_time": "2021-12-28T09:04:08.634837Z",
     "start_time": "2021-12-28T09:04:08.556833Z"
    }
   },
   "outputs": [
    {
     "data": {
      "text/plain": [
       "((array([-3.67199794, -3.43886226, -3.31047894, ...,  3.31047894,\n",
       "          3.43886226,  3.67199794]),\n",
       "  array([ 0.,  0.,  0., ..., 70., 70., 70.])),\n",
       " (13.612445793592908, 19.512499999999996, 0.9687956090152292))"
      ]
     },
     "execution_count": 58,
     "metadata": {},
     "output_type": "execute_result"
    }
   ],
   "source": [
    "stats.probplot(all_train_data[9],plot=plt)"
   ]
  },
  {
   "cell_type": "code",
   "execution_count": 59,
   "metadata": {
    "ExecuteTime": {
     "end_time": "2021-12-28T09:04:11.332992Z",
     "start_time": "2021-12-28T09:04:11.235986Z"
    }
   },
   "outputs": [
    {
     "data": {
      "text/plain": [
       "<matplotlib.axes._subplots.AxesSubplot at 0x133d07f0>"
      ]
     },
     "execution_count": 59,
     "metadata": {},
     "output_type": "execute_result"
    }
   ],
   "source": [
    "sns.distplot(all_train_data_new[9],fit=norm)"
   ]
  },
  {
   "cell_type": "code",
   "execution_count": 60,
   "metadata": {
    "ExecuteTime": {
     "end_time": "2021-12-28T09:04:13.709128Z",
     "start_time": "2021-12-28T09:04:13.628123Z"
    }
   },
   "outputs": [
    {
     "data": {
      "text/plain": [
       "((array([-3.67199794, -3.43886226, -3.31047894, ...,  3.31047894,\n",
       "          3.43886226,  3.67199794]),\n",
       "  array([ 0.        ,  0.        ,  0.        , ..., 19.17268987,\n",
       "         19.17268987, 19.17268987])),\n",
       " (4.163057008793772, 7.69981007134187, 0.9895726911313273))"
      ]
     },
     "execution_count": 60,
     "metadata": {},
     "output_type": "execute_result"
    }
   ],
   "source": [
    "# stats.probplot(all_train_data[9],plot=plt)\n",
    "stats.probplot(all_train_data_new[9],plot=plt)"
   ]
  },
  {
   "cell_type": "code",
   "execution_count": 61,
   "metadata": {
    "ExecuteTime": {
     "end_time": "2021-12-28T09:04:15.888252Z",
     "start_time": "2021-12-28T09:04:15.880252Z"
    },
    "collapsed": true
   },
   "outputs": [],
   "source": [
    "all_train_data_new2=all_train_data_new.copy()"
   ]
  },
  {
   "cell_type": "code",
   "execution_count": 62,
   "metadata": {
    "ExecuteTime": {
     "end_time": "2021-12-28T09:04:16.684298Z",
     "start_time": "2021-12-28T09:04:16.652296Z"
    },
    "collapsed": true
   },
   "outputs": [],
   "source": [
    "all_train_data_new2=all_train_data_new2.apply(lambda x : (x-x.mean())/x.std() )"
   ]
  },
  {
   "cell_type": "code",
   "execution_count": 63,
   "metadata": {
    "ExecuteTime": {
     "end_time": "2021-12-28T09:04:18.710414Z",
     "start_time": "2021-12-28T09:04:18.632409Z"
    }
   },
   "outputs": [
    {
     "data": {
      "text/html": [
       "<div>\n",
       "<style>\n",
       "    .dataframe thead tr:only-child th {\n",
       "        text-align: right;\n",
       "    }\n",
       "\n",
       "    .dataframe thead th {\n",
       "        text-align: left;\n",
       "    }\n",
       "\n",
       "    .dataframe tbody tr th {\n",
       "        vertical-align: top;\n",
       "    }\n",
       "</style>\n",
       "<table border=\"1\" class=\"dataframe\">\n",
       "  <thead>\n",
       "    <tr style=\"text-align: right;\">\n",
       "      <th></th>\n",
       "      <th>0</th>\n",
       "      <th>1</th>\n",
       "      <th>2</th>\n",
       "      <th>3</th>\n",
       "      <th>4</th>\n",
       "      <th>5</th>\n",
       "      <th>6</th>\n",
       "      <th>7</th>\n",
       "      <th>8</th>\n",
       "      <th>9</th>\n",
       "      <th>10</th>\n",
       "      <th>11</th>\n",
       "      <th>12</th>\n",
       "      <th>13</th>\n",
       "      <th>14</th>\n",
       "      <th>15</th>\n",
       "      <th>16</th>\n",
       "      <th>17</th>\n",
       "    </tr>\n",
       "  </thead>\n",
       "  <tbody>\n",
       "    <tr>\n",
       "      <th>count</th>\n",
       "      <td>5.760000e+03</td>\n",
       "      <td>5.760000e+03</td>\n",
       "      <td>5.760000e+03</td>\n",
       "      <td>5.760000e+03</td>\n",
       "      <td>5.760000e+03</td>\n",
       "      <td>5.760000e+03</td>\n",
       "      <td>5.760000e+03</td>\n",
       "      <td>5.760000e+03</td>\n",
       "      <td>5.760000e+03</td>\n",
       "      <td>5.760000e+03</td>\n",
       "      <td>5.760000e+03</td>\n",
       "      <td>5.760000e+03</td>\n",
       "      <td>5.760000e+03</td>\n",
       "      <td>5.760000e+03</td>\n",
       "      <td>5.760000e+03</td>\n",
       "      <td>5.760000e+03</td>\n",
       "      <td>5.760000e+03</td>\n",
       "      <td>5.760000e+03</td>\n",
       "    </tr>\n",
       "    <tr>\n",
       "      <th>mean</th>\n",
       "      <td>-1.382401e-14</td>\n",
       "      <td>-1.081194e-13</td>\n",
       "      <td>-4.201126e-14</td>\n",
       "      <td>-6.575516e-14</td>\n",
       "      <td>-2.759287e-14</td>\n",
       "      <td>6.988428e-14</td>\n",
       "      <td>-1.119007e-14</td>\n",
       "      <td>-6.041387e-15</td>\n",
       "      <td>4.141648e-14</td>\n",
       "      <td>1.002140e-14</td>\n",
       "      <td>5.331576e-16</td>\n",
       "      <td>-5.124813e-14</td>\n",
       "      <td>-2.307857e-15</td>\n",
       "      <td>-1.002408e-10</td>\n",
       "      <td>-8.899589e-14</td>\n",
       "      <td>2.893968e-14</td>\n",
       "      <td>1.456581e-14</td>\n",
       "      <td>-7.392563e-14</td>\n",
       "    </tr>\n",
       "    <tr>\n",
       "      <th>std</th>\n",
       "      <td>1.000000e+00</td>\n",
       "      <td>1.000000e+00</td>\n",
       "      <td>1.000000e+00</td>\n",
       "      <td>1.000000e+00</td>\n",
       "      <td>1.000000e+00</td>\n",
       "      <td>1.000000e+00</td>\n",
       "      <td>1.000000e+00</td>\n",
       "      <td>1.000000e+00</td>\n",
       "      <td>1.000000e+00</td>\n",
       "      <td>1.000000e+00</td>\n",
       "      <td>1.000000e+00</td>\n",
       "      <td>1.000000e+00</td>\n",
       "      <td>1.000000e+00</td>\n",
       "      <td>1.000000e+00</td>\n",
       "      <td>1.000000e+00</td>\n",
       "      <td>1.000000e+00</td>\n",
       "      <td>1.000000e+00</td>\n",
       "      <td>1.000000e+00</td>\n",
       "    </tr>\n",
       "    <tr>\n",
       "      <th>min</th>\n",
       "      <td>-2.564978e+00</td>\n",
       "      <td>-2.735127e+00</td>\n",
       "      <td>-2.686518e+00</td>\n",
       "      <td>-2.847529e+00</td>\n",
       "      <td>-2.988818e+00</td>\n",
       "      <td>-2.490146e+00</td>\n",
       "      <td>-2.643448e+00</td>\n",
       "      <td>-3.038797e+00</td>\n",
       "      <td>-2.537928e+00</td>\n",
       "      <td>-1.831188e+00</td>\n",
       "      <td>-2.312344e-01</td>\n",
       "      <td>-2.145059e+00</td>\n",
       "      <td>-1.923831e+00</td>\n",
       "      <td>-2.401899e+00</td>\n",
       "      <td>-5.255628e+00</td>\n",
       "      <td>-5.229063e+00</td>\n",
       "      <td>-2.324689e+00</td>\n",
       "      <td>-2.731526e+00</td>\n",
       "    </tr>\n",
       "    <tr>\n",
       "      <th>25%</th>\n",
       "      <td>-4.862790e-01</td>\n",
       "      <td>-1.128594e+00</td>\n",
       "      <td>-6.198211e-01</td>\n",
       "      <td>-8.477859e-01</td>\n",
       "      <td>-6.046419e-01</td>\n",
       "      <td>-7.394631e-01</td>\n",
       "      <td>-6.866804e-01</td>\n",
       "      <td>-6.807283e-01</td>\n",
       "      <td>-7.206565e-01</td>\n",
       "      <td>-6.922899e-01</td>\n",
       "      <td>-2.312344e-01</td>\n",
       "      <td>-8.926708e-01</td>\n",
       "      <td>-6.240719e-01</td>\n",
       "      <td>-9.305635e-01</td>\n",
       "      <td>-4.846379e-01</td>\n",
       "      <td>-6.056724e-01</td>\n",
       "      <td>-8.371468e-01</td>\n",
       "      <td>-7.102316e-01</td>\n",
       "    </tr>\n",
       "    <tr>\n",
       "      <th>50%</th>\n",
       "      <td>-1.722423e-01</td>\n",
       "      <td>8.369412e-01</td>\n",
       "      <td>-1.293927e-02</td>\n",
       "      <td>7.437532e-02</td>\n",
       "      <td>-3.380984e-02</td>\n",
       "      <td>9.127056e-02</td>\n",
       "      <td>-4.198018e-02</td>\n",
       "      <td>-1.926980e-02</td>\n",
       "      <td>-1.074971e-01</td>\n",
       "      <td>1.201277e-01</td>\n",
       "      <td>-2.312344e-01</td>\n",
       "      <td>1.541956e-02</td>\n",
       "      <td>4.459177e-03</td>\n",
       "      <td>2.219038e-01</td>\n",
       "      <td>-2.604332e-01</td>\n",
       "      <td>-2.391141e-01</td>\n",
       "      <td>-1.207476e-02</td>\n",
       "      <td>6.667365e-02</td>\n",
       "    </tr>\n",
       "    <tr>\n",
       "      <th>75%</th>\n",
       "      <td>7.146648e-01</td>\n",
       "      <td>8.369412e-01</td>\n",
       "      <td>6.680747e-01</td>\n",
       "      <td>7.295786e-01</td>\n",
       "      <td>6.817985e-01</td>\n",
       "      <td>7.538927e-01</td>\n",
       "      <td>7.885345e-01</td>\n",
       "      <td>6.548046e-01</td>\n",
       "      <td>7.229388e-01</td>\n",
       "      <td>6.358099e-01</td>\n",
       "      <td>-2.312344e-01</td>\n",
       "      <td>7.558804e-01</td>\n",
       "      <td>6.182113e-01</td>\n",
       "      <td>2.219038e-01</td>\n",
       "      <td>2.936598e-01</td>\n",
       "      <td>3.475638e-01</td>\n",
       "      <td>7.371999e-01</td>\n",
       "      <td>7.643001e-01</td>\n",
       "    </tr>\n",
       "    <tr>\n",
       "      <th>max</th>\n",
       "      <td>2.048183e+00</td>\n",
       "      <td>3.224457e+00</td>\n",
       "      <td>2.941039e+00</td>\n",
       "      <td>2.208001e+00</td>\n",
       "      <td>2.755666e+00</td>\n",
       "      <td>2.551622e+00</td>\n",
       "      <td>2.947719e+00</td>\n",
       "      <td>3.414690e+00</td>\n",
       "      <td>2.482025e+00</td>\n",
       "      <td>2.728509e+00</td>\n",
       "      <td>5.282477e+00</td>\n",
       "      <td>2.848091e+00</td>\n",
       "      <td>2.828964e+00</td>\n",
       "      <td>2.907830e+00</td>\n",
       "      <td>2.210607e+00</td>\n",
       "      <td>2.155715e+00</td>\n",
       "      <td>2.919956e+00</td>\n",
       "      <td>2.763403e+00</td>\n",
       "    </tr>\n",
       "  </tbody>\n",
       "</table>\n",
       "</div>"
      ],
      "text/plain": [
       "                 0             1             2             3             4   \\\n",
       "count  5.760000e+03  5.760000e+03  5.760000e+03  5.760000e+03  5.760000e+03   \n",
       "mean  -1.382401e-14 -1.081194e-13 -4.201126e-14 -6.575516e-14 -2.759287e-14   \n",
       "std    1.000000e+00  1.000000e+00  1.000000e+00  1.000000e+00  1.000000e+00   \n",
       "min   -2.564978e+00 -2.735127e+00 -2.686518e+00 -2.847529e+00 -2.988818e+00   \n",
       "25%   -4.862790e-01 -1.128594e+00 -6.198211e-01 -8.477859e-01 -6.046419e-01   \n",
       "50%   -1.722423e-01  8.369412e-01 -1.293927e-02  7.437532e-02 -3.380984e-02   \n",
       "75%    7.146648e-01  8.369412e-01  6.680747e-01  7.295786e-01  6.817985e-01   \n",
       "max    2.048183e+00  3.224457e+00  2.941039e+00  2.208001e+00  2.755666e+00   \n",
       "\n",
       "                 5             6             7             8             9   \\\n",
       "count  5.760000e+03  5.760000e+03  5.760000e+03  5.760000e+03  5.760000e+03   \n",
       "mean   6.988428e-14 -1.119007e-14 -6.041387e-15  4.141648e-14  1.002140e-14   \n",
       "std    1.000000e+00  1.000000e+00  1.000000e+00  1.000000e+00  1.000000e+00   \n",
       "min   -2.490146e+00 -2.643448e+00 -3.038797e+00 -2.537928e+00 -1.831188e+00   \n",
       "25%   -7.394631e-01 -6.866804e-01 -6.807283e-01 -7.206565e-01 -6.922899e-01   \n",
       "50%    9.127056e-02 -4.198018e-02 -1.926980e-02 -1.074971e-01  1.201277e-01   \n",
       "75%    7.538927e-01  7.885345e-01  6.548046e-01  7.229388e-01  6.358099e-01   \n",
       "max    2.551622e+00  2.947719e+00  3.414690e+00  2.482025e+00  2.728509e+00   \n",
       "\n",
       "                 10            11            12            13            14  \\\n",
       "count  5.760000e+03  5.760000e+03  5.760000e+03  5.760000e+03  5.760000e+03   \n",
       "mean   5.331576e-16 -5.124813e-14 -2.307857e-15 -1.002408e-10 -8.899589e-14   \n",
       "std    1.000000e+00  1.000000e+00  1.000000e+00  1.000000e+00  1.000000e+00   \n",
       "min   -2.312344e-01 -2.145059e+00 -1.923831e+00 -2.401899e+00 -5.255628e+00   \n",
       "25%   -2.312344e-01 -8.926708e-01 -6.240719e-01 -9.305635e-01 -4.846379e-01   \n",
       "50%   -2.312344e-01  1.541956e-02  4.459177e-03  2.219038e-01 -2.604332e-01   \n",
       "75%   -2.312344e-01  7.558804e-01  6.182113e-01  2.219038e-01  2.936598e-01   \n",
       "max    5.282477e+00  2.848091e+00  2.828964e+00  2.907830e+00  2.210607e+00   \n",
       "\n",
       "                 15            16            17  \n",
       "count  5.760000e+03  5.760000e+03  5.760000e+03  \n",
       "mean   2.893968e-14  1.456581e-14 -7.392563e-14  \n",
       "std    1.000000e+00  1.000000e+00  1.000000e+00  \n",
       "min   -5.229063e+00 -2.324689e+00 -2.731526e+00  \n",
       "25%   -6.056724e-01 -8.371468e-01 -7.102316e-01  \n",
       "50%   -2.391141e-01 -1.207476e-02  6.667365e-02  \n",
       "75%    3.475638e-01  7.371999e-01  7.643001e-01  \n",
       "max    2.155715e+00  2.919956e+00  2.763403e+00  "
      ]
     },
     "execution_count": 63,
     "metadata": {},
     "output_type": "execute_result"
    }
   ],
   "source": [
    "all_train_data_new2.describe()"
   ]
  },
  {
   "cell_type": "code",
   "execution_count": 64,
   "metadata": {
    "ExecuteTime": {
     "end_time": "2021-12-28T09:04:20.161497Z",
     "start_time": "2021-12-28T09:04:20.092493Z"
    }
   },
   "outputs": [
    {
     "name": "stdout",
     "output_type": "stream",
     "text": [
      "0 --- -0.036994580572544296 --- -0.48817905115777016\n",
      "0 --- -0.03699458057254217 --- -0.4881790511577706\n",
      "-----------------------------------------------------\n",
      "1 --- -0.18476623619348753 --- -1.461754837101399\n",
      "1 --- -0.1847662361934841 --- -1.4617548371014004\n",
      "-----------------------------------------------------\n",
      "2 --- 0.008412335987846745 --- -0.15023749286434462\n",
      "2 --- 0.008412335987847306 --- -0.15023749286434374\n",
      "-----------------------------------------------------\n",
      "3 --- 0.03800674841120048 --- -0.6043650288519289\n",
      "3 --- 0.03800674841120052 --- -0.6043650288519289\n",
      "-----------------------------------------------------\n",
      "4 --- -0.01250825478996862 --- 0.021431064489707996\n",
      "4 --- -0.012508254789968181 --- 0.02143106448970933\n",
      "-----------------------------------------------------\n",
      "5 --- -0.00478155756626774 --- -0.48123515242935966\n",
      "5 --- -0.004781557566265879 --- -0.4812351524293592\n",
      "-----------------------------------------------------\n",
      "6 --- 0.006524521890000419 --- -0.18149797899541387\n",
      "6 --- 0.0065245218900011675 --- -0.1814979789954143\n",
      "-----------------------------------------------------\n",
      "7 --- 0.05533109600162763 --- 0.6539629809731733\n",
      "7 --- 0.055331096001628687 --- 0.6539629809731746\n",
      "-----------------------------------------------------\n",
      "8 --- -0.03777215957019342 --- -0.42596100125590475\n",
      "8 --- -0.037772159570191734 --- -0.42596100125590475\n",
      "-----------------------------------------------------\n",
      "9 --- 0.0521115713426094 --- -0.22650279410209206\n",
      "9 --- 0.05211157134260906 --- -0.22650279410209384\n",
      "-----------------------------------------------------\n",
      "10 --- 4.217354207027187 --- 16.34865870621261\n",
      "10 --- 4.217354207027188 --- 16.348658706212618\n",
      "-----------------------------------------------------\n",
      "11 --- -0.06384470103903389 --- -0.9654690808264852\n",
      "11 --- -0.06384470103903436 --- -0.9654690808264852\n",
      "-----------------------------------------------------\n",
      "12 --- 0.040875903501192495 --- -0.5942812081967528\n",
      "12 --- 0.04087590350119268 --- -0.5942812081967528\n",
      "-----------------------------------------------------\n",
      "13 --- 0.18332902717471344 --- -0.07061368818952518\n",
      "13 --- 0.18332902717480556 --- -0.07061368818950342\n",
      "-----------------------------------------------------\n",
      "14 --- 0.16224701937730798 --- 2.6896725579219503\n",
      "14 --- 0.16224701937730956 --- 2.6896725579219494\n",
      "-----------------------------------------------------\n",
      "15 --- 0.18295579823030647 --- 2.4338413119577567\n",
      "15 --- 0.18295579823030805 --- 2.43384131195776\n",
      "-----------------------------------------------------\n",
      "16 --- 0.009857019153696387 --- -0.5562003065112031\n",
      "16 --- 0.009857019153697391 --- -0.5562003065112036\n",
      "-----------------------------------------------------\n",
      "17 --- 0.005352863832237663 --- -0.43724896337737595\n",
      "17 --- 0.00535286383223799 --- -0.43724896337737595\n",
      "-----------------------------------------------------\n"
     ]
    }
   ],
   "source": [
    "for i in range(all_train_data_new2.shape[1]):\n",
    "        print(i,'---',all_train_data_new[i].skew(),'---',all_train_data_new[i].kurt())\n",
    "        print(i,'---',all_train_data_new2[i].skew(),'---',all_train_data_new2[i].kurt())\n",
    "        print('-----------------------------------------------------')"
   ]
  },
  {
   "cell_type": "code",
   "execution_count": 65,
   "metadata": {
    "ExecuteTime": {
     "end_time": "2021-12-28T09:04:21.259559Z",
     "start_time": "2021-12-28T09:04:21.148553Z"
    }
   },
   "outputs": [
    {
     "data": {
      "text/plain": [
       "<matplotlib.axes._subplots.AxesSubplot at 0x18017e10>"
      ]
     },
     "execution_count": 65,
     "metadata": {},
     "output_type": "execute_result"
    }
   ],
   "source": [
    "sns.distplot(all_train_data_new2[9],fit=norm)"
   ]
  },
  {
   "cell_type": "code",
   "execution_count": 66,
   "metadata": {
    "ExecuteTime": {
     "end_time": "2021-12-28T09:04:24.462743Z",
     "start_time": "2021-12-28T09:04:24.389738Z"
    }
   },
   "outputs": [
    {
     "data": {
      "text/plain": [
       "((array([-3.67199794, -3.43886226, -3.31047894, ...,  3.31047894,\n",
       "          3.43886226,  3.67199794]),\n",
       "  array([-1.83118811, -1.83118811, -1.83118811, ...,  2.728509  ,\n",
       "          2.728509  ,  2.728509  ])),\n",
       " (0.9900686427272258, 9.633369674473894e-15, 0.9895726911313267))"
      ]
     },
     "execution_count": 66,
     "metadata": {},
     "output_type": "execute_result"
    }
   ],
   "source": [
    "stats.probplot(all_train_data_new2[9],plot=plt)"
   ]
  },
  {
   "cell_type": "code",
   "execution_count": 67,
   "metadata": {
    "ExecuteTime": {
     "end_time": "2021-12-28T09:04:33.556263Z",
     "start_time": "2021-12-28T09:04:27.453914Z"
    },
    "collapsed": true
   },
   "outputs": [],
   "source": [
    "from sklearn.linear_model import ElasticNet,Lasso,BayesianRidge,LassoLarsIC\n",
    "from sklearn.ensemble import GradientBoostingRegressor,RandomForestRegressor\n",
    "from sklearn.kernel_ridge import KernelRidge\n",
    "from sklearn.pipeline import make_pipeline\n",
    "from sklearn.preprocessing import RobustScaler\n",
    "from sklearn.base import BaseEstimator,TransformerMixin,RegressorMixin,clone\n",
    "from sklearn.model_selection import KFold,train_test_split,cross_val_score\n",
    "from sklearn.metrics import mean_squared_error\n",
    "import xgboost as xgb\n",
    "import lightgbm as lgb"
   ]
  },
  {
   "cell_type": "markdown",
   "metadata": {
    "ExecuteTime": {
     "end_time": "2021-12-21T07:58:23.726301Z",
     "start_time": "2021-12-21T07:58:23.716300Z"
    }
   },
   "source": [
    "- 使用没有标准化的 大数据训练模型"
   ]
  },
  {
   "cell_type": "code",
   "execution_count": 68,
   "metadata": {
    "ExecuteTime": {
     "end_time": "2021-12-28T09:04:33.612266Z",
     "start_time": "2021-12-28T09:04:33.560263Z"
    }
   },
   "outputs": [
    {
     "data": {
      "text/html": [
       "<div>\n",
       "<style>\n",
       "    .dataframe thead tr:only-child th {\n",
       "        text-align: right;\n",
       "    }\n",
       "\n",
       "    .dataframe thead th {\n",
       "        text-align: left;\n",
       "    }\n",
       "\n",
       "    .dataframe tbody tr th {\n",
       "        vertical-align: top;\n",
       "    }\n",
       "</style>\n",
       "<table border=\"1\" class=\"dataframe\">\n",
       "  <thead>\n",
       "    <tr style=\"text-align: right;\">\n",
       "      <th></th>\n",
       "      <th>0</th>\n",
       "      <th>1</th>\n",
       "      <th>2</th>\n",
       "      <th>3</th>\n",
       "      <th>4</th>\n",
       "      <th>5</th>\n",
       "      <th>6</th>\n",
       "      <th>7</th>\n",
       "      <th>8</th>\n",
       "      <th>9</th>\n",
       "      <th>...</th>\n",
       "      <th>470</th>\n",
       "      <th>471</th>\n",
       "      <th>472</th>\n",
       "      <th>473</th>\n",
       "      <th>474</th>\n",
       "      <th>475</th>\n",
       "      <th>476</th>\n",
       "      <th>477</th>\n",
       "      <th>478</th>\n",
       "      <th>479</th>\n",
       "    </tr>\n",
       "  </thead>\n",
       "  <tbody>\n",
       "    <tr>\n",
       "      <th>0</th>\n",
       "      <td>7.734081</td>\n",
       "      <td>7.734081</td>\n",
       "      <td>7.734081</td>\n",
       "      <td>7.530457</td>\n",
       "      <td>7.322319</td>\n",
       "      <td>7.322319</td>\n",
       "      <td>7.109355</td>\n",
       "      <td>7.109355</td>\n",
       "      <td>6.891213</td>\n",
       "      <td>6.891213</td>\n",
       "      <td>...</td>\n",
       "      <td>6.891213</td>\n",
       "      <td>6.667500</td>\n",
       "      <td>6.437769</td>\n",
       "      <td>6.201508</td>\n",
       "      <td>5.958130</td>\n",
       "      <td>5.706956</td>\n",
       "      <td>5.447188</td>\n",
       "      <td>5.447188</td>\n",
       "      <td>5.447188</td>\n",
       "      <td>5.447188</td>\n",
       "    </tr>\n",
       "    <tr>\n",
       "      <th>1</th>\n",
       "      <td>73.332018</td>\n",
       "      <td>93.577644</td>\n",
       "      <td>93.577644</td>\n",
       "      <td>93.577644</td>\n",
       "      <td>93.577644</td>\n",
       "      <td>93.577644</td>\n",
       "      <td>118.347445</td>\n",
       "      <td>118.347445</td>\n",
       "      <td>118.347445</td>\n",
       "      <td>118.347445</td>\n",
       "      <td>...</td>\n",
       "      <td>93.577644</td>\n",
       "      <td>93.577644</td>\n",
       "      <td>93.577644</td>\n",
       "      <td>118.347445</td>\n",
       "      <td>118.347445</td>\n",
       "      <td>118.347445</td>\n",
       "      <td>118.347445</td>\n",
       "      <td>118.347445</td>\n",
       "      <td>118.347445</td>\n",
       "      <td>118.347445</td>\n",
       "    </tr>\n",
       "    <tr>\n",
       "      <th>2</th>\n",
       "      <td>0.166915</td>\n",
       "      <td>0.155219</td>\n",
       "      <td>0.142962</td>\n",
       "      <td>0.208726</td>\n",
       "      <td>0.251791</td>\n",
       "      <td>0.283773</td>\n",
       "      <td>0.313481</td>\n",
       "      <td>0.331338</td>\n",
       "      <td>0.336059</td>\n",
       "      <td>0.331338</td>\n",
       "      <td>...</td>\n",
       "      <td>0.178082</td>\n",
       "      <td>0.193913</td>\n",
       "      <td>0.213452</td>\n",
       "      <td>0.286996</td>\n",
       "      <td>0.302244</td>\n",
       "      <td>0.280488</td>\n",
       "      <td>0.277140</td>\n",
       "      <td>0.290160</td>\n",
       "      <td>0.307963</td>\n",
       "      <td>0.305129</td>\n",
       "    </tr>\n",
       "    <tr>\n",
       "      <th>3</th>\n",
       "      <td>0.054496</td>\n",
       "      <td>0.054496</td>\n",
       "      <td>0.026838</td>\n",
       "      <td>0.048315</td>\n",
       "      <td>0.041672</td>\n",
       "      <td>0.054496</td>\n",
       "      <td>0.070611</td>\n",
       "      <td>0.075274</td>\n",
       "      <td>0.091045</td>\n",
       "      <td>0.097482</td>\n",
       "      <td>...</td>\n",
       "      <td>0.060251</td>\n",
       "      <td>0.075274</td>\n",
       "      <td>0.112476</td>\n",
       "      <td>0.124183</td>\n",
       "      <td>0.105694</td>\n",
       "      <td>0.091045</td>\n",
       "      <td>0.094370</td>\n",
       "      <td>0.094370</td>\n",
       "      <td>0.103131</td>\n",
       "      <td>0.103131</td>\n",
       "    </tr>\n",
       "    <tr>\n",
       "      <th>4</th>\n",
       "      <td>0.668416</td>\n",
       "      <td>0.624333</td>\n",
       "      <td>0.647168</td>\n",
       "      <td>0.573079</td>\n",
       "      <td>0.512624</td>\n",
       "      <td>0.544158</td>\n",
       "      <td>0.624333</td>\n",
       "      <td>0.770511</td>\n",
       "      <td>0.913574</td>\n",
       "      <td>0.934637</td>\n",
       "      <td>...</td>\n",
       "      <td>0.624333</td>\n",
       "      <td>0.624333</td>\n",
       "      <td>0.512624</td>\n",
       "      <td>0.573079</td>\n",
       "      <td>0.624333</td>\n",
       "      <td>0.544158</td>\n",
       "      <td>0.668416</td>\n",
       "      <td>0.668416</td>\n",
       "      <td>0.573079</td>\n",
       "      <td>0.624333</td>\n",
       "    </tr>\n",
       "    <tr>\n",
       "      <th>5</th>\n",
       "      <td>2.094070</td>\n",
       "      <td>2.094070</td>\n",
       "      <td>1.825706</td>\n",
       "      <td>2.077911</td>\n",
       "      <td>2.125761</td>\n",
       "      <td>2.216193</td>\n",
       "      <td>2.578893</td>\n",
       "      <td>2.567993</td>\n",
       "      <td>2.702822</td>\n",
       "      <td>2.702822</td>\n",
       "      <td>...</td>\n",
       "      <td>2.094070</td>\n",
       "      <td>2.366488</td>\n",
       "      <td>2.702822</td>\n",
       "      <td>3.253645</td>\n",
       "      <td>3.316183</td>\n",
       "      <td>2.885717</td>\n",
       "      <td>2.885717</td>\n",
       "      <td>2.885717</td>\n",
       "      <td>2.885717</td>\n",
       "      <td>2.968186</td>\n",
       "    </tr>\n",
       "    <tr>\n",
       "      <th>6</th>\n",
       "      <td>1.884827</td>\n",
       "      <td>1.866856</td>\n",
       "      <td>1.725791</td>\n",
       "      <td>1.829423</td>\n",
       "      <td>1.838975</td>\n",
       "      <td>1.910919</td>\n",
       "      <td>2.133627</td>\n",
       "      <td>2.191865</td>\n",
       "      <td>2.294532</td>\n",
       "      <td>2.294532</td>\n",
       "      <td>...</td>\n",
       "      <td>1.866856</td>\n",
       "      <td>2.020835</td>\n",
       "      <td>2.133627</td>\n",
       "      <td>2.495412</td>\n",
       "      <td>2.560375</td>\n",
       "      <td>2.294532</td>\n",
       "      <td>2.340232</td>\n",
       "      <td>2.340232</td>\n",
       "      <td>2.294532</td>\n",
       "      <td>2.340232</td>\n",
       "    </tr>\n",
       "    <tr>\n",
       "      <th>7</th>\n",
       "      <td>7.504435</td>\n",
       "      <td>8.140594</td>\n",
       "      <td>10.724292</td>\n",
       "      <td>12.263701</td>\n",
       "      <td>9.338157</td>\n",
       "      <td>8.750697</td>\n",
       "      <td>7.175259</td>\n",
       "      <td>6.837820</td>\n",
       "      <td>6.837820</td>\n",
       "      <td>7.504435</td>\n",
       "      <td>...</td>\n",
       "      <td>13.230347</td>\n",
       "      <td>13.698470</td>\n",
       "      <td>13.230347</td>\n",
       "      <td>10.455471</td>\n",
       "      <td>8.140594</td>\n",
       "      <td>8.140594</td>\n",
       "      <td>6.837820</td>\n",
       "      <td>6.491336</td>\n",
       "      <td>6.491336</td>\n",
       "      <td>6.491336</td>\n",
       "    </tr>\n",
       "    <tr>\n",
       "      <th>8</th>\n",
       "      <td>11.575805</td>\n",
       "      <td>7.932114</td>\n",
       "      <td>9.247308</td>\n",
       "      <td>10.453430</td>\n",
       "      <td>11.791804</td>\n",
       "      <td>11.791804</td>\n",
       "      <td>9.741171</td>\n",
       "      <td>5.821400</td>\n",
       "      <td>7.652744</td>\n",
       "      <td>6.774174</td>\n",
       "      <td>...</td>\n",
       "      <td>4.387739</td>\n",
       "      <td>6.148572</td>\n",
       "      <td>10.219559</td>\n",
       "      <td>12.631141</td>\n",
       "      <td>13.825329</td>\n",
       "      <td>15.497667</td>\n",
       "      <td>17.554121</td>\n",
       "      <td>14.770152</td>\n",
       "      <td>11.135696</td>\n",
       "      <td>8.736165</td>\n",
       "    </tr>\n",
       "    <tr>\n",
       "      <th>9</th>\n",
       "      <td>9.053813</td>\n",
       "      <td>7.609580</td>\n",
       "      <td>7.609580</td>\n",
       "      <td>9.053813</td>\n",
       "      <td>10.373274</td>\n",
       "      <td>10.117688</td>\n",
       "      <td>4.887848</td>\n",
       "      <td>2.681675</td>\n",
       "      <td>0.000000</td>\n",
       "      <td>0.000000</td>\n",
       "      <td>...</td>\n",
       "      <td>0.855833</td>\n",
       "      <td>4.077347</td>\n",
       "      <td>9.594519</td>\n",
       "      <td>12.749581</td>\n",
       "      <td>15.281610</td>\n",
       "      <td>12.749581</td>\n",
       "      <td>10.625129</td>\n",
       "      <td>7.609580</td>\n",
       "      <td>9.594519</td>\n",
       "      <td>10.873433</td>\n",
       "    </tr>\n",
       "    <tr>\n",
       "      <th>10</th>\n",
       "      <td>0.000000</td>\n",
       "      <td>0.000000</td>\n",
       "      <td>0.000000</td>\n",
       "      <td>0.000000</td>\n",
       "      <td>0.000000</td>\n",
       "      <td>0.000000</td>\n",
       "      <td>0.000000</td>\n",
       "      <td>0.000000</td>\n",
       "      <td>0.000000</td>\n",
       "      <td>0.000000</td>\n",
       "      <td>...</td>\n",
       "      <td>0.000000</td>\n",
       "      <td>0.000000</td>\n",
       "      <td>0.000000</td>\n",
       "      <td>0.000000</td>\n",
       "      <td>0.000000</td>\n",
       "      <td>0.000000</td>\n",
       "      <td>0.000000</td>\n",
       "      <td>0.000000</td>\n",
       "      <td>0.000000</td>\n",
       "      <td>0.000000</td>\n",
       "    </tr>\n",
       "    <tr>\n",
       "      <th>11</th>\n",
       "      <td>20500.990154</td>\n",
       "      <td>19873.256780</td>\n",
       "      <td>21791.502839</td>\n",
       "      <td>22454.418898</td>\n",
       "      <td>20500.990154</td>\n",
       "      <td>18652.490700</td>\n",
       "      <td>20500.990154</td>\n",
       "      <td>19873.256780</td>\n",
       "      <td>19873.256780</td>\n",
       "      <td>19257.113467</td>\n",
       "      <td>...</td>\n",
       "      <td>7758.197176</td>\n",
       "      <td>8867.766785</td>\n",
       "      <td>10066.742123</td>\n",
       "      <td>12741.623026</td>\n",
       "      <td>16907.043405</td>\n",
       "      <td>18652.490700</td>\n",
       "      <td>21140.382642</td>\n",
       "      <td>22454.418898</td>\n",
       "      <td>23815.909030</td>\n",
       "      <td>23815.909030</td>\n",
       "    </tr>\n",
       "    <tr>\n",
       "      <th>12</th>\n",
       "      <td>1.143343</td>\n",
       "      <td>1.052954</td>\n",
       "      <td>1.423743</td>\n",
       "      <td>1.662325</td>\n",
       "      <td>1.005657</td>\n",
       "      <td>0.956821</td>\n",
       "      <td>0.906329</td>\n",
       "      <td>0.956821</td>\n",
       "      <td>0.906329</td>\n",
       "      <td>0.799833</td>\n",
       "      <td>...</td>\n",
       "      <td>1.460041</td>\n",
       "      <td>1.530281</td>\n",
       "      <td>1.630290</td>\n",
       "      <td>1.926145</td>\n",
       "      <td>1.724606</td>\n",
       "      <td>1.460041</td>\n",
       "      <td>1.309631</td>\n",
       "      <td>1.348585</td>\n",
       "      <td>1.348585</td>\n",
       "      <td>1.348585</td>\n",
       "    </tr>\n",
       "    <tr>\n",
       "      <th>13</th>\n",
       "      <td>0.170916</td>\n",
       "      <td>0.170916</td>\n",
       "      <td>0.170916</td>\n",
       "      <td>0.170916</td>\n",
       "      <td>0.171016</td>\n",
       "      <td>0.171016</td>\n",
       "      <td>0.171094</td>\n",
       "      <td>0.171094</td>\n",
       "      <td>0.171156</td>\n",
       "      <td>0.171156</td>\n",
       "      <td>...</td>\n",
       "      <td>0.171016</td>\n",
       "      <td>0.171016</td>\n",
       "      <td>0.171156</td>\n",
       "      <td>0.171205</td>\n",
       "      <td>0.171156</td>\n",
       "      <td>0.171094</td>\n",
       "      <td>0.171094</td>\n",
       "      <td>0.171094</td>\n",
       "      <td>0.171156</td>\n",
       "      <td>0.171156</td>\n",
       "    </tr>\n",
       "    <tr>\n",
       "      <th>14</th>\n",
       "      <td>4.851153</td>\n",
       "      <td>4.166304</td>\n",
       "      <td>4.745066</td>\n",
       "      <td>4.785964</td>\n",
       "      <td>4.354287</td>\n",
       "      <td>4.315037</td>\n",
       "      <td>4.410810</td>\n",
       "      <td>4.482188</td>\n",
       "      <td>4.294910</td>\n",
       "      <td>4.315037</td>\n",
       "      <td>...</td>\n",
       "      <td>4.373431</td>\n",
       "      <td>6.290456</td>\n",
       "      <td>6.362158</td>\n",
       "      <td>3.248391</td>\n",
       "      <td>4.971731</td>\n",
       "      <td>5.070748</td>\n",
       "      <td>5.060142</td>\n",
       "      <td>5.122419</td>\n",
       "      <td>5.060142</td>\n",
       "      <td>5.070748</td>\n",
       "    </tr>\n",
       "    <tr>\n",
       "      <th>15</th>\n",
       "      <td>4.503143</td>\n",
       "      <td>3.901731</td>\n",
       "      <td>4.563921</td>\n",
       "      <td>4.241077</td>\n",
       "      <td>4.045177</td>\n",
       "      <td>4.028352</td>\n",
       "      <td>4.045177</td>\n",
       "      <td>4.404254</td>\n",
       "      <td>5.751398</td>\n",
       "      <td>4.011234</td>\n",
       "      <td>...</td>\n",
       "      <td>2.927540</td>\n",
       "      <td>5.678947</td>\n",
       "      <td>3.939607</td>\n",
       "      <td>3.976074</td>\n",
       "      <td>4.759144</td>\n",
       "      <td>4.544078</td>\n",
       "      <td>4.639496</td>\n",
       "      <td>4.734709</td>\n",
       "      <td>4.573694</td>\n",
       "      <td>4.621143</td>\n",
       "    </tr>\n",
       "    <tr>\n",
       "      <th>16</th>\n",
       "      <td>1.057009</td>\n",
       "      <td>1.164532</td>\n",
       "      <td>1.488664</td>\n",
       "      <td>1.677029</td>\n",
       "      <td>1.513988</td>\n",
       "      <td>1.094017</td>\n",
       "      <td>1.740353</td>\n",
       "      <td>1.462761</td>\n",
       "      <td>1.293466</td>\n",
       "      <td>1.262597</td>\n",
       "      <td>...</td>\n",
       "      <td>1.230854</td>\n",
       "      <td>1.323508</td>\n",
       "      <td>0.850773</td>\n",
       "      <td>0.705489</td>\n",
       "      <td>0.937941</td>\n",
       "      <td>0.705489</td>\n",
       "      <td>1.018725</td>\n",
       "      <td>0.937941</td>\n",
       "      <td>1.129832</td>\n",
       "      <td>1.129832</td>\n",
       "    </tr>\n",
       "    <tr>\n",
       "      <th>17</th>\n",
       "      <td>0.745768</td>\n",
       "      <td>0.589236</td>\n",
       "      <td>0.632058</td>\n",
       "      <td>0.997976</td>\n",
       "      <td>1.264544</td>\n",
       "      <td>1.020350</td>\n",
       "      <td>0.974696</td>\n",
       "      <td>1.041878</td>\n",
       "      <td>0.543450</td>\n",
       "      <td>0.589236</td>\n",
       "      <td>...</td>\n",
       "      <td>0.745768</td>\n",
       "      <td>0.871037</td>\n",
       "      <td>0.494313</td>\n",
       "      <td>0.321618</td>\n",
       "      <td>0.672243</td>\n",
       "      <td>0.779549</td>\n",
       "      <td>0.745768</td>\n",
       "      <td>0.842039</td>\n",
       "      <td>0.898701</td>\n",
       "      <td>0.950442</td>\n",
       "    </tr>\n",
       "  </tbody>\n",
       "</table>\n",
       "<p>18 rows × 5760 columns</p>\n",
       "</div>"
      ],
      "text/plain": [
       "             0             1             2             3             4    \\\n",
       "0       7.734081      7.734081      7.734081      7.530457      7.322319   \n",
       "1      73.332018     93.577644     93.577644     93.577644     93.577644   \n",
       "2       0.166915      0.155219      0.142962      0.208726      0.251791   \n",
       "3       0.054496      0.054496      0.026838      0.048315      0.041672   \n",
       "4       0.668416      0.624333      0.647168      0.573079      0.512624   \n",
       "5       2.094070      2.094070      1.825706      2.077911      2.125761   \n",
       "6       1.884827      1.866856      1.725791      1.829423      1.838975   \n",
       "7       7.504435      8.140594     10.724292     12.263701      9.338157   \n",
       "8      11.575805      7.932114      9.247308     10.453430     11.791804   \n",
       "9       9.053813      7.609580      7.609580      9.053813     10.373274   \n",
       "10      0.000000      0.000000      0.000000      0.000000      0.000000   \n",
       "11  20500.990154  19873.256780  21791.502839  22454.418898  20500.990154   \n",
       "12      1.143343      1.052954      1.423743      1.662325      1.005657   \n",
       "13      0.170916      0.170916      0.170916      0.170916      0.171016   \n",
       "14      4.851153      4.166304      4.745066      4.785964      4.354287   \n",
       "15      4.503143      3.901731      4.563921      4.241077      4.045177   \n",
       "16      1.057009      1.164532      1.488664      1.677029      1.513988   \n",
       "17      0.745768      0.589236      0.632058      0.997976      1.264544   \n",
       "\n",
       "             5             6             7             8             9    \\\n",
       "0       7.322319      7.109355      7.109355      6.891213      6.891213   \n",
       "1      93.577644    118.347445    118.347445    118.347445    118.347445   \n",
       "2       0.283773      0.313481      0.331338      0.336059      0.331338   \n",
       "3       0.054496      0.070611      0.075274      0.091045      0.097482   \n",
       "4       0.544158      0.624333      0.770511      0.913574      0.934637   \n",
       "5       2.216193      2.578893      2.567993      2.702822      2.702822   \n",
       "6       1.910919      2.133627      2.191865      2.294532      2.294532   \n",
       "7       8.750697      7.175259      6.837820      6.837820      7.504435   \n",
       "8      11.791804      9.741171      5.821400      7.652744      6.774174   \n",
       "9      10.117688      4.887848      2.681675      0.000000      0.000000   \n",
       "10      0.000000      0.000000      0.000000      0.000000      0.000000   \n",
       "11  18652.490700  20500.990154  19873.256780  19873.256780  19257.113467   \n",
       "12      0.956821      0.906329      0.956821      0.906329      0.799833   \n",
       "13      0.171016      0.171094      0.171094      0.171156      0.171156   \n",
       "14      4.315037      4.410810      4.482188      4.294910      4.315037   \n",
       "15      4.028352      4.045177      4.404254      5.751398      4.011234   \n",
       "16      1.094017      1.740353      1.462761      1.293466      1.262597   \n",
       "17      1.020350      0.974696      1.041878      0.543450      0.589236   \n",
       "\n",
       "        ...               470          471           472           473  \\\n",
       "0       ...          6.891213     6.667500      6.437769      6.201508   \n",
       "1       ...         93.577644    93.577644     93.577644    118.347445   \n",
       "2       ...          0.178082     0.193913      0.213452      0.286996   \n",
       "3       ...          0.060251     0.075274      0.112476      0.124183   \n",
       "4       ...          0.624333     0.624333      0.512624      0.573079   \n",
       "5       ...          2.094070     2.366488      2.702822      3.253645   \n",
       "6       ...          1.866856     2.020835      2.133627      2.495412   \n",
       "7       ...         13.230347    13.698470     13.230347     10.455471   \n",
       "8       ...          4.387739     6.148572     10.219559     12.631141   \n",
       "9       ...          0.855833     4.077347      9.594519     12.749581   \n",
       "10      ...          0.000000     0.000000      0.000000      0.000000   \n",
       "11      ...       7758.197176  8867.766785  10066.742123  12741.623026   \n",
       "12      ...          1.460041     1.530281      1.630290      1.926145   \n",
       "13      ...          0.171016     0.171016      0.171156      0.171205   \n",
       "14      ...          4.373431     6.290456      6.362158      3.248391   \n",
       "15      ...          2.927540     5.678947      3.939607      3.976074   \n",
       "16      ...          1.230854     1.323508      0.850773      0.705489   \n",
       "17      ...          0.745768     0.871037      0.494313      0.321618   \n",
       "\n",
       "             474           475           476           477           478  \\\n",
       "0       5.958130      5.706956      5.447188      5.447188      5.447188   \n",
       "1     118.347445    118.347445    118.347445    118.347445    118.347445   \n",
       "2       0.302244      0.280488      0.277140      0.290160      0.307963   \n",
       "3       0.105694      0.091045      0.094370      0.094370      0.103131   \n",
       "4       0.624333      0.544158      0.668416      0.668416      0.573079   \n",
       "5       3.316183      2.885717      2.885717      2.885717      2.885717   \n",
       "6       2.560375      2.294532      2.340232      2.340232      2.294532   \n",
       "7       8.140594      8.140594      6.837820      6.491336      6.491336   \n",
       "8      13.825329     15.497667     17.554121     14.770152     11.135696   \n",
       "9      15.281610     12.749581     10.625129      7.609580      9.594519   \n",
       "10      0.000000      0.000000      0.000000      0.000000      0.000000   \n",
       "11  16907.043405  18652.490700  21140.382642  22454.418898  23815.909030   \n",
       "12      1.724606      1.460041      1.309631      1.348585      1.348585   \n",
       "13      0.171156      0.171094      0.171094      0.171094      0.171156   \n",
       "14      4.971731      5.070748      5.060142      5.122419      5.060142   \n",
       "15      4.759144      4.544078      4.639496      4.734709      4.573694   \n",
       "16      0.937941      0.705489      1.018725      0.937941      1.129832   \n",
       "17      0.672243      0.779549      0.745768      0.842039      0.898701   \n",
       "\n",
       "             479  \n",
       "0       5.447188  \n",
       "1     118.347445  \n",
       "2       0.305129  \n",
       "3       0.103131  \n",
       "4       0.624333  \n",
       "5       2.968186  \n",
       "6       2.340232  \n",
       "7       6.491336  \n",
       "8       8.736165  \n",
       "9      10.873433  \n",
       "10      0.000000  \n",
       "11  23815.909030  \n",
       "12      1.348585  \n",
       "13      0.171156  \n",
       "14      5.070748  \n",
       "15      4.621143  \n",
       "16      1.129832  \n",
       "17      0.950442  \n",
       "\n",
       "[18 rows x 5760 columns]"
      ]
     },
     "execution_count": 68,
     "metadata": {},
     "output_type": "execute_result"
    }
   ],
   "source": [
    "all_train_data_new3=all_train_data_new.T\n",
    "# all_train_data_new3=all_train_data_new2.T\n",
    "all_train_data_new3"
   ]
  },
  {
   "cell_type": "code",
   "execution_count": 69,
   "metadata": {
    "ExecuteTime": {
     "end_time": "2021-12-28T09:04:36.481430Z",
     "start_time": "2021-12-28T09:04:36.460429Z"
    }
   },
   "outputs": [
    {
     "data": {
      "text/plain": [
       "0       9.053813\n",
       "1       7.609580\n",
       "2       7.609580\n",
       "3       9.053813\n",
       "4      10.373274\n",
       "5      10.117688\n",
       "6       4.887848\n",
       "7       2.681675\n",
       "8       0.000000\n",
       "9       0.000000\n",
       "10      2.142615\n",
       "11      2.681675\n",
       "12      2.681675\n",
       "13      2.681675\n",
       "14      0.855833\n",
       "15      7.910479\n",
       "16     11.118353\n",
       "17     11.834281\n",
       "18      6.986302\n",
       "19      5.267810\n",
       "20      5.267810\n",
       "21      7.301716\n",
       "22      8.493370\n",
       "23      8.776214\n",
       "24      6.662661\n",
       "25      3.640849\n",
       "26      0.000000\n",
       "27      5.267810\n",
       "28      6.986302\n",
       "29      9.594519\n",
       "         ...    \n",
       "450     9.858175\n",
       "451     8.204925\n",
       "452     5.633793\n",
       "453     0.000000\n",
       "454     4.077347\n",
       "455     4.077347\n",
       "456     3.640849\n",
       "457     0.855833\n",
       "458     0.855833\n",
       "459     0.855833\n",
       "460     0.000000\n",
       "461     0.000000\n",
       "462     0.000000\n",
       "463     1.544330\n",
       "464     1.544330\n",
       "465     4.491887\n",
       "466     4.491887\n",
       "467     5.267810\n",
       "468     2.681675\n",
       "469     0.855833\n",
       "470     0.855833\n",
       "471     4.077347\n",
       "472     9.594519\n",
       "473    12.749581\n",
       "474    15.281610\n",
       "475    12.749581\n",
       "476    10.625129\n",
       "477     7.609580\n",
       "478     9.594519\n",
       "479    10.873433\n",
       "Name: 9, Length: 5760, dtype: float64"
      ]
     },
     "execution_count": 69,
     "metadata": {},
     "output_type": "execute_result"
    }
   ],
   "source": [
    "all_train_data_new3.iloc[9,:]"
   ]
  },
  {
   "cell_type": "code",
   "execution_count": 70,
   "metadata": {
    "ExecuteTime": {
     "end_time": "2021-12-28T09:04:42.340765Z",
     "start_time": "2021-12-28T09:04:42.305763Z"
    }
   },
   "outputs": [
    {
     "data": {
      "text/html": [
       "<div>\n",
       "<style>\n",
       "    .dataframe thead tr:only-child th {\n",
       "        text-align: right;\n",
       "    }\n",
       "\n",
       "    .dataframe thead th {\n",
       "        text-align: left;\n",
       "    }\n",
       "\n",
       "    .dataframe tbody tr th {\n",
       "        vertical-align: top;\n",
       "    }\n",
       "</style>\n",
       "<table border=\"1\" class=\"dataframe\">\n",
       "  <thead>\n",
       "    <tr style=\"text-align: right;\">\n",
       "      <th></th>\n",
       "      <th>0</th>\n",
       "      <th>1</th>\n",
       "      <th>2</th>\n",
       "      <th>3</th>\n",
       "      <th>4</th>\n",
       "      <th>5</th>\n",
       "      <th>6</th>\n",
       "      <th>7</th>\n",
       "      <th>8</th>\n",
       "      <th>9</th>\n",
       "      <th>10</th>\n",
       "      <th>11</th>\n",
       "      <th>12</th>\n",
       "      <th>13</th>\n",
       "      <th>14</th>\n",
       "      <th>15</th>\n",
       "      <th>16</th>\n",
       "      <th>17</th>\n",
       "    </tr>\n",
       "  </thead>\n",
       "  <tbody>\n",
       "    <tr>\n",
       "      <th>0</th>\n",
       "      <td>2.048183</td>\n",
       "      <td>-2.735127</td>\n",
       "      <td>-1.661913</td>\n",
       "      <td>-0.847786</td>\n",
       "      <td>-0.132088</td>\n",
       "      <td>-1.085246</td>\n",
       "      <td>-0.992545</td>\n",
       "      <td>-0.886789</td>\n",
       "      <td>-0.129963</td>\n",
       "      <td>0.322012</td>\n",
       "      <td>-0.231234</td>\n",
       "      <td>0.560245</td>\n",
       "      <td>-0.065857</td>\n",
       "      <td>-2.401899</td>\n",
       "      <td>0.108451</td>\n",
       "      <td>0.090207</td>\n",
       "      <td>-0.341484</td>\n",
       "      <td>-0.071230</td>\n",
       "    </tr>\n",
       "    <tr>\n",
       "      <th>1</th>\n",
       "      <td>2.048183</td>\n",
       "      <td>-1.128594</td>\n",
       "      <td>-1.900122</td>\n",
       "      <td>-0.847786</td>\n",
       "      <td>-0.350596</td>\n",
       "      <td>-1.085246</td>\n",
       "      <td>-1.048182</td>\n",
       "      <td>-0.680728</td>\n",
       "      <td>-0.887913</td>\n",
       "      <td>-0.021459</td>\n",
       "      <td>-0.231234</td>\n",
       "      <td>0.465083</td>\n",
       "      <td>-0.212741</td>\n",
       "      <td>-2.401899</td>\n",
       "      <td>-0.776688</td>\n",
       "      <td>-0.857881</td>\n",
       "      <td>-0.012075</td>\n",
       "      <td>-0.710232</td>\n",
       "    </tr>\n",
       "    <tr>\n",
       "      <th>2</th>\n",
       "      <td>2.048183</td>\n",
       "      <td>-1.128594</td>\n",
       "      <td>-2.149777</td>\n",
       "      <td>-1.862727</td>\n",
       "      <td>-0.237406</td>\n",
       "      <td>-1.603905</td>\n",
       "      <td>-1.484907</td>\n",
       "      <td>0.156168</td>\n",
       "      <td>-0.614330</td>\n",
       "      <td>-0.021459</td>\n",
       "      <td>-0.231234</td>\n",
       "      <td>0.755880</td>\n",
       "      <td>0.389805</td>\n",
       "      <td>-2.401899</td>\n",
       "      <td>-0.028663</td>\n",
       "      <td>0.186019</td>\n",
       "      <td>0.980941</td>\n",
       "      <td>-0.535422</td>\n",
       "    </tr>\n",
       "    <tr>\n",
       "      <th>3</th>\n",
       "      <td>1.793598</td>\n",
       "      <td>-1.128594</td>\n",
       "      <td>-0.810305</td>\n",
       "      <td>-1.074597</td>\n",
       "      <td>-0.604642</td>\n",
       "      <td>-1.116477</td>\n",
       "      <td>-1.164071</td>\n",
       "      <td>0.654805</td>\n",
       "      <td>-0.363436</td>\n",
       "      <td>0.322012</td>\n",
       "      <td>-0.231234</td>\n",
       "      <td>0.856375</td>\n",
       "      <td>0.777508</td>\n",
       "      <td>-2.401899</td>\n",
       "      <td>0.024197</td>\n",
       "      <td>-0.322924</td>\n",
       "      <td>1.558019</td>\n",
       "      <td>0.958346</td>\n",
       "    </tr>\n",
       "    <tr>\n",
       "      <th>4</th>\n",
       "      <td>1.533368</td>\n",
       "      <td>-1.128594</td>\n",
       "      <td>0.066846</td>\n",
       "      <td>-1.318369</td>\n",
       "      <td>-0.904299</td>\n",
       "      <td>-1.023998</td>\n",
       "      <td>-1.134496</td>\n",
       "      <td>-0.292821</td>\n",
       "      <td>-0.085031</td>\n",
       "      <td>0.635810</td>\n",
       "      <td>-0.231234</td>\n",
       "      <td>0.560245</td>\n",
       "      <td>-0.289601</td>\n",
       "      <td>-0.930564</td>\n",
       "      <td>-0.533728</td>\n",
       "      <td>-0.631747</td>\n",
       "      <td>1.058525</td>\n",
       "      <td>2.046541</td>\n",
       "    </tr>\n",
       "  </tbody>\n",
       "</table>\n",
       "</div>"
      ],
      "text/plain": [
       "         0         1         2         3         4         5         6   \\\n",
       "0  2.048183 -2.735127 -1.661913 -0.847786 -0.132088 -1.085246 -0.992545   \n",
       "1  2.048183 -1.128594 -1.900122 -0.847786 -0.350596 -1.085246 -1.048182   \n",
       "2  2.048183 -1.128594 -2.149777 -1.862727 -0.237406 -1.603905 -1.484907   \n",
       "3  1.793598 -1.128594 -0.810305 -1.074597 -0.604642 -1.116477 -1.164071   \n",
       "4  1.533368 -1.128594  0.066846 -1.318369 -0.904299 -1.023998 -1.134496   \n",
       "\n",
       "         7         8         9         10        11        12        13  \\\n",
       "0 -0.886789 -0.129963  0.322012 -0.231234  0.560245 -0.065857 -2.401899   \n",
       "1 -0.680728 -0.887913 -0.021459 -0.231234  0.465083 -0.212741 -2.401899   \n",
       "2  0.156168 -0.614330 -0.021459 -0.231234  0.755880  0.389805 -2.401899   \n",
       "3  0.654805 -0.363436  0.322012 -0.231234  0.856375  0.777508 -2.401899   \n",
       "4 -0.292821 -0.085031  0.635810 -0.231234  0.560245 -0.289601 -0.930564   \n",
       "\n",
       "         14        15        16        17  \n",
       "0  0.108451  0.090207 -0.341484 -0.071230  \n",
       "1 -0.776688 -0.857881 -0.012075 -0.710232  \n",
       "2 -0.028663  0.186019  0.980941 -0.535422  \n",
       "3  0.024197 -0.322924  1.558019  0.958346  \n",
       "4 -0.533728 -0.631747  1.058525  2.046541  "
      ]
     },
     "execution_count": 70,
     "metadata": {},
     "output_type": "execute_result"
    }
   ],
   "source": [
    "all_train_data_new2.head()"
   ]
  },
  {
   "cell_type": "code",
   "execution_count": 71,
   "metadata": {
    "ExecuteTime": {
     "end_time": "2021-12-28T09:04:44.317878Z",
     "start_time": "2021-12-28T09:04:42.973801Z"
    },
    "collapsed": true
   },
   "outputs": [],
   "source": [
    "x3=np.empty((12*471,18*9))\n",
    "y3=np.empty((12*471,1))\n",
    "for m in range(12):\n",
    "    for i in range(471):\n",
    "        x3[m*471+i:m*471+i+1,:]=all_train_data_new3.iloc[:,m*480+i:m*480+i+9].values.reshape(1,-1)\n",
    "        y3[m*471+i:m*471+i+1,:]=all_train_data_new3.iloc[9,m*480+i+9]"
   ]
  },
  {
   "cell_type": "markdown",
   "metadata": {},
   "source": [
    "- check data"
   ]
  },
  {
   "cell_type": "code",
   "execution_count": 72,
   "metadata": {
    "ExecuteTime": {
     "end_time": "2021-12-28T09:04:46.895026Z",
     "start_time": "2021-12-28T09:04:46.883025Z"
    }
   },
   "outputs": [
    {
     "data": {
      "text/plain": [
       "array([9.05381252e+00, 7.60957982e+00, 7.60957982e+00, 9.05381252e+00,\n",
       "       1.03732740e+01, 1.01176884e+01, 4.88784821e+00, 2.68167529e+00,\n",
       "       0.00000000e+00, 0.00000000e+00, 0.00000000e+00, 0.00000000e+00,\n",
       "       0.00000000e+00, 0.00000000e+00, 0.00000000e+00, 0.00000000e+00,\n",
       "       0.00000000e+00, 0.00000000e+00, 2.05009902e+04])"
      ]
     },
     "execution_count": 72,
     "metadata": {},
     "output_type": "execute_result"
    }
   ],
   "source": [
    "x3[0,81:100]"
   ]
  },
  {
   "cell_type": "code",
   "execution_count": 73,
   "metadata": {
    "ExecuteTime": {
     "end_time": "2021-12-28T09:04:47.396054Z",
     "start_time": "2021-12-28T09:04:47.390054Z"
    }
   },
   "outputs": [
    {
     "data": {
      "text/plain": [
       "array([0.])"
      ]
     },
     "execution_count": 73,
     "metadata": {},
     "output_type": "execute_result"
    }
   ],
   "source": [
    "y3[0]"
   ]
  },
  {
   "cell_type": "code",
   "execution_count": 74,
   "metadata": {
    "ExecuteTime": {
     "end_time": "2021-12-28T09:04:48.191100Z",
     "start_time": "2021-12-28T09:04:48.180099Z"
    }
   },
   "outputs": [
    {
     "data": {
      "text/plain": [
       "array([7.60957982e+00, 7.60957982e+00, 9.05381252e+00, 1.03732740e+01,\n",
       "       1.01176884e+01, 4.88784821e+00, 2.68167529e+00, 0.00000000e+00,\n",
       "       0.00000000e+00, 0.00000000e+00, 0.00000000e+00, 0.00000000e+00,\n",
       "       0.00000000e+00, 0.00000000e+00, 0.00000000e+00, 0.00000000e+00,\n",
       "       0.00000000e+00, 0.00000000e+00, 1.98732568e+04])"
      ]
     },
     "execution_count": 74,
     "metadata": {},
     "output_type": "execute_result"
    }
   ],
   "source": [
    "x3[1,81:100]"
   ]
  },
  {
   "cell_type": "code",
   "execution_count": 75,
   "metadata": {
    "ExecuteTime": {
     "end_time": "2021-12-28T09:04:48.702129Z",
     "start_time": "2021-12-28T09:04:48.696129Z"
    }
   },
   "outputs": [
    {
     "data": {
      "text/plain": [
       "array([2.14261482])"
      ]
     },
     "execution_count": 75,
     "metadata": {},
     "output_type": "execute_result"
    }
   ],
   "source": [
    "y3[1]"
   ]
  },
  {
   "cell_type": "code",
   "execution_count": 76,
   "metadata": {
    "ExecuteTime": {
     "end_time": "2021-12-28T09:04:49.376168Z",
     "start_time": "2021-12-28T09:04:49.364167Z"
    }
   },
   "outputs": [
    {
     "data": {
      "text/plain": [
       "array([7.60957982e+00, 9.05381252e+00, 1.03732740e+01, 1.01176884e+01,\n",
       "       4.88784821e+00, 2.68167529e+00, 0.00000000e+00, 0.00000000e+00,\n",
       "       2.14261482e+00, 0.00000000e+00, 0.00000000e+00, 0.00000000e+00,\n",
       "       0.00000000e+00, 0.00000000e+00, 0.00000000e+00, 0.00000000e+00,\n",
       "       0.00000000e+00, 0.00000000e+00, 2.17915028e+04])"
      ]
     },
     "execution_count": 76,
     "metadata": {},
     "output_type": "execute_result"
    }
   ],
   "source": [
    "x3[2,81:100]"
   ]
  },
  {
   "cell_type": "code",
   "execution_count": 77,
   "metadata": {
    "ExecuteTime": {
     "end_time": "2021-12-28T09:04:49.876196Z",
     "start_time": "2021-12-28T09:04:49.869196Z"
    }
   },
   "outputs": [
    {
     "data": {
      "text/plain": [
       "array([2.68167529])"
      ]
     },
     "execution_count": 77,
     "metadata": {},
     "output_type": "execute_result"
    }
   ],
   "source": [
    "y3[2]"
   ]
  },
  {
   "cell_type": "markdown",
   "metadata": {},
   "source": [
    "- check data"
   ]
  },
  {
   "cell_type": "code",
   "execution_count": 78,
   "metadata": {
    "ExecuteTime": {
     "end_time": "2021-12-28T09:05:39.052009Z",
     "start_time": "2021-12-28T09:05:39.037008Z"
    },
    "collapsed": true
   },
   "outputs": [],
   "source": [
    "n_folds=5\n",
    "\n",
    "def rmlse_cv(model):\n",
    "    kf=KFold(n_folds,shuffle=True,random_state=42).get_n_splits(x3)\n",
    "    rmse=np.sqrt(-cross_val_score(model,x3,y3,scoring='neg_mean_squared_error',cv=kf))\n",
    "    return rmse"
   ]
  },
  {
   "cell_type": "code",
   "execution_count": 79,
   "metadata": {
    "ExecuteTime": {
     "end_time": "2021-12-28T09:05:39.731048Z",
     "start_time": "2021-12-28T09:05:39.724047Z"
    },
    "collapsed": true
   },
   "outputs": [],
   "source": [
    "lasso=make_pipeline(RobustScaler(),Lasso(alpha=0.0005,random_state=1))"
   ]
  },
  {
   "cell_type": "code",
   "execution_count": 80,
   "metadata": {
    "ExecuteTime": {
     "end_time": "2021-12-28T09:05:43.923288Z",
     "start_time": "2021-12-28T09:05:40.308081Z"
    }
   },
   "outputs": [
    {
     "name": "stderr",
     "output_type": "stream",
     "text": [
      "D:\\ProgramData\\Anaconda3\\lib\\site-packages\\sklearn\\linear_model\\coordinate_descent.py:491: ConvergenceWarning: Objective did not converge. You might want to increase the number of iterations. Fitting data with very small alpha may cause precision problems.\n",
      "  ConvergenceWarning)\n",
      "D:\\ProgramData\\Anaconda3\\lib\\site-packages\\sklearn\\linear_model\\coordinate_descent.py:491: ConvergenceWarning: Objective did not converge. You might want to increase the number of iterations. Fitting data with very small alpha may cause precision problems.\n",
      "  ConvergenceWarning)\n",
      "D:\\ProgramData\\Anaconda3\\lib\\site-packages\\sklearn\\linear_model\\coordinate_descent.py:491: ConvergenceWarning: Objective did not converge. You might want to increase the number of iterations. Fitting data with very small alpha may cause precision problems.\n",
      "  ConvergenceWarning)\n",
      "D:\\ProgramData\\Anaconda3\\lib\\site-packages\\sklearn\\linear_model\\coordinate_descent.py:491: ConvergenceWarning: Objective did not converge. You might want to increase the number of iterations. Fitting data with very small alpha may cause precision problems.\n",
      "  ConvergenceWarning)\n"
     ]
    },
    {
     "name": "stdout",
     "output_type": "stream",
     "text": [
      "\n",
      "Lasso score: 1.2461 (0.0076)\n",
      "\n"
     ]
    },
    {
     "name": "stderr",
     "output_type": "stream",
     "text": [
      "D:\\ProgramData\\Anaconda3\\lib\\site-packages\\sklearn\\linear_model\\coordinate_descent.py:491: ConvergenceWarning: Objective did not converge. You might want to increase the number of iterations. Fitting data with very small alpha may cause precision problems.\n",
      "  ConvergenceWarning)\n"
     ]
    }
   ],
   "source": [
    "score=rmlse_cv(lasso)\n",
    "print(\"\\nLasso score: {:.4f} ({:.4f})\\n\".format(score.mean(), score.std()))"
   ]
  },
  {
   "cell_type": "markdown",
   "metadata": {
    "ExecuteTime": {
     "end_time": "2021-12-21T07:57:47.455226Z",
     "start_time": "2021-12-21T07:57:47.445226Z"
    },
    "collapsed": true
   },
   "source": [
    "- 可以看到没有标准化18个特征 计算的rmse 较大\n",
    "- 使用标准化数据 训练模型 all_train_data_new2 经过标准化"
   ]
  },
  {
   "cell_type": "code",
   "execution_count": 81,
   "metadata": {
    "ExecuteTime": {
     "end_time": "2021-12-28T09:05:45.466376Z",
     "start_time": "2021-12-28T09:05:45.410373Z"
    }
   },
   "outputs": [
    {
     "data": {
      "text/html": [
       "<div>\n",
       "<style>\n",
       "    .dataframe thead tr:only-child th {\n",
       "        text-align: right;\n",
       "    }\n",
       "\n",
       "    .dataframe thead th {\n",
       "        text-align: left;\n",
       "    }\n",
       "\n",
       "    .dataframe tbody tr th {\n",
       "        vertical-align: top;\n",
       "    }\n",
       "</style>\n",
       "<table border=\"1\" class=\"dataframe\">\n",
       "  <thead>\n",
       "    <tr style=\"text-align: right;\">\n",
       "      <th></th>\n",
       "      <th>0</th>\n",
       "      <th>1</th>\n",
       "      <th>2</th>\n",
       "      <th>3</th>\n",
       "      <th>4</th>\n",
       "      <th>5</th>\n",
       "      <th>6</th>\n",
       "      <th>7</th>\n",
       "      <th>8</th>\n",
       "      <th>9</th>\n",
       "      <th>...</th>\n",
       "      <th>470</th>\n",
       "      <th>471</th>\n",
       "      <th>472</th>\n",
       "      <th>473</th>\n",
       "      <th>474</th>\n",
       "      <th>475</th>\n",
       "      <th>476</th>\n",
       "      <th>477</th>\n",
       "      <th>478</th>\n",
       "      <th>479</th>\n",
       "    </tr>\n",
       "  </thead>\n",
       "  <tbody>\n",
       "    <tr>\n",
       "      <th>0</th>\n",
       "      <td>2.048183</td>\n",
       "      <td>2.048183</td>\n",
       "      <td>2.048183</td>\n",
       "      <td>1.793598</td>\n",
       "      <td>1.533368</td>\n",
       "      <td>1.533368</td>\n",
       "      <td>1.267104</td>\n",
       "      <td>1.267104</td>\n",
       "      <td>0.994367</td>\n",
       "      <td>0.994367</td>\n",
       "      <td>...</td>\n",
       "      <td>0.994367</td>\n",
       "      <td>0.714665</td>\n",
       "      <td>0.427437</td>\n",
       "      <td>0.132046</td>\n",
       "      <td>-0.172242</td>\n",
       "      <td>-0.486279</td>\n",
       "      <td>-0.811060</td>\n",
       "      <td>-0.811060</td>\n",
       "      <td>-0.811060</td>\n",
       "      <td>-0.811060</td>\n",
       "    </tr>\n",
       "    <tr>\n",
       "      <th>1</th>\n",
       "      <td>-2.735127</td>\n",
       "      <td>-1.128594</td>\n",
       "      <td>-1.128594</td>\n",
       "      <td>-1.128594</td>\n",
       "      <td>-1.128594</td>\n",
       "      <td>-1.128594</td>\n",
       "      <td>0.836941</td>\n",
       "      <td>0.836941</td>\n",
       "      <td>0.836941</td>\n",
       "      <td>0.836941</td>\n",
       "      <td>...</td>\n",
       "      <td>-1.128594</td>\n",
       "      <td>-1.128594</td>\n",
       "      <td>-1.128594</td>\n",
       "      <td>0.836941</td>\n",
       "      <td>0.836941</td>\n",
       "      <td>0.836941</td>\n",
       "      <td>0.836941</td>\n",
       "      <td>0.836941</td>\n",
       "      <td>0.836941</td>\n",
       "      <td>0.836941</td>\n",
       "    </tr>\n",
       "    <tr>\n",
       "      <th>2</th>\n",
       "      <td>-1.661913</td>\n",
       "      <td>-1.900122</td>\n",
       "      <td>-2.149777</td>\n",
       "      <td>-0.810305</td>\n",
       "      <td>0.066846</td>\n",
       "      <td>0.718256</td>\n",
       "      <td>1.323350</td>\n",
       "      <td>1.687074</td>\n",
       "      <td>1.783229</td>\n",
       "      <td>1.687074</td>\n",
       "      <td>...</td>\n",
       "      <td>-1.434450</td>\n",
       "      <td>-1.112002</td>\n",
       "      <td>-0.714040</td>\n",
       "      <td>0.783912</td>\n",
       "      <td>1.094475</td>\n",
       "      <td>0.651348</td>\n",
       "      <td>0.583154</td>\n",
       "      <td>0.848346</td>\n",
       "      <td>1.210965</td>\n",
       "      <td>1.153245</td>\n",
       "    </tr>\n",
       "    <tr>\n",
       "      <th>3</th>\n",
       "      <td>-0.847786</td>\n",
       "      <td>-0.847786</td>\n",
       "      <td>-1.862727</td>\n",
       "      <td>-1.074597</td>\n",
       "      <td>-1.318369</td>\n",
       "      <td>-0.847786</td>\n",
       "      <td>-0.256450</td>\n",
       "      <td>-0.085344</td>\n",
       "      <td>0.493364</td>\n",
       "      <td>0.729579</td>\n",
       "      <td>...</td>\n",
       "      <td>-0.636612</td>\n",
       "      <td>-0.085344</td>\n",
       "      <td>1.279783</td>\n",
       "      <td>1.709354</td>\n",
       "      <td>1.030898</td>\n",
       "      <td>0.493364</td>\n",
       "      <td>0.615361</td>\n",
       "      <td>0.615361</td>\n",
       "      <td>0.936855</td>\n",
       "      <td>0.936855</td>\n",
       "    </tr>\n",
       "    <tr>\n",
       "      <th>4</th>\n",
       "      <td>-0.132088</td>\n",
       "      <td>-0.350596</td>\n",
       "      <td>-0.237406</td>\n",
       "      <td>-0.604642</td>\n",
       "      <td>-0.904299</td>\n",
       "      <td>-0.747994</td>\n",
       "      <td>-0.350596</td>\n",
       "      <td>0.373963</td>\n",
       "      <td>1.083078</td>\n",
       "      <td>1.187481</td>\n",
       "      <td>...</td>\n",
       "      <td>-0.350596</td>\n",
       "      <td>-0.350596</td>\n",
       "      <td>-0.904299</td>\n",
       "      <td>-0.604642</td>\n",
       "      <td>-0.350596</td>\n",
       "      <td>-0.747994</td>\n",
       "      <td>-0.132088</td>\n",
       "      <td>-0.132088</td>\n",
       "      <td>-0.604642</td>\n",
       "      <td>-0.350596</td>\n",
       "    </tr>\n",
       "    <tr>\n",
       "      <th>5</th>\n",
       "      <td>-1.085246</td>\n",
       "      <td>-1.085246</td>\n",
       "      <td>-1.603905</td>\n",
       "      <td>-1.116477</td>\n",
       "      <td>-1.023998</td>\n",
       "      <td>-0.849222</td>\n",
       "      <td>-0.148243</td>\n",
       "      <td>-0.169309</td>\n",
       "      <td>0.091271</td>\n",
       "      <td>0.091271</td>\n",
       "      <td>...</td>\n",
       "      <td>-1.085246</td>\n",
       "      <td>-0.558752</td>\n",
       "      <td>0.091271</td>\n",
       "      <td>1.155830</td>\n",
       "      <td>1.276695</td>\n",
       "      <td>0.444746</td>\n",
       "      <td>0.444746</td>\n",
       "      <td>0.444746</td>\n",
       "      <td>0.444746</td>\n",
       "      <td>0.604131</td>\n",
       "    </tr>\n",
       "    <tr>\n",
       "      <th>6</th>\n",
       "      <td>-0.992545</td>\n",
       "      <td>-1.048182</td>\n",
       "      <td>-1.484907</td>\n",
       "      <td>-1.164071</td>\n",
       "      <td>-1.134496</td>\n",
       "      <td>-0.911765</td>\n",
       "      <td>-0.222281</td>\n",
       "      <td>-0.041980</td>\n",
       "      <td>0.275868</td>\n",
       "      <td>0.275868</td>\n",
       "      <td>...</td>\n",
       "      <td>-1.048182</td>\n",
       "      <td>-0.571474</td>\n",
       "      <td>-0.222281</td>\n",
       "      <td>0.897775</td>\n",
       "      <td>1.098896</td>\n",
       "      <td>0.275868</td>\n",
       "      <td>0.417353</td>\n",
       "      <td>0.417353</td>\n",
       "      <td>0.275868</td>\n",
       "      <td>0.417353</td>\n",
       "    </tr>\n",
       "    <tr>\n",
       "      <th>7</th>\n",
       "      <td>-0.886789</td>\n",
       "      <td>-0.680728</td>\n",
       "      <td>0.156168</td>\n",
       "      <td>0.654805</td>\n",
       "      <td>-0.292821</td>\n",
       "      <td>-0.483107</td>\n",
       "      <td>-0.993414</td>\n",
       "      <td>-1.102715</td>\n",
       "      <td>-1.102715</td>\n",
       "      <td>-0.886789</td>\n",
       "      <td>...</td>\n",
       "      <td>0.967915</td>\n",
       "      <td>1.119547</td>\n",
       "      <td>0.967915</td>\n",
       "      <td>0.069093</td>\n",
       "      <td>-0.680728</td>\n",
       "      <td>-0.680728</td>\n",
       "      <td>-1.102715</td>\n",
       "      <td>-1.214946</td>\n",
       "      <td>-1.214946</td>\n",
       "      <td>-1.214946</td>\n",
       "    </tr>\n",
       "    <tr>\n",
       "      <th>8</th>\n",
       "      <td>-0.129963</td>\n",
       "      <td>-0.887913</td>\n",
       "      <td>-0.614330</td>\n",
       "      <td>-0.363436</td>\n",
       "      <td>-0.085031</td>\n",
       "      <td>-0.085031</td>\n",
       "      <td>-0.511598</td>\n",
       "      <td>-1.326977</td>\n",
       "      <td>-0.946027</td>\n",
       "      <td>-1.128784</td>\n",
       "      <td>...</td>\n",
       "      <td>-1.625203</td>\n",
       "      <td>-1.258920</td>\n",
       "      <td>-0.412085</td>\n",
       "      <td>0.089565</td>\n",
       "      <td>0.337977</td>\n",
       "      <td>0.685851</td>\n",
       "      <td>1.113629</td>\n",
       "      <td>0.534516</td>\n",
       "      <td>-0.221513</td>\n",
       "      <td>-0.720657</td>\n",
       "    </tr>\n",
       "    <tr>\n",
       "      <th>9</th>\n",
       "      <td>0.322012</td>\n",
       "      <td>-0.021459</td>\n",
       "      <td>-0.021459</td>\n",
       "      <td>0.322012</td>\n",
       "      <td>0.635810</td>\n",
       "      <td>0.575026</td>\n",
       "      <td>-0.668748</td>\n",
       "      <td>-1.193425</td>\n",
       "      <td>-1.831188</td>\n",
       "      <td>-1.831188</td>\n",
       "      <td>...</td>\n",
       "      <td>-1.627652</td>\n",
       "      <td>-0.861503</td>\n",
       "      <td>0.450605</td>\n",
       "      <td>1.200949</td>\n",
       "      <td>1.803123</td>\n",
       "      <td>1.200949</td>\n",
       "      <td>0.695707</td>\n",
       "      <td>-0.021459</td>\n",
       "      <td>0.450605</td>\n",
       "      <td>0.754759</td>\n",
       "    </tr>\n",
       "    <tr>\n",
       "      <th>10</th>\n",
       "      <td>-0.231234</td>\n",
       "      <td>-0.231234</td>\n",
       "      <td>-0.231234</td>\n",
       "      <td>-0.231234</td>\n",
       "      <td>-0.231234</td>\n",
       "      <td>-0.231234</td>\n",
       "      <td>-0.231234</td>\n",
       "      <td>-0.231234</td>\n",
       "      <td>-0.231234</td>\n",
       "      <td>-0.231234</td>\n",
       "      <td>...</td>\n",
       "      <td>-0.231234</td>\n",
       "      <td>-0.231234</td>\n",
       "      <td>-0.231234</td>\n",
       "      <td>-0.231234</td>\n",
       "      <td>-0.231234</td>\n",
       "      <td>-0.231234</td>\n",
       "      <td>-0.231234</td>\n",
       "      <td>-0.231234</td>\n",
       "      <td>-0.231234</td>\n",
       "      <td>-0.231234</td>\n",
       "    </tr>\n",
       "    <tr>\n",
       "      <th>11</th>\n",
       "      <td>0.560245</td>\n",
       "      <td>0.465083</td>\n",
       "      <td>0.755880</td>\n",
       "      <td>0.856375</td>\n",
       "      <td>0.560245</td>\n",
       "      <td>0.280021</td>\n",
       "      <td>0.560245</td>\n",
       "      <td>0.465083</td>\n",
       "      <td>0.465083</td>\n",
       "      <td>0.371679</td>\n",
       "      <td>...</td>\n",
       "      <td>-1.371502</td>\n",
       "      <td>-1.203297</td>\n",
       "      <td>-1.021538</td>\n",
       "      <td>-0.616038</td>\n",
       "      <td>0.015420</td>\n",
       "      <td>0.280021</td>\n",
       "      <td>0.657174</td>\n",
       "      <td>0.856375</td>\n",
       "      <td>1.062771</td>\n",
       "      <td>1.062771</td>\n",
       "    </tr>\n",
       "    <tr>\n",
       "      <th>12</th>\n",
       "      <td>-0.065857</td>\n",
       "      <td>-0.212741</td>\n",
       "      <td>0.389805</td>\n",
       "      <td>0.777508</td>\n",
       "      <td>-0.289601</td>\n",
       "      <td>-0.368961</td>\n",
       "      <td>-0.451012</td>\n",
       "      <td>-0.368961</td>\n",
       "      <td>-0.451012</td>\n",
       "      <td>-0.624072</td>\n",
       "      <td>...</td>\n",
       "      <td>0.448790</td>\n",
       "      <td>0.562933</td>\n",
       "      <td>0.725451</td>\n",
       "      <td>1.206226</td>\n",
       "      <td>0.878718</td>\n",
       "      <td>0.448790</td>\n",
       "      <td>0.204368</td>\n",
       "      <td>0.267670</td>\n",
       "      <td>0.267670</td>\n",
       "      <td>0.267670</td>\n",
       "    </tr>\n",
       "    <tr>\n",
       "      <th>13</th>\n",
       "      <td>-2.401899</td>\n",
       "      <td>-2.401899</td>\n",
       "      <td>-2.401899</td>\n",
       "      <td>-2.401899</td>\n",
       "      <td>-0.930564</td>\n",
       "      <td>-0.930564</td>\n",
       "      <td>0.221904</td>\n",
       "      <td>0.221904</td>\n",
       "      <td>1.132257</td>\n",
       "      <td>1.132257</td>\n",
       "      <td>...</td>\n",
       "      <td>-0.930564</td>\n",
       "      <td>-0.930564</td>\n",
       "      <td>1.132257</td>\n",
       "      <td>1.857046</td>\n",
       "      <td>1.132257</td>\n",
       "      <td>0.221904</td>\n",
       "      <td>0.221904</td>\n",
       "      <td>0.221904</td>\n",
       "      <td>1.132257</td>\n",
       "      <td>1.132257</td>\n",
       "    </tr>\n",
       "    <tr>\n",
       "      <th>14</th>\n",
       "      <td>0.108451</td>\n",
       "      <td>-0.776688</td>\n",
       "      <td>-0.028663</td>\n",
       "      <td>0.024197</td>\n",
       "      <td>-0.533728</td>\n",
       "      <td>-0.584456</td>\n",
       "      <td>-0.460674</td>\n",
       "      <td>-0.368421</td>\n",
       "      <td>-0.610470</td>\n",
       "      <td>-0.584456</td>\n",
       "      <td>...</td>\n",
       "      <td>-0.508985</td>\n",
       "      <td>1.968689</td>\n",
       "      <td>2.061360</td>\n",
       "      <td>-1.963051</td>\n",
       "      <td>0.264293</td>\n",
       "      <td>0.392268</td>\n",
       "      <td>0.378560</td>\n",
       "      <td>0.459050</td>\n",
       "      <td>0.378560</td>\n",
       "      <td>0.392268</td>\n",
       "    </tr>\n",
       "    <tr>\n",
       "      <th>15</th>\n",
       "      <td>0.090207</td>\n",
       "      <td>-0.857881</td>\n",
       "      <td>0.186019</td>\n",
       "      <td>-0.322924</td>\n",
       "      <td>-0.631747</td>\n",
       "      <td>-0.658270</td>\n",
       "      <td>-0.631747</td>\n",
       "      <td>-0.065686</td>\n",
       "      <td>2.057997</td>\n",
       "      <td>-0.685256</td>\n",
       "      <td>...</td>\n",
       "      <td>-2.393628</td>\n",
       "      <td>1.943783</td>\n",
       "      <td>-0.798171</td>\n",
       "      <td>-0.740683</td>\n",
       "      <td>0.493775</td>\n",
       "      <td>0.154738</td>\n",
       "      <td>0.305158</td>\n",
       "      <td>0.455255</td>\n",
       "      <td>0.201424</td>\n",
       "      <td>0.276225</td>\n",
       "    </tr>\n",
       "    <tr>\n",
       "      <th>16</th>\n",
       "      <td>-0.341484</td>\n",
       "      <td>-0.012075</td>\n",
       "      <td>0.980941</td>\n",
       "      <td>1.558019</td>\n",
       "      <td>1.058525</td>\n",
       "      <td>-0.228107</td>\n",
       "      <td>1.752020</td>\n",
       "      <td>0.901583</td>\n",
       "      <td>0.382929</td>\n",
       "      <td>0.288359</td>\n",
       "      <td>...</td>\n",
       "      <td>0.191112</td>\n",
       "      <td>0.474968</td>\n",
       "      <td>-0.973313</td>\n",
       "      <td>-1.418405</td>\n",
       "      <td>-0.706263</td>\n",
       "      <td>-1.418405</td>\n",
       "      <td>-0.458772</td>\n",
       "      <td>-0.706263</td>\n",
       "      <td>-0.118382</td>\n",
       "      <td>-0.118382</td>\n",
       "    </tr>\n",
       "    <tr>\n",
       "      <th>17</th>\n",
       "      <td>-0.071230</td>\n",
       "      <td>-0.710232</td>\n",
       "      <td>-0.535422</td>\n",
       "      <td>0.958346</td>\n",
       "      <td>2.046541</td>\n",
       "      <td>1.049680</td>\n",
       "      <td>0.863311</td>\n",
       "      <td>1.137564</td>\n",
       "      <td>-0.897139</td>\n",
       "      <td>-0.710232</td>\n",
       "      <td>...</td>\n",
       "      <td>-0.071230</td>\n",
       "      <td>0.440148</td>\n",
       "      <td>-1.097727</td>\n",
       "      <td>-1.802712</td>\n",
       "      <td>-0.371378</td>\n",
       "      <td>0.066674</td>\n",
       "      <td>-0.071230</td>\n",
       "      <td>0.321771</td>\n",
       "      <td>0.553082</td>\n",
       "      <td>0.764300</td>\n",
       "    </tr>\n",
       "  </tbody>\n",
       "</table>\n",
       "<p>18 rows × 5760 columns</p>\n",
       "</div>"
      ],
      "text/plain": [
       "         0         1         2         3         4         5         6    \\\n",
       "0   2.048183  2.048183  2.048183  1.793598  1.533368  1.533368  1.267104   \n",
       "1  -2.735127 -1.128594 -1.128594 -1.128594 -1.128594 -1.128594  0.836941   \n",
       "2  -1.661913 -1.900122 -2.149777 -0.810305  0.066846  0.718256  1.323350   \n",
       "3  -0.847786 -0.847786 -1.862727 -1.074597 -1.318369 -0.847786 -0.256450   \n",
       "4  -0.132088 -0.350596 -0.237406 -0.604642 -0.904299 -0.747994 -0.350596   \n",
       "5  -1.085246 -1.085246 -1.603905 -1.116477 -1.023998 -0.849222 -0.148243   \n",
       "6  -0.992545 -1.048182 -1.484907 -1.164071 -1.134496 -0.911765 -0.222281   \n",
       "7  -0.886789 -0.680728  0.156168  0.654805 -0.292821 -0.483107 -0.993414   \n",
       "8  -0.129963 -0.887913 -0.614330 -0.363436 -0.085031 -0.085031 -0.511598   \n",
       "9   0.322012 -0.021459 -0.021459  0.322012  0.635810  0.575026 -0.668748   \n",
       "10 -0.231234 -0.231234 -0.231234 -0.231234 -0.231234 -0.231234 -0.231234   \n",
       "11  0.560245  0.465083  0.755880  0.856375  0.560245  0.280021  0.560245   \n",
       "12 -0.065857 -0.212741  0.389805  0.777508 -0.289601 -0.368961 -0.451012   \n",
       "13 -2.401899 -2.401899 -2.401899 -2.401899 -0.930564 -0.930564  0.221904   \n",
       "14  0.108451 -0.776688 -0.028663  0.024197 -0.533728 -0.584456 -0.460674   \n",
       "15  0.090207 -0.857881  0.186019 -0.322924 -0.631747 -0.658270 -0.631747   \n",
       "16 -0.341484 -0.012075  0.980941  1.558019  1.058525 -0.228107  1.752020   \n",
       "17 -0.071230 -0.710232 -0.535422  0.958346  2.046541  1.049680  0.863311   \n",
       "\n",
       "         7         8         9      ...          470       471       472  \\\n",
       "0   1.267104  0.994367  0.994367    ...     0.994367  0.714665  0.427437   \n",
       "1   0.836941  0.836941  0.836941    ...    -1.128594 -1.128594 -1.128594   \n",
       "2   1.687074  1.783229  1.687074    ...    -1.434450 -1.112002 -0.714040   \n",
       "3  -0.085344  0.493364  0.729579    ...    -0.636612 -0.085344  1.279783   \n",
       "4   0.373963  1.083078  1.187481    ...    -0.350596 -0.350596 -0.904299   \n",
       "5  -0.169309  0.091271  0.091271    ...    -1.085246 -0.558752  0.091271   \n",
       "6  -0.041980  0.275868  0.275868    ...    -1.048182 -0.571474 -0.222281   \n",
       "7  -1.102715 -1.102715 -0.886789    ...     0.967915  1.119547  0.967915   \n",
       "8  -1.326977 -0.946027 -1.128784    ...    -1.625203 -1.258920 -0.412085   \n",
       "9  -1.193425 -1.831188 -1.831188    ...    -1.627652 -0.861503  0.450605   \n",
       "10 -0.231234 -0.231234 -0.231234    ...    -0.231234 -0.231234 -0.231234   \n",
       "11  0.465083  0.465083  0.371679    ...    -1.371502 -1.203297 -1.021538   \n",
       "12 -0.368961 -0.451012 -0.624072    ...     0.448790  0.562933  0.725451   \n",
       "13  0.221904  1.132257  1.132257    ...    -0.930564 -0.930564  1.132257   \n",
       "14 -0.368421 -0.610470 -0.584456    ...    -0.508985  1.968689  2.061360   \n",
       "15 -0.065686  2.057997 -0.685256    ...    -2.393628  1.943783 -0.798171   \n",
       "16  0.901583  0.382929  0.288359    ...     0.191112  0.474968 -0.973313   \n",
       "17  1.137564 -0.897139 -0.710232    ...    -0.071230  0.440148 -1.097727   \n",
       "\n",
       "         473       474       475       476       477       478       479  \n",
       "0   0.132046 -0.172242 -0.486279 -0.811060 -0.811060 -0.811060 -0.811060  \n",
       "1   0.836941  0.836941  0.836941  0.836941  0.836941  0.836941  0.836941  \n",
       "2   0.783912  1.094475  0.651348  0.583154  0.848346  1.210965  1.153245  \n",
       "3   1.709354  1.030898  0.493364  0.615361  0.615361  0.936855  0.936855  \n",
       "4  -0.604642 -0.350596 -0.747994 -0.132088 -0.132088 -0.604642 -0.350596  \n",
       "5   1.155830  1.276695  0.444746  0.444746  0.444746  0.444746  0.604131  \n",
       "6   0.897775  1.098896  0.275868  0.417353  0.417353  0.275868  0.417353  \n",
       "7   0.069093 -0.680728 -0.680728 -1.102715 -1.214946 -1.214946 -1.214946  \n",
       "8   0.089565  0.337977  0.685851  1.113629  0.534516 -0.221513 -0.720657  \n",
       "9   1.200949  1.803123  1.200949  0.695707 -0.021459  0.450605  0.754759  \n",
       "10 -0.231234 -0.231234 -0.231234 -0.231234 -0.231234 -0.231234 -0.231234  \n",
       "11 -0.616038  0.015420  0.280021  0.657174  0.856375  1.062771  1.062771  \n",
       "12  1.206226  0.878718  0.448790  0.204368  0.267670  0.267670  0.267670  \n",
       "13  1.857046  1.132257  0.221904  0.221904  0.221904  1.132257  1.132257  \n",
       "14 -1.963051  0.264293  0.392268  0.378560  0.459050  0.378560  0.392268  \n",
       "15 -0.740683  0.493775  0.154738  0.305158  0.455255  0.201424  0.276225  \n",
       "16 -1.418405 -0.706263 -1.418405 -0.458772 -0.706263 -0.118382 -0.118382  \n",
       "17 -1.802712 -0.371378  0.066674 -0.071230  0.321771  0.553082  0.764300  \n",
       "\n",
       "[18 rows x 5760 columns]"
      ]
     },
     "execution_count": 81,
     "metadata": {},
     "output_type": "execute_result"
    }
   ],
   "source": [
    "all_train_data_new3=all_train_data_new2.T\n",
    "# all_train_data_new3=all_train_data_new2.T\n",
    "all_train_data_new3"
   ]
  },
  {
   "cell_type": "code",
   "execution_count": 82,
   "metadata": {
    "ExecuteTime": {
     "end_time": "2021-12-28T09:05:47.662501Z",
     "start_time": "2021-12-28T09:05:46.300423Z"
    },
    "collapsed": true
   },
   "outputs": [],
   "source": [
    "x4=np.empty((12*471,18*9))\n",
    "y4=np.empty((12*471,1))\n",
    "for m in range(12):\n",
    "    for i in range(471):\n",
    "        x4[m*471+i:m*471+i+1,:]=all_train_data_new3.iloc[:,m*480+i:m*480+i+9].values.reshape(1,-1)\n",
    "        y4[m*471+i:m*471+i+1,:]=all_train_data_new3.iloc[9,m*480+i+9]"
   ]
  },
  {
   "cell_type": "code",
   "execution_count": 83,
   "metadata": {
    "ExecuteTime": {
     "end_time": "2021-12-28T09:05:47.669502Z",
     "start_time": "2021-12-28T09:05:47.663501Z"
    },
    "collapsed": true
   },
   "outputs": [],
   "source": [
    "n_folds=5\n",
    "\n",
    "def rmlse_cv2(model):\n",
    "    kf=KFold(n_folds,shuffle=True,random_state=42).get_n_splits(x4)\n",
    "    rmse=np.sqrt(-cross_val_score(model,x4,y4,scoring='neg_mean_squared_error',cv=kf))\n",
    "    return rmse"
   ]
  },
  {
   "cell_type": "code",
   "execution_count": 84,
   "metadata": {
    "ExecuteTime": {
     "end_time": "2021-12-28T09:05:51.934746Z",
     "start_time": "2021-12-28T09:05:48.252535Z"
    }
   },
   "outputs": [
    {
     "name": "stderr",
     "output_type": "stream",
     "text": [
      "D:\\ProgramData\\Anaconda3\\lib\\site-packages\\sklearn\\linear_model\\coordinate_descent.py:491: ConvergenceWarning: Objective did not converge. You might want to increase the number of iterations. Fitting data with very small alpha may cause precision problems.\n",
      "  ConvergenceWarning)\n",
      "D:\\ProgramData\\Anaconda3\\lib\\site-packages\\sklearn\\linear_model\\coordinate_descent.py:491: ConvergenceWarning: Objective did not converge. You might want to increase the number of iterations. Fitting data with very small alpha may cause precision problems.\n",
      "  ConvergenceWarning)\n",
      "D:\\ProgramData\\Anaconda3\\lib\\site-packages\\sklearn\\linear_model\\coordinate_descent.py:491: ConvergenceWarning: Objective did not converge. You might want to increase the number of iterations. Fitting data with very small alpha may cause precision problems.\n",
      "  ConvergenceWarning)\n",
      "D:\\ProgramData\\Anaconda3\\lib\\site-packages\\sklearn\\linear_model\\coordinate_descent.py:491: ConvergenceWarning: Objective did not converge. You might want to increase the number of iterations. Fitting data with very small alpha may cause precision problems.\n",
      "  ConvergenceWarning)\n"
     ]
    },
    {
     "name": "stdout",
     "output_type": "stream",
     "text": [
      "\n",
      " Losso21 score : 0.2985 (0.0017) \n",
      "\n"
     ]
    },
    {
     "name": "stderr",
     "output_type": "stream",
     "text": [
      "D:\\ProgramData\\Anaconda3\\lib\\site-packages\\sklearn\\linear_model\\coordinate_descent.py:491: ConvergenceWarning: Objective did not converge. You might want to increase the number of iterations. Fitting data with very small alpha may cause precision problems.\n",
      "  ConvergenceWarning)\n"
     ]
    }
   ],
   "source": [
    "lasso21=Lasso(alpha=0.0005,random_state=1)\n",
    "score=rmlse_cv2(lasso21)\n",
    "print('\\n Losso21 score : {:0>.4f} ({:0>.4f}) \\n'.format(score.mean(),score.std()))"
   ]
  },
  {
   "cell_type": "code",
   "execution_count": 85,
   "metadata": {
    "ExecuteTime": {
     "end_time": "2021-12-28T09:05:55.706961Z",
     "start_time": "2021-12-28T09:05:51.938746Z"
    }
   },
   "outputs": [
    {
     "name": "stderr",
     "output_type": "stream",
     "text": [
      "D:\\ProgramData\\Anaconda3\\lib\\site-packages\\sklearn\\linear_model\\coordinate_descent.py:491: ConvergenceWarning: Objective did not converge. You might want to increase the number of iterations. Fitting data with very small alpha may cause precision problems.\n",
      "  ConvergenceWarning)\n",
      "D:\\ProgramData\\Anaconda3\\lib\\site-packages\\sklearn\\linear_model\\coordinate_descent.py:491: ConvergenceWarning: Objective did not converge. You might want to increase the number of iterations. Fitting data with very small alpha may cause precision problems.\n",
      "  ConvergenceWarning)\n",
      "D:\\ProgramData\\Anaconda3\\lib\\site-packages\\sklearn\\linear_model\\coordinate_descent.py:491: ConvergenceWarning: Objective did not converge. You might want to increase the number of iterations. Fitting data with very small alpha may cause precision problems.\n",
      "  ConvergenceWarning)\n",
      "D:\\ProgramData\\Anaconda3\\lib\\site-packages\\sklearn\\linear_model\\coordinate_descent.py:491: ConvergenceWarning: Objective did not converge. You might want to increase the number of iterations. Fitting data with very small alpha may cause precision problems.\n",
      "  ConvergenceWarning)\n"
     ]
    },
    {
     "name": "stdout",
     "output_type": "stream",
     "text": [
      "\n",
      " Losso21 score : 0.2950 (0.0018) \n",
      "\n"
     ]
    },
    {
     "name": "stderr",
     "output_type": "stream",
     "text": [
      "D:\\ProgramData\\Anaconda3\\lib\\site-packages\\sklearn\\linear_model\\coordinate_descent.py:491: ConvergenceWarning: Objective did not converge. You might want to increase the number of iterations. Fitting data with very small alpha may cause precision problems.\n",
      "  ConvergenceWarning)\n"
     ]
    }
   ],
   "source": [
    "lasso22=make_pipeline(RobustScaler(),Lasso(alpha=0.00005,random_state=1))\n",
    "score=rmlse_cv2(lasso22)\n",
    "print('\\n Losso21 score : {:0>.4f} ({:0>.4f}) \\n'.format(score.mean(),score.std()))"
   ]
  },
  {
   "cell_type": "code",
   "execution_count": 86,
   "metadata": {
    "ExecuteTime": {
     "end_time": "2021-12-28T09:05:57.171045Z",
     "start_time": "2021-12-28T09:05:55.709962Z"
    }
   },
   "outputs": [
    {
     "name": "stderr",
     "output_type": "stream",
     "text": [
      "D:\\ProgramData\\Anaconda3\\lib\\site-packages\\sklearn\\utils\\validation.py:578: DataConversionWarning: A column-vector y was passed when a 1d array was expected. Please change the shape of y to (n_samples, ), for example using ravel().\n",
      "  y = column_or_1d(y, warn=True)\n",
      "D:\\ProgramData\\Anaconda3\\lib\\site-packages\\sklearn\\utils\\validation.py:578: DataConversionWarning: A column-vector y was passed when a 1d array was expected. Please change the shape of y to (n_samples, ), for example using ravel().\n",
      "  y = column_or_1d(y, warn=True)\n",
      "D:\\ProgramData\\Anaconda3\\lib\\site-packages\\sklearn\\utils\\validation.py:578: DataConversionWarning: A column-vector y was passed when a 1d array was expected. Please change the shape of y to (n_samples, ), for example using ravel().\n",
      "  y = column_or_1d(y, warn=True)\n",
      "D:\\ProgramData\\Anaconda3\\lib\\site-packages\\sklearn\\utils\\validation.py:578: DataConversionWarning: A column-vector y was passed when a 1d array was expected. Please change the shape of y to (n_samples, ), for example using ravel().\n",
      "  y = column_or_1d(y, warn=True)\n"
     ]
    },
    {
     "name": "stdout",
     "output_type": "stream",
     "text": [
      "\n",
      " model score : 1.3090 (0.0386) \n",
      "\n"
     ]
    },
    {
     "name": "stderr",
     "output_type": "stream",
     "text": [
      "D:\\ProgramData\\Anaconda3\\lib\\site-packages\\sklearn\\utils\\validation.py:578: DataConversionWarning: A column-vector y was passed when a 1d array was expected. Please change the shape of y to (n_samples, ), for example using ravel().\n",
      "  y = column_or_1d(y, warn=True)\n"
     ]
    }
   ],
   "source": [
    "ridge=make_pipeline(BayesianRidge())\n",
    "score=rmlse_cv(ridge)\n",
    "print('\\n model score : {:0>.4f} ({:0>.4f}) \\n'.format(score.mean(),score.std()))"
   ]
  },
  {
   "cell_type": "code",
   "execution_count": 87,
   "metadata": {
    "ExecuteTime": {
     "end_time": "2021-12-28T09:06:01.367285Z",
     "start_time": "2021-12-28T09:06:00.814254Z"
    }
   },
   "outputs": [
    {
     "name": "stderr",
     "output_type": "stream",
     "text": [
      "D:\\ProgramData\\Anaconda3\\lib\\site-packages\\sklearn\\utils\\validation.py:578: DataConversionWarning: A column-vector y was passed when a 1d array was expected. Please change the shape of y to (n_samples, ), for example using ravel().\n",
      "  y = column_or_1d(y, warn=True)\n",
      "D:\\ProgramData\\Anaconda3\\lib\\site-packages\\sklearn\\utils\\validation.py:578: DataConversionWarning: A column-vector y was passed when a 1d array was expected. Please change the shape of y to (n_samples, ), for example using ravel().\n",
      "  y = column_or_1d(y, warn=True)\n",
      "D:\\ProgramData\\Anaconda3\\lib\\site-packages\\sklearn\\utils\\validation.py:578: DataConversionWarning: A column-vector y was passed when a 1d array was expected. Please change the shape of y to (n_samples, ), for example using ravel().\n",
      "  y = column_or_1d(y, warn=True)\n",
      "D:\\ProgramData\\Anaconda3\\lib\\site-packages\\sklearn\\utils\\validation.py:578: DataConversionWarning: A column-vector y was passed when a 1d array was expected. Please change the shape of y to (n_samples, ), for example using ravel().\n",
      "  y = column_or_1d(y, warn=True)\n",
      "D:\\ProgramData\\Anaconda3\\lib\\site-packages\\sklearn\\utils\\validation.py:578: DataConversionWarning: A column-vector y was passed when a 1d array was expected. Please change the shape of y to (n_samples, ), for example using ravel().\n",
      "  y = column_or_1d(y, warn=True)\n"
     ]
    },
    {
     "name": "stdout",
     "output_type": "stream",
     "text": [
      "\n",
      " model score : 0.2955 (0.0017) \n",
      "\n"
     ]
    }
   ],
   "source": [
    "ridge2=make_pipeline(RobustScaler(),BayesianRidge())\n",
    "score=rmlse_cv2(ridge2)\n",
    "print('\\n model score : {:0>.4f} ({:0>.4f}) \\n'.format(score.mean(),score.std()))"
   ]
  },
  {
   "cell_type": "code",
   "execution_count": 88,
   "metadata": {
    "ExecuteTime": {
     "end_time": "2021-12-28T09:06:26.796740Z",
     "start_time": "2021-12-28T09:06:23.117529Z"
    }
   },
   "outputs": [
    {
     "name": "stderr",
     "output_type": "stream",
     "text": [
      "D:\\ProgramData\\Anaconda3\\lib\\site-packages\\sklearn\\linear_model\\coordinate_descent.py:491: ConvergenceWarning: Objective did not converge. You might want to increase the number of iterations. Fitting data with very small alpha may cause precision problems.\n",
      "  ConvergenceWarning)\n",
      "D:\\ProgramData\\Anaconda3\\lib\\site-packages\\sklearn\\linear_model\\coordinate_descent.py:491: ConvergenceWarning: Objective did not converge. You might want to increase the number of iterations. Fitting data with very small alpha may cause precision problems.\n",
      "  ConvergenceWarning)\n",
      "D:\\ProgramData\\Anaconda3\\lib\\site-packages\\sklearn\\linear_model\\coordinate_descent.py:491: ConvergenceWarning: Objective did not converge. You might want to increase the number of iterations. Fitting data with very small alpha may cause precision problems.\n",
      "  ConvergenceWarning)\n",
      "D:\\ProgramData\\Anaconda3\\lib\\site-packages\\sklearn\\linear_model\\coordinate_descent.py:491: ConvergenceWarning: Objective did not converge. You might want to increase the number of iterations. Fitting data with very small alpha may cause precision problems.\n",
      "  ConvergenceWarning)\n"
     ]
    },
    {
     "name": "stdout",
     "output_type": "stream",
     "text": [
      "\n",
      " model score : 1.2401 (0.0076) \n",
      "\n"
     ]
    },
    {
     "name": "stderr",
     "output_type": "stream",
     "text": [
      "D:\\ProgramData\\Anaconda3\\lib\\site-packages\\sklearn\\linear_model\\coordinate_descent.py:491: ConvergenceWarning: Objective did not converge. You might want to increase the number of iterations. Fitting data with very small alpha may cause precision problems.\n",
      "  ConvergenceWarning)\n"
     ]
    }
   ],
   "source": [
    "enet=make_pipeline(RobustScaler(),ElasticNet(alpha=0.00005,l1_ratio=0.9,random_state=3))\n",
    "score=rmlse_cv(enet)\n",
    "print('\\n model score : {:0>.4f} ({:0>.4f}) \\n'.format(score.mean(),score.std()))"
   ]
  },
  {
   "cell_type": "code",
   "execution_count": 89,
   "metadata": {
    "ExecuteTime": {
     "end_time": "2021-12-28T09:07:20.581816Z",
     "start_time": "2021-12-28T09:06:30.427947Z"
    }
   },
   "outputs": [
    {
     "name": "stderr",
     "output_type": "stream",
     "text": [
      "D:\\ProgramData\\Anaconda3\\lib\\site-packages\\sklearn\\pipeline.py:250: DataConversionWarning: A column-vector y was passed when a 1d array was expected. Please change the shape of y to (n_samples,), for example using ravel().\n",
      "  self._final_estimator.fit(Xt, y, **fit_params)\n",
      "D:\\ProgramData\\Anaconda3\\lib\\site-packages\\sklearn\\pipeline.py:250: DataConversionWarning: A column-vector y was passed when a 1d array was expected. Please change the shape of y to (n_samples,), for example using ravel().\n",
      "  self._final_estimator.fit(Xt, y, **fit_params)\n",
      "D:\\ProgramData\\Anaconda3\\lib\\site-packages\\sklearn\\pipeline.py:250: DataConversionWarning: A column-vector y was passed when a 1d array was expected. Please change the shape of y to (n_samples,), for example using ravel().\n",
      "  self._final_estimator.fit(Xt, y, **fit_params)\n",
      "D:\\ProgramData\\Anaconda3\\lib\\site-packages\\sklearn\\pipeline.py:250: DataConversionWarning: A column-vector y was passed when a 1d array was expected. Please change the shape of y to (n_samples,), for example using ravel().\n",
      "  self._final_estimator.fit(Xt, y, **fit_params)\n",
      "D:\\ProgramData\\Anaconda3\\lib\\site-packages\\sklearn\\pipeline.py:250: DataConversionWarning: A column-vector y was passed when a 1d array was expected. Please change the shape of y to (n_samples,), for example using ravel().\n",
      "  self._final_estimator.fit(Xt, y, **fit_params)\n"
     ]
    },
    {
     "name": "stdout",
     "output_type": "stream",
     "text": [
      "\n",
      " model score : 1.8526 (0.0101) \n",
      "\n"
     ]
    }
   ],
   "source": [
    "rfr=make_pipeline(RobustScaler(),RandomForestRegressor(n_estimators=300, max_depth=3))\n",
    "score=rmlse_cv(rfr)\n",
    "print('\\n model score : {:0>.4f} ({:0>.4f}) \\n'.format(score.mean(),score.std()))"
   ]
  },
  {
   "cell_type": "code",
   "execution_count": 128,
   "metadata": {
    "ExecuteTime": {
     "end_time": "2021-12-21T09:42:57.577145Z",
     "start_time": "2021-12-21T09:41:47.547139Z"
    }
   },
   "outputs": [
    {
     "name": "stderr",
     "output_type": "stream",
     "text": [
      "D:\\ProgramData\\Anaconda3\\lib\\site-packages\\sklearn\\utils\\validation.py:578: DataConversionWarning: A column-vector y was passed when a 1d array was expected. Please change the shape of y to (n_samples, ), for example using ravel().\n",
      "  y = column_or_1d(y, warn=True)\n",
      "D:\\ProgramData\\Anaconda3\\lib\\site-packages\\sklearn\\utils\\validation.py:578: DataConversionWarning: A column-vector y was passed when a 1d array was expected. Please change the shape of y to (n_samples, ), for example using ravel().\n",
      "  y = column_or_1d(y, warn=True)\n",
      "D:\\ProgramData\\Anaconda3\\lib\\site-packages\\sklearn\\utils\\validation.py:578: DataConversionWarning: A column-vector y was passed when a 1d array was expected. Please change the shape of y to (n_samples, ), for example using ravel().\n",
      "  y = column_or_1d(y, warn=True)\n",
      "D:\\ProgramData\\Anaconda3\\lib\\site-packages\\sklearn\\utils\\validation.py:578: DataConversionWarning: A column-vector y was passed when a 1d array was expected. Please change the shape of y to (n_samples, ), for example using ravel().\n",
      "  y = column_or_1d(y, warn=True)\n",
      "D:\\ProgramData\\Anaconda3\\lib\\site-packages\\sklearn\\utils\\validation.py:578: DataConversionWarning: A column-vector y was passed when a 1d array was expected. Please change the shape of y to (n_samples, ), for example using ravel().\n",
      "  y = column_or_1d(y, warn=True)\n"
     ]
    },
    {
     "name": "stdout",
     "output_type": "stream",
     "text": [
      "\n",
      " model score : 0.0713 (0.0128) \n",
      "\n"
     ]
    }
   ],
   "source": [
    "GBoost = GradientBoostingRegressor(n_estimators=3000,\n",
    "                                   learning_rate=0.05,\n",
    "                                   max_depth=4,\n",
    "                                   max_features='sqrt',\n",
    "                                   min_samples_leaf=15,\n",
    "                                   min_samples_split=10,\n",
    "                                   loss='huber',\n",
    "                                   random_state=5)\n",
    "score=rmlse_cv(GBoost)\n",
    "print('\\n model score : {:0>.4f} ({:0>.4f}) \\n'.format(score.mean(),score.std()))"
   ]
  },
  {
   "cell_type": "code",
   "execution_count": 90,
   "metadata": {
    "ExecuteTime": {
     "end_time": "2021-12-28T09:19:37.131944Z",
     "start_time": "2021-12-28T09:18:56.458618Z"
    }
   },
   "outputs": [
    {
     "name": "stdout",
     "output_type": "stream",
     "text": [
      "[17:18:56] WARNING: C:\\Users\\Administrator\\workspace\\xgboost-win64_release_1.1.0\\src\\learner.cc:480: \n",
      "Parameters: { silent } might not be used.\n",
      "\n",
      "  This may not be accurate due to some parameters are only used in language bindings but\n",
      "  passed down to XGBoost core.  Or some parameters are not used but slip through this\n",
      "  verification. Please open an issue if you find above cases.\n",
      "\n",
      "\n",
      "[17:19:04] WARNING: C:\\Users\\Administrator\\workspace\\xgboost-win64_release_1.1.0\\src\\learner.cc:480: \n",
      "Parameters: { silent } might not be used.\n",
      "\n",
      "  This may not be accurate due to some parameters are only used in language bindings but\n",
      "  passed down to XGBoost core.  Or some parameters are not used but slip through this\n",
      "  verification. Please open an issue if you find above cases.\n",
      "\n",
      "\n",
      "[17:19:12] WARNING: C:\\Users\\Administrator\\workspace\\xgboost-win64_release_1.1.0\\src\\learner.cc:480: \n",
      "Parameters: { silent } might not be used.\n",
      "\n",
      "  This may not be accurate due to some parameters are only used in language bindings but\n",
      "  passed down to XGBoost core.  Or some parameters are not used but slip through this\n",
      "  verification. Please open an issue if you find above cases.\n",
      "\n",
      "\n",
      "[17:19:21] WARNING: C:\\Users\\Administrator\\workspace\\xgboost-win64_release_1.1.0\\src\\learner.cc:480: \n",
      "Parameters: { silent } might not be used.\n",
      "\n",
      "  This may not be accurate due to some parameters are only used in language bindings but\n",
      "  passed down to XGBoost core.  Or some parameters are not used but slip through this\n",
      "  verification. Please open an issue if you find above cases.\n",
      "\n",
      "\n",
      "[17:19:29] WARNING: C:\\Users\\Administrator\\workspace\\xgboost-win64_release_1.1.0\\src\\learner.cc:480: \n",
      "Parameters: { silent } might not be used.\n",
      "\n",
      "  This may not be accurate due to some parameters are only used in language bindings but\n",
      "  passed down to XGBoost core.  Or some parameters are not used but slip through this\n",
      "  verification. Please open an issue if you find above cases.\n",
      "\n",
      "\n",
      "\n",
      " model score : 0.0080 (0.0003) \n",
      "\n"
     ]
    }
   ],
   "source": [
    "model_xgb = xgb.XGBRegressor(colsample_bytree=0.4, gamma=0.0, \n",
    "                             learning_rate=0.05, max_depth=3, \n",
    "                             min_child_weight=1.7817, n_estimators=2200,\n",
    "                             reg_alpha=0.4640, reg_lambda=0.8571,\n",
    "                             subsample=0.5213, silent=1,\n",
    "                             random_state =7, nthread = -1)\n",
    "score=rmlse_cv(model_xgb)\n",
    "print('\\n model score : {:0>.4f} ({:0>.4f}) \\n'.format(score.mean(),score.std()))"
   ]
  },
  {
   "cell_type": "code",
   "execution_count": 92,
   "metadata": {
    "ExecuteTime": {
     "end_time": "2021-12-28T09:19:50.364701Z",
     "start_time": "2021-12-28T09:19:48.713607Z"
    }
   },
   "outputs": [
    {
     "name": "stderr",
     "output_type": "stream",
     "text": [
      "D:\\ProgramData\\Anaconda3\\lib\\site-packages\\sklearn\\utils\\validation.py:578: DataConversionWarning: A column-vector y was passed when a 1d array was expected. Please change the shape of y to (n_samples, ), for example using ravel().\n",
      "  y = column_or_1d(y, warn=True)\n",
      "D:\\ProgramData\\Anaconda3\\lib\\site-packages\\sklearn\\utils\\validation.py:578: DataConversionWarning: A column-vector y was passed when a 1d array was expected. Please change the shape of y to (n_samples, ), for example using ravel().\n",
      "  y = column_or_1d(y, warn=True)\n",
      "D:\\ProgramData\\Anaconda3\\lib\\site-packages\\sklearn\\utils\\validation.py:578: DataConversionWarning: A column-vector y was passed when a 1d array was expected. Please change the shape of y to (n_samples, ), for example using ravel().\n",
      "  y = column_or_1d(y, warn=True)\n",
      "D:\\ProgramData\\Anaconda3\\lib\\site-packages\\sklearn\\utils\\validation.py:578: DataConversionWarning: A column-vector y was passed when a 1d array was expected. Please change the shape of y to (n_samples, ), for example using ravel().\n",
      "  y = column_or_1d(y, warn=True)\n",
      "D:\\ProgramData\\Anaconda3\\lib\\site-packages\\sklearn\\utils\\validation.py:578: DataConversionWarning: A column-vector y was passed when a 1d array was expected. Please change the shape of y to (n_samples, ), for example using ravel().\n",
      "  y = column_or_1d(y, warn=True)\n"
     ]
    },
    {
     "name": "stdout",
     "output_type": "stream",
     "text": [
      "\n",
      " model score : 0.3277 (0.0043) \n",
      "\n"
     ]
    }
   ],
   "source": [
    "model_lgb = lgb.LGBMRegressor(objective='regression',num_leaves=5,\n",
    "                              learning_rate=0.05, n_estimators=720,\n",
    "                              max_bin = 55, bagging_fraction = 0.8,\n",
    "                              bagging_freq = 5, feature_fraction = 0.2319,\n",
    "                              feature_fraction_seed=9, bagging_seed=9,\n",
    "                              min_data_in_leaf =6, min_sum_hessian_in_leaf = 11)\n",
    "score=rmlse_cv(model_lgb)\n",
    "print('\\n model score : {:0>.4f} ({:0>.4f}) \\n'.format(score.mean(),score.std()))"
   ]
  },
  {
   "cell_type": "code",
   "execution_count": 93,
   "metadata": {
    "ExecuteTime": {
     "end_time": "2021-12-28T09:19:58.289154Z",
     "start_time": "2021-12-28T09:19:56.742066Z"
    }
   },
   "outputs": [
    {
     "name": "stderr",
     "output_type": "stream",
     "text": [
      "D:\\ProgramData\\Anaconda3\\lib\\site-packages\\sklearn\\utils\\validation.py:578: DataConversionWarning: A column-vector y was passed when a 1d array was expected. Please change the shape of y to (n_samples, ), for example using ravel().\n",
      "  y = column_or_1d(y, warn=True)\n",
      "D:\\ProgramData\\Anaconda3\\lib\\site-packages\\sklearn\\utils\\validation.py:578: DataConversionWarning: A column-vector y was passed when a 1d array was expected. Please change the shape of y to (n_samples, ), for example using ravel().\n",
      "  y = column_or_1d(y, warn=True)\n",
      "D:\\ProgramData\\Anaconda3\\lib\\site-packages\\sklearn\\utils\\validation.py:578: DataConversionWarning: A column-vector y was passed when a 1d array was expected. Please change the shape of y to (n_samples, ), for example using ravel().\n",
      "  y = column_or_1d(y, warn=True)\n",
      "D:\\ProgramData\\Anaconda3\\lib\\site-packages\\sklearn\\utils\\validation.py:578: DataConversionWarning: A column-vector y was passed when a 1d array was expected. Please change the shape of y to (n_samples, ), for example using ravel().\n",
      "  y = column_or_1d(y, warn=True)\n",
      "D:\\ProgramData\\Anaconda3\\lib\\site-packages\\sklearn\\utils\\validation.py:578: DataConversionWarning: A column-vector y was passed when a 1d array was expected. Please change the shape of y to (n_samples, ), for example using ravel().\n",
      "  y = column_or_1d(y, warn=True)\n"
     ]
    },
    {
     "name": "stdout",
     "output_type": "stream",
     "text": [
      "\n",
      " model score : 0.0783 (0.0016) \n",
      "\n"
     ]
    }
   ],
   "source": [
    "model_lgb = lgb.LGBMRegressor(objective='regression',num_leaves=5,\n",
    "                              learning_rate=0.05, n_estimators=720,\n",
    "                              max_bin = 55, bagging_fraction = 0.8,\n",
    "                              bagging_freq = 5, feature_fraction = 0.2319,\n",
    "                              feature_fraction_seed=9, bagging_seed=9,\n",
    "                              min_data_in_leaf =6, min_sum_hessian_in_leaf = 11)\n",
    "score=rmlse_cv2(model_lgb)\n",
    "print('\\n model score : {:0>.4f} ({:0>.4f}) \\n'.format(score.mean(),score.std()))"
   ]
  },
  {
   "cell_type": "code",
   "execution_count": 95,
   "metadata": {
    "ExecuteTime": {
     "end_time": "2021-12-28T09:21:20.831876Z",
     "start_time": "2021-12-28T09:21:19.029773Z"
    },
    "collapsed": true
   },
   "outputs": [],
   "source": [
    "df_x4=pd.DataFrame(x4)\n",
    "df_x4.to_csv(r'F:\\study\\ml\\HonyiLee2020\\hw1\\data\\wx_x4_cxv.csv')"
   ]
  },
  {
   "cell_type": "code",
   "execution_count": 106,
   "metadata": {
    "ExecuteTime": {
     "end_time": "2021-12-28T09:32:00.363455Z",
     "start_time": "2021-12-28T09:32:00.350454Z"
    }
   },
   "outputs": [
    {
     "data": {
      "text/plain": [
       "array([-0.76291635, -0.57838438, -1.19342538, -1.62765179, -1.62765179,\n",
       "       -0.86150315,  0.45060454,  1.20094923,  1.80312261, -0.23123436])"
      ]
     },
     "execution_count": 106,
     "metadata": {},
     "output_type": "execute_result"
    }
   ],
   "source": [
    "x4[-5,81:91]"
   ]
  },
  {
   "cell_type": "code",
   "execution_count": 107,
   "metadata": {
    "ExecuteTime": {
     "end_time": "2021-12-28T09:32:02.251563Z",
     "start_time": "2021-12-28T09:32:02.238562Z"
    }
   },
   "outputs": [
    {
     "data": {
      "text/plain": [
       "array([-0.57838438, -1.19342538, -1.62765179, -1.62765179, -0.86150315,\n",
       "        0.45060454,  1.20094923,  1.80312261,  1.20094923, -0.23123436])"
      ]
     },
     "execution_count": 107,
     "metadata": {},
     "output_type": "execute_result"
    }
   ],
   "source": [
    "x4[-4,81:91]"
   ]
  },
  {
   "cell_type": "code",
   "execution_count": 108,
   "metadata": {
    "ExecuteTime": {
     "end_time": "2021-12-28T09:32:14.000235Z",
     "start_time": "2021-12-28T09:32:13.991234Z"
    }
   },
   "outputs": [
    {
     "data": {
      "text/plain": [
       "array([-1.19342538, -1.62765179, -1.62765179, -0.86150315,  0.45060454,\n",
       "        1.20094923,  1.80312261,  1.20094923,  0.69570662, -0.23123436])"
      ]
     },
     "execution_count": 108,
     "metadata": {},
     "output_type": "execute_result"
    }
   ],
   "source": [
    "x4[-3,81:91]"
   ]
  },
  {
   "cell_type": "code",
   "execution_count": 103,
   "metadata": {
    "ExecuteTime": {
     "end_time": "2021-12-28T09:29:17.884161Z",
     "start_time": "2021-12-28T09:29:17.871161Z"
    }
   },
   "outputs": [
    {
     "data": {
      "text/plain": [
       "array([-1.62765179, -1.62765179, -0.86150315,  0.45060454,  1.20094923,\n",
       "        1.80312261,  1.20094923,  0.69570662, -0.02145878, -0.23123436,\n",
       "       -0.23123436, -0.23123436, -0.23123436, -0.23123436])"
      ]
     },
     "execution_count": 103,
     "metadata": {},
     "output_type": "execute_result"
    }
   ],
   "source": [
    "x4[-2,81:95]"
   ]
  },
  {
   "cell_type": "code",
   "execution_count": 105,
   "metadata": {
    "ExecuteTime": {
     "end_time": "2021-12-28T09:30:05.257871Z",
     "start_time": "2021-12-28T09:30:05.246870Z"
    }
   },
   "outputs": [
    {
     "data": {
      "text/plain": [
       "array([-1.62765179, -0.86150315,  0.45060454,  1.20094923,  1.80312261,\n",
       "        1.20094923,  0.69570662, -0.02145878,  0.45060454, -0.23123436,\n",
       "       -0.23123436, -0.23123436, -0.23123436, -0.23123436])"
      ]
     },
     "execution_count": 105,
     "metadata": {},
     "output_type": "execute_result"
    }
   ],
   "source": [
    "x4[-1,81:95]"
   ]
  },
  {
   "cell_type": "code",
   "execution_count": 96,
   "metadata": {
    "ExecuteTime": {
     "end_time": "2021-12-28T09:24:00.135987Z",
     "start_time": "2021-12-28T09:24:00.125987Z"
    }
   },
   "outputs": [
    {
     "data": {
      "text/plain": [
       "array([[ 1.20094923],\n",
       "       [ 0.69570662],\n",
       "       [-0.02145878],\n",
       "       [ 0.45060454],\n",
       "       [ 0.75475896]])"
      ]
     },
     "execution_count": 96,
     "metadata": {},
     "output_type": "execute_result"
    }
   ],
   "source": [
    "y4[-5:]"
   ]
  },
  {
   "cell_type": "code",
   "execution_count": null,
   "metadata": {
    "collapsed": true
   },
   "outputs": [],
   "source": []
  }
 ],
 "metadata": {
  "kernelspec": {
   "display_name": "Python 3",
   "language": "python",
   "name": "python3"
  },
  "language_info": {
   "codemirror_mode": {
    "name": "ipython",
    "version": 3
   },
   "file_extension": ".py",
   "mimetype": "text/x-python",
   "name": "python",
   "nbconvert_exporter": "python",
   "pygments_lexer": "ipython3",
   "version": "3.6.3"
  }
 },
 "nbformat": 4,
 "nbformat_minor": 2
}
