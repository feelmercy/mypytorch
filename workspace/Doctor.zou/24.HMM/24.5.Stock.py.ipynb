{
 "cells": [
  {
   "cell_type": "code",
   "execution_count": 17,
   "metadata": {
    "ExecuteTime": {
     "end_time": "2020-12-10T03:27:40.160148Z",
     "start_time": "2020-12-10T03:27:39.777126Z"
    }
   },
   "outputs": [
    {
     "name": "stdout",
     "output_type": "stream",
     "text": [
      "Using matplotlib backend: Qt5Agg\n"
     ]
    }
   ],
   "source": [
    "import numpy as np\n",
    "from hmmlearn import hmm\n",
    "import matplotlib.pyplot as plt\n",
    "import matplotlib as mpl\n",
    "from sklearn.metrics.pairwise import pairwise_distances_argmin\n",
    "import warnings\n",
    "%matplotlib"
   ]
  },
  {
   "cell_type": "code",
   "execution_count": 18,
   "metadata": {
    "ExecuteTime": {
     "end_time": "2020-12-10T03:27:41.350216Z",
     "start_time": "2020-12-10T03:27:41.342216Z"
    },
    "collapsed": true
   },
   "outputs": [],
   "source": [
    "def expand(a,b):\n",
    "    d=(b-a)*0.05\n",
    "    return a-d,b+d"
   ]
  },
  {
   "cell_type": "code",
   "execution_count": 19,
   "metadata": {
    "ExecuteTime": {
     "end_time": "2020-12-10T03:27:41.930250Z",
     "start_time": "2020-12-10T03:27:41.898248Z"
    }
   },
   "outputs": [
    {
     "data": {
      "text/plain": [
       "array([[1.01500000e+01, 1.15147943e+08, 2.43689088e+09, 1.02900000e+01,\n",
       "        9.82000000e+00],\n",
       "       [9.91000000e+00, 9.67825750e+07, 2.03417408e+09, 1.01200000e+01,\n",
       "        9.88000000e+00],\n",
       "       [9.63000000e+00, 8.52360720e+07, 1.76180096e+09, 9.97000000e+00,\n",
       "        9.53000000e+00],\n",
       "       ...,\n",
       "       [1.82900000e+01, 3.56315260e+07, 6.50177344e+08, 1.84000000e+01,\n",
       "        1.79200000e+01],\n",
       "       [1.81900000e+01, 1.83124240e+07, 3.33790688e+08, 1.83500000e+01,\n",
       "        1.81300000e+01],\n",
       "       [1.80200000e+01, 1.77865250e+07, 3.21768768e+08, 1.83000000e+01,\n",
       "        1.79300000e+01]])"
      ]
     },
     "execution_count": 19,
     "metadata": {},
     "output_type": "execute_result"
    }
   ],
   "source": [
    "## # 0日期  1开盘  2最高  3最低  4收盘  5成交量  6成交额\n",
    "x=np.loadtxt(r'F:\\study\\ml\\DoctorZou\\24HMMII\\24.HMM\\24.SH600000.txt',\n",
    "            delimiter='\\t',skiprows=3,usecols=(4,5,6,2,3),encoding='gbk')\n",
    "\n",
    "np.set_printoptions(suppress=True)\n",
    "x"
   ]
  },
  {
   "cell_type": "code",
   "execution_count": 20,
   "metadata": {
    "ExecuteTime": {
     "end_time": "2020-12-10T03:27:42.388276Z",
     "start_time": "2020-12-10T03:27:42.379275Z"
    },
    "collapsed": true
   },
   "outputs": [],
   "source": [
    "close_price=x[:,0] #收盘\n",
    "volumn=x[:,1]  #成交量\n",
    "amount=x[:,2]  #成交额\n",
    "amplitude_price=x[:,3]-x[:,4] #最高2 -最低3 每天的最高价与最低价的差\n",
    "diff_price=np.diff(close_price) #涨跌值\n",
    "volumn=volumn[1:]  #因为diff price 少了一行,所以其他的都从第二行取\n",
    "amount=amount[1:]\n",
    "amplitude_price=amplitude_price[1:]\n",
    "sample=np.column_stack((diff_price,volumn,amount,amplitude_price))"
   ]
  },
  {
   "cell_type": "code",
   "execution_count": 21,
   "metadata": {
    "ExecuteTime": {
     "end_time": "2020-12-10T03:27:43.081315Z",
     "start_time": "2020-12-10T03:27:42.912306Z"
    }
   },
   "outputs": [
    {
     "data": {
      "text/plain": [
       "GaussianHMM(algorithm='viterbi', covariance_type='full', covars_prior=0.01,\n",
       "      covars_weight=1, init_params='stmc', means_prior=0, means_weight=0,\n",
       "      min_covar=0.001, n_components=5, n_iter=10, params='stmc',\n",
       "      random_state=None, startprob_prior=1.0, tol=0.01, transmat_prior=1.0,\n",
       "      verbose=False)"
      ]
     },
     "execution_count": 21,
     "metadata": {},
     "output_type": "execute_result"
    }
   ],
   "source": [
    "n=5\n",
    "model=hmm.GaussianHMM(n_components=n,covariance_type='full')\n",
    "model.fit(sample)"
   ]
  },
  {
   "cell_type": "code",
   "execution_count": 22,
   "metadata": {
    "ExecuteTime": {
     "end_time": "2020-12-10T03:27:43.445336Z",
     "start_time": "2020-12-10T03:27:43.379332Z"
    }
   },
   "outputs": [
    {
     "data": {
      "text/plain": [
       "array([[0.        , 0.        , 0.        , 0.        , 1.        ],\n",
       "       [0.01113344, 0.000457  , 0.        , 0.00002736, 0.9883822 ],\n",
       "       [0.4314479 , 0.00074667, 0.        , 0.00003994, 0.56776549],\n",
       "       ...,\n",
       "       [0.98656417, 0.00000004, 0.        , 0.        , 0.01343579],\n",
       "       [0.99860137, 0.0000007 , 0.00067077, 0.        , 0.00072715],\n",
       "       [0.99308993, 0.00006616, 0.00000861, 0.00000043, 0.00683488]])"
      ]
     },
     "execution_count": 22,
     "metadata": {},
     "output_type": "execute_result"
    }
   ],
   "source": [
    "y=model.predict_proba(sample)\n",
    "np.set_printoptions(suppress=True)\n",
    "y"
   ]
  },
  {
   "cell_type": "code",
   "execution_count": 29,
   "metadata": {
    "ExecuteTime": {
     "end_time": "2020-12-10T07:26:26.360560Z",
     "start_time": "2020-12-10T07:26:25.901534Z"
    }
   },
   "outputs": [],
   "source": [
    "t=np.arange(len(diff_price))\n",
    "plt.figure(figsize=(8,6),facecolor='w')\n",
    "plt.subplot(421)\n",
    "plt.plot(t,diff_price,'r-')\n",
    "plt.grid(True)\n",
    "plt.title('amplitude_price')\n",
    "plt.subplot(422)\n",
    "plt.plot(t,volumn,'g-')\n",
    "plt.grid(True)\n",
    "plt.title('Volumn')\n",
    "\n",
    "clrs=plt.cm.terrain(np.linspace(0,0.8,n))\n",
    "plt.subplot(423)\n",
    "for i,clr in enumerate(clrs):\n",
    "    plt.plot(t,y[:,i],'-',color=clr,alpha=0.7)\n",
    "plt.title('all group')\n",
    "plt.grid(True)\n",
    "for i,clr in enumerate(clrs):\n",
    "    axes=plt.subplot(4,2,i+4)\n",
    "    plt.plot(t,y[:,i],'-',color=clr)\n",
    "    plt.title('group : %d' % (i+1))\n",
    "    plt.grid(True)\n",
    "plt.suptitle('stock : GauessianHMM',fontsize=15)\n",
    "plt.tight_layout()\n",
    "plt.subplots_adjust(top=0.9)\n",
    "plt.show()"
   ]
  },
  {
   "cell_type": "code",
   "execution_count": 30,
   "metadata": {
    "ExecuteTime": {
     "end_time": "2020-12-10T07:51:53.418903Z",
     "start_time": "2020-12-10T07:51:53.411902Z"
    }
   },
   "outputs": [
    {
     "data": {
      "text/plain": [
       "array([[0.2  , 0.2  , 0.6  , 1.   ],\n",
       "       [0.   , 0.7  , 0.7  , 1.   ],\n",
       "       [0.6  , 0.92 , 0.52 , 1.   ],\n",
       "       [0.8  , 0.744, 0.492, 1.   ],\n",
       "       [0.6  , 0.488, 0.464, 1.   ]])"
      ]
     },
     "execution_count": 30,
     "metadata": {},
     "output_type": "execute_result"
    }
   ],
   "source": [
    "plt.cm.terrain(np.linspace(0,0.8,n))"
   ]
  },
  {
   "cell_type": "code",
   "execution_count": 31,
   "metadata": {
    "ExecuteTime": {
     "end_time": "2020-12-10T07:52:02.806440Z",
     "start_time": "2020-12-10T07:52:02.799439Z"
    }
   },
   "outputs": [
    {
     "data": {
      "text/plain": [
       "array([0. , 0.2, 0.4, 0.6, 0.8])"
      ]
     },
     "execution_count": 31,
     "metadata": {},
     "output_type": "execute_result"
    }
   ],
   "source": [
    "np.linspace(0,0.8,n)"
   ]
  },
  {
   "cell_type": "code",
   "execution_count": null,
   "metadata": {
    "collapsed": true
   },
   "outputs": [],
   "source": []
  }
 ],
 "metadata": {
  "kernelspec": {
   "display_name": "Python 3",
   "language": "python",
   "name": "python3"
  },
  "language_info": {
   "codemirror_mode": {
    "name": "ipython",
    "version": 3
   },
   "file_extension": ".py",
   "mimetype": "text/x-python",
   "name": "python",
   "nbconvert_exporter": "python",
   "pygments_lexer": "ipython3",
   "version": "3.6.3"
  }
 },
 "nbformat": 4,
 "nbformat_minor": 2
}
