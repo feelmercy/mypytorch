{
 "cells": [
  {
   "cell_type": "code",
   "execution_count": 1,
   "metadata": {
    "ExecuteTime": {
     "end_time": "2020-12-10T05:41:26.918253Z",
     "start_time": "2020-12-10T05:41:26.519230Z"
    }
   },
   "outputs": [
    {
     "name": "stdout",
     "output_type": "stream",
     "text": [
      "Using matplotlib backend: Qt5Agg\n"
     ]
    }
   ],
   "source": [
    "import numpy as np\n",
    "import matplotlib.pyplot as plt\n",
    "import matplotlib.colors as colors\n",
    "import matplotlib.cbook as cbook\n",
    "%matplotlib auto"
   ]
  },
  {
   "cell_type": "code",
   "execution_count": 3,
   "metadata": {
    "ExecuteTime": {
     "end_time": "2020-12-10T05:43:58.303911Z",
     "start_time": "2020-12-10T05:43:58.298911Z"
    }
   },
   "outputs": [],
   "source": [
    "N=100\n",
    "X,Y = np.mgrid[-3:3:complex(0,N),-2:2:complex(0,N)]"
   ]
  },
  {
   "cell_type": "code",
   "execution_count": 12,
   "metadata": {
    "ExecuteTime": {
     "end_time": "2020-12-10T05:55:18.055791Z",
     "start_time": "2020-12-10T05:55:18.042790Z"
    },
    "collapsed": true
   },
   "outputs": [],
   "source": [
    "Z1=np.exp(-(X)**2-(Y)**2)\n",
    "Z2=np.exp(-(X*10)**2 - (Y*10)**2)\n",
    "Z=Z1+50*Z2"
   ]
  },
  {
   "cell_type": "code",
   "execution_count": 17,
   "metadata": {
    "ExecuteTime": {
     "end_time": "2020-12-10T06:56:46.860779Z",
     "start_time": "2020-12-10T06:56:46.312747Z"
    }
   },
   "outputs": [],
   "source": [
    "plt.subplot(211)\n",
    "pcm = plt.pcolor(X,\n",
    "                 Y,\n",
    "                 Z,\n",
    "                 norm=colors.LogNorm(vmin=Z.min(), vmax=Z.max()),\n",
    "                 cmap='PuBu_r')\n",
    "plt.colorbar(pcm, extend='max')\n",
    "plt.subplot(212)\n",
    "pcm = plt.pcolor(X,\n",
    "                 Y,\n",
    "                 Z,\n",
    "                 cmap='PuBu_r')\n",
    "plt.colorbar(pcm, extend='max')\n",
    "plt.show()"
   ]
  },
  {
   "cell_type": "code",
   "execution_count": null,
   "metadata": {
    "collapsed": true
   },
   "outputs": [],
   "source": []
  }
 ],
 "metadata": {
  "kernelspec": {
   "display_name": "Python 3",
   "language": "python",
   "name": "python3"
  },
  "language_info": {
   "codemirror_mode": {
    "name": "ipython",
    "version": 3
   },
   "file_extension": ".py",
   "mimetype": "text/x-python",
   "name": "python",
   "nbconvert_exporter": "python",
   "pygments_lexer": "ipython3",
   "version": "3.6.3"
  }
 },
 "nbformat": 4,
 "nbformat_minor": 2
}
