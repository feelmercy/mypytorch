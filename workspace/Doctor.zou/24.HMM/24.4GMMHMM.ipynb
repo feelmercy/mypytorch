{
 "cells": [
  {
   "cell_type": "code",
   "execution_count": 30,
   "metadata": {
    "ExecuteTime": {
     "end_time": "2020-12-09T06:36:12.209363Z",
     "start_time": "2020-12-09T06:36:12.196362Z"
    }
   },
   "outputs": [],
   "source": [
    "import numpy as np\n",
    "from hmmlearn import hmm\n",
    "import matplotlib.pyplot as plt\n",
    "import matplotlib as mpl\n",
    "from sklearn.metrics.pairwise import pairwise_distances_argmin\n",
    "import warnings"
   ]
  },
  {
   "cell_type": "code",
   "execution_count": 31,
   "metadata": {
    "ExecuteTime": {
     "end_time": "2020-12-09T06:36:12.948405Z",
     "start_time": "2020-12-09T06:36:12.939405Z"
    },
    "collapsed": true
   },
   "outputs": [],
   "source": [
    "def expand(a,b):\n",
    "    d=(b-a) * 0.05\n",
    "    return a-d,b+d"
   ]
  },
  {
   "cell_type": "code",
   "execution_count": 32,
   "metadata": {
    "ExecuteTime": {
     "end_time": "2020-12-09T06:36:13.484436Z",
     "start_time": "2020-12-09T06:36:13.477436Z"
    }
   },
   "outputs": [
    {
     "name": "stdout",
     "output_type": "stream",
     "text": [
      "init pi :  [ 0.19356424  0.25224431  0.21259213  0.19217803  0.14942128]\n"
     ]
    }
   ],
   "source": [
    "np.random.seed(0)\n",
    "n=5\n",
    "n_samples=1000\n",
    "pi=np.random.rand(n)\n",
    "pi /=pi.sum()\n",
    "print('init pi : ',pi)"
   ]
  },
  {
   "cell_type": "code",
   "execution_count": 33,
   "metadata": {
    "ExecuteTime": {
     "end_time": "2020-12-09T06:36:14.042468Z",
     "start_time": "2020-12-09T06:36:14.023467Z"
    }
   },
   "outputs": [],
   "source": [
    "A=np.random.rand(n,n)\n",
    "mask=np.zeros((n,n),dtype=bool)\n",
    "mask[0][1]=mask[0][4]=True\n",
    "mask[1][0]=mask[1][2]=True\n",
    "mask[2][1]=mask[2][3]=True\n",
    "mask[3][2]=mask[3][4]=True\n",
    "mask[4][0]=mask[4][3]=True\n"
   ]
  },
  {
   "cell_type": "code",
   "execution_count": 34,
   "metadata": {
    "ExecuteTime": {
     "end_time": "2020-12-09T06:36:14.562498Z",
     "start_time": "2020-12-09T06:36:14.557498Z"
    }
   },
   "outputs": [],
   "source": [
    "A[mask]=0"
   ]
  },
  {
   "cell_type": "code",
   "execution_count": 42,
   "metadata": {
    "ExecuteTime": {
     "end_time": "2020-12-09T06:44:08.625613Z",
     "start_time": "2020-12-09T06:44:08.605612Z"
    }
   },
   "outputs": [
    {
     "name": "stdout",
     "output_type": "stream",
     "text": [
      "State Transform Matrix: \n",
      " [[ 0.25822029  0.          0.35651955  0.38526017  0.        ]\n",
      " [ 0.          0.34669639  0.          0.6067387   0.04656491]\n",
      " [ 0.04868208  0.          0.46521279  0.          0.48610513]\n",
      " [ 0.3825259   0.31237801  0.          0.30509609  0.        ]\n",
      " [ 0.          0.09539815  0.62865435  0.          0.2759475 ]]\n",
      "State Transform Matrix: \n",
      " [[ 0.25822029  0.          0.35651955  0.38526017  0.        ]\n",
      " [ 0.          0.34669639  0.          0.6067387   0.04656491]\n",
      " [ 0.04868208  0.          0.46521279  0.          0.48610513]\n",
      " [ 0.3825259   0.31237801  0.          0.30509609  0.        ]\n",
      " [ 0.          0.09539815  0.62865435  0.          0.2759475 ]]\n",
      "State Transform Matrix: \n",
      " [[ 0.25822029  0.          0.35651955  0.38526017  0.        ]\n",
      " [ 0.          0.34669639  0.          0.6067387   0.04656491]\n",
      " [ 0.04868208  0.          0.46521279  0.          0.48610513]\n",
      " [ 0.3825259   0.31237801  0.          0.30509609  0.        ]\n",
      " [ 0.          0.09539815  0.62865435  0.          0.2759475 ]]\n",
      "State Transform Matrix: \n",
      " [[ 0.25822029  0.          0.35651955  0.38526017  0.        ]\n",
      " [ 0.          0.34669639  0.          0.6067387   0.04656491]\n",
      " [ 0.04868208  0.          0.46521279  0.          0.48610513]\n",
      " [ 0.3825259   0.31237801  0.          0.30509609  0.        ]\n",
      " [ 0.          0.09539815  0.62865435  0.          0.2759475 ]]\n",
      "State Transform Matrix: \n",
      " [[ 0.25822029  0.          0.35651955  0.38526017  0.        ]\n",
      " [ 0.          0.34669639  0.          0.6067387   0.04656491]\n",
      " [ 0.04868208  0.          0.46521279  0.          0.48610513]\n",
      " [ 0.3825259   0.31237801  0.          0.30509609  0.        ]\n",
      " [ 0.          0.09539815  0.62865435  0.          0.2759475 ]]\n"
     ]
    }
   ],
   "source": [
    "for i in range(n):\n",
    "    A[i]/=A[i].sum()\n",
    "    print('State Transform Matrix: \\n',A)"
   ]
  },
  {
   "cell_type": "code",
   "execution_count": 36,
   "metadata": {
    "ExecuteTime": {
     "end_time": "2020-12-09T06:36:17.203649Z",
     "start_time": "2020-12-09T06:36:17.194648Z"
    }
   },
   "outputs": [],
   "source": [
    "means=np.array(((30,30),(0,50),(-25,30),(-15,0),(15,0)))\n",
    "covars=np.empty((n,2,2))"
   ]
  },
  {
   "cell_type": "code",
   "execution_count": 43,
   "metadata": {
    "ExecuteTime": {
     "end_time": "2020-12-09T06:47:06.076762Z",
     "start_time": "2020-12-09T06:47:06.066762Z"
    }
   },
   "outputs": [
    {
     "name": "stdout",
     "output_type": "stream",
     "text": [
      "covs: [[[ 2.31742335  0.        ]\n",
      "  [ 0.          7.65911699]]\n",
      "\n",
      " [[ 9.45123519  0.        ]\n",
      "  [ 0.          7.50999249]]\n",
      "\n",
      " [[ 3.40403819  0.        ]\n",
      "  [ 0.          4.90548937]]\n",
      "\n",
      " [[ 3.39985117  0.        ]\n",
      "  [ 0.          1.80490261]]\n",
      "\n",
      " [[ 1.71986599  0.        ]\n",
      "  [ 0.          4.64450977]]]\n"
     ]
    }
   ],
   "source": [
    "for i in range(n):\n",
    "    covars[i]=np.diag(np.random.rand(2)+0.001)*10\n",
    "print('covs:',covars)"
   ]
  },
  {
   "cell_type": "code",
   "execution_count": 38,
   "metadata": {
    "ExecuteTime": {
     "end_time": "2020-12-09T06:36:19.784797Z",
     "start_time": "2020-12-09T06:36:19.612787Z"
    }
   },
   "outputs": [],
   "source": [
    "model=hmm.GaussianHMM(n_components=n,covariance_type='full')\n",
    "model.startprob_=pi\n",
    "model.transmat_=A\n",
    "model.means_=means\n",
    "model.covars_=covars\n",
    "sample,labels=model.sample(n_samples,random_state=0)"
   ]
  },
  {
   "cell_type": "code",
   "execution_count": 39,
   "metadata": {
    "ExecuteTime": {
     "end_time": "2020-12-09T06:36:22.730965Z",
     "start_time": "2020-12-09T06:36:22.722965Z"
    }
   },
   "outputs": [
    {
     "data": {
      "text/plain": [
       "array([-24.30917502,  31.84451547])"
      ]
     },
     "execution_count": 39,
     "metadata": {},
     "output_type": "execute_result"
    }
   ],
   "source": [
    "sample[0]"
   ]
  },
  {
   "cell_type": "code",
   "execution_count": 41,
   "metadata": {
    "ExecuteTime": {
     "end_time": "2020-12-09T06:42:16.208183Z",
     "start_time": "2020-12-09T06:42:15.406137Z"
    }
   },
   "outputs": [
    {
     "name": "stdout",
     "output_type": "stream",
     "text": [
      "init prob : [ 1.  0.  0.  0.  0.]\n",
      "Transfor Maxtrix :  [[ 0.47688564  0.48905109  0.03406326  0.          0.        ]\n",
      " [ 0.6294964   0.26978417  0.          0.          0.10071942]\n",
      " [ 0.43333333  0.          0.24444444  0.32222222  0.        ]\n",
      " [ 0.          0.          0.43902439  0.28455285  0.27642276]\n",
      " [ 0.          0.03092784  0.          0.60824742  0.36082474]]\n",
      "Mean :  [[-25.03026589  30.10629378]\n",
      " [ 14.94392893  -0.11255187]\n",
      " [ 30.0639231   30.22329147]\n",
      " [-14.83607421   0.05082308]\n",
      " [ -0.60371631  49.96859881]]\n",
      "covs :  [[[ 0.18351585  0.02577099]\n",
      "  [ 0.02577099  5.45292363]]\n",
      "\n",
      " [[ 7.86488426 -0.16833308]\n",
      "  [-0.16833308  6.31717184]]\n",
      "\n",
      " [[ 2.64868455  0.47269017]\n",
      "  [ 0.47269017  8.5150928 ]]\n",
      "\n",
      " [[ 6.25312678 -0.49577678]\n",
      "  [-0.49577678  6.21899877]]\n",
      "\n",
      " [[ 4.09533483  0.03786587]\n",
      "  [ 0.03786587  4.48396995]]]\n"
     ]
    }
   ],
   "source": [
    "model=hmm.GaussianHMM(n_components=n,covariance_type='full',n_iter=10)\n",
    "model.fit(sample)\n",
    "y=model.predict(sample)\n",
    "np.set_printoptions(suppress=True)\n",
    "print('init prob :',model.startprob_)\n",
    "print('Transfor Maxtrix : ',model.transmat_)\n",
    "print('Mean : ',model.means_)\n",
    "print('covs : ',model.covars_)\n"
   ]
  },
  {
   "cell_type": "code",
   "execution_count": 44,
   "metadata": {
    "ExecuteTime": {
     "end_time": "2020-12-09T06:54:03.450635Z",
     "start_time": "2020-12-09T06:54:03.406632Z"
    }
   },
   "outputs": [
    {
     "data": {
      "text/plain": [
       "array([2, 4, 0, 3, 1], dtype=int64)"
      ]
     },
     "execution_count": 44,
     "metadata": {},
     "output_type": "execute_result"
    }
   ],
   "source": [
    "order =pairwise_distances_argmin(means,model.means_)\n",
    "order"
   ]
  },
  {
   "cell_type": "code",
   "execution_count": 45,
   "metadata": {
    "ExecuteTime": {
     "end_time": "2020-12-09T07:04:53.273802Z",
     "start_time": "2020-12-09T07:04:53.256801Z"
    },
    "collapsed": true
   },
   "outputs": [],
   "source": [
    "pi_hat=model.startprob_[order]\n",
    "A_hat=model.transmat_[order]\n",
    "A_hat=A_hat[:,order]\n",
    "means_hat=model.means_[order]\n",
    "covars_hat=model.covars_[order]\n",
    "change=np.empty((n,n_samples),dtype=np.bool)\n",
    "for i in range(n):\n",
    "    change[i]=y==order[i]\n",
    "for i in range(n):\n",
    "    y[change[i]]==i"
   ]
  },
  {
   "cell_type": "code",
   "execution_count": 46,
   "metadata": {
    "ExecuteTime": {
     "end_time": "2020-12-09T07:05:43.371668Z",
     "start_time": "2020-12-09T07:05:43.361667Z"
    },
    "scrolled": false
   },
   "outputs": [
    {
     "name": "stdout",
     "output_type": "stream",
     "text": [
      "einit prob : [ 0.  0.  1.  0.  0.]\n",
      "eTransfor Maxtrix :  [[ 0.24444444  0.          0.43333333  0.32222222  0.        ]\n",
      " [ 0.          0.36082474  0.          0.60824742  0.03092784]\n",
      " [ 0.03406326  0.          0.47688564  0.          0.48905109]\n",
      " [ 0.43902439  0.27642276  0.          0.28455285  0.        ]\n",
      " [ 0.          0.10071942  0.6294964   0.          0.26978417]]\n",
      "eMean :  [[ 30.0639231   30.22329147]\n",
      " [ -0.60371631  49.96859881]\n",
      " [-25.03026589  30.10629378]\n",
      " [-14.83607421   0.05082308]\n",
      " [ 14.94392893  -0.11255187]]\n",
      "ecovs :  [[[ 2.64868455  0.47269017]\n",
      "  [ 0.47269017  8.5150928 ]]\n",
      "\n",
      " [[ 4.09533483  0.03786587]\n",
      "  [ 0.03786587  4.48396995]]\n",
      "\n",
      " [[ 0.18351585  0.02577099]\n",
      "  [ 0.02577099  5.45292363]]\n",
      "\n",
      " [[ 6.25312678 -0.49577678]\n",
      "  [-0.49577678  6.21899877]]\n",
      "\n",
      " [[ 7.86488426 -0.16833308]\n",
      "  [-0.16833308  6.31717184]]]\n"
     ]
    }
   ],
   "source": [
    "print('einit prob :',pi_hat)\n",
    "print('eTransfor Maxtrix : ',A_hat)\n",
    "print('eMean : ',means_hat)\n",
    "print('ecovs : ',covars_hat)"
   ]
  },
  {
   "cell_type": "code",
   "execution_count": 48,
   "metadata": {
    "ExecuteTime": {
     "end_time": "2020-12-09T07:14:03.865295Z",
     "start_time": "2020-12-09T07:14:01.702171Z"
    }
   },
   "outputs": [
    {
     "name": "stdout",
     "output_type": "stream",
     "text": [
      "Using matplotlib backend: Qt5Agg\n"
     ]
    }
   ],
   "source": [
    "%matplotlib auto"
   ]
  },
  {
   "cell_type": "code",
   "execution_count": 49,
   "metadata": {
    "ExecuteTime": {
     "end_time": "2020-12-09T07:14:32.347924Z",
     "start_time": "2020-12-09T07:14:30.180800Z"
    },
    "collapsed": true
   },
   "outputs": [],
   "source": [
    "plt.scatter(sample[:, 0], sample[:, 1], s=50, c=labels, cmap=plt.cm.Spectral, marker='o',\n",
    "            label=u'观测值', linewidths=0.5, zorder=20)\n",
    "plt.plot(sample[:, 0], sample[:, 1], 'r-', zorder=10)\n",
    "plt.scatter(means[:, 0], means[:, 1], s=100, c=np.random.rand(n), marker='D', label=u'中心', alpha=0.8, zorder=30)\n",
    "x1_min, x1_max = sample[:, 0].min(), sample[:, 0].max()\n",
    "x2_min, x2_max = sample[:, 1].min(), sample[:, 1].max()\n",
    "x1_min, x1_max = expand(x1_min, x1_max)\n",
    "x2_min, x2_max = expand(x2_min, x2_max)\n",
    "plt.xlim((x1_min, x1_max))\n",
    "plt.ylim((x2_min, x2_max))\n",
    "plt.legend(loc='upper left')\n",
    "plt.grid(True)\n",
    "plt.show()"
   ]
  },
  {
   "cell_type": "code",
   "execution_count": null,
   "metadata": {
    "collapsed": true
   },
   "outputs": [],
   "source": []
  }
 ],
 "metadata": {
  "kernelspec": {
   "display_name": "Python 3",
   "language": "python",
   "name": "python3"
  },
  "language_info": {
   "codemirror_mode": {
    "name": "ipython",
    "version": 3
   },
   "file_extension": ".py",
   "mimetype": "text/x-python",
   "name": "python",
   "nbconvert_exporter": "python",
   "pygments_lexer": "ipython3",
   "version": "3.6.3"
  }
 },
 "nbformat": 4,
 "nbformat_minor": 2
}
