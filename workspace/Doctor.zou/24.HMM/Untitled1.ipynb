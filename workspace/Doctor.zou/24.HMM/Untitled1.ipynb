{
 "cells": [
  {
   "cell_type": "code",
   "execution_count": 13,
   "metadata": {
    "ExecuteTime": {
     "end_time": "2020-12-14T07:48:02.576254Z",
     "start_time": "2020-12-14T07:48:02.545252Z"
    }
   },
   "outputs": [
    {
     "name": "stdout",
     "output_type": "stream",
     "text": [
      "Using matplotlib backend: Qt5Agg\n"
     ]
    }
   ],
   "source": [
    "import numpy as np\n",
    "from hmmlearn import hmm\n",
    "import matplotlib.pyplot as plt\n",
    "import matplotlib as mpl\n",
    "from sklearn.metrics.pairwise import pairwise_distances_argmin\n",
    "import warnings\n",
    "from pprint import pprint\n",
    "%matplotlib auto"
   ]
  },
  {
   "cell_type": "code",
   "execution_count": 3,
   "metadata": {
    "ExecuteTime": {
     "end_time": "2020-12-14T07:32:25.110634Z",
     "start_time": "2020-12-14T07:32:25.101634Z"
    },
    "collapsed": true
   },
   "outputs": [],
   "source": [
    "def expand(a, b):\n",
    "    d = (b - a) * 0.05\n",
    "    return a - d, b + d"
   ]
  },
  {
   "cell_type": "code",
   "execution_count": 5,
   "metadata": {
    "ExecuteTime": {
     "end_time": "2020-12-14T07:35:05.374801Z",
     "start_time": "2020-12-14T07:35:05.340799Z"
    }
   },
   "outputs": [
    {
     "name": "stdout",
     "output_type": "stream",
     "text": [
      "init proba:  [0.24327063 0.05518345 0.1349723  0.3090291  0.25754452]\n"
     ]
    }
   ],
   "source": [
    "np.random.seed(0)\n",
    "n=5\n",
    "n_samples=1000\n",
    "pi=np.random.randn(n)\n",
    "pi/=sum(pi)\n",
    "print('init proba: ',pi)"
   ]
  },
  {
   "cell_type": "code",
   "execution_count": 6,
   "metadata": {
    "ExecuteTime": {
     "end_time": "2020-12-14T07:37:34.909354Z",
     "start_time": "2020-12-14T07:37:34.888352Z"
    },
    "collapsed": true
   },
   "outputs": [],
   "source": [
    "A=np.random.rand(n,n)\n",
    "mask=np.zeros((n,n),dtype=np.bool)\n",
    "mask[0][1] = mask[0][4] = True\n",
    "mask[1][0] = mask[1][2] = True\n",
    "mask[2][1] = mask[2][3] = True\n",
    "mask[3][2] = mask[3][4] = True\n",
    "mask[4][0] = mask[4][3] = True"
   ]
  },
  {
   "cell_type": "code",
   "execution_count": 26,
   "metadata": {
    "ExecuteTime": {
     "end_time": "2020-12-14T09:29:45.904344Z",
     "start_time": "2020-12-14T09:29:45.895344Z"
    },
    "collapsed": true
   },
   "outputs": [],
   "source": [
    "A[mask]=0\n",
    "for i in range(n):\n",
    "    A[i] /=A[i].sum()"
   ]
  },
  {
   "cell_type": "code",
   "execution_count": 27,
   "metadata": {
    "ExecuteTime": {
     "end_time": "2020-12-14T09:29:46.483378Z",
     "start_time": "2020-12-14T09:29:46.475377Z"
    }
   },
   "outputs": [
    {
     "name": "stdout",
     "output_type": "stream",
     "text": [
      "array([[0.24518927, 0.        , 0.53996042, 0.21485031, 0.        ],\n",
      "       [0.        , 0.78220435, 0.        , 0.09781753, 0.11997812],\n",
      "       [0.01137787, 0.        , 0.43790636, 0.        , 0.55071577],\n",
      "       [0.57955719, 0.3346691 , 0.        , 0.08577371, 0.        ],\n",
      "       [0.        , 0.54571298, 0.30145948, 0.        , 0.15282754]])\n"
     ]
    }
   ],
   "source": [
    "pprint(A)"
   ]
  },
  {
   "cell_type": "code",
   "execution_count": 28,
   "metadata": {
    "ExecuteTime": {
     "end_time": "2020-12-14T09:29:46.959405Z",
     "start_time": "2020-12-14T09:29:46.949404Z"
    }
   },
   "outputs": [
    {
     "name": "stdout",
     "output_type": "stream",
     "text": [
      "array([[ 30,  30],\n",
      "       [  0,  50],\n",
      "       [-25,  30],\n",
      "       [-15,   0],\n",
      "       [ 15,   0]])\n"
     ]
    }
   ],
   "source": [
    "means=np.array(((30,30),(0,50),(-25,30),(-15,0),(15,0)))\n",
    "pprint(means)"
   ]
  },
  {
   "cell_type": "code",
   "execution_count": 29,
   "metadata": {
    "ExecuteTime": {
     "end_time": "2020-12-14T09:29:47.454433Z",
     "start_time": "2020-12-14T09:29:47.441432Z"
    }
   },
   "outputs": [
    {
     "data": {
      "text/plain": [
       "array([4.39601513, 9.89373838])"
      ]
     },
     "execution_count": 29,
     "metadata": {},
     "output_type": "execute_result"
    }
   ],
   "source": [
    "(np.random.rand(2)+0.001)*10"
   ]
  },
  {
   "cell_type": "code",
   "execution_count": 30,
   "metadata": {
    "ExecuteTime": {
     "end_time": "2020-12-14T09:29:48.328483Z",
     "start_time": "2020-12-14T09:29:48.314482Z"
    }
   },
   "outputs": [
    {
     "name": "stdout",
     "output_type": "stream",
     "text": [
      "[[[1.03044811 0.        ]\n",
      "  [0.         2.09876756]]\n",
      "\n",
      " [[1.62309518 0.        ]\n",
      "  [0.         6.54108325]]\n",
      "\n",
      " [[2.54291603 0.        ]\n",
      "  [0.         4.67310773]]\n",
      "\n",
      " [[2.45425592 0.        ]\n",
      "  [0.         1.59969584]]\n",
      "\n",
      " [[1.11375141 0.        ]\n",
      "  [0.         6.57329589]]]\n"
     ]
    }
   ],
   "source": [
    "covars=np.empty((n,2,2))\n",
    "for i in range(n):\n",
    "    covars[i]=np.diag(np.random.rand(2)+0.001)*10\n",
    "print(covars)    "
   ]
  },
  {
   "cell_type": "code",
   "execution_count": 32,
   "metadata": {
    "ExecuteTime": {
     "end_time": "2020-12-14T09:30:03.114329Z",
     "start_time": "2020-12-14T09:30:02.667303Z"
    }
   },
   "outputs": [],
   "source": [
    "model=hmm.GaussianHMM(n_components=n,covariance_type='full')\n",
    "model.startprob_=pi\n",
    "model.transmat_=A\n",
    "model.means_=means\n",
    "model.covars_=covars\n",
    "sample,labels=model.sample(n_samples=n_samples,random_state=0)"
   ]
  },
  {
   "cell_type": "code",
   "execution_count": 33,
   "metadata": {
    "ExecuteTime": {
     "end_time": "2020-12-14T09:34:15.080740Z",
     "start_time": "2020-12-14T09:34:14.579712Z"
    }
   },
   "outputs": [
    {
     "name": "stdout",
     "output_type": "stream",
     "text": [
      "eval proba: \n",
      " [0. 0. 0. 0. 1.]\n",
      "eval transmat : \n",
      " [[0.75686275 0.14705882 0.         0.         0.09607843]\n",
      " [0.54871795 0.15897436 0.29230769 0.         0.        ]\n",
      " [0.         0.51724138 0.47126437 0.01149425 0.        ]\n",
      " [0.         0.         0.61403509 0.21052632 0.1754386 ]\n",
      " [0.26984127 0.         0.         0.68253968 0.04761905]]\n",
      "eval means :\n",
      " [[ -0.09542759  50.07669686]\n",
      " [ 15.10633317  -0.03600881]\n",
      " [-25.14629099  30.0068524 ]\n",
      " [ 29.88355298  30.30651981]\n",
      " [-15.10499204  -0.29595076]]\n",
      "eval covars : \n",
      " [[[ 1.55026253  0.17411848]\n",
      "  [ 0.17411848  6.2190854 ]]\n",
      "\n",
      " [[ 1.04296652 -0.19284186]\n",
      "  [-0.19284186  6.14173831]]\n",
      "\n",
      " [[ 2.28182722 -0.27008127]\n",
      "  [-0.27008127  3.45758667]]\n",
      "\n",
      " [[ 0.93755933 -0.00995598]\n",
      "  [-0.00995598  1.46585161]]\n",
      "\n",
      " [[ 2.14840116  0.19993933]\n",
      "  [ 0.19993933  1.59973287]]]\n"
     ]
    }
   ],
   "source": [
    "model=hmm.GaussianHMM(n_components=n,covariance_type='full',n_iter=10)\n",
    "model=model.fit(sample)\n",
    "y=model.predict(sample)\n",
    "np.set_printoptions(suppress=True)\n",
    "print('eval proba: \\n',model.startprob_)\n",
    "print('eval transmat : \\n',model.transmat_)\n",
    "print('eval means :\\n',model.means_)\n",
    "print('eval covars : \\n',model.covars_)"
   ]
  },
  {
   "cell_type": "code",
   "execution_count": 34,
   "metadata": {
    "ExecuteTime": {
     "end_time": "2020-12-14T09:35:31.559115Z",
     "start_time": "2020-12-14T09:35:31.532113Z"
    }
   },
   "outputs": [
    {
     "data": {
      "text/plain": [
       "array([3, 0, 2, 4, 1], dtype=int64)"
      ]
     },
     "execution_count": 34,
     "metadata": {},
     "output_type": "execute_result"
    }
   ],
   "source": [
    "order = pairwise_distances_argmin(means,model.means_,metric='euclidean')\n",
    "order"
   ]
  },
  {
   "cell_type": "code",
   "execution_count": 36,
   "metadata": {
    "ExecuteTime": {
     "end_time": "2020-12-14T09:46:48.779850Z",
     "start_time": "2020-12-14T09:46:48.746848Z"
    }
   },
   "outputs": [
    {
     "name": "stdout",
     "output_type": "stream",
     "text": [
      "eval proba: \n",
      " [0. 0. 0. 1. 0.]\n",
      "eval transmat : \n",
      " [[0.21052632 0.         0.61403509 0.1754386  0.        ]\n",
      " [0.         0.75686275 0.         0.09607843 0.14705882]\n",
      " [0.01149425 0.         0.47126437 0.         0.51724138]\n",
      " [0.68253968 0.26984127 0.         0.04761905 0.        ]\n",
      " [0.         0.54871795 0.29230769 0.         0.15897436]]\n",
      "eval means :\n",
      " [[ 29.88355298  30.30651981]\n",
      " [ -0.09542759  50.07669686]\n",
      " [-25.14629099  30.0068524 ]\n",
      " [-15.10499204  -0.29595076]\n",
      " [ 15.10633317  -0.03600881]]\n",
      "eval covars : \n",
      " [[[ 0.93755933 -0.00995598]\n",
      "  [-0.00995598  1.46585161]]\n",
      "\n",
      " [[ 1.55026253  0.17411848]\n",
      "  [ 0.17411848  6.2190854 ]]\n",
      "\n",
      " [[ 2.28182722 -0.27008127]\n",
      "  [-0.27008127  3.45758667]]\n",
      "\n",
      " [[ 2.14840116  0.19993933]\n",
      "  [ 0.19993933  1.59973287]]\n",
      "\n",
      " [[ 1.04296652 -0.19284186]\n",
      "  [-0.19284186  6.14173831]]]\n"
     ]
    }
   ],
   "source": [
    "pi_hat=model.startprob_[order]\n",
    "A_hat=model.transmat_[order]\n",
    "A_hat=A_hat[:,order]\n",
    "means_hat=model.means_[order]\n",
    "covars_hat=model.covars_[order]\n",
    "change=np.empty((n,n_samples),dtype=np.bool)\n",
    "for i in range(n):\n",
    "    change[i]=y==order[i]\n",
    "for i in range(n):\n",
    "    y[change[i]]=i\n",
    "print('eval proba: \\n',pi_hat)\n",
    "print('eval transmat : \\n',A_hat)\n",
    "print('eval means :\\n',means_hat)\n",
    "print('eval covars : \\n',covars_hat)    \n"
   ]
  },
  {
   "cell_type": "code",
   "execution_count": 38,
   "metadata": {
    "ExecuteTime": {
     "end_time": "2020-12-14T09:59:31.701486Z",
     "start_time": "2020-12-14T09:59:31.695486Z"
    }
   },
   "outputs": [
    {
     "data": {
      "text/plain": [
       "(1000, 2)"
      ]
     },
     "execution_count": 38,
     "metadata": {},
     "output_type": "execute_result"
    }
   ],
   "source": [
    "sample.shape"
   ]
  },
  {
   "cell_type": "code",
   "execution_count": 42,
   "metadata": {
    "ExecuteTime": {
     "end_time": "2020-12-14T10:01:10.894160Z",
     "start_time": "2020-12-14T10:01:10.804155Z"
    }
   },
   "outputs": [
    {
     "data": {
      "text/plain": [
       "<matplotlib.collections.PathCollection object at 0x00000000173BDA20>"
      ]
     },
     "execution_count": 42,
     "metadata": {},
     "output_type": "execute_result"
    }
   ],
   "source": [
    "plt.scatter(sample[:, 0],\n",
    "            sample[:, 1],\n",
    "            s=50,\n",
    "            c=labels,\n",
    "            cmap=plt.cm.Spectral,\n",
    "            marker='o',\n",
    "            label=u'观测值',\n",
    "            linewidths=0.5,\n",
    "            zorder=20)\n",
    "plt.plot(sample[:, 0], sample[:, 1], 'r-', zorder=10)\n",
    "plt.scatter(means[:, 0],\n",
    "            means[:, 1],\n",
    "            s=100,\n",
    "            c=np.random.rand(n),\n",
    "            marker='D',\n",
    "            label=u'中心',\n",
    "            alpha=0.8,\n",
    "            zorder=30)"
   ]
  },
  {
   "cell_type": "code",
   "execution_count": null,
   "metadata": {
    "collapsed": true
   },
   "outputs": [],
   "source": []
  }
 ],
 "metadata": {
  "kernelspec": {
   "display_name": "Python 3",
   "language": "python",
   "name": "python3"
  },
  "language_info": {
   "codemirror_mode": {
    "name": "ipython",
    "version": 3
   },
   "file_extension": ".py",
   "mimetype": "text/x-python",
   "name": "python",
   "nbconvert_exporter": "python",
   "pygments_lexer": "ipython3",
   "version": "3.6.3"
  }
 },
 "nbformat": 4,
 "nbformat_minor": 2
}
