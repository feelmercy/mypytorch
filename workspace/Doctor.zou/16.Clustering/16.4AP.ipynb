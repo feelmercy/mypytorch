{
 "cells": [
  {
   "cell_type": "code",
   "execution_count": 9,
   "metadata": {
    "ExecuteTime": {
     "end_time": "2020-07-08T02:51:04.715327Z",
     "start_time": "2020-07-08T02:51:03.403252Z"
    }
   },
   "outputs": [
    {
     "name": "stdout",
     "output_type": "stream",
     "text": [
      "Using matplotlib backend: Qt5Agg\n"
     ]
    }
   ],
   "source": [
    "import numpy as np\n",
    "import matplotlib.pyplot as plt\n",
    "import sklearn.datasets as ds\n",
    "import matplotlib.colors\n",
    "from sklearn.cluster import AffinityPropagation\n",
    "from sklearn.metrics import euclidean_distances\n",
    "%matplotlib auto"
   ]
  },
  {
   "cell_type": "code",
   "execution_count": 5,
   "metadata": {
    "ExecuteTime": {
     "end_time": "2020-07-08T02:32:13.831644Z",
     "start_time": "2020-07-08T02:32:13.806643Z"
    }
   },
   "outputs": [
    {
     "name": "stdout",
     "output_type": "stream",
     "text": [
      "preference:  -5.29914553034\n"
     ]
    }
   ],
   "source": [
    "N = 400\n",
    "centers = [[1, 2], [-1, -1], [1, -1], [-1, 1]]\n",
    "data, y = ds.make_blobs(N,\n",
    "                        n_features=2,\n",
    "                        centers=centers,\n",
    "                        cluster_std=[0.5, 0.25, 0.7, 0.5],\n",
    "                        random_state=0)\n",
    "m=euclidean_distances(data,squared=True)\n",
    "preference=-np.median(m)\n",
    "print('preference: ',preference)"
   ]
  },
  {
   "cell_type": "code",
   "execution_count": 46,
   "metadata": {
    "ExecuteTime": {
     "end_time": "2020-07-08T07:15:39.062288Z",
     "start_time": "2020-07-08T07:15:31.279843Z"
    }
   },
   "outputs": [
    {
     "name": "stdout",
     "output_type": "stream",
     "text": [
      "1.0\n",
      "p=-5 qua of cluster : 16\n",
      "1.375\n",
      "p=-7 qua of cluster : 12\n",
      "1.75\n",
      "p=-9 qua of cluster : 11\n",
      "2.125\n",
      "p=-11 qua of cluster : 10\n",
      "2.5\n",
      "p=-13 qua of cluster : 9\n",
      "2.875\n",
      "p=-15 qua of cluster : 8\n",
      "3.25\n",
      "p=-17 qua of cluster : 55\n",
      "3.625\n",
      "p=-19 qua of cluster : 107\n",
      "4.0\n",
      "p=-21 qua of cluster : 7\n"
     ]
    }
   ],
   "source": [
    "matplotlib.rcParams['font.sans-serif'] = [u'SimHei']\n",
    "matplotlib.rcParams['axes.unicode_minus'] = False\n",
    "plt.figure(figsize=(12, 9), facecolor='w')\n",
    "for i, mul in enumerate(np.linspace(1, 4, 9)):\n",
    "    print(mul)\n",
    "    p = mul * preference\n",
    "    model = AffinityPropagation(affinity='euclidean', preference=p)\n",
    "    af = model.fit(data)\n",
    "    center_indices = af.cluster_centers_indices_\n",
    "    n_clusters = len(center_indices)\n",
    "    print('p=%1.f' % (p), 'qua of cluster :', n_clusters)\n",
    "    y_hat = af.labels_\n",
    "\n",
    "    plt.subplot(3, 3, i + 1)\n",
    "    plt.title('preference:%.2f,qua of cluster: %d' % (p, n_clusters))\n",
    "    clrs = []\n",
    "\n",
    "    for c in np.linspace(16711680, 255, n_clusters):\n",
    "        clrs.append('#%06x' % int(c))\n",
    "\n",
    "    for k, clr in enumerate(clrs):\n",
    "        cur = (y_hat == k)\n",
    "        plt.scatter(data[cur, 0], data[cur, 1], c=clr, edgecolors='none')\n",
    "        center = data[center_indices[k]]\n",
    "        for x in data[cur]:\n",
    "            plt.plot([x[0], center[0]], [x[1], center[1]],\n",
    "                     color=clr,\n",
    "                     zorder=1)\n",
    "    plt.scatter(data[center_indices, 0],\n",
    "                data[center_indices, 1],\n",
    "                s=100,\n",
    "                c=clrs,\n",
    "                marker='*',\n",
    "                edgecolors='k',\n",
    "                zorder=2)\n",
    "plt.tight_layout()\n",
    "plt.suptitle(u'AP聚类', fontsize=20)\n",
    "plt.subplots_adjust(top=0.92)\n",
    "plt.show()"
   ]
  },
  {
   "cell_type": "code",
   "execution_count": 14,
   "metadata": {
    "ExecuteTime": {
     "end_time": "2020-07-08T06:29:51.391130Z",
     "start_time": "2020-07-08T06:29:51.375129Z"
    }
   },
   "outputs": [
    {
     "name": "stdout",
     "output_type": "stream",
     "text": [
      "1.0\n",
      "1.375\n",
      "1.75\n",
      "2.125\n",
      "2.5\n",
      "2.875\n",
      "3.25\n",
      "3.625\n",
      "4.0\n"
     ]
    }
   ],
   "source": [
    "for i,mul in enumerate(np.linspace(1,4,9)):\n",
    "    print(mul)"
   ]
  },
  {
   "cell_type": "code",
   "execution_count": 15,
   "metadata": {
    "ExecuteTime": {
     "end_time": "2020-07-08T06:30:08.523110Z",
     "start_time": "2020-07-08T06:30:08.511109Z"
    }
   },
   "outputs": [
    {
     "data": {
      "text/plain": [
       "-10.598291060678285"
      ]
     },
     "execution_count": 15,
     "metadata": {},
     "output_type": "execute_result"
    }
   ],
   "source": [
    "preference*2"
   ]
  },
  {
   "cell_type": "code",
   "execution_count": 30,
   "metadata": {
    "ExecuteTime": {
     "end_time": "2020-07-08T06:57:21.260497Z",
     "start_time": "2020-07-08T06:57:21.090487Z"
    },
    "scrolled": true
   },
   "outputs": [
    {
     "data": {
      "text/plain": [
       "array([ 20,  29,  77,  83,  93, 134, 136, 148, 238, 257, 262, 263, 312,\n",
       "       326, 362, 376], dtype=int64)"
      ]
     },
     "execution_count": 30,
     "metadata": {},
     "output_type": "execute_result"
    }
   ],
   "source": [
    "model1 = AffinityPropagation(affinity='euclidean', preference=preference)\n",
    "af1 = model1.fit(data)\n",
    "center_indices1 = af1.cluster_centers_indices_\n",
    "center_indices1"
   ]
  },
  {
   "cell_type": "code",
   "execution_count": 31,
   "metadata": {
    "ExecuteTime": {
     "end_time": "2020-07-08T06:57:21.863532Z",
     "start_time": "2020-07-08T06:57:21.856531Z"
    }
   },
   "outputs": [],
   "source": [
    "y_hat1=af1.labels_"
   ]
  },
  {
   "cell_type": "code",
   "execution_count": 32,
   "metadata": {
    "ExecuteTime": {
     "end_time": "2020-07-08T06:57:22.516569Z",
     "start_time": "2020-07-08T06:57:22.508569Z"
    }
   },
   "outputs": [
    {
     "data": {
      "text/plain": [
       "400"
      ]
     },
     "execution_count": 32,
     "metadata": {},
     "output_type": "execute_result"
    }
   ],
   "source": [
    "len(af1.labels_)"
   ]
  },
  {
   "cell_type": "code",
   "execution_count": 33,
   "metadata": {
    "ExecuteTime": {
     "end_time": "2020-07-08T06:57:23.021598Z",
     "start_time": "2020-07-08T06:57:23.012597Z"
    }
   },
   "outputs": [
    {
     "data": {
      "text/plain": [
       "array([[-0.69743996,  1.44777799],\n",
       "       [-1.97285154,  0.54360825],\n",
       "       [ 1.16948257, -1.62210418],\n",
       "       [ 0.75098377,  2.96476603],\n",
       "       [ 0.48287858,  2.34079726]])"
      ]
     },
     "execution_count": 33,
     "metadata": {},
     "output_type": "execute_result"
    }
   ],
   "source": [
    "data[:5]"
   ]
  },
  {
   "cell_type": "code",
   "execution_count": 34,
   "metadata": {
    "ExecuteTime": {
     "end_time": "2020-07-08T06:57:23.827644Z",
     "start_time": "2020-07-08T06:57:23.816643Z"
    }
   },
   "outputs": [],
   "source": [
    "clrs1=[]\n",
    "for c in np.linspace(16711680,255,len(center_indices1)):\n",
    "    clrs1.append('#%06x' % int(c))"
   ]
  },
  {
   "cell_type": "code",
   "execution_count": 39,
   "metadata": {
    "ExecuteTime": {
     "end_time": "2020-07-08T07:09:59.734879Z",
     "start_time": "2020-07-08T07:09:59.722879Z"
    }
   },
   "outputs": [
    {
     "data": {
      "text/plain": [
       "['#ff0000',\n",
       " '#ee0011',\n",
       " '#dd0022',\n",
       " '#cc0033',\n",
       " '#bb0044',\n",
       " '#aa0055',\n",
       " '#990066',\n",
       " '#880077',\n",
       " '#770088',\n",
       " '#660099',\n",
       " '#5500aa',\n",
       " '#4400bb',\n",
       " '#3300cc',\n",
       " '#2200dd',\n",
       " '#1100ee',\n",
       " '#0000ff']"
      ]
     },
     "execution_count": 39,
     "metadata": {},
     "output_type": "execute_result"
    }
   ],
   "source": [
    "clrs1"
   ]
  },
  {
   "cell_type": "code",
   "execution_count": 49,
   "metadata": {
    "ExecuteTime": {
     "end_time": "2020-07-08T07:18:00.026351Z",
     "start_time": "2020-07-08T07:17:59.434317Z"
    }
   },
   "outputs": [],
   "source": [
    "for k,clr in enumerate(clrs1):\n",
    "    cur1=(y_hat1==k)\n",
    "    plt.scatter(data[cur1,0],data[cur1,1],c=clr,edgecolors='none')\n",
    "    center1=data[center_indices1[k]]\n",
    "    for x in data[cur1]:\n",
    "        plt.plot([x[0],center1[0]],[x[1],center1[1]],color=clr,zorder=1)\n",
    "    plt.scatter(data[center_indices1,0],\n",
    "                data[center_indices1,1],\n",
    "                s=100,c=clr,\n",
    "               marker='*',edgecolors='k',zorder=2)\n",
    "    \n",
    "plt.title('p=%.1f ,clusters qua: %d' % (preference,len(center_indices1)))\n",
    "plt.show()\n",
    "        "
   ]
  },
  {
   "cell_type": "code",
   "execution_count": 81,
   "metadata": {
    "ExecuteTime": {
     "end_time": "2020-07-08T07:48:20.238461Z",
     "start_time": "2020-07-08T07:48:20.212459Z"
    }
   },
   "outputs": [
    {
     "name": "stdout",
     "output_type": "stream",
     "text": [
      "[-1.0117115525107261, -1.2663513959897772] [1.5395973640562446, 1.54537486721725]\n",
      "[-1.2256515185512631, -1.2663513959897772] [1.132843987483118, 1.54537486721725]\n",
      "[-1.4663945207532192, -1.2663513959897772] [1.6216596922275774, 1.54537486721725]\n",
      "[-1.3003287788288942, -1.2663513959897772] [1.7761215900242804, 1.54537486721725]\n",
      "[-1.0451910036384735, -1.2663513959897772] [1.6837986199033568, 1.54537486721725]\n",
      "[-0.834711621862813, -1.2663513959897772] [1.4746232367791179, 1.54537486721725]\n",
      "[-0.90101635502751631, -1.2663513959897772] [1.5409676092386326, 1.54537486721725]\n",
      "[-1.394334627254683, -1.2663513959897772] [1.5473191873560457, 1.54537486721725]\n",
      "[-1.2957013339040553, -1.2663513959897772] [1.5622095922551842, 1.54537486721725]\n",
      "[-1.2495083189970915, -1.2663513959897772] [1.0106756119217744, 1.54537486721725]\n",
      "[-1.0178840359301105, -1.2663513959897772] [2.1903726756098751, 1.54537486721725]\n",
      "[-0.77590235778834371, -1.2663513959897772] [1.8480907864140803, 1.54537486721725]\n",
      "[-1.0074288516773513, -1.2663513959897772] [1.4107029685124055, 1.54537486721725]\n",
      "[-1.0659543198899835, -1.2663513959897772] [1.2023809060202488, 1.54537486721725]\n",
      "[-0.90833040037119939, -1.2663513959897772] [1.8354715163944286, 1.54537486721725]\n",
      "[-1.2269020205260006, -1.2663513959897772] [1.2016322700816233, 1.54537486721725]\n",
      "[-1.4590023849095228, -1.2663513959897772] [1.1262483135384362, 1.54537486721725]\n",
      "[-1.3828510972390431, -1.2663513959897772] [1.2778934820414365, 1.54537486721725]\n",
      "[-1.4694907863388926, -1.2663513959897772] [1.5085104957066222, 1.54537486721725]\n",
      "[-1.4487004634509153, -1.2663513959897772] [1.656235183570498, 1.54537486721725]\n",
      "[-1.3524606762537226, -1.2663513959897772] [1.3399874221225512, 1.54537486721725]\n",
      "[-0.88258923702563408, -1.2663513959897772] [2.066076705285222, 1.54537486721725]\n",
      "[-1.472184245412147, -1.2663513959897772] [1.1190515739161562, 1.54537486721725]\n",
      "[-0.9948253427168503, -1.2663513959897772] [1.3600168796708263, 1.54537486721725]\n",
      "[-1.2663513959897772, -1.2663513959897772] [1.54537486721725, 1.54537486721725]\n"
     ]
    }
   ],
   "source": [
    "for x in data[cur1]:\n",
    "    print([x[0],center1[0]],[x[1],center1[1]])"
   ]
  },
  {
   "cell_type": "code",
   "execution_count": 85,
   "metadata": {
    "ExecuteTime": {
     "end_time": "2020-07-08T07:52:48.346796Z",
     "start_time": "2020-07-08T07:52:48.243790Z"
    }
   },
   "outputs": [],
   "source": [
    "for x in data[cur1]:\n",
    "    plt.plot([x[0],center1[0]],[x[1],center1[1]])\n",
    "#     plt.plot([x[0],center1[0]])\n",
    "plt.show()"
   ]
  },
  {
   "cell_type": "code",
   "execution_count": 75,
   "metadata": {
    "ExecuteTime": {
     "end_time": "2020-07-08T07:45:06.785396Z",
     "start_time": "2020-07-08T07:45:06.716392Z"
    }
   },
   "outputs": [],
   "source": [
    "plt.plot([[1,2],[0,2]],[[3,6],[7,6]])\n",
    "plt.show()\n"
   ]
  },
  {
   "cell_type": "code",
   "execution_count": null,
   "metadata": {
    "collapsed": true
   },
   "outputs": [],
   "source": []
  }
 ],
 "metadata": {
  "kernelspec": {
   "display_name": "Python 3",
   "language": "python",
   "name": "python3"
  },
  "language_info": {
   "codemirror_mode": {
    "name": "ipython",
    "version": 3
   },
   "file_extension": ".py",
   "mimetype": "text/x-python",
   "name": "python",
   "nbconvert_exporter": "python",
   "pygments_lexer": "ipython3",
   "version": "3.6.3"
  }
 },
 "nbformat": 4,
 "nbformat_minor": 2
}
