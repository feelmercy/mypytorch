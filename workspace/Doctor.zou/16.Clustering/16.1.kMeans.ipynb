{
 "cells": [
  {
   "cell_type": "code",
   "execution_count": 1,
   "metadata": {
    "ExecuteTime": {
     "end_time": "2020-06-04T08:14:49.972490Z",
     "start_time": "2020-06-04T08:14:47.067324Z"
    },
    "collapsed": true
   },
   "outputs": [],
   "source": [
    "import numpy as np\n",
    "import matplotlib.pyplot as plt\n",
    "import sklearn.datasets as ds\n",
    "import matplotlib.colors\n",
    "from sklearn.cluster import KMeans"
   ]
  },
  {
   "cell_type": "code",
   "execution_count": 2,
   "metadata": {
    "ExecuteTime": {
     "end_time": "2020-06-04T08:20:19.414758Z",
     "start_time": "2020-06-04T08:20:19.399158Z"
    },
    "collapsed": true
   },
   "outputs": [],
   "source": [
    "def expand(a,b):\n",
    "    d=(b-a)*0.1\n",
    "    return a-d,b+d"
   ]
  },
  {
   "cell_type": "code",
   "execution_count": 8,
   "metadata": {
    "ExecuteTime": {
     "end_time": "2020-06-04T08:29:35.387159Z",
     "start_time": "2020-06-04T08:29:35.351958Z"
    }
   },
   "outputs": [],
   "source": [
    "N = 400\n",
    "centers = 4\n",
    "data, y = ds.make_blobs(N, n_features=2, centers=centers, random_state=2)\n",
    "data2, y2 = ds.make_blobs(N,\n",
    "                          n_features=2,\n",
    "                          centers=centers,\n",
    "                          cluster_std=(1, 2.5, 0.5, 2),\n",
    "                          random_state=2)\n",
    "data3 = np.vstack(\n",
    "    (data[y == 0][:], data[y == 1][:50], data[y == 2][:20], \n",
    "     data[y == 3][:5]))\n",
    "y3 = np.array([0] * 100 + [1] * 50 + [2] * 20 + [3] * 5)"
   ]
  },
  {
   "cell_type": "code",
   "execution_count": 9,
   "metadata": {
    "ExecuteTime": {
     "end_time": "2020-06-04T08:30:42.759505Z",
     "start_time": "2020-06-04T08:30:41.698444Z"
    },
    "collapsed": true
   },
   "outputs": [],
   "source": [
    "cls=KMeans(n_clusters=4,init='k-means++')\n",
    "y_hat=cls.fit_predict(data)\n",
    "y2_hat=cls.fit_predict(data2)\n",
    "y3_hat=cls.fit_predict(data3)"
   ]
  },
  {
   "cell_type": "code",
   "execution_count": 29,
   "metadata": {
    "ExecuteTime": {
     "end_time": "2020-06-04T09:09:45.451499Z",
     "start_time": "2020-06-04T09:09:45.404496Z"
    },
    "scrolled": true
   },
   "outputs": [],
   "source": [
    "m=np.array(((1,1),(1,3)))\n",
    "data_r=data.dot(m)\n",
    "y_r_hat=cls.fit_predict(data_r)"
   ]
  },
  {
   "cell_type": "code",
   "execution_count": 30,
   "metadata": {
    "ExecuteTime": {
     "end_time": "2020-06-04T09:10:24.219716Z",
     "start_time": "2020-06-04T09:10:24.211716Z"
    },
    "collapsed": true
   },
   "outputs": [],
   "source": [
    "cm=matplotlib.colors.ListedColormap(list('rgbm'))"
   ]
  },
  {
   "cell_type": "code",
   "execution_count": 48,
   "metadata": {
    "ExecuteTime": {
     "end_time": "2020-06-04T09:27:06.515044Z",
     "start_time": "2020-06-04T09:27:06.505044Z"
    }
   },
   "outputs": [
    {
     "data": {
      "text/plain": [
       "array([ -8.09999402, -11.82507855])"
      ]
     },
     "execution_count": 48,
     "metadata": {},
     "output_type": "execute_result"
    }
   ],
   "source": [
    "np.min(data,axis=0)"
   ]
  },
  {
   "cell_type": "code",
   "execution_count": 44,
   "metadata": {
    "ExecuteTime": {
     "end_time": "2020-06-04T09:24:50.802282Z",
     "start_time": "2020-06-04T09:24:50.795282Z"
    }
   },
   "outputs": [
    {
     "data": {
      "text/plain": [
       "(array([174], dtype=int64), array([1], dtype=int64))"
      ]
     },
     "execution_count": 44,
     "metadata": {},
     "output_type": "execute_result"
    }
   ],
   "source": [
    "np.where(data<=-11.82507855)"
   ]
  },
  {
   "cell_type": "code",
   "execution_count": 45,
   "metadata": {
    "ExecuteTime": {
     "end_time": "2020-06-04T09:25:15.370687Z",
     "start_time": "2020-06-04T09:25:15.359687Z"
    }
   },
   "outputs": [
    {
     "data": {
      "text/plain": [
       "array([ -0.10657046, -11.82507855])"
      ]
     },
     "execution_count": 45,
     "metadata": {},
     "output_type": "execute_result"
    }
   ],
   "source": [
    "data[174]"
   ]
  },
  {
   "cell_type": "code",
   "execution_count": 50,
   "metadata": {
    "ExecuteTime": {
     "end_time": "2020-06-04T09:43:09.491123Z",
     "start_time": "2020-06-04T09:43:08.798084Z"
    }
   },
   "outputs": [
    {
     "name": "stderr",
     "output_type": "stream",
     "text": [
      "D:\\ProgramData\\Anaconda3\\lib\\site-packages\\matplotlib\\cbook\\deprecation.py:106: MatplotlibDeprecationWarning: Adding an axes using the same arguments as a previous axes currently reuses the earlier instance.  In a future version, a new instance will always be created and returned.  Meanwhile, this warning can be suppressed, and the future behavior ensured, by passing a unique label to each axes instance.\n",
      "  warnings.warn(message, mplDeprecation, stacklevel=1)\n"
     ]
    },
    {
     "data": {
      "image/png": "[encoded data removed]",
      "text/plain": [
       "<matplotlib.figure.Figure at 0xb2762b0>"
      ]
     },
     "metadata": {},
     "output_type": "display_data"
    }
   ],
   "source": [
    "plt.subplot(421)\n",
    "plt.title('original data')\n",
    "plt.scatter(data[:,0],data[:,1],c=y,s=30,cmap=cm,edgecolors='none')\n",
    "x1_min,x2_min=np.min(data,axis=0)\n",
    "x1_max,x2_max=np.max(data,axis=0)\n",
    "x1_min,x1_max=expand(x1_min,x1_max)\n",
    "x2_min,x2_max=expand(x2_min,x2_max)\n",
    "plt.xlim((x1_min,x1_max))\n",
    "plt.ylim((x2_min,x2_max))\n",
    "\n",
    "plt.subplot(422)\n",
    "plt.title(u'KMeans++聚类')\n",
    "plt.scatter(data[:, 0], data[:, 1], c=y_hat, s=30, cmap=cm, edgecolors='none')\n",
    "plt.xlim((x1_min, x1_max))\n",
    "plt.ylim((x2_min, x2_max))\n",
    "\n",
    "plt.subplot(423)\n",
    "plt.title(u'旋转后数据')\n",
    "plt.scatter(data_r[:, 0], data_r[:, 1], c=y, s=30, cmap=cm, edgecolors='none')\n",
    "x1_min, x2_min = np.min(data_r, axis=0)\n",
    "x1_max, x2_max = np.max(data_r, axis=0)\n",
    "x1_min, x1_max = expand(x1_min, x1_max)\n",
    "x2_min, x2_max = expand(x2_min, x2_max)\n",
    "plt.xlim((x1_min, x1_max))\n",
    "plt.ylim((x2_min, x2_max))\n",
    "\n",
    "plt.subplot(424)\n",
    "plt.title(u'旋转后KMeans++聚类')\n",
    "plt.scatter(data_r[:, 0], data_r[:, 1], c=y_r_hat, s=30, cmap=cm, edgecolors='none')\n",
    "plt.xlim((x1_min, x1_max))\n",
    "plt.ylim((x2_min, x2_max))\n",
    "plt.grid(True)\n",
    "\n",
    "plt.subplot(425)\n",
    "plt.title(u'方差不相等数据')\n",
    "plt.scatter(data2[:, 0], data2[:, 1], c=y2, s=30, cmap=cm, edgecolors='none')\n",
    "x1_min, x2_min = np.min(data2, axis=0)\n",
    "x1_max, x2_max = np.max(data2, axis=0)\n",
    "x1_min, x1_max = expand(x1_min, x1_max)\n",
    "x2_min, x2_max = expand(x2_min, x2_max)\n",
    "plt.xlim((x1_min, x1_max))\n",
    "plt.ylim((x2_min, x2_max))\n",
    "plt.grid(True)\n",
    "\n",
    "plt.subplot(426)\n",
    "plt.title(u'方差不相等KMeans++聚类')\n",
    "plt.scatter(data2[:, 0], data2[:, 1], c=y2_hat, s=30, cmap=cm, edgecolors='none')\n",
    "plt.xlim((x1_min, x1_max))\n",
    "plt.ylim((x2_min, x2_max))\n",
    "plt.grid(True)\n",
    "\n",
    "plt.subplot(427)\n",
    "plt.title(u'数量不相等数据')\n",
    "plt.scatter(data3[:, 0], data3[:, 1], s=30, c=y3, cmap=cm, edgecolors='none')\n",
    "x1_min, x2_min = np.min(data3, axis=0)\n",
    "x1_max, x2_max = np.max(data3, axis=0)\n",
    "x1_min, x1_max = expand(x1_min, x1_max)\n",
    "x2_min, x2_max = expand(x2_min, x2_max)\n",
    "plt.xlim((x1_min, x1_max))\n",
    "plt.ylim((x2_min, x2_max))\n",
    "plt.grid(True)\n",
    "\n",
    "plt.subplot(428)\n",
    "plt.title(u'数量不相等KMeans++聚类')\n",
    "plt.scatter(data3[:, 0], data3[:, 1], c=y3_hat, s=30, cmap=cm, edgecolors='none')\n",
    "plt.xlim((x1_min, x1_max))\n",
    "plt.ylim((x2_min, x2_max))\n",
    "plt.grid(True)\n",
    "plt.show()"
   ]
  },
  {
   "cell_type": "code",
   "execution_count": null,
   "metadata": {
    "collapsed": true
   },
   "outputs": [],
   "source": []
  }
 ],
 "metadata": {
  "kernelspec": {
   "display_name": "Python 3",
   "language": "python",
   "name": "python3"
  },
  "language_info": {
   "codemirror_mode": {
    "name": "ipython",
    "version": 3
   },
   "file_extension": ".py",
   "mimetype": "text/x-python",
   "name": "python",
   "nbconvert_exporter": "python",
   "pygments_lexer": "ipython3",
   "version": "3.6.3"
  }
 },
 "nbformat": 4,
 "nbformat_minor": 2
}
