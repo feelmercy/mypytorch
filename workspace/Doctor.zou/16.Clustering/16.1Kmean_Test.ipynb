{
 "cells": [
  {
   "cell_type": "code",
   "execution_count": 1,
   "metadata": {
    "ExecuteTime": {
     "end_time": "2020-06-08T01:56:18.887400Z",
     "start_time": "2020-06-08T01:56:17.218305Z"
    },
    "collapsed": true
   },
   "outputs": [],
   "source": [
    "import numpy as np\n",
    "import matplotlib.pyplot as plt\n",
    "import sklearn.datasets as ds\n",
    "import matplotlib.colors\n",
    "from sklearn.cluster import KMeans"
   ]
  },
  {
   "cell_type": "code",
   "execution_count": 2,
   "metadata": {
    "ExecuteTime": {
     "end_time": "2020-06-08T01:57:36.061815Z",
     "start_time": "2020-06-08T01:57:36.051814Z"
    },
    "collapsed": true
   },
   "outputs": [],
   "source": [
    "def expand(a,b):\n",
    "    d=(b-a)*0.1\n",
    "    return a-d,b+d"
   ]
  },
  {
   "cell_type": "code",
   "execution_count": 4,
   "metadata": {
    "ExecuteTime": {
     "end_time": "2020-06-08T02:09:06.397300Z",
     "start_time": "2020-06-08T02:09:06.370298Z"
    },
    "collapsed": true
   },
   "outputs": [],
   "source": [
    "N = 400\n",
    "centers = 4\n",
    "data, y = ds.make_blobs(N, n_features=2, centers=centers, random_state=2)\n",
    "data2, y2 = ds.make_blobs(N,\n",
    "                          n_features=2,\n",
    "                          centers=centers,\n",
    "                          cluster_std=(1, 2.5, 0.5, 2),\n",
    "                          random_state=2)\n",
    "data3= np.vstack(\n",
    "    (data[y == 0][:], \n",
    "     data[y == 1][:50], \n",
    "     data[y == 2][:20], \n",
    "     data[y == 3][:5]))\n",
    "y3 = np.array([0] * 100 + [1] * 50 + [2] * 20 + [3] * 5)"
   ]
  },
  {
   "cell_type": "code",
   "execution_count": 20,
   "metadata": {
    "ExecuteTime": {
     "end_time": "2020-06-08T03:10:40.217574Z",
     "start_time": "2020-06-08T03:10:40.003562Z"
    },
    "collapsed": true
   },
   "outputs": [],
   "source": [
    "cls=KMeans(n_clusters=4,init='k-means++')\n",
    "y_hat=cls.fit_predict(data)\n",
    "y2_hat=cls.fit_predict(data2)\n",
    "y3_hat=cls.fit_predict(data3)"
   ]
  },
  {
   "cell_type": "code",
   "execution_count": 208,
   "metadata": {
    "ExecuteTime": {
     "end_time": "2020-06-10T01:09:56.213835Z",
     "start_time": "2020-06-10T01:09:56.202835Z"
    }
   },
   "outputs": [
    {
     "data": {
      "text/plain": [
       "array([0, 3, 0, 3, 2, 3, 3, 2, 0, 0, 1, 3, 1, 2, 1, 0, 1, 0, 3, 1, 2, 1, 0,\n",
       "       1, 2, 1, 0, 2, 0, 3, 0, 2, 2, 0, 1, 3, 0, 3, 0, 1, 1, 3, 0, 2, 1, 0,\n",
       "       3, 1, 1, 3, 2, 0, 0, 3, 1, 0, 1, 3, 3, 1, 2, 1, 1, 2, 1, 2, 1, 2, 1,\n",
       "       2, 2, 1, 3, 2, 3, 2, 2, 1, 0, 2, 3, 3, 3, 1, 1, 2, 0, 3, 3, 2, 1, 2,\n",
       "       0, 0, 2, 1, 1, 2, 3, 1, 1, 2, 2, 0, 1, 3, 3, 2, 3, 1, 3, 3, 1, 2, 1,\n",
       "       1, 1, 2, 0, 0, 2, 3, 2, 2, 0, 2, 2, 2, 2, 2, 0, 0, 2, 0, 1, 0, 1, 0,\n",
       "       3, 1, 2, 3, 2, 0, 0, 3, 1, 0, 0, 0, 0, 2, 0, 1, 3, 2, 2, 3, 1, 2, 0,\n",
       "       0, 0, 2, 2, 0, 3, 1, 0, 0, 3, 1, 1, 0, 0, 3, 2, 3, 1, 1, 2, 3, 3, 1,\n",
       "       1, 0, 0, 1, 0, 1, 3, 2, 3, 0, 3, 2, 2, 3, 0, 1, 1, 2, 0, 3, 1, 3, 0,\n",
       "       3, 1, 1, 3, 3, 0, 3, 2, 1, 2, 3, 0, 2, 0, 3, 3, 2, 0, 2, 3, 3, 1, 2,\n",
       "       0, 1, 3, 2, 3, 3, 0, 0, 1, 0, 1, 0, 2, 3, 2, 0, 0, 0, 1, 1, 2, 2, 0,\n",
       "       3, 3, 0, 2, 0, 0, 1, 2, 0, 2, 3, 2, 2, 0, 0, 2, 3, 3, 3, 3, 1, 3, 0,\n",
       "       3, 2, 0, 0, 2, 3, 3, 1, 3, 3, 1, 3, 2, 1, 1, 2, 2, 3, 0, 2, 2, 0, 1,\n",
       "       0, 2, 3, 0, 1, 2, 0, 3, 1, 3, 3, 3, 1, 1, 3, 1, 0, 3, 1, 0, 3, 1, 2,\n",
       "       0, 3, 0, 2, 0, 3, 0, 1, 1, 3, 3, 2, 2, 1, 2, 0, 2, 3, 1, 1, 3, 3, 2,\n",
       "       1, 1, 2, 3, 2, 1, 0, 1, 1, 2, 1, 0, 0, 1, 1, 0, 3, 1, 3, 2, 0, 2, 0,\n",
       "       0, 3, 3, 3, 2, 1, 2, 0, 1, 0, 3, 1, 1, 3, 1, 2, 1, 3, 0, 0, 2, 2, 3,\n",
       "       2, 2, 0, 0, 3, 2, 2, 1, 1])"
      ]
     },
     "execution_count": 208,
     "metadata": {},
     "output_type": "execute_result"
    }
   ],
   "source": [
    "y"
   ]
  },
  {
   "cell_type": "code",
   "execution_count": 207,
   "metadata": {
    "ExecuteTime": {
     "end_time": "2020-06-10T01:09:49.950477Z",
     "start_time": "2020-06-10T01:09:49.939476Z"
    }
   },
   "outputs": [
    {
     "data": {
      "text/plain": [
       "array([1, 0, 1, 0, 2, 0, 0, 2, 1, 1, 3, 0, 3, 2, 3, 1, 3, 1, 0, 3, 2, 3, 1,\n",
       "       3, 2, 3, 1, 2, 1, 0, 1, 2, 2, 1, 3, 0, 1, 0, 1, 3, 3, 0, 1, 2, 3, 1,\n",
       "       0, 3, 3, 0, 2, 1, 1, 0, 3, 1, 3, 0, 0, 3, 2, 3, 3, 2, 3, 2, 3, 2, 3,\n",
       "       2, 2, 3, 0, 2, 0, 2, 2, 3, 1, 2, 0, 0, 0, 3, 3, 2, 1, 0, 0, 2, 3, 2,\n",
       "       1, 1, 2, 3, 3, 2, 0, 3, 3, 2, 2, 1, 3, 0, 0, 2, 0, 3, 0, 0, 3, 2, 3,\n",
       "       3, 3, 2, 1, 1, 2, 0, 2, 2, 1, 2, 2, 2, 2, 2, 1, 1, 2, 1, 3, 1, 3, 1,\n",
       "       0, 3, 2, 0, 2, 1, 1, 0, 2, 1, 1, 1, 1, 2, 1, 3, 0, 2, 2, 0, 3, 2, 1,\n",
       "       1, 1, 2, 2, 1, 0, 3, 1, 1, 0, 3, 3, 1, 1, 0, 2, 0, 3, 3, 2, 0, 0, 3,\n",
       "       3, 1, 1, 3, 1, 3, 0, 2, 0, 1, 0, 2, 2, 0, 1, 3, 3, 2, 1, 0, 3, 0, 1,\n",
       "       0, 3, 3, 0, 0, 1, 0, 2, 3, 2, 0, 1, 2, 1, 0, 0, 2, 1, 2, 0, 0, 3, 2,\n",
       "       1, 3, 0, 2, 0, 0, 1, 1, 3, 1, 3, 1, 2, 0, 2, 1, 1, 1, 3, 3, 2, 2, 1,\n",
       "       0, 0, 1, 2, 1, 1, 3, 2, 1, 2, 0, 2, 2, 1, 1, 2, 0, 0, 0, 0, 3, 0, 1,\n",
       "       0, 2, 1, 1, 2, 0, 0, 3, 0, 0, 3, 0, 2, 3, 3, 2, 2, 0, 1, 2, 2, 1, 3,\n",
       "       1, 2, 0, 1, 3, 2, 1, 0, 3, 0, 0, 0, 3, 3, 0, 3, 1, 0, 3, 1, 0, 3, 2,\n",
       "       1, 0, 1, 2, 1, 0, 1, 3, 3, 0, 0, 2, 2, 3, 2, 1, 2, 0, 3, 3, 0, 0, 2,\n",
       "       3, 3, 2, 0, 2, 3, 1, 3, 3, 2, 3, 1, 1, 3, 3, 1, 0, 3, 0, 2, 1, 2, 1,\n",
       "       1, 0, 0, 0, 2, 3, 2, 1, 3, 1, 0, 3, 3, 0, 3, 2, 3, 0, 1, 1, 2, 2, 0,\n",
       "       2, 2, 1, 1, 0, 2, 2, 3, 3])"
      ]
     },
     "execution_count": 207,
     "metadata": {},
     "output_type": "execute_result"
    }
   ],
   "source": [
    "y_hat"
   ]
  },
  {
   "cell_type": "code",
   "execution_count": 213,
   "metadata": {
    "ExecuteTime": {
     "end_time": "2020-06-10T05:57:26.050470Z",
     "start_time": "2020-06-10T05:57:26.040469Z"
    }
   },
   "outputs": [
    {
     "data": {
      "text/plain": [
       "0.5714285714285714"
      ]
     },
     "execution_count": 213,
     "metadata": {},
     "output_type": "execute_result"
    }
   ],
   "source": [
    "np.sum(y3_hat==y3)/len(y3)"
   ]
  },
  {
   "cell_type": "code",
   "execution_count": 22,
   "metadata": {
    "ExecuteTime": {
     "end_time": "2020-06-08T03:14:58.876368Z",
     "start_time": "2020-06-08T03:14:58.815365Z"
    },
    "collapsed": true
   },
   "outputs": [],
   "source": [
    "m=np.array(((1,1),(1,3)))\n",
    "data_r=data.dot(m)\n",
    "y_r_hat=cls.fit_predict(data_r)"
   ]
  },
  {
   "cell_type": "code",
   "execution_count": 27,
   "metadata": {
    "ExecuteTime": {
     "end_time": "2020-06-08T07:02:26.332958Z",
     "start_time": "2020-06-08T07:02:25.757925Z"
    },
    "collapsed": true
   },
   "outputs": [],
   "source": [
    "cm = matplotlib.colors.ListedColormap(list('rgbm'))\n",
    "plt.figure(figsize=(9, 10), facecolor='w')\n",
    "plt.subplot(421)\n",
    "plt.title('orginal data')\n",
    "plt.scatter(data[:, 0], data[:, 1], c=y, s=30, cmap=cm, edgecolors='none')\n",
    "x1_min, x2_min = np.min(data, axis=0)\n",
    "x1_max, x2_max = np.max(data, axis=0)\n",
    "x1_min, x1_max = expand(x1_min, x1_max)\n",
    "x2_min, x2_max = expand(x2_min, x2_max)\n",
    "plt.xlim((x1_min, x1_max))\n",
    "plt.ylim((x2_min, x2_max))\n",
    "plt.grid(True)\n",
    "\n",
    "plt.subplot(422)\n",
    "plt.title(u'KMeans++聚类')\n",
    "plt.scatter(data[:, 0], data[:, 1], c=y_hat, s=30, cmap=cm, edgecolors='none')\n",
    "plt.xlim((x1_min, x1_max))\n",
    "plt.ylim((x2_min, x2_max))\n",
    "plt.grid(True)\n",
    "\n",
    "plt.subplot(423)\n",
    "plt.title(u'旋转后数据')\n",
    "plt.scatter(data_r[:, 0], data_r[:, 1], c=y, s=30, cmap=cm, edgecolors='none')\n",
    "x1_min, x2_min = np.min(data_r, axis=0)\n",
    "x1_max, x2_max = np.max(data_r, axis=0)\n",
    "x1_min, x1_max = expand(x1_min, x1_max)\n",
    "x2_min, x2_max = expand(x2_min, x2_max)\n",
    "plt.xlim((x1_min, x1_max))\n",
    "plt.ylim((x2_min, x2_max))\n",
    "plt.grid(True)\n",
    "\n",
    "plt.subplot(424)\n",
    "plt.title(u'旋转后KMeans++聚类')\n",
    "plt.scatter(data_r[:, 0],\n",
    "            data_r[:, 1],\n",
    "            c=y_r_hat,\n",
    "            s=30,\n",
    "            cmap=cm,\n",
    "            edgecolors='none')\n",
    "plt.xlim((x1_min, x1_max))\n",
    "plt.ylim((x2_min, x2_max))\n",
    "plt.grid(True)\n",
    "\n",
    "plt.subplot(425)\n",
    "plt.title(u'方差不相等数据')\n",
    "plt.scatter(data2[:, 0], data2[:, 1], c=y2, s=30, cmap=cm, edgecolors='none')\n",
    "x1_min, x2_min = np.min(data2, axis=0)\n",
    "x1_max, x2_max = np.max(data2, axis=0)\n",
    "x1_min, x1_max = expand(x1_min, x1_max)\n",
    "x2_min, x2_max = expand(x2_min, x2_max)\n",
    "plt.xlim((x1_min, x1_max))\n",
    "plt.ylim((x2_min, x2_max))\n",
    "plt.grid(True)\n",
    "\n",
    "plt.subplot(426)\n",
    "plt.title(u'方差不相等KMeans++聚类')\n",
    "plt.scatter(data2[:, 0],\n",
    "            data2[:, 1],\n",
    "            c=y2_hat,\n",
    "            s=30,\n",
    "            cmap=cm,\n",
    "            edgecolors='none')\n",
    "plt.xlim((x1_min, x1_max))\n",
    "plt.ylim((x2_min, x2_max))\n",
    "plt.grid(True)\n",
    "\n",
    "plt.subplot(427)\n",
    "plt.title(u'数量不相等数据')\n",
    "plt.scatter(data3[:, 0], data3[:, 1], s=30, c=y3, cmap=cm, edgecolors='none')\n",
    "x1_min, x2_min = np.min(data3, axis=0)\n",
    "x1_max, x2_max = np.max(data3, axis=0)\n",
    "x1_min, x1_max = expand(x1_min, x1_max)\n",
    "x2_min, x2_max = expand(x2_min, x2_max)\n",
    "plt.xlim((x1_min, x1_max))\n",
    "plt.ylim((x2_min, x2_max))\n",
    "plt.grid(True)\n",
    "\n",
    "plt.subplot(428)\n",
    "plt.title(u'数量不相等KMeans++聚类')\n",
    "plt.scatter(data3[:, 0],\n",
    "            data3[:, 1],\n",
    "            c=y3_hat,\n",
    "            s=30,\n",
    "            cmap=cm,\n",
    "            edgecolors='none')\n",
    "plt.xlim((x1_min, x1_max))\n",
    "plt.ylim((x2_min, x2_max))\n",
    "plt.grid(True)\n",
    "\n",
    "plt.tight_layout(2)\n",
    "plt.suptitle(u'数据分布对KMeans聚类的影响', fontsize=18)\n",
    "# https://github.com/matplotlib/matplotlib/issues/829\n",
    "plt.subplots_adjust(top=0.92)\n",
    "# plt.show()"
   ]
  },
  {
   "cell_type": "markdown",
   "metadata": {
    "collapsed": true
   },
   "source": [
    "my kmean code"
   ]
  },
  {
   "cell_type": "code",
   "execution_count": 29,
   "metadata": {
    "ExecuteTime": {
     "end_time": "2020-06-08T07:18:43.295837Z",
     "start_time": "2020-06-08T07:18:43.285837Z"
    },
    "collapsed": true
   },
   "outputs": [],
   "source": [
    "def points_dist(x1,x2,p=2):\n",
    "    return np.sqrt((x1[0]-x2[0])**2+(x1[1]-x2[1])**2)"
   ]
  },
  {
   "cell_type": "code",
   "execution_count": 54,
   "metadata": {
    "ExecuteTime": {
     "end_time": "2020-06-09T01:57:38.727764Z",
     "start_time": "2020-06-09T01:57:38.661761Z"
    }
   },
   "outputs": [
    {
     "name": "stdout",
     "output_type": "stream",
     "text": [
      "x1: [-2 -5 -2 -5]\n",
      "x2: [-9 -9 -3 -3]\n"
     ]
    },
    {
     "data": {
      "text/plain": [
       "<matplotlib.collections.PathCollection at 0xde297b8>"
      ]
     },
     "execution_count": 54,
     "metadata": {},
     "output_type": "execute_result"
    }
   ],
   "source": [
    "k=4\n",
    "x1=np.random.randint(data[0].min(),data[0].max(),2)\n",
    "x2=np.random.randint(data[0].min(),data[0].max(),2)\n",
    "x1,x2=np.meshgrid(x1,x2)\n",
    "print('x1:',x1.ravel())\n",
    "print('x2:',x2.ravel())\n",
    "\n",
    "# plt.scatter(x1,x2)\n",
    "# plt.show()\n"
   ]
  },
  {
   "cell_type": "code",
   "execution_count": 55,
   "metadata": {
    "ExecuteTime": {
     "end_time": "2020-06-09T01:59:13.784201Z",
     "start_time": "2020-06-09T01:59:13.773201Z"
    }
   },
   "outputs": [
    {
     "data": {
      "text/plain": [
       "array([-2, -5, -2, -5])"
      ]
     },
     "execution_count": 55,
     "metadata": {},
     "output_type": "execute_result"
    }
   ],
   "source": [
    "x1.flatten()"
   ]
  },
  {
   "cell_type": "code",
   "execution_count": 61,
   "metadata": {
    "ExecuteTime": {
     "end_time": "2020-06-09T02:16:19.196852Z",
     "start_time": "2020-06-09T02:16:19.172850Z"
    }
   },
   "outputs": [
    {
     "data": {
      "text/plain": [
       "[5,\n",
       " 2,\n",
       " 4,\n",
       " 5,\n",
       " 5,\n",
       " 5,\n",
       " 5,\n",
       " 5,\n",
       " 5,\n",
       " 5,\n",
       " 5,\n",
       " 5,\n",
       " 5,\n",
       " 5,\n",
       " 5,\n",
       " 5,\n",
       " 5,\n",
       " 5,\n",
       " 5,\n",
       " 5,\n",
       " 5,\n",
       " 5,\n",
       " 5,\n",
       " 5,\n",
       " 5,\n",
       " 5,\n",
       " 5,\n",
       " 5,\n",
       " 5,\n",
       " 5,\n",
       " 5,\n",
       " 5,\n",
       " 5,\n",
       " 5,\n",
       " 5,\n",
       " 5,\n",
       " 5,\n",
       " 5,\n",
       " 5,\n",
       " 5,\n",
       " 5,\n",
       " 5,\n",
       " 5,\n",
       " 5,\n",
       " 5,\n",
       " 5,\n",
       " 5,\n",
       " 5,\n",
       " 5,\n",
       " 5,\n",
       " 5,\n",
       " 5,\n",
       " 5,\n",
       " 5,\n",
       " 5,\n",
       " 5,\n",
       " 5,\n",
       " 5,\n",
       " 5,\n",
       " 5,\n",
       " 5,\n",
       " 5,\n",
       " 5,\n",
       " 5,\n",
       " 5,\n",
       " 5,\n",
       " 5,\n",
       " 5,\n",
       " 5,\n",
       " 5,\n",
       " 5,\n",
       " 5,\n",
       " 5,\n",
       " 5,\n",
       " 5,\n",
       " 5,\n",
       " 5,\n",
       " 5,\n",
       " 5,\n",
       " 5,\n",
       " 5,\n",
       " 5,\n",
       " 5,\n",
       " 5,\n",
       " 5,\n",
       " 5,\n",
       " 5,\n",
       " 5,\n",
       " 5,\n",
       " 5,\n",
       " 5,\n",
       " 5,\n",
       " 5,\n",
       " 5,\n",
       " 5,\n",
       " 5,\n",
       " 5,\n",
       " 5,\n",
       " 5,\n",
       " 5,\n",
       " 5,\n",
       " 5,\n",
       " 5,\n",
       " 5,\n",
       " 5,\n",
       " 5,\n",
       " 5,\n",
       " 5,\n",
       " 5,\n",
       " 5,\n",
       " 5,\n",
       " 5,\n",
       " 5,\n",
       " 5,\n",
       " 5,\n",
       " 5,\n",
       " 5,\n",
       " 5,\n",
       " 5,\n",
       " 5,\n",
       " 5,\n",
       " 5,\n",
       " 5,\n",
       " 5,\n",
       " 5,\n",
       " 5,\n",
       " 5,\n",
       " 5,\n",
       " 5,\n",
       " 5,\n",
       " 5,\n",
       " 5,\n",
       " 5,\n",
       " 5,\n",
       " 5,\n",
       " 5,\n",
       " 5,\n",
       " 5,\n",
       " 5,\n",
       " 5,\n",
       " 5,\n",
       " 5,\n",
       " 5,\n",
       " 5,\n",
       " 5,\n",
       " 5,\n",
       " 5,\n",
       " 5,\n",
       " 5,\n",
       " 5,\n",
       " 5,\n",
       " 5,\n",
       " 5,\n",
       " 5,\n",
       " 5,\n",
       " 5,\n",
       " 5,\n",
       " 5,\n",
       " 5,\n",
       " 5,\n",
       " 5,\n",
       " 5,\n",
       " 5,\n",
       " 5,\n",
       " 5,\n",
       " 5,\n",
       " 5,\n",
       " 5,\n",
       " 5,\n",
       " 5,\n",
       " 5,\n",
       " 5,\n",
       " 5,\n",
       " 5,\n",
       " 5,\n",
       " 5,\n",
       " 5,\n",
       " 5,\n",
       " 5,\n",
       " 5,\n",
       " 5,\n",
       " 5,\n",
       " 5,\n",
       " 5,\n",
       " 5,\n",
       " 5,\n",
       " 5,\n",
       " 5,\n",
       " 5,\n",
       " 5,\n",
       " 5,\n",
       " 5,\n",
       " 5,\n",
       " 5,\n",
       " 5,\n",
       " 5,\n",
       " 5,\n",
       " 5,\n",
       " 5,\n",
       " 5,\n",
       " 5,\n",
       " 5,\n",
       " 5,\n",
       " 5,\n",
       " 5,\n",
       " 5,\n",
       " 5,\n",
       " 5,\n",
       " 5,\n",
       " 5,\n",
       " 5,\n",
       " 5,\n",
       " 5,\n",
       " 5,\n",
       " 5,\n",
       " 5,\n",
       " 5,\n",
       " 5,\n",
       " 5,\n",
       " 5,\n",
       " 5,\n",
       " 5,\n",
       " 5,\n",
       " 5,\n",
       " 5,\n",
       " 5,\n",
       " 5,\n",
       " 5,\n",
       " 5,\n",
       " 5,\n",
       " 5,\n",
       " 5,\n",
       " 5,\n",
       " 5,\n",
       " 5,\n",
       " 5,\n",
       " 5,\n",
       " 5,\n",
       " 5,\n",
       " 5,\n",
       " 5,\n",
       " 5,\n",
       " 5,\n",
       " 5,\n",
       " 5,\n",
       " 5,\n",
       " 5,\n",
       " 5,\n",
       " 5,\n",
       " 5,\n",
       " 5,\n",
       " 5,\n",
       " 5,\n",
       " 5,\n",
       " 5,\n",
       " 5,\n",
       " 5,\n",
       " 5,\n",
       " 5,\n",
       " 5,\n",
       " 5,\n",
       " 5,\n",
       " 5,\n",
       " 5,\n",
       " 5,\n",
       " 5,\n",
       " 5,\n",
       " 5,\n",
       " 5,\n",
       " 5,\n",
       " 5,\n",
       " 5,\n",
       " 5,\n",
       " 5,\n",
       " 5,\n",
       " 5,\n",
       " 5,\n",
       " 5,\n",
       " 5,\n",
       " 5,\n",
       " 5,\n",
       " 5,\n",
       " 5,\n",
       " 5,\n",
       " 5,\n",
       " 5,\n",
       " 5,\n",
       " 5,\n",
       " 5,\n",
       " 5,\n",
       " 5,\n",
       " 5,\n",
       " 5,\n",
       " 5,\n",
       " 5,\n",
       " 5,\n",
       " 5,\n",
       " 5,\n",
       " 5,\n",
       " 5,\n",
       " 5,\n",
       " 5,\n",
       " 5,\n",
       " 5,\n",
       " 5,\n",
       " 5,\n",
       " 5,\n",
       " 5,\n",
       " 5,\n",
       " 5,\n",
       " 5,\n",
       " 5,\n",
       " 5,\n",
       " 5,\n",
       " 5,\n",
       " 5,\n",
       " 5,\n",
       " 5,\n",
       " 5,\n",
       " 5,\n",
       " 5,\n",
       " 5,\n",
       " 5,\n",
       " 5,\n",
       " 5,\n",
       " 5,\n",
       " 5,\n",
       " 5,\n",
       " 5,\n",
       " 5,\n",
       " 5,\n",
       " 5,\n",
       " 5,\n",
       " 5,\n",
       " 5,\n",
       " 5,\n",
       " 5,\n",
       " 5,\n",
       " 5,\n",
       " 5,\n",
       " 5,\n",
       " 5,\n",
       " 5,\n",
       " 5,\n",
       " 5,\n",
       " 5,\n",
       " 5,\n",
       " 5,\n",
       " 5,\n",
       " 5,\n",
       " 5,\n",
       " 5,\n",
       " 5,\n",
       " 5,\n",
       " 5,\n",
       " 5,\n",
       " 5,\n",
       " 5,\n",
       " 5,\n",
       " 5,\n",
       " 5,\n",
       " 5,\n",
       " 5,\n",
       " 5,\n",
       " 5,\n",
       " 5,\n",
       " 5,\n",
       " 5,\n",
       " 5,\n",
       " 5,\n",
       " 5,\n",
       " 5,\n",
       " 5,\n",
       " 5,\n",
       " 5,\n",
       " 5,\n",
       " 5,\n",
       " 5,\n",
       " 5,\n",
       " 5,\n",
       " 5,\n",
       " 5,\n",
       " 5,\n",
       " 5,\n",
       " 5,\n",
       " 5,\n",
       " 5,\n",
       " 5,\n",
       " 5,\n",
       " 5,\n",
       " 5,\n",
       " 5,\n",
       " 5,\n",
       " 5,\n",
       " 5,\n",
       " 5,\n",
       " 5,\n",
       " 5,\n",
       " 5,\n",
       " 5]"
      ]
     },
     "execution_count": 61,
     "metadata": {},
     "output_type": "execute_result"
    }
   ],
   "source": [
    "aa=[5]*len(data)\n",
    "aa[1]=2\n",
    "aa[2]=4\n",
    "aa"
   ]
  },
  {
   "cell_type": "code",
   "execution_count": 58,
   "metadata": {
    "ExecuteTime": {
     "end_time": "2020-06-09T02:06:21.479664Z",
     "start_time": "2020-06-09T02:06:21.470664Z"
    }
   },
   "outputs": [],
   "source": [
    "x41=x1.ravel()\n",
    "x42=x2.ravel()\n",
    "y4=y"
   ]
  },
  {
   "cell_type": "code",
   "execution_count": null,
   "metadata": {
    "collapsed": true
   },
   "outputs": [],
   "source": [
    "points_dist((x41[0],x42[0]),(data[j][0],data[j][1]))"
   ]
  },
  {
   "cell_type": "code",
   "execution_count": 109,
   "metadata": {
    "ExecuteTime": {
     "end_time": "2020-06-09T03:23:47.844421Z",
     "start_time": "2020-06-09T03:23:47.834420Z"
    }
   },
   "outputs": [
    {
     "data": {
      "text/plain": [
       "array([[5, 5, 5],\n",
       "       [5, 5, 5],\n",
       "       [5, 5, 5],\n",
       "       ..., \n",
       "       [5, 5, 5],\n",
       "       [5, 5, 5],\n",
       "       [5, 5, 5]])"
      ]
     },
     "execution_count": 109,
     "metadata": {},
     "output_type": "execute_result"
    }
   ],
   "source": [
    "y4_hat=np.array([5,5,5]*len(data))\n",
    "y4_hat=y4_hat.reshape((len(data),3))\n",
    "y4_hat"
   ]
  },
  {
   "cell_type": "code",
   "execution_count": 137,
   "metadata": {
    "ExecuteTime": {
     "end_time": "2020-06-09T06:23:59.246798Z",
     "start_time": "2020-06-09T06:23:59.207796Z"
    }
   },
   "outputs": [],
   "source": [
    "y4_hat=np.array([5.0,5.0,5.0,5.0]*len(data))\n",
    "y4_hat=y4_hat.reshape((len(data),4))\n",
    "for j in range(len(data)):\n",
    "    dist2=100\n",
    "    for i in range(k):\n",
    "        dist1=points_dist((x41[i],x42[i]),(data[j][0],data[j][1]))\n",
    "        if dist1<dist2:\n",
    "            dist2=dist1\n",
    "            y4_hat[j]=[j,i,dist2,100]"
   ]
  },
  {
   "cell_type": "code",
   "execution_count": 138,
   "metadata": {
    "ExecuteTime": {
     "end_time": "2020-06-09T06:24:00.896892Z",
     "start_time": "2020-06-09T06:24:00.886892Z"
    }
   },
   "outputs": [
    {
     "data": {
      "text/plain": [
       "array([[   0.        ,    0.        ,    1.41052824,  100.        ],\n",
       "       [   1.        ,    3.        ,    4.21059091,  100.        ],\n",
       "       [   2.        ,    0.        ,    1.39030159,  100.        ],\n",
       "       ..., \n",
       "       [ 397.        ,    2.        ,    0.76975024,  100.        ],\n",
       "       [ 398.        ,    2.        ,    3.12996002,  100.        ],\n",
       "       [ 399.        ,    2.        ,    5.07639619,  100.        ]])"
      ]
     },
     "execution_count": 138,
     "metadata": {},
     "output_type": "execute_result"
    }
   ],
   "source": [
    "y4_hat"
   ]
  },
  {
   "cell_type": "code",
   "execution_count": 187,
   "metadata": {
    "ExecuteTime": {
     "end_time": "2020-06-09T07:08:01.372919Z",
     "start_time": "2020-06-09T07:08:01.364918Z"
    }
   },
   "outputs": [
    {
     "data": {
      "text/plain": [
       "array([[   0.        ,    1.48420675,  100.        ],\n",
       "       [   1.        ,    1.27115412,  100.        ],\n",
       "       [   2.        ,    2.53253168,  100.        ],\n",
       "       [   3.        ,    5.35552827,  100.        ]])"
      ]
     },
     "execution_count": 187,
     "metadata": {},
     "output_type": "execute_result"
    }
   ],
   "source": [
    "avg_dist=[100.0,100.0,100.0]*k\n",
    "avg_dist=np.array(avg_dist).reshape(k,3)\n",
    "for i in range(k):\n",
    "    t_dist=np.average(y4_hat[np.array(y4_hat)[:,1]==i,2])\n",
    "    avg_dist[i]=[i,t_dist,100.0]\n",
    "avg_dist\n",
    "    "
   ]
  },
  {
   "cell_type": "code",
   "execution_count": 145,
   "metadata": {
    "ExecuteTime": {
     "end_time": "2020-06-09T06:30:59.406830Z",
     "start_time": "2020-06-09T06:30:59.387829Z"
    }
   },
   "outputs": [],
   "source": [
    "for i in range(len(data)):\n",
    "    for j in avg_dist:\n",
    "        if j[0]==y4_hat[i,1]:\n",
    "            y4_hat[i,3]=abs(y4_hat[i,2]-j[1])\n",
    "            "
   ]
  },
  {
   "cell_type": "code",
   "execution_count": 198,
   "metadata": {
    "ExecuteTime": {
     "end_time": "2020-06-09T07:12:09.155091Z",
     "start_time": "2020-06-09T07:12:09.136090Z"
    }
   },
   "outputs": [
    {
     "data": {
      "text/plain": [
       "array([[   0.        ,    1.48420675,  393.        ],\n",
       "       [   1.        ,    1.27115412,   26.        ],\n",
       "       [   2.        ,    2.53253168,  117.        ],\n",
       "       [   3.        ,    5.35552827,   11.        ]])"
      ]
     },
     "execution_count": 198,
     "metadata": {},
     "output_type": "execute_result"
    }
   ],
   "source": [
    "for j in range(k):\n",
    "    avg_dist[j,2]=np.where(y4_hat[:,3]==np.sort(y4_hat[y4_hat[:,1]==j,3])[0])[0][0]\n",
    "avg_dist    "
   ]
  },
  {
   "cell_type": "code",
   "execution_count": 202,
   "metadata": {
    "ExecuteTime": {
     "end_time": "2020-06-09T07:25:01.828286Z",
     "start_time": "2020-06-09T07:25:01.817285Z"
    }
   },
   "outputs": [
    {
     "data": {
      "text/plain": [
       "393.0"
      ]
     },
     "execution_count": 202,
     "metadata": {},
     "output_type": "execute_result"
    }
   ],
   "source": [
    "avg_dist[0,2]"
   ]
  },
  {
   "cell_type": "code",
   "execution_count": 203,
   "metadata": {
    "ExecuteTime": {
     "end_time": "2020-06-09T07:25:35.840231Z",
     "start_time": "2020-06-09T07:25:35.831230Z"
    }
   },
   "outputs": [
    {
     "data": {
      "text/plain": [
       "array([-0.58390398, -8.78405909])"
      ]
     },
     "execution_count": 203,
     "metadata": {},
     "output_type": "execute_result"
    }
   ],
   "source": [
    "data[int(avg_dist[0,2]),:2]"
   ]
  },
  {
   "cell_type": "code",
   "execution_count": 204,
   "metadata": {
    "ExecuteTime": {
     "end_time": "2020-06-09T07:26:02.819774Z",
     "start_time": "2020-06-09T07:26:02.785772Z"
    }
   },
   "outputs": [],
   "source": [
    "for j in range(len(data)):\n",
    "    for i in range(k):\n",
    "        dist1=points_dist(data[int(avg_dist[i,2]),:2],(data[j][0],data[j][1]))\n",
    "        if dist1<avg_dist[i,1]:\n",
    "            dist2=dist1\n",
    "            y4_hat[j]=[j,i,dist2,100]"
   ]
  },
  {
   "cell_type": "code",
   "execution_count": 205,
   "metadata": {
    "ExecuteTime": {
     "end_time": "2020-06-09T07:26:06.991013Z",
     "start_time": "2020-06-09T07:26:06.982012Z"
    }
   },
   "outputs": [
    {
     "data": {
      "text/plain": [
       "array([[  0.00000000e+00,   0.00000000e+00,   1.41052824e+00,\n",
       "          7.36785092e-02],\n",
       "       [  1.00000000e+00,   3.00000000e+00,   1.14365328e+00,\n",
       "          1.00000000e+02],\n",
       "       [  2.00000000e+00,   1.00000000e+00,   4.00006096e-01,\n",
       "          1.00000000e+02],\n",
       "       ..., \n",
       "       [  3.97000000e+02,   2.00000000e+00,   1.78003077e+00,\n",
       "          1.00000000e+02],\n",
       "       [  3.98000000e+02,   2.00000000e+00,   3.12996002e+00,\n",
       "          5.97428344e-01],\n",
       "       [  3.99000000e+02,   2.00000000e+00,   5.07639619e+00,\n",
       "          2.54386451e+00]])"
      ]
     },
     "execution_count": 205,
     "metadata": {},
     "output_type": "execute_result"
    }
   ],
   "source": [
    "y4_hat"
   ]
  },
  {
   "cell_type": "code",
   "execution_count": null,
   "metadata": {
    "collapsed": true
   },
   "outputs": [],
   "source": []
  }
 ],
 "metadata": {
  "kernelspec": {
   "display_name": "Python 3",
   "language": "python",
   "name": "python3"
  },
  "language_info": {
   "codemirror_mode": {
    "name": "ipython",
    "version": 3
   },
   "file_extension": ".py",
   "mimetype": "text/x-python",
   "name": "python",
   "nbconvert_exporter": "python",
   "pygments_lexer": "ipython3",
   "version": "3.6.3"
  }
 },
 "nbformat": 4,
 "nbformat_minor": 2
}
