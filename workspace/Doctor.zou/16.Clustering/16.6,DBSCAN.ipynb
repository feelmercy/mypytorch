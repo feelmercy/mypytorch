{
 "cells": [
  {
   "cell_type": "code",
   "execution_count": 2,
   "metadata": {
    "ExecuteTime": {
     "end_time": "2020-07-13T06:42:44.422041Z",
     "start_time": "2020-07-13T06:42:42.622938Z"
    }
   },
   "outputs": [
    {
     "name": "stdout",
     "output_type": "stream",
     "text": [
      "Using matplotlib backend: Qt5Agg\n"
     ]
    }
   ],
   "source": [
    "import numpy as np\n",
    "import matplotlib.pyplot as plt\n",
    "import sklearn.datasets as ds\n",
    "import matplotlib.colors\n",
    "from sklearn.cluster import DBSCAN\n",
    "from sklearn.preprocessing import StandardScaler\n",
    "%matplotlib auto\n",
    "matplotlib.rcParams['font.sans-serif'] = [u'SimHei']\n",
    "matplotlib.rcParams['axes.unicode_minus'] = False"
   ]
  },
  {
   "cell_type": "code",
   "execution_count": 17,
   "metadata": {
    "ExecuteTime": {
     "end_time": "2020-07-13T07:16:59.382578Z",
     "start_time": "2020-07-13T07:16:59.378578Z"
    },
    "collapsed": true
   },
   "outputs": [],
   "source": [
    "def expand(a,b):\n",
    "    d=(b-a) *0.1\n",
    "    return a-d,b+d"
   ]
  },
  {
   "cell_type": "code",
   "execution_count": 18,
   "metadata": {
    "ExecuteTime": {
     "end_time": "2020-07-13T07:17:00.193624Z",
     "start_time": "2020-07-13T07:17:00.176623Z"
    }
   },
   "outputs": [],
   "source": [
    "N = 1000\n",
    "centers = [[1, 2], [-1, -1], [1, -1], [-1, 1]]\n",
    "data, y = ds.make_blobs(N,\n",
    "                        n_features=2,\n",
    "                        centers=centers,\n",
    "                        cluster_std=[0.5, 0.25, 0.7, 0.5],\n",
    "                        random_state=0)\n",
    "data=StandardScaler().fit_transform(data)\n",
    "params = ((0.2, 5), (0.2, 10), (0.2, 15), (0.3, 5), (0.3, 10), (0.3, 15))"
   ]
  },
  {
   "cell_type": "code",
   "execution_count": 20,
   "metadata": {
    "ExecuteTime": {
     "end_time": "2020-07-13T07:17:25.492071Z",
     "start_time": "2020-07-13T07:17:25.055046Z"
    }
   },
   "outputs": [],
   "source": [
    "plt.figure(figsize=(12, 8), facecolor='w')\n",
    "plt.suptitle(u'DBSCAN聚类', fontsize=20)\n",
    "for i in range(6):\n",
    "    eps, min_samples = params[i]\n",
    "    model = DBSCAN(eps=eps, min_samples=min_samples)\n",
    "    model.fit(data)\n",
    "    y_hat = model.labels_\n",
    "\n",
    "    core_indices = np.zeros_like(y_hat, dtype=bool)\n",
    "    core_indices[model.core_sample_indices_] = True\n",
    "\n",
    "    y_unique = np.unique(y_hat)\n",
    "    n_clusters = y_unique.size - (1 if -1 in y_hat else 0)\n",
    "\n",
    "    plt.subplot(2, 3, i + 1)\n",
    "    clrs = plt.cm.Spectral(np.linspace(0, 0.8, y_unique.size))\n",
    "\n",
    "    for k, clr in zip(y_unique, clrs):\n",
    "        cur = (y_hat == k)\n",
    "        if k == -1:\n",
    "            plt.scatter(data[cur, 0], data[cur, 1], s=20, c='k')\n",
    "            continue\n",
    "        plt.scatter(data[cur, 0], data[cur, 1], s=30, c=clr, edgecolors='k')\n",
    "        plt.scatter(data[cur & core_indices][:, 0],\n",
    "                    data[cur & core_indices][:, 1],\n",
    "                    s=60,\n",
    "                    c=clr,\n",
    "                    marker='o',\n",
    "                    edgecolors='k')\n",
    "    x1_min, x2_min = np.min(data, axis=0)\n",
    "    x1_max, x2_max = np.max(data, axis=0)\n",
    "    x1_min, x1_max = expand(x1_min, x1_max)\n",
    "    x2_min, x2_max = expand(x2_min, x2_max)\n",
    "    plt.xlim((x1_min, x1_max))\n",
    "    plt.ylim((x2_min, x2_max))\n",
    "    plt.grid(True)\n",
    "    plt.title(u'eps = %.1f  m = %d，num of clusters：%d' %  \n",
    "              (eps, min_samples, n_clusters),\n",
    "              fontsize=16)\n",
    "plt.tight_layout()\n",
    "plt.subplots_adjust(top=0.9)\n",
    "plt.show()"
   ]
  },
  {
   "cell_type": "code",
   "execution_count": null,
   "metadata": {
    "collapsed": true
   },
   "outputs": [],
   "source": []
  }
 ],
 "metadata": {
  "kernelspec": {
   "display_name": "Python 3",
   "language": "python",
   "name": "python3"
  },
  "language_info": {
   "codemirror_mode": {
    "name": "ipython",
    "version": 3
   },
   "file_extension": ".py",
   "mimetype": "text/x-python",
   "name": "python",
   "nbconvert_exporter": "python",
   "pygments_lexer": "ipython3",
   "version": "3.6.3"
  }
 },
 "nbformat": 4,
 "nbformat_minor": 2
}
