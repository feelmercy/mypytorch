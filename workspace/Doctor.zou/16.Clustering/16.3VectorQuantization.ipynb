{
 "cells": [
  {
   "cell_type": "code",
   "execution_count": 4,
   "metadata": {
    "ExecuteTime": {
     "end_time": "2020-06-29T07:35:44.878205Z",
     "start_time": "2020-06-29T07:35:44.872205Z"
    },
    "collapsed": true
   },
   "outputs": [],
   "source": [
    "from PIL import Image\n",
    "import numpy as np\n",
    "from sklearn.cluster import KMeans\n",
    "import matplotlib\n",
    "import matplotlib.pyplot as plt\n",
    "from mpl_toolkits.mplot3d import Axes3D"
   ]
  },
  {
   "cell_type": "code",
   "execution_count": 9,
   "metadata": {
    "ExecuteTime": {
     "end_time": "2020-06-29T07:36:33.409981Z",
     "start_time": "2020-06-29T07:36:33.391980Z"
    },
    "collapsed": true
   },
   "outputs": [],
   "source": [
    "def restore_image(cb,cluster,shape):\n",
    "    row,col,dummy=shape\n",
    "    image=np.empty((row,col,3))\n",
    "    index=0\n",
    "    for r in range(row):\n",
    "        for c in range(col):\n",
    "            image[r,c]=cb[cluster[index]]\n",
    "    return image"
   ]
  },
  {
   "cell_type": "code",
   "execution_count": 12,
   "metadata": {
    "ExecuteTime": {
     "end_time": "2020-06-29T07:39:16.102287Z",
     "start_time": "2020-06-29T07:39:16.032283Z"
    },
    "collapsed": true
   },
   "outputs": [],
   "source": [
    "def show_scatter(a):\n",
    "    N=10\n",
    "    print('original data')\n",
    "    density,edges=np.histogramdd(a,bins=[N,N,N],range=[(0,1),(0,1),(0,1)])\n",
    "    density/=density.max()\n",
    "    x=y=z=np.arange(N)\n",
    "    d=np.meshgrid(x,y,z)\n",
    "    \n",
    "    fig=plt.figure(1,facecolor='w')\n",
    "    ax=fig.add_subplot(111,projection='3d')\n",
    "    ax.scatter(d[1],d[0],d[2],c='r',s=100*density,marker='o',depthshade=True)\n",
    "    ax.set_xlabel('red')\n",
    "    ax.set_ylabel('green')\n",
    "    ax.set_zlabel('blue')\n",
    "    plt.title('3d frequency dist',fontsize=20)\n",
    "    \n",
    "    plt.figure(2,facecolor='w')\n",
    "    den=density[density>0]\n",
    "    den=np.sort(den)[::-1]\n",
    "    t=np.arange(len(den))\n",
    "    plt.plot(t,den,'r-',t,den,'go',lw=2)\n",
    "    plt.title('color dist',fontsize=18)\n",
    "    plt.grid(True)\n",
    "    plt.show()\n",
    "    "
   ]
  },
  {
   "cell_type": "code",
   "execution_count": 13,
   "metadata": {
    "ExecuteTime": {
     "end_time": "2020-06-29T07:39:17.094343Z",
     "start_time": "2020-06-29T07:39:16.285297Z"
    }
   },
   "outputs": [
    {
     "name": "stdout",
     "output_type": "stream",
     "text": [
      "original data\n",
      "knn result: [25 45 45 ..., 34 34 17]\n",
      "knn center: [[ 0.81176471  0.37664884  0.36993464]\n",
      " [ 0.34117647  0.08280112  0.25030812]\n",
      " [ 0.86718954  0.70352941  0.63947712]\n",
      " [ 0.54070588  0.17066667  0.26807843]\n",
      " [ 0.83006536  0.56372549  0.51699346]\n",
      " [ 0.6459893   0.30231729  0.35579323]\n",
      " [ 0.86666667  0.4713352   0.46610644]\n",
      " [ 0.93906486  0.82835596  0.77013575]\n",
      " [ 0.74732026  0.47712418  0.46      ]\n",
      " [ 0.37201426  0.12228164  0.31229947]\n",
      " [ 0.48698752  0.23529412  0.41212121]\n",
      " [ 0.85754011  0.41989305  0.39622103]\n",
      " [ 0.65505882  0.24611765  0.30086275]\n",
      " [ 0.57611408  0.31871658  0.50409982]\n",
      " [ 0.9260311   0.60649087  0.47532116]\n",
      " [ 0.96392157  0.74352941  0.56235294]\n",
      " [ 0.74291939  0.59041394  0.63398693]\n",
      " [ 0.72563544  0.32229484  0.34829339]\n",
      " [ 0.44475997  0.13590264  0.26423259]\n",
      " [ 0.9122807   0.77234262  0.72776058]\n",
      " [ 0.80392157  0.60735294  0.57279412]\n",
      " [ 0.88581315  0.60484429  0.55732411]\n",
      " [ 0.38996808  0.09037848  0.23246694]\n",
      " [ 0.54024276  0.22819795  0.31596639]\n",
      " [ 0.71146305  0.29019608  0.3254902 ]\n",
      " [ 0.89986928  0.53620915  0.44862745]\n",
      " [ 0.61411765  0.42745098  0.62196078]\n",
      " [ 0.9504902   0.80367647  0.60808824]\n",
      " [ 0.81415175  0.4228474   0.44654731]\n",
      " [ 0.94836601  0.72189542  0.65882353]\n",
      " [ 0.75076253  0.36993464  0.39019608]\n",
      " [ 0.29542484  0.09978214  0.28932462]\n",
      " [ 0.87832538  0.48192899  0.41738209]\n",
      " [ 0.80568627  0.53088235  0.4904902 ]\n",
      " [ 0.69165266  0.26789916  0.31137255]\n",
      " [ 0.58039216  0.28267974  0.35228758]\n",
      " [ 0.93529412  0.70784314  0.5027451 ]\n",
      " [ 0.49150327  0.30196078  0.50522876]\n",
      " [ 0.49019608  0.04313725  0.0745098 ]\n",
      " [ 0.60784314  0.21921569  0.29098039]\n",
      " [ 0.63660131  0.47973856  0.51503268]\n",
      " [ 0.68117647  0.3854902   0.41372549]\n",
      " [ 0.32592593  0.05054466  0.20544662]\n",
      " [ 0.87703081  0.73277311  0.69327731]\n",
      " [ 0.44488017  0.18823529  0.35424837]\n",
      " [ 0.88161765  0.54068627  0.52598039]\n",
      " [ 0.89240196  0.65196078  0.5995098 ]\n",
      " [ 0.84509804  0.59215686  0.38039216]\n",
      " [ 0.7852549   0.33160784  0.33662745]\n",
      " [ 0.78970588  0.46666667  0.51519608]]\n"
     ]
    }
   ],
   "source": [
    "num_vq=50\n",
    "im=Image.open(r\"F:\\study\\ml\\DoctorZou\\16KNN_II\\16.代码\\16.Clustering\\16.Lena.png\")\n",
    "image=np.array(im).astype(np.float)/255\n",
    "image=image[:,:,:3]\n",
    "image_v=image.reshape((-1,3))\n",
    "model=KMeans(num_vq)\n",
    "show_scatter(image_v)\n",
    "\n",
    "N=image_v.shape[0]\n",
    "idx=np.random.randint(0,N,size=1000)\n",
    "image_sample=image_v[idx]\n",
    "model.fit(image_sample)\n",
    "c=model.predict(image_v)\n",
    "print('knn result:',c)\n",
    "print('knn center:',model.cluster_centers_)\n",
    "\n",
    "plt.subplot(121)\n",
    "plt.axis('off')\n",
    "plt.title('original image ')\n",
    "plt.imshow(image)\n",
    "\n",
    "plt.subplot(122)\n",
    "vq_image=restore_image(model.cluster_centers_,c,image.shape)\n",
    "plt.axis('off')\n",
    "plt.title('quantization image : %d ' % num_vq)\n",
    "plt.imshow(vq_image)\n",
    "\n",
    "plt.tight_layout(1.2)\n",
    "# plt.show()"
   ]
  },
  {
   "cell_type": "code",
   "execution_count": null,
   "metadata": {
    "collapsed": true
   },
   "outputs": [],
   "source": []
  }
 ],
 "metadata": {
  "kernelspec": {
   "display_name": "Python 3",
   "language": "python",
   "name": "python3"
  },
  "language_info": {
   "codemirror_mode": {
    "name": "ipython",
    "version": 3
   },
   "file_extension": ".py",
   "mimetype": "text/x-python",
   "name": "python",
   "nbconvert_exporter": "python",
   "pygments_lexer": "ipython3",
   "version": "3.6.3"
  }
 },
 "nbformat": 4,
 "nbformat_minor": 2
}
