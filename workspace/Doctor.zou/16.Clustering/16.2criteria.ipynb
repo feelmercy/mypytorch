{
 "cells": [
  {
   "cell_type": "code",
   "execution_count": 1,
   "metadata": {
    "ExecuteTime": {
     "end_time": "2020-06-18T07:09:03.851092Z",
     "start_time": "2020-06-18T07:09:01.000929Z"
    },
    "collapsed": true
   },
   "outputs": [],
   "source": [
    "from sklearn import metrics"
   ]
  },
  {
   "cell_type": "code",
   "execution_count": 2,
   "metadata": {
    "ExecuteTime": {
     "end_time": "2020-06-18T07:09:04.840148Z",
     "start_time": "2020-06-18T07:09:04.821147Z"
    }
   },
   "outputs": [
    {
     "name": "stdout",
     "output_type": "stream",
     "text": [
      "同一性(Homogeneity)： 0.666666666667\n",
      "完整性(Completeness)： 0.420619835714\n",
      "V-measure: 0.515803742979 0.515803742979\n"
     ]
    }
   ],
   "source": [
    "y=[0,0,0,1,1,1]\n",
    "y_hat=[0,0,1,1,2,2]\n",
    "h=metrics.homogeneity_score(y,y_hat)\n",
    "c=metrics.completeness_score(y,y_hat)\n",
    "print (u'同一性(Homogeneity)：', h)\n",
    "print (u'完整性(Completeness)：', c)\n",
    "v2=2*c*h/(c+h)\n",
    "v=metrics.v_measure_score(y,y_hat)\n",
    "print('V-measure:',v2,v)"
   ]
  },
  {
   "cell_type": "code",
   "execution_count": 5,
   "metadata": {
    "ExecuteTime": {
     "end_time": "2020-06-04T09:58:12.100750Z",
     "start_time": "2020-06-04T09:58:12.068748Z"
    }
   },
   "outputs": [
    {
     "name": "stdout",
     "output_type": "stream",
     "text": [
      "同一性(Homogeneity)： 1.0\n",
      "完整性(Completeness)： 0.521296028614\n",
      "V-Measure： 0.685331478962\n"
     ]
    }
   ],
   "source": [
    "print\n",
    "y = [0, 0, 0, 1, 1, 1]\n",
    "y_hat = [0, 0, 1, 2, 3, 3]\n",
    "h = metrics.homogeneity_score(y, y_hat)\n",
    "c = metrics.completeness_score(y, y_hat)\n",
    "v = metrics.v_measure_score(y, y_hat)\n",
    "print (u'同一性(Homogeneity)：', h)\n",
    "print (u'完整性(Completeness)：', c)\n",
    "print (u'V-Measure：', v)"
   ]
  },
  {
   "cell_type": "code",
   "execution_count": 6,
   "metadata": {
    "ExecuteTime": {
     "end_time": "2020-06-04T09:59:08.251961Z",
     "start_time": "2020-06-04T09:59:08.221960Z"
    }
   },
   "outputs": [
    {
     "name": "stdout",
     "output_type": "stream",
     "text": [
      "同一性(Homogeneity)： 1.0\n",
      "完整性(Completeness)： 1.0\n",
      "V-Measure： 1.0\n"
     ]
    }
   ],
   "source": [
    "y = [0, 0, 0, 1, 1, 1]\n",
    "y_hat = [1, 1, 1, 0, 0, 0]\n",
    "h = metrics.homogeneity_score(y, y_hat)\n",
    "c = metrics.completeness_score(y, y_hat)\n",
    "v = metrics.v_measure_score(y, y_hat)\n",
    "print (u'同一性(Homogeneity)：', h)\n",
    "print (u'完整性(Completeness)：', c)\n",
    "print (u'V-Measure：', v)"
   ]
  },
  {
   "cell_type": "code",
   "execution_count": 7,
   "metadata": {
    "ExecuteTime": {
     "end_time": "2020-06-04T09:59:27.349054Z",
     "start_time": "2020-06-04T09:59:27.286050Z"
    }
   },
   "outputs": [
    {
     "name": "stdout",
     "output_type": "stream",
     "text": [
      "-0.5\n"
     ]
    }
   ],
   "source": [
    "y = [0, 0, 1, 1]\n",
    "y_hat = [0, 1, 0, 1]\n",
    "ari = metrics.adjusted_rand_score(y, y_hat)\n",
    "print (ari)"
   ]
  },
  {
   "cell_type": "code",
   "execution_count": 10,
   "metadata": {
    "ExecuteTime": {
     "end_time": "2020-06-04T09:59:42.452918Z",
     "start_time": "2020-06-04T09:59:42.437917Z"
    }
   },
   "outputs": [
    {
     "name": "stdout",
     "output_type": "stream",
     "text": [
      "0.242424242424\n"
     ]
    }
   ],
   "source": [
    "y = [0, 0, 0, 1, 1, 1]\n",
    "y_hat = [0, 0, 1, 1, 2, 2]\n",
    "ari = metrics.adjusted_rand_score(y, y_hat)\n",
    "print (ari)"
   ]
  },
  {
   "cell_type": "code",
   "execution_count": null,
   "metadata": {
    "collapsed": true
   },
   "outputs": [],
   "source": []
  }
 ],
 "metadata": {
  "kernelspec": {
   "display_name": "Python 3",
   "language": "python",
   "name": "python3"
  },
  "language_info": {
   "codemirror_mode": {
    "name": "ipython",
    "version": 3
   },
   "file_extension": ".py",
   "mimetype": "text/x-python",
   "name": "python",
   "nbconvert_exporter": "python",
   "pygments_lexer": "ipython3",
   "version": "3.6.3"
  }
 },
 "nbformat": 4,
 "nbformat_minor": 2
}
