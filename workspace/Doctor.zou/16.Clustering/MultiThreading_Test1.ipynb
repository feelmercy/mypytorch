{
 "cells": [
  {
   "cell_type": "code",
   "execution_count": 1,
   "metadata": {
    "ExecuteTime": {
     "end_time": "2020-06-10T08:28:52.135164Z",
     "start_time": "2020-06-10T08:28:51.594133Z"
    }
   },
   "outputs": [],
   "source": [
    "import numpy as np\n",
    "import matplotlib.pyplot as plt\n",
    "import sklearn.datasets as ds\n",
    "import matplotlib.colors\n",
    "from sklearn.cluster import KMeans"
   ]
  },
  {
   "cell_type": "code",
   "execution_count": 11,
   "metadata": {
    "ExecuteTime": {
     "end_time": "2020-06-10T08:30:03.381239Z",
     "start_time": "2020-06-10T08:30:03.360238Z"
    },
    "collapsed": true
   },
   "outputs": [],
   "source": [
    "N = 400\n",
    "centers = 4\n",
    "data, y = ds.make_blobs(N, n_features=2, centers=centers, random_state=2)\n",
    "data2, y2 = ds.make_blobs(N,\n",
    "                          n_features=2,\n",
    "                          centers=centers,\n",
    "                          cluster_std=(1, 2.5, 0.5, 2),\n",
    "                          random_state=2)\n",
    "data3= np.vstack(\n",
    "    (data[y == 0][:], \n",
    "     data[y == 1][:50], \n",
    "     data[y == 2][:20], \n",
    "     data[y == 3][:5]))\n",
    "y3 = np.array([0] * 100 + [1] * 50 + [2] * 20 + [3] * 5)"
   ]
  },
  {
   "cell_type": "code",
   "execution_count": 8,
   "metadata": {
    "ExecuteTime": {
     "end_time": "2020-06-10T08:29:43.633109Z",
     "start_time": "2020-06-10T08:29:43.624109Z"
    },
    "collapsed": true
   },
   "outputs": [],
   "source": [
    "def points_dist(x1,x2,p=2):\n",
    "    return np.sqrt((x1[0]-x2[0])**2+(x1[1]-x2[1])**2)"
   ]
  },
  {
   "cell_type": "code",
   "execution_count": 19,
   "metadata": {
    "ExecuteTime": {
     "end_time": "2020-06-10T08:32:33.106803Z",
     "start_time": "2020-06-10T08:32:33.089802Z"
    }
   },
   "outputs": [
    {
     "name": "stdout",
     "output_type": "stream",
     "text": [
      "[103 325 143 301]\n",
      "[[ -0.58498235 -11.51494191]\n",
      " [ -0.16767692  -3.84016148]\n",
      " [ -1.87385754  -8.3319748 ]\n",
      " [ -5.40166242   3.12407116]]\n"
     ]
    }
   ],
   "source": [
    "k=4\n",
    "count_l=[1,2,3,4]\n",
    "init_l=np.random.randint(0,len(data),4)\n",
    "print(init_l)\n",
    "data2=np.array(data[init_l])\n",
    "print(data2)"
   ]
  },
  {
   "cell_type": "code",
   "execution_count": 21,
   "metadata": {
    "ExecuteTime": {
     "end_time": "2020-06-10T08:36:19.239737Z",
     "start_time": "2020-06-10T08:36:19.035725Z"
    }
   },
   "outputs": [
    {
     "name": "stdout",
     "output_type": "stream",
     "text": [
      "1 0.7075\n",
      "[71, 188, 41, 100]\n",
      "[71, 188, 41, 100]\n",
      "1\n",
      "----\n",
      "2 0.745\n",
      "[79, 181, 40, 100]\n",
      "[79, 181, 40, 100]\n",
      "2\n",
      "----\n",
      "3 0.7975\n",
      "[89, 170, 41, 100]\n",
      "[89, 170, 41, 100]\n",
      "3\n",
      "----\n",
      "4 0.8675\n",
      "[95, 148, 57, 100]\n",
      "[95, 148, 57, 100]\n",
      "4\n",
      "----\n",
      "5 0.9425\n",
      "[99, 122, 79, 100]\n",
      "[99, 122, 79, 100]\n",
      "5\n",
      "----\n",
      "6 0.98\n",
      "[100, 106, 94, 100]\n",
      "[100, 106, 94, 100]\n",
      "6\n",
      "----\n",
      "7 0.9925\n",
      "[100, 101, 99, 100]\n",
      "[100, 101, 99, 100]\n",
      "7\n",
      "----\n",
      "8 0.995\n",
      "[100, 100, 100, 100]\n",
      "[100, 100, 100, 100]\n",
      "8\n",
      "----\n",
      "9 0.995\n",
      "[100, 100, 100, 100]\n",
      "[100, 100, 100, 100]\n",
      "9\n",
      "----\n",
      "10 0.995\n",
      "[100, 100, 100, 100]\n",
      "[100, 100, 100, 100]\n",
      "10\n",
      "----\n",
      "11 0.995\n",
      "[100, 100, 100, 100]\n",
      "[100, 100, 100, 100]\n",
      "11\n",
      "----\n",
      "12 0.995\n",
      "[100, 100, 100, 100]\n",
      "[100, 100, 100, 100]\n",
      "12\n",
      "----\n",
      "13 0.995\n",
      "[100, 100, 100, 100]\n",
      "[100, 100, 100, 100]\n",
      "13\n",
      "----\n",
      "14 0.995\n",
      "[100, 100, 100, 100]\n",
      "[100, 100, 100, 100]\n",
      "14\n",
      "----\n",
      "15 0.995\n",
      "[100, 100, 100, 100]\n",
      "[100, 100, 100, 100]\n",
      "15\n",
      "----\n",
      "16 0.995\n",
      "[100, 100, 100, 100]\n",
      "[100, 100, 100, 100]\n",
      "16\n",
      "----\n",
      "17 0.995\n",
      "[100, 100, 100, 100]\n",
      "[100, 100, 100, 100]\n",
      "17\n",
      "----\n",
      "18 0.995\n",
      "[100, 100, 100, 100]\n",
      "[100, 100, 100, 100]\n",
      "18\n",
      "----\n",
      "19 0.995\n",
      "[100, 100, 100, 100]\n",
      "[100, 100, 100, 100]\n",
      "19\n",
      "----\n",
      "20 0.995\n",
      "[100, 100, 100, 100]\n",
      "[100, 100, 100, 100]\n",
      "20\n",
      "----\n"
     ]
    }
   ],
   "source": [
    "num_changed=True\n",
    "ix=0\n",
    "jx=0\n",
    "while num_changed:\n",
    "    count_old=count_l\n",
    "    y4_hat=np.array([5.0,5.0,5.0,5.0]*len(data))\n",
    "    y4_hat=y4_hat.reshape((len(data),4))\n",
    "    for j in range(len(data)):\n",
    "        dist2=100\n",
    "        for i in range(k):\n",
    "            dist1=points_dist(data2[i],data[j])\n",
    "            if dist1<dist2:\n",
    "                dist2=dist1\n",
    "                y4_hat[j]=[j,i,dist2,100]\n",
    "    ix+=1\n",
    "    \n",
    "    print(ix,np.sum(y4_hat[:,1]==y)/len(y))\n",
    "    \n",
    "    #### update new centroid\n",
    "    for j in range(k):\n",
    "        data2[j]=np.mean(data[y4_hat[y4_hat[:,1]==j,0].astype(int),:],axis=0)\n",
    "        count_l[j]=y4_hat[y4_hat[:,1]==j,0].shape[0]\n",
    "    print(count_l)\n",
    "    print(count_old)\n",
    "    if count_l==count_old:\n",
    "        jx+=1\n",
    "        print(jx)\n",
    "        print('----')\n",
    "        if jx==20:\n",
    "            num_changed=False"
   ]
  },
  {
   "cell_type": "code",
   "execution_count": 33,
   "metadata": {
    "ExecuteTime": {
     "end_time": "2020-06-10T09:58:02.462847Z",
     "start_time": "2020-06-10T09:58:02.446846Z"
    },
    "collapsed": true
   },
   "outputs": [],
   "source": [
    "\n",
    "import threading\n",
    "def func1(a):\n",
    "    #Do something\n",
    "    print('Do something')\n",
    "    a+=1\n",
    "    print(a)\n",
    "    print('当前线程数为{}'.format(threading.activeCount()))\n",
    "    if a>5:\n",
    "        return\n",
    "    t=threading.Timer(5,func1,(a,))\n",
    "    t.start()\n"
   ]
  },
  {
   "cell_type": "code",
   "execution_count": null,
   "metadata": {
    "collapsed": true
   },
   "outputs": [],
   "source": []
  }
 ],
 "metadata": {
  "kernelspec": {
   "display_name": "Python 3",
   "language": "python",
   "name": "python3"
  },
  "language_info": {
   "codemirror_mode": {
    "name": "ipython",
    "version": 3
   },
   "file_extension": ".py",
   "mimetype": "text/x-python",
   "name": "python",
   "nbconvert_exporter": "python",
   "pygments_lexer": "ipython3",
   "version": "3.6.3"
  }
 },
 "nbformat": 4,
 "nbformat_minor": 2
}
