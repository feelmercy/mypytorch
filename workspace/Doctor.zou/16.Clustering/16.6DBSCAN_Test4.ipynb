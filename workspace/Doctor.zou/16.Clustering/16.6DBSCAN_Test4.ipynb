{
 "cells": [
  {
   "cell_type": "code",
   "execution_count": 2,
   "metadata": {
    "ExecuteTime": {
     "end_time": "2020-07-20T07:16:41.751618Z",
     "start_time": "2020-07-20T07:16:41.709616Z"
    }
   },
   "outputs": [
    {
     "name": "stdout",
     "output_type": "stream",
     "text": [
      "Using matplotlib backend: Qt5Agg\n"
     ]
    }
   ],
   "source": [
    "from sklearn import datasets\n",
    "import numpy as np\n",
    "import random\n",
    "import matplotlib.pyplot as plt\n",
    "import time\n",
    "import copy\n",
    "from sklearn.metrics import euclidean_distances\n",
    "%matplotlib auto"
   ]
  },
  {
   "cell_type": "code",
   "execution_count": 3,
   "metadata": {
    "ExecuteTime": {
     "end_time": "2020-07-20T07:16:42.406655Z",
     "start_time": "2020-07-20T07:16:42.242646Z"
    },
    "collapsed": true
   },
   "outputs": [],
   "source": [
    "x1, y1 = datasets.make_circles(n_samples=2000,\n",
    "                               noise=0.02,\n",
    "                               factor=0.6,\n",
    "                               random_state=5)\n",
    "x2, y2 = datasets.make_blobs(n_features=2,\n",
    "                             n_samples=500,\n",
    "                             centers=[[1.2, 1.2]],\n",
    "                             cluster_std=0.1,\n",
    "                             random_state=5)\n",
    "data = np.vstack((x1, x2))\n",
    "\n",
    "eps = 0.2\n",
    "minpts = 10"
   ]
  },
  {
   "cell_type": "code",
   "execution_count": 29,
   "metadata": {
    "ExecuteTime": {
     "end_time": "2020-07-17T05:18:14.429400Z",
     "start_time": "2020-07-17T05:18:14.358396Z"
    }
   },
   "outputs": [
    {
     "data": {
      "text/plain": [
       "<matplotlib.collections.PathCollection at 0x1145ac18>"
      ]
     },
     "execution_count": 29,
     "metadata": {},
     "output_type": "execute_result"
    }
   ],
   "source": [
    "plt.scatter(data[:,0],data[:,1])"
   ]
  },
  {
   "cell_type": "code",
   "execution_count": 4,
   "metadata": {
    "ExecuteTime": {
     "end_time": "2020-07-20T07:16:45.611839Z",
     "start_time": "2020-07-20T07:16:45.596838Z"
    },
    "collapsed": true
   },
   "outputs": [],
   "source": [
    "x1,y1=datasets.make_circles(n_samples=2000,noise=0.02,random_state=5)\n",
    "x2,y2=datasets.make_blobs(n_features=2,n_samples=500,centers=[[1.2,1.2]])\n",
    "data=np.vstack((x1,x2))\n",
    "\n",
    "eps=0.2\n",
    "minpts=10"
   ]
  },
  {
   "cell_type": "code",
   "execution_count": 27,
   "metadata": {
    "ExecuteTime": {
     "end_time": "2020-07-17T05:18:09.157099Z",
     "start_time": "2020-07-17T05:18:09.082094Z"
    }
   },
   "outputs": [
    {
     "data": {
      "text/plain": [
       "<matplotlib.collections.PathCollection at 0x1141eac8>"
      ]
     },
     "execution_count": 27,
     "metadata": {},
     "output_type": "execute_result"
    }
   ],
   "source": [
    "plt.scatter(data[:,0],data[:,1])"
   ]
  },
  {
   "cell_type": "code",
   "execution_count": 17,
   "metadata": {
    "ExecuteTime": {
     "end_time": "2020-07-16T07:24:37.462328Z",
     "start_time": "2020-07-16T07:24:07.256600Z"
    }
   },
   "outputs": [
    {
     "name": "stdout",
     "output_type": "stream",
     "text": [
      "2 1000\n",
      "4 1000\n",
      "2000 500\n"
     ]
    }
   ],
   "source": [
    "dist=euclidean_distances(data)\n",
    "ptype_list=[]\n",
    "for row in dist:\n",
    "    ptype=0\n",
    "    density=np.sum(np.where(row<eps))\n",
    "    if density >minpts:\n",
    "        ptype=1\n",
    "    elif density >1 :\n",
    "        ptype=2\n",
    "    else :\n",
    "        ptype=0\n",
    "    ptype_list.append(ptype)\n",
    "\n",
    "cpt_index=[]\n",
    "for k,v in enumerate(ptype_list):\n",
    "    if v >0:\n",
    "        cpt_index.append(k)\n",
    "\n",
    "cpt_data=data[cpt_index,:]\n",
    "cpt_dist=euclidean_distances(cpt_data)  # return a matrix\n",
    "\n",
    "cluster = dict()\n",
    "for k, v in enumerate(cpt_dist):\n",
    "    cluster[k] = np.where(v < eps)[0]\n",
    "\n",
    "for i in range(len(cluster)):\n",
    "    for j in range(len(cluster)):\n",
    "        if len(set(cluster[i]).intersection(set(cluster[j])))>0 and i != j:\n",
    "            cluster[i]=list(set(cluster[i]).union(set(cluster[j])))\n",
    "            cluster[j]=[]\n",
    "\n",
    "for k,v in cluster.items():\n",
    "    if len(v)>0:\n",
    "        print(k,len(v))"
   ]
  },
  {
   "cell_type": "code",
   "execution_count": 18,
   "metadata": {
    "ExecuteTime": {
     "end_time": "2020-07-16T07:24:44.231715Z",
     "start_time": "2020-07-16T07:24:44.215714Z"
    },
    "collapsed": true
   },
   "outputs": [],
   "source": [
    "result=dict()\n",
    "i=0\n",
    "for k,v in cluster.items():\n",
    "    if len(v)>0:\n",
    "#         print(k,len(v))\n",
    "        result[i]=v\n",
    "        i+=1"
   ]
  },
  {
   "cell_type": "code",
   "execution_count": 19,
   "metadata": {
    "ExecuteTime": {
     "end_time": "2020-07-16T07:24:44.964757Z",
     "start_time": "2020-07-16T07:24:44.951756Z"
    },
    "collapsed": true
   },
   "outputs": [],
   "source": [
    "clrs=dict()\n",
    "for k,v in result.items():\n",
    "#     print(k,v)\n",
    "    for j in v:\n",
    "        clrs[j]=k"
   ]
  },
  {
   "cell_type": "code",
   "execution_count": 20,
   "metadata": {
    "ExecuteTime": {
     "end_time": "2020-07-16T07:24:46.475843Z",
     "start_time": "2020-07-16T07:24:46.462842Z"
    },
    "collapsed": true
   },
   "outputs": [],
   "source": [
    "clrs1=[]\n",
    "for i in range(len(data)):\n",
    "    clrs1.append(clrs[i])"
   ]
  },
  {
   "cell_type": "code",
   "execution_count": 21,
   "metadata": {
    "ExecuteTime": {
     "end_time": "2020-07-16T07:24:47.311891Z",
     "start_time": "2020-07-16T07:24:47.236887Z"
    },
    "collapsed": true
   },
   "outputs": [],
   "source": [
    "plt.scatter(data[:,0],data[:,1],c=clrs1)\n",
    "plt.show()"
   ]
  },
  {
   "cell_type": "code",
   "execution_count": null,
   "metadata": {
    "collapsed": true
   },
   "outputs": [],
   "source": []
  }
 ],
 "metadata": {
  "kernelspec": {
   "display_name": "Python 3",
   "language": "python",
   "name": "python3"
  },
  "language_info": {
   "codemirror_mode": {
    "name": "ipython",
    "version": 3
   },
   "file_extension": ".py",
   "mimetype": "text/x-python",
   "name": "python",
   "nbconvert_exporter": "python",
   "pygments_lexer": "ipython3",
   "version": "3.6.3"
  }
 },
 "nbformat": 4,
 "nbformat_minor": 2
}
