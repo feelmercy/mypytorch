{
 "cells": [
  {
   "cell_type": "code",
   "execution_count": 1,
   "metadata": {
    "ExecuteTime": {
     "end_time": "2020-08-31T06:52:15.125114Z",
     "start_time": "2020-08-31T06:52:14.227062Z"
    }
   },
   "outputs": [
    {
     "name": "stdout",
     "output_type": "stream",
     "text": [
      "Using matplotlib backend: Qt5Agg\n"
     ]
    }
   ],
   "source": [
    "import numpy as np\n",
    "from sklearn.mixture import GaussianMixture\n",
    "from sklearn.model_selection import train_test_split\n",
    "import matplotlib as mpl\n",
    "import matplotlib.colors\n",
    "import matplotlib.pyplot as plt\n",
    "%matplotlib auto"
   ]
  },
  {
   "cell_type": "code",
   "execution_count": 3,
   "metadata": {
    "ExecuteTime": {
     "end_time": "2020-08-31T06:55:52.817565Z",
     "start_time": "2020-08-31T06:55:52.787563Z"
    }
   },
   "outputs": [],
   "source": [
    "data=np.loadtxt(r'F:\\study\\ml\\DoctorZou\\18EMII\\18.HeightWeight.csv',\n",
    "               dtype=np.float,delimiter=',',skiprows=1)"
   ]
  },
  {
   "cell_type": "code",
   "execution_count": 5,
   "metadata": {
    "ExecuteTime": {
     "end_time": "2020-08-31T06:58:03.287028Z",
     "start_time": "2020-08-31T06:58:03.246025Z"
    }
   },
   "outputs": [
    {
     "data": {
      "text/plain": [
       "GaussianMixture(covariance_type='full', init_params='kmeans', max_iter=100,\n",
       "        means_init=None, n_components=2, n_init=1, precisions_init=None,\n",
       "        random_state=0, reg_covar=1e-06, tol=0.001, verbose=0,\n",
       "        verbose_interval=10, warm_start=False, weights_init=None)"
      ]
     },
     "execution_count": 5,
     "metadata": {},
     "output_type": "execute_result"
    }
   ],
   "source": [
    "y,x=np.split(data,[1,],axis=1)\n",
    "x,x_test,y,y_test=train_test_split(x,y,test_size=0.4,random_state=0)\n",
    "gmm=GaussianMixture(n_components=2,covariance_type='full',random_state=0)\n",
    "x_min=np.min(x,axis=0)\n",
    "x_max=np.max(x,axis=0)\n",
    "gmm.fit(x)"
   ]
  },
  {
   "cell_type": "code",
   "execution_count": 7,
   "metadata": {
    "ExecuteTime": {
     "end_time": "2020-08-31T06:59:26.833806Z",
     "start_time": "2020-08-31T06:59:26.821805Z"
    }
   },
   "outputs": [
    {
     "name": "stdout",
     "output_type": "stream",
     "text": [
      "mean :\n",
      "  [[ 160.13983374   55.93370575]\n",
      " [ 173.50243688   65.03359308]]\n",
      "covariances :\n",
      "  [[[  18.82128194   12.30370549]\n",
      "  [  12.30370549   31.23596113]]\n",
      "\n",
      " [[  23.22794989   28.48688647]\n",
      "  [  28.48688647  105.81824734]]]\n"
     ]
    }
   ],
   "source": [
    "print('mean :\\n ',gmm.means_)\n",
    "print('covariances :\\n ',gmm.covariances_)"
   ]
  },
  {
   "cell_type": "code",
   "execution_count": 8,
   "metadata": {
    "ExecuteTime": {
     "end_time": "2020-08-31T07:00:43.093168Z",
     "start_time": "2020-08-31T07:00:43.085167Z"
    },
    "collapsed": true
   },
   "outputs": [],
   "source": [
    "y_hat=gmm.predict(x)\n",
    "y_test_hat=gmm.predict(x_test)"
   ]
  },
  {
   "cell_type": "code",
   "execution_count": 9,
   "metadata": {
    "ExecuteTime": {
     "end_time": "2020-08-31T07:02:55.570745Z",
     "start_time": "2020-08-31T07:02:55.549744Z"
    },
    "collapsed": true
   },
   "outputs": [],
   "source": [
    "change=(gmm.means_[0][0]>gmm.means_[1][0])\n",
    "if change:\n",
    "    z=y_hat==0\n",
    "    y_hat[z]=1\n",
    "    y_hat[~z]=0\n",
    "    z=y_test_hat==0\n",
    "    y_test_hat[z]=1\n",
    "    y_test_hat[z]=0"
   ]
  },
  {
   "cell_type": "code",
   "execution_count": 13,
   "metadata": {
    "ExecuteTime": {
     "end_time": "2020-08-31T07:14:31.875572Z",
     "start_time": "2020-08-31T07:14:31.863571Z"
    },
    "collapsed": true
   },
   "outputs": [],
   "source": [
    "acc=np.mean(y_hat.ravel()==y.ravel())\n",
    "acc_test=np.mean(y_test_hat.ravel()==y_test.ravel())\n",
    "acc_str='train set acc: %.2f%%' % (acc * 100)\n",
    "acc_test_str='test set acc: %.2f%%' % (acc_test * 100)"
   ]
  },
  {
   "cell_type": "code",
   "execution_count": 23,
   "metadata": {
    "ExecuteTime": {
     "end_time": "2020-08-31T07:33:44.096475Z",
     "start_time": "2020-08-31T07:33:44.085474Z"
    }
   },
   "outputs": [
    {
     "name": "stdout",
     "output_type": "stream",
     "text": [
      "train set acc: 77.94%\n",
      "test set acc: 82.61%\n"
     ]
    }
   ],
   "source": [
    "print(acc_str)\n",
    "print(acc_test_str)"
   ]
  },
  {
   "cell_type": "code",
   "execution_count": 14,
   "metadata": {
    "ExecuteTime": {
     "end_time": "2020-08-31T07:19:50.263782Z",
     "start_time": "2020-08-31T07:19:50.155776Z"
    },
    "collapsed": true
   },
   "outputs": [],
   "source": [
    "cm_light=mpl.colors.ListedColormap(['#FF8080','#77E0A0'])\n",
    "cm_dark=mpl.colors.ListedColormap(['r','g'])\n",
    "x1_min,x1_max=x[:,0].min(),x[:,0].max()\n",
    "x2_min,x2_max=x[:,1].min(),x[:,1].max()\n",
    "x1,x2=np.mgrid[x1_min:x1_max:500j,x2_min:x2_max:500j]\n",
    "grid_test=np.stack((x1.flat,x2.flat),axis=1)\n",
    "grid_hat=gmm.predict(grid_test)\n",
    "grid_hat=grid_hat.reshape(x1.shape)"
   ]
  },
  {
   "cell_type": "code",
   "execution_count": 15,
   "metadata": {
    "ExecuteTime": {
     "end_time": "2020-08-31T07:20:30.694095Z",
     "start_time": "2020-08-31T07:20:30.683094Z"
    },
    "collapsed": true
   },
   "outputs": [],
   "source": [
    "if change:\n",
    "    z=grid_hat==0\n",
    "    grid_hat[z]=1\n",
    "    grid_hat[~z]=0"
   ]
  },
  {
   "cell_type": "code",
   "execution_count": 22,
   "metadata": {
    "ExecuteTime": {
     "end_time": "2020-08-31T07:33:13.684735Z",
     "start_time": "2020-08-31T07:33:13.486724Z"
    }
   },
   "outputs": [
    {
     "name": "stderr",
     "output_type": "stream",
     "text": [
      "D:\\ProgramData\\Anaconda3\\lib\\site-packages\\matplotlib\\contour.py:967: UserWarning: The following kwargs were not used by contour: 'color'\n",
      "  s)\n"
     ]
    }
   ],
   "source": [
    "plt.figure(figsize=(8,6))\n",
    "plt.pcolormesh(x1,x2,grid_hat,cmap=cm_light)\n",
    "plt.scatter(x[:,0],x[:,1],s=50,c=y[:,0],marker='o',cmap=cm_dark,edgecolors='k')\n",
    "plt.scatter(x_test[:,0],x_test[:,1],s=50,marker='^',c=y_test[:,0],cmap=cm_dark)\n",
    "p=gmm.predict_proba(grid_test)\n",
    "p=p[:,0].reshape(x1.shape)\n",
    "CS=plt.contour(x1,x2,p,levels=(0.2,0.5,0.8),color=list('rgb'),linewidths=2)\n",
    "plt.clabel(CS,fontsize=15,fmt='%.1f',inline=True)\n",
    "ax1_min, ax1_max, ax2_min, ax2_max = plt.axis()\n",
    "xx = 0.9*ax1_min + 0.1*ax1_max\n",
    "yy = 0.1*ax2_min + 0.9*ax2_max\n",
    "plt.text(xx, yy, acc_str, fontsize=18)\n",
    "yy = 0.15*ax2_min + 0.85*ax2_max\n",
    "plt.text(xx, yy, acc_test_str, fontsize=18)\n",
    "plt.xlim((x1_min, x1_max))\n",
    "plt.ylim((x2_min, x2_max))\n",
    "plt.xlabel(u'身高(cm)', fontsize='large')\n",
    "plt.ylabel(u'体重(kg)', fontsize='large')\n",
    "plt.title(u'EM算法估算GMM的参数', fontsize=20)\n",
    "plt.grid()\n",
    "plt.show()"
   ]
  },
  {
   "cell_type": "code",
   "execution_count": 17,
   "metadata": {
    "ExecuteTime": {
     "end_time": "2020-08-31T07:32:00.107527Z",
     "start_time": "2020-08-31T07:32:00.101527Z"
    }
   },
   "outputs": [
    {
     "data": {
      "text/plain": [
       "(68, 1)"
      ]
     },
     "execution_count": 17,
     "metadata": {},
     "output_type": "execute_result"
    }
   ],
   "source": [
    "y.shape"
   ]
  },
  {
   "cell_type": "code",
   "execution_count": 20,
   "metadata": {
    "ExecuteTime": {
     "end_time": "2020-08-31T07:32:53.893603Z",
     "start_time": "2020-08-31T07:32:53.881603Z"
    }
   },
   "outputs": [
    {
     "data": {
      "text/plain": [
       "array([ 0.,  1.,  1.,  0.,  1.,  0.,  0.,  0.,  0.,  0.,  0.,  0.,  0.,\n",
       "        0.,  0.,  1.,  1.,  0.,  0.,  0.,  0.,  0.,  0.,  0.,  1.,  1.,\n",
       "        1.,  1.,  0.,  1.,  0.,  1.,  0.,  0.,  0.,  1.,  1.,  1.,  1.,\n",
       "        1.,  0.,  1.,  1.,  1.,  0.,  0.,  1.,  1.,  0.,  1.,  0.,  1.,\n",
       "        1.,  0.,  1.,  1.,  1.,  1.,  0.,  0.,  1.,  0.,  1.,  1.,  1.,\n",
       "        1.,  0.,  0.])"
      ]
     },
     "execution_count": 20,
     "metadata": {},
     "output_type": "execute_result"
    }
   ],
   "source": [
    "y[:,0]"
   ]
  },
  {
   "cell_type": "code",
   "execution_count": null,
   "metadata": {
    "collapsed": true
   },
   "outputs": [],
   "source": []
  }
 ],
 "metadata": {
  "kernelspec": {
   "display_name": "Python 3",
   "language": "python",
   "name": "python3"
  },
  "language_info": {
   "codemirror_mode": {
    "name": "ipython",
    "version": 3
   },
   "file_extension": ".py",
   "mimetype": "text/x-python",
   "name": "python",
   "nbconvert_exporter": "python",
   "pygments_lexer": "ipython3",
   "version": "3.6.3"
  }
 },
 "nbformat": 4,
 "nbformat_minor": 2
}
