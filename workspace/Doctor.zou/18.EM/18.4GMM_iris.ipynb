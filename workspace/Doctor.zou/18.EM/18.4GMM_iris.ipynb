{
 "cells": [
  {
   "cell_type": "code",
   "execution_count": 1,
   "metadata": {
    "ExecuteTime": {
     "end_time": "2020-08-05T01:08:37.017407Z",
     "start_time": "2020-08-05T01:08:36.585383Z"
    }
   },
   "outputs": [
    {
     "name": "stdout",
     "output_type": "stream",
     "text": [
      "Using matplotlib backend: Qt5Agg\n"
     ]
    }
   ],
   "source": [
    "import numpy as np\n",
    "from sklearn.mixture import GaussianMixture\n",
    "import matplotlib as mpl\n",
    "import matplotlib.colors\n",
    "import matplotlib.pyplot as plt\n",
    "from sklearn.metrics.pairwise import pairwise_distances_argmin\n",
    "%matplotlib auto"
   ]
  },
  {
   "cell_type": "code",
   "execution_count": 2,
   "metadata": {
    "ExecuteTime": {
     "end_time": "2020-08-05T01:09:05.824055Z",
     "start_time": "2020-08-05T01:09:05.816055Z"
    },
    "collapsed": true
   },
   "outputs": [],
   "source": [
    "iris_feature = u'花萼长度', u'花萼宽度', u'花瓣长度', u'花瓣宽度'"
   ]
  },
  {
   "cell_type": "code",
   "execution_count": 3,
   "metadata": {
    "ExecuteTime": {
     "end_time": "2020-08-05T01:09:12.162418Z",
     "start_time": "2020-08-05T01:09:12.152417Z"
    },
    "collapsed": true
   },
   "outputs": [],
   "source": [
    "def expand(a, b, rate=0.05):\n",
    "    d = (b - a) * rate\n",
    "    return a-d, b+d"
   ]
  },
  {
   "cell_type": "code",
   "execution_count": 6,
   "metadata": {
    "ExecuteTime": {
     "end_time": "2020-08-05T01:11:01.937696Z",
     "start_time": "2020-08-05T01:11:01.927696Z"
    },
    "collapsed": true
   },
   "outputs": [],
   "source": [
    "def iris_type(s):\n",
    "    it = {b'Iris-setosa': 0, b'Iris-versicolor': 1, b'Iris-virginica': 2}\n",
    "    return it[s]"
   ]
  },
  {
   "cell_type": "code",
   "execution_count": 7,
   "metadata": {
    "ExecuteTime": {
     "end_time": "2020-08-05T01:11:04.362835Z",
     "start_time": "2020-08-05T01:11:04.349834Z"
    }
   },
   "outputs": [],
   "source": [
    "path = r'F:\\study\\ml\\DoctorZou\\08RegressionII\\8.iris.data'\n",
    "data=np.loadtxt(path,dtype=np.float,delimiter=',',converters={4:iris_type})"
   ]
  },
  {
   "cell_type": "code",
   "execution_count": 8,
   "metadata": {
    "ExecuteTime": {
     "end_time": "2020-08-05T01:11:31.097364Z",
     "start_time": "2020-08-05T01:11:31.088364Z"
    },
    "collapsed": true
   },
   "outputs": [],
   "source": [
    "x_prime,y=np.split(data,(4,),axis=1)\n",
    "y=y.ravel()"
   ]
  },
  {
   "cell_type": "code",
   "execution_count": 9,
   "metadata": {
    "ExecuteTime": {
     "end_time": "2020-08-05T01:45:00.605302Z",
     "start_time": "2020-08-05T01:45:00.598301Z"
    },
    "collapsed": true
   },
   "outputs": [],
   "source": [
    "n_components=3\n",
    "feature_pairs = [[0, 1], [0, 2], [0, 3], [1, 2], [1, 3], [2, 3]]"
   ]
  },
  {
   "cell_type": "code",
   "execution_count": null,
   "metadata": {
    "collapsed": true
   },
   "outputs": [],
   "source": [
    "x_prime[]"
   ]
  },
  {
   "cell_type": "code",
   "execution_count": 47,
   "metadata": {
    "ExecuteTime": {
     "end_time": "2020-08-07T03:08:53.644770Z",
     "start_time": "2020-08-07T03:08:52.539706Z"
    }
   },
   "outputs": [
    {
     "name": "stdout",
     "output_type": "stream",
     "text": [
      "m Mean : \n",
      " [[ 5.006  3.418]\n",
      " [ 5.936  2.77 ]\n",
      " [ 6.588  2.974]]\n",
      "predict mean : \n",
      " [[ 5.01494511  3.44040237]\n",
      " [ 6.69225795  3.03018616]\n",
      " [ 5.90652226  2.74740414]]\n",
      "predict cov : \n",
      " [[[ 0.11948421  0.08969613]\n",
      "  [ 0.08969613  0.12149899]]\n",
      "\n",
      " [[ 0.3588512   0.05091598]\n",
      "  [ 0.05091598  0.08956947]]\n",
      "\n",
      " [[ 0.27590209  0.08910477]\n",
      "  [ 0.08910477  0.09414053]]]\n",
      "order : [0 2 1]\n",
      "acc rate : 78.67%\n",
      "m Mean : \n",
      " [[ 5.006  1.464]\n",
      " [ 5.936  4.26 ]\n",
      " [ 6.588  5.552]]\n",
      "predict mean : \n",
      " [[ 5.0060006   1.46399865]\n",
      " [ 6.04240777  4.41742864]\n",
      " [ 6.58888904  5.63329718]]\n",
      "predict cov : \n",
      " [[[ 0.12176525  0.01581631]\n",
      "  [ 0.01581631  0.0295045 ]]\n",
      "\n",
      " [[ 0.28119672  0.23746926]\n",
      "  [ 0.23746926  0.31503012]]\n",
      "\n",
      " [[ 0.48521779  0.36602418]\n",
      "  [ 0.36602418  0.32601109]]]\n",
      "order : [0 1 2]\n",
      "acc rate : 91.33%\n",
      "m Mean : \n",
      " [[ 5.006  0.244]\n",
      " [ 5.936  1.326]\n",
      " [ 6.588  2.026]]\n",
      "predict mean : \n",
      " [[ 5.00605757  0.23727675]\n",
      " [ 6.57289666  2.05192938]\n",
      " [ 5.977111    1.33910201]]\n",
      "predict cov : \n",
      " [[[ 0.12407758  0.01055895]\n",
      "  [ 0.01055895  0.00905628]]\n",
      "\n",
      " [[ 0.4171415   0.05278455]\n",
      "  [ 0.05278455  0.06790735]]\n",
      "\n",
      " [[ 0.30671183  0.08640131]\n",
      "  [ 0.08640131  0.05609398]]]\n",
      "order : [0 2 1]\n",
      "acc rate : 96.00%\n",
      "m Mean : \n",
      " [[ 3.418  1.464]\n",
      " [ 2.77   4.26 ]\n",
      " [ 2.974  5.552]]\n",
      "predict mean : \n",
      " [[ 3.41800009  1.46400001]\n",
      " [ 2.97017899  5.56073357]\n",
      " [ 2.80062882  4.43004172]]\n",
      "predict cov : \n",
      " [[[ 0.14227691  0.01144799]\n",
      "  [ 0.01144799  0.029505  ]]\n",
      "\n",
      " [[ 0.11477629  0.07760424]\n",
      "  [ 0.07760424  0.38871245]]\n",
      "\n",
      " [[ 0.09376548  0.10702236]\n",
      "  [ 0.10702236  0.34454954]]]\n",
      "order : [0 2 1]\n",
      "acc rate : 92.67%\n",
      "m Mean : \n",
      " [[ 3.418  0.244]\n",
      " [ 2.77   1.326]\n",
      " [ 2.974  2.026]]\n",
      "predict mean : \n",
      " [[ 3.41800003  0.244     ]\n",
      " [ 2.93629236  1.98607968]\n",
      " [ 2.79657869  1.31224583]]\n",
      "predict cov : \n",
      " [[[ 0.14227697  0.011208  ]\n",
      "  [ 0.011208    0.011265  ]]\n",
      "\n",
      " [[ 0.11263095  0.06192916]\n",
      "  [ 0.06192916  0.08966439]]\n",
      "\n",
      " [[ 0.09554395  0.04869984]\n",
      "  [ 0.04869984  0.03787478]]]\n",
      "order : [0 2 1]\n",
      "acc rate : 93.33%\n",
      "m Mean : \n",
      " [[ 1.464  0.244]\n",
      " [ 4.26   1.326]\n",
      " [ 5.552  2.026]]\n",
      "predict mean : \n",
      " [[ 1.4639995   0.24399977]\n",
      " [ 5.57721357  2.04303223]\n",
      " [ 4.30594389  1.34787855]]\n",
      "predict cov : \n",
      " [[[ 0.02950483  0.00558393]\n",
      "  [ 0.00558393  0.01126496]]\n",
      "\n",
      " [[ 0.30034404  0.04402642]\n",
      "  [ 0.04402642  0.07200287]]\n",
      "\n",
      " [[ 0.24667106  0.08489917]\n",
      "  [ 0.08489917  0.04585074]]]\n",
      "order : [0 2 1]\n",
      "acc rate : 97.33%\n"
     ]
    }
   ],
   "source": [
    "# plt.figure(figsize=(8,6),facecolor='w')\n",
    "for k ,pair in enumerate(feature_pairs):\n",
    "    x=x_prime[:,pair]\n",
    "    m=np.array([np.mean(x[y==i],axis=0) for i in range(3)])\n",
    "    print('m Mean : \\n',m)\n",
    "    gmm=GaussianMixture(n_components=n_components,covariance_type='full',random_state=0)\n",
    "    gmm.fit(x)\n",
    "    print('predict mean : \\n',gmm.means_)\n",
    "    print('predict cov : \\n',gmm.covariances_)\n",
    "    y_hat=gmm.predict(x)\n",
    "    order = pairwise_distances_argmin(m,gmm.means_,axis=1,metric='euclidean')\n",
    "    print('order :',order)\n",
    "\n",
    "    n_sample=y.size\n",
    "    n_types=3\n",
    "    change=np.empty((n_types,n_sample),dtype=np.bool)\n",
    "    for i in range(n_types):\n",
    "        change[i]=y_hat==order[i]\n",
    "    for i in range(n_types):\n",
    "        y_hat[change[i]]=i\n",
    "    acc='acc rate : %.2f%%' % (100 * np.mean(y_hat == y))\n",
    "    print(acc)\n",
    "\n",
    "    cm_light=mpl.colors.ListedColormap(['#FF8080','#77E0A0','#A0A0FF'])\n",
    "    cm_dark=mpl.colors.ListedColormap(['r','g','b'])\n",
    "    x1_min,x1_max=x[:,0].min(),x[:,1].max()\n",
    "    x2_min,x2_max=x[:,1].min(),x[:,1].max()\n",
    "    x1_min,x1_max=expand(x1_min,x1_max)\n",
    "    x_min,x2_max=expand(x2_min,x2_max)\n",
    "    x1,x2=np.mgrid[x1_min:x1_max:500j,x2_min:x2_max:500j]\n",
    "    grid_test=np.stack((x1.flat,x2.flat),axis=1)\n",
    "    grid_hat=gmm.predict(grid_test)\n",
    "\n",
    "    change=np.empty((n_types,grid_hat.size),dtype=np.bool)\n",
    "    for i in range(n_types):\n",
    "        change[i]=grid_hat==order[i]\n",
    "    for i in range(n_types):\n",
    "        grid_hat[change[i]]=i\n",
    "    grid_hat = grid_hat.reshape(x1.shape)\n",
    "\n",
    "    plt.subplot(3,2,k+1)\n",
    "    plt.pcolormesh(x1,x2,grid_hat,cmap=cm_light)\n",
    "    plt.scatter(x[:,0],x[:,1],s=30,c=y,marker='o',cmap=cm_dark,edgecolors='k')\n",
    "    xx=0.95*x1_min+0.05*x1_max\n",
    "    yy=0.1*x2_min+0.9*x2_max\n",
    "    plt.text(xx,yy,acc,fontsize=10)\n",
    "    plt.xlim((x1_min,x1_max))\n",
    "    plt.ylim((x2_min,x2_max))\n",
    "    plt.xlabel(iris_feature[pair[0]],fontsize=10)\n",
    "    plt.xlabel(iris_feature[pair[1]],fontsize=10)\n",
    "plt.tight_layout(2)\n",
    "plt.suptitle('EM algorithm and Iris',fontsize=10)\n",
    "plt.subplots_adjust(top=0.92)\n",
    "plt.show()"
   ]
  },
  {
   "cell_type": "code",
   "execution_count": null,
   "metadata": {
    "collapsed": true
   },
   "outputs": [],
   "source": []
  }
 ],
 "metadata": {
  "kernelspec": {
   "display_name": "Python 3",
   "language": "python",
   "name": "python3"
  },
  "language_info": {
   "codemirror_mode": {
    "name": "ipython",
    "version": 3
   },
   "file_extension": ".py",
   "mimetype": "text/x-python",
   "name": "python",
   "nbconvert_exporter": "python",
   "pygments_lexer": "ipython3",
   "version": "3.6.3"
  }
 },
 "nbformat": 4,
 "nbformat_minor": 2
}
