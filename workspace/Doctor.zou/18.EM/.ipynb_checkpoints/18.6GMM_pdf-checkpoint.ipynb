{
 "cells": [
  {
   "cell_type": "code",
   "execution_count": 20,
   "metadata": {
    "ExecuteTime": {
     "end_time": "2020-10-30T07:27:56.842631Z",
     "start_time": "2020-10-30T07:27:56.810629Z"
    }
   },
   "outputs": [
    {
     "name": "stdout",
     "output_type": "stream",
     "text": [
      "Using matplotlib backend: Qt5Agg\n"
     ]
    }
   ],
   "source": [
    "import numpy as np\n",
    "from sklearn.mixture import GaussianMixture\n",
    "import scipy as sp\n",
    "import matplotlib as mpl\n",
    "import matplotlib.colors\n",
    "import matplotlib.pyplot as plt\n",
    "from matplotlib.patches import Ellipse\n",
    "import warnings\n",
    "%matplotlib auto"
   ]
  },
  {
   "cell_type": "code",
   "execution_count": 21,
   "metadata": {
    "ExecuteTime": {
     "end_time": "2020-10-30T07:27:57.317658Z",
     "start_time": "2020-10-30T07:27:57.310658Z"
    },
    "collapsed": true
   },
   "outputs": [],
   "source": [
    "def expand(a, b, rate=0.05):\n",
    "    d = (b - a) * rate\n",
    "    return a-d, b+d"
   ]
  },
  {
   "cell_type": "code",
   "execution_count": 22,
   "metadata": {
    "ExecuteTime": {
     "end_time": "2020-10-30T07:27:57.798686Z",
     "start_time": "2020-10-30T07:27:57.768684Z"
    },
    "collapsed": true
   },
   "outputs": [],
   "source": [
    "np.random.seed(5)\n",
    "cov1=np.diag((1,2))\n",
    "N1=500\n",
    "N2=300\n",
    "N=N1+N2\n",
    "x1=np.random.multivariate_normal(mean=(3,2),cov=cov1,size=N1)\n",
    "m=np.array(((1,1),(1,3)))\n",
    "x1=x1.dot(m)\n",
    "x2=np.random.multivariate_normal(mean=(-1,10),cov=cov1,size=N2)\n",
    "x=np.vstack((x1,x2))\n",
    "y=np.array([0]*N1+[1]*N2)"
   ]
  },
  {
   "cell_type": "code",
   "execution_count": 23,
   "metadata": {
    "ExecuteTime": {
     "end_time": "2020-10-30T07:27:58.503726Z",
     "start_time": "2020-10-30T07:27:58.467724Z"
    }
   },
   "outputs": [
    {
     "name": "stdout",
     "output_type": "stream",
     "text": [
      "gmm mean :  [[-0.97451758  9.97425026]\n",
      " [ 5.07756347  9.15227375]]\n",
      "gmm covs :  [[[  0.95008946  -0.12411212]\n",
      "  [ -0.12411212   2.08453543]]\n",
      "\n",
      " [[  3.01159209   7.0531397 ]\n",
      "  [  7.0531397   19.06674609]]]\n"
     ]
    }
   ],
   "source": [
    "gmm=GaussianMixture(n_components=2,covariance_type='full',random_state=5)\n",
    "gmm.fit(x)\n",
    "centers=gmm.means_\n",
    "covs=gmm.covariances_\n",
    "print('gmm mean : ',centers)\n",
    "print('gmm covs : ',covs)\n",
    "y_hat=gmm.predict(x)"
   ]
  },
  {
   "cell_type": "code",
   "execution_count": 24,
   "metadata": {
    "ExecuteTime": {
     "end_time": "2020-10-30T07:27:59.042757Z",
     "start_time": "2020-10-30T07:27:58.954752Z"
    }
   },
   "outputs": [
    {
     "name": "stdout",
     "output_type": "stream",
     "text": [
      "[-26.19794789 -26.36078581 -26.52537819 ..., -10.82034455 -10.86844761\n",
      " -10.91830514]\n"
     ]
    }
   ],
   "source": [
    "colors='#A0FFA0','#FF8080'\n",
    "levels=10\n",
    "cm=mpl.colors.ListedColormap(colors)\n",
    "x1_min,x1_max=x[:,0].min(),x[:,0].max()\n",
    "x2_min,x2_max=x[:,1].min(),x[:,1].max()\n",
    "x1_min,x1_max=expand(x1_min,x1_max)\n",
    "x2_min,x2_max=expand(x2_min,x2_max)\n",
    "x1,x2=np.mgrid[x1_min:x1_max:500j,x2_min:x2_max:500j]\n",
    "grid_test=np.stack((x1.flat,x2.flat),axis=1)\n",
    "print(gmm.score_samples(grid_test))"
   ]
  },
  {
   "cell_type": "code",
   "execution_count": 25,
   "metadata": {
    "ExecuteTime": {
     "end_time": "2020-10-30T07:28:01.021870Z",
     "start_time": "2020-10-30T07:28:00.929865Z"
    },
    "collapsed": true
   },
   "outputs": [],
   "source": [
    "grid_hat=-gmm.score_samples(grid_test)\n",
    "grid_hat=grid_hat.reshape(x1.shape)"
   ]
  },
  {
   "cell_type": "code",
   "execution_count": 27,
   "metadata": {
    "ExecuteTime": {
     "end_time": "2020-10-30T07:50:28.004913Z",
     "start_time": "2020-10-30T07:50:27.765899Z"
    },
    "collapsed": true
   },
   "outputs": [],
   "source": [
    "plt.figure(figsize=(9,7),facecolor='w')\n",
    "ax=plt.subplot(111)\n",
    "cmesh=plt.pcolormesh(x1,x2,grid_hat,cmap=plt.cm.Spectral)\n",
    "plt.colorbar(cmesh,shrink=0.8)\n",
    "CS=plt.contour(x1,x2,grid_hat,levels=np.logspace(0,2,num=levels,base=10),\n",
    "              colors='w',linewidths=1)\n",
    "plt.clabel(CS,fontsize=9,inline=1,fmt='%.1f')\n",
    "plt.scatter(x[:,0],x[:,1],s=30,c=y,cmap=cm,marker='o')\n",
    "\n",
    "# for i ,cc in enumerate(zip(centers,covs)):\n",
    "#     center,cov=cc\n",
    "#     value,vector=sp.linalg.eigh(cov)\n",
    "#     width,height=value[0],value[1]\n",
    "#     v=vector[0]/sp.linalg.norm(vector[0])\n",
    "#     angle=180*np.arctan(v[1]/v[0])/np.pi\n",
    "#     e=Ellipse(xy=center,width=width,height=height,angle=angle,color='m',\n",
    "#              alpha=0.5,clip_box=ax.bbox)\n",
    "#     ax.add_artist(e)\n",
    "\n",
    "plt.xlim((x1_min,x1_max))\n",
    "plt.ylim((x2_min,x2_max))\n",
    "mpl.rcParams['font.sans-serif'] = [u'SimHei']\n",
    "mpl.rcParams['axes.unicode_minus'] = False\n",
    "plt.title(u'GMM似然函数值', fontsize=20)\n",
    "plt.grid(True)\n",
    "plt.show()"
   ]
  },
  {
   "cell_type": "code",
   "execution_count": 29,
   "metadata": {
    "ExecuteTime": {
     "end_time": "2020-10-30T08:01:19.427172Z",
     "start_time": "2020-10-30T08:01:19.201159Z"
    }
   },
   "outputs": [],
   "source": [
    "plt.figure(figsize=(10,8),facecolor='w')\n",
    "ax=plt.subplot(111)\n",
    "cmesh=plt.pcolormesh(x1,x2,grid_hat,cmap=plt.cm.Spectral)\n",
    "plt.colorbar(cmesh,shrink=0.8)\n",
    "CS=plt.contour(x1,x2,grid_hat,levels=np.logspace(0,2,10))\n",
    "plt.clabel(CS,fontsize=9,inline=1,fmt='%.1f')\n",
    "plt.scatter(x[:,0],x[:,1],c=y,s=30,cmap=cm,marker='o')\n",
    "\n",
    "for i ,cc in enumerate(zip(centers,covs)):\n",
    "    center,cov=cc\n",
    "    value,vector=np.linalg.eigh(cov)\n",
    "    width,height=value[0],value[1]\n",
    "    v=vector[0]/sp.linalg.norm(vector[0])\n",
    "    angle=180*np.arctan(vector[1]/vector[0])/np.pi\n",
    "    e=Ellipse(xy=center,)\n",
    "\n",
    "plt.xlim((x1_min, x1_max))\n",
    "plt.ylim((x2_min, x2_max))\n",
    "mpl.rcParams['font.sans-serif'] = [u'SimHei']\n",
    "mpl.rcParams['axes.unicode_minus'] = False\n",
    "plt.title(u'GMM似然函数值', fontsize=20)\n",
    "plt.grid(True)\n",
    "plt.show()\n"
   ]
  },
  {
   "cell_type": "code",
   "execution_count": null,
   "metadata": {
    "collapsed": true
   },
   "outputs": [],
   "source": []
  }
 ],
 "metadata": {
  "kernelspec": {
   "display_name": "Python 3",
   "language": "python",
   "name": "python3"
  },
  "language_info": {
   "codemirror_mode": {
    "name": "ipython",
    "version": 3
   },
   "file_extension": ".py",
   "mimetype": "text/x-python",
   "name": "python",
   "nbconvert_exporter": "python",
   "pygments_lexer": "ipython3",
   "version": "3.6.3"
  }
 },
 "nbformat": 4,
 "nbformat_minor": 2
}
