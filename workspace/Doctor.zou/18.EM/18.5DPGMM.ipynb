{
 "cells": [
  {
   "cell_type": "code",
   "execution_count": 1,
   "metadata": {
    "ExecuteTime": {
     "end_time": "2020-10-30T03:08:33.450456Z",
     "start_time": "2020-10-30T03:08:31.797361Z"
    }
   },
   "outputs": [
    {
     "name": "stdout",
     "output_type": "stream",
     "text": [
      "Using matplotlib backend: Qt5Agg\n"
     ]
    }
   ],
   "source": [
    "import numpy as np\n",
    "from sklearn.mixture import GaussianMixture, BayesianGaussianMixture\n",
    "import scipy as sp\n",
    "import matplotlib as mpl\n",
    "import matplotlib.colors\n",
    "import matplotlib.pyplot as plt\n",
    "from matplotlib.patches import Ellipse\n",
    "%matplotlib auto"
   ]
  },
  {
   "cell_type": "code",
   "execution_count": null,
   "metadata": {
    "ExecuteTime": {
     "start_time": "2020-10-30T03:08:32.287Z"
    },
    "collapsed": true
   },
   "outputs": [],
   "source": [
    "def expand(a, b, rate=0.05):\n",
    "    d = (b - a) * rate\n",
    "    return a-d, b+d"
   ]
  },
  {
   "cell_type": "code",
   "execution_count": null,
   "metadata": {
    "ExecuteTime": {
     "start_time": "2020-10-30T03:08:33.927Z"
    },
    "collapsed": true
   },
   "outputs": [],
   "source": [
    "np.random.seed(0)\n",
    "cov1 = np.diag((1, 2))\n",
    "N1 = 500\n",
    "N2 = 300\n",
    "N = N1 + N2\n",
    "x1 = np.random.multivariate_normal(mean=(3, 2), cov=cov1, size=N1)\n",
    "m = np.array(((1, 1), (1, 3)))\n",
    "x1 = x1.dot(m)\n",
    "x2 = np.random.multivariate_normal(mean=(-1, 10), cov=cov1, size=N2)\n",
    "x = np.vstack((x1, x2))\n",
    "y = np.array([0]*N1 + [1]*N2)\n",
    "n_components = 3\n",
    "colors = '#A0FFA0', '#2090E0', '#FF8080'\n",
    "cm = mpl.colors.ListedColormap(colors)\n",
    "x1_min, x1_max = x[:, 0].min(), x[:, 0].max()\n",
    "x2_min, x2_max = x[:, 1].min(), x[:, 1].max()\n",
    "x1_min, x1_max = expand(x1_min, x1_max)\n",
    "x2_min, x2_max = expand(x2_min, x2_max)\n",
    "x1, x2 = np.mgrid[x1_min:x1_max:500j, x2_min:x2_max:500j]\n",
    "grid_test = np.stack((x1.flat, x2.flat), axis=1)\n"
   ]
  },
  {
   "cell_type": "code",
   "execution_count": 37,
   "metadata": {
    "ExecuteTime": {
     "end_time": "2020-08-14T09:21:32.363803Z",
     "start_time": "2020-08-14T09:21:31.146733Z"
    }
   },
   "outputs": [
    {
     "name": "stdout",
     "output_type": "stream",
     "text": [
      "GMM means : \n",
      " [[ -0.98543679  10.0756839 ]\n",
      " [  6.0239399   11.61448122]\n",
      " [  3.77430768   5.86579463]]\n",
      "GMM covs : \n",
      " [[[  0.89079177  -0.02572518]\n",
      "  [ -0.02572518   1.95106592]]\n",
      "\n",
      " [[  1.6667472    3.58655076]\n",
      "  [  3.58655076  10.40673433]]\n",
      "\n",
      " [[  1.5383593    3.21210121]\n",
      "  [  3.21210121   9.04107582]]]\n",
      "width: 0.890167971365  height:  1.95168972127\n",
      "value :  [ 0.89016797  1.95168972]\n",
      "vector :  [[-0.99970613 -0.02424137]\n",
      " [-0.02424137  0.99970613]]\n",
      "width: 0.383406337028  height:  11.6900751881\n",
      "value :  [  0.38340634  11.69007519]\n",
      "vector :  [[-0.9415397   0.33690207]\n",
      " [ 0.33690207  0.9415397 ]]\n",
      "width: 0.351065620111  height:  10.2283695008\n",
      "value :  [  0.35106562  10.2283695 ]\n",
      "vector :  [[-0.93797429  0.34670481]\n",
      " [ 0.34670481  0.93797429]]\n",
      "DPGMM means: \n",
      " [[  4.87811644   8.69857678]\n",
      " [ -0.97330325  10.07291035]\n",
      " [  2.67200409   9.19129532]]\n",
      "DPGMM covs: \n",
      " [[[  2.88512056   6.60504981]\n",
      "  [  6.60504981  17.92828469]]\n",
      "\n",
      " [[  0.96312252  -0.02851517]\n",
      "  [ -0.02851517   1.98150469]]\n",
      "\n",
      " [[  5.10545816   1.12829933]\n",
      "  [  1.12829933   6.18435041]]]\n",
      "width: 0.396663677058  height:  20.4167415722\n",
      "width: 0.962324711296  height:  1.98230250068\n"
     ]
    }
   ],
   "source": [
    "plt.figure(figsize=(8, 6), facecolor='w')\n",
    "plt.suptitle('GMM/DPGMM compare', fontsize=28)\n",
    "ax = plt.subplot(211)\n",
    "gmm = GaussianMixture(n_components=n_components,\n",
    "                      covariance_type='full',\n",
    "                      random_state=0)\n",
    "gmm.fit(x)\n",
    "centers = gmm.means_\n",
    "covs = gmm.covariances_\n",
    "\n",
    "print('GMM means : \\n', centers)\n",
    "print('GMM covs : \\n', covs)\n",
    "\n",
    "y_hat = gmm.predict(x)\n",
    "grid_hat = gmm.predict(grid_test)\n",
    "grid_hat = grid_hat.reshape(x1.shape)\n",
    "\n",
    "clrs = list('rgbmy')\n",
    "colors = '#A0FFA0', '#2090E0', '#FF8080'\n",
    "cm = mpl.colors.ListedColormap(colors)\n",
    "plt.pcolormesh(x1, x2, grid_hat, cmap=cm)\n",
    "plt.scatter(x[:, 0], x[:, 1], s=30, c=y, cmap=cm, marker='o',edgecolors='#202020')\n",
    "\n",
    "for i, cc in enumerate(zip(centers, covs)):\n",
    "    centers, cov = cc\n",
    "    value, vector = sp.linalg.eigh(cov)\n",
    "    width, height = value[0], value[1]\n",
    "    print('width:', width, ' height: ', height)\n",
    "    print('value : ', value)\n",
    "    print('vector : ', vector)\n",
    "    v = vector[0] / sp.linalg.norm(vector[0])\n",
    "    angle = 180 * np.arctan(v[1] / v[0]) / np.pi\n",
    "    e = Ellipse(xy=centers,\n",
    "                width=width,\n",
    "                height=height,\n",
    "                angle=angle,\n",
    "                color=clrs[i],\n",
    "                alpha=0.5,\n",
    "                clip_box=ax.bbox)\n",
    "    ax.add_artist(e)\n",
    "ax1_min, ax1_max, ax2_min, ax2_max = plt.axis()\n",
    "plt.xlim((x1_min, x1_max))\n",
    "plt.ylim((x2_min, x2_max))\n",
    "plt.title(u'GMM', fontsize=20)\n",
    "\n",
    "############################## DPGMM\n",
    "dpgmm = BayesianGaussianMixture(\n",
    "    n_components=n_components,\n",
    "    covariance_type='full',\n",
    "    max_iter=1000,\n",
    "    n_init=5,\n",
    "    weight_concentration_prior_type='dirichlet_process',\n",
    "    weight_concentration_prior=10)\n",
    "\n",
    "dpgmm.fit(x)\n",
    "centers = dpgmm.means_\n",
    "covs = dpgmm.covariances_\n",
    "print('DPGMM means: \\n', centers)\n",
    "print('DPGMM covs: \\n', covs)\n",
    "\n",
    "y_hat = dpgmm.predict(x)\n",
    "\n",
    "ax = plt.subplot(212)\n",
    "grid_hat = dpgmm.predict(grid_test)\n",
    "grid_hat = grid_hat.reshape(x1.shape)\n",
    "\n",
    "plt.pcolormesh(x1, x2, grid_hat, cmap=cm)\n",
    "plt.scatter(x[:, 0], x[:, 1], c=y, s=30, cmap=cm, marker='o',edgecolors='#202020')\n",
    "\n",
    "for i, cc in enumerate(zip(centers, covs)):\n",
    "    if i not in y_hat:\n",
    "        continue\n",
    "    center, cov = cc\n",
    "    value, vector = sp.linalg.eigh(cov)\n",
    "    width, height = value[0], value[1]\n",
    "    v = vector[0] / sp.linalg.norm(vector[0])\n",
    "    angle = 180 * np.arctan(v[1] / v[0]) / np.pi\n",
    "    print('width:', width, ' height: ', height)\n",
    "    e = Ellipse(xy=center,\n",
    "                width=width,\n",
    "                height=height,\n",
    "                angle=angle,\n",
    "                alpha=0.5,\n",
    "                color='m',\n",
    "                clip_box=ax.bbox)\n",
    "\n",
    "    ax.add_artist(e)\n",
    "\n",
    "plt.xlim((x1_min, x1_max))\n",
    "plt.ylim((x2_min, x2_max))\n",
    "plt.title('DPGMM', fontsize=15)\n",
    "plt.tight_layout()\n",
    "plt.subplots_adjust(top=0.9)\n",
    "\n",
    "plt.show()"
   ]
  },
  {
   "cell_type": "code",
   "execution_count": null,
   "metadata": {
    "collapsed": true
   },
   "outputs": [],
   "source": []
  }
 ],
 "metadata": {
  "kernelspec": {
   "display_name": "Python 3",
   "language": "python",
   "name": "python3"
  },
  "language_info": {
   "codemirror_mode": {
    "name": "ipython",
    "version": 3
   },
   "file_extension": ".py",
   "mimetype": "text/x-python",
   "name": "python",
   "nbconvert_exporter": "python",
   "pygments_lexer": "ipython3",
   "version": "3.6.3"
  }
 },
 "nbformat": 4,
 "nbformat_minor": 2
}
