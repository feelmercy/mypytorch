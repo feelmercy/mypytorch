{
 "cells": [
  {
   "cell_type": "code",
   "execution_count": null,
   "metadata": {
    "ExecuteTime": {
     "end_time": "2020-07-31T06:46:35.141093Z",
     "start_time": "2020-07-31T06:46:34.334047Z"
    }
   },
   "outputs": [],
   "source": [
    "import numpy as np\n",
    "from sklearn.mixture import GaussianMixture\n",
    "from sklearn.model_selection import train_test_split\n",
    "import matplotlib as mpl\n",
    "import matplotlib.colors\n",
    "import matplotlib.pyplot as plt\n",
    "%matplotlib auto"
   ]
  },
  {
   "cell_type": "code",
   "execution_count": 2,
   "metadata": {
    "ExecuteTime": {
     "end_time": "2020-07-31T06:46:36.346162Z",
     "start_time": "2020-07-31T06:46:36.336161Z"
    },
    "collapsed": true
   },
   "outputs": [],
   "source": [
    "def expand(a,b):\n",
    "    d=(b-a)*0.05\n",
    "    return a-d,b+d"
   ]
  },
  {
   "cell_type": "code",
   "execution_count": 3,
   "metadata": {
    "ExecuteTime": {
     "end_time": "2020-07-31T06:46:39.058317Z",
     "start_time": "2020-07-31T06:46:39.046316Z"
    },
    "collapsed": true
   },
   "outputs": [],
   "source": [
    "data=np.loadtxt(r'F:\\study\\ml\\DoctorZou\\18EMII\\18.HeightWeight.csv',\n",
    "               delimiter=',',dtype=np.float,skiprows=1)"
   ]
  },
  {
   "cell_type": "code",
   "execution_count": 4,
   "metadata": {
    "ExecuteTime": {
     "end_time": "2020-07-31T06:46:52.206069Z",
     "start_time": "2020-07-31T06:46:52.198068Z"
    },
    "collapsed": true
   },
   "outputs": [],
   "source": [
    "y,x=np.split(data,[1,],axis=1)"
   ]
  },
  {
   "cell_type": "code",
   "execution_count": 5,
   "metadata": {
    "ExecuteTime": {
     "end_time": "2020-07-31T06:46:57.990400Z",
     "start_time": "2020-07-31T06:46:57.981399Z"
    },
    "collapsed": true
   },
   "outputs": [],
   "source": [
    "x,x_test,y,y_test=train_test_split(x,y,test_size=0.4,random_state=0)"
   ]
  },
  {
   "cell_type": "code",
   "execution_count": 6,
   "metadata": {
    "ExecuteTime": {
     "end_time": "2020-07-31T06:47:09.964085Z",
     "start_time": "2020-07-31T06:47:09.910081Z"
    }
   },
   "outputs": [
    {
     "name": "stdout",
     "output_type": "stream",
     "text": [
      "mean :  [[ 160.13983374   55.93370575]\n",
      " [ 173.50243688   65.03359308]]\n",
      "covs :  [[[  18.82128194   12.30370549]\n",
      "  [  12.30370549   31.23596113]]\n",
      "\n",
      " [[  23.22794989   28.48688647]\n",
      "  [  28.48688647  105.81824734]]]\n"
     ]
    }
   ],
   "source": [
    "gmm=GaussianMixture(n_components=2,covariance_type='full',random_state=0)\n",
    "x_min=np.min(x,axis=0)\n",
    "x_max=np.max(x,axis=0)\n",
    "gmm.fit(x)\n",
    "print('mean : ',gmm.means_)\n",
    "print('covs : ',gmm.covariances_)"
   ]
  },
  {
   "cell_type": "code",
   "execution_count": 7,
   "metadata": {
    "ExecuteTime": {
     "end_time": "2020-07-31T06:47:18.156553Z",
     "start_time": "2020-07-31T06:47:18.135552Z"
    }
   },
   "outputs": [
    {
     "data": {
      "text/plain": [
       "False"
      ]
     },
     "execution_count": 7,
     "metadata": {},
     "output_type": "execute_result"
    }
   ],
   "source": [
    "y_hat=gmm.predict(x)\n",
    "y_test_hat=gmm.predict(x_test)\n",
    "change=gmm.means_[0][0]>gmm.means_[1][0]\n",
    "change"
   ]
  },
  {
   "cell_type": "code",
   "execution_count": null,
   "metadata": {
    "ExecuteTime": {
     "end_time": "2020-07-31T06:45:00.541682Z",
     "start_time": "2020-07-31T06:45:00.526681Z"
    },
    "collapsed": true
   },
   "outputs": [],
   "source": [
    "if change:\n",
    "    z=y_hat==0\n",
    "    y_hat[z]=1\n",
    "    y_hat[~z]=0\n",
    "    z=y_test_hat==0\n",
    "    y_test_hat[z]=1\n",
    "    y_test_hat[~z]=0"
   ]
  },
  {
   "cell_type": "code",
   "execution_count": null,
   "metadata": {
    "ExecuteTime": {
     "end_time": "2020-07-27T09:00:41.542131Z",
     "start_time": "2020-07-27T09:00:41.531131Z"
    },
    "collapsed": true
   },
   "outputs": [],
   "source": [
    "acc=np.mean(y_hat.ravel()==y.ravel())\n",
    "acc_test=np.mean(y_test_hat.ravel()==y_test.ravel())"
   ]
  },
  {
   "cell_type": "code",
   "execution_count": null,
   "metadata": {
    "ExecuteTime": {
     "end_time": "2020-07-27T09:01:23.791548Z",
     "start_time": "2020-07-27T09:01:23.778547Z"
    }
   },
   "outputs": [],
   "source": [
    "np.mean(y_hat==y)"
   ]
  },
  {
   "cell_type": "code",
   "execution_count": null,
   "metadata": {
    "ExecuteTime": {
     "end_time": "2020-07-27T09:01:13.110937Z",
     "start_time": "2020-07-27T09:01:13.099936Z"
    }
   },
   "outputs": [],
   "source": [
    "print('acc :',acc)\n",
    "print('acc_test :',acc_test)"
   ]
  },
  {
   "cell_type": "code",
   "execution_count": null,
   "metadata": {
    "ExecuteTime": {
     "end_time": "2020-07-27T09:05:11.372565Z",
     "start_time": "2020-07-27T09:05:11.364564Z"
    },
    "collapsed": true
   },
   "outputs": [],
   "source": [
    "acc_str='train set acc: %.2f%%' % (acc*100)\n",
    "acc_test_str='test set acc: %.2f%%' % (acc_test*100)"
   ]
  },
  {
   "cell_type": "code",
   "execution_count": null,
   "metadata": {
    "ExecuteTime": {
     "end_time": "2020-07-27T09:07:09.092298Z",
     "start_time": "2020-07-27T09:07:09.083297Z"
    },
    "collapsed": true
   },
   "outputs": [],
   "source": [
    "cm_light=mpl.colors.ListedColormap(['#FF8080','#77E0A0'])\n",
    "cm_dark=mpl.colors.ListedColormap(list('rg'))"
   ]
  },
  {
   "cell_type": "code",
   "execution_count": null,
   "metadata": {
    "ExecuteTime": {
     "end_time": "2020-07-27T09:08:15.232081Z",
     "start_time": "2020-07-27T09:08:15.222080Z"
    }
   },
   "outputs": [],
   "source": [
    "for i in cm_light.colors:\n",
    "    print(i)"
   ]
  },
  {
   "cell_type": "code",
   "execution_count": null,
   "metadata": {
    "ExecuteTime": {
     "end_time": "2020-07-27T09:24:01.635212Z",
     "start_time": "2020-07-27T09:24:01.619211Z"
    },
    "collapsed": true
   },
   "outputs": [],
   "source": [
    "x1_min,x1_max=x[:,0].min(),x[:,0].max()\n",
    "x2_min,x2_max=x[:,1].min(),x[:,1].max()\n",
    "x1_min,x1_max=expand(x1_min,x1_max)\n",
    "x2_min,x2_max=expand(x2_min,x2_max)"
   ]
  },
  {
   "cell_type": "code",
   "execution_count": null,
   "metadata": {
    "ExecuteTime": {
     "end_time": "2020-07-27T09:24:02.239247Z",
     "start_time": "2020-07-27T09:24:02.228246Z"
    }
   },
   "outputs": [],
   "source": [
    "x1_min"
   ]
  },
  {
   "cell_type": "code",
   "execution_count": null,
   "metadata": {
    "ExecuteTime": {
     "end_time": "2020-07-27T09:25:04.854828Z",
     "start_time": "2020-07-27T09:25:04.772823Z"
    },
    "collapsed": true
   },
   "outputs": [],
   "source": [
    "x1,x2=np.mgrid[x1_min:x1_max:500j,x2_min:x2_max:500j]\n",
    "grid_test=np.stack((x1.flat,x2.flat),axis=1)\n",
    "grid_hat=gmm.predict(grid_test)\n",
    "grid_hat=grid_hat.reshape(x1.shape)"
   ]
  },
  {
   "cell_type": "code",
   "execution_count": null,
   "metadata": {
    "ExecuteTime": {
     "end_time": "2020-07-27T09:25:59.832973Z",
     "start_time": "2020-07-27T09:25:59.821972Z"
    },
    "collapsed": true
   },
   "outputs": [],
   "source": [
    "if change:\n",
    "    z=grid_hat==0\n",
    "    grid_hat[z]=1\n",
    "    grid_hat[~z]=0"
   ]
  },
  {
   "cell_type": "code",
   "execution_count": null,
   "metadata": {
    "ExecuteTime": {
     "end_time": "2020-07-30T02:16:58.754059Z",
     "start_time": "2020-07-30T02:16:58.742058Z"
    }
   },
   "outputs": [],
   "source": [
    "20/0.38"
   ]
  },
  {
   "cell_type": "code",
   "execution_count": null,
   "metadata": {
    "collapsed": true
   },
   "outputs": [],
   "source": []
  }
 ],
 "metadata": {
  "kernelspec": {
   "display_name": "Python 3",
   "language": "python",
   "name": "python3"
  },
  "language_info": {
   "codemirror_mode": {
    "name": "ipython",
    "version": 3
   },
   "file_extension": ".py",
   "mimetype": "text/x-python",
   "name": "python",
   "nbconvert_exporter": "python",
   "pygments_lexer": "ipython3",
   "version": "3.6.3"
  }
 },
 "nbformat": 4,
 "nbformat_minor": 2
}
