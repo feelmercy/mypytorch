{
 "cells": [
  {
   "cell_type": "code",
   "execution_count": null,
   "metadata": {
    "ExecuteTime": {
     "end_time": "2020-08-04T06:29:18.845180Z",
     "start_time": "2020-08-04T06:29:17.901126Z"
    }
   },
   "outputs": [],
   "source": [
    "import numpy as np\n",
    "from sklearn.mixture import GaussianMixture\n",
    "import matplotlib as mpl\n",
    "import matplotlib.colors\n",
    "import matplotlib.pyplot as plt\n",
    "%matplotlib auto"
   ]
  },
  {
   "cell_type": "code",
   "execution_count": null,
   "metadata": {
    "ExecuteTime": {
     "end_time": "2020-08-04T06:29:18.867181Z",
     "start_time": "2020-08-04T06:29:18.863181Z"
    },
    "collapsed": true
   },
   "outputs": [],
   "source": [
    "def expand(a,b,rate=0.05):\n",
    "    d=(b-a)*rate\n",
    "    return a-d,b+d"
   ]
  },
  {
   "cell_type": "code",
   "execution_count": 7,
   "metadata": {
    "ExecuteTime": {
     "end_time": "2020-08-04T06:47:31.615683Z",
     "start_time": "2020-08-04T06:47:31.604682Z"
    },
    "collapsed": true
   },
   "outputs": [],
   "source": [
    "def accuracy_rate(y1,y2):\n",
    "    acc=np.mean(y1==y2)\n",
    "    return acc if acc>0.5 else 1-acc"
   ]
  },
  {
   "cell_type": "code",
   "execution_count": 4,
   "metadata": {
    "ExecuteTime": {
     "end_time": "2020-08-04T06:29:19.936242Z",
     "start_time": "2020-08-04T06:29:19.890239Z"
    }
   },
   "outputs": [],
   "source": [
    "np.random.seed(0)\n",
    "cov1=np.diag((1,2))\n",
    "N1=500\n",
    "N2=300\n",
    "N=N1+N2\n",
    "x1=np.random.multivariate_normal(mean=(1,2),cov=cov1,size=N1)\n",
    "m=np.array(((1,1),(1,3)))\n",
    "x1=x1.dot(m)\n",
    "x2=np.random.multivariate_normal(mean=(-1,10),cov=cov1,size=N2)\n",
    "# x1.shape\n",
    "# x2.shape\n",
    "x=np.vstack((x1,x2))\n",
    "y=np.array([0]*N1+[1]*N2)"
   ]
  },
  {
   "cell_type": "code",
   "execution_count": 5,
   "metadata": {
    "ExecuteTime": {
     "end_time": "2020-08-04T06:29:22.741403Z",
     "start_time": "2020-08-04T06:29:22.730402Z"
    },
    "collapsed": true
   },
   "outputs": [],
   "source": [
    "types=('spherical','diag','tied','full')\n",
    "err=np.empty(len(types))\n",
    "bic=np.empty(len(types))"
   ]
  },
  {
   "cell_type": "code",
   "execution_count": 11,
   "metadata": {
    "ExecuteTime": {
     "end_time": "2020-08-04T06:52:00.090038Z",
     "start_time": "2020-08-04T06:51:59.983032Z"
    }
   },
   "outputs": [
    {
     "name": "stdout",
     "output_type": "stream",
     "text": [
      "err rate :  [ 0.385    0.315    0.3      0.00125]\n",
      "bic :  [ 7990.71460065  7855.56050855  8006.49834359  6845.79374805]\n"
     ]
    }
   ],
   "source": [
    "for i ,type in enumerate(types):\n",
    "    gmm=GaussianMixture(n_components=2,covariance_type=type,random_state=0)\n",
    "    gmm.fit(x)\n",
    "    err[i]=1 - accuracy_rate(gmm.predict(x),y)\n",
    "    bic[i]=gmm.bic(x)\n",
    "print('err rate : ',err.ravel())\n",
    "print('bic : ',bic.ravel())"
   ]
  },
  {
   "cell_type": "code",
   "execution_count": 13,
   "metadata": {
    "ExecuteTime": {
     "end_time": "2020-08-04T07:13:44.580651Z",
     "start_time": "2020-08-04T07:13:44.470645Z"
    }
   },
   "outputs": [],
   "source": [
    "xpos=np.arange(4)\n",
    "ax=plt.axes()\n",
    "b1=ax.bar(xpos-0.3,err,width=0.3,color='#77E0A0')\n",
    "b2=ax.twinx().bar(xpos,bic,width=0.3 ,color='#FF8080')\n",
    "bic_min,bic_max=expand(bic.min(),bic.max())\n",
    "plt.ylim((bic_min,bic_max))\n",
    "plt.xticks(xpos,types)\n",
    "plt.legend([b1[0],b2[0]],('err rate','bic'))\n",
    "plt.title('different kinds of types err rate and bic ',fontsize=18  )\n",
    "plt.show()"
   ]
  },
  {
   "cell_type": "code",
   "execution_count": 25,
   "metadata": {
    "ExecuteTime": {
     "end_time": "2020-08-04T07:45:27.839511Z",
     "start_time": "2020-08-04T07:45:27.663501Z"
    }
   },
   "outputs": [],
   "source": [
    "cm_light=mpl.colors.ListedColormap(['#FF8080','#77E0A0'])\n",
    "cm_dark=mpl.colors.ListedColormap(['r','g'])\n",
    "x1_min,x1_max=x[:,0].min(),x[:,0].max()\n",
    "x2_min,x2_max=x[:,1].min(),x[:,1].max()\n",
    "x1_min,x1_max=expand(x1_min,x1_max)\n",
    "x2_min,x2_max=expand(x2_min,x2_max)\n",
    "x1,x2=np.mgrid[x1_min:x1_max:500j,x2_min:x2_max:500j]\n",
    "grid_test=np.stack((x1.flat,x2.flat),axis=1)\n",
    "grid_hat=gmm.predict(grid_test)\n",
    "grid_hat=grid_hat.reshape(x1.shape)\n",
    "plt.figure(figsize=(7,5),facecolor='w')\n",
    "plt.pcolormesh(x1,x2,grid_hat,cmap=cm_light)\n",
    "plt.scatter(x[:,0],x[:,1],c=y,s=30,marker='o',cmap=cm_dark,edgecolors='k')\n",
    "\n",
    "optimal = bic.argmin()\n",
    "ax1_min,ax1_max,ax2_min,ax2_max=plt.axis()\n",
    "plt.xlim((x1_min,x1_max))\n",
    "plt.ylim((x2_min,x2_max))\n",
    "plt.title(u'gmm turning: covariance_type=%s ' % types[optimal],fontsize=20)\n",
    "# plt.title(u'GMM调参：covariance_type=%s' % types[optimal], fontsize=20)\n",
    "plt.show()"
   ]
  },
  {
   "cell_type": "code",
   "execution_count": null,
   "metadata": {
    "collapsed": true
   },
   "outputs": [],
   "source": []
  }
 ],
 "metadata": {
  "kernelspec": {
   "display_name": "Python 3",
   "language": "python",
   "name": "python3"
  },
  "language_info": {
   "codemirror_mode": {
    "name": "ipython",
    "version": 3
   },
   "file_extension": ".py",
   "mimetype": "text/x-python",
   "name": "python",
   "nbconvert_exporter": "python",
   "pygments_lexer": "ipython3",
   "version": "3.6.3"
  }
 },
 "nbformat": 4,
 "nbformat_minor": 2
}
