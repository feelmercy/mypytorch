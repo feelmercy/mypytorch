{
 "cells": [
  {
   "cell_type": "code",
   "execution_count": 34,
   "metadata": {
    "ExecuteTime": {
     "end_time": "2020-10-23T05:46:45.546151Z",
     "start_time": "2020-10-23T05:46:45.529150Z"
    }
   },
   "outputs": [
    {
     "name": "stdout",
     "output_type": "stream",
     "text": [
      "Using matplotlib backend: Qt5Agg\n"
     ]
    }
   ],
   "source": [
    "import numpy as np\n",
    "from scipy.stats import multivariate_normal\n",
    "from sklearn.mixture import GaussianMixture\n",
    "from mpl_toolkits.mplot3d import Axes3D\n",
    "import matplotlib as mpl\n",
    "import matplotlib.pyplot as plt\n",
    "from sklearn.metrics.pairwise import pairwise_distances_argmin\n",
    "import pandas as pd\n",
    "%matplotlib auto\n",
    "mpl.rcParams['font.sans-serif'] = [u'SimHei']\n",
    "mpl.rcParams['axes.unicode_minus'] = False"
   ]
  },
  {
   "cell_type": "code",
   "execution_count": 3,
   "metadata": {
    "ExecuteTime": {
     "end_time": "2020-10-23T03:02:26.439242Z",
     "start_time": "2020-10-23T03:02:26.402240Z"
    },
    "collapsed": true
   },
   "outputs": [],
   "source": [
    "path='F:\\\\study\\\\ml\\\\DoctorZou\\\\18EMII\\\\EM_Test2.csv'\n",
    "data=pd.read_csv(path)"
   ]
  },
  {
   "cell_type": "code",
   "execution_count": 11,
   "metadata": {
    "ExecuteTime": {
     "end_time": "2020-10-23T03:05:03.103203Z",
     "start_time": "2020-10-23T03:05:03.089202Z"
    }
   },
   "outputs": [
    {
     "data": {
      "text/plain": [
       "array([ 0.4105,  0.3961,  0.3935, ...,  0.3918,  0.3889,  0.3653])"
      ]
     },
     "execution_count": 11,
     "metadata": {},
     "output_type": "execute_result"
    }
   ],
   "source": [
    "data[data['Device_ID']==17038]['P'].values"
   ]
  },
  {
   "cell_type": "code",
   "execution_count": 28,
   "metadata": {
    "ExecuteTime": {
     "end_time": "2020-10-23T03:19:41.860465Z",
     "start_time": "2020-10-23T03:19:41.850464Z"
    }
   },
   "outputs": [],
   "source": [
    "data1=data[(data['Device_ID']==17038) & ((data['Data_Time']>='2020-08-28T05:30:00') & (data['Data_Time']<='2020-08-28T12:30:00'))]"
   ]
  },
  {
   "cell_type": "code",
   "execution_count": 29,
   "metadata": {
    "ExecuteTime": {
     "end_time": "2020-10-23T03:19:54.446185Z",
     "start_time": "2020-10-23T03:19:54.433184Z"
    }
   },
   "outputs": [
    {
     "data": {
      "text/plain": [
       "17791    0.3975\n",
       "17792    0.3790\n",
       "17793    0.3632\n",
       "17794    0.3332\n",
       "17795    0.3303\n",
       "17796    0.3377\n",
       "17797    0.3374\n",
       "17798    0.3377\n",
       "17799    0.3359\n",
       "17800    0.3378\n",
       "17801    0.3358\n",
       "17802    0.3353\n",
       "17803    0.3344\n",
       "17804    0.3283\n",
       "17805    0.1378\n",
       "17806    0.0864\n",
       "17807    0.0861\n",
       "17808    0.0862\n",
       "17809    0.0860\n",
       "17810    0.0861\n",
       "17811    0.0750\n",
       "17812    0.0748\n",
       "17813    0.0824\n",
       "17814    0.0825\n",
       "17815    0.0823\n",
       "17816    0.0827\n",
       "17817    0.0826\n",
       "17818    0.0832\n",
       "17819    0.0825\n",
       "Name: P, dtype: float64"
      ]
     },
     "execution_count": 29,
     "metadata": {},
     "output_type": "execute_result"
    }
   ],
   "source": [
    "data1['P']"
   ]
  },
  {
   "cell_type": "code",
   "execution_count": 39,
   "metadata": {
    "ExecuteTime": {
     "end_time": "2020-10-23T06:05:33.547669Z",
     "start_time": "2020-10-23T06:05:33.406661Z"
    }
   },
   "outputs": [],
   "source": [
    "plt.figure(figsize=(10,6),facecolor='w')\n",
    "\n",
    "plt.scatter(data1['P'].values,data1['Data_Time'].values,c='k',s=30,marker='o')\n",
    "# plt.hist(data[data['Device_ID']==17038]['P'].values,bins=2)\n",
    "# plt.set_title('orginal data:',fontsize=18)\n",
    "\n",
    "# ax=fig.add_subplot(122,projection='3d')\n",
    "# order=pairwise_distances_argmin([mu1_fact,mu2_fact],[mu1,mu2],metric='euclidean')\n",
    "# if order[0]==0:\n",
    "#     c1=tau1>tau2\n",
    "# else:\n",
    "#     c1=tau1<tau2\n",
    "# c2=~c1\n",
    "# acc=np.mean(y==c1)\n",
    "# print('accurancy:%.2f%%' % (100*acc))\n",
    "# ax.scatter(data[c1,0],data[c1,1],data[c1,2],c='r',s=30,marker='o',depthshade=True)\n",
    "# ax.scatter(data[c2,0],data[c2,1],data[c2,2],c='g',s=30,marker='^',depthshade=True)\n",
    "# ax.set_xlabel('X')\n",
    "# ax.set_ylabel('Y')\n",
    "# ax.set_zlabel('Z')\n",
    "# ax.set_title('EM data:',fontsize=18)\n",
    "# plt.xticks(rotation=70)\n",
    "plt.ylabel(u'上传时间')\n",
    "plt.xlabel(u'用电量(kwh)')\n",
    "plt.tight_layout()\n",
    "plt.show()"
   ]
  },
  {
   "cell_type": "code",
   "execution_count": null,
   "metadata": {
    "collapsed": true
   },
   "outputs": [],
   "source": []
  }
 ],
 "metadata": {
  "kernelspec": {
   "display_name": "Python 3",
   "language": "python",
   "name": "python3"
  },
  "language_info": {
   "codemirror_mode": {
    "name": "ipython",
    "version": 3
   },
   "file_extension": ".py",
   "mimetype": "text/x-python",
   "name": "python",
   "nbconvert_exporter": "python",
   "pygments_lexer": "ipython3",
   "version": "3.6.3"
  }
 },
 "nbformat": 4,
 "nbformat_minor": 2
}
