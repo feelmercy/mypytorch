{
 "cells": [
  {
   "cell_type": "code",
   "execution_count": 1,
   "metadata": {
    "ExecuteTime": {
     "end_time": "2020-07-31T08:42:14.549004Z",
     "start_time": "2020-07-31T08:42:13.701956Z"
    }
   },
   "outputs": [
    {
     "name": "stdout",
     "output_type": "stream",
     "text": [
      "Using matplotlib backend: Qt5Agg\n"
     ]
    }
   ],
   "source": [
    "import numpy as np\n",
    "from sklearn.mixture import GaussianMixture\n",
    "from sklearn.model_selection import train_test_split\n",
    "import matplotlib as mpl\n",
    "import matplotlib.colors\n",
    "import matplotlib.pyplot as plt\n",
    "%matplotlib auto"
   ]
  },
  {
   "cell_type": "code",
   "execution_count": 3,
   "metadata": {
    "ExecuteTime": {
     "end_time": "2020-07-31T08:47:21.996589Z",
     "start_time": "2020-07-31T08:47:21.989589Z"
    },
    "collapsed": true
   },
   "outputs": [],
   "source": [
    "def expand(a,b):\n",
    "    d=(b-a)*0.05\n",
    "    return a-d,b+d"
   ]
  },
  {
   "cell_type": "code",
   "execution_count": 8,
   "metadata": {
    "ExecuteTime": {
     "end_time": "2020-07-31T08:50:02.117748Z",
     "start_time": "2020-07-31T08:50:02.106747Z"
    }
   },
   "outputs": [],
   "source": [
    "data = np.loadtxt(r'F:\\study\\ml\\DoctorZou\\18EMII\\18.HeightWeight.csv',\n",
    "               delimiter=',',\n",
    "               dtype=np.float,\n",
    "               skiprows=1)"
   ]
  },
  {
   "cell_type": "code",
   "execution_count": 9,
   "metadata": {
    "ExecuteTime": {
     "end_time": "2020-07-31T08:51:08.528546Z",
     "start_time": "2020-07-31T08:51:08.524546Z"
    },
    "collapsed": true
   },
   "outputs": [],
   "source": [
    "y,x=np.split(data,[1,],axis=1)\n",
    "x,x_test,y,y_test=train_test_split(x,y,test_size=0.4,random_state=0)"
   ]
  },
  {
   "cell_type": "code",
   "execution_count": 11,
   "metadata": {
    "ExecuteTime": {
     "end_time": "2020-07-31T08:53:03.782138Z",
     "start_time": "2020-07-31T08:53:03.775138Z"
    }
   },
   "outputs": [],
   "source": [
    "gmm=GaussianMixture(n_components=2,covariance_type='full',random_state=0)"
   ]
  },
  {
   "cell_type": "code",
   "execution_count": 13,
   "metadata": {
    "ExecuteTime": {
     "end_time": "2020-07-31T08:54:14.989211Z",
     "start_time": "2020-07-31T08:54:14.984211Z"
    },
    "collapsed": true
   },
   "outputs": [],
   "source": [
    "x_min=np.min(x,axis=0)\n",
    "x_max=np.max(x,axis=0)"
   ]
  },
  {
   "cell_type": "code",
   "execution_count": 14,
   "metadata": {
    "ExecuteTime": {
     "end_time": "2020-07-31T08:54:52.469355Z",
     "start_time": "2020-07-31T08:54:52.437353Z"
    }
   },
   "outputs": [
    {
     "name": "stdout",
     "output_type": "stream",
     "text": [
      "mean :  [[ 160.13983374   55.93370575]\n",
      " [ 173.50243688   65.03359308]]\n",
      "covariance :  [[[  18.82128194   12.30370549]\n",
      "  [  12.30370549   31.23596113]]\n",
      "\n",
      " [[  23.22794989   28.48688647]\n",
      "  [  28.48688647  105.81824734]]]\n"
     ]
    }
   ],
   "source": [
    "gmm.fit(x)\n",
    "print('mean : ',gmm.means_)\n",
    "print('covariance : ',gmm.covariances_)"
   ]
  },
  {
   "cell_type": "code",
   "execution_count": 16,
   "metadata": {
    "ExecuteTime": {
     "end_time": "2020-07-31T08:55:53.583850Z",
     "start_time": "2020-07-31T08:55:53.573850Z"
    }
   },
   "outputs": [],
   "source": [
    "y_hat=gmm.predict(x)\n",
    "y_test_hat=gmm.predict(x_test)"
   ]
  },
  {
   "cell_type": "code",
   "execution_count": 17,
   "metadata": {
    "ExecuteTime": {
     "end_time": "2020-07-31T08:59:43.538003Z",
     "start_time": "2020-07-31T08:59:43.525002Z"
    },
    "collapsed": true
   },
   "outputs": [],
   "source": [
    "change=(gmm.means_[0][0] > gmm.means_[1][0])\n",
    "if change:\n",
    "    z=y_hat==0\n",
    "    y_hat[z]=1\n",
    "    y_hat[~z]=0\n",
    "    z=y_test_hat==0\n",
    "    y_test_hat[z]=1\n",
    "    y_test_hat[~z]=0"
   ]
  },
  {
   "cell_type": "code",
   "execution_count": 24,
   "metadata": {
    "ExecuteTime": {
     "end_time": "2020-07-31T09:02:59.626219Z",
     "start_time": "2020-07-31T09:02:59.620218Z"
    }
   },
   "outputs": [
    {
     "data": {
      "text/plain": [
       "array([[ True,  True, False],\n",
       "       [ True,  True, False]], dtype=bool)"
      ]
     },
     "execution_count": 24,
     "metadata": {},
     "output_type": "execute_result"
    }
   ],
   "source": [
    "np.array([[1,2,3],[2,3,4]])==np.array([[1,2,4],[2,3,5]])"
   ]
  },
  {
   "cell_type": "code",
   "execution_count": 28,
   "metadata": {
    "ExecuteTime": {
     "end_time": "2020-07-31T09:07:07.296384Z",
     "start_time": "2020-07-31T09:07:07.279383Z"
    }
   },
   "outputs": [
    {
     "name": "stdout",
     "output_type": "stream",
     "text": [
      "train set acc : 0.78% \n",
      " test set acc : 0.83%\n"
     ]
    }
   ],
   "source": [
    "acc=np.mean(y.ravel()==y_hat.ravel())\n",
    "acc_test=np.mean(y_test.ravel()==y_test_hat.ravel())\n",
    "acc_str='train set acc : %.2f%%' % acc\n",
    "acc_test_str='test set acc : %.2f%%' % acc_test\n",
    "print(acc_str,'\\n',acc_test_str)"
   ]
  },
  {
   "cell_type": "code",
   "execution_count": 42,
   "metadata": {
    "ExecuteTime": {
     "end_time": "2020-07-31T09:44:58.432286Z",
     "start_time": "2020-07-31T09:44:58.422285Z"
    }
   },
   "outputs": [
    {
     "data": {
      "text/plain": [
       "['abc']"
      ]
     },
     "execution_count": 42,
     "metadata": {},
     "output_type": "execute_result"
    }
   ],
   "source": [
    "['abc']"
   ]
  },
  {
   "cell_type": "code",
   "execution_count": 39,
   "metadata": {
    "ExecuteTime": {
     "end_time": "2020-07-31T09:43:27.985113Z",
     "start_time": "2020-07-31T09:43:27.979112Z"
    }
   },
   "outputs": [
    {
     "data": {
      "text/plain": [
       "['a', 'b', 'c']"
      ]
     },
     "execution_count": 39,
     "metadata": {},
     "output_type": "execute_result"
    }
   ],
   "source": [
    "list('abc')"
   ]
  },
  {
   "cell_type": "code",
   "execution_count": 43,
   "metadata": {
    "ExecuteTime": {
     "end_time": "2020-07-31T09:46:09.206334Z",
     "start_time": "2020-07-31T09:46:09.113329Z"
    }
   },
   "outputs": [],
   "source": [
    "cm_light=mpl.colors.ListedColormap(['#FF8080', '#77E0A0'])\n",
    "cm_dark=mpl.colors.ListedColormap(list('rg'))\n",
    "x1_min,x1_max=x[:,0].min(),x[:,0].max()\n",
    "x2_max,x2_min=x[:,1].min(),x[:,1].max()\n",
    "x1_min,x1_max=expand(x1_min,x1_max)\n",
    "x2_min,x2_max=expand(x2_min,x2_max)\n",
    "x1,x2=np.mgrid[x1_min:x1_max:500j,x2_min:x2_max:500j]\n",
    "grid_test=np.stack((x1.flat,x2.flat),axis=1)\n",
    "grid_hat=gmm.predict(grid_test)\n",
    "grid_hat=grid_hat.reshape(x1.shape)"
   ]
  },
  {
   "cell_type": "code",
   "execution_count": 45,
   "metadata": {
    "ExecuteTime": {
     "end_time": "2020-07-31T09:46:36.199878Z",
     "start_time": "2020-07-31T09:46:36.190877Z"
    }
   },
   "outputs": [
    {
     "data": {
      "text/plain": [
       "(68, 1)"
      ]
     },
     "execution_count": 45,
     "metadata": {},
     "output_type": "execute_result"
    }
   ],
   "source": [
    "y.shape"
   ]
  },
  {
   "cell_type": "code",
   "execution_count": 61,
   "metadata": {
    "ExecuteTime": {
     "end_time": "2020-07-31T10:07:57.300153Z",
     "start_time": "2020-07-31T10:07:57.093141Z"
    }
   },
   "outputs": [
    {
     "data": {
      "text/plain": [
       "Text(0,0.5,'weight(kg)')"
      ]
     },
     "execution_count": 61,
     "metadata": {},
     "output_type": "execute_result"
    }
   ],
   "source": [
    "plt.figure(figsize=(8,6),facecolor='w')\n",
    "plt.pcolormesh(x1,x2,grid_hat,cmap=cm_light)\n",
    "plt.scatter(x[:,0],x[:,1],s=50,c=y.ravel(),marker='o',cmap=cm_dark,edgecolors='k')\n",
    "plt.scatter(x_test[:,0],x_test[:,1],s=60,c=y_test.ravel(),cmap=cm_dark,edgecolors='k')\n",
    "\n",
    "p=gmm.predict_proba(grid_test)\n",
    "p=p[:,0].reshape(x1.shape)\n",
    "CS=plt.contour(x1,x2,p,levels=(0.2,0.5,0.8),colors=list('rgb'),linewidths=2)\n",
    "plt.clabel(CS,fontsize=15,fmt='%.1f',inline=True)\n",
    "ax1_min,ax1_max,ax2_min,ax2_max=plt.axis()\n",
    "xx=0.9*ax1_min+0.1*ax1_max\n",
    "yy=0.1*ax2_min+0.9*ax2_max\n",
    "# print(ax1_min,ax1_max,ax2_min,ax2_max)\n",
    "plt.text(xx,yy,acc_str,fontsize=18)\n",
    "yy=0.15*ax2_min+0.85*ax2_max\n",
    "plt.text(xx,yy,acc_test_str,fontsize=18)\n",
    "plt.xlim((x1_min,x1_max))\n",
    "plt.ylim((x2_min,x2_max))\n",
    "plt.xlabel('height(cm)',fontsize=20)\n",
    "plt.ylabel('weight(kg)',fontsize=20)\n",
    "# plt.show()"
   ]
  },
  {
   "cell_type": "code",
   "execution_count": 48,
   "metadata": {
    "ExecuteTime": {
     "end_time": "2020-07-31T09:53:01.004888Z",
     "start_time": "2020-07-31T09:53:00.883881Z"
    }
   },
   "outputs": [
    {
     "data": {
      "text/plain": [
       "array([[  4.00913470e-06,   9.99995991e-01],\n",
       "       [  4.62203715e-06,   9.99995378e-01],\n",
       "       [  5.32668411e-06,   9.99994673e-01],\n",
       "       ..., \n",
       "       [  2.19927891e-10,   1.00000000e+00],\n",
       "       [  2.01316864e-10,   1.00000000e+00],\n",
       "       [  1.84213208e-10,   1.00000000e+00]])"
      ]
     },
     "execution_count": 48,
     "metadata": {},
     "output_type": "execute_result"
    }
   ],
   "source": [
    "gmm.predict_proba(grid_test)"
   ]
  },
  {
   "cell_type": "code",
   "execution_count": null,
   "metadata": {
    "collapsed": true
   },
   "outputs": [],
   "source": []
  }
 ],
 "metadata": {
  "kernelspec": {
   "display_name": "Python 3",
   "language": "python",
   "name": "python3"
  },
  "language_info": {
   "codemirror_mode": {
    "name": "ipython",
    "version": 3
   },
   "file_extension": ".py",
   "mimetype": "text/x-python",
   "name": "python",
   "nbconvert_exporter": "python",
   "pygments_lexer": "ipython3",
   "version": "3.6.3"
  }
 },
 "nbformat": 4,
 "nbformat_minor": 2
}
