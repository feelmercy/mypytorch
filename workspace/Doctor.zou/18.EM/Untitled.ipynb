{
 "cells": [
  {
   "cell_type": "code",
   "execution_count": 1,
   "metadata": {
    "ExecuteTime": {
     "end_time": "2020-09-15T03:07:40.750009Z",
     "start_time": "2020-09-15T03:07:37.148803Z"
    },
    "collapsed": true
   },
   "outputs": [],
   "source": [
    "import numpy as np\n",
    "from scipy.stats import multivariate_normal\n",
    "from sklearn.mixture import GaussianMixture\n",
    "from mpl_toolkits.mplot3d import Axes3D\n",
    "import matplotlib as mpl\n",
    "import matplotlib.pyplot as plt\n",
    "from sklearn.metrics.pairwise import pairwise_distances_argmin"
   ]
  },
  {
   "cell_type": "code",
   "execution_count": 6,
   "metadata": {
    "ExecuteTime": {
     "end_time": "2020-09-15T03:13:53.202312Z",
     "start_time": "2020-09-15T03:13:52.899295Z"
    },
    "collapsed": true
   },
   "outputs": [],
   "source": [
    "np.random.seed(0)\n",
    "mu1_fact=(0,0,0)\n",
    "cov_fact=np.identity(3)\n",
    "data1=np.random.multivariate_normal(mu1_fact,cov_fact,400)\n",
    "mu2_fact=(3,3,3)\n",
    "data2=np.random.multivariate_normal(mu2_fact,cov_fact,100)\n",
    "data=np.vstack((data1,data2))\n",
    "y=np.array([0]*400+[1]*100)"
   ]
  },
  {
   "cell_type": "code",
   "execution_count": 18,
   "metadata": {
    "ExecuteTime": {
     "end_time": "2020-09-15T06:36:38.611134Z",
     "start_time": "2020-09-15T06:36:38.598133Z"
    },
    "collapsed": true
   },
   "outputs": [],
   "source": [
    "iter_num=100\n",
    "n,d=data.shape\n",
    "pi=0.5\n",
    "mu1=np.min(data,axis=0)\n",
    "mu2=np.max(data,axis=0)\n",
    "sigma1=np.identity(d)\n",
    "sigma2=np.identity(d)"
   ]
  },
  {
   "cell_type": "code",
   "execution_count": 21,
   "metadata": {
    "ExecuteTime": {
     "end_time": "2020-09-15T10:02:40.391187Z",
     "start_time": "2020-09-15T10:02:40.239178Z"
    }
   },
   "outputs": [
    {
     "name": "stdout",
     "output_type": "stream",
     "text": [
      "cate prob / example : 0.797580413292\n",
      "mean : \n",
      " [-0.00054615 -0.00499444 -0.07475788] [ 2.93143307  2.98501664  2.98944777]\n",
      "cov : \n",
      " [[ 0.92841225 -0.03948323  0.01723521]\n",
      " [-0.03948323  1.05425524 -0.04818367]\n",
      " [ 0.01723521 -0.04818367  0.86781276]] \n",
      " [[ 1.05503164 -0.06960455 -0.01908567]\n",
      " [-0.06960455  0.99677278  0.01410168]\n",
      " [-0.01908567  0.01410168  0.91006651]]\n"
     ]
    }
   ],
   "source": [
    "for i in range(iter_num):\n",
    "    norm1=multivariate_normal(mu1,sigma1)\n",
    "    norm2=multivariate_normal(mu2,sigma2)\n",
    "    tau1=pi*norm1.pdf(data)\n",
    "    tau2=(1-pi)*norm2.pdf(data)\n",
    "    gamma=tau1/(tau1+tau2)\n",
    "    \n",
    "    mu1=np.dot(gamma,data)/np.sum(gamma)\n",
    "    mu2=np.dot(1-gamma,data)/np.sum(1-gamma)\n",
    "    sigma1=np.dot(gamma*(data-mu1).T,data-mu1)/np.sum(gamma)\n",
    "    sigma2=np.dot((1-gamma)*(data-mu2).T,data-mu2)/np.sum(1-gamma)\n",
    "    p1=np.sum(gamma)/n\n",
    "    \n",
    "print('cate prob / example :',pi)\n",
    "print('mean : \\n',mu1,mu2)\n",
    "print('cov : \\n',sigma1,'\\n',sigma2)\n",
    "\n",
    "    \n",
    "    "
   ]
  },
  {
   "cell_type": "code",
   "execution_count": null,
   "metadata": {
    "collapsed": true
   },
   "outputs": [],
   "source": []
  }
 ],
 "metadata": {
  "kernelspec": {
   "display_name": "Python 3",
   "language": "python",
   "name": "python3"
  },
  "language_info": {
   "codemirror_mode": {
    "name": "ipython",
    "version": 3
   },
   "file_extension": ".py",
   "mimetype": "text/x-python",
   "name": "python",
   "nbconvert_exporter": "python",
   "pygments_lexer": "ipython3",
   "version": "3.6.3"
  }
 },
 "nbformat": 4,
 "nbformat_minor": 2
}
