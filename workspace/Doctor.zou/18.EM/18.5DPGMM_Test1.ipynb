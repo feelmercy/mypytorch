{
 "cells": [
  {
   "cell_type": "code",
   "execution_count": 1,
   "metadata": {
    "ExecuteTime": {
     "end_time": "2020-09-01T01:53:06.223293Z",
     "start_time": "2020-09-01T01:53:05.490251Z"
    }
   },
   "outputs": [
    {
     "name": "stdout",
     "output_type": "stream",
     "text": [
      "Using matplotlib backend: Qt5Agg\n"
     ]
    }
   ],
   "source": [
    "import numpy as np\n",
    "from sklearn.mixture import GaussianMixture, BayesianGaussianMixture\n",
    "import scipy as sp\n",
    "import matplotlib as mpl\n",
    "import matplotlib.colors\n",
    "import matplotlib.pyplot as plt\n",
    "from matplotlib.patches import Ellipse\n",
    "%matplotlib auto"
   ]
  },
  {
   "cell_type": "code",
   "execution_count": 2,
   "metadata": {
    "ExecuteTime": {
     "end_time": "2020-09-01T01:53:49.331758Z",
     "start_time": "2020-09-01T01:53:49.321758Z"
    },
    "collapsed": true
   },
   "outputs": [],
   "source": [
    "def expand(a,b,rate=0.05):\n",
    "    d=(b-a) * rate\n",
    "    return a-d,b+d"
   ]
  },
  {
   "cell_type": "code",
   "execution_count": 3,
   "metadata": {
    "ExecuteTime": {
     "end_time": "2020-09-01T02:32:59.097157Z",
     "start_time": "2020-09-01T02:32:58.693134Z"
    },
    "collapsed": true
   },
   "outputs": [],
   "source": [
    "np.random.seed(0)\n",
    "cov1=np.diag((1,2))\n",
    "N1=500\n",
    "N2=300\n",
    "N=N1+N2\n",
    "x1=np.random.multivariate_normal(mean=(3,2),cov=cov1,size=N1)\n",
    "m=np.array(((1,1),(1,3)))\n",
    "x1=x1.dot(m)\n",
    "x2=np.random.multivariate_normal(mean=(-1,10),cov=cov1,size=N2)\n",
    "x=np.vstack((x1,x2))\n",
    "y=np.array([0]*N1 + [1] * N2)\n",
    "n_components=3"
   ]
  },
  {
   "cell_type": "code",
   "execution_count": 4,
   "metadata": {
    "ExecuteTime": {
     "end_time": "2020-09-01T03:07:03.212074Z",
     "start_time": "2020-09-01T03:07:03.196073Z"
    },
    "collapsed": true
   },
   "outputs": [],
   "source": [
    "colors = '#A0FFA0', '#2090E0', '#FF8080'\n",
    "cm=mpl.colors.ListedColormap(colors)\n",
    "x1_min,x1_max=x[:,0].min(),x[:,0].max()\n",
    "x2_min,x2_max=x[:,1].min(),x[:,1].max()\n",
    "x1_min,x1_max=expand(x1_min,x1_max)\n",
    "x2_min,x2_max=expand(x2_min,x2_max)\n",
    "x1,x2=np.mgrid[x1_min:x1_max:500j,x2_min:x2_max:500j]\n",
    "grid_test=np.stack((x1.flat,x2.flat),axis=1)\n"
   ]
  },
  {
   "cell_type": "code",
   "execution_count": 21,
   "metadata": {
    "ExecuteTime": {
     "end_time": "2020-09-01T06:59:25.593533Z",
     "start_time": "2020-09-01T06:59:22.935381Z"
    }
   },
   "outputs": [
    {
     "name": "stdout",
     "output_type": "stream",
     "text": [
      "GMM mean: \n",
      " [[ -0.98543679  10.0756839 ]\n",
      " [  6.0239399   11.61448122]\n",
      " [  3.77430768   5.86579463]]\n",
      "GMM covs: \n",
      " [[[  0.89079177  -0.02572518]\n",
      "  [ -0.02572518   1.95106592]]\n",
      "\n",
      " [[  1.6667472    3.58655076]\n",
      "  [  3.58655076  10.40673433]]\n",
      "\n",
      " [[  1.5383593    3.21210121]\n",
      "  [  3.21210121   9.04107582]]]\n",
      "width :  0.890167971365\n",
      "height :  1.95168972127\n",
      "vector : \n",
      " [[-0.99970613 -0.02424137]\n",
      " [-0.02424137  0.99970613]]\n",
      "v :  [-0.99970613 -0.02424137]\n",
      "dpgmm mean:  [[  4.87811678   8.69857674]\n",
      " [ -0.97330412  10.0729114 ]\n",
      " [  2.6719079    9.19106722]]\n",
      "dpgmm covs : [[[  2.88512093   6.60505214]\n",
      "  [  6.60505214  17.92829051]]\n",
      "\n",
      " [[  0.96312125  -0.02851391]\n",
      "  [ -0.02851391   1.98150204]]\n",
      "\n",
      " [[  5.10545627   1.1283772 ]\n",
      "  [  1.1283772    6.18410239]]]\n",
      "width :  0.383406337028\n",
      "height :  11.6900751881\n",
      "vector : \n",
      " [[-0.9415397   0.33690207]\n",
      " [ 0.33690207  0.9415397 ]]\n",
      "v :  [-0.9415397   0.33690207]\n",
      "dpgmm mean:  [[  4.87811644   8.69857678]\n",
      " [ -0.97330325  10.07291035]\n",
      " [  2.67200409   9.19129532]]\n",
      "dpgmm covs : [[[  2.88512056   6.60504981]\n",
      "  [  6.60504981  17.92828469]]\n",
      "\n",
      " [[  0.96312252  -0.02851517]\n",
      "  [ -0.02851517   1.98150469]]\n",
      "\n",
      " [[  5.10545816   1.12829933]\n",
      "  [  1.12829933   6.18435041]]]\n",
      "width :  0.351065620111\n",
      "height :  10.2283695008\n",
      "vector : \n",
      " [[-0.93797429  0.34670481]\n",
      " [ 0.34670481  0.93797429]]\n",
      "v :  [-0.93797429  0.34670481]\n"
     ]
    },
    {
     "name": "stderr",
     "output_type": "stream",
     "text": [
      "D:\\ProgramData\\Anaconda3\\lib\\site-packages\\matplotlib\\cbook\\deprecation.py:106: MatplotlibDeprecationWarning: Adding an axes using the same arguments as a previous axes currently reuses the earlier instance.  In a future version, a new instance will always be created and returned.  Meanwhile, this warning can be suppressed, and the future behavior ensured, by passing a unique label to each axes instance.\n",
      "  warnings.warn(message, mplDeprecation, stacklevel=1)\n"
     ]
    },
    {
     "name": "stdout",
     "output_type": "stream",
     "text": [
      "dpgmm mean:  [[  4.87811644   8.69857678]\n",
      " [ -0.97330325  10.07291035]\n",
      " [  2.67200409   9.19129532]]\n",
      "dpgmm covs : [[[  2.88512056   6.60504981]\n",
      "  [  6.60504981  17.92828469]]\n",
      "\n",
      " [[  0.96312252  -0.02851517]\n",
      "  [ -0.02851517   1.98150469]]\n",
      "\n",
      " [[  5.10545816   1.12829933]\n",
      "  [  1.12829933   6.18435041]]]\n"
     ]
    }
   ],
   "source": [
    "plt.figure(figsize=(8, 6), facecolor='w')\n",
    "plt.suptitle('GMM/DPGMM diff', fontsize=16)\n",
    "ax = plt.subplot(211)\n",
    "gmm = GaussianMixture(n_components=n_components,\n",
    "                      covariance_type='full',\n",
    "                      random_state=0)\n",
    "gmm.fit(x)\n",
    "centers = gmm.means_\n",
    "covs = gmm.covariances_\n",
    "print('GMM mean: \\n', centers)\n",
    "print('GMM covs: \\n', covs)\n",
    "y_hat = gmm.predict(x)\n",
    "grid_hat = gmm.predict(grid_test)\n",
    "grid_hat = grid_hat.reshape(x1.shape)\n",
    "plt.pcolormesh(x1, x2, grid_hat, cmap=cm)\n",
    "plt.scatter(x[:, 0], x[:, 1], s=30, c=y, cmap=cm, marker='o')\n",
    "\n",
    "clrs = list('rgbmy')\n",
    "for i, cc in enumerate(zip(centers, covs)):\n",
    "    center, cov = cc\n",
    "    value, vector = sp.linalg.eigh(cov)\n",
    "    width, height = value[0], value[1]\n",
    "    print('width : ', width)\n",
    "    print('height : ', height)\n",
    "    print('vector : \\n', vector)\n",
    "    v = vector[0] / sp.linalg.norm(vector[0])\n",
    "    print('v : ', v)\n",
    "    angle = 180 * np.arctan(v[1] / v[0]) / np.pi\n",
    "    e = Ellipse(xy=center,\n",
    "                width=width,\n",
    "                height=heigth,\n",
    "                angle=angle,\n",
    "                color=clrs[i],\n",
    "                alpha=0.5,\n",
    "                clip_box=ax.bbox)\n",
    "    ax.add_artist(e)\n",
    "\n",
    "    ax1_min, ax1_max, ax2_min, ax2_max = plt.axis()\n",
    "    plt.xlim((x1_min, x1_max))\n",
    "    plt.ylim((x2_min, x2_max))\n",
    "    plt.title(u'GMM', fontsize=20)\n",
    "    plt.grid(True)\n",
    "# \n",
    "    #################### dpgmm\n",
    "    dpgmm = BayesianGaussianMixture(\n",
    "        n_components=n_components,\n",
    "        covariance_type='full',\n",
    "        max_iter=1000,\n",
    "        n_init=5,\n",
    "        weight_concentration_prior_type='dirichlet_process',\n",
    "        weight_concentration_prior=10)\n",
    "\n",
    "    dpgmm.fit(x)\n",
    "    centers = dpgmm.means_\n",
    "    covs = dpgmm.covariances_\n",
    "    print('dpgmm mean: ', centers)\n",
    "    print('dpgmm covs :', covs)\n",
    "    y_hat = dpgmm.predict(x)\n",
    "\n",
    "    ax = plt.subplot(212)\n",
    "    grid_hat = dpgmm.predict(grid_test)\n",
    "    grid_hat = grid_hat.reshape(x1.shape)\n",
    "\n",
    "    plt.pcolormesh(x1, x2, grid_hat, cmap=cm)\n",
    "    plt.scatter(x[:, 0], x[:, 1], s=30, c=y, cmap=cm, marker='o')\n",
    "\n",
    "    for i, cc in enumerate(zip(centers, covs)):\n",
    "        if i not in y_hat:\n",
    "            continue\n",
    "        center, cov = cc\n",
    "        value, vector = sp.linalg.eigh(cov)\n",
    "        width, height = value[0], value[1]\n",
    "        v = vector[0] / sp.linalg.norm(vector[0])\n",
    "        angle = 180 * np.arctan(v[1] / v[0]) / np.pi\n",
    "        e = Ellipse(xy=center,\n",
    "                    width=width,\n",
    "                    height=height,\n",
    "                    angle=angle,\n",
    "                    color='m',\n",
    "                    alpha=0.5,\n",
    "                    clip_box=ax.bbox)\n",
    "\n",
    "        ax.add_artist(e)\n",
    "    plt.xlim((x1_min, x1_max))\n",
    "    plt.ylim((x2_min, x2_max))\n",
    "    plt.title('DPGMM', fontsize=20)\n",
    "    plt.grid(True)\n",
    "    plt.tight_layout()\n",
    "    plt.subplots_adjust(top=0.9)\n",
    "    plt.show()\n",
    "\n",
    "plt.show()"
   ]
  },
  {
   "cell_type": "code",
   "execution_count": 9,
   "metadata": {
    "ExecuteTime": {
     "end_time": "2020-09-01T05:34:21.069570Z",
     "start_time": "2020-09-01T05:34:21.053570Z"
    }
   },
   "outputs": [
    {
     "data": {
      "text/plain": [
       "1.0"
      ]
     },
     "execution_count": 9,
     "metadata": {},
     "output_type": "execute_result"
    }
   ],
   "source": [
    "sp.linalg.norm(vector[0])"
   ]
  },
  {
   "cell_type": "code",
   "execution_count": null,
   "metadata": {
    "collapsed": true
   },
   "outputs": [],
   "source": [
    "[[-0.99970613 -0.02424137]\n",
    " [-0.02424137  0.99970613]]"
   ]
  },
  {
   "cell_type": "code",
   "execution_count": 13,
   "metadata": {
    "ExecuteTime": {
     "end_time": "2020-09-01T05:36:28.444856Z",
     "start_time": "2020-09-01T05:36:28.439856Z"
    }
   },
   "outputs": [
    {
     "data": {
      "text/plain": [
       "0.99999999518952687"
      ]
     },
     "execution_count": 13,
     "metadata": {},
     "output_type": "execute_result"
    }
   ],
   "source": [
    "np.sqrt(0.99970613**2+0.02424137**2)"
   ]
  },
  {
   "cell_type": "code",
   "execution_count": 14,
   "metadata": {
    "ExecuteTime": {
     "end_time": "2020-09-01T05:41:53.754463Z",
     "start_time": "2020-09-01T05:41:53.750462Z"
    }
   },
   "outputs": [
    {
     "data": {
      "text/plain": [
       "0.99999999698907005"
      ]
     },
     "execution_count": 14,
     "metadata": {},
     "output_type": "execute_result"
    }
   ],
   "source": [
    "np.sqrt(0.93797429**2+0.34670481**2)\n"
   ]
  },
  {
   "cell_type": "code",
   "execution_count": null,
   "metadata": {
    "collapsed": true
   },
   "outputs": [],
   "source": []
  }
 ],
 "metadata": {
  "kernelspec": {
   "display_name": "Python 3",
   "language": "python",
   "name": "python3"
  },
  "language_info": {
   "codemirror_mode": {
    "name": "ipython",
    "version": 3
   },
   "file_extension": ".py",
   "mimetype": "text/x-python",
   "name": "python",
   "nbconvert_exporter": "python",
   "pygments_lexer": "ipython3",
   "version": "3.6.3"
  }
 },
 "nbformat": 4,
 "nbformat_minor": 2
}
