{
 "cells": [
  {
   "cell_type": "code",
   "execution_count": 1,
   "metadata": {
    "ExecuteTime": {
     "end_time": "2020-04-16T07:54:58.130410Z",
     "start_time": "2020-04-16T07:54:57.711386Z"
    },
    "collapsed": true
   },
   "outputs": [],
   "source": [
    "import numpy as np\n",
    "import matplotlib\n",
    "from mpl_toolkits.mplot3d import Axes3D\n",
    "from matplotlib import cm\n",
    "\n",
    "import time\n",
    "from scipy.optimize import leastsq\n",
    "import scipy.optimize as opt\n",
    "import scipy\n",
    "import matplotlib.pyplot as plt\n",
    "from scipy.stats import norm, poisson\n",
    "from scipy.interpolate import BarycentricInterpolator\n",
    "from scipy.interpolate import CubicSpline\n",
    "import math\n"
   ]
  },
  {
   "cell_type": "code",
   "execution_count": 2,
   "metadata": {
    "ExecuteTime": {
     "end_time": "2020-04-16T07:54:58.134410Z",
     "start_time": "2020-04-16T07:54:58.131410Z"
    },
    "collapsed": true
   },
   "outputs": [],
   "source": [
    "plt.style.use(style='ggplot')  #样式\n",
    "plt.rcParams['figure.figsize']=(8,4)  #横竖大小"
   ]
  },
  {
   "cell_type": "code",
   "execution_count": 3,
   "metadata": {
    "ExecuteTime": {
     "end_time": "2020-04-16T07:56:33.180846Z",
     "start_time": "2020-04-16T07:56:33.174846Z"
    }
   },
   "outputs": [
    {
     "data": {
      "text/plain": [
       "array([[10, 20, 30, 40, 50],\n",
       "       [11, 21, 31, 41, 51],\n",
       "       [12, 22, 32, 42, 52],\n",
       "       [13, 23, 33, 43, 53],\n",
       "       [14, 24, 34, 44, 54],\n",
       "       [15, 25, 35, 45, 55]])"
      ]
     },
     "execution_count": 3,
     "metadata": {},
     "output_type": "execute_result"
    }
   ],
   "source": [
    "a = np.arange(0, 6, 1).reshape(-1, 1) + np.arange(10, 60, 10)\n",
    "a"
   ]
  },
  {
   "cell_type": "code",
   "execution_count": 4,
   "metadata": {
    "ExecuteTime": {
     "end_time": "2020-04-16T07:58:01.002870Z",
     "start_time": "2020-04-16T07:58:00.995869Z"
    }
   },
   "outputs": [
    {
     "data": {
      "text/plain": [
       "(6, 5)"
      ]
     },
     "execution_count": 4,
     "metadata": {},
     "output_type": "execute_result"
    }
   ],
   "source": [
    "a.shape"
   ]
  },
  {
   "cell_type": "code",
   "execution_count": 6,
   "metadata": {
    "ExecuteTime": {
     "end_time": "2020-04-16T07:59:05.273546Z",
     "start_time": "2020-04-16T07:59:05.261545Z"
    }
   },
   "outputs": [
    {
     "data": {
      "text/plain": [
       "array([[ 1,  2,  3,  4],\n",
       "       [ 5,  6,  7,  8],\n",
       "       [ 9, 10, 11, 12]])"
      ]
     },
     "execution_count": 6,
     "metadata": {},
     "output_type": "execute_result"
    }
   ],
   "source": [
    "b = np.array([[1, 2, 3, 4], [5, 6, 7, 8], [9, 10, 11, 12]])\n",
    "b"
   ]
  },
  {
   "cell_type": "code",
   "execution_count": 7,
   "metadata": {
    "ExecuteTime": {
     "end_time": "2020-04-16T07:59:13.554019Z",
     "start_time": "2020-04-16T07:59:13.545019Z"
    }
   },
   "outputs": [
    {
     "data": {
      "text/plain": [
       "(3, 4)"
      ]
     },
     "execution_count": 7,
     "metadata": {},
     "output_type": "execute_result"
    }
   ],
   "source": [
    "b.shape"
   ]
  },
  {
   "cell_type": "code",
   "execution_count": 9,
   "metadata": {
    "ExecuteTime": {
     "end_time": "2020-04-16T07:59:35.838294Z",
     "start_time": "2020-04-16T07:59:35.825293Z"
    }
   },
   "outputs": [
    {
     "data": {
      "text/plain": [
       "array([[ 1,  2,  3,  4,  5,  6],\n",
       "       [ 7,  8,  9, 10, 11, 12]])"
      ]
     },
     "execution_count": 9,
     "metadata": {},
     "output_type": "execute_result"
    }
   ],
   "source": [
    "b.shape=2,-1\n",
    "b"
   ]
  },
  {
   "cell_type": "code",
   "execution_count": 10,
   "metadata": {
    "ExecuteTime": {
     "end_time": "2020-04-16T08:00:15.533564Z",
     "start_time": "2020-04-16T08:00:15.528564Z"
    }
   },
   "outputs": [
    {
     "data": {
      "text/plain": [
       "array([[ 1,  2,  3],\n",
       "       [ 4,  5,  6],\n",
       "       [ 7,  8,  9],\n",
       "       [10, 11, 12]])"
      ]
     },
     "execution_count": 10,
     "metadata": {},
     "output_type": "execute_result"
    }
   ],
   "source": [
    "c=b.reshape((4,-1))\n",
    "c"
   ]
  },
  {
   "cell_type": "code",
   "execution_count": 11,
   "metadata": {
    "ExecuteTime": {
     "end_time": "2020-04-16T08:00:30.371413Z",
     "start_time": "2020-04-16T08:00:30.368413Z"
    },
    "collapsed": true
   },
   "outputs": [],
   "source": [
    "b[0][1]=20"
   ]
  },
  {
   "cell_type": "code",
   "execution_count": 12,
   "metadata": {
    "ExecuteTime": {
     "end_time": "2020-04-16T08:00:32.556538Z",
     "start_time": "2020-04-16T08:00:32.552538Z"
    }
   },
   "outputs": [
    {
     "data": {
      "text/plain": [
       "array([[ 1, 20,  3,  4,  5,  6],\n",
       "       [ 7,  8,  9, 10, 11, 12]])"
      ]
     },
     "execution_count": 12,
     "metadata": {},
     "output_type": "execute_result"
    }
   ],
   "source": [
    "b"
   ]
  },
  {
   "cell_type": "code",
   "execution_count": 13,
   "metadata": {
    "ExecuteTime": {
     "end_time": "2020-04-16T08:00:35.156687Z",
     "start_time": "2020-04-16T08:00:35.152686Z"
    }
   },
   "outputs": [
    {
     "data": {
      "text/plain": [
       "array([[ 1, 20,  3],\n",
       "       [ 4,  5,  6],\n",
       "       [ 7,  8,  9],\n",
       "       [10, 11, 12]])"
      ]
     },
     "execution_count": 13,
     "metadata": {},
     "output_type": "execute_result"
    }
   ],
   "source": [
    "c"
   ]
  },
  {
   "cell_type": "code",
   "execution_count": 14,
   "metadata": {
    "ExecuteTime": {
     "end_time": "2020-04-16T08:00:54.758808Z",
     "start_time": "2020-04-16T08:00:54.752808Z"
    },
    "collapsed": true
   },
   "outputs": [],
   "source": [
    "    d = np.array([[1, 2, 3, 4], [5, 6, 7, 8], [9, 10, 11, 12]], dtype=np.float)\n",
    "    f = np.array([[1, 2, 3, 4], [5, 6, 7, 8], [9, 10, 11, 12]], dtype=np.complex)"
   ]
  },
  {
   "cell_type": "code",
   "execution_count": 15,
   "metadata": {
    "ExecuteTime": {
     "end_time": "2020-04-16T08:00:58.630029Z",
     "start_time": "2020-04-16T08:00:58.626029Z"
    }
   },
   "outputs": [
    {
     "data": {
      "text/plain": [
       "array([[  1.,   2.,   3.,   4.],\n",
       "       [  5.,   6.,   7.,   8.],\n",
       "       [  9.,  10.,  11.,  12.]])"
      ]
     },
     "execution_count": 15,
     "metadata": {},
     "output_type": "execute_result"
    }
   ],
   "source": [
    "d"
   ]
  },
  {
   "cell_type": "code",
   "execution_count": 16,
   "metadata": {
    "ExecuteTime": {
     "end_time": "2020-04-16T08:01:00.998165Z",
     "start_time": "2020-04-16T08:01:00.993164Z"
    }
   },
   "outputs": [
    {
     "data": {
      "text/plain": [
       "array([[ 1, 20,  3],\n",
       "       [ 4,  5,  6],\n",
       "       [ 7,  8,  9],\n",
       "       [10, 11, 12]])"
      ]
     },
     "execution_count": 16,
     "metadata": {},
     "output_type": "execute_result"
    }
   ],
   "source": [
    "c"
   ]
  },
  {
   "cell_type": "code",
   "execution_count": 17,
   "metadata": {
    "ExecuteTime": {
     "end_time": "2020-04-16T08:01:13.107857Z",
     "start_time": "2020-04-16T08:01:13.102857Z"
    }
   },
   "outputs": [
    {
     "data": {
      "text/plain": [
       "dtype('int32')"
      ]
     },
     "execution_count": 17,
     "metadata": {},
     "output_type": "execute_result"
    }
   ],
   "source": [
    "a.dtype"
   ]
  },
  {
   "cell_type": "code",
   "execution_count": 18,
   "metadata": {
    "ExecuteTime": {
     "end_time": "2020-04-16T08:01:20.948306Z",
     "start_time": "2020-04-16T08:01:20.937305Z"
    }
   },
   "outputs": [
    {
     "data": {
      "text/plain": [
       "dtype('int32')"
      ]
     },
     "execution_count": 18,
     "metadata": {},
     "output_type": "execute_result"
    }
   ],
   "source": [
    "c.dtype"
   ]
  },
  {
   "cell_type": "code",
   "execution_count": 19,
   "metadata": {
    "ExecuteTime": {
     "end_time": "2020-04-16T08:01:25.619573Z",
     "start_time": "2020-04-16T08:01:25.609572Z"
    }
   },
   "outputs": [
    {
     "data": {
      "text/plain": [
       "dtype('float64')"
      ]
     },
     "execution_count": 19,
     "metadata": {},
     "output_type": "execute_result"
    }
   ],
   "source": [
    "d.dtype"
   ]
  },
  {
   "cell_type": "code",
   "execution_count": 20,
   "metadata": {
    "ExecuteTime": {
     "end_time": "2020-04-16T08:01:53.052142Z",
     "start_time": "2020-04-16T08:01:53.040141Z"
    }
   },
   "outputs": [
    {
     "data": {
      "text/plain": [
       "array([[ 1,  2,  3,  4],\n",
       "       [ 5,  6,  7,  8],\n",
       "       [ 9, 10, 11, 12]])"
      ]
     },
     "execution_count": 20,
     "metadata": {},
     "output_type": "execute_result"
    }
   ],
   "source": [
    "f=d.astype(np.int)\n",
    "f"
   ]
  },
  {
   "cell_type": "code",
   "execution_count": 21,
   "metadata": {
    "ExecuteTime": {
     "end_time": "2020-04-16T08:01:58.736467Z",
     "start_time": "2020-04-16T08:01:58.728467Z"
    }
   },
   "outputs": [
    {
     "data": {
      "text/plain": [
       "dtype('int32')"
      ]
     },
     "execution_count": 21,
     "metadata": {},
     "output_type": "execute_result"
    }
   ],
   "source": [
    "f.dtype"
   ]
  },
  {
   "cell_type": "code",
   "execution_count": 23,
   "metadata": {
    "ExecuteTime": {
     "end_time": "2020-04-16T08:03:03.653180Z",
     "start_time": "2020-04-16T08:03:03.648180Z"
    }
   },
   "outputs": [
    {
     "data": {
      "text/plain": [
       "array([  1.,   2.,   3.,   4.,   5.,   6.,   7.,   8.,   9.,  10.])"
      ]
     },
     "execution_count": 23,
     "metadata": {},
     "output_type": "execute_result"
    }
   ],
   "source": [
    "b=np.linspace(1,10,10)\n",
    "b"
   ]
  },
  {
   "cell_type": "code",
   "execution_count": 24,
   "metadata": {
    "ExecuteTime": {
     "end_time": "2020-04-16T08:05:18.502893Z",
     "start_time": "2020-04-16T08:05:18.489892Z"
    }
   },
   "outputs": [
    {
     "data": {
      "text/plain": [
       "array([ 1. ,  1.9,  2.8,  3.7,  4.6,  5.5,  6.4,  7.3,  8.2,  9.1])"
      ]
     },
     "execution_count": 24,
     "metadata": {},
     "output_type": "execute_result"
    }
   ],
   "source": [
    "c=np.linspace(1,10,10,endpoint=False)\n",
    "c"
   ]
  },
  {
   "cell_type": "code",
   "execution_count": 25,
   "metadata": {
    "ExecuteTime": {
     "end_time": "2020-04-16T08:05:52.902861Z",
     "start_time": "2020-04-16T08:05:52.888860Z"
    }
   },
   "outputs": [
    {
     "data": {
      "text/plain": [
       "array([  10.        ,   12.91549665,   16.68100537,   21.5443469 ,\n",
       "         27.82559402,   35.93813664,   46.41588834,   59.94842503,\n",
       "         77.42636827,  100.        ])"
      ]
     },
     "execution_count": 25,
     "metadata": {},
     "output_type": "execute_result"
    }
   ],
   "source": [
    "d=np.logspace(1,2,10)\n",
    "d"
   ]
  },
  {
   "cell_type": "code",
   "execution_count": 27,
   "metadata": {
    "ExecuteTime": {
     "end_time": "2020-04-16T08:08:13.461900Z",
     "start_time": "2020-04-16T08:08:13.451900Z"
    }
   },
   "outputs": [
    {
     "data": {
      "text/plain": [
       "array([ 2.        ,  2.02849277,  2.05739147,  2.08670186,  2.11642982,\n",
       "        2.1465813 ,  2.17716233,  2.20817903,  2.2396376 ,  2.27154434,\n",
       "        2.30390564,  2.33672798,  2.37001791,  2.4037821 ,  2.43802731,\n",
       "        2.47276039,  2.50798829,  2.54371806,  2.57995685,  2.61671192,\n",
       "        2.65399061,  2.69180039,  2.73014882,  2.76904357,  2.80849244,\n",
       "        2.84850331,  2.88908419,  2.9302432 ,  2.97198858,  3.01432868,\n",
       "        3.05727197,  3.10082705,  3.14500263,  3.18980756,  3.23525079,\n",
       "        3.28134142,  3.32808868,  3.37550192,  3.42359063,  3.47236443,\n",
       "        3.52183307,  3.57200647,  3.62289466,  3.67450782,  3.72685628,\n",
       "        3.77995051,  3.83380115,  3.88841897,  3.94381489,  4.        ])"
      ]
     },
     "execution_count": 27,
     "metadata": {},
     "output_type": "execute_result"
    }
   ],
   "source": [
    "d = np.logspace(1, 2, endpoint=True, base=2)\n",
    "d"
   ]
  },
  {
   "cell_type": "code",
   "execution_count": 28,
   "metadata": {
    "ExecuteTime": {
     "end_time": "2020-04-16T08:08:56.896385Z",
     "start_time": "2020-04-16T08:08:56.881384Z"
    }
   },
   "outputs": [
    {
     "data": {
      "text/plain": [
       "array([ 97,  98,  99, 100], dtype=int8)"
      ]
     },
     "execution_count": 28,
     "metadata": {},
     "output_type": "execute_result"
    }
   ],
   "source": [
    "s='abcd'\n",
    "g=np.fromstring(s,dtype=np.int8)\n",
    "g"
   ]
  },
  {
   "cell_type": "code",
   "execution_count": 29,
   "metadata": {
    "ExecuteTime": {
     "end_time": "2020-04-16T08:09:28.965219Z",
     "start_time": "2020-04-16T08:09:28.954218Z"
    }
   },
   "outputs": [
    {
     "data": {
      "text/plain": [
       "3"
      ]
     },
     "execution_count": 29,
     "metadata": {},
     "output_type": "execute_result"
    }
   ],
   "source": [
    "a=np.arange(10)\n",
    "a[3]"
   ]
  },
  {
   "cell_type": "code",
   "execution_count": 30,
   "metadata": {
    "ExecuteTime": {
     "end_time": "2020-04-16T08:09:36.949675Z",
     "start_time": "2020-04-16T08:09:36.937675Z"
    }
   },
   "outputs": [
    {
     "data": {
      "text/plain": [
       "array([0, 1, 2, 3, 4])"
      ]
     },
     "execution_count": 30,
     "metadata": {},
     "output_type": "execute_result"
    }
   ],
   "source": [
    "a[:5]"
   ]
  },
  {
   "cell_type": "code",
   "execution_count": 31,
   "metadata": {
    "ExecuteTime": {
     "end_time": "2020-04-16T08:09:52.126544Z",
     "start_time": "2020-04-16T08:09:52.114543Z"
    }
   },
   "outputs": [
    {
     "data": {
      "text/plain": [
       "array([1, 3, 5, 7])"
      ]
     },
     "execution_count": 31,
     "metadata": {},
     "output_type": "execute_result"
    }
   ],
   "source": [
    "a[1:9:2]"
   ]
  },
  {
   "cell_type": "code",
   "execution_count": 32,
   "metadata": {
    "ExecuteTime": {
     "end_time": "2020-04-16T08:10:47.634718Z",
     "start_time": "2020-04-16T08:10:47.625718Z"
    }
   },
   "outputs": [
    {
     "data": {
      "text/plain": [
       "array([   1.,    2.,    4.,    8.,   16.,   32.,   64.,  128.,  256.,  512.])"
      ]
     },
     "execution_count": 32,
     "metadata": {},
     "output_type": "execute_result"
    }
   ],
   "source": [
    "a=np.logspace(0,9,10,base=2)\n",
    "a"
   ]
  },
  {
   "cell_type": "code",
   "execution_count": 33,
   "metadata": {
    "ExecuteTime": {
     "end_time": "2020-04-16T08:12:32.902739Z",
     "start_time": "2020-04-16T08:12:32.889739Z"
    }
   },
   "outputs": [
    {
     "data": {
      "text/plain": [
       "array([ 0.68592762,  0.80735179,  0.40132841,  0.57892286,  0.68957529,\n",
       "        0.07528544,  0.80607398,  0.34086499,  0.3186143 ,  0.03438068])"
      ]
     },
     "execution_count": 33,
     "metadata": {},
     "output_type": "execute_result"
    }
   ],
   "source": [
    "a=np.random.rand(10)\n",
    "a"
   ]
  },
  {
   "cell_type": "code",
   "execution_count": 34,
   "metadata": {
    "ExecuteTime": {
     "end_time": "2020-04-16T08:12:58.885226Z",
     "start_time": "2020-04-16T08:12:58.874225Z"
    }
   },
   "outputs": [
    {
     "data": {
      "text/plain": [
       "array([ 0.68592762,  0.80735179,  0.57892286,  0.68957529,  0.80607398])"
      ]
     },
     "execution_count": 34,
     "metadata": {},
     "output_type": "execute_result"
    }
   ],
   "source": [
    "b=a[a>0.5]\n",
    "b"
   ]
  },
  {
   "cell_type": "code",
   "execution_count": 36,
   "metadata": {
    "ExecuteTime": {
     "end_time": "2020-04-16T08:14:29.470407Z",
     "start_time": "2020-04-16T08:14:29.461406Z"
    }
   },
   "outputs": [
    {
     "data": {
      "text/plain": [
       "array([[10, 11, 12, 13, 14, 15],\n",
       "       [20, 21, 22, 23, 24, 25],\n",
       "       [30, 31, 32, 33, 34, 35],\n",
       "       [40, 41, 42, 43, 44, 45],\n",
       "       [50, 51, 52, 53, 54, 55]])"
      ]
     },
     "execution_count": 36,
     "metadata": {},
     "output_type": "execute_result"
    }
   ],
   "source": [
    "a=np.arange(10,60,10).reshape(-1,1)+np.arange(6)\n",
    "a"
   ]
  },
  {
   "cell_type": "code",
   "execution_count": 40,
   "metadata": {
    "ExecuteTime": {
     "end_time": "2020-04-16T08:22:10.136755Z",
     "start_time": "2020-04-16T08:22:06.508548Z"
    }
   },
   "outputs": [
    {
     "name": "stdout",
     "output_type": "stream",
     "text": [
      "1  :  0.0044282260690522435 8.397394566372895e-06 0.0018963337542904982\n",
      "5  :  3.421160755578967e-06 3.421160755578967e-06 1.0\n",
      "35  :  2.7991315221242985e-06 1.1196526102708049e-05 4.00000000507688\n",
      "215  :  3.421160755578967e-06 5.1628425850935855e-05 15.090909062587654\n",
      "1291  :  3.358957827970244e-05 0.00032096708127937745 9.555555553769246\n",
      "7742  :  7.060031730077299e-05 0.0019432193060424652 27.52422907341791\n",
      "46415  :  0.0004102282753848385 0.011742978767344425 28.625473844600887\n",
      "278255  :  0.0026178100030449514 0.06908567612866534 26.390637994471383\n",
      "1668100  :  0.016297165754934895 0.43126716995051595 26.462709923651925\n",
      "10000000  :  0.09913062085047386 2.5243725046908736 25.46511343350279\n"
     ]
    }
   ],
   "source": [
    "for j in np.logspace(0,7,10):\n",
    "    j=int(j)\n",
    "    x=np.linspace(0,10,j)\n",
    "    start=time.clock()\n",
    "    y=np.sin(x)\n",
    "    t1=time.clock()-start\n",
    "    \n",
    "    x=x.tolist()\n",
    "    start=time.clock()\n",
    "    for i ,t in enumerate(x):\n",
    "        x[i]=math.sin(t)\n",
    "    t2=time.clock()-start\n",
    "    print(j,\" : \",t1,t2,t2/t1)"
   ]
  },
  {
   "cell_type": "code",
   "execution_count": 52,
   "metadata": {
    "ExecuteTime": {
     "end_time": "2020-04-16T08:54:24.695406Z",
     "start_time": "2020-04-16T08:54:24.623402Z"
    }
   },
   "outputs": [
    {
     "name": "stdout",
     "output_type": "stream",
     "text": [
      "x.shape: (50,)\n",
      "y.shape: (50,)\n"
     ]
    },
    {
     "data": {
      "text/plain": [
       "[<matplotlib.lines.Line2D at 0x9788ba8>,\n",
       " <matplotlib.lines.Line2D at 0x9788cf8>]"
      ]
     },
     "execution_count": 52,
     "metadata": {},
     "output_type": "execute_result"
    }
   ],
   "source": [
    "mu=0\n",
    "sigma=1\n",
    "x=np.linspace(mu-3*sigma,mu+3*sigma,50)\n",
    "y=np.exp(-((x-mu)**2/(2*sigma**2))) / np.sqrt(2*np.pi)*sigma\n",
    "print(\"x.shape:\",x.shape)\n",
    "print(\"y.shape:\",y.shape)\n",
    "# plt.plot(x,y,'ro-',linewidth=2)\n",
    "plt.plot(x,y,'r-',x,y,'go',linewidth=2)\n",
    "# plt.show()"
   ]
  },
  {
   "cell_type": "code",
   "execution_count": 67,
   "metadata": {
    "ExecuteTime": {
     "end_time": "2020-04-16T09:21:19.918791Z",
     "start_time": "2020-04-16T09:21:19.876789Z"
    }
   },
   "outputs": [
    {
     "data": {
      "text/plain": [
       "[<matplotlib.lines.Line2D at 0x9697828>]"
      ]
     },
     "execution_count": 67,
     "metadata": {},
     "output_type": "execute_result"
    }
   ],
   "source": [
    "x=np.array(np.linspace(-2,3,1001,dtype=np.float))\n",
    "y_logit=np.log(1 + np.exp(-x)) / math.log(2)\n",
    "y_boost=np.exp(-x)\n",
    "y_01=x<0\n",
    "y_hinge=1.0-x\n",
    "y_hinge[y_hinge<0]=0\n",
    "\n",
    "plt.plot(x,y_logit,'ro',label='Logistic Loss',linewidth=2)\n",
    "plt.plot(x, y_01, 'g-', label='0/1 Loss', linewidth=2)\n",
    "plt.plot(x, y_hinge, 'b-', label='Hinge Loss', linewidth=2)\n",
    "plt.plot(x, y_boost, 'm--', label='Adaboost Loss', linewidth=2)\n",
    "# plt.show()"
   ]
  },
  {
   "cell_type": "code",
   "execution_count": 111,
   "metadata": {
    "ExecuteTime": {
     "end_time": "2020-04-17T02:42:50.035021Z",
     "start_time": "2020-04-17T02:42:50.028021Z"
    },
    "collapsed": true
   },
   "outputs": [],
   "source": [
    "def residual(t, x, y):\n",
    "    return y - (t[0] * x ** 2 + t[1] * x + t[2])"
   ]
  },
  {
   "cell_type": "code",
   "execution_count": 69,
   "metadata": {
    "ExecuteTime": {
     "end_time": "2020-04-16T09:25:19.647503Z",
     "start_time": "2020-04-16T09:25:19.641503Z"
    },
    "collapsed": true
   },
   "outputs": [],
   "source": [
    "def residual2(t,x,y):\n",
    "    print(t[0],t[1])\n",
    "    return y-t[0] * np.sin(t[1]*x)"
   ]
  },
  {
   "cell_type": "code",
   "execution_count": 70,
   "metadata": {
    "ExecuteTime": {
     "end_time": "2020-04-16T09:26:58.975184Z",
     "start_time": "2020-04-16T09:26:58.959183Z"
    },
    "collapsed": true
   },
   "outputs": [],
   "source": [
    "def f(x):\n",
    "    y=np.ones_like(x)\n",
    "    i=x>0\n",
    "    y[i]=np.power(x[i],x[i])\n",
    "    i=x<0\n",
    "    y[i]=np.power(-x[i],-x[i])\n",
    "    return y"
   ]
  },
  {
   "cell_type": "code",
   "execution_count": 74,
   "metadata": {
    "ExecuteTime": {
     "end_time": "2020-04-16T09:27:21.152453Z",
     "start_time": "2020-04-16T09:27:21.100450Z"
    }
   },
   "outputs": [
    {
     "data": {
      "text/plain": [
       "[<matplotlib.lines.Line2D at 0x143c9630>]"
      ]
     },
     "execution_count": 74,
     "metadata": {},
     "output_type": "execute_result"
    }
   ],
   "source": [
    "x=np.linspace(-1.3,1.3,101)\n",
    "y=f(x)\n",
    "plt.plot(x,y,'g-',label='x^x',linewidth=2)\n",
    "# plt.show()"
   ]
  },
  {
   "cell_type": "code",
   "execution_count": 81,
   "metadata": {
    "ExecuteTime": {
     "end_time": "2020-04-16T09:39:26.793957Z",
     "start_time": "2020-04-16T09:39:26.746954Z"
    }
   },
   "outputs": [
    {
     "data": {
      "text/plain": [
       "[<matplotlib.lines.Line2D at 0xb4d24a8>]"
      ]
     },
     "execution_count": 81,
     "metadata": {},
     "output_type": "execute_result"
    }
   ],
   "source": [
    "x=np.arange(1,0,-0.001)\n",
    "y=(-3*x*np.log(x)+np.exp(-(40*(x-1/np.e))**4)/25)/2\n",
    "+np.exp(-(40*(x-1/np.e))**4)/25\n",
    "plt.plot(x,y,'r-',linewidth=2)\n",
    "# plt.show()"
   ]
  },
  {
   "cell_type": "code",
   "execution_count": 85,
   "metadata": {
    "ExecuteTime": {
     "end_time": "2020-04-16T09:41:27.421856Z",
     "start_time": "2020-04-16T09:41:27.371854Z"
    }
   },
   "outputs": [
    {
     "data": {
      "text/plain": [
       "[<matplotlib.lines.Line2D at 0x14617978>]"
      ]
     },
     "execution_count": 85,
     "metadata": {},
     "output_type": "execute_result"
    }
   ],
   "source": [
    "t=np.linspace(0,7,100)\n",
    "x=16*np.sin(t)**3\n",
    "y=13*np.cos(t)-5*np.cos(2*t)-2*np.cos(3*t)-np.cos(4*t)\n",
    "plt.plot(x,y,'r-',linewidth=2)\n",
    "# plt.show()"
   ]
  },
  {
   "cell_type": "code",
   "execution_count": 89,
   "metadata": {
    "ExecuteTime": {
     "end_time": "2020-04-16T09:49:57.461029Z",
     "start_time": "2020-04-16T09:49:57.378024Z"
    }
   },
   "outputs": [
    {
     "data": {
      "text/plain": [
       "(array([ 372.,  315.,  318.,  344.,  350.,  325.,  326.,  347.,  362.,\n",
       "         344.,  336.,  329.,  360.,  338.,  296.,  306.,  312.,  335.,\n",
       "         313.,  322.,  354.,  350.,  326.,  303.,  328.,  363.,  311.,\n",
       "         338.,  324.,  353.]),\n",
       " array([  3.71413479e-05,   3.33679677e-02,   6.66987941e-02,\n",
       "          1.00029620e-01,   1.33360447e-01,   1.66691273e-01,\n",
       "          2.00022099e-01,   2.33352926e-01,   2.66683752e-01,\n",
       "          3.00014579e-01,   3.33345405e-01,   3.66676231e-01,\n",
       "          4.00007058e-01,   4.33337884e-01,   4.66668710e-01,\n",
       "          4.99999537e-01,   5.33330363e-01,   5.66661189e-01,\n",
       "          5.99992016e-01,   6.33322842e-01,   6.66653668e-01,\n",
       "          6.99984495e-01,   7.33315321e-01,   7.66646148e-01,\n",
       "          7.99976974e-01,   8.33307800e-01,   8.66638627e-01,\n",
       "          8.99969453e-01,   9.33300279e-01,   9.66631106e-01,\n",
       "          9.99961932e-01]),\n",
       " <a list of 30 Patch objects>)"
      ]
     },
     "execution_count": 89,
     "metadata": {},
     "output_type": "execute_result"
    }
   ],
   "source": [
    "x=np.random.rand(10000)\n",
    "t=np.arange(len(x))\n",
    "plt.hist(x,30,color='m',alpha=0.5)\n",
    "# plt.show()"
   ]
  },
  {
   "cell_type": "code",
   "execution_count": 95,
   "metadata": {
    "ExecuteTime": {
     "end_time": "2020-04-16T10:01:58.052244Z",
     "start_time": "2020-04-16T10:01:57.871234Z"
    }
   },
   "outputs": [
    {
     "data": {
      "text/plain": [
       "(array([  1.18706184,   1.3566421 ,   2.03496315,   2.54370394,\n",
       "          2.54370394,   5.25698814,   6.27446972,   6.95279077,\n",
       "          7.2919513 ,   8.47901313,  10.85313681,  14.75348285,\n",
       "         14.58390259,  13.05768023,  14.41432233,  10.0052355 ,\n",
       "         10.68355655,   9.15733418,   8.30943287,   7.12237103,\n",
       "          4.40908683,   2.54370394,   2.03496315,   1.69580263,\n",
       "          1.01748158,   0.50874079,   0.        ,   0.16958026,\n",
       "          0.16958026,   0.16958026]),\n",
       " array([-0.07738302, -0.07148611, -0.06558919, -0.05969228, -0.05379537,\n",
       "        -0.04789845, -0.04200154, -0.03610463, -0.03020772, -0.0243108 ,\n",
       "        -0.01841389, -0.01251698, -0.00662007, -0.00072315,  0.00517376,\n",
       "         0.01107067,  0.01696759,  0.0228645 ,  0.02876141,  0.03465832,\n",
       "         0.04055524,  0.04645215,  0.05234906,  0.05824597,  0.06414289,\n",
       "         0.0700398 ,  0.07593671,  0.08183362,  0.08773054,  0.09362745,\n",
       "         0.09952436]),\n",
       " <a list of 30 Patch objects>)"
      ]
     },
     "execution_count": 95,
     "metadata": {},
     "output_type": "execute_result"
    }
   ],
   "source": [
    "t=10000\n",
    "a=np.zeros(1000)\n",
    "for i in range(t):\n",
    "    a+=np.random.uniform(-5,5,1000)\n",
    "a/=t\n",
    "plt.hist(a,bins=30,color='g',alpha=0.5,normed=True)\n",
    "# plt.show()"
   ]
  },
  {
   "cell_type": "code",
   "execution_count": 110,
   "metadata": {
    "ExecuteTime": {
     "end_time": "2020-04-17T02:09:51.883878Z",
     "start_time": "2020-04-17T02:09:51.825874Z"
    }
   },
   "outputs": [
    {
     "name": "stdout",
     "output_type": "stream",
     "text": [
      "[4 2 6 ..., 6 6 8]\n"
     ]
    }
   ],
   "source": [
    "x = np.random.poisson(lam=5, size=10000)\n",
    "print(x)\n",
    "pillar = 15\n",
    "a = plt.hist(x,\n",
    "             bins=pillar,\n",
    "             normed=True,\n",
    "             range=[0, pillar],\n",
    "             color='g',\n",
    "             alpha=0.5)\n",
    "# plt.show()"
   ]
  },
  {
   "cell_type": "code",
   "execution_count": 116,
   "metadata": {
    "ExecuteTime": {
     "end_time": "2020-04-17T02:47:31.463118Z",
     "start_time": "2020-04-17T02:47:31.457118Z"
    }
   },
   "outputs": [
    {
     "data": {
      "text/plain": [
       "-22"
      ]
     },
     "execution_count": 116,
     "metadata": {},
     "output_type": "execute_result"
    }
   ],
   "source": [
    "residual([1,2,3],4,5)"
   ]
  },
  {
   "cell_type": "code",
   "execution_count": 127,
   "metadata": {
    "ExecuteTime": {
     "end_time": "2020-04-17T03:14:30.558725Z",
     "start_time": "2020-04-17T03:14:30.518723Z"
    }
   },
   "outputs": [
    {
     "name": "stdout",
     "output_type": "stream",
     "text": [
      "真实值： 2 3 -1\n",
      "预测值： [ 1.97619436  3.00713345 -0.56067426]\n"
     ]
    },
    {
     "data": {
      "text/plain": [
       "[<matplotlib.lines.Line2D at 0x9838c88>]"
      ]
     },
     "execution_count": 127,
     "metadata": {},
     "output_type": "execute_result"
    }
   ],
   "source": [
    "x = np.linspace(-2, 2, 50)\n",
    "A, B, C = 2, 3, -1\n",
    "y = (A * x**2 + B * x + C) + np.random.rand(len(x)) * 0.75\n",
    "t = leastsq(residual, [0, 0, 0], args=(x, y))\n",
    "theta = t[0]\n",
    "print('真实值：', A, B, C)\n",
    "print('预测值：', theta)\n",
    "y_hat = theta[0] * x**2 + theta[1] * x + theta[2]\n",
    "plt.plot(x, y, 'r-', linewidth=2, label=u'Actual')\n",
    "plt.plot(x, y_hat, 'g-', linewidth=2, label=u'Predict')\n",
    "# plt.show()"
   ]
  },
  {
   "cell_type": "code",
   "execution_count": 130,
   "metadata": {
    "ExecuteTime": {
     "end_time": "2020-04-17T03:14:42.161389Z",
     "start_time": "2020-04-17T03:14:42.090385Z"
    }
   },
   "outputs": [
    {
     "name": "stdout",
     "output_type": "stream",
     "text": [
      "3 1\n",
      "3.0 1.0\n",
      "3.0 1.0\n",
      "3.0000000447 1.0\n",
      "3.0 1.0000000149\n",
      "0.658798442869 1.42149534746\n",
      "0.658798452686 1.42149534746\n",
      "0.658798442869 1.42149536864\n",
      "4.89327994695 1.98785155846\n",
      "3.58746903325 1.51253086564\n",
      "3.58746908671 1.51253086564\n",
      "3.58746903325 1.51253088818\n",
      "4.99465914206 1.49200961837\n",
      "4.99465921649 1.49200961837\n",
      "4.99465914206 1.49200964061\n",
      "4.99815170433 1.49789670615\n",
      "4.99815177881 1.49789670615\n",
      "4.99815170433 1.49789672847\n",
      "4.99883467538 1.49788988447\n",
      "4.99883474987 1.49788988447\n",
      "4.99883467538 1.49788990679\n",
      "4.99883465625 1.4978898993\n",
      "真实值： 5 1.5\n",
      "预测值： [ 4.99883466  1.4978899 ]\n"
     ]
    },
    {
     "data": {
      "text/plain": [
       "[<matplotlib.lines.Line2D at 0xadf6a90>]"
      ]
     },
     "execution_count": 130,
     "metadata": {},
     "output_type": "execute_result"
    }
   ],
   "source": [
    "x = np.linspace(0, 5, 100)\n",
    "A = 5\n",
    "w = 1.5\n",
    "y = A * np.sin(w * x) + np.random.rand(len(x)) - 0.5\n",
    "\n",
    "t = leastsq(residual2, [3, 1], args=(x, y))\n",
    "theta = t[0]\n",
    "y_hat=theta[0]*np.sin(theta[1]*x)\n",
    "print('真实值：', A, w)\n",
    "print('预测值：', theta)\n",
    "plt.plot(x, y, 'r-', linewidth=2, label='Actual')\n",
    "plt.plot(x, y_hat, 'g-', linewidth=2, label='Predict')\n",
    "# plt.show()"
   ]
  },
  {
   "cell_type": "code",
   "execution_count": 132,
   "metadata": {
    "ExecuteTime": {
     "end_time": "2020-04-17T03:16:58.803204Z",
     "start_time": "2020-04-17T03:16:58.775203Z"
    }
   },
   "outputs": [
    {
     "name": "stdout",
     "output_type": "stream",
     "text": [
      "Optimization terminated successfully.\n",
      "         Current function value: 0.692201\n",
      "         Iterations: 16\n",
      "         Function evaluations: 32\n",
      "Optimization terminated successfully.\n",
      "         Current function value: 0.692201\n",
      "         Iterations: 4\n",
      "         Function evaluations: 30\n",
      "         Gradient evaluations: 10\n",
      "Optimization terminated successfully.\n",
      "         Current function value: 0.692201\n",
      "         Iterations: 5\n",
      "         Function evaluations: 24\n",
      "         Gradient evaluations: 8\n",
      "[ 0.36787109] [ 2.71834351] 2.718281828459045\n",
      "[ 0.36787948]\n",
      "[ 0.36787942]\n"
     ]
    }
   ],
   "source": [
    "a = opt.fmin(f, 1)\n",
    "b = opt.fmin_cg(f, 1)\n",
    "c = opt.fmin_bfgs(f, 1)\n",
    "print(a, 1 / a, math.e)\n",
    "print(b)\n",
    "print(c)"
   ]
  },
  {
   "cell_type": "markdown",
   "metadata": {},
   "source": [
    "5.2 calc"
   ]
  },
  {
   "cell_type": "code",
   "execution_count": 161,
   "metadata": {
    "ExecuteTime": {
     "end_time": "2020-04-17T06:44:09.756214Z",
     "start_time": "2020-04-17T06:44:09.743213Z"
    },
    "collapsed": true
   },
   "outputs": [],
   "source": [
    "def calc_e_small(x):\n",
    "    n=10\n",
    "    f=np.arange(1,n+1).cumprod()\n",
    "    b=np.array([x]*n).cumprod()\n",
    "    return np.sum(b/f)+1"
   ]
  },
  {
   "cell_type": "code",
   "execution_count": 158,
   "metadata": {
    "ExecuteTime": {
     "end_time": "2020-04-17T06:43:52.012199Z",
     "start_time": "2020-04-17T06:43:52.001199Z"
    }
   },
   "outputs": [
    {
     "data": {
      "text/plain": [
       "array([ 1,  2,  6, 24], dtype=int32)"
      ]
     },
     "execution_count": 158,
     "metadata": {},
     "output_type": "execute_result"
    }
   ],
   "source": [
    "np.arange(1,5).cumprod()"
   ]
  },
  {
   "cell_type": "code",
   "execution_count": 159,
   "metadata": {
    "ExecuteTime": {
     "end_time": "2020-04-17T06:43:52.711239Z",
     "start_time": "2020-04-17T06:43:52.693238Z"
    },
    "collapsed": true
   },
   "outputs": [],
   "source": [
    "def calc_e(x):\n",
    "    reverse = False\n",
    "    if x < 0:\n",
    "        x = -x\n",
    "        reverse = True\n",
    "    ln2 = 0.69314718055994530941723212145818\n",
    "    c=x/ln2\n",
    "    a=int(c+0.5)\n",
    "    b=x-a*ln2\n",
    "    y=(2**a)*calc_e_small(b)\n",
    "    if reverse:\n",
    "        return 1/y\n",
    "    return y"
   ]
  },
  {
   "cell_type": "code",
   "execution_count": 164,
   "metadata": {
    "ExecuteTime": {
     "end_time": "2020-04-17T06:44:36.708756Z",
     "start_time": "2020-04-17T06:44:36.615750Z"
    },
    "scrolled": true
   },
   "outputs": [
    {
     "name": "stdout",
     "output_type": "stream",
     "text": [
      "x: -2.0\n",
      "e^ -2.0  =  0.135335283237 (近似值)\t 0.1353352832366127 (真实值)\n",
      "x: -1.8\n",
      "e^ -1.8  =  0.165298888222 (近似值)\t 0.16529888822158653 (真实值)\n",
      "x: -1.6\n",
      "e^ -1.6  =  0.201896517995 (近似值)\t 0.20189651799465538 (真实值)\n",
      "x: -1.4\n",
      "e^ -1.4  =  0.246596963942 (近似值)\t 0.2465969639416065 (真实值)\n",
      "x: -1.2\n",
      "e^ -1.2  =  0.301194211912 (近似值)\t 0.30119421191220214 (真实值)\n",
      "x: -1.0\n",
      "e^ -1.0  =  0.367879441171 (近似值)\t 0.36787944117144233 (真实值)\n",
      "x: -0.8\n",
      "e^ -0.8  =  0.449328964117 (近似值)\t 0.4493289641172217 (真实值)\n",
      "x: -0.6\n",
      "e^ -0.6  =  0.548811636094 (近似值)\t 0.5488116360940265 (真实值)\n",
      "x: -0.4\n",
      "e^ -0.4  =  0.670320046036 (近似值)\t 0.6703200460356393 (真实值)\n",
      "x: -0.2\n",
      "e^ -0.2  =  0.818730753078 (近似值)\t 0.8187307530779819 (真实值)\n",
      "x: 0.0\n",
      "e^ 0.0  =  1.0 (近似值)\t 1.0 (真实值)\n",
      "x: 0.105263157895\n",
      "e^ 0.105263157895  =  1.11100294108 (近似值)\t 1.1110029410844708 (真实值)\n",
      "x: 0.210526315789\n",
      "e^ 0.210526315789  =  1.2343275351 (近似值)\t 1.2343275350983443 (真实值)\n",
      "x: 0.315789473684\n",
      "e^ 0.315789473684  =  1.37134152176 (近似值)\t 1.3713415217558058 (真实值)\n",
      "x: 0.421052631579\n",
      "e^ 0.421052631579  =  1.5235644639 (近似值)\t 1.523564463901954 (真实值)\n",
      "x: 0.526315789474\n",
      "e^ 0.526315789474  =  1.69268460033 (近似值)\t 1.692684600326856 (真实值)\n",
      "x: 0.631578947368\n",
      "e^ 0.631578947368  =  1.88057756929 (近似值)\t 1.8805775692915292 (真实值)\n",
      "x: 0.736842105263\n",
      "e^ 0.736842105263  =  2.08932721042 (近似值)\t 2.089327210420374 (真实值)\n",
      "x: 0.842105263158\n",
      "e^ 0.842105263158  =  2.32124867566 (近似值)\t 2.3212486756648487 (真实值)\n",
      "x: 0.947368421053\n",
      "e^ 0.947368421053  =  2.57891410565 (近似值)\t 2.57891410565208 (真实值)\n",
      "x: 1.05263157895\n",
      "e^ 1.05263157895  =  2.86518115618 (近似值)\t 2.8651811561836884 (真实值)\n",
      "x: 1.15789473684\n",
      "e^ 1.15789473684  =  3.18322469126 (近似值)\t 3.1832246912598827 (真实值)\n",
      "x: 1.26315789474\n",
      "e^ 1.26315789474  =  3.53657199412 (近似值)\t 3.5365719941224363 (真实值)\n",
      "x: 1.36842105263\n",
      "e^ 1.36842105263  =  3.92914188683 (近似值)\t 3.929141886826998 (真实值)\n",
      "x: 1.47368421053\n",
      "e^ 1.47368421053  =  4.3652881922 (近似值)\t 4.365288192202982 (真实值)\n",
      "x: 1.57894736842\n",
      "e^ 1.57894736842  =  4.84984802022 (近似值)\t 4.849848020218827 (真实值)\n",
      "x: 1.68421052632\n",
      "e^ 1.68421052632  =  5.38819541428 (近似值)\t 5.388195414275814 (真实值)\n",
      "x: 1.78947368421\n",
      "e^ 1.78947368421  =  5.9863009524 (近似值)\t 5.986300952398287 (真实值)\n",
      "x: 1.89473684211\n",
      "e^ 1.89473684211  =  6.65079796433 (近似值)\t 6.650797964331267 (真实值)\n",
      "x: 2.0\n",
      "e^ 2.0  =  7.38905609893 (近似值)\t 7.38905609893065 (真实值)\n"
     ]
    },
    {
     "data": {
      "text/plain": [
       "Text(0,0.5,'exp(X)')"
      ]
     },
     "execution_count": 164,
     "metadata": {},
     "output_type": "execute_result"
    }
   ],
   "source": [
    "t1=np.linspace(-2,0,10,endpoint=False)\n",
    "t2=np.linspace(0,2,20)\n",
    "t=np.concatenate((t1,t2))\n",
    "# print(t)\n",
    "y=np.empty_like(t)\n",
    "for i ,x in enumerate(t):\n",
    "    print('x:',x)\n",
    "    y[i]=calc_e(x)\n",
    "    print ('e^', x, ' = ', y[i], '(近似值)\\t', math.exp(x), '(真实值)')\n",
    "plt.plot(t, y, 'r-', t, y, 'go', linewidth=2)\n",
    "plt.title(u'Taylor展式的应用', fontsize=18)\n",
    "plt.xlabel('X', fontsize=15)\n",
    "plt.ylabel('exp(X)', fontsize=15)\n",
    "# plt.show()"
   ]
  },
  {
   "cell_type": "code",
   "execution_count": 170,
   "metadata": {
    "ExecuteTime": {
     "end_time": "2020-04-17T06:55:34.112357Z",
     "start_time": "2020-04-17T06:55:34.095356Z"
    },
    "collapsed": true
   },
   "outputs": [],
   "source": [
    "class People:\n",
    "    def __init__(self,n,a,s):\n",
    "        self.name=n\n",
    "        self.age=a\n",
    "        self.__score=s\n",
    "        \n",
    "    def print_people(self):\n",
    "        str=u'%s的年龄：%d，成绩为：%.2f' % (self.name, self.age, self.__score)\n",
    "        print(str)\n",
    "#         __print_people=print_people\n",
    "        "
   ]
  },
  {
   "cell_type": "code",
   "execution_count": 171,
   "metadata": {
    "ExecuteTime": {
     "end_time": "2020-04-17T06:55:34.666389Z",
     "start_time": "2020-04-17T06:55:34.647388Z"
    },
    "collapsed": true
   },
   "outputs": [],
   "source": [
    "class Student(People):\n",
    "    def __init__(self,n,a,w):\n",
    "        People.__init__(self,n,a,w)\n",
    "        self.name='Student '+self.name\n",
    "        \n",
    "    def print_people(self):\n",
    "        str=u'%s的年龄：%d' % (self.name, self.age)\n",
    "        print(str)"
   ]
  },
  {
   "cell_type": "code",
   "execution_count": 172,
   "metadata": {
    "ExecuteTime": {
     "end_time": "2020-04-17T06:55:35.422432Z",
     "start_time": "2020-04-17T06:55:35.414432Z"
    },
    "collapsed": true
   },
   "outputs": [],
   "source": [
    "def func(p):\n",
    "    p.age=11"
   ]
  },
  {
   "cell_type": "code",
   "execution_count": 179,
   "metadata": {
    "ExecuteTime": {
     "end_time": "2020-04-17T08:43:06.743426Z",
     "start_time": "2020-04-17T08:43:06.728426Z"
    }
   },
   "outputs": [
    {
     "name": "stdout",
     "output_type": "stream",
     "text": [
      "Tom的年龄：11，成绩为：3.14\n",
      "Tom的年龄：11，成绩为：3.14\n",
      "Student Jerry的年龄：12\n",
      "Tom的年龄：11，成绩为：3.14\n",
      "Student Jerry的年龄：12，成绩为：2.72\n"
     ]
    }
   ],
   "source": [
    "p=People(\"Tom\",10,3.14159)\n",
    "func(p)\n",
    "p.print_people()\n",
    "j=Student('Jerry',12,2.71828)\n",
    "p.print_people()\n",
    "j.print_people()\n",
    "People.print_people(p)\n",
    "People.print_people(j)"
   ]
  },
  {
   "cell_type": "markdown",
   "metadata": {},
   "source": [
    "5.4 start"
   ]
  },
  {
   "cell_type": "code",
   "execution_count": 209,
   "metadata": {
    "ExecuteTime": {
     "end_time": "2020-04-17T09:49:32.119377Z",
     "start_time": "2020-04-17T09:49:32.112376Z"
    }
   },
   "outputs": [],
   "source": [
    "from scipy import stats"
   ]
  },
  {
   "cell_type": "code",
   "execution_count": 223,
   "metadata": {
    "ExecuteTime": {
     "end_time": "2020-04-17T09:53:02.842430Z",
     "start_time": "2020-04-17T09:53:02.794427Z"
    }
   },
   "outputs": [],
   "source": [
    "def cala_statistics(x):\n",
    "    n = x.shape[0]\n",
    "    m = 0\n",
    "    m2 = 0\n",
    "    m3 = 0\n",
    "    m4 = 0\n",
    "    for t in x:\n",
    "        m += t\n",
    "        m2 += t * t\n",
    "        m3 += t**3\n",
    "        m4 += t**4\n",
    "    m/=n\n",
    "    m2/=n\n",
    "    m3/=n\n",
    "    m4/=n\n",
    "        \n",
    "    mu = m\n",
    "    sigma = np.sqrt(m2 - mu*mu)\n",
    "    skew = (m3 - 3*mu*m2 + 2*mu**3) / sigma**3\n",
    "#     skew = (m3 - 3*mu*m2 -mu**3) / sigma**3\n",
    "    kurtosis = (m4 - 4*mu*m3 + 6*mu*mu*m2 - 4*mu**3*mu + mu**4) / sigma**4 - 3\n",
    "    print ('手动计算均值、标准差、偏度、峰度：', mu, sigma, skew, kurtosis)\n",
    "    mu=np.mean(x,axis=0)\n",
    "    sigma=np.std(x,axis=0)\n",
    "    skew=stats.skew(x)\n",
    "    return mu,sigma,skew,kurtosis"
   ]
  },
  {
   "cell_type": "code",
   "execution_count": 224,
   "metadata": {
    "ExecuteTime": {
     "end_time": "2020-04-17T09:53:04.792541Z",
     "start_time": "2020-04-17T09:53:04.769540Z"
    }
   },
   "outputs": [
    {
     "name": "stdout",
     "output_type": "stream",
     "text": [
      "[-0.40001606 -1.19812964 -0.96974096 -0.81312675  0.62414477 -1.10205711\n",
      "  1.32367919 -1.20124736 -0.69585482  1.42443906 -0.99426832 -0.08121011\n",
      " -1.53749882  0.53596799  1.26258589  1.18998094  0.74135424  0.16675088\n",
      "  1.27754665 -0.80606469  0.39020356  0.80443432 -0.17089388  0.99058338\n",
      "  0.75459265 -0.94388843 -0.92510403  0.46887002 -0.68073121  0.35622624\n",
      " -1.01702678 -1.19605222  0.91102961 -0.57975855 -0.34923891 -0.7200776\n",
      " -0.18055877 -0.21495382 -0.62127428  0.7778559   0.06904809  0.51660277\n",
      " -0.62552557  0.34979353 -1.88654284 -0.78280538 -1.13026678 -0.49717528\n",
      "  0.83336544  1.33597296 -0.00696819  0.91573186 -0.19599065  0.3540589\n",
      "  0.41555011 -0.29498906 -0.2731402  -0.32861092  2.96317021  1.92536544\n",
      "  0.01717145 -1.80605484 -1.11707821  0.51609566 -0.91544221  3.18736847\n",
      " -0.64348285 -0.26165373  0.0338308   0.44049262  1.41365674 -1.27617026\n",
      "  1.28764234 -0.31835414 -0.25486424  0.58279608  0.1527374  -0.29943823\n",
      " -1.44002711  1.35703295 -0.2453168  -1.6320577  -0.09894751 -2.5992\n",
      " -1.13205882  0.24952993 -0.80443036  0.07348719 -0.51061526  0.3131345\n",
      " -1.31023626  0.98949742 -0.27116198  0.18143966  0.9895033   1.91721726\n",
      " -0.67056291 -0.89182426  0.30429585  0.18291583]\n",
      "手动计算均值、标准差、偏度、峰度： -0.0405101563266 0.999875976452 0.466074212268 0.621053108249\n",
      "函数库计算均值、标准差、偏度、峰度： -0.0405101563266 0.999875976452 0.4660742122683315 0.621053108249\n"
     ]
    }
   ],
   "source": [
    "d = np.random.randn(100)\n",
    "print(d)\n",
    "mu, sigma, skew, kurtosis = cala_statistics(d)\n",
    "print('函数库计算均值、标准差、偏度、峰度：', mu, sigma, skew, kurtosis)"
   ]
  },
  {
   "cell_type": "code",
   "execution_count": null,
   "metadata": {
    "collapsed": true
   },
   "outputs": [],
   "source": []
  },
  {
   "cell_type": "code",
   "execution_count": null,
   "metadata": {
    "collapsed": true
   },
   "outputs": [],
   "source": []
  }
 ],
 "metadata": {
  "kernelspec": {
   "display_name": "Python 3",
   "language": "python",
   "name": "python3"
  },
  "language_info": {
   "codemirror_mode": {
    "name": "ipython",
    "version": 3
   },
   "file_extension": ".py",
   "mimetype": "text/x-python",
   "name": "python",
   "nbconvert_exporter": "python",
   "pygments_lexer": "ipython3",
   "version": "3.6.3"
  }
 },
 "nbformat": 4,
 "nbformat_minor": 2
}
