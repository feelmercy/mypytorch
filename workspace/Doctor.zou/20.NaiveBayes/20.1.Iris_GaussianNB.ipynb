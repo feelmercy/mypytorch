{
 "cells": [
  {
   "cell_type": "code",
   "execution_count": 1,
   "metadata": {
    "ExecuteTime": {
     "end_time": "2020-10-30T02:14:55.907423Z",
     "start_time": "2020-10-30T02:14:44.832790Z"
    }
   },
   "outputs": [
    {
     "name": "stdout",
     "output_type": "stream",
     "text": [
      "Using matplotlib backend: Qt5Agg\n"
     ]
    }
   ],
   "source": [
    "import numpy as np\n",
    "import matplotlib.pyplot as plt\n",
    "import matplotlib as mpl\n",
    "from sklearn.preprocessing import StandardScaler\n",
    "from sklearn.naive_bayes import GaussianNB,MultinomialNB\n",
    "from sklearn.pipeline import Pipeline\n",
    "from sklearn.neighbors import  KNeighborsClassifier\n",
    "%matplotlib auto"
   ]
  },
  {
   "cell_type": "code",
   "execution_count": 6,
   "metadata": {
    "ExecuteTime": {
     "end_time": "2020-10-30T02:15:25.783132Z",
     "start_time": "2020-10-30T02:15:25.779132Z"
    },
    "collapsed": true
   },
   "outputs": [],
   "source": [
    "def iris_type(s):\n",
    "    it = {b'Iris-setosa': 0, b'Iris-versicolor': 1, b'Iris-virginica': 2}\n",
    "    return it[s]"
   ]
  },
  {
   "cell_type": "code",
   "execution_count": 7,
   "metadata": {
    "ExecuteTime": {
     "end_time": "2020-10-30T02:15:26.368165Z",
     "start_time": "2020-10-30T02:15:26.363165Z"
    },
    "collapsed": true
   },
   "outputs": [],
   "source": [
    "data = np.loadtxt(r'F:\\study\\ml\\DoctorZou\\08RegressionII\\8.iris.data',\n",
    "                  dtype=float,\n",
    "                  delimiter=',',\n",
    "                  converters={4:iris_type}\n",
    "                 )"
   ]
  },
  {
   "cell_type": "code",
   "execution_count": 8,
   "metadata": {
    "ExecuteTime": {
     "end_time": "2020-10-30T02:15:27.023203Z",
     "start_time": "2020-10-30T02:15:27.020203Z"
    },
    "collapsed": true
   },
   "outputs": [],
   "source": [
    "x,y=np.split(data,(4,),axis=1)\n",
    "x=x[:,:2]"
   ]
  },
  {
   "cell_type": "code",
   "execution_count": 9,
   "metadata": {
    "ExecuteTime": {
     "end_time": "2020-10-30T02:15:28.431283Z",
     "start_time": "2020-10-30T02:15:28.413282Z"
    }
   },
   "outputs": [
    {
     "data": {
      "text/plain": [
       "Pipeline(memory=None,\n",
       "     steps=[('sc', StandardScaler(copy=True, with_mean=True, with_std=True)), ('clf', GaussianNB(priors=None))])"
      ]
     },
     "execution_count": 9,
     "metadata": {},
     "output_type": "execute_result"
    }
   ],
   "source": [
    "gnb=Pipeline([\n",
    "    ('sc',StandardScaler()),\n",
    "    ('clf',GaussianNB())\n",
    "])\n",
    "gnb.fit(x,y.ravel())"
   ]
  },
  {
   "cell_type": "code",
   "execution_count": 10,
   "metadata": {
    "ExecuteTime": {
     "end_time": "2020-10-30T02:15:29.364337Z",
     "start_time": "2020-10-30T02:15:29.332335Z"
    },
    "collapsed": true
   },
   "outputs": [],
   "source": [
    "N,M=500,500\n",
    "x1_min,x1_max=x[:,0].min(),x[:,0].max()\n",
    "x2_min,x2_max=x[:,1].min(),x[:,1].max()\n",
    "t1=np.linspace(x1_min,x1_max,N)\n",
    "t2=np.linspace(x2_min,x2_max,N)\n",
    "x1,x2=np.meshgrid(t1,t2)\n",
    "x_test=np.stack((x1.flat,x2.flat),axis=1)"
   ]
  },
  {
   "cell_type": "code",
   "execution_count": 11,
   "metadata": {
    "ExecuteTime": {
     "end_time": "2020-10-30T02:15:30.753416Z",
     "start_time": "2020-10-30T02:15:30.659411Z"
    },
    "collapsed": true
   },
   "outputs": [],
   "source": [
    "cm_light=mpl.colors.ListedColormap(['#77E0A0','#FF8080','#A0A0FF'])\n",
    "cm_dark=mpl.colors.ListedColormap(['g','r','b'])\n",
    "y_hat=gnb.predict(x_test)\n",
    "y_hat=y_hat.reshape(x1.shape)"
   ]
  },
  {
   "cell_type": "code",
   "execution_count": 12,
   "metadata": {
    "ExecuteTime": {
     "end_time": "2020-10-30T02:15:33.842593Z",
     "start_time": "2020-10-30T02:15:31.435455Z"
    },
    "collapsed": true
   },
   "outputs": [],
   "source": [
    "plt.figure(facecolor='w')\n",
    "plt.pcolormesh(x1,x2,y_hat,cmap=cm_light)\n",
    "plt.scatter(x[:,0],x[:,1],c=y[:,0],edgecolors='k',s=50,cmap=cm_dark)\n",
    "plt.xlim(x1_min,x1_max)\n",
    "plt.ylim(x2_min,x2_max)\n",
    "plt.title('GaussianNB classify for iris')\n",
    "plt.show()"
   ]
  },
  {
   "cell_type": "code",
   "execution_count": 27,
   "metadata": {
    "ExecuteTime": {
     "end_time": "2020-09-21T03:09:39.154186Z",
     "start_time": "2020-09-21T03:09:39.124184Z"
    }
   },
   "outputs": [
    {
     "name": "stdout",
     "output_type": "stream",
     "text": [
      "[ 0.  0.  0.  0.  0.  0.  0.  0.  0.  0.  0.  0.  0.  0.  0.  0.  0.  0.\n",
      "  0.  0.  0.  0.  0.  0.  0.  0.  0.  0.  0.  0.  0.  0.  0.  0.  0.  0.\n",
      "  0.  0.  0.  0.  0.  1.  0.  0.  0.  0.  0.  0.  0.  0.  2.  2.  2.  1.\n",
      "  2.  1.  2.  1.  2.  1.  1.  1.  1.  1.  1.  2.  1.  1.  1.  1.  1.  1.\n",
      "  1.  1.  2.  2.  2.  2.  1.  1.  1.  1.  1.  1.  1.  2.  2.  1.  1.  1.\n",
      "  1.  1.  1.  1.  1.  1.  1.  1.  1.  1.  2.  1.  2.  1.  2.  2.  1.  2.\n",
      "  2.  2.  2.  1.  2.  1.  1.  2.  2.  2.  2.  1.  2.  1.  2.  1.  2.  2.\n",
      "  1.  1.  1.  2.  2.  2.  1.  1.  1.  2.  2.  2.  1.  2.  2.  2.  1.  2.\n",
      "  2.  2.  1.  2.  2.  1.]\n",
      "[ True  True  True  True  True  True  True  True  True  True  True  True\n",
      "  True  True  True  True  True  True  True  True  True  True  True  True\n",
      "  True  True  True  True  True  True  True  True  True  True  True  True\n",
      "  True  True  True  True  True False  True  True  True  True  True  True\n",
      "  True  True False False False  True False  True False  True False  True\n",
      "  True  True  True  True  True False  True  True  True  True  True  True\n",
      "  True  True False False False False  True  True  True  True  True  True\n",
      "  True False False  True  True  True  True  True  True  True  True  True\n",
      "  True  True  True  True  True False  True False  True  True False  True\n",
      "  True  True  True False  True False False  True  True  True  True False\n",
      "  True False  True False  True  True False False False  True  True  True\n",
      " False False False  True  True  True False  True  True  True False  True\n",
      "  True  True False  True  True False]\n",
      "accuracy: 78.00%\n"
     ]
    }
   ],
   "source": [
    "y_hat=gnb.predict(x)\n",
    "y=y.reshape(-1)\n",
    "result=y_hat==y\n",
    "print(y_hat)\n",
    "print(result)\n",
    "acc=np.mean(result)\n",
    "print('accuracy: %.2f%%' % (100*acc))"
   ]
  },
  {
   "cell_type": "code",
   "execution_count": null,
   "metadata": {
    "collapsed": true
   },
   "outputs": [],
   "source": []
  }
 ],
 "metadata": {
  "kernelspec": {
   "display_name": "Python 3",
   "language": "python",
   "name": "python3"
  },
  "language_info": {
   "codemirror_mode": {
    "name": "ipython",
    "version": 3
   },
   "file_extension": ".py",
   "mimetype": "text/x-python",
   "name": "python",
   "nbconvert_exporter": "python",
   "pygments_lexer": "ipython3",
   "version": "3.6.3"
  }
 },
 "nbformat": 4,
 "nbformat_minor": 2
}
