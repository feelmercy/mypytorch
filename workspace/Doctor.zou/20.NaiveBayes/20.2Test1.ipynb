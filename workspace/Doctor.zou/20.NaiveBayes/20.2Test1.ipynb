{
 "cells": [
  {
   "cell_type": "code",
   "execution_count": 1,
   "metadata": {
    "ExecuteTime": {
     "end_time": "2020-11-09T06:58:11.208733Z",
     "start_time": "2020-11-09T06:58:04.487349Z"
    },
    "collapsed": true
   },
   "outputs": [],
   "source": [
    "import numpy as np\n",
    "from sklearn.naive_bayes import GaussianNB,MultinomialNB"
   ]
  },
  {
   "cell_type": "code",
   "execution_count": 2,
   "metadata": {
    "ExecuteTime": {
     "end_time": "2020-11-09T06:58:11.544752Z",
     "start_time": "2020-11-09T06:58:11.209733Z"
    }
   },
   "outputs": [
    {
     "name": "stdout",
     "output_type": "stream",
     "text": [
      "sample num: 17, feature num : 5\n",
      "data:\n",
      " [[1 1 0 1 0]\n",
      " [0 0 0 0 0]\n",
      " [0 0 1 1 0]\n",
      " [1 1 1 1 0]\n",
      " [1 1 0 0 0]\n",
      " [1 1 0 0 1]\n",
      " [1 1 1 0 1]\n",
      " [0 1 1 0 1]\n",
      " [0 1 0 1 1]\n",
      " [1 0 1 0 1]\n",
      " [0 1 0 0 1]\n",
      " [1 0 1 1 0]\n",
      " [0 1 1 0 0]\n",
      " [0 0 0 0 1]\n",
      " [1 0 0 1 0]\n",
      " [1 1 1 1 1]\n",
      " [0 1 1 1 1]]\n",
      "--------------\n",
      "[ 0  1  2  3  4  5  6  7  8  9 10 11 12 13 14 15 16]\n",
      "predict category : \n",
      " [ 0  1  2  3  4  5  6  7  8  9 10 11 12 13 14 15 16]\n",
      "acc :  100.0\n",
      "model score : 1.0\n"
     ]
    }
   ],
   "source": [
    "np.random.seed(0)\n",
    "M=20\n",
    "N=5\n",
    "x=np.random.randint(2,size=(M,N))\n",
    "x=np.array(list(set([tuple(i) for i in x])))\n",
    "y=np.arange(len(x))\n",
    "print('sample num: %d, feature num : %d' % x.shape)\n",
    "print('data:\\n',x)\n",
    "print('--------------')\n",
    "print(y)\n",
    "# mnb=MultinomialNB(alpha=1)\n",
    "mnb=GaussianNB(priors=None)\n",
    "mnb.fit(x,y)\n",
    "y_hat=mnb.predict(x)\n",
    "print('predict category : \\n',y_hat)\n",
    "print('acc : ',(100*np.mean(y_hat==y) ))\n",
    "print('model score :',mnb.score(x,y))\n",
    "err=y!=y_hat\n",
    "for i ,e in enumerate(err):\n",
    "    if e:\n",
    "        print('y : ',y[i],' x:',x[i])\n",
    "        print('y_hat : ',y_hat[i])"
   ]
  },
  {
   "cell_type": "code",
   "execution_count": 3,
   "metadata": {
    "ExecuteTime": {
     "end_time": "2020-11-09T06:58:11.573754Z",
     "start_time": "2020-11-09T06:58:11.547753Z"
    }
   },
   "outputs": [
    {
     "name": "stdout",
     "output_type": "stream",
     "text": [
      "Category predict :  [ 0  1  2  3  4  5  6  7  8  9 10 11 12 13 14 15 16]\n",
      "acc : 100.00%\n",
      "system score :  1.0\n"
     ]
    }
   ],
   "source": [
    "mnb=GaussianNB(priors=None)\n",
    "mnb.fit(x,y)\n",
    "y_hat=mnb.predict(x)\n",
    "print('Category predict : ', y_hat)\n",
    "print('acc : %.2f%%' % (100 * np.mean(y_hat==y)))\n",
    "print('system score : ',mnb.score(x,y))\n",
    "err=y_hat !=y\n",
    "for i,e in enumerate(err):\n",
    "    if e:\n",
    "        print(y[i],':\\t',x[i],'like same with ',x[y_hat[i]] )"
   ]
  },
  {
   "cell_type": "code",
   "execution_count": 7,
   "metadata": {
    "ExecuteTime": {
     "end_time": "2020-11-09T06:59:31.963352Z",
     "start_time": "2020-11-09T06:59:31.949351Z"
    }
   },
   "outputs": [
    {
     "data": {
      "text/plain": [
       "array([[1, 0, 1, 0],\n",
       "       [1, 1, 1, 1]])"
      ]
     },
     "execution_count": 7,
     "metadata": {},
     "output_type": "execute_result"
    }
   ],
   "source": [
    "x1=np.random.randint(2,size=(2,4))\n",
    "x1\n"
   ]
  },
  {
   "cell_type": "code",
   "execution_count": 21,
   "metadata": {
    "ExecuteTime": {
     "end_time": "2020-11-09T07:03:12.178948Z",
     "start_time": "2020-11-09T07:03:12.166947Z"
    }
   },
   "outputs": [
    {
     "data": {
      "text/plain": [
       "array({(1, 0, 1, 0), (1, 1, 1, 1)}, dtype=object)"
      ]
     },
     "execution_count": 21,
     "metadata": {},
     "output_type": "execute_result"
    }
   ],
   "source": [
    "x2=np.array(set([tuple(i) for i in x1]))\n",
    "x2"
   ]
  },
  {
   "cell_type": "code",
   "execution_count": 31,
   "metadata": {
    "ExecuteTime": {
     "end_time": "2020-11-09T07:18:42.857179Z",
     "start_time": "2020-11-09T07:18:42.847179Z"
    }
   },
   "outputs": [
    {
     "data": {
      "text/plain": [
       "array([[1, 0, 1, 0],\n",
       "       [1, 1, 1, 1]])"
      ]
     },
     "execution_count": 31,
     "metadata": {},
     "output_type": "execute_result"
    }
   ],
   "source": [
    "x1"
   ]
  }
 ],
 "metadata": {
  "kernelspec": {
   "display_name": "Python 3",
   "language": "python",
   "name": "python3"
  },
  "language_info": {
   "codemirror_mode": {
    "name": "ipython",
    "version": 3
   },
   "file_extension": ".py",
   "mimetype": "text/x-python",
   "name": "python",
   "nbconvert_exporter": "python",
   "pygments_lexer": "ipython3",
   "version": "3.6.3"
  }
 },
 "nbformat": 4,
 "nbformat_minor": 2
}
