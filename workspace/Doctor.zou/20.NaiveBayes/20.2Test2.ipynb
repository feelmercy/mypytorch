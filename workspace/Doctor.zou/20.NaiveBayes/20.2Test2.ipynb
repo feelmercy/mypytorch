{
 "cells": [
  {
   "cell_type": "code",
   "execution_count": 1,
   "metadata": {
    "ExecuteTime": {
     "end_time": "2020-10-12T02:08:22.095633Z",
     "start_time": "2020-10-12T02:08:22.064433Z"
    },
    "collapsed": true
   },
   "outputs": [],
   "source": [
    "import numpy as np\n",
    "from sklearn.naive_bayes import GaussianNB,MultinomialNB"
   ]
  },
  {
   "cell_type": "code",
   "execution_count": 19,
   "metadata": {
    "ExecuteTime": {
     "end_time": "2020-10-12T02:24:21.365308Z",
     "start_time": "2020-10-12T02:24:21.327306Z"
    }
   },
   "outputs": [
    {
     "name": "stdout",
     "output_type": "stream",
     "text": [
      "acc :  0.882352941176\n",
      "model score :  0.882352941176\n",
      "y : 1  y_hat : 0\n",
      "[0 0 0 0 0]\n",
      "y : 15  y_hat : 1\n",
      "[1 1 1 1 1]\n"
     ]
    }
   ],
   "source": [
    "np.random.seed(0)\n",
    "M=20\n",
    "N=5\n",
    "x=np.random.randint(2,size=(M,N))\n",
    "x=np.array(list(set([tuple(i) for i in x])))\n",
    "y=np.arange(len(x))\n",
    "# gnb=GaussianNB(priors=None)\n",
    "gnb=MultinomialNB(alpha=1.0)\n",
    "gnb.fit(x,y)\n",
    "y_hat=gnb.predict(x)\n",
    "print('acc : ',np.mean(y==y_hat))\n",
    "print('model score : ',gnb.score(x,y))\n",
    "err=y!=y_hat\n",
    "for i,e in enumerate(err):\n",
    "    if e:\n",
    "        print('y :',y[i],' y_hat :',y_hat[i])\n",
    "        print(x[i])"
   ]
  },
  {
   "cell_type": "code",
   "execution_count": 22,
   "metadata": {
    "ExecuteTime": {
     "end_time": "2020-10-12T02:25:59.951110Z",
     "start_time": "2020-10-12T02:25:59.918509Z"
    }
   },
   "outputs": [
    {
     "name": "stdout",
     "output_type": "stream",
     "text": [
      "[1 1 0 1 0] ------ 0\n",
      "[0 0 0 0 0] ------ 1\n",
      "[0 0 1 1 0] ------ 2\n",
      "[1 1 1 1 0] ------ 3\n",
      "[1 1 0 0 0] ------ 4\n",
      "[1 1 0 0 1] ------ 5\n",
      "[1 1 1 0 1] ------ 6\n",
      "[0 1 1 0 1] ------ 7\n",
      "[0 1 0 1 1] ------ 8\n",
      "[1 0 1 0 1] ------ 9\n",
      "[0 1 0 0 1] ------ 10\n",
      "[1 0 1 1 0] ------ 11\n",
      "[0 1 1 0 0] ------ 12\n",
      "[0 0 0 0 1] ------ 13\n",
      "[1 0 0 1 0] ------ 14\n",
      "[1 1 1 1 1] ------ 15\n",
      "[0 1 1 1 1] ------ 16\n"
     ]
    }
   ],
   "source": [
    "for i in range(len(x)):\n",
    "    print (x[i],'------',y[i])"
   ]
  },
  {
   "cell_type": "code",
   "execution_count": null,
   "metadata": {
    "collapsed": true
   },
   "outputs": [],
   "source": []
  }
 ],
 "metadata": {
  "kernelspec": {
   "display_name": "Python 3",
   "language": "python",
   "name": "python3"
  },
  "language_info": {
   "codemirror_mode": {
    "name": "ipython",
    "version": 3
   },
   "file_extension": ".py",
   "mimetype": "text/x-python",
   "name": "python",
   "nbconvert_exporter": "python",
   "pygments_lexer": "ipython3",
   "version": "3.6.3"
  }
 },
 "nbformat": 4,
 "nbformat_minor": 2
}
