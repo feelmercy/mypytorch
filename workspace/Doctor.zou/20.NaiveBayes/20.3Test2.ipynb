{
 "cells": [
  {
   "cell_type": "code",
   "execution_count": 2,
   "metadata": {
    "ExecuteTime": {
     "end_time": "2020-10-12T03:07:17.006451Z",
     "start_time": "2020-10-12T03:07:16.953249Z"
    }
   },
   "outputs": [
    {
     "name": "stdout",
     "output_type": "stream",
     "text": [
      "Using matplotlib backend: Qt5Agg\n"
     ]
    }
   ],
   "source": [
    "import numpy as np\n",
    "from sklearn.naive_bayes import MultinomialNB, BernoulliNB\n",
    "from sklearn.datasets import fetch_20newsgroups\n",
    "from sklearn.feature_extraction.text import TfidfVectorizer\n",
    "from sklearn.linear_model import RidgeClassifier\n",
    "from sklearn.neighbors import KNeighborsClassifier\n",
    "from sklearn.svm import SVC\n",
    "from sklearn.ensemble import RandomForestClassifier\n",
    "from sklearn.model_selection import GridSearchCV\n",
    "from sklearn import metrics\n",
    "from time import time\n",
    "from pprint import pprint\n",
    "import matplotlib.pyplot as plt\n",
    "import matplotlib as mpl\n",
    "%matplotlib auto\n",
    "mpl.rcParams['font.sans-serif'] = [u'simHei']\n",
    "mpl.rcParams['axes.unicode_minus'] = False"
   ]
  },
  {
   "cell_type": "code",
   "execution_count": 3,
   "metadata": {
    "ExecuteTime": {
     "end_time": "2020-10-12T03:07:19.948110Z",
     "start_time": "2020-10-12T03:07:19.466483Z"
    }
   },
   "outputs": [
    {
     "name": "stdout",
     "output_type": "stream",
     "text": [
      "Start Download Data ! ! !\n",
      "download time : 0.448\n",
      "data type : <class 'sklearn.utils.Bunch'>\n",
      "train sample num : 2034\n",
      "test sample num : 1353\n",
      "category num: 4\n"
     ]
    }
   ],
   "source": [
    "print('Start Download Data ! ! !')\n",
    "t_start = time()\n",
    "remove = ()\n",
    "categories = 'alt.atheism', 'talk.religion.misc', 'comp.graphics', 'sci.space'\n",
    "data_train = fetch_20newsgroups(subset='train',\n",
    "                                categories=categories,\n",
    "                                shuffle=True,\n",
    "                                random_state=5,\n",
    "                                remove=remove)\n",
    "data_test = fetch_20newsgroups(subset='test',\n",
    "                                categories=categories,\n",
    "                                shuffle=True,\n",
    "                                random_state=5,\n",
    "                                remove=remove)\n",
    "t_end=time()\n",
    "print('download time : %.3f' % (t_end - t_start))\n",
    "print('data type :',type(data_train))\n",
    "print('train sample num :',len(data_train.data))\n",
    "print('test sample num :',len(data_test.data))\n",
    "print('category num:',len(categories))"
   ]
  },
  {
   "cell_type": "code",
   "execution_count": 4,
   "metadata": {
    "ExecuteTime": {
     "end_time": "2020-10-12T03:07:21.920740Z",
     "start_time": "2020-10-12T03:07:21.889540Z"
    }
   },
   "outputs": [
    {
     "name": "stdout",
     "output_type": "stream",
     "text": [
      "['alt.atheism', 'comp.graphics', 'sci.space', 'talk.religion.misc']\n"
     ]
    }
   ],
   "source": [
    "categories=data_train.target_names\n",
    "pprint(categories)\n",
    "y_train=data_train.target\n",
    "y_test=data_test.target"
   ]
  },
  {
   "cell_type": "code",
   "execution_count": 5,
   "metadata": {
    "ExecuteTime": {
     "end_time": "2020-10-12T03:07:25.378579Z",
     "start_time": "2020-10-12T03:07:25.347978Z"
    }
   },
   "outputs": [
    {
     "name": "stdout",
     "output_type": "stream",
     "text": [
      "Email 1 (belong to sci.space )\n",
      "-----------------------------data----------------------\n",
      "From: stephens@geod.emr.ca (Dave Stephenson)\n",
      "Subject: Re: Clementine Science Team Selected\n",
      "Nntp-Posting-Host: ngis.geod.emr.ca\n",
      "Organization: Dept. of Energy, Mines, and Resources, Ottawa\n",
      "Lines: 32\n",
      "\n",
      "nickh@CS.CMU.EDU (Nick Haines) writes:\n",
      "\n",
      ">In article <stephens.734792933@ngis> stephens@geod.emr.ca (Dave Stephenson) writes:\n",
      "\n",
      ">   Remember the first government scientist in the British Empire was\n",
      ">   the Astronomer Royal, who was paid [...] from the Department\n",
      ">   of Ordinance Budget (i.e. the military). Flamsteed House (the original\n",
      ">   RGO) was built out of Army Surplus Scrap ( A gate house at the Tower of\n",
      ">   London ?), and paid for by the sale of time expired gunpowder [...]\n",
      "\n",
      ">At the time, astronomy was vital to the military, in that navigation\n",
      ">and cartography were of primary impoortance to the military, and good\n",
      ">cartography was impossible without good astronomy.\n",
      "\n",
      ">The relevance these daysis somewhat less obvious.\n",
      "\n",
      ">Nick\n",
      "\n",
      "It still applies, except the astronomy these days is Very Long Baseline\n",
      "Radio Astronomy coupled to GPS and Satellite Laser Ranging. The data\n",
      "from NASA's and the Naval Observatory's (among others) is a vital \n",
      "source of data for studies into crustal dynamics, Earth rotation, and\n",
      "purturbations. Every time there is a leap second added to the New Year,\n",
      "remember the military and science are still co-habiting nicely. The\n",
      "same VLBI was used to track Gallileo as it passed the Earth, and used\n",
      "so little fuel that it can afford to observe Ida. \n",
      " \n",
      "--\n",
      "Dave Stephenson\n",
      "Geodetic Survey of Canada\n",
      "Ottawa, Ontario, Canada\n",
      "Internet: stephens@geod.emr.ca\n",
      "\n",
      "=======================================================\n",
      "\n",
      "\n",
      "\n",
      "Email 2 (belong to talk.religion.misc )\n",
      "-----------------------------data----------------------\n",
      "From: halat@pooh.bears (Jim Halat)\n",
      "Subject: Re: After 2000 years, can we say that Christian Morality is\n",
      "Reply-To: halat@pooh.bears (Jim Halat)\n",
      "Lines: 14\n",
      "\n",
      "In article <1qie61$fkt@horus.ap.mchp.sni.de>, frank@D012S658.uucp (Frank O'Dwyer) writes:\n",
      "\n",
      ">Objective morality is morality built from objective values.\n",
      "\n",
      "\n",
      "And organized religion is a religion built from organized values.\n",
      "And Ford Tempo is a Tempo built from Ford values.\n",
      "And rational response is response built from rational values.\n",
      "And unconditional surrender is surrender built from unconditional values.\n",
      "    ^^^^^^^^^^^^^^^^^^^^^^^\n",
      "          uncle!\n",
      "\n",
      "bye\n",
      "-jim halat\n",
      "\n",
      "=======================================================\n",
      "\n",
      "\n",
      "\n",
      "Email 3 (belong to talk.religion.misc )\n",
      "-----------------------------data----------------------\n",
      "From: markbr%radian@natinst.com (mark)\n",
      "Subject: Re: Freemasonry and the Southern Baptist Convention\n",
      "Nntp-Posting-Host: zippy.radian.com\n",
      "Organization: n.o.y.b\n",
      "Lines: 14\n",
      "\n",
      "In article <1qv82l$oj2@usenet.INS.CWRU.Edu> ch981@cleveland.Freenet.Edu (Tony Alicea) writes:\n",
      ">     With the Southern Baptist Convention convening this June to consider\n",
      ">the charges that Freemasonry is incompatible with christianity, I thought\n",
      ">the following quotes by Mr. James Holly, the Anti-Masonic Flag Carrier,\n",
      ">would amuse you all...\n",
      "<MUNCH!>\n",
      ">     I hope you all had a good laugh! I know *I* did! <g>,\n",
      "\n",
      "It would be funny if it wasn't so damn *NASTY*; and as non-xian as I am, \n",
      "it's hard to believe that someone is pushing black is white and freedom\n",
      "is slavery so blatantly.\n",
      "\n",
      "\tmark\n",
      "\n",
      "\n",
      "=======================================================\n",
      "\n",
      "\n",
      "\n",
      "Email 4 (belong to alt.atheism )\n",
      "-----------------------------data----------------------\n",
      "From: jvigneau@cs.ulowell.edu (Joe Vigneau)\n",
      "Subject: Re: [soc.motss, et al.] \"Princeton axes matching funds for Boy Scouts\"\n",
      "In-Reply-To: bevans@carina.unm.edu's message of 4 Apr 1993 12:19:20 GMT\n",
      "Organization: -\n",
      "\t<1993Apr3.214557.24073@midway.uchicago.edu> <1pmjo8INN2l0@lynx.unm.edu>\n",
      "Lines: 21\n",
      "\n",
      "In article <1pmjo8INN2l0@lynx.unm.edu> bevans@carina.unm.edu (Mathemagician) writes:\n",
      "\n",
      "   Just what do gay people do that straight people don't?\n",
      "\n",
      "Absolutely nothing.\n",
      "\n",
      "I'm a VERY straight(as an arrow), 17-year old male that is involved in the BSA.\n",
      "\n",
      "I don't care what gay people do among each other, as long as they don't make\n",
      "passes at me or anything.  At my summer camp where I work, my boss is gay.\n",
      "Not in a 'pansy' way of gay (I know a few), but just 'one of the guys'.\n",
      "He doesn't push anything on me, and we give him the same respect back, due\n",
      "to his position.\n",
      "\n",
      "If anything, the BSA has taught me, I don't know, tolerance or something.\n",
      "Before I met this guy, I thought all gays were 'faries'.  So, the BSA HAS\n",
      "taught me to be an antibigot.\n",
      "\n",
      "Basically, It comes down to this: What you do among yourself is your own\n",
      "business. No one else has the right to tell you otherwise, unless it\n",
      "violates someone else's civil rights.\n",
      "\n",
      "=======================================================\n",
      "\n",
      "\n",
      "\n",
      "Email 5 (belong to talk.religion.misc )\n",
      "-----------------------------data----------------------\n",
      "From: mike@inti.lbl.gov (Michael Helm)\n",
      "Subject: Re: Religion and history; The real discuss\n",
      "Organization: N.I.C.E.\n",
      "Lines: 38\n",
      "Reply-To: mike@inti.lbl.gov (Michael Helm)\n",
      "NNTP-Posting-Host: 128.3.128.82\n",
      "\n",
      "Matthew Huntbach writes:\n",
      "sm[?]>a real Christian unless you're born again is a very fundamental biblical\n",
      "sm[?]>conversion and regeneration are 'probably' part of some small USA-based cult\n",
      "\n",
      ">the \"born-again\" tag often use it to mean very specifically\n",
      ">having undergone some sort of ecstatic experience (which can in\n",
      ">fact be very easily manufactured with a little psychological manipulation),\n",
      ">and are often insultingly dismissive of those whose\n",
      ">Christianity is a little more intellectual, is not the result\n",
      "\n",
      "Some of these \"cults\", which seems like a rather dismissive term\n",
      "to me, are pretty big here in the USA.  Most of them\n",
      "are quite respectable & neiborly & do not resemble Branch Davidians\n",
      "in the least; confusing them is a mistake.  What about \"live &\n",
      "let live\", folks?  I'm sure we can uncover a few extremist loonies\n",
      "who are Catholic -- the anti-abortion movement in the USA seems to have a\n",
      "few hard cases in it, for example.\n",
      "\n",
      ">I've often heard such people use the line \"Catholics aren't\n",
      ">real Christians\". Indeed, anyone sending \"missionaries\" to\n",
      ">Ireland must certainly be taking this line, for otherwise why\n",
      ">would they not be content for Christianity to be maintained in\n",
      ">Ireland in its traditional Catholic form?\n",
      "\n",
      "I have to agree Matthew with this; I have certainly encountered a lot\n",
      "of anti-Catholic-religion propaganda & emotion (& some bigotry) from\n",
      "members of certain religious groups here.  They also practice their\n",
      "missionary work with zeal among Catholics in the United States, but to\n",
      "someone who is or was raised Catholic such rhetoric is pretty\n",
      "off-putting.  It may work better in an environment where there's a lot\n",
      "of popular anti-clericalism.\n",
      "\n",
      "Follow-ups set elsewhere, this no longer seems very relevant to Celtic issues\n",
      "to me.\n",
      "-- \n",
      "\n",
      "\n",
      "\n",
      "\n",
      "=======================================================\n",
      "\n",
      "\n",
      "\n",
      "Email 6 (belong to alt.atheism )\n",
      "-----------------------------data----------------------\n",
      "From: bil@okcforum.osrhe.edu (Bill Conner)\n",
      "Subject: Re: islamic authority over women\n",
      "Nntp-Posting-Host: okcforum.osrhe.edu\n",
      "Organization: Okcforum Unix Users Group\n",
      "X-Newsreader: TIN [version 1.1 PL9]\n",
      "Lines: 30\n",
      "\n",
      "SCOTT D. SAUYET (SSAUYET@eagle.wesleyan.edu) wrote:\n",
      "\n",
      ": Regardless of people's hidden motivations, the stated reasons for many\n",
      ": wars include religion.  Of course you can always claim that the REAL\n",
      ": reason was economics, politics, ethnic strife, or whatever.  But the\n",
      ": fact remains that the justification for many wars has been to conquer\n",
      ": the heathens.\n",
      "\n",
      ": If you want to say, for instance, that economics was the chief cause\n",
      ": of the Crusades, you could certainly make that point.  But someone\n",
      ": could come along and demonstrate that it was REALLY something else, in\n",
      ": the same manner you show that it was REALLY not religion.  You could\n",
      ": in this manner eliminate all possible causes for the Crusades.\n",
      ":         \n",
      "\n",
      "Scott,\n",
      "\n",
      "I don't have to make outrageous claims about religion's affecting and\n",
      "effecting history, for the purpsoe of a.a, all I have to do point out\n",
      "that many claims made here are wrong and do nothing to validate\n",
      "atheism. At no time have I made any statement that religion was the\n",
      "sole cause of anything, what I have done is point out that those who\n",
      "do make that kind of claim are mistaken, usually deliberately. \n",
      "\n",
      "To credit religion with the awesome power to dominate history is to\n",
      "misunderstand human nature, the function of religion and of course,\n",
      "history. I believe that those who distort history in this way know\n",
      "exaclty what they're doing, and do it only for affect.\n",
      "\n",
      "Bill\n",
      "\n",
      "=======================================================\n",
      "\n",
      "\n",
      "\n",
      "Email 7 (belong to sci.space )\n",
      "-----------------------------data----------------------\n",
      "From: tffreeba@indyvax.iupui.edu\n",
      "Subject: Death and Taxes (was Why not give $1 billion to...\n",
      "Article-I.D.: indyvax.1993Apr22.162501.747\n",
      "Lines: 10\n",
      "\n",
      "In my first posting on this subject I threw out an idea of how to fund\n",
      "such a contest without delving to deep into the budget.  I mentioned\n",
      "granting mineral rights to the winner (my actual wording was, \"mining\n",
      "rights.)  Somebody pointed out, quite correctly, that such rights are\n",
      "not anybody's to grant (although I imagine it would be a fait accompli\n",
      "situation for the winner.)  So how about this?  Give the winning group\n",
      "(I can't see one company or corp doing it) a 10, 20, or 50 year\n",
      "moratorium on taxes.\n",
      "\n",
      "Tom Freebairn \n",
      "\n",
      "=======================================================\n",
      "\n",
      "\n",
      "\n",
      "Email 8 (belong to talk.religion.misc )\n",
      "-----------------------------data----------------------\n",
      "From: blowfish@leo.unm.edu (rON.)\n",
      "Subject: Re: 666, THE NUMBER OF THE BEAST, VIEWER DISCR\n",
      "Organization: University of New Mexico, Albuquerque\n",
      "Lines: 7\n",
      "NNTP-Posting-Host: leo.unm.edu\n",
      "\n",
      "In article <1pr3d3$doh@cat.cis.Brown.EDU> ST002649@brownvm.brown.edu (Alex Gottschalk) writes:\n",
      ">>>Well, I *WILL* do the math, and I get:  (6^6)^6=2,189,739,336\n",
      ">>>This mean anything to anyone?  :^)\n",
      ">5*1=5 thus fitting in neatly with something else.\n",
      "\n",
      "Of course, 2+1+8+9+7+3+9+3+3+6 = 51, which, quite obviously is 23+23+5...\n",
      "r.\n",
      "\n",
      "=======================================================\n",
      "\n",
      "\n",
      "\n",
      "Email 9 (belong to comp.graphics )\n",
      "-----------------------------data----------------------\n",
      "From: Mike_Peredo@mindlink.bc.ca (Mike Peredo)\n",
      "Subject: Re: \"Fake\" virtual reality\n",
      "Organization: MIND LINK! - British Columbia, Canada\n",
      "Lines: 11\n",
      "\n",
      "The most ridiculous example of VR-exploitation I've seen so far is the\n",
      "\"Virtual Reality Clothing Company\" which recently opened up in Vancouver. As\n",
      "far as I can tell it's just another \"chic\" clothes spot. Although it would be\n",
      "interesting if they were selling \"virtual clothing\"....\n",
      "\n",
      "E-mail me if you want me to dig up their phone # and you can probably get\n",
      "some promotional lit.\n",
      "\n",
      "MP\n",
      "(8^)-\n",
      "\n",
      "\n",
      "=======================================================\n",
      "\n",
      "\n",
      "\n",
      "Email 10 (belong to alt.atheism )\n",
      "-----------------------------data----------------------\n",
      "From: livesey@solntze.wpd.sgi.com (Jon Livesey)\n",
      "Subject: Re: Omnipotence (was Re: Speculations)\n",
      "Organization: sgi\n",
      "Lines: 35\n",
      "NNTP-Posting-Host: solntze.wpd.sgi.com\n",
      "\n",
      "In article <1993Apr5.171143.828@batman.bmd.trw.com>, jbrown@batman.bmd.trw.com writes:\n",
      "|> In article <2942949719.2.p00261@psilink.com>, \"Robert Knowles\" <p00261@psilink.com> writes:\n",
      "|> >>DATE:   Fri, 2 Apr 1993 23:02:22 -0500\n",
      "|> >>FROM:   Nanci Ann Miller <nm0w+@andrew.cmu.edu>\n",
      "|> >>\n",
      "|> >>\n",
      "|> >>> > 3. Can god uncreate itself?\n",
      "|> >>> \n",
      "|> >>> No.  For if He did, He would violate His own nature which He cannot do.\n",
      "|> >>> It is God's nature to Exist.  He is, after all, the \"I AM\" which is\n",
      "|> >>> a statement of His inherent Existence.  He is existence itself.\n",
      "|> >>> Existence cannot \"not-exist\".\n",
      "|> >>\n",
      "|> >>Then, as mentioned above, he must not be very omnipotent.\n",
      "|> >>\n",
      "|> \n",
      "|> What do you mean by omnipotent here?  Do you mean by \"omnipotent\"\n",
      "|> that God should be able to do anything/everything?  This creates\n",
      "|> a self-contradictory definition of omnipotence which is effectively\n",
      "|> useless.\n",
      "|> \n",
      "|> To be descriptive, omnipotence must mean \"being all-powerful\" and\n",
      "|> not \"being able to do anything/everything\".\n",
      "|> \n",
      "|> Let me illustrate by analogy.\n",
      "|> Suppose the United States were the only nuclear power on earth.  Suppose\n",
      "|> further that the US military could not effectively be countered by any\n",
      "|> nation or group of nations.  The US has the power to go into any country\n",
      "|> at any time for any reason to straighten things out as the leaders of the\n",
      "|> US see fit.  The US would be militarily \"omnipotent\".\n",
      "\n",
      "Did you check with the Afghans before posting this?   They\n",
      "might disagree.\n",
      "\n",
      "jon.\n",
      "\n",
      "=======================================================\n",
      "\n",
      "\n",
      "\n"
     ]
    }
   ],
   "source": [
    "for i in np.arange(10):\n",
    "    print('Email %d (belong to %s )' % (i+1,categories[y_train[i]]))\n",
    "    print('-----------------------------data----------------------')\n",
    "    print(data_train.data[i])\n",
    "    print('=======================================================')\n",
    "    print('\\n\\n')"
   ]
  },
  {
   "cell_type": "code",
   "execution_count": 6,
   "metadata": {
    "ExecuteTime": {
     "end_time": "2020-10-12T05:27:40.942840Z",
     "start_time": "2020-10-12T05:27:40.140794Z"
    }
   },
   "outputs": [
    {
     "name": "stdout",
     "output_type": "stream",
     "text": [
      "train set sample num :2034 ,feature num : 33809\n",
      "stop words : \n",
      " frozenset({'others', 'thus', 'de', 'upon', 'whose', 'few', 'back', 'with', 'has', 'namely', 'yours', 'all', 'bill', 'or', 'seems', 'what', 'together', 'some', 'perhaps', 'whereas', 'anyhow', 'forty', 'since', 'whole', 'it', 'down', 'amoungst', 'another', 'nobody', 'up', 'cant', 'too', 'many', 'much', 'any', 'same', 'against', 'four', 'put', 'my', 'further', 'find', 'made', 'beyond', 'five', 'seemed', 'itself', 'full', 'sometimes', 'under', 'was', 'beside', 're', 'herself', 'becomes', 'somewhere', 'off', 'a', 'ten', 'becoming', 'top', 'into', 'might', 'i', 'three', 'whatever', 'neither', 'she', 'something', 'whence', 'whereafter', 'never', 'and', 'be', 'who', 'seem', 'still', 'this', 'otherwise', 'nine', 'hereupon', 'onto', 'an', 'somehow', 'take', 'is', 'keep', 'he', 'on', 'least', 'whither', 'detail', 'although', 'fill', 'get', 'over', 'do', 'former', 'well', 'were', 'would', 'even', 'of', 'though', 'only', 'for', 'rather', 'hers', 'everywhere', 'nevertheless', 'those', 'less', 'whenever', 'enough', 'nowhere', 'at', 'almost', 'as', 'front', 'here', 'whereupon', 'two', 'been', 'thru', 'eleven', 'below', 'call', 'hasnt', 'mostly', 'please', 'interest', 'should', 'fifty', 'give', 'so', 'such', 'the', 'wherever', 'whom', 'before', 'both', 'con', 'nor', 'you', 'yourselves', 'moreover', 'herein', 'however', 'about', 'eight', 'next', 'very', 'sometime', 'sincere', 'thence', 'by', 'formerly', 'per', 'throughout', 'us', 'own', 'amount', 'but', 'their', 'its', 'will', 'already', 'therein', 'am', 'describe', 'several', 'which', 'from', 'ours', 'serious', 'hundred', 'cannot', 'not', 'one', 'anyway', 'third', 'also', 'her', 'part', 'see', 'no', 'except', 'may', 'first', 'name', 'we', 'everything', 'where', 'nothing', 'yet', 'ourselves', 'among', 'each', 'either', 'ltd', 'couldnt', 'twelve', 'ever', 'twenty', 'eg', 'without', 'why', 'bottom', 'between', 'besides', 'they', 'via', 'above', 'every', 'if', 'when', 'through', 'hereby', 'go', 'these', 'alone', 'wherein', 'side', 'within', 'behind', 'fifteen', 'whoever', 'that', 'toward', 'your', 'how', 'whereby', 'across', 'fire', 'me', 'latter', 'more', 'themselves', 'else', 'mill', 'beforehand', 'done', 'anyone', 'found', 'un', 'always', 'seeming', 'indeed', 'than', 'again', 'amongst', 'mine', 'most', 'his', 'there', 'whether', 'once', 'last', 'thick', 'six', 'become', 'noone', 'meanwhile', 'him', 'hence', 'co', 'elsewhere', 'move', 'sixty', 'thereafter', 'towards', 'them', 'inc', 'himself', 'someone', 'until', 'anywhere', 'because', 'empty', 'latterly', 'being', 'thin', 'none', 'while', 'then', 'have', 'due', 'now', 'myself', 'our', 'after', 'during', 'along', 'around', 'became', 'thereupon', 'in', 'afterwards', 'had', 'to', 'show', 'cry', 'can', 'etc', 'ie', 'must', 'anything', 'often', 'out', 'system', 'yourself', 'thereby', 'are', 'could', 'everyone', 'therefore', 'hereafter', 'other'})\n"
     ]
    }
   ],
   "source": [
    "vectorizer = TfidfVectorizer(input='content',\n",
    "                             stop_words='english',\n",
    "                             max_df=0.5,\n",
    "                             sublinear_tf=True)\n",
    "x_train=vectorizer.fit_transform(data_train.data)\n",
    "x_test=vectorizer.transform(data_test.data)\n",
    "print('train set sample num :%d ,feature num : %d' %x_train.shape)\n",
    "print('stop words : \\n',vectorizer.get_stop_words())\n",
    "feature_names=np.asarray(vectorizer.get_stop_words())"
   ]
  },
  {
   "cell_type": "code",
   "execution_count": 7,
   "metadata": {
    "ExecuteTime": {
     "end_time": "2020-10-12T05:27:40.978842Z",
     "start_time": "2020-10-12T05:27:40.974842Z"
    },
    "collapsed": true
   },
   "outputs": [],
   "source": [
    "clfs = (MultinomialNB(), BernoulliNB(), KNeighborsClassifier(),\n",
    "        RidgeClassifier(), RandomForestClassifier(n_estimators=200), SVC())"
   ]
  },
  {
   "cell_type": "code",
   "execution_count": 8,
   "metadata": {
    "ExecuteTime": {
     "end_time": "2020-10-12T05:27:41.811890Z",
     "start_time": "2020-10-12T05:27:41.707884Z"
    },
    "collapsed": true
   },
   "outputs": [],
   "source": [
    "def test_clf(clf):\n",
    "    print('Classifier %s ' % (clf))\n",
    "    model=GridSearchCV(clf,param_grid={},cv=5)\n",
    "    m=0\n",
    "    if hasattr(clf,'alpha'):\n",
    "        alpha_can=np.logspace(-3,2,10)\n",
    "        model.set_params(param_grid={'alpha':alpha_can})\n",
    "        m=alpha_can.size\n",
    "    if hasattr(clf,'n_neighbors'):\n",
    "        neighbors_can=np.arange(1,15)\n",
    "        model.set_params(param_grid={'n_neighbors':neighbors_can})\n",
    "        m=neighbors_can.size\n",
    "    if hasattr(clf,'C'):\n",
    "        C_can=np.logspace(1,3,3)\n",
    "        gamma_can=np.logspace(-3,0,3)\n",
    "        model.set_params(param_grid={'C':C_can,'gamma':gamma_can})\n",
    "        m=C_can.size*gamma_can.size\n",
    "    if hasattr(clf,'max_depth'):\n",
    "        max_depth_can=np.arange(4,10)\n",
    "        model.set_params(param_grid={'max_depth':max_depth_can})\n",
    "        m=max_depth_can.size\n",
    "    t_start=time()\n",
    "    model.fit(x_train,y_train)\n",
    "    t_end=time()\n",
    "    t_train=(t_end-t_start)/(5*m)\n",
    "    print('total cv time : %.3f/(5*%d)=%.3f' % ((t_end-t_start),m,t_train))\n",
    "    print('best params :',model.best_params_)\n",
    "    t_start=time()\n",
    "    y_hat=model.predict(x_test)\n",
    "    t_end=time()\n",
    "    t_test=t_end-t_start\n",
    "    print('test set time:',t_test)\n",
    "    acc=metrics.accuracy_score(y_test,y_hat)\n",
    "    print('test set acc:',100*acc)\n",
    "    name=str(clf).split('(')[0]\n",
    "    index=name.find('Classifier')\n",
    "    if index !=-1:\n",
    "        name=name[:index]\n",
    "    if name == 'SVC':\n",
    "        name='SVM'\n",
    "    print('----------------------------------------------')\n",
    "    return t_train,t_test,1-acc,name"
   ]
  },
  {
   "cell_type": "code",
   "execution_count": 9,
   "metadata": {
    "ExecuteTime": {
     "end_time": "2020-10-12T05:32:55.784848Z",
     "start_time": "2020-10-12T05:27:42.599935Z"
    },
    "scrolled": false
   },
   "outputs": [
    {
     "name": "stdout",
     "output_type": "stream",
     "text": [
      "Classifier MultinomialNB(alpha=1.0, class_prior=None, fit_prior=True) \n",
      "total cv time : 0.585/(5*10)=0.012\n",
      "best params : {'alpha': 0.0035938136638046258}\n",
      "test set time: 0.002000093460083008\n",
      "test set acc: 89.578713969\n",
      "----------------------------------------------\n",
      "\n",
      "\n",
      "Classifier BernoulliNB(alpha=1.0, binarize=0.0, class_prior=None, fit_prior=True) \n",
      "total cv time : 1.074/(5*10)=0.021\n",
      "best params : {'alpha': 0.001}\n",
      "test set time: 0.0070002079010009766\n",
      "test set acc: 88.5439763489\n",
      "----------------------------------------------\n",
      "\n",
      "\n",
      "Classifier KNeighborsClassifier(algorithm='auto', leaf_size=30, metric='minkowski',\n",
      "           metric_params=None, n_jobs=1, n_neighbors=5, p=2,\n",
      "           weights='uniform') \n",
      "total cv time : 13.844/(5*14)=0.198\n",
      "best params : {'n_neighbors': 1}\n",
      "test set time: 0.13600802421569824\n",
      "test set acc: 84.9223946785\n",
      "----------------------------------------------\n",
      "\n",
      "\n",
      "Classifier RidgeClassifier(alpha=1.0, class_weight=None, copy_X=True, fit_intercept=True,\n",
      "        max_iter=None, normalize=False, random_state=None, solver='auto',\n",
      "        tol=0.001) \n",
      "total cv time : 21.040/(5*10)=0.421\n",
      "best params : {'alpha': 0.1668100537200059}\n",
      "test set time: 0.003000497817993164\n",
      "test set acc: 89.874353289\n",
      "----------------------------------------------\n",
      "\n",
      "\n",
      "Classifier RandomForestClassifier(bootstrap=True, class_weight=None, criterion='gini',\n",
      "            max_depth=None, max_features='auto', max_leaf_nodes=None,\n",
      "            min_impurity_decrease=0.0, min_impurity_split=None,\n",
      "            min_samples_leaf=1, min_samples_split=2,\n",
      "            min_weight_fraction_leaf=0.0, n_estimators=200, n_jobs=1,\n",
      "            oob_score=False, random_state=None, verbose=0,\n",
      "            warm_start=False) \n",
      "total cv time : 27.487/(5*6)=0.916\n",
      "best params : {'max_depth': 9}\n",
      "test set time: 0.13800787925720215\n",
      "test set acc: 76.0532150776\n",
      "----------------------------------------------\n",
      "\n",
      "\n",
      "Classifier SVC(C=1.0, cache_size=200, class_weight=None, coef0=0.0,\n",
      "  decision_function_shape='ovr', degree=3, gamma='auto', kernel='rbf',\n",
      "  max_iter=-1, probability=False, random_state=None, shrinking=True,\n",
      "  tol=0.001, verbose=False) \n",
      "total cv time : 247.243/(5*9)=5.494\n",
      "best params : {'C': 1000.0, 'gamma': 0.001}\n",
      "test set time: 1.6030917167663574\n",
      "test set acc: 90.096082779\n",
      "----------------------------------------------\n",
      "\n",
      "\n"
     ]
    }
   ],
   "source": [
    "result=[]\n",
    "for clf in clfs:\n",
    "    a=test_clf(clf)\n",
    "    result.append(a)\n",
    "    print('\\n')\n",
    "result=np.array(result)\n",
    "time_train,time_test,err,names=result.T"
   ]
  },
  {
   "cell_type": "code",
   "execution_count": 10,
   "metadata": {
    "ExecuteTime": {
     "end_time": "2020-10-12T05:32:57.642955Z",
     "start_time": "2020-10-12T05:32:55.786848Z"
    },
    "collapsed": true
   },
   "outputs": [],
   "source": [
    "x=np.arange(len(time_train))\n",
    "ax=plt.axes()\n",
    "b1=ax.bar(x,err,width=0.25,color='#77E0A0')\n",
    "ax_t=ax.twinx()\n",
    "b2=ax_t.bar(x+0.25,time_train,width=0.25,color='#FFA0A0')\n",
    "b3=ax_t.bar(x+0.5,time_test,width=0.25,color='#FF8080')\n",
    "plt.xticks(x+0.5,names,fontsize=10)\n",
    "leg=plt.legend([b1[0],b2[0],b3[0]],('err','train time','test time'))\n",
    "plt.tight_layout(2)\n",
    "plt.show()"
   ]
  },
  {
   "cell_type": "code",
   "execution_count": 11,
   "metadata": {
    "ExecuteTime": {
     "end_time": "2020-10-12T05:32:57.655955Z",
     "start_time": "2020-10-12T05:32:57.644955Z"
    }
   },
   "outputs": [
    {
     "data": {
      "text/plain": [
       "array(['0.10421286031', '0.114560236511', '0.150776053215',\n",
       "       '0.10125646711', '0.239467849224', '0.0990391722099'],\n",
       "      dtype='<U32')"
      ]
     },
     "execution_count": 11,
     "metadata": {},
     "output_type": "execute_result"
    }
   ],
   "source": [
    "err"
   ]
  },
  {
   "cell_type": "code",
   "execution_count": null,
   "metadata": {
    "collapsed": true
   },
   "outputs": [],
   "source": [
    "p(g=0)=5/8 \n",
    "p(g=1)=3/8\n",
    "p(a=0/g=0)=4/5\n",
    "p(a=1/g=0)=1/5\n",
    "p(a=1/g=1)=0.7\n",
    "p(a=0/g=1)=0.3\n",
    "p(g=0/a=0)=?\n",
    "p(a=0)=4/5*0.3=1.1\n",
    "p(g=0/a=0)=p(a=0/g=0)*p(g=0)/p(a=0)=(4/5)*(5/8)/\n",
    "p(a=0/g=0)*p(g=0)+p(a=0/g=1)*p(g=1)=0.8*5/8+0.3*3/8\n",
    "\n"
   ]
  },
  {
   "cell_type": "code",
   "execution_count": 15,
   "metadata": {
    "ExecuteTime": {
     "end_time": "2020-10-12T06:01:42.389604Z",
     "start_time": "2020-10-12T06:01:42.377604Z"
    }
   },
   "outputs": [
    {
     "data": {
      "text/plain": [
       "0.8163265306122448"
      ]
     },
     "execution_count": 15,
     "metadata": {},
     "output_type": "execute_result"
    }
   ],
   "source": [
    "0.8*0.625/(0.8*5/8+0.3*3/8)"
   ]
  },
  {
   "cell_type": "code",
   "execution_count": null,
   "metadata": {
    "collapsed": true
   },
   "outputs": [],
   "source": []
  }
 ],
 "metadata": {
  "kernelspec": {
   "display_name": "Python 3",
   "language": "python",
   "name": "python3"
  },
  "language_info": {
   "codemirror_mode": {
    "name": "ipython",
    "version": 3
   },
   "file_extension": ".py",
   "mimetype": "text/x-python",
   "name": "python",
   "nbconvert_exporter": "python",
   "pygments_lexer": "ipython3",
   "version": "3.6.3"
  }
 },
 "nbformat": 4,
 "nbformat_minor": 2
}
