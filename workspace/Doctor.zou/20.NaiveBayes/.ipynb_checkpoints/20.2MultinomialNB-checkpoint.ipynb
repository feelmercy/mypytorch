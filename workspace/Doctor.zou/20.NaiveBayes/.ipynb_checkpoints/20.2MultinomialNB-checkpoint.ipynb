{
 "cells": [
  {
   "cell_type": "code",
   "execution_count": null,
   "metadata": {
    "ExecuteTime": {
     "end_time": "2020-10-10T09:20:14.578022Z",
     "start_time": "2020-10-10T09:20:14.141997Z"
    },
    "collapsed": true
   },
   "outputs": [],
   "source": [
    "import numpy as np\n",
    "from sklearn.naive_bayes import GaussianNB,MultinomialNB"
   ]
  },
  {
   "cell_type": "code",
   "execution_count": 2,
   "metadata": {
    "ExecuteTime": {
     "end_time": "2020-10-10T09:20:16.561136Z",
     "start_time": "2020-10-10T09:20:16.484131Z"
    }
   },
   "outputs": [
    {
     "name": "stdout",
     "output_type": "stream",
     "text": [
      "sample num : 17 ,feature num : 5 \n",
      "sample : \n",
      "  [[1 1 0 1 0]\n",
      " [0 0 0 0 0]\n",
      " [0 0 1 1 0]\n",
      " [1 1 1 1 0]\n",
      " [1 1 0 0 0]\n",
      " [1 1 0 0 1]\n",
      " [1 1 1 0 1]\n",
      " [0 1 1 0 1]\n",
      " [0 1 0 1 1]\n",
      " [1 0 1 0 1]\n",
      " [0 1 0 0 1]\n",
      " [1 0 1 1 0]\n",
      " [0 1 1 0 0]\n",
      " [0 0 0 0 1]\n",
      " [1 0 0 1 0]\n",
      " [1 1 1 1 1]\n",
      " [0 1 1 1 1]]\n",
      "Category predict :  [ 0  1  2  3  4  5  6  7  8  9 10 11 12 13 14 15 16]\n",
      "acc : 100.00%\n",
      "system score :  1.0\n"
     ]
    }
   ],
   "source": [
    "np.random.seed(0)\n",
    "M=20\n",
    "N=5\n",
    "x=np.random.randint(2,size=(M,N))\n",
    "x=np.array(list(set([tuple(t) for t in x ])))\n",
    "M=len(x)\n",
    "y=np.arange(M)\n",
    "print('sample num : %d ,feature num : %d ' % x.shape )\n",
    "print('sample : \\n ',x)\n",
    "# mnb=MultinomialNB(alpha=1)\n",
    "mnb=GaussianNB(priors=None)\n",
    "mnb.fit(x,y)\n",
    "y_hat=mnb.predict(x)\n",
    "print('Category predict : ', y_hat)\n",
    "print('acc : %.2f%%' % (100 * np.mean(y_hat==y)))\n",
    "print('system score : ',mnb.score(x,y))\n",
    "err=y_hat !=y\n",
    "for i,e in enumerate(err):\n",
    "    if e:\n",
    "        print(y[i],':\\t',x[i],'like same with ',x[y_hat[i]] )"
   ]
  },
  {
   "cell_type": "code",
   "execution_count": null,
   "metadata": {
    "collapsed": true
   },
   "outputs": [],
   "source": []
  }
 ],
 "metadata": {
  "kernelspec": {
   "display_name": "Python 3",
   "language": "python",
   "name": "python3"
  },
  "language_info": {
   "codemirror_mode": {
    "name": "ipython",
    "version": 3
   },
   "file_extension": ".py",
   "mimetype": "text/x-python",
   "name": "python",
   "nbconvert_exporter": "python",
   "pygments_lexer": "ipython3",
   "version": "3.6.3"
  }
 },
 "nbformat": 4,
 "nbformat_minor": 2
}
