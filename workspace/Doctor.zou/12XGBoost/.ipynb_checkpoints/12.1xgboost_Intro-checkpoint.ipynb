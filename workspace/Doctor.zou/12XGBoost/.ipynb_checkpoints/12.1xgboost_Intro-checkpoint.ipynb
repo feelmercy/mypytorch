{
 "cells": [
  {
   "cell_type": "code",
   "execution_count": 1,
   "metadata": {
    "ExecuteTime": {
     "end_time": "2020-05-21T05:32:26.404840Z",
     "start_time": "2020-05-21T05:32:16.297262Z"
    },
    "collapsed": true
   },
   "outputs": [],
   "source": [
    "import xgboost as xgb\n",
    "import numpy as np"
   ]
  },
  {
   "cell_type": "code",
   "execution_count": 6,
   "metadata": {
    "ExecuteTime": {
     "end_time": "2020-05-21T05:33:32.218604Z",
     "start_time": "2020-05-21T05:33:32.204603Z"
    },
    "collapsed": true
   },
   "outputs": [],
   "source": [
    "def log_reg(y_hat,y):\n",
    "    p=1.0 / (1.0+np.exp(-y_hat))\n",
    "    g=p-y.get_label()\n",
    "    h=p*(1.0-p)\n",
    "    return g,h"
   ]
  },
  {
   "cell_type": "code",
   "execution_count": 7,
   "metadata": {
    "ExecuteTime": {
     "end_time": "2020-05-21T05:33:32.821639Z",
     "start_time": "2020-05-21T05:33:32.811638Z"
    },
    "collapsed": true
   },
   "outputs": [],
   "source": [
    "def error_rate(y_hat,y):\n",
    "    return 'error',float(sum(y.get_label() !=(y_hat >0.5))) / len(y_hat)"
   ]
  },
  {
   "cell_type": "code",
   "execution_count": 8,
   "metadata": {
    "ExecuteTime": {
     "end_time": "2020-05-21T05:33:33.346669Z",
     "start_time": "2020-05-21T05:33:33.281665Z"
    }
   },
   "outputs": [
    {
     "name": "stdout",
     "output_type": "stream",
     "text": [
      "[13:33:33] 6513x126 matrix with 143286 entries loaded from F:\\study\\ml\\DoctorZou\\11Boost\\12.XGBoost\\12.agaricus_train.txt\n",
      "[13:33:33] 1611x126 matrix with 35442 entries loaded from F:\\study\\ml\\DoctorZou\\11Boost\\12.XGBoost\\12.agaricus_test.txt\n"
     ]
    }
   ],
   "source": [
    "data_train=xgb.DMatrix(r'F:\\study\\ml\\DoctorZou\\11Boost\\12.XGBoost\\12.agaricus_train.txt')\n",
    "data_test=xgb.DMatrix(r'F:\\study\\ml\\DoctorZou\\11Boost\\12.XGBoost\\12.agaricus_test.txt')"
   ]
  },
  {
   "cell_type": "code",
   "execution_count": 9,
   "metadata": {
    "ExecuteTime": {
     "end_time": "2020-05-21T05:33:33.798694Z",
     "start_time": "2020-05-21T05:33:33.789694Z"
    }
   },
   "outputs": [
    {
     "data": {
      "text/plain": [
       "array([ 0.,  1.,  0., ...,  1.,  0.,  1.], dtype=float32)"
      ]
     },
     "execution_count": 9,
     "metadata": {},
     "output_type": "execute_result"
    }
   ],
   "source": [
    "data_test.get_label()"
   ]
  },
  {
   "cell_type": "code",
   "execution_count": 10,
   "metadata": {
    "ExecuteTime": {
     "end_time": "2020-05-21T05:33:34.436731Z",
     "start_time": "2020-05-21T05:33:34.301723Z"
    }
   },
   "outputs": [
    {
     "name": "stdout",
     "output_type": "stream",
     "text": [
      "[13:33:34] WARNING: C:\\Users\\Administrator\\workspace\\xgboost-win64_release_1.1.0\\src\\learner.cc:480: \n",
      "Parameters: { silent } might not be used.\n",
      "\n",
      "  This may not be accurate due to some parameters are only used in language bindings but\n",
      "  passed down to XGBoost core.  Or some parameters are not used but slip through this\n",
      "  verification. Please open an issue if you find above cases.\n",
      "\n",
      "\n",
      "[0]\teval-auc:0.96037\ttrain-auc:0.95823\teval-error:0.04283\ttrain-error:0.04652\n",
      "[1]\teval-auc:0.97993\ttrain-auc:0.98141\teval-error:0.02173\ttrain-error:0.02226\n",
      "[2]\teval-auc:0.99852\ttrain-auc:0.99707\teval-error:0.01800\ttrain-error:0.01520\n"
     ]
    }
   ],
   "source": [
    "param={'max_depth':2,'eta':1,'silent':1,'objective':'binary:logitraw'}\n",
    "watchlist=[(data_test,'eval'),(data_train,'train')]\n",
    "n_round=3\n",
    "bst=xgb.train(param,data_train,num_boost_round=n_round,evals=watchlist,\n",
    "             obj=log_reg,feval=error_rate)"
   ]
  },
  {
   "cell_type": "code",
   "execution_count": 11,
   "metadata": {
    "ExecuteTime": {
     "end_time": "2020-05-21T05:33:36.005821Z",
     "start_time": "2020-05-21T05:33:35.993820Z"
    },
    "collapsed": true
   },
   "outputs": [],
   "source": [
    "y_hat=bst.predict(data_test)\n"
   ]
  },
  {
   "cell_type": "code",
   "execution_count": 12,
   "metadata": {
    "ExecuteTime": {
     "end_time": "2020-05-21T05:33:39.915044Z",
     "start_time": "2020-05-21T05:33:39.903044Z"
    }
   },
   "outputs": [
    {
     "data": {
      "text/plain": [
       "array([-1.70712996,  1.70548773, -1.70712996, ...,  3.15561986,\n",
       "       -3.70064616,  3.15561986], dtype=float32)"
      ]
     },
     "execution_count": 12,
     "metadata": {},
     "output_type": "execute_result"
    }
   ],
   "source": [
    "y_hat"
   ]
  },
  {
   "cell_type": "code",
   "execution_count": 13,
   "metadata": {
    "ExecuteTime": {
     "end_time": "2020-05-21T05:33:40.440074Z",
     "start_time": "2020-05-21T05:33:40.433074Z"
    },
    "collapsed": true
   },
   "outputs": [],
   "source": [
    "y=data_test.get_label()"
   ]
  },
  {
   "cell_type": "code",
   "execution_count": 14,
   "metadata": {
    "ExecuteTime": {
     "end_time": "2020-05-21T05:33:40.922102Z",
     "start_time": "2020-05-21T05:33:40.912101Z"
    }
   },
   "outputs": [
    {
     "data": {
      "text/plain": [
       "array([ 0.,  1.,  0., ...,  1.,  0.,  1.], dtype=float32)"
      ]
     },
     "execution_count": 14,
     "metadata": {},
     "output_type": "execute_result"
    }
   ],
   "source": [
    "y"
   ]
  },
  {
   "cell_type": "code",
   "execution_count": 15,
   "metadata": {
    "ExecuteTime": {
     "end_time": "2020-05-21T05:33:41.548138Z",
     "start_time": "2020-05-21T05:33:41.537137Z"
    }
   },
   "outputs": [
    {
     "data": {
      "text/plain": [
       "array([False,  True, False, ...,  True, False,  True], dtype=bool)"
      ]
     },
     "execution_count": 15,
     "metadata": {},
     "output_type": "execute_result"
    }
   ],
   "source": [
    "y_hat>0"
   ]
  },
  {
   "cell_type": "code",
   "execution_count": 16,
   "metadata": {
    "ExecuteTime": {
     "end_time": "2020-05-21T05:33:42.295180Z",
     "start_time": "2020-05-21T05:33:42.281180Z"
    }
   },
   "outputs": [
    {
     "data": {
      "text/plain": [
       "array([False, False, False, ..., False, False, False], dtype=bool)"
      ]
     },
     "execution_count": 16,
     "metadata": {},
     "output_type": "execute_result"
    }
   ],
   "source": [
    "y!=(y_hat>0)"
   ]
  },
  {
   "cell_type": "code",
   "execution_count": 17,
   "metadata": {
    "ExecuteTime": {
     "end_time": "2020-05-21T05:33:43.462247Z",
     "start_time": "2020-05-21T05:33:43.449246Z"
    }
   },
   "outputs": [
    {
     "data": {
      "text/plain": [
       "array([ True,  True], dtype=bool)"
      ]
     },
     "execution_count": 17,
     "metadata": {},
     "output_type": "execute_result"
    }
   ],
   "source": [
    "np.array([0,1]) !=np.array([True,False])"
   ]
  },
  {
   "cell_type": "code",
   "execution_count": 18,
   "metadata": {
    "ExecuteTime": {
     "end_time": "2020-05-21T05:33:44.694318Z",
     "start_time": "2020-05-21T05:33:44.664316Z"
    }
   },
   "outputs": [
    {
     "data": {
      "text/plain": [
       "0.006207324643078833"
      ]
     },
     "execution_count": 18,
     "metadata": {},
     "output_type": "execute_result"
    }
   ],
   "source": [
    "error = sum(y != (y_hat > 0))\n",
    "error_rate = float(error) / len(y_hat)\n",
    "error_rate"
   ]
  },
  {
   "cell_type": "code",
   "execution_count": 19,
   "metadata": {
    "ExecuteTime": {
     "end_time": "2020-05-21T05:33:47.132457Z",
     "start_time": "2020-05-21T05:33:47.120456Z"
    }
   },
   "outputs": [
    {
     "data": {
      "text/plain": [
       "array([-1.70712996,  1.70548773, -1.70712996, ...,  3.15561986,\n",
       "       -3.70064616,  3.15561986], dtype=float32)"
      ]
     },
     "execution_count": 19,
     "metadata": {},
     "output_type": "execute_result"
    }
   ],
   "source": []
  },
  {
   "cell_type": "code",
   "execution_count": 23,
   "metadata": {
    "ExecuteTime": {
     "end_time": "2020-05-21T05:36:14.913910Z",
     "start_time": "2020-05-21T05:36:14.905909Z"
    }
   },
   "outputs": [
    {
     "data": {
      "text/plain": [
       "<bound method DMatrix.slice of <xgboost.core.DMatrix object at 0x000000000BEE6EB8>>"
      ]
     },
     "execution_count": 23,
     "metadata": {},
     "output_type": "execute_result"
    }
   ],
   "source": [
    "data_test.slice"
   ]
  },
  {
   "cell_type": "code",
   "execution_count": null,
   "metadata": {
    "collapsed": true
   },
   "outputs": [],
   "source": []
  }
 ],
 "metadata": {
  "kernelspec": {
   "display_name": "Python 3",
   "language": "python",
   "name": "python3"
  },
  "language_info": {
   "codemirror_mode": {
    "name": "ipython",
    "version": 3
   },
   "file_extension": ".py",
   "mimetype": "text/x-python",
   "name": "python",
   "nbconvert_exporter": "python",
   "pygments_lexer": "ipython3",
   "version": "3.6.3"
  }
 },
 "nbformat": 4,
 "nbformat_minor": 2
}
