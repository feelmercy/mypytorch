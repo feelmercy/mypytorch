{
 "cells": [
  {
   "cell_type": "code",
   "execution_count": 1,
   "metadata": {
    "ExecuteTime": {
     "end_time": "2020-10-09T01:36:29.855742Z",
     "start_time": "2020-10-09T01:36:15.729934Z"
    },
    "collapsed": true
   },
   "outputs": [],
   "source": [
    "import xgboost as xgb\n",
    "import numpy as np"
   ]
  },
  {
   "cell_type": "code",
   "execution_count": 5,
   "metadata": {
    "ExecuteTime": {
     "end_time": "2020-10-09T01:37:35.614503Z",
     "start_time": "2020-10-09T01:37:35.609503Z"
    },
    "collapsed": true
   },
   "outputs": [],
   "source": [
    "def log_reg(y_hat,y):\n",
    "    p=1.0 / (1.0+np.exp(-y_hat))\n",
    "    g=p-y\n",
    "    h=p*(1.0-p)\n",
    "    return g,h"
   ]
  },
  {
   "cell_type": "code",
   "execution_count": 8,
   "metadata": {
    "ExecuteTime": {
     "end_time": "2020-10-09T02:23:51.615281Z",
     "start_time": "2020-10-09T02:23:51.604280Z"
    }
   },
   "outputs": [
    {
     "data": {
      "text/plain": [
       "(0.12245933120185459, 0.23500371220159449)"
      ]
     },
     "execution_count": 8,
     "metadata": {},
     "output_type": "execute_result"
    }
   ],
   "source": [
    "log_reg(0.5,0.5)"
   ]
  },
  {
   "cell_type": "code",
   "execution_count": 19,
   "metadata": {
    "ExecuteTime": {
     "end_time": "2020-10-09T02:26:30.370361Z",
     "start_time": "2020-10-09T02:26:30.357361Z"
    }
   },
   "outputs": [
    {
     "data": {
      "text/plain": [
       "0.2689414213699951"
      ]
     },
     "execution_count": 19,
     "metadata": {},
     "output_type": "execute_result"
    }
   ],
   "source": [
    "1.0 / (1.0+np.exp(1.0))"
   ]
  },
  {
   "cell_type": "code",
   "execution_count": 20,
   "metadata": {
    "ExecuteTime": {
     "end_time": "2020-10-09T08:59:57.834631Z",
     "start_time": "2020-10-09T08:59:57.822630Z"
    }
   },
   "outputs": [
    {
     "data": {
      "text/plain": [
       "(-0.2689414213699951, 0.19661193324148185)"
      ]
     },
     "execution_count": 20,
     "metadata": {},
     "output_type": "execute_result"
    }
   ],
   "source": [
    "log_reg(1,1)"
   ]
  },
  {
   "cell_type": "code",
   "execution_count": 21,
   "metadata": {
    "ExecuteTime": {
     "end_time": "2020-10-09T09:00:17.082732Z",
     "start_time": "2020-10-09T09:00:17.070731Z"
    }
   },
   "outputs": [
    {
     "data": {
      "text/plain": [
       "(1.1224593312018545, 0.23500371220159449)"
      ]
     },
     "execution_count": 21,
     "metadata": {},
     "output_type": "execute_result"
    }
   ],
   "source": [
    "log_reg(0.5,-0.5)"
   ]
  },
  {
   "cell_type": "code",
   "execution_count": 26,
   "metadata": {
    "ExecuteTime": {
     "end_time": "2020-10-09T09:01:37.124310Z",
     "start_time": "2020-10-09T09:01:37.112309Z"
    }
   },
   "outputs": [
    {
     "data": {
      "text/plain": [
       "0.62245933120185459"
      ]
     },
     "execution_count": 26,
     "metadata": {},
     "output_type": "execute_result"
    }
   ],
   "source": [
    "1.0 / (1.0+np.exp(-0.5))"
   ]
  },
  {
   "cell_type": "code",
   "execution_count": 27,
   "metadata": {
    "ExecuteTime": {
     "end_time": "2020-10-09T09:59:10.578836Z",
     "start_time": "2020-10-09T09:59:10.553835Z"
    }
   },
   "outputs": [
    {
     "data": {
      "text/plain": [
       "820638"
      ]
     },
     "execution_count": 27,
     "metadata": {},
     "output_type": "execute_result"
    }
   ],
   "source": [
    "6513*126"
   ]
  },
  {
   "cell_type": "code",
   "execution_count": 31,
   "metadata": {
    "ExecuteTime": {
     "end_time": "2020-10-09T10:00:03.789880Z",
     "start_time": "2020-10-09T10:00:03.778879Z"
    }
   },
   "outputs": [
    {
     "data": {
      "text/plain": [
       "202986"
      ]
     },
     "execution_count": 31,
     "metadata": {},
     "output_type": "execute_result"
    }
   ],
   "source": [
    "1611*126"
   ]
  },
  {
   "cell_type": "code",
   "execution_count": null,
   "metadata": {
    "collapsed": true
   },
   "outputs": [],
   "source": []
  }
 ],
 "metadata": {
  "kernelspec": {
   "display_name": "Python 3",
   "language": "python",
   "name": "python3"
  },
  "language_info": {
   "codemirror_mode": {
    "name": "ipython",
    "version": 3
   },
   "file_extension": ".py",
   "mimetype": "text/x-python",
   "name": "python",
   "nbconvert_exporter": "python",
   "pygments_lexer": "ipython3",
   "version": "3.6.3"
  }
 },
 "nbformat": 4,
 "nbformat_minor": 2
}
