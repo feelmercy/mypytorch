{
 "cells": [
  {
   "cell_type": "code",
   "execution_count": 1,
   "metadata": {
    "ExecuteTime": {
     "end_time": "2020-05-25T08:43:46.571180Z",
     "start_time": "2020-05-25T08:43:45.853139Z"
    },
    "collapsed": true
   },
   "outputs": [],
   "source": [
    "import numpy as np\n",
    "import matplotlib.pyplot as plt\n",
    "import matplotlib as mpl\n",
    "from sklearn.linear_model import RidgeCV, LassoCV\n",
    "from sklearn.model_selection import train_test_split\n",
    "from sklearn.ensemble import BaggingRegressor\n",
    "from sklearn.tree import DecisionTreeRegressor\n",
    "from sklearn.pipeline import Pipeline\n",
    "from sklearn.preprocessing import PolynomialFeatures\n",
    "import pandas as pd"
   ]
  },
  {
   "cell_type": "code",
   "execution_count": 2,
   "metadata": {
    "ExecuteTime": {
     "end_time": "2020-05-25T08:46:27.070360Z",
     "start_time": "2020-05-25T08:46:27.060359Z"
    },
    "collapsed": true
   },
   "outputs": [],
   "source": [
    "def f(x):\n",
    "    return 0.5*np.exp(-(x+3)**2)+np.exp(-x**2)+0.5*np.exp(-(x-3)**2)"
   ]
  },
  {
   "cell_type": "code",
   "execution_count": 4,
   "metadata": {
    "ExecuteTime": {
     "end_time": "2020-05-25T08:47:46.393897Z",
     "start_time": "2020-05-25T08:47:46.383896Z"
    }
   },
   "outputs": [],
   "source": [
    "N=200\n",
    "x=np.random.rand(N)*10-5\n",
    "x=np.sort(x)\n",
    "y=f(x)+0.5*np.random.randn(N)\n",
    "x.shape=-1,1"
   ]
  },
  {
   "cell_type": "code",
   "execution_count": 13,
   "metadata": {
    "ExecuteTime": {
     "end_time": "2020-05-25T09:32:15.432557Z",
     "start_time": "2020-05-25T09:32:15.417556Z"
    }
   },
   "outputs": [],
   "source": [
    "ridge=RidgeCV(alphas=np.logspace(-3,2,10),fit_intercept=False)\n",
    "ridged=Pipeline([\n",
    "    ('Poly',PolynomialFeatures(degree=10)),\n",
    "    ('Ridge',ridge)\n",
    "])\n",
    "bagging_ridege=BaggingRegressor(ridged,n_estimators=100,max_samples=0.3)\n",
    "dtr=DecisionTreeRegressor(max_depth=5)"
   ]
  },
  {
   "cell_type": "code",
   "execution_count": 14,
   "metadata": {
    "ExecuteTime": {
     "end_time": "2020-05-26T01:18:19.700288Z",
     "start_time": "2020-05-26T01:18:19.691287Z"
    },
    "collapsed": true
   },
   "outputs": [],
   "source": [
    "regs=[\n",
    "    ('DTR',dtr),\n",
    "    ('Ridged',ridged),\n",
    "    ('bagging Ridged',bagging_ridege),\n",
    "    ('bagging DTR',BaggingRegressor(dtr,n_estimators=100,max_samples=0.3))\n",
    "]"
   ]
  },
  {
   "cell_type": "code",
   "execution_count": 25,
   "metadata": {
    "ExecuteTime": {
     "end_time": "2020-05-26T01:29:21.632148Z",
     "start_time": "2020-05-26T01:29:21.620147Z"
    }
   },
   "outputs": [
    {
     "data": {
      "text/plain": [
       "(1000,)"
      ]
     },
     "execution_count": 25,
     "metadata": {},
     "output_type": "execute_result"
    }
   ],
   "source": [
    "x_test=np.linspace(1.1*x.min(),1.1*x.max(),1000)\n",
    "y1_test=f(x_test)\n",
    "y1_test.ravel().shape\n",
    "x_test.shape"
   ]
  },
  {
   "cell_type": "code",
   "execution_count": 27,
   "metadata": {
    "ExecuteTime": {
     "end_time": "2020-05-26T01:30:44.192870Z",
     "start_time": "2020-05-26T01:30:43.783847Z"
    }
   },
   "outputs": [
    {
     "data": {
      "text/plain": [
       "(-0.2, 1.2)"
      ]
     },
     "execution_count": 27,
     "metadata": {},
     "output_type": "execute_result"
    }
   ],
   "source": [
    "\n",
    "plt.plot(x,y,'ro',label='train data')\n",
    "plt.plot(x_test,f(x_test),'k',lw=3.5,label='test_data')\n",
    "clrs='bmgy'\n",
    "for i ,(name,reg) in enumerate(regs):\n",
    "    reg.fit(x,y)\n",
    "    y_test=reg.predict(x_test.reshape(-1,1))\n",
    "    plt.plot(x_test,y_test.ravel(),color=clrs[i],lw=i+1,label=name,zorder=6-i)\n",
    "plt.ylim((-0.2, 1.2))\n",
    "# plt.show()"
   ]
  },
  {
   "cell_type": "code",
   "execution_count": 30,
   "metadata": {
    "ExecuteTime": {
     "end_time": "2020-05-26T02:22:42.344218Z",
     "start_time": "2020-05-26T02:22:42.336218Z"
    }
   },
   "outputs": [
    {
     "name": "stdout",
     "output_type": "stream",
     "text": [
      "sn:4132\n"
     ]
    }
   ],
   "source": [
    "print('sn:%d' % 0x1024)"
   ]
  },
  {
   "cell_type": "code",
   "execution_count": null,
   "metadata": {
    "collapsed": true
   },
   "outputs": [],
   "source": [
    "100004132"
   ]
  }
 ],
 "metadata": {
  "kernelspec": {
   "display_name": "Python 3",
   "language": "python",
   "name": "python3"
  },
  "language_info": {
   "codemirror_mode": {
    "name": "ipython",
    "version": 3
   },
   "file_extension": ".py",
   "mimetype": "text/x-python",
   "name": "python",
   "nbconvert_exporter": "python",
   "pygments_lexer": "ipython3",
   "version": "3.6.3"
  }
 },
 "nbformat": 4,
 "nbformat_minor": 2
}
