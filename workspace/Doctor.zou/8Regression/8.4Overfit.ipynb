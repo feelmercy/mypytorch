{
 "cells": [
  {
   "cell_type": "code",
   "execution_count": 7,
   "metadata": {
    "ExecuteTime": {
     "end_time": "2020-05-25T09:26:36.902194Z",
     "start_time": "2020-05-25T09:26:36.887193Z"
    },
    "collapsed": true
   },
   "outputs": [],
   "source": [
    "import numpy as np\n",
    "from sklearn.linear_model import LinearRegression, RidgeCV\n",
    "from sklearn.preprocessing import PolynomialFeatures\n",
    "import matplotlib.pyplot as plt\n",
    "from sklearn.pipeline import Pipeline\n",
    "import matplotlib as mpl"
   ]
  },
  {
   "cell_type": "code",
   "execution_count": 8,
   "metadata": {
    "ExecuteTime": {
     "end_time": "2020-05-25T09:26:41.622464Z",
     "start_time": "2020-05-25T09:26:41.605463Z"
    },
    "collapsed": true
   },
   "outputs": [],
   "source": [
    "N=9\n",
    "x=np.linspace(0,6,N)+np.random.randn(N)\n",
    "x=np.sort(x)\n",
    "y=x**2-4*x-3+np.random.randn(N)\n",
    "x=x.reshape(-1,1)\n",
    "y=y.reshape(-1,1)"
   ]
  },
  {
   "cell_type": "code",
   "execution_count": 9,
   "metadata": {
    "ExecuteTime": {
     "end_time": "2020-05-25T09:26:43.235557Z",
     "start_time": "2020-05-25T09:26:43.221556Z"
    },
    "collapsed": true
   },
   "outputs": [],
   "source": [
    "model_1=Pipeline([\n",
    "    ('poly',PolynomialFeatures()),\n",
    "    ('linear',LinearRegression(fit_intercept=False))\n",
    "])\n",
    "model_2=Pipeline([\n",
    "    ('poly',PolynomialFeatures()),\n",
    "    ('linear',RidgeCV(alphas=np.logspace(-3,2,100),fit_intercept=False))\n",
    "])"
   ]
  },
  {
   "cell_type": "code",
   "execution_count": 10,
   "metadata": {
    "ExecuteTime": {
     "end_time": "2020-05-25T09:26:44.796646Z",
     "start_time": "2020-05-25T09:26:44.789645Z"
    },
    "collapsed": true
   },
   "outputs": [],
   "source": [
    "models=model_1,model_2\n",
    "np.set_printoptions(suppress=True)"
   ]
  },
  {
   "cell_type": "code",
   "execution_count": 11,
   "metadata": {
    "ExecuteTime": {
     "end_time": "2020-05-25T09:26:46.266730Z",
     "start_time": "2020-05-25T09:26:46.254729Z"
    }
   },
   "outputs": [
    {
     "data": {
      "text/plain": [
       "tuple"
      ]
     },
     "execution_count": 11,
     "metadata": {},
     "output_type": "execute_result"
    }
   ],
   "source": [
    "titles=u'Linear Regression',u'Ridge Regression'\n",
    "type(titles)"
   ]
  },
  {
   "cell_type": "code",
   "execution_count": 12,
   "metadata": {
    "ExecuteTime": {
     "end_time": "2020-05-25T09:26:47.618807Z",
     "start_time": "2020-05-25T09:26:47.597806Z"
    },
    "collapsed": true
   },
   "outputs": [],
   "source": [
    "d_pool=np.arange(1,N,1)\n",
    "m=d_pool.size\n",
    "cls=[]\n",
    "for c in np.linspace(16711680,255,m):\n",
    "    cls.append('#%06x' % int(c))\n",
    "line_width=np.linspace(5,2,m)"
   ]
  },
  {
   "cell_type": "code",
   "execution_count": 15,
   "metadata": {
    "ExecuteTime": {
     "end_time": "2020-05-25T09:27:19.878652Z",
     "start_time": "2020-05-25T09:27:19.710643Z"
    }
   },
   "outputs": [
    {
     "data": {
      "text/plain": [
       "LinearRegression(copy_X=True, fit_intercept=False, n_jobs=1, normalize=False)"
      ]
     },
     "execution_count": 15,
     "metadata": {},
     "output_type": "execute_result"
    }
   ],
   "source": [
    "#####################\n",
    "model1=model_1\n",
    "model1.set_params(poly__degree=10)\n",
    "model1.fit(x,y)\n",
    "model1.get_params()['linear']\n",
    "\n",
    "###################"
   ]
  },
  {
   "cell_type": "code",
   "execution_count": 19,
   "metadata": {
    "ExecuteTime": {
     "end_time": "2020-05-18T02:14:52.756458Z",
     "start_time": "2020-05-18T02:14:52.506444Z"
    }
   },
   "outputs": [
    {
     "name": "stdout",
     "output_type": "stream",
     "text": [
      "D : 1 , coef: [-2.87102054  0.18442221]\n",
      "score:0.010\n",
      "D : 2 , coef: [-2.56707412 -3.90585723  0.92984661]\n",
      "score:0.924\n",
      "D : 3 , coef: [-2.20070581 -3.47955499  0.50474114  0.0638508 ]\n",
      "score:0.930\n",
      "D : 4 , coef: [-1.8952882  -3.34442661  0.06128445  0.23766721 -0.01831847]\n",
      "score:0.931\n",
      "D : 5 , coef: [-2.49358242 -2.6080025   1.35583724 -1.14988539  0.3688929  -0.03308626]\n",
      "score:0.944\n",
      "D : 6 , coef: [-3.96586822 -9.29629431  3.79291177  6.26128158 -5.06873433  1.22962232\n",
      " -0.09573627]\n",
      "score:0.974\n",
      "D : 7 , coef: [ -6.34493031 -16.62070236  13.38554101  13.34270818 -18.1822699\n",
      "   7.34285403  -1.25432423   0.07806216]\n",
      "score:0.999\n",
      "D : 8 , coef: [ -5.38765201 -10.88833783  16.14598586   2.79116967 -18.86677946\n",
      "  14.40283751  -4.88105661   0.77908847  -0.04732144]\n",
      "score:1.000\n",
      "D : 1,alpha: 100.000 , coef: [-0.18209658 -0.1842524 ]\n",
      "score:-0.307\n",
      "D : 2,alpha: 0.266 , coef: [-2.49478979 -3.77224429  0.8983447 ]\n",
      "score:0.923\n",
      "D : 3,alpha: 0.001 , coef: [-2.19925987 -3.4776832   0.50322532  0.06406237]\n",
      "score:0.930\n",
      "D : 4,alpha: 0.335 , coef: [-1.38433015 -2.84217848 -0.58517002  0.41438523 -0.03262432]\n",
      "score:0.927\n",
      "D : 5,alpha: 2.154 , coef: [-0.83469968 -1.16490089 -0.59153433 -0.66281591  0.34988774 -0.03595843]\n",
      "score:0.908\n",
      "D : 6,alpha: 0.850 , coef: [-1.17993115 -1.61375047 -0.3320324  -0.66611838  0.3700351  -0.04767233\n",
      "  0.00130436]\n",
      "score:0.925\n",
      "D : 7,alpha: 2.154 , coef: [-0.74090351 -1.07318327 -0.47063396 -0.72830567  0.000799    0.23266582\n",
      " -0.0645604   0.00500451]\n",
      "score:0.905\n",
      "D : 8,alpha: 0.074 , coef: [-2.28666715 -3.29763081  1.23947954 -0.7395526  -0.51529337  1.25195596\n",
      " -0.68484735  0.14508329 -0.01057818]\n",
      "score:0.957\n"
     ]
    }
   ],
   "source": [
    "plt.figure(figsize=(9,11),facecolor='w')\n",
    "for t in range(2):\n",
    "    model=models[t]\n",
    "    plt.subplot(2,1,t+1)\n",
    "    plt.plot(x,y,'ro',ms=6,zorder=N)\n",
    "    for i,d in enumerate(d_pool):\n",
    "        model.set_params(poly__degree=d)\n",
    "        model.fit(x,y)\n",
    "        lin=model.get_params()['linear']\n",
    "        if t==0:\n",
    "            print('D : %d , coef:' % d, lin.coef_.ravel())\n",
    "        else:\n",
    "            print('D : %d,alpha: %.3f , coef:' % (d,lin.alpha_), lin.coef_.ravel())\n",
    "        x_hat=np.linspace(x.min(),x.max(),num=100)\n",
    "        x_hat=x_hat.reshape(-1,1)\n",
    "        y_hat=model.predict(x_hat)\n",
    "        s=model.score(x,y)\n",
    "        print('score:%.3f' % s)\n",
    "        zorder=N-1 if d==2 else 0\n",
    "        plt.plot(x_hat,y_hat,color=cls[i],lw=line_width[i],\n",
    "                 label=('D :%d,score : %.3f' % (d,s)),zorder=zorder)\n",
    "    plt.legend(loc='upper left')\n",
    "plt.tight_layout(1,rect=(0,0,1,0.95))\n",
    "# plt.show()"
   ]
  },
  {
   "cell_type": "code",
   "execution_count": null,
   "metadata": {
    "collapsed": true
   },
   "outputs": [],
   "source": []
  }
 ],
 "metadata": {
  "kernelspec": {
   "display_name": "Python 3",
   "language": "python",
   "name": "python3"
  },
  "language_info": {
   "codemirror_mode": {
    "name": "ipython",
    "version": 3
   },
   "file_extension": ".py",
   "mimetype": "text/x-python",
   "name": "python",
   "nbconvert_exporter": "python",
   "pygments_lexer": "ipython3",
   "version": "3.6.3"
  }
 },
 "nbformat": 4,
 "nbformat_minor": 2
}
