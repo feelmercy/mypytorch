{
 "cells": [
  {
   "cell_type": "code",
   "execution_count": 1,
   "metadata": {
    "ExecuteTime": {
     "end_time": "2020-04-24T08:15:28.635983Z",
     "start_time": "2020-04-24T08:15:28.371968Z"
    },
    "collapsed": true
   },
   "outputs": [],
   "source": [
    "import numpy as np\n",
    "import matplotlib as mpl\n",
    "import matplotlib.pyplot as plt"
   ]
  },
  {
   "cell_type": "code",
   "execution_count": 3,
   "metadata": {
    "ExecuteTime": {
     "end_time": "2020-04-24T08:33:49.779965Z",
     "start_time": "2020-04-24T08:33:49.749964Z"
    }
   },
   "outputs": [],
   "source": [
    "#delimiter=None, converters=None, skiprows=0, usecols=None, unpack=False\n",
    "stock_max, stock_min, stock_close, stock_amount = np.loadtxt(\n",
    "    r'F:\\study\\ml\\DoctorZou\\06PythonPackage\\6.Package\\6.SH600000.txt',\n",
    "    delimiter='\\t',\n",
    "    skiprows=2,\n",
    "    usecols=(2, 3, 4, 5),\n",
    "    unpack=True)"
   ]
  },
  {
   "cell_type": "code",
   "execution_count": 4,
   "metadata": {
    "ExecuteTime": {
     "end_time": "2020-04-24T08:34:10.262137Z",
     "start_time": "2020-04-24T08:34:10.255136Z"
    },
    "collapsed": true
   },
   "outputs": [],
   "source": [
    "N=100\n",
    "stock_close=stock_close[:N]"
   ]
  },
  {
   "cell_type": "code",
   "execution_count": 6,
   "metadata": {
    "ExecuteTime": {
     "end_time": "2020-04-24T08:35:40.288286Z",
     "start_time": "2020-04-24T08:35:40.273285Z"
    }
   },
   "outputs": [
    {
     "name": "stdout",
     "output_type": "stream",
     "text": [
      "[ 0.2  0.2  0.2  0.2  0.2]\n"
     ]
    }
   ],
   "source": [
    "n=5\n",
    "weight=np.ones(n)\n",
    "weight/=weight.sum()\n",
    "print(weight)\n",
    "stock_sma=np.convolve(stock_close,weight,mode='valid')"
   ]
  },
  {
   "cell_type": "code",
   "execution_count": 7,
   "metadata": {
    "ExecuteTime": {
     "end_time": "2020-04-24T08:37:34.480817Z",
     "start_time": "2020-04-24T08:37:34.473817Z"
    },
    "collapsed": true
   },
   "outputs": [],
   "source": [
    "weight=np.linspace(1,0,n)\n",
    "weight=np.exp(weight)\n",
    "weight/=weight.sum()\n",
    "stock_ema=np.convolve(stock_close,weight,mode='valid')\n"
   ]
  },
  {
   "cell_type": "code",
   "execution_count": 8,
   "metadata": {
    "ExecuteTime": {
     "end_time": "2020-04-24T08:38:41.412646Z",
     "start_time": "2020-04-24T08:38:41.202634Z"
    },
    "collapsed": true
   },
   "outputs": [],
   "source": [
    "t=np.arange(n-1,N)\n",
    "poly=np.polyfit(t,stock_ema,10)\n",
    "stock_ema_hat=np.polyval(poly,t)"
   ]
  },
  {
   "cell_type": "code",
   "execution_count": 10,
   "metadata": {
    "ExecuteTime": {
     "end_time": "2020-04-24T08:38:59.096657Z",
     "start_time": "2020-04-24T08:38:58.966650Z"
    }
   },
   "outputs": [
    {
     "data": {
      "image/png": "[encoded data removed]",
      "text/plain": [
       "<matplotlib.figure.Figure at 0x97ec0b8>"
      ]
     },
     "metadata": {},
     "output_type": "display_data"
    }
   ],
   "source": [
    "t = np.arange(n-1, N)\n",
    "plt.plot(t, stock_sma, 'b-', linewidth=2, label=u'简单移动平均线')\n",
    "plt.plot(t, stock_ema, 'g-', linewidth=2, label=u'指数移动平均线')\n",
    "plt.legend(loc='upper right')\n",
    "plt.grid(True)\n",
    "plt.show()"
   ]
  },
  {
   "cell_type": "code",
   "execution_count": null,
   "metadata": {
    "collapsed": true
   },
   "outputs": [],
   "source": []
  }
 ],
 "metadata": {
  "kernelspec": {
   "display_name": "Python 3",
   "language": "python",
   "name": "python3"
  },
  "language_info": {
   "codemirror_mode": {
    "name": "ipython",
    "version": 3
   },
   "file_extension": ".py",
   "mimetype": "text/x-python",
   "name": "python",
   "nbconvert_exporter": "python",
   "pygments_lexer": "ipython3",
   "version": "3.6.3"
  }
 },
 "nbformat": 4,
 "nbformat_minor": 2
}
