{
 "cells": [
  {
   "cell_type": "code",
   "execution_count": null,
   "metadata": {
    "ExecuteTime": {
     "end_time": "2020-05-14T01:08:36.941283Z",
     "start_time": "2020-05-14T01:08:33.809104Z"
    }
   },
   "outputs": [],
   "source": [
    "import numpy as np\n",
    "import matplotlib as mpl\n",
    "# mpl.use('Agg')\n",
    "import matplotlib.pyplot as plt\n",
    "%matplotlib auto"
   ]
  },
  {
   "cell_type": "code",
   "execution_count": 2,
   "metadata": {
    "ExecuteTime": {
     "end_time": "2020-05-14T01:08:37.846335Z",
     "start_time": "2020-05-14T01:08:37.790331Z"
    },
    "collapsed": true
   },
   "outputs": [],
   "source": [
    "stock_max, stock_min, stock_close, stock_amount = np.loadtxt(\n",
    "    r'F:\\study\\ml\\DoctorZou\\06PythonPackage\\6.Package\\6.SH600000.txt',\n",
    "    delimiter='\\t',\n",
    "    skiprows=2,\n",
    "    usecols=(2, 3, 4, 5),unpack=True)"
   ]
  },
  {
   "cell_type": "code",
   "execution_count": 3,
   "metadata": {
    "ExecuteTime": {
     "end_time": "2020-05-14T01:08:38.591377Z",
     "start_time": "2020-05-14T01:08:38.586377Z"
    }
   },
   "outputs": [
    {
     "data": {
      "text/plain": [
       "array([ 10.29,  10.12,   9.97,   9.83])"
      ]
     },
     "execution_count": 3,
     "metadata": {},
     "output_type": "execute_result"
    }
   ],
   "source": [
    "stock_max[1:5]"
   ]
  },
  {
   "cell_type": "code",
   "execution_count": 4,
   "metadata": {
    "ExecuteTime": {
     "end_time": "2020-05-14T01:08:39.495429Z",
     "start_time": "2020-05-14T01:08:39.490429Z"
    }
   },
   "outputs": [
    {
     "data": {
      "text/plain": [
       "array([ 10.06,  10.15,   9.91,   9.63,   9.76,   9.76,   9.83,   9.25,\n",
       "         9.34,   9.38,   9.5 ,   9.56,   9.23,   9.63,   9.89,   9.63,\n",
       "         9.76,   9.27,   9.18,   9.13,   8.89,   8.91,   9.29,   9.15,\n",
       "         9.01,   8.89,   9.01,   9.17,   9.14,   9.24,   9.17,   9.05,\n",
       "         9.15,   9.79,  10.12,   9.97,   9.76,  10.06,  10.34,  10.36,\n",
       "        10.42,  10.66,  10.54,  10.56,  10.31,  10.69,  11.12,  11.  ,\n",
       "        11.04,  11.08,  11.12,  11.  ,  10.88,  11.1 ,  10.79,  11.15,\n",
       "        11.06,  10.99,  10.57,   9.69,   9.68,   9.86,   9.47,   9.59,\n",
       "         9.63,   9.42,   9.47,   9.7 ,   9.47,   9.54,   8.79,   8.5 ,\n",
       "         8.75,   8.62,   8.88,   9.18,   9.  ,   8.56,   8.97,   8.92,\n",
       "         8.71,   8.9 ,   9.2 ,   8.85,   8.83,   8.95,   8.84,   8.49,\n",
       "         8.42,   8.41,   8.29,   8.27,   7.96,   7.82,   8.47,   8.15,\n",
       "         8.24,   8.26,   8.3 ,   8.75])"
      ]
     },
     "execution_count": 4,
     "metadata": {},
     "output_type": "execute_result"
    }
   ],
   "source": [
    "N=100\n",
    "stock_close=stock_close[:N]\n",
    "stock_close"
   ]
  },
  {
   "cell_type": "code",
   "execution_count": 5,
   "metadata": {
    "ExecuteTime": {
     "end_time": "2020-05-14T01:08:40.288474Z",
     "start_time": "2020-05-14T01:08:40.283474Z"
    },
    "collapsed": true
   },
   "outputs": [],
   "source": [
    "n = 5\n",
    "weight = np.ones(n)\n",
    "weight /= weight.sum()\n",
    "stock_sma = np.convolve(stock_close, weight, mode='valid')"
   ]
  },
  {
   "cell_type": "code",
   "execution_count": 6,
   "metadata": {
    "ExecuteTime": {
     "end_time": "2020-05-14T01:08:41.255530Z",
     "start_time": "2020-05-14T01:08:41.233528Z"
    }
   },
   "outputs": [
    {
     "data": {
      "text/plain": [
       "array([  9.84814617,   9.80200147,   9.77977143,   9.60396336,\n",
       "         9.51981626,   9.45513635,   9.44196623,   9.44409305,\n",
       "         9.39495938,   9.47270879,   9.6103129 ,   9.62621464,\n",
       "         9.67357241,   9.58785542,   9.45766787,   9.31768267,\n",
       "         9.15735073,   9.02713757,   9.08705899,   9.09831681,\n",
       "         9.06812246,   9.02872191,   9.03346292,   9.05300608,\n",
       "         9.07136084,   9.12909293,   9.16301193,   9.14156669,\n",
       "         9.14165567,   9.34280375,   9.59288301,   9.74735922,\n",
       "         9.81321954,   9.94863592,  10.08405789,  10.16641354,\n",
       "        10.26247692,  10.43034923,  10.49723883,  10.53066257,\n",
       "        10.47741104,  10.54841771,  10.71570975,  10.81945301,\n",
       "        10.91087277,  11.01667714,  11.07772587,  11.04987424,\n",
       "        11.00163945,  11.0287261 ,  10.95016146,  10.99703027,\n",
       "        11.01628849,  11.02024401,  10.87357431,  10.51406352,\n",
       "        10.19899982,  10.01742597,   9.76132513,   9.63638181,\n",
       "         9.62964079,   9.56017449,   9.50558707,   9.5690203 ,\n",
       "         9.53645835,   9.52924771,   9.30976834,   9.04449011,\n",
       "         8.89496747,   8.75864551,   8.72686598,   8.86173976,\n",
       "         8.93673422,   8.83652457,   8.89713721,   8.90574735,\n",
       "         8.82070148,   8.82935997,   8.96819184,   8.93138916,\n",
       "         8.90096791,   8.93313124,   8.90720131,   8.75185253,\n",
       "         8.64025321,   8.55201581,   8.43543507,   8.34821197,\n",
       "         8.21526371,   8.07453801,   8.16734326,   8.15107175,\n",
       "         8.16807793,   8.21505786,   8.27648193,   8.40609414])"
      ]
     },
     "execution_count": 6,
     "metadata": {},
     "output_type": "execute_result"
    }
   ],
   "source": [
    "weight=np.linspace(1,0,n)\n",
    "weight=np.exp(weight)\n",
    "weight/=weight.sum()\n",
    "weight\n",
    "stock_ema=np.convolve(stock_close,weight,mode='valid')\n",
    "stock_ema"
   ]
  },
  {
   "cell_type": "code",
   "execution_count": 7,
   "metadata": {
    "ExecuteTime": {
     "end_time": "2020-05-14T01:08:42.251587Z",
     "start_time": "2020-05-14T01:08:41.990572Z"
    }
   },
   "outputs": [
    {
     "name": "stdout",
     "output_type": "stream",
     "text": [
      "[ -1.54828672e-16   7.72911232e-14  -1.50730384e-11   1.39225179e-09\n",
      "  -4.94312198e-08  -1.41407546e-06   1.89122124e-04  -6.62482665e-03\n",
      "   1.05773566e-01  -7.91122537e-01   1.17765096e+01]\n"
     ]
    },
    {
     "data": {
      "text/plain": [
       "array([  9.92719422,   9.75024573,   9.63882554,   9.5748041 ,\n",
       "         9.54315305,   9.53166735,   9.53068758,   9.53282544,\n",
       "         9.53269545,   9.52665515,   9.51255591,   9.48950612,\n",
       "         9.45764823,   9.41795064,   9.37201553,   9.32190303,\n",
       "         9.26997229,   9.21873953,   9.17075314,   9.12848551,\n",
       "         9.09424143,   9.07008233,   9.05776598,   9.05870076,\n",
       "         9.07391368,   9.10403135,   9.14927279,   9.20945316,\n",
       "         9.2839972 ,   9.37196145,   9.4720639 ,   9.58272019,\n",
       "         9.70208496,   9.82809749,   9.95853027,  10.09103967,\n",
       "        10.22321747,  10.35264243,  10.47693084,  10.59378525,\n",
       "        10.70104051,  10.7967064 ,  10.87900624,  10.94641077,\n",
       "        10.99766685,  11.03182068,  11.04823488,  11.04659964,\n",
       "        11.0269373 ,  10.98960073,  10.93526523,  10.86491423,\n",
       "        10.77981894,  10.68151233,  10.57175769,  10.45251239,\n",
       "        10.32588731,  10.19410259,  10.05944045,   9.92419577,\n",
       "         9.79062537,   9.66089685,   9.53703786,   9.42088694,\n",
       "         9.31404686,   9.21784154,   9.13327763,   9.06101185,\n",
       "         9.00132515,   8.9541048 ,   8.91883546,   8.89460023,\n",
       "         8.88009268,   8.87364078,   8.87324359,   8.87662146,\n",
       "         8.8812804 ,   8.88459121,   8.88388378,   8.8765568 ,\n",
       "         8.86020302,   8.8327501 ,   8.79261657,   8.73888265,\n",
       "         8.67147506,   8.591365  ,   8.5007779 ,   8.40341354,\n",
       "         8.30467468,   8.21190196,   8.13461253,   8.08473959,\n",
       "         8.0768694 ,   8.12847201,   8.2601216 ,   8.49570161])"
      ]
     },
     "execution_count": 7,
     "metadata": {},
     "output_type": "execute_result"
    }
   ],
   "source": [
    "t=np.arange(n-1,N)\n",
    "poly=np.polyfit(t,stock_ema,10)\n",
    "print(poly)\n",
    "stock_ema_hat=np.polyval(poly,t)\n",
    "stock_ema_hat"
   ]
  },
  {
   "cell_type": "code",
   "execution_count": 16,
   "metadata": {
    "ExecuteTime": {
     "end_time": "2020-05-14T01:40:57.538279Z",
     "start_time": "2020-05-14T01:40:57.534278Z"
    }
   },
   "outputs": [
    {
     "data": {
      "text/plain": [
       "array([ 8.8625896])"
      ]
     },
     "execution_count": 16,
     "metadata": {},
     "output_type": "execute_result"
    }
   ],
   "source": [
    "np.polyval(poly,[100])"
   ]
  },
  {
   "cell_type": "code",
   "execution_count": 14,
   "metadata": {
    "ExecuteTime": {
     "end_time": "2020-05-14T01:36:58.985634Z",
     "start_time": "2020-05-14T01:36:58.976634Z"
    }
   },
   "outputs": [
    {
     "data": {
      "text/plain": [
       "array([ 10.06,  10.15,   9.91,   9.63,   9.76,   9.76,   9.83,   9.25,\n",
       "         9.34,   9.38,   9.5 ,   9.56,   9.23,   9.63,   9.89,   9.63,\n",
       "         9.76,   9.27,   9.18,   9.13,   8.89,   8.91,   9.29,   9.15,\n",
       "         9.01,   8.89,   9.01,   9.17,   9.14,   9.24,   9.17,   9.05,\n",
       "         9.15,   9.79,  10.12,   9.97,   9.76,  10.06,  10.34,  10.36,\n",
       "        10.42,  10.66,  10.54,  10.56,  10.31,  10.69,  11.12,  11.  ,\n",
       "        11.04,  11.08,  11.12,  11.  ,  10.88,  11.1 ,  10.79,  11.15,\n",
       "        11.06,  10.99,  10.57,   9.69,   9.68,   9.86,   9.47,   9.59,\n",
       "         9.63,   9.42,   9.47,   9.7 ,   9.47,   9.54,   8.79,   8.5 ,\n",
       "         8.75,   8.62,   8.88,   9.18,   9.  ,   8.56,   8.97,   8.92,\n",
       "         8.71,   8.9 ,   9.2 ,   8.85,   8.83,   8.95,   8.84,   8.49,\n",
       "         8.42,   8.41,   8.29,   8.27,   7.96,   7.82,   8.47,   8.15,\n",
       "         8.24,   8.26,   8.3 ,   8.75])"
      ]
     },
     "execution_count": 14,
     "metadata": {},
     "output_type": "execute_result"
    }
   ],
   "source": [
    "stock_close"
   ]
  },
  {
   "cell_type": "code",
   "execution_count": null,
   "metadata": {
    "collapsed": true
   },
   "outputs": [],
   "source": []
  },
  {
   "cell_type": "code",
   "execution_count": 17,
   "metadata": {
    "ExecuteTime": {
     "end_time": "2020-05-14T01:41:23.412759Z",
     "start_time": "2020-05-14T01:41:23.341755Z"
    }
   },
   "outputs": [],
   "source": [
    "plt.plot(np.arange(N),stock_close,'ro-',lw=2,label=u'original price')\n",
    "t=np.arange(n-1,N)\n",
    "plt.plot(t,stock_sma,'b-',lw=2,label='simple average price')\n",
    "plt.plot(t,stock_ema,'g-',lw=2,label='exponential average price')\n",
    "plt.ioff()\n",
    "# plt.show()\n",
    "# plt.imshow()\n",
    "plt.show()\n"
   ]
  },
  {
   "cell_type": "code",
   "execution_count": 22,
   "metadata": {
    "ExecuteTime": {
     "end_time": "2020-05-14T01:42:02.836013Z",
     "start_time": "2020-05-14T01:42:02.771010Z"
    }
   },
   "outputs": [],
   "source": [
    "plt.plot(np.arange(N), stock_close, 'ro-', linewidth=1, label=u'原始收盘价')\n",
    "# plt.plot(t, stock_ema, 'g-', linewidth=2, label=u'指数移动平均线')\n",
    "plt.plot(t, stock_ema_hat, 'm-', linewidth=3, label=u'指数移动平均线估计')\n",
    "plt.show()"
   ]
  },
  {
   "cell_type": "code",
   "execution_count": null,
   "metadata": {
    "collapsed": true
   },
   "outputs": [],
   "source": []
  }
 ],
 "metadata": {
  "kernelspec": {
   "display_name": "Python 3",
   "language": "python",
   "name": "python3"
  },
  "language_info": {
   "codemirror_mode": {
    "name": "ipython",
    "version": 3
   },
   "file_extension": ".py",
   "mimetype": "text/x-python",
   "name": "python",
   "nbconvert_exporter": "python",
   "pygments_lexer": "ipython3",
   "version": "3.6.3"
  }
 },
 "nbformat": 4,
 "nbformat_minor": 2
}
