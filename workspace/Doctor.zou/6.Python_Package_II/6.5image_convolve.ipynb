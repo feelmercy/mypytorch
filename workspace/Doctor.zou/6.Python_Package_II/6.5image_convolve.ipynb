{
 "cells": [
  {
   "cell_type": "code",
   "execution_count": 1,
   "metadata": {
    "ExecuteTime": {
     "end_time": "2020-04-23T02:55:41.319734Z",
     "start_time": "2020-04-23T02:55:40.459685Z"
    },
    "collapsed": true
   },
   "outputs": [],
   "source": [
    "import numpy as np\n",
    "import os\n",
    "from PIL import Image"
   ]
  },
  {
   "cell_type": "code",
   "execution_count": 7,
   "metadata": {
    "ExecuteTime": {
     "end_time": "2020-04-23T03:14:43.969090Z",
     "start_time": "2020-04-23T03:14:43.941089Z"
    },
    "collapsed": true
   },
   "outputs": [],
   "source": [
    "def convolve(image,weight):\n",
    "    height,width=image.shape\n",
    "    h,w=weight.shape\n",
    "    height_new=height-h+1\n",
    "    width_new=width-w+1\n",
    "    image_new=np.zeros((height_new,width_new),dtype=np.float)\n",
    "    for i in range(height_new):\n",
    "        for j in range(width_new):\n",
    "            image_new[i,j]=np.sum(image[i:i+h,j:j+w]*weight)\n",
    "    image_new=image_new.clip(0,255)\n",
    "    image_new=np.rint(image_new).astype('uint8')\n",
    "    return image_new"
   ]
  },
  {
   "cell_type": "code",
   "execution_count": 11,
   "metadata": {
    "ExecuteTime": {
     "end_time": "2020-04-23T03:18:03.995531Z",
     "start_time": "2020-04-23T03:17:56.987130Z"
    }
   },
   "outputs": [
    {
     "name": "stdout",
     "output_type": "stream",
     "text": [
      "weight R : soble_x\n",
      "weight G : soble_x\n",
      "weight B : soble_x\n",
      "weight R : soble_y\n",
      "weight G : soble_y\n",
      "weight B : soble_y\n",
      "weight R : soble\n",
      "weight G : soble\n",
      "weight B : soble\n",
      "weight R : prewitt_x\n",
      "weight G : prewitt_x\n",
      "weight B : prewitt_x\n",
      "weight R : prewitt_y\n",
      "weight G : prewitt_y\n",
      "weight B : prewitt_y\n",
      "weight R : prewitt\n",
      "weight G : prewitt\n",
      "weight B : prewitt\n",
      "weight R : laplacian\n",
      "weight G : laplacian\n",
      "weight B : laplacian\n",
      "weight R : laplacian2\n",
      "weight G : laplacian2\n",
      "weight B : laplacian2\n"
     ]
    }
   ],
   "source": [
    "A = Image.open(r'F:\\study\\ml\\DoctorZou\\06PythonPackage\\6.Package\\6.son.png')\n",
    "out_path = r'F:\\study\\ml\\DoctorZou\\06PythonPackage\\6.Package\\Pic2'\n",
    "if not os.path.exists(out_path):\n",
    "    os.mkdir(out_path)\n",
    "a = np.array(A)\n",
    "soble_x = np.array(([-1, 0, 1], [-2, 0, 2], [-1, 0, 1]))\n",
    "soble_y = np.array(([-1, -2, -1], [0, 0, 0], [1, 2, 1]))\n",
    "soble = np.array(([-1, -1, 0], [-1, 0, 1], [0, 1, 1]))\n",
    "prewitt_x = np.array(([-1, 0, 1], [-1, 0, 1], [-1, 0, 1]))\n",
    "prewitt_y = np.array(([-1, -1, -1], [0, 0, 0], [1, 1, 1]))\n",
    "prewitt = np.array(([-2, -1, 0], [-1, 0, 1], [0, 1, 2]))\n",
    "laplacian = np.array(([0, -1, 0], [-1, 4, -1], [0, -1, 0]))\n",
    "laplacian2 = np.array(([-1, -1, -1], [-1, 8, -1], [-1, -1, -1]))\n",
    "weight_list = ('soble_x', 'soble_y', 'soble', 'prewitt_x', 'prewitt_y',\n",
    "               'prewitt', 'laplacian', 'laplacian2')\n",
    "for weight in weight_list:\n",
    "    print('weight R :',weight)\n",
    "    R=convolve(a[:,:,0],eval(weight))\n",
    "    print('weight G :',weight)\n",
    "    G=convolve(a[:,:,1],eval(weight))\n",
    "    print('weight B :',weight)\n",
    "    B=convolve(a[:,:,2],eval(weight))\n",
    "    I=255-np.stack((R,G,B),2)\n",
    "    Image.fromarray(I).save(out_path+r'\\\\'+weight+'.png')"
   ]
  },
  {
   "cell_type": "code",
   "execution_count": null,
   "metadata": {
    "collapsed": true
   },
   "outputs": [],
   "source": []
  }
 ],
 "metadata": {
  "kernelspec": {
   "display_name": "Python 3",
   "language": "python",
   "name": "python3"
  },
  "language_info": {
   "codemirror_mode": {
    "name": "ipython",
    "version": 3
   },
   "file_extension": ".py",
   "mimetype": "text/x-python",
   "name": "python",
   "nbconvert_exporter": "python",
   "pygments_lexer": "ipython3",
   "version": "3.6.3"
  }
 },
 "nbformat": 4,
 "nbformat_minor": 2
}
