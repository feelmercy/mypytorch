{
 "cells": [
  {
   "cell_type": "code",
   "execution_count": 1,
   "metadata": {
    "ExecuteTime": {
     "end_time": "2020-04-22T06:34:58.154465Z",
     "start_time": "2020-04-22T06:34:55.996341Z"
    },
    "collapsed": true
   },
   "outputs": [],
   "source": [
    "import numpy as np\n",
    "import matplotlib as mpl\n",
    "import matplotlib.pyplot as plt"
   ]
  },
  {
   "cell_type": "code",
   "execution_count": 2,
   "metadata": {
    "ExecuteTime": {
     "end_time": "2020-04-22T06:36:55.984204Z",
     "start_time": "2020-04-22T06:36:55.968203Z"
    },
    "collapsed": true
   },
   "outputs": [],
   "source": [
    "def triangle_wave(size,T):\n",
    "    t=np.linspace(-1,1,size,endpoint=False)\n",
    "    y=np.abs(t)\n",
    "    y=np.tile(y,T)-0.5\n",
    "    x=np.linspace(0,2*np.pi*T,size*T,endpoint=False)\n",
    "    return x,y"
   ]
  },
  {
   "cell_type": "code",
   "execution_count": 14,
   "metadata": {
    "ExecuteTime": {
     "end_time": "2020-04-22T07:10:24.853105Z",
     "start_time": "2020-04-22T07:10:24.841104Z"
    },
    "collapsed": true
   },
   "outputs": [],
   "source": [
    "def swatooth_wave(size,T):\n",
    "    t=np.linspace(-1,1,size)\n",
    "    y=np.tile(t,T)\n",
    "    x=np.linspace(0,2*np.pi*T,size*T,endpoint=False)\n",
    "    return x,y"
   ]
  },
  {
   "cell_type": "code",
   "execution_count": 15,
   "metadata": {
    "ExecuteTime": {
     "end_time": "2020-04-22T07:10:50.286560Z",
     "start_time": "2020-04-22T07:10:50.273559Z"
    },
    "collapsed": true
   },
   "outputs": [],
   "source": [
    "def triangle_wave2(size,T):\n",
    "    x,y=swatooth_wave(size,T)\n",
    "    return x,np.abs(y)"
   ]
  },
  {
   "cell_type": "code",
   "execution_count": 16,
   "metadata": {
    "ExecuteTime": {
     "end_time": "2020-04-22T07:11:59.970546Z",
     "start_time": "2020-04-22T07:11:59.957545Z"
    },
    "collapsed": true
   },
   "outputs": [],
   "source": [
    "def non_zero(f):\n",
    "    f1=np.real(f)\n",
    "    f2=np.imag(f)\n",
    "    return f1[(f1 > eps) | (f1 < -eps)],f2[(f2>eps) | (f2 < -eps)]"
   ]
  },
  {
   "cell_type": "code",
   "execution_count": 17,
   "metadata": {
    "ExecuteTime": {
     "end_time": "2020-04-22T07:15:03.989071Z",
     "start_time": "2020-04-22T07:15:03.976070Z"
    }
   },
   "outputs": [
    {
     "name": "stdout",
     "output_type": "stream",
     "text": [
      "time sample: [ 0.          0.39269908  0.78539816  1.17809725  1.57079633  1.96349541\n",
      "  2.35619449  2.74889357  3.14159265  3.53429174  3.92699082  4.3196899\n",
      "  4.71238898  5.10508806  5.49778714  5.89048623]\n"
     ]
    }
   ],
   "source": [
    "x=np.linspace(0,2*np.pi,16,endpoint=False)\n",
    "print('time sample:',x)\n",
    "y=np.sin(2*x)+np.sin(3*x+np.pi/4)"
   ]
  },
  {
   "cell_type": "code",
   "execution_count": 21,
   "metadata": {
    "ExecuteTime": {
     "end_time": "2020-04-22T07:42:40.430814Z",
     "start_time": "2020-04-22T07:42:40.402812Z"
    }
   },
   "outputs": [
    {
     "data": {
      "text/plain": [
       "[<matplotlib.lines.Line2D at 0x8e7b400>]"
      ]
     },
     "execution_count": 21,
     "metadata": {},
     "output_type": "execute_result"
    }
   ],
   "source": [
    "plt.plot(x,y,'go-',lw=2)\n",
    "# plt.show()"
   ]
  },
  {
   "cell_type": "code",
   "execution_count": 25,
   "metadata": {
    "ExecuteTime": {
     "end_time": "2020-04-22T07:47:03.091837Z",
     "start_time": "2020-04-22T07:47:03.068836Z"
    }
   },
   "outputs": [
    {
     "name": "stdout",
     "output_type": "stream",
     "text": [
      "sample qua:  16\n",
      "original signal qua : [ 0.70710678  1.63098631  1.         -0.21677275 -0.70710678 -0.32442335\n",
      "  0.         -0.32442335 -0.70710678 -0.21677275  1.          1.63098631\n",
      "  0.70710678 -1.08979021 -2.         -1.08979021]\n",
      "frequency signal:  [ -3.67761377e-16 +0.00000000e+00j  -9.71445147e-17 +1.38777878e-17j\n",
      "  -6.57764624e-16 -5.00000000e-01j   3.53553391e-01 -3.53553391e-01j\n",
      "   6.24500451e-17 -9.71445147e-17j  -8.32667268e-17 +2.77555756e-17j\n",
      "   5.50859672e-18 -4.44089210e-16j   4.85722573e-16 -2.08166817e-16j\n",
      "   4.37150316e-16 +0.00000000e+00j   1.80411242e-16 +1.80411242e-16j\n",
      "   8.36919109e-18 +2.22044605e-16j   1.38777878e-16 +1.94289029e-16j\n",
      "   6.24500451e-17 +9.71445147e-17j   3.53553391e-01 +3.53553391e-01j\n",
      "   1.72042050e-16 +5.00000000e-01j  -1.24900090e-16 +2.91433544e-16j]\n",
      "frequency power:  [  3.67761377e-16   9.81307787e-17   5.00000000e-01   5.00000000e-01\n",
      "   1.15486211e-16   8.77708367e-17   4.44123374e-16   5.28450416e-16\n",
      "   4.37150316e-16   2.55140025e-16   2.22202273e-16   2.38762489e-16\n",
      "   1.15486211e-16   5.00000000e-01   5.00000000e-01   3.17070249e-16]\n"
     ]
    }
   ],
   "source": [
    "N=len(x)\n",
    "print('sample qua: ',N)\n",
    "print('original signal qua :',y)\n",
    "f=np.fft.fft(y)\n",
    "print('frequency signal: ',f/N)\n",
    "a=np.abs(f/N)\n",
    "print('frequency power: ',a)"
   ]
  },
  {
   "cell_type": "code",
   "execution_count": 26,
   "metadata": {
    "ExecuteTime": {
     "end_time": "2020-04-22T07:51:45.190972Z",
     "start_time": "2020-04-22T07:51:45.155970Z"
    }
   },
   "outputs": [
    {
     "name": "stdout",
     "output_type": "stream",
     "text": [
      "revense fft :  [ 0.70710678 +1.11022302e-16j  1.63098631 -5.55111512e-17j\n",
      "  1.00000000 +5.55111512e-17j -0.21677275 -8.32667268e-17j\n",
      " -0.70710678 +0.00000000e+00j -0.32442335 +0.00000000e+00j\n",
      "  0.00000000 +5.55111512e-17j -0.32442335 +1.11022302e-16j\n",
      " -0.70710678 -1.11022302e-16j -0.21677275 +5.55111512e-17j\n",
      "  1.00000000 -5.55111512e-17j  1.63098631 -1.38777878e-16j\n",
      "  0.70710678 +0.00000000e+00j -1.08979021 +0.00000000e+00j\n",
      " -2.00000000 -5.55111512e-17j -1.08979021 +1.11022302e-16j]\n",
      "i value:  [  1.11022302e-16  -5.55111512e-17   5.55111512e-17  -8.32667268e-17\n",
      "   0.00000000e+00   0.00000000e+00   5.55111512e-17   1.11022302e-16\n",
      "  -1.11022302e-16   5.55111512e-17  -5.55111512e-17  -1.38777878e-16\n",
      "   0.00000000e+00   0.00000000e+00  -5.55111512e-17   1.11022302e-16]\n",
      "real value:  [ 0.70710678  1.63098631  1.         -0.21677275 -0.70710678 -0.32442335\n",
      "  0.         -0.32442335 -0.70710678 -0.21677275  1.          1.63098631\n",
      "  0.70710678 -1.08979021 -2.         -1.08979021]\n"
     ]
    }
   ],
   "source": [
    "iy=np.fft.ifft(f)\n",
    "print('revense fft : ',iy)\n",
    "print('i value: ',np.imag(iy))\n",
    "print('real value: ',np.real(iy))\n"
   ]
  },
  {
   "cell_type": "code",
   "execution_count": 27,
   "metadata": {
    "ExecuteTime": {
     "end_time": "2020-04-22T07:52:35.382843Z",
     "start_time": "2020-04-22T07:52:35.372843Z"
    }
   },
   "outputs": [
    {
     "name": "stdout",
     "output_type": "stream",
     "text": [
      "is same ? True\n"
     ]
    }
   ],
   "source": [
    "print('is same ?',np.allclose(np.real(iy),y))"
   ]
  },
  {
   "cell_type": "code",
   "execution_count": null,
   "metadata": {
    "collapsed": true
   },
   "outputs": [],
   "source": [
    "plt.subplot(211)\n",
    "plt.plot(x,y,'go-',lw=2)\n",
    "plt.title(u'时域信号', fontsize=15)\n",
    "plt.subplot(212)\n",
    "w = np.arange(N) * 2*np.pi / N\n"
   ]
  },
  {
   "cell_type": "code",
   "execution_count": 31,
   "metadata": {
    "ExecuteTime": {
     "end_time": "2020-04-22T08:02:30.252868Z",
     "start_time": "2020-04-22T08:02:30.241867Z"
    }
   },
   "outputs": [
    {
     "data": {
      "text/plain": [
       "array([  0.        ,   6.28318531,  12.56637061,  18.84955592,\n",
       "        25.13274123,  31.41592654,  37.69911184,  43.98229715,\n",
       "        50.26548246,  56.54866776,  62.83185307,  69.11503838,\n",
       "        75.39822369,  81.68140899,  87.9645943 ,  94.24777961])"
      ]
     },
     "execution_count": 31,
     "metadata": {},
     "output_type": "execute_result"
    }
   ],
   "source": [
    "np.arange(N)*2*np.pi"
   ]
  },
  {
   "cell_type": "code",
   "execution_count": 33,
   "metadata": {
    "ExecuteTime": {
     "end_time": "2020-04-22T08:03:05.772899Z",
     "start_time": "2020-04-22T08:03:05.766899Z"
    }
   },
   "outputs": [
    {
     "data": {
      "text/plain": [
       "array([ 0.        ,  1.25663706,  2.51327412,  3.76991118,  5.02654825])"
      ]
     },
     "execution_count": 33,
     "metadata": {},
     "output_type": "execute_result"
    }
   ],
   "source": [
    "np.arange(5)*np.pi*2/5"
   ]
  },
  {
   "cell_type": "code",
   "execution_count": null,
   "metadata": {
    "collapsed": true
   },
   "outputs": [],
   "source": []
  }
 ],
 "metadata": {
  "kernelspec": {
   "display_name": "Python 3",
   "language": "python",
   "name": "python3"
  },
  "language_info": {
   "codemirror_mode": {
    "name": "ipython",
    "version": 3
   },
   "file_extension": ".py",
   "mimetype": "text/x-python",
   "name": "python",
   "nbconvert_exporter": "python",
   "pygments_lexer": "ipython3",
   "version": "3.6.3"
  }
 },
 "nbformat": 4,
 "nbformat_minor": 2
}
