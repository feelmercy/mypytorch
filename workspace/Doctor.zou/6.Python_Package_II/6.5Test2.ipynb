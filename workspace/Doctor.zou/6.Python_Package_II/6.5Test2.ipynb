{
 "cells": [
  {
   "cell_type": "code",
   "execution_count": 1,
   "metadata": {
    "ExecuteTime": {
     "end_time": "2020-04-24T08:40:19.473254Z",
     "start_time": "2020-04-24T08:40:19.370249Z"
    },
    "collapsed": true
   },
   "outputs": [],
   "source": [
    "import numpy as np\n",
    "import os\n",
    "from PIL import Image\n"
   ]
  },
  {
   "cell_type": "code",
   "execution_count": 15,
   "metadata": {
    "ExecuteTime": {
     "end_time": "2020-04-24T08:58:27.432482Z",
     "start_time": "2020-04-24T08:58:27.399480Z"
    },
    "collapsed": true
   },
   "outputs": [],
   "source": [
    "def convolve(image,weight):\n",
    "    height,width=image.shape\n",
    "    h,w=weight.shape\n",
    "    height_new=height-h+1\n",
    "    width_new=width-w+1\n",
    "    image_new=np.zeros((height_new,width_new),dtype=np.float)\n",
    "    for i in range(height_new):\n",
    "        for j in range(width_new):\n",
    "            #image_new[i,j]=np.sum(image[i:i+h,j:j+w]*weight)\n",
    "            image_new[i,j]=np.sum(np.dot(image[i:i+h,j:j+w],weight))\n",
    "    image_new=image_new.clip(0,255)\n",
    "    image_new=np.rint(image_new).astype('uint8')\n",
    "    return image_new"
   ]
  },
  {
   "cell_type": "code",
   "execution_count": 16,
   "metadata": {
    "ExecuteTime": {
     "end_time": "2020-04-24T08:58:37.057033Z",
     "start_time": "2020-04-24T08:58:29.487600Z"
    }
   },
   "outputs": [
    {
     "name": "stdout",
     "output_type": "stream",
     "text": [
      "weight:R: soble_x\n",
      "weight:G\n",
      "weight:B\n",
      "weight:R: soble_y\n",
      "weight:G\n",
      "weight:B\n",
      "weight:R: soble\n",
      "weight:G\n",
      "weight:B\n",
      "weight:R: prewitt_x\n",
      "weight:G\n",
      "weight:B\n",
      "weight:R: prewitt_y\n",
      "weight:G\n",
      "weight:B\n",
      "weight:R: prewitt\n",
      "weight:G\n",
      "weight:B\n",
      "weight:R: laplacian\n",
      "weight:G\n",
      "weight:B\n",
      "weight:R: laplacian2\n",
      "weight:G\n",
      "weight:B\n"
     ]
    }
   ],
   "source": [
    "A = Image.open(r'F:/study/ml/DoctorZou/06PythonPackage/6.Package/6.son.png')\n",
    "path = r'F:\\study\\ml\\DoctorZou\\06PythonPackage\\6.Package'\n",
    "if not os.path.exists(path + '\\\\Pic2'):\n",
    "    os.mkdir(path + '\\\\Pic2')\n",
    "a = np.array(A)\n",
    "soble_x = np.array(([-1, 0, 1], [-2, 0, 2], [-1, 0, 1]))\n",
    "soble_y = np.array(([-1, -2, -1], [0, 0, 0], [1, 2, 1]))\n",
    "soble = np.array(([-1, -1, 0], [-1, 0, 1], [0, 1, 1]))\n",
    "prewitt_x = np.array(([-1, 0, 1], [-1, 0, 1], [-1, 0, 1]))\n",
    "prewitt_y = np.array(([-1, -1, -1], [0, 0, 0], [1, 1, 1]))\n",
    "prewitt = np.array(([-2, -1, 0], [-1, 0, 1], [0, 1, 2]))\n",
    "laplacian = np.array(([0, -1, 0], [-1, 4, -1], [0, -1, 0]))\n",
    "laplacian2 = np.array(([-1, -1, -1], [-1, 8, -1], [-1, -1, -1]))\n",
    "weight_list = ('soble_x', 'soble_y', 'soble', 'prewitt_x', 'prewitt_y',\n",
    "               'prewitt', 'laplacian', 'laplacian2')\n",
    "for weight in weight_list:\n",
    "    print('weight:R:',weight)\n",
    "    R=convolve(a[:,:,0],eval(weight))\n",
    "    print('weight:G')\n",
    "    G=convolve(a[:,:,1],eval(weight))\n",
    "    print('weight:B')\n",
    "    B=convolve(a[:,:,2],eval(weight))\n",
    "    I=255-np.stack((R,G,B),2)\n",
    "    Image.fromarray(I).save(path+'\\\\Pic2\\\\'+weight+'.png')"
   ]
  },
  {
   "cell_type": "code",
   "execution_count": 18,
   "metadata": {
    "ExecuteTime": {
     "end_time": "2020-04-24T09:01:21.085415Z",
     "start_time": "2020-04-24T09:01:17.273196Z"
    }
   },
   "outputs": [],
   "source": [
    "A = Image.open(r'F:/study/ml/DoctorZou/06PythonPackage/6.Package/6.son.png')\n",
    "path = r'F:\\study\\ml\\DoctorZou\\06PythonPackage\\6.Package'\n",
    "if not os.path.exists(path + '\\\\Pic3'):\n",
    "    os.mkdir(path + '\\\\Pic3')\n",
    "a = np.array(A)\n",
    "soble_x = np.array(([-1, 0, 1], [-2, 0, 2], [-1, 0, 1]))\n",
    "soble_y = np.array(([-1, -2, -1], [0, 0, 0], [1, 2, 1]))\n",
    "soble = np.array(([-1, -1, 0], [-1, 0, 1], [0, 1, 1]))\n",
    "prewitt_x = np.array(([-1, 0, 1], [-1, 0, 1], [-1, 0, 1]))\n",
    "prewitt_y = np.array(([-1, -1, -1], [0, 0, 0], [1, 1, 1]))\n",
    "prewitt = np.array(([-2, -1, 0], [-1, 0, 1], [0, 1, 2]))\n",
    "laplacian = np.array(([0, -1, 0], [-1, 4, -1], [0, -1, 0]))\n",
    "laplacian2 = np.array(([-1, -1, -1], [-1, 8, -1], [-1, -1, -1]))\n",
    "weight_list = ('soble_x', 'soble_y', 'soble', 'prewitt_x', 'prewitt_y',\n",
    "               'prewitt', 'laplacian', 'laplacian2')\n",
    "for w in (0, 2):\n",
    "    weight = weight_list[w]\n",
    "\n",
    "    R = convolve(a[:, :, 0], eval(weight))\n",
    "\n",
    "    G = convolve(a[:, :, 1], eval(weight))\n",
    "\n",
    "    B = convolve(a[:, :, 2], eval(weight))\n",
    "    I1 = np.stack((R, G, B), 2)\n",
    "\n",
    "    weight = weight_list[w+1]\n",
    "\n",
    "    R = convolve(a[:, :, 0], eval(weight))\n",
    "\n",
    "    G = convolve(a[:, :, 1], eval(weight))\n",
    "\n",
    "    B = convolve(a[:, :, 2], eval(weight))\n",
    "    I2 = np.stack((R, G, B), 2)\n",
    "\n",
    "    I = 255 - np.maximum(I1, I2)\n",
    "\n",
    "    Image.fromarray(I).save(path+'\\\\Pic3\\\\'+weight+'.png')"
   ]
  },
  {
   "cell_type": "code",
   "execution_count": null,
   "metadata": {
    "collapsed": true
   },
   "outputs": [],
   "source": []
  }
 ],
 "metadata": {
  "kernelspec": {
   "display_name": "Python 3",
   "language": "python",
   "name": "python3"
  },
  "language_info": {
   "codemirror_mode": {
    "name": "ipython",
    "version": 3
   },
   "file_extension": ".py",
   "mimetype": "text/x-python",
   "name": "python",
   "nbconvert_exporter": "python",
   "pygments_lexer": "ipython3",
   "version": "3.6.3"
  }
 },
 "nbformat": 4,
 "nbformat_minor": 2
}
