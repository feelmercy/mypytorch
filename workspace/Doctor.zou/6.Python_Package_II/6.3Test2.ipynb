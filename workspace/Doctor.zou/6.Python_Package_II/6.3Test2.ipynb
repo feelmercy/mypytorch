{
 "cells": [
  {
   "cell_type": "code",
   "execution_count": 1,
   "metadata": {
    "ExecuteTime": {
     "end_time": "2020-04-24T07:08:14.683255Z",
     "start_time": "2020-04-24T07:08:14.464242Z"
    },
    "collapsed": true
   },
   "outputs": [],
   "source": [
    "import numpy as np\n",
    "import os\n",
    "from PIL import Image\n",
    "import matplotlib.pyplot as plt\n",
    "import matplotlib as mpl\n",
    "from pprint import pprint"
   ]
  },
  {
   "cell_type": "code",
   "execution_count": 2,
   "metadata": {
    "ExecuteTime": {
     "end_time": "2020-04-24T07:29:21.411707Z",
     "start_time": "2020-04-24T07:29:21.381706Z"
    },
    "collapsed": true
   },
   "outputs": [],
   "source": [
    "def restore1(sigma, u, v, K):\n",
    "    m = len(u)\n",
    "    n = len(v[0])\n",
    "    a = np.zeros((m, n))\n",
    "    for k in range(K):\n",
    "        uk = u[:, k].reshape(m, 1)\n",
    "        vk = v[k].reshape(1, n)\n",
    "        a += sigma[k] * np.dot(uk, vk)\n",
    "    a[a < 0] = 0\n",
    "    a[a > 255] = 255\n",
    "    return np.rint(a).astype('uint8')"
   ]
  },
  {
   "cell_type": "code",
   "execution_count": 8,
   "metadata": {
    "ExecuteTime": {
     "end_time": "2020-04-24T07:59:35.220451Z",
     "start_time": "2020-04-24T07:59:35.195450Z"
    },
    "collapsed": true
   },
   "outputs": [],
   "source": [
    "def restore2(sigma,u,v,K):\n",
    "    m=len(u)\n",
    "    n=len(v[0])\n",
    "    a=np.zeros((m,n))\n",
    "    for k in range(K+1):\n",
    "        for i in range(m):\n",
    "            a[i]+=sigma[k]*u[i][k]*v[k]\n",
    "    a[a < 0] = 0\n",
    "    a[a > 255] = 255      \n",
    "    return np.rint(a).astype('uint8')"
   ]
  },
  {
   "cell_type": "code",
   "execution_count": 9,
   "metadata": {
    "ExecuteTime": {
     "end_time": "2020-04-24T07:59:42.719880Z",
     "start_time": "2020-04-24T07:59:36.616531Z"
    }
   },
   "outputs": [
    {
     "name": "stdout",
     "output_type": "stream",
     "text": [
      "k:  1\n",
      "k:  2\n",
      "k:  3\n",
      "k:  4\n",
      "k:  5\n",
      "k:  6\n",
      "k:  7\n",
      "k:  8\n",
      "k:  9\n",
      "k:  10\n",
      "k:  11\n",
      "k:  12\n",
      "k:  13\n",
      "k:  14\n",
      "k:  15\n",
      "k:  16\n",
      "k:  17\n",
      "k:  18\n",
      "k:  19\n",
      "k:  20\n",
      "k:  21\n",
      "k:  22\n",
      "k:  23\n",
      "k:  24\n",
      "k:  25\n",
      "k:  26\n",
      "k:  27\n",
      "k:  28\n",
      "k:  29\n",
      "k:  30\n",
      "k:  31\n",
      "k:  32\n",
      "k:  33\n",
      "k:  34\n",
      "k:  35\n",
      "k:  36\n",
      "k:  37\n",
      "k:  38\n",
      "k:  39\n",
      "k:  40\n",
      "k:  41\n",
      "k:  42\n",
      "k:  43\n",
      "k:  44\n",
      "k:  45\n",
      "k:  46\n",
      "k:  47\n",
      "k:  48\n",
      "k:  49\n",
      "k:  50\n"
     ]
    }
   ],
   "source": [
    "A=Image.open(r'F:/study/ml/DoctorZou/06PythonPackage/6.Package/6.son.png')\n",
    "path=r'F:\\study\\ml\\DoctorZou\\06PythonPackage\\6.Package'\n",
    "if not os.path.exists(path+'\\\\Pic1'):\n",
    "    os.mkdir(path+'\\\\Pic1')\n",
    "a=np.array(A)\n",
    "K=50\n",
    "u_r,sigma_r,v_r=np.linalg.svd(a[:,:,0])\n",
    "u_g,sigma_g,v_g=np.linalg.svd(a[:,:,1])\n",
    "u_b,sigma_b,v_b=np.linalg.svd(a[:,:,2])\n",
    "for k in range(1,K+1):\n",
    "    print('k: ',k)\n",
    "    R=restore2(sigma_r,u_r,v_r,k)\n",
    "    G=restore2(sigma_g,u_g,v_g,k)\n",
    "    B=restore2(sigma_b,u_b,v_b,k)\n",
    "    I=np.stack((R,G,B),2)\n",
    "    Image.fromarray(I).save(path+'\\\\Pic1\\\\'+'svd_'+str(k)+'.png')"
   ]
  },
  {
   "cell_type": "code",
   "execution_count": 4,
   "metadata": {
    "ExecuteTime": {
     "end_time": "2020-04-24T07:41:36.389746Z",
     "start_time": "2020-04-24T07:41:36.384745Z"
    }
   },
   "outputs": [
    {
     "name": "stdout",
     "output_type": "stream",
     "text": [
      "1\n"
     ]
    }
   ],
   "source": [
    "print(str(1))"
   ]
  },
  {
   "cell_type": "code",
   "execution_count": null,
   "metadata": {
    "collapsed": true
   },
   "outputs": [],
   "source": []
  }
 ],
 "metadata": {
  "kernelspec": {
   "display_name": "Python 3",
   "language": "python",
   "name": "python3"
  },
  "language_info": {
   "codemirror_mode": {
    "name": "ipython",
    "version": 3
   },
   "file_extension": ".py",
   "mimetype": "text/x-python",
   "name": "python",
   "nbconvert_exporter": "python",
   "pygments_lexer": "ipython3",
   "version": "3.6.3"
  }
 },
 "nbformat": 4,
 "nbformat_minor": 2
}
