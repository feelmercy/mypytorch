{
 "cells": [
  {
   "cell_type": "code",
   "execution_count": 1,
   "metadata": {
    "ExecuteTime": {
     "end_time": "2020-05-29T05:47:18.946792Z",
     "start_time": "2020-05-29T05:47:13.776496Z"
    },
    "collapsed": true
   },
   "outputs": [],
   "source": [
    "import numpy as np\n",
    "from sklearn import svm\n",
    "from sklearn.model_selection import train_test_split\n",
    "import matplotlib as mpl\n",
    "import matplotlib.pyplot as plt"
   ]
  },
  {
   "cell_type": "code",
   "execution_count": 10,
   "metadata": {
    "ExecuteTime": {
     "end_time": "2020-05-29T05:55:44.267694Z",
     "start_time": "2020-05-29T05:55:44.258694Z"
    }
   },
   "outputs": [],
   "source": [
    "def iris_type(s):\n",
    "    it = {b'Iris-setosa': 0, b'Iris-versicolor': 1, b'Iris-virginica': 2}\n",
    "    return it[s]"
   ]
  },
  {
   "cell_type": "code",
   "execution_count": 11,
   "metadata": {
    "ExecuteTime": {
     "end_time": "2020-05-29T05:55:46.814840Z",
     "start_time": "2020-05-29T05:55:46.808840Z"
    },
    "collapsed": true
   },
   "outputs": [],
   "source": [
    "iris_feature = u'花萼长度', u'花萼宽度', u'花瓣长度', u'花瓣宽度'"
   ]
  },
  {
   "cell_type": "code",
   "execution_count": 5,
   "metadata": {
    "ExecuteTime": {
     "end_time": "2020-05-29T05:48:41.794530Z",
     "start_time": "2020-05-29T05:48:41.783530Z"
    },
    "collapsed": true
   },
   "outputs": [],
   "source": [
    "def show_accuracy(a,b,tip):\n",
    "    acc=a.ravel()==b.ravel()\n",
    "    print(tip,' accuracy :',np.mean(acc))"
   ]
  },
  {
   "cell_type": "code",
   "execution_count": 12,
   "metadata": {
    "ExecuteTime": {
     "end_time": "2020-05-29T05:57:17.346018Z",
     "start_time": "2020-05-29T05:57:17.304016Z"
    },
    "collapsed": true
   },
   "outputs": [],
   "source": [
    "path=r'F:\\study\\ml\\DoctorZou\\08RegressionII\\8.iris.data'\n",
    "data=np.loadtxt(path,dtype=np.float,delimiter=',',converters={4:iris_type})"
   ]
  },
  {
   "cell_type": "code",
   "execution_count": 13,
   "metadata": {
    "ExecuteTime": {
     "end_time": "2020-05-29T05:59:34.243848Z",
     "start_time": "2020-05-29T05:59:34.218847Z"
    },
    "collapsed": true
   },
   "outputs": [],
   "source": [
    "x, y = np.split(data, (4, ), axis=1)\n",
    "x = x[:, :2]\n",
    "x_train, x_test, y_train, y_test = train_test_split(x,\n",
    "                                                    y,\n",
    "                                                    random_state=0,\n",
    "                                                    test_size=0.4)"
   ]
  },
  {
   "cell_type": "code",
   "execution_count": 17,
   "metadata": {
    "ExecuteTime": {
     "end_time": "2020-05-29T07:22:18.760802Z",
     "start_time": "2020-05-29T07:22:18.738801Z"
    }
   },
   "outputs": [
    {
     "data": {
      "text/plain": [
       "0.91111111111111109"
      ]
     },
     "execution_count": 17,
     "metadata": {},
     "output_type": "execute_result"
    }
   ],
   "source": [
    "clf=svm.SVC(C=0.8,kernel='rbf',gamma=20,decision_function_shape='ovr')\n",
    "clf.fit(x_train,y_train.ravel())\n",
    "clf.score(x_train,y_train)"
   ]
  },
  {
   "cell_type": "code",
   "execution_count": null,
   "metadata": {
    "collapsed": true
   },
   "outputs": [],
   "source": []
  }
 ],
 "metadata": {
  "kernelspec": {
   "display_name": "Python 3",
   "language": "python",
   "name": "python3"
  },
  "language_info": {
   "codemirror_mode": {
    "name": "ipython",
    "version": 3
   },
   "file_extension": ".py",
   "mimetype": "text/x-python",
   "name": "python",
   "nbconvert_exporter": "python",
   "pygments_lexer": "ipython3",
   "version": "3.6.3"
  }
 },
 "nbformat": 4,
 "nbformat_minor": 2
}
