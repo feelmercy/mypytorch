{
 "cells": [
  {
   "cell_type": "code",
   "execution_count": 1,
   "metadata": {
    "ExecuteTime": {
     "end_time": "2020-05-28T03:12:35.564015Z",
     "start_time": "2020-05-28T03:12:29.883690Z"
    },
    "collapsed": true
   },
   "outputs": [],
   "source": [
    "import numpy as np\n",
    "from sklearn import svm\n",
    "import matplotlib.colors\n",
    "import matplotlib.pyplot as plt\n",
    "from PIL import Image\n",
    "import os"
   ]
  },
  {
   "cell_type": "code",
   "execution_count": 3,
   "metadata": {
    "ExecuteTime": {
     "end_time": "2020-05-28T03:16:11.006338Z",
     "start_time": "2020-05-28T03:16:10.996337Z"
    }
   },
   "outputs": [],
   "source": [
    "def show_accurncy(a,b,tip):\n",
    "    acc=a.ravel()==b.ravel()\n",
    "    print(tip ,' accuracy',np.mean(acc))"
   ]
  },
  {
   "cell_type": "code",
   "execution_count": 4,
   "metadata": {
    "ExecuteTime": {
     "end_time": "2020-05-28T03:20:01.458519Z",
     "start_time": "2020-05-28T03:20:01.442518Z"
    },
    "collapsed": true
   },
   "outputs": [],
   "source": [
    "def save_image(im,i):\n",
    "    im *=15.9735\n",
    "    im=255-im\n",
    "    a=im.astype(np.uint8)\n",
    "    output_path=r'F:\\study\\ml\\DoctorZou\\14SVM_II\\14.SVM(代码)\\14.SVM\\HandWritten'\n",
    "    if not os.path.exists(output_path):\n",
    "        os.mkdir(output_path)\n",
    "    Image.fromarray(a).save(output_path+('\\\\%d.png' % i))\n",
    "    "
   ]
  },
  {
   "cell_type": "code",
   "execution_count": 5,
   "metadata": {
    "ExecuteTime": {
     "end_time": "2020-05-28T03:22:06.017643Z",
     "start_time": "2020-05-28T03:22:05.758628Z"
    }
   },
   "outputs": [
    {
     "name": "stdout",
     "output_type": "stream",
     "text": [
      "load train file start . . . \n"
     ]
    }
   ],
   "source": [
    "print('load train file start . . . ')\n",
    "data = np.loadtxt(\n",
    "    r'F:\\study\\ml\\DoctorZou\\14SVM_II\\14.SVM(代码)\\14.SVM\\14.optdigits.tra',\n",
    "    dtype=np.float,\n",
    "    delimiter=',')"
   ]
  },
  {
   "cell_type": "code",
   "execution_count": 13,
   "metadata": {
    "ExecuteTime": {
     "end_time": "2020-05-28T05:22:59.101496Z",
     "start_time": "2020-05-28T05:22:59.089495Z"
    },
    "collapsed": true
   },
   "outputs": [],
   "source": [
    "x,y=np.split(data,(-1,),axis=1)\n",
    "images=x.reshape(-1,8,8)\n",
    "y=y.ravel().astype(np.int)"
   ]
  },
  {
   "cell_type": "code",
   "execution_count": 14,
   "metadata": {
    "ExecuteTime": {
     "end_time": "2020-05-28T05:23:40.754878Z",
     "start_time": "2020-05-28T05:23:40.626871Z"
    }
   },
   "outputs": [
    {
     "name": "stdout",
     "output_type": "stream",
     "text": [
      "load test file start . . . \n"
     ]
    }
   ],
   "source": [
    "print('load test file start . . . ')\n",
    "data = np.loadtxt(\n",
    "    r'F:\\study\\ml\\DoctorZou\\14SVM_II\\14.SVM(代码)\\14.SVM\\14.optdigits.tes',\n",
    "    dtype=np.float,\n",
    "    delimiter=',')"
   ]
  },
  {
   "cell_type": "code",
   "execution_count": 15,
   "metadata": {
    "ExecuteTime": {
     "end_time": "2020-05-28T05:25:50.538302Z",
     "start_time": "2020-05-28T05:25:50.532301Z"
    },
    "collapsed": true
   },
   "outputs": [],
   "source": [
    "x_test,y_test=np.split(data,(-1,),axis=1)\n",
    "images_test=x_test.reshape(-1,8,8)\n",
    "y_test=y_test.ravel().astype(np.int)\n"
   ]
  },
  {
   "cell_type": "code",
   "execution_count": 22,
   "metadata": {
    "ExecuteTime": {
     "end_time": "2020-05-28T05:40:39.832166Z",
     "start_time": "2020-05-28T05:40:39.084124Z"
    }
   },
   "outputs": [],
   "source": [
    "for index,image in enumerate(images[:16]):\n",
    "    plt.subplot(4,8,index+1)\n",
    "    plt.imshow(image,cmap=plt.cm.gray_r,interpolation='nearest')\n",
    "    plt.title(u'train image:%i' % y[index])\n",
    "for index,image in enumerate(images_test[:16]):\n",
    "    plt.subplot(4,8,index+17)\n",
    "    plt.imshow(image,cmap=plt.cm.gray_r,interpolation='nearest')\n",
    "    save_image(image.copy(),index)\n",
    "    plt.title('test image: %i' % y_test[index])\n",
    "# plt.tight_layout()\n",
    "# plt.show()"
   ]
  },
  {
   "cell_type": "code",
   "execution_count": 23,
   "metadata": {
    "ExecuteTime": {
     "end_time": "2020-05-28T05:42:48.537528Z",
     "start_time": "2020-05-28T05:42:47.964495Z"
    }
   },
   "outputs": [
    {
     "name": "stdout",
     "output_type": "stream",
     "text": [
      "Start learning. . . \n",
      "Learning is OK !\n",
      "test set  accuracy 0.982749026155\n"
     ]
    }
   ],
   "source": [
    "clf=svm.SVC(C=1,kernel='rbf',gamma=0.001)\n",
    "print('Start learning. . . ')\n",
    "clf.fit(x,y)\n",
    "print('Learning is OK !')\n",
    "y_hat=clf.predict(x_test)\n",
    "show_accurncy(y_test,y_hat,'test set')"
   ]
  },
  {
   "cell_type": "code",
   "execution_count": 24,
   "metadata": {
    "ExecuteTime": {
     "end_time": "2020-05-28T05:45:08.933558Z",
     "start_time": "2020-05-28T05:45:08.927558Z"
    },
    "collapsed": true
   },
   "outputs": [],
   "source": [
    "err_images = images_test[y_test != y_hat]\n",
    "err_y_hat = y_hat[y_test != y_hat]\n",
    "err_y = y_test[y_test != y_hat]"
   ]
  },
  {
   "cell_type": "code",
   "execution_count": 26,
   "metadata": {
    "ExecuteTime": {
     "end_time": "2020-05-28T05:47:55.605091Z",
     "start_time": "2020-05-28T05:47:55.309074Z"
    }
   },
   "outputs": [],
   "source": [
    "for index,image in enumerate(err_images):\n",
    "    if index>=12:\n",
    "        break\n",
    "    plt.subplot(3,4,index+1)\n",
    "    plt.imshow(image,cmap=plt.cm.gray_r,interpolation='nearest')\n",
    "    plt.title('error : %i,true : %i' % (err_y_hat[index],err_y[index]))\n",
    "# plt.show()"
   ]
  },
  {
   "cell_type": "code",
   "execution_count": null,
   "metadata": {
    "collapsed": true
   },
   "outputs": [],
   "source": []
  }
 ],
 "metadata": {
  "kernelspec": {
   "display_name": "Python 3",
   "language": "python",
   "name": "python3"
  },
  "language_info": {
   "codemirror_mode": {
    "name": "ipython",
    "version": 3
   },
   "file_extension": ".py",
   "mimetype": "text/x-python",
   "name": "python",
   "nbconvert_exporter": "python",
   "pygments_lexer": "ipython3",
   "version": "3.6.3"
  }
 },
 "nbformat": 4,
 "nbformat_minor": 2
}
