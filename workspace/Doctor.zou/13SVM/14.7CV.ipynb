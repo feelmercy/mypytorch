{
 "cells": [
  {
   "cell_type": "code",
   "execution_count": 4,
   "metadata": {
    "ExecuteTime": {
     "end_time": "2020-06-02T07:52:50.569183Z",
     "start_time": "2020-06-02T07:52:50.559182Z"
    },
    "collapsed": true
   },
   "outputs": [],
   "source": [
    "import numpy as np\n",
    "from sklearn import svm\n",
    "from sklearn.model_selection import GridSearchCV    # 0.17 grid_search\n",
    "import matplotlib.pyplot as plt"
   ]
  },
  {
   "cell_type": "code",
   "execution_count": 5,
   "metadata": {
    "ExecuteTime": {
     "end_time": "2020-06-02T07:52:51.079212Z",
     "start_time": "2020-06-02T07:52:51.064211Z"
    },
    "collapsed": true
   },
   "outputs": [],
   "source": [
    "N=50\n",
    "np.random.seed(0)\n",
    "x=np.sort(np.random.uniform(0,6,N),axis=0)\n",
    "y=2*np.sin(x)+0.1*np.random.randn(N)\n",
    "x=x.reshape(-1,1)"
   ]
  },
  {
   "cell_type": "code",
   "execution_count": 6,
   "metadata": {
    "ExecuteTime": {
     "end_time": "2020-06-02T07:52:52.289281Z",
     "start_time": "2020-06-02T07:52:51.646245Z"
    }
   },
   "outputs": [
    {
     "name": "stdout",
     "output_type": "stream",
     "text": [
      "validation param: {'C': 35.938136638046259, 'gamma': 0.59948425031894093}\n"
     ]
    }
   ],
   "source": [
    "model=svm.SVR(kernel='rbf')\n",
    "c_can=np.logspace(-2,2,10)\n",
    "gamma_can=np.logspace(-2,2,10)\n",
    "svr=GridSearchCV(model,param_grid={'C':c_can,'gamma':gamma_can},cv=5)\n",
    "svr.fit(x,y)\n",
    "print('validation param:',svr.best_params_)\n",
    "x_test=np.linspace(x.min(),x.max(),100).reshape(-1,1)\n",
    "y_hat=svr.predict(x_test)\n",
    "sp=svr.best_estimator_.support_"
   ]
  },
  {
   "cell_type": "code",
   "execution_count": 9,
   "metadata": {
    "ExecuteTime": {
     "end_time": "2020-06-02T08:04:00.730514Z",
     "start_time": "2020-06-02T08:04:00.719513Z"
    }
   },
   "outputs": [
    {
     "data": {
      "text/plain": [
       "{'C': 35.938136638046259, 'gamma': 0.59948425031894093}"
      ]
     },
     "execution_count": 9,
     "metadata": {},
     "output_type": "execute_result"
    }
   ],
   "source": [
    "svr.best_params_"
   ]
  },
  {
   "cell_type": "code",
   "execution_count": 7,
   "metadata": {
    "ExecuteTime": {
     "end_time": "2020-06-02T07:52:53.772366Z",
     "start_time": "2020-06-02T07:52:53.755365Z"
    }
   },
   "outputs": [
    {
     "data": {
      "text/plain": [
       "array([  1.00000000e-02,   2.78255940e-02,   7.74263683e-02,\n",
       "         2.15443469e-01,   5.99484250e-01,   1.66810054e+00,\n",
       "         4.64158883e+00,   1.29154967e+01,   3.59381366e+01,\n",
       "         1.00000000e+02])"
      ]
     },
     "execution_count": 7,
     "metadata": {},
     "output_type": "execute_result"
    }
   ],
   "source": [
    "c_can"
   ]
  },
  {
   "cell_type": "code",
   "execution_count": 8,
   "metadata": {
    "ExecuteTime": {
     "end_time": "2020-06-02T07:56:21.075223Z",
     "start_time": "2020-06-02T07:56:21.064223Z"
    }
   },
   "outputs": [
    {
     "data": {
      "text/plain": [
       "2.7825594055602196"
      ]
     },
     "execution_count": 8,
     "metadata": {},
     "output_type": "execute_result"
    }
   ],
   "source": [
    "7.74263683e-02/2.78255940e-02"
   ]
  },
  {
   "cell_type": "code",
   "execution_count": 7,
   "metadata": {
    "ExecuteTime": {
     "end_time": "2020-05-28T08:53:52.613235Z",
     "start_time": "2020-05-28T08:53:52.603235Z"
    }
   },
   "outputs": [
    {
     "data": {
      "text/plain": [
       "array([ 0,  1,  4,  5,  6,  9, 15, 24, 25, 30, 31, 38, 39, 41, 42, 43, 45,\n",
       "       46, 49])"
      ]
     },
     "execution_count": 7,
     "metadata": {},
     "output_type": "execute_result"
    }
   ],
   "source": [
    "sp"
   ]
  },
  {
   "cell_type": "code",
   "execution_count": 6,
   "metadata": {
    "ExecuteTime": {
     "end_time": "2020-05-28T08:53:13.644007Z",
     "start_time": "2020-05-28T08:53:13.579003Z"
    }
   },
   "outputs": [
    {
     "data": {
      "text/plain": [
       "Text(0.5,1,'SVR')"
      ]
     },
     "execution_count": 6,
     "metadata": {},
     "output_type": "execute_result"
    }
   ],
   "source": [
    "plt.scatter(x[sp],\n",
    "            y[sp],\n",
    "            s=120,\n",
    "            c='r',\n",
    "            marker='*',\n",
    "            label='Support Vectors',\n",
    "            zorder=3)\n",
    "plt.plot(x_test,y_hat,'r-',linewidth=2,label='RBF')\n",
    "plt.plot(x,y,'go',markersize=5)\n",
    "plt.legend(loc='upper right')\n",
    "plt.title('SVR', fontsize=16)\n",
    "# plt.show()"
   ]
  },
  {
   "cell_type": "code",
   "execution_count": null,
   "metadata": {
    "collapsed": true
   },
   "outputs": [],
   "source": []
  }
 ],
 "metadata": {
  "kernelspec": {
   "display_name": "Python 3",
   "language": "python",
   "name": "python3"
  },
  "language_info": {
   "codemirror_mode": {
    "name": "ipython",
    "version": 3
   },
   "file_extension": ".py",
   "mimetype": "text/x-python",
   "name": "python",
   "nbconvert_exporter": "python",
   "pygments_lexer": "ipython3",
   "version": "3.6.3"
  }
 },
 "nbformat": 4,
 "nbformat_minor": 2
}
