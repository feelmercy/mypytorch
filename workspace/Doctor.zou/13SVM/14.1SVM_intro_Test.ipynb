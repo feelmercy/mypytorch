{
 "cells": [
  {
   "cell_type": "code",
   "execution_count": 1,
   "metadata": {
    "ExecuteTime": {
     "end_time": "2020-05-27T02:33:50.694243Z",
     "start_time": "2020-05-27T02:33:45.501946Z"
    },
    "collapsed": true
   },
   "outputs": [],
   "source": [
    "import numpy as np\n",
    "from sklearn import svm\n",
    "from sklearn.model_selection import train_test_split\n",
    "import matplotlib as mpl\n",
    "import matplotlib.pyplot as plt"
   ]
  },
  {
   "cell_type": "code",
   "execution_count": 4,
   "metadata": {
    "ExecuteTime": {
     "end_time": "2020-05-27T02:36:22.366918Z",
     "start_time": "2020-05-27T02:36:22.357918Z"
    }
   },
   "outputs": [],
   "source": [
    "def iris_type(s):\n",
    "    it = {b'Iris-setosa': 0, b'Iris-versicolor': 1, b'Iris-virginica': 2}\n",
    "    return it[s]"
   ]
  },
  {
   "cell_type": "code",
   "execution_count": 2,
   "metadata": {
    "ExecuteTime": {
     "end_time": "2020-05-27T02:34:57.567068Z",
     "start_time": "2020-05-27T02:34:57.556067Z"
    },
    "collapsed": true
   },
   "outputs": [],
   "source": [
    "def show_accuracy(a,b,tip):\n",
    "    acc=a.ravel()==b.ravel()\n",
    "    print('tip ','accuracy: ',np.mean(acc))"
   ]
  },
  {
   "cell_type": "code",
   "execution_count": 6,
   "metadata": {
    "ExecuteTime": {
     "end_time": "2020-05-27T02:36:45.212225Z",
     "start_time": "2020-05-27T02:36:45.205224Z"
    }
   },
   "outputs": [],
   "source": [
    "path=r'F:\\study\\ml\\DoctorZou\\08RegressionII\\8.iris.data'\n",
    "data=np.loadtxt(path,dtype=float,delimiter=',',converters={4:iris_type})"
   ]
  },
  {
   "cell_type": "code",
   "execution_count": 7,
   "metadata": {
    "ExecuteTime": {
     "end_time": "2020-05-27T02:39:03.908158Z",
     "start_time": "2020-05-27T02:39:03.894157Z"
    },
    "collapsed": true
   },
   "outputs": [],
   "source": [
    "x,y=np.split(data,(4,),axis=1)\n",
    "x=x[:,:2]\n",
    "x_train,x_test,y_train,y_test=train_test_split(x,y,random_state=1,\n",
    "                                              test_size=0.4)"
   ]
  },
  {
   "cell_type": "code",
   "execution_count": 12,
   "metadata": {
    "ExecuteTime": {
     "end_time": "2020-05-27T02:40:31.155148Z",
     "start_time": "2020-05-27T02:40:31.143147Z"
    }
   },
   "outputs": [
    {
     "data": {
      "text/plain": [
       "SVC(C=0.8, cache_size=200, class_weight=None, coef0=0.0,\n",
       "  decision_function_shape='ovr', degree=3, gamma=20, kernel='rbf',\n",
       "  max_iter=-1, probability=False, random_state=None, shrinking=True,\n",
       "  tol=0.001, verbose=False)"
      ]
     },
     "execution_count": 12,
     "metadata": {},
     "output_type": "execute_result"
    }
   ],
   "source": [
    "clf=svm.SVC(C=0.8,kernel='rbf',gamma=20,decision_function_shape='ovr')\n",
    "clf.fit(x_train,y_train.ravel())"
   ]
  },
  {
   "cell_type": "code",
   "execution_count": 13,
   "metadata": {
    "ExecuteTime": {
     "end_time": "2020-05-27T02:40:31.781184Z",
     "start_time": "2020-05-27T02:40:31.769183Z"
    }
   },
   "outputs": [
    {
     "data": {
      "text/plain": [
       "0.8666666666666667"
      ]
     },
     "execution_count": 13,
     "metadata": {},
     "output_type": "execute_result"
    }
   ],
   "source": [
    "clf.score(x_train,y_train)"
   ]
  },
  {
   "cell_type": "code",
   "execution_count": 14,
   "metadata": {
    "ExecuteTime": {
     "end_time": "2020-05-27T02:41:19.908937Z",
     "start_time": "2020-05-27T02:41:19.886935Z"
    }
   },
   "outputs": [
    {
     "name": "stdout",
     "output_type": "stream",
     "text": [
      "tip  accuracy:  0.866666666667\n"
     ]
    }
   ],
   "source": [
    "y_hat=clf.predict(x_train)\n",
    "show_accuracy(y_hat,y_train,'train_data')"
   ]
  },
  {
   "cell_type": "code",
   "execution_count": 15,
   "metadata": {
    "ExecuteTime": {
     "end_time": "2020-05-27T02:41:46.936482Z",
     "start_time": "2020-05-27T02:41:46.927482Z"
    }
   },
   "outputs": [
    {
     "name": "stdout",
     "output_type": "stream",
     "text": [
      "tip  accuracy:  0.65\n"
     ]
    }
   ],
   "source": [
    "y_hat=clf.predict(x_test)\n",
    "show_accuracy(y_hat,y_test,'test_data')"
   ]
  },
  {
   "cell_type": "code",
   "execution_count": 17,
   "metadata": {
    "ExecuteTime": {
     "end_time": "2020-05-27T02:46:19.186054Z",
     "start_time": "2020-05-27T02:46:19.155052Z"
    }
   },
   "outputs": [],
   "source": [
    "x1_min,x1_max=x[:,0].min(),x[:,0].max()\n",
    "x2_min,x2_max=x[:,1].min(),x[:,1].max()\n",
    "x1,x2=np.mgrid[x1_min:x1_max:500j,x2_min:x2_max:500j]\n",
    "grid_test=np.stack((x1.flat,x2.flat),axis=1)"
   ]
  },
  {
   "cell_type": "code",
   "execution_count": 18,
   "metadata": {
    "ExecuteTime": {
     "end_time": "2020-05-27T02:46:23.964328Z",
     "start_time": "2020-05-27T02:46:23.953327Z"
    }
   },
   "outputs": [
    {
     "data": {
      "text/plain": [
       "(250000, 2)"
      ]
     },
     "execution_count": 18,
     "metadata": {},
     "output_type": "execute_result"
    }
   ],
   "source": [
    "grid_test.shape"
   ]
  },
  {
   "cell_type": "code",
   "execution_count": 19,
   "metadata": {
    "ExecuteTime": {
     "end_time": "2020-05-27T02:51:39.061350Z",
     "start_time": "2020-05-27T02:51:38.635326Z"
    }
   },
   "outputs": [
    {
     "data": {
      "text/plain": [
       "array([[-0.02248787,  2.04243623,  0.98005163],\n",
       "       [-0.02092291,  2.04165431,  0.9792686 ],\n",
       "       [-0.01929329,  2.04084007,  0.97845322],\n",
       "       ..., \n",
       "       [-0.04903923,  2.05568979,  0.99334945],\n",
       "       [-0.04903923,  2.05568979,  0.99334945],\n",
       "       [-0.04903923,  2.05568979,  0.99334945]])"
      ]
     },
     "execution_count": 19,
     "metadata": {},
     "output_type": "execute_result"
    }
   ],
   "source": [
    "Z=clf.decision_function(grid_test)\n",
    "Z"
   ]
  },
  {
   "cell_type": "code",
   "execution_count": 20,
   "metadata": {
    "ExecuteTime": {
     "end_time": "2020-05-27T02:51:58.857482Z",
     "start_time": "2020-05-27T02:51:58.466460Z"
    },
    "collapsed": true
   },
   "outputs": [],
   "source": [
    "grid_hat=clf.predict(grid_test)"
   ]
  },
  {
   "cell_type": "code",
   "execution_count": 21,
   "metadata": {
    "ExecuteTime": {
     "end_time": "2020-05-27T02:54:55.661595Z",
     "start_time": "2020-05-27T02:54:55.653594Z"
    },
    "collapsed": true
   },
   "outputs": [],
   "source": [
    "cm_light=mpl.colors.ListedColormap(['#A0FFA0','#FFA0A0','#A0A0FF'])\n",
    "cm_dark=mpl.colors.ListedColormap(['g','r','b'])"
   ]
  },
  {
   "cell_type": "code",
   "execution_count": 23,
   "metadata": {
    "ExecuteTime": {
     "end_time": "2020-05-27T03:07:52.231012Z",
     "start_time": "2020-05-27T03:07:52.221012Z"
    }
   },
   "outputs": [
    {
     "data": {
      "text/plain": [
       "(500, 500)"
      ]
     },
     "execution_count": 23,
     "metadata": {},
     "output_type": "execute_result"
    }
   ],
   "source": [
    "x1.shape"
   ]
  },
  {
   "cell_type": "code",
   "execution_count": 24,
   "metadata": {
    "ExecuteTime": {
     "end_time": "2020-05-27T03:12:34.333147Z",
     "start_time": "2020-05-27T03:12:34.325147Z"
    }
   },
   "outputs": [
    {
     "data": {
      "text/plain": [
       "(250000,)"
      ]
     },
     "execution_count": 24,
     "metadata": {},
     "output_type": "execute_result"
    }
   ],
   "source": [
    "grid_hat.shape"
   ]
  },
  {
   "cell_type": "code",
   "execution_count": 25,
   "metadata": {
    "ExecuteTime": {
     "end_time": "2020-05-27T03:13:46.557278Z",
     "start_time": "2020-05-27T03:13:46.550278Z"
    },
    "collapsed": true
   },
   "outputs": [],
   "source": [
    "grid_hat=grid_hat.reshape(x1.shape)"
   ]
  },
  {
   "cell_type": "code",
   "execution_count": 28,
   "metadata": {
    "ExecuteTime": {
     "end_time": "2020-05-27T03:14:24.432445Z",
     "start_time": "2020-05-27T03:14:24.427445Z"
    }
   },
   "outputs": [
    {
     "data": {
      "text/plain": [
       "(500, 500)"
      ]
     },
     "execution_count": 28,
     "metadata": {},
     "output_type": "execute_result"
    }
   ],
   "source": [
    "grid_hat.shape"
   ]
  },
  {
   "cell_type": "code",
   "execution_count": 31,
   "metadata": {
    "ExecuteTime": {
     "end_time": "2020-05-27T03:15:39.000710Z",
     "start_time": "2020-05-27T03:15:38.994710Z"
    }
   },
   "outputs": [
    {
     "data": {
      "text/plain": [
       "(150, 1)"
      ]
     },
     "execution_count": 31,
     "metadata": {},
     "output_type": "execute_result"
    }
   ],
   "source": [
    "y.shape"
   ]
  },
  {
   "cell_type": "code",
   "execution_count": 32,
   "metadata": {
    "ExecuteTime": {
     "end_time": "2020-05-27T03:17:51.075264Z",
     "start_time": "2020-05-27T03:17:51.070264Z"
    }
   },
   "outputs": [
    {
     "data": {
      "text/plain": [
       "(150,)"
      ]
     },
     "execution_count": 32,
     "metadata": {},
     "output_type": "execute_result"
    }
   ],
   "source": [
    "x[:,0].shape"
   ]
  },
  {
   "cell_type": "code",
   "execution_count": 36,
   "metadata": {
    "ExecuteTime": {
     "end_time": "2020-05-27T03:18:19.722903Z",
     "start_time": "2020-05-27T03:18:19.642898Z"
    }
   },
   "outputs": [
    {
     "data": {
      "text/plain": [
       "(2.0, 4.4000000000000004)"
      ]
     },
     "execution_count": 36,
     "metadata": {},
     "output_type": "execute_result"
    }
   ],
   "source": [
    "plt.pcolormesh(x1,x2,grid_hat,cmap=cm_light)\n",
    "plt.scatter(x[:,0],x[:,1],c=y.flat,edgecolors='k',s=50,cmap=cm_dark)\n",
    "plt.scatter(x_test[:, 0], x_test[:, 1], s=120, facecolors='none', zorder=10)     # 圈中测试集样本\n",
    "plt.xlim(x1_min, x1_max)\n",
    "plt.ylim(x2_min, x2_max)\n",
    "plt.show()"
   ]
  },
  {
   "cell_type": "code",
   "execution_count": null,
   "metadata": {
    "collapsed": true
   },
   "outputs": [],
   "source": []
  }
 ],
 "metadata": {
  "kernelspec": {
   "display_name": "Python 3",
   "language": "python",
   "name": "python3"
  },
  "language_info": {
   "codemirror_mode": {
    "name": "ipython",
    "version": 3
   },
   "file_extension": ".py",
   "mimetype": "text/x-python",
   "name": "python",
   "nbconvert_exporter": "python",
   "pygments_lexer": "ipython3",
   "version": "3.6.3"
  }
 },
 "nbformat": 4,
 "nbformat_minor": 2
}
