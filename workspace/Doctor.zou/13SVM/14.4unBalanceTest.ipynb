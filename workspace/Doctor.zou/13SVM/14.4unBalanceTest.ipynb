{
 "cells": [
  {
   "cell_type": "code",
   "execution_count": 1,
   "metadata": {
    "ExecuteTime": {
     "end_time": "2020-05-27T09:26:14.853528Z",
     "start_time": "2020-05-27T09:26:14.339498Z"
    },
    "collapsed": true
   },
   "outputs": [],
   "source": [
    "import numpy as np\n",
    "from sklearn import svm\n",
    "import matplotlib.colors\n",
    "import matplotlib.pyplot as plt\n",
    "from sklearn.metrics import accuracy_score, precision_score, recall_score, f1_score, fbeta_score\n",
    "import warnings"
   ]
  },
  {
   "cell_type": "code",
   "execution_count": 20,
   "metadata": {
    "ExecuteTime": {
     "end_time": "2020-05-27T09:50:58.852408Z",
     "start_time": "2020-05-27T09:50:58.841407Z"
    },
    "collapsed": true
   },
   "outputs": [],
   "source": [
    "def show_accurancy(a,b):\n",
    "    acc=a.ravel()==b.ravel()\n",
    "    print('正确率:%.2f%%' % (100*float(acc.sum())/acc.size))"
   ]
  },
  {
   "cell_type": "code",
   "execution_count": 21,
   "metadata": {
    "ExecuteTime": {
     "end_time": "2020-05-27T09:50:59.594450Z",
     "start_time": "2020-05-27T09:50:59.584450Z"
    }
   },
   "outputs": [],
   "source": [
    "def show_recall(y,y_hat):\n",
    "    print('recall: %.2f%%' % (100*float(np.sum(y_hat[y==1]==1))/y[y==1].size))"
   ]
  },
  {
   "cell_type": "code",
   "execution_count": 10,
   "metadata": {
    "ExecuteTime": {
     "end_time": "2020-05-27T09:38:38.176044Z",
     "start_time": "2020-05-27T09:38:38.143042Z"
    }
   },
   "outputs": [
    {
     "data": {
      "text/plain": [
       "array([[ 3.60544891,  4.00062423],\n",
       "       [ 3.92003011,  3.58402125],\n",
       "       [ 3.70092477,  3.23998036],\n",
       "       [ 4.20892685,  3.97999064],\n",
       "       [ 3.37010633,  4.01431025],\n",
       "       [ 4.67131101,  3.63003207],\n",
       "       [ 4.65756883,  3.83827126],\n",
       "       [ 4.09891408,  4.0488754 ],\n",
       "       [ 4.70076171,  4.07921692],\n",
       "       [ 3.42904929,  3.34451481]])"
      ]
     },
     "execution_count": 10,
     "metadata": {},
     "output_type": "execute_result"
    }
   ],
   "source": [
    "np.random.seed(0)\n",
    "c1=990\n",
    "c2=10\n",
    "N=c1+c2\n",
    "x_c1=3*np.random.randn(c1,2)\n",
    "x_c2=0.5*np.random.randn(c2,2)+4\n",
    "x_c2"
   ]
  },
  {
   "cell_type": "code",
   "execution_count": 12,
   "metadata": {
    "ExecuteTime": {
     "end_time": "2020-05-27T09:39:14.861142Z",
     "start_time": "2020-05-27T09:39:14.849141Z"
    }
   },
   "outputs": [
    {
     "data": {
      "text/plain": [
       "(1000, 2)"
      ]
     },
     "execution_count": 12,
     "metadata": {},
     "output_type": "execute_result"
    }
   ],
   "source": [
    "x=np.vstack((x_c1,x_c2))\n",
    "x.shape"
   ]
  },
  {
   "cell_type": "code",
   "execution_count": 13,
   "metadata": {
    "ExecuteTime": {
     "end_time": "2020-05-27T09:39:36.267366Z",
     "start_time": "2020-05-27T09:39:36.263366Z"
    },
    "collapsed": true
   },
   "outputs": [],
   "source": [
    "y=np.ones(N)\n",
    "y[:c1]=-1"
   ]
  },
  {
   "cell_type": "code",
   "execution_count": 14,
   "metadata": {
    "ExecuteTime": {
     "end_time": "2020-05-27T09:40:01.511810Z",
     "start_time": "2020-05-27T09:40:01.503810Z"
    },
    "collapsed": true
   },
   "outputs": [],
   "source": [
    "s=np.ones(N)*30\n",
    "s[:c1]=10"
   ]
  },
  {
   "cell_type": "code",
   "execution_count": 23,
   "metadata": {
    "ExecuteTime": {
     "end_time": "2020-05-27T09:52:27.604484Z",
     "start_time": "2020-05-27T09:52:27.586483Z"
    },
    "collapsed": true
   },
   "outputs": [],
   "source": [
    "clfs = [\n",
    "    svm.SVC(C=1, kernel='linear'),\n",
    "    svm.SVC(C=1, kernel='linear', class_weight={-1:1, 1:10}),\n",
    "    svm.SVC(C=0.8, kernel='rbf', gamma=0.5, class_weight={-1:1, 1:2}),\n",
    "    svm.SVC(C=0.8, kernel='rbf', gamma=0.5, class_weight={-1:1, 1:10})\n",
    "]\n",
    "titles = 'Linear', 'Linear, Weight=50', 'RBF, Weight=2', 'RBF, Weight=10'"
   ]
  },
  {
   "cell_type": "code",
   "execution_count": 24,
   "metadata": {
    "ExecuteTime": {
     "end_time": "2020-05-27T09:52:28.297524Z",
     "start_time": "2020-05-27T09:52:28.268522Z"
    },
    "collapsed": true
   },
   "outputs": [],
   "source": [
    "x1_min,x1_max=x[:,0].min(),x[:,0].max()\n",
    "x2_min,x2_max=x[:,1].min(),x[:,1].max()\n",
    "x1,x2=np.mgrid[x1_min:x1_max:500j,x2_min:x2_max:500j]\n",
    "grid_test=np.stack((x1.flat,x2.flat),axis=1)"
   ]
  },
  {
   "cell_type": "code",
   "execution_count": 28,
   "metadata": {
    "ExecuteTime": {
     "end_time": "2020-05-27T09:54:28.592404Z",
     "start_time": "2020-05-27T09:54:28.580404Z"
    }
   },
   "outputs": [
    {
     "data": {
      "text/plain": [
       "(250000, 2)"
      ]
     },
     "execution_count": 28,
     "metadata": {},
     "output_type": "execute_result"
    }
   ],
   "source": [
    "grid_test.shape"
   ]
  },
  {
   "cell_type": "code",
   "execution_count": 25,
   "metadata": {
    "ExecuteTime": {
     "end_time": "2020-05-27T09:52:28.930560Z",
     "start_time": "2020-05-27T09:52:28.921559Z"
    },
    "collapsed": true
   },
   "outputs": [],
   "source": [
    "cm_light=matplotlib.colors.ListedColormap(['#A0FFA0','#FFA0A0'])\n",
    "cm_dark=matplotlib.colors.ListedColormap(['g','r'])"
   ]
  },
  {
   "cell_type": "code",
   "execution_count": 31,
   "metadata": {
    "ExecuteTime": {
     "end_time": "2020-05-27T09:58:18.560558Z",
     "start_time": "2020-05-27T09:58:17.748511Z"
    }
   },
   "outputs": [
    {
     "name": "stdout",
     "output_type": "stream",
     "text": [
      "正确率:99.00%\n",
      "recall: 0.00%\n",
      "i : 1\n",
      "正确率：\t 0.99\n",
      " 精度 ：\t 0.0\n",
      "召回率：\t 0.0\n",
      "F1Score：\t 0.0\n",
      "-------------------------------\n",
      "正确率:96.70%\n",
      "recall: 80.00%\n",
      "i : 2\n",
      "正确率：\t 0.967\n",
      " 精度 ：\t 0.205128205128\n",
      "召回率：\t 0.8\n",
      "F1Score：\t 0.326530612245\n",
      "-------------------------------\n"
     ]
    },
    {
     "name": "stderr",
     "output_type": "stream",
     "text": [
      "D:\\ProgramData\\Anaconda3\\lib\\site-packages\\sklearn\\metrics\\classification.py:1135: UndefinedMetricWarning: Precision is ill-defined and being set to 0.0 due to no predicted samples.\n",
      "  'precision', 'predicted', average, warn_for)\n",
      "D:\\ProgramData\\Anaconda3\\lib\\site-packages\\sklearn\\metrics\\classification.py:1135: UndefinedMetricWarning: F-score is ill-defined and being set to 0.0 due to no predicted samples.\n",
      "  'precision', 'predicted', average, warn_for)\n"
     ]
    },
    {
     "name": "stdout",
     "output_type": "stream",
     "text": [
      "正确率:99.40%\n",
      "recall: 100.00%\n",
      "i : 3\n",
      "正确率：\t 0.994\n",
      " 精度 ：\t 0.625\n",
      "召回率：\t 1.0\n",
      "F1Score：\t 0.769230769231\n",
      "-------------------------------\n",
      "正确率:99.40%\n",
      "recall: 100.00%\n",
      "i : 4\n",
      "正确率：\t 0.994\n",
      " 精度 ：\t 0.625\n",
      "召回率：\t 1.0\n",
      "F1Score：\t 0.769230769231\n",
      "-------------------------------\n"
     ]
    }
   ],
   "source": [
    "for i,clf in enumerate(clfs):\n",
    "    clf.fit(x,y)\n",
    "    y_hat=clf.predict(x)\n",
    "    show_accurancy(y_hat, y) # 正确率\n",
    "    show_recall(y, y_hat)   # 召回率\n",
    "    print('i :',i+1)\n",
    "    print ('正确率：\\t', accuracy_score(y, y_hat))\n",
    "    print (' 精度 ：\\t', precision_score(y, y_hat, pos_label=1))\n",
    "    print ('召回率：\\t', recall_score(y, y_hat, pos_label=1))\n",
    "    print ('F1Score：\\t', f1_score(y, y_hat, pos_label=1))\n",
    "    print('-------------------------------')\n",
    "    \n",
    "    plt.subplot(2,2,i+1)\n",
    "    grid_hat=clf.predict(grid_test)\n",
    "    grid_hat=grid_hat.reshape(x1.shape)\n",
    "    plt.pcolormesh(x1,x2,grid_hat,cmap=cm_light,alpha=0.8)\n",
    "    plt.scatter(x[:,0],x[:,1],c=y,edgecolors='k',s=s,cmap=cm_dark)\n",
    "    plt.xlim(x1_min,x1_max)\n",
    "    plt.ylim(x2_min,x2_max)\n",
    "    plt.title(titles[i])\n",
    "plt.suptitle(u'不平衡数据的处理', fontsize=18)\n",
    "plt.tight_layout(1.5)\n",
    "plt.subplots_adjust(top=0.92)\n",
    "# plt.show()    "
   ]
  },
  {
   "cell_type": "code",
   "execution_count": null,
   "metadata": {
    "collapsed": true
   },
   "outputs": [],
   "source": []
  }
 ],
 "metadata": {
  "kernelspec": {
   "display_name": "Python 3",
   "language": "python",
   "name": "python3"
  },
  "language_info": {
   "codemirror_mode": {
    "name": "ipython",
    "version": 3
   },
   "file_extension": ".py",
   "mimetype": "text/x-python",
   "name": "python",
   "nbconvert_exporter": "python",
   "pygments_lexer": "ipython3",
   "version": "3.6.3"
  }
 },
 "nbformat": 4,
 "nbformat_minor": 2
}
