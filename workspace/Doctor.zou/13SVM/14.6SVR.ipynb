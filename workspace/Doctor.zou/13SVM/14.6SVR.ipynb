{
 "cells": [
  {
   "cell_type": "code",
   "execution_count": 4,
   "metadata": {
    "ExecuteTime": {
     "end_time": "2020-06-02T07:45:39.461525Z",
     "start_time": "2020-06-02T07:45:39.453525Z"
    },
    "collapsed": true
   },
   "outputs": [],
   "source": [
    "import numpy as np\n",
    "from sklearn import svm\n",
    "import matplotlib.pyplot as plt"
   ]
  },
  {
   "cell_type": "code",
   "execution_count": 5,
   "metadata": {
    "ExecuteTime": {
     "end_time": "2020-06-02T07:45:40.195567Z",
     "start_time": "2020-06-02T07:45:40.181566Z"
    }
   },
   "outputs": [
    {
     "data": {
      "text/plain": [
       "array([ 0.1127388 ,  0.12131038,  0.36135283,  0.42621635,  0.5227758 ,\n",
       "        0.70964656,  0.77355779,  0.86011972,  1.26229537,  1.58733367,\n",
       "        1.89257011,  2.1570474 ,  2.18226463,  2.30064911,  2.48797164,\n",
       "        2.5419288 ,  2.62219172,  2.62552327,  2.73690199,  2.76887617,\n",
       "        3.13108993,  3.17336952,  3.2692991 ,  3.29288102,  3.40826737,\n",
       "        3.41060369,  3.61658026,  3.67257434,  3.70160398,  3.70581298,\n",
       "        3.83952613,  3.87536468,  4.00060029,  4.02382722,  4.09092179,\n",
       "        4.18578718,  4.2911362 ,  4.64540214,  4.66894051,  4.68317506,\n",
       "        4.75035023,  4.79495139,  4.99571907,  5.22007289,  5.350638  ,\n",
       "        5.55357983,  5.66248847,  5.6680135 ,  5.78197656,  5.87171005])"
      ]
     },
     "execution_count": 5,
     "metadata": {},
     "output_type": "execute_result"
    }
   ],
   "source": [
    "N=50\n",
    "np.random.seed(0)\n",
    "x=np.sort(np.random.uniform(0,6,N),axis=0)\n",
    "x"
   ]
  },
  {
   "cell_type": "code",
   "execution_count": 6,
   "metadata": {
    "ExecuteTime": {
     "end_time": "2020-06-02T07:45:40.816603Z",
     "start_time": "2020-06-02T07:45:40.806602Z"
    },
    "collapsed": true
   },
   "outputs": [],
   "source": [
    "y=2*np.sin(x)+0.1*np.random.randn(N)\n",
    "x=x.reshape(-1,1)"
   ]
  },
  {
   "cell_type": "code",
   "execution_count": 7,
   "metadata": {
    "ExecuteTime": {
     "end_time": "2020-06-02T07:45:41.464640Z",
     "start_time": "2020-06-02T07:45:41.453639Z"
    }
   },
   "outputs": [
    {
     "data": {
      "text/plain": [
       "0.8414709848078965"
      ]
     },
     "execution_count": 7,
     "metadata": {},
     "output_type": "execute_result"
    }
   ],
   "source": [
    "np.sin(1)"
   ]
  },
  {
   "cell_type": "code",
   "execution_count": 8,
   "metadata": {
    "ExecuteTime": {
     "end_time": "2020-06-02T07:45:42.080675Z",
     "start_time": "2020-06-02T07:45:42.069674Z"
    }
   },
   "outputs": [
    {
     "data": {
      "text/plain": [
       "array([ 0.05437325,  0.43710367,  0.65611482,  0.78304981,  0.87329469,\n",
       "        1.38088042,  1.23598022,  1.49456731,  1.81603293,  2.03841677,\n",
       "        1.84627139,  1.54797796,  1.63479377,  1.53337832,  1.22278185,\n",
       "        1.15897721,  0.92928812,  0.95065638,  0.72022281,  0.69233817,\n",
       "       -0.06030957, -0.23617129, -0.23697659, -0.34160192, -0.69007014,\n",
       "       -0.48527812, -1.00538468, -1.00756566, -0.98948253, -1.05661601,\n",
       "       -1.17133143, -1.46283398, -1.47415531, -1.61280243, -1.7131299 ,\n",
       "       -1.78692494, -1.85631003, -1.98989791, -2.11462751, -1.90906396,\n",
       "       -1.95199287, -2.14681169, -1.77143442, -1.55815674, -1.48840245,\n",
       "       -1.35114367, -1.27027958, -1.04875251, -1.00128962, -0.67767925])"
      ]
     },
     "execution_count": 8,
     "metadata": {},
     "output_type": "execute_result"
    }
   ],
   "source": [
    "y"
   ]
  },
  {
   "cell_type": "code",
   "execution_count": 9,
   "metadata": {
    "ExecuteTime": {
     "end_time": "2020-06-02T07:45:44.246799Z",
     "start_time": "2020-06-02T07:45:42.991727Z"
    }
   },
   "outputs": [
    {
     "name": "stdout",
     "output_type": "stream",
     "text": [
      "SVR-RBF\n",
      "SVR-Linear\n",
      "SVR-Polynomial\n",
      "fit Ok\n"
     ]
    }
   ],
   "source": [
    "print('SVR-RBF')\n",
    "svr_rbf=svm.SVR(kernel='rbf',gamma=0.2,C=100)\n",
    "svr_rbf.fit(x,y)\n",
    "print('SVR-Linear')\n",
    "svr_linear=svm.SVR(kernel='linear',C=100)\n",
    "svr_linear.fit(x,y)\n",
    "print('SVR-Polynomial')\n",
    "svr_poly=svm.SVR(kernel='poly',C=100,degree=3)\n",
    "svr_poly.fit(x,y)\n",
    "print('fit Ok')\n"
   ]
  },
  {
   "cell_type": "code",
   "execution_count": 11,
   "metadata": {
    "ExecuteTime": {
     "end_time": "2020-06-02T07:49:07.229409Z",
     "start_time": "2020-06-02T07:49:07.220408Z"
    },
    "collapsed": true
   },
   "outputs": [],
   "source": [
    "x_test=np.linspace(x.min(),1.5*x.max(),100).reshape(-1,1)\n",
    "y_rbf=svr_rbf.predict(x_test)\n",
    "y_linear=svr_linear.predict(x_test)\n",
    "y_poly=svr_poly.predict(x_test)"
   ]
  },
  {
   "cell_type": "code",
   "execution_count": 12,
   "metadata": {
    "ExecuteTime": {
     "end_time": "2020-06-02T07:49:08.206465Z",
     "start_time": "2020-06-02T07:49:08.046455Z"
    }
   },
   "outputs": [
    {
     "data": {
      "image/png": "[encoded data removed]",
      "text/plain": [
       "<matplotlib.figure.Figure at 0x98a9208>"
      ]
     },
     "metadata": {},
     "output_type": "display_data"
    }
   ],
   "source": [
    "plt.plot(x_test, y_rbf, 'r-', linewidth=2, label='RBF')\n",
    "plt.plot(x_test, y_linear, 'g-', linewidth=2, label='Linear')\n",
    "plt.plot(x_test, y_poly, 'b-', linewidth=2, label='poly')\n",
    "plt.plot(x, y, 'mo', markersize=6)\n",
    "plt.scatter(x[svr_rbf.support_],\n",
    "            y[svr_rbf.support_],\n",
    "            s=130,\n",
    "            c='r',\n",
    "            marker='*',\n",
    "            label='RBF SV')\n",
    "plt.title('SVR', fontsize=16)\n",
    "plt.xlabel('X')\n",
    "plt.ylabel('Y')\n",
    "plt.show()"
   ]
  },
  {
   "cell_type": "code",
   "execution_count": null,
   "metadata": {
    "collapsed": true
   },
   "outputs": [],
   "source": []
  }
 ],
 "metadata": {
  "kernelspec": {
   "display_name": "Python 3",
   "language": "python",
   "name": "python3"
  },
  "language_info": {
   "codemirror_mode": {
    "name": "ipython",
    "version": 3
   },
   "file_extension": ".py",
   "mimetype": "text/x-python",
   "name": "python",
   "nbconvert_exporter": "python",
   "pygments_lexer": "ipython3",
   "version": "3.6.3"
  }
 },
 "nbformat": 4,
 "nbformat_minor": 2
}
