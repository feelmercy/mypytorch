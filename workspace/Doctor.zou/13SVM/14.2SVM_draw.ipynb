{
 "cells": [
  {
   "cell_type": "code",
   "execution_count": 1,
   "metadata": {
    "ExecuteTime": {
     "end_time": "2020-05-26T07:08:52.121273Z",
     "start_time": "2020-05-26T07:08:51.640246Z"
    },
    "collapsed": true
   },
   "outputs": [],
   "source": [
    "import numpy as np\n",
    "from sklearn import svm\n",
    "import matplotlib as mpl\n",
    "import matplotlib.colors\n",
    "import matplotlib.pyplot as plt"
   ]
  },
  {
   "cell_type": "code",
   "execution_count": 12,
   "metadata": {
    "ExecuteTime": {
     "end_time": "2020-05-26T08:34:00.332446Z",
     "start_time": "2020-05-26T08:34:00.321446Z"
    },
    "collapsed": true
   },
   "outputs": [],
   "source": [
    "def show_accuracy(a,b):\n",
    "    acc=a.ravel()==b.ravel()\n",
    "    print('accuracy: %.2f%%' % (100*float(acc.sum())/a.size))"
   ]
  },
  {
   "cell_type": "code",
   "execution_count": 13,
   "metadata": {
    "ExecuteTime": {
     "end_time": "2020-05-26T08:34:00.882478Z",
     "start_time": "2020-05-26T08:34:00.873477Z"
    },
    "collapsed": true
   },
   "outputs": [],
   "source": [
    "data=np.loadtxt(r'F:\\study\\ml\\DoctorZou\\14SVM_II\\14.SVM(代码)\\14.SVM\\14.bipartition.txt')"
   ]
  },
  {
   "cell_type": "code",
   "execution_count": 14,
   "metadata": {
    "ExecuteTime": {
     "end_time": "2020-05-26T08:34:01.294501Z",
     "start_time": "2020-05-26T08:34:01.287501Z"
    },
    "collapsed": true
   },
   "outputs": [],
   "source": [
    "x,y=np.split(data,(2,),axis=1)\n",
    "y[y==0]=-1\n",
    "y=y.ravel()"
   ]
  },
  {
   "cell_type": "code",
   "execution_count": 15,
   "metadata": {
    "ExecuteTime": {
     "end_time": "2020-05-26T08:34:01.729526Z",
     "start_time": "2020-05-26T08:34:01.719526Z"
    },
    "collapsed": true
   },
   "outputs": [],
   "source": [
    "clfs = [\n",
    "    svm.SVC(C=0.3, kernel='linear'),\n",
    "    svm.SVC(C=10, kernel='linear'),\n",
    "    svm.SVC(C=5, kernel='rbf', gamma=1),\n",
    "    svm.SVC(C=5, kernel='rbf', gamma=4)\n",
    "]"
   ]
  },
  {
   "cell_type": "code",
   "execution_count": 16,
   "metadata": {
    "ExecuteTime": {
     "end_time": "2020-05-26T08:34:02.153550Z",
     "start_time": "2020-05-26T08:34:02.146550Z"
    },
    "collapsed": true
   },
   "outputs": [],
   "source": [
    "titles = 'Linear,C=0.3', 'Linear, C=10', 'RBF, gamma=1', 'RBF, gamma=4'"
   ]
  },
  {
   "cell_type": "code",
   "execution_count": 17,
   "metadata": {
    "ExecuteTime": {
     "end_time": "2020-05-26T08:34:02.569574Z",
     "start_time": "2020-05-26T08:34:02.545573Z"
    }
   },
   "outputs": [],
   "source": [
    "x1_min,x1_max=x[:,0].min(),x[:,0].max()\n",
    "x2_min,x2_max=x[:,1].min(),x[:,1].max()\n",
    "x1,x2=np.mgrid[x1_min:x1_max:500j,x2_min:x2_max:500j]\n",
    "grid_test=np.stack((x1.flat,x2.flat),axis=1)"
   ]
  },
  {
   "cell_type": "code",
   "execution_count": 18,
   "metadata": {
    "ExecuteTime": {
     "end_time": "2020-05-26T08:34:02.997599Z",
     "start_time": "2020-05-26T08:34:02.990598Z"
    },
    "collapsed": true
   },
   "outputs": [],
   "source": [
    "cm_light = matplotlib.colors.ListedColormap(['#A0FFA0', '#FFA0A0'])\n",
    "cm_dark=matplotlib.colors.ListedColormap(['g','r'])"
   ]
  },
  {
   "cell_type": "code",
   "execution_count": 19,
   "metadata": {
    "ExecuteTime": {
     "end_time": "2020-05-26T08:34:03.468626Z",
     "start_time": "2020-05-26T08:34:03.458625Z"
    }
   },
   "outputs": [
    {
     "data": {
      "text/plain": [
       "(500, 500)"
      ]
     },
     "execution_count": 19,
     "metadata": {},
     "output_type": "execute_result"
    }
   ],
   "source": [
    "x1.shape"
   ]
  },
  {
   "cell_type": "code",
   "execution_count": 25,
   "metadata": {
    "ExecuteTime": {
     "end_time": "2020-05-26T08:37:51.140648Z",
     "start_time": "2020-05-26T08:37:48.876518Z"
    }
   },
   "outputs": [
    {
     "name": "stdout",
     "output_type": "stream",
     "text": [
      "accuracy: 73.00%\n",
      "支撑向量的数目： [37 37]\n",
      "支撑向量的系数： [[-0.3        -0.3        -0.3        -0.3        -0.3        -0.3        -0.3\n",
      "  -0.3        -0.3        -0.3        -0.29815268 -0.3        -0.3        -0.3\n",
      "  -0.3        -0.3        -0.3        -0.3        -0.3        -0.3        -0.3\n",
      "  -0.3        -0.3        -0.3        -0.19648412 -0.3        -0.3        -0.3\n",
      "  -0.3        -0.3        -0.3        -0.3        -0.3        -0.3        -0.3\n",
      "  -0.3        -0.3         0.3         0.3         0.3         0.3         0.3\n",
      "   0.3         0.3         0.3         0.3         0.3         0.3         0.3\n",
      "   0.3         0.3         0.3         0.3         0.3         0.3         0.3\n",
      "   0.3         0.3         0.3         0.3         0.3         0.3         0.3\n",
      "   0.24836591  0.3         0.24627088  0.3         0.3         0.3         0.3\n",
      "   0.3         0.3         0.3         0.3       ]]\n",
      "支撑向量： [ 0  1  2  4  5  6  8 11 12 13 14 15 16 17 18 20 21 22 23 24 25 26 27 28 29\n",
      " 32 33 35 36 37 38 41 42 45 46 47 49 50 51 53 54 56 58 60 61 62 63 64 65 66\n",
      " 69 71 73 74 76 77 78 82 83 84 86 87 88 89 90 91 92 93 94 95 96 97 98 99]\n",
      "accuracy: 73.00%\n",
      "支撑向量的数目： [34 34]\n",
      "支撑向量的系数： [[-10.         -10.         -10.         -10.         -10.         -10.\n",
      "  -10.          -9.67749151 -10.         -10.          -2.2264822  -10.\n",
      "  -10.         -10.         -10.         -10.         -10.         -10.\n",
      "  -10.         -10.         -10.         -10.         -10.         -10.\n",
      "  -10.         -10.         -10.          -7.25513575 -10.          -6.44886902\n",
      "  -10.         -10.         -10.          -9.59205812  10.          10.\n",
      "   10.          10.          10.          10.          10.          10.\n",
      "   10.          10.          10.          10.          10.          10.\n",
      "   10.          10.           0.74279113  10.          10.          10.\n",
      "   10.          10.          10.          10.          10.          10.\n",
      "   10.          10.           4.45724547  10.          10.          10.\n",
      "   10.          10.        ]]\n",
      "支撑向量： [ 0  1  2  4  6  8 11 12 13 15 16 17 18 20 21 22 23 24 25 26 27 28 32 33 35\n",
      " 36 37 38 41 42 45 46 47 49 50 51 53 54 56 58 60 61 62 63 64 65 66 69 71 73\n",
      " 74 76 77 78 82 83 84 86 87 88 90 92 94 95 96 97 98 99]\n",
      "accuracy: 71.00%\n",
      "支撑向量的数目： [33 35]\n",
      "支撑向量的系数： [[-5.         -5.         -5.         -5.         -5.         -5.         -5.\n",
      "  -5.         -3.01127476 -5.         -5.         -5.         -5.         -5.\n",
      "  -5.         -5.         -5.         -5.         -5.         -5.         -5.\n",
      "  -5.         -5.         -5.         -5.         -5.         -5.         -5.\n",
      "  -5.         -0.9413423  -1.30251995 -5.         -4.3849792   5.          5.\n",
      "   5.          5.          3.92742765  5.          5.          0.37846464\n",
      "   5.          5.          5.          5.          5.          5.          5.\n",
      "   5.          5.          5.          5.          5.          0.18648171\n",
      "   0.13867009  5.          5.          5.          5.          5.          5.\n",
      "   0.00907213  5.          5.          5.          5.          5.          5.        ]]\n",
      "支撑向量： [ 0  1  2  4  6  7  8 11 12 13 15 17 18 20 21 22 23 24 25 26 27 28 32 33 35\n",
      " 36 37 41 42 43 46 47 49 50 51 52 53 54 56 58 59 61 63 64 65 66 69 71 73 75\n",
      " 76 77 78 79 81 82 83 84 86 87 88 89 91 92 96 97 98 99]\n",
      "accuracy: 75.00%\n",
      "支撑向量的数目： [36 37]\n",
      "支撑向量的系数： [[-5.         -5.         -5.         -0.67365708 -5.         -5.         -5.\n",
      "  -5.         -1.22170189 -0.07381567 -4.26132192 -5.         -5.         -5.\n",
      "  -1.60035233 -1.35089228 -0.75805339 -5.         -5.         -5.         -5.\n",
      "  -5.         -5.         -5.         -5.         -5.         -0.31964207\n",
      "  -5.         -0.10493636 -5.         -5.         -5.         -5.         -5.\n",
      "  -5.         -3.58631671  5.          5.          1.54560157  5.\n",
      "   4.53715652  5.          4.33791109  1.04141766  5.          5.          5.\n",
      "   4.99783217  0.56131334  5.          0.02432848  5.          5.          5.\n",
      "   5.          1.86916428  0.72216699  5.          5.          0.27405514\n",
      "   0.90114846  0.80843303  5.          5.          5.          5.          5.\n",
      "   2.33016099  5.          5.          5.          5.          5.        ]]\n",
      "支撑向量： [ 0  1  2  3  4  6  7  8  9 10 12 13 14 15 17 19 20 21 22 23 24 25 26 27 28\n",
      " 29 32 33 34 35 36 37 41 42 47 49 50 51 52 53 54 56 58 59 62 63 64 66 68 69\n",
      " 70 71 73 76 77 78 81 83 84 85 86 87 88 89 90 91 92 93 95 96 97 98 99]\n"
     ]
    }
   ],
   "source": [
    "for i, clf in enumerate(clfs):\n",
    "    clf.fit(x, y)\n",
    "    y_hat = clf.predict(x)\n",
    "    show_accuracy(y_hat, y)\n",
    "    print('支撑向量的数目：', clf.n_support_)\n",
    "    print('支撑向量的系数：', clf.dual_coef_)\n",
    "    print('支撑向量：', clf.support_)\n",
    "\n",
    "    plt.subplot(2, 2, i + 1)\n",
    "    grid_hat = clf.predict(grid_test)\n",
    "    grid_hat = grid_hat.reshape(x1.shape)\n",
    "    plt.pcolormesh(x1, x2, grid_hat, cmap=cm_light, alpha=0.8)\n",
    "    plt.scatter(x[:, 0], x[:, 1], c=y, edgecolors='k', s=40, cmap=cm_dark)\n",
    "    plt.scatter(x[clf.support_, 0],\n",
    "                x[clf.support_, 1],\n",
    "                edgecolors='k',\n",
    "                facecolors='none',\n",
    "                s=100,\n",
    "                marker='o')\n",
    "    z = clf.decision_function(grid_test)\n",
    "    z = z.reshape(x1.shape)\n",
    "    plt.contour(x1,\n",
    "                x2,\n",
    "                z,\n",
    "                colors=list('krk'),\n",
    "                linestyles=['--', '-', '--'],\n",
    "                linewidths=[1, 2, 1],\n",
    "                levels=[-1, 0, 1])\n",
    "    plt.xlim(x1_min, x1_max)\n",
    "    plt.ylim(x2_min, x2_max)\n",
    "    plt.title(titles[i])\n",
    "    plt.grid()\n",
    "plt.suptitle(u'SVM不同参数的分类', fontsize=18)\n",
    "plt.tight_layout(2)\n",
    "plt.subplots_adjust(top=0.92)\n",
    "# plt.show()"
   ]
  },
  {
   "cell_type": "code",
   "execution_count": null,
   "metadata": {
    "collapsed": true
   },
   "outputs": [],
   "source": []
  }
 ],
 "metadata": {
  "kernelspec": {
   "display_name": "Python 3",
   "language": "python",
   "name": "python3"
  },
  "language_info": {
   "codemirror_mode": {
    "name": "ipython",
    "version": 3
   },
   "file_extension": ".py",
   "mimetype": "text/x-python",
   "name": "python",
   "nbconvert_exporter": "python",
   "pygments_lexer": "ipython3",
   "version": "3.6.3"
  }
 },
 "nbformat": 4,
 "nbformat_minor": 2
}
