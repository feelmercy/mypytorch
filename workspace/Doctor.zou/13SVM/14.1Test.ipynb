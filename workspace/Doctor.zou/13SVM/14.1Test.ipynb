{
 "cells": [
  {
   "cell_type": "code",
   "execution_count": 57,
   "metadata": {
    "ExecuteTime": {
     "end_time": "2020-06-02T06:42:01.171131Z",
     "start_time": "2020-06-02T06:42:01.159131Z"
    },
    "collapsed": true
   },
   "outputs": [],
   "source": [
    "import numpy as np\n",
    "from sklearn import svm\n",
    "from sklearn.model_selection import train_test_split\n",
    "import matplotlib as mpl\n",
    "import matplotlib.pyplot as plt"
   ]
  },
  {
   "cell_type": "code",
   "execution_count": 58,
   "metadata": {
    "ExecuteTime": {
     "end_time": "2020-06-02T06:42:01.731163Z",
     "start_time": "2020-06-02T06:42:01.723163Z"
    },
    "collapsed": true
   },
   "outputs": [],
   "source": [
    "def iris_type(s):\n",
    "    it = {b'Iris-setosa': 0, b'Iris-versicolor': 1, b'Iris-virginica': 2}\n",
    "    return it[s]"
   ]
  },
  {
   "cell_type": "code",
   "execution_count": 59,
   "metadata": {
    "ExecuteTime": {
     "end_time": "2020-06-02T06:42:01.991178Z",
     "start_time": "2020-06-02T06:42:01.988178Z"
    },
    "collapsed": true
   },
   "outputs": [],
   "source": [
    "iris_feature = u'花萼长度', u'花萼宽度', u'花瓣长度', u'花瓣宽度'"
   ]
  },
  {
   "cell_type": "code",
   "execution_count": 60,
   "metadata": {
    "ExecuteTime": {
     "end_time": "2020-06-02T06:42:02.218191Z",
     "start_time": "2020-06-02T06:42:02.212191Z"
    },
    "collapsed": true
   },
   "outputs": [],
   "source": [
    "def show_accuracy(a,b,tip):\n",
    "    acc=a.ravel()==b.ravel()\n",
    "    print(tip,' accuracy :',100*float(np.mean(acc)))"
   ]
  },
  {
   "cell_type": "code",
   "execution_count": 61,
   "metadata": {
    "ExecuteTime": {
     "end_time": "2020-06-02T06:42:02.451205Z",
     "start_time": "2020-06-02T06:42:02.429203Z"
    },
    "collapsed": true
   },
   "outputs": [],
   "source": [
    "path=r'F:\\study\\ml\\DoctorZou\\08RegressionII\\8.iris.data'\n",
    "data=np.loadtxt(path,dtype=np.float,delimiter=',',converters={4:iris_type})"
   ]
  },
  {
   "cell_type": "code",
   "execution_count": 62,
   "metadata": {
    "ExecuteTime": {
     "end_time": "2020-06-02T06:42:03.062240Z",
     "start_time": "2020-06-02T06:42:03.054239Z"
    },
    "collapsed": true
   },
   "outputs": [],
   "source": [
    "x, y = np.split(data, (4, ), axis=1)\n",
    "x = x[:, :2]\n",
    "x_train, x_test, y_train, y_test = train_test_split(x,\n",
    "                                                    y,\n",
    "                                                    random_state=0,\n",
    "                                                    test_size=0.4)"
   ]
  },
  {
   "cell_type": "code",
   "execution_count": 63,
   "metadata": {
    "ExecuteTime": {
     "end_time": "2020-06-02T06:42:04.407316Z",
     "start_time": "2020-06-02T06:42:04.387315Z"
    }
   },
   "outputs": [
    {
     "data": {
      "text/plain": [
       "0.91111111111111109"
      ]
     },
     "execution_count": 63,
     "metadata": {},
     "output_type": "execute_result"
    }
   ],
   "source": [
    "clf=svm.SVC(C=0.8,kernel='rbf',gamma=20,decision_function_shape='ovo')\n",
    "clf.fit(x_train,y_train.ravel())\n",
    "clf.score(x_train,y_train)"
   ]
  },
  {
   "cell_type": "code",
   "execution_count": 64,
   "metadata": {
    "ExecuteTime": {
     "end_time": "2020-06-02T06:42:05.214363Z",
     "start_time": "2020-06-02T06:42:05.203362Z"
    }
   },
   "outputs": [
    {
     "name": "stdout",
     "output_type": "stream",
     "text": [
      "train data:  accuracy : 91.11111111111111\n"
     ]
    }
   ],
   "source": [
    "y_hat=clf.predict(x_train)\n",
    "show_accuracy(y_hat,y_train,'train data:')"
   ]
  },
  {
   "cell_type": "code",
   "execution_count": 65,
   "metadata": {
    "ExecuteTime": {
     "end_time": "2020-06-02T06:42:05.875400Z",
     "start_time": "2020-06-02T06:42:05.866400Z"
    }
   },
   "outputs": [
    {
     "name": "stdout",
     "output_type": "stream",
     "text": [
      "test data:  accuracy : 70.0\n"
     ]
    }
   ],
   "source": [
    "y_hat=clf.predict(x_test)\n",
    "show_accuracy(y_hat,y_test,'test data:')"
   ]
  },
  {
   "cell_type": "code",
   "execution_count": 34,
   "metadata": {
    "ExecuteTime": {
     "end_time": "2020-05-29T07:33:53.445536Z",
     "start_time": "2020-05-29T07:33:53.050513Z"
    }
   },
   "outputs": [
    {
     "data": {
      "text/plain": [
       "array([[ 0.06376979, -0.04609334, -0.21127064],\n",
       "       [ 0.06726907, -0.04259218, -0.2112687 ],\n",
       "       [ 0.07091291, -0.03894633, -0.21126664],\n",
       "       ..., \n",
       "       [ 0.00437458, -0.10635176, -0.21203512],\n",
       "       [ 0.00437458, -0.10626128, -0.21195535],\n",
       "       [ 0.00437458, -0.10617992, -0.21188364]])"
      ]
     },
     "execution_count": 34,
     "metadata": {},
     "output_type": "execute_result"
    }
   ],
   "source": [
    "x1_min,x1_max=x[:,0].min(),x[:,0].max()\n",
    "x2_min,x2_max=x[:,1].min(),x[:,1].max()\n",
    "x1,x2=np.mgrid[x1_min:x1_max:500j,x2_min:x2_max:500j]\n",
    "grid_test=np.stack((x1.flat,x2.flat),axis=1)\n",
    "Z=clf.decision_function(grid_test)\n",
    "Z"
   ]
  },
  {
   "cell_type": "code",
   "execution_count": 36,
   "metadata": {
    "ExecuteTime": {
     "end_time": "2020-05-29T07:35:07.893794Z",
     "start_time": "2020-05-29T07:35:07.501772Z"
    },
    "collapsed": true
   },
   "outputs": [],
   "source": [
    "grid_hat=clf.predict(grid_test)\n",
    "grid_hat=grid_hat.reshape(x1.shape)"
   ]
  },
  {
   "cell_type": "code",
   "execution_count": 37,
   "metadata": {
    "ExecuteTime": {
     "end_time": "2020-05-29T07:35:26.131837Z",
     "start_time": "2020-05-29T07:35:26.124837Z"
    },
    "collapsed": true
   },
   "outputs": [],
   "source": [
    "cm_light = mpl.colors.ListedColormap(['#A0FFA0', '#FFA0A0', '#A0A0FF'])\n",
    "cm_dark = mpl.colors.ListedColormap(['g', 'r', 'b'])"
   ]
  },
  {
   "cell_type": "code",
   "execution_count": null,
   "metadata": {
    "collapsed": true
   },
   "outputs": [],
   "source": []
  },
  {
   "cell_type": "code",
   "execution_count": 67,
   "metadata": {
    "ExecuteTime": {
     "end_time": "2020-06-02T06:43:06.988896Z",
     "start_time": "2020-06-02T06:43:06.292856Z"
    }
   },
   "outputs": [
    {
     "data": {
      "image/png": "[encoded data removed]",
      "text/plain": [
       "<matplotlib.figure.Figure at 0xd76be48>"
      ]
     },
     "metadata": {},
     "output_type": "display_data"
    }
   ],
   "source": [
    "plt.pcolormesh(x1,x2,grid_hat,cmap=cm_light)\n",
    "plt.scatter(x[:,0],x[:,1],c=y.ravel(),edgecolors='k',s=50,cmap=cm_dark)\n",
    "plt.scatter(x_test[:,0],x_test[:,1],s=100,facecolors='b',zorder=10)\n",
    "plt.xlim(x1_min, x1_max)\n",
    "plt.ylim(x2_min, x2_max)\n",
    "plt.show()"
   ]
  },
  {
   "cell_type": "code",
   "execution_count": null,
   "metadata": {
    "collapsed": true
   },
   "outputs": [],
   "source": []
  }
 ],
 "metadata": {
  "kernelspec": {
   "display_name": "Python 3",
   "language": "python",
   "name": "python3"
  },
  "language_info": {
   "codemirror_mode": {
    "name": "ipython",
    "version": 3
   },
   "file_extension": ".py",
   "mimetype": "text/x-python",
   "name": "python",
   "nbconvert_exporter": "python",
   "pygments_lexer": "ipython3",
   "version": "3.6.3"
  }
 },
 "nbformat": 4,
 "nbformat_minor": 2
}
