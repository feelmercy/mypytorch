{
 "cells": [
  {
   "cell_type": "code",
   "execution_count": 35,
   "metadata": {
    "ExecuteTime": {
     "end_time": "2021-04-23T02:24:01.414609Z",
     "start_time": "2021-04-23T02:24:01.405608Z"
    }
   },
   "outputs": [],
   "source": [
    "import psycopg2\n",
    "import numpy as np\n",
    "import time\n",
    "from io import StringIO\n",
    "import datetime"
   ]
  },
  {
   "cell_type": "code",
   "execution_count": 53,
   "metadata": {
    "ExecuteTime": {
     "end_time": "2021-04-23T02:37:45.883766Z",
     "start_time": "2021-04-23T02:37:45.856764Z"
    },
    "collapsed": true
   },
   "outputs": [],
   "source": [
    "conn = psycopg2.connect(database='wx_test',\n",
    "                        user='postgres',\n",
    "                        password='postgres',\n",
    "                        host='10.9.51.12',\n",
    "                        port='25432')"
   ]
  },
  {
   "cell_type": "code",
   "execution_count": 15,
   "metadata": {
    "ExecuteTime": {
     "end_time": "2021-04-23T02:03:48.698246Z",
     "start_time": "2021-04-23T02:03:48.687245Z"
    }
   },
   "outputs": [
    {
     "data": {
      "text/plain": [
       "1619143428690245"
      ]
     },
     "execution_count": 15,
     "metadata": {},
     "output_type": "execute_result"
    }
   ],
   "source": [
    "int(time.time()*1000*1000)"
   ]
  },
  {
   "cell_type": "code",
   "execution_count": 45,
   "metadata": {
    "ExecuteTime": {
     "end_time": "2021-04-23T02:32:53.570047Z",
     "start_time": "2021-04-23T02:32:53.565046Z"
    }
   },
   "outputs": [],
   "source": [
    "loc_data=np.random.random((10,2))"
   ]
  },
  {
   "cell_type": "code",
   "execution_count": 46,
   "metadata": {
    "ExecuteTime": {
     "end_time": "2021-04-23T02:32:54.087076Z",
     "start_time": "2021-04-23T02:32:54.079076Z"
    }
   },
   "outputs": [
    {
     "data": {
      "text/plain": [
       "10"
      ]
     },
     "execution_count": 46,
     "metadata": {},
     "output_type": "execute_result"
    }
   ],
   "source": [
    "len(loc_data)"
   ]
  },
  {
   "cell_type": "code",
   "execution_count": 50,
   "metadata": {
    "ExecuteTime": {
     "end_time": "2021-04-23T02:37:08.876649Z",
     "start_time": "2021-04-23T02:37:08.860648Z"
    }
   },
   "outputs": [
    {
     "data": {
      "text/plain": [
       "\"insert into wx_tmp2(device_id,loc_time,lon,lat) values (0,'2021-04-23 10:37:08.870649',0.10194301895715652,0.4683243119437316),(1,'2021-04-23 10:37:08.870649',0.05473374549439336,0.4756988070671071),(2,'2021-04-23 10:37:08.870649',0.11008197889816174,0.5473524433108662),(3,'2021-04-23 10:37:08.870649',0.2983354940078906,0.25423338492865954),(4,'2021-04-23 10:37:08.870649',0.1475681375744714,0.31130005688804274),(5,'2021-04-23 10:37:08.870649',0.6302084398571283,0.04181000868638307),(6,'2021-04-23 10:37:08.870649',0.8970805623620361,0.0510290079366611),(7,'2021-04-23 10:37:08.870649',0.189579776664192,0.2199358811620069),(8,'2021-04-23 10:37:08.870649',0.13354044963003076,0.43301480328965003),(9,'2021-04-23 10:37:08.870649',0.012979084282201847,0.6642926005449689);\""
      ]
     },
     "execution_count": 50,
     "metadata": {},
     "output_type": "execute_result"
    }
   ],
   "source": [
    "s=\"insert into wx_tmp2(device_id,loc_time,lon,lat) values \"\n",
    "for i,d in enumerate(loc_data):\n",
    "    t=datetime.datetime.now().strftime(\"%Y-%m-%d %H:%M:%S.%f\")\n",
    "    s+='('+str(i)+','+'\\''+t+'\\''+','+str(d[0])+','+str(d[1])+')'\n",
    "    if i <len(loc_data)-1:\n",
    "        s+=','    \n",
    "s+=';'\n",
    "s"
   ]
  },
  {
   "cell_type": "code",
   "execution_count": 54,
   "metadata": {
    "ExecuteTime": {
     "end_time": "2021-04-23T02:37:49.336963Z",
     "start_time": "2021-04-23T02:37:49.297961Z"
    }
   },
   "outputs": [],
   "source": [
    "curs=conn.cursor()\n",
    "curs.execute(s)\n",
    "conn.commit()\n",
    "curs.close()"
   ]
  },
  {
   "cell_type": "code",
   "execution_count": 40,
   "metadata": {
    "ExecuteTime": {
     "end_time": "2021-04-23T02:26:36.462477Z",
     "start_time": "2021-04-23T02:26:36.447476Z"
    }
   },
   "outputs": [
    {
     "data": {
      "text/plain": [
       "datetime.datetime(2021, 4, 23, 10, 26, 36, 450477)"
      ]
     },
     "execution_count": 40,
     "metadata": {},
     "output_type": "execute_result"
    }
   ],
   "source": [
    "datetime.datetime.now()"
   ]
  },
  {
   "cell_type": "code",
   "execution_count": 43,
   "metadata": {
    "ExecuteTime": {
     "end_time": "2021-04-23T02:27:33.410734Z",
     "start_time": "2021-04-23T02:27:33.400734Z"
    }
   },
   "outputs": [
    {
     "data": {
      "text/plain": [
       "'2021-04-23 10:27:33.402734'"
      ]
     },
     "execution_count": 43,
     "metadata": {},
     "output_type": "execute_result"
    }
   ],
   "source": [
    "datetime.datetime.now().strftime(\"%Y-%m-%d %H:%M:%S.%f\")"
   ]
  },
  {
   "cell_type": "code",
   "execution_count": 60,
   "metadata": {
    "ExecuteTime": {
     "end_time": "2021-04-23T03:16:08.628475Z",
     "start_time": "2021-04-23T03:04:07.529231Z"
    }
   },
   "outputs": [],
   "source": [
    "for i in range(600):\n",
    "    loc_data=np.random.random((5000,2))\n",
    "    s=\"insert into wx_tmp2(device_id,loc_time,lon,lat) values \"\n",
    "    for i,d in enumerate(loc_data):\n",
    "        t=datetime.datetime.now().strftime(\"%Y-%m-%d %H:%M:%S.%f\")\n",
    "        s+='('+str(i)+','+'\\''+t+'\\''+','+str(d[0])+','+str(d[1])+')'\n",
    "        if i <len(loc_data)-1:\n",
    "            s+=','    \n",
    "    s+=';'\n",
    "    curs=conn.cursor()\n",
    "    curs.execute(s)\n",
    "    conn.commit()\n",
    "    time.sleep(1)\n",
    "curs.close()    "
   ]
  },
  {
   "cell_type": "code",
   "execution_count": null,
   "metadata": {
    "collapsed": true
   },
   "outputs": [],
   "source": []
  }
 ],
 "metadata": {
  "kernelspec": {
   "display_name": "Python 3",
   "language": "python",
   "name": "python3"
  },
  "language_info": {
   "codemirror_mode": {
    "name": "ipython",
    "version": 3
   },
   "file_extension": ".py",
   "mimetype": "text/x-python",
   "name": "python",
   "nbconvert_exporter": "python",
   "pygments_lexer": "ipython3",
   "version": "3.6.3"
  }
 },
 "nbformat": 4,
 "nbformat_minor": 2
}
