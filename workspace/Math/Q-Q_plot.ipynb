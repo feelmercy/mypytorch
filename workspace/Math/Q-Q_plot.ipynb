{
 "cells": [
  {
   "cell_type": "code",
   "execution_count": null,
   "metadata": {
    "ExecuteTime": {
     "end_time": "2021-11-24T02:46:34.604642Z",
     "start_time": "2021-11-24T02:46:33.746593Z"
    }
   },
   "outputs": [],
   "source": [
    "import pandas as pd\n",
    "import numpy as np\n",
    "import seaborn as sns\n",
    "from scipy import stats\n",
    "from  scipy.stats import norm ,skew\n",
    "from scipy.stats  import kurtosis\n",
    "import matplotlib.pyplot as plt\n",
    "%matplotlib auto"
   ]
  },
  {
   "cell_type": "code",
   "execution_count": null,
   "metadata": {
    "ExecuteTime": {
     "end_time": "2021-11-24T02:46:34.652645Z",
     "start_time": "2021-11-24T02:46:34.617643Z"
    },
    "collapsed": true
   },
   "outputs": [],
   "source": [
    "train=pd.read_csv('F:\\\\study\\\\ml\\\\DataSet\\\\House_Prices\\\\train.csv')\n",
    "test=pd.read_csv('F:\\\\study\\\\ml\\\\DataSet\\\\House_Prices\\\\test.csv')"
   ]
  },
  {
   "cell_type": "markdown",
   "metadata": {
    "ExecuteTime": {
     "end_time": "2021-11-24T02:41:08.872011Z",
     "start_time": "2021-11-24T02:41:08.864011Z"
    }
   },
   "source": [
    "- original sale price norm,q-q ,skew,kurt"
   ]
  },
  {
   "cell_type": "code",
   "execution_count": 3,
   "metadata": {
    "ExecuteTime": {
     "end_time": "2021-11-24T02:46:56.039868Z",
     "start_time": "2021-11-24T02:46:53.633731Z"
    },
    "collapsed": true
   },
   "outputs": [],
   "source": [
    "plt.subplot(1,2,1)\n",
    "sns.distplot(train.SalePrice,fit=norm)\n",
    "plt.subplot(1,2,2)\n",
    "stats.probplot(train.SalePrice,plot=plt)\n",
    "plt.show()"
   ]
  },
  {
   "cell_type": "code",
   "execution_count": 4,
   "metadata": {
    "ExecuteTime": {
     "end_time": "2021-11-24T02:48:06.146878Z",
     "start_time": "2021-11-24T02:48:06.137878Z"
    }
   },
   "outputs": [
    {
     "name": "stdout",
     "output_type": "stream",
     "text": [
      "skew :  1.8828757597682129  kurt : 6.536281860064529\n"
     ]
    }
   ],
   "source": [
    "print('skew : ',train.SalePrice.skew(),' kurt :',train.SalePrice.kurt())"
   ]
  },
  {
   "cell_type": "markdown",
   "metadata": {},
   "source": [
    "- use box-cox transform"
   ]
  },
  {
   "cell_type": "markdown",
   "metadata": {},
   "source": [
    "- - method 1"
   ]
  },
  {
   "cell_type": "code",
   "execution_count": 5,
   "metadata": {
    "ExecuteTime": {
     "end_time": "2021-11-24T02:50:30.577139Z",
     "start_time": "2021-11-24T02:50:30.537137Z"
    }
   },
   "outputs": [
    {
     "data": {
      "text/plain": [
       "-0.07692396374428875"
      ]
     },
     "execution_count": 5,
     "metadata": {},
     "output_type": "execute_result"
    }
   ],
   "source": [
    "train_saleprice1,lm1=stats.boxcox(train.SalePrice)\n",
    "lm1"
   ]
  },
  {
   "cell_type": "code",
   "execution_count": 20,
   "metadata": {
    "ExecuteTime": {
     "end_time": "2021-11-24T03:28:17.278787Z",
     "start_time": "2021-11-24T03:28:17.155780Z"
    }
   },
   "outputs": [
    {
     "name": "stdout",
     "output_type": "stream",
     "text": [
      "skew :  -0.008644087337450056  kurt : 0.8707599741061314\n"
     ]
    }
   ],
   "source": [
    "plt.subplot(1,2,1)\n",
    "sns.distplot(train_saleprice1,fit=norm)\n",
    "plt.subplot(1,2,2)\n",
    "stats.probplot(train_saleprice1,plot=plt)\n",
    "plt.show()\n",
    "print('skew : ',skew(train_saleprice1),' kurt :',kurtosis(train_saleprice1))"
   ]
  },
  {
   "cell_type": "code",
   "execution_count": 7,
   "metadata": {
    "ExecuteTime": {
     "end_time": "2021-11-24T02:52:58.964626Z",
     "start_time": "2021-11-24T02:52:58.952626Z"
    }
   },
   "outputs": [
    {
     "data": {
      "text/plain": [
       "-0.008644087337450056"
      ]
     },
     "execution_count": 7,
     "metadata": {},
     "output_type": "execute_result"
    }
   ],
   "source": [
    "skew(train_saleprice1)"
   ]
  },
  {
   "cell_type": "code",
   "execution_count": 10,
   "metadata": {
    "ExecuteTime": {
     "end_time": "2021-11-24T02:57:28.181025Z",
     "start_time": "2021-11-24T02:57:28.169024Z"
    }
   },
   "outputs": [
    {
     "data": {
      "text/plain": [
       "0.8707599741061314"
      ]
     },
     "execution_count": 10,
     "metadata": {},
     "output_type": "execute_result"
    }
   ],
   "source": [
    "kurtosis(train_saleprice1)"
   ]
  },
  {
   "cell_type": "markdown",
   "metadata": {
    "ExecuteTime": {
     "end_time": "2021-11-24T03:20:49.036149Z",
     "start_time": "2021-11-24T03:20:49.027148Z"
    }
   },
   "source": [
    "- - method 2"
   ]
  },
  {
   "cell_type": "code",
   "execution_count": 12,
   "metadata": {
    "ExecuteTime": {
     "end_time": "2021-11-24T03:22:43.567700Z",
     "start_time": "2021-11-24T03:22:43.560699Z"
    },
    "collapsed": true
   },
   "outputs": [],
   "source": [
    "from scipy.stats import boxcox_normmax\n",
    "from scipy.special import boxcox1p,boxcox"
   ]
  },
  {
   "cell_type": "code",
   "execution_count": 13,
   "metadata": {
    "ExecuteTime": {
     "end_time": "2021-11-24T03:23:11.592303Z",
     "start_time": "2021-11-24T03:23:11.580302Z"
    }
   },
   "outputs": [
    {
     "data": {
      "text/plain": [
       "-0.05452975605178564"
      ]
     },
     "execution_count": 13,
     "metadata": {},
     "output_type": "execute_result"
    }
   ],
   "source": [
    "lm2=boxcox_normmax(train.SalePrice)\n",
    "lm2"
   ]
  },
  {
   "cell_type": "code",
   "execution_count": 14,
   "metadata": {
    "ExecuteTime": {
     "end_time": "2021-11-24T03:23:58.859006Z",
     "start_time": "2021-11-24T03:23:58.851006Z"
    },
    "collapsed": true
   },
   "outputs": [],
   "source": [
    "train_saleprice2=boxcox(train.SalePrice,lm2)"
   ]
  },
  {
   "cell_type": "code",
   "execution_count": 17,
   "metadata": {
    "ExecuteTime": {
     "end_time": "2021-11-24T03:26:12.323640Z",
     "start_time": "2021-11-24T03:26:12.196633Z"
    }
   },
   "outputs": [
    {
     "name": "stdout",
     "output_type": "stream",
     "text": [
      "skew :  0.029470089587528663  kurt : 0.8437469200005712\n"
     ]
    }
   ],
   "source": [
    "plt.subplot(1,2,1)\n",
    "sns.distplot(train_saleprice2,fit=norm)\n",
    "plt.subplot(1,2,2)\n",
    "stats.probplot(train_saleprice2,plot=plt)\n",
    "plt.show()\n",
    "print('skew : ',skew(train_saleprice2),' kurt :',kurtosis(train_saleprice2))"
   ]
  },
  {
   "cell_type": "code",
   "execution_count": null,
   "metadata": {
    "collapsed": true
   },
   "outputs": [],
   "source": []
  },
  {
   "cell_type": "code",
   "execution_count": null,
   "metadata": {
    "collapsed": true
   },
   "outputs": [],
   "source": []
  }
 ],
 "metadata": {
  "kernelspec": {
   "display_name": "Python 3",
   "language": "python",
   "name": "python3"
  },
  "language_info": {
   "codemirror_mode": {
    "name": "ipython",
    "version": 3
   },
   "file_extension": ".py",
   "mimetype": "text/x-python",
   "name": "python",
   "nbconvert_exporter": "python",
   "pygments_lexer": "ipython3",
   "version": "3.6.3"
  }
 },
 "nbformat": 4,
 "nbformat_minor": 2
}
