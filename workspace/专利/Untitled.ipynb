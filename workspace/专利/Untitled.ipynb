{
 "cells": [
  {
   "cell_type": "code",
   "execution_count": null,
   "metadata": {
    "ExecuteTime": {
     "end_time": "2021-09-16T07:51:40.000641Z",
     "start_time": "2021-09-16T07:51:39.430608Z"
    }
   },
   "outputs": [],
   "source": [
    "import pandas as pd\n",
    "import numpy as np\n",
    "import matplotlib.pyplot as plt\n",
    "%matplotlib auto"
   ]
  },
  {
   "cell_type": "code",
   "execution_count": 2,
   "metadata": {
    "ExecuteTime": {
     "end_time": "2021-09-16T07:51:45.008927Z",
     "start_time": "2021-09-16T07:51:44.995927Z"
    }
   },
   "outputs": [],
   "source": [
    "data=pd.read_csv(r'F:\\study\\workreport\\device_id17263.csv')"
   ]
  },
  {
   "cell_type": "code",
   "execution_count": 3,
   "metadata": {
    "ExecuteTime": {
     "end_time": "2021-09-16T07:51:45.565959Z",
     "start_time": "2021-09-16T07:51:45.531957Z"
    }
   },
   "outputs": [
    {
     "data": {
      "text/html": [
       "<div>\n",
       "<style>\n",
       "    .dataframe thead tr:only-child th {\n",
       "        text-align: right;\n",
       "    }\n",
       "\n",
       "    .dataframe thead th {\n",
       "        text-align: left;\n",
       "    }\n",
       "\n",
       "    .dataframe tbody tr th {\n",
       "        vertical-align: top;\n",
       "    }\n",
       "</style>\n",
       "<table border=\"1\" class=\"dataframe\">\n",
       "  <thead>\n",
       "    <tr style=\"text-align: right;\">\n",
       "      <th></th>\n",
       "      <th>Device_ID</th>\n",
       "      <th>Start_Time</th>\n",
       "      <th>Delta_Value</th>\n",
       "    </tr>\n",
       "  </thead>\n",
       "  <tbody>\n",
       "    <tr>\n",
       "      <th>0</th>\n",
       "      <td>17263</td>\n",
       "      <td>2021/9/14 13:00</td>\n",
       "      <td>0.29</td>\n",
       "    </tr>\n",
       "    <tr>\n",
       "      <th>1</th>\n",
       "      <td>17263</td>\n",
       "      <td>2021/9/14 13:15</td>\n",
       "      <td>0.33</td>\n",
       "    </tr>\n",
       "    <tr>\n",
       "      <th>2</th>\n",
       "      <td>17263</td>\n",
       "      <td>2021/9/14 13:30</td>\n",
       "      <td>0.36</td>\n",
       "    </tr>\n",
       "    <tr>\n",
       "      <th>3</th>\n",
       "      <td>17263</td>\n",
       "      <td>2021/9/14 13:45</td>\n",
       "      <td>0.35</td>\n",
       "    </tr>\n",
       "    <tr>\n",
       "      <th>4</th>\n",
       "      <td>17263</td>\n",
       "      <td>2021/9/14 14:00</td>\n",
       "      <td>0.36</td>\n",
       "    </tr>\n",
       "    <tr>\n",
       "      <th>5</th>\n",
       "      <td>17263</td>\n",
       "      <td>2021/9/14 14:15</td>\n",
       "      <td>0.36</td>\n",
       "    </tr>\n",
       "    <tr>\n",
       "      <th>6</th>\n",
       "      <td>17263</td>\n",
       "      <td>2021/9/14 14:30</td>\n",
       "      <td>0.36</td>\n",
       "    </tr>\n",
       "    <tr>\n",
       "      <th>7</th>\n",
       "      <td>17263</td>\n",
       "      <td>2021/9/14 14:45</td>\n",
       "      <td>0.37</td>\n",
       "    </tr>\n",
       "    <tr>\n",
       "      <th>8</th>\n",
       "      <td>17263</td>\n",
       "      <td>2021/9/14 15:00</td>\n",
       "      <td>0.36</td>\n",
       "    </tr>\n",
       "    <tr>\n",
       "      <th>9</th>\n",
       "      <td>17263</td>\n",
       "      <td>2021/9/14 15:15</td>\n",
       "      <td>0.28</td>\n",
       "    </tr>\n",
       "    <tr>\n",
       "      <th>10</th>\n",
       "      <td>17263</td>\n",
       "      <td>2021/9/14 15:30</td>\n",
       "      <td>0.09</td>\n",
       "    </tr>\n",
       "    <tr>\n",
       "      <th>11</th>\n",
       "      <td>17263</td>\n",
       "      <td>2021/9/14 15:45</td>\n",
       "      <td>0.05</td>\n",
       "    </tr>\n",
       "    <tr>\n",
       "      <th>12</th>\n",
       "      <td>17263</td>\n",
       "      <td>2021/9/14 16:00</td>\n",
       "      <td>0.03</td>\n",
       "    </tr>\n",
       "    <tr>\n",
       "      <th>13</th>\n",
       "      <td>17263</td>\n",
       "      <td>2021/9/14 16:15</td>\n",
       "      <td>0.06</td>\n",
       "    </tr>\n",
       "    <tr>\n",
       "      <th>14</th>\n",
       "      <td>17263</td>\n",
       "      <td>2021/9/14 16:30</td>\n",
       "      <td>0.02</td>\n",
       "    </tr>\n",
       "    <tr>\n",
       "      <th>15</th>\n",
       "      <td>17263</td>\n",
       "      <td>2021/9/14 16:45</td>\n",
       "      <td>0.04</td>\n",
       "    </tr>\n",
       "    <tr>\n",
       "      <th>16</th>\n",
       "      <td>17263</td>\n",
       "      <td>2021/9/14 17:00</td>\n",
       "      <td>0.07</td>\n",
       "    </tr>\n",
       "    <tr>\n",
       "      <th>17</th>\n",
       "      <td>17263</td>\n",
       "      <td>2021/9/14 17:15</td>\n",
       "      <td>0.02</td>\n",
       "    </tr>\n",
       "    <tr>\n",
       "      <th>18</th>\n",
       "      <td>17263</td>\n",
       "      <td>2021/9/14 17:30</td>\n",
       "      <td>0.06</td>\n",
       "    </tr>\n",
       "    <tr>\n",
       "      <th>19</th>\n",
       "      <td>17263</td>\n",
       "      <td>2021/9/14 17:45</td>\n",
       "      <td>0.05</td>\n",
       "    </tr>\n",
       "    <tr>\n",
       "      <th>20</th>\n",
       "      <td>17263</td>\n",
       "      <td>2021/9/14 18:00</td>\n",
       "      <td>0.05</td>\n",
       "    </tr>\n",
       "    <tr>\n",
       "      <th>21</th>\n",
       "      <td>17263</td>\n",
       "      <td>2021/9/14 18:15</td>\n",
       "      <td>0.07</td>\n",
       "    </tr>\n",
       "    <tr>\n",
       "      <th>22</th>\n",
       "      <td>17263</td>\n",
       "      <td>2021/9/14 18:30</td>\n",
       "      <td>0.04</td>\n",
       "    </tr>\n",
       "    <tr>\n",
       "      <th>23</th>\n",
       "      <td>17263</td>\n",
       "      <td>2021/9/14 18:45</td>\n",
       "      <td>0.04</td>\n",
       "    </tr>\n",
       "    <tr>\n",
       "      <th>24</th>\n",
       "      <td>17263</td>\n",
       "      <td>2021/9/14 19:00</td>\n",
       "      <td>0.07</td>\n",
       "    </tr>\n",
       "  </tbody>\n",
       "</table>\n",
       "</div>"
      ],
      "text/plain": [
       "    Device_ID       Start_Time  Delta_Value\n",
       "0       17263  2021/9/14 13:00         0.29\n",
       "1       17263  2021/9/14 13:15         0.33\n",
       "2       17263  2021/9/14 13:30         0.36\n",
       "3       17263  2021/9/14 13:45         0.35\n",
       "4       17263  2021/9/14 14:00         0.36\n",
       "5       17263  2021/9/14 14:15         0.36\n",
       "6       17263  2021/9/14 14:30         0.36\n",
       "7       17263  2021/9/14 14:45         0.37\n",
       "8       17263  2021/9/14 15:00         0.36\n",
       "9       17263  2021/9/14 15:15         0.28\n",
       "10      17263  2021/9/14 15:30         0.09\n",
       "11      17263  2021/9/14 15:45         0.05\n",
       "12      17263  2021/9/14 16:00         0.03\n",
       "13      17263  2021/9/14 16:15         0.06\n",
       "14      17263  2021/9/14 16:30         0.02\n",
       "15      17263  2021/9/14 16:45         0.04\n",
       "16      17263  2021/9/14 17:00         0.07\n",
       "17      17263  2021/9/14 17:15         0.02\n",
       "18      17263  2021/9/14 17:30         0.06\n",
       "19      17263  2021/9/14 17:45         0.05\n",
       "20      17263  2021/9/14 18:00         0.05\n",
       "21      17263  2021/9/14 18:15         0.07\n",
       "22      17263  2021/9/14 18:30         0.04\n",
       "23      17263  2021/9/14 18:45         0.04\n",
       "24      17263  2021/9/14 19:00         0.07"
      ]
     },
     "execution_count": 3,
     "metadata": {},
     "output_type": "execute_result"
    }
   ],
   "source": [
    "data"
   ]
  },
  {
   "cell_type": "code",
   "execution_count": 9,
   "metadata": {
    "ExecuteTime": {
     "end_time": "2021-09-16T08:01:01.180739Z",
     "start_time": "2021-09-16T08:01:01.173738Z"
    }
   },
   "outputs": [],
   "source": [
    "plt.rcParams['font.sans-serif']=['SimHei'] #用来正常显示中文标签\n",
    "plt.rcParams['axes.unicode_minus']=False #用来正常显示负号\n"
   ]
  },
  {
   "cell_type": "code",
   "execution_count": 14,
   "metadata": {
    "ExecuteTime": {
     "end_time": "2021-09-16T08:05:32.490257Z",
     "start_time": "2021-09-16T08:05:32.461255Z"
    }
   },
   "outputs": [],
   "source": [
    "plt.scatter(data['Delta_Value'].values,data['Start_Time'].values,s=60,c='k')\n",
    "plt.xticks(np.arange(0,0.45,0.05))\n",
    "plt.xlabel('kwh')\n",
    "plt.title(u'设备17263用电数据')\n",
    "plt.show()"
   ]
  },
  {
   "cell_type": "code",
   "execution_count": null,
   "metadata": {
    "ExecuteTime": {
     "end_time": "2021-09-16T07:35:30.431185Z",
     "start_time": "2021-09-16T07:35:30.421184Z"
    }
   },
   "outputs": [],
   "source": [
    "data['Delta_Value'].values"
   ]
  },
  {
   "cell_type": "code",
   "execution_count": null,
   "metadata": {
    "ExecuteTime": {
     "end_time": "2021-09-16T07:40:37.312737Z",
     "start_time": "2021-09-16T07:40:37.299737Z"
    }
   },
   "outputs": [],
   "source": [
    "np.arange(0.1,0.5,0.1)"
   ]
  },
  {
   "cell_type": "code",
   "execution_count": null,
   "metadata": {
    "collapsed": true
   },
   "outputs": [],
   "source": [
    "data['Delta_Value'].values"
   ]
  }
 ],
 "metadata": {
  "kernelspec": {
   "display_name": "Python 3",
   "language": "python",
   "name": "python3"
  },
  "language_info": {
   "codemirror_mode": {
    "name": "ipython",
    "version": 3
   },
   "file_extension": ".py",
   "mimetype": "text/x-python",
   "name": "python",
   "nbconvert_exporter": "python",
   "pygments_lexer": "ipython3",
   "version": "3.6.3"
  }
 },
 "nbformat": 4,
 "nbformat_minor": 2
}
