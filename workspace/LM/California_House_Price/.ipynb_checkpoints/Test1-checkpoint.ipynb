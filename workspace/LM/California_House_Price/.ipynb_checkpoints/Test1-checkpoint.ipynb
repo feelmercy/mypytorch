{
 "cells": [
  {
   "cell_type": "code",
   "execution_count": null,
   "metadata": {
    "ExecuteTime": {
     "end_time": "2022-05-11T06:58:54.557592Z",
     "start_time": "2022-05-11T06:58:53.450452Z"
    }
   },
   "outputs": [],
   "source": [
    "import pandas as pd\n",
    "import numpy as np\n",
    "import torch\n",
    "import torchvision\n",
    "from torch import nn,optim\n",
    "import matplotlib.pyplot as plt\n",
    "%matplotlib auto"
   ]
  },
  {
   "cell_type": "code",
   "execution_count": 2,
   "metadata": {
    "ExecuteTime": {
     "end_time": "2022-05-11T06:58:56.571348Z",
     "start_time": "2022-05-11T06:58:55.460707Z"
    },
    "collapsed": true
   },
   "outputs": [],
   "source": [
    "train_data=pd.read_csv(r'F:\\study\\ml\\california-house-prices\\train.csv')\n",
    "test_data=pd.read_csv(r'F:\\study\\ml\\california-house-prices\\test.csv')"
   ]
  },
  {
   "cell_type": "code",
   "execution_count": 3,
   "metadata": {
    "ExecuteTime": {
     "end_time": "2022-05-11T06:58:57.137920Z",
     "start_time": "2022-05-11T06:58:57.124918Z"
    }
   },
   "outputs": [
    {
     "data": {
      "text/plain": [
       "(47439, 41)"
      ]
     },
     "execution_count": 3,
     "metadata": {},
     "output_type": "execute_result"
    }
   ],
   "source": [
    "train_data.shape"
   ]
  },
  {
   "cell_type": "code",
   "execution_count": 4,
   "metadata": {
    "ExecuteTime": {
     "end_time": "2022-05-11T06:58:57.938522Z",
     "start_time": "2022-05-11T06:58:57.925020Z"
    }
   },
   "outputs": [
    {
     "data": {
      "text/plain": [
       "(31626, 40)"
      ]
     },
     "execution_count": 4,
     "metadata": {},
     "output_type": "execute_result"
    }
   ],
   "source": [
    "test_data.shape"
   ]
  },
  {
   "cell_type": "code",
   "execution_count": 5,
   "metadata": {
    "ExecuteTime": {
     "end_time": "2022-05-11T06:58:58.396580Z",
     "start_time": "2022-05-11T06:58:58.341073Z"
    }
   },
   "outputs": [
    {
     "data": {
      "text/html": [
       "<div>\n",
       "<style scoped>\n",
       "    .dataframe tbody tr th:only-of-type {\n",
       "        vertical-align: middle;\n",
       "    }\n",
       "\n",
       "    .dataframe tbody tr th {\n",
       "        vertical-align: top;\n",
       "    }\n",
       "\n",
       "    .dataframe thead th {\n",
       "        text-align: right;\n",
       "    }\n",
       "</style>\n",
       "<table border=\"1\" class=\"dataframe\">\n",
       "  <thead>\n",
       "    <tr style=\"text-align: right;\">\n",
       "      <th></th>\n",
       "      <th>Id</th>\n",
       "      <th>Address</th>\n",
       "      <th>Sold Price</th>\n",
       "      <th>Summary</th>\n",
       "      <th>Type</th>\n",
       "      <th>Year built</th>\n",
       "      <th>Heating</th>\n",
       "      <th>Cooling</th>\n",
       "      <th>Parking</th>\n",
       "      <th>Lot</th>\n",
       "      <th>...</th>\n",
       "      <th>Parking features</th>\n",
       "      <th>Tax assessed value</th>\n",
       "      <th>Annual tax amount</th>\n",
       "      <th>Listed On</th>\n",
       "      <th>Listed Price</th>\n",
       "      <th>Last Sold On</th>\n",
       "      <th>Last Sold Price</th>\n",
       "      <th>City</th>\n",
       "      <th>Zip</th>\n",
       "      <th>State</th>\n",
       "    </tr>\n",
       "  </thead>\n",
       "  <tbody>\n",
       "    <tr>\n",
       "      <th>0</th>\n",
       "      <td>0</td>\n",
       "      <td>540 Pine Ln</td>\n",
       "      <td>3825000.0</td>\n",
       "      <td>540 Pine Ln, Los Altos, CA 94022 is a single f...</td>\n",
       "      <td>SingleFamily</td>\n",
       "      <td>1969.0</td>\n",
       "      <td>Heating - 2+ Zones, Central Forced Air - Gas</td>\n",
       "      <td>Multi-Zone, Central AC, Whole House / Attic Fan</td>\n",
       "      <td>Garage, Garage - Attached, Covered</td>\n",
       "      <td>1.0</td>\n",
       "      <td>...</td>\n",
       "      <td>Garage, Garage - Attached, Covered</td>\n",
       "      <td>886486.0</td>\n",
       "      <td>12580.0</td>\n",
       "      <td>2019-10-24</td>\n",
       "      <td>4198000.0</td>\n",
       "      <td>NaN</td>\n",
       "      <td>NaN</td>\n",
       "      <td>Los Altos</td>\n",
       "      <td>94022</td>\n",
       "      <td>CA</td>\n",
       "    </tr>\n",
       "    <tr>\n",
       "      <th>1</th>\n",
       "      <td>1</td>\n",
       "      <td>1727 W 67th St</td>\n",
       "      <td>505000.0</td>\n",
       "      <td>HURRY, HURRY.......Great house 3 bed and 2 bat...</td>\n",
       "      <td>SingleFamily</td>\n",
       "      <td>1926.0</td>\n",
       "      <td>Combination</td>\n",
       "      <td>Wall/Window Unit(s), Evaporative Cooling, See ...</td>\n",
       "      <td>Detached Carport, Garage</td>\n",
       "      <td>4047.0</td>\n",
       "      <td>...</td>\n",
       "      <td>Detached Carport, Garage</td>\n",
       "      <td>505000.0</td>\n",
       "      <td>6253.0</td>\n",
       "      <td>2019-10-16</td>\n",
       "      <td>525000.0</td>\n",
       "      <td>2019-08-30</td>\n",
       "      <td>328000.0</td>\n",
       "      <td>Los Angeles</td>\n",
       "      <td>90047</td>\n",
       "      <td>CA</td>\n",
       "    </tr>\n",
       "    <tr>\n",
       "      <th>2</th>\n",
       "      <td>2</td>\n",
       "      <td>28093 Pine Ave</td>\n",
       "      <td>140000.0</td>\n",
       "      <td>'THE PERFECT CABIN TO FLIP!  Strawberry deligh...</td>\n",
       "      <td>SingleFamily</td>\n",
       "      <td>1958.0</td>\n",
       "      <td>Forced air</td>\n",
       "      <td>NaN</td>\n",
       "      <td>0 spaces</td>\n",
       "      <td>9147.0</td>\n",
       "      <td>...</td>\n",
       "      <td>NaN</td>\n",
       "      <td>49627.0</td>\n",
       "      <td>468.0</td>\n",
       "      <td>2019-08-25</td>\n",
       "      <td>180000.0</td>\n",
       "      <td>NaN</td>\n",
       "      <td>NaN</td>\n",
       "      <td>Strawberry</td>\n",
       "      <td>95375</td>\n",
       "      <td>CA</td>\n",
       "    </tr>\n",
       "    <tr>\n",
       "      <th>3</th>\n",
       "      <td>3</td>\n",
       "      <td>10750 Braddock Dr</td>\n",
       "      <td>1775000.0</td>\n",
       "      <td>Rare 2-story Gated 5 bedroom Modern Mediterran...</td>\n",
       "      <td>SingleFamily</td>\n",
       "      <td>1947.0</td>\n",
       "      <td>Central</td>\n",
       "      <td>Central Air</td>\n",
       "      <td>Detached Carport, Driveway, Garage - Two Door</td>\n",
       "      <td>NaN</td>\n",
       "      <td>...</td>\n",
       "      <td>Detached Carport, Driveway, Garage - Two Door</td>\n",
       "      <td>1775000.0</td>\n",
       "      <td>20787.0</td>\n",
       "      <td>2019-10-24</td>\n",
       "      <td>1895000.0</td>\n",
       "      <td>2016-08-30</td>\n",
       "      <td>1500000.0</td>\n",
       "      <td>Culver City</td>\n",
       "      <td>90230</td>\n",
       "      <td>CA</td>\n",
       "    </tr>\n",
       "    <tr>\n",
       "      <th>4</th>\n",
       "      <td>4</td>\n",
       "      <td>7415 O Donovan Rd</td>\n",
       "      <td>1175000.0</td>\n",
       "      <td>Beautiful 200 acre ranch land with several pas...</td>\n",
       "      <td>VacantLand</td>\n",
       "      <td>NaN</td>\n",
       "      <td>NaN</td>\n",
       "      <td>NaN</td>\n",
       "      <td>0 spaces</td>\n",
       "      <td>NaN</td>\n",
       "      <td>...</td>\n",
       "      <td>NaN</td>\n",
       "      <td>NaN</td>\n",
       "      <td>NaN</td>\n",
       "      <td>2019-06-07</td>\n",
       "      <td>1595000.0</td>\n",
       "      <td>2016-06-27</td>\n",
       "      <td>900000.0</td>\n",
       "      <td>Creston</td>\n",
       "      <td>93432</td>\n",
       "      <td>CA</td>\n",
       "    </tr>\n",
       "  </tbody>\n",
       "</table>\n",
       "<p>5 rows × 41 columns</p>\n",
       "</div>"
      ],
      "text/plain": [
       "   Id            Address  Sold Price  \\\n",
       "0   0        540 Pine Ln   3825000.0   \n",
       "1   1     1727 W 67th St    505000.0   \n",
       "2   2     28093 Pine Ave    140000.0   \n",
       "3   3  10750 Braddock Dr   1775000.0   \n",
       "4   4  7415 O Donovan Rd   1175000.0   \n",
       "\n",
       "                                             Summary          Type  \\\n",
       "0  540 Pine Ln, Los Altos, CA 94022 is a single f...  SingleFamily   \n",
       "1  HURRY, HURRY.......Great house 3 bed and 2 bat...  SingleFamily   \n",
       "2  'THE PERFECT CABIN TO FLIP!  Strawberry deligh...  SingleFamily   \n",
       "3  Rare 2-story Gated 5 bedroom Modern Mediterran...  SingleFamily   \n",
       "4  Beautiful 200 acre ranch land with several pas...    VacantLand   \n",
       "\n",
       "   Year built                                       Heating  \\\n",
       "0      1969.0  Heating - 2+ Zones, Central Forced Air - Gas   \n",
       "1      1926.0                                   Combination   \n",
       "2      1958.0                                    Forced air   \n",
       "3      1947.0                                       Central   \n",
       "4         NaN                                           NaN   \n",
       "\n",
       "                                             Cooling  \\\n",
       "0    Multi-Zone, Central AC, Whole House / Attic Fan   \n",
       "1  Wall/Window Unit(s), Evaporative Cooling, See ...   \n",
       "2                                                NaN   \n",
       "3                                        Central Air   \n",
       "4                                                NaN   \n",
       "\n",
       "                                         Parking     Lot  ...  \\\n",
       "0             Garage, Garage - Attached, Covered     1.0  ...   \n",
       "1                       Detached Carport, Garage  4047.0  ...   \n",
       "2                                       0 spaces  9147.0  ...   \n",
       "3  Detached Carport, Driveway, Garage - Two Door     NaN  ...   \n",
       "4                                       0 spaces     NaN  ...   \n",
       "\n",
       "                                Parking features  Tax assessed value  \\\n",
       "0             Garage, Garage - Attached, Covered            886486.0   \n",
       "1                       Detached Carport, Garage            505000.0   \n",
       "2                                            NaN             49627.0   \n",
       "3  Detached Carport, Driveway, Garage - Two Door           1775000.0   \n",
       "4                                            NaN                 NaN   \n",
       "\n",
       "   Annual tax amount   Listed On  Listed Price  Last Sold On Last Sold Price  \\\n",
       "0            12580.0  2019-10-24     4198000.0           NaN             NaN   \n",
       "1             6253.0  2019-10-16      525000.0    2019-08-30        328000.0   \n",
       "2              468.0  2019-08-25      180000.0           NaN             NaN   \n",
       "3            20787.0  2019-10-24     1895000.0    2016-08-30       1500000.0   \n",
       "4                NaN  2019-06-07     1595000.0    2016-06-27        900000.0   \n",
       "\n",
       "          City    Zip  State  \n",
       "0    Los Altos  94022     CA  \n",
       "1  Los Angeles  90047     CA  \n",
       "2   Strawberry  95375     CA  \n",
       "3  Culver City  90230     CA  \n",
       "4      Creston  93432     CA  \n",
       "\n",
       "[5 rows x 41 columns]"
      ]
     },
     "execution_count": 5,
     "metadata": {},
     "output_type": "execute_result"
    }
   ],
   "source": [
    "train_data.head()"
   ]
  },
  {
   "cell_type": "code",
   "execution_count": 6,
   "metadata": {
    "ExecuteTime": {
     "end_time": "2022-05-11T06:58:58.876641Z",
     "start_time": "2022-05-11T06:58:58.789130Z"
    }
   },
   "outputs": [],
   "source": [
    "all_features=pd.concat((train_data.iloc[:,1:-1],test_data.iloc[:,1]))"
   ]
  },
  {
   "cell_type": "code",
   "execution_count": 7,
   "metadata": {
    "ExecuteTime": {
     "end_time": "2022-05-11T06:58:59.450714Z",
     "start_time": "2022-05-11T06:58:59.438712Z"
    }
   },
   "outputs": [],
   "source": [
    "numeric_features=all_features.dtypes[all_features.dtypes != 'object'].index"
   ]
  },
  {
   "cell_type": "code",
   "execution_count": 8,
   "metadata": {
    "ExecuteTime": {
     "end_time": "2022-05-11T06:58:59.869267Z",
     "start_time": "2022-05-11T06:58:59.860266Z"
    }
   },
   "outputs": [
    {
     "data": {
      "text/plain": [
       "Index(['Annual tax amount', 'Bathrooms', 'Elementary School Distance',\n",
       "       'Elementary School Score', 'Full bathrooms', 'Garage spaces',\n",
       "       'High School Distance', 'High School Score', 'Last Sold Price',\n",
       "       'Listed Price', 'Lot', 'Middle School Distance', 'Middle School Score',\n",
       "       'Sold Price', 'Tax assessed value', 'Total interior livable area',\n",
       "       'Total spaces', 'Year built', 'Zip'],\n",
       "      dtype='object')"
      ]
     },
     "execution_count": 8,
     "metadata": {},
     "output_type": "execute_result"
    }
   ],
   "source": [
    "numeric_features"
   ]
  },
  {
   "cell_type": "code",
   "execution_count": 9,
   "metadata": {
    "ExecuteTime": {
     "end_time": "2022-05-11T06:59:01.028914Z",
     "start_time": "2022-05-11T06:59:01.015913Z"
    }
   },
   "outputs": [
    {
     "data": {
      "text/plain": [
       "['Annual tax amount',\n",
       " 'Bathrooms',\n",
       " 'Elementary School Distance',\n",
       " 'Elementary School Score',\n",
       " 'Full bathrooms',\n",
       " 'Garage spaces',\n",
       " 'High School Distance',\n",
       " 'High School Score',\n",
       " 'Last Sold Price',\n",
       " 'Listed Price',\n",
       " 'Lot',\n",
       " 'Middle School Distance',\n",
       " 'Middle School Score',\n",
       " 'Sold Price',\n",
       " 'Tax assessed value',\n",
       " 'Total interior livable area',\n",
       " 'Total spaces',\n",
       " 'Year built',\n",
       " 'Zip']"
      ]
     },
     "execution_count": 9,
     "metadata": {},
     "output_type": "execute_result"
    }
   ],
   "source": [
    "numeric_features_name=numeric_features.tolist()\n",
    "numeric_features_name"
   ]
  },
  {
   "cell_type": "code",
   "execution_count": 10,
   "metadata": {
    "ExecuteTime": {
     "end_time": "2022-05-11T06:59:01.611988Z",
     "start_time": "2022-05-11T06:59:01.604987Z"
    },
    "collapsed": true
   },
   "outputs": [],
   "source": [
    "numeric_features_name.remove('Sold Price')"
   ]
  },
  {
   "cell_type": "code",
   "execution_count": 11,
   "metadata": {
    "ExecuteTime": {
     "end_time": "2022-05-11T06:59:02.180060Z",
     "start_time": "2022-05-11T06:59:02.171059Z"
    }
   },
   "outputs": [
    {
     "data": {
      "text/plain": [
       "['Annual tax amount',\n",
       " 'Bathrooms',\n",
       " 'Elementary School Distance',\n",
       " 'Elementary School Score',\n",
       " 'Full bathrooms',\n",
       " 'Garage spaces',\n",
       " 'High School Distance',\n",
       " 'High School Score',\n",
       " 'Last Sold Price',\n",
       " 'Listed Price',\n",
       " 'Lot',\n",
       " 'Middle School Distance',\n",
       " 'Middle School Score',\n",
       " 'Tax assessed value',\n",
       " 'Total interior livable area',\n",
       " 'Total spaces',\n",
       " 'Year built',\n",
       " 'Zip']"
      ]
     },
     "execution_count": 11,
     "metadata": {},
     "output_type": "execute_result"
    }
   ],
   "source": [
    "numeric_features_name"
   ]
  },
  {
   "cell_type": "code",
   "execution_count": 12,
   "metadata": {
    "ExecuteTime": {
     "end_time": "2022-05-11T06:59:02.785637Z",
     "start_time": "2022-05-11T06:59:02.709128Z"
    }
   },
   "outputs": [
    {
     "data": {
      "text/plain": [
       "Annual tax amount              35936\n",
       "Bathrooms                      35091\n",
       "Elementary School Distance     36368\n",
       "Elementary School Score        36522\n",
       "Full bathrooms                 39491\n",
       "Garage spaces                  32543\n",
       "High School Distance           36627\n",
       "High School Score              36845\n",
       "Last Sold Price                49392\n",
       "Listed Price                   31626\n",
       "Lot                            45807\n",
       "Middle School Distance         48330\n",
       "Middle School Score            48331\n",
       "Sold Price                     31626\n",
       "Tax assessed value             35278\n",
       "Total interior livable area    34152\n",
       "Total spaces                   32542\n",
       "Year built                     32671\n",
       "Zip                            31626\n",
       "dtype: int64"
      ]
     },
     "execution_count": 12,
     "metadata": {},
     "output_type": "execute_result"
    }
   ],
   "source": [
    "all_features[numeric_features].isna().sum()"
   ]
  },
  {
   "cell_type": "code",
   "execution_count": 13,
   "metadata": {
    "ExecuteTime": {
     "end_time": "2022-05-11T06:59:03.394215Z",
     "start_time": "2022-05-11T06:59:03.301203Z"
    },
    "collapsed": true
   },
   "outputs": [],
   "source": [
    "all_features[numeric_features_name]=all_features[numeric_features_name].apply(lambda x : (x-x.mean()) / x.std())"
   ]
  },
  {
   "cell_type": "code",
   "execution_count": 14,
   "metadata": {
    "ExecuteTime": {
     "end_time": "2022-05-11T06:59:04.038796Z",
     "start_time": "2022-05-11T06:59:03.996791Z"
    }
   },
   "outputs": [
    {
     "data": {
      "text/plain": [
       "Annual tax amount              1.154834e-16\n",
       "Bathrooms                     -7.522674e-16\n",
       "Elementary School Distance    -1.295063e-14\n",
       "Elementary School Score       -1.860748e-15\n",
       "Full bathrooms                 5.441759e-16\n",
       "Garage spaces                 -6.411489e-18\n",
       "High School Distance          -5.113973e-15\n",
       "High School Score             -2.770104e-15\n",
       "Last Sold Price               -4.286326e-15\n",
       "Listed Price                   7.066880e-17\n",
       "Lot                           -1.141437e-16\n",
       "Middle School Distance        -1.888407e-15\n",
       "Middle School Score            1.745464e-15\n",
       "Tax assessed value             1.565043e-16\n",
       "Total interior livable area    3.484298e-18\n",
       "Total spaces                  -3.626773e-16\n",
       "Year built                     1.295279e-15\n",
       "Zip                            9.063299e-16\n",
       "dtype: float64"
      ]
     },
     "execution_count": 14,
     "metadata": {},
     "output_type": "execute_result"
    }
   ],
   "source": [
    "all_features[numeric_features_name].mean()"
   ]
  },
  {
   "cell_type": "code",
   "execution_count": 15,
   "metadata": {
    "ExecuteTime": {
     "end_time": "2022-05-11T06:59:04.658875Z",
     "start_time": "2022-05-11T06:59:04.588866Z"
    },
    "collapsed": true
   },
   "outputs": [],
   "source": [
    "all_features[numeric_features_name]=all_features[numeric_features_name].fillna(all_features[numeric_features_name].mean())"
   ]
  },
  {
   "cell_type": "code",
   "execution_count": 16,
   "metadata": {
    "ExecuteTime": {
     "end_time": "2022-05-11T06:59:05.259951Z",
     "start_time": "2022-05-11T06:59:05.253451Z"
    },
    "collapsed": true
   },
   "outputs": [],
   "source": [
    "n_train=train_data.shape[0]"
   ]
  },
  {
   "cell_type": "code",
   "execution_count": 17,
   "metadata": {
    "ExecuteTime": {
     "end_time": "2022-05-11T06:59:05.752514Z",
     "start_time": "2022-05-11T06:59:05.725511Z"
    }
   },
   "outputs": [
    {
     "data": {
      "text/html": [
       "<div>\n",
       "<style scoped>\n",
       "    .dataframe tbody tr th:only-of-type {\n",
       "        vertical-align: middle;\n",
       "    }\n",
       "\n",
       "    .dataframe tbody tr th {\n",
       "        vertical-align: top;\n",
       "    }\n",
       "\n",
       "    .dataframe thead th {\n",
       "        text-align: right;\n",
       "    }\n",
       "</style>\n",
       "<table border=\"1\" class=\"dataframe\">\n",
       "  <thead>\n",
       "    <tr style=\"text-align: right;\">\n",
       "      <th></th>\n",
       "      <th>0</th>\n",
       "      <th>Address</th>\n",
       "      <th>Annual tax amount</th>\n",
       "      <th>Appliances included</th>\n",
       "      <th>Bathrooms</th>\n",
       "      <th>Bedrooms</th>\n",
       "      <th>City</th>\n",
       "      <th>Cooling</th>\n",
       "      <th>Cooling features</th>\n",
       "      <th>Elementary School</th>\n",
       "      <th>...</th>\n",
       "      <th>Parking features</th>\n",
       "      <th>Region</th>\n",
       "      <th>Sold Price</th>\n",
       "      <th>Summary</th>\n",
       "      <th>Tax assessed value</th>\n",
       "      <th>Total interior livable area</th>\n",
       "      <th>Total spaces</th>\n",
       "      <th>Type</th>\n",
       "      <th>Year built</th>\n",
       "      <th>Zip</th>\n",
       "    </tr>\n",
       "  </thead>\n",
       "  <tbody>\n",
       "    <tr>\n",
       "      <th>0</th>\n",
       "      <td>NaN</td>\n",
       "      <td>540 Pine Ln</td>\n",
       "      <td>1.889303e-01</td>\n",
       "      <td>Dishwasher, Dryer, Garbage disposal, Microwave...</td>\n",
       "      <td>-1.981522e+00</td>\n",
       "      <td>Ground Floor Bedroom, Master Bedroom on Ground...</td>\n",
       "      <td>Los Altos</td>\n",
       "      <td>Multi-Zone, Central AC, Whole House / Attic Fan</td>\n",
       "      <td>Central</td>\n",
       "      <td>Santa Rita Elementary School</td>\n",
       "      <td>...</td>\n",
       "      <td>Garage, Garage - Attached, Covered</td>\n",
       "      <td>Los Altos</td>\n",
       "      <td>3825000.0</td>\n",
       "      <td>540 Pine Ln, Los Altos, CA 94022 is a single f...</td>\n",
       "      <td>8.652149e-02</td>\n",
       "      <td>-6.935771e-03</td>\n",
       "      <td>-1.738998e-01</td>\n",
       "      <td>SingleFamily</td>\n",
       "      <td>8.480730e-02</td>\n",
       "      <td>0.328180</td>\n",
       "    </tr>\n",
       "    <tr>\n",
       "      <th>1</th>\n",
       "      <td>NaN</td>\n",
       "      <td>1727 W 67th St</td>\n",
       "      <td>-2.667658e-01</td>\n",
       "      <td>NaN</td>\n",
       "      <td>-2.991593e-01</td>\n",
       "      <td>3</td>\n",
       "      <td>Los Angeles</td>\n",
       "      <td>Wall/Window Unit(s), Evaporative Cooling, See ...</td>\n",
       "      <td>Wall/Window Unit(s), Evaporative Cooling, See ...</td>\n",
       "      <td>Raymond Avenue Elementary School</td>\n",
       "      <td>...</td>\n",
       "      <td>Detached Carport, Garage</td>\n",
       "      <td>Los Angeles</td>\n",
       "      <td>505000.0</td>\n",
       "      <td>HURRY, HURRY.......Great house 3 bed and 2 bat...</td>\n",
       "      <td>-2.429718e-01</td>\n",
       "      <td>-5.889444e-03</td>\n",
       "      <td>-6.293187e-02</td>\n",
       "      <td>SingleFamily</td>\n",
       "      <td>-2.101123e-01</td>\n",
       "      <td>-1.427982</td>\n",
       "    </tr>\n",
       "    <tr>\n",
       "      <th>2</th>\n",
       "      <td>NaN</td>\n",
       "      <td>28093 Pine Ave</td>\n",
       "      <td>-6.834248e-01</td>\n",
       "      <td>NaN</td>\n",
       "      <td>5.420218e-01</td>\n",
       "      <td>2</td>\n",
       "      <td>Strawberry</td>\n",
       "      <td>NaN</td>\n",
       "      <td>NaN</td>\n",
       "      <td>NaN</td>\n",
       "      <td>...</td>\n",
       "      <td>NaN</td>\n",
       "      <td>Strawberry</td>\n",
       "      <td>140000.0</td>\n",
       "      <td>'THE PERFECT CABIN TO FLIP!  Strawberry deligh...</td>\n",
       "      <td>-6.362820e-01</td>\n",
       "      <td>-5.553082e-03</td>\n",
       "      <td>-1.738998e-01</td>\n",
       "      <td>SingleFamily</td>\n",
       "      <td>9.362749e-03</td>\n",
       "      <td>0.925937</td>\n",
       "    </tr>\n",
       "    <tr>\n",
       "      <th>3</th>\n",
       "      <td>NaN</td>\n",
       "      <td>10750 Braddock Dr</td>\n",
       "      <td>7.800315e-01</td>\n",
       "      <td>Dishwasher</td>\n",
       "      <td>5.420218e-01</td>\n",
       "      <td>5</td>\n",
       "      <td>Culver City</td>\n",
       "      <td>Central Air</td>\n",
       "      <td>Central Air</td>\n",
       "      <td>Farragut Elementary School</td>\n",
       "      <td>...</td>\n",
       "      <td>Detached Carport, Driveway, Garage - Two Door</td>\n",
       "      <td>Culver City</td>\n",
       "      <td>1775000.0</td>\n",
       "      <td>Rare 2-story Gated 5 bedroom Modern Mediterran...</td>\n",
       "      <td>8.539399e-01</td>\n",
       "      <td>-3.799194e-03</td>\n",
       "      <td>-1.738998e-01</td>\n",
       "      <td>SingleFamily</td>\n",
       "      <td>-6.608180e-02</td>\n",
       "      <td>-1.347132</td>\n",
       "    </tr>\n",
       "    <tr>\n",
       "      <th>4</th>\n",
       "      <td>NaN</td>\n",
       "      <td>7415 O Donovan Rd</td>\n",
       "      <td>1.154834e-16</td>\n",
       "      <td>NaN</td>\n",
       "      <td>-7.522674e-16</td>\n",
       "      <td>NaN</td>\n",
       "      <td>Creston</td>\n",
       "      <td>NaN</td>\n",
       "      <td>NaN</td>\n",
       "      <td>Santa Margarita Elementary School</td>\n",
       "      <td>...</td>\n",
       "      <td>NaN</td>\n",
       "      <td>Creston</td>\n",
       "      <td>1175000.0</td>\n",
       "      <td>Beautiful 200 acre ranch land with several pas...</td>\n",
       "      <td>1.565043e-16</td>\n",
       "      <td>3.484298e-18</td>\n",
       "      <td>-3.626773e-16</td>\n",
       "      <td>VacantLand</td>\n",
       "      <td>1.295279e-15</td>\n",
       "      <td>0.067517</td>\n",
       "    </tr>\n",
       "  </tbody>\n",
       "</table>\n",
       "<p>5 rows × 40 columns</p>\n",
       "</div>"
      ],
      "text/plain": [
       "     0            Address  Annual tax amount  \\\n",
       "0  NaN        540 Pine Ln       1.889303e-01   \n",
       "1  NaN     1727 W 67th St      -2.667658e-01   \n",
       "2  NaN     28093 Pine Ave      -6.834248e-01   \n",
       "3  NaN  10750 Braddock Dr       7.800315e-01   \n",
       "4  NaN  7415 O Donovan Rd       1.154834e-16   \n",
       "\n",
       "                                 Appliances included     Bathrooms  \\\n",
       "0  Dishwasher, Dryer, Garbage disposal, Microwave... -1.981522e+00   \n",
       "1                                                NaN -2.991593e-01   \n",
       "2                                                NaN  5.420218e-01   \n",
       "3                                         Dishwasher  5.420218e-01   \n",
       "4                                                NaN -7.522674e-16   \n",
       "\n",
       "                                            Bedrooms         City  \\\n",
       "0  Ground Floor Bedroom, Master Bedroom on Ground...    Los Altos   \n",
       "1                                                  3  Los Angeles   \n",
       "2                                                  2   Strawberry   \n",
       "3                                                  5  Culver City   \n",
       "4                                                NaN      Creston   \n",
       "\n",
       "                                             Cooling  \\\n",
       "0    Multi-Zone, Central AC, Whole House / Attic Fan   \n",
       "1  Wall/Window Unit(s), Evaporative Cooling, See ...   \n",
       "2                                                NaN   \n",
       "3                                        Central Air   \n",
       "4                                                NaN   \n",
       "\n",
       "                                    Cooling features  \\\n",
       "0                                            Central   \n",
       "1  Wall/Window Unit(s), Evaporative Cooling, See ...   \n",
       "2                                                NaN   \n",
       "3                                        Central Air   \n",
       "4                                                NaN   \n",
       "\n",
       "                   Elementary School  ...  \\\n",
       "0       Santa Rita Elementary School  ...   \n",
       "1   Raymond Avenue Elementary School  ...   \n",
       "2                                NaN  ...   \n",
       "3         Farragut Elementary School  ...   \n",
       "4  Santa Margarita Elementary School  ...   \n",
       "\n",
       "                                Parking features       Region Sold Price  \\\n",
       "0             Garage, Garage - Attached, Covered    Los Altos  3825000.0   \n",
       "1                       Detached Carport, Garage  Los Angeles   505000.0   \n",
       "2                                            NaN   Strawberry   140000.0   \n",
       "3  Detached Carport, Driveway, Garage - Two Door  Culver City  1775000.0   \n",
       "4                                            NaN      Creston  1175000.0   \n",
       "\n",
       "                                             Summary  Tax assessed value  \\\n",
       "0  540 Pine Ln, Los Altos, CA 94022 is a single f...        8.652149e-02   \n",
       "1  HURRY, HURRY.......Great house 3 bed and 2 bat...       -2.429718e-01   \n",
       "2  'THE PERFECT CABIN TO FLIP!  Strawberry deligh...       -6.362820e-01   \n",
       "3  Rare 2-story Gated 5 bedroom Modern Mediterran...        8.539399e-01   \n",
       "4  Beautiful 200 acre ranch land with several pas...        1.565043e-16   \n",
       "\n",
       "  Total interior livable area  Total spaces          Type    Year built  \\\n",
       "0               -6.935771e-03 -1.738998e-01  SingleFamily  8.480730e-02   \n",
       "1               -5.889444e-03 -6.293187e-02  SingleFamily -2.101123e-01   \n",
       "2               -5.553082e-03 -1.738998e-01  SingleFamily  9.362749e-03   \n",
       "3               -3.799194e-03 -1.738998e-01  SingleFamily -6.608180e-02   \n",
       "4                3.484298e-18 -3.626773e-16    VacantLand  1.295279e-15   \n",
       "\n",
       "        Zip  \n",
       "0  0.328180  \n",
       "1 -1.427982  \n",
       "2  0.925937  \n",
       "3 -1.347132  \n",
       "4  0.067517  \n",
       "\n",
       "[5 rows x 40 columns]"
      ]
     },
     "execution_count": 17,
     "metadata": {},
     "output_type": "execute_result"
    }
   ],
   "source": [
    "all_features.head()"
   ]
  },
  {
   "cell_type": "code",
   "execution_count": 19,
   "metadata": {
    "ExecuteTime": {
     "end_time": "2022-05-11T06:59:29.971089Z",
     "start_time": "2022-05-11T06:59:29.918083Z"
    }
   },
   "outputs": [],
   "source": [
    "train_features=torch.Tensor(all_features[numeric_features_name].iloc[:n_train].values)\n",
    "test_features=torch.Tensor(all_features[numeric_features_name].iloc[n_train].values)\n",
    "train_labels=torch.Tensor(train_data['Sold Price'])"
   ]
  },
  {
   "cell_type": "code",
   "execution_count": 47,
   "metadata": {
    "ExecuteTime": {
     "end_time": "2022-05-11T10:07:21.764425Z",
     "start_time": "2022-05-11T10:07:21.758425Z"
    },
    "collapsed": true
   },
   "outputs": [],
   "source": [
    "loss=nn.MSELoss()"
   ]
  },
  {
   "cell_type": "code",
   "execution_count": 48,
   "metadata": {
    "ExecuteTime": {
     "end_time": "2022-05-11T10:07:22.009957Z",
     "start_time": "2022-05-11T10:07:21.997955Z"
    },
    "collapsed": true
   },
   "outputs": [],
   "source": [
    "def log_rmse(net,features,labels):\n",
    "    with torch.no_grad():\n",
    "        clipped_pred=torch.max(net(features),torch.Tensor([1.]))\n",
    "        rmse=torch.sqrt(2*(loss(clipped_pred.log(),labels.log())).mean())\n",
    "    return rmse.item()"
   ]
  },
  {
   "cell_type": "code",
   "execution_count": 49,
   "metadata": {
    "ExecuteTime": {
     "end_time": "2022-05-11T10:07:22.233985Z",
     "start_time": "2022-05-11T10:07:22.214483Z"
    },
    "collapsed": true
   },
   "outputs": [],
   "source": [
    "def train(net,train_features,train_labels,test_features,\n",
    "         test_labels,num_epochs,lr,weight_decay,batch_size):\n",
    "    train_l,test_l=[],[]\n",
    "    dataset=torch.utils.data.TensorDataset(train_features,train_labels)\n",
    "    train_iter=torch.utils.data.DataLoader(dataset,batch_size,shuffle=True)\n",
    "    optimizer=optim.Adam(net.parameters(),lr,weight_decay=weight_decay)\n",
    "    loss=nn.MSELoss()\n",
    "    \n",
    "    for i in range(num_epochs):\n",
    "        for x,y in train_iter:\n",
    "            l=loss(net(x),y)\n",
    "            optimizer.zero_grad()\n",
    "            l.backward()\n",
    "            optimizer.step()\n",
    "        train_l.append(log_rmse(net,train_features,train_labels))\n",
    "        if test_labels is not None:\n",
    "            test_l.append(log_rmse(net,test_features,test_labels))\n",
    "    return train_l,test_labels"
   ]
  },
  {
   "cell_type": "code",
   "execution_count": 50,
   "metadata": {
    "ExecuteTime": {
     "end_time": "2022-05-11T10:07:22.444012Z",
     "start_time": "2022-05-11T10:07:22.408007Z"
    },
    "collapsed": true
   },
   "outputs": [],
   "source": [
    "def get_k_fold_data(k,i,x,y):\n",
    "    assert k>1\n",
    "    fold_size=x.shape[0]//k\n",
    "    x_train,y_train=None,None\n",
    "    data_idx=list(range(x.shape[0]))\n",
    "    np.random.shuffle(data_idx)\n",
    "    for j in range(k):\n",
    "        idx=slice(j*fold_size,(j+1) * fold_size)\n",
    "        x_part,y_part=x[data_idx[idx],:],y[data_idx[idx]]\n",
    "        \n",
    "        if j==i:\n",
    "            x_valid,y_valid=x_part,y_part\n",
    "        elif x_train is None:\n",
    "            x_train,y_train=x_part,y_part\n",
    "        else:\n",
    "            x_train=torch.cat((x_train,x_part))\n",
    "            y_train=torch.cat((y_train,y_part))\n",
    "    return x_train,y_train,x_valid,y_valid"
   ]
  },
  {
   "cell_type": "code",
   "execution_count": 51,
   "metadata": {
    "ExecuteTime": {
     "end_time": "2022-05-11T10:07:22.644537Z",
     "start_time": "2022-05-11T10:07:22.627535Z"
    },
    "collapsed": true
   },
   "outputs": [],
   "source": [
    "def k_fold(k,x_train,y_train,num_epochs,lr,weight_decay,batch_size):\n",
    "    train_l_sum,valid_l_sum=0,0\n",
    "    for i in range(k):\n",
    "        data=get_k_fold_data(k,i,x_train,y_train)\n",
    "        net=get_net(x_train.shape[1])\n",
    "        train_l,valid_l=train(net,*data,num_epochs,lr,weight_decay,batch_size)\n",
    "        train_l_sum+=train_l[-1]\n",
    "        valid_l_sum+=valid_l[-1]\n",
    "        \n",
    "        print('fold %d,train rmse %f,valid %f'  % (\n",
    "        i+1,train_l[-1],valid_l[-1]))\n",
    "    return train_l_sum,valid_l_sum"
   ]
  },
  {
   "cell_type": "code",
   "execution_count": 52,
   "metadata": {
    "ExecuteTime": {
     "end_time": "2022-05-11T10:07:23.110596Z",
     "start_time": "2022-05-11T10:07:23.103595Z"
    },
    "collapsed": true
   },
   "outputs": [],
   "source": [
    "k,num_epochs,lr,weight_decay,batch_size=5,100,5,0,64"
   ]
  },
  {
   "cell_type": "code",
   "execution_count": 53,
   "metadata": {
    "ExecuteTime": {
     "end_time": "2022-05-11T10:07:23.730175Z",
     "start_time": "2022-05-11T10:07:23.719174Z"
    },
    "collapsed": true
   },
   "outputs": [],
   "source": [
    "def get_net(feature_num):\n",
    "    net=nn.Sequential(nn.Linear(feature_num,128),nn.ReLU(),nn.Linear(128,1))\n",
    "    return net"
   ]
  },
  {
   "cell_type": "code",
   "execution_count": 54,
   "metadata": {
    "ExecuteTime": {
     "end_time": "2022-05-11T10:07:25.399887Z",
     "start_time": "2022-05-11T10:07:24.417762Z"
    }
   },
   "outputs": [
    {
     "name": "stderr",
     "output_type": "stream",
     "text": [
      "D:\\ProgramData\\Anaconda3\\lib\\site-packages\\torch\\nn\\modules\\loss.py:445: UserWarning: Using a target size (torch.Size([64])) that is different to the input size (torch.Size([64, 1])). This will likely lead to incorrect results due to broadcasting. Please ensure they have the same size.\n",
      "  return F.mse_loss(input, target, reduction=self.reduction)\n",
      "D:\\ProgramData\\Anaconda3\\lib\\site-packages\\torch\\nn\\modules\\loss.py:445: UserWarning: Using a target size (torch.Size([60])) that is different to the input size (torch.Size([60, 1])). This will likely lead to incorrect results due to broadcasting. Please ensure they have the same size.\n",
      "  return F.mse_loss(input, target, reduction=self.reduction)\n",
      "D:\\ProgramData\\Anaconda3\\lib\\site-packages\\torch\\nn\\modules\\loss.py:445: UserWarning: Using a target size (torch.Size([37948])) that is different to the input size (torch.Size([37948, 1])). This will likely lead to incorrect results due to broadcasting. Please ensure they have the same size.\n",
      "  return F.mse_loss(input, target, reduction=self.reduction)\n"
     ]
    },
    {
     "ename": "RuntimeError",
     "evalue": "[enforce fail at ..\\c10\\core\\CPUAllocator.cpp:72] data. DefaultCPUAllocator: not enough memory: you tried to allocate 5760202816 bytes. Buy new RAM!",
     "output_type": "error",
     "traceback": [
      "\u001b[1;31m---------------------------------------------------------------------------\u001b[0m",
      "\u001b[1;31mRuntimeError\u001b[0m                              Traceback (most recent call last)",
      "\u001b[1;32m<ipython-input-54-51ff512429b6>\u001b[0m in \u001b[0;36m<module>\u001b[1;34m()\u001b[0m\n\u001b[0;32m      1\u001b[0m \u001b[1;31m# net=nn.Sequential(nn.Linear(train_features.shape[1],128),nn.ReLU(),nn.Linear(128,1))\u001b[0m\u001b[1;33m\u001b[0m\u001b[1;33m\u001b[0m\u001b[0m\n\u001b[0;32m      2\u001b[0m train_l_sum,valid_l_sum=k_fold(k,train_features,train_labels,num_epochs,\n\u001b[1;32m----> 3\u001b[1;33m                           lr,weight_decay,batch_size)\n\u001b[0m\u001b[0;32m      4\u001b[0m print('%d fold validation : avg train rmse %f, avg valid rmse %f' % (\n\u001b[0;32m      5\u001b[0m k,train_l_sum/k,valid_l_sum/k))\n",
      "\u001b[1;32m<ipython-input-51-b6cc28c2ac72>\u001b[0m in \u001b[0;36mk_fold\u001b[1;34m(k, x_train, y_train, num_epochs, lr, weight_decay, batch_size)\u001b[0m\n\u001b[0;32m      4\u001b[0m         \u001b[0mdata\u001b[0m\u001b[1;33m=\u001b[0m\u001b[0mget_k_fold_data\u001b[0m\u001b[1;33m(\u001b[0m\u001b[0mk\u001b[0m\u001b[1;33m,\u001b[0m\u001b[0mi\u001b[0m\u001b[1;33m,\u001b[0m\u001b[0mx_train\u001b[0m\u001b[1;33m,\u001b[0m\u001b[0my_train\u001b[0m\u001b[1;33m)\u001b[0m\u001b[1;33m\u001b[0m\u001b[0m\n\u001b[0;32m      5\u001b[0m         \u001b[0mnet\u001b[0m\u001b[1;33m=\u001b[0m\u001b[0mget_net\u001b[0m\u001b[1;33m(\u001b[0m\u001b[0mx_train\u001b[0m\u001b[1;33m.\u001b[0m\u001b[0mshape\u001b[0m\u001b[1;33m[\u001b[0m\u001b[1;36m1\u001b[0m\u001b[1;33m]\u001b[0m\u001b[1;33m)\u001b[0m\u001b[1;33m\u001b[0m\u001b[0m\n\u001b[1;32m----> 6\u001b[1;33m         \u001b[0mtrain_l\u001b[0m\u001b[1;33m,\u001b[0m\u001b[0mvalid_l\u001b[0m\u001b[1;33m=\u001b[0m\u001b[0mtrain\u001b[0m\u001b[1;33m(\u001b[0m\u001b[0mnet\u001b[0m\u001b[1;33m,\u001b[0m\u001b[1;33m*\u001b[0m\u001b[0mdata\u001b[0m\u001b[1;33m,\u001b[0m\u001b[0mnum_epochs\u001b[0m\u001b[1;33m,\u001b[0m\u001b[0mlr\u001b[0m\u001b[1;33m,\u001b[0m\u001b[0mweight_decay\u001b[0m\u001b[1;33m,\u001b[0m\u001b[0mbatch_size\u001b[0m\u001b[1;33m)\u001b[0m\u001b[1;33m\u001b[0m\u001b[0m\n\u001b[0m\u001b[0;32m      7\u001b[0m         \u001b[0mtrain_l_sum\u001b[0m\u001b[1;33m+=\u001b[0m\u001b[0mtrain_l\u001b[0m\u001b[1;33m[\u001b[0m\u001b[1;33m-\u001b[0m\u001b[1;36m1\u001b[0m\u001b[1;33m]\u001b[0m\u001b[1;33m\u001b[0m\u001b[0m\n\u001b[0;32m      8\u001b[0m         \u001b[0mvalid_l_sum\u001b[0m\u001b[1;33m+=\u001b[0m\u001b[0mvalid_l\u001b[0m\u001b[1;33m[\u001b[0m\u001b[1;33m-\u001b[0m\u001b[1;36m1\u001b[0m\u001b[1;33m]\u001b[0m\u001b[1;33m\u001b[0m\u001b[0m\n",
      "\u001b[1;32m<ipython-input-49-a59767d161b2>\u001b[0m in \u001b[0;36mtrain\u001b[1;34m(net, train_features, train_labels, test_features, test_labels, num_epochs, lr, weight_decay, batch_size)\u001b[0m\n\u001b[0;32m     13\u001b[0m             \u001b[0ml\u001b[0m\u001b[1;33m.\u001b[0m\u001b[0mbackward\u001b[0m\u001b[1;33m(\u001b[0m\u001b[1;33m)\u001b[0m\u001b[1;33m\u001b[0m\u001b[0m\n\u001b[0;32m     14\u001b[0m             \u001b[0moptimizer\u001b[0m\u001b[1;33m.\u001b[0m\u001b[0mstep\u001b[0m\u001b[1;33m(\u001b[0m\u001b[1;33m)\u001b[0m\u001b[1;33m\u001b[0m\u001b[0m\n\u001b[1;32m---> 15\u001b[1;33m         \u001b[0mtrain_l\u001b[0m\u001b[1;33m.\u001b[0m\u001b[0mappend\u001b[0m\u001b[1;33m(\u001b[0m\u001b[0mlog_rmse\u001b[0m\u001b[1;33m(\u001b[0m\u001b[0mnet\u001b[0m\u001b[1;33m,\u001b[0m\u001b[0mtrain_features\u001b[0m\u001b[1;33m,\u001b[0m\u001b[0mtrain_labels\u001b[0m\u001b[1;33m)\u001b[0m\u001b[1;33m)\u001b[0m\u001b[1;33m\u001b[0m\u001b[0m\n\u001b[0m\u001b[0;32m     16\u001b[0m         \u001b[1;32mif\u001b[0m \u001b[0mtest_labels\u001b[0m \u001b[1;32mis\u001b[0m \u001b[1;32mnot\u001b[0m \u001b[1;32mNone\u001b[0m\u001b[1;33m:\u001b[0m\u001b[1;33m\u001b[0m\u001b[0m\n\u001b[0;32m     17\u001b[0m             \u001b[0mtest_l\u001b[0m\u001b[1;33m.\u001b[0m\u001b[0mappend\u001b[0m\u001b[1;33m(\u001b[0m\u001b[0mlog_rmse\u001b[0m\u001b[1;33m(\u001b[0m\u001b[0mnet\u001b[0m\u001b[1;33m,\u001b[0m\u001b[0mtest_features\u001b[0m\u001b[1;33m,\u001b[0m\u001b[0mtest_labels\u001b[0m\u001b[1;33m)\u001b[0m\u001b[1;33m)\u001b[0m\u001b[1;33m\u001b[0m\u001b[0m\n",
      "\u001b[1;32m<ipython-input-48-88455432c1d2>\u001b[0m in \u001b[0;36mlog_rmse\u001b[1;34m(net, features, labels)\u001b[0m\n\u001b[0;32m      2\u001b[0m     \u001b[1;32mwith\u001b[0m \u001b[0mtorch\u001b[0m\u001b[1;33m.\u001b[0m\u001b[0mno_grad\u001b[0m\u001b[1;33m(\u001b[0m\u001b[1;33m)\u001b[0m\u001b[1;33m:\u001b[0m\u001b[1;33m\u001b[0m\u001b[0m\n\u001b[0;32m      3\u001b[0m         \u001b[0mclipped_pred\u001b[0m\u001b[1;33m=\u001b[0m\u001b[0mtorch\u001b[0m\u001b[1;33m.\u001b[0m\u001b[0mmax\u001b[0m\u001b[1;33m(\u001b[0m\u001b[0mnet\u001b[0m\u001b[1;33m(\u001b[0m\u001b[0mfeatures\u001b[0m\u001b[1;33m)\u001b[0m\u001b[1;33m,\u001b[0m\u001b[0mtorch\u001b[0m\u001b[1;33m.\u001b[0m\u001b[0mTensor\u001b[0m\u001b[1;33m(\u001b[0m\u001b[1;33m[\u001b[0m\u001b[1;36m1.\u001b[0m\u001b[1;33m]\u001b[0m\u001b[1;33m)\u001b[0m\u001b[1;33m)\u001b[0m\u001b[1;33m\u001b[0m\u001b[0m\n\u001b[1;32m----> 4\u001b[1;33m         \u001b[0mrmse\u001b[0m\u001b[1;33m=\u001b[0m\u001b[0mtorch\u001b[0m\u001b[1;33m.\u001b[0m\u001b[0msqrt\u001b[0m\u001b[1;33m(\u001b[0m\u001b[1;36m2\u001b[0m\u001b[1;33m*\u001b[0m\u001b[1;33m(\u001b[0m\u001b[0mloss\u001b[0m\u001b[1;33m(\u001b[0m\u001b[0mclipped_pred\u001b[0m\u001b[1;33m.\u001b[0m\u001b[0mlog\u001b[0m\u001b[1;33m(\u001b[0m\u001b[1;33m)\u001b[0m\u001b[1;33m,\u001b[0m\u001b[0mlabels\u001b[0m\u001b[1;33m.\u001b[0m\u001b[0mlog\u001b[0m\u001b[1;33m(\u001b[0m\u001b[1;33m)\u001b[0m\u001b[1;33m)\u001b[0m\u001b[1;33m)\u001b[0m\u001b[1;33m.\u001b[0m\u001b[0mmean\u001b[0m\u001b[1;33m(\u001b[0m\u001b[1;33m)\u001b[0m\u001b[1;33m)\u001b[0m\u001b[1;33m\u001b[0m\u001b[0m\n\u001b[0m\u001b[0;32m      5\u001b[0m     \u001b[1;32mreturn\u001b[0m \u001b[0mrmse\u001b[0m\u001b[1;33m.\u001b[0m\u001b[0mitem\u001b[0m\u001b[1;33m(\u001b[0m\u001b[1;33m)\u001b[0m\u001b[1;33m\u001b[0m\u001b[0m\n",
      "\u001b[1;32mD:\\ProgramData\\Anaconda3\\lib\\site-packages\\torch\\nn\\modules\\module.py\u001b[0m in \u001b[0;36m_call_impl\u001b[1;34m(self, *input, **kwargs)\u001b[0m\n\u001b[0;32m    720\u001b[0m             \u001b[0mresult\u001b[0m \u001b[1;33m=\u001b[0m \u001b[0mself\u001b[0m\u001b[1;33m.\u001b[0m\u001b[0m_slow_forward\u001b[0m\u001b[1;33m(\u001b[0m\u001b[1;33m*\u001b[0m\u001b[0minput\u001b[0m\u001b[1;33m,\u001b[0m \u001b[1;33m**\u001b[0m\u001b[0mkwargs\u001b[0m\u001b[1;33m)\u001b[0m\u001b[1;33m\u001b[0m\u001b[0m\n\u001b[0;32m    721\u001b[0m         \u001b[1;32melse\u001b[0m\u001b[1;33m:\u001b[0m\u001b[1;33m\u001b[0m\u001b[0m\n\u001b[1;32m--> 722\u001b[1;33m             \u001b[0mresult\u001b[0m \u001b[1;33m=\u001b[0m \u001b[0mself\u001b[0m\u001b[1;33m.\u001b[0m\u001b[0mforward\u001b[0m\u001b[1;33m(\u001b[0m\u001b[1;33m*\u001b[0m\u001b[0minput\u001b[0m\u001b[1;33m,\u001b[0m \u001b[1;33m**\u001b[0m\u001b[0mkwargs\u001b[0m\u001b[1;33m)\u001b[0m\u001b[1;33m\u001b[0m\u001b[0m\n\u001b[0m\u001b[0;32m    723\u001b[0m         for hook in itertools.chain(\n\u001b[0;32m    724\u001b[0m                 \u001b[0m_global_forward_hooks\u001b[0m\u001b[1;33m.\u001b[0m\u001b[0mvalues\u001b[0m\u001b[1;33m(\u001b[0m\u001b[1;33m)\u001b[0m\u001b[1;33m,\u001b[0m\u001b[1;33m\u001b[0m\u001b[0m\n",
      "\u001b[1;32mD:\\ProgramData\\Anaconda3\\lib\\site-packages\\torch\\nn\\modules\\loss.py\u001b[0m in \u001b[0;36mforward\u001b[1;34m(self, input, target)\u001b[0m\n\u001b[0;32m    443\u001b[0m \u001b[1;33m\u001b[0m\u001b[0m\n\u001b[0;32m    444\u001b[0m     \u001b[1;32mdef\u001b[0m \u001b[0mforward\u001b[0m\u001b[1;33m(\u001b[0m\u001b[0mself\u001b[0m\u001b[1;33m,\u001b[0m \u001b[0minput\u001b[0m\u001b[1;33m:\u001b[0m \u001b[0mTensor\u001b[0m\u001b[1;33m,\u001b[0m \u001b[0mtarget\u001b[0m\u001b[1;33m:\u001b[0m \u001b[0mTensor\u001b[0m\u001b[1;33m)\u001b[0m \u001b[1;33m->\u001b[0m \u001b[0mTensor\u001b[0m\u001b[1;33m:\u001b[0m\u001b[1;33m\u001b[0m\u001b[0m\n\u001b[1;32m--> 445\u001b[1;33m         \u001b[1;32mreturn\u001b[0m \u001b[0mF\u001b[0m\u001b[1;33m.\u001b[0m\u001b[0mmse_loss\u001b[0m\u001b[1;33m(\u001b[0m\u001b[0minput\u001b[0m\u001b[1;33m,\u001b[0m \u001b[0mtarget\u001b[0m\u001b[1;33m,\u001b[0m \u001b[0mreduction\u001b[0m\u001b[1;33m=\u001b[0m\u001b[0mself\u001b[0m\u001b[1;33m.\u001b[0m\u001b[0mreduction\u001b[0m\u001b[1;33m)\u001b[0m\u001b[1;33m\u001b[0m\u001b[0m\n\u001b[0m\u001b[0;32m    446\u001b[0m \u001b[1;33m\u001b[0m\u001b[0m\n\u001b[0;32m    447\u001b[0m \u001b[1;33m\u001b[0m\u001b[0m\n",
      "\u001b[1;32mD:\\ProgramData\\Anaconda3\\lib\\site-packages\\torch\\nn\\functional.py\u001b[0m in \u001b[0;36mmse_loss\u001b[1;34m(input, target, size_average, reduce, reduction)\u001b[0m\n\u001b[0;32m   2646\u001b[0m     \u001b[1;32melse\u001b[0m\u001b[1;33m:\u001b[0m\u001b[1;33m\u001b[0m\u001b[0m\n\u001b[0;32m   2647\u001b[0m         \u001b[0mexpanded_input\u001b[0m\u001b[1;33m,\u001b[0m \u001b[0mexpanded_target\u001b[0m \u001b[1;33m=\u001b[0m \u001b[0mtorch\u001b[0m\u001b[1;33m.\u001b[0m\u001b[0mbroadcast_tensors\u001b[0m\u001b[1;33m(\u001b[0m\u001b[0minput\u001b[0m\u001b[1;33m,\u001b[0m \u001b[0mtarget\u001b[0m\u001b[1;33m)\u001b[0m\u001b[1;33m\u001b[0m\u001b[0m\n\u001b[1;32m-> 2648\u001b[1;33m         \u001b[0mret\u001b[0m \u001b[1;33m=\u001b[0m \u001b[0mtorch\u001b[0m\u001b[1;33m.\u001b[0m\u001b[0m_C\u001b[0m\u001b[1;33m.\u001b[0m\u001b[0m_nn\u001b[0m\u001b[1;33m.\u001b[0m\u001b[0mmse_loss\u001b[0m\u001b[1;33m(\u001b[0m\u001b[0mexpanded_input\u001b[0m\u001b[1;33m,\u001b[0m \u001b[0mexpanded_target\u001b[0m\u001b[1;33m,\u001b[0m \u001b[0m_Reduction\u001b[0m\u001b[1;33m.\u001b[0m\u001b[0mget_enum\u001b[0m\u001b[1;33m(\u001b[0m\u001b[0mreduction\u001b[0m\u001b[1;33m)\u001b[0m\u001b[1;33m)\u001b[0m\u001b[1;33m\u001b[0m\u001b[0m\n\u001b[0m\u001b[0;32m   2649\u001b[0m     \u001b[1;32mreturn\u001b[0m \u001b[0mret\u001b[0m\u001b[1;33m\u001b[0m\u001b[0m\n\u001b[0;32m   2650\u001b[0m \u001b[1;33m\u001b[0m\u001b[0m\n",
      "\u001b[1;31mRuntimeError\u001b[0m: [enforce fail at ..\\c10\\core\\CPUAllocator.cpp:72] data. DefaultCPUAllocator: not enough memory: you tried to allocate 5760202816 bytes. Buy new RAM!"
     ]
    }
   ],
   "source": [
    "# net=nn.Sequential(nn.Linear(train_features.shape[1],128),nn.ReLU(),nn.Linear(128,1))\n",
    "train_l_sum,valid_l_sum=k_fold(k,train_features,train_labels,num_epochs,\n",
    "                          lr,weight_decay,batch_size)\n",
    "print('%d fold validation : avg train rmse %f, avg valid rmse %f' % (\n",
    "k,train_l_sum/k,valid_l_sum/k))"
   ]
  },
  {
   "cell_type": "code",
   "execution_count": null,
   "metadata": {
    "collapsed": true
   },
   "outputs": [],
   "source": []
  }
 ],
 "metadata": {
  "kernelspec": {
   "display_name": "Python 3",
   "language": "python",
   "name": "python3"
  },
  "language_info": {
   "codemirror_mode": {
    "name": "ipython",
    "version": 3
   },
   "file_extension": ".py",
   "mimetype": "text/x-python",
   "name": "python",
   "nbconvert_exporter": "python",
   "pygments_lexer": "ipython3",
   "version": "3.6.3"
  }
 },
 "nbformat": 4,
 "nbformat_minor": 2
}
