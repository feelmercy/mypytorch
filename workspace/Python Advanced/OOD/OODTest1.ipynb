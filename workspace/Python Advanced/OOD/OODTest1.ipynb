{
 "cells": [
  {
   "cell_type": "code",
   "execution_count": 27,
   "metadata": {
    "ExecuteTime": {
     "end_time": "2019-12-11T07:05:23.414847Z",
     "start_time": "2019-12-11T07:05:23.396845Z"
    }
   },
   "outputs": [],
   "source": [
    "class Employee:\n",
    "    '所有员工的基类'\n",
    "    empCount=0\n",
    "    \n",
    "    def __init__(self,name,salary):\n",
    "        self.name=name\n",
    "        self.salary=salary\n",
    "        Employee.empCount+=1\n",
    "        \n",
    "    def displayCount(self):\n",
    "        print('Total Employee %d' % Employee.empCount)\n",
    "        \n",
    "    def displayEmployee(self):\n",
    "        print('name:',self.name,' salary:',self.salary)"
   ]
  },
  {
   "cell_type": "code",
   "execution_count": 28,
   "metadata": {
    "ExecuteTime": {
     "end_time": "2019-12-11T07:05:28.211121Z",
     "start_time": "2019-12-11T07:05:28.198120Z"
    }
   },
   "outputs": [
    {
     "name": "stdout",
     "output_type": "stream",
     "text": [
      "<__main__.Test object at 0x00000000060136D8>\n",
      "<class '__main__.Test'>\n"
     ]
    }
   ],
   "source": [
    "class Test:\n",
    "    def prt(self):\n",
    "        print(self)\n",
    "        print(self.__class__)\n",
    "\n",
    "t=Test()\n",
    "t.prt()"
   ]
  },
  {
   "cell_type": "code",
   "execution_count": 29,
   "metadata": {
    "ExecuteTime": {
     "end_time": "2019-12-11T07:05:28.415133Z",
     "start_time": "2019-12-11T07:05:28.408132Z"
    }
   },
   "outputs": [],
   "source": [
    "emp1=Employee('Zara',2000)\n",
    "emp2=Employee('Manni',5000)"
   ]
  },
  {
   "cell_type": "code",
   "execution_count": 30,
   "metadata": {
    "ExecuteTime": {
     "end_time": "2019-12-11T07:05:28.594143Z",
     "start_time": "2019-12-11T07:05:28.589142Z"
    }
   },
   "outputs": [
    {
     "name": "stdout",
     "output_type": "stream",
     "text": [
      "name: Zara  salary: 2000\n"
     ]
    }
   ],
   "source": [
    "emp1.displayEmployee()"
   ]
  },
  {
   "cell_type": "code",
   "execution_count": 31,
   "metadata": {
    "ExecuteTime": {
     "end_time": "2019-12-11T07:05:28.760152Z",
     "start_time": "2019-12-11T07:05:28.754152Z"
    }
   },
   "outputs": [
    {
     "name": "stdout",
     "output_type": "stream",
     "text": [
      "name: Manni  salary: 5000\n"
     ]
    }
   ],
   "source": [
    "emp2.displayEmployee()"
   ]
  },
  {
   "cell_type": "code",
   "execution_count": 32,
   "metadata": {
    "ExecuteTime": {
     "end_time": "2019-12-11T07:05:28.925162Z",
     "start_time": "2019-12-11T07:05:28.922162Z"
    }
   },
   "outputs": [
    {
     "data": {
      "text/plain": [
       "2"
      ]
     },
     "execution_count": 32,
     "metadata": {},
     "output_type": "execute_result"
    }
   ],
   "source": [
    "Employee.empCount"
   ]
  },
  {
   "cell_type": "code",
   "execution_count": 33,
   "metadata": {
    "ExecuteTime": {
     "end_time": "2019-12-11T07:05:29.408189Z",
     "start_time": "2019-12-11T07:05:29.398189Z"
    }
   },
   "outputs": [
    {
     "data": {
      "text/plain": [
       "2"
      ]
     },
     "execution_count": 33,
     "metadata": {},
     "output_type": "execute_result"
    }
   ],
   "source": [
    "emp1.empCount"
   ]
  },
  {
   "cell_type": "code",
   "execution_count": 34,
   "metadata": {
    "ExecuteTime": {
     "end_time": "2019-12-11T07:05:30.053226Z",
     "start_time": "2019-12-11T07:05:30.044226Z"
    }
   },
   "outputs": [
    {
     "data": {
      "text/plain": [
       "2"
      ]
     },
     "execution_count": 34,
     "metadata": {},
     "output_type": "execute_result"
    }
   ],
   "source": [
    "emp2.empCount"
   ]
  },
  {
   "cell_type": "code",
   "execution_count": 35,
   "metadata": {
    "ExecuteTime": {
     "end_time": "2019-12-11T07:05:30.565255Z",
     "start_time": "2019-12-11T07:05:30.560255Z"
    }
   },
   "outputs": [],
   "source": [
    "emp1.age=67\n",
    "emp1.age=8"
   ]
  },
  {
   "cell_type": "code",
   "execution_count": 36,
   "metadata": {
    "ExecuteTime": {
     "end_time": "2019-12-11T07:05:31.215293Z",
     "start_time": "2019-12-11T07:05:31.208292Z"
    }
   },
   "outputs": [
    {
     "data": {
      "text/plain": [
       "8"
      ]
     },
     "execution_count": 36,
     "metadata": {},
     "output_type": "execute_result"
    }
   ],
   "source": [
    "emp1.age"
   ]
  },
  {
   "cell_type": "code",
   "execution_count": 37,
   "metadata": {
    "ExecuteTime": {
     "end_time": "2019-12-11T07:05:32.152346Z",
     "start_time": "2019-12-11T07:05:32.135345Z"
    }
   },
   "outputs": [
    {
     "ename": "AttributeError",
     "evalue": "'Employee' object has no attribute 'age'",
     "output_type": "error",
     "traceback": [
      "\u001b[1;31m---------------------------------------------------------------------------\u001b[0m",
      "\u001b[1;31mAttributeError\u001b[0m                            Traceback (most recent call last)",
      "\u001b[1;32m<ipython-input-37-42d1695f77a9>\u001b[0m in \u001b[0;36m<module>\u001b[1;34m()\u001b[0m\n\u001b[1;32m----> 1\u001b[1;33m \u001b[0memp2\u001b[0m\u001b[1;33m.\u001b[0m\u001b[0mage\u001b[0m\u001b[1;33m\u001b[0m\u001b[0m\n\u001b[0m",
      "\u001b[1;31mAttributeError\u001b[0m: 'Employee' object has no attribute 'age'"
     ]
    }
   ],
   "source": [
    "emp2.age"
   ]
  },
  {
   "cell_type": "code",
   "execution_count": 38,
   "metadata": {
    "ExecuteTime": {
     "end_time": "2019-12-11T07:05:33.040397Z",
     "start_time": "2019-12-11T07:05:33.034397Z"
    }
   },
   "outputs": [],
   "source": [
    "del emp1.age"
   ]
  },
  {
   "cell_type": "code",
   "execution_count": 39,
   "metadata": {
    "ExecuteTime": {
     "end_time": "2019-12-11T07:05:34.249466Z",
     "start_time": "2019-12-11T07:05:34.237466Z"
    }
   },
   "outputs": [
    {
     "data": {
      "text/plain": [
       "False"
      ]
     },
     "execution_count": 39,
     "metadata": {},
     "output_type": "execute_result"
    }
   ],
   "source": [
    "hasattr(emp1,'age')"
   ]
  },
  {
   "cell_type": "code",
   "execution_count": 40,
   "metadata": {
    "ExecuteTime": {
     "end_time": "2019-12-11T07:05:34.436477Z",
     "start_time": "2019-12-11T07:05:34.417476Z"
    }
   },
   "outputs": [
    {
     "ename": "AttributeError",
     "evalue": "'Employee' object has no attribute 'age'",
     "output_type": "error",
     "traceback": [
      "\u001b[1;31m---------------------------------------------------------------------------\u001b[0m",
      "\u001b[1;31mAttributeError\u001b[0m                            Traceback (most recent call last)",
      "\u001b[1;32m<ipython-input-40-525274db525b>\u001b[0m in \u001b[0;36m<module>\u001b[1;34m()\u001b[0m\n\u001b[1;32m----> 1\u001b[1;33m \u001b[0mgetattr\u001b[0m\u001b[1;33m(\u001b[0m\u001b[0memp1\u001b[0m\u001b[1;33m,\u001b[0m\u001b[1;34m'age'\u001b[0m\u001b[1;33m)\u001b[0m\u001b[1;33m\u001b[0m\u001b[0m\n\u001b[0m",
      "\u001b[1;31mAttributeError\u001b[0m: 'Employee' object has no attribute 'age'"
     ]
    }
   ],
   "source": [
    "getattr(emp1,'age')"
   ]
  },
  {
   "cell_type": "code",
   "execution_count": 41,
   "metadata": {
    "ExecuteTime": {
     "end_time": "2019-12-11T07:05:34.597486Z",
     "start_time": "2019-12-11T07:05:34.593486Z"
    }
   },
   "outputs": [],
   "source": [
    "setattr(emp1,'age',10)"
   ]
  },
  {
   "cell_type": "code",
   "execution_count": 42,
   "metadata": {
    "ExecuteTime": {
     "end_time": "2019-12-11T07:05:36.716607Z",
     "start_time": "2019-12-11T07:05:36.705607Z"
    }
   },
   "outputs": [
    {
     "data": {
      "text/plain": [
       "10"
      ]
     },
     "execution_count": 42,
     "metadata": {},
     "output_type": "execute_result"
    }
   ],
   "source": [
    "getattr(emp1,'age')"
   ]
  },
  {
   "cell_type": "code",
   "execution_count": 43,
   "metadata": {
    "ExecuteTime": {
     "end_time": "2019-12-11T07:05:36.875616Z",
     "start_time": "2019-12-11T07:05:36.868616Z"
    }
   },
   "outputs": [],
   "source": [
    "delattr(emp1,'age')"
   ]
  },
  {
   "cell_type": "code",
   "execution_count": 44,
   "metadata": {
    "ExecuteTime": {
     "end_time": "2019-12-11T07:05:37.007624Z",
     "start_time": "2019-12-11T07:05:37.002624Z"
    }
   },
   "outputs": [
    {
     "data": {
      "text/plain": [
       "False"
      ]
     },
     "execution_count": 44,
     "metadata": {},
     "output_type": "execute_result"
    }
   ],
   "source": [
    "hasattr(emp1,'age')"
   ]
  },
  {
   "cell_type": "code",
   "execution_count": 45,
   "metadata": {
    "ExecuteTime": {
     "end_time": "2019-12-11T07:05:37.162633Z",
     "start_time": "2019-12-11T07:05:37.155632Z"
    }
   },
   "outputs": [
    {
     "data": {
      "text/plain": [
       "'所有员工的基类'"
      ]
     },
     "execution_count": 45,
     "metadata": {},
     "output_type": "execute_result"
    }
   ],
   "source": [
    "Employee.__doc__"
   ]
  },
  {
   "cell_type": "code",
   "execution_count": 46,
   "metadata": {
    "ExecuteTime": {
     "end_time": "2019-12-11T07:06:04.318186Z",
     "start_time": "2019-12-11T07:06:04.310186Z"
    }
   },
   "outputs": [
    {
     "data": {
      "text/plain": [
       "'所有员工的基类'"
      ]
     },
     "execution_count": 46,
     "metadata": {},
     "output_type": "execute_result"
    }
   ],
   "source": [
    "emp1.__doc__"
   ]
  },
  {
   "cell_type": "code",
   "execution_count": 47,
   "metadata": {
    "ExecuteTime": {
     "end_time": "2019-12-11T07:06:20.887134Z",
     "start_time": "2019-12-11T07:06:20.883134Z"
    }
   },
   "outputs": [
    {
     "data": {
      "text/plain": [
       "'Employee'"
      ]
     },
     "execution_count": 47,
     "metadata": {},
     "output_type": "execute_result"
    }
   ],
   "source": [
    "Employee.__name__"
   ]
  },
  {
   "cell_type": "code",
   "execution_count": 48,
   "metadata": {
    "ExecuteTime": {
     "end_time": "2019-12-11T07:06:34.326902Z",
     "start_time": "2019-12-11T07:06:34.315902Z"
    }
   },
   "outputs": [
    {
     "data": {
      "text/plain": [
       "'__main__'"
      ]
     },
     "execution_count": 48,
     "metadata": {},
     "output_type": "execute_result"
    }
   ],
   "source": [
    "Employee.__module__"
   ]
  },
  {
   "cell_type": "code",
   "execution_count": 49,
   "metadata": {
    "ExecuteTime": {
     "end_time": "2019-12-11T07:07:20.591549Z",
     "start_time": "2019-12-11T07:07:20.579548Z"
    }
   },
   "outputs": [
    {
     "data": {
      "text/plain": [
       "(object,)"
      ]
     },
     "execution_count": 49,
     "metadata": {},
     "output_type": "execute_result"
    }
   ],
   "source": [
    "Employee.__bases__"
   ]
  },
  {
   "cell_type": "code",
   "execution_count": 50,
   "metadata": {
    "ExecuteTime": {
     "end_time": "2019-12-11T07:07:43.200842Z",
     "start_time": "2019-12-11T07:07:43.187841Z"
    }
   },
   "outputs": [
    {
     "data": {
      "text/plain": [
       "mappingproxy({'__dict__': <attribute '__dict__' of 'Employee' objects>,\n",
       "              '__doc__': '所有员工的基类',\n",
       "              '__init__': <function __main__.Employee.__init__>,\n",
       "              '__module__': '__main__',\n",
       "              '__weakref__': <attribute '__weakref__' of 'Employee' objects>,\n",
       "              'displayCount': <function __main__.Employee.displayCount>,\n",
       "              'displayEmployee': <function __main__.Employee.displayEmployee>,\n",
       "              'empCount': 2})"
      ]
     },
     "execution_count": 50,
     "metadata": {},
     "output_type": "execute_result"
    }
   ],
   "source": [
    "Employee.__dict__"
   ]
  },
  {
   "cell_type": "code",
   "execution_count": 51,
   "metadata": {
    "ExecuteTime": {
     "end_time": "2019-12-11T07:52:22.753103Z",
     "start_time": "2019-12-11T07:52:22.745103Z"
    }
   },
   "outputs": [],
   "source": [
    "a=40\n",
    "b=a\n",
    "c=[b]\n",
    "del a\n",
    "b=100\n",
    "c[0]=-1"
   ]
  },
  {
   "cell_type": "code",
   "execution_count": 52,
   "metadata": {
    "ExecuteTime": {
     "end_time": "2019-12-11T07:56:04.875808Z",
     "start_time": "2019-12-11T07:56:04.863807Z"
    }
   },
   "outputs": [],
   "source": [
    "class Point:\n",
    "    def __init__(self,x=0,y=0):\n",
    "        self.x=x\n",
    "        self.y=y\n",
    "    def __del__(self):\n",
    "        class_name=self.__class__.__name__\n",
    "        print(class_name)"
   ]
  },
  {
   "cell_type": "code",
   "execution_count": 53,
   "metadata": {
    "ExecuteTime": {
     "end_time": "2019-12-11T07:56:41.142882Z",
     "start_time": "2019-12-11T07:56:41.131882Z"
    }
   },
   "outputs": [
    {
     "name": "stdout",
     "output_type": "stream",
     "text": [
      "96927928 96927928 96927928\n"
     ]
    }
   ],
   "source": [
    "pt1=Point()\n",
    "pt2=pt1\n",
    "pt3=pt1\n",
    "print(id(pt1),id(pt2),id(pt3))"
   ]
  },
  {
   "cell_type": "code",
   "execution_count": 54,
   "metadata": {
    "ExecuteTime": {
     "end_time": "2019-12-11T08:56:33.134333Z",
     "start_time": "2019-12-11T08:56:33.115332Z"
    }
   },
   "outputs": [],
   "source": [
    "class Parent:\n",
    "    parentAttr=100\n",
    "    def __init__(self):\n",
    "        print('call parent contribution fun')\n",
    "    \n",
    "    def parentMethod(self):\n",
    "        print('call parent fun')\n",
    "    \n",
    "    def setAttr(self,attr):\n",
    "        Parent.parentAttr=attr\n",
    "        \n",
    "    def getAttr(self):\n",
    "        print('parent attr : ',Parent.parentAttr)\n",
    "        \n",
    "class Child(Parent):\n",
    "    def __init__(self):\n",
    "        print('call child contribution fun')\n",
    "        \n",
    "    def childMethod(self):\n",
    "        print('call child fun')"
   ]
  },
  {
   "cell_type": "code",
   "execution_count": 56,
   "metadata": {
    "ExecuteTime": {
     "end_time": "2019-12-11T08:57:01.394949Z",
     "start_time": "2019-12-11T08:57:01.390949Z"
    }
   },
   "outputs": [
    {
     "name": "stdout",
     "output_type": "stream",
     "text": [
      "call child contribution fun\n",
      "call child fun\n"
     ]
    }
   ],
   "source": [
    "c=Child()\n",
    "c.childMethod()"
   ]
  },
  {
   "cell_type": "code",
   "execution_count": 57,
   "metadata": {
    "ExecuteTime": {
     "end_time": "2019-12-11T08:57:14.974726Z",
     "start_time": "2019-12-11T08:57:14.964725Z"
    }
   },
   "outputs": [
    {
     "name": "stdout",
     "output_type": "stream",
     "text": [
      "call parent fun\n"
     ]
    }
   ],
   "source": [
    "c.parentMethod()"
   ]
  },
  {
   "cell_type": "code",
   "execution_count": 58,
   "metadata": {
    "ExecuteTime": {
     "end_time": "2019-12-11T08:57:34.792859Z",
     "start_time": "2019-12-11T08:57:34.784859Z"
    }
   },
   "outputs": [],
   "source": [
    "c.setAttr(200)"
   ]
  },
  {
   "cell_type": "code",
   "execution_count": 59,
   "metadata": {
    "ExecuteTime": {
     "end_time": "2019-12-11T08:57:39.381122Z",
     "start_time": "2019-12-11T08:57:39.373121Z"
    }
   },
   "outputs": [
    {
     "name": "stdout",
     "output_type": "stream",
     "text": [
      "parent attr :  200\n"
     ]
    }
   ],
   "source": [
    "c.getAttr()"
   ]
  },
  {
   "cell_type": "code",
   "execution_count": 61,
   "metadata": {
    "ExecuteTime": {
     "end_time": "2019-12-11T08:58:57.509590Z",
     "start_time": "2019-12-11T08:58:57.497590Z"
    }
   },
   "outputs": [
    {
     "data": {
      "text/plain": [
       "True"
      ]
     },
     "execution_count": 61,
     "metadata": {},
     "output_type": "execute_result"
    }
   ],
   "source": [
    "issubclass(Child,Parent)"
   ]
  },
  {
   "cell_type": "code",
   "execution_count": 62,
   "metadata": {
    "ExecuteTime": {
     "end_time": "2019-12-11T09:37:37.537288Z",
     "start_time": "2019-12-11T09:37:37.518287Z"
    }
   },
   "outputs": [],
   "source": [
    "class Parent:\n",
    "    def myMethod(self):\n",
    "        print('call parent fun')\n",
    "\n",
    "\n",
    "class Child(Parent):\n",
    "    def myMethod(self):\n",
    "        print('call child fun')"
   ]
  },
  {
   "cell_type": "code",
   "execution_count": 66,
   "metadata": {
    "ExecuteTime": {
     "end_time": "2019-12-11T09:40:13.864230Z",
     "start_time": "2019-12-11T09:40:13.854229Z"
    }
   },
   "outputs": [
    {
     "name": "stdout",
     "output_type": "stream",
     "text": [
      "call child fun\n"
     ]
    }
   ],
   "source": [
    "c=Child()\n",
    "c.myMethod()"
   ]
  },
  {
   "cell_type": "code",
   "execution_count": 71,
   "metadata": {
    "ExecuteTime": {
     "end_time": "2019-12-11T09:51:44.568736Z",
     "start_time": "2019-12-11T09:51:44.550735Z"
    }
   },
   "outputs": [],
   "source": [
    "class Vetor:\n",
    "    def __init__(self,a,b):\n",
    "        self.a=a\n",
    "        self.b=b\n",
    "        \n",
    "    def __str__(self):\n",
    "        return 'Vector (%d,%d)' % (self.a,self.b)\n",
    "    \n",
    "    def __add__(self,other):\n",
    "        return Vetor(self.a+other.a,self.b+other.b)\n",
    "    \n",
    "    "
   ]
  },
  {
   "cell_type": "code",
   "execution_count": 72,
   "metadata": {
    "ExecuteTime": {
     "end_time": "2019-12-11T09:51:45.147769Z",
     "start_time": "2019-12-11T09:51:45.141769Z"
    }
   },
   "outputs": [
    {
     "name": "stdout",
     "output_type": "stream",
     "text": [
      "Vector (7,8)\n"
     ]
    }
   ],
   "source": [
    "v1=Vetor(2,10)\n",
    "v2=Vetor(5,-2)\n",
    "print(v1+v2)"
   ]
  },
  {
   "cell_type": "code",
   "execution_count": 73,
   "metadata": {
    "ExecuteTime": {
     "end_time": "2019-12-11T09:54:06.728867Z",
     "start_time": "2019-12-11T09:54:06.709866Z"
    }
   },
   "outputs": [],
   "source": [
    "class JustCounter:\n",
    "    __secretCount=0\n",
    "    publicCount=0\n",
    "    \n",
    "    def count(self):\n",
    "        self.__secretCount+=1\n",
    "        self.publicCount+=1\n",
    "        print (self.__secretCount)\n",
    "        \n",
    "        "
   ]
  },
  {
   "cell_type": "code",
   "execution_count": 76,
   "metadata": {
    "ExecuteTime": {
     "end_time": "2019-12-11T09:54:59.675895Z",
     "start_time": "2019-12-11T09:54:59.664895Z"
    }
   },
   "outputs": [
    {
     "name": "stdout",
     "output_type": "stream",
     "text": [
      "1\n"
     ]
    }
   ],
   "source": [
    "counter=JustCounter()\n",
    "counter.count()"
   ]
  },
  {
   "cell_type": "code",
   "execution_count": 77,
   "metadata": {
    "ExecuteTime": {
     "end_time": "2019-12-11T09:55:03.513115Z",
     "start_time": "2019-12-11T09:55:03.504114Z"
    }
   },
   "outputs": [
    {
     "name": "stdout",
     "output_type": "stream",
     "text": [
      "2\n"
     ]
    }
   ],
   "source": [
    "counter.count()"
   ]
  },
  {
   "cell_type": "code",
   "execution_count": 78,
   "metadata": {
    "ExecuteTime": {
     "end_time": "2019-12-11T09:55:36.565005Z",
     "start_time": "2019-12-11T09:55:36.561005Z"
    }
   },
   "outputs": [],
   "source": [
    "class Runoob:\n",
    "    __site = \"www.runoob.com\""
   ]
  },
  {
   "cell_type": "code",
   "execution_count": 79,
   "metadata": {
    "ExecuteTime": {
     "end_time": "2019-12-11T09:55:40.489230Z",
     "start_time": "2019-12-11T09:55:40.483229Z"
    }
   },
   "outputs": [],
   "source": [
    "runoob = Runoob()"
   ]
  },
  {
   "cell_type": "code",
   "execution_count": 80,
   "metadata": {
    "ExecuteTime": {
     "end_time": "2019-12-11T09:55:47.671641Z",
     "start_time": "2019-12-11T09:55:47.664640Z"
    }
   },
   "outputs": [
    {
     "name": "stdout",
     "output_type": "stream",
     "text": [
      "www.runoob.com\n"
     ]
    }
   ],
   "source": [
    "print(runoob._Runoob__site)"
   ]
  },
  {
   "cell_type": "code",
   "execution_count": null,
   "metadata": {},
   "outputs": [],
   "source": []
  }
 ],
 "metadata": {
  "kernelspec": {
   "display_name": "Python 3",
   "language": "python",
   "name": "python3"
  },
  "language_info": {
   "codemirror_mode": {
    "name": "ipython",
    "version": 3
   },
   "file_extension": ".py",
   "mimetype": "text/x-python",
   "name": "python",
   "nbconvert_exporter": "python",
   "pygments_lexer": "ipython3",
   "version": "3.6.3"
  }
 },
 "nbformat": 4,
 "nbformat_minor": 2
}
