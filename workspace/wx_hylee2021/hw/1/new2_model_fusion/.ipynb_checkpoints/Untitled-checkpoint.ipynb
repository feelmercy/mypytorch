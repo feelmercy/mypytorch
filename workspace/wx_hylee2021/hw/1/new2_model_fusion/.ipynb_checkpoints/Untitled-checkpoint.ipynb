{
 "cells": [
  {
   "cell_type": "code",
   "execution_count": 1,
   "metadata": {
    "ExecuteTime": {
     "end_time": "2021-09-13T09:03:58.912037Z",
     "start_time": "2021-09-13T09:03:49.692510Z"
    },
    "collapsed": true
   },
   "outputs": [],
   "source": [
    "import torch\n",
    "import numpy as np\n",
    "import pandas as pd"
   ]
  },
  {
   "cell_type": "code",
   "execution_count": 2,
   "metadata": {
    "ExecuteTime": {
     "end_time": "2021-09-13T09:05:55.469704Z",
     "start_time": "2021-09-13T09:05:55.210689Z"
    },
    "collapsed": true
   },
   "outputs": [],
   "source": [
    "train_data=pd.read_csv(r'F:\\study\\ml\\HonyiLee2021\\Lhy_Machine_Learning-main\\01 Introduction\\dataset\\covid.train.csv')\n",
    "test_data=pd.read_csv(r'F:\\study\\ml\\HonyiLee2021\\Lhy_Machine_Learning-main\\01 Introduction\\dataset\\covid.test.csv')"
   ]
  },
  {
   "cell_type": "code",
   "execution_count": 3,
   "metadata": {
    "ExecuteTime": {
     "end_time": "2021-09-13T09:06:00.873013Z",
     "start_time": "2021-09-13T09:06:00.868013Z"
    }
   },
   "outputs": [
    {
     "data": {
      "text/plain": [
       "(2700, 95)"
      ]
     },
     "execution_count": 3,
     "metadata": {},
     "output_type": "execute_result"
    }
   ],
   "source": [
    "train_data.shape"
   ]
  },
  {
   "cell_type": "code",
   "execution_count": 4,
   "metadata": {
    "ExecuteTime": {
     "end_time": "2021-09-13T09:06:05.995306Z",
     "start_time": "2021-09-13T09:06:05.984306Z"
    }
   },
   "outputs": [
    {
     "data": {
      "text/plain": [
       "(893, 94)"
      ]
     },
     "execution_count": 4,
     "metadata": {},
     "output_type": "execute_result"
    }
   ],
   "source": [
    "test_data.shape"
   ]
  },
  {
   "cell_type": "markdown",
   "metadata": {},
   "source": [
    "#### 3 days data\n",
    " - day 1 : 2700*3+893*2\n",
    " - day 2 : 2700*2 + 893*1\n",
    " - day 3 : 2700*1"
   ]
  },
  {
   "cell_type": "code",
   "execution_count": 10,
   "metadata": {
    "ExecuteTime": {
     "end_time": "2021-09-13T09:22:53.608938Z",
     "start_time": "2021-09-13T09:22:53.564936Z"
    }
   },
   "outputs": [
    {
     "data": {
      "text/html": [
       "<div>\n",
       "<style>\n",
       "    .dataframe thead tr:only-child th {\n",
       "        text-align: right;\n",
       "    }\n",
       "\n",
       "    .dataframe thead th {\n",
       "        text-align: left;\n",
       "    }\n",
       "\n",
       "    .dataframe tbody tr th {\n",
       "        vertical-align: top;\n",
       "    }\n",
       "</style>\n",
       "<table border=\"1\" class=\"dataframe\">\n",
       "  <thead>\n",
       "    <tr style=\"text-align: right;\">\n",
       "      <th></th>\n",
       "      <th>cli</th>\n",
       "      <th>ili</th>\n",
       "      <th>hh_cmnty_cli</th>\n",
       "      <th>nohh_cmnty_cli</th>\n",
       "      <th>wearing_mask</th>\n",
       "      <th>travel_outside_state</th>\n",
       "      <th>work_outside_home</th>\n",
       "      <th>shop</th>\n",
       "      <th>restaurant</th>\n",
       "      <th>spent_time</th>\n",
       "      <th>large_event</th>\n",
       "      <th>public_transit</th>\n",
       "      <th>anxious</th>\n",
       "      <th>depressed</th>\n",
       "      <th>felt_isolated</th>\n",
       "      <th>worried_become_ill</th>\n",
       "      <th>worried_finances</th>\n",
       "      <th>tested_positive</th>\n",
       "    </tr>\n",
       "  </thead>\n",
       "  <tbody>\n",
       "    <tr>\n",
       "      <th>0</th>\n",
       "      <td>0.814610</td>\n",
       "      <td>0.771356</td>\n",
       "      <td>25.648907</td>\n",
       "      <td>21.242063</td>\n",
       "      <td>84.644672</td>\n",
       "      <td>13.462475</td>\n",
       "      <td>36.519841</td>\n",
       "      <td>63.139094</td>\n",
       "      <td>23.835119</td>\n",
       "      <td>44.726055</td>\n",
       "      <td>16.946929</td>\n",
       "      <td>1.716262</td>\n",
       "      <td>15.494193</td>\n",
       "      <td>12.043275</td>\n",
       "      <td>17.000647</td>\n",
       "      <td>53.439316</td>\n",
       "      <td>43.279629</td>\n",
       "      <td>19.586492</td>\n",
       "    </tr>\n",
       "    <tr>\n",
       "      <th>1</th>\n",
       "      <td>0.838995</td>\n",
       "      <td>0.807766</td>\n",
       "      <td>25.679101</td>\n",
       "      <td>21.280270</td>\n",
       "      <td>84.005294</td>\n",
       "      <td>13.467716</td>\n",
       "      <td>36.637887</td>\n",
       "      <td>63.318650</td>\n",
       "      <td>23.688882</td>\n",
       "      <td>44.385166</td>\n",
       "      <td>16.463551</td>\n",
       "      <td>1.664819</td>\n",
       "      <td>15.299228</td>\n",
       "      <td>12.051505</td>\n",
       "      <td>16.552264</td>\n",
       "      <td>53.256795</td>\n",
       "      <td>43.622728</td>\n",
       "      <td>20.151838</td>\n",
       "    </tr>\n",
       "    <tr>\n",
       "      <th>2</th>\n",
       "      <td>0.897801</td>\n",
       "      <td>0.887893</td>\n",
       "      <td>26.060544</td>\n",
       "      <td>21.503832</td>\n",
       "      <td>84.438618</td>\n",
       "      <td>13.038611</td>\n",
       "      <td>36.429119</td>\n",
       "      <td>62.434539</td>\n",
       "      <td>23.812411</td>\n",
       "      <td>43.430423</td>\n",
       "      <td>16.151527</td>\n",
       "      <td>1.602635</td>\n",
       "      <td>15.409449</td>\n",
       "      <td>12.088688</td>\n",
       "      <td>16.702086</td>\n",
       "      <td>53.991549</td>\n",
       "      <td>43.604229</td>\n",
       "      <td>20.704935</td>\n",
       "    </tr>\n",
       "    <tr>\n",
       "      <th>3</th>\n",
       "      <td>0.972842</td>\n",
       "      <td>0.965496</td>\n",
       "      <td>25.754087</td>\n",
       "      <td>21.016210</td>\n",
       "      <td>84.133873</td>\n",
       "      <td>12.581952</td>\n",
       "      <td>36.416557</td>\n",
       "      <td>62.024517</td>\n",
       "      <td>23.682974</td>\n",
       "      <td>43.196313</td>\n",
       "      <td>16.123386</td>\n",
       "      <td>1.641863</td>\n",
       "      <td>15.230063</td>\n",
       "      <td>11.809047</td>\n",
       "      <td>16.506973</td>\n",
       "      <td>54.185521</td>\n",
       "      <td>42.665766</td>\n",
       "      <td>21.292911</td>\n",
       "    </tr>\n",
       "    <tr>\n",
       "      <th>4</th>\n",
       "      <td>0.955306</td>\n",
       "      <td>0.963079</td>\n",
       "      <td>25.947015</td>\n",
       "      <td>20.941798</td>\n",
       "      <td>83.995931</td>\n",
       "      <td>12.938675</td>\n",
       "      <td>37.014578</td>\n",
       "      <td>62.116843</td>\n",
       "      <td>23.593983</td>\n",
       "      <td>43.362200</td>\n",
       "      <td>16.159971</td>\n",
       "      <td>1.677523</td>\n",
       "      <td>15.717207</td>\n",
       "      <td>12.355918</td>\n",
       "      <td>16.273294</td>\n",
       "      <td>53.637069</td>\n",
       "      <td>42.972417</td>\n",
       "      <td>21.166656</td>\n",
       "    </tr>\n",
       "  </tbody>\n",
       "</table>\n",
       "</div>"
      ],
      "text/plain": [
       "        cli       ili  hh_cmnty_cli  nohh_cmnty_cli  wearing_mask  \\\n",
       "0  0.814610  0.771356     25.648907       21.242063     84.644672   \n",
       "1  0.838995  0.807766     25.679101       21.280270     84.005294   \n",
       "2  0.897801  0.887893     26.060544       21.503832     84.438618   \n",
       "3  0.972842  0.965496     25.754087       21.016210     84.133873   \n",
       "4  0.955306  0.963079     25.947015       20.941798     83.995931   \n",
       "\n",
       "   travel_outside_state  work_outside_home       shop  restaurant  spent_time  \\\n",
       "0             13.462475          36.519841  63.139094   23.835119   44.726055   \n",
       "1             13.467716          36.637887  63.318650   23.688882   44.385166   \n",
       "2             13.038611          36.429119  62.434539   23.812411   43.430423   \n",
       "3             12.581952          36.416557  62.024517   23.682974   43.196313   \n",
       "4             12.938675          37.014578  62.116843   23.593983   43.362200   \n",
       "\n",
       "   large_event  public_transit    anxious  depressed  felt_isolated  \\\n",
       "0    16.946929        1.716262  15.494193  12.043275      17.000647   \n",
       "1    16.463551        1.664819  15.299228  12.051505      16.552264   \n",
       "2    16.151527        1.602635  15.409449  12.088688      16.702086   \n",
       "3    16.123386        1.641863  15.230063  11.809047      16.506973   \n",
       "4    16.159971        1.677523  15.717207  12.355918      16.273294   \n",
       "\n",
       "   worried_become_ill  worried_finances  tested_positive  \n",
       "0           53.439316         43.279629        19.586492  \n",
       "1           53.256795         43.622728        20.151838  \n",
       "2           53.991549         43.604229        20.704935  \n",
       "3           54.185521         42.665766        21.292911  \n",
       "4           53.637069         42.972417        21.166656  "
      ]
     },
     "execution_count": 10,
     "metadata": {},
     "output_type": "execute_result"
    }
   ],
   "source": [
    "train_data.iloc[:5,41:59]"
   ]
  },
  {
   "cell_type": "code",
   "execution_count": 13,
   "metadata": {
    "ExecuteTime": {
     "end_time": "2021-09-13T09:26:19.304703Z",
     "start_time": "2021-09-13T09:26:19.260701Z"
    }
   },
   "outputs": [
    {
     "data": {
      "text/html": [
       "<div>\n",
       "<style>\n",
       "    .dataframe thead tr:only-child th {\n",
       "        text-align: right;\n",
       "    }\n",
       "\n",
       "    .dataframe thead th {\n",
       "        text-align: left;\n",
       "    }\n",
       "\n",
       "    .dataframe tbody tr th {\n",
       "        vertical-align: top;\n",
       "    }\n",
       "</style>\n",
       "<table border=\"1\" class=\"dataframe\">\n",
       "  <thead>\n",
       "    <tr style=\"text-align: right;\">\n",
       "      <th></th>\n",
       "      <th>cli.1</th>\n",
       "      <th>ili.1</th>\n",
       "      <th>hh_cmnty_cli.1</th>\n",
       "      <th>nohh_cmnty_cli.1</th>\n",
       "      <th>wearing_mask.1</th>\n",
       "      <th>travel_outside_state.1</th>\n",
       "      <th>work_outside_home.1</th>\n",
       "      <th>shop.1</th>\n",
       "      <th>restaurant.1</th>\n",
       "      <th>spent_time.1</th>\n",
       "      <th>large_event.1</th>\n",
       "      <th>public_transit.1</th>\n",
       "      <th>anxious.1</th>\n",
       "      <th>depressed.1</th>\n",
       "      <th>felt_isolated.1</th>\n",
       "      <th>worried_become_ill.1</th>\n",
       "      <th>worried_finances.1</th>\n",
       "      <th>tested_positive.1</th>\n",
       "    </tr>\n",
       "  </thead>\n",
       "  <tbody>\n",
       "    <tr>\n",
       "      <th>0</th>\n",
       "      <td>0.838995</td>\n",
       "      <td>0.807766</td>\n",
       "      <td>25.679101</td>\n",
       "      <td>21.280270</td>\n",
       "      <td>84.005294</td>\n",
       "      <td>13.467716</td>\n",
       "      <td>36.637887</td>\n",
       "      <td>63.318650</td>\n",
       "      <td>23.688882</td>\n",
       "      <td>44.385166</td>\n",
       "      <td>16.463551</td>\n",
       "      <td>1.664819</td>\n",
       "      <td>15.299228</td>\n",
       "      <td>12.051505</td>\n",
       "      <td>16.552264</td>\n",
       "      <td>53.256795</td>\n",
       "      <td>43.622728</td>\n",
       "      <td>20.151838</td>\n",
       "    </tr>\n",
       "    <tr>\n",
       "      <th>1</th>\n",
       "      <td>0.897801</td>\n",
       "      <td>0.887893</td>\n",
       "      <td>26.060544</td>\n",
       "      <td>21.503832</td>\n",
       "      <td>84.438618</td>\n",
       "      <td>13.038611</td>\n",
       "      <td>36.429119</td>\n",
       "      <td>62.434539</td>\n",
       "      <td>23.812411</td>\n",
       "      <td>43.430423</td>\n",
       "      <td>16.151527</td>\n",
       "      <td>1.602635</td>\n",
       "      <td>15.409449</td>\n",
       "      <td>12.088688</td>\n",
       "      <td>16.702086</td>\n",
       "      <td>53.991549</td>\n",
       "      <td>43.604229</td>\n",
       "      <td>20.704935</td>\n",
       "    </tr>\n",
       "    <tr>\n",
       "      <th>2</th>\n",
       "      <td>0.972842</td>\n",
       "      <td>0.965496</td>\n",
       "      <td>25.754087</td>\n",
       "      <td>21.016210</td>\n",
       "      <td>84.133873</td>\n",
       "      <td>12.581952</td>\n",
       "      <td>36.416557</td>\n",
       "      <td>62.024517</td>\n",
       "      <td>23.682974</td>\n",
       "      <td>43.196313</td>\n",
       "      <td>16.123386</td>\n",
       "      <td>1.641863</td>\n",
       "      <td>15.230063</td>\n",
       "      <td>11.809047</td>\n",
       "      <td>16.506973</td>\n",
       "      <td>54.185521</td>\n",
       "      <td>42.665766</td>\n",
       "      <td>21.292911</td>\n",
       "    </tr>\n",
       "    <tr>\n",
       "      <th>3</th>\n",
       "      <td>0.955306</td>\n",
       "      <td>0.963079</td>\n",
       "      <td>25.947015</td>\n",
       "      <td>20.941798</td>\n",
       "      <td>83.995931</td>\n",
       "      <td>12.938675</td>\n",
       "      <td>37.014578</td>\n",
       "      <td>62.116843</td>\n",
       "      <td>23.593983</td>\n",
       "      <td>43.362200</td>\n",
       "      <td>16.159971</td>\n",
       "      <td>1.677523</td>\n",
       "      <td>15.717207</td>\n",
       "      <td>12.355918</td>\n",
       "      <td>16.273294</td>\n",
       "      <td>53.637069</td>\n",
       "      <td>42.972417</td>\n",
       "      <td>21.166656</td>\n",
       "    </tr>\n",
       "    <tr>\n",
       "      <th>4</th>\n",
       "      <td>0.947513</td>\n",
       "      <td>0.968764</td>\n",
       "      <td>26.350501</td>\n",
       "      <td>21.109971</td>\n",
       "      <td>83.819531</td>\n",
       "      <td>12.452336</td>\n",
       "      <td>36.270021</td>\n",
       "      <td>61.294809</td>\n",
       "      <td>22.576992</td>\n",
       "      <td>42.954574</td>\n",
       "      <td>15.544373</td>\n",
       "      <td>1.578030</td>\n",
       "      <td>15.295650</td>\n",
       "      <td>12.218123</td>\n",
       "      <td>16.045504</td>\n",
       "      <td>52.446223</td>\n",
       "      <td>42.907472</td>\n",
       "      <td>19.896607</td>\n",
       "    </tr>\n",
       "  </tbody>\n",
       "</table>\n",
       "</div>"
      ],
      "text/plain": [
       "      cli.1     ili.1  hh_cmnty_cli.1  nohh_cmnty_cli.1  wearing_mask.1  \\\n",
       "0  0.838995  0.807766       25.679101         21.280270       84.005294   \n",
       "1  0.897801  0.887893       26.060544         21.503832       84.438618   \n",
       "2  0.972842  0.965496       25.754087         21.016210       84.133873   \n",
       "3  0.955306  0.963079       25.947015         20.941798       83.995931   \n",
       "4  0.947513  0.968764       26.350501         21.109971       83.819531   \n",
       "\n",
       "   travel_outside_state.1  work_outside_home.1     shop.1  restaurant.1  \\\n",
       "0               13.467716            36.637887  63.318650     23.688882   \n",
       "1               13.038611            36.429119  62.434539     23.812411   \n",
       "2               12.581952            36.416557  62.024517     23.682974   \n",
       "3               12.938675            37.014578  62.116843     23.593983   \n",
       "4               12.452336            36.270021  61.294809     22.576992   \n",
       "\n",
       "   spent_time.1  large_event.1  public_transit.1  anxious.1  depressed.1  \\\n",
       "0     44.385166      16.463551          1.664819  15.299228    12.051505   \n",
       "1     43.430423      16.151527          1.602635  15.409449    12.088688   \n",
       "2     43.196313      16.123386          1.641863  15.230063    11.809047   \n",
       "3     43.362200      16.159971          1.677523  15.717207    12.355918   \n",
       "4     42.954574      15.544373          1.578030  15.295650    12.218123   \n",
       "\n",
       "   felt_isolated.1  worried_become_ill.1  worried_finances.1  \\\n",
       "0        16.552264             53.256795           43.622728   \n",
       "1        16.702086             53.991549           43.604229   \n",
       "2        16.506973             54.185521           42.665766   \n",
       "3        16.273294             53.637069           42.972417   \n",
       "4        16.045504             52.446223           42.907472   \n",
       "\n",
       "   tested_positive.1  \n",
       "0          20.151838  \n",
       "1          20.704935  \n",
       "2          21.292911  \n",
       "3          21.166656  \n",
       "4          19.896607  "
      ]
     },
     "execution_count": 13,
     "metadata": {},
     "output_type": "execute_result"
    }
   ],
   "source": [
    "train_data.iloc[:5,59:77]"
   ]
  },
  {
   "cell_type": "code",
   "execution_count": 20,
   "metadata": {
    "ExecuteTime": {
     "end_time": "2021-09-13T09:30:35.084333Z",
     "start_time": "2021-09-13T09:30:35.046331Z"
    }
   },
   "outputs": [
    {
     "data": {
      "text/html": [
       "<div>\n",
       "<style>\n",
       "    .dataframe thead tr:only-child th {\n",
       "        text-align: right;\n",
       "    }\n",
       "\n",
       "    .dataframe thead th {\n",
       "        text-align: left;\n",
       "    }\n",
       "\n",
       "    .dataframe tbody tr th {\n",
       "        vertical-align: top;\n",
       "    }\n",
       "</style>\n",
       "<table border=\"1\" class=\"dataframe\">\n",
       "  <thead>\n",
       "    <tr style=\"text-align: right;\">\n",
       "      <th></th>\n",
       "      <th>cli.2</th>\n",
       "      <th>ili.2</th>\n",
       "      <th>hh_cmnty_cli.2</th>\n",
       "      <th>nohh_cmnty_cli.2</th>\n",
       "      <th>wearing_mask.2</th>\n",
       "      <th>travel_outside_state.2</th>\n",
       "      <th>work_outside_home.2</th>\n",
       "      <th>shop.2</th>\n",
       "      <th>restaurant.2</th>\n",
       "      <th>spent_time.2</th>\n",
       "      <th>large_event.2</th>\n",
       "      <th>public_transit.2</th>\n",
       "      <th>anxious.2</th>\n",
       "      <th>depressed.2</th>\n",
       "      <th>felt_isolated.2</th>\n",
       "      <th>worried_become_ill.2</th>\n",
       "      <th>worried_finances.2</th>\n",
       "      <th>tested_positive.2</th>\n",
       "    </tr>\n",
       "  </thead>\n",
       "  <tbody>\n",
       "    <tr>\n",
       "      <th>0</th>\n",
       "      <td>0.897801</td>\n",
       "      <td>0.887893</td>\n",
       "      <td>26.060544</td>\n",
       "      <td>21.503832</td>\n",
       "      <td>84.438618</td>\n",
       "      <td>13.038611</td>\n",
       "      <td>36.429119</td>\n",
       "      <td>62.434539</td>\n",
       "      <td>23.812411</td>\n",
       "      <td>43.430423</td>\n",
       "      <td>16.151527</td>\n",
       "      <td>1.602635</td>\n",
       "      <td>15.409449</td>\n",
       "      <td>12.088688</td>\n",
       "      <td>16.702086</td>\n",
       "      <td>53.991549</td>\n",
       "      <td>43.604229</td>\n",
       "      <td>20.704935</td>\n",
       "    </tr>\n",
       "    <tr>\n",
       "      <th>1</th>\n",
       "      <td>0.972842</td>\n",
       "      <td>0.965496</td>\n",
       "      <td>25.754087</td>\n",
       "      <td>21.016210</td>\n",
       "      <td>84.133873</td>\n",
       "      <td>12.581952</td>\n",
       "      <td>36.416557</td>\n",
       "      <td>62.024517</td>\n",
       "      <td>23.682974</td>\n",
       "      <td>43.196313</td>\n",
       "      <td>16.123386</td>\n",
       "      <td>1.641863</td>\n",
       "      <td>15.230063</td>\n",
       "      <td>11.809047</td>\n",
       "      <td>16.506973</td>\n",
       "      <td>54.185521</td>\n",
       "      <td>42.665766</td>\n",
       "      <td>21.292911</td>\n",
       "    </tr>\n",
       "    <tr>\n",
       "      <th>2</th>\n",
       "      <td>0.955306</td>\n",
       "      <td>0.963079</td>\n",
       "      <td>25.947015</td>\n",
       "      <td>20.941798</td>\n",
       "      <td>83.995931</td>\n",
       "      <td>12.938675</td>\n",
       "      <td>37.014578</td>\n",
       "      <td>62.116843</td>\n",
       "      <td>23.593983</td>\n",
       "      <td>43.362200</td>\n",
       "      <td>16.159971</td>\n",
       "      <td>1.677523</td>\n",
       "      <td>15.717207</td>\n",
       "      <td>12.355918</td>\n",
       "      <td>16.273294</td>\n",
       "      <td>53.637069</td>\n",
       "      <td>42.972417</td>\n",
       "      <td>21.166656</td>\n",
       "    </tr>\n",
       "    <tr>\n",
       "      <th>3</th>\n",
       "      <td>0.947513</td>\n",
       "      <td>0.968764</td>\n",
       "      <td>26.350501</td>\n",
       "      <td>21.109971</td>\n",
       "      <td>83.819531</td>\n",
       "      <td>12.452336</td>\n",
       "      <td>36.270021</td>\n",
       "      <td>61.294809</td>\n",
       "      <td>22.576992</td>\n",
       "      <td>42.954574</td>\n",
       "      <td>15.544373</td>\n",
       "      <td>1.578030</td>\n",
       "      <td>15.295650</td>\n",
       "      <td>12.218123</td>\n",
       "      <td>16.045504</td>\n",
       "      <td>52.446223</td>\n",
       "      <td>42.907472</td>\n",
       "      <td>19.896607</td>\n",
       "    </tr>\n",
       "    <tr>\n",
       "      <th>4</th>\n",
       "      <td>0.883833</td>\n",
       "      <td>0.893020</td>\n",
       "      <td>26.480624</td>\n",
       "      <td>21.003983</td>\n",
       "      <td>84.049437</td>\n",
       "      <td>12.224644</td>\n",
       "      <td>35.380198</td>\n",
       "      <td>60.664482</td>\n",
       "      <td>22.091433</td>\n",
       "      <td>43.290957</td>\n",
       "      <td>15.214655</td>\n",
       "      <td>1.641667</td>\n",
       "      <td>14.778802</td>\n",
       "      <td>12.417256</td>\n",
       "      <td>16.134238</td>\n",
       "      <td>52.560315</td>\n",
       "      <td>43.321985</td>\n",
       "      <td>20.178428</td>\n",
       "    </tr>\n",
       "  </tbody>\n",
       "</table>\n",
       "</div>"
      ],
      "text/plain": [
       "      cli.2     ili.2  hh_cmnty_cli.2  nohh_cmnty_cli.2  wearing_mask.2  \\\n",
       "0  0.897801  0.887893       26.060544         21.503832       84.438618   \n",
       "1  0.972842  0.965496       25.754087         21.016210       84.133873   \n",
       "2  0.955306  0.963079       25.947015         20.941798       83.995931   \n",
       "3  0.947513  0.968764       26.350501         21.109971       83.819531   \n",
       "4  0.883833  0.893020       26.480624         21.003983       84.049437   \n",
       "\n",
       "   travel_outside_state.2  work_outside_home.2     shop.2  restaurant.2  \\\n",
       "0               13.038611            36.429119  62.434539     23.812411   \n",
       "1               12.581952            36.416557  62.024517     23.682974   \n",
       "2               12.938675            37.014578  62.116843     23.593983   \n",
       "3               12.452336            36.270021  61.294809     22.576992   \n",
       "4               12.224644            35.380198  60.664482     22.091433   \n",
       "\n",
       "   spent_time.2  large_event.2  public_transit.2  anxious.2  depressed.2  \\\n",
       "0     43.430423      16.151527          1.602635  15.409449    12.088688   \n",
       "1     43.196313      16.123386          1.641863  15.230063    11.809047   \n",
       "2     43.362200      16.159971          1.677523  15.717207    12.355918   \n",
       "3     42.954574      15.544373          1.578030  15.295650    12.218123   \n",
       "4     43.290957      15.214655          1.641667  14.778802    12.417256   \n",
       "\n",
       "   felt_isolated.2  worried_become_ill.2  worried_finances.2  \\\n",
       "0        16.702086             53.991549           43.604229   \n",
       "1        16.506973             54.185521           42.665766   \n",
       "2        16.273294             53.637069           42.972417   \n",
       "3        16.045504             52.446223           42.907472   \n",
       "4        16.134238             52.560315           43.321985   \n",
       "\n",
       "   tested_positive.2  \n",
       "0          20.704935  \n",
       "1          21.292911  \n",
       "2          21.166656  \n",
       "3          19.896607  \n",
       "4          20.178428  "
      ]
     },
     "execution_count": 20,
     "metadata": {},
     "output_type": "execute_result"
    }
   ],
   "source": [
    "train_data.iloc[:5,77:95]"
   ]
  },
  {
   "cell_type": "code",
   "execution_count": 22,
   "metadata": {
    "ExecuteTime": {
     "end_time": "2021-09-13T09:32:00.779235Z",
     "start_time": "2021-09-13T09:32:00.736232Z"
    }
   },
   "outputs": [
    {
     "data": {
      "text/html": [
       "<div>\n",
       "<style>\n",
       "    .dataframe thead tr:only-child th {\n",
       "        text-align: right;\n",
       "    }\n",
       "\n",
       "    .dataframe thead th {\n",
       "        text-align: left;\n",
       "    }\n",
       "\n",
       "    .dataframe tbody tr th {\n",
       "        vertical-align: top;\n",
       "    }\n",
       "</style>\n",
       "<table border=\"1\" class=\"dataframe\">\n",
       "  <thead>\n",
       "    <tr style=\"text-align: right;\">\n",
       "      <th></th>\n",
       "      <th>AL</th>\n",
       "      <th>AK</th>\n",
       "      <th>AZ</th>\n",
       "      <th>AR</th>\n",
       "      <th>CA</th>\n",
       "      <th>CO</th>\n",
       "      <th>CT</th>\n",
       "      <th>FL</th>\n",
       "      <th>GA</th>\n",
       "      <th>ID</th>\n",
       "      <th>...</th>\n",
       "      <th>restaurant.2</th>\n",
       "      <th>spent_time.2</th>\n",
       "      <th>large_event.2</th>\n",
       "      <th>public_transit.2</th>\n",
       "      <th>anxious.2</th>\n",
       "      <th>depressed.2</th>\n",
       "      <th>felt_isolated.2</th>\n",
       "      <th>worried_become_ill.2</th>\n",
       "      <th>worried_finances.2</th>\n",
       "      <th>tested_positive.2</th>\n",
       "    </tr>\n",
       "  </thead>\n",
       "  <tbody>\n",
       "    <tr>\n",
       "      <th>0</th>\n",
       "      <td>1.0</td>\n",
       "      <td>0.0</td>\n",
       "      <td>0.0</td>\n",
       "      <td>0.0</td>\n",
       "      <td>0.0</td>\n",
       "      <td>0.0</td>\n",
       "      <td>0.0</td>\n",
       "      <td>0.0</td>\n",
       "      <td>0.0</td>\n",
       "      <td>0.0</td>\n",
       "      <td>...</td>\n",
       "      <td>23.812411</td>\n",
       "      <td>43.430423</td>\n",
       "      <td>16.151527</td>\n",
       "      <td>1.602635</td>\n",
       "      <td>15.409449</td>\n",
       "      <td>12.088688</td>\n",
       "      <td>16.702086</td>\n",
       "      <td>53.991549</td>\n",
       "      <td>43.604229</td>\n",
       "      <td>20.704935</td>\n",
       "    </tr>\n",
       "    <tr>\n",
       "      <th>1</th>\n",
       "      <td>1.0</td>\n",
       "      <td>0.0</td>\n",
       "      <td>0.0</td>\n",
       "      <td>0.0</td>\n",
       "      <td>0.0</td>\n",
       "      <td>0.0</td>\n",
       "      <td>0.0</td>\n",
       "      <td>0.0</td>\n",
       "      <td>0.0</td>\n",
       "      <td>0.0</td>\n",
       "      <td>...</td>\n",
       "      <td>23.682974</td>\n",
       "      <td>43.196313</td>\n",
       "      <td>16.123386</td>\n",
       "      <td>1.641863</td>\n",
       "      <td>15.230063</td>\n",
       "      <td>11.809047</td>\n",
       "      <td>16.506973</td>\n",
       "      <td>54.185521</td>\n",
       "      <td>42.665766</td>\n",
       "      <td>21.292911</td>\n",
       "    </tr>\n",
       "    <tr>\n",
       "      <th>2</th>\n",
       "      <td>1.0</td>\n",
       "      <td>0.0</td>\n",
       "      <td>0.0</td>\n",
       "      <td>0.0</td>\n",
       "      <td>0.0</td>\n",
       "      <td>0.0</td>\n",
       "      <td>0.0</td>\n",
       "      <td>0.0</td>\n",
       "      <td>0.0</td>\n",
       "      <td>0.0</td>\n",
       "      <td>...</td>\n",
       "      <td>23.593983</td>\n",
       "      <td>43.362200</td>\n",
       "      <td>16.159971</td>\n",
       "      <td>1.677523</td>\n",
       "      <td>15.717207</td>\n",
       "      <td>12.355918</td>\n",
       "      <td>16.273294</td>\n",
       "      <td>53.637069</td>\n",
       "      <td>42.972417</td>\n",
       "      <td>21.166656</td>\n",
       "    </tr>\n",
       "    <tr>\n",
       "      <th>3</th>\n",
       "      <td>1.0</td>\n",
       "      <td>0.0</td>\n",
       "      <td>0.0</td>\n",
       "      <td>0.0</td>\n",
       "      <td>0.0</td>\n",
       "      <td>0.0</td>\n",
       "      <td>0.0</td>\n",
       "      <td>0.0</td>\n",
       "      <td>0.0</td>\n",
       "      <td>0.0</td>\n",
       "      <td>...</td>\n",
       "      <td>22.576992</td>\n",
       "      <td>42.954574</td>\n",
       "      <td>15.544373</td>\n",
       "      <td>1.578030</td>\n",
       "      <td>15.295650</td>\n",
       "      <td>12.218123</td>\n",
       "      <td>16.045504</td>\n",
       "      <td>52.446223</td>\n",
       "      <td>42.907472</td>\n",
       "      <td>19.896607</td>\n",
       "    </tr>\n",
       "    <tr>\n",
       "      <th>4</th>\n",
       "      <td>1.0</td>\n",
       "      <td>0.0</td>\n",
       "      <td>0.0</td>\n",
       "      <td>0.0</td>\n",
       "      <td>0.0</td>\n",
       "      <td>0.0</td>\n",
       "      <td>0.0</td>\n",
       "      <td>0.0</td>\n",
       "      <td>0.0</td>\n",
       "      <td>0.0</td>\n",
       "      <td>...</td>\n",
       "      <td>22.091433</td>\n",
       "      <td>43.290957</td>\n",
       "      <td>15.214655</td>\n",
       "      <td>1.641667</td>\n",
       "      <td>14.778802</td>\n",
       "      <td>12.417256</td>\n",
       "      <td>16.134238</td>\n",
       "      <td>52.560315</td>\n",
       "      <td>43.321985</td>\n",
       "      <td>20.178428</td>\n",
       "    </tr>\n",
       "  </tbody>\n",
       "</table>\n",
       "<p>5 rows × 58 columns</p>\n",
       "</div>"
      ],
      "text/plain": [
       "    AL   AK   AZ   AR   CA   CO   CT   FL   GA   ID        ...          \\\n",
       "0  1.0  0.0  0.0  0.0  0.0  0.0  0.0  0.0  0.0  0.0        ...           \n",
       "1  1.0  0.0  0.0  0.0  0.0  0.0  0.0  0.0  0.0  0.0        ...           \n",
       "2  1.0  0.0  0.0  0.0  0.0  0.0  0.0  0.0  0.0  0.0        ...           \n",
       "3  1.0  0.0  0.0  0.0  0.0  0.0  0.0  0.0  0.0  0.0        ...           \n",
       "4  1.0  0.0  0.0  0.0  0.0  0.0  0.0  0.0  0.0  0.0        ...           \n",
       "\n",
       "   restaurant.2  spent_time.2  large_event.2  public_transit.2  anxious.2  \\\n",
       "0     23.812411     43.430423      16.151527          1.602635  15.409449   \n",
       "1     23.682974     43.196313      16.123386          1.641863  15.230063   \n",
       "2     23.593983     43.362200      16.159971          1.677523  15.717207   \n",
       "3     22.576992     42.954574      15.544373          1.578030  15.295650   \n",
       "4     22.091433     43.290957      15.214655          1.641667  14.778802   \n",
       "\n",
       "   depressed.2  felt_isolated.2  worried_become_ill.2  worried_finances.2  \\\n",
       "0    12.088688        16.702086             53.991549           43.604229   \n",
       "1    11.809047        16.506973             54.185521           42.665766   \n",
       "2    12.355918        16.273294             53.637069           42.972417   \n",
       "3    12.218123        16.045504             52.446223           42.907472   \n",
       "4    12.417256        16.134238             52.560315           43.321985   \n",
       "\n",
       "   tested_positive.2  \n",
       "0          20.704935  \n",
       "1          21.292911  \n",
       "2          21.166656  \n",
       "3          19.896607  \n",
       "4          20.178428  \n",
       "\n",
       "[5 rows x 58 columns]"
      ]
     },
     "execution_count": 22,
     "metadata": {},
     "output_type": "execute_result"
    }
   ],
   "source": [
    "pd.concat([train_data.iloc[:5,1:41],train_data.iloc[:5,77:95]],axis=1)"
   ]
  },
  {
   "cell_type": "code",
   "execution_count": 24,
   "metadata": {
    "ExecuteTime": {
     "end_time": "2021-09-13T09:36:57.859227Z",
     "start_time": "2021-09-13T09:36:57.834225Z"
    },
    "collapsed": true
   },
   "outputs": [],
   "source": [
    "train_day11=train_data.iloc[:,1:59]\n",
    "train_day12=pd.concat([train_data.iloc[:,1:41],train_data.iloc[:,59:77]],axis=1)\n",
    "train_day13=pd.concat([train_data.iloc[:,1:41],train_data.iloc[:,77:95]],axis=1)"
   ]
  },
  {
   "cell_type": "code",
   "execution_count": 33,
   "metadata": {
    "ExecuteTime": {
     "end_time": "2021-09-13T09:43:42.713383Z",
     "start_time": "2021-09-13T09:43:42.688382Z"
    }
   },
   "outputs": [
    {
     "data": {
      "text/plain": [
       "torch.Size([8100, 58])"
      ]
     },
     "execution_count": 33,
     "metadata": {},
     "output_type": "execute_result"
    }
   ],
   "source": [
    "train_day1=torch.cat((torch.Tensor(train_day11.values),\n",
    "                     torch.Tensor(train_day12.values),\n",
    "                     torch.Tensor(train_day13.values)))\n",
    "train_day1.shape\n"
   ]
  },
  {
   "cell_type": "code",
   "execution_count": 35,
   "metadata": {
    "ExecuteTime": {
     "end_time": "2021-09-13T09:48:07.661537Z",
     "start_time": "2021-09-13T09:48:07.624535Z"
    }
   },
   "outputs": [
    {
     "name": "stdout",
     "output_type": "stream",
     "text": [
      "test day11 (893, 58)\n",
      "test day12 (893, 58)\n",
      "test day13 (893, 57)\n"
     ]
    }
   ],
   "source": [
    "test_day11=test_data.iloc[:,1:59]\n",
    "test_day12=pd.concat([test_data.iloc[:,1:41],test_data.iloc[:,59:77]],axis=1)\n",
    "test_day13=pd.concat([test_data.iloc[:,1:41],test_data.iloc[:,77:94]],axis=1)\n",
    "print('test day11',test_day11.shape)\n",
    "print('test day12',test_day12.shape)\n",
    "print('test day13',test_day13.shape)"
   ]
  },
  {
   "cell_type": "code",
   "execution_count": 39,
   "metadata": {
    "ExecuteTime": {
     "end_time": "2021-09-13T09:56:02.325686Z",
     "start_time": "2021-09-13T09:56:02.307685Z"
    }
   },
   "outputs": [
    {
     "data": {
      "text/plain": [
       "torch.Size([1786, 58])"
      ]
     },
     "execution_count": 39,
     "metadata": {},
     "output_type": "execute_result"
    }
   ],
   "source": [
    "test_day1=torch.cat((torch.Tensor(test_day11.values),\n",
    "                   torch.Tensor(test_day12.values)))\n",
    "test_day1.shape"
   ]
  },
  {
   "cell_type": "code",
   "execution_count": 41,
   "metadata": {
    "ExecuteTime": {
     "end_time": "2021-09-13T09:57:12.219684Z",
     "start_time": "2021-09-13T09:57:12.202683Z"
    }
   },
   "outputs": [
    {
     "data": {
      "text/plain": [
       "torch.Size([9886, 58])"
      ]
     },
     "execution_count": 41,
     "metadata": {},
     "output_type": "execute_result"
    }
   ],
   "source": [
    "tt_day1=torch.cat((train_day1,test_day1))\n",
    "tt_day1.shape"
   ]
  },
  {
   "cell_type": "code",
   "execution_count": 42,
   "metadata": {
    "ExecuteTime": {
     "end_time": "2021-09-13T10:02:20.167298Z",
     "start_time": "2021-09-13T10:02:20.148297Z"
    },
    "collapsed": true
   },
   "outputs": [],
   "source": [
    "train_day21=train_data.iloc[:,1:77]\n",
    "train_day22=pd.concat([train_data.iloc[:,1:41],train_data.iloc[:,59:95]],axis=1)"
   ]
  },
  {
   "cell_type": "code",
   "execution_count": 43,
   "metadata": {
    "ExecuteTime": {
     "end_time": "2021-09-13T10:04:54.728138Z",
     "start_time": "2021-09-13T10:04:54.707137Z"
    }
   },
   "outputs": [
    {
     "data": {
      "text/plain": [
       "torch.Size([5400, 76])"
      ]
     },
     "execution_count": 43,
     "metadata": {},
     "output_type": "execute_result"
    }
   ],
   "source": [
    "train_day2=torch.cat((\n",
    "    torch.Tensor(train_day21.values),\n",
    "    torch.Tensor(train_day22.values)\n",
    "))\n",
    "train_day2.shape"
   ]
  },
  {
   "cell_type": "code",
   "execution_count": 46,
   "metadata": {
    "ExecuteTime": {
     "end_time": "2021-09-13T10:06:30.210599Z",
     "start_time": "2021-09-13T10:06:30.196599Z"
    }
   },
   "outputs": [
    {
     "data": {
      "text/plain": [
       "(893, 76)"
      ]
     },
     "execution_count": 46,
     "metadata": {},
     "output_type": "execute_result"
    }
   ],
   "source": [
    "test_day21=test_data.iloc[:,1:77]\n",
    "test_day2=test_day21\n",
    "test_day2.shape"
   ]
  },
  {
   "cell_type": "code",
   "execution_count": null,
   "metadata": {
    "collapsed": true
   },
   "outputs": [],
   "source": []
  }
 ],
 "metadata": {
  "kernelspec": {
   "display_name": "Python 3",
   "language": "python",
   "name": "python3"
  },
  "language_info": {
   "codemirror_mode": {
    "name": "ipython",
    "version": 3
   },
   "file_extension": ".py",
   "mimetype": "text/x-python",
   "name": "python",
   "nbconvert_exporter": "python",
   "pygments_lexer": "ipython3",
   "version": "3.6.3"
  }
 },
 "nbformat": 4,
 "nbformat_minor": 2
}
