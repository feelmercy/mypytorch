{
 "cells": [
  {
   "cell_type": "markdown",
   "metadata": {
    "id": "mz0_QVkxCrX3"
   },
   "source": [
    "# **Homework 1: COVID-19 Cases Prediction (Regression)**"
   ]
  },
  {
   "cell_type": "markdown",
   "metadata": {
    "id": "ZeZnPAiwDRWG"
   },
   "source": [
    "Author: Heng-Jui Chang\n",
    "\n",
    "Slides: https://github.com/ga642381/ML2021-Spring/blob/main/HW01/HW01.pdf  \n",
    "Video: TBA\n",
    "\n",
    "Objectives:\n",
    "* Solve a regression problem with deep neural networks (DNN).\n",
    "* Understand basic DNN training tips.\n",
    "* Get familiar with PyTorch.\n",
    "\n",
    "If any questions, please contact the TAs via TA hours, NTU COOL, or email.\n"
   ]
  },
  {
   "cell_type": "markdown",
   "metadata": {
    "id": "Jx3x1nDkG-Uy"
   },
   "source": [
    "# **Download Data**\n",
    "\n",
    "\n",
    "If the Google drive links are dead, you can download data from [kaggle](https://www.kaggle.com/c/ml2021spring-hw1/data), and upload data manually to the workspace."
   ]
  },
  {
   "cell_type": "code",
   "execution_count": 1,
   "metadata": {
    "ExecuteTime": {
     "end_time": "2021-05-18T03:12:18.977729Z",
     "start_time": "2021-05-18T03:12:18.874723Z"
    },
    "colab": {
     "base_uri": "https://localhost:8080/"
    },
    "id": "tMj55YDKG6ch",
    "outputId": "fc40ecc9-4756-48b1-d5c6-c169a8b453b2"
   },
   "outputs": [
    {
     "name": "stderr",
     "output_type": "stream",
     "text": [
      "'gdown' 不是内部或外部命令，也不是可运行的程序\n",
      "或批处理文件。\n",
      "'gdown' 不是内部或外部命令，也不是可运行的程序\n",
      "或批处理文件。\n"
     ]
    }
   ],
   "source": [
    "tr_path = r'F:\\study\\ml\\HonyiLee2021\\Lhy_Machine_Learning-main\\01 Introduction\\dataset\\covid.train.csv'  # path to training data\n",
    "tt_path = r'F:\\study\\ml\\HonyiLee2021\\Lhy_Machine_Learning-main\\01 Introduction\\dataset\\covid.test.csv'   # path to testing data\n",
    "\n",
    "!gdown --id '19CCyCgJrUxtvgZF53vnctJiOJ23T5mqF' --output covid.train.csv\n",
    "!gdown --id '1CE240jLm2npU-tdz81-oVKEF3T2yfT1O' --output covid.test.csv"
   ]
  },
  {
   "cell_type": "markdown",
   "metadata": {
    "id": "wS_4-77xHk44"
   },
   "source": [
    "# **Import Some Packages**"
   ]
  },
  {
   "cell_type": "code",
   "execution_count": 74,
   "metadata": {
    "ExecuteTime": {
     "end_time": "2021-05-18T05:19:51.649436Z",
     "start_time": "2021-05-18T05:19:51.622435Z"
    },
    "collapsed": true,
    "id": "k-onQd4JNA5H"
   },
   "outputs": [],
   "source": [
    "# PyTorch\n",
    "import torch\n",
    "import torch.nn as nn\n",
    "from torch.utils.data import Dataset, DataLoader\n",
    "\n",
    "# For data preprocess\n",
    "import numpy as np\n",
    "import csv\n",
    "import os\n",
    "\n",
    "# For plotting\n",
    "import matplotlib.pyplot as plt\n",
    "from matplotlib.pyplot import figure\n",
    "\n",
    "myseed = 42069  # set a random seed for reproducibility\n",
    "torch.backends.cudnn.deterministic = True\n",
    "torch.backends.cudnn.benchmark = False\n",
    "np.random.seed(myseed)\n",
    "torch.manual_seed(myseed)\n",
    "if torch.cuda.is_available():\n",
    "    torch.cuda.manual_seed_all(myseed)"
   ]
  },
  {
   "cell_type": "markdown",
   "metadata": {
    "id": "BtE3b6JEH7rw"
   },
   "source": [
    "# **Some Utilities**\n",
    "\n",
    "You do not need to modify this part."
   ]
  },
  {
   "cell_type": "code",
   "execution_count": 75,
   "metadata": {
    "ExecuteTime": {
     "end_time": "2021-05-18T05:19:52.861506Z",
     "start_time": "2021-05-18T05:19:52.756500Z"
    },
    "collapsed": true,
    "id": "FWMT3uf1NGQp"
   },
   "outputs": [],
   "source": [
    "def get_device():\n",
    "    ''' Get device (if GPU is available, use GPU) '''\n",
    "    return 'cuda' if torch.cuda.is_available() else 'cpu'\n",
    "\n",
    "def plot_learning_curve(loss_record, title=''):\n",
    "    ''' Plot learning curve of your DNN (train & dev loss) '''\n",
    "    total_steps = len(loss_record['train'])\n",
    "    x_1 = range(total_steps)\n",
    "    x_2 = x_1[::len(loss_record['train']) // len(loss_record['dev'])]\n",
    "    figure(figsize=(6, 4))\n",
    "    plt.plot(x_1, loss_record['train'], c='tab:red', label='train')\n",
    "    plt.plot(x_2, loss_record['dev'], c='tab:cyan', label='dev')\n",
    "    plt.ylim(0.0, 5.)\n",
    "    plt.xlabel('Training steps')\n",
    "    plt.ylabel('MSE loss')\n",
    "    plt.title('Learning curve of {}'.format(title))\n",
    "    plt.legend()\n",
    "    plt.show()\n",
    "\n",
    "\n",
    "def plot_pred(dv_set, model, device, lim=35., preds=None, targets=None):\n",
    "    ''' Plot prediction of your DNN '''\n",
    "    if preds is None or targets is None:\n",
    "        model.eval()\n",
    "        preds, targets = [], []\n",
    "        for x, y in dv_set:\n",
    "            x, y = x.to(device), y.to(device)\n",
    "            with torch.no_grad():\n",
    "                pred = model(x)\n",
    "                preds.append(pred.detach().cpu())\n",
    "                targets.append(y.detach().cpu())\n",
    "        preds = torch.cat(preds, dim=0).numpy()\n",
    "        targets = torch.cat(targets, dim=0).numpy()\n",
    "\n",
    "    figure(figsize=(5, 5))\n",
    "    plt.scatter(targets, preds, c='r', alpha=0.5)\n",
    "    plt.plot([-0.2, lim], [-0.2, lim], c='b')\n",
    "    plt.xlim(-0.2, lim)\n",
    "    plt.ylim(-0.2, lim)\n",
    "    plt.xlabel('ground truth value')\n",
    "    plt.ylabel('predicted value')\n",
    "    plt.title('Ground Truth v.s. Prediction')\n",
    "    plt.show()"
   ]
  },
  {
   "cell_type": "markdown",
   "metadata": {
    "id": "39U_XFX6KOoj"
   },
   "source": [
    "# **Preprocess**\n",
    "\n",
    "We have three kinds of datasets:\n",
    "* `train`: for training\n",
    "* `dev`: for validation\n",
    "* `test`: for testing (w/o target value)"
   ]
  },
  {
   "cell_type": "markdown",
   "metadata": {
    "id": "TQ-MdwpLL7Dt"
   },
   "source": [
    "## **Dataset**\n",
    "\n",
    "The `COVID19Dataset` below does:\n",
    "* read `.csv` files\n",
    "* extract features\n",
    "* split `covid.train.csv` into train/dev sets\n",
    "* normalize features\n",
    "\n",
    "Finishing `TODO` below might make you pass medium baseline."
   ]
  },
  {
   "cell_type": "code",
   "execution_count": 76,
   "metadata": {
    "ExecuteTime": {
     "end_time": "2021-05-18T05:19:59.298874Z",
     "start_time": "2021-05-18T05:19:59.164866Z"
    },
    "collapsed": true,
    "id": "0zlpIp9ANJRU"
   },
   "outputs": [],
   "source": [
    "class COVID19Dataset(Dataset):\n",
    "    ''' Dataset for loading and preprocessing the COVID19 dataset '''\n",
    "    def __init__(self,\n",
    "                 path,\n",
    "                 mu,\n",
    "                 std,\n",
    "                 mode='train',\n",
    "                 target_only=False):\n",
    "        self.mode = mode\n",
    "\n",
    "        # Read data into numpy arrays\n",
    "        with open(path, 'r') as fp:\n",
    "            data = list(csv.reader(fp))\n",
    "            data = np.array(data[1:])[:, 1:].astype(float)\n",
    "        \n",
    "        if not target_only:\n",
    "            feats = list(range(93))\n",
    "#             feats=list(range(40))+[42, 57, 60, 75, 78]  ## > 0.85\n",
    "#             feats=list(range(40))+[57, 75]\n",
    "        else:\n",
    "            # TODO: Using 40 states & 2 tested_positive features (indices = 57 & 75)\n",
    "            pass\n",
    "\n",
    "        if mode == 'test':\n",
    "            # Testing data\n",
    "            # data: 893 x 93 (40 states + day 1 (18) + day 2 (18) + day 3 (17))\n",
    "            data = data[:, feats]\n",
    "            self.data = torch.FloatTensor(data)\n",
    "        else:\n",
    "            # Training data (train/dev sets)\n",
    "            # data: 2700 x 94 (40 states + day 1 (18) + day 2 (18) + day 3 (18))\n",
    "            target = data[:, -1]\n",
    "            data = data[:, feats]\n",
    "            \n",
    "            # Splitting training data into train & dev sets\n",
    "            \n",
    "            if mode == 'train':\n",
    "                indices = [i for i in range(len(data)) if i % 10 != 0]\n",
    "            elif mode == 'dev':\n",
    "                indices = [i for i in range(len(data)) if i % 10 == 0]\n",
    "            \n",
    "            # Convert data into PyTorch tensors\n",
    "            self.data = torch.FloatTensor(data[indices])\n",
    "            self.target = torch.FloatTensor(target[indices])\n",
    "\n",
    "        # Normalize features (you may remove this part to see what will happen)\n",
    "        if mode=='train':\n",
    "            self.mu=self.data[:,40:].mean(dim=0,keepdim=True)\n",
    "            self.std=self.data[:,40:].std(dim=0,keepdim=True)\n",
    "        else:\n",
    "            self.mu=mu\n",
    "            self.std=std\n",
    "        self.data[:,40:]=(self.data[:,40:]-self.mu)/self.std\n",
    "        \n",
    "#         self.data[:, 40:] = \\\n",
    "#             (self.data[:, 40:] - self.data[:, 40:].mean(dim=0, keepdim=True)) \\\n",
    "#             / self.data[:, 40:].std(dim=0, keepdim=True)\n",
    "\n",
    "        self.dim = self.data.shape[1]\n",
    "\n",
    "        print('Finished reading the {} set of COVID19 Dataset ({} samples found, each dim = {})'\n",
    "              .format(mode, len(self.data), self.dim))\n",
    "\n",
    "    def __getitem__(self, index):\n",
    "        # Returns one sample at a time\n",
    "        if self.mode in ['train', 'dev']:\n",
    "            # For training\n",
    "            return self.data[index], self.target[index]\n",
    "        else:\n",
    "            # For testing (no target)\n",
    "            return self.data[index]\n",
    "\n",
    "    def __len__(self):\n",
    "        # Returns the size of the dataset\n",
    "        return len(self.data)"
   ]
  },
  {
   "cell_type": "markdown",
   "metadata": {
    "id": "AlhTlkE7MDo3"
   },
   "source": [
    "## **DataLoader**\n",
    "\n",
    "A `DataLoader` loads data from a given `Dataset` into batches.\n"
   ]
  },
  {
   "cell_type": "code",
   "execution_count": 77,
   "metadata": {
    "ExecuteTime": {
     "end_time": "2021-05-18T05:20:00.590948Z",
     "start_time": "2021-05-18T05:20:00.563946Z"
    },
    "collapsed": true,
    "id": "hlhLk5t6MBX3"
   },
   "outputs": [],
   "source": [
    "def prep_dataloader(path, mode, batch_size, n_jobs=0, target_only=False,mu=None,std=None):\n",
    "    ''' Generates a dataset, then is put into a dataloader. '''\n",
    "    dataset = COVID19Dataset(path, mu,std,mode=mode, target_only=target_only)  # Construct dataset\n",
    "    if mode=='train':\n",
    "        mu=dataset.mu\n",
    "        std=dataset.std\n",
    "    dataloader = DataLoader(\n",
    "        dataset, batch_size,\n",
    "        shuffle=(mode == 'train'), drop_last=False,\n",
    "        num_workers=n_jobs, pin_memory=True)                            # Construct dataloader\n",
    "    return dataloader,mu,std"
   ]
  },
  {
   "cell_type": "markdown",
   "metadata": {
    "id": "SGuycwR0MeQB"
   },
   "source": [
    "# **Deep Neural Network**\n",
    "\n",
    "`NeuralNet` is an `nn.Module` designed for regression.\n",
    "The DNN consists of 2 fully-connected layers with ReLU activation.\n",
    "This module also included a function `cal_loss` for calculating loss.\n"
   ]
  },
  {
   "cell_type": "code",
   "execution_count": 78,
   "metadata": {
    "ExecuteTime": {
     "end_time": "2021-05-18T05:20:01.830019Z",
     "start_time": "2021-05-18T05:20:01.794017Z"
    },
    "collapsed": true,
    "id": "49-uXYovOAI0"
   },
   "outputs": [],
   "source": [
    "class NeuralNet(nn.Module):\n",
    "    ''' A simple fully-connected deep neural network '''\n",
    "    def __init__(self, input_dim):\n",
    "        super(NeuralNet, self).__init__()\n",
    "\n",
    "        # Define your neural network here\n",
    "        # TODO: How to modify this model to achieve better performance?\n",
    "        self.net = nn.Sequential(\n",
    "            nn.Linear(input_dim, 64),\n",
    "            nn.ReLU(),\n",
    "            nn.Linear(64, 1)\n",
    "        )\n",
    "\n",
    "        # Mean squared error loss\n",
    "        self.criterion = nn.MSELoss(reduction='mean')\n",
    "\n",
    "    def forward(self, x):\n",
    "        ''' Given input of size (batch_size x input_dim), compute output of the network '''\n",
    "        return self.net(x).squeeze(1)\n",
    "\n",
    "    def cal_loss(self, pred, target):\n",
    "        ''' Calculate loss '''\n",
    "        # TODO: you may implement L2 regularization here\n",
    "        return self.criterion(pred, target)"
   ]
  },
  {
   "cell_type": "markdown",
   "metadata": {
    "id": "DvFWVjZ5Nvga"
   },
   "source": [
    "# **Train/Dev/Test**"
   ]
  },
  {
   "cell_type": "markdown",
   "metadata": {
    "id": "MAM8QecJOyqn"
   },
   "source": [
    "## **Training**"
   ]
  },
  {
   "cell_type": "code",
   "execution_count": 79,
   "metadata": {
    "ExecuteTime": {
     "end_time": "2021-05-18T05:20:03.622121Z",
     "start_time": "2021-05-18T05:20:03.540116Z"
    },
    "collapsed": true,
    "id": "lOqcmYzMO7jB"
   },
   "outputs": [],
   "source": [
    "def train(tr_set, dv_set, model, config, device):\n",
    "    ''' DNN training '''\n",
    "\n",
    "    n_epochs = config['n_epochs']  # Maximum number of epochs\n",
    "\n",
    "    # Setup optimizer\n",
    "    optimizer = getattr(torch.optim, config['optimizer'])(\n",
    "        model.parameters(), **config['optim_hparas'])\n",
    "\n",
    "    min_mse = 1000.\n",
    "    loss_record = {'train': [], 'dev': []}      # for recording training loss\n",
    "    early_stop_cnt = 0\n",
    "    epoch = 0\n",
    "    while epoch < n_epochs:\n",
    "        model.train()                           # set model to training mode\n",
    "        for x, y in tr_set:                     # iterate through the dataloader\n",
    "            optimizer.zero_grad()               # set gradient to zero\n",
    "            x, y = x.to(device), y.to(device)   # move data to device (cpu/cuda)\n",
    "            pred = model(x)                     # forward pass (compute output)\n",
    "            mse_loss = model.cal_loss(pred, y)  # compute loss\n",
    "            mse_loss.backward()                 # compute gradient (backpropagation)\n",
    "            optimizer.step()                    # update model with optimizer\n",
    "            loss_record['train'].append(mse_loss.detach().cpu().item())\n",
    "\n",
    "        # After each epoch, test your model on the validation (development) set.\n",
    "        dev_mse = dev(dv_set, model, device)\n",
    "        if dev_mse < min_mse:\n",
    "            # Save model if your model improved\n",
    "            min_mse = dev_mse\n",
    "            print('Saving model (epoch = {:4d}, loss = {:.4f})'\n",
    "                .format(epoch + 1, min_mse))\n",
    "            torch.save(model.state_dict(), config['save_path'])  # Save model to specified path\n",
    "            early_stop_cnt = 0\n",
    "        else:\n",
    "            early_stop_cnt += 1\n",
    "\n",
    "        epoch += 1\n",
    "        loss_record['dev'].append(dev_mse)\n",
    "        if early_stop_cnt > config['early_stop']:\n",
    "            # Stop training if your model stops improving for \"config['early_stop']\" epochs.\n",
    "            break\n",
    "\n",
    "    print('Finished training after {} epochs'.format(epoch))\n",
    "    return min_mse, loss_record"
   ]
  },
  {
   "cell_type": "markdown",
   "metadata": {
    "id": "0hSd4Bn3O2PL"
   },
   "source": [
    "## **Validation**"
   ]
  },
  {
   "cell_type": "code",
   "execution_count": 80,
   "metadata": {
    "ExecuteTime": {
     "end_time": "2021-05-18T05:20:04.734185Z",
     "start_time": "2021-05-18T05:20:04.705183Z"
    },
    "collapsed": true,
    "id": "yrxrD3YsN3U2"
   },
   "outputs": [],
   "source": [
    "def dev(dv_set, model, device):\n",
    "    model.eval()                                # set model to evalutation mode\n",
    "    total_loss = 0\n",
    "    for x, y in dv_set:                         # iterate through the dataloader\n",
    "        x, y = x.to(device), y.to(device)       # move data to device (cpu/cuda)\n",
    "        with torch.no_grad():                   # disable gradient calculation\n",
    "            pred = model(x)                     # forward pass (compute output)\n",
    "            mse_loss = model.cal_loss(pred, y)  # compute loss\n",
    "        total_loss += mse_loss.detach().cpu().item() * len(x)  # accumulate loss\n",
    "    total_loss = total_loss / len(dv_set.dataset)              # compute averaged loss\n",
    "\n",
    "    return total_loss"
   ]
  },
  {
   "cell_type": "markdown",
   "metadata": {
    "id": "g0pdrhQAO41L"
   },
   "source": [
    "## **Testing**"
   ]
  },
  {
   "cell_type": "code",
   "execution_count": 81,
   "metadata": {
    "ExecuteTime": {
     "end_time": "2021-05-18T05:20:05.934253Z",
     "start_time": "2021-05-18T05:20:05.913252Z"
    },
    "collapsed": true,
    "id": "aSBMRFlYN5tB"
   },
   "outputs": [],
   "source": [
    "def test(tt_set, model, device):\n",
    "    model.eval()                                # set model to evalutation mode\n",
    "    preds = []\n",
    "    for x in tt_set:                            # iterate through the dataloader\n",
    "        x = x.to(device)                        # move data to device (cpu/cuda)\n",
    "        with torch.no_grad():                   # disable gradient calculation\n",
    "            pred = model(x)                     # forward pass (compute output)\n",
    "            preds.append(pred.detach().cpu())   # collect prediction\n",
    "    preds = torch.cat(preds, dim=0).numpy()     # concatenate all predictions and convert to a numpy array\n",
    "    return preds"
   ]
  },
  {
   "cell_type": "markdown",
   "metadata": {
    "id": "SvckkF5dvf0j"
   },
   "source": [
    "# **Setup Hyper-parameters**\n",
    "\n",
    "`config` contains hyper-parameters for training and the path to save your model."
   ]
  },
  {
   "cell_type": "code",
   "execution_count": 82,
   "metadata": {
    "ExecuteTime": {
     "end_time": "2021-05-18T05:20:08.480399Z",
     "start_time": "2021-05-18T05:20:08.460398Z"
    },
    "collapsed": true,
    "id": "NPXpdumwPjE7"
   },
   "outputs": [],
   "source": [
    "device = get_device()                 # get the current available device ('cpu' or 'cuda')\n",
    "os.makedirs('models', exist_ok=True)  # The trained model will be saved to ./models/\n",
    "target_only = False                   # TODO: Using 40 states & 2 tested_positive features\n",
    "\n",
    "# TODO: How to tune these hyper-parameters to improve your model's performance?\n",
    "config = {\n",
    "    'n_epochs': 3000,                # maximum number of epochs\n",
    "    'batch_size': 270,               # mini-batch size for dataloader\n",
    "    'optimizer': 'SGD',              # optimization algorithm (optimizer in torch.optim)\n",
    "    'optim_hparas': {                # hyper-parameters for the optimizer (depends on which optimizer you are using)\n",
    "        'lr': 0.001,                 # learning rate of SGD\n",
    "        'momentum': 0.9              # momentum for SGD\n",
    "    },\n",
    "    'early_stop': 200,               # early stopping epochs (the number epochs since your model's last improvement)\n",
    "    'save_path': 'models/model.pth'  # your model will be saved here\n",
    "}"
   ]
  },
  {
   "cell_type": "markdown",
   "metadata": {
    "id": "6j1eOV3TOH-j"
   },
   "source": [
    "# **Load data and model**"
   ]
  },
  {
   "cell_type": "code",
   "execution_count": 83,
   "metadata": {
    "ExecuteTime": {
     "end_time": "2021-05-18T05:20:10.399509Z",
     "start_time": "2021-05-18T05:20:09.875479Z"
    },
    "colab": {
     "base_uri": "https://localhost:8080/"
    },
    "id": "eNrYBMmePLKm",
    "outputId": "fcd4f175-4f7e-4306-f33c-5f8285f11dce"
   },
   "outputs": [
    {
     "name": "stdout",
     "output_type": "stream",
     "text": [
      "Finished reading the train set of COVID19 Dataset (2430 samples found, each dim = 93)\n",
      "Finished reading the dev set of COVID19 Dataset (270 samples found, each dim = 93)\n",
      "Finished reading the test set of COVID19 Dataset (893 samples found, each dim = 93)\n"
     ]
    }
   ],
   "source": [
    "tr_set,tr_mu,tr_std = prep_dataloader(tr_path, 'train', config['batch_size'], target_only=target_only)\n",
    "dv_set,mu_none,std_none= prep_dataloader(tr_path, 'dev', config['batch_size'], target_only=target_only,mu=tr_mu,std=tr_std)\n",
    "tt_set,mu_none,std_none = prep_dataloader(tt_path, 'test', config['batch_size'], target_only=target_only,mu=tr_mu,std=tr_std)"
   ]
  },
  {
   "cell_type": "code",
   "execution_count": 84,
   "metadata": {
    "ExecuteTime": {
     "end_time": "2021-05-18T05:20:11.068547Z",
     "start_time": "2021-05-18T05:20:11.059547Z"
    },
    "collapsed": true,
    "id": "FHylSirLP9oh"
   },
   "outputs": [],
   "source": [
    "model = NeuralNet(tr_set.dataset.dim).to(device)  # Construct model and move to device"
   ]
  },
  {
   "cell_type": "markdown",
   "metadata": {
    "id": "sX2B_zgSOPTJ"
   },
   "source": [
    "# **Start Training!**"
   ]
  },
  {
   "cell_type": "code",
   "execution_count": 85,
   "metadata": {
    "ExecuteTime": {
     "end_time": "2021-05-18T05:21:05.084637Z",
     "start_time": "2021-05-18T05:20:12.371622Z"
    },
    "colab": {
     "base_uri": "https://localhost:8080/"
    },
    "id": "GrEbUxazQAAZ",
    "outputId": "f4f3bd74-2d97-4275-b69f-6609976b91f9"
   },
   "outputs": [
    {
     "name": "stdout",
     "output_type": "stream",
     "text": [
      "Saving model (epoch =    1, loss = 75.6427)\n",
      "Saving model (epoch =    2, loss = 37.1798)\n",
      "Saving model (epoch =    3, loss = 29.1531)\n",
      "Saving model (epoch =    4, loss = 16.8318)\n",
      "Saving model (epoch =    5, loss = 10.1998)\n",
      "Saving model (epoch =    6, loss = 6.7093)\n",
      "Saving model (epoch =    7, loss = 5.2783)\n",
      "Saving model (epoch =    8, loss = 4.4299)\n",
      "Saving model (epoch =    9, loss = 3.8482)\n",
      "Saving model (epoch =   10, loss = 3.4249)\n",
      "Saving model (epoch =   11, loss = 3.1452)\n",
      "Saving model (epoch =   12, loss = 2.8846)\n",
      "Saving model (epoch =   13, loss = 2.6896)\n",
      "Saving model (epoch =   14, loss = 2.4633)\n",
      "Saving model (epoch =   15, loss = 2.2865)\n",
      "Saving model (epoch =   16, loss = 2.1942)\n",
      "Saving model (epoch =   17, loss = 2.0430)\n",
      "Saving model (epoch =   18, loss = 1.9405)\n",
      "Saving model (epoch =   19, loss = 1.8564)\n",
      "Saving model (epoch =   20, loss = 1.8286)\n",
      "Saving model (epoch =   21, loss = 1.7167)\n",
      "Saving model (epoch =   22, loss = 1.6625)\n",
      "Saving model (epoch =   23, loss = 1.6126)\n",
      "Saving model (epoch =   24, loss = 1.5543)\n",
      "Saving model (epoch =   25, loss = 1.4980)\n",
      "Saving model (epoch =   26, loss = 1.4654)\n",
      "Saving model (epoch =   27, loss = 1.4312)\n",
      "Saving model (epoch =   28, loss = 1.4057)\n",
      "Saving model (epoch =   29, loss = 1.3728)\n",
      "Saving model (epoch =   31, loss = 1.3457)\n",
      "Saving model (epoch =   32, loss = 1.3203)\n",
      "Saving model (epoch =   33, loss = 1.2874)\n",
      "Saving model (epoch =   34, loss = 1.2664)\n",
      "Saving model (epoch =   36, loss = 1.2440)\n",
      "Saving model (epoch =   37, loss = 1.2415)\n",
      "Saving model (epoch =   38, loss = 1.2302)\n",
      "Saving model (epoch =   39, loss = 1.2074)\n",
      "Saving model (epoch =   40, loss = 1.1771)\n",
      "Saving model (epoch =   41, loss = 1.1764)\n",
      "Saving model (epoch =   43, loss = 1.1700)\n",
      "Saving model (epoch =   44, loss = 1.1368)\n",
      "Saving model (epoch =   46, loss = 1.1134)\n",
      "Saving model (epoch =   50, loss = 1.1015)\n",
      "Saving model (epoch =   51, loss = 1.0782)\n",
      "Saving model (epoch =   53, loss = 1.0757)\n",
      "Saving model (epoch =   55, loss = 1.0710)\n",
      "Saving model (epoch =   57, loss = 1.0548)\n",
      "Saving model (epoch =   59, loss = 1.0454)\n",
      "Saving model (epoch =   61, loss = 1.0275)\n",
      "Saving model (epoch =   63, loss = 1.0085)\n",
      "Saving model (epoch =   71, loss = 1.0005)\n",
      "Saving model (epoch =   72, loss = 0.9885)\n",
      "Saving model (epoch =   75, loss = 0.9784)\n",
      "Saving model (epoch =   76, loss = 0.9780)\n",
      "Saving model (epoch =   79, loss = 0.9698)\n",
      "Saving model (epoch =   84, loss = 0.9563)\n",
      "Saving model (epoch =   87, loss = 0.9439)\n",
      "Saving model (epoch =   90, loss = 0.9357)\n",
      "Saving model (epoch =   97, loss = 0.9294)\n",
      "Saving model (epoch =   99, loss = 0.9167)\n",
      "Saving model (epoch =  100, loss = 0.9110)\n",
      "Saving model (epoch =  106, loss = 0.9014)\n",
      "Saving model (epoch =  108, loss = 0.9005)\n",
      "Saving model (epoch =  110, loss = 0.9001)\n",
      "Saving model (epoch =  111, loss = 0.8963)\n",
      "Saving model (epoch =  114, loss = 0.8959)\n",
      "Saving model (epoch =  119, loss = 0.8829)\n",
      "Saving model (epoch =  126, loss = 0.8798)\n",
      "Saving model (epoch =  127, loss = 0.8707)\n",
      "Saving model (epoch =  133, loss = 0.8686)\n",
      "Saving model (epoch =  140, loss = 0.8627)\n",
      "Saving model (epoch =  143, loss = 0.8479)\n",
      "Saving model (epoch =  172, loss = 0.8380)\n",
      "Saving model (epoch =  201, loss = 0.8307)\n",
      "Saving model (epoch =  215, loss = 0.8264)\n",
      "Saving model (epoch =  225, loss = 0.8260)\n",
      "Saving model (epoch =  233, loss = 0.8198)\n",
      "Saving model (epoch =  253, loss = 0.8197)\n",
      "Saving model (epoch =  270, loss = 0.8184)\n",
      "Saving model (epoch =  275, loss = 0.8121)\n",
      "Saving model (epoch =  283, loss = 0.8108)\n",
      "Saving model (epoch =  306, loss = 0.8062)\n",
      "Saving model (epoch =  313, loss = 0.8040)\n",
      "Saving model (epoch =  359, loss = 0.8004)\n",
      "Saving model (epoch =  369, loss = 0.7981)\n",
      "Saving model (epoch =  462, loss = 0.7956)\n",
      "Saving model (epoch =  469, loss = 0.7942)\n",
      "Saving model (epoch =  476, loss = 0.7925)\n",
      "Saving model (epoch =  538, loss = 0.7920)\n",
      "Saving model (epoch =  637, loss = 0.7909)\n",
      "Saving model (epoch =  651, loss = 0.7907)\n",
      "Saving model (epoch =  654, loss = 0.7891)\n",
      "Saving model (epoch =  728, loss = 0.7880)\n",
      "Saving model (epoch =  768, loss = 0.7871)\n",
      "Saving model (epoch =  813, loss = 0.7855)\n",
      "Saving model (epoch =  818, loss = 0.7845)\n",
      "Saving model (epoch =  904, loss = 0.7810)\n",
      "Saving model (epoch =  914, loss = 0.7782)\n",
      "Saving model (epoch =  961, loss = 0.7722)\n",
      "Saving model (epoch = 1074, loss = 0.7714)\n",
      "Saving model (epoch = 1125, loss = 0.7690)\n",
      "Saving model (epoch = 1185, loss = 0.7688)\n",
      "Saving model (epoch = 1201, loss = 0.7677)\n",
      "Saving model (epoch = 1270, loss = 0.7612)\n",
      "Saving model (epoch = 1447, loss = 0.7589)\n",
      "Saving model (epoch = 1470, loss = 0.7578)\n",
      "Saving model (epoch = 1593, loss = 0.7537)\n",
      "Finished training after 1794 epochs\n"
     ]
    }
   ],
   "source": [
    "model_loss, model_loss_record = train(tr_set, dv_set, model, config, device)"
   ]
  },
  {
   "cell_type": "code",
   "execution_count": 86,
   "metadata": {
    "ExecuteTime": {
     "end_time": "2021-05-18T05:21:24.013719Z",
     "start_time": "2021-05-18T05:21:23.853710Z"
    },
    "colab": {
     "base_uri": "https://localhost:8080/",
     "height": 295
    },
    "id": "hsNO9nnXQBvP",
    "outputId": "1626def6-94c7-4a87-9447-d939f827c8eb"
   },
   "outputs": [
    {
     "data": {
      "image/png": "[encoded data removed]",
      "text/plain": [
       "<matplotlib.figure.Figure at 0x11969e10>"
      ]
     },
     "metadata": {},
     "output_type": "display_data"
    }
   ],
   "source": [
    "plot_learning_curve(model_loss_record, title='deep model')"
   ]
  },
  {
   "cell_type": "code",
   "execution_count": 87,
   "metadata": {
    "ExecuteTime": {
     "end_time": "2021-05-18T05:21:25.014777Z",
     "start_time": "2021-05-18T05:21:24.868768Z"
    },
    "colab": {
     "base_uri": "https://localhost:8080/",
     "height": 350
    },
    "id": "3iZTVn5WQFpX",
    "outputId": "a2d5e118-559d-45c6-b644-6792af54663d"
   },
   "outputs": [
    {
     "data": {
      "image/png": "[encoded data removed]",
      "text/plain": [
       "<matplotlib.figure.Figure at 0x10656320>"
      ]
     },
     "metadata": {},
     "output_type": "display_data"
    }
   ],
   "source": [
    "del model\n",
    "model = NeuralNet(tr_set.dataset.dim).to(device)\n",
    "ckpt = torch.load(config['save_path'], map_location='cpu')  # Load your best model\n",
    "model.load_state_dict(ckpt)\n",
    "plot_pred(dv_set, model, device)  # Show prediction on the validation set"
   ]
  },
  {
   "cell_type": "markdown",
   "metadata": {},
   "source": [
    "# **Test**"
   ]
  },
  {
   "cell_type": "code",
   "execution_count": 88,
   "metadata": {
    "ExecuteTime": {
     "end_time": "2021-05-18T05:21:26.139841Z",
     "start_time": "2021-05-18T05:21:26.091838Z"
    },
    "collapsed": true
   },
   "outputs": [],
   "source": [
    "class NeuralNet(nn.Module):\n",
    "    ''' A simple fully-connected deep neural network '''\n",
    "    def __init__(self, input_dim):\n",
    "        super(NeuralNet, self).__init__()\n",
    "\n",
    "        # Define your neural network here\n",
    "        # TODO: How to modify this model to achieve better performance?\n",
    "        self.net = nn.Sequential(\n",
    "            nn.Linear(input_dim, 64),\n",
    "            nn.ReLU(),\n",
    "            nn.Linear(64, 1)\n",
    "        )\n",
    "\n",
    "        # Mean squared error loss\n",
    "        self.criterion = nn.MSELoss(reduction='mean')\n",
    "\n",
    "    def forward(self, x):\n",
    "        ''' Given input of size (batch_size x input_dim), compute output of the network '''\n",
    "        return self.net(x).squeeze(1)\n",
    "\n",
    "    def cal_loss(self, pred, target):\n",
    "        ''' Calculate loss '''\n",
    "        # TODO: you may implement L2 regularization here\n",
    "        return torch.sqrt(self.criterion(pred, target))"
   ]
  },
  {
   "cell_type": "code",
   "execution_count": 89,
   "metadata": {
    "ExecuteTime": {
     "end_time": "2021-05-18T05:21:26.722874Z",
     "start_time": "2021-05-18T05:21:26.699873Z"
    },
    "collapsed": true
   },
   "outputs": [],
   "source": [
    "device = get_device()                 # get the current available device ('cpu' or 'cuda')\n",
    "os.makedirs('models', exist_ok=True)  # The trained model will be saved to ./models/\n",
    "target_only = False                   # TODO: Using 40 states & 2 tested_positive features\n",
    "\n",
    "# TODO: How to tune these hyper-parameters to improve your model's performance?\n",
    "config = {\n",
    "    'n_epochs': 3000,                # maximum number of epochs\n",
    "    'batch_size': 270,               # mini-batch size for dataloader\n",
    "    'optimizer': 'SGD',              # optimization algorithm (optimizer in torch.optim)\n",
    "    'optim_hparas': {                # hyper-parameters for the optimizer (depends on which optimizer you are using)\n",
    "        'lr': 0.001,                 # learning rate of SGD\n",
    "        'momentum': 0.9,            # momentum for SGD\n",
    "#         'weight_decay':0.05\n",
    "    },\n",
    "    'early_stop': 200,               # early stopping epochs (the number epochs since your model's last improvement)\n",
    "    'save_path': 'models/model.pth'  # your model will be saved here\n",
    "}"
   ]
  },
  {
   "cell_type": "code",
   "execution_count": 90,
   "metadata": {
    "ExecuteTime": {
     "end_time": "2021-05-18T05:21:27.173900Z",
     "start_time": "2021-05-18T05:21:27.167900Z"
    },
    "collapsed": true
   },
   "outputs": [],
   "source": [
    "model = NeuralNet(tr_set.dataset.dim).to(device)  # Construct model and move to device"
   ]
  },
  {
   "cell_type": "code",
   "execution_count": 91,
   "metadata": {
    "ExecuteTime": {
     "end_time": "2021-05-18T05:22:31.530581Z",
     "start_time": "2021-05-18T05:21:27.616925Z"
    }
   },
   "outputs": [
    {
     "name": "stdout",
     "output_type": "stream",
     "text": [
      "Saving model (epoch =    1, loss = 18.2257)\n",
      "Saving model (epoch =    2, loss = 17.9736)\n",
      "Saving model (epoch =    3, loss = 17.6816)\n",
      "Saving model (epoch =    4, loss = 17.3615)\n",
      "Saving model (epoch =    5, loss = 16.9941)\n",
      "Saving model (epoch =    6, loss = 16.5458)\n",
      "Saving model (epoch =    7, loss = 15.9766)\n",
      "Saving model (epoch =    8, loss = 15.2269)\n",
      "Saving model (epoch =    9, loss = 14.2178)\n",
      "Saving model (epoch =   10, loss = 12.8734)\n",
      "Saving model (epoch =   11, loss = 11.1328)\n",
      "Saving model (epoch =   12, loss = 9.0630)\n",
      "Saving model (epoch =   13, loss = 7.1443)\n",
      "Saving model (epoch =   14, loss = 6.1172)\n",
      "Saving model (epoch =   15, loss = 5.5912)\n",
      "Saving model (epoch =   16, loss = 5.1659)\n",
      "Saving model (epoch =   17, loss = 4.9791)\n",
      "Saving model (epoch =   18, loss = 4.8282)\n",
      "Saving model (epoch =   19, loss = 4.6872)\n",
      "Saving model (epoch =   20, loss = 4.5635)\n",
      "Saving model (epoch =   21, loss = 4.4480)\n",
      "Saving model (epoch =   22, loss = 4.3348)\n",
      "Saving model (epoch =   23, loss = 4.2310)\n",
      "Saving model (epoch =   24, loss = 4.1327)\n",
      "Saving model (epoch =   25, loss = 4.0359)\n",
      "Saving model (epoch =   26, loss = 3.9405)\n",
      "Saving model (epoch =   27, loss = 3.8462)\n",
      "Saving model (epoch =   28, loss = 3.7564)\n",
      "Saving model (epoch =   29, loss = 3.6638)\n",
      "Saving model (epoch =   30, loss = 3.5753)\n",
      "Saving model (epoch =   31, loss = 3.4860)\n",
      "Saving model (epoch =   32, loss = 3.4016)\n",
      "Saving model (epoch =   33, loss = 3.3173)\n",
      "Saving model (epoch =   34, loss = 3.2327)\n",
      "Saving model (epoch =   35, loss = 3.1505)\n",
      "Saving model (epoch =   36, loss = 3.0756)\n",
      "Saving model (epoch =   37, loss = 2.9988)\n",
      "Saving model (epoch =   38, loss = 2.9217)\n",
      "Saving model (epoch =   39, loss = 2.8525)\n",
      "Saving model (epoch =   40, loss = 2.7853)\n",
      "Saving model (epoch =   41, loss = 2.7187)\n",
      "Saving model (epoch =   42, loss = 2.6550)\n",
      "Saving model (epoch =   43, loss = 2.5940)\n",
      "Saving model (epoch =   44, loss = 2.5325)\n",
      "Saving model (epoch =   45, loss = 2.4741)\n",
      "Saving model (epoch =   46, loss = 2.4188)\n",
      "Saving model (epoch =   47, loss = 2.3647)\n",
      "Saving model (epoch =   48, loss = 2.3120)\n",
      "Saving model (epoch =   49, loss = 2.2652)\n",
      "Saving model (epoch =   50, loss = 2.2144)\n",
      "Saving model (epoch =   51, loss = 2.1665)\n",
      "Saving model (epoch =   52, loss = 2.1213)\n",
      "Saving model (epoch =   53, loss = 2.0793)\n",
      "Saving model (epoch =   54, loss = 2.0344)\n",
      "Saving model (epoch =   55, loss = 1.9948)\n",
      "Saving model (epoch =   56, loss = 1.9555)\n",
      "Saving model (epoch =   57, loss = 1.9164)\n",
      "Saving model (epoch =   58, loss = 1.8806)\n",
      "Saving model (epoch =   59, loss = 1.8430)\n",
      "Saving model (epoch =   60, loss = 1.8079)\n",
      "Saving model (epoch =   61, loss = 1.7743)\n",
      "Saving model (epoch =   62, loss = 1.7386)\n",
      "Saving model (epoch =   63, loss = 1.7046)\n",
      "Saving model (epoch =   64, loss = 1.6722)\n",
      "Saving model (epoch =   65, loss = 1.6367)\n",
      "Saving model (epoch =   66, loss = 1.6066)\n",
      "Saving model (epoch =   67, loss = 1.5736)\n",
      "Saving model (epoch =   68, loss = 1.5438)\n",
      "Saving model (epoch =   69, loss = 1.5168)\n",
      "Saving model (epoch =   70, loss = 1.4941)\n",
      "Saving model (epoch =   71, loss = 1.4691)\n",
      "Saving model (epoch =   72, loss = 1.4465)\n",
      "Saving model (epoch =   73, loss = 1.4227)\n",
      "Saving model (epoch =   74, loss = 1.4023)\n",
      "Saving model (epoch =   75, loss = 1.3827)\n",
      "Saving model (epoch =   76, loss = 1.3632)\n",
      "Saving model (epoch =   77, loss = 1.3483)\n",
      "Saving model (epoch =   78, loss = 1.3318)\n",
      "Saving model (epoch =   79, loss = 1.3098)\n",
      "Saving model (epoch =   80, loss = 1.2969)\n",
      "Saving model (epoch =   81, loss = 1.2770)\n",
      "Saving model (epoch =   82, loss = 1.2611)\n",
      "Saving model (epoch =   83, loss = 1.2511)\n",
      "Saving model (epoch =   84, loss = 1.2342)\n",
      "Saving model (epoch =   85, loss = 1.2287)\n",
      "Saving model (epoch =   86, loss = 1.2184)\n",
      "Saving model (epoch =   87, loss = 1.2103)\n",
      "Saving model (epoch =   88, loss = 1.2041)\n",
      "Saving model (epoch =   89, loss = 1.1977)\n",
      "Saving model (epoch =   90, loss = 1.1925)\n",
      "Saving model (epoch =   91, loss = 1.1855)\n",
      "Saving model (epoch =   92, loss = 1.1777)\n",
      "Saving model (epoch =   93, loss = 1.1757)\n",
      "Saving model (epoch =   94, loss = 1.1634)\n",
      "Saving model (epoch =   96, loss = 1.1621)\n",
      "Saving model (epoch =   97, loss = 1.1515)\n",
      "Saving model (epoch =   98, loss = 1.1412)\n",
      "Saving model (epoch =   99, loss = 1.1345)\n",
      "Saving model (epoch =  100, loss = 1.1308)\n",
      "Saving model (epoch =  101, loss = 1.1248)\n",
      "Saving model (epoch =  102, loss = 1.1169)\n",
      "Saving model (epoch =  103, loss = 1.1167)\n",
      "Saving model (epoch =  104, loss = 1.1097)\n",
      "Saving model (epoch =  105, loss = 1.1007)\n",
      "Saving model (epoch =  106, loss = 1.1004)\n",
      "Saving model (epoch =  107, loss = 1.0998)\n",
      "Saving model (epoch =  108, loss = 1.0908)\n",
      "Saving model (epoch =  109, loss = 1.0881)\n",
      "Saving model (epoch =  110, loss = 1.0785)\n",
      "Saving model (epoch =  112, loss = 1.0741)\n",
      "Saving model (epoch =  114, loss = 1.0670)\n",
      "Saving model (epoch =  116, loss = 1.0584)\n",
      "Saving model (epoch =  118, loss = 1.0556)\n",
      "Saving model (epoch =  119, loss = 1.0486)\n",
      "Saving model (epoch =  121, loss = 1.0448)\n",
      "Saving model (epoch =  124, loss = 1.0410)\n",
      "Saving model (epoch =  126, loss = 1.0362)\n",
      "Saving model (epoch =  128, loss = 1.0298)\n",
      "Saving model (epoch =  129, loss = 1.0269)\n",
      "Saving model (epoch =  131, loss = 1.0220)\n",
      "Saving model (epoch =  133, loss = 1.0197)\n",
      "Saving model (epoch =  135, loss = 1.0185)\n",
      "Saving model (epoch =  136, loss = 1.0096)\n",
      "Saving model (epoch =  140, loss = 1.0037)\n",
      "Saving model (epoch =  144, loss = 0.9989)\n",
      "Saving model (epoch =  145, loss = 0.9986)\n",
      "Saving model (epoch =  146, loss = 0.9979)\n",
      "Saving model (epoch =  147, loss = 0.9979)\n",
      "Saving model (epoch =  148, loss = 0.9973)\n",
      "Saving model (epoch =  149, loss = 0.9949)\n",
      "Saving model (epoch =  150, loss = 0.9889)\n",
      "Saving model (epoch =  154, loss = 0.9812)\n",
      "Saving model (epoch =  158, loss = 0.9799)\n",
      "Saving model (epoch =  160, loss = 0.9781)\n",
      "Saving model (epoch =  161, loss = 0.9759)\n",
      "Saving model (epoch =  162, loss = 0.9756)\n",
      "Saving model (epoch =  164, loss = 0.9690)\n",
      "Saving model (epoch =  166, loss = 0.9689)\n",
      "Saving model (epoch =  168, loss = 0.9647)\n",
      "Saving model (epoch =  173, loss = 0.9614)\n",
      "Saving model (epoch =  176, loss = 0.9578)\n",
      "Saving model (epoch =  177, loss = 0.9554)\n",
      "Saving model (epoch =  180, loss = 0.9545)\n",
      "Saving model (epoch =  184, loss = 0.9466)\n",
      "Saving model (epoch =  188, loss = 0.9455)\n",
      "Saving model (epoch =  190, loss = 0.9433)\n",
      "Saving model (epoch =  196, loss = 0.9411)\n",
      "Saving model (epoch =  199, loss = 0.9376)\n",
      "Saving model (epoch =  201, loss = 0.9368)\n",
      "Saving model (epoch =  203, loss = 0.9301)\n",
      "Saving model (epoch =  211, loss = 0.9293)\n",
      "Saving model (epoch =  214, loss = 0.9287)\n",
      "Saving model (epoch =  215, loss = 0.9242)\n",
      "Saving model (epoch =  223, loss = 0.9232)\n",
      "Saving model (epoch =  228, loss = 0.9187)\n",
      "Saving model (epoch =  236, loss = 0.9181)\n",
      "Saving model (epoch =  240, loss = 0.9149)\n",
      "Saving model (epoch =  244, loss = 0.9121)\n",
      "Saving model (epoch =  251, loss = 0.9070)\n",
      "Saving model (epoch =  261, loss = 0.9066)\n",
      "Saving model (epoch =  269, loss = 0.9064)\n",
      "Saving model (epoch =  270, loss = 0.9048)\n",
      "Saving model (epoch =  283, loss = 0.9032)\n",
      "Saving model (epoch =  301, loss = 0.9017)\n",
      "Saving model (epoch =  302, loss = 0.8997)\n",
      "Saving model (epoch =  306, loss = 0.8974)\n",
      "Saving model (epoch =  316, loss = 0.8965)\n",
      "Saving model (epoch =  334, loss = 0.8941)\n",
      "Saving model (epoch =  342, loss = 0.8907)\n",
      "Saving model (epoch =  352, loss = 0.8893)\n",
      "Saving model (epoch =  395, loss = 0.8861)\n",
      "Saving model (epoch =  438, loss = 0.8849)\n",
      "Saving model (epoch =  442, loss = 0.8827)\n",
      "Saving model (epoch =  528, loss = 0.8806)\n",
      "Saving model (epoch =  529, loss = 0.8804)\n",
      "Saving model (epoch =  567, loss = 0.8804)\n",
      "Saving model (epoch =  572, loss = 0.8804)\n",
      "Saving model (epoch =  576, loss = 0.8801)\n",
      "Saving model (epoch =  598, loss = 0.8800)\n",
      "Saving model (epoch =  608, loss = 0.8800)\n",
      "Saving model (epoch =  609, loss = 0.8788)\n",
      "Saving model (epoch =  615, loss = 0.8763)\n",
      "Saving model (epoch =  625, loss = 0.8754)\n",
      "Saving model (epoch =  706, loss = 0.8737)\n",
      "Saving model (epoch =  719, loss = 0.8732)\n",
      "Saving model (epoch =  745, loss = 0.8721)\n",
      "Saving model (epoch =  751, loss = 0.8700)\n",
      "Saving model (epoch =  808, loss = 0.8667)\n",
      "Saving model (epoch =  978, loss = 0.8654)\n",
      "Saving model (epoch = 1060, loss = 0.8647)\n",
      "Saving model (epoch = 1197, loss = 0.8647)\n"
     ]
    },
    {
     "name": "stdout",
     "output_type": "stream",
     "text": [
      "Saving model (epoch = 1212, loss = 0.8645)\n",
      "Saving model (epoch = 1221, loss = 0.8638)\n",
      "Saving model (epoch = 1251, loss = 0.8633)\n",
      "Saving model (epoch = 1352, loss = 0.8605)\n",
      "Saving model (epoch = 1461, loss = 0.8604)\n",
      "Saving model (epoch = 1533, loss = 0.8601)\n",
      "Saving model (epoch = 1543, loss = 0.8590)\n",
      "Saving model (epoch = 1660, loss = 0.8588)\n",
      "Saving model (epoch = 1815, loss = 0.8582)\n",
      "Saving model (epoch = 1908, loss = 0.8559)\n",
      "Finished training after 2109 epochs\n"
     ]
    }
   ],
   "source": [
    "model_loss, model_loss_record = train(tr_set, dv_set, model, config, device)"
   ]
  },
  {
   "cell_type": "code",
   "execution_count": null,
   "metadata": {
    "collapsed": true
   },
   "outputs": [],
   "source": []
  },
  {
   "cell_type": "code",
   "execution_count": 71,
   "metadata": {
    "ExecuteTime": {
     "end_time": "2021-05-18T03:28:53.599618Z",
     "start_time": "2021-05-18T03:28:53.446609Z"
    }
   },
   "outputs": [
    {
     "data": {
      "image/png": "[encoded data removed]",
      "text/plain": [
       "<matplotlib.figure.Figure at 0x10eabef0>"
      ]
     },
     "metadata": {},
     "output_type": "display_data"
    }
   ],
   "source": [
    "plot_learning_curve(model_loss_record, title='deep model')"
   ]
  },
  {
   "cell_type": "code",
   "execution_count": 72,
   "metadata": {
    "ExecuteTime": {
     "end_time": "2021-05-18T03:28:54.518670Z",
     "start_time": "2021-05-18T03:28:54.382663Z"
    }
   },
   "outputs": [
    {
     "data": {
      "image/png": "[encoded data removed]",
      "text/plain": [
       "<matplotlib.figure.Figure at 0x108bc5f8>"
      ]
     },
     "metadata": {},
     "output_type": "display_data"
    }
   ],
   "source": [
    "del model\n",
    "model = NeuralNet(tr_set.dataset.dim).to(device)\n",
    "ckpt = torch.load(config['save_path'], map_location='cpu')  # Load your best model\n",
    "model.load_state_dict(ckpt)\n",
    "plot_pred(dv_set, model, device)  # Show prediction on the validation set"
   ]
  },
  {
   "cell_type": "code",
   "execution_count": null,
   "metadata": {
    "collapsed": true
   },
   "outputs": [],
   "source": []
  },
  {
   "cell_type": "code",
   "execution_count": null,
   "metadata": {
    "collapsed": true
   },
   "outputs": [],
   "source": []
  },
  {
   "cell_type": "code",
   "execution_count": null,
   "metadata": {
    "collapsed": true
   },
   "outputs": [],
   "source": []
  },
  {
   "cell_type": "code",
   "execution_count": null,
   "metadata": {
    "collapsed": true
   },
   "outputs": [],
   "source": []
  },
  {
   "cell_type": "code",
   "execution_count": null,
   "metadata": {
    "collapsed": true
   },
   "outputs": [],
   "source": []
  },
  {
   "cell_type": "code",
   "execution_count": null,
   "metadata": {
    "collapsed": true
   },
   "outputs": [],
   "source": []
  },
  {
   "cell_type": "code",
   "execution_count": null,
   "metadata": {
    "collapsed": true
   },
   "outputs": [],
   "source": []
  },
  {
   "cell_type": "markdown",
   "metadata": {
    "id": "aQikz3IPiyPf"
   },
   "source": [
    "# **Testing**\n",
    "The predictions of your model on testing set will be stored at `pred.csv`."
   ]
  },
  {
   "cell_type": "code",
   "execution_count": 73,
   "metadata": {
    "ExecuteTime": {
     "end_time": "2021-05-18T03:29:02.876148Z",
     "start_time": "2021-05-18T03:29:02.827145Z"
    },
    "colab": {
     "base_uri": "https://localhost:8080/"
    },
    "id": "O8cTuQjQQOon",
    "outputId": "6bc5de07-4c5a-4e87-9ae3-d09f539c5f2c"
   },
   "outputs": [
    {
     "name": "stdout",
     "output_type": "stream",
     "text": [
      "Saving results to F:\\study\\ml\\HonyiLee2021\\Lhy_Machine_Learning-main\\01 Introduction\\dataset\\pred_5feates_mu_std3.csv\n"
     ]
    }
   ],
   "source": [
    "def save_pred(preds, file):\n",
    "    ''' Save predictions to specified file '''\n",
    "    print('Saving results to {}'.format(file))\n",
    "    with open(file, 'w') as fp:\n",
    "        writer = csv.writer(fp)\n",
    "        writer.writerow(['id', 'tested_positive'])\n",
    "        for i, p in enumerate(preds):\n",
    "            writer.writerow([i, p])\n",
    "\n",
    "preds = test(tt_set, model, device)  # predict COVID-19 cases with your model\n",
    "save_pred(preds, r'F:\\study\\ml\\HonyiLee2021\\Lhy_Machine_Learning-main\\01 Introduction\\dataset\\pred_5feates_mu_std3.csv')         # save prediction file to pred.csv"
   ]
  },
  {
   "cell_type": "markdown",
   "metadata": {
    "id": "nfrVxqJanGpE"
   },
   "source": [
    "# **Hints**\n",
    "\n",
    "## **Simple Baseline**\n",
    "* Run sample code\n",
    "\n",
    "## **Medium Baseline**\n",
    "* Feature selection: 40 states + 2 `tested_positive` (`TODO` in dataset)\n",
    "\n",
    "## **Strong Baseline**\n",
    "* Feature selection (what other features are useful?)\n",
    "* DNN architecture (layers? dimension? activation function?)\n",
    "* Training (mini-batch? optimizer? learning rate?)\n",
    "* L2 regularization\n",
    "* There are some mistakes in the sample code, can you find them?"
   ]
  },
  {
   "cell_type": "markdown",
   "metadata": {
    "id": "9tmCwXgpot3t"
   },
   "source": [
    "# **Reference**\n",
    "This code is completely written by Heng-Jui Chang @ NTUEE.  \n",
    "Copying or reusing this code is required to specify the original author. \n",
    "\n",
    "E.g.  \n",
    "Source: Heng-Jui Chang @ NTUEE (https://github.com/ga642381/ML2021-Spring/blob/main/HW01/HW01.ipynb)\n"
   ]
  }
 ],
 "metadata": {
  "accelerator": "GPU",
  "colab": {
   "collapsed_sections": [],
   "name": "ML2021Spring - HW1.ipynb",
   "provenance": [],
   "toc_visible": true
  },
  "kernelspec": {
   "display_name": "Python 3",
   "language": "python",
   "name": "python3"
  },
  "language_info": {
   "codemirror_mode": {
    "name": "ipython",
    "version": 3
   },
   "file_extension": ".py",
   "mimetype": "text/x-python",
   "name": "python",
   "nbconvert_exporter": "python",
   "pygments_lexer": "ipython3",
   "version": "3.6.3"
  }
 },
 "nbformat": 4,
 "nbformat_minor": 1
}
