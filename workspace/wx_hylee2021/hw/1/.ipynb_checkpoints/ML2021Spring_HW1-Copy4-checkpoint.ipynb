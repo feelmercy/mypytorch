{
 "cells": [
  {
   "cell_type": "markdown",
   "metadata": {
    "id": "mz0_QVkxCrX3"
   },
   "source": [
    "# **Homework 1: COVID-19 Cases Prediction (Regression)**"
   ]
  },
  {
   "cell_type": "markdown",
   "metadata": {
    "id": "ZeZnPAiwDRWG"
   },
   "source": [
    "Author: Heng-Jui Chang\n",
    "\n",
    "Slides: https://github.com/ga642381/ML2021-Spring/blob/main/HW01/HW01.pdf  \n",
    "Video: TBA\n",
    "\n",
    "Objectives:\n",
    "* Solve a regression problem with deep neural networks (DNN).\n",
    "* Understand basic DNN training tips.\n",
    "* Get familiar with PyTorch.\n",
    "\n",
    "If any questions, please contact the TAs via TA hours, NTU COOL, or email.\n"
   ]
  },
  {
   "cell_type": "markdown",
   "metadata": {
    "id": "Jx3x1nDkG-Uy"
   },
   "source": [
    "# **Download Data**\n",
    "\n",
    "\n",
    "If the Google drive links are dead, you can download data from [kaggle](https://www.kaggle.com/c/ml2021spring-hw1/data), and upload data manually to the workspace."
   ]
  },
  {
   "cell_type": "code",
   "execution_count": 1,
   "metadata": {
    "ExecuteTime": {
     "end_time": "2021-05-17T07:18:23.189971Z",
     "start_time": "2021-05-17T07:18:23.083965Z"
    },
    "colab": {
     "base_uri": "https://localhost:8080/"
    },
    "id": "tMj55YDKG6ch",
    "outputId": "fc40ecc9-4756-48b1-d5c6-c169a8b453b2"
   },
   "outputs": [
    {
     "name": "stderr",
     "output_type": "stream",
     "text": [
      "'gdown' 不是内部或外部命令，也不是可运行的程序\n",
      "或批处理文件。\n",
      "'gdown' 不是内部或外部命令，也不是可运行的程序\n",
      "或批处理文件。\n"
     ]
    }
   ],
   "source": [
    "tr_path = r'F:\\study\\ml\\HonyiLee2021\\Lhy_Machine_Learning-main\\01 Introduction\\dataset\\covid.train.csv'  # path to training data\n",
    "tt_path = r'F:\\study\\ml\\HonyiLee2021\\Lhy_Machine_Learning-main\\01 Introduction\\dataset\\covid.test.csv'   # path to testing data\n",
    "\n",
    "!gdown --id '19CCyCgJrUxtvgZF53vnctJiOJ23T5mqF' --output covid.train.csv\n",
    "!gdown --id '1CE240jLm2npU-tdz81-oVKEF3T2yfT1O' --output covid.test.csv"
   ]
  },
  {
   "cell_type": "markdown",
   "metadata": {
    "id": "wS_4-77xHk44"
   },
   "source": [
    "# **Import Some Packages**"
   ]
  },
  {
   "cell_type": "code",
   "execution_count": 2,
   "metadata": {
    "ExecuteTime": {
     "end_time": "2021-05-17T07:18:40.307950Z",
     "start_time": "2021-05-17T07:18:33.828580Z"
    },
    "collapsed": true
   },
   "outputs": [],
   "source": [
    "from sklearn.model_selection import train_test_split"
   ]
  },
  {
   "cell_type": "code",
   "execution_count": 3,
   "metadata": {
    "ExecuteTime": {
     "end_time": "2021-05-17T07:18:47.147342Z",
     "start_time": "2021-05-17T07:18:40.311951Z"
    },
    "collapsed": true,
    "id": "k-onQd4JNA5H"
   },
   "outputs": [],
   "source": [
    "# PyTorch\n",
    "import torch\n",
    "import torch.nn as nn\n",
    "from torch.utils.data import Dataset, DataLoader\n",
    "\n",
    "# For data preprocess\n",
    "import numpy as np\n",
    "import csv\n",
    "import os\n",
    "\n",
    "# For plotting\n",
    "import matplotlib.pyplot as plt\n",
    "from matplotlib.pyplot import figure\n",
    "\n",
    "myseed = 42069  # set a random seed for reproducibility\n",
    "torch.backends.cudnn.deterministic = True\n",
    "torch.backends.cudnn.benchmark = False\n",
    "np.random.seed(myseed)\n",
    "torch.manual_seed(myseed)\n",
    "if torch.cuda.is_available():\n",
    "    torch.cuda.manual_seed_all(myseed)"
   ]
  },
  {
   "cell_type": "markdown",
   "metadata": {
    "id": "BtE3b6JEH7rw"
   },
   "source": [
    "# **Some Utilities**\n",
    "\n",
    "You do not need to modify this part."
   ]
  },
  {
   "cell_type": "code",
   "execution_count": 4,
   "metadata": {
    "ExecuteTime": {
     "end_time": "2021-05-17T07:18:47.218346Z",
     "start_time": "2021-05-17T07:18:47.148342Z"
    },
    "collapsed": true,
    "id": "FWMT3uf1NGQp"
   },
   "outputs": [],
   "source": [
    "def get_device():\n",
    "    ''' Get device (if GPU is available, use GPU) '''\n",
    "    return 'cuda' if torch.cuda.is_available() else 'cpu'\n",
    "\n",
    "def plot_learning_curve(loss_record, title=''):\n",
    "    ''' Plot learning curve of your DNN (train & dev loss) '''\n",
    "    total_steps = len(loss_record['train'])\n",
    "    x_1 = range(total_steps)\n",
    "    x_2 = x_1[::len(loss_record['train']) // len(loss_record['dev'])]\n",
    "    figure(figsize=(6, 4))\n",
    "    plt.plot(x_1, loss_record['train'], c='tab:red', label='train')\n",
    "    plt.plot(x_2, loss_record['dev'], c='tab:cyan', label='dev')\n",
    "    plt.ylim(0.0, 5.)\n",
    "    plt.xlabel('Training steps')\n",
    "    plt.ylabel('MSE loss')\n",
    "    plt.title('Learning curve of {}'.format(title))\n",
    "    plt.legend()\n",
    "    plt.show()\n",
    "\n",
    "\n",
    "def plot_pred(dv_set, model, device, lim=35., preds=None, targets=None):\n",
    "    ''' Plot prediction of your DNN '''\n",
    "    if preds is None or targets is None:\n",
    "        model.eval()\n",
    "        preds, targets = [], []\n",
    "        for x, y in dv_set:\n",
    "            x, y = x.to(device), y.to(device)\n",
    "            with torch.no_grad():\n",
    "                pred = model(x)\n",
    "                preds.append(pred.detach().cpu())\n",
    "                targets.append(y.detach().cpu())\n",
    "        preds = torch.cat(preds, dim=0).numpy()\n",
    "        targets = torch.cat(targets, dim=0).numpy()\n",
    "\n",
    "    figure(figsize=(5, 5))\n",
    "    plt.scatter(targets, preds, c='r', alpha=0.5)\n",
    "    plt.plot([-0.2, lim], [-0.2, lim], c='b')\n",
    "    plt.xlim(-0.2, lim)\n",
    "    plt.ylim(-0.2, lim)\n",
    "    plt.xlabel('ground truth value')\n",
    "    plt.ylabel('predicted value')\n",
    "    plt.title('Ground Truth v.s. Prediction')\n",
    "    plt.show()"
   ]
  },
  {
   "cell_type": "markdown",
   "metadata": {
    "id": "39U_XFX6KOoj"
   },
   "source": [
    "# **Preprocess**\n",
    "\n",
    "We have three kinds of datasets:\n",
    "* `train`: for training\n",
    "* `dev`: for validation\n",
    "* `test`: for testing (w/o target value)"
   ]
  },
  {
   "cell_type": "markdown",
   "metadata": {
    "id": "TQ-MdwpLL7Dt"
   },
   "source": [
    "## **Dataset**\n",
    "\n",
    "The `COVID19Dataset` below does:\n",
    "* read `.csv` files\n",
    "* extract features\n",
    "* split `covid.train.csv` into train/dev sets\n",
    "* normalize features\n",
    "\n",
    "Finishing `TODO` below might make you pass medium baseline."
   ]
  },
  {
   "cell_type": "code",
   "execution_count": 5,
   "metadata": {
    "ExecuteTime": {
     "end_time": "2021-05-17T07:18:49.123455Z",
     "start_time": "2021-05-17T07:18:48.958445Z"
    },
    "collapsed": true,
    "id": "0zlpIp9ANJRU"
   },
   "outputs": [],
   "source": [
    "class COVID19Dataset(Dataset):\n",
    "    ''' Dataset for loading and preprocessing the COVID19 dataset '''\n",
    "    def __init__(self, path, mu,std ,mode='train',target_only=False):\n",
    "        self.mode = mode\n",
    "\n",
    "        # Read data into numpy arrays\n",
    "        with open(path, 'r') as fp:\n",
    "            data = list(csv.reader(fp))\n",
    "            data = np.array(data[1:])[:, 1:].astype(float)\n",
    "\n",
    "        if not target_only:\n",
    "            #             feats = list(range(93))\n",
    "            feats = list(range(40)) + [\n",
    "                40, 41, 42, 43, 57, 58, 59, 60, 61, 75, 76, 77, 78, 79\n",
    "            ]\n",
    "\n",
    "\n",
    "#             feats=list(range(40))+[75]\n",
    "        else:\n",
    "            # TODO: Using 40 states & 2 tested_positive features (indices = 57 & 75)\n",
    "            pass\n",
    "\n",
    "        if mode == 'test':\n",
    "            # Testing data\n",
    "            # data: 893 x 93 (40 states + day 1 (18) + day 2 (18) + day 3 (17))\n",
    "            data = data[:, feats]\n",
    "            self.data = torch.FloatTensor(data)\n",
    "        else:\n",
    "            # Training data (train/dev sets)\n",
    "            # data: 2700 x 94 (40 states + day 1 (18) + day 2 (18) + day 3 (18))\n",
    "            target = data[:, -1]\n",
    "            data = data[:, feats]\n",
    "\n",
    "            # Splitting training data into train & dev sets\n",
    "            indices_list = list(range(len(data)))\n",
    "            #             np.random.shuffle(indices_list)\n",
    "            train__indices, test_indices = train_test_split(indices_list,\n",
    "                                                            test_size=0.25,\n",
    "                                                            random_state=0)\n",
    "            if mode == 'train':  # 7:3\n",
    "                indices = train__indices\n",
    "            elif mode == 'dev':\n",
    "                indices = test_indices\n",
    "\n",
    "            # Convert data into PyTorch tensors\n",
    "            self.data = torch.FloatTensor(data[indices])\n",
    "            self.target = torch.FloatTensor(target[indices])\n",
    "\n",
    "        # Normalize features (you may remove this part to see what will happen)\n",
    "        if mode == 'train':\n",
    "            self.mu = self.data[:, 40:].mean(dim=0, keepdim=True)\n",
    "            self.std = self.data[:, 40:].std(dim=0, keepdim=True)\n",
    "        else:\n",
    "            self.mu = mu\n",
    "            self.std = std\n",
    "\n",
    "        self.data[:, 40:] = (self.data[:, 40:] - self.mu) / self.std\n",
    "\n",
    "        self.dim = self.data.shape[1]\n",
    "\n",
    "        print(\n",
    "            'Finished reading the {} set of COVID19 Dataset ({} samples found, each dim = {})'\n",
    "            .format(mode, len(self.data), self.dim))\n",
    "\n",
    "    def __getitem__(self, index):\n",
    "        # Returns one sample at a time\n",
    "        if self.mode in ['train', 'dev']:\n",
    "            # For training\n",
    "            return self.data[index], self.target[index]\n",
    "        else:\n",
    "            # For testing (no target)\n",
    "            return self.data[index]\n",
    "\n",
    "    def __len__(self):\n",
    "        # Returns the size of the dataset\n",
    "        return len(self.data)"
   ]
  },
  {
   "cell_type": "markdown",
   "metadata": {
    "id": "AlhTlkE7MDo3"
   },
   "source": [
    "## **DataLoader**\n",
    "\n",
    "A `DataLoader` loads data from a given `Dataset` into batches.\n"
   ]
  },
  {
   "cell_type": "code",
   "execution_count": 6,
   "metadata": {
    "ExecuteTime": {
     "end_time": "2021-05-17T07:18:50.121512Z",
     "start_time": "2021-05-17T07:18:50.101510Z"
    },
    "collapsed": true,
    "id": "hlhLk5t6MBX3"
   },
   "outputs": [],
   "source": [
    "def prep_dataloader(path, mode, batch_size, n_jobs=0, target_only=False,mu=None,std=None):\n",
    "    ''' Generates a dataset, then is put into a dataloader. '''\n",
    "    dataset = COVID19Dataset(path, mu,std, mode=mode,target_only=target_only)  # Construct dataset\n",
    "    if mode=='train':\n",
    "        mu=dataset.mu\n",
    "        std=dataset.std\n",
    "    dataloader = DataLoader(\n",
    "        dataset, batch_size,\n",
    "        shuffle=(mode == 'train'), drop_last=False,\n",
    "        num_workers=n_jobs, pin_memory=True)                            # Construct dataloader\n",
    "    return dataloader,mu,std"
   ]
  },
  {
   "cell_type": "markdown",
   "metadata": {
    "id": "SGuycwR0MeQB"
   },
   "source": [
    "# **Deep Neural Network**\n",
    "\n",
    "`NeuralNet` is an `nn.Module` designed for regression.\n",
    "The DNN consists of 2 fully-connected layers with ReLU activation.\n",
    "This module also included a function `cal_loss` for calculating loss.\n"
   ]
  },
  {
   "cell_type": "code",
   "execution_count": 7,
   "metadata": {
    "ExecuteTime": {
     "end_time": "2021-05-17T07:18:51.349582Z",
     "start_time": "2021-05-17T07:18:51.309580Z"
    },
    "collapsed": true,
    "id": "49-uXYovOAI0"
   },
   "outputs": [],
   "source": [
    "class NeuralNet(nn.Module):\n",
    "    ''' A simple fully-connected deep neural network '''\n",
    "    def __init__(self, input_dim):\n",
    "        super(NeuralNet, self).__init__()\n",
    "\n",
    "        # Define your neural network here\n",
    "        # TODO: How to modify this model to achieve better performance?\n",
    "        self.net = nn.Sequential(\n",
    "            nn.Linear(input_dim, 69),\n",
    "#             nn.Dropout(0.05),\n",
    "            nn.ReLU(),\n",
    "#             nn.Linear(64, 32),\n",
    "#             nn.LeakyReLU(),\n",
    "            nn.Linear(69,1),\n",
    "#             nn.LeakyReLU(),\n",
    "#             nn.Linear(16, 1)\n",
    "        )\n",
    "\n",
    "        # Mean squared error loss\n",
    "        self.criterion = nn.MSELoss(reduction='mean')\n",
    "\n",
    "\n",
    "    def forward(self, x):\n",
    "        ''' Given input of size (batch_size x input_dim), compute output of the network '''\n",
    "        return self.net(x).squeeze(1)\n",
    "\n",
    "    def cal_loss(self, pred, target):\n",
    "        ''' Calculate loss '''\n",
    "        # TODO: you may implement L2 regularization here\n",
    "#         return self.criterion(pred, target)\n",
    "        return torch.sqrt(self.criterion(pred, target)+1e-6)"
   ]
  },
  {
   "cell_type": "markdown",
   "metadata": {
    "id": "DvFWVjZ5Nvga"
   },
   "source": [
    "# **Train/Dev/Test**"
   ]
  },
  {
   "cell_type": "markdown",
   "metadata": {
    "id": "MAM8QecJOyqn"
   },
   "source": [
    "## **Training**"
   ]
  },
  {
   "cell_type": "code",
   "execution_count": 8,
   "metadata": {
    "ExecuteTime": {
     "end_time": "2021-05-17T07:18:53.099682Z",
     "start_time": "2021-05-17T07:18:53.021678Z"
    },
    "collapsed": true,
    "id": "lOqcmYzMO7jB"
   },
   "outputs": [],
   "source": [
    "def train(tr_set, dv_set, model, config, device):\n",
    "    ''' DNN training '''\n",
    "\n",
    "    n_epochs = config['n_epochs']  # Maximum number of epochs\n",
    "\n",
    "    # Setup optimizer\n",
    "    optimizer = getattr(torch.optim, config['optimizer'])(\n",
    "        model.parameters(), **config['optim_hparas'])\n",
    "\n",
    "    min_mse = 1000.\n",
    "    loss_record = {'train': [], 'dev': []}      # for recording training loss\n",
    "    early_stop_cnt = 0\n",
    "    epoch = 0\n",
    "    while epoch < n_epochs:\n",
    "        model.train()                           # set model to training mode\n",
    "        for x, y in tr_set:                     # iterate through the dataloader\n",
    "            optimizer.zero_grad()               # set gradient to zero\n",
    "            x, y = x.to(device), y.to(device)   # move data to device (cpu/cuda)\n",
    "            pred = model(x)                     # forward pass (compute output)\n",
    "            mse_loss = model.cal_loss(pred, y)  # compute loss\n",
    "            mse_loss.backward()                 # compute gradient (backpropagation)\n",
    "            optimizer.step()                    # update model with optimizer\n",
    "            loss_record['train'].append(mse_loss.detach().cpu().item())\n",
    "\n",
    "        # After each epoch, test your model on the validation (development) set.\n",
    "        dev_mse = dev(dv_set, model, device)\n",
    "        if dev_mse < min_mse:\n",
    "            # Save model if your model improved\n",
    "            min_mse = dev_mse\n",
    "            print('Saving model (epoch = {:4d}, loss = {:.4f})'\n",
    "                .format(epoch + 1, min_mse))\n",
    "            torch.save(model.state_dict(), config['save_path'])  # Save model to specified path\n",
    "            early_stop_cnt = 0\n",
    "        else:\n",
    "            early_stop_cnt += 1\n",
    "\n",
    "        epoch += 1\n",
    "        loss_record['dev'].append(dev_mse)\n",
    "        if early_stop_cnt > config['early_stop']:\n",
    "            # Stop training if your model stops improving for \"config['early_stop']\" epochs.\n",
    "            break\n",
    "\n",
    "    print('Finished training after {} epochs'.format(epoch))\n",
    "    return min_mse, loss_record"
   ]
  },
  {
   "cell_type": "markdown",
   "metadata": {
    "id": "0hSd4Bn3O2PL"
   },
   "source": [
    "## **Validation**"
   ]
  },
  {
   "cell_type": "code",
   "execution_count": 9,
   "metadata": {
    "ExecuteTime": {
     "end_time": "2021-05-17T07:18:54.194745Z",
     "start_time": "2021-05-17T07:18:54.175744Z"
    },
    "collapsed": true,
    "id": "yrxrD3YsN3U2"
   },
   "outputs": [],
   "source": [
    "def dev(dv_set, model, device):\n",
    "    model.eval()                                # set model to evalutation mode\n",
    "    total_loss = 0\n",
    "    for x, y in dv_set:                         # iterate through the dataloader\n",
    "        x, y = x.to(device), y.to(device)       # move data to device (cpu/cuda)\n",
    "        with torch.no_grad():                   # disable gradient calculation\n",
    "            pred = model(x)                     # forward pass (compute output)\n",
    "            mse_loss = model.cal_loss(pred, y)  # compute loss\n",
    "        total_loss += mse_loss.detach().cpu().item() * len(x)  # accumulate loss\n",
    "    total_loss = total_loss / len(dv_set.dataset)              # compute averaged loss\n",
    "\n",
    "    return total_loss"
   ]
  },
  {
   "cell_type": "markdown",
   "metadata": {
    "id": "g0pdrhQAO41L"
   },
   "source": [
    "## **Testing**"
   ]
  },
  {
   "cell_type": "code",
   "execution_count": 10,
   "metadata": {
    "ExecuteTime": {
     "end_time": "2021-05-17T07:18:55.323809Z",
     "start_time": "2021-05-17T07:18:55.310808Z"
    },
    "collapsed": true,
    "id": "aSBMRFlYN5tB"
   },
   "outputs": [],
   "source": [
    "def test(tt_set, model, device):\n",
    "    model.eval()                                # set model to evalutation mode\n",
    "    preds = []\n",
    "    for x in tt_set:                            # iterate through the dataloader\n",
    "        x = x.to(device)                        # move data to device (cpu/cuda)\n",
    "        with torch.no_grad():                   # disable gradient calculation\n",
    "            pred = model(x)                     # forward pass (compute output)\n",
    "            preds.append(pred.detach().cpu())   # collect prediction\n",
    "    preds = torch.cat(preds, dim=0).numpy()     # concatenate all predictions and convert to a numpy array\n",
    "    return preds"
   ]
  },
  {
   "cell_type": "markdown",
   "metadata": {
    "id": "SvckkF5dvf0j"
   },
   "source": [
    "# **Setup Hyper-parameters**\n",
    "\n",
    "`config` contains hyper-parameters for training and the path to save your model."
   ]
  },
  {
   "cell_type": "code",
   "execution_count": 11,
   "metadata": {
    "ExecuteTime": {
     "end_time": "2021-05-17T07:18:56.404871Z",
     "start_time": "2021-05-17T07:18:56.373869Z"
    },
    "collapsed": true,
    "id": "NPXpdumwPjE7"
   },
   "outputs": [],
   "source": [
    "device = get_device()                 # get the current available device ('cpu' or 'cuda')\n",
    "os.makedirs('models', exist_ok=True)  # The trained model will be saved to ./models/\n",
    "target_only = False                   # TODO: Using 40 states & 2 tested_positive features\n",
    "# torch.optim.Adam()\n",
    "# TODO: How to tune these hyper-parameters to improve your model's performance?\n",
    "# config = {\n",
    "#     'n_epochs': 3000,                # maximum number of epochs\n",
    "#     'batch_size': 270,               # mini-batch size for dataloader\n",
    "#     'optimizer': 'SGD',              # optimization algorithm (optimizer in torch.optim)\n",
    "#     'optim_hparas': {                # hyper-parameters for the optimizer (depends on which optimizer you are using)\n",
    "#         'lr': 0.001,                 # learning rate of SGD\n",
    "#         'momentum': 0.9              # momentum for SGD\n",
    "#     },\n",
    "#     'early_stop': 200,               # early stopping epochs (the number epochs since your model's last improvement)\n",
    "#     'save_path': r'F:\\study\\ml\\HonyiLee2021\\Lhy_Machine_Learning-main\\01 Introduction\\models\\model.pth'  # your model will be saved here\n",
    "# }\n",
    "# torch.optim.RMSprop()\n",
    "# torch.optim.SGD()\n",
    "# torch.optim.Adam()\n",
    "config = {\n",
    "    'n_epochs': 3000,                # maximum number of epochs\n",
    "    'batch_size': 270,               # mini-batch size for dataloader\n",
    "    'optimizer': 'SGD',              # optimization algorithm (optimizer in torch.optim)\n",
    "    'optim_hparas': {                # hyper-parameters for the optimizer (depends on which optimizer you are using)\n",
    "        'lr': 0.005,             # learning rate of SGD\n",
    "        'momentum': 0.55,          # momentum for SGD\n",
    "        'weight_decay':0.0005\n",
    "    },\n",
    "    'early_stop': 200,               # early stopping epochs (the number epochs since your model's last improvement)\n",
    "    'save_path': r'F:\\study\\ml\\HonyiLee2021\\Lhy_Machine_Learning-main\\01 Introduction\\models\\model.pth'  # your model will be saved here\n",
    "}"
   ]
  },
  {
   "cell_type": "markdown",
   "metadata": {
    "id": "6j1eOV3TOH-j"
   },
   "source": [
    "# **Load data and model**"
   ]
  },
  {
   "cell_type": "code",
   "execution_count": 12,
   "metadata": {
    "ExecuteTime": {
     "end_time": "2021-05-17T07:18:58.693002Z",
     "start_time": "2021-05-17T07:18:57.744948Z"
    },
    "colab": {
     "base_uri": "https://localhost:8080/"
    },
    "id": "eNrYBMmePLKm",
    "outputId": "fcd4f175-4f7e-4306-f33c-5f8285f11dce"
   },
   "outputs": [
    {
     "name": "stdout",
     "output_type": "stream",
     "text": [
      "Finished reading the train set of COVID19 Dataset (2025 samples found, each dim = 54)\n",
      "Finished reading the dev set of COVID19 Dataset (675 samples found, each dim = 54)\n",
      "Finished reading the test set of COVID19 Dataset (893 samples found, each dim = 54)\n"
     ]
    }
   ],
   "source": [
    "tr_set,tr_mu,tr_std = prep_dataloader(tr_path, 'train', config['batch_size'], target_only=target_only)\n",
    "dv_set ,mu_none,std_none= prep_dataloader(tr_path, 'dev', config['batch_size'], target_only=target_only,mu=tr_mu,std=tr_std)\n",
    "tt_set ,mu_none,std_none= prep_dataloader(tt_path, 'test', config['batch_size'], target_only=target_only,mu=tr_mu,std=tr_std)"
   ]
  },
  {
   "cell_type": "code",
   "execution_count": 13,
   "metadata": {
    "ExecuteTime": {
     "end_time": "2021-05-17T07:18:59.751062Z",
     "start_time": "2021-05-17T07:18:59.589053Z"
    },
    "collapsed": true,
    "id": "FHylSirLP9oh"
   },
   "outputs": [],
   "source": [
    "model = NeuralNet(tr_set.dataset.dim).to(device)  # Construct model and move to device"
   ]
  },
  {
   "cell_type": "markdown",
   "metadata": {
    "id": "sX2B_zgSOPTJ"
   },
   "source": [
    "# **Start Training!**"
   ]
  },
  {
   "cell_type": "code",
   "execution_count": 14,
   "metadata": {
    "ExecuteTime": {
     "end_time": "2021-05-17T07:19:50.015937Z",
     "start_time": "2021-05-17T07:19:01.837182Z"
    },
    "colab": {
     "base_uri": "https://localhost:8080/"
    },
    "id": "GrEbUxazQAAZ",
    "outputId": "f4f3bd74-2d97-4275-b69f-6609976b91f9",
    "scrolled": false
   },
   "outputs": [
    {
     "name": "stdout",
     "output_type": "stream",
     "text": [
      "Saving model (epoch =    1, loss = 17.6903)\n",
      "Saving model (epoch =    2, loss = 17.4758)\n",
      "Saving model (epoch =    3, loss = 17.2431)\n",
      "Saving model (epoch =    4, loss = 16.9704)\n",
      "Saving model (epoch =    5, loss = 16.6353)\n",
      "Saving model (epoch =    6, loss = 16.2052)\n",
      "Saving model (epoch =    7, loss = 15.6471)\n",
      "Saving model (epoch =    8, loss = 14.9217)\n",
      "Saving model (epoch =    9, loss = 14.0029)\n",
      "Saving model (epoch =   10, loss = 12.8931)\n",
      "Saving model (epoch =   11, loss = 11.6900)\n",
      "Saving model (epoch =   12, loss = 10.6094)\n",
      "Saving model (epoch =   13, loss = 9.8660)\n",
      "Saving model (epoch =   14, loss = 9.4388)\n",
      "Saving model (epoch =   15, loss = 9.1513)\n",
      "Saving model (epoch =   16, loss = 8.9040)\n",
      "Saving model (epoch =   17, loss = 8.6688)\n",
      "Saving model (epoch =   18, loss = 8.4383)\n",
      "Saving model (epoch =   19, loss = 8.2101)\n",
      "Saving model (epoch =   20, loss = 7.9924)\n",
      "Saving model (epoch =   21, loss = 7.7820)\n",
      "Saving model (epoch =   22, loss = 7.5742)\n",
      "Saving model (epoch =   23, loss = 7.3650)\n",
      "Saving model (epoch =   24, loss = 7.1517)\n",
      "Saving model (epoch =   25, loss = 6.9277)\n",
      "Saving model (epoch =   26, loss = 6.6943)\n",
      "Saving model (epoch =   27, loss = 6.4443)\n",
      "Saving model (epoch =   28, loss = 6.1765)\n",
      "Saving model (epoch =   29, loss = 5.8839)\n",
      "Saving model (epoch =   30, loss = 5.5639)\n",
      "Saving model (epoch =   31, loss = 5.2187)\n",
      "Saving model (epoch =   32, loss = 4.8443)\n",
      "Saving model (epoch =   33, loss = 4.4499)\n",
      "Saving model (epoch =   34, loss = 4.0410)\n",
      "Saving model (epoch =   35, loss = 3.6558)\n",
      "Saving model (epoch =   36, loss = 3.3043)\n",
      "Saving model (epoch =   37, loss = 2.9847)\n",
      "Saving model (epoch =   38, loss = 2.6930)\n",
      "Saving model (epoch =   39, loss = 2.4435)\n",
      "Saving model (epoch =   40, loss = 2.1742)\n",
      "Saving model (epoch =   41, loss = 1.9478)\n",
      "Saving model (epoch =   42, loss = 1.7394)\n",
      "Saving model (epoch =   43, loss = 1.5660)\n",
      "Saving model (epoch =   44, loss = 1.4377)\n",
      "Saving model (epoch =   45, loss = 1.3347)\n",
      "Saving model (epoch =   46, loss = 1.2607)\n",
      "Saving model (epoch =   47, loss = 1.2097)\n",
      "Saving model (epoch =   48, loss = 1.1870)\n",
      "Saving model (epoch =   49, loss = 1.1618)\n",
      "Saving model (epoch =   50, loss = 1.1513)\n",
      "Saving model (epoch =   51, loss = 1.1434)\n",
      "Saving model (epoch =   52, loss = 1.1403)\n",
      "Saving model (epoch =   53, loss = 1.1315)\n",
      "Saving model (epoch =   54, loss = 1.1261)\n",
      "Saving model (epoch =   55, loss = 1.1233)\n",
      "Saving model (epoch =   56, loss = 1.1151)\n",
      "Saving model (epoch =   57, loss = 1.1090)\n",
      "Saving model (epoch =   58, loss = 1.1080)\n",
      "Saving model (epoch =   59, loss = 1.1015)\n",
      "Saving model (epoch =   62, loss = 1.0935)\n",
      "Saving model (epoch =   63, loss = 1.0891)\n",
      "Saving model (epoch =   66, loss = 1.0817)\n",
      "Saving model (epoch =   68, loss = 1.0776)\n",
      "Saving model (epoch =   69, loss = 1.0762)\n",
      "Saving model (epoch =   71, loss = 1.0690)\n",
      "Saving model (epoch =   72, loss = 1.0656)\n",
      "Saving model (epoch =   73, loss = 1.0645)\n",
      "Saving model (epoch =   74, loss = 1.0637)\n",
      "Saving model (epoch =   76, loss = 1.0611)\n",
      "Saving model (epoch =   78, loss = 1.0564)\n",
      "Saving model (epoch =   80, loss = 1.0536)\n",
      "Saving model (epoch =   81, loss = 1.0501)\n",
      "Saving model (epoch =   85, loss = 1.0499)\n",
      "Saving model (epoch =   89, loss = 1.0415)\n",
      "Saving model (epoch =   91, loss = 1.0407)\n",
      "Saving model (epoch =   92, loss = 1.0405)\n",
      "Saving model (epoch =   93, loss = 1.0358)\n",
      "Saving model (epoch =   96, loss = 1.0316)\n",
      "Saving model (epoch =   97, loss = 1.0298)\n",
      "Saving model (epoch =   99, loss = 1.0287)\n",
      "Saving model (epoch =  103, loss = 1.0244)\n",
      "Saving model (epoch =  104, loss = 1.0229)\n",
      "Saving model (epoch =  110, loss = 1.0179)\n",
      "Saving model (epoch =  113, loss = 1.0166)\n",
      "Saving model (epoch =  117, loss = 1.0145)\n",
      "Saving model (epoch =  120, loss = 1.0128)\n",
      "Saving model (epoch =  123, loss = 1.0086)\n",
      "Saving model (epoch =  129, loss = 1.0063)\n",
      "Saving model (epoch =  133, loss = 1.0033)\n",
      "Saving model (epoch =  137, loss = 1.0008)\n",
      "Saving model (epoch =  143, loss = 0.9994)\n",
      "Saving model (epoch =  146, loss = 0.9991)\n",
      "Saving model (epoch =  147, loss = 0.9984)\n",
      "Saving model (epoch =  152, loss = 0.9948)\n",
      "Saving model (epoch =  156, loss = 0.9943)\n",
      "Saving model (epoch =  159, loss = 0.9934)\n",
      "Saving model (epoch =  160, loss = 0.9931)\n",
      "Saving model (epoch =  161, loss = 0.9916)\n",
      "Saving model (epoch =  168, loss = 0.9904)\n",
      "Saving model (epoch =  172, loss = 0.9884)\n",
      "Saving model (epoch =  174, loss = 0.9871)\n",
      "Saving model (epoch =  184, loss = 0.9853)\n",
      "Saving model (epoch =  193, loss = 0.9846)\n",
      "Saving model (epoch =  198, loss = 0.9824)\n",
      "Saving model (epoch =  199, loss = 0.9822)\n",
      "Saving model (epoch =  205, loss = 0.9822)\n",
      "Saving model (epoch =  211, loss = 0.9812)\n",
      "Saving model (epoch =  213, loss = 0.9810)\n",
      "Saving model (epoch =  216, loss = 0.9804)\n",
      "Saving model (epoch =  221, loss = 0.9794)\n",
      "Saving model (epoch =  232, loss = 0.9783)\n",
      "Saving model (epoch =  235, loss = 0.9771)\n",
      "Saving model (epoch =  240, loss = 0.9767)\n",
      "Saving model (epoch =  241, loss = 0.9764)\n",
      "Saving model (epoch =  255, loss = 0.9750)\n",
      "Saving model (epoch =  256, loss = 0.9749)\n",
      "Saving model (epoch =  264, loss = 0.9745)\n",
      "Saving model (epoch =  277, loss = 0.9739)\n",
      "Saving model (epoch =  303, loss = 0.9734)\n",
      "Saving model (epoch =  304, loss = 0.9732)\n",
      "Saving model (epoch =  309, loss = 0.9731)\n",
      "Saving model (epoch =  316, loss = 0.9718)\n",
      "Saving model (epoch =  324, loss = 0.9712)\n",
      "Saving model (epoch =  332, loss = 0.9707)\n",
      "Saving model (epoch =  365, loss = 0.9701)\n",
      "Saving model (epoch =  367, loss = 0.9694)\n",
      "Saving model (epoch =  375, loss = 0.9684)\n",
      "Saving model (epoch =  379, loss = 0.9684)\n",
      "Saving model (epoch =  459, loss = 0.9682)\n",
      "Saving model (epoch =  494, loss = 0.9680)\n",
      "Saving model (epoch =  563, loss = 0.9669)\n",
      "Saving model (epoch =  581, loss = 0.9664)\n",
      "Saving model (epoch =  666, loss = 0.9660)\n",
      "Saving model (epoch =  719, loss = 0.9659)\n",
      "Saving model (epoch =  789, loss = 0.9651)\n",
      "Saving model (epoch =  879, loss = 0.9650)\n",
      "Saving model (epoch =  902, loss = 0.9649)\n",
      "Saving model (epoch =  903, loss = 0.9645)\n",
      "Saving model (epoch =  939, loss = 0.9643)\n",
      "Saving model (epoch = 1040, loss = 0.9641)\n",
      "Saving model (epoch = 1106, loss = 0.9637)\n",
      "Saving model (epoch = 1224, loss = 0.9628)\n",
      "Finished training after 1425 epochs\n"
     ]
    }
   ],
   "source": [
    "model_loss, model_loss_record = train(tr_set, dv_set, model, config, device)"
   ]
  },
  {
   "cell_type": "code",
   "execution_count": 15,
   "metadata": {
    "ExecuteTime": {
     "end_time": "2021-05-17T07:20:38.440766Z",
     "start_time": "2021-05-17T07:20:38.078745Z"
    },
    "colab": {
     "base_uri": "https://localhost:8080/",
     "height": 295
    },
    "id": "hsNO9nnXQBvP",
    "outputId": "1626def6-94c7-4a87-9447-d939f827c8eb"
   },
   "outputs": [
    {
     "data": {
      "image/png": "[encoded data removed]",
      "text/plain": [
       "<matplotlib.figure.Figure at 0x11518b38>"
      ]
     },
     "metadata": {},
     "output_type": "display_data"
    }
   ],
   "source": [
    "plot_learning_curve(model_loss_record, title='deep model')"
   ]
  },
  {
   "cell_type": "code",
   "execution_count": 16,
   "metadata": {
    "ExecuteTime": {
     "end_time": "2021-05-17T07:22:00.026162Z",
     "start_time": "2021-05-17T07:21:59.848152Z"
    },
    "colab": {
     "base_uri": "https://localhost:8080/",
     "height": 350
    },
    "id": "3iZTVn5WQFpX",
    "outputId": "a2d5e118-559d-45c6-b644-6792af54663d"
   },
   "outputs": [
    {
     "data": {
      "image/png": "[encoded data removed]",
      "text/plain": [
       "<matplotlib.figure.Figure at 0x114becf8>"
      ]
     },
     "metadata": {},
     "output_type": "display_data"
    }
   ],
   "source": [
    "del model\n",
    "model = NeuralNet(tr_set.dataset.dim).to(device)\n",
    "ckpt = torch.load(config['save_path'], map_location='cpu')  # Load your best model\n",
    "model.load_state_dict(ckpt)\n",
    "plot_pred(dv_set, model, device)  # Show prediction on the validation set"
   ]
  },
  {
   "cell_type": "markdown",
   "metadata": {
    "ExecuteTime": {
     "end_time": "2021-05-14T05:23:34.871619Z",
     "start_time": "2021-05-14T05:23:34.864619Z"
    }
   },
   "source": [
    "# **Test**"
   ]
  },
  {
   "cell_type": "code",
   "execution_count": 17,
   "metadata": {
    "ExecuteTime": {
     "end_time": "2021-05-17T07:22:35.553540Z",
     "start_time": "2021-05-17T07:22:35.536539Z"
    },
    "collapsed": true
   },
   "outputs": [],
   "source": [
    "config = {\n",
    "    'n_epochs': 3000,                # maximum number of epochs\n",
    "    'batch_size': 1000,               # mini-batch size for dataloader\n",
    "    'optimizer': 'SGD',              # optimization algorithm (optimizer in torch.optim)\n",
    "    'optim_hparas': {                # hyper-parameters for the optimizer (depends on which optimizer you are using)\n",
    "        'lr': 0.001,             # learning rate of SGD\n",
    "        'momentum': 0.5,          # momentum for SGD\n",
    "        'weight_decay':0.01\n",
    "    },\n",
    "    'early_stop': 500,               # early stopping epochs (the number epochs since your model's last improvement)\n",
    "    'save_path': r'F:\\study\\ml\\HonyiLee2021\\Lhy_Machine_Learning-main\\01 Introduction\\models\\model.pth'  # your model will be saved here\n",
    "}"
   ]
  },
  {
   "cell_type": "code",
   "execution_count": 18,
   "metadata": {
    "ExecuteTime": {
     "end_time": "2021-05-17T07:22:41.312590Z",
     "start_time": "2021-05-17T07:22:41.267589Z"
    },
    "collapsed": true
   },
   "outputs": [],
   "source": [
    "class NeuralNet(nn.Module):\n",
    "    ''' A simple fully-connected deep neural network '''\n",
    "    def __init__(self, input_dim):\n",
    "        super(NeuralNet, self).__init__()\n",
    "\n",
    "        # Define your neural network here\n",
    "        # TODO: How to modify this model to achieve better performance?\n",
    "        self.net = nn.Sequential(\n",
    "            nn.Linear(input_dim, 700),\n",
    "            nn.Dropout(0.2),\n",
    "            nn.ReLU(),\n",
    "            nn.Linear(700, 400),\n",
    "            nn.Dropout(0.2),\n",
    "            nn.ReLU(),\n",
    "            nn.Linear(400, 40),\n",
    "            nn.ReLU(),\n",
    "            nn.Linear(40, 1)\n",
    "        )\n",
    "\n",
    "        # Mean squared error loss\n",
    "        self.criterion = nn.MSELoss(reduction='mean')\n",
    "\n",
    "\n",
    "    def forward(self, x):\n",
    "        ''' Given input of size (batch_size x input_dim), compute output of the network '''\n",
    "        return self.net(x).squeeze(1)\n",
    "\n",
    "    def cal_loss(self, pred, target):\n",
    "        ''' Calculate loss '''\n",
    "        # TODO: you may implement L2 regularization here\n",
    "#         return self.criterion(pred, target)\n",
    "        return torch.sqrt(self.criterion(pred, target)+1e-6)"
   ]
  },
  {
   "cell_type": "code",
   "execution_count": 19,
   "metadata": {
    "ExecuteTime": {
     "end_time": "2021-05-17T07:22:41.938619Z",
     "start_time": "2021-05-17T07:22:41.921618Z"
    },
    "collapsed": true
   },
   "outputs": [],
   "source": [
    "model = NeuralNet(tr_set.dataset.dim).to(device)  # Construct model and move to device"
   ]
  },
  {
   "cell_type": "code",
   "execution_count": 20,
   "metadata": {
    "ExecuteTime": {
     "end_time": "2021-05-17T07:26:11.670610Z",
     "start_time": "2021-05-17T07:22:42.486647Z"
    }
   },
   "outputs": [
    {
     "name": "stdout",
     "output_type": "stream",
     "text": [
      "Saving model (epoch =    1, loss = 17.7966)\n",
      "Saving model (epoch =    2, loss = 17.7716)\n",
      "Saving model (epoch =    3, loss = 17.7458)\n",
      "Saving model (epoch =    4, loss = 17.7193)\n",
      "Saving model (epoch =    5, loss = 17.6921)\n",
      "Saving model (epoch =    6, loss = 17.6642)\n",
      "Saving model (epoch =    7, loss = 17.6353)\n",
      "Saving model (epoch =    8, loss = 17.6058)\n",
      "Saving model (epoch =    9, loss = 17.5750)\n",
      "Saving model (epoch =   10, loss = 17.5431)\n",
      "Saving model (epoch =   11, loss = 17.5099)\n",
      "Saving model (epoch =   12, loss = 17.4753)\n",
      "Saving model (epoch =   13, loss = 17.4386)\n",
      "Saving model (epoch =   14, loss = 17.3998)\n",
      "Saving model (epoch =   15, loss = 17.3587)\n",
      "Saving model (epoch =   16, loss = 17.3150)\n",
      "Saving model (epoch =   17, loss = 17.2683)\n",
      "Saving model (epoch =   18, loss = 17.2177)\n",
      "Saving model (epoch =   19, loss = 17.1630)\n",
      "Saving model (epoch =   20, loss = 17.1033)\n",
      "Saving model (epoch =   21, loss = 17.0374)\n",
      "Saving model (epoch =   22, loss = 16.9654)\n",
      "Saving model (epoch =   23, loss = 16.8853)\n",
      "Saving model (epoch =   24, loss = 16.7956)\n",
      "Saving model (epoch =   25, loss = 16.6952)\n",
      "Saving model (epoch =   26, loss = 16.5815)\n",
      "Saving model (epoch =   27, loss = 16.4515)\n",
      "Saving model (epoch =   28, loss = 16.3026)\n",
      "Saving model (epoch =   29, loss = 16.1282)\n",
      "Saving model (epoch =   30, loss = 15.9235)\n",
      "Saving model (epoch =   31, loss = 15.6802)\n",
      "Saving model (epoch =   32, loss = 15.3898)\n",
      "Saving model (epoch =   33, loss = 15.0394)\n",
      "Saving model (epoch =   34, loss = 14.6163)\n",
      "Saving model (epoch =   35, loss = 14.0913)\n",
      "Saving model (epoch =   36, loss = 13.4531)\n",
      "Saving model (epoch =   37, loss = 12.6712)\n",
      "Saving model (epoch =   38, loss = 11.7240)\n",
      "Saving model (epoch =   39, loss = 10.6531)\n",
      "Saving model (epoch =   40, loss = 9.5682)\n",
      "Saving model (epoch =   41, loss = 8.6988)\n",
      "Saving model (epoch =   42, loss = 8.1881)\n",
      "Saving model (epoch =   43, loss = 7.9087)\n",
      "Saving model (epoch =   44, loss = 7.7403)\n",
      "Saving model (epoch =   45, loss = 7.6045)\n",
      "Saving model (epoch =   46, loss = 7.4776)\n",
      "Saving model (epoch =   47, loss = 7.3542)\n",
      "Saving model (epoch =   48, loss = 7.2299)\n",
      "Saving model (epoch =   49, loss = 7.1070)\n",
      "Saving model (epoch =   50, loss = 6.9771)\n",
      "Saving model (epoch =   51, loss = 6.8402)\n",
      "Saving model (epoch =   52, loss = 6.6996)\n",
      "Saving model (epoch =   53, loss = 6.5611)\n",
      "Saving model (epoch =   54, loss = 6.4130)\n",
      "Saving model (epoch =   55, loss = 6.2563)\n",
      "Saving model (epoch =   56, loss = 6.1014)\n",
      "Saving model (epoch =   57, loss = 5.9351)\n",
      "Saving model (epoch =   58, loss = 5.7643)\n",
      "Saving model (epoch =   59, loss = 5.5813)\n",
      "Saving model (epoch =   60, loss = 5.3931)\n",
      "Saving model (epoch =   61, loss = 5.1951)\n",
      "Saving model (epoch =   62, loss = 4.9864)\n",
      "Saving model (epoch =   63, loss = 4.7781)\n",
      "Saving model (epoch =   64, loss = 4.5535)\n",
      "Saving model (epoch =   65, loss = 4.3288)\n",
      "Saving model (epoch =   66, loss = 4.0929)\n",
      "Saving model (epoch =   67, loss = 3.8509)\n",
      "Saving model (epoch =   68, loss = 3.6106)\n",
      "Saving model (epoch =   69, loss = 3.3729)\n",
      "Saving model (epoch =   70, loss = 3.1309)\n",
      "Saving model (epoch =   71, loss = 2.8993)\n",
      "Saving model (epoch =   72, loss = 2.6851)\n",
      "Saving model (epoch =   73, loss = 2.4853)\n",
      "Saving model (epoch =   74, loss = 2.3060)\n",
      "Saving model (epoch =   75, loss = 2.1578)\n",
      "Saving model (epoch =   76, loss = 2.0146)\n",
      "Saving model (epoch =   77, loss = 1.9045)\n",
      "Saving model (epoch =   78, loss = 1.8093)\n",
      "Saving model (epoch =   79, loss = 1.7325)\n",
      "Saving model (epoch =   80, loss = 1.6554)\n",
      "Saving model (epoch =   81, loss = 1.6092)\n",
      "Saving model (epoch =   82, loss = 1.5716)\n",
      "Saving model (epoch =   83, loss = 1.5332)\n",
      "Saving model (epoch =   84, loss = 1.5004)\n",
      "Saving model (epoch =   85, loss = 1.4703)\n",
      "Saving model (epoch =   86, loss = 1.4473)\n",
      "Saving model (epoch =   87, loss = 1.4324)\n",
      "Saving model (epoch =   88, loss = 1.4103)\n",
      "Saving model (epoch =   89, loss = 1.3979)\n",
      "Saving model (epoch =   90, loss = 1.3857)\n",
      "Saving model (epoch =   91, loss = 1.3785)\n",
      "Saving model (epoch =   92, loss = 1.3679)\n",
      "Saving model (epoch =   94, loss = 1.3428)\n",
      "Saving model (epoch =   95, loss = 1.3384)\n",
      "Saving model (epoch =   96, loss = 1.3314)\n",
      "Saving model (epoch =   97, loss = 1.3239)\n",
      "Saving model (epoch =   98, loss = 1.3184)\n",
      "Saving model (epoch =   99, loss = 1.3035)\n",
      "Saving model (epoch =  100, loss = 1.2973)\n",
      "Saving model (epoch =  101, loss = 1.2888)\n",
      "Saving model (epoch =  102, loss = 1.2847)\n",
      "Saving model (epoch =  103, loss = 1.2830)\n",
      "Saving model (epoch =  104, loss = 1.2744)\n",
      "Saving model (epoch =  105, loss = 1.2695)\n",
      "Saving model (epoch =  106, loss = 1.2649)\n",
      "Saving model (epoch =  107, loss = 1.2621)\n",
      "Saving model (epoch =  108, loss = 1.2583)\n",
      "Saving model (epoch =  109, loss = 1.2438)\n",
      "Saving model (epoch =  110, loss = 1.2425)\n",
      "Saving model (epoch =  111, loss = 1.2374)\n",
      "Saving model (epoch =  112, loss = 1.2289)\n",
      "Saving model (epoch =  113, loss = 1.2286)\n",
      "Saving model (epoch =  114, loss = 1.2266)\n",
      "Saving model (epoch =  115, loss = 1.2184)\n",
      "Saving model (epoch =  116, loss = 1.2161)\n",
      "Saving model (epoch =  117, loss = 1.2128)\n",
      "Saving model (epoch =  118, loss = 1.2019)\n",
      "Saving model (epoch =  119, loss = 1.2000)\n",
      "Saving model (epoch =  120, loss = 1.1982)\n",
      "Saving model (epoch =  122, loss = 1.1966)\n",
      "Saving model (epoch =  123, loss = 1.1867)\n",
      "Saving model (epoch =  124, loss = 1.1769)\n",
      "Saving model (epoch =  127, loss = 1.1705)\n",
      "Saving model (epoch =  129, loss = 1.1668)\n",
      "Saving model (epoch =  130, loss = 1.1603)\n",
      "Saving model (epoch =  133, loss = 1.1542)\n",
      "Saving model (epoch =  135, loss = 1.1495)\n",
      "Saving model (epoch =  136, loss = 1.1491)\n",
      "Saving model (epoch =  137, loss = 1.1437)\n",
      "Saving model (epoch =  138, loss = 1.1435)\n",
      "Saving model (epoch =  139, loss = 1.1374)\n",
      "Saving model (epoch =  141, loss = 1.1361)\n",
      "Saving model (epoch =  143, loss = 1.1308)\n",
      "Saving model (epoch =  144, loss = 1.1275)\n",
      "Saving model (epoch =  145, loss = 1.1269)\n",
      "Saving model (epoch =  146, loss = 1.1255)\n",
      "Saving model (epoch =  147, loss = 1.1160)\n",
      "Saving model (epoch =  151, loss = 1.1152)\n",
      "Saving model (epoch =  153, loss = 1.1112)\n",
      "Saving model (epoch =  154, loss = 1.1048)\n",
      "Saving model (epoch =  156, loss = 1.1025)\n",
      "Saving model (epoch =  161, loss = 1.1022)\n",
      "Saving model (epoch =  162, loss = 1.0986)\n",
      "Saving model (epoch =  163, loss = 1.0924)\n",
      "Saving model (epoch =  166, loss = 1.0884)\n",
      "Saving model (epoch =  167, loss = 1.0878)\n",
      "Saving model (epoch =  168, loss = 1.0860)\n",
      "Saving model (epoch =  173, loss = 1.0827)\n",
      "Saving model (epoch =  176, loss = 1.0820)\n",
      "Saving model (epoch =  177, loss = 1.0755)\n",
      "Saving model (epoch =  180, loss = 1.0737)\n",
      "Saving model (epoch =  185, loss = 1.0679)\n",
      "Saving model (epoch =  192, loss = 1.0654)\n",
      "Saving model (epoch =  196, loss = 1.0628)\n",
      "Saving model (epoch =  198, loss = 1.0587)\n",
      "Saving model (epoch =  201, loss = 1.0564)\n",
      "Saving model (epoch =  202, loss = 1.0560)\n",
      "Saving model (epoch =  206, loss = 1.0522)\n",
      "Saving model (epoch =  211, loss = 1.0487)\n",
      "Saving model (epoch =  215, loss = 1.0473)\n",
      "Saving model (epoch =  222, loss = 1.0456)\n",
      "Saving model (epoch =  223, loss = 1.0450)\n",
      "Saving model (epoch =  228, loss = 1.0447)\n",
      "Saving model (epoch =  230, loss = 1.0420)\n",
      "Saving model (epoch =  231, loss = 1.0389)\n",
      "Saving model (epoch =  236, loss = 1.0384)\n",
      "Saving model (epoch =  237, loss = 1.0379)\n",
      "Saving model (epoch =  239, loss = 1.0367)\n",
      "Saving model (epoch =  249, loss = 1.0353)\n",
      "Saving model (epoch =  250, loss = 1.0343)\n",
      "Saving model (epoch =  253, loss = 1.0298)\n",
      "Saving model (epoch =  255, loss = 1.0283)\n",
      "Saving model (epoch =  271, loss = 1.0281)\n",
      "Saving model (epoch =  273, loss = 1.0229)\n",
      "Saving model (epoch =  277, loss = 1.0227)\n",
      "Saving model (epoch =  282, loss = 1.0201)\n",
      "Saving model (epoch =  288, loss = 1.0194)\n",
      "Saving model (epoch =  290, loss = 1.0192)\n",
      "Saving model (epoch =  315, loss = 1.0187)\n",
      "Saving model (epoch =  318, loss = 1.0178)\n",
      "Saving model (epoch =  321, loss = 1.0173)\n",
      "Saving model (epoch =  324, loss = 1.0167)\n",
      "Saving model (epoch =  328, loss = 1.0157)\n",
      "Saving model (epoch =  341, loss = 1.0115)\n",
      "Saving model (epoch =  350, loss = 1.0103)\n",
      "Saving model (epoch =  352, loss = 1.0102)\n",
      "Saving model (epoch =  374, loss = 1.0092)\n",
      "Saving model (epoch =  376, loss = 1.0077)\n",
      "Saving model (epoch =  393, loss = 1.0075)\n",
      "Saving model (epoch =  402, loss = 1.0040)\n"
     ]
    },
    {
     "name": "stdout",
     "output_type": "stream",
     "text": [
      "Saving model (epoch =  407, loss = 1.0000)\n",
      "Saving model (epoch =  444, loss = 0.9996)\n",
      "Saving model (epoch =  452, loss = 0.9996)\n",
      "Saving model (epoch =  458, loss = 0.9965)\n",
      "Saving model (epoch =  488, loss = 0.9954)\n",
      "Saving model (epoch =  497, loss = 0.9945)\n",
      "Saving model (epoch =  523, loss = 0.9938)\n",
      "Saving model (epoch =  526, loss = 0.9937)\n",
      "Saving model (epoch =  551, loss = 0.9920)\n",
      "Saving model (epoch =  560, loss = 0.9912)\n",
      "Saving model (epoch =  575, loss = 0.9912)\n",
      "Saving model (epoch =  608, loss = 0.9896)\n",
      "Saving model (epoch =  639, loss = 0.9882)\n",
      "Saving model (epoch =  654, loss = 0.9880)\n",
      "Saving model (epoch =  670, loss = 0.9864)\n",
      "Saving model (epoch =  776, loss = 0.9858)\n",
      "Saving model (epoch =  779, loss = 0.9855)\n",
      "Saving model (epoch =  791, loss = 0.9852)\n",
      "Saving model (epoch =  795, loss = 0.9834)\n",
      "Saving model (epoch =  824, loss = 0.9820)\n",
      "Saving model (epoch =  865, loss = 0.9818)\n",
      "Saving model (epoch =  906, loss = 0.9809)\n",
      "Saving model (epoch =  939, loss = 0.9799)\n",
      "Saving model (epoch = 1016, loss = 0.9780)\n",
      "Saving model (epoch = 1135, loss = 0.9772)\n",
      "Finished training after 1636 epochs\n"
     ]
    }
   ],
   "source": [
    "model_loss, model_loss_record = train(tr_set, dv_set, model, config, device)"
   ]
  },
  {
   "cell_type": "code",
   "execution_count": 326,
   "metadata": {
    "ExecuteTime": {
     "end_time": "2021-05-14T08:36:22.935275Z",
     "start_time": "2021-05-14T08:36:22.779266Z"
    }
   },
   "outputs": [
    {
     "data": {
      "image/png": "[encoded data removed]",
      "text/plain": [
       "<matplotlib.figure.Figure at 0x117ab2e8>"
      ]
     },
     "metadata": {},
     "output_type": "display_data"
    }
   ],
   "source": [
    "plot_learning_curve(model_loss_record, title='deep model')"
   ]
  },
  {
   "cell_type": "code",
   "execution_count": 320,
   "metadata": {
    "ExecuteTime": {
     "end_time": "2021-05-14T08:31:11.262448Z",
     "start_time": "2021-05-14T08:31:11.250447Z"
    }
   },
   "outputs": [
    {
     "data": {
      "text/plain": [
       "[0.9946780800819397,\n",
       " 1.0154240131378174,\n",
       " 1.1272647380828857,\n",
       " 0.9462583065032959,\n",
       " 0.8242942690849304]"
      ]
     },
     "execution_count": 320,
     "metadata": {},
     "output_type": "execute_result"
    }
   ],
   "source": [
    "model_loss_record['train'][-5:]"
   ]
  },
  {
   "cell_type": "code",
   "execution_count": 321,
   "metadata": {
    "ExecuteTime": {
     "end_time": "2021-05-14T08:31:11.909485Z",
     "start_time": "2021-05-14T08:31:11.738475Z"
    }
   },
   "outputs": [
    {
     "data": {
      "image/png": "[encoded data removed]",
      "text/plain": [
       "<matplotlib.figure.Figure at 0x119a83c8>"
      ]
     },
     "metadata": {},
     "output_type": "display_data"
    }
   ],
   "source": [
    "del model\n",
    "model = NeuralNet(tr_set.dataset.dim).to(device)\n",
    "ckpt = torch.load(config['save_path'], map_location='cpu')  # Load your best model\n",
    "model.load_state_dict(ckpt)\n",
    "plot_pred(dv_set, model, device)  # Show prediction on the validation set"
   ]
  },
  {
   "cell_type": "markdown",
   "metadata": {
    "collapsed": true
   },
   "source": [
    "# **Test2**"
   ]
  },
  {
   "cell_type": "code",
   "execution_count": null,
   "metadata": {
    "collapsed": true
   },
   "outputs": [],
   "source": [
    "config = {\n",
    "    'n_epochs': 3000,                # maximum number of epochs\n",
    "    'batch_size': 1000,               # mini-batch size for dataloader\n",
    "    'optimizer': 'SGD',              # optimization algorithm (optimizer in torch.optim)\n",
    "    'optim_hparas': {                # hyper-parameters for the optimizer (depends on which optimizer you are using)\n",
    "        'lr': 0.001,             # learning rate of SGD\n",
    "        'momentum': 0.5,          # momentum for SGD\n",
    "        'weight_decay':0.01\n",
    "    },\n",
    "    'early_stop': 500,               # early stopping epochs (the number epochs since your model's last improvement)\n",
    "    'save_path': r'F:\\study\\ml\\HonyiLee2021\\Lhy_Machine_Learning-main\\01 Introduction\\models\\model.pth'  # your model will be saved here\n",
    "}"
   ]
  },
  {
   "cell_type": "code",
   "execution_count": 26,
   "metadata": {
    "ExecuteTime": {
     "end_time": "2021-05-17T07:51:22.747469Z",
     "start_time": "2021-05-17T07:51:22.706467Z"
    },
    "collapsed": true
   },
   "outputs": [],
   "source": [
    "class NeuralNet(nn.Module):\n",
    "    ''' A simple fully-connected deep neural network '''\n",
    "    def __init__(self, input_dim):\n",
    "        super(NeuralNet, self).__init__()\n",
    "\n",
    "        # Define your neural network here\n",
    "        # TODO: How to modify this model to achieve better performance?\n",
    "        self.net = nn.Sequential(\n",
    "            nn.Linear(input_dim, 67),\n",
    "            nn.ReLU(),\n",
    "#             nn.Linear(134, 67),\n",
    "#             nn.ReLU(),\n",
    "            nn.Linear(67, 1)\n",
    "        )\n",
    "\n",
    "        # Mean squared error loss\n",
    "        self.criterion = nn.MSELoss(reduction='mean')\n",
    "\n",
    "\n",
    "    def forward(self, x):\n",
    "        ''' Given input of size (batch_size x input_dim), compute output of the network '''\n",
    "        return self.net(x).squeeze(1)\n",
    "\n",
    "    def cal_loss(self, pred, target):\n",
    "        ''' Calculate loss '''\n",
    "        # TODO: you may implement L2 regularization here\n",
    "#         return self.criterion(pred, target)\n",
    "        return torch.sqrt(self.criterion(pred, target)+1e-6)"
   ]
  },
  {
   "cell_type": "code",
   "execution_count": 27,
   "metadata": {
    "ExecuteTime": {
     "end_time": "2021-05-17T07:53:02.247157Z",
     "start_time": "2021-05-17T07:51:23.266497Z"
    }
   },
   "outputs": [
    {
     "name": "stdout",
     "output_type": "stream",
     "text": [
      "Saving model (epoch =    1, loss = 17.9414)\n",
      "Saving model (epoch =    2, loss = 17.9045)\n",
      "Saving model (epoch =    3, loss = 17.8679)\n",
      "Saving model (epoch =    4, loss = 17.8313)\n",
      "Saving model (epoch =    5, loss = 17.7946)\n",
      "Saving model (epoch =    6, loss = 17.7579)\n",
      "Saving model (epoch =    7, loss = 17.7210)\n",
      "Saving model (epoch =    8, loss = 17.6839)\n",
      "Saving model (epoch =    9, loss = 17.6465)\n",
      "Saving model (epoch =   10, loss = 17.6087)\n",
      "Saving model (epoch =   11, loss = 17.5703)\n",
      "Saving model (epoch =   12, loss = 17.5311)\n",
      "Saving model (epoch =   13, loss = 17.4911)\n",
      "Saving model (epoch =   14, loss = 17.4504)\n",
      "Saving model (epoch =   15, loss = 17.4090)\n",
      "Saving model (epoch =   16, loss = 17.3664)\n",
      "Saving model (epoch =   17, loss = 17.3226)\n",
      "Saving model (epoch =   18, loss = 17.2772)\n",
      "Saving model (epoch =   19, loss = 17.2305)\n",
      "Saving model (epoch =   20, loss = 17.1823)\n",
      "Saving model (epoch =   21, loss = 17.1322)\n",
      "Saving model (epoch =   22, loss = 17.0805)\n",
      "Saving model (epoch =   23, loss = 17.0267)\n",
      "Saving model (epoch =   24, loss = 16.9711)\n",
      "Saving model (epoch =   25, loss = 16.9131)\n",
      "Saving model (epoch =   26, loss = 16.8521)\n",
      "Saving model (epoch =   27, loss = 16.7891)\n",
      "Saving model (epoch =   28, loss = 16.7235)\n",
      "Saving model (epoch =   29, loss = 16.6539)\n",
      "Saving model (epoch =   30, loss = 16.5814)\n",
      "Saving model (epoch =   31, loss = 16.5055)\n",
      "Saving model (epoch =   32, loss = 16.4256)\n",
      "Saving model (epoch =   33, loss = 16.3416)\n",
      "Saving model (epoch =   34, loss = 16.2549)\n",
      "Saving model (epoch =   35, loss = 16.1631)\n",
      "Saving model (epoch =   36, loss = 16.0670)\n",
      "Saving model (epoch =   37, loss = 15.9663)\n",
      "Saving model (epoch =   38, loss = 15.8584)\n",
      "Saving model (epoch =   39, loss = 15.7462)\n",
      "Saving model (epoch =   40, loss = 15.6299)\n",
      "Saving model (epoch =   41, loss = 15.5061)\n",
      "Saving model (epoch =   42, loss = 15.3761)\n",
      "Saving model (epoch =   43, loss = 15.2424)\n",
      "Saving model (epoch =   44, loss = 15.1012)\n",
      "Saving model (epoch =   45, loss = 14.9525)\n",
      "Saving model (epoch =   46, loss = 14.7977)\n",
      "Saving model (epoch =   47, loss = 14.6359)\n",
      "Saving model (epoch =   48, loss = 14.4659)\n",
      "Saving model (epoch =   49, loss = 14.2905)\n",
      "Saving model (epoch =   50, loss = 14.1071)\n",
      "Saving model (epoch =   51, loss = 13.9198)\n",
      "Saving model (epoch =   52, loss = 13.7242)\n",
      "Saving model (epoch =   53, loss = 13.5225)\n",
      "Saving model (epoch =   54, loss = 13.3165)\n",
      "Saving model (epoch =   55, loss = 13.1079)\n",
      "Saving model (epoch =   56, loss = 12.8927)\n",
      "Saving model (epoch =   57, loss = 12.6751)\n",
      "Saving model (epoch =   58, loss = 12.4525)\n",
      "Saving model (epoch =   59, loss = 12.2323)\n",
      "Saving model (epoch =   60, loss = 12.0147)\n",
      "Saving model (epoch =   61, loss = 11.7994)\n",
      "Saving model (epoch =   62, loss = 11.5853)\n",
      "Saving model (epoch =   63, loss = 11.3763)\n",
      "Saving model (epoch =   64, loss = 11.1766)\n",
      "Saving model (epoch =   65, loss = 10.9843)\n",
      "Saving model (epoch =   66, loss = 10.8010)\n",
      "Saving model (epoch =   67, loss = 10.6307)\n",
      "Saving model (epoch =   68, loss = 10.4699)\n",
      "Saving model (epoch =   69, loss = 10.3201)\n",
      "Saving model (epoch =   70, loss = 10.1840)\n",
      "Saving model (epoch =   71, loss = 10.0572)\n",
      "Saving model (epoch =   72, loss = 9.9437)\n",
      "Saving model (epoch =   73, loss = 9.8384)\n",
      "Saving model (epoch =   74, loss = 9.7425)\n",
      "Saving model (epoch =   75, loss = 9.6555)\n",
      "Saving model (epoch =   76, loss = 9.5759)\n",
      "Saving model (epoch =   77, loss = 9.5034)\n",
      "Saving model (epoch =   78, loss = 9.4360)\n",
      "Saving model (epoch =   79, loss = 9.3727)\n",
      "Saving model (epoch =   80, loss = 9.3137)\n",
      "Saving model (epoch =   81, loss = 9.2573)\n",
      "Saving model (epoch =   82, loss = 9.2052)\n",
      "Saving model (epoch =   83, loss = 9.1548)\n",
      "Saving model (epoch =   84, loss = 9.1062)\n",
      "Saving model (epoch =   85, loss = 9.0589)\n",
      "Saving model (epoch =   86, loss = 9.0116)\n",
      "Saving model (epoch =   87, loss = 8.9668)\n",
      "Saving model (epoch =   88, loss = 8.9227)\n",
      "Saving model (epoch =   89, loss = 8.8795)\n",
      "Saving model (epoch =   90, loss = 8.8363)\n",
      "Saving model (epoch =   91, loss = 8.7934)\n",
      "Saving model (epoch =   92, loss = 8.7510)\n",
      "Saving model (epoch =   93, loss = 8.7097)\n",
      "Saving model (epoch =   94, loss = 8.6685)\n",
      "Saving model (epoch =   95, loss = 8.6274)\n",
      "Saving model (epoch =   96, loss = 8.5870)\n",
      "Saving model (epoch =   97, loss = 8.5469)\n",
      "Saving model (epoch =   98, loss = 8.5074)\n",
      "Saving model (epoch =   99, loss = 8.4681)\n",
      "Saving model (epoch =  100, loss = 8.4293)\n",
      "Saving model (epoch =  101, loss = 8.3901)\n",
      "Saving model (epoch =  102, loss = 8.3517)\n",
      "Saving model (epoch =  103, loss = 8.3135)\n",
      "Saving model (epoch =  104, loss = 8.2753)\n",
      "Saving model (epoch =  105, loss = 8.2379)\n",
      "Saving model (epoch =  106, loss = 8.2009)\n",
      "Saving model (epoch =  107, loss = 8.1633)\n",
      "Saving model (epoch =  108, loss = 8.1270)\n",
      "Saving model (epoch =  109, loss = 8.0905)\n",
      "Saving model (epoch =  110, loss = 8.0540)\n",
      "Saving model (epoch =  111, loss = 8.0176)\n",
      "Saving model (epoch =  112, loss = 7.9821)\n",
      "Saving model (epoch =  113, loss = 7.9463)\n",
      "Saving model (epoch =  114, loss = 7.9106)\n",
      "Saving model (epoch =  115, loss = 7.8752)\n",
      "Saving model (epoch =  116, loss = 7.8400)\n",
      "Saving model (epoch =  117, loss = 7.8054)\n",
      "Saving model (epoch =  118, loss = 7.7703)\n",
      "Saving model (epoch =  119, loss = 7.7355)\n",
      "Saving model (epoch =  120, loss = 7.7013)\n",
      "Saving model (epoch =  121, loss = 7.6664)\n",
      "Saving model (epoch =  122, loss = 7.6322)\n",
      "Saving model (epoch =  123, loss = 7.5973)\n",
      "Saving model (epoch =  124, loss = 7.5626)\n",
      "Saving model (epoch =  125, loss = 7.5279)\n",
      "Saving model (epoch =  126, loss = 7.4926)\n",
      "Saving model (epoch =  127, loss = 7.4577)\n",
      "Saving model (epoch =  128, loss = 7.4228)\n",
      "Saving model (epoch =  129, loss = 7.3873)\n",
      "Saving model (epoch =  130, loss = 7.3516)\n",
      "Saving model (epoch =  131, loss = 7.3155)\n",
      "Saving model (epoch =  132, loss = 7.2805)\n",
      "Saving model (epoch =  133, loss = 7.2440)\n",
      "Saving model (epoch =  134, loss = 7.2084)\n",
      "Saving model (epoch =  135, loss = 7.1718)\n",
      "Saving model (epoch =  136, loss = 7.1351)\n",
      "Saving model (epoch =  137, loss = 7.0978)\n",
      "Saving model (epoch =  138, loss = 7.0606)\n",
      "Saving model (epoch =  139, loss = 7.0238)\n",
      "Saving model (epoch =  140, loss = 6.9862)\n",
      "Saving model (epoch =  141, loss = 6.9481)\n",
      "Saving model (epoch =  142, loss = 6.9092)\n",
      "Saving model (epoch =  143, loss = 6.8696)\n",
      "Saving model (epoch =  144, loss = 6.8301)\n",
      "Saving model (epoch =  145, loss = 6.7897)\n",
      "Saving model (epoch =  146, loss = 6.7491)\n",
      "Saving model (epoch =  147, loss = 6.7075)\n",
      "Saving model (epoch =  148, loss = 6.6654)\n",
      "Saving model (epoch =  149, loss = 6.6234)\n",
      "Saving model (epoch =  150, loss = 6.5805)\n",
      "Saving model (epoch =  151, loss = 6.5370)\n",
      "Saving model (epoch =  152, loss = 6.4926)\n",
      "Saving model (epoch =  153, loss = 6.4470)\n",
      "Saving model (epoch =  154, loss = 6.4009)\n",
      "Saving model (epoch =  155, loss = 6.3542)\n",
      "Saving model (epoch =  156, loss = 6.3064)\n",
      "Saving model (epoch =  157, loss = 6.2583)\n",
      "Saving model (epoch =  158, loss = 6.2094)\n",
      "Saving model (epoch =  159, loss = 6.1595)\n",
      "Saving model (epoch =  160, loss = 6.1092)\n",
      "Saving model (epoch =  161, loss = 6.0578)\n",
      "Saving model (epoch =  162, loss = 6.0053)\n",
      "Saving model (epoch =  163, loss = 5.9520)\n",
      "Saving model (epoch =  164, loss = 5.8973)\n",
      "Saving model (epoch =  165, loss = 5.8414)\n",
      "Saving model (epoch =  166, loss = 5.7849)\n",
      "Saving model (epoch =  167, loss = 5.7271)\n",
      "Saving model (epoch =  168, loss = 5.6684)\n",
      "Saving model (epoch =  169, loss = 5.6087)\n",
      "Saving model (epoch =  170, loss = 5.5472)\n",
      "Saving model (epoch =  171, loss = 5.4845)\n",
      "Saving model (epoch =  172, loss = 5.4209)\n",
      "Saving model (epoch =  173, loss = 5.3568)\n",
      "Saving model (epoch =  174, loss = 5.2917)\n",
      "Saving model (epoch =  175, loss = 5.2255)\n",
      "Saving model (epoch =  176, loss = 5.1578)\n",
      "Saving model (epoch =  177, loss = 5.0888)\n",
      "Saving model (epoch =  178, loss = 5.0202)\n",
      "Saving model (epoch =  179, loss = 4.9509)\n",
      "Saving model (epoch =  180, loss = 4.8808)\n",
      "Saving model (epoch =  181, loss = 4.8098)\n",
      "Saving model (epoch =  182, loss = 4.7374)\n",
      "Saving model (epoch =  183, loss = 4.6642)\n",
      "Saving model (epoch =  184, loss = 4.5893)\n",
      "Saving model (epoch =  185, loss = 4.5140)\n",
      "Saving model (epoch =  186, loss = 4.4369)\n",
      "Saving model (epoch =  187, loss = 4.3588)\n",
      "Saving model (epoch =  188, loss = 4.2800)\n",
      "Saving model (epoch =  189, loss = 4.2008)\n",
      "Saving model (epoch =  190, loss = 4.1210)\n",
      "Saving model (epoch =  191, loss = 4.0410)\n",
      "Saving model (epoch =  192, loss = 3.9618)\n",
      "Saving model (epoch =  193, loss = 3.8828)\n",
      "Saving model (epoch =  194, loss = 3.8044)\n",
      "Saving model (epoch =  195, loss = 3.7266)\n"
     ]
    },
    {
     "name": "stdout",
     "output_type": "stream",
     "text": [
      "Saving model (epoch =  196, loss = 3.6481)\n",
      "Saving model (epoch =  197, loss = 3.5695)\n",
      "Saving model (epoch =  198, loss = 3.4903)\n",
      "Saving model (epoch =  199, loss = 3.4124)\n",
      "Saving model (epoch =  200, loss = 3.3334)\n",
      "Saving model (epoch =  201, loss = 3.2545)\n",
      "Saving model (epoch =  202, loss = 3.1755)\n",
      "Saving model (epoch =  203, loss = 3.0957)\n",
      "Saving model (epoch =  204, loss = 3.0166)\n",
      "Saving model (epoch =  205, loss = 2.9379)\n",
      "Saving model (epoch =  206, loss = 2.8595)\n",
      "Saving model (epoch =  207, loss = 2.7809)\n",
      "Saving model (epoch =  208, loss = 2.7038)\n",
      "Saving model (epoch =  209, loss = 2.6268)\n",
      "Saving model (epoch =  210, loss = 2.5516)\n",
      "Saving model (epoch =  211, loss = 2.4774)\n",
      "Saving model (epoch =  212, loss = 2.4055)\n",
      "Saving model (epoch =  213, loss = 2.3348)\n",
      "Saving model (epoch =  214, loss = 2.2660)\n",
      "Saving model (epoch =  215, loss = 2.2003)\n",
      "Saving model (epoch =  216, loss = 2.1368)\n",
      "Saving model (epoch =  217, loss = 2.0757)\n",
      "Saving model (epoch =  218, loss = 2.0161)\n",
      "Saving model (epoch =  219, loss = 1.9593)\n",
      "Saving model (epoch =  220, loss = 1.9044)\n",
      "Saving model (epoch =  221, loss = 1.8520)\n",
      "Saving model (epoch =  222, loss = 1.8027)\n",
      "Saving model (epoch =  223, loss = 1.7563)\n",
      "Saving model (epoch =  224, loss = 1.7130)\n",
      "Saving model (epoch =  225, loss = 1.6698)\n",
      "Saving model (epoch =  226, loss = 1.6295)\n",
      "Saving model (epoch =  227, loss = 1.5911)\n",
      "Saving model (epoch =  228, loss = 1.5559)\n",
      "Saving model (epoch =  229, loss = 1.5215)\n",
      "Saving model (epoch =  230, loss = 1.4900)\n",
      "Saving model (epoch =  231, loss = 1.4606)\n",
      "Saving model (epoch =  232, loss = 1.4329)\n",
      "Saving model (epoch =  233, loss = 1.4073)\n",
      "Saving model (epoch =  234, loss = 1.3827)\n",
      "Saving model (epoch =  235, loss = 1.3607)\n",
      "Saving model (epoch =  236, loss = 1.3400)\n",
      "Saving model (epoch =  237, loss = 1.3216)\n",
      "Saving model (epoch =  238, loss = 1.3031)\n",
      "Saving model (epoch =  239, loss = 1.2864)\n",
      "Saving model (epoch =  240, loss = 1.2732)\n",
      "Saving model (epoch =  241, loss = 1.2587)\n",
      "Saving model (epoch =  242, loss = 1.2452)\n",
      "Saving model (epoch =  243, loss = 1.2348)\n",
      "Saving model (epoch =  244, loss = 1.2245)\n",
      "Saving model (epoch =  245, loss = 1.2152)\n",
      "Saving model (epoch =  246, loss = 1.2055)\n",
      "Saving model (epoch =  247, loss = 1.1985)\n",
      "Saving model (epoch =  248, loss = 1.1899)\n",
      "Saving model (epoch =  249, loss = 1.1842)\n",
      "Saving model (epoch =  250, loss = 1.1773)\n",
      "Saving model (epoch =  251, loss = 1.1724)\n",
      "Saving model (epoch =  252, loss = 1.1668)\n",
      "Saving model (epoch =  253, loss = 1.1644)\n",
      "Saving model (epoch =  254, loss = 1.1585)\n",
      "Saving model (epoch =  255, loss = 1.1563)\n",
      "Saving model (epoch =  256, loss = 1.1531)\n",
      "Saving model (epoch =  257, loss = 1.1506)\n",
      "Saving model (epoch =  258, loss = 1.1490)\n",
      "Saving model (epoch =  259, loss = 1.1449)\n",
      "Saving model (epoch =  260, loss = 1.1446)\n",
      "Saving model (epoch =  261, loss = 1.1421)\n",
      "Saving model (epoch =  262, loss = 1.1395)\n",
      "Saving model (epoch =  263, loss = 1.1382)\n",
      "Saving model (epoch =  264, loss = 1.1342)\n",
      "Saving model (epoch =  266, loss = 1.1312)\n",
      "Saving model (epoch =  268, loss = 1.1300)\n",
      "Saving model (epoch =  269, loss = 1.1262)\n",
      "Saving model (epoch =  272, loss = 1.1235)\n",
      "Saving model (epoch =  274, loss = 1.1201)\n",
      "Saving model (epoch =  275, loss = 1.1193)\n",
      "Saving model (epoch =  276, loss = 1.1181)\n",
      "Saving model (epoch =  278, loss = 1.1147)\n",
      "Saving model (epoch =  279, loss = 1.1139)\n",
      "Saving model (epoch =  282, loss = 1.1132)\n",
      "Saving model (epoch =  283, loss = 1.1117)\n",
      "Saving model (epoch =  284, loss = 1.1090)\n",
      "Saving model (epoch =  285, loss = 1.1087)\n",
      "Saving model (epoch =  286, loss = 1.1086)\n",
      "Saving model (epoch =  287, loss = 1.1078)\n",
      "Saving model (epoch =  288, loss = 1.1066)\n",
      "Saving model (epoch =  289, loss = 1.1046)\n",
      "Saving model (epoch =  290, loss = 1.1038)\n",
      "Saving model (epoch =  293, loss = 1.1014)\n",
      "Saving model (epoch =  295, loss = 1.1011)\n",
      "Saving model (epoch =  297, loss = 1.1001)\n",
      "Saving model (epoch =  298, loss = 1.0984)\n",
      "Saving model (epoch =  300, loss = 1.0974)\n",
      "Saving model (epoch =  301, loss = 1.0960)\n",
      "Saving model (epoch =  302, loss = 1.0947)\n",
      "Saving model (epoch =  305, loss = 1.0931)\n",
      "Saving model (epoch =  307, loss = 1.0923)\n",
      "Saving model (epoch =  309, loss = 1.0915)\n",
      "Saving model (epoch =  310, loss = 1.0904)\n",
      "Saving model (epoch =  313, loss = 1.0887)\n",
      "Saving model (epoch =  314, loss = 1.0870)\n",
      "Saving model (epoch =  319, loss = 1.0855)\n",
      "Saving model (epoch =  321, loss = 1.0849)\n",
      "Saving model (epoch =  322, loss = 1.0834)\n",
      "Saving model (epoch =  323, loss = 1.0828)\n",
      "Saving model (epoch =  327, loss = 1.0809)\n",
      "Saving model (epoch =  328, loss = 1.0797)\n",
      "Saving model (epoch =  334, loss = 1.0790)\n",
      "Saving model (epoch =  335, loss = 1.0780)\n",
      "Saving model (epoch =  339, loss = 1.0759)\n",
      "Saving model (epoch =  340, loss = 1.0748)\n",
      "Saving model (epoch =  341, loss = 1.0742)\n",
      "Saving model (epoch =  342, loss = 1.0736)\n",
      "Saving model (epoch =  345, loss = 1.0732)\n",
      "Saving model (epoch =  346, loss = 1.0731)\n",
      "Saving model (epoch =  348, loss = 1.0720)\n",
      "Saving model (epoch =  350, loss = 1.0709)\n",
      "Saving model (epoch =  352, loss = 1.0704)\n",
      "Saving model (epoch =  356, loss = 1.0674)\n",
      "Saving model (epoch =  358, loss = 1.0668)\n",
      "Saving model (epoch =  363, loss = 1.0652)\n",
      "Saving model (epoch =  365, loss = 1.0648)\n",
      "Saving model (epoch =  367, loss = 1.0637)\n",
      "Saving model (epoch =  373, loss = 1.0630)\n",
      "Saving model (epoch =  374, loss = 1.0622)\n",
      "Saving model (epoch =  375, loss = 1.0615)\n",
      "Saving model (epoch =  377, loss = 1.0609)\n",
      "Saving model (epoch =  379, loss = 1.0602)\n",
      "Saving model (epoch =  381, loss = 1.0591)\n",
      "Saving model (epoch =  384, loss = 1.0585)\n",
      "Saving model (epoch =  388, loss = 1.0573)\n",
      "Saving model (epoch =  393, loss = 1.0572)\n",
      "Saving model (epoch =  394, loss = 1.0566)\n",
      "Saving model (epoch =  397, loss = 1.0551)\n",
      "Saving model (epoch =  399, loss = 1.0546)\n",
      "Saving model (epoch =  402, loss = 1.0528)\n",
      "Saving model (epoch =  405, loss = 1.0525)\n",
      "Saving model (epoch =  407, loss = 1.0524)\n",
      "Saving model (epoch =  411, loss = 1.0509)\n",
      "Saving model (epoch =  414, loss = 1.0507)\n",
      "Saving model (epoch =  415, loss = 1.0507)\n",
      "Saving model (epoch =  417, loss = 1.0493)\n",
      "Saving model (epoch =  419, loss = 1.0478)\n",
      "Saving model (epoch =  428, loss = 1.0474)\n",
      "Saving model (epoch =  429, loss = 1.0470)\n",
      "Saving model (epoch =  430, loss = 1.0453)\n",
      "Saving model (epoch =  439, loss = 1.0445)\n",
      "Saving model (epoch =  440, loss = 1.0443)\n",
      "Saving model (epoch =  442, loss = 1.0434)\n",
      "Saving model (epoch =  443, loss = 1.0432)\n",
      "Saving model (epoch =  444, loss = 1.0430)\n",
      "Saving model (epoch =  446, loss = 1.0423)\n",
      "Saving model (epoch =  447, loss = 1.0419)\n",
      "Saving model (epoch =  455, loss = 1.0399)\n",
      "Saving model (epoch =  456, loss = 1.0392)\n",
      "Saving model (epoch =  460, loss = 1.0385)\n",
      "Saving model (epoch =  462, loss = 1.0367)\n",
      "Saving model (epoch =  471, loss = 1.0358)\n",
      "Saving model (epoch =  477, loss = 1.0347)\n",
      "Saving model (epoch =  478, loss = 1.0343)\n",
      "Saving model (epoch =  483, loss = 1.0335)\n",
      "Saving model (epoch =  484, loss = 1.0329)\n",
      "Saving model (epoch =  489, loss = 1.0318)\n",
      "Saving model (epoch =  494, loss = 1.0317)\n",
      "Saving model (epoch =  496, loss = 1.0317)\n",
      "Saving model (epoch =  501, loss = 1.0312)\n",
      "Saving model (epoch =  502, loss = 1.0302)\n",
      "Saving model (epoch =  505, loss = 1.0299)\n",
      "Saving model (epoch =  509, loss = 1.0280)\n",
      "Saving model (epoch =  519, loss = 1.0267)\n",
      "Saving model (epoch =  526, loss = 1.0263)\n",
      "Saving model (epoch =  527, loss = 1.0251)\n",
      "Saving model (epoch =  531, loss = 1.0245)\n",
      "Saving model (epoch =  534, loss = 1.0244)\n",
      "Saving model (epoch =  536, loss = 1.0241)\n",
      "Saving model (epoch =  537, loss = 1.0241)\n",
      "Saving model (epoch =  539, loss = 1.0229)\n",
      "Saving model (epoch =  540, loss = 1.0228)\n",
      "Saving model (epoch =  543, loss = 1.0223)\n",
      "Saving model (epoch =  545, loss = 1.0222)\n",
      "Saving model (epoch =  548, loss = 1.0212)\n",
      "Saving model (epoch =  550, loss = 1.0202)\n",
      "Saving model (epoch =  558, loss = 1.0196)\n",
      "Saving model (epoch =  566, loss = 1.0195)\n",
      "Saving model (epoch =  568, loss = 1.0187)\n",
      "Saving model (epoch =  574, loss = 1.0171)\n",
      "Saving model (epoch =  584, loss = 1.0154)\n",
      "Saving model (epoch =  586, loss = 1.0153)\n",
      "Saving model (epoch =  589, loss = 1.0152)\n",
      "Saving model (epoch =  592, loss = 1.0143)\n",
      "Saving model (epoch =  593, loss = 1.0139)\n",
      "Saving model (epoch =  603, loss = 1.0127)\n"
     ]
    },
    {
     "name": "stdout",
     "output_type": "stream",
     "text": [
      "Saving model (epoch =  613, loss = 1.0113)\n",
      "Saving model (epoch =  623, loss = 1.0107)\n",
      "Saving model (epoch =  625, loss = 1.0102)\n",
      "Saving model (epoch =  633, loss = 1.0099)\n",
      "Saving model (epoch =  636, loss = 1.0099)\n",
      "Saving model (epoch =  638, loss = 1.0098)\n",
      "Saving model (epoch =  640, loss = 1.0088)\n",
      "Saving model (epoch =  646, loss = 1.0076)\n",
      "Saving model (epoch =  650, loss = 1.0074)\n",
      "Saving model (epoch =  657, loss = 1.0071)\n",
      "Saving model (epoch =  664, loss = 1.0063)\n",
      "Saving model (epoch =  667, loss = 1.0059)\n",
      "Saving model (epoch =  669, loss = 1.0059)\n",
      "Saving model (epoch =  674, loss = 1.0055)\n",
      "Saving model (epoch =  675, loss = 1.0055)\n",
      "Saving model (epoch =  681, loss = 1.0045)\n",
      "Saving model (epoch =  687, loss = 1.0043)\n",
      "Saving model (epoch =  694, loss = 1.0042)\n",
      "Saving model (epoch =  702, loss = 1.0027)\n",
      "Saving model (epoch =  704, loss = 1.0026)\n",
      "Saving model (epoch =  710, loss = 1.0026)\n",
      "Saving model (epoch =  712, loss = 1.0017)\n",
      "Saving model (epoch =  723, loss = 1.0007)\n",
      "Saving model (epoch =  724, loss = 0.9995)\n",
      "Saving model (epoch =  731, loss = 0.9994)\n",
      "Saving model (epoch =  745, loss = 0.9982)\n",
      "Saving model (epoch =  752, loss = 0.9977)\n",
      "Saving model (epoch =  758, loss = 0.9976)\n",
      "Saving model (epoch =  761, loss = 0.9969)\n",
      "Saving model (epoch =  766, loss = 0.9962)\n",
      "Saving model (epoch =  779, loss = 0.9950)\n",
      "Saving model (epoch =  782, loss = 0.9948)\n",
      "Saving model (epoch =  792, loss = 0.9945)\n",
      "Saving model (epoch =  798, loss = 0.9944)\n",
      "Saving model (epoch =  805, loss = 0.9936)\n",
      "Saving model (epoch =  812, loss = 0.9929)\n",
      "Saving model (epoch =  826, loss = 0.9926)\n",
      "Saving model (epoch =  839, loss = 0.9919)\n",
      "Saving model (epoch =  852, loss = 0.9912)\n",
      "Saving model (epoch =  862, loss = 0.9911)\n",
      "Saving model (epoch =  864, loss = 0.9908)\n",
      "Saving model (epoch =  865, loss = 0.9906)\n",
      "Saving model (epoch =  866, loss = 0.9898)\n",
      "Saving model (epoch =  870, loss = 0.9896)\n",
      "Saving model (epoch =  877, loss = 0.9888)\n",
      "Saving model (epoch =  878, loss = 0.9884)\n",
      "Saving model (epoch =  892, loss = 0.9881)\n",
      "Saving model (epoch =  896, loss = 0.9880)\n",
      "Saving model (epoch =  899, loss = 0.9876)\n",
      "Saving model (epoch =  904, loss = 0.9876)\n",
      "Saving model (epoch =  908, loss = 0.9867)\n",
      "Saving model (epoch =  917, loss = 0.9862)\n",
      "Saving model (epoch =  925, loss = 0.9856)\n",
      "Saving model (epoch =  938, loss = 0.9856)\n",
      "Saving model (epoch =  964, loss = 0.9849)\n",
      "Saving model (epoch =  966, loss = 0.9848)\n",
      "Saving model (epoch =  976, loss = 0.9847)\n",
      "Saving model (epoch =  978, loss = 0.9830)\n",
      "Saving model (epoch =  996, loss = 0.9830)\n",
      "Saving model (epoch = 1003, loss = 0.9830)\n",
      "Saving model (epoch = 1004, loss = 0.9827)\n",
      "Saving model (epoch = 1015, loss = 0.9818)\n",
      "Saving model (epoch = 1044, loss = 0.9815)\n",
      "Saving model (epoch = 1054, loss = 0.9813)\n",
      "Saving model (epoch = 1083, loss = 0.9810)\n",
      "Saving model (epoch = 1085, loss = 0.9803)\n",
      "Saving model (epoch = 1087, loss = 0.9800)\n",
      "Saving model (epoch = 1093, loss = 0.9796)\n",
      "Saving model (epoch = 1115, loss = 0.9790)\n",
      "Saving model (epoch = 1124, loss = 0.9788)\n",
      "Saving model (epoch = 1127, loss = 0.9788)\n",
      "Saving model (epoch = 1142, loss = 0.9786)\n",
      "Saving model (epoch = 1143, loss = 0.9785)\n",
      "Saving model (epoch = 1161, loss = 0.9779)\n",
      "Saving model (epoch = 1171, loss = 0.9777)\n",
      "Saving model (epoch = 1175, loss = 0.9769)\n",
      "Saving model (epoch = 1196, loss = 0.9767)\n",
      "Saving model (epoch = 1234, loss = 0.9765)\n",
      "Saving model (epoch = 1248, loss = 0.9762)\n",
      "Saving model (epoch = 1249, loss = 0.9758)\n",
      "Saving model (epoch = 1251, loss = 0.9756)\n",
      "Saving model (epoch = 1286, loss = 0.9754)\n",
      "Saving model (epoch = 1288, loss = 0.9750)\n",
      "Saving model (epoch = 1289, loss = 0.9750)\n",
      "Saving model (epoch = 1300, loss = 0.9750)\n",
      "Saving model (epoch = 1308, loss = 0.9745)\n",
      "Saving model (epoch = 1335, loss = 0.9741)\n",
      "Saving model (epoch = 1371, loss = 0.9739)\n",
      "Saving model (epoch = 1374, loss = 0.9739)\n",
      "Saving model (epoch = 1385, loss = 0.9736)\n",
      "Saving model (epoch = 1415, loss = 0.9735)\n",
      "Saving model (epoch = 1416, loss = 0.9730)\n",
      "Saving model (epoch = 1444, loss = 0.9727)\n",
      "Saving model (epoch = 1456, loss = 0.9719)\n",
      "Saving model (epoch = 1501, loss = 0.9718)\n",
      "Saving model (epoch = 1516, loss = 0.9717)\n",
      "Saving model (epoch = 1517, loss = 0.9713)\n",
      "Saving model (epoch = 1632, loss = 0.9710)\n",
      "Saving model (epoch = 1665, loss = 0.9710)\n",
      "Saving model (epoch = 1688, loss = 0.9705)\n",
      "Saving model (epoch = 1744, loss = 0.9703)\n",
      "Saving model (epoch = 1755, loss = 0.9697)\n",
      "Saving model (epoch = 1759, loss = 0.9696)\n",
      "Saving model (epoch = 1890, loss = 0.9692)\n",
      "Saving model (epoch = 2016, loss = 0.9689)\n",
      "Saving model (epoch = 2098, loss = 0.9682)\n",
      "Saving model (epoch = 2296, loss = 0.9679)\n",
      "Saving model (epoch = 2322, loss = 0.9678)\n",
      "Saving model (epoch = 2454, loss = 0.9673)\n",
      "Saving model (epoch = 2619, loss = 0.9673)\n",
      "Saving model (epoch = 2695, loss = 0.9672)\n",
      "Saving model (epoch = 2827, loss = 0.9672)\n",
      "Saving model (epoch = 2831, loss = 0.9669)\n",
      "Saving model (epoch = 2976, loss = 0.9664)\n",
      "Finished training after 3000 epochs\n"
     ]
    }
   ],
   "source": [
    "model = NeuralNet(tr_set.dataset.dim).to(device)  # Construct model and move to device\n",
    "\n",
    "model_loss, model_loss_record = train(tr_set, dv_set, model, config, device)"
   ]
  },
  {
   "cell_type": "code",
   "execution_count": 24,
   "metadata": {
    "ExecuteTime": {
     "end_time": "2021-05-17T07:33:23.339305Z",
     "start_time": "2021-05-17T07:33:23.179297Z"
    }
   },
   "outputs": [
    {
     "data": {
      "image/png": "[encoded data removed]",
      "text/plain": [
       "<matplotlib.figure.Figure at 0x115af1d0>"
      ]
     },
     "metadata": {},
     "output_type": "display_data"
    }
   ],
   "source": [
    "plot_learning_curve(model_loss_record, title='deep model')"
   ]
  },
  {
   "cell_type": "code",
   "execution_count": 25,
   "metadata": {
    "ExecuteTime": {
     "end_time": "2021-05-17T07:33:29.912429Z",
     "start_time": "2021-05-17T07:33:29.768422Z"
    }
   },
   "outputs": [
    {
     "data": {
      "image/png": "[encoded data removed]",
      "text/plain": [
       "<matplotlib.figure.Figure at 0x10c572b0>"
      ]
     },
     "metadata": {},
     "output_type": "display_data"
    }
   ],
   "source": [
    "del model\n",
    "model = NeuralNet(tr_set.dataset.dim).to(device)\n",
    "ckpt = torch.load(config['save_path'], map_location='cpu')  # Load your best model\n",
    "model.load_state_dict(ckpt)\n",
    "plot_pred(dv_set, model, device)  # Show prediction on the validation set"
   ]
  },
  {
   "cell_type": "code",
   "execution_count": null,
   "metadata": {
    "collapsed": true
   },
   "outputs": [],
   "source": []
  },
  {
   "cell_type": "code",
   "execution_count": null,
   "metadata": {
    "collapsed": true
   },
   "outputs": [],
   "source": []
  },
  {
   "cell_type": "code",
   "execution_count": null,
   "metadata": {
    "collapsed": true
   },
   "outputs": [],
   "source": []
  },
  {
   "cell_type": "markdown",
   "metadata": {},
   "source": [
    "# Test"
   ]
  },
  {
   "cell_type": "code",
   "execution_count": null,
   "metadata": {
    "collapsed": true
   },
   "outputs": [],
   "source": []
  },
  {
   "cell_type": "code",
   "execution_count": null,
   "metadata": {
    "collapsed": true
   },
   "outputs": [],
   "source": []
  },
  {
   "cell_type": "code",
   "execution_count": null,
   "metadata": {
    "collapsed": true
   },
   "outputs": [],
   "source": []
  },
  {
   "cell_type": "code",
   "execution_count": 336,
   "metadata": {
    "ExecuteTime": {
     "end_time": "2021-05-14T09:39:54.911307Z",
     "start_time": "2021-05-14T09:39:54.847304Z"
    }
   },
   "outputs": [
    {
     "name": "stdout",
     "output_type": "stream",
     "text": [
      "Processing  Kfold: 0\n"
     ]
    },
    {
     "ename": "ValueError",
     "evalue": "too many values to unpack (expected 2)",
     "output_type": "error",
     "traceback": [
      "\u001b[1;31m---------------------------------------------------------------------------\u001b[0m",
      "\u001b[1;31mValueError\u001b[0m                                Traceback (most recent call last)",
      "\u001b[1;32m<ipython-input-336-177818525f91>\u001b[0m in \u001b[0;36m<module>\u001b[1;34m()\u001b[0m\n\u001b[0;32m     21\u001b[0m     model_loss, model_loss_record = train((partital_train_data,partital_train_target), \n\u001b[0;32m     22\u001b[0m                                           \u001b[1;33m(\u001b[0m\u001b[0mval_data\u001b[0m\u001b[1;33m,\u001b[0m\u001b[0mval_target\u001b[0m\u001b[1;33m)\u001b[0m\u001b[1;33m,\u001b[0m\u001b[1;33m\u001b[0m\u001b[0m\n\u001b[1;32m---> 23\u001b[1;33m                                           model, config, device)\n\u001b[0m\u001b[0;32m     24\u001b[0m     \u001b[0mval_loss\u001b[0m\u001b[1;33m.\u001b[0m\u001b[0mappend\u001b[0m\u001b[1;33m(\u001b[0m\u001b[0mmodel_loss\u001b[0m\u001b[1;33m)\u001b[0m\u001b[1;33m\u001b[0m\u001b[0m\n\u001b[0;32m     25\u001b[0m \u001b[0mprint\u001b[0m\u001b[1;33m(\u001b[0m\u001b[1;34m'val mean :'\u001b[0m\u001b[1;33m,\u001b[0m\u001b[0mnp\u001b[0m\u001b[1;33m.\u001b[0m\u001b[0mmean\u001b[0m\u001b[1;33m(\u001b[0m\u001b[0mval_loss\u001b[0m\u001b[1;33m)\u001b[0m\u001b[1;33m)\u001b[0m\u001b[1;33m\u001b[0m\u001b[0m\n",
      "\u001b[1;32m<ipython-input-268-0258b500d1cf>\u001b[0m in \u001b[0;36mtrain\u001b[1;34m(tr_set, dv_set, model, config, device)\u001b[0m\n\u001b[0;32m     14\u001b[0m     \u001b[1;32mwhile\u001b[0m \u001b[0mepoch\u001b[0m \u001b[1;33m<\u001b[0m \u001b[0mn_epochs\u001b[0m\u001b[1;33m:\u001b[0m\u001b[1;33m\u001b[0m\u001b[0m\n\u001b[0;32m     15\u001b[0m         \u001b[0mmodel\u001b[0m\u001b[1;33m.\u001b[0m\u001b[0mtrain\u001b[0m\u001b[1;33m(\u001b[0m\u001b[1;33m)\u001b[0m                           \u001b[1;31m# set model to training mode\u001b[0m\u001b[1;33m\u001b[0m\u001b[0m\n\u001b[1;32m---> 16\u001b[1;33m         \u001b[1;32mfor\u001b[0m \u001b[0mx\u001b[0m\u001b[1;33m,\u001b[0m \u001b[0my\u001b[0m \u001b[1;32min\u001b[0m \u001b[0mtr_set\u001b[0m\u001b[1;33m:\u001b[0m                     \u001b[1;31m# iterate through the dataloader\u001b[0m\u001b[1;33m\u001b[0m\u001b[0m\n\u001b[0m\u001b[0;32m     17\u001b[0m             \u001b[0moptimizer\u001b[0m\u001b[1;33m.\u001b[0m\u001b[0mzero_grad\u001b[0m\u001b[1;33m(\u001b[0m\u001b[1;33m)\u001b[0m               \u001b[1;31m# set gradient to zero\u001b[0m\u001b[1;33m\u001b[0m\u001b[0m\n\u001b[0;32m     18\u001b[0m             \u001b[0mx\u001b[0m\u001b[1;33m,\u001b[0m \u001b[0my\u001b[0m \u001b[1;33m=\u001b[0m \u001b[0mx\u001b[0m\u001b[1;33m.\u001b[0m\u001b[0mto\u001b[0m\u001b[1;33m(\u001b[0m\u001b[0mdevice\u001b[0m\u001b[1;33m)\u001b[0m\u001b[1;33m,\u001b[0m \u001b[0my\u001b[0m\u001b[1;33m.\u001b[0m\u001b[0mto\u001b[0m\u001b[1;33m(\u001b[0m\u001b[0mdevice\u001b[0m\u001b[1;33m)\u001b[0m   \u001b[1;31m# move data to device (cpu/cuda)\u001b[0m\u001b[1;33m\u001b[0m\u001b[0m\n",
      "\u001b[1;31mValueError\u001b[0m: too many values to unpack (expected 2)"
     ]
    }
   ],
   "source": [
    "k=5\n",
    "val_loss=[]\n",
    "num_val_sample=len(tr_set) // k\n",
    "\n",
    "for i in range(5):\n",
    "    print('Processing  Kfold: %d' % (i))\n",
    "    \n",
    "    val_data=tr_set.dataset.data[i * num_val_sample:(i+1) * num_val_sample,:]\n",
    "    val_target=tr_set.dataset.target[i*num_val_sample:(i+1) * num_val_sample]\n",
    "            \n",
    "    partital_train_data=torch.cat(\n",
    "        (tr_set.dataset.data[:i*num_val_sample,:],\n",
    "        tr_set.dataset.data[(i+1) * num_val_sample:,:]),0\n",
    "    )\n",
    "    partital_train_target=torch.cat(\n",
    "        (tr_set.dataset.target[:i*num_val_sample],\n",
    "        tr_set.dataset.target[(i+1) * num_val_sample:]),0\n",
    "    )\n",
    "    \n",
    "    \n",
    "    model_loss, model_loss_record = train((partital_train_data,partital_train_target), \n",
    "                                          (val_data,val_target), \n",
    "                                          model, config, device)\n",
    "    val_loss.append(model_loss)\n",
    "print('val mean :',np.mean(val_loss))\n"
   ]
  },
  {
   "cell_type": "code",
   "execution_count": null,
   "metadata": {
    "collapsed": true
   },
   "outputs": [],
   "source": [
    "for x,y in (partital_train_data,partital_train_target):\n",
    "    "
   ]
  },
  {
   "cell_type": "code",
   "execution_count": null,
   "metadata": {
    "collapsed": true
   },
   "outputs": [],
   "source": []
  },
  {
   "cell_type": "code",
   "execution_count": null,
   "metadata": {
    "collapsed": true
   },
   "outputs": [],
   "source": []
  },
  {
   "cell_type": "markdown",
   "metadata": {
    "id": "aQikz3IPiyPf"
   },
   "source": [
    "# **Testing**\n",
    "The predictions of your model on testing set will be stored at `pred.csv`."
   ]
  },
  {
   "cell_type": "code",
   "execution_count": 149,
   "metadata": {
    "ExecuteTime": {
     "end_time": "2021-05-14T03:00:32.170421Z",
     "start_time": "2021-05-14T03:00:32.115818Z"
    },
    "colab": {
     "base_uri": "https://localhost:8080/"
    },
    "id": "O8cTuQjQQOon",
    "outputId": "6bc5de07-4c5a-4e87-9ae3-d09f539c5f2c"
   },
   "outputs": [
    {
     "name": "stdout",
     "output_type": "stream",
     "text": [
      "Saving results to F:\\study\\ml\\HonyiLee2021\\Lhy_Machine_Learning-main\\01 Introduction\\dataset\\pred_hjc_mustd2.csv\n"
     ]
    }
   ],
   "source": [
    "def save_pred(preds, file):\n",
    "    ''' Save predictions to specified file '''\n",
    "    print('Saving results to {}'.format(file))\n",
    "    with open(file, 'w') as fp:\n",
    "        writer = csv.writer(fp)\n",
    "        writer.writerow(['id', 'tested_positive'])\n",
    "        for i, p in enumerate(preds):\n",
    "            writer.writerow([i, p])\n",
    "\n",
    "preds = test(tt_set, model, device)  # predict COVID-19 cases with your model\n",
    "save_pred(preds, r'F:\\study\\ml\\HonyiLee2021\\Lhy_Machine_Learning-main\\01 Introduction\\dataset\\pred_hjc_mustd2.csv')         # save prediction file to pred.csv"
   ]
  },
  {
   "cell_type": "markdown",
   "metadata": {
    "id": "nfrVxqJanGpE"
   },
   "source": [
    "# **Hints**\n",
    "\n",
    "## **Simple Baseline**\n",
    "* Run sample code\n",
    "\n",
    "## **Medium Baseline**\n",
    "* Feature selection: 40 states + 2 `tested_positive` (`TODO` in dataset)\n",
    "\n",
    "## **Strong Baseline**\n",
    "* Feature selection (what other features are useful?)\n",
    "* DNN architecture (layers? dimension? activation function?)\n",
    "* Training (mini-batch? optimizer? learning rate?)\n",
    "* L2 regularization\n",
    "* There are some mistakes in the sample code, can you find them?"
   ]
  },
  {
   "cell_type": "markdown",
   "metadata": {
    "id": "9tmCwXgpot3t"
   },
   "source": [
    "# **Reference**\n",
    "This code is completely written by Heng-Jui Chang @ NTUEE.  \n",
    "Copying or reusing this code is required to specify the original author. \n",
    "\n",
    "E.g.  \n",
    "Source: Heng-Jui Chang @ NTUEE (https://github.com/ga642381/ML2021-Spring/blob/main/HW01/HW01.ipynb)\n"
   ]
  }
 ],
 "metadata": {
  "accelerator": "GPU",
  "colab": {
   "collapsed_sections": [],
   "name": "ML2021Spring - HW1.ipynb",
   "provenance": [],
   "toc_visible": true
  },
  "kernelspec": {
   "display_name": "Python 3",
   "language": "python",
   "name": "python3"
  },
  "language_info": {
   "codemirror_mode": {
    "name": "ipython",
    "version": 3
   },
   "file_extension": ".py",
   "mimetype": "text/x-python",
   "name": "python",
   "nbconvert_exporter": "python",
   "pygments_lexer": "ipython3",
   "version": "3.6.3"
  }
 },
 "nbformat": 4,
 "nbformat_minor": 1
}
