{
 "cells": [
  {
   "cell_type": "markdown",
   "metadata": {
    "id": "mz0_QVkxCrX3"
   },
   "source": [
    "# **Homework 1: COVID-19 Cases Prediction (Regression)**"
   ]
  },
  {
   "cell_type": "markdown",
   "metadata": {
    "id": "ZeZnPAiwDRWG"
   },
   "source": [
    "Author: Heng-Jui Chang\n",
    "\n",
    "Slides: https://github.com/ga642381/ML2021-Spring/blob/main/HW01/HW01.pdf  \n",
    "Video: TBA\n",
    "\n",
    "Objectives:\n",
    "* Solve a regression problem with deep neural networks (DNN).\n",
    "* Understand basic DNN training tips.\n",
    "* Get familiar with PyTorch.\n",
    "\n",
    "If any questions, please contact the TAs via TA hours, NTU COOL, or email.\n"
   ]
  },
  {
   "cell_type": "markdown",
   "metadata": {
    "id": "Jx3x1nDkG-Uy"
   },
   "source": [
    "# **Download Data**\n",
    "\n",
    "\n",
    "If the Google drive links are dead, you can download data from [kaggle](https://www.kaggle.com/c/ml2021spring-hw1/data), and upload data manually to the workspace."
   ]
  },
  {
   "cell_type": "code",
   "execution_count": 1,
   "metadata": {
    "ExecuteTime": {
     "end_time": "2021-05-28T03:14:54.828417Z",
     "start_time": "2021-05-28T03:14:54.729411Z"
    },
    "colab": {
     "base_uri": "https://localhost:8080/"
    },
    "id": "tMj55YDKG6ch",
    "outputId": "fc40ecc9-4756-48b1-d5c6-c169a8b453b2"
   },
   "outputs": [
    {
     "name": "stderr",
     "output_type": "stream",
     "text": [
      "'gdown' 不是内部或外部命令，也不是可运行的程序\n",
      "或批处理文件。\n",
      "'gdown' 不是内部或外部命令，也不是可运行的程序\n",
      "或批处理文件。\n"
     ]
    }
   ],
   "source": [
    "tr_path = r'F:\\study\\ml\\HonyiLee2021\\Lhy_Machine_Learning-main\\01 Introduction\\dataset\\covid.train.csv'  # path to training data\n",
    "tt_path = r'F:\\study\\ml\\HonyiLee2021\\Lhy_Machine_Learning-main\\01 Introduction\\dataset\\covid.test.csv'   # path to testing data\n",
    "\n",
    "!gdown --id '19CCyCgJrUxtvgZF53vnctJiOJ23T5mqF' --output covid.train.csv\n",
    "!gdown --id '1CE240jLm2npU-tdz81-oVKEF3T2yfT1O' --output covid.test.csv"
   ]
  },
  {
   "cell_type": "markdown",
   "metadata": {
    "id": "wS_4-77xHk44"
   },
   "source": [
    "# **Import Some Packages**"
   ]
  },
  {
   "cell_type": "code",
   "execution_count": 2,
   "metadata": {
    "ExecuteTime": {
     "end_time": "2021-05-28T03:15:04.925994Z",
     "start_time": "2021-05-28T03:14:56.115490Z"
    },
    "collapsed": true,
    "id": "k-onQd4JNA5H"
   },
   "outputs": [],
   "source": [
    "# PyTorch\n",
    "import torch\n",
    "import torch.nn as nn\n",
    "from torch.utils.data import Dataset, DataLoader\n",
    "\n",
    "# For data preprocess\n",
    "import numpy as np\n",
    "import csv\n",
    "import os\n",
    "\n",
    "# For plotting\n",
    "import matplotlib.pyplot as plt\n",
    "from matplotlib.pyplot import figure\n",
    "\n",
    "myseed = 42069  # set a random seed for reproducibility\n",
    "torch.backends.cudnn.deterministic = True\n",
    "torch.backends.cudnn.benchmark = False\n",
    "np.random.seed(myseed)\n",
    "torch.manual_seed(myseed)\n",
    "if torch.cuda.is_available():\n",
    "    torch.cuda.manual_seed_all(myseed)"
   ]
  },
  {
   "cell_type": "markdown",
   "metadata": {
    "id": "BtE3b6JEH7rw"
   },
   "source": [
    "# **Some Utilities**\n",
    "\n",
    "You do not need to modify this part."
   ]
  },
  {
   "cell_type": "code",
   "execution_count": 3,
   "metadata": {
    "ExecuteTime": {
     "end_time": "2021-05-28T03:15:04.997999Z",
     "start_time": "2021-05-28T03:15:04.926994Z"
    },
    "collapsed": true,
    "id": "FWMT3uf1NGQp"
   },
   "outputs": [],
   "source": [
    "def get_device():\n",
    "    ''' Get device (if GPU is available, use GPU) '''\n",
    "    return 'cuda' if torch.cuda.is_available() else 'cpu'\n",
    "\n",
    "def plot_learning_curve(loss_record, title=''):\n",
    "    ''' Plot learning curve of your DNN (train & dev loss) '''\n",
    "    total_steps = len(loss_record['train'])\n",
    "    x_1 = range(total_steps)\n",
    "    x_2 = x_1[::len(loss_record['train']) // len(loss_record['dev'])]\n",
    "    figure(figsize=(6, 4))\n",
    "    plt.plot(x_1, loss_record['train'], c='tab:red', label='train')\n",
    "    plt.plot(x_2, loss_record['dev'], c='tab:cyan', label='dev')\n",
    "    plt.ylim(0.0, 5.)\n",
    "    plt.xlabel('Training steps')\n",
    "    plt.ylabel('MSE loss')\n",
    "    plt.title('Learning curve of {}'.format(title))\n",
    "    plt.legend()\n",
    "    plt.show()\n",
    "\n",
    "\n",
    "def plot_pred(dv_set, model, device, lim=35., preds=None, targets=None):\n",
    "    ''' Plot prediction of your DNN '''\n",
    "    if preds is None or targets is None:\n",
    "        model.eval()\n",
    "        preds, targets = [], []\n",
    "        for x, y in dv_set:\n",
    "            x, y = x.to(device), y.to(device)\n",
    "            with torch.no_grad():\n",
    "                pred = model(x)\n",
    "                preds.append(pred.detach().cpu())\n",
    "                targets.append(y.detach().cpu())\n",
    "        preds = torch.cat(preds, dim=0).numpy()\n",
    "        targets = torch.cat(targets, dim=0).numpy()\n",
    "\n",
    "    figure(figsize=(5, 5))\n",
    "    plt.scatter(targets, preds, c='r', alpha=0.5)\n",
    "    plt.plot([-0.2, lim], [-0.2, lim], c='b')\n",
    "    plt.xlim(-0.2, lim)\n",
    "    plt.ylim(-0.2, lim)\n",
    "    plt.xlabel('ground truth value')\n",
    "    plt.ylabel('predicted value')\n",
    "    plt.title('Ground Truth v.s. Prediction')\n",
    "    plt.show()"
   ]
  },
  {
   "cell_type": "markdown",
   "metadata": {
    "id": "39U_XFX6KOoj"
   },
   "source": [
    "# **Preprocess**\n",
    "\n",
    "We have three kinds of datasets:\n",
    "* `train`: for training\n",
    "* `dev`: for validation\n",
    "* `test`: for testing (w/o target value)"
   ]
  },
  {
   "cell_type": "markdown",
   "metadata": {
    "id": "TQ-MdwpLL7Dt"
   },
   "source": [
    "## **Dataset**\n",
    "\n",
    "The `COVID19Dataset` below does:\n",
    "* read `.csv` files\n",
    "* extract features\n",
    "* split `covid.train.csv` into train/dev sets\n",
    "* normalize features\n",
    "\n",
    "Finishing `TODO` below might make you pass medium baseline."
   ]
  },
  {
   "cell_type": "code",
   "execution_count": 4,
   "metadata": {
    "ExecuteTime": {
     "end_time": "2021-05-28T03:15:12.084404Z",
     "start_time": "2021-05-28T03:15:06.259071Z"
    },
    "collapsed": true
   },
   "outputs": [],
   "source": [
    "from sklearn.model_selection import train_test_split"
   ]
  },
  {
   "cell_type": "code",
   "execution_count": 6,
   "metadata": {
    "ExecuteTime": {
     "end_time": "2021-05-28T03:15:48.409482Z",
     "start_time": "2021-05-28T03:15:48.262473Z"
    },
    "collapsed": true,
    "id": "0zlpIp9ANJRU"
   },
   "outputs": [],
   "source": [
    "class COVID19Dataset(Dataset):\n",
    "    ''' Dataset for loading and preprocessing the COVID19 dataset '''\n",
    "    def __init__(self,\n",
    "                 path,\n",
    "                 mu,\n",
    "                 std,\n",
    "                 mode='train',\n",
    "                 target_only=False):\n",
    "        self.mode = mode\n",
    "\n",
    "        # Read data into numpy arrays\n",
    "        with open(path, 'r') as fp:\n",
    "            data = list(csv.reader(fp))\n",
    "            data = np.array(data[1:])[:, 1:].astype(float)\n",
    "        \n",
    "        if not target_only:\n",
    "#             feats = list(range(93))\n",
    "#             feats=list(range(40))+[42, 57, 60, 75, 78]  ## > 0.87\n",
    "            feats=list(range(40))+[42, 43, 57, 60, 61, 75, 78, 79] ## >0.85\n",
    "#             feats=list(range(40))+[57, 75]\n",
    "        else:\n",
    "            # TODO: Using 40 states & 2 tested_positive features (indices = 57 & 75)\n",
    "            pass\n",
    "\n",
    "        if mode == 'test':\n",
    "            # Testing data\n",
    "            # data: 893 x 93 (40 states + day 1 (18) + day 2 (18) + day 3 (17))\n",
    "            data = data[:, feats]\n",
    "            self.data = torch.FloatTensor(data)\n",
    "        else:\n",
    "            # Training data (train/dev sets)\n",
    "            # data: 2700 x 94 (40 states + day 1 (18) + day 2 (18) + day 3 (18))\n",
    "            target = data[:, -1]\n",
    "            data = data[:, feats]\n",
    "            \n",
    "            # Splitting training data into train & dev sets\n",
    "            \n",
    "            indices=list(range(len(data)))\n",
    "            train_indices,dev_indices=train_test_split(indices,test_size=0.3,random_state=42069)\n",
    "            \n",
    "            \n",
    "            if mode == 'train':\n",
    "#                 indices = [i for i in range(len(data)) if i % 10 != 0]\n",
    "                indices=train_indices\n",
    "            elif mode == 'dev':\n",
    "#                 indices = [i for i in range(len(data)) if i % 10 == 0]\n",
    "                indices=dev_indices\n",
    "            \n",
    "            # Convert data into PyTorch tensors\n",
    "            self.data = torch.FloatTensor(data[indices])\n",
    "            self.target = torch.FloatTensor(target[indices])\n",
    "\n",
    "        # Normalize features (you may remove this part to see what will happen)\n",
    "        if mode=='train':\n",
    "            self.mu=self.data[:,40:].mean(dim=0,keepdim=True)\n",
    "            self.std=self.data[:,40:].std(dim=0,keepdim=True)\n",
    "        else:\n",
    "            self.mu=mu\n",
    "            self.std=std\n",
    "        self.data[:,40:]=(self.data[:,40:]-self.mu)/self.std\n",
    "        \n",
    "#         self.data[:, 40:] = \\\n",
    "#             (self.data[:, 40:] - self.data[:, 40:].mean(dim=0, keepdim=True)) \\\n",
    "#             / self.data[:, 40:].std(dim=0, keepdim=True)\n",
    "\n",
    "        self.dim = self.data.shape[1]\n",
    "\n",
    "        print('Finished reading the {} set of COVID19 Dataset ({} samples found, each dim = {})'\n",
    "              .format(mode, len(self.data), self.dim))\n",
    "\n",
    "    def __getitem__(self, index):\n",
    "        # Returns one sample at a time\n",
    "        if self.mode in ['train', 'dev']:\n",
    "            # For training\n",
    "            return self.data[index], self.target[index]\n",
    "        else:\n",
    "            # For testing (no target)\n",
    "            return self.data[index]\n",
    "\n",
    "    def __len__(self):\n",
    "        # Returns the size of the dataset\n",
    "        return len(self.data)"
   ]
  },
  {
   "cell_type": "markdown",
   "metadata": {
    "id": "AlhTlkE7MDo3"
   },
   "source": [
    "## **DataLoader**\n",
    "\n",
    "A `DataLoader` loads data from a given `Dataset` into batches.\n"
   ]
  },
  {
   "cell_type": "code",
   "execution_count": 7,
   "metadata": {
    "ExecuteTime": {
     "end_time": "2021-05-28T03:16:31.592951Z",
     "start_time": "2021-05-28T03:16:31.573950Z"
    },
    "collapsed": true,
    "id": "hlhLk5t6MBX3"
   },
   "outputs": [],
   "source": [
    "def prep_dataloader(path, mode, batch_size, n_jobs=0, target_only=False,mu=None,std=None):\n",
    "    ''' Generates a dataset, then is put into a dataloader. '''\n",
    "    dataset = COVID19Dataset(path, mu,std,mode=mode, target_only=target_only)  # Construct dataset\n",
    "    if mode=='train':\n",
    "        mu=dataset.mu\n",
    "        std=dataset.std\n",
    "    dataloader = DataLoader(\n",
    "        dataset, batch_size,\n",
    "        shuffle=(mode == 'train'), drop_last=False,\n",
    "        num_workers=n_jobs, pin_memory=True)                            # Construct dataloader\n",
    "    return dataloader,mu,std"
   ]
  },
  {
   "cell_type": "markdown",
   "metadata": {
    "id": "SGuycwR0MeQB"
   },
   "source": [
    "# **Deep Neural Network**\n",
    "\n",
    "`NeuralNet` is an `nn.Module` designed for regression.\n",
    "The DNN consists of 2 fully-connected layers with ReLU activation.\n",
    "This module also included a function `cal_loss` for calculating loss.\n"
   ]
  },
  {
   "cell_type": "code",
   "execution_count": 8,
   "metadata": {
    "ExecuteTime": {
     "end_time": "2021-05-28T03:16:42.186557Z",
     "start_time": "2021-05-28T03:16:42.170556Z"
    },
    "collapsed": true,
    "id": "49-uXYovOAI0"
   },
   "outputs": [],
   "source": [
    "class NeuralNet(nn.Module):\n",
    "    ''' A simple fully-connected deep neural network '''\n",
    "    def __init__(self, input_dim):\n",
    "        super(NeuralNet, self).__init__()\n",
    "\n",
    "        # Define your neural network here\n",
    "        # TODO: How to modify this model to achieve better performance?\n",
    "        self.net = nn.Sequential(\n",
    "            nn.Linear(input_dim, 64),\n",
    "            nn.ReLU(),\n",
    "            nn.Linear(64, 1)\n",
    "        )\n",
    "\n",
    "        # Mean squared error loss\n",
    "        self.criterion = nn.MSELoss(reduction='mean')\n",
    "\n",
    "    def forward(self, x):\n",
    "        ''' Given input of size (batch_size x input_dim), compute output of the network '''\n",
    "        return self.net(x).squeeze(1)\n",
    "\n",
    "    def cal_loss(self, pred, target):\n",
    "        ''' Calculate loss '''\n",
    "        # TODO: you may implement L2 regularization here\n",
    "        return self.criterion(pred, target)"
   ]
  },
  {
   "cell_type": "markdown",
   "metadata": {
    "id": "DvFWVjZ5Nvga"
   },
   "source": [
    "# **Train/Dev/Test**"
   ]
  },
  {
   "cell_type": "markdown",
   "metadata": {
    "id": "MAM8QecJOyqn"
   },
   "source": [
    "## **Training**"
   ]
  },
  {
   "cell_type": "code",
   "execution_count": 9,
   "metadata": {
    "ExecuteTime": {
     "end_time": "2021-05-28T03:16:52.857168Z",
     "start_time": "2021-05-28T03:16:52.780163Z"
    },
    "collapsed": true,
    "id": "lOqcmYzMO7jB"
   },
   "outputs": [],
   "source": [
    "def train(tr_set, dv_set, model, config, device):\n",
    "    ''' DNN training '''\n",
    "\n",
    "    n_epochs = config['n_epochs']  # Maximum number of epochs\n",
    "\n",
    "    # Setup optimizer\n",
    "    optimizer = getattr(torch.optim, config['optimizer'])(\n",
    "        model.parameters(), **config['optim_hparas'])\n",
    "\n",
    "    min_mse = 1000.\n",
    "    loss_record = {'train': [], 'dev': []}      # for recording training loss\n",
    "    early_stop_cnt = 0\n",
    "    epoch = 0\n",
    "    while epoch < n_epochs:\n",
    "        model.train()                           # set model to training mode\n",
    "        for x, y in tr_set:                     # iterate through the dataloader\n",
    "            optimizer.zero_grad()               # set gradient to zero\n",
    "            x, y = x.to(device), y.to(device)   # move data to device (cpu/cuda)\n",
    "            pred = model(x)                     # forward pass (compute output)\n",
    "            mse_loss = model.cal_loss(pred, y)  # compute loss\n",
    "            mse_loss.backward()                 # compute gradient (backpropagation)\n",
    "            optimizer.step()                    # update model with optimizer\n",
    "            loss_record['train'].append(mse_loss.detach().cpu().item())\n",
    "\n",
    "        # After each epoch, test your model on the validation (development) set.\n",
    "        dev_mse = dev(dv_set, model, device)\n",
    "        if dev_mse < min_mse:\n",
    "            # Save model if your model improved\n",
    "            min_mse = dev_mse\n",
    "            print('Saving model (epoch = {:4d}, loss = {:.4f})'\n",
    "                .format(epoch + 1, min_mse))\n",
    "            torch.save(model.state_dict(), config['save_path'])  # Save model to specified path\n",
    "            early_stop_cnt = 0\n",
    "        else:\n",
    "            early_stop_cnt += 1\n",
    "\n",
    "        epoch += 1\n",
    "        loss_record['dev'].append(dev_mse)\n",
    "        if early_stop_cnt > config['early_stop']:\n",
    "            # Stop training if your model stops improving for \"config['early_stop']\" epochs.\n",
    "            break\n",
    "\n",
    "    print('Finished training after {} epochs'.format(epoch))\n",
    "    return min_mse, loss_record"
   ]
  },
  {
   "cell_type": "markdown",
   "metadata": {
    "id": "0hSd4Bn3O2PL"
   },
   "source": [
    "## **Validation**"
   ]
  },
  {
   "cell_type": "code",
   "execution_count": 10,
   "metadata": {
    "ExecuteTime": {
     "end_time": "2021-05-28T03:16:54.352253Z",
     "start_time": "2021-05-28T03:16:54.315251Z"
    },
    "collapsed": true,
    "id": "yrxrD3YsN3U2"
   },
   "outputs": [],
   "source": [
    "def dev(dv_set, model, device):\n",
    "    model.eval()                                # set model to evalutation mode\n",
    "    total_loss = 0\n",
    "    for x, y in dv_set:                         # iterate through the dataloader\n",
    "        x, y = x.to(device), y.to(device)       # move data to device (cpu/cuda)\n",
    "        with torch.no_grad():                   # disable gradient calculation\n",
    "            pred = model(x)                     # forward pass (compute output)\n",
    "            mse_loss = model.cal_loss(pred, y)  # compute loss\n",
    "        total_loss += mse_loss.detach().cpu().item() * len(x)  # accumulate loss\n",
    "    total_loss = total_loss / len(dv_set.dataset)              # compute averaged loss\n",
    "\n",
    "    return total_loss"
   ]
  },
  {
   "cell_type": "markdown",
   "metadata": {
    "id": "g0pdrhQAO41L"
   },
   "source": [
    "## **Testing**"
   ]
  },
  {
   "cell_type": "code",
   "execution_count": 11,
   "metadata": {
    "ExecuteTime": {
     "end_time": "2021-05-28T03:16:56.534378Z",
     "start_time": "2021-05-28T03:16:56.506376Z"
    },
    "collapsed": true,
    "id": "aSBMRFlYN5tB"
   },
   "outputs": [],
   "source": [
    "def test(tt_set, model, device):\n",
    "    model.eval()                                # set model to evalutation mode\n",
    "    preds = []\n",
    "    for x in tt_set:                            # iterate through the dataloader\n",
    "        x = x.to(device)                        # move data to device (cpu/cuda)\n",
    "        with torch.no_grad():                   # disable gradient calculation\n",
    "            pred = model(x)                     # forward pass (compute output)\n",
    "            preds.append(pred.detach().cpu())   # collect prediction\n",
    "    preds = torch.cat(preds, dim=0).numpy()     # concatenate all predictions and convert to a numpy array\n",
    "    return preds"
   ]
  },
  {
   "cell_type": "markdown",
   "metadata": {
    "id": "SvckkF5dvf0j"
   },
   "source": [
    "# **Setup Hyper-parameters**\n",
    "\n",
    "`config` contains hyper-parameters for training and the path to save your model."
   ]
  },
  {
   "cell_type": "code",
   "execution_count": 17,
   "metadata": {
    "ExecuteTime": {
     "end_time": "2021-05-28T03:17:29.000235Z",
     "start_time": "2021-05-28T03:17:28.979234Z"
    },
    "collapsed": true,
    "id": "NPXpdumwPjE7"
   },
   "outputs": [],
   "source": [
    "device = get_device()                 # get the current available device ('cpu' or 'cuda')\n",
    "os.makedirs('models', exist_ok=True)  # The trained model will be saved to ./models/\n",
    "target_only = False                   # TODO: Using 40 states & 2 tested_positive features\n",
    "\n",
    "# TODO: How to tune these hyper-parameters to improve your model's performance?\n",
    "config = {\n",
    "    'n_epochs': 3000,                # maximum number of epochs\n",
    "    'batch_size': 270,               # mini-batch size for dataloader\n",
    "    'optimizer': 'SGD',              # optimization algorithm (optimizer in torch.optim)\n",
    "    'optim_hparas': {                # hyper-parameters for the optimizer (depends on which optimizer you are using)\n",
    "        'lr': 0.001,                 # learning rate of SGD\n",
    "        'momentum': 0.9              # momentum for SGD\n",
    "    },\n",
    "    'early_stop': 200,               # early stopping epochs (the number epochs since your model's last improvement)\n",
    "    'save_path': 'models/model.pth'  # your model will be saved here\n",
    "}"
   ]
  },
  {
   "cell_type": "markdown",
   "metadata": {
    "id": "6j1eOV3TOH-j"
   },
   "source": [
    "# **Load data and model**"
   ]
  },
  {
   "cell_type": "code",
   "execution_count": 18,
   "metadata": {
    "ExecuteTime": {
     "end_time": "2021-05-28T03:17:30.869342Z",
     "start_time": "2021-05-28T03:17:30.371313Z"
    },
    "colab": {
     "base_uri": "https://localhost:8080/"
    },
    "id": "eNrYBMmePLKm",
    "outputId": "fcd4f175-4f7e-4306-f33c-5f8285f11dce"
   },
   "outputs": [
    {
     "name": "stdout",
     "output_type": "stream",
     "text": [
      "Finished reading the train set of COVID19 Dataset (1890 samples found, each dim = 48)\n",
      "Finished reading the dev set of COVID19 Dataset (810 samples found, each dim = 48)\n",
      "Finished reading the test set of COVID19 Dataset (893 samples found, each dim = 48)\n"
     ]
    }
   ],
   "source": [
    "tr_set,tr_mu,tr_std = prep_dataloader(tr_path, 'train', config['batch_size'], target_only=target_only)\n",
    "dv_set,mu_none,std_none= prep_dataloader(tr_path, 'dev', config['batch_size'], target_only=target_only,mu=tr_mu,std=tr_std)\n",
    "tt_set,mu_none,std_none = prep_dataloader(tt_path, 'test', config['batch_size'], target_only=target_only,mu=tr_mu,std=tr_std)"
   ]
  },
  {
   "cell_type": "code",
   "execution_count": 19,
   "metadata": {
    "ExecuteTime": {
     "end_time": "2021-05-28T03:17:32.101412Z",
     "start_time": "2021-05-28T03:17:32.093412Z"
    },
    "collapsed": true,
    "id": "FHylSirLP9oh"
   },
   "outputs": [],
   "source": [
    "model = NeuralNet(tr_set.dataset.dim).to(device)  # Construct model and move to device"
   ]
  },
  {
   "cell_type": "markdown",
   "metadata": {
    "id": "sX2B_zgSOPTJ"
   },
   "source": [
    "# **Start Training!**"
   ]
  },
  {
   "cell_type": "code",
   "execution_count": 20,
   "metadata": {
    "ExecuteTime": {
     "end_time": "2021-05-28T03:17:44.948147Z",
     "start_time": "2021-05-28T03:17:34.027523Z"
    },
    "colab": {
     "base_uri": "https://localhost:8080/"
    },
    "id": "GrEbUxazQAAZ",
    "outputId": "f4f3bd74-2d97-4275-b69f-6609976b91f9"
   },
   "outputs": [
    {
     "name": "stdout",
     "output_type": "stream",
     "text": [
      "Saving model (epoch =    1, loss = 248.0420)\n",
      "Saving model (epoch =    2, loss = 76.4873)\n",
      "Saving model (epoch =    3, loss = 33.7178)\n",
      "Saving model (epoch =    5, loss = 19.3917)\n",
      "Saving model (epoch =    6, loss = 6.3221)\n",
      "Saving model (epoch =    7, loss = 3.0162)\n",
      "Saving model (epoch =    8, loss = 1.5524)\n",
      "Saving model (epoch =    9, loss = 1.4485)\n",
      "Saving model (epoch =   11, loss = 1.4050)\n",
      "Saving model (epoch =   13, loss = 1.3138)\n",
      "Saving model (epoch =   15, loss = 1.3070)\n",
      "Saving model (epoch =   16, loss = 1.2705)\n",
      "Saving model (epoch =   18, loss = 1.2657)\n",
      "Saving model (epoch =   19, loss = 1.2597)\n",
      "Saving model (epoch =   20, loss = 1.2572)\n",
      "Saving model (epoch =   21, loss = 1.2288)\n",
      "Saving model (epoch =   24, loss = 1.2109)\n",
      "Saving model (epoch =   26, loss = 1.1944)\n",
      "Saving model (epoch =   28, loss = 1.1859)\n",
      "Saving model (epoch =   30, loss = 1.1822)\n",
      "Saving model (epoch =   31, loss = 1.1781)\n",
      "Saving model (epoch =   32, loss = 1.1770)\n",
      "Saving model (epoch =   33, loss = 1.1747)\n",
      "Saving model (epoch =   34, loss = 1.1632)\n",
      "Saving model (epoch =   36, loss = 1.1557)\n",
      "Saving model (epoch =   38, loss = 1.1548)\n",
      "Saving model (epoch =   39, loss = 1.1385)\n",
      "Saving model (epoch =   41, loss = 1.1353)\n",
      "Saving model (epoch =   43, loss = 1.1302)\n",
      "Saving model (epoch =   45, loss = 1.1251)\n",
      "Saving model (epoch =   47, loss = 1.1162)\n",
      "Saving model (epoch =   49, loss = 1.1099)\n",
      "Saving model (epoch =   52, loss = 1.0975)\n",
      "Saving model (epoch =   57, loss = 1.0961)\n",
      "Saving model (epoch =   59, loss = 1.0934)\n",
      "Saving model (epoch =   60, loss = 1.0929)\n",
      "Saving model (epoch =   62, loss = 1.0861)\n",
      "Saving model (epoch =   64, loss = 1.0836)\n",
      "Saving model (epoch =   67, loss = 1.0813)\n",
      "Saving model (epoch =   68, loss = 1.0734)\n",
      "Saving model (epoch =   71, loss = 1.0665)\n",
      "Saving model (epoch =   78, loss = 1.0632)\n",
      "Saving model (epoch =   80, loss = 1.0618)\n",
      "Saving model (epoch =   81, loss = 1.0589)\n",
      "Saving model (epoch =   83, loss = 1.0537)\n",
      "Saving model (epoch =   90, loss = 1.0523)\n",
      "Saving model (epoch =   92, loss = 1.0467)\n",
      "Saving model (epoch =   94, loss = 1.0433)\n",
      "Saving model (epoch =   97, loss = 1.0429)\n",
      "Saving model (epoch =   99, loss = 1.0392)\n",
      "Saving model (epoch =  101, loss = 1.0372)\n",
      "Saving model (epoch =  106, loss = 1.0365)\n",
      "Saving model (epoch =  113, loss = 1.0352)\n",
      "Saving model (epoch =  117, loss = 1.0297)\n",
      "Saving model (epoch =  125, loss = 1.0278)\n",
      "Saving model (epoch =  127, loss = 1.0243)\n",
      "Saving model (epoch =  136, loss = 1.0234)\n",
      "Saving model (epoch =  139, loss = 1.0214)\n",
      "Saving model (epoch =  147, loss = 1.0179)\n",
      "Saving model (epoch =  158, loss = 1.0159)\n",
      "Saving model (epoch =  160, loss = 1.0149)\n",
      "Saving model (epoch =  196, loss = 1.0144)\n",
      "Saving model (epoch =  198, loss = 1.0109)\n",
      "Saving model (epoch =  200, loss = 1.0099)\n",
      "Finished training after 401 epochs\n"
     ]
    }
   ],
   "source": [
    "model_loss, model_loss_record = train(tr_set, dv_set, model, config, device)"
   ]
  },
  {
   "cell_type": "markdown",
   "metadata": {},
   "source": [
    "- 93dim: 0.7537\n",
    "- 45dim: 0.8749"
   ]
  },
  {
   "cell_type": "code",
   "execution_count": 194,
   "metadata": {
    "ExecuteTime": {
     "end_time": "2021-05-24T06:53:01.828520Z",
     "start_time": "2021-05-24T06:53:01.674511Z"
    },
    "colab": {
     "base_uri": "https://localhost:8080/",
     "height": 295
    },
    "id": "hsNO9nnXQBvP",
    "outputId": "1626def6-94c7-4a87-9447-d939f827c8eb"
   },
   "outputs": [
    {
     "data": {
      "image/png": "[encoded data removed]",
      "text/plain": [
       "<matplotlib.figure.Figure at 0x173ee710>"
      ]
     },
     "metadata": {},
     "output_type": "display_data"
    }
   ],
   "source": [
    "plot_learning_curve(model_loss_record, title='deep model')"
   ]
  },
  {
   "cell_type": "code",
   "execution_count": 195,
   "metadata": {
    "ExecuteTime": {
     "end_time": "2021-05-24T06:53:02.503559Z",
     "start_time": "2021-05-24T06:53:02.369551Z"
    },
    "colab": {
     "base_uri": "https://localhost:8080/",
     "height": 350
    },
    "id": "3iZTVn5WQFpX",
    "outputId": "a2d5e118-559d-45c6-b644-6792af54663d"
   },
   "outputs": [
    {
     "data": {
      "image/png": "[encoded data removed]",
      "text/plain": [
       "<matplotlib.figure.Figure at 0x107a45f8>"
      ]
     },
     "metadata": {},
     "output_type": "display_data"
    }
   ],
   "source": [
    "del model\n",
    "model = NeuralNet(tr_set.dataset.dim).to(device)\n",
    "ckpt = torch.load(config['save_path'], map_location='cpu')  # Load your best model\n",
    "model.load_state_dict(ckpt)\n",
    "plot_pred(dv_set, model, device)  # Show prediction on the validation set"
   ]
  },
  {
   "cell_type": "markdown",
   "metadata": {},
   "source": [
    "# **Test**"
   ]
  },
  {
   "cell_type": "code",
   "execution_count": 21,
   "metadata": {
    "ExecuteTime": {
     "end_time": "2021-05-28T05:34:40.544052Z",
     "start_time": "2021-05-28T05:34:40.521051Z"
    },
    "collapsed": true
   },
   "outputs": [],
   "source": [
    "def dev(dv_set, model, device):\n",
    "    model.eval()                                # set model to evalutation mode\n",
    "    with torch.no_grad():                   # disable gradient calculation\n",
    "        total_loss = 0\n",
    "        for x, y in dv_set:                         # iterate through the dataloader\n",
    "            x, y = x.to(device), y.to(device)       # move data to device (cpu/cuda)\n",
    "            pred = model(x)                     # forward pass (compute output)\n",
    "            mse_loss = model.cal_loss(pred, y)  # compute loss\n",
    "            total_loss += mse_loss.detach().cpu().item() * len(x)  # accumulate loss\n",
    "        total_loss = total_loss / len(dv_set.dataset)              # compute averaged loss\n",
    "\n",
    "    return total_loss"
   ]
  },
  {
   "cell_type": "code",
   "execution_count": 24,
   "metadata": {
    "ExecuteTime": {
     "end_time": "2021-05-28T05:35:04.839442Z",
     "start_time": "2021-05-28T05:35:04.818441Z"
    }
   },
   "outputs": [],
   "source": [
    "def test(tt_set, model, device):\n",
    "    model.eval()                                # set model to evalutation mode\n",
    "    with torch.no_grad():                   # disable gradient calculation\n",
    "        preds = []\n",
    "        for x in tt_set:                            # iterate through the dataloader\n",
    "            x = x.to(device)                        # move data to device (cpu/cuda)\n",
    "\n",
    "            pred = model(x)                     # forward pass (compute output)\n",
    "            preds.append(pred.detach().cpu())   # collect prediction\n",
    "    preds = torch.cat(preds, dim=0).numpy()     # concatenate all predictions and convert to a numpy array\n",
    "    return preds"
   ]
  },
  {
   "cell_type": "code",
   "execution_count": 216,
   "metadata": {
    "ExecuteTime": {
     "end_time": "2021-05-24T06:57:27.123694Z",
     "start_time": "2021-05-24T06:57:27.082692Z"
    },
    "collapsed": true
   },
   "outputs": [],
   "source": [
    "class NeuralNet(nn.Module):\n",
    "    ''' A simple fully-connected deep neural network '''\n",
    "    def __init__(self, input_dim):\n",
    "        super(NeuralNet, self).__init__()\n",
    "\n",
    "        # Define your neural network here\n",
    "        # TODO: How to modify this model to achieve better performance?\n",
    "        self.net = nn.Sequential(\n",
    "            nn.Linear(input_dim, 80),\n",
    "            nn.ReLU(),\n",
    "            nn.Linear(80, 1)\n",
    "        )\n",
    "\n",
    "        # Mean squared error loss\n",
    "        self.criterion = nn.MSELoss(reduction='mean')\n",
    "\n",
    "    def forward(self, x):\n",
    "        ''' Given input of size (batch_size x input_dim), compute output of the network '''\n",
    "        return self.net(x).squeeze(1)\n",
    "\n",
    "    def cal_loss(self, pred, target):\n",
    "        ''' Calculate loss '''\n",
    "        # TODO: you may implement L2 regularization here\n",
    "        return torch.sqrt(self.criterion(pred, target))"
   ]
  },
  {
   "cell_type": "code",
   "execution_count": 242,
   "metadata": {
    "ExecuteTime": {
     "end_time": "2021-05-24T07:03:45.320326Z",
     "start_time": "2021-05-24T07:03:45.314325Z"
    },
    "collapsed": true
   },
   "outputs": [],
   "source": [
    "device = get_device()                 # get the current available device ('cpu' or 'cuda')\n",
    "os.makedirs('models', exist_ok=True)  # The trained model will be saved to ./models/\n",
    "target_only = False                   # TODO: Using 40 states & 2 tested_positive features\n",
    "\n",
    "# TODO: How to tune these hyper-parameters to improve your model's performance?\n",
    "# torch.nn.BatchNorm1d()\n",
    "# torch.optim.ASGD()\n",
    "# torch.optim.Adamax()\n",
    "config = {\n",
    "    'n_epochs': 3000,                # maximum number of epochs\n",
    "    'batch_size': 64,               # mini-batch size for dataloader\n",
    "    'optimizer': 'SGD',              # optimization algorithm (optimizer in torch.optim)\n",
    "    'optim_hparas': {                # hyper-parameters for the optimizer (depends on which optimizer you are using)\n",
    "        'lr': 0.002,                 # learning rate of SGD\n",
    "        'momentum': 0.5,            # momentum for SGD\n",
    "#         'weight_decay':0.05\n",
    "    },\n",
    "    'early_stop': 200,               # early stopping epochs (the number epochs since your model's last improvement)\n",
    "    'save_path': 'models/model.pth'  # your model will be saved here\n",
    "}"
   ]
  },
  {
   "cell_type": "code",
   "execution_count": 243,
   "metadata": {
    "ExecuteTime": {
     "end_time": "2021-05-24T07:03:45.853356Z",
     "start_time": "2021-05-24T07:03:45.850356Z"
    },
    "collapsed": true
   },
   "outputs": [],
   "source": [
    "model = NeuralNet(tr_set.dataset.dim).to(device)  # Construct model and move to device"
   ]
  },
  {
   "cell_type": "code",
   "execution_count": 244,
   "metadata": {
    "ExecuteTime": {
     "end_time": "2021-05-24T07:04:49.857017Z",
     "start_time": "2021-05-24T07:03:46.394387Z"
    }
   },
   "outputs": [
    {
     "name": "stdout",
     "output_type": "stream",
     "text": [
      "Saving model (epoch =    1, loss = 17.6975)\n",
      "Saving model (epoch =    2, loss = 17.6209)\n",
      "Saving model (epoch =    3, loss = 17.5437)\n",
      "Saving model (epoch =    4, loss = 17.4652)\n",
      "Saving model (epoch =    5, loss = 17.3848)\n",
      "Saving model (epoch =    6, loss = 17.3015)\n",
      "Saving model (epoch =    7, loss = 17.2157)\n",
      "Saving model (epoch =    8, loss = 17.1252)\n",
      "Saving model (epoch =    9, loss = 17.0302)\n",
      "Saving model (epoch =   10, loss = 16.9295)\n",
      "Saving model (epoch =   11, loss = 16.8223)\n",
      "Saving model (epoch =   12, loss = 16.7084)\n",
      "Saving model (epoch =   13, loss = 16.5848)\n",
      "Saving model (epoch =   14, loss = 16.4517)\n",
      "Saving model (epoch =   15, loss = 16.3083)\n",
      "Saving model (epoch =   16, loss = 16.1522)\n",
      "Saving model (epoch =   17, loss = 15.9835)\n",
      "Saving model (epoch =   18, loss = 15.7976)\n",
      "Saving model (epoch =   19, loss = 15.5973)\n",
      "Saving model (epoch =   20, loss = 15.3772)\n",
      "Saving model (epoch =   21, loss = 15.1366)\n",
      "Saving model (epoch =   22, loss = 14.8770)\n",
      "Saving model (epoch =   23, loss = 14.5946)\n",
      "Saving model (epoch =   24, loss = 14.2854)\n",
      "Saving model (epoch =   25, loss = 13.9547)\n",
      "Saving model (epoch =   26, loss = 13.5991)\n",
      "Saving model (epoch =   27, loss = 13.2185)\n",
      "Saving model (epoch =   28, loss = 12.8154)\n",
      "Saving model (epoch =   29, loss = 12.3936)\n",
      "Saving model (epoch =   30, loss = 11.9610)\n",
      "Saving model (epoch =   31, loss = 11.5228)\n",
      "Saving model (epoch =   32, loss = 11.0891)\n",
      "Saving model (epoch =   33, loss = 10.6698)\n",
      "Saving model (epoch =   34, loss = 10.2733)\n",
      "Saving model (epoch =   35, loss = 9.9144)\n",
      "Saving model (epoch =   36, loss = 9.5959)\n",
      "Saving model (epoch =   37, loss = 9.3199)\n",
      "Saving model (epoch =   38, loss = 9.0825)\n",
      "Saving model (epoch =   39, loss = 8.8824)\n",
      "Saving model (epoch =   40, loss = 8.7109)\n",
      "Saving model (epoch =   41, loss = 8.5596)\n",
      "Saving model (epoch =   42, loss = 8.4263)\n",
      "Saving model (epoch =   43, loss = 8.3016)\n",
      "Saving model (epoch =   44, loss = 8.1849)\n",
      "Saving model (epoch =   45, loss = 8.0737)\n",
      "Saving model (epoch =   46, loss = 7.9628)\n",
      "Saving model (epoch =   47, loss = 7.8544)\n",
      "Saving model (epoch =   48, loss = 7.7466)\n",
      "Saving model (epoch =   49, loss = 7.6387)\n",
      "Saving model (epoch =   50, loss = 7.5288)\n",
      "Saving model (epoch =   51, loss = 7.4196)\n",
      "Saving model (epoch =   52, loss = 7.3095)\n",
      "Saving model (epoch =   53, loss = 7.1982)\n",
      "Saving model (epoch =   54, loss = 7.0866)\n",
      "Saving model (epoch =   55, loss = 6.9725)\n",
      "Saving model (epoch =   56, loss = 6.8580)\n",
      "Saving model (epoch =   57, loss = 6.7417)\n",
      "Saving model (epoch =   58, loss = 6.6235)\n",
      "Saving model (epoch =   59, loss = 6.5039)\n",
      "Saving model (epoch =   60, loss = 6.3820)\n",
      "Saving model (epoch =   61, loss = 6.2586)\n",
      "Saving model (epoch =   62, loss = 6.1340)\n",
      "Saving model (epoch =   63, loss = 6.0056)\n",
      "Saving model (epoch =   64, loss = 5.8761)\n",
      "Saving model (epoch =   65, loss = 5.7436)\n",
      "Saving model (epoch =   66, loss = 5.6094)\n",
      "Saving model (epoch =   67, loss = 5.4738)\n",
      "Saving model (epoch =   68, loss = 5.3355)\n",
      "Saving model (epoch =   69, loss = 5.1927)\n",
      "Saving model (epoch =   70, loss = 5.0454)\n",
      "Saving model (epoch =   71, loss = 4.8930)\n",
      "Saving model (epoch =   72, loss = 4.7365)\n",
      "Saving model (epoch =   73, loss = 4.5768)\n",
      "Saving model (epoch =   74, loss = 4.4142)\n",
      "Saving model (epoch =   75, loss = 4.2471)\n",
      "Saving model (epoch =   76, loss = 4.0812)\n",
      "Saving model (epoch =   77, loss = 3.9178)\n",
      "Saving model (epoch =   78, loss = 3.7560)\n",
      "Saving model (epoch =   79, loss = 3.5970)\n",
      "Saving model (epoch =   80, loss = 3.4383)\n",
      "Saving model (epoch =   81, loss = 3.2813)\n",
      "Saving model (epoch =   82, loss = 3.1279)\n",
      "Saving model (epoch =   83, loss = 2.9764)\n",
      "Saving model (epoch =   84, loss = 2.8293)\n",
      "Saving model (epoch =   85, loss = 2.6869)\n",
      "Saving model (epoch =   86, loss = 2.5478)\n",
      "Saving model (epoch =   87, loss = 2.4140)\n",
      "Saving model (epoch =   88, loss = 2.2848)\n",
      "Saving model (epoch =   89, loss = 2.1620)\n",
      "Saving model (epoch =   90, loss = 2.0462)\n",
      "Saving model (epoch =   91, loss = 1.9379)\n",
      "Saving model (epoch =   92, loss = 1.8382)\n",
      "Saving model (epoch =   93, loss = 1.7470)\n",
      "Saving model (epoch =   94, loss = 1.6672)\n",
      "Saving model (epoch =   95, loss = 1.5995)\n",
      "Saving model (epoch =   96, loss = 1.5388)\n",
      "Saving model (epoch =   97, loss = 1.4891)\n",
      "Saving model (epoch =   98, loss = 1.4455)\n",
      "Saving model (epoch =   99, loss = 1.4084)\n",
      "Saving model (epoch =  100, loss = 1.3766)\n",
      "Saving model (epoch =  101, loss = 1.3459)\n",
      "Saving model (epoch =  102, loss = 1.3214)\n",
      "Saving model (epoch =  103, loss = 1.2994)\n",
      "Saving model (epoch =  104, loss = 1.2824)\n",
      "Saving model (epoch =  105, loss = 1.2674)\n",
      "Saving model (epoch =  106, loss = 1.2520)\n",
      "Saving model (epoch =  107, loss = 1.2387)\n",
      "Saving model (epoch =  108, loss = 1.2289)\n",
      "Saving model (epoch =  109, loss = 1.2165)\n",
      "Saving model (epoch =  110, loss = 1.2114)\n",
      "Saving model (epoch =  111, loss = 1.2002)\n",
      "Saving model (epoch =  112, loss = 1.1907)\n",
      "Saving model (epoch =  113, loss = 1.1856)\n",
      "Saving model (epoch =  114, loss = 1.1782)\n",
      "Saving model (epoch =  115, loss = 1.1771)\n",
      "Saving model (epoch =  116, loss = 1.1738)\n",
      "Saving model (epoch =  117, loss = 1.1640)\n",
      "Saving model (epoch =  118, loss = 1.1585)\n",
      "Saving model (epoch =  119, loss = 1.1516)\n",
      "Saving model (epoch =  120, loss = 1.1506)\n",
      "Saving model (epoch =  121, loss = 1.1461)\n",
      "Saving model (epoch =  122, loss = 1.1435)\n",
      "Saving model (epoch =  123, loss = 1.1387)\n",
      "Saving model (epoch =  124, loss = 1.1347)\n",
      "Saving model (epoch =  125, loss = 1.1332)\n",
      "Saving model (epoch =  126, loss = 1.1278)\n",
      "Saving model (epoch =  128, loss = 1.1271)\n",
      "Saving model (epoch =  129, loss = 1.1219)\n",
      "Saving model (epoch =  130, loss = 1.1211)\n",
      "Saving model (epoch =  131, loss = 1.1179)\n",
      "Saving model (epoch =  132, loss = 1.1178)\n",
      "Saving model (epoch =  133, loss = 1.1119)\n",
      "Saving model (epoch =  134, loss = 1.1113)\n",
      "Saving model (epoch =  136, loss = 1.1070)\n",
      "Saving model (epoch =  138, loss = 1.1019)\n",
      "Saving model (epoch =  140, loss = 1.1000)\n",
      "Saving model (epoch =  141, loss = 1.0991)\n",
      "Saving model (epoch =  142, loss = 1.0984)\n",
      "Saving model (epoch =  144, loss = 1.0942)\n",
      "Saving model (epoch =  145, loss = 1.0903)\n",
      "Saving model (epoch =  148, loss = 1.0883)\n",
      "Saving model (epoch =  150, loss = 1.0874)\n",
      "Saving model (epoch =  151, loss = 1.0823)\n",
      "Saving model (epoch =  155, loss = 1.0793)\n",
      "Saving model (epoch =  157, loss = 1.0786)\n",
      "Saving model (epoch =  159, loss = 1.0747)\n",
      "Saving model (epoch =  160, loss = 1.0713)\n",
      "Saving model (epoch =  163, loss = 1.0711)\n",
      "Saving model (epoch =  166, loss = 1.0668)\n",
      "Saving model (epoch =  167, loss = 1.0663)\n",
      "Saving model (epoch =  170, loss = 1.0648)\n",
      "Saving model (epoch =  171, loss = 1.0595)\n",
      "Saving model (epoch =  175, loss = 1.0573)\n",
      "Saving model (epoch =  179, loss = 1.0559)\n",
      "Saving model (epoch =  180, loss = 1.0537)\n",
      "Saving model (epoch =  182, loss = 1.0531)\n",
      "Saving model (epoch =  183, loss = 1.0517)\n",
      "Saving model (epoch =  186, loss = 1.0461)\n",
      "Saving model (epoch =  190, loss = 1.0453)\n",
      "Saving model (epoch =  191, loss = 1.0452)\n",
      "Saving model (epoch =  192, loss = 1.0440)\n",
      "Saving model (epoch =  194, loss = 1.0416)\n",
      "Saving model (epoch =  197, loss = 1.0411)\n",
      "Saving model (epoch =  200, loss = 1.0391)\n",
      "Saving model (epoch =  201, loss = 1.0388)\n",
      "Saving model (epoch =  202, loss = 1.0382)\n",
      "Saving model (epoch =  203, loss = 1.0374)\n",
      "Saving model (epoch =  206, loss = 1.0351)\n",
      "Saving model (epoch =  207, loss = 1.0351)\n",
      "Saving model (epoch =  209, loss = 1.0328)\n",
      "Saving model (epoch =  212, loss = 1.0325)\n",
      "Saving model (epoch =  213, loss = 1.0323)\n",
      "Saving model (epoch =  214, loss = 1.0303)\n",
      "Saving model (epoch =  215, loss = 1.0289)\n",
      "Saving model (epoch =  219, loss = 1.0284)\n",
      "Saving model (epoch =  221, loss = 1.0272)\n",
      "Saving model (epoch =  225, loss = 1.0257)\n",
      "Saving model (epoch =  227, loss = 1.0252)\n",
      "Saving model (epoch =  228, loss = 1.0251)\n",
      "Saving model (epoch =  230, loss = 1.0246)\n",
      "Saving model (epoch =  231, loss = 1.0238)\n",
      "Saving model (epoch =  232, loss = 1.0227)\n",
      "Saving model (epoch =  233, loss = 1.0214)\n",
      "Saving model (epoch =  235, loss = 1.0212)\n",
      "Saving model (epoch =  238, loss = 1.0210)\n",
      "Saving model (epoch =  239, loss = 1.0176)\n",
      "Saving model (epoch =  241, loss = 1.0172)\n",
      "Saving model (epoch =  243, loss = 1.0157)\n",
      "Saving model (epoch =  246, loss = 1.0154)\n",
      "Saving model (epoch =  249, loss = 1.0154)\n",
      "Saving model (epoch =  250, loss = 1.0150)\n",
      "Saving model (epoch =  251, loss = 1.0136)\n",
      "Saving model (epoch =  253, loss = 1.0122)\n"
     ]
    },
    {
     "name": "stdout",
     "output_type": "stream",
     "text": [
      "Saving model (epoch =  257, loss = 1.0108)\n",
      "Saving model (epoch =  262, loss = 1.0103)\n",
      "Saving model (epoch =  264, loss = 1.0100)\n",
      "Saving model (epoch =  267, loss = 1.0077)\n",
      "Saving model (epoch =  269, loss = 1.0072)\n",
      "Saving model (epoch =  273, loss = 1.0053)\n",
      "Saving model (epoch =  274, loss = 1.0047)\n",
      "Saving model (epoch =  278, loss = 1.0022)\n",
      "Saving model (epoch =  285, loss = 1.0013)\n",
      "Saving model (epoch =  288, loss = 0.9992)\n",
      "Saving model (epoch =  298, loss = 0.9982)\n",
      "Saving model (epoch =  299, loss = 0.9975)\n",
      "Saving model (epoch =  308, loss = 0.9974)\n",
      "Saving model (epoch =  311, loss = 0.9949)\n",
      "Saving model (epoch =  314, loss = 0.9949)\n",
      "Saving model (epoch =  315, loss = 0.9935)\n",
      "Saving model (epoch =  322, loss = 0.9916)\n",
      "Saving model (epoch =  323, loss = 0.9916)\n",
      "Saving model (epoch =  327, loss = 0.9915)\n",
      "Saving model (epoch =  329, loss = 0.9910)\n",
      "Saving model (epoch =  334, loss = 0.9899)\n",
      "Saving model (epoch =  348, loss = 0.9879)\n",
      "Saving model (epoch =  349, loss = 0.9867)\n",
      "Saving model (epoch =  354, loss = 0.9866)\n",
      "Saving model (epoch =  357, loss = 0.9857)\n",
      "Saving model (epoch =  361, loss = 0.9852)\n",
      "Saving model (epoch =  367, loss = 0.9848)\n",
      "Saving model (epoch =  369, loss = 0.9846)\n",
      "Saving model (epoch =  370, loss = 0.9843)\n",
      "Saving model (epoch =  381, loss = 0.9833)\n",
      "Saving model (epoch =  389, loss = 0.9826)\n",
      "Saving model (epoch =  393, loss = 0.9823)\n",
      "Saving model (epoch =  395, loss = 0.9816)\n",
      "Saving model (epoch =  399, loss = 0.9807)\n",
      "Saving model (epoch =  401, loss = 0.9800)\n",
      "Saving model (epoch =  408, loss = 0.9790)\n",
      "Saving model (epoch =  434, loss = 0.9782)\n",
      "Saving model (epoch =  442, loss = 0.9776)\n",
      "Saving model (epoch =  444, loss = 0.9771)\n",
      "Saving model (epoch =  454, loss = 0.9770)\n",
      "Saving model (epoch =  457, loss = 0.9752)\n",
      "Saving model (epoch =  487, loss = 0.9740)\n",
      "Saving model (epoch =  501, loss = 0.9732)\n",
      "Saving model (epoch =  507, loss = 0.9716)\n",
      "Saving model (epoch =  564, loss = 0.9703)\n",
      "Saving model (epoch =  615, loss = 0.9694)\n",
      "Saving model (epoch =  631, loss = 0.9690)\n",
      "Saving model (epoch =  686, loss = 0.9682)\n",
      "Saving model (epoch =  708, loss = 0.9674)\n",
      "Saving model (epoch =  870, loss = 0.9673)\n",
      "Saving model (epoch =  899, loss = 0.9668)\n",
      "Saving model (epoch =  950, loss = 0.9668)\n",
      "Saving model (epoch =  964, loss = 0.9659)\n",
      "Saving model (epoch =  996, loss = 0.9659)\n",
      "Saving model (epoch = 1002, loss = 0.9657)\n",
      "Saving model (epoch = 1028, loss = 0.9653)\n",
      "Saving model (epoch = 1151, loss = 0.9649)\n",
      "Saving model (epoch = 1153, loss = 0.9649)\n",
      "Saving model (epoch = 1159, loss = 0.9648)\n",
      "Saving model (epoch = 1209, loss = 0.9646)\n",
      "Saving model (epoch = 1243, loss = 0.9639)\n",
      "Saving model (epoch = 1264, loss = 0.9637)\n",
      "Saving model (epoch = 1340, loss = 0.9635)\n",
      "Saving model (epoch = 1394, loss = 0.9634)\n",
      "Saving model (epoch = 1517, loss = 0.9628)\n",
      "Saving model (epoch = 1537, loss = 0.9626)\n",
      "Saving model (epoch = 1694, loss = 0.9623)\n",
      "Saving model (epoch = 1736, loss = 0.9622)\n",
      "Saving model (epoch = 1742, loss = 0.9621)\n",
      "Saving model (epoch = 1790, loss = 0.9613)\n",
      "Saving model (epoch = 1854, loss = 0.9608)\n",
      "Saving model (epoch = 1898, loss = 0.9606)\n",
      "Finished training after 2099 epochs\n"
     ]
    }
   ],
   "source": [
    "model_loss, model_loss_record = train(tr_set, dv_set, model, config, device)"
   ]
  },
  {
   "cell_type": "markdown",
   "metadata": {
    "collapsed": true
   },
   "source": [
    "- 93dim : 0.8559\n",
    "- 45dim : 0.9358 (lr :0.001,momentun:0.9)\n",
    "- 45dim : 0.9369 (lr :0.001,momentun:0.8)\n",
    "- 45dim : 0.9349 (lr :0.005,momentun:0.5)\n",
    "- 45dim : 0.9340 (lr :0.005,momentun:0.8)\n",
    "- 45dim : 0.9329 (lr :0.008,momentun:0.7)\n",
    "- 45dim : 0.9329 (lr :0.008,momentun:0.65)\n",
    "- 45dim : 0.9297 (lr :0.008,momentun:0.6)\n",
    "- 45dim : 0.9268 (lr :0.008,momentun:0.6)\n",
    "- 45dim : 0.9315 (lr :0.008,momentun:0.55)\n",
    "- 45dim : 0.9324 (lr :0.008,momentun:0.5)\n",
    "- 45dim : 0.9319 (lr :0.008,momentun:0.4)\n",
    "- 45dim : 0.9351 (lr :0.005,momentun:0.5) kg best\n",
    "- 48dim : 0.9274 (lr :0.005,momentun:0.5) linear(103)"
   ]
  },
  {
   "cell_type": "code",
   "execution_count": 245,
   "metadata": {
    "ExecuteTime": {
     "end_time": "2021-05-24T07:04:59.862589Z",
     "start_time": "2021-05-24T07:04:59.729582Z"
    },
    "scrolled": true
   },
   "outputs": [
    {
     "data": {
      "image/png": "[encoded data removed]",
      "text/plain": [
       "<matplotlib.figure.Figure at 0x173b79e8>"
      ]
     },
     "metadata": {},
     "output_type": "display_data"
    }
   ],
   "source": [
    "plot_learning_curve(model_loss_record, title='deep model')"
   ]
  },
  {
   "cell_type": "code",
   "execution_count": 236,
   "metadata": {
    "ExecuteTime": {
     "end_time": "2021-05-24T07:00:03.285626Z",
     "start_time": "2021-05-24T07:00:03.219622Z"
    }
   },
   "outputs": [
    {
     "data": {
      "text/plain": [
       "0.9811878800392151"
      ]
     },
     "execution_count": 236,
     "metadata": {},
     "output_type": "execute_result"
    }
   ],
   "source": [
    "dev(dv_set, model, device) "
   ]
  },
  {
   "cell_type": "code",
   "execution_count": 237,
   "metadata": {
    "ExecuteTime": {
     "end_time": "2021-05-24T07:00:04.397690Z",
     "start_time": "2021-05-24T07:00:04.242681Z"
    }
   },
   "outputs": [
    {
     "data": {
      "image/png": "[encoded data removed]",
      "text/plain": [
       "<matplotlib.figure.Figure at 0x47bc588>"
      ]
     },
     "metadata": {},
     "output_type": "display_data"
    }
   ],
   "source": [
    "del model\n",
    "model = NeuralNet(tr_set.dataset.dim).to(device)\n",
    "ckpt = torch.load(config['save_path'], map_location='cpu')  # Load your best model\n",
    "model.load_state_dict(ckpt)\n",
    "plot_pred(dv_set, model, device)  # Show prediction on the validation set"
   ]
  },
  {
   "cell_type": "code",
   "execution_count": 203,
   "metadata": {
    "ExecuteTime": {
     "end_time": "2021-05-24T06:53:32.301263Z",
     "start_time": "2021-05-24T06:53:32.292263Z"
    }
   },
   "outputs": [
    {
     "data": {
      "text/plain": [
       "1.85938"
      ]
     },
     "execution_count": 203,
     "metadata": {},
     "output_type": "execute_result"
    }
   ],
   "source": [
    "0.94482+0.91456"
   ]
  },
  {
   "cell_type": "code",
   "execution_count": 183,
   "metadata": {
    "ExecuteTime": {
     "end_time": "2021-05-24T06:51:06.572928Z",
     "start_time": "2021-05-24T06:51:06.561927Z"
    }
   },
   "outputs": [
    {
     "data": {
      "text/plain": [
       "1.85369"
      ]
     },
     "execution_count": 183,
     "metadata": {},
     "output_type": "execute_result"
    }
   ],
   "source": [
    "0.94291+0.91078"
   ]
  },
  {
   "cell_type": "code",
   "execution_count": null,
   "metadata": {
    "collapsed": true
   },
   "outputs": [],
   "source": []
  },
  {
   "cell_type": "code",
   "execution_count": null,
   "metadata": {
    "collapsed": true
   },
   "outputs": [],
   "source": []
  },
  {
   "cell_type": "code",
   "execution_count": null,
   "metadata": {
    "collapsed": true
   },
   "outputs": [],
   "source": []
  },
  {
   "cell_type": "markdown",
   "metadata": {
    "id": "aQikz3IPiyPf"
   },
   "source": [
    "# **Testing**\n",
    "The predictions of your model on testing set will be stored at `pred.csv`."
   ]
  },
  {
   "cell_type": "code",
   "execution_count": 238,
   "metadata": {
    "ExecuteTime": {
     "end_time": "2021-05-24T07:00:18.643505Z",
     "start_time": "2021-05-24T07:00:18.605502Z"
    },
    "colab": {
     "base_uri": "https://localhost:8080/"
    },
    "id": "O8cTuQjQQOon",
    "outputId": "6bc5de07-4c5a-4e87-9ae3-d09f539c5f2c"
   },
   "outputs": [
    {
     "name": "stdout",
     "output_type": "stream",
     "text": [
      "Saving results to F:\\study\\ml\\HonyiLee2021\\Lhy_Machine_Learning-main\\01 Introduction\\dataset\\pred_8feates_mu_std_adam.csv\n"
     ]
    }
   ],
   "source": [
    "def save_pred(preds, file):\n",
    "    ''' Save predictions to specified file '''\n",
    "    print('Saving results to {}'.format(file))\n",
    "    with open(file, 'w') as fp:\n",
    "        writer = csv.writer(fp)\n",
    "        writer.writerow(['id', 'tested_positive'])\n",
    "        for i, p in enumerate(preds):\n",
    "            writer.writerow([i, p])\n",
    "\n",
    "preds = test(tt_set, model, device)  # predict COVID-19 cases with your model\n",
    "save_pred(preds, r'F:\\study\\ml\\HonyiLee2021\\Lhy_Machine_Learning-main\\01 Introduction\\dataset\\pred_8feates_mu_std_adam.csv')         # save prediction file to pred.csv"
   ]
  },
  {
   "cell_type": "code",
   "execution_count": 205,
   "metadata": {
    "ExecuteTime": {
     "end_time": "2021-05-24T06:53:45.492018Z",
     "start_time": "2021-05-24T06:53:45.482017Z"
    }
   },
   "outputs": [
    {
     "data": {
      "text/plain": [
       "1.85369"
      ]
     },
     "execution_count": 205,
     "metadata": {},
     "output_type": "execute_result"
    }
   ],
   "source": [
    "0.94291+0.91078"
   ]
  },
  {
   "cell_type": "code",
   "execution_count": 24,
   "metadata": {
    "ExecuteTime": {
     "end_time": "2021-05-21T07:04:06.021328Z",
     "start_time": "2021-05-21T07:04:06.017328Z"
    }
   },
   "outputs": [
    {
     "data": {
      "text/plain": [
       "1.85222"
      ]
     },
     "execution_count": 24,
     "metadata": {},
     "output_type": "execute_result"
    }
   ],
   "source": [
    "0.94103+0.91119"
   ]
  },
  {
   "cell_type": "code",
   "execution_count": 41,
   "metadata": {
    "ExecuteTime": {
     "end_time": "2021-05-24T02:24:25.384712Z",
     "start_time": "2021-05-24T02:24:25.373712Z"
    }
   },
   "outputs": [
    {
     "data": {
      "text/plain": [
       "1.85243"
      ]
     },
     "execution_count": 41,
     "metadata": {},
     "output_type": "execute_result"
    }
   ],
   "source": [
    "0.93846+0.91397"
   ]
  },
  {
   "cell_type": "markdown",
   "metadata": {
    "id": "nfrVxqJanGpE"
   },
   "source": [
    "# **Hints**\n",
    "\n",
    "## **Simple Baseline**\n",
    "* Run sample code\n",
    "\n",
    "## **Medium Baseline**\n",
    "* Feature selection: 40 states + 2 `tested_positive` (`TODO` in dataset)\n",
    "\n",
    "## **Strong Baseline**\n",
    "* Feature selection (what other features are useful?)\n",
    "* DNN architecture (layers? dimension? activation function?)\n",
    "* Training (mini-batch? optimizer? learning rate?)\n",
    "* L2 regularization\n",
    "* There are some mistakes in the sample code, can you find them?"
   ]
  },
  {
   "cell_type": "markdown",
   "metadata": {
    "id": "9tmCwXgpot3t"
   },
   "source": [
    "# **Reference**\n",
    "This code is completely written by Heng-Jui Chang @ NTUEE.  \n",
    "Copying or reusing this code is required to specify the original author. \n",
    "\n",
    "E.g.  \n",
    "Source: Heng-Jui Chang @ NTUEE (https://github.com/ga642381/ML2021-Spring/blob/main/HW01/HW01.ipynb)\n"
   ]
  }
 ],
 "metadata": {
  "accelerator": "GPU",
  "colab": {
   "collapsed_sections": [],
   "name": "ML2021Spring - HW1.ipynb",
   "provenance": [],
   "toc_visible": true
  },
  "kernelspec": {
   "display_name": "Python 3",
   "language": "python",
   "name": "python3"
  },
  "language_info": {
   "codemirror_mode": {
    "name": "ipython",
    "version": 3
   },
   "file_extension": ".py",
   "mimetype": "text/x-python",
   "name": "python",
   "nbconvert_exporter": "python",
   "pygments_lexer": "ipython3",
   "version": "3.6.3"
  }
 },
 "nbformat": 4,
 "nbformat_minor": 1
}
