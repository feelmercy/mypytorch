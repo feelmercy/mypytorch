{
 "cells": [
  {
   "cell_type": "markdown",
   "metadata": {
    "id": "mz0_QVkxCrX3"
   },
   "source": [
    "# **Homework 1: COVID-19 Cases Prediction (Regression)**"
   ]
  },
  {
   "cell_type": "markdown",
   "metadata": {
    "id": "ZeZnPAiwDRWG"
   },
   "source": [
    "Author: Heng-Jui Chang\n",
    "\n",
    "Slides: https://github.com/ga642381/ML2021-Spring/blob/main/HW01/HW01.pdf  \n",
    "Video: TBA\n",
    "\n",
    "Objectives:\n",
    "* Solve a regression problem with deep neural networks (DNN).\n",
    "* Understand basic DNN training tips.\n",
    "* Get familiar with PyTorch.\n",
    "\n",
    "If any questions, please contact the TAs via TA hours, NTU COOL, or email.\n",
    "##\n",
    "# 一个发现\n",
    "- 通过增加Batch_Size ,kaggle 的 public 和 private \n",
    "    在0.94(train 95%),或0.95左右(train 90%),其余什么也不改\n",
    "- Batch norm 结果很差\n"
   ]
  },
  {
   "cell_type": "markdown",
   "metadata": {
    "id": "Jx3x1nDkG-Uy"
   },
   "source": [
    "# **Download Data**\n",
    "\n",
    "\n",
    "If the Google drive links are dead, you can download data from [kaggle](https://www.kaggle.com/c/ml2021spring-hw1/data), and upload data manually to the workspace."
   ]
  },
  {
   "cell_type": "code",
   "execution_count": 12,
   "metadata": {
    "ExecuteTime": {
     "end_time": "2021-09-01T03:09:05.813668Z",
     "start_time": "2021-09-01T03:09:05.718662Z"
    },
    "colab": {
     "base_uri": "https://localhost:8080/"
    },
    "id": "tMj55YDKG6ch",
    "outputId": "fc40ecc9-4756-48b1-d5c6-c169a8b453b2"
   },
   "outputs": [
    {
     "name": "stderr",
     "output_type": "stream",
     "text": [
      "'gdown' 不是内部或外部命令，也不是可运行的程序\n",
      "或批处理文件。\n",
      "'gdown' 不是内部或外部命令，也不是可运行的程序\n",
      "或批处理文件。\n"
     ]
    }
   ],
   "source": [
    "tr_path = r'F:\\study\\ml\\HonyiLee2021\\Lhy_Machine_Learning-main\\01 Introduction\\dataset\\covid.train.csv'  # path to training data\n",
    "tt_path = r'F:\\study\\ml\\HonyiLee2021\\Lhy_Machine_Learning-main\\01 Introduction\\dataset\\covid.test.csv'   # path to testing data\n",
    "\n",
    "!gdown --id '19CCyCgJrUxtvgZF53vnctJiOJ23T5mqF' --output covid.train.csv\n",
    "!gdown --id '1CE240jLm2npU-tdz81-oVKEF3T2yfT1O' --output covid.test.csv"
   ]
  },
  {
   "cell_type": "markdown",
   "metadata": {
    "id": "wS_4-77xHk44"
   },
   "source": [
    "# **Import Some Packages**"
   ]
  },
  {
   "cell_type": "code",
   "execution_count": 13,
   "metadata": {
    "ExecuteTime": {
     "end_time": "2021-09-01T03:09:07.034738Z",
     "start_time": "2021-09-01T03:09:07.004736Z"
    },
    "collapsed": true,
    "id": "k-onQd4JNA5H"
   },
   "outputs": [],
   "source": [
    "# PyTorch\n",
    "import torch\n",
    "import torch.nn as nn\n",
    "from torch.utils.data import Dataset, DataLoader\n",
    "\n",
    "# For data preprocess\n",
    "import numpy as np\n",
    "import csv\n",
    "import os\n",
    "\n",
    "# For plotting\n",
    "import matplotlib.pyplot as plt\n",
    "from matplotlib.pyplot import figure\n",
    "\n",
    "myseed = 42069  # set a random seed for reproducibility\n",
    "torch.backends.cudnn.deterministic = True\n",
    "torch.backends.cudnn.benchmark = False\n",
    "np.random.seed(myseed)\n",
    "torch.manual_seed(myseed)\n",
    "if torch.cuda.is_available():\n",
    "    torch.cuda.manual_seed_all(myseed)"
   ]
  },
  {
   "cell_type": "markdown",
   "metadata": {
    "id": "BtE3b6JEH7rw"
   },
   "source": [
    "# **Some Utilities**\n",
    "\n",
    "You do not need to modify this part."
   ]
  },
  {
   "cell_type": "code",
   "execution_count": 14,
   "metadata": {
    "ExecuteTime": {
     "end_time": "2021-09-01T03:09:07.992792Z",
     "start_time": "2021-09-01T03:09:07.913788Z"
    },
    "collapsed": true,
    "id": "FWMT3uf1NGQp"
   },
   "outputs": [],
   "source": [
    "def get_device():\n",
    "    ''' Get device (if GPU is available, use GPU) '''\n",
    "    return 'cuda' if torch.cuda.is_available() else 'cpu'\n",
    "\n",
    "def plot_learning_curve(loss_record, title=''):\n",
    "    ''' Plot learning curve of your DNN (train & dev loss) '''\n",
    "    total_steps = len(loss_record['train'])\n",
    "    x_1 = range(total_steps)\n",
    "    x_2 = x_1[::len(loss_record['train']) // len(loss_record['dev'])]\n",
    "    figure(figsize=(6, 4))\n",
    "    plt.plot(x_1, loss_record['train'], c='tab:red', label='train')\n",
    "    plt.plot(x_2, loss_record['dev'], c='tab:cyan', label='dev')\n",
    "    plt.ylim(0.0, 5.)\n",
    "    plt.xlabel('Training steps')\n",
    "    plt.ylabel('MSE loss')\n",
    "    plt.title('Learning curve of {}'.format(title))\n",
    "    plt.legend()\n",
    "    plt.show()\n",
    "\n",
    "\n",
    "def plot_pred(dv_set, model, device, lim=35., preds=None, targets=None):\n",
    "    ''' Plot prediction of your DNN '''\n",
    "    if preds is None or targets is None:\n",
    "        model.eval()\n",
    "        preds, targets = [], []\n",
    "        for x, y in dv_set:\n",
    "            x, y = x.to(device), y.to(device)\n",
    "            with torch.no_grad():\n",
    "                pred = model(x)\n",
    "                preds.append(pred.detach().cpu())\n",
    "                targets.append(y.detach().cpu())\n",
    "        preds = torch.cat(preds, dim=0).numpy()\n",
    "        targets = torch.cat(targets, dim=0).numpy()\n",
    "\n",
    "    figure(figsize=(5, 5))\n",
    "    plt.scatter(targets, preds, c='r', alpha=0.5)\n",
    "    plt.plot([-0.2, lim], [-0.2, lim], c='b')\n",
    "    plt.xlim(-0.2, lim)\n",
    "    plt.ylim(-0.2, lim)\n",
    "    plt.xlabel('ground truth value')\n",
    "    plt.ylabel('predicted value')\n",
    "    plt.title('Ground Truth v.s. Prediction')\n",
    "    plt.show()"
   ]
  },
  {
   "cell_type": "markdown",
   "metadata": {
    "id": "39U_XFX6KOoj"
   },
   "source": [
    "# **Preprocess**\n",
    "\n",
    "We have three kinds of datasets:\n",
    "* `train`: for training\n",
    "* `dev`: for validation\n",
    "* `test`: for testing (w/o target value)"
   ]
  },
  {
   "cell_type": "markdown",
   "metadata": {
    "id": "TQ-MdwpLL7Dt"
   },
   "source": [
    "## **Dataset**\n",
    "\n",
    "The `COVID19Dataset` below does:\n",
    "* read `.csv` files\n",
    "* extract features\n",
    "* split `covid.train.csv` into train/dev sets\n",
    "* normalize features\n",
    "\n",
    "Finishing `TODO` below might make you pass medium baseline."
   ]
  },
  {
   "cell_type": "code",
   "execution_count": 15,
   "metadata": {
    "ExecuteTime": {
     "end_time": "2021-09-01T03:09:09.065854Z",
     "start_time": "2021-09-01T03:09:09.059853Z"
    },
    "collapsed": true
   },
   "outputs": [],
   "source": [
    "from sklearn.model_selection import train_test_split"
   ]
  },
  {
   "cell_type": "code",
   "execution_count": 45,
   "metadata": {
    "ExecuteTime": {
     "end_time": "2021-09-01T07:18:50.918767Z",
     "start_time": "2021-09-01T07:18:50.754757Z"
    },
    "collapsed": true,
    "id": "0zlpIp9ANJRU"
   },
   "outputs": [],
   "source": [
    "class COVID19Dataset(Dataset):\n",
    "    ''' Dataset for loading and preprocessing the COVID19 dataset '''\n",
    "    def __init__(self,\n",
    "                 path,\n",
    "                 mu,\n",
    "                 std,\n",
    "                 mode='train',\n",
    "                 target_only=False):\n",
    "        self.mode = mode\n",
    "\n",
    "        # Read data into numpy arrays\n",
    "        with open(path, 'r') as fp:\n",
    "            data = list(csv.reader(fp))\n",
    "            data = np.array(data[1:])[:, 1:].astype(float)\n",
    "        \n",
    "        if not target_only:\n",
    "            feats = list(range(93))\n",
    "#             feats=list(range(40))+[42, 43, 57, 60, 61, 75, 78, 79]\n",
    "#             feats=list(range(40))+[42, 57, 60, 75, 78]\n",
    "        else:\n",
    "            # TODO: Using 40 states & 2 tested_positive features (indices = 57 & 75)\n",
    "            pass\n",
    "\n",
    "        if mode == 'test':\n",
    "            # Testing data\n",
    "            # data: 893 x 93 (40 states + day 1 (18) + day 2 (18) + day 3 (17))\n",
    "            data = data[:, feats]\n",
    "            self.data = torch.FloatTensor(data)\n",
    "        else:\n",
    "            # Training data (train/dev sets)\n",
    "            # data: 2700 x 94 (40 states + day 1 (18) + day 2 (18) + day 3 (18))\n",
    "            target = data[:, -1]\n",
    "            data = data[:, feats]\n",
    "            \n",
    "            data_indices = list(range(len(data)))\n",
    "            train_indices,val_indices=train_test_split(data_indices,test_size=0.01,\n",
    "                                                      random_state=0)\n",
    "            if mode=='train':\n",
    "                indices=train_indices\n",
    "            elif mode=='dev':\n",
    "                indices=val_indices\n",
    "                \n",
    "            # Splitting training data into train & dev sets\n",
    "#             if mode == 'train':\n",
    "#                 indices = [i for i in range(len(data)) if i % 10 != 0]\n",
    "#             elif mode == 'dev':\n",
    "#                 indices = [i for i in range(len(data)) if i % 10 == 0]\n",
    "            \n",
    "            # Convert data into PyTorch tensors\n",
    "            self.data = torch.FloatTensor(data[indices])\n",
    "            self.target = torch.FloatTensor(target[indices])\n",
    "        \n",
    "        if mode=='train':\n",
    "            self.mu=self.data[:,40:].mean(dim=0,keepdim=True)\n",
    "            self.std=self.data[:,40:].std(dim=0,keepdim=True)\n",
    "        else:\n",
    "            self.mu=mu\n",
    "            self.std=std\n",
    "        self.data[:,40:]=(self.data[:,40:]-self.mu)/self.std\n",
    "\n",
    "        # Normalize features (you may remove this part to see what will happen)\n",
    "        \n",
    "#         self.data[:, 40:] = \\\n",
    "#             (self.data[:, 40:] - self.data[:, 40:].mean(dim=0, keepdim=True)) \\\n",
    "#             / self.data[:, 40:].std(dim=0, keepdim=True)\n",
    "#         if mode=='train':\n",
    "#             mu=\n",
    "        \n",
    "    \n",
    "    \n",
    "        self.dim = self.data.shape[1]\n",
    "\n",
    "        print('Finished reading the {} set of COVID19 Dataset ({} samples found, each dim = {})'\n",
    "              .format(mode, len(self.data), self.dim))\n",
    "\n",
    "    def __getitem__(self, index):\n",
    "        # Returns one sample at a time\n",
    "        if self.mode in ['train', 'dev']:\n",
    "            # For training\n",
    "            return self.data[index], self.target[index]\n",
    "        else:\n",
    "            # For testing (no target)\n",
    "            return self.data[index]\n",
    "\n",
    "    def __len__(self):\n",
    "        # Returns the size of the dataset\n",
    "        return len(self.data)"
   ]
  },
  {
   "cell_type": "markdown",
   "metadata": {
    "id": "AlhTlkE7MDo3"
   },
   "source": [
    "## **DataLoader**\n",
    "\n",
    "A `DataLoader` loads data from a given `Dataset` into batches.\n"
   ]
  },
  {
   "cell_type": "code",
   "execution_count": 46,
   "metadata": {
    "ExecuteTime": {
     "end_time": "2021-09-01T07:18:55.241014Z",
     "start_time": "2021-09-01T07:18:55.226013Z"
    },
    "collapsed": true,
    "id": "hlhLk5t6MBX3"
   },
   "outputs": [],
   "source": [
    "def prep_dataloader(path,\n",
    "                    mode,\n",
    "                    batch_size,\n",
    "                    mu,\n",
    "                    std,\n",
    "                    n_jobs=0,\n",
    "                    target_only=False):\n",
    "    ''' Generates a dataset, then is put into a dataloader. '''\n",
    "    #     dataset = COVID19Dataset(path, mode=mode, target_only=target_only)  # Construct dataset\n",
    "    dataset = COVID19Dataset(path, mu, std, mode=mode, target_only=target_only)\n",
    "    if mode == 'train':\n",
    "        mu = dataset.mu\n",
    "        std = dataset.std\n",
    "    dataloader = DataLoader(dataset,\n",
    "                            batch_size,\n",
    "                            shuffle=(mode == 'train'),\n",
    "                            drop_last=False,\n",
    "                            num_workers=n_jobs,\n",
    "                            pin_memory=True)  # Construct dataloader\n",
    "    return dataloader, mu, std"
   ]
  },
  {
   "cell_type": "markdown",
   "metadata": {
    "id": "SGuycwR0MeQB"
   },
   "source": [
    "# **Deep Neural Network**\n",
    "\n",
    "`NeuralNet` is an `nn.Module` designed for regression.\n",
    "The DNN consists of 2 fully-connected layers with ReLU activation.\n",
    "This module also included a function `cal_loss` for calculating loss.\n"
   ]
  },
  {
   "cell_type": "code",
   "execution_count": 47,
   "metadata": {
    "ExecuteTime": {
     "end_time": "2021-09-01T07:19:01.785388Z",
     "start_time": "2021-09-01T07:19:01.745386Z"
    },
    "collapsed": true,
    "id": "49-uXYovOAI0"
   },
   "outputs": [],
   "source": [
    "class NeuralNet(nn.Module):\n",
    "    ''' A simple fully-connected deep neural network '''\n",
    "    def __init__(self, input_dim):\n",
    "        super(NeuralNet, self).__init__()\n",
    "\n",
    "        # Define your neural network here\n",
    "        # TODO: How to modify this model to achieve better performance?\n",
    "        self.net = nn.Sequential(\n",
    "            nn.Linear(input_dim, 1)  ## wx modify\n",
    "        )\n",
    "\n",
    "        # Mean squared error loss\n",
    "        self.criterion = nn.MSELoss(reduction='mean')\n",
    "\n",
    "    def forward(self, x):\n",
    "        ''' Given input of size (batch_size x input_dim), compute output of the network '''\n",
    "        return self.net(x).squeeze(1)\n",
    "\n",
    "    def cal_loss(self, pred, target):\n",
    "        ''' Calculate loss '''\n",
    "        # TODO: you may implement L2 regularization here\n",
    "        return self.criterion(pred, target)"
   ]
  },
  {
   "cell_type": "markdown",
   "metadata": {
    "id": "DvFWVjZ5Nvga"
   },
   "source": [
    "# **Train/Dev/Test**"
   ]
  },
  {
   "cell_type": "markdown",
   "metadata": {
    "id": "MAM8QecJOyqn"
   },
   "source": [
    "## **Training**"
   ]
  },
  {
   "cell_type": "code",
   "execution_count": 30,
   "metadata": {
    "ExecuteTime": {
     "end_time": "2021-09-01T03:14:31.263282Z",
     "start_time": "2021-09-01T03:14:31.181278Z"
    },
    "collapsed": true,
    "id": "lOqcmYzMO7jB"
   },
   "outputs": [],
   "source": [
    "def train(tr_set, dv_set, model, config, device):\n",
    "    ''' DNN training '''\n",
    "\n",
    "    n_epochs = config['n_epochs']  # Maximum number of epochs\n",
    "\n",
    "    # Setup optimizer\n",
    "    optimizer = getattr(torch.optim, config['optimizer'])(\n",
    "        model.parameters(), **config['optim_hparas'])\n",
    "\n",
    "    min_mse = 1000.\n",
    "    loss_record = {'train': [], 'dev': []}      # for recording training loss\n",
    "    early_stop_cnt = 0\n",
    "    epoch = 0\n",
    "    while epoch < n_epochs:\n",
    "        model.train()                           # set model to training mode\n",
    "        for x, y in tr_set:                     # iterate through the dataloader\n",
    "            optimizer.zero_grad()               # set gradient to zero\n",
    "            x, y = x.to(device), y.to(device)   # move data to device (cpu/cuda)\n",
    "            pred = model(x)                     # forward pass (compute output)\n",
    "            mse_loss = model.cal_loss(pred, y)  # compute loss\n",
    "            mse_loss.backward()                 # compute gradient (backpropagation)\n",
    "            optimizer.step()                    # update model with optimizer\n",
    "            loss_record['train'].append(mse_loss.detach().cpu().item())\n",
    "\n",
    "        # After each epoch, test your model on the validation (development) set.\n",
    "        dev_mse = dev(dv_set, model, device)\n",
    "        if dev_mse < min_mse:\n",
    "            # Save model if your model improved\n",
    "            min_mse = dev_mse\n",
    "            print('Saving model (epoch = {:04d},train loss={:.4f} | loss = {:.4f})'\n",
    "                .format(epoch + 1,loss_record['train'][-1] ,min_mse))\n",
    "            torch.save(model.state_dict(), config['save_path'])  # Save model to specified path\n",
    "            early_stop_cnt = 0\n",
    "        else:\n",
    "            early_stop_cnt += 1\n",
    "\n",
    "        epoch += 1\n",
    "        loss_record['dev'].append(dev_mse)\n",
    "        if early_stop_cnt > config['early_stop']:\n",
    "            # Stop training if your model stops improving for \"config['early_stop']\" epochs.\n",
    "            break\n",
    "\n",
    "    print('Finished training after {} epochs'.format(epoch))\n",
    "    return min_mse, loss_record"
   ]
  },
  {
   "cell_type": "markdown",
   "metadata": {
    "id": "0hSd4Bn3O2PL"
   },
   "source": [
    "## **Validation**"
   ]
  },
  {
   "cell_type": "code",
   "execution_count": 31,
   "metadata": {
    "ExecuteTime": {
     "end_time": "2021-09-01T03:14:32.141333Z",
     "start_time": "2021-09-01T03:14:32.117331Z"
    },
    "collapsed": true,
    "id": "yrxrD3YsN3U2"
   },
   "outputs": [],
   "source": [
    "def dev(dv_set, model, device):\n",
    "    model.eval()                                # set model to evalutation mode\n",
    "    total_loss = 0\n",
    "    for x, y in dv_set:                         # iterate through the dataloader\n",
    "        x, y = x.to(device), y.to(device)       # move data to device (cpu/cuda)\n",
    "        with torch.no_grad():                   # disable gradient calculation\n",
    "            pred = model(x)                     # forward pass (compute output)\n",
    "            mse_loss = model.cal_loss(pred, y)  # compute loss\n",
    "        total_loss += mse_loss.detach().cpu().item() * len(x)  # accumulate loss\n",
    "    total_loss = total_loss / len(dv_set.dataset)              # compute averaged loss\n",
    "\n",
    "    return total_loss"
   ]
  },
  {
   "cell_type": "markdown",
   "metadata": {
    "id": "g0pdrhQAO41L"
   },
   "source": [
    "## **Testing**"
   ]
  },
  {
   "cell_type": "code",
   "execution_count": 32,
   "metadata": {
    "ExecuteTime": {
     "end_time": "2021-09-01T03:14:33.067386Z",
     "start_time": "2021-09-01T03:14:33.046384Z"
    },
    "collapsed": true,
    "id": "aSBMRFlYN5tB"
   },
   "outputs": [],
   "source": [
    "def test(tt_set, model, device):\n",
    "    model.eval()                                # set model to evalutation mode\n",
    "    preds = []\n",
    "    for x in tt_set:                            # iterate through the dataloader\n",
    "        x = x.to(device)                        # move data to device (cpu/cuda)\n",
    "        with torch.no_grad():                   # disable gradient calculation\n",
    "            pred = model(x)                     # forward pass (compute output)\n",
    "            preds.append(pred.detach().cpu())   # collect prediction\n",
    "    preds = torch.cat(preds, dim=0).numpy()     # concatenate all predictions and convert to a numpy array\n",
    "    return preds"
   ]
  },
  {
   "cell_type": "markdown",
   "metadata": {
    "id": "SvckkF5dvf0j"
   },
   "source": [
    "# **Setup Hyper-parameters**\n",
    "\n",
    "`config` contains hyper-parameters for training and the path to save your model."
   ]
  },
  {
   "cell_type": "code",
   "execution_count": 33,
   "metadata": {
    "ExecuteTime": {
     "end_time": "2021-09-01T03:14:34.023440Z",
     "start_time": "2021-09-01T03:14:34.005439Z"
    },
    "collapsed": true,
    "id": "NPXpdumwPjE7"
   },
   "outputs": [],
   "source": [
    "device = get_device()                 # get the current available device ('cpu' or 'cuda')\n",
    "os.makedirs('models', exist_ok=True)  # The trained model will be saved to ./models/\n",
    "target_only = False                   # TODO: Using 40 states & 2 tested_positive features\n",
    "\n",
    "# TODO: How to tune these hyper-parameters to improve your model's performance?\n",
    "config = {\n",
    "    'n_epochs': 3000,                # maximum number of epochs\n",
    "    'batch_size': 64 ,               # mini-batch size for dataloader\n",
    "    'optimizer': 'Adam',              # optimization algorithm (optimizer in torch.optim)\n",
    "    'optim_hparas': {                # hyper-parameters for the optimizer (depends on which optimizer you are using)\n",
    "        'lr': 0.05,                 # learning rate of SGD\n",
    "#         'momentum': 0.9              # momentum for SGD\n",
    "    },\n",
    "    'early_stop': 500,               # early stopping epochs (the number epochs since your model's last improvement)\n",
    "    'save_path': r'F:\\study\\ml\\HonyiLee2021\\Lhy_Machine_Learning-main\\01 Introduction\\models\\model.pth'  # your model will be saved here\n",
    "}"
   ]
  },
  {
   "cell_type": "markdown",
   "metadata": {
    "id": "6j1eOV3TOH-j"
   },
   "source": [
    "# **Load data and model**"
   ]
  },
  {
   "cell_type": "code",
   "execution_count": 48,
   "metadata": {
    "ExecuteTime": {
     "end_time": "2021-09-01T07:19:12.459999Z",
     "start_time": "2021-09-01T07:19:11.924968Z"
    },
    "colab": {
     "base_uri": "https://localhost:8080/"
    },
    "id": "eNrYBMmePLKm",
    "outputId": "fcd4f175-4f7e-4306-f33c-5f8285f11dce"
   },
   "outputs": [
    {
     "name": "stdout",
     "output_type": "stream",
     "text": [
      "Finished reading the train set of COVID19 Dataset (2673 samples found, each dim = 93)\n",
      "Finished reading the dev set of COVID19 Dataset (27 samples found, each dim = 93)\n",
      "Finished reading the test set of COVID19 Dataset (893 samples found, each dim = 93)\n"
     ]
    }
   ],
   "source": [
    "tr_set,tr_mu,tr_std= prep_dataloader(tr_path, 'train', config['batch_size'],None,None, target_only=target_only)\n",
    "dv_set ,none_mu,none_std= prep_dataloader(tr_path, 'dev', config['batch_size'],tr_mu,tr_std, target_only=target_only)\n",
    "tt_set,none_mu,none_std = prep_dataloader(tt_path, 'test', config['batch_size'],tr_mu,tr_std, target_only=target_only)"
   ]
  },
  {
   "cell_type": "code",
   "execution_count": 35,
   "metadata": {
    "ExecuteTime": {
     "end_time": "2021-09-01T03:14:37.401633Z",
     "start_time": "2021-09-01T03:14:37.356631Z"
    },
    "collapsed": true
   },
   "outputs": [],
   "source": [
    "class NeuralNet(nn.Module):\n",
    "    ''' A simple fully-connected deep neural network '''\n",
    "    def __init__(self, input_dim):\n",
    "        super(NeuralNet, self).__init__()\n",
    "\n",
    "        # Define your neural network here\n",
    "        # TODO: How to modify this model to achieve better performance?\n",
    "        self.net = nn.Sequential(\n",
    "#             nn.BatchNorm1d(input_dim),\n",
    "#             nn.Linear(input_dim, 86),\n",
    "#             nn.ReLU(),\n",
    "# #             nn.BatchNorm1d(64),\n",
    "#             nn.Linear(86, 1)\n",
    "            nn.Linear(input_dim,1)\n",
    "        )\n",
    "\n",
    "        # Mean squared error loss\n",
    "        self.criterion = nn.MSELoss(reduction='mean')\n",
    "\n",
    "    def forward(self, x):\n",
    "        ''' Given input of size (batch_size x input_dim), compute output of the network '''\n",
    "        return self.net(x).squeeze(1)\n",
    "\n",
    "    def cal_loss(self, pred, target):\n",
    "        ''' Calculate loss '''\n",
    "        # TODO: you may implement L2 regularization here\n",
    "        return self.criterion(pred, target)"
   ]
  },
  {
   "cell_type": "code",
   "execution_count": 36,
   "metadata": {
    "ExecuteTime": {
     "end_time": "2021-09-01T03:14:37.805657Z",
     "start_time": "2021-09-01T03:14:37.801656Z"
    },
    "collapsed": true,
    "id": "FHylSirLP9oh"
   },
   "outputs": [],
   "source": [
    "  # Construct model and move to device"
   ]
  },
  {
   "cell_type": "markdown",
   "metadata": {
    "id": "sX2B_zgSOPTJ"
   },
   "source": [
    "# **Start Training!**"
   ]
  },
  {
   "cell_type": "code",
   "execution_count": 37,
   "metadata": {
    "ExecuteTime": {
     "end_time": "2021-09-01T03:15:28.132535Z",
     "start_time": "2021-09-01T03:14:38.700708Z"
    },
    "colab": {
     "base_uri": "https://localhost:8080/"
    },
    "id": "GrEbUxazQAAZ",
    "outputId": "f4f3bd74-2d97-4275-b69f-6609976b91f9"
   },
   "outputs": [
    {
     "name": "stdout",
     "output_type": "stream",
     "text": [
      "Saving model (epoch = 0001,train loss=201.3372 | loss = 187.5994)\n",
      "Saving model (epoch = 0002,train loss=113.4743 | loss = 118.8651)\n",
      "Saving model (epoch = 0003,train loss=74.3560 | loss = 73.6380)\n",
      "Saving model (epoch = 0004,train loss=44.5977 | loss = 41.6325)\n",
      "Saving model (epoch = 0005,train loss=25.2877 | loss = 23.0367)\n",
      "Saving model (epoch = 0006,train loss=13.3109 | loss = 12.6103)\n",
      "Saving model (epoch = 0007,train loss=6.1680 | loss = 6.5810)\n",
      "Saving model (epoch = 0008,train loss=3.1044 | loss = 3.4594)\n",
      "Saving model (epoch = 0009,train loss=1.7368 | loss = 2.0864)\n",
      "Saving model (epoch = 0010,train loss=2.1520 | loss = 1.4715)\n",
      "Saving model (epoch = 0011,train loss=1.1253 | loss = 1.2442)\n",
      "Saving model (epoch = 0012,train loss=1.2634 | loss = 1.1444)\n",
      "Saving model (epoch = 0013,train loss=1.0222 | loss = 1.1380)\n",
      "Saving model (epoch = 0017,train loss=0.5709 | loss = 1.1277)\n",
      "Saving model (epoch = 0018,train loss=0.9861 | loss = 1.1191)\n",
      "Saving model (epoch = 0020,train loss=1.4022 | loss = 1.1168)\n",
      "Saving model (epoch = 0022,train loss=1.6886 | loss = 1.1022)\n",
      "Saving model (epoch = 0026,train loss=1.3975 | loss = 1.0721)\n",
      "Saving model (epoch = 0034,train loss=1.0593 | loss = 1.0482)\n",
      "Saving model (epoch = 0037,train loss=0.6563 | loss = 1.0475)\n",
      "Saving model (epoch = 0040,train loss=0.6441 | loss = 1.0156)\n",
      "Saving model (epoch = 0046,train loss=0.5442 | loss = 1.0081)\n",
      "Saving model (epoch = 0051,train loss=1.0392 | loss = 1.0012)\n",
      "Saving model (epoch = 0052,train loss=0.8960 | loss = 0.9968)\n",
      "Saving model (epoch = 0056,train loss=1.4446 | loss = 0.9911)\n",
      "Saving model (epoch = 0057,train loss=1.0339 | loss = 0.9729)\n",
      "Saving model (epoch = 0066,train loss=1.0930 | loss = 0.9674)\n",
      "Saving model (epoch = 0068,train loss=1.4243 | loss = 0.9592)\n",
      "Saving model (epoch = 0071,train loss=0.7552 | loss = 0.9528)\n",
      "Saving model (epoch = 0079,train loss=0.5572 | loss = 0.9329)\n",
      "Saving model (epoch = 0146,train loss=0.8359 | loss = 0.9186)\n",
      "Saving model (epoch = 0347,train loss=1.2474 | loss = 0.9166)\n",
      "Saving model (epoch = 0425,train loss=0.8411 | loss = 0.9094)\n",
      "Saving model (epoch = 0554,train loss=1.2351 | loss = 0.9089)\n",
      "Saving model (epoch = 0815,train loss=0.9723 | loss = 0.9010)\n",
      "Saving model (epoch = 1228,train loss=1.1061 | loss = 0.8941)\n",
      "Finished training after 1729 epochs\n"
     ]
    }
   ],
   "source": [
    "device = get_device()                 # get the current available device ('cpu' or 'cuda')\n",
    "os.makedirs('models', exist_ok=True)  # The trained model will be saved to ./models/\n",
    "target_only = False                   # TODO: Using 40 states & 2 tested_positive features\n",
    "\n",
    "# TODO: How to tune these hyper-parameters to improve your model's performance?\n",
    "# torch.optim.Adam()\n",
    "config = {\n",
    "    'n_epochs': 3000,                # maximum number of epochs\n",
    "    'batch_size': 64 ,               # mini-batch size for dataloader\n",
    "#     'optimizer': 'Adam',              # optimization algorithm (optimizer in torch.optim)\n",
    "    'optimizer': 'Adam',              # optimization algorithm (optimizer in torch.optim)\n",
    "    'optim_hparas': {                # hyper-parameters for the optimizer (depends on which optimizer you are using)\n",
    "        'lr': 0.05,                 # learning rate of SGD\n",
    "#         'momentum': 0.9              # momentum for SGD\n",
    "    },\n",
    "    'early_stop': 500,               # early stopping epochs (the number epochs since your model's last improvement)\n",
    "    'save_path': r'F:\\study\\ml\\HonyiLee2021\\Lhy_Machine_Learning-main\\01 Introduction\\models\\model.pth'  # your model will be saved here\n",
    "}\n",
    "model = NeuralNet(tr_set.dataset.dim).to(device)\n",
    "model_loss, model_loss_record = train(tr_set, dv_set, model, config, device)"
   ]
  },
  {
   "cell_type": "markdown",
   "metadata": {},
   "source": [
    "Saving model (epoch = 0684,train loss=1.0344 | loss = 0.9176)"
   ]
  },
  {
   "cell_type": "code",
   "execution_count": null,
   "metadata": {
    "ExecuteTime": {
     "end_time": "2021-08-31T08:50:01.997529Z",
     "start_time": "2021-08-31T08:50:01.885Z"
    },
    "colab": {
     "base_uri": "https://localhost:8080/",
     "height": 295
    },
    "collapsed": true,
    "id": "hsNO9nnXQBvP",
    "outputId": "1626def6-94c7-4a87-9447-d939f827c8eb"
   },
   "outputs": [],
   "source": [
    "plot_learning_curve(model_loss_record, title='deep model')"
   ]
  },
  {
   "cell_type": "code",
   "execution_count": null,
   "metadata": {
    "ExecuteTime": {
     "end_time": "2021-06-02T09:15:06.887697Z",
     "start_time": "2021-06-02T09:15:06.738688Z"
    },
    "colab": {
     "base_uri": "https://localhost:8080/",
     "height": 350
    },
    "collapsed": true,
    "id": "3iZTVn5WQFpX",
    "outputId": "a2d5e118-559d-45c6-b644-6792af54663d"
   },
   "outputs": [],
   "source": [
    "del model\n",
    "model = NeuralNet(tr_set.dataset.dim).to(device)\n",
    "ckpt = torch.load(config['save_path'], map_location='cpu')  # Load your best model\n",
    "model.load_state_dict(ckpt)\n",
    "# plot_pred(dv_set, model, device)  # Show prediction on the validation set"
   ]
  },
  {
   "cell_type": "code",
   "execution_count": 49,
   "metadata": {
    "ExecuteTime": {
     "end_time": "2021-09-01T07:19:23.460628Z",
     "start_time": "2021-09-01T07:19:23.403625Z"
    }
   },
   "outputs": [
    {
     "name": "stdout",
     "output_type": "stream",
     "text": [
      "train mse 0.837004, valid mse 0.638302 \n"
     ]
    }
   ],
   "source": [
    "model_chk=torch.load(r'F:\\study\\ml\\HonyiLee2021\\Lhy_Machine_Learning-main\\01 Introduction\\models\\model.pth')\n",
    "model.load_state_dict(model_chk)\n",
    "device='cpu'\n",
    "train_mse=dev(tr_set, model, device)\n",
    "valid_mse=dev(dv_set,model,device)\n",
    "print('train mse %f, valid mse %f ' % (train_mse,valid_mse))\n"
   ]
  },
  {
   "cell_type": "markdown",
   "metadata": {},
   "source": [
    "house price model "
   ]
  },
  {
   "cell_type": "code",
   "execution_count": 39,
   "metadata": {
    "ExecuteTime": {
     "end_time": "2021-09-01T07:03:03.693589Z",
     "start_time": "2021-09-01T07:03:03.664587Z"
    },
    "collapsed": true
   },
   "outputs": [],
   "source": [
    "def get_net(num_features):\n",
    "    net=nn.Linear(num_features,1)\n",
    "#     net = nn.Sequential(nn.Linear(num_features, 80), nn.ReLU(),\n",
    "#                         nn.Linear(80, 1))\n",
    "    for p in net.parameters():\n",
    "        nn.init.normal_(p, mean=0, std=0.01)\n",
    "    return net"
   ]
  },
  {
   "cell_type": "code",
   "execution_count": 41,
   "metadata": {
    "ExecuteTime": {
     "end_time": "2021-09-01T07:03:35.294396Z",
     "start_time": "2021-09-01T07:03:35.281395Z"
    }
   },
   "outputs": [],
   "source": [
    "net=get_net(93)\n",
    "net_chk=torch.load(r'F:\\study\\ml\\HonyiLee2021\\Lhy_Machine_Learning-main\\01 Introduction\\models\\model.wx')\n",
    "net.load_state_dict(net_chk)"
   ]
  },
  {
   "cell_type": "code",
   "execution_count": 42,
   "metadata": {
    "ExecuteTime": {
     "end_time": "2021-09-01T07:06:45.791292Z",
     "start_time": "2021-09-01T07:06:45.764290Z"
    },
    "collapsed": true
   },
   "outputs": [],
   "source": [
    "def dev2(dv_set, model, device):\n",
    "    model.eval()                                # set model to evalutation mode\n",
    "    total_loss = 0\n",
    "    loss=nn.MSELoss(reduction='mean')\n",
    "    for x, y in dv_set:                         # iterate through the dataloader\n",
    "        x, y = x.to(device), y.to(device)       # move data to device (cpu/cuda)\n",
    "        with torch.no_grad():                   # disable gradient calculation\n",
    "            pred = model(x)                     # forward pass (compute output)\n",
    "            mse_loss = loss(pred,y)  # compute loss\n",
    "        total_loss += mse_loss.detach().cpu().item() * len(x)  # accumulate loss\n",
    "    total_loss = total_loss / len(dv_set.dataset)              # compute averaged loss\n",
    "\n",
    "    return total_loss"
   ]
  },
  {
   "cell_type": "code",
   "execution_count": 44,
   "metadata": {
    "ExecuteTime": {
     "end_time": "2021-09-01T07:07:44.917674Z",
     "start_time": "2021-09-01T07:07:44.876671Z"
    }
   },
   "outputs": [
    {
     "name": "stdout",
     "output_type": "stream",
     "text": [
      "train mse 116.537081, valid mse 106.281395 \n"
     ]
    }
   ],
   "source": [
    "device='cpu'\n",
    "train_mse=dev2(tr_set, net, device)\n",
    "valid_mse=dev2(dv_set,net,device)\n",
    "print('train mse %f, valid mse %f ' % (train_mse,valid_mse))"
   ]
  },
  {
   "cell_type": "code",
   "execution_count": 51,
   "metadata": {
    "ExecuteTime": {
     "end_time": "2021-09-01T07:21:05.507465Z",
     "start_time": "2021-09-01T07:21:05.178446Z"
    },
    "collapsed": true
   },
   "outputs": [],
   "source": [
    "import pandas as pd"
   ]
  },
  {
   "cell_type": "code",
   "execution_count": 61,
   "metadata": {
    "ExecuteTime": {
     "end_time": "2021-09-01T07:34:31.594570Z",
     "start_time": "2021-09-01T07:34:31.502565Z"
    }
   },
   "outputs": [],
   "source": [
    "train_data=pd.read_csv(r'F:\\study\\ml\\HonyiLee2021\\Lhy_Machine_Learning-main\\01 Introduction\\dataset\\covid.train.csv',)\n",
    "test_data=pd.read_csv(r'F:\\study\\ml\\HonyiLee2021\\Lhy_Machine_Learning-main\\01 Introduction\\dataset\\covid.test.csv')"
   ]
  },
  {
   "cell_type": "code",
   "execution_count": 62,
   "metadata": {
    "ExecuteTime": {
     "end_time": "2021-09-01T07:34:33.903702Z",
     "start_time": "2021-09-01T07:34:33.826698Z"
    },
    "collapsed": true
   },
   "outputs": [],
   "source": [
    "train_data.iloc[:,40:-1]=train_data.iloc[:,40:-1].apply(lambda x : (x-x.mean()) / x.std())"
   ]
  },
  {
   "cell_type": "code",
   "execution_count": 63,
   "metadata": {
    "ExecuteTime": {
     "end_time": "2021-09-01T07:34:34.314726Z",
     "start_time": "2021-09-01T07:34:34.302725Z"
    }
   },
   "outputs": [],
   "source": [
    "train_features=torch.Tensor(train_data.iloc[:,1:-1].values)\n",
    "train_labels=torch.Tensor(train_data.iloc[:,-1].values).view(-1,1)"
   ]
  },
  {
   "cell_type": "code",
   "execution_count": 64,
   "metadata": {
    "ExecuteTime": {
     "end_time": "2021-09-01T07:34:34.788753Z",
     "start_time": "2021-09-01T07:34:34.776752Z"
    }
   },
   "outputs": [
    {
     "data": {
      "text/plain": [
       "torch.Size([2700, 93])"
      ]
     },
     "execution_count": 64,
     "metadata": {},
     "output_type": "execute_result"
    }
   ],
   "source": [
    "train_features.shape"
   ]
  },
  {
   "cell_type": "code",
   "execution_count": 65,
   "metadata": {
    "ExecuteTime": {
     "end_time": "2021-09-01T07:34:35.276781Z",
     "start_time": "2021-09-01T07:34:35.269780Z"
    }
   },
   "outputs": [
    {
     "data": {
      "text/plain": [
       "torch.Size([2700, 1])"
      ]
     },
     "execution_count": 65,
     "metadata": {},
     "output_type": "execute_result"
    }
   ],
   "source": [
    "train_labels.shape"
   ]
  },
  {
   "cell_type": "code",
   "execution_count": 70,
   "metadata": {
    "ExecuteTime": {
     "end_time": "2021-09-01T07:55:16.390769Z",
     "start_time": "2021-09-01T07:55:16.371767Z"
    }
   },
   "outputs": [
    {
     "data": {
      "text/plain": [
       "tensor([[-0.4211, -0.5778, -0.4172, -0.3648, -0.9364,  1.3419,  0.9772,  1.7371,\n",
       "          1.2597,  1.2648,  1.4035, -0.6428, -1.1475, -0.6367, -0.8175, -1.7962,\n",
       "         -0.2355,  0.4302, -0.3703, -0.4991, -0.4239, -0.3698, -1.0681,  1.3591,\n",
       "          1.0116,  1.7946,  1.2462,  1.2317,  1.3125, -0.6879, -1.2323, -0.6249,\n",
       "         -0.9886, -1.8433, -0.1755,  0.4962, -0.2384, -0.3176, -0.3914, -0.3525,\n",
       "         -1.0000,  1.2458,  0.9802,  1.6167,  1.2800,  1.1052,  1.2577, -0.7436,\n",
       "         -1.1814, -0.5957, -0.9383, -1.7432, -0.1843],\n",
       "        [-0.3631, -0.4919, -0.4138, -0.3602, -1.0552,  1.3435,  1.0012,  1.7768,\n",
       "          1.2339,  1.2137,  1.3006, -0.6916, -1.2342, -0.6316, -0.9832, -1.8255,\n",
       "         -0.1703,  0.5042, -0.2303, -0.3099, -0.3819, -0.3434, -0.9873,  1.2325,\n",
       "          0.9691,  1.5993,  1.2680,  1.0884,  1.2460, -0.7470, -1.1833, -0.6020,\n",
       "         -0.9332, -1.7253, -0.1791,  0.5688, -0.0598, -0.1345, -0.4252, -0.4103,\n",
       "         -1.0570,  1.1106,  0.9776,  1.5261,  1.2571,  1.0701,  1.2517, -0.7063,\n",
       "         -1.2611, -0.7674, -1.0103, -1.7120, -0.3637],\n",
       "        [-0.2231, -0.3027, -0.3719, -0.3338, -0.9747,  1.2174,  0.9588,  1.5814,\n",
       "          1.2557,  1.0707,  1.2342, -0.7507, -1.1852, -0.6086, -0.9278, -1.7076,\n",
       "         -0.1738,  0.5766, -0.0517, -0.1266, -0.4156, -0.4011, -1.0441,  1.0977,\n",
       "          0.9666,  1.5086,  1.2451,  1.0533,  1.2400, -0.7097, -1.2630, -0.7741,\n",
       "         -1.0053, -1.6941, -0.3579,  0.6458, -0.1016, -0.1402, -0.4039, -0.4191,\n",
       "         -1.0827,  1.2162,  1.0996,  1.5465,  1.2414,  1.0950,  1.2595, -0.6725,\n",
       "         -1.0446, -0.4316, -1.0966, -1.8002, -0.3050],\n",
       "        [-0.0446, -0.1195, -0.4056, -0.3915, -1.0313,  1.0833,  0.9562,  1.4908,\n",
       "          1.2329,  1.0356,  1.2282, -0.7134, -1.2650, -0.7811, -0.9999, -1.6765,\n",
       "         -0.3520,  0.6536, -0.0935, -0.1324, -0.3944, -0.4099, -1.0698,  1.2030,\n",
       "          1.0882,  1.5290,  1.2294,  1.0782,  1.2478, -0.6759, -1.0465, -0.4376,\n",
       "         -1.0916, -1.7822, -0.2994,  0.6293, -0.1201, -0.1268, -0.3594, -0.3992,\n",
       "         -1.1157,  1.0722,  0.9478,  1.3648,  1.0614,  1.0337,  1.1282, -0.7669,\n",
       "         -1.2319, -0.5162, -1.1807, -1.9916, -0.3175],\n",
       "        [-0.0863, -0.1252, -0.3844, -0.4003, -1.0569,  1.1881,  1.0776,  1.5112,\n",
       "          1.2172,  1.0605,  1.2360, -0.6796, -1.0483, -0.4438, -1.0862, -1.7645,\n",
       "         -0.2938,  0.6371, -0.1120, -0.1189, -0.3500, -0.3900, -1.1027,  1.0595,\n",
       "          0.9368,  1.3474,  1.0497,  1.0170,  1.1166, -0.7703, -1.2339, -0.5224,\n",
       "         -1.1758, -1.9734, -0.3118,  0.4628, -0.2717, -0.3055, -0.3451, -0.4117,\n",
       "         -1.0727,  1.0048,  0.7662,  1.2255,  0.9755,  1.0843,  1.0578, -0.7065,\n",
       "         -1.4617, -0.3939, -1.1480, -1.9733, -0.2382]])"
      ]
     },
     "execution_count": 70,
     "metadata": {},
     "output_type": "execute_result"
    }
   ],
   "source": [
    "train_features[:5,40:]"
   ]
  },
  {
   "cell_type": "code",
   "execution_count": 66,
   "metadata": {
    "ExecuteTime": {
     "end_time": "2021-09-01T07:34:35.973821Z",
     "start_time": "2021-09-01T07:34:35.968820Z"
    },
    "collapsed": true
   },
   "outputs": [],
   "source": [
    "dataset=torch.utils.data.TensorDataset(train_features,train_labels)\n",
    "train_iter=torch.utils.data.DataLoader(dataset,64,shuffle=False)"
   ]
  },
  {
   "cell_type": "code",
   "execution_count": 67,
   "metadata": {
    "ExecuteTime": {
     "end_time": "2021-09-01T07:34:37.229893Z",
     "start_time": "2021-09-01T07:34:37.202891Z"
    }
   },
   "outputs": [
    {
     "data": {
      "text/plain": [
       "36.702796936035156"
      ]
     },
     "execution_count": 67,
     "metadata": {},
     "output_type": "execute_result"
    }
   ],
   "source": [
    "model=model = NeuralNet(93)\n",
    "model_chk=torch.load(r'F:\\study\\ml\\HonyiLee2021\\Lhy_Machine_Learning-main\\01 Introduction\\models\\model.pth')\n",
    "model.load_state_dict(model_chk)\n",
    "\n",
    "model.eval()\n",
    "((model(train_features).view(-1,1).detach()-train_labels)**2).mean().item()"
   ]
  },
  {
   "cell_type": "code",
   "execution_count": 68,
   "metadata": {
    "ExecuteTime": {
     "end_time": "2021-09-01T07:35:32.238039Z",
     "start_time": "2021-09-01T07:35:32.222038Z"
    }
   },
   "outputs": [
    {
     "data": {
      "text/plain": [
       "39.17701721191406"
      ]
     },
     "execution_count": 68,
     "metadata": {},
     "output_type": "execute_result"
    }
   ],
   "source": [
    "net=get_net(93)\n",
    "net_chk=torch.load(r'F:\\study\\ml\\HonyiLee2021\\Lhy_Machine_Learning-main\\01 Introduction\\models\\model.wx')\n",
    "net.load_state_dict(net_chk)\n",
    "net.eval()\n",
    "((net(train_features).view(-1,1).detach()-train_labels)**2).mean().item()"
   ]
  },
  {
   "cell_type": "code",
   "execution_count": null,
   "metadata": {
    "collapsed": true
   },
   "outputs": [],
   "source": []
  },
  {
   "cell_type": "code",
   "execution_count": null,
   "metadata": {
    "collapsed": true
   },
   "outputs": [],
   "source": []
  },
  {
   "cell_type": "code",
   "execution_count": null,
   "metadata": {
    "collapsed": true
   },
   "outputs": [],
   "source": [
    " model.eval()                                # set model to evalutation mode\n",
    "    total_loss = 0\n",
    "    for x, y in dv_set:                         # iterate through the dataloader\n",
    "        x, y = x.to(device), y.to(device)       # move data to device (cpu/cuda)\n",
    "        with torch.no_grad():                   # disable gradient calculation\n",
    "            pred = model(x)                     # forward pass (compute output)\n",
    "            mse_loss = model.cal_loss(pred, y)  # compute loss\n",
    "        total_loss += mse_loss.detach().cpu().item() * len(x)  # accumulate loss\n",
    "    total_loss = total_loss / len(dv_set.dataset)              # compute averaged loss\n"
   ]
  },
  {
   "cell_type": "code",
   "execution_count": null,
   "metadata": {
    "collapsed": true
   },
   "outputs": [],
   "source": []
  },
  {
   "cell_type": "code",
   "execution_count": null,
   "metadata": {
    "collapsed": true
   },
   "outputs": [],
   "source": []
  },
  {
   "cell_type": "code",
   "execution_count": null,
   "metadata": {
    "collapsed": true
   },
   "outputs": [],
   "source": []
  },
  {
   "cell_type": "code",
   "execution_count": null,
   "metadata": {
    "collapsed": true
   },
   "outputs": [],
   "source": []
  },
  {
   "cell_type": "markdown",
   "metadata": {
    "ExecuteTime": {
     "end_time": "2021-05-28T07:00:18.513927Z",
     "start_time": "2021-05-28T07:00:18.504927Z"
    }
   },
   "source": [
    "# ** modify by wx**"
   ]
  },
  {
   "cell_type": "code",
   "execution_count": null,
   "metadata": {
    "collapsed": true
   },
   "outputs": [],
   "source": []
  },
  {
   "cell_type": "code",
   "execution_count": null,
   "metadata": {
    "collapsed": true
   },
   "outputs": [],
   "source": []
  },
  {
   "cell_type": "code",
   "execution_count": null,
   "metadata": {
    "collapsed": true
   },
   "outputs": [],
   "source": []
  },
  {
   "cell_type": "code",
   "execution_count": null,
   "metadata": {
    "ExecuteTime": {
     "end_time": "2021-06-01T07:22:45.334098Z",
     "start_time": "2021-06-01T07:22:45.295096Z"
    },
    "collapsed": true
   },
   "outputs": [],
   "source": [
    "# class NeuralNet(nn.Module):\n",
    "#     ''' A simple fully-connected deep neural network '''\n",
    "#     def __init__(self, input_dim):\n",
    "#         super(NeuralNet, self).__init__()\n",
    "\n",
    "#         # Define your neural network here\n",
    "#         # TODO: How to modify this model to achieve better performance?\n",
    "#         self.net = nn.Sequential(\n",
    "# #             nn.BatchNorm1d(input_dim),\n",
    "#             nn.Linear(input_dim, 64),\n",
    "#             nn.ReLU(),\n",
    "# #             nn.BatchNorm1d(64),\n",
    "#             nn.Linear(64, 1)\n",
    "#         )\n",
    "\n",
    "#         # Mean squared error loss\n",
    "#         self.criterion = nn.MSELoss(reduction='mean')\n",
    "\n",
    "#     def forward(self, x):\n",
    "#         ''' Given input of size (batch_size x input_dim), compute output of the network '''\n",
    "#         return self.net(x).squeeze(1)\n",
    "\n",
    "#     def cal_loss(self, pred, target):\n",
    "#         ''' Calculate loss '''\n",
    "#         # TODO: you may implement L2 regularization here\n",
    "#         return self.criterion(pred, target)\n",
    "\n",
    "# device = get_device()                 # get the current available device ('cpu' or 'cuda')\n",
    "# os.makedirs('models', exist_ok=True)  # The trained model will be saved to ./models/\n",
    "# target_only = False                   # TODO: Using 40 states & 2 tested_positive features\n",
    "\n",
    "# # TODO: How to tune these hyper-parameters to improve your model's performance?\n",
    "# config = {\n",
    "#     'n_epochs': 3000,                # maximum number of epochs\n",
    "#     'batch_size': 800,               # mini-batch size for dataloader\n",
    "#     'optimizer': 'SGD',              # optimization algorithm (optimizer in torch.optim)\n",
    "#     'optim_hparas': {                # hyper-parameters for the optimizer (depends on which optimizer you are using)\n",
    "#         'lr': 0.001,                 # learning rate of SGD\n",
    "#         'momentum': 0.5             # momentum for SGD\n",
    "#     },\n",
    "#     'early_stop': 200,               # early stopping epochs (the number epochs since your model's last improvement)\n",
    "#     'save_path': r'F:\\study\\ml\\HonyiLee2021\\Lhy_Machine_Learning-main\\01 Introduction\\models\\model.pth'  # your model will be saved here\n",
    "# }\n",
    "\n",
    "# model = NeuralNet(tr_set.dataset.dim).to(device)  # Construct model and move to device\n",
    "\n",
    "# model_loss, model_loss_record = train(tr_set, dv_set, model, config, device)\n",
    "# plot_learning_curve(model_loss_record, title='deep model')\n",
    "# del model\n",
    "# model = NeuralNet(tr_set.dataset.dim).to(device)\n",
    "# ckpt = torch.load(config['save_path'], map_location='cpu')  # Load your best model\n",
    "# model.load_state_dict(ckpt)\n",
    "# plot_pred(dv_set, model, device)  # Show prediction on the validation set"
   ]
  },
  {
   "cell_type": "code",
   "execution_count": null,
   "metadata": {
    "collapsed": true
   },
   "outputs": [],
   "source": []
  },
  {
   "cell_type": "code",
   "execution_count": null,
   "metadata": {
    "collapsed": true
   },
   "outputs": [],
   "source": []
  },
  {
   "cell_type": "markdown",
   "metadata": {
    "id": "aQikz3IPiyPf"
   },
   "source": [
    "# **Testing**\n",
    "The predictions of your model on testing set will be stored at `pred.csv`."
   ]
  },
  {
   "cell_type": "code",
   "execution_count": null,
   "metadata": {
    "ExecuteTime": {
     "end_time": "2021-06-02T09:33:37.367213Z",
     "start_time": "2021-06-02T09:33:37.307209Z"
    },
    "colab": {
     "base_uri": "https://localhost:8080/"
    },
    "collapsed": true,
    "id": "O8cTuQjQQOon",
    "outputId": "6bc5de07-4c5a-4e87-9ae3-d09f539c5f2c"
   },
   "outputs": [],
   "source": [
    "def save_pred(preds, file):\n",
    "    ''' Save predictions to specified file '''\n",
    "    print('Saving results to {}'.format(file))\n",
    "    with open(file, 'w') as fp:\n",
    "        writer = csv.writer(fp)\n",
    "        writer.writerow(['id', 'tested_positive'])\n",
    "        for i, p in enumerate(preds):\n",
    "            writer.writerow([i, p])\n",
    "\n",
    "preds = test(tt_set, model, device)  # predict COVID-19 cases with your model\n",
    "save_pred(preds, r'F:\\study\\ml\\HonyiLee2021\\Lhy_Machine_Learning-main\\01 Introduction\\dataset\\pred_new67.csv')         # save prediction file to pred.csv"
   ]
  },
  {
   "cell_type": "markdown",
   "metadata": {
    "id": "nfrVxqJanGpE"
   },
   "source": [
    "# **Hints**\n",
    "\n",
    "## **Simple Baseline**\n",
    "* Run sample code\n",
    "\n",
    "## **Medium Baseline**\n",
    "* Feature selection: 40 states + 2 `tested_positive` (`TODO` in dataset)\n",
    "\n",
    "## **Strong Baseline**\n",
    "* Feature selection (what other features are useful?)\n",
    "* DNN architecture (layers? dimension? activation function?)\n",
    "* Training (mini-batch? optimizer? learning rate?)\n",
    "* L2 regularization\n",
    "* There are some mistakes in the sample code, can you find them?"
   ]
  },
  {
   "cell_type": "markdown",
   "metadata": {
    "id": "9tmCwXgpot3t"
   },
   "source": [
    "# **Reference**\n",
    "This code is completely written by Heng-Jui Chang @ NTUEE.  \n",
    "Copying or reusing this code is required to specify the original author. \n",
    "\n",
    "E.g.  \n",
    "Source: Heng-Jui Chang @ NTUEE (https://github.com/ga642381/ML2021-Spring/blob/main/HW01/HW01.ipynb)\n"
   ]
  }
 ],
 "metadata": {
  "accelerator": "GPU",
  "colab": {
   "collapsed_sections": [],
   "name": "ML2021Spring - HW1.ipynb",
   "provenance": [],
   "toc_visible": true
  },
  "kernelspec": {
   "display_name": "Python 3",
   "language": "python",
   "name": "python3"
  },
  "language_info": {
   "codemirror_mode": {
    "name": "ipython",
    "version": 3
   },
   "file_extension": ".py",
   "mimetype": "text/x-python",
   "name": "python",
   "nbconvert_exporter": "python",
   "pygments_lexer": "ipython3",
   "version": "3.6.3"
  }
 },
 "nbformat": 4,
 "nbformat_minor": 1
}
