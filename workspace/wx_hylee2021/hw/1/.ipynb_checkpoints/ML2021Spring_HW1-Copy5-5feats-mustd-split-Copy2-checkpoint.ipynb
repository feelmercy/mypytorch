{
 "cells": [
  {
   "cell_type": "markdown",
   "metadata": {
    "id": "mz0_QVkxCrX3"
   },
   "source": [
    "# **Homework 1: COVID-19 Cases Prediction (Regression)**"
   ]
  },
  {
   "cell_type": "markdown",
   "metadata": {
    "id": "ZeZnPAiwDRWG"
   },
   "source": [
    "Author: Heng-Jui Chang\n",
    "\n",
    "Slides: https://github.com/ga642381/ML2021-Spring/blob/main/HW01/HW01.pdf  \n",
    "Video: TBA\n",
    "\n",
    "Objectives:\n",
    "* Solve a regression problem with deep neural networks (DNN).\n",
    "* Understand basic DNN training tips.\n",
    "* Get familiar with PyTorch.\n",
    "\n",
    "If any questions, please contact the TAs via TA hours, NTU COOL, or email.\n"
   ]
  },
  {
   "cell_type": "markdown",
   "metadata": {
    "id": "Jx3x1nDkG-Uy"
   },
   "source": [
    "# **Download Data**\n",
    "\n",
    "\n",
    "If the Google drive links are dead, you can download data from [kaggle](https://www.kaggle.com/c/ml2021spring-hw1/data), and upload data manually to the workspace."
   ]
  },
  {
   "cell_type": "code",
   "execution_count": 1,
   "metadata": {
    "ExecuteTime": {
     "end_time": "2021-05-18T05:47:03.469771Z",
     "start_time": "2021-05-18T05:47:03.379766Z"
    },
    "colab": {
     "base_uri": "https://localhost:8080/"
    },
    "id": "tMj55YDKG6ch",
    "outputId": "fc40ecc9-4756-48b1-d5c6-c169a8b453b2"
   },
   "outputs": [
    {
     "name": "stderr",
     "output_type": "stream",
     "text": [
      "'gdown' 不是内部或外部命令，也不是可运行的程序\n",
      "或批处理文件。\n",
      "'gdown' 不是内部或外部命令，也不是可运行的程序\n",
      "或批处理文件。\n"
     ]
    }
   ],
   "source": [
    "tr_path = r'F:\\study\\ml\\HonyiLee2021\\Lhy_Machine_Learning-main\\01 Introduction\\dataset\\covid.train.csv'  # path to training data\n",
    "tt_path = r'F:\\study\\ml\\HonyiLee2021\\Lhy_Machine_Learning-main\\01 Introduction\\dataset\\covid.test.csv'   # path to testing data\n",
    "\n",
    "!gdown --id '19CCyCgJrUxtvgZF53vnctJiOJ23T5mqF' --output covid.train.csv\n",
    "!gdown --id '1CE240jLm2npU-tdz81-oVKEF3T2yfT1O' --output covid.test.csv"
   ]
  },
  {
   "cell_type": "markdown",
   "metadata": {
    "id": "wS_4-77xHk44"
   },
   "source": [
    "# **Import Some Packages**"
   ]
  },
  {
   "cell_type": "code",
   "execution_count": 2,
   "metadata": {
    "ExecuteTime": {
     "end_time": "2021-05-18T05:47:04.816848Z",
     "start_time": "2021-05-18T05:47:04.324820Z"
    },
    "collapsed": true,
    "id": "k-onQd4JNA5H"
   },
   "outputs": [],
   "source": [
    "# PyTorch\n",
    "import torch\n",
    "import torch.nn as nn\n",
    "from torch.utils.data import Dataset, DataLoader\n",
    "\n",
    "# For data preprocess\n",
    "import numpy as np\n",
    "import csv\n",
    "import os\n",
    "\n",
    "# For plotting\n",
    "import matplotlib.pyplot as plt\n",
    "from matplotlib.pyplot import figure\n",
    "\n",
    "myseed = 42069  # set a random seed for reproducibility\n",
    "torch.backends.cudnn.deterministic = True\n",
    "torch.backends.cudnn.benchmark = False\n",
    "np.random.seed(myseed)\n",
    "torch.manual_seed(myseed)\n",
    "if torch.cuda.is_available():\n",
    "    torch.cuda.manual_seed_all(myseed)"
   ]
  },
  {
   "cell_type": "markdown",
   "metadata": {
    "id": "BtE3b6JEH7rw"
   },
   "source": [
    "# **Some Utilities**\n",
    "\n",
    "You do not need to modify this part."
   ]
  },
  {
   "cell_type": "code",
   "execution_count": 23,
   "metadata": {
    "ExecuteTime": {
     "end_time": "2021-05-18T05:48:51.771966Z",
     "start_time": "2021-05-18T05:48:51.670960Z"
    },
    "collapsed": true,
    "id": "FWMT3uf1NGQp"
   },
   "outputs": [],
   "source": [
    "def get_device():\n",
    "    ''' Get device (if GPU is available, use GPU) '''\n",
    "    return 'cuda' if torch.cuda.is_available() else 'cpu'\n",
    "\n",
    "def plot_learning_curve(loss_record, title=''):\n",
    "    ''' Plot learning curve of your DNN (train & dev loss) '''\n",
    "    total_steps = len(loss_record['train'])\n",
    "    x_1 = range(total_steps)\n",
    "    x_2 = x_1[::len(loss_record['train']) // len(loss_record['dev'])]\n",
    "    figure(figsize=(6, 4))\n",
    "    plt.plot(x_1, loss_record['train'], c='tab:red', label='train')\n",
    "    plt.plot(x_2, loss_record['dev'], c='tab:cyan', label='dev')\n",
    "    plt.ylim(0.0, 5.)\n",
    "    plt.xlabel('Training steps')\n",
    "    plt.ylabel('MSE loss')\n",
    "    plt.title('Learning curve of {}'.format(title))\n",
    "    plt.legend()\n",
    "    plt.show()\n",
    "\n",
    "\n",
    "def plot_pred(dv_set, model, device, lim=35., preds=None, targets=None):\n",
    "    ''' Plot prediction of your DNN '''\n",
    "    if preds is None or targets is None:\n",
    "        model.eval()\n",
    "        preds, targets = [], []\n",
    "        for x, y in dv_set:\n",
    "            x, y = x.to(device), y.to(device)\n",
    "            with torch.no_grad():\n",
    "                pred = model(x)\n",
    "                preds.append(pred.detach().cpu())\n",
    "                targets.append(y.detach().cpu())\n",
    "        preds = torch.cat(preds, dim=0).numpy()\n",
    "        targets = torch.cat(targets, dim=0).numpy()\n",
    "\n",
    "    figure(figsize=(5, 5))\n",
    "    plt.scatter(targets, preds, c='r', alpha=0.5)\n",
    "    plt.plot([-0.2, lim], [-0.2, lim], c='b')\n",
    "    plt.xlim(-0.2, lim)\n",
    "    plt.ylim(-0.2, lim)\n",
    "    plt.xlabel('ground truth value')\n",
    "    plt.ylabel('predicted value')\n",
    "    plt.title('Ground Truth v.s. Prediction')\n",
    "    plt.show()"
   ]
  },
  {
   "cell_type": "markdown",
   "metadata": {
    "id": "39U_XFX6KOoj"
   },
   "source": [
    "# **Preprocess**\n",
    "\n",
    "We have three kinds of datasets:\n",
    "* `train`: for training\n",
    "* `dev`: for validation\n",
    "* `test`: for testing (w/o target value)"
   ]
  },
  {
   "cell_type": "markdown",
   "metadata": {
    "id": "TQ-MdwpLL7Dt"
   },
   "source": [
    "## **Dataset**\n",
    "\n",
    "The `COVID19Dataset` below does:\n",
    "* read `.csv` files\n",
    "* extract features\n",
    "* split `covid.train.csv` into train/dev sets\n",
    "* normalize features\n",
    "\n",
    "Finishing `TODO` below might make you pass medium baseline."
   ]
  },
  {
   "cell_type": "code",
   "execution_count": 28,
   "metadata": {
    "ExecuteTime": {
     "end_time": "2021-05-18T05:51:05.031588Z",
     "start_time": "2021-05-18T05:51:04.881579Z"
    },
    "collapsed": true,
    "id": "0zlpIp9ANJRU"
   },
   "outputs": [],
   "source": [
    "class COVID19Dataset(Dataset):\n",
    "    ''' Dataset for loading and preprocessing the COVID19 dataset '''\n",
    "    def __init__(self,\n",
    "                 path,\n",
    "                 mu,\n",
    "                 std,\n",
    "                 mode='train',\n",
    "                 target_only=False):\n",
    "        self.mode = mode\n",
    "\n",
    "        # Read data into numpy arrays\n",
    "        with open(path, 'r') as fp:\n",
    "            data = list(csv.reader(fp))\n",
    "            data = np.array(data[1:])[:, 1:].astype(float)\n",
    "        \n",
    "        if not target_only:\n",
    "#             feats = list(range(93))\n",
    "            feats=list(range(40))+[42, 57, 60, 75, 78]  ## > 0.87\n",
    "#             feats=list(range(40))+[42, 43, 57, 60, 61, 75, 78, 79] ## >0.85\n",
    "#             feats=list(range(40))+[57, 75]\n",
    "        else:\n",
    "            # TODO: Using 40 states & 2 tested_positive features (indices = 57 & 75)\n",
    "            pass\n",
    "\n",
    "        if mode == 'test':\n",
    "            # Testing data\n",
    "            # data: 893 x 93 (40 states + day 1 (18) + day 2 (18) + day 3 (17))\n",
    "            data = data[:, feats]\n",
    "            self.data = torch.FloatTensor(data)\n",
    "        else:\n",
    "            # Training data (train/dev sets)\n",
    "            # data: 2700 x 94 (40 states + day 1 (18) + day 2 (18) + day 3 (18))\n",
    "            target = data[:, -1]\n",
    "            data = data[:, feats]\n",
    "            \n",
    "            # Splitting training data into train & dev sets\n",
    "            \n",
    "#             indices\n",
    "            \n",
    "            if mode == 'train':\n",
    "                indices = [i for i in range(len(data)) if i % 10 != 0]\n",
    "            elif mode == 'dev':\n",
    "                indices = [i for i in range(len(data)) if i % 10 == 0]\n",
    "            \n",
    "            # Convert data into PyTorch tensors\n",
    "            self.data = torch.FloatTensor(data[indices])\n",
    "            self.target = torch.FloatTensor(target[indices])\n",
    "\n",
    "        # Normalize features (you may remove this part to see what will happen)\n",
    "        if mode=='train':\n",
    "            self.mu=self.data[:,40:].mean(dim=0,keepdim=True)\n",
    "            self.std=self.data[:,40:].std(dim=0,keepdim=True)\n",
    "        else:\n",
    "            self.mu=mu\n",
    "            self.std=std\n",
    "        self.data[:,40:]=(self.data[:,40:]-self.mu)/self.std\n",
    "        \n",
    "#         self.data[:, 40:] = \\\n",
    "#             (self.data[:, 40:] - self.data[:, 40:].mean(dim=0, keepdim=True)) \\\n",
    "#             / self.data[:, 40:].std(dim=0, keepdim=True)\n",
    "\n",
    "        self.dim = self.data.shape[1]\n",
    "\n",
    "        print('Finished reading the {} set of COVID19 Dataset ({} samples found, each dim = {})'\n",
    "              .format(mode, len(self.data), self.dim))\n",
    "\n",
    "    def __getitem__(self, index):\n",
    "        # Returns one sample at a time\n",
    "        if self.mode in ['train', 'dev']:\n",
    "            # For training\n",
    "            return self.data[index], self.target[index]\n",
    "        else:\n",
    "            # For testing (no target)\n",
    "            return self.data[index]\n",
    "\n",
    "    def __len__(self):\n",
    "        # Returns the size of the dataset\n",
    "        return len(self.data)"
   ]
  },
  {
   "cell_type": "markdown",
   "metadata": {
    "id": "AlhTlkE7MDo3"
   },
   "source": [
    "## **DataLoader**\n",
    "\n",
    "A `DataLoader` loads data from a given `Dataset` into batches.\n"
   ]
  },
  {
   "cell_type": "code",
   "execution_count": 29,
   "metadata": {
    "ExecuteTime": {
     "end_time": "2021-05-18T05:51:06.528673Z",
     "start_time": "2021-05-18T05:51:06.500672Z"
    },
    "collapsed": true,
    "id": "hlhLk5t6MBX3"
   },
   "outputs": [],
   "source": [
    "def prep_dataloader(path, mode, batch_size, n_jobs=0, target_only=False,mu=None,std=None):\n",
    "    ''' Generates a dataset, then is put into a dataloader. '''\n",
    "    dataset = COVID19Dataset(path, mu,std,mode=mode, target_only=target_only)  # Construct dataset\n",
    "    if mode=='train':\n",
    "        mu=dataset.mu\n",
    "        std=dataset.std\n",
    "    dataloader = DataLoader(\n",
    "        dataset, batch_size,\n",
    "        shuffle=(mode == 'train'), drop_last=False,\n",
    "        num_workers=n_jobs, pin_memory=True)                            # Construct dataloader\n",
    "    return dataloader,mu,std"
   ]
  },
  {
   "cell_type": "markdown",
   "metadata": {
    "id": "SGuycwR0MeQB"
   },
   "source": [
    "# **Deep Neural Network**\n",
    "\n",
    "`NeuralNet` is an `nn.Module` designed for regression.\n",
    "The DNN consists of 2 fully-connected layers with ReLU activation.\n",
    "This module also included a function `cal_loss` for calculating loss.\n"
   ]
  },
  {
   "cell_type": "code",
   "execution_count": 30,
   "metadata": {
    "ExecuteTime": {
     "end_time": "2021-05-18T05:51:07.340720Z",
     "start_time": "2021-05-18T05:51:07.302718Z"
    },
    "collapsed": true,
    "id": "49-uXYovOAI0"
   },
   "outputs": [],
   "source": [
    "class NeuralNet(nn.Module):\n",
    "    ''' A simple fully-connected deep neural network '''\n",
    "    def __init__(self, input_dim):\n",
    "        super(NeuralNet, self).__init__()\n",
    "\n",
    "        # Define your neural network here\n",
    "        # TODO: How to modify this model to achieve better performance?\n",
    "        self.net = nn.Sequential(\n",
    "            nn.Linear(input_dim, 64),\n",
    "            nn.ReLU(),\n",
    "            nn.Linear(64, 1)\n",
    "        )\n",
    "\n",
    "        # Mean squared error loss\n",
    "        self.criterion = nn.MSELoss(reduction='mean')\n",
    "\n",
    "    def forward(self, x):\n",
    "        ''' Given input of size (batch_size x input_dim), compute output of the network '''\n",
    "        return self.net(x).squeeze(1)\n",
    "\n",
    "    def cal_loss(self, pred, target):\n",
    "        ''' Calculate loss '''\n",
    "        # TODO: you may implement L2 regularization here\n",
    "        return self.criterion(pred, target)"
   ]
  },
  {
   "cell_type": "markdown",
   "metadata": {
    "id": "DvFWVjZ5Nvga"
   },
   "source": [
    "# **Train/Dev/Test**"
   ]
  },
  {
   "cell_type": "markdown",
   "metadata": {
    "id": "MAM8QecJOyqn"
   },
   "source": [
    "## **Training**"
   ]
  },
  {
   "cell_type": "code",
   "execution_count": 31,
   "metadata": {
    "ExecuteTime": {
     "end_time": "2021-05-18T05:51:08.497786Z",
     "start_time": "2021-05-18T05:51:08.413781Z"
    },
    "collapsed": true,
    "id": "lOqcmYzMO7jB"
   },
   "outputs": [],
   "source": [
    "def train(tr_set, dv_set, model, config, device):\n",
    "    ''' DNN training '''\n",
    "\n",
    "    n_epochs = config['n_epochs']  # Maximum number of epochs\n",
    "\n",
    "    # Setup optimizer\n",
    "    optimizer = getattr(torch.optim, config['optimizer'])(\n",
    "        model.parameters(), **config['optim_hparas'])\n",
    "\n",
    "    min_mse = 1000.\n",
    "    loss_record = {'train': [], 'dev': []}      # for recording training loss\n",
    "    early_stop_cnt = 0\n",
    "    epoch = 0\n",
    "    while epoch < n_epochs:\n",
    "        model.train()                           # set model to training mode\n",
    "        for x, y in tr_set:                     # iterate through the dataloader\n",
    "            optimizer.zero_grad()               # set gradient to zero\n",
    "            x, y = x.to(device), y.to(device)   # move data to device (cpu/cuda)\n",
    "            pred = model(x)                     # forward pass (compute output)\n",
    "            mse_loss = model.cal_loss(pred, y)  # compute loss\n",
    "            mse_loss.backward()                 # compute gradient (backpropagation)\n",
    "            optimizer.step()                    # update model with optimizer\n",
    "            loss_record['train'].append(mse_loss.detach().cpu().item())\n",
    "\n",
    "        # After each epoch, test your model on the validation (development) set.\n",
    "        dev_mse = dev(dv_set, model, device)\n",
    "        if dev_mse < min_mse:\n",
    "            # Save model if your model improved\n",
    "            min_mse = dev_mse\n",
    "            print('Saving model (epoch = {:4d}, loss = {:.4f})'\n",
    "                .format(epoch + 1, min_mse))\n",
    "            torch.save(model.state_dict(), config['save_path'])  # Save model to specified path\n",
    "            early_stop_cnt = 0\n",
    "        else:\n",
    "            early_stop_cnt += 1\n",
    "\n",
    "        epoch += 1\n",
    "        loss_record['dev'].append(dev_mse)\n",
    "        if early_stop_cnt > config['early_stop']:\n",
    "            # Stop training if your model stops improving for \"config['early_stop']\" epochs.\n",
    "            break\n",
    "\n",
    "    print('Finished training after {} epochs'.format(epoch))\n",
    "    return min_mse, loss_record"
   ]
  },
  {
   "cell_type": "markdown",
   "metadata": {
    "id": "0hSd4Bn3O2PL"
   },
   "source": [
    "## **Validation**"
   ]
  },
  {
   "cell_type": "code",
   "execution_count": 32,
   "metadata": {
    "ExecuteTime": {
     "end_time": "2021-05-18T05:51:09.055818Z",
     "start_time": "2021-05-18T05:51:09.040817Z"
    },
    "collapsed": true,
    "id": "yrxrD3YsN3U2"
   },
   "outputs": [],
   "source": [
    "def dev(dv_set, model, device):\n",
    "    model.eval()                                # set model to evalutation mode\n",
    "    total_loss = 0\n",
    "    for x, y in dv_set:                         # iterate through the dataloader\n",
    "        x, y = x.to(device), y.to(device)       # move data to device (cpu/cuda)\n",
    "        with torch.no_grad():                   # disable gradient calculation\n",
    "            pred = model(x)                     # forward pass (compute output)\n",
    "            mse_loss = model.cal_loss(pred, y)  # compute loss\n",
    "        total_loss += mse_loss.detach().cpu().item() * len(x)  # accumulate loss\n",
    "    total_loss = total_loss / len(dv_set.dataset)              # compute averaged loss\n",
    "\n",
    "    return total_loss"
   ]
  },
  {
   "cell_type": "markdown",
   "metadata": {
    "id": "g0pdrhQAO41L"
   },
   "source": [
    "## **Testing**"
   ]
  },
  {
   "cell_type": "code",
   "execution_count": 33,
   "metadata": {
    "ExecuteTime": {
     "end_time": "2021-05-18T05:51:09.653852Z",
     "start_time": "2021-05-18T05:51:09.629851Z"
    },
    "collapsed": true,
    "id": "aSBMRFlYN5tB"
   },
   "outputs": [],
   "source": [
    "def test(tt_set, model, device):\n",
    "    model.eval()                                # set model to evalutation mode\n",
    "    preds = []\n",
    "    for x in tt_set:                            # iterate through the dataloader\n",
    "        x = x.to(device)                        # move data to device (cpu/cuda)\n",
    "        with torch.no_grad():                   # disable gradient calculation\n",
    "            pred = model(x)                     # forward pass (compute output)\n",
    "            preds.append(pred.detach().cpu())   # collect prediction\n",
    "    preds = torch.cat(preds, dim=0).numpy()     # concatenate all predictions and convert to a numpy array\n",
    "    return preds"
   ]
  },
  {
   "cell_type": "markdown",
   "metadata": {
    "id": "SvckkF5dvf0j"
   },
   "source": [
    "# **Setup Hyper-parameters**\n",
    "\n",
    "`config` contains hyper-parameters for training and the path to save your model."
   ]
  },
  {
   "cell_type": "code",
   "execution_count": 34,
   "metadata": {
    "ExecuteTime": {
     "end_time": "2021-05-18T05:51:10.552904Z",
     "start_time": "2021-05-18T05:51:10.532902Z"
    },
    "collapsed": true,
    "id": "NPXpdumwPjE7"
   },
   "outputs": [],
   "source": [
    "device = get_device()                 # get the current available device ('cpu' or 'cuda')\n",
    "os.makedirs('models', exist_ok=True)  # The trained model will be saved to ./models/\n",
    "target_only = False                   # TODO: Using 40 states & 2 tested_positive features\n",
    "\n",
    "# TODO: How to tune these hyper-parameters to improve your model's performance?\n",
    "config = {\n",
    "    'n_epochs': 3000,                # maximum number of epochs\n",
    "    'batch_size': 270,               # mini-batch size for dataloader\n",
    "    'optimizer': 'SGD',              # optimization algorithm (optimizer in torch.optim)\n",
    "    'optim_hparas': {                # hyper-parameters for the optimizer (depends on which optimizer you are using)\n",
    "        'lr': 0.001,                 # learning rate of SGD\n",
    "        'momentum': 0.9              # momentum for SGD\n",
    "    },\n",
    "    'early_stop': 200,               # early stopping epochs (the number epochs since your model's last improvement)\n",
    "    'save_path': 'models/model.pth'  # your model will be saved here\n",
    "}"
   ]
  },
  {
   "cell_type": "markdown",
   "metadata": {
    "id": "6j1eOV3TOH-j"
   },
   "source": [
    "# **Load data and model**"
   ]
  },
  {
   "cell_type": "code",
   "execution_count": 35,
   "metadata": {
    "ExecuteTime": {
     "end_time": "2021-05-18T05:51:11.870979Z",
     "start_time": "2021-05-18T05:51:11.349949Z"
    },
    "colab": {
     "base_uri": "https://localhost:8080/"
    },
    "id": "eNrYBMmePLKm",
    "outputId": "fcd4f175-4f7e-4306-f33c-5f8285f11dce"
   },
   "outputs": [
    {
     "name": "stdout",
     "output_type": "stream",
     "text": [
      "Finished reading the train set of COVID19 Dataset (2430 samples found, each dim = 45)\n",
      "Finished reading the dev set of COVID19 Dataset (270 samples found, each dim = 45)\n",
      "Finished reading the test set of COVID19 Dataset (893 samples found, each dim = 45)\n"
     ]
    }
   ],
   "source": [
    "tr_set,tr_mu,tr_std = prep_dataloader(tr_path, 'train', config['batch_size'], target_only=target_only)\n",
    "dv_set,mu_none,std_none= prep_dataloader(tr_path, 'dev', config['batch_size'], target_only=target_only,mu=tr_mu,std=tr_std)\n",
    "tt_set,mu_none,std_none = prep_dataloader(tt_path, 'test', config['batch_size'], target_only=target_only,mu=tr_mu,std=tr_std)"
   ]
  },
  {
   "cell_type": "code",
   "execution_count": 36,
   "metadata": {
    "ExecuteTime": {
     "end_time": "2021-05-18T05:51:12.375008Z",
     "start_time": "2021-05-18T05:51:12.366007Z"
    },
    "collapsed": true,
    "id": "FHylSirLP9oh"
   },
   "outputs": [],
   "source": [
    "model = NeuralNet(tr_set.dataset.dim).to(device)  # Construct model and move to device"
   ]
  },
  {
   "cell_type": "markdown",
   "metadata": {
    "id": "sX2B_zgSOPTJ"
   },
   "source": [
    "# **Start Training!**"
   ]
  },
  {
   "cell_type": "code",
   "execution_count": 37,
   "metadata": {
    "ExecuteTime": {
     "end_time": "2021-05-18T05:51:33.803233Z",
     "start_time": "2021-05-18T05:51:14.198112Z"
    },
    "colab": {
     "base_uri": "https://localhost:8080/"
    },
    "id": "GrEbUxazQAAZ",
    "outputId": "f4f3bd74-2d97-4275-b69f-6609976b91f9"
   },
   "outputs": [
    {
     "name": "stdout",
     "output_type": "stream",
     "text": [
      "Saving model (epoch =    1, loss = 221.3429)\n",
      "Saving model (epoch =    2, loss = 92.7490)\n",
      "Saving model (epoch =    3, loss = 35.3391)\n",
      "Saving model (epoch =    4, loss = 8.7228)\n",
      "Saving model (epoch =    5, loss = 3.2136)\n",
      "Saving model (epoch =    6, loss = 1.6736)\n",
      "Saving model (epoch =    7, loss = 1.4780)\n",
      "Saving model (epoch =    8, loss = 1.3857)\n",
      "Saving model (epoch =    9, loss = 1.3518)\n",
      "Saving model (epoch =   10, loss = 1.3244)\n",
      "Saving model (epoch =   11, loss = 1.3013)\n",
      "Saving model (epoch =   12, loss = 1.2802)\n",
      "Saving model (epoch =   13, loss = 1.2586)\n",
      "Saving model (epoch =   14, loss = 1.2467)\n",
      "Saving model (epoch =   15, loss = 1.2266)\n",
      "Saving model (epoch =   16, loss = 1.2164)\n",
      "Saving model (epoch =   17, loss = 1.2048)\n",
      "Saving model (epoch =   18, loss = 1.1883)\n",
      "Saving model (epoch =   19, loss = 1.1758)\n",
      "Saving model (epoch =   20, loss = 1.1656)\n",
      "Saving model (epoch =   21, loss = 1.1539)\n",
      "Saving model (epoch =   22, loss = 1.1529)\n",
      "Saving model (epoch =   23, loss = 1.1366)\n",
      "Saving model (epoch =   24, loss = 1.1275)\n",
      "Saving model (epoch =   25, loss = 1.1220)\n",
      "Saving model (epoch =   26, loss = 1.1154)\n",
      "Saving model (epoch =   27, loss = 1.1035)\n",
      "Saving model (epoch =   28, loss = 1.1007)\n",
      "Saving model (epoch =   29, loss = 1.0923)\n",
      "Saving model (epoch =   30, loss = 1.0858)\n",
      "Saving model (epoch =   31, loss = 1.0757)\n",
      "Saving model (epoch =   32, loss = 1.0724)\n",
      "Saving model (epoch =   33, loss = 1.0690)\n",
      "Saving model (epoch =   34, loss = 1.0604)\n",
      "Saving model (epoch =   35, loss = 1.0557)\n",
      "Saving model (epoch =   36, loss = 1.0521)\n",
      "Saving model (epoch =   37, loss = 1.0450)\n",
      "Saving model (epoch =   38, loss = 1.0392)\n",
      "Saving model (epoch =   40, loss = 1.0324)\n",
      "Saving model (epoch =   41, loss = 1.0231)\n",
      "Saving model (epoch =   43, loss = 1.0226)\n",
      "Saving model (epoch =   44, loss = 1.0104)\n",
      "Saving model (epoch =   46, loss = 1.0090)\n",
      "Saving model (epoch =   47, loss = 1.0024)\n",
      "Saving model (epoch =   48, loss = 1.0001)\n",
      "Saving model (epoch =   49, loss = 0.9956)\n",
      "Saving model (epoch =   51, loss = 0.9898)\n",
      "Saving model (epoch =   53, loss = 0.9880)\n",
      "Saving model (epoch =   54, loss = 0.9829)\n",
      "Saving model (epoch =   55, loss = 0.9774)\n",
      "Saving model (epoch =   58, loss = 0.9707)\n",
      "Saving model (epoch =   60, loss = 0.9668)\n",
      "Saving model (epoch =   61, loss = 0.9655)\n",
      "Saving model (epoch =   63, loss = 0.9624)\n",
      "Saving model (epoch =   65, loss = 0.9613)\n",
      "Saving model (epoch =   66, loss = 0.9549)\n",
      "Saving model (epoch =   67, loss = 0.9530)\n",
      "Saving model (epoch =   68, loss = 0.9530)\n",
      "Saving model (epoch =   69, loss = 0.9516)\n",
      "Saving model (epoch =   70, loss = 0.9480)\n",
      "Saving model (epoch =   72, loss = 0.9467)\n",
      "Saving model (epoch =   73, loss = 0.9410)\n",
      "Saving model (epoch =   75, loss = 0.9408)\n",
      "Saving model (epoch =   76, loss = 0.9350)\n",
      "Saving model (epoch =   79, loss = 0.9301)\n",
      "Saving model (epoch =   82, loss = 0.9297)\n",
      "Saving model (epoch =   83, loss = 0.9285)\n",
      "Saving model (epoch =   86, loss = 0.9251)\n",
      "Saving model (epoch =   88, loss = 0.9238)\n",
      "Saving model (epoch =   90, loss = 0.9211)\n",
      "Saving model (epoch =   91, loss = 0.9193)\n",
      "Saving model (epoch =   94, loss = 0.9154)\n",
      "Saving model (epoch =   97, loss = 0.9136)\n",
      "Saving model (epoch =  100, loss = 0.9125)\n",
      "Saving model (epoch =  103, loss = 0.9114)\n",
      "Saving model (epoch =  106, loss = 0.9083)\n",
      "Saving model (epoch =  108, loss = 0.9082)\n",
      "Saving model (epoch =  110, loss = 0.9068)\n",
      "Saving model (epoch =  116, loss = 0.9052)\n",
      "Saving model (epoch =  118, loss = 0.9033)\n",
      "Saving model (epoch =  126, loss = 0.9025)\n",
      "Saving model (epoch =  127, loss = 0.9002)\n",
      "Saving model (epoch =  132, loss = 0.8996)\n",
      "Saving model (epoch =  133, loss = 0.8987)\n",
      "Saving model (epoch =  136, loss = 0.8985)\n",
      "Saving model (epoch =  140, loss = 0.8949)\n",
      "Saving model (epoch =  141, loss = 0.8942)\n",
      "Saving model (epoch =  152, loss = 0.8939)\n",
      "Saving model (epoch =  155, loss = 0.8925)\n",
      "Saving model (epoch =  159, loss = 0.8921)\n",
      "Saving model (epoch =  169, loss = 0.8902)\n",
      "Saving model (epoch =  175, loss = 0.8895)\n",
      "Saving model (epoch =  181, loss = 0.8890)\n",
      "Saving model (epoch =  182, loss = 0.8878)\n",
      "Saving model (epoch =  184, loss = 0.8867)\n",
      "Saving model (epoch =  208, loss = 0.8864)\n",
      "Saving model (epoch =  212, loss = 0.8863)\n",
      "Saving model (epoch =  215, loss = 0.8858)\n",
      "Saving model (epoch =  222, loss = 0.8856)\n",
      "Saving model (epoch =  224, loss = 0.8837)\n",
      "Saving model (epoch =  226, loss = 0.8828)\n",
      "Saving model (epoch =  271, loss = 0.8816)\n",
      "Saving model (epoch =  277, loss = 0.8815)\n",
      "Saving model (epoch =  284, loss = 0.8815)\n",
      "Saving model (epoch =  291, loss = 0.8810)\n",
      "Saving model (epoch =  315, loss = 0.8807)\n",
      "Saving model (epoch =  321, loss = 0.8796)\n",
      "Saving model (epoch =  374, loss = 0.8795)\n",
      "Saving model (epoch =  380, loss = 0.8777)\n",
      "Saving model (epoch =  423, loss = 0.8774)\n",
      "Saving model (epoch =  447, loss = 0.8772)\n",
      "Saving model (epoch =  466, loss = 0.8749)\n",
      "Finished training after 667 epochs\n"
     ]
    }
   ],
   "source": [
    "model_loss, model_loss_record = train(tr_set, dv_set, model, config, device)"
   ]
  },
  {
   "cell_type": "markdown",
   "metadata": {},
   "source": [
    "- 93dim: 0.7537\n",
    "- 45dim: 0.8749"
   ]
  },
  {
   "cell_type": "code",
   "execution_count": 38,
   "metadata": {
    "ExecuteTime": {
     "end_time": "2021-05-18T05:52:00.747774Z",
     "start_time": "2021-05-18T05:52:00.606766Z"
    },
    "colab": {
     "base_uri": "https://localhost:8080/",
     "height": 295
    },
    "id": "hsNO9nnXQBvP",
    "outputId": "1626def6-94c7-4a87-9447-d939f827c8eb"
   },
   "outputs": [
    {
     "data": {
      "image/png": "[encoded data removed]",
      "text/plain": [
       "<matplotlib.figure.Figure at 0x10684128>"
      ]
     },
     "metadata": {},
     "output_type": "display_data"
    }
   ],
   "source": [
    "plot_learning_curve(model_loss_record, title='deep model')"
   ]
  },
  {
   "cell_type": "code",
   "execution_count": 40,
   "metadata": {
    "ExecuteTime": {
     "end_time": "2021-05-18T05:53:28.337784Z",
     "start_time": "2021-05-18T05:53:28.182775Z"
    },
    "colab": {
     "base_uri": "https://localhost:8080/",
     "height": 350
    },
    "id": "3iZTVn5WQFpX",
    "outputId": "a2d5e118-559d-45c6-b644-6792af54663d"
   },
   "outputs": [
    {
     "data": {
      "image/png": "[encoded data removed]",
      "text/plain": [
       "<matplotlib.figure.Figure at 0x1196a438>"
      ]
     },
     "metadata": {},
     "output_type": "display_data"
    }
   ],
   "source": [
    "del model\n",
    "model = NeuralNet(tr_set.dataset.dim).to(device)\n",
    "ckpt = torch.load(config['save_path'], map_location='cpu')  # Load your best model\n",
    "model.load_state_dict(ckpt)\n",
    "plot_pred(dv_set, model, device)  # Show prediction on the validation set"
   ]
  },
  {
   "cell_type": "markdown",
   "metadata": {},
   "source": [
    "# **Test**"
   ]
  },
  {
   "cell_type": "code",
   "execution_count": 56,
   "metadata": {
    "ExecuteTime": {
     "end_time": "2021-05-18T05:59:04.537014Z",
     "start_time": "2021-05-18T05:59:04.495011Z"
    },
    "collapsed": true
   },
   "outputs": [],
   "source": [
    "class NeuralNet(nn.Module):\n",
    "    ''' A simple fully-connected deep neural network '''\n",
    "    def __init__(self, input_dim):\n",
    "        super(NeuralNet, self).__init__()\n",
    "\n",
    "        # Define your neural network here\n",
    "        # TODO: How to modify this model to achieve better performance?\n",
    "        self.net = nn.Sequential(\n",
    "            nn.Linear(input_dim, 64),\n",
    "            nn.ReLU(),\n",
    "            nn.Linear(64, 1)\n",
    "        )\n",
    "\n",
    "        # Mean squared error loss\n",
    "        self.criterion = nn.MSELoss(reduction='mean')\n",
    "\n",
    "    def forward(self, x):\n",
    "        ''' Given input of size (batch_size x input_dim), compute output of the network '''\n",
    "        return self.net(x).squeeze(1)\n",
    "\n",
    "    def cal_loss(self, pred, target):\n",
    "        ''' Calculate loss '''\n",
    "        # TODO: you may implement L2 regularization here\n",
    "        return torch.sqrt(self.criterion(pred, target))"
   ]
  },
  {
   "cell_type": "code",
   "execution_count": 124,
   "metadata": {
    "ExecuteTime": {
     "end_time": "2021-05-18T06:47:33.448394Z",
     "start_time": "2021-05-18T06:47:33.432393Z"
    },
    "collapsed": true
   },
   "outputs": [],
   "source": [
    "device = get_device()                 # get the current available device ('cpu' or 'cuda')\n",
    "os.makedirs('models', exist_ok=True)  # The trained model will be saved to ./models/\n",
    "target_only = False                   # TODO: Using 40 states & 2 tested_positive features\n",
    "\n",
    "# TODO: How to tune these hyper-parameters to improve your model's performance?\n",
    "config = {\n",
    "    'n_epochs': 3000,                # maximum number of epochs\n",
    "    'batch_size': 270,               # mini-batch size for dataloader\n",
    "    'optimizer': 'SGD',              # optimization algorithm (optimizer in torch.optim)\n",
    "    'optim_hparas': {                # hyper-parameters for the optimizer (depends on which optimizer you are using)\n",
    "        'lr': 0.005,                 # learning rate of SGD\n",
    "        'momentum': 0.5,            # momentum for SGD\n",
    "#         'weight_decay':0.05\n",
    "    },\n",
    "    'early_stop': 200,               # early stopping epochs (the number epochs since your model's last improvement)\n",
    "    'save_path': 'models/model.pth'  # your model will be saved here\n",
    "}"
   ]
  },
  {
   "cell_type": "code",
   "execution_count": 129,
   "metadata": {
    "ExecuteTime": {
     "end_time": "2021-05-18T06:54:33.346411Z",
     "start_time": "2021-05-18T06:54:33.337410Z"
    }
   },
   "outputs": [],
   "source": [
    "model = NeuralNet(tr_set.dataset.dim).to(device)  # Construct model and move to device"
   ]
  },
  {
   "cell_type": "code",
   "execution_count": 130,
   "metadata": {
    "ExecuteTime": {
     "end_time": "2021-05-18T06:54:58.800867Z",
     "start_time": "2021-05-18T06:54:33.715432Z"
    }
   },
   "outputs": [
    {
     "name": "stdout",
     "output_type": "stream",
     "text": [
      "Saving model (epoch =    1, loss = 17.9885)\n",
      "Saving model (epoch =    2, loss = 17.8228)\n",
      "Saving model (epoch =    3, loss = 17.6475)\n",
      "Saving model (epoch =    4, loss = 17.4577)\n",
      "Saving model (epoch =    5, loss = 17.2476)\n",
      "Saving model (epoch =    6, loss = 17.0066)\n",
      "Saving model (epoch =    7, loss = 16.7240)\n",
      "Saving model (epoch =    8, loss = 16.3932)\n",
      "Saving model (epoch =    9, loss = 15.9966)\n",
      "Saving model (epoch =   10, loss = 15.5191)\n",
      "Saving model (epoch =   11, loss = 14.9423)\n",
      "Saving model (epoch =   12, loss = 14.2453)\n",
      "Saving model (epoch =   13, loss = 13.4083)\n",
      "Saving model (epoch =   14, loss = 12.4406)\n",
      "Saving model (epoch =   15, loss = 11.3492)\n",
      "Saving model (epoch =   16, loss = 10.1954)\n",
      "Saving model (epoch =   17, loss = 9.1166)\n",
      "Saving model (epoch =   18, loss = 8.2338)\n",
      "Saving model (epoch =   19, loss = 7.6272)\n",
      "Saving model (epoch =   20, loss = 7.2275)\n",
      "Saving model (epoch =   21, loss = 6.9175)\n",
      "Saving model (epoch =   22, loss = 6.6156)\n",
      "Saving model (epoch =   23, loss = 6.2875)\n",
      "Saving model (epoch =   24, loss = 5.9182)\n",
      "Saving model (epoch =   25, loss = 5.4955)\n",
      "Saving model (epoch =   26, loss = 5.0184)\n",
      "Saving model (epoch =   27, loss = 4.5050)\n",
      "Saving model (epoch =   28, loss = 3.9761)\n",
      "Saving model (epoch =   29, loss = 3.4862)\n",
      "Saving model (epoch =   30, loss = 3.0698)\n",
      "Saving model (epoch =   31, loss = 2.7243)\n",
      "Saving model (epoch =   32, loss = 2.4287)\n",
      "Saving model (epoch =   33, loss = 2.1799)\n",
      "Saving model (epoch =   34, loss = 1.9698)\n",
      "Saving model (epoch =   35, loss = 1.7948)\n",
      "Saving model (epoch =   36, loss = 1.6534)\n",
      "Saving model (epoch =   37, loss = 1.5441)\n",
      "Saving model (epoch =   38, loss = 1.4574)\n",
      "Saving model (epoch =   39, loss = 1.3925)\n",
      "Saving model (epoch =   40, loss = 1.3359)\n",
      "Saving model (epoch =   41, loss = 1.2958)\n",
      "Saving model (epoch =   42, loss = 1.2616)\n",
      "Saving model (epoch =   43, loss = 1.2354)\n",
      "Saving model (epoch =   44, loss = 1.2161)\n",
      "Saving model (epoch =   45, loss = 1.1998)\n",
      "Saving model (epoch =   46, loss = 1.1841)\n",
      "Saving model (epoch =   47, loss = 1.1752)\n",
      "Saving model (epoch =   48, loss = 1.1640)\n",
      "Saving model (epoch =   49, loss = 1.1535)\n",
      "Saving model (epoch =   50, loss = 1.1476)\n",
      "Saving model (epoch =   51, loss = 1.1424)\n",
      "Saving model (epoch =   52, loss = 1.1329)\n",
      "Saving model (epoch =   53, loss = 1.1240)\n",
      "Saving model (epoch =   54, loss = 1.1194)\n",
      "Saving model (epoch =   55, loss = 1.1165)\n",
      "Saving model (epoch =   56, loss = 1.1099)\n",
      "Saving model (epoch =   57, loss = 1.1049)\n",
      "Saving model (epoch =   58, loss = 1.1005)\n",
      "Saving model (epoch =   59, loss = 1.0968)\n",
      "Saving model (epoch =   60, loss = 1.0951)\n",
      "Saving model (epoch =   61, loss = 1.0898)\n",
      "Saving model (epoch =   62, loss = 1.0849)\n",
      "Saving model (epoch =   63, loss = 1.0823)\n",
      "Saving model (epoch =   64, loss = 1.0755)\n",
      "Saving model (epoch =   65, loss = 1.0741)\n",
      "Saving model (epoch =   66, loss = 1.0728)\n",
      "Saving model (epoch =   67, loss = 1.0693)\n",
      "Saving model (epoch =   68, loss = 1.0667)\n",
      "Saving model (epoch =   69, loss = 1.0621)\n",
      "Saving model (epoch =   70, loss = 1.0590)\n",
      "Saving model (epoch =   71, loss = 1.0589)\n",
      "Saving model (epoch =   72, loss = 1.0547)\n",
      "Saving model (epoch =   73, loss = 1.0526)\n",
      "Saving model (epoch =   74, loss = 1.0514)\n",
      "Saving model (epoch =   75, loss = 1.0487)\n",
      "Saving model (epoch =   76, loss = 1.0431)\n",
      "Saving model (epoch =   77, loss = 1.0422)\n",
      "Saving model (epoch =   78, loss = 1.0414)\n",
      "Saving model (epoch =   79, loss = 1.0405)\n",
      "Saving model (epoch =   80, loss = 1.0358)\n",
      "Saving model (epoch =   81, loss = 1.0340)\n",
      "Saving model (epoch =   83, loss = 1.0306)\n",
      "Saving model (epoch =   85, loss = 1.0260)\n",
      "Saving model (epoch =   86, loss = 1.0228)\n",
      "Saving model (epoch =   87, loss = 1.0210)\n",
      "Saving model (epoch =   89, loss = 1.0210)\n",
      "Saving model (epoch =   90, loss = 1.0165)\n",
      "Saving model (epoch =   93, loss = 1.0131)\n",
      "Saving model (epoch =   94, loss = 1.0111)\n",
      "Saving model (epoch =   95, loss = 1.0110)\n",
      "Saving model (epoch =   96, loss = 1.0099)\n",
      "Saving model (epoch =   97, loss = 1.0078)\n",
      "Saving model (epoch =   98, loss = 1.0064)\n",
      "Saving model (epoch =   99, loss = 1.0028)\n",
      "Saving model (epoch =  102, loss = 1.0011)\n",
      "Saving model (epoch =  103, loss = 0.9985)\n",
      "Saving model (epoch =  104, loss = 0.9973)\n",
      "Saving model (epoch =  107, loss = 0.9968)\n",
      "Saving model (epoch =  108, loss = 0.9926)\n",
      "Saving model (epoch =  112, loss = 0.9903)\n",
      "Saving model (epoch =  113, loss = 0.9887)\n",
      "Saving model (epoch =  114, loss = 0.9878)\n",
      "Saving model (epoch =  115, loss = 0.9868)\n",
      "Saving model (epoch =  116, loss = 0.9843)\n",
      "Saving model (epoch =  118, loss = 0.9826)\n",
      "Saving model (epoch =  123, loss = 0.9797)\n",
      "Saving model (epoch =  126, loss = 0.9782)\n",
      "Saving model (epoch =  127, loss = 0.9770)\n",
      "Saving model (epoch =  128, loss = 0.9767)\n",
      "Saving model (epoch =  129, loss = 0.9742)\n",
      "Saving model (epoch =  132, loss = 0.9738)\n",
      "Saving model (epoch =  134, loss = 0.9729)\n",
      "Saving model (epoch =  135, loss = 0.9716)\n",
      "Saving model (epoch =  136, loss = 0.9702)\n",
      "Saving model (epoch =  137, loss = 0.9696)\n",
      "Saving model (epoch =  138, loss = 0.9684)\n",
      "Saving model (epoch =  142, loss = 0.9661)\n",
      "Saving model (epoch =  147, loss = 0.9651)\n",
      "Saving model (epoch =  148, loss = 0.9651)\n",
      "Saving model (epoch =  149, loss = 0.9627)\n",
      "Saving model (epoch =  151, loss = 0.9626)\n",
      "Saving model (epoch =  155, loss = 0.9621)\n",
      "Saving model (epoch =  156, loss = 0.9605)\n",
      "Saving model (epoch =  160, loss = 0.9604)\n",
      "Saving model (epoch =  164, loss = 0.9587)\n",
      "Saving model (epoch =  165, loss = 0.9571)\n",
      "Saving model (epoch =  166, loss = 0.9566)\n",
      "Saving model (epoch =  170, loss = 0.9560)\n",
      "Saving model (epoch =  172, loss = 0.9554)\n",
      "Saving model (epoch =  174, loss = 0.9553)\n",
      "Saving model (epoch =  175, loss = 0.9541)\n",
      "Saving model (epoch =  176, loss = 0.9538)\n",
      "Saving model (epoch =  180, loss = 0.9533)\n",
      "Saving model (epoch =  182, loss = 0.9522)\n",
      "Saving model (epoch =  184, loss = 0.9503)\n",
      "Saving model (epoch =  196, loss = 0.9494)\n",
      "Saving model (epoch =  199, loss = 0.9488)\n",
      "Saving model (epoch =  205, loss = 0.9479)\n",
      "Saving model (epoch =  206, loss = 0.9473)\n",
      "Saving model (epoch =  208, loss = 0.9473)\n",
      "Saving model (epoch =  209, loss = 0.9472)\n",
      "Saving model (epoch =  211, loss = 0.9469)\n",
      "Saving model (epoch =  216, loss = 0.9456)\n",
      "Saving model (epoch =  222, loss = 0.9442)\n",
      "Saving model (epoch =  225, loss = 0.9440)\n",
      "Saving model (epoch =  235, loss = 0.9440)\n",
      "Saving model (epoch =  241, loss = 0.9439)\n",
      "Saving model (epoch =  243, loss = 0.9421)\n",
      "Saving model (epoch =  245, loss = 0.9415)\n",
      "Saving model (epoch =  259, loss = 0.9409)\n",
      "Saving model (epoch =  260, loss = 0.9409)\n",
      "Saving model (epoch =  267, loss = 0.9407)\n",
      "Saving model (epoch =  279, loss = 0.9407)\n",
      "Saving model (epoch =  281, loss = 0.9404)\n",
      "Saving model (epoch =  288, loss = 0.9394)\n",
      "Saving model (epoch =  298, loss = 0.9391)\n",
      "Saving model (epoch =  299, loss = 0.9389)\n",
      "Saving model (epoch =  305, loss = 0.9388)\n",
      "Saving model (epoch =  315, loss = 0.9382)\n",
      "Saving model (epoch =  322, loss = 0.9378)\n",
      "Saving model (epoch =  332, loss = 0.9377)\n",
      "Saving model (epoch =  334, loss = 0.9371)\n",
      "Saving model (epoch =  337, loss = 0.9366)\n",
      "Saving model (epoch =  426, loss = 0.9361)\n",
      "Saving model (epoch =  456, loss = 0.9357)\n",
      "Saving model (epoch =  472, loss = 0.9355)\n",
      "Saving model (epoch =  545, loss = 0.9354)\n",
      "Saving model (epoch =  670, loss = 0.9351)\n",
      "Finished training after 871 epochs\n"
     ]
    }
   ],
   "source": [
    "model_loss, model_loss_record = train(tr_set, dv_set, model, config, device)"
   ]
  },
  {
   "cell_type": "markdown",
   "metadata": {
    "collapsed": true
   },
   "source": [
    "- 93dim : 0.8559\n",
    "- 45dim : 0.9358 (lr :0.001,momentun:0.9)\n",
    "- 45dim : 0.9369 (lr :0.001,momentun:0.8)\n",
    "- 45dim : 0.0.9349 (lr :0.005,momentun:0.5)\n",
    "- 45dim : 0.9340 (lr :0.005,momentun:0.8)\n",
    "- 45dim : 0.9329 (lr :0.008,momentun:0.7)\n",
    "- 45dim : 0.9329 (lr :0.008,momentun:0.65)\n",
    "- 45dim : 0.9297 (lr :0.008,momentun:0.6)\n",
    "- 45dim : 0.9268 (lr :0.008,momentun:0.6)\n",
    "- 45dim : 0.9315 (lr :0.008,momentun:0.55)\n",
    "- 45dim : 0.9324 (lr :0.008,momentun:0.5)\n",
    "- 45dim : 0.9319 (lr :0.008,momentun:0.4)\n"
   ]
  },
  {
   "cell_type": "code",
   "execution_count": 131,
   "metadata": {
    "ExecuteTime": {
     "end_time": "2021-05-18T06:55:01.881043Z",
     "start_time": "2021-05-18T06:55:01.700033Z"
    }
   },
   "outputs": [
    {
     "data": {
      "image/png": "[encoded data removed]",
      "text/plain": [
       "<matplotlib.figure.Figure at 0x10668e10>"
      ]
     },
     "metadata": {},
     "output_type": "display_data"
    }
   ],
   "source": [
    "plot_learning_curve(model_loss_record, title='deep model')"
   ]
  },
  {
   "cell_type": "code",
   "execution_count": 132,
   "metadata": {
    "ExecuteTime": {
     "end_time": "2021-05-18T06:55:02.765094Z",
     "start_time": "2021-05-18T06:55:02.633086Z"
    }
   },
   "outputs": [
    {
     "data": {
      "image/png": "[encoded data removed]",
      "text/plain": [
       "<matplotlib.figure.Figure at 0x10668eb8>"
      ]
     },
     "metadata": {},
     "output_type": "display_data"
    }
   ],
   "source": [
    "del model\n",
    "model = NeuralNet(tr_set.dataset.dim).to(device)\n",
    "ckpt = torch.load(config['save_path'], map_location='cpu')  # Load your best model\n",
    "model.load_state_dict(ckpt)\n",
    "plot_pred(dv_set, model, device)  # Show prediction on the validation set"
   ]
  },
  {
   "cell_type": "code",
   "execution_count": null,
   "metadata": {
    "collapsed": true
   },
   "outputs": [],
   "source": []
  },
  {
   "cell_type": "code",
   "execution_count": null,
   "metadata": {
    "collapsed": true
   },
   "outputs": [],
   "source": []
  },
  {
   "cell_type": "code",
   "execution_count": null,
   "metadata": {
    "collapsed": true
   },
   "outputs": [],
   "source": []
  },
  {
   "cell_type": "code",
   "execution_count": null,
   "metadata": {
    "collapsed": true
   },
   "outputs": [],
   "source": []
  },
  {
   "cell_type": "code",
   "execution_count": null,
   "metadata": {
    "collapsed": true
   },
   "outputs": [],
   "source": []
  },
  {
   "cell_type": "markdown",
   "metadata": {
    "id": "aQikz3IPiyPf"
   },
   "source": [
    "# **Testing**\n",
    "The predictions of your model on testing set will be stored at `pred.csv`."
   ]
  },
  {
   "cell_type": "code",
   "execution_count": 133,
   "metadata": {
    "ExecuteTime": {
     "end_time": "2021-05-18T06:55:15.074798Z",
     "start_time": "2021-05-18T06:55:15.007794Z"
    },
    "colab": {
     "base_uri": "https://localhost:8080/"
    },
    "id": "O8cTuQjQQOon",
    "outputId": "6bc5de07-4c5a-4e87-9ae3-d09f539c5f2c"
   },
   "outputs": [
    {
     "name": "stdout",
     "output_type": "stream",
     "text": [
      "Saving results to F:\\study\\ml\\HonyiLee2021\\Lhy_Machine_Learning-main\\01 Introduction\\dataset\\pred_5feates_mu_std7.csv\n"
     ]
    }
   ],
   "source": [
    "def save_pred(preds, file):\n",
    "    ''' Save predictions to specified file '''\n",
    "    print('Saving results to {}'.format(file))\n",
    "    with open(file, 'w') as fp:\n",
    "        writer = csv.writer(fp)\n",
    "        writer.writerow(['id', 'tested_positive'])\n",
    "        for i, p in enumerate(preds):\n",
    "            writer.writerow([i, p])\n",
    "\n",
    "preds = test(tt_set, model, device)  # predict COVID-19 cases with your model\n",
    "save_pred(preds, r'F:\\study\\ml\\HonyiLee2021\\Lhy_Machine_Learning-main\\01 Introduction\\dataset\\pred_5feates_mu_std7.csv')         # save prediction file to pred.csv"
   ]
  },
  {
   "cell_type": "markdown",
   "metadata": {
    "id": "nfrVxqJanGpE"
   },
   "source": [
    "# **Hints**\n",
    "\n",
    "## **Simple Baseline**\n",
    "* Run sample code\n",
    "\n",
    "## **Medium Baseline**\n",
    "* Feature selection: 40 states + 2 `tested_positive` (`TODO` in dataset)\n",
    "\n",
    "## **Strong Baseline**\n",
    "* Feature selection (what other features are useful?)\n",
    "* DNN architecture (layers? dimension? activation function?)\n",
    "* Training (mini-batch? optimizer? learning rate?)\n",
    "* L2 regularization\n",
    "* There are some mistakes in the sample code, can you find them?"
   ]
  },
  {
   "cell_type": "markdown",
   "metadata": {
    "id": "9tmCwXgpot3t"
   },
   "source": [
    "# **Reference**\n",
    "This code is completely written by Heng-Jui Chang @ NTUEE.  \n",
    "Copying or reusing this code is required to specify the original author. \n",
    "\n",
    "E.g.  \n",
    "Source: Heng-Jui Chang @ NTUEE (https://github.com/ga642381/ML2021-Spring/blob/main/HW01/HW01.ipynb)\n"
   ]
  }
 ],
 "metadata": {
  "accelerator": "GPU",
  "colab": {
   "collapsed_sections": [],
   "name": "ML2021Spring - HW1.ipynb",
   "provenance": [],
   "toc_visible": true
  },
  "kernelspec": {
   "display_name": "Python 3",
   "language": "python",
   "name": "python3"
  },
  "language_info": {
   "codemirror_mode": {
    "name": "ipython",
    "version": 3
   },
   "file_extension": ".py",
   "mimetype": "text/x-python",
   "name": "python",
   "nbconvert_exporter": "python",
   "pygments_lexer": "ipython3",
   "version": "3.6.3"
  }
 },
 "nbformat": 4,
 "nbformat_minor": 1
}
