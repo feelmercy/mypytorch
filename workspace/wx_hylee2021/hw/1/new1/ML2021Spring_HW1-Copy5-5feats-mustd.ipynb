{
 "cells": [
  {
   "cell_type": "markdown",
   "metadata": {
    "id": "mz0_QVkxCrX3"
   },
   "source": [
    "# **Homework 1: COVID-19 Cases Prediction (Regression)**"
   ]
  },
  {
   "cell_type": "markdown",
   "metadata": {
    "id": "ZeZnPAiwDRWG"
   },
   "source": [
    "Author: Heng-Jui Chang\n",
    "\n",
    "Slides: https://github.com/ga642381/ML2021-Spring/blob/main/HW01/HW01.pdf  \n",
    "Video: TBA\n",
    "\n",
    "Objectives:\n",
    "* Solve a regression problem with deep neural networks (DNN).\n",
    "* Understand basic DNN training tips.\n",
    "* Get familiar with PyTorch.\n",
    "\n",
    "If any questions, please contact the TAs via TA hours, NTU COOL, or email.\n"
   ]
  },
  {
   "cell_type": "markdown",
   "metadata": {
    "id": "Jx3x1nDkG-Uy"
   },
   "source": [
    "# **Download Data**\n",
    "\n",
    "\n",
    "If the Google drive links are dead, you can download data from [kaggle](https://www.kaggle.com/c/ml2021spring-hw1/data), and upload data manually to the workspace."
   ]
  },
  {
   "cell_type": "code",
   "execution_count": 1,
   "metadata": {
    "ExecuteTime": {
     "end_time": "2021-05-18T03:12:18.977729Z",
     "start_time": "2021-05-18T03:12:18.874723Z"
    },
    "colab": {
     "base_uri": "https://localhost:8080/"
    },
    "id": "tMj55YDKG6ch",
    "outputId": "fc40ecc9-4756-48b1-d5c6-c169a8b453b2"
   },
   "outputs": [
    {
     "name": "stderr",
     "output_type": "stream",
     "text": [
      "'gdown' 不是内部或外部命令，也不是可运行的程序\n",
      "或批处理文件。\n",
      "'gdown' 不是内部或外部命令，也不是可运行的程序\n",
      "或批处理文件。\n"
     ]
    }
   ],
   "source": [
    "tr_path = r'F:\\study\\ml\\HonyiLee2021\\Lhy_Machine_Learning-main\\01 Introduction\\dataset\\covid.train.csv'  # path to training data\n",
    "tt_path = r'F:\\study\\ml\\HonyiLee2021\\Lhy_Machine_Learning-main\\01 Introduction\\dataset\\covid.test.csv'   # path to testing data\n",
    "\n",
    "!gdown --id '19CCyCgJrUxtvgZF53vnctJiOJ23T5mqF' --output covid.train.csv\n",
    "!gdown --id '1CE240jLm2npU-tdz81-oVKEF3T2yfT1O' --output covid.test.csv"
   ]
  },
  {
   "cell_type": "markdown",
   "metadata": {
    "id": "wS_4-77xHk44"
   },
   "source": [
    "# **Import Some Packages**"
   ]
  },
  {
   "cell_type": "code",
   "execution_count": 74,
   "metadata": {
    "ExecuteTime": {
     "end_time": "2021-05-18T05:19:51.649436Z",
     "start_time": "2021-05-18T05:19:51.622435Z"
    },
    "collapsed": true,
    "id": "k-onQd4JNA5H"
   },
   "outputs": [],
   "source": [
    "# PyTorch\n",
    "import torch\n",
    "import torch.nn as nn\n",
    "from torch.utils.data import Dataset, DataLoader\n",
    "\n",
    "# For data preprocess\n",
    "import numpy as np\n",
    "import csv\n",
    "import os\n",
    "\n",
    "# For plotting\n",
    "import matplotlib.pyplot as plt\n",
    "from matplotlib.pyplot import figure\n",
    "\n",
    "myseed = 42069  # set a random seed for reproducibility\n",
    "torch.backends.cudnn.deterministic = True\n",
    "torch.backends.cudnn.benchmark = False\n",
    "np.random.seed(myseed)\n",
    "torch.manual_seed(myseed)\n",
    "if torch.cuda.is_available():\n",
    "    torch.cuda.manual_seed_all(myseed)"
   ]
  },
  {
   "cell_type": "markdown",
   "metadata": {
    "id": "BtE3b6JEH7rw"
   },
   "source": [
    "# **Some Utilities**\n",
    "\n",
    "You do not need to modify this part."
   ]
  },
  {
   "cell_type": "code",
   "execution_count": 75,
   "metadata": {
    "ExecuteTime": {
     "end_time": "2021-05-18T05:19:52.861506Z",
     "start_time": "2021-05-18T05:19:52.756500Z"
    },
    "collapsed": true,
    "id": "FWMT3uf1NGQp"
   },
   "outputs": [],
   "source": [
    "def get_device():\n",
    "    ''' Get device (if GPU is available, use GPU) '''\n",
    "    return 'cuda' if torch.cuda.is_available() else 'cpu'\n",
    "\n",
    "def plot_learning_curve(loss_record, title=''):\n",
    "    ''' Plot learning curve of your DNN (train & dev loss) '''\n",
    "    total_steps = len(loss_record['train'])\n",
    "    x_1 = range(total_steps)\n",
    "    x_2 = x_1[::len(loss_record['train']) // len(loss_record['dev'])]\n",
    "    figure(figsize=(6, 4))\n",
    "    plt.plot(x_1, loss_record['train'], c='tab:red', label='train')\n",
    "    plt.plot(x_2, loss_record['dev'], c='tab:cyan', label='dev')\n",
    "    plt.ylim(0.0, 5.)\n",
    "    plt.xlabel('Training steps')\n",
    "    plt.ylabel('MSE loss')\n",
    "    plt.title('Learning curve of {}'.format(title))\n",
    "    plt.legend()\n",
    "    plt.show()\n",
    "\n",
    "\n",
    "def plot_pred(dv_set, model, device, lim=35., preds=None, targets=None):\n",
    "    ''' Plot prediction of your DNN '''\n",
    "    if preds is None or targets is None:\n",
    "        model.eval()\n",
    "        preds, targets = [], []\n",
    "        for x, y in dv_set:\n",
    "            x, y = x.to(device), y.to(device)\n",
    "            with torch.no_grad():\n",
    "                pred = model(x)\n",
    "                preds.append(pred.detach().cpu())\n",
    "                targets.append(y.detach().cpu())\n",
    "        preds = torch.cat(preds, dim=0).numpy()\n",
    "        targets = torch.cat(targets, dim=0).numpy()\n",
    "\n",
    "    figure(figsize=(5, 5))\n",
    "    plt.scatter(targets, preds, c='r', alpha=0.5)\n",
    "    plt.plot([-0.2, lim], [-0.2, lim], c='b')\n",
    "    plt.xlim(-0.2, lim)\n",
    "    plt.ylim(-0.2, lim)\n",
    "    plt.xlabel('ground truth value')\n",
    "    plt.ylabel('predicted value')\n",
    "    plt.title('Ground Truth v.s. Prediction')\n",
    "    plt.show()"
   ]
  },
  {
   "cell_type": "markdown",
   "metadata": {
    "id": "39U_XFX6KOoj"
   },
   "source": [
    "# **Preprocess**\n",
    "\n",
    "We have three kinds of datasets:\n",
    "* `train`: for training\n",
    "* `dev`: for validation\n",
    "* `test`: for testing (w/o target value)"
   ]
  },
  {
   "cell_type": "markdown",
   "metadata": {
    "id": "TQ-MdwpLL7Dt"
   },
   "source": [
    "## **Dataset**\n",
    "\n",
    "The `COVID19Dataset` below does:\n",
    "* read `.csv` files\n",
    "* extract features\n",
    "* split `covid.train.csv` into train/dev sets\n",
    "* normalize features\n",
    "\n",
    "Finishing `TODO` below might make you pass medium baseline."
   ]
  },
  {
   "cell_type": "code",
   "execution_count": 102,
   "metadata": {
    "ExecuteTime": {
     "end_time": "2021-05-18T05:30:03.800449Z",
     "start_time": "2021-05-18T05:30:03.655441Z"
    },
    "collapsed": true,
    "id": "0zlpIp9ANJRU"
   },
   "outputs": [],
   "source": [
    "class COVID19Dataset(Dataset):\n",
    "    ''' Dataset for loading and preprocessing the COVID19 dataset '''\n",
    "    def __init__(self,\n",
    "                 path,\n",
    "                 mu,\n",
    "                 std,\n",
    "                 mode='train',\n",
    "                 target_only=False):\n",
    "        self.mode = mode\n",
    "\n",
    "        # Read data into numpy arrays\n",
    "        with open(path, 'r') as fp:\n",
    "            data = list(csv.reader(fp))\n",
    "            data = np.array(data[1:])[:, 1:].astype(float)\n",
    "        \n",
    "        if not target_only:\n",
    "#             feats = list(range(93))\n",
    "            feats=list(range(40))+[42, 57, 60, 75, 78]  ## > 0.85\n",
    "#             feats=list(range(40))+[57, 75]\n",
    "        else:\n",
    "            # TODO: Using 40 states & 2 tested_positive features (indices = 57 & 75)\n",
    "            pass\n",
    "\n",
    "        if mode == 'test':\n",
    "            # Testing data\n",
    "            # data: 893 x 93 (40 states + day 1 (18) + day 2 (18) + day 3 (17))\n",
    "            data = data[:, feats]\n",
    "            self.data = torch.FloatTensor(data)\n",
    "        else:\n",
    "            # Training data (train/dev sets)\n",
    "            # data: 2700 x 94 (40 states + day 1 (18) + day 2 (18) + day 3 (18))\n",
    "            target = data[:, -1]\n",
    "            data = data[:, feats]\n",
    "            \n",
    "            # Splitting training data into train & dev sets\n",
    "            \n",
    "            if mode == 'train':\n",
    "                indices = [i for i in range(len(data)) if i % 10 != 0]\n",
    "            elif mode == 'dev':\n",
    "                indices = [i for i in range(len(data)) if i % 10 == 0]\n",
    "            \n",
    "            # Convert data into PyTorch tensors\n",
    "            self.data = torch.FloatTensor(data[indices])\n",
    "            self.target = torch.FloatTensor(target[indices])\n",
    "\n",
    "        # Normalize features (you may remove this part to see what will happen)\n",
    "        if mode=='train':\n",
    "            self.mu=self.data[:,40:].mean(dim=0,keepdim=True)\n",
    "            self.std=self.data[:,40:].std(dim=0,keepdim=True)\n",
    "        else:\n",
    "            self.mu=mu\n",
    "            self.std=std\n",
    "        self.data[:,40:]=(self.data[:,40:]-self.mu)/self.std\n",
    "        \n",
    "#         self.data[:, 40:] = \\\n",
    "#             (self.data[:, 40:] - self.data[:, 40:].mean(dim=0, keepdim=True)) \\\n",
    "#             / self.data[:, 40:].std(dim=0, keepdim=True)\n",
    "\n",
    "        self.dim = self.data.shape[1]\n",
    "\n",
    "        print('Finished reading the {} set of COVID19 Dataset ({} samples found, each dim = {})'\n",
    "              .format(mode, len(self.data), self.dim))\n",
    "\n",
    "    def __getitem__(self, index):\n",
    "        # Returns one sample at a time\n",
    "        if self.mode in ['train', 'dev']:\n",
    "            # For training\n",
    "            return self.data[index], self.target[index]\n",
    "        else:\n",
    "            # For testing (no target)\n",
    "            return self.data[index]\n",
    "\n",
    "    def __len__(self):\n",
    "        # Returns the size of the dataset\n",
    "        return len(self.data)"
   ]
  },
  {
   "cell_type": "markdown",
   "metadata": {
    "id": "AlhTlkE7MDo3"
   },
   "source": [
    "## **DataLoader**\n",
    "\n",
    "A `DataLoader` loads data from a given `Dataset` into batches.\n"
   ]
  },
  {
   "cell_type": "code",
   "execution_count": 103,
   "metadata": {
    "ExecuteTime": {
     "end_time": "2021-05-18T05:30:04.974517Z",
     "start_time": "2021-05-18T05:30:04.959516Z"
    },
    "collapsed": true,
    "id": "hlhLk5t6MBX3"
   },
   "outputs": [],
   "source": [
    "def prep_dataloader(path, mode, batch_size, n_jobs=0, target_only=False,mu=None,std=None):\n",
    "    ''' Generates a dataset, then is put into a dataloader. '''\n",
    "    dataset = COVID19Dataset(path, mu,std,mode=mode, target_only=target_only)  # Construct dataset\n",
    "    if mode=='train':\n",
    "        mu=dataset.mu\n",
    "        std=dataset.std\n",
    "    dataloader = DataLoader(\n",
    "        dataset, batch_size,\n",
    "        shuffle=(mode == 'train'), drop_last=False,\n",
    "        num_workers=n_jobs, pin_memory=True)                            # Construct dataloader\n",
    "    return dataloader,mu,std"
   ]
  },
  {
   "cell_type": "markdown",
   "metadata": {
    "id": "SGuycwR0MeQB"
   },
   "source": [
    "# **Deep Neural Network**\n",
    "\n",
    "`NeuralNet` is an `nn.Module` designed for regression.\n",
    "The DNN consists of 2 fully-connected layers with ReLU activation.\n",
    "This module also included a function `cal_loss` for calculating loss.\n"
   ]
  },
  {
   "cell_type": "code",
   "execution_count": 104,
   "metadata": {
    "ExecuteTime": {
     "end_time": "2021-05-18T05:30:06.295592Z",
     "start_time": "2021-05-18T05:30:06.256590Z"
    },
    "collapsed": true,
    "id": "49-uXYovOAI0"
   },
   "outputs": [],
   "source": [
    "class NeuralNet(nn.Module):\n",
    "    ''' A simple fully-connected deep neural network '''\n",
    "    def __init__(self, input_dim):\n",
    "        super(NeuralNet, self).__init__()\n",
    "\n",
    "        # Define your neural network here\n",
    "        # TODO: How to modify this model to achieve better performance?\n",
    "        self.net = nn.Sequential(\n",
    "            nn.Linear(input_dim, 64),\n",
    "            nn.ReLU(),\n",
    "            nn.Linear(64, 1)\n",
    "        )\n",
    "\n",
    "        # Mean squared error loss\n",
    "        self.criterion = nn.MSELoss(reduction='mean')\n",
    "\n",
    "    def forward(self, x):\n",
    "        ''' Given input of size (batch_size x input_dim), compute output of the network '''\n",
    "        return self.net(x).squeeze(1)\n",
    "\n",
    "    def cal_loss(self, pred, target):\n",
    "        ''' Calculate loss '''\n",
    "        # TODO: you may implement L2 regularization here\n",
    "        return self.criterion(pred, target)"
   ]
  },
  {
   "cell_type": "markdown",
   "metadata": {
    "id": "DvFWVjZ5Nvga"
   },
   "source": [
    "# **Train/Dev/Test**"
   ]
  },
  {
   "cell_type": "markdown",
   "metadata": {
    "id": "MAM8QecJOyqn"
   },
   "source": [
    "## **Training**"
   ]
  },
  {
   "cell_type": "code",
   "execution_count": 105,
   "metadata": {
    "ExecuteTime": {
     "end_time": "2021-05-18T05:30:08.126697Z",
     "start_time": "2021-05-18T05:30:08.055693Z"
    },
    "collapsed": true,
    "id": "lOqcmYzMO7jB"
   },
   "outputs": [],
   "source": [
    "def train(tr_set, dv_set, model, config, device):\n",
    "    ''' DNN training '''\n",
    "\n",
    "    n_epochs = config['n_epochs']  # Maximum number of epochs\n",
    "\n",
    "    # Setup optimizer\n",
    "    optimizer = getattr(torch.optim, config['optimizer'])(\n",
    "        model.parameters(), **config['optim_hparas'])\n",
    "\n",
    "    min_mse = 1000.\n",
    "    loss_record = {'train': [], 'dev': []}      # for recording training loss\n",
    "    early_stop_cnt = 0\n",
    "    epoch = 0\n",
    "    while epoch < n_epochs:\n",
    "        model.train()                           # set model to training mode\n",
    "        for x, y in tr_set:                     # iterate through the dataloader\n",
    "            optimizer.zero_grad()               # set gradient to zero\n",
    "            x, y = x.to(device), y.to(device)   # move data to device (cpu/cuda)\n",
    "            pred = model(x)                     # forward pass (compute output)\n",
    "            mse_loss = model.cal_loss(pred, y)  # compute loss\n",
    "            mse_loss.backward()                 # compute gradient (backpropagation)\n",
    "            optimizer.step()                    # update model with optimizer\n",
    "            loss_record['train'].append(mse_loss.detach().cpu().item())\n",
    "\n",
    "        # After each epoch, test your model on the validation (development) set.\n",
    "        dev_mse = dev(dv_set, model, device)\n",
    "        if dev_mse < min_mse:\n",
    "            # Save model if your model improved\n",
    "            min_mse = dev_mse\n",
    "            print('Saving model (epoch = {:4d}, loss = {:.4f})'\n",
    "                .format(epoch + 1, min_mse))\n",
    "            torch.save(model.state_dict(), config['save_path'])  # Save model to specified path\n",
    "            early_stop_cnt = 0\n",
    "        else:\n",
    "            early_stop_cnt += 1\n",
    "\n",
    "        epoch += 1\n",
    "        loss_record['dev'].append(dev_mse)\n",
    "        if early_stop_cnt > config['early_stop']:\n",
    "            # Stop training if your model stops improving for \"config['early_stop']\" epochs.\n",
    "            break\n",
    "\n",
    "    print('Finished training after {} epochs'.format(epoch))\n",
    "    return min_mse, loss_record"
   ]
  },
  {
   "cell_type": "markdown",
   "metadata": {
    "id": "0hSd4Bn3O2PL"
   },
   "source": [
    "## **Validation**"
   ]
  },
  {
   "cell_type": "code",
   "execution_count": 106,
   "metadata": {
    "ExecuteTime": {
     "end_time": "2021-05-18T05:30:09.214759Z",
     "start_time": "2021-05-18T05:30:09.187758Z"
    },
    "collapsed": true,
    "id": "yrxrD3YsN3U2"
   },
   "outputs": [],
   "source": [
    "def dev(dv_set, model, device):\n",
    "    model.eval()                                # set model to evalutation mode\n",
    "    total_loss = 0\n",
    "    for x, y in dv_set:                         # iterate through the dataloader\n",
    "        x, y = x.to(device), y.to(device)       # move data to device (cpu/cuda)\n",
    "        with torch.no_grad():                   # disable gradient calculation\n",
    "            pred = model(x)                     # forward pass (compute output)\n",
    "            mse_loss = model.cal_loss(pred, y)  # compute loss\n",
    "        total_loss += mse_loss.detach().cpu().item() * len(x)  # accumulate loss\n",
    "    total_loss = total_loss / len(dv_set.dataset)              # compute averaged loss\n",
    "\n",
    "    return total_loss"
   ]
  },
  {
   "cell_type": "markdown",
   "metadata": {
    "id": "g0pdrhQAO41L"
   },
   "source": [
    "## **Testing**"
   ]
  },
  {
   "cell_type": "code",
   "execution_count": 107,
   "metadata": {
    "ExecuteTime": {
     "end_time": "2021-05-18T05:30:10.222817Z",
     "start_time": "2021-05-18T05:30:10.196815Z"
    },
    "collapsed": true,
    "id": "aSBMRFlYN5tB"
   },
   "outputs": [],
   "source": [
    "def test(tt_set, model, device):\n",
    "    model.eval()                                # set model to evalutation mode\n",
    "    preds = []\n",
    "    for x in tt_set:                            # iterate through the dataloader\n",
    "        x = x.to(device)                        # move data to device (cpu/cuda)\n",
    "        with torch.no_grad():                   # disable gradient calculation\n",
    "            pred = model(x)                     # forward pass (compute output)\n",
    "            preds.append(pred.detach().cpu())   # collect prediction\n",
    "    preds = torch.cat(preds, dim=0).numpy()     # concatenate all predictions and convert to a numpy array\n",
    "    return preds"
   ]
  },
  {
   "cell_type": "markdown",
   "metadata": {
    "id": "SvckkF5dvf0j"
   },
   "source": [
    "# **Setup Hyper-parameters**\n",
    "\n",
    "`config` contains hyper-parameters for training and the path to save your model."
   ]
  },
  {
   "cell_type": "code",
   "execution_count": 108,
   "metadata": {
    "ExecuteTime": {
     "end_time": "2021-05-18T05:30:12.197930Z",
     "start_time": "2021-05-18T05:30:12.176929Z"
    },
    "collapsed": true,
    "id": "NPXpdumwPjE7"
   },
   "outputs": [],
   "source": [
    "device = get_device()                 # get the current available device ('cpu' or 'cuda')\n",
    "os.makedirs('models', exist_ok=True)  # The trained model will be saved to ./models/\n",
    "target_only = False                   # TODO: Using 40 states & 2 tested_positive features\n",
    "\n",
    "# TODO: How to tune these hyper-parameters to improve your model's performance?\n",
    "config = {\n",
    "    'n_epochs': 3000,                # maximum number of epochs\n",
    "    'batch_size': 270,               # mini-batch size for dataloader\n",
    "    'optimizer': 'SGD',              # optimization algorithm (optimizer in torch.optim)\n",
    "    'optim_hparas': {                # hyper-parameters for the optimizer (depends on which optimizer you are using)\n",
    "        'lr': 0.001,                 # learning rate of SGD\n",
    "        'momentum': 0.9              # momentum for SGD\n",
    "    },\n",
    "    'early_stop': 200,               # early stopping epochs (the number epochs since your model's last improvement)\n",
    "    'save_path': 'models/model.pth'  # your model will be saved here\n",
    "}"
   ]
  },
  {
   "cell_type": "markdown",
   "metadata": {
    "id": "6j1eOV3TOH-j"
   },
   "source": [
    "# **Load data and model**"
   ]
  },
  {
   "cell_type": "code",
   "execution_count": 109,
   "metadata": {
    "ExecuteTime": {
     "end_time": "2021-05-18T05:30:14.924086Z",
     "start_time": "2021-05-18T05:30:14.405056Z"
    },
    "colab": {
     "base_uri": "https://localhost:8080/"
    },
    "id": "eNrYBMmePLKm",
    "outputId": "fcd4f175-4f7e-4306-f33c-5f8285f11dce"
   },
   "outputs": [
    {
     "name": "stdout",
     "output_type": "stream",
     "text": [
      "Finished reading the train set of COVID19 Dataset (2430 samples found, each dim = 45)\n",
      "Finished reading the dev set of COVID19 Dataset (270 samples found, each dim = 45)\n",
      "Finished reading the test set of COVID19 Dataset (893 samples found, each dim = 45)\n"
     ]
    }
   ],
   "source": [
    "tr_set,tr_mu,tr_std = prep_dataloader(tr_path, 'train', config['batch_size'], target_only=target_only)\n",
    "dv_set,mu_none,std_none= prep_dataloader(tr_path, 'dev', config['batch_size'], target_only=target_only,mu=tr_mu,std=tr_std)\n",
    "tt_set,mu_none,std_none = prep_dataloader(tt_path, 'test', config['batch_size'], target_only=target_only,mu=tr_mu,std=tr_std)"
   ]
  },
  {
   "cell_type": "code",
   "execution_count": 110,
   "metadata": {
    "ExecuteTime": {
     "end_time": "2021-05-18T05:30:17.176214Z",
     "start_time": "2021-05-18T05:30:17.167214Z"
    },
    "collapsed": true,
    "id": "FHylSirLP9oh"
   },
   "outputs": [],
   "source": [
    "model = NeuralNet(tr_set.dataset.dim).to(device)  # Construct model and move to device"
   ]
  },
  {
   "cell_type": "markdown",
   "metadata": {
    "id": "sX2B_zgSOPTJ"
   },
   "source": [
    "# **Start Training!**"
   ]
  },
  {
   "cell_type": "markdown",
   "metadata": {},
   "source": [
    "- 93dim 0.7573\n"
   ]
  },
  {
   "cell_type": "code",
   "execution_count": 111,
   "metadata": {
    "ExecuteTime": {
     "end_time": "2021-05-18T05:30:40.869570Z",
     "start_time": "2021-05-18T05:30:21.255448Z"
    },
    "colab": {
     "base_uri": "https://localhost:8080/"
    },
    "id": "GrEbUxazQAAZ",
    "outputId": "f4f3bd74-2d97-4275-b69f-6609976b91f9",
    "scrolled": true
   },
   "outputs": [
    {
     "name": "stdout",
     "output_type": "stream",
     "text": [
      "Saving model (epoch =    1, loss = 233.6947)\n",
      "Saving model (epoch =    2, loss = 73.9612)\n",
      "Saving model (epoch =    3, loss = 28.7462)\n",
      "Saving model (epoch =    4, loss = 6.2821)\n",
      "Saving model (epoch =    5, loss = 2.4633)\n",
      "Saving model (epoch =    6, loss = 1.7060)\n",
      "Saving model (epoch =    7, loss = 1.6221)\n",
      "Saving model (epoch =    8, loss = 1.5296)\n",
      "Saving model (epoch =    9, loss = 1.4381)\n",
      "Saving model (epoch =   10, loss = 1.3826)\n",
      "Saving model (epoch =   11, loss = 1.3517)\n",
      "Saving model (epoch =   12, loss = 1.3257)\n",
      "Saving model (epoch =   13, loss = 1.2980)\n",
      "Saving model (epoch =   14, loss = 1.2721)\n",
      "Saving model (epoch =   15, loss = 1.2552)\n",
      "Saving model (epoch =   16, loss = 1.2384)\n",
      "Saving model (epoch =   17, loss = 1.2235)\n",
      "Saving model (epoch =   18, loss = 1.2126)\n",
      "Saving model (epoch =   19, loss = 1.1984)\n",
      "Saving model (epoch =   20, loss = 1.1850)\n",
      "Saving model (epoch =   21, loss = 1.1783)\n",
      "Saving model (epoch =   22, loss = 1.1654)\n",
      "Saving model (epoch =   23, loss = 1.1590)\n",
      "Saving model (epoch =   24, loss = 1.1443)\n",
      "Saving model (epoch =   25, loss = 1.1372)\n",
      "Saving model (epoch =   26, loss = 1.1274)\n",
      "Saving model (epoch =   27, loss = 1.1242)\n",
      "Saving model (epoch =   28, loss = 1.1107)\n",
      "Saving model (epoch =   29, loss = 1.1013)\n",
      "Saving model (epoch =   30, loss = 1.0990)\n",
      "Saving model (epoch =   31, loss = 1.0914)\n",
      "Saving model (epoch =   32, loss = 1.0801)\n",
      "Saving model (epoch =   33, loss = 1.0755)\n",
      "Saving model (epoch =   34, loss = 1.0708)\n",
      "Saving model (epoch =   35, loss = 1.0689)\n",
      "Saving model (epoch =   36, loss = 1.0528)\n",
      "Saving model (epoch =   38, loss = 1.0497)\n",
      "Saving model (epoch =   39, loss = 1.0427)\n",
      "Saving model (epoch =   40, loss = 1.0368)\n",
      "Saving model (epoch =   41, loss = 1.0343)\n",
      "Saving model (epoch =   42, loss = 1.0287)\n",
      "Saving model (epoch =   43, loss = 1.0212)\n",
      "Saving model (epoch =   44, loss = 1.0178)\n",
      "Saving model (epoch =   45, loss = 1.0138)\n",
      "Saving model (epoch =   46, loss = 1.0118)\n",
      "Saving model (epoch =   47, loss = 1.0001)\n",
      "Saving model (epoch =   49, loss = 0.9996)\n",
      "Saving model (epoch =   50, loss = 0.9934)\n",
      "Saving model (epoch =   51, loss = 0.9868)\n",
      "Saving model (epoch =   54, loss = 0.9782)\n",
      "Saving model (epoch =   55, loss = 0.9774)\n",
      "Saving model (epoch =   57, loss = 0.9703)\n",
      "Saving model (epoch =   58, loss = 0.9699)\n",
      "Saving model (epoch =   59, loss = 0.9688)\n",
      "Saving model (epoch =   60, loss = 0.9666)\n",
      "Saving model (epoch =   61, loss = 0.9599)\n",
      "Saving model (epoch =   63, loss = 0.9546)\n",
      "Saving model (epoch =   65, loss = 0.9501)\n",
      "Saving model (epoch =   67, loss = 0.9455)\n",
      "Saving model (epoch =   68, loss = 0.9449)\n",
      "Saving model (epoch =   71, loss = 0.9389)\n",
      "Saving model (epoch =   74, loss = 0.9376)\n",
      "Saving model (epoch =   75, loss = 0.9357)\n",
      "Saving model (epoch =   76, loss = 0.9336)\n",
      "Saving model (epoch =   78, loss = 0.9297)\n",
      "Saving model (epoch =   81, loss = 0.9284)\n",
      "Saving model (epoch =   82, loss = 0.9241)\n",
      "Saving model (epoch =   84, loss = 0.9226)\n",
      "Saving model (epoch =   86, loss = 0.9204)\n",
      "Saving model (epoch =   87, loss = 0.9193)\n",
      "Saving model (epoch =   89, loss = 0.9175)\n",
      "Saving model (epoch =   92, loss = 0.9144)\n",
      "Saving model (epoch =   93, loss = 0.9142)\n",
      "Saving model (epoch =   95, loss = 0.9113)\n",
      "Saving model (epoch =   97, loss = 0.9107)\n",
      "Saving model (epoch =   99, loss = 0.9087)\n",
      "Saving model (epoch =  103, loss = 0.9065)\n",
      "Saving model (epoch =  106, loss = 0.9037)\n",
      "Saving model (epoch =  108, loss = 0.9031)\n",
      "Saving model (epoch =  111, loss = 0.9015)\n",
      "Saving model (epoch =  116, loss = 0.9004)\n",
      "Saving model (epoch =  117, loss = 0.9001)\n",
      "Saving model (epoch =  119, loss = 0.8984)\n",
      "Saving model (epoch =  124, loss = 0.8964)\n",
      "Saving model (epoch =  127, loss = 0.8951)\n",
      "Saving model (epoch =  131, loss = 0.8949)\n",
      "Saving model (epoch =  133, loss = 0.8938)\n",
      "Saving model (epoch =  135, loss = 0.8932)\n",
      "Saving model (epoch =  138, loss = 0.8887)\n",
      "Saving model (epoch =  151, loss = 0.8886)\n",
      "Saving model (epoch =  154, loss = 0.8865)\n",
      "Saving model (epoch =  160, loss = 0.8852)\n",
      "Saving model (epoch =  173, loss = 0.8843)\n",
      "Saving model (epoch =  175, loss = 0.8843)\n",
      "Saving model (epoch =  177, loss = 0.8827)\n",
      "Saving model (epoch =  190, loss = 0.8825)\n",
      "Saving model (epoch =  208, loss = 0.8798)\n",
      "Saving model (epoch =  217, loss = 0.8794)\n",
      "Saving model (epoch =  233, loss = 0.8789)\n",
      "Saving model (epoch =  239, loss = 0.8777)\n",
      "Saving model (epoch =  251, loss = 0.8775)\n",
      "Saving model (epoch =  270, loss = 0.8757)\n",
      "Saving model (epoch =  320, loss = 0.8755)\n",
      "Saving model (epoch =  362, loss = 0.8752)\n",
      "Saving model (epoch =  432, loss = 0.8735)\n",
      "Saving model (epoch =  484, loss = 0.8735)\n",
      "Finished training after 685 epochs\n"
     ]
    }
   ],
   "source": [
    "model_loss, model_loss_record = train(tr_set, dv_set, model, config, device)"
   ]
  },
  {
   "cell_type": "code",
   "execution_count": 112,
   "metadata": {
    "ExecuteTime": {
     "end_time": "2021-05-18T05:31:02.073782Z",
     "start_time": "2021-05-18T05:31:01.935775Z"
    },
    "colab": {
     "base_uri": "https://localhost:8080/",
     "height": 295
    },
    "id": "hsNO9nnXQBvP",
    "outputId": "1626def6-94c7-4a87-9447-d939f827c8eb"
   },
   "outputs": [
    {
     "data": {
      "image/png": "[encoded data removed]",
      "text/plain": [
       "<matplotlib.figure.Figure at 0x1087b5f8>"
      ]
     },
     "metadata": {},
     "output_type": "display_data"
    }
   ],
   "source": [
    "plot_learning_curve(model_loss_record, title='deep model')"
   ]
  },
  {
   "cell_type": "code",
   "execution_count": 113,
   "metadata": {
    "ExecuteTime": {
     "end_time": "2021-05-18T05:31:03.697875Z",
     "start_time": "2021-05-18T05:31:03.534866Z"
    },
    "colab": {
     "base_uri": "https://localhost:8080/",
     "height": 350
    },
    "id": "3iZTVn5WQFpX",
    "outputId": "a2d5e118-559d-45c6-b644-6792af54663d"
   },
   "outputs": [
    {
     "data": {
      "image/png": "[encoded data removed]",
      "text/plain": [
       "<matplotlib.figure.Figure at 0x2342748>"
      ]
     },
     "metadata": {},
     "output_type": "display_data"
    }
   ],
   "source": [
    "del model\n",
    "model = NeuralNet(tr_set.dataset.dim).to(device)\n",
    "ckpt = torch.load(config['save_path'], map_location='cpu')  # Load your best model\n",
    "model.load_state_dict(ckpt)\n",
    "plot_pred(dv_set, model, device)  # Show prediction on the validation set"
   ]
  },
  {
   "cell_type": "markdown",
   "metadata": {},
   "source": [
    "# **Test**"
   ]
  },
  {
   "cell_type": "code",
   "execution_count": 114,
   "metadata": {
    "ExecuteTime": {
     "end_time": "2021-05-18T05:31:05.073954Z",
     "start_time": "2021-05-18T05:31:05.035952Z"
    },
    "collapsed": true
   },
   "outputs": [],
   "source": [
    "class NeuralNet(nn.Module):\n",
    "    ''' A simple fully-connected deep neural network '''\n",
    "    def __init__(self, input_dim):\n",
    "        super(NeuralNet, self).__init__()\n",
    "\n",
    "        # Define your neural network here\n",
    "        # TODO: How to modify this model to achieve better performance?\n",
    "        self.net = nn.Sequential(\n",
    "            nn.Linear(input_dim, 64),\n",
    "            nn.ReLU(),\n",
    "            nn.Linear(64, 1)\n",
    "        )\n",
    "\n",
    "        # Mean squared error loss\n",
    "        self.criterion = nn.MSELoss(reduction='mean')\n",
    "\n",
    "    def forward(self, x):\n",
    "        ''' Given input of size (batch_size x input_dim), compute output of the network '''\n",
    "        return self.net(x).squeeze(1)\n",
    "\n",
    "    def cal_loss(self, pred, target):\n",
    "        ''' Calculate loss '''\n",
    "        # TODO: you may implement L2 regularization here\n",
    "        return torch.sqrt(self.criterion(pred, target))"
   ]
  },
  {
   "cell_type": "code",
   "execution_count": 115,
   "metadata": {
    "ExecuteTime": {
     "end_time": "2021-05-18T05:31:05.677989Z",
     "start_time": "2021-05-18T05:31:05.660988Z"
    },
    "collapsed": true
   },
   "outputs": [],
   "source": [
    "device = get_device()                 # get the current available device ('cpu' or 'cuda')\n",
    "os.makedirs('models', exist_ok=True)  # The trained model will be saved to ./models/\n",
    "target_only = False                   # TODO: Using 40 states & 2 tested_positive features\n",
    "\n",
    "# TODO: How to tune these hyper-parameters to improve your model's performance?\n",
    "config = {\n",
    "    'n_epochs': 3000,                # maximum number of epochs\n",
    "    'batch_size': 270,               # mini-batch size for dataloader\n",
    "    'optimizer': 'SGD',              # optimization algorithm (optimizer in torch.optim)\n",
    "    'optim_hparas': {                # hyper-parameters for the optimizer (depends on which optimizer you are using)\n",
    "        'lr': 0.001,                 # learning rate of SGD\n",
    "        'momentum': 0.9,            # momentum for SGD\n",
    "#         'weight_decay':0.05\n",
    "    },\n",
    "    'early_stop': 200,               # early stopping epochs (the number epochs since your model's last improvement)\n",
    "    'save_path': 'models/model.pth'  # your model will be saved here\n",
    "}"
   ]
  },
  {
   "cell_type": "code",
   "execution_count": 116,
   "metadata": {
    "ExecuteTime": {
     "end_time": "2021-05-18T05:31:06.245021Z",
     "start_time": "2021-05-18T05:31:06.238021Z"
    },
    "collapsed": true
   },
   "outputs": [],
   "source": [
    "model = NeuralNet(tr_set.dataset.dim).to(device)  # Construct model and move to device"
   ]
  },
  {
   "cell_type": "markdown",
   "metadata": {},
   "source": [
    "- 93dim :0.8559"
   ]
  },
  {
   "cell_type": "code",
   "execution_count": 117,
   "metadata": {
    "ExecuteTime": {
     "end_time": "2021-05-18T05:31:40.725993Z",
     "start_time": "2021-05-18T05:31:08.062125Z"
    }
   },
   "outputs": [
    {
     "name": "stdout",
     "output_type": "stream",
     "text": [
      "Saving model (epoch =    1, loss = 17.9649)\n",
      "Saving model (epoch =    2, loss = 17.8423)\n",
      "Saving model (epoch =    3, loss = 17.6909)\n",
      "Saving model (epoch =    4, loss = 17.5211)\n",
      "Saving model (epoch =    5, loss = 17.3319)\n",
      "Saving model (epoch =    6, loss = 17.1212)\n",
      "Saving model (epoch =    7, loss = 16.8820)\n",
      "Saving model (epoch =    8, loss = 16.6067)\n",
      "Saving model (epoch =    9, loss = 16.2855)\n",
      "Saving model (epoch =   10, loss = 15.9118)\n",
      "Saving model (epoch =   11, loss = 15.4624)\n",
      "Saving model (epoch =   12, loss = 14.9314)\n",
      "Saving model (epoch =   13, loss = 14.2941)\n",
      "Saving model (epoch =   14, loss = 13.5441)\n",
      "Saving model (epoch =   15, loss = 12.6587)\n",
      "Saving model (epoch =   16, loss = 11.6367)\n",
      "Saving model (epoch =   17, loss = 10.5167)\n",
      "Saving model (epoch =   18, loss = 9.3327)\n",
      "Saving model (epoch =   19, loss = 8.2376)\n",
      "Saving model (epoch =   20, loss = 7.3885)\n",
      "Saving model (epoch =   21, loss = 6.8516)\n",
      "Saving model (epoch =   22, loss = 6.5056)\n",
      "Saving model (epoch =   23, loss = 6.1816)\n",
      "Saving model (epoch =   24, loss = 5.8082)\n",
      "Saving model (epoch =   25, loss = 5.3968)\n",
      "Saving model (epoch =   26, loss = 4.9582)\n",
      "Saving model (epoch =   27, loss = 4.5093)\n",
      "Saving model (epoch =   28, loss = 4.0840)\n",
      "Saving model (epoch =   29, loss = 3.7208)\n",
      "Saving model (epoch =   30, loss = 3.4108)\n",
      "Saving model (epoch =   31, loss = 3.1376)\n",
      "Saving model (epoch =   32, loss = 2.8734)\n",
      "Saving model (epoch =   33, loss = 2.6115)\n",
      "Saving model (epoch =   34, loss = 2.3499)\n",
      "Saving model (epoch =   35, loss = 2.0980)\n",
      "Saving model (epoch =   36, loss = 1.8690)\n",
      "Saving model (epoch =   37, loss = 1.6913)\n",
      "Saving model (epoch =   38, loss = 1.5601)\n",
      "Saving model (epoch =   39, loss = 1.4527)\n",
      "Saving model (epoch =   40, loss = 1.3705)\n",
      "Saving model (epoch =   41, loss = 1.3060)\n",
      "Saving model (epoch =   42, loss = 1.2596)\n",
      "Saving model (epoch =   43, loss = 1.2250)\n",
      "Saving model (epoch =   44, loss = 1.1993)\n",
      "Saving model (epoch =   45, loss = 1.1723)\n",
      "Saving model (epoch =   46, loss = 1.1570)\n",
      "Saving model (epoch =   47, loss = 1.1441)\n",
      "Saving model (epoch =   48, loss = 1.1305)\n",
      "Saving model (epoch =   49, loss = 1.1198)\n",
      "Saving model (epoch =   50, loss = 1.1105)\n",
      "Saving model (epoch =   51, loss = 1.1033)\n",
      "Saving model (epoch =   52, loss = 1.0991)\n",
      "Saving model (epoch =   53, loss = 1.0924)\n",
      "Saving model (epoch =   54, loss = 1.0864)\n",
      "Saving model (epoch =   55, loss = 1.0840)\n",
      "Saving model (epoch =   56, loss = 1.0769)\n",
      "Saving model (epoch =   57, loss = 1.0734)\n",
      "Saving model (epoch =   58, loss = 1.0702)\n",
      "Saving model (epoch =   59, loss = 1.0648)\n",
      "Saving model (epoch =   60, loss = 1.0629)\n",
      "Saving model (epoch =   61, loss = 1.0585)\n",
      "Saving model (epoch =   62, loss = 1.0540)\n",
      "Saving model (epoch =   63, loss = 1.0534)\n",
      "Saving model (epoch =   64, loss = 1.0512)\n",
      "Saving model (epoch =   65, loss = 1.0473)\n",
      "Saving model (epoch =   66, loss = 1.0461)\n",
      "Saving model (epoch =   67, loss = 1.0422)\n",
      "Saving model (epoch =   68, loss = 1.0398)\n",
      "Saving model (epoch =   69, loss = 1.0368)\n",
      "Saving model (epoch =   70, loss = 1.0360)\n",
      "Saving model (epoch =   71, loss = 1.0346)\n",
      "Saving model (epoch =   72, loss = 1.0314)\n",
      "Saving model (epoch =   73, loss = 1.0293)\n",
      "Saving model (epoch =   74, loss = 1.0273)\n",
      "Saving model (epoch =   75, loss = 1.0266)\n",
      "Saving model (epoch =   76, loss = 1.0238)\n",
      "Saving model (epoch =   77, loss = 1.0226)\n",
      "Saving model (epoch =   79, loss = 1.0186)\n",
      "Saving model (epoch =   80, loss = 1.0179)\n",
      "Saving model (epoch =   81, loss = 1.0163)\n",
      "Saving model (epoch =   82, loss = 1.0156)\n",
      "Saving model (epoch =   84, loss = 1.0111)\n",
      "Saving model (epoch =   86, loss = 1.0080)\n",
      "Saving model (epoch =   87, loss = 1.0069)\n",
      "Saving model (epoch =   88, loss = 1.0063)\n",
      "Saving model (epoch =   89, loss = 1.0052)\n",
      "Saving model (epoch =   90, loss = 1.0034)\n",
      "Saving model (epoch =   91, loss = 1.0026)\n",
      "Saving model (epoch =   93, loss = 1.0010)\n",
      "Saving model (epoch =   94, loss = 0.9986)\n",
      "Saving model (epoch =   95, loss = 0.9966)\n",
      "Saving model (epoch =   98, loss = 0.9945)\n",
      "Saving model (epoch =   99, loss = 0.9916)\n",
      "Saving model (epoch =  102, loss = 0.9904)\n",
      "Saving model (epoch =  104, loss = 0.9887)\n",
      "Saving model (epoch =  105, loss = 0.9865)\n",
      "Saving model (epoch =  108, loss = 0.9849)\n",
      "Saving model (epoch =  110, loss = 0.9840)\n",
      "Saving model (epoch =  111, loss = 0.9829)\n",
      "Saving model (epoch =  112, loss = 0.9823)\n",
      "Saving model (epoch =  113, loss = 0.9813)\n",
      "Saving model (epoch =  114, loss = 0.9796)\n",
      "Saving model (epoch =  117, loss = 0.9780)\n",
      "Saving model (epoch =  119, loss = 0.9763)\n",
      "Saving model (epoch =  121, loss = 0.9751)\n",
      "Saving model (epoch =  122, loss = 0.9741)\n",
      "Saving model (epoch =  124, loss = 0.9736)\n",
      "Saving model (epoch =  126, loss = 0.9721)\n",
      "Saving model (epoch =  128, loss = 0.9708)\n",
      "Saving model (epoch =  129, loss = 0.9708)\n",
      "Saving model (epoch =  131, loss = 0.9704)\n",
      "Saving model (epoch =  132, loss = 0.9680)\n",
      "Saving model (epoch =  136, loss = 0.9662)\n",
      "Saving model (epoch =  139, loss = 0.9651)\n",
      "Saving model (epoch =  142, loss = 0.9643)\n",
      "Saving model (epoch =  145, loss = 0.9630)\n",
      "Saving model (epoch =  146, loss = 0.9617)\n",
      "Saving model (epoch =  149, loss = 0.9609)\n",
      "Saving model (epoch =  153, loss = 0.9602)\n",
      "Saving model (epoch =  154, loss = 0.9591)\n",
      "Saving model (epoch =  158, loss = 0.9571)\n",
      "Saving model (epoch =  163, loss = 0.9564)\n",
      "Saving model (epoch =  165, loss = 0.9562)\n",
      "Saving model (epoch =  166, loss = 0.9558)\n",
      "Saving model (epoch =  168, loss = 0.9548)\n",
      "Saving model (epoch =  171, loss = 0.9533)\n",
      "Saving model (epoch =  176, loss = 0.9522)\n",
      "Saving model (epoch =  179, loss = 0.9518)\n",
      "Saving model (epoch =  180, loss = 0.9517)\n",
      "Saving model (epoch =  183, loss = 0.9514)\n",
      "Saving model (epoch =  185, loss = 0.9512)\n",
      "Saving model (epoch =  187, loss = 0.9509)\n",
      "Saving model (epoch =  188, loss = 0.9499)\n",
      "Saving model (epoch =  192, loss = 0.9496)\n",
      "Saving model (epoch =  195, loss = 0.9490)\n",
      "Saving model (epoch =  198, loss = 0.9487)\n",
      "Saving model (epoch =  202, loss = 0.9478)\n",
      "Saving model (epoch =  207, loss = 0.9474)\n",
      "Saving model (epoch =  213, loss = 0.9471)\n",
      "Saving model (epoch =  214, loss = 0.9455)\n",
      "Saving model (epoch =  218, loss = 0.9449)\n",
      "Saving model (epoch =  222, loss = 0.9442)\n",
      "Saving model (epoch =  237, loss = 0.9429)\n",
      "Saving model (epoch =  242, loss = 0.9428)\n",
      "Saving model (epoch =  250, loss = 0.9425)\n",
      "Saving model (epoch =  262, loss = 0.9421)\n",
      "Saving model (epoch =  265, loss = 0.9418)\n",
      "Saving model (epoch =  271, loss = 0.9416)\n",
      "Saving model (epoch =  280, loss = 0.9415)\n",
      "Saving model (epoch =  284, loss = 0.9405)\n",
      "Saving model (epoch =  289, loss = 0.9404)\n",
      "Saving model (epoch =  302, loss = 0.9404)\n",
      "Saving model (epoch =  311, loss = 0.9401)\n",
      "Saving model (epoch =  320, loss = 0.9400)\n",
      "Saving model (epoch =  321, loss = 0.9396)\n",
      "Saving model (epoch =  331, loss = 0.9394)\n",
      "Saving model (epoch =  334, loss = 0.9392)\n",
      "Saving model (epoch =  337, loss = 0.9381)\n",
      "Saving model (epoch =  375, loss = 0.9381)\n",
      "Saving model (epoch =  376, loss = 0.9372)\n",
      "Saving model (epoch =  379, loss = 0.9371)\n",
      "Saving model (epoch =  417, loss = 0.9370)\n",
      "Saving model (epoch =  486, loss = 0.9361)\n",
      "Saving model (epoch =  604, loss = 0.9361)\n",
      "Saving model (epoch =  648, loss = 0.9358)\n",
      "Saving model (epoch =  743, loss = 0.9357)\n",
      "Saving model (epoch =  822, loss = 0.9357)\n",
      "Saving model (epoch =  954, loss = 0.9356)\n",
      "Finished training after 1155 epochs\n"
     ]
    }
   ],
   "source": [
    "model_loss, model_loss_record = train(tr_set, dv_set, model, config, device)"
   ]
  },
  {
   "cell_type": "code",
   "execution_count": 119,
   "metadata": {
    "ExecuteTime": {
     "end_time": "2021-05-18T05:32:18.193136Z",
     "start_time": "2021-05-18T05:32:18.182136Z"
    }
   },
   "outputs": [
    {
     "data": {
      "text/plain": [
       "0.87534736"
      ]
     },
     "execution_count": 119,
     "metadata": {},
     "output_type": "execute_result"
    }
   ],
   "source": [
    "0.9356*0.9356"
   ]
  },
  {
   "cell_type": "code",
   "execution_count": 118,
   "metadata": {
    "ExecuteTime": {
     "end_time": "2021-05-18T05:31:44.425205Z",
     "start_time": "2021-05-18T05:31:44.269196Z"
    }
   },
   "outputs": [
    {
     "data": {
      "image/png": "[encoded data removed]",
      "text/plain": [
       "<matplotlib.figure.Figure at 0x108ec438>"
      ]
     },
     "metadata": {},
     "output_type": "display_data"
    }
   ],
   "source": [
    "plot_learning_curve(model_loss_record, title='deep model')"
   ]
  },
  {
   "cell_type": "code",
   "execution_count": 72,
   "metadata": {
    "ExecuteTime": {
     "end_time": "2021-05-18T03:28:54.518670Z",
     "start_time": "2021-05-18T03:28:54.382663Z"
    }
   },
   "outputs": [
    {
     "data": {
      "image/png": "[encoded data removed]",
      "text/plain": [
       "<matplotlib.figure.Figure at 0x108bc5f8>"
      ]
     },
     "metadata": {},
     "output_type": "display_data"
    }
   ],
   "source": [
    "del model\n",
    "model = NeuralNet(tr_set.dataset.dim).to(device)\n",
    "ckpt = torch.load(config['save_path'], map_location='cpu')  # Load your best model\n",
    "model.load_state_dict(ckpt)\n",
    "plot_pred(dv_set, model, device)  # Show prediction on the validation set"
   ]
  },
  {
   "cell_type": "code",
   "execution_count": null,
   "metadata": {
    "collapsed": true
   },
   "outputs": [],
   "source": []
  },
  {
   "cell_type": "code",
   "execution_count": null,
   "metadata": {
    "collapsed": true
   },
   "outputs": [],
   "source": []
  },
  {
   "cell_type": "code",
   "execution_count": null,
   "metadata": {
    "collapsed": true
   },
   "outputs": [],
   "source": []
  },
  {
   "cell_type": "code",
   "execution_count": null,
   "metadata": {
    "collapsed": true
   },
   "outputs": [],
   "source": []
  },
  {
   "cell_type": "code",
   "execution_count": null,
   "metadata": {
    "collapsed": true
   },
   "outputs": [],
   "source": []
  },
  {
   "cell_type": "code",
   "execution_count": null,
   "metadata": {
    "collapsed": true
   },
   "outputs": [],
   "source": []
  },
  {
   "cell_type": "code",
   "execution_count": null,
   "metadata": {
    "collapsed": true
   },
   "outputs": [],
   "source": []
  },
  {
   "cell_type": "markdown",
   "metadata": {
    "id": "aQikz3IPiyPf"
   },
   "source": [
    "# **Testing**\n",
    "The predictions of your model on testing set will be stored at `pred.csv`."
   ]
  },
  {
   "cell_type": "code",
   "execution_count": 73,
   "metadata": {
    "ExecuteTime": {
     "end_time": "2021-05-18T03:29:02.876148Z",
     "start_time": "2021-05-18T03:29:02.827145Z"
    },
    "colab": {
     "base_uri": "https://localhost:8080/"
    },
    "id": "O8cTuQjQQOon",
    "outputId": "6bc5de07-4c5a-4e87-9ae3-d09f539c5f2c"
   },
   "outputs": [
    {
     "name": "stdout",
     "output_type": "stream",
     "text": [
      "Saving results to F:\\study\\ml\\HonyiLee2021\\Lhy_Machine_Learning-main\\01 Introduction\\dataset\\pred_5feates_mu_std3.csv\n"
     ]
    }
   ],
   "source": [
    "def save_pred(preds, file):\n",
    "    ''' Save predictions to specified file '''\n",
    "    print('Saving results to {}'.format(file))\n",
    "    with open(file, 'w') as fp:\n",
    "        writer = csv.writer(fp)\n",
    "        writer.writerow(['id', 'tested_positive'])\n",
    "        for i, p in enumerate(preds):\n",
    "            writer.writerow([i, p])\n",
    "\n",
    "preds = test(tt_set, model, device)  # predict COVID-19 cases with your model\n",
    "save_pred(preds, r'F:\\study\\ml\\HonyiLee2021\\Lhy_Machine_Learning-main\\01 Introduction\\dataset\\pred_5feates_mu_std3.csv')         # save prediction file to pred.csv"
   ]
  },
  {
   "cell_type": "markdown",
   "metadata": {
    "id": "nfrVxqJanGpE"
   },
   "source": [
    "# **Hints**\n",
    "\n",
    "## **Simple Baseline**\n",
    "* Run sample code\n",
    "\n",
    "## **Medium Baseline**\n",
    "* Feature selection: 40 states + 2 `tested_positive` (`TODO` in dataset)\n",
    "\n",
    "## **Strong Baseline**\n",
    "* Feature selection (what other features are useful?)\n",
    "* DNN architecture (layers? dimension? activation function?)\n",
    "* Training (mini-batch? optimizer? learning rate?)\n",
    "* L2 regularization\n",
    "* There are some mistakes in the sample code, can you find them?"
   ]
  },
  {
   "cell_type": "markdown",
   "metadata": {
    "id": "9tmCwXgpot3t"
   },
   "source": [
    "# **Reference**\n",
    "This code is completely written by Heng-Jui Chang @ NTUEE.  \n",
    "Copying or reusing this code is required to specify the original author. \n",
    "\n",
    "E.g.  \n",
    "Source: Heng-Jui Chang @ NTUEE (https://github.com/ga642381/ML2021-Spring/blob/main/HW01/HW01.ipynb)\n"
   ]
  }
 ],
 "metadata": {
  "accelerator": "GPU",
  "colab": {
   "collapsed_sections": [],
   "name": "ML2021Spring - HW1.ipynb",
   "provenance": [],
   "toc_visible": true
  },
  "kernelspec": {
   "display_name": "Python 3",
   "language": "python",
   "name": "python3"
  },
  "language_info": {
   "codemirror_mode": {
    "name": "ipython",
    "version": 3
   },
   "file_extension": ".py",
   "mimetype": "text/x-python",
   "name": "python",
   "nbconvert_exporter": "python",
   "pygments_lexer": "ipython3",
   "version": "3.6.3"
  }
 },
 "nbformat": 4,
 "nbformat_minor": 1
}
