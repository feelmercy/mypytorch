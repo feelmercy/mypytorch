{
 "cells": [
  {
   "cell_type": "code",
   "execution_count": 1,
   "metadata": {
    "ExecuteTime": {
     "end_time": "2021-05-10T05:43:31.887149Z",
     "start_time": "2021-05-10T05:43:24.894749Z"
    },
    "collapsed": true
   },
   "outputs": [],
   "source": [
    "# PyTorch\n",
    "import torch\n",
    "import torch.nn as nn\n",
    "from torch.utils.data import Dataset, DataLoader\n",
    "\n",
    "# For data preprocess\n",
    "import numpy as np\n",
    "import csv\n",
    "import os\n",
    "\n",
    "# For plotting\n",
    "import matplotlib.pyplot as plt\n",
    "from matplotlib.pyplot import figure\n",
    "\n",
    "myseed = 42069  # set a random seed for reproducibility\n",
    "torch.backends.cudnn.deterministic = True\n",
    "torch.backends.cudnn.benchmark = False\n",
    "np.random.seed(myseed)\n",
    "torch.manual_seed(myseed)\n",
    "if torch.cuda.is_available():\n",
    "    torch.cuda.manual_seed_all(myseed)"
   ]
  },
  {
   "cell_type": "markdown",
   "metadata": {
    "ExecuteTime": {
     "end_time": "2021-05-06T06:46:50.855122Z",
     "start_time": "2021-05-06T06:46:50.849121Z"
    }
   },
   "source": [
    "# **Some Utilities**"
   ]
  },
  {
   "cell_type": "code",
   "execution_count": 2,
   "metadata": {
    "ExecuteTime": {
     "end_time": "2021-05-10T05:43:42.380750Z",
     "start_time": "2021-05-10T05:43:42.373749Z"
    },
    "collapsed": true
   },
   "outputs": [],
   "source": [
    "def get_device():\n",
    "    return 'cuda' if torch.cuda.is_available() else 'cpu'"
   ]
  },
  {
   "cell_type": "code",
   "execution_count": 3,
   "metadata": {
    "ExecuteTime": {
     "end_time": "2021-05-10T05:43:43.129792Z",
     "start_time": "2021-05-10T05:43:43.115792Z"
    },
    "collapsed": true
   },
   "outputs": [],
   "source": [
    "def plot_learning_curve(loss_record,title=''):\n",
    "    total_steps=len(loss_record['train'])\n",
    "    x_1=range(total_steps)\n",
    "    x_2=x_1[::len(loss_record['train']) // len(loss_record['dev'])]\n",
    "    plt.plot(x_1,loss_record['train'],c='tab:red',label='train')\n",
    "    plt.plot(x_2,loss_record['dev'],c='tab:cyan',label='dev')\n",
    "    plt.ylim(0.0,5.)\n",
    "    plt.xlabel('Training steps')\n",
    "    plt.ylabel('MSE loss')\n",
    "    plt.title('learining curve of {}'.format(title))\n",
    "    plt.show()"
   ]
  },
  {
   "cell_type": "code",
   "execution_count": 4,
   "metadata": {
    "ExecuteTime": {
     "end_time": "2021-05-10T05:43:43.955840Z",
     "start_time": "2021-05-10T05:43:43.904837Z"
    },
    "collapsed": true
   },
   "outputs": [],
   "source": [
    "def plot_pred(dv_set,model,device,lim=35.,preds=None,targets=None):\n",
    "    if preds is None or targets is None:\n",
    "        model.eval()\n",
    "        preds,targets=[],[]\n",
    "        for x,y in dv_set:\n",
    "            x,y=x.to(device),y.to(device)\n",
    "            with torch.no_grad():\n",
    "                pred=model(x)\n",
    "                preds.append(pred.detach().cpu())\n",
    "                targets.append(y.detach().cpu())\n",
    "        preds=torch.cat(preds,dim=0).numpy()\n",
    "        targets=torch.cat(targets,dim=0).numpy()\n",
    "        \n",
    "        figure(figsize=(5,5))\n",
    "        plt.scatter(targets,preds,c='r',alpha=0.5)\n",
    "        plt.plot([-0.2,lim],[-0.2,lim],c='b')\n",
    "        plt.xlim(-0.2,lim)\n",
    "        plt.ylim(-0.2,lim)\n",
    "        plt.xlabel('ground truth value')\n",
    "        plt.ylabel('predicted value')\n",
    "        plt.title('Ground True v.s. Prediction')\n",
    "        plt.show()\n",
    "                "
   ]
  },
  {
   "cell_type": "code",
   "execution_count": 5,
   "metadata": {
    "ExecuteTime": {
     "end_time": "2021-05-10T05:43:44.882893Z",
     "start_time": "2021-05-10T05:43:44.562874Z"
    }
   },
   "outputs": [
    {
     "data": {
      "text/plain": [
       "tensor([[1, 2, 3, 1, 2, 3],\n",
       "        [2, 3, 4, 2, 3, 5],\n",
       "        [5, 6, 7, 5, 6, 7]])"
      ]
     },
     "execution_count": 5,
     "metadata": {},
     "output_type": "execute_result"
    }
   ],
   "source": [
    "a=torch.tensor([[1,2,3],[2,3,4],[5,6,7]])\n",
    "b=torch.tensor([[1,2,3],[2,3,5],[5,6,7]])\n",
    "torch.cat((a,b),dim=1)"
   ]
  },
  {
   "cell_type": "code",
   "execution_count": 6,
   "metadata": {
    "ExecuteTime": {
     "end_time": "2021-05-10T05:43:47.169023Z",
     "start_time": "2021-05-10T05:43:47.165023Z"
    },
    "collapsed": true
   },
   "outputs": [],
   "source": [
    "col_selected=[40, 41, 42, 43, 57, 58, 59, 60, 61, 75, 76, 77, 78, 79]"
   ]
  },
  {
   "cell_type": "code",
   "execution_count": 7,
   "metadata": {
    "ExecuteTime": {
     "end_time": "2021-05-10T05:43:47.882064Z",
     "start_time": "2021-05-10T05:43:47.806060Z"
    },
    "collapsed": true
   },
   "outputs": [],
   "source": [
    "class COVID19Dataset(Dataset):\n",
    "    def __init__(self, path, mode='train', target_only=False):\n",
    "        self.mode = mode\n",
    "\n",
    "        with open(path, 'r') as fp:\n",
    "            data = list(csv.reader(fp))\n",
    "            data = np.array(data[1:])[:, 1:].astype(float)\n",
    "        if not target_only:\n",
    "#             feats = list(range(93))\n",
    "            feats=list(range(40))+col_selected\n",
    "        else:\n",
    "            pass\n",
    "        if mode == 'test':\n",
    "            data = data[:, feats]\n",
    "            self.data = torch.FloatTensor(data)\n",
    "        else:\n",
    "            target = data[:, -1]\n",
    "            data = data[:, feats]\n",
    "\n",
    "            if mode == 'train':\n",
    "                indices = [i for i in range(len(data)) if i % 10 != 0]\n",
    "            elif mode == 'dev':\n",
    "                indices = [i for i in range(len(data)) if i % 10 == 0]\n",
    "\n",
    "            self.data = torch.FloatTensor(data[indices])\n",
    "            self.target = torch.FloatTensor(target[indices])\n",
    "\n",
    "        self.data[:,40:]= \\\n",
    "        (self.data[:,40:]-self.data[:,40:].mean(dim=0,keepdim=True)) \\\n",
    "        / self.data[:,40:].std(dim=0,keepdim=True)\n",
    "\n",
    "        self.dim = self.data.shape[1]\n",
    "        print('Finish reading the {} set of COVID19 Dataset ({} samples found \\\n",
    "             ,each dim={})'.format(mode, len(self.data), self.dim))\n",
    "    \n",
    "    def __getitem__(self,index):\n",
    "        if self.mode in ['train','dev']:\n",
    "            return self.data[index],self.target[index]\n",
    "        else:\n",
    "            return self.data[index]\n",
    "    \n",
    "    def __len__(self):\n",
    "        return len(self.data)"
   ]
  },
  {
   "cell_type": "code",
   "execution_count": 8,
   "metadata": {
    "ExecuteTime": {
     "end_time": "2021-05-10T05:43:48.885122Z",
     "start_time": "2021-05-10T05:43:48.439096Z"
    }
   },
   "outputs": [
    {
     "name": "stdout",
     "output_type": "stream",
     "text": [
      "Finish reading the train set of COVID19 Dataset (2430 samples found              ,each dim=54)\n"
     ]
    }
   ],
   "source": [
    "path=r'F:\\study\\ml\\HonyiLee2021\\Lhy_Machine_Learning-main\\01 Introduction\\dataset\\covid.train.csv'\n",
    "covid19=COVID19Dataset(path,mode='train',target_only=False)"
   ]
  },
  {
   "cell_type": "code",
   "execution_count": 9,
   "metadata": {
    "ExecuteTime": {
     "end_time": "2021-05-10T05:43:49.614163Z",
     "start_time": "2021-05-10T05:43:49.608163Z"
    },
    "collapsed": true
   },
   "outputs": [],
   "source": [
    "dataloader=DataLoader(\n",
    "    covid19,270,\n",
    "    shuffle=('train'=='train'),drop_last=False,num_workers=4,pin_memory=True)"
   ]
  },
  {
   "cell_type": "code",
   "execution_count": 10,
   "metadata": {
    "ExecuteTime": {
     "end_time": "2021-05-10T05:43:50.358206Z",
     "start_time": "2021-05-10T05:43:50.263200Z"
    }
   },
   "outputs": [
    {
     "name": "stdout",
     "output_type": "stream",
     "text": [
      "Finish reading the test set of COVID19 Dataset (893 samples found              ,each dim=54)\n"
     ]
    }
   ],
   "source": [
    "test_path=r'F:\\study\\ml\\HonyiLee2021\\Lhy_Machine_Learning-main\\01 Introduction\\dataset\\covid.test.csv'\n",
    "covid19_test=COVID19Dataset(test_path,mode='test',target_only=False)"
   ]
  },
  {
   "cell_type": "code",
   "execution_count": 11,
   "metadata": {
    "ExecuteTime": {
     "end_time": "2021-05-10T05:43:51.504271Z",
     "start_time": "2021-05-10T05:43:51.495271Z"
    },
    "collapsed": true
   },
   "outputs": [],
   "source": [
    "def prep_dataloader(path,mode,batch_size,n_jobs=0,target_only=False):\n",
    "    dataset=COVID19Dataset(path,mode=mode,target_only=target_only)\n",
    "    dataloader=DataLoader(\n",
    "    dataset,batch_size,\n",
    "    shuffle=(mode=='train'),drop_last=False,num_workers=n_jobs,pin_memory=True)\n",
    "    return dataloader"
   ]
  },
  {
   "cell_type": "code",
   "execution_count": 12,
   "metadata": {
    "ExecuteTime": {
     "end_time": "2021-05-10T05:43:52.175310Z",
     "start_time": "2021-05-10T05:43:52.163309Z"
    },
    "collapsed": true
   },
   "outputs": [],
   "source": [
    "class NeuralNet(nn.Module):\n",
    "    def __init__(self, input_dim):\n",
    "        super().__init__()\n",
    "        self.net = nn.Sequential(nn.Linear(input_dim, 256), \n",
    "                                 nn.ReLU(),\n",
    "                                 nn.Linear(256, 1),\n",
    "                                )\n",
    "        self.criterion = nn.MSELoss(reduce='mean')\n",
    "    \n",
    "    def forward(self,x):\n",
    "        return self.net(x).squeeze(1)\n",
    "    \n",
    "    def cal_loss(self,pred,target):\n",
    "        return self.criterion(pred,target)"
   ]
  },
  {
   "cell_type": "code",
   "execution_count": 13,
   "metadata": {
    "ExecuteTime": {
     "end_time": "2021-05-10T05:43:53.500386Z",
     "start_time": "2021-05-10T05:43:53.426381Z"
    },
    "collapsed": true
   },
   "outputs": [],
   "source": [
    "def train(tr_set, dv_set, model, config, device):\n",
    "    n_epochs = config['n_epochs']\n",
    "    optimizer = getattr(torch.optim,\n",
    "                        config['optimizer'])(model.parameters(),\n",
    "                                             **config['optim_hparas'])\n",
    "\n",
    "    min_mse = 1000.\n",
    "    loss_record = {'train': [], 'dev': []}\n",
    "    early_stop_cnt = 0\n",
    "    epoch = 0\n",
    "    while epoch < n_epochs:\n",
    "        model.train()\n",
    "        for x, y in tr_set:\n",
    "            optimizer.zero_grad()\n",
    "            x, y = x.to(device), y.to(device)\n",
    "            pred = model(x)\n",
    "            mse_loss = model.cal_loss(pred, y)\n",
    "            mse_loss.backward()\n",
    "            optimizer.step()\n",
    "            loss_record['train'].append(mse_loss.detach().cpu().item())\n",
    "        dev_mse = dev(dv_set, model, device)\n",
    "        if dev_mse < min_mse:\n",
    "            min_mse = dev_mse\n",
    "            print('save model (epoch={:4d},,loss={:.4})'.format(\n",
    "                epoch + 1, min_mse))\n",
    "            torch.save(model.state_dict(), config['save_path'])\n",
    "            early_stop_cnt = 0\n",
    "        else:\n",
    "            early_stop_cnt += 1\n",
    "\n",
    "        epoch += 1\n",
    "        loss_record['dev'].append(dev_mse)\n",
    "        if early_stop_cnt > config['early_stop']:\n",
    "            break\n",
    "    print('finished training after {} epochs'.format(epoch))\n",
    "    return min_mse, loss_record"
   ]
  },
  {
   "cell_type": "code",
   "execution_count": 14,
   "metadata": {
    "ExecuteTime": {
     "end_time": "2021-05-10T05:43:54.145422Z",
     "start_time": "2021-05-10T05:43:54.127421Z"
    },
    "collapsed": true
   },
   "outputs": [],
   "source": [
    "def dev(dev_set,model,device):\n",
    "    model.eval()\n",
    "    total_loss=0\n",
    "    for x,y in dv_set:\n",
    "        x,y =x.to(device),y.to(device)\n",
    "        with torch.no_grad():\n",
    "            pred=model(x)\n",
    "            mse_loss=model.cal_loss(pred,y)\n",
    "        total_loss +=mse_loss.detach().cpu().item() *len(x)\n",
    "    total_loss=total_loss / len(dev_set.dataset)\n",
    "    return total_loss\n",
    "        "
   ]
  },
  {
   "cell_type": "code",
   "execution_count": 15,
   "metadata": {
    "ExecuteTime": {
     "end_time": "2021-05-10T05:43:54.827461Z",
     "start_time": "2021-05-10T05:43:54.807460Z"
    },
    "collapsed": true
   },
   "outputs": [],
   "source": [
    "def test(tt_set, model, device):\n",
    "    model.eval()                                # set model to evalutation mode\n",
    "    preds = []\n",
    "    for x in tt_set:                            # iterate through the dataloader\n",
    "        x = x.to(device)                        # move data to device (cpu/cuda)\n",
    "        with torch.no_grad():                   # disable gradient calculation\n",
    "            pred = model(x)                     # forward pass (compute output)\n",
    "            preds.append(pred.detach().cpu())   # collect prediction\n",
    "    preds = torch.cat(preds, dim=0).numpy()     # concatenate all predictions and convert to a numpy array\n",
    "    return preds"
   ]
  },
  {
   "cell_type": "code",
   "execution_count": 16,
   "metadata": {
    "ExecuteTime": {
     "end_time": "2021-05-10T05:43:55.394494Z",
     "start_time": "2021-05-10T05:43:55.382493Z"
    },
    "collapsed": true
   },
   "outputs": [],
   "source": [
    "device=get_device()\n",
    "os.makedirs(r'F:\\study\\ml\\HonyiLee2021\\Lhy_Machine_Learning-main\\01 Introduction\\models',\n",
    "           exist_ok=True)\n",
    "target_only=False\n",
    "\n",
    "config={\n",
    "    'n_epochs':3000,\n",
    "    'batch_size':270,\n",
    "    'optimizer':'SGD',\n",
    "    'optim_hparas':{\n",
    "        'lr':0.002,\n",
    "        'momentum': 0.7\n",
    "    },\n",
    "    'early_stop':100,\n",
    "    'save_path':r'F:\\study\\ml\\HonyiLee2021\\Lhy_Machine_Learning-main\\01 Introduction\\models\\model',\n",
    "}"
   ]
  },
  {
   "cell_type": "code",
   "execution_count": 17,
   "metadata": {
    "ExecuteTime": {
     "end_time": "2021-05-10T05:43:56.335548Z",
     "start_time": "2021-05-10T05:43:56.331547Z"
    },
    "collapsed": true
   },
   "outputs": [],
   "source": [
    "tr_path=r'F:\\study\\ml\\HonyiLee2021\\Lhy_Machine_Learning-main\\01 Introduction\\dataset\\covid.train.csv'\n",
    "tt_path=r'F:\\study\\ml\\HonyiLee2021\\Lhy_Machine_Learning-main\\01 Introduction\\dataset\\covid.test.csv'"
   ]
  },
  {
   "cell_type": "code",
   "execution_count": 18,
   "metadata": {
    "ExecuteTime": {
     "end_time": "2021-05-10T05:43:58.015644Z",
     "start_time": "2021-05-10T05:43:57.413609Z"
    }
   },
   "outputs": [
    {
     "name": "stdout",
     "output_type": "stream",
     "text": [
      "Finish reading the train set of COVID19 Dataset (2430 samples found              ,each dim=54)\n",
      "Finish reading the dev set of COVID19 Dataset (270 samples found              ,each dim=54)\n",
      "Finish reading the test set of COVID19 Dataset (893 samples found              ,each dim=54)\n"
     ]
    }
   ],
   "source": [
    "tr_set=prep_dataloader(tr_path,'train',config['batch_size'],target_only=target_only)\n",
    "dv_set=prep_dataloader(tr_path,'dev',config['batch_size'],target_only=target_only)\n",
    "tt_set=prep_dataloader(tt_path,'test',config['batch_size'],target_only=target_only)"
   ]
  },
  {
   "cell_type": "code",
   "execution_count": 19,
   "metadata": {
    "ExecuteTime": {
     "end_time": "2021-05-10T05:44:01.324833Z",
     "start_time": "2021-05-10T05:44:01.290831Z"
    }
   },
   "outputs": [
    {
     "name": "stderr",
     "output_type": "stream",
     "text": [
      "D:\\ProgramData\\Anaconda3\\lib\\site-packages\\torch\\nn\\_reduction.py:49: UserWarning: size_average and reduce args will be deprecated, please use reduction='mean' instead.\n",
      "  warnings.warn(warning.format(ret))\n"
     ]
    }
   ],
   "source": [
    "model = NeuralNet(tr_set.dataset.dim).to(device) "
   ]
  },
  {
   "cell_type": "code",
   "execution_count": 20,
   "metadata": {
    "ExecuteTime": {
     "end_time": "2021-05-10T05:44:48.688542Z",
     "start_time": "2021-05-10T05:44:19.484872Z"
    }
   },
   "outputs": [
    {
     "name": "stdout",
     "output_type": "stream",
     "text": [
      "save model (epoch=   1,,loss=80.35)\n",
      "save model (epoch=   2,,loss=34.35)\n",
      "save model (epoch=   3,,loss=11.35)\n",
      "save model (epoch=   4,,loss=3.959)\n",
      "save model (epoch=   5,,loss=2.132)\n",
      "save model (epoch=   6,,loss=1.627)\n",
      "save model (epoch=   7,,loss=1.43)\n",
      "save model (epoch=   8,,loss=1.318)\n",
      "save model (epoch=   9,,loss=1.26)\n",
      "save model (epoch=  10,,loss=1.224)\n",
      "save model (epoch=  11,,loss=1.199)\n",
      "save model (epoch=  12,,loss=1.168)\n",
      "save model (epoch=  13,,loss=1.143)\n",
      "save model (epoch=  14,,loss=1.141)\n",
      "save model (epoch=  15,,loss=1.136)\n",
      "save model (epoch=  18,,loss=1.083)\n",
      "save model (epoch=  19,,loss=1.079)\n",
      "save model (epoch=  20,,loss=1.059)\n",
      "save model (epoch=  21,,loss=1.053)\n",
      "save model (epoch=  22,,loss=1.047)\n",
      "save model (epoch=  23,,loss=1.021)\n",
      "save model (epoch=  24,,loss=1.018)\n",
      "save model (epoch=  26,,loss=1.018)\n",
      "save model (epoch=  27,,loss=1.007)\n",
      "save model (epoch=  29,,loss=0.9926)\n",
      "save model (epoch=  31,,loss=0.9779)\n",
      "save model (epoch=  32,,loss=0.9776)\n",
      "save model (epoch=  33,,loss=0.9702)\n",
      "save model (epoch=  34,,loss=0.9607)\n",
      "save model (epoch=  35,,loss=0.957)\n",
      "save model (epoch=  37,,loss=0.9485)\n",
      "save model (epoch=  38,,loss=0.9464)\n",
      "save model (epoch=  39,,loss=0.9417)\n",
      "save model (epoch=  42,,loss=0.9343)\n",
      "save model (epoch=  45,,loss=0.9265)\n",
      "save model (epoch=  46,,loss=0.9193)\n",
      "save model (epoch=  49,,loss=0.914)\n",
      "save model (epoch=  50,,loss=0.9118)\n",
      "save model (epoch=  52,,loss=0.9065)\n",
      "save model (epoch=  54,,loss=0.9061)\n",
      "save model (epoch=  58,,loss=0.8897)\n",
      "save model (epoch=  60,,loss=0.8873)\n",
      "save model (epoch=  63,,loss=0.8843)\n",
      "save model (epoch=  64,,loss=0.8791)\n",
      "save model (epoch=  66,,loss=0.8783)\n",
      "save model (epoch=  70,,loss=0.8715)\n",
      "save model (epoch=  72,,loss=0.8697)\n",
      "save model (epoch=  74,,loss=0.8652)\n",
      "save model (epoch=  78,,loss=0.8633)\n",
      "save model (epoch=  82,,loss=0.8588)\n",
      "save model (epoch=  83,,loss=0.8577)\n",
      "save model (epoch=  86,,loss=0.8565)\n",
      "save model (epoch=  87,,loss=0.8526)\n",
      "save model (epoch=  95,,loss=0.8501)\n",
      "save model (epoch=  96,,loss=0.8491)\n",
      "save model (epoch= 102,,loss=0.8456)\n",
      "save model (epoch= 105,,loss=0.8447)\n",
      "save model (epoch= 106,,loss=0.8426)\n",
      "save model (epoch= 109,,loss=0.8395)\n",
      "save model (epoch= 111,,loss=0.8374)\n",
      "save model (epoch= 115,,loss=0.8367)\n",
      "save model (epoch= 117,,loss=0.836)\n",
      "save model (epoch= 124,,loss=0.8343)\n",
      "save model (epoch= 125,,loss=0.834)\n",
      "save model (epoch= 132,,loss=0.8313)\n",
      "save model (epoch= 139,,loss=0.8293)\n",
      "save model (epoch= 142,,loss=0.8278)\n",
      "save model (epoch= 158,,loss=0.8266)\n",
      "save model (epoch= 159,,loss=0.8249)\n",
      "save model (epoch= 161,,loss=0.8239)\n",
      "save model (epoch= 187,,loss=0.8217)\n",
      "save model (epoch= 230,,loss=0.8217)\n",
      "save model (epoch= 243,,loss=0.8211)\n",
      "save model (epoch= 249,,loss=0.8198)\n",
      "save model (epoch= 288,,loss=0.819)\n",
      "save model (epoch= 292,,loss=0.8182)\n",
      "save model (epoch= 320,,loss=0.8178)\n",
      "save model (epoch= 403,,loss=0.8173)\n",
      "save model (epoch= 409,,loss=0.8171)\n",
      "save model (epoch= 466,,loss=0.817)\n",
      "save model (epoch= 523,,loss=0.8167)\n",
      "finished training after 624 epochs\n"
     ]
    }
   ],
   "source": [
    "model_loss, model_loss_record = train(tr_set, dv_set, model, config, device)"
   ]
  },
  {
   "cell_type": "code",
   "execution_count": 21,
   "metadata": {
    "ExecuteTime": {
     "end_time": "2021-05-10T05:44:48.959558Z",
     "start_time": "2021-05-10T05:44:48.691542Z"
    }
   },
   "outputs": [
    {
     "data": {
      "image/png": "[encoded data removed]",
      "text/plain": [
       "<matplotlib.figure.Figure at 0x10679cf8>"
      ]
     },
     "metadata": {},
     "output_type": "display_data"
    }
   ],
   "source": [
    "x_1=range(len(model_loss_record['train']))\n",
    "x_2=x_1[::len(model_loss_record['train']) // len(model_loss_record['dev'])]\n",
    "plt.plot(x_1,model_loss_record['train'],c='tab:red',label='train')\n",
    "plt.plot(x_2,model_loss_record['dev'],c='tab:cyan',label='dev')\n",
    "plt.ylim(0.0,5.)\n",
    "plt.xlabel('train step')\n",
    "plt.ylabel('loss')\n",
    "plt.legend()\n",
    "plt.show()"
   ]
  },
  {
   "cell_type": "code",
   "execution_count": null,
   "metadata": {
    "collapsed": true
   },
   "outputs": [],
   "source": []
  },
  {
   "cell_type": "code",
   "execution_count": null,
   "metadata": {
    "collapsed": true
   },
   "outputs": [],
   "source": []
  },
  {
   "cell_type": "code",
   "execution_count": 721,
   "metadata": {
    "ExecuteTime": {
     "end_time": "2021-05-08T10:16:55.937408Z",
     "start_time": "2021-05-08T10:16:55.906407Z"
    },
    "collapsed": true
   },
   "outputs": [],
   "source": [
    "class NeuralNet1(nn.Module):\n",
    "    def __init__(self, input_dim):\n",
    "        super().__init__()\n",
    "        self.net = nn.Sequential(nn.Linear(input_dim, 512), \n",
    "                                 nn.ReLU(),\n",
    "                                 nn.Linear(512, 256),\n",
    "                                nn.ReLU(),\n",
    "                                 nn.Linear(256, 64),\n",
    "                                nn.ReLU(),\n",
    "                                 nn.Linear(64, 16),\n",
    "                                nn.ReLU(),\n",
    "                                 nn.Linear(16, 1),\n",
    "                                )\n",
    "        self.criterion = nn.MSELoss(reduce='mean')\n",
    "    \n",
    "    def forward(self,x):\n",
    "        return self.net(x).squeeze(1)\n",
    "    \n",
    "    def cal_loss(self,pred,target):\n",
    "        return self.criterion(pred,target)"
   ]
  },
  {
   "cell_type": "code",
   "execution_count": 722,
   "metadata": {
    "ExecuteTime": {
     "end_time": "2021-05-08T10:16:56.385434Z",
     "start_time": "2021-05-08T10:16:56.380434Z"
    },
    "collapsed": true
   },
   "outputs": [],
   "source": [
    "\n",
    "config={\n",
    "    'n_epochs':3000,\n",
    "    'batch_size':270,\n",
    "    'optimizer':'Adam',\n",
    "    'optim_hparas':{\n",
    "        'lr':0.001,\n",
    "        'weight_decay' : 0.05\n",
    "    },\n",
    "    'early_stop':100,\n",
    "    'save_path':r'F:\\study\\ml\\HonyiLee2021\\Lhy_Machine_Learning-main\\01 Introduction\\models\\model',\n",
    "}\n"
   ]
  },
  {
   "cell_type": "code",
   "execution_count": null,
   "metadata": {
    "ExecuteTime": {
     "start_time": "2021-05-08T10:16:56.923Z"
    }
   },
   "outputs": [
    {
     "name": "stderr",
     "output_type": "stream",
     "text": [
      "D:\\ProgramData\\Anaconda3\\lib\\site-packages\\torch\\nn\\_reduction.py:49: UserWarning: size_average and reduce args will be deprecated, please use reduction='mean' instead.\n",
      "  warnings.warn(warning.format(ret))\n"
     ]
    },
    {
     "name": "stdout",
     "output_type": "stream",
     "text": [
      "save model (epoch=   1,,loss=293.2)\n",
      "save model (epoch=   2,,loss=144.0)\n",
      "save model (epoch=   3,,loss=91.36)\n",
      "save model (epoch=   4,,loss=57.62)\n",
      "save model (epoch=   5,,loss=33.89)\n",
      "save model (epoch=   6,,loss=18.61)\n",
      "save model (epoch=   7,,loss=7.893)\n",
      "save model (epoch=   8,,loss=4.394)\n",
      "save model (epoch=   9,,loss=3.03)\n",
      "save model (epoch=  10,,loss=2.38)\n",
      "save model (epoch=  11,,loss=2.006)\n",
      "save model (epoch=  12,,loss=1.77)\n",
      "save model (epoch=  13,,loss=1.565)\n",
      "save model (epoch=  14,,loss=1.539)\n",
      "save model (epoch=  15,,loss=1.38)\n",
      "save model (epoch=  16,,loss=1.28)\n",
      "save model (epoch=  17,,loss=1.276)\n",
      "save model (epoch=  18,,loss=1.177)\n",
      "save model (epoch=  19,,loss=1.163)\n",
      "save model (epoch=  20,,loss=1.147)\n",
      "save model (epoch=  21,,loss=1.111)\n",
      "save model (epoch=  25,,loss=1.035)\n",
      "save model (epoch=  26,,loss=1.008)\n",
      "save model (epoch=  30,,loss=0.9574)\n",
      "save model (epoch=  33,,loss=0.9419)\n",
      "save model (epoch=  34,,loss=0.9392)\n",
      "save model (epoch=  35,,loss=0.9277)\n",
      "save model (epoch=  36,,loss=0.9189)\n",
      "save model (epoch=  37,,loss=0.909)\n",
      "save model (epoch=  38,,loss=0.9084)\n",
      "save model (epoch=  41,,loss=0.879)\n",
      "save model (epoch=  57,,loss=0.8744)\n",
      "save model (epoch=  60,,loss=0.8682)\n",
      "save model (epoch=  61,,loss=0.8496)\n",
      "save model (epoch=  67,,loss=0.8446)\n",
      "save model (epoch=  68,,loss=0.8424)\n",
      "save model (epoch=  71,,loss=0.8407)\n",
      "save model (epoch=  74,,loss=0.8357)\n",
      "save model (epoch=  77,,loss=0.8277)\n",
      "save model (epoch=  79,,loss=0.8265)\n",
      "save model (epoch=  99,,loss=0.8237)\n",
      "save model (epoch= 100,,loss=0.8132)\n",
      "save model (epoch= 117,,loss=0.8106)\n",
      "save model (epoch= 144,,loss=0.8086)\n",
      "save model (epoch= 189,,loss=0.8064)\n",
      "save model (epoch= 226,,loss=0.8038)\n",
      "save model (epoch= 274,,loss=0.8021)\n",
      "save model (epoch= 294,,loss=0.7976)\n",
      "save model (epoch= 361,,loss=0.7955)\n"
     ]
    }
   ],
   "source": [
    "model = NeuralNet1(tr_set.dataset.dim).to(device) \n",
    "model_loss, model_loss_record = train(tr_set, dv_set, model, config, device)"
   ]
  },
  {
   "cell_type": "code",
   "execution_count": 717,
   "metadata": {
    "ExecuteTime": {
     "end_time": "2021-05-08T10:15:29.539467Z",
     "start_time": "2021-05-08T10:15:29.394458Z"
    }
   },
   "outputs": [
    {
     "data": {
      "image/png": "[encoded data removed]",
      "text/plain": [
       "<matplotlib.figure.Figure at 0x107bbb00>"
      ]
     },
     "metadata": {},
     "output_type": "display_data"
    }
   ],
   "source": [
    "x_1=range(len(model_loss_record['train']))\n",
    "x_2=x_1[::len(model_loss_record['train']) // len(model_loss_record['dev'])]\n",
    "plt.plot(x_1,model_loss_record['train'],c='tab:red',label='train')\n",
    "plt.plot(x_2,model_loss_record['dev'],c='tab:cyan',label='dev')\n",
    "plt.ylim(0.0,5.)\n",
    "plt.xlabel('train step')\n",
    "plt.ylabel('loss')\n",
    "plt.legend()\n",
    "plt.show()"
   ]
  },
  {
   "cell_type": "code",
   "execution_count": null,
   "metadata": {
    "collapsed": true
   },
   "outputs": [],
   "source": []
  },
  {
   "cell_type": "code",
   "execution_count": null,
   "metadata": {
    "collapsed": true
   },
   "outputs": [],
   "source": []
  },
  {
   "cell_type": "code",
   "execution_count": 369,
   "metadata": {
    "ExecuteTime": {
     "end_time": "2021-05-08T08:39:32.616189Z",
     "start_time": "2021-05-08T08:39:32.434179Z"
    }
   },
   "outputs": [
    {
     "name": "stderr",
     "output_type": "stream",
     "text": [
      "D:\\ProgramData\\Anaconda3\\lib\\site-packages\\torch\\nn\\_reduction.py:49: UserWarning: size_average and reduce args will be deprecated, please use reduction='mean' instead.\n",
      "  warnings.warn(warning.format(ret))\n"
     ]
    },
    {
     "data": {
      "image/png": "[encoded data removed]",
      "text/plain": [
       "<matplotlib.figure.Figure at 0x13157be0>"
      ]
     },
     "metadata": {},
     "output_type": "display_data"
    }
   ],
   "source": [
    "del model\n",
    "model=NeuralNet(tr_set.dataset.dim).to(device)\n",
    "ckpt=torch.load(config['save_path'],map_location='cpu')\n",
    "model.load_state_dict(ckpt)\n",
    "model.eval()\n",
    "preds,targets=[],[]\n",
    "for x,y in dv_set:\n",
    "    x,y=x.to(device),y.to(device)\n",
    "    with torch.no_grad():\n",
    "        pred=model(x)\n",
    "        preds.append(pred.detach().cpu())\n",
    "        targets.append(y.detach().cpu())\n",
    "# preds\n",
    "preds=torch.cat(preds,dim=0).numpy()\n",
    "targets=torch.cat(targets,dim=0).numpy()\n",
    "plt.scatter(targets,preds,c='r',alpha=0.5)\n",
    "plt.show()\n"
   ]
  },
  {
   "cell_type": "code",
   "execution_count": null,
   "metadata": {
    "ExecuteTime": {
     "end_time": "2021-05-06T08:40:48.494212Z",
     "start_time": "2021-05-06T08:40:48.488212Z"
    },
    "collapsed": true
   },
   "outputs": [],
   "source": [
    "# plot_learning_curve(model_loss_record,title='deep model')"
   ]
  },
  {
   "cell_type": "code",
   "execution_count": null,
   "metadata": {
    "ExecuteTime": {
     "end_time": "2021-05-06T08:40:52.949467Z",
     "start_time": "2021-05-06T08:40:52.942467Z"
    },
    "collapsed": true
   },
   "outputs": [],
   "source": [
    "# del model\n",
    "# model=NeuralNet(tr_set.dataset.dim).to(device)\n",
    "# ckpt=torch.load(config['save_path'],map_location='cpu')\n",
    "# model.load_state_dict(ckpt)\n",
    "# plot_pred(dv_set,model,device)"
   ]
  },
  {
   "cell_type": "code",
   "execution_count": 48,
   "metadata": {
    "ExecuteTime": {
     "end_time": "2021-05-08T07:48:20.848494Z",
     "start_time": "2021-05-08T07:48:20.834494Z"
    },
    "collapsed": true
   },
   "outputs": [],
   "source": [
    "def save_pred(preds, file):\n",
    "    ''' Save predictions to specified file '''\n",
    "    print('Saving results to {}'.format(file))\n",
    "    with open(file, 'w') as fp:\n",
    "        writer = csv.writer(fp)\n",
    "        writer.writerow(['id', 'tested_positive'])\n",
    "        for i, p in enumerate(preds):\n",
    "            writer.writerow([i, p])"
   ]
  },
  {
   "cell_type": "code",
   "execution_count": 237,
   "metadata": {
    "ExecuteTime": {
     "end_time": "2021-05-08T08:11:06.774621Z",
     "start_time": "2021-05-08T08:11:06.681616Z"
    }
   },
   "outputs": [
    {
     "name": "stdout",
     "output_type": "stream",
     "text": [
      "Saving results to F:\\study\\ml\\HonyiLee2021\\Lhy_Machine_Learning-main\\01 Introduction\\dataset\\pred.csv\n"
     ]
    }
   ],
   "source": [
    "preds = test(tt_set, model, device)  # predict COVID-19 cases with your model\n",
    "save_pred(preds, r'F:\\study\\ml\\HonyiLee2021\\Lhy_Machine_Learning-main\\01 Introduction\\dataset\\pred.csv')  "
   ]
  },
  {
   "cell_type": "code",
   "execution_count": null,
   "metadata": {
    "collapsed": true
   },
   "outputs": [],
   "source": []
  }
 ],
 "metadata": {
  "kernelspec": {
   "display_name": "Python 3",
   "language": "python",
   "name": "python3"
  },
  "language_info": {
   "codemirror_mode": {
    "name": "ipython",
    "version": 3
   },
   "file_extension": ".py",
   "mimetype": "text/x-python",
   "name": "python",
   "nbconvert_exporter": "python",
   "pygments_lexer": "ipython3",
   "version": "3.6.3"
  }
 },
 "nbformat": 4,
 "nbformat_minor": 2
}
