{
 "cells": [
  {
   "cell_type": "code",
   "execution_count": 1,
   "metadata": {
    "ExecuteTime": {
     "end_time": "2021-05-10T05:46:35.953677Z",
     "start_time": "2021-05-10T05:46:35.436648Z"
    },
    "collapsed": true
   },
   "outputs": [],
   "source": [
    "# PyTorch\n",
    "import torch\n",
    "import torch.nn as nn\n",
    "from torch.utils.data import Dataset, DataLoader\n",
    "\n",
    "# For data preprocess\n",
    "import numpy as np\n",
    "import csv\n",
    "import os\n",
    "\n",
    "# For plotting\n",
    "import matplotlib.pyplot as plt\n",
    "from matplotlib.pyplot import figure\n",
    "\n",
    "myseed = 42069  # set a random seed for reproducibility\n",
    "torch.backends.cudnn.deterministic = True\n",
    "torch.backends.cudnn.benchmark = False\n",
    "np.random.seed(myseed)\n",
    "torch.manual_seed(myseed)\n",
    "if torch.cuda.is_available():\n",
    "    torch.cuda.manual_seed_all(myseed)"
   ]
  },
  {
   "cell_type": "markdown",
   "metadata": {
    "ExecuteTime": {
     "end_time": "2021-05-06T06:46:50.855122Z",
     "start_time": "2021-05-06T06:46:50.849121Z"
    }
   },
   "source": [
    "# **Some Utilities**"
   ]
  },
  {
   "cell_type": "code",
   "execution_count": 2,
   "metadata": {
    "ExecuteTime": {
     "end_time": "2021-05-10T05:46:38.614830Z",
     "start_time": "2021-05-10T05:46:38.608829Z"
    },
    "collapsed": true
   },
   "outputs": [],
   "source": [
    "def get_device():\n",
    "    return 'cuda' if torch.cuda.is_available() else 'cpu'"
   ]
  },
  {
   "cell_type": "code",
   "execution_count": 3,
   "metadata": {
    "ExecuteTime": {
     "end_time": "2021-05-10T05:46:39.296869Z",
     "start_time": "2021-05-10T05:46:39.271867Z"
    },
    "collapsed": true
   },
   "outputs": [],
   "source": [
    "def plot_learning_curve(loss_record,title=''):\n",
    "    total_steps=len(loss_record['train'])\n",
    "    x_1=range(total_steps)\n",
    "    x_2=x_1[::len(loss_record['train']) // len(loss_record['dev'])]\n",
    "    plt.plot(x_1,loss_record['train'],c='tab:red',label='train')\n",
    "    plt.plot(x_2,loss_record['dev'],c='tab:cyan',label='dev')\n",
    "    plt.ylim(0.0,5.)\n",
    "    plt.xlabel('Training steps')\n",
    "    plt.ylabel('MSE loss')\n",
    "    plt.title('learining curve of {}'.format(title))\n",
    "    plt.show()"
   ]
  },
  {
   "cell_type": "code",
   "execution_count": 4,
   "metadata": {
    "ExecuteTime": {
     "end_time": "2021-05-10T05:46:39.967907Z",
     "start_time": "2021-05-10T05:46:39.924905Z"
    },
    "collapsed": true
   },
   "outputs": [],
   "source": [
    "def plot_pred(dv_set,model,device,lim=35.,preds=None,targets=None):\n",
    "    if preds is None or targets is None:\n",
    "        model.eval()\n",
    "        preds,targets=[],[]\n",
    "        for x,y in dv_set:\n",
    "            x,y=x.to(device),y.to(device)\n",
    "            with torch.no_grad():\n",
    "                pred=model(x)\n",
    "                preds.append(pred.detach().cpu())\n",
    "                targets.append(y.detach().cpu())\n",
    "        preds=torch.cat(preds,dim=0).numpy()\n",
    "        targets=torch.cat(targets,dim=0).numpy()\n",
    "        \n",
    "        figure(figsize=(5,5))\n",
    "        plt.scatter(targets,preds,c='r',alpha=0.5)\n",
    "        plt.plot([-0.2,lim],[-0.2,lim],c='b')\n",
    "        plt.xlim(-0.2,lim)\n",
    "        plt.ylim(-0.2,lim)\n",
    "        plt.xlabel('ground truth value')\n",
    "        plt.ylabel('predicted value')\n",
    "        plt.title('Ground True v.s. Prediction')\n",
    "        plt.show()\n",
    "                "
   ]
  },
  {
   "cell_type": "code",
   "execution_count": 5,
   "metadata": {
    "ExecuteTime": {
     "end_time": "2021-05-10T05:46:40.564941Z",
     "start_time": "2021-05-10T05:46:40.556941Z"
    }
   },
   "outputs": [
    {
     "data": {
      "text/plain": [
       "tensor([[1, 2, 3, 1, 2, 3],\n",
       "        [2, 3, 4, 2, 3, 5],\n",
       "        [5, 6, 7, 5, 6, 7]])"
      ]
     },
     "execution_count": 5,
     "metadata": {},
     "output_type": "execute_result"
    }
   ],
   "source": [
    "a=torch.tensor([[1,2,3],[2,3,4],[5,6,7]])\n",
    "b=torch.tensor([[1,2,3],[2,3,5],[5,6,7]])\n",
    "torch.cat((a,b),dim=1)"
   ]
  },
  {
   "cell_type": "code",
   "execution_count": 6,
   "metadata": {
    "ExecuteTime": {
     "end_time": "2021-05-10T05:46:41.217978Z",
     "start_time": "2021-05-10T05:46:41.212978Z"
    },
    "collapsed": true
   },
   "outputs": [],
   "source": [
    "col_selected=[40, 41, 42, 43, 57, 58, 59, 60, 61, 75, 76, 77, 78, 79]"
   ]
  },
  {
   "cell_type": "code",
   "execution_count": 7,
   "metadata": {
    "ExecuteTime": {
     "end_time": "2021-05-10T05:46:48.673405Z",
     "start_time": "2021-05-10T05:46:48.598401Z"
    },
    "collapsed": true
   },
   "outputs": [],
   "source": [
    "class COVID19Dataset(Dataset):\n",
    "    def __init__(self, path, mode='train', target_only=False):\n",
    "        self.mode = mode\n",
    "\n",
    "        with open(path, 'r') as fp:\n",
    "            data = list(csv.reader(fp))\n",
    "            data = np.array(data[1:])[:, 1:].astype(float)\n",
    "        if not target_only:\n",
    "#             feats = list(range(93))\n",
    "            feats=list(range(40))+col_selected\n",
    "        else:\n",
    "            pass\n",
    "        if mode == 'test':\n",
    "            data = data[:, feats]\n",
    "            self.data = torch.FloatTensor(data)\n",
    "        else:\n",
    "            target = data[:, -1]\n",
    "            data = data[:, feats]\n",
    "\n",
    "            if mode == 'train':\n",
    "                indices = [i for i in range(len(data)) if i % 10 != 0]\n",
    "            elif mode == 'dev':\n",
    "                indices = [i for i in range(len(data)) if i % 10 == 0]\n",
    "\n",
    "            self.data = torch.FloatTensor(data[indices])\n",
    "            self.target = torch.FloatTensor(target[indices])\n",
    "\n",
    "        self.data[:,40:]= \\\n",
    "        (self.data[:,40:]-self.data[:,40:].mean(dim=0,keepdim=True)) \\\n",
    "        / self.data[:,40:].std(dim=0,keepdim=True)\n",
    "\n",
    "        self.dim = self.data.shape[1]\n",
    "        print('Finish reading the {} set of COVID19 Dataset ({} samples found \\\n",
    "             ,each dim={})'.format(mode, len(self.data), self.dim))\n",
    "    \n",
    "    def __getitem__(self,index):\n",
    "        if self.mode in ['train','dev']:\n",
    "            return self.data[index],self.target[index]\n",
    "        else:\n",
    "            return self.data[index]\n",
    "    \n",
    "    def __len__(self):\n",
    "        return len(self.data)"
   ]
  },
  {
   "cell_type": "code",
   "execution_count": 8,
   "metadata": {
    "ExecuteTime": {
     "end_time": "2021-05-10T05:46:49.592457Z",
     "start_time": "2021-05-10T05:46:49.355444Z"
    }
   },
   "outputs": [
    {
     "name": "stdout",
     "output_type": "stream",
     "text": [
      "Finish reading the train set of COVID19 Dataset (2430 samples found              ,each dim=54)\n"
     ]
    }
   ],
   "source": [
    "path=r'F:\\study\\ml\\HonyiLee2021\\Lhy_Machine_Learning-main\\01 Introduction\\dataset\\covid.train.csv'\n",
    "covid19=COVID19Dataset(path,mode='train',target_only=False)"
   ]
  },
  {
   "cell_type": "code",
   "execution_count": 9,
   "metadata": {
    "ExecuteTime": {
     "end_time": "2021-05-10T05:46:50.092486Z",
     "start_time": "2021-05-10T05:46:50.086486Z"
    },
    "collapsed": true
   },
   "outputs": [],
   "source": [
    "dataloader=DataLoader(\n",
    "    covid19,270,\n",
    "    shuffle=('train'=='train'),drop_last=False,num_workers=4,pin_memory=True)"
   ]
  },
  {
   "cell_type": "code",
   "execution_count": 10,
   "metadata": {
    "ExecuteTime": {
     "end_time": "2021-05-10T05:46:50.927534Z",
     "start_time": "2021-05-10T05:46:50.844529Z"
    }
   },
   "outputs": [
    {
     "name": "stdout",
     "output_type": "stream",
     "text": [
      "Finish reading the test set of COVID19 Dataset (893 samples found              ,each dim=54)\n"
     ]
    }
   ],
   "source": [
    "test_path=r'F:\\study\\ml\\HonyiLee2021\\Lhy_Machine_Learning-main\\01 Introduction\\dataset\\covid.test.csv'\n",
    "covid19_test=COVID19Dataset(test_path,mode='test',target_only=False)"
   ]
  },
  {
   "cell_type": "code",
   "execution_count": 11,
   "metadata": {
    "ExecuteTime": {
     "end_time": "2021-05-10T05:46:51.447564Z",
     "start_time": "2021-05-10T05:46:51.442563Z"
    },
    "collapsed": true
   },
   "outputs": [],
   "source": [
    "def prep_dataloader(path,mode,batch_size,n_jobs=0,target_only=False):\n",
    "    dataset=COVID19Dataset(path,mode=mode,target_only=target_only)\n",
    "    dataloader=DataLoader(\n",
    "    dataset,batch_size,\n",
    "    shuffle=(mode=='train'),drop_last=False,num_workers=n_jobs,pin_memory=True)\n",
    "    return dataloader"
   ]
  },
  {
   "cell_type": "code",
   "execution_count": null,
   "metadata": {
    "collapsed": true
   },
   "outputs": [],
   "source": []
  },
  {
   "cell_type": "code",
   "execution_count": 144,
   "metadata": {
    "ExecuteTime": {
     "end_time": "2021-05-10T07:34:36.419339Z",
     "start_time": "2021-05-10T07:34:36.406338Z"
    }
   },
   "outputs": [],
   "source": [
    "def get_train_data():\n",
    "    data=np.genfromtxt(r'F:\\study\\ml\\HonyiLee2021\\Lhy_Machine_Learning-main\\01 Introduction\\dataset\\covid.train.csv',\n",
    "                      delimiter=',',skip_header=1)\n",
    "    data=data[:,1:]\n",
    "    labels=torch.tensor(data[:,-1],dtype=torch.float32)\n",
    "    data[:,40:]=(data[:,40:]-data[:,40:].mean(axis=0)) / (data[:,40:].std(axis=0))\n",
    "    features=torch.tensor(data[:,:-1],dtype=torch.float32)\n",
    "    return features,labels"
   ]
  },
  {
   "cell_type": "code",
   "execution_count": 145,
   "metadata": {
    "ExecuteTime": {
     "end_time": "2021-05-10T07:34:37.997429Z",
     "start_time": "2021-05-10T07:34:37.740414Z"
    }
   },
   "outputs": [
    {
     "data": {
      "text/plain": [
       "torch.Size([2700, 93])"
      ]
     },
     "execution_count": 145,
     "metadata": {},
     "output_type": "execute_result"
    }
   ],
   "source": [
    "features,labels=get_train_data()\n",
    "features.shape"
   ]
  },
  {
   "cell_type": "code",
   "execution_count": 146,
   "metadata": {
    "ExecuteTime": {
     "end_time": "2021-05-10T07:34:39.880537Z",
     "start_time": "2021-05-10T07:34:39.874536Z"
    }
   },
   "outputs": [
    {
     "data": {
      "text/plain": [
       "torch.Size([2700])"
      ]
     },
     "execution_count": 146,
     "metadata": {},
     "output_type": "execute_result"
    }
   ],
   "source": [
    "labels.shape"
   ]
  },
  {
   "cell_type": "code",
   "execution_count": 58,
   "metadata": {
    "ExecuteTime": {
     "end_time": "2021-05-10T06:26:41.762282Z",
     "start_time": "2021-05-10T06:26:41.756281Z"
    },
    "collapsed": true
   },
   "outputs": [],
   "source": [
    "data_iter=torch.utils.data.DataLoader(\n",
    "torch.utils.data.TensorDataset(features,labels),\n",
    "    batch_size=270,shuffle=True)"
   ]
  },
  {
   "cell_type": "code",
   "execution_count": 147,
   "metadata": {
    "ExecuteTime": {
     "end_time": "2021-05-10T07:34:43.807761Z",
     "start_time": "2021-05-10T07:34:43.787760Z"
    },
    "collapsed": true
   },
   "outputs": [],
   "source": [
    "class NeuralNet(nn.Module):\n",
    "    def __init__(self, input_dim):\n",
    "        super().__init__()\n",
    "        self.net = nn.Sequential(nn.Linear(input_dim, 64), \n",
    "                                 nn.ReLU(),\n",
    "                                 nn.Linear(64, 1),\n",
    "                                )\n",
    "        self.criterion = nn.MSELoss(reduce='mean')\n",
    "    \n",
    "    def forward(self,x):\n",
    "        return self.net(x).squeeze(1)\n",
    "    \n",
    "    def cal_loss(self,pred,target):\n",
    "        return self.criterion(pred,target)"
   ]
  },
  {
   "cell_type": "code",
   "execution_count": 164,
   "metadata": {
    "ExecuteTime": {
     "end_time": "2021-05-10T08:05:26.870179Z",
     "start_time": "2021-05-10T08:05:26.863178Z"
    },
    "collapsed": true
   },
   "outputs": [],
   "source": [
    "from sklearn.model_selection import train_test_split"
   ]
  },
  {
   "cell_type": "code",
   "execution_count": 165,
   "metadata": {
    "ExecuteTime": {
     "end_time": "2021-05-10T08:09:40.399680Z",
     "start_time": "2021-05-10T08:09:40.302674Z"
    }
   },
   "outputs": [],
   "source": [
    "def train(features,labels, model, config, device):\n",
    "    n_epochs = config['n_epochs']\n",
    "    optimizer = getattr(torch.optim,\n",
    "                        config['optimizer'])(model.parameters(),\n",
    "                                             **config['optim_hparas'])\n",
    "    \n",
    "    batch_size=config['batch_size']\n",
    "    x_train,x_test,y_train,y_test = train_test_split(features,labels,test_size=0.1,random_state =13,shuffle=True)\n",
    "    \n",
    "    data_iter=torch.utils.data.DataLoader(\n",
    "    torch.utils.data.TensorDataset(x_train,y_train),batch_size=batch_size,\n",
    "    shuffle=True)\n",
    "\n",
    "    \n",
    "    dev_data=torch.utils.data.DataLoader(\n",
    "    torch.utils.data.TensorDataset(x_test,y_test),batch_size=100,\n",
    "    shuffle=True)\n",
    "\n",
    "    min_mse = 1000.\n",
    "    loss_record = {'train': [], 'dev': []}\n",
    "    early_stop_cnt = 0\n",
    "    epoch = 0\n",
    "    while epoch < n_epochs:\n",
    "        model.train()\n",
    "        for x, y in data_iter:\n",
    "            optimizer.zero_grad()\n",
    "            x, y = x.to(device), y.to(device)\n",
    "            pred = model(x)\n",
    "            mse_loss = model.cal_loss(pred, y)\n",
    "            mse_loss.backward()\n",
    "            optimizer.step()\n",
    "            loss_record['train'].append(mse_loss.detach().cpu().item())\n",
    "        dev_mse = dev(dev_data, model, device)\n",
    "        if dev_mse < min_mse:\n",
    "            min_mse = dev_mse\n",
    "            print('save model (epoch={:4d},,loss={:.4})'.format(\n",
    "                epoch + 1, min_mse))\n",
    "            torch.save(model.state_dict(), config['save_path'])\n",
    "            early_stop_cnt = 0\n",
    "        else:\n",
    "            early_stop_cnt += 1\n",
    "\n",
    "        epoch += 1\n",
    "        loss_record['dev'].append(dev_mse)\n",
    "        if early_stop_cnt > config['early_stop']:\n",
    "            break\n",
    "    print('finished training after {} epochs'.format(epoch))\n",
    "    return min_mse, loss_record"
   ]
  },
  {
   "cell_type": "code",
   "execution_count": 166,
   "metadata": {
    "ExecuteTime": {
     "end_time": "2021-05-10T08:09:42.147780Z",
     "start_time": "2021-05-10T08:09:42.113778Z"
    },
    "collapsed": true
   },
   "outputs": [],
   "source": [
    "def dev(dev_set,model,device):\n",
    "    model.eval()\n",
    "    total_loss=0\n",
    "    for x,y in dev_set:\n",
    "        x,y =x.to(device),y.to(device)\n",
    "        with torch.no_grad():\n",
    "            pred=model(x)\n",
    "            mse_loss=model.cal_loss(pred,y)\n",
    "        total_loss +=mse_loss.detach().cpu().item() *len(x)\n",
    "    total_loss=total_loss / len(dev_set.dataset)\n",
    "    return total_loss\n",
    "        "
   ]
  },
  {
   "cell_type": "code",
   "execution_count": 167,
   "metadata": {
    "ExecuteTime": {
     "end_time": "2021-05-10T08:09:42.596805Z",
     "start_time": "2021-05-10T08:09:42.576804Z"
    },
    "collapsed": true
   },
   "outputs": [],
   "source": [
    "def test(tt_set, model, device):\n",
    "    model.eval()                                # set model to evalutation mode\n",
    "    preds = []\n",
    "    for x in tt_set:                            # iterate through the dataloader\n",
    "        x = x.to(device)                        # move data to device (cpu/cuda)\n",
    "        with torch.no_grad():                   # disable gradient calculation\n",
    "            pred = model(x)                     # forward pass (compute output)\n",
    "            preds.append(pred.detach().cpu())   # collect prediction\n",
    "    preds = torch.cat(preds, dim=0).numpy()     # concatenate all predictions and convert to a numpy array\n",
    "    return preds"
   ]
  },
  {
   "cell_type": "code",
   "execution_count": 168,
   "metadata": {
    "ExecuteTime": {
     "end_time": "2021-05-10T08:09:43.466855Z",
     "start_time": "2021-05-10T08:09:43.452854Z"
    },
    "collapsed": true
   },
   "outputs": [],
   "source": [
    "device=get_device()\n",
    "os.makedirs(r'F:\\study\\ml\\HonyiLee2021\\Lhy_Machine_Learning-main\\01 Introduction\\models',\n",
    "           exist_ok=True)\n",
    "target_only=False\n",
    "\n",
    "config={\n",
    "    'n_epochs':3000,\n",
    "    'batch_size':270,\n",
    "    'optimizer':'SGD',\n",
    "    'optim_hparas':{\n",
    "        'lr':0.002,\n",
    "        'momentum': 0.7\n",
    "    },\n",
    "    'early_stop':100,\n",
    "    'save_path':r'F:\\study\\ml\\HonyiLee2021\\Lhy_Machine_Learning-main\\01 Introduction\\models\\model',\n",
    "}"
   ]
  },
  {
   "cell_type": "code",
   "execution_count": 169,
   "metadata": {
    "ExecuteTime": {
     "end_time": "2021-05-10T08:09:43.978884Z",
     "start_time": "2021-05-10T08:09:43.972884Z"
    },
    "collapsed": true
   },
   "outputs": [],
   "source": [
    "tr_path=r'F:\\study\\ml\\HonyiLee2021\\Lhy_Machine_Learning-main\\01 Introduction\\dataset\\covid.train.csv'\n",
    "tt_path=r'F:\\study\\ml\\HonyiLee2021\\Lhy_Machine_Learning-main\\01 Introduction\\dataset\\covid.test.csv'"
   ]
  },
  {
   "cell_type": "code",
   "execution_count": 170,
   "metadata": {
    "ExecuteTime": {
     "end_time": "2021-05-10T08:09:44.957940Z",
     "start_time": "2021-05-10T08:09:44.465912Z"
    }
   },
   "outputs": [
    {
     "name": "stdout",
     "output_type": "stream",
     "text": [
      "Finish reading the train set of COVID19 Dataset (2430 samples found              ,each dim=54)\n",
      "Finish reading the dev set of COVID19 Dataset (270 samples found              ,each dim=54)\n",
      "Finish reading the test set of COVID19 Dataset (893 samples found              ,each dim=54)\n"
     ]
    }
   ],
   "source": [
    "tr_set=prep_dataloader(tr_path,'train',config['batch_size'],target_only=target_only)\n",
    "dv_set=prep_dataloader(tr_path,'dev',config['batch_size'],target_only=target_only)\n",
    "tt_set=prep_dataloader(tt_path,'test',config['batch_size'],target_only=target_only)"
   ]
  },
  {
   "cell_type": "code",
   "execution_count": 171,
   "metadata": {
    "ExecuteTime": {
     "end_time": "2021-05-10T08:09:45.013944Z",
     "start_time": "2021-05-10T08:09:45.010943Z"
    }
   },
   "outputs": [
    {
     "name": "stderr",
     "output_type": "stream",
     "text": [
      "D:\\ProgramData\\Anaconda3\\lib\\site-packages\\torch\\nn\\_reduction.py:49: UserWarning: size_average and reduce args will be deprecated, please use reduction='mean' instead.\n",
      "  warnings.warn(warning.format(ret))\n"
     ]
    }
   ],
   "source": [
    "model = NeuralNet(features.shape[1]).to(device) "
   ]
  },
  {
   "cell_type": "code",
   "execution_count": 172,
   "metadata": {
    "ExecuteTime": {
     "end_time": "2021-05-10T08:09:47.495085Z",
     "start_time": "2021-05-10T08:09:47.378079Z"
    }
   },
   "outputs": [
    {
     "ename": "TypeError",
     "evalue": "take(): argument 'index' (position 1) must be Tensor, not numpy.ndarray",
     "output_type": "error",
     "traceback": [
      "\u001b[1;31m---------------------------------------------------------------------------\u001b[0m",
      "\u001b[1;31mTypeError\u001b[0m                                 Traceback (most recent call last)",
      "\u001b[1;32m<ipython-input-172-e6896eb55dcb>\u001b[0m in \u001b[0;36m<module>\u001b[1;34m()\u001b[0m\n\u001b[1;32m----> 1\u001b[1;33m \u001b[0mmodel_loss\u001b[0m\u001b[1;33m,\u001b[0m \u001b[0mmodel_loss_record\u001b[0m \u001b[1;33m=\u001b[0m \u001b[0mtrain\u001b[0m\u001b[1;33m(\u001b[0m\u001b[0mfeatures\u001b[0m\u001b[1;33m,\u001b[0m \u001b[0mlabels\u001b[0m\u001b[1;33m,\u001b[0m \u001b[0mmodel\u001b[0m\u001b[1;33m,\u001b[0m \u001b[0mconfig\u001b[0m\u001b[1;33m,\u001b[0m \u001b[0mdevice\u001b[0m\u001b[1;33m)\u001b[0m\u001b[1;33m\u001b[0m\u001b[0m\n\u001b[0m",
      "\u001b[1;32m<ipython-input-165-8328734defc6>\u001b[0m in \u001b[0;36mtrain\u001b[1;34m(features, labels, model, config, device)\u001b[0m\n\u001b[0;32m      6\u001b[0m \u001b[1;33m\u001b[0m\u001b[0m\n\u001b[0;32m      7\u001b[0m     \u001b[0mbatch_size\u001b[0m\u001b[1;33m=\u001b[0m\u001b[0mconfig\u001b[0m\u001b[1;33m[\u001b[0m\u001b[1;34m'batch_size'\u001b[0m\u001b[1;33m]\u001b[0m\u001b[1;33m\u001b[0m\u001b[0m\n\u001b[1;32m----> 8\u001b[1;33m     \u001b[0mx_train\u001b[0m\u001b[1;33m,\u001b[0m\u001b[0mx_test\u001b[0m\u001b[1;33m,\u001b[0m\u001b[0my_train\u001b[0m\u001b[1;33m,\u001b[0m\u001b[0my_test\u001b[0m \u001b[1;33m=\u001b[0m \u001b[0mtrain_test_split\u001b[0m\u001b[1;33m(\u001b[0m\u001b[0mfeatures\u001b[0m\u001b[1;33m,\u001b[0m\u001b[0mlabels\u001b[0m\u001b[1;33m,\u001b[0m\u001b[0mtest_size\u001b[0m\u001b[1;33m=\u001b[0m\u001b[1;36m0.1\u001b[0m\u001b[1;33m,\u001b[0m\u001b[0mrandom_state\u001b[0m \u001b[1;33m=\u001b[0m\u001b[1;36m13\u001b[0m\u001b[1;33m,\u001b[0m\u001b[0mshuffle\u001b[0m\u001b[1;33m=\u001b[0m\u001b[1;32mTrue\u001b[0m\u001b[1;33m)\u001b[0m\u001b[1;33m\u001b[0m\u001b[0m\n\u001b[0m\u001b[0;32m      9\u001b[0m \u001b[1;33m\u001b[0m\u001b[0m\n\u001b[0;32m     10\u001b[0m     data_iter=torch.utils.data.DataLoader(\n",
      "\u001b[1;32mD:\\ProgramData\\Anaconda3\\lib\\site-packages\\sklearn\\model_selection\\_split.py\u001b[0m in \u001b[0;36mtrain_test_split\u001b[1;34m(*arrays, **options)\u001b[0m\n\u001b[0;32m   2057\u001b[0m \u001b[1;33m\u001b[0m\u001b[0m\n\u001b[0;32m   2058\u001b[0m     return list(chain.from_iterable((safe_indexing(a, train),\n\u001b[1;32m-> 2059\u001b[1;33m                                      safe_indexing(a, test)) for a in arrays))\n\u001b[0m\u001b[0;32m   2060\u001b[0m \u001b[1;33m\u001b[0m\u001b[0m\n\u001b[0;32m   2061\u001b[0m \u001b[1;33m\u001b[0m\u001b[0m\n",
      "\u001b[1;32mD:\\ProgramData\\Anaconda3\\lib\\site-packages\\sklearn\\model_selection\\_split.py\u001b[0m in \u001b[0;36m<genexpr>\u001b[1;34m(.0)\u001b[0m\n\u001b[0;32m   2057\u001b[0m \u001b[1;33m\u001b[0m\u001b[0m\n\u001b[0;32m   2058\u001b[0m     return list(chain.from_iterable((safe_indexing(a, train),\n\u001b[1;32m-> 2059\u001b[1;33m                                      safe_indexing(a, test)) for a in arrays))\n\u001b[0m\u001b[0;32m   2060\u001b[0m \u001b[1;33m\u001b[0m\u001b[0m\n\u001b[0;32m   2061\u001b[0m \u001b[1;33m\u001b[0m\u001b[0m\n",
      "\u001b[1;32mD:\\ProgramData\\Anaconda3\\lib\\site-packages\\sklearn\\utils\\__init__.py\u001b[0m in \u001b[0;36msafe_indexing\u001b[1;34m(X, indices)\u001b[0m\n\u001b[0;32m    158\u001b[0m                                    indices.dtype.kind == 'i'):\n\u001b[0;32m    159\u001b[0m             \u001b[1;31m# This is often substantially faster than X[indices]\u001b[0m\u001b[1;33m\u001b[0m\u001b[1;33m\u001b[0m\u001b[0m\n\u001b[1;32m--> 160\u001b[1;33m             \u001b[1;32mreturn\u001b[0m \u001b[0mX\u001b[0m\u001b[1;33m.\u001b[0m\u001b[0mtake\u001b[0m\u001b[1;33m(\u001b[0m\u001b[0mindices\u001b[0m\u001b[1;33m,\u001b[0m \u001b[0maxis\u001b[0m\u001b[1;33m=\u001b[0m\u001b[1;36m0\u001b[0m\u001b[1;33m)\u001b[0m\u001b[1;33m\u001b[0m\u001b[0m\n\u001b[0m\u001b[0;32m    161\u001b[0m         \u001b[1;32melse\u001b[0m\u001b[1;33m:\u001b[0m\u001b[1;33m\u001b[0m\u001b[0m\n\u001b[0;32m    162\u001b[0m             \u001b[1;32mreturn\u001b[0m \u001b[0mX\u001b[0m\u001b[1;33m[\u001b[0m\u001b[0mindices\u001b[0m\u001b[1;33m]\u001b[0m\u001b[1;33m\u001b[0m\u001b[0m\n",
      "\u001b[1;31mTypeError\u001b[0m: take(): argument 'index' (position 1) must be Tensor, not numpy.ndarray"
     ]
    }
   ],
   "source": [
    "model_loss, model_loss_record = train(features, labels, model, config, device)"
   ]
  },
  {
   "cell_type": "code",
   "execution_count": 156,
   "metadata": {
    "ExecuteTime": {
     "end_time": "2021-05-10T07:41:31.597086Z",
     "start_time": "2021-05-10T07:41:31.434076Z"
    }
   },
   "outputs": [
    {
     "data": {
      "image/png": "[encoded data removed]",
      "text/plain": [
       "<matplotlib.figure.Figure at 0x8394588>"
      ]
     },
     "metadata": {},
     "output_type": "display_data"
    }
   ],
   "source": [
    "x_1=range(len(model_loss_record['train']))\n",
    "x_2=x_1[::len(model_loss_record['train']) // len(model_loss_record['dev'])]\n",
    "plt.plot(x_1,model_loss_record['train'],c='tab:red',label='train')\n",
    "plt.plot(x_2,model_loss_record['dev'],c='tab:cyan',label='dev')\n",
    "plt.ylim(0.0,5.)\n",
    "plt.xlabel('train step')\n",
    "plt.ylabel('loss')\n",
    "plt.legend()\n",
    "plt.show()"
   ]
  },
  {
   "cell_type": "code",
   "execution_count": null,
   "metadata": {
    "collapsed": true
   },
   "outputs": [],
   "source": []
  },
  {
   "cell_type": "code",
   "execution_count": 157,
   "metadata": {
    "ExecuteTime": {
     "end_time": "2021-05-10T07:41:42.116687Z",
     "start_time": "2021-05-10T07:41:42.105687Z"
    },
    "collapsed": true
   },
   "outputs": [],
   "source": [
    "def get_test_data():\n",
    "    data=np.genfromtxt(r'F:\\study\\ml\\HonyiLee2021\\Lhy_Machine_Learning-main\\01 Introduction\\dataset\\covid.test.csv',\n",
    "                      delimiter=',',skip_header=1)\n",
    "    data=data[:,1:]\n",
    "    data[:,40:]=(data[:,40:]-data[:,40:].mean(axis=0)) / (data[:,40:].std(axis=0))\n",
    "    features=torch.tensor(data,dtype=torch.float32)\n",
    "    return features"
   ]
  },
  {
   "cell_type": "code",
   "execution_count": 158,
   "metadata": {
    "ExecuteTime": {
     "end_time": "2021-05-10T07:41:43.948792Z",
     "start_time": "2021-05-10T07:41:43.851787Z"
    }
   },
   "outputs": [],
   "source": [
    "test_feats=get_test_data()\n",
    "# test_feats.shape()"
   ]
  },
  {
   "cell_type": "code",
   "execution_count": 159,
   "metadata": {
    "ExecuteTime": {
     "end_time": "2021-05-10T07:41:44.776839Z",
     "start_time": "2021-05-10T07:41:44.765839Z"
    }
   },
   "outputs": [
    {
     "data": {
      "text/plain": [
       "torch.Size([893, 93])"
      ]
     },
     "execution_count": 159,
     "metadata": {},
     "output_type": "execute_result"
    }
   ],
   "source": [
    "test_feats.size()"
   ]
  },
  {
   "cell_type": "code",
   "execution_count": 160,
   "metadata": {
    "ExecuteTime": {
     "end_time": "2021-05-10T07:41:51.857244Z",
     "start_time": "2021-05-10T07:41:51.805241Z"
    }
   },
   "outputs": [],
   "source": [
    "model.eval()                                # set model to evalutation mode\n",
    "preds = []                          # iterate through the dataloader\n",
    "# x = x.to(device)                        # move data to device (cpu/cuda)\n",
    "with torch.no_grad():                   # disable gradient calculation\n",
    "    pred = model(test_feats)                     # forward pass (compute output)\n",
    "    preds.append(pred.detach().cpu())   # collect prediction\n",
    "preds = torch.cat(preds, dim=0).numpy()  "
   ]
  },
  {
   "cell_type": "code",
   "execution_count": 161,
   "metadata": {
    "ExecuteTime": {
     "end_time": "2021-05-10T07:41:53.655347Z",
     "start_time": "2021-05-10T07:41:53.643347Z"
    },
    "collapsed": true
   },
   "outputs": [],
   "source": [
    "def test(tt_set, model, device):\n",
    "    model.eval()                                # set model to evalutation mode\n",
    "    preds = []                          # iterate through the dataloader\n",
    "    with torch.no_grad():                   # disable gradient calculation\n",
    "        pred = model(test_feats)                     # forward pass (compute output)\n",
    "        preds.append(pred.detach().cpu())   # collect prediction\n",
    "    preds = torch.cat(preds, dim=0).numpy()  \n",
    "    return preds"
   ]
  },
  {
   "cell_type": "code",
   "execution_count": 162,
   "metadata": {
    "ExecuteTime": {
     "end_time": "2021-05-10T07:42:22.925021Z",
     "start_time": "2021-05-10T07:42:22.915021Z"
    },
    "collapsed": true
   },
   "outputs": [],
   "source": [
    "def save_pred(preds, file):\n",
    "    ''' Save predictions to specified file '''\n",
    "    print('Saving results to {}'.format(file))\n",
    "    with open(file, 'w') as fp:\n",
    "        writer = csv.writer(fp)\n",
    "        writer.writerow(['id', 'tested_positive'])\n",
    "        for i, p in enumerate(preds):\n",
    "            writer.writerow([i, p])"
   ]
  },
  {
   "cell_type": "code",
   "execution_count": 163,
   "metadata": {
    "ExecuteTime": {
     "end_time": "2021-05-10T07:42:27.163264Z",
     "start_time": "2021-05-10T07:42:27.133262Z"
    }
   },
   "outputs": [
    {
     "name": "stdout",
     "output_type": "stream",
     "text": [
      "Saving results to F:\\study\\ml\\HonyiLee2021\\Lhy_Machine_Learning-main\\01 Introduction\\dataset\\pred222.csv\n"
     ]
    }
   ],
   "source": [
    "preds = test(test_feats, model, device)  # predict COVID-19 cases with your model\n",
    "save_pred(preds, r'F:\\study\\ml\\HonyiLee2021\\Lhy_Machine_Learning-main\\01 Introduction\\dataset\\pred222.csv')  "
   ]
  },
  {
   "cell_type": "code",
   "execution_count": null,
   "metadata": {
    "collapsed": true
   },
   "outputs": [],
   "source": []
  }
 ],
 "metadata": {
  "kernelspec": {
   "display_name": "Python 3",
   "language": "python",
   "name": "python3"
  },
  "language_info": {
   "codemirror_mode": {
    "name": "ipython",
    "version": 3
   },
   "file_extension": ".py",
   "mimetype": "text/x-python",
   "name": "python",
   "nbconvert_exporter": "python",
   "pygments_lexer": "ipython3",
   "version": "3.6.3"
  }
 },
 "nbformat": 4,
 "nbformat_minor": 2
}
