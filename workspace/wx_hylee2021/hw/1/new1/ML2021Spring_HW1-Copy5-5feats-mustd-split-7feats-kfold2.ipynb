{
 "cells": [
  {
   "cell_type": "markdown",
   "metadata": {
    "id": "mz0_QVkxCrX3"
   },
   "source": [
    "# **Homework 1: COVID-19 Cases Prediction (Regression)**"
   ]
  },
  {
   "cell_type": "markdown",
   "metadata": {
    "id": "ZeZnPAiwDRWG"
   },
   "source": [
    "Author: Heng-Jui Chang\n",
    "\n",
    "Slides: https://github.com/ga642381/ML2021-Spring/blob/main/HW01/HW01.pdf  \n",
    "Video: TBA\n",
    "\n",
    "Objectives:\n",
    "* Solve a regression problem with deep neural networks (DNN).\n",
    "* Understand basic DNN training tips.\n",
    "* Get familiar with PyTorch.\n",
    "\n",
    "If any questions, please contact the TAs via TA hours, NTU COOL, or email.\n"
   ]
  },
  {
   "cell_type": "markdown",
   "metadata": {
    "id": "Jx3x1nDkG-Uy"
   },
   "source": [
    "# **Download Data**\n",
    "\n",
    "\n",
    "If the Google drive links are dead, you can download data from [kaggle](https://www.kaggle.com/c/ml2021spring-hw1/data), and upload data manually to the workspace."
   ]
  },
  {
   "cell_type": "code",
   "execution_count": 1,
   "metadata": {
    "ExecuteTime": {
     "end_time": "2021-08-31T08:38:13.558008Z",
     "start_time": "2021-08-31T08:38:13.453002Z"
    },
    "colab": {
     "base_uri": "https://localhost:8080/"
    },
    "id": "tMj55YDKG6ch",
    "outputId": "fc40ecc9-4756-48b1-d5c6-c169a8b453b2"
   },
   "outputs": [
    {
     "name": "stderr",
     "output_type": "stream",
     "text": [
      "'gdown' 不是内部或外部命令，也不是可运行的程序\n",
      "或批处理文件。\n",
      "'gdown' 不是内部或外部命令，也不是可运行的程序\n",
      "或批处理文件。\n"
     ]
    }
   ],
   "source": [
    "tr_path = r'F:\\study\\ml\\HonyiLee2021\\Lhy_Machine_Learning-main\\01 Introduction\\dataset\\covid.train.csv'  # path to training data\n",
    "tt_path = r'F:\\study\\ml\\HonyiLee2021\\Lhy_Machine_Learning-main\\01 Introduction\\dataset\\covid.test.csv'   # path to testing data\n",
    "\n",
    "!gdown --id '19CCyCgJrUxtvgZF53vnctJiOJ23T5mqF' --output covid.train.csv\n",
    "!gdown --id '1CE240jLm2npU-tdz81-oVKEF3T2yfT1O' --output covid.test.csv"
   ]
  },
  {
   "cell_type": "markdown",
   "metadata": {
    "id": "wS_4-77xHk44"
   },
   "source": [
    "# **Import Some Packages**"
   ]
  },
  {
   "cell_type": "code",
   "execution_count": 2,
   "metadata": {
    "ExecuteTime": {
     "end_time": "2021-08-31T08:38:17.335224Z",
     "start_time": "2021-08-31T08:38:15.825138Z"
    },
    "collapsed": true,
    "id": "k-onQd4JNA5H"
   },
   "outputs": [],
   "source": [
    "# PyTorch\n",
    "import torch\n",
    "import torch.nn as nn\n",
    "from torch.utils.data import Dataset, DataLoader\n",
    "\n",
    "# For data preprocess\n",
    "import numpy as np\n",
    "import csv\n",
    "import os\n",
    "\n",
    "# For plotting\n",
    "import matplotlib.pyplot as plt\n",
    "from matplotlib.pyplot import figure\n",
    "\n",
    "myseed = 42069  # set a random seed for reproducibility\n",
    "torch.backends.cudnn.deterministic = True\n",
    "torch.backends.cudnn.benchmark = False\n",
    "np.random.seed(myseed)\n",
    "torch.manual_seed(myseed)\n",
    "if torch.cuda.is_available():\n",
    "    torch.cuda.manual_seed_all(myseed)"
   ]
  },
  {
   "cell_type": "markdown",
   "metadata": {
    "id": "BtE3b6JEH7rw"
   },
   "source": [
    "# **Some Utilities**\n",
    "\n",
    "You do not need to modify this part."
   ]
  },
  {
   "cell_type": "code",
   "execution_count": 3,
   "metadata": {
    "ExecuteTime": {
     "end_time": "2021-08-31T08:38:18.440288Z",
     "start_time": "2021-08-31T08:38:18.330281Z"
    },
    "collapsed": true,
    "id": "FWMT3uf1NGQp"
   },
   "outputs": [],
   "source": [
    "def get_device():\n",
    "    ''' Get device (if GPU is available, use GPU) '''\n",
    "    return 'cuda' if torch.cuda.is_available() else 'cpu'\n",
    "\n",
    "def plot_learning_curve(loss_record, title=''):\n",
    "    ''' Plot learning curve of your DNN (train & dev loss) '''\n",
    "    total_steps = len(loss_record['train'])\n",
    "    x_1 = range(total_steps)\n",
    "    x_2 = x_1[::len(loss_record['train']) // len(loss_record['dev'])]\n",
    "    figure(figsize=(6, 4))\n",
    "    plt.plot(x_1, loss_record['train'], c='tab:red', label='train')\n",
    "    plt.plot(x_2, loss_record['dev'], c='tab:cyan', label='dev')\n",
    "    plt.ylim(0.0, 5.)\n",
    "    plt.xlabel('Training steps')\n",
    "    plt.ylabel('MSE loss')\n",
    "    plt.title('Learning curve of {}'.format(title))\n",
    "    plt.legend()\n",
    "    plt.show()\n",
    "\n",
    "\n",
    "def plot_pred(dv_set, model, device, lim=35., preds=None, targets=None):\n",
    "    ''' Plot prediction of your DNN '''\n",
    "    if preds is None or targets is None:\n",
    "        model.eval()\n",
    "        preds, targets = [], []\n",
    "        for x, y in dv_set:\n",
    "            x, y = x.to(device), y.to(device)\n",
    "            with torch.no_grad():\n",
    "                pred = model(x)\n",
    "                preds.append(pred.detach().cpu())\n",
    "                targets.append(y.detach().cpu())\n",
    "        preds = torch.cat(preds, dim=0).numpy()\n",
    "        targets = torch.cat(targets, dim=0).numpy()\n",
    "\n",
    "    figure(figsize=(5, 5))\n",
    "    plt.scatter(targets, preds, c='r', alpha=0.5)\n",
    "    plt.plot([-0.2, lim], [-0.2, lim], c='b')\n",
    "    plt.xlim(-0.2, lim)\n",
    "    plt.ylim(-0.2, lim)\n",
    "    plt.xlabel('ground truth value')\n",
    "    plt.ylabel('predicted value')\n",
    "    plt.title('Ground Truth v.s. Prediction')\n",
    "    plt.show()"
   ]
  },
  {
   "cell_type": "markdown",
   "metadata": {
    "id": "39U_XFX6KOoj"
   },
   "source": [
    "# **Preprocess**\n",
    "\n",
    "We have three kinds of datasets:\n",
    "* `train`: for training\n",
    "* `dev`: for validation\n",
    "* `test`: for testing (w/o target value)"
   ]
  },
  {
   "cell_type": "markdown",
   "metadata": {
    "id": "TQ-MdwpLL7Dt"
   },
   "source": [
    "## **Dataset**\n",
    "\n",
    "The `COVID19Dataset` below does:\n",
    "* read `.csv` files\n",
    "* extract features\n",
    "* split `covid.train.csv` into train/dev sets\n",
    "* normalize features\n",
    "\n",
    "Finishing `TODO` below might make you pass medium baseline."
   ]
  },
  {
   "cell_type": "code",
   "execution_count": 4,
   "metadata": {
    "ExecuteTime": {
     "end_time": "2021-08-31T08:38:25.157672Z",
     "start_time": "2021-08-31T08:38:20.961432Z"
    },
    "collapsed": true
   },
   "outputs": [],
   "source": [
    "from sklearn.model_selection import train_test_split"
   ]
  },
  {
   "cell_type": "code",
   "execution_count": 5,
   "metadata": {
    "ExecuteTime": {
     "end_time": "2021-08-31T08:38:53.342284Z",
     "start_time": "2021-08-31T08:38:53.187275Z"
    },
    "collapsed": true,
    "id": "0zlpIp9ANJRU"
   },
   "outputs": [],
   "source": [
    "class COVID19Dataset(Dataset):\n",
    "    ''' Dataset for loading and preprocessing the COVID19 dataset '''\n",
    "    def __init__(self,\n",
    "                 path,\n",
    "#                  mu,\n",
    "#                  std,\n",
    "                 mode='train',\n",
    "                 target_only=False):\n",
    "        self.mode = mode\n",
    "\n",
    "        # Read data into numpy arrays\n",
    "        with open(path, 'r') as fp:\n",
    "            data = list(csv.reader(fp))\n",
    "            data = np.array(data[1:])[:, 1:].astype(float)\n",
    "        \n",
    "        if not target_only:\n",
    "#             feats = list(range(93))\n",
    "#             feats=list(range(40))+[42, 57, 60, 75, 78]  ## > 0.87\n",
    "            feats=list(range(40))+[42, 43, 57, 60, 61, 75, 78, 79] ## >0.85\n",
    "#             feats=list(range(40))+[57, 75]\n",
    "        else:\n",
    "            # TODO: Using 40 states & 2 tested_positive features (indices = 57 & 75)\n",
    "            pass\n",
    "\n",
    "        if mode == 'test':\n",
    "            # Testing data\n",
    "            # data: 893 x 93 (40 states + day 1 (18) + day 2 (18) + day 3 (17))\n",
    "            data = data[:, feats]\n",
    "            self.data = torch.FloatTensor(data)\n",
    "        else:\n",
    "            # Training data (train/dev sets)\n",
    "            # data: 2700 x 94 (40 states + day 1 (18) + day 2 (18) + day 3 (18))\n",
    "            target = data[:, -1]\n",
    "            data = data[:, feats]\n",
    "            \n",
    "            # Splitting training data into train & dev sets\n",
    "            \n",
    "            indices=list(range(len(data)))\n",
    "            train_indices,dev_indices=train_test_split(indices,test_size=0.3,random_state=42069)\n",
    "            \n",
    "            \n",
    "            if mode == 'train':\n",
    "#                 indices = [i for i in range(len(data)) if i % 10 != 0]\n",
    "                indices=train_indices\n",
    "            elif mode == 'dev':\n",
    "#                 indices = [i for i in range(len(data)) if i % 10 == 0]\n",
    "                indices=dev_indices\n",
    "            \n",
    "            # Convert data into PyTorch tensors\n",
    "            self.data = torch.FloatTensor(data[indices])\n",
    "            self.target = torch.FloatTensor(target[indices])\n",
    "\n",
    "        # Normalize features (you may remove this part to see what will happen)\n",
    "#         if mode=='train':\n",
    "#             self.mu=self.data[:,40:].mean(dim=0,keepdim=True)\n",
    "#             self.std=self.data[:,40:].std(dim=0,keepdim=True)\n",
    "#         else:\n",
    "#             self.mu=mu\n",
    "#             self.std=std\n",
    "#         self.data[:,40:]=(self.data[:,40:]-self.mu)/self.std\n",
    "        \n",
    "#         self.data[:, 40:] = \\\n",
    "#             (self.data[:, 40:] - self.data[:, 40:].mean(dim=0, keepdim=True)) \\\n",
    "#             / self.data[:, 40:].std(dim=0, keepdim=True)\n",
    "\n",
    "        self.dim = self.data.shape[1]\n",
    "\n",
    "        print('Finished reading the {} set of COVID19 Dataset ({} samples found, each dim = {})'\n",
    "              .format(mode, len(self.data), self.dim))\n",
    "\n",
    "    def __getitem__(self, index):\n",
    "        # Returns one sample at a time\n",
    "        if self.mode in ['train', 'dev']:\n",
    "            # For training\n",
    "            return self.data[index], self.target[index]\n",
    "        else:\n",
    "            # For testing (no target)\n",
    "            return self.data[index]\n",
    "\n",
    "    def __len__(self):\n",
    "        # Returns the size of the dataset\n",
    "        return len(self.data)"
   ]
  },
  {
   "cell_type": "markdown",
   "metadata": {
    "id": "AlhTlkE7MDo3"
   },
   "source": [
    "## **DataLoader**\n",
    "\n",
    "A `DataLoader` loads data from a given `Dataset` into batches.\n"
   ]
  },
  {
   "cell_type": "code",
   "execution_count": 6,
   "metadata": {
    "ExecuteTime": {
     "end_time": "2021-08-31T08:38:56.408459Z",
     "start_time": "2021-08-31T08:38:56.385458Z"
    },
    "collapsed": true,
    "id": "hlhLk5t6MBX3"
   },
   "outputs": [],
   "source": [
    "def prep_dataloader(path, mode, batch_size, n_jobs=0, target_only=False):\n",
    "    ''' Generates a dataset, then is put into a dataloader. '''\n",
    "    dataset = COVID19Dataset(path, mode=mode, target_only=target_only)  # Construct dataset\n",
    "#     if mode=='train':\n",
    "#         mu=dataset.mu\n",
    "#         std=dataset.std\n",
    "    dataloader = DataLoader(\n",
    "        dataset, batch_size,\n",
    "        shuffle=(mode == 'train'), drop_last=False,\n",
    "        num_workers=n_jobs, pin_memory=True)                            # Construct dataloader\n",
    "    return dataloader"
   ]
  },
  {
   "cell_type": "markdown",
   "metadata": {
    "id": "SGuycwR0MeQB"
   },
   "source": [
    "# **Deep Neural Network**\n",
    "\n",
    "`NeuralNet` is an `nn.Module` designed for regression.\n",
    "The DNN consists of 2 fully-connected layers with ReLU activation.\n",
    "This module also included a function `cal_loss` for calculating loss.\n"
   ]
  },
  {
   "cell_type": "code",
   "execution_count": 7,
   "metadata": {
    "ExecuteTime": {
     "end_time": "2021-08-31T08:39:03.818883Z",
     "start_time": "2021-08-31T08:39:03.777881Z"
    },
    "collapsed": true,
    "id": "49-uXYovOAI0"
   },
   "outputs": [],
   "source": [
    "class NeuralNet(nn.Module):\n",
    "    ''' A simple fully-connected deep neural network '''\n",
    "    def __init__(self, input_dim):\n",
    "        super(NeuralNet, self).__init__()\n",
    "\n",
    "        # Define your neural network here\n",
    "        # TODO: How to modify this model to achieve better performance?\n",
    "        self.net = nn.Sequential(\n",
    "            nn.BatchNorm1d(input_dim),\n",
    "            nn.Linear(input_dim, 64),\n",
    "            nn.ReLU(),\n",
    "            nn.BatchNorm1d(64),\n",
    "            nn.Linear(64, 1)\n",
    "        )\n",
    "\n",
    "        # Mean squared error loss\n",
    "        self.criterion = nn.MSELoss(reduction='mean')\n",
    "\n",
    "    def forward(self, x):\n",
    "        ''' Given input of size (batch_size x input_dim), compute output of the network '''\n",
    "        return self.net(x).squeeze(1)\n",
    "\n",
    "    def cal_loss(self, pred, target):\n",
    "        ''' Calculate loss '''\n",
    "        # TODO: you may implement L2 regularization here\n",
    "        return self.criterion(pred, target)"
   ]
  },
  {
   "cell_type": "markdown",
   "metadata": {
    "id": "DvFWVjZ5Nvga"
   },
   "source": [
    "# **Train/Dev/Test**"
   ]
  },
  {
   "cell_type": "markdown",
   "metadata": {
    "id": "MAM8QecJOyqn"
   },
   "source": [
    "## **Training**"
   ]
  },
  {
   "cell_type": "code",
   "execution_count": 8,
   "metadata": {
    "ExecuteTime": {
     "end_time": "2021-08-31T08:39:06.552039Z",
     "start_time": "2021-08-31T08:39:06.467035Z"
    },
    "collapsed": true,
    "id": "lOqcmYzMO7jB"
   },
   "outputs": [],
   "source": [
    "def train(tr_set, dv_set, model, config, device):\n",
    "    ''' DNN training '''\n",
    "\n",
    "    n_epochs = config['n_epochs']  # Maximum number of epochs\n",
    "\n",
    "    # Setup optimizer\n",
    "    optimizer = getattr(torch.optim, config['optimizer'])(\n",
    "        model.parameters(), **config['optim_hparas'])\n",
    "\n",
    "    min_mse = 1000.\n",
    "    loss_record = {'train': [], 'dev': []}      # for recording training loss\n",
    "    early_stop_cnt = 0\n",
    "    epoch = 0\n",
    "    while epoch < n_epochs:\n",
    "        model.train()                           # set model to training mode\n",
    "        for x, y in tr_set:                     # iterate through the dataloader\n",
    "            optimizer.zero_grad()               # set gradient to zero\n",
    "            x, y = x.to(device), y.to(device)   # move data to device (cpu/cuda)\n",
    "            pred = model(x)                     # forward pass (compute output)\n",
    "            mse_loss = model.cal_loss(pred, y)  # compute loss\n",
    "            mse_loss.backward()                 # compute gradient (backpropagation)\n",
    "            optimizer.step()                    # update model with optimizer\n",
    "            loss_record['train'].append(mse_loss.detach().cpu().item())\n",
    "\n",
    "        # After each epoch, test your model on the validation (development) set.\n",
    "        dev_mse = dev(dv_set, model, device)\n",
    "        if dev_mse < min_mse:\n",
    "            # Save model if your model improved\n",
    "            min_mse = dev_mse\n",
    "#             print('-------------train loss {:4f}------------'.format(loss_record['train'][-1]))\n",
    "            print('Saving model (epoch = {:4d},train loss= {:.4f}, loss = {:.4f})'\n",
    "                .format(epoch + 1,loss_record['train'][-1], min_mse))\n",
    "            torch.save(model.state_dict(), config['save_path'])  # Save model to specified path\n",
    "            early_stop_cnt = 0\n",
    "        else:\n",
    "            early_stop_cnt += 1\n",
    "\n",
    "        epoch += 1\n",
    "        loss_record['dev'].append(dev_mse)\n",
    "        if early_stop_cnt > config['early_stop']:\n",
    "            # Stop training if your model stops improving for \"config['early_stop']\" epochs.\n",
    "            break\n",
    "\n",
    "    print('Finished training after {} epochs'.format(epoch))\n",
    "    return min_mse, loss_record"
   ]
  },
  {
   "cell_type": "markdown",
   "metadata": {
    "id": "0hSd4Bn3O2PL"
   },
   "source": [
    "## **Validation**"
   ]
  },
  {
   "cell_type": "code",
   "execution_count": 9,
   "metadata": {
    "ExecuteTime": {
     "end_time": "2021-08-31T08:39:07.901117Z",
     "start_time": "2021-08-31T08:39:07.867115Z"
    },
    "collapsed": true,
    "id": "yrxrD3YsN3U2"
   },
   "outputs": [],
   "source": [
    "def dev(dv_set, model, device):\n",
    "    model.eval()                                # set model to evalutation mode\n",
    "    total_loss = 0\n",
    "    for x, y in dv_set:                         # iterate through the dataloader\n",
    "        x, y = x.to(device), y.to(device)       # move data to device (cpu/cuda)\n",
    "        with torch.no_grad():                   # disable gradient calculation\n",
    "            pred = model(x)                     # forward pass (compute output)\n",
    "            mse_loss = model.cal_loss(pred, y)  # compute loss\n",
    "        total_loss += mse_loss.detach().cpu().item() * len(x)  # accumulate loss\n",
    "    total_loss = total_loss / len(dv_set.dataset)              # compute averaged loss\n",
    "\n",
    "    return total_loss"
   ]
  },
  {
   "cell_type": "markdown",
   "metadata": {
    "id": "g0pdrhQAO41L"
   },
   "source": [
    "## **Testing**"
   ]
  },
  {
   "cell_type": "code",
   "execution_count": 10,
   "metadata": {
    "ExecuteTime": {
     "end_time": "2021-08-31T08:39:09.699219Z",
     "start_time": "2021-08-31T08:39:09.674218Z"
    },
    "collapsed": true,
    "id": "aSBMRFlYN5tB"
   },
   "outputs": [],
   "source": [
    "def test(tt_set, model, device):\n",
    "    model.eval()                                # set model to evalutation mode\n",
    "    preds = []\n",
    "    for x in tt_set:                            # iterate through the dataloader\n",
    "        x = x.to(device)                        # move data to device (cpu/cuda)\n",
    "        with torch.no_grad():                   # disable gradient calculation\n",
    "            pred = model(x)                     # forward pass (compute output)\n",
    "            preds.append(pred.detach().cpu())   # collect prediction\n",
    "    preds = torch.cat(preds, dim=0).numpy()     # concatenate all predictions and convert to a numpy array\n",
    "    return preds"
   ]
  },
  {
   "cell_type": "markdown",
   "metadata": {
    "id": "SvckkF5dvf0j"
   },
   "source": [
    "# **Setup Hyper-parameters**\n",
    "\n",
    "`config` contains hyper-parameters for training and the path to save your model."
   ]
  },
  {
   "cell_type": "code",
   "execution_count": 11,
   "metadata": {
    "ExecuteTime": {
     "end_time": "2021-08-31T08:39:10.419261Z",
     "start_time": "2021-08-31T08:39:10.410260Z"
    },
    "collapsed": true,
    "id": "NPXpdumwPjE7"
   },
   "outputs": [],
   "source": [
    "device = get_device()                 # get the current available device ('cpu' or 'cuda')\n",
    "os.makedirs('models', exist_ok=True)  # The trained model will be saved to ./models/\n",
    "target_only = False                   # TODO: Using 40 states & 2 tested_positive features\n",
    "\n",
    "# TODO: How to tune these hyper-parameters to improve your model's performance?\n",
    "config = {\n",
    "    'n_epochs': 3000,                # maximum number of epochs\n",
    "    'batch_size': 270,               # mini-batch size for dataloader\n",
    "    'optimizer': 'SGD',              # optimization algorithm (optimizer in torch.optim)\n",
    "    'optim_hparas': {                # hyper-parameters for the optimizer (depends on which optimizer you are using)\n",
    "        'lr': 0.001,                 # learning rate of SGD\n",
    "        'momentum': 0.9              # momentum for SGD\n",
    "    },\n",
    "    'early_stop': 200,               # early stopping epochs (the number epochs since your model's last improvement)\n",
    "    'save_path': 'models/model.pth'  # your model will be saved here\n",
    "}"
   ]
  },
  {
   "cell_type": "markdown",
   "metadata": {
    "id": "6j1eOV3TOH-j"
   },
   "source": [
    "# **Load data and model**"
   ]
  },
  {
   "cell_type": "code",
   "execution_count": 12,
   "metadata": {
    "ExecuteTime": {
     "end_time": "2021-08-31T08:39:12.143359Z",
     "start_time": "2021-08-31T08:39:11.616329Z"
    },
    "colab": {
     "base_uri": "https://localhost:8080/"
    },
    "id": "eNrYBMmePLKm",
    "outputId": "fcd4f175-4f7e-4306-f33c-5f8285f11dce"
   },
   "outputs": [
    {
     "name": "stdout",
     "output_type": "stream",
     "text": [
      "Finished reading the train set of COVID19 Dataset (1890 samples found, each dim = 48)\n",
      "Finished reading the dev set of COVID19 Dataset (810 samples found, each dim = 48)\n",
      "Finished reading the test set of COVID19 Dataset (893 samples found, each dim = 48)\n"
     ]
    }
   ],
   "source": [
    "tr_set= prep_dataloader(tr_path, 'train', config['batch_size'], target_only=target_only)\n",
    "dv_set= prep_dataloader(tr_path, 'dev', config['batch_size'], target_only=target_only)\n",
    "tt_set = prep_dataloader(tt_path, 'test', config['batch_size'], target_only=target_only)"
   ]
  },
  {
   "cell_type": "code",
   "execution_count": 13,
   "metadata": {
    "ExecuteTime": {
     "end_time": "2021-08-31T08:39:12.183362Z",
     "start_time": "2021-08-31T08:39:12.144359Z"
    },
    "collapsed": true,
    "id": "FHylSirLP9oh"
   },
   "outputs": [],
   "source": [
    "model = NeuralNet(tr_set.dataset.dim).to(device)  # Construct model and move to device"
   ]
  },
  {
   "cell_type": "markdown",
   "metadata": {
    "id": "sX2B_zgSOPTJ"
   },
   "source": [
    "# **Start Training!**"
   ]
  },
  {
   "cell_type": "code",
   "execution_count": 14,
   "metadata": {
    "ExecuteTime": {
     "end_time": "2021-08-31T08:40:01.472181Z",
     "start_time": "2021-08-31T08:39:13.688448Z"
    },
    "colab": {
     "base_uri": "https://localhost:8080/"
    },
    "id": "GrEbUxazQAAZ",
    "outputId": "f4f3bd74-2d97-4275-b69f-6609976b91f9"
   },
   "outputs": [
    {
     "name": "stdout",
     "output_type": "stream",
     "text": [
      "Saving model (epoch =    1,train loss= 284.7081, loss = 269.5757)\n",
      "Saving model (epoch =    2,train loss= 168.7003, loss = 100.5422)\n",
      "Saving model (epoch =    3,train loss= 19.6833, loss = 25.5829)\n",
      "Saving model (epoch =    4,train loss= 21.8344, loss = 24.6090)\n",
      "Saving model (epoch =    5,train loss= 11.3980, loss = 16.5446)\n",
      "Saving model (epoch =    6,train loss= 6.0477, loss = 3.4475)\n",
      "Saving model (epoch =    8,train loss= 1.9323, loss = 3.2556)\n",
      "Saving model (epoch =    9,train loss= 1.4865, loss = 1.8614)\n",
      "Saving model (epoch =   10,train loss= 1.5847, loss = 1.3745)\n",
      "Saving model (epoch =   12,train loss= 1.1790, loss = 1.2977)\n",
      "Saving model (epoch =   13,train loss= 1.7307, loss = 1.2291)\n",
      "Saving model (epoch =   14,train loss= 1.5905, loss = 1.2167)\n",
      "Saving model (epoch =   15,train loss= 1.2759, loss = 1.2040)\n",
      "Saving model (epoch =   16,train loss= 1.0763, loss = 1.1989)\n",
      "Saving model (epoch =   17,train loss= 1.2162, loss = 1.1964)\n",
      "Saving model (epoch =   18,train loss= 1.6000, loss = 1.1564)\n",
      "Saving model (epoch =   19,train loss= 1.1026, loss = 1.1528)\n",
      "Saving model (epoch =   20,train loss= 1.3166, loss = 1.1386)\n",
      "Saving model (epoch =   21,train loss= 1.0088, loss = 1.1285)\n",
      "Saving model (epoch =   23,train loss= 0.8375, loss = 1.1258)\n",
      "Saving model (epoch =   24,train loss= 1.2916, loss = 1.1086)\n",
      "Saving model (epoch =   28,train loss= 1.1741, loss = 1.1069)\n",
      "Saving model (epoch =   29,train loss= 1.0953, loss = 1.0876)\n",
      "Saving model (epoch =   33,train loss= 1.7269, loss = 1.0798)\n",
      "Saving model (epoch =   35,train loss= 0.9737, loss = 1.0679)\n",
      "Saving model (epoch =   38,train loss= 1.1804, loss = 1.0601)\n",
      "Saving model (epoch =   41,train loss= 1.2061, loss = 1.0491)\n",
      "Saving model (epoch =   47,train loss= 1.3530, loss = 1.0482)\n",
      "Saving model (epoch =   53,train loss= 1.5293, loss = 1.0454)\n",
      "Saving model (epoch =   56,train loss= 0.9554, loss = 1.0433)\n",
      "Saving model (epoch =   58,train loss= 1.5149, loss = 1.0358)\n",
      "Saving model (epoch =   78,train loss= 1.1107, loss = 1.0338)\n",
      "Saving model (epoch =   82,train loss= 1.1678, loss = 1.0281)\n",
      "Saving model (epoch =  100,train loss= 1.1148, loss = 1.0275)\n",
      "Saving model (epoch =  109,train loss= 1.4427, loss = 1.0240)\n",
      "Saving model (epoch =  139,train loss= 1.0030, loss = 1.0227)\n",
      "Saving model (epoch =  162,train loss= 1.1506, loss = 1.0222)\n",
      "Saving model (epoch =  172,train loss= 1.1998, loss = 1.0205)\n",
      "Saving model (epoch =  179,train loss= 0.9470, loss = 1.0201)\n",
      "Saving model (epoch =  197,train loss= 0.9875, loss = 1.0201)\n",
      "Saving model (epoch =  212,train loss= 1.0950, loss = 1.0200)\n",
      "Saving model (epoch =  220,train loss= 0.8412, loss = 1.0168)\n",
      "Saving model (epoch =  236,train loss= 1.5213, loss = 1.0143)\n",
      "Saving model (epoch =  259,train loss= 0.9159, loss = 1.0109)\n",
      "Saving model (epoch =  292,train loss= 1.0005, loss = 1.0057)\n",
      "Saving model (epoch =  293,train loss= 1.4495, loss = 1.0046)\n",
      "Saving model (epoch =  328,train loss= 0.8893, loss = 1.0023)\n",
      "Saving model (epoch =  335,train loss= 1.1442, loss = 1.0005)\n",
      "Saving model (epoch =  353,train loss= 1.0310, loss = 0.9989)\n",
      "Saving model (epoch =  423,train loss= 1.4059, loss = 0.9951)\n",
      "Saving model (epoch =  433,train loss= 1.1050, loss = 0.9930)\n",
      "Saving model (epoch =  466,train loss= 0.8951, loss = 0.9901)\n",
      "Saving model (epoch =  480,train loss= 0.8840, loss = 0.9890)\n",
      "Saving model (epoch =  524,train loss= 1.5562, loss = 0.9888)\n",
      "Saving model (epoch =  610,train loss= 1.1004, loss = 0.9834)\n",
      "Saving model (epoch =  636,train loss= 1.2295, loss = 0.9806)\n",
      "Saving model (epoch =  810,train loss= 0.9385, loss = 0.9805)\n",
      "Saving model (epoch =  884,train loss= 0.8755, loss = 0.9799)\n",
      "Saving model (epoch =  974,train loss= 1.2512, loss = 0.9794)\n",
      "Finished training after 1175 epochs\n"
     ]
    }
   ],
   "source": [
    "model_loss, model_loss_record = train(tr_set, dv_set, model, config, device)"
   ]
  },
  {
   "cell_type": "markdown",
   "metadata": {},
   "source": [
    "- 93dim: 0.7537\n",
    "- 45dim: 0.8749"
   ]
  },
  {
   "cell_type": "code",
   "execution_count": 40,
   "metadata": {
    "ExecuteTime": {
     "end_time": "2021-05-28T06:25:18.066789Z",
     "start_time": "2021-05-28T06:25:17.702768Z"
    },
    "colab": {
     "base_uri": "https://localhost:8080/",
     "height": 295
    },
    "id": "hsNO9nnXQBvP",
    "outputId": "1626def6-94c7-4a87-9447-d939f827c8eb"
   },
   "outputs": [
    {
     "data": {
      "image/png": "[encoded data removed]",
      "text/plain": [
       "<matplotlib.figure.Figure at 0x117d2da0>"
      ]
     },
     "metadata": {},
     "output_type": "display_data"
    }
   ],
   "source": [
    "plot_learning_curve(model_loss_record, title='deep model')"
   ]
  },
  {
   "cell_type": "code",
   "execution_count": 41,
   "metadata": {
    "ExecuteTime": {
     "end_time": "2021-05-28T06:25:21.329975Z",
     "start_time": "2021-05-28T06:25:21.165966Z"
    },
    "colab": {
     "base_uri": "https://localhost:8080/",
     "height": 350
    },
    "id": "3iZTVn5WQFpX",
    "outputId": "a2d5e118-559d-45c6-b644-6792af54663d"
   },
   "outputs": [
    {
     "data": {
      "image/png": "[encoded data removed]",
      "text/plain": [
       "<matplotlib.figure.Figure at 0x5a879b0>"
      ]
     },
     "metadata": {},
     "output_type": "display_data"
    }
   ],
   "source": [
    "del model\n",
    "model = NeuralNet(tr_set.dataset.dim).to(device)\n",
    "ckpt = torch.load(config['save_path'], map_location='cpu')  # Load your best model\n",
    "model.load_state_dict(ckpt)\n",
    "plot_pred(dv_set, model, device)  # Show prediction on the validation set"
   ]
  },
  {
   "cell_type": "markdown",
   "metadata": {},
   "source": [
    "# **Test**"
   ]
  },
  {
   "cell_type": "code",
   "execution_count": 42,
   "metadata": {
    "ExecuteTime": {
     "end_time": "2021-05-28T06:25:33.298660Z",
     "start_time": "2021-05-28T06:25:33.271658Z"
    },
    "collapsed": true
   },
   "outputs": [],
   "source": [
    "def dev(dv_set, model, device):\n",
    "    model.eval()                                # set model to evalutation mode\n",
    "    with torch.no_grad():                   # disable gradient calculation\n",
    "        total_loss = 0\n",
    "        for x, y in dv_set:                         # iterate through the dataloader\n",
    "            x, y = x.to(device), y.to(device)       # move data to device (cpu/cuda)\n",
    "            pred = model(x)                     # forward pass (compute output)\n",
    "            mse_loss = model.cal_loss(pred, y)  # compute loss\n",
    "            total_loss += mse_loss.detach().cpu().item() * len(x)  # accumulate loss\n",
    "        total_loss = total_loss / len(dv_set.dataset)              # compute averaged loss\n",
    "\n",
    "    return total_loss"
   ]
  },
  {
   "cell_type": "code",
   "execution_count": 43,
   "metadata": {
    "ExecuteTime": {
     "end_time": "2021-05-28T06:25:33.867692Z",
     "start_time": "2021-05-28T06:25:33.844691Z"
    },
    "collapsed": true
   },
   "outputs": [],
   "source": [
    "def test(tt_set, model, device):\n",
    "    model.eval()                                # set model to evalutation mode\n",
    "    with torch.no_grad():                   # disable gradient calculation\n",
    "        preds = []\n",
    "        for x in tt_set:                            # iterate through the dataloader\n",
    "            x = x.to(device)                        # move data to device (cpu/cuda)\n",
    "\n",
    "            pred = model(x)                     # forward pass (compute output)\n",
    "            preds.append(pred.detach().cpu())   # collect prediction\n",
    "    preds = torch.cat(preds, dim=0).numpy()     # concatenate all predictions and convert to a numpy array\n",
    "    return preds"
   ]
  },
  {
   "cell_type": "code",
   "execution_count": 72,
   "metadata": {
    "ExecuteTime": {
     "end_time": "2021-05-28T06:38:29.242041Z",
     "start_time": "2021-05-28T06:38:29.183038Z"
    },
    "collapsed": true
   },
   "outputs": [],
   "source": [
    "class NeuralNet(nn.Module):\n",
    "    ''' A simple fully-connected deep neural network '''\n",
    "    def __init__(self, input_dim):\n",
    "        super(NeuralNet, self).__init__()\n",
    "\n",
    "        # Define your neural network here\n",
    "        # TODO: How to modify this model to achieve better performance?\n",
    "        self.net = nn.Sequential(\n",
    "            nn.BatchNorm1d(input_dim),\n",
    "            nn.Linear(input_dim, 512),\n",
    "            nn.ReLU(),\n",
    "            nn.BatchNorm1d(512),\n",
    "            nn.Linear(512, 256),\n",
    "            nn.ReLU(),\n",
    "            nn.BatchNorm1d(256),\n",
    "            nn.Linear(256,64),\n",
    "            nn.ReLU(),\n",
    "            nn.BatchNorm1d(64),\n",
    "            nn.Linear(64,1),\n",
    "        )\n",
    "\n",
    "        # Mean squared error loss\n",
    "        self.criterion = nn.MSELoss(reduction='mean')\n",
    "\n",
    "    def forward(self, x):\n",
    "        ''' Given input of size (batch_size x input_dim), compute output of the network '''\n",
    "        return self.net(x).squeeze(1)\n",
    "\n",
    "    def cal_loss(self, pred, target):\n",
    "        ''' Calculate loss '''\n",
    "        # TODO: you may implement L2 regularization here\n",
    "        return torch.sqrt(self.criterion(pred, target))"
   ]
  },
  {
   "cell_type": "code",
   "execution_count": 88,
   "metadata": {
    "ExecuteTime": {
     "end_time": "2021-05-28T06:44:59.819381Z",
     "start_time": "2021-05-28T06:44:59.799380Z"
    },
    "collapsed": true
   },
   "outputs": [],
   "source": [
    "device = get_device()                 # get the current available device ('cpu' or 'cuda')\n",
    "os.makedirs('models', exist_ok=True)  # The trained model will be saved to ./models/\n",
    "target_only = False                   # TODO: Using 40 states & 2 tested_positive features\n",
    "\n",
    "# TODO: How to tune these hyper-parameters to improve your model's performance?\n",
    "# torch.nn.BatchNorm1d()\n",
    "# torch.optim.ASGD()\n",
    "# torch.optim.Adamax()\n",
    "# torch.optim.Adam()\n",
    "config = {\n",
    "    'n_epochs': 3000,                # maximum number of epochs\n",
    "    'batch_size': 128,               # mini-batch size for dataloader\n",
    "    'optimizer': 'Adam',              # optimization algorithm (optimizer in torch.optim)\n",
    "    'optim_hparas': {                # hyper-parameters for the optimizer (depends on which optimizer you are using)\n",
    "        'lr': 0.001,                 # learning rate of SGD\n",
    "#         'momentum': 0.5,            # momentum for SGD\n",
    "#         'weight_decay':0.05\n",
    "    },\n",
    "    'early_stop': 200,               # early stopping epochs (the number epochs since your model's last improvement)\n",
    "    'save_path': 'models/model.pth'  # your model will be saved here\n",
    "}"
   ]
  },
  {
   "cell_type": "code",
   "execution_count": 89,
   "metadata": {
    "ExecuteTime": {
     "end_time": "2021-05-28T06:45:00.575424Z",
     "start_time": "2021-05-28T06:45:00.565424Z"
    },
    "collapsed": true
   },
   "outputs": [],
   "source": [
    "model = NeuralNet(tr_set.dataset.dim).to(device)  # Construct model and move to device"
   ]
  },
  {
   "cell_type": "code",
   "execution_count": 90,
   "metadata": {
    "ExecuteTime": {
     "end_time": "2021-05-28T06:45:19.934532Z",
     "start_time": "2021-05-28T06:45:01.061452Z"
    }
   },
   "outputs": [
    {
     "name": "stdout",
     "output_type": "stream",
     "text": [
      "-------------train loss 324.900543------------\n",
      "Saving model (epoch =    1, loss = 327.6474)\n",
      "-------------train loss 341.205322------------\n",
      "Saving model (epoch =    2, loss = 322.1433)\n",
      "-------------train loss 339.634125------------\n",
      "Saving model (epoch =    3, loss = 317.3474)\n",
      "-------------train loss 296.325134------------\n",
      "Saving model (epoch =    4, loss = 312.0083)\n",
      "-------------train loss 329.659515------------\n",
      "Saving model (epoch =    5, loss = 305.9014)\n",
      "-------------train loss 285.072235------------\n",
      "Saving model (epoch =    6, loss = 299.1259)\n",
      "-------------train loss 296.261169------------\n",
      "Saving model (epoch =    7, loss = 292.1786)\n",
      "-------------train loss 285.741394------------\n",
      "Saving model (epoch =    8, loss = 285.3097)\n",
      "-------------train loss 282.137177------------\n",
      "Saving model (epoch =    9, loss = 279.2158)\n",
      "-------------train loss 247.771927------------\n",
      "Saving model (epoch =   10, loss = 272.7502)\n",
      "-------------train loss 273.728943------------\n",
      "Saving model (epoch =   11, loss = 267.3188)\n",
      "-------------train loss 257.361786------------\n",
      "Saving model (epoch =   12, loss = 261.7534)\n",
      "-------------train loss 244.784882------------\n",
      "Saving model (epoch =   13, loss = 256.0248)\n",
      "-------------train loss 247.504105------------\n",
      "Saving model (epoch =   14, loss = 249.2363)\n",
      "-------------train loss 203.511810------------\n",
      "Saving model (epoch =   15, loss = 241.5857)\n",
      "-------------train loss 234.201675------------\n",
      "Saving model (epoch =   16, loss = 235.3614)\n",
      "-------------train loss 239.378143------------\n",
      "Saving model (epoch =   17, loss = 229.0456)\n",
      "-------------train loss 215.209091------------\n",
      "Saving model (epoch =   18, loss = 222.3986)\n",
      "-------------train loss 200.329758------------\n",
      "Saving model (epoch =   19, loss = 215.0060)\n",
      "-------------train loss 203.081375------------\n",
      "Saving model (epoch =   20, loss = 208.2434)\n",
      "-------------train loss 200.767456------------\n",
      "Saving model (epoch =   21, loss = 202.2225)\n",
      "-------------train loss 178.179611------------\n",
      "Saving model (epoch =   22, loss = 194.0407)\n",
      "-------------train loss 179.988724------------\n",
      "Saving model (epoch =   23, loss = 187.4123)\n",
      "-------------train loss 165.146729------------\n",
      "Saving model (epoch =   24, loss = 180.8584)\n",
      "-------------train loss 156.548996------------\n",
      "Saving model (epoch =   25, loss = 172.8530)\n",
      "-------------train loss 171.478119------------\n",
      "Saving model (epoch =   26, loss = 166.7373)\n",
      "-------------train loss 161.390366------------\n",
      "Saving model (epoch =   27, loss = 158.2334)\n",
      "-------------train loss 149.462753------------\n",
      "Saving model (epoch =   28, loss = 150.5343)\n",
      "-------------train loss 151.349457------------\n",
      "Saving model (epoch =   29, loss = 142.5526)\n",
      "-------------train loss 137.262238------------\n",
      "Saving model (epoch =   30, loss = 134.9488)\n",
      "-------------train loss 122.803009------------\n",
      "Saving model (epoch =   31, loss = 127.1186)\n",
      "-------------train loss 125.833801------------\n",
      "Saving model (epoch =   32, loss = 120.4016)\n",
      "-------------train loss 118.392601------------\n",
      "Saving model (epoch =   33, loss = 112.6987)\n",
      "-------------train loss 92.492027------------\n",
      "Saving model (epoch =   34, loss = 105.2217)\n",
      "-------------train loss 100.099365------------\n",
      "Saving model (epoch =   35, loss = 97.9947)\n",
      "-------------train loss 104.204262------------\n",
      "Saving model (epoch =   36, loss = 91.7610)\n",
      "-------------train loss 84.367584------------\n",
      "Saving model (epoch =   37, loss = 84.5273)\n",
      "-------------train loss 80.190132------------\n",
      "Saving model (epoch =   38, loss = 77.2371)\n",
      "-------------train loss 73.823051------------\n",
      "Saving model (epoch =   39, loss = 71.1261)\n",
      "-------------train loss 72.023064------------\n",
      "Saving model (epoch =   40, loss = 67.1601)\n",
      "-------------train loss 72.738266------------\n",
      "Saving model (epoch =   41, loss = 61.4616)\n",
      "-------------train loss 52.102428------------\n",
      "Saving model (epoch =   42, loss = 54.9529)\n",
      "-------------train loss 61.326778------------\n",
      "Saving model (epoch =   43, loss = 50.5633)\n",
      "-------------train loss 52.285156------------\n",
      "Saving model (epoch =   44, loss = 45.8798)\n",
      "-------------train loss 43.472065------------\n",
      "Saving model (epoch =   45, loss = 40.2100)\n",
      "-------------train loss 33.113663------------\n",
      "Saving model (epoch =   46, loss = 35.9647)\n",
      "-------------train loss 39.746471------------\n",
      "Saving model (epoch =   47, loss = 33.5684)\n",
      "-------------train loss 30.422499------------\n",
      "Saving model (epoch =   48, loss = 29.3781)\n",
      "-------------train loss 26.130394------------\n",
      "Saving model (epoch =   49, loss = 25.7841)\n",
      "-------------train loss 21.008303------------\n",
      "Saving model (epoch =   50, loss = 22.5171)\n",
      "-------------train loss 16.451275------------\n",
      "Saving model (epoch =   51, loss = 20.1539)\n",
      "-------------train loss 17.877855------------\n",
      "Saving model (epoch =   52, loss = 17.4866)\n",
      "-------------train loss 20.629028------------\n",
      "Saving model (epoch =   53, loss = 15.5997)\n",
      "-------------train loss 16.121296------------\n",
      "Saving model (epoch =   54, loss = 13.3015)\n",
      "-------------train loss 15.110307------------\n",
      "Saving model (epoch =   55, loss = 11.8274)\n",
      "-------------train loss 18.287630------------\n",
      "Saving model (epoch =   56, loss = 10.2282)\n",
      "-------------train loss 9.796809------------\n",
      "Saving model (epoch =   57, loss = 8.7040)\n",
      "-------------train loss 7.683877------------\n",
      "Saving model (epoch =   58, loss = 7.4467)\n",
      "-------------train loss 7.689555------------\n",
      "Saving model (epoch =   59, loss = 6.5673)\n",
      "-------------train loss 6.149089------------\n",
      "Saving model (epoch =   60, loss = 5.7025)\n",
      "-------------train loss 4.801950------------\n",
      "Saving model (epoch =   61, loss = 4.5395)\n",
      "-------------train loss 7.568825------------\n",
      "Saving model (epoch =   62, loss = 4.1486)\n",
      "-------------train loss 7.164567------------\n",
      "Saving model (epoch =   63, loss = 3.6298)\n",
      "-------------train loss 1.762686------------\n",
      "Saving model (epoch =   64, loss = 3.0859)\n",
      "-------------train loss 4.038467------------\n",
      "Saving model (epoch =   65, loss = 3.0576)\n",
      "-------------train loss 5.246618------------\n",
      "Saving model (epoch =   66, loss = 2.5521)\n",
      "-------------train loss 2.335214------------\n",
      "Saving model (epoch =   67, loss = 2.1452)\n",
      "-------------train loss 1.747342------------\n",
      "Saving model (epoch =   68, loss = 2.0623)\n",
      "-------------train loss 2.477476------------\n",
      "Saving model (epoch =   69, loss = 2.0310)\n",
      "-------------train loss 2.047262------------\n",
      "Saving model (epoch =   70, loss = 1.7744)\n",
      "-------------train loss 1.967685------------\n",
      "Saving model (epoch =   71, loss = 1.4686)\n",
      "-------------train loss 1.836208------------\n",
      "Saving model (epoch =   72, loss = 1.4384)\n",
      "-------------train loss 2.207625------------\n",
      "Saving model (epoch =   73, loss = 1.3624)\n",
      "-------------train loss 2.194235------------\n",
      "Saving model (epoch =   74, loss = 1.2542)\n",
      "-------------train loss 1.411187------------\n",
      "Saving model (epoch =   75, loss = 1.2062)\n",
      "-------------train loss 1.183334------------\n",
      "Saving model (epoch =   76, loss = 1.1946)\n",
      "-------------train loss 2.309188------------\n",
      "Saving model (epoch =   77, loss = 1.1757)\n",
      "-------------train loss 1.412445------------\n",
      "Saving model (epoch =   78, loss = 1.1419)\n",
      "-------------train loss 1.001023------------\n",
      "Saving model (epoch =   81, loss = 1.1151)\n",
      "-------------train loss 0.938495------------\n",
      "Saving model (epoch =   82, loss = 1.0987)\n",
      "-------------train loss 1.334007------------\n",
      "Saving model (epoch =   84, loss = 1.0787)\n",
      "-------------train loss 1.277887------------\n",
      "Saving model (epoch =   87, loss = 1.0777)\n",
      "-------------train loss 0.989896------------\n",
      "Saving model (epoch =   90, loss = 1.0652)\n",
      "-------------train loss 1.462466------------\n",
      "Saving model (epoch =   92, loss = 1.0552)\n",
      "-------------train loss 1.190089------------\n",
      "Saving model (epoch =   96, loss = 1.0542)\n",
      "-------------train loss 1.050530------------\n",
      "Saving model (epoch =   98, loss = 1.0385)\n",
      "-------------train loss 0.940111------------\n",
      "Saving model (epoch =  102, loss = 1.0364)\n",
      "-------------train loss 1.578308------------\n",
      "Saving model (epoch =  103, loss = 1.0319)\n",
      "-------------train loss 0.867728------------\n",
      "Saving model (epoch =  108, loss = 1.0306)\n",
      "-------------train loss 0.946253------------\n",
      "Saving model (epoch =  110, loss = 1.0173)\n",
      "-------------train loss 1.037142------------\n",
      "Saving model (epoch =  113, loss = 1.0147)\n",
      "-------------train loss 1.149398------------\n",
      "Saving model (epoch =  115, loss = 1.0116)\n",
      "-------------train loss 1.119688------------\n",
      "Saving model (epoch =  117, loss = 1.0048)\n"
     ]
    },
    {
     "name": "stdout",
     "output_type": "stream",
     "text": [
      "-------------train loss 1.285073------------\n",
      "Saving model (epoch =  120, loss = 1.0033)\n",
      "-------------train loss 0.874396------------\n",
      "Saving model (epoch =  122, loss = 1.0024)\n",
      "-------------train loss 2.422643------------\n",
      "Saving model (epoch =  123, loss = 1.0004)\n",
      "-------------train loss 1.318146------------\n",
      "Saving model (epoch =  128, loss = 0.9962)\n",
      "-------------train loss 2.379425------------\n",
      "Saving model (epoch =  131, loss = 0.9872)\n",
      "-------------train loss 1.117160------------\n",
      "Saving model (epoch =  136, loss = 0.9832)\n",
      "-------------train loss 0.989589------------\n",
      "Saving model (epoch =  142, loss = 0.9828)\n",
      "-------------train loss 1.466882------------\n",
      "Saving model (epoch =  160, loss = 0.9811)\n",
      "-------------train loss 1.147038------------\n",
      "Saving model (epoch =  173, loss = 0.9745)\n",
      "-------------train loss 1.485569------------\n",
      "Saving model (epoch =  255, loss = 0.9741)\n",
      "Finished training after 456 epochs\n"
     ]
    }
   ],
   "source": [
    "model_loss, model_loss_record = train(tr_set, dv_set, model, config, device)"
   ]
  },
  {
   "cell_type": "markdown",
   "metadata": {
    "collapsed": true
   },
   "source": [
    "- 93dim : 0.8559\n",
    "- 45dim : 0.9358 (lr :0.001,momentun:0.9)\n",
    "- 45dim : 0.9369 (lr :0.001,momentun:0.8)\n",
    "- 45dim : 0.9349 (lr :0.005,momentun:0.5)\n",
    "- 45dim : 0.9340 (lr :0.005,momentun:0.8)\n",
    "- 45dim : 0.9329 (lr :0.008,momentun:0.7)\n",
    "- 45dim : 0.9329 (lr :0.008,momentun:0.65)\n",
    "- 45dim : 0.9297 (lr :0.008,momentun:0.6)\n",
    "- 45dim : 0.9268 (lr :0.008,momentun:0.6)\n",
    "- 45dim : 0.9315 (lr :0.008,momentun:0.55)\n",
    "- 45dim : 0.9324 (lr :0.008,momentun:0.5)\n",
    "- 45dim : 0.9319 (lr :0.008,momentun:0.4)\n",
    "- 45dim : 0.9351 (lr :0.005,momentun:0.5) kg best\n",
    "- 48dim : 0.9274 (lr :0.005,momentun:0.5) linear(103)"
   ]
  },
  {
   "cell_type": "code",
   "execution_count": 49,
   "metadata": {
    "ExecuteTime": {
     "end_time": "2021-05-28T06:27:20.211775Z",
     "start_time": "2021-05-28T06:27:20.061766Z"
    },
    "scrolled": true
   },
   "outputs": [
    {
     "data": {
      "image/png": "[encoded data removed]",
      "text/plain": [
       "<matplotlib.figure.Figure at 0x11741470>"
      ]
     },
     "metadata": {},
     "output_type": "display_data"
    }
   ],
   "source": [
    "plot_learning_curve(model_loss_record, title='deep model')"
   ]
  },
  {
   "cell_type": "code",
   "execution_count": 236,
   "metadata": {
    "ExecuteTime": {
     "end_time": "2021-05-24T07:00:03.285626Z",
     "start_time": "2021-05-24T07:00:03.219622Z"
    }
   },
   "outputs": [
    {
     "data": {
      "text/plain": [
       "0.9811878800392151"
      ]
     },
     "execution_count": 236,
     "metadata": {},
     "output_type": "execute_result"
    }
   ],
   "source": [
    "dev(dv_set, model, device) "
   ]
  },
  {
   "cell_type": "code",
   "execution_count": 50,
   "metadata": {
    "ExecuteTime": {
     "end_time": "2021-05-28T06:27:28.096226Z",
     "start_time": "2021-05-28T06:27:27.927216Z"
    }
   },
   "outputs": [
    {
     "data": {
      "image/png": "[encoded data removed]",
      "text/plain": [
       "<matplotlib.figure.Figure at 0x117c60b8>"
      ]
     },
     "metadata": {},
     "output_type": "display_data"
    }
   ],
   "source": [
    "del model\n",
    "model = NeuralNet(tr_set.dataset.dim).to(device)\n",
    "ckpt = torch.load(config['save_path'], map_location='cpu')  # Load your best model\n",
    "model.load_state_dict(ckpt)\n",
    "plot_pred(dv_set, model, device)  # Show prediction on the validation set"
   ]
  },
  {
   "cell_type": "code",
   "execution_count": 51,
   "metadata": {
    "ExecuteTime": {
     "end_time": "2021-05-28T06:27:29.063281Z",
     "start_time": "2021-05-28T06:27:29.053281Z"
    }
   },
   "outputs": [
    {
     "data": {
      "text/plain": [
       "1.85938"
      ]
     },
     "execution_count": 51,
     "metadata": {},
     "output_type": "execute_result"
    }
   ],
   "source": [
    "0.94482+0.91456"
   ]
  },
  {
   "cell_type": "code",
   "execution_count": 52,
   "metadata": {
    "ExecuteTime": {
     "end_time": "2021-05-28T06:27:29.758321Z",
     "start_time": "2021-05-28T06:27:29.749321Z"
    }
   },
   "outputs": [
    {
     "data": {
      "text/plain": [
       "1.85369"
      ]
     },
     "execution_count": 52,
     "metadata": {},
     "output_type": "execute_result"
    }
   ],
   "source": [
    "0.94291+0.91078"
   ]
  },
  {
   "cell_type": "code",
   "execution_count": null,
   "metadata": {
    "collapsed": true
   },
   "outputs": [],
   "source": []
  },
  {
   "cell_type": "code",
   "execution_count": null,
   "metadata": {
    "collapsed": true
   },
   "outputs": [],
   "source": []
  },
  {
   "cell_type": "code",
   "execution_count": null,
   "metadata": {
    "collapsed": true
   },
   "outputs": [],
   "source": []
  },
  {
   "cell_type": "markdown",
   "metadata": {
    "id": "aQikz3IPiyPf"
   },
   "source": [
    "# **Testing**\n",
    "The predictions of your model on testing set will be stored at `pred.csv`."
   ]
  },
  {
   "cell_type": "code",
   "execution_count": 238,
   "metadata": {
    "ExecuteTime": {
     "end_time": "2021-05-24T07:00:18.643505Z",
     "start_time": "2021-05-24T07:00:18.605502Z"
    },
    "colab": {
     "base_uri": "https://localhost:8080/"
    },
    "id": "O8cTuQjQQOon",
    "outputId": "6bc5de07-4c5a-4e87-9ae3-d09f539c5f2c"
   },
   "outputs": [
    {
     "name": "stdout",
     "output_type": "stream",
     "text": [
      "Saving results to F:\\study\\ml\\HonyiLee2021\\Lhy_Machine_Learning-main\\01 Introduction\\dataset\\pred_8feates_mu_std_adam.csv\n"
     ]
    }
   ],
   "source": [
    "def save_pred(preds, file):\n",
    "    ''' Save predictions to specified file '''\n",
    "    print('Saving results to {}'.format(file))\n",
    "    with open(file, 'w') as fp:\n",
    "        writer = csv.writer(fp)\n",
    "        writer.writerow(['id', 'tested_positive'])\n",
    "        for i, p in enumerate(preds):\n",
    "            writer.writerow([i, p])\n",
    "\n",
    "preds = test(tt_set, model, device)  # predict COVID-19 cases with your model\n",
    "save_pred(preds, r'F:\\study\\ml\\HonyiLee2021\\Lhy_Machine_Learning-main\\01 Introduction\\dataset\\pred_8feates_mu_std_adam.csv')         # save prediction file to pred.csv"
   ]
  },
  {
   "cell_type": "code",
   "execution_count": 205,
   "metadata": {
    "ExecuteTime": {
     "end_time": "2021-05-24T06:53:45.492018Z",
     "start_time": "2021-05-24T06:53:45.482017Z"
    }
   },
   "outputs": [
    {
     "data": {
      "text/plain": [
       "1.85369"
      ]
     },
     "execution_count": 205,
     "metadata": {},
     "output_type": "execute_result"
    }
   ],
   "source": [
    "0.94291+0.91078"
   ]
  },
  {
   "cell_type": "code",
   "execution_count": 24,
   "metadata": {
    "ExecuteTime": {
     "end_time": "2021-05-21T07:04:06.021328Z",
     "start_time": "2021-05-21T07:04:06.017328Z"
    }
   },
   "outputs": [
    {
     "data": {
      "text/plain": [
       "1.85222"
      ]
     },
     "execution_count": 24,
     "metadata": {},
     "output_type": "execute_result"
    }
   ],
   "source": [
    "0.94103+0.91119"
   ]
  },
  {
   "cell_type": "code",
   "execution_count": 41,
   "metadata": {
    "ExecuteTime": {
     "end_time": "2021-05-24T02:24:25.384712Z",
     "start_time": "2021-05-24T02:24:25.373712Z"
    }
   },
   "outputs": [
    {
     "data": {
      "text/plain": [
       "1.85243"
      ]
     },
     "execution_count": 41,
     "metadata": {},
     "output_type": "execute_result"
    }
   ],
   "source": [
    "0.93846+0.91397"
   ]
  },
  {
   "cell_type": "markdown",
   "metadata": {
    "id": "nfrVxqJanGpE"
   },
   "source": [
    "# **Hints**\n",
    "\n",
    "## **Simple Baseline**\n",
    "* Run sample code\n",
    "\n",
    "## **Medium Baseline**\n",
    "* Feature selection: 40 states + 2 `tested_positive` (`TODO` in dataset)\n",
    "\n",
    "## **Strong Baseline**\n",
    "* Feature selection (what other features are useful?)\n",
    "* DNN architecture (layers? dimension? activation function?)\n",
    "* Training (mini-batch? optimizer? learning rate?)\n",
    "* L2 regularization\n",
    "* There are some mistakes in the sample code, can you find them?"
   ]
  },
  {
   "cell_type": "markdown",
   "metadata": {
    "id": "9tmCwXgpot3t"
   },
   "source": [
    "# **Reference**\n",
    "This code is completely written by Heng-Jui Chang @ NTUEE.  \n",
    "Copying or reusing this code is required to specify the original author. \n",
    "\n",
    "E.g.  \n",
    "Source: Heng-Jui Chang @ NTUEE (https://github.com/ga642381/ML2021-Spring/blob/main/HW01/HW01.ipynb)\n"
   ]
  }
 ],
 "metadata": {
  "accelerator": "GPU",
  "colab": {
   "collapsed_sections": [],
   "name": "ML2021Spring - HW1.ipynb",
   "provenance": [],
   "toc_visible": true
  },
  "kernelspec": {
   "display_name": "Python 3",
   "language": "python",
   "name": "python3"
  },
  "language_info": {
   "codemirror_mode": {
    "name": "ipython",
    "version": 3
   },
   "file_extension": ".py",
   "mimetype": "text/x-python",
   "name": "python",
   "nbconvert_exporter": "python",
   "pygments_lexer": "ipython3",
   "version": "3.6.3"
  }
 },
 "nbformat": 4,
 "nbformat_minor": 1
}
