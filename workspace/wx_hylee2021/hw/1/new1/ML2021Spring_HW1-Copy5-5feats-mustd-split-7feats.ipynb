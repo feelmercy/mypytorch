{
 "cells": [
  {
   "cell_type": "markdown",
   "metadata": {
    "id": "mz0_QVkxCrX3"
   },
   "source": [
    "# **Homework 1: COVID-19 Cases Prediction (Regression)**"
   ]
  },
  {
   "cell_type": "markdown",
   "metadata": {
    "id": "ZeZnPAiwDRWG"
   },
   "source": [
    "Author: Heng-Jui Chang\n",
    "\n",
    "Slides: https://github.com/ga642381/ML2021-Spring/blob/main/HW01/HW01.pdf  \n",
    "Video: TBA\n",
    "\n",
    "Objectives:\n",
    "* Solve a regression problem with deep neural networks (DNN).\n",
    "* Understand basic DNN training tips.\n",
    "* Get familiar with PyTorch.\n",
    "\n",
    "If any questions, please contact the TAs via TA hours, NTU COOL, or email.\n"
   ]
  },
  {
   "cell_type": "markdown",
   "metadata": {
    "id": "Jx3x1nDkG-Uy"
   },
   "source": [
    "# **Download Data**\n",
    "\n",
    "\n",
    "If the Google drive links are dead, you can download data from [kaggle](https://www.kaggle.com/c/ml2021spring-hw1/data), and upload data manually to the workspace."
   ]
  },
  {
   "cell_type": "code",
   "execution_count": 1,
   "metadata": {
    "ExecuteTime": {
     "end_time": "2021-05-24T01:28:57.769703Z",
     "start_time": "2021-05-24T01:28:57.669499Z"
    },
    "colab": {
     "base_uri": "https://localhost:8080/"
    },
    "id": "tMj55YDKG6ch",
    "outputId": "fc40ecc9-4756-48b1-d5c6-c169a8b453b2"
   },
   "outputs": [
    {
     "name": "stderr",
     "output_type": "stream",
     "text": [
      "'gdown' 不是内部或外部命令，也不是可运行的程序\n",
      "或批处理文件。\n",
      "'gdown' 不是内部或外部命令，也不是可运行的程序\n",
      "或批处理文件。\n"
     ]
    }
   ],
   "source": [
    "tr_path = r'F:\\study\\ml\\HonyiLee2021\\Lhy_Machine_Learning-main\\01 Introduction\\dataset\\covid.train.csv'  # path to training data\n",
    "tt_path = r'F:\\study\\ml\\HonyiLee2021\\Lhy_Machine_Learning-main\\01 Introduction\\dataset\\covid.test.csv'   # path to testing data\n",
    "\n",
    "!gdown --id '19CCyCgJrUxtvgZF53vnctJiOJ23T5mqF' --output covid.train.csv\n",
    "!gdown --id '1CE240jLm2npU-tdz81-oVKEF3T2yfT1O' --output covid.test.csv"
   ]
  },
  {
   "cell_type": "markdown",
   "metadata": {
    "id": "wS_4-77xHk44"
   },
   "source": [
    "# **Import Some Packages**"
   ]
  },
  {
   "cell_type": "code",
   "execution_count": 2,
   "metadata": {
    "ExecuteTime": {
     "end_time": "2021-05-24T01:29:07.244430Z",
     "start_time": "2021-05-24T01:28:58.794947Z"
    },
    "collapsed": true,
    "id": "k-onQd4JNA5H"
   },
   "outputs": [],
   "source": [
    "# PyTorch\n",
    "import torch\n",
    "import torch.nn as nn\n",
    "from torch.utils.data import Dataset, DataLoader\n",
    "\n",
    "# For data preprocess\n",
    "import numpy as np\n",
    "import csv\n",
    "import os\n",
    "\n",
    "# For plotting\n",
    "import matplotlib.pyplot as plt\n",
    "from matplotlib.pyplot import figure\n",
    "\n",
    "myseed = 42069  # set a random seed for reproducibility\n",
    "torch.backends.cudnn.deterministic = True\n",
    "torch.backends.cudnn.benchmark = False\n",
    "np.random.seed(myseed)\n",
    "torch.manual_seed(myseed)\n",
    "if torch.cuda.is_available():\n",
    "    torch.cuda.manual_seed_all(myseed)"
   ]
  },
  {
   "cell_type": "markdown",
   "metadata": {
    "id": "BtE3b6JEH7rw"
   },
   "source": [
    "# **Some Utilities**\n",
    "\n",
    "You do not need to modify this part."
   ]
  },
  {
   "cell_type": "code",
   "execution_count": 3,
   "metadata": {
    "ExecuteTime": {
     "end_time": "2021-05-24T01:29:07.347436Z",
     "start_time": "2021-05-24T01:29:07.247430Z"
    },
    "collapsed": true,
    "id": "FWMT3uf1NGQp"
   },
   "outputs": [],
   "source": [
    "def get_device():\n",
    "    ''' Get device (if GPU is available, use GPU) '''\n",
    "    return 'cuda' if torch.cuda.is_available() else 'cpu'\n",
    "\n",
    "def plot_learning_curve(loss_record, title=''):\n",
    "    ''' Plot learning curve of your DNN (train & dev loss) '''\n",
    "    total_steps = len(loss_record['train'])\n",
    "    x_1 = range(total_steps)\n",
    "    x_2 = x_1[::len(loss_record['train']) // len(loss_record['dev'])]\n",
    "    figure(figsize=(6, 4))\n",
    "    plt.plot(x_1, loss_record['train'], c='tab:red', label='train')\n",
    "    plt.plot(x_2, loss_record['dev'], c='tab:cyan', label='dev')\n",
    "    plt.ylim(0.0, 5.)\n",
    "    plt.xlabel('Training steps')\n",
    "    plt.ylabel('MSE loss')\n",
    "    plt.title('Learning curve of {}'.format(title))\n",
    "    plt.legend()\n",
    "    plt.show()\n",
    "\n",
    "\n",
    "def plot_pred(dv_set, model, device, lim=35., preds=None, targets=None):\n",
    "    ''' Plot prediction of your DNN '''\n",
    "    if preds is None or targets is None:\n",
    "        model.eval()\n",
    "        preds, targets = [], []\n",
    "        for x, y in dv_set:\n",
    "            x, y = x.to(device), y.to(device)\n",
    "            with torch.no_grad():\n",
    "                pred = model(x)\n",
    "                preds.append(pred.detach().cpu())\n",
    "                targets.append(y.detach().cpu())\n",
    "        preds = torch.cat(preds, dim=0).numpy()\n",
    "        targets = torch.cat(targets, dim=0).numpy()\n",
    "\n",
    "    figure(figsize=(5, 5))\n",
    "    plt.scatter(targets, preds, c='r', alpha=0.5)\n",
    "    plt.plot([-0.2, lim], [-0.2, lim], c='b')\n",
    "    plt.xlim(-0.2, lim)\n",
    "    plt.ylim(-0.2, lim)\n",
    "    plt.xlabel('ground truth value')\n",
    "    plt.ylabel('predicted value')\n",
    "    plt.title('Ground Truth v.s. Prediction')\n",
    "    plt.show()"
   ]
  },
  {
   "cell_type": "markdown",
   "metadata": {
    "id": "39U_XFX6KOoj"
   },
   "source": [
    "# **Preprocess**\n",
    "\n",
    "We have three kinds of datasets:\n",
    "* `train`: for training\n",
    "* `dev`: for validation\n",
    "* `test`: for testing (w/o target value)"
   ]
  },
  {
   "cell_type": "markdown",
   "metadata": {
    "id": "TQ-MdwpLL7Dt"
   },
   "source": [
    "## **Dataset**\n",
    "\n",
    "The `COVID19Dataset` below does:\n",
    "* read `.csv` files\n",
    "* extract features\n",
    "* split `covid.train.csv` into train/dev sets\n",
    "* normalize features\n",
    "\n",
    "Finishing `TODO` below might make you pass medium baseline."
   ]
  },
  {
   "cell_type": "code",
   "execution_count": 4,
   "metadata": {
    "ExecuteTime": {
     "end_time": "2021-05-24T01:29:07.464443Z",
     "start_time": "2021-05-24T01:29:07.348436Z"
    },
    "collapsed": true,
    "id": "0zlpIp9ANJRU"
   },
   "outputs": [],
   "source": [
    "class COVID19Dataset(Dataset):\n",
    "    ''' Dataset for loading and preprocessing the COVID19 dataset '''\n",
    "    def __init__(self,\n",
    "                 path,\n",
    "                 mu,\n",
    "                 std,\n",
    "                 mode='train',\n",
    "                 target_only=False):\n",
    "        self.mode = mode\n",
    "\n",
    "        # Read data into numpy arrays\n",
    "        with open(path, 'r') as fp:\n",
    "            data = list(csv.reader(fp))\n",
    "            data = np.array(data[1:])[:, 1:].astype(float)\n",
    "        \n",
    "        if not target_only:\n",
    "#             feats = list(range(93))\n",
    "#             feats=list(range(40))+[42, 57, 60, 75, 78]  ## > 0.87\n",
    "            feats=list(range(40))+[42, 43, 57, 60, 61, 75, 78, 79] ## >0.85\n",
    "#             feats=list(range(40))+[57, 75]\n",
    "        else:\n",
    "            # TODO: Using 40 states & 2 tested_positive features (indices = 57 & 75)\n",
    "            pass\n",
    "\n",
    "        if mode == 'test':\n",
    "            # Testing data\n",
    "            # data: 893 x 93 (40 states + day 1 (18) + day 2 (18) + day 3 (17))\n",
    "            data = data[:, feats]\n",
    "            self.data = torch.FloatTensor(data)\n",
    "        else:\n",
    "            # Training data (train/dev sets)\n",
    "            # data: 2700 x 94 (40 states + day 1 (18) + day 2 (18) + day 3 (18))\n",
    "            target = data[:, -1]\n",
    "            data = data[:, feats]\n",
    "            \n",
    "            # Splitting training data into train & dev sets\n",
    "            \n",
    "#             indices\n",
    "            \n",
    "            if mode == 'train':\n",
    "                indices = [i for i in range(len(data)) if i % 10 != 0]\n",
    "            elif mode == 'dev':\n",
    "                indices = [i for i in range(len(data)) if i % 10 == 0]\n",
    "            \n",
    "            # Convert data into PyTorch tensors\n",
    "            self.data = torch.FloatTensor(data[indices])\n",
    "            self.target = torch.FloatTensor(target[indices])\n",
    "\n",
    "        # Normalize features (you may remove this part to see what will happen)\n",
    "        if mode=='train':\n",
    "            self.mu=self.data[:,40:].mean(dim=0,keepdim=True)\n",
    "            self.std=self.data[:,40:].std(dim=0,keepdim=True)\n",
    "        else:\n",
    "            self.mu=mu\n",
    "            self.std=std\n",
    "        self.data[:,40:]=(self.data[:,40:]-self.mu)/self.std\n",
    "        \n",
    "#         self.data[:, 40:] = \\\n",
    "#             (self.data[:, 40:] - self.data[:, 40:].mean(dim=0, keepdim=True)) \\\n",
    "#             / self.data[:, 40:].std(dim=0, keepdim=True)\n",
    "\n",
    "        self.dim = self.data.shape[1]\n",
    "\n",
    "        print('Finished reading the {} set of COVID19 Dataset ({} samples found, each dim = {})'\n",
    "              .format(mode, len(self.data), self.dim))\n",
    "\n",
    "    def __getitem__(self, index):\n",
    "        # Returns one sample at a time\n",
    "        if self.mode in ['train', 'dev']:\n",
    "            # For training\n",
    "            return self.data[index], self.target[index]\n",
    "        else:\n",
    "            # For testing (no target)\n",
    "            return self.data[index]\n",
    "\n",
    "    def __len__(self):\n",
    "        # Returns the size of the dataset\n",
    "        return len(self.data)"
   ]
  },
  {
   "cell_type": "markdown",
   "metadata": {
    "id": "AlhTlkE7MDo3"
   },
   "source": [
    "## **DataLoader**\n",
    "\n",
    "A `DataLoader` loads data from a given `Dataset` into batches.\n"
   ]
  },
  {
   "cell_type": "code",
   "execution_count": 5,
   "metadata": {
    "ExecuteTime": {
     "end_time": "2021-05-24T01:29:07.489444Z",
     "start_time": "2021-05-24T01:29:07.465443Z"
    },
    "collapsed": true,
    "id": "hlhLk5t6MBX3"
   },
   "outputs": [],
   "source": [
    "def prep_dataloader(path, mode, batch_size, n_jobs=0, target_only=False,mu=None,std=None):\n",
    "    ''' Generates a dataset, then is put into a dataloader. '''\n",
    "    dataset = COVID19Dataset(path, mu,std,mode=mode, target_only=target_only)  # Construct dataset\n",
    "    if mode=='train':\n",
    "        mu=dataset.mu\n",
    "        std=dataset.std\n",
    "    dataloader = DataLoader(\n",
    "        dataset, batch_size,\n",
    "        shuffle=(mode == 'train'), drop_last=False,\n",
    "        num_workers=n_jobs, pin_memory=True)                            # Construct dataloader\n",
    "    return dataloader,mu,std"
   ]
  },
  {
   "cell_type": "markdown",
   "metadata": {
    "id": "SGuycwR0MeQB"
   },
   "source": [
    "# **Deep Neural Network**\n",
    "\n",
    "`NeuralNet` is an `nn.Module` designed for regression.\n",
    "The DNN consists of 2 fully-connected layers with ReLU activation.\n",
    "This module also included a function `cal_loss` for calculating loss.\n"
   ]
  },
  {
   "cell_type": "code",
   "execution_count": 6,
   "metadata": {
    "ExecuteTime": {
     "end_time": "2021-05-24T01:29:09.070478Z",
     "start_time": "2021-05-24T01:29:09.031278Z"
    },
    "collapsed": true,
    "id": "49-uXYovOAI0"
   },
   "outputs": [],
   "source": [
    "class NeuralNet(nn.Module):\n",
    "    ''' A simple fully-connected deep neural network '''\n",
    "    def __init__(self, input_dim):\n",
    "        super(NeuralNet, self).__init__()\n",
    "\n",
    "        # Define your neural network here\n",
    "        # TODO: How to modify this model to achieve better performance?\n",
    "        self.net = nn.Sequential(\n",
    "            nn.Linear(input_dim, 64),\n",
    "            nn.ReLU(),\n",
    "            nn.Linear(64, 1)\n",
    "        )\n",
    "\n",
    "        # Mean squared error loss\n",
    "        self.criterion = nn.MSELoss(reduction='mean')\n",
    "\n",
    "    def forward(self, x):\n",
    "        ''' Given input of size (batch_size x input_dim), compute output of the network '''\n",
    "        return self.net(x).squeeze(1)\n",
    "\n",
    "    def cal_loss(self, pred, target):\n",
    "        ''' Calculate loss '''\n",
    "        # TODO: you may implement L2 regularization here\n",
    "        return self.criterion(pred, target)"
   ]
  },
  {
   "cell_type": "markdown",
   "metadata": {
    "id": "DvFWVjZ5Nvga"
   },
   "source": [
    "# **Train/Dev/Test**"
   ]
  },
  {
   "cell_type": "markdown",
   "metadata": {
    "id": "MAM8QecJOyqn"
   },
   "source": [
    "## **Training**"
   ]
  },
  {
   "cell_type": "code",
   "execution_count": 20,
   "metadata": {
    "ExecuteTime": {
     "end_time": "2021-05-24T01:30:47.994382Z",
     "start_time": "2021-05-24T01:30:47.918778Z"
    },
    "collapsed": true,
    "id": "lOqcmYzMO7jB"
   },
   "outputs": [],
   "source": [
    "def train(tr_set, dv_set, model, config, device):\n",
    "    ''' DNN training '''\n",
    "\n",
    "    n_epochs = config['n_epochs']  # Maximum number of epochs\n",
    "\n",
    "    # Setup optimizer\n",
    "    optimizer = getattr(torch.optim, config['optimizer'])(\n",
    "        model.parameters(), **config['optim_hparas'])\n",
    "\n",
    "    min_mse = 1000.\n",
    "    loss_record = {'train': [], 'dev': []}      # for recording training loss\n",
    "    early_stop_cnt = 0\n",
    "    epoch = 0\n",
    "    while epoch < n_epochs:\n",
    "        model.train()                           # set model to training mode\n",
    "        for x, y in tr_set:                     # iterate through the dataloader\n",
    "            optimizer.zero_grad()               # set gradient to zero\n",
    "            x, y = x.to(device), y.to(device)   # move data to device (cpu/cuda)\n",
    "            pred = model(x)                     # forward pass (compute output)\n",
    "            mse_loss = model.cal_loss(pred, y)  # compute loss\n",
    "            mse_loss.backward()                 # compute gradient (backpropagation)\n",
    "            optimizer.step()                    # update model with optimizer\n",
    "            loss_record['train'].append(mse_loss.detach().cpu().item())\n",
    "\n",
    "        # After each epoch, test your model on the validation (development) set.\n",
    "        dev_mse = dev(dv_set, model, device)\n",
    "        if dev_mse < min_mse:\n",
    "            # Save model if your model improved\n",
    "            min_mse = dev_mse\n",
    "            print('Saving model (epoch = {:4d}, loss = {:.4f})'\n",
    "                .format(epoch + 1, min_mse))\n",
    "            torch.save(model.state_dict(), config['save_path'])  # Save model to specified path\n",
    "            early_stop_cnt = 0\n",
    "        else:\n",
    "            early_stop_cnt += 1\n",
    "\n",
    "        epoch += 1\n",
    "        loss_record['dev'].append(dev_mse)\n",
    "        if early_stop_cnt > config['early_stop']:\n",
    "            # Stop training if your model stops improving for \"config['early_stop']\" epochs.\n",
    "            break\n",
    "\n",
    "    print('Finished training after {} epochs'.format(epoch))\n",
    "    return min_mse, loss_record"
   ]
  },
  {
   "cell_type": "markdown",
   "metadata": {
    "id": "0hSd4Bn3O2PL"
   },
   "source": [
    "## **Validation**"
   ]
  },
  {
   "cell_type": "code",
   "execution_count": 21,
   "metadata": {
    "ExecuteTime": {
     "end_time": "2021-05-24T01:30:49.203615Z",
     "start_time": "2021-05-24T01:30:49.164414Z"
    },
    "collapsed": true,
    "id": "yrxrD3YsN3U2"
   },
   "outputs": [],
   "source": [
    "def dev(dv_set, model, device):\n",
    "    model.eval()                                # set model to evalutation mode\n",
    "    total_loss = 0\n",
    "    for x, y in dv_set:                         # iterate through the dataloader\n",
    "        x, y = x.to(device), y.to(device)       # move data to device (cpu/cuda)\n",
    "        with torch.no_grad():                   # disable gradient calculation\n",
    "            pred = model(x)                     # forward pass (compute output)\n",
    "            mse_loss = model.cal_loss(pred, y)  # compute loss\n",
    "        total_loss += mse_loss.detach().cpu().item() * len(x)  # accumulate loss\n",
    "    total_loss = total_loss / len(dv_set.dataset)              # compute averaged loss\n",
    "\n",
    "    return total_loss"
   ]
  },
  {
   "cell_type": "markdown",
   "metadata": {
    "id": "g0pdrhQAO41L"
   },
   "source": [
    "## **Testing**"
   ]
  },
  {
   "cell_type": "code",
   "execution_count": 22,
   "metadata": {
    "ExecuteTime": {
     "end_time": "2021-05-24T01:30:50.386648Z",
     "start_time": "2021-05-24T01:30:50.348447Z"
    },
    "collapsed": true,
    "id": "aSBMRFlYN5tB"
   },
   "outputs": [],
   "source": [
    "def test(tt_set, model, device):\n",
    "    model.eval()                                # set model to evalutation mode\n",
    "    preds = []\n",
    "    for x in tt_set:                            # iterate through the dataloader\n",
    "        x = x.to(device)                        # move data to device (cpu/cuda)\n",
    "        with torch.no_grad():                   # disable gradient calculation\n",
    "            pred = model(x)                     # forward pass (compute output)\n",
    "            preds.append(pred.detach().cpu())   # collect prediction\n",
    "    preds = torch.cat(preds, dim=0).numpy()     # concatenate all predictions and convert to a numpy array\n",
    "    return preds"
   ]
  },
  {
   "cell_type": "markdown",
   "metadata": {
    "id": "SvckkF5dvf0j"
   },
   "source": [
    "# **Setup Hyper-parameters**\n",
    "\n",
    "`config` contains hyper-parameters for training and the path to save your model."
   ]
  },
  {
   "cell_type": "code",
   "execution_count": 23,
   "metadata": {
    "ExecuteTime": {
     "end_time": "2021-05-24T01:30:52.376283Z",
     "start_time": "2021-05-24T01:30:52.345083Z"
    },
    "collapsed": true,
    "id": "NPXpdumwPjE7"
   },
   "outputs": [],
   "source": [
    "device = get_device()                 # get the current available device ('cpu' or 'cuda')\n",
    "os.makedirs('models', exist_ok=True)  # The trained model will be saved to ./models/\n",
    "target_only = False                   # TODO: Using 40 states & 2 tested_positive features\n",
    "\n",
    "# TODO: How to tune these hyper-parameters to improve your model's performance?\n",
    "config = {\n",
    "    'n_epochs': 3000,                # maximum number of epochs\n",
    "    'batch_size': 270,               # mini-batch size for dataloader\n",
    "    'optimizer': 'SGD',              # optimization algorithm (optimizer in torch.optim)\n",
    "    'optim_hparas': {                # hyper-parameters for the optimizer (depends on which optimizer you are using)\n",
    "        'lr': 0.001,                 # learning rate of SGD\n",
    "        'momentum': 0.9              # momentum for SGD\n",
    "    },\n",
    "    'early_stop': 200,               # early stopping epochs (the number epochs since your model's last improvement)\n",
    "    'save_path': 'models/model.pth'  # your model will be saved here\n",
    "}"
   ]
  },
  {
   "cell_type": "markdown",
   "metadata": {
    "id": "6j1eOV3TOH-j"
   },
   "source": [
    "# **Load data and model**"
   ]
  },
  {
   "cell_type": "code",
   "execution_count": 24,
   "metadata": {
    "ExecuteTime": {
     "end_time": "2021-05-24T01:30:56.177349Z",
     "start_time": "2021-05-24T01:30:55.704723Z"
    },
    "colab": {
     "base_uri": "https://localhost:8080/"
    },
    "id": "eNrYBMmePLKm",
    "outputId": "fcd4f175-4f7e-4306-f33c-5f8285f11dce"
   },
   "outputs": [
    {
     "name": "stdout",
     "output_type": "stream",
     "text": [
      "Finished reading the train set of COVID19 Dataset (2430 samples found, each dim = 48)\n",
      "Finished reading the dev set of COVID19 Dataset (270 samples found, each dim = 48)\n",
      "Finished reading the test set of COVID19 Dataset (893 samples found, each dim = 48)\n"
     ]
    }
   ],
   "source": [
    "tr_set,tr_mu,tr_std = prep_dataloader(tr_path, 'train', config['batch_size'], target_only=target_only)\n",
    "dv_set,mu_none,std_none= prep_dataloader(tr_path, 'dev', config['batch_size'], target_only=target_only,mu=tr_mu,std=tr_std)\n",
    "tt_set,mu_none,std_none = prep_dataloader(tt_path, 'test', config['batch_size'], target_only=target_only,mu=tr_mu,std=tr_std)"
   ]
  },
  {
   "cell_type": "code",
   "execution_count": 25,
   "metadata": {
    "ExecuteTime": {
     "end_time": "2021-05-24T01:30:56.718375Z",
     "start_time": "2021-05-24T01:30:56.687175Z"
    },
    "collapsed": true,
    "id": "FHylSirLP9oh"
   },
   "outputs": [],
   "source": [
    "model = NeuralNet(tr_set.dataset.dim).to(device)  # Construct model and move to device"
   ]
  },
  {
   "cell_type": "markdown",
   "metadata": {
    "id": "sX2B_zgSOPTJ"
   },
   "source": [
    "# **Start Training!**"
   ]
  },
  {
   "cell_type": "code",
   "execution_count": 26,
   "metadata": {
    "ExecuteTime": {
     "end_time": "2021-05-24T01:31:16.438081Z",
     "start_time": "2021-05-24T01:30:57.613405Z"
    },
    "colab": {
     "base_uri": "https://localhost:8080/"
    },
    "id": "GrEbUxazQAAZ",
    "outputId": "f4f3bd74-2d97-4275-b69f-6609976b91f9"
   },
   "outputs": [
    {
     "name": "stdout",
     "output_type": "stream",
     "text": [
      "Saving model (epoch =    1, loss = 194.8698)\n",
      "Saving model (epoch =    2, loss = 86.0354)\n",
      "Saving model (epoch =    3, loss = 43.9097)\n",
      "Saving model (epoch =    4, loss = 12.4994)\n",
      "Saving model (epoch =    5, loss = 3.0554)\n",
      "Saving model (epoch =    6, loss = 1.5417)\n",
      "Saving model (epoch =    7, loss = 1.4295)\n",
      "Saving model (epoch =    9, loss = 1.3642)\n",
      "Saving model (epoch =   10, loss = 1.3523)\n",
      "Saving model (epoch =   11, loss = 1.3060)\n",
      "Saving model (epoch =   12, loss = 1.2823)\n",
      "Saving model (epoch =   13, loss = 1.2480)\n",
      "Saving model (epoch =   14, loss = 1.2480)\n",
      "Saving model (epoch =   15, loss = 1.2247)\n",
      "Saving model (epoch =   16, loss = 1.2148)\n",
      "Saving model (epoch =   17, loss = 1.2030)\n",
      "Saving model (epoch =   18, loss = 1.1871)\n",
      "Saving model (epoch =   19, loss = 1.1824)\n",
      "Saving model (epoch =   20, loss = 1.1718)\n",
      "Saving model (epoch =   21, loss = 1.1551)\n",
      "Saving model (epoch =   23, loss = 1.1433)\n",
      "Saving model (epoch =   24, loss = 1.1321)\n",
      "Saving model (epoch =   25, loss = 1.1253)\n",
      "Saving model (epoch =   26, loss = 1.1202)\n",
      "Saving model (epoch =   27, loss = 1.1086)\n",
      "Saving model (epoch =   28, loss = 1.1078)\n",
      "Saving model (epoch =   29, loss = 1.0932)\n",
      "Saving model (epoch =   31, loss = 1.0776)\n",
      "Saving model (epoch =   32, loss = 1.0716)\n",
      "Saving model (epoch =   34, loss = 1.0627)\n",
      "Saving model (epoch =   36, loss = 1.0481)\n",
      "Saving model (epoch =   38, loss = 1.0460)\n",
      "Saving model (epoch =   39, loss = 1.0418)\n",
      "Saving model (epoch =   40, loss = 1.0346)\n",
      "Saving model (epoch =   41, loss = 1.0291)\n",
      "Saving model (epoch =   42, loss = 1.0260)\n",
      "Saving model (epoch =   44, loss = 1.0132)\n",
      "Saving model (epoch =   47, loss = 1.0018)\n",
      "Saving model (epoch =   49, loss = 0.9975)\n",
      "Saving model (epoch =   50, loss = 0.9948)\n",
      "Saving model (epoch =   52, loss = 0.9892)\n",
      "Saving model (epoch =   53, loss = 0.9876)\n",
      "Saving model (epoch =   55, loss = 0.9785)\n",
      "Saving model (epoch =   58, loss = 0.9688)\n",
      "Saving model (epoch =   59, loss = 0.9688)\n",
      "Saving model (epoch =   62, loss = 0.9581)\n",
      "Saving model (epoch =   66, loss = 0.9537)\n",
      "Saving model (epoch =   67, loss = 0.9535)\n",
      "Saving model (epoch =   68, loss = 0.9530)\n",
      "Saving model (epoch =   69, loss = 0.9461)\n",
      "Saving model (epoch =   71, loss = 0.9408)\n",
      "Saving model (epoch =   73, loss = 0.9392)\n",
      "Saving model (epoch =   76, loss = 0.9366)\n",
      "Saving model (epoch =   77, loss = 0.9332)\n",
      "Saving model (epoch =   82, loss = 0.9289)\n",
      "Saving model (epoch =   84, loss = 0.9238)\n",
      "Saving model (epoch =   87, loss = 0.9190)\n",
      "Saving model (epoch =   92, loss = 0.9187)\n",
      "Saving model (epoch =   95, loss = 0.9148)\n",
      "Saving model (epoch =   98, loss = 0.9131)\n",
      "Saving model (epoch =  100, loss = 0.9116)\n",
      "Saving model (epoch =  102, loss = 0.9059)\n",
      "Saving model (epoch =  111, loss = 0.9051)\n",
      "Saving model (epoch =  112, loss = 0.9009)\n",
      "Saving model (epoch =  116, loss = 0.8997)\n",
      "Saving model (epoch =  118, loss = 0.8952)\n",
      "Saving model (epoch =  124, loss = 0.8941)\n",
      "Saving model (epoch =  127, loss = 0.8939)\n",
      "Saving model (epoch =  131, loss = 0.8913)\n",
      "Saving model (epoch =  138, loss = 0.8902)\n",
      "Saving model (epoch =  140, loss = 0.8893)\n",
      "Saving model (epoch =  143, loss = 0.8890)\n",
      "Saving model (epoch =  144, loss = 0.8889)\n",
      "Saving model (epoch =  145, loss = 0.8861)\n",
      "Saving model (epoch =  157, loss = 0.8843)\n",
      "Saving model (epoch =  163, loss = 0.8818)\n",
      "Saving model (epoch =  177, loss = 0.8812)\n",
      "Saving model (epoch =  183, loss = 0.8802)\n",
      "Saving model (epoch =  194, loss = 0.8783)\n",
      "Saving model (epoch =  209, loss = 0.8778)\n",
      "Saving model (epoch =  213, loss = 0.8772)\n",
      "Saving model (epoch =  228, loss = 0.8750)\n",
      "Saving model (epoch =  256, loss = 0.8735)\n",
      "Saving model (epoch =  293, loss = 0.8733)\n",
      "Saving model (epoch =  342, loss = 0.8716)\n",
      "Saving model (epoch =  348, loss = 0.8715)\n",
      "Saving model (epoch =  415, loss = 0.8707)\n",
      "Saving model (epoch =  436, loss = 0.8704)\n",
      "Saving model (epoch =  454, loss = 0.8703)\n",
      "Saving model (epoch =  500, loss = 0.8703)\n",
      "Saving model (epoch =  525, loss = 0.8685)\n",
      "Finished training after 726 epochs\n"
     ]
    }
   ],
   "source": [
    "model_loss, model_loss_record = train(tr_set, dv_set, model, config, device)"
   ]
  },
  {
   "cell_type": "markdown",
   "metadata": {},
   "source": [
    "- 93dim: 0.7537\n",
    "- 45dim: 0.8749"
   ]
  },
  {
   "cell_type": "code",
   "execution_count": 27,
   "metadata": {
    "ExecuteTime": {
     "end_time": "2021-05-24T01:31:21.841415Z",
     "start_time": "2021-05-24T01:31:21.504198Z"
    },
    "colab": {
     "base_uri": "https://localhost:8080/",
     "height": 295
    },
    "id": "hsNO9nnXQBvP",
    "outputId": "1626def6-94c7-4a87-9447-d939f827c8eb"
   },
   "outputs": [
    {
     "data": {
      "image/png": "[encoded data removed]",
      "text/plain": [
       "<matplotlib.figure.Figure at 0x10b32c18>"
      ]
     },
     "metadata": {},
     "output_type": "display_data"
    }
   ],
   "source": [
    "plot_learning_curve(model_loss_record, title='deep model')"
   ]
  },
  {
   "cell_type": "code",
   "execution_count": 28,
   "metadata": {
    "ExecuteTime": {
     "end_time": "2021-05-24T01:31:23.719453Z",
     "start_time": "2021-05-24T01:31:23.555246Z"
    },
    "colab": {
     "base_uri": "https://localhost:8080/",
     "height": 350
    },
    "id": "3iZTVn5WQFpX",
    "outputId": "a2d5e118-559d-45c6-b644-6792af54663d"
   },
   "outputs": [
    {
     "data": {
      "image/png": "[encoded data removed]",
      "text/plain": [
       "<matplotlib.figure.Figure at 0x10b107b8>"
      ]
     },
     "metadata": {},
     "output_type": "display_data"
    }
   ],
   "source": [
    "del model\n",
    "model = NeuralNet(tr_set.dataset.dim).to(device)\n",
    "ckpt = torch.load(config['save_path'], map_location='cpu')  # Load your best model\n",
    "model.load_state_dict(ckpt)\n",
    "plot_pred(dv_set, model, device)  # Show prediction on the validation set"
   ]
  },
  {
   "cell_type": "markdown",
   "metadata": {},
   "source": [
    "# **Test**"
   ]
  },
  {
   "cell_type": "code",
   "execution_count": 29,
   "metadata": {
    "ExecuteTime": {
     "end_time": "2021-05-24T01:31:31.381925Z",
     "start_time": "2021-05-24T01:31:31.322723Z"
    },
    "collapsed": true
   },
   "outputs": [],
   "source": [
    "class NeuralNet(nn.Module):\n",
    "    ''' A simple fully-connected deep neural network '''\n",
    "    def __init__(self, input_dim):\n",
    "        super(NeuralNet, self).__init__()\n",
    "\n",
    "        # Define your neural network here\n",
    "        # TODO: How to modify this model to achieve better performance?\n",
    "        self.net = nn.Sequential(\n",
    "            nn.Linear(input_dim, 75),\n",
    "            nn.ReLU(),\n",
    "            nn.Linear(75, 1)\n",
    "        )\n",
    "\n",
    "        # Mean squared error loss\n",
    "        self.criterion = nn.MSELoss(reduction='mean')\n",
    "\n",
    "    def forward(self, x):\n",
    "        ''' Given input of size (batch_size x input_dim), compute output of the network '''\n",
    "        return self.net(x).squeeze(1)\n",
    "\n",
    "    def cal_loss(self, pred, target):\n",
    "        ''' Calculate loss '''\n",
    "        # TODO: you may implement L2 regularization here\n",
    "        return torch.sqrt(self.criterion(pred, target))"
   ]
  },
  {
   "cell_type": "code",
   "execution_count": 30,
   "metadata": {
    "ExecuteTime": {
     "end_time": "2021-05-24T01:31:32.470353Z",
     "start_time": "2021-05-24T01:31:32.435153Z"
    },
    "collapsed": true
   },
   "outputs": [],
   "source": [
    "device = get_device()                 # get the current available device ('cpu' or 'cuda')\n",
    "os.makedirs('models', exist_ok=True)  # The trained model will be saved to ./models/\n",
    "target_only = False                   # TODO: Using 40 states & 2 tested_positive features\n",
    "\n",
    "# TODO: How to tune these hyper-parameters to improve your model's performance?\n",
    "config = {\n",
    "    'n_epochs': 3000,                # maximum number of epochs\n",
    "    'batch_size': 270,               # mini-batch size for dataloader\n",
    "    'optimizer': 'SGD',              # optimization algorithm (optimizer in torch.optim)\n",
    "    'optim_hparas': {                # hyper-parameters for the optimizer (depends on which optimizer you are using)\n",
    "        'lr': 0.005,                 # learning rate of SGD\n",
    "        'momentum': 0.5,            # momentum for SGD\n",
    "#         'weight_decay':0.05\n",
    "    },\n",
    "    'early_stop': 200,               # early stopping epochs (the number epochs since your model's last improvement)\n",
    "    'save_path': 'models/model.pth'  # your model will be saved here\n",
    "}"
   ]
  },
  {
   "cell_type": "code",
   "execution_count": 31,
   "metadata": {
    "ExecuteTime": {
     "end_time": "2021-05-24T01:31:33.108381Z",
     "start_time": "2021-05-24T01:31:33.092781Z"
    },
    "collapsed": true
   },
   "outputs": [],
   "source": [
    "model = NeuralNet(tr_set.dataset.dim).to(device)  # Construct model and move to device"
   ]
  },
  {
   "cell_type": "code",
   "execution_count": 32,
   "metadata": {
    "ExecuteTime": {
     "end_time": "2021-05-24T01:32:19.675010Z",
     "start_time": "2021-05-24T01:31:34.212811Z"
    }
   },
   "outputs": [
    {
     "name": "stdout",
     "output_type": "stream",
     "text": [
      "Saving model (epoch =    1, loss = 17.7916)\n",
      "Saving model (epoch =    2, loss = 17.5961)\n",
      "Saving model (epoch =    3, loss = 17.3796)\n",
      "Saving model (epoch =    4, loss = 17.1314)\n",
      "Saving model (epoch =    5, loss = 16.8362)\n",
      "Saving model (epoch =    6, loss = 16.4808)\n",
      "Saving model (epoch =    7, loss = 16.0407)\n",
      "Saving model (epoch =    8, loss = 15.4968)\n",
      "Saving model (epoch =    9, loss = 14.8178)\n",
      "Saving model (epoch =   10, loss = 13.9863)\n",
      "Saving model (epoch =   11, loss = 12.9906)\n",
      "Saving model (epoch =   12, loss = 11.8610)\n",
      "Saving model (epoch =   13, loss = 10.7062)\n",
      "Saving model (epoch =   14, loss = 9.6846)\n",
      "Saving model (epoch =   15, loss = 8.9362)\n",
      "Saving model (epoch =   16, loss = 8.4696)\n",
      "Saving model (epoch =   17, loss = 8.1618)\n",
      "Saving model (epoch =   18, loss = 7.9140)\n",
      "Saving model (epoch =   19, loss = 7.6763)\n",
      "Saving model (epoch =   20, loss = 7.4338)\n",
      "Saving model (epoch =   21, loss = 7.1846)\n",
      "Saving model (epoch =   22, loss = 6.9323)\n",
      "Saving model (epoch =   23, loss = 6.6817)\n",
      "Saving model (epoch =   24, loss = 6.4306)\n",
      "Saving model (epoch =   25, loss = 6.1785)\n",
      "Saving model (epoch =   26, loss = 5.9211)\n",
      "Saving model (epoch =   27, loss = 5.6546)\n",
      "Saving model (epoch =   28, loss = 5.3724)\n",
      "Saving model (epoch =   29, loss = 5.0657)\n",
      "Saving model (epoch =   30, loss = 4.7371)\n",
      "Saving model (epoch =   31, loss = 4.3830)\n",
      "Saving model (epoch =   32, loss = 4.0047)\n",
      "Saving model (epoch =   33, loss = 3.6147)\n",
      "Saving model (epoch =   34, loss = 3.2335)\n",
      "Saving model (epoch =   35, loss = 2.8690)\n",
      "Saving model (epoch =   36, loss = 2.5151)\n",
      "Saving model (epoch =   37, loss = 2.1895)\n",
      "Saving model (epoch =   38, loss = 1.9162)\n",
      "Saving model (epoch =   39, loss = 1.7001)\n",
      "Saving model (epoch =   40, loss = 1.5377)\n",
      "Saving model (epoch =   41, loss = 1.4276)\n",
      "Saving model (epoch =   42, loss = 1.3508)\n",
      "Saving model (epoch =   43, loss = 1.3014)\n",
      "Saving model (epoch =   44, loss = 1.2630)\n",
      "Saving model (epoch =   45, loss = 1.2390)\n",
      "Saving model (epoch =   46, loss = 1.2174)\n",
      "Saving model (epoch =   47, loss = 1.1984)\n",
      "Saving model (epoch =   48, loss = 1.1841)\n",
      "Saving model (epoch =   49, loss = 1.1718)\n",
      "Saving model (epoch =   50, loss = 1.1606)\n",
      "Saving model (epoch =   51, loss = 1.1519)\n",
      "Saving model (epoch =   52, loss = 1.1448)\n",
      "Saving model (epoch =   53, loss = 1.1364)\n",
      "Saving model (epoch =   54, loss = 1.1305)\n",
      "Saving model (epoch =   55, loss = 1.1234)\n",
      "Saving model (epoch =   56, loss = 1.1174)\n",
      "Saving model (epoch =   57, loss = 1.1148)\n",
      "Saving model (epoch =   58, loss = 1.1054)\n",
      "Saving model (epoch =   59, loss = 1.1007)\n",
      "Saving model (epoch =   60, loss = 1.0968)\n",
      "Saving model (epoch =   62, loss = 1.0887)\n",
      "Saving model (epoch =   63, loss = 1.0807)\n",
      "Saving model (epoch =   64, loss = 1.0798)\n",
      "Saving model (epoch =   65, loss = 1.0752)\n",
      "Saving model (epoch =   67, loss = 1.0676)\n",
      "Saving model (epoch =   68, loss = 1.0640)\n",
      "Saving model (epoch =   69, loss = 1.0606)\n",
      "Saving model (epoch =   71, loss = 1.0554)\n",
      "Saving model (epoch =   72, loss = 1.0553)\n",
      "Saving model (epoch =   73, loss = 1.0504)\n",
      "Saving model (epoch =   74, loss = 1.0465)\n",
      "Saving model (epoch =   75, loss = 1.0444)\n",
      "Saving model (epoch =   76, loss = 1.0422)\n",
      "Saving model (epoch =   78, loss = 1.0386)\n",
      "Saving model (epoch =   79, loss = 1.0377)\n",
      "Saving model (epoch =   80, loss = 1.0311)\n",
      "Saving model (epoch =   81, loss = 1.0294)\n",
      "Saving model (epoch =   82, loss = 1.0288)\n",
      "Saving model (epoch =   83, loss = 1.0253)\n",
      "Saving model (epoch =   84, loss = 1.0239)\n",
      "Saving model (epoch =   86, loss = 1.0206)\n",
      "Saving model (epoch =   87, loss = 1.0185)\n",
      "Saving model (epoch =   88, loss = 1.0154)\n",
      "Saving model (epoch =   90, loss = 1.0116)\n",
      "Saving model (epoch =   91, loss = 1.0103)\n",
      "Saving model (epoch =   92, loss = 1.0096)\n",
      "Saving model (epoch =   94, loss = 1.0060)\n",
      "Saving model (epoch =   95, loss = 1.0049)\n",
      "Saving model (epoch =   96, loss = 1.0011)\n",
      "Saving model (epoch =   98, loss = 0.9987)\n",
      "Saving model (epoch =  102, loss = 0.9956)\n",
      "Saving model (epoch =  104, loss = 0.9939)\n",
      "Saving model (epoch =  105, loss = 0.9916)\n",
      "Saving model (epoch =  106, loss = 0.9895)\n",
      "Saving model (epoch =  109, loss = 0.9863)\n",
      "Saving model (epoch =  111, loss = 0.9859)\n",
      "Saving model (epoch =  112, loss = 0.9854)\n",
      "Saving model (epoch =  113, loss = 0.9847)\n",
      "Saving model (epoch =  114, loss = 0.9830)\n",
      "Saving model (epoch =  115, loss = 0.9818)\n",
      "Saving model (epoch =  116, loss = 0.9809)\n",
      "Saving model (epoch =  117, loss = 0.9798)\n",
      "Saving model (epoch =  119, loss = 0.9789)\n",
      "Saving model (epoch =  121, loss = 0.9747)\n",
      "Saving model (epoch =  124, loss = 0.9732)\n",
      "Saving model (epoch =  125, loss = 0.9728)\n",
      "Saving model (epoch =  127, loss = 0.9706)\n",
      "Saving model (epoch =  130, loss = 0.9696)\n",
      "Saving model (epoch =  133, loss = 0.9675)\n",
      "Saving model (epoch =  136, loss = 0.9664)\n",
      "Saving model (epoch =  139, loss = 0.9637)\n",
      "Saving model (epoch =  142, loss = 0.9629)\n",
      "Saving model (epoch =  145, loss = 0.9614)\n",
      "Saving model (epoch =  148, loss = 0.9595)\n",
      "Saving model (epoch =  149, loss = 0.9587)\n",
      "Saving model (epoch =  151, loss = 0.9585)\n",
      "Saving model (epoch =  152, loss = 0.9584)\n",
      "Saving model (epoch =  154, loss = 0.9571)\n",
      "Saving model (epoch =  158, loss = 0.9562)\n",
      "Saving model (epoch =  159, loss = 0.9560)\n",
      "Saving model (epoch =  163, loss = 0.9557)\n",
      "Saving model (epoch =  164, loss = 0.9537)\n",
      "Saving model (epoch =  168, loss = 0.9533)\n",
      "Saving model (epoch =  169, loss = 0.9516)\n",
      "Saving model (epoch =  171, loss = 0.9512)\n",
      "Saving model (epoch =  178, loss = 0.9502)\n",
      "Saving model (epoch =  179, loss = 0.9474)\n",
      "Saving model (epoch =  186, loss = 0.9471)\n",
      "Saving model (epoch =  195, loss = 0.9462)\n",
      "Saving model (epoch =  200, loss = 0.9456)\n",
      "Saving model (epoch =  212, loss = 0.9442)\n",
      "Saving model (epoch =  217, loss = 0.9425)\n",
      "Saving model (epoch =  218, loss = 0.9415)\n",
      "Saving model (epoch =  238, loss = 0.9408)\n",
      "Saving model (epoch =  244, loss = 0.9405)\n",
      "Saving model (epoch =  250, loss = 0.9398)\n",
      "Saving model (epoch =  254, loss = 0.9387)\n",
      "Saving model (epoch =  272, loss = 0.9385)\n",
      "Saving model (epoch =  278, loss = 0.9381)\n",
      "Saving model (epoch =  292, loss = 0.9372)\n",
      "Saving model (epoch =  310, loss = 0.9371)\n",
      "Saving model (epoch =  320, loss = 0.9370)\n",
      "Saving model (epoch =  336, loss = 0.9357)\n",
      "Saving model (epoch =  392, loss = 0.9354)\n",
      "Saving model (epoch =  397, loss = 0.9353)\n",
      "Saving model (epoch =  405, loss = 0.9352)\n",
      "Saving model (epoch =  458, loss = 0.9347)\n",
      "Saving model (epoch =  513, loss = 0.9340)\n",
      "Saving model (epoch =  589, loss = 0.9338)\n",
      "Saving model (epoch =  708, loss = 0.9334)\n",
      "Saving model (epoch =  709, loss = 0.9330)\n",
      "Saving model (epoch =  766, loss = 0.9327)\n",
      "Saving model (epoch =  775, loss = 0.9326)\n",
      "Saving model (epoch =  813, loss = 0.9322)\n",
      "Saving model (epoch =  880, loss = 0.9316)\n",
      "Saving model (epoch =  989, loss = 0.9315)\n",
      "Saving model (epoch = 1176, loss = 0.9314)\n",
      "Saving model (epoch = 1186, loss = 0.9313)\n",
      "Saving model (epoch = 1366, loss = 0.9312)\n",
      "Saving model (epoch = 1447, loss = 0.9309)\n",
      "Finished training after 1648 epochs\n"
     ]
    }
   ],
   "source": [
    "model_loss, model_loss_record = train(tr_set, dv_set, model, config, device)"
   ]
  },
  {
   "cell_type": "markdown",
   "metadata": {
    "collapsed": true
   },
   "source": [
    "- 93dim : 0.8559\n",
    "- 45dim : 0.9358 (lr :0.001,momentun:0.9)\n",
    "- 45dim : 0.9369 (lr :0.001,momentun:0.8)\n",
    "- 45dim : 0.9349 (lr :0.005,momentun:0.5)\n",
    "- 45dim : 0.9340 (lr :0.005,momentun:0.8)\n",
    "- 45dim : 0.9329 (lr :0.008,momentun:0.7)\n",
    "- 45dim : 0.9329 (lr :0.008,momentun:0.65)\n",
    "- 45dim : 0.9297 (lr :0.008,momentun:0.6)\n",
    "- 45dim : 0.9268 (lr :0.008,momentun:0.6)\n",
    "- 45dim : 0.9315 (lr :0.008,momentun:0.55)\n",
    "- 45dim : 0.9324 (lr :0.008,momentun:0.5)\n",
    "- 45dim : 0.9319 (lr :0.008,momentun:0.4)\n",
    "- 45dim : 0.9351 (lr :0.005,momentun:0.5) kg best\n",
    "- 48dim : 0.9274 (lr :0.005,momentun:0.5) linear(103)"
   ]
  },
  {
   "cell_type": "code",
   "execution_count": null,
   "metadata": {
    "ExecuteTime": {
     "end_time": "2021-05-18T08:39:54.945986Z",
     "start_time": "2021-05-18T08:39:54.789977Z"
    },
    "collapsed": true
   },
   "outputs": [],
   "source": [
    "plot_learning_curve(model_loss_record, title='deep model')"
   ]
  },
  {
   "cell_type": "code",
   "execution_count": null,
   "metadata": {
    "ExecuteTime": {
     "end_time": "2021-05-18T08:39:55.608024Z",
     "start_time": "2021-05-18T08:39:55.471016Z"
    },
    "collapsed": true
   },
   "outputs": [],
   "source": [
    "del model\n",
    "model = NeuralNet(tr_set.dataset.dim).to(device)\n",
    "ckpt = torch.load(config['save_path'], map_location='cpu')  # Load your best model\n",
    "model.load_state_dict(ckpt)\n",
    "plot_pred(dv_set, model, device)  # Show prediction on the validation set"
   ]
  },
  {
   "cell_type": "code",
   "execution_count": null,
   "metadata": {
    "collapsed": true
   },
   "outputs": [],
   "source": []
  },
  {
   "cell_type": "code",
   "execution_count": null,
   "metadata": {
    "collapsed": true
   },
   "outputs": [],
   "source": []
  },
  {
   "cell_type": "code",
   "execution_count": null,
   "metadata": {
    "collapsed": true
   },
   "outputs": [],
   "source": []
  },
  {
   "cell_type": "code",
   "execution_count": null,
   "metadata": {
    "collapsed": true
   },
   "outputs": [],
   "source": []
  },
  {
   "cell_type": "code",
   "execution_count": null,
   "metadata": {
    "collapsed": true
   },
   "outputs": [],
   "source": []
  },
  {
   "cell_type": "markdown",
   "metadata": {
    "id": "aQikz3IPiyPf"
   },
   "source": [
    "# **Testing**\n",
    "The predictions of your model on testing set will be stored at `pred.csv`."
   ]
  },
  {
   "cell_type": "code",
   "execution_count": 22,
   "metadata": {
    "ExecuteTime": {
     "end_time": "2021-05-21T07:04:04.249227Z",
     "start_time": "2021-05-21T07:04:04.179223Z"
    },
    "colab": {
     "base_uri": "https://localhost:8080/"
    },
    "id": "O8cTuQjQQOon",
    "outputId": "6bc5de07-4c5a-4e87-9ae3-d09f539c5f2c"
   },
   "outputs": [
    {
     "name": "stdout",
     "output_type": "stream",
     "text": [
      "Saving results to F:\\study\\ml\\HonyiLee2021\\Lhy_Machine_Learning-main\\01 Introduction\\dataset\\pred_5feates_mu_std95.csv\n"
     ]
    }
   ],
   "source": [
    "def save_pred(preds, file):\n",
    "    ''' Save predictions to specified file '''\n",
    "    print('Saving results to {}'.format(file))\n",
    "    with open(file, 'w') as fp:\n",
    "        writer = csv.writer(fp)\n",
    "        writer.writerow(['id', 'tested_positive'])\n",
    "        for i, p in enumerate(preds):\n",
    "            writer.writerow([i, p])\n",
    "\n",
    "preds = test(tt_set, model, device)  # predict COVID-19 cases with your model\n",
    "save_pred(preds, r'F:\\study\\ml\\HonyiLee2021\\Lhy_Machine_Learning-main\\01 Introduction\\dataset\\pred_5feates_mu_std95.csv')         # save prediction file to pred.csv"
   ]
  },
  {
   "cell_type": "code",
   "execution_count": 23,
   "metadata": {
    "ExecuteTime": {
     "end_time": "2021-05-21T07:04:04.670251Z",
     "start_time": "2021-05-21T07:04:04.666250Z"
    }
   },
   "outputs": [
    {
     "data": {
      "text/plain": [
       "1.85369"
      ]
     },
     "execution_count": 23,
     "metadata": {},
     "output_type": "execute_result"
    }
   ],
   "source": [
    "0.94291+0.91078"
   ]
  },
  {
   "cell_type": "code",
   "execution_count": 24,
   "metadata": {
    "ExecuteTime": {
     "end_time": "2021-05-21T07:04:06.021328Z",
     "start_time": "2021-05-21T07:04:06.017328Z"
    }
   },
   "outputs": [
    {
     "data": {
      "text/plain": [
       "1.85222"
      ]
     },
     "execution_count": 24,
     "metadata": {},
     "output_type": "execute_result"
    }
   ],
   "source": [
    "0.94103+0.91119"
   ]
  },
  {
   "cell_type": "markdown",
   "metadata": {
    "id": "nfrVxqJanGpE"
   },
   "source": [
    "# **Hints**\n",
    "\n",
    "## **Simple Baseline**\n",
    "* Run sample code\n",
    "\n",
    "## **Medium Baseline**\n",
    "* Feature selection: 40 states + 2 `tested_positive` (`TODO` in dataset)\n",
    "\n",
    "## **Strong Baseline**\n",
    "* Feature selection (what other features are useful?)\n",
    "* DNN architecture (layers? dimension? activation function?)\n",
    "* Training (mini-batch? optimizer? learning rate?)\n",
    "* L2 regularization\n",
    "* There are some mistakes in the sample code, can you find them?"
   ]
  },
  {
   "cell_type": "markdown",
   "metadata": {
    "id": "9tmCwXgpot3t"
   },
   "source": [
    "# **Reference**\n",
    "This code is completely written by Heng-Jui Chang @ NTUEE.  \n",
    "Copying or reusing this code is required to specify the original author. \n",
    "\n",
    "E.g.  \n",
    "Source: Heng-Jui Chang @ NTUEE (https://github.com/ga642381/ML2021-Spring/blob/main/HW01/HW01.ipynb)\n"
   ]
  }
 ],
 "metadata": {
  "accelerator": "GPU",
  "colab": {
   "collapsed_sections": [],
   "name": "ML2021Spring - HW1.ipynb",
   "provenance": [],
   "toc_visible": true
  },
  "kernelspec": {
   "display_name": "Python 3",
   "language": "python",
   "name": "python3"
  },
  "language_info": {
   "codemirror_mode": {
    "name": "ipython",
    "version": 3
   },
   "file_extension": ".py",
   "mimetype": "text/x-python",
   "name": "python",
   "nbconvert_exporter": "python",
   "pygments_lexer": "ipython3",
   "version": "3.6.3"
  }
 },
 "nbformat": 4,
 "nbformat_minor": 1
}
