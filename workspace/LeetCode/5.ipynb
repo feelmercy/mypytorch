{
 "cells": [
  {
   "cell_type": "code",
   "execution_count": 2,
   "metadata": {
    "ExecuteTime": {
     "end_time": "2021-07-15T05:44:57.318499Z",
     "start_time": "2021-07-15T05:44:57.304498Z"
    }
   },
   "outputs": [
    {
     "data": {
      "text/plain": [
       "['b', 'a', 'b', 'a', 'd']"
      ]
     },
     "execution_count": 2,
     "metadata": {},
     "output_type": "execute_result"
    }
   ],
   "source": [
    "s = \"babad\"\n",
    "a=[i for i in s]\n",
    "a"
   ]
  },
  {
   "cell_type": "code",
   "execution_count": 4,
   "metadata": {
    "ExecuteTime": {
     "end_time": "2021-07-15T05:48:36.261022Z",
     "start_time": "2021-07-15T05:48:36.248021Z"
    }
   },
   "outputs": [
    {
     "data": {
      "text/plain": [
       "0"
      ]
     },
     "execution_count": 4,
     "metadata": {},
     "output_type": "execute_result"
    }
   ],
   "source": [
    "a.index('b')"
   ]
  },
  {
   "cell_type": "code",
   "execution_count": 5,
   "metadata": {
    "ExecuteTime": {
     "end_time": "2021-07-15T05:48:48.147702Z",
     "start_time": "2021-07-15T05:48:48.135701Z"
    }
   },
   "outputs": [
    {
     "data": {
      "text/plain": [
       "0"
      ]
     },
     "execution_count": 5,
     "metadata": {},
     "output_type": "execute_result"
    }
   ],
   "source": [
    "s.index('b')"
   ]
  },
  {
   "cell_type": "code",
   "execution_count": 10,
   "metadata": {
    "ExecuteTime": {
     "end_time": "2021-07-15T05:51:02.875408Z",
     "start_time": "2021-07-15T05:51:02.863407Z"
    }
   },
   "outputs": [
    {
     "data": {
      "text/plain": [
       "['a', 'b', 'a', 'd']"
      ]
     },
     "execution_count": 10,
     "metadata": {},
     "output_type": "execute_result"
    }
   ],
   "source": [
    "a[1:]"
   ]
  },
  {
   "cell_type": "code",
   "execution_count": 9,
   "metadata": {
    "ExecuteTime": {
     "end_time": "2021-07-15T05:50:47.046502Z",
     "start_time": "2021-07-15T05:50:47.034502Z"
    }
   },
   "outputs": [
    {
     "data": {
      "text/plain": [
       "1"
      ]
     },
     "execution_count": 9,
     "metadata": {},
     "output_type": "execute_result"
    }
   ],
   "source": [
    "a[1:].index('b')"
   ]
  },
  {
   "cell_type": "code",
   "execution_count": 11,
   "metadata": {
    "ExecuteTime": {
     "end_time": "2021-07-15T05:53:16.484050Z",
     "start_time": "2021-07-15T05:53:16.463048Z"
    }
   },
   "outputs": [
    {
     "ename": "ValueError",
     "evalue": "'e' is not in list",
     "output_type": "error",
     "traceback": [
      "\u001b[1;31m---------------------------------------------------------------------------\u001b[0m",
      "\u001b[1;31mValueError\u001b[0m                                Traceback (most recent call last)",
      "\u001b[1;32m<ipython-input-11-71fcb0c1240e>\u001b[0m in \u001b[0;36m<module>\u001b[1;34m()\u001b[0m\n\u001b[1;32m----> 1\u001b[1;33m \u001b[0ma\u001b[0m\u001b[1;33m.\u001b[0m\u001b[0mindex\u001b[0m\u001b[1;33m(\u001b[0m\u001b[1;34m'e'\u001b[0m\u001b[1;33m)\u001b[0m\u001b[1;33m\u001b[0m\u001b[0m\n\u001b[0m",
      "\u001b[1;31mValueError\u001b[0m: 'e' is not in list"
     ]
    }
   ],
   "source": [
    "a.index('e')"
   ]
  },
  {
   "cell_type": "code",
   "execution_count": 16,
   "metadata": {
    "ExecuteTime": {
     "end_time": "2021-07-15T06:00:26.444642Z",
     "start_time": "2021-07-15T06:00:26.436641Z"
    }
   },
   "outputs": [
    {
     "data": {
      "text/plain": [
       "[('2', 2), ('1', 5)]"
      ]
     },
     "execution_count": 16,
     "metadata": {},
     "output_type": "execute_result"
    }
   ],
   "source": [
    "dd={'1':5,'2':2}\n",
    "sorted(dd.items(),key=lambda items:items[1])"
   ]
  },
  {
   "cell_type": "code",
   "execution_count": 35,
   "metadata": {
    "ExecuteTime": {
     "end_time": "2021-07-15T06:17:58.639824Z",
     "start_time": "2021-07-15T06:17:58.632824Z"
    },
    "collapsed": true
   },
   "outputs": [],
   "source": [
    "s='a'"
   ]
  },
  {
   "cell_type": "code",
   "execution_count": 39,
   "metadata": {
    "ExecuteTime": {
     "end_time": "2021-07-15T06:19:04.254577Z",
     "start_time": "2021-07-15T06:19:04.233576Z"
    }
   },
   "outputs": [
    {
     "data": {
      "text/plain": [
       "{0: '0'}"
      ]
     },
     "execution_count": 39,
     "metadata": {},
     "output_type": "execute_result"
    }
   ],
   "source": [
    "ss={}\n",
    "for i in range(len(s)):\n",
    "    if s[i] in s[i+1:]:\n",
    "        ss[i]=s[i:s[i+1:].index(s[i])+i+2]\n",
    "    else:\n",
    "        ss[i]='0'\n",
    "ss   \n",
    "    "
   ]
  },
  {
   "cell_type": "code",
   "execution_count": 40,
   "metadata": {
    "ExecuteTime": {
     "end_time": "2021-07-15T06:19:05.156629Z",
     "start_time": "2021-07-15T06:19:05.146628Z"
    }
   },
   "outputs": [
    {
     "data": {
      "text/plain": [
       "[(0, '0')]"
      ]
     },
     "execution_count": 40,
     "metadata": {},
     "output_type": "execute_result"
    }
   ],
   "source": [
    "sorted(ss.items(),key=lambda items:len(items[1]))"
   ]
  },
  {
   "cell_type": "code",
   "execution_count": 116,
   "metadata": {
    "ExecuteTime": {
     "end_time": "2021-07-15T07:05:54.173295Z",
     "start_time": "2021-07-15T07:05:54.112292Z"
    },
    "collapsed": true
   },
   "outputs": [],
   "source": [
    "def longestPalindrome( s: str) -> str:\n",
    "    ss={}\n",
    "    for i in range(len(s)):\n",
    "        if s[i] in s[i+1:]:\n",
    "            ss[i]=s[i:s[i+1:].index(s[i])+i+2]\n",
    "        else:\n",
    "            ss[i]='0'\n",
    "    sss=sorted(ss.items(),key=lambda items:len(items[1]),reverse=True)\n",
    "    res=sss[0][1]\n",
    "    print(sss)\n",
    "    print(res)\n",
    "    if len(sss)>=2 and res !='0':\n",
    "        res1=sss[1][1]\n",
    "        if res==res1  :\n",
    "            ssss=[]\n",
    "            for v in sss:\n",
    "                if v[1]==res:\n",
    "                    ssss.append(v[1])\n",
    "            res=res[0]*(len(ssss)+1)\n",
    "            \n",
    "    if res=='0' and len(res)<2:\n",
    "        res=s[0]\n",
    "    if len(res)>=3:\n",
    "        k=0\n",
    "        while res!=res[::-1]:\n",
    "            res=sss[k][1]\n",
    "            k+=1\n",
    "    return res"
   ]
  },
  {
   "cell_type": "code",
   "execution_count": 1,
   "metadata": {
    "ExecuteTime": {
     "end_time": "2021-07-16T03:13:46.353988Z",
     "start_time": "2021-07-16T03:13:46.224980Z"
    }
   },
   "outputs": [
    {
     "ename": "NameError",
     "evalue": "name 'longestPalindrome' is not defined",
     "output_type": "error",
     "traceback": [
      "\u001b[1;31m---------------------------------------------------------------------------\u001b[0m",
      "\u001b[1;31mNameError\u001b[0m                                 Traceback (most recent call last)",
      "\u001b[1;32m<ipython-input-1-bdb11d26555a>\u001b[0m in \u001b[0;36m<module>\u001b[1;34m()\u001b[0m\n\u001b[1;32m----> 1\u001b[1;33m \u001b[0mlongestPalindrome\u001b[0m\u001b[1;33m(\u001b[0m\u001b[1;34m''\u001b[0m\u001b[1;33m)\u001b[0m\u001b[1;33m\u001b[0m\u001b[0m\n\u001b[0m\u001b[0;32m      2\u001b[0m \u001b[1;33m\u001b[0m\u001b[0m\n\u001b[0;32m      3\u001b[0m \u001b[1;34m\"xaabacxcabaaxcabaax\"\u001b[0m\u001b[1;33m\u001b[0m\u001b[0m\n\u001b[0;32m      4\u001b[0m \u001b[1;34m\"xaabacxcabaax\"\u001b[0m\u001b[1;33m\u001b[0m\u001b[0m\n",
      "\u001b[1;31mNameError\u001b[0m: name 'longestPalindrome' is not defined"
     ]
    }
   ],
   "source": [
    "longestPalindrome('')\n",
    "\n",
    "\"xaabacxcabaaxcabaax\"\n",
    "\"xaabacxcabaax\""
   ]
  },
  {
   "cell_type": "code",
   "execution_count": 78,
   "metadata": {
    "ExecuteTime": {
     "end_time": "2021-07-15T06:48:24.899280Z",
     "start_time": "2021-07-15T06:48:24.890280Z"
    }
   },
   "outputs": [
    {
     "data": {
      "text/plain": [
       "'bbbbbbbb'"
      ]
     },
     "execution_count": 78,
     "metadata": {},
     "output_type": "execute_result"
    }
   ],
   "source": [
    "'bb'*4"
   ]
  },
  {
   "cell_type": "code",
   "execution_count": null,
   "metadata": {
    "collapsed": true
   },
   "outputs": [],
   "source": [
    "def longestPalindrome( s: str) -> str:\n",
    "    ss={}\n",
    "    for i in range(len(s)):\n",
    "        if s[i] in s[i+1:]:\n",
    "            ss[i]=s[i:s[i+1:].index(s[i])+i+2]\n",
    "        else:\n",
    "            ss[i]='0'\n",
    "    sss=sorted(ss.items(),key=lambda items:len(items[1]),reverse=True)\n",
    "    res=sss[0][1]\n",
    "    if len(sss)>=2 and res !='0':\n",
    "        res1=sss[1][1]\n",
    "        if res==res1  :\n",
    "            ssss=[]\n",
    "            for v in sss:\n",
    "                if v[1]==res:\n",
    "                    ssss.append(v[1])\n",
    "            res=res[0]*(len(ssss)+1)\n",
    "            \n",
    "    if res=='0' and len(res)<2:\n",
    "        res=s[0]\n",
    "    return res"
   ]
  },
  {
   "cell_type": "code",
   "execution_count": null,
   "metadata": {
    "collapsed": true
   },
   "outputs": [],
   "source": []
  },
  {
   "cell_type": "code",
   "execution_count": 2,
   "metadata": {
    "ExecuteTime": {
     "end_time": "2021-07-16T03:13:50.714237Z",
     "start_time": "2021-07-16T03:13:50.693236Z"
    }
   },
   "outputs": [
    {
     "data": {
      "text/plain": [
       "'xaabacxcabaax'"
      ]
     },
     "execution_count": 2,
     "metadata": {},
     "output_type": "execute_result"
    }
   ],
   "source": [
    "s=\"xaabacxcabaaxcabaax\"\n",
    "\"xaabacxcabaax\""
   ]
  },
  {
   "cell_type": "code",
   "execution_count": 3,
   "metadata": {
    "ExecuteTime": {
     "end_time": "2021-07-16T03:13:51.149262Z",
     "start_time": "2021-07-16T03:13:51.141261Z"
    }
   },
   "outputs": [
    {
     "data": {
      "text/plain": [
       "'xaabacxaabacxcabaax'"
      ]
     },
     "execution_count": 3,
     "metadata": {},
     "output_type": "execute_result"
    }
   ],
   "source": [
    "s[::-1]"
   ]
  },
  {
   "cell_type": "code",
   "execution_count": 127,
   "metadata": {
    "ExecuteTime": {
     "end_time": "2021-07-15T08:03:32.594105Z",
     "start_time": "2021-07-15T08:03:32.575104Z"
    }
   },
   "outputs": [
    {
     "name": "stdout",
     "output_type": "stream",
     "text": [
      "find i\n"
     ]
    }
   ],
   "source": [
    " try:\n",
    "    i=s.index('a')\n",
    "except ValueError:\n",
    "    i=-1\n",
    "    print('not fount')\n",
    "else:\n",
    "    i=1\n",
    "    print('find i')\n",
    "    \n",
    "    "
   ]
  },
  {
   "cell_type": "code",
   "execution_count": 198,
   "metadata": {
    "ExecuteTime": {
     "end_time": "2021-07-15T08:39:51.208715Z",
     "start_time": "2021-07-15T08:39:51.199715Z"
    }
   },
   "outputs": [
    {
     "name": "stdout",
     "output_type": "stream",
     "text": [
      "19\n"
     ]
    }
   ],
   "source": [
    "s=\"xaabacxcabaaxcabaax\"\n",
    "\"xaabacxcabaax\"\n",
    "print(len(s))"
   ]
  },
  {
   "cell_type": "code",
   "execution_count": 208,
   "metadata": {
    "ExecuteTime": {
     "end_time": "2021-07-15T08:44:30.107667Z",
     "start_time": "2021-07-15T08:44:30.097667Z"
    }
   },
   "outputs": [
    {
     "data": {
      "text/plain": [
       "''"
      ]
     },
     "execution_count": 208,
     "metadata": {},
     "output_type": "execute_result"
    }
   ],
   "source": [
    "s1='123456'\n",
    "s1[4:1]"
   ]
  },
  {
   "cell_type": "code",
   "execution_count": null,
   "metadata": {
    "collapsed": true
   },
   "outputs": [],
   "source": [
    "xaabacxcabaaxcabaax\n",
    "aabacxcabaaxcabaax\n",
    "aabacxcabaax\n"
   ]
  },
  {
   "cell_type": "code",
   "execution_count": 4,
   "metadata": {
    "ExecuteTime": {
     "end_time": "2021-07-16T03:13:54.789470Z",
     "start_time": "2021-07-16T03:13:54.750468Z"
    }
   },
   "outputs": [
    {
     "name": "stdout",
     "output_type": "stream",
     "text": [
      "xaabacxaabacxcabaax\n",
      "aabacxcabaaxcabaa\n",
      "12\n"
     ]
    },
    {
     "data": {
      "text/plain": [
       "'aabacxaabacxcabaa'"
      ]
     },
     "execution_count": 4,
     "metadata": {},
     "output_type": "execute_result"
    }
   ],
   "source": [
    "s='xaabacxcabaaxcabaax'\n",
    "i=0\n",
    "k=1\n",
    "print(s[::-1])\n",
    "print(s[i+1:len(s)-k])\n",
    "print(len(s)-s[i+1:len(s)-k][::-1].index('x')+i-k-1)\n",
    "s[len(s)-s[i+1:len(s)-k][::-1].index('x')+i-k-1]\n",
    "\n",
    "s[1:19][::-1]\n",
    "s[1:18][::-1]\n"
   ]
  },
  {
   "cell_type": "code",
   "execution_count": 243,
   "metadata": {
    "ExecuteTime": {
     "end_time": "2021-07-15T09:14:53.022932Z",
     "start_time": "2021-07-15T09:14:53.001931Z"
    }
   },
   "outputs": [
    {
     "ename": "NameError",
     "evalue": "name 'xaabacxaabacxcabaax' is not defined",
     "output_type": "error",
     "traceback": [
      "\u001b[1;31m---------------------------------------------------------------------------\u001b[0m",
      "\u001b[1;31mNameError\u001b[0m                                 Traceback (most recent call last)",
      "\u001b[1;32m<ipython-input-243-99b6af425a62>\u001b[0m in \u001b[0;36m<module>\u001b[1;34m()\u001b[0m\n\u001b[1;32m----> 1\u001b[1;33m \u001b[0mxaabacxaabacxcabaax\u001b[0m\u001b[1;33m\u001b[0m\u001b[0m\n\u001b[0m",
      "\u001b[1;31mNameError\u001b[0m: name 'xaabacxaabacxcabaax' is not defined"
     ]
    }
   ],
   "source": [
    "xaabacxaabacxcabaax"
   ]
  },
  {
   "cell_type": "code",
   "execution_count": 242,
   "metadata": {
    "ExecuteTime": {
     "end_time": "2021-07-15T09:14:44.460442Z",
     "start_time": "2021-07-15T09:14:44.442441Z"
    }
   },
   "outputs": [
    {
     "name": "stdout",
     "output_type": "stream",
     "text": [
      "18\n",
      "x\n"
     ]
    }
   ],
   "source": [
    "i=0\n",
    "k=0\n",
    "ei=len(s)-s[1:19][::-1].index('x')-1\n",
    "print(ei)\n",
    "print(s[ei])"
   ]
  },
  {
   "cell_type": "code",
   "execution_count": null,
   "metadata": {
    "collapsed": true
   },
   "outputs": [],
   "source": [
    "aabacxaabacxcabaa"
   ]
  },
  {
   "cell_type": "code",
   "execution_count": 253,
   "metadata": {
    "ExecuteTime": {
     "end_time": "2021-07-15T09:22:28.841003Z",
     "start_time": "2021-07-15T09:22:28.835003Z"
    },
    "collapsed": true
   },
   "outputs": [],
   "source": [
    "ei=12"
   ]
  },
  {
   "cell_type": "code",
   "execution_count": 5,
   "metadata": {
    "ExecuteTime": {
     "end_time": "2021-07-16T03:13:58.995711Z",
     "start_time": "2021-07-16T03:13:58.973709Z"
    }
   },
   "outputs": [
    {
     "ename": "NameError",
     "evalue": "name 'ei' is not defined",
     "output_type": "error",
     "traceback": [
      "\u001b[1;31m---------------------------------------------------------------------------\u001b[0m",
      "\u001b[1;31mNameError\u001b[0m                                 Traceback (most recent call last)",
      "\u001b[1;32m<ipython-input-5-213e136c549f>\u001b[0m in \u001b[0;36m<module>\u001b[1;34m()\u001b[0m\n\u001b[1;32m----> 1\u001b[1;33m \u001b[0mprint\u001b[0m\u001b[1;33m(\u001b[0m\u001b[0mlen\u001b[0m\u001b[1;33m(\u001b[0m\u001b[0ms\u001b[0m\u001b[1;33m)\u001b[0m\u001b[1;33m-\u001b[0m\u001b[0ms\u001b[0m\u001b[1;33m[\u001b[0m\u001b[0mi\u001b[0m\u001b[1;33m+\u001b[0m\u001b[1;36m1\u001b[0m\u001b[1;33m:\u001b[0m\u001b[0mei\u001b[0m\u001b[1;33m]\u001b[0m\u001b[1;33m[\u001b[0m\u001b[1;33m:\u001b[0m\u001b[1;33m:\u001b[0m\u001b[1;33m-\u001b[0m\u001b[1;36m1\u001b[0m\u001b[1;33m]\u001b[0m\u001b[1;33m.\u001b[0m\u001b[0mindex\u001b[0m\u001b[1;33m(\u001b[0m\u001b[1;34m'x'\u001b[0m\u001b[1;33m)\u001b[0m\u001b[1;33m-\u001b[0m\u001b[1;36m1\u001b[0m\u001b[1;33m-\u001b[0m\u001b[1;33m(\u001b[0m\u001b[0mlen\u001b[0m\u001b[1;33m(\u001b[0m\u001b[0ms\u001b[0m\u001b[1;33m)\u001b[0m\u001b[1;33m-\u001b[0m\u001b[0mei\u001b[0m\u001b[1;33m)\u001b[0m\u001b[1;33m)\u001b[0m\u001b[1;33m\u001b[0m\u001b[0m\n\u001b[0m\u001b[0;32m      2\u001b[0m \u001b[0mprint\u001b[0m\u001b[1;33m(\u001b[0m\u001b[0ms\u001b[0m\u001b[1;33m[\u001b[0m\u001b[0mlen\u001b[0m\u001b[1;33m(\u001b[0m\u001b[0ms\u001b[0m\u001b[1;33m)\u001b[0m\u001b[1;33m-\u001b[0m\u001b[0ms\u001b[0m\u001b[1;33m[\u001b[0m\u001b[0mi\u001b[0m\u001b[1;33m+\u001b[0m\u001b[1;36m1\u001b[0m\u001b[1;33m:\u001b[0m\u001b[0mei\u001b[0m\u001b[1;33m]\u001b[0m\u001b[1;33m[\u001b[0m\u001b[1;33m:\u001b[0m\u001b[1;33m:\u001b[0m\u001b[1;33m-\u001b[0m\u001b[1;36m1\u001b[0m\u001b[1;33m]\u001b[0m\u001b[1;33m.\u001b[0m\u001b[0mindex\u001b[0m\u001b[1;33m(\u001b[0m\u001b[1;34m'x'\u001b[0m\u001b[1;33m)\u001b[0m\u001b[1;33m-\u001b[0m\u001b[1;36m1\u001b[0m\u001b[1;33m-\u001b[0m\u001b[1;33m(\u001b[0m\u001b[0mlen\u001b[0m\u001b[1;33m(\u001b[0m\u001b[0ms\u001b[0m\u001b[1;33m)\u001b[0m\u001b[1;33m-\u001b[0m\u001b[0mei\u001b[0m\u001b[1;33m)\u001b[0m\u001b[1;33m]\u001b[0m\u001b[1;33m)\u001b[0m\u001b[1;33m\u001b[0m\u001b[0m\n",
      "\u001b[1;31mNameError\u001b[0m: name 'ei' is not defined"
     ]
    }
   ],
   "source": [
    "print(len(s)-s[i+1:ei][::-1].index('x')-1-(len(s)-ei))\n",
    "print(s[len(s)-s[i+1:ei][::-1].index('x')-1-(len(s)-ei)])"
   ]
  },
  {
   "cell_type": "code",
   "execution_count": 6,
   "metadata": {
    "ExecuteTime": {
     "end_time": "2021-07-16T03:13:59.713752Z",
     "start_time": "2021-07-16T03:13:59.676750Z"
    }
   },
   "outputs": [
    {
     "name": "stdout",
     "output_type": "stream",
     "text": [
      "6\n"
     ]
    },
    {
     "ename": "NameError",
     "evalue": "name 'res' is not defined",
     "output_type": "error",
     "traceback": [
      "\u001b[1;31m---------------------------------------------------------------------------\u001b[0m",
      "\u001b[1;31mNameError\u001b[0m                                 Traceback (most recent call last)",
      "\u001b[1;32m<ipython-input-6-8cea1f79e30f>\u001b[0m in \u001b[0;36m<module>\u001b[1;34m()\u001b[0m\n\u001b[0;32m      4\u001b[0m \u001b[0mprint\u001b[0m\u001b[1;33m(\u001b[0m\u001b[0mei\u001b[0m\u001b[1;33m)\u001b[0m\u001b[1;33m\u001b[0m\u001b[0m\n\u001b[0;32m      5\u001b[0m \u001b[1;32mif\u001b[0m \u001b[0ms\u001b[0m\u001b[1;33m[\u001b[0m\u001b[0mi\u001b[0m\u001b[1;33m:\u001b[0m\u001b[0mei\u001b[0m\u001b[1;33m+\u001b[0m\u001b[1;36m1\u001b[0m\u001b[1;33m]\u001b[0m\u001b[1;33m==\u001b[0m\u001b[0ms\u001b[0m\u001b[1;33m[\u001b[0m\u001b[1;33m:\u001b[0m\u001b[1;33m:\u001b[0m\u001b[1;33m-\u001b[0m\u001b[1;36m1\u001b[0m\u001b[1;33m]\u001b[0m\u001b[1;33m[\u001b[0m\u001b[0mi\u001b[0m\u001b[1;33m:\u001b[0m\u001b[0mei\u001b[0m\u001b[1;33m+\u001b[0m\u001b[1;36m1\u001b[0m\u001b[1;33m]\u001b[0m\u001b[1;33m:\u001b[0m\u001b[1;33m\u001b[0m\u001b[0m\n\u001b[1;32m----> 6\u001b[1;33m     \u001b[0mres\u001b[0m\u001b[1;33m.\u001b[0m\u001b[0mappend\u001b[0m\u001b[1;33m(\u001b[0m\u001b[0mres\u001b[0m\u001b[1;33m)\u001b[0m\u001b[1;33m\u001b[0m\u001b[0m\n\u001b[0m\u001b[0;32m      7\u001b[0m     \u001b[0mprint\u001b[0m\u001b[1;33m(\u001b[0m\u001b[0mres\u001b[0m\u001b[1;33m)\u001b[0m\u001b[1;33m\u001b[0m\u001b[0m\n\u001b[0;32m      8\u001b[0m \u001b[1;32melse\u001b[0m\u001b[1;33m:\u001b[0m\u001b[1;33m\u001b[0m\u001b[0m\n",
      "\u001b[1;31mNameError\u001b[0m: name 'res' is not defined"
     ]
    }
   ],
   "source": [
    "ei=len(s)\n",
    "ei=12\n",
    "ei=len(s)-s[i+1:ei][::-1].index(s[i])-1-(len(s)-ei)\n",
    "print(ei)\n",
    "if s[i:ei+1]==s[::-1][i:ei+1]:\n",
    "    res.append(res)\n",
    "    print(res)\n",
    "else:\n",
    "    ei=len(s)-s[i+1:ei][::-1].index(s[i])-1-(len(s)-ei)\n",
    "    print(ei)"
   ]
  },
  {
   "cell_type": "code",
   "execution_count": null,
   "metadata": {
    "collapsed": true
   },
   "outputs": [],
   "source": []
  },
  {
   "cell_type": "code",
   "execution_count": 7,
   "metadata": {
    "ExecuteTime": {
     "end_time": "2021-07-16T03:14:02.473910Z",
     "start_time": "2021-07-16T03:14:02.461909Z"
    }
   },
   "outputs": [
    {
     "data": {
      "text/plain": [
       "'xaabacxcabaax'"
      ]
     },
     "execution_count": 7,
     "metadata": {},
     "output_type": "execute_result"
    }
   ],
   "source": [
    "s[:13]"
   ]
  },
  {
   "cell_type": "code",
   "execution_count": 8,
   "metadata": {
    "ExecuteTime": {
     "end_time": "2021-07-16T03:14:03.063943Z",
     "start_time": "2021-07-16T03:14:03.052943Z"
    }
   },
   "outputs": [
    {
     "data": {
      "text/plain": [
       "'xaabacxcabaax'"
      ]
     },
     "execution_count": 8,
     "metadata": {},
     "output_type": "execute_result"
    }
   ],
   "source": [
    "s[:13][::-1]"
   ]
  },
  {
   "cell_type": "code",
   "execution_count": 12,
   "metadata": {
    "ExecuteTime": {
     "end_time": "2021-07-16T03:14:17.115747Z",
     "start_time": "2021-07-16T03:14:17.109747Z"
    },
    "collapsed": true
   },
   "outputs": [],
   "source": [
    "s=\"xaabacxcabaaxcabaax\""
   ]
  },
  {
   "cell_type": "markdown",
   "metadata": {
    "ExecuteTime": {
     "end_time": "2021-07-16T03:14:17.696780Z",
     "start_time": "2021-07-16T03:14:17.678779Z"
    },
    "collapsed": true
   },
   "source": [
    "len(s)-s[i+1:ei][::-1].index(s[i])-1-(len(s)-ei)\n",
    "仔细看这段代码 设ei=12 即倒数第二个x\n",
    "其中 len(s)-ei 是xcabaax\n",
    "在用长度 - xcabaax 就是前面的 xaabacxcabaa\n",
    "\n",
    "其实也等于 ei-s[i+1:ei][::-1].index(s[i])-1"
   ]
  },
  {
   "cell_type": "code",
   "execution_count": 31,
   "metadata": {
    "ExecuteTime": {
     "end_time": "2021-07-16T03:22:33.629146Z",
     "start_time": "2021-07-16T03:22:33.572143Z"
    }
   },
   "outputs": [
    {
     "name": "stdout",
     "output_type": "stream",
     "text": [
      "18\n",
      "12\n",
      "xaabacxcabaax\n",
      "xaabacxcabaax\n",
      "6\n",
      "17\n",
      "16\n",
      "14\n",
      "11\n",
      "aabacxcabaa\n",
      "aabacxcabaa\n",
      "10\n",
      "8\n",
      "4\n",
      "2\n",
      "aa\n",
      "aa\n",
      "17\n",
      "16\n",
      "14\n",
      "11\n",
      "10\n",
      "abacxcaba\n",
      "abacxcaba\n",
      "8\n",
      "4\n",
      "aba\n",
      "aba\n",
      "15\n",
      "9\n",
      "bacxcab\n",
      "bacxcab\n",
      "17\n",
      "16\n",
      "14\n",
      "11\n",
      "10\n",
      "8\n",
      "acxca\n",
      "acxca\n",
      "13\n",
      "7\n",
      "cxc\n",
      "cxc\n",
      "18\n",
      "12\n",
      "13\n",
      "17\n",
      "16\n",
      "14\n",
      "11\n",
      "10\n",
      "aba\n",
      "aba\n",
      "15\n",
      "17\n",
      "16\n",
      "14\n",
      "11\n",
      "aa\n",
      "aa\n",
      "17\n",
      "16\n",
      "14\n",
      "18\n",
      "17\n",
      "16\n",
      "aba\n",
      "aba\n",
      "17\n",
      "aa\n",
      "aa\n"
     ]
    },
    {
     "data": {
      "text/plain": [
       "'xaabacxcabaax'"
      ]
     },
     "execution_count": 31,
     "metadata": {},
     "output_type": "execute_result"
    }
   ],
   "source": [
    "s='xaabacxcabaaxcabaax'\n",
    "if len(s)==2 and s[0]!=s[1]:\n",
    "    r=s[0]\n",
    "elif len(s)<2:\n",
    "    r=s[0]\n",
    "else:\n",
    "    res=[]\n",
    "    for i in range(len(s)):\n",
    "        ei=len(s)\n",
    "        while s[i] in s[i+1:ei] :\n",
    "            ei=len(s)-s[i+1:ei][::-1].index(s[i])-1-(len(s)-ei)\n",
    "            print(ei)\n",
    "            if s[i:ei+1]==s[i:ei+1][::-1]:\n",
    "                print(s[i:ei+1])\n",
    "                print(s[i:ei+1][::-1])\n",
    "                res.append(s[i:ei+1])\n",
    "    r=sorted(res,key=lambda items:len(items),reverse=True)[0]\n",
    "r\n",
    "\n",
    "\n",
    "            \n",
    "            "
   ]
  },
  {
   "cell_type": "code",
   "execution_count": null,
   "metadata": {
    "collapsed": true
   },
   "outputs": [],
   "source": [
    "[for i in res]"
   ]
  },
  {
   "cell_type": "code",
   "execution_count": 19,
   "metadata": {
    "ExecuteTime": {
     "end_time": "2021-07-16T03:15:55.018347Z",
     "start_time": "2021-07-16T03:15:55.006346Z"
    }
   },
   "outputs": [
    {
     "data": {
      "text/plain": [
       "'xaabacxcabaax'"
      ]
     },
     "execution_count": 19,
     "metadata": {},
     "output_type": "execute_result"
    }
   ],
   "source": [
    "sorted(res,key=lambda items:len(items),reverse=True)[0]"
   ]
  },
  {
   "cell_type": "code",
   "execution_count": 37,
   "metadata": {
    "ExecuteTime": {
     "end_time": "2021-07-16T03:27:24.324773Z",
     "start_time": "2021-07-16T03:27:24.262769Z"
    }
   },
   "outputs": [
    {
     "name": "stdout",
     "output_type": "stream",
     "text": [
      "[]\n"
     ]
    },
    {
     "data": {
      "text/plain": [
       "'a'"
      ]
     },
     "execution_count": 37,
     "metadata": {},
     "output_type": "execute_result"
    }
   ],
   "source": [
    "s='abcda'\n",
    "if len(s)==2 and s[0]!=s[1]:\n",
    "    r=s[0]\n",
    "elif len(s)<2:\n",
    "    r=s[0]\n",
    "else:\n",
    "    res=[]\n",
    "    for i in range(len(s)):\n",
    "        ei=len(s)\n",
    "        while s[i] in s[i+1:ei] :\n",
    "            ei=len(s)-s[i+1:ei][::-1].index(s[i])-1-(len(s)-ei)\n",
    "            if s[i:ei+1]==s[i:ei+1][::-1]:\n",
    "                res.append(s[i:ei+1])\n",
    "    print(res)\n",
    "    if len(res)<1:\n",
    "        r=s[0]\n",
    "    else:\n",
    "        r=sorted(res,key=lambda items:len(items),reverse=True)[0]\n",
    "r\n",
    "\n",
    "\n",
    "            \n",
    "            "
   ]
  },
  {
   "cell_type": "code",
   "execution_count": null,
   "metadata": {
    "collapsed": true
   },
   "outputs": [],
   "source": []
  }
 ],
 "metadata": {
  "kernelspec": {
   "display_name": "Python 3",
   "language": "python",
   "name": "python3"
  },
  "language_info": {
   "codemirror_mode": {
    "name": "ipython",
    "version": 3
   },
   "file_extension": ".py",
   "mimetype": "text/x-python",
   "name": "python",
   "nbconvert_exporter": "python",
   "pygments_lexer": "ipython3",
   "version": "3.6.3"
  }
 },
 "nbformat": 4,
 "nbformat_minor": 2
}
