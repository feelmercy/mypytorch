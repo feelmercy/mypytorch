{
 "cells": [
  {
   "cell_type": "code",
   "execution_count": 1,
   "metadata": {
    "ExecuteTime": {
     "end_time": "2021-07-05T06:12:41.739916Z",
     "start_time": "2021-07-05T06:12:40.018817Z"
    },
    "collapsed": true
   },
   "outputs": [],
   "source": [
    "import numpy as np"
   ]
  },
  {
   "cell_type": "code",
   "execution_count": 2,
   "metadata": {
    "ExecuteTime": {
     "end_time": "2021-07-05T06:12:41.754916Z",
     "start_time": "2021-07-05T06:12:41.741916Z"
    }
   },
   "outputs": [
    {
     "name": "stdout",
     "output_type": "stream",
     "text": [
      "1\n"
     ]
    }
   ],
   "source": [
    "s='bbbbbbb'\n",
    "a=set(s)\n",
    "print(len(a))"
   ]
  },
  {
   "cell_type": "code",
   "execution_count": 3,
   "metadata": {
    "ExecuteTime": {
     "end_time": "2021-07-05T06:12:41.764917Z",
     "start_time": "2021-07-05T06:12:41.757917Z"
    }
   },
   "outputs": [
    {
     "name": "stdout",
     "output_type": "stream",
     "text": [
      "0\n"
     ]
    }
   ],
   "source": [
    "s=''\n",
    "a=set(s)\n",
    "print(len(a))"
   ]
  },
  {
   "cell_type": "code",
   "execution_count": 4,
   "metadata": {
    "ExecuteTime": {
     "end_time": "2021-07-05T06:12:41.774918Z",
     "start_time": "2021-07-05T06:12:41.766917Z"
    }
   },
   "outputs": [
    {
     "name": "stdout",
     "output_type": "stream",
     "text": [
      "4\n"
     ]
    }
   ],
   "source": [
    "s='pwwkew'\n",
    "a=set(s)\n",
    "print(len(a))"
   ]
  },
  {
   "cell_type": "code",
   "execution_count": 5,
   "metadata": {
    "ExecuteTime": {
     "end_time": "2021-07-05T06:12:51.477473Z",
     "start_time": "2021-07-05T06:12:51.273461Z"
    }
   },
   "outputs": [
    {
     "ename": "AttributeError",
     "evalue": "'str' object has no attribute 'unique'",
     "output_type": "error",
     "traceback": [
      "\u001b[1;31m---------------------------------------------------------------------------\u001b[0m",
      "\u001b[1;31mAttributeError\u001b[0m                            Traceback (most recent call last)",
      "\u001b[1;32m<ipython-input-5-d144f18498e7>\u001b[0m in \u001b[0;36m<module>\u001b[1;34m()\u001b[0m\n\u001b[1;32m----> 1\u001b[1;33m \u001b[0ms\u001b[0m\u001b[1;33m.\u001b[0m\u001b[0munique\u001b[0m\u001b[1;33m(\u001b[0m\u001b[1;33m)\u001b[0m\u001b[1;33m\u001b[0m\u001b[0m\n\u001b[0m",
      "\u001b[1;31mAttributeError\u001b[0m: 'str' object has no attribute 'unique'"
     ]
    }
   ],
   "source": [
    "eaabcad"
   ]
  },
  {
   "cell_type": "code",
   "execution_count": 12,
   "metadata": {
    "ExecuteTime": {
     "end_time": "2021-07-05T06:30:59.055678Z",
     "start_time": "2021-07-05T06:30:59.033677Z"
    }
   },
   "outputs": [
    {
     "name": "stdout",
     "output_type": "stream",
     "text": [
      "['abc', 'bca', 'cab', 'abc', 'bcb', 'cbb']\n"
     ]
    }
   ],
   "source": [
    "s='abcabcbb'\n",
    "s1=[s[i] for i in range(len(s))]\n",
    "s2=[s[i:i+2] for i in range(len(s)-1)]\n",
    "s3=[s[i:i+3] for i in range(len(s)-2)]\n",
    "print(s3)\n"
   ]
  },
  {
   "cell_type": "code",
   "execution_count": 79,
   "metadata": {
    "ExecuteTime": {
     "end_time": "2021-07-05T07:34:30.466679Z",
     "start_time": "2021-07-05T07:34:30.459678Z"
    },
    "collapsed": true
   },
   "outputs": [],
   "source": [
    "s='pwwkew'"
   ]
  },
  {
   "cell_type": "code",
   "execution_count": 80,
   "metadata": {
    "ExecuteTime": {
     "end_time": "2021-07-05T07:34:30.908704Z",
     "start_time": "2021-07-05T07:34:30.857701Z"
    }
   },
   "outputs": [
    {
     "name": "stdout",
     "output_type": "stream",
     "text": [
      "['p']\n",
      "['p', 'w']\n",
      "['p', 'w', 'w']\n",
      "['w', 'w']\n",
      "['w']\n",
      "['w', 'k']\n",
      "['w', 'k', 'e']\n",
      "['w', 'k', 'e', 'w']\n",
      "['k', 'e', 'w']\n",
      "3\n"
     ]
    }
   ],
   "source": [
    "x=1\n",
    "r=[]\n",
    "for i in range(len(s)-x):\n",
    "    while True:\n",
    "        if i+x>len(s):\n",
    "            x=x-1\n",
    "            break\n",
    "        s1=s[i:i+x]\n",
    "        s2=[s1[k] for k in range(len(s1))]\n",
    "        print(s2)\n",
    "        if len(s2)==len(set(s2)):\n",
    "            x=x+1\n",
    "        else:\n",
    "            x=x-1\n",
    "            break\n",
    "        if x==1:\n",
    "            break\n",
    "    r.append(x)\n",
    "if len(r)==0:\n",
    "    print( '0')\n",
    "else :\n",
    "    print(max(r))\n",
    "\n",
    "    \n",
    "        "
   ]
  },
  {
   "cell_type": "code",
   "execution_count": 15,
   "metadata": {
    "ExecuteTime": {
     "end_time": "2021-07-05T06:45:21.734021Z",
     "start_time": "2021-07-05T06:45:21.723020Z"
    }
   },
   "outputs": [
    {
     "data": {
      "text/plain": [
       "3"
      ]
     },
     "execution_count": 15,
     "metadata": {},
     "output_type": "execute_result"
    }
   ],
   "source": [
    "len(set(['a','b','c','a']))"
   ]
  },
  {
   "cell_type": "code",
   "execution_count": 23,
   "metadata": {
    "ExecuteTime": {
     "end_time": "2021-07-05T07:08:10.753324Z",
     "start_time": "2021-07-05T07:08:10.741324Z"
    }
   },
   "outputs": [
    {
     "data": {
      "text/plain": [
       "5"
      ]
     },
     "execution_count": 23,
     "metadata": {},
     "output_type": "execute_result"
    }
   ],
   "source": [
    "max([1,2,3,4,5])"
   ]
  },
  {
   "cell_type": "code",
   "execution_count": 85,
   "metadata": {
    "ExecuteTime": {
     "end_time": "2021-07-05T07:36:32.399653Z",
     "start_time": "2021-07-05T07:36:32.349650Z"
    },
    "collapsed": true
   },
   "outputs": [],
   "source": [
    "def lengthOfLongestSubstring(s):\n",
    "    if len(s)<=1:\n",
    "        return len(s)\n",
    "    x=2\n",
    "    r=[]\n",
    "    for i in range(len(s)-x):\n",
    "        while True:\n",
    "            if i+x>len(s):\n",
    "                x=x-1\n",
    "                break\n",
    "            s1=s[i:i+x]\n",
    "            s2=[s1[k] for k in range(len(s1))]\n",
    "#             print(s2)\n",
    "            if len(s2)==len(set(s2)):\n",
    "                x=x+1\n",
    "            else:\n",
    "                x=x-1\n",
    "                break\n",
    "            if x==1:\n",
    "                break\n",
    "        r.append(x)\n",
    "    return max(r)\n",
    "    "
   ]
  },
  {
   "cell_type": "code",
   "execution_count": 88,
   "metadata": {
    "ExecuteTime": {
     "end_time": "2021-07-05T07:36:43.503288Z",
     "start_time": "2021-07-05T07:36:43.493287Z"
    }
   },
   "outputs": [
    {
     "data": {
      "text/plain": [
       "3"
      ]
     },
     "execution_count": 88,
     "metadata": {},
     "output_type": "execute_result"
    }
   ],
   "source": [
    "lengthOfLongestSubstring('pwwkew')"
   ]
  },
  {
   "cell_type": "code",
   "execution_count": 95,
   "metadata": {
    "ExecuteTime": {
     "end_time": "2021-07-05T07:41:39.020191Z",
     "start_time": "2021-07-05T07:41:38.956187Z"
    },
    "collapsed": true
   },
   "outputs": [],
   "source": [
    "class Solution:\n",
    "    def lengthOfLongestSubstring(self, s: str) -> int:\n",
    "        if len(s)<=1:\n",
    "            return len(s)\n",
    "        x=1\n",
    "        r=[]\n",
    "        for i in range(len(s)-x):\n",
    "            while True:\n",
    "                if i+x>len(s):\n",
    "                    x=x-1\n",
    "                    break\n",
    "                s1=s[i:i+x]\n",
    "                s2=[s1[k] for k in range(len(s1))]\n",
    "    #             print(s2)\n",
    "                if len(s2)==len(set(s2)):\n",
    "                    x=x+1\n",
    "                else:\n",
    "                    x=x-1\n",
    "                    break\n",
    "                if x==1:\n",
    "                    break\n",
    "            r.append(x)\n",
    "        return max(r)"
   ]
  },
  {
   "cell_type": "code",
   "execution_count": 96,
   "metadata": {
    "ExecuteTime": {
     "end_time": "2021-07-05T07:41:39.914242Z",
     "start_time": "2021-07-05T07:41:39.901241Z"
    }
   },
   "outputs": [
    {
     "data": {
      "text/plain": [
       "1"
      ]
     },
     "execution_count": 96,
     "metadata": {},
     "output_type": "execute_result"
    }
   ],
   "source": [
    "test=Solution()\n",
    "test.lengthOfLongestSubstring(\"aa\")"
   ]
  },
  {
   "cell_type": "code",
   "execution_count": null,
   "metadata": {
    "collapsed": true
   },
   "outputs": [],
   "source": [
    "第二种方法 set 写成函数,测试成功,特殊情况不能处理 \"dvdf\",因为 s2=dvf ,而子串vdf 不在这里"
   ]
  },
  {
   "cell_type": "code",
   "execution_count": 61,
   "metadata": {
    "ExecuteTime": {
     "end_time": "2021-07-06T03:09:53.963083Z",
     "start_time": "2021-07-06T03:09:53.923081Z"
    }
   },
   "outputs": [
    {
     "name": "stdout",
     "output_type": "stream",
     "text": [
      "['p', 'w', 'w', 'k', 'e', 'w']\n",
      "['p', 'w', 'k', 'e']\n",
      "4\n",
      "['p', 'w', 'k', 'e']\n",
      "['p', 'w', 'w', 'k']\n"
     ]
    }
   ],
   "source": [
    "s='pwwkew'\n",
    "s1=[s[i] for i in range(len(s))]\n",
    "print(s1)\n",
    "s2=list(set(s1))\n",
    "s2.sort(key=s.index)\n",
    "print(s2)\n",
    "if len(s1)==len(s2):\n",
    "    max_l=len(s1)\n",
    "else:\n",
    "    max_l=len(s2)\n",
    "print(max_l)\n",
    "print(s2[:])\n",
    "print(s1[0:4])\n",
    "r=max_l\n",
    "while max_l>0:\n",
    "    for i in range(len(s1)-max_l):\n",
    "        if s1[i:i+max_l]==s2[:]:\n",
    "            return max_l\n",
    "        \n",
    "    \n"
   ]
  },
  {
   "cell_type": "code",
   "execution_count": 64,
   "metadata": {
    "ExecuteTime": {
     "end_time": "2021-07-06T03:19:00.032317Z",
     "start_time": "2021-07-06T03:19:00.021316Z"
    }
   },
   "outputs": [
    {
     "data": {
      "text/plain": [
       "['p', 'w', 'k', 'e']"
      ]
     },
     "execution_count": 64,
     "metadata": {},
     "output_type": "execute_result"
    }
   ],
   "source": [
    "s2[:5]"
   ]
  },
  {
   "cell_type": "code",
   "execution_count": 106,
   "metadata": {
    "ExecuteTime": {
     "end_time": "2021-07-06T05:22:24.071804Z",
     "start_time": "2021-07-06T05:22:24.013800Z"
    }
   },
   "outputs": [],
   "source": [
    "def find_str(s):\n",
    "    s1=[s[i] for i in range(len(s))]\n",
    "    s2=list(set(s1))\n",
    "    s2.sort(key=s.index)\n",
    "    if len(s1)==len(s2):\n",
    "        print('---- return 1')\n",
    "        print(s1)\n",
    "        print(s2)\n",
    "        return len(s1)\n",
    "    else:\n",
    "        max_l=len(s2)\n",
    "    while max_l>0:\n",
    "        for k in range(len(s2)-max_l+1):\n",
    "            for i in range(len(s1)-max_l+1):\n",
    "                print('s1: ',s1[i:i+max_l])\n",
    "                print('s2: ',s2[k:k+max_l])\n",
    "                print('-------------------')\n",
    "\n",
    "                if s1[i:i+max_l]==s2[k:k+max_l]:\n",
    "                    print('---return---')\n",
    "                    print(s1[i:i+max_l])\n",
    "                    print(s2[k:k+max_l])\n",
    "                    return max_l\n",
    "        max_l=max_l-1\n",
    "    return max_l\n",
    "        \n",
    "    "
   ]
  },
  {
   "cell_type": "code",
   "execution_count": 118,
   "metadata": {
    "ExecuteTime": {
     "end_time": "2021-07-06T05:27:07.122993Z",
     "start_time": "2021-07-06T05:27:07.099992Z"
    }
   },
   "outputs": [
    {
     "name": "stdout",
     "output_type": "stream",
     "text": [
      "s1:  ['d', 'v', 'd']\n",
      "s2:  ['d', 'v', 'f']\n",
      "-------------------\n",
      "s1:  ['v', 'd', 'f']\n",
      "s2:  ['d', 'v', 'f']\n",
      "-------------------\n",
      "s1:  ['d', 'v']\n",
      "s2:  ['d', 'v']\n",
      "-------------------\n",
      "---return---\n",
      "['d', 'v']\n",
      "['d', 'v']\n"
     ]
    },
    {
     "data": {
      "text/plain": [
       "2"
      ]
     },
     "execution_count": 118,
     "metadata": {},
     "output_type": "execute_result"
    }
   ],
   "source": [
    "s='dvdf'\n",
    "find_str(s)"
   ]
  },
  {
   "cell_type": "code",
   "execution_count": 119,
   "metadata": {
    "ExecuteTime": {
     "end_time": "2021-07-06T05:27:09.153109Z",
     "start_time": "2021-07-06T05:27:09.141109Z"
    }
   },
   "outputs": [
    {
     "ename": "ValueError",
     "evalue": "substring not found",
     "output_type": "error",
     "traceback": [
      "\u001b[1;31m---------------------------------------------------------------------------\u001b[0m",
      "\u001b[1;31mValueError\u001b[0m                                Traceback (most recent call last)",
      "\u001b[1;32m<ipython-input-119-f29d90957df7>\u001b[0m in \u001b[0;36m<module>\u001b[1;34m()\u001b[0m\n\u001b[1;32m----> 1\u001b[1;33m \u001b[0ms\u001b[0m\u001b[1;33m.\u001b[0m\u001b[0mindex\u001b[0m\u001b[1;33m(\u001b[0m\u001b[1;34m'wwk'\u001b[0m\u001b[1;33m)\u001b[0m\u001b[1;33m\u001b[0m\u001b[0m\n\u001b[0m",
      "\u001b[1;31mValueError\u001b[0m: substring not found"
     ]
    }
   ],
   "source": [
    "s.index('wwk')"
   ]
  },
  {
   "cell_type": "code",
   "execution_count": 111,
   "metadata": {
    "ExecuteTime": {
     "end_time": "2021-07-06T05:23:50.311736Z",
     "start_time": "2021-07-06T05:23:50.272734Z"
    }
   },
   "outputs": [],
   "source": [
    "class Solution:\n",
    "    def lengthOfLongestSubstring(self, s: str) -> int:\n",
    "        s1=[s[i] for i in range(len(s))]\n",
    "        s2=list(set(s1))\n",
    "        s2.sort(key=s.index)\n",
    "        if len(s1)==len(s2):\n",
    "            return len(s1)\n",
    "        else:\n",
    "            max_l=len(s2)\n",
    "        while max_l>0:\n",
    "            for k in range(len(s2)-max_l+1):\n",
    "                for i in range(len(s1)-max_l+1):\n",
    "                    if s1[i:i+max_l]==s2[k:k+max_l]:\n",
    "                        return max_l\n",
    "            max_l=max_l-1\n",
    "        return max_l"
   ]
  },
  {
   "cell_type": "code",
   "execution_count": 117,
   "metadata": {
    "ExecuteTime": {
     "end_time": "2021-07-06T05:26:26.986698Z",
     "start_time": "2021-07-06T05:26:26.971697Z"
    }
   },
   "outputs": [
    {
     "data": {
      "text/plain": [
       "2"
      ]
     },
     "execution_count": 117,
     "metadata": {},
     "output_type": "execute_result"
    }
   ],
   "source": [
    "abcabcbbsol=Solution()\n",
    "sol.lengthOfLongestSubstring('dvdf')"
   ]
  },
  {
   "cell_type": "code",
   "execution_count": null,
   "metadata": {
    "collapsed": true
   },
   "outputs": [],
   "source": []
  },
  {
   "cell_type": "code",
   "execution_count": null,
   "metadata": {
    "collapsed": true
   },
   "outputs": [],
   "source": []
  },
  {
   "cell_type": "code",
   "execution_count": null,
   "metadata": {
    "collapsed": true
   },
   "outputs": [],
   "source": []
  }
 ],
 "metadata": {
  "kernelspec": {
   "display_name": "Python 3",
   "language": "python",
   "name": "python3"
  },
  "language_info": {
   "codemirror_mode": {
    "name": "ipython",
    "version": 3
   },
   "file_extension": ".py",
   "mimetype": "text/x-python",
   "name": "python",
   "nbconvert_exporter": "python",
   "pygments_lexer": "ipython3",
   "version": "3.6.3"
  }
 },
 "nbformat": 4,
 "nbformat_minor": 2
}
