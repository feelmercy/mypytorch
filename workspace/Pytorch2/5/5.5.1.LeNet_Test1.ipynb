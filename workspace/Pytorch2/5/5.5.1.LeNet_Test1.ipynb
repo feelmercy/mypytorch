{
 "cells": [
  {
   "cell_type": "code",
   "execution_count": 10,
   "metadata": {
    "ExecuteTime": {
     "end_time": "2021-02-01T06:57:20.551921Z",
     "start_time": "2021-02-01T06:57:20.520721Z"
    }
   },
   "outputs": [],
   "source": [
    "import time\n",
    "import torch\n",
    "from torch import nn,optim\n",
    "import torchvision\n",
    "import torchvision.transforms as transforms"
   ]
  },
  {
   "cell_type": "code",
   "execution_count": 11,
   "metadata": {
    "ExecuteTime": {
     "end_time": "2021-02-01T06:57:22.081392Z",
     "start_time": "2021-02-01T06:57:21.338750Z"
    }
   },
   "outputs": [],
   "source": [
    "batch_size=256\n",
    "mnist_train=torchvision.datasets.FashionMNIST(\n",
    "    root='F:\\study\\ml\\DataSet\\FashionMNIST',train=True,\n",
    "    download=True,transform=transforms.ToTensor())\n",
    "mnist_test=torchvision.datasets.FashionMNIST(\n",
    "    root='F:\\study\\ml\\DataSet\\FashionMNIST',train=False,\n",
    "    download=True,transform=transforms.ToTensor())\n",
    "train_iter=torch.utils.data.DataLoader(mnist_train,batch_size=batch_size,\n",
    "                                      shuffle=True,num_workers=4)\n",
    "\n",
    "test_iter=torch.utils.data.DataLoader(mnist_test,batch_size=batch_size,\n",
    "                                      shuffle=True,num_workers=4)"
   ]
  },
  {
   "cell_type": "code",
   "execution_count": 14,
   "metadata": {
    "ExecuteTime": {
     "end_time": "2021-02-01T07:43:06.026034Z",
     "start_time": "2021-02-01T07:43:05.985032Z"
    },
    "collapsed": true
   },
   "outputs": [],
   "source": [
    "class LeNet(nn.Module):\n",
    "    def __init__(self):\n",
    "        super().__init__()\n",
    "        self.conv=nn.Sequential(\n",
    "            nn.Conv2d(1,6,5), #in_channel,out_channnel,kernel_size\n",
    "            nn.Sigmoid(),\n",
    "            nn.MaxPool2d(2,2),\n",
    "            nn.Conv2d(6,16,5),\n",
    "            nn.Sigmoid(),\n",
    "            nn.MaxPool2d(2,2)\n",
    "        )\n",
    "        self.fc=nn.Sequential(\n",
    "            nn.Linear(16*4*4,120),\n",
    "            nn.Sigmoid(),\n",
    "            nn.Linear(120,84),\n",
    "            nn.Sigmoid(),\n",
    "            nn.Linear(84,10)\n",
    "        )\n",
    "    def forward(self,img):\n",
    "        feature=self.conv(img)\n",
    "        output=self.fc(feature.view(img.shape[0],-1))\n",
    "        return output"
   ]
  },
  {
   "cell_type": "code",
   "execution_count": 15,
   "metadata": {
    "ExecuteTime": {
     "end_time": "2021-02-01T07:43:06.716074Z",
     "start_time": "2021-02-01T07:43:06.708073Z"
    }
   },
   "outputs": [
    {
     "name": "stdout",
     "output_type": "stream",
     "text": [
      "LeNet(\n",
      "  (conv): Sequential(\n",
      "    (0): Conv2d(1, 6, kernel_size=(5, 5), stride=(1, 1))\n",
      "    (1): Sigmoid()\n",
      "    (2): MaxPool2d(kernel_size=2, stride=2, padding=0, dilation=1, ceil_mode=False)\n",
      "    (3): Conv2d(6, 16, kernel_size=(5, 5), stride=(1, 1))\n",
      "    (4): Sigmoid()\n",
      "    (5): MaxPool2d(kernel_size=2, stride=2, padding=0, dilation=1, ceil_mode=False)\n",
      "  )\n",
      "  (fc): Sequential(\n",
      "    (0): Linear(in_features=256, out_features=120, bias=True)\n",
      "    (1): Sigmoid()\n",
      "    (2): Linear(in_features=120, out_features=84, bias=True)\n",
      "    (3): Sigmoid()\n",
      "    (4): Linear(in_features=84, out_features=10, bias=True)\n",
      "  )\n",
      ")\n"
     ]
    }
   ],
   "source": [
    "net=LeNet()\n",
    "print(net)"
   ]
  },
  {
   "cell_type": "code",
   "execution_count": 22,
   "metadata": {
    "ExecuteTime": {
     "end_time": "2021-02-01T08:26:21.815505Z",
     "start_time": "2021-02-01T08:26:21.794504Z"
    },
    "collapsed": true
   },
   "outputs": [],
   "source": [
    "def evaluate_accuracy(data_iter,net):\n",
    "    acc_sum,n=0.0,0\n",
    "    with torch.no_grad():\n",
    "        for x,y in data_iter:\n",
    "            net.eval()\n",
    "            acc_sum +=(net(x).argmax(dim=1)==y).float().sum().item()\n",
    "            net.train()\n",
    "            n+=y.shape[0]\n",
    "    return acc_sum / n"
   ]
  },
  {
   "cell_type": "code",
   "execution_count": 23,
   "metadata": {
    "ExecuteTime": {
     "end_time": "2021-02-01T08:26:22.874566Z",
     "start_time": "2021-02-01T08:26:22.834563Z"
    }
   },
   "outputs": [],
   "source": [
    "def train_ch5(net, train_iter, test_iter, batch_size, optimizer, num_epochs):\n",
    "    loss = torch.nn.CrossEntropyLoss()\n",
    "    batch_count = 0\n",
    "    for epoch in range(num_epochs):\n",
    "        train_l_sum, train_acc_sum, n, start = 0.0, 0.0, 0, time.time()\n",
    "        for x, y in train_iter:\n",
    "            y_hat = net(x)\n",
    "            l = loss(y_hat, y)\n",
    "            optimizer.zero_grad()\n",
    "            l.backward()\n",
    "            optimizer.step()\n",
    "            train_l_sum += l.item()\n",
    "            train_acc_sum += (y_hat.argmax(dim=1) == y).float().sum().item()\n",
    "            n += y.shape[0]\n",
    "            batch_count += 1\n",
    "        test_acc = evaluate_accuracy(test_iter, net)\n",
    "        print(\n",
    "            'epoch %d,loss %.4f,train_acc %.3f,test acc %.3f , time %.1f sec' %\n",
    "            (epoch + 1, train_l_sum / batch_count, train_acc_sum / n, test_acc,\n",
    "             time.time() - start))"
   ]
  },
  {
   "cell_type": "code",
   "execution_count": 26,
   "metadata": {
    "ExecuteTime": {
     "end_time": "2021-02-01T08:58:14.883926Z",
     "start_time": "2021-02-01T08:56:16.737169Z"
    }
   },
   "outputs": [
    {
     "name": "stdout",
     "output_type": "stream",
     "text": [
      "epoch 1,loss 0.4651,train_acc 0.823,test acc 0.816 , time 26.4 sec\n",
      "epoch 2,loss 0.2250,train_acc 0.830,test acc 0.823 , time 24.7 sec\n",
      "epoch 3,loss 0.1470,train_acc 0.835,test acc 0.822 , time 22.5 sec\n",
      "epoch 4,loss 0.1069,train_acc 0.841,test acc 0.830 , time 22.3 sec\n",
      "epoch 5,loss 0.0838,train_acc 0.845,test acc 0.833 , time 22.3 sec\n"
     ]
    }
   ],
   "source": [
    "lr,num_epochs=0.001,5\n",
    "optimizer=torch.optim.Adam(net.parameters(),lr=lr)\n",
    "train_ch5(net,train_iter,test_iter,batch_size,optimizer,num_epochs)"
   ]
  },
  {
   "cell_type": "code",
   "execution_count": null,
   "metadata": {
    "collapsed": true
   },
   "outputs": [],
   "source": []
  }
 ],
 "metadata": {
  "kernelspec": {
   "display_name": "Python 3",
   "language": "python",
   "name": "python3"
  },
  "language_info": {
   "codemirror_mode": {
    "name": "ipython",
    "version": 3
   },
   "file_extension": ".py",
   "mimetype": "text/x-python",
   "name": "python",
   "nbconvert_exporter": "python",
   "pygments_lexer": "ipython3",
   "version": "3.6.3"
  }
 },
 "nbformat": 4,
 "nbformat_minor": 2
}
