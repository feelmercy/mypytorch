{
 "cells": [
  {
   "cell_type": "code",
   "execution_count": 1,
   "metadata": {
    "ExecuteTime": {
     "end_time": "2021-01-27T03:20:56.003275Z",
     "start_time": "2021-01-27T03:20:55.999275Z"
    },
    "collapsed": true
   },
   "outputs": [],
   "source": [
    "import torch\n",
    "import torch.nn as nn"
   ]
  },
  {
   "cell_type": "code",
   "execution_count": 68,
   "metadata": {
    "ExecuteTime": {
     "end_time": "2021-01-27T07:53:55.137108Z",
     "start_time": "2021-01-27T07:53:55.114107Z"
    },
    "collapsed": true
   },
   "outputs": [],
   "source": [
    "def corr2d(x,k):\n",
    "    h,w=k.shape\n",
    "    y=torch.zeros((x.shape[0]-h+1,x.shape[1]-w+1),dtype=torch.float)\n",
    "    for i in range(y.shape[0]):\n",
    "        for j in range(y.shape[1]):\n",
    "            y[i,j]=(x[i:i+h,j:j+w].float()*k.float()).sum()\n",
    "    return y"
   ]
  },
  {
   "cell_type": "code",
   "execution_count": 69,
   "metadata": {
    "ExecuteTime": {
     "end_time": "2021-01-27T07:53:55.705140Z",
     "start_time": "2021-01-27T07:53:55.686139Z"
    }
   },
   "outputs": [
    {
     "data": {
      "text/plain": [
       "19.0"
      ]
     },
     "execution_count": 69,
     "metadata": {},
     "output_type": "execute_result"
    }
   ],
   "source": [
    "x=torch.tensor([[0,1,2],[3,4,5],[6,7,8]])\n",
    "k=torch.tensor([[0,1],[2,3]])\n",
    "z=corr2d(x,k)\n",
    "z[0][0].item()"
   ]
  },
  {
   "cell_type": "code",
   "execution_count": 70,
   "metadata": {
    "ExecuteTime": {
     "end_time": "2021-01-27T07:53:56.362178Z",
     "start_time": "2021-01-27T07:53:56.350177Z"
    }
   },
   "outputs": [
    {
     "data": {
      "text/plain": [
       "float"
      ]
     },
     "execution_count": 70,
     "metadata": {},
     "output_type": "execute_result"
    }
   ],
   "source": [
    "type(z[0][0].item())"
   ]
  },
  {
   "cell_type": "code",
   "execution_count": 71,
   "metadata": {
    "ExecuteTime": {
     "end_time": "2021-01-27T07:54:08.787889Z",
     "start_time": "2021-01-27T07:54:08.767888Z"
    },
    "collapsed": true
   },
   "outputs": [],
   "source": [
    "class Conv2D(nn.Module):\n",
    "    def __init__(self,kernel_size):\n",
    "        super().__init__()\n",
    "        self.weight=nn.Parameter(torch.randn(kernel_size,dtype=torch.float))\n",
    "        self.bias=nn.Parameter(torch.randn(1),dtype=torch.float)\n",
    "    \n",
    "    def forward(self,x):\n",
    "        return corr2d(x,self.weight)+self.bias"
   ]
  },
  {
   "cell_type": "code",
   "execution_count": 72,
   "metadata": {
    "ExecuteTime": {
     "end_time": "2021-01-27T07:54:09.289917Z",
     "start_time": "2021-01-27T07:54:09.278917Z"
    }
   },
   "outputs": [
    {
     "data": {
      "text/plain": [
       "tensor([[0, 1],\n",
       "        [2, 3]])"
      ]
     },
     "execution_count": 72,
     "metadata": {},
     "output_type": "execute_result"
    }
   ],
   "source": [
    "k"
   ]
  },
  {
   "cell_type": "code",
   "execution_count": 73,
   "metadata": {
    "ExecuteTime": {
     "end_time": "2021-01-27T07:54:09.753944Z",
     "start_time": "2021-01-27T07:54:09.744943Z"
    }
   },
   "outputs": [
    {
     "data": {
      "text/plain": [
       "tensor([[1., 1., 0., 0., 0., 0., 1., 1.],\n",
       "        [1., 1., 0., 0., 0., 0., 1., 1.],\n",
       "        [1., 1., 0., 0., 0., 0., 1., 1.],\n",
       "        [1., 1., 0., 0., 0., 0., 1., 1.],\n",
       "        [1., 1., 0., 0., 0., 0., 1., 1.],\n",
       "        [1., 1., 0., 0., 0., 0., 1., 1.]])"
      ]
     },
     "execution_count": 73,
     "metadata": {},
     "output_type": "execute_result"
    }
   ],
   "source": [
    "x = torch.ones(6, 8)\n",
    "x[:, 2:6] = 0\n",
    "x"
   ]
  },
  {
   "cell_type": "code",
   "execution_count": 74,
   "metadata": {
    "ExecuteTime": {
     "end_time": "2021-01-27T07:54:10.277974Z",
     "start_time": "2021-01-27T07:54:10.261973Z"
    }
   },
   "outputs": [
    {
     "data": {
      "text/plain": [
       "tensor([[6., 2., 0., 0., 0., 4., 6.],\n",
       "        [6., 2., 0., 0., 0., 4., 6.],\n",
       "        [6., 2., 0., 0., 0., 4., 6.],\n",
       "        [6., 2., 0., 0., 0., 4., 6.],\n",
       "        [6., 2., 0., 0., 0., 4., 6.]])"
      ]
     },
     "execution_count": 74,
     "metadata": {},
     "output_type": "execute_result"
    }
   ],
   "source": [
    "y=corr2d(x,k)\n",
    "y"
   ]
  },
  {
   "cell_type": "code",
   "execution_count": null,
   "metadata": {
    "collapsed": true
   },
   "outputs": [],
   "source": []
  },
  {
   "cell_type": "code",
   "execution_count": null,
   "metadata": {
    "collapsed": true
   },
   "outputs": [],
   "source": []
  }
 ],
 "metadata": {
  "kernelspec": {
   "display_name": "Python 3",
   "language": "python",
   "name": "python3"
  },
  "language_info": {
   "codemirror_mode": {
    "name": "ipython",
    "version": 3
   },
   "file_extension": ".py",
   "mimetype": "text/x-python",
   "name": "python",
   "nbconvert_exporter": "python",
   "pygments_lexer": "ipython3",
   "version": "3.6.3"
  }
 },
 "nbformat": 4,
 "nbformat_minor": 2
}
