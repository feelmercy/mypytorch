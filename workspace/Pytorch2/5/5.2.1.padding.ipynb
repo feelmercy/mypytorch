{
 "cells": [
  {
   "cell_type": "code",
   "execution_count": 1,
   "metadata": {
    "ExecuteTime": {
     "end_time": "2021-01-28T05:39:49.875743Z",
     "start_time": "2021-01-28T05:39:49.871742Z"
    },
    "collapsed": true
   },
   "outputs": [],
   "source": [
    "import torch\n",
    "from torch import nn"
   ]
  },
  {
   "cell_type": "code",
   "execution_count": 4,
   "metadata": {
    "ExecuteTime": {
     "end_time": "2021-01-28T05:42:07.936639Z",
     "start_time": "2021-01-28T05:42:07.926639Z"
    },
    "collapsed": true
   },
   "outputs": [],
   "source": [
    "def conv2d(x,k):\n",
    "    h,w=k.shape\n",
    "    y=torch.zeros((x.shape[0]-h+1,x.shape[1]-w+1))\n",
    "    for i in range(y.shape[0]):\n",
    "        for j in range(y.shape[1]):\n",
    "            y[i,j]=(x[i:i+h,j:j+w].float() * k.float()).sum()\n",
    "    return y"
   ]
  },
  {
   "cell_type": "code",
   "execution_count": 2,
   "metadata": {
    "ExecuteTime": {
     "end_time": "2021-01-28T05:41:30.817516Z",
     "start_time": "2021-01-28T05:41:30.804515Z"
    },
    "collapsed": true
   },
   "outputs": [],
   "source": [
    "def comp_conv2d(conv2d,x):\n",
    "    x=x.view((1,1)+x.shape)\n",
    "    y=conv2d(x)\n",
    "    return y.view(y.shape[2:])"
   ]
  },
  {
   "cell_type": "code",
   "execution_count": 5,
   "metadata": {
    "ExecuteTime": {
     "end_time": "2021-01-28T05:45:13.327243Z",
     "start_time": "2021-01-28T05:45:12.974223Z"
    }
   },
   "outputs": [
    {
     "data": {
      "text/plain": [
       "torch.Size([8, 8])"
      ]
     },
     "execution_count": 5,
     "metadata": {},
     "output_type": "execute_result"
    }
   ],
   "source": [
    "conv2d1=nn.Conv2d(in_channels=1,out_channels=1,kernel_size=3,padding=1)\n",
    "x=torch.rand(8,8)\n",
    "comp_conv2d(conv2d1,x).shape"
   ]
  },
  {
   "cell_type": "code",
   "execution_count": 9,
   "metadata": {
    "ExecuteTime": {
     "end_time": "2021-01-28T05:57:06.514035Z",
     "start_time": "2021-01-28T05:57:06.489033Z"
    }
   },
   "outputs": [
    {
     "name": "stdout",
     "output_type": "stream",
     "text": [
      "weight\n",
      "Parameter containing:\n",
      "tensor([[[[-0.1195, -0.2076,  0.0883],\n",
      "          [-0.1818,  0.0266,  0.2336],\n",
      "          [ 0.0182,  0.1517,  0.0578]]]], requires_grad=True)\n",
      "bias\n",
      "Parameter containing:\n",
      "tensor([0.2883], requires_grad=True)\n"
     ]
    }
   ],
   "source": [
    "for name,param in conv2d1.named_parameters():\n",
    "    print(name)\n",
    "    print(param)"
   ]
  },
  {
   "cell_type": "code",
   "execution_count": 10,
   "metadata": {
    "ExecuteTime": {
     "end_time": "2021-01-28T06:04:17.944711Z",
     "start_time": "2021-01-28T06:04:17.935711Z"
    }
   },
   "outputs": [
    {
     "data": {
      "text/plain": [
       "tensor([[[[0.0483, 0.0089, 0.1331, 0.6917, 0.6769, 0.6697, 0.8447, 0.3755],\n",
       "          [0.8590, 0.8603, 0.4501, 0.2985, 0.1672, 0.3546, 0.5934, 0.8774],\n",
       "          [0.4305, 0.4923, 0.3342, 0.0089, 0.1055, 0.9070, 0.3980, 0.2577],\n",
       "          [0.6183, 0.0642, 0.7426, 0.5170, 0.1712, 0.3465, 0.7302, 0.6496],\n",
       "          [0.3893, 0.5717, 0.5528, 0.9065, 0.4775, 0.2204, 0.4434, 0.9947],\n",
       "          [0.0070, 0.1323, 0.2505, 0.0206, 0.0935, 0.7343, 0.4895, 0.1292],\n",
       "          [0.5394, 0.0996, 0.6662, 0.9302, 0.4609, 0.6591, 0.8055, 0.1134],\n",
       "          [0.0016, 0.4507, 0.5637, 0.8105, 0.9158, 0.0513, 0.5912, 0.7819]]]])"
      ]
     },
     "execution_count": 10,
     "metadata": {},
     "output_type": "execute_result"
    }
   ],
   "source": [
    "x.view((1,1)+x.shape)"
   ]
  },
  {
   "cell_type": "code",
   "execution_count": 11,
   "metadata": {
    "ExecuteTime": {
     "end_time": "2021-01-28T06:04:34.768674Z",
     "start_time": "2021-01-28T06:04:34.756673Z"
    }
   },
   "outputs": [
    {
     "data": {
      "text/plain": [
       "(1, 1, 8, 8)"
      ]
     },
     "execution_count": 11,
     "metadata": {},
     "output_type": "execute_result"
    }
   ],
   "source": [
    "(1,1)+x.shape"
   ]
  },
  {
   "cell_type": "code",
   "execution_count": 12,
   "metadata": {
    "ExecuteTime": {
     "end_time": "2021-01-28T06:04:52.542690Z",
     "start_time": "2021-01-28T06:04:52.532690Z"
    }
   },
   "outputs": [
    {
     "data": {
      "text/plain": [
       "torch.Size([8, 8])"
      ]
     },
     "execution_count": 12,
     "metadata": {},
     "output_type": "execute_result"
    }
   ],
   "source": [
    "x.shape"
   ]
  },
  {
   "cell_type": "code",
   "execution_count": 14,
   "metadata": {
    "ExecuteTime": {
     "end_time": "2021-01-28T06:06:28.857199Z",
     "start_time": "2021-01-28T06:06:28.821197Z"
    }
   },
   "outputs": [
    {
     "data": {
      "text/plain": [
       "torch.Size([1, 1, 8, 8])"
      ]
     },
     "execution_count": 14,
     "metadata": {},
     "output_type": "execute_result"
    }
   ],
   "source": [
    "conv2d1(x.view((1,1)+x.shape)).shape"
   ]
  },
  {
   "cell_type": "code",
   "execution_count": null,
   "metadata": {
    "collapsed": true
   },
   "outputs": [],
   "source": []
  }
 ],
 "metadata": {
  "kernelspec": {
   "display_name": "Python 3",
   "language": "python",
   "name": "python3"
  },
  "language_info": {
   "codemirror_mode": {
    "name": "ipython",
    "version": 3
   },
   "file_extension": ".py",
   "mimetype": "text/x-python",
   "name": "python",
   "nbconvert_exporter": "python",
   "pygments_lexer": "ipython3",
   "version": "3.6.3"
  }
 },
 "nbformat": 4,
 "nbformat_minor": 2
}
