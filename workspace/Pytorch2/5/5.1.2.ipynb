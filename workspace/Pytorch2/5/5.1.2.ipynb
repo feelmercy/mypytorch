{
 "cells": [
  {
   "cell_type": "code",
   "execution_count": 1,
   "metadata": {
    "ExecuteTime": {
     "end_time": "2021-01-27T07:04:28.070401Z",
     "start_time": "2021-01-27T07:04:28.065401Z"
    },
    "collapsed": true
   },
   "outputs": [],
   "source": [
    "import torch\n",
    "import torch.nn as nn"
   ]
  },
  {
   "cell_type": "code",
   "execution_count": 43,
   "metadata": {
    "ExecuteTime": {
     "end_time": "2021-01-27T08:32:59.832217Z",
     "start_time": "2021-01-27T08:32:59.808215Z"
    },
    "collapsed": true
   },
   "outputs": [],
   "source": [
    "def conv2d(x,k):\n",
    "    h,w=k.shape\n",
    "    y=torch.zeros((x.shape[0]-h+1,x.shape[1]-w+1))\n",
    "    for i in range(y.shape[0]):\n",
    "        for j in range(y.shape[1]):\n",
    "            y[i,j]=(x[i:i+h,j:j+w].float() * k.float()).sum()\n",
    "    return y"
   ]
  },
  {
   "cell_type": "code",
   "execution_count": 44,
   "metadata": {
    "ExecuteTime": {
     "end_time": "2021-01-27T08:33:00.353247Z",
     "start_time": "2021-01-27T08:33:00.334245Z"
    },
    "collapsed": true
   },
   "outputs": [],
   "source": [
    "class Conv2D(nn.Module):\n",
    "    def __init__(self,kernel_size):\n",
    "        super().__init__()\n",
    "        self.weight=nn.Parameter(torch.randn(kernel_size))\n",
    "        self.bias=nn.Parameter(torch.randn(1))\n",
    "    \n",
    "    def forward(self,x):\n",
    "        return conv2d(x,self.weight)+self.bias"
   ]
  },
  {
   "cell_type": "code",
   "execution_count": 45,
   "metadata": {
    "ExecuteTime": {
     "end_time": "2021-01-27T08:33:00.896278Z",
     "start_time": "2021-01-27T08:33:00.883277Z"
    }
   },
   "outputs": [
    {
     "data": {
      "text/plain": [
       "tensor([[1., 1., 0., 0., 0., 0., 1., 1.],\n",
       "        [1., 1., 0., 0., 0., 0., 1., 1.],\n",
       "        [1., 1., 0., 0., 0., 0., 1., 1.],\n",
       "        [1., 1., 0., 0., 0., 0., 1., 1.],\n",
       "        [1., 1., 0., 0., 0., 0., 1., 1.],\n",
       "        [1., 1., 0., 0., 0., 0., 1., 1.]])"
      ]
     },
     "execution_count": 45,
     "metadata": {},
     "output_type": "execute_result"
    }
   ],
   "source": [
    "x=torch.ones(6,8)\n",
    "x[:,2:6]=0\n",
    "x"
   ]
  },
  {
   "cell_type": "code",
   "execution_count": 59,
   "metadata": {
    "ExecuteTime": {
     "end_time": "2021-01-28T02:50:53.031948Z",
     "start_time": "2021-01-28T02:50:53.019948Z"
    }
   },
   "outputs": [
    {
     "data": {
      "text/plain": [
       "tensor([[ 1, -1]])"
      ]
     },
     "execution_count": 59,
     "metadata": {},
     "output_type": "execute_result"
    }
   ],
   "source": [
    "k"
   ]
  },
  {
   "cell_type": "code",
   "execution_count": 46,
   "metadata": {
    "ExecuteTime": {
     "end_time": "2021-01-27T08:33:01.392306Z",
     "start_time": "2021-01-27T08:33:01.379305Z"
    }
   },
   "outputs": [
    {
     "data": {
      "text/plain": [
       "tensor([[ 0.,  1.,  0.,  0.,  0., -1.,  0.],\n",
       "        [ 0.,  1.,  0.,  0.,  0., -1.,  0.],\n",
       "        [ 0.,  1.,  0.,  0.,  0., -1.,  0.],\n",
       "        [ 0.,  1.,  0.,  0.,  0., -1.,  0.],\n",
       "        [ 0.,  1.,  0.,  0.,  0., -1.,  0.],\n",
       "        [ 0.,  1.,  0.,  0.,  0., -1.,  0.]])"
      ]
     },
     "execution_count": 46,
     "metadata": {},
     "output_type": "execute_result"
    }
   ],
   "source": [
    "y=conv2d(x,k)\n",
    "y"
   ]
  },
  {
   "cell_type": "code",
   "execution_count": 56,
   "metadata": {
    "ExecuteTime": {
     "end_time": "2021-01-28T02:41:19.007116Z",
     "start_time": "2021-01-28T02:41:18.824105Z"
    }
   },
   "outputs": [
    {
     "name": "stdout",
     "output_type": "stream",
     "text": [
      "step 5 ,loss 20.296 \n",
      "step 10 ,loss 5.538 \n",
      "step 15 ,loss 1.529 \n",
      "step 20 ,loss 0.425 \n",
      "step 25 ,loss 0.118 \n",
      "step 30 ,loss 0.033 \n",
      "step 35 ,loss 0.009 \n",
      "step 40 ,loss 0.003 \n",
      "step 45 ,loss 0.001 \n",
      "step 50 ,loss 0.000 \n"
     ]
    }
   ],
   "source": [
    "conv2d1=Conv2D(kernel_size=(1,2))\n",
    "step=50\n",
    "lr=0.01\n",
    "for i in range(step):\n",
    "    y_hat=conv2d1(x)\n",
    "    l=((y_hat-y)**2).sum()\n",
    "    l.backward()\n",
    "    \n",
    "    conv2d1.weight.data -=lr * conv2d1.weight.grad\n",
    "    conv2d1.bias.data -=lr * conv2d1.bias.grad\n",
    "    \n",
    "    conv2d1.weight.grad.fill_(0)\n",
    "    conv2d1.bias.grad.fill_(0)\n",
    "    \n",
    "    if (i+1) % 5==0:\n",
    "        print('step %d ,loss %.3f ' % (i+1,l.item()))\n",
    "    "
   ]
  },
  {
   "cell_type": "code",
   "execution_count": 53,
   "metadata": {
    "ExecuteTime": {
     "end_time": "2021-01-27T09:21:16.452894Z",
     "start_time": "2021-01-27T09:21:16.441893Z"
    }
   },
   "outputs": [
    {
     "data": {
      "text/plain": [
       "tensor([[ 0.9255, -0.9331]])"
      ]
     },
     "execution_count": 53,
     "metadata": {},
     "output_type": "execute_result"
    }
   ],
   "source": [
    "conv2d1.weight.data"
   ]
  },
  {
   "cell_type": "code",
   "execution_count": 54,
   "metadata": {
    "ExecuteTime": {
     "end_time": "2021-01-27T09:21:34.246912Z",
     "start_time": "2021-01-27T09:21:34.235911Z"
    }
   },
   "outputs": [
    {
     "data": {
      "text/plain": [
       "tensor([0.0042])"
      ]
     },
     "execution_count": 54,
     "metadata": {},
     "output_type": "execute_result"
    }
   ],
   "source": [
    "conv2d1.bias.data"
   ]
  },
  {
   "cell_type": "code",
   "execution_count": 58,
   "metadata": {
    "ExecuteTime": {
     "end_time": "2021-01-28T02:50:08.746415Z",
     "start_time": "2021-01-28T02:50:08.739415Z"
    }
   },
   "outputs": [
    {
     "data": {
      "text/plain": [
       "tensor(24.)"
      ]
     },
     "execution_count": 58,
     "metadata": {},
     "output_type": "execute_result"
    }
   ],
   "source": [
    "x.sum()"
   ]
  },
  {
   "cell_type": "code",
   "execution_count": null,
   "metadata": {
    "collapsed": true
   },
   "outputs": [],
   "source": [
    "nn.Conv2d()"
   ]
  }
 ],
 "metadata": {
  "kernelspec": {
   "display_name": "Python 3",
   "language": "python",
   "name": "python3"
  },
  "language_info": {
   "codemirror_mode": {
    "name": "ipython",
    "version": 3
   },
   "file_extension": ".py",
   "mimetype": "text/x-python",
   "name": "python",
   "nbconvert_exporter": "python",
   "pygments_lexer": "ipython3",
   "version": "3.6.3"
  }
 },
 "nbformat": 4,
 "nbformat_minor": 2
}
