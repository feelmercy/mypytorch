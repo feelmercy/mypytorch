{
 "cells": [
  {
   "cell_type": "code",
   "execution_count": 1,
   "metadata": {
    "ExecuteTime": {
     "end_time": "2021-03-11T03:22:52.618277Z",
     "start_time": "2021-03-11T03:22:52.614277Z"
    },
    "collapsed": true
   },
   "outputs": [],
   "source": [
    "import time\n",
    "import torch\n",
    "from torch import nn,optim\n",
    "import sys"
   ]
  },
  {
   "cell_type": "code",
   "execution_count": 2,
   "metadata": {
    "ExecuteTime": {
     "end_time": "2021-03-11T03:23:20.263858Z",
     "start_time": "2021-03-11T03:23:20.032845Z"
    }
   },
   "outputs": [
    {
     "name": "stdout",
     "output_type": "stream",
     "text": [
      "loading customized package : d2l \n"
     ]
    }
   ],
   "source": [
    "sys.path.append('F:\\study\\ml\\python_packages')\n",
    "import d2l"
   ]
  },
  {
   "cell_type": "code",
   "execution_count": 6,
   "metadata": {
    "ExecuteTime": {
     "end_time": "2021-03-11T03:25:00.321581Z",
     "start_time": "2021-03-11T03:25:00.317581Z"
    }
   },
   "outputs": [],
   "source": [
    "def conv_block(in_channels,out_channels):,\n",
    "    blk=nn.Sequential(nn.BatchNorm2d(in_channels),\n",
    "                      nn.ReLU(),\n",
    "                      nn.Conv2d(in_channels,out_channels,kernel_size=3,padding=1)\n",
    "                     )\n",
    "    return blk"
   ]
  },
  {
   "cell_type": "code",
   "execution_count": 11,
   "metadata": {
    "ExecuteTime": {
     "end_time": "2021-03-11T06:57:23.829468Z",
     "start_time": "2021-03-11T06:57:23.797466Z"
    },
    "collapsed": true
   },
   "outputs": [],
   "source": [
    "class DenseBlock(nn.Module):\n",
    "    def __init__(self,num_convs,in_channels,out_channels):\n",
    "        super().__init__()\n",
    "        net=[]\n",
    "        for i in range(num_convs):\n",
    "            in_c=in_channels + i* out_channels\n",
    "            net.append(conv_block(in_c,out_channels))\n",
    "        self.net=nn.ModuleList(net)\n",
    "        self.out_channels=in_channels+num_convs* out_channels\n",
    "    \n",
    "    def forward(self,X):\n",
    "        for blk in self.net:\n",
    "            Y=blk(X)\n",
    "            X=torch.cat((X,Y),dim=1)\n",
    "        return X"
   ]
  },
  {
   "cell_type": "markdown",
   "metadata": {},
   "source": [
    "i=0,conv_block(3,10)\n",
    "i=1,conv_block(13,10)\n",
    "net=(conv_block(3,10),conv_block(13,10)\n",
    "out_channels=23\n",
    "- \n",
    "- x=4,3,8,8 \n",
    "- blk1 y1=4,10,8,8 \n",
    "\tx1=4,3,8,8,  4,10,8,8\n",
    "\tx1_cat=4,13,8,8\n",
    "- blk2 y2=blk(x1_cat)=4,10,8,8\n",
    "\tx2=4,13,8,8\n",
    "\tx2_cat=4,23,8,8"
   ]
  },
  {
   "cell_type": "code",
   "execution_count": 12,
   "metadata": {
    "ExecuteTime": {
     "end_time": "2021-03-11T06:57:24.238491Z",
     "start_time": "2021-03-11T06:57:24.166487Z"
    },
    "scrolled": true
   },
   "outputs": [
    {
     "data": {
      "text/plain": [
       "torch.Size([4, 23, 8, 8])"
      ]
     },
     "execution_count": 12,
     "metadata": {},
     "output_type": "execute_result"
    }
   ],
   "source": [
    "blk=DenseBlock(2,3,10)\n",
    "X=torch.rand(4,3,8,8)\n",
    "Y=blk(X)\n",
    "Y.shape"
   ]
  },
  {
   "cell_type": "code",
   "execution_count": 14,
   "metadata": {
    "ExecuteTime": {
     "end_time": "2021-03-11T08:50:34.300861Z",
     "start_time": "2021-03-11T08:50:34.286860Z"
    },
    "collapsed": true
   },
   "outputs": [],
   "source": [
    "def transition_block(in_channels,out_channels):\n",
    "    blk=nn.Sequential(\n",
    "        nn.BatchNorm2d(in_channels),\n",
    "        nn.ReLU(),\n",
    "        nn.Conv2d(in_channels,out_channels,kernel_size=1),\n",
    "        nn.AvgPool2d(kernel_size=2,stride=2)\n",
    "    )\n",
    "    return blk"
   ]
  },
  {
   "cell_type": "code",
   "execution_count": 15,
   "metadata": {
    "ExecuteTime": {
     "end_time": "2021-03-11T08:50:35.550932Z",
     "start_time": "2021-03-11T08:50:35.530931Z"
    }
   },
   "outputs": [
    {
     "data": {
      "text/plain": [
       "torch.Size([4, 10, 4, 4])"
      ]
     },
     "execution_count": 15,
     "metadata": {},
     "output_type": "execute_result"
    }
   ],
   "source": [
    "blk=transition_block(23,10)\n",
    "blk(Y).shape"
   ]
  },
  {
   "cell_type": "code",
   "execution_count": 16,
   "metadata": {
    "ExecuteTime": {
     "end_time": "2021-03-11T08:58:54.385464Z",
     "start_time": "2021-03-11T08:58:54.371463Z"
    },
    "collapsed": true
   },
   "outputs": [],
   "source": [
    "net=nn.Sequential(nn.Conv2d(1,64,kernel_size=7,stride=2,padding=3),\n",
    "                  nn.BatchNorm2d(64),\n",
    "                  nn.ReLU(),\n",
    "                  nn.MaxPool2d(kernel_size=3,stride=2,padding=1)\n",
    "                 )"
   ]
  },
  {
   "cell_type": "code",
   "execution_count": 19,
   "metadata": {
    "ExecuteTime": {
     "end_time": "2021-03-11T09:05:20.542551Z",
     "start_time": "2021-03-11T09:05:20.494548Z"
    },
    "collapsed": true
   },
   "outputs": [],
   "source": [
    "num_channels,growth_rate=64,32\n",
    "num_covs_in_dense_blocks=[4,4,4,4]\n",
    "for i,num_convs in enumerate(num_covs_in_dense_blocks):\n",
    "    DB=DenseBlock(num_convs,num_channels,growth_rate)\n",
    "    net.add_module('DenseBlock_%d' % i,DB)\n",
    "    num_channels=DB.out_channels\n",
    "    if i != len(num_covs_in_dense_blocks) -1:\n",
    "        net.add_module('transition_block_%d ' % i ,\n",
    "                       transition_block(num_channels,num_channels//2))\n",
    "        num_channels = num_channels//2"
   ]
  },
  {
   "cell_type": "code",
   "execution_count": 20,
   "metadata": {
    "ExecuteTime": {
     "end_time": "2021-03-11T09:07:58.524587Z",
     "start_time": "2021-03-11T09:07:58.508586Z"
    },
    "collapsed": true
   },
   "outputs": [],
   "source": [
    "net.add_module('BN',nn.BatchNorm2d(num_channels))\n",
    "net.add_module('relu',nn.ReLU())\n",
    "net.add_module('global_avg_pool',d2l.GlobalAvgPool2d())\n",
    "net.add_module('fc',nn.Sequential(d2l.FlattenLayer(),nn.Linear(num_channels,10)))"
   ]
  },
  {
   "cell_type": "markdown",
   "metadata": {
    "ExecuteTime": {
     "end_time": "2021-03-11T09:31:19.799735Z",
     "start_time": "2021-03-11T09:31:19.766733Z"
    }
   },
   "source": [
    "- 只计算到 DenseBlock_0 output shape:\n",
    "    1,64,(96-7+3*2+2)/2=48,48\n",
    "-1,64,(48-3+1*2+2)/2=24\n",
    "\n",
    "- DenseBlock(4,64,32)\n",
    "- 0 层\n",
    "- 1,64,24,24\n",
    "- X=torch.rand((1,1,96,96))\n",
    "- conv_block(64,32),(96,32),(128,32),(160,32)\n",
    "- 1,32,24,24  1,64,24,24 = 1,96,24,24\n",
    "- 1,32,24,24  1,96,24,24 = 1,128,24,24\n",
    "- 1,32,24,24  1,192,24,24 = 1,160,24,24\n",
    "- 1,32,24,24  1,160,24,24=1,192,24,24\n",
    "- transition_block_0通道数通过 num_channels//2 减半\n",
    "- 宽,高通过 stride=2 减半\n",
    "    "
   ]
  },
  {
   "cell_type": "code",
   "execution_count": 22,
   "metadata": {
    "ExecuteTime": {
     "end_time": "2021-03-11T09:10:04.549795Z",
     "start_time": "2021-03-11T09:10:04.460790Z"
    }
   },
   "outputs": [
    {
     "name": "stdout",
     "output_type": "stream",
     "text": [
      "0 output shape:\t torch.Size([1, 64, 48, 48])\n",
      "1 output shape:\t torch.Size([1, 64, 48, 48])\n",
      "2 output shape:\t torch.Size([1, 64, 48, 48])\n",
      "3 output shape:\t torch.Size([1, 64, 24, 24])\n",
      "DenseBlock_0 output shape:\t torch.Size([1, 192, 24, 24])\n",
      "transition_block_0  output shape:\t torch.Size([1, 96, 12, 12])\n",
      "DenseBlock_1 output shape:\t torch.Size([1, 224, 12, 12])\n",
      "transition_block_1  output shape:\t torch.Size([1, 112, 6, 6])\n",
      "DenseBlock_2 output shape:\t torch.Size([1, 240, 6, 6])\n",
      "transition_block_2  output shape:\t torch.Size([1, 120, 3, 3])\n",
      "DenseBlock_3 output shape:\t torch.Size([1, 248, 3, 3])\n",
      "BN output shape:\t torch.Size([1, 248, 3, 3])\n",
      "relu output shape:\t torch.Size([1, 248, 3, 3])\n",
      "global_avg_pool output shape:\t torch.Size([1, 248, 1, 1])\n",
      "fc output shape:\t torch.Size([1, 10])\n"
     ]
    }
   ],
   "source": [
    "X=torch.rand((1,1,96,96))\n",
    "for name,layer in net.named_children():\n",
    "    X=layer(X)  \n",
    "    print(name,'output shape:\\t',X.shape)"
   ]
  },
  {
   "cell_type": "code",
   "execution_count": null,
   "metadata": {
    "collapsed": true
   },
   "outputs": [],
   "source": []
  }
 ],
 "metadata": {
  "kernelspec": {
   "display_name": "Python 3",
   "language": "python",
   "name": "python3"
  },
  "language_info": {
   "codemirror_mode": {
    "name": "ipython",
    "version": 3
   },
   "file_extension": ".py",
   "mimetype": "text/x-python",
   "name": "python",
   "nbconvert_exporter": "python",
   "pygments_lexer": "ipython3",
   "version": "3.6.3"
  }
 },
 "nbformat": 4,
 "nbformat_minor": 2
}
