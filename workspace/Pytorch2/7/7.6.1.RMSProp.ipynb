{
 "cells": [
  {
   "cell_type": "code",
   "execution_count": 1,
   "metadata": {
    "ExecuteTime": {
     "end_time": "2021-04-30T06:48:52.386862Z",
     "start_time": "2021-04-30T06:48:41.460638Z"
    },
    "collapsed": true
   },
   "outputs": [],
   "source": [
    "import math\n",
    "import torch\n",
    "import torchvision\n",
    "import time\n",
    "import numpy as np\n",
    "import matplotlib.pyplot as plt\n",
    "from torch import nn,optim\n",
    "%matplotlib inline"
   ]
  },
  {
   "cell_type": "code",
   "execution_count": 2,
   "metadata": {
    "ExecuteTime": {
     "end_time": "2021-04-30T06:52:16.624978Z",
     "start_time": "2021-04-30T06:52:16.589976Z"
    },
    "collapsed": true
   },
   "outputs": [],
   "source": [
    "def rmsprop_2d(x1,x2,s1,s2):\n",
    "    g1,g2,eps=0.2*x1,4*x2,1e-6\n",
    "    s1=gamma * s1 + (1-gamma)* g1 **2\n",
    "    s2=gamma * s2 + (1-gamma) * g2 **2\n",
    "    x1 -=eta / math.sqrt(s1+eps) * g1\n",
    "    x2 -=eta/math.sqrt(s2+eps) * g2\n",
    "    return x1,x2,s1,s2\n",
    "    \n",
    "def f_2d(x1,x2):\n",
    "    return 0.1*x1**2+2*x2**2\n",
    "    "
   ]
  },
  {
   "cell_type": "code",
   "execution_count": 20,
   "metadata": {
    "ExecuteTime": {
     "end_time": "2021-04-30T07:18:01.369333Z",
     "start_time": "2021-04-30T07:18:01.334331Z"
    },
    "collapsed": true
   },
   "outputs": [],
   "source": [
    "def train_2d(trainer):\n",
    "    x1,x2,s1,s2=-5,-2,0,0\n",
    "    result=[(x1,x2)]\n",
    "    for i in range(20):\n",
    "        x1,x2,s1,s2=trainer(x1,x2,s1,s2)\n",
    "#         trainer(x1,x2,s1,s2)\n",
    "        result.append((x1,x2))\n",
    "    return result\n",
    "\n",
    "def show_trace_2d(f,result):\n",
    "    plt.plot(*zip(*result),'ro-')\n",
    "    x1,x2=np.meshgrid(np.arange(-5.5,1.0,0.1),np.arange(-3.0,1.0,0.1))\n",
    "    plt.contour(x1,x2,f(x1,x2))\n",
    "    plt.xlabel('x1')\n",
    "    plt.ylabel('y2')\n",
    "    "
   ]
  },
  {
   "cell_type": "code",
   "execution_count": 21,
   "metadata": {
    "ExecuteTime": {
     "end_time": "2021-04-30T07:18:01.726353Z",
     "start_time": "2021-04-30T07:18:01.604346Z"
    }
   },
   "outputs": [
    {
     "data": {
      "image/png": "[encoded data removed]",
      "text/plain": [
       "<matplotlib.figure.Figure at 0x11a8c3c8>"
      ]
     },
     "metadata": {},
     "output_type": "display_data"
    }
   ],
   "source": [
    "eta,gamma=0.4,0.9\n",
    "show_trace_2d(f_2d,train_2d(rmsprop_2d))"
   ]
  },
  {
   "cell_type": "code",
   "execution_count": 10,
   "metadata": {
    "ExecuteTime": {
     "end_time": "2021-04-30T07:03:13.744563Z",
     "start_time": "2021-04-30T07:03:13.726562Z"
    },
    "collapsed": true
   },
   "outputs": [],
   "source": [
    "def get_data_ch7():\n",
    "    data=np.genfromtxt(r'F:\\study\\ml\\DataSet\\airfoil_self_noise\\airfoil_self_noise.dat',\n",
    "                      delimiter='\\t')\n",
    "    data=(data-data.mean(axis=0)) / data.std(axis=0)\n",
    "    features=torch.tensor(data[:1500,:-1],dtype=torch.float32)\n",
    "    labels=torch.tensor(data[:1500,-1],dtype=torch.float32)\n",
    "    return features,labels"
   ]
  },
  {
   "cell_type": "code",
   "execution_count": 11,
   "metadata": {
    "ExecuteTime": {
     "end_time": "2021-04-30T07:03:27.597356Z",
     "start_time": "2021-04-30T07:03:27.358342Z"
    }
   },
   "outputs": [
    {
     "data": {
      "text/plain": [
       "torch.Size([1500, 5])"
      ]
     },
     "execution_count": 11,
     "metadata": {},
     "output_type": "execute_result"
    }
   ],
   "source": [
    "features,labels=get_data_ch7()\n",
    "features.shape"
   ]
  },
  {
   "cell_type": "code",
   "execution_count": 28,
   "metadata": {
    "ExecuteTime": {
     "end_time": "2021-04-30T07:43:48.340814Z",
     "start_time": "2021-04-30T07:43:48.328814Z"
    },
    "collapsed": true
   },
   "outputs": [],
   "source": [
    "def linreg(x,w,b):\n",
    "    return torch.mm(x,w)+b\n",
    "def squared_loss(y_hat,y):\n",
    "    return (y_hat-y.view(y_hat.shape))**2"
   ]
  },
  {
   "cell_type": "code",
   "execution_count": 55,
   "metadata": {
    "ExecuteTime": {
     "end_time": "2021-04-30T08:04:23.735475Z",
     "start_time": "2021-04-30T08:04:23.704473Z"
    }
   },
   "outputs": [],
   "source": [
    "def init_rmsprop_states():\n",
    "    s_w = torch.zeros((features.shape[1], 1), dtype=torch.float32)\n",
    "    s_b = torch.zeros(1, dtype=torch.float32)\n",
    "    return (s_w, s_b)\n",
    "\n",
    "\n",
    "def rmsprop(params, states, hyperparams):\n",
    "    eps = 1e-6\n",
    "    for p, s in zip(params, states):\n",
    "        s.data += hyperparams['gamma'] * s.data + (1 - hyperparams['gamma']) * (\n",
    "            p.grad.data)**2\n",
    "        p.data -= hyperparams['lr'] / torch.sqrt(s.data + eps) * p.grad.data"
   ]
  },
  {
   "cell_type": "code",
   "execution_count": 56,
   "metadata": {
    "ExecuteTime": {
     "end_time": "2021-04-30T08:04:24.382512Z",
     "start_time": "2021-04-30T08:04:24.303507Z"
    }
   },
   "outputs": [],
   "source": [
    "def train_ch7(optimizer_fun,\n",
    "              states,\n",
    "              hyperparams,\n",
    "              features,\n",
    "              labels,\n",
    "              batch_size=10,\n",
    "              num_epochs=2):\n",
    "\n",
    "    net, loss = linreg, squared_loss\n",
    "    w = nn.Parameter(\n",
    "        torch.tensor(np.random.normal(0, 0.01, size=(features.shape[1], 1)),\n",
    "                     dtype=torch.float32,\n",
    "                     requires_grad=True))\n",
    "    b = nn.Parameter(\n",
    "        torch.tensor(np.zeros(1), dtype=torch.float32, requires_grad=True))\n",
    "    \n",
    "    def eval_loss():\n",
    "        return loss(net(features,w,b),labels).mean().item() /2\n",
    "    \n",
    "    ls=[eval_loss()]\n",
    "    \n",
    "    data_iter=torch.utils.data.DataLoader(\n",
    "    torch.utils.data.TensorDataset(features,labels),batch_size=batch_size,\n",
    "    shuffle=True)\n",
    "    \n",
    "    for _ in range(num_epochs):\n",
    "        start=time.time()\n",
    "        for batch_i,(X,y) in enumerate(data_iter):\n",
    "            l=loss(net(X,w,b),y).mean() /2\n",
    "            if w.grad is not None:\n",
    "                w.grad.data.zero_()\n",
    "                b.grad.data.zero_()\n",
    "            l.backward()\n",
    "            optimizer_fun([w,b],states,hyperparams)\n",
    "            if (batch_i+1) * batch_size % 100  ==0:\n",
    "                ls.append(eval_loss())\n",
    "    print('loss : %f, %f sec per epoch' % (ls[-1],time.time()-start))\n",
    "    plt.plot(np.linspace(0,num_epochs,len(ls)),ls)\n",
    "    plt.xlabel('epochs')\n",
    "    plt.ylabel('loss')"
   ]
  },
  {
   "cell_type": "code",
   "execution_count": 72,
   "metadata": {
    "ExecuteTime": {
     "end_time": "2021-04-30T08:33:50.325518Z",
     "start_time": "2021-04-30T08:33:49.434467Z"
    }
   },
   "outputs": [
    {
     "name": "stdout",
     "output_type": "stream",
     "text": [
      "loss : 0.436197, 0.067004 sec per epoch\n"
     ]
    },
    {
     "data": {
      "image/png": "[encoded data removed]",
      "text/plain": [
       "<matplotlib.figure.Figure at 0x13a9ef98>"
      ]
     },
     "metadata": {},
     "output_type": "display_data"
    }
   ],
   "source": [
    "train_ch7(rmsprop,\n",
    "          init_rmsprop_states(), {\n",
    "              'lr': 0.01,\n",
    "              'gamma': 0.9\n",
    "          },\n",
    "          features,\n",
    "          labels,\n",
    "          batch_size=10,\n",
    "          num_epochs=10)"
   ]
  },
  {
   "cell_type": "code",
   "execution_count": 73,
   "metadata": {
    "ExecuteTime": {
     "end_time": "2021-04-30T08:33:50.367521Z",
     "start_time": "2021-04-30T08:33:50.326518Z"
    }
   },
   "outputs": [],
   "source": [
    "def train_pytorch_ch7(optimizer_fn,\n",
    "                      hyperparams,\n",
    "                      features,\n",
    "                      labels,\n",
    "                      batch_size=10,\n",
    "                      num_epochs=2):\n",
    "    net = nn.Sequential(nn.Linear(features.shape[1], 1))\n",
    "    loss = nn.MSELoss()\n",
    "    \n",
    "#     print(features.shape)\n",
    "#     print('eval shape : ',net(features).view(-1).shape)\n",
    "    def eval_loss():\n",
    "        return loss(net(features).view(-1), labels).item() / 2\n",
    "\n",
    "    ls = [eval_loss()]\n",
    "\n",
    "    data_iter = torch.utils.data.DataLoader(torch.utils.data.TensorDataset(\n",
    "        features, labels),\n",
    "                                            batch_size=batch_size,\n",
    "                                            shuffle=True)\n",
    "    optimizer=optimizer_fn(net.parameters(),**hyperparams)\n",
    "    \n",
    "    for _ in range(num_epochs):\n",
    "        start=time.time()\n",
    "        for batch_i ,(X,y) in enumerate(data_iter):\n",
    "            l=loss(net(X).view(-1),y) /2\n",
    "            optimizer.zero_grad()\n",
    "            l.backward()\n",
    "            optimizer.step()\n",
    "            if (batch_i+1) * batch_size % 100  ==0:\n",
    "                ls.append(eval_loss())\n",
    "    print('loss : %f, %f sec per epoch' % (ls[-1],time.time()-start))\n",
    "    plt.plot(np.linspace(0,num_epochs,len(ls)),ls)\n",
    "    plt.xlabel('epochs')\n",
    "    plt.ylabel('loss')\n",
    "            \n",
    "            \n",
    "            "
   ]
  },
  {
   "cell_type": "code",
   "execution_count": 70,
   "metadata": {
    "ExecuteTime": {
     "end_time": "2021-04-30T08:33:17.872662Z",
     "start_time": "2021-04-30T08:33:17.640649Z"
    }
   },
   "outputs": [
    {
     "name": "stdout",
     "output_type": "stream",
     "text": [
      "loss : 0.246998, 0.052003 sec per epoch\n"
     ]
    },
    {
     "data": {
      "image/png": "[encoded data removed]",
      "text/plain": [
       "<matplotlib.figure.Figure at 0x11983390>"
      ]
     },
     "metadata": {},
     "output_type": "display_data"
    }
   ],
   "source": [
    "train_pytorch_ch7(torch.optim.RMSprop, {\n",
    "              'lr': 0.01,\n",
    "              'alpha': 0.9\n",
    "          },\n",
    "          features,\n",
    "          labels)"
   ]
  },
  {
   "cell_type": "code",
   "execution_count": null,
   "metadata": {
    "collapsed": true
   },
   "outputs": [],
   "source": []
  }
 ],
 "metadata": {
  "kernelspec": {
   "display_name": "Python 3",
   "language": "python",
   "name": "python3"
  },
  "language_info": {
   "codemirror_mode": {
    "name": "ipython",
    "version": 3
   },
   "file_extension": ".py",
   "mimetype": "text/x-python",
   "name": "python",
   "nbconvert_exporter": "python",
   "pygments_lexer": "ipython3",
   "version": "3.6.3"
  }
 },
 "nbformat": 4,
 "nbformat_minor": 2
}
