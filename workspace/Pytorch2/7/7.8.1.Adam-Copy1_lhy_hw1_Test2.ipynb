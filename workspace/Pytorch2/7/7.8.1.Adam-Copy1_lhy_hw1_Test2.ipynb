{
 "cells": [
  {
   "cell_type": "code",
   "execution_count": 10,
   "metadata": {
    "ExecuteTime": {
     "end_time": "2021-05-08T01:36:59.256077Z",
     "start_time": "2021-05-08T01:36:58.831053Z"
    },
    "collapsed": true
   },
   "outputs": [],
   "source": [
    "import torch\n",
    "import numpy as np\n",
    "from torch import nn,optim\n",
    "import time\n",
    "import matplotlib.pyplot as plt\n",
    "import torchvision\n",
    "%matplotlib inline"
   ]
  },
  {
   "cell_type": "code",
   "execution_count": 40,
   "metadata": {
    "ExecuteTime": {
     "end_time": "2021-05-08T02:21:30.802864Z",
     "start_time": "2021-05-08T02:21:30.781863Z"
    },
    "collapsed": true
   },
   "outputs": [],
   "source": [
    "def get_data_ch7():\n",
    "    data=np.genfromtxt(r'F:\\study\\ml\\DataSet\\airfoil_self_noise\\airfoil_self_noise.dat',\n",
    "                      delimiter='\\t')\n",
    "    data=(data-data.mean(axis=0)) / data.std(axis=0)\n",
    "    features=torch.tensor(data[:1500,:-1],dtype=torch.float32)\n",
    "    labels=torch.tensor(data[:1500,-1],dtype=torch.float32)\n",
    "    return features,labels"
   ]
  },
  {
   "cell_type": "code",
   "execution_count": 41,
   "metadata": {
    "ExecuteTime": {
     "end_time": "2021-05-08T02:21:31.440900Z",
     "start_time": "2021-05-08T02:21:31.406898Z"
    }
   },
   "outputs": [
    {
     "data": {
      "text/plain": [
       "torch.Size([1500, 5])"
      ]
     },
     "execution_count": 41,
     "metadata": {},
     "output_type": "execute_result"
    }
   ],
   "source": [
    "features,labels=get_data_ch7()\n",
    "features.shape"
   ]
  },
  {
   "cell_type": "code",
   "execution_count": 42,
   "metadata": {
    "ExecuteTime": {
     "end_time": "2021-05-08T02:21:33.523020Z",
     "start_time": "2021-05-08T02:21:33.478017Z"
    },
    "collapsed": true
   },
   "outputs": [],
   "source": [
    "def init_adam_states():\n",
    "    s_w=torch.zeros((features.shape[1],1),dtype=torch.float32)\n",
    "    s_b=torch.zeros((1),dtype=torch.float32)\n",
    "    v_w=torch.zeros((features.shape[1],1),dtype=torch.float32)\n",
    "    v_b=torch.zeros((1),dtype=torch.float32)\n",
    "    return ((v_w,s_w),(v_b,s_b))\n",
    "    \n",
    "\n",
    "def adad_sge(params,states,hyperparams):\n",
    "    beta1,beta2,t=0.9,0.999,hyperparams['t']\n",
    "    eps=1e-6\n",
    "    for p,(v,s) in zip(params,states):\n",
    "        v=beta1*v+(1-beta1)*p.grad.data\n",
    "        s=beta2*s+(1-beta2)*p.grad.data**2\n",
    "        v_hat=v/(1-beta1**t)\n",
    "        s_hat=s/(1-beta2**t)\n",
    "        g_hat=hyperparams['lr']*v_hat /(torch.sqrt(s_hat)+eps)\n",
    "        p.data -=g_hat"
   ]
  },
  {
   "cell_type": "code",
   "execution_count": 43,
   "metadata": {
    "ExecuteTime": {
     "end_time": "2021-05-08T02:21:34.808093Z",
     "start_time": "2021-05-08T02:21:34.796092Z"
    },
    "collapsed": true
   },
   "outputs": [],
   "source": [
    "def linreg(x,w,b):\n",
    "    return torch.mm(x,w)+b\n",
    "def squared_loss(y_hat,y):\n",
    "    return (y_hat-y.view(y_hat.shape))**2 "
   ]
  },
  {
   "cell_type": "code",
   "execution_count": 44,
   "metadata": {
    "ExecuteTime": {
     "end_time": "2021-05-08T02:22:09.035051Z",
     "start_time": "2021-05-08T02:22:08.975047Z"
    },
    "collapsed": true
   },
   "outputs": [],
   "source": [
    "def train_ch7(optimizer_fn,states,hyperparams,features,labels,\n",
    "              batch_size=10,num_epochs=2):\n",
    "    net,loss=linreg,squared_loss\n",
    "    w = nn.Parameter(torch.tensor(np.random.normal(0, 0.01, size=(features.shape[1], 1)),\n",
    "                     dtype=torch.float32,\n",
    "                     requires_grad=True))\n",
    "    b = nn.Parameter(\n",
    "        torch.tensor(np.zeros(1), dtype=torch.float32, requires_grad=True))\n",
    "    \n",
    "    data_iter=torch.utils.data.DataLoader(\n",
    "    torch.utils.data.TensorDataset(features,labels),batch_size=batch_size,\n",
    "    shuffle=True)\n",
    "    \n",
    "    def eval_loss():\n",
    "        return loss(net(features,w,b),labels).mean().item()/2  + 0.5*hyperparams['lr'] * ((w**2).sum())\n",
    "    \n",
    "    ls=[eval_loss()]\n",
    "    for _ in range(num_epochs):\n",
    "        start=time.time()\n",
    "        for batch_i,(X,y) in enumerate(data_iter):\n",
    "            l=loss(net(X,w,b),y).mean()/2 + 0.5*hyperparams['lr'] * ((w**2).sum())\n",
    "            if w.grad is not None:\n",
    "                w.grad.data.zero_()\n",
    "                b.grad.data.zero_()\n",
    "            l.backward()\n",
    "            optimizer_fn([w,b],states,hyperparams)\n",
    "            if (batch_i+1)*batch_size %100 ==0:\n",
    "                ls.append(eval_loss())\n",
    "    print('loss : %f, %f sec per epoch' % (ls[-1],time.time()/num_epochs))\n",
    "    plt.plot(np.linspace(0,num_epochs,len(ls)),ls)\n",
    "    plt.xlabel('epochs')\n",
    "    plt.ylabel('loss')"
   ]
  },
  {
   "cell_type": "code",
   "execution_count": 48,
   "metadata": {
    "ExecuteTime": {
     "end_time": "2021-05-08T02:22:53.315583Z",
     "start_time": "2021-05-08T02:22:53.013566Z"
    }
   },
   "outputs": [
    {
     "name": "stdout",
     "output_type": "stream",
     "text": [
      "loss : 0.252874, 810220286.614789 sec per epoch\n"
     ]
    },
    {
     "data": {
      "image/png": "[encoded data removed]",
      "text/plain": [
       "<matplotlib.figure.Figure at 0xf05f6a0>"
      ]
     },
     "metadata": {},
     "output_type": "display_data"
    }
   ],
   "source": [
    "train_ch7(adad_sge, init_adam_states(), {'lr': 0.01, 't': 1},features, labels)"
   ]
  },
  {
   "cell_type": "code",
   "execution_count": 17,
   "metadata": {
    "ExecuteTime": {
     "end_time": "2021-05-08T01:37:02.241248Z",
     "start_time": "2021-05-08T01:37:01.966232Z"
    }
   },
   "outputs": [
    {
     "name": "stdout",
     "output_type": "stream",
     "text": [
      "loss : 0.247748, 810218911.070122 sec per epoch\n"
     ]
    },
    {
     "data": {
      "image/png": "[encoded data removed]",
      "text/plain": [
       "<matplotlib.figure.Figure at 0x10f32f28>"
      ]
     },
     "metadata": {},
     "output_type": "display_data"
    }
   ],
   "source": [
    "train_ch7(adad_sge, init_adam_states(), {'lr': 0.01, 't': 1},\n",
    "features, labels)"
   ]
  },
  {
   "cell_type": "code",
   "execution_count": 18,
   "metadata": {
    "ExecuteTime": {
     "end_time": "2021-05-08T01:37:03.553121Z",
     "start_time": "2021-05-08T01:37:03.529119Z"
    }
   },
   "outputs": [],
   "source": [
    "import csv\n",
    "import os\n",
    "from torch.utils.data import Dataset, DataLoader\n",
    "myseed = 42069  # set a random seed for reproducibility\n",
    "torch.backends.cudnn.deterministic = True\n",
    "torch.backends.cudnn.benchmark = False\n",
    "np.random.seed(myseed)\n",
    "torch.manual_seed(myseed)\n",
    "if torch.cuda.is_available():\n",
    "    torch.cuda.manual_seed_all(myseed)"
   ]
  },
  {
   "cell_type": "code",
   "execution_count": 19,
   "metadata": {
    "ExecuteTime": {
     "end_time": "2021-05-08T01:37:05.000600Z",
     "start_time": "2021-05-08T01:37:04.917595Z"
    }
   },
   "outputs": [],
   "source": [
    "class COVID19Dataset(Dataset):\n",
    "    def __init__(self,path,mode='train',target_only=False):\n",
    "        self.mode=mode\n",
    "        with open(path,'r') as fp:\n",
    "            data=list(csv.reader(fp))\n",
    "            data=np.array(data[1:])[1:][:,1:].astype(float)\n",
    "        \n",
    "        if not target_only:\n",
    "            feats=list(range(93))\n",
    "        else:\n",
    "            pass\n",
    "        if mode =='test':\n",
    "            data=data[:,feats]\n",
    "            self.data=torch.FloatTensor(data)\n",
    "            \n",
    "        else:\n",
    "            target=data[:,-1]\n",
    "            data=data[:,feats]\n",
    "            \n",
    "            if mode=='train':\n",
    "                indices=[i for i in range(len(data)) if i %10 !=0]\n",
    "            elif mode=='dev':\n",
    "                indices=[i for i in range(len(data)) if i %10 ==0]\n",
    "            \n",
    "            self.data=torch.FloatTensor(data[indices])\n",
    "            self.target=torch.FloatTensor(target[indices])\n",
    "            \n",
    "        self.data[:,40:]= \\\n",
    "        (self.data[:,40:]-self.data[:,40:].mean(dim=0,keepdim=True)) \\\n",
    "        /self.data[:,40:].std(dim=0,keepdim=True)\n",
    "        \n",
    "        self.dim=self.data.shape[1]\n",
    "        print('Finished reading the {} set of COVID19 Dataset ({} samples found, each dim = {})'\n",
    "        .format(mode, len(self.data), self.dim))\n",
    "        \n",
    "    def __getitem__(self,index):\n",
    "        if self.mode in ['train','dev']:\n",
    "            return self.data[index],self.target[index]\n",
    "        else:\n",
    "            return self.data[index]\n",
    "        \n",
    "    def __len__(self):\n",
    "        return len(self.data)\n",
    "        \n",
    "            "
   ]
  },
  {
   "cell_type": "code",
   "execution_count": 20,
   "metadata": {
    "ExecuteTime": {
     "end_time": "2021-05-08T01:37:05.442625Z",
     "start_time": "2021-05-08T01:37:05.425624Z"
    },
    "collapsed": true
   },
   "outputs": [],
   "source": [
    "def prep_dataloader(path, mode, batch_size, n_jobs=0, target_only=False):\n",
    "    ''' Generates a dataset, then is put into a dataloader. '''\n",
    "    dataset = COVID19Dataset(path, mode=mode, target_only=target_only)  # Construct dataset\n",
    "    dataloader = DataLoader(\n",
    "        dataset, batch_size,\n",
    "        shuffle=(mode == 'train'), drop_last=False,\n",
    "        num_workers=n_jobs, pin_memory=True)                            # Construct dataloader\n",
    "    return dataloader\n",
    "tr_path=r'F:\\study\\ml\\HonyiLee2021\\Lhy_Machine_Learning-main\\01 Introduction\\dataset\\covid.train.csv'\n",
    "tt_path=r'F:\\study\\ml\\HonyiLee2021\\Lhy_Machine_Learning-main\\01 Introduction\\dataset\\covid.test.csv'"
   ]
  },
  {
   "cell_type": "code",
   "execution_count": 21,
   "metadata": {
    "ExecuteTime": {
     "end_time": "2021-05-08T01:37:05.814647Z",
     "start_time": "2021-05-08T01:37:05.810646Z"
    },
    "collapsed": true
   },
   "outputs": [],
   "source": [
    "target_only=False\n",
    "\n",
    "config={\n",
    "    'n_epochs':3000,\n",
    "    'batch_size':270,\n",
    "    'optimizer':'SGD',\n",
    "    'optim_hparas':{\n",
    "        'lr':0.001,\n",
    "        'momentum':0.9\n",
    "    },\n",
    "    'early_stop':200,\n",
    "    'save_path':r'F:\\study\\ml\\HonyiLee2021\\Lhy_Machine_Learning-main\\01 Introduction\\models\\model',\n",
    "}"
   ]
  },
  {
   "cell_type": "code",
   "execution_count": 22,
   "metadata": {
    "ExecuteTime": {
     "end_time": "2021-05-08T01:37:07.135520Z",
     "start_time": "2021-05-08T01:37:06.633491Z"
    }
   },
   "outputs": [
    {
     "name": "stdout",
     "output_type": "stream",
     "text": [
      "Finished reading the train set of COVID19 Dataset (2429 samples found, each dim = 93)\n",
      "Finished reading the dev set of COVID19 Dataset (270 samples found, each dim = 93)\n",
      "Finished reading the test set of COVID19 Dataset (892 samples found, each dim = 93)\n"
     ]
    }
   ],
   "source": [
    "tr_set=prep_dataloader(tr_path,'train',config['batch_size'],target_only=target_only)\n",
    "dv_set=prep_dataloader(tr_path,'dev',config['batch_size'],target_only=target_only)\n",
    "tt_set=prep_dataloader(tt_path,'test',config['batch_size'],target_only=target_only)"
   ]
  },
  {
   "cell_type": "code",
   "execution_count": 23,
   "metadata": {
    "ExecuteTime": {
     "end_time": "2021-05-08T01:37:17.747501Z",
     "start_time": "2021-05-08T01:37:17.734501Z"
    },
    "collapsed": true
   },
   "outputs": [],
   "source": [
    "def get_data_dev_set():\n",
    "    data=np.genfromtxt(r'F:\\study\\ml\\HonyiLee2021\\Lhy_Machine_Learning-main\\01 Introduction\\dataset\\covid.test.csv',\n",
    "                      delimiter=',',skip_header=1)\n",
    "    data=(data-data.mean(axis=0)) / data.std(axis=0)\n",
    "    features=torch.tensor(data[:,:-1],dtype=torch.float32)\n",
    "    labels=torch.tensor(data[:,-1],dtype=torch.float32)\n",
    "    return features,labels"
   ]
  },
  {
   "cell_type": "code",
   "execution_count": 24,
   "metadata": {
    "ExecuteTime": {
     "end_time": "2021-05-08T01:37:23.638834Z",
     "start_time": "2021-05-08T01:37:23.544230Z"
    }
   },
   "outputs": [
    {
     "data": {
      "text/plain": [
       "torch.Size([893, 93])"
      ]
     },
     "execution_count": 24,
     "metadata": {},
     "output_type": "execute_result"
    }
   ],
   "source": [
    "features,labels=get_data_dev_set()\n",
    "features.shape"
   ]
  },
  {
   "cell_type": "code",
   "execution_count": 25,
   "metadata": {
    "ExecuteTime": {
     "end_time": "2021-05-08T01:39:58.438891Z",
     "start_time": "2021-05-08T01:39:58.394888Z"
    },
    "collapsed": true
   },
   "outputs": [],
   "source": [
    "def init_adam_states():\n",
    "    s_w=torch.zeros((features.shape[1],1),dtype=torch.float32)\n",
    "    s_b=torch.zeros((1),dtype=torch.float32)\n",
    "    v_w=torch.zeros((features.shape[1],1),dtype=torch.float32)\n",
    "    v_b=torch.zeros((1),dtype=torch.float32)\n",
    "    return ((v_w,s_w),(v_b,s_b))\n",
    "    \n",
    "\n",
    "def adad_sge(params,states,hyperparams):\n",
    "    beta1,beta2,t=0.9,0.999,hyperparams['t']\n",
    "    eps=1e-6\n",
    "    for p,(v,s) in zip(params,states):\n",
    "        v=beta1*v+(1-beta1)*p.grad.data\n",
    "        s=beta2*s+(1-beta2)*p.grad.data**2\n",
    "        v_hat=v/(1-beta1**t)\n",
    "        s_hat=s/(1-beta2**t)\n",
    "        g_hat=hyperparams['lr']*v_hat /(torch.sqrt(s_hat)+eps)\n",
    "        p.data -=g_hat\n"
   ]
  },
  {
   "cell_type": "code",
   "execution_count": 37,
   "metadata": {
    "ExecuteTime": {
     "end_time": "2021-05-08T02:19:30.121961Z",
     "start_time": "2021-05-08T02:19:30.045957Z"
    }
   },
   "outputs": [],
   "source": [
    "def train_ch7(optimizer_fn,states,hyperparams,tr_set,features,labels,\n",
    "              batch_size=10,num_epochs=2):\n",
    "    net,loss=linreg,squared_loss\n",
    "    w = nn.Parameter(torch.tensor(np.random.normal(0, 0.01, size=(features.shape[1], 1)),\n",
    "                     dtype=torch.float32,\n",
    "                     requires_grad=True))\n",
    "    b = nn.Parameter(\n",
    "        torch.tensor(np.zeros(1), dtype=torch.float32, requires_grad=True))\n",
    "    \n",
    "#     data_iter=torch.utils.data.DataLoader(\n",
    "#     torch.utils.data.TensorDataset(features,labels),batch_size=batch_size,\n",
    "#     shuffle=True)\n",
    "    \n",
    "    def eval_loss():\n",
    "        return loss(net(features,w,b),labels).mean().item()/2 + 0.5*hyperparams['lr'] * ((w**2).sum())\n",
    "    \n",
    "    ls=[eval_loss()]\n",
    "    for _ in range(num_epochs):\n",
    "        start=time.time()\n",
    "        for batch_i,(X,y) in enumerate(tr_set):\n",
    "            l=loss(net(X,w,b),y).mean()/2 + 0.5*hyperparams['lr'] * ((w**2).sum())\n",
    "            if w.grad is not None:\n",
    "                w.grad.data.zero_()\n",
    "                b.grad.data.zero_()\n",
    "            l.backward()\n",
    "            optimizer_fn([w,b],states,hyperparams)\n",
    "#             if (batch_i+1)*batch_size %100 ==0:\n",
    "        ls.append(eval_loss())\n",
    "    print('loss : %f, %f sec per epoch' % (ls[-1],time.time()/num_epochs))\n",
    "    plt.plot(np.linspace(0,num_epochs,len(ls)),ls)\n",
    "    plt.xlabel('epochs')\n",
    "    plt.ylabel('loss')"
   ]
  },
  {
   "cell_type": "code",
   "execution_count": 39,
   "metadata": {
    "ExecuteTime": {
     "end_time": "2021-05-08T02:19:51.871205Z",
     "start_time": "2021-05-08T02:19:47.359947Z"
    }
   },
   "outputs": [
    {
     "name": "stdout",
     "output_type": "stream",
     "text": [
      "loss : 153.992767, 8102201.958856 sec per epoch\n"
     ]
    },
    {
     "data": {
      "image/png": "[encoded data removed]",
      "text/plain": [
       "<matplotlib.figure.Figure at 0xefea8d0>"
      ]
     },
     "metadata": {},
     "output_type": "display_data"
    }
   ],
   "source": [
    "train_ch7(adad_sge, init_adam_states(), {'lr': 0.01, 't': 1},tr_set,features, labels,batch_size=270,num_epochs=200)"
   ]
  },
  {
   "cell_type": "code",
   "execution_count": null,
   "metadata": {
    "collapsed": true
   },
   "outputs": [],
   "source": []
  }
 ],
 "metadata": {
  "kernelspec": {
   "display_name": "Python 3",
   "language": "python",
   "name": "python3"
  },
  "language_info": {
   "codemirror_mode": {
    "name": "ipython",
    "version": 3
   },
   "file_extension": ".py",
   "mimetype": "text/x-python",
   "name": "python",
   "nbconvert_exporter": "python",
   "pygments_lexer": "ipython3",
   "version": "3.6.3"
  }
 },
 "nbformat": 4,
 "nbformat_minor": 2
}
