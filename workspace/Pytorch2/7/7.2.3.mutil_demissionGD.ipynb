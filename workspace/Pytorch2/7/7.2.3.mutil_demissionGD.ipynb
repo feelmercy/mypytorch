{
 "cells": [
  {
   "cell_type": "code",
   "execution_count": 1,
   "metadata": {
    "ExecuteTime": {
     "end_time": "2021-04-23T06:43:13.952163Z",
     "start_time": "2021-04-23T06:43:08.804869Z"
    }
   },
   "outputs": [
    {
     "name": "stdout",
     "output_type": "stream",
     "text": [
      "Using matplotlib backend: Qt5Agg\n"
     ]
    }
   ],
   "source": [
    "import numpy as np\n",
    "import torch\n",
    "import math\n",
    "import matplotlib.pyplot as plt\n",
    "%matplotlib auto"
   ]
  },
  {
   "cell_type": "code",
   "execution_count": 2,
   "metadata": {
    "ExecuteTime": {
     "end_time": "2021-04-23T06:43:15.498252Z",
     "start_time": "2021-04-23T06:43:15.478251Z"
    },
    "collapsed": true
   },
   "outputs": [],
   "source": [
    "def train_2d(trainer):\n",
    "    x1,x2,s1,s2=-5,-2,0,0\n",
    "    results=[(x1,x2)]\n",
    "    for i in range(20):\n",
    "        x1,x2,s1,s2=trainer(x1,x2,s1,s2)\n",
    "        results.append((x1,x2))\n",
    "        print('epoch : %d,x1 %f,x2 %f' % (i+1,x1,x2))\n",
    "    return results"
   ]
  },
  {
   "cell_type": "code",
   "execution_count": 18,
   "metadata": {
    "ExecuteTime": {
     "end_time": "2021-04-23T06:43:32.434220Z",
     "start_time": "2021-04-23T06:43:32.424220Z"
    },
    "collapsed": true
   },
   "outputs": [],
   "source": [
    "def show_trace_2d(f,results):\n",
    "    plt.plot(*zip(*results),'-o',color='#ff7f0e')\n",
    "    x1,x2=np.meshgrid(np.arange(-5.5,1.0,0.1),np.arange(-3.0,1.0,0.1))\n",
    "    plt.contour(x1,x2,f(x1,x2),colors='#1f77b4')\n",
    "    plt.xlabel('x1')\n",
    "    plt.xlabel('x2')"
   ]
  },
  {
   "cell_type": "code",
   "execution_count": 19,
   "metadata": {
    "ExecuteTime": {
     "end_time": "2021-04-23T06:43:32.892247Z",
     "start_time": "2021-04-23T06:43:32.882246Z"
    },
    "collapsed": true
   },
   "outputs": [],
   "source": [
    "def f_2d(x1,x2):\n",
    "    return x1**2+2*x2**2\n",
    "\n",
    "def gd_2d(x1,x2,s1,s2):\n",
    "    return (x1-eta*2*x1,x2-eta*4*x2,0,0)"
   ]
  },
  {
   "cell_type": "code",
   "execution_count": 20,
   "metadata": {
    "ExecuteTime": {
     "end_time": "2021-04-23T06:43:33.671291Z",
     "start_time": "2021-04-23T06:43:33.598287Z"
    }
   },
   "outputs": [
    {
     "name": "stdout",
     "output_type": "stream",
     "text": [
      "epoch : 1,x1 -4.000000,x2 -1.200000\n",
      "epoch : 2,x1 -3.200000,x2 -0.720000\n",
      "epoch : 3,x1 -2.560000,x2 -0.432000\n",
      "epoch : 4,x1 -2.048000,x2 -0.259200\n",
      "epoch : 5,x1 -1.638400,x2 -0.155520\n",
      "epoch : 6,x1 -1.310720,x2 -0.093312\n",
      "epoch : 7,x1 -1.048576,x2 -0.055987\n",
      "epoch : 8,x1 -0.838861,x2 -0.033592\n",
      "epoch : 9,x1 -0.671089,x2 -0.020155\n",
      "epoch : 10,x1 -0.536871,x2 -0.012093\n",
      "epoch : 11,x1 -0.429497,x2 -0.007256\n",
      "epoch : 12,x1 -0.343597,x2 -0.004354\n",
      "epoch : 13,x1 -0.274878,x2 -0.002612\n",
      "epoch : 14,x1 -0.219902,x2 -0.001567\n",
      "epoch : 15,x1 -0.175922,x2 -0.000940\n",
      "epoch : 16,x1 -0.140737,x2 -0.000564\n",
      "epoch : 17,x1 -0.112590,x2 -0.000339\n",
      "epoch : 18,x1 -0.090072,x2 -0.000203\n",
      "epoch : 19,x1 -0.072058,x2 -0.000122\n",
      "epoch : 20,x1 -0.057646,x2 -0.000073\n"
     ]
    }
   ],
   "source": [
    "eta=0.1\n",
    "show_trace_2d(f_2d,train_2d(gd_2d))"
   ]
  },
  {
   "cell_type": "code",
   "execution_count": 6,
   "metadata": {
    "ExecuteTime": {
     "end_time": "2021-04-23T06:43:16.790326Z",
     "start_time": "2021-04-23T06:43:16.783325Z"
    },
    "collapsed": true
   },
   "outputs": [],
   "source": [
    "def test_print(inputs):\n",
    "    print(inputs)\n",
    "    print('-------- * ----------')\n",
    "    print(*inputs)"
   ]
  },
  {
   "cell_type": "code",
   "execution_count": 7,
   "metadata": {
    "ExecuteTime": {
     "end_time": "2021-04-23T06:43:17.117344Z",
     "start_time": "2021-04-23T06:43:17.093343Z"
    }
   },
   "outputs": [
    {
     "name": "stdout",
     "output_type": "stream",
     "text": [
      "epoch : 1,x1 -4.000000,x2 -1.200000\n",
      "epoch : 2,x1 -3.200000,x2 -0.720000\n",
      "epoch : 3,x1 -2.560000,x2 -0.432000\n",
      "epoch : 4,x1 -2.048000,x2 -0.259200\n",
      "epoch : 5,x1 -1.638400,x2 -0.155520\n",
      "epoch : 6,x1 -1.310720,x2 -0.093312\n",
      "epoch : 7,x1 -1.048576,x2 -0.055987\n",
      "epoch : 8,x1 -0.838861,x2 -0.033592\n",
      "epoch : 9,x1 -0.671089,x2 -0.020155\n",
      "epoch : 10,x1 -0.536871,x2 -0.012093\n",
      "epoch : 11,x1 -0.429497,x2 -0.007256\n",
      "epoch : 12,x1 -0.343597,x2 -0.004354\n",
      "epoch : 13,x1 -0.274878,x2 -0.002612\n",
      "epoch : 14,x1 -0.219902,x2 -0.001567\n",
      "epoch : 15,x1 -0.175922,x2 -0.000940\n",
      "epoch : 16,x1 -0.140737,x2 -0.000564\n",
      "epoch : 17,x1 -0.112590,x2 -0.000339\n",
      "epoch : 18,x1 -0.090072,x2 -0.000203\n",
      "epoch : 19,x1 -0.072058,x2 -0.000122\n",
      "epoch : 20,x1 -0.057646,x2 -0.000073\n",
      "[(-5, -2), (-4.0, -1.2), (-3.2, -0.72), (-2.56, -0.432), (-2.048, -0.2592), (-1.6384, -0.15552), (-1.31072, -0.09331199999999999), (-1.0485760000000002, -0.055987199999999994), (-0.8388608000000002, -0.033592319999999995), (-0.6710886400000001, -0.020155391999999994), (-0.5368709120000001, -0.012093235199999997), (-0.4294967296000001, -0.007255941119999998), (-0.3435973836800001, -0.004353564671999998), (-0.27487790694400005, -0.0026121388031999987), (-0.21990232555520003, -0.0015672832819199991), (-0.17592186044416003, -0.0009403699691519995), (-0.140737488355328, -0.0005642219814911997), (-0.11258999068426241, -0.00033853318889471976), (-0.09007199254740993, -0.00020311991333683184), (-0.07205759403792794, -0.0001218719480020991), (-0.057646075230342354, -7.312316880125945e-05)]\n",
      "-------- * ----------\n",
      "(-5, -2) (-4.0, -1.2) (-3.2, -0.72) (-2.56, -0.432) (-2.048, -0.2592) (-1.6384, -0.15552) (-1.31072, -0.09331199999999999) (-1.0485760000000002, -0.055987199999999994) (-0.8388608000000002, -0.033592319999999995) (-0.6710886400000001, -0.020155391999999994) (-0.5368709120000001, -0.012093235199999997) (-0.4294967296000001, -0.007255941119999998) (-0.3435973836800001, -0.004353564671999998) (-0.27487790694400005, -0.0026121388031999987) (-0.21990232555520003, -0.0015672832819199991) (-0.17592186044416003, -0.0009403699691519995) (-0.140737488355328, -0.0005642219814911997) (-0.11258999068426241, -0.00033853318889471976) (-0.09007199254740993, -0.00020311991333683184) (-0.07205759403792794, -0.0001218719480020991) (-0.057646075230342354, -7.312316880125945e-05)\n"
     ]
    }
   ],
   "source": [
    "test_print(train_2d(gd_2d))"
   ]
  },
  {
   "cell_type": "code",
   "execution_count": 8,
   "metadata": {
    "ExecuteTime": {
     "end_time": "2021-04-23T06:43:17.372359Z",
     "start_time": "2021-04-23T06:43:17.365358Z"
    },
    "collapsed": true
   },
   "outputs": [],
   "source": [
    "results=[(-5, -2), (-4.0, -1.2), (-3.2, -0.72), (-2.56, -0.432)]"
   ]
  },
  {
   "cell_type": "code",
   "execution_count": 9,
   "metadata": {
    "ExecuteTime": {
     "end_time": "2021-04-23T06:43:17.653375Z",
     "start_time": "2021-04-23T06:43:17.638374Z"
    }
   },
   "outputs": [
    {
     "name": "stdout",
     "output_type": "stream",
     "text": [
      "[(-5, -2), (-4.0, -1.2), (-3.2, -0.72), (-2.56, -0.432)]\n",
      "-------- * ----------\n",
      "(-5, -2) (-4.0, -1.2) (-3.2, -0.72) (-2.56, -0.432)\n",
      "-------- *zip ----------\n",
      "[(-5, -4.0, -3.2, -2.56), (-2, -1.2, -0.72, -0.432)]\n"
     ]
    }
   ],
   "source": [
    "print(results)\n",
    "print('-------- * ----------')\n",
    "print(*results)\n",
    "print('-------- *zip ----------')\n",
    "print([*zip(*results)])"
   ]
  },
  {
   "cell_type": "code",
   "execution_count": 10,
   "metadata": {
    "ExecuteTime": {
     "end_time": "2021-04-23T06:43:17.912390Z",
     "start_time": "2021-04-23T06:43:17.899389Z"
    }
   },
   "outputs": [
    {
     "name": "stdout",
     "output_type": "stream",
     "text": [
      "(-5, -2) (-4.0, -1.2) (-3.2, -0.72) (-2.56, -0.432)\n",
      "\n"
     ]
    }
   ],
   "source": [
    "a=[-5, -4.0, -3.2, -2.56]\n",
    "b=[-2, -1.2, -0.72, -0.432]\n",
    "c=zip(a,b)\n",
    "print(*c)\n",
    "print(*zip(*c))"
   ]
  },
  {
   "cell_type": "code",
   "execution_count": 11,
   "metadata": {
    "ExecuteTime": {
     "end_time": "2021-04-23T06:43:18.168404Z",
     "start_time": "2021-04-23T06:43:18.151403Z"
    }
   },
   "outputs": [
    {
     "data": {
      "text/plain": [
       "(array([[-5.5, -5.4, -5.3, ...,  0.7,  0.8,  0.9],\n",
       "        [-5.5, -5.4, -5.3, ...,  0.7,  0.8,  0.9],\n",
       "        [-5.5, -5.4, -5.3, ...,  0.7,  0.8,  0.9],\n",
       "        ...,\n",
       "        [-5.5, -5.4, -5.3, ...,  0.7,  0.8,  0.9],\n",
       "        [-5.5, -5.4, -5.3, ...,  0.7,  0.8,  0.9],\n",
       "        [-5.5, -5.4, -5.3, ...,  0.7,  0.8,  0.9]]),\n",
       " array([[-3. , -3. , -3. , ..., -3. , -3. , -3. ],\n",
       "        [-2.9, -2.9, -2.9, ..., -2.9, -2.9, -2.9],\n",
       "        [-2.8, -2.8, -2.8, ..., -2.8, -2.8, -2.8],\n",
       "        ...,\n",
       "        [ 0.7,  0.7,  0.7, ...,  0.7,  0.7,  0.7],\n",
       "        [ 0.8,  0.8,  0.8, ...,  0.8,  0.8,  0.8],\n",
       "        [ 0.9,  0.9,  0.9, ...,  0.9,  0.9,  0.9]]))"
      ]
     },
     "execution_count": 11,
     "metadata": {},
     "output_type": "execute_result"
    }
   ],
   "source": [
    "x1,x2=np.meshgrid(np.arange(-5.5,1.0,0.1),np.arange(-3.0,1.0,0.1))\n",
    "x1,x2\n"
   ]
  },
  {
   "cell_type": "code",
   "execution_count": 12,
   "metadata": {
    "ExecuteTime": {
     "end_time": "2021-04-23T06:43:22.727665Z",
     "start_time": "2021-04-23T06:43:22.717665Z"
    }
   },
   "outputs": [
    {
     "data": {
      "text/plain": [
       "40"
      ]
     },
     "execution_count": 12,
     "metadata": {},
     "output_type": "execute_result"
    }
   ],
   "source": [
    "len(x1)"
   ]
  },
  {
   "cell_type": "code",
   "execution_count": 13,
   "metadata": {
    "ExecuteTime": {
     "end_time": "2021-04-23T06:43:23.191692Z",
     "start_time": "2021-04-23T06:43:23.180691Z"
    }
   },
   "outputs": [
    {
     "data": {
      "text/plain": [
       "array([[48.25, 47.16, 46.09, ..., 18.49, 18.64, 18.81],\n",
       "       [47.07, 45.98, 44.91, ..., 17.31, 17.46, 17.63],\n",
       "       [45.93, 44.84, 43.77, ..., 16.17, 16.32, 16.49],\n",
       "       ...,\n",
       "       [31.23, 30.14, 29.07, ...,  1.47,  1.62,  1.79],\n",
       "       [31.53, 30.44, 29.37, ...,  1.77,  1.92,  2.09],\n",
       "       [31.87, 30.78, 29.71, ...,  2.11,  2.26,  2.43]])"
      ]
     },
     "execution_count": 13,
     "metadata": {},
     "output_type": "execute_result"
    }
   ],
   "source": [
    "f_2d(x1,x2)"
   ]
  },
  {
   "cell_type": "code",
   "execution_count": 14,
   "metadata": {
    "ExecuteTime": {
     "end_time": "2021-04-23T06:43:23.534711Z",
     "start_time": "2021-04-23T06:43:23.524711Z"
    },
    "collapsed": true
   },
   "outputs": [],
   "source": [
    "def fun(*args,**kwargs):\n",
    "    print('args= ',args)\n",
    "    print('kwargs= ',kwargs)"
   ]
  },
  {
   "cell_type": "code",
   "execution_count": 15,
   "metadata": {
    "ExecuteTime": {
     "end_time": "2021-04-23T06:43:23.912733Z",
     "start_time": "2021-04-23T06:43:23.905733Z"
    }
   },
   "outputs": [
    {
     "name": "stdout",
     "output_type": "stream",
     "text": [
      "args=  (1, 2, 3, 4)\n",
      "kwargs=  {'A': 'a', 'B': 'b', 'c': 'c'}\n"
     ]
    }
   ],
   "source": [
    "fun(1,2,3,4,A='a',B='b',c='c')"
   ]
  },
  {
   "cell_type": "code",
   "execution_count": 16,
   "metadata": {
    "ExecuteTime": {
     "end_time": "2021-04-23T06:43:24.328757Z",
     "start_time": "2021-04-23T06:43:24.320756Z"
    },
    "collapsed": true
   },
   "outputs": [],
   "source": [
    "def sgd_2d(x1,x2,s1,s2):\n",
    "    return (x1-eta*(2*x1+np.random.normal(0.1)),\n",
    "           x2-eta*(4*x2+np.random.normal(0.1)),0,0)"
   ]
  },
  {
   "cell_type": "code",
   "execution_count": 17,
   "metadata": {
    "ExecuteTime": {
     "end_time": "2021-04-23T06:43:24.844786Z",
     "start_time": "2021-04-23T06:43:24.754781Z"
    }
   },
   "outputs": [
    {
     "name": "stdout",
     "output_type": "stream",
     "text": [
      "epoch : 1,x1 -4.061090,x2 -1.325123\n",
      "epoch : 2,x1 -3.204519,x2 -0.789584\n",
      "epoch : 3,x1 -2.462671,x2 -0.670753\n",
      "epoch : 4,x1 -1.834497,x2 -0.409027\n",
      "epoch : 5,x1 -1.312353,x2 -0.178052\n",
      "epoch : 6,x1 -1.142994,x2 -0.241050\n",
      "epoch : 7,x1 -1.027432,x2 -0.090968\n",
      "epoch : 8,x1 -0.685818,x2 -0.126295\n",
      "epoch : 9,x1 -0.407612,x2 -0.033164\n",
      "epoch : 10,x1 -0.408344,x2 0.055981\n",
      "epoch : 11,x1 -0.374854,x2 -0.024941\n",
      "epoch : 12,x1 -0.244974,x2 -0.132471\n",
      "epoch : 13,x1 -0.083309,x2 -0.048699\n",
      "epoch : 14,x1 -0.163586,x2 -0.075396\n",
      "epoch : 15,x1 -0.155411,x2 0.063195\n",
      "epoch : 16,x1 -0.119262,x2 0.016620\n",
      "epoch : 17,x1 -0.060562,x2 0.014229\n",
      "epoch : 18,x1 -0.032128,x2 -0.096416\n",
      "epoch : 19,x1 -0.151469,x2 -0.116690\n",
      "epoch : 20,x1 -0.126374,x2 -0.164805\n"
     ]
    }
   ],
   "source": [
    "show_trace_2d(f_2d,train_2d(sgd_2d))"
   ]
  },
  {
   "cell_type": "code",
   "execution_count": null,
   "metadata": {
    "collapsed": true
   },
   "outputs": [],
   "source": []
  }
 ],
 "metadata": {
  "kernelspec": {
   "display_name": "Python 3",
   "language": "python",
   "name": "python3"
  },
  "language_info": {
   "codemirror_mode": {
    "name": "ipython",
    "version": 3
   },
   "file_extension": ".py",
   "mimetype": "text/x-python",
   "name": "python",
   "nbconvert_exporter": "python",
   "pygments_lexer": "ipython3",
   "version": "3.6.3"
  }
 },
 "nbformat": 4,
 "nbformat_minor": 2
}
