{
 "cells": [
  {
   "cell_type": "code",
   "execution_count": 1,
   "metadata": {
    "ExecuteTime": {
     "end_time": "2021-05-06T02:06:55.682460Z",
     "start_time": "2021-05-06T02:06:44.481220Z"
    },
    "collapsed": true
   },
   "outputs": [],
   "source": [
    "import torch\n",
    "import numpy as np\n",
    "from torch import nn,optim\n",
    "import time\n",
    "import matplotlib.pylab as plt\n",
    "import torchvision\n",
    "%matplotlib inline"
   ]
  },
  {
   "cell_type": "code",
   "execution_count": 2,
   "metadata": {
    "ExecuteTime": {
     "end_time": "2021-05-06T03:07:52.511652Z",
     "start_time": "2021-05-06T03:07:52.494651Z"
    },
    "collapsed": true
   },
   "outputs": [],
   "source": [
    "def get_data_ch7():\n",
    "    data=np.genfromtxt(r'F:\\study\\ml\\DataSet\\airfoil_self_noise\\airfoil_self_noise.dat',\n",
    "                      delimiter='\\t')\n",
    "    data=(data-data.mean(axis=0)) / data.std(axis=0)\n",
    "    features=torch.tensor(data[:1500,:-1],dtype=torch.float32)\n",
    "    labels=torch.tensor(data[:1500,-1],dtype=torch.float32)\n",
    "    return features,labels"
   ]
  },
  {
   "cell_type": "code",
   "execution_count": 3,
   "metadata": {
    "ExecuteTime": {
     "end_time": "2021-05-06T03:07:53.010680Z",
     "start_time": "2021-05-06T03:07:52.973678Z"
    }
   },
   "outputs": [
    {
     "data": {
      "text/plain": [
       "torch.Size([1500, 5])"
      ]
     },
     "execution_count": 3,
     "metadata": {},
     "output_type": "execute_result"
    }
   ],
   "source": [
    "features,labels=get_data_ch7()\n",
    "features.shape"
   ]
  },
  {
   "cell_type": "code",
   "execution_count": 4,
   "metadata": {
    "ExecuteTime": {
     "end_time": "2021-05-06T03:07:53.372701Z",
     "start_time": "2021-05-06T03:07:53.356700Z"
    },
    "collapsed": true
   },
   "outputs": [],
   "source": [
    "def init_adadelta_states():\n",
    "    s_w,s_b=torch.zeros(features.shape[1],1,dtype=torch.float32), \\\n",
    "    torch.zeros(1,dtype=torch.float32)\n",
    "    delta_w,delta_b=torch.zeros(features.shape[1],1,dtype=torch.float32), \\\n",
    "    torch.zeros(1,dtype=torch.float32)\n",
    "    return((s_w,delta_w),(s_b,delta_b))\n",
    "    "
   ]
  },
  {
   "cell_type": "code",
   "execution_count": 5,
   "metadata": {
    "ExecuteTime": {
     "end_time": "2021-05-06T03:07:53.841728Z",
     "start_time": "2021-05-06T03:07:53.821726Z"
    },
    "collapsed": true
   },
   "outputs": [],
   "source": [
    "def adadelta(params,states,hyperparams):\n",
    "    rho,eps=hyperparams['rho'],1e-5\n",
    "    for p,(s,d) in zip(params,states):\n",
    "        s[:]=rho*s+(1-rho)*(p.grad.data*p.grad.data)\n",
    "        g=torch.sqrt((d+eps)/(s+eps)) * p.grad.data\n",
    "        p.data -=g\n",
    "        d[:]=rho*d+(1-rho)*g*g"
   ]
  },
  {
   "cell_type": "code",
   "execution_count": 6,
   "metadata": {
    "ExecuteTime": {
     "end_time": "2021-05-06T03:07:54.248751Z",
     "start_time": "2021-05-06T03:07:54.241751Z"
    },
    "collapsed": true
   },
   "outputs": [],
   "source": [
    "def linreg(x,w,b):\n",
    "    return torch.mm(x,w)+b\n",
    "def squared_loss(y_hat,y):\n",
    "    return (y_hat-y.view(y_hat.shape))**2"
   ]
  },
  {
   "cell_type": "code",
   "execution_count": 7,
   "metadata": {
    "ExecuteTime": {
     "end_time": "2021-05-06T03:07:54.727778Z",
     "start_time": "2021-05-06T03:07:54.661775Z"
    },
    "collapsed": true
   },
   "outputs": [],
   "source": [
    "def train_ch7(optimizer_fun,\n",
    "              states,\n",
    "              hyperparams,\n",
    "              features,\n",
    "              labels,\n",
    "              batch_size=10,\n",
    "              num_epochs=2):\n",
    "\n",
    "    net, loss = linreg, squared_loss\n",
    "    w = nn.Parameter(\n",
    "        torch.tensor(np.random.normal(0, 0.01, size=(features.shape[1], 1)),\n",
    "                     dtype=torch.float32,\n",
    "                     requires_grad=True))\n",
    "    b = nn.Parameter(\n",
    "        torch.tensor(np.zeros(1), dtype=torch.float32, requires_grad=True))\n",
    "    \n",
    "    def eval_loss():\n",
    "        return loss(net(features,w,b),labels).mean().item() /2\n",
    "    \n",
    "    ls=[eval_loss()]\n",
    "    \n",
    "    data_iter=torch.utils.data.DataLoader(\n",
    "    torch.utils.data.TensorDataset(features,labels),batch_size=batch_size,\n",
    "    shuffle=True)\n",
    "    \n",
    "    for _ in range(num_epochs):\n",
    "        start=time.time()\n",
    "        for batch_i,(X,y) in enumerate(data_iter):\n",
    "            l=loss(net(X,w,b),y).mean() /2\n",
    "            if w.grad is not None:\n",
    "                w.grad.data.zero_()\n",
    "                b.grad.data.zero_()\n",
    "            l.backward()\n",
    "            optimizer_fun([w,b],states,hyperparams)\n",
    "            if (batch_i+1) * batch_size % 100  ==0:\n",
    "                ls.append(eval_loss())\n",
    "    print('loss : %f, %f sec per epoch' % (ls[-1],time.time()-start))\n",
    "    plt.plot(np.linspace(0,num_epochs,len(ls)),ls)\n",
    "    plt.xlabel('epochs')\n",
    "    plt.ylabel('loss')"
   ]
  },
  {
   "cell_type": "code",
   "execution_count": null,
   "metadata": {
    "collapsed": true
   },
   "outputs": [],
   "source": [
    "plt.xl"
   ]
  },
  {
   "cell_type": "code",
   "execution_count": 8,
   "metadata": {
    "ExecuteTime": {
     "end_time": "2021-05-06T03:07:55.640831Z",
     "start_time": "2021-05-06T03:07:55.333813Z"
    }
   },
   "outputs": [
    {
     "name": "stdout",
     "output_type": "stream",
     "text": [
      "loss : 0.244402, 0.082005 sec per epoch\n"
     ]
    },
    {
     "data": {
      "image/png": "[encoded data removed]",
      "text/plain": [
       "<matplotlib.figure.Figure at 0x580d4a8>"
      ]
     },
     "metadata": {},
     "output_type": "display_data"
    }
   ],
   "source": [
    "train_ch7(adadelta,init_adadelta_states(),{'rho':0.9},features,labels)"
   ]
  },
  {
   "cell_type": "code",
   "execution_count": null,
   "metadata": {
    "collapsed": true
   },
   "outputs": [],
   "source": []
  }
 ],
 "metadata": {
  "kernelspec": {
   "display_name": "Python 3",
   "language": "python",
   "name": "python3"
  },
  "language_info": {
   "codemirror_mode": {
    "name": "ipython",
    "version": 3
   },
   "file_extension": ".py",
   "mimetype": "text/x-python",
   "name": "python",
   "nbconvert_exporter": "python",
   "pygments_lexer": "ipython3",
   "version": "3.6.3"
  }
 },
 "nbformat": 4,
 "nbformat_minor": 2
}
