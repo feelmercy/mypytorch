{
 "cells": [
  {
   "cell_type": "code",
   "execution_count": 10,
   "metadata": {
    "ExecuteTime": {
     "end_time": "2021-04-23T06:43:42.167777Z",
     "start_time": "2021-04-23T06:43:42.124775Z"
    }
   },
   "outputs": [
    {
     "name": "stdout",
     "output_type": "stream",
     "text": [
      "Using matplotlib backend: Qt5Agg\n"
     ]
    }
   ],
   "source": [
    "import numpy as np\n",
    "import matplotlib.pyplot as plt\n",
    "%matplotlib auto"
   ]
  },
  {
   "cell_type": "code",
   "execution_count": 28,
   "metadata": {
    "ExecuteTime": {
     "end_time": "2021-04-23T06:50:43.952902Z",
     "start_time": "2021-04-23T06:50:43.925900Z"
    },
    "collapsed": true
   },
   "outputs": [],
   "source": [
    "def train_2d(trainer):\n",
    "    x1,x2,s1,s2=-5,-2,0,0\n",
    "    results=[(x1,x2)]\n",
    "    for i in range(20):\n",
    "        x1,x2,s1,s2=trainer(x1,x2,s1,s2)\n",
    "        results.append((x1,x2))\n",
    "        print('epoch %d, x1 %f, x2 %f' % (i + 1, x1, x2))\n",
    "    return results"
   ]
  },
  {
   "cell_type": "code",
   "execution_count": 29,
   "metadata": {
    "ExecuteTime": {
     "end_time": "2021-04-23T06:50:44.969960Z",
     "start_time": "2021-04-23T06:50:44.947959Z"
    },
    "collapsed": true
   },
   "outputs": [],
   "source": [
    "def show_trace_2d(f,results):\n",
    "    plt.plot(*zip(*results),'-o',color='#1f7f0e')\n",
    "    x1,x2=np.meshgrid(np.arange(-5.5,1.0,0.1),np.arange(-3.0,1.0,0.1))\n",
    "    plt.contour(x1,x2,f(x1,x2),colors='#1f77b4')\n",
    "    plt.xlabel('x1')\n",
    "    plt.ylabel('x2')"
   ]
  },
  {
   "cell_type": "code",
   "execution_count": 30,
   "metadata": {
    "ExecuteTime": {
     "end_time": "2021-04-23T06:50:45.759005Z",
     "start_time": "2021-04-23T06:50:45.742004Z"
    },
    "collapsed": true
   },
   "outputs": [],
   "source": [
    "eta=0.1\n",
    "def f_2d(x1,x2):\n",
    "    return x1**2+2*x2**2\n",
    "\n",
    "def gd_2d(x1,x2,s1,s2):\n",
    "#     print('x1: ',x1)\n",
    "#     print('x2: ',x2)\n",
    "    return (x1-eta*2*x1,x2-eta*4*x2,0,0)    "
   ]
  },
  {
   "cell_type": "code",
   "execution_count": 31,
   "metadata": {
    "ExecuteTime": {
     "end_time": "2021-04-23T06:50:46.332038Z",
     "start_time": "2021-04-23T06:50:46.252033Z"
    }
   },
   "outputs": [
    {
     "name": "stdout",
     "output_type": "stream",
     "text": [
      "epoch 1, x1 -4.000000, x2 -1.200000\n",
      "epoch 2, x1 -3.200000, x2 -0.720000\n",
      "epoch 3, x1 -2.560000, x2 -0.432000\n",
      "epoch 4, x1 -2.048000, x2 -0.259200\n",
      "epoch 5, x1 -1.638400, x2 -0.155520\n",
      "epoch 6, x1 -1.310720, x2 -0.093312\n",
      "epoch 7, x1 -1.048576, x2 -0.055987\n",
      "epoch 8, x1 -0.838861, x2 -0.033592\n",
      "epoch 9, x1 -0.671089, x2 -0.020155\n",
      "epoch 10, x1 -0.536871, x2 -0.012093\n",
      "epoch 11, x1 -0.429497, x2 -0.007256\n",
      "epoch 12, x1 -0.343597, x2 -0.004354\n",
      "epoch 13, x1 -0.274878, x2 -0.002612\n",
      "epoch 14, x1 -0.219902, x2 -0.001567\n",
      "epoch 15, x1 -0.175922, x2 -0.000940\n",
      "epoch 16, x1 -0.140737, x2 -0.000564\n",
      "epoch 17, x1 -0.112590, x2 -0.000339\n",
      "epoch 18, x1 -0.090072, x2 -0.000203\n",
      "epoch 19, x1 -0.072058, x2 -0.000122\n",
      "epoch 20, x1 -0.057646, x2 -0.000073\n"
     ]
    }
   ],
   "source": [
    "show_trace_2d(f_2d,train_2d(gd_2d))"
   ]
  },
  {
   "cell_type": "code",
   "execution_count": 32,
   "metadata": {
    "ExecuteTime": {
     "end_time": "2021-04-23T06:53:30.279415Z",
     "start_time": "2021-04-23T06:53:30.268414Z"
    },
    "collapsed": true
   },
   "outputs": [],
   "source": [
    "def sgd_2d(x1,x2,s1,s2):\n",
    "    return (x1-eta*(2*x1+np.random.normal(0.1)),\n",
    "           x2-eta*(4*x2+np.random.normal(0.1)),0,0)"
   ]
  },
  {
   "cell_type": "code",
   "execution_count": 33,
   "metadata": {
    "ExecuteTime": {
     "end_time": "2021-04-23T06:53:44.384222Z",
     "start_time": "2021-04-23T06:53:44.285216Z"
    }
   },
   "outputs": [
    {
     "name": "stdout",
     "output_type": "stream",
     "text": [
      "epoch 1, x1 -3.911409, x2 -1.162770\n",
      "epoch 2, x1 -3.214951, x2 -0.888076\n",
      "epoch 3, x1 -2.451709, x2 -0.569547\n",
      "epoch 4, x1 -1.956199, x2 -0.342081\n",
      "epoch 5, x1 -1.476961, x2 -0.312161\n",
      "epoch 6, x1 -1.154763, x2 -0.320236\n",
      "epoch 7, x1 -0.806664, x2 -0.309399\n",
      "epoch 8, x1 -0.523529, x2 -0.166511\n",
      "epoch 9, x1 -0.372546, x2 -0.152105\n",
      "epoch 10, x1 -0.308299, x2 -0.233628\n",
      "epoch 11, x1 -0.318063, x2 -0.077612\n",
      "epoch 12, x1 -0.354900, x2 -0.037632\n",
      "epoch 13, x1 -0.335798, x2 -0.189495\n",
      "epoch 14, x1 -0.258861, x2 -0.109155\n",
      "epoch 15, x1 -0.320272, x2 -0.109185\n",
      "epoch 16, x1 -0.235483, x2 -0.139752\n",
      "epoch 17, x1 -0.149973, x2 -0.216205\n",
      "epoch 18, x1 0.003344, x2 -0.261697\n",
      "epoch 19, x1 0.016312, x2 -0.173946\n",
      "epoch 20, x1 -0.065636, x2 -0.247686\n"
     ]
    }
   ],
   "source": [
    "show_trace_2d(f_2d,train_2d(sgd_2d))"
   ]
  },
  {
   "cell_type": "code",
   "execution_count": null,
   "metadata": {
    "collapsed": true
   },
   "outputs": [],
   "source": []
  }
 ],
 "metadata": {
  "kernelspec": {
   "display_name": "Python 3",
   "language": "python",
   "name": "python3"
  },
  "language_info": {
   "codemirror_mode": {
    "name": "ipython",
    "version": 3
   },
   "file_extension": ".py",
   "mimetype": "text/x-python",
   "name": "python",
   "nbconvert_exporter": "python",
   "pygments_lexer": "ipython3",
   "version": "3.6.3"
  }
 },
 "nbformat": 4,
 "nbformat_minor": 2
}
