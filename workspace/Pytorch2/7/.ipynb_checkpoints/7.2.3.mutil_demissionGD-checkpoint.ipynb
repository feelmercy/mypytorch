{
 "cells": [
  {
   "cell_type": "code",
   "execution_count": 2,
   "metadata": {
    "ExecuteTime": {
     "end_time": "2021-04-09T06:00:50.679429Z",
     "start_time": "2021-04-09T06:00:39.534792Z"
    }
   },
   "outputs": [
    {
     "name": "stdout",
     "output_type": "stream",
     "text": [
      "Using matplotlib backend: Qt5Agg\n"
     ]
    }
   ],
   "source": [
    "import numpy as np\n",
    "import torch\n",
    "import math\n",
    "import matplotlib.pyplot as plt\n",
    "%matplotlib auto"
   ]
  },
  {
   "cell_type": "code",
   "execution_count": 3,
   "metadata": {
    "ExecuteTime": {
     "end_time": "2021-04-09T06:00:52.039507Z",
     "start_time": "2021-04-09T06:00:52.014506Z"
    },
    "collapsed": true
   },
   "outputs": [],
   "source": [
    "def train_2d(trainer):\n",
    "    x1,x2,s1,s2=-5,-2,0,0\n",
    "    results=[(x1,x2)]\n",
    "    for i in range(20):\n",
    "        x1,x2,s1,s2=trainer(x1,x2,s1,s2)\n",
    "        results.append((x1,x2))\n",
    "        print('epoch : %d,x1 %f,x2 %f' % (i+1,x1,x2))\n",
    "    return results"
   ]
  },
  {
   "cell_type": "code",
   "execution_count": 4,
   "metadata": {
    "ExecuteTime": {
     "end_time": "2021-04-09T06:00:52.796550Z",
     "start_time": "2021-04-09T06:00:52.774549Z"
    },
    "collapsed": true
   },
   "outputs": [],
   "source": [
    "def show_trace_2d(f,results):\n",
    "    plt.plot(*zip(*results),'-o',color='#ff7f0e')\n",
    "    x1,x2=np.meshgrid(np.arange(-5.5,1.0,0.1),np.arange(-3.0,1.0,0.1))\n",
    "    plt.contour(x1,x2,f(x1,x2),colors='#1f77b4')\n",
    "    plt.xlabel('x1')\n",
    "    plt.xlabel('x2')"
   ]
  },
  {
   "cell_type": "code",
   "execution_count": 5,
   "metadata": {
    "ExecuteTime": {
     "end_time": "2021-04-09T06:00:53.546593Z",
     "start_time": "2021-04-09T06:00:53.534593Z"
    },
    "collapsed": true
   },
   "outputs": [],
   "source": [
    "def f_2d(x1,x2):\n",
    "    return x1**2+2*x2**2\n",
    "\n",
    "def gd_2d(x1,x2,s1,s2):\n",
    "    return (x1-eta*2*x1,x2-eta*4*x2,0,0)"
   ]
  },
  {
   "cell_type": "code",
   "execution_count": 6,
   "metadata": {
    "ExecuteTime": {
     "end_time": "2021-04-09T06:00:55.350696Z",
     "start_time": "2021-04-09T06:00:54.095625Z"
    }
   },
   "outputs": [
    {
     "name": "stdout",
     "output_type": "stream",
     "text": [
      "epoch : 1,x1 -4.000000,x2 -1.200000\n",
      "epoch : 2,x1 -3.200000,x2 -0.720000\n",
      "epoch : 3,x1 -2.560000,x2 -0.432000\n",
      "epoch : 4,x1 -2.048000,x2 -0.259200\n",
      "epoch : 5,x1 -1.638400,x2 -0.155520\n",
      "epoch : 6,x1 -1.310720,x2 -0.093312\n",
      "epoch : 7,x1 -1.048576,x2 -0.055987\n",
      "epoch : 8,x1 -0.838861,x2 -0.033592\n",
      "epoch : 9,x1 -0.671089,x2 -0.020155\n",
      "epoch : 10,x1 -0.536871,x2 -0.012093\n",
      "epoch : 11,x1 -0.429497,x2 -0.007256\n",
      "epoch : 12,x1 -0.343597,x2 -0.004354\n",
      "epoch : 13,x1 -0.274878,x2 -0.002612\n",
      "epoch : 14,x1 -0.219902,x2 -0.001567\n",
      "epoch : 15,x1 -0.175922,x2 -0.000940\n",
      "epoch : 16,x1 -0.140737,x2 -0.000564\n",
      "epoch : 17,x1 -0.112590,x2 -0.000339\n",
      "epoch : 18,x1 -0.090072,x2 -0.000203\n",
      "epoch : 19,x1 -0.072058,x2 -0.000122\n",
      "epoch : 20,x1 -0.057646,x2 -0.000073\n"
     ]
    }
   ],
   "source": [
    "eta=0.1\n",
    "show_trace_2d(f_2d,train_2d(gd_2d))"
   ]
  },
  {
   "cell_type": "code",
   "execution_count": 39,
   "metadata": {
    "ExecuteTime": {
     "end_time": "2021-04-08T09:28:50.404020Z",
     "start_time": "2021-04-08T09:28:50.394019Z"
    },
    "collapsed": true
   },
   "outputs": [],
   "source": [
    "def test_print(inputs):\n",
    "    print(inputs)\n",
    "    print('-------- * ----------')\n",
    "    print(*inputs)"
   ]
  },
  {
   "cell_type": "code",
   "execution_count": 40,
   "metadata": {
    "ExecuteTime": {
     "end_time": "2021-04-08T09:28:51.031056Z",
     "start_time": "2021-04-08T09:28:51.001054Z"
    }
   },
   "outputs": [
    {
     "name": "stdout",
     "output_type": "stream",
     "text": [
      "epoch : 1,x1 -4.000000,x2 -1.200000\n",
      "epoch : 2,x1 -3.200000,x2 -0.720000\n",
      "epoch : 3,x1 -2.560000,x2 -0.432000\n",
      "epoch : 4,x1 -2.048000,x2 -0.259200\n",
      "epoch : 5,x1 -1.638400,x2 -0.155520\n",
      "epoch : 6,x1 -1.310720,x2 -0.093312\n",
      "epoch : 7,x1 -1.048576,x2 -0.055987\n",
      "epoch : 8,x1 -0.838861,x2 -0.033592\n",
      "epoch : 9,x1 -0.671089,x2 -0.020155\n",
      "epoch : 10,x1 -0.536871,x2 -0.012093\n",
      "epoch : 11,x1 -0.429497,x2 -0.007256\n",
      "epoch : 12,x1 -0.343597,x2 -0.004354\n",
      "epoch : 13,x1 -0.274878,x2 -0.002612\n",
      "epoch : 14,x1 -0.219902,x2 -0.001567\n",
      "epoch : 15,x1 -0.175922,x2 -0.000940\n",
      "epoch : 16,x1 -0.140737,x2 -0.000564\n",
      "epoch : 17,x1 -0.112590,x2 -0.000339\n",
      "epoch : 18,x1 -0.090072,x2 -0.000203\n",
      "epoch : 19,x1 -0.072058,x2 -0.000122\n",
      "epoch : 20,x1 -0.057646,x2 -0.000073\n",
      "[(-5, -2), (-4.0, -1.2), (-3.2, -0.72), (-2.56, -0.432), (-2.048, -0.2592), (-1.6384, -0.15552), (-1.31072, -0.09331199999999999), (-1.0485760000000002, -0.055987199999999994), (-0.8388608000000002, -0.033592319999999995), (-0.6710886400000001, -0.020155391999999994), (-0.5368709120000001, -0.012093235199999997), (-0.4294967296000001, -0.007255941119999998), (-0.3435973836800001, -0.004353564671999998), (-0.27487790694400005, -0.0026121388031999987), (-0.21990232555520003, -0.0015672832819199991), (-0.17592186044416003, -0.0009403699691519995), (-0.140737488355328, -0.0005642219814911997), (-0.11258999068426241, -0.00033853318889471976), (-0.09007199254740993, -0.00020311991333683184), (-0.07205759403792794, -0.0001218719480020991), (-0.057646075230342354, -7.312316880125945e-05)]\n",
      "-------- * ----------\n",
      "(-5, -2) (-4.0, -1.2) (-3.2, -0.72) (-2.56, -0.432) (-2.048, -0.2592) (-1.6384, -0.15552) (-1.31072, -0.09331199999999999) (-1.0485760000000002, -0.055987199999999994) (-0.8388608000000002, -0.033592319999999995) (-0.6710886400000001, -0.020155391999999994) (-0.5368709120000001, -0.012093235199999997) (-0.4294967296000001, -0.007255941119999998) (-0.3435973836800001, -0.004353564671999998) (-0.27487790694400005, -0.0026121388031999987) (-0.21990232555520003, -0.0015672832819199991) (-0.17592186044416003, -0.0009403699691519995) (-0.140737488355328, -0.0005642219814911997) (-0.11258999068426241, -0.00033853318889471976) (-0.09007199254740993, -0.00020311991333683184) (-0.07205759403792794, -0.0001218719480020991) (-0.057646075230342354, -7.312316880125945e-05)\n"
     ]
    }
   ],
   "source": [
    "test_print(train_2d(gd_2d))"
   ]
  },
  {
   "cell_type": "code",
   "execution_count": 48,
   "metadata": {
    "ExecuteTime": {
     "end_time": "2021-04-08T09:31:56.386658Z",
     "start_time": "2021-04-08T09:31:56.379657Z"
    },
    "collapsed": true
   },
   "outputs": [],
   "source": [
    "results=[(-5, -2), (-4.0, -1.2), (-3.2, -0.72), (-2.56, -0.432)]"
   ]
  },
  {
   "cell_type": "code",
   "execution_count": 51,
   "metadata": {
    "ExecuteTime": {
     "end_time": "2021-04-08T09:35:11.490817Z",
     "start_time": "2021-04-08T09:35:11.474816Z"
    }
   },
   "outputs": [
    {
     "name": "stdout",
     "output_type": "stream",
     "text": [
      "[(-5, -2), (-4.0, -1.2), (-3.2, -0.72), (-2.56, -0.432)]\n",
      "-------- * ----------\n",
      "(-5, -2) (-4.0, -1.2) (-3.2, -0.72) (-2.56, -0.432)\n",
      "-------- *zip ----------\n",
      "[(-5, -4.0, -3.2, -2.56), (-2, -1.2, -0.72, -0.432)]\n"
     ]
    }
   ],
   "source": [
    "print(results)\n",
    "print('-------- * ----------')\n",
    "print(*results)\n",
    "print('-------- *zip ----------')\n",
    "print([*zip(*results)])"
   ]
  },
  {
   "cell_type": "code",
   "execution_count": 64,
   "metadata": {
    "ExecuteTime": {
     "end_time": "2021-04-08T09:46:10.197493Z",
     "start_time": "2021-04-08T09:46:10.178492Z"
    }
   },
   "outputs": [
    {
     "name": "stdout",
     "output_type": "stream",
     "text": [
      "(-5, -2) (-4.0, -1.2) (-3.2, -0.72) (-2.56, -0.432)\n",
      "\n"
     ]
    }
   ],
   "source": [
    "a=[-5, -4.0, -3.2, -2.56]\n",
    "b=[-2, -1.2, -0.72, -0.432]\n",
    "c=zip(a,b)\n",
    "print(*c)\n",
    "print(*zip(*c))"
   ]
  },
  {
   "cell_type": "code",
   "execution_count": 69,
   "metadata": {
    "ExecuteTime": {
     "end_time": "2021-04-08T10:06:58.830911Z",
     "start_time": "2021-04-08T10:06:58.811909Z"
    }
   },
   "outputs": [
    {
     "data": {
      "text/plain": [
       "(array([[-5.5, -5.4, -5.3, ...,  0.7,  0.8,  0.9],\n",
       "        [-5.5, -5.4, -5.3, ...,  0.7,  0.8,  0.9],\n",
       "        [-5.5, -5.4, -5.3, ...,  0.7,  0.8,  0.9],\n",
       "        ...,\n",
       "        [-5.5, -5.4, -5.3, ...,  0.7,  0.8,  0.9],\n",
       "        [-5.5, -5.4, -5.3, ...,  0.7,  0.8,  0.9],\n",
       "        [-5.5, -5.4, -5.3, ...,  0.7,  0.8,  0.9]]),\n",
       " array([[-3. , -3. , -3. , ..., -3. , -3. , -3. ],\n",
       "        [-2.9, -2.9, -2.9, ..., -2.9, -2.9, -2.9],\n",
       "        [-2.8, -2.8, -2.8, ..., -2.8, -2.8, -2.8],\n",
       "        ...,\n",
       "        [ 0.7,  0.7,  0.7, ...,  0.7,  0.7,  0.7],\n",
       "        [ 0.8,  0.8,  0.8, ...,  0.8,  0.8,  0.8],\n",
       "        [ 0.9,  0.9,  0.9, ...,  0.9,  0.9,  0.9]]))"
      ]
     },
     "execution_count": 69,
     "metadata": {},
     "output_type": "execute_result"
    }
   ],
   "source": [
    "x1,x2=np.meshgrid(np.arange(-5.5,1.0,0.1),np.arange(-3.0,1.0,0.1))\n",
    "x1,x2\n"
   ]
  },
  {
   "cell_type": "code",
   "execution_count": 70,
   "metadata": {
    "ExecuteTime": {
     "end_time": "2021-04-08T10:07:28.166588Z",
     "start_time": "2021-04-08T10:07:28.155588Z"
    }
   },
   "outputs": [
    {
     "data": {
      "text/plain": [
       "40"
      ]
     },
     "execution_count": 70,
     "metadata": {},
     "output_type": "execute_result"
    }
   ],
   "source": [
    "len(x1)"
   ]
  },
  {
   "cell_type": "code",
   "execution_count": 71,
   "metadata": {
    "ExecuteTime": {
     "end_time": "2021-04-08T10:07:44.763538Z",
     "start_time": "2021-04-08T10:07:44.749537Z"
    }
   },
   "outputs": [
    {
     "data": {
      "text/plain": [
       "array([[48.25, 47.16, 46.09, ..., 18.49, 18.64, 18.81],\n",
       "       [47.07, 45.98, 44.91, ..., 17.31, 17.46, 17.63],\n",
       "       [45.93, 44.84, 43.77, ..., 16.17, 16.32, 16.49],\n",
       "       ...,\n",
       "       [31.23, 30.14, 29.07, ...,  1.47,  1.62,  1.79],\n",
       "       [31.53, 30.44, 29.37, ...,  1.77,  1.92,  2.09],\n",
       "       [31.87, 30.78, 29.71, ...,  2.11,  2.26,  2.43]])"
      ]
     },
     "execution_count": 71,
     "metadata": {},
     "output_type": "execute_result"
    }
   ],
   "source": [
    "f_2d(x1,x2)"
   ]
  },
  {
   "cell_type": "code",
   "execution_count": 7,
   "metadata": {
    "ExecuteTime": {
     "end_time": "2021-04-09T06:34:20.486384Z",
     "start_time": "2021-04-09T06:34:20.473383Z"
    },
    "collapsed": true
   },
   "outputs": [],
   "source": [
    "def fun(*args,**kwargs):\n",
    "    print('args= ',args)\n",
    "    print('kwargs= ',kwargs)"
   ]
  },
  {
   "cell_type": "code",
   "execution_count": 8,
   "metadata": {
    "ExecuteTime": {
     "end_time": "2021-04-09T06:34:44.323747Z",
     "start_time": "2021-04-09T06:34:44.312746Z"
    }
   },
   "outputs": [
    {
     "name": "stdout",
     "output_type": "stream",
     "text": [
      "args=  (1, 2, 3, 4)\n",
      "kwargs=  {'A': 'a', 'B': 'b', 'c': 'c'}\n"
     ]
    }
   ],
   "source": [
    "fun(1,2,3,4,A='a',B='b',c='c')"
   ]
  },
  {
   "cell_type": "code",
   "execution_count": 9,
   "metadata": {
    "ExecuteTime": {
     "end_time": "2021-04-09T09:47:07.232964Z",
     "start_time": "2021-04-09T09:47:07.223963Z"
    },
    "collapsed": true
   },
   "outputs": [],
   "source": [
    "def sgd_2d(x1,x2,s1,s2):\n",
    "    return (x1-eta*(2*x1+np.random.normal(0.1)),\n",
    "           x2-eta*(4*x2+np.random.normal(0.1)),0,0)"
   ]
  },
  {
   "cell_type": "code",
   "execution_count": null,
   "metadata": {
    "collapsed": true
   },
   "outputs": [],
   "source": [
    "show_trace_2d(f_2d,train_2d(sgd_2d))"
   ]
  }
 ],
 "metadata": {
  "kernelspec": {
   "display_name": "Python 3",
   "language": "python",
   "name": "python3"
  },
  "language_info": {
   "codemirror_mode": {
    "name": "ipython",
    "version": 3
   },
   "file_extension": ".py",
   "mimetype": "text/x-python",
   "name": "python",
   "nbconvert_exporter": "python",
   "pygments_lexer": "ipython3",
   "version": "3.6.3"
  }
 },
 "nbformat": 4,
 "nbformat_minor": 2
}
