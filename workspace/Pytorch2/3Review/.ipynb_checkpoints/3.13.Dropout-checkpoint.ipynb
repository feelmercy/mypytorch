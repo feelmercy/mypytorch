{
 "cells": [
  {
   "cell_type": "code",
   "execution_count": 1,
   "metadata": {
    "ExecuteTime": {
     "end_time": "2021-08-16T08:17:35.102689Z",
     "start_time": "2021-08-16T08:17:32.895562Z"
    },
    "collapsed": true
   },
   "outputs": [],
   "source": [
    "import torch\n",
    "import torchvision\n",
    "import numpy as np\n",
    "from torch import nn,optim"
   ]
  },
  {
   "cell_type": "code",
   "execution_count": 35,
   "metadata": {
    "ExecuteTime": {
     "end_time": "2021-08-16T09:44:16.382185Z",
     "start_time": "2021-08-16T09:44:16.363184Z"
    },
    "collapsed": true
   },
   "outputs": [],
   "source": [
    "def dropout(x,drop_prob):\n",
    "    x=x.float()\n",
    "    assert 0<=drop_prob<=1\n",
    "    keep_prob = 1-drop_prob\n",
    "    \n",
    "    if keep_prob ==0:\n",
    "        return torch.zeros_like(x)\n",
    "    mask=(torch.randn(x.shape) < keep_prob).float()\n",
    "#     print(mask)\n",
    "    \n",
    "    return mask * x / keep_prob\n"
   ]
  },
  {
   "cell_type": "code",
   "execution_count": 8,
   "metadata": {
    "ExecuteTime": {
     "end_time": "2021-08-16T08:27:11.879678Z",
     "start_time": "2021-08-16T08:27:11.845676Z"
    }
   },
   "outputs": [
    {
     "name": "stdout",
     "output_type": "stream",
     "text": [
      "tensor([[1., 1., 0., 1., 0., 0., 1., 1.],\n",
      "        [1., 0., 1., 1., 1., 1., 1., 1.]])\n"
     ]
    },
    {
     "data": {
      "text/plain": [
       "tensor([[ 0.,  1.,  0.,  3.,  0.,  0.,  6.,  7.],\n",
       "        [ 8.,  0., 10., 11., 12., 13., 14., 15.]])"
      ]
     },
     "execution_count": 8,
     "metadata": {},
     "output_type": "execute_result"
    }
   ],
   "source": [
    "x=torch.arange(16).view(2,8)\n",
    "dropout(x,0)"
   ]
  },
  {
   "cell_type": "code",
   "execution_count": 13,
   "metadata": {
    "ExecuteTime": {
     "end_time": "2021-08-16T08:29:44.944433Z",
     "start_time": "2021-08-16T08:29:44.927432Z"
    }
   },
   "outputs": [
    {
     "name": "stdout",
     "output_type": "stream",
     "text": [
      "tensor([[0., 0., 1., 1., 1., 1., 1., 1.],\n",
      "        [1., 1., 1., 1., 1., 1., 1., 1.]])\n"
     ]
    },
    {
     "data": {
      "text/plain": [
       "tensor([[ 0.0000,  0.0000,  2.6667,  4.0000,  5.3333,  6.6667,  8.0000,  9.3333],\n",
       "        [10.6667, 12.0000, 13.3333, 14.6667, 16.0000, 17.3333, 18.6667, 20.0000]])"
      ]
     },
     "execution_count": 13,
     "metadata": {},
     "output_type": "execute_result"
    }
   ],
   "source": [
    "x=torch.arange(16).view(2,8)\n",
    "dropout(x,0.25)"
   ]
  },
  {
   "cell_type": "code",
   "execution_count": 15,
   "metadata": {
    "ExecuteTime": {
     "end_time": "2021-08-16T08:36:55.458057Z",
     "start_time": "2021-08-16T08:36:55.439056Z"
    }
   },
   "outputs": [
    {
     "name": "stdout",
     "output_type": "stream",
     "text": [
      "tensor([[1., 1., 1., 1., 1., 0., 0., 1.],\n",
      "        [1., 1., 1., 1., 0., 1., 0., 1.]])\n"
     ]
    },
    {
     "data": {
      "text/plain": [
       "tensor([[ 0.0000,  3.3333,  6.6667, 10.0000, 13.3333,  0.0000,  0.0000, 23.3333],\n",
       "        [26.6667, 30.0000, 33.3333, 36.6667,  0.0000, 43.3333,  0.0000, 50.0000]])"
      ]
     },
     "execution_count": 15,
     "metadata": {},
     "output_type": "execute_result"
    }
   ],
   "source": [
    "x=torch.arange(16).view(2,8)\n",
    "dropout(x,0.7)"
   ]
  },
  {
   "cell_type": "code",
   "execution_count": 22,
   "metadata": {
    "ExecuteTime": {
     "end_time": "2021-08-16T08:52:13.442563Z",
     "start_time": "2021-08-16T08:52:13.393560Z"
    }
   },
   "outputs": [],
   "source": [
    "num_inputs,num_outputs,num_hiddens1,num_hiddens2=784,10,256,256\n",
    "w1=torch.Tensor(np.random.normal(0,0.01,size=(num_inputs,num_hiddens1)))\n",
    "w2=torch.Tensor(np.random.normal(0,0.01,size=(num_hiddens1,num_hiddens2)))\n",
    "w3=torch.Tensor(np.random.normal(0,0.01,size=(num_hiddens2,num_outputs)))\n",
    "\n",
    "b1=torch.zeros(num_hiddens1)\n",
    "b2=torch.zeros(num_hiddens2)\n",
    "b3=torch.zeros(num_outputs)\n",
    "\n",
    "params=[w1,b1,w2,b2,w3,b3]\n",
    "for p in params:\n",
    "    p.requires_grad_(requires_grad=True)"
   ]
  },
  {
   "cell_type": "code",
   "execution_count": 36,
   "metadata": {
    "ExecuteTime": {
     "end_time": "2021-08-16T09:44:20.491420Z",
     "start_time": "2021-08-16T09:44:20.461418Z"
    },
    "collapsed": true
   },
   "outputs": [],
   "source": [
    "drop_prob1,drop_prob2=0.2,0.5\n",
    "\n",
    "def net(x,is_training=True):\n",
    "    x=x.view(-1,num_inputs)\n",
    "    h1=(torch.matmul(x,w1)+b1).relu()\n",
    "    if is_training:\n",
    "        h1=dropout(h1,drop_prob1)\n",
    "    h2=(torch.matmul(h1,w2)+b2).relu()\n",
    "    if is_training:\n",
    "        h2=dropout(h2,drop_prob2)\n",
    "    return torch.matmul(h2,w3)+b3"
   ]
  },
  {
   "cell_type": "code",
   "execution_count": 37,
   "metadata": {
    "ExecuteTime": {
     "end_time": "2021-08-16T09:44:20.730433Z",
     "start_time": "2021-08-16T09:44:20.698432Z"
    }
   },
   "outputs": [],
   "source": [
    "def evaluate_acc(data_iter,net):\n",
    "    acc_sum,n=0,0\n",
    "    for x, y in data_iter:\n",
    "        if isinstance(net,torch.nn.Module):\n",
    "            net.eval()\n",
    "            acc_sum +=(net(x).argmax(dim=1)==y).float().sum().item()\n",
    "            net.train()\n",
    "        else:\n",
    "            if('is_training' in net.__code__.co_varnames):\n",
    "                acc_sum +=(net(x,is_training=False).argmax(dim=1)==\n",
    "                           y).float().sum().item()\n",
    "            else:\n",
    "                acc_sum+=(net(x).argmax(dim=1)==y).float().sum().item()\n",
    "        n+=y.shape[0]\n",
    "    return acc_sum /n\n",
    "                "
   ]
  },
  {
   "cell_type": "code",
   "execution_count": 38,
   "metadata": {
    "ExecuteTime": {
     "end_time": "2021-08-16T09:44:20.914444Z",
     "start_time": "2021-08-16T09:44:20.910444Z"
    },
    "collapsed": true
   },
   "outputs": [],
   "source": [
    "from torchvision import transforms"
   ]
  },
  {
   "cell_type": "code",
   "execution_count": 39,
   "metadata": {
    "ExecuteTime": {
     "end_time": "2021-08-16T09:44:21.182459Z",
     "start_time": "2021-08-16T09:44:21.122456Z"
    }
   },
   "outputs": [],
   "source": [
    "batch_size=256\n",
    "mnist_train=torchvision.datasets.FashionMNIST(\n",
    "    root='F:\\study\\ml\\DataSet\\FashionMNIST',train=True,\n",
    "    download=True,transform=transforms.ToTensor())\n",
    "mnist_test=torchvision.datasets.FashionMNIST(\n",
    "    root='F:\\study\\ml\\DataSet\\FashionMNIST',train=False,\n",
    "    download=True,transform=transforms.ToTensor())"
   ]
  },
  {
   "cell_type": "code",
   "execution_count": 40,
   "metadata": {
    "ExecuteTime": {
     "end_time": "2021-08-16T09:44:21.621484Z",
     "start_time": "2021-08-16T09:44:21.615484Z"
    },
    "collapsed": true
   },
   "outputs": [],
   "source": [
    "def sgd(params,lr,batch_size):\n",
    "    for p in params:\n",
    "        p.data -= lr*p.grad/batch_size"
   ]
  },
  {
   "cell_type": "code",
   "execution_count": 41,
   "metadata": {
    "ExecuteTime": {
     "end_time": "2021-08-16T09:44:22.148515Z",
     "start_time": "2021-08-16T09:44:22.090511Z"
    },
    "collapsed": true
   },
   "outputs": [],
   "source": [
    "def train_ch3(net,train_iter,test_iter,loss,num_epochs,batch_size,\n",
    "             params=None,lr=None,optimizer=None):\n",
    "    for epoch in range(num_epochs):\n",
    "        train_l,train_acc,n=0,0,0\n",
    "        for x,y in train_iter:\n",
    "            y_hat=net(x)\n",
    "            l=loss(y_hat,y).sum()\n",
    "            \n",
    "            if optimizer is not None:\n",
    "                optimizer.zero_grad()\n",
    "            elif params is not None and params[0].grad is not None:\n",
    "                for p in params:\n",
    "                    p.grad.data.zero_()\n",
    "            \n",
    "            l.backward()\n",
    "            if optimizer is None:\n",
    "                sgd(params,lr,batch_size)\n",
    "            else:\n",
    "                optimizer.step()\n",
    "            \n",
    "            train_l +=l.item()\n",
    "            train_acc +=(y_hat.argmax(dim=1)==y).sum().item()\n",
    "            n+=y.shape[0]\n",
    "        test_acc=evaluate_acc(test_iter,net)\n",
    "        print('epoch %d,loss %.4f,train acc %.3f,test acc %.3f' % (\n",
    "        epoch +1,train_l/n,train_acc/n,test_acc))\n",
    "            \n",
    "            \n",
    "                \n",
    "                "
   ]
  },
  {
   "cell_type": "code",
   "execution_count": 42,
   "metadata": {
    "ExecuteTime": {
     "end_time": "2021-08-16T09:44:22.739548Z",
     "start_time": "2021-08-16T09:44:22.722547Z"
    },
    "collapsed": true
   },
   "outputs": [],
   "source": [
    "num_epochs,lr,batch_size=5,100,256\n",
    "loss=torch.nn.CrossEntropyLoss()\n",
    "train_iter=torch.utils.data.DataLoader(mnist_train,batch_size,shuffle=True)\n",
    "test_iter=torch.utils.data.DataLoader(mnist_test,batch_size,shuffle=False)\n"
   ]
  },
  {
   "cell_type": "code",
   "execution_count": 43,
   "metadata": {
    "ExecuteTime": {
     "end_time": "2021-08-16T09:45:06.212035Z",
     "start_time": "2021-08-16T09:44:23.311581Z"
    }
   },
   "outputs": [
    {
     "name": "stdout",
     "output_type": "stream",
     "text": [
      "epoch 1,loss 0.0015,train acc 0.859,test acc 0.836\n",
      "epoch 2,loss 0.0014,train acc 0.865,test acc 0.861\n",
      "epoch 3,loss 0.0014,train acc 0.868,test acc 0.833\n",
      "epoch 4,loss 0.0013,train acc 0.873,test acc 0.849\n",
      "epoch 5,loss 0.0013,train acc 0.880,test acc 0.821\n"
     ]
    }
   ],
   "source": [
    "train_ch3(net,train_iter,test_iter,loss,num_epochs,batch_size,params,lr)"
   ]
  },
  {
   "cell_type": "code",
   "execution_count": null,
   "metadata": {
    "collapsed": true
   },
   "outputs": [],
   "source": []
  }
 ],
 "metadata": {
  "kernelspec": {
   "display_name": "Python 3",
   "language": "python",
   "name": "python3"
  },
  "language_info": {
   "codemirror_mode": {
    "name": "ipython",
    "version": 3
   },
   "file_extension": ".py",
   "mimetype": "text/x-python",
   "name": "python",
   "nbconvert_exporter": "python",
   "pygments_lexer": "ipython3",
   "version": "3.6.3"
  }
 },
 "nbformat": 4,
 "nbformat_minor": 2
}
