{
 "cells": [
  {
   "cell_type": "code",
   "execution_count": 1,
   "metadata": {
    "ExecuteTime": {
     "end_time": "2021-08-05T10:11:05.976352Z",
     "start_time": "2021-08-05T10:11:05.673335Z"
    },
    "collapsed": true
   },
   "outputs": [],
   "source": [
    "import torch\n",
    "import numpy as np\n",
    "from torch import nn,optim\n",
    "import torch.utils.data as Data"
   ]
  },
  {
   "cell_type": "code",
   "execution_count": 2,
   "metadata": {
    "ExecuteTime": {
     "end_time": "2021-08-05T10:11:06.692393Z",
     "start_time": "2021-08-05T10:11:06.677392Z"
    }
   },
   "outputs": [],
   "source": [
    "m=1000\n",
    "n=2\n",
    "true_w=[2,-3,4]\n",
    "true_b=4.2\n",
    "features=torch.Tensor(np.random.normal(0,1,(m,n)))\n",
    "labels=true_w[0]*features[:,0]+true_w[1]*features[:,1]+true_b\n",
    "labels+=torch.Tensor(np.random.normal(0,0.01,size=labels.size()))"
   ]
  },
  {
   "cell_type": "code",
   "execution_count": 3,
   "metadata": {
    "ExecuteTime": {
     "end_time": "2021-08-05T10:11:07.298428Z",
     "start_time": "2021-08-05T10:11:07.288427Z"
    },
    "collapsed": true
   },
   "outputs": [],
   "source": [
    "batch_size=10\n",
    "dataset=Data.dataset.TensorDataset(features,labels)\n",
    "data_iter=Data.DataLoader(dataset,batch_size,shuffle=True)"
   ]
  },
  {
   "cell_type": "code",
   "execution_count": 4,
   "metadata": {
    "ExecuteTime": {
     "end_time": "2021-08-05T10:11:08.571501Z",
     "start_time": "2021-08-05T10:11:08.544499Z"
    }
   },
   "outputs": [
    {
     "name": "stdout",
     "output_type": "stream",
     "text": [
      "tensor([[-0.9860,  0.5664],\n",
      "        [-1.0524, -0.9761],\n",
      "        [ 0.5923,  0.3859],\n",
      "        [ 1.9735, -0.2732],\n",
      "        [-0.3130, -0.2272],\n",
      "        [-0.5353,  0.1822],\n",
      "        [ 0.1547, -0.9174],\n",
      "        [-1.3587,  0.4619],\n",
      "        [-0.2315,  1.2047],\n",
      "        [-1.2754, -0.2811]]) tensor([0.5227, 5.0369, 4.2130, 8.9774, 4.2548, 2.5809, 7.2671, 0.1065, 0.1082,\n",
      "        2.4911])\n"
     ]
    }
   ],
   "source": [
    "for X,y in data_iter:\n",
    "    print(X,y)\n",
    "    break"
   ]
  },
  {
   "cell_type": "code",
   "execution_count": 5,
   "metadata": {
    "ExecuteTime": {
     "end_time": "2021-08-05T10:11:11.867689Z",
     "start_time": "2021-08-05T10:11:11.855689Z"
    }
   },
   "outputs": [],
   "source": [
    "lr=0.02\n",
    "net=nn.Sequential(nn.Linear(n,1))\n",
    "optimizer=optim.SGD(net.parameters(),lr=lr)\n",
    "loss=nn.MSELoss()"
   ]
  },
  {
   "cell_type": "code",
   "execution_count": null,
   "metadata": {
    "ExecuteTime": {
     "end_time": "2021-08-05T10:06:57.158121Z",
     "start_time": "2021-08-05T10:06:57.127119Z"
    }
   },
   "outputs": [],
   "source": [
    "from torch.nn import init\n",
    "init.normal_(net[0].weight,mean=0,std=0.01)\n",
    "init.constant_(net[0].bias,val=0)"
   ]
  },
  {
   "cell_type": "code",
   "execution_count": 6,
   "metadata": {
    "ExecuteTime": {
     "end_time": "2021-08-05T10:11:15.138876Z",
     "start_time": "2021-08-05T10:11:15.112875Z"
    }
   },
   "outputs": [
    {
     "data": {
      "text/plain": [
       "Sequential(\n",
       "  (0): Linear(in_features=2, out_features=1, bias=True)\n",
       ")"
      ]
     },
     "execution_count": 6,
     "metadata": {},
     "output_type": "execute_result"
    }
   ],
   "source": [
    "net"
   ]
  },
  {
   "cell_type": "code",
   "execution_count": 7,
   "metadata": {
    "ExecuteTime": {
     "end_time": "2021-08-05T10:11:18.140048Z",
     "start_time": "2021-08-05T10:11:18.009041Z"
    }
   },
   "outputs": [
    {
     "name": "stdout",
     "output_type": "stream",
     "text": [
      "epoch 1,loss: 0.024783\n",
      "epoch 2,loss: 0.025343\n",
      "epoch 3,loss: 0.025355\n"
     ]
    }
   ],
   "source": [
    "epoch_num=3\n",
    "for e in range(1,epoch_num+1):\n",
    "    for X,y in data_iter:\n",
    "        l=loss(net(X),y.view(-1,1))\n",
    "        optimizer.zero_grad()\n",
    "        l.backward()\n",
    "        optimizer.step()\n",
    "    eloss=loss(net(features),labels).item()/m\n",
    "    print('epoch %d,loss: %f' % (e,eloss))\n",
    "        "
   ]
  },
  {
   "cell_type": "code",
   "execution_count": null,
   "metadata": {
    "collapsed": true
   },
   "outputs": [],
   "source": []
  },
  {
   "cell_type": "code",
   "execution_count": null,
   "metadata": {
    "collapsed": true
   },
   "outputs": [],
   "source": []
  },
  {
   "cell_type": "code",
   "execution_count": null,
   "metadata": {
    "collapsed": true
   },
   "outputs": [],
   "source": []
  },
  {
   "cell_type": "code",
   "execution_count": null,
   "metadata": {
    "collapsed": true
   },
   "outputs": [],
   "source": []
  }
 ],
 "metadata": {
  "kernelspec": {
   "display_name": "Python 3",
   "language": "python",
   "name": "python3"
  },
  "language_info": {
   "codemirror_mode": {
    "name": "ipython",
    "version": 3
   },
   "file_extension": ".py",
   "mimetype": "text/x-python",
   "name": "python",
   "nbconvert_exporter": "python",
   "pygments_lexer": "ipython3",
   "version": "3.6.3"
  }
 },
 "nbformat": 4,
 "nbformat_minor": 2
}
