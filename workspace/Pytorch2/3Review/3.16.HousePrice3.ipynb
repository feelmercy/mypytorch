{
 "cells": [
  {
   "cell_type": "code",
   "execution_count": 1,
   "metadata": {
    "ExecuteTime": {
     "end_time": "2021-08-25T03:19:04.922212Z",
     "start_time": "2021-08-25T03:19:04.191171Z"
    },
    "collapsed": true
   },
   "outputs": [],
   "source": [
    "import torch\n",
    "import torchvision\n",
    "import numpy as np\n",
    "from torch import nn,optim\n",
    "import pandas as pd"
   ]
  },
  {
   "cell_type": "code",
   "execution_count": 2,
   "metadata": {
    "ExecuteTime": {
     "end_time": "2021-08-25T03:19:05.418241Z",
     "start_time": "2021-08-25T03:19:05.354237Z"
    },
    "collapsed": true
   },
   "outputs": [],
   "source": [
    "train_data=pd.read_csv(r'F:\\study\\ml\\DataSet\\House_Prices\\train.csv')\n",
    "test_data=pd.read_csv(r'F:\\study\\ml\\DataSet\\House_Prices\\test.csv')"
   ]
  },
  {
   "cell_type": "markdown",
   "metadata": {},
   "source": [
    "pre-processing data"
   ]
  },
  {
   "cell_type": "code",
   "execution_count": 3,
   "metadata": {
    "ExecuteTime": {
     "end_time": "2021-08-25T03:19:06.315292Z",
     "start_time": "2021-08-25T03:19:06.279290Z"
    },
    "collapsed": true
   },
   "outputs": [],
   "source": [
    "all_features=pd.concat((train_data.iloc[:,1:-1],test_data.iloc[:,1:]))"
   ]
  },
  {
   "cell_type": "code",
   "execution_count": 4,
   "metadata": {
    "ExecuteTime": {
     "end_time": "2021-08-25T03:19:06.701314Z",
     "start_time": "2021-08-25T03:19:06.679313Z"
    }
   },
   "outputs": [
    {
     "data": {
      "text/plain": [
       "Index(['MSSubClass', 'LotFrontage', 'LotArea', 'OverallQual', 'OverallCond',\n",
       "       'YearBuilt', 'YearRemodAdd', 'MasVnrArea', 'BsmtFinSF1', 'BsmtFinSF2',\n",
       "       'BsmtUnfSF', 'TotalBsmtSF', '1stFlrSF', '2ndFlrSF', 'LowQualFinSF',\n",
       "       'GrLivArea', 'BsmtFullBath', 'BsmtHalfBath', 'FullBath', 'HalfBath',\n",
       "       'BedroomAbvGr', 'KitchenAbvGr', 'TotRmsAbvGrd', 'Fireplaces',\n",
       "       'GarageYrBlt', 'GarageCars', 'GarageArea', 'WoodDeckSF', 'OpenPorchSF',\n",
       "       'EnclosedPorch', '3SsnPorch', 'ScreenPorch', 'PoolArea', 'MiscVal',\n",
       "       'MoSold', 'YrSold'],\n",
       "      dtype='object')"
      ]
     },
     "execution_count": 4,
     "metadata": {},
     "output_type": "execute_result"
    }
   ],
   "source": [
    "numeric_features=all_features.dtypes[all_features.dtypes !='object'].index\n",
    "numeric_features"
   ]
  },
  {
   "cell_type": "code",
   "execution_count": 5,
   "metadata": {
    "ExecuteTime": {
     "end_time": "2021-08-25T03:19:07.180341Z",
     "start_time": "2021-08-25T03:19:07.138339Z"
    },
    "collapsed": true
   },
   "outputs": [],
   "source": [
    "all_features[numeric_features]=all_features[numeric_features].apply(\n",
    "lambda x: (x-x.mean()) / x.std())"
   ]
  },
  {
   "cell_type": "code",
   "execution_count": 6,
   "metadata": {
    "ExecuteTime": {
     "end_time": "2021-08-25T03:19:07.833379Z",
     "start_time": "2021-08-25T03:19:07.798377Z"
    }
   },
   "outputs": [
    {
     "data": {
      "text/plain": [
       "MSSubClass          0\n",
       "MSZoning            4\n",
       "LotFrontage       486\n",
       "LotArea             0\n",
       "Street              0\n",
       "Alley            2721\n",
       "LotShape            0\n",
       "LandContour         0\n",
       "Utilities           2\n",
       "LotConfig           0\n",
       "LandSlope           0\n",
       "Neighborhood        0\n",
       "Condition1          0\n",
       "Condition2          0\n",
       "BldgType            0\n",
       "HouseStyle          0\n",
       "OverallQual         0\n",
       "OverallCond         0\n",
       "YearBuilt           0\n",
       "YearRemodAdd        0\n",
       "RoofStyle           0\n",
       "RoofMatl            0\n",
       "Exterior1st         1\n",
       "Exterior2nd         1\n",
       "MasVnrType         24\n",
       "MasVnrArea         23\n",
       "ExterQual           0\n",
       "ExterCond           0\n",
       "Foundation          0\n",
       "BsmtQual           81\n",
       "                 ... \n",
       "HalfBath            0\n",
       "BedroomAbvGr        0\n",
       "KitchenAbvGr        0\n",
       "KitchenQual         1\n",
       "TotRmsAbvGrd        0\n",
       "Functional          2\n",
       "Fireplaces          0\n",
       "FireplaceQu      1420\n",
       "GarageType        157\n",
       "GarageYrBlt       159\n",
       "GarageFinish      159\n",
       "GarageCars          1\n",
       "GarageArea          1\n",
       "GarageQual        159\n",
       "GarageCond        159\n",
       "PavedDrive          0\n",
       "WoodDeckSF          0\n",
       "OpenPorchSF         0\n",
       "EnclosedPorch       0\n",
       "3SsnPorch           0\n",
       "ScreenPorch         0\n",
       "PoolArea            0\n",
       "PoolQC           2909\n",
       "Fence            2348\n",
       "MiscFeature      2814\n",
       "MiscVal             0\n",
       "MoSold              0\n",
       "YrSold              0\n",
       "SaleType            1\n",
       "SaleCondition       0\n",
       "Length: 79, dtype: int64"
      ]
     },
     "execution_count": 6,
     "metadata": {},
     "output_type": "execute_result"
    }
   ],
   "source": [
    "all_features.isnull().sum()"
   ]
  },
  {
   "cell_type": "code",
   "execution_count": 7,
   "metadata": {
    "ExecuteTime": {
     "end_time": "2021-08-25T03:19:08.590422Z",
     "start_time": "2021-08-25T03:19:08.562421Z"
    },
    "collapsed": true
   },
   "outputs": [],
   "source": [
    "all_features=all_features.fillna(0)"
   ]
  },
  {
   "cell_type": "code",
   "execution_count": 8,
   "metadata": {
    "ExecuteTime": {
     "end_time": "2021-08-25T03:19:09.401469Z",
     "start_time": "2021-08-25T03:19:09.390468Z"
    }
   },
   "outputs": [
    {
     "data": {
      "text/plain": [
       "(2919, 79)"
      ]
     },
     "execution_count": 8,
     "metadata": {},
     "output_type": "execute_result"
    }
   ],
   "source": [
    "all_features.shape"
   ]
  },
  {
   "cell_type": "code",
   "execution_count": 9,
   "metadata": {
    "ExecuteTime": {
     "end_time": "2021-08-25T03:19:10.723544Z",
     "start_time": "2021-08-25T03:19:10.663541Z"
    },
    "collapsed": true
   },
   "outputs": [],
   "source": [
    "all_features=pd.get_dummies(all_features,dummy_na=True)"
   ]
  },
  {
   "cell_type": "code",
   "execution_count": 10,
   "metadata": {
    "ExecuteTime": {
     "end_time": "2021-08-25T03:19:11.374581Z",
     "start_time": "2021-08-25T03:19:11.366581Z"
    }
   },
   "outputs": [
    {
     "data": {
      "text/plain": [
       "(2919, 354)"
      ]
     },
     "execution_count": 10,
     "metadata": {},
     "output_type": "execute_result"
    }
   ],
   "source": [
    "all_features.shape"
   ]
  },
  {
   "cell_type": "markdown",
   "metadata": {},
   "source": [
    "dataframe -> tensor"
   ]
  },
  {
   "cell_type": "code",
   "execution_count": 11,
   "metadata": {
    "ExecuteTime": {
     "end_time": "2021-08-25T03:19:12.621653Z",
     "start_time": "2021-08-25T03:19:12.575650Z"
    },
    "collapsed": true
   },
   "outputs": [],
   "source": [
    "n_train=train_data.shape[0]\n",
    "train_features=torch.Tensor(all_features.iloc[:n_train,:].values)\n",
    "test_features=torch.Tensor(all_features.iloc[n_train:,:].values)\n",
    "train_labels=torch.Tensor(train_data.SalePrice.values).view(-1,1)"
   ]
  },
  {
   "cell_type": "code",
   "execution_count": 12,
   "metadata": {
    "ExecuteTime": {
     "end_time": "2021-08-25T03:19:13.040677Z",
     "start_time": "2021-08-25T03:19:13.030676Z"
    }
   },
   "outputs": [
    {
     "data": {
      "text/plain": [
       "torch.Size([1460, 354])"
      ]
     },
     "execution_count": 12,
     "metadata": {},
     "output_type": "execute_result"
    }
   ],
   "source": [
    "train_features.shape"
   ]
  },
  {
   "cell_type": "code",
   "execution_count": 13,
   "metadata": {
    "ExecuteTime": {
     "end_time": "2021-08-25T03:19:13.793720Z",
     "start_time": "2021-08-25T03:19:13.782719Z"
    }
   },
   "outputs": [
    {
     "data": {
      "text/plain": [
       "torch.Size([1459, 354])"
      ]
     },
     "execution_count": 13,
     "metadata": {},
     "output_type": "execute_result"
    }
   ],
   "source": [
    "test_features.shape"
   ]
  },
  {
   "cell_type": "code",
   "execution_count": 14,
   "metadata": {
    "ExecuteTime": {
     "end_time": "2021-08-25T03:19:14.657769Z",
     "start_time": "2021-08-25T03:19:14.646769Z"
    }
   },
   "outputs": [
    {
     "data": {
      "text/plain": [
       "torch.Size([1460, 1])"
      ]
     },
     "execution_count": 14,
     "metadata": {},
     "output_type": "execute_result"
    }
   ],
   "source": [
    "train_labels.shape"
   ]
  },
  {
   "cell_type": "markdown",
   "metadata": {},
   "source": [
    "define net and func"
   ]
  },
  {
   "cell_type": "code",
   "execution_count": 15,
   "metadata": {
    "ExecuteTime": {
     "end_time": "2021-08-25T03:19:19.358038Z",
     "start_time": "2021-08-25T03:19:19.352038Z"
    },
    "collapsed": true
   },
   "outputs": [],
   "source": [
    "loss=nn.MSELoss()"
   ]
  },
  {
   "cell_type": "code",
   "execution_count": 16,
   "metadata": {
    "ExecuteTime": {
     "end_time": "2021-08-25T03:19:24.757347Z",
     "start_time": "2021-08-25T03:19:24.743346Z"
    },
    "collapsed": true
   },
   "outputs": [],
   "source": [
    "def get_net(feature_num):\n",
    "    net=nn.Linear(feature_num,1)\n",
    "    for p in net.parameters():\n",
    "        nn.init.normal_(p,mean=0,std=0.01)\n",
    "    return net\n",
    "    "
   ]
  },
  {
   "cell_type": "code",
   "execution_count": 38,
   "metadata": {
    "ExecuteTime": {
     "end_time": "2021-08-25T03:28:07.858266Z",
     "start_time": "2021-08-25T03:28:07.840265Z"
    },
    "collapsed": true
   },
   "outputs": [],
   "source": [
    "def log_rmse(net,features,labels):\n",
    "    with torch.no_grad():\n",
    "        clipped_pred=torch.max(net(features),torch.Tensor([1.]))\n",
    "#         print('clip_prede ',clipped_pred.shape)\n",
    "#         print('labels ',labels.shape)\n",
    "        rmse=torch.sqrt(2*(loss(clipped_pred.log(),labels.log())).mean())\n",
    "    return rmse.item()"
   ]
  },
  {
   "cell_type": "code",
   "execution_count": 49,
   "metadata": {
    "ExecuteTime": {
     "end_time": "2021-08-25T03:31:42.568547Z",
     "start_time": "2021-08-25T03:31:42.520544Z"
    },
    "collapsed": true
   },
   "outputs": [],
   "source": [
    "def train(net,train_features,train_labels,test_features,test_labels,\n",
    "         num_epochs,lr,weight_decay,batch_size):\n",
    "#     print('--------------train--------------')\n",
    "#     print('train_features shape',train_features.shape)\n",
    "#     print('train_labels shape',train_labels.shape)\n",
    "#     print('test_features shape',test_features.shape)\n",
    "#     print('test_labels shape',test_labels.shape)\n",
    "#     print('---------------train-------------')\n",
    "    train_l,test_l=[],[]\n",
    "    dataset=torch.utils.data.TensorDataset(train_features,train_labels)\n",
    "    train_iter=torch.utils.data.DataLoader(dataset,batch_size,shuffle=True)\n",
    "    optimizer=optim.Adam(net.parameters(),lr,weight_decay=weight_decay)\n",
    "#     net=net.float()\n",
    "    for i in range(num_epochs):\n",
    "        for x,y in train_iter:\n",
    "#             l=loss(net(x).float(),y.float())\n",
    "            l=loss(net(x),y)\n",
    "            optimizer.zero_grad()\n",
    "            l.backward()\n",
    "            optimizer.step()\n",
    "        train_l.append(log_rmse(net,train_features,train_labels))\n",
    "        if test_labels is not None:\n",
    "            test_l.append(log_rmse(net,test_features,test_labels))\n",
    "    return train_l,test_l\n",
    "            "
   ]
  },
  {
   "cell_type": "code",
   "execution_count": 50,
   "metadata": {
    "ExecuteTime": {
     "end_time": "2021-08-25T03:31:43.275588Z",
     "start_time": "2021-08-25T03:31:43.224585Z"
    },
    "collapsed": true
   },
   "outputs": [],
   "source": [
    "def get_k_fold_data(k,i,x,y):\n",
    "    assert k >1\n",
    "    fold_size=x.shape[0]//k\n",
    "    x_train,y_train=None,None\n",
    "    for j in range(k):\n",
    "        idx=slice(j*fold_size,(j+1)*fold_size)\n",
    "        x_part,y_part=x[idx,:],y[idx]\n",
    "        \n",
    "        if j==i:\n",
    "            x_valid,y_valid=x_part,y_part\n",
    "        elif x_train is None:\n",
    "            x_train,y_train=x_part,y_part\n",
    "        else:\n",
    "            x_train=torch.cat((x_train,x_part))\n",
    "            y_train=torch.cat((y_train,y_part))\n",
    "#     print('----------------------------')\n",
    "#     print('x_train shape',x_train.shape)\n",
    "#     print('y_train shape',y_train.shape)\n",
    "#     print('x_valid shape',x_valid.shape)\n",
    "#     print('y_valid shape',y_valid.shape)\n",
    "#     print('----------------------------')\n",
    "    return x_train,y_train,x_valid,y_valid\n"
   ]
  },
  {
   "cell_type": "code",
   "execution_count": 51,
   "metadata": {
    "ExecuteTime": {
     "end_time": "2021-08-25T03:31:43.757615Z",
     "start_time": "2021-08-25T03:31:43.727614Z"
    },
    "collapsed": true
   },
   "outputs": [],
   "source": [
    "def k_fold(k,x_train,y_train,num_epochs,lr,weight_decay,batch_size):\n",
    "    train_l_sum,valid_l_sum=0,0\n",
    "    for i in range(k):\n",
    "        data=get_k_fold_data(k,i,x_train,y_train)\n",
    "        net=get_net(x_train.shape[1])\n",
    "        train_l,valid_l=train(net,*data,num_epochs,lr,weight_decay,batch_size)\n",
    "        train_l_sum+=train_l[-1]\n",
    "        valid_l_sum+=valid_l[-1]\n",
    "        \n",
    "        print('fold %d,train rmse %f,valid %f' % (\n",
    "        i+1,train_l[-1],valid_l[-1]))\n",
    "    return train_l_sum,valid_l_sum\n",
    "        \n",
    "        "
   ]
  },
  {
   "cell_type": "code",
   "execution_count": 52,
   "metadata": {
    "ExecuteTime": {
     "end_time": "2021-08-25T03:31:44.238643Z",
     "start_time": "2021-08-25T03:31:44.231642Z"
    },
    "collapsed": true
   },
   "outputs": [],
   "source": [
    "k,num_epochs,lr,weight_decay,batch_size=5,100,5,0,64"
   ]
  },
  {
   "cell_type": "code",
   "execution_count": 53,
   "metadata": {
    "ExecuteTime": {
     "end_time": "2021-08-25T03:31:51.964085Z",
     "start_time": "2021-08-25T03:31:44.817676Z"
    }
   },
   "outputs": [
    {
     "name": "stdout",
     "output_type": "stream",
     "text": [
      "fold 1,train rmse 0.240412,valid 0.221117\n",
      "fold 2,train rmse 0.228891,valid 0.266901\n",
      "fold 3,train rmse 0.231674,valid 0.237498\n",
      "fold 4,train rmse 0.238200,valid 0.219113\n",
      "fold 5,train rmse 0.231010,valid 0.258768\n",
      "5 fold validation : avg train rmse 0.234037, avg valid rmse 0.240679\n"
     ]
    }
   ],
   "source": [
    "train_l_sum,valid_l_sum=k_fold(k,train_features,train_labels,num_epochs,\n",
    "                          lr,weight_decay,batch_size)\n",
    "print('%d fold validation : avg train rmse %f, avg valid rmse %f' % (\n",
    "k,train_l_sum/k,valid_l_sum/k))"
   ]
  },
  {
   "cell_type": "code",
   "execution_count": 54,
   "metadata": {
    "ExecuteTime": {
     "end_time": "2021-08-25T08:29:44.245321Z",
     "start_time": "2021-08-25T08:29:44.207318Z"
    },
    "collapsed": true
   },
   "outputs": [],
   "source": [
    "def train_and_pred(train_features,test_features,train_labels,test_data,\n",
    "                  num_epochs,lr,weight_decay,batch_size):\n",
    "    net=get_net(train_features.shape[1])\n",
    "    train_ls,_ = train(net,train_features,train_labels,None,None,\n",
    "                      num_epochs,lr,weight_decay,batch_size)\n",
    "    print('train rmse  %f ' % (train_ls[-1]))\n",
    "    preds=net(test_features).detach().numpy()\n",
    "    print('pred shape :',preds.shape)\n",
    "    test_data['SalePrice']=pd.Series(preds.reshape(1,-1)[0])\n",
    "    submission=pd.concat([test_data['Id'],test_data['SalePrice']],axis=1)\n",
    "    submission.to_csv(r'F:\\study\\ml\\DataSet\\HousePrice\\submission.csv',index=False)"
   ]
  },
  {
   "cell_type": "code",
   "execution_count": 55,
   "metadata": {
    "ExecuteTime": {
     "end_time": "2021-08-25T08:30:34.084171Z",
     "start_time": "2021-08-25T08:30:32.047055Z"
    }
   },
   "outputs": [
    {
     "name": "stdout",
     "output_type": "stream",
     "text": [
      "train rmse  0.229397 \n",
      "pred shape : (1459, 1)\n"
     ]
    }
   ],
   "source": [
    "train_and_pred(train_features, test_features, train_labels,test_data, num_epochs, lr, weight_decay, batch_size)"
   ]
  },
  {
   "cell_type": "code",
   "execution_count": 61,
   "metadata": {
    "ExecuteTime": {
     "end_time": "2021-08-25T08:35:04.381631Z",
     "start_time": "2021-08-25T08:35:04.368631Z"
    }
   },
   "outputs": [
    {
     "data": {
      "text/plain": [
       "0    1\n",
       "1    2\n",
       "2    3\n",
       "3    4\n",
       "4    5\n",
       "5    6\n",
       "dtype: int32"
      ]
     },
     "execution_count": 61,
     "metadata": {},
     "output_type": "execute_result"
    }
   ],
   "source": [
    "pd.Series(np.array([1,2,3,4,5,6]).reshape(1,-1)[0])"
   ]
  },
  {
   "cell_type": "code",
   "execution_count": 62,
   "metadata": {
    "ExecuteTime": {
     "end_time": "2021-08-25T08:36:30.450554Z",
     "start_time": "2021-08-25T08:36:30.439554Z"
    }
   },
   "outputs": [
    {
     "data": {
      "text/plain": [
       "array([[1],\n",
       "       [2],\n",
       "       [3],\n",
       "       [4],\n",
       "       [5],\n",
       "       [6]])"
      ]
     },
     "execution_count": 62,
     "metadata": {},
     "output_type": "execute_result"
    }
   ],
   "source": [
    "a=np.array([1,2,3,4,5,6]).reshape(-1,1)\n",
    "a"
   ]
  },
  {
   "cell_type": "code",
   "execution_count": 63,
   "metadata": {
    "ExecuteTime": {
     "end_time": "2021-08-25T08:36:36.769916Z",
     "start_time": "2021-08-25T08:36:36.758915Z"
    }
   },
   "outputs": [
    {
     "data": {
      "text/plain": [
       "array([1, 2, 3, 4, 5, 6])"
      ]
     },
     "execution_count": 63,
     "metadata": {},
     "output_type": "execute_result"
    }
   ],
   "source": [
    "a.flatten()"
   ]
  },
  {
   "cell_type": "code",
   "execution_count": null,
   "metadata": {
    "collapsed": true
   },
   "outputs": [],
   "source": []
  }
 ],
 "metadata": {
  "kernelspec": {
   "display_name": "Python 3",
   "language": "python",
   "name": "python3"
  },
  "language_info": {
   "codemirror_mode": {
    "name": "ipython",
    "version": 3
   },
   "file_extension": ".py",
   "mimetype": "text/x-python",
   "name": "python",
   "nbconvert_exporter": "python",
   "pygments_lexer": "ipython3",
   "version": "3.6.3"
  }
 },
 "nbformat": 4,
 "nbformat_minor": 2
}
