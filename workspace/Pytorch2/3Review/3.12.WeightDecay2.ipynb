{
 "cells": [
  {
   "cell_type": "code",
   "execution_count": 1,
   "metadata": {
    "ExecuteTime": {
     "end_time": "2021-08-17T01:48:28.431828Z",
     "start_time": "2021-08-17T01:48:26.568722Z"
    },
    "collapsed": true
   },
   "outputs": [],
   "source": [
    "import torch\n",
    "import torchvision\n",
    "import numpy as np\n",
    "from torch import nn,optim"
   ]
  },
  {
   "cell_type": "code",
   "execution_count": 3,
   "metadata": {
    "ExecuteTime": {
     "end_time": "2021-08-17T03:07:56.825565Z",
     "start_time": "2021-08-17T03:07:56.710558Z"
    }
   },
   "outputs": [],
   "source": [
    "n_train,n_test,num_inputs=20,100,200\n",
    "true_w,true_b=torch.ones(num_inputs,1)*0.01 ,0.05\n",
    "\n",
    "features=torch.randn((n_train+n_test,num_inputs))\n",
    "labels= torch.matmul(features,true_w)+true_b\n",
    "labels+=torch.Tensor(np.random.normal(0,0.01,size=labels.size()))\n",
    "train_features,test_features=features[:n_train],features[n_train:]\n",
    "train_labels,test_labels=labels[:n_train],labels[n_train:]"
   ]
  },
  {
   "cell_type": "code",
   "execution_count": 4,
   "metadata": {
    "ExecuteTime": {
     "end_time": "2021-08-17T03:10:24.473010Z",
     "start_time": "2021-08-17T03:10:24.461009Z"
    },
    "collapsed": true
   },
   "outputs": [],
   "source": [
    "def init_params():\n",
    "    w=torch.randn((num_inputs,1),requires_grad=True)\n",
    "    b=torch.zeros(1,requires_grad=True)\n",
    "    return [w,b]"
   ]
  },
  {
   "cell_type": "code",
   "execution_count": 5,
   "metadata": {
    "ExecuteTime": {
     "end_time": "2021-08-17T03:11:02.900208Z",
     "start_time": "2021-08-17T03:11:02.893207Z"
    },
    "collapsed": true
   },
   "outputs": [],
   "source": [
    "def l2_penalty(w):\n",
    "    return (w**2).sum()/2"
   ]
  },
  {
   "cell_type": "code",
   "execution_count": 6,
   "metadata": {
    "ExecuteTime": {
     "end_time": "2021-08-17T03:12:03.404668Z",
     "start_time": "2021-08-17T03:12:03.396668Z"
    },
    "collapsed": true
   },
   "outputs": [],
   "source": [
    "def net(x,w,b):\n",
    "    return torch.mm(x,w)+b"
   ]
  },
  {
   "cell_type": "code",
   "execution_count": 7,
   "metadata": {
    "ExecuteTime": {
     "end_time": "2021-08-17T03:13:48.381673Z",
     "start_time": "2021-08-17T03:13:48.372672Z"
    },
    "collapsed": true
   },
   "outputs": [],
   "source": [
    "def squared_loss(y_hat,y):\n",
    "    return (y_hat-y.view(y_hat.size()))**2/2"
   ]
  },
  {
   "cell_type": "code",
   "execution_count": 11,
   "metadata": {
    "ExecuteTime": {
     "end_time": "2021-08-17T03:22:26.007279Z",
     "start_time": "2021-08-17T03:22:25.998279Z"
    }
   },
   "outputs": [],
   "source": [
    "def sgd(params,lr,batch_size):\n",
    "    for p in params:\n",
    "        p.data -= lr*p.grad/batch_size"
   ]
  },
  {
   "cell_type": "code",
   "execution_count": 8,
   "metadata": {
    "ExecuteTime": {
     "end_time": "2021-08-17T03:13:59.807326Z",
     "start_time": "2021-08-17T03:13:59.797326Z"
    },
    "collapsed": true
   },
   "outputs": [],
   "source": [
    "batch_size,num_epochs,lr=1,100,0.003\n",
    "net=net\n",
    "loss=squared_loss"
   ]
  },
  {
   "cell_type": "code",
   "execution_count": 9,
   "metadata": {
    "ExecuteTime": {
     "end_time": "2021-08-17T03:19:27.063044Z",
     "start_time": "2021-08-17T03:19:27.053044Z"
    },
    "collapsed": true
   },
   "outputs": [],
   "source": [
    "dataset=torch.utils.data.TensorDataset(train_features,train_labels)\n",
    "train_iter=torch.utils.data.DataLoader(dataset,batch_size,shuffle=True)"
   ]
  },
  {
   "cell_type": "code",
   "execution_count": 28,
   "metadata": {
    "ExecuteTime": {
     "end_time": "2021-08-17T07:16:33.517751Z",
     "start_time": "2021-08-17T07:16:33.473748Z"
    },
    "collapsed": true
   },
   "outputs": [],
   "source": [
    "def fit_and_plot(ld):\n",
    "    w,b=init_params()\n",
    "    train_ls,test_ls=[],[]\n",
    "    for _ in range(num_epochs):\n",
    "        for x,y in train_iter:\n",
    "            l=loss(net(x,w,b),y)+ld*l2_penalty(w)\n",
    "            l=l.sum()\n",
    "            \n",
    "            if w.grad is not None:\n",
    "                w.grad.data.zero_()\n",
    "                b.grad.data.zero_()\n",
    "            l.backward()\n",
    "            sgd([w,b],lr,batch_size)\n",
    "        train_ls.append(loss(net(train_features,w,b),train_labels).mean().item())\n",
    "        test_ls.append(loss(net(test_features,w,b),test_labels).mean().item())\n",
    "    print('L2 norm of w',w.norm().item())\n",
    "    print('true_w norm of w',((true_w**2).sum())**(1/2))"
   ]
  },
  {
   "cell_type": "code",
   "execution_count": 29,
   "metadata": {
    "ExecuteTime": {
     "end_time": "2021-08-17T07:16:34.959833Z",
     "start_time": "2021-08-17T07:16:34.153787Z"
    }
   },
   "outputs": [
    {
     "name": "stdout",
     "output_type": "stream",
     "text": [
      "L2 norm of w 12.246352195739746\n",
      "true_w norm of w tensor(0.1414)\n"
     ]
    }
   ],
   "source": [
    "fit_and_plot(ld=0)"
   ]
  },
  {
   "cell_type": "code",
   "execution_count": 30,
   "metadata": {
    "ExecuteTime": {
     "end_time": "2021-08-17T07:16:37.460976Z",
     "start_time": "2021-08-17T07:16:37.448976Z"
    }
   },
   "outputs": [
    {
     "data": {
      "text/plain": [
       "tensor(0.1414)"
      ]
     },
     "execution_count": 30,
     "metadata": {},
     "output_type": "execute_result"
    }
   ],
   "source": [
    "((true_w**2).sum())**(1/2)"
   ]
  },
  {
   "cell_type": "code",
   "execution_count": 27,
   "metadata": {
    "ExecuteTime": {
     "end_time": "2021-08-17T07:00:46.453582Z",
     "start_time": "2021-08-17T07:00:46.449582Z"
    }
   },
   "outputs": [
    {
     "data": {
      "text/plain": [
       "tensor(0.1414)"
      ]
     },
     "execution_count": 27,
     "metadata": {},
     "output_type": "execute_result"
    }
   ],
   "source": [
    "true_w.norm()"
   ]
  },
  {
   "cell_type": "markdown",
   "metadata": {},
   "source": [
    "weight decay by pytorch"
   ]
  },
  {
   "cell_type": "code",
   "execution_count": 33,
   "metadata": {
    "ExecuteTime": {
     "end_time": "2021-08-17T07:17:17.224251Z",
     "start_time": "2021-08-17T07:17:17.161247Z"
    },
    "collapsed": true
   },
   "outputs": [],
   "source": [
    "def fit_and_plot_pytorch(wd):\n",
    "    net=nn.Linear(num_inputs,1)\n",
    "    nn.init.normal_(net.weight,mean=0,std=1)\n",
    "    nn.init.normal_(net.bias,mean=0,std=1)\n",
    "    optimizer_w=torch.optim.SGD(params=[net.weight],lr=lr,weight_decay=wd)\n",
    "    optimizer_b=torch.optim.SGD(params=[net.bias],lr=lr)\n",
    "    \n",
    "    train_ls,test_ls=[],[]\n",
    "    for _ in range(num_epochs):\n",
    "        for x,y in train_iter:\n",
    "            l=loss(net(x),y).mean()\n",
    "            \n",
    "            optimizer_w.zero_grad()\n",
    "            optimizer_b.zero_grad()\n",
    "            \n",
    "            l.backward()\n",
    "            \n",
    "            optimizer_w.step()\n",
    "            optimizer_b.step()\n",
    "        train_ls.append(loss(net(train_features),train_labels).mean().item())\n",
    "        test_ls.append(loss(net(test_features),test_labels).mean().item())\n",
    "    print('l2 norm of w ',net.weight.data.norm().item())\n",
    "    print('l2 norm of true_w ',true_w.norm())\n",
    "            \n",
    "            \n",
    "            "
   ]
  },
  {
   "cell_type": "code",
   "execution_count": 34,
   "metadata": {
    "ExecuteTime": {
     "end_time": "2021-08-17T07:17:18.212307Z",
     "start_time": "2021-08-17T07:17:17.612273Z"
    }
   },
   "outputs": [
    {
     "name": "stdout",
     "output_type": "stream",
     "text": [
      "l2 norm of w  12.520109176635742\n",
      "l2 norm of true_w  tensor(0.1414)\n"
     ]
    }
   ],
   "source": [
    "fit_and_plot_pytorch(0)"
   ]
  },
  {
   "cell_type": "code",
   "execution_count": 35,
   "metadata": {
    "ExecuteTime": {
     "end_time": "2021-08-17T07:17:26.675791Z",
     "start_time": "2021-08-17T07:17:26.116759Z"
    }
   },
   "outputs": [
    {
     "name": "stdout",
     "output_type": "stream",
     "text": [
      "l2 norm of w  0.10526750236749649\n",
      "l2 norm of true_w  tensor(0.1414)\n"
     ]
    }
   ],
   "source": [
    "fit_and_plot_pytorch(3)"
   ]
  },
  {
   "cell_type": "code",
   "execution_count": null,
   "metadata": {
    "collapsed": true
   },
   "outputs": [],
   "source": []
  },
  {
   "cell_type": "code",
   "execution_count": null,
   "metadata": {
    "collapsed": true
   },
   "outputs": [],
   "source": []
  },
  {
   "cell_type": "code",
   "execution_count": null,
   "metadata": {
    "collapsed": true
   },
   "outputs": [],
   "source": []
  }
 ],
 "metadata": {
  "kernelspec": {
   "display_name": "Python 3",
   "language": "python",
   "name": "python3"
  },
  "language_info": {
   "codemirror_mode": {
    "name": "ipython",
    "version": 3
   },
   "file_extension": ".py",
   "mimetype": "text/x-python",
   "name": "python",
   "nbconvert_exporter": "python",
   "pygments_lexer": "ipython3",
   "version": "3.6.3"
  }
 },
 "nbformat": 4,
 "nbformat_minor": 2
}
