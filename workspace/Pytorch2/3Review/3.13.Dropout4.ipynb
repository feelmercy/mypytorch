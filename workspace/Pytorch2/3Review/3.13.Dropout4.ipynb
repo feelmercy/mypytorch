{
 "cells": [
  {
   "cell_type": "code",
   "execution_count": 57,
   "metadata": {
    "ExecuteTime": {
     "end_time": "2021-09-03T08:17:14.746509Z",
     "start_time": "2021-09-03T08:17:14.737508Z"
    },
    "collapsed": true
   },
   "outputs": [],
   "source": [
    "import torch\n",
    "import torchvision\n",
    "import numpy as np\n",
    "from torch import nn,optim"
   ]
  },
  {
   "cell_type": "code",
   "execution_count": 6,
   "metadata": {
    "ExecuteTime": {
     "end_time": "2021-09-03T07:15:21.968150Z",
     "start_time": "2021-09-03T07:15:21.941148Z"
    },
    "collapsed": true
   },
   "outputs": [],
   "source": [
    "def dropout(x,drop_prob):\n",
    "    x=x.float()\n",
    "    assert 0<=drop_prob<=1 , 'drop prob must between 0 and 1'\n",
    "    keep_drop=1-drop_prob\n",
    "    \n",
    "    if keep_drop==0:\n",
    "        return torch.zeros_like(x)\n",
    "    \n",
    "    mask=(torch.randn(x.shape)<keep_drop).float()\n",
    "    return x*mask/keep_drop\n",
    "    \n",
    "    "
   ]
  },
  {
   "cell_type": "code",
   "execution_count": 8,
   "metadata": {
    "ExecuteTime": {
     "end_time": "2021-09-03T07:15:32.924776Z",
     "start_time": "2021-09-03T07:15:32.908776Z"
    }
   },
   "outputs": [
    {
     "data": {
      "text/plain": [
       "tensor([[ 0.,  2.,  4.,  6.,  8., 10., 12., 14.],\n",
       "        [16.,  0.,  0.,  0., 24., 26., 28., 30.]])"
      ]
     },
     "execution_count": 8,
     "metadata": {},
     "output_type": "execute_result"
    }
   ],
   "source": [
    "a=torch.arange(16).view(2,8)\n",
    "dropout(a,0.5)"
   ]
  },
  {
   "cell_type": "code",
   "execution_count": 26,
   "metadata": {
    "ExecuteTime": {
     "end_time": "2021-09-03T08:02:14.412012Z",
     "start_time": "2021-09-03T08:02:14.405012Z"
    },
    "collapsed": true
   },
   "outputs": [],
   "source": [
    "num_inputs,num_outputs,num_hiddens1,num_hiddens2=784,10,256,256"
   ]
  },
  {
   "cell_type": "code",
   "execution_count": 40,
   "metadata": {
    "ExecuteTime": {
     "end_time": "2021-09-03T08:04:20.278212Z",
     "start_time": "2021-09-03T08:04:20.231209Z"
    },
    "collapsed": true
   },
   "outputs": [],
   "source": [
    "w1=torch.Tensor(np.random.normal(0,0.01,(num_inputs,num_hiddens1)))\n",
    "w2=torch.Tensor(np.random.normal(0,0.01,(num_hiddens1,num_hiddens2)))\n",
    "w3=torch.Tensor(np.random.normal(0,0.01,(num_hiddens2,num_outputs)))\n",
    "b1=torch.zeros(num_hiddens1,dtype=torch.float32)\n",
    "b2=torch.zeros(num_hiddens2,dtype=torch.float32)\n",
    "b3=torch.zeros(num_outputs,dtype=torch.float32)"
   ]
  },
  {
   "cell_type": "code",
   "execution_count": 41,
   "metadata": {
    "ExecuteTime": {
     "end_time": "2021-09-03T08:04:20.730237Z",
     "start_time": "2021-09-03T08:04:20.720237Z"
    },
    "collapsed": true
   },
   "outputs": [],
   "source": [
    "params=[w1,b1,w2,b2,w3,b3]\n",
    "for p in params:\n",
    "    p.requires_grad_(requires_grad=True)"
   ]
  },
  {
   "cell_type": "code",
   "execution_count": 42,
   "metadata": {
    "ExecuteTime": {
     "end_time": "2021-09-03T08:04:21.044255Z",
     "start_time": "2021-09-03T08:04:21.039255Z"
    },
    "collapsed": true
   },
   "outputs": [],
   "source": [
    "drop_prob1,drop_prob2=0.2,0.5"
   ]
  },
  {
   "cell_type": "code",
   "execution_count": 43,
   "metadata": {
    "ExecuteTime": {
     "end_time": "2021-09-03T08:04:21.286269Z",
     "start_time": "2021-09-03T08:04:21.263268Z"
    },
    "collapsed": true
   },
   "outputs": [],
   "source": [
    "def net(x,is_training=True):\n",
    "    x=x.view(-1,num_inputs)\n",
    "    h1=(torch.matmul(x,w1)+b1).relu()\n",
    "    if is_training:\n",
    "        h1=dropout(h1,drop_prob1)\n",
    "    h2=(torch.matmul(h1,w2)+b2).relu()\n",
    "    if is_training:\n",
    "        h2=dropout(h2,drop_prob2)\n",
    "    h3=torch.matmul(h2,w3)+b3\n",
    "    return h3\n",
    "        "
   ]
  },
  {
   "cell_type": "code",
   "execution_count": 61,
   "metadata": {
    "ExecuteTime": {
     "end_time": "2021-09-03T08:24:49.900542Z",
     "start_time": "2021-09-03T08:24:49.871540Z"
    },
    "collapsed": true
   },
   "outputs": [],
   "source": [
    "def eval_acc(data_iter,net):\n",
    "    acc_sum,n=0,0\n",
    "    for x,y in data_iter:\n",
    "        if isinstance(net,nn.Module):\n",
    "            net.eval()\n",
    "            acc_sum+=(net(x).argmax(dim=1)==y).float().sum().item()\n",
    "            net.train()\n",
    "        else:\n",
    "            if 'is_training' in net.__code__.co_varnames:\n",
    "                acc_sum+=(net(x,is_training=False).argmax(dim=1)==y).float().sum().item()\n",
    "            else:\n",
    "                acc_sum+=(net(x).argmax(dim=1)==y).float().sum().item()\n",
    "        n+=len(y)\n",
    "    return acc_sum/n"
   ]
  },
  {
   "cell_type": "code",
   "execution_count": 45,
   "metadata": {
    "ExecuteTime": {
     "end_time": "2021-09-03T08:04:21.701293Z",
     "start_time": "2021-09-03T08:04:21.695293Z"
    },
    "collapsed": true
   },
   "outputs": [],
   "source": [
    "num_epochs,lr,batch_size=5,100.0,256"
   ]
  },
  {
   "cell_type": "code",
   "execution_count": 46,
   "metadata": {
    "ExecuteTime": {
     "end_time": "2021-09-03T08:04:21.909305Z",
     "start_time": "2021-09-03T08:04:21.902304Z"
    },
    "collapsed": true
   },
   "outputs": [],
   "source": [
    "loss=torch.nn.CrossEntropyLoss()"
   ]
  },
  {
   "cell_type": "code",
   "execution_count": 47,
   "metadata": {
    "ExecuteTime": {
     "end_time": "2021-09-03T08:04:22.104316Z",
     "start_time": "2021-09-03T08:04:22.092315Z"
    },
    "collapsed": true
   },
   "outputs": [],
   "source": [
    "def sgd(params,lr,batch_size):\n",
    "    for p in params:\n",
    "        p.data -= lr * p.grad/batch_size\n",
    "    "
   ]
  },
  {
   "cell_type": "code",
   "execution_count": 48,
   "metadata": {
    "ExecuteTime": {
     "end_time": "2021-09-03T08:04:22.294327Z",
     "start_time": "2021-09-03T08:04:22.287326Z"
    },
    "collapsed": true
   },
   "outputs": [],
   "source": [
    "import torchvision\n",
    "from torchvision import transforms"
   ]
  },
  {
   "cell_type": "code",
   "execution_count": 49,
   "metadata": {
    "ExecuteTime": {
     "end_time": "2021-09-03T08:04:22.518340Z",
     "start_time": "2021-09-03T08:04:22.463337Z"
    },
    "collapsed": true
   },
   "outputs": [],
   "source": [
    "batch_size=256\n",
    "mnist_train=torchvision.datasets.FashionMNIST(\n",
    "    root='F:\\study\\ml\\DataSet\\FashionMNIST',train=True,\n",
    "    download=True,transform=transforms.ToTensor())\n",
    "mnist_test=torchvision.datasets.FashionMNIST(\n",
    "    root='F:\\study\\ml\\DataSet\\FashionMNIST',train=False,\n",
    "    download=True,transform=transforms.ToTensor())"
   ]
  },
  {
   "cell_type": "code",
   "execution_count": 50,
   "metadata": {
    "ExecuteTime": {
     "end_time": "2021-09-03T08:04:22.975366Z",
     "start_time": "2021-09-03T08:04:22.970366Z"
    },
    "collapsed": true
   },
   "outputs": [],
   "source": [
    "train_iter=torch.utils.data.DataLoader(mnist_train,batch_size,shuffle=True)\n",
    "test_iter=torch.utils.data.DataLoader(mnist_test,batch_size,shuffle=True)"
   ]
  },
  {
   "cell_type": "code",
   "execution_count": 51,
   "metadata": {
    "ExecuteTime": {
     "end_time": "2021-09-03T08:04:23.355388Z",
     "start_time": "2021-09-03T08:04:23.311385Z"
    },
    "collapsed": true
   },
   "outputs": [],
   "source": [
    "def train_ch3(net,train_iter,test_iter,loss,num_epochs,batch_size,params,lr):\n",
    "    for i  in range(num_epochs):\n",
    "        train_l,train_acc,test_acc,n=0,0,0,0\n",
    "        for x,y in train_iter:\n",
    "            y_hat=net(x)\n",
    "            l=loss(y_hat,y).sum()\n",
    "            \n",
    "            if params[0].grad is not None:\n",
    "                for p in params:\n",
    "                    p.grad.data.zero_()\n",
    "            l.backward()\n",
    "            sgd(params,lr,batch_size)\n",
    "            train_l+=l.item()\n",
    "            train_acc+=(y_hat.argmax(dim=1)==y).float().sum().item()\n",
    "            n+=len(y)\n",
    "        test_acc=eval_acc(test_iter,net)\n",
    "        print('epoch %d,train loss %.4f,train acc %.3f,test acc %.3f' % (\n",
    "        i+1,train_l/n,train_acc/n,test_acc))\n",
    "            \n",
    "    "
   ]
  },
  {
   "cell_type": "code",
   "execution_count": 52,
   "metadata": {
    "ExecuteTime": {
     "end_time": "2021-09-03T08:05:05.428794Z",
     "start_time": "2021-09-03T08:04:23.969423Z"
    }
   },
   "outputs": [
    {
     "name": "stdout",
     "output_type": "stream",
     "text": [
      "epoch 1,train loss 0.0044,train acc 0.569,test acc 0.667\n",
      "epoch 2,train loss 0.0022,train acc 0.791,test acc 0.801\n",
      "epoch 3,train loss 0.0018,train acc 0.826,test acc 0.816\n",
      "epoch 4,train loss 0.0017,train acc 0.841,test acc 0.843\n",
      "epoch 5,train loss 0.0016,train acc 0.853,test acc 0.841\n"
     ]
    }
   ],
   "source": [
    "train_ch3(net, train_iter, test_iter, loss, num_epochs,batch_size, params, lr)"
   ]
  },
  {
   "cell_type": "markdown",
   "metadata": {},
   "source": [
    "dropout by nn"
   ]
  },
  {
   "cell_type": "code",
   "execution_count": 64,
   "metadata": {
    "ExecuteTime": {
     "end_time": "2021-09-03T08:28:18.821491Z",
     "start_time": "2021-09-03T08:28:18.809491Z"
    },
    "collapsed": true
   },
   "outputs": [],
   "source": [
    "class FlattenLayer(nn.Module):\n",
    "    def __init__(self):\n",
    "        super().__init__()\n",
    "    def forward(self,x):\n",
    "        return x.view(-1,784)"
   ]
  },
  {
   "cell_type": "code",
   "execution_count": 65,
   "metadata": {
    "ExecuteTime": {
     "end_time": "2021-09-03T08:28:19.155511Z",
     "start_time": "2021-09-03T08:28:19.141510Z"
    }
   },
   "outputs": [],
   "source": [
    "net = nn.Sequential(FlattenLayer(), nn.Linear(num_inputs, num_hiddens1),\n",
    "                   nn.ReLU(), nn.Dropout(drop_prob1),\n",
    "                   nn.Linear(num_hiddens1, num_hiddens2), nn.ReLU(),\n",
    "                   nn.Dropout(), nn.Linear(num_hiddens2, num_outputs))"
   ]
  },
  {
   "cell_type": "code",
   "execution_count": 66,
   "metadata": {
    "ExecuteTime": {
     "end_time": "2021-09-03T08:28:19.364523Z",
     "start_time": "2021-09-03T08:28:19.355522Z"
    },
    "collapsed": true
   },
   "outputs": [],
   "source": [
    "for p in net.parameters():\n",
    "    nn.init.normal_(p,mean=0,std=0.01)"
   ]
  },
  {
   "cell_type": "code",
   "execution_count": 67,
   "metadata": {
    "ExecuteTime": {
     "end_time": "2021-09-03T08:28:19.541533Z",
     "start_time": "2021-09-03T08:28:19.537532Z"
    },
    "collapsed": true
   },
   "outputs": [],
   "source": [
    "optimizer=optim.SGD(net.parameters(),lr=0.5)"
   ]
  },
  {
   "cell_type": "code",
   "execution_count": 68,
   "metadata": {
    "ExecuteTime": {
     "end_time": "2021-09-03T08:28:19.989558Z",
     "start_time": "2021-09-03T08:28:19.958557Z"
    },
    "collapsed": true
   },
   "outputs": [],
   "source": [
    "def train_ch3_pytorch(net,train_iter,test_iter,loss,num_epochs,batch_size,params,lr,optimizer):\n",
    "    for i in range(num_epochs):\n",
    "        train_l,train_acc,test_acc,n=0,0,0,0\n",
    "        for x,y in train_iter:\n",
    "            y_hat=net(x)\n",
    "            l=loss(y_hat,y).sum()\n",
    "            \n",
    "            optimizer.zero_grad()\n",
    "            \n",
    "            l.backward()\n",
    "            optimizer.step()\n",
    "            train_l +=l.item()\n",
    "            train_acc+=(y_hat.argmax(dim=1)==y).float().sum().item()\n",
    "            n+=len(y)\n",
    "        test_acc = eval_acc(test_iter,net)\n",
    "        print('epoch %d,train loss %.4f,train acc %.4f,test acc %.4f' % (\n",
    "        i+1,train_l/n,train_acc/n,test_acc))"
   ]
  },
  {
   "cell_type": "code",
   "execution_count": 69,
   "metadata": {
    "ExecuteTime": {
     "end_time": "2021-09-03T08:28:59.624825Z",
     "start_time": "2021-09-03T08:28:20.474586Z"
    }
   },
   "outputs": [
    {
     "name": "stdout",
     "output_type": "stream",
     "text": [
      "epoch 1,train loss 0.0045,train acc 0.5614,test acc 0.7678\n",
      "epoch 2,train loss 0.0022,train acc 0.7882,test acc 0.7961\n",
      "epoch 3,train loss 0.0019,train acc 0.8210,test acc 0.8317\n",
      "epoch 4,train loss 0.0017,train acc 0.8380,test acc 0.8280\n",
      "epoch 5,train loss 0.0016,train acc 0.8487,test acc 0.8480\n"
     ]
    }
   ],
   "source": [
    "train_ch3_pytorch(net, train_iter, test_iter, loss, num_epochs,batch_size, None, None, optimizer)"
   ]
  },
  {
   "cell_type": "code",
   "execution_count": null,
   "metadata": {
    "collapsed": true
   },
   "outputs": [],
   "source": []
  },
  {
   "cell_type": "code",
   "execution_count": null,
   "metadata": {
    "collapsed": true
   },
   "outputs": [],
   "source": []
  },
  {
   "cell_type": "code",
   "execution_count": null,
   "metadata": {
    "collapsed": true
   },
   "outputs": [],
   "source": []
  },
  {
   "cell_type": "code",
   "execution_count": null,
   "metadata": {
    "collapsed": true
   },
   "outputs": [],
   "source": []
  },
  {
   "cell_type": "code",
   "execution_count": null,
   "metadata": {
    "collapsed": true
   },
   "outputs": [],
   "source": []
  },
  {
   "cell_type": "code",
   "execution_count": null,
   "metadata": {
    "collapsed": true
   },
   "outputs": [],
   "source": []
  }
 ],
 "metadata": {
  "kernelspec": {
   "display_name": "Python 3",
   "language": "python",
   "name": "python3"
  },
  "language_info": {
   "codemirror_mode": {
    "name": "ipython",
    "version": 3
   },
   "file_extension": ".py",
   "mimetype": "text/x-python",
   "name": "python",
   "nbconvert_exporter": "python",
   "pygments_lexer": "ipython3",
   "version": "3.6.3"
  }
 },
 "nbformat": 4,
 "nbformat_minor": 2
}
