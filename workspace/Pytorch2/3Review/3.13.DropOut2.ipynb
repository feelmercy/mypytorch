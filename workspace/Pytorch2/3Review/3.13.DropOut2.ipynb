{
 "cells": [
  {
   "cell_type": "code",
   "execution_count": 1,
   "metadata": {
    "ExecuteTime": {
     "end_time": "2021-08-17T07:30:21.236094Z",
     "start_time": "2021-08-17T07:30:19.144974Z"
    },
    "collapsed": true
   },
   "outputs": [],
   "source": [
    "import torch\n",
    "import torchvision\n",
    "import numpy as np\n",
    "from torch import nn,optim"
   ]
  },
  {
   "cell_type": "code",
   "execution_count": 2,
   "metadata": {
    "ExecuteTime": {
     "end_time": "2021-08-17T07:43:29.689191Z",
     "start_time": "2021-08-17T07:43:29.619187Z"
    }
   },
   "outputs": [
    {
     "data": {
      "text/plain": [
       "array([[ 1,  4,  9],\n",
       "       [16, 25, 36]])"
      ]
     },
     "execution_count": 2,
     "metadata": {},
     "output_type": "execute_result"
    }
   ],
   "source": [
    "a=np.array([[1,2,3],[4,5,6]])\n",
    "b=np.array([[1,2,3],[4,5,6]])\n",
    "a*b"
   ]
  },
  {
   "cell_type": "code",
   "execution_count": 5,
   "metadata": {
    "ExecuteTime": {
     "end_time": "2021-08-17T07:49:42.853534Z",
     "start_time": "2021-08-17T07:49:42.826533Z"
    }
   },
   "outputs": [],
   "source": [
    "def dropout(x,drop_prob):\n",
    "    x=x.float()\n",
    "    assert 0<=drop_prob<=1, 'drop prob error !'\n",
    "    keep_prob= 1-drop_prob\n",
    "    \n",
    "    if drop_prob==1:\n",
    "        return torch.zeros_like(x)\n",
    "#     mask=torch.ones_like(x.shape)\n",
    "    mask=(torch.randn(x.shape)<keep_prob).float()\n",
    "    \n",
    "    return x*mask/keep_prob"
   ]
  },
  {
   "cell_type": "code",
   "execution_count": 12,
   "metadata": {
    "ExecuteTime": {
     "end_time": "2021-08-17T07:52:56.019583Z",
     "start_time": "2021-08-17T07:52:56.003582Z"
    }
   },
   "outputs": [
    {
     "data": {
      "text/plain": [
       "tensor([[ 0.,  1.,  2.,  3.,  0.,  5.,  0.,  7.],\n",
       "        [ 8.,  9., 10., 11., 12., 13., 14., 15.]])"
      ]
     },
     "execution_count": 12,
     "metadata": {},
     "output_type": "execute_result"
    }
   ],
   "source": [
    "x=torch.arange(16).view(2,8)\n",
    "dropout(x,0)"
   ]
  },
  {
   "cell_type": "code",
   "execution_count": 13,
   "metadata": {
    "ExecuteTime": {
     "end_time": "2021-08-17T08:19:24.204422Z",
     "start_time": "2021-08-17T08:19:24.159419Z"
    },
    "collapsed": true
   },
   "outputs": [],
   "source": [
    "num_inputs,num_outputs,num_hiddens1,num_hiddens2=784,10,256,256\n",
    "w1=torch.Tensor(np.random.normal(0,0.01,size=(num_inputs,num_hiddens1)))\n",
    "w2=torch.Tensor(np.random.normal(0,0.01,size=(num_hiddens1,num_hiddens2)))\n",
    "w3=torch.Tensor(np.random.normal(0,0.01,size=(num_hiddens2,num_outputs)))\n",
    "b1=torch.zeros(num_hiddens1,dtype=torch.float32)\n",
    "b2=torch.zeros(num_hiddens2,dtype=torch.float32)\n",
    "b3=torch.zeros(num_outputs,dtype=torch.float32)\n",
    "\n",
    "params=[w1,b1,w2,b2,w3,b3]\n",
    "for p in params:\n",
    "    p.requires_grad_(requires_grad=True)"
   ]
  },
  {
   "cell_type": "code",
   "execution_count": 14,
   "metadata": {
    "ExecuteTime": {
     "end_time": "2021-08-17T08:38:10.515843Z",
     "start_time": "2021-08-17T08:38:10.508843Z"
    },
    "collapsed": true
   },
   "outputs": [],
   "source": [
    "drop_prob1,drop_prob2=0.2,0.5"
   ]
  },
  {
   "cell_type": "code",
   "execution_count": 52,
   "metadata": {
    "ExecuteTime": {
     "end_time": "2021-08-17T09:59:06.900612Z",
     "start_time": "2021-08-17T09:59:06.881611Z"
    },
    "collapsed": true
   },
   "outputs": [],
   "source": [
    "def net(x,is_training=True):\n",
    "    x=x.view(-1,num_inputs)\n",
    "    h1=(torch.matmul(x,w1)+b1).relu()\n",
    "    if is_training :\n",
    "        h1=dropout(h1,drop_prob1)\n",
    "    h2=(torch.matmul(h1,w2)+b2).relu()\n",
    "    if is_training:\n",
    "        h2=dropout(h2,drop_prob2).relu()\n",
    "    return torch.matmul(h2,w3)+b3"
   ]
  },
  {
   "cell_type": "code",
   "execution_count": 53,
   "metadata": {
    "ExecuteTime": {
     "end_time": "2021-08-17T09:59:07.143626Z",
     "start_time": "2021-08-17T09:59:07.118625Z"
    },
    "collapsed": true
   },
   "outputs": [],
   "source": [
    "def eval_acc(data_iter,net):\n",
    "    acc_sum,n=0,0\n",
    "    for x,y in data_iter:\n",
    "        if isinstance(net,nn.Module):\n",
    "            net.eval()\n",
    "            acc_sum +=(net(x).argmax(dim=1)==y).float().sum().item()\n",
    "            net.train()\n",
    "        else:\n",
    "            if ('is_training' in net.__code__.co_varnames):\n",
    "                acc_sum+=(net(x,is_training=False).argmax(dim=1)==y).float().sum().item()\n",
    "            else:\n",
    "                acc+=(net(x).argmax(dim=1)==y).float().sum().item()\n",
    "        n+=len(y)\n",
    "    return acc_sum/n\n",
    "                "
   ]
  },
  {
   "cell_type": "code",
   "execution_count": 54,
   "metadata": {
    "ExecuteTime": {
     "end_time": "2021-08-17T09:59:07.299635Z",
     "start_time": "2021-08-17T09:59:07.293635Z"
    },
    "collapsed": true
   },
   "outputs": [],
   "source": [
    "num_epochs,lr,batch_size=5,100.0,256\n",
    "loss=torch.nn.CrossEntropyLoss()"
   ]
  },
  {
   "cell_type": "code",
   "execution_count": 55,
   "metadata": {
    "ExecuteTime": {
     "end_time": "2021-08-17T09:59:07.482646Z",
     "start_time": "2021-08-17T09:59:07.476645Z"
    },
    "collapsed": true
   },
   "outputs": [],
   "source": [
    "def sgd(params,lr,batch_size):\n",
    "    for p in params:\n",
    "        p.data -=lr * p.grad /batch_size"
   ]
  },
  {
   "cell_type": "code",
   "execution_count": 56,
   "metadata": {
    "ExecuteTime": {
     "end_time": "2021-08-17T09:59:07.686657Z",
     "start_time": "2021-08-17T09:59:07.638655Z"
    }
   },
   "outputs": [],
   "source": [
    "def train_ch3(net,train_iter,test_iter,loss,num_epochs,batch_size,params,lr,optimizer=None):\n",
    "    for i in range(num_epochs):\n",
    "        train_l,train_acc,test_acc,n=0,0,0,0\n",
    "        for x,y in train_iter:\n",
    "            y_hat=net(x,True)\n",
    "            l=loss(y_hat,y).sum()\n",
    "            \n",
    "            if optimizer is None:\n",
    "                if params[0].grad is not None:\n",
    "                    for p in params:\n",
    "                        p.grad.data.zero_()\n",
    "            else:\n",
    "                optimizer.zero_grad()\n",
    "            \n",
    "            l.backward()\n",
    "            \n",
    "            if optimizer is None:\n",
    "                sgd(params,lr,batch_size)\n",
    "            else:\n",
    "                optimizer.step()\n",
    "            \n",
    "            train_l+=l.item()\n",
    "            train_acc+=(y_hat.argmax(dim=1)==y).float().sum().item()\n",
    "            n+=len(y)\n",
    "        test_acc +=eval_acc(test_iter,net)\n",
    "        print('epoch %d ,train loss %.3f,train acc %.3f,test acc %.3f' % (\n",
    "        i+1,train_l/n,train_acc/n,test_acc))\n",
    "            \n",
    "            "
   ]
  },
  {
   "cell_type": "code",
   "execution_count": 57,
   "metadata": {
    "ExecuteTime": {
     "end_time": "2021-08-17T09:59:08.011676Z",
     "start_time": "2021-08-17T09:59:08.005676Z"
    },
    "collapsed": true
   },
   "outputs": [],
   "source": [
    "from torchvision import transforms"
   ]
  },
  {
   "cell_type": "code",
   "execution_count": 58,
   "metadata": {
    "ExecuteTime": {
     "end_time": "2021-08-17T09:59:08.560707Z",
     "start_time": "2021-08-17T09:59:08.503704Z"
    }
   },
   "outputs": [],
   "source": [
    "batch_size=256\n",
    "mnist_train=torchvision.datasets.FashionMNIST(\n",
    "    root='F:\\study\\ml\\DataSet\\FashionMNIST',train=True,\n",
    "    download=True,transform=transforms.ToTensor())\n",
    "mnist_test=torchvision.datasets.FashionMNIST(\n",
    "    root='F:\\study\\ml\\DataSet\\FashionMNIST',train=False,\n",
    "    download=True,transform=transforms.ToTensor())"
   ]
  },
  {
   "cell_type": "code",
   "execution_count": 59,
   "metadata": {
    "ExecuteTime": {
     "end_time": "2021-08-17T09:59:08.817722Z",
     "start_time": "2021-08-17T09:59:08.811722Z"
    }
   },
   "outputs": [],
   "source": [
    "train_iter=torch.utils.data.DataLoader(mnist_train,batch_size,shuffle=True)\n",
    "test_iter=torch.utils.data.DataLoader(mnist_test,batch_size,shuffle=False)"
   ]
  },
  {
   "cell_type": "code",
   "execution_count": 60,
   "metadata": {
    "ExecuteTime": {
     "end_time": "2021-08-17T09:59:53.044252Z",
     "start_time": "2021-08-17T09:59:09.475760Z"
    }
   },
   "outputs": [
    {
     "name": "stdout",
     "output_type": "stream",
     "text": [
      "epoch 1 ,train loss 0.001,train acc 0.868,test acc 0.807\n",
      "epoch 2 ,train loss 0.001,train acc 0.871,test acc 0.858\n",
      "epoch 3 ,train loss 0.001,train acc 0.876,test acc 0.839\n",
      "epoch 4 ,train loss 0.001,train acc 0.879,test acc 0.861\n",
      "epoch 5 ,train loss 0.001,train acc 0.881,test acc 0.870\n"
     ]
    }
   ],
   "source": [
    "train_ch3(net,train_iter,test_iter,loss,num_epochs,batch_size,params,lr)"
   ]
  },
  {
   "cell_type": "markdown",
   "metadata": {},
   "source": [
    "drop out by nn"
   ]
  },
  {
   "cell_type": "code",
   "execution_count": 42,
   "metadata": {
    "ExecuteTime": {
     "end_time": "2021-08-17T09:52:14.943050Z",
     "start_time": "2021-08-17T09:52:14.929049Z"
    },
    "collapsed": true
   },
   "outputs": [],
   "source": [
    "class FlattenLayer(nn.Module):\n",
    "    def __init__(self):\n",
    "        super().__init__()\n",
    "    \n",
    "    def forward(self,x):\n",
    "        return x.view(x.shape[0],-1)"
   ]
  },
  {
   "cell_type": "code",
   "execution_count": 62,
   "metadata": {
    "ExecuteTime": {
     "end_time": "2021-08-17T10:00:08.721148Z",
     "start_time": "2021-08-17T10:00:08.697147Z"
    }
   },
   "outputs": [],
   "source": [
    "net=nn.Sequential(\n",
    "    FlattenLayer(),\n",
    "    nn.Linear(num_inputs,num_hiddens1),\n",
    "    nn.ReLU(),\n",
    "    nn.Dropout(drop_prob1),\n",
    "    nn.Linear(num_hiddens1,num_hiddens2),\n",
    "    nn.ReLU(),\n",
    "    nn.Dropout(drop_prob2),\n",
    "    nn.Linear(num_hiddens2,num_outputs)\n",
    ")"
   ]
  },
  {
   "cell_type": "code",
   "execution_count": 63,
   "metadata": {
    "ExecuteTime": {
     "end_time": "2021-08-17T10:00:09.259179Z",
     "start_time": "2021-08-17T10:00:09.225177Z"
    }
   },
   "outputs": [
    {
     "name": "stdout",
     "output_type": "stream",
     "text": [
      "Parameter containing:\n",
      "tensor([[-0.0076,  0.0137, -0.0120,  ..., -0.0205, -0.0247, -0.0125],\n",
      "        [ 0.0238, -0.0040,  0.0188,  ..., -0.0290,  0.0073,  0.0095],\n",
      "        [-0.0223,  0.0037, -0.0017,  ...,  0.0039, -0.0217, -0.0202],\n",
      "        ...,\n",
      "        [ 0.0300, -0.0085, -0.0301,  ...,  0.0297, -0.0014,  0.0265],\n",
      "        [-0.0091,  0.0345, -0.0289,  ..., -0.0290, -0.0015, -0.0138],\n",
      "        [-0.0158, -0.0012, -0.0171,  ..., -0.0179, -0.0305,  0.0314]],\n",
      "       requires_grad=True)\n",
      "Parameter containing:\n",
      "tensor([-2.5865e-02, -2.9760e-02, -1.4490e-02,  2.1228e-02,  3.0781e-02,\n",
      "         1.1187e-02, -5.5964e-03, -1.1453e-02, -2.7980e-02,  3.5621e-03,\n",
      "        -1.4506e-02,  1.8700e-03, -1.1632e-02, -4.0749e-03, -2.5270e-02,\n",
      "        -6.8834e-04,  2.1037e-02,  2.8469e-02,  1.5538e-02, -2.4364e-02,\n",
      "        -2.6169e-02,  9.1143e-03, -1.3708e-02,  3.0184e-02, -2.9191e-02,\n",
      "         1.6231e-02, -3.5141e-02, -6.8763e-03,  2.8573e-02,  1.1302e-02,\n",
      "         9.8088e-04,  8.3420e-03,  2.0206e-02, -3.3399e-02, -7.5825e-03,\n",
      "         1.1252e-02, -3.4535e-02, -2.2995e-02, -9.8224e-03,  2.1879e-02,\n",
      "         3.3294e-02,  1.2967e-02, -9.3659e-03,  2.9055e-02,  2.9811e-03,\n",
      "        -2.5614e-02,  2.9615e-02,  1.5215e-02,  7.7856e-03, -5.3675e-03,\n",
      "        -6.6615e-03,  1.1364e-02, -2.9417e-02, -8.0270e-03, -1.9540e-02,\n",
      "         3.0199e-02, -1.8729e-02,  7.8083e-03,  1.5553e-02, -2.6743e-02,\n",
      "        -3.3442e-02, -1.6441e-02,  2.6774e-02,  2.9668e-02,  1.8286e-02,\n",
      "         1.3736e-02, -6.7618e-03,  2.9383e-02, -1.4530e-02, -1.7860e-03,\n",
      "        -1.4824e-02, -2.1946e-02,  1.0117e-03, -3.4025e-02, -2.9857e-02,\n",
      "         2.9995e-02, -1.5344e-04,  3.4881e-02,  5.4826e-03,  2.6125e-02,\n",
      "        -2.3605e-02, -1.5983e-02,  3.2015e-02,  2.4787e-03,  2.7330e-02,\n",
      "         1.6947e-02,  2.2868e-02, -2.9949e-02, -2.6638e-03, -3.3936e-02,\n",
      "         2.9469e-02, -3.3558e-02, -7.4246e-03, -1.6481e-02,  1.8647e-02,\n",
      "        -2.7508e-02, -2.5765e-02,  2.4679e-02,  2.9858e-02,  6.6562e-03,\n",
      "        -4.1070e-03,  2.1943e-03,  2.1044e-02, -2.6622e-02,  2.4662e-03,\n",
      "        -1.6089e-02, -2.0852e-02,  9.2993e-03,  2.3149e-02,  9.9894e-03,\n",
      "        -2.2796e-02,  1.4600e-02, -1.6819e-02,  5.2153e-03, -3.1286e-03,\n",
      "         3.1554e-02,  3.4692e-02,  1.1948e-02, -1.2210e-02,  5.9377e-05,\n",
      "        -7.0717e-03,  3.1863e-02,  1.7549e-02,  3.5099e-02, -3.0077e-02,\n",
      "        -2.6943e-02,  8.3258e-03,  1.5530e-02,  7.4653e-03, -3.0975e-02,\n",
      "         3.1198e-03, -2.3950e-02,  3.1222e-02,  3.5159e-02,  9.6393e-04,\n",
      "        -1.2188e-02, -1.5289e-02,  3.2336e-02,  1.1266e-02, -2.1780e-02,\n",
      "         6.8151e-03,  2.6576e-03, -3.0212e-02,  4.4410e-03, -7.0170e-03,\n",
      "        -3.5442e-02, -2.0057e-02, -2.0935e-02,  7.7795e-03, -2.4913e-03,\n",
      "        -1.7127e-02,  1.4554e-02,  3.2430e-02, -3.0157e-02,  9.2571e-03,\n",
      "         8.6454e-03, -2.0737e-02, -2.5753e-02,  1.1184e-03, -3.2342e-02,\n",
      "        -2.0883e-02, -2.8034e-02, -1.0699e-02, -3.0621e-02, -6.5731e-03,\n",
      "        -3.6542e-03, -2.4466e-02, -6.7882e-03,  8.7616e-03, -1.2179e-02,\n",
      "        -3.3878e-02, -3.1865e-02,  8.3186e-03, -1.5673e-02,  3.3654e-02,\n",
      "        -1.9362e-02, -6.8857e-03,  2.2307e-02,  8.5727e-03, -1.0079e-02,\n",
      "        -2.4683e-02, -2.6511e-02,  1.9708e-02,  9.5758e-03,  3.0418e-02,\n",
      "         1.7894e-02, -2.3805e-02,  1.7789e-02, -3.4464e-02,  2.1624e-02,\n",
      "         1.3899e-02, -1.9051e-02, -2.8010e-02, -2.6686e-02, -1.0832e-02,\n",
      "        -1.6703e-02, -1.6574e-02, -1.8699e-02, -1.1260e-02, -3.5253e-02,\n",
      "        -2.9530e-02, -1.5889e-02, -2.8247e-02, -6.6774e-03,  9.2584e-03,\n",
      "         1.8971e-02, -3.0671e-02, -1.8483e-02,  6.1844e-03,  2.6017e-02,\n",
      "         1.7704e-02, -1.2734e-02, -9.7233e-03,  2.6850e-02, -3.8910e-04,\n",
      "        -1.9502e-02, -3.0212e-02, -1.0083e-02, -2.1898e-02,  2.5215e-02,\n",
      "        -3.0334e-02,  5.3930e-03,  3.4032e-03,  7.7392e-03, -9.7513e-03,\n",
      "        -3.4762e-02,  3.5341e-02, -1.0366e-02, -1.1348e-02,  2.8714e-03,\n",
      "        -3.3566e-02,  1.6952e-02, -1.4181e-02, -1.2381e-02, -8.2604e-03,\n",
      "        -1.1545e-02,  1.2474e-02, -1.9179e-02, -1.7360e-02,  4.8665e-03,\n",
      "        -2.0301e-02,  1.0183e-02,  2.7798e-02, -1.2158e-02,  3.0693e-02,\n",
      "         2.5216e-02, -1.8405e-03, -3.0841e-02, -3.1893e-02, -4.5154e-03,\n",
      "        -2.4555e-02,  1.0597e-02, -1.6909e-02, -9.9498e-03,  9.5738e-03,\n",
      "        -2.8882e-02], requires_grad=True)\n",
      "Parameter containing:\n",
      "tensor([[ 0.0537, -0.0452, -0.0374,  ..., -0.0008,  0.0498, -0.0273],\n",
      "        [ 0.0427, -0.0388,  0.0285,  ...,  0.0562, -0.0189,  0.0098],\n",
      "        [-0.0221,  0.0034,  0.0590,  ...,  0.0208, -0.0517, -0.0245],\n",
      "        ...,\n",
      "        [-0.0410, -0.0578, -0.0124,  ...,  0.0234, -0.0342,  0.0169],\n",
      "        [ 0.0340, -0.0141, -0.0074,  ..., -0.0392, -0.0272, -0.0214],\n",
      "        [ 0.0120,  0.0595,  0.0126,  ..., -0.0160, -0.0041,  0.0343]],\n",
      "       requires_grad=True)\n",
      "Parameter containing:\n",
      "tensor([ 0.0411,  0.0464,  0.0612,  0.0393,  0.0067,  0.0424,  0.0435, -0.0026,\n",
      "         0.0394,  0.0613, -0.0062, -0.0256, -0.0370,  0.0492,  0.0373, -0.0116,\n",
      "         0.0332,  0.0602, -0.0134,  0.0087, -0.0077, -0.0602, -0.0260, -0.0592,\n",
      "         0.0034, -0.0187,  0.0230, -0.0441,  0.0446,  0.0291,  0.0260, -0.0033,\n",
      "         0.0199,  0.0458,  0.0035,  0.0339,  0.0153, -0.0143,  0.0225,  0.0287,\n",
      "        -0.0403, -0.0500, -0.0516,  0.0427,  0.0208, -0.0458, -0.0027, -0.0379,\n",
      "        -0.0243, -0.0045, -0.0485,  0.0007, -0.0207, -0.0509, -0.0596,  0.0213,\n",
      "        -0.0154, -0.0031, -0.0219, -0.0575, -0.0505,  0.0167,  0.0262, -0.0187,\n",
      "         0.0271, -0.0403,  0.0037,  0.0465, -0.0288,  0.0248,  0.0533, -0.0236,\n",
      "        -0.0165, -0.0060,  0.0483, -0.0274,  0.0060,  0.0289,  0.0458,  0.0096,\n",
      "        -0.0296,  0.0393,  0.0386,  0.0009, -0.0225,  0.0119, -0.0299,  0.0109,\n",
      "         0.0217, -0.0422,  0.0322, -0.0615,  0.0014,  0.0199, -0.0282,  0.0308,\n",
      "        -0.0222,  0.0078,  0.0385, -0.0143,  0.0028,  0.0190,  0.0035,  0.0547,\n",
      "         0.0146, -0.0118, -0.0141,  0.0462,  0.0200, -0.0261, -0.0145, -0.0584,\n",
      "        -0.0480, -0.0027,  0.0476, -0.0317, -0.0072,  0.0580, -0.0471, -0.0269,\n",
      "         0.0212,  0.0248, -0.0580, -0.0527,  0.0115,  0.0035, -0.0359, -0.0477,\n",
      "         0.0241, -0.0544,  0.0217,  0.0614, -0.0346, -0.0215,  0.0041, -0.0208,\n",
      "         0.0186, -0.0071, -0.0127, -0.0139, -0.0282,  0.0326,  0.0315,  0.0276,\n",
      "        -0.0425, -0.0294, -0.0127, -0.0301,  0.0496, -0.0572,  0.0215,  0.0329,\n",
      "         0.0131,  0.0456, -0.0424,  0.0615, -0.0299, -0.0554,  0.0197,  0.0208,\n",
      "         0.0086, -0.0332,  0.0179,  0.0528, -0.0583, -0.0034, -0.0390,  0.0270,\n",
      "         0.0160, -0.0553, -0.0373,  0.0552,  0.0290,  0.0557,  0.0275, -0.0048,\n",
      "        -0.0171, -0.0610,  0.0235,  0.0184,  0.0200,  0.0563, -0.0550, -0.0439,\n",
      "         0.0457,  0.0387,  0.0331,  0.0467, -0.0426, -0.0380,  0.0452,  0.0511,\n",
      "         0.0503,  0.0122, -0.0059, -0.0016, -0.0362, -0.0288, -0.0578,  0.0245,\n",
      "        -0.0125,  0.0598, -0.0371, -0.0019, -0.0061,  0.0061, -0.0196,  0.0210,\n",
      "         0.0129, -0.0096,  0.0171,  0.0174, -0.0119, -0.0383, -0.0215,  0.0527,\n",
      "        -0.0181, -0.0369,  0.0332, -0.0197,  0.0518,  0.0304,  0.0067, -0.0166,\n",
      "        -0.0036, -0.0485, -0.0229,  0.0122,  0.0139, -0.0077, -0.0530, -0.0027,\n",
      "         0.0193, -0.0386,  0.0083,  0.0530,  0.0521,  0.0152,  0.0467,  0.0219,\n",
      "         0.0316,  0.0228,  0.0064,  0.0004, -0.0267, -0.0544, -0.0224, -0.0146,\n",
      "        -0.0539,  0.0615, -0.0437, -0.0270,  0.0122,  0.0455, -0.0319,  0.0319],\n",
      "       requires_grad=True)\n",
      "Parameter containing:\n",
      "tensor([[-0.0242,  0.0326,  0.0409,  ..., -0.0040,  0.0078, -0.0114],\n",
      "        [ 0.0277,  0.0406, -0.0229,  ...,  0.0420, -0.0151, -0.0233],\n",
      "        [ 0.0202,  0.0488, -0.0618,  ..., -0.0364,  0.0293, -0.0377],\n",
      "        ...,\n",
      "        [ 0.0399,  0.0251,  0.0072,  ..., -0.0612,  0.0559, -0.0127],\n",
      "        [-0.0168, -0.0373,  0.0025,  ..., -0.0363, -0.0432,  0.0215],\n",
      "        [-0.0048, -0.0512,  0.0355,  ...,  0.0161,  0.0371, -0.0506]],\n",
      "       requires_grad=True)\n",
      "Parameter containing:\n",
      "tensor([ 0.0225,  0.0323,  0.0239,  0.0564, -0.0365,  0.0462, -0.0524, -0.0099,\n",
      "        -0.0225,  0.0006], requires_grad=True)\n"
     ]
    }
   ],
   "source": [
    "for p in net.parameters():\n",
    "    print(p)"
   ]
  },
  {
   "cell_type": "code",
   "execution_count": 45,
   "metadata": {
    "ExecuteTime": {
     "end_time": "2021-08-17T09:55:23.125813Z",
     "start_time": "2021-08-17T09:55:23.112813Z"
    },
    "collapsed": true
   },
   "outputs": [],
   "source": [
    "for p in net.parameters():\n",
    "    nn.init.normal_(p,mean=0,std=0.01)"
   ]
  },
  {
   "cell_type": "code",
   "execution_count": 69,
   "metadata": {
    "ExecuteTime": {
     "end_time": "2021-08-17T10:03:25.785420Z",
     "start_time": "2021-08-17T10:03:25.778419Z"
    }
   },
   "outputs": [],
   "source": [
    "optimizer=torch.optim.SGD(net.parameters(),lr=0.05)"
   ]
  },
  {
   "cell_type": "code",
   "execution_count": 70,
   "metadata": {
    "ExecuteTime": {
     "end_time": "2021-08-17T10:03:26.884483Z",
     "start_time": "2021-08-17T10:03:26.824479Z"
    },
    "collapsed": true
   },
   "outputs": [],
   "source": [
    "def train_ch3_pytorch(net,train_iter,test_iter,loss,num_epochs,batch_size,params,lr,optimizer=None):\n",
    "    for i in range(num_epochs):\n",
    "        train_l,train_acc,test_acc,n=0,0,0,0\n",
    "        for x,y in train_iter:\n",
    "            y_hat=net(x)\n",
    "            l=loss(y_hat,y).sum()\n",
    "            \n",
    "            if optimizer is None:\n",
    "                if params[0].grad is not None:\n",
    "                    for p in params:\n",
    "                        p.grad.data.zero_()\n",
    "            else:\n",
    "                optimizer.zero_grad()\n",
    "            \n",
    "            l.backward()\n",
    "            \n",
    "            if optimizer is None:\n",
    "                sgd(params,lr,batch_size)\n",
    "            else:\n",
    "                optimizer.step()\n",
    "            \n",
    "            train_l+=l.item()\n",
    "            train_acc+=(y_hat.argmax(dim=1)==y).float().sum().item()\n",
    "            n+=len(y)\n",
    "        test_acc +=eval_acc(test_iter,net)\n",
    "        print('epoch %d ,train loss %.3f,train acc %.3f,test acc %.3f' % (\n",
    "        i+1,train_l/n,train_acc/n,test_acc))\n",
    "            \n",
    "            "
   ]
  },
  {
   "cell_type": "code",
   "execution_count": 72,
   "metadata": {
    "ExecuteTime": {
     "end_time": "2021-08-17T10:04:35.702419Z",
     "start_time": "2021-08-17T10:03:55.748134Z"
    }
   },
   "outputs": [
    {
     "name": "stdout",
     "output_type": "stream",
     "text": [
      "epoch 1 ,train loss 0.006,train acc 0.507,test acc 0.665\n",
      "epoch 2 ,train loss 0.003,train acc 0.714,test acc 0.754\n",
      "epoch 3 ,train loss 0.003,train acc 0.763,test acc 0.788\n",
      "epoch 4 ,train loss 0.002,train acc 0.793,test acc 0.797\n",
      "epoch 5 ,train loss 0.002,train acc 0.807,test acc 0.817\n"
     ]
    }
   ],
   "source": [
    "train_ch3_pytorch(net,train_iter,test_iter,loss,num_epochs,batch_size,params,0.05,optimizer)"
   ]
  },
  {
   "cell_type": "code",
   "execution_count": null,
   "metadata": {
    "collapsed": true
   },
   "outputs": [],
   "source": []
  }
 ],
 "metadata": {
  "kernelspec": {
   "display_name": "Python 3",
   "language": "python",
   "name": "python3"
  },
  "language_info": {
   "codemirror_mode": {
    "name": "ipython",
    "version": 3
   },
   "file_extension": ".py",
   "mimetype": "text/x-python",
   "name": "python",
   "nbconvert_exporter": "python",
   "pygments_lexer": "ipython3",
   "version": "3.6.3"
  }
 },
 "nbformat": 4,
 "nbformat_minor": 2
}
