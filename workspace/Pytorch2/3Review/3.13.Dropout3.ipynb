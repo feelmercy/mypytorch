{
 "cells": [
  {
   "cell_type": "code",
   "execution_count": 1,
   "metadata": {
    "ExecuteTime": {
     "end_time": "2021-08-18T02:56:09.575004Z",
     "start_time": "2021-08-18T02:56:07.478884Z"
    },
    "collapsed": true
   },
   "outputs": [],
   "source": [
    "import torch\n",
    "import torchvision\n",
    "import numpy as np\n",
    "from torch import nn,optim"
   ]
  },
  {
   "cell_type": "code",
   "execution_count": 58,
   "metadata": {
    "ExecuteTime": {
     "end_time": "2021-08-18T05:36:41.453081Z",
     "start_time": "2021-08-18T05:36:41.430481Z"
    },
    "collapsed": true
   },
   "outputs": [],
   "source": [
    "def dropout(x,drop_prob):\n",
    "    x=x.float()\n",
    "    keep_prob=1-drop_prob\n",
    "    \n",
    "    assert 0<=keep_prob<=1 ,' drop prob error !'\n",
    "    if drop_prob == 1:\n",
    "        return torch.zeros_like(x)\n",
    "    \n",
    "    mask=(torch.randn(x.shape)<keep_prob).float()\n",
    "    return x*mask/keep_prob\n",
    "    \n",
    "    "
   ]
  },
  {
   "cell_type": "code",
   "execution_count": 59,
   "metadata": {
    "ExecuteTime": {
     "end_time": "2021-08-18T05:36:41.979310Z",
     "start_time": "2021-08-18T05:36:41.948110Z"
    }
   },
   "outputs": [
    {
     "data": {
      "text/plain": [
       "tensor([[ 0.,  2.,  4.,  6.,  8., 10., 12., 14.],\n",
       "        [16.,  0.,  0.,  0., 24., 26., 28., 30.]])"
      ]
     },
     "execution_count": 59,
     "metadata": {},
     "output_type": "execute_result"
    }
   ],
   "source": [
    "a=torch.arange(16).view(2,8)\n",
    "dropout(a,0.5)"
   ]
  },
  {
   "cell_type": "code",
   "execution_count": 60,
   "metadata": {
    "ExecuteTime": {
     "end_time": "2021-08-18T05:36:42.529539Z",
     "start_time": "2021-08-18T05:36:42.513939Z"
    },
    "collapsed": true
   },
   "outputs": [],
   "source": [
    "num_inputs,num_outputs,num_hiddens1,num_hiddens2=784,10,256,256"
   ]
  },
  {
   "cell_type": "code",
   "execution_count": 61,
   "metadata": {
    "ExecuteTime": {
     "end_time": "2021-08-18T05:36:43.356168Z",
     "start_time": "2021-08-18T05:36:43.310567Z"
    },
    "collapsed": true
   },
   "outputs": [],
   "source": [
    "w1=torch.Tensor(np.random.normal(0,0.01,(num_inputs,num_hiddens1)))\n",
    "w2=torch.Tensor(np.random.normal(0,0.01,(num_hiddens1,num_hiddens2)))\n",
    "w3=torch.Tensor(np.random.normal(0,0.01,(num_hiddens2,num_outputs)))\n",
    "b1=torch.zeros(num_hiddens1,dtype=torch.float32)\n",
    "b2=torch.zeros(num_hiddens2,dtype=torch.float32)\n",
    "b3=torch.zeros(num_outputs,dtype=torch.float32)"
   ]
  },
  {
   "cell_type": "code",
   "execution_count": 62,
   "metadata": {
    "ExecuteTime": {
     "end_time": "2021-08-18T05:36:43.878397Z",
     "start_time": "2021-08-18T05:36:43.847197Z"
    },
    "collapsed": true
   },
   "outputs": [],
   "source": [
    "params=[w1,b1,w2,b2,w3,b3]\n",
    "for p in params:\n",
    "    p.requires_grad_(requires_grad=True)"
   ]
  },
  {
   "cell_type": "code",
   "execution_count": 63,
   "metadata": {
    "ExecuteTime": {
     "end_time": "2021-08-18T05:36:44.445826Z",
     "start_time": "2021-08-18T05:36:44.427225Z"
    },
    "collapsed": true
   },
   "outputs": [],
   "source": [
    "drop_prob1,drop_prob2=0.2,0.5"
   ]
  },
  {
   "cell_type": "code",
   "execution_count": 64,
   "metadata": {
    "ExecuteTime": {
     "end_time": "2021-08-18T05:36:45.051455Z",
     "start_time": "2021-08-18T05:36:45.024854Z"
    },
    "collapsed": true
   },
   "outputs": [],
   "source": [
    "def net(x,is_training=True):\n",
    "    x=x.view(-1,num_inputs)\n",
    "    h1=(torch.matmul(x,w1)+b1).relu()\n",
    "    if is_training:\n",
    "        h1=dropout(h1,drop_prob1)\n",
    "    h2=(torch.matmul(h1,w2)+b2).relu()\n",
    "    if is_training:\n",
    "        h2=dropout(h2,drop_prob2)\n",
    "    return torch.matmul(h2,w3)+b3"
   ]
  },
  {
   "cell_type": "code",
   "execution_count": 65,
   "metadata": {
    "ExecuteTime": {
     "end_time": "2021-08-18T05:36:45.572485Z",
     "start_time": "2021-08-18T05:36:45.533483Z"
    },
    "collapsed": true
   },
   "outputs": [],
   "source": [
    "def eval_acc(data_iter,net):\n",
    "    acc_sum,n=0,0\n",
    "    for x,y in data_iter:\n",
    "        if isinstance(net,nn.Module):\n",
    "            net.eval()\n",
    "            acc_sum+=(net(x).argmax(dim=1)==y).float().sum().item()\n",
    "            net.train()\n",
    "        else :\n",
    "            if 'is_training' in net.__code__.co_varnames:\n",
    "                acc_sum+=(net(x,is_training=False).argmax(dim=1)==y).float().sum().item()\n",
    "            else :\n",
    "                acc_sum+=(net(x).argmax(dim=1)==y).float().sum().item()\n",
    "\n",
    "        n+=len(y)\n",
    "    return acc_sum/n"
   ]
  },
  {
   "cell_type": "code",
   "execution_count": 66,
   "metadata": {
    "ExecuteTime": {
     "end_time": "2021-08-18T05:36:45.948506Z",
     "start_time": "2021-08-18T05:36:45.941506Z"
    },
    "collapsed": true
   },
   "outputs": [],
   "source": [
    "num_epochs,lr,batch_size=5,100.0,256\n",
    "loss=torch.nn.CrossEntropyLoss()"
   ]
  },
  {
   "cell_type": "code",
   "execution_count": 67,
   "metadata": {
    "ExecuteTime": {
     "end_time": "2021-08-18T05:36:46.303527Z",
     "start_time": "2021-08-18T05:36:46.292526Z"
    },
    "collapsed": true
   },
   "outputs": [],
   "source": [
    "def sgd(params,lr,batch_size):\n",
    "    for p in params:\n",
    "        p.data -= lr * p.grad / batch_size"
   ]
  },
  {
   "cell_type": "code",
   "execution_count": 68,
   "metadata": {
    "ExecuteTime": {
     "end_time": "2021-08-18T05:36:46.619545Z",
     "start_time": "2021-08-18T05:36:46.613544Z"
    },
    "collapsed": true
   },
   "outputs": [],
   "source": [
    "import torchvision \n",
    "from torchvision import transforms"
   ]
  },
  {
   "cell_type": "code",
   "execution_count": 69,
   "metadata": {
    "ExecuteTime": {
     "end_time": "2021-08-18T05:36:46.932563Z",
     "start_time": "2021-08-18T05:36:46.882560Z"
    },
    "collapsed": true
   },
   "outputs": [],
   "source": [
    "batch_size=256\n",
    "mnist_train=torchvision.datasets.FashionMNIST(\n",
    "    root='F:\\study\\ml\\DataSet\\FashionMNIST',train=True,\n",
    "    download=True,transform=transforms.ToTensor())\n",
    "mnist_test=torchvision.datasets.FashionMNIST(\n",
    "    root='F:\\study\\ml\\DataSet\\FashionMNIST',train=False,\n",
    "    download=True,transform=transforms.ToTensor())"
   ]
  },
  {
   "cell_type": "code",
   "execution_count": 70,
   "metadata": {
    "ExecuteTime": {
     "end_time": "2021-08-18T05:36:47.208578Z",
     "start_time": "2021-08-18T05:36:47.199578Z"
    },
    "collapsed": true
   },
   "outputs": [],
   "source": [
    "train_iter=torch.utils.data.DataLoader(mnist_train,batch_size,shuffle=True)\n",
    "test_iter=torch.utils.data.DataLoader(mnist_test,batch_size,shuffle=True)"
   ]
  },
  {
   "cell_type": "code",
   "execution_count": 73,
   "metadata": {
    "ExecuteTime": {
     "end_time": "2021-08-18T05:37:02.155536Z",
     "start_time": "2021-08-18T05:37:02.099334Z"
    },
    "collapsed": true
   },
   "outputs": [],
   "source": [
    "def train_ch3(net,train_iter,test_iter,loss,num_epochs,batch_size,params,lr):\n",
    "    for i in range(num_epochs):\n",
    "        train_l,train_acc,test_acc,n=0,0,0,0\n",
    "        for x,y in train_iter:\n",
    "            y_hat=net(x)\n",
    "            l=loss(y_hat,y).sum()\n",
    "            \n",
    "            if params[0].grad is not None:\n",
    "                for p in params:\n",
    "                    p.grad.data.zero_()\n",
    "            \n",
    "            l.backward()\n",
    "            sgd(params,lr,batch_size)\n",
    "            train_l+=l.item()\n",
    "            train_acc+=(y_hat.argmax(dim=1)==y).float().sum().item()\n",
    "            n+=len(y)\n",
    "        test_acc=eval_acc(test_iter,net)\n",
    "        print('epoch %d,train loss %.4f,train acc %.3f,test acc %.3f' %(\n",
    "        i+1,train_l/n,train_acc/n,test_acc))\n",
    "            \n",
    "    "
   ]
  },
  {
   "cell_type": "code",
   "execution_count": 74,
   "metadata": {
    "ExecuteTime": {
     "end_time": "2021-08-18T05:37:45.821827Z",
     "start_time": "2021-08-18T05:37:02.737763Z"
    }
   },
   "outputs": [
    {
     "name": "stdout",
     "output_type": "stream",
     "text": [
      "epoch 1,train loss 0.0045,train acc 0.554,test acc 0.649\n",
      "epoch 2,train loss 0.0023,train acc 0.784,test acc 0.742\n",
      "epoch 3,train loss 0.0019,train acc 0.826,test acc 0.805\n",
      "epoch 4,train loss 0.0017,train acc 0.841,test acc 0.833\n",
      "epoch 5,train loss 0.0016,train acc 0.850,test acc 0.840\n"
     ]
    }
   ],
   "source": [
    "train_ch3(net, train_iter, test_iter, loss, num_epochs,batch_size, params, lr)"
   ]
  },
  {
   "cell_type": "markdown",
   "metadata": {},
   "source": [
    "drop out by nn"
   ]
  },
  {
   "cell_type": "code",
   "execution_count": 97,
   "metadata": {
    "ExecuteTime": {
     "end_time": "2021-08-18T05:52:49.602436Z",
     "start_time": "2021-08-18T05:52:49.583435Z"
    },
    "collapsed": true
   },
   "outputs": [],
   "source": [
    "class FlattenLayer(nn.Module):\n",
    "    def __init__(self):\n",
    "        super().__init__()\n",
    "    \n",
    "    def forward(self,x):\n",
    "        return x.view(-1,784)\n",
    "        \n",
    "        "
   ]
  },
  {
   "cell_type": "code",
   "execution_count": 98,
   "metadata": {
    "ExecuteTime": {
     "end_time": "2021-08-18T05:52:50.193469Z",
     "start_time": "2021-08-18T05:52:50.174468Z"
    },
    "collapsed": true
   },
   "outputs": [],
   "source": [
    "net=nn.Sequential(\n",
    "    FlattenLayer(),\n",
    "    nn.Linear(num_inputs,num_hiddens1),\n",
    "    nn.ReLU(),\n",
    "    nn.Dropout(drop_prob1),\n",
    "    nn.Linear(num_hiddens1,num_hiddens2),\n",
    "    nn.ReLU(),\n",
    "    nn.Dropout(drop_prob2),\n",
    "    nn.Linear(num_hiddens2,num_outputs)\n",
    ")"
   ]
  },
  {
   "cell_type": "code",
   "execution_count": 99,
   "metadata": {
    "ExecuteTime": {
     "end_time": "2021-08-18T05:52:50.671497Z",
     "start_time": "2021-08-18T05:52:50.659496Z"
    },
    "collapsed": true
   },
   "outputs": [],
   "source": [
    "for p in net.parameters():\n",
    "    nn.init.normal_(p,mean=0,std=0.01)"
   ]
  },
  {
   "cell_type": "code",
   "execution_count": 100,
   "metadata": {
    "ExecuteTime": {
     "end_time": "2021-08-18T05:52:51.081520Z",
     "start_time": "2021-08-18T05:52:51.076520Z"
    }
   },
   "outputs": [],
   "source": [
    "optimizer=optim.SGD(net.parameters(),lr=0.5)"
   ]
  },
  {
   "cell_type": "code",
   "execution_count": 101,
   "metadata": {
    "ExecuteTime": {
     "end_time": "2021-08-18T05:52:51.709556Z",
     "start_time": "2021-08-18T05:52:51.654553Z"
    },
    "collapsed": true
   },
   "outputs": [],
   "source": [
    "def train_ch3_pytorch(net,train_iter,test_iter,loss,num_epochs,batch_size,params,lr\n",
    "                      ,optimizer):\n",
    "    for i in range(num_epochs):\n",
    "        train_l,train_acc,test_acc,n=0,0,0,0\n",
    "        for x,y in train_iter:\n",
    "            y_hat=net(x)\n",
    "            l=loss(y_hat,y).sum()\n",
    "            \n",
    "#             if params[0].grad is not None:\n",
    "#                 for p in params:\n",
    "#                     p.grad.data.zero_()\n",
    "            optimizer.zero_grad()\n",
    "            \n",
    "            l.backward()\n",
    "#             sgd(params,lr,batch_size)\n",
    "            optimizer.step()\n",
    "    \n",
    "            train_l+=l.item()\n",
    "            train_acc+=(y_hat.argmax(dim=1)==y).float().sum().item()\n",
    "            n+=len(y)\n",
    "        test_acc=eval_acc(test_iter,net)\n",
    "        print('epoch %d,train loss %.4f,train acc %.3f,test acc %.3f' %(\n",
    "        i+1,train_l/n,train_acc/n,test_acc))\n",
    "            \n",
    "    "
   ]
  },
  {
   "cell_type": "code",
   "execution_count": 102,
   "metadata": {
    "ExecuteTime": {
     "end_time": "2021-08-18T05:53:31.848852Z",
     "start_time": "2021-08-18T05:52:52.196584Z"
    }
   },
   "outputs": [
    {
     "name": "stdout",
     "output_type": "stream",
     "text": [
      "epoch 1,train loss 0.0045,train acc 0.550,test acc 0.756\n",
      "epoch 2,train loss 0.0022,train acc 0.788,test acc 0.774\n",
      "epoch 3,train loss 0.0019,train acc 0.823,test acc 0.782\n",
      "epoch 4,train loss 0.0017,train acc 0.839,test acc 0.839\n",
      "epoch 5,train loss 0.0016,train acc 0.847,test acc 0.834\n"
     ]
    }
   ],
   "source": [
    "train_ch3_pytorch(net, train_iter, test_iter, loss, num_epochs,batch_size, None, None, optimizer)"
   ]
  },
  {
   "cell_type": "code",
   "execution_count": null,
   "metadata": {
    "collapsed": true
   },
   "outputs": [],
   "source": []
  },
  {
   "cell_type": "code",
   "execution_count": null,
   "metadata": {
    "collapsed": true
   },
   "outputs": [],
   "source": []
  },
  {
   "cell_type": "code",
   "execution_count": null,
   "metadata": {
    "collapsed": true
   },
   "outputs": [],
   "source": []
  }
 ],
 "metadata": {
  "kernelspec": {
   "display_name": "Python 3",
   "language": "python",
   "name": "python3"
  },
  "language_info": {
   "codemirror_mode": {
    "name": "ipython",
    "version": 3
   },
   "file_extension": ".py",
   "mimetype": "text/x-python",
   "name": "python",
   "nbconvert_exporter": "python",
   "pygments_lexer": "ipython3",
   "version": "3.6.3"
  }
 },
 "nbformat": 4,
 "nbformat_minor": 2
}
