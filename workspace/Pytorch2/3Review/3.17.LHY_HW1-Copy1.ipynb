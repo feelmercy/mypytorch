{
 "cells": [
  {
   "cell_type": "code",
   "execution_count": 1,
   "metadata": {
    "ExecuteTime": {
     "end_time": "2021-09-06T06:14:03.057428Z",
     "start_time": "2021-09-06T06:14:00.962309Z"
    },
    "collapsed": true
   },
   "outputs": [],
   "source": [
    "import torch\n",
    "import torch.nn as nn\n",
    "from torch.utils.data import Dataset, DataLoader\n",
    "import numpy as np\n",
    "import torchvision \n",
    "import pandas as pd"
   ]
  },
  {
   "cell_type": "code",
   "execution_count": 2,
   "metadata": {
    "ExecuteTime": {
     "end_time": "2021-09-06T06:14:03.786470Z",
     "start_time": "2021-09-06T06:14:03.696465Z"
    },
    "collapsed": true
   },
   "outputs": [],
   "source": [
    "train_data=pd.read_csv(r'F:\\study\\ml\\HonyiLee2021\\Lhy_Machine_Learning-main\\01 Introduction\\dataset\\covid.train.csv',)\n",
    "test_data=pd.read_csv(r'F:\\study\\ml\\HonyiLee2021\\Lhy_Machine_Learning-main\\01 Introduction\\dataset\\covid.test.csv')"
   ]
  },
  {
   "cell_type": "code",
   "execution_count": 3,
   "metadata": {
    "ExecuteTime": {
     "end_time": "2021-09-06T06:14:04.306500Z",
     "start_time": "2021-09-06T06:14:04.267498Z"
    }
   },
   "outputs": [
    {
     "data": {
      "text/html": [
       "<div>\n",
       "<style>\n",
       "    .dataframe thead tr:only-child th {\n",
       "        text-align: right;\n",
       "    }\n",
       "\n",
       "    .dataframe thead th {\n",
       "        text-align: left;\n",
       "    }\n",
       "\n",
       "    .dataframe tbody tr th {\n",
       "        vertical-align: top;\n",
       "    }\n",
       "</style>\n",
       "<table border=\"1\" class=\"dataframe\">\n",
       "  <thead>\n",
       "    <tr style=\"text-align: right;\">\n",
       "      <th></th>\n",
       "      <th>id</th>\n",
       "      <th>AL</th>\n",
       "      <th>AK</th>\n",
       "      <th>AZ</th>\n",
       "      <th>worried_become_ill.2</th>\n",
       "      <th>worried_finances.2</th>\n",
       "      <th>tested_positive.2</th>\n",
       "    </tr>\n",
       "  </thead>\n",
       "  <tbody>\n",
       "    <tr>\n",
       "      <th>0</th>\n",
       "      <td>0</td>\n",
       "      <td>1.0</td>\n",
       "      <td>0.0</td>\n",
       "      <td>0.0</td>\n",
       "      <td>53.991549</td>\n",
       "      <td>43.604229</td>\n",
       "      <td>20.704935</td>\n",
       "    </tr>\n",
       "    <tr>\n",
       "      <th>1</th>\n",
       "      <td>1</td>\n",
       "      <td>1.0</td>\n",
       "      <td>0.0</td>\n",
       "      <td>0.0</td>\n",
       "      <td>54.185521</td>\n",
       "      <td>42.665766</td>\n",
       "      <td>21.292911</td>\n",
       "    </tr>\n",
       "    <tr>\n",
       "      <th>2</th>\n",
       "      <td>2</td>\n",
       "      <td>1.0</td>\n",
       "      <td>0.0</td>\n",
       "      <td>0.0</td>\n",
       "      <td>53.637069</td>\n",
       "      <td>42.972417</td>\n",
       "      <td>21.166656</td>\n",
       "    </tr>\n",
       "    <tr>\n",
       "      <th>3</th>\n",
       "      <td>3</td>\n",
       "      <td>1.0</td>\n",
       "      <td>0.0</td>\n",
       "      <td>0.0</td>\n",
       "      <td>52.446223</td>\n",
       "      <td>42.907472</td>\n",
       "      <td>19.896607</td>\n",
       "    </tr>\n",
       "    <tr>\n",
       "      <th>4</th>\n",
       "      <td>4</td>\n",
       "      <td>1.0</td>\n",
       "      <td>0.0</td>\n",
       "      <td>0.0</td>\n",
       "      <td>52.560315</td>\n",
       "      <td>43.321985</td>\n",
       "      <td>20.178428</td>\n",
       "    </tr>\n",
       "  </tbody>\n",
       "</table>\n",
       "</div>"
      ],
      "text/plain": [
       "   id   AL   AK   AZ  worried_become_ill.2  worried_finances.2  \\\n",
       "0   0  1.0  0.0  0.0             53.991549           43.604229   \n",
       "1   1  1.0  0.0  0.0             54.185521           42.665766   \n",
       "2   2  1.0  0.0  0.0             53.637069           42.972417   \n",
       "3   3  1.0  0.0  0.0             52.446223           42.907472   \n",
       "4   4  1.0  0.0  0.0             52.560315           43.321985   \n",
       "\n",
       "   tested_positive.2  \n",
       "0          20.704935  \n",
       "1          21.292911  \n",
       "2          21.166656  \n",
       "3          19.896607  \n",
       "4          20.178428  "
      ]
     },
     "execution_count": 3,
     "metadata": {},
     "output_type": "execute_result"
    }
   ],
   "source": [
    "train_data.iloc[:5,[0,1,2,3,-3,-2,-1]]"
   ]
  },
  {
   "cell_type": "code",
   "execution_count": 4,
   "metadata": {
    "ExecuteTime": {
     "end_time": "2021-09-06T06:14:04.722524Z",
     "start_time": "2021-09-06T06:14:04.712523Z"
    }
   },
   "outputs": [
    {
     "data": {
      "text/plain": [
       "(2700, 95)"
      ]
     },
     "execution_count": 4,
     "metadata": {},
     "output_type": "execute_result"
    }
   ],
   "source": [
    "train_data.shape"
   ]
  },
  {
   "cell_type": "code",
   "execution_count": 5,
   "metadata": {
    "ExecuteTime": {
     "end_time": "2021-09-06T06:14:05.176550Z",
     "start_time": "2021-09-06T06:14:05.164549Z"
    },
    "collapsed": true
   },
   "outputs": [],
   "source": [
    "all_features=pd.concat((train_data.iloc[:,1:-1],test_data.iloc[:,1:]))"
   ]
  },
  {
   "cell_type": "code",
   "execution_count": 6,
   "metadata": {
    "ExecuteTime": {
     "end_time": "2021-09-06T06:14:05.706580Z",
     "start_time": "2021-09-06T06:14:05.696579Z"
    }
   },
   "outputs": [
    {
     "data": {
      "text/plain": [
       "(3593, 93)"
      ]
     },
     "execution_count": 6,
     "metadata": {},
     "output_type": "execute_result"
    }
   ],
   "source": [
    "all_features.shape"
   ]
  },
  {
   "cell_type": "markdown",
   "metadata": {},
   "source": [
    "transformer to Norm(0,1)"
   ]
  },
  {
   "cell_type": "code",
   "execution_count": 7,
   "metadata": {
    "ExecuteTime": {
     "end_time": "2021-09-06T06:14:06.853646Z",
     "start_time": "2021-09-06T06:14:06.792642Z"
    },
    "collapsed": true
   },
   "outputs": [],
   "source": [
    "all_features.iloc[:,40:]=all_features.iloc[:,40:].apply(\n",
    "lambda x: (x-x.mean())/ (x.std()))"
   ]
  },
  {
   "cell_type": "code",
   "execution_count": 8,
   "metadata": {
    "ExecuteTime": {
     "end_time": "2021-09-06T06:14:07.896705Z",
     "start_time": "2021-09-06T06:14:07.679693Z"
    },
    "collapsed": true
   },
   "outputs": [],
   "source": [
    "n_train=train_data.shape[0]\n",
    "train_features=torch.Tensor(all_features.iloc[:n_train,:].values)\n",
    "test_features=torch.Tensor(all_features.iloc[n_train:,:].values)\n",
    "train_labels=torch.Tensor(train_data.iloc[:,-1].values).view(-1,1)"
   ]
  },
  {
   "cell_type": "markdown",
   "metadata": {},
   "source": [
    "define net and func"
   ]
  },
  {
   "cell_type": "code",
   "execution_count": 9,
   "metadata": {
    "ExecuteTime": {
     "end_time": "2021-09-06T06:14:10.117832Z",
     "start_time": "2021-09-06T06:14:10.111832Z"
    },
    "collapsed": true
   },
   "outputs": [],
   "source": [
    "loss=nn.MSELoss()"
   ]
  },
  {
   "cell_type": "code",
   "execution_count": 10,
   "metadata": {
    "ExecuteTime": {
     "end_time": "2021-09-06T06:14:10.765869Z",
     "start_time": "2021-09-06T06:14:10.753869Z"
    },
    "collapsed": true
   },
   "outputs": [],
   "source": [
    "def rmse(net,features,labels):\n",
    "    with torch.no_grad():\n",
    "        rmse=torch.sqrt(2*loss(net(features),labels).mean())\n",
    "    return rmse.item()"
   ]
  },
  {
   "cell_type": "code",
   "execution_count": 11,
   "metadata": {
    "ExecuteTime": {
     "end_time": "2021-09-06T06:14:11.146891Z",
     "start_time": "2021-09-06T06:14:11.135891Z"
    },
    "collapsed": true
   },
   "outputs": [],
   "source": [
    "def get_net(num_features):\n",
    "    net=nn.Sequential(\n",
    "        nn.Linear(num_features,256),\n",
    "        nn.ReLU(),\n",
    "        nn.Linear(256,1)\n",
    "    )\n",
    "    return net"
   ]
  },
  {
   "cell_type": "code",
   "execution_count": 12,
   "metadata": {
    "ExecuteTime": {
     "end_time": "2021-09-06T06:14:11.619918Z",
     "start_time": "2021-09-06T06:14:11.568915Z"
    },
    "collapsed": true
   },
   "outputs": [],
   "source": [
    "def train(net,train_features,train_labels,test_features,test_labels,num_epochs,\n",
    "         learning_rate,weight_decay,batch_size):\n",
    "    train_ls,test_ls=[],[]\n",
    "    dataset=torch.utils.data.TensorDataset(train_features,train_labels)\n",
    "    train_iter=torch.utils.data.DataLoader(dataset,batch_size,shuffle=True)\n",
    "    optimizer=torch.optim.Adam(net.parameters(),lr=learning_rate,\n",
    "                               weight_decay=weight_decay)\n",
    "    for e in range(num_epochs):\n",
    "        for x,y in train_iter:\n",
    "            l=loss(net(x),y)\n",
    "            optimizer.zero_grad()\n",
    "            l.backward()\n",
    "            optimizer.step()\n",
    "        train_ls.append(rmse(net,train_features,train_labels))\n",
    "        if test_labels is not None:\n",
    "            test_ls.append(rmse(net,test_features,test_labels))\n",
    "    return train_ls,test_ls\n",
    "    "
   ]
  },
  {
   "cell_type": "code",
   "execution_count": 13,
   "metadata": {
    "ExecuteTime": {
     "end_time": "2021-09-06T06:14:12.018941Z",
     "start_time": "2021-09-06T06:14:11.984939Z"
    },
    "collapsed": true
   },
   "outputs": [],
   "source": [
    "def get_k_fold_data(k,i,x,y):\n",
    "    assert k>1\n",
    "    fold_size=x.shape[0]//k\n",
    "    x_train,y_train=None,None\n",
    "    for j in range(k):\n",
    "        idx=slice(j*fold_size,(j+1)*fold_size)\n",
    "        x_part,y_part=x[idx,:],y[idx]\n",
    "        if j==i:\n",
    "            x_valid,y_valid=x_part,y_part\n",
    "        elif x_train is None:\n",
    "            x_train,y_train=x_part,y_part\n",
    "        else:\n",
    "            x_train=torch.cat((x_train,x_part))\n",
    "            y_train=torch.cat((y_train,y_part))\n",
    "    return x_train,y_train,x_valid,y_valid"
   ]
  },
  {
   "cell_type": "code",
   "execution_count": 14,
   "metadata": {
    "ExecuteTime": {
     "end_time": "2021-09-06T06:14:12.442965Z",
     "start_time": "2021-09-06T06:14:12.413964Z"
    },
    "collapsed": true
   },
   "outputs": [],
   "source": [
    "def k_fold(k,x_train,y_train,num_epochs,lr,weight_decay,batch_size):\n",
    "    train_l_sum,valid_l_sum=0,0\n",
    "    for i in range(k):\n",
    "        data=get_k_fold_data(k,i,x_train,y_train)\n",
    "        net=get_net(x_train.shape[1])\n",
    "        train_ls,valid_ls=train(net,*data,num_epochs,lr,weight_decay,batch_size)\n",
    "        train_l_sum+=train_ls[-1]\n",
    "        valid_l_sum+=valid_ls[-1]\n",
    "        print('fold %d ,train rmse %f,valid rmse %f ' % (\n",
    "        i,train_ls[-1],valid_ls[-1]))\n",
    "    return train_l_sum/k,valid_l_sum/k"
   ]
  },
  {
   "cell_type": "code",
   "execution_count": 17,
   "metadata": {
    "ExecuteTime": {
     "end_time": "2021-09-06T06:21:06.815666Z",
     "start_time": "2021-09-06T06:21:06.808666Z"
    },
    "collapsed": true
   },
   "outputs": [],
   "source": [
    "k,num_epochs,lr,weight_decay,batch_size=5,100,0.05,0,64"
   ]
  },
  {
   "cell_type": "code",
   "execution_count": 18,
   "metadata": {
    "ExecuteTime": {
     "end_time": "2021-09-06T06:21:41.033623Z",
     "start_time": "2021-09-06T06:21:09.399814Z"
    }
   },
   "outputs": [
    {
     "name": "stdout",
     "output_type": "stream",
     "text": [
      "fold 0 ,train rmse 1.186547,valid rmse 3.828812 \n",
      "fold 1 ,train rmse 1.281961,valid rmse 7.523718 \n",
      "fold 2 ,train rmse 1.180311,valid rmse 5.327919 \n",
      "fold 3 ,train rmse 1.401944,valid rmse 6.241438 \n",
      "fold 4 ,train rmse 1.500206,valid rmse 5.292349 \n",
      "5-fold validation : avg train rmse 1.310194,avg valid rmse 5.642847\n"
     ]
    }
   ],
   "source": [
    "train_l,valid_l=k_fold(k,train_features,train_labels,num_epochs,lr,\n",
    "                      weight_decay,batch_size)\n",
    "print('%d-fold validation : avg train rmse %f,avg valid rmse %f' % (\n",
    "k,train_l,valid_l))"
   ]
  },
  {
   "cell_type": "code",
   "execution_count": null,
   "metadata": {
    "collapsed": true
   },
   "outputs": [],
   "source": []
  }
 ],
 "metadata": {
  "kernelspec": {
   "display_name": "Python 3",
   "language": "python",
   "name": "python3"
  },
  "language_info": {
   "codemirror_mode": {
    "name": "ipython",
    "version": 3
   },
   "file_extension": ".py",
   "mimetype": "text/x-python",
   "name": "python",
   "nbconvert_exporter": "python",
   "pygments_lexer": "ipython3",
   "version": "3.6.3"
  }
 },
 "nbformat": 4,
 "nbformat_minor": 2
}
