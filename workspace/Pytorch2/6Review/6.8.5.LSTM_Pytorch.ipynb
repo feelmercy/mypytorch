{
 "cells": [
  {
   "cell_type": "code",
   "execution_count": 1,
   "metadata": {
    "ExecuteTime": {
     "end_time": "2022-03-18T08:37:49.106662Z",
     "start_time": "2022-03-18T08:37:43.479340Z"
    },
    "collapsed": true
   },
   "outputs": [],
   "source": [
    "import time\n",
    "import math\n",
    "import numpy as np\n",
    "import torch\n",
    "from torch import nn,optim\n",
    "import torch.nn.functional as F\n",
    "import random\n",
    "import zipfile\n",
    "device='cpu'"
   ]
  },
  {
   "cell_type": "code",
   "execution_count": 2,
   "metadata": {
    "ExecuteTime": {
     "end_time": "2022-03-18T08:37:49.143664Z",
     "start_time": "2022-03-18T08:37:49.112662Z"
    },
    "collapsed": true
   },
   "outputs": [],
   "source": [
    "def load_data_jay_lyrics():\n",
    "    with zipfile.ZipFile(r'F:\\study\\ml\\ebooks3\\6\\jaychou_lyrics.txt.zip') as zin:\n",
    "        with zin.open('jaychou_lyrics.txt') as f:\n",
    "            corpus_chars=f.read().decode('utf-8')\n",
    "    corpus_chars=corpus_chars.replace('\\n',' ').replace('\\r',' ')\n",
    "    corpus_chars=corpus_chars[0:10000]\n",
    "    idx_to_char=list(set(corpus_chars))\n",
    "    char_to_idx=dict([( char,i ) for i , char in enumerate(idx_to_char)])\n",
    "    vocab_size=len(char_to_idx)\n",
    "    corpus_indices=[char_to_idx[char] for char in corpus_chars]\n",
    "    return corpus_indices, char_to_idx, idx_to_char, vocab_size"
   ]
  },
  {
   "cell_type": "code",
   "execution_count": 3,
   "metadata": {
    "ExecuteTime": {
     "end_time": "2022-03-18T08:37:49.284672Z",
     "start_time": "2022-03-18T08:37:49.148664Z"
    },
    "collapsed": true
   },
   "outputs": [],
   "source": [
    "corpus_indices,char_to_idx,idx_to_char,vocab_size=load_data_jay_lyrics()"
   ]
  },
  {
   "cell_type": "code",
   "execution_count": 4,
   "metadata": {
    "ExecuteTime": {
     "end_time": "2022-03-18T08:37:49.298673Z",
     "start_time": "2022-03-18T08:37:49.290672Z"
    },
    "collapsed": true
   },
   "outputs": [],
   "source": [
    "num_inputs,num_hiddens,num_outputs=vocab_size,256,vocab_size"
   ]
  },
  {
   "cell_type": "code",
   "execution_count": 5,
   "metadata": {
    "ExecuteTime": {
     "end_time": "2022-03-18T08:37:49.325674Z",
     "start_time": "2022-03-18T08:37:49.303673Z"
    },
    "collapsed": true
   },
   "outputs": [],
   "source": [
    "def to_onehot(x,n_class):\n",
    "    def _one_hot(x,n_class):\n",
    "        x=x.long()\n",
    "        res=torch.zeros(x.shape[0],vocab_size,dtype=torch.float32)\n",
    "        res.scatter_(1,x.view(-1,1),1)\n",
    "        return res\n",
    "    return [_one_hot(x[:,i],n_class) for i in range(x.shape[1])]"
   ]
  },
  {
   "cell_type": "code",
   "execution_count": 6,
   "metadata": {
    "ExecuteTime": {
     "end_time": "2022-03-18T08:37:49.343675Z",
     "start_time": "2022-03-18T08:37:49.327674Z"
    },
    "collapsed": true
   },
   "outputs": [],
   "source": [
    "class RNNModel(nn.Module):\n",
    "    def __init__(self,rnn_layer,vocab_size):\n",
    "        super().__init__()\n",
    "        self.rnn=rnn_layer\n",
    "        self.hidden_size=rnn_layer.hidden_size * (2 if rnn_layer.bidirectional else 1)\n",
    "        self.vocab_size=vocab_size\n",
    "        self.dense=nn.Linear(self.hidden_size,self.vocab_size)\n",
    "        self.state=None\n",
    "        \n",
    "    def forward(self,inputs,state):\n",
    "        x=to_onehot(inputs,self.vocab_size)\n",
    "        y,self.state=self.rnn(torch.stack(x),state)\n",
    "        output=self.dense(y.view(-1,y.shape[-1]))\n",
    "        return output,self.state"
   ]
  },
  {
   "cell_type": "code",
   "execution_count": 7,
   "metadata": {
    "ExecuteTime": {
     "end_time": "2022-03-18T08:37:49.361676Z",
     "start_time": "2022-03-18T08:37:49.344675Z"
    },
    "collapsed": true
   },
   "outputs": [],
   "source": [
    "def predict_rnn_pytorch(prefix,num_chars,model,vocab_size,device,idx_to_char,char_to_idx):\n",
    "    state=None\n",
    "    outputs=[char_to_idx[prefix[0]]]\n",
    "    for t in range(num_chars+len(prefix)-1):\n",
    "        x=torch.Tensor([outputs[-1]]).view(1,1)\n",
    "        if state is not None:\n",
    "            if isinstance(state ,tuple):\n",
    "                state=(state[0],state[1])\n",
    "            else :\n",
    "                state=state\n",
    "        (y,state)=model(x,state)\n",
    "        if t < len(prefix) -1 :\n",
    "            outputs.append(char_to_idx[prefix[t+1]])\n",
    "        else:\n",
    "            outputs.append(int(y.argmax(dim=1).item()))\n",
    "    return ''.join([idx_to_char[i] for i in outputs])"
   ]
  },
  {
   "cell_type": "code",
   "execution_count": 8,
   "metadata": {
    "ExecuteTime": {
     "end_time": "2022-03-18T08:37:52.904879Z",
     "start_time": "2022-03-18T08:37:51.929823Z"
    }
   },
   "outputs": [
    {
     "data": {
      "text/plain": [
       "'分开社托托托社托托托托托'"
      ]
     },
     "execution_count": 8,
     "metadata": {},
     "output_type": "execute_result"
    }
   ],
   "source": [
    "lr=1e-2\n",
    "lstm_layer=nn.LSTM(input_size=vocab_size,hidden_size=num_hiddens)\n",
    "model=RNNModel(lstm_layer,vocab_size)\n",
    "predict_rnn_pytorch('分开',10,model,vocab_size,device,idx_to_char,char_to_idx)"
   ]
  },
  {
   "cell_type": "code",
   "execution_count": null,
   "metadata": {
    "collapsed": true
   },
   "outputs": [],
   "source": [
    "nn.LSTM()"
   ]
  },
  {
   "cell_type": "code",
   "execution_count": null,
   "metadata": {
    "collapsed": true
   },
   "outputs": [],
   "source": []
  },
  {
   "cell_type": "code",
   "execution_count": null,
   "metadata": {
    "collapsed": true
   },
   "outputs": [],
   "source": []
  }
 ],
 "metadata": {
  "kernelspec": {
   "display_name": "Python 3",
   "language": "python",
   "name": "python3"
  },
  "language_info": {
   "codemirror_mode": {
    "name": "ipython",
    "version": 3
   },
   "file_extension": ".py",
   "mimetype": "text/x-python",
   "name": "python",
   "nbconvert_exporter": "python",
   "pygments_lexer": "ipython3",
   "version": "3.6.3"
  }
 },
 "nbformat": 4,
 "nbformat_minor": 2
}
