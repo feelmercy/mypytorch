{
 "cells": [
  {
   "cell_type": "code",
   "execution_count": 9,
   "metadata": {
    "ExecuteTime": {
     "end_time": "2022-03-15T05:52:35.297957Z",
     "start_time": "2022-03-15T05:52:35.280956Z"
    },
    "collapsed": true
   },
   "outputs": [],
   "source": [
    "import time\n",
    "import math\n",
    "import numpy as np\n",
    "import torch\n",
    "from torch import nn,optim\n",
    "import torch.nn.functional as F\n",
    "import random\n",
    "import zipfile\n",
    "device='cpu'"
   ]
  },
  {
   "cell_type": "code",
   "execution_count": 10,
   "metadata": {
    "ExecuteTime": {
     "end_time": "2022-03-15T05:52:35.495968Z",
     "start_time": "2022-03-15T05:52:35.472967Z"
    },
    "collapsed": true
   },
   "outputs": [],
   "source": [
    "def load_data_jay_lyrics():\n",
    "    with zipfile.ZipFile(r'F:\\study\\ml\\ebooks3\\6\\jaychou_lyrics.txt.zip') as zin:\n",
    "        with zin.open('jaychou_lyrics.txt') as f:\n",
    "            corpus_chars=f.read().decode('utf-8')\n",
    "    corpus_chars=corpus_chars.replace('\\n',' ').replace('\\r',' ')\n",
    "    corpus_chars=corpus_chars[0:10000]\n",
    "    idx_to_char=list(set(corpus_chars))\n",
    "    char_to_idx=dict([( char,i ) for i , char in enumerate(idx_to_char)])\n",
    "    vocab_size=len(char_to_idx)\n",
    "    corpus_indices=[char_to_idx[char] for char in corpus_chars]\n",
    "    return corpus_indices, char_to_idx, idx_to_char, vocab_size"
   ]
  },
  {
   "cell_type": "code",
   "execution_count": 11,
   "metadata": {
    "ExecuteTime": {
     "end_time": "2022-03-15T05:52:35.651977Z",
     "start_time": "2022-03-15T05:52:35.638977Z"
    },
    "collapsed": true
   },
   "outputs": [],
   "source": [
    "corpus_indices,char_to_idx,idx_to_char,vocab_size=load_data_jay_lyrics()"
   ]
  },
  {
   "cell_type": "code",
   "execution_count": 12,
   "metadata": {
    "ExecuteTime": {
     "end_time": "2022-03-15T05:52:35.823987Z",
     "start_time": "2022-03-15T05:52:35.819987Z"
    },
    "collapsed": true
   },
   "outputs": [],
   "source": [
    "num_inputs,num_hiddens,num_outputs=vocab_size,256,vocab_size"
   ]
  },
  {
   "cell_type": "code",
   "execution_count": 17,
   "metadata": {
    "ExecuteTime": {
     "end_time": "2022-03-15T05:52:46.789614Z",
     "start_time": "2022-03-15T05:52:46.770613Z"
    },
    "collapsed": true
   },
   "outputs": [],
   "source": [
    "def to_onehot(x,n_class):\n",
    "    def _one_hot(x,n_class):\n",
    "        x=x.long()\n",
    "        res=torch.zeros(x.shape[0],vocab_size,dtype=torch.float32)\n",
    "        res.scatter_(1,x.view(-1,1),1)\n",
    "        return res\n",
    "    return [_one_hot(x[:,i],n_class) for i in range(x.shape[1])]"
   ]
  },
  {
   "cell_type": "code",
   "execution_count": 18,
   "metadata": {
    "ExecuteTime": {
     "end_time": "2022-03-15T05:52:47.258641Z",
     "start_time": "2022-03-15T05:52:47.224639Z"
    },
    "collapsed": true
   },
   "outputs": [],
   "source": [
    "class RNNModel(nn.Module):\n",
    "    def __init__(self,rnn_layer,vocab_size):\n",
    "        super().__init__()\n",
    "        self.rnn=rnn_layer\n",
    "        self.hidden_size=rnn_layer.hidden_size * (2 if rnn_layer.bidirectional else 1)\n",
    "        self.vocab_size=vocab_size\n",
    "        self.dense=nn.Linear(self.hidden_size,self.vocab_size)\n",
    "        self.state=None\n",
    "        \n",
    "    def forward(self,inputs,state):\n",
    "        x=to_onehot(inputs,self.vocab_size)\n",
    "        y,self.state=self.rnn(torch.stack(x),state)\n",
    "        output=self.dense(y.view(-1,y.shape[-1]))\n",
    "        return output,self.state"
   ]
  },
  {
   "cell_type": "code",
   "execution_count": 19,
   "metadata": {
    "ExecuteTime": {
     "end_time": "2022-03-15T05:52:47.849675Z",
     "start_time": "2022-03-15T05:52:47.808673Z"
    },
    "collapsed": true
   },
   "outputs": [],
   "source": [
    "def predict_rnn_pytorch(prefix,num_chars,model,vocab_size,device,idx_to_char,char_to_idx):\n",
    "    state=None\n",
    "    outputs=[char_to_idx[prefix[0]]]\n",
    "    for t in range(num_chars+len(prefix)-1):\n",
    "        x=torch.Tensor([outputs[-1]]).view(1,1)\n",
    "        if state is not None:\n",
    "            if isinstance(state,tuple):\n",
    "                state=(state[0],state[1])\n",
    "            else:\n",
    "                state=state\n",
    "        (y,state)=model(x,state)\n",
    "        if t<len(prefix)-1:\n",
    "            outputs.append(char_to_idx[prefix[t+1]])\n",
    "        else:\n",
    "            outputs.append(int(y.argmax(dim=1).item()))\n",
    "    return ''.join([idx_to_char[i] for i in outputs])\n",
    "    "
   ]
  },
  {
   "cell_type": "code",
   "execution_count": 20,
   "metadata": {
    "ExecuteTime": {
     "end_time": "2022-03-15T05:52:48.965739Z",
     "start_time": "2022-03-15T05:52:48.912736Z"
    }
   },
   "outputs": [
    {
     "data": {
      "text/plain": [
       "'分开尾尾尾尾尾尾尾尾尾尾'"
      ]
     },
     "execution_count": 20,
     "metadata": {},
     "output_type": "execute_result"
    }
   ],
   "source": [
    "lr=1e-2\n",
    "lstm_layer=nn.LSTM(input_size=vocab_size,hidden_size=num_hiddens)\n",
    "model=RNNModel(lstm_layer,vocab_size)\n",
    "predict_rnn_pytorch('分开',10,model,vocab_size,device,idx_to_char,char_to_idx)"
   ]
  },
  {
   "cell_type": "code",
   "execution_count": 21,
   "metadata": {
    "ExecuteTime": {
     "end_time": "2022-03-15T06:48:38.789338Z",
     "start_time": "2022-03-15T06:48:38.767337Z"
    },
    "collapsed": true
   },
   "outputs": [],
   "source": [
    "def grad_clipping(params,theta,device):\n",
    "    norm=torch.Tensor([0.0])\n",
    "    for p in params:\n",
    "        norm+=(p.grad.data **2).sum()\n",
    "    norm=norm.sqrt().item()\n",
    "    if norm > theta:\n",
    "        for p in params:\n",
    "            p.grad.data *= (theta/norm)"
   ]
  },
  {
   "cell_type": "code",
   "execution_count": 26,
   "metadata": {
    "ExecuteTime": {
     "end_time": "2022-03-15T06:59:32.777744Z",
     "start_time": "2022-03-15T06:59:32.741742Z"
    },
    "collapsed": true
   },
   "outputs": [],
   "source": [
    "def data_iter_consecutive(corpus_indices,batch_size,num_steps,device=None):\n",
    "    if device is None:\n",
    "        device=torch.device('cuda' if torch.cuda.is_available() else 'cpu')\n",
    "    corpus_indices=torch.Tensor(corpus_indices,device=device)\n",
    "    data_len=len(corpus_indices)\n",
    "    batch_len=data_len//batch_size\n",
    "    indices=corpus_indices[0:batch_size*batch_len].view(batch_size,batch_len)\n",
    "    epoch_size=(batch_len-1)//num_steps\n",
    "    for i in range(epoch_size):\n",
    "        i=i*num_steps\n",
    "        X=indices[:,i:i+num_steps]\n",
    "        Y=indices[:,i+1:i+num_steps+1]\n",
    "        yield X,Y"
   ]
  },
  {
   "cell_type": "code",
   "execution_count": 33,
   "metadata": {
    "ExecuteTime": {
     "end_time": "2022-03-15T07:03:01.177664Z",
     "start_time": "2022-03-15T07:03:01.077658Z"
    },
    "collapsed": true
   },
   "outputs": [],
   "source": [
    "def train_and_predict_rnn_pytorch(model,num_hiddens,vocab_size,device,corpus_indices,idx_to_char,char_to_idx,num_epochs,num_steps,lr,\n",
    "                                 clipping_theta,batch_size,pred_period,pred_len,prefixes):\n",
    "    loss=nn.CrossEntropyLoss()\n",
    "    optimizer=optim.Adam(model.parameters(),lr=lr)\n",
    "    model.to(device)\n",
    "    state=None\n",
    "    for epoch in range(num_epochs):\n",
    "        l_sum,n,start=0.0,0,time.time()\n",
    "        data_iter=data_iter_consecutive(corpus_indices,batch_size,num_steps)\n",
    "        for x,y in data_iter:\n",
    "            if state is not None:\n",
    "                if isinstance(state,tuple):\n",
    "                    state=(state[0].detach(),state[1].detach())\n",
    "                else:\n",
    "                    state=state.detach()\n",
    "            (output,state)=model(x,state)\n",
    "            y=torch.transpose(y,0,1).contiguous().view(-1)\n",
    "            \n",
    "            l=loss(output,y.long())\n",
    "            optimizer.zero_grad()\n",
    "            l.backward()\n",
    "            grad_clipping(model.parameters(),clipping_theta,device)\n",
    "            optimizer.step()\n",
    "            \n",
    "            l_sum+=l.item()*y.shape[0]\n",
    "            n+=y.shape[0]\n",
    "        try:\n",
    "            perplexity=math.exp(l_sum/n)\n",
    "        except OverflowError:\n",
    "            perplexity=float('inf')\n",
    "            \n",
    "        if (epoch +1) % pred_period==0:\n",
    "            print('epoch %d ,perplexity %f,time %.2f sec' % (epoch+1,perplexity,time.time()-start))\n",
    "            \n",
    "            for prefix in prefixes:\n",
    "                print('-',predict_rnn_pytorch(prefix,pred_len,model,vocab_size,device,idx_to_char,char_to_idx))"
   ]
  },
  {
   "cell_type": "code",
   "execution_count": 34,
   "metadata": {
    "ExecuteTime": {
     "end_time": "2022-03-15T07:03:01.716694Z",
     "start_time": "2022-03-15T07:03:01.707694Z"
    },
    "collapsed": true
   },
   "outputs": [],
   "source": [
    "num_epochs, num_steps, batch_size, lr, clipping_theta = 160, 35, 32,1e2, 1e-2\n",
    "pred_period, pred_len, prefixes = 40, 50, ['分开', '不分开']"
   ]
  },
  {
   "cell_type": "code",
   "execution_count": 35,
   "metadata": {
    "ExecuteTime": {
     "end_time": "2022-03-15T07:08:07.072160Z",
     "start_time": "2022-03-15T07:03:02.357731Z"
    }
   },
   "outputs": [
    {
     "name": "stdout",
     "output_type": "stream",
     "text": [
      "epoch 40 ,perplexity 1.015366,time 1.81 sec\n",
      "- 分开手的话像语言暴力 我已无能为力再提起 决定中断熟悉 然后在这里 不限日期 然后将过去 慢慢温习 让我\n",
      "- 不分开暴风圈来不及逃 我不能再想 我不能再想 我不 我不 我不能 爱情走的太快就像龙卷风 不能承受我已无处\n",
      "epoch 80 ,perplexity 1.012469,time 1.68 sec\n",
      "- 分开始打呼 管家是一只会说法语举止优雅的猪 吸血前会念约翰福音做为弥补 拥有一双蓝色眼睛的凯萨琳公主 专\n",
      "- 不分开暴风圈来不及逃 我不能再想 我不能再想 我不 我不 我不能 爱情走的太快就像龙卷风 不能承受我已无处\n",
      "epoch 120 ,perplexity 1.009547,time 1.80 sec\n",
      "- 分开始打呼 管家是一只会说法语举止优雅的猪 吸血前会念约翰福音做为弥补 拥有一双蓝色眼睛的凯萨琳公主 专\n",
      "- 不分开暴风圈来不及逃 我不能再想 我不能再想 我不 我不 我不能 爱情走的太快就像龙卷风 不能承受我已无处\n",
      "epoch 160 ,perplexity 3.368534,time 1.66 sec\n",
      "- 分开 干什么面对我爱才 双截棍 哼哼哈兮 快使用双截棍 哼哼哈兮 快使用双截棍 哼哼哈兮 习惯 在人海中\n",
      "- 不分开暴力 我已无能不能再想 我不要再想 我不要再想 我不要再想 我不要再想 我不要再想 我不要再想 我不\n"
     ]
    }
   ],
   "source": [
    "lr=1e-2\n",
    "gru_layer=nn.GRU(input_size=vocab_size,hidden_size=num_hiddens)\n",
    "model=RNNModel(gru_layer,vocab_size)\n",
    "train_and_predict_rnn_pytorch(model,num_hiddens,vocab_size,device,corpus_indices,idx_to_char,char_to_idx,num_epochs,num_steps,lr,\n",
    "                                 clipping_theta,batch_size,pred_period,pred_len,prefixes)"
   ]
  }
 ],
 "metadata": {
  "kernelspec": {
   "display_name": "Python 3",
   "language": "python",
   "name": "python3"
  },
  "language_info": {
   "codemirror_mode": {
    "name": "ipython",
    "version": 3
   },
   "file_extension": ".py",
   "mimetype": "text/x-python",
   "name": "python",
   "nbconvert_exporter": "python",
   "pygments_lexer": "ipython3",
   "version": "3.6.3"
  }
 },
 "nbformat": 4,
 "nbformat_minor": 2
}
