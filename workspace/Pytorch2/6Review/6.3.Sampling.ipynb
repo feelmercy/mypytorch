{
 "cells": [
  {
   "cell_type": "code",
   "execution_count": 1,
   "metadata": {
    "ExecuteTime": {
     "end_time": "2022-02-10T07:38:57.572965Z",
     "start_time": "2022-02-10T07:38:55.423842Z"
    },
    "collapsed": true
   },
   "outputs": [],
   "source": [
    "import torch\n",
    "import random\n",
    "import zipfile"
   ]
  },
  {
   "cell_type": "code",
   "execution_count": 2,
   "metadata": {
    "ExecuteTime": {
     "end_time": "2022-02-10T07:38:57.666970Z",
     "start_time": "2022-02-10T07:38:57.579965Z"
    }
   },
   "outputs": [
    {
     "data": {
      "text/plain": [
       "'想要有直升机\\n想要和你飞到宇宙去\\n想要和你融化在一起\\n融化在宇宙里\\n我每天每天每天在想想想想著你\\n这样的甜蜜\\n让我开始乡相信命运\\n感谢地心引力\\n让我碰到你\\n漂亮的让我面红的可爱女人\\n温柔的让我心疼的可'"
      ]
     },
     "execution_count": 2,
     "metadata": {},
     "output_type": "execute_result"
    }
   ],
   "source": [
    "with zipfile.ZipFile(r'F:\\study\\ml\\ebooks3\\6\\jaychou_lyrics.txt.zip') as zin:\n",
    "    with zin.open('jaychou_lyrics.txt') as f:\n",
    "        corpus_chars=f.read().decode('utf-8')\n",
    "corpus_chars[:100]"
   ]
  },
  {
   "cell_type": "code",
   "execution_count": 3,
   "metadata": {
    "ExecuteTime": {
     "end_time": "2022-02-10T07:38:57.672971Z",
     "start_time": "2022-02-10T07:38:57.668970Z"
    },
    "collapsed": true
   },
   "outputs": [],
   "source": [
    "corpus_chars=corpus_chars.replace('\\n',' ').replace('\\r',' ')\n",
    "corpus_chars=corpus_chars[0:10000]"
   ]
  },
  {
   "cell_type": "code",
   "execution_count": 4,
   "metadata": {
    "ExecuteTime": {
     "end_time": "2022-02-10T07:38:57.706973Z",
     "start_time": "2022-02-10T07:38:57.675971Z"
    }
   },
   "outputs": [
    {
     "data": {
      "text/plain": [
       "1027"
      ]
     },
     "execution_count": 4,
     "metadata": {},
     "output_type": "execute_result"
    }
   ],
   "source": [
    "idx_to_char=list(set(corpus_chars))\n",
    "char_to_idx=dict([( char,i ) for i , char in enumerate(idx_to_char)])\n",
    "vocab_size=len(char_to_idx)\n",
    "vocab_size"
   ]
  },
  {
   "cell_type": "code",
   "execution_count": 5,
   "metadata": {
    "ExecuteTime": {
     "end_time": "2022-02-10T07:38:57.725974Z",
     "start_time": "2022-02-10T07:38:57.709973Z"
    }
   },
   "outputs": [
    {
     "name": "stdout",
     "output_type": "stream",
     "text": [
      "chars :  想要有直升机 想要和你飞到宇宙去 想要和\n",
      "indices :  [592, 73, 45, 902, 470, 315, 80, 592, 73, 329, 768, 652, 590, 856, 148, 39, 80, 592, 73, 329]\n"
     ]
    }
   ],
   "source": [
    "corpus_indices=[char_to_idx[char] for char in corpus_chars]\n",
    "sample=corpus_indices[:20]\n",
    "print('chars : ',''.join([idx_to_char[idx] for idx in sample]))\n",
    "print('indices : ',sample)"
   ]
  },
  {
   "cell_type": "code",
   "execution_count": 6,
   "metadata": {
    "ExecuteTime": {
     "end_time": "2022-02-10T07:38:57.776977Z",
     "start_time": "2022-02-10T07:38:57.728974Z"
    },
    "collapsed": true
   },
   "outputs": [],
   "source": [
    "def data_iter_random(corpus_indices,batch_size,num_steps,device=None):\n",
    "    num_examples=(len(corpus_indices)-1) // num_steps\n",
    "    epoch_size=num_examples // batch_size\n",
    "    example_indices=list(range(num_examples))\n",
    "    random.shuffle(example_indices)\n",
    "    \n",
    "    def _data (pos):\n",
    "        return corpus_indices[pos:pos+num_steps]\n",
    "    \n",
    "    if device is None:\n",
    "        device=torch.device('cuda' if torch.cuda.is_available() else 'cpu')\n",
    "        \n",
    "    for i in range(epoch_size):\n",
    "        i = i* batch_size\n",
    "        batch_indices=example_indices[i:i+batch_size]\n",
    "        X=[_data(j* num_examples) for j in batch_indices]\n",
    "        Y=[_data(j*num_examples+1) for j in batch_indices]\n",
    "        yield torch.tensor(X,dtype=torch.float32,device=device),torch.tensor(Y,dtype=torch.float32,device=device)"
   ]
  },
  {
   "cell_type": "code",
   "execution_count": 7,
   "metadata": {
    "ExecuteTime": {
     "end_time": "2022-02-10T07:38:58.094995Z",
     "start_time": "2022-02-10T07:38:58.087994Z"
    }
   },
   "outputs": [
    {
     "name": "stdout",
     "output_type": "stream",
     "text": [
      "X :  tensor([[12., 13., 14., 15., 16., 17.],\n",
      "        [ 0.,  1.,  2.,  3.,  4.,  5.]]) \n",
      "Y :  tensor([[13., 14., 15., 16., 17., 18.],\n",
      "        [ 1.,  2.,  3.,  4.,  5.,  6.]]) \n",
      "\n",
      "X :  tensor([[ 4.,  5.,  6.,  7.,  8.,  9.],\n",
      "        [ 8.,  9., 10., 11., 12., 13.]]) \n",
      "Y :  tensor([[ 5.,  6.,  7.,  8.,  9., 10.],\n",
      "        [ 9., 10., 11., 12., 13., 14.]]) \n",
      "\n"
     ]
    }
   ],
   "source": [
    "my_seq=list(range(30))\n",
    "for X,Y in data_iter_random(my_seq,batch_size=2,num_steps=6):\n",
    "    print('X : ',X,'\\nY : ', Y,'\\n')"
   ]
  },
  {
   "cell_type": "code",
   "execution_count": 8,
   "metadata": {
    "ExecuteTime": {
     "end_time": "2022-02-10T07:39:01.927214Z",
     "start_time": "2022-02-10T07:39:01.911213Z"
    },
    "collapsed": true
   },
   "outputs": [],
   "source": [
    "def data_iter_consecutive(corpus_indices,batch_size,num_steps,device=None):\n",
    "    if device is None:\n",
    "        device=torch.device('cuda' if torch.cuda.is_available() else 'cpu')\n",
    "        corpus_indices=torch.tensor(corpus_indices,dtype=torch.float32,device=device)\n",
    "        data_len=len(corpus_indices)\n",
    "        batch_len=data_len//batch_size\n",
    "        indices=corpus_indices[0:batch_size*batch_len].view(batch_size,batch_len)\n",
    "        epoch_size=(batch_len-1) // num_steps\n",
    "        for i in range(epoch_size):\n",
    "            i=i*num_steps\n",
    "            X=indices[:,i:i+num_steps]\n",
    "            Y=indices[:,i+1:i+num_steps+1]\n",
    "            yield X,Y"
   ]
  },
  {
   "cell_type": "code",
   "execution_count": 9,
   "metadata": {
    "ExecuteTime": {
     "end_time": "2022-02-10T07:39:02.952273Z",
     "start_time": "2022-02-10T07:39:02.920271Z"
    }
   },
   "outputs": [
    {
     "name": "stdout",
     "output_type": "stream",
     "text": [
      "X :  tensor([[ 0.,  1.,  2.,  3.,  4.,  5.],\n",
      "        [15., 16., 17., 18., 19., 20.]]) \n",
      "Y:  tensor([[ 1.,  2.,  3.,  4.,  5.,  6.],\n",
      "        [16., 17., 18., 19., 20., 21.]]) \n",
      "\n",
      "X :  tensor([[ 6.,  7.,  8.,  9., 10., 11.],\n",
      "        [21., 22., 23., 24., 25., 26.]]) \n",
      "Y:  tensor([[ 7.,  8.,  9., 10., 11., 12.],\n",
      "        [22., 23., 24., 25., 26., 27.]]) \n",
      "\n"
     ]
    }
   ],
   "source": [
    "for X,Y in data_iter_consecutive(my_seq,batch_size=2,num_steps=6):\n",
    "    print('X : ',X,'\\nY: ',Y,'\\n')"
   ]
  },
  {
   "cell_type": "code",
   "execution_count": 13,
   "metadata": {
    "ExecuteTime": {
     "end_time": "2022-02-10T07:41:57.315246Z",
     "start_time": "2022-02-10T07:41:57.293244Z"
    }
   },
   "outputs": [
    {
     "name": "stdout",
     "output_type": "stream",
     "text": [
      "Y tensor([[ 1.,  2.,  3.,  4.,  5.,  6.],\n",
      "        [16., 17., 18., 19., 20., 21.]])\n",
      "Y transpose  tensor([[ 1., 16.],\n",
      "        [ 2., 17.],\n",
      "        [ 3., 18.],\n",
      "        [ 4., 19.],\n",
      "        [ 5., 20.],\n",
      "        [ 6., 21.]])\n",
      "Y contiguous  tensor([[ 1., 16.],\n",
      "        [ 2., 17.],\n",
      "        [ 3., 18.],\n",
      "        [ 4., 19.],\n",
      "        [ 5., 20.],\n",
      "        [ 6., 21.]])\n",
      "Y view  tensor([ 1., 16.,  2., 17.,  3., 18.,  4., 19.,  5., 20.,  6., 21.])\n",
      "Y tensor([[ 7.,  8.,  9., 10., 11., 12.],\n",
      "        [22., 23., 24., 25., 26., 27.]])\n",
      "Y transpose  tensor([[ 7., 22.],\n",
      "        [ 8., 23.],\n",
      "        [ 9., 24.],\n",
      "        [10., 25.],\n",
      "        [11., 26.],\n",
      "        [12., 27.]])\n",
      "Y contiguous  tensor([[ 7., 22.],\n",
      "        [ 8., 23.],\n",
      "        [ 9., 24.],\n",
      "        [10., 25.],\n",
      "        [11., 26.],\n",
      "        [12., 27.]])\n",
      "Y view  tensor([ 7., 22.,  8., 23.,  9., 24., 10., 25., 11., 26., 12., 27.])\n"
     ]
    }
   ],
   "source": [
    "for X,Y in data_iter_consecutive(my_seq,batch_size=2,num_steps=6):\n",
    "    print('Y',Y)\n",
    "    print('Y transpose ',torch.transpose(Y,0,1))\n",
    "    print('Y contiguous ',torch.transpose(Y,0,1).contiguous())\n",
    "    print('Y view ',torch.transpose(Y,0,1).contiguous().view(-1))"
   ]
  },
  {
   "cell_type": "code",
   "execution_count": null,
   "metadata": {
    "collapsed": true
   },
   "outputs": [],
   "source": []
  },
  {
   "cell_type": "code",
   "execution_count": null,
   "metadata": {
    "collapsed": true
   },
   "outputs": [],
   "source": []
  },
  {
   "cell_type": "code",
   "execution_count": null,
   "metadata": {
    "collapsed": true
   },
   "outputs": [],
   "source": []
  },
  {
   "cell_type": "code",
   "execution_count": null,
   "metadata": {
    "collapsed": true
   },
   "outputs": [],
   "source": []
  }
 ],
 "metadata": {
  "kernelspec": {
   "display_name": "Python 3",
   "language": "python",
   "name": "python3"
  },
  "language_info": {
   "codemirror_mode": {
    "name": "ipython",
    "version": 3
   },
   "file_extension": ".py",
   "mimetype": "text/x-python",
   "name": "python",
   "nbconvert_exporter": "python",
   "pygments_lexer": "ipython3",
   "version": "3.6.3"
  }
 },
 "nbformat": 4,
 "nbformat_minor": 2
}
