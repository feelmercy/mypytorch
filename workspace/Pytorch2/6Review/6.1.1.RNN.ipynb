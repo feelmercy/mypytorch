{
 "cells": [
  {
   "cell_type": "code",
   "execution_count": 1,
   "metadata": {
    "ExecuteTime": {
     "end_time": "2022-01-19T01:44:30.690508Z",
     "start_time": "2022-01-19T01:44:20.479924Z"
    },
    "collapsed": true
   },
   "outputs": [],
   "source": [
    "import torch"
   ]
  },
  {
   "cell_type": "code",
   "execution_count": 3,
   "metadata": {
    "ExecuteTime": {
     "end_time": "2022-01-19T01:45:48.858979Z",
     "start_time": "2022-01-19T01:45:48.794975Z"
    }
   },
   "outputs": [],
   "source": [
    "X,W_xh=torch.randn(3,1),torch.randn(1,4)\n",
    "H,W_hh=torch.randn(3,4),torch.randn(4,4)"
   ]
  },
  {
   "cell_type": "code",
   "execution_count": 4,
   "metadata": {
    "ExecuteTime": {
     "end_time": "2022-01-19T01:47:01.358126Z",
     "start_time": "2022-01-19T01:47:00.372069Z"
    }
   },
   "outputs": [
    {
     "data": {
      "text/plain": [
       "tensor([[-2.7723,  1.2605, -0.8401,  2.4461],\n",
       "        [-0.7091, -0.9525, -1.2834,  0.6095],\n",
       "        [ 0.8699, -0.5191,  0.7677, -0.8825]])"
      ]
     },
     "execution_count": 4,
     "metadata": {},
     "output_type": "execute_result"
    }
   ],
   "source": [
    "torch.matmul(X,W_xh)+torch.matmul(H,W_hh)"
   ]
  },
  {
   "cell_type": "code",
   "execution_count": 6,
   "metadata": {
    "ExecuteTime": {
     "end_time": "2022-01-19T01:48:54.160578Z",
     "start_time": "2022-01-19T01:48:54.090574Z"
    }
   },
   "outputs": [
    {
     "data": {
      "text/plain": [
       "tensor([[-2.7723,  1.2605, -0.8401,  2.4461],\n",
       "        [-0.7091, -0.9525, -1.2834,  0.6095],\n",
       "        [ 0.8699, -0.5191,  0.7677, -0.8825]])"
      ]
     },
     "execution_count": 6,
     "metadata": {},
     "output_type": "execute_result"
    }
   ],
   "source": [
    "torch.matmul(torch.cat((X,H),dim=1),torch.cat((W_xh,W_hh),dim=0))"
   ]
  },
  {
   "cell_type": "code",
   "execution_count": null,
   "metadata": {
    "collapsed": true
   },
   "outputs": [],
   "source": []
  }
 ],
 "metadata": {
  "kernelspec": {
   "display_name": "Python 3",
   "language": "python",
   "name": "python3"
  },
  "language_info": {
   "codemirror_mode": {
    "name": "ipython",
    "version": 3
   },
   "file_extension": ".py",
   "mimetype": "text/x-python",
   "name": "python",
   "nbconvert_exporter": "python",
   "pygments_lexer": "ipython3",
   "version": "3.6.3"
  }
 },
 "nbformat": 4,
 "nbformat_minor": 2
}
