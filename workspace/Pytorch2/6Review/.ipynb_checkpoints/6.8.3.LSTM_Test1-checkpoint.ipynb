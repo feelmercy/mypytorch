{
 "cells": [
  {
   "cell_type": "code",
   "execution_count": 1,
   "metadata": {
    "ExecuteTime": {
     "end_time": "2022-02-17T07:45:49.352722Z",
     "start_time": "2022-02-17T07:45:46.849579Z"
    },
    "collapsed": true
   },
   "outputs": [],
   "source": [
    "import time\n",
    "import math\n",
    "import numpy as np\n",
    "import torch\n",
    "from torch import nn,optim\n",
    "import torch.nn.functional as F\n",
    "import random\n",
    "import zipfile\n",
    "device='cpu'"
   ]
  },
  {
   "cell_type": "code",
   "execution_count": 2,
   "metadata": {
    "ExecuteTime": {
     "end_time": "2022-02-17T07:45:51.209829Z",
     "start_time": "2022-02-17T07:45:51.174827Z"
    },
    "collapsed": true
   },
   "outputs": [],
   "source": [
    "def load_data_jay_lyrics():\n",
    "    with zipfile.ZipFile(r'F:\\study\\ml\\ebooks3\\6\\jaychou_lyrics.txt.zip') as zin:\n",
    "        with zin.open('jaychou_lyrics.txt') as f:\n",
    "            corpus_chars=f.read().decode('utf-8')\n",
    "    corpus_chars=corpus_chars.replace('\\n',' ').replace('\\r',' ')\n",
    "    corpus_chars=corpus_chars[0:10000]\n",
    "    idx_to_char=list(set(corpus_chars))\n",
    "    char_to_idx=dict([( char,i ) for i , char in enumerate(idx_to_char)])\n",
    "    vocab_size=len(char_to_idx)\n",
    "    corpus_indices=[char_to_idx[char] for char in corpus_chars]\n",
    "    return corpus_indices, char_to_idx, idx_to_char, vocab_size"
   ]
  },
  {
   "cell_type": "code",
   "execution_count": 3,
   "metadata": {
    "ExecuteTime": {
     "end_time": "2022-02-17T07:45:57.495188Z",
     "start_time": "2022-02-17T07:45:57.351180Z"
    },
    "collapsed": true
   },
   "outputs": [],
   "source": [
    "corpus_indices,char_to_idx,idx_to_char,vocab_size=load_data_jay_lyrics()"
   ]
  },
  {
   "cell_type": "code",
   "execution_count": 4,
   "metadata": {
    "ExecuteTime": {
     "end_time": "2022-02-17T07:46:01.696428Z",
     "start_time": "2022-02-17T07:46:01.686428Z"
    },
    "collapsed": true
   },
   "outputs": [],
   "source": [
    "num_inputs,num_hiddens,num_outputs=vocab_size,256,vocab_size"
   ]
  },
  {
   "cell_type": "code",
   "execution_count": 5,
   "metadata": {
    "ExecuteTime": {
     "end_time": "2022-02-17T07:54:56.441014Z",
     "start_time": "2022-02-17T07:54:56.401012Z"
    },
    "collapsed": true
   },
   "outputs": [],
   "source": [
    "def get_params():\n",
    "    def _one(shape):\n",
    "        ts=torch.Tensor(np.random.normal(0,0.01,size=shape))\n",
    "        return torch.nn.Parameter(ts,requires_grad=True)\n",
    "    \n",
    "    def _three():\n",
    "        return (_one((num_inputs,num_hiddens)),\n",
    "               _one((num_hiddens,num_hiddens)),\n",
    "               torch.nn.Parameter(torch.zeros(num_hiddens,dtype=torch.float32),requires_grad=True))\n",
    "    \n",
    "    W_xi,W_hi,b_i=_three()\n",
    "    W_xf,W_hf,b_f=_three()\n",
    "    W_xo,W_ho,b_o=_three()\n",
    "    W_xc,W_hc,b_c=_three()\n",
    "    W_hq=_one((num_hiddens,num_outputs))\n",
    "    b_q=torch.nn.Parameter(torch.zeros(num_outputs,dtype=torch.float32),requires_grad=True)\n",
    "    \n",
    "    return nn.ParameterList([W_xi,W_hi,b_i,W_xf,W_hf,b_f,W_xo,W_ho,b_o,W_xc,W_hc,b_c,W_hq,b_q])\n",
    "    \n",
    "    "
   ]
  },
  {
   "cell_type": "code",
   "execution_count": 6,
   "metadata": {
    "ExecuteTime": {
     "end_time": "2022-02-17T07:56:18.132686Z",
     "start_time": "2022-02-17T07:56:18.122686Z"
    },
    "collapsed": true
   },
   "outputs": [],
   "source": [
    "def init_lstm_state(batch_size,num_hiddens,device):\n",
    "    return (torch.zeros((batch_size,num_hiddens)),torch.zeros((batch_size,num_hiddens)))"
   ]
  },
  {
   "cell_type": "code",
   "execution_count": 7,
   "metadata": {
    "ExecuteTime": {
     "end_time": "2022-02-17T08:06:44.705524Z",
     "start_time": "2022-02-17T08:06:44.667522Z"
    },
    "collapsed": true
   },
   "outputs": [],
   "source": [
    "def lstm(inputs,state,params):\n",
    "    [W_xi,W_hi,b_i,W_xf,W_hf,b_f,W_xo,W_ho,b_o,W_xc,W_hc,b_c,W_hq,b_q]=params\n",
    "    (H,C)=state\n",
    "    outputs=[]\n",
    "    for X in inputs:\n",
    "        I=torch.sigmoid(torch.matmul(X,W_xi)+torch.matmul(H,W_hi)+b_i)\n",
    "        F=torch.sigmoid(torch.matmul(X,W_xf)+torch.matmul(H,W_hf)+b_f)\n",
    "        O=torch.sigmoid(torch.matmul(X,W_xo)+torch.matmul(H,W_ho)+b_o)\n",
    "        \n",
    "        C_tilda=torch.tanh(torch.matmul(X,W_xc)+torch.matmul(H,W_hc)+b_c)\n",
    "        C=F*C+I*C_tilda\n",
    "        H=O*C.tanh()\n",
    "        Y=torch.matmul(H,W_hq)+b_q\n",
    "        outputs.append(Y)\n",
    "    return outputs,(H,C)\n",
    "    "
   ]
  },
  {
   "cell_type": "code",
   "execution_count": 8,
   "metadata": {
    "ExecuteTime": {
     "end_time": "2022-02-17T08:07:03.559603Z",
     "start_time": "2022-02-17T08:07:03.536601Z"
    },
    "collapsed": true
   },
   "outputs": [],
   "source": [
    "def to_onehot(x,n_class):\n",
    "    def _one_hot(x,n_class):\n",
    "        x=x.long()\n",
    "        res=torch.zeros(x.shape[0],vocab_size,dtype=torch.float32)\n",
    "        res.scatter_(1,x.view(-1,1),1)\n",
    "        return res\n",
    "    return [_one_hot(x[:,i],n_class) for i in range(x.shape[1])]"
   ]
  },
  {
   "cell_type": "code",
   "execution_count": 11,
   "metadata": {
    "ExecuteTime": {
     "end_time": "2022-02-17T08:09:22.044524Z",
     "start_time": "2022-02-17T08:09:22.017522Z"
    },
    "collapsed": true
   },
   "outputs": [],
   "source": [
    "corpus_indices,char_to_idx,idx_to_char,vocab_size=load_data_jay_lyrics()"
   ]
  },
  {
   "cell_type": "code",
   "execution_count": 12,
   "metadata": {
    "ExecuteTime": {
     "end_time": "2022-02-17T08:09:22.248535Z",
     "start_time": "2022-02-17T08:09:22.241535Z"
    },
    "collapsed": true
   },
   "outputs": [],
   "source": [
    "num_inputs,num_hiddens,num_outputs=vocab_size,256,vocab_size"
   ]
  },
  {
   "cell_type": "code",
   "execution_count": 13,
   "metadata": {
    "ExecuteTime": {
     "end_time": "2022-02-17T08:09:36.146330Z",
     "start_time": "2022-02-17T08:09:36.136330Z"
    },
    "collapsed": true
   },
   "outputs": [],
   "source": [
    "num_epochs, num_steps, batch_size, lr, clipping_theta = 160, 35, 32,1e2, 1e-2\n",
    "pred_period, pred_len, prefixes = 40, 50, ['分开', '不分开']"
   ]
  },
  {
   "cell_type": "code",
   "execution_count": 14,
   "metadata": {
    "ExecuteTime": {
     "end_time": "2022-02-17T08:09:45.274852Z",
     "start_time": "2022-02-17T08:09:45.239850Z"
    },
    "collapsed": true
   },
   "outputs": [],
   "source": [
    "def data_iter_consecutive(corpus_indices,batch_size,num_steps,device=None):\n",
    "    if device is None:\n",
    "        device=torch.device('cuda' if torch.cuda.is_available() else 'cpu')\n",
    "    corpus_indices=torch.Tensor(corpus_indices)\n",
    "    data_len=len(corpus_indices)\n",
    "    batch_len=data_len//batch_size\n",
    "    indices=corpus_indices[0:batch_size*batch_len].view(batch_size,batch_len)\n",
    "    epoch_size=(batch_len-1)//num_steps\n",
    "    for i in range(epoch_size):\n",
    "        i=i*num_steps\n",
    "        X=indices[:,i:i+num_steps]\n",
    "        Y=indices[:,i+1:i+num_steps+1]\n",
    "        yield X,Y\n",
    "    "
   ]
  },
  {
   "cell_type": "code",
   "execution_count": 15,
   "metadata": {
    "ExecuteTime": {
     "end_time": "2022-02-17T08:09:54.210363Z",
     "start_time": "2022-02-17T08:09:54.168361Z"
    },
    "collapsed": true
   },
   "outputs": [],
   "source": [
    "def predict_rnn(prefix,num_chars,rnn,params,init_rnn_state,num_hiddens,vocab_size,device,idx_to_char,char_to_idx):\n",
    "    state=init_rnn_state(1,num_hiddens,device)\n",
    "    output=[char_to_idx[prefix[0]]]\n",
    "    for t in range(num_chars+len(prefix)-1):\n",
    "        x=to_onehot(torch.Tensor([[output[-1]]]),vocab_size)\n",
    "        (y,state)=rnn(x,state,params)\n",
    "        if t<len(prefix)-1:\n",
    "            output.append(char_to_idx[prefix[t+1]])\n",
    "        else:\n",
    "            output.append(int(y[0].argmax(dim=1).item()))\n",
    "    return ''.join([idx_to_char[i] for i in output])"
   ]
  },
  {
   "cell_type": "code",
   "execution_count": 17,
   "metadata": {
    "ExecuteTime": {
     "end_time": "2022-02-17T08:10:56.459924Z",
     "start_time": "2022-02-17T08:10:56.384920Z"
    }
   },
   "outputs": [
    {
     "data": {
      "text/plain": [
       "[tensor([[1., 0., 0.,  ..., 0., 0., 0.],\n",
       "         [0., 0., 1.,  ..., 0., 0., 0.],\n",
       "         [0., 0., 0.,  ..., 0., 0., 0.],\n",
       "         [0., 0., 0.,  ..., 0., 0., 0.],\n",
       "         [0., 0., 0.,  ..., 0., 0., 0.]]),\n",
       " tensor([[0., 1., 0.,  ..., 0., 0., 0.],\n",
       "         [0., 0., 0.,  ..., 0., 0., 0.],\n",
       "         [0., 0., 0.,  ..., 0., 0., 0.],\n",
       "         [0., 0., 0.,  ..., 0., 0., 0.],\n",
       "         [0., 0., 0.,  ..., 0., 0., 0.]])]"
      ]
     },
     "execution_count": 17,
     "metadata": {},
     "output_type": "execute_result"
    }
   ],
   "source": [
    "x=torch.arange(10).view(5,2)\n",
    "to_onehot(x,10)"
   ]
  },
  {
   "cell_type": "code",
   "execution_count": 18,
   "metadata": {
    "ExecuteTime": {
     "end_time": "2022-02-17T08:10:58.557044Z",
     "start_time": "2022-02-17T08:10:58.095017Z"
    }
   },
   "outputs": [
    {
     "name": "stdout",
     "output_type": "stream",
     "text": [
      "2 torch.Size([5, 1027]) torch.Size([5, 256])\n"
     ]
    }
   ],
   "source": [
    "state=init_lstm_state(x.shape[0],num_hiddens,device)\n",
    "inputs=to_onehot(x.to(device),vocab_size)\n",
    "params=get_params()\n",
    "outputs,state_new=lstm(inputs,state,params)\n",
    "print(len(outputs),outputs[0].shape,state_new[0].shape)"
   ]
  },
  {
   "cell_type": "code",
   "execution_count": 19,
   "metadata": {
    "ExecuteTime": {
     "end_time": "2022-02-17T08:11:15.758028Z",
     "start_time": "2022-02-17T08:11:15.747027Z"
    },
    "collapsed": true
   },
   "outputs": [],
   "source": [
    "def grad_clipping(params,theta,device):\n",
    "    norm=torch.Tensor([0.0])\n",
    "    for p in params:\n",
    "        norm +=(p.grad.data **2).sum()\n",
    "    norm=norm.sqrt().item()\n",
    "    if norm > theta:\n",
    "        for p in params:\n",
    "            p.grad.data *= (theta / norm)"
   ]
  },
  {
   "cell_type": "code",
   "execution_count": 20,
   "metadata": {
    "ExecuteTime": {
     "end_time": "2022-02-17T08:11:20.602305Z",
     "start_time": "2022-02-17T08:11:20.593304Z"
    },
    "collapsed": true
   },
   "outputs": [],
   "source": [
    "def sgd(params,lr,batch_size):\n",
    "    for p in params:\n",
    "        p.data -= lr * p.grad /batch_size"
   ]
  },
  {
   "cell_type": "code",
   "execution_count": 21,
   "metadata": {
    "ExecuteTime": {
     "end_time": "2022-02-17T08:11:33.483042Z",
     "start_time": "2022-02-17T08:11:33.386036Z"
    },
    "collapsed": true
   },
   "outputs": [],
   "source": [
    "def train_and_predict_rnn(rnn,get_params,init_rnn_state,num_hiddens,vocab_size,corpus_indices,idx_to_char,char_to_idx,is_random_iter,\n",
    "                          num_epochs,num_steps,lr,clipping_theta,batch_size,pred_period,pred_len,perfixes):\n",
    "    if is_random_iter:\n",
    "        data_iter_fn=data_iter_random\n",
    "    else:\n",
    "        data_iter_fn=data_iter_consecutive\n",
    "    params=get_params()\n",
    "    loss=nn.CrossEntropyLoss()\n",
    "    \n",
    "    for epoch in range(num_epochs):\n",
    "        if not is_random_iter:\n",
    "            state=init_rnn_state(batch_size,num_hiddens,device)\n",
    "        l_sum,n,start=0.0,0,time.time()\n",
    "        data_iter=data_iter_fn(corpus_indices,batch_size,num_steps)\n",
    "        for x,y in data_iter:\n",
    "            if is_random_iter:\n",
    "                state=init_rnn_state(batch_size,num_hiddens,device)\n",
    "            else:\n",
    "                for s in state:\n",
    "                    s.detach_()\n",
    "            inputs=to_onehot(x,vocab_size)\n",
    "            (outputs,state)=rnn(inputs,state,params)\n",
    "            outputs=torch.cat(outputs,dim=0)\n",
    "            y=torch.transpose(y,0,1).contiguous().view(-1)\n",
    "            l=loss(outputs,y.long())\n",
    "            \n",
    "            if params[0].grad is not None:\n",
    "                for p in params:\n",
    "                    p.grad.data.zero_()\n",
    "            l.backward()\n",
    "            grad_clipping(params,clipping_theta,device)\n",
    "            sgd(params,lr,1)\n",
    "            l_sum+=l.item() * y.shape[0]\n",
    "            n+=y.shape[0]\n",
    "            \n",
    "        if (epoch +1) % pred_period ==0:\n",
    "            print('l_sum : ',l_sum/n)\n",
    "            print('epoch %d,perplexity %f,time %.2f sec ' % (epoch+1,math.exp(l_sum/n),time.time()-start))\n",
    "            \n",
    "            for perfix in perfixes:\n",
    "                print('-',predict_rnn(perfix,pred_len,rnn,params,init_rnn_state,num_hiddens,vocab_size,device,idx_to_char,char_to_idx))"
   ]
  },
  {
   "cell_type": "code",
   "execution_count": 22,
   "metadata": {
    "ExecuteTime": {
     "end_time": "2022-02-17T08:12:06.985958Z",
     "start_time": "2022-02-17T08:12:06.976957Z"
    },
    "collapsed": true
   },
   "outputs": [],
   "source": [
    "num_epochs,num_steps,batch_size,lr,clipping_theta=160,35,32,1e2,1e-2\n",
    "pred_period,pred_len,prefixes=40,50,['分开','不分开']"
   ]
  },
  {
   "cell_type": "code",
   "execution_count": 24,
   "metadata": {
    "ExecuteTime": {
     "end_time": "2022-02-17T08:19:11.499239Z",
     "start_time": "2022-02-17T08:12:30.658312Z"
    }
   },
   "outputs": [
    {
     "name": "stdout",
     "output_type": "stream",
     "text": [
      "l_sum :  5.354392468929291\n",
      "epoch 40,perplexity 211.535423,time 2.56 sec \n",
      "- 分开 我不的我 我不的我 我不的我 我不的我 我不的我 我不的我 我不的我 我不的我 我不的我 我不的我\n",
      "- 不分开 我不的我 我不的我 我不的我 我不的我 我不的我 我不的我 我不的我 我不的我 我不的我 我不的我\n",
      "l_sum :  4.201940476894379\n",
      "epoch 80,perplexity 66.815860,time 2.51 sec \n",
      "- 分开 我想你的爱爱 我想你你想你你的可爱  不的让我想狂的可爱女人 坏坏的让我疯狂的可爱女人 坏坏的让我\n",
      "- 不分开 我想你的爱爱 我想你你想你你的可爱  不的让我想狂的可爱女人 坏坏的让我疯狂的可爱女人 坏坏的让我\n",
      "l_sum :  2.7391037940979004\n",
      "epoch 120,perplexity 15.473112,time 2.27 sec \n",
      "- 分开 我想你的生笑 你说 在你了考了我 说散  想想我的太你 我想你的生活 快你 在又了我想多 一话我 \n",
      "- 不分开 我想你的生笑 像你 在你了我想多 一话我 说你的我想我 说你抖 快给我 说怎怎么么么 我想就这生活\n",
      "l_sum :  1.3852964043617249\n",
      "epoch 160,perplexity 3.996010,time 2.33 sec \n",
      "- 分开 你是我 是你眼 一步我 一直很  谁上上 在上在 从的风梦 你的那梦 你的风空 有有风  有有风中\n",
      "- 不分开 我不了这生活 我该你 你爱我 我想 你样了了着我 别通  又给我抬起你 说我去对医药箱  说   \n"
     ]
    }
   ],
   "source": [
    "train_and_predict_rnn(lstm,get_params,init_lstm_state,num_hiddens,vocab_size,\n",
    "                     corpus_indices,idx_to_char,char_to_idx,None,\n",
    "                     num_epochs,num_steps,lr,clipping_theta,batch_size,pred_period,\n",
    "                     pred_len,prefixes)"
   ]
  },
  {
   "cell_type": "code",
   "execution_count": null,
   "metadata": {
    "collapsed": true
   },
   "outputs": [],
   "source": []
  }
 ],
 "metadata": {
  "kernelspec": {
   "display_name": "Python 3",
   "language": "python",
   "name": "python3"
  },
  "language_info": {
   "codemirror_mode": {
    "name": "ipython",
    "version": 3
   },
   "file_extension": ".py",
   "mimetype": "text/x-python",
   "name": "python",
   "nbconvert_exporter": "python",
   "pygments_lexer": "ipython3",
   "version": "3.6.3"
  }
 },
 "nbformat": 4,
 "nbformat_minor": 2
}
