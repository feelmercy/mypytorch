{
 "cells": [
  {
   "cell_type": "code",
   "execution_count": 1,
   "metadata": {
    "ExecuteTime": {
     "end_time": "2022-02-10T06:18:21.115335Z",
     "start_time": "2022-02-10T06:18:20.868321Z"
    },
    "collapsed": true
   },
   "outputs": [],
   "source": [
    "import time\n",
    "import math\n",
    "import numpy as np\n",
    "import torch\n",
    "from torch import nn,optim\n",
    "import torch.nn.functional as F\n",
    "import random\n",
    "import zipfile\n",
    "device='cpu'"
   ]
  },
  {
   "cell_type": "code",
   "execution_count": 2,
   "metadata": {
    "ExecuteTime": {
     "end_time": "2022-02-10T06:18:24.525530Z",
     "start_time": "2022-02-10T06:18:24.490528Z"
    },
    "collapsed": true
   },
   "outputs": [],
   "source": [
    "def load_data_jay_lyrics():\n",
    "    with zipfile.ZipFile(r'F:\\study\\ml\\ebooks3\\6\\jaychou_lyrics.txt.zip') as zin:\n",
    "        with zin.open('jaychou_lyrics.txt') as f:\n",
    "            corpus_chars=f.read().decode('utf-8')\n",
    "    corpus_chars=corpus_chars.replace('\\n',' ').replace('\\r',' ')\n",
    "    corpus_chars=corpus_chars[0:10000]\n",
    "    idx_to_char=list(set(corpus_chars))\n",
    "    char_to_idx=dict([( char,i ) for i , char in enumerate(idx_to_char)])\n",
    "    vocab_size=len(char_to_idx)\n",
    "    corpus_indices=[char_to_idx[char] for char in corpus_chars]\n",
    "    return corpus_indices, char_to_idx, idx_to_char, vocab_size"
   ]
  },
  {
   "cell_type": "code",
   "execution_count": 3,
   "metadata": {
    "ExecuteTime": {
     "end_time": "2022-02-10T06:21:28.594059Z",
     "start_time": "2022-02-10T06:21:28.573057Z"
    },
    "collapsed": true
   },
   "outputs": [],
   "source": [
    "corpus_indices, char_to_idx, idx_to_char, vocab_size=load_data_jay_lyrics()"
   ]
  },
  {
   "cell_type": "code",
   "execution_count": 5,
   "metadata": {
    "ExecuteTime": {
     "end_time": "2022-02-10T06:27:33.502930Z",
     "start_time": "2022-02-10T06:27:33.474929Z"
    }
   },
   "outputs": [
    {
     "data": {
      "text/plain": [
       "RNN(1027, 256)"
      ]
     },
     "execution_count": 5,
     "metadata": {},
     "output_type": "execute_result"
    }
   ],
   "source": [
    "num_hiddens=256\n",
    "rnn_layer=nn.RNN(input_size=vocab_size,hidden_size=num_hiddens)\n",
    "rnn_layer"
   ]
  },
  {
   "cell_type": "code",
   "execution_count": 9,
   "metadata": {
    "ExecuteTime": {
     "end_time": "2022-02-10T06:29:31.361671Z",
     "start_time": "2022-02-10T06:29:31.308668Z"
    }
   },
   "outputs": [
    {
     "name": "stdout",
     "output_type": "stream",
     "text": [
      "X shape:  torch.Size([35, 2, 1027])\n",
      "Y.shape:  torch.Size([35, 2, 256]) 1 torch.Size([2, 256])\n"
     ]
    }
   ],
   "source": [
    "num_steps=35\n",
    "batch_size=2\n",
    "state=None\n",
    "X=torch.rand(num_steps,batch_size,vocab_size)\n",
    "Y,state_new=rnn_layer(X,state)\n",
    "print('X shape: ',X.shape)\n",
    "print('Y.shape: ',Y.shape,len(state_new),state_new[0].shape)"
   ]
  },
  {
   "cell_type": "code",
   "execution_count": 10,
   "metadata": {
    "ExecuteTime": {
     "end_time": "2022-02-10T06:32:30.048892Z",
     "start_time": "2022-02-10T06:32:30.027890Z"
    }
   },
   "outputs": [
    {
     "data": {
      "text/plain": [
       "RNN(1027, 256, num_layers=2)"
      ]
     },
     "execution_count": 10,
     "metadata": {},
     "output_type": "execute_result"
    }
   ],
   "source": [
    "num_hiddens=256\n",
    "rnn_layer2=nn.RNN(input_size=vocab_size,hidden_size=num_hiddens,num_layers=2)\n",
    "rnn_layer2"
   ]
  },
  {
   "cell_type": "code",
   "execution_count": 11,
   "metadata": {
    "ExecuteTime": {
     "end_time": "2022-02-10T06:32:49.021977Z",
     "start_time": "2022-02-10T06:32:48.988975Z"
    }
   },
   "outputs": [
    {
     "name": "stdout",
     "output_type": "stream",
     "text": [
      "X shape:  torch.Size([35, 2, 1027])\n",
      "Y.shape:  torch.Size([35, 2, 256]) 2 torch.Size([2, 256])\n"
     ]
    }
   ],
   "source": [
    "num_steps=35\n",
    "batch_size=2\n",
    "state=None\n",
    "X=torch.rand(num_steps,batch_size,vocab_size)\n",
    "Y,state_new=rnn_layer2(X,state)\n",
    "print('X shape: ',X.shape)\n",
    "print('Y.shape: ',Y.shape,len(state_new),state_new[0].shape)"
   ]
  },
  {
   "cell_type": "code",
   "execution_count": 25,
   "metadata": {
    "ExecuteTime": {
     "end_time": "2022-02-10T09:19:52.274274Z",
     "start_time": "2022-02-10T09:19:52.260273Z"
    },
    "collapsed": true
   },
   "outputs": [],
   "source": [
    "def one_hot(x,n_class):\n",
    "    x=x.long()\n",
    "    res=torch.zeros(x.shape[0],n_class)\n",
    "    res.scatter_(1,x.view(-1,1),1)\n",
    "    return res"
   ]
  },
  {
   "cell_type": "code",
   "execution_count": 26,
   "metadata": {
    "ExecuteTime": {
     "end_time": "2022-02-10T09:19:52.559290Z",
     "start_time": "2022-02-10T09:19:52.552290Z"
    },
    "collapsed": true
   },
   "outputs": [],
   "source": [
    "def to_onehot(x,n_class):\n",
    "    return [one_hot(x[:,i],n_class) for i in range(x.shape[1])]"
   ]
  },
  {
   "cell_type": "code",
   "execution_count": 27,
   "metadata": {
    "ExecuteTime": {
     "end_time": "2022-02-10T09:19:52.780303Z",
     "start_time": "2022-02-10T09:19:52.767302Z"
    }
   },
   "outputs": [
    {
     "data": {
      "text/plain": [
       "[tensor([[1., 0., 0., 0., 0., 0., 0., 0., 0., 0.],\n",
       "         [0., 0., 0., 0., 0., 1., 0., 0., 0., 0.]]),\n",
       " tensor([[0., 1., 0., 0., 0., 0., 0., 0., 0., 0.],\n",
       "         [0., 0., 0., 0., 0., 0., 1., 0., 0., 0.]]),\n",
       " tensor([[0., 0., 1., 0., 0., 0., 0., 0., 0., 0.],\n",
       "         [0., 0., 0., 0., 0., 0., 0., 1., 0., 0.]]),\n",
       " tensor([[0., 0., 0., 1., 0., 0., 0., 0., 0., 0.],\n",
       "         [0., 0., 0., 0., 0., 0., 0., 0., 1., 0.]]),\n",
       " tensor([[0., 0., 0., 0., 1., 0., 0., 0., 0., 0.],\n",
       "         [0., 0., 0., 0., 0., 0., 0., 0., 0., 1.]])]"
      ]
     },
     "execution_count": 27,
     "metadata": {},
     "output_type": "execute_result"
    }
   ],
   "source": [
    "x=torch.arange(10).view(2,5)\n",
    "to_onehot(x,10)"
   ]
  },
  {
   "cell_type": "code",
   "execution_count": 48,
   "metadata": {
    "ExecuteTime": {
     "end_time": "2022-02-10T09:25:03.781091Z",
     "start_time": "2022-02-10T09:25:03.741089Z"
    }
   },
   "outputs": [],
   "source": [
    "class RNNModel(nn.Module):\n",
    "    def __init__(self,rnn_layer,vocab_size):\n",
    "        super().__init__()\n",
    "        self.rnn=rnn_layer\n",
    "        self.hidden_size=rnn_layer.hidden_size*(2 if rnn_layer.bidirectional else 1)\n",
    "        self.vocab_size=vocab_size\n",
    "        self.dense=nn.Linear(self.hidden_size,vocab_size)\n",
    "        self.state=None\n",
    "        \n",
    "    def forward(self,inputs,state):\n",
    "        X=to_onehot(inputs,self.vocab_size)\n",
    "        Y,self.state=self.rnn(torch.stack(X),state)\n",
    "        print('Y shape : ',Y.shape)\n",
    "        print('Y view shape : ',Y.view(-1,Y.shape[-1]).shape)\n",
    "        output=self.dense(Y.view(-1,Y.shape[-1]))\n",
    "        print('output shape : ',output.shape)\n",
    "        return output,self.state"
   ]
  },
  {
   "cell_type": "code",
   "execution_count": 49,
   "metadata": {
    "ExecuteTime": {
     "end_time": "2022-02-10T09:25:04.160113Z",
     "start_time": "2022-02-10T09:25:04.120111Z"
    },
    "collapsed": true
   },
   "outputs": [],
   "source": [
    "def predict_rnn_pytorch(prefix,num_chars,model,vocab_size,device,idx_to_char,char_to_idx):\n",
    "    state=None\n",
    "    output=[char_to_idx[prefix[0]]]\n",
    "    for t in range(num_chars+len(prefix)-1):\n",
    "        X=torch.Tensor([output[-1]]).view(1,1)\n",
    "        if state is not None:\n",
    "            if isinstance(state ,tuple):\n",
    "                state=(state[0].to(device),state[1].to(device))\n",
    "            else:\n",
    "                state=state.to(device)\n",
    "        (Y,state)=model(X,state)\n",
    "        if t < len(prefix)-1:\n",
    "            output.append(char_to_idx[prefix[t+1]])\n",
    "        else:\n",
    "            output.append(int(Y.argmax(dim=1).item()))\n",
    "    return ''.join([idx_to_char[i] for i in output])"
   ]
  },
  {
   "cell_type": "code",
   "execution_count": 50,
   "metadata": {
    "ExecuteTime": {
     "end_time": "2022-02-10T09:25:04.695144Z",
     "start_time": "2022-02-10T09:25:04.634140Z"
    }
   },
   "outputs": [
    {
     "name": "stdout",
     "output_type": "stream",
     "text": [
      "Y shape :  torch.Size([1, 1, 256])\n",
      "Y view shape :  torch.Size([1, 256])\n",
      "output shape :  torch.Size([1, 1027])\n",
      "Y shape :  torch.Size([1, 1, 256])\n",
      "Y view shape :  torch.Size([1, 256])\n",
      "output shape :  torch.Size([1, 1027])\n",
      "Y shape :  torch.Size([1, 1, 256])\n",
      "Y view shape :  torch.Size([1, 256])\n",
      "output shape :  torch.Size([1, 1027])\n",
      "Y shape :  torch.Size([1, 1, 256])\n",
      "Y view shape :  torch.Size([1, 256])\n",
      "output shape :  torch.Size([1, 1027])\n",
      "Y shape :  torch.Size([1, 1, 256])\n",
      "Y view shape :  torch.Size([1, 256])\n",
      "output shape :  torch.Size([1, 1027])\n",
      "Y shape :  torch.Size([1, 1, 256])\n",
      "Y view shape :  torch.Size([1, 256])\n",
      "output shape :  torch.Size([1, 1027])\n",
      "Y shape :  torch.Size([1, 1, 256])\n",
      "Y view shape :  torch.Size([1, 256])\n",
      "output shape :  torch.Size([1, 1027])\n",
      "Y shape :  torch.Size([1, 1, 256])\n",
      "Y view shape :  torch.Size([1, 256])\n",
      "output shape :  torch.Size([1, 1027])\n",
      "Y shape :  torch.Size([1, 1, 256])\n",
      "Y view shape :  torch.Size([1, 256])\n",
      "output shape :  torch.Size([1, 1027])\n",
      "Y shape :  torch.Size([1, 1, 256])\n",
      "Y view shape :  torch.Size([1, 256])\n",
      "output shape :  torch.Size([1, 1027])\n",
      "Y shape :  torch.Size([1, 1, 256])\n",
      "Y view shape :  torch.Size([1, 256])\n",
      "output shape :  torch.Size([1, 1027])\n"
     ]
    },
    {
     "data": {
      "text/plain": [
       "'分开蔓联自联联自联联自联'"
      ]
     },
     "execution_count": 50,
     "metadata": {},
     "output_type": "execute_result"
    }
   ],
   "source": [
    "model=RNNModel(rnn_layer2,vocab_size)\n",
    "predict_rnn_pytorch('分开',10,model,vocab_size,device,idx_to_char,char_to_idx)"
   ]
  },
  {
   "cell_type": "code",
   "execution_count": null,
   "metadata": {
    "collapsed": true
   },
   "outputs": [],
   "source": []
  },
  {
   "cell_type": "code",
   "execution_count": null,
   "metadata": {
    "collapsed": true
   },
   "outputs": [],
   "source": []
  },
  {
   "cell_type": "code",
   "execution_count": null,
   "metadata": {
    "collapsed": true
   },
   "outputs": [],
   "source": []
  },
  {
   "cell_type": "code",
   "execution_count": null,
   "metadata": {
    "collapsed": true
   },
   "outputs": [],
   "source": []
  },
  {
   "cell_type": "code",
   "execution_count": null,
   "metadata": {
    "collapsed": true
   },
   "outputs": [],
   "source": []
  },
  {
   "cell_type": "code",
   "execution_count": null,
   "metadata": {
    "collapsed": true
   },
   "outputs": [],
   "source": []
  },
  {
   "cell_type": "code",
   "execution_count": null,
   "metadata": {
    "collapsed": true
   },
   "outputs": [],
   "source": []
  },
  {
   "cell_type": "code",
   "execution_count": null,
   "metadata": {
    "collapsed": true
   },
   "outputs": [],
   "source": []
  },
  {
   "cell_type": "code",
   "execution_count": null,
   "metadata": {
    "collapsed": true
   },
   "outputs": [],
   "source": []
  }
 ],
 "metadata": {
  "kernelspec": {
   "display_name": "Python 3",
   "language": "python",
   "name": "python3"
  },
  "language_info": {
   "codemirror_mode": {
    "name": "ipython",
    "version": 3
   },
   "file_extension": ".py",
   "mimetype": "text/x-python",
   "name": "python",
   "nbconvert_exporter": "python",
   "pygments_lexer": "ipython3",
   "version": "3.6.3"
  }
 },
 "nbformat": 4,
 "nbformat_minor": 2
}
