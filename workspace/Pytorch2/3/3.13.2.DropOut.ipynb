{
 "cells": [
  {
   "cell_type": "code",
   "execution_count": 35,
   "metadata": {
    "ExecuteTime": {
     "end_time": "2021-01-18T08:09:53.886568Z",
     "start_time": "2021-01-18T08:09:53.681557Z"
    },
    "collapsed": true
   },
   "outputs": [],
   "source": [
    "import torch\n",
    "import torch.nn as nn\n",
    "import numpy as np\n",
    "import matplotlib.pyplot as plt\n",
    "import torchvision"
   ]
  },
  {
   "cell_type": "code",
   "execution_count": 6,
   "metadata": {
    "ExecuteTime": {
     "end_time": "2021-01-18T07:10:00.147018Z",
     "start_time": "2021-01-18T07:10:00.131017Z"
    },
    "collapsed": true
   },
   "outputs": [],
   "source": [
    "def dropout(x,drop_prob):\n",
    "    x=x.float()\n",
    "    assert 0<=drop_prob<=1\n",
    "    keep_prob=1-drop_prob\n",
    "    \n",
    "    if keep_prob==0:\n",
    "        return torch.zeros_like(x)\n",
    "    mask=(torch.randn(x.shape)<keep_prob).float()\n",
    "    return mask * x /keep_prob"
   ]
  },
  {
   "cell_type": "code",
   "execution_count": 7,
   "metadata": {
    "ExecuteTime": {
     "end_time": "2021-01-18T07:10:00.830057Z",
     "start_time": "2021-01-18T07:10:00.811056Z"
    }
   },
   "outputs": [
    {
     "data": {
      "text/plain": [
       "array([[ 365,  730, 1095],\n",
       "       [ 365,  730, 1095],\n",
       "       [ 365,  730, 1095]])"
      ]
     },
     "execution_count": 7,
     "metadata": {},
     "output_type": "execute_result"
    }
   ],
   "source": [
    "a=np.array([[1,2,3],[1,2,3],[1,2,3]])\n",
    "b=np.array([[10,20,30],[11,22,33],[111,222,333]])\n",
    "a.dot(b)"
   ]
  },
  {
   "cell_type": "code",
   "execution_count": 8,
   "metadata": {
    "ExecuteTime": {
     "end_time": "2021-01-18T07:10:03.260196Z",
     "start_time": "2021-01-18T07:10:02.924177Z"
    }
   },
   "outputs": [
    {
     "data": {
      "text/plain": [
       "tensor([[ 0.,  1.,  2.,  0.,  0.,  5.,  6.,  0.],\n",
       "        [ 8.,  0.,  0., 11.,  0., 13., 14.,  0.]])"
      ]
     },
     "execution_count": 8,
     "metadata": {},
     "output_type": "execute_result"
    }
   ],
   "source": [
    "x=torch.arange(16).view(2,8)\n",
    "dropout(x,0)"
   ]
  },
  {
   "cell_type": "code",
   "execution_count": 18,
   "metadata": {
    "ExecuteTime": {
     "end_time": "2021-01-18T07:29:24.736629Z",
     "start_time": "2021-01-18T07:29:24.724628Z"
    }
   },
   "outputs": [
    {
     "data": {
      "text/plain": [
       "tensor([[ 0.,  2.,  4.,  6.,  8., 10.,  0., 14.],\n",
       "        [16.,  0.,  0., 22., 24.,  0., 28., 30.]])"
      ]
     },
     "execution_count": 18,
     "metadata": {},
     "output_type": "execute_result"
    }
   ],
   "source": [
    "dropout(x,0.5)"
   ]
  },
  {
   "cell_type": "code",
   "execution_count": 10,
   "metadata": {
    "ExecuteTime": {
     "end_time": "2021-01-18T07:10:45.585617Z",
     "start_time": "2021-01-18T07:10:45.573617Z"
    }
   },
   "outputs": [
    {
     "data": {
      "text/plain": [
       "tensor([[0., 0., 0., 0., 0., 0., 0., 0.],\n",
       "        [0., 0., 0., 0., 0., 0., 0., 0.]])"
      ]
     },
     "execution_count": 10,
     "metadata": {},
     "output_type": "execute_result"
    }
   ],
   "source": [
    "dropout(x,1)"
   ]
  },
  {
   "cell_type": "code",
   "execution_count": 19,
   "metadata": {
    "ExecuteTime": {
     "end_time": "2021-01-18T07:31:53.714150Z",
     "start_time": "2021-01-18T07:31:53.685148Z"
    }
   },
   "outputs": [],
   "source": [
    "drop_prob1,drop_prob2=0.2,0.5\n",
    "def net(x,is_training=True):\n",
    "    x=x.view(-1,num_inputs)\n",
    "    h1=(torch.matmul(x,w1)+b1).relu()\n",
    "    if is_training:\n",
    "        h1=dropout(h1,drop_prob)\n",
    "    h2=(torch.matmul(h1,w2)+b2).relu()\n",
    "    if is_training:\n",
    "        h2=dropout(h2,drop_prob2)\n",
    "    return torch.matmul(h2,w3)+b3"
   ]
  },
  {
   "cell_type": "code",
   "execution_count": 21,
   "metadata": {
    "ExecuteTime": {
     "end_time": "2021-01-18T07:46:10.575160Z",
     "start_time": "2021-01-18T07:46:10.548158Z"
    }
   },
   "outputs": [],
   "source": [
    "def evaluate_accuracy(data_iter,net):\n",
    "    acc_sum,n=0.0,0\n",
    "    for x,y in data_iter:\n",
    "        if isinstance(net,torch.nn.Module):\n",
    "            net.eval()\n",
    "            acc_sum+=(net(x).argmax(dim=1)==y).float().sum().item()\n",
    "            net.train()\n",
    "        else:\n",
    "            if('is_training' in net.__code__.co_varnames):\n",
    "                acc_sum+=(net(x,is_training=False).argmax(dim=1)==y).float().sum().item()\n",
    "            else:\n",
    "                acc_sum +=(net(x).argmax(dim=1)==y).float().sum().item()\n",
    "        n+=y.shape(0)\n",
    "    return acc_sum/n\n",
    "                "
   ]
  },
  {
   "cell_type": "code",
   "execution_count": 22,
   "metadata": {
    "ExecuteTime": {
     "end_time": "2021-01-18T07:52:56.460375Z",
     "start_time": "2021-01-18T07:52:56.380370Z"
    }
   },
   "outputs": [
    {
     "data": {
      "text/plain": [
       "tensor([[-2.5824,  0.2950, -2.1648],\n",
       "        [ 0.1487, -0.1043,  0.1647],\n",
       "        [-3.4969, -4.6589, -0.6081],\n",
       "        [-1.0640,  1.7218, -1.6269],\n",
       "        [ 1.3708,  3.2520, -0.4164]])"
      ]
     },
     "execution_count": 22,
     "metadata": {},
     "output_type": "execute_result"
    }
   ],
   "source": [
    "a=torch.randn((5,2))\n",
    "b=torch.randn((2,3))\n",
    "torch.matmul(a,b)"
   ]
  },
  {
   "cell_type": "code",
   "execution_count": 30,
   "metadata": {
    "ExecuteTime": {
     "end_time": "2021-01-18T07:59:39.150408Z",
     "start_time": "2021-01-18T07:59:39.110405Z"
    }
   },
   "outputs": [
    {
     "data": {
      "text/plain": [
       "tensor([1, 0, 0, 1, 1], dtype=torch.uint8)"
      ]
     },
     "execution_count": 30,
     "metadata": {},
     "output_type": "execute_result"
    }
   ],
   "source": [
    "c=torch.mm(a,b)\n",
    "c.argmax(dim=1)==1"
   ]
  },
  {
   "cell_type": "code",
   "execution_count": 32,
   "metadata": {
    "ExecuteTime": {
     "end_time": "2021-01-18T08:09:19.965628Z",
     "start_time": "2021-01-18T08:09:19.934627Z"
    },
    "collapsed": true
   },
   "outputs": [],
   "source": [
    "n_train,n_test,num_inputs=20,100,200\n",
    "true_w,true_b=torch.ones(num_inputs,1)*0.01,0.05\n",
    "features=torch.randn((n_train+n_test,num_inputs))\n",
    "labels=torch.matmul(features,true_w)+true_b\n",
    "labels+=torch.tensor(np.random.normal(0,0.01,size=labels.size()),dtype=torch.float)\n",
    "train_features,test_features=features[:n_train,:],features[n_train:,:]\n",
    "train_labels,test_labels=labels[:n_train,:],labels[n_train:,:]"
   ]
  },
  {
   "cell_type": "code",
   "execution_count": 36,
   "metadata": {
    "ExecuteTime": {
     "end_time": "2021-01-18T08:09:58.534834Z",
     "start_time": "2021-01-18T08:09:58.524834Z"
    }
   },
   "outputs": [],
   "source": [
    "num_epochs,lr,batch_size=5,100.0,256\n",
    "loss=torch.nn.CrossEntropyLoss()\n",
    "dataset = torch.utils.data.TensorDataset(train_features, train_labels)\n",
    "train_iter = torch.utils.data.DataLoader(dataset, batch_size, shuffle=True)"
   ]
  },
  {
   "cell_type": "code",
   "execution_count": null,
   "metadata": {
    "collapsed": true
   },
   "outputs": [],
   "source": [
    "optimizer=torch.optim.SGD(net.parameters(),lr=0.5)\n"
   ]
  }
 ],
 "metadata": {
  "kernelspec": {
   "display_name": "Python 3",
   "language": "python",
   "name": "python3"
  },
  "language_info": {
   "codemirror_mode": {
    "name": "ipython",
    "version": 3
   },
   "file_extension": ".py",
   "mimetype": "text/x-python",
   "name": "python",
   "nbconvert_exporter": "python",
   "pygments_lexer": "ipython3",
   "version": "3.6.3"
  }
 },
 "nbformat": 4,
 "nbformat_minor": 2
}
