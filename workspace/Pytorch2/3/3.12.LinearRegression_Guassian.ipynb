{
 "cells": [
  {
   "cell_type": "code",
   "execution_count": 106,
   "metadata": {
    "ExecuteTime": {
     "end_time": "2021-01-15T06:59:38.776076Z",
     "start_time": "2021-01-15T06:59:38.766075Z"
    }
   },
   "outputs": [
    {
     "name": "stdout",
     "output_type": "stream",
     "text": [
      "Using matplotlib backend: Qt5Agg\n"
     ]
    }
   ],
   "source": [
    "import torch\n",
    "import torch.nn as nn\n",
    "import torchvision\n",
    "import numpy as np\n",
    "import sys\n",
    "import matplotlib.pyplot as plt\n",
    "%matplotlib auto\n",
    "import math"
   ]
  },
  {
   "cell_type": "code",
   "execution_count": 83,
   "metadata": {
    "ExecuteTime": {
     "end_time": "2021-01-15T06:32:47.849936Z",
     "start_time": "2021-01-15T06:32:47.821934Z"
    },
    "collapsed": true
   },
   "outputs": [],
   "source": [
    "n_train,n_test,num_inputs=20,100,200\n",
    "true_w,true_b=torch.ones(num_inputs,1)*0.01,0.05\n",
    "features=torch.randn((n_train+n_test,num_inputs))\n",
    "labels=torch.matmul(features,true_w)+true_b\n",
    "labels+=torch.tensor(np.random.normal(0,0.01,size=labels.size()),dtype=torch.float)\n",
    "train_features,test_features=features[:n_train,:],features[n_train:,:]\n",
    "train_labels,test_labels=labels[:n_train,:],labels[n_train:,:]"
   ]
  },
  {
   "cell_type": "code",
   "execution_count": 53,
   "metadata": {
    "ExecuteTime": {
     "end_time": "2021-01-15T03:24:15.926931Z",
     "start_time": "2021-01-15T03:24:15.914930Z"
    },
    "collapsed": true
   },
   "outputs": [],
   "source": [
    "def init_params():\n",
    "    w=torch.randn((num_inputs,1),requires_grad=True)\n",
    "    b=torch.zeros(1,requires_grad=True)\n",
    "    return [w,b]"
   ]
  },
  {
   "cell_type": "code",
   "execution_count": 28,
   "metadata": {
    "ExecuteTime": {
     "end_time": "2021-01-15T02:58:35.505824Z",
     "start_time": "2021-01-15T02:58:35.500824Z"
    },
    "collapsed": true
   },
   "outputs": [],
   "source": [
    "def l2_penalty(w):\n",
    "    return (w**2).sum()/2"
   ]
  },
  {
   "cell_type": "code",
   "execution_count": 29,
   "metadata": {
    "ExecuteTime": {
     "end_time": "2021-01-15T02:58:35.871845Z",
     "start_time": "2021-01-15T02:58:35.860844Z"
    },
    "collapsed": true
   },
   "outputs": [],
   "source": [
    "def squared_loss(y_hat,y):\n",
    "    return (y_hat-y.view(y_hat.size()))**2"
   ]
  },
  {
   "cell_type": "code",
   "execution_count": 30,
   "metadata": {
    "ExecuteTime": {
     "end_time": "2021-01-15T02:58:36.234866Z",
     "start_time": "2021-01-15T02:58:36.226865Z"
    },
    "collapsed": true
   },
   "outputs": [],
   "source": [
    "def linreg(w,b,x):\n",
    "    return torch.mm(x,w)+b"
   ]
  },
  {
   "cell_type": "code",
   "execution_count": 31,
   "metadata": {
    "ExecuteTime": {
     "end_time": "2021-01-15T02:58:36.795898Z",
     "start_time": "2021-01-15T02:58:36.786897Z"
    },
    "collapsed": true
   },
   "outputs": [],
   "source": [
    "def sgd(params,lm,x):\n",
    "    for p in params:\n",
    "        p.data -=lm * p.grad /len(x)"
   ]
  },
  {
   "cell_type": "code",
   "execution_count": 84,
   "metadata": {
    "ExecuteTime": {
     "end_time": "2021-01-15T06:32:50.793104Z",
     "start_time": "2021-01-15T06:32:50.781104Z"
    },
    "collapsed": true
   },
   "outputs": [],
   "source": [
    "batch_size, num_epochs, lr = 1, 100, 0.003\n",
    "net, loss = linreg, squared_loss\n",
    "dataset = torch.utils.data.TensorDataset(train_features, train_labels)\n",
    "train_iter = torch.utils.data.DataLoader(dataset, batch_size, shuffle=True)"
   ]
  },
  {
   "cell_type": "code",
   "execution_count": 107,
   "metadata": {
    "ExecuteTime": {
     "end_time": "2021-01-15T07:00:22.157557Z",
     "start_time": "2021-01-15T07:00:22.115555Z"
    },
    "collapsed": true
   },
   "outputs": [],
   "source": [
    "def fit_and_plot(lm):\n",
    "    w,b=init_params()\n",
    "    train_ls,test_ls=[],[]\n",
    "    for _ in range(num_epochs):\n",
    "        for x,y in train_iter:\n",
    "            ## 每个值都要 加 惩罚项\n",
    "            l=loss(net(w,b,x),y)+lm*l2_penalty(w)\n",
    "            ##注意:sgd里面是lr=learning rate 学习率\n",
    "            # 这里面的lambda:是L2的超参数,系数,防止\n",
    "            # w过大或过小的参数\n",
    "            # 然后在求和\n",
    "            l=l.sum()\n",
    "            if  w.grad is not None:\n",
    "#                 print('epoch #',_,'w grad : ',w.grad)\n",
    "                w.grad.data.zero_()\n",
    "                b.grad.data.zero_()\n",
    "#                 print('epoch #',_,'w grad : ',w.grad)\n",
    "            l.backward()\n",
    "            sgd([w,b],lr,x)\n",
    "        train_ls.append(loss(net(w,b,train_features),train_labels).mean().item())\n",
    "        test_ls.append(loss(net(w,b,test_features),test_labels).mean().item())\n",
    "    plt.plot([i for i in  range(num_epochs)],[math.log10(i) for i in train_ls],'b-')\n",
    "    plt.plot([i for i in range(num_epochs)],[math.log10(i) for i in test_ls],'g-')\n",
    "    ## w.norm w的模的大小\n",
    "    print('epoch #',_,'L2 norm of w:',w.norm().item())"
   ]
  },
  {
   "cell_type": "code",
   "execution_count": 116,
   "metadata": {
    "ExecuteTime": {
     "end_time": "2021-01-15T07:11:10.154620Z",
     "start_time": "2021-01-15T07:11:06.393405Z"
    }
   },
   "outputs": [
    {
     "name": "stdout",
     "output_type": "stream",
     "text": [
      "epoch # 99 L2 norm of w: 13.226556777954102\n",
      "epoch # 99 L2 norm of w: 0.05726088583469391\n",
      "epoch # 99 L2 norm of w: 0.04915653541684151\n",
      "epoch # 99 L2 norm of w: 0.04701860249042511\n",
      "epoch # 99 L2 norm of w: 0.046828918159008026\n"
     ]
    }
   ],
   "source": [
    "for i in range(0,10,2):\n",
    "    fit_and_plot(i)\n",
    "plt.show()\n",
    "    "
   ]
  },
  {
   "cell_type": "code",
   "execution_count": null,
   "metadata": {
    "collapsed": true
   },
   "outputs": [],
   "source": [
    "b.norm()"
   ]
  },
  {
   "cell_type": "markdown",
   "metadata": {},
   "source": [
    "以下是测试"
   ]
  },
  {
   "cell_type": "code",
   "execution_count": 93,
   "metadata": {
    "ExecuteTime": {
     "end_time": "2021-01-15T06:38:13.340553Z",
     "start_time": "2021-01-15T06:38:13.320552Z"
    },
    "collapsed": true
   },
   "outputs": [],
   "source": [
    "train_ls1=[25.157712936401367, 2.309774398803711, 0.41731947660446167, 0.07733611017465591, 0.01743660494685173, 0.005156917963176966, 0.0006940258899703622, 0.00010966630361508578, 1.0418554666102864e-05, 3.0707899441040354e-06, 8.00676275503065e-07, 1.702009768678181e-07, 4.950954846094646e-08, 9.436624814895822e-09, 1.7849925981749948e-09, 2.8570618093581857e-10, 5.265763519668454e-11, 1.8900860043746803e-11, 9.141549496549661e-12, 7.563252975295587e-12, 4.599595444104709e-12, 5.412548447630838e-12, 5.2060257146879785e-12, 4.75398800187099e-12, 4.34256840556313e-12, 5.78303117199086e-12, 4.489835152970967e-12, 3.639833226487532e-12, 3.482092652412616e-12, 4.41223403299662e-12, 2.776395433001788e-12, 2.429358363781331e-12, 3.7192410609621085e-12, 3.4526004017571e-12, 4.311194630457482e-12, 4.155841903247248e-12, 3.810084626271193e-12, 3.675791875740186e-12, 3.661251423564549e-12, 5.026800156682221e-12, 4.2071376764318824e-12, 4.14500985618238e-12, 4.1552239080089315e-12, 3.749281701076468e-12, 3.708218194314883e-12, 3.582171018146063e-12, 4.273366816659463e-12, 3.95211250878158e-12, 4.820714140374438e-12, 5.466216021488002e-12, 5.524439412873949e-12, 5.2031855386769355e-12, 3.9911195008623945e-12, 3.828849563791703e-12, 3.873732064285651e-12, 4.491386863120228e-12, 4.0581409760376275e-12, 3.9551387338854216e-12, 4.029772175673241e-12, 4.096326576552567e-12, 4.02698274032387e-12, 4.2999579591418424e-12, 4.016451234101215e-12, 3.922771395908908e-12, 3.5095914889538005e-12, 3.842533062570208e-12, 3.109012613328188e-12, 3.998852898118299e-12, 4.487181026052722e-12, 4.607381316745762e-12, 4.673299507790274e-12, 4.703301116626424e-12, 5.093481626056162e-12, 4.969942860033605e-12, 4.783832618232564e-12, 5.0456600703130405e-12, 4.471434073699543e-12, 4.815984850498056e-12, 4.766468903599774e-12, 5.4589813572314405e-12, 6.891065409270203e-12, 5.965095171284185e-12, 7.127957946106989e-12, 6.6028224554592896e-12, 5.917308310010583e-12, 5.097484500476979e-12, 5.6133669761038174e-12, 5.20986682614466e-12, 4.960821683996919e-12, 4.739473136866623e-12, 4.658618976693951e-12, 3.985486420055029e-12, 4.81187398954086e-12, 5.290513686861953e-12, 6.033723434079041e-12, 5.089652657663812e-12, 5.421742482053515e-12, 4.471336929184888e-12, 4.5002586726572424e-12, 4.608737870503976e-12]"
   ]
  },
  {
   "cell_type": "code",
   "execution_count": 95,
   "metadata": {
    "ExecuteTime": {
     "end_time": "2021-01-15T06:53:26.823801Z",
     "start_time": "2021-01-15T06:53:26.807800Z"
    }
   },
   "outputs": [
    {
     "data": {
      "text/plain": [
       "[0,\n",
       " 1,\n",
       " 2,\n",
       " 3,\n",
       " 4,\n",
       " 5,\n",
       " 6,\n",
       " 7,\n",
       " 8,\n",
       " 9,\n",
       " 10,\n",
       " 11,\n",
       " 12,\n",
       " 13,\n",
       " 14,\n",
       " 15,\n",
       " 16,\n",
       " 17,\n",
       " 18,\n",
       " 19,\n",
       " 20,\n",
       " 21,\n",
       " 22,\n",
       " 23,\n",
       " 24,\n",
       " 25,\n",
       " 26,\n",
       " 27,\n",
       " 28,\n",
       " 29,\n",
       " 30,\n",
       " 31,\n",
       " 32,\n",
       " 33,\n",
       " 34,\n",
       " 35,\n",
       " 36,\n",
       " 37,\n",
       " 38,\n",
       " 39,\n",
       " 40,\n",
       " 41,\n",
       " 42,\n",
       " 43,\n",
       " 44,\n",
       " 45,\n",
       " 46,\n",
       " 47,\n",
       " 48,\n",
       " 49,\n",
       " 50,\n",
       " 51,\n",
       " 52,\n",
       " 53,\n",
       " 54,\n",
       " 55,\n",
       " 56,\n",
       " 57,\n",
       " 58,\n",
       " 59,\n",
       " 60,\n",
       " 61,\n",
       " 62,\n",
       " 63,\n",
       " 64,\n",
       " 65,\n",
       " 66,\n",
       " 67,\n",
       " 68,\n",
       " 69,\n",
       " 70,\n",
       " 71,\n",
       " 72,\n",
       " 73,\n",
       " 74,\n",
       " 75,\n",
       " 76,\n",
       " 77,\n",
       " 78,\n",
       " 79,\n",
       " 80,\n",
       " 81,\n",
       " 82,\n",
       " 83,\n",
       " 84,\n",
       " 85,\n",
       " 86,\n",
       " 87,\n",
       " 88,\n",
       " 89,\n",
       " 90,\n",
       " 91,\n",
       " 92,\n",
       " 93,\n",
       " 94,\n",
       " 95,\n",
       " 96,\n",
       " 97,\n",
       " 98,\n",
       " 99]"
      ]
     },
     "execution_count": 95,
     "metadata": {},
     "output_type": "execute_result"
    }
   ],
   "source": [
    "a= [i for i in range(100)]\n",
    "a"
   ]
  },
  {
   "cell_type": "code",
   "execution_count": 101,
   "metadata": {
    "ExecuteTime": {
     "end_time": "2021-01-15T06:57:39.100231Z",
     "start_time": "2021-01-15T06:57:39.094230Z"
    },
    "collapsed": true
   },
   "outputs": [],
   "source": [
    "import math"
   ]
  },
  {
   "cell_type": "code",
   "execution_count": 104,
   "metadata": {
    "ExecuteTime": {
     "end_time": "2021-01-15T06:58:46.880107Z",
     "start_time": "2021-01-15T06:58:46.872107Z"
    },
    "collapsed": true
   },
   "outputs": [],
   "source": [
    "train_ls2 =[ math.log10(i) for i in train_ls1]"
   ]
  },
  {
   "cell_type": "code",
   "execution_count": 105,
   "metadata": {
    "ExecuteTime": {
     "end_time": "2021-01-15T06:58:54.536545Z",
     "start_time": "2021-01-15T06:58:54.471542Z"
    }
   },
   "outputs": [
    {
     "data": {
      "text/plain": [
       "[<matplotlib.lines.Line2D at 0x13fffdd8>]"
      ]
     },
     "execution_count": 105,
     "metadata": {},
     "output_type": "execute_result"
    }
   ],
   "source": [
    "plt.plot(a,train_ls2)"
   ]
  },
  {
   "cell_type": "code",
   "execution_count": null,
   "metadata": {
    "collapsed": true
   },
   "outputs": [],
   "source": []
  }
 ],
 "metadata": {
  "kernelspec": {
   "display_name": "Python 3",
   "language": "python",
   "name": "python3"
  },
  "language_info": {
   "codemirror_mode": {
    "name": "ipython",
    "version": 3
   },
   "file_extension": ".py",
   "mimetype": "text/x-python",
   "name": "python",
   "nbconvert_exporter": "python",
   "pygments_lexer": "ipython3",
   "version": "3.6.3"
  }
 },
 "nbformat": 4,
 "nbformat_minor": 2
}
