{
 "cells": [
  {
   "cell_type": "code",
   "execution_count": 11,
   "metadata": {
    "ExecuteTime": {
     "end_time": "2021-01-12T06:58:16.465976Z",
     "start_time": "2021-01-12T06:58:16.429974Z"
    }
   },
   "outputs": [
    {
     "name": "stdout",
     "output_type": "stream",
     "text": [
      "Using matplotlib backend: Qt5Agg\n"
     ]
    }
   ],
   "source": [
    "import torch\n",
    "import numpy as np\n",
    "import sys\n",
    "import matplotlib.pyplot as plt\n",
    "import torchvision\n",
    "from torchvision import transforms\n",
    "%matplotlib auto"
   ]
  },
  {
   "cell_type": "code",
   "execution_count": 23,
   "metadata": {
    "ExecuteTime": {
     "end_time": "2021-01-12T07:01:03.656539Z",
     "start_time": "2021-01-12T07:01:03.638538Z"
    }
   },
   "outputs": [
    {
     "data": {
      "text/plain": [
       "(torch.Size([784, 256]),\n",
       " torch.Size([256]),\n",
       " torch.Size([256, 10]),\n",
       " torch.Size([256]))"
      ]
     },
     "execution_count": 23,
     "metadata": {},
     "output_type": "execute_result"
    }
   ],
   "source": [
    "w1.shape,b1.shape,w2.shape,b2.shape"
   ]
  },
  {
   "cell_type": "code",
   "execution_count": 13,
   "metadata": {
    "ExecuteTime": {
     "end_time": "2021-01-12T06:58:20.286194Z",
     "start_time": "2021-01-12T06:58:20.277194Z"
    },
    "collapsed": true
   },
   "outputs": [],
   "source": []
  },
  {
   "cell_type": "code",
   "execution_count": 14,
   "metadata": {
    "ExecuteTime": {
     "end_time": "2021-01-12T06:58:24.462433Z",
     "start_time": "2021-01-12T06:58:24.452433Z"
    },
    "collapsed": true
   },
   "outputs": [],
   "source": [
    "def relu(x):\n",
    "    return torch.max(input=x,other=torch.tensor(0.0))"
   ]
  },
  {
   "cell_type": "code",
   "execution_count": 31,
   "metadata": {
    "ExecuteTime": {
     "end_time": "2021-01-12T07:11:13.129398Z",
     "start_time": "2021-01-12T07:11:13.113398Z"
    },
    "collapsed": true
   },
   "outputs": [],
   "source": [
    "def net(x):\n",
    "    x=x.view((-1,num_inputs))         # -1,784\n",
    "    h=relu(torch.matmul(x,w1)+b1)     #-1,784 * 784*256 = -1 ,256 +256\n",
    "#     print('h.shape : ',h.shape)\n",
    "#     print('w2.shape : ',w2.shape)\n",
    "    return torch.matmul(h,w2)+b2      #-1* 256 * 256 * 10 = -1, 10 + 10\n"
   ]
  },
  {
   "cell_type": "code",
   "execution_count": 16,
   "metadata": {
    "ExecuteTime": {
     "end_time": "2021-01-12T06:58:25.557496Z",
     "start_time": "2021-01-12T06:58:25.552496Z"
    },
    "collapsed": true
   },
   "outputs": [],
   "source": [
    "loss=torch.nn.CrossEntropyLoss()"
   ]
  },
  {
   "cell_type": "code",
   "execution_count": 35,
   "metadata": {
    "ExecuteTime": {
     "end_time": "2021-01-12T07:25:14.475521Z",
     "start_time": "2021-01-12T07:25:14.465520Z"
    },
    "collapsed": true
   },
   "outputs": [],
   "source": [
    "def sgd(x,lm,params):\n",
    "    for p in params:\n",
    "        p.data -= lm * p.grad /len(x)"
   ]
  },
  {
   "cell_type": "code",
   "execution_count": 40,
   "metadata": {
    "ExecuteTime": {
     "end_time": "2021-01-12T07:26:01.857231Z",
     "start_time": "2021-01-12T07:26:01.840230Z"
    },
    "collapsed": true
   },
   "outputs": [],
   "source": [
    "def evaluate_accuracy(data_iter, net):\n",
    "    acc_sum, n = 0.0, 0\n",
    "    for x, y in data_iter:\n",
    "        acc_sum += (net(x).argmax(dim=1) == y).float().sum().item()\n",
    "        n += y.shape[0]\n",
    "    return acc_sum / n"
   ]
  },
  {
   "cell_type": "code",
   "execution_count": 17,
   "metadata": {
    "ExecuteTime": {
     "end_time": "2021-01-12T06:58:29.185703Z",
     "start_time": "2021-01-12T06:58:29.132700Z"
    },
    "collapsed": true
   },
   "outputs": [],
   "source": [
    "num_epochs, lr = 5, 0.1\n",
    "\n",
    "\n",
    "def train_ch3(net,\n",
    "              train_iter,\n",
    "              test_iter,\n",
    "              loss,\n",
    "              num_epochs,\n",
    "              batch_size,\n",
    "              params=None,\n",
    "              lr=None,\n",
    "              optimizer=None):\n",
    "    for epoch in range(num_epochs):\n",
    "        train_l_sum, train_acc_sum, n = 0.0, 0.0, 0\n",
    "        for x, y in train_iter:\n",
    "            y_hat = net(x)\n",
    "            l = loss(y_hat, y).sum()\n",
    "#             print('-----------')\n",
    "#             print('y_hat: \\n',y_hat)\n",
    "#             print('y: \\n',y)\n",
    "#             print(l.item())\n",
    "#             print('-----------')\n",
    "            \n",
    "            if params is not None and params[0].grad is not None:\n",
    "                for param in params:\n",
    "                    param.grad.data.zero_()\n",
    "            l.backward()\n",
    "#             if optimizer is None:\n",
    "            sgd(x, lr, params)\n",
    "\n",
    "            train_l_sum += l.item()\n",
    "            train_acc_sum += (y_hat.argmax(dim=1) == y).float().sum().item()\n",
    "            n += y.shape[0]\n",
    "        test_acc = evaluate_accuracy(test_iter, net)\n",
    "        print('epoch %d ,loss %.4f,train acc %.3f,test acc %.3f' %\n",
    "              (epoch + 1, train_l_sum / n, train_acc_sum / n, test_acc))"
   ]
  },
  {
   "cell_type": "code",
   "execution_count": 41,
   "metadata": {
    "ExecuteTime": {
     "end_time": "2021-01-12T07:26:07.652562Z",
     "start_time": "2021-01-12T07:26:07.599559Z"
    },
    "collapsed": true
   },
   "outputs": [],
   "source": [
    "batch_size=256\n",
    "mnist_train=torchvision.datasets.FashionMNIST(\n",
    "    root='F:\\study\\ml\\DataSet\\FashionMNIST',train=True,\n",
    "    download=True,transform=transforms.ToTensor())\n",
    "mnist_test=torchvision.datasets.FashionMNIST(\n",
    "    root='F:\\study\\ml\\DataSet\\FashionMNIST',train=False,\n",
    "    download=True,transform=transforms.ToTensor())"
   ]
  },
  {
   "cell_type": "code",
   "execution_count": 42,
   "metadata": {
    "ExecuteTime": {
     "end_time": "2021-01-12T07:26:08.022583Z",
     "start_time": "2021-01-12T07:26:08.015583Z"
    },
    "collapsed": true
   },
   "outputs": [],
   "source": [
    "train_iter=torch.utils.data.DataLoader(mnist_train,batch_size=batch_size,\n",
    "                                      shuffle=True,num_workers=4)\n",
    "test_iter=torch.utils.data.DataLoader(mnist_test,batch_size=batch_size,\n",
    "                                      shuffle=True,num_workers=4)"
   ]
  },
  {
   "cell_type": "code",
   "execution_count": 43,
   "metadata": {
    "ExecuteTime": {
     "end_time": "2021-01-12T07:26:08.691622Z",
     "start_time": "2021-01-12T07:26:08.650619Z"
    },
    "collapsed": true
   },
   "outputs": [],
   "source": [
    "num_inputs,num_outputs,num_hiddens=784,10,256\n",
    "w1=torch.tensor(np.random.normal(0,0.01,(num_inputs,num_hiddens)),dtype=torch.float)\n",
    "b1=torch.zeros(num_hiddens,dtype=torch.float)\n",
    "w2=torch.tensor(np.random.normal(0,0.01,(num_hiddens,num_outputs)),dtype=torch.float)\n",
    "b2=torch.zeros(num_outputs,dtype=torch.float)\n",
    "\n",
    "params=[w1,b1,w2,b2]\n",
    "for param in params:\n",
    "    param.requires_grad_(True)"
   ]
  },
  {
   "cell_type": "code",
   "execution_count": 44,
   "metadata": {
    "ExecuteTime": {
     "end_time": "2021-01-12T07:26:55.549302Z",
     "start_time": "2021-01-12T07:26:09.701679Z"
    }
   },
   "outputs": [
    {
     "name": "stdout",
     "output_type": "stream",
     "text": [
      "epoch 1 ,loss 0.0090,train acc 0.108,test acc 0.124\n",
      "epoch 2 ,loss 0.0090,train acc 0.132,test acc 0.150\n",
      "epoch 3 ,loss 0.0090,train acc 0.153,test acc 0.164\n",
      "epoch 4 ,loss 0.0089,train acc 0.166,test acc 0.180\n",
      "epoch 5 ,loss 0.0089,train acc 0.178,test acc 0.192\n"
     ]
    }
   ],
   "source": [
    "train_ch3(net, train_iter, test_iter, loss, num_epochs, batch_size,\n",
    "          params, lr)"
   ]
  },
  {
   "cell_type": "code",
   "execution_count": null,
   "metadata": {
    "collapsed": true
   },
   "outputs": [],
   "source": []
  }
 ],
 "metadata": {
  "kernelspec": {
   "display_name": "Python 3",
   "language": "python",
   "name": "python3"
  },
  "language_info": {
   "codemirror_mode": {
    "name": "ipython",
    "version": 3
   },
   "file_extension": ".py",
   "mimetype": "text/x-python",
   "name": "python",
   "nbconvert_exporter": "python",
   "pygments_lexer": "ipython3",
   "version": "3.6.3"
  }
 },
 "nbformat": 4,
 "nbformat_minor": 2
}
