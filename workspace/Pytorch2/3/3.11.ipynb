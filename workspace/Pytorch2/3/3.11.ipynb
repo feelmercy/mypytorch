{
 "cells": [
  {
   "cell_type": "code",
   "execution_count": 19,
   "metadata": {
    "ExecuteTime": {
     "end_time": "2021-01-13T08:50:19.853329Z",
     "start_time": "2021-01-13T08:50:19.565313Z"
    }
   },
   "outputs": [
    {
     "name": "stdout",
     "output_type": "stream",
     "text": [
      "Using matplotlib backend: Qt5Agg\n"
     ]
    }
   ],
   "source": [
    "import torch\n",
    "import numpy as np\n",
    "import torchvision\n",
    "import sys\n",
    "sys.path.append(\"..\")\n",
    "import matplotlib.pyplot as plt\n",
    "%matplotlib auto"
   ]
  },
  {
   "cell_type": "code",
   "execution_count": 20,
   "metadata": {
    "ExecuteTime": {
     "end_time": "2021-01-13T08:50:20.670376Z",
     "start_time": "2021-01-13T08:50:20.665375Z"
    },
    "collapsed": true
   },
   "outputs": [],
   "source": [
    "n_train,n_test,true_w,true_b=100,100,[1.2,-3.4,5.6],5\n",
    "features=torch.randn((n_train+n_test,1))"
   ]
  },
  {
   "cell_type": "code",
   "execution_count": 21,
   "metadata": {
    "ExecuteTime": {
     "end_time": "2021-01-13T08:50:21.425419Z",
     "start_time": "2021-01-13T08:50:21.416418Z"
    }
   },
   "outputs": [],
   "source": [
    "poly_features = torch.cat(\n",
    "    (features, torch.pow(features, 2), torch.pow(features, 3)), 1)\n",
    "labels = (true_w[0] * poly_features[:, 0] + true_w[1] * poly_features[:, 1] +\n",
    "          true_w[2] * poly_features[:, 2] + true_b)\n",
    "labels += torch.tensor(np.random.normal(0, 0.01, size=labels.size()),\n",
    "                       dtype=torch.float)"
   ]
  },
  {
   "cell_type": "code",
   "execution_count": 22,
   "metadata": {
    "ExecuteTime": {
     "end_time": "2021-01-13T08:50:22.203463Z",
     "start_time": "2021-01-13T08:50:22.192463Z"
    }
   },
   "outputs": [
    {
     "data": {
      "text/plain": [
       "tensor([[-1.2812e+00,  1.6416e+00, -2.1032e+00],\n",
       "        [ 1.7959e+00,  3.2253e+00,  5.7924e+00],\n",
       "        [ 3.2343e-01,  1.0460e-01,  3.3832e-02],\n",
       "        [ 1.0292e-01,  1.0592e-02,  1.0901e-03],\n",
       "        [ 1.5740e+00,  2.4773e+00,  3.8992e+00],\n",
       "        [-1.0276e-01,  1.0560e-02, -1.0852e-03],\n",
       "        [ 1.3081e+00,  1.7112e+00,  2.2384e+00],\n",
       "        [-1.4347e+00,  2.0583e+00, -2.9529e+00],\n",
       "        [ 1.2112e+00,  1.4670e+00,  1.7769e+00],\n",
       "        [ 2.8427e-01,  8.0810e-02,  2.2972e-02],\n",
       "        [-1.4046e+00,  1.9728e+00, -2.7709e+00],\n",
       "        [-2.2276e-01,  4.9622e-02, -1.1054e-02],\n",
       "        [-6.2926e-01,  3.9597e-01, -2.4917e-01],\n",
       "        [-6.7308e-01,  4.5304e-01, -3.0493e-01],\n",
       "        [-2.6142e-01,  6.8340e-02, -1.7866e-02],\n",
       "        [-1.2746e+00,  1.6246e+00, -2.0707e+00],\n",
       "        [ 1.0422e+00,  1.0862e+00,  1.1320e+00],\n",
       "        [-7.0805e-01,  5.0134e-01, -3.5497e-01],\n",
       "        [-2.6656e-01,  7.1055e-02, -1.8940e-02],\n",
       "        [ 1.3325e+00,  1.7755e+00,  2.3657e+00],\n",
       "        [ 9.7219e-01,  9.4516e-01,  9.1887e-01],\n",
       "        [-1.1692e+00,  1.3670e+00, -1.5982e+00],\n",
       "        [-2.0251e+00,  4.1011e+00, -8.3051e+00],\n",
       "        [-7.5483e-02,  5.6977e-03, -4.3008e-04],\n",
       "        [-1.1359e+00,  1.2902e+00, -1.4655e+00],\n",
       "        [-3.5678e-01,  1.2729e-01, -4.5414e-02],\n",
       "        [ 8.7086e-01,  7.5839e-01,  6.6045e-01],\n",
       "        [-9.7661e-01,  9.5377e-01, -9.3146e-01],\n",
       "        [ 1.7643e+00,  3.1126e+00,  5.4914e+00],\n",
       "        [ 6.8766e-01,  4.7288e-01,  3.2518e-01],\n",
       "        [-5.0588e-01,  2.5591e-01, -1.2946e-01],\n",
       "        [-1.5302e-01,  2.3414e-02, -3.5827e-03],\n",
       "        [ 1.3044e+00,  1.7014e+00,  2.2192e+00],\n",
       "        [ 8.8551e-01,  7.8413e-01,  6.9436e-01],\n",
       "        [ 1.3053e-01,  1.7039e-02,  2.2242e-03],\n",
       "        [-6.9162e-01,  4.7834e-01, -3.3083e-01],\n",
       "        [ 3.7105e-03,  1.3768e-05,  5.1085e-08],\n",
       "        [-1.3274e+00,  1.7619e+00, -2.3387e+00],\n",
       "        [-2.6634e-01,  7.0937e-02, -1.8893e-02],\n",
       "        [-1.1418e+00,  1.3037e+00, -1.4886e+00],\n",
       "        [-5.4430e-01,  2.9626e-01, -1.6126e-01],\n",
       "        [ 7.9383e-01,  6.3017e-01,  5.0025e-01],\n",
       "        [-3.1453e-01,  9.8932e-02, -3.1117e-02],\n",
       "        [-3.3846e-01,  1.1455e-01, -3.8772e-02],\n",
       "        [-1.3002e+00,  1.6904e+00, -2.1978e+00],\n",
       "        [ 1.9869e+00,  3.9479e+00,  7.8442e+00],\n",
       "        [-8.4228e-02,  7.0944e-03, -5.9755e-04],\n",
       "        [ 9.1962e-02,  8.4570e-03,  7.7772e-04],\n",
       "        [ 1.1223e+00,  1.2595e+00,  1.4135e+00],\n",
       "        [ 4.1970e-01,  1.7615e-01,  7.3932e-02],\n",
       "        [-6.8642e-02,  4.7117e-03, -3.2342e-04],\n",
       "        [-8.7157e-01,  7.5963e-01, -6.6207e-01],\n",
       "        [-1.1394e+00,  1.2983e+00, -1.4794e+00],\n",
       "        [ 7.9878e-01,  6.3805e-01,  5.0966e-01],\n",
       "        [-1.0117e+00,  1.0236e+00, -1.0357e+00],\n",
       "        [-2.7943e-01,  7.8083e-02, -2.1819e-02],\n",
       "        [-1.0814e+00,  1.1694e+00, -1.2645e+00],\n",
       "        [-6.3460e-02,  4.0272e-03, -2.5557e-04],\n",
       "        [-3.5709e-01,  1.2751e-01, -4.5534e-02],\n",
       "        [-9.9795e-01,  9.9590e-01, -9.9386e-01],\n",
       "        [-1.4868e+00,  2.2106e+00, -3.2868e+00],\n",
       "        [-1.0483e+00,  1.0989e+00, -1.1519e+00],\n",
       "        [ 6.2605e-01,  3.9194e-01,  2.4537e-01],\n",
       "        [-4.1176e-01,  1.6954e-01, -6.9811e-02],\n",
       "        [ 7.8852e-01,  6.2177e-01,  4.9028e-01],\n",
       "        [-1.4311e+00,  2.0479e+00, -2.9307e+00],\n",
       "        [-3.8492e-01,  1.4816e-01, -5.7031e-02],\n",
       "        [-4.2038e-03,  1.7672e-05, -7.4290e-08],\n",
       "        [-9.1107e-01,  8.3005e-01, -7.5623e-01],\n",
       "        [ 1.2366e+00,  1.5292e+00,  1.8909e+00],\n",
       "        [-2.0886e+00,  4.3622e+00, -9.1108e+00],\n",
       "        [ 5.8771e-01,  3.4541e-01,  2.0300e-01],\n",
       "        [-1.4303e+00,  2.0457e+00, -2.9260e+00],\n",
       "        [ 2.8522e-01,  8.1348e-02,  2.3202e-02],\n",
       "        [ 8.3307e-01,  6.9400e-01,  5.7815e-01],\n",
       "        [-9.5660e-01,  9.1508e-01, -8.7537e-01],\n",
       "        [ 8.3078e-01,  6.9020e-01,  5.7340e-01],\n",
       "        [ 1.2843e+00,  1.6495e+00,  2.1184e+00],\n",
       "        [-1.1215e-01,  1.2577e-02, -1.4105e-03],\n",
       "        [-3.5893e-02,  1.2883e-03, -4.6241e-05],\n",
       "        [ 5.0799e-01,  2.5806e-01,  1.3109e-01],\n",
       "        [-8.9655e-01,  8.0381e-01, -7.2066e-01],\n",
       "        [ 1.1839e-01,  1.4015e-02,  1.6592e-03],\n",
       "        [-4.8941e-02,  2.3952e-03, -1.1722e-04],\n",
       "        [-9.9006e-01,  9.8022e-01, -9.7047e-01],\n",
       "        [-1.6246e-01,  2.6394e-02, -4.2880e-03],\n",
       "        [-3.8893e-01,  1.5126e-01, -5.8830e-02],\n",
       "        [-1.9364e+00,  3.7496e+00, -7.2605e+00],\n",
       "        [-8.0272e-01,  6.4436e-01, -5.1724e-01],\n",
       "        [-9.4330e-01,  8.8982e-01, -8.3937e-01],\n",
       "        [-8.3725e-01,  7.0099e-01, -5.8691e-01],\n",
       "        [-1.9680e+00,  3.8730e+00, -7.6220e+00],\n",
       "        [-1.1998e+00,  1.4396e+00, -1.7272e+00],\n",
       "        [-6.3489e-01,  4.0308e-01, -2.5591e-01],\n",
       "        [-3.5569e-01,  1.2652e-01, -4.5001e-02],\n",
       "        [ 1.1896e+00,  1.4151e+00,  1.6833e+00],\n",
       "        [ 2.9421e-01,  8.6557e-02,  2.5466e-02],\n",
       "        [-7.4581e-01,  5.5624e-01, -4.1485e-01],\n",
       "        [-1.4116e+00,  1.9927e+00, -2.8130e+00],\n",
       "        [ 1.3646e-01,  1.8622e-02,  2.5411e-03],\n",
       "        [-1.2790e+00,  1.6359e+00, -2.0923e+00],\n",
       "        [-2.6425e-01,  6.9826e-02, -1.8451e-02],\n",
       "        [ 1.1492e+00,  1.3206e+00,  1.5176e+00],\n",
       "        [-1.4603e-01,  2.1324e-02, -3.1139e-03],\n",
       "        [-9.1667e-01,  8.4028e-01, -7.7026e-01],\n",
       "        [ 1.8574e+00,  3.4498e+00,  6.4076e+00],\n",
       "        [ 1.0989e+00,  1.2075e+00,  1.3268e+00],\n",
       "        [-8.5658e-01,  7.3372e-01, -6.2849e-01],\n",
       "        [-2.9898e-01,  8.9390e-02, -2.6726e-02],\n",
       "        [ 1.2356e+00,  1.5267e+00,  1.8865e+00],\n",
       "        [-3.9073e-01,  1.5267e-01, -5.9655e-02],\n",
       "        [-9.8188e-01,  9.6410e-01, -9.4663e-01],\n",
       "        [-2.4634e-02,  6.0685e-04, -1.4949e-05],\n",
       "        [-4.5992e-01,  2.1152e-01, -9.7283e-02],\n",
       "        [ 1.4394e+00,  2.0718e+00,  2.9821e+00],\n",
       "        [-1.2063e-01,  1.4550e-02, -1.7552e-03],\n",
       "        [ 6.7191e-01,  4.5147e-01,  3.0335e-01],\n",
       "        [-8.7697e-01,  7.6907e-01, -6.7445e-01],\n",
       "        [-9.5366e-01,  9.0947e-01, -8.6732e-01],\n",
       "        [-1.1913e+00,  1.4191e+00, -1.6905e+00],\n",
       "        [ 3.1995e+00,  1.0237e+01,  3.2754e+01],\n",
       "        [ 1.9808e-02,  3.9237e-04,  7.7723e-06],\n",
       "        [-8.4149e-01,  7.0810e-01, -5.9586e-01],\n",
       "        [ 5.5631e-01,  3.0948e-01,  1.7216e-01],\n",
       "        [ 4.8981e-01,  2.3991e-01,  1.1751e-01],\n",
       "        [ 1.1279e+00,  1.2721e+00,  1.4348e+00],\n",
       "        [-5.2125e-01,  2.7170e-01, -1.4162e-01],\n",
       "        [ 5.0605e-01,  2.5608e-01,  1.2959e-01],\n",
       "        [-1.5443e+00,  2.3848e+00, -3.6827e+00],\n",
       "        [-3.5910e-01,  1.2895e-01, -4.6306e-02],\n",
       "        [ 1.4559e+00,  2.1196e+00,  3.0859e+00],\n",
       "        [-1.5685e+00,  2.4602e+00, -3.8589e+00],\n",
       "        [-5.6365e-01,  3.1770e-01, -1.7907e-01],\n",
       "        [-1.1951e-01,  1.4283e-02, -1.7070e-03],\n",
       "        [ 1.7049e-01,  2.9067e-02,  4.9555e-03],\n",
       "        [ 8.5035e-01,  7.2310e-01,  6.1489e-01],\n",
       "        [-3.3335e-01,  1.1112e-01, -3.7042e-02],\n",
       "        [-1.8277e+00,  3.3406e+00, -6.1058e+00],\n",
       "        [ 1.2625e+00,  1.5939e+00,  2.0124e+00],\n",
       "        [-5.0606e-01,  2.5609e-01, -1.2960e-01],\n",
       "        [-4.8965e-01,  2.3976e-01, -1.1740e-01],\n",
       "        [-9.1930e-01,  8.4511e-01, -7.7690e-01],\n",
       "        [ 9.9642e-01,  9.9285e-01,  9.8929e-01],\n",
       "        [-4.1388e-01,  1.7129e-01, -7.0894e-02],\n",
       "        [-1.6184e+00,  2.6192e+00, -4.2390e+00],\n",
       "        [ 1.8464e+00,  3.4090e+00,  6.2943e+00],\n",
       "        [-7.0055e-01,  4.9078e-01, -3.4381e-01],\n",
       "        [ 1.4338e+00,  2.0557e+00,  2.9475e+00],\n",
       "        [-8.8723e-01,  7.8717e-01, -6.9840e-01],\n",
       "        [-7.7950e-01,  6.0762e-01, -4.7363e-01],\n",
       "        [ 2.3940e-01,  5.7312e-02,  1.3720e-02],\n",
       "        [-1.6981e-02,  2.8834e-04, -4.8962e-06],\n",
       "        [-3.9164e-01,  1.5339e-01, -6.0073e-02],\n",
       "        [-5.0732e-01,  2.5737e-01, -1.3057e-01],\n",
       "        [ 1.1860e+00,  1.4067e+00,  1.6684e+00],\n",
       "        [ 9.4594e-01,  8.9480e-01,  8.4643e-01],\n",
       "        [ 3.6570e-01,  1.3374e-01,  4.8909e-02],\n",
       "        [ 9.7904e-01,  9.5852e-01,  9.3842e-01],\n",
       "        [ 1.2419e+00,  1.5422e+00,  1.9152e+00],\n",
       "        [ 2.1613e+00,  4.6713e+00,  1.0096e+01],\n",
       "        [ 2.0590e-01,  4.2394e-02,  8.7288e-03],\n",
       "        [ 1.2098e+00,  1.4636e+00,  1.7707e+00],\n",
       "        [ 3.6793e-01,  1.3537e-01,  4.9808e-02],\n",
       "        [-7.7437e-01,  5.9964e-01, -4.6434e-01],\n",
       "        [ 9.3511e-01,  8.7444e-01,  8.1770e-01],\n",
       "        [-5.7395e-01,  3.2942e-01, -1.8907e-01],\n",
       "        [ 1.6924e+00,  2.8641e+00,  4.8470e+00],\n",
       "        [-2.0497e+00,  4.2015e+00, -8.6120e+00],\n",
       "        [-2.8708e-01,  8.2417e-02, -2.3660e-02],\n",
       "        [ 1.1656e+00,  1.3587e+00,  1.5837e+00],\n",
       "        [-1.4209e+00,  2.0191e+00, -2.8689e+00],\n",
       "        [ 9.8127e-01,  9.6288e-01,  9.4485e-01],\n",
       "        [-7.0388e-01,  4.9544e-01, -3.4873e-01],\n",
       "        [ 4.7521e-01,  2.2582e-01,  1.0731e-01],\n",
       "        [-5.7656e-01,  3.3242e-01, -1.9166e-01],\n",
       "        [-5.9146e-01,  3.4982e-01, -2.0690e-01],\n",
       "        [-4.3172e-01,  1.8639e-01, -8.0467e-02],\n",
       "        [-9.1814e-01,  8.4299e-01, -7.7398e-01],\n",
       "        [ 9.8059e-01,  9.6155e-01,  9.4289e-01],\n",
       "        [ 3.8402e-01,  1.4747e-01,  5.6630e-02],\n",
       "        [ 4.8702e-01,  2.3719e-01,  1.1551e-01],\n",
       "        [-8.4963e-02,  7.2188e-03, -6.1333e-04],\n",
       "        [-1.1401e+00,  1.2998e+00, -1.4819e+00],\n",
       "        [ 1.8877e+00,  3.5635e+00,  6.7268e+00],\n",
       "        [-1.4018e+00,  1.9649e+00, -2.7544e+00],\n",
       "        [ 1.3085e+00,  1.7122e+00,  2.2405e+00],\n",
       "        [-4.3134e-01,  1.8606e-01, -8.0255e-02],\n",
       "        [-1.3572e+00,  1.8421e+00, -2.5001e+00],\n",
       "        [ 1.9433e+00,  3.7766e+00,  7.3391e+00],\n",
       "        [-3.4698e-01,  1.2040e-01, -4.1776e-02],\n",
       "        [ 1.1498e+00,  1.3220e+00,  1.5199e+00],\n",
       "        [ 2.0859e-01,  4.3510e-02,  9.0759e-03],\n",
       "        [-1.0591e+00,  1.1217e+00, -1.1879e+00],\n",
       "        [-7.9919e-01,  6.3870e-01, -5.1044e-01],\n",
       "        [ 3.2476e-01,  1.0547e-01,  3.4253e-02],\n",
       "        [-5.3325e-01,  2.8435e-01, -1.5163e-01],\n",
       "        [-1.7711e+00,  3.1366e+00, -5.5552e+00],\n",
       "        [ 1.5327e+00,  2.3493e+00,  3.6009e+00],\n",
       "        [ 8.1390e-02,  6.6243e-03,  5.3915e-04],\n",
       "        [-1.2391e+00,  1.5355e+00, -1.9026e+00]])"
      ]
     },
     "execution_count": 22,
     "metadata": {},
     "output_type": "execute_result"
    }
   ],
   "source": [
    "poly_features"
   ]
  },
  {
   "cell_type": "code",
   "execution_count": 29,
   "metadata": {
    "ExecuteTime": {
     "end_time": "2021-01-13T08:51:33.810559Z",
     "start_time": "2021-01-13T08:51:33.786558Z"
    },
    "collapsed": true
   },
   "outputs": [],
   "source": [
    "def semilogy(x_vals,y_vals,x_label,y_label,x2_vals=None,y2_vals=None,\n",
    "            legend=None,figsize=(3.5,2.5)):\n",
    "    plt.figure(figsize=figsize)\n",
    "    plt.xlabel(x_label)\n",
    "    plt.ylabel(y_label)\n",
    "    plt.semilogx(x_vals,y_vals)\n",
    "    if x2_vals and y2_vals:\n",
    "        plt.semilogy(x2_vals,y2_vals,linestyle=':')\n",
    "        plt.legend(legend)"
   ]
  },
  {
   "cell_type": "code",
   "execution_count": 30,
   "metadata": {
    "ExecuteTime": {
     "end_time": "2021-01-13T08:51:34.778614Z",
     "start_time": "2021-01-13T08:51:34.726611Z"
    },
    "collapsed": true
   },
   "outputs": [],
   "source": [
    "num_epochs,loss=100,torch.nn.MSELoss()\n",
    "def fit_and_plot(train_features,test_features,train_labels,test_labels):\n",
    "    net=torch.nn.Linear(train_features.shape[-1],1)\n",
    "    batch_size=min(10,train_labels.shape[0])\n",
    "    dataset=torch.utils.data.TensorDataset(train_features,train_labels)\n",
    "    train_iter=torch.utils.data.DataLoader(dataset,batch_size,shuffle=True)\n",
    "    \n",
    "    optimizer=torch.optim.SGD(net.parameters(),lr=0.01)\n",
    "    train_ls,test_ls=[],[]\n",
    "    for _ in range(num_epochs):\n",
    "        for x,y in train_iter:\n",
    "            l=loss(net(x),y.view(-1,1))\n",
    "            optimizer.zero_grad()\n",
    "            l.backward()\n",
    "            optimizer.step()\n",
    "            train_labels=train_labels.view(-1,1)\n",
    "            test_labels=test_labels.view(-1,1)\n",
    "            train_ls.append(loss(net(train_features),train_labels).item())\n",
    "            test_ls.append(loss(net(test_features),test_labels).item())\n",
    "        print('final epoch:train loss',train_ls[-1],'test loss',test_ls[-1])\n",
    "        semilogy(range(1,num_epochs+1),train_ls,'epochs','loss',\n",
    "                range(1,num_epochs+1),test_ls,['train','test'])\n",
    "        print('weight: ',net.weight.data,'\\nbias:',net.bias.data)\n",
    "        "
   ]
  },
  {
   "cell_type": "code",
   "execution_count": 33,
   "metadata": {
    "ExecuteTime": {
     "end_time": "2021-01-13T09:16:56.485651Z",
     "start_time": "2021-01-13T09:16:56.404646Z"
    }
   },
   "outputs": [
    {
     "name": "stdout",
     "output_type": "stream",
     "text": [
      "final epoch:train loss 23.440837860107422 test loss 21.59218978881836\n"
     ]
    },
    {
     "ename": "ValueError",
     "evalue": "x and y must have same first dimension, but have shapes (100,) and (10,)",
     "output_type": "error",
     "traceback": [
      "\u001b[1;31m---------------------------------------------------------------------------\u001b[0m",
      "\u001b[1;31mValueError\u001b[0m                                Traceback (most recent call last)",
      "\u001b[1;32m<ipython-input-33-f5f94e8f8b3d>\u001b[0m in \u001b[0;36m<module>\u001b[1;34m()\u001b[0m\n\u001b[0;32m      1\u001b[0m fit_and_plot(poly_features[:n_train,:],poly_features[n_train:,:],\n\u001b[1;32m----> 2\u001b[1;33m             labels[:n_train],labels[n_train:])\n\u001b[0m",
      "\u001b[1;32m<ipython-input-30-ba8311da2e6f>\u001b[0m in \u001b[0;36mfit_and_plot\u001b[1;34m(train_features, test_features, train_labels, test_labels)\u001b[0m\n\u001b[0;32m     20\u001b[0m         \u001b[0mprint\u001b[0m\u001b[1;33m(\u001b[0m\u001b[1;34m'final epoch:train loss'\u001b[0m\u001b[1;33m,\u001b[0m\u001b[0mtrain_ls\u001b[0m\u001b[1;33m[\u001b[0m\u001b[1;33m-\u001b[0m\u001b[1;36m1\u001b[0m\u001b[1;33m]\u001b[0m\u001b[1;33m,\u001b[0m\u001b[1;34m'test loss'\u001b[0m\u001b[1;33m,\u001b[0m\u001b[0mtest_ls\u001b[0m\u001b[1;33m[\u001b[0m\u001b[1;33m-\u001b[0m\u001b[1;36m1\u001b[0m\u001b[1;33m]\u001b[0m\u001b[1;33m)\u001b[0m\u001b[1;33m\u001b[0m\u001b[0m\n\u001b[0;32m     21\u001b[0m         semilogy(range(1,num_epochs+1),train_ls,'epochs','loss',\n\u001b[1;32m---> 22\u001b[1;33m                 range(1,num_epochs+1),test_ls,['train','test'])\n\u001b[0m\u001b[0;32m     23\u001b[0m         \u001b[0mprint\u001b[0m\u001b[1;33m(\u001b[0m\u001b[1;34m'weight: '\u001b[0m\u001b[1;33m,\u001b[0m\u001b[0mnet\u001b[0m\u001b[1;33m.\u001b[0m\u001b[0mweight\u001b[0m\u001b[1;33m.\u001b[0m\u001b[0mdata\u001b[0m\u001b[1;33m,\u001b[0m\u001b[1;34m'\\nbias:'\u001b[0m\u001b[1;33m,\u001b[0m\u001b[0mnet\u001b[0m\u001b[1;33m.\u001b[0m\u001b[0mbias\u001b[0m\u001b[1;33m.\u001b[0m\u001b[0mdata\u001b[0m\u001b[1;33m)\u001b[0m\u001b[1;33m\u001b[0m\u001b[0m\n\u001b[0;32m     24\u001b[0m \u001b[1;33m\u001b[0m\u001b[0m\n",
      "\u001b[1;32m<ipython-input-29-ec6d52e84a70>\u001b[0m in \u001b[0;36msemilogy\u001b[1;34m(x_vals, y_vals, x_label, y_label, x2_vals, y2_vals, legend, figsize)\u001b[0m\n\u001b[0;32m      4\u001b[0m     \u001b[0mplt\u001b[0m\u001b[1;33m.\u001b[0m\u001b[0mxlabel\u001b[0m\u001b[1;33m(\u001b[0m\u001b[0mx_label\u001b[0m\u001b[1;33m)\u001b[0m\u001b[1;33m\u001b[0m\u001b[0m\n\u001b[0;32m      5\u001b[0m     \u001b[0mplt\u001b[0m\u001b[1;33m.\u001b[0m\u001b[0mylabel\u001b[0m\u001b[1;33m(\u001b[0m\u001b[0my_label\u001b[0m\u001b[1;33m)\u001b[0m\u001b[1;33m\u001b[0m\u001b[0m\n\u001b[1;32m----> 6\u001b[1;33m     \u001b[0mplt\u001b[0m\u001b[1;33m.\u001b[0m\u001b[0msemilogx\u001b[0m\u001b[1;33m(\u001b[0m\u001b[0mx_vals\u001b[0m\u001b[1;33m,\u001b[0m\u001b[0my_vals\u001b[0m\u001b[1;33m)\u001b[0m\u001b[1;33m\u001b[0m\u001b[0m\n\u001b[0m\u001b[0;32m      7\u001b[0m     \u001b[1;32mif\u001b[0m \u001b[0mx2_vals\u001b[0m \u001b[1;32mand\u001b[0m \u001b[0my2_vals\u001b[0m\u001b[1;33m:\u001b[0m\u001b[1;33m\u001b[0m\u001b[0m\n\u001b[0;32m      8\u001b[0m         \u001b[0mplt\u001b[0m\u001b[1;33m.\u001b[0m\u001b[0msemilogy\u001b[0m\u001b[1;33m(\u001b[0m\u001b[0mx2_vals\u001b[0m\u001b[1;33m,\u001b[0m\u001b[0my2_vals\u001b[0m\u001b[1;33m,\u001b[0m\u001b[0mlinestyle\u001b[0m\u001b[1;33m=\u001b[0m\u001b[1;34m':'\u001b[0m\u001b[1;33m)\u001b[0m\u001b[1;33m\u001b[0m\u001b[0m\n",
      "\u001b[1;32mD:\\ProgramData\\Anaconda3\\lib\\site-packages\\matplotlib\\pyplot.py\u001b[0m in \u001b[0;36msemilogx\u001b[1;34m(*args, **kwargs)\u001b[0m\n\u001b[0;32m   3376\u001b[0m                       mplDeprecation)\n\u001b[0;32m   3377\u001b[0m     \u001b[1;32mtry\u001b[0m\u001b[1;33m:\u001b[0m\u001b[1;33m\u001b[0m\u001b[0m\n\u001b[1;32m-> 3378\u001b[1;33m         \u001b[0mret\u001b[0m \u001b[1;33m=\u001b[0m \u001b[0max\u001b[0m\u001b[1;33m.\u001b[0m\u001b[0msemilogx\u001b[0m\u001b[1;33m(\u001b[0m\u001b[1;33m*\u001b[0m\u001b[0margs\u001b[0m\u001b[1;33m,\u001b[0m \u001b[1;33m**\u001b[0m\u001b[0mkwargs\u001b[0m\u001b[1;33m)\u001b[0m\u001b[1;33m\u001b[0m\u001b[0m\n\u001b[0m\u001b[0;32m   3379\u001b[0m     \u001b[1;32mfinally\u001b[0m\u001b[1;33m:\u001b[0m\u001b[1;33m\u001b[0m\u001b[0m\n\u001b[0;32m   3380\u001b[0m         \u001b[0max\u001b[0m\u001b[1;33m.\u001b[0m\u001b[0m_hold\u001b[0m \u001b[1;33m=\u001b[0m \u001b[0mwashold\u001b[0m\u001b[1;33m\u001b[0m\u001b[0m\n",
      "\u001b[1;32mD:\\ProgramData\\Anaconda3\\lib\\site-packages\\matplotlib\\axes\\_axes.py\u001b[0m in \u001b[0;36msemilogx\u001b[1;34m(self, *args, **kwargs)\u001b[0m\n\u001b[0;32m   1625\u001b[0m         \u001b[0mb\u001b[0m \u001b[1;33m=\u001b[0m \u001b[0mself\u001b[0m\u001b[1;33m.\u001b[0m\u001b[0m_hold\u001b[0m\u001b[1;33m\u001b[0m\u001b[0m\n\u001b[0;32m   1626\u001b[0m         \u001b[0mself\u001b[0m\u001b[1;33m.\u001b[0m\u001b[0m_hold\u001b[0m \u001b[1;33m=\u001b[0m \u001b[1;32mTrue\u001b[0m  \u001b[1;31m# we've already processed the hold\u001b[0m\u001b[1;33m\u001b[0m\u001b[0m\n\u001b[1;32m-> 1627\u001b[1;33m         \u001b[0ml\u001b[0m \u001b[1;33m=\u001b[0m \u001b[0mself\u001b[0m\u001b[1;33m.\u001b[0m\u001b[0mplot\u001b[0m\u001b[1;33m(\u001b[0m\u001b[1;33m*\u001b[0m\u001b[0margs\u001b[0m\u001b[1;33m,\u001b[0m \u001b[1;33m**\u001b[0m\u001b[0mkwargs\u001b[0m\u001b[1;33m)\u001b[0m\u001b[1;33m\u001b[0m\u001b[0m\n\u001b[0m\u001b[0;32m   1628\u001b[0m         \u001b[0mself\u001b[0m\u001b[1;33m.\u001b[0m\u001b[0m_hold\u001b[0m \u001b[1;33m=\u001b[0m \u001b[0mb\u001b[0m  \u001b[1;31m# restore the hold\u001b[0m\u001b[1;33m\u001b[0m\u001b[0m\n\u001b[0;32m   1629\u001b[0m         \u001b[1;32mreturn\u001b[0m \u001b[0ml\u001b[0m\u001b[1;33m\u001b[0m\u001b[0m\n",
      "\u001b[1;32mD:\\ProgramData\\Anaconda3\\lib\\site-packages\\matplotlib\\__init__.py\u001b[0m in \u001b[0;36minner\u001b[1;34m(ax, *args, **kwargs)\u001b[0m\n\u001b[0;32m   1708\u001b[0m                     warnings.warn(msg % (label_namer, func.__name__),\n\u001b[0;32m   1709\u001b[0m                                   RuntimeWarning, stacklevel=2)\n\u001b[1;32m-> 1710\u001b[1;33m             \u001b[1;32mreturn\u001b[0m \u001b[0mfunc\u001b[0m\u001b[1;33m(\u001b[0m\u001b[0max\u001b[0m\u001b[1;33m,\u001b[0m \u001b[1;33m*\u001b[0m\u001b[0margs\u001b[0m\u001b[1;33m,\u001b[0m \u001b[1;33m**\u001b[0m\u001b[0mkwargs\u001b[0m\u001b[1;33m)\u001b[0m\u001b[1;33m\u001b[0m\u001b[0m\n\u001b[0m\u001b[0;32m   1711\u001b[0m         \u001b[0mpre_doc\u001b[0m \u001b[1;33m=\u001b[0m \u001b[0minner\u001b[0m\u001b[1;33m.\u001b[0m\u001b[0m__doc__\u001b[0m\u001b[1;33m\u001b[0m\u001b[0m\n\u001b[0;32m   1712\u001b[0m         \u001b[1;32mif\u001b[0m \u001b[0mpre_doc\u001b[0m \u001b[1;32mis\u001b[0m \u001b[1;32mNone\u001b[0m\u001b[1;33m:\u001b[0m\u001b[1;33m\u001b[0m\u001b[0m\n",
      "\u001b[1;32mD:\\ProgramData\\Anaconda3\\lib\\site-packages\\matplotlib\\axes\\_axes.py\u001b[0m in \u001b[0;36mplot\u001b[1;34m(self, *args, **kwargs)\u001b[0m\n\u001b[0;32m   1435\u001b[0m         \u001b[0mkwargs\u001b[0m \u001b[1;33m=\u001b[0m \u001b[0mcbook\u001b[0m\u001b[1;33m.\u001b[0m\u001b[0mnormalize_kwargs\u001b[0m\u001b[1;33m(\u001b[0m\u001b[0mkwargs\u001b[0m\u001b[1;33m,\u001b[0m \u001b[0m_alias_map\u001b[0m\u001b[1;33m)\u001b[0m\u001b[1;33m\u001b[0m\u001b[0m\n\u001b[0;32m   1436\u001b[0m \u001b[1;33m\u001b[0m\u001b[0m\n\u001b[1;32m-> 1437\u001b[1;33m         \u001b[1;32mfor\u001b[0m \u001b[0mline\u001b[0m \u001b[1;32min\u001b[0m \u001b[0mself\u001b[0m\u001b[1;33m.\u001b[0m\u001b[0m_get_lines\u001b[0m\u001b[1;33m(\u001b[0m\u001b[1;33m*\u001b[0m\u001b[0margs\u001b[0m\u001b[1;33m,\u001b[0m \u001b[1;33m**\u001b[0m\u001b[0mkwargs\u001b[0m\u001b[1;33m)\u001b[0m\u001b[1;33m:\u001b[0m\u001b[1;33m\u001b[0m\u001b[0m\n\u001b[0m\u001b[0;32m   1438\u001b[0m             \u001b[0mself\u001b[0m\u001b[1;33m.\u001b[0m\u001b[0madd_line\u001b[0m\u001b[1;33m(\u001b[0m\u001b[0mline\u001b[0m\u001b[1;33m)\u001b[0m\u001b[1;33m\u001b[0m\u001b[0m\n\u001b[0;32m   1439\u001b[0m             \u001b[0mlines\u001b[0m\u001b[1;33m.\u001b[0m\u001b[0mappend\u001b[0m\u001b[1;33m(\u001b[0m\u001b[0mline\u001b[0m\u001b[1;33m)\u001b[0m\u001b[1;33m\u001b[0m\u001b[0m\n",
      "\u001b[1;32mD:\\ProgramData\\Anaconda3\\lib\\site-packages\\matplotlib\\axes\\_base.py\u001b[0m in \u001b[0;36m_grab_next_args\u001b[1;34m(self, *args, **kwargs)\u001b[0m\n\u001b[0;32m    402\u001b[0m                 \u001b[0mthis\u001b[0m \u001b[1;33m+=\u001b[0m \u001b[0margs\u001b[0m\u001b[1;33m[\u001b[0m\u001b[1;36m0\u001b[0m\u001b[1;33m]\u001b[0m\u001b[1;33m,\u001b[0m\u001b[1;33m\u001b[0m\u001b[0m\n\u001b[0;32m    403\u001b[0m                 \u001b[0margs\u001b[0m \u001b[1;33m=\u001b[0m \u001b[0margs\u001b[0m\u001b[1;33m[\u001b[0m\u001b[1;36m1\u001b[0m\u001b[1;33m:\u001b[0m\u001b[1;33m]\u001b[0m\u001b[1;33m\u001b[0m\u001b[0m\n\u001b[1;32m--> 404\u001b[1;33m             \u001b[1;32mfor\u001b[0m \u001b[0mseg\u001b[0m \u001b[1;32min\u001b[0m \u001b[0mself\u001b[0m\u001b[1;33m.\u001b[0m\u001b[0m_plot_args\u001b[0m\u001b[1;33m(\u001b[0m\u001b[0mthis\u001b[0m\u001b[1;33m,\u001b[0m \u001b[0mkwargs\u001b[0m\u001b[1;33m)\u001b[0m\u001b[1;33m:\u001b[0m\u001b[1;33m\u001b[0m\u001b[0m\n\u001b[0m\u001b[0;32m    405\u001b[0m                 \u001b[1;32myield\u001b[0m \u001b[0mseg\u001b[0m\u001b[1;33m\u001b[0m\u001b[0m\n\u001b[0;32m    406\u001b[0m \u001b[1;33m\u001b[0m\u001b[0m\n",
      "\u001b[1;32mD:\\ProgramData\\Anaconda3\\lib\\site-packages\\matplotlib\\axes\\_base.py\u001b[0m in \u001b[0;36m_plot_args\u001b[1;34m(self, tup, kwargs)\u001b[0m\n\u001b[0;32m    382\u001b[0m             \u001b[0mx\u001b[0m\u001b[1;33m,\u001b[0m \u001b[0my\u001b[0m \u001b[1;33m=\u001b[0m \u001b[0mindex_of\u001b[0m\u001b[1;33m(\u001b[0m\u001b[0mtup\u001b[0m\u001b[1;33m[\u001b[0m\u001b[1;33m-\u001b[0m\u001b[1;36m1\u001b[0m\u001b[1;33m]\u001b[0m\u001b[1;33m)\u001b[0m\u001b[1;33m\u001b[0m\u001b[0m\n\u001b[0;32m    383\u001b[0m \u001b[1;33m\u001b[0m\u001b[0m\n\u001b[1;32m--> 384\u001b[1;33m         \u001b[0mx\u001b[0m\u001b[1;33m,\u001b[0m \u001b[0my\u001b[0m \u001b[1;33m=\u001b[0m \u001b[0mself\u001b[0m\u001b[1;33m.\u001b[0m\u001b[0m_xy_from_xy\u001b[0m\u001b[1;33m(\u001b[0m\u001b[0mx\u001b[0m\u001b[1;33m,\u001b[0m \u001b[0my\u001b[0m\u001b[1;33m)\u001b[0m\u001b[1;33m\u001b[0m\u001b[0m\n\u001b[0m\u001b[0;32m    385\u001b[0m \u001b[1;33m\u001b[0m\u001b[0m\n\u001b[0;32m    386\u001b[0m         \u001b[1;32mif\u001b[0m \u001b[0mself\u001b[0m\u001b[1;33m.\u001b[0m\u001b[0mcommand\u001b[0m \u001b[1;33m==\u001b[0m \u001b[1;34m'plot'\u001b[0m\u001b[1;33m:\u001b[0m\u001b[1;33m\u001b[0m\u001b[0m\n",
      "\u001b[1;32mD:\\ProgramData\\Anaconda3\\lib\\site-packages\\matplotlib\\axes\\_base.py\u001b[0m in \u001b[0;36m_xy_from_xy\u001b[1;34m(self, x, y)\u001b[0m\n\u001b[0;32m    241\u001b[0m         \u001b[1;32mif\u001b[0m \u001b[0mx\u001b[0m\u001b[1;33m.\u001b[0m\u001b[0mshape\u001b[0m\u001b[1;33m[\u001b[0m\u001b[1;36m0\u001b[0m\u001b[1;33m]\u001b[0m \u001b[1;33m!=\u001b[0m \u001b[0my\u001b[0m\u001b[1;33m.\u001b[0m\u001b[0mshape\u001b[0m\u001b[1;33m[\u001b[0m\u001b[1;36m0\u001b[0m\u001b[1;33m]\u001b[0m\u001b[1;33m:\u001b[0m\u001b[1;33m\u001b[0m\u001b[0m\n\u001b[0;32m    242\u001b[0m             raise ValueError(\"x and y must have same first dimension, but \"\n\u001b[1;32m--> 243\u001b[1;33m                              \"have shapes {} and {}\".format(x.shape, y.shape))\n\u001b[0m\u001b[0;32m    244\u001b[0m         \u001b[1;32mif\u001b[0m \u001b[0mx\u001b[0m\u001b[1;33m.\u001b[0m\u001b[0mndim\u001b[0m \u001b[1;33m>\u001b[0m \u001b[1;36m2\u001b[0m \u001b[1;32mor\u001b[0m \u001b[0my\u001b[0m\u001b[1;33m.\u001b[0m\u001b[0mndim\u001b[0m \u001b[1;33m>\u001b[0m \u001b[1;36m2\u001b[0m\u001b[1;33m:\u001b[0m\u001b[1;33m\u001b[0m\u001b[0m\n\u001b[0;32m    245\u001b[0m             raise ValueError(\"x and y can be no greater than 2-D, but have \"\n",
      "\u001b[1;31mValueError\u001b[0m: x and y must have same first dimension, but have shapes (100,) and (10,)"
     ]
    }
   ],
   "source": [
    "fit_and_plot(poly_features[:n_train,:],poly_features[n_train:,:],\n",
    "            labels[:n_train],labels[n_train:])"
   ]
  },
  {
   "cell_type": "code",
   "execution_count": null,
   "metadata": {
    "collapsed": true
   },
   "outputs": [],
   "source": []
  }
 ],
 "metadata": {
  "kernelspec": {
   "display_name": "Python 3",
   "language": "python",
   "name": "python3"
  },
  "language_info": {
   "codemirror_mode": {
    "name": "ipython",
    "version": 3
   },
   "file_extension": ".py",
   "mimetype": "text/x-python",
   "name": "python",
   "nbconvert_exporter": "python",
   "pygments_lexer": "ipython3",
   "version": "3.6.3"
  }
 },
 "nbformat": 4,
 "nbformat_minor": 2
}
