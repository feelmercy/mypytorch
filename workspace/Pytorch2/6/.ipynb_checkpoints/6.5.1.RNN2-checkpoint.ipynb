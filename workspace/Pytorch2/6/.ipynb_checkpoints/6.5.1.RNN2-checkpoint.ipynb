{
 "cells": [
  {
   "cell_type": "code",
   "execution_count": 1,
   "metadata": {
    "ExecuteTime": {
     "end_time": "2021-03-31T05:56:19.502649Z",
     "start_time": "2021-03-31T05:56:12.743263Z"
    },
    "collapsed": true
   },
   "outputs": [],
   "source": [
    "import time\n",
    "import math\n",
    "import numpy as np\n",
    "import torch\n",
    "from torch import nn,optim\n",
    "import torch.nn.functional as F\n",
    "import sys\n",
    "import zipfile"
   ]
  },
  {
   "cell_type": "code",
   "execution_count": 2,
   "metadata": {
    "ExecuteTime": {
     "end_time": "2021-03-31T05:56:22.336811Z",
     "start_time": "2021-03-31T05:56:20.376699Z"
    }
   },
   "outputs": [
    {
     "name": "stdout",
     "output_type": "stream",
     "text": [
      "loading customized package : d2l \n"
     ]
    }
   ],
   "source": [
    "sys.path.append(r'F:\\study\\ml\\python_packages')\n",
    "import d2l"
   ]
  },
  {
   "cell_type": "code",
   "execution_count": 3,
   "metadata": {
    "ExecuteTime": {
     "end_time": "2021-03-31T05:56:26.965076Z",
     "start_time": "2021-03-31T05:56:26.929074Z"
    },
    "collapsed": true
   },
   "outputs": [],
   "source": [
    "def load_data_jay_lyrics(): \n",
    "    with zipfile.ZipFile(r'F:\\study\\ml\\ebooks3\\6\\jaychou_lyrics.txt.zip') as zif:\n",
    "        with zif.open('jaychou_lyrics.txt') as f:\n",
    "            corpus_chars =f.read().decode('utf-8')\n",
    "    corpus_chars=corpus_chars.replace('\\n',' ').replace('\\r',' ')\n",
    "    corpus_chars=corpus_chars[0:10000]\n",
    "    \n",
    "    idx_to_char=list(set(corpus_chars))\n",
    "    char_to_idx=dict([(char,i) for i,char in enumerate(idx_to_char)])\n",
    "    vocab_size=len(char_to_idx)\n",
    "    corpus_indices=[char_to_idx[char] for char in corpus_chars]\n",
    "    \n",
    "    return corpus_indices,char_to_idx,idx_to_char,vocab_size"
   ]
  },
  {
   "cell_type": "code",
   "execution_count": 4,
   "metadata": {
    "ExecuteTime": {
     "end_time": "2021-03-31T05:56:27.738120Z",
     "start_time": "2021-03-31T05:56:27.632114Z"
    },
    "collapsed": true
   },
   "outputs": [],
   "source": [
    "corpus_indices,char_to_idx,idx_to_char,vocab_size=load_data_jay_lyrics()"
   ]
  },
  {
   "cell_type": "markdown",
   "metadata": {},
   "source": [
    "nn.RNN就和nn.linear 一样,固定输入和输出"
   ]
  },
  {
   "cell_type": "code",
   "execution_count": 5,
   "metadata": {
    "ExecuteTime": {
     "end_time": "2021-03-31T05:56:29.979249Z",
     "start_time": "2021-03-31T05:56:29.808239Z"
    },
    "collapsed": true
   },
   "outputs": [],
   "source": [
    "num_hiddens=256\n",
    "rnn_layer=nn.RNN(input_size=vocab_size,hidden_size=num_hiddens)"
   ]
  },
  {
   "cell_type": "markdown",
   "metadata": {
    "ExecuteTime": {
     "end_time": "2021-03-25T09:12:27.308475Z",
     "start_time": "2021-03-25T09:12:27.297475Z"
    }
   },
   "source": [
    "h_t = \\text{tanh}(w_{ih} x_t + b_{ih} + w_{hh} h_{(t-1)} + b_{hh})"
   ]
  },
  {
   "cell_type": "code",
   "execution_count": 6,
   "metadata": {
    "ExecuteTime": {
     "end_time": "2021-03-31T05:56:32.419388Z",
     "start_time": "2021-03-31T05:56:31.761351Z"
    }
   },
   "outputs": [
    {
     "name": "stdout",
     "output_type": "stream",
     "text": [
      "torch.Size([35, 2, 256]) 1 torch.Size([2, 256])\n",
      "X shape :  torch.Size([35, 2, 1027])\n",
      "Y shape :  torch.Size([35, 2, 256])\n",
      "state_n shape :  torch.Size([1, 2, 256])\n"
     ]
    }
   ],
   "source": [
    "num_steps=35\n",
    "batch_size=2\n",
    "state=None\n",
    "X=torch.rand(num_steps,batch_size,vocab_size)\n",
    "#Y和X同形状,state_new形状为:num_layers*num_directions,batch,hidden_size\n",
    "## 参考上面 Y的输出是num_hidden的大小\n",
    "Y,state_new=rnn_layer(X,state)  \n",
    "print(Y.shape,len(state_new),state_new[0].shape)\n",
    "print('X shape : ',X.shape)\n",
    "print('Y shape : ',Y.shape)\n",
    "print('state_n shape : ',state_new.shape)"
   ]
  },
  {
   "cell_type": "markdown",
   "metadata": {},
   "source": [
    "X(1027) nn.RNN->Y(256) dense(nn.linear)->output(1027)"
   ]
  },
  {
   "cell_type": "code",
   "execution_count": 7,
   "metadata": {
    "ExecuteTime": {
     "end_time": "2021-03-31T05:56:45.229121Z",
     "start_time": "2021-03-31T05:56:45.162117Z"
    },
    "collapsed": true
   },
   "outputs": [],
   "source": [
    "class RNNModel(nn.Module):\n",
    "    def __init__(self,rnn_layer,vocab_size):\n",
    "        super().__init__()\n",
    "        self.rnn=rnn_layer\n",
    "        self.hidden_size=rnn_layer.hidden_size * (2 if rnn_layer.bidirectional else 1)\n",
    "        self.vocab_size=vocab_size\n",
    "        self.dense=nn.Linear(self.hidden_size,vocab_size)\n",
    "        print('dense  : ',self.dense)\n",
    "        self.state=None\n",
    "    \n",
    "    def forward(self,inputs,state): #input:(batch,seq_len)\n",
    "        X=d2l.to_onehot(inputs,self.vocab_size)\n",
    "        print('X[0] shape : ',X[0].shape)\n",
    "        \n",
    "        ## torch.stack 把 list(tensor1,tensor2)变成一个大的tensor\n",
    "        ## 返回的Y 的特征为是 num_hidden\n",
    "        \n",
    "        Y,self.state=self.rnn(torch.stack(X),state)\n",
    "        print('Y shape : ',Y.shape)\n",
    "        print('state shape : ',self.state.shape)\n",
    "        \n",
    "        ## output 的特征纬度 是vocab_size\n",
    "        output=self.dense(Y.view(-1,Y.shape[-1]))\n",
    "        print('output shape : ',output.shape)\n",
    "        return output,self.state\n",
    "        "
   ]
  },
  {
   "cell_type": "code",
   "execution_count": 12,
   "metadata": {
    "ExecuteTime": {
     "end_time": "2021-03-31T06:00:44.237791Z",
     "start_time": "2021-03-31T06:00:44.186788Z"
    },
    "collapsed": true
   },
   "outputs": [],
   "source": [
    "def predict_rnn_pytorch(prefix,num_chars,model,vocab_size,idx_to_char,char_to_idx):\n",
    "    state=None\n",
    "    output=[char_to_idx[prefix[0]]]\n",
    "    ## 除了第一个字,剩下都要输出\n",
    "    for t in range(num_chars+len(prefix)-1):\n",
    "        X=torch.tensor([output[-1]]).view(1,1)\n",
    "        if state is not None:\n",
    "            if isinstance(state,tuple):\n",
    "                print('state shape2 : ',state.shape)\n",
    "                print('state[0] : ',state[0])\n",
    "                print('state[1] : ',state[1])\n",
    "                state=(state[0],state[1])\n",
    "            else:\n",
    "                state=state\n",
    "        (Y,state)=model(X,state)\n",
    "        if t<len(prefix)-1:\n",
    "            output.append(char_to_idx[prefix[t+1]])\n",
    "        else:\n",
    "            output.append(int(Y.argmax(dim=1).item()))\n",
    "    return ''.join([idx_to_char[i] for i in output])\n"
   ]
  },
  {
   "cell_type": "code",
   "execution_count": 13,
   "metadata": {
    "ExecuteTime": {
     "end_time": "2021-03-31T06:00:44.806824Z",
     "start_time": "2021-03-31T06:00:44.737820Z"
    }
   },
   "outputs": [
    {
     "name": "stdout",
     "output_type": "stream",
     "text": [
      "dense  :  Linear(in_features=256, out_features=1027, bias=True)\n",
      "X[0] shape :  torch.Size([1, 1027])\n",
      "Y shape :  torch.Size([1, 1, 256])\n",
      "state shape :  torch.Size([1, 1, 256])\n",
      "output shape :  torch.Size([1, 1027])\n",
      "X[0] shape :  torch.Size([1, 1027])\n",
      "Y shape :  torch.Size([1, 1, 256])\n",
      "state shape :  torch.Size([1, 1, 256])\n",
      "output shape :  torch.Size([1, 1027])\n",
      "X[0] shape :  torch.Size([1, 1027])\n",
      "Y shape :  torch.Size([1, 1, 256])\n",
      "state shape :  torch.Size([1, 1, 256])\n",
      "output shape :  torch.Size([1, 1027])\n",
      "X[0] shape :  torch.Size([1, 1027])\n",
      "Y shape :  torch.Size([1, 1, 256])\n",
      "state shape :  torch.Size([1, 1, 256])\n",
      "output shape :  torch.Size([1, 1027])\n",
      "X[0] shape :  torch.Size([1, 1027])\n",
      "Y shape :  torch.Size([1, 1, 256])\n",
      "state shape :  torch.Size([1, 1, 256])\n",
      "output shape :  torch.Size([1, 1027])\n",
      "X[0] shape :  torch.Size([1, 1027])\n",
      "Y shape :  torch.Size([1, 1, 256])\n",
      "state shape :  torch.Size([1, 1, 256])\n",
      "output shape :  torch.Size([1, 1027])\n",
      "X[0] shape :  torch.Size([1, 1027])\n",
      "Y shape :  torch.Size([1, 1, 256])\n",
      "state shape :  torch.Size([1, 1, 256])\n",
      "output shape :  torch.Size([1, 1027])\n",
      "X[0] shape :  torch.Size([1, 1027])\n",
      "Y shape :  torch.Size([1, 1, 256])\n",
      "state shape :  torch.Size([1, 1, 256])\n",
      "output shape :  torch.Size([1, 1027])\n",
      "X[0] shape :  torch.Size([1, 1027])\n",
      "Y shape :  torch.Size([1, 1, 256])\n",
      "state shape :  torch.Size([1, 1, 256])\n",
      "output shape :  torch.Size([1, 1027])\n",
      "X[0] shape :  torch.Size([1, 1027])\n",
      "Y shape :  torch.Size([1, 1, 256])\n",
      "state shape :  torch.Size([1, 1, 256])\n",
      "output shape :  torch.Size([1, 1027])\n",
      "X[0] shape :  torch.Size([1, 1027])\n",
      "Y shape :  torch.Size([1, 1, 256])\n",
      "state shape :  torch.Size([1, 1, 256])\n",
      "output shape :  torch.Size([1, 1027])\n"
     ]
    },
    {
     "data": {
      "text/plain": [
       "'分开胡想想胡胡想想胡胡想'"
      ]
     },
     "execution_count": 13,
     "metadata": {},
     "output_type": "execute_result"
    }
   ],
   "source": [
    "model=RNNModel(rnn_layer,vocab_size)\n",
    "predict_rnn_pytorch('分开',10,model,vocab_size,idx_to_char,char_to_idx)"
   ]
  },
  {
   "cell_type": "code",
   "execution_count": 23,
   "metadata": {
    "ExecuteTime": {
     "end_time": "2021-03-30T07:08:49.527876Z",
     "start_time": "2021-03-30T07:08:49.511875Z"
    }
   },
   "outputs": [
    {
     "data": {
      "text/plain": [
       "tensor([[384]])"
      ]
     },
     "execution_count": 23,
     "metadata": {},
     "output_type": "execute_result"
    }
   ],
   "source": [
    "prefix='分开'\n",
    "output=[char_to_idx[prefix[0]]]\n",
    "torch.tensor(output[-1]).view(1,1)"
   ]
  },
  {
   "cell_type": "code",
   "execution_count": 38,
   "metadata": {
    "ExecuteTime": {
     "end_time": "2021-03-30T07:29:13.113861Z",
     "start_time": "2021-03-30T07:29:13.102860Z"
    }
   },
   "outputs": [
    {
     "data": {
      "text/plain": [
       "[tensor([[0., 0., 0.,  ..., 0., 0., 0.]])]"
      ]
     },
     "execution_count": 38,
     "metadata": {},
     "output_type": "execute_result"
    }
   ],
   "source": [
    "d2l.to_onehot(torch.tensor(output[-1]).view(1,1),1027)"
   ]
  },
  {
   "cell_type": "code",
   "execution_count": 39,
   "metadata": {
    "ExecuteTime": {
     "end_time": "2021-03-30T07:29:14.981968Z",
     "start_time": "2021-03-30T07:29:14.969967Z"
    }
   },
   "outputs": [
    {
     "data": {
      "text/plain": [
       "torch.Size([1, 1, 1027])"
      ]
     },
     "execution_count": 39,
     "metadata": {},
     "output_type": "execute_result"
    }
   ],
   "source": [
    "torch.stack(d2l.to_onehot(torch.tensor(output[-1]).view(1,1),1027)).shape"
   ]
  },
  {
   "cell_type": "code",
   "execution_count": 10,
   "metadata": {
    "ExecuteTime": {
     "end_time": "2021-03-29T09:43:31.890235Z",
     "start_time": "2021-03-29T09:43:31.881235Z"
    }
   },
   "outputs": [
    {
     "data": {
      "text/plain": [
       "torch.Size([35, 2, 1027])"
      ]
     },
     "execution_count": 10,
     "metadata": {},
     "output_type": "execute_result"
    }
   ],
   "source": [
    "X.shape"
   ]
  },
  {
   "cell_type": "code",
   "execution_count": 12,
   "metadata": {
    "ExecuteTime": {
     "end_time": "2021-03-29T09:45:02.604424Z",
     "start_time": "2021-03-29T09:45:02.581422Z"
    },
    "collapsed": true
   },
   "outputs": [],
   "source": [
    "def data_iter_consecutive(corpus_indices, batch_size, num_steps):\n",
    "    corpus_indices = torch.Tensor(corpus_indices)\n",
    "    data_len = len(corpus_indices)\n",
    "    batch_len = data_len // batch_size\n",
    "    indices = corpus_indices[0:batch_size * batch_len].view(batch_size, batch_len)\n",
    "    epoch_size = (batch_len - 1) // num_steps\n",
    "    for i in range(epoch_size):\n",
    "        i = i * num_steps\n",
    "        X = indices[:, i:i + num_steps]\n",
    "        Y = indices[:, i + 1:i + num_steps + 1]\n",
    "        yield X, Y"
   ]
  },
  {
   "cell_type": "code",
   "execution_count": 13,
   "metadata": {
    "ExecuteTime": {
     "end_time": "2021-03-29T09:47:18.472195Z",
     "start_time": "2021-03-29T09:47:17.468137Z"
    }
   },
   "outputs": [
    {
     "name": "stdout",
     "output_type": "stream",
     "text": [
      "X shape :  torch.Size([2, 35])\n",
      "output shape:  torch.Size([70, 1027])\n",
      "state shape:  torch.Size([1, 2, 256])\n",
      "X shape :  torch.Size([2, 35])\n",
      "output shape:  torch.Size([70, 1027])\n",
      "state shape:  torch.Size([1, 2, 256])\n",
      "X shape :  torch.Size([2, 35])\n",
      "output shape:  torch.Size([70, 1027])\n",
      "state shape:  torch.Size([1, 2, 256])\n",
      "X shape :  torch.Size([2, 35])\n",
      "output shape:  torch.Size([70, 1027])\n",
      "state shape:  torch.Size([1, 2, 256])\n",
      "X shape :  torch.Size([2, 35])\n",
      "output shape:  torch.Size([70, 1027])\n",
      "state shape:  torch.Size([1, 2, 256])\n",
      "X shape :  torch.Size([2, 35])\n",
      "output shape:  torch.Size([70, 1027])\n",
      "state shape:  torch.Size([1, 2, 256])\n",
      "X shape :  torch.Size([2, 35])\n",
      "output shape:  torch.Size([70, 1027])\n",
      "state shape:  torch.Size([1, 2, 256])\n",
      "X shape :  torch.Size([2, 35])\n",
      "output shape:  torch.Size([70, 1027])\n",
      "state shape:  torch.Size([1, 2, 256])\n",
      "X shape :  torch.Size([2, 35])\n",
      "output shape:  torch.Size([70, 1027])\n",
      "state shape:  torch.Size([1, 2, 256])\n",
      "X shape :  torch.Size([2, 35])\n",
      "output shape:  torch.Size([70, 1027])\n",
      "state shape:  torch.Size([1, 2, 256])\n",
      "X shape :  torch.Size([2, 35])\n",
      "output shape:  torch.Size([70, 1027])\n",
      "state shape:  torch.Size([1, 2, 256])\n",
      "X shape :  torch.Size([2, 35])\n",
      "output shape:  torch.Size([70, 1027])\n",
      "state shape:  torch.Size([1, 2, 256])\n",
      "X shape :  torch.Size([2, 35])\n",
      "output shape:  torch.Size([70, 1027])\n",
      "state shape:  torch.Size([1, 2, 256])\n",
      "X shape :  torch.Size([2, 35])\n",
      "output shape:  torch.Size([70, 1027])\n",
      "state shape:  torch.Size([1, 2, 256])\n",
      "X shape :  torch.Size([2, 35])\n",
      "output shape:  torch.Size([70, 1027])\n",
      "state shape:  torch.Size([1, 2, 256])\n",
      "X shape :  torch.Size([2, 35])\n",
      "output shape:  torch.Size([70, 1027])\n",
      "state shape:  torch.Size([1, 2, 256])\n",
      "X shape :  torch.Size([2, 35])\n",
      "output shape:  torch.Size([70, 1027])\n",
      "state shape:  torch.Size([1, 2, 256])\n",
      "X shape :  torch.Size([2, 35])\n",
      "output shape:  torch.Size([70, 1027])\n",
      "state shape:  torch.Size([1, 2, 256])\n",
      "X shape :  torch.Size([2, 35])\n",
      "output shape:  torch.Size([70, 1027])\n",
      "state shape:  torch.Size([1, 2, 256])\n",
      "X shape :  torch.Size([2, 35])\n",
      "output shape:  torch.Size([70, 1027])\n",
      "state shape:  torch.Size([1, 2, 256])\n",
      "X shape :  torch.Size([2, 35])\n",
      "output shape:  torch.Size([70, 1027])\n",
      "state shape:  torch.Size([1, 2, 256])\n",
      "X shape :  torch.Size([2, 35])\n",
      "output shape:  torch.Size([70, 1027])\n",
      "state shape:  torch.Size([1, 2, 256])\n",
      "X shape :  torch.Size([2, 35])\n",
      "output shape:  torch.Size([70, 1027])\n",
      "state shape:  torch.Size([1, 2, 256])\n",
      "X shape :  torch.Size([2, 35])\n",
      "output shape:  torch.Size([70, 1027])\n",
      "state shape:  torch.Size([1, 2, 256])\n",
      "X shape :  torch.Size([2, 35])\n",
      "output shape:  torch.Size([70, 1027])\n",
      "state shape:  torch.Size([1, 2, 256])\n",
      "X shape :  torch.Size([2, 35])\n",
      "output shape:  torch.Size([70, 1027])\n",
      "state shape:  torch.Size([1, 2, 256])\n",
      "X shape :  torch.Size([2, 35])\n",
      "output shape:  torch.Size([70, 1027])\n",
      "state shape:  torch.Size([1, 2, 256])\n",
      "X shape :  torch.Size([2, 35])\n",
      "output shape:  torch.Size([70, 1027])\n",
      "state shape:  torch.Size([1, 2, 256])\n",
      "X shape :  torch.Size([2, 35])\n",
      "output shape:  torch.Size([70, 1027])\n",
      "state shape:  torch.Size([1, 2, 256])\n",
      "X shape :  torch.Size([2, 35])\n",
      "output shape:  torch.Size([70, 1027])\n",
      "state shape:  torch.Size([1, 2, 256])\n",
      "X shape :  torch.Size([2, 35])\n",
      "output shape:  torch.Size([70, 1027])\n",
      "state shape:  torch.Size([1, 2, 256])\n",
      "X shape :  torch.Size([2, 35])\n",
      "output shape:  torch.Size([70, 1027])\n",
      "state shape:  torch.Size([1, 2, 256])\n",
      "X shape :  torch.Size([2, 35])\n",
      "output shape:  torch.Size([70, 1027])\n",
      "state shape:  torch.Size([1, 2, 256])\n",
      "X shape :  torch.Size([2, 35])\n",
      "output shape:  torch.Size([70, 1027])\n",
      "state shape:  torch.Size([1, 2, 256])\n",
      "X shape :  torch.Size([2, 35])\n",
      "output shape:  torch.Size([70, 1027])\n",
      "state shape:  torch.Size([1, 2, 256])\n",
      "X shape :  torch.Size([2, 35])\n",
      "output shape:  torch.Size([70, 1027])\n",
      "state shape:  torch.Size([1, 2, 256])\n",
      "X shape :  torch.Size([2, 35])\n",
      "output shape:  torch.Size([70, 1027])\n",
      "state shape:  torch.Size([1, 2, 256])\n",
      "X shape :  torch.Size([2, 35])\n",
      "output shape:  torch.Size([70, 1027])\n",
      "state shape:  torch.Size([1, 2, 256])\n",
      "X shape :  torch.Size([2, 35])\n",
      "output shape:  torch.Size([70, 1027])\n",
      "state shape:  torch.Size([1, 2, 256])\n",
      "X shape :  torch.Size([2, 35])\n",
      "output shape:  torch.Size([70, 1027])\n",
      "state shape:  torch.Size([1, 2, 256])\n",
      "X shape :  torch.Size([2, 35])\n",
      "output shape:  torch.Size([70, 1027])\n",
      "state shape:  torch.Size([1, 2, 256])\n",
      "X shape :  torch.Size([2, 35])\n",
      "output shape:  torch.Size([70, 1027])\n",
      "state shape:  torch.Size([1, 2, 256])\n",
      "X shape :  torch.Size([2, 35])\n",
      "output shape:  torch.Size([70, 1027])\n",
      "state shape:  torch.Size([1, 2, 256])\n",
      "X shape :  torch.Size([2, 35])\n",
      "output shape:  torch.Size([70, 1027])\n",
      "state shape:  torch.Size([1, 2, 256])\n",
      "X shape :  torch.Size([2, 35])\n",
      "output shape:  torch.Size([70, 1027])\n",
      "state shape:  torch.Size([1, 2, 256])\n",
      "X shape :  torch.Size([2, 35])\n",
      "output shape:  torch.Size([70, 1027])\n",
      "state shape:  torch.Size([1, 2, 256])\n",
      "X shape :  torch.Size([2, 35])\n",
      "output shape:  torch.Size([70, 1027])\n",
      "state shape:  torch.Size([1, 2, 256])\n",
      "X shape :  torch.Size([2, 35])\n",
      "output shape:  torch.Size([70, 1027])\n",
      "state shape:  torch.Size([1, 2, 256])\n",
      "X shape :  torch.Size([2, 35])\n",
      "output shape:  torch.Size([70, 1027])\n",
      "state shape:  torch.Size([1, 2, 256])\n",
      "X shape :  torch.Size([2, 35])\n",
      "output shape:  torch.Size([70, 1027])\n",
      "state shape:  torch.Size([1, 2, 256])\n",
      "X shape :  torch.Size([2, 35])\n",
      "output shape:  torch.Size([70, 1027])\n",
      "state shape:  torch.Size([1, 2, 256])\n",
      "X shape :  torch.Size([2, 35])\n",
      "output shape:  torch.Size([70, 1027])\n",
      "state shape:  torch.Size([1, 2, 256])\n",
      "X shape :  torch.Size([2, 35])\n",
      "output shape:  torch.Size([70, 1027])\n",
      "state shape:  torch.Size([1, 2, 256])\n",
      "X shape :  torch.Size([2, 35])\n",
      "output shape:  torch.Size([70, 1027])\n",
      "state shape:  torch.Size([1, 2, 256])\n",
      "X shape :  torch.Size([2, 35])\n",
      "output shape:  torch.Size([70, 1027])\n",
      "state shape:  torch.Size([1, 2, 256])\n",
      "X shape :  torch.Size([2, 35])\n",
      "output shape:  torch.Size([70, 1027])\n",
      "state shape:  torch.Size([1, 2, 256])\n",
      "X shape :  torch.Size([2, 35])\n",
      "output shape:  torch.Size([70, 1027])\n",
      "state shape:  torch.Size([1, 2, 256])\n",
      "X shape :  torch.Size([2, 35])\n",
      "output shape:  torch.Size([70, 1027])\n",
      "state shape:  torch.Size([1, 2, 256])\n",
      "X shape :  torch.Size([2, 35])\n",
      "output shape:  torch.Size([70, 1027])\n",
      "state shape:  torch.Size([1, 2, 256])\n",
      "X shape :  torch.Size([2, 35])\n",
      "output shape:  torch.Size([70, 1027])\n",
      "state shape:  torch.Size([1, 2, 256])\n",
      "X shape :  torch.Size([2, 35])\n",
      "output shape:  torch.Size([70, 1027])\n",
      "state shape:  torch.Size([1, 2, 256])\n",
      "X shape :  torch.Size([2, 35])\n",
      "output shape:  torch.Size([70, 1027])\n",
      "state shape:  torch.Size([1, 2, 256])\n",
      "X shape :  torch.Size([2, 35])\n",
      "output shape:  torch.Size([70, 1027])\n",
      "state shape:  torch.Size([1, 2, 256])\n",
      "X shape :  torch.Size([2, 35])\n",
      "output shape:  torch.Size([70, 1027])\n",
      "state shape:  torch.Size([1, 2, 256])\n",
      "X shape :  torch.Size([2, 35])\n",
      "output shape:  torch.Size([70, 1027])\n",
      "state shape:  torch.Size([1, 2, 256])\n",
      "X shape :  torch.Size([2, 35])\n",
      "output shape:  torch.Size([70, 1027])\n",
      "state shape:  torch.Size([1, 2, 256])\n",
      "X shape :  torch.Size([2, 35])\n",
      "output shape:  torch.Size([70, 1027])\n",
      "state shape:  torch.Size([1, 2, 256])\n",
      "X shape :  torch.Size([2, 35])\n",
      "output shape:  torch.Size([70, 1027])\n",
      "state shape:  torch.Size([1, 2, 256])\n",
      "X shape :  torch.Size([2, 35])\n",
      "output shape:  torch.Size([70, 1027])\n",
      "state shape:  torch.Size([1, 2, 256])\n",
      "X shape :  torch.Size([2, 35])\n",
      "output shape:  torch.Size([70, 1027])\n",
      "state shape:  torch.Size([1, 2, 256])\n",
      "X shape :  torch.Size([2, 35])\n",
      "output shape:  torch.Size([70, 1027])\n",
      "state shape:  torch.Size([1, 2, 256])\n",
      "X shape :  torch.Size([2, 35])\n",
      "output shape:  torch.Size([70, 1027])\n",
      "state shape:  torch.Size([1, 2, 256])\n",
      "X shape :  torch.Size([2, 35])\n",
      "output shape:  torch.Size([70, 1027])\n",
      "state shape:  torch.Size([1, 2, 256])\n",
      "X shape :  torch.Size([2, 35])\n",
      "output shape:  torch.Size([70, 1027])\n",
      "state shape:  torch.Size([1, 2, 256])\n",
      "X shape :  torch.Size([2, 35])\n",
      "output shape:  torch.Size([70, 1027])\n",
      "state shape:  torch.Size([1, 2, 256])\n",
      "X shape :  torch.Size([2, 35])\n",
      "output shape:  torch.Size([70, 1027])\n",
      "state shape:  torch.Size([1, 2, 256])\n",
      "X shape :  torch.Size([2, 35])\n",
      "output shape:  torch.Size([70, 1027])\n",
      "state shape:  torch.Size([1, 2, 256])\n",
      "X shape :  torch.Size([2, 35])\n",
      "output shape:  torch.Size([70, 1027])\n"
     ]
    },
    {
     "name": "stdout",
     "output_type": "stream",
     "text": [
      "state shape:  torch.Size([1, 2, 256])\n",
      "X shape :  torch.Size([2, 35])\n",
      "output shape:  torch.Size([70, 1027])\n",
      "state shape:  torch.Size([1, 2, 256])\n",
      "X shape :  torch.Size([2, 35])\n",
      "output shape:  torch.Size([70, 1027])\n",
      "state shape:  torch.Size([1, 2, 256])\n",
      "X shape :  torch.Size([2, 35])\n",
      "output shape:  torch.Size([70, 1027])\n",
      "state shape:  torch.Size([1, 2, 256])\n",
      "X shape :  torch.Size([2, 35])\n",
      "output shape:  torch.Size([70, 1027])\n",
      "state shape:  torch.Size([1, 2, 256])\n",
      "X shape :  torch.Size([2, 35])\n",
      "output shape:  torch.Size([70, 1027])\n",
      "state shape:  torch.Size([1, 2, 256])\n",
      "X shape :  torch.Size([2, 35])\n",
      "output shape:  torch.Size([70, 1027])\n",
      "state shape:  torch.Size([1, 2, 256])\n",
      "X shape :  torch.Size([2, 35])\n",
      "output shape:  torch.Size([70, 1027])\n",
      "state shape:  torch.Size([1, 2, 256])\n",
      "X shape :  torch.Size([2, 35])\n",
      "output shape:  torch.Size([70, 1027])\n",
      "state shape:  torch.Size([1, 2, 256])\n",
      "X shape :  torch.Size([2, 35])\n",
      "output shape:  torch.Size([70, 1027])\n",
      "state shape:  torch.Size([1, 2, 256])\n",
      "X shape :  torch.Size([2, 35])\n",
      "output shape:  torch.Size([70, 1027])\n",
      "state shape:  torch.Size([1, 2, 256])\n",
      "X shape :  torch.Size([2, 35])\n",
      "output shape:  torch.Size([70, 1027])\n",
      "state shape:  torch.Size([1, 2, 256])\n",
      "X shape :  torch.Size([2, 35])\n",
      "output shape:  torch.Size([70, 1027])\n",
      "state shape:  torch.Size([1, 2, 256])\n",
      "X shape :  torch.Size([2, 35])\n",
      "output shape:  torch.Size([70, 1027])\n",
      "state shape:  torch.Size([1, 2, 256])\n",
      "X shape :  torch.Size([2, 35])\n",
      "output shape:  torch.Size([70, 1027])\n",
      "state shape:  torch.Size([1, 2, 256])\n",
      "X shape :  torch.Size([2, 35])\n",
      "output shape:  torch.Size([70, 1027])\n",
      "state shape:  torch.Size([1, 2, 256])\n",
      "X shape :  torch.Size([2, 35])\n",
      "output shape:  torch.Size([70, 1027])\n",
      "state shape:  torch.Size([1, 2, 256])\n",
      "X shape :  torch.Size([2, 35])\n",
      "output shape:  torch.Size([70, 1027])\n",
      "state shape:  torch.Size([1, 2, 256])\n",
      "X shape :  torch.Size([2, 35])\n",
      "output shape:  torch.Size([70, 1027])\n",
      "state shape:  torch.Size([1, 2, 256])\n",
      "X shape :  torch.Size([2, 35])\n",
      "output shape:  torch.Size([70, 1027])\n",
      "state shape:  torch.Size([1, 2, 256])\n",
      "X shape :  torch.Size([2, 35])\n",
      "output shape:  torch.Size([70, 1027])\n",
      "state shape:  torch.Size([1, 2, 256])\n",
      "X shape :  torch.Size([2, 35])\n",
      "output shape:  torch.Size([70, 1027])\n",
      "state shape:  torch.Size([1, 2, 256])\n",
      "X shape :  torch.Size([2, 35])\n",
      "output shape:  torch.Size([70, 1027])\n",
      "state shape:  torch.Size([1, 2, 256])\n",
      "X shape :  torch.Size([2, 35])\n",
      "output shape:  torch.Size([70, 1027])\n",
      "state shape:  torch.Size([1, 2, 256])\n",
      "X shape :  torch.Size([2, 35])\n",
      "output shape:  torch.Size([70, 1027])\n",
      "state shape:  torch.Size([1, 2, 256])\n",
      "X shape :  torch.Size([2, 35])\n",
      "output shape:  torch.Size([70, 1027])\n",
      "state shape:  torch.Size([1, 2, 256])\n",
      "X shape :  torch.Size([2, 35])\n",
      "output shape:  torch.Size([70, 1027])\n",
      "state shape:  torch.Size([1, 2, 256])\n",
      "X shape :  torch.Size([2, 35])\n",
      "output shape:  torch.Size([70, 1027])\n",
      "state shape:  torch.Size([1, 2, 256])\n",
      "X shape :  torch.Size([2, 35])\n",
      "output shape:  torch.Size([70, 1027])\n",
      "state shape:  torch.Size([1, 2, 256])\n",
      "X shape :  torch.Size([2, 35])\n",
      "output shape:  torch.Size([70, 1027])\n",
      "state shape:  torch.Size([1, 2, 256])\n",
      "X shape :  torch.Size([2, 35])\n",
      "output shape:  torch.Size([70, 1027])\n",
      "state shape:  torch.Size([1, 2, 256])\n",
      "X shape :  torch.Size([2, 35])\n",
      "output shape:  torch.Size([70, 1027])\n",
      "state shape:  torch.Size([1, 2, 256])\n",
      "X shape :  torch.Size([2, 35])\n",
      "output shape:  torch.Size([70, 1027])\n",
      "state shape:  torch.Size([1, 2, 256])\n",
      "X shape :  torch.Size([2, 35])\n",
      "output shape:  torch.Size([70, 1027])\n",
      "state shape:  torch.Size([1, 2, 256])\n",
      "X shape :  torch.Size([2, 35])\n",
      "output shape:  torch.Size([70, 1027])\n",
      "state shape:  torch.Size([1, 2, 256])\n",
      "X shape :  torch.Size([2, 35])\n",
      "output shape:  torch.Size([70, 1027])\n",
      "state shape:  torch.Size([1, 2, 256])\n",
      "X shape :  torch.Size([2, 35])\n",
      "output shape:  torch.Size([70, 1027])\n",
      "state shape:  torch.Size([1, 2, 256])\n",
      "X shape :  torch.Size([2, 35])\n",
      "output shape:  torch.Size([70, 1027])\n",
      "state shape:  torch.Size([1, 2, 256])\n",
      "X shape :  torch.Size([2, 35])\n",
      "output shape:  torch.Size([70, 1027])\n",
      "state shape:  torch.Size([1, 2, 256])\n",
      "X shape :  torch.Size([2, 35])\n",
      "output shape:  torch.Size([70, 1027])\n",
      "state shape:  torch.Size([1, 2, 256])\n",
      "X shape :  torch.Size([2, 35])\n",
      "output shape:  torch.Size([70, 1027])\n",
      "state shape:  torch.Size([1, 2, 256])\n",
      "X shape :  torch.Size([2, 35])\n",
      "output shape:  torch.Size([70, 1027])\n",
      "state shape:  torch.Size([1, 2, 256])\n",
      "X shape :  torch.Size([2, 35])\n",
      "output shape:  torch.Size([70, 1027])\n",
      "state shape:  torch.Size([1, 2, 256])\n",
      "X shape :  torch.Size([2, 35])\n",
      "output shape:  torch.Size([70, 1027])\n",
      "state shape:  torch.Size([1, 2, 256])\n",
      "X shape :  torch.Size([2, 35])\n",
      "output shape:  torch.Size([70, 1027])\n",
      "state shape:  torch.Size([1, 2, 256])\n",
      "X shape :  torch.Size([2, 35])\n",
      "output shape:  torch.Size([70, 1027])\n",
      "state shape:  torch.Size([1, 2, 256])\n",
      "X shape :  torch.Size([2, 35])\n",
      "output shape:  torch.Size([70, 1027])\n",
      "state shape:  torch.Size([1, 2, 256])\n",
      "X shape :  torch.Size([2, 35])\n",
      "output shape:  torch.Size([70, 1027])\n",
      "state shape:  torch.Size([1, 2, 256])\n",
      "X shape :  torch.Size([2, 35])\n",
      "output shape:  torch.Size([70, 1027])\n",
      "state shape:  torch.Size([1, 2, 256])\n",
      "X shape :  torch.Size([2, 35])\n",
      "output shape:  torch.Size([70, 1027])\n",
      "state shape:  torch.Size([1, 2, 256])\n",
      "X shape :  torch.Size([2, 35])\n",
      "output shape:  torch.Size([70, 1027])\n",
      "state shape:  torch.Size([1, 2, 256])\n",
      "X shape :  torch.Size([2, 35])\n",
      "output shape:  torch.Size([70, 1027])\n",
      "state shape:  torch.Size([1, 2, 256])\n",
      "X shape :  torch.Size([2, 35])\n",
      "output shape:  torch.Size([70, 1027])\n",
      "state shape:  torch.Size([1, 2, 256])\n",
      "X shape :  torch.Size([2, 35])\n",
      "output shape:  torch.Size([70, 1027])\n",
      "state shape:  torch.Size([1, 2, 256])\n",
      "X shape :  torch.Size([2, 35])\n",
      "output shape:  torch.Size([70, 1027])\n",
      "state shape:  torch.Size([1, 2, 256])\n",
      "X shape :  torch.Size([2, 35])\n",
      "output shape:  torch.Size([70, 1027])\n",
      "state shape:  torch.Size([1, 2, 256])\n",
      "X shape :  torch.Size([2, 35])\n",
      "output shape:  torch.Size([70, 1027])\n",
      "state shape:  torch.Size([1, 2, 256])\n",
      "X shape :  torch.Size([2, 35])\n",
      "output shape:  torch.Size([70, 1027])\n",
      "state shape:  torch.Size([1, 2, 256])\n",
      "X shape :  torch.Size([2, 35])\n",
      "output shape:  torch.Size([70, 1027])\n",
      "state shape:  torch.Size([1, 2, 256])\n",
      "X shape :  torch.Size([2, 35])\n",
      "output shape:  torch.Size([70, 1027])\n",
      "state shape:  torch.Size([1, 2, 256])\n",
      "X shape :  torch.Size([2, 35])\n",
      "output shape:  torch.Size([70, 1027])\n",
      "state shape:  torch.Size([1, 2, 256])\n",
      "X shape :  torch.Size([2, 35])\n",
      "output shape:  torch.Size([70, 1027])\n",
      "state shape:  torch.Size([1, 2, 256])\n",
      "X shape :  torch.Size([2, 35])\n",
      "output shape:  torch.Size([70, 1027])\n",
      "state shape:  torch.Size([1, 2, 256])\n",
      "X shape :  torch.Size([2, 35])\n",
      "output shape:  torch.Size([70, 1027])\n",
      "state shape:  torch.Size([1, 2, 256])\n",
      "X shape :  torch.Size([2, 35])\n",
      "output shape:  torch.Size([70, 1027])\n",
      "state shape:  torch.Size([1, 2, 256])\n"
     ]
    }
   ],
   "source": [
    "data_iter = data_iter_consecutive(corpus_indices, batch_size,num_steps)\n",
    "for X, Y in data_iter:\n",
    "    print('X shape : ',X.shape)\n",
    "    output, state= model(X, state)\n",
    "    print('output shape: ',output.shape)\n",
    "    print('state shape: ',state.shape)"
   ]
  },
  {
   "cell_type": "code",
   "execution_count": null,
   "metadata": {
    "ExecuteTime": {
     "end_time": "2021-03-26T09:03:57.547379Z",
     "start_time": "2021-03-26T09:03:57.479375Z"
    },
    "collapsed": true
   },
   "outputs": [],
   "source": [
    "def train_and_predict_rnn_pytorch(model, num_hiddens, vocab_size,\n",
    "                                  corpus_indices, idx_to_char, char_to_idx,\n",
    "                                  num_epochs, num_steps, lr, clipping_theta,\n",
    "                                  batch_size, pred_period, pred_len, prefixes):\n",
    "    loss = nn.CrossEntropyLoss()\n",
    "    optimizer = torch.optim.Adam(model.parameters(), lr=lr)\n",
    "    state = None\n",
    "    for epoch in range(num_epochs):\n",
    "        l_sum, n, start = 0.0, 0, time.time()\n",
    "        data_iter = data_iter_consecutive(corpus_indices, batch_size,\n",
    "                                          num_steps)\n",
    "        for X, Y in data_iter:\n",
    "            if state is not None:\n",
    "                if isinstance(state, tuple):\n",
    "                    state = (state[0].detach(), state[1].detach())\n",
    "                else:\n",
    "                    state = state.detach()\n",
    "            (output, state) = model(X, state)\n",
    "            y = torch.transpose(Y, 0, 1).contiguous().view(-1)\n",
    "            l = loss(output, y.long())\n",
    "\n",
    "            optimizer.zero_grad()\n",
    "            l.backward()\n",
    "            d2l.grad_clipping(model.parameters(), clipping_theta)\n",
    "            optimizer.step()\n",
    "            l_sum += l.item() * y.shape[0]\n",
    "            n += y.shape[0]\n",
    "\n",
    "            try:\n",
    "                perplexity = math.exp(l_sum / n)\n",
    "            except OverflowError:\n",
    "                perplexity = float('inf')\n",
    "            if (epoch + 1) % pred_period == 0:\n",
    "                print('epoch %d ,perplexity %f,time %.2f sec' %\n",
    "                      (epoch + 1, perplexity, time.time() - start))\n",
    "                for prefix in prefixes:\n",
    "                    print(\n",
    "                        ' -',\n",
    "                        predict_rnn_pytorch(prefix, pred_len, model,\n",
    "                                            vocab_size, idx_to_char,\n",
    "                                            char_to_idx))"
   ]
  },
  {
   "cell_type": "code",
   "execution_count": null,
   "metadata": {
    "ExecuteTime": {
     "end_time": "2021-03-26T09:07:17.022789Z",
     "start_time": "2021-03-26T09:03:58.650442Z"
    },
    "collapsed": true
   },
   "outputs": [],
   "source": [
    "num_epochs,batch_size,lr,clipping_theta=250,32,1e-3,1e-2\n",
    "pred_period,pred_len,prefixes=50,50,['分开','不分开']\n",
    "train_and_predict_rnn_pytorch(model,num_hiddens,vocab_size,corpus_indices,\n",
    "                             idx_to_char,char_to_idx,num_epochs,num_steps,\n",
    "                              lr,clipping_theta,batch_size,pred_period,\n",
    "                              pred_len,prefixes)"
   ]
  },
  {
   "cell_type": "code",
   "execution_count": null,
   "metadata": {
    "collapsed": true
   },
   "outputs": [],
   "source": [
    "(2,3,4)\n",
    "3,2,4"
   ]
  }
 ],
 "metadata": {
  "kernelspec": {
   "display_name": "Python 3",
   "language": "python",
   "name": "python3"
  },
  "language_info": {
   "codemirror_mode": {
    "name": "ipython",
    "version": 3
   },
   "file_extension": ".py",
   "mimetype": "text/x-python",
   "name": "python",
   "nbconvert_exporter": "python",
   "pygments_lexer": "ipython3",
   "version": "3.6.3"
  }
 },
 "nbformat": 4,
 "nbformat_minor": 2
}
