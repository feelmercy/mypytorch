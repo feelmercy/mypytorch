{
 "cells": [
  {
   "cell_type": "code",
   "execution_count": 1,
   "metadata": {
    "ExecuteTime": {
     "end_time": "2021-03-12T02:52:34.770968Z",
     "start_time": "2021-03-12T02:52:26.394290Z"
    },
    "collapsed": true
   },
   "outputs": [],
   "source": [
    "import torch"
   ]
  },
  {
   "cell_type": "code",
   "execution_count": 2,
   "metadata": {
    "ExecuteTime": {
     "end_time": "2021-03-12T02:53:52.678628Z",
     "start_time": "2021-03-12T02:53:52.427415Z"
    },
    "collapsed": true
   },
   "outputs": [],
   "source": [
    "X,W_xh=torch.randn(3,1),torch.randn(1,4)\n",
    "H,W_hh=torch.randn(3,4),torch.randn(4,4)"
   ]
  },
  {
   "cell_type": "code",
   "execution_count": 4,
   "metadata": {
    "ExecuteTime": {
     "end_time": "2021-03-12T03:01:17.151755Z",
     "start_time": "2021-03-12T03:01:17.133154Z"
    }
   },
   "outputs": [
    {
     "data": {
      "text/plain": [
       "(tensor([[ 0.4037,  0.6762, -0.3210, -1.7064],\n",
       "         [-0.1816, -0.3042,  0.1444,  0.7676],\n",
       "         [ 0.2229,  0.3733, -0.1772, -0.9420]]),\n",
       " tensor([[ 1.5516,  2.6309,  2.3101,  0.4633],\n",
       "         [ 0.2890, -0.8426,  0.8402,  0.0683],\n",
       "         [ 0.2233,  0.5814,  0.0466,  1.2033]]))"
      ]
     },
     "execution_count": 4,
     "metadata": {},
     "output_type": "execute_result"
    }
   ],
   "source": [
    "torch.matmul(X,W_xh), torch.matmul(H,W_hh)"
   ]
  },
  {
   "cell_type": "code",
   "execution_count": 3,
   "metadata": {
    "ExecuteTime": {
     "end_time": "2021-03-12T02:57:05.027610Z",
     "start_time": "2021-03-12T02:57:04.080957Z"
    }
   },
   "outputs": [
    {
     "data": {
      "text/plain": [
       "tensor([[ 1.9552,  3.3071,  1.9891, -1.2431],\n",
       "        [ 0.1074, -1.1468,  0.9846,  0.8359],\n",
       "        [ 0.4462,  0.9547, -0.1306,  0.2612]])"
      ]
     },
     "execution_count": 3,
     "metadata": {},
     "output_type": "execute_result"
    }
   ],
   "source": [
    "torch.matmul(X,W_xh) + torch.matmul(H,W_hh)"
   ]
  },
  {
   "cell_type": "code",
   "execution_count": 11,
   "metadata": {
    "ExecuteTime": {
     "end_time": "2021-03-12T03:04:47.713413Z",
     "start_time": "2021-03-12T03:04:47.708413Z"
    }
   },
   "outputs": [
    {
     "data": {
      "text/plain": [
       "tensor([[ 0.8963],\n",
       "        [-0.4032],\n",
       "        [ 0.4948]])"
      ]
     },
     "execution_count": 11,
     "metadata": {},
     "output_type": "execute_result"
    }
   ],
   "source": [
    "X"
   ]
  },
  {
   "cell_type": "code",
   "execution_count": 12,
   "metadata": {
    "ExecuteTime": {
     "end_time": "2021-03-12T03:04:54.016967Z",
     "start_time": "2021-03-12T03:04:54.001367Z"
    }
   },
   "outputs": [
    {
     "data": {
      "text/plain": [
       "tensor([[-0.7134,  0.8885,  1.3775,  0.8124],\n",
       "        [-0.5252, -1.2430,  0.6284, -1.2926],\n",
       "        [ 0.8359,  0.1685, -0.1721, -0.9005]])"
      ]
     },
     "execution_count": 12,
     "metadata": {},
     "output_type": "execute_result"
    }
   ],
   "source": [
    "H"
   ]
  },
  {
   "cell_type": "code",
   "execution_count": 13,
   "metadata": {
    "ExecuteTime": {
     "end_time": "2021-03-12T03:07:18.049205Z",
     "start_time": "2021-03-12T03:07:18.033605Z"
    }
   },
   "outputs": [
    {
     "data": {
      "text/plain": [
       "(tensor([[ 0.4504,  0.7545, -0.3581, -1.9038]]),\n",
       " tensor([[ 0.2162,  0.6455,  0.0340,  0.3662],\n",
       "         [ 0.4071,  1.2577,  0.3820,  0.9533],\n",
       "         [ 1.0805,  1.4895,  1.5982,  0.4435],\n",
       "         [-0.1777, -0.0958, -0.2542, -0.9027]]))"
      ]
     },
     "execution_count": 13,
     "metadata": {},
     "output_type": "execute_result"
    }
   ],
   "source": [
    "W_xh,W_hh"
   ]
  },
  {
   "cell_type": "code",
   "execution_count": 6,
   "metadata": {
    "ExecuteTime": {
     "end_time": "2021-03-12T03:03:21.859121Z",
     "start_time": "2021-03-12T03:03:21.842521Z"
    }
   },
   "outputs": [
    {
     "data": {
      "text/plain": [
       "(tensor([[ 0.8963, -0.7134,  0.8885,  1.3775,  0.8124],\n",
       "         [-0.4032, -0.5252, -1.2430,  0.6284, -1.2926],\n",
       "         [ 0.4948,  0.8359,  0.1685, -0.1721, -0.9005]]),\n",
       " tensor([[ 0.4504,  0.7545, -0.3581, -1.9038],\n",
       "         [ 0.2162,  0.6455,  0.0340,  0.3662],\n",
       "         [ 0.4071,  1.2577,  0.3820,  0.9533],\n",
       "         [ 1.0805,  1.4895,  1.5982,  0.4435],\n",
       "         [-0.1777, -0.0958, -0.2542, -0.9027]]))"
      ]
     },
     "execution_count": 6,
     "metadata": {},
     "output_type": "execute_result"
    }
   ],
   "source": [
    "torch.cat((X,H),dim=1),torch.cat((W_xh,W_hh),dim=0)"
   ]
  },
  {
   "cell_type": "code",
   "execution_count": 5,
   "metadata": {
    "ExecuteTime": {
     "end_time": "2021-03-12T03:03:03.276702Z",
     "start_time": "2021-03-12T03:03:03.201500Z"
    }
   },
   "outputs": [
    {
     "data": {
      "text/plain": [
       "tensor([[ 1.9552,  3.3071,  1.9891, -1.2431],\n",
       "        [ 0.1074, -1.1468,  0.9846,  0.8359],\n",
       "        [ 0.4462,  0.9547, -0.1306,  0.2612]])"
      ]
     },
     "execution_count": 5,
     "metadata": {},
     "output_type": "execute_result"
    }
   ],
   "source": [
    "torch.matmul(torch.cat((X,H),dim=1),torch.cat((W_xh,W_hh),dim=0))"
   ]
  },
  {
   "cell_type": "code",
   "execution_count": null,
   "metadata": {
    "collapsed": true
   },
   "outputs": [],
   "source": []
  }
 ],
 "metadata": {
  "kernelspec": {
   "display_name": "Python 3",
   "language": "python",
   "name": "python3"
  },
  "language_info": {
   "codemirror_mode": {
    "name": "ipython",
    "version": 3
   },
   "file_extension": ".py",
   "mimetype": "text/x-python",
   "name": "python",
   "nbconvert_exporter": "python",
   "pygments_lexer": "ipython3",
   "version": "3.6.3"
  }
 },
 "nbformat": 4,
 "nbformat_minor": 2
}
