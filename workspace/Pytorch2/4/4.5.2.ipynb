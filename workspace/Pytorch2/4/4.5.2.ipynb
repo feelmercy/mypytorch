{
 "cells": [
  {
   "cell_type": "code",
   "execution_count": 1,
   "metadata": {
    "ExecuteTime": {
     "end_time": "2021-01-27T02:12:01.605801Z",
     "start_time": "2021-01-27T02:12:01.598801Z"
    },
    "collapsed": true
   },
   "outputs": [],
   "source": [
    "import torch\n",
    "import torch.nn as nn"
   ]
  },
  {
   "cell_type": "code",
   "execution_count": 2,
   "metadata": {
    "ExecuteTime": {
     "end_time": "2021-01-27T02:14:38.000746Z",
     "start_time": "2021-01-27T02:14:37.981745Z"
    },
    "collapsed": true
   },
   "outputs": [],
   "source": [
    "class MLP(nn.Module):\n",
    "    def __init__(self):\n",
    "        super().__init__()\n",
    "        self.hidden=nn.Linear(3,2)\n",
    "        self.act=nn.ReLU()\n",
    "        self.output=nn.Linear(2,1)\n",
    "    \n",
    "    def forward(self,x):\n",
    "        a=self.act(self.hidden(x))\n",
    "        return self.output(a)"
   ]
  },
  {
   "cell_type": "code",
   "execution_count": 3,
   "metadata": {
    "ExecuteTime": {
     "end_time": "2021-01-27T02:14:57.375854Z",
     "start_time": "2021-01-27T02:14:57.292850Z"
    }
   },
   "outputs": [
    {
     "data": {
      "text/plain": [
       "OrderedDict([('hidden.weight', tensor([[-0.3719, -0.5142,  0.1722],\n",
       "                      [ 0.4023,  0.3923, -0.3076]])),\n",
       "             ('hidden.bias', tensor([-0.0163, -0.3201])),\n",
       "             ('output.weight', tensor([[ 0.1311, -0.6632]])),\n",
       "             ('output.bias', tensor([0.6640]))])"
      ]
     },
     "execution_count": 3,
     "metadata": {},
     "output_type": "execute_result"
    }
   ],
   "source": [
    "net=MLP()\n",
    "net.state_dict()"
   ]
  },
  {
   "cell_type": "code",
   "execution_count": 4,
   "metadata": {
    "ExecuteTime": {
     "end_time": "2021-01-27T02:17:00.338888Z",
     "start_time": "2021-01-27T02:17:00.316886Z"
    }
   },
   "outputs": [
    {
     "data": {
      "text/plain": [
       "{'param_groups': [{'dampening': 0,\n",
       "   'lr': 0.001,\n",
       "   'momentum': 0.9,\n",
       "   'nesterov': False,\n",
       "   'params': [115931104, 115932184, 115931968, 115930384],\n",
       "   'weight_decay': 0}],\n",
       " 'state': {}}"
      ]
     },
     "execution_count": 4,
     "metadata": {},
     "output_type": "execute_result"
    }
   ],
   "source": [
    "optimizer=torch.optim.SGD(net.parameters(),lr=0.001,momentum=0.9)\n",
    "optimizer.state_dict()"
   ]
  },
  {
   "cell_type": "code",
   "execution_count": 5,
   "metadata": {
    "ExecuteTime": {
     "end_time": "2021-01-27T03:14:41.856875Z",
     "start_time": "2021-01-27T03:14:41.325845Z"
    },
    "collapsed": true
   },
   "outputs": [],
   "source": [
    "x=torch.randn(2,3)\n",
    "y=net(x)\n",
    "torch.save(net.state_dict(),r'F:\\study\\ml\\ebooks3\\torth_tmp\\xy_dict1.pt')\n"
   ]
  },
  {
   "cell_type": "code",
   "execution_count": 6,
   "metadata": {
    "ExecuteTime": {
     "end_time": "2021-01-27T03:16:38.006518Z",
     "start_time": "2021-01-27T03:16:37.965516Z"
    }
   },
   "outputs": [
    {
     "data": {
      "text/plain": [
       "tensor([[1],\n",
       "        [1]], dtype=torch.uint8)"
      ]
     },
     "execution_count": 6,
     "metadata": {},
     "output_type": "execute_result"
    }
   ],
   "source": [
    "net2=MLP()\n",
    "net2.load_state_dict(torch.load(r'F:\\study\\ml\\ebooks3\\torth_tmp\\xy_dict1.pt'))\n",
    "y2=net2(x)\n",
    "y2==y"
   ]
  }
 ],
 "metadata": {
  "kernelspec": {
   "display_name": "Python 3",
   "language": "python",
   "name": "python3"
  },
  "language_info": {
   "codemirror_mode": {
    "name": "ipython",
    "version": 3
   },
   "file_extension": ".py",
   "mimetype": "text/x-python",
   "name": "python",
   "nbconvert_exporter": "python",
   "pygments_lexer": "ipython3",
   "version": "3.6.3"
  }
 },
 "nbformat": 4,
 "nbformat_minor": 2
}
