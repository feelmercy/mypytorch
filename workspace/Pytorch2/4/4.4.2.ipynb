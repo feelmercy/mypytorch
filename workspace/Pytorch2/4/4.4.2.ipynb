{
 "cells": [
  {
   "cell_type": "code",
   "execution_count": 1,
   "metadata": {
    "ExecuteTime": {
     "end_time": "2021-01-26T02:21:41.443168Z",
     "start_time": "2021-01-26T02:21:41.439168Z"
    },
    "collapsed": true
   },
   "outputs": [],
   "source": [
    "import torch\n",
    "import torch.nn as nn"
   ]
  },
  {
   "cell_type": "code",
   "execution_count": 3,
   "metadata": {
    "ExecuteTime": {
     "end_time": "2021-01-26T02:25:40.983869Z",
     "start_time": "2021-01-26T02:25:40.964868Z"
    }
   },
   "outputs": [],
   "source": [
    "class MyDense(nn.Module):\n",
    "    def __init__(self):\n",
    "        super().__init__()\n",
    "        self.params = nn.ParameterList(\n",
    "            [nn.Parameter(torch.randn(4, 4)) for i in range(3)])\n",
    "        self.params.append(nn.Parameter(torch.randn(4, 1)))\n",
    "\n",
    "    def forward(self, x):\n",
    "        for i in range(len(self.params)):\n",
    "            x = torch.mm(x, self.params(i))\n",
    "        return x"
   ]
  },
  {
   "cell_type": "code",
   "execution_count": 4,
   "metadata": {
    "ExecuteTime": {
     "end_time": "2021-01-26T02:32:01.049608Z",
     "start_time": "2021-01-26T02:32:00.792593Z"
    }
   },
   "outputs": [
    {
     "name": "stdout",
     "output_type": "stream",
     "text": [
      "MyDense(\n",
      "  (params): ParameterList(\n",
      "      (0): Parameter containing: [torch.FloatTensor of size 4x4]\n",
      "      (1): Parameter containing: [torch.FloatTensor of size 4x4]\n",
      "      (2): Parameter containing: [torch.FloatTensor of size 4x4]\n",
      "      (3): Parameter containing: [torch.FloatTensor of size 4x1]\n",
      "  )\n",
      ")\n"
     ]
    }
   ],
   "source": [
    "net=MyDense()\n",
    "print(net)"
   ]
  },
  {
   "cell_type": "code",
   "execution_count": 5,
   "metadata": {
    "ExecuteTime": {
     "end_time": "2021-01-26T02:32:35.765594Z",
     "start_time": "2021-01-26T02:32:35.074554Z"
    }
   },
   "outputs": [
    {
     "name": "stdout",
     "output_type": "stream",
     "text": [
      "params.0 Parameter containing:\n",
      "tensor([[ 1.0099,  0.5158,  1.0606, -0.5733],\n",
      "        [-0.3525,  0.0515,  0.0579, -0.9683],\n",
      "        [-0.7151,  0.6750, -1.0326,  0.5828],\n",
      "        [-0.1999,  1.0208,  0.4795, -1.1017]], requires_grad=True)\n",
      "params.1 Parameter containing:\n",
      "tensor([[-0.5101,  1.5720, -1.0204, -0.6349],\n",
      "        [-0.8790, -0.7066, -1.0050,  0.7380],\n",
      "        [-0.2220,  1.3313, -1.1594, -1.9360],\n",
      "        [ 0.3923, -1.3781, -0.9208, -0.7986]], requires_grad=True)\n",
      "params.2 Parameter containing:\n",
      "tensor([[ 0.5977,  0.3003,  0.0580, -0.3036],\n",
      "        [-0.4008, -0.6201,  0.3158,  0.1258],\n",
      "        [ 0.3838,  1.0939, -0.2876, -2.2555],\n",
      "        [-0.6423,  1.0438,  0.2701, -0.1838]], requires_grad=True)\n",
      "params.3 Parameter containing:\n",
      "tensor([[ 0.7046],\n",
      "        [ 0.0374],\n",
      "        [ 0.0364],\n",
      "        [-0.4158]], requires_grad=True)\n"
     ]
    }
   ],
   "source": [
    "for name,param in net.named_parameters():\n",
    "    print(name,param)"
   ]
  },
  {
   "cell_type": "code",
   "execution_count": 8,
   "metadata": {
    "ExecuteTime": {
     "end_time": "2021-01-26T02:57:47.809078Z",
     "start_time": "2021-01-26T02:57:47.787076Z"
    }
   },
   "outputs": [],
   "source": [
    "class MyDictDense(nn.Module):\n",
    "    def __init__(self):\n",
    "        super().__init__()\n",
    "        self.params=nn.ParameterDict({\n",
    "            'linear1':nn.Parameter(torch.randn(4,4)),\n",
    "            'linear2':nn.Parameter(torch.randn(4,1))\n",
    "        })\n",
    "        self.params.update({'linear3':nn.Parameter(\n",
    "            torch.randn(4,2))})\n",
    "        \n",
    "    def forward(self,x,choice='linear1'):\n",
    "        return torch.mm(x,self.params[choice])"
   ]
  },
  {
   "cell_type": "code",
   "execution_count": 9,
   "metadata": {
    "ExecuteTime": {
     "end_time": "2021-01-26T02:58:05.235074Z",
     "start_time": "2021-01-26T02:58:05.226074Z"
    }
   },
   "outputs": [
    {
     "name": "stdout",
     "output_type": "stream",
     "text": [
      "MyDictDense(\n",
      "  (params): ParameterDict(\n",
      "      (linear1): Parameter containing: [torch.FloatTensor of size 4x4]\n",
      "      (linear2): Parameter containing: [torch.FloatTensor of size 4x1]\n",
      "      (linear3): Parameter containing: [torch.FloatTensor of size 4x2]\n",
      "  )\n",
      ")\n"
     ]
    }
   ],
   "source": [
    "net=MyDictDense()\n",
    "print(net)"
   ]
  },
  {
   "cell_type": "code",
   "execution_count": null,
   "metadata": {
    "collapsed": true
   },
   "outputs": [],
   "source": []
  }
 ],
 "metadata": {
  "kernelspec": {
   "display_name": "Python 3",
   "language": "python",
   "name": "python3"
  },
  "language_info": {
   "codemirror_mode": {
    "name": "ipython",
    "version": 3
   },
   "file_extension": ".py",
   "mimetype": "text/x-python",
   "name": "python",
   "nbconvert_exporter": "python",
   "pygments_lexer": "ipython3",
   "version": "3.6.3"
  }
 },
 "nbformat": 4,
 "nbformat_minor": 2
}
