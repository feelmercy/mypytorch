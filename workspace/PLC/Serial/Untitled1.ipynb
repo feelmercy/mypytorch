{
 "cells": [
  {
   "cell_type": "code",
   "execution_count": null,
   "id": "66f16858",
   "metadata": {
    "ExecuteTime": {
     "start_time": "2022-10-20T06:27:49.851Z"
    }
   },
   "outputs": [],
   "source": [
    "import serial\n",
    "if __name__ == '__main__':\n",
    "    com = serial.Serial('COM23', 115200,timeout=0.001)\n",
    "    str1='This is data for test'\n",
    "    success_bytes = com.write(bytes.fromhex(str1))\n",
    "    print(success_bytes)"
   ]
  },
  {
   "cell_type": "code",
   "execution_count": null,
   "id": "448cdc77",
   "metadata": {
    "ExecuteTime": {
     "start_time": "2022-10-20T06:29:34.522Z"
    }
   },
   "outputs": [],
   "source": [
    "str1='This is data for test'\n",
    "success_bytes = com.write(bytes.fromhex(str1))\n",
    "print(success_bytes)"
   ]
  },
  {
   "cell_type": "code",
   "execution_count": null,
   "id": "692108a2",
   "metadata": {
    "ExecuteTime": {
     "start_time": "2022-10-20T06:31:55.961Z"
    }
   },
   "outputs": [],
   "source": [
    "data = com.read(10)\n",
    "print(data)"
   ]
  },
  {
   "cell_type": "code",
   "execution_count": null,
   "id": "46d1d43d",
   "metadata": {},
   "outputs": [],
   "source": []
  }
 ],
 "metadata": {
  "kernelspec": {
   "display_name": "Python 3",
   "language": "python",
   "name": "python3"
  },
  "language_info": {
   "codemirror_mode": {
    "name": "ipython",
    "version": 3
   },
   "file_extension": ".py",
   "mimetype": "text/x-python",
   "name": "python",
   "nbconvert_exporter": "python",
   "pygments_lexer": "ipython3",
   "version": "3.8.8"
  }
 },
 "nbformat": 4,
 "nbformat_minor": 5
}
