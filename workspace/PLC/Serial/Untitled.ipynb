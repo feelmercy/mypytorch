{
 "cells": [
  {
   "cell_type": "code",
   "execution_count": 1,
   "id": "d8b145c8",
   "metadata": {
    "ExecuteTime": {
     "end_time": "2022-10-20T06:40:25.371269Z",
     "start_time": "2022-10-20T06:40:25.362468Z"
    }
   },
   "outputs": [],
   "source": [
    "import serial\n",
    "import array\n",
    "import os\n",
    "import signal\n",
    "from time import sleep"
   ]
  },
  {
   "cell_type": "code",
   "execution_count": 2,
   "id": "02e5e723",
   "metadata": {
    "ExecuteTime": {
     "end_time": "2022-10-20T06:40:26.045253Z",
     "start_time": "2022-10-20T06:40:26.041348Z"
    }
   },
   "outputs": [],
   "source": [
    "flag_stop = False\n",
    "def onsignal_int(a,b):\n",
    "    print (\"sigint!\")\n",
    "    global flag_stop\n",
    "    flag_stop = True"
   ]
  },
  {
   "cell_type": "code",
   "execution_count": 3,
   "id": "1376d52c",
   "metadata": {
    "ExecuteTime": {
     "end_time": "2022-10-20T06:40:26.687753Z",
     "start_time": "2022-10-20T06:40:26.664764Z"
    }
   },
   "outputs": [],
   "source": [
    "signal.signal(signal.SIGINT, onsignal_int)\n",
    "signal.signal(signal.SIGTERM, onsignal_int)\n",
    "ser=serial.Serial('COM26',105200,timeout=0.001)"
   ]
  },
  {
   "cell_type": "code",
   "execution_count": 4,
   "id": "f50c098f",
   "metadata": {
    "ExecuteTime": {
     "end_time": "2022-10-20T06:40:28.487108Z",
     "start_time": "2022-10-20T06:40:28.481250Z"
    }
   },
   "outputs": [
    {
     "name": "stdout",
     "output_type": "stream",
     "text": [
      "serial.isOpen() =  True\n"
     ]
    }
   ],
   "source": [
    "print(\"serial.isOpen() = \",ser.isOpen())"
   ]
  },
  {
   "cell_type": "code",
   "execution_count": 5,
   "id": "2dfc2c4e",
   "metadata": {
    "ExecuteTime": {
     "end_time": "2022-10-20T06:40:29.755188Z",
     "start_time": "2022-10-20T06:40:29.745439Z"
    }
   },
   "outputs": [
    {
     "data": {
      "text/plain": [
       "b'{\\x02\\x00\\x01)\\xcc\\x00\\xc8\\x03x)\\x04\\x00d\\x00\\x00\\xcc}\\r\\n'"
      ]
     },
     "execution_count": 5,
     "metadata": {},
     "output_type": "execute_result"
    }
   ],
   "source": [
    "str_send = \"7b02000129cc00c80378290400640000cc7d0d0a\"\n",
    "cmd_send=bytes.fromhex(str_send)\n",
    "cmd_send"
   ]
  },
  {
   "cell_type": "code",
   "execution_count": 6,
   "id": "27f0b595",
   "metadata": {
    "ExecuteTime": {
     "end_time": "2022-10-20T06:40:32.869591Z",
     "start_time": "2022-10-20T06:40:32.865686Z"
    }
   },
   "outputs": [],
   "source": [
    "str_stop=\"7b04047d0d0a\"\n",
    "cmd_stop=bytes.fromhex(str_stop)"
   ]
  },
  {
   "cell_type": "code",
   "execution_count": 7,
   "id": "e98037f6",
   "metadata": {
    "ExecuteTime": {
     "end_time": "2022-10-20T06:40:33.372531Z",
     "start_time": "2022-10-20T06:40:33.368611Z"
    }
   },
   "outputs": [],
   "source": [
    "cmd_back = \"\"\n",
    "cmd_length = 0x00\n",
    "cmd_count = 0x00"
   ]
  },
  {
   "cell_type": "code",
   "execution_count": 8,
   "id": "a1debb27",
   "metadata": {
    "ExecuteTime": {
     "end_time": "2022-10-20T06:40:34.220583Z",
     "start_time": "2022-10-20T06:40:34.216688Z"
    }
   },
   "outputs": [],
   "source": [
    "s = ser.write(cmd_send)"
   ]
  },
  {
   "cell_type": "code",
   "execution_count": 9,
   "id": "f08e8a67",
   "metadata": {
    "ExecuteTime": {
     "end_time": "2022-10-20T06:40:57.226676Z",
     "start_time": "2022-10-20T06:40:48.169663Z"
    }
   },
   "outputs": [
    {
     "name": "stdout",
     "output_type": "stream",
     "text": [
      "text  \n",
      "text  \n",
      "text  \n",
      "text  \n",
      "text  \n",
      "text  \n",
      "text  \n",
      "text  \n",
      "text  \n",
      "text  \n",
      "text  \n",
      "text  \n",
      "text  \n",
      "text  \n",
      "text  \n",
      "text  \n",
      "text  \n",
      "text  \n",
      "text  \n",
      "text  \n",
      "text  \n",
      "text  \n",
      "text  \n",
      "text  \n",
      "text  \n",
      "text  \n",
      "text  \n",
      "text  \n",
      "text  \n",
      "text  \n",
      "text  \n",
      "text  \n",
      "text  \n",
      "text  \n",
      "text  \n",
      "text  \n",
      "text  \n",
      "text  \n",
      "text  \n",
      "text  \n",
      "text  \n",
      "text  \n",
      "text  \n",
      "text  \n",
      "text  \n",
      "text  \n",
      "text  \n",
      "text  \n",
      "text  \n",
      "text  \n",
      "text  \n",
      "text  \n",
      "text  \n",
      "text  \n",
      "text  \n",
      "text  \n",
      "text  \n",
      "text  \n",
      "text  \n",
      "text  \n",
      "text  \n",
      "text  \n",
      "text  \n",
      "text  \n",
      "text  \n",
      "text  \n",
      "text  \n",
      "text  \n",
      "text  \n",
      "text  \n",
      "text  \n",
      "text  \n",
      "text  \n",
      "text  \n",
      "text  \n",
      "text  \n",
      "text  \n",
      "text  \n",
      "text  \n",
      "text  \n",
      "text  \n",
      "text  \n",
      "text  \n",
      "text  \n",
      "text  \n"
     ]
    },
    {
     "ename": "UnicodeDecodeError",
     "evalue": "'utf-8' codec can't decode byte 0x8d in position 0: invalid start byte",
     "output_type": "error",
     "traceback": [
      "\u001b[1;31m---------------------------------------------------------------------------\u001b[0m",
      "\u001b[1;31mUnicodeDecodeError\u001b[0m                        Traceback (most recent call last)",
      "\u001b[1;32m<ipython-input-9-e1c42b53766e>\u001b[0m in \u001b[0;36m<module>\u001b[1;34m\u001b[0m\n\u001b[0;32m      6\u001b[0m         \u001b[0msleep\u001b[0m\u001b[1;33m(\u001b[0m\u001b[1;36m0.05\u001b[0m\u001b[1;33m)\u001b[0m\u001b[1;33m\u001b[0m\u001b[1;33m\u001b[0m\u001b[0m\n\u001b[0;32m      7\u001b[0m         \u001b[1;32mbreak\u001b[0m\u001b[1;33m\u001b[0m\u001b[1;33m\u001b[0m\u001b[0m\n\u001b[1;32m----> 8\u001b[1;33m     \u001b[0mtext\u001b[0m\u001b[1;33m=\u001b[0m\u001b[0mser\u001b[0m\u001b[1;33m.\u001b[0m\u001b[0mread\u001b[0m\u001b[1;33m(\u001b[0m\u001b[1;36m10\u001b[0m\u001b[1;33m)\u001b[0m\u001b[1;33m.\u001b[0m\u001b[0mdecode\u001b[0m\u001b[1;33m(\u001b[0m\u001b[1;33m)\u001b[0m\u001b[1;33m\u001b[0m\u001b[1;33m\u001b[0m\u001b[0m\n\u001b[0m\u001b[0;32m      9\u001b[0m     \u001b[0mprint\u001b[0m\u001b[1;33m(\u001b[0m\u001b[1;34m\"text \"\u001b[0m\u001b[1;33m,\u001b[0m\u001b[0mtext\u001b[0m\u001b[1;33m)\u001b[0m\u001b[1;33m\u001b[0m\u001b[1;33m\u001b[0m\u001b[0m\n\u001b[0;32m     10\u001b[0m     \u001b[1;32mif\u001b[0m \u001b[0mtext\u001b[0m\u001b[1;33m:\u001b[0m\u001b[1;33m\u001b[0m\u001b[1;33m\u001b[0m\u001b[0m\n",
      "\u001b[1;31mUnicodeDecodeError\u001b[0m: 'utf-8' codec can't decode byte 0x8d in position 0: invalid start byte"
     ]
    }
   ],
   "source": [
    "while True:\n",
    "    sleep(0.1)\n",
    "    if flag_stop:\n",
    "        ser.write(stop)\n",
    "        print(\"reset cmd has been sent !\")\n",
    "        sleep(0.05)\n",
    "        break\n",
    "    text=ser.read(10).decode()\n",
    "    print(\"text \",text)\n",
    "    if text:\n",
    "        n=ser.inWaiting()\n",
    "        if n:\n",
    "            text=text+ser.read(n)\n",
    "        cmd_back=cmd_back+text\n",
    "        text=\"\"\n",
    "    \n",
    "    if cmd_length<2:\n",
    "        continue\n",
    "    if cmd_length==0x00:\n",
    "        cmd_length=ord(cmd_back[1])\n",
    "        print(\"new cmd length \",cmd_length)\n",
    "    \n",
    "    if (cmd_length +0x02 ) > len(cmd_back):\n",
    "        continue\n",
    "    \n",
    "    hex_list=[hex(ord(i)) for i in cmd_back]\n",
    "    print(\"In buffer : \",hex_list)\n",
    "    \n",
    "    cmd_back= cmd_back[cmd_length+2:]\n",
    "    cmd_length=0\n",
    "    cmd_count+=1\n",
    "    \n",
    "    print(\" ==> %d cmds recvd \" %(cmd_count))\n",
    "    print(\"----------------------\")\n",
    "ser.close()"
   ]
  },
  {
   "cell_type": "code",
   "execution_count": 34,
   "id": "584eff8e",
   "metadata": {
    "ExecuteTime": {
     "end_time": "2022-10-20T05:59:50.333899Z",
     "start_time": "2022-10-20T05:59:50.330984Z"
    }
   },
   "outputs": [],
   "source": [
    "str1=\"7b02000129cc00c80378290400640000cc7d0d0a\"\n",
    "text1=\"\""
   ]
  },
  {
   "cell_type": "code",
   "execution_count": 22,
   "id": "d6b2a73c",
   "metadata": {
    "ExecuteTime": {
     "end_time": "2022-10-20T05:53:29.865458Z",
     "start_time": "2022-10-20T05:53:29.860563Z"
    }
   },
   "outputs": [
    {
     "data": {
      "text/plain": [
       "'7b02000129cc00c80378290400640000cc7d0d0a'"
      ]
     },
     "execution_count": 22,
     "metadata": {},
     "output_type": "execute_result"
    }
   ],
   "source": [
    "text1+=str1\n",
    "text1"
   ]
  },
  {
   "cell_type": "code",
   "execution_count": 23,
   "id": "feefd7ef",
   "metadata": {
    "ExecuteTime": {
     "end_time": "2022-10-20T05:53:31.340851Z",
     "start_time": "2022-10-20T05:53:31.333027Z"
    }
   },
   "outputs": [
    {
     "ename": "TypeError",
     "evalue": "can only concatenate str (not \"bytes\") to str",
     "output_type": "error",
     "traceback": [
      "\u001b[1;31m---------------------------------------------------------------------------\u001b[0m",
      "\u001b[1;31mTypeError\u001b[0m                                 Traceback (most recent call last)",
      "\u001b[1;32m<ipython-input-23-02c41dcfe909>\u001b[0m in \u001b[0;36m<module>\u001b[1;34m\u001b[0m\n\u001b[1;32m----> 1\u001b[1;33m \u001b[0mtext1\u001b[0m\u001b[1;33m+=\u001b[0m\u001b[0mbytes\u001b[0m\u001b[1;33m.\u001b[0m\u001b[0mfromhex\u001b[0m\u001b[1;33m(\u001b[0m\u001b[0mstr1\u001b[0m\u001b[1;33m)\u001b[0m\u001b[1;33m\u001b[0m\u001b[1;33m\u001b[0m\u001b[0m\n\u001b[0m\u001b[0;32m      2\u001b[0m \u001b[0mtext1\u001b[0m\u001b[1;33m\u001b[0m\u001b[1;33m\u001b[0m\u001b[0m\n",
      "\u001b[1;31mTypeError\u001b[0m: can only concatenate str (not \"bytes\") to str"
     ]
    }
   ],
   "source": [
    "text1+=bytes.fromhex(str1)\n",
    "text1"
   ]
  },
  {
   "cell_type": "code",
   "execution_count": 24,
   "id": "90e23a2c",
   "metadata": {
    "ExecuteTime": {
     "end_time": "2022-10-20T05:53:35.505518Z",
     "start_time": "2022-10-20T05:53:35.500637Z"
    }
   },
   "outputs": [
    {
     "data": {
      "text/plain": [
       "b'{\\x02\\x00\\x01)\\xcc\\x00\\xc8\\x03x)\\x04\\x00d\\x00\\x00\\xcc}\\r\\n'"
      ]
     },
     "execution_count": 24,
     "metadata": {},
     "output_type": "execute_result"
    }
   ],
   "source": [
    "bytes.fromhex(str1)"
   ]
  },
  {
   "cell_type": "code",
   "execution_count": 25,
   "id": "0bad1c0b",
   "metadata": {
    "ExecuteTime": {
     "end_time": "2022-10-20T05:53:47.346591Z",
     "start_time": "2022-10-20T05:53:47.341710Z"
    }
   },
   "outputs": [
    {
     "data": {
      "text/plain": [
       "b'{\\x02\\x00\\x01)\\xcc\\x00\\xc8\\x03x)\\x04\\x00d\\x00\\x00\\xcc}\\r\\n'"
      ]
     },
     "execution_count": 25,
     "metadata": {},
     "output_type": "execute_result"
    }
   ],
   "source": [
    "hex_str1=bytes.fromhex(str1)\n",
    "hex_str1"
   ]
  },
  {
   "cell_type": "code",
   "execution_count": 26,
   "id": "858bd126",
   "metadata": {
    "ExecuteTime": {
     "end_time": "2022-10-20T05:54:38.470305Z",
     "start_time": "2022-10-20T05:54:38.460541Z"
    }
   },
   "outputs": [
    {
     "ename": "TypeError",
     "evalue": "ord() expected string of length 1, but int found",
     "output_type": "error",
     "traceback": [
      "\u001b[1;31m---------------------------------------------------------------------------\u001b[0m",
      "\u001b[1;31mTypeError\u001b[0m                                 Traceback (most recent call last)",
      "\u001b[1;32m<ipython-input-26-002258fbd742>\u001b[0m in \u001b[0;36m<module>\u001b[1;34m\u001b[0m\n\u001b[1;32m----> 1\u001b[1;33m \u001b[1;33m[\u001b[0m\u001b[0mhex\u001b[0m\u001b[1;33m(\u001b[0m\u001b[0mord\u001b[0m\u001b[1;33m(\u001b[0m\u001b[0mi\u001b[0m\u001b[1;33m)\u001b[0m\u001b[1;33m)\u001b[0m \u001b[1;32mfor\u001b[0m \u001b[0mi\u001b[0m \u001b[1;32min\u001b[0m \u001b[0mhex_str1\u001b[0m\u001b[1;33m]\u001b[0m\u001b[1;33m\u001b[0m\u001b[1;33m\u001b[0m\u001b[0m\n\u001b[0m",
      "\u001b[1;32m<ipython-input-26-002258fbd742>\u001b[0m in \u001b[0;36m<listcomp>\u001b[1;34m(.0)\u001b[0m\n\u001b[1;32m----> 1\u001b[1;33m \u001b[1;33m[\u001b[0m\u001b[0mhex\u001b[0m\u001b[1;33m(\u001b[0m\u001b[0mord\u001b[0m\u001b[1;33m(\u001b[0m\u001b[0mi\u001b[0m\u001b[1;33m)\u001b[0m\u001b[1;33m)\u001b[0m \u001b[1;32mfor\u001b[0m \u001b[0mi\u001b[0m \u001b[1;32min\u001b[0m \u001b[0mhex_str1\u001b[0m\u001b[1;33m]\u001b[0m\u001b[1;33m\u001b[0m\u001b[1;33m\u001b[0m\u001b[0m\n\u001b[0m",
      "\u001b[1;31mTypeError\u001b[0m: ord() expected string of length 1, but int found"
     ]
    }
   ],
   "source": [
    "[hex(ord(i)) for i in hex_str1]"
   ]
  },
  {
   "cell_type": "code",
   "execution_count": 27,
   "id": "035440fe",
   "metadata": {
    "ExecuteTime": {
     "end_time": "2022-10-20T05:55:33.713185Z",
     "start_time": "2022-10-20T05:55:33.708317Z"
    }
   },
   "outputs": [
    {
     "data": {
      "text/plain": [
       "['0x61', '0x62', '0x63']"
      ]
     },
     "execution_count": 27,
     "metadata": {},
     "output_type": "execute_result"
    }
   ],
   "source": [
    "[hex(ord(i)) for i in \"abc\"]"
   ]
  },
  {
   "cell_type": "code",
   "execution_count": 28,
   "id": "aa6eb0e8",
   "metadata": {
    "ExecuteTime": {
     "end_time": "2022-10-20T05:56:51.007539Z",
     "start_time": "2022-10-20T05:56:51.003634Z"
    }
   },
   "outputs": [
    {
     "name": "stdout",
     "output_type": "stream",
     "text": [
      "b'{\\x02\\x00\\x01)\\xcc\\x00\\xc8\\x03x)\\x04\\x00d\\x00\\x00\\xcc}\\r\\n'\n",
      "b'{\\x02\\x00\\x01)\\xcc\\x00\\xc8\\x03x)\\x04\\x00d\\x00\\x00\\xcc}\\r\\n'\n",
      "b'{\\x02\\x00\\x01)\\xcc\\x00\\xc8\\x03x)\\x04\\x00d\\x00\\x00\\xcc}\\r\\n'\n",
      "b'{\\x02\\x00\\x01)\\xcc\\x00\\xc8\\x03x)\\x04\\x00d\\x00\\x00\\xcc}\\r\\n'\n",
      "b'{\\x02\\x00\\x01)\\xcc\\x00\\xc8\\x03x)\\x04\\x00d\\x00\\x00\\xcc}\\r\\n'\n",
      "b'{\\x02\\x00\\x01)\\xcc\\x00\\xc8\\x03x)\\x04\\x00d\\x00\\x00\\xcc}\\r\\n'\n",
      "b'{\\x02\\x00\\x01)\\xcc\\x00\\xc8\\x03x)\\x04\\x00d\\x00\\x00\\xcc}\\r\\n'\n",
      "b'{\\x02\\x00\\x01)\\xcc\\x00\\xc8\\x03x)\\x04\\x00d\\x00\\x00\\xcc}\\r\\n'\n",
      "b'{\\x02\\x00\\x01)\\xcc\\x00\\xc8\\x03x)\\x04\\x00d\\x00\\x00\\xcc}\\r\\n'\n",
      "b'{\\x02\\x00\\x01)\\xcc\\x00\\xc8\\x03x)\\x04\\x00d\\x00\\x00\\xcc}\\r\\n'\n",
      "b'{\\x02\\x00\\x01)\\xcc\\x00\\xc8\\x03x)\\x04\\x00d\\x00\\x00\\xcc}\\r\\n'\n",
      "b'{\\x02\\x00\\x01)\\xcc\\x00\\xc8\\x03x)\\x04\\x00d\\x00\\x00\\xcc}\\r\\n'\n",
      "b'{\\x02\\x00\\x01)\\xcc\\x00\\xc8\\x03x)\\x04\\x00d\\x00\\x00\\xcc}\\r\\n'\n",
      "b'{\\x02\\x00\\x01)\\xcc\\x00\\xc8\\x03x)\\x04\\x00d\\x00\\x00\\xcc}\\r\\n'\n",
      "b'{\\x02\\x00\\x01)\\xcc\\x00\\xc8\\x03x)\\x04\\x00d\\x00\\x00\\xcc}\\r\\n'\n",
      "b'{\\x02\\x00\\x01)\\xcc\\x00\\xc8\\x03x)\\x04\\x00d\\x00\\x00\\xcc}\\r\\n'\n",
      "b'{\\x02\\x00\\x01)\\xcc\\x00\\xc8\\x03x)\\x04\\x00d\\x00\\x00\\xcc}\\r\\n'\n",
      "b'{\\x02\\x00\\x01)\\xcc\\x00\\xc8\\x03x)\\x04\\x00d\\x00\\x00\\xcc}\\r\\n'\n",
      "b'{\\x02\\x00\\x01)\\xcc\\x00\\xc8\\x03x)\\x04\\x00d\\x00\\x00\\xcc}\\r\\n'\n",
      "b'{\\x02\\x00\\x01)\\xcc\\x00\\xc8\\x03x)\\x04\\x00d\\x00\\x00\\xcc}\\r\\n'\n"
     ]
    }
   ],
   "source": [
    "for i in hex_str1:\n",
    "    print(hex_str1)"
   ]
  },
  {
   "cell_type": "code",
   "execution_count": 49,
   "id": "2b92e1c1",
   "metadata": {
    "ExecuteTime": {
     "end_time": "2022-10-20T06:12:29.308313Z",
     "start_time": "2022-10-20T06:12:29.303419Z"
    }
   },
   "outputs": [
    {
     "data": {
      "text/plain": [
       "b'abc'"
      ]
     },
     "execution_count": 49,
     "metadata": {},
     "output_type": "execute_result"
    }
   ],
   "source": [
    "str2=\"abc\".encode()\n",
    "str2"
   ]
  },
  {
   "cell_type": "code",
   "execution_count": 52,
   "id": "7d1f509b",
   "metadata": {
    "ExecuteTime": {
     "end_time": "2022-10-20T06:13:35.108382Z",
     "start_time": "2022-10-20T06:13:35.103497Z"
    }
   },
   "outputs": [
    {
     "data": {
      "text/plain": [
       "'abc'"
      ]
     },
     "execution_count": 52,
     "metadata": {},
     "output_type": "execute_result"
    }
   ],
   "source": [
    "str(str2,'UTF-8')"
   ]
  },
  {
   "cell_type": "code",
   "execution_count": 53,
   "id": "47f866a4",
   "metadata": {
    "ExecuteTime": {
     "end_time": "2022-10-20T06:14:09.548636Z",
     "start_time": "2022-10-20T06:14:09.543768Z"
    }
   },
   "outputs": [
    {
     "data": {
      "text/plain": [
       "b'abc'"
      ]
     },
     "execution_count": 53,
     "metadata": {},
     "output_type": "execute_result"
    }
   ],
   "source": [
    "str2."
   ]
  },
  {
   "cell_type": "code",
   "execution_count": null,
   "id": "465fec95",
   "metadata": {},
   "outputs": [],
   "source": []
  },
  {
   "cell_type": "code",
   "execution_count": null,
   "id": "2a77ddc7",
   "metadata": {},
   "outputs": [],
   "source": []
  }
 ],
 "metadata": {
  "kernelspec": {
   "display_name": "Python 3",
   "language": "python",
   "name": "python3"
  },
  "language_info": {
   "codemirror_mode": {
    "name": "ipython",
    "version": 3
   },
   "file_extension": ".py",
   "mimetype": "text/x-python",
   "name": "python",
   "nbconvert_exporter": "python",
   "pygments_lexer": "ipython3",
   "version": "3.8.8"
  }
 },
 "nbformat": 4,
 "nbformat_minor": 5
}
