{
 "cells": [
  {
   "cell_type": "code",
   "execution_count": 8,
   "metadata": {
    "ExecuteTime": {
     "end_time": "2022-04-15T05:19:04.611246Z",
     "start_time": "2022-04-15T05:19:04.598745Z"
    }
   },
   "outputs": [
    {
     "name": "stdout",
     "output_type": "stream",
     "text": [
      "Using matplotlib backend: Qt5Agg\n"
     ]
    }
   ],
   "source": [
    "import torch \n",
    "import torchvision\n",
    "from torch import nn,optim\n",
    "import numpy as np\n",
    "import pandas as pd\n",
    "import matplotlib.pyplot as plt\n",
    "%matplotlib auto"
   ]
  },
  {
   "cell_type": "code",
   "execution_count": 9,
   "metadata": {
    "ExecuteTime": {
     "end_time": "2022-04-15T05:19:05.055803Z",
     "start_time": "2022-04-15T05:19:05.041301Z"
    },
    "collapsed": true
   },
   "outputs": [],
   "source": [
    "data_csv=pd.read_csv('./data.csv',usecols=[1])"
   ]
  },
  {
   "cell_type": "code",
   "execution_count": 10,
   "metadata": {
    "ExecuteTime": {
     "end_time": "2022-04-15T05:19:05.510361Z",
     "start_time": "2022-04-15T05:19:05.504360Z"
    },
    "collapsed": true
   },
   "outputs": [],
   "source": [
    "data_csv=data_csv.dropna()\n",
    "dataset=data_csv.apply(lambda x : x /(x.max() - x.min() ) )\n",
    "dataset=dataset.values\n",
    "dataset=dataset.astype('float32')"
   ]
  },
  {
   "cell_type": "code",
   "execution_count": 11,
   "metadata": {
    "ExecuteTime": {
     "end_time": "2022-04-15T05:19:06.413975Z",
     "start_time": "2022-04-15T05:19:06.408475Z"
    }
   },
   "outputs": [
    {
     "data": {
      "text/plain": [
       "array([[0.21621622],\n",
       "       [0.22779922]], dtype=float32)"
      ]
     },
     "execution_count": 11,
     "metadata": {},
     "output_type": "execute_result"
    }
   ],
   "source": [
    "dataset[0:0+2]"
   ]
  },
  {
   "cell_type": "code",
   "execution_count": 12,
   "metadata": {
    "ExecuteTime": {
     "end_time": "2022-04-15T05:19:13.980936Z",
     "start_time": "2022-04-15T05:19:13.967935Z"
    },
    "collapsed": true
   },
   "outputs": [],
   "source": [
    "dataX,dataY=[],[]\n",
    "for i in range(len(dataset)-2):\n",
    "    dataX.append(dataset[i:i+2])\n",
    "    dataY.append(dataset[i+2])"
   ]
  },
  {
   "cell_type": "code",
   "execution_count": 15,
   "metadata": {
    "ExecuteTime": {
     "end_time": "2022-04-15T05:36:48.507844Z",
     "start_time": "2022-04-15T05:36:48.502343Z"
    },
    "scrolled": true
   },
   "outputs": [
    {
     "data": {
      "text/plain": [
       "[array([[0.22200772],\n",
       "        [0.24324325]], dtype=float32), array([[0.24324325],\n",
       "        [0.27220076]], dtype=float32), array([[0.27220076],\n",
       "        [0.26061776]], dtype=float32), array([[0.26061776],\n",
       "        [0.24131274]], dtype=float32), array([[0.24131274],\n",
       "        [0.28764477]], dtype=float32), array([[0.28764477],\n",
       "        [0.32818532]], dtype=float32)]"
      ]
     },
     "execution_count": 15,
     "metadata": {},
     "output_type": "execute_result"
    }
   ],
   "source": [
    "dataX[12:18]"
   ]
  },
  {
   "cell_type": "code",
   "execution_count": 16,
   "metadata": {
    "ExecuteTime": {
     "end_time": "2022-04-15T05:36:49.108920Z",
     "start_time": "2022-04-15T05:36:49.093919Z"
    }
   },
   "outputs": [
    {
     "data": {
      "text/plain": [
       "[array([0.27220076], dtype=float32),\n",
       " array([0.26061776], dtype=float32),\n",
       " array([0.24131274], dtype=float32),\n",
       " array([0.28764477], dtype=float32),\n",
       " array([0.32818532], dtype=float32),\n",
       " array([0.32818532], dtype=float32)]"
      ]
     },
     "execution_count": 16,
     "metadata": {},
     "output_type": "execute_result"
    }
   ],
   "source": [
    "dataY[12:18]"
   ]
  },
  {
   "cell_type": "code",
   "execution_count": 17,
   "metadata": {
    "ExecuteTime": {
     "end_time": "2022-04-15T05:36:49.601483Z",
     "start_time": "2022-04-15T05:36:49.588981Z"
    },
    "collapsed": true
   },
   "outputs": [],
   "source": [
    "train_size=int(len(dataX)*0.7)\n",
    "test_size=len(dataX)-train_size\n",
    "train_X=dataX[:train_size]\n",
    "train_Y=dataY[:train_size]\n",
    "test_X=dataX[train_size:]\n",
    "test_Y=dataY[train_size:]"
   ]
  },
  {
   "cell_type": "code",
   "execution_count": 21,
   "metadata": {
    "ExecuteTime": {
     "end_time": "2022-04-15T05:38:38.628328Z",
     "start_time": "2022-04-15T05:38:38.598824Z"
    }
   },
   "outputs": [
    {
     "data": {
      "text/plain": [
       "99"
      ]
     },
     "execution_count": 21,
     "metadata": {},
     "output_type": "execute_result"
    }
   ],
   "source": [
    "len(train_X)"
   ]
  },
  {
   "cell_type": "code",
   "execution_count": 18,
   "metadata": {
    "ExecuteTime": {
     "end_time": "2022-04-15T05:36:58.546119Z",
     "start_time": "2022-04-15T05:36:58.535617Z"
    }
   },
   "outputs": [
    {
     "data": {
      "text/plain": [
       "(2, 1)"
      ]
     },
     "execution_count": 18,
     "metadata": {},
     "output_type": "execute_result"
    }
   ],
   "source": [
    "train_X[0].shape"
   ]
  },
  {
   "cell_type": "code",
   "execution_count": 19,
   "metadata": {
    "ExecuteTime": {
     "end_time": "2022-04-15T05:36:59.419230Z",
     "start_time": "2022-04-15T05:36:59.398227Z"
    },
    "collapsed": true
   },
   "outputs": [],
   "source": [
    "train_x=torch.Tensor(train_X).reshape(-1,1,2)\n",
    "train_y=torch.Tensor(train_Y).reshape(-1,1,1)\n",
    "test_x=torch.Tensor(test_X).reshape(-1,1,2)\n",
    "test_y=torch.Tensor(test_Y).reshape(-1,1,1)"
   ]
  },
  {
   "cell_type": "code",
   "execution_count": null,
   "metadata": {
    "ExecuteTime": {
     "start_time": "2022-04-15T03:16:31.751Z"
    },
    "collapsed": true
   },
   "outputs": [],
   "source": [
    "class LSTM_REG(nn.Module):\n",
    "    def __init__(self,input_size,hidden_size,output_size=1,num_layers=2):\n",
    "        super().__init__()\n",
    "        self.rnn=nn.LSTM(input_size,hidden_size,num_layers)\n",
    "        self.reg=nn.Linear(hidden_size,output_size)\n",
    "        \n",
    "    def forward(self,x):\n",
    "        x,_=self.rnn(x)\n",
    "        s,b,h=x.shape\n",
    "        x=x.view(s*b,h)\n",
    "        x=self.reg(x)\n",
    "        x=x.view(s,b,-1)\n",
    "        return x"
   ]
  },
  {
   "cell_type": "code",
   "execution_count": 23,
   "metadata": {
    "ExecuteTime": {
     "end_time": "2022-04-15T06:55:04.548666Z",
     "start_time": "2022-04-15T06:55:04.539164Z"
    }
   },
   "outputs": [
    {
     "data": {
      "text/plain": [
       "torch.Size([99, 1, 2])"
      ]
     },
     "execution_count": 23,
     "metadata": {},
     "output_type": "execute_result"
    }
   ],
   "source": [
    "train_x.shape"
   ]
  },
  {
   "cell_type": "code",
   "execution_count": null,
   "metadata": {
    "ExecuteTime": {
     "end_time": "2022-04-12T07:45:22.486263Z",
     "start_time": "2022-04-12T07:45:22.372257Z"
    },
    "collapsed": true
   },
   "outputs": [],
   "source": [
    "net=LSTM_REG(2,4)\n",
    "loss=nn.MSELoss()\n",
    "optimizer=optim.Adam(net.parameters(),lr=1e-2)"
   ]
  },
  {
   "cell_type": "code",
   "execution_count": null,
   "metadata": {
    "ExecuteTime": {
     "end_time": "2022-04-12T07:47:50.256715Z",
     "start_time": "2022-04-12T07:47:15.528729Z"
    }
   },
   "outputs": [],
   "source": [
    "for e in range(1000):\n",
    "    x=train_x\n",
    "    y=train_y\n",
    "    l=loss(net(x),y)\n",
    "    optimizer.zero_grad()\n",
    "    l.backward()\n",
    "    optimizer.step()\n",
    "    if (e+1) % 100 ==0:\n",
    "        print('epochs %d ,loss : %.5f ' % (e+1,l.item()))"
   ]
  },
  {
   "cell_type": "code",
   "execution_count": 22,
   "metadata": {
    "ExecuteTime": {
     "end_time": "2022-04-15T06:54:56.117595Z",
     "start_time": "2022-04-15T06:54:56.106093Z"
    }
   },
   "outputs": [
    {
     "data": {
      "text/plain": [
       "torch.Size([99, 1, 2])"
      ]
     },
     "execution_count": 22,
     "metadata": {},
     "output_type": "execute_result"
    }
   ],
   "source": [
    "train_x.shape"
   ]
  },
  {
   "cell_type": "code",
   "execution_count": 24,
   "metadata": {
    "ExecuteTime": {
     "end_time": "2022-04-15T07:19:49.623246Z",
     "start_time": "2022-04-15T07:19:49.611245Z"
    }
   },
   "outputs": [
    {
     "data": {
      "text/plain": [
       "torch.Size([99, 1, 1])"
      ]
     },
     "execution_count": 24,
     "metadata": {},
     "output_type": "execute_result"
    }
   ],
   "source": [
    "train_y.shape"
   ]
  },
  {
   "cell_type": "markdown",
   "metadata": {},
   "source": [
    "### add h and c"
   ]
  },
  {
   "cell_type": "code",
   "execution_count": null,
   "metadata": {
    "ExecuteTime": {
     "end_time": "2022-04-12T08:29:30.841741Z",
     "start_time": "2022-04-12T08:29:30.818739Z"
    },
    "collapsed": true
   },
   "outputs": [],
   "source": [
    "class LSTM_REG2(nn.Module):\n",
    "    def __init__(self, input_size, hidden_size, output_size, num_layers=2):\n",
    "        super().__init__()\n",
    "        self.rnn = nn.LSTM(input_size, hidden_size, num_layers)\n",
    "        self.reg = nn.Linear(hidden_size, output_size)\n",
    "        self.state = None\n",
    "\n",
    "    def forward(self, x, state):\n",
    "        x, self.state = self.rnn(x, state)\n",
    "        s, b, in_s = x.shape\n",
    "        x = x.view(s * b, in_s)\n",
    "        x = self.reg(x)\n",
    "        x = x.view(s, b, -1)\n",
    "        return x, self.state"
   ]
  },
  {
   "cell_type": "code",
   "execution_count": null,
   "metadata": {
    "ExecuteTime": {
     "end_time": "2022-04-12T08:30:15.681305Z",
     "start_time": "2022-04-12T08:30:15.670305Z"
    },
    "collapsed": true
   },
   "outputs": [],
   "source": [
    "net2=LSTM_REG2(2,4,1)\n",
    "loss=nn.MSELoss()\n",
    "optimizer=optim.Adam(net2.parameters(),lr=1e-2)"
   ]
  },
  {
   "cell_type": "code",
   "execution_count": null,
   "metadata": {
    "ExecuteTime": {
     "end_time": "2022-04-12T08:36:13.610778Z",
     "start_time": "2022-04-12T08:35:06.018912Z"
    }
   },
   "outputs": [],
   "source": [
    "state=None\n",
    "for e in range(2000):\n",
    "    x=train_x\n",
    "    y=train_y\n",
    "    if state is not None:\n",
    "        state=(state[0].detach(),state[1].detach())\n",
    "    (y_hat,state)=net2(x,state)\n",
    "    l=loss(y_hat,y)\n",
    "    optimizer.zero_grad()\n",
    "    l.backward()\n",
    "    optimizer.step()\n",
    "    if (e+1) % 100 ==0:\n",
    "        print('epoch %d,loss : %.5f' % (e+1,l.item()))"
   ]
  },
  {
   "cell_type": "code",
   "execution_count": null,
   "metadata": {
    "collapsed": true
   },
   "outputs": [],
   "source": []
  },
  {
   "cell_type": "code",
   "execution_count": null,
   "metadata": {
    "collapsed": true
   },
   "outputs": [],
   "source": []
  }
 ],
 "metadata": {
  "kernelspec": {
   "display_name": "Python 3",
   "language": "python",
   "name": "python3"
  },
  "language_info": {
   "codemirror_mode": {
    "name": "ipython",
    "version": 3
   },
   "file_extension": ".py",
   "mimetype": "text/x-python",
   "name": "python",
   "nbconvert_exporter": "python",
   "pygments_lexer": "ipython3",
   "version": "3.6.3"
  }
 },
 "nbformat": 4,
 "nbformat_minor": 2
}
