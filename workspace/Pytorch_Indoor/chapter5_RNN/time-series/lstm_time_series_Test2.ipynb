{
 "cells": [
  {
   "cell_type": "code",
   "execution_count": 1,
   "metadata": {
    "ExecuteTime": {
     "end_time": "2022-03-27T12:39:19.249059Z",
     "start_time": "2022-03-27T12:39:03.389152Z"
    }
   },
   "outputs": [
    {
     "name": "stdout",
     "output_type": "stream",
     "text": [
      "Using matplotlib backend: Qt5Agg\n"
     ]
    }
   ],
   "source": [
    "import torch \n",
    "import torchvision\n",
    "from torch import nn,optim\n",
    "import numpy as np\n",
    "import pandas as pd\n",
    "import matplotlib.pyplot as plt\n",
    "%matplotlib auto"
   ]
  },
  {
   "cell_type": "code",
   "execution_count": 2,
   "metadata": {
    "ExecuteTime": {
     "end_time": "2022-03-27T12:39:19.886095Z",
     "start_time": "2022-03-27T12:39:19.693084Z"
    },
    "collapsed": true
   },
   "outputs": [],
   "source": [
    "data_csv=pd.read_csv('./data.csv',usecols=[1])"
   ]
  },
  {
   "cell_type": "code",
   "execution_count": 3,
   "metadata": {
    "ExecuteTime": {
     "end_time": "2022-03-27T12:39:21.585192Z",
     "start_time": "2022-03-27T12:39:21.577192Z"
    }
   },
   "outputs": [
    {
     "data": {
      "text/plain": [
       "(145, 1)"
      ]
     },
     "execution_count": 3,
     "metadata": {},
     "output_type": "execute_result"
    }
   ],
   "source": [
    "data_csv.shape"
   ]
  },
  {
   "cell_type": "code",
   "execution_count": 8,
   "metadata": {
    "ExecuteTime": {
     "end_time": "2022-03-27T13:02:48.211647Z",
     "start_time": "2022-03-27T13:02:48.200646Z"
    },
    "collapsed": true
   },
   "outputs": [],
   "source": [
    "data_csv=data_csv.dropna()\n",
    "dataset=data_csv.apply(lambda x : x/(x.max()-x.min()))\n",
    "dataset=dataset.values\n",
    "dataset=dataset.astype('float32')"
   ]
  },
  {
   "cell_type": "code",
   "execution_count": 9,
   "metadata": {
    "ExecuteTime": {
     "end_time": "2022-03-27T13:02:48.695675Z",
     "start_time": "2022-03-27T13:02:48.688674Z"
    }
   },
   "outputs": [
    {
     "data": {
      "text/plain": [
       "(144, 1)"
      ]
     },
     "execution_count": 9,
     "metadata": {},
     "output_type": "execute_result"
    }
   ],
   "source": [
    "dataset.shape"
   ]
  },
  {
   "cell_type": "code",
   "execution_count": 10,
   "metadata": {
    "ExecuteTime": {
     "end_time": "2022-03-27T13:02:49.046695Z",
     "start_time": "2022-03-27T13:02:49.040694Z"
    },
    "collapsed": true
   },
   "outputs": [],
   "source": [
    "dataX,dataY=[],[]\n",
    "for i in range(len(dataset)-2):\n",
    "    dataX.append(dataset[i:i+2])\n",
    "    dataY.append(dataset[i+2])"
   ]
  },
  {
   "cell_type": "code",
   "execution_count": 11,
   "metadata": {
    "ExecuteTime": {
     "end_time": "2022-03-27T13:02:50.058753Z",
     "start_time": "2022-03-27T13:02:50.047752Z"
    }
   },
   "outputs": [
    {
     "data": {
      "text/plain": [
       "[array([[0.8050193 ],\n",
       "        [0.75482625]], dtype=float32), array([[0.75482625],\n",
       "        [0.8088803 ]], dtype=float32), array([[0.8088803 ],\n",
       "        [0.88996136]], dtype=float32), array([[0.88996136],\n",
       "        [0.9111969 ]], dtype=float32), array([[0.9111969],\n",
       "        [1.0328186]], dtype=float32), array([[1.0328186],\n",
       "        [1.2007722]], dtype=float32), array([[1.2007722],\n",
       "        [1.1698842]], dtype=float32), array([[1.1698842],\n",
       "        [0.980695 ]], dtype=float32), array([[0.980695  ],\n",
       "        [0.88996136]], dtype=float32), array([[0.88996136],\n",
       "        [0.7528958 ]], dtype=float32)]"
      ]
     },
     "execution_count": 11,
     "metadata": {},
     "output_type": "execute_result"
    }
   ],
   "source": [
    "dataX[-10:]"
   ]
  },
  {
   "cell_type": "code",
   "execution_count": 12,
   "metadata": {
    "ExecuteTime": {
     "end_time": "2022-03-27T13:03:09.340855Z",
     "start_time": "2022-03-27T13:03:09.330855Z"
    }
   },
   "outputs": [
    {
     "data": {
      "text/plain": [
       "[array([0.8088803], dtype=float32),\n",
       " array([0.88996136], dtype=float32),\n",
       " array([0.9111969], dtype=float32),\n",
       " array([1.0328186], dtype=float32),\n",
       " array([1.2007722], dtype=float32),\n",
       " array([1.1698842], dtype=float32),\n",
       " array([0.980695], dtype=float32),\n",
       " array([0.88996136], dtype=float32),\n",
       " array([0.7528958], dtype=float32),\n",
       " array([0.8339768], dtype=float32)]"
      ]
     },
     "execution_count": 12,
     "metadata": {},
     "output_type": "execute_result"
    }
   ],
   "source": [
    "dataY[-10:]"
   ]
  },
  {
   "cell_type": "code",
   "execution_count": 13,
   "metadata": {
    "ExecuteTime": {
     "end_time": "2022-03-27T13:11:00.612811Z",
     "start_time": "2022-03-27T13:11:00.606810Z"
    },
    "collapsed": true
   },
   "outputs": [],
   "source": [
    "train_size=int(len(dataX)*0.7)\n",
    "test_size=len(dataX)-train_size\n",
    "train_X=dataX[:train_size]\n",
    "train_Y=dataY[:train_size]\n",
    "test_X=dataX[train_size:]\n",
    "test_Y=dataY[train_size:]"
   ]
  },
  {
   "cell_type": "code",
   "execution_count": 15,
   "metadata": {
    "ExecuteTime": {
     "end_time": "2022-03-27T13:31:39.809689Z",
     "start_time": "2022-03-27T13:31:39.802688Z"
    }
   },
   "outputs": [
    {
     "data": {
      "text/plain": [
       "(2, 1)"
      ]
     },
     "execution_count": 15,
     "metadata": {},
     "output_type": "execute_result"
    }
   ],
   "source": [
    "train_X[0].shape"
   ]
  },
  {
   "cell_type": "code",
   "execution_count": 16,
   "metadata": {
    "ExecuteTime": {
     "end_time": "2022-03-27T13:34:08.361185Z",
     "start_time": "2022-03-27T13:34:08.213177Z"
    },
    "collapsed": true
   },
   "outputs": [],
   "source": [
    "train_x=torch.Tensor(train_X).reshape(-1,1,2)\n",
    "train_y=torch.Tensor(train_Y).reshape(-1,1,1)\n",
    "test_x=torch.Tensor(test_X).reshape(-1,1,2)\n",
    "test_y=torch.Tensor(test_Y).reshape(-1,1,1)"
   ]
  },
  {
   "cell_type": "code",
   "execution_count": 17,
   "metadata": {
    "ExecuteTime": {
     "end_time": "2022-03-27T13:34:16.183633Z",
     "start_time": "2022-03-27T13:34:16.177632Z"
    }
   },
   "outputs": [
    {
     "data": {
      "text/plain": [
       "torch.Size([99, 1, 2])"
      ]
     },
     "execution_count": 17,
     "metadata": {},
     "output_type": "execute_result"
    }
   ],
   "source": [
    "train_x.shape"
   ]
  },
  {
   "cell_type": "code",
   "execution_count": 18,
   "metadata": {
    "ExecuteTime": {
     "end_time": "2022-03-27T13:38:43.492922Z",
     "start_time": "2022-03-27T13:38:43.484921Z"
    },
    "collapsed": true
   },
   "outputs": [],
   "source": [
    "class LSTM_REG(nn.Module):\n",
    "    def __init__(self,input_size,hidden_size,output_size=1,num_layers=2):\n",
    "        super().__init__()\n",
    "        self.rnn=nn.LSTM(input_size,hidden_size,num_layers)\n",
    "        self.reg=nn.Linear(hidden_size,output_size)\n",
    "        \n",
    "    def forward(self,x):\n",
    "        x,_=self.rnn(x)\n",
    "        s,b,h=x.shape\n",
    "        x=x.view(s*b,h)\n",
    "        x=self.reg(x)\n",
    "        x=x.view(s,b,-1)\n",
    "        return x"
   ]
  },
  {
   "cell_type": "code",
   "execution_count": 20,
   "metadata": {
    "ExecuteTime": {
     "end_time": "2022-03-27T13:44:34.712010Z",
     "start_time": "2022-03-27T13:43:53.828672Z"
    }
   },
   "outputs": [
    {
     "name": "stdout",
     "output_type": "stream",
     "text": [
      "epoch 100,loss : 0.00372\n",
      "epoch 200,loss : 0.00360\n",
      "epoch 300,loss : 0.00355\n",
      "epoch 400,loss : 0.00335\n",
      "epoch 500,loss : 0.00357\n",
      "epoch 600,loss : 0.00310\n",
      "epoch 700,loss : 0.00214\n",
      "epoch 800,loss : 0.00136\n",
      "epoch 900,loss : 0.00124\n",
      "epoch 1000,loss : 0.00109\n"
     ]
    }
   ],
   "source": [
    "net=LSTM_REG(2,4)\n",
    "loss=nn.MSELoss()\n",
    "optimizer=optim.Adam(net.parameters(),lr=1e-2)\n",
    "for e in range(1000):\n",
    "    x=train_x\n",
    "    y=train_y\n",
    "    l=loss(net(x),y)\n",
    "    optimizer.zero_grad()\n",
    "    l.backward()\n",
    "    optimizer.step()\n",
    "    if (e+1) % 100 ==0:\n",
    "        print('epoch %d,loss : %.5f' % (e+1,l.item()))"
   ]
  },
  {
   "cell_type": "markdown",
   "metadata": {},
   "source": [
    "#### add h and c"
   ]
  },
  {
   "cell_type": "code",
   "execution_count": 22,
   "metadata": {
    "ExecuteTime": {
     "end_time": "2022-03-27T13:50:42.219031Z",
     "start_time": "2022-03-27T13:50:42.211030Z"
    },
    "collapsed": true
   },
   "outputs": [],
   "source": [
    "class LSTM_REG2(nn.Module):\n",
    "    def __init__(self,input_size,hidden_size,output_size=1,num_layers=2):\n",
    "        super().__init__()\n",
    "        self.rnn=nn.LSTM(input_size,hidden_size,num_layers)\n",
    "        self.reg=nn.Linear(hidden_size,output_size)\n",
    "        self.state=None\n",
    "    \n",
    "    def forward(self,x,state):\n",
    "        x,self.state=self.rnn(x,state)\n",
    "        s,b,h=x.shape\n",
    "        x=x.view(s*b,h)\n",
    "        x=self.reg(x)\n",
    "        x=x.view(s,b,-1)\n",
    "        return x,self.state"
   ]
  },
  {
   "cell_type": "code",
   "execution_count": 25,
   "metadata": {
    "ExecuteTime": {
     "end_time": "2022-03-27T13:59:34.836495Z",
     "start_time": "2022-03-27T13:58:14.601906Z"
    }
   },
   "outputs": [
    {
     "name": "stdout",
     "output_type": "stream",
     "text": [
      "epoch 100,loss : 0.01936\n",
      "epoch 200,loss : 0.01795\n",
      "epoch 300,loss : 0.00552\n",
      "epoch 400,loss : 0.00333\n",
      "epoch 500,loss : 0.00240\n",
      "epoch 600,loss : 0.00202\n",
      "epoch 700,loss : 0.00189\n",
      "epoch 800,loss : 0.00182\n",
      "epoch 900,loss : 0.00177\n",
      "epoch 1000,loss : 0.00173\n",
      "epoch 1100,loss : 0.00169\n",
      "epoch 1200,loss : 0.00167\n",
      "epoch 1300,loss : 0.00166\n",
      "epoch 1400,loss : 0.00165\n",
      "epoch 1500,loss : 0.00165\n",
      "epoch 1600,loss : 0.00164\n",
      "epoch 1700,loss : 0.00164\n",
      "epoch 1800,loss : 0.00164\n",
      "epoch 1900,loss : 0.00163\n",
      "epoch 2000,loss : 0.00163\n"
     ]
    }
   ],
   "source": [
    "net=LSTM_REG2(2,4)\n",
    "loss=nn.MSELoss()\n",
    "optimizer=optim.Adam(net.parameters(),lr=1e-2)\n",
    "state=None\n",
    "for e in range(2000):\n",
    "    x=train_x\n",
    "    y=train_y\n",
    "    if state is not None:\n",
    "        state=(state[0].detach(),state[1].detach())\n",
    "    (y_hat,state)=net(x,state)\n",
    "    l=loss(y_hat,y)\n",
    "    optimizer.zero_grad()\n",
    "    l.backward()\n",
    "    optimizer.step()\n",
    "    if (e+1) % 100 ==0:\n",
    "        print('epoch %d,loss : %.5f' % (e+1,l.item()))\n",
    "    "
   ]
  },
  {
   "cell_type": "code",
   "execution_count": null,
   "metadata": {
    "collapsed": true
   },
   "outputs": [],
   "source": []
  },
  {
   "cell_type": "code",
   "execution_count": null,
   "metadata": {
    "collapsed": true
   },
   "outputs": [],
   "source": []
  },
  {
   "cell_type": "code",
   "execution_count": null,
   "metadata": {
    "collapsed": true
   },
   "outputs": [],
   "source": []
  }
 ],
 "metadata": {
  "kernelspec": {
   "display_name": "Python 3",
   "language": "python",
   "name": "python3"
  },
  "language_info": {
   "codemirror_mode": {
    "name": "ipython",
    "version": 3
   },
   "file_extension": ".py",
   "mimetype": "text/x-python",
   "name": "python",
   "nbconvert_exporter": "python",
   "pygments_lexer": "ipython3",
   "version": "3.6.3"
  }
 },
 "nbformat": 4,
 "nbformat_minor": 2
}
