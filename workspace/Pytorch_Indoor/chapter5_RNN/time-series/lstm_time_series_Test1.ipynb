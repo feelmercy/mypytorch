{
 "cells": [
  {
   "cell_type": "code",
   "execution_count": 1,
   "metadata": {
    "ExecuteTime": {
     "end_time": "2022-03-24T07:11:08.945478Z",
     "start_time": "2022-03-24T07:11:08.285441Z"
    }
   },
   "outputs": [
    {
     "name": "stdout",
     "output_type": "stream",
     "text": [
      "Using matplotlib backend: Qt5Agg\n"
     ]
    }
   ],
   "source": [
    "import torch \n",
    "import torchvision\n",
    "from torch import nn,optim\n",
    "import numpy as np\n",
    "import pandas as pd\n",
    "import matplotlib.pyplot as plt\n",
    "%matplotlib auto"
   ]
  },
  {
   "cell_type": "code",
   "execution_count": 2,
   "metadata": {
    "ExecuteTime": {
     "end_time": "2022-03-24T07:11:47.885706Z",
     "start_time": "2022-03-24T07:11:47.861704Z"
    },
    "collapsed": true
   },
   "outputs": [],
   "source": [
    "data_csv=pd.read_csv('./data.csv',usecols=[1])"
   ]
  },
  {
   "cell_type": "code",
   "execution_count": 4,
   "metadata": {
    "ExecuteTime": {
     "end_time": "2022-03-24T07:11:55.175123Z",
     "start_time": "2022-03-24T07:11:55.170122Z"
    }
   },
   "outputs": [
    {
     "data": {
      "text/plain": [
       "(145, 1)"
      ]
     },
     "execution_count": 4,
     "metadata": {},
     "output_type": "execute_result"
    }
   ],
   "source": [
    "data_csv.shape"
   ]
  },
  {
   "cell_type": "code",
   "execution_count": 5,
   "metadata": {
    "ExecuteTime": {
     "end_time": "2022-03-24T07:16:35.426152Z",
     "start_time": "2022-03-24T07:16:35.406151Z"
    },
    "collapsed": true
   },
   "outputs": [],
   "source": [
    "data_csv=data_csv.dropna()\n",
    "dataset=data_csv.apply(lambda x : x/ (x.max()-x.min()))\n",
    "dataset=dataset.values\n",
    "dataset=dataset.astype('float32')"
   ]
  },
  {
   "cell_type": "code",
   "execution_count": 6,
   "metadata": {
    "ExecuteTime": {
     "end_time": "2022-03-24T07:16:41.393493Z",
     "start_time": "2022-03-24T07:16:41.383493Z"
    }
   },
   "outputs": [
    {
     "data": {
      "text/plain": [
       "(144, 1)"
      ]
     },
     "execution_count": 6,
     "metadata": {},
     "output_type": "execute_result"
    }
   ],
   "source": [
    "dataset.shape"
   ]
  },
  {
   "cell_type": "code",
   "execution_count": 7,
   "metadata": {
    "ExecuteTime": {
     "end_time": "2022-03-24T07:19:48.975222Z",
     "start_time": "2022-03-24T07:19:48.970222Z"
    },
    "collapsed": true
   },
   "outputs": [],
   "source": [
    "dataX, dataY = [], []\n",
    "for i in range(len(dataset)-2):\n",
    "    dataX.append(dataset[i:i+2])\n",
    "    dataY.append(dataset[i+2])"
   ]
  },
  {
   "cell_type": "code",
   "execution_count": 8,
   "metadata": {
    "ExecuteTime": {
     "end_time": "2022-03-24T07:22:11.001346Z",
     "start_time": "2022-03-24T07:22:10.987345Z"
    }
   },
   "outputs": [
    {
     "data": {
      "text/plain": [
       "[array([[0.8050193 ],\n",
       "        [0.75482625]], dtype=float32), array([[0.75482625],\n",
       "        [0.8088803 ]], dtype=float32), array([[0.8088803 ],\n",
       "        [0.88996136]], dtype=float32), array([[0.88996136],\n",
       "        [0.9111969 ]], dtype=float32), array([[0.9111969],\n",
       "        [1.0328186]], dtype=float32), array([[1.0328186],\n",
       "        [1.2007722]], dtype=float32), array([[1.2007722],\n",
       "        [1.1698842]], dtype=float32), array([[1.1698842],\n",
       "        [0.980695 ]], dtype=float32), array([[0.980695  ],\n",
       "        [0.88996136]], dtype=float32), array([[0.88996136],\n",
       "        [0.7528958 ]], dtype=float32)]"
      ]
     },
     "execution_count": 8,
     "metadata": {},
     "output_type": "execute_result"
    }
   ],
   "source": [
    "dataX[-10:]"
   ]
  },
  {
   "cell_type": "code",
   "execution_count": 10,
   "metadata": {
    "ExecuteTime": {
     "end_time": "2022-03-24T07:22:25.833194Z",
     "start_time": "2022-03-24T07:22:25.817193Z"
    }
   },
   "outputs": [
    {
     "data": {
      "text/plain": [
       "[array([0.8088803], dtype=float32),\n",
       " array([0.88996136], dtype=float32),\n",
       " array([0.9111969], dtype=float32),\n",
       " array([1.0328186], dtype=float32),\n",
       " array([1.2007722], dtype=float32),\n",
       " array([1.1698842], dtype=float32),\n",
       " array([0.980695], dtype=float32),\n",
       " array([0.88996136], dtype=float32),\n",
       " array([0.7528958], dtype=float32),\n",
       " array([0.8339768], dtype=float32)]"
      ]
     },
     "execution_count": 10,
     "metadata": {},
     "output_type": "execute_result"
    }
   ],
   "source": [
    "dataY[-10:]"
   ]
  },
  {
   "cell_type": "code",
   "execution_count": 12,
   "metadata": {
    "ExecuteTime": {
     "end_time": "2022-03-24T07:24:32.090416Z",
     "start_time": "2022-03-24T07:24:32.078415Z"
    }
   },
   "outputs": [],
   "source": [
    "train_size=int(len(dataX)*0.7)\n",
    "test_size=len(dataX)-train_size\n",
    "train_X=dataX[:train_size]\n",
    "train_Y=dataY[:train_size]\n",
    "test_X=dataX[train_size:]\n",
    "test_Y=dataY[train_size:]"
   ]
  },
  {
   "cell_type": "code",
   "execution_count": 17,
   "metadata": {
    "ExecuteTime": {
     "end_time": "2022-03-24T07:28:44.676863Z",
     "start_time": "2022-03-24T07:28:44.659862Z"
    }
   },
   "outputs": [],
   "source": [
    "train_x=torch.Tensor(train_X).reshape(-1,1,2)\n",
    "train_y=torch.Tensor(train_Y).reshape(-1,1,1)\n",
    "test_x=torch.Tensor(test_X).reshape(-1,1,2)\n",
    "test_y=torch.Tensor(test_Y).reshape(-1,1,1)"
   ]
  },
  {
   "cell_type": "code",
   "execution_count": 18,
   "metadata": {
    "ExecuteTime": {
     "end_time": "2022-03-24T07:28:47.286012Z",
     "start_time": "2022-03-24T07:28:47.268011Z"
    }
   },
   "outputs": [
    {
     "data": {
      "text/plain": [
       "torch.Size([99, 1, 2])"
      ]
     },
     "execution_count": 18,
     "metadata": {},
     "output_type": "execute_result"
    }
   ],
   "source": [
    "train_x.shape"
   ]
  },
  {
   "cell_type": "code",
   "execution_count": 19,
   "metadata": {
    "ExecuteTime": {
     "end_time": "2022-03-24T07:58:02.630412Z",
     "start_time": "2022-03-24T07:58:02.599410Z"
    },
    "collapsed": true
   },
   "outputs": [],
   "source": [
    "class LSTM_REG(nn.Module):\n",
    "    def __init__(self,input_size,hidden_size,output_size=1,num_layers=2):\n",
    "        super().__init__()\n",
    "        self.rnn=nn.LSTM(input_size,hidden_size,num_layers)\n",
    "        self.reg=nn.Linear(hidden_size,output_size)\n",
    "        \n",
    "    def forward(self,x):\n",
    "        x,_=self.rnn(x)\n",
    "        s,b,h=x.shape\n",
    "        x=x.view(s*b,h)\n",
    "        x=self.reg(x)\n",
    "        x=x.view(s,b,-1)\n",
    "        return x"
   ]
  },
  {
   "cell_type": "code",
   "execution_count": 39,
   "metadata": {
    "ExecuteTime": {
     "end_time": "2022-03-24T08:24:10.148069Z",
     "start_time": "2022-03-24T08:23:12.760786Z"
    }
   },
   "outputs": [
    {
     "name": "stdout",
     "output_type": "stream",
     "text": [
      "epoch 100,loss : 0.00526\n",
      "epoch 200,loss : 0.00403\n",
      "epoch 300,loss : 0.00372\n",
      "epoch 400,loss : 0.00293\n",
      "epoch 500,loss : 0.00202\n",
      "epoch 600,loss : 0.00164\n",
      "epoch 700,loss : 0.00151\n",
      "epoch 800,loss : 0.00145\n",
      "epoch 900,loss : 0.00143\n",
      "epoch 1000,loss : 0.00138\n"
     ]
    }
   ],
   "source": [
    "net=LSTM_REG(2,4)\n",
    "loss=nn.MSELoss()\n",
    "optimizer=optim.Adam(net.parameters(),lr=1e-2)\n",
    "for e in range(1000):\n",
    "#     for x,y in zip(train_x,train_y):\n",
    "    x=train_x\n",
    "    y=train_y\n",
    "    l=loss(net(x),y)\n",
    "    optimizer.zero_grad()\n",
    "    l.backward()\n",
    "    optimizer.step()\n",
    "    if (e+1)  % 100 ==0:\n",
    "        print('epoch %d,loss : %.5f' % (e+1,l.item()))\n",
    "    "
   ]
  },
  {
   "cell_type": "code",
   "execution_count": 26,
   "metadata": {
    "ExecuteTime": {
     "end_time": "2022-03-24T08:08:02.112700Z",
     "start_time": "2022-03-24T08:08:02.104700Z"
    }
   },
   "outputs": [
    {
     "data": {
      "text/plain": [
       "torch.Size([99, 1, 2])"
      ]
     },
     "execution_count": 26,
     "metadata": {},
     "output_type": "execute_result"
    }
   ],
   "source": [
    "train_x.shape"
   ]
  },
  {
   "cell_type": "code",
   "execution_count": 30,
   "metadata": {
    "ExecuteTime": {
     "end_time": "2022-03-24T08:08:59.171964Z",
     "start_time": "2022-03-24T08:08:59.165964Z"
    }
   },
   "outputs": [
    {
     "name": "stdout",
     "output_type": "stream",
     "text": [
      "99\n",
      "99\n"
     ]
    }
   ],
   "source": [
    "for i in (train_x,train_y):\n",
    "    print(len(i))\n",
    "#     print(x.shape,y.shape)"
   ]
  },
  {
   "cell_type": "markdown",
   "metadata": {
    "ExecuteTime": {
     "end_time": "2022-03-24T09:18:13.060553Z",
     "start_time": "2022-03-24T09:18:13.055552Z"
    }
   },
   "source": [
    "#### add h and c"
   ]
  },
  {
   "cell_type": "code",
   "execution_count": 41,
   "metadata": {
    "ExecuteTime": {
     "end_time": "2022-03-24T09:44:44.901601Z",
     "start_time": "2022-03-24T09:44:44.865599Z"
    },
    "collapsed": true
   },
   "outputs": [],
   "source": [
    "class LSTM_REG2(nn.Module):\n",
    "    def __init__(self,input_size,hidden_size,output_size=1,num_layers=2):\n",
    "        super().__init__()\n",
    "        self.rnn=nn.LSTM(input_size,hidden_size,num_layers)\n",
    "        self.reg=nn.Linear(hidden_size,output_size)\n",
    "        self.state=None\n",
    "        \n",
    "    def forward(self,x,state):\n",
    "        x,self.state=self.rnn(x,state)\n",
    "        s,b,h=x.shape\n",
    "        x=x.view(s*b,h)\n",
    "        x=self.reg(x)\n",
    "        x=x.view(s,b,-1)\n",
    "        return x,self.state"
   ]
  },
  {
   "cell_type": "code",
   "execution_count": 42,
   "metadata": {
    "ExecuteTime": {
     "end_time": "2022-03-24T09:50:01.389703Z",
     "start_time": "2022-03-24T09:49:02.065310Z"
    }
   },
   "outputs": [
    {
     "name": "stdout",
     "output_type": "stream",
     "text": [
      "epoch 100,loss : 0.00769\n",
      "epoch 200,loss : 0.00372\n",
      "epoch 300,loss : 0.00207\n",
      "epoch 400,loss : 0.00162\n",
      "epoch 500,loss : 0.00143\n",
      "epoch 600,loss : 0.00124\n",
      "epoch 700,loss : 0.00111\n",
      "epoch 800,loss : 0.00101\n",
      "epoch 900,loss : 0.00088\n",
      "epoch 1000,loss : 0.00073\n"
     ]
    }
   ],
   "source": [
    "net=LSTM_REG2(2,4)\n",
    "loss=nn.MSELoss()\n",
    "optimizer=optim.Adam(net.parameters(),lr=1e-2)\n",
    "state=None\n",
    "for e in range(1000):\n",
    "#     for x,y in zip(train_x,train_y):\n",
    "    x=train_x\n",
    "    y=train_y\n",
    "    if state is not None:\n",
    "        state=(state[0].detach(),state[1].detach())\n",
    "    (y_hat,state)=net(x,state)\n",
    "    l=loss(y_hat,y)\n",
    "    optimizer.zero_grad()\n",
    "    l.backward()\n",
    "    optimizer.step()\n",
    "    if (e+1)  % 100 ==0:\n",
    "        print('epoch %d,loss : %.5f' % (e+1,l.item()))\n",
    "    "
   ]
  },
  {
   "cell_type": "code",
   "execution_count": null,
   "metadata": {
    "collapsed": true
   },
   "outputs": [],
   "source": []
  }
 ],
 "metadata": {
  "kernelspec": {
   "display_name": "Python 3",
   "language": "python",
   "name": "python3"
  },
  "language_info": {
   "codemirror_mode": {
    "name": "ipython",
    "version": 3
   },
   "file_extension": ".py",
   "mimetype": "text/x-python",
   "name": "python",
   "nbconvert_exporter": "python",
   "pygments_lexer": "ipython3",
   "version": "3.6.3"
  }
 },
 "nbformat": 4,
 "nbformat_minor": 2
}
