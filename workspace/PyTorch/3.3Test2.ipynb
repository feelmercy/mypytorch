{
 "cells": [
  {
   "cell_type": "code",
   "execution_count": 1,
   "metadata": {
    "ExecuteTime": {
     "end_time": "2021-01-08T06:48:17.897059Z",
     "start_time": "2021-01-08T06:48:17.548039Z"
    },
    "collapsed": true
   },
   "outputs": [],
   "source": [
    "import torch\n",
    "import numpy as np"
   ]
  },
  {
   "cell_type": "code",
   "execution_count": 2,
   "metadata": {
    "ExecuteTime": {
     "end_time": "2021-01-08T06:48:18.618101Z",
     "start_time": "2021-01-08T06:48:18.600100Z"
    },
    "collapsed": true
   },
   "outputs": [],
   "source": [
    "batch_size=10\n",
    "num_inputs=2\n",
    "num_examples=1000\n",
    "features=torch.tensor(np.random.normal(0,1,(num_examples,num_inputs)),\n",
    "                      dtype=torch.float)\n",
    "true_w=[2,-3,4]\n",
    "true_b=4.2\n",
    "labels=true_w[0]*features[:,0]+true_w[1]*features[:,1]+true_b\n",
    "labels+=torch.tensor(np.random.normal(0,0.01,size=labels.size()),dtype=torch.float)"
   ]
  },
  {
   "cell_type": "code",
   "execution_count": 3,
   "metadata": {
    "ExecuteTime": {
     "end_time": "2021-01-08T06:48:19.387145Z",
     "start_time": "2021-01-08T06:48:19.364143Z"
    },
    "collapsed": true
   },
   "outputs": [],
   "source": [
    "import torch.utils.data as Data"
   ]
  },
  {
   "cell_type": "code",
   "execution_count": 4,
   "metadata": {
    "ExecuteTime": {
     "end_time": "2021-01-08T06:48:20.005180Z",
     "start_time": "2021-01-08T06:48:19.996179Z"
    },
    "collapsed": true
   },
   "outputs": [],
   "source": [
    "dataset=Data.TensorDataset(features,labels)\n",
    "data_iter=Data.DataLoader(dataset,batch_size,shuffle=True)"
   ]
  },
  {
   "cell_type": "code",
   "execution_count": 5,
   "metadata": {
    "ExecuteTime": {
     "end_time": "2021-01-08T06:48:20.558212Z",
     "start_time": "2021-01-08T06:48:20.537210Z"
    }
   },
   "outputs": [
    {
     "data": {
      "text/plain": [
       "torch.utils.data.dataset.TensorDataset"
      ]
     },
     "execution_count": 5,
     "metadata": {},
     "output_type": "execute_result"
    }
   ],
   "source": [
    "type(dataset)"
   ]
  },
  {
   "cell_type": "code",
   "execution_count": 6,
   "metadata": {
    "ExecuteTime": {
     "end_time": "2021-01-08T06:48:21.165246Z",
     "start_time": "2021-01-08T06:48:21.103243Z"
    }
   },
   "outputs": [
    {
     "name": "stdout",
     "output_type": "stream",
     "text": [
      "tensor([[ 0.3376, -0.1231],\n",
      "        [-0.3678, -1.5541],\n",
      "        [-0.5825, -0.6905],\n",
      "        [ 0.1848,  0.9517],\n",
      "        [ 0.6958, -1.0191],\n",
      "        [ 1.6008, -0.3877],\n",
      "        [ 0.8311,  0.2024],\n",
      "        [-0.1609,  1.2679],\n",
      "        [ 0.8361,  1.6201],\n",
      "        [-1.8695,  1.9877]]) tensor([ 5.2384,  8.1200,  5.1194,  1.7224,  8.6520,  8.5563,  5.2634,  0.0681,\n",
      "         1.0331, -5.4936])\n"
     ]
    }
   ],
   "source": [
    "for x,y in data_iter:\n",
    "    print(x,y)\n",
    "    break"
   ]
  },
  {
   "cell_type": "code",
   "execution_count": 7,
   "metadata": {
    "ExecuteTime": {
     "end_time": "2021-01-08T06:48:21.642274Z",
     "start_time": "2021-01-08T06:48:21.635273Z"
    },
    "collapsed": true
   },
   "outputs": [],
   "source": [
    "import torch.nn as nn"
   ]
  },
  {
   "cell_type": "code",
   "execution_count": 8,
   "metadata": {
    "ExecuteTime": {
     "end_time": "2021-01-08T06:48:22.195305Z",
     "start_time": "2021-01-08T06:48:22.188305Z"
    },
    "collapsed": true
   },
   "outputs": [],
   "source": [
    "net=nn.Sequential()\n",
    "net.add_module('linearnet',nn.Linear(num_inputs,1))"
   ]
  },
  {
   "cell_type": "code",
   "execution_count": 9,
   "metadata": {
    "ExecuteTime": {
     "end_time": "2021-01-08T06:48:22.834342Z",
     "start_time": "2021-01-08T06:48:22.820341Z"
    }
   },
   "outputs": [
    {
     "name": "stdout",
     "output_type": "stream",
     "text": [
      "Parameter containing:\n",
      "tensor([[-0.4859,  0.4456]], requires_grad=True)\n",
      "Parameter containing:\n",
      "tensor([0.6721], requires_grad=True)\n"
     ]
    }
   ],
   "source": [
    "for param in net.parameters():\n",
    "    print(param)"
   ]
  },
  {
   "cell_type": "code",
   "execution_count": 10,
   "metadata": {
    "ExecuteTime": {
     "end_time": "2021-01-08T06:48:23.918404Z",
     "start_time": "2021-01-08T06:48:23.907403Z"
    }
   },
   "outputs": [
    {
     "name": "stdout",
     "output_type": "stream",
     "text": [
      "Sequential(\n",
      "  (linearnet): Linear(in_features=2, out_features=1, bias=True)\n",
      ")\n",
      "Linear(in_features=2, out_features=1, bias=True)\n"
     ]
    }
   ],
   "source": [
    "print(net)\n",
    "print(net[0])"
   ]
  },
  {
   "cell_type": "code",
   "execution_count": 11,
   "metadata": {
    "ExecuteTime": {
     "end_time": "2021-01-08T06:48:24.730450Z",
     "start_time": "2021-01-08T06:48:24.723450Z"
    },
    "collapsed": true
   },
   "outputs": [],
   "source": [
    "from torch.nn import init"
   ]
  },
  {
   "cell_type": "code",
   "execution_count": 12,
   "metadata": {
    "ExecuteTime": {
     "end_time": "2021-01-08T06:48:25.434490Z",
     "start_time": "2021-01-08T06:48:25.419490Z"
    }
   },
   "outputs": [
    {
     "data": {
      "text/plain": [
       "Parameter containing:\n",
       "tensor([0.], requires_grad=True)"
      ]
     },
     "execution_count": 12,
     "metadata": {},
     "output_type": "execute_result"
    }
   ],
   "source": [
    "init.normal_(net[0].weight,mean=0,std=0.01)\n",
    "init.constant_(net[0].bias,val=0)"
   ]
  },
  {
   "cell_type": "code",
   "execution_count": 13,
   "metadata": {
    "ExecuteTime": {
     "end_time": "2021-01-08T06:48:26.671561Z",
     "start_time": "2021-01-08T06:48:26.664561Z"
    },
    "collapsed": true
   },
   "outputs": [],
   "source": [
    "loss=nn.MSELoss()"
   ]
  },
  {
   "cell_type": "code",
   "execution_count": 14,
   "metadata": {
    "ExecuteTime": {
     "end_time": "2021-01-08T06:48:27.386602Z",
     "start_time": "2021-01-08T06:48:27.379602Z"
    },
    "collapsed": true
   },
   "outputs": [],
   "source": [
    "import torch.optim as optim"
   ]
  },
  {
   "cell_type": "code",
   "execution_count": 15,
   "metadata": {
    "ExecuteTime": {
     "end_time": "2021-01-08T06:48:28.035639Z",
     "start_time": "2021-01-08T06:48:28.027639Z"
    }
   },
   "outputs": [
    {
     "name": "stdout",
     "output_type": "stream",
     "text": [
      "SGD (\n",
      "Parameter Group 0\n",
      "    dampening: 0\n",
      "    lr: 0.03\n",
      "    momentum: 0\n",
      "    nesterov: False\n",
      "    weight_decay: 0\n",
      ")\n"
     ]
    }
   ],
   "source": [
    "optimizer=optim.SGD(net.parameters(),lr=0.03)\n",
    "print(optimizer)"
   ]
  },
  {
   "cell_type": "code",
   "execution_count": 16,
   "metadata": {
    "ExecuteTime": {
     "end_time": "2021-01-08T06:48:29.066698Z",
     "start_time": "2021-01-08T06:48:28.709678Z"
    }
   },
   "outputs": [
    {
     "name": "stdout",
     "output_type": "stream",
     "text": [
      "epoch 0,loss :0.000394\n",
      "epoch 1,loss :0.000125\n",
      "epoch 2,loss :0.000032\n"
     ]
    }
   ],
   "source": [
    "num_epochs=3\n",
    "for epoch in range(num_epochs):\n",
    "    for x,y in data_iter:\n",
    "        output=net(x)\n",
    "        l=loss(output,y.view(output.size()))\n",
    "\n",
    "        l.backward()\n",
    "        optimizer.step()\n",
    "        optimizer.zero_grad()\n",
    "    print('epoch %d,loss :%f' % (epoch,l.item()))\n",
    "        \n",
    "        "
   ]
  },
  {
   "cell_type": "code",
   "execution_count": 17,
   "metadata": {
    "ExecuteTime": {
     "end_time": "2021-01-08T06:48:30.289768Z",
     "start_time": "2021-01-08T06:48:30.276767Z"
    }
   },
   "outputs": [
    {
     "name": "stdout",
     "output_type": "stream",
     "text": [
      "Parameter containing:\n",
      "tensor([[ 1.9997, -3.0005]], requires_grad=True) Parameter containing:\n",
      "tensor([4.1992], requires_grad=True)\n"
     ]
    }
   ],
   "source": [
    "print(net[0].weight,net[0].bias)"
   ]
  },
  {
   "cell_type": "code",
   "execution_count": null,
   "metadata": {
    "collapsed": true
   },
   "outputs": [],
   "source": []
  }
 ],
 "metadata": {
  "kernelspec": {
   "display_name": "Python 3",
   "language": "python",
   "name": "python3"
  },
  "language_info": {
   "codemirror_mode": {
    "name": "ipython",
    "version": 3
   },
   "file_extension": ".py",
   "mimetype": "text/x-python",
   "name": "python",
   "nbconvert_exporter": "python",
   "pygments_lexer": "ipython3",
   "version": "3.6.3"
  }
 },
 "nbformat": 4,
 "nbformat_minor": 2
}
