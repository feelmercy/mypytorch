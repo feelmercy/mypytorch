{
 "cells": [
  {
   "cell_type": "code",
   "execution_count": 5,
   "metadata": {
    "ExecuteTime": {
     "end_time": "2019-12-02T07:33:16.616019Z",
     "start_time": "2019-12-02T07:33:16.609019Z"
    }
   },
   "outputs": [],
   "source": [
    "import torch\n",
    "from time import time"
   ]
  },
  {
   "cell_type": "code",
   "execution_count": 2,
   "metadata": {
    "ExecuteTime": {
     "end_time": "2019-12-02T07:26:48.763835Z",
     "start_time": "2019-12-02T07:26:48.677830Z"
    }
   },
   "outputs": [],
   "source": [
    "a=torch.ones(1000)\n",
    "b=torch.ones(1000)"
   ]
  },
  {
   "cell_type": "code",
   "execution_count": 3,
   "metadata": {
    "ExecuteTime": {
     "end_time": "2019-12-02T07:26:56.257264Z",
     "start_time": "2019-12-02T07:26:56.229262Z"
    }
   },
   "outputs": [
    {
     "data": {
      "text/plain": [
       "torch.Size([1000])"
      ]
     },
     "execution_count": 3,
     "metadata": {},
     "output_type": "execute_result"
    }
   ],
   "source": [
    "a.shape"
   ]
  },
  {
   "cell_type": "code",
   "execution_count": 6,
   "metadata": {
    "ExecuteTime": {
     "end_time": "2019-12-02T07:33:20.139221Z",
     "start_time": "2019-12-02T07:33:19.903207Z"
    }
   },
   "outputs": [
    {
     "name": "stdout",
     "output_type": "stream",
     "text": [
      "0.19901132583618164\n"
     ]
    }
   ],
   "source": [
    "start=time()\n",
    "c=torch.zeros(1000)\n",
    "for i in range(1000):\n",
    "    c[i]=a[i]+b[i]\n",
    "print(time()-start)"
   ]
  },
  {
   "cell_type": "code",
   "execution_count": 7,
   "metadata": {
    "ExecuteTime": {
     "end_time": "2019-12-02T07:33:47.297774Z",
     "start_time": "2019-12-02T07:33:47.285773Z"
    }
   },
   "outputs": [
    {
     "name": "stdout",
     "output_type": "stream",
     "text": [
      "0.0009999275207519531\n"
     ]
    }
   ],
   "source": [
    "start=time()\n",
    "d=a+b\n",
    "print(time()-start)"
   ]
  },
  {
   "cell_type": "code",
   "execution_count": 8,
   "metadata": {
    "ExecuteTime": {
     "end_time": "2019-12-02T07:35:40.001220Z",
     "start_time": "2019-12-02T07:35:39.912215Z"
    }
   },
   "outputs": [
    {
     "name": "stdout",
     "output_type": "stream",
     "text": [
      "tensor([11., 11., 11.])\n"
     ]
    }
   ],
   "source": [
    "a=torch.ones(3)\n",
    "b=10\n",
    "print(a+b)"
   ]
  },
  {
   "cell_type": "code",
   "execution_count": 19,
   "metadata": {
    "ExecuteTime": {
     "end_time": "2019-12-02T08:48:55.751643Z",
     "start_time": "2019-12-02T08:48:55.681639Z"
    }
   },
   "outputs": [],
   "source": [
    "import numpy as np\n",
    "import random\n",
    "%matplotlib inline\n",
    "import matplotlib.pyplot as plt"
   ]
  },
  {
   "cell_type": "code",
   "execution_count": 13,
   "metadata": {
    "ExecuteTime": {
     "end_time": "2019-12-02T08:38:53.038170Z",
     "start_time": "2019-12-02T08:38:53.004168Z"
    }
   },
   "outputs": [],
   "source": [
    "num_inputs=2\n",
    "num_examples=1000\n",
    "true_w=[2,-3,4]\n",
    "true_b=4.2\n",
    "features=torch.from_numpy(np.random.normal(0,1,(num_examples,num_inputs)))\n",
    "labels=true_w[0]*features[:,0]+true_w[1]*features[:,1]+true_b\n",
    "labels+=torch.from_numpy(np.random.normal(0,0.01,size=labels.size()))"
   ]
  },
  {
   "cell_type": "code",
   "execution_count": 14,
   "metadata": {
    "ExecuteTime": {
     "end_time": "2019-12-02T08:39:52.388564Z",
     "start_time": "2019-12-02T08:39:52.379564Z"
    }
   },
   "outputs": [
    {
     "data": {
      "text/plain": [
       "torch.Size([1000])"
      ]
     },
     "execution_count": 14,
     "metadata": {},
     "output_type": "execute_result"
    }
   ],
   "source": [
    "labels.shape"
   ]
  },
  {
   "cell_type": "code",
   "execution_count": 15,
   "metadata": {
    "ExecuteTime": {
     "end_time": "2019-12-02T08:40:40.319306Z",
     "start_time": "2019-12-02T08:40:40.308305Z"
    }
   },
   "outputs": [
    {
     "data": {
      "text/plain": [
       "torch.Size([1000, 2])"
      ]
     },
     "execution_count": 15,
     "metadata": {},
     "output_type": "execute_result"
    }
   ],
   "source": [
    "features.shape"
   ]
  },
  {
   "cell_type": "code",
   "execution_count": 16,
   "metadata": {
    "ExecuteTime": {
     "end_time": "2019-12-02T08:41:11.815107Z",
     "start_time": "2019-12-02T08:41:11.803107Z"
    }
   },
   "outputs": [
    {
     "data": {
      "text/plain": [
       "torch.Size([1000])"
      ]
     },
     "execution_count": 16,
     "metadata": {},
     "output_type": "execute_result"
    }
   ],
   "source": [
    "labels.shape"
   ]
  },
  {
   "cell_type": "code",
   "execution_count": 17,
   "metadata": {
    "ExecuteTime": {
     "end_time": "2019-12-02T08:42:18.941947Z",
     "start_time": "2019-12-02T08:42:18.900944Z"
    }
   },
   "outputs": [
    {
     "name": "stdout",
     "output_type": "stream",
     "text": [
      "tensor([-0.1924,  1.2571], dtype=torch.float64) tensor(0.0503, dtype=torch.float64)\n"
     ]
    }
   ],
   "source": [
    "print(features[0],labels[0])"
   ]
  },
  {
   "cell_type": "code",
   "execution_count": 22,
   "metadata": {
    "ExecuteTime": {
     "end_time": "2019-12-02T08:49:45.620495Z",
     "start_time": "2019-12-02T08:49:45.610495Z"
    }
   },
   "outputs": [
    {
     "data": {
      "text/plain": [
       "torch.Size([1000])"
      ]
     },
     "execution_count": 22,
     "metadata": {},
     "output_type": "execute_result"
    }
   ],
   "source": [
    "labels.size()"
   ]
  },
  {
   "cell_type": "code",
   "execution_count": 24,
   "metadata": {
    "ExecuteTime": {
     "end_time": "2019-12-02T08:50:25.961803Z",
     "start_time": "2019-12-02T08:50:25.955802Z"
    }
   },
   "outputs": [],
   "source": [
    "# plt.scatter(features[:,1].numpy(),labels.numpy(),1)"
   ]
  },
  {
   "cell_type": "code",
   "execution_count": 25,
   "metadata": {
    "ExecuteTime": {
     "end_time": "2019-12-03T02:47:32.185211Z",
     "start_time": "2019-12-03T02:47:32.161210Z"
    }
   },
   "outputs": [],
   "source": [
    "def data_iter(batch_size,features,labels):\n",
    "    num_examples=len(features)\n",
    "    indices=list(range(num_examples))\n",
    "    random.shuffle(indices)\n",
    "    for i in range(0,num_examples,batch_size):\n",
    "        j=torch.LongTensor(indices[i:min(i+batch_size,num_examples)])\n",
    "        yield features.index_select(0,j),labels.index_select(0,j)\n",
    "        "
   ]
  },
  {
   "cell_type": "code",
   "execution_count": 27,
   "metadata": {
    "ExecuteTime": {
     "end_time": "2019-12-03T03:15:26.979004Z",
     "start_time": "2019-12-03T03:15:26.969003Z"
    }
   },
   "outputs": [
    {
     "data": {
      "text/plain": [
       "torch.Size([1000, 2])"
      ]
     },
     "execution_count": 27,
     "metadata": {},
     "output_type": "execute_result"
    }
   ],
   "source": [
    "features.size()"
   ]
  },
  {
   "cell_type": "code",
   "execution_count": 102,
   "metadata": {
    "ExecuteTime": {
     "end_time": "2019-12-05T02:03:44.888533Z",
     "start_time": "2019-12-05T02:03:44.874532Z"
    }
   },
   "outputs": [],
   "source": [
    "def data_iter3(batch_size,features,labels):\n",
    "    num_examples=len(features)\n",
    "    indices=list(range(num_examples))\n",
    "    random.shuffle(indices)\n",
    "    for i in range(0,num_examples,batch_size):\n",
    "        j=torch.LongTensor(indices[i:min(i+batch_size,num_examples)])\n",
    "        yield features.index_select(0,j),labels.index_select(0,j)"
   ]
  },
  {
   "cell_type": "code",
   "execution_count": 103,
   "metadata": {
    "ExecuteTime": {
     "end_time": "2019-12-05T02:03:45.552571Z",
     "start_time": "2019-12-05T02:03:45.537570Z"
    }
   },
   "outputs": [
    {
     "name": "stdout",
     "output_type": "stream",
     "text": [
      "tensor([[-1.9450, -3.1646],\n",
      "        [-1.2700,  0.2320],\n",
      "        [-0.3877, -0.1674],\n",
      "        [-1.3065,  0.2300],\n",
      "        [-1.6681,  0.7105],\n",
      "        [ 1.8033, -0.6474],\n",
      "        [ 0.6044,  0.8189],\n",
      "        [-0.0949, -0.2669],\n",
      "        [ 0.8657,  2.2599],\n",
      "        [ 1.0831,  0.2922]]) tensor([ 9.8059,  0.9515,  3.9383,  0.9020, -1.2765,  9.7435,  2.9616,  4.8166,\n",
      "        -0.8458,  5.4805])\n"
     ]
    }
   ],
   "source": [
    "batch_size=10\n",
    "for x,y in data_iter3(batch_size,features,labels):\n",
    "    print(x,y)\n",
    "    break"
   ]
  },
  {
   "cell_type": "code",
   "execution_count": 28,
   "metadata": {
    "ExecuteTime": {
     "end_time": "2019-12-03T06:28:42.109207Z",
     "start_time": "2019-12-03T06:28:42.098207Z"
    }
   },
   "outputs": [],
   "source": [
    "w=torch.tensor(np.random.normal(0,0.01,(num_inputs,1)),dtype=torch.float32)\n",
    "b=torch.zeros(1,dtype=torch.float32)"
   ]
  },
  {
   "cell_type": "code",
   "execution_count": 29,
   "metadata": {
    "ExecuteTime": {
     "end_time": "2019-12-03T06:31:12.668819Z",
     "start_time": "2019-12-03T06:31:12.609816Z"
    }
   },
   "outputs": [
    {
     "data": {
      "text/plain": [
       "tensor([0.], requires_grad=True)"
      ]
     },
     "execution_count": 29,
     "metadata": {},
     "output_type": "execute_result"
    }
   ],
   "source": [
    "w.requires_grad_(requires_grad=True)\n",
    "b.requires_grad_(requires_grad=True)"
   ]
  },
  {
   "cell_type": "code",
   "execution_count": 50,
   "metadata": {
    "ExecuteTime": {
     "end_time": "2019-12-04T07:38:05.684148Z",
     "start_time": "2019-12-04T07:38:05.615144Z"
    }
   },
   "outputs": [
    {
     "data": {
      "text/plain": [
       "tensor([[0.0151],\n",
       "        [0.0095]], requires_grad=True)"
      ]
     },
     "execution_count": 50,
     "metadata": {},
     "output_type": "execute_result"
    }
   ],
   "source": [
    "w"
   ]
  },
  {
   "cell_type": "code",
   "execution_count": 89,
   "metadata": {
    "ExecuteTime": {
     "end_time": "2019-12-04T09:39:49.573906Z",
     "start_time": "2019-12-04T09:39:49.566906Z"
    }
   },
   "outputs": [],
   "source": [
    "def linreg(X,w,b):\n",
    "    return torch.mm(X,w)+b"
   ]
  },
  {
   "cell_type": "code",
   "execution_count": 90,
   "metadata": {
    "ExecuteTime": {
     "end_time": "2019-12-04T09:39:49.928927Z",
     "start_time": "2019-12-04T09:39:49.922926Z"
    }
   },
   "outputs": [],
   "source": [
    "def squared_loss(y_hat,y):\n",
    "    return (y_hat-y.view(y_hat.size()))**2/2"
   ]
  },
  {
   "cell_type": "code",
   "execution_count": 91,
   "metadata": {
    "ExecuteTime": {
     "end_time": "2019-12-04T09:39:50.293947Z",
     "start_time": "2019-12-04T09:39:50.287947Z"
    }
   },
   "outputs": [],
   "source": [
    "def sgd(params,lr,batch_size):\n",
    "    for param in params:\n",
    "        param.data-=lr  * param.grad / batch_size"
   ]
  },
  {
   "cell_type": "code",
   "execution_count": 96,
   "metadata": {
    "ExecuteTime": {
     "end_time": "2019-12-04T09:42:40.009655Z",
     "start_time": "2019-12-04T09:42:39.872647Z"
    }
   },
   "outputs": [
    {
     "name": "stdout",
     "output_type": "stream",
     "text": [
      "################\n",
      "epoch 0,loss 0.000046\n",
      "################\n",
      "epoch 1,loss 0.000046\n",
      "################\n",
      "epoch 2,loss 0.000046\n"
     ]
    }
   ],
   "source": [
    "lr=0.03\n",
    "num_epochs=3\n",
    "net=linreg\n",
    "loss=squared_loss\n",
    "for epoch in range(num_epochs):\n",
    "    for X,y in data_iter(batch_size,features,labels):\n",
    "        X=X.float()\n",
    "        y=y.float()\n",
    "        l=squared_loss(linreg(X,w,b),y).sum()\n",
    "        l.backward()\n",
    "        sgd([w,b],lr,batch_size)\n",
    "        \n",
    "        w.grad.data.zero_()\n",
    "        b.grad.data.zero_()  \n",
    "#     print('features type',features.dtype)\n",
    "#     print('w type',w.dtype)\n",
    "#     print('b type',b.dtype)\n",
    "#     print('label  type',labels.dtype)\n",
    "    print('################')\n",
    "    labels=labels.float()\n",
    "    train_l=squared_loss(linreg(features,w,b),labels)\n",
    "    print('epoch %d,loss %f' %(epoch+ l,train_l.mean().item()))"
   ]
  },
  {
   "cell_type": "code",
   "execution_count": 86,
   "metadata": {
    "ExecuteTime": {
     "end_time": "2019-12-04T08:27:04.101216Z",
     "start_time": "2019-12-04T08:27:04.090215Z"
    }
   },
   "outputs": [
    {
     "name": "stdout",
     "output_type": "stream",
     "text": [
      "tensor([[ 0.4229,  1.9734],\n",
      "        [ 0.1071,  0.6331],\n",
      "        [ 0.6082, -0.0477],\n",
      "        [ 0.5885, -0.1024],\n",
      "        [ 2.4084,  0.8838],\n",
      "        [-0.7231, -0.4292],\n",
      "        [ 0.0129, -1.7177],\n",
      "        [ 0.9080,  0.7899],\n",
      "        [ 0.1912, -1.7952],\n",
      "        [ 0.5737,  0.1520]]) tensor([-0.8793,  2.4944,  5.5444,  5.6832,  6.3611,  4.0331,  9.3726,  3.6513,\n",
      "         9.9588,  4.8869])\n",
      "#############\n",
      "torch.float32\n",
      "torch.float32\n",
      "tensor([[-5.0740],\n",
      "        [-1.6848],\n",
      "        [ 1.3595],\n",
      "        [ 1.4843],\n",
      "        [ 2.1659],\n",
      "        [-0.1587],\n",
      "        [ 5.1786],\n",
      "        [-0.5533],\n",
      "        [ 5.7678],\n",
      "        [ 0.6914]], grad_fn=<MmBackward>)\n"
     ]
    }
   ],
   "source": [
    "for X,y in data_iter(batch_size,features,labels):\n",
    "    print(X,y)\n",
    "    X=X.float()\n",
    "    print('#############')\n",
    "    print(X.dtype)\n",
    "    print(y.dtype)\n",
    "    print(torch.mm(X,w))\n",
    "    break\n"
   ]
  },
  {
   "cell_type": "code",
   "execution_count": 65,
   "metadata": {
    "ExecuteTime": {
     "end_time": "2019-12-04T07:49:20.563749Z",
     "start_time": "2019-12-04T07:49:20.559748Z"
    }
   },
   "outputs": [
    {
     "data": {
      "text/plain": [
       "torch.float32"
      ]
     },
     "execution_count": 65,
     "metadata": {},
     "output_type": "execute_result"
    }
   ],
   "source": [
    "w.dtype"
   ]
  },
  {
   "cell_type": "code",
   "execution_count": 60,
   "metadata": {
    "ExecuteTime": {
     "end_time": "2019-12-04T07:45:18.218887Z",
     "start_time": "2019-12-04T07:45:18.208887Z"
    }
   },
   "outputs": [
    {
     "data": {
      "text/plain": [
       "torch.Tensor"
      ]
     },
     "execution_count": 60,
     "metadata": {},
     "output_type": "execute_result"
    }
   ],
   "source": [
    "type(w.data[0])"
   ]
  },
  {
   "cell_type": "code",
   "execution_count": 76,
   "metadata": {
    "ExecuteTime": {
     "end_time": "2019-12-04T08:10:12.707367Z",
     "start_time": "2019-12-04T08:10:12.693366Z"
    }
   },
   "outputs": [
    {
     "data": {
      "text/plain": [
       "torch.float32"
      ]
     },
     "execution_count": 76,
     "metadata": {},
     "output_type": "execute_result"
    }
   ],
   "source": [
    "b.dtype"
   ]
  },
  {
   "cell_type": "code",
   "execution_count": 77,
   "metadata": {
    "ExecuteTime": {
     "end_time": "2019-12-04T08:15:35.262816Z",
     "start_time": "2019-12-04T08:15:35.250816Z"
    }
   },
   "outputs": [
    {
     "data": {
      "text/plain": [
       "torch.float64"
      ]
     },
     "execution_count": 77,
     "metadata": {},
     "output_type": "execute_result"
    }
   ],
   "source": [
    "features.dtype"
   ]
  },
  {
   "cell_type": "code",
   "execution_count": 104,
   "metadata": {
    "ExecuteTime": {
     "end_time": "2019-12-05T02:16:17.285568Z",
     "start_time": "2019-12-05T02:16:17.274567Z"
    }
   },
   "outputs": [
    {
     "name": "stdout",
     "output_type": "stream",
     "text": [
      "tensor([[1., 1.],\n",
      "        [1., 1.]], requires_grad=True)\n",
      "None\n"
     ]
    }
   ],
   "source": [
    "x2=torch.ones(2,2,requires_grad=True)\n",
    "print(x2)\n",
    "print(x2.grad_fn)"
   ]
  },
  {
   "cell_type": "code",
   "execution_count": 109,
   "metadata": {
    "ExecuteTime": {
     "end_time": "2019-12-05T07:07:25.378686Z",
     "start_time": "2019-12-05T07:07:25.365685Z"
    }
   },
   "outputs": [
    {
     "name": "stdout",
     "output_type": "stream",
     "text": [
      "tensor([[ 0.0550, -1.1646],\n",
      "        [ 0.7300,  2.2320],\n",
      "        [ 1.6123,  1.8326],\n",
      "        [ 0.6935,  2.2300],\n",
      "        [ 0.3319,  2.7105],\n",
      "        [ 3.8033,  1.3526],\n",
      "        [ 2.6044,  2.8189],\n",
      "        [ 1.9051,  1.7331],\n",
      "        [ 2.8657,  4.2599],\n",
      "        [ 3.0831,  2.2922]])\n",
      "None\n"
     ]
    }
   ],
   "source": [
    "y2=x2+2\n",
    "print(y)\n",
    "print(y.grad_fn)"
   ]
  },
  {
   "cell_type": "code",
   "execution_count": 110,
   "metadata": {
    "ExecuteTime": {
     "end_time": "2019-12-05T07:07:31.442032Z",
     "start_time": "2019-12-05T07:07:31.431032Z"
    }
   },
   "outputs": [
    {
     "name": "stdout",
     "output_type": "stream",
     "text": [
      "True False\n"
     ]
    }
   ],
   "source": [
    "print(x2.is_leaf,y2.is_leaf)"
   ]
  },
  {
   "cell_type": "code",
   "execution_count": 112,
   "metadata": {
    "ExecuteTime": {
     "end_time": "2019-12-05T07:09:17.711111Z",
     "start_time": "2019-12-05T07:09:17.695110Z"
    }
   },
   "outputs": [
    {
     "name": "stdout",
     "output_type": "stream",
     "text": [
      "tensor([[27., 27.],\n",
      "        [27., 27.]], grad_fn=<MulBackward0>) tensor(27., grad_fn=<MeanBackward1>)\n"
     ]
    }
   ],
   "source": [
    "z2=y2*y2*3\n",
    "out2=z2.mean()\n",
    "print(z2,out2)"
   ]
  },
  {
   "cell_type": "code",
   "execution_count": 113,
   "metadata": {
    "ExecuteTime": {
     "end_time": "2019-12-05T07:19:22.903726Z",
     "start_time": "2019-12-05T07:19:22.893725Z"
    }
   },
   "outputs": [
    {
     "name": "stdout",
     "output_type": "stream",
     "text": [
      "False\n"
     ]
    }
   ],
   "source": [
    "a=torch.randn(2,2)\n",
    "a=((a*3)/(a-1))\n",
    "print(a.requires_grad)"
   ]
  },
  {
   "cell_type": "code",
   "execution_count": 114,
   "metadata": {
    "ExecuteTime": {
     "end_time": "2019-12-05T07:19:48.098167Z",
     "start_time": "2019-12-05T07:19:48.088166Z"
    }
   },
   "outputs": [
    {
     "name": "stdout",
     "output_type": "stream",
     "text": [
      "True\n"
     ]
    }
   ],
   "source": [
    "a.requires_grad_(True)\n",
    "print(a.requires_grad)"
   ]
  },
  {
   "cell_type": "code",
   "execution_count": 116,
   "metadata": {
    "ExecuteTime": {
     "end_time": "2019-12-05T07:20:30.094569Z",
     "start_time": "2019-12-05T07:20:30.070567Z"
    }
   },
   "outputs": [
    {
     "name": "stdout",
     "output_type": "stream",
     "text": [
      "tensor(6.0433, grad_fn=<SumBackward0>) <SumBackward0 object at 0x00000000162989E8>\n"
     ]
    }
   ],
   "source": [
    "b=(a*a).sum()\n",
    "print(b,b.grad_fn)"
   ]
  },
  {
   "cell_type": "code",
   "execution_count": 117,
   "metadata": {
    "ExecuteTime": {
     "end_time": "2019-12-05T07:28:18.950386Z",
     "start_time": "2019-12-05T07:28:18.944385Z"
    }
   },
   "outputs": [],
   "source": [
    "out.grad"
   ]
  },
  {
   "cell_type": "code",
   "execution_count": 118,
   "metadata": {
    "ExecuteTime": {
     "end_time": "2019-12-05T07:28:26.764833Z",
     "start_time": "2019-12-05T07:28:26.753832Z"
    }
   },
   "outputs": [
    {
     "data": {
      "text/plain": [
       "<MeanBackward1 at 0x16584a58>"
      ]
     },
     "execution_count": 118,
     "metadata": {},
     "output_type": "execute_result"
    }
   ],
   "source": [
    "out.grad_fn"
   ]
  },
  {
   "cell_type": "code",
   "execution_count": 120,
   "metadata": {
    "ExecuteTime": {
     "end_time": "2019-12-05T07:31:14.631434Z",
     "start_time": "2019-12-05T07:31:14.624434Z"
    }
   },
   "outputs": [],
   "source": [
    "x2.grad"
   ]
  },
  {
   "cell_type": "code",
   "execution_count": 125,
   "metadata": {
    "ExecuteTime": {
     "end_time": "2019-12-05T07:32:18.276074Z",
     "start_time": "2019-12-05T07:32:18.267074Z"
    }
   },
   "outputs": [
    {
     "data": {
      "text/plain": [
       "tensor(27., grad_fn=<MeanBackward1>)"
      ]
     },
     "execution_count": 125,
     "metadata": {},
     "output_type": "execute_result"
    }
   ],
   "source": [
    "out"
   ]
  },
  {
   "cell_type": "code",
   "execution_count": 121,
   "metadata": {
    "ExecuteTime": {
     "end_time": "2019-12-05T07:31:45.852220Z",
     "start_time": "2019-12-05T07:31:45.629207Z"
    }
   },
   "outputs": [],
   "source": [
    "out.backward()"
   ]
  },
  {
   "cell_type": "code",
   "execution_count": 124,
   "metadata": {
    "ExecuteTime": {
     "end_time": "2019-12-05T07:32:06.270388Z",
     "start_time": "2019-12-05T07:32:06.257387Z"
    }
   },
   "outputs": [
    {
     "data": {
      "text/plain": [
       "tensor([[4.5000, 4.5000],\n",
       "        [4.5000, 4.5000]])"
      ]
     },
     "execution_count": 124,
     "metadata": {},
     "output_type": "execute_result"
    }
   ],
   "source": [
    "x2.grad"
   ]
  },
  {
   "cell_type": "code",
   "execution_count": 126,
   "metadata": {
    "ExecuteTime": {
     "end_time": "2019-12-05T07:42:34.769336Z",
     "start_time": "2019-12-05T07:42:34.755335Z"
    }
   },
   "outputs": [
    {
     "data": {
      "text/plain": [
       "tensor(4., grad_fn=<SumBackward0>)"
      ]
     },
     "execution_count": 126,
     "metadata": {},
     "output_type": "execute_result"
    }
   ],
   "source": [
    "out2=x2.sum()\n",
    "out2"
   ]
  },
  {
   "cell_type": "code",
   "execution_count": 128,
   "metadata": {
    "ExecuteTime": {
     "end_time": "2019-12-05T07:43:11.010409Z",
     "start_time": "2019-12-05T07:43:10.998408Z"
    }
   },
   "outputs": [
    {
     "name": "stdout",
     "output_type": "stream",
     "text": [
      "tensor([[5.5000, 5.5000],\n",
      "        [5.5000, 5.5000]])\n"
     ]
    }
   ],
   "source": [
    "out2.backward()\n",
    "print(x2.grad)"
   ]
  },
  {
   "cell_type": "code",
   "execution_count": 130,
   "metadata": {
    "ExecuteTime": {
     "end_time": "2019-12-05T08:22:37.487763Z",
     "start_time": "2019-12-05T08:22:37.451761Z"
    }
   },
   "outputs": [
    {
     "name": "stdout",
     "output_type": "stream",
     "text": [
      "tensor([[2., 4.],\n",
      "        [6., 8.]], grad_fn=<ViewBackward>) None\n"
     ]
    }
   ],
   "source": [
    "x3=torch.tensor([1.0,2.0,3.0,4.0],requires_grad=True)\n",
    "y3=2*x3\n",
    "z3=y3.view(2,2)\n",
    "print(z3,z3.grad)"
   ]
  },
  {
   "cell_type": "code",
   "execution_count": 131,
   "metadata": {
    "ExecuteTime": {
     "end_time": "2019-12-05T08:24:04.233725Z",
     "start_time": "2019-12-05T08:24:04.219724Z"
    }
   },
   "outputs": [
    {
     "data": {
      "text/plain": [
       "torch.Size([2, 2])"
      ]
     },
     "execution_count": 131,
     "metadata": {},
     "output_type": "execute_result"
    }
   ],
   "source": [
    "v3=torch.tensor([[1.0,0.1],[0.01,0.001]],dtype=torch.float)\n",
    "v3.shape"
   ]
  },
  {
   "cell_type": "code",
   "execution_count": 132,
   "metadata": {
    "ExecuteTime": {
     "end_time": "2019-12-05T08:24:21.800730Z",
     "start_time": "2019-12-05T08:24:21.787729Z"
    }
   },
   "outputs": [
    {
     "data": {
      "text/plain": [
       "torch.Size([2, 2])"
      ]
     },
     "execution_count": 132,
     "metadata": {},
     "output_type": "execute_result"
    }
   ],
   "source": [
    "z3.shape"
   ]
  },
  {
   "cell_type": "code",
   "execution_count": 133,
   "metadata": {
    "ExecuteTime": {
     "end_time": "2019-12-05T08:31:38.188690Z",
     "start_time": "2019-12-05T08:31:38.181689Z"
    }
   },
   "outputs": [],
   "source": [
    "z3.grad"
   ]
  },
  {
   "cell_type": "code",
   "execution_count": 135,
   "metadata": {
    "ExecuteTime": {
     "end_time": "2019-12-05T08:31:55.548683Z",
     "start_time": "2019-12-05T08:31:55.527681Z"
    }
   },
   "outputs": [],
   "source": [
    "z3.backward(v3)"
   ]
  },
  {
   "cell_type": "code",
   "execution_count": 138,
   "metadata": {
    "ExecuteTime": {
     "end_time": "2019-12-05T08:32:33.240839Z",
     "start_time": "2019-12-05T08:32:33.228838Z"
    }
   },
   "outputs": [
    {
     "data": {
      "text/plain": [
       "tensor([1., 2., 3., 4.], requires_grad=True)"
      ]
     },
     "execution_count": 138,
     "metadata": {},
     "output_type": "execute_result"
    }
   ],
   "source": [
    "x3"
   ]
  },
  {
   "cell_type": "code",
   "execution_count": 140,
   "metadata": {
    "ExecuteTime": {
     "end_time": "2019-12-05T08:33:18.746441Z",
     "start_time": "2019-12-05T08:33:18.734441Z"
    }
   },
   "outputs": [
    {
     "data": {
      "text/plain": [
       "tensor([[1.0000, 0.1000],\n",
       "        [0.0100, 0.0010]])"
      ]
     },
     "execution_count": 140,
     "metadata": {},
     "output_type": "execute_result"
    }
   ],
   "source": [
    "v3"
   ]
  },
  {
   "cell_type": "code",
   "execution_count": 139,
   "metadata": {
    "ExecuteTime": {
     "end_time": "2019-12-05T08:32:57.714238Z",
     "start_time": "2019-12-05T08:32:57.701238Z"
    }
   },
   "outputs": [
    {
     "data": {
      "text/plain": [
       "tensor([[2., 4.],\n",
       "        [6., 8.]], grad_fn=<ViewBackward>)"
      ]
     },
     "execution_count": 139,
     "metadata": {},
     "output_type": "execute_result"
    }
   ],
   "source": [
    "z3"
   ]
  },
  {
   "cell_type": "code",
   "execution_count": 137,
   "metadata": {
    "ExecuteTime": {
     "end_time": "2019-12-05T08:32:09.852501Z",
     "start_time": "2019-12-05T08:32:09.844500Z"
    }
   },
   "outputs": [
    {
     "data": {
      "text/plain": [
       "tensor([2.0000, 0.2000, 0.0200, 0.0020])"
      ]
     },
     "execution_count": 137,
     "metadata": {},
     "output_type": "execute_result"
    }
   ],
   "source": [
    "x3.grad"
   ]
  },
  {
   "cell_type": "code",
   "execution_count": null,
   "metadata": {},
   "outputs": [],
   "source": []
  }
 ],
 "metadata": {
  "kernelspec": {
   "display_name": "Python 3",
   "language": "python",
   "name": "python3"
  },
  "language_info": {
   "codemirror_mode": {
    "name": "ipython",
    "version": 3
   },
   "file_extension": ".py",
   "mimetype": "text/x-python",
   "name": "python",
   "nbconvert_exporter": "python",
   "pygments_lexer": "ipython3",
   "version": "3.6.3"
  }
 },
 "nbformat": 4,
 "nbformat_minor": 2
}
