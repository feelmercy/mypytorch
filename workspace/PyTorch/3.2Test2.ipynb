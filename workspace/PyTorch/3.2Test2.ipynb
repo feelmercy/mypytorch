{
 "cells": [
  {
   "cell_type": "code",
   "execution_count": 2,
   "metadata": {
    "ExecuteTime": {
     "end_time": "2019-12-10T07:11:43.989817Z",
     "start_time": "2019-12-10T07:11:40.841637Z"
    }
   },
   "outputs": [],
   "source": [
    "import torch\n",
    "import numpy as np"
   ]
  },
  {
   "cell_type": "code",
   "execution_count": 82,
   "metadata": {
    "ExecuteTime": {
     "end_time": "2019-12-10T09:52:53.287869Z",
     "start_time": "2019-12-10T09:52:53.277868Z"
    }
   },
   "outputs": [],
   "source": [
    "true_w=[3.5,-4.6,5.7]\n",
    "true_b=2.5\n",
    "features=torch.tensor(np.random.normal(0,2,(1000,2)),dtype=torch.float32)"
   ]
  },
  {
   "cell_type": "code",
   "execution_count": 83,
   "metadata": {
    "ExecuteTime": {
     "end_time": "2019-12-10T09:52:53.589886Z",
     "start_time": "2019-12-10T09:52:53.582886Z"
    }
   },
   "outputs": [],
   "source": [
    "labels=features[:,0]*true_w[0]+features[:,1]*true_w[1]+true_b\n",
    "labels+=torch.tensor(np.random.normal(0,0.01,(1000)),dtype=torch.float32)"
   ]
  },
  {
   "cell_type": "code",
   "execution_count": 84,
   "metadata": {
    "ExecuteTime": {
     "end_time": "2019-12-10T09:52:53.890904Z",
     "start_time": "2019-12-10T09:52:53.879903Z"
    }
   },
   "outputs": [],
   "source": [
    "def data_iter(batch_size,features,labels):\n",
    "    examples_num=len(features)\n",
    "    indices=list(range(examples_num))\n",
    "    np.random.shuffle(indices)\n",
    "    for i in range(0,examples_num,batch_size):\n",
    "        j=torch.tensor(indices[i:min(i+batch_size,examples_num)])\n",
    "        yield features.index_select(0,j),labels.index_select(0,j)"
   ]
  },
  {
   "cell_type": "code",
   "execution_count": 85,
   "metadata": {
    "ExecuteTime": {
     "end_time": "2019-12-10T09:52:54.137918Z",
     "start_time": "2019-12-10T09:52:54.121917Z"
    }
   },
   "outputs": [
    {
     "name": "stdout",
     "output_type": "stream",
     "text": [
      "tensor([[ 4.9075,  2.9783],\n",
      "        [-1.9416,  6.8681],\n",
      "        [-0.2263, -1.7347],\n",
      "        [-1.7844, -0.1361],\n",
      "        [-0.7778,  1.3704],\n",
      "        [-0.8090,  0.0520],\n",
      "        [ 2.1296,  1.9587],\n",
      "        [-1.5466, -0.6352],\n",
      "        [ 0.5957, -3.8579],\n",
      "        [-2.2502,  1.1304]]) tensor([ 5.9845e+00, -3.5884e+01,  9.6753e+00, -3.1064e+00, -6.5235e+00,\n",
      "        -5.8488e-01,  9.5984e-01,  5.8146e-03,  2.2336e+01, -1.0587e+01])\n"
     ]
    }
   ],
   "source": [
    "batch_size=10\n",
    "for x,y in data_iter(batch_size,features,labels):\n",
    "    print(x,y)\n",
    "    break"
   ]
  },
  {
   "cell_type": "code",
   "execution_count": 86,
   "metadata": {
    "ExecuteTime": {
     "end_time": "2019-12-10T09:52:54.438935Z",
     "start_time": "2019-12-10T09:52:54.431934Z"
    }
   },
   "outputs": [],
   "source": [
    "w=torch.tensor(np.random.normal(0,0.5,(2,1)),dtype=torch.float32)\n",
    "b=torch.zeros((1,1),dtype=torch.float32)"
   ]
  },
  {
   "cell_type": "code",
   "execution_count": 87,
   "metadata": {
    "ExecuteTime": {
     "end_time": "2019-12-10T09:52:55.397990Z",
     "start_time": "2019-12-10T09:52:55.382989Z"
    }
   },
   "outputs": [
    {
     "data": {
      "text/plain": [
       "tensor([[0.]], requires_grad=True)"
      ]
     },
     "execution_count": 87,
     "metadata": {},
     "output_type": "execute_result"
    }
   ],
   "source": [
    "w.requires_grad_(True)\n",
    "b.requires_grad_(True)"
   ]
  },
  {
   "cell_type": "code",
   "execution_count": 88,
   "metadata": {
    "ExecuteTime": {
     "end_time": "2019-12-10T09:52:55.621002Z",
     "start_time": "2019-12-10T09:52:55.616002Z"
    }
   },
   "outputs": [],
   "source": [
    "def linreg(x,w,b):\n",
    "    return torch.mm(x,w)+b"
   ]
  },
  {
   "cell_type": "code",
   "execution_count": 89,
   "metadata": {
    "ExecuteTime": {
     "end_time": "2019-12-10T09:52:55.871017Z",
     "start_time": "2019-12-10T09:52:55.868017Z"
    }
   },
   "outputs": [],
   "source": [
    "def squard_loss(y_hat,y):\n",
    "    return (y_hat-y.view(y_hat.size()))**2/2"
   ]
  },
  {
   "cell_type": "code",
   "execution_count": 90,
   "metadata": {
    "ExecuteTime": {
     "end_time": "2019-12-10T09:52:56.415048Z",
     "start_time": "2019-12-10T09:52:56.405047Z"
    }
   },
   "outputs": [],
   "source": [
    "def sgd(params,lr,batch_size):\n",
    "    for param in params:\n",
    "        param.data -=param.grad*lr/batch_size"
   ]
  },
  {
   "cell_type": "code",
   "execution_count": 93,
   "metadata": {
    "ExecuteTime": {
     "end_time": "2019-12-11T02:52:12.739990Z",
     "start_time": "2019-12-11T02:52:12.455973Z"
    }
   },
   "outputs": [
    {
     "name": "stdout",
     "output_type": "stream",
     "text": [
      "round #1 loss: 0.049081 \n",
      "round #2 loss: 0.050097 \n",
      "round #3 loss: 0.049199 \n",
      "round #4 loss: 0.049840 \n",
      "round #5 loss: 0.050529 \n",
      "round #6 loss: 0.048393 \n",
      "round #7 loss: 0.048498 \n",
      "round #8 loss: 0.050668 \n",
      "round #9 loss: 0.048765 \n",
      "round #10 loss: 0.048351 \n"
     ]
    }
   ],
   "source": [
    "lr=0.05\n",
    "epochs=10\n",
    "for i in range(epochs):\n",
    "    for x,y in data_iter(batch_size,features,labels):\n",
    "        l=squard_loss(linreg(x,w,b),y).sum()\n",
    "        l.backward()\n",
    "        sgd([w,b],lr,batch_size)\n",
    "        \n",
    "        w.grad.data.zero_()\n",
    "        b.grad.data.zero_()\n",
    "    train_l=squard_loss(linreg(features,w,b),labels).sum()\n",
    "    print('round #%d loss: %f ' % (i+1,train_l))\n",
    "        \n",
    "        \n",
    "        "
   ]
  },
  {
   "cell_type": "code",
   "execution_count": 35,
   "metadata": {
    "ExecuteTime": {
     "end_time": "2019-12-10T09:46:03.468429Z",
     "start_time": "2019-12-10T09:46:03.455428Z"
    }
   },
   "outputs": [
    {
     "name": "stdout",
     "output_type": "stream",
     "text": [
      "tensor([[ 6.1900],\n",
      "        [-9.1546]], requires_grad=True) tensor([[2.8194]], requires_grad=True)\n"
     ]
    }
   ],
   "source": [
    "print(w,b)"
   ]
  },
  {
   "cell_type": "code",
   "execution_count": null,
   "metadata": {},
   "outputs": [],
   "source": []
  }
 ],
 "metadata": {
  "kernelspec": {
   "display_name": "Python 3",
   "language": "python",
   "name": "python3"
  },
  "language_info": {
   "codemirror_mode": {
    "name": "ipython",
    "version": 3
   },
   "file_extension": ".py",
   "mimetype": "text/x-python",
   "name": "python",
   "nbconvert_exporter": "python",
   "pygments_lexer": "ipython3",
   "version": "3.6.3"
  }
 },
 "nbformat": 4,
 "nbformat_minor": 2
}
