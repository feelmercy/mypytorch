{
 "cells": [
  {
   "cell_type": "code",
   "execution_count": 66,
   "metadata": {
    "ExecuteTime": {
     "end_time": "2019-12-06T08:03:14.470040Z",
     "start_time": "2019-12-06T08:03:14.462039Z"
    }
   },
   "outputs": [],
   "source": [
    "import torch\n",
    "from time import time\n",
    "import numpy as np"
   ]
  },
  {
   "cell_type": "code",
   "execution_count": 67,
   "metadata": {
    "ExecuteTime": {
     "end_time": "2019-12-06T08:03:14.649050Z",
     "start_time": "2019-12-06T08:03:14.638050Z"
    }
   },
   "outputs": [],
   "source": [
    "def iter_data(batch_size,features,labels):\n",
    "    num_example=len(features)\n",
    "    indices=list(range(num_example))\n",
    "    np.random.shuffle(indices)\n",
    "    for i in range(0,num_example,batch_size):\n",
    "        j=torch.tensor(indices[i:min(i+batch_size,num_example)])\n",
    "        yield features.index_select(0,j),labels.index_select(0,j)"
   ]
  },
  {
   "cell_type": "code",
   "execution_count": 68,
   "metadata": {
    "ExecuteTime": {
     "end_time": "2019-12-06T08:03:14.812060Z",
     "start_time": "2019-12-06T08:03:14.807059Z"
    }
   },
   "outputs": [],
   "source": [
    "def linreg(x,w,b):\n",
    "    return torch.mm(x,w)+b"
   ]
  },
  {
   "cell_type": "code",
   "execution_count": 69,
   "metadata": {
    "ExecuteTime": {
     "end_time": "2019-12-06T08:03:14.963068Z",
     "start_time": "2019-12-06T08:03:14.957068Z"
    }
   },
   "outputs": [],
   "source": [
    "def squared_loss(y_hat,y):\n",
    "    return (y_hat-y.view(y_hat.size()))**2/2"
   ]
  },
  {
   "cell_type": "code",
   "execution_count": 70,
   "metadata": {
    "ExecuteTime": {
     "end_time": "2019-12-06T08:03:15.119077Z",
     "start_time": "2019-12-06T08:03:15.112077Z"
    }
   },
   "outputs": [],
   "source": [
    "def sgd(params,lr,batch_size):\n",
    "    for param in params:\n",
    "        param.data -= lr/batch_size*param.grad"
   ]
  },
  {
   "cell_type": "code",
   "execution_count": 71,
   "metadata": {
    "ExecuteTime": {
     "end_time": "2019-12-06T08:03:15.283086Z",
     "start_time": "2019-12-06T08:03:15.278086Z"
    }
   },
   "outputs": [],
   "source": [
    "features=torch.tensor(np.random.normal(0,1,(1000,2)),dtype=torch.float32)"
   ]
  },
  {
   "cell_type": "code",
   "execution_count": 72,
   "metadata": {
    "ExecuteTime": {
     "end_time": "2019-12-06T08:03:15.456096Z",
     "start_time": "2019-12-06T08:03:15.449096Z"
    },
    "scrolled": true
   },
   "outputs": [
    {
     "data": {
      "text/plain": [
       "torch.float32"
      ]
     },
     "execution_count": 72,
     "metadata": {},
     "output_type": "execute_result"
    }
   ],
   "source": [
    "features.dtype"
   ]
  },
  {
   "cell_type": "code",
   "execution_count": 73,
   "metadata": {
    "ExecuteTime": {
     "end_time": "2019-12-06T08:03:15.899122Z",
     "start_time": "2019-12-06T08:03:15.890121Z"
    }
   },
   "outputs": [],
   "source": [
    "w=torch.tensor(np.random.normal(0,0.1,(2,1)),dtype=torch.float32)\n",
    "b=torch.zeros(1,dtype=torch.float32)"
   ]
  },
  {
   "cell_type": "code",
   "execution_count": 74,
   "metadata": {
    "ExecuteTime": {
     "end_time": "2019-12-06T08:03:16.061131Z",
     "start_time": "2019-12-06T08:03:16.053130Z"
    }
   },
   "outputs": [],
   "source": [
    "true_w=[2,-3,4]\n",
    "true_b=4.2\n",
    "labels=true_w[0]*features[:,0]+true_w[1]*features[:,1]+true_b\n",
    "labels+=torch.tensor(np.random.normal(0.0,0.01,labels.size()),dtype=torch.float32)"
   ]
  },
  {
   "cell_type": "code",
   "execution_count": 75,
   "metadata": {
    "ExecuteTime": {
     "end_time": "2019-12-06T08:03:16.462154Z",
     "start_time": "2019-12-06T08:03:16.454153Z"
    }
   },
   "outputs": [
    {
     "name": "stdout",
     "output_type": "stream",
     "text": [
      "tensor([[-1.2419, -0.7994],\n",
      "        [ 0.8396,  0.5751],\n",
      "        [ 0.3046, -0.7479],\n",
      "        [ 1.7906,  0.4773],\n",
      "        [-0.7976,  0.8225],\n",
      "        [ 0.1485,  0.0592],\n",
      "        [ 1.0832,  0.7842],\n",
      "        [-2.5265, -1.9740],\n",
      "        [-0.3906, -0.3408],\n",
      "        [-0.0827,  1.1277]]) tensor([4.1129, 4.1507, 7.0295, 6.3530, 0.1402, 4.3257, 4.0136, 5.0594, 4.4581,\n",
      "        0.6522])\n"
     ]
    }
   ],
   "source": [
    "batch_size=10\n",
    "for x1,y1 in iter_data(10,features,labels):\n",
    "    print(x1,y1)\n",
    "    break"
   ]
  },
  {
   "cell_type": "code",
   "execution_count": 76,
   "metadata": {
    "ExecuteTime": {
     "end_time": "2019-12-06T08:03:18.015243Z",
     "start_time": "2019-12-06T08:03:18.001242Z"
    }
   },
   "outputs": [
    {
     "data": {
      "text/plain": [
       "tensor([0.], requires_grad=True)"
      ]
     },
     "execution_count": 76,
     "metadata": {},
     "output_type": "execute_result"
    }
   ],
   "source": [
    "w.requires_grad_(True)\n",
    "b.requires_grad_(True)"
   ]
  },
  {
   "cell_type": "code",
   "execution_count": 79,
   "metadata": {
    "ExecuteTime": {
     "end_time": "2019-12-06T08:09:49.615641Z",
     "start_time": "2019-12-06T08:09:49.495634Z"
    }
   },
   "outputs": [
    {
     "name": "stdout",
     "output_type": "stream",
     "text": [
      "epoch #0 train loss:0.047631\n",
      "epoch #1 train loss:0.047445\n",
      "epoch #2 train loss:0.047518\n"
     ]
    }
   ],
   "source": [
    "lr=0.03\n",
    "epoch=3\n",
    "for i in range(epoch):\n",
    "    for x,y in iter_data(batch_size,features,labels):\n",
    "        l=squared_loss(linreg(x,w,b),y).sum()\n",
    "        l.backward()\n",
    "        sgd([w,b],lr,batch_size)\n",
    "        w.grad.data.zero_()\n",
    "        b.grad.data.zero_()\n",
    "\n",
    "    train_l=squared_loss(linreg(features,w,b),labels).sum()\n",
    "    print('epoch #%d train loss:%f' % (i,train_l))\n",
    "    \n",
    "    "
   ]
  },
  {
   "cell_type": "code",
   "execution_count": 52,
   "metadata": {
    "ExecuteTime": {
     "end_time": "2019-12-06T07:46:09.081391Z",
     "start_time": "2019-12-06T07:46:09.067390Z"
    }
   },
   "outputs": [
    {
     "name": "stdout",
     "output_type": "stream",
     "text": [
      "tensor([[ 2.0003],\n",
      "        [-3.0000]], requires_grad=True)\n",
      "tensor([4.1996], requires_grad=True)\n"
     ]
    }
   ],
   "source": [
    "print(w)\n",
    "print(b)"
   ]
  },
  {
   "cell_type": "code",
   "execution_count": null,
   "metadata": {},
   "outputs": [],
   "source": []
  },
  {
   "cell_type": "code",
   "execution_count": null,
   "metadata": {},
   "outputs": [],
   "source": []
  }
 ],
 "metadata": {
  "kernelspec": {
   "display_name": "Python 3",
   "language": "python",
   "name": "python3"
  },
  "language_info": {
   "codemirror_mode": {
    "name": "ipython",
    "version": 3
   },
   "file_extension": ".py",
   "mimetype": "text/x-python",
   "name": "python",
   "nbconvert_exporter": "python",
   "pygments_lexer": "ipython3",
   "version": "3.6.3"
  }
 },
 "nbformat": 4,
 "nbformat_minor": 2
}
