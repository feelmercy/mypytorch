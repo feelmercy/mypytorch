{
 "cells": [
  {
   "cell_type": "code",
   "execution_count": 1,
   "metadata": {
    "ExecuteTime": {
     "end_time": "2021-02-23T02:43:24.920209Z",
     "start_time": "2021-02-23T02:43:07.289200Z"
    },
    "collapsed": true
   },
   "outputs": [],
   "source": [
    "import torch\n",
    "from torch import nn,optim\n",
    "import torch.nn.functional as F\n",
    "import torch.utils.data as tud\n",
    "import torch.nn.parameter as Parameter\n",
    "\n",
    "from collections import Counter\n",
    "import numpy as np\n",
    "import random\n",
    "import math\n",
    "import pandas as pd\n",
    "import scipy\n",
    "import sklearn\n",
    "from sklearn.metrics.pairwise import cosine_similarity"
   ]
  },
  {
   "cell_type": "code",
   "execution_count": 2,
   "metadata": {
    "ExecuteTime": {
     "end_time": "2021-02-23T02:43:24.976212Z",
     "start_time": "2021-02-23T02:43:24.924209Z"
    }
   },
   "outputs": [
    {
     "data": {
      "text/plain": [
       "<torch._C.Generator at 0x75ced70>"
      ]
     },
     "execution_count": 2,
     "metadata": {},
     "output_type": "execute_result"
    }
   ],
   "source": [
    "random.seed(53113)\n",
    "np.random.seed(53113)\n",
    "torch.manual_seed(53113)"
   ]
  },
  {
   "cell_type": "code",
   "execution_count": 3,
   "metadata": {
    "ExecuteTime": {
     "end_time": "2021-02-23T02:43:24.985212Z",
     "start_time": "2021-02-23T02:43:24.978212Z"
    },
    "collapsed": true
   },
   "outputs": [],
   "source": [
    "K=100\n",
    "C=3\n",
    "NUM_EPOCHS=2\n",
    "MAX_VOCAB_SIZE=30000\n",
    "BATCH_SIZE=128\n",
    "LEARNING_RATE=0.2\n",
    "EMBEDDING_SIZE=100\n",
    "LOG_FILE=r'F:\\study\\ml\\DoctorChu-pytorch\\2\\word-embedding.log'"
   ]
  },
  {
   "cell_type": "code",
   "execution_count": 4,
   "metadata": {
    "ExecuteTime": {
     "end_time": "2021-02-23T02:43:24.995213Z",
     "start_time": "2021-02-23T02:43:24.988213Z"
    },
    "collapsed": true
   },
   "outputs": [],
   "source": [
    "def word_tokenize(text):\n",
    "    return text.split()"
   ]
  },
  {
   "cell_type": "code",
   "execution_count": 5,
   "metadata": {
    "ExecuteTime": {
     "end_time": "2021-02-23T02:43:26.321289Z",
     "start_time": "2021-02-23T02:43:24.997213Z"
    },
    "collapsed": true
   },
   "outputs": [],
   "source": [
    "with open(r'F:\\study\\ml\\DoctorChu-pytorch\\2\\text8\\text8.train.txt') as fin:\n",
    "    text=fin.read()"
   ]
  },
  {
   "cell_type": "code",
   "execution_count": 6,
   "metadata": {
    "ExecuteTime": {
     "end_time": "2021-02-23T02:43:28.355405Z",
     "start_time": "2021-02-23T02:43:26.323289Z"
    }
   },
   "outputs": [
    {
     "data": {
      "text/plain": [
       "['anarchism', 'originated', 'as', 'a', 'term']"
      ]
     },
     "execution_count": 6,
     "metadata": {},
     "output_type": "execute_result"
    }
   ],
   "source": [
    "text=[w for w in word_tokenize(text.lower())]\n",
    "text[:5]"
   ]
  },
  {
   "cell_type": "code",
   "execution_count": 7,
   "metadata": {
    "ExecuteTime": {
     "end_time": "2021-02-23T02:43:28.362406Z",
     "start_time": "2021-02-23T02:43:28.357405Z"
    }
   },
   "outputs": [
    {
     "data": {
      "text/plain": [
       "Counter({'a': 1, 'anarchism': 1, 'as': 1, 'originated': 1, 'term': 1})"
      ]
     },
     "execution_count": 7,
     "metadata": {},
     "output_type": "execute_result"
    }
   ],
   "source": [
    "Counter(text[:5])"
   ]
  },
  {
   "cell_type": "code",
   "execution_count": 8,
   "metadata": {
    "ExecuteTime": {
     "end_time": "2021-02-23T02:43:31.091562Z",
     "start_time": "2021-02-23T02:43:28.365406Z"
    },
    "collapsed": true
   },
   "outputs": [],
   "source": [
    "vocab=dict(Counter(text).most_common(MAX_VOCAB_SIZE-1))"
   ]
  },
  {
   "cell_type": "code",
   "execution_count": 9,
   "metadata": {
    "ExecuteTime": {
     "end_time": "2021-02-23T02:43:31.096562Z",
     "start_time": "2021-02-23T02:43:31.092562Z"
    }
   },
   "outputs": [
    {
     "data": {
      "text/plain": [
       "50"
      ]
     },
     "execution_count": 9,
     "metadata": {},
     "output_type": "execute_result"
    }
   ],
   "source": [
    "vocab['aaa']"
   ]
  },
  {
   "cell_type": "code",
   "execution_count": 10,
   "metadata": {
    "ExecuteTime": {
     "end_time": "2021-02-23T02:43:31.110563Z",
     "start_time": "2021-02-23T02:43:31.098562Z"
    }
   },
   "outputs": [
    {
     "data": {
      "text/plain": [
       "15313011"
      ]
     },
     "execution_count": 10,
     "metadata": {},
     "output_type": "execute_result"
    }
   ],
   "source": [
    "len(text)"
   ]
  },
  {
   "cell_type": "code",
   "execution_count": 11,
   "metadata": {
    "ExecuteTime": {
     "end_time": "2021-02-23T02:43:31.139565Z",
     "start_time": "2021-02-23T02:43:31.112563Z"
    }
   },
   "outputs": [
    {
     "data": {
      "text/plain": [
       "14695900"
      ]
     },
     "execution_count": 11,
     "metadata": {},
     "output_type": "execute_result"
    }
   ],
   "source": [
    "np.sum(list(vocab.values()))"
   ]
  },
  {
   "cell_type": "code",
   "execution_count": 12,
   "metadata": {
    "ExecuteTime": {
     "end_time": "2021-02-23T02:43:31.148565Z",
     "start_time": "2021-02-23T02:43:31.140565Z"
    }
   },
   "outputs": [
    {
     "data": {
      "text/plain": [
       "958035"
      ]
     },
     "execution_count": 12,
     "metadata": {},
     "output_type": "execute_result"
    }
   ],
   "source": [
    "np.max(list(vocab.values()))"
   ]
  },
  {
   "cell_type": "code",
   "execution_count": 13,
   "metadata": {
    "ExecuteTime": {
     "end_time": "2021-02-23T02:43:31.169566Z",
     "start_time": "2021-02-23T02:43:31.150565Z"
    },
    "collapsed": true
   },
   "outputs": [],
   "source": [
    "vocab['<unk>']=len(text)-np.sum(list(vocab.values()))\n",
    "idx_to_word=[word for word in vocab.keys()]\n",
    "word_to_idx={word:i for i ,word in enumerate(idx_to_word)}"
   ]
  },
  {
   "cell_type": "code",
   "execution_count": 14,
   "metadata": {
    "ExecuteTime": {
     "end_time": "2021-02-23T02:43:32.567646Z",
     "start_time": "2021-02-23T02:43:32.561646Z"
    }
   },
   "outputs": [
    {
     "data": {
      "text/plain": [
       "['the', 'of', 'and', 'one', 'in']"
      ]
     },
     "execution_count": 14,
     "metadata": {},
     "output_type": "execute_result"
    }
   ],
   "source": [
    "idx_to_word[:5]"
   ]
  },
  {
   "cell_type": "code",
   "execution_count": 15,
   "metadata": {
    "ExecuteTime": {
     "end_time": "2021-02-23T02:43:33.796716Z",
     "start_time": "2021-02-23T02:43:33.784716Z"
    }
   },
   "outputs": [
    {
     "data": {
      "text/plain": [
       "17156"
      ]
     },
     "execution_count": 15,
     "metadata": {},
     "output_type": "execute_result"
    }
   ],
   "source": [
    "word_to_idx['aaa']"
   ]
  },
  {
   "cell_type": "code",
   "execution_count": 16,
   "metadata": {
    "ExecuteTime": {
     "end_time": "2021-02-23T02:43:35.122792Z",
     "start_time": "2021-02-23T02:43:35.097791Z"
    }
   },
   "outputs": [
    {
     "data": {
      "text/plain": [
       "30000"
      ]
     },
     "execution_count": 16,
     "metadata": {},
     "output_type": "execute_result"
    }
   ],
   "source": [
    "word_counts=np.array([count for count in vocab.values()],dtype=np.float32)\n",
    "word_freqs=word_counts / np.sum(word_counts)\n",
    "word_freqs=word_freqs **(3./4.)\n",
    "word_freqs=word_freqs / np.sum(word_freqs)\n",
    "VOCAB_SIZE=len(idx_to_word)\n",
    "VOCAB_SIZE"
   ]
  },
  {
   "cell_type": "code",
   "execution_count": 18,
   "metadata": {
    "ExecuteTime": {
     "end_time": "2021-02-23T02:44:33.793148Z",
     "start_time": "2021-02-23T02:44:33.738145Z"
    },
    "collapsed": true
   },
   "outputs": [],
   "source": [
    "class WordEmbeddingDataset(tud.Dataset):\n",
    "    def __init__(self,text,word_to_idx,idx_to_word,word_freqs,word_counts):\n",
    "        super().__init__()\n",
    "        self.text_encoded=[word_to_idx.get(t,VOCAB_SIZE-1) for t in text]\n",
    "        self.text_encoded=torch.Tensor(self.text_encoded).long()\n",
    "        self.word_to_idx=word_to_idx\n",
    "        self.idx_to_word=idx_to_word\n",
    "        self.word_freqs=torch.Tensor(word_freqs)\n",
    "        self.word_counts=torch.Tensor(word_counts)\n",
    "    \n",
    "    def __len__(self):\n",
    "        return len(self.text_encoded)\n",
    "    \n",
    "    def __getitem__(self,idx):\n",
    "        center_word=self.text_encoded[idx]\n",
    "        pos_indices=list(range(idx-C,idx)) + list(range(idx+1,idx+C+1))\n",
    "        pos_indices=[i % len(self.text_encoded) for i in pos_indices]\n",
    "        pos_words=self.text_encoded[pos_indices]\n",
    "        neg_words=torch.multinomial(self.word_freqs,K*pos_words.shape[0],True)\n",
    "        \n",
    "        return center_word,pos_words,neg_words\n",
    "        "
   ]
  },
  {
   "cell_type": "code",
   "execution_count": 19,
   "metadata": {
    "ExecuteTime": {
     "end_time": "2021-02-23T02:44:39.519476Z",
     "start_time": "2021-02-23T02:44:35.272233Z"
    },
    "collapsed": true
   },
   "outputs": [],
   "source": [
    "dataset=WordEmbeddingDataset(text,word_to_idx,idx_to_word,word_freqs,word_counts)\n",
    "dataloader=tud.DataLoader(dataset,batch_size=BATCH_SIZE,shuffle=True)"
   ]
  },
  {
   "cell_type": "markdown",
   "metadata": {},
   "source": [
    "- 每次迭代,返回的数据形状\n",
    "- 128是batch,即返回128个中心词的索引\n",
    "- 128 * 6 返回,128-3 ~ 128+3 ,6个周围词的索引(相关的词)\n",
    "- 128 * 600,返回6个周围词 ,每个周围词 100个负例采样的词(无关的词)"
   ]
  },
  {
   "cell_type": "code",
   "execution_count": 20,
   "metadata": {
    "ExecuteTime": {
     "end_time": "2021-02-23T02:44:41.332579Z",
     "start_time": "2021-02-23T02:44:39.520476Z"
    }
   },
   "outputs": [
    {
     "name": "stdout",
     "output_type": "stream",
     "text": [
      "torch.Size([128])\n",
      "torch.Size([128, 6])\n",
      "torch.Size([128, 600])\n"
     ]
    }
   ],
   "source": [
    "for i in next(iter(dataloader)):\n",
    "    print(i.shape)"
   ]
  },
  {
   "cell_type": "markdown",
   "metadata": {},
   "source": [
    "- 使用nn.Embedding() 生成一个30000*100的字典,并用均匀分布初始化\n",
    "- 然后根据索引,取出对应索引行的数据,如:in_embed(input_labels)"
   ]
  },
  {
   "cell_type": "code",
   "execution_count": 21,
   "metadata": {
    "ExecuteTime": {
     "end_time": "2021-02-23T02:44:47.757947Z",
     "start_time": "2021-02-23T02:44:47.689943Z"
    },
    "collapsed": true
   },
   "outputs": [],
   "source": [
    "class EmbeddingModel(nn.Module):\n",
    "    def __init__(self,vocab_size,embed_size):\n",
    "        super().__init__()\n",
    "        self.vocab_size=vocab_size\n",
    "        self.embed_size=embed_size\n",
    "        \n",
    "        initrange=0.5/self.embed_size\n",
    "        self.out_embed=nn.Embedding(self.vocab_size,self.embed_size,sparse=False)\n",
    "        self.out_embed.weight.data.uniform_(-initrange,initrange)\n",
    "        \n",
    "        self.in_embed=nn.Embedding(self.vocab_size,self.embed_size,sparse=False)\n",
    "        self.in_embed.weight.data.uniform_(-initrange,initrange)\n",
    "        \n",
    "    def forward(self,input_labels,pos_labels,neg_labels):\n",
    "        batch_size=input_labels.size(0)\n",
    "        \n",
    "        input_embedding=self.in_embed(input_labels)\n",
    "        pos_embedding=self.out_embed(pos_labels)\n",
    "        neg_embedding=self.out_embed(neg_labels)\n",
    "        \n",
    "        log_pos=torch.bmm(pos_embedding,input_embedding.unsqueeze(2)).squeeze()\n",
    "        log_neg=torch.bmm(neg_embedding,-input_embedding.unsqueeze(2)).squeeze()\n",
    "        \n",
    "        log_pos=F.logsigmoid(log_pos).sum(1)\n",
    "        log_neg=F.logsigmoid(log_neg).sum(1)\n",
    "        \n",
    "        loss=log_pos + log_neg\n",
    "        \n",
    "        return -loss\n",
    "    \n",
    "    def input_embeddings(self):\n",
    "        return self.in_embed.weight.data.cpu().numpy()"
   ]
  },
  {
   "cell_type": "code",
   "execution_count": 22,
   "metadata": {
    "ExecuteTime": {
     "end_time": "2021-02-23T02:59:30.023410Z",
     "start_time": "2021-02-23T02:59:29.985407Z"
    },
    "collapsed": true
   },
   "outputs": [],
   "source": [
    "embedding1 = nn.Embedding(10, 3)\n",
    "input1=torch.LongTensor([[1,2,4,5],[4,3,2,9]])"
   ]
  },
  {
   "cell_type": "code",
   "execution_count": 23,
   "metadata": {
    "ExecuteTime": {
     "end_time": "2021-02-23T02:59:35.440719Z",
     "start_time": "2021-02-23T02:59:34.979693Z"
    }
   },
   "outputs": [
    {
     "data": {
      "text/plain": [
       "tensor([[[ 0.9002, -2.6535,  0.2571],\n",
       "         [ 0.6663, -1.0913,  1.6519],\n",
       "         [ 0.5153, -0.1487, -0.4456],\n",
       "         [-1.4835, -0.7375,  0.5899]],\n",
       "\n",
       "        [[ 0.5153, -0.1487, -0.4456],\n",
       "         [ 0.0326, -0.1157, -0.0496],\n",
       "         [ 0.6663, -1.0913,  1.6519],\n",
       "         [ 1.0421, -1.4898,  0.4132]]], grad_fn=<EmbeddingBackward>)"
      ]
     },
     "execution_count": 23,
     "metadata": {},
     "output_type": "execute_result"
    }
   ],
   "source": [
    "embedding1(input1)"
   ]
  },
  {
   "cell_type": "code",
   "execution_count": 44,
   "metadata": {
    "ExecuteTime": {
     "end_time": "2021-02-22T08:19:23.641982Z",
     "start_time": "2021-02-22T08:19:23.627981Z"
    }
   },
   "outputs": [
    {
     "data": {
      "text/plain": [
       "tensor([[ 1.7461,  0.8719, -0.1781],\n",
       "        [ 0.9002, -2.6535,  0.2571],\n",
       "        [ 0.6663, -1.0913,  1.6519],\n",
       "        [ 0.0326, -0.1157, -0.0496],\n",
       "        [ 0.5153, -0.1487, -0.4456],\n",
       "        [-1.4835, -0.7375,  0.5899],\n",
       "        [-1.8842, -0.5898, -0.5669],\n",
       "        [-1.4408, -0.0575, -0.0627],\n",
       "        [ 0.5953, -0.1535,  0.9393],\n",
       "        [ 1.0421, -1.4898,  0.4132]])"
      ]
     },
     "execution_count": 44,
     "metadata": {},
     "output_type": "execute_result"
    }
   ],
   "source": [
    "embedding1.weight.data"
   ]
  },
  {
   "cell_type": "code",
   "execution_count": 33,
   "metadata": {
    "ExecuteTime": {
     "end_time": "2021-02-23T05:46:23.708160Z",
     "start_time": "2021-02-23T05:46:23.578152Z"
    },
    "collapsed": true
   },
   "outputs": [],
   "source": [
    "model = EmbeddingModel(VOCAB_SIZE, EMBEDDING_SIZE)"
   ]
  },
  {
   "attachments": {
    "image.png": {
     "image/png": "[encoded data removed]"
    }
   },
   "cell_type": "markdown",
   "metadata": {},
   "source": [
    "余弦相似度计算:\n",
    "    ![image.png](attachment:image.png)"
   ]
  },
  {
   "cell_type": "code",
   "execution_count": 34,
   "metadata": {
    "ExecuteTime": {
     "end_time": "2021-02-23T05:46:24.311194Z",
     "start_time": "2021-02-23T05:46:24.305194Z"
    },
    "collapsed": true
   },
   "outputs": [],
   "source": [
    "from sklearn.metrics.pairwise import cosine_similarity"
   ]
  },
  {
   "cell_type": "code",
   "execution_count": 35,
   "metadata": {
    "ExecuteTime": {
     "end_time": "2021-02-23T05:46:24.982232Z",
     "start_time": "2021-02-23T05:46:24.937230Z"
    }
   },
   "outputs": [
    {
     "data": {
      "text/plain": [
       "array([[1.        , 0.89087081],\n",
       "       [0.89087081, 1.        ]])"
      ]
     },
     "execution_count": 35,
     "metadata": {},
     "output_type": "execute_result"
    }
   ],
   "source": [
    "a=[[1,3,2],[2,2,1]]\n",
    "cosine_similarity(a)"
   ]
  },
  {
   "cell_type": "code",
   "execution_count": 36,
   "metadata": {
    "ExecuteTime": {
     "end_time": "2021-02-23T05:46:25.339253Z",
     "start_time": "2021-02-23T05:46:25.332252Z"
    }
   },
   "outputs": [
    {
     "data": {
      "text/plain": [
       "0.8908708063747479"
      ]
     },
     "execution_count": 36,
     "metadata": {},
     "output_type": "execute_result"
    }
   ],
   "source": [
    "10/(np.sqrt(14)*np.sqrt(9))"
   ]
  },
  {
   "cell_type": "code",
   "execution_count": 37,
   "metadata": {
    "ExecuteTime": {
     "end_time": "2021-02-23T05:46:25.736276Z",
     "start_time": "2021-02-23T05:46:25.690273Z"
    },
    "collapsed": true
   },
   "outputs": [],
   "source": [
    "def evaluate(filename,embedding_weights):\n",
    "    if filename.endswith('.csv'):\n",
    "        data=pd.read_csv(filename,sep=',')\n",
    "    else:\n",
    "        data=pd.read_csv(filename,sep='\\t')\n",
    "    human_similarity=[]\n",
    "    model_similarity=[]\n",
    "    for i in data.iloc[:,0:2].index:\n",
    "        word1,word2=data.iloc[i,0],data.iloc[i,1]\n",
    "        if word1 not in word_to_idx or word2 not in word_to_idx:\n",
    "            continue\n",
    "        else:\n",
    "            word1_idx,word2_idx=word_to_idx[word1],word_to_idx[word2]\n",
    "            word1_embed,word2_embed=embedding_weights[[word1_idx]],embedding_weights[[word2_idx]]\n",
    "            model_similarity.append(float(sklearn.metrics.pairwise.cosine_similarity(word1_embed,word2_embed)))\n",
    "            human_similarity.append(float(data.iloc[i,2]))\n",
    "    return scipy.stats.spearmanr(human_similarity,model_similarity)\n",
    "\n",
    "def find_nearest(word):\n",
    "    index=word_to_idx[word]\n",
    "    embedding=embedding_weights[index]\n",
    "    cos_dis=np.array([scipy.spatial.distance.cosine(e,embedding) for e in embedding_weights])\n",
    "    return [idx_to_word[i] for i in cos_dis.argsort()[:10]]"
   ]
  },
  {
   "cell_type": "code",
   "execution_count": 38,
   "metadata": {
    "ExecuteTime": {
     "end_time": "2021-02-23T05:46:27.057351Z",
     "start_time": "2021-02-23T05:46:27.041350Z"
    }
   },
   "outputs": [
    {
     "data": {
      "text/plain": [
       "array([[0, 1, 2, 5, 6, 7, 3, 4],\n",
       "       [0, 1, 3, 2, 5, 4, 6, 7]], dtype=int64)"
      ]
     },
     "execution_count": 38,
     "metadata": {},
     "output_type": "execute_result"
    }
   ],
   "source": [
    "a=[[1,2,3,7,8,4,5,6],[11,12,14,13,16,15,17,18]]\n",
    "np.argsort(a)"
   ]
  },
  {
   "cell_type": "code",
   "execution_count": 39,
   "metadata": {
    "ExecuteTime": {
     "end_time": "2021-02-23T05:46:27.442373Z",
     "start_time": "2021-02-23T05:46:27.431372Z"
    }
   },
   "outputs": [
    {
     "data": {
      "text/plain": [
       "array([0, 1, 2, 5, 6, 7, 3, 4], dtype=int64)"
      ]
     },
     "execution_count": 39,
     "metadata": {},
     "output_type": "execute_result"
    }
   ],
   "source": [
    "b=np.array([1,2,3,7,8,4,5,6])\n",
    "b.argsort()"
   ]
  },
  {
   "cell_type": "code",
   "execution_count": 42,
   "metadata": {
    "ExecuteTime": {
     "end_time": "2021-02-23T09:52:36.742129Z",
     "start_time": "2021-02-23T05:47:28.827884Z"
    },
    "scrolled": false
   },
   "outputs": [
    {
     "name": "stdout",
     "output_type": "stream",
     "text": [
      "epoch: 0, iter: 0, loss: 420.0466003417969\n",
      "epoch: 0,iteration:0,simlex-999:SpearmanrResult(correlation=0.037785298219400534, pvalue=0.24363197681905652)\n",
      "epoch: 0, iter: 100, loss: 275.77777099609375\n",
      "epoch: 0, iter: 200, loss: 211.04000854492188\n",
      "epoch: 0,iteration:200,simlex-999:SpearmanrResult(correlation=-0.020995366720437607, pvalue=0.5171772031659221)\n",
      "epoch: 0, iter: 300, loss: 182.06246948242188\n",
      "epoch: 0, iter: 400, loss: 149.29022216796875\n",
      "epoch: 0,iteration:400,simlex-999:SpearmanrResult(correlation=-0.05028662224477816, pvalue=0.12062798597655186)\n",
      "epoch: 0, iter: 500, loss: 131.10723876953125\n",
      "epoch: 0, iter: 600, loss: 124.62519836425781\n",
      "epoch: 0,iteration:600,simlex-999:SpearmanrResult(correlation=-0.03395075379453868, pvalue=0.29484119755111216)\n",
      "epoch: 0, iter: 700, loss: 112.76646423339844\n",
      "epoch: 0, iter: 800, loss: 106.7927474975586\n",
      "epoch: 0,iteration:800,simlex-999:SpearmanrResult(correlation=-0.023627066639495424, pvalue=0.4660557384163787)\n",
      "epoch: 0, iter: 900, loss: 114.7286376953125\n",
      "epoch: 0, iter: 1000, loss: 92.29701232910156\n",
      "epoch: 0,iteration:1000,simlex-999:SpearmanrResult(correlation=-0.013139052868210831, pvalue=0.6852497158048969)\n",
      "epoch: 0, iter: 1100, loss: 71.85221099853516\n",
      "epoch: 0, iter: 1200, loss: 86.18389892578125\n",
      "epoch: 0,iteration:1200,simlex-999:SpearmanrResult(correlation=-0.0027591827106552076, pvalue=0.9321731422284711)\n",
      "epoch: 0, iter: 1300, loss: 70.88639831542969\n",
      "epoch: 0, iter: 1400, loss: 68.53292846679688\n",
      "epoch: 0,iteration:1400,simlex-999:SpearmanrResult(correlation=0.0013438066681333452, pvalue=0.9669358684775489)\n",
      "epoch: 0, iter: 1500, loss: 70.15760803222656\n",
      "epoch: 0, iter: 1600, loss: 68.11508178710938\n",
      "epoch: 0,iteration:1600,simlex-999:SpearmanrResult(correlation=0.005687505254016498, pvalue=0.8607335535404569)\n",
      "epoch: 0, iter: 1700, loss: 71.94166564941406\n",
      "epoch: 0, iter: 1800, loss: 76.16687774658203\n",
      "epoch: 0,iteration:1800,simlex-999:SpearmanrResult(correlation=0.013279175187661498, pvalue=0.6820753660079331)\n",
      "epoch: 0, iter: 1900, loss: 54.743011474609375\n",
      "epoch: 0, iter: 2000, loss: 62.501182556152344\n",
      "epoch: 0,iteration:2000,simlex-999:SpearmanrResult(correlation=0.014224742610278802, pvalue=0.6608033873151792)\n",
      "epoch: 0, iter: 2100, loss: 63.943885803222656\n",
      "epoch: 0, iter: 2200, loss: 49.08612060546875\n",
      "epoch: 0,iteration:2200,simlex-999:SpearmanrResult(correlation=0.027687320917842914, pvalue=0.3929843125341189)\n",
      "epoch: 0, iter: 2300, loss: 49.34288787841797\n",
      "epoch: 0, iter: 2400, loss: 49.68608093261719\n",
      "epoch: 0,iteration:2400,simlex-999:SpearmanrResult(correlation=0.029394862454851588, pvalue=0.36444829203153006)\n",
      "epoch: 0, iter: 2500, loss: 53.767852783203125\n",
      "epoch: 0, iter: 2600, loss: 61.40716552734375\n",
      "epoch: 0,iteration:2600,simlex-999:SpearmanrResult(correlation=0.04415962861928068, pvalue=0.17293602397012428)\n",
      "epoch: 0, iter: 2700, loss: 65.0855484008789\n",
      "epoch: 0, iter: 2800, loss: 60.43572235107422\n",
      "epoch: 0,iteration:2800,simlex-999:SpearmanrResult(correlation=0.046939083355624175, pvalue=0.14742135331819706)\n",
      "epoch: 0, iter: 2900, loss: 53.622459411621094\n",
      "epoch: 0, iter: 3000, loss: 52.78633499145508\n",
      "epoch: 0,iteration:3000,simlex-999:SpearmanrResult(correlation=0.03579086417074078, pvalue=0.26943136999477746)\n",
      "epoch: 0, iter: 3100, loss: 52.3172607421875\n",
      "epoch: 0, iter: 3200, loss: 54.51807403564453\n",
      "epoch: 0,iteration:3200,simlex-999:SpearmanrResult(correlation=0.04390717125976081, pvalue=0.1754075285025143)\n",
      "epoch: 0, iter: 3300, loss: 51.559837341308594\n",
      "epoch: 0, iter: 3400, loss: 44.87004089355469\n",
      "epoch: 0,iteration:3400,simlex-999:SpearmanrResult(correlation=0.0506609958550014, pvalue=0.11788491301745019)\n",
      "epoch: 0, iter: 3500, loss: 49.65742111206055\n",
      "epoch: 0, iter: 3600, loss: 60.6842041015625\n",
      "epoch: 0,iteration:3600,simlex-999:SpearmanrResult(correlation=0.048871957982423456, pvalue=0.1314457448146271)\n",
      "epoch: 0, iter: 3700, loss: 56.96734619140625\n",
      "epoch: 0, iter: 3800, loss: 43.865966796875\n",
      "epoch: 0,iteration:3800,simlex-999:SpearmanrResult(correlation=0.06364181719124681, pvalue=0.049401157407319644)\n",
      "epoch: 0, iter: 3900, loss: 50.70379638671875\n",
      "epoch: 0, iter: 4000, loss: 50.775177001953125\n",
      "epoch: 0,iteration:4000,simlex-999:SpearmanrResult(correlation=0.05927417710611035, pvalue=0.06724935367257392)\n",
      "epoch: 0, iter: 4100, loss: 42.385597229003906\n",
      "epoch: 0, iter: 4200, loss: 48.37815475463867\n",
      "epoch: 0,iteration:4200,simlex-999:SpearmanrResult(correlation=0.054596058198099366, pvalue=0.09192131226566876)\n",
      "epoch: 0, iter: 4300, loss: 47.362831115722656\n",
      "epoch: 0, iter: 4400, loss: 37.92609786987305\n",
      "epoch: 0,iteration:4400,simlex-999:SpearmanrResult(correlation=0.05998740721013774, pvalue=0.0640167252705544)\n",
      "epoch: 0, iter: 4500, loss: 43.73247146606445\n",
      "epoch: 0, iter: 4600, loss: 41.599266052246094\n",
      "epoch: 0,iteration:4600,simlex-999:SpearmanrResult(correlation=0.06799270969730051, pvalue=0.03574992972542623)\n",
      "epoch: 0, iter: 4700, loss: 43.1900520324707\n",
      "epoch: 0, iter: 4800, loss: 41.24315643310547\n",
      "epoch: 0,iteration:4800,simlex-999:SpearmanrResult(correlation=0.06667342913774486, pvalue=0.039501297640753816)\n",
      "epoch: 0, iter: 4900, loss: 46.821678161621094\n",
      "epoch: 0, iter: 5000, loss: 41.23453903198242\n",
      "epoch: 0,iteration:5000,simlex-999:SpearmanrResult(correlation=0.0676376341076627, pvalue=0.03672846939173125)\n",
      "epoch: 0, iter: 5100, loss: 41.408477783203125\n",
      "epoch: 0, iter: 5200, loss: 47.028053283691406\n",
      "epoch: 0,iteration:5200,simlex-999:SpearmanrResult(correlation=0.06862982738291479, pvalue=0.03404973725834133)\n",
      "epoch: 0, iter: 5300, loss: 39.80912780761719\n",
      "epoch: 0, iter: 5400, loss: 39.70819091796875\n",
      "epoch: 0,iteration:5400,simlex-999:SpearmanrResult(correlation=0.06947021183830104, pvalue=0.03191304071692472)\n",
      "epoch: 0, iter: 5500, loss: 40.641666412353516\n",
      "epoch: 0, iter: 5600, loss: 35.82606506347656\n",
      "epoch: 0,iteration:5600,simlex-999:SpearmanrResult(correlation=0.06963758971443017, pvalue=0.031501469838074614)\n",
      "epoch: 0, iter: 5700, loss: 40.18675994873047\n",
      "epoch: 0, iter: 5800, loss: 39.767337799072266\n",
      "epoch: 0,iteration:5800,simlex-999:SpearmanrResult(correlation=0.07200543310717752, pvalue=0.02614875078429638)\n",
      "epoch: 0, iter: 5900, loss: 43.583099365234375\n",
      "epoch: 0, iter: 6000, loss: 42.17350769042969\n",
      "epoch: 0,iteration:6000,simlex-999:SpearmanrResult(correlation=0.07138267953057476, pvalue=0.02747435726859311)\n",
      "epoch: 0, iter: 6100, loss: 45.01217269897461\n",
      "epoch: 0, iter: 6200, loss: 38.35232925415039\n",
      "epoch: 0,iteration:6200,simlex-999:SpearmanrResult(correlation=0.07270398189471045, pvalue=0.02472783448430402)\n",
      "epoch: 0, iter: 6300, loss: 38.46151351928711\n",
      "epoch: 0, iter: 6400, loss: 43.979087829589844\n",
      "epoch: 0,iteration:6400,simlex-999:SpearmanrResult(correlation=0.0723306379604927, pvalue=0.025478716616663403)\n",
      "epoch: 0, iter: 6500, loss: 41.97303009033203\n",
      "epoch: 0, iter: 6600, loss: 40.87250518798828\n",
      "epoch: 0,iteration:6600,simlex-999:SpearmanrResult(correlation=0.07225031632148461, pvalue=0.025642812527093845)\n",
      "epoch: 0, iter: 6700, loss: 40.06475067138672\n",
      "epoch: 0, iter: 6800, loss: 40.56700134277344\n",
      "epoch: 0,iteration:6800,simlex-999:SpearmanrResult(correlation=0.06991379487936542, pvalue=0.03083223961629589)\n",
      "epoch: 0, iter: 6900, loss: 36.40193176269531\n",
      "epoch: 0, iter: 7000, loss: 39.8007926940918\n",
      "epoch: 0,iteration:7000,simlex-999:SpearmanrResult(correlation=0.06918124652999241, pvalue=0.03263442117570169)\n",
      "epoch: 0, iter: 7100, loss: 41.46584701538086\n",
      "epoch: 0, iter: 7200, loss: 41.4224967956543\n",
      "epoch: 0,iteration:7200,simlex-999:SpearmanrResult(correlation=0.07437226805323782, pvalue=0.021601744075412235)\n",
      "epoch: 0, iter: 7300, loss: 38.697628021240234\n",
      "epoch: 0, iter: 7400, loss: 34.79416275024414\n",
      "epoch: 0,iteration:7400,simlex-999:SpearmanrResult(correlation=0.07442366201618776, pvalue=0.021511158559067135)\n",
      "epoch: 0, iter: 7500, loss: 35.60886764526367\n",
      "epoch: 0, iter: 7600, loss: 41.327964782714844\n",
      "epoch: 0,iteration:7600,simlex-999:SpearmanrResult(correlation=0.07549413142357954, pvalue=0.019698035264408244)\n",
      "epoch: 0, iter: 7700, loss: 38.183773040771484\n",
      "epoch: 0, iter: 7800, loss: 38.31281280517578\n",
      "epoch: 0,iteration:7800,simlex-999:SpearmanrResult(correlation=0.07513788745060816, pvalue=0.020286053177553484)\n",
      "epoch: 0, iter: 7900, loss: 38.111419677734375\n",
      "epoch: 0, iter: 8000, loss: 34.24665451049805\n"
     ]
    },
    {
     "name": "stdout",
     "output_type": "stream",
     "text": [
      "epoch: 0,iteration:8000,simlex-999:SpearmanrResult(correlation=0.07609201383690536, pvalue=0.01874453617046994)\n",
      "epoch: 0, iter: 8100, loss: 34.20955276489258\n",
      "epoch: 0, iter: 8200, loss: 35.952911376953125\n",
      "epoch: 0,iteration:8200,simlex-999:SpearmanrResult(correlation=0.07731405241118486, pvalue=0.016920273015933015)\n",
      "epoch: 0, iter: 8300, loss: 37.518760681152344\n",
      "epoch: 0, iter: 8400, loss: 35.16366195678711\n",
      "epoch: 0,iteration:8400,simlex-999:SpearmanrResult(correlation=0.07826342060213563, pvalue=0.015612346339891645)\n",
      "epoch: 0, iter: 8500, loss: 38.31083297729492\n",
      "epoch: 0, iter: 8600, loss: 38.29475021362305\n",
      "epoch: 0,iteration:8600,simlex-999:SpearmanrResult(correlation=0.07717782074672153, pvalue=0.01711562540956092)\n",
      "epoch: 0, iter: 8700, loss: 35.424381256103516\n",
      "epoch: 0, iter: 8800, loss: 38.952117919921875\n",
      "epoch: 0,iteration:8800,simlex-999:SpearmanrResult(correlation=0.0789633653286851, pvalue=0.014705760359953123)\n",
      "epoch: 0, iter: 8900, loss: 42.65810775756836\n",
      "epoch: 0, iter: 9000, loss: 34.44416427612305\n",
      "epoch: 0,iteration:9000,simlex-999:SpearmanrResult(correlation=0.07833549101219411, pvalue=0.015516784140383873)\n",
      "epoch: 0, iter: 9100, loss: 35.7479133605957\n",
      "epoch: 0, iter: 9200, loss: 34.052242279052734\n",
      "epoch: 0,iteration:9200,simlex-999:SpearmanrResult(correlation=0.07813445859495873, pvalue=0.01578463509906257)\n",
      "epoch: 0, iter: 9300, loss: 35.38569641113281\n",
      "epoch: 0, iter: 9400, loss: 35.39586639404297\n",
      "epoch: 0,iteration:9400,simlex-999:SpearmanrResult(correlation=0.07768337439073764, pvalue=0.016400471342422108)\n",
      "epoch: 0, iter: 9500, loss: 34.10460662841797\n",
      "epoch: 0, iter: 9600, loss: 34.66079330444336\n",
      "epoch: 0,iteration:9600,simlex-999:SpearmanrResult(correlation=0.07858627904406729, pvalue=0.015188244152016092)\n",
      "epoch: 0, iter: 9700, loss: 37.52054977416992\n",
      "epoch: 0, iter: 9800, loss: 35.658241271972656\n",
      "epoch: 0,iteration:9800,simlex-999:SpearmanrResult(correlation=0.08295911954336625, pvalue=0.010364969157529004)\n",
      "epoch: 0, iter: 9900, loss: 34.81948471069336\n",
      "epoch: 0, iter: 10000, loss: 34.02437210083008\n",
      "epoch: 0,iteration:10000,simlex-999:SpearmanrResult(correlation=0.08269216394542399, pvalue=0.010614743293301667)\n",
      "epoch: 0, iter: 10100, loss: 33.251556396484375\n",
      "epoch: 0, iter: 10200, loss: 34.57855987548828\n",
      "epoch: 0,iteration:10200,simlex-999:SpearmanrResult(correlation=0.08237545593142462, pvalue=0.0109179883113326)\n",
      "epoch: 0, iter: 10300, loss: 36.664825439453125\n",
      "epoch: 0, iter: 10400, loss: 35.57263946533203\n",
      "epoch: 0,iteration:10400,simlex-999:SpearmanrResult(correlation=0.08226216709917077, pvalue=0.01102831356713787)\n",
      "epoch: 0, iter: 10500, loss: 35.68408966064453\n",
      "epoch: 0, iter: 10600, loss: 33.77423095703125\n",
      "epoch: 0,iteration:10600,simlex-999:SpearmanrResult(correlation=0.08220641947275088, pvalue=0.011082965041434014)\n",
      "epoch: 0, iter: 10700, loss: 39.67558288574219\n",
      "epoch: 0, iter: 10800, loss: 35.298973083496094\n",
      "epoch: 0,iteration:10800,simlex-999:SpearmanrResult(correlation=0.08179377882379747, pvalue=0.01149501656088944)\n",
      "epoch: 0, iter: 10900, loss: 34.33915710449219\n",
      "epoch: 0, iter: 11000, loss: 33.56904983520508\n",
      "epoch: 0,iteration:11000,simlex-999:SpearmanrResult(correlation=0.08204686806593516, pvalue=0.011240709104767316)\n",
      "epoch: 0, iter: 11100, loss: 34.414894104003906\n",
      "epoch: 0, iter: 11200, loss: 35.90167236328125\n",
      "epoch: 0,iteration:11200,simlex-999:SpearmanrResult(correlation=0.08271657210415896, pvalue=0.010591686103152096)\n",
      "epoch: 0, iter: 11300, loss: 34.37812423706055\n",
      "epoch: 0, iter: 11400, loss: 34.57466125488281\n",
      "epoch: 0,iteration:11400,simlex-999:SpearmanrResult(correlation=0.08278313478392546, pvalue=0.010529033467912912)\n",
      "epoch: 0, iter: 11500, loss: 34.60249328613281\n",
      "epoch: 0, iter: 11600, loss: 33.177207946777344\n",
      "epoch: 0,iteration:11600,simlex-999:SpearmanrResult(correlation=0.08306674170468965, pvalue=0.010265759773926835)\n",
      "epoch: 0, iter: 11700, loss: 33.88857650756836\n",
      "epoch: 0, iter: 11800, loss: 33.872337341308594\n",
      "epoch: 0,iteration:11800,simlex-999:SpearmanrResult(correlation=0.08289988207545114, pvalue=0.010419938752280391)\n",
      "epoch: 0, iter: 11900, loss: 33.85035705566406\n",
      "epoch: 0, iter: 12000, loss: 32.33266067504883\n",
      "epoch: 0,iteration:12000,simlex-999:SpearmanrResult(correlation=0.08328033699362648, pvalue=0.010071357359194543)\n",
      "epoch: 0, iter: 12100, loss: 34.400177001953125\n",
      "epoch: 0, iter: 12200, loss: 33.65159606933594\n",
      "epoch: 0,iteration:12200,simlex-999:SpearmanrResult(correlation=0.08302061677003175, pvalue=0.01030817533956933)\n",
      "epoch: 0, iter: 12300, loss: 37.346717834472656\n",
      "epoch: 0, iter: 12400, loss: 33.5106086730957\n",
      "epoch: 0,iteration:12400,simlex-999:SpearmanrResult(correlation=0.08314328671351245, pvalue=0.010195712718181404)\n",
      "epoch: 0, iter: 12500, loss: 33.737083435058594\n",
      "epoch: 0, iter: 12600, loss: 33.431495666503906\n",
      "epoch: 0,iteration:12600,simlex-999:SpearmanrResult(correlation=0.08341908065243796, pvalue=0.009946840961367134)\n",
      "epoch: 0, iter: 12700, loss: 32.98923873901367\n",
      "epoch: 0, iter: 12800, loss: 34.897743225097656\n",
      "epoch: 0,iteration:12800,simlex-999:SpearmanrResult(correlation=0.08282134336536534, pvalue=0.01049321823566375)\n",
      "epoch: 0, iter: 12900, loss: 34.68888854980469\n",
      "epoch: 0, iter: 13000, loss: 33.018333435058594\n",
      "epoch: 0,iteration:13000,simlex-999:SpearmanrResult(correlation=0.08469585154962243, pvalue=0.008863731854196711)\n",
      "epoch: 0, iter: 13100, loss: 32.47194290161133\n",
      "epoch: 0, iter: 13200, loss: 35.591922760009766\n",
      "epoch: 0,iteration:13200,simlex-999:SpearmanrResult(correlation=0.08400310735430948, pvalue=0.00943758523574378)\n",
      "epoch: 0, iter: 13300, loss: 33.01140594482422\n",
      "epoch: 0, iter: 13400, loss: 32.293949127197266\n",
      "epoch: 0,iteration:13400,simlex-999:SpearmanrResult(correlation=0.0833590761104516, pvalue=0.010000523414183969)\n",
      "epoch: 0, iter: 13500, loss: 33.31089782714844\n",
      "epoch: 0, iter: 13600, loss: 33.43181610107422\n",
      "epoch: 0,iteration:13600,simlex-999:SpearmanrResult(correlation=0.08422971209187419, pvalue=0.0092463307072445)\n",
      "epoch: 0, iter: 13700, loss: 33.2998046875\n",
      "epoch: 0, iter: 13800, loss: 33.81963348388672\n",
      "epoch: 0,iteration:13800,simlex-999:SpearmanrResult(correlation=0.0828459591276685, pvalue=0.010470201733189884)\n",
      "epoch: 0, iter: 13900, loss: 32.5582275390625\n",
      "epoch: 0, iter: 14000, loss: 34.012290954589844\n",
      "epoch: 0,iteration:14000,simlex-999:SpearmanrResult(correlation=0.08226166982184382, pvalue=0.011028800008002012)\n",
      "epoch: 0, iter: 14100, loss: 33.59197998046875\n",
      "epoch: 0, iter: 14200, loss: 36.46443557739258\n",
      "epoch: 0,iteration:14200,simlex-999:SpearmanrResult(correlation=0.08288583661364438, pvalue=0.010433010204530692)\n",
      "epoch: 0, iter: 14300, loss: 32.95933151245117\n",
      "epoch: 0, iter: 14400, loss: 33.60902404785156\n",
      "epoch: 0,iteration:14400,simlex-999:SpearmanrResult(correlation=0.08282344792230215, pvalue=0.010491248654151686)\n",
      "epoch: 0, iter: 14500, loss: 33.14588165283203\n",
      "epoch: 0, iter: 14600, loss: 39.496742248535156\n",
      "epoch: 0,iteration:14600,simlex-999:SpearmanrResult(correlation=0.08279956813655054, pvalue=0.010513616200365016)\n",
      "epoch: 0, iter: 14700, loss: 34.53205871582031\n",
      "epoch: 0, iter: 14800, loss: 37.06382369995117\n",
      "epoch: 0,iteration:14800,simlex-999:SpearmanrResult(correlation=0.08264313340006027, pvalue=0.010661194772400996)\n",
      "epoch: 0, iter: 14900, loss: 33.73357391357422\n",
      "epoch: 0, iter: 15000, loss: 37.938392639160156\n",
      "epoch: 0,iteration:15000,simlex-999:SpearmanrResult(correlation=0.08370747977148854, pvalue=0.009692387566281272)\n",
      "epoch: 0, iter: 15100, loss: 33.52093505859375\n",
      "epoch: 0, iter: 15200, loss: 32.46167755126953\n",
      "epoch: 0,iteration:15200,simlex-999:SpearmanrResult(correlation=0.0845326648865465, pvalue=0.008996035535487385)\n",
      "epoch: 0, iter: 15300, loss: 33.255584716796875\n",
      "epoch: 0, iter: 15400, loss: 32.51648712158203\n",
      "epoch: 0,iteration:15400,simlex-999:SpearmanrResult(correlation=0.08331919516932489, pvalue=0.010036344867103978)\n",
      "epoch: 0, iter: 15500, loss: 33.383182525634766\n",
      "epoch: 0, iter: 15600, loss: 32.50462341308594\n",
      "epoch: 0,iteration:15600,simlex-999:SpearmanrResult(correlation=0.08267730620440467, pvalue=0.010628800484804777)\n",
      "epoch: 0, iter: 15700, loss: 32.8360595703125\n",
      "epoch: 0, iter: 15800, loss: 32.45802307128906\n",
      "epoch: 0,iteration:15800,simlex-999:SpearmanrResult(correlation=0.08244725999938526, pvalue=0.010848570685381692)\n"
     ]
    },
    {
     "name": "stdout",
     "output_type": "stream",
     "text": [
      "epoch: 0, iter: 15900, loss: 32.5963134765625\n",
      "epoch: 0, iter: 16000, loss: 32.204288482666016\n",
      "epoch: 0,iteration:16000,simlex-999:SpearmanrResult(correlation=0.08253936417255053, pvalue=0.010760101236559795)\n",
      "epoch: 0, iter: 16100, loss: 32.276309967041016\n",
      "epoch: 0, iter: 16200, loss: 32.928993225097656\n",
      "epoch: 0,iteration:16200,simlex-999:SpearmanrResult(correlation=0.08248435597789301, pvalue=0.0108128612875177)\n",
      "epoch: 0, iter: 16300, loss: 32.67758560180664\n",
      "epoch: 0, iter: 16400, loss: 32.85658645629883\n",
      "epoch: 0,iteration:16400,simlex-999:SpearmanrResult(correlation=0.08234011149961577, pvalue=0.010952302582973698)\n",
      "epoch: 0, iter: 16500, loss: 32.65325164794922\n",
      "epoch: 0, iter: 16600, loss: 32.298095703125\n",
      "epoch: 0,iteration:16600,simlex-999:SpearmanrResult(correlation=0.08233479726573492, pvalue=0.010957470193005648)\n",
      "epoch: 0, iter: 16700, loss: 32.57637023925781\n",
      "epoch: 0, iter: 16800, loss: 32.916786193847656\n",
      "epoch: 0,iteration:16800,simlex-999:SpearmanrResult(correlation=0.08337215812119556, pvalue=0.009988797813357734)\n",
      "epoch: 0, iter: 16900, loss: 35.16243362426758\n",
      "epoch: 0, iter: 17000, loss: 33.74647903442383\n",
      "epoch: 0,iteration:17000,simlex-999:SpearmanrResult(correlation=0.0837339956562751, pvalue=0.009669286056091306)\n",
      "epoch: 0, iter: 17100, loss: 35.80071258544922\n",
      "epoch: 0, iter: 17200, loss: 32.38367462158203\n",
      "epoch: 0,iteration:17200,simlex-999:SpearmanrResult(correlation=0.08386140971349741, pvalue=0.009558960879896092)\n",
      "epoch: 0, iter: 17300, loss: 33.145347595214844\n",
      "epoch: 0, iter: 17400, loss: 32.58073043823242\n",
      "epoch: 0,iteration:17400,simlex-999:SpearmanrResult(correlation=0.08333181388332547, pvalue=0.010024998294722275)\n",
      "epoch: 0, iter: 17500, loss: 32.328121185302734\n",
      "epoch: 0, iter: 17600, loss: 33.21206283569336\n",
      "epoch: 0,iteration:17600,simlex-999:SpearmanrResult(correlation=0.08308036562066104, pvalue=0.010253261201526654)\n",
      "epoch: 0, iter: 17700, loss: 32.718021392822266\n",
      "epoch: 0, iter: 17800, loss: 32.072792053222656\n",
      "epoch: 0,iteration:17800,simlex-999:SpearmanrResult(correlation=0.08312888161525117, pvalue=0.010208862415750943)\n",
      "epoch: 0, iter: 17900, loss: 33.82724380493164\n",
      "epoch: 0, iter: 18000, loss: 33.26860046386719\n",
      "epoch: 0,iteration:18000,simlex-999:SpearmanrResult(correlation=0.08349948521837267, pvalue=0.00987530969658971)\n",
      "epoch: 0, iter: 18100, loss: 32.10719680786133\n",
      "epoch: 0, iter: 18200, loss: 31.5762939453125\n",
      "epoch: 0,iteration:18200,simlex-999:SpearmanrResult(correlation=0.08320651849527821, pvalue=0.010138169484987358)\n",
      "epoch: 0, iter: 18300, loss: 32.63249588012695\n",
      "epoch: 0, iter: 18400, loss: 32.7407341003418\n",
      "epoch: 0,iteration:18400,simlex-999:SpearmanrResult(correlation=0.08338087898157527, pvalue=0.009980987969977123)\n",
      "epoch: 0, iter: 18500, loss: 32.71847152709961\n",
      "epoch: 0, iter: 18600, loss: 32.52286911010742\n",
      "epoch: 0,iteration:18600,simlex-999:SpearmanrResult(correlation=0.08296905695340615, pvalue=0.010355772985791049)\n",
      "epoch: 0, iter: 18700, loss: 32.90898132324219\n",
      "epoch: 0, iter: 18800, loss: 32.2999267578125\n",
      "epoch: 0,iteration:18800,simlex-999:SpearmanrResult(correlation=0.08391957949743331, pvalue=0.00950896653876675)\n",
      "epoch: 0, iter: 18900, loss: 32.04025650024414\n",
      "epoch: 0, iter: 19000, loss: 32.81086349487305\n",
      "epoch: 0,iteration:19000,simlex-999:SpearmanrResult(correlation=0.08442866069941134, pvalue=0.009081272935172796)\n",
      "epoch: 0, iter: 19100, loss: 32.331398010253906\n",
      "epoch: 0, iter: 19200, loss: 32.6111946105957\n",
      "epoch: 0,iteration:19200,simlex-999:SpearmanrResult(correlation=0.08421226288439802, pvalue=0.009260934170152328)\n",
      "epoch: 0, iter: 19300, loss: 32.79034423828125\n",
      "epoch: 0, iter: 19400, loss: 32.06217575073242\n",
      "epoch: 0,iteration:19400,simlex-999:SpearmanrResult(correlation=0.08372915134164508, pvalue=0.009673502919877015)\n",
      "epoch: 0, iter: 19500, loss: 31.750076293945312\n",
      "epoch: 0, iter: 19600, loss: 32.36026382446289\n",
      "epoch: 0,iteration:19600,simlex-999:SpearmanrResult(correlation=0.08384588481201632, pvalue=0.009572343342415256)\n",
      "epoch: 0, iter: 19700, loss: 33.06277847290039\n",
      "epoch: 0, iter: 19800, loss: 32.15610885620117\n",
      "epoch: 0,iteration:19800,simlex-999:SpearmanrResult(correlation=0.08436940624656865, pvalue=0.009130156611826406)\n",
      "epoch: 0, iter: 19900, loss: 32.72823715209961\n",
      "epoch: 0, iter: 20000, loss: 31.727392196655273\n",
      "epoch: 0,iteration:20000,simlex-999:SpearmanrResult(correlation=0.08438197975030183, pvalue=0.009119764176958712)\n",
      "epoch: 0, iter: 20100, loss: 32.32269287109375\n",
      "epoch: 0, iter: 20200, loss: 32.1019401550293\n",
      "epoch: 0,iteration:20200,simlex-999:SpearmanrResult(correlation=0.08469719565689603, pvalue=0.00886264936274512)\n",
      "epoch: 0, iter: 20300, loss: 31.841684341430664\n",
      "epoch: 0, iter: 20400, loss: 32.321083068847656\n",
      "epoch: 0,iteration:20400,simlex-999:SpearmanrResult(correlation=0.0841536681001642, pvalue=0.009310123367311365)\n",
      "epoch: 0, iter: 20500, loss: 32.08642578125\n",
      "epoch: 0, iter: 20600, loss: 32.58356475830078\n",
      "epoch: 0,iteration:20600,simlex-999:SpearmanrResult(correlation=0.08391286212641591, pvalue=0.009514727905633968)\n",
      "epoch: 0, iter: 20700, loss: 32.69564437866211\n",
      "epoch: 0, iter: 20800, loss: 31.81509017944336\n",
      "epoch: 0,iteration:20800,simlex-999:SpearmanrResult(correlation=0.08388687144549795, pvalue=0.009537048928119775)\n",
      "epoch: 0, iter: 20900, loss: 31.96875762939453\n",
      "epoch: 0, iter: 21000, loss: 32.649749755859375\n",
      "epoch: 0,iteration:21000,simlex-999:SpearmanrResult(correlation=0.0836892082053234, pvalue=0.00970833492830918)\n",
      "epoch: 0, iter: 21100, loss: 31.739849090576172\n",
      "epoch: 0, iter: 21200, loss: 31.20664405822754\n",
      "epoch: 0,iteration:21200,simlex-999:SpearmanrResult(correlation=0.08386882159737546, pvalue=0.009552577713443491)\n",
      "epoch: 0, iter: 21300, loss: 32.37818145751953\n",
      "epoch: 0, iter: 21400, loss: 32.05371856689453\n",
      "epoch: 0,iteration:21400,simlex-999:SpearmanrResult(correlation=0.0836632451667143, pvalue=0.00973103554608928)\n",
      "epoch: 0, iter: 21500, loss: 32.06476593017578\n",
      "epoch: 0, iter: 21600, loss: 32.64320755004883\n",
      "epoch: 0,iteration:21600,simlex-999:SpearmanrResult(correlation=0.08317427028657767, pvalue=0.010167480359405422)\n",
      "epoch: 0, iter: 21700, loss: 32.220706939697266\n",
      "epoch: 0, iter: 21800, loss: 32.483489990234375\n",
      "epoch: 0,iteration:21800,simlex-999:SpearmanrResult(correlation=0.08365442035960657, pvalue=0.009738762209300646)\n",
      "epoch: 0, iter: 21900, loss: 31.97228240966797\n",
      "epoch: 0, iter: 22000, loss: 31.97406578063965\n",
      "epoch: 0,iteration:22000,simlex-999:SpearmanrResult(correlation=0.08330255449938326, pvalue=0.010051325384931186)\n",
      "epoch: 0, iter: 22100, loss: 31.906064987182617\n",
      "epoch: 0, iter: 22200, loss: 32.155181884765625\n",
      "epoch: 0,iteration:22200,simlex-999:SpearmanrResult(correlation=0.08391794140067135, pvalue=0.009510371218089826)\n",
      "epoch: 0, iter: 22300, loss: 32.292240142822266\n",
      "epoch: 0, iter: 22400, loss: 33.09165573120117\n",
      "epoch: 0,iteration:22400,simlex-999:SpearmanrResult(correlation=0.08441874776807766, pvalue=0.009089434609577037)\n",
      "epoch: 0, iter: 22500, loss: 31.874759674072266\n",
      "epoch: 0, iter: 22600, loss: 31.996801376342773\n",
      "epoch: 0,iteration:22600,simlex-999:SpearmanrResult(correlation=0.08432810863696949, pvalue=0.009164364818625138)\n",
      "epoch: 0, iter: 22700, loss: 32.16770935058594\n",
      "epoch: 0, iter: 22800, loss: 31.298933029174805\n",
      "epoch: 0,iteration:22800,simlex-999:SpearmanrResult(correlation=0.08505234029336137, pvalue=0.008580727758362943)\n",
      "epoch: 0, iter: 22900, loss: 31.50575828552246\n",
      "epoch: 0, iter: 23000, loss: 32.18937301635742\n",
      "epoch: 0,iteration:23000,simlex-999:SpearmanrResult(correlation=0.08482054600537998, pvalue=0.008763808337481076)\n",
      "epoch: 0, iter: 23100, loss: 32.55772018432617\n",
      "epoch: 0, iter: 23200, loss: 32.729209899902344\n",
      "epoch: 0,iteration:23200,simlex-999:SpearmanrResult(correlation=0.08521247218866342, pvalue=0.008456250676121138)\n",
      "epoch: 0, iter: 23300, loss: 31.82571792602539\n",
      "epoch: 0, iter: 23400, loss: 31.752119064331055\n",
      "epoch: 0,iteration:23400,simlex-999:SpearmanrResult(correlation=0.08536675457531172, pvalue=0.008337848284233229)\n",
      "epoch: 0, iter: 23500, loss: 31.60089874267578\n",
      "epoch: 0, iter: 23600, loss: 32.5020866394043\n",
      "epoch: 0,iteration:23600,simlex-999:SpearmanrResult(correlation=0.08480823797427996, pvalue=0.008773626442085547)\n",
      "epoch: 0, iter: 23700, loss: 32.39664077758789\n",
      "epoch: 0, iter: 23800, loss: 32.73453903198242\n"
     ]
    },
    {
     "name": "stdout",
     "output_type": "stream",
     "text": [
      "epoch: 0,iteration:23800,simlex-999:SpearmanrResult(correlation=0.08516054611144525, pvalue=0.008496437152007829)\n",
      "epoch: 0, iter: 23900, loss: 31.200136184692383\n",
      "epoch: 0, iter: 24000, loss: 32.26429748535156\n",
      "epoch: 0,iteration:24000,simlex-999:SpearmanrResult(correlation=0.08506333502171565, pvalue=0.00857212910321775)\n",
      "epoch: 0, iter: 24100, loss: 35.788673400878906\n",
      "epoch: 0, iter: 24200, loss: 32.47003173828125\n",
      "epoch: 0,iteration:24200,simlex-999:SpearmanrResult(correlation=0.08452292817529185, pvalue=0.009003984955713489)\n",
      "epoch: 0, iter: 24300, loss: 31.60643196105957\n",
      "epoch: 0, iter: 24400, loss: 31.976041793823242\n",
      "epoch: 0,iteration:24400,simlex-999:SpearmanrResult(correlation=0.08531669751426955, pvalue=0.008376100755004254)\n",
      "epoch: 0, iter: 24500, loss: 31.82170867919922\n",
      "epoch: 0, iter: 24600, loss: 31.665632247924805\n",
      "epoch: 0,iteration:24600,simlex-999:SpearmanrResult(correlation=0.08615886191755281, pvalue=0.007752962858116255)\n",
      "epoch: 0, iter: 24700, loss: 31.636091232299805\n",
      "epoch: 0, iter: 24800, loss: 32.98637771606445\n",
      "epoch: 0,iteration:24800,simlex-999:SpearmanrResult(correlation=0.08620830018697241, pvalue=0.007717705600130069)\n",
      "epoch: 0, iter: 24900, loss: 31.780208587646484\n",
      "epoch: 0, iter: 25000, loss: 32.61940002441406\n",
      "epoch: 0,iteration:25000,simlex-999:SpearmanrResult(correlation=0.08735265031085677, pvalue=0.00694069617138007)\n",
      "epoch: 0, iter: 25100, loss: 31.664974212646484\n",
      "epoch: 0, iter: 25200, loss: 32.07516860961914\n",
      "epoch: 0,iteration:25200,simlex-999:SpearmanrResult(correlation=0.0873512892289633, pvalue=0.006941577068637111)\n",
      "epoch: 0, iter: 25300, loss: 32.26935577392578\n",
      "epoch: 0, iter: 25400, loss: 31.74274253845215\n",
      "epoch: 0,iteration:25400,simlex-999:SpearmanrResult(correlation=0.08718410824308007, pvalue=0.007050542783753059)\n",
      "epoch: 0, iter: 25500, loss: 31.62307357788086\n",
      "epoch: 0, iter: 25600, loss: 31.71923065185547\n",
      "epoch: 0,iteration:25600,simlex-999:SpearmanrResult(correlation=0.08694110846146624, pvalue=0.007211660859228508)\n",
      "epoch: 0, iter: 25700, loss: 32.42879104614258\n",
      "epoch: 0, iter: 25800, loss: 31.239316940307617\n",
      "epoch: 0,iteration:25800,simlex-999:SpearmanrResult(correlation=0.08648029359570682, pvalue=0.007526285140056182)\n",
      "epoch: 0, iter: 25900, loss: 32.2370491027832\n",
      "epoch: 0, iter: 26000, loss: 31.81332778930664\n",
      "epoch: 0,iteration:26000,simlex-999:SpearmanrResult(correlation=0.08633110805471851, pvalue=0.007630744306468637)\n"
     ]
    },
    {
     "ename": "KeyboardInterrupt",
     "evalue": "",
     "output_type": "error",
     "traceback": [
      "\u001b[1;31m---------------------------------------------------------------------------\u001b[0m",
      "\u001b[1;31mKeyboardInterrupt\u001b[0m                         Traceback (most recent call last)",
      "\u001b[1;32m<ipython-input-42-0b5c1604d52a>\u001b[0m in \u001b[0;36m<module>\u001b[1;34m()\u001b[0m\n\u001b[0;32m      8\u001b[0m         \u001b[0moptimizer\u001b[0m\u001b[1;33m.\u001b[0m\u001b[0mzero_grad\u001b[0m\u001b[1;33m(\u001b[0m\u001b[1;33m)\u001b[0m\u001b[1;33m\u001b[0m\u001b[0m\n\u001b[0;32m      9\u001b[0m         \u001b[0mloss\u001b[0m\u001b[1;33m=\u001b[0m\u001b[0mmodel\u001b[0m\u001b[1;33m(\u001b[0m\u001b[0minput_labels\u001b[0m\u001b[1;33m,\u001b[0m\u001b[0mpos_labels\u001b[0m\u001b[1;33m,\u001b[0m\u001b[0mneg_labels\u001b[0m\u001b[1;33m)\u001b[0m\u001b[1;33m.\u001b[0m\u001b[0mmean\u001b[0m\u001b[1;33m(\u001b[0m\u001b[1;33m)\u001b[0m\u001b[1;33m\u001b[0m\u001b[0m\n\u001b[1;32m---> 10\u001b[1;33m         \u001b[0mloss\u001b[0m\u001b[1;33m.\u001b[0m\u001b[0mbackward\u001b[0m\u001b[1;33m(\u001b[0m\u001b[1;33m)\u001b[0m\u001b[1;33m\u001b[0m\u001b[0m\n\u001b[0m\u001b[0;32m     11\u001b[0m         \u001b[0moptimizer\u001b[0m\u001b[1;33m.\u001b[0m\u001b[0mstep\u001b[0m\u001b[1;33m(\u001b[0m\u001b[1;33m)\u001b[0m\u001b[1;33m\u001b[0m\u001b[0m\n\u001b[0;32m     12\u001b[0m \u001b[1;33m\u001b[0m\u001b[0m\n",
      "\u001b[1;32mD:\\ProgramData\\Anaconda3\\lib\\site-packages\\torch\\tensor.py\u001b[0m in \u001b[0;36mbackward\u001b[1;34m(self, gradient, retain_graph, create_graph)\u001b[0m\n\u001b[0;32m    100\u001b[0m                 \u001b[0mproducts\u001b[0m\u001b[1;33m.\u001b[0m \u001b[0mDefaults\u001b[0m \u001b[0mto\u001b[0m\u001b[0;31m \u001b[0m\u001b[0;31m`\u001b[0m\u001b[0;31m`\u001b[0m\u001b[1;32mFalse\u001b[0m\u001b[0;31m`\u001b[0m\u001b[0;31m`\u001b[0m\u001b[1;33m.\u001b[0m\u001b[1;33m\u001b[0m\u001b[0m\n\u001b[0;32m    101\u001b[0m         \"\"\"\n\u001b[1;32m--> 102\u001b[1;33m         \u001b[0mtorch\u001b[0m\u001b[1;33m.\u001b[0m\u001b[0mautograd\u001b[0m\u001b[1;33m.\u001b[0m\u001b[0mbackward\u001b[0m\u001b[1;33m(\u001b[0m\u001b[0mself\u001b[0m\u001b[1;33m,\u001b[0m \u001b[0mgradient\u001b[0m\u001b[1;33m,\u001b[0m \u001b[0mretain_graph\u001b[0m\u001b[1;33m,\u001b[0m \u001b[0mcreate_graph\u001b[0m\u001b[1;33m)\u001b[0m\u001b[1;33m\u001b[0m\u001b[0m\n\u001b[0m\u001b[0;32m    103\u001b[0m \u001b[1;33m\u001b[0m\u001b[0m\n\u001b[0;32m    104\u001b[0m     \u001b[1;32mdef\u001b[0m \u001b[0mregister_hook\u001b[0m\u001b[1;33m(\u001b[0m\u001b[0mself\u001b[0m\u001b[1;33m,\u001b[0m \u001b[0mhook\u001b[0m\u001b[1;33m)\u001b[0m\u001b[1;33m:\u001b[0m\u001b[1;33m\u001b[0m\u001b[0m\n",
      "\u001b[1;32mD:\\ProgramData\\Anaconda3\\lib\\site-packages\\torch\\autograd\\__init__.py\u001b[0m in \u001b[0;36mbackward\u001b[1;34m(tensors, grad_tensors, retain_graph, create_graph, grad_variables)\u001b[0m\n\u001b[0;32m     88\u001b[0m     Variable._execution_engine.run_backward(\n\u001b[0;32m     89\u001b[0m         \u001b[0mtensors\u001b[0m\u001b[1;33m,\u001b[0m \u001b[0mgrad_tensors\u001b[0m\u001b[1;33m,\u001b[0m \u001b[0mretain_graph\u001b[0m\u001b[1;33m,\u001b[0m \u001b[0mcreate_graph\u001b[0m\u001b[1;33m,\u001b[0m\u001b[1;33m\u001b[0m\u001b[0m\n\u001b[1;32m---> 90\u001b[1;33m         allow_unreachable=True)  # allow_unreachable flag\n\u001b[0m\u001b[0;32m     91\u001b[0m \u001b[1;33m\u001b[0m\u001b[0m\n\u001b[0;32m     92\u001b[0m \u001b[1;33m\u001b[0m\u001b[0m\n",
      "\u001b[1;31mKeyboardInterrupt\u001b[0m: "
     ]
    }
   ],
   "source": [
    "optimizer=torch.optim.SGD(model.parameters(),lr=LEARNING_RATE)\n",
    "for e in range(NUM_EPOCHS):\n",
    "    for i ,(input_labels,pos_labels,neg_labels) in enumerate(dataloader):\n",
    "        input_labels=input_labels.long()\n",
    "        pos_labels=pos_labels.long()\n",
    "        neg_labels=neg_labels.long()\n",
    "        \n",
    "        optimizer.zero_grad()\n",
    "        loss=model(input_labels,pos_labels,neg_labels).mean()\n",
    "        loss.backward()\n",
    "        optimizer.step()\n",
    "        \n",
    "        if i %100 ==0:\n",
    "            with open(LOG_FILE,'a') as fout:\n",
    "                fout.write('epoch : {},iter: {},loss : {}\\n'.format(e,i,loss.item()))\n",
    "                print(\"epoch: {}, iter: {}, loss: {}\".format(e, i, loss.item()))\n",
    "        \n",
    "        if i %200 ==0:\n",
    "            embedding_weights=model.input_embeddings()\n",
    "            sim_simlex=evaluate(r'F:\\study\\ml\\DoctorChu-pytorch\\2\\simlex-999.txt',embedding_weights)\n",
    "            sim_men=evaluate(r'F:\\study\\ml\\DoctorChu-pytorch\\2\\men.txt',embedding_weights)\n",
    "            sim_353=evaluate(r'F:\\study\\ml\\DoctorChu-pytorch\\2\\wordsim353.csv',embedding_weights)\n",
    "            with open(LOG_FILE,'a') as fout:\n",
    "                print('epoch: {},iteration:{},simlex-999:{}'.format(\n",
    "                e,i,sim_simlex,sim_men,sim_353,find_nearest('monster')))\n",
    "                fout.write('epoch: {},iteration:{},simlex-999:{}'.format(\n",
    "                e,i,sim_simlex,sim_men,sim_353,find_nearest('monster')))\n",
    "    embedding_weights=model.input_embeddings()\n",
    "    np.save(r\"F:\\study\\ml\\DoctorChu-pytorch\\2\\embedding-{}\".format(EMBEDDING_SIZE), embedding_weights)\n",
    "    torch.save(model.state_dict(), \"F:\\study\\ml\\DoctorChu-pytorch\\2\\embedding-{}.th\".format(EMBEDDING_SIZE))"
   ]
  },
  {
   "cell_type": "code",
   "execution_count": 17,
   "metadata": {
    "ExecuteTime": {
     "end_time": "2021-02-22T08:11:18.210217Z",
     "start_time": "2021-02-22T08:11:18.094210Z"
    },
    "collapsed": true
   },
   "outputs": [],
   "source": [
    "simlex=pd.read_csv(r'F:\\study\\ml\\DoctorChu-pytorch\\2\\simlex-999.txt',sep='\\t')"
   ]
  },
  {
   "cell_type": "code",
   "execution_count": 24,
   "metadata": {
    "ExecuteTime": {
     "end_time": "2021-02-22T08:18:18.475254Z",
     "start_time": "2021-02-22T08:18:18.460253Z"
    }
   },
   "outputs": [
    {
     "data": {
      "text/plain": [
       "17156"
      ]
     },
     "execution_count": 24,
     "metadata": {},
     "output_type": "execute_result"
    }
   ],
   "source": [
    "word_to_idx['aaa']"
   ]
  },
  {
   "cell_type": "code",
   "execution_count": 47,
   "metadata": {
    "ExecuteTime": {
     "end_time": "2021-02-22T08:20:10.057636Z",
     "start_time": "2021-02-22T08:20:10.045636Z"
    }
   },
   "outputs": [
    {
     "data": {
      "text/plain": [
       "tensor([[-1.4835, -0.7375,  0.5899]])"
      ]
     },
     "execution_count": 47,
     "metadata": {},
     "output_type": "execute_result"
    }
   ],
   "source": [
    "embedding1.weight.data[[5]]"
   ]
  },
  {
   "cell_type": "code",
   "execution_count": 48,
   "metadata": {
    "ExecuteTime": {
     "end_time": "2021-02-22T08:20:20.937259Z",
     "start_time": "2021-02-22T08:20:20.925258Z"
    }
   },
   "outputs": [
    {
     "data": {
      "text/plain": [
       "tensor([-1.4835, -0.7375,  0.5899])"
      ]
     },
     "execution_count": 48,
     "metadata": {},
     "output_type": "execute_result"
    }
   ],
   "source": [
    "embedding1.weight.data[5]"
   ]
  },
  {
   "cell_type": "code",
   "execution_count": 50,
   "metadata": {
    "ExecuteTime": {
     "end_time": "2021-02-22T08:22:40.260228Z",
     "start_time": "2021-02-22T08:22:40.232226Z"
    }
   },
   "outputs": [
    {
     "data": {
      "text/plain": [
       "array([[0.80159396]], dtype=float32)"
      ]
     },
     "execution_count": 50,
     "metadata": {},
     "output_type": "execute_result"
    }
   ],
   "source": [
    "sklearn.metrics.pairwise.cosine_similarity(embedding1.weight.data[[5]],\n",
    "                                           embedding1.weight.data[[6]])"
   ]
  },
  {
   "cell_type": "code",
   "execution_count": 23,
   "metadata": {
    "ExecuteTime": {
     "end_time": "2021-02-22T08:14:03.065646Z",
     "start_time": "2021-02-22T08:14:03.048645Z"
    }
   },
   "outputs": [
    {
     "data": {
      "text/html": [
       "<div>\n",
       "<style>\n",
       "    .dataframe thead tr:only-child th {\n",
       "        text-align: right;\n",
       "    }\n",
       "\n",
       "    .dataframe thead th {\n",
       "        text-align: left;\n",
       "    }\n",
       "\n",
       "    .dataframe tbody tr th {\n",
       "        vertical-align: top;\n",
       "    }\n",
       "</style>\n",
       "<table border=\"1\" class=\"dataframe\">\n",
       "  <thead>\n",
       "    <tr style=\"text-align: right;\">\n",
       "      <th></th>\n",
       "      <th>word1</th>\n",
       "      <th>word2</th>\n",
       "      <th>simlex999</th>\n",
       "    </tr>\n",
       "  </thead>\n",
       "  <tbody>\n",
       "    <tr>\n",
       "      <th>0</th>\n",
       "      <td>old</td>\n",
       "      <td>new</td>\n",
       "      <td>1.58</td>\n",
       "    </tr>\n",
       "    <tr>\n",
       "      <th>1</th>\n",
       "      <td>smart</td>\n",
       "      <td>intelligent</td>\n",
       "      <td>9.20</td>\n",
       "    </tr>\n",
       "    <tr>\n",
       "      <th>2</th>\n",
       "      <td>hard</td>\n",
       "      <td>difficult</td>\n",
       "      <td>8.77</td>\n",
       "    </tr>\n",
       "    <tr>\n",
       "      <th>3</th>\n",
       "      <td>happy</td>\n",
       "      <td>cheerful</td>\n",
       "      <td>9.55</td>\n",
       "    </tr>\n",
       "    <tr>\n",
       "      <th>4</th>\n",
       "      <td>hard</td>\n",
       "      <td>easy</td>\n",
       "      <td>0.95</td>\n",
       "    </tr>\n",
       "  </tbody>\n",
       "</table>\n",
       "</div>"
      ],
      "text/plain": [
       "   word1        word2  simlex999\n",
       "0    old          new       1.58\n",
       "1  smart  intelligent       9.20\n",
       "2   hard    difficult       8.77\n",
       "3  happy     cheerful       9.55\n",
       "4   hard         easy       0.95"
      ]
     },
     "execution_count": 23,
     "metadata": {},
     "output_type": "execute_result"
    }
   ],
   "source": [
    "simlex.head()"
   ]
  }
 ],
 "metadata": {
  "kernelspec": {
   "display_name": "Python 3",
   "language": "python",
   "name": "python3"
  },
  "language_info": {
   "codemirror_mode": {
    "name": "ipython",
    "version": 3
   },
   "file_extension": ".py",
   "mimetype": "text/x-python",
   "name": "python",
   "nbconvert_exporter": "python",
   "pygments_lexer": "ipython3",
   "version": "3.6.3"
  }
 },
 "nbformat": 4,
 "nbformat_minor": 2
}
