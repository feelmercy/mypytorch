{
 "cells": [
  {
   "cell_type": "code",
   "execution_count": 1,
   "metadata": {
    "ExecuteTime": {
     "end_time": "2021-02-07T09:15:13.015882Z",
     "start_time": "2021-02-07T09:15:12.718866Z"
    },
    "collapsed": true
   },
   "outputs": [],
   "source": [
    "import torch"
   ]
  },
  {
   "cell_type": "code",
   "execution_count": 9,
   "metadata": {
    "ExecuteTime": {
     "end_time": "2021-02-07T09:15:54.667265Z",
     "start_time": "2021-02-07T09:15:54.652264Z"
    }
   },
   "outputs": [
    {
     "data": {
      "text/plain": [
       "tensor([[ 0.8816, -3.0139,  0.1374],\n",
       "        [ 0.6549,  1.9953, -0.7858],\n",
       "        [ 1.2956,  1.3308, -0.4849],\n",
       "        [ 0.0284,  0.1294,  0.3026]])"
      ]
     },
     "execution_count": 9,
     "metadata": {},
     "output_type": "execute_result"
    }
   ],
   "source": [
    "input=torch.randn(4,3)\n",
    "input"
   ]
  },
  {
   "cell_type": "code",
   "execution_count": 10,
   "metadata": {
    "ExecuteTime": {
     "end_time": "2021-02-07T09:18:36.339512Z",
     "start_time": "2021-02-07T09:18:36.332512Z"
    },
    "collapsed": true
   },
   "outputs": [],
   "source": [
    "target=torch.tensor([0,1,1,2])"
   ]
  },
  {
   "cell_type": "code",
   "execution_count": 11,
   "metadata": {
    "ExecuteTime": {
     "end_time": "2021-02-07T09:19:19.419976Z",
     "start_time": "2021-02-07T09:19:19.363973Z"
    }
   },
   "outputs": [
    {
     "data": {
      "text/plain": [
       "tensor([[0.6687, 0.0136, 0.3177],\n",
       "        [0.1977, 0.7555, 0.0468],\n",
       "        [0.4537, 0.4699, 0.0765],\n",
       "        [0.2923, 0.3233, 0.3844]])"
      ]
     },
     "execution_count": 11,
     "metadata": {},
     "output_type": "execute_result"
    }
   ],
   "source": [
    "sfm=torch.nn.Softmax(dim=1)\n",
    "sfm(input)"
   ]
  },
  {
   "cell_type": "code",
   "execution_count": 12,
   "metadata": {
    "ExecuteTime": {
     "end_time": "2021-02-07T09:25:09.997028Z",
     "start_time": "2021-02-07T09:25:09.982027Z"
    }
   },
   "outputs": [
    {
     "data": {
      "text/plain": [
       "tensor([[-0.4024, -4.2979, -1.1466],\n",
       "        [-1.6208, -0.2804, -3.0616],\n",
       "        [-0.7904, -0.7553, -2.5709],\n",
       "        [-1.2301, -1.1291, -0.9560]])"
      ]
     },
     "execution_count": 12,
     "metadata": {},
     "output_type": "execute_result"
    }
   ],
   "source": [
    "logsfm=torch.nn.LogSoftmax(dim=1)\n",
    "logsfm(input)"
   ]
  },
  {
   "cell_type": "code",
   "execution_count": 13,
   "metadata": {
    "ExecuteTime": {
     "end_time": "2021-02-07T09:27:00.075324Z",
     "start_time": "2021-02-07T09:27:00.013320Z"
    }
   },
   "outputs": [
    {
     "data": {
      "text/plain": [
       "tensor([[-0.4024, -4.2979, -1.1466],\n",
       "        [-1.6208, -0.2804, -3.0616],\n",
       "        [-0.7904, -0.7553, -2.5709],\n",
       "        [-1.2301, -1.1291, -0.9560]])"
      ]
     },
     "execution_count": 13,
     "metadata": {},
     "output_type": "execute_result"
    }
   ],
   "source": [
    "torch.log(sfm(input))"
   ]
  },
  {
   "cell_type": "code",
   "execution_count": 15,
   "metadata": {
    "ExecuteTime": {
     "end_time": "2021-02-07T09:28:57.664050Z",
     "start_time": "2021-02-07T09:28:57.654049Z"
    }
   },
   "outputs": [
    {
     "data": {
      "text/plain": [
       "tensor([0, 1, 1, 2])"
      ]
     },
     "execution_count": 15,
     "metadata": {},
     "output_type": "execute_result"
    }
   ],
   "source": [
    "target"
   ]
  },
  {
   "cell_type": "code",
   "execution_count": 14,
   "metadata": {
    "ExecuteTime": {
     "end_time": "2021-02-07T09:28:44.723309Z",
     "start_time": "2021-02-07T09:28:44.710309Z"
    }
   },
   "outputs": [
    {
     "data": {
      "text/plain": [
       "tensor(0.5985)"
      ]
     },
     "execution_count": 14,
     "metadata": {},
     "output_type": "execute_result"
    }
   ],
   "source": [
    "ec=torch.nn.CrossEntropyLoss()\n",
    "ec(input,target)"
   ]
  },
  {
   "cell_type": "code",
   "execution_count": 16,
   "metadata": {
    "ExecuteTime": {
     "end_time": "2021-02-07T09:30:21.115823Z",
     "start_time": "2021-02-07T09:30:21.101822Z"
    }
   },
   "outputs": [
    {
     "data": {
      "text/plain": [
       "tensor(0.5985)"
      ]
     },
     "execution_count": 16,
     "metadata": {},
     "output_type": "execute_result"
    }
   ],
   "source": [
    "loss=torch.nn.NLLLoss()\n",
    "loss(logsfm(input),target)"
   ]
  },
  {
   "cell_type": "code",
   "execution_count": 17,
   "metadata": {
    "ExecuteTime": {
     "end_time": "2021-02-07T09:32:47.794212Z",
     "start_time": "2021-02-07T09:32:47.783212Z"
    }
   },
   "outputs": [
    {
     "data": {
      "text/plain": [
       "0.598525"
      ]
     },
     "execution_count": 17,
     "metadata": {},
     "output_type": "execute_result"
    }
   ],
   "source": [
    "(0.4024+0.2804+0.7553+0.9560)/4"
   ]
  }
 ],
 "metadata": {
  "kernelspec": {
   "display_name": "Python 3",
   "language": "python",
   "name": "python3"
  },
  "language_info": {
   "codemirror_mode": {
    "name": "ipython",
    "version": 3
   },
   "file_extension": ".py",
   "mimetype": "text/x-python",
   "name": "python",
   "nbconvert_exporter": "python",
   "pygments_lexer": "ipython3",
   "version": "3.6.3"
  }
 },
 "nbformat": 4,
 "nbformat_minor": 2
}
