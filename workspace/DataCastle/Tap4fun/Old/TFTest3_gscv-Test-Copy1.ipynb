{
 "cells": [
  {
   "cell_type": "code",
   "execution_count": 1,
   "metadata": {
    "ExecuteTime": {
     "end_time": "2018-08-10T08:01:58.996706Z",
     "start_time": "2018-08-10T08:01:58.539680Z"
    }
   },
   "outputs": [],
   "source": [
    "import pandas as pd\n",
    "import numpy as np"
   ]
  },
  {
   "cell_type": "code",
   "execution_count": 2,
   "metadata": {
    "ExecuteTime": {
     "end_time": "2018-08-10T08:01:59.014707Z",
     "start_time": "2018-08-10T08:01:58.998706Z"
    }
   },
   "outputs": [],
   "source": [
    "df_train=pd.read_csv('F:\\\\study\\\\ml\\\\DataSet\\\\Tap4fun\\\\tap_fun_train.csv',nrows=5)"
   ]
  },
  {
   "cell_type": "code",
   "execution_count": 3,
   "metadata": {
    "ExecuteTime": {
     "end_time": "2018-08-10T08:01:59.186717Z",
     "start_time": "2018-08-10T08:01:59.015707Z"
    }
   },
   "outputs": [
    {
     "name": "stdout",
     "output_type": "stream",
     "text": [
      "<class 'pandas.core.frame.DataFrame'>\n",
      "RangeIndex: 5 entries, 0 to 4\n",
      "Columns: 109 entries, user_id to prediction_pay_price\n",
      "dtypes: float64(13), int64(95), object(1)\n",
      "memory usage: 4.7 KB\n"
     ]
    }
   ],
   "source": [
    "df_train.info(memory_usage='deep')"
   ]
  },
  {
   "cell_type": "code",
   "execution_count": 4,
   "metadata": {
    "ExecuteTime": {
     "end_time": "2018-08-10T08:01:59.304724Z",
     "start_time": "2018-08-10T08:01:59.189717Z"
    }
   },
   "outputs": [],
   "source": [
    "c_int=df_train.select_dtypes(include=['int64']).apply(pd.to_numeric,downcast='unsigned')\n",
    "c_float=df_train.select_dtypes(include=['float']).apply(pd.to_numeric,downcast='float')"
   ]
  },
  {
   "cell_type": "code",
   "execution_count": 5,
   "metadata": {
    "ExecuteTime": {
     "end_time": "2018-08-10T08:01:59.339726Z",
     "start_time": "2018-08-10T08:01:59.306724Z"
    }
   },
   "outputs": [],
   "source": [
    "o_df=df_train.copy()"
   ]
  },
  {
   "cell_type": "code",
   "execution_count": 6,
   "metadata": {
    "ExecuteTime": {
     "end_time": "2018-08-10T08:01:59.467733Z",
     "start_time": "2018-08-10T08:01:59.341726Z"
    }
   },
   "outputs": [],
   "source": [
    "o_df[c_int.columns]=c_int\n",
    "o_df[c_float.columns]=c_float"
   ]
  },
  {
   "cell_type": "code",
   "execution_count": 7,
   "metadata": {
    "ExecuteTime": {
     "end_time": "2018-08-10T08:01:59.510736Z",
     "start_time": "2018-08-10T08:01:59.468733Z"
    }
   },
   "outputs": [],
   "source": [
    "dtypes=o_df.dtypes\n",
    "dtypes_col=dtypes.index\n",
    "dtypes_type=[i.name for i in dtypes.values]\n",
    "column_type=dict(zip(dtypes_col,dtypes_type))"
   ]
  },
  {
   "cell_type": "code",
   "execution_count": 8,
   "metadata": {
    "ExecuteTime": {
     "end_time": "2018-08-10T08:01:59.589740Z",
     "start_time": "2018-08-10T08:01:59.511736Z"
    }
   },
   "outputs": [],
   "source": [
    "#column_type"
   ]
  },
  {
   "cell_type": "code",
   "execution_count": 9,
   "metadata": {
    "ExecuteTime": {
     "end_time": "2018-08-10T08:01:59.686746Z",
     "start_time": "2018-08-10T08:01:59.591740Z"
    }
   },
   "outputs": [
    {
     "data": {
      "text/plain": [
       "'object'"
      ]
     },
     "execution_count": 9,
     "metadata": {},
     "output_type": "execute_result"
    }
   ],
   "source": [
    "column_type.pop('register_time')"
   ]
  },
  {
   "cell_type": "code",
   "execution_count": 10,
   "metadata": {
    "ExecuteTime": {
     "end_time": "2018-08-10T08:02:18.407817Z",
     "start_time": "2018-08-10T08:01:59.688746Z"
    }
   },
   "outputs": [],
   "source": [
    "data_train=pd.read_csv('F:\\\\study\\\\ml\\\\DataSet\\\\Tap4fun\\\\tap_fun_train.csv',\n",
    "                      dtype=column_type,parse_dates=['register_time'],infer_datetime_format=True)"
   ]
  },
  {
   "cell_type": "code",
   "execution_count": 11,
   "metadata": {
    "ExecuteTime": {
     "end_time": "2018-08-10T08:02:18.421817Z",
     "start_time": "2018-08-10T08:02:18.409817Z"
    }
   },
   "outputs": [
    {
     "name": "stdout",
     "output_type": "stream",
     "text": [
      "<class 'pandas.core.frame.DataFrame'>\n",
      "RangeIndex: 2288007 entries, 0 to 2288006\n",
      "Columns: 109 entries, user_id to prediction_pay_price\n",
      "dtypes: datetime64[ns](1), float32(13), uint16(1), uint8(94)\n",
      "memory usage: 340.4 MB\n"
     ]
    }
   ],
   "source": [
    "data_train.info(memory_usage='deep')"
   ]
  },
  {
   "cell_type": "code",
   "execution_count": 12,
   "metadata": {
    "ExecuteTime": {
     "end_time": "2018-08-10T08:02:18.614828Z",
     "start_time": "2018-08-10T08:02:18.423818Z"
    }
   },
   "outputs": [],
   "source": [
    "train_feat2=data_train.copy()\n",
    "# test_feat=data_test\n"
   ]
  },
  {
   "cell_type": "code",
   "execution_count": 13,
   "metadata": {
    "ExecuteTime": {
     "end_time": "2018-08-10T08:02:18.622829Z",
     "start_time": "2018-08-10T08:02:18.617829Z"
    }
   },
   "outputs": [
    {
     "data": {
      "text/plain": [
       "(2288007, 109)"
      ]
     },
     "execution_count": 13,
     "metadata": {},
     "output_type": "execute_result"
    }
   ],
   "source": [
    "train_feat2.shape"
   ]
  },
  {
   "cell_type": "code",
   "execution_count": 14,
   "metadata": {
    "ExecuteTime": {
     "end_time": "2018-08-10T08:02:18.741836Z",
     "start_time": "2018-08-10T08:02:18.624829Z"
    }
   },
   "outputs": [],
   "source": [
    "del data_train"
   ]
  },
  {
   "cell_type": "code",
   "execution_count": 15,
   "metadata": {
    "ExecuteTime": {
     "end_time": "2018-08-10T08:02:18.851842Z",
     "start_time": "2018-08-10T08:02:18.743836Z"
    }
   },
   "outputs": [
    {
     "data": {
      "text/plain": [
       "(2288007, 109)"
      ]
     },
     "execution_count": 15,
     "metadata": {},
     "output_type": "execute_result"
    }
   ],
   "source": [
    "train_feat2.shape"
   ]
  },
  {
   "cell_type": "code",
   "execution_count": 16,
   "metadata": {
    "ExecuteTime": {
     "end_time": "2018-08-10T08:02:18.934847Z",
     "start_time": "2018-08-10T08:02:18.852842Z"
    }
   },
   "outputs": [],
   "source": [
    "label_train=train_feat2['prediction_pay_price']"
   ]
  },
  {
   "cell_type": "code",
   "execution_count": 17,
   "metadata": {
    "ExecuteTime": {
     "end_time": "2018-08-10T08:02:19.013851Z",
     "start_time": "2018-08-10T08:02:18.935847Z"
    }
   },
   "outputs": [
    {
     "data": {
      "text/plain": [
       "(2288007, 109)"
      ]
     },
     "execution_count": 17,
     "metadata": {},
     "output_type": "execute_result"
    }
   ],
   "source": [
    "train_feat2.shape"
   ]
  },
  {
   "cell_type": "code",
   "execution_count": 18,
   "metadata": {
    "ExecuteTime": {
     "end_time": "2018-08-10T08:02:19.140859Z",
     "start_time": "2018-08-10T08:02:19.017852Z"
    }
   },
   "outputs": [],
   "source": [
    "train_feat2['ivory_qua1']=train_feat2.ivory_add_value+train_feat2.ivory_reduce_value\n",
    "train_feat2['ivory_qua2']=train_feat2.ivory_add_value-train_feat2.ivory_reduce_value"
   ]
  },
  {
   "cell_type": "code",
   "execution_count": 19,
   "metadata": {
    "ExecuteTime": {
     "end_time": "2018-08-10T08:02:19.237864Z",
     "start_time": "2018-08-10T08:02:19.141859Z"
    }
   },
   "outputs": [],
   "source": [
    "train_feat2['stone_qua1']=train_feat2.stone_add_value+train_feat2.stone_reduce_value\n",
    "train_feat2['stone_qua2']=train_feat2.stone_add_value-train_feat2.stone_reduce_value"
   ]
  },
  {
   "cell_type": "code",
   "execution_count": 20,
   "metadata": {
    "ExecuteTime": {
     "end_time": "2018-08-10T08:02:19.316869Z",
     "start_time": "2018-08-10T08:02:19.238864Z"
    }
   },
   "outputs": [],
   "source": [
    "train_feat2['meat_qua1']=train_feat2.meat_add_value+train_feat2.meat_reduce_value\n",
    "train_feat2['meat_qua2']=train_feat2.meat_add_value-train_feat2.meat_reduce_value"
   ]
  },
  {
   "cell_type": "code",
   "execution_count": 21,
   "metadata": {
    "ExecuteTime": {
     "end_time": "2018-08-10T08:02:19.399873Z",
     "start_time": "2018-08-10T08:02:19.318869Z"
    }
   },
   "outputs": [],
   "source": [
    "train_feat2['wood_qua1']=train_feat2.wood_add_value+train_feat2.wood_reduce_value\n",
    "train_feat2['wood_qua2']=train_feat2.wood_add_value-train_feat2.wood_reduce_value"
   ]
  },
  {
   "cell_type": "code",
   "execution_count": 22,
   "metadata": {
    "ExecuteTime": {
     "end_time": "2018-08-10T08:02:19.472878Z",
     "start_time": "2018-08-10T08:02:19.401873Z"
    }
   },
   "outputs": [],
   "source": [
    "# for test feat\n",
    "# test_feat2['ivory_qua1']=test_feat.ivory_add_value+test_feat.ivory_reduce_value\n",
    "# test_feat2['ivory_qua2']=test_feat.ivory_add_value-test_feat.ivory_reduce_value\n",
    "# test_feat2['stone_qua1']=test_feat.stone_add_value+test_feat.stone_reduce_value\n",
    "# test_feat2['stone_qua2']=test_feat.stone_add_value-test_feat.stone_reduce_value\n",
    "# test_feat2['meat_qua1']=test_feat.meat_add_value+test_feat.meat_reduce_value\n",
    "# test_feat2['meat_qua2']=test_feat.meat_add_value-test_feat.meat_reduce_value\n",
    "# test_feat2['wood_qua1']=test_feat.wood_add_value+test_feat.wood_reduce_value\n",
    "# test_feat2['wood_qua2']=test_feat.wood_add_value-test_feat.wood_reduce_value"
   ]
  },
  {
   "cell_type": "code",
   "execution_count": 23,
   "metadata": {
    "ExecuteTime": {
     "end_time": "2018-08-10T08:02:19.551882Z",
     "start_time": "2018-08-10T08:02:19.473878Z"
    }
   },
   "outputs": [],
   "source": [
    "# train_feat.shape"
   ]
  },
  {
   "cell_type": "code",
   "execution_count": 24,
   "metadata": {
    "ExecuteTime": {
     "end_time": "2018-08-10T08:02:19.634887Z",
     "start_time": "2018-08-10T08:02:19.553882Z"
    }
   },
   "outputs": [],
   "source": [
    "# train_feat2.shape"
   ]
  },
  {
   "cell_type": "code",
   "execution_count": 25,
   "metadata": {
    "ExecuteTime": {
     "end_time": "2018-08-10T08:02:19.710891Z",
     "start_time": "2018-08-10T08:02:19.635887Z"
    }
   },
   "outputs": [],
   "source": [
    "# test_feat2.shape"
   ]
  },
  {
   "cell_type": "code",
   "execution_count": 26,
   "metadata": {
    "ExecuteTime": {
     "end_time": "2018-08-10T08:02:19.814897Z",
     "start_time": "2018-08-10T08:02:19.713891Z"
    }
   },
   "outputs": [],
   "source": [
    "#train_corr2=train_feat2.corr()"
   ]
  },
  {
   "cell_type": "code",
   "execution_count": 27,
   "metadata": {
    "ExecuteTime": {
     "end_time": "2018-08-10T08:02:19.892902Z",
     "start_time": "2018-08-10T08:02:19.816897Z"
    }
   },
   "outputs": [],
   "source": [
    "#train_corr2['prediction_pay_price'].sort_values(ascending=False).head(40)"
   ]
  },
  {
   "cell_type": "code",
   "execution_count": 28,
   "metadata": {
    "ExecuteTime": {
     "end_time": "2018-08-10T08:02:19.989907Z",
     "start_time": "2018-08-10T08:02:19.893902Z"
    }
   },
   "outputs": [],
   "source": [
    "import re"
   ]
  },
  {
   "cell_type": "code",
   "execution_count": 29,
   "metadata": {
    "ExecuteTime": {
     "end_time": "2018-08-10T08:02:20.066912Z",
     "start_time": "2018-08-10T08:02:19.993907Z"
    },
    "scrolled": true
   },
   "outputs": [
    {
     "data": {
      "text/plain": [
       "array(['sr_troop_defense_level', 'sr_infantry_def_level',\n",
       "       'sr_cavalry_def_level', 'sr_shaman_def_level'], dtype=object)"
      ]
     },
     "execution_count": 29,
     "metadata": {},
     "output_type": "execute_result"
    }
   ],
   "source": [
    "train_feat2.columns.values[pd.Series(train_feat2.columns.values).str.contains('def')]"
   ]
  },
  {
   "cell_type": "code",
   "execution_count": 30,
   "metadata": {
    "ExecuteTime": {
     "end_time": "2018-08-10T08:02:20.174918Z",
     "start_time": "2018-08-10T08:02:20.069912Z"
    }
   },
   "outputs": [
    {
     "data": {
      "text/plain": [
       "pandas.core.series.Series"
      ]
     },
     "execution_count": 30,
     "metadata": {},
     "output_type": "execute_result"
    }
   ],
   "source": [
    "type(pd.Series(train_feat2.columns.values).str.contains('def'))"
   ]
  },
  {
   "cell_type": "code",
   "execution_count": 31,
   "metadata": {
    "ExecuteTime": {
     "end_time": "2018-08-10T08:02:20.254922Z",
     "start_time": "2018-08-10T08:02:20.175918Z"
    }
   },
   "outputs": [],
   "source": [
    "#del text"
   ]
  },
  {
   "cell_type": "code",
   "execution_count": 32,
   "metadata": {
    "ExecuteTime": {
     "end_time": "2018-08-10T08:02:20.346928Z",
     "start_time": "2018-08-10T08:02:20.256922Z"
    },
    "scrolled": true
   },
   "outputs": [],
   "source": [
    "text_def=[]\n",
    "for col in train_feat2.columns.values:\n",
    "     if 'def' in col:\n",
    "            text_def.append(col)"
   ]
  },
  {
   "cell_type": "code",
   "execution_count": 33,
   "metadata": {
    "ExecuteTime": {
     "end_time": "2018-08-10T08:02:20.443933Z",
     "start_time": "2018-08-10T08:02:20.348928Z"
    }
   },
   "outputs": [
    {
     "data": {
      "text/plain": [
       "['sr_troop_defense_level',\n",
       " 'sr_infantry_def_level',\n",
       " 'sr_cavalry_def_level',\n",
       " 'sr_shaman_def_level']"
      ]
     },
     "execution_count": 33,
     "metadata": {},
     "output_type": "execute_result"
    }
   ],
   "source": [
    "text_def"
   ]
  },
  {
   "cell_type": "code",
   "execution_count": 34,
   "metadata": {
    "ExecuteTime": {
     "end_time": "2018-08-10T08:02:20.535938Z",
     "start_time": "2018-08-10T08:02:20.447933Z"
    }
   },
   "outputs": [
    {
     "data": {
      "text/html": [
       "<div>\n",
       "<style scoped>\n",
       "    .dataframe tbody tr th:only-of-type {\n",
       "        vertical-align: middle;\n",
       "    }\n",
       "\n",
       "    .dataframe tbody tr th {\n",
       "        vertical-align: top;\n",
       "    }\n",
       "\n",
       "    .dataframe thead th {\n",
       "        text-align: right;\n",
       "    }\n",
       "</style>\n",
       "<table border=\"1\" class=\"dataframe\">\n",
       "  <thead>\n",
       "    <tr style=\"text-align: right;\">\n",
       "      <th></th>\n",
       "      <th>user_id</th>\n",
       "      <th>register_time</th>\n",
       "      <th>wood_add_value</th>\n",
       "      <th>wood_reduce_value</th>\n",
       "      <th>stone_add_value</th>\n",
       "      <th>stone_reduce_value</th>\n",
       "      <th>ivory_add_value</th>\n",
       "      <th>ivory_reduce_value</th>\n",
       "      <th>meat_add_value</th>\n",
       "      <th>meat_reduce_value</th>\n",
       "      <th>...</th>\n",
       "      <th>pay_count</th>\n",
       "      <th>prediction_pay_price</th>\n",
       "      <th>ivory_qua1</th>\n",
       "      <th>ivory_qua2</th>\n",
       "      <th>stone_qua1</th>\n",
       "      <th>stone_qua2</th>\n",
       "      <th>meat_qua1</th>\n",
       "      <th>meat_qua2</th>\n",
       "      <th>wood_qua1</th>\n",
       "      <th>wood_qua2</th>\n",
       "    </tr>\n",
       "  </thead>\n",
       "  <tbody>\n",
       "    <tr>\n",
       "      <th>0</th>\n",
       "      <td>1</td>\n",
       "      <td>2018-02-02 19:47:15</td>\n",
       "      <td>20125.0</td>\n",
       "      <td>3700.0</td>\n",
       "      <td>0.0</td>\n",
       "      <td>0.0</td>\n",
       "      <td>0.0</td>\n",
       "      <td>0.0</td>\n",
       "      <td>16375.0</td>\n",
       "      <td>2000.0</td>\n",
       "      <td>...</td>\n",
       "      <td>0</td>\n",
       "      <td>0.0</td>\n",
       "      <td>0.0</td>\n",
       "      <td>0.0</td>\n",
       "      <td>0.0</td>\n",
       "      <td>0.0</td>\n",
       "      <td>18375.0</td>\n",
       "      <td>14375.0</td>\n",
       "      <td>23825.0</td>\n",
       "      <td>16425.0</td>\n",
       "    </tr>\n",
       "    <tr>\n",
       "      <th>1</th>\n",
       "      <td>1593</td>\n",
       "      <td>2018-01-26 00:01:05</td>\n",
       "      <td>0.0</td>\n",
       "      <td>0.0</td>\n",
       "      <td>0.0</td>\n",
       "      <td>0.0</td>\n",
       "      <td>0.0</td>\n",
       "      <td>0.0</td>\n",
       "      <td>0.0</td>\n",
       "      <td>0.0</td>\n",
       "      <td>...</td>\n",
       "      <td>0</td>\n",
       "      <td>0.0</td>\n",
       "      <td>0.0</td>\n",
       "      <td>0.0</td>\n",
       "      <td>0.0</td>\n",
       "      <td>0.0</td>\n",
       "      <td>0.0</td>\n",
       "      <td>0.0</td>\n",
       "      <td>0.0</td>\n",
       "      <td>0.0</td>\n",
       "    </tr>\n",
       "    <tr>\n",
       "      <th>2</th>\n",
       "      <td>1594</td>\n",
       "      <td>2018-01-26 00:01:58</td>\n",
       "      <td>0.0</td>\n",
       "      <td>0.0</td>\n",
       "      <td>0.0</td>\n",
       "      <td>0.0</td>\n",
       "      <td>0.0</td>\n",
       "      <td>0.0</td>\n",
       "      <td>0.0</td>\n",
       "      <td>0.0</td>\n",
       "      <td>...</td>\n",
       "      <td>0</td>\n",
       "      <td>0.0</td>\n",
       "      <td>0.0</td>\n",
       "      <td>0.0</td>\n",
       "      <td>0.0</td>\n",
       "      <td>0.0</td>\n",
       "      <td>0.0</td>\n",
       "      <td>0.0</td>\n",
       "      <td>0.0</td>\n",
       "      <td>0.0</td>\n",
       "    </tr>\n",
       "    <tr>\n",
       "      <th>3</th>\n",
       "      <td>1595</td>\n",
       "      <td>2018-01-26 00:02:13</td>\n",
       "      <td>0.0</td>\n",
       "      <td>0.0</td>\n",
       "      <td>0.0</td>\n",
       "      <td>0.0</td>\n",
       "      <td>0.0</td>\n",
       "      <td>0.0</td>\n",
       "      <td>0.0</td>\n",
       "      <td>0.0</td>\n",
       "      <td>...</td>\n",
       "      <td>0</td>\n",
       "      <td>0.0</td>\n",
       "      <td>0.0</td>\n",
       "      <td>0.0</td>\n",
       "      <td>0.0</td>\n",
       "      <td>0.0</td>\n",
       "      <td>0.0</td>\n",
       "      <td>0.0</td>\n",
       "      <td>0.0</td>\n",
       "      <td>0.0</td>\n",
       "    </tr>\n",
       "    <tr>\n",
       "      <th>4</th>\n",
       "      <td>1596</td>\n",
       "      <td>2018-01-26 00:02:46</td>\n",
       "      <td>0.0</td>\n",
       "      <td>0.0</td>\n",
       "      <td>0.0</td>\n",
       "      <td>0.0</td>\n",
       "      <td>0.0</td>\n",
       "      <td>0.0</td>\n",
       "      <td>0.0</td>\n",
       "      <td>0.0</td>\n",
       "      <td>...</td>\n",
       "      <td>0</td>\n",
       "      <td>0.0</td>\n",
       "      <td>0.0</td>\n",
       "      <td>0.0</td>\n",
       "      <td>0.0</td>\n",
       "      <td>0.0</td>\n",
       "      <td>0.0</td>\n",
       "      <td>0.0</td>\n",
       "      <td>0.0</td>\n",
       "      <td>0.0</td>\n",
       "    </tr>\n",
       "  </tbody>\n",
       "</table>\n",
       "<p>5 rows × 117 columns</p>\n",
       "</div>"
      ],
      "text/plain": [
       "   user_id       register_time  wood_add_value  wood_reduce_value  \\\n",
       "0        1 2018-02-02 19:47:15         20125.0             3700.0   \n",
       "1     1593 2018-01-26 00:01:05             0.0                0.0   \n",
       "2     1594 2018-01-26 00:01:58             0.0                0.0   \n",
       "3     1595 2018-01-26 00:02:13             0.0                0.0   \n",
       "4     1596 2018-01-26 00:02:46             0.0                0.0   \n",
       "\n",
       "   stone_add_value  stone_reduce_value  ivory_add_value  ivory_reduce_value  \\\n",
       "0              0.0                 0.0              0.0                 0.0   \n",
       "1              0.0                 0.0              0.0                 0.0   \n",
       "2              0.0                 0.0              0.0                 0.0   \n",
       "3              0.0                 0.0              0.0                 0.0   \n",
       "4              0.0                 0.0              0.0                 0.0   \n",
       "\n",
       "   meat_add_value  meat_reduce_value    ...      pay_count  \\\n",
       "0         16375.0             2000.0    ...              0   \n",
       "1             0.0                0.0    ...              0   \n",
       "2             0.0                0.0    ...              0   \n",
       "3             0.0                0.0    ...              0   \n",
       "4             0.0                0.0    ...              0   \n",
       "\n",
       "   prediction_pay_price  ivory_qua1  ivory_qua2  stone_qua1  stone_qua2  \\\n",
       "0                   0.0         0.0         0.0         0.0         0.0   \n",
       "1                   0.0         0.0         0.0         0.0         0.0   \n",
       "2                   0.0         0.0         0.0         0.0         0.0   \n",
       "3                   0.0         0.0         0.0         0.0         0.0   \n",
       "4                   0.0         0.0         0.0         0.0         0.0   \n",
       "\n",
       "   meat_qua1  meat_qua2  wood_qua1  wood_qua2  \n",
       "0    18375.0    14375.0    23825.0    16425.0  \n",
       "1        0.0        0.0        0.0        0.0  \n",
       "2        0.0        0.0        0.0        0.0  \n",
       "3        0.0        0.0        0.0        0.0  \n",
       "4        0.0        0.0        0.0        0.0  \n",
       "\n",
       "[5 rows x 117 columns]"
      ]
     },
     "execution_count": 34,
     "metadata": {},
     "output_type": "execute_result"
    }
   ],
   "source": [
    "#train_coorr1.to_csv('F:\\\\study\\\\ml\\\\DataSet\\\\Tap4fun\\\\train_feat_corr.csv')\n",
    "#del feat_def_qua\n",
    "train_feat2.head()"
   ]
  },
  {
   "cell_type": "code",
   "execution_count": 35,
   "metadata": {
    "ExecuteTime": {
     "end_time": "2018-08-10T08:02:21.533995Z",
     "start_time": "2018-08-10T08:02:20.536938Z"
    }
   },
   "outputs": [],
   "source": [
    "text_def=[]\n",
    "for col in train_feat2.columns.values:\n",
    "     if 'def' in col:\n",
    "            text_def.append(col)\n",
    "\n",
    "text_def\n",
    "\n",
    "type(text_def)\n",
    "\n",
    "text_troop=[]\n",
    "for col in train_feat2.columns.values:\n",
    "    if 'troop' in col :\n",
    "        text_troop.append(col)\n",
    "\n",
    "text_troop\n",
    "\n",
    "text_cavalry=[]\n",
    "for col in train_feat2.columns.values:\n",
    "    if 'sr_cavalry' in col :\n",
    "        text_cavalry.append(col)\n",
    "\n",
    "text_cavalry\n",
    "\n",
    "text_infantry=[]\n",
    "for col in train_feat2.columns.values:\n",
    "    if 'sr_infantry' in col :\n",
    "        text_infantry.append(col)\n",
    "\n",
    "text_infantry\n",
    "\n",
    "text_shaman=[]\n",
    "for col in train_feat2.columns.values:\n",
    "    if 'sr_shaman' in col :\n",
    "        text_shaman.append(col)\n",
    "\n",
    "text_shaman\n",
    "\n",
    "text_speed=[]\n",
    "for col in train_feat2.columns.values:\n",
    "    if 'speed' in col :\n",
    "        text_speed.append(col)\n",
    "\n",
    "text_speed\n",
    "\n",
    "train_feat2['def_qua1']=0.0\n",
    "for name in text_def:\n",
    "    train_feat2['def_qua1']+=train_feat2[name]\n",
    "\n",
    "#pd.Series(train_feat2.columns.values) .str.contains('def')\n",
    "\n",
    "#train_feat2[train_feat2.sr_troop_attack_level != 0][train_feat2.columns.values[pd.Series(train_feat2.columns.values) .str.contains('def')]]\n",
    "\n",
    "train_feat2['def_qua1']=0.0\n",
    "for name in text_def:\n",
    "    train_feat2['def_qua1']+=train_feat2[name]\n",
    "\n",
    "# test_feat2['def_qua1']=0.0\n",
    "# for name in text_def:\n",
    "#     test_feat2['def_qua1']+=test_feat2[name]\n",
    "\n",
    "train_feat2['cavalry_qua1']=0.0\n",
    "for name in text_cavalry:\n",
    "    train_feat2['cavalry_qua1']+=train_feat2[name]\n",
    "\n",
    "# test_feat2['cavalry_qua1']=0.0\n",
    "# for name in text_cavalry:\n",
    "#     test_feat2['cavalry_qua1']+=test_feat2[name]\n",
    "\n",
    "train_feat2['infantry_qua1']=0.0\n",
    "for name in text_infantry:\n",
    "    train_feat2['infantry_qua1']+=train_feat2[name]\n",
    "\n",
    "# test_feat2['infantry_qua1']=0.0\n",
    "# for name in text_infantry:\n",
    "#     test_feat2['infantry_qua1']+=test_feat2[name]\n",
    "\n",
    "train_feat2['shaman_qua1']=0.0\n",
    "for name in text_shaman:\n",
    "    train_feat2['shaman_qua1']+=train_feat2[name]\n",
    "\n",
    "# test_feat2['shaman_qua1']=0.0\n",
    "# for name in text_shaman:\n",
    "#     test_feat2['shaman_qua1']+=test_feat2[name]\n",
    "\n",
    "train_feat2['speed_qua1']=0.0\n",
    "for name in text_speed:\n",
    "    train_feat2['speed_qua1']+=train_feat2[name]\n",
    "\n",
    "# test_feat2['speed_qua1']=0.0\n",
    "# for name in text_speed:\n",
    "#     test_feat2['speed_qua1']+=test_feat2[name]\n",
    "\n",
    "train_feat2['troop_qua1']=0.0\n",
    "for name in text_troop:\n",
    "    train_feat2['troop_qua1']+=train_feat2[name]"
   ]
  },
  {
   "cell_type": "code",
   "execution_count": 36,
   "metadata": {
    "ExecuteTime": {
     "end_time": "2018-08-10T08:02:21.537996Z",
     "start_time": "2018-08-10T08:02:21.534995Z"
    }
   },
   "outputs": [],
   "source": [
    "# test_feat2['troop_qua1']=0.0\n",
    "# for name in text_troop:\n",
    "#     test_feat2['troop_qua1']+=test_feat2[name]"
   ]
  },
  {
   "cell_type": "code",
   "execution_count": 37,
   "metadata": {
    "ExecuteTime": {
     "end_time": "2018-08-10T08:02:21.615000Z",
     "start_time": "2018-08-10T08:02:21.538996Z"
    }
   },
   "outputs": [
    {
     "data": {
      "text/plain": [
       "array(['pvp_battle_count', 'pvp_lanch_count', 'pvp_win_count',\n",
       "       'pve_battle_count', 'pve_lanch_count', 'pve_win_count'],\n",
       "      dtype=object)"
      ]
     },
     "execution_count": 37,
     "metadata": {},
     "output_type": "execute_result"
    }
   ],
   "source": [
    "train_feat2.columns.values[pd.Series(train_feat2.columns.values).str.contains('^pv')]"
   ]
  },
  {
   "cell_type": "code",
   "execution_count": 38,
   "metadata": {
    "ExecuteTime": {
     "end_time": "2018-08-10T08:02:21.693005Z",
     "start_time": "2018-08-10T08:02:21.616000Z"
    }
   },
   "outputs": [
    {
     "data": {
      "text/plain": [
       "array(['bd_hero_pve_level', 'sr_pvp_march_speed_level',\n",
       "       'pvp_battle_count', 'pvp_lanch_count', 'pvp_win_count',\n",
       "       'pve_battle_count', 'pve_lanch_count', 'pve_win_count'],\n",
       "      dtype=object)"
      ]
     },
     "execution_count": 38,
     "metadata": {},
     "output_type": "execute_result"
    }
   ],
   "source": [
    "train_feat2.columns.values[pd.Series(train_feat2.columns.values).str.contains('pv')]"
   ]
  },
  {
   "cell_type": "code",
   "execution_count": 39,
   "metadata": {
    "ExecuteTime": {
     "end_time": "2018-08-10T08:02:21.835013Z",
     "start_time": "2018-08-10T08:02:21.694005Z"
    }
   },
   "outputs": [],
   "source": [
    "# train_feat2['pvp_lanch_rate_qua1']=train_feat2.pvp_lanch_count/train_feat2.pvp_battle_count\n",
    "# train_feat2['pvp_win_rate_qua1']=train_feat2.pvp_win_count / train_feat2.pvp_battle_count\n",
    "# train_feat2['pvp_win_lanch_rate_qua1']=train_feat2.pvp_win_count / \\\n",
    "# train_feat2.pvp_lanch_count\n",
    "# train_feat2['pve_lanch_rate_qua1']=train_feat2.pve_lanch_count/train_feat2.pve_battle_count\n",
    "# train_feat2['pve_win_rate_qua1']=train_feat2.pve_win_count / train_feat2.pve_battle_count\n",
    "# train_feat2['pve_win_lanch_rate_qua1']=train_feat2.pve_win_count / \\\n",
    "# train_feat2.pve_lanch_count"
   ]
  },
  {
   "cell_type": "code",
   "execution_count": 40,
   "metadata": {
    "ExecuteTime": {
     "end_time": "2018-08-10T08:02:22.014023Z",
     "start_time": "2018-08-10T08:02:21.839013Z"
    }
   },
   "outputs": [],
   "source": [
    "# text_mi=train_feat2.columns[pd.Series(train_feat2.columns.values).str.contains('qua')].tolist()\n",
    "# for name in text_mi :\n",
    "#     name2='x_avg_mi_'+name\n",
    "#     #print(name2)\n",
    "#     train_feat2[name2]=train_feat2[name] / train_feat2.avg_online_minutes\n",
    "\n",
    "# text_top=['ivory','stone','wood','meat']\n",
    "# text_top_add=[]\n",
    "# for name in text_top:\n",
    "#     name2=name+'_add'\n",
    "#     text_top_add.extend(train_feat2.columns[pd.Series(train_feat2.columns.values).str.contains(name2)].tolist())\n",
    "\n",
    "# text_top_add2=[]\n",
    "# for name in text_top_add :\n",
    "#     name2='x_avg_mi_'+name\n",
    "#     train_feat2[name2]=train_feat2[name] / train_feat2.avg_online_minutes\n",
    "#     text_top_add2.append(name2)\n"
   ]
  },
  {
   "cell_type": "code",
   "execution_count": 41,
   "metadata": {
    "ExecuteTime": {
     "end_time": "2018-08-10T08:02:22.125029Z",
     "start_time": "2018-08-10T08:02:22.015023Z"
    }
   },
   "outputs": [],
   "source": [
    "# #\n",
    "# train_feat2['pvp_lanch_rate_qua1']=train_feat2.pvp_lanch_count / train_feat2.pvp_battle_count\n",
    "# train_feat2['pvp_win_rate_qua1']=train_feat2.pvp_win_count / trainhttp://localhost:8888/notebooks/Tap4fun/TFTest22.ipynb#_feat2.pvp_battle_count\n",
    "# train_feat2['pve_lanch_rate_qua1']=train_feat2.pve_lanch_count / train_feat2.pve_battle_count\n",
    "# train_feat2['pve_win_rate_qua1']=train_feat2.pve_win_count / train_feat2.pve_battle_count\n",
    "# train_feat2['pvep_battle_qua1']=train_feat2.pvp_battle_count + train_feat2.pve_battle_count\n",
    "# train_feat2['pvep_win_qua1']=train_feat2.pvp_win_count + train_feat2.pve_win_count\n",
    "# train_feat2['pvep_lanch_qua1']=train_feat2.pvp_lanch_count + train_feat2.pve_lanch_count"
   ]
  },
  {
   "cell_type": "code",
   "execution_count": 42,
   "metadata": {
    "ExecuteTime": {
     "end_time": "2018-08-10T08:02:22.200034Z",
     "start_time": "2018-08-10T08:02:22.126029Z"
    }
   },
   "outputs": [],
   "source": [
    "# train_feat2['pvep_pve_battle_rate_qua1']=train_feat2.pve_battle_count / train_feat2.pvep_battle_qua1\n",
    "# train_feat2['pvep_pvp_battle_rate_qua1']=train_feat2.pvp_battle_count / train_feat2.pvep_battle_qua1\n",
    "\n",
    "# train_feat2['pvep_pve_lanch_rate_qua1']=train_feat2.pve_lanch_count / train_feat2.pvep_lanch_qua1\n",
    "# train_feat2['pvep_pvp_lanch_rate_qua1']=train_feat2.pvp_lanch_count / train_feat2.pvep_lanch_qua1\n",
    "\n",
    "# train_feat2['pvep_pve_win_rate_qua1']=train_feat2.pve_win_count / train_feat2.pvep_win_qua1\n",
    "# train_feat2['pvep_pvp_win_rate_qua1']=train_feat2.pvp_win_count / train_feat2.pvep_win_qua1\n",
    "\n"
   ]
  },
  {
   "cell_type": "code",
   "execution_count": 43,
   "metadata": {
    "ExecuteTime": {
     "end_time": "2018-08-10T08:02:22.639059Z",
     "start_time": "2018-08-10T08:02:22.201034Z"
    }
   },
   "outputs": [],
   "source": [
    "train_feat2['price_per_count_qua1']=train_feat2.pay_price / train_feat2.pay_count"
   ]
  },
  {
   "cell_type": "code",
   "execution_count": 44,
   "metadata": {
    "ExecuteTime": {
     "end_time": "2018-08-10T08:02:22.643059Z",
     "start_time": "2018-08-10T08:02:22.640059Z"
    }
   },
   "outputs": [],
   "source": [
    "###############################################\n",
    "\n",
    "\n",
    "\n",
    "#train_feat2.fillna(0,inplace=True)\n",
    "\n",
    "\n",
    "\n",
    "###############################################"
   ]
  },
  {
   "cell_type": "code",
   "execution_count": 45,
   "metadata": {
    "ExecuteTime": {
     "end_time": "2018-08-10T08:02:22.738064Z",
     "start_time": "2018-08-10T08:02:22.644059Z"
    }
   },
   "outputs": [
    {
     "data": {
      "text/plain": [
       "(2288007, 124)"
      ]
     },
     "execution_count": 45,
     "metadata": {},
     "output_type": "execute_result"
    }
   ],
   "source": [
    "train_feat2.shape"
   ]
  },
  {
   "cell_type": "code",
   "execution_count": null,
   "metadata": {},
   "outputs": [],
   "source": []
  },
  {
   "cell_type": "code",
   "execution_count": null,
   "metadata": {},
   "outputs": [],
   "source": []
  },
  {
   "cell_type": "code",
   "execution_count": null,
   "metadata": {},
   "outputs": [],
   "source": []
  },
  {
   "cell_type": "code",
   "execution_count": 46,
   "metadata": {
    "ExecuteTime": {
     "end_time": "2018-08-10T08:02:23.326098Z",
     "start_time": "2018-08-10T08:02:22.742065Z"
    }
   },
   "outputs": [],
   "source": [
    "train_feat2_int=train_feat2.select_dtypes(include=['uint16','uint8'])\n"
   ]
  },
  {
   "cell_type": "code",
   "execution_count": 47,
   "metadata": {
    "ExecuteTime": {
     "end_time": "2018-08-10T08:02:23.339099Z",
     "start_time": "2018-08-10T08:02:23.328098Z"
    }
   },
   "outputs": [
    {
     "name": "stdout",
     "output_type": "stream",
     "text": [
      "<class 'pandas.core.frame.DataFrame'>\n",
      "RangeIndex: 2288007 entries, 0 to 2288006\n",
      "Columns: 124 entries, user_id to price_per_count_qua1\n",
      "dtypes: datetime64[ns](1), float32(22), float64(6), uint16(1), uint8(94)\n",
      "memory usage: 523.7 MB\n"
     ]
    }
   ],
   "source": [
    "train_feat2.info()"
   ]
  },
  {
   "cell_type": "code",
   "execution_count": 48,
   "metadata": {
    "ExecuteTime": {
     "end_time": "2018-08-10T08:02:23.420103Z",
     "start_time": "2018-08-10T08:02:23.340099Z"
    }
   },
   "outputs": [
    {
     "data": {
      "text/html": [
       "<div>\n",
       "<style scoped>\n",
       "    .dataframe tbody tr th:only-of-type {\n",
       "        vertical-align: middle;\n",
       "    }\n",
       "\n",
       "    .dataframe tbody tr th {\n",
       "        vertical-align: top;\n",
       "    }\n",
       "\n",
       "    .dataframe thead th {\n",
       "        text-align: right;\n",
       "    }\n",
       "</style>\n",
       "<table border=\"1\" class=\"dataframe\">\n",
       "  <thead>\n",
       "    <tr style=\"text-align: right;\">\n",
       "      <th></th>\n",
       "      <th>user_id</th>\n",
       "      <th>infantry_add_value</th>\n",
       "      <th>infantry_reduce_value</th>\n",
       "      <th>cavalry_add_value</th>\n",
       "      <th>cavalry_reduce_value</th>\n",
       "      <th>shaman_add_value</th>\n",
       "      <th>shaman_reduce_value</th>\n",
       "      <th>wound_infantry_add_value</th>\n",
       "      <th>wound_infantry_reduce_value</th>\n",
       "      <th>wound_cavalry_add_value</th>\n",
       "      <th>...</th>\n",
       "      <th>sr_guest_troop_capacity_level</th>\n",
       "      <th>sr_march_size_level</th>\n",
       "      <th>sr_rss_help_bonus_level</th>\n",
       "      <th>pvp_battle_count</th>\n",
       "      <th>pvp_lanch_count</th>\n",
       "      <th>pvp_win_count</th>\n",
       "      <th>pve_battle_count</th>\n",
       "      <th>pve_lanch_count</th>\n",
       "      <th>pve_win_count</th>\n",
       "      <th>pay_count</th>\n",
       "    </tr>\n",
       "  </thead>\n",
       "  <tbody>\n",
       "    <tr>\n",
       "      <th>0</th>\n",
       "      <td>1</td>\n",
       "      <td>0</td>\n",
       "      <td>0</td>\n",
       "      <td>0</td>\n",
       "      <td>0</td>\n",
       "      <td>0</td>\n",
       "      <td>0</td>\n",
       "      <td>0</td>\n",
       "      <td>0</td>\n",
       "      <td>0</td>\n",
       "      <td>...</td>\n",
       "      <td>0</td>\n",
       "      <td>0</td>\n",
       "      <td>0</td>\n",
       "      <td>0</td>\n",
       "      <td>0</td>\n",
       "      <td>0</td>\n",
       "      <td>0</td>\n",
       "      <td>0</td>\n",
       "      <td>0</td>\n",
       "      <td>0</td>\n",
       "    </tr>\n",
       "    <tr>\n",
       "      <th>1</th>\n",
       "      <td>1593</td>\n",
       "      <td>0</td>\n",
       "      <td>0</td>\n",
       "      <td>0</td>\n",
       "      <td>0</td>\n",
       "      <td>0</td>\n",
       "      <td>0</td>\n",
       "      <td>0</td>\n",
       "      <td>0</td>\n",
       "      <td>0</td>\n",
       "      <td>...</td>\n",
       "      <td>0</td>\n",
       "      <td>0</td>\n",
       "      <td>0</td>\n",
       "      <td>0</td>\n",
       "      <td>0</td>\n",
       "      <td>0</td>\n",
       "      <td>0</td>\n",
       "      <td>0</td>\n",
       "      <td>0</td>\n",
       "      <td>0</td>\n",
       "    </tr>\n",
       "    <tr>\n",
       "      <th>2</th>\n",
       "      <td>1594</td>\n",
       "      <td>0</td>\n",
       "      <td>0</td>\n",
       "      <td>0</td>\n",
       "      <td>0</td>\n",
       "      <td>0</td>\n",
       "      <td>0</td>\n",
       "      <td>0</td>\n",
       "      <td>0</td>\n",
       "      <td>0</td>\n",
       "      <td>...</td>\n",
       "      <td>0</td>\n",
       "      <td>0</td>\n",
       "      <td>0</td>\n",
       "      <td>0</td>\n",
       "      <td>0</td>\n",
       "      <td>0</td>\n",
       "      <td>0</td>\n",
       "      <td>0</td>\n",
       "      <td>0</td>\n",
       "      <td>0</td>\n",
       "    </tr>\n",
       "    <tr>\n",
       "      <th>3</th>\n",
       "      <td>1595</td>\n",
       "      <td>0</td>\n",
       "      <td>0</td>\n",
       "      <td>0</td>\n",
       "      <td>0</td>\n",
       "      <td>0</td>\n",
       "      <td>0</td>\n",
       "      <td>0</td>\n",
       "      <td>0</td>\n",
       "      <td>0</td>\n",
       "      <td>...</td>\n",
       "      <td>0</td>\n",
       "      <td>0</td>\n",
       "      <td>0</td>\n",
       "      <td>0</td>\n",
       "      <td>0</td>\n",
       "      <td>0</td>\n",
       "      <td>0</td>\n",
       "      <td>0</td>\n",
       "      <td>0</td>\n",
       "      <td>0</td>\n",
       "    </tr>\n",
       "    <tr>\n",
       "      <th>4</th>\n",
       "      <td>1596</td>\n",
       "      <td>0</td>\n",
       "      <td>0</td>\n",
       "      <td>0</td>\n",
       "      <td>0</td>\n",
       "      <td>0</td>\n",
       "      <td>0</td>\n",
       "      <td>0</td>\n",
       "      <td>0</td>\n",
       "      <td>0</td>\n",
       "      <td>...</td>\n",
       "      <td>0</td>\n",
       "      <td>0</td>\n",
       "      <td>0</td>\n",
       "      <td>0</td>\n",
       "      <td>0</td>\n",
       "      <td>0</td>\n",
       "      <td>0</td>\n",
       "      <td>0</td>\n",
       "      <td>0</td>\n",
       "      <td>0</td>\n",
       "    </tr>\n",
       "  </tbody>\n",
       "</table>\n",
       "<p>5 rows × 95 columns</p>\n",
       "</div>"
      ],
      "text/plain": [
       "   user_id  infantry_add_value  infantry_reduce_value  cavalry_add_value  \\\n",
       "0        1                   0                      0                  0   \n",
       "1     1593                   0                      0                  0   \n",
       "2     1594                   0                      0                  0   \n",
       "3     1595                   0                      0                  0   \n",
       "4     1596                   0                      0                  0   \n",
       "\n",
       "   cavalry_reduce_value  shaman_add_value  shaman_reduce_value  \\\n",
       "0                     0                 0                    0   \n",
       "1                     0                 0                    0   \n",
       "2                     0                 0                    0   \n",
       "3                     0                 0                    0   \n",
       "4                     0                 0                    0   \n",
       "\n",
       "   wound_infantry_add_value  wound_infantry_reduce_value  \\\n",
       "0                         0                            0   \n",
       "1                         0                            0   \n",
       "2                         0                            0   \n",
       "3                         0                            0   \n",
       "4                         0                            0   \n",
       "\n",
       "   wound_cavalry_add_value    ...      sr_guest_troop_capacity_level  \\\n",
       "0                        0    ...                                  0   \n",
       "1                        0    ...                                  0   \n",
       "2                        0    ...                                  0   \n",
       "3                        0    ...                                  0   \n",
       "4                        0    ...                                  0   \n",
       "\n",
       "   sr_march_size_level  sr_rss_help_bonus_level  pvp_battle_count  \\\n",
       "0                    0                        0                 0   \n",
       "1                    0                        0                 0   \n",
       "2                    0                        0                 0   \n",
       "3                    0                        0                 0   \n",
       "4                    0                        0                 0   \n",
       "\n",
       "   pvp_lanch_count  pvp_win_count  pve_battle_count  pve_lanch_count  \\\n",
       "0                0              0                 0                0   \n",
       "1                0              0                 0                0   \n",
       "2                0              0                 0                0   \n",
       "3                0              0                 0                0   \n",
       "4                0              0                 0                0   \n",
       "\n",
       "   pve_win_count  pay_count  \n",
       "0              0          0  \n",
       "1              0          0  \n",
       "2              0          0  \n",
       "3              0          0  \n",
       "4              0          0  \n",
       "\n",
       "[5 rows x 95 columns]"
      ]
     },
     "execution_count": 48,
     "metadata": {},
     "output_type": "execute_result"
    }
   ],
   "source": [
    "train_feat2_int.head()"
   ]
  },
  {
   "cell_type": "code",
   "execution_count": 49,
   "metadata": {
    "ExecuteTime": {
     "end_time": "2018-08-10T08:02:24.017137Z",
     "start_time": "2018-08-10T08:02:23.421103Z"
    }
   },
   "outputs": [],
   "source": [
    "train_feat2_float=train_feat2.select_dtypes(include=['float64','float32']).apply(pd.to_numeric,downcast='float')\n",
    "#train_feat2.select_dtypes(include=['float64','float32']).apply(pd.to_numeric,downcast='float')\n",
    "#..apply(pd.to_numeric,downcast='float')"
   ]
  },
  {
   "cell_type": "code",
   "execution_count": 50,
   "metadata": {
    "ExecuteTime": {
     "end_time": "2018-08-10T08:02:24.044139Z",
     "start_time": "2018-08-10T08:02:24.019138Z"
    }
   },
   "outputs": [
    {
     "data": {
      "text/html": [
       "<div>\n",
       "<style scoped>\n",
       "    .dataframe tbody tr th:only-of-type {\n",
       "        vertical-align: middle;\n",
       "    }\n",
       "\n",
       "    .dataframe tbody tr th {\n",
       "        vertical-align: top;\n",
       "    }\n",
       "\n",
       "    .dataframe thead th {\n",
       "        text-align: right;\n",
       "    }\n",
       "</style>\n",
       "<table border=\"1\" class=\"dataframe\">\n",
       "  <thead>\n",
       "    <tr style=\"text-align: right;\">\n",
       "      <th></th>\n",
       "      <th>wood_add_value</th>\n",
       "      <th>wood_reduce_value</th>\n",
       "      <th>stone_add_value</th>\n",
       "      <th>stone_reduce_value</th>\n",
       "      <th>ivory_add_value</th>\n",
       "      <th>ivory_reduce_value</th>\n",
       "      <th>meat_add_value</th>\n",
       "      <th>meat_reduce_value</th>\n",
       "      <th>magic_add_value</th>\n",
       "      <th>magic_reduce_value</th>\n",
       "      <th>...</th>\n",
       "      <th>meat_qua2</th>\n",
       "      <th>wood_qua1</th>\n",
       "      <th>wood_qua2</th>\n",
       "      <th>def_qua1</th>\n",
       "      <th>cavalry_qua1</th>\n",
       "      <th>infantry_qua1</th>\n",
       "      <th>shaman_qua1</th>\n",
       "      <th>speed_qua1</th>\n",
       "      <th>troop_qua1</th>\n",
       "      <th>price_per_count_qua1</th>\n",
       "    </tr>\n",
       "  </thead>\n",
       "  <tbody>\n",
       "    <tr>\n",
       "      <th>0</th>\n",
       "      <td>20125.0</td>\n",
       "      <td>3700.0</td>\n",
       "      <td>0.0</td>\n",
       "      <td>0.0</td>\n",
       "      <td>0.0</td>\n",
       "      <td>0.0</td>\n",
       "      <td>16375.0</td>\n",
       "      <td>2000.0</td>\n",
       "      <td>0.0</td>\n",
       "      <td>0.0</td>\n",
       "      <td>...</td>\n",
       "      <td>14375.0</td>\n",
       "      <td>23825.0</td>\n",
       "      <td>16425.0</td>\n",
       "      <td>0.0</td>\n",
       "      <td>0.0</td>\n",
       "      <td>0.0</td>\n",
       "      <td>0.0</td>\n",
       "      <td>0.0</td>\n",
       "      <td>0.0</td>\n",
       "      <td>NaN</td>\n",
       "    </tr>\n",
       "    <tr>\n",
       "      <th>1</th>\n",
       "      <td>0.0</td>\n",
       "      <td>0.0</td>\n",
       "      <td>0.0</td>\n",
       "      <td>0.0</td>\n",
       "      <td>0.0</td>\n",
       "      <td>0.0</td>\n",
       "      <td>0.0</td>\n",
       "      <td>0.0</td>\n",
       "      <td>0.0</td>\n",
       "      <td>0.0</td>\n",
       "      <td>...</td>\n",
       "      <td>0.0</td>\n",
       "      <td>0.0</td>\n",
       "      <td>0.0</td>\n",
       "      <td>0.0</td>\n",
       "      <td>0.0</td>\n",
       "      <td>0.0</td>\n",
       "      <td>0.0</td>\n",
       "      <td>0.0</td>\n",
       "      <td>0.0</td>\n",
       "      <td>NaN</td>\n",
       "    </tr>\n",
       "    <tr>\n",
       "      <th>2</th>\n",
       "      <td>0.0</td>\n",
       "      <td>0.0</td>\n",
       "      <td>0.0</td>\n",
       "      <td>0.0</td>\n",
       "      <td>0.0</td>\n",
       "      <td>0.0</td>\n",
       "      <td>0.0</td>\n",
       "      <td>0.0</td>\n",
       "      <td>0.0</td>\n",
       "      <td>0.0</td>\n",
       "      <td>...</td>\n",
       "      <td>0.0</td>\n",
       "      <td>0.0</td>\n",
       "      <td>0.0</td>\n",
       "      <td>0.0</td>\n",
       "      <td>0.0</td>\n",
       "      <td>0.0</td>\n",
       "      <td>0.0</td>\n",
       "      <td>0.0</td>\n",
       "      <td>0.0</td>\n",
       "      <td>NaN</td>\n",
       "    </tr>\n",
       "    <tr>\n",
       "      <th>3</th>\n",
       "      <td>0.0</td>\n",
       "      <td>0.0</td>\n",
       "      <td>0.0</td>\n",
       "      <td>0.0</td>\n",
       "      <td>0.0</td>\n",
       "      <td>0.0</td>\n",
       "      <td>0.0</td>\n",
       "      <td>0.0</td>\n",
       "      <td>0.0</td>\n",
       "      <td>0.0</td>\n",
       "      <td>...</td>\n",
       "      <td>0.0</td>\n",
       "      <td>0.0</td>\n",
       "      <td>0.0</td>\n",
       "      <td>0.0</td>\n",
       "      <td>0.0</td>\n",
       "      <td>0.0</td>\n",
       "      <td>0.0</td>\n",
       "      <td>0.0</td>\n",
       "      <td>0.0</td>\n",
       "      <td>NaN</td>\n",
       "    </tr>\n",
       "    <tr>\n",
       "      <th>4</th>\n",
       "      <td>0.0</td>\n",
       "      <td>0.0</td>\n",
       "      <td>0.0</td>\n",
       "      <td>0.0</td>\n",
       "      <td>0.0</td>\n",
       "      <td>0.0</td>\n",
       "      <td>0.0</td>\n",
       "      <td>0.0</td>\n",
       "      <td>0.0</td>\n",
       "      <td>0.0</td>\n",
       "      <td>...</td>\n",
       "      <td>0.0</td>\n",
       "      <td>0.0</td>\n",
       "      <td>0.0</td>\n",
       "      <td>0.0</td>\n",
       "      <td>0.0</td>\n",
       "      <td>0.0</td>\n",
       "      <td>0.0</td>\n",
       "      <td>0.0</td>\n",
       "      <td>0.0</td>\n",
       "      <td>NaN</td>\n",
       "    </tr>\n",
       "  </tbody>\n",
       "</table>\n",
       "<p>5 rows × 28 columns</p>\n",
       "</div>"
      ],
      "text/plain": [
       "   wood_add_value  wood_reduce_value  stone_add_value  stone_reduce_value  \\\n",
       "0         20125.0             3700.0              0.0                 0.0   \n",
       "1             0.0                0.0              0.0                 0.0   \n",
       "2             0.0                0.0              0.0                 0.0   \n",
       "3             0.0                0.0              0.0                 0.0   \n",
       "4             0.0                0.0              0.0                 0.0   \n",
       "\n",
       "   ivory_add_value  ivory_reduce_value  meat_add_value  meat_reduce_value  \\\n",
       "0              0.0                 0.0         16375.0             2000.0   \n",
       "1              0.0                 0.0             0.0                0.0   \n",
       "2              0.0                 0.0             0.0                0.0   \n",
       "3              0.0                 0.0             0.0                0.0   \n",
       "4              0.0                 0.0             0.0                0.0   \n",
       "\n",
       "   magic_add_value  magic_reduce_value          ...           meat_qua2  \\\n",
       "0              0.0                 0.0          ...             14375.0   \n",
       "1              0.0                 0.0          ...                 0.0   \n",
       "2              0.0                 0.0          ...                 0.0   \n",
       "3              0.0                 0.0          ...                 0.0   \n",
       "4              0.0                 0.0          ...                 0.0   \n",
       "\n",
       "   wood_qua1  wood_qua2  def_qua1  cavalry_qua1  infantry_qua1  shaman_qua1  \\\n",
       "0    23825.0    16425.0       0.0           0.0            0.0          0.0   \n",
       "1        0.0        0.0       0.0           0.0            0.0          0.0   \n",
       "2        0.0        0.0       0.0           0.0            0.0          0.0   \n",
       "3        0.0        0.0       0.0           0.0            0.0          0.0   \n",
       "4        0.0        0.0       0.0           0.0            0.0          0.0   \n",
       "\n",
       "   speed_qua1  troop_qua1  price_per_count_qua1  \n",
       "0         0.0         0.0                   NaN  \n",
       "1         0.0         0.0                   NaN  \n",
       "2         0.0         0.0                   NaN  \n",
       "3         0.0         0.0                   NaN  \n",
       "4         0.0         0.0                   NaN  \n",
       "\n",
       "[5 rows x 28 columns]"
      ]
     },
     "execution_count": 50,
     "metadata": {},
     "output_type": "execute_result"
    }
   ],
   "source": [
    "train_feat2_float.head()"
   ]
  },
  {
   "cell_type": "code",
   "execution_count": null,
   "metadata": {
    "ExecuteTime": {
     "end_time": "2018-07-04T07:37:23.515452Z",
     "start_time": "2018-07-04T07:37:23.419447Z"
    }
   },
   "outputs": [],
   "source": []
  },
  {
   "cell_type": "code",
   "execution_count": 51,
   "metadata": {
    "ExecuteTime": {
     "end_time": "2018-08-10T08:02:24.276152Z",
     "start_time": "2018-08-10T08:02:24.046139Z"
    }
   },
   "outputs": [],
   "source": [
    "train_feat3=pd.concat([train_feat2_int,train_feat2_float],axis=1)"
   ]
  },
  {
   "cell_type": "code",
   "execution_count": 52,
   "metadata": {
    "ExecuteTime": {
     "end_time": "2018-08-10T08:02:24.799182Z",
     "start_time": "2018-08-10T08:02:24.277152Z"
    }
   },
   "outputs": [
    {
     "ename": "AttributeError",
     "evalue": "'DataFrame' object has no attribute 'prediction_pay_price'",
     "output_type": "error",
     "traceback": [
      "\u001b[1;31m---------------------------------------------------------------------------\u001b[0m",
      "\u001b[1;31mAttributeError\u001b[0m                            Traceback (most recent call last)",
      "\u001b[1;32m<ipython-input-52-661da6413fef>\u001b[0m in \u001b[0;36m<module>\u001b[1;34m()\u001b[0m\n\u001b[0;32m      1\u001b[0m \u001b[0mtrain_feat3\u001b[0m\u001b[1;33m.\u001b[0m\u001b[0mdrop\u001b[0m\u001b[1;33m(\u001b[0m\u001b[0mlabels\u001b[0m\u001b[1;33m=\u001b[0m\u001b[1;33m[\u001b[0m\u001b[1;34m'prediction_pay_price'\u001b[0m\u001b[1;33m]\u001b[0m\u001b[1;33m,\u001b[0m\u001b[0maxis\u001b[0m\u001b[1;33m=\u001b[0m\u001b[1;36m1\u001b[0m\u001b[1;33m,\u001b[0m\u001b[0minplace\u001b[0m\u001b[1;33m=\u001b[0m\u001b[1;32mTrue\u001b[0m\u001b[1;33m)\u001b[0m\u001b[1;33m\u001b[0m\u001b[0m\n\u001b[1;32m----> 2\u001b[1;33m \u001b[0mtrain_feat3\u001b[0m\u001b[1;33m.\u001b[0m\u001b[0mprediction_pay_price\u001b[0m\u001b[1;33m\u001b[0m\u001b[0m\n\u001b[0m",
      "\u001b[1;32mD:\\ProgramData\\Anaconda3\\lib\\site-packages\\pandas\\core\\generic.py\u001b[0m in \u001b[0;36m__getattr__\u001b[1;34m(self, name)\u001b[0m\n\u001b[0;32m   4370\u001b[0m             \u001b[1;32mif\u001b[0m \u001b[0mself\u001b[0m\u001b[1;33m.\u001b[0m\u001b[0m_info_axis\u001b[0m\u001b[1;33m.\u001b[0m\u001b[0m_can_hold_identifiers_and_holds_name\u001b[0m\u001b[1;33m(\u001b[0m\u001b[0mname\u001b[0m\u001b[1;33m)\u001b[0m\u001b[1;33m:\u001b[0m\u001b[1;33m\u001b[0m\u001b[0m\n\u001b[0;32m   4371\u001b[0m                 \u001b[1;32mreturn\u001b[0m \u001b[0mself\u001b[0m\u001b[1;33m[\u001b[0m\u001b[0mname\u001b[0m\u001b[1;33m]\u001b[0m\u001b[1;33m\u001b[0m\u001b[0m\n\u001b[1;32m-> 4372\u001b[1;33m             \u001b[1;32mreturn\u001b[0m \u001b[0mobject\u001b[0m\u001b[1;33m.\u001b[0m\u001b[0m__getattribute__\u001b[0m\u001b[1;33m(\u001b[0m\u001b[0mself\u001b[0m\u001b[1;33m,\u001b[0m \u001b[0mname\u001b[0m\u001b[1;33m)\u001b[0m\u001b[1;33m\u001b[0m\u001b[0m\n\u001b[0m\u001b[0;32m   4373\u001b[0m \u001b[1;33m\u001b[0m\u001b[0m\n\u001b[0;32m   4374\u001b[0m     \u001b[1;32mdef\u001b[0m \u001b[0m__setattr__\u001b[0m\u001b[1;33m(\u001b[0m\u001b[0mself\u001b[0m\u001b[1;33m,\u001b[0m \u001b[0mname\u001b[0m\u001b[1;33m,\u001b[0m \u001b[0mvalue\u001b[0m\u001b[1;33m)\u001b[0m\u001b[1;33m:\u001b[0m\u001b[1;33m\u001b[0m\u001b[0m\n",
      "\u001b[1;31mAttributeError\u001b[0m: 'DataFrame' object has no attribute 'prediction_pay_price'"
     ]
    }
   ],
   "source": [
    "# train_feat3.drop(labels=['prediction_pay_price'],axis=1,inplace=True)\n",
    "# train_feat3.prediction_pay_price"
   ]
  },
  {
   "cell_type": "code",
   "execution_count": 62,
   "metadata": {
    "ExecuteTime": {
     "end_time": "2018-08-10T08:05:58.308394Z",
     "start_time": "2018-08-10T08:05:58.298394Z"
    }
   },
   "outputs": [
    {
     "data": {
      "text/plain": [
       "(2288007, 122)"
      ]
     },
     "execution_count": 62,
     "metadata": {},
     "output_type": "execute_result"
    }
   ],
   "source": [
    "train_feat3.shape"
   ]
  },
  {
   "cell_type": "code",
   "execution_count": 63,
   "metadata": {
    "ExecuteTime": {
     "end_time": "2018-08-10T08:05:59.374455Z",
     "start_time": "2018-08-10T08:05:59.368455Z"
    }
   },
   "outputs": [],
   "source": [
    "#train_feat3.fillna(0,inplace=True)"
   ]
  },
  {
   "cell_type": "code",
   "execution_count": 64,
   "metadata": {
    "ExecuteTime": {
     "end_time": "2018-08-10T08:06:00.093496Z",
     "start_time": "2018-08-10T08:06:00.078495Z"
    }
   },
   "outputs": [
    {
     "name": "stdout",
     "output_type": "stream",
     "text": [
      "<class 'pandas.core.frame.DataFrame'>\n",
      "RangeIndex: 2288007 entries, 0 to 2288006\n",
      "Columns: 122 entries, user_id to price_per_count_qua1\n",
      "dtypes: float32(27), uint16(1), uint8(94)\n",
      "memory usage: 445.1 MB\n"
     ]
    }
   ],
   "source": [
    "train_feat3.info(memory_usage='deep')"
   ]
  },
  {
   "cell_type": "code",
   "execution_count": 65,
   "metadata": {
    "ExecuteTime": {
     "end_time": "2018-08-10T08:06:01.659586Z",
     "start_time": "2018-08-10T08:06:01.633584Z"
    }
   },
   "outputs": [],
   "source": [
    "del train_feat2"
   ]
  },
  {
   "cell_type": "code",
   "execution_count": 66,
   "metadata": {
    "ExecuteTime": {
     "end_time": "2018-08-10T08:06:02.420629Z",
     "start_time": "2018-08-10T08:06:02.416629Z"
    }
   },
   "outputs": [],
   "source": [
    "#train_feat3.isnull().sum().sum()"
   ]
  },
  {
   "cell_type": "code",
   "execution_count": 67,
   "metadata": {
    "ExecuteTime": {
     "end_time": "2018-08-10T08:06:03.115669Z",
     "start_time": "2018-08-10T08:06:03.110669Z"
    }
   },
   "outputs": [],
   "source": [
    "import time\n",
    "import lightgbm as lgb"
   ]
  },
  {
   "cell_type": "code",
   "execution_count": 68,
   "metadata": {
    "ExecuteTime": {
     "end_time": "2018-08-10T08:06:04.327738Z",
     "start_time": "2018-08-10T08:06:04.319738Z"
    }
   },
   "outputs": [],
   "source": [
    "from sklearn.cross_validation import train_test_split\n",
    "from sklearn.metrics import mean_squared_error"
   ]
  },
  {
   "cell_type": "code",
   "execution_count": 69,
   "metadata": {
    "ExecuteTime": {
     "end_time": "2018-08-10T08:06:06.839882Z",
     "start_time": "2018-08-10T08:06:06.832882Z"
    }
   },
   "outputs": [],
   "source": [
    "#train_feat2.shape"
   ]
  },
  {
   "cell_type": "code",
   "execution_count": 70,
   "metadata": {
    "ExecuteTime": {
     "end_time": "2018-08-10T08:06:09.944060Z",
     "start_time": "2018-08-10T08:06:07.735933Z"
    }
   },
   "outputs": [],
   "source": [
    "X_train,X_test,y_train,y_test=train_test_split(train_feat3,label_train,test_size=0.5,random_state=73)"
   ]
  },
  {
   "cell_type": "code",
   "execution_count": 71,
   "metadata": {
    "ExecuteTime": {
     "end_time": "2018-08-10T08:06:12.615213Z",
     "start_time": "2018-08-10T08:06:12.609212Z"
    }
   },
   "outputs": [],
   "source": [
    "# X_train.head()"
   ]
  },
  {
   "cell_type": "code",
   "execution_count": 72,
   "metadata": {
    "ExecuteTime": {
     "end_time": "2018-08-10T08:06:13.119241Z",
     "start_time": "2018-08-10T08:06:13.116241Z"
    }
   },
   "outputs": [],
   "source": [
    "# y_train.head()"
   ]
  },
  {
   "cell_type": "code",
   "execution_count": 73,
   "metadata": {
    "ExecuteTime": {
     "end_time": "2018-08-10T08:06:13.631271Z",
     "start_time": "2018-08-10T08:06:13.624270Z"
    }
   },
   "outputs": [],
   "source": [
    "from sklearn.grid_search import GridSearchCV\n",
    "from sklearn.pipeline import Pipeline"
   ]
  },
  {
   "cell_type": "code",
   "execution_count": 74,
   "metadata": {
    "ExecuteTime": {
     "end_time": "2018-08-10T08:06:17.630499Z",
     "start_time": "2018-08-10T08:06:17.624499Z"
    }
   },
   "outputs": [],
   "source": [
    "# X_train.head()"
   ]
  },
  {
   "cell_type": "code",
   "execution_count": 75,
   "metadata": {
    "ExecuteTime": {
     "end_time": "2018-08-10T08:06:19.368599Z",
     "start_time": "2018-08-10T08:06:19.361598Z"
    }
   },
   "outputs": [],
   "source": [
    "from sklearn.externals import joblib"
   ]
  },
  {
   "cell_type": "code",
   "execution_count": 76,
   "metadata": {
    "ExecuteTime": {
     "end_time": "2018-08-10T08:06:20.000635Z",
     "start_time": "2018-08-10T08:06:19.930631Z"
    }
   },
   "outputs": [],
   "source": [
    "grid_search=joblib.load(\"F:\\\\study\\\\ml\\\\DataSet\\\\Tap4fun\\\\GSCV_lgb.model.gz\")"
   ]
  },
  {
   "cell_type": "code",
   "execution_count": 77,
   "metadata": {
    "ExecuteTime": {
     "end_time": "2018-08-10T08:06:27.724077Z",
     "start_time": "2018-08-10T08:06:21.802738Z"
    }
   },
   "outputs": [],
   "source": [
    "preds_sub=grid_search.predict(train_feat3)"
   ]
  },
  {
   "cell_type": "code",
   "execution_count": 78,
   "metadata": {
    "ExecuteTime": {
     "end_time": "2018-08-10T08:06:30.654244Z",
     "start_time": "2018-08-10T08:06:27.725077Z"
    }
   },
   "outputs": [
    {
     "data": {
      "text/plain": [
       "56.66399035047658"
      ]
     },
     "execution_count": 78,
     "metadata": {},
     "output_type": "execute_result"
    }
   ],
   "source": [
    "from sklearn.metrics import mean_squared_error\n",
    "predictions=grid_search.predict(X_test)\n",
    "np.sqrt(mean_squared_error(y_test,predictions))"
   ]
  },
  {
   "cell_type": "code",
   "execution_count": 79,
   "metadata": {
    "ExecuteTime": {
     "end_time": "2018-08-10T08:07:23.195249Z",
     "start_time": "2018-08-10T08:07:23.148247Z"
    }
   },
   "outputs": [
    {
     "data": {
      "text/plain": [
       "55.69600681746608"
      ]
     },
     "execution_count": 79,
     "metadata": {},
     "output_type": "execute_result"
    }
   ],
   "source": [
    "np.sqrt(mean_squared_error(label_train,preds_sub))"
   ]
  },
  {
   "cell_type": "code",
   "execution_count": null,
   "metadata": {},
   "outputs": [],
   "source": []
  },
  {
   "cell_type": "code",
   "execution_count": 139,
   "metadata": {
    "ExecuteTime": {
     "end_time": "2018-08-10T07:42:07.742571Z",
     "start_time": "2018-08-10T07:42:06.201482Z"
    }
   },
   "outputs": [],
   "source": [
    "result_user=pd.read_csv('F:\\\\study\\\\ml\\\\DataSet\\\\Tap4fun\\\\tap_fun_test.csv',usecols=[0])\n",
    "result=pd.DataFrame()\n",
    "result['user_id']=result_user.user_id\n",
    "result['prediction_pay_price']=preds_sub"
   ]
  },
  {
   "cell_type": "code",
   "execution_count": 140,
   "metadata": {
    "ExecuteTime": {
     "end_time": "2018-08-10T07:42:14.353949Z",
     "start_time": "2018-08-10T07:42:14.343948Z"
    }
   },
   "outputs": [
    {
     "data": {
      "text/plain": [
       "(828934, 2)"
      ]
     },
     "execution_count": 140,
     "metadata": {},
     "output_type": "execute_result"
    }
   ],
   "source": [
    "result.shape"
   ]
  },
  {
   "cell_type": "code",
   "execution_count": 141,
   "metadata": {
    "ExecuteTime": {
     "end_time": "2018-08-10T07:42:37.218256Z",
     "start_time": "2018-08-10T07:42:37.211256Z"
    }
   },
   "outputs": [
    {
     "data": {
      "text/html": [
       "<div>\n",
       "<style scoped>\n",
       "    .dataframe tbody tr th:only-of-type {\n",
       "        vertical-align: middle;\n",
       "    }\n",
       "\n",
       "    .dataframe tbody tr th {\n",
       "        vertical-align: top;\n",
       "    }\n",
       "\n",
       "    .dataframe thead th {\n",
       "        text-align: right;\n",
       "    }\n",
       "</style>\n",
       "<table border=\"1\" class=\"dataframe\">\n",
       "  <thead>\n",
       "    <tr style=\"text-align: right;\">\n",
       "      <th></th>\n",
       "      <th>user_id</th>\n",
       "      <th>prediction_pay_price</th>\n",
       "    </tr>\n",
       "  </thead>\n",
       "  <tbody>\n",
       "    <tr>\n",
       "      <th>0</th>\n",
       "      <td>14933</td>\n",
       "      <td>0.255422</td>\n",
       "    </tr>\n",
       "    <tr>\n",
       "      <th>1</th>\n",
       "      <td>14934</td>\n",
       "      <td>0.255422</td>\n",
       "    </tr>\n",
       "    <tr>\n",
       "      <th>2</th>\n",
       "      <td>14935</td>\n",
       "      <td>0.255422</td>\n",
       "    </tr>\n",
       "    <tr>\n",
       "      <th>3</th>\n",
       "      <td>14936</td>\n",
       "      <td>0.255422</td>\n",
       "    </tr>\n",
       "    <tr>\n",
       "      <th>4</th>\n",
       "      <td>14937</td>\n",
       "      <td>0.255422</td>\n",
       "    </tr>\n",
       "  </tbody>\n",
       "</table>\n",
       "</div>"
      ],
      "text/plain": [
       "   user_id  prediction_pay_price\n",
       "0    14933              0.255422\n",
       "1    14934              0.255422\n",
       "2    14935              0.255422\n",
       "3    14936              0.255422\n",
       "4    14937              0.255422"
      ]
     },
     "execution_count": 141,
     "metadata": {},
     "output_type": "execute_result"
    }
   ],
   "source": [
    "result.head()"
   ]
  },
  {
   "cell_type": "code",
   "execution_count": 144,
   "metadata": {
    "ExecuteTime": {
     "end_time": "2018-08-10T07:43:29.428243Z",
     "start_time": "2018-08-10T07:43:29.422242Z"
    }
   },
   "outputs": [],
   "source": [
    "import time\n",
    "import datetime"
   ]
  },
  {
   "cell_type": "code",
   "execution_count": 145,
   "metadata": {
    "ExecuteTime": {
     "end_time": "2018-08-10T07:43:33.080452Z",
     "start_time": "2018-08-10T07:43:30.407299Z"
    }
   },
   "outputs": [],
   "source": [
    "nowTime=datetime.datetime.now().strftime('%Y%m%d%H%M%S')\n",
    "name='tf_'+str(nowTime)\n",
    "result.to_csv(\"F:\\\\study\\\\ml\\\\DataSet\\\\Tap4fun\\\\SubMission\\\\\"+name+'.csv',index=False,encoding='utf-8')"
   ]
  },
  {
   "cell_type": "code",
   "execution_count": null,
   "metadata": {},
   "outputs": [],
   "source": []
  }
 ],
 "metadata": {
  "kernelspec": {
   "display_name": "Python 3",
   "language": "python",
   "name": "python3"
  },
  "language_info": {
   "codemirror_mode": {
    "name": "ipython",
    "version": 3
   },
   "file_extension": ".py",
   "mimetype": "text/x-python",
   "name": "python",
   "nbconvert_exporter": "python",
   "pygments_lexer": "ipython3",
   "version": "3.6.3"
  }
 },
 "nbformat": 4,
 "nbformat_minor": 2
}
