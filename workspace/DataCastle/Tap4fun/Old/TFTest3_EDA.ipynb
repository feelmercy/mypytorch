{
 "cells": [
  {
   "cell_type": "code",
   "execution_count": 1,
   "metadata": {
    "ExecuteTime": {
     "end_time": "2018-07-30T08:12:52.545728Z",
     "start_time": "2018-07-30T08:12:51.754682Z"
    }
   },
   "outputs": [],
   "source": [
    "import pandas as pd\n",
    "import numpy as np"
   ]
  },
  {
   "cell_type": "code",
   "execution_count": 2,
   "metadata": {
    "ExecuteTime": {
     "end_time": "2018-07-30T08:12:52.760740Z",
     "start_time": "2018-07-30T08:12:52.546728Z"
    }
   },
   "outputs": [],
   "source": [
    "df_train=pd.read_csv('F:\\\\study\\\\ml\\\\DataSet\\\\Tap4fun\\\\tap_fun_train.csv',nrows=5)"
   ]
  },
  {
   "cell_type": "code",
   "execution_count": 3,
   "metadata": {
    "ExecuteTime": {
     "end_time": "2018-07-30T08:12:52.776741Z",
     "start_time": "2018-07-30T08:12:52.761740Z"
    }
   },
   "outputs": [
    {
     "name": "stdout",
     "output_type": "stream",
     "text": [
      "<class 'pandas.core.frame.DataFrame'>\n",
      "RangeIndex: 5 entries, 0 to 4\n",
      "Columns: 109 entries, user_id to prediction_pay_price\n",
      "dtypes: float64(13), int64(95), object(1)\n",
      "memory usage: 4.7 KB\n"
     ]
    }
   ],
   "source": [
    "df_train.info(memory_usage='deep')"
   ]
  },
  {
   "cell_type": "code",
   "execution_count": 4,
   "metadata": {
    "ExecuteTime": {
     "end_time": "2018-07-30T08:12:53.048756Z",
     "start_time": "2018-07-30T08:12:52.777741Z"
    }
   },
   "outputs": [],
   "source": [
    "c_int=df_train.select_dtypes(include=['int64']).apply(pd.to_numeric,downcast='unsigned')\n",
    "c_float=df_train.select_dtypes(include=['float']).apply(pd.to_numeric,downcast='float')"
   ]
  },
  {
   "cell_type": "code",
   "execution_count": 5,
   "metadata": {
    "ExecuteTime": {
     "end_time": "2018-07-30T08:12:53.052757Z",
     "start_time": "2018-07-30T08:12:53.049757Z"
    }
   },
   "outputs": [],
   "source": [
    "o_df=df_train.copy()"
   ]
  },
  {
   "cell_type": "code",
   "execution_count": 6,
   "metadata": {
    "ExecuteTime": {
     "end_time": "2018-07-30T08:12:53.163763Z",
     "start_time": "2018-07-30T08:12:53.054757Z"
    }
   },
   "outputs": [],
   "source": [
    "o_df[c_int.columns]=c_int\n",
    "o_df[c_float.columns]=c_float"
   ]
  },
  {
   "cell_type": "code",
   "execution_count": 7,
   "metadata": {
    "ExecuteTime": {
     "end_time": "2018-07-30T08:12:53.223766Z",
     "start_time": "2018-07-30T08:12:53.164763Z"
    }
   },
   "outputs": [],
   "source": [
    "dtypes=o_df.dtypes\n",
    "dtypes_col=dtypes.index\n",
    "dtypes_type=[i.name for i in dtypes.values]\n",
    "column_type=dict(zip(dtypes_col,dtypes_type))"
   ]
  },
  {
   "cell_type": "code",
   "execution_count": 8,
   "metadata": {
    "ExecuteTime": {
     "end_time": "2018-07-30T08:12:53.288770Z",
     "start_time": "2018-07-30T08:12:53.224767Z"
    }
   },
   "outputs": [],
   "source": [
    "#column_type"
   ]
  },
  {
   "cell_type": "code",
   "execution_count": 9,
   "metadata": {
    "ExecuteTime": {
     "end_time": "2018-07-30T08:12:53.366775Z",
     "start_time": "2018-07-30T08:12:53.290770Z"
    }
   },
   "outputs": [
    {
     "data": {
      "text/plain": [
       "'object'"
      ]
     },
     "execution_count": 9,
     "metadata": {},
     "output_type": "execute_result"
    }
   ],
   "source": [
    "column_type.pop('register_time')"
   ]
  },
  {
   "cell_type": "code",
   "execution_count": 10,
   "metadata": {
    "ExecuteTime": {
     "end_time": "2018-07-30T08:13:14.526985Z",
     "start_time": "2018-07-30T08:12:53.367775Z"
    }
   },
   "outputs": [],
   "source": [
    "data_train=pd.read_csv('F:\\\\study\\\\ml\\\\DataSet\\\\Tap4fun\\\\tap_fun_train.csv',\n",
    "                      dtype=column_type,parse_dates=['register_time'],infer_datetime_format=True)"
   ]
  },
  {
   "cell_type": "code",
   "execution_count": 11,
   "metadata": {
    "ExecuteTime": {
     "end_time": "2018-07-30T08:13:14.543986Z",
     "start_time": "2018-07-30T08:13:14.528985Z"
    }
   },
   "outputs": [
    {
     "name": "stdout",
     "output_type": "stream",
     "text": [
      "<class 'pandas.core.frame.DataFrame'>\n",
      "RangeIndex: 2288007 entries, 0 to 2288006\n",
      "Columns: 109 entries, user_id to prediction_pay_price\n",
      "dtypes: datetime64[ns](1), float32(13), uint16(1), uint8(94)\n",
      "memory usage: 340.4 MB\n"
     ]
    }
   ],
   "source": [
    "data_train.info(memory_usage='deep')"
   ]
  },
  {
   "cell_type": "code",
   "execution_count": 12,
   "metadata": {
    "ExecuteTime": {
     "end_time": "2018-07-30T08:13:14.756998Z",
     "start_time": "2018-07-30T08:13:14.546986Z"
    }
   },
   "outputs": [],
   "source": [
    "train_feat2=data_train.copy()\n",
    "# test_feat=data_test\n"
   ]
  },
  {
   "cell_type": "code",
   "execution_count": 13,
   "metadata": {
    "ExecuteTime": {
     "end_time": "2018-07-30T08:13:14.819002Z",
     "start_time": "2018-07-30T08:13:14.757998Z"
    }
   },
   "outputs": [
    {
     "data": {
      "text/plain": [
       "(2288007, 109)"
      ]
     },
     "execution_count": 13,
     "metadata": {},
     "output_type": "execute_result"
    }
   ],
   "source": [
    "train_feat2.shape"
   ]
  },
  {
   "cell_type": "code",
   "execution_count": 14,
   "metadata": {
    "ExecuteTime": {
     "end_time": "2018-07-30T08:13:15.162021Z",
     "start_time": "2018-07-30T08:13:14.821002Z"
    }
   },
   "outputs": [],
   "source": [
    "del data_train"
   ]
  },
  {
   "cell_type": "code",
   "execution_count": 15,
   "metadata": {
    "ExecuteTime": {
     "end_time": "2018-07-30T08:13:15.349032Z",
     "start_time": "2018-07-30T08:13:15.164021Z"
    }
   },
   "outputs": [
    {
     "data": {
      "text/plain": [
       "(2288007, 109)"
      ]
     },
     "execution_count": 15,
     "metadata": {},
     "output_type": "execute_result"
    }
   ],
   "source": [
    "train_feat2.shape"
   ]
  },
  {
   "cell_type": "code",
   "execution_count": 16,
   "metadata": {
    "ExecuteTime": {
     "end_time": "2018-07-30T08:13:15.448038Z",
     "start_time": "2018-07-30T08:13:15.351032Z"
    }
   },
   "outputs": [],
   "source": [
    "label_train=train_feat2['prediction_pay_price']"
   ]
  },
  {
   "cell_type": "code",
   "execution_count": 17,
   "metadata": {
    "ExecuteTime": {
     "end_time": "2018-07-30T08:13:15.583045Z",
     "start_time": "2018-07-30T08:13:15.449038Z"
    }
   },
   "outputs": [
    {
     "data": {
      "text/plain": [
       "(2288007, 109)"
      ]
     },
     "execution_count": 17,
     "metadata": {},
     "output_type": "execute_result"
    }
   ],
   "source": [
    "train_feat2.shape"
   ]
  },
  {
   "cell_type": "code",
   "execution_count": 18,
   "metadata": {
    "ExecuteTime": {
     "end_time": "2018-07-30T08:13:15.953067Z",
     "start_time": "2018-07-30T08:13:15.585045Z"
    }
   },
   "outputs": [],
   "source": [
    "train_feat2['ivory_qua1']=train_feat2.ivory_add_value+train_feat2.ivory_reduce_value\n",
    "train_feat2['ivory_qua2']=train_feat2.ivory_add_value-train_feat2.ivory_reduce_value"
   ]
  },
  {
   "cell_type": "code",
   "execution_count": 19,
   "metadata": {
    "ExecuteTime": {
     "end_time": "2018-07-30T08:13:15.974068Z",
     "start_time": "2018-07-30T08:13:15.954067Z"
    }
   },
   "outputs": [],
   "source": [
    "train_feat2['stone_qua1']=train_feat2.stone_add_value+train_feat2.stone_reduce_value\n",
    "train_feat2['stone_qua2']=train_feat2.stone_add_value-train_feat2.stone_reduce_value"
   ]
  },
  {
   "cell_type": "code",
   "execution_count": 20,
   "metadata": {
    "ExecuteTime": {
     "end_time": "2018-07-30T08:13:16.066073Z",
     "start_time": "2018-07-30T08:13:15.975068Z"
    }
   },
   "outputs": [],
   "source": [
    "train_feat2['meat_qua1']=train_feat2.meat_add_value+train_feat2.meat_reduce_value\n",
    "train_feat2['meat_qua2']=train_feat2.meat_add_value-train_feat2.meat_reduce_value"
   ]
  },
  {
   "cell_type": "code",
   "execution_count": 21,
   "metadata": {
    "ExecuteTime": {
     "end_time": "2018-07-30T08:13:16.148078Z",
     "start_time": "2018-07-30T08:13:16.067073Z"
    }
   },
   "outputs": [],
   "source": [
    "train_feat2['wood_qua1']=train_feat2.wood_add_value+train_feat2.wood_reduce_value\n",
    "train_feat2['wood_qua2']=train_feat2.wood_add_value-train_feat2.wood_reduce_value"
   ]
  },
  {
   "cell_type": "code",
   "execution_count": 22,
   "metadata": {
    "ExecuteTime": {
     "end_time": "2018-07-30T08:13:16.226082Z",
     "start_time": "2018-07-30T08:13:16.149078Z"
    }
   },
   "outputs": [],
   "source": [
    "# for test feat\n",
    "# test_feat2['ivory_qua1']=test_feat.ivory_add_value+test_feat.ivory_reduce_value\n",
    "# test_feat2['ivory_qua2']=test_feat.ivory_add_value-test_feat.ivory_reduce_value\n",
    "# test_feat2['stone_qua1']=test_feat.stone_add_value+test_feat.stone_reduce_value\n",
    "# test_feat2['stone_qua2']=test_feat.stone_add_value-test_feat.stone_reduce_value\n",
    "# test_feat2['meat_qua1']=test_feat.meat_add_value+test_feat.meat_reduce_value\n",
    "# test_feat2['meat_qua2']=test_feat.meat_add_value-test_feat.meat_reduce_value\n",
    "# test_feat2['wood_qua1']=test_feat.wood_add_value+test_feat.wood_reduce_value\n",
    "# test_feat2['wood_qua2']=test_feat.wood_add_value-test_feat.wood_reduce_value"
   ]
  },
  {
   "cell_type": "code",
   "execution_count": 23,
   "metadata": {
    "ExecuteTime": {
     "end_time": "2018-07-30T08:13:16.348089Z",
     "start_time": "2018-07-30T08:13:16.227082Z"
    }
   },
   "outputs": [],
   "source": [
    "# train_feat.shape"
   ]
  },
  {
   "cell_type": "code",
   "execution_count": 24,
   "metadata": {
    "ExecuteTime": {
     "end_time": "2018-07-30T08:13:16.441094Z",
     "start_time": "2018-07-30T08:13:16.349089Z"
    }
   },
   "outputs": [],
   "source": [
    "# train_feat2.shape"
   ]
  },
  {
   "cell_type": "code",
   "execution_count": 25,
   "metadata": {
    "ExecuteTime": {
     "end_time": "2018-07-30T08:13:16.557101Z",
     "start_time": "2018-07-30T08:13:16.442094Z"
    }
   },
   "outputs": [],
   "source": [
    "# test_feat2.shape"
   ]
  },
  {
   "cell_type": "code",
   "execution_count": 26,
   "metadata": {
    "ExecuteTime": {
     "end_time": "2018-07-30T08:13:16.659107Z",
     "start_time": "2018-07-30T08:13:16.558101Z"
    }
   },
   "outputs": [],
   "source": [
    "#train_corr2=train_feat2.corr()"
   ]
  },
  {
   "cell_type": "code",
   "execution_count": 27,
   "metadata": {
    "ExecuteTime": {
     "end_time": "2018-07-30T08:13:16.832117Z",
     "start_time": "2018-07-30T08:13:16.661107Z"
    }
   },
   "outputs": [],
   "source": [
    "#train_corr2['prediction_pay_price'].sort_values(ascending=False).head(40)"
   ]
  },
  {
   "cell_type": "code",
   "execution_count": 28,
   "metadata": {
    "ExecuteTime": {
     "end_time": "2018-07-30T08:13:16.944123Z",
     "start_time": "2018-07-30T08:13:16.834117Z"
    }
   },
   "outputs": [],
   "source": [
    "import re"
   ]
  },
  {
   "cell_type": "code",
   "execution_count": 29,
   "metadata": {
    "ExecuteTime": {
     "end_time": "2018-07-30T08:13:17.051129Z",
     "start_time": "2018-07-30T08:13:16.945123Z"
    },
    "scrolled": true
   },
   "outputs": [
    {
     "data": {
      "text/plain": [
       "array(['sr_troop_defense_level', 'sr_infantry_def_level',\n",
       "       'sr_cavalry_def_level', 'sr_shaman_def_level'], dtype=object)"
      ]
     },
     "execution_count": 29,
     "metadata": {},
     "output_type": "execute_result"
    }
   ],
   "source": [
    "train_feat2.columns.values[pd.Series(train_feat2.columns.values).str.contains('def')]"
   ]
  },
  {
   "cell_type": "code",
   "execution_count": 30,
   "metadata": {
    "ExecuteTime": {
     "end_time": "2018-07-30T08:13:17.168136Z",
     "start_time": "2018-07-30T08:13:17.052129Z"
    }
   },
   "outputs": [
    {
     "data": {
      "text/plain": [
       "pandas.core.series.Series"
      ]
     },
     "execution_count": 30,
     "metadata": {},
     "output_type": "execute_result"
    }
   ],
   "source": [
    "type(pd.Series(train_feat2.columns.values).str.contains('def'))"
   ]
  },
  {
   "cell_type": "code",
   "execution_count": 31,
   "metadata": {
    "ExecuteTime": {
     "end_time": "2018-07-30T08:13:17.277142Z",
     "start_time": "2018-07-30T08:13:17.170136Z"
    }
   },
   "outputs": [],
   "source": [
    "#del text"
   ]
  },
  {
   "cell_type": "code",
   "execution_count": 32,
   "metadata": {
    "ExecuteTime": {
     "end_time": "2018-07-30T08:13:17.391149Z",
     "start_time": "2018-07-30T08:13:17.279142Z"
    },
    "scrolled": true
   },
   "outputs": [],
   "source": [
    "text_def=[]\n",
    "for col in train_feat2.columns.values:\n",
    "     if 'def' in col:\n",
    "            text_def.append(col)"
   ]
  },
  {
   "cell_type": "code",
   "execution_count": 33,
   "metadata": {
    "ExecuteTime": {
     "end_time": "2018-07-30T08:13:17.492155Z",
     "start_time": "2018-07-30T08:13:17.392149Z"
    }
   },
   "outputs": [
    {
     "data": {
      "text/plain": [
       "['sr_troop_defense_level',\n",
       " 'sr_infantry_def_level',\n",
       " 'sr_cavalry_def_level',\n",
       " 'sr_shaman_def_level']"
      ]
     },
     "execution_count": 33,
     "metadata": {},
     "output_type": "execute_result"
    }
   ],
   "source": [
    "text_def"
   ]
  },
  {
   "cell_type": "code",
   "execution_count": 34,
   "metadata": {
    "ExecuteTime": {
     "end_time": "2018-07-30T08:13:17.760170Z",
     "start_time": "2018-07-30T08:13:17.493155Z"
    }
   },
   "outputs": [
    {
     "data": {
      "text/html": [
       "<div>\n",
       "<style scoped>\n",
       "    .dataframe tbody tr th:only-of-type {\n",
       "        vertical-align: middle;\n",
       "    }\n",
       "\n",
       "    .dataframe tbody tr th {\n",
       "        vertical-align: top;\n",
       "    }\n",
       "\n",
       "    .dataframe thead th {\n",
       "        text-align: right;\n",
       "    }\n",
       "</style>\n",
       "<table border=\"1\" class=\"dataframe\">\n",
       "  <thead>\n",
       "    <tr style=\"text-align: right;\">\n",
       "      <th></th>\n",
       "      <th>user_id</th>\n",
       "      <th>register_time</th>\n",
       "      <th>wood_add_value</th>\n",
       "      <th>wood_reduce_value</th>\n",
       "      <th>stone_add_value</th>\n",
       "      <th>stone_reduce_value</th>\n",
       "      <th>ivory_add_value</th>\n",
       "      <th>ivory_reduce_value</th>\n",
       "      <th>meat_add_value</th>\n",
       "      <th>meat_reduce_value</th>\n",
       "      <th>...</th>\n",
       "      <th>pay_count</th>\n",
       "      <th>prediction_pay_price</th>\n",
       "      <th>ivory_qua1</th>\n",
       "      <th>ivory_qua2</th>\n",
       "      <th>stone_qua1</th>\n",
       "      <th>stone_qua2</th>\n",
       "      <th>meat_qua1</th>\n",
       "      <th>meat_qua2</th>\n",
       "      <th>wood_qua1</th>\n",
       "      <th>wood_qua2</th>\n",
       "    </tr>\n",
       "  </thead>\n",
       "  <tbody>\n",
       "    <tr>\n",
       "      <th>0</th>\n",
       "      <td>1</td>\n",
       "      <td>2018-02-02 19:47:15</td>\n",
       "      <td>20125.0</td>\n",
       "      <td>3700.0</td>\n",
       "      <td>0.0</td>\n",
       "      <td>0.0</td>\n",
       "      <td>0.0</td>\n",
       "      <td>0.0</td>\n",
       "      <td>16375.0</td>\n",
       "      <td>2000.0</td>\n",
       "      <td>...</td>\n",
       "      <td>0</td>\n",
       "      <td>0.0</td>\n",
       "      <td>0.0</td>\n",
       "      <td>0.0</td>\n",
       "      <td>0.0</td>\n",
       "      <td>0.0</td>\n",
       "      <td>18375.0</td>\n",
       "      <td>14375.0</td>\n",
       "      <td>23825.0</td>\n",
       "      <td>16425.0</td>\n",
       "    </tr>\n",
       "    <tr>\n",
       "      <th>1</th>\n",
       "      <td>1593</td>\n",
       "      <td>2018-01-26 00:01:05</td>\n",
       "      <td>0.0</td>\n",
       "      <td>0.0</td>\n",
       "      <td>0.0</td>\n",
       "      <td>0.0</td>\n",
       "      <td>0.0</td>\n",
       "      <td>0.0</td>\n",
       "      <td>0.0</td>\n",
       "      <td>0.0</td>\n",
       "      <td>...</td>\n",
       "      <td>0</td>\n",
       "      <td>0.0</td>\n",
       "      <td>0.0</td>\n",
       "      <td>0.0</td>\n",
       "      <td>0.0</td>\n",
       "      <td>0.0</td>\n",
       "      <td>0.0</td>\n",
       "      <td>0.0</td>\n",
       "      <td>0.0</td>\n",
       "      <td>0.0</td>\n",
       "    </tr>\n",
       "    <tr>\n",
       "      <th>2</th>\n",
       "      <td>1594</td>\n",
       "      <td>2018-01-26 00:01:58</td>\n",
       "      <td>0.0</td>\n",
       "      <td>0.0</td>\n",
       "      <td>0.0</td>\n",
       "      <td>0.0</td>\n",
       "      <td>0.0</td>\n",
       "      <td>0.0</td>\n",
       "      <td>0.0</td>\n",
       "      <td>0.0</td>\n",
       "      <td>...</td>\n",
       "      <td>0</td>\n",
       "      <td>0.0</td>\n",
       "      <td>0.0</td>\n",
       "      <td>0.0</td>\n",
       "      <td>0.0</td>\n",
       "      <td>0.0</td>\n",
       "      <td>0.0</td>\n",
       "      <td>0.0</td>\n",
       "      <td>0.0</td>\n",
       "      <td>0.0</td>\n",
       "    </tr>\n",
       "    <tr>\n",
       "      <th>3</th>\n",
       "      <td>1595</td>\n",
       "      <td>2018-01-26 00:02:13</td>\n",
       "      <td>0.0</td>\n",
       "      <td>0.0</td>\n",
       "      <td>0.0</td>\n",
       "      <td>0.0</td>\n",
       "      <td>0.0</td>\n",
       "      <td>0.0</td>\n",
       "      <td>0.0</td>\n",
       "      <td>0.0</td>\n",
       "      <td>...</td>\n",
       "      <td>0</td>\n",
       "      <td>0.0</td>\n",
       "      <td>0.0</td>\n",
       "      <td>0.0</td>\n",
       "      <td>0.0</td>\n",
       "      <td>0.0</td>\n",
       "      <td>0.0</td>\n",
       "      <td>0.0</td>\n",
       "      <td>0.0</td>\n",
       "      <td>0.0</td>\n",
       "    </tr>\n",
       "    <tr>\n",
       "      <th>4</th>\n",
       "      <td>1596</td>\n",
       "      <td>2018-01-26 00:02:46</td>\n",
       "      <td>0.0</td>\n",
       "      <td>0.0</td>\n",
       "      <td>0.0</td>\n",
       "      <td>0.0</td>\n",
       "      <td>0.0</td>\n",
       "      <td>0.0</td>\n",
       "      <td>0.0</td>\n",
       "      <td>0.0</td>\n",
       "      <td>...</td>\n",
       "      <td>0</td>\n",
       "      <td>0.0</td>\n",
       "      <td>0.0</td>\n",
       "      <td>0.0</td>\n",
       "      <td>0.0</td>\n",
       "      <td>0.0</td>\n",
       "      <td>0.0</td>\n",
       "      <td>0.0</td>\n",
       "      <td>0.0</td>\n",
       "      <td>0.0</td>\n",
       "    </tr>\n",
       "  </tbody>\n",
       "</table>\n",
       "<p>5 rows × 117 columns</p>\n",
       "</div>"
      ],
      "text/plain": [
       "   user_id       register_time  wood_add_value  wood_reduce_value  \\\n",
       "0        1 2018-02-02 19:47:15         20125.0             3700.0   \n",
       "1     1593 2018-01-26 00:01:05             0.0                0.0   \n",
       "2     1594 2018-01-26 00:01:58             0.0                0.0   \n",
       "3     1595 2018-01-26 00:02:13             0.0                0.0   \n",
       "4     1596 2018-01-26 00:02:46             0.0                0.0   \n",
       "\n",
       "   stone_add_value  stone_reduce_value  ivory_add_value  ivory_reduce_value  \\\n",
       "0              0.0                 0.0              0.0                 0.0   \n",
       "1              0.0                 0.0              0.0                 0.0   \n",
       "2              0.0                 0.0              0.0                 0.0   \n",
       "3              0.0                 0.0              0.0                 0.0   \n",
       "4              0.0                 0.0              0.0                 0.0   \n",
       "\n",
       "   meat_add_value  meat_reduce_value    ...      pay_count  \\\n",
       "0         16375.0             2000.0    ...              0   \n",
       "1             0.0                0.0    ...              0   \n",
       "2             0.0                0.0    ...              0   \n",
       "3             0.0                0.0    ...              0   \n",
       "4             0.0                0.0    ...              0   \n",
       "\n",
       "   prediction_pay_price  ivory_qua1  ivory_qua2  stone_qua1  stone_qua2  \\\n",
       "0                   0.0         0.0         0.0         0.0         0.0   \n",
       "1                   0.0         0.0         0.0         0.0         0.0   \n",
       "2                   0.0         0.0         0.0         0.0         0.0   \n",
       "3                   0.0         0.0         0.0         0.0         0.0   \n",
       "4                   0.0         0.0         0.0         0.0         0.0   \n",
       "\n",
       "   meat_qua1  meat_qua2  wood_qua1  wood_qua2  \n",
       "0    18375.0    14375.0    23825.0    16425.0  \n",
       "1        0.0        0.0        0.0        0.0  \n",
       "2        0.0        0.0        0.0        0.0  \n",
       "3        0.0        0.0        0.0        0.0  \n",
       "4        0.0        0.0        0.0        0.0  \n",
       "\n",
       "[5 rows x 117 columns]"
      ]
     },
     "execution_count": 34,
     "metadata": {},
     "output_type": "execute_result"
    }
   ],
   "source": [
    "#train_coorr1.to_csv('F:\\\\study\\\\ml\\\\DataSet\\\\Tap4fun\\\\train_feat_corr.csv')\n",
    "#del feat_def_qua\n",
    "train_feat2.head()"
   ]
  },
  {
   "cell_type": "code",
   "execution_count": 35,
   "metadata": {
    "ExecuteTime": {
     "end_time": "2018-07-30T08:13:17.791172Z",
     "start_time": "2018-07-30T08:13:17.761170Z"
    }
   },
   "outputs": [],
   "source": [
    "text_def=[]\n",
    "for col in train_feat2.columns.values:\n",
    "     if 'def' in col:\n",
    "            text_def.append(col)"
   ]
  },
  {
   "cell_type": "code",
   "execution_count": 36,
   "metadata": {
    "ExecuteTime": {
     "end_time": "2018-07-30T08:13:17.929180Z",
     "start_time": "2018-07-30T08:13:17.793172Z"
    }
   },
   "outputs": [
    {
     "data": {
      "text/plain": [
       "['sr_troop_defense_level',\n",
       " 'sr_infantry_def_level',\n",
       " 'sr_cavalry_def_level',\n",
       " 'sr_shaman_def_level']"
      ]
     },
     "execution_count": 36,
     "metadata": {},
     "output_type": "execute_result"
    }
   ],
   "source": [
    "text_def"
   ]
  },
  {
   "cell_type": "code",
   "execution_count": 37,
   "metadata": {
    "ExecuteTime": {
     "end_time": "2018-07-30T08:13:18.021185Z",
     "start_time": "2018-07-30T08:13:17.930180Z"
    }
   },
   "outputs": [
    {
     "data": {
      "text/plain": [
       "list"
      ]
     },
     "execution_count": 37,
     "metadata": {},
     "output_type": "execute_result"
    }
   ],
   "source": [
    "type(text_def)"
   ]
  },
  {
   "cell_type": "code",
   "execution_count": 38,
   "metadata": {
    "ExecuteTime": {
     "end_time": "2018-07-30T08:13:18.128191Z",
     "start_time": "2018-07-30T08:13:18.023185Z"
    }
   },
   "outputs": [],
   "source": [
    "text_troop=[]\n",
    "for col in train_feat2.columns.values:\n",
    "    if 'troop' in col :\n",
    "        text_troop.append(col)"
   ]
  },
  {
   "cell_type": "code",
   "execution_count": 39,
   "metadata": {
    "ExecuteTime": {
     "end_time": "2018-07-30T08:13:18.234197Z",
     "start_time": "2018-07-30T08:13:18.129191Z"
    }
   },
   "outputs": [
    {
     "data": {
      "text/plain": [
       "['sr_troop_defense_level',\n",
       " 'sr_troop_attack_level',\n",
       " 'sr_troop_consumption_level',\n",
       " 'sr_troop_load_level',\n",
       " 'sr_guest_troop_capacity_level']"
      ]
     },
     "execution_count": 39,
     "metadata": {},
     "output_type": "execute_result"
    }
   ],
   "source": [
    "text_troop"
   ]
  },
  {
   "cell_type": "code",
   "execution_count": 40,
   "metadata": {
    "ExecuteTime": {
     "end_time": "2018-07-30T08:13:18.351204Z",
     "start_time": "2018-07-30T08:13:18.235197Z"
    }
   },
   "outputs": [],
   "source": [
    "text_cavalry=[]\n",
    "for col in train_feat2.columns.values:\n",
    "    if 'sr_cavalry' in col :\n",
    "        text_cavalry.append(col)"
   ]
  },
  {
   "cell_type": "code",
   "execution_count": 41,
   "metadata": {
    "ExecuteTime": {
     "end_time": "2018-07-30T08:13:18.445209Z",
     "start_time": "2018-07-30T08:13:18.353204Z"
    }
   },
   "outputs": [
    {
     "data": {
      "text/plain": [
       "['sr_cavalry_tier_2_level',\n",
       " 'sr_cavalry_atk_level',\n",
       " 'sr_cavalry_tier_3_level',\n",
       " 'sr_cavalry_def_level',\n",
       " 'sr_cavalry_hp_level',\n",
       " 'sr_cavalry_tier_4_level']"
      ]
     },
     "execution_count": 41,
     "metadata": {},
     "output_type": "execute_result"
    }
   ],
   "source": [
    "text_cavalry"
   ]
  },
  {
   "cell_type": "code",
   "execution_count": 42,
   "metadata": {
    "ExecuteTime": {
     "end_time": "2018-07-30T08:13:18.544215Z",
     "start_time": "2018-07-30T08:13:18.446209Z"
    }
   },
   "outputs": [],
   "source": [
    "text_infantry=[]\n",
    "for col in train_feat2.columns.values:\n",
    "    if 'sr_infantry' in col :\n",
    "        text_infantry.append(col)"
   ]
  },
  {
   "cell_type": "code",
   "execution_count": 43,
   "metadata": {
    "ExecuteTime": {
     "end_time": "2018-07-30T08:13:18.668222Z",
     "start_time": "2018-07-30T08:13:18.545215Z"
    }
   },
   "outputs": [
    {
     "data": {
      "text/plain": [
       "['sr_infantry_tier_2_level',\n",
       " 'sr_infantry_atk_level',\n",
       " 'sr_infantry_tier_3_level',\n",
       " 'sr_infantry_def_level',\n",
       " 'sr_infantry_hp_level',\n",
       " 'sr_infantry_tier_4_level']"
      ]
     },
     "execution_count": 43,
     "metadata": {},
     "output_type": "execute_result"
    }
   ],
   "source": [
    "text_infantry"
   ]
  },
  {
   "cell_type": "code",
   "execution_count": 44,
   "metadata": {
    "ExecuteTime": {
     "end_time": "2018-07-30T08:13:18.800229Z",
     "start_time": "2018-07-30T08:13:18.669222Z"
    }
   },
   "outputs": [],
   "source": [
    "text_shaman=[]\n",
    "for col in train_feat2.columns.values:\n",
    "    if 'sr_shaman' in col :\n",
    "        text_shaman.append(col)"
   ]
  },
  {
   "cell_type": "code",
   "execution_count": 45,
   "metadata": {
    "ExecuteTime": {
     "end_time": "2018-07-30T08:13:18.935237Z",
     "start_time": "2018-07-30T08:13:18.801229Z"
    }
   },
   "outputs": [
    {
     "data": {
      "text/plain": [
       "['sr_shaman_tier_2_level',\n",
       " 'sr_shaman_atk_level',\n",
       " 'sr_shaman_tier_3_level',\n",
       " 'sr_shaman_def_level',\n",
       " 'sr_shaman_hp_level',\n",
       " 'sr_shaman_tier_4_level']"
      ]
     },
     "execution_count": 45,
     "metadata": {},
     "output_type": "execute_result"
    }
   ],
   "source": [
    "text_shaman"
   ]
  },
  {
   "cell_type": "code",
   "execution_count": 46,
   "metadata": {
    "ExecuteTime": {
     "end_time": "2018-07-30T08:13:19.043243Z",
     "start_time": "2018-07-30T08:13:18.937237Z"
    }
   },
   "outputs": [],
   "source": [
    "text_speed=[]\n",
    "for col in train_feat2.columns.values:\n",
    "    if 'speed' in col :\n",
    "        text_speed.append(col)"
   ]
  },
  {
   "cell_type": "code",
   "execution_count": 47,
   "metadata": {
    "ExecuteTime": {
     "end_time": "2018-07-30T08:13:19.128248Z",
     "start_time": "2018-07-30T08:13:19.046243Z"
    }
   },
   "outputs": [
    {
     "data": {
      "text/plain": [
       "['sr_training_speed_level',\n",
       " 'sr_construction_speed_level',\n",
       " 'sr_healing_speed_level',\n",
       " 'sr_alliance_march_speed_level',\n",
       " 'sr_pvp_march_speed_level',\n",
       " 'sr_gathering_march_speed_level']"
      ]
     },
     "execution_count": 47,
     "metadata": {},
     "output_type": "execute_result"
    }
   ],
   "source": [
    "text_speed"
   ]
  },
  {
   "cell_type": "code",
   "execution_count": 48,
   "metadata": {
    "ExecuteTime": {
     "end_time": "2018-07-30T08:13:19.390263Z",
     "start_time": "2018-07-30T08:13:19.130248Z"
    }
   },
   "outputs": [],
   "source": [
    "train_feat2['def_qua1']=0.0\n",
    "for name in text_def:\n",
    "    train_feat2['def_qua1']+=train_feat2[name]"
   ]
  },
  {
   "cell_type": "code",
   "execution_count": 49,
   "metadata": {
    "ExecuteTime": {
     "end_time": "2018-07-30T08:13:19.402264Z",
     "start_time": "2018-07-30T08:13:19.392263Z"
    }
   },
   "outputs": [],
   "source": [
    "#pd.Series(train_feat2.columns.values) .str.contains('def')"
   ]
  },
  {
   "cell_type": "code",
   "execution_count": 50,
   "metadata": {
    "ExecuteTime": {
     "end_time": "2018-07-30T08:13:19.532271Z",
     "start_time": "2018-07-30T08:13:19.403264Z"
    }
   },
   "outputs": [],
   "source": [
    "#train_feat2[train_feat2.sr_troop_attack_level != 0][train_feat2.columns.values[pd.Series(train_feat2.columns.values) .str.contains('def')]]"
   ]
  },
  {
   "cell_type": "code",
   "execution_count": 51,
   "metadata": {
    "ExecuteTime": {
     "end_time": "2018-07-30T08:13:19.722282Z",
     "start_time": "2018-07-30T08:13:19.533271Z"
    }
   },
   "outputs": [],
   "source": [
    "train_feat2['def_qua1']=0.0\n",
    "for name in text_def:\n",
    "    train_feat2['def_qua1']+=train_feat2[name]"
   ]
  },
  {
   "cell_type": "code",
   "execution_count": 52,
   "metadata": {
    "ExecuteTime": {
     "end_time": "2018-07-30T08:13:19.726282Z",
     "start_time": "2018-07-30T08:13:19.724282Z"
    }
   },
   "outputs": [],
   "source": [
    "# test_feat2['def_qua1']=0.0\n",
    "# for name in text_def:\n",
    "#     test_feat2['def_qua1']+=test_feat2[name]"
   ]
  },
  {
   "cell_type": "code",
   "execution_count": 53,
   "metadata": {
    "ExecuteTime": {
     "end_time": "2018-07-30T08:13:19.957296Z",
     "start_time": "2018-07-30T08:13:19.727282Z"
    }
   },
   "outputs": [],
   "source": [
    "train_feat2['cavalry_qua1']=0.0\n",
    "for name in text_cavalry:\n",
    "    train_feat2['cavalry_qua1']+=train_feat2[name]"
   ]
  },
  {
   "cell_type": "code",
   "execution_count": 54,
   "metadata": {
    "ExecuteTime": {
     "end_time": "2018-07-30T08:13:19.962296Z",
     "start_time": "2018-07-30T08:13:19.959296Z"
    }
   },
   "outputs": [],
   "source": [
    "# test_feat2['cavalry_qua1']=0.0\n",
    "# for name in text_cavalry:\n",
    "#     test_feat2['cavalry_qua1']+=test_feat2[name]"
   ]
  },
  {
   "cell_type": "code",
   "execution_count": 55,
   "metadata": {
    "ExecuteTime": {
     "end_time": "2018-07-30T08:13:20.201309Z",
     "start_time": "2018-07-30T08:13:19.963296Z"
    }
   },
   "outputs": [],
   "source": [
    "train_feat2['infantry_qua1']=0.0\n",
    "for name in text_infantry:\n",
    "    train_feat2['infantry_qua1']+=train_feat2[name]"
   ]
  },
  {
   "cell_type": "code",
   "execution_count": 56,
   "metadata": {
    "ExecuteTime": {
     "end_time": "2018-07-30T08:13:20.206310Z",
     "start_time": "2018-07-30T08:13:20.203310Z"
    }
   },
   "outputs": [],
   "source": [
    "# test_feat2['infantry_qua1']=0.0\n",
    "# for name in text_infantry:\n",
    "#     test_feat2['infantry_qua1']+=test_feat2[name]"
   ]
  },
  {
   "cell_type": "code",
   "execution_count": 57,
   "metadata": {
    "ExecuteTime": {
     "end_time": "2018-07-30T08:13:20.432323Z",
     "start_time": "2018-07-30T08:13:20.207310Z"
    }
   },
   "outputs": [],
   "source": [
    "train_feat2['shaman_qua1']=0.0\n",
    "for name in text_shaman:\n",
    "    train_feat2['shaman_qua1']+=train_feat2[name]"
   ]
  },
  {
   "cell_type": "code",
   "execution_count": 58,
   "metadata": {
    "ExecuteTime": {
     "end_time": "2018-07-30T08:13:20.436323Z",
     "start_time": "2018-07-30T08:13:20.433323Z"
    }
   },
   "outputs": [],
   "source": [
    "# test_feat2['shaman_qua1']=0.0\n",
    "# for name in text_shaman:\n",
    "#     test_feat2['shaman_qua1']+=test_feat2[name]"
   ]
  },
  {
   "cell_type": "code",
   "execution_count": 59,
   "metadata": {
    "ExecuteTime": {
     "end_time": "2018-07-30T08:13:20.683337Z",
     "start_time": "2018-07-30T08:13:20.438323Z"
    }
   },
   "outputs": [],
   "source": [
    "train_feat2['speed_qua1']=0.0\n",
    "for name in text_speed:\n",
    "    train_feat2['speed_qua1']+=train_feat2[name]"
   ]
  },
  {
   "cell_type": "code",
   "execution_count": 60,
   "metadata": {
    "ExecuteTime": {
     "end_time": "2018-07-30T08:13:20.688337Z",
     "start_time": "2018-07-30T08:13:20.685337Z"
    }
   },
   "outputs": [],
   "source": [
    "# test_feat2['speed_qua1']=0.0\n",
    "# for name in text_speed:\n",
    "#     test_feat2['speed_qua1']+=test_feat2[name]"
   ]
  },
  {
   "cell_type": "code",
   "execution_count": 61,
   "metadata": {
    "ExecuteTime": {
     "end_time": "2018-07-30T08:13:20.935351Z",
     "start_time": "2018-07-30T08:13:20.689337Z"
    }
   },
   "outputs": [],
   "source": [
    "train_feat2['troop_qua1']=0.0\n",
    "for name in text_troop:\n",
    "    train_feat2['troop_qua1']+=train_feat2[name]"
   ]
  },
  {
   "cell_type": "code",
   "execution_count": 62,
   "metadata": {
    "ExecuteTime": {
     "end_time": "2018-07-30T08:13:20.939352Z",
     "start_time": "2018-07-30T08:13:20.936352Z"
    }
   },
   "outputs": [],
   "source": [
    "# test_feat2['troop_qua1']=0.0\n",
    "# for name in text_troop:\n",
    "#     test_feat2['troop_qua1']+=test_feat2[name]"
   ]
  },
  {
   "cell_type": "code",
   "execution_count": 63,
   "metadata": {
    "ExecuteTime": {
     "end_time": "2018-07-30T08:13:21.029357Z",
     "start_time": "2018-07-30T08:13:20.940352Z"
    }
   },
   "outputs": [
    {
     "data": {
      "text/plain": [
       "array(['pvp_battle_count', 'pvp_lanch_count', 'pvp_win_count',\n",
       "       'pve_battle_count', 'pve_lanch_count', 'pve_win_count'],\n",
       "      dtype=object)"
      ]
     },
     "execution_count": 63,
     "metadata": {},
     "output_type": "execute_result"
    }
   ],
   "source": [
    "train_feat2.columns.values[pd.Series(train_feat2.columns.values).str.contains('^pv')]"
   ]
  },
  {
   "cell_type": "code",
   "execution_count": 64,
   "metadata": {
    "ExecuteTime": {
     "end_time": "2018-07-30T08:13:21.110361Z",
     "start_time": "2018-07-30T08:13:21.030357Z"
    }
   },
   "outputs": [
    {
     "data": {
      "text/plain": [
       "array(['bd_hero_pve_level', 'sr_pvp_march_speed_level',\n",
       "       'pvp_battle_count', 'pvp_lanch_count', 'pvp_win_count',\n",
       "       'pve_battle_count', 'pve_lanch_count', 'pve_win_count'],\n",
       "      dtype=object)"
      ]
     },
     "execution_count": 64,
     "metadata": {},
     "output_type": "execute_result"
    }
   ],
   "source": [
    "train_feat2.columns.values[pd.Series(train_feat2.columns.values).str.contains('pv')]"
   ]
  },
  {
   "cell_type": "code",
   "execution_count": 65,
   "metadata": {
    "ExecuteTime": {
     "end_time": "2018-07-30T08:13:21.215367Z",
     "start_time": "2018-07-30T08:13:21.111362Z"
    }
   },
   "outputs": [],
   "source": [
    "# train_feat2['pvp_lanch_rate_qua1']=train_feat2.pvp_lanch_count/train_feat2.pvp_battle_count\n",
    "# train_feat2['pvp_win_rate_qua1']=train_feat2.pvp_win_count / train_feat2.pvp_battle_count\n",
    "# train_feat2['pvp_win_lanch_rate_qua1']=train_feat2.pvp_win_count / \\\n",
    "# train_feat2.pvp_lanch_count\n",
    "# train_feat2['pve_lanch_rate_qua1']=train_feat2.pve_lanch_count/train_feat2.pve_battle_count\n",
    "# train_feat2['pve_win_rate_qua1']=train_feat2.pve_win_count / train_feat2.pve_battle_count\n",
    "# train_feat2['pve_win_lanch_rate_qua1']=train_feat2.pve_win_count / \\\n",
    "# train_feat2.pve_lanch_count"
   ]
  },
  {
   "cell_type": "code",
   "execution_count": 66,
   "metadata": {
    "ExecuteTime": {
     "end_time": "2018-07-30T08:13:21.291372Z",
     "start_time": "2018-07-30T08:13:21.216368Z"
    }
   },
   "outputs": [],
   "source": [
    "# text_mi=train_feat2.columns[pd.Series(train_feat2.columns.values).str.contains('qua')].tolist()\n",
    "# for name in text_mi :\n",
    "#     name2='x_avg_mi_'+name\n",
    "#     #print(name2)\n",
    "#     train_feat2[name2]=train_feat2[name] / train_feat2.avg_online_minutes\n",
    "\n",
    "# text_top=['ivory','stone','wood','meat']\n",
    "# text_top_add=[]\n",
    "# for name in text_top:\n",
    "#     name2=name+'_add'\n",
    "#     text_top_add.extend(train_feat2.columns[pd.Series(train_feat2.columns.values).str.contains(name2)].tolist())\n",
    "\n",
    "# text_top_add2=[]\n",
    "# for name in text_top_add :\n",
    "#     name2='x_avg_mi_'+name\n",
    "#     train_feat2[name2]=train_feat2[name] / train_feat2.avg_online_minutes\n",
    "#     text_top_add2.append(name2)\n"
   ]
  },
  {
   "cell_type": "code",
   "execution_count": 67,
   "metadata": {
    "ExecuteTime": {
     "end_time": "2018-07-30T08:13:21.408379Z",
     "start_time": "2018-07-30T08:13:21.292372Z"
    }
   },
   "outputs": [],
   "source": [
    "# #\n",
    "# train_feat2['pvp_lanch_rate_qua1']=train_feat2.pvp_lanch_count / train_feat2.pvp_battle_count\n",
    "# train_feat2['pvp_win_rate_qua1']=train_feat2.pvp_win_count / trainhttp://localhost:8888/notebooks/Tap4fun/TFTest22.ipynb#_feat2.pvp_battle_count\n",
    "# train_feat2['pve_lanch_rate_qua1']=train_feat2.pve_lanch_count / train_feat2.pve_battle_count\n",
    "# train_feat2['pve_win_rate_qua1']=train_feat2.pve_win_count / train_feat2.pve_battle_count\n",
    "# train_feat2['pvep_battle_qua1']=train_feat2.pvp_battle_count + train_feat2.pve_battle_count\n",
    "# train_feat2['pvep_win_qua1']=train_feat2.pvp_win_count + train_feat2.pve_win_count\n",
    "# train_feat2['pvep_lanch_qua1']=train_feat2.pvp_lanch_count + train_feat2.pve_lanch_count"
   ]
  },
  {
   "cell_type": "code",
   "execution_count": 68,
   "metadata": {
    "ExecuteTime": {
     "end_time": "2018-07-30T08:13:21.530386Z",
     "start_time": "2018-07-30T08:13:21.409379Z"
    }
   },
   "outputs": [],
   "source": [
    "# train_feat2['pvep_pve_battle_rate_qua1']=train_feat2.pve_battle_count / train_feat2.pvep_battle_qua1\n",
    "# train_feat2['pvep_pvp_battle_rate_qua1']=train_feat2.pvp_battle_count / train_feat2.pvep_battle_qua1\n",
    "\n",
    "# train_feat2['pvep_pve_lanch_rate_qua1']=train_feat2.pve_lanch_count / train_feat2.pvep_lanch_qua1\n",
    "# train_feat2['pvep_pvp_lanch_rate_qua1']=train_feat2.pvp_lanch_count / train_feat2.pvep_lanch_qua1\n",
    "\n",
    "# train_feat2['pvep_pve_win_rate_qua1']=train_feat2.pve_win_count / train_feat2.pvep_win_qua1\n",
    "# train_feat2['pvep_pvp_win_rate_qua1']=train_feat2.pvp_win_count / train_feat2.pvep_win_qua1\n",
    "\n"
   ]
  },
  {
   "cell_type": "code",
   "execution_count": 69,
   "metadata": {
    "ExecuteTime": {
     "end_time": "2018-07-30T08:13:22.163422Z",
     "start_time": "2018-07-30T08:13:21.532386Z"
    }
   },
   "outputs": [],
   "source": [
    "train_feat2['price_per_count_qua1']=train_feat2.pay_price / train_feat2.pay_count"
   ]
  },
  {
   "cell_type": "code",
   "execution_count": 70,
   "metadata": {
    "ExecuteTime": {
     "end_time": "2018-07-30T08:13:22.167422Z",
     "start_time": "2018-07-30T08:13:22.164422Z"
    }
   },
   "outputs": [],
   "source": [
    "###############################################\n",
    "\n",
    "\n",
    "\n",
    "#train_feat2.fillna(0,inplace=True)\n",
    "\n",
    "\n",
    "\n",
    "###############################################"
   ]
  },
  {
   "cell_type": "code",
   "execution_count": 71,
   "metadata": {
    "ExecuteTime": {
     "end_time": "2018-07-30T08:13:22.267428Z",
     "start_time": "2018-07-30T08:13:22.169422Z"
    }
   },
   "outputs": [
    {
     "data": {
      "text/plain": [
       "(2288007, 124)"
      ]
     },
     "execution_count": 71,
     "metadata": {},
     "output_type": "execute_result"
    }
   ],
   "source": [
    "train_feat2.shape"
   ]
  },
  {
   "cell_type": "code",
   "execution_count": null,
   "metadata": {},
   "outputs": [],
   "source": []
  },
  {
   "cell_type": "code",
   "execution_count": null,
   "metadata": {},
   "outputs": [],
   "source": []
  },
  {
   "cell_type": "code",
   "execution_count": null,
   "metadata": {},
   "outputs": [],
   "source": []
  },
  {
   "cell_type": "code",
   "execution_count": 72,
   "metadata": {
    "ExecuteTime": {
     "end_time": "2018-07-30T08:13:22.911465Z",
     "start_time": "2018-07-30T08:13:22.268428Z"
    }
   },
   "outputs": [],
   "source": [
    "train_feat2_int=train_feat2.select_dtypes(include=['uint16','uint8'])\n"
   ]
  },
  {
   "cell_type": "code",
   "execution_count": 73,
   "metadata": {
    "ExecuteTime": {
     "end_time": "2018-07-30T08:13:22.926465Z",
     "start_time": "2018-07-30T08:13:22.912465Z"
    }
   },
   "outputs": [
    {
     "name": "stdout",
     "output_type": "stream",
     "text": [
      "<class 'pandas.core.frame.DataFrame'>\n",
      "RangeIndex: 2288007 entries, 0 to 2288006\n",
      "Columns: 124 entries, user_id to price_per_count_qua1\n",
      "dtypes: datetime64[ns](1), float32(22), float64(6), uint16(1), uint8(94)\n",
      "memory usage: 523.7 MB\n"
     ]
    }
   ],
   "source": [
    "train_feat2.info()"
   ]
  },
  {
   "cell_type": "code",
   "execution_count": 74,
   "metadata": {
    "ExecuteTime": {
     "end_time": "2018-07-30T08:13:23.031471Z",
     "start_time": "2018-07-30T08:13:22.928465Z"
    }
   },
   "outputs": [
    {
     "data": {
      "text/html": [
       "<div>\n",
       "<style scoped>\n",
       "    .dataframe tbody tr th:only-of-type {\n",
       "        vertical-align: middle;\n",
       "    }\n",
       "\n",
       "    .dataframe tbody tr th {\n",
       "        vertical-align: top;\n",
       "    }\n",
       "\n",
       "    .dataframe thead th {\n",
       "        text-align: right;\n",
       "    }\n",
       "</style>\n",
       "<table border=\"1\" class=\"dataframe\">\n",
       "  <thead>\n",
       "    <tr style=\"text-align: right;\">\n",
       "      <th></th>\n",
       "      <th>user_id</th>\n",
       "      <th>infantry_add_value</th>\n",
       "      <th>infantry_reduce_value</th>\n",
       "      <th>cavalry_add_value</th>\n",
       "      <th>cavalry_reduce_value</th>\n",
       "      <th>shaman_add_value</th>\n",
       "      <th>shaman_reduce_value</th>\n",
       "      <th>wound_infantry_add_value</th>\n",
       "      <th>wound_infantry_reduce_value</th>\n",
       "      <th>wound_cavalry_add_value</th>\n",
       "      <th>...</th>\n",
       "      <th>sr_guest_troop_capacity_level</th>\n",
       "      <th>sr_march_size_level</th>\n",
       "      <th>sr_rss_help_bonus_level</th>\n",
       "      <th>pvp_battle_count</th>\n",
       "      <th>pvp_lanch_count</th>\n",
       "      <th>pvp_win_count</th>\n",
       "      <th>pve_battle_count</th>\n",
       "      <th>pve_lanch_count</th>\n",
       "      <th>pve_win_count</th>\n",
       "      <th>pay_count</th>\n",
       "    </tr>\n",
       "  </thead>\n",
       "  <tbody>\n",
       "    <tr>\n",
       "      <th>0</th>\n",
       "      <td>1</td>\n",
       "      <td>0</td>\n",
       "      <td>0</td>\n",
       "      <td>0</td>\n",
       "      <td>0</td>\n",
       "      <td>0</td>\n",
       "      <td>0</td>\n",
       "      <td>0</td>\n",
       "      <td>0</td>\n",
       "      <td>0</td>\n",
       "      <td>...</td>\n",
       "      <td>0</td>\n",
       "      <td>0</td>\n",
       "      <td>0</td>\n",
       "      <td>0</td>\n",
       "      <td>0</td>\n",
       "      <td>0</td>\n",
       "      <td>0</td>\n",
       "      <td>0</td>\n",
       "      <td>0</td>\n",
       "      <td>0</td>\n",
       "    </tr>\n",
       "    <tr>\n",
       "      <th>1</th>\n",
       "      <td>1593</td>\n",
       "      <td>0</td>\n",
       "      <td>0</td>\n",
       "      <td>0</td>\n",
       "      <td>0</td>\n",
       "      <td>0</td>\n",
       "      <td>0</td>\n",
       "      <td>0</td>\n",
       "      <td>0</td>\n",
       "      <td>0</td>\n",
       "      <td>...</td>\n",
       "      <td>0</td>\n",
       "      <td>0</td>\n",
       "      <td>0</td>\n",
       "      <td>0</td>\n",
       "      <td>0</td>\n",
       "      <td>0</td>\n",
       "      <td>0</td>\n",
       "      <td>0</td>\n",
       "      <td>0</td>\n",
       "      <td>0</td>\n",
       "    </tr>\n",
       "    <tr>\n",
       "      <th>2</th>\n",
       "      <td>1594</td>\n",
       "      <td>0</td>\n",
       "      <td>0</td>\n",
       "      <td>0</td>\n",
       "      <td>0</td>\n",
       "      <td>0</td>\n",
       "      <td>0</td>\n",
       "      <td>0</td>\n",
       "      <td>0</td>\n",
       "      <td>0</td>\n",
       "      <td>...</td>\n",
       "      <td>0</td>\n",
       "      <td>0</td>\n",
       "      <td>0</td>\n",
       "      <td>0</td>\n",
       "      <td>0</td>\n",
       "      <td>0</td>\n",
       "      <td>0</td>\n",
       "      <td>0</td>\n",
       "      <td>0</td>\n",
       "      <td>0</td>\n",
       "    </tr>\n",
       "    <tr>\n",
       "      <th>3</th>\n",
       "      <td>1595</td>\n",
       "      <td>0</td>\n",
       "      <td>0</td>\n",
       "      <td>0</td>\n",
       "      <td>0</td>\n",
       "      <td>0</td>\n",
       "      <td>0</td>\n",
       "      <td>0</td>\n",
       "      <td>0</td>\n",
       "      <td>0</td>\n",
       "      <td>...</td>\n",
       "      <td>0</td>\n",
       "      <td>0</td>\n",
       "      <td>0</td>\n",
       "      <td>0</td>\n",
       "      <td>0</td>\n",
       "      <td>0</td>\n",
       "      <td>0</td>\n",
       "      <td>0</td>\n",
       "      <td>0</td>\n",
       "      <td>0</td>\n",
       "    </tr>\n",
       "    <tr>\n",
       "      <th>4</th>\n",
       "      <td>1596</td>\n",
       "      <td>0</td>\n",
       "      <td>0</td>\n",
       "      <td>0</td>\n",
       "      <td>0</td>\n",
       "      <td>0</td>\n",
       "      <td>0</td>\n",
       "      <td>0</td>\n",
       "      <td>0</td>\n",
       "      <td>0</td>\n",
       "      <td>...</td>\n",
       "      <td>0</td>\n",
       "      <td>0</td>\n",
       "      <td>0</td>\n",
       "      <td>0</td>\n",
       "      <td>0</td>\n",
       "      <td>0</td>\n",
       "      <td>0</td>\n",
       "      <td>0</td>\n",
       "      <td>0</td>\n",
       "      <td>0</td>\n",
       "    </tr>\n",
       "  </tbody>\n",
       "</table>\n",
       "<p>5 rows × 95 columns</p>\n",
       "</div>"
      ],
      "text/plain": [
       "   user_id  infantry_add_value  infantry_reduce_value  cavalry_add_value  \\\n",
       "0        1                   0                      0                  0   \n",
       "1     1593                   0                      0                  0   \n",
       "2     1594                   0                      0                  0   \n",
       "3     1595                   0                      0                  0   \n",
       "4     1596                   0                      0                  0   \n",
       "\n",
       "   cavalry_reduce_value  shaman_add_value  shaman_reduce_value  \\\n",
       "0                     0                 0                    0   \n",
       "1                     0                 0                    0   \n",
       "2                     0                 0                    0   \n",
       "3                     0                 0                    0   \n",
       "4                     0                 0                    0   \n",
       "\n",
       "   wound_infantry_add_value  wound_infantry_reduce_value  \\\n",
       "0                         0                            0   \n",
       "1                         0                            0   \n",
       "2                         0                            0   \n",
       "3                         0                            0   \n",
       "4                         0                            0   \n",
       "\n",
       "   wound_cavalry_add_value    ...      sr_guest_troop_capacity_level  \\\n",
       "0                        0    ...                                  0   \n",
       "1                        0    ...                                  0   \n",
       "2                        0    ...                                  0   \n",
       "3                        0    ...                                  0   \n",
       "4                        0    ...                                  0   \n",
       "\n",
       "   sr_march_size_level  sr_rss_help_bonus_level  pvp_battle_count  \\\n",
       "0                    0                        0                 0   \n",
       "1                    0                        0                 0   \n",
       "2                    0                        0                 0   \n",
       "3                    0                        0                 0   \n",
       "4                    0                        0                 0   \n",
       "\n",
       "   pvp_lanch_count  pvp_win_count  pve_battle_count  pve_lanch_count  \\\n",
       "0                0              0                 0                0   \n",
       "1                0              0                 0                0   \n",
       "2                0              0                 0                0   \n",
       "3                0              0                 0                0   \n",
       "4                0              0                 0                0   \n",
       "\n",
       "   pve_win_count  pay_count  \n",
       "0              0          0  \n",
       "1              0          0  \n",
       "2              0          0  \n",
       "3              0          0  \n",
       "4              0          0  \n",
       "\n",
       "[5 rows x 95 columns]"
      ]
     },
     "execution_count": 74,
     "metadata": {},
     "output_type": "execute_result"
    }
   ],
   "source": [
    "train_feat2_int.head()"
   ]
  },
  {
   "cell_type": "code",
   "execution_count": 75,
   "metadata": {
    "ExecuteTime": {
     "end_time": "2018-07-30T08:13:23.678508Z",
     "start_time": "2018-07-30T08:13:23.032471Z"
    }
   },
   "outputs": [],
   "source": [
    "train_feat2_float=train_feat2.select_dtypes(include=['float64','float32']).apply(pd.to_numeric,downcast='float')\n",
    "#train_feat2.select_dtypes(include=['float64','float32']).apply(pd.to_numeric,downcast='float')\n",
    "#..apply(pd.to_numeric,downcast='float')"
   ]
  },
  {
   "cell_type": "code",
   "execution_count": 76,
   "metadata": {
    "ExecuteTime": {
     "end_time": "2018-07-30T08:13:23.705510Z",
     "start_time": "2018-07-30T08:13:23.679508Z"
    }
   },
   "outputs": [
    {
     "data": {
      "text/html": [
       "<div>\n",
       "<style scoped>\n",
       "    .dataframe tbody tr th:only-of-type {\n",
       "        vertical-align: middle;\n",
       "    }\n",
       "\n",
       "    .dataframe tbody tr th {\n",
       "        vertical-align: top;\n",
       "    }\n",
       "\n",
       "    .dataframe thead th {\n",
       "        text-align: right;\n",
       "    }\n",
       "</style>\n",
       "<table border=\"1\" class=\"dataframe\">\n",
       "  <thead>\n",
       "    <tr style=\"text-align: right;\">\n",
       "      <th></th>\n",
       "      <th>wood_add_value</th>\n",
       "      <th>wood_reduce_value</th>\n",
       "      <th>stone_add_value</th>\n",
       "      <th>stone_reduce_value</th>\n",
       "      <th>ivory_add_value</th>\n",
       "      <th>ivory_reduce_value</th>\n",
       "      <th>meat_add_value</th>\n",
       "      <th>meat_reduce_value</th>\n",
       "      <th>magic_add_value</th>\n",
       "      <th>magic_reduce_value</th>\n",
       "      <th>...</th>\n",
       "      <th>meat_qua2</th>\n",
       "      <th>wood_qua1</th>\n",
       "      <th>wood_qua2</th>\n",
       "      <th>def_qua1</th>\n",
       "      <th>cavalry_qua1</th>\n",
       "      <th>infantry_qua1</th>\n",
       "      <th>shaman_qua1</th>\n",
       "      <th>speed_qua1</th>\n",
       "      <th>troop_qua1</th>\n",
       "      <th>price_per_count_qua1</th>\n",
       "    </tr>\n",
       "  </thead>\n",
       "  <tbody>\n",
       "    <tr>\n",
       "      <th>0</th>\n",
       "      <td>20125.0</td>\n",
       "      <td>3700.0</td>\n",
       "      <td>0.0</td>\n",
       "      <td>0.0</td>\n",
       "      <td>0.0</td>\n",
       "      <td>0.0</td>\n",
       "      <td>16375.0</td>\n",
       "      <td>2000.0</td>\n",
       "      <td>0.0</td>\n",
       "      <td>0.0</td>\n",
       "      <td>...</td>\n",
       "      <td>14375.0</td>\n",
       "      <td>23825.0</td>\n",
       "      <td>16425.0</td>\n",
       "      <td>0.0</td>\n",
       "      <td>0.0</td>\n",
       "      <td>0.0</td>\n",
       "      <td>0.0</td>\n",
       "      <td>0.0</td>\n",
       "      <td>0.0</td>\n",
       "      <td>NaN</td>\n",
       "    </tr>\n",
       "    <tr>\n",
       "      <th>1</th>\n",
       "      <td>0.0</td>\n",
       "      <td>0.0</td>\n",
       "      <td>0.0</td>\n",
       "      <td>0.0</td>\n",
       "      <td>0.0</td>\n",
       "      <td>0.0</td>\n",
       "      <td>0.0</td>\n",
       "      <td>0.0</td>\n",
       "      <td>0.0</td>\n",
       "      <td>0.0</td>\n",
       "      <td>...</td>\n",
       "      <td>0.0</td>\n",
       "      <td>0.0</td>\n",
       "      <td>0.0</td>\n",
       "      <td>0.0</td>\n",
       "      <td>0.0</td>\n",
       "      <td>0.0</td>\n",
       "      <td>0.0</td>\n",
       "      <td>0.0</td>\n",
       "      <td>0.0</td>\n",
       "      <td>NaN</td>\n",
       "    </tr>\n",
       "    <tr>\n",
       "      <th>2</th>\n",
       "      <td>0.0</td>\n",
       "      <td>0.0</td>\n",
       "      <td>0.0</td>\n",
       "      <td>0.0</td>\n",
       "      <td>0.0</td>\n",
       "      <td>0.0</td>\n",
       "      <td>0.0</td>\n",
       "      <td>0.0</td>\n",
       "      <td>0.0</td>\n",
       "      <td>0.0</td>\n",
       "      <td>...</td>\n",
       "      <td>0.0</td>\n",
       "      <td>0.0</td>\n",
       "      <td>0.0</td>\n",
       "      <td>0.0</td>\n",
       "      <td>0.0</td>\n",
       "      <td>0.0</td>\n",
       "      <td>0.0</td>\n",
       "      <td>0.0</td>\n",
       "      <td>0.0</td>\n",
       "      <td>NaN</td>\n",
       "    </tr>\n",
       "    <tr>\n",
       "      <th>3</th>\n",
       "      <td>0.0</td>\n",
       "      <td>0.0</td>\n",
       "      <td>0.0</td>\n",
       "      <td>0.0</td>\n",
       "      <td>0.0</td>\n",
       "      <td>0.0</td>\n",
       "      <td>0.0</td>\n",
       "      <td>0.0</td>\n",
       "      <td>0.0</td>\n",
       "      <td>0.0</td>\n",
       "      <td>...</td>\n",
       "      <td>0.0</td>\n",
       "      <td>0.0</td>\n",
       "      <td>0.0</td>\n",
       "      <td>0.0</td>\n",
       "      <td>0.0</td>\n",
       "      <td>0.0</td>\n",
       "      <td>0.0</td>\n",
       "      <td>0.0</td>\n",
       "      <td>0.0</td>\n",
       "      <td>NaN</td>\n",
       "    </tr>\n",
       "    <tr>\n",
       "      <th>4</th>\n",
       "      <td>0.0</td>\n",
       "      <td>0.0</td>\n",
       "      <td>0.0</td>\n",
       "      <td>0.0</td>\n",
       "      <td>0.0</td>\n",
       "      <td>0.0</td>\n",
       "      <td>0.0</td>\n",
       "      <td>0.0</td>\n",
       "      <td>0.0</td>\n",
       "      <td>0.0</td>\n",
       "      <td>...</td>\n",
       "      <td>0.0</td>\n",
       "      <td>0.0</td>\n",
       "      <td>0.0</td>\n",
       "      <td>0.0</td>\n",
       "      <td>0.0</td>\n",
       "      <td>0.0</td>\n",
       "      <td>0.0</td>\n",
       "      <td>0.0</td>\n",
       "      <td>0.0</td>\n",
       "      <td>NaN</td>\n",
       "    </tr>\n",
       "  </tbody>\n",
       "</table>\n",
       "<p>5 rows × 28 columns</p>\n",
       "</div>"
      ],
      "text/plain": [
       "   wood_add_value  wood_reduce_value  stone_add_value  stone_reduce_value  \\\n",
       "0         20125.0             3700.0              0.0                 0.0   \n",
       "1             0.0                0.0              0.0                 0.0   \n",
       "2             0.0                0.0              0.0                 0.0   \n",
       "3             0.0                0.0              0.0                 0.0   \n",
       "4             0.0                0.0              0.0                 0.0   \n",
       "\n",
       "   ivory_add_value  ivory_reduce_value  meat_add_value  meat_reduce_value  \\\n",
       "0              0.0                 0.0         16375.0             2000.0   \n",
       "1              0.0                 0.0             0.0                0.0   \n",
       "2              0.0                 0.0             0.0                0.0   \n",
       "3              0.0                 0.0             0.0                0.0   \n",
       "4              0.0                 0.0             0.0                0.0   \n",
       "\n",
       "   magic_add_value  magic_reduce_value          ...           meat_qua2  \\\n",
       "0              0.0                 0.0          ...             14375.0   \n",
       "1              0.0                 0.0          ...                 0.0   \n",
       "2              0.0                 0.0          ...                 0.0   \n",
       "3              0.0                 0.0          ...                 0.0   \n",
       "4              0.0                 0.0          ...                 0.0   \n",
       "\n",
       "   wood_qua1  wood_qua2  def_qua1  cavalry_qua1  infantry_qua1  shaman_qua1  \\\n",
       "0    23825.0    16425.0       0.0           0.0            0.0          0.0   \n",
       "1        0.0        0.0       0.0           0.0            0.0          0.0   \n",
       "2        0.0        0.0       0.0           0.0            0.0          0.0   \n",
       "3        0.0        0.0       0.0           0.0            0.0          0.0   \n",
       "4        0.0        0.0       0.0           0.0            0.0          0.0   \n",
       "\n",
       "   speed_qua1  troop_qua1  price_per_count_qua1  \n",
       "0         0.0         0.0                   NaN  \n",
       "1         0.0         0.0                   NaN  \n",
       "2         0.0         0.0                   NaN  \n",
       "3         0.0         0.0                   NaN  \n",
       "4         0.0         0.0                   NaN  \n",
       "\n",
       "[5 rows x 28 columns]"
      ]
     },
     "execution_count": 76,
     "metadata": {},
     "output_type": "execute_result"
    }
   ],
   "source": [
    "train_feat2_float.head()"
   ]
  },
  {
   "cell_type": "code",
   "execution_count": null,
   "metadata": {
    "ExecuteTime": {
     "end_time": "2018-07-04T07:37:23.515452Z",
     "start_time": "2018-07-04T07:37:23.419447Z"
    }
   },
   "outputs": [],
   "source": []
  },
  {
   "cell_type": "code",
   "execution_count": 77,
   "metadata": {
    "ExecuteTime": {
     "end_time": "2018-07-30T08:13:23.946524Z",
     "start_time": "2018-07-30T08:13:23.707510Z"
    }
   },
   "outputs": [],
   "source": [
    "train_feat3=pd.concat([train_feat2_int,train_feat2_float],axis=1)"
   ]
  },
  {
   "cell_type": "code",
   "execution_count": 78,
   "metadata": {
    "ExecuteTime": {
     "end_time": "2018-07-30T08:13:24.326545Z",
     "start_time": "2018-07-30T08:13:23.948524Z"
    }
   },
   "outputs": [],
   "source": [
    "train_feat3.drop(labels=['prediction_pay_price'],axis=1,inplace=True)\n",
    "#train_feat3.prediction_pay_price"
   ]
  },
  {
   "cell_type": "code",
   "execution_count": 79,
   "metadata": {
    "ExecuteTime": {
     "end_time": "2018-07-30T08:13:24.333546Z",
     "start_time": "2018-07-30T08:13:24.328546Z"
    }
   },
   "outputs": [
    {
     "data": {
      "text/plain": [
       "(2288007, 122)"
      ]
     },
     "execution_count": 79,
     "metadata": {},
     "output_type": "execute_result"
    }
   ],
   "source": [
    "train_feat3.shape"
   ]
  },
  {
   "cell_type": "code",
   "execution_count": 80,
   "metadata": {
    "ExecuteTime": {
     "end_time": "2018-07-30T08:13:24.419551Z",
     "start_time": "2018-07-30T08:13:24.336546Z"
    }
   },
   "outputs": [],
   "source": [
    "#train_feat3.fillna(0,inplace=True)"
   ]
  },
  {
   "cell_type": "code",
   "execution_count": 81,
   "metadata": {
    "ExecuteTime": {
     "end_time": "2018-07-30T08:13:24.498555Z",
     "start_time": "2018-07-30T08:13:24.421551Z"
    }
   },
   "outputs": [
    {
     "name": "stdout",
     "output_type": "stream",
     "text": [
      "<class 'pandas.core.frame.DataFrame'>\n",
      "RangeIndex: 2288007 entries, 0 to 2288006\n",
      "Columns: 122 entries, user_id to price_per_count_qua1\n",
      "dtypes: float32(27), uint16(1), uint8(94)\n",
      "memory usage: 445.1 MB\n"
     ]
    }
   ],
   "source": [
    "train_feat3.info(memory_usage='deep')"
   ]
  },
  {
   "cell_type": "code",
   "execution_count": 82,
   "metadata": {
    "ExecuteTime": {
     "end_time": "2018-07-30T08:13:24.635563Z",
     "start_time": "2018-07-30T08:13:24.499555Z"
    }
   },
   "outputs": [],
   "source": [
    "del train_feat2"
   ]
  },
  {
   "cell_type": "code",
   "execution_count": 83,
   "metadata": {
    "ExecuteTime": {
     "end_time": "2018-07-30T08:13:24.735569Z",
     "start_time": "2018-07-30T08:13:24.637563Z"
    }
   },
   "outputs": [],
   "source": [
    "#train_feat3.isnull().sum().sum()"
   ]
  },
  {
   "cell_type": "code",
   "execution_count": 84,
   "metadata": {
    "ExecuteTime": {
     "end_time": "2018-07-30T08:13:24.846575Z",
     "start_time": "2018-07-30T08:13:24.737569Z"
    }
   },
   "outputs": [],
   "source": [
    "params={\n",
    "    'boosting_type':'gbdt',\n",
    "    'objective':'mse',\n",
    "    'metric':'rmse',\n",
    "    'min_child_weigth':3,\n",
    "    'num_leaves':2**5,\n",
    "    'lambda_l2':10,\n",
    "    'subsample':0.7,\n",
    "    'colsample_bytree':0.7,\n",
    "    'colsample_bylevel':0.7,\n",
    "    'learning_rate':0.05,\n",
    "    'tree_method':'exact',\n",
    "    'seed':2017,\n",
    "    'nthread':4,\n",
    "    'silent':True\n",
    "}"
   ]
  },
  {
   "cell_type": "code",
   "execution_count": 85,
   "metadata": {
    "ExecuteTime": {
     "end_time": "2018-07-30T08:13:27.051701Z",
     "start_time": "2018-07-30T08:13:24.850575Z"
    }
   },
   "outputs": [],
   "source": [
    "import time\n",
    "import lightgbm as lgb"
   ]
  },
  {
   "cell_type": "code",
   "execution_count": 86,
   "metadata": {
    "ExecuteTime": {
     "end_time": "2018-07-30T08:13:27.337718Z",
     "start_time": "2018-07-30T08:13:27.053701Z"
    }
   },
   "outputs": [
    {
     "name": "stderr",
     "output_type": "stream",
     "text": [
      "D:\\ProgramData\\Anaconda3\\lib\\site-packages\\sklearn\\cross_validation.py:41: DeprecationWarning: This module was deprecated in version 0.18 in favor of the model_selection module into which all the refactored classes and functions are moved. Also note that the interface of the new CV iterators are different from that of this module. This module will be removed in 0.20.\n",
      "  \"This module will be removed in 0.20.\", DeprecationWarning)\n"
     ]
    }
   ],
   "source": [
    "from sklearn.cross_validation import train_test_split\n",
    "from sklearn.metrics import mean_squared_error"
   ]
  },
  {
   "cell_type": "code",
   "execution_count": 87,
   "metadata": {
    "ExecuteTime": {
     "end_time": "2018-07-30T08:13:27.341718Z",
     "start_time": "2018-07-30T08:13:27.338718Z"
    }
   },
   "outputs": [],
   "source": [
    "#train_feat2.shape"
   ]
  },
  {
   "cell_type": "code",
   "execution_count": 88,
   "metadata": {
    "ExecuteTime": {
     "end_time": "2018-07-30T08:13:29.731855Z",
     "start_time": "2018-07-30T08:13:27.342718Z"
    }
   },
   "outputs": [],
   "source": [
    "X_train,X_test,y_train,y_test=train_test_split(train_feat3,label_train,test_size=0.5,random_state=73)"
   ]
  },
  {
   "cell_type": "code",
   "execution_count": 89,
   "metadata": {
    "ExecuteTime": {
     "end_time": "2018-07-30T08:13:29.753856Z",
     "start_time": "2018-07-30T08:13:29.733855Z"
    }
   },
   "outputs": [
    {
     "data": {
      "text/html": [
       "<div>\n",
       "<style scoped>\n",
       "    .dataframe tbody tr th:only-of-type {\n",
       "        vertical-align: middle;\n",
       "    }\n",
       "\n",
       "    .dataframe tbody tr th {\n",
       "        vertical-align: top;\n",
       "    }\n",
       "\n",
       "    .dataframe thead th {\n",
       "        text-align: right;\n",
       "    }\n",
       "</style>\n",
       "<table border=\"1\" class=\"dataframe\">\n",
       "  <thead>\n",
       "    <tr style=\"text-align: right;\">\n",
       "      <th></th>\n",
       "      <th>user_id</th>\n",
       "      <th>infantry_add_value</th>\n",
       "      <th>infantry_reduce_value</th>\n",
       "      <th>cavalry_add_value</th>\n",
       "      <th>cavalry_reduce_value</th>\n",
       "      <th>shaman_add_value</th>\n",
       "      <th>shaman_reduce_value</th>\n",
       "      <th>wound_infantry_add_value</th>\n",
       "      <th>wound_infantry_reduce_value</th>\n",
       "      <th>wound_cavalry_add_value</th>\n",
       "      <th>...</th>\n",
       "      <th>meat_qua2</th>\n",
       "      <th>wood_qua1</th>\n",
       "      <th>wood_qua2</th>\n",
       "      <th>def_qua1</th>\n",
       "      <th>cavalry_qua1</th>\n",
       "      <th>infantry_qua1</th>\n",
       "      <th>shaman_qua1</th>\n",
       "      <th>speed_qua1</th>\n",
       "      <th>troop_qua1</th>\n",
       "      <th>price_per_count_qua1</th>\n",
       "    </tr>\n",
       "  </thead>\n",
       "  <tbody>\n",
       "    <tr>\n",
       "      <th>1125738</th>\n",
       "      <td>19370</td>\n",
       "      <td>0</td>\n",
       "      <td>0</td>\n",
       "      <td>0</td>\n",
       "      <td>0</td>\n",
       "      <td>0</td>\n",
       "      <td>0</td>\n",
       "      <td>0</td>\n",
       "      <td>0</td>\n",
       "      <td>0</td>\n",
       "      <td>...</td>\n",
       "      <td>35543.0</td>\n",
       "      <td>51444.0</td>\n",
       "      <td>29884.0</td>\n",
       "      <td>0.0</td>\n",
       "      <td>0.0</td>\n",
       "      <td>0.0</td>\n",
       "      <td>0.0</td>\n",
       "      <td>0.0</td>\n",
       "      <td>0.0</td>\n",
       "      <td>NaN</td>\n",
       "    </tr>\n",
       "    <tr>\n",
       "      <th>1313562</th>\n",
       "      <td>19690</td>\n",
       "      <td>0</td>\n",
       "      <td>0</td>\n",
       "      <td>0</td>\n",
       "      <td>0</td>\n",
       "      <td>0</td>\n",
       "      <td>0</td>\n",
       "      <td>0</td>\n",
       "      <td>0</td>\n",
       "      <td>0</td>\n",
       "      <td>...</td>\n",
       "      <td>53331.0</td>\n",
       "      <td>61837.0</td>\n",
       "      <td>24989.0</td>\n",
       "      <td>0.0</td>\n",
       "      <td>0.0</td>\n",
       "      <td>0.0</td>\n",
       "      <td>0.0</td>\n",
       "      <td>0.0</td>\n",
       "      <td>0.0</td>\n",
       "      <td>NaN</td>\n",
       "    </tr>\n",
       "    <tr>\n",
       "      <th>990411</th>\n",
       "      <td>58009</td>\n",
       "      <td>0</td>\n",
       "      <td>0</td>\n",
       "      <td>0</td>\n",
       "      <td>0</td>\n",
       "      <td>0</td>\n",
       "      <td>0</td>\n",
       "      <td>0</td>\n",
       "      <td>0</td>\n",
       "      <td>0</td>\n",
       "      <td>...</td>\n",
       "      <td>0.0</td>\n",
       "      <td>0.0</td>\n",
       "      <td>0.0</td>\n",
       "      <td>0.0</td>\n",
       "      <td>0.0</td>\n",
       "      <td>0.0</td>\n",
       "      <td>0.0</td>\n",
       "      <td>0.0</td>\n",
       "      <td>0.0</td>\n",
       "      <td>NaN</td>\n",
       "    </tr>\n",
       "    <tr>\n",
       "      <th>533228</th>\n",
       "      <td>38602</td>\n",
       "      <td>0</td>\n",
       "      <td>0</td>\n",
       "      <td>0</td>\n",
       "      <td>0</td>\n",
       "      <td>0</td>\n",
       "      <td>0</td>\n",
       "      <td>0</td>\n",
       "      <td>0</td>\n",
       "      <td>0</td>\n",
       "      <td>...</td>\n",
       "      <td>0.0</td>\n",
       "      <td>0.0</td>\n",
       "      <td>0.0</td>\n",
       "      <td>0.0</td>\n",
       "      <td>0.0</td>\n",
       "      <td>0.0</td>\n",
       "      <td>0.0</td>\n",
       "      <td>0.0</td>\n",
       "      <td>0.0</td>\n",
       "      <td>NaN</td>\n",
       "    </tr>\n",
       "    <tr>\n",
       "      <th>2259930</th>\n",
       "      <td>14969</td>\n",
       "      <td>0</td>\n",
       "      <td>0</td>\n",
       "      <td>0</td>\n",
       "      <td>0</td>\n",
       "      <td>0</td>\n",
       "      <td>0</td>\n",
       "      <td>0</td>\n",
       "      <td>0</td>\n",
       "      <td>0</td>\n",
       "      <td>...</td>\n",
       "      <td>0.0</td>\n",
       "      <td>0.0</td>\n",
       "      <td>0.0</td>\n",
       "      <td>0.0</td>\n",
       "      <td>0.0</td>\n",
       "      <td>0.0</td>\n",
       "      <td>0.0</td>\n",
       "      <td>0.0</td>\n",
       "      <td>0.0</td>\n",
       "      <td>NaN</td>\n",
       "    </tr>\n",
       "  </tbody>\n",
       "</table>\n",
       "<p>5 rows × 122 columns</p>\n",
       "</div>"
      ],
      "text/plain": [
       "         user_id  infantry_add_value  infantry_reduce_value  \\\n",
       "1125738    19370                   0                      0   \n",
       "1313562    19690                   0                      0   \n",
       "990411     58009                   0                      0   \n",
       "533228     38602                   0                      0   \n",
       "2259930    14969                   0                      0   \n",
       "\n",
       "         cavalry_add_value  cavalry_reduce_value  shaman_add_value  \\\n",
       "1125738                  0                     0                 0   \n",
       "1313562                  0                     0                 0   \n",
       "990411                   0                     0                 0   \n",
       "533228                   0                     0                 0   \n",
       "2259930                  0                     0                 0   \n",
       "\n",
       "         shaman_reduce_value  wound_infantry_add_value  \\\n",
       "1125738                    0                         0   \n",
       "1313562                    0                         0   \n",
       "990411                     0                         0   \n",
       "533228                     0                         0   \n",
       "2259930                    0                         0   \n",
       "\n",
       "         wound_infantry_reduce_value  wound_cavalry_add_value  \\\n",
       "1125738                            0                        0   \n",
       "1313562                            0                        0   \n",
       "990411                             0                        0   \n",
       "533228                             0                        0   \n",
       "2259930                            0                        0   \n",
       "\n",
       "                 ...           meat_qua2  wood_qua1  wood_qua2  def_qua1  \\\n",
       "1125738          ...             35543.0    51444.0    29884.0       0.0   \n",
       "1313562          ...             53331.0    61837.0    24989.0       0.0   \n",
       "990411           ...                 0.0        0.0        0.0       0.0   \n",
       "533228           ...                 0.0        0.0        0.0       0.0   \n",
       "2259930          ...                 0.0        0.0        0.0       0.0   \n",
       "\n",
       "         cavalry_qua1  infantry_qua1  shaman_qua1  speed_qua1  troop_qua1  \\\n",
       "1125738           0.0            0.0          0.0         0.0         0.0   \n",
       "1313562           0.0            0.0          0.0         0.0         0.0   \n",
       "990411            0.0            0.0          0.0         0.0         0.0   \n",
       "533228            0.0            0.0          0.0         0.0         0.0   \n",
       "2259930           0.0            0.0          0.0         0.0         0.0   \n",
       "\n",
       "         price_per_count_qua1  \n",
       "1125738                   NaN  \n",
       "1313562                   NaN  \n",
       "990411                    NaN  \n",
       "533228                    NaN  \n",
       "2259930                   NaN  \n",
       "\n",
       "[5 rows x 122 columns]"
      ]
     },
     "execution_count": 89,
     "metadata": {},
     "output_type": "execute_result"
    }
   ],
   "source": [
    "X_train.head()"
   ]
  },
  {
   "cell_type": "code",
   "execution_count": 90,
   "metadata": {
    "ExecuteTime": {
     "end_time": "2018-07-30T08:13:29.836861Z",
     "start_time": "2018-07-30T08:13:29.755856Z"
    }
   },
   "outputs": [
    {
     "data": {
      "text/plain": [
       "1125738    0.0\n",
       "1313562    0.0\n",
       "990411     0.0\n",
       "533228     0.0\n",
       "2259930    0.0\n",
       "Name: prediction_pay_price, dtype: float32"
      ]
     },
     "execution_count": 90,
     "metadata": {},
     "output_type": "execute_result"
    }
   ],
   "source": [
    "y_train.head()"
   ]
  },
  {
   "cell_type": "code",
   "execution_count": 91,
   "metadata": {
    "ExecuteTime": {
     "end_time": "2018-07-30T08:13:30.151879Z",
     "start_time": "2018-07-30T08:13:29.838861Z"
    }
   },
   "outputs": [],
   "source": [
    "import  matplotlib.pyplot as plt\n",
    "plt.style.use(style='ggplot')\n",
    "plt.rcParams['figure.figsize']=(8,4)\n",
    "%matplotlib inline"
   ]
  },
  {
   "cell_type": "code",
   "execution_count": 92,
   "metadata": {
    "ExecuteTime": {
     "end_time": "2018-07-30T08:17:36.770810Z",
     "start_time": "2018-07-30T08:17:22.140034Z"
    }
   },
   "outputs": [
    {
     "data": {
      "text/plain": [
       "<matplotlib.collections.PathCollection at 0xef4fac8>"
      ]
     },
     "execution_count": 92,
     "metadata": {},
     "output_type": "execute_result"
    },
    {
     "data": {
      "image/png": "[encoded data removed]",
      "text/plain": [
       "<matplotlib.figure.Figure at 0x14cbdba8>"
      ]
     },
     "metadata": {},
     "output_type": "display_data"
    }
   ],
   "source": [
    "plt.scatter(x=train_feat2_float.pay_price,y=train_feat2_float.prediction_pay_price)"
   ]
  },
  {
   "cell_type": "code",
   "execution_count": 93,
   "metadata": {
    "ExecuteTime": {
     "end_time": "2018-07-30T08:31:42.537985Z",
     "start_time": "2018-07-30T08:31:28.156362Z"
    }
   },
   "outputs": [
    {
     "data": {
      "text/plain": [
       "<matplotlib.collections.PathCollection at 0xf16d5f8>"
      ]
     },
     "execution_count": 93,
     "metadata": {},
     "output_type": "execute_result"
    },
    {
     "data": {
      "image/png": "[encoded data removed]",
      "text/plain": [
       "<matplotlib.figure.Figure at 0x14ca95f8>"
      ]
     },
     "metadata": {},
     "output_type": "display_data"
    }
   ],
   "source": [
    "plt.scatter(x=train_feat2_float.ivory_add_value,y=train_feat2_float.prediction_pay_price)"
   ]
  },
  {
   "cell_type": "code",
   "execution_count": 94,
   "metadata": {
    "ExecuteTime": {
     "end_time": "2018-07-30T08:52:07.299556Z",
     "start_time": "2018-07-30T08:52:06.976339Z"
    }
   },
   "outputs": [
    {
     "data": {
      "text/plain": [
       "162.61414"
      ]
     },
     "execution_count": 94,
     "metadata": {},
     "output_type": "execute_result"
    }
   ],
   "source": [
    "train_feat2_float.prediction_pay_price.skew()"
   ]
  },
  {
   "cell_type": "code",
   "execution_count": 95,
   "metadata": {
    "ExecuteTime": {
     "end_time": "2018-07-30T08:53:23.927708Z",
     "start_time": "2018-07-30T08:53:23.846703Z"
    }
   },
   "outputs": [
    {
     "data": {
      "text/plain": [
       "139.58662"
      ]
     },
     "execution_count": 95,
     "metadata": {},
     "output_type": "execute_result"
    }
   ],
   "source": [
    "train_feat2_float.pay_price.skew()"
   ]
  },
  {
   "cell_type": "code",
   "execution_count": 96,
   "metadata": {
    "ExecuteTime": {
     "end_time": "2018-07-30T08:57:16.046243Z",
     "start_time": "2018-07-30T08:57:15.770029Z"
    }
   },
   "outputs": [],
   "source": [
    "from scipy import stats\n",
    "from scipy.stats import norm, skew #for some statistics\n",
    "import seaborn as sns\n",
    "color = sns.color_palette()\n",
    "sns.set_style('darkgrid')"
   ]
  },
  {
   "cell_type": "code",
   "execution_count": 97,
   "metadata": {
    "ExecuteTime": {
     "end_time": "2018-07-30T08:57:43.978902Z",
     "start_time": "2018-07-30T08:57:43.108654Z"
    }
   },
   "outputs": [
    {
     "data": {
      "text/plain": [
       "<matplotlib.axes._subplots.AxesSubplot at 0x1653af98>"
      ]
     },
     "execution_count": 97,
     "metadata": {},
     "output_type": "execute_result"
    },
    {
     "data": {
      "image/png": "[encoded data removed]",
      "text/plain": [
       "<matplotlib.figure.Figure at 0x1653aa20>"
      ]
     },
     "metadata": {},
     "output_type": "display_data"
    }
   ],
   "source": [
    "sns.distplot(train_feat2_float.prediction_pay_price,fit=norm)"
   ]
  },
  {
   "cell_type": "code",
   "execution_count": 98,
   "metadata": {
    "ExecuteTime": {
     "end_time": "2018-07-30T09:00:21.098328Z",
     "start_time": "2018-07-30T09:00:20.786711Z"
    }
   },
   "outputs": [
    {
     "name": "stderr",
     "output_type": "stream",
     "text": [
      "D:\\ProgramData\\Anaconda3\\lib\\site-packages\\ipykernel_launcher.py:1: RuntimeWarning: divide by zero encountered in log\n",
      "  \"\"\"Entry point for launching an IPython kernel.\n"
     ]
    },
    {
     "data": {
      "text/plain": [
       "nan"
      ]
     },
     "execution_count": 98,
     "metadata": {},
     "output_type": "execute_result"
    }
   ],
   "source": [
    "np.log(train_feat2_float.prediction_pay_price)"
   ]
  },
  {
   "cell_type": "code",
   "execution_count": null,
   "metadata": {},
   "outputs": [],
   "source": []
  },
  {
   "cell_type": "code",
   "execution_count": null,
   "metadata": {},
   "outputs": [],
   "source": []
  },
  {
   "cell_type": "code",
   "execution_count": null,
   "metadata": {},
   "outputs": [],
   "source": []
  },
  {
   "cell_type": "code",
   "execution_count": null,
   "metadata": {},
   "outputs": [],
   "source": []
  },
  {
   "cell_type": "code",
   "execution_count": null,
   "metadata": {},
   "outputs": [],
   "source": []
  },
  {
   "cell_type": "code",
   "execution_count": null,
   "metadata": {},
   "outputs": [],
   "source": []
  },
  {
   "cell_type": "code",
   "execution_count": null,
   "metadata": {},
   "outputs": [],
   "source": []
  },
  {
   "cell_type": "code",
   "execution_count": null,
   "metadata": {},
   "outputs": [],
   "source": []
  },
  {
   "cell_type": "code",
   "execution_count": null,
   "metadata": {},
   "outputs": [],
   "source": []
  },
  {
   "cell_type": "code",
   "execution_count": null,
   "metadata": {},
   "outputs": [],
   "source": []
  },
  {
   "cell_type": "code",
   "execution_count": null,
   "metadata": {},
   "outputs": [],
   "source": []
  },
  {
   "cell_type": "code",
   "execution_count": null,
   "metadata": {},
   "outputs": [],
   "source": []
  },
  {
   "cell_type": "code",
   "execution_count": null,
   "metadata": {
    "ExecuteTime": {
     "end_time": "2018-07-25T12:13:35.754118Z",
     "start_time": "2018-07-25T12:13:35.498104Z"
    }
   },
   "outputs": [],
   "source": [
    "# from sklearn.grid_search import GridSearchCV\n",
    "# from sklearn.pipeline import Pipeline\n",
    "\n",
    "# # pipeline=Pipeline({\n",
    "# #     ('lgb',lgb.LGBMRegressor(boosting_type='gbdt',objective='mse',metric='rmes'#, \n",
    "# #                              #tree_method='exact',seed=2017,nthread=2,silent=True\n",
    "# #                             ))\n",
    "# # })\n",
    "# # params={\n",
    "# #     'num_leaves':(10,20,30),\n",
    "# #     'max_depth':(3,4,5),\n",
    "# #     'learning_rate':(0.01,0.05,0.1),\n",
    "# #     'subsample':(0.5,0.6,0.7),\n",
    "# #     'colsample_bytree':(0.7,0.8,0.9)\n",
    "    \n",
    "# # }\n",
    "\n",
    "# params={\n",
    "# \t'max_bin':(100,150,200),\n",
    "#     'num_leaves':(10,20,30),\n",
    "# \t'max_depth':(3,4,5),\n",
    "# \t'min_data_in_leaf':(10,20,30),\n",
    "# \t'bagging_freq':(5,10,20),\n",
    "# \t'lambda_l2':(1,5,10)\n",
    "# }\n",
    "\n",
    "# estimator = lgb.LGBMRegressor(\n",
    "#         #num_leaves = 50, # cv调节50是最优值\n",
    "#         #max_depth = 13,\n",
    "#        #learning_rate =0.1, \n",
    "#         #n_estimators = 1000, \n",
    "#         objective = 'regression',\n",
    "#         metric='rmse',\n",
    "#         learning_rate=0.05,\n",
    "#         subsample=0.6,\n",
    "#         colsample_bytree=0.8\n",
    "#         #min_child_weight = 1, \n",
    "#         #subsample = 0.8,\n",
    "#         #colsample_bytree=0.8,\n",
    "#         #nthread = 7,\n",
    "# )\n",
    "\n",
    "\n",
    "# grid_search=GridSearchCV(estimator,params,scoring='neg_mean_squared_error',verbose=50,cv=5)\n",
    "# grid_search.fit(X_train,y_train)\n",
    "\n",
    "# print (u'最佳效果：%0.3f'%grid_search.best_score_)\n",
    "# print (u'最优参数组合：')\n",
    "# best_parameters=grid_search.best_estimator_.get_params()\n",
    "# for param_name in sorted(params.keys()):\n",
    "#     print ('\\t%s:%r'%(param_name,best_parameters[param_name]))\n",
    "\n",
    "# from sklearn.metrics import mean_squared_error\n",
    "# predictions=grid_search.predict(X_test)\n",
    "# np.sqrt(mean_squared_error(y_test,predictions))\n",
    "\n",
    "# from sklearn.externals import joblib\n",
    "# joblib.dump(grid_search,'F:\\\\study\\\\ml\\\\DataSet\\\\Tap4fun\\\\GSCV_lgb.model.gz',compress=True)"
   ]
  },
  {
   "cell_type": "code",
   "execution_count": null,
   "metadata": {},
   "outputs": [],
   "source": []
  },
  {
   "cell_type": "code",
   "execution_count": null,
   "metadata": {
    "ExecuteTime": {
     "end_time": "2018-07-23T05:42:39.900864Z",
     "start_time": "2018-07-23T05:42:38.931209Z"
    }
   },
   "outputs": [],
   "source": [
    "# grid_search=GridSearchCV(pipeline,params,n_jobs=2,verbose=50,scoring='neg_mean_squared_error',cv=3)\n",
    "# grid_search.fit(X_train,y_train)"
   ]
  },
  {
   "cell_type": "code",
   "execution_count": null,
   "metadata": {},
   "outputs": [],
   "source": []
  },
  {
   "cell_type": "code",
   "execution_count": null,
   "metadata": {
    "ExecuteTime": {
     "end_time": "2018-07-05T03:03:17.559649Z",
     "start_time": "2018-07-05T03:03:17.441642Z"
    }
   },
   "outputs": [],
   "source": [
    "# data_test.info(memory_usage='deep')"
   ]
  },
  {
   "cell_type": "code",
   "execution_count": null,
   "metadata": {},
   "outputs": [],
   "source": []
  },
  {
   "cell_type": "code",
   "execution_count": null,
   "metadata": {},
   "outputs": [],
   "source": []
  }
 ],
 "metadata": {
  "kernelspec": {
   "display_name": "Python 3",
   "language": "python",
   "name": "python3"
  },
  "language_info": {
   "codemirror_mode": {
    "name": "ipython",
    "version": 3
   },
   "file_extension": ".py",
   "mimetype": "text/x-python",
   "name": "python",
   "nbconvert_exporter": "python",
   "pygments_lexer": "ipython3",
   "version": "3.6.3"
  }
 },
 "nbformat": 4,
 "nbformat_minor": 2
}
