{
 "cells": [
  {
   "cell_type": "code",
   "execution_count": 1,
   "metadata": {
    "ExecuteTime": {
     "end_time": "2018-07-06T02:12:19.318245Z",
     "start_time": "2018-07-06T02:12:18.716211Z"
    }
   },
   "outputs": [],
   "source": [
    "import pandas as pd\n",
    "import numpy as np"
   ]
  },
  {
   "cell_type": "code",
   "execution_count": 2,
   "metadata": {
    "ExecuteTime": {
     "end_time": "2018-07-06T02:12:19.330246Z",
     "start_time": "2018-07-06T02:12:19.319245Z"
    }
   },
   "outputs": [],
   "source": [
    "df_train=pd.read_csv('F:\\\\study\\\\ml\\\\DataSet\\\\Tap4fun\\\\tap_fun_train.csv',nrows=5)"
   ]
  },
  {
   "cell_type": "code",
   "execution_count": 3,
   "metadata": {
    "ExecuteTime": {
     "end_time": "2018-07-06T02:12:19.392249Z",
     "start_time": "2018-07-06T02:12:19.331246Z"
    }
   },
   "outputs": [
    {
     "name": "stdout",
     "output_type": "stream",
     "text": [
      "<class 'pandas.core.frame.DataFrame'>\n",
      "RangeIndex: 5 entries, 0 to 4\n",
      "Columns: 109 entries, user_id to prediction_pay_price\n",
      "dtypes: float64(13), int64(95), object(1)\n",
      "memory usage: 4.7 KB\n"
     ]
    }
   ],
   "source": [
    "df_train.info(memory_usage='deep')"
   ]
  },
  {
   "cell_type": "code",
   "execution_count": 4,
   "metadata": {
    "ExecuteTime": {
     "end_time": "2018-07-06T02:12:19.502256Z",
     "start_time": "2018-07-06T02:12:19.394249Z"
    }
   },
   "outputs": [],
   "source": [
    "c_int=df_train.select_dtypes(include=['int64']).apply(pd.to_numeric,downcast='unsigned')\n",
    "c_float=df_train.select_dtypes(include=['float']).apply(pd.to_numeric,downcast='float')"
   ]
  },
  {
   "cell_type": "code",
   "execution_count": 5,
   "metadata": {
    "ExecuteTime": {
     "end_time": "2018-07-06T02:12:19.549258Z",
     "start_time": "2018-07-06T02:12:19.503256Z"
    }
   },
   "outputs": [],
   "source": [
    "o_df=df_train.copy()"
   ]
  },
  {
   "cell_type": "code",
   "execution_count": 6,
   "metadata": {
    "ExecuteTime": {
     "end_time": "2018-07-06T02:12:19.630263Z",
     "start_time": "2018-07-06T02:12:19.550258Z"
    }
   },
   "outputs": [],
   "source": [
    "o_df[c_int.columns]=c_int\n",
    "o_df[c_float.columns]=c_float"
   ]
  },
  {
   "cell_type": "code",
   "execution_count": 7,
   "metadata": {
    "ExecuteTime": {
     "end_time": "2018-07-06T02:12:19.675266Z",
     "start_time": "2018-07-06T02:12:19.631263Z"
    }
   },
   "outputs": [],
   "source": [
    "dtypes=o_df.dtypes\n",
    "dtypes_col=dtypes.index\n",
    "dtypes_type=[i.name for i in dtypes.values]\n",
    "column_type=dict(zip(dtypes_col,dtypes_type))"
   ]
  },
  {
   "cell_type": "code",
   "execution_count": 8,
   "metadata": {
    "ExecuteTime": {
     "end_time": "2018-07-06T02:12:19.740269Z",
     "start_time": "2018-07-06T02:12:19.677266Z"
    }
   },
   "outputs": [],
   "source": [
    "#column_type"
   ]
  },
  {
   "cell_type": "code",
   "execution_count": 9,
   "metadata": {
    "ExecuteTime": {
     "end_time": "2018-07-06T02:12:19.821274Z",
     "start_time": "2018-07-06T02:12:19.742269Z"
    }
   },
   "outputs": [
    {
     "data": {
      "text/plain": [
       "'object'"
      ]
     },
     "execution_count": 9,
     "metadata": {},
     "output_type": "execute_result"
    }
   ],
   "source": [
    "column_type.pop('register_time')"
   ]
  },
  {
   "cell_type": "code",
   "execution_count": 10,
   "metadata": {
    "ExecuteTime": {
     "end_time": "2018-07-06T02:12:39.890422Z",
     "start_time": "2018-07-06T02:12:19.823274Z"
    }
   },
   "outputs": [],
   "source": [
    "data_train=pd.read_csv('F:\\\\study\\\\ml\\\\DataSet\\\\Tap4fun\\\\tap_fun_train.csv',\n",
    "                      dtype=column_type,parse_dates=['register_time'],infer_datetime_format=True)"
   ]
  },
  {
   "cell_type": "code",
   "execution_count": 11,
   "metadata": {
    "ExecuteTime": {
     "end_time": "2018-07-06T02:12:39.906423Z",
     "start_time": "2018-07-06T02:12:39.893422Z"
    }
   },
   "outputs": [
    {
     "name": "stdout",
     "output_type": "stream",
     "text": [
      "<class 'pandas.core.frame.DataFrame'>\n",
      "RangeIndex: 2288007 entries, 0 to 2288006\n",
      "Columns: 109 entries, user_id to prediction_pay_price\n",
      "dtypes: datetime64[ns](1), float32(13), uint16(1), uint8(94)\n",
      "memory usage: 340.4 MB\n"
     ]
    }
   ],
   "source": [
    "data_train.info(memory_usage='deep')"
   ]
  },
  {
   "cell_type": "code",
   "execution_count": 12,
   "metadata": {
    "ExecuteTime": {
     "end_time": "2018-07-06T02:12:40.114435Z",
     "start_time": "2018-07-06T02:12:39.908423Z"
    }
   },
   "outputs": [],
   "source": [
    "train_feat2=data_train.copy()\n",
    "# test_feat=data_test\n"
   ]
  },
  {
   "cell_type": "code",
   "execution_count": 13,
   "metadata": {
    "ExecuteTime": {
     "end_time": "2018-07-06T02:12:40.120435Z",
     "start_time": "2018-07-06T02:12:40.115435Z"
    }
   },
   "outputs": [
    {
     "data": {
      "text/plain": [
       "(2288007, 109)"
      ]
     },
     "execution_count": 13,
     "metadata": {},
     "output_type": "execute_result"
    }
   ],
   "source": [
    "train_feat2.shape"
   ]
  },
  {
   "cell_type": "code",
   "execution_count": 14,
   "metadata": {
    "ExecuteTime": {
     "end_time": "2018-07-06T02:12:40.234441Z",
     "start_time": "2018-07-06T02:12:40.122435Z"
    }
   },
   "outputs": [],
   "source": [
    "del data_train"
   ]
  },
  {
   "cell_type": "code",
   "execution_count": 15,
   "metadata": {
    "ExecuteTime": {
     "end_time": "2018-07-06T02:12:40.311446Z",
     "start_time": "2018-07-06T02:12:40.236442Z"
    }
   },
   "outputs": [
    {
     "data": {
      "text/plain": [
       "(2288007, 109)"
      ]
     },
     "execution_count": 15,
     "metadata": {},
     "output_type": "execute_result"
    }
   ],
   "source": [
    "train_feat2.shape"
   ]
  },
  {
   "cell_type": "code",
   "execution_count": 16,
   "metadata": {
    "ExecuteTime": {
     "end_time": "2018-07-06T02:12:40.377450Z",
     "start_time": "2018-07-06T02:12:40.313446Z"
    }
   },
   "outputs": [],
   "source": [
    "label_train=train_feat2['prediction_pay_price']"
   ]
  },
  {
   "cell_type": "code",
   "execution_count": 17,
   "metadata": {
    "ExecuteTime": {
     "end_time": "2018-07-06T02:12:40.444453Z",
     "start_time": "2018-07-06T02:12:40.378450Z"
    }
   },
   "outputs": [
    {
     "data": {
      "text/plain": [
       "(2288007, 109)"
      ]
     },
     "execution_count": 17,
     "metadata": {},
     "output_type": "execute_result"
    }
   ],
   "source": [
    "train_feat2.shape"
   ]
  },
  {
   "cell_type": "code",
   "execution_count": 18,
   "metadata": {
    "ExecuteTime": {
     "end_time": "2018-07-06T02:12:40.574461Z",
     "start_time": "2018-07-06T02:12:40.446454Z"
    }
   },
   "outputs": [],
   "source": [
    "train_feat2['ivory_qua1']=train_feat2.ivory_add_value+train_feat2.ivory_reduce_value\n",
    "train_feat2['ivory_qua2']=train_feat2.ivory_add_value-train_feat2.ivory_reduce_value"
   ]
  },
  {
   "cell_type": "code",
   "execution_count": 19,
   "metadata": {
    "ExecuteTime": {
     "end_time": "2018-07-06T02:12:40.641465Z",
     "start_time": "2018-07-06T02:12:40.576461Z"
    }
   },
   "outputs": [],
   "source": [
    "train_feat2['stone_qua1']=train_feat2.stone_add_value+train_feat2.stone_reduce_value\n",
    "train_feat2['stone_qua2']=train_feat2.stone_add_value-train_feat2.stone_reduce_value"
   ]
  },
  {
   "cell_type": "code",
   "execution_count": 20,
   "metadata": {
    "ExecuteTime": {
     "end_time": "2018-07-06T02:12:40.716469Z",
     "start_time": "2018-07-06T02:12:40.643465Z"
    }
   },
   "outputs": [],
   "source": [
    "train_feat2['meat_qua1']=train_feat2.meat_add_value+train_feat2.meat_reduce_value\n",
    "train_feat2['meat_qua2']=train_feat2.meat_add_value-train_feat2.meat_reduce_value"
   ]
  },
  {
   "cell_type": "code",
   "execution_count": 21,
   "metadata": {
    "ExecuteTime": {
     "end_time": "2018-07-06T02:12:40.783473Z",
     "start_time": "2018-07-06T02:12:40.717469Z"
    }
   },
   "outputs": [],
   "source": [
    "train_feat2['wood_qua1']=train_feat2.wood_add_value+train_feat2.wood_reduce_value\n",
    "train_feat2['wood_qua2']=train_feat2.wood_add_value-train_feat2.wood_reduce_value"
   ]
  },
  {
   "cell_type": "code",
   "execution_count": 22,
   "metadata": {
    "ExecuteTime": {
     "end_time": "2018-07-06T02:12:40.843476Z",
     "start_time": "2018-07-06T02:12:40.784473Z"
    }
   },
   "outputs": [],
   "source": [
    "# for test feat\n",
    "# test_feat2['ivory_qua1']=test_feat.ivory_add_value+test_feat.ivory_reduce_value\n",
    "# test_feat2['ivory_qua2']=test_feat.ivory_add_value-test_feat.ivory_reduce_value\n",
    "# test_feat2['stone_qua1']=test_feat.stone_add_value+test_feat.stone_reduce_value\n",
    "# test_feat2['stone_qua2']=test_feat.stone_add_value-test_feat.stone_reduce_value\n",
    "# test_feat2['meat_qua1']=test_feat.meat_add_value+test_feat.meat_reduce_value\n",
    "# test_feat2['meat_qua2']=test_feat.meat_add_value-test_feat.meat_reduce_value\n",
    "# test_feat2['wood_qua1']=test_feat.wood_add_value+test_feat.wood_reduce_value\n",
    "# test_feat2['wood_qua2']=test_feat.wood_add_value-test_feat.wood_reduce_value"
   ]
  },
  {
   "cell_type": "code",
   "execution_count": 23,
   "metadata": {
    "ExecuteTime": {
     "end_time": "2018-07-06T02:12:40.918481Z",
     "start_time": "2018-07-06T02:12:40.844476Z"
    }
   },
   "outputs": [],
   "source": [
    "# train_feat.shape"
   ]
  },
  {
   "cell_type": "code",
   "execution_count": 24,
   "metadata": {
    "ExecuteTime": {
     "end_time": "2018-07-06T02:12:40.985484Z",
     "start_time": "2018-07-06T02:12:40.919481Z"
    }
   },
   "outputs": [],
   "source": [
    "# train_feat2.shape"
   ]
  },
  {
   "cell_type": "code",
   "execution_count": 25,
   "metadata": {
    "ExecuteTime": {
     "end_time": "2018-07-06T02:12:41.060489Z",
     "start_time": "2018-07-06T02:12:40.986484Z"
    }
   },
   "outputs": [],
   "source": [
    "# test_feat2.shape"
   ]
  },
  {
   "cell_type": "code",
   "execution_count": 26,
   "metadata": {
    "ExecuteTime": {
     "end_time": "2018-07-06T02:12:41.127493Z",
     "start_time": "2018-07-06T02:12:41.061489Z"
    }
   },
   "outputs": [],
   "source": [
    "#train_corr2=train_feat2.corr()"
   ]
  },
  {
   "cell_type": "code",
   "execution_count": 27,
   "metadata": {
    "ExecuteTime": {
     "end_time": "2018-07-06T02:12:41.194496Z",
     "start_time": "2018-07-06T02:12:41.128493Z"
    }
   },
   "outputs": [],
   "source": [
    "#train_corr2['prediction_pay_price'].sort_values(ascending=False).head(40)"
   ]
  },
  {
   "cell_type": "code",
   "execution_count": 28,
   "metadata": {
    "ExecuteTime": {
     "end_time": "2018-07-06T02:12:41.284502Z",
     "start_time": "2018-07-06T02:12:41.195496Z"
    }
   },
   "outputs": [],
   "source": [
    "import re"
   ]
  },
  {
   "cell_type": "code",
   "execution_count": 29,
   "metadata": {
    "ExecuteTime": {
     "end_time": "2018-07-06T02:12:41.354506Z",
     "start_time": "2018-07-06T02:12:41.286502Z"
    },
    "scrolled": true
   },
   "outputs": [
    {
     "data": {
      "text/plain": [
       "array(['sr_troop_defense_level', 'sr_infantry_def_level',\n",
       "       'sr_cavalry_def_level', 'sr_shaman_def_level'], dtype=object)"
      ]
     },
     "execution_count": 29,
     "metadata": {},
     "output_type": "execute_result"
    }
   ],
   "source": [
    "train_feat2.columns.values[pd.Series(train_feat2.columns.values).str.contains('def')]"
   ]
  },
  {
   "cell_type": "code",
   "execution_count": 30,
   "metadata": {
    "ExecuteTime": {
     "end_time": "2018-07-06T02:12:41.420509Z",
     "start_time": "2018-07-06T02:12:41.355506Z"
    }
   },
   "outputs": [
    {
     "data": {
      "text/plain": [
       "pandas.core.series.Series"
      ]
     },
     "execution_count": 30,
     "metadata": {},
     "output_type": "execute_result"
    }
   ],
   "source": [
    "type(pd.Series(train_feat2.columns.values).str.contains('def'))"
   ]
  },
  {
   "cell_type": "code",
   "execution_count": 31,
   "metadata": {
    "ExecuteTime": {
     "end_time": "2018-07-06T02:12:41.494514Z",
     "start_time": "2018-07-06T02:12:41.422509Z"
    }
   },
   "outputs": [],
   "source": [
    "#del text"
   ]
  },
  {
   "cell_type": "code",
   "execution_count": 32,
   "metadata": {
    "ExecuteTime": {
     "end_time": "2018-07-06T02:12:41.701525Z",
     "start_time": "2018-07-06T02:12:41.495514Z"
    },
    "scrolled": true
   },
   "outputs": [],
   "source": [
    "text_def=[]\n",
    "for col in train_feat2.columns.values:\n",
    "     if 'def' in col:\n",
    "            text_def.append(col)"
   ]
  },
  {
   "cell_type": "code",
   "execution_count": 33,
   "metadata": {
    "ExecuteTime": {
     "end_time": "2018-07-06T02:12:41.769529Z",
     "start_time": "2018-07-06T02:12:41.702525Z"
    }
   },
   "outputs": [
    {
     "data": {
      "text/plain": [
       "['sr_troop_defense_level',\n",
       " 'sr_infantry_def_level',\n",
       " 'sr_cavalry_def_level',\n",
       " 'sr_shaman_def_level']"
      ]
     },
     "execution_count": 33,
     "metadata": {},
     "output_type": "execute_result"
    }
   ],
   "source": [
    "text_def"
   ]
  },
  {
   "cell_type": "code",
   "execution_count": 34,
   "metadata": {
    "ExecuteTime": {
     "end_time": "2018-07-06T02:12:41.938539Z",
     "start_time": "2018-07-06T02:12:41.771529Z"
    }
   },
   "outputs": [
    {
     "data": {
      "text/html": [
       "<div>\n",
       "<style>\n",
       "    .dataframe thead tr:only-child th {\n",
       "        text-align: right;\n",
       "    }\n",
       "\n",
       "    .dataframe thead th {\n",
       "        text-align: left;\n",
       "    }\n",
       "\n",
       "    .dataframe tbody tr th {\n",
       "        vertical-align: top;\n",
       "    }\n",
       "</style>\n",
       "<table border=\"1\" class=\"dataframe\">\n",
       "  <thead>\n",
       "    <tr style=\"text-align: right;\">\n",
       "      <th></th>\n",
       "      <th>user_id</th>\n",
       "      <th>register_time</th>\n",
       "      <th>wood_add_value</th>\n",
       "      <th>wood_reduce_value</th>\n",
       "      <th>stone_add_value</th>\n",
       "      <th>stone_reduce_value</th>\n",
       "      <th>ivory_add_value</th>\n",
       "      <th>ivory_reduce_value</th>\n",
       "      <th>meat_add_value</th>\n",
       "      <th>meat_reduce_value</th>\n",
       "      <th>...</th>\n",
       "      <th>pay_count</th>\n",
       "      <th>prediction_pay_price</th>\n",
       "      <th>ivory_qua1</th>\n",
       "      <th>ivory_qua2</th>\n",
       "      <th>stone_qua1</th>\n",
       "      <th>stone_qua2</th>\n",
       "      <th>meat_qua1</th>\n",
       "      <th>meat_qua2</th>\n",
       "      <th>wood_qua1</th>\n",
       "      <th>wood_qua2</th>\n",
       "    </tr>\n",
       "  </thead>\n",
       "  <tbody>\n",
       "    <tr>\n",
       "      <th>0</th>\n",
       "      <td>1</td>\n",
       "      <td>2018-02-02 19:47:15</td>\n",
       "      <td>20125.0</td>\n",
       "      <td>3700.0</td>\n",
       "      <td>0.0</td>\n",
       "      <td>0.0</td>\n",
       "      <td>0.0</td>\n",
       "      <td>0.0</td>\n",
       "      <td>16375.0</td>\n",
       "      <td>2000.0</td>\n",
       "      <td>...</td>\n",
       "      <td>0</td>\n",
       "      <td>0.0</td>\n",
       "      <td>0.0</td>\n",
       "      <td>0.0</td>\n",
       "      <td>0.0</td>\n",
       "      <td>0.0</td>\n",
       "      <td>18375.0</td>\n",
       "      <td>14375.0</td>\n",
       "      <td>23825.0</td>\n",
       "      <td>16425.0</td>\n",
       "    </tr>\n",
       "    <tr>\n",
       "      <th>1</th>\n",
       "      <td>1593</td>\n",
       "      <td>2018-01-26 00:01:05</td>\n",
       "      <td>0.0</td>\n",
       "      <td>0.0</td>\n",
       "      <td>0.0</td>\n",
       "      <td>0.0</td>\n",
       "      <td>0.0</td>\n",
       "      <td>0.0</td>\n",
       "      <td>0.0</td>\n",
       "      <td>0.0</td>\n",
       "      <td>...</td>\n",
       "      <td>0</td>\n",
       "      <td>0.0</td>\n",
       "      <td>0.0</td>\n",
       "      <td>0.0</td>\n",
       "      <td>0.0</td>\n",
       "      <td>0.0</td>\n",
       "      <td>0.0</td>\n",
       "      <td>0.0</td>\n",
       "      <td>0.0</td>\n",
       "      <td>0.0</td>\n",
       "    </tr>\n",
       "    <tr>\n",
       "      <th>2</th>\n",
       "      <td>1594</td>\n",
       "      <td>2018-01-26 00:01:58</td>\n",
       "      <td>0.0</td>\n",
       "      <td>0.0</td>\n",
       "      <td>0.0</td>\n",
       "      <td>0.0</td>\n",
       "      <td>0.0</td>\n",
       "      <td>0.0</td>\n",
       "      <td>0.0</td>\n",
       "      <td>0.0</td>\n",
       "      <td>...</td>\n",
       "      <td>0</td>\n",
       "      <td>0.0</td>\n",
       "      <td>0.0</td>\n",
       "      <td>0.0</td>\n",
       "      <td>0.0</td>\n",
       "      <td>0.0</td>\n",
       "      <td>0.0</td>\n",
       "      <td>0.0</td>\n",
       "      <td>0.0</td>\n",
       "      <td>0.0</td>\n",
       "    </tr>\n",
       "    <tr>\n",
       "      <th>3</th>\n",
       "      <td>1595</td>\n",
       "      <td>2018-01-26 00:02:13</td>\n",
       "      <td>0.0</td>\n",
       "      <td>0.0</td>\n",
       "      <td>0.0</td>\n",
       "      <td>0.0</td>\n",
       "      <td>0.0</td>\n",
       "      <td>0.0</td>\n",
       "      <td>0.0</td>\n",
       "      <td>0.0</td>\n",
       "      <td>...</td>\n",
       "      <td>0</td>\n",
       "      <td>0.0</td>\n",
       "      <td>0.0</td>\n",
       "      <td>0.0</td>\n",
       "      <td>0.0</td>\n",
       "      <td>0.0</td>\n",
       "      <td>0.0</td>\n",
       "      <td>0.0</td>\n",
       "      <td>0.0</td>\n",
       "      <td>0.0</td>\n",
       "    </tr>\n",
       "    <tr>\n",
       "      <th>4</th>\n",
       "      <td>1596</td>\n",
       "      <td>2018-01-26 00:02:46</td>\n",
       "      <td>0.0</td>\n",
       "      <td>0.0</td>\n",
       "      <td>0.0</td>\n",
       "      <td>0.0</td>\n",
       "      <td>0.0</td>\n",
       "      <td>0.0</td>\n",
       "      <td>0.0</td>\n",
       "      <td>0.0</td>\n",
       "      <td>...</td>\n",
       "      <td>0</td>\n",
       "      <td>0.0</td>\n",
       "      <td>0.0</td>\n",
       "      <td>0.0</td>\n",
       "      <td>0.0</td>\n",
       "      <td>0.0</td>\n",
       "      <td>0.0</td>\n",
       "      <td>0.0</td>\n",
       "      <td>0.0</td>\n",
       "      <td>0.0</td>\n",
       "    </tr>\n",
       "  </tbody>\n",
       "</table>\n",
       "<p>5 rows × 117 columns</p>\n",
       "</div>"
      ],
      "text/plain": [
       "   user_id       register_time  wood_add_value  wood_reduce_value  \\\n",
       "0        1 2018-02-02 19:47:15         20125.0             3700.0   \n",
       "1     1593 2018-01-26 00:01:05             0.0                0.0   \n",
       "2     1594 2018-01-26 00:01:58             0.0                0.0   \n",
       "3     1595 2018-01-26 00:02:13             0.0                0.0   \n",
       "4     1596 2018-01-26 00:02:46             0.0                0.0   \n",
       "\n",
       "   stone_add_value  stone_reduce_value  ivory_add_value  ivory_reduce_value  \\\n",
       "0              0.0                 0.0              0.0                 0.0   \n",
       "1              0.0                 0.0              0.0                 0.0   \n",
       "2              0.0                 0.0              0.0                 0.0   \n",
       "3              0.0                 0.0              0.0                 0.0   \n",
       "4              0.0                 0.0              0.0                 0.0   \n",
       "\n",
       "   meat_add_value  meat_reduce_value    ...      pay_count  \\\n",
       "0         16375.0             2000.0    ...              0   \n",
       "1             0.0                0.0    ...              0   \n",
       "2             0.0                0.0    ...              0   \n",
       "3             0.0                0.0    ...              0   \n",
       "4             0.0                0.0    ...              0   \n",
       "\n",
       "   prediction_pay_price  ivory_qua1  ivory_qua2  stone_qua1  stone_qua2  \\\n",
       "0                   0.0         0.0         0.0         0.0         0.0   \n",
       "1                   0.0         0.0         0.0         0.0         0.0   \n",
       "2                   0.0         0.0         0.0         0.0         0.0   \n",
       "3                   0.0         0.0         0.0         0.0         0.0   \n",
       "4                   0.0         0.0         0.0         0.0         0.0   \n",
       "\n",
       "   meat_qua1  meat_qua2  wood_qua1  wood_qua2  \n",
       "0    18375.0    14375.0    23825.0    16425.0  \n",
       "1        0.0        0.0        0.0        0.0  \n",
       "2        0.0        0.0        0.0        0.0  \n",
       "3        0.0        0.0        0.0        0.0  \n",
       "4        0.0        0.0        0.0        0.0  \n",
       "\n",
       "[5 rows x 117 columns]"
      ]
     },
     "execution_count": 34,
     "metadata": {},
     "output_type": "execute_result"
    }
   ],
   "source": [
    "#train_coorr1.to_csv('F:\\\\study\\\\ml\\\\DataSet\\\\Tap4fun\\\\train_feat_corr.csv')\n",
    "#del feat_def_qua\n",
    "train_feat2.head()"
   ]
  },
  {
   "cell_type": "code",
   "execution_count": 35,
   "metadata": {
    "ExecuteTime": {
     "end_time": "2018-07-06T02:12:42.027544Z",
     "start_time": "2018-07-06T02:12:41.940539Z"
    }
   },
   "outputs": [],
   "source": [
    "text_def=[]\n",
    "for col in train_feat2.columns.values:\n",
    "     if 'def' in col:\n",
    "            text_def.append(col)"
   ]
  },
  {
   "cell_type": "code",
   "execution_count": 36,
   "metadata": {
    "ExecuteTime": {
     "end_time": "2018-07-06T02:12:42.103548Z",
     "start_time": "2018-07-06T02:12:42.029544Z"
    }
   },
   "outputs": [
    {
     "data": {
      "text/plain": [
       "['sr_troop_defense_level',\n",
       " 'sr_infantry_def_level',\n",
       " 'sr_cavalry_def_level',\n",
       " 'sr_shaman_def_level']"
      ]
     },
     "execution_count": 36,
     "metadata": {},
     "output_type": "execute_result"
    }
   ],
   "source": [
    "text_def"
   ]
  },
  {
   "cell_type": "code",
   "execution_count": 37,
   "metadata": {
    "ExecuteTime": {
     "end_time": "2018-07-06T02:12:42.296559Z",
     "start_time": "2018-07-06T02:12:42.105548Z"
    }
   },
   "outputs": [
    {
     "data": {
      "text/plain": [
       "list"
      ]
     },
     "execution_count": 37,
     "metadata": {},
     "output_type": "execute_result"
    }
   ],
   "source": [
    "type(text_def)"
   ]
  },
  {
   "cell_type": "code",
   "execution_count": 38,
   "metadata": {
    "ExecuteTime": {
     "end_time": "2018-07-06T02:12:42.384564Z",
     "start_time": "2018-07-06T02:12:42.297559Z"
    }
   },
   "outputs": [],
   "source": [
    "text_troop=[]\n",
    "for col in train_feat2.columns.values:\n",
    "    if 'troop' in col :\n",
    "        text_troop.append(col)"
   ]
  },
  {
   "cell_type": "code",
   "execution_count": 39,
   "metadata": {
    "ExecuteTime": {
     "end_time": "2018-07-06T02:12:42.470569Z",
     "start_time": "2018-07-06T02:12:42.385564Z"
    }
   },
   "outputs": [
    {
     "data": {
      "text/plain": [
       "['sr_troop_defense_level',\n",
       " 'sr_troop_attack_level',\n",
       " 'sr_troop_consumption_level',\n",
       " 'sr_troop_load_level',\n",
       " 'sr_guest_troop_capacity_level']"
      ]
     },
     "execution_count": 39,
     "metadata": {},
     "output_type": "execute_result"
    }
   ],
   "source": [
    "text_troop"
   ]
  },
  {
   "cell_type": "code",
   "execution_count": 40,
   "metadata": {
    "ExecuteTime": {
     "end_time": "2018-07-06T02:12:42.561575Z",
     "start_time": "2018-07-06T02:12:42.471569Z"
    }
   },
   "outputs": [],
   "source": [
    "text_cavalry=[]\n",
    "for col in train_feat2.columns.values:\n",
    "    if 'sr_cavalry' in col :\n",
    "        text_cavalry.append(col)"
   ]
  },
  {
   "cell_type": "code",
   "execution_count": 41,
   "metadata": {
    "ExecuteTime": {
     "end_time": "2018-07-06T02:12:42.645579Z",
     "start_time": "2018-07-06T02:12:42.563575Z"
    }
   },
   "outputs": [
    {
     "data": {
      "text/plain": [
       "['sr_cavalry_tier_2_level',\n",
       " 'sr_cavalry_atk_level',\n",
       " 'sr_cavalry_tier_3_level',\n",
       " 'sr_cavalry_def_level',\n",
       " 'sr_cavalry_hp_level',\n",
       " 'sr_cavalry_tier_4_level']"
      ]
     },
     "execution_count": 41,
     "metadata": {},
     "output_type": "execute_result"
    }
   ],
   "source": [
    "text_cavalry"
   ]
  },
  {
   "cell_type": "code",
   "execution_count": 42,
   "metadata": {
    "ExecuteTime": {
     "end_time": "2018-07-06T02:12:42.719584Z",
     "start_time": "2018-07-06T02:12:42.646579Z"
    }
   },
   "outputs": [],
   "source": [
    "text_infantry=[]\n",
    "for col in train_feat2.columns.values:\n",
    "    if 'sr_infantry' in col :\n",
    "        text_infantry.append(col)"
   ]
  },
  {
   "cell_type": "code",
   "execution_count": 43,
   "metadata": {
    "ExecuteTime": {
     "end_time": "2018-07-06T02:12:42.812589Z",
     "start_time": "2018-07-06T02:12:42.720584Z"
    }
   },
   "outputs": [
    {
     "data": {
      "text/plain": [
       "['sr_infantry_tier_2_level',\n",
       " 'sr_infantry_atk_level',\n",
       " 'sr_infantry_tier_3_level',\n",
       " 'sr_infantry_def_level',\n",
       " 'sr_infantry_hp_level',\n",
       " 'sr_infantry_tier_4_level']"
      ]
     },
     "execution_count": 43,
     "metadata": {},
     "output_type": "execute_result"
    }
   ],
   "source": [
    "text_infantry"
   ]
  },
  {
   "cell_type": "code",
   "execution_count": 44,
   "metadata": {
    "ExecuteTime": {
     "end_time": "2018-07-06T02:12:42.894594Z",
     "start_time": "2018-07-06T02:12:42.814589Z"
    }
   },
   "outputs": [],
   "source": [
    "text_shaman=[]\n",
    "for col in train_feat2.columns.values:\n",
    "    if 'sr_shaman' in col :\n",
    "        text_shaman.append(col)"
   ]
  },
  {
   "cell_type": "code",
   "execution_count": 45,
   "metadata": {
    "ExecuteTime": {
     "end_time": "2018-07-06T02:12:42.978598Z",
     "start_time": "2018-07-06T02:12:42.895594Z"
    }
   },
   "outputs": [
    {
     "data": {
      "text/plain": [
       "['sr_shaman_tier_2_level',\n",
       " 'sr_shaman_atk_level',\n",
       " 'sr_shaman_tier_3_level',\n",
       " 'sr_shaman_def_level',\n",
       " 'sr_shaman_hp_level',\n",
       " 'sr_shaman_tier_4_level']"
      ]
     },
     "execution_count": 45,
     "metadata": {},
     "output_type": "execute_result"
    }
   ],
   "source": [
    "text_shaman"
   ]
  },
  {
   "cell_type": "code",
   "execution_count": 46,
   "metadata": {
    "ExecuteTime": {
     "end_time": "2018-07-06T02:12:43.059603Z",
     "start_time": "2018-07-06T02:12:42.979598Z"
    }
   },
   "outputs": [],
   "source": [
    "text_speed=[]\n",
    "for col in train_feat2.columns.values:\n",
    "    if 'speed' in col :\n",
    "        text_speed.append(col)"
   ]
  },
  {
   "cell_type": "code",
   "execution_count": 47,
   "metadata": {
    "ExecuteTime": {
     "end_time": "2018-07-06T02:12:43.137608Z",
     "start_time": "2018-07-06T02:12:43.060603Z"
    }
   },
   "outputs": [
    {
     "data": {
      "text/plain": [
       "['sr_training_speed_level',\n",
       " 'sr_construction_speed_level',\n",
       " 'sr_healing_speed_level',\n",
       " 'sr_alliance_march_speed_level',\n",
       " 'sr_pvp_march_speed_level',\n",
       " 'sr_gathering_march_speed_level']"
      ]
     },
     "execution_count": 47,
     "metadata": {},
     "output_type": "execute_result"
    }
   ],
   "source": [
    "text_speed"
   ]
  },
  {
   "cell_type": "code",
   "execution_count": 48,
   "metadata": {
    "ExecuteTime": {
     "end_time": "2018-07-06T02:12:43.312618Z",
     "start_time": "2018-07-06T02:12:43.139608Z"
    }
   },
   "outputs": [],
   "source": [
    "train_feat2['def_qua1']=0.0\n",
    "for name in text_def:\n",
    "    train_feat2['def_qua1']+=train_feat2[name]"
   ]
  },
  {
   "cell_type": "code",
   "execution_count": 49,
   "metadata": {
    "ExecuteTime": {
     "end_time": "2018-07-06T02:12:43.350620Z",
     "start_time": "2018-07-06T02:12:43.313618Z"
    }
   },
   "outputs": [],
   "source": [
    "#pd.Series(train_feat2.columns.values) .str.contains('def')"
   ]
  },
  {
   "cell_type": "code",
   "execution_count": 50,
   "metadata": {
    "ExecuteTime": {
     "end_time": "2018-07-06T02:12:43.459626Z",
     "start_time": "2018-07-06T02:12:43.352620Z"
    }
   },
   "outputs": [],
   "source": [
    "#train_feat2[train_feat2.sr_troop_attack_level != 0][train_feat2.columns.values[pd.Series(train_feat2.columns.values) .str.contains('def')]]"
   ]
  },
  {
   "cell_type": "code",
   "execution_count": 51,
   "metadata": {
    "ExecuteTime": {
     "end_time": "2018-07-06T02:12:43.649637Z",
     "start_time": "2018-07-06T02:12:43.461626Z"
    }
   },
   "outputs": [],
   "source": [
    "train_feat2['def_qua1']=0.0\n",
    "for name in text_def:\n",
    "    train_feat2['def_qua1']+=train_feat2[name]"
   ]
  },
  {
   "cell_type": "code",
   "execution_count": 52,
   "metadata": {
    "ExecuteTime": {
     "end_time": "2018-07-06T02:12:43.653637Z",
     "start_time": "2018-07-06T02:12:43.650637Z"
    }
   },
   "outputs": [],
   "source": [
    "# test_feat2['def_qua1']=0.0\n",
    "# for name in text_def:\n",
    "#     test_feat2['def_qua1']+=test_feat2[name]"
   ]
  },
  {
   "cell_type": "code",
   "execution_count": 53,
   "metadata": {
    "ExecuteTime": {
     "end_time": "2018-07-06T02:12:43.880650Z",
     "start_time": "2018-07-06T02:12:43.656637Z"
    }
   },
   "outputs": [],
   "source": [
    "train_feat2['cavalry_qua1']=0.0\n",
    "for name in text_cavalry:\n",
    "    train_feat2['cavalry_qua1']+=train_feat2[name]"
   ]
  },
  {
   "cell_type": "code",
   "execution_count": 54,
   "metadata": {
    "ExecuteTime": {
     "end_time": "2018-07-06T02:12:43.885650Z",
     "start_time": "2018-07-06T02:12:43.881650Z"
    }
   },
   "outputs": [],
   "source": [
    "# test_feat2['cavalry_qua1']=0.0\n",
    "# for name in text_cavalry:\n",
    "#     test_feat2['cavalry_qua1']+=test_feat2[name]"
   ]
  },
  {
   "cell_type": "code",
   "execution_count": 55,
   "metadata": {
    "ExecuteTime": {
     "end_time": "2018-07-06T02:12:44.129664Z",
     "start_time": "2018-07-06T02:12:43.886650Z"
    }
   },
   "outputs": [],
   "source": [
    "train_feat2['infantry_qua1']=0.0\n",
    "for name in text_infantry:\n",
    "    train_feat2['infantry_qua1']+=train_feat2[name]"
   ]
  },
  {
   "cell_type": "code",
   "execution_count": 56,
   "metadata": {
    "ExecuteTime": {
     "end_time": "2018-07-06T02:12:44.133664Z",
     "start_time": "2018-07-06T02:12:44.130664Z"
    }
   },
   "outputs": [],
   "source": [
    "# test_feat2['infantry_qua1']=0.0\n",
    "# for name in text_infantry:\n",
    "#     test_feat2['infantry_qua1']+=test_feat2[name]"
   ]
  },
  {
   "cell_type": "code",
   "execution_count": 57,
   "metadata": {
    "ExecuteTime": {
     "end_time": "2018-07-06T02:12:44.496685Z",
     "start_time": "2018-07-06T02:12:44.134665Z"
    }
   },
   "outputs": [],
   "source": [
    "train_feat2['shaman_qua1']=0.0\n",
    "for name in text_shaman:\n",
    "    train_feat2['shaman_qua1']+=train_feat2[name]"
   ]
  },
  {
   "cell_type": "code",
   "execution_count": 58,
   "metadata": {
    "ExecuteTime": {
     "end_time": "2018-07-06T02:12:44.519687Z",
     "start_time": "2018-07-06T02:12:44.497685Z"
    }
   },
   "outputs": [],
   "source": [
    "# test_feat2['shaman_qua1']=0.0\n",
    "# for name in text_shaman:\n",
    "#     test_feat2['shaman_qua1']+=test_feat2[name]"
   ]
  },
  {
   "cell_type": "code",
   "execution_count": 59,
   "metadata": {
    "ExecuteTime": {
     "end_time": "2018-07-06T02:12:44.753700Z",
     "start_time": "2018-07-06T02:12:44.520687Z"
    }
   },
   "outputs": [],
   "source": [
    "train_feat2['speed_qua1']=0.0\n",
    "for name in text_speed:\n",
    "    train_feat2['speed_qua1']+=train_feat2[name]"
   ]
  },
  {
   "cell_type": "code",
   "execution_count": 60,
   "metadata": {
    "ExecuteTime": {
     "end_time": "2018-07-06T02:12:44.757700Z",
     "start_time": "2018-07-06T02:12:44.754700Z"
    }
   },
   "outputs": [],
   "source": [
    "# test_feat2['speed_qua1']=0.0\n",
    "# for name in text_speed:\n",
    "#     test_feat2['speed_qua1']+=test_feat2[name]"
   ]
  },
  {
   "cell_type": "code",
   "execution_count": 61,
   "metadata": {
    "ExecuteTime": {
     "end_time": "2018-07-06T02:12:45.054717Z",
     "start_time": "2018-07-06T02:12:44.759700Z"
    }
   },
   "outputs": [],
   "source": [
    "train_feat2['troop_qua1']=0.0\n",
    "for name in text_troop:\n",
    "    train_feat2['troop_qua1']+=train_feat2[name]"
   ]
  },
  {
   "cell_type": "code",
   "execution_count": 62,
   "metadata": {
    "ExecuteTime": {
     "end_time": "2018-07-06T02:12:45.160723Z",
     "start_time": "2018-07-06T02:12:45.055717Z"
    }
   },
   "outputs": [],
   "source": [
    "# test_feat2['troop_qua1']=0.0\n",
    "# for name in text_troop:\n",
    "#     test_feat2['troop_qua1']+=test_feat2[name]"
   ]
  },
  {
   "cell_type": "code",
   "execution_count": 63,
   "metadata": {
    "ExecuteTime": {
     "end_time": "2018-07-06T02:12:45.238728Z",
     "start_time": "2018-07-06T02:12:45.161723Z"
    }
   },
   "outputs": [
    {
     "data": {
      "text/plain": [
       "array(['pvp_battle_count', 'pvp_lanch_count', 'pvp_win_count',\n",
       "       'pve_battle_count', 'pve_lanch_count', 'pve_win_count'],\n",
       "      dtype=object)"
      ]
     },
     "execution_count": 63,
     "metadata": {},
     "output_type": "execute_result"
    }
   ],
   "source": [
    "train_feat2.columns.values[pd.Series(train_feat2.columns.values).str.contains('^pv')]"
   ]
  },
  {
   "cell_type": "code",
   "execution_count": 64,
   "metadata": {
    "ExecuteTime": {
     "end_time": "2018-07-06T02:12:45.329733Z",
     "start_time": "2018-07-06T02:12:45.239728Z"
    }
   },
   "outputs": [
    {
     "data": {
      "text/plain": [
       "array(['bd_hero_pve_level', 'sr_pvp_march_speed_level',\n",
       "       'pvp_battle_count', 'pvp_lanch_count', 'pvp_win_count',\n",
       "       'pve_battle_count', 'pve_lanch_count', 'pve_win_count'],\n",
       "      dtype=object)"
      ]
     },
     "execution_count": 64,
     "metadata": {},
     "output_type": "execute_result"
    }
   ],
   "source": [
    "train_feat2.columns.values[pd.Series(train_feat2.columns.values).str.contains('pv')]"
   ]
  },
  {
   "cell_type": "code",
   "execution_count": 65,
   "metadata": {
    "ExecuteTime": {
     "end_time": "2018-07-06T02:12:45.411738Z",
     "start_time": "2018-07-06T02:12:45.330733Z"
    }
   },
   "outputs": [],
   "source": [
    "# train_feat2['pvp_lanch_rate_qua1']=train_feat2.pvp_lanch_count/train_feat2.pvp_battle_count\n",
    "# train_feat2['pvp_win_rate_qua1']=train_feat2.pvp_win_count / train_feat2.pvp_battle_count\n",
    "# train_feat2['pvp_win_lanch_rate_qua1']=train_feat2.pvp_win_count / \\\n",
    "# train_feat2.pvp_lanch_count\n",
    "# train_feat2['pve_lanch_rate_qua1']=train_feat2.pve_lanch_count/train_feat2.pve_battle_count\n",
    "# train_feat2['pve_win_rate_qua1']=train_feat2.pve_win_count / train_feat2.pve_battle_count\n",
    "# train_feat2['pve_win_lanch_rate_qua1']=train_feat2.pve_win_count / \\\n",
    "# train_feat2.pve_lanch_count"
   ]
  },
  {
   "cell_type": "code",
   "execution_count": 66,
   "metadata": {
    "ExecuteTime": {
     "end_time": "2018-07-06T02:12:45.511743Z",
     "start_time": "2018-07-06T02:12:45.412738Z"
    }
   },
   "outputs": [],
   "source": [
    "# text_mi=train_feat2.columns[pd.Series(train_feat2.columns.values).str.contains('qua')].tolist()\n",
    "# for name in text_mi :\n",
    "#     name2='x_avg_mi_'+name\n",
    "#     #print(name2)\n",
    "#     train_feat2[name2]=train_feat2[name] / train_feat2.avg_online_minutes\n",
    "\n",
    "# text_top=['ivory','stone','wood','meat']\n",
    "# text_top_add=[]\n",
    "# for name in text_top:\n",
    "#     name2=name+'_add'\n",
    "#     text_top_add.extend(train_feat2.columns[pd.Series(train_feat2.columns.values).str.contains(name2)].tolist())\n",
    "\n",
    "# text_top_add2=[]\n",
    "# for name in text_top_add :\n",
    "#     name2='x_avg_mi_'+name\n",
    "#     train_feat2[name2]=train_feat2[name] / train_feat2.avg_online_minutes\n",
    "#     text_top_add2.append(name2)\n"
   ]
  },
  {
   "cell_type": "code",
   "execution_count": 67,
   "metadata": {
    "ExecuteTime": {
     "end_time": "2018-07-06T02:12:45.586748Z",
     "start_time": "2018-07-06T02:12:45.512743Z"
    }
   },
   "outputs": [],
   "source": [
    "# #\n",
    "# train_feat2['pvp_lanch_rate_qua1']=train_feat2.pvp_lanch_count / train_feat2.pvp_battle_count\n",
    "# train_feat2['pvp_win_rate_qua1']=train_feat2.pvp_win_count / trainhttp://localhost:8888/notebooks/Tap4fun/TFTest22.ipynb#_feat2.pvp_battle_count\n",
    "# train_feat2['pve_lanch_rate_qua1']=train_feat2.pve_lanch_count / train_feat2.pve_battle_count\n",
    "# train_feat2['pve_win_rate_qua1']=train_feat2.pve_win_count / train_feat2.pve_battle_count\n",
    "# train_feat2['pvep_battle_qua1']=train_feat2.pvp_battle_count + train_feat2.pve_battle_count\n",
    "# train_feat2['pvep_win_qua1']=train_feat2.pvp_win_count + train_feat2.pve_win_count\n",
    "# train_feat2['pvep_lanch_qua1']=train_feat2.pvp_lanch_count + train_feat2.pve_lanch_count"
   ]
  },
  {
   "cell_type": "code",
   "execution_count": 68,
   "metadata": {
    "ExecuteTime": {
     "end_time": "2018-07-06T02:12:45.677753Z",
     "start_time": "2018-07-06T02:12:45.587748Z"
    }
   },
   "outputs": [],
   "source": [
    "# train_feat2['pvep_pve_battle_rate_qua1']=train_feat2.pve_battle_count / train_feat2.pvep_battle_qua1\n",
    "# train_feat2['pvep_pvp_battle_rate_qua1']=train_feat2.pvp_battle_count / train_feat2.pvep_battle_qua1\n",
    "\n",
    "# train_feat2['pvep_pve_lanch_rate_qua1']=train_feat2.pve_lanch_count / train_feat2.pvep_lanch_qua1\n",
    "# train_feat2['pvep_pvp_lanch_rate_qua1']=train_feat2.pvp_lanch_count / train_feat2.pvep_lanch_qua1\n",
    "\n",
    "# train_feat2['pvep_pve_win_rate_qua1']=train_feat2.pve_win_count / train_feat2.pvep_win_qua1\n",
    "# train_feat2['pvep_pvp_win_rate_qua1']=train_feat2.pvp_win_count / train_feat2.pvep_win_qua1\n",
    "\n"
   ]
  },
  {
   "cell_type": "code",
   "execution_count": 69,
   "metadata": {
    "ExecuteTime": {
     "end_time": "2018-07-06T02:12:45.778759Z",
     "start_time": "2018-07-06T02:12:45.678753Z"
    }
   },
   "outputs": [],
   "source": [
    "train_feat2['price_per_count_qua1']=train_feat2.pay_price / train_feat2.pay_count"
   ]
  },
  {
   "cell_type": "code",
   "execution_count": 70,
   "metadata": {
    "ExecuteTime": {
     "end_time": "2018-07-06T02:12:45.881764Z",
     "start_time": "2018-07-06T02:12:45.779759Z"
    }
   },
   "outputs": [],
   "source": [
    "###############################################\n",
    "\n",
    "\n",
    "\n",
    "#train_feat2.fillna(0,inplace=True)\n",
    "\n",
    "\n",
    "\n",
    "###############################################"
   ]
  },
  {
   "cell_type": "code",
   "execution_count": 71,
   "metadata": {
    "ExecuteTime": {
     "end_time": "2018-07-06T02:12:45.962769Z",
     "start_time": "2018-07-06T02:12:45.883765Z"
    }
   },
   "outputs": [
    {
     "data": {
      "text/plain": [
       "(2288007, 124)"
      ]
     },
     "execution_count": 71,
     "metadata": {},
     "output_type": "execute_result"
    }
   ],
   "source": [
    "train_feat2.shape"
   ]
  },
  {
   "cell_type": "code",
   "execution_count": 72,
   "metadata": {
    "ExecuteTime": {
     "end_time": "2018-07-06T02:12:46.036773Z",
     "start_time": "2018-07-06T02:12:45.963769Z"
    }
   },
   "outputs": [],
   "source": [
    "###################################################################"
   ]
  },
  {
   "cell_type": "code",
   "execution_count": 73,
   "metadata": {
    "ExecuteTime": {
     "end_time": "2018-07-06T02:12:46.172781Z",
     "start_time": "2018-07-06T02:12:46.038773Z"
    }
   },
   "outputs": [],
   "source": [
    "################################################ add new feat\n",
    "\n",
    "train_feat2['price_per_ivory_qua1']=train_feat2.pay_price / train_feat2.ivory_qua1\n",
    "train_feat2['price_per_stone_qua1']=train_feat2.pay_price / train_feat2.stone_qua1\n",
    "train_feat2['price_per_wood_qua1']=train_feat2.pay_price / train_feat2.wood_qua1\n",
    "train_feat2['price_per_meat_qua1']=train_feat2.pay_price / train_feat2.meat_qua1\n",
    "\n",
    "train_feat2['price_per_ivory_qua2']=train_feat2.pay_price / train_feat2.ivory_qua2\n",
    "train_feat2['price_per_stone_qua2']=train_feat2.pay_price / train_feat2.stone_qua2\n",
    "train_feat2['price_per_wood_qua2']=train_feat2.pay_price / train_feat2.wood_qua2\n",
    "train_feat2['price_per_meat_qua2']=train_feat2.pay_price / train_feat2.meat_qua2\n",
    "\n",
    "################################################ add new feat"
   ]
  },
  {
   "cell_type": "code",
   "execution_count": 74,
   "metadata": {
    "ExecuteTime": {
     "end_time": "2018-07-06T02:12:46.202783Z",
     "start_time": "2018-07-06T02:12:46.173781Z"
    }
   },
   "outputs": [],
   "source": [
    "#########################################################################"
   ]
  },
  {
   "cell_type": "code",
   "execution_count": 75,
   "metadata": {
    "ExecuteTime": {
     "end_time": "2018-07-06T02:12:46.837819Z",
     "start_time": "2018-07-06T02:12:46.203783Z"
    }
   },
   "outputs": [],
   "source": [
    "train_feat2_int=train_feat2.select_dtypes(include=['uint16','uint8'])\n"
   ]
  },
  {
   "cell_type": "code",
   "execution_count": 76,
   "metadata": {
    "ExecuteTime": {
     "end_time": "2018-07-06T02:12:46.851820Z",
     "start_time": "2018-07-06T02:12:46.840819Z"
    }
   },
   "outputs": [
    {
     "name": "stdout",
     "output_type": "stream",
     "text": [
      "<class 'pandas.core.frame.DataFrame'>\n",
      "RangeIndex: 2288007 entries, 0 to 2288006\n",
      "Columns: 132 entries, user_id to price_per_meat_qua2\n",
      "dtypes: datetime64[ns](1), float32(30), float64(6), uint16(1), uint8(94)\n",
      "memory usage: 593.5 MB\n"
     ]
    }
   ],
   "source": [
    "train_feat2.info()"
   ]
  },
  {
   "cell_type": "code",
   "execution_count": 77,
   "metadata": {
    "ExecuteTime": {
     "end_time": "2018-07-06T02:12:46.933825Z",
     "start_time": "2018-07-06T02:12:46.853820Z"
    }
   },
   "outputs": [
    {
     "data": {
      "text/html": [
       "<div>\n",
       "<style>\n",
       "    .dataframe thead tr:only-child th {\n",
       "        text-align: right;\n",
       "    }\n",
       "\n",
       "    .dataframe thead th {\n",
       "        text-align: left;\n",
       "    }\n",
       "\n",
       "    .dataframe tbody tr th {\n",
       "        vertical-align: top;\n",
       "    }\n",
       "</style>\n",
       "<table border=\"1\" class=\"dataframe\">\n",
       "  <thead>\n",
       "    <tr style=\"text-align: right;\">\n",
       "      <th></th>\n",
       "      <th>user_id</th>\n",
       "      <th>infantry_add_value</th>\n",
       "      <th>infantry_reduce_value</th>\n",
       "      <th>cavalry_add_value</th>\n",
       "      <th>cavalry_reduce_value</th>\n",
       "      <th>shaman_add_value</th>\n",
       "      <th>shaman_reduce_value</th>\n",
       "      <th>wound_infantry_add_value</th>\n",
       "      <th>wound_infantry_reduce_value</th>\n",
       "      <th>wound_cavalry_add_value</th>\n",
       "      <th>...</th>\n",
       "      <th>sr_guest_troop_capacity_level</th>\n",
       "      <th>sr_march_size_level</th>\n",
       "      <th>sr_rss_help_bonus_level</th>\n",
       "      <th>pvp_battle_count</th>\n",
       "      <th>pvp_lanch_count</th>\n",
       "      <th>pvp_win_count</th>\n",
       "      <th>pve_battle_count</th>\n",
       "      <th>pve_lanch_count</th>\n",
       "      <th>pve_win_count</th>\n",
       "      <th>pay_count</th>\n",
       "    </tr>\n",
       "  </thead>\n",
       "  <tbody>\n",
       "    <tr>\n",
       "      <th>0</th>\n",
       "      <td>1</td>\n",
       "      <td>0</td>\n",
       "      <td>0</td>\n",
       "      <td>0</td>\n",
       "      <td>0</td>\n",
       "      <td>0</td>\n",
       "      <td>0</td>\n",
       "      <td>0</td>\n",
       "      <td>0</td>\n",
       "      <td>0</td>\n",
       "      <td>...</td>\n",
       "      <td>0</td>\n",
       "      <td>0</td>\n",
       "      <td>0</td>\n",
       "      <td>0</td>\n",
       "      <td>0</td>\n",
       "      <td>0</td>\n",
       "      <td>0</td>\n",
       "      <td>0</td>\n",
       "      <td>0</td>\n",
       "      <td>0</td>\n",
       "    </tr>\n",
       "    <tr>\n",
       "      <th>1</th>\n",
       "      <td>1593</td>\n",
       "      <td>0</td>\n",
       "      <td>0</td>\n",
       "      <td>0</td>\n",
       "      <td>0</td>\n",
       "      <td>0</td>\n",
       "      <td>0</td>\n",
       "      <td>0</td>\n",
       "      <td>0</td>\n",
       "      <td>0</td>\n",
       "      <td>...</td>\n",
       "      <td>0</td>\n",
       "      <td>0</td>\n",
       "      <td>0</td>\n",
       "      <td>0</td>\n",
       "      <td>0</td>\n",
       "      <td>0</td>\n",
       "      <td>0</td>\n",
       "      <td>0</td>\n",
       "      <td>0</td>\n",
       "      <td>0</td>\n",
       "    </tr>\n",
       "    <tr>\n",
       "      <th>2</th>\n",
       "      <td>1594</td>\n",
       "      <td>0</td>\n",
       "      <td>0</td>\n",
       "      <td>0</td>\n",
       "      <td>0</td>\n",
       "      <td>0</td>\n",
       "      <td>0</td>\n",
       "      <td>0</td>\n",
       "      <td>0</td>\n",
       "      <td>0</td>\n",
       "      <td>...</td>\n",
       "      <td>0</td>\n",
       "      <td>0</td>\n",
       "      <td>0</td>\n",
       "      <td>0</td>\n",
       "      <td>0</td>\n",
       "      <td>0</td>\n",
       "      <td>0</td>\n",
       "      <td>0</td>\n",
       "      <td>0</td>\n",
       "      <td>0</td>\n",
       "    </tr>\n",
       "    <tr>\n",
       "      <th>3</th>\n",
       "      <td>1595</td>\n",
       "      <td>0</td>\n",
       "      <td>0</td>\n",
       "      <td>0</td>\n",
       "      <td>0</td>\n",
       "      <td>0</td>\n",
       "      <td>0</td>\n",
       "      <td>0</td>\n",
       "      <td>0</td>\n",
       "      <td>0</td>\n",
       "      <td>...</td>\n",
       "      <td>0</td>\n",
       "      <td>0</td>\n",
       "      <td>0</td>\n",
       "      <td>0</td>\n",
       "      <td>0</td>\n",
       "      <td>0</td>\n",
       "      <td>0</td>\n",
       "      <td>0</td>\n",
       "      <td>0</td>\n",
       "      <td>0</td>\n",
       "    </tr>\n",
       "    <tr>\n",
       "      <th>4</th>\n",
       "      <td>1596</td>\n",
       "      <td>0</td>\n",
       "      <td>0</td>\n",
       "      <td>0</td>\n",
       "      <td>0</td>\n",
       "      <td>0</td>\n",
       "      <td>0</td>\n",
       "      <td>0</td>\n",
       "      <td>0</td>\n",
       "      <td>0</td>\n",
       "      <td>...</td>\n",
       "      <td>0</td>\n",
       "      <td>0</td>\n",
       "      <td>0</td>\n",
       "      <td>0</td>\n",
       "      <td>0</td>\n",
       "      <td>0</td>\n",
       "      <td>0</td>\n",
       "      <td>0</td>\n",
       "      <td>0</td>\n",
       "      <td>0</td>\n",
       "    </tr>\n",
       "  </tbody>\n",
       "</table>\n",
       "<p>5 rows × 95 columns</p>\n",
       "</div>"
      ],
      "text/plain": [
       "   user_id  infantry_add_value  infantry_reduce_value  cavalry_add_value  \\\n",
       "0        1                   0                      0                  0   \n",
       "1     1593                   0                      0                  0   \n",
       "2     1594                   0                      0                  0   \n",
       "3     1595                   0                      0                  0   \n",
       "4     1596                   0                      0                  0   \n",
       "\n",
       "   cavalry_reduce_value  shaman_add_value  shaman_reduce_value  \\\n",
       "0                     0                 0                    0   \n",
       "1                     0                 0                    0   \n",
       "2                     0                 0                    0   \n",
       "3                     0                 0                    0   \n",
       "4                     0                 0                    0   \n",
       "\n",
       "   wound_infantry_add_value  wound_infantry_reduce_value  \\\n",
       "0                         0                            0   \n",
       "1                         0                            0   \n",
       "2                         0                            0   \n",
       "3                         0                            0   \n",
       "4                         0                            0   \n",
       "\n",
       "   wound_cavalry_add_value    ...      sr_guest_troop_capacity_level  \\\n",
       "0                        0    ...                                  0   \n",
       "1                        0    ...                                  0   \n",
       "2                        0    ...                                  0   \n",
       "3                        0    ...                                  0   \n",
       "4                        0    ...                                  0   \n",
       "\n",
       "   sr_march_size_level  sr_rss_help_bonus_level  pvp_battle_count  \\\n",
       "0                    0                        0                 0   \n",
       "1                    0                        0                 0   \n",
       "2                    0                        0                 0   \n",
       "3                    0                        0                 0   \n",
       "4                    0                        0                 0   \n",
       "\n",
       "   pvp_lanch_count  pvp_win_count  pve_battle_count  pve_lanch_count  \\\n",
       "0                0              0                 0                0   \n",
       "1                0              0                 0                0   \n",
       "2                0              0                 0                0   \n",
       "3                0              0                 0                0   \n",
       "4                0              0                 0                0   \n",
       "\n",
       "   pve_win_count  pay_count  \n",
       "0              0          0  \n",
       "1              0          0  \n",
       "2              0          0  \n",
       "3              0          0  \n",
       "4              0          0  \n",
       "\n",
       "[5 rows x 95 columns]"
      ]
     },
     "execution_count": 77,
     "metadata": {},
     "output_type": "execute_result"
    }
   ],
   "source": [
    "train_feat2_int.head()"
   ]
  },
  {
   "cell_type": "code",
   "execution_count": 78,
   "metadata": {
    "ExecuteTime": {
     "end_time": "2018-07-06T02:12:47.535859Z",
     "start_time": "2018-07-06T02:12:46.934825Z"
    }
   },
   "outputs": [],
   "source": [
    "train_feat2_float=train_feat2.select_dtypes(include=['float64','float32']).apply(pd.to_numeric,downcast='float')\n",
    "#train_feat2.select_dtypes(include=['float64','float32']).apply(pd.to_numeric,downcast='float')\n",
    "#..apply(pd.to_numeric,downcast='float')"
   ]
  },
  {
   "cell_type": "code",
   "execution_count": 79,
   "metadata": {
    "ExecuteTime": {
     "end_time": "2018-07-06T02:12:47.564861Z",
     "start_time": "2018-07-06T02:12:47.537859Z"
    }
   },
   "outputs": [
    {
     "data": {
      "text/html": [
       "<div>\n",
       "<style>\n",
       "    .dataframe thead tr:only-child th {\n",
       "        text-align: right;\n",
       "    }\n",
       "\n",
       "    .dataframe thead th {\n",
       "        text-align: left;\n",
       "    }\n",
       "\n",
       "    .dataframe tbody tr th {\n",
       "        vertical-align: top;\n",
       "    }\n",
       "</style>\n",
       "<table border=\"1\" class=\"dataframe\">\n",
       "  <thead>\n",
       "    <tr style=\"text-align: right;\">\n",
       "      <th></th>\n",
       "      <th>wood_add_value</th>\n",
       "      <th>wood_reduce_value</th>\n",
       "      <th>stone_add_value</th>\n",
       "      <th>stone_reduce_value</th>\n",
       "      <th>ivory_add_value</th>\n",
       "      <th>ivory_reduce_value</th>\n",
       "      <th>meat_add_value</th>\n",
       "      <th>meat_reduce_value</th>\n",
       "      <th>magic_add_value</th>\n",
       "      <th>magic_reduce_value</th>\n",
       "      <th>...</th>\n",
       "      <th>troop_qua1</th>\n",
       "      <th>price_per_count_qua1</th>\n",
       "      <th>price_per_ivory_qua1</th>\n",
       "      <th>price_per_stone_qua1</th>\n",
       "      <th>price_per_wood_qua1</th>\n",
       "      <th>price_per_meat_qua1</th>\n",
       "      <th>price_per_ivory_qua2</th>\n",
       "      <th>price_per_stone_qua2</th>\n",
       "      <th>price_per_wood_qua2</th>\n",
       "      <th>price_per_meat_qua2</th>\n",
       "    </tr>\n",
       "  </thead>\n",
       "  <tbody>\n",
       "    <tr>\n",
       "      <th>0</th>\n",
       "      <td>20125.0</td>\n",
       "      <td>3700.0</td>\n",
       "      <td>0.0</td>\n",
       "      <td>0.0</td>\n",
       "      <td>0.0</td>\n",
       "      <td>0.0</td>\n",
       "      <td>16375.0</td>\n",
       "      <td>2000.0</td>\n",
       "      <td>0.0</td>\n",
       "      <td>0.0</td>\n",
       "      <td>...</td>\n",
       "      <td>0.0</td>\n",
       "      <td>NaN</td>\n",
       "      <td>NaN</td>\n",
       "      <td>NaN</td>\n",
       "      <td>0.0</td>\n",
       "      <td>0.0</td>\n",
       "      <td>NaN</td>\n",
       "      <td>NaN</td>\n",
       "      <td>0.0</td>\n",
       "      <td>0.0</td>\n",
       "    </tr>\n",
       "    <tr>\n",
       "      <th>1</th>\n",
       "      <td>0.0</td>\n",
       "      <td>0.0</td>\n",
       "      <td>0.0</td>\n",
       "      <td>0.0</td>\n",
       "      <td>0.0</td>\n",
       "      <td>0.0</td>\n",
       "      <td>0.0</td>\n",
       "      <td>0.0</td>\n",
       "      <td>0.0</td>\n",
       "      <td>0.0</td>\n",
       "      <td>...</td>\n",
       "      <td>0.0</td>\n",
       "      <td>NaN</td>\n",
       "      <td>NaN</td>\n",
       "      <td>NaN</td>\n",
       "      <td>NaN</td>\n",
       "      <td>NaN</td>\n",
       "      <td>NaN</td>\n",
       "      <td>NaN</td>\n",
       "      <td>NaN</td>\n",
       "      <td>NaN</td>\n",
       "    </tr>\n",
       "    <tr>\n",
       "      <th>2</th>\n",
       "      <td>0.0</td>\n",
       "      <td>0.0</td>\n",
       "      <td>0.0</td>\n",
       "      <td>0.0</td>\n",
       "      <td>0.0</td>\n",
       "      <td>0.0</td>\n",
       "      <td>0.0</td>\n",
       "      <td>0.0</td>\n",
       "      <td>0.0</td>\n",
       "      <td>0.0</td>\n",
       "      <td>...</td>\n",
       "      <td>0.0</td>\n",
       "      <td>NaN</td>\n",
       "      <td>NaN</td>\n",
       "      <td>NaN</td>\n",
       "      <td>NaN</td>\n",
       "      <td>NaN</td>\n",
       "      <td>NaN</td>\n",
       "      <td>NaN</td>\n",
       "      <td>NaN</td>\n",
       "      <td>NaN</td>\n",
       "    </tr>\n",
       "    <tr>\n",
       "      <th>3</th>\n",
       "      <td>0.0</td>\n",
       "      <td>0.0</td>\n",
       "      <td>0.0</td>\n",
       "      <td>0.0</td>\n",
       "      <td>0.0</td>\n",
       "      <td>0.0</td>\n",
       "      <td>0.0</td>\n",
       "      <td>0.0</td>\n",
       "      <td>0.0</td>\n",
       "      <td>0.0</td>\n",
       "      <td>...</td>\n",
       "      <td>0.0</td>\n",
       "      <td>NaN</td>\n",
       "      <td>NaN</td>\n",
       "      <td>NaN</td>\n",
       "      <td>NaN</td>\n",
       "      <td>NaN</td>\n",
       "      <td>NaN</td>\n",
       "      <td>NaN</td>\n",
       "      <td>NaN</td>\n",
       "      <td>NaN</td>\n",
       "    </tr>\n",
       "    <tr>\n",
       "      <th>4</th>\n",
       "      <td>0.0</td>\n",
       "      <td>0.0</td>\n",
       "      <td>0.0</td>\n",
       "      <td>0.0</td>\n",
       "      <td>0.0</td>\n",
       "      <td>0.0</td>\n",
       "      <td>0.0</td>\n",
       "      <td>0.0</td>\n",
       "      <td>0.0</td>\n",
       "      <td>0.0</td>\n",
       "      <td>...</td>\n",
       "      <td>0.0</td>\n",
       "      <td>NaN</td>\n",
       "      <td>NaN</td>\n",
       "      <td>NaN</td>\n",
       "      <td>NaN</td>\n",
       "      <td>NaN</td>\n",
       "      <td>NaN</td>\n",
       "      <td>NaN</td>\n",
       "      <td>NaN</td>\n",
       "      <td>NaN</td>\n",
       "    </tr>\n",
       "  </tbody>\n",
       "</table>\n",
       "<p>5 rows × 36 columns</p>\n",
       "</div>"
      ],
      "text/plain": [
       "   wood_add_value  wood_reduce_value  stone_add_value  stone_reduce_value  \\\n",
       "0         20125.0             3700.0              0.0                 0.0   \n",
       "1             0.0                0.0              0.0                 0.0   \n",
       "2             0.0                0.0              0.0                 0.0   \n",
       "3             0.0                0.0              0.0                 0.0   \n",
       "4             0.0                0.0              0.0                 0.0   \n",
       "\n",
       "   ivory_add_value  ivory_reduce_value  meat_add_value  meat_reduce_value  \\\n",
       "0              0.0                 0.0         16375.0             2000.0   \n",
       "1              0.0                 0.0             0.0                0.0   \n",
       "2              0.0                 0.0             0.0                0.0   \n",
       "3              0.0                 0.0             0.0                0.0   \n",
       "4              0.0                 0.0             0.0                0.0   \n",
       "\n",
       "   magic_add_value  magic_reduce_value         ...           troop_qua1  \\\n",
       "0              0.0                 0.0         ...                  0.0   \n",
       "1              0.0                 0.0         ...                  0.0   \n",
       "2              0.0                 0.0         ...                  0.0   \n",
       "3              0.0                 0.0         ...                  0.0   \n",
       "4              0.0                 0.0         ...                  0.0   \n",
       "\n",
       "   price_per_count_qua1  price_per_ivory_qua1  price_per_stone_qua1  \\\n",
       "0                   NaN                   NaN                   NaN   \n",
       "1                   NaN                   NaN                   NaN   \n",
       "2                   NaN                   NaN                   NaN   \n",
       "3                   NaN                   NaN                   NaN   \n",
       "4                   NaN                   NaN                   NaN   \n",
       "\n",
       "   price_per_wood_qua1  price_per_meat_qua1  price_per_ivory_qua2  \\\n",
       "0                  0.0                  0.0                   NaN   \n",
       "1                  NaN                  NaN                   NaN   \n",
       "2                  NaN                  NaN                   NaN   \n",
       "3                  NaN                  NaN                   NaN   \n",
       "4                  NaN                  NaN                   NaN   \n",
       "\n",
       "   price_per_stone_qua2  price_per_wood_qua2  price_per_meat_qua2  \n",
       "0                   NaN                  0.0                  0.0  \n",
       "1                   NaN                  NaN                  NaN  \n",
       "2                   NaN                  NaN                  NaN  \n",
       "3                   NaN                  NaN                  NaN  \n",
       "4                   NaN                  NaN                  NaN  \n",
       "\n",
       "[5 rows x 36 columns]"
      ]
     },
     "execution_count": 79,
     "metadata": {},
     "output_type": "execute_result"
    }
   ],
   "source": [
    "train_feat2_float.head()"
   ]
  },
  {
   "cell_type": "code",
   "execution_count": 80,
   "metadata": {
    "ExecuteTime": {
     "end_time": "2018-07-06T02:12:47.611863Z",
     "start_time": "2018-07-06T02:12:47.566861Z"
    }
   },
   "outputs": [],
   "source": [
    "################################################ add new feat"
   ]
  },
  {
   "cell_type": "code",
   "execution_count": 81,
   "metadata": {
    "ExecuteTime": {
     "end_time": "2018-07-06T02:12:47.703869Z",
     "start_time": "2018-07-06T02:12:47.612863Z"
    }
   },
   "outputs": [],
   "source": [
    "# train_feat2['price_per_ivory_qua1']=train_feat2.pay_price / train_feat2.ivory_qua1\n",
    "# train_feat2['price_per_stone_qua1']=train_feat2.pay_price / train_feat2.stone_qua1\n",
    "# train_feat2['price_per_wood_qua1']=train_feat2.pay_price / train_feat2.wood_qua1\n",
    "# train_feat2['price_per_meat_qua1']=train_feat2.pay_price / train_feat2.meat_qua1\n",
    "\n",
    "# train_feat2['price_per_ivory_qua2']=train_feat2.pay_price / train_feat2.ivory_qua2\n",
    "# train_feat2['price_per_stone_qua2']=train_feat2.pay_price / train_feat2.stone_qua2\n",
    "# train_feat2['price_per_wood_qua2']=train_feat2.pay_price / train_feat2.wood_qua2\n",
    "# train_feat2['price_per_meat_qua2']=train_feat2.pay_price / train_feat2.meat_qua2"
   ]
  },
  {
   "cell_type": "code",
   "execution_count": 82,
   "metadata": {
    "ExecuteTime": {
     "end_time": "2018-07-06T02:12:47.786873Z",
     "start_time": "2018-07-06T02:12:47.704869Z"
    }
   },
   "outputs": [],
   "source": [
    "################################################ add new feat"
   ]
  },
  {
   "cell_type": "code",
   "execution_count": 83,
   "metadata": {
    "ExecuteTime": {
     "end_time": "2018-07-06T02:12:48.037888Z",
     "start_time": "2018-07-06T02:12:47.787873Z"
    }
   },
   "outputs": [],
   "source": [
    "train_feat3=pd.concat([train_feat2_int,train_feat2_float],axis=1)"
   ]
  },
  {
   "cell_type": "code",
   "execution_count": 84,
   "metadata": {
    "ExecuteTime": {
     "end_time": "2018-07-06T02:12:48.433910Z",
     "start_time": "2018-07-06T02:12:48.038888Z"
    }
   },
   "outputs": [],
   "source": [
    "train_feat3.drop(labels=['prediction_pay_price'],axis=1,inplace=True)\n",
    "#train_feat3.prediction_pay_price"
   ]
  },
  {
   "cell_type": "code",
   "execution_count": 85,
   "metadata": {
    "ExecuteTime": {
     "end_time": "2018-07-06T02:12:48.442911Z",
     "start_time": "2018-07-06T02:12:48.436911Z"
    }
   },
   "outputs": [
    {
     "data": {
      "text/plain": [
       "(2288007, 130)"
      ]
     },
     "execution_count": 85,
     "metadata": {},
     "output_type": "execute_result"
    }
   ],
   "source": [
    "train_feat3.shape"
   ]
  },
  {
   "cell_type": "code",
   "execution_count": 86,
   "metadata": {
    "ExecuteTime": {
     "end_time": "2018-07-06T02:12:48.577919Z",
     "start_time": "2018-07-06T02:12:48.445911Z"
    }
   },
   "outputs": [],
   "source": [
    "#train_feat3.fillna(0,inplace=True)"
   ]
  },
  {
   "cell_type": "code",
   "execution_count": 87,
   "metadata": {
    "ExecuteTime": {
     "end_time": "2018-07-06T02:12:48.700926Z",
     "start_time": "2018-07-06T02:12:48.578919Z"
    }
   },
   "outputs": [
    {
     "name": "stdout",
     "output_type": "stream",
     "text": [
      "<class 'pandas.core.frame.DataFrame'>\n",
      "RangeIndex: 2288007 entries, 0 to 2288006\n",
      "Columns: 130 entries, user_id to price_per_meat_qua2\n",
      "dtypes: float32(35), uint16(1), uint8(94)\n",
      "memory usage: 515.0 MB\n"
     ]
    }
   ],
   "source": [
    "train_feat3.info(memory_usage='deep')"
   ]
  },
  {
   "cell_type": "code",
   "execution_count": 88,
   "metadata": {
    "ExecuteTime": {
     "end_time": "2018-07-06T02:12:48.811932Z",
     "start_time": "2018-07-06T02:12:48.701926Z"
    }
   },
   "outputs": [],
   "source": [
    "del train_feat2"
   ]
  },
  {
   "cell_type": "code",
   "execution_count": 89,
   "metadata": {
    "ExecuteTime": {
     "end_time": "2018-07-06T02:12:48.919938Z",
     "start_time": "2018-07-06T02:12:48.813932Z"
    }
   },
   "outputs": [],
   "source": [
    "#train_feat3.isnull().sum().sum()"
   ]
  },
  {
   "cell_type": "code",
   "execution_count": 90,
   "metadata": {
    "ExecuteTime": {
     "end_time": "2018-07-06T02:12:49.036945Z",
     "start_time": "2018-07-06T02:12:48.920938Z"
    }
   },
   "outputs": [],
   "source": [
    "params={\n",
    "    'boosting_type':'gbdt',\n",
    "    'objective':'mse',\n",
    "    'metric':'rmse',\n",
    "    'min_child_weigth':3,\n",
    "    'num_leaves':2**5,\n",
    "    'lambda_l2':10,\n",
    "    'subsample':0.7,\n",
    "    'colsample_bytree':0.7,\n",
    "    'colsample_bylevel':0.7,\n",
    "    'learning_rate':0.05,\n",
    "    'tree_method':'exact',\n",
    "    'seed':2017,\n",
    "    'nthread':4,\n",
    "    'silent':True\n",
    "}"
   ]
  },
  {
   "cell_type": "code",
   "execution_count": 91,
   "metadata": {
    "ExecuteTime": {
     "end_time": "2018-07-06T02:12:49.706983Z",
     "start_time": "2018-07-06T02:12:49.038945Z"
    }
   },
   "outputs": [],
   "source": [
    "import time\n",
    "import lightgbm as lgb"
   ]
  },
  {
   "cell_type": "code",
   "execution_count": 92,
   "metadata": {
    "ExecuteTime": {
     "end_time": "2018-07-06T02:12:49.730985Z",
     "start_time": "2018-07-06T02:12:49.707983Z"
    }
   },
   "outputs": [
    {
     "name": "stderr",
     "output_type": "stream",
     "text": [
      "D:\\ProgramData\\Anaconda3\\lib\\site-packages\\sklearn\\cross_validation.py:41: DeprecationWarning: This module was deprecated in version 0.18 in favor of the model_selection module into which all the refactored classes and functions are moved. Also note that the interface of the new CV iterators are different from that of this module. This module will be removed in 0.20.\n",
      "  \"This module will be removed in 0.20.\", DeprecationWarning)\n"
     ]
    }
   ],
   "source": [
    "from sklearn.cross_validation import train_test_split\n",
    "from sklearn.metrics import mean_squared_error"
   ]
  },
  {
   "cell_type": "code",
   "execution_count": 93,
   "metadata": {
    "ExecuteTime": {
     "end_time": "2018-07-06T02:12:49.820990Z",
     "start_time": "2018-07-06T02:12:49.731985Z"
    }
   },
   "outputs": [],
   "source": [
    "#train_feat2.shape"
   ]
  },
  {
   "cell_type": "code",
   "execution_count": 94,
   "metadata": {
    "ExecuteTime": {
     "end_time": "2018-07-06T02:12:52.400137Z",
     "start_time": "2018-07-06T02:12:49.821990Z"
    }
   },
   "outputs": [],
   "source": [
    "X_train,X_test,y_train,y_test=train_test_split(train_feat3,label_train,test_size=0.3,random_state=73)"
   ]
  },
  {
   "cell_type": "code",
   "execution_count": 95,
   "metadata": {
    "ExecuteTime": {
     "end_time": "2018-07-06T02:12:52.405138Z",
     "start_time": "2018-07-06T02:12:52.402137Z"
    }
   },
   "outputs": [],
   "source": [
    "train=lgb.Dataset(X_train,y_train)\n",
    "test=lgb.Dataset(X_test,label=y_test,reference=train)"
   ]
  },
  {
   "cell_type": "code",
   "execution_count": 96,
   "metadata": {
    "ExecuteTime": {
     "end_time": "2018-07-06T02:12:52.471141Z",
     "start_time": "2018-07-06T02:12:52.408138Z"
    }
   },
   "outputs": [],
   "source": [
    "# data_test.info(memory_usage='deep')"
   ]
  },
  {
   "cell_type": "code",
   "execution_count": 97,
   "metadata": {
    "ExecuteTime": {
     "end_time": "2018-07-06T02:13:23.541919Z",
     "start_time": "2018-07-06T02:12:52.474142Z"
    }
   },
   "outputs": [
    {
     "name": "stderr",
     "output_type": "stream",
     "text": [
      "D:\\ProgramData\\Anaconda3\\lib\\site-packages\\lightgbm\\basic.py:661: UserWarning: silent keyword has been found in `params` and will be ignored. Please use silent argument of the Dataset constructor to pass this parameter.\n",
      "  'Please use {0} argument of the Dataset constructor to pass this parameter.'.format(key))\n"
     ]
    },
    {
     "name": "stdout",
     "output_type": "stream",
     "text": [
      "Training until validation scores don't improve for 50 rounds.\n",
      "[50]\ttraining's rmse: 53.5021\tvalid_1's rmse: 56.723\n",
      "[100]\ttraining's rmse: 45.5822\tvalid_1's rmse: 56.1234\n",
      "Early stopping, best iteration is:\n",
      "[91]\ttraining's rmse: 46.7249\tvalid_1's rmse: 56.0316\n"
     ]
    }
   ],
   "source": [
    "n=1000\n",
    "gbm=lgb.train(params=params,\n",
    "             train_set=train,\n",
    "             num_boost_round=n,\n",
    "             verbose_eval=50,\n",
    "             early_stopping_rounds=50,\n",
    "             valid_sets=[train,test])\n",
    "#test_size 0.3\n",
    "#[3000]\ttraining's rmse: 9.60607\tvalid_1's rmse: 59.6829\n",
    "\n",
    "#0.3,  6,Nan\n",
    "#[3000]\ttraining's rmse: 6.20622\tvalid_1's rmse: 61.0952\n",
    "#0.3,  6 no Nan -> 0\n",
    "#[3000]\ttraining's rmse: 6.20622\tvalid_1's rmse: 61.0952\n",
    "# no  random_state\n",
    "#[3000]\ttraining's rmse: 10.9761\tvalid_1's rmse: 63.8042\n",
    "#no no  random_state 0.3,5\n",
    "#[3000]\ttraining's rmse: 9.83448\tvalid_1's rmse: 59.5719\n",
    "### new feat price_per_ivory_qua1"
   ]
  },
  {
   "cell_type": "code",
   "execution_count": 98,
   "metadata": {
    "ExecuteTime": {
     "end_time": "2018-07-06T02:13:23.545919Z",
     "start_time": "2018-07-06T02:13:23.542919Z"
    }
   },
   "outputs": [],
   "source": [
    "##############################"
   ]
  },
  {
   "cell_type": "code",
   "execution_count": 99,
   "metadata": {
    "ExecuteTime": {
     "end_time": "2018-07-06T02:13:26.228072Z",
     "start_time": "2018-07-06T02:13:23.546919Z"
    }
   },
   "outputs": [],
   "source": [
    "X_train,X_val,y_train,y_val = train_test_split(train_feat3,label_train,test_size = 0.2,random_state=21)\n"
   ]
  },
  {
   "cell_type": "code",
   "execution_count": 100,
   "metadata": {
    "ExecuteTime": {
     "end_time": "2018-07-06T02:13:26.235073Z",
     "start_time": "2018-07-06T02:13:26.230072Z"
    }
   },
   "outputs": [],
   "source": [
    "lgb_train = lgb.Dataset(X_train, y_train, free_raw_data=False)\n",
    "lgb_eval = lgb.Dataset(X_val, y_val, reference=lgb_train,free_raw_data=False)"
   ]
  },
  {
   "cell_type": "code",
   "execution_count": 101,
   "metadata": {
    "ExecuteTime": {
     "end_time": "2018-07-06T06:01:00.143464Z",
     "start_time": "2018-07-06T02:14:31.544808Z"
    },
    "scrolled": true
   },
   "outputs": [
    {
     "name": "stdout",
     "output_type": "stream",
     "text": [
      "交叉验证\n",
      "调参1：提高准确率\n",
      "[50]\tcv_agg's rmse: 65.7788 + 6.49482\n",
      "[50]\tcv_agg's rmse: 65.7788 + 6.49482\n",
      "[50]\tcv_agg's rmse: 65.7788 + 6.49482\n",
      "[50]\tcv_agg's rmse: 65.7788 + 6.49482\n",
      "[50]\tcv_agg's rmse: 65.7788 + 6.49482\n",
      "[50]\tcv_agg's rmse: 65.7788 + 6.49482\n",
      "[50]\tcv_agg's rmse: 65.7788 + 6.49482\n",
      "[50]\tcv_agg's rmse: 65.7788 + 6.49482\n",
      "[50]\tcv_agg's rmse: 65.7788 + 6.49482\n",
      "[50]\tcv_agg's rmse: 65.7788 + 6.49482\n",
      "[50]\tcv_agg's rmse: 65.7788 + 6.49482\n",
      "[50]\tcv_agg's rmse: 65.7788 + 6.49482\n",
      "[50]\tcv_agg's rmse: 65.7788 + 6.49482\n",
      "[50]\tcv_agg's rmse: 65.7788 + 6.49482\n",
      "[50]\tcv_agg's rmse: 65.7788 + 6.49482\n",
      "[50]\tcv_agg's rmse: 65.7788 + 6.49482\n",
      "[50]\tcv_agg's rmse: 65.7788 + 6.49482\n",
      "[50]\tcv_agg's rmse: 65.7788 + 6.49482\n",
      "[50]\tcv_agg's rmse: 65.7788 + 6.49482\n",
      "[50]\tcv_agg's rmse: 65.7788 + 6.49482\n",
      "[50]\tcv_agg's rmse: 65.7788 + 6.49482\n",
      "[50]\tcv_agg's rmse: 65.7788 + 6.49482\n",
      "[50]\tcv_agg's rmse: 65.7788 + 6.49482\n",
      "[50]\tcv_agg's rmse: 65.7788 + 6.49482\n",
      "[50]\tcv_agg's rmse: 65.7788 + 6.49482\n",
      "[50]\tcv_agg's rmse: 65.7788 + 6.49482\n",
      "[50]\tcv_agg's rmse: 65.7788 + 6.49482\n",
      "[50]\tcv_agg's rmse: 65.7788 + 6.49482\n",
      "[50]\tcv_agg's rmse: 65.7788 + 6.49482\n",
      "[50]\tcv_agg's rmse: 65.7788 + 6.49482\n",
      "[50]\tcv_agg's rmse: 65.7788 + 6.49482\n",
      "[50]\tcv_agg's rmse: 65.7788 + 6.49482\n",
      "[50]\tcv_agg's rmse: 65.7788 + 6.49482\n",
      "[50]\tcv_agg's rmse: 65.7788 + 6.49482\n",
      "[50]\tcv_agg's rmse: 65.7788 + 6.49482\n",
      "[50]\tcv_agg's rmse: 65.7788 + 6.49482\n",
      "调参2：降低过拟合\n",
      "[50]\tcv_agg's rmse: 68.0493 + 5.01953\n",
      "[50]\tcv_agg's rmse: 67.9253 + 5.1717\n",
      "[50]\tcv_agg's rmse: 68.4839 + 5.16637\n",
      "[50]\tcv_agg's rmse: 68.2874 + 5.13309\n",
      "[50]\tcv_agg's rmse: 68.5798 + 5.34227\n",
      "[50]\tcv_agg's rmse: 68.9726 + 5.11495\n",
      "[50]\tcv_agg's rmse: 68.9413 + 4.89765\n",
      "[50]\tcv_agg's rmse: 68.0493 + 5.01953\n",
      "[50]\tcv_agg's rmse: 67.9253 + 5.1717\n",
      "[50]\tcv_agg's rmse: 68.4839 + 5.16637\n",
      "[50]\tcv_agg's rmse: 68.2874 + 5.13309\n",
      "[50]\tcv_agg's rmse: 68.5798 + 5.34227\n",
      "[50]\tcv_agg's rmse: 68.9726 + 5.11495\n",
      "[50]\tcv_agg's rmse: 68.9413 + 4.89765\n",
      "[50]\tcv_agg's rmse: 68.0493 + 5.01953\n",
      "[50]\tcv_agg's rmse: 67.9253 + 5.1717\n",
      "[50]\tcv_agg's rmse: 68.4839 + 5.16637\n",
      "[50]\tcv_agg's rmse: 68.2874 + 5.13309\n",
      "[50]\tcv_agg's rmse: 68.5798 + 5.34227\n",
      "[50]\tcv_agg's rmse: 68.9726 + 5.11495\n",
      "[50]\tcv_agg's rmse: 68.9413 + 4.89765\n",
      "[50]\tcv_agg's rmse: 68.0493 + 5.01953\n",
      "[50]\tcv_agg's rmse: 67.9253 + 5.1717\n",
      "[50]\tcv_agg's rmse: 68.4839 + 5.16637\n",
      "[50]\tcv_agg's rmse: 68.2874 + 5.13309\n",
      "[50]\tcv_agg's rmse: 68.5798 + 5.34227\n",
      "[50]\tcv_agg's rmse: 68.9726 + 5.11495\n",
      "[50]\tcv_agg's rmse: 68.9413 + 4.89765\n",
      "[50]\tcv_agg's rmse: 68.0493 + 5.01953\n",
      "[50]\tcv_agg's rmse: 67.9253 + 5.1717\n",
      "[50]\tcv_agg's rmse: 68.4839 + 5.16637\n",
      "[50]\tcv_agg's rmse: 68.2874 + 5.13309\n",
      "[50]\tcv_agg's rmse: 68.5798 + 5.34227\n",
      "[50]\tcv_agg's rmse: 68.9726 + 5.11495\n",
      "[50]\tcv_agg's rmse: 68.9413 + 4.89765\n",
      "[50]\tcv_agg's rmse: 68.0493 + 5.01953\n",
      "[50]\tcv_agg's rmse: 67.9253 + 5.1717\n",
      "[50]\tcv_agg's rmse: 68.4839 + 5.16637\n",
      "[50]\tcv_agg's rmse: 68.2874 + 5.13309\n",
      "[50]\tcv_agg's rmse: 68.5798 + 5.34227\n",
      "[50]\tcv_agg's rmse: 68.9726 + 5.11495\n",
      "[50]\tcv_agg's rmse: 68.9413 + 4.89765\n",
      "[50]\tcv_agg's rmse: 68.0493 + 5.01953\n",
      "[50]\tcv_agg's rmse: 67.9253 + 5.1717\n",
      "[50]\tcv_agg's rmse: 68.4839 + 5.16637\n",
      "[50]\tcv_agg's rmse: 68.2874 + 5.13309\n",
      "[50]\tcv_agg's rmse: 68.5798 + 5.34227\n",
      "[50]\tcv_agg's rmse: 68.9726 + 5.11495\n",
      "[50]\tcv_agg's rmse: 68.9413 + 4.89765\n",
      "[50]\tcv_agg's rmse: 68.0493 + 5.01953\n",
      "[50]\tcv_agg's rmse: 67.9253 + 5.1717\n",
      "[50]\tcv_agg's rmse: 68.4839 + 5.16637\n",
      "[50]\tcv_agg's rmse: 68.2874 + 5.13309\n",
      "[50]\tcv_agg's rmse: 68.5798 + 5.34227\n",
      "[50]\tcv_agg's rmse: 68.9726 + 5.11495\n",
      "[50]\tcv_agg's rmse: 68.9413 + 4.89765\n",
      "[50]\tcv_agg's rmse: 68.0493 + 5.01953\n",
      "[50]\tcv_agg's rmse: 67.9253 + 5.1717\n",
      "[50]\tcv_agg's rmse: 68.4839 + 5.16637\n",
      "[50]\tcv_agg's rmse: 68.2874 + 5.13309\n",
      "[50]\tcv_agg's rmse: 68.5798 + 5.34227\n",
      "[50]\tcv_agg's rmse: 68.9726 + 5.11495\n",
      "[50]\tcv_agg's rmse: 68.9413 + 4.89765\n",
      "[50]\tcv_agg's rmse: 68.0493 + 5.01953\n",
      "[50]\tcv_agg's rmse: 67.9253 + 5.1717\n",
      "[50]\tcv_agg's rmse: 68.4839 + 5.16637\n",
      "[50]\tcv_agg's rmse: 68.2874 + 5.13309\n",
      "[50]\tcv_agg's rmse: 68.5798 + 5.34227\n",
      "[50]\tcv_agg's rmse: 68.9726 + 5.11495\n",
      "[50]\tcv_agg's rmse: 68.9413 + 4.89765\n",
      "[50]\tcv_agg's rmse: 68.0493 + 5.01953\n",
      "[50]\tcv_agg's rmse: 67.9253 + 5.1717\n",
      "[50]\tcv_agg's rmse: 68.4839 + 5.16637\n",
      "[50]\tcv_agg's rmse: 68.2874 + 5.13309\n",
      "[50]\tcv_agg's rmse: 68.5798 + 5.34227\n",
      "[50]\tcv_agg's rmse: 68.9726 + 5.11495\n",
      "[50]\tcv_agg's rmse: 68.9413 + 4.89765\n",
      "[50]\tcv_agg's rmse: 68.0493 + 5.01953\n",
      "[50]\tcv_agg's rmse: 67.9253 + 5.1717\n",
      "[50]\tcv_agg's rmse: 68.4839 + 5.16637\n",
      "[50]\tcv_agg's rmse: 68.2874 + 5.13309\n",
      "[50]\tcv_agg's rmse: 68.5798 + 5.34227\n",
      "[50]\tcv_agg's rmse: 68.9726 + 5.11495\n",
      "[50]\tcv_agg's rmse: 68.9413 + 4.89765\n",
      "[50]\tcv_agg's rmse: 68.0493 + 5.01953\n",
      "[50]\tcv_agg's rmse: 67.9253 + 5.1717\n",
      "[50]\tcv_agg's rmse: 68.4839 + 5.16637\n",
      "[50]\tcv_agg's rmse: 68.2874 + 5.13309\n",
      "[50]\tcv_agg's rmse: 68.5798 + 5.34227\n",
      "[50]\tcv_agg's rmse: 68.9726 + 5.11495\n",
      "[50]\tcv_agg's rmse: 68.9413 + 4.89765\n",
      "[50]\tcv_agg's rmse: 68.0493 + 5.01953\n",
      "[50]\tcv_agg's rmse: 67.9253 + 5.1717\n",
      "[50]\tcv_agg's rmse: 68.4839 + 5.16637\n",
      "[50]\tcv_agg's rmse: 68.2874 + 5.13309\n",
      "[50]\tcv_agg's rmse: 68.5798 + 5.34227\n",
      "[50]\tcv_agg's rmse: 68.9726 + 5.11495\n",
      "[50]\tcv_agg's rmse: 68.9413 + 4.89765\n",
      "[50]\tcv_agg's rmse: 68.0493 + 5.01953\n",
      "[50]\tcv_agg's rmse: 67.9253 + 5.1717\n",
      "[50]\tcv_agg's rmse: 68.4839 + 5.16637\n",
      "[50]\tcv_agg's rmse: 68.2874 + 5.13309\n",
      "[50]\tcv_agg's rmse: 68.5798 + 5.34227\n",
      "[50]\tcv_agg's rmse: 68.9726 + 5.11495\n",
      "[50]\tcv_agg's rmse: 68.9413 + 4.89765\n",
      "[50]\tcv_agg's rmse: 68.0493 + 5.01953\n",
      "[50]\tcv_agg's rmse: 67.9253 + 5.1717\n",
      "[50]\tcv_agg's rmse: 68.4839 + 5.16637\n",
      "[50]\tcv_agg's rmse: 68.2874 + 5.13309\n",
      "[50]\tcv_agg's rmse: 68.5798 + 5.34227\n",
      "[50]\tcv_agg's rmse: 68.9726 + 5.11495\n",
      "[50]\tcv_agg's rmse: 68.9413 + 4.89765\n",
      "[50]\tcv_agg's rmse: 68.0493 + 5.01953\n",
      "[50]\tcv_agg's rmse: 67.9253 + 5.1717\n",
      "[50]\tcv_agg's rmse: 68.4839 + 5.16637\n",
      "[50]\tcv_agg's rmse: 68.2874 + 5.13309\n",
      "[50]\tcv_agg's rmse: 68.5798 + 5.34227\n",
      "[50]\tcv_agg's rmse: 68.9726 + 5.11495\n",
      "[50]\tcv_agg's rmse: 68.9413 + 4.89765\n",
      "[50]\tcv_agg's rmse: 68.0493 + 5.01953\n",
      "[50]\tcv_agg's rmse: 67.9253 + 5.1717\n",
      "[50]\tcv_agg's rmse: 68.4839 + 5.16637\n",
      "[50]\tcv_agg's rmse: 68.2874 + 5.13309\n",
      "[50]\tcv_agg's rmse: 68.5798 + 5.34227\n",
      "[50]\tcv_agg's rmse: 68.9726 + 5.11495\n",
      "[50]\tcv_agg's rmse: 68.9413 + 4.89765\n",
      "[50]\tcv_agg's rmse: 68.0493 + 5.01953\n",
      "[50]\tcv_agg's rmse: 67.9253 + 5.1717\n",
      "[50]\tcv_agg's rmse: 68.4839 + 5.16637\n",
      "[50]\tcv_agg's rmse: 68.2874 + 5.13309\n",
      "[50]\tcv_agg's rmse: 68.5798 + 5.34227\n",
      "[50]\tcv_agg's rmse: 68.9726 + 5.11495\n",
      "[50]\tcv_agg's rmse: 68.9413 + 4.89765\n",
      "[50]\tcv_agg's rmse: 68.0493 + 5.01953\n",
      "[50]\tcv_agg's rmse: 67.9253 + 5.1717\n",
      "[50]\tcv_agg's rmse: 68.4839 + 5.16637\n",
      "[50]\tcv_agg's rmse: 68.2874 + 5.13309\n",
      "[50]\tcv_agg's rmse: 68.5798 + 5.34227\n",
      "[50]\tcv_agg's rmse: 68.9726 + 5.11495\n",
      "[50]\tcv_agg's rmse: 68.9413 + 4.89765\n",
      "[50]\tcv_agg's rmse: 68.0493 + 5.01953\n",
      "[50]\tcv_agg's rmse: 67.9253 + 5.1717\n",
      "[50]\tcv_agg's rmse: 68.4839 + 5.16637\n",
      "[50]\tcv_agg's rmse: 68.2874 + 5.13309\n",
      "[50]\tcv_agg's rmse: 68.5798 + 5.34227\n",
      "[50]\tcv_agg's rmse: 68.9726 + 5.11495\n",
      "[50]\tcv_agg's rmse: 68.9413 + 4.89765\n",
      "[50]\tcv_agg's rmse: 68.0493 + 5.01953\n",
      "[50]\tcv_agg's rmse: 67.9253 + 5.1717\n",
      "[50]\tcv_agg's rmse: 68.4839 + 5.16637\n",
      "[50]\tcv_agg's rmse: 68.2874 + 5.13309\n",
      "[50]\tcv_agg's rmse: 68.5798 + 5.34227\n",
      "[50]\tcv_agg's rmse: 68.9726 + 5.11495\n",
      "[50]\tcv_agg's rmse: 68.9413 + 4.89765\n",
      "[50]\tcv_agg's rmse: 68.0493 + 5.01953\n",
      "[50]\tcv_agg's rmse: 67.9253 + 5.1717\n",
      "[50]\tcv_agg's rmse: 68.4839 + 5.16637\n",
      "[50]\tcv_agg's rmse: 68.2874 + 5.13309\n",
      "[50]\tcv_agg's rmse: 68.5798 + 5.34227\n",
      "[50]\tcv_agg's rmse: 68.9726 + 5.11495\n",
      "[50]\tcv_agg's rmse: 68.9413 + 4.89765\n",
      "[50]\tcv_agg's rmse: 68.0493 + 5.01953\n",
      "[50]\tcv_agg's rmse: 67.9253 + 5.1717\n",
      "[50]\tcv_agg's rmse: 68.4839 + 5.16637\n",
      "[50]\tcv_agg's rmse: 68.2874 + 5.13309\n",
      "[50]\tcv_agg's rmse: 68.5798 + 5.34227\n",
      "[50]\tcv_agg's rmse: 68.9726 + 5.11495\n",
      "[50]\tcv_agg's rmse: 68.9413 + 4.89765\n",
      "[50]\tcv_agg's rmse: 68.0493 + 5.01953\n",
      "[50]\tcv_agg's rmse: 67.9253 + 5.1717\n",
      "[50]\tcv_agg's rmse: 68.4839 + 5.16637\n",
      "[50]\tcv_agg's rmse: 68.2874 + 5.13309\n",
      "[50]\tcv_agg's rmse: 68.5798 + 5.34227\n",
      "[50]\tcv_agg's rmse: 68.9726 + 5.11495\n",
      "[50]\tcv_agg's rmse: 68.9413 + 4.89765\n",
      "[50]\tcv_agg's rmse: 68.0493 + 5.01953\n",
      "[50]\tcv_agg's rmse: 67.9253 + 5.1717\n",
      "[50]\tcv_agg's rmse: 68.4839 + 5.16637\n",
      "[50]\tcv_agg's rmse: 68.2874 + 5.13309\n",
      "[50]\tcv_agg's rmse: 68.5798 + 5.34227\n"
     ]
    },
    {
     "name": "stdout",
     "output_type": "stream",
     "text": [
      "[50]\tcv_agg's rmse: 68.9726 + 5.11495\n",
      "[50]\tcv_agg's rmse: 68.9413 + 4.89765\n",
      "[50]\tcv_agg's rmse: 68.0493 + 5.01953\n",
      "[50]\tcv_agg's rmse: 67.9253 + 5.1717\n",
      "[50]\tcv_agg's rmse: 68.4839 + 5.16637\n",
      "[50]\tcv_agg's rmse: 68.2874 + 5.13309\n",
      "[50]\tcv_agg's rmse: 68.5798 + 5.34227\n",
      "[50]\tcv_agg's rmse: 68.9726 + 5.11495\n",
      "[50]\tcv_agg's rmse: 68.9413 + 4.89765\n",
      "[50]\tcv_agg's rmse: 68.0493 + 5.01953\n",
      "[50]\tcv_agg's rmse: 67.9253 + 5.1717\n",
      "[50]\tcv_agg's rmse: 68.4839 + 5.16637\n",
      "[50]\tcv_agg's rmse: 68.2874 + 5.13309\n",
      "[50]\tcv_agg's rmse: 68.5798 + 5.34227\n",
      "[50]\tcv_agg's rmse: 68.9726 + 5.11495\n",
      "[50]\tcv_agg's rmse: 68.9413 + 4.89765\n",
      "[50]\tcv_agg's rmse: 68.0493 + 5.01953\n",
      "[50]\tcv_agg's rmse: 67.9253 + 5.1717\n",
      "[50]\tcv_agg's rmse: 68.4839 + 5.16637\n",
      "[50]\tcv_agg's rmse: 68.2874 + 5.13309\n",
      "[50]\tcv_agg's rmse: 68.5798 + 5.34227\n",
      "[50]\tcv_agg's rmse: 68.9726 + 5.11495\n",
      "[50]\tcv_agg's rmse: 68.9413 + 4.89765\n",
      "[50]\tcv_agg's rmse: 68.0493 + 5.01953\n",
      "[50]\tcv_agg's rmse: 67.9253 + 5.1717\n",
      "[50]\tcv_agg's rmse: 68.4839 + 5.16637\n",
      "[50]\tcv_agg's rmse: 68.2874 + 5.13309\n",
      "[50]\tcv_agg's rmse: 68.5798 + 5.34227\n",
      "[50]\tcv_agg's rmse: 68.9726 + 5.11495\n",
      "[50]\tcv_agg's rmse: 68.9413 + 4.89765\n",
      "[50]\tcv_agg's rmse: 68.0493 + 5.01953\n",
      "[50]\tcv_agg's rmse: 67.9253 + 5.1717\n",
      "[50]\tcv_agg's rmse: 68.4839 + 5.16637\n",
      "[50]\tcv_agg's rmse: 68.2874 + 5.13309\n",
      "[50]\tcv_agg's rmse: 68.5798 + 5.34227\n",
      "[50]\tcv_agg's rmse: 68.9726 + 5.11495\n",
      "[50]\tcv_agg's rmse: 68.9413 + 4.89765\n",
      "[50]\tcv_agg's rmse: 68.0493 + 5.01953\n",
      "[50]\tcv_agg's rmse: 67.9253 + 5.1717\n",
      "[50]\tcv_agg's rmse: 68.4839 + 5.16637\n",
      "[50]\tcv_agg's rmse: 68.2874 + 5.13309\n",
      "[50]\tcv_agg's rmse: 68.5798 + 5.34227\n",
      "[50]\tcv_agg's rmse: 68.9726 + 5.11495\n",
      "[50]\tcv_agg's rmse: 68.9413 + 4.89765\n",
      "[50]\tcv_agg's rmse: 68.0493 + 5.01953\n",
      "[50]\tcv_agg's rmse: 67.9253 + 5.1717\n",
      "[50]\tcv_agg's rmse: 68.4839 + 5.16637\n",
      "[50]\tcv_agg's rmse: 68.2874 + 5.13309\n",
      "[50]\tcv_agg's rmse: 68.5798 + 5.34227\n",
      "[50]\tcv_agg's rmse: 68.9726 + 5.11495\n",
      "[50]\tcv_agg's rmse: 68.9413 + 4.89765\n",
      "[50]\tcv_agg's rmse: 68.0493 + 5.01953\n",
      "[50]\tcv_agg's rmse: 67.9253 + 5.1717\n",
      "[50]\tcv_agg's rmse: 68.4839 + 5.16637\n",
      "[50]\tcv_agg's rmse: 68.2874 + 5.13309\n",
      "[50]\tcv_agg's rmse: 68.5798 + 5.34227\n",
      "[50]\tcv_agg's rmse: 68.9726 + 5.11495\n",
      "[50]\tcv_agg's rmse: 68.9413 + 4.89765\n",
      "[50]\tcv_agg's rmse: 68.0493 + 5.01953\n",
      "[50]\tcv_agg's rmse: 67.9253 + 5.1717\n",
      "[50]\tcv_agg's rmse: 68.4839 + 5.16637\n",
      "[50]\tcv_agg's rmse: 68.2874 + 5.13309\n",
      "[50]\tcv_agg's rmse: 68.5798 + 5.34227\n",
      "[50]\tcv_agg's rmse: 68.9726 + 5.11495\n",
      "[50]\tcv_agg's rmse: 68.9413 + 4.89765\n",
      "[50]\tcv_agg's rmse: 68.0493 + 5.01953\n",
      "[50]\tcv_agg's rmse: 67.9253 + 5.1717\n",
      "[50]\tcv_agg's rmse: 68.4839 + 5.16637\n",
      "[50]\tcv_agg's rmse: 68.2874 + 5.13309\n",
      "[50]\tcv_agg's rmse: 68.5798 + 5.34227\n",
      "[50]\tcv_agg's rmse: 68.9726 + 5.11495\n",
      "[50]\tcv_agg's rmse: 68.9413 + 4.89765\n",
      "[50]\tcv_agg's rmse: 68.0493 + 5.01953\n",
      "[50]\tcv_agg's rmse: 67.9253 + 5.1717\n",
      "[50]\tcv_agg's rmse: 68.4839 + 5.16637\n",
      "[50]\tcv_agg's rmse: 68.2874 + 5.13309\n",
      "[50]\tcv_agg's rmse: 68.5798 + 5.34227\n",
      "[50]\tcv_agg's rmse: 68.9726 + 5.11495\n",
      "[50]\tcv_agg's rmse: 68.9413 + 4.89765\n",
      "[50]\tcv_agg's rmse: 68.0493 + 5.01953\n",
      "[50]\tcv_agg's rmse: 67.9253 + 5.1717\n",
      "[50]\tcv_agg's rmse: 68.4839 + 5.16637\n",
      "[50]\tcv_agg's rmse: 68.2874 + 5.13309\n",
      "[50]\tcv_agg's rmse: 68.5798 + 5.34227\n",
      "[50]\tcv_agg's rmse: 68.9726 + 5.11495\n",
      "[50]\tcv_agg's rmse: 68.9413 + 4.89765\n",
      "[50]\tcv_agg's rmse: 68.0493 + 5.01953\n",
      "[50]\tcv_agg's rmse: 67.9253 + 5.1717\n",
      "[50]\tcv_agg's rmse: 68.4839 + 5.16637\n",
      "[50]\tcv_agg's rmse: 68.2874 + 5.13309\n",
      "[50]\tcv_agg's rmse: 68.5798 + 5.34227\n",
      "[50]\tcv_agg's rmse: 68.9726 + 5.11495\n",
      "[50]\tcv_agg's rmse: 68.9413 + 4.89765\n",
      "[50]\tcv_agg's rmse: 68.0493 + 5.01953\n",
      "[50]\tcv_agg's rmse: 67.9253 + 5.1717\n",
      "[50]\tcv_agg's rmse: 68.4839 + 5.16637\n",
      "[50]\tcv_agg's rmse: 68.2874 + 5.13309\n",
      "[50]\tcv_agg's rmse: 68.5798 + 5.34227\n",
      "[50]\tcv_agg's rmse: 68.9726 + 5.11495\n",
      "[50]\tcv_agg's rmse: 68.9413 + 4.89765\n",
      "[50]\tcv_agg's rmse: 68.0493 + 5.01953\n",
      "[50]\tcv_agg's rmse: 67.9253 + 5.1717\n",
      "[50]\tcv_agg's rmse: 68.4839 + 5.16637\n",
      "[50]\tcv_agg's rmse: 68.2874 + 5.13309\n",
      "[50]\tcv_agg's rmse: 68.5798 + 5.34227\n",
      "[50]\tcv_agg's rmse: 68.9726 + 5.11495\n",
      "[50]\tcv_agg's rmse: 68.9413 + 4.89765\n",
      "[50]\tcv_agg's rmse: 68.0493 + 5.01953\n",
      "[50]\tcv_agg's rmse: 67.9253 + 5.1717\n",
      "[50]\tcv_agg's rmse: 68.4839 + 5.16637\n",
      "[50]\tcv_agg's rmse: 68.2874 + 5.13309\n",
      "[50]\tcv_agg's rmse: 68.5798 + 5.34227\n",
      "[50]\tcv_agg's rmse: 68.9726 + 5.11495\n",
      "[50]\tcv_agg's rmse: 68.9413 + 4.89765\n",
      "[50]\tcv_agg's rmse: 68.0493 + 5.01953\n",
      "[50]\tcv_agg's rmse: 67.9253 + 5.1717\n",
      "[50]\tcv_agg's rmse: 68.4839 + 5.16637\n",
      "[50]\tcv_agg's rmse: 68.2874 + 5.13309\n",
      "[50]\tcv_agg's rmse: 68.5798 + 5.34227\n",
      "[50]\tcv_agg's rmse: 68.9726 + 5.11495\n",
      "[50]\tcv_agg's rmse: 68.9413 + 4.89765\n",
      "[50]\tcv_agg's rmse: 68.0493 + 5.01953\n",
      "[50]\tcv_agg's rmse: 67.9253 + 5.1717\n",
      "[50]\tcv_agg's rmse: 68.4839 + 5.16637\n",
      "[50]\tcv_agg's rmse: 68.2874 + 5.13309\n",
      "[50]\tcv_agg's rmse: 68.5798 + 5.34227\n",
      "[50]\tcv_agg's rmse: 68.9726 + 5.11495\n",
      "[50]\tcv_agg's rmse: 68.9413 + 4.89765\n",
      "[50]\tcv_agg's rmse: 68.0493 + 5.01953\n",
      "[50]\tcv_agg's rmse: 67.9253 + 5.1717\n",
      "[50]\tcv_agg's rmse: 68.4839 + 5.16637\n",
      "[50]\tcv_agg's rmse: 68.2874 + 5.13309\n",
      "[50]\tcv_agg's rmse: 68.5798 + 5.34227\n",
      "[50]\tcv_agg's rmse: 68.9726 + 5.11495\n",
      "[50]\tcv_agg's rmse: 68.9413 + 4.89765\n",
      "[50]\tcv_agg's rmse: 68.0493 + 5.01953\n",
      "[50]\tcv_agg's rmse: 67.9253 + 5.1717\n",
      "[50]\tcv_agg's rmse: 68.4839 + 5.16637\n",
      "[50]\tcv_agg's rmse: 68.2874 + 5.13309\n",
      "[50]\tcv_agg's rmse: 68.5798 + 5.34227\n",
      "[50]\tcv_agg's rmse: 68.9726 + 5.11495\n",
      "[50]\tcv_agg's rmse: 68.9413 + 4.89765\n",
      "[50]\tcv_agg's rmse: 68.0493 + 5.01953\n",
      "[50]\tcv_agg's rmse: 67.9253 + 5.1717\n",
      "[50]\tcv_agg's rmse: 68.4839 + 5.16637\n",
      "[50]\tcv_agg's rmse: 68.2874 + 5.13309\n",
      "[50]\tcv_agg's rmse: 68.5798 + 5.34227\n",
      "[50]\tcv_agg's rmse: 68.9726 + 5.11495\n",
      "[50]\tcv_agg's rmse: 68.9413 + 4.89765\n",
      "[50]\tcv_agg's rmse: 68.0493 + 5.01953\n",
      "[50]\tcv_agg's rmse: 67.9253 + 5.1717\n",
      "[50]\tcv_agg's rmse: 68.4839 + 5.16637\n",
      "[50]\tcv_agg's rmse: 68.2874 + 5.13309\n",
      "[50]\tcv_agg's rmse: 68.5798 + 5.34227\n",
      "[50]\tcv_agg's rmse: 68.9726 + 5.11495\n",
      "[50]\tcv_agg's rmse: 68.9413 + 4.89765\n",
      "[50]\tcv_agg's rmse: 68.0493 + 5.01953\n",
      "[50]\tcv_agg's rmse: 67.9253 + 5.1717\n",
      "[50]\tcv_agg's rmse: 68.4839 + 5.16637\n",
      "[50]\tcv_agg's rmse: 68.2874 + 5.13309\n",
      "[50]\tcv_agg's rmse: 68.5798 + 5.34227\n",
      "[50]\tcv_agg's rmse: 68.9726 + 5.11495\n",
      "[50]\tcv_agg's rmse: 68.9413 + 4.89765\n",
      "[50]\tcv_agg's rmse: 68.0493 + 5.01953\n",
      "[50]\tcv_agg's rmse: 67.9253 + 5.1717\n",
      "[50]\tcv_agg's rmse: 68.4839 + 5.16637\n",
      "[50]\tcv_agg's rmse: 68.2874 + 5.13309\n",
      "[50]\tcv_agg's rmse: 68.5798 + 5.34227\n",
      "[50]\tcv_agg's rmse: 68.9726 + 5.11495\n",
      "[50]\tcv_agg's rmse: 68.9413 + 4.89765\n",
      "[50]\tcv_agg's rmse: 68.0493 + 5.01953\n",
      "[50]\tcv_agg's rmse: 67.9253 + 5.1717\n",
      "[50]\tcv_agg's rmse: 68.4839 + 5.16637\n",
      "[50]\tcv_agg's rmse: 68.2874 + 5.13309\n",
      "[50]\tcv_agg's rmse: 68.5798 + 5.34227\n",
      "[50]\tcv_agg's rmse: 68.9726 + 5.11495\n",
      "[50]\tcv_agg's rmse: 68.9413 + 4.89765\n",
      "调参3：降低过拟合\n",
      "调参3 : 1\n",
      "调参3 : 2\n",
      "调参3 : 3\n",
      "调参3 : 4\n",
      "调参3 : 5\n",
      "调参3 : 6\n",
      "调参3 : 7\n",
      "调参3 : 8\n",
      "调参3 : 9\n",
      "调参3 : 10\n",
      "调参3 : 11\n",
      "调参3 : 12\n",
      "调参3 : 13\n",
      "调参3 : 14\n",
      "调参3 : 15\n",
      "[50]\tcv_agg's rmse: 66.7464 + 4.71947\n",
      "调参3 : 16\n",
      "调参3 : 17\n",
      "调参3 : 18\n",
      "调参3 : 19\n",
      "调参3 : 20\n",
      "[50]\tcv_agg's rmse: 66.21 + 4.76814\n",
      "调参3 : 21\n",
      "调参3 : 22\n",
      "调参3 : 23\n",
      "调参3 : 24\n",
      "调参3 : 25\n",
      "调参3 : 26\n",
      "调参3 : 27\n",
      "调参3 : 28\n",
      "调参3 : 29\n",
      "调参3 : 30\n",
      "调参3 : 31\n",
      "调参3 : 32\n",
      "调参3 : 33\n",
      "调参3 : 34\n",
      "调参3 : 35\n",
      "调参3 : 36\n",
      "调参3 : 37\n",
      "调参3 : 38\n",
      "调参3 : 39\n",
      "调参3 : 40\n",
      "调参3 : 41\n",
      "调参3 : 42\n",
      "调参3 : 43\n",
      "调参3 : 44\n",
      "调参3 : 45\n",
      "调参3 : 46\n",
      "调参3 : 47\n",
      "调参3 : 48\n",
      "调参3 : 49\n",
      "调参3 : 50\n",
      "调参3 : 51\n",
      "调参3 : 52\n",
      "调参3 : 53\n",
      "调参3 : 54\n",
      "调参3 : 55\n",
      "调参3 : 56\n",
      "调参3 : 57\n",
      "调参3 : 58\n",
      "调参3 : 59\n",
      "调参3 : 60\n",
      "调参3 : 61\n",
      "调参3 : 62\n",
      "调参3 : 63\n",
      "调参3 : 64\n",
      "调参3 : 65\n",
      "调参3 : 66\n",
      "调参3 : 67\n",
      "调参3 : 68\n",
      "调参3 : 69\n",
      "调参3 : 70\n",
      "调参3 : 71\n",
      "调参3 : 72\n",
      "调参3 : 73\n",
      "调参3 : 74\n",
      "调参3 : 75\n",
      "调参3 : 76\n",
      "调参3 : 77\n",
      "调参3 : 78\n",
      "调参3 : 79\n",
      "调参3 : 80\n",
      "调参3 : 81\n",
      "调参3 : 82\n",
      "调参3 : 83\n",
      "调参3 : 84\n",
      "调参3 : 85\n",
      "调参3 : 86\n",
      "调参3 : 87\n",
      "调参3 : 88\n",
      "调参3 : 89\n",
      "调参3 : 90\n",
      "调参3 : 91\n",
      "调参3 : 92\n",
      "调参3 : 93\n",
      "调参3 : 94\n",
      "调参3 : 95\n",
      "调参3 : 96\n",
      "调参3 : 97\n",
      "调参3 : 98\n",
      "调参3 : 99\n",
      "调参3 : 100\n",
      "调参3 : 101\n",
      "调参3 : 102\n",
      "调参3 : 103\n",
      "调参3 : 104\n",
      "调参3 : 105\n",
      "调参3 : 106\n",
      "调参3 : 107\n",
      "调参3 : 108\n",
      "调参3 : 109\n",
      "调参3 : 110\n",
      "调参3 : 111\n",
      "调参3 : 112\n",
      "调参3 : 113\n",
      "调参3 : 114\n",
      "调参3 : 115\n",
      "调参3 : 116\n",
      "调参3 : 117\n",
      "调参3 : 118\n",
      "调参3 : 119\n",
      "调参3 : 120\n",
      "调参3 : 121\n",
      "调参3 : 122\n",
      "调参3 : 123\n",
      "调参3 : 124\n",
      "调参3 : 125\n",
      "调参4：降低过拟合\n",
      "调参4 : 1\n",
      "调参4 : 2\n",
      "调参4 : 3\n",
      "调参4 : 4\n",
      "调参4 : 5\n",
      "调参4 : 6\n",
      "调参4 : 7\n",
      "调参4 : 8\n",
      "调参4 : 9\n",
      "调参4 : 10\n",
      "调参4 : 11\n",
      "调参4 : 12\n",
      "调参4 : 13\n",
      "调参4 : 14\n",
      "调参4 : 15\n",
      "调参4 : 16\n",
      "调参4 : 17\n",
      "调参4 : 18\n",
      "调参4 : 19\n",
      "调参4 : 20\n",
      "调参4 : 21\n",
      "调参4 : 22\n",
      "调参4 : 23\n",
      "调参4 : 24\n",
      "调参4 : 25\n",
      "调参4 : 26\n",
      "调参4 : 27\n",
      "调参4 : 28\n",
      "调参4 : 29\n",
      "调参4 : 30\n"
     ]
    },
    {
     "name": "stdout",
     "output_type": "stream",
     "text": [
      "调参4 : 31\n",
      "调参4 : 32\n",
      "调参4 : 33\n",
      "调参4 : 34\n",
      "调参4 : 35\n",
      "调参4 : 36\n",
      "调参4 : 37\n",
      "调参4 : 38\n",
      "调参4 : 39\n",
      "调参4 : 40\n",
      "调参4 : 41\n",
      "调参4 : 42\n",
      "调参4 : 43\n",
      "调参4 : 44\n",
      "调参4 : 45\n",
      "调参4 : 46\n",
      "调参4 : 47\n",
      "调参4 : 48\n",
      "调参4 : 49\n",
      "调参4 : 50\n",
      "调参4 : 51\n",
      "调参4 : 52\n",
      "调参4 : 53\n",
      "调参4 : 54\n",
      "调参4 : 55\n",
      "调参4 : 56\n",
      "调参4 : 57\n",
      "调参4 : 58\n",
      "调参4 : 59\n",
      "调参4 : 60\n",
      "调参4 : 61\n",
      "调参4 : 62\n",
      "调参4 : 63\n",
      "调参4 : 64\n",
      "调参4 : 65\n",
      "调参4 : 66\n",
      "调参4 : 67\n",
      "调参4 : 68\n",
      "调参4 : 69\n",
      "调参4 : 70\n",
      "调参4 : 71\n",
      "调参4 : 72\n",
      "调参4 : 73\n",
      "调参4 : 74\n",
      "调参4 : 75\n",
      "调参4 : 76\n",
      "调参4 : 77\n",
      "调参4 : 78\n",
      "调参4 : 79\n",
      "调参4 : 80\n",
      "调参4 : 81\n",
      "调参4 : 82\n",
      "调参4 : 83\n",
      "调参4 : 84\n",
      "调参4 : 85\n",
      "调参4 : 86\n",
      "调参4 : 87\n",
      "调参4 : 88\n",
      "调参4 : 89\n",
      "调参4 : 90\n",
      "调参4 : 91\n",
      "调参4 : 92\n",
      "调参4 : 93\n",
      "调参4 : 94\n",
      "调参4 : 95\n",
      "调参4 : 96\n",
      "调参4 : 97\n",
      "调参4 : 98\n",
      "调参4 : 99\n",
      "调参4 : 100\n",
      "调参4 : 101\n",
      "调参4 : 102\n",
      "调参4 : 103\n",
      "调参4 : 104\n",
      "调参4 : 105\n",
      "调参4 : 106\n",
      "调参4 : 107\n",
      "调参4 : 108\n",
      "调参4 : 109\n",
      "调参4 : 110\n",
      "调参4 : 111\n",
      "调参4 : 112\n",
      "调参4 : 113\n",
      "调参4 : 114\n",
      "调参4 : 115\n",
      "调参4 : 116\n",
      "调参4 : 117\n",
      "调参4 : 118\n",
      "调参4 : 119\n",
      "调参4 : 120\n",
      "调参4 : 121\n",
      "调参4 : 122\n",
      "调参4 : 123\n",
      "调参4 : 124\n",
      "调参4 : 125\n"
     ]
    },
    {
     "ename": "KeyError",
     "evalue": "'lambda_l1'",
     "output_type": "error",
     "traceback": [
      "\u001b[1;31m---------------------------------------------------------------------------\u001b[0m",
      "\u001b[1;31mKeyError\u001b[0m                                  Traceback (most recent call last)",
      "\u001b[1;32m<ipython-input-101-290cf25f7f6f>\u001b[0m in \u001b[0;36m<module>\u001b[1;34m()\u001b[0m\n\u001b[0;32m    128\u001b[0m                 \u001b[0mbest_params\u001b[0m\u001b[1;33m[\u001b[0m\u001b[1;34m'min_split_gain'\u001b[0m\u001b[1;33m]\u001b[0m \u001b[1;33m=\u001b[0m \u001b[0mmin_split_gain\u001b[0m\u001b[1;33m\u001b[0m\u001b[0m\n\u001b[0;32m    129\u001b[0m \u001b[1;33m\u001b[0m\u001b[0m\n\u001b[1;32m--> 130\u001b[1;33m \u001b[0mparams\u001b[0m\u001b[1;33m[\u001b[0m\u001b[1;34m'lambda_l1'\u001b[0m\u001b[1;33m]\u001b[0m \u001b[1;33m=\u001b[0m \u001b[0mbest_params\u001b[0m\u001b[1;33m[\u001b[0m\u001b[1;34m'lambda_l1'\u001b[0m\u001b[1;33m]\u001b[0m\u001b[1;33m\u001b[0m\u001b[0m\n\u001b[0m\u001b[0;32m    131\u001b[0m \u001b[0mparams\u001b[0m\u001b[1;33m[\u001b[0m\u001b[1;34m'lambda_l2'\u001b[0m\u001b[1;33m]\u001b[0m \u001b[1;33m=\u001b[0m \u001b[0mbest_params\u001b[0m\u001b[1;33m[\u001b[0m\u001b[1;34m'lambda_l2'\u001b[0m\u001b[1;33m]\u001b[0m\u001b[1;33m\u001b[0m\u001b[0m\n\u001b[0;32m    132\u001b[0m \u001b[0mparams\u001b[0m\u001b[1;33m[\u001b[0m\u001b[1;34m'min_split_gain'\u001b[0m\u001b[1;33m]\u001b[0m \u001b[1;33m=\u001b[0m \u001b[0mbest_params\u001b[0m\u001b[1;33m[\u001b[0m\u001b[1;34m'min_split_gain'\u001b[0m\u001b[1;33m]\u001b[0m\u001b[1;33m\u001b[0m\u001b[0m\n",
      "\u001b[1;31mKeyError\u001b[0m: 'lambda_l1'"
     ]
    }
   ],
   "source": [
    "params = {\n",
    "          'boosting_type': 'gbdt',\n",
    "          'objective': 'mse',\n",
    "          'metric': 'rmse',\n",
    "          }\n",
    "print('交叉验证')\n",
    "min_merror = float('Inf')\n",
    "best_params = {}\n",
    "\n",
    "# 准确率\n",
    "print(\"调参1：提高准确率\")\n",
    "for num_leaves in range(20,200,5):\n",
    "    for max_depth in range(3,8,1):\n",
    "        params['num_leaves'] = num_leaves\n",
    "        params['max_depth'] = max_depth\n",
    "\n",
    "        cv_results = lgb.cv(\n",
    "                            params,\n",
    "                            lgb_train,\n",
    "                            seed=2018,\n",
    "                            nfold=3,\n",
    "                            early_stopping_rounds=10,\n",
    "                            verbose_eval=50,\n",
    "                            stratified=False\n",
    "                            )\n",
    "            \n",
    "        mean_merror = pd.Series(cv_results['rmse-stdv']).min()\n",
    "        boost_rounds = pd.Series(cv_results['rmse-stdv']).argmin()\n",
    "            \n",
    "        if mean_merror < min_merror:\n",
    "            min_merror = mean_merror\n",
    "            best_params['num_leaves'] = num_leaves\n",
    "            best_params['max_depth'] = max_depth\n",
    "            \n",
    "            params['num_leaves'] = best_params['num_leaves']\n",
    "            params['max_depth'] = best_params['max_depth']\n",
    "\n",
    "# 过拟合\n",
    "print(\"调参2：降低过拟合\")\n",
    "for max_bin in range(2,255,5):\n",
    "    for min_data_in_leaf in range(10,200,10):\n",
    "            params['max_bin'] = max_bin\n",
    "            params['min_data_in_leaf'] = min_data_in_leaf\n",
    "            \n",
    "            cv_results = lgb.cv(\n",
    "                                params,\n",
    "                                lgb_train,\n",
    "                                seed=42,\n",
    "                                nfold=3,\n",
    "                                early_stopping_rounds=3,\n",
    "                                verbose_eval=50,\n",
    "                                stratified=False\n",
    "                                )\n",
    "                    \n",
    "            mean_merror = pd.Series(cv_results['rmse-stdv']).min()\n",
    "            boost_rounds = pd.Series(cv_results['rmse-stdv']).argmin()\n",
    "\n",
    "            if mean_merror < min_merror:\n",
    "                min_merror = mean_merror\n",
    "                best_params['max_bin']= max_bin\n",
    "                best_params['min_data_in_leaf'] = min_data_in_leaf\n",
    "\n",
    "params['min_data_in_leaf'] = best_params['min_data_in_leaf']\n",
    "params['max_bin'] = best_params['max_bin']\n",
    "\n",
    "print(\"调参3：降低过拟合\")\n",
    "i=0\n",
    "for feature_fraction in [0.1,0.3,0.5,0.7,0.9]:\n",
    "    for bagging_fraction in [0.1,0.3,0.5,0.7,0.9]:\n",
    "        for bagging_freq in range(1,50,10):\n",
    "            params['feature_fraction'] = feature_fraction\n",
    "            params['bagging_fraction'] = bagging_fraction\n",
    "            params['bagging_freq'] = bagging_freq\n",
    "            \n",
    "            cv_results = lgb.cv(\n",
    "                                params,\n",
    "                                lgb_train,\n",
    "                                seed=42,\n",
    "                                nfold=3,\n",
    "                                early_stopping_rounds=3,\n",
    "                                verbose_eval=50,\n",
    "                                stratified=False\n",
    "                                )\n",
    "            i+=1\n",
    "            print('调参3 : '+str(i))\n",
    "            mean_merror = pd.Series(cv_results['rmse-stdv']).min()\n",
    "            boost_rounds = pd.Series(cv_results['rmse-stdv']).argmin()\n",
    "            \n",
    "\n",
    "            if mean_merror < min_merror:\n",
    "                min_merror = mean_merror\n",
    "                best_params['feature_fraction'] = feature_fraction\n",
    "                best_params['bagging_fraction'] = bagging_fraction\n",
    "                best_params['bagging_freq'] = bagging_freq\n",
    "\n",
    "params['feature_fraction'] = best_params['feature_fraction']\n",
    "params['bagging_fraction'] = best_params['bagging_fraction']\n",
    "params['bagging_freq'] = best_params['bagging_freq']\n",
    "\n",
    "\n",
    "\n",
    "### 训练\n"
   ]
  },
  {
   "cell_type": "code",
   "execution_count": 103,
   "metadata": {
    "ExecuteTime": {
     "end_time": "2018-07-06T06:21:08.259190Z",
     "start_time": "2018-07-06T06:07:30.485075Z"
    }
   },
   "outputs": [
    {
     "name": "stdout",
     "output_type": "stream",
     "text": [
      "调参4：降低过拟合\n",
      "调参4 : 1\n",
      "调参4 : 2\n",
      "调参4 : 3\n",
      "调参4 : 4\n",
      "调参4 : 5\n",
      "调参4 : 6\n",
      "调参4 : 7\n",
      "调参4 : 8\n",
      "调参4 : 9\n",
      "调参4 : 10\n",
      "调参4 : 11\n",
      "调参4 : 12\n",
      "调参4 : 13\n",
      "调参4 : 14\n",
      "调参4 : 15\n",
      "调参4 : 16\n",
      "调参4 : 17\n",
      "调参4 : 18\n",
      "调参4 : 19\n",
      "调参4 : 20\n",
      "调参4 : 21\n",
      "调参4 : 22\n",
      "调参4 : 23\n",
      "调参4 : 24\n",
      "调参4 : 25\n",
      "调参4 : 26\n",
      "调参4 : 27\n",
      "调参4 : 28\n",
      "调参4 : 29\n",
      "调参4 : 30\n",
      "调参4 : 31\n",
      "调参4 : 32\n",
      "调参4 : 33\n",
      "调参4 : 34\n",
      "调参4 : 35\n",
      "调参4 : 36\n",
      "调参4 : 37\n",
      "调参4 : 38\n",
      "调参4 : 39\n",
      "调参4 : 40\n",
      "调参4 : 41\n",
      "调参4 : 42\n",
      "调参4 : 43\n",
      "调参4 : 44\n",
      "调参4 : 45\n",
      "调参4 : 46\n",
      "调参4 : 47\n",
      "调参4 : 48\n",
      "调参4 : 49\n",
      "调参4 : 50\n",
      "调参4 : 51\n",
      "调参4 : 52\n",
      "调参4 : 53\n",
      "调参4 : 54\n",
      "调参4 : 55\n",
      "调参4 : 56\n",
      "调参4 : 57\n",
      "调参4 : 58\n",
      "调参4 : 59\n",
      "调参4 : 60\n",
      "调参4 : 61\n",
      "调参4 : 62\n",
      "调参4 : 63\n",
      "调参4 : 64\n",
      "调参4 : 65\n",
      "调参4 : 66\n",
      "调参4 : 67\n",
      "调参4 : 68\n",
      "调参4 : 69\n",
      "调参4 : 70\n",
      "调参4 : 71\n",
      "调参4 : 72\n",
      "调参4 : 73\n",
      "调参4 : 74\n",
      "调参4 : 75\n",
      "调参4 : 76\n",
      "调参4 : 77\n",
      "调参4 : 78\n",
      "调参4 : 79\n",
      "调参4 : 80\n",
      "调参4 : 81\n",
      "调参4 : 82\n",
      "调参4 : 83\n",
      "调参4 : 84\n",
      "调参4 : 85\n",
      "调参4 : 86\n",
      "调参4 : 87\n",
      "调参4 : 88\n",
      "调参4 : 89\n",
      "调参4 : 90\n",
      "调参4 : 91\n",
      "调参4 : 92\n",
      "调参4 : 93\n",
      "调参4 : 94\n",
      "调参4 : 95\n",
      "调参4 : 96\n",
      "调参4 : 97\n",
      "调参4 : 98\n",
      "调参4 : 99\n",
      "调参4 : 100\n",
      "调参4 : 101\n",
      "调参4 : 102\n",
      "调参4 : 103\n",
      "调参4 : 104\n",
      "调参4 : 105\n",
      "调参4 : 106\n",
      "调参4 : 107\n",
      "调参4 : 108\n",
      "调参4 : 109\n",
      "调参4 : 110\n",
      "调参4 : 111\n",
      "调参4 : 112\n",
      "调参4 : 113\n",
      "调参4 : 114\n",
      "调参4 : 115\n",
      "调参4 : 116\n",
      "调参4 : 117\n",
      "调参4 : 118\n",
      "调参4 : 119\n",
      "调参4 : 120\n",
      "调参4 : 121\n",
      "调参4 : 122\n",
      "调参4 : 123\n",
      "调参4 : 124\n",
      "调参4 : 125\n",
      "{'num_leaves': 20, 'max_depth': 5, 'max_bin': 2, 'min_data_in_leaf': 10, 'feature_fraction': 0.7, 'bagging_fraction': 0.9, 'bagging_freq': 21}\n"
     ]
    }
   ],
   "source": [
    "k=0\n",
    "print(\"调参4：降低过拟合\")\n",
    "for lambda_l1 in [0.1,0.3,0.5,0.7,0.9]:\n",
    "    for lambda_l2 in [0.1,0.3,0.5,0.7,0.9]:\n",
    "        for min_split_gain in [0.1,0.3,0.5,0.7,0.9]:\n",
    "            params['lambda_l1'] = lambda_l1\n",
    "            params['lambda_l2'] = lambda_l2\n",
    "            params['min_split_gain'] = min_split_gain\n",
    "            \n",
    "                  \n",
    "            cv_results = lgb.cv(\n",
    "                                params,\n",
    "                                lgb_train,\n",
    "                                seed=42,\n",
    "                                nfold=3,\n",
    "                                early_stopping_rounds=3,\n",
    "                                verbose_eval=50,\n",
    "                                 stratified=False\n",
    "                                )\n",
    "            k+=1\n",
    "            print('调参4 : '+str(k))\n",
    "            mean_merror = pd.Series(cv_results['rmse-stdv']).min()\n",
    "            boost_rounds = pd.Series(cv_results['rmse-stdv']).argmin()\n",
    "\n",
    "            if mean_merror < min_merror:\n",
    "                min_merror = mean_merror\n",
    "                best_params['lambda_l1'] = lambda_l1\n",
    "                best_params['lambda_l2'] = lambda_l2\n",
    "                best_params['min_split_gain'] = min_split_gain\n",
    "                params['lambda_l1'] = best_params['lambda_l1']\n",
    "                params['lambda_l2'] = best_params['lambda_l2']\n",
    "                params['min_split_gain'] = best_params['min_split_gain']\n",
    "\n",
    "\n",
    "print(best_params)"
   ]
  },
  {
   "cell_type": "code",
   "execution_count": 118,
   "metadata": {
    "ExecuteTime": {
     "end_time": "2018-07-06T07:20:50.525418Z",
     "start_time": "2018-07-06T07:19:46.244741Z"
    }
   },
   "outputs": [
    {
     "name": "stdout",
     "output_type": "stream",
     "text": [
      "[1]\ttraining's rmse: 89.8904\tvalid_1's rmse: 83.381\n",
      "Training until validation scores don't improve for 50 rounds.\n",
      "[2]\ttraining's rmse: 89.4418\tvalid_1's rmse: 82.9877\n",
      "[3]\ttraining's rmse: 88.9469\tvalid_1's rmse: 82.593\n",
      "[4]\ttraining's rmse: 88.4663\tvalid_1's rmse: 82.2255\n",
      "[5]\ttraining's rmse: 88.001\tvalid_1's rmse: 81.8847\n",
      "[6]\ttraining's rmse: 87.5397\tvalid_1's rmse: 81.5251\n",
      "[7]\ttraining's rmse: 87.0835\tvalid_1's rmse: 81.1804\n",
      "[8]\ttraining's rmse: 86.6552\tvalid_1's rmse: 80.7739\n",
      "[9]\ttraining's rmse: 86.2153\tvalid_1's rmse: 80.4212\n",
      "[10]\ttraining's rmse: 85.7893\tvalid_1's rmse: 80.0303\n",
      "[11]\ttraining's rmse: 85.3521\tvalid_1's rmse: 79.6812\n",
      "[12]\ttraining's rmse: 84.931\tvalid_1's rmse: 79.3298\n",
      "[13]\ttraining's rmse: 84.5029\tvalid_1's rmse: 78.9621\n",
      "[14]\ttraining's rmse: 84.1076\tvalid_1's rmse: 78.6264\n",
      "[15]\ttraining's rmse: 83.6882\tvalid_1's rmse: 78.3133\n",
      "[16]\ttraining's rmse: 83.2989\tvalid_1's rmse: 77.9341\n",
      "[17]\ttraining's rmse: 82.8857\tvalid_1's rmse: 77.6016\n",
      "[18]\ttraining's rmse: 82.4706\tvalid_1's rmse: 77.2597\n",
      "[19]\ttraining's rmse: 82.0855\tvalid_1's rmse: 76.9146\n",
      "[20]\ttraining's rmse: 81.6955\tvalid_1's rmse: 76.5931\n",
      "[21]\ttraining's rmse: 81.2974\tvalid_1's rmse: 76.2875\n",
      "[22]\ttraining's rmse: 80.887\tvalid_1's rmse: 75.9642\n",
      "[23]\ttraining's rmse: 80.4931\tvalid_1's rmse: 75.6435\n",
      "[24]\ttraining's rmse: 80.0814\tvalid_1's rmse: 75.3427\n",
      "[25]\ttraining's rmse: 79.6456\tvalid_1's rmse: 74.9757\n",
      "[26]\ttraining's rmse: 79.2517\tvalid_1's rmse: 74.6671\n",
      "[27]\ttraining's rmse: 78.8962\tvalid_1's rmse: 74.3894\n",
      "[28]\ttraining's rmse: 78.5252\tvalid_1's rmse: 74.1033\n",
      "[29]\ttraining's rmse: 78.1716\tvalid_1's rmse: 73.8109\n",
      "[30]\ttraining's rmse: 77.7643\tvalid_1's rmse: 73.5053\n",
      "[31]\ttraining's rmse: 77.347\tvalid_1's rmse: 73.1974\n",
      "[32]\ttraining's rmse: 76.9815\tvalid_1's rmse: 72.9061\n",
      "[33]\ttraining's rmse: 76.5866\tvalid_1's rmse: 72.5911\n",
      "[34]\ttraining's rmse: 76.1856\tvalid_1's rmse: 72.3065\n",
      "[35]\ttraining's rmse: 75.8308\tvalid_1's rmse: 71.9839\n",
      "[36]\ttraining's rmse: 75.4429\tvalid_1's rmse: 71.7582\n",
      "[37]\ttraining's rmse: 75.0554\tvalid_1's rmse: 71.4791\n",
      "[38]\ttraining's rmse: 74.6835\tvalid_1's rmse: 71.2278\n",
      "[39]\ttraining's rmse: 74.306\tvalid_1's rmse: 70.9578\n",
      "[40]\ttraining's rmse: 73.9352\tvalid_1's rmse: 70.7\n",
      "[41]\ttraining's rmse: 73.5921\tvalid_1's rmse: 70.4781\n",
      "[42]\ttraining's rmse: 73.2621\tvalid_1's rmse: 70.2543\n",
      "[43]\ttraining's rmse: 72.9748\tvalid_1's rmse: 70.0292\n",
      "[44]\ttraining's rmse: 72.6929\tvalid_1's rmse: 69.7452\n",
      "[45]\ttraining's rmse: 72.4157\tvalid_1's rmse: 69.4978\n",
      "[46]\ttraining's rmse: 72.1505\tvalid_1's rmse: 69.2636\n",
      "[47]\ttraining's rmse: 71.8782\tvalid_1's rmse: 69.029\n",
      "[48]\ttraining's rmse: 71.6076\tvalid_1's rmse: 68.7665\n",
      "[49]\ttraining's rmse: 71.3318\tvalid_1's rmse: 68.499\n",
      "[50]\ttraining's rmse: 71.0699\tvalid_1's rmse: 68.2669\n",
      "[51]\ttraining's rmse: 70.7841\tvalid_1's rmse: 68.0587\n",
      "[52]\ttraining's rmse: 70.5201\tvalid_1's rmse: 67.8378\n",
      "[53]\ttraining's rmse: 70.2718\tvalid_1's rmse: 67.6302\n",
      "[54]\ttraining's rmse: 70.0169\tvalid_1's rmse: 67.3878\n",
      "[55]\ttraining's rmse: 69.7578\tvalid_1's rmse: 67.1586\n",
      "[56]\ttraining's rmse: 69.5196\tvalid_1's rmse: 66.9539\n",
      "[57]\ttraining's rmse: 69.2727\tvalid_1's rmse: 66.7371\n",
      "[58]\ttraining's rmse: 69.0399\tvalid_1's rmse: 66.5209\n",
      "[59]\ttraining's rmse: 68.7873\tvalid_1's rmse: 66.3078\n",
      "[60]\ttraining's rmse: 68.5601\tvalid_1's rmse: 66.0941\n",
      "[61]\ttraining's rmse: 68.3228\tvalid_1's rmse: 65.8965\n",
      "[62]\ttraining's rmse: 68.1\tvalid_1's rmse: 65.718\n",
      "[63]\ttraining's rmse: 67.873\tvalid_1's rmse: 65.5255\n",
      "[64]\ttraining's rmse: 67.6144\tvalid_1's rmse: 65.3131\n",
      "[65]\ttraining's rmse: 67.3717\tvalid_1's rmse: 65.0999\n",
      "[66]\ttraining's rmse: 67.1224\tvalid_1's rmse: 64.8903\n",
      "[67]\ttraining's rmse: 66.89\tvalid_1's rmse: 64.6884\n",
      "[68]\ttraining's rmse: 66.6516\tvalid_1's rmse: 64.5125\n",
      "[69]\ttraining's rmse: 66.4217\tvalid_1's rmse: 64.3165\n",
      "[70]\ttraining's rmse: 66.1894\tvalid_1's rmse: 64.1957\n",
      "[71]\ttraining's rmse: 65.9461\tvalid_1's rmse: 64.0646\n",
      "[72]\ttraining's rmse: 65.7298\tvalid_1's rmse: 63.933\n",
      "[73]\ttraining's rmse: 65.511\tvalid_1's rmse: 63.7503\n",
      "[74]\ttraining's rmse: 65.2954\tvalid_1's rmse: 63.5703\n",
      "[75]\ttraining's rmse: 65.0974\tvalid_1's rmse: 63.4542\n",
      "[76]\ttraining's rmse: 64.8806\tvalid_1's rmse: 63.336\n",
      "[77]\ttraining's rmse: 64.6675\tvalid_1's rmse: 63.2224\n",
      "[78]\ttraining's rmse: 64.4427\tvalid_1's rmse: 63.0878\n",
      "[79]\ttraining's rmse: 64.2405\tvalid_1's rmse: 62.9721\n",
      "[80]\ttraining's rmse: 64.0537\tvalid_1's rmse: 62.8568\n",
      "[81]\ttraining's rmse: 63.8451\tvalid_1's rmse: 62.7148\n",
      "[82]\ttraining's rmse: 63.6479\tvalid_1's rmse: 62.5416\n",
      "[83]\ttraining's rmse: 63.4562\tvalid_1's rmse: 62.3819\n",
      "[84]\ttraining's rmse: 63.2418\tvalid_1's rmse: 62.2914\n",
      "[85]\ttraining's rmse: 63.0325\tvalid_1's rmse: 62.1255\n",
      "[86]\ttraining's rmse: 62.8329\tvalid_1's rmse: 61.9628\n",
      "[87]\ttraining's rmse: 62.6223\tvalid_1's rmse: 61.8115\n",
      "[88]\ttraining's rmse: 62.4324\tvalid_1's rmse: 61.6614\n",
      "[89]\ttraining's rmse: 62.2636\tvalid_1's rmse: 61.5242\n",
      "[90]\ttraining's rmse: 62.0476\tvalid_1's rmse: 61.377\n",
      "[91]\ttraining's rmse: 61.842\tvalid_1's rmse: 61.2238\n",
      "[92]\ttraining's rmse: 61.654\tvalid_1's rmse: 61.0808\n",
      "[93]\ttraining's rmse: 61.453\tvalid_1's rmse: 60.936\n",
      "[94]\ttraining's rmse: 61.2781\tvalid_1's rmse: 60.7957\n",
      "[95]\ttraining's rmse: 61.1061\tvalid_1's rmse: 60.6622\n",
      "[96]\ttraining's rmse: 60.9134\tvalid_1's rmse: 60.5263\n",
      "[97]\ttraining's rmse: 60.7194\tvalid_1's rmse: 60.4208\n",
      "[98]\ttraining's rmse: 60.5327\tvalid_1's rmse: 60.3006\n",
      "[99]\ttraining's rmse: 60.3375\tvalid_1's rmse: 60.165\n",
      "[100]\ttraining's rmse: 60.154\tvalid_1's rmse: 60.035\n",
      "[101]\ttraining's rmse: 59.971\tvalid_1's rmse: 59.9422\n",
      "[102]\ttraining's rmse: 59.7904\tvalid_1's rmse: 59.8155\n",
      "[103]\ttraining's rmse: 59.6283\tvalid_1's rmse: 59.7596\n",
      "[104]\ttraining's rmse: 59.4434\tvalid_1's rmse: 59.6416\n",
      "[105]\ttraining's rmse: 59.2491\tvalid_1's rmse: 59.5469\n",
      "[106]\ttraining's rmse: 59.0313\tvalid_1's rmse: 59.4405\n",
      "[107]\ttraining's rmse: 58.8491\tvalid_1's rmse: 59.3207\n",
      "[108]\ttraining's rmse: 58.6606\tvalid_1's rmse: 59.1876\n",
      "[109]\ttraining's rmse: 58.4928\tvalid_1's rmse: 59.0786\n",
      "[110]\ttraining's rmse: 58.3378\tvalid_1's rmse: 58.9665\n",
      "[111]\ttraining's rmse: 58.1708\tvalid_1's rmse: 58.8816\n",
      "[112]\ttraining's rmse: 58.015\tvalid_1's rmse: 58.8059\n",
      "[113]\ttraining's rmse: 57.8213\tvalid_1's rmse: 58.7519\n",
      "[114]\ttraining's rmse: 57.6194\tvalid_1's rmse: 58.6874\n",
      "[115]\ttraining's rmse: 57.4555\tvalid_1's rmse: 58.6208\n",
      "[116]\ttraining's rmse: 57.2574\tvalid_1's rmse: 58.5351\n",
      "[117]\ttraining's rmse: 57.097\tvalid_1's rmse: 58.4405\n",
      "[118]\ttraining's rmse: 56.9362\tvalid_1's rmse: 58.3504\n",
      "[119]\ttraining's rmse: 56.7683\tvalid_1's rmse: 58.287\n",
      "[120]\ttraining's rmse: 56.5769\tvalid_1's rmse: 58.222\n",
      "[121]\ttraining's rmse: 56.3993\tvalid_1's rmse: 58.1795\n",
      "[122]\ttraining's rmse: 56.2223\tvalid_1's rmse: 58.1015\n",
      "[123]\ttraining's rmse: 56.0233\tvalid_1's rmse: 58.0295\n",
      "[124]\ttraining's rmse: 55.8471\tvalid_1's rmse: 57.9726\n",
      "[125]\ttraining's rmse: 55.6576\tvalid_1's rmse: 57.9115\n",
      "[126]\ttraining's rmse: 55.4797\tvalid_1's rmse: 57.8792\n",
      "[127]\ttraining's rmse: 55.3643\tvalid_1's rmse: 57.83\n",
      "[128]\ttraining's rmse: 55.2545\tvalid_1's rmse: 57.7739\n",
      "[129]\ttraining's rmse: 55.1458\tvalid_1's rmse: 57.7188\n",
      "[130]\ttraining's rmse: 55.0439\tvalid_1's rmse: 57.6612\n",
      "[131]\ttraining's rmse: 54.9284\tvalid_1's rmse: 57.6107\n",
      "[132]\ttraining's rmse: 54.8185\tvalid_1's rmse: 57.5827\n",
      "[133]\ttraining's rmse: 54.7094\tvalid_1's rmse: 57.5461\n",
      "[134]\ttraining's rmse: 54.5967\tvalid_1's rmse: 57.4725\n",
      "[135]\ttraining's rmse: 54.494\tvalid_1's rmse: 57.4024\n",
      "[136]\ttraining's rmse: 54.3908\tvalid_1's rmse: 57.3654\n",
      "[137]\ttraining's rmse: 54.2843\tvalid_1's rmse: 57.3241\n",
      "[138]\ttraining's rmse: 54.1907\tvalid_1's rmse: 57.2774\n",
      "[139]\ttraining's rmse: 54.0847\tvalid_1's rmse: 57.254\n",
      "[140]\ttraining's rmse: 53.9776\tvalid_1's rmse: 57.2449\n",
      "[141]\ttraining's rmse: 53.8665\tvalid_1's rmse: 57.184\n",
      "[142]\ttraining's rmse: 53.7612\tvalid_1's rmse: 57.139\n",
      "[143]\ttraining's rmse: 53.6568\tvalid_1's rmse: 57.0663\n",
      "[144]\ttraining's rmse: 53.5689\tvalid_1's rmse: 57.0074\n",
      "[145]\ttraining's rmse: 53.4748\tvalid_1's rmse: 56.9873\n",
      "[146]\ttraining's rmse: 53.3704\tvalid_1's rmse: 56.9387\n",
      "[147]\ttraining's rmse: 53.2655\tvalid_1's rmse: 56.9205\n",
      "[148]\ttraining's rmse: 53.1215\tvalid_1's rmse: 56.9015\n",
      "[149]\ttraining's rmse: 52.9734\tvalid_1's rmse: 56.8795\n",
      "[150]\ttraining's rmse: 52.8695\tvalid_1's rmse: 56.8652\n",
      "[151]\ttraining's rmse: 52.7689\tvalid_1's rmse: 56.8527\n"
     ]
    },
    {
     "name": "stdout",
     "output_type": "stream",
     "text": [
      "[152]\ttraining's rmse: 52.6699\tvalid_1's rmse: 56.831\n",
      "[153]\ttraining's rmse: 52.5664\tvalid_1's rmse: 56.7834\n",
      "[154]\ttraining's rmse: 52.4731\tvalid_1's rmse: 56.7788\n",
      "[155]\ttraining's rmse: 52.3559\tvalid_1's rmse: 56.7599\n",
      "[156]\ttraining's rmse: 52.2238\tvalid_1's rmse: 56.7176\n",
      "[157]\ttraining's rmse: 52.09\tvalid_1's rmse: 56.7022\n",
      "[158]\ttraining's rmse: 51.9868\tvalid_1's rmse: 56.6852\n",
      "[159]\ttraining's rmse: 51.858\tvalid_1's rmse: 56.6621\n",
      "[160]\ttraining's rmse: 51.7645\tvalid_1's rmse: 56.6483\n",
      "[161]\ttraining's rmse: 51.6697\tvalid_1's rmse: 56.6004\n",
      "[162]\ttraining's rmse: 51.585\tvalid_1's rmse: 56.5932\n",
      "[163]\ttraining's rmse: 51.4697\tvalid_1's rmse: 56.58\n",
      "[164]\ttraining's rmse: 51.378\tvalid_1's rmse: 56.5691\n",
      "[165]\ttraining's rmse: 51.2858\tvalid_1's rmse: 56.5608\n",
      "[166]\ttraining's rmse: 51.1849\tvalid_1's rmse: 56.5247\n",
      "[167]\ttraining's rmse: 51.0947\tvalid_1's rmse: 56.5075\n",
      "[168]\ttraining's rmse: 50.966\tvalid_1's rmse: 56.4996\n",
      "[169]\ttraining's rmse: 50.8714\tvalid_1's rmse: 56.4279\n",
      "[170]\ttraining's rmse: 50.7561\tvalid_1's rmse: 56.399\n",
      "[171]\ttraining's rmse: 50.6448\tvalid_1's rmse: 56.3904\n",
      "[172]\ttraining's rmse: 50.5391\tvalid_1's rmse: 56.3484\n",
      "[173]\ttraining's rmse: 50.4294\tvalid_1's rmse: 56.3152\n",
      "[174]\ttraining's rmse: 50.3311\tvalid_1's rmse: 56.2834\n",
      "[175]\ttraining's rmse: 50.2305\tvalid_1's rmse: 56.2646\n",
      "[176]\ttraining's rmse: 50.1402\tvalid_1's rmse: 56.2288\n",
      "[177]\ttraining's rmse: 50.0458\tvalid_1's rmse: 56.1723\n",
      "[178]\ttraining's rmse: 49.9403\tvalid_1's rmse: 56.1167\n",
      "[179]\ttraining's rmse: 49.8533\tvalid_1's rmse: 56.0853\n",
      "[180]\ttraining's rmse: 49.7741\tvalid_1's rmse: 56.0766\n",
      "[181]\ttraining's rmse: 49.6754\tvalid_1's rmse: 56.0381\n",
      "[182]\ttraining's rmse: 49.5887\tvalid_1's rmse: 55.9918\n",
      "[183]\ttraining's rmse: 49.5062\tvalid_1's rmse: 55.9495\n",
      "[184]\ttraining's rmse: 49.4239\tvalid_1's rmse: 55.9077\n",
      "[185]\ttraining's rmse: 49.3384\tvalid_1's rmse: 55.8867\n",
      "[186]\ttraining's rmse: 49.2671\tvalid_1's rmse: 55.8656\n",
      "[187]\ttraining's rmse: 49.1745\tvalid_1's rmse: 55.8255\n",
      "[188]\ttraining's rmse: 49.0872\tvalid_1's rmse: 55.8142\n",
      "[189]\ttraining's rmse: 49.0047\tvalid_1's rmse: 55.782\n",
      "[190]\ttraining's rmse: 48.9452\tvalid_1's rmse: 55.7729\n",
      "[191]\ttraining's rmse: 48.8883\tvalid_1's rmse: 55.7552\n",
      "[192]\ttraining's rmse: 48.8336\tvalid_1's rmse: 55.7407\n",
      "[193]\ttraining's rmse: 48.777\tvalid_1's rmse: 55.7403\n",
      "[194]\ttraining's rmse: 48.7116\tvalid_1's rmse: 55.7339\n",
      "[195]\ttraining's rmse: 48.6606\tvalid_1's rmse: 55.7238\n",
      "[196]\ttraining's rmse: 48.5931\tvalid_1's rmse: 55.7133\n",
      "[197]\ttraining's rmse: 48.5401\tvalid_1's rmse: 55.7062\n",
      "[198]\ttraining's rmse: 48.4887\tvalid_1's rmse: 55.696\n",
      "[199]\ttraining's rmse: 48.4379\tvalid_1's rmse: 55.6906\n",
      "[200]\ttraining's rmse: 48.384\tvalid_1's rmse: 55.6864\n",
      "[201]\ttraining's rmse: 48.3358\tvalid_1's rmse: 55.684\n",
      "[202]\ttraining's rmse: 48.2713\tvalid_1's rmse: 55.6703\n",
      "[203]\ttraining's rmse: 48.2206\tvalid_1's rmse: 55.6688\n",
      "[204]\ttraining's rmse: 48.1705\tvalid_1's rmse: 55.6635\n",
      "[205]\ttraining's rmse: 48.1156\tvalid_1's rmse: 55.6568\n",
      "[206]\ttraining's rmse: 48.0653\tvalid_1's rmse: 55.655\n",
      "[207]\ttraining's rmse: 48.0162\tvalid_1's rmse: 55.6647\n",
      "[208]\ttraining's rmse: 47.9606\tvalid_1's rmse: 55.6448\n",
      "[209]\ttraining's rmse: 47.901\tvalid_1's rmse: 55.5911\n",
      "[210]\ttraining's rmse: 47.8544\tvalid_1's rmse: 55.6005\n",
      "[211]\ttraining's rmse: 47.7832\tvalid_1's rmse: 55.5796\n",
      "[212]\ttraining's rmse: 47.7036\tvalid_1's rmse: 55.5994\n",
      "[213]\ttraining's rmse: 47.616\tvalid_1's rmse: 55.6185\n",
      "[214]\ttraining's rmse: 47.5509\tvalid_1's rmse: 55.6157\n",
      "[215]\ttraining's rmse: 47.468\tvalid_1's rmse: 55.6332\n",
      "[216]\ttraining's rmse: 47.3864\tvalid_1's rmse: 55.6556\n",
      "[217]\ttraining's rmse: 47.3116\tvalid_1's rmse: 55.669\n",
      "[218]\ttraining's rmse: 47.2425\tvalid_1's rmse: 55.6864\n",
      "[219]\ttraining's rmse: 47.1637\tvalid_1's rmse: 55.71\n",
      "[220]\ttraining's rmse: 47.114\tvalid_1's rmse: 55.7176\n",
      "[221]\ttraining's rmse: 47.0628\tvalid_1's rmse: 55.7192\n",
      "[222]\ttraining's rmse: 46.997\tvalid_1's rmse: 55.7358\n",
      "[223]\ttraining's rmse: 46.9285\tvalid_1's rmse: 55.7537\n",
      "[224]\ttraining's rmse: 46.8622\tvalid_1's rmse: 55.7723\n",
      "[225]\ttraining's rmse: 46.8085\tvalid_1's rmse: 55.7749\n",
      "[226]\ttraining's rmse: 46.7648\tvalid_1's rmse: 55.7799\n",
      "[227]\ttraining's rmse: 46.7102\tvalid_1's rmse: 55.7912\n",
      "[228]\ttraining's rmse: 46.6604\tvalid_1's rmse: 55.796\n",
      "[229]\ttraining's rmse: 46.5974\tvalid_1's rmse: 55.7665\n",
      "[230]\ttraining's rmse: 46.5441\tvalid_1's rmse: 55.7778\n",
      "[231]\ttraining's rmse: 46.4844\tvalid_1's rmse: 55.7514\n",
      "[232]\ttraining's rmse: 46.4424\tvalid_1's rmse: 55.7451\n",
      "[233]\ttraining's rmse: 46.3919\tvalid_1's rmse: 55.7338\n",
      "[234]\ttraining's rmse: 46.3548\tvalid_1's rmse: 55.7289\n",
      "[235]\ttraining's rmse: 46.3135\tvalid_1's rmse: 55.7315\n",
      "[236]\ttraining's rmse: 46.277\tvalid_1's rmse: 55.7195\n",
      "[237]\ttraining's rmse: 46.2416\tvalid_1's rmse: 55.7066\n",
      "[238]\ttraining's rmse: 46.2065\tvalid_1's rmse: 55.6955\n",
      "[239]\ttraining's rmse: 46.1488\tvalid_1's rmse: 55.6862\n",
      "[240]\ttraining's rmse: 46.1025\tvalid_1's rmse: 55.6965\n",
      "[241]\ttraining's rmse: 46.0671\tvalid_1's rmse: 55.6959\n",
      "[242]\ttraining's rmse: 46.0314\tvalid_1's rmse: 55.6979\n",
      "[243]\ttraining's rmse: 45.9923\tvalid_1's rmse: 55.7047\n",
      "[244]\ttraining's rmse: 45.9592\tvalid_1's rmse: 55.6985\n",
      "[245]\ttraining's rmse: 45.9286\tvalid_1's rmse: 55.7002\n",
      "[246]\ttraining's rmse: 45.8934\tvalid_1's rmse: 55.7096\n",
      "[247]\ttraining's rmse: 45.8563\tvalid_1's rmse: 55.6965\n",
      "[248]\ttraining's rmse: 45.8195\tvalid_1's rmse: 55.6871\n",
      "[249]\ttraining's rmse: 45.7704\tvalid_1's rmse: 55.7022\n",
      "[250]\ttraining's rmse: 45.7375\tvalid_1's rmse: 55.6993\n",
      "[251]\ttraining's rmse: 45.7035\tvalid_1's rmse: 55.7033\n",
      "[252]\ttraining's rmse: 45.6726\tvalid_1's rmse: 55.6958\n",
      "[253]\ttraining's rmse: 45.6467\tvalid_1's rmse: 55.6891\n",
      "[254]\ttraining's rmse: 45.5742\tvalid_1's rmse: 55.6829\n",
      "[255]\ttraining's rmse: 45.5193\tvalid_1's rmse: 55.6923\n",
      "[256]\ttraining's rmse: 45.4823\tvalid_1's rmse: 55.6923\n",
      "[257]\ttraining's rmse: 45.4335\tvalid_1's rmse: 55.705\n",
      "[258]\ttraining's rmse: 45.3973\tvalid_1's rmse: 55.7044\n",
      "[259]\ttraining's rmse: 45.3691\tvalid_1's rmse: 55.6961\n",
      "[260]\ttraining's rmse: 45.34\tvalid_1's rmse: 55.7027\n",
      "[261]\ttraining's rmse: 45.2785\tvalid_1's rmse: 55.6925\n",
      "Early stopping, best iteration is:\n",
      "[211]\ttraining's rmse: 47.7832\tvalid_1's rmse: 55.5796\n"
     ]
    }
   ],
   "source": [
    "params['learning_rate']=0.01\n",
    "lgbm=lgb.train(\n",
    "          params,                     # 参数字典\n",
    "          train,                  # 训练集\n",
    "          valid_sets=[train,test],        # 验证集\n",
    "          num_boost_round=2000,       # 迭代次数\n",
    "          early_stopping_rounds=50    # 早停次数\n",
    "          )"
   ]
  },
  {
   "cell_type": "code",
   "execution_count": null,
   "metadata": {
    "ExecuteTime": {
     "end_time": "2018-07-06T06:30:48.674600Z",
     "start_time": "2018-07-06T06:30:48.657599Z"
    }
   },
   "outputs": [],
   "source": []
  },
  {
   "cell_type": "code",
   "execution_count": 116,
   "metadata": {
    "ExecuteTime": {
     "end_time": "2018-07-06T07:14:13.068305Z",
     "start_time": "2018-07-06T07:14:13.052705Z"
    }
   },
   "outputs": [],
   "source": [
    "from sklearn.externals import joblib\n",
    "import pickle"
   ]
  },
  {
   "cell_type": "code",
   "execution_count": 119,
   "metadata": {
    "ExecuteTime": {
     "end_time": "2018-07-06T07:22:12.026080Z",
     "start_time": "2018-07-06T07:22:11.937074Z"
    }
   },
   "outputs": [
    {
     "data": {
      "text/plain": [
       "['F:\\\\study\\\\ml\\\\DataSet\\\\Tap4fun\\\\lgbmModel.gz']"
      ]
     },
     "execution_count": 119,
     "metadata": {},
     "output_type": "execute_result"
    }
   ],
   "source": [
    "joblib.dump(value=lgbm,filename=\"F:\\\\study\\\\ml\\\\DataSet\\\\Tap4fun\\\\lgbmModel.gz\",compress=True)"
   ]
  },
  {
   "cell_type": "code",
   "execution_count": null,
   "metadata": {},
   "outputs": [],
   "source": [
    "from  sklearn.metrics import mean_squared_error"
   ]
  },
  {
   "cell_type": "code",
   "execution_count": 123,
   "metadata": {
    "ExecuteTime": {
     "end_time": "2018-07-06T07:32:10.921334Z",
     "start_time": "2018-07-06T07:32:06.376074Z"
    }
   },
   "outputs": [
    {
     "data": {
      "text/plain": [
       "55.57963092705278"
      ]
     },
     "execution_count": 123,
     "metadata": {},
     "output_type": "execute_result"
    }
   ],
   "source": [
    "np.sqrt(mean_squared_error(y_test,lgbm.predict(X_test)))"
   ]
  },
  {
   "cell_type": "code",
   "execution_count": null,
   "metadata": {},
   "outputs": [],
   "source": []
  },
  {
   "cell_type": "code",
   "execution_count": null,
   "metadata": {},
   "outputs": [],
   "source": []
  },
  {
   "cell_type": "code",
   "execution_count": null,
   "metadata": {},
   "outputs": [],
   "source": []
  },
  {
   "cell_type": "code",
   "execution_count": null,
   "metadata": {},
   "outputs": [],
   "source": []
  },
  {
   "cell_type": "code",
   "execution_count": null,
   "metadata": {},
   "outputs": [],
   "source": []
  },
  {
   "cell_type": "code",
   "execution_count": null,
   "metadata": {},
   "outputs": [],
   "source": []
  },
  {
   "cell_type": "code",
   "execution_count": null,
   "metadata": {},
   "outputs": [],
   "source": []
  },
  {
   "cell_type": "code",
   "execution_count": null,
   "metadata": {},
   "outputs": [],
   "source": []
  },
  {
   "cell_type": "code",
   "execution_count": null,
   "metadata": {},
   "outputs": [],
   "source": []
  },
  {
   "cell_type": "code",
   "execution_count": null,
   "metadata": {},
   "outputs": [],
   "source": []
  },
  {
   "cell_type": "code",
   "execution_count": null,
   "metadata": {},
   "outputs": [],
   "source": []
  },
  {
   "cell_type": "code",
   "execution_count": null,
   "metadata": {},
   "outputs": [],
   "source": []
  },
  {
   "cell_type": "code",
   "execution_count": null,
   "metadata": {},
   "outputs": [],
   "source": []
  },
  {
   "cell_type": "code",
   "execution_count": null,
   "metadata": {},
   "outputs": [],
   "source": []
  }
 ],
 "metadata": {
  "kernelspec": {
   "display_name": "Python 3",
   "language": "python",
   "name": "python3"
  },
  "language_info": {
   "codemirror_mode": {
    "name": "ipython",
    "version": 3
   },
   "file_extension": ".py",
   "mimetype": "text/x-python",
   "name": "python",
   "nbconvert_exporter": "python",
   "pygments_lexer": "ipython3",
   "version": "3.6.3"
  }
 },
 "nbformat": 4,
 "nbformat_minor": 2
}
