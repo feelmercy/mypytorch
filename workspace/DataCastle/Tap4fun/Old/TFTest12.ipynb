{
 "cells": [
  {
   "cell_type": "code",
   "execution_count": null,
   "metadata": {
    "ExecuteTime": {
     "end_time": "2018-07-04T08:21:54.333238Z",
     "start_time": "2018-07-04T08:21:53.591596Z"
    }
   },
   "outputs": [],
   "source": [
    "import pandas as pd\n",
    "import numpy as np"
   ]
  },
  {
   "cell_type": "code",
   "execution_count": null,
   "metadata": {
    "ExecuteTime": {
     "end_time": "2018-07-04T08:21:54.345239Z",
     "start_time": "2018-07-04T08:21:54.334238Z"
    }
   },
   "outputs": [],
   "source": [
    "df_train=pd.read_csv('F:\\\\study\\\\ml\\\\DataSet\\\\Tap4fun\\\\tap_fun_train.csv',nrows=5)"
   ]
  },
  {
   "cell_type": "code",
   "execution_count": null,
   "metadata": {
    "ExecuteTime": {
     "end_time": "2018-07-04T08:21:54.433244Z",
     "start_time": "2018-07-04T08:21:54.346239Z"
    }
   },
   "outputs": [],
   "source": [
    "df_train.info(memory_usage='deep')"
   ]
  },
  {
   "cell_type": "code",
   "execution_count": null,
   "metadata": {
    "ExecuteTime": {
     "end_time": "2018-07-04T08:21:54.620254Z",
     "start_time": "2018-07-04T08:21:54.434244Z"
    }
   },
   "outputs": [],
   "source": [
    "c_int=df_train.select_dtypes(include=['int64']).apply(pd.to_numeric,downcast='unsigned')\n",
    "c_float=df_train.select_dtypes(include=['float']).apply(pd.to_numeric,downcast='float')"
   ]
  },
  {
   "cell_type": "code",
   "execution_count": null,
   "metadata": {
    "ExecuteTime": {
     "end_time": "2018-07-04T08:21:54.669257Z",
     "start_time": "2018-07-04T08:21:54.621254Z"
    }
   },
   "outputs": [],
   "source": [
    "o_df=df_train.copy()"
   ]
  },
  {
   "cell_type": "code",
   "execution_count": null,
   "metadata": {
    "ExecuteTime": {
     "end_time": "2018-07-04T08:21:54.776263Z",
     "start_time": "2018-07-04T08:21:54.670257Z"
    }
   },
   "outputs": [],
   "source": [
    "o_df[c_int.columns]=c_int\n",
    "o_df[c_float.columns]=c_float"
   ]
  },
  {
   "cell_type": "code",
   "execution_count": null,
   "metadata": {
    "ExecuteTime": {
     "end_time": "2018-07-04T08:21:54.836267Z",
     "start_time": "2018-07-04T08:21:54.777263Z"
    }
   },
   "outputs": [],
   "source": [
    "dtypes=o_df.dtypes\n",
    "dtypes_col=dtypes.index\n",
    "dtypes_type=[i.name for i in dtypes.values]\n",
    "column_type=dict(zip(dtypes_col,dtypes_type))"
   ]
  },
  {
   "cell_type": "code",
   "execution_count": null,
   "metadata": {
    "ExecuteTime": {
     "end_time": "2018-07-04T08:21:54.912271Z",
     "start_time": "2018-07-04T08:21:54.838267Z"
    }
   },
   "outputs": [],
   "source": [
    "#column_type"
   ]
  },
  {
   "cell_type": "code",
   "execution_count": null,
   "metadata": {
    "ExecuteTime": {
     "end_time": "2018-07-04T08:21:54.991276Z",
     "start_time": "2018-07-04T08:21:54.913271Z"
    }
   },
   "outputs": [],
   "source": [
    "column_type.pop('register_time')"
   ]
  },
  {
   "cell_type": "code",
   "execution_count": null,
   "metadata": {
    "ExecuteTime": {
     "end_time": "2018-07-04T08:22:14.572396Z",
     "start_time": "2018-07-04T08:21:54.992276Z"
    }
   },
   "outputs": [],
   "source": [
    "data_train=pd.read_csv('F:\\\\study\\\\ml\\\\DataSet\\\\Tap4fun\\\\tap_fun_train.csv',\n",
    "                      dtype=column_type,parse_dates=['register_time'],infer_datetime_format=True)"
   ]
  },
  {
   "cell_type": "code",
   "execution_count": null,
   "metadata": {
    "ExecuteTime": {
     "end_time": "2018-07-04T08:22:14.587396Z",
     "start_time": "2018-07-04T08:22:14.574396Z"
    }
   },
   "outputs": [],
   "source": [
    "data_train.info(memory_usage='deep')"
   ]
  },
  {
   "cell_type": "code",
   "execution_count": null,
   "metadata": {
    "ExecuteTime": {
     "end_time": "2018-07-04T08:22:21.615798Z",
     "start_time": "2018-07-04T08:22:14.590397Z"
    }
   },
   "outputs": [],
   "source": [
    "data_test=pd.read_csv('F:\\\\study\\\\ml\\\\DataSet\\\\Tap4fun\\\\tap_fun_test.csv',\n",
    "                      dtype=column_type,parse_dates=['register_time'],infer_datetime_format=True)"
   ]
  },
  {
   "cell_type": "code",
   "execution_count": null,
   "metadata": {
    "ExecuteTime": {
     "end_time": "2018-07-04T08:22:21.626799Z",
     "start_time": "2018-07-04T08:22:21.617799Z"
    }
   },
   "outputs": [],
   "source": [
    "data_test.info(memory_usage='deep')"
   ]
  },
  {
   "cell_type": "code",
   "execution_count": null,
   "metadata": {
    "ExecuteTime": {
     "end_time": "2018-07-04T08:22:21.706804Z",
     "start_time": "2018-07-04T08:22:21.628799Z"
    }
   },
   "outputs": [],
   "source": [
    "train_feat=data_train\n",
    "test_feat=data_test\n"
   ]
  },
  {
   "cell_type": "code",
   "execution_count": null,
   "metadata": {
    "ExecuteTime": {
     "end_time": "2018-07-04T08:22:21.790808Z",
     "start_time": "2018-07-04T08:22:21.707804Z"
    }
   },
   "outputs": [],
   "source": [
    "train_feat.shape"
   ]
  },
  {
   "cell_type": "code",
   "execution_count": null,
   "metadata": {
    "ExecuteTime": {
     "end_time": "2018-07-04T08:22:21.864813Z",
     "start_time": "2018-07-04T08:22:21.791809Z"
    }
   },
   "outputs": [],
   "source": [
    "label_train=train_feat['prediction_pay_price']"
   ]
  },
  {
   "cell_type": "code",
   "execution_count": null,
   "metadata": {
    "ExecuteTime": {
     "end_time": "2018-07-04T08:22:21.946817Z",
     "start_time": "2018-07-04T08:22:21.865813Z"
    }
   },
   "outputs": [],
   "source": [
    "label_test=test_feat['wood_add_value']"
   ]
  },
  {
   "cell_type": "code",
   "execution_count": null,
   "metadata": {
    "ExecuteTime": {
     "end_time": "2018-07-04T08:22:22.065824Z",
     "start_time": "2018-07-04T08:22:21.947817Z"
    }
   },
   "outputs": [],
   "source": [
    "label_test[:]=-999.0"
   ]
  },
  {
   "cell_type": "code",
   "execution_count": null,
   "metadata": {
    "ExecuteTime": {
     "end_time": "2018-07-04T08:22:22.139828Z",
     "start_time": "2018-07-04T08:22:22.066824Z"
    }
   },
   "outputs": [],
   "source": [
    "#train_feat=train_feat.drop(['prediction_pay_price'],axis=1)"
   ]
  },
  {
   "cell_type": "code",
   "execution_count": null,
   "metadata": {
    "ExecuteTime": {
     "end_time": "2018-07-04T08:22:22.215833Z",
     "start_time": "2018-07-04T08:22:22.141829Z"
    }
   },
   "outputs": [],
   "source": [
    "train_feat.shape"
   ]
  },
  {
   "cell_type": "code",
   "execution_count": null,
   "metadata": {
    "ExecuteTime": {
     "end_time": "2018-07-04T08:22:22.282837Z",
     "start_time": "2018-07-04T08:22:22.216833Z"
    }
   },
   "outputs": [],
   "source": [
    "test_feat.shape"
   ]
  },
  {
   "cell_type": "code",
   "execution_count": null,
   "metadata": {
    "ExecuteTime": {
     "end_time": "2018-07-04T08:22:22.349840Z",
     "start_time": "2018-07-04T08:22:22.283837Z"
    }
   },
   "outputs": [],
   "source": [
    "#train_coorr1=train_feat.corr()"
   ]
  },
  {
   "cell_type": "code",
   "execution_count": null,
   "metadata": {
    "ExecuteTime": {
     "end_time": "2018-07-04T08:22:22.422845Z",
     "start_time": "2018-07-04T08:22:22.350840Z"
    }
   },
   "outputs": [],
   "source": [
    "#train_coorr1['prediction_pay_price'].sort_values(ascending=False).head(40)"
   ]
  },
  {
   "cell_type": "code",
   "execution_count": null,
   "metadata": {
    "ExecuteTime": {
     "end_time": "2018-07-04T08:22:22.515850Z",
     "start_time": "2018-07-04T08:22:22.423845Z"
    }
   },
   "outputs": [],
   "source": [
    "train_feat2=train_feat\n",
    "test_feat2=test_feat"
   ]
  },
  {
   "cell_type": "code",
   "execution_count": null,
   "metadata": {
    "ExecuteTime": {
     "end_time": "2018-07-04T08:22:22.621856Z",
     "start_time": "2018-07-04T08:22:22.516850Z"
    }
   },
   "outputs": [],
   "source": [
    "#train_feat=train_feat.drop(labels=['ivory_qua1','ivory_qua2'],axis=1)\n",
    "#train_feat2=train_feat.drop(labels=['ivory_qua1','ivory_qua2'],axis=1)"
   ]
  },
  {
   "cell_type": "code",
   "execution_count": null,
   "metadata": {
    "ExecuteTime": {
     "end_time": "2018-07-04T08:22:22.720862Z",
     "start_time": "2018-07-04T08:22:22.622856Z"
    }
   },
   "outputs": [],
   "source": [
    "train_feat2['ivory_qua1']=train_feat.ivory_add_value+train_feat.ivory_reduce_value\n",
    "train_feat2['ivory_qua2']=train_feat.ivory_add_value-train_feat.ivory_reduce_value"
   ]
  },
  {
   "cell_type": "code",
   "execution_count": null,
   "metadata": {
    "ExecuteTime": {
     "end_time": "2018-07-04T08:22:22.822867Z",
     "start_time": "2018-07-04T08:22:22.721862Z"
    }
   },
   "outputs": [],
   "source": [
    "train_feat2['stone_qua1']=train_feat.stone_add_value+train_feat.stone_reduce_value\n",
    "train_feat2['stone_qua2']=train_feat.stone_add_value-train_feat.stone_reduce_value"
   ]
  },
  {
   "cell_type": "code",
   "execution_count": null,
   "metadata": {
    "ExecuteTime": {
     "end_time": "2018-07-04T08:22:22.913873Z",
     "start_time": "2018-07-04T08:22:22.824868Z"
    }
   },
   "outputs": [],
   "source": [
    "train_feat2['meat_qua1']=train_feat.meat_add_value+train_feat.meat_reduce_value\n",
    "train_feat2['meat_qua2']=train_feat.meat_add_value-train_feat.meat_reduce_value"
   ]
  },
  {
   "cell_type": "code",
   "execution_count": null,
   "metadata": {
    "ExecuteTime": {
     "end_time": "2018-07-04T08:22:22.996877Z",
     "start_time": "2018-07-04T08:22:22.914873Z"
    }
   },
   "outputs": [],
   "source": [
    "train_feat2['wood_qua1']=train_feat.wood_add_value+train_feat.wood_reduce_value\n",
    "train_feat2['wood_qua2']=train_feat.wood_add_value-train_feat.wood_reduce_value"
   ]
  },
  {
   "cell_type": "code",
   "execution_count": null,
   "metadata": {
    "ExecuteTime": {
     "end_time": "2018-07-04T08:22:23.098883Z",
     "start_time": "2018-07-04T08:22:22.997877Z"
    }
   },
   "outputs": [],
   "source": [
    "# for test feat\n",
    "test_feat2['ivory_qua1']=test_feat.ivory_add_value+test_feat.ivory_reduce_value\n",
    "test_feat2['ivory_qua2']=test_feat.ivory_add_value-test_feat.ivory_reduce_value\n",
    "test_feat2['stone_qua1']=test_feat.stone_add_value+test_feat.stone_reduce_value\n",
    "test_feat2['stone_qua2']=test_feat.stone_add_value-test_feat.stone_reduce_value\n",
    "test_feat2['meat_qua1']=test_feat.meat_add_value+test_feat.meat_reduce_value\n",
    "test_feat2['meat_qua2']=test_feat.meat_add_value-test_feat.meat_reduce_value\n",
    "test_feat2['wood_qua1']=test_feat.wood_add_value+test_feat.wood_reduce_value\n",
    "test_feat2['wood_qua2']=test_feat.wood_add_value-test_feat.wood_reduce_value"
   ]
  },
  {
   "cell_type": "code",
   "execution_count": null,
   "metadata": {
    "ExecuteTime": {
     "end_time": "2018-07-04T08:22:23.160887Z",
     "start_time": "2018-07-04T08:22:23.100883Z"
    }
   },
   "outputs": [],
   "source": [
    "train_feat.shape"
   ]
  },
  {
   "cell_type": "code",
   "execution_count": null,
   "metadata": {
    "ExecuteTime": {
     "end_time": "2018-07-04T08:22:23.232891Z",
     "start_time": "2018-07-04T08:22:23.162887Z"
    }
   },
   "outputs": [],
   "source": [
    "train_feat2.shape"
   ]
  },
  {
   "cell_type": "code",
   "execution_count": null,
   "metadata": {
    "ExecuteTime": {
     "end_time": "2018-07-04T08:22:23.341897Z",
     "start_time": "2018-07-04T08:22:23.233891Z"
    }
   },
   "outputs": [],
   "source": [
    "test_feat2.shape"
   ]
  },
  {
   "cell_type": "code",
   "execution_count": null,
   "metadata": {
    "ExecuteTime": {
     "end_time": "2018-07-04T08:22:23.416901Z",
     "start_time": "2018-07-04T08:22:23.342897Z"
    }
   },
   "outputs": [],
   "source": [
    "#train_corr2=train_feat2.corr()"
   ]
  },
  {
   "cell_type": "code",
   "execution_count": null,
   "metadata": {
    "ExecuteTime": {
     "end_time": "2018-07-04T08:22:23.498906Z",
     "start_time": "2018-07-04T08:22:23.417902Z"
    }
   },
   "outputs": [],
   "source": [
    "#train_corr2['prediction_pay_price'].sort_values(ascending=False).head(40)"
   ]
  },
  {
   "cell_type": "code",
   "execution_count": null,
   "metadata": {
    "ExecuteTime": {
     "end_time": "2018-07-04T08:22:23.582911Z",
     "start_time": "2018-07-04T08:22:23.499906Z"
    }
   },
   "outputs": [],
   "source": [
    "import re"
   ]
  },
  {
   "cell_type": "code",
   "execution_count": null,
   "metadata": {
    "ExecuteTime": {
     "end_time": "2018-07-04T08:22:23.664916Z",
     "start_time": "2018-07-04T08:22:23.583911Z"
    },
    "scrolled": true
   },
   "outputs": [],
   "source": [
    "train_feat2.columns.values[pd.Series(train_feat2.columns.values).str.contains('def')]"
   ]
  },
  {
   "cell_type": "code",
   "execution_count": null,
   "metadata": {
    "ExecuteTime": {
     "end_time": "2018-07-04T08:22:23.759921Z",
     "start_time": "2018-07-04T08:22:23.665916Z"
    }
   },
   "outputs": [],
   "source": [
    "type(pd.Series(train_feat2.columns.values).str.contains('def'))"
   ]
  },
  {
   "cell_type": "code",
   "execution_count": null,
   "metadata": {
    "ExecuteTime": {
     "end_time": "2018-07-04T08:22:23.841926Z",
     "start_time": "2018-07-04T08:22:23.760921Z"
    }
   },
   "outputs": [],
   "source": [
    "#del text"
   ]
  },
  {
   "cell_type": "code",
   "execution_count": null,
   "metadata": {
    "ExecuteTime": {
     "end_time": "2018-07-04T08:22:23.915930Z",
     "start_time": "2018-07-04T08:22:23.843926Z"
    },
    "scrolled": true
   },
   "outputs": [],
   "source": [
    "text_def=[]\n",
    "for col in train_feat2.columns.values:\n",
    "     if 'def' in col:\n",
    "            text_def.append(col)"
   ]
  },
  {
   "cell_type": "code",
   "execution_count": null,
   "metadata": {
    "ExecuteTime": {
     "end_time": "2018-07-04T08:22:23.989934Z",
     "start_time": "2018-07-04T08:22:23.916930Z"
    }
   },
   "outputs": [],
   "source": [
    "text_def"
   ]
  },
  {
   "cell_type": "code",
   "execution_count": null,
   "metadata": {
    "ExecuteTime": {
     "end_time": "2018-07-04T08:22:24.093940Z",
     "start_time": "2018-07-04T08:22:23.990934Z"
    }
   },
   "outputs": [],
   "source": [
    "#train_coorr1.to_csv('F:\\\\study\\\\ml\\\\DataSet\\\\Tap4fun\\\\train_feat_corr.csv')\n",
    "#del feat_def_qua\n",
    "train_feat2.head()"
   ]
  },
  {
   "cell_type": "code",
   "execution_count": null,
   "metadata": {
    "ExecuteTime": {
     "end_time": "2018-07-04T08:22:24.209947Z",
     "start_time": "2018-07-04T08:22:24.094940Z"
    }
   },
   "outputs": [],
   "source": [
    "text_def=[]\n",
    "for col in train_feat2.columns.values:\n",
    "     if 'def' in col:\n",
    "            text_def.append(col)"
   ]
  },
  {
   "cell_type": "code",
   "execution_count": null,
   "metadata": {
    "ExecuteTime": {
     "end_time": "2018-07-04T08:22:24.289951Z",
     "start_time": "2018-07-04T08:22:24.210947Z"
    }
   },
   "outputs": [],
   "source": [
    "text_def"
   ]
  },
  {
   "cell_type": "code",
   "execution_count": null,
   "metadata": {
    "ExecuteTime": {
     "end_time": "2018-07-04T08:22:24.392957Z",
     "start_time": "2018-07-04T08:22:24.290951Z"
    }
   },
   "outputs": [],
   "source": [
    "type(text_def)"
   ]
  },
  {
   "cell_type": "code",
   "execution_count": null,
   "metadata": {
    "ExecuteTime": {
     "end_time": "2018-07-04T08:22:24.475962Z",
     "start_time": "2018-07-04T08:22:24.393957Z"
    }
   },
   "outputs": [],
   "source": [
    "text_troop=[]\n",
    "for col in train_feat2.columns.values:\n",
    "    if 'troop' in col :\n",
    "        text_troop.append(col)"
   ]
  },
  {
   "cell_type": "code",
   "execution_count": null,
   "metadata": {
    "ExecuteTime": {
     "end_time": "2018-07-04T08:22:24.583968Z",
     "start_time": "2018-07-04T08:22:24.477962Z"
    }
   },
   "outputs": [],
   "source": [
    "text_troop"
   ]
  },
  {
   "cell_type": "code",
   "execution_count": null,
   "metadata": {
    "ExecuteTime": {
     "end_time": "2018-07-04T08:22:24.749978Z",
     "start_time": "2018-07-04T08:22:24.585968Z"
    }
   },
   "outputs": [],
   "source": [
    "text_cavalry=[]\n",
    "for col in train_feat2.columns.values:\n",
    "    if 'sr_cavalry' in col :\n",
    "        text_cavalry.append(col)"
   ]
  },
  {
   "cell_type": "code",
   "execution_count": null,
   "metadata": {
    "ExecuteTime": {
     "end_time": "2018-07-04T08:22:24.831982Z",
     "start_time": "2018-07-04T08:22:24.750978Z"
    }
   },
   "outputs": [],
   "source": [
    "text_cavalry"
   ]
  },
  {
   "cell_type": "code",
   "execution_count": null,
   "metadata": {
    "ExecuteTime": {
     "end_time": "2018-07-04T08:22:24.907987Z",
     "start_time": "2018-07-04T08:22:24.833983Z"
    }
   },
   "outputs": [],
   "source": [
    "text_infantry=[]\n",
    "for col in train_feat2.columns.values:\n",
    "    if 'sr_infantry' in col :\n",
    "        text_infantry.append(col)"
   ]
  },
  {
   "cell_type": "code",
   "execution_count": null,
   "metadata": {
    "ExecuteTime": {
     "end_time": "2018-07-04T08:22:25.144000Z",
     "start_time": "2018-07-04T08:22:24.908987Z"
    }
   },
   "outputs": [],
   "source": [
    "text_infantry"
   ]
  },
  {
   "cell_type": "code",
   "execution_count": null,
   "metadata": {
    "ExecuteTime": {
     "end_time": "2018-07-04T08:22:25.267007Z",
     "start_time": "2018-07-04T08:22:25.145000Z"
    }
   },
   "outputs": [],
   "source": [
    "text_shaman=[]\n",
    "for col in train_feat2.columns.values:\n",
    "    if 'sr_shaman' in col :\n",
    "        text_shaman.append(col)"
   ]
  },
  {
   "cell_type": "code",
   "execution_count": null,
   "metadata": {
    "ExecuteTime": {
     "end_time": "2018-07-04T08:22:25.384014Z",
     "start_time": "2018-07-04T08:22:25.269007Z"
    }
   },
   "outputs": [],
   "source": [
    "text_shaman"
   ]
  },
  {
   "cell_type": "code",
   "execution_count": null,
   "metadata": {
    "ExecuteTime": {
     "end_time": "2018-07-04T08:22:25.483020Z",
     "start_time": "2018-07-04T08:22:25.385014Z"
    }
   },
   "outputs": [],
   "source": [
    "text_speed=[]\n",
    "for col in train_feat2.columns.values:\n",
    "    if 'speed' in col :\n",
    "        text_speed.append(col)"
   ]
  },
  {
   "cell_type": "code",
   "execution_count": null,
   "metadata": {
    "ExecuteTime": {
     "end_time": "2018-07-04T08:22:25.577025Z",
     "start_time": "2018-07-04T08:22:25.484020Z"
    }
   },
   "outputs": [],
   "source": [
    "text_speed"
   ]
  },
  {
   "cell_type": "code",
   "execution_count": null,
   "metadata": {
    "ExecuteTime": {
     "end_time": "2018-07-04T08:22:25.768036Z",
     "start_time": "2018-07-04T08:22:25.579025Z"
    }
   },
   "outputs": [],
   "source": [
    "train_feat2['def_qua1']=0.0\n",
    "for name in text_def:\n",
    "    train_feat2['def_qua1']+=train_feat2[name]"
   ]
  },
  {
   "cell_type": "code",
   "execution_count": null,
   "metadata": {
    "ExecuteTime": {
     "end_time": "2018-07-04T08:22:25.773036Z",
     "start_time": "2018-07-04T08:22:25.770036Z"
    }
   },
   "outputs": [],
   "source": [
    "#pd.Series(train_feat2.columns.values) .str.contains('def')"
   ]
  },
  {
   "cell_type": "code",
   "execution_count": null,
   "metadata": {
    "ExecuteTime": {
     "end_time": "2018-07-04T08:22:25.864041Z",
     "start_time": "2018-07-04T08:22:25.775036Z"
    }
   },
   "outputs": [],
   "source": [
    "#train_feat2[train_feat2.sr_troop_attack_level != 0][train_feat2.columns.values[pd.Series(train_feat2.columns.values) .str.contains('def')]]"
   ]
  },
  {
   "cell_type": "code",
   "execution_count": null,
   "metadata": {
    "ExecuteTime": {
     "end_time": "2018-07-04T08:22:26.216062Z",
     "start_time": "2018-07-04T08:22:25.866042Z"
    }
   },
   "outputs": [],
   "source": [
    "train_feat2['def_qua1']=0.0\n",
    "for name in text_def:\n",
    "    train_feat2['def_qua1']+=train_feat2[name]"
   ]
  },
  {
   "cell_type": "code",
   "execution_count": null,
   "metadata": {
    "ExecuteTime": {
     "end_time": "2018-07-04T08:22:26.269065Z",
     "start_time": "2018-07-04T08:22:26.218062Z"
    }
   },
   "outputs": [],
   "source": [
    "test_feat2['def_qua1']=0.0\n",
    "for name in text_def:\n",
    "    test_feat2['def_qua1']+=test_feat2[name]"
   ]
  },
  {
   "cell_type": "code",
   "execution_count": null,
   "metadata": {
    "ExecuteTime": {
     "end_time": "2018-07-04T08:22:26.498078Z",
     "start_time": "2018-07-04T08:22:26.270065Z"
    }
   },
   "outputs": [],
   "source": [
    "train_feat2['cavalry_qua1']=0.0\n",
    "for name in text_cavalry:\n",
    "    train_feat2['cavalry_qua1']+=train_feat2[name]"
   ]
  },
  {
   "cell_type": "code",
   "execution_count": null,
   "metadata": {
    "ExecuteTime": {
     "end_time": "2018-07-04T08:22:26.564081Z",
     "start_time": "2018-07-04T08:22:26.499078Z"
    }
   },
   "outputs": [],
   "source": [
    "test_feat2['cavalry_qua1']=0.0\n",
    "for name in text_cavalry:\n",
    "    test_feat2['cavalry_qua1']+=test_feat2[name]"
   ]
  },
  {
   "cell_type": "code",
   "execution_count": null,
   "metadata": {
    "ExecuteTime": {
     "end_time": "2018-07-04T08:22:26.767093Z",
     "start_time": "2018-07-04T08:22:26.565082Z"
    }
   },
   "outputs": [],
   "source": [
    "train_feat2['infantry_qua1']=0.0\n",
    "for name in text_infantry:\n",
    "    train_feat2['infantry_qua1']+=train_feat2[name]"
   ]
  },
  {
   "cell_type": "code",
   "execution_count": null,
   "metadata": {
    "ExecuteTime": {
     "end_time": "2018-07-04T08:22:26.831097Z",
     "start_time": "2018-07-04T08:22:26.768093Z"
    }
   },
   "outputs": [],
   "source": [
    "test_feat2['infantry_qua1']=0.0\n",
    "for name in text_infantry:\n",
    "    test_feat2['infantry_qua1']+=test_feat2[name]"
   ]
  },
  {
   "cell_type": "code",
   "execution_count": null,
   "metadata": {
    "ExecuteTime": {
     "end_time": "2018-07-04T08:22:27.018107Z",
     "start_time": "2018-07-04T08:22:26.832097Z"
    }
   },
   "outputs": [],
   "source": [
    "train_feat2['shaman_qua1']=0.0\n",
    "for name in text_shaman:\n",
    "    train_feat2['shaman_qua1']+=train_feat2[name]"
   ]
  },
  {
   "cell_type": "code",
   "execution_count": null,
   "metadata": {
    "ExecuteTime": {
     "end_time": "2018-07-04T08:22:27.082111Z",
     "start_time": "2018-07-04T08:22:27.019107Z"
    }
   },
   "outputs": [],
   "source": [
    "test_feat2['shaman_qua1']=0.0\n",
    "for name in text_shaman:\n",
    "    test_feat2['shaman_qua1']+=test_feat2[name]"
   ]
  },
  {
   "cell_type": "code",
   "execution_count": null,
   "metadata": {
    "ExecuteTime": {
     "end_time": "2018-07-04T08:22:27.272122Z",
     "start_time": "2018-07-04T08:22:27.083111Z"
    }
   },
   "outputs": [],
   "source": [
    "train_feat2['speed_qua1']=0.0\n",
    "for name in text_speed:\n",
    "    train_feat2['speed_qua1']+=train_feat2[name]"
   ]
  },
  {
   "cell_type": "code",
   "execution_count": null,
   "metadata": {
    "ExecuteTime": {
     "end_time": "2018-07-04T08:22:27.337126Z",
     "start_time": "2018-07-04T08:22:27.274122Z"
    }
   },
   "outputs": [],
   "source": [
    "test_feat2['speed_qua1']=0.0\n",
    "for name in text_speed:\n",
    "    test_feat2['speed_qua1']+=test_feat2[name]"
   ]
  },
  {
   "cell_type": "code",
   "execution_count": null,
   "metadata": {
    "ExecuteTime": {
     "end_time": "2018-07-04T08:22:27.501135Z",
     "start_time": "2018-07-04T08:22:27.338126Z"
    }
   },
   "outputs": [],
   "source": [
    "train_feat2['troop_qua1']=0.0\n",
    "for name in text_troop:\n",
    "    train_feat2['troop_qua1']+=train_feat2[name]"
   ]
  },
  {
   "cell_type": "code",
   "execution_count": null,
   "metadata": {
    "ExecuteTime": {
     "end_time": "2018-07-04T08:22:27.558138Z",
     "start_time": "2018-07-04T08:22:27.502135Z"
    }
   },
   "outputs": [],
   "source": [
    "test_feat2['troop_qua1']=0.0\n",
    "for name in text_troop:\n",
    "    test_feat2['troop_qua1']+=test_feat2[name]"
   ]
  },
  {
   "cell_type": "code",
   "execution_count": null,
   "metadata": {
    "ExecuteTime": {
     "end_time": "2018-07-04T08:22:27.600141Z",
     "start_time": "2018-07-04T08:22:27.559138Z"
    }
   },
   "outputs": [],
   "source": [
    "#train_feat2[train_feat2.cavalry_qua1 != 0][train_feat2.columns.values[pd.Series(train_feat2.columns.values).str.contains('qua1')]]"
   ]
  },
  {
   "cell_type": "code",
   "execution_count": null,
   "metadata": {
    "ExecuteTime": {
     "end_time": "2018-07-04T08:22:27.712147Z",
     "start_time": "2018-07-04T08:22:27.602141Z"
    }
   },
   "outputs": [],
   "source": [
    "#train_feat2['pred_price_diff_qua1']=train_feat2.prediction_pay_price - train_feat2.pay_price\n",
    "train_feat2['price_per_pay_qua1']=train_feat2.pay_price / train_feat2.pay_count\n"
   ]
  },
  {
   "cell_type": "code",
   "execution_count": 96,
   "metadata": {
    "ExecuteTime": {
     "end_time": "2018-07-04T09:34:18.137772Z",
     "start_time": "2018-07-04T09:34:18.085571Z"
    }
   },
   "outputs": [
    {
     "data": {
      "text/html": [
       "<div>\n",
       "<style>\n",
       "    .dataframe thead tr:only-child th {\n",
       "        text-align: right;\n",
       "    }\n",
       "\n",
       "    .dataframe thead th {\n",
       "        text-align: left;\n",
       "    }\n",
       "\n",
       "    .dataframe tbody tr th {\n",
       "        vertical-align: top;\n",
       "    }\n",
       "</style>\n",
       "<table border=\"1\" class=\"dataframe\">\n",
       "  <thead>\n",
       "    <tr style=\"text-align: right;\">\n",
       "      <th></th>\n",
       "      <th>sr_troop_defense_level</th>\n",
       "      <th>sr_infantry_def_level</th>\n",
       "      <th>sr_cavalry_def_level</th>\n",
       "      <th>sr_shaman_def_level</th>\n",
       "      <th>def_qua1</th>\n",
       "    </tr>\n",
       "  </thead>\n",
       "  <tbody>\n",
       "    <tr>\n",
       "      <th>10988</th>\n",
       "      <td>5</td>\n",
       "      <td>0</td>\n",
       "      <td>1</td>\n",
       "      <td>0</td>\n",
       "      <td>6.0</td>\n",
       "    </tr>\n",
       "    <tr>\n",
       "      <th>25454</th>\n",
       "      <td>11</td>\n",
       "      <td>10</td>\n",
       "      <td>0</td>\n",
       "      <td>0</td>\n",
       "      <td>21.0</td>\n",
       "    </tr>\n",
       "    <tr>\n",
       "      <th>26578</th>\n",
       "      <td>1</td>\n",
       "      <td>1</td>\n",
       "      <td>0</td>\n",
       "      <td>0</td>\n",
       "      <td>2.0</td>\n",
       "    </tr>\n",
       "    <tr>\n",
       "      <th>31553</th>\n",
       "      <td>1</td>\n",
       "      <td>0</td>\n",
       "      <td>1</td>\n",
       "      <td>1</td>\n",
       "      <td>3.0</td>\n",
       "    </tr>\n",
       "    <tr>\n",
       "      <th>54465</th>\n",
       "      <td>2</td>\n",
       "      <td>2</td>\n",
       "      <td>3</td>\n",
       "      <td>2</td>\n",
       "      <td>9.0</td>\n",
       "    </tr>\n",
       "  </tbody>\n",
       "</table>\n",
       "</div>"
      ],
      "text/plain": [
       "       sr_troop_defense_level  sr_infantry_def_level  sr_cavalry_def_level  \\\n",
       "10988                       5                      0                     1   \n",
       "25454                      11                     10                     0   \n",
       "26578                       1                      1                     0   \n",
       "31553                       1                      0                     1   \n",
       "54465                       2                      2                     3   \n",
       "\n",
       "       sr_shaman_def_level  def_qua1  \n",
       "10988                    0       6.0  \n",
       "25454                    0      21.0  \n",
       "26578                    0       2.0  \n",
       "31553                    1       3.0  \n",
       "54465                    2       9.0  "
      ]
     },
     "execution_count": 96,
     "metadata": {},
     "output_type": "execute_result"
    }
   ],
   "source": [
    "train_feat2[train_feat2.sr_troop_defense_level != 0][train_feat2.columns.values[pd.Series(train_feat2.columns.values).str.contains('def')]].head()"
   ]
  },
  {
   "cell_type": "code",
   "execution_count": null,
   "metadata": {},
   "outputs": [],
   "source": [
    "train_feat2[train_feat2.sr_troop_defense_level != 0][train_feat2.columns.values[pd.Series(train_feat2.columns.values).str.contains('sr_shaman_tier')]].head()"
   ]
  },
  {
   "cell_type": "code",
   "execution_count": null,
   "metadata": {},
   "outputs": [],
   "source": []
  },
  {
   "cell_type": "code",
   "execution_count": null,
   "metadata": {},
   "outputs": [],
   "source": []
  },
  {
   "cell_type": "code",
   "execution_count": null,
   "metadata": {},
   "outputs": [],
   "source": []
  },
  {
   "cell_type": "code",
   "execution_count": null,
   "metadata": {
    "ExecuteTime": {
     "end_time": "2018-07-04T08:22:27.845155Z",
     "start_time": "2018-07-04T08:22:27.713147Z"
    }
   },
   "outputs": [],
   "source": [
    "########################################   new feature"
   ]
  },
  {
   "cell_type": "code",
   "execution_count": null,
   "metadata": {
    "ExecuteTime": {
     "end_time": "2018-07-04T08:22:27.950161Z",
     "start_time": "2018-07-04T08:22:27.848155Z"
    }
   },
   "outputs": [],
   "source": [
    "# train_feat2['price_per_ivory_qua1']= train_feat2.ivory_qua1 / train_feat2.pay_price\n",
    "# train_feat2['price_per_stone_qua1']= train_feat2.stone_qua1 / train_feat2.pay_price\n",
    "# train_feat2['price_per_wood_qua1']= train_feat2.wood_qua1 / train_feat2.pay_price\n",
    "# train_feat2['price_per_meat_qua1']= train_feat2.meat_qua1 / train_feat2.pay_price\n",
    "\n",
    "# train_feat2['price_per_ivory_qua2']=train_feat2.ivory_qua2 / train_feat2.pay_price\n",
    "# train_feat2['price_per_stone_qua2']=train_feat2.stone_qua2 / train_feat2.pay_price\n",
    "# train_feat2['price_per_wood_qua2']=train_feat2.wood_qua2 / train_feat2.pay_price\n",
    "# train_feat2['price_per_meat_qua2']=train_feat2.meat_qua2 / train_feat2.pay_price"
   ]
  },
  {
   "cell_type": "code",
   "execution_count": 77,
   "metadata": {
    "ExecuteTime": {
     "end_time": "2018-07-04T08:25:59.630116Z",
     "start_time": "2018-07-04T08:25:59.598916Z"
    }
   },
   "outputs": [],
   "source": [
    "# top_feat=['ivory','stone','wood','meat']\n",
    "# top_feat_reduce=[name+'_reduce_value' for name in top_feat]\n",
    "# for col in top_feat_reduce:\n",
    "#     train_feat2[col+'_price_qua1']=train_feat2[col] / train_feat2.pay_price"
   ]
  },
  {
   "cell_type": "code",
   "execution_count": 87,
   "metadata": {
    "ExecuteTime": {
     "end_time": "2018-07-04T08:41:03.829428Z",
     "start_time": "2018-07-04T08:41:03.807828Z"
    }
   },
   "outputs": [],
   "source": [
    "train_feat2['magic_qua1']=train_feat2.magic_add_value + train_feat2.magic_reduce_value\n",
    "train_feat2['magic_qua2']=train_feat2.magic_add_value - train_feat2.magic_reduce_value"
   ]
  },
  {
   "cell_type": "code",
   "execution_count": 100,
   "metadata": {
    "ExecuteTime": {
     "end_time": "2018-07-04T09:52:14.117365Z",
     "start_time": "2018-07-04T09:52:14.088765Z"
    }
   },
   "outputs": [
    {
     "data": {
      "text/plain": [
       "9"
      ]
     },
     "execution_count": 100,
     "metadata": {},
     "output_type": "execute_result"
    }
   ],
   "source": [
    "train_feat2[train_feat2.sr_rss_c_prod_level != 0]['sr_rss_c_prod_level']"
   ]
  },
  {
   "cell_type": "code",
   "execution_count": null,
   "metadata": {
    "ExecuteTime": {
     "end_time": "2018-07-04T08:22:28.059167Z",
     "start_time": "2018-07-04T08:22:27.951161Z"
    }
   },
   "outputs": [],
   "source": [
    "########################################   new feature"
   ]
  },
  {
   "cell_type": "code",
   "execution_count": null,
   "metadata": {},
   "outputs": [],
   "source": []
  },
  {
   "cell_type": "code",
   "execution_count": 88,
   "metadata": {
    "ExecuteTime": {
     "end_time": "2018-07-04T08:42:28.454341Z",
     "start_time": "2018-07-04T08:41:07.774127Z"
    }
   },
   "outputs": [],
   "source": [
    "train_corr2=train_feat2.corr()"
   ]
  },
  {
   "cell_type": "code",
   "execution_count": null,
   "metadata": {
    "ExecuteTime": {
     "end_time": "2018-07-04T07:55:02.300011Z",
     "start_time": "2018-07-04T07:55:02.288010Z"
    }
   },
   "outputs": [],
   "source": [
    "#train_corr2['prediction_pay_price'].sort_values(ascending=True).head(40)"
   ]
  },
  {
   "cell_type": "code",
   "execution_count": 89,
   "metadata": {
    "ExecuteTime": {
     "end_time": "2018-07-04T08:42:39.497973Z",
     "start_time": "2018-07-04T08:42:39.484972Z"
    }
   },
   "outputs": [
    {
     "data": {
      "text/plain": [
       "prediction_pay_price              1.000000\n",
       "pay_price                         0.735235\n",
       "ivory_add_value                   0.658366\n",
       "ivory_qua1                        0.655499\n",
       "stone_add_value                   0.648326\n",
       "stone_qua1                        0.647653\n",
       "ivory_reduce_value                0.640995\n",
       "wood_add_value                    0.639830\n",
       "wood_qua1                         0.636495\n",
       "stone_reduce_value                0.631446\n",
       "wood_reduce_value                 0.619171\n",
       "meat_qua1                         0.612161\n",
       "meat_add_value                    0.608308\n",
       "meat_reduce_value                 0.593053\n",
       "pay_count                         0.567302\n",
       "def_qua1                          0.555840\n",
       "meat_qua2                         0.525880\n",
       "sr_troop_defense_level            0.523166\n",
       "stone_qua2                        0.522850\n",
       "price_per_pay_qua1                0.520407\n",
       "wood_qua2                         0.512780\n",
       "sr_cavalry_def_level              0.503747\n",
       "ivory_qua2                        0.487559\n",
       "sr_cavalry_hp_level               0.487260\n",
       "sr_shaman_tier_3_level            0.462323\n",
       "sr_cavalry_tier_3_level           0.459145\n",
       "sr_infantry_tier_3_level          0.455992\n",
       "sr_infantry_hp_level              0.454342\n",
       "sr_infantry_def_level             0.450924\n",
       "sr_shaman_def_level               0.439525\n",
       "sr_shaman_hp_level                0.426444\n",
       "sr_cavalry_tier_4_level           0.408088\n",
       "cavalry_qua1                      0.391614\n",
       "sr_gathering_march_speed_level    0.389250\n",
       "shaman_qua1                       0.387895\n",
       "infantry_qua1                     0.375901\n",
       "sr_pvp_march_speed_level          0.364121\n",
       "sr_alliance_march_speed_level     0.345833\n",
       "sr_outpost_tier_3_level           0.324307\n",
       "magic_add_value                   0.324095\n",
       "Name: prediction_pay_price, dtype: float64"
      ]
     },
     "execution_count": 89,
     "metadata": {},
     "output_type": "execute_result"
    }
   ],
   "source": [
    "train_corr2['prediction_pay_price'].sort_values(ascending=False).head(40)"
   ]
  },
  {
   "cell_type": "code",
   "execution_count": 91,
   "metadata": {
    "ExecuteTime": {
     "end_time": "2018-07-04T08:43:30.547831Z",
     "start_time": "2018-07-04T08:43:30.526231Z"
    }
   },
   "outputs": [
    {
     "data": {
      "text/plain": [
       "0.15401097153754595"
      ]
     },
     "execution_count": 91,
     "metadata": {},
     "output_type": "execute_result"
    }
   ],
   "source": [
    "train_corr2['prediction_pay_price']['magic_qua2']"
   ]
  },
  {
   "cell_type": "code",
   "execution_count": 92,
   "metadata": {
    "ExecuteTime": {
     "end_time": "2018-07-04T09:17:52.464492Z",
     "start_time": "2018-07-04T09:17:52.448892Z"
    }
   },
   "outputs": [],
   "source": [
    "#train_corr2['ivory_add_value'].sort_values(ascending=False).head(40)"
   ]
  },
  {
   "cell_type": "code",
   "execution_count": null,
   "metadata": {},
   "outputs": [],
   "source": []
  },
  {
   "cell_type": "code",
   "execution_count": null,
   "metadata": {},
   "outputs": [],
   "source": [
    "#train_corr2['prediction_pay_price'].sort_values(ascending=False).head(40)"
   ]
  },
  {
   "cell_type": "code",
   "execution_count": null,
   "metadata": {},
   "outputs": [],
   "source": [
    "label_train=data_train['prediction_pay_price']\n",
    "label_test=test_feat.user_id\n",
    "label_test[:]=0"
   ]
  },
  {
   "cell_type": "code",
   "execution_count": null,
   "metadata": {},
   "outputs": [],
   "source": [
    "#train_feat2=train_feat2.drop(labels=['register_time','prediction_pay_price'],axis=1)\n",
    "train_feat2.drop(labels=['register_time','prediction_pay_price'],axis=1,inplace=True)\n",
    "#test_feat2=\n",
    "test_feat2.drop(labels=['register_time'],axis=1,inplace=True)"
   ]
  },
  {
   "cell_type": "code",
   "execution_count": null,
   "metadata": {},
   "outputs": [],
   "source": [
    "train_feat2.shape"
   ]
  },
  {
   "cell_type": "code",
   "execution_count": null,
   "metadata": {},
   "outputs": [],
   "source": [
    "test_feat2.shape"
   ]
  },
  {
   "cell_type": "code",
   "execution_count": null,
   "metadata": {},
   "outputs": [],
   "source": [
    "\n"
   ]
  },
  {
   "cell_type": "code",
   "execution_count": null,
   "metadata": {},
   "outputs": [],
   "source": [
    "#train_feat2_array=train_feat2.drop(labels=['prediction_pay_price','register_time'],axis=1).values\n",
    "#test_feat2_array=test_feat2.drop(labels=['register_time'],axis=1).values\n",
    "\n",
    "#label_test.values.astype('int')"
   ]
  },
  {
   "cell_type": "code",
   "execution_count": null,
   "metadata": {},
   "outputs": [],
   "source": [
    "#del train_feat2_array\n",
    "#del test_feat2_array\n",
    "#del label_train\n",
    "#del label_test\n"
   ]
  },
  {
   "cell_type": "code",
   "execution_count": null,
   "metadata": {},
   "outputs": [],
   "source": []
  },
  {
   "cell_type": "code",
   "execution_count": null,
   "metadata": {},
   "outputs": [],
   "source": [
    "params={\n",
    "    'boosting_type':'gbdt',\n",
    "    'objective':'mse',\n",
    "    'metric':'rmse',\n",
    "    'min_child_weigth':3,\n",
    "    'num_leaves':2**5,\n",
    "    'lambda_l2':10,\n",
    "    'subsample':0.7,\n",
    "    'colsample_bytree':0.7,\n",
    "    'colsample_bylevel':0.7,\n",
    "    'learning_rate':0.05,\n",
    "    'tree_method':'exact',\n",
    "    'seed':2017,\n",
    "    'nthread':4,\n",
    "    'silent':True\n",
    "}"
   ]
  },
  {
   "cell_type": "code",
   "execution_count": null,
   "metadata": {},
   "outputs": [],
   "source": [
    "import time\n",
    "import lightgbm as lgb"
   ]
  },
  {
   "cell_type": "code",
   "execution_count": null,
   "metadata": {},
   "outputs": [],
   "source": [
    "from sklearn.cross_validation import train_test_split\n",
    "from sklearn.metrics import mean_squared_error"
   ]
  },
  {
   "cell_type": "code",
   "execution_count": null,
   "metadata": {},
   "outputs": [],
   "source": []
  },
  {
   "cell_type": "code",
   "execution_count": null,
   "metadata": {},
   "outputs": [],
   "source": [
    "X_train,X_test,y_train,y_test=train_test_split(train_feat2,label_train,test_size=0.25,random_state=13)"
   ]
  },
  {
   "cell_type": "code",
   "execution_count": null,
   "metadata": {},
   "outputs": [],
   "source": [
    "train=lgb.Dataset(X_train,y_train)\n",
    "test=lgb.Dataset(X_test,label=y_test,reference=train)"
   ]
  },
  {
   "cell_type": "code",
   "execution_count": null,
   "metadata": {},
   "outputs": [],
   "source": [
    "n=3000\n",
    "gbm=lgb.train(params=params,\n",
    "             train_set=train,\n",
    "             num_boost_round=n,\n",
    "             verbose_eval=50,\n",
    "             valid_sets=[train,test])"
   ]
  },
  {
   "cell_type": "code",
   "execution_count": null,
   "metadata": {},
   "outputs": [],
   "source": [
    "import gc\n",
    "del train_feat\n",
    "gc.collect()"
   ]
  },
  {
   "cell_type": "code",
   "execution_count": null,
   "metadata": {},
   "outputs": [],
   "source": [
    "pred_train=gbm.predict(X_test)"
   ]
  },
  {
   "cell_type": "code",
   "execution_count": null,
   "metadata": {},
   "outputs": [],
   "source": [
    "np.sqrt(mean_squared_error(y_test,pred_train))"
   ]
  },
  {
   "cell_type": "code",
   "execution_count": null,
   "metadata": {},
   "outputs": [],
   "source": []
  },
  {
   "cell_type": "code",
   "execution_count": null,
   "metadata": {},
   "outputs": [],
   "source": []
  }
 ],
 "metadata": {
  "kernelspec": {
   "display_name": "Python 3",
   "language": "python",
   "name": "python3"
  },
  "language_info": {
   "codemirror_mode": {
    "name": "ipython",
    "version": 3
   },
   "file_extension": ".py",
   "mimetype": "text/x-python",
   "name": "python",
   "nbconvert_exporter": "python",
   "pygments_lexer": "ipython3",
   "version": "3.6.3"
  }
 },
 "nbformat": 4,
 "nbformat_minor": 2
}
