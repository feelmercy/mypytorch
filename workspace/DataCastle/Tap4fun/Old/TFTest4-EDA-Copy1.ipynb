{
 "cells": [
  {
   "cell_type": "code",
   "execution_count": null,
   "metadata": {
    "ExecuteTime": {
     "end_time": "2018-08-22T03:18:54.255086Z",
     "start_time": "2018-08-22T03:18:50.574875Z"
    }
   },
   "outputs": [],
   "source": [
    "import numpy as np\n",
    "import pandas as pd"
   ]
  },
  {
   "cell_type": "code",
   "execution_count": null,
   "metadata": {
    "ExecuteTime": {
     "end_time": "2018-08-22T03:19:15.615308Z",
     "start_time": "2018-08-22T03:18:54.257086Z"
    }
   },
   "outputs": [],
   "source": [
    "df_train=pd.read_csv('F:\\\\study\\\\ml\\\\DataSet\\\\Tap4fun\\\\tap_fun_train.csv')"
   ]
  },
  {
   "cell_type": "code",
   "execution_count": null,
   "metadata": {
    "ExecuteTime": {
     "end_time": "2018-08-22T03:19:15.815319Z",
     "start_time": "2018-08-22T03:19:15.616308Z"
    }
   },
   "outputs": [],
   "source": [
    "df_train.info(memory_usage='deep')"
   ]
  },
  {
   "cell_type": "code",
   "execution_count": null,
   "metadata": {
    "ExecuteTime": {
     "end_time": "2018-08-22T03:19:27.929012Z",
     "start_time": "2018-08-22T03:19:15.816319Z"
    }
   },
   "outputs": [],
   "source": [
    "c_int=df_train.select_dtypes(include=['int64']).apply(pd.to_numeric,downcast='unsigned')\n",
    "c_float=df_train.select_dtypes(include=['float']).apply(pd.to_numeric,downcast='float')\n"
   ]
  },
  {
   "cell_type": "code",
   "execution_count": null,
   "metadata": {
    "ExecuteTime": {
     "end_time": "2018-08-22T03:19:28.260031Z",
     "start_time": "2018-08-22T03:19:27.931012Z"
    }
   },
   "outputs": [],
   "source": [
    "o_df=pd.concat([c_int,c_float],axis=1)"
   ]
  },
  {
   "cell_type": "code",
   "execution_count": null,
   "metadata": {
    "ExecuteTime": {
     "end_time": "2018-08-22T03:19:28.266031Z",
     "start_time": "2018-08-22T03:19:28.261031Z"
    }
   },
   "outputs": [],
   "source": [
    "column_type=dict(o_df.dtypes.copy())"
   ]
  },
  {
   "cell_type": "code",
   "execution_count": null,
   "metadata": {
    "ExecuteTime": {
     "end_time": "2018-08-22T03:19:28.397039Z",
     "start_time": "2018-08-22T03:19:28.268031Z"
    }
   },
   "outputs": [],
   "source": [
    "len(column_type)"
   ]
  },
  {
   "cell_type": "code",
   "execution_count": null,
   "metadata": {
    "ExecuteTime": {
     "end_time": "2018-08-22T03:19:28.759059Z",
     "start_time": "2018-08-22T03:19:28.398039Z"
    }
   },
   "outputs": [],
   "source": [
    "del o_df,c_int,c_float,df_train"
   ]
  },
  {
   "cell_type": "code",
   "execution_count": null,
   "metadata": {},
   "outputs": [],
   "source": []
  },
  {
   "cell_type": "code",
   "execution_count": null,
   "metadata": {
    "ExecuteTime": {
     "end_time": "2018-08-22T03:19:49.711258Z",
     "start_time": "2018-08-22T03:19:28.761060Z"
    }
   },
   "outputs": [],
   "source": [
    "data_train=pd.read_csv('F:\\\\study\\\\ml\\\\DataSet\\\\Tap4fun\\\\tap_fun_train.csv',\n",
    "                      dtype=column_type,parse_dates=['register_time'],infer_datetime_format=True)"
   ]
  },
  {
   "cell_type": "code",
   "execution_count": null,
   "metadata": {
    "ExecuteTime": {
     "end_time": "2018-08-22T03:19:49.805263Z",
     "start_time": "2018-08-22T03:19:49.713258Z"
    }
   },
   "outputs": [],
   "source": [
    "data_train.head()"
   ]
  },
  {
   "cell_type": "code",
   "execution_count": null,
   "metadata": {
    "ExecuteTime": {
     "end_time": "2018-08-22T03:19:49.993274Z",
     "start_time": "2018-08-22T03:19:49.806263Z"
    }
   },
   "outputs": [],
   "source": [
    "data_train.info(memory_usage='deep')"
   ]
  },
  {
   "cell_type": "code",
   "execution_count": null,
   "metadata": {
    "ExecuteTime": {
     "end_time": "2018-08-22T03:19:50.523304Z",
     "start_time": "2018-08-22T03:19:49.995274Z"
    }
   },
   "outputs": [],
   "source": [
    "data_label=data_train['prediction_pay_price']\n",
    "data_train2=data_train.drop(labels=['user_id','register_time'],axis=1)"
   ]
  },
  {
   "cell_type": "code",
   "execution_count": null,
   "metadata": {
    "ExecuteTime": {
     "end_time": "2018-08-22T03:19:50.530305Z",
     "start_time": "2018-08-22T03:19:50.525304Z"
    }
   },
   "outputs": [],
   "source": [
    "# data_train2_corr=data_train2.corr()"
   ]
  },
  {
   "cell_type": "code",
   "execution_count": null,
   "metadata": {
    "ExecuteTime": {
     "end_time": "2018-08-22T03:19:50.619310Z",
     "start_time": "2018-08-22T03:19:50.532305Z"
    },
    "scrolled": true
   },
   "outputs": [],
   "source": [
    "# data_train2_corr['prediction_pay_price'].sort_values(ascending=False)"
   ]
  },
  {
   "cell_type": "code",
   "execution_count": null,
   "metadata": {
    "ExecuteTime": {
     "end_time": "2018-08-22T03:19:50.694314Z",
     "start_time": "2018-08-22T03:19:50.621310Z"
    }
   },
   "outputs": [],
   "source": [
    "# a=data_train2_corr['prediction_pay_price'].sort_values(ascending=False)"
   ]
  },
  {
   "cell_type": "code",
   "execution_count": null,
   "metadata": {
    "ExecuteTime": {
     "end_time": "2018-08-22T03:19:50.759318Z",
     "start_time": "2018-08-22T03:19:50.696314Z"
    }
   },
   "outputs": [],
   "source": [
    "# for i,j in a.iteritems():\n",
    "#     print('{:<40}{:>30}'.format(i,j))"
   ]
  },
  {
   "cell_type": "code",
   "execution_count": null,
   "metadata": {
    "ExecuteTime": {
     "end_time": "2018-08-22T03:19:50.835322Z",
     "start_time": "2018-08-22T03:19:50.761318Z"
    }
   },
   "outputs": [],
   "source": [
    "# from matplotlib import pyplot as plt\n",
    "# plt.style.use(style='ggplot')\n",
    "# plt.rcParams['figure.figsize']=(10,6)\n",
    "# %matplotlib inline"
   ]
  },
  {
   "cell_type": "code",
   "execution_count": null,
   "metadata": {
    "ExecuteTime": {
     "end_time": "2018-08-22T03:19:50.936328Z",
     "start_time": "2018-08-22T03:19:50.836322Z"
    }
   },
   "outputs": [],
   "source": [
    "# data_train['register_time'].apply(lambda x:x.month)\n",
    "# data_train2['reg_month']=data_train['register_time'].apply(lambda x:x.month)\n",
    "# data_train2['reg_day']=data_train['register_time'].apply(lambda x:x.day)\n",
    "# data_train2['reg_hour']=data_train['register_time'].apply(lambda x:x.month)\n",
    "# data_train2['reg_weekday']=data_train['register_time'].apply(lambda x:x.weekday())"
   ]
  },
  {
   "cell_type": "code",
   "execution_count": null,
   "metadata": {
    "ExecuteTime": {
     "end_time": "2018-08-22T03:19:51.036334Z",
     "start_time": "2018-08-22T03:19:50.937328Z"
    }
   },
   "outputs": [],
   "source": [
    "\n",
    "data_train2.head()"
   ]
  },
  {
   "cell_type": "code",
   "execution_count": null,
   "metadata": {
    "ExecuteTime": {
     "end_time": "2018-08-22T03:19:51.110338Z",
     "start_time": "2018-08-22T03:19:51.037334Z"
    },
    "scrolled": true
   },
   "outputs": [],
   "source": [
    "# data_train2['reg_month_day']=data_train2['reg_month'].apply(str)+'-'  \\\n",
    "# +data_train2['reg_day'].apply(lambda x: str('0')+str(x) if x<10 else str(x))"
   ]
  },
  {
   "cell_type": "code",
   "execution_count": null,
   "metadata": {
    "ExecuteTime": {
     "end_time": "2018-08-22T03:19:51.235345Z",
     "start_time": "2018-08-22T03:19:51.111338Z"
    }
   },
   "outputs": [],
   "source": [
    "# data_train2['reg_month_day'].head(20)"
   ]
  },
  {
   "cell_type": "code",
   "execution_count": null,
   "metadata": {
    "ExecuteTime": {
     "end_time": "2018-08-22T03:19:51.328350Z",
     "start_time": "2018-08-22T03:19:51.237345Z"
    }
   },
   "outputs": [],
   "source": [
    "data_train2.head()"
   ]
  },
  {
   "cell_type": "code",
   "execution_count": null,
   "metadata": {
    "ExecuteTime": {
     "end_time": "2018-08-22T03:19:51.445357Z",
     "start_time": "2018-08-22T03:19:51.330350Z"
    }
   },
   "outputs": [],
   "source": [
    "data_train2.head()"
   ]
  },
  {
   "cell_type": "code",
   "execution_count": null,
   "metadata": {
    "ExecuteTime": {
     "end_time": "2018-08-22T03:19:51.537362Z",
     "start_time": "2018-08-22T03:19:51.447357Z"
    }
   },
   "outputs": [],
   "source": [
    "# data_train2[['reg_month_day','wood_add_value']].groupby(by=['reg_month_day']).agg('count')"
   ]
  },
  {
   "cell_type": "code",
   "execution_count": null,
   "metadata": {
    "ExecuteTime": {
     "end_time": "2018-08-22T03:19:51.637368Z",
     "start_time": "2018-08-22T03:19:51.538362Z"
    }
   },
   "outputs": [],
   "source": [
    "# df_md_count=data_train2[['reg_month_day','wood_add_value']].groupby(by=['reg_month_day'],as_index=False).agg('count')"
   ]
  },
  {
   "cell_type": "code",
   "execution_count": null,
   "metadata": {
    "ExecuteTime": {
     "end_time": "2018-08-22T03:19:51.737374Z",
     "start_time": "2018-08-22T03:19:51.639368Z"
    }
   },
   "outputs": [],
   "source": [
    "# df_md_count.columns"
   ]
  },
  {
   "cell_type": "code",
   "execution_count": null,
   "metadata": {
    "ExecuteTime": {
     "end_time": "2018-08-13T08:10:10.658184Z",
     "start_time": "2018-08-13T08:10:10.626984Z"
    }
   },
   "outputs": [],
   "source": []
  },
  {
   "cell_type": "code",
   "execution_count": null,
   "metadata": {
    "ExecuteTime": {
     "end_time": "2018-08-22T03:19:51.828379Z",
     "start_time": "2018-08-22T03:19:51.738374Z"
    }
   },
   "outputs": [],
   "source": [
    "# x=df_md_count.reg_month_day\n",
    "# y=df_md_count.wood_add_value\n",
    "# plt.xticks(fontsize=20)\n",
    "# plt.plot(x,y)"
   ]
  },
  {
   "cell_type": "code",
   "execution_count": null,
   "metadata": {
    "ExecuteTime": {
     "end_time": "2018-08-22T03:19:51.895383Z",
     "start_time": "2018-08-22T03:19:51.830379Z"
    }
   },
   "outputs": [],
   "source": [
    "# df_d_count=data_train2[['reg_day','wood_add_value']].groupby(by='reg_day',as_index=False).agg('count')"
   ]
  },
  {
   "cell_type": "code",
   "execution_count": null,
   "metadata": {
    "ExecuteTime": {
     "end_time": "2018-08-22T03:19:51.987388Z",
     "start_time": "2018-08-22T03:19:51.896383Z"
    },
    "scrolled": true
   },
   "outputs": [],
   "source": [
    "# x=df_d_count.reg_day\n",
    "# y=df_d_count.wood_add_value\n",
    "# plt.scatter(x,y)"
   ]
  },
  {
   "cell_type": "code",
   "execution_count": null,
   "metadata": {
    "ExecuteTime": {
     "end_time": "2018-08-22T03:19:52.070393Z",
     "start_time": "2018-08-22T03:19:51.989388Z"
    }
   },
   "outputs": [],
   "source": [
    "# data=data_train\n",
    "# data['register_time']=data_train.register_time.astype('str')\n",
    "# data['register_time_month']=data_train.register_time.str[:7]\n",
    "# data['register_time_day']=data_train.register_time.str[6:10]\n",
    "\n",
    "# # del data['register_time_m']\n",
    "\n",
    "# data_month_df=pd.DataFrame(data['register_time_month'].value_counts()).sort_index()\n",
    "# data_day_df = pd.DataFrame(data['register_time_day'].value_counts()).sort_index()\n",
    "\n",
    "# from pyecharts import Line,Grid\n",
    "# from pyecharts import configure\n",
    "\n",
    "# line1=Line('Players Num by Month')\n",
    "# line1.add('Player Num',data_month_df.index,data_month_df.register_time_month,mark_line=['averges'],mark_point=['max','min'])\n",
    "# line2=Line('Players Num by Day')\n",
    "# line2.add('Player num',data_day_df.index,data_day_df.register_time_day,mark_line=['average'],mark_point=['max','min'])\n",
    "# grid=Grid(width =1000,height=1000)\n",
    "# grid.add(line1,grid_bottom='60%')\n",
    "# grid.add(line2,grid_top='60%')\n",
    "# grid.use_theme('dark')\n",
    "# grid.render()\n",
    "# grid\n",
    "\n",
    "\n",
    "# data_pay_7=data[data['pay_price']>0]\n",
    "\n",
    "# data_pay_7_day_df = pd.DataFrame(data_pay_7['register_time_day'].value_counts()).sort_index()\n",
    "# data_pay_7_day_df.rename(columns={'register_time_day':'pay_register_time_day'}, inplace = True)\n",
    "# data_day_count = pd.concat([data_pay_7_day_df, data_day_df], axis=1)\n",
    "# data_day_count['pay_percent'] = data_day_count['pay_register_time_day']/data_day_count['register_time_day']"
   ]
  },
  {
   "cell_type": "code",
   "execution_count": null,
   "metadata": {
    "ExecuteTime": {
     "end_time": "2018-08-22T03:19:52.152397Z",
     "start_time": "2018-08-22T03:19:52.072393Z"
    }
   },
   "outputs": [],
   "source": [
    "# from pyecharts import Overlap\n",
    "\n",
    "# line3 = Line()\n",
    "# line3.add(\"注册玩家数量\", data_day_count.index, data_day_count['register_time_day'], mark_line=[\"average\"], mark_point=[\"max\", \"min\"])\n",
    "\n",
    "# line4 = Line()\n",
    "# line4.add(\"7天内付费玩家数量\", data_day_count.index, data_day_count['pay_register_time_day'], mark_line=[\"average\"], \n",
    "#           mark_point=[\"max\", \"min\"], yaxis_max=3000)\n",
    "# overlap=Overlap()\n",
    "# overlap.add(line3)\n",
    "# overlap.add(line4,yaxis_index=1,is_add_yaxis=True)\n",
    "# overlap.render()\n",
    "# overlap"
   ]
  },
  {
   "cell_type": "code",
   "execution_count": null,
   "metadata": {
    "ExecuteTime": {
     "end_time": "2018-08-22T03:19:52.303406Z",
     "start_time": "2018-08-22T03:19:52.153398Z"
    }
   },
   "outputs": [],
   "source": [
    "data_train2[(data_train2['pay_price']>0) & (data_train2['prediction_pay_price']>0)].shape"
   ]
  },
  {
   "cell_type": "code",
   "execution_count": null,
   "metadata": {
    "ExecuteTime": {
     "end_time": "2018-08-22T03:19:52.370410Z",
     "start_time": "2018-08-22T03:19:52.304406Z"
    }
   },
   "outputs": [],
   "source": [
    "data_train2[(data_train2['pay_price']==0) & (data_train2['prediction_pay_price']>0)].shape"
   ]
  },
  {
   "cell_type": "code",
   "execution_count": null,
   "metadata": {
    "ExecuteTime": {
     "end_time": "2018-08-22T03:19:52.475416Z",
     "start_time": "2018-08-22T03:19:52.371410Z"
    }
   },
   "outputs": [],
   "source": [
    "data_train2[(data_train2['pay_price']>0) & (data_train2['prediction_pay_price']==0)].shape"
   ]
  },
  {
   "cell_type": "code",
   "execution_count": null,
   "metadata": {
    "ExecuteTime": {
     "end_time": "2018-08-22T03:19:52.593423Z",
     "start_time": "2018-08-22T03:19:52.477416Z"
    }
   },
   "outputs": [],
   "source": [
    "data_train2[(data_train2['pay_price']>0)].shape"
   ]
  },
  {
   "cell_type": "code",
   "execution_count": null,
   "metadata": {
    "ExecuteTime": {
     "end_time": "2018-08-22T03:19:52.891440Z",
     "start_time": "2018-08-22T03:19:52.594423Z"
    }
   },
   "outputs": [],
   "source": [
    "data_train2[(data_train2['prediction_pay_price']>0)].shape"
   ]
  },
  {
   "cell_type": "code",
   "execution_count": null,
   "metadata": {
    "ExecuteTime": {
     "end_time": "2018-08-22T03:19:53.292463Z",
     "start_time": "2018-08-22T03:19:52.892440Z"
    }
   },
   "outputs": [],
   "source": [
    "data_train2[data_train2['prediction_pay_price']>0]['prediction_pay_price'].describe()"
   ]
  },
  {
   "cell_type": "code",
   "execution_count": null,
   "metadata": {
    "ExecuteTime": {
     "end_time": "2018-08-22T03:19:53.460472Z",
     "start_time": "2018-08-22T03:19:53.293463Z"
    }
   },
   "outputs": [],
   "source": [
    "# data_train2['price_per_count_qua1']=data_train2.pay_price / data_train2.pay_count\n",
    "# del data_train2['price_per_count_qua1']"
   ]
  },
  {
   "cell_type": "code",
   "execution_count": null,
   "metadata": {
    "ExecuteTime": {
     "end_time": "2018-08-22T03:19:53.619481Z",
     "start_time": "2018-08-22T03:19:53.461472Z"
    }
   },
   "outputs": [],
   "source": [
    "data_pay_7=data_train2[data_train2['pay_price']>0]\n",
    "data_pay_45=data_train2[data_train2['prediction_pay_price']>0]"
   ]
  },
  {
   "cell_type": "code",
   "execution_count": null,
   "metadata": {
    "ExecuteTime": {
     "end_time": "2018-08-22T03:19:53.695486Z",
     "start_time": "2018-08-22T03:19:53.620481Z"
    }
   },
   "outputs": [],
   "source": [
    "data_train2[(data_train2['pay_price']>0) & (data_train2['pay_price'] == data_train2['prediction_pay_price'])] \\\n",
    "[['pay_price','prediction_pay_price','avg_online_minutes',]].describe()\n",
    "#pp> == ppp 只给了7天"
   ]
  },
  {
   "cell_type": "code",
   "execution_count": null,
   "metadata": {
    "ExecuteTime": {
     "end_time": "2018-08-22T03:19:53.754489Z",
     "start_time": "2018-08-22T03:19:53.696486Z"
    }
   },
   "outputs": [],
   "source": [
    "data_train2[(data_train2['pay_price']>0) & (data_train2['pay_price'] < data_train2['prediction_pay_price'])] \\\n",
    "[['pay_price','prediction_pay_price','avg_online_minutes']].describe()\n",
    "#pp>0 and pp< ppp 只给了7天,45天也付了"
   ]
  },
  {
   "cell_type": "code",
   "execution_count": null,
   "metadata": {
    "ExecuteTime": {
     "end_time": "2018-08-22T03:19:53.845494Z",
     "start_time": "2018-08-22T03:19:53.756489Z"
    }
   },
   "outputs": [],
   "source": [
    "data_train2[(data_train2['pay_price']==0) & (data_train2['prediction_pay_price']>0)] \\\n",
    "[['pay_price','prediction_pay_price','avg_online_minutes','general_acceleration_add_value']].describe()\n",
    "#pp=0 and ppp>0 前7天未付款,后45天也付钱的"
   ]
  },
  {
   "cell_type": "code",
   "execution_count": null,
   "metadata": {
    "ExecuteTime": {
     "end_time": "2018-08-22T03:19:55.010561Z",
     "start_time": "2018-08-22T03:19:53.846494Z"
    }
   },
   "outputs": [],
   "source": [
    "data_train2[(data_train2['pay_price']==0) & (data_train2['prediction_pay_price']==0)] \\\n",
    "[['pay_price','prediction_pay_price','avg_online_minutes','general_acceleration_add_value']].describe()"
   ]
  },
  {
   "cell_type": "code",
   "execution_count": null,
   "metadata": {
    "ExecuteTime": {
     "end_time": "2018-08-22T03:19:55.112567Z",
     "start_time": "2018-08-22T03:19:55.027562Z"
    }
   },
   "outputs": [],
   "source": [
    "data_train2[(data_train2['pay_price']>0) ] \\\n",
    "[['pay_price','prediction_pay_price','avg_online_minutes','pay_count']].describe()"
   ]
  },
  {
   "cell_type": "code",
   "execution_count": null,
   "metadata": {
    "ExecuteTime": {
     "end_time": "2018-08-22T03:19:55.166570Z",
     "start_time": "2018-08-22T03:19:55.113567Z"
    }
   },
   "outputs": [],
   "source": [
    "data_train2[(data_train2['pay_price']>0) & (data_train2['pay_price'] < data_train2['prediction_pay_price'])] \\\n",
    "[['pay_price','prediction_pay_price','avg_online_minutes','pay_count']].describe()"
   ]
  },
  {
   "cell_type": "code",
   "execution_count": null,
   "metadata": {
    "ExecuteTime": {
     "end_time": "2018-08-22T03:19:55.275576Z",
     "start_time": "2018-08-22T03:19:55.167570Z"
    }
   },
   "outputs": [],
   "source": [
    "data_train2[(data_train2['pay_price']>0) & ( data_train2['prediction_pay_price'] == data_train2['pay_price'])] \\\n",
    "[['pay_price','prediction_pay_price','avg_online_minutes','pay_count']].describe()"
   ]
  },
  {
   "cell_type": "code",
   "execution_count": null,
   "metadata": {},
   "outputs": [],
   "source": []
  },
  {
   "cell_type": "code",
   "execution_count": null,
   "metadata": {
    "ExecuteTime": {
     "end_time": "2018-08-22T03:19:55.307578Z",
     "start_time": "2018-08-22T03:19:55.277576Z"
    }
   },
   "outputs": [],
   "source": [
    "# del data_7pay"
   ]
  },
  {
   "cell_type": "code",
   "execution_count": null,
   "metadata": {
    "ExecuteTime": {
     "end_time": "2018-08-22T03:19:55.429585Z",
     "start_time": "2018-08-22T03:19:55.308578Z"
    }
   },
   "outputs": [],
   "source": [
    "data_7pay=data_train2[data_train2['pay_price']>0].copy()\n"
   ]
  },
  {
   "cell_type": "code",
   "execution_count": null,
   "metadata": {
    "ExecuteTime": {
     "end_time": "2018-08-22T03:19:55.866610Z",
     "start_time": "2018-08-22T03:19:55.430585Z"
    }
   },
   "outputs": [],
   "source": [
    "data_7pay['ivory_qua1']=data_7pay.ivory_add_value+data_7pay.ivory_reduce_value\n",
    "data_7pay['ivory_qua2']=data_7pay.ivory_add_value-data_7pay.ivory_reduce_value\n",
    "data_7pay['stone_qua1']=data_7pay.stone_add_value+data_7pay.stone_reduce_value\n",
    "data_7pay['stone_qua2']=data_7pay.stone_add_value-data_7pay.stone_reduce_value\n",
    "data_7pay['meat_qua1']=data_7pay.meat_add_value+data_7pay.meat_reduce_value\n",
    "data_7pay['meat_qua2']=data_7pay.meat_add_value-data_7pay.meat_reduce_value\n",
    "data_7pay['wood_qua1']=data_7pay.wood_add_value+data_7pay.wood_reduce_value\n",
    "data_7pay['wood_qua2']=data_7pay.wood_add_value-data_7pay.wood_reduce_value\n",
    "\n",
    "text_def=[]\n",
    "for col in data_7pay.columns.values:\n",
    "     if 'def' in col:\n",
    "            text_def.append(col)\n",
    "text_def=[]\n",
    "for col in data_7pay.columns.values:\n",
    "     if 'def' in col:\n",
    "            text_def.append(col)\n",
    "text_troop=[]\n",
    "for col in data_7pay.columns.values:\n",
    "    if 'troop' in col :\n",
    "        text_troop.append(col)\n",
    "text_cavalry=[]\n",
    "for col in data_7pay.columns.values:\n",
    "    if 'sr_cavalry' in col :\n",
    "        text_cavalry.append(col) \n",
    "text_infantry=[]\n",
    "for col in data_7pay.columns.values:\n",
    "    if 'sr_infantry' in col :\n",
    "        text_infantry.append(col)        \n",
    "\n",
    "text_shaman=[]\n",
    "for col in data_7pay.columns.values:\n",
    "    if 'sr_shaman' in col :\n",
    "        text_shaman.append(col)\n",
    "text_speed=[]\n",
    "for col in data_7pay.columns.values:\n",
    "    if 'speed' in col :\n",
    "        text_speed.append(col)\n",
    "data_7pay['def_qua1']=0.0\n",
    "for name in text_def:\n",
    "    data_7pay['def_qua1']+=data_7pay[name]\n",
    "data_7pay['cavalry_qua1']=0.0\n",
    "for name in text_cavalry:\n",
    "    data_7pay['cavalry_qua1']+=data_7pay[name]\n",
    "data_7pay['infantry_qua1']=0.0\n",
    "for name in text_infantry:\n",
    "    data_7pay['infantry_qua1']+=data_7pay[name] \n",
    "data_7pay['shaman_qua1']=0.0\n",
    "for name in text_shaman:\n",
    "    data_7pay['shaman_qua1']+=data_7pay[name]\n",
    "data_7pay['speed_qua1']=0.0\n",
    "for name in text_speed:\n",
    "    data_7pay['speed_qua1']+=data_7pay[name]\n",
    "data_7pay['troop_qua1']=0.0\n",
    "for name in text_troop:\n",
    "    data_7pay['troop_qua1']+=data_7pay[name]\n",
    "\n",
    "\n",
    "text_acceleration=[]\n",
    "for col in data_7pay.columns.values:\n",
    "    if 'acceleration' in col :\n",
    "        text_acceleration.append(col)\n",
    "text_acceleration_add=[]\n",
    "for col in data_7pay.columns.values:\n",
    "    if 'acceleration_add' in col :\n",
    "        text_acceleration_add.append(col)\n",
    "text_acceleration_reduce=[]\n",
    "for col in data_7pay.columns.values:\n",
    "    if 'acceleration_reduce' in col :\n",
    "        text_acceleration_reduce.append(col) \n",
    "        \n",
    "data_7pay['acceleration_qua1']=0.0\n",
    "for name in text_acceleration:\n",
    "    data_7pay['acceleration_qua1']+=data_7pay[name]\n",
    "data_7pay['acceleration_add_qua1']=0.0\n",
    "for name in text_acceleration_add:\n",
    "    data_7pay['acceleration_add_qua1']+=data_7pay[name]\n",
    "data_7pay['acceleration_reduce_qua1']=0.0\n",
    "for name in text_acceleration_reduce:\n",
    "    data_7pay['acceleration_reduce_qua1']+=data_7pay[name]    \n",
    "        \n",
    "\n"
   ]
  },
  {
   "cell_type": "code",
   "execution_count": null,
   "metadata": {
    "ExecuteTime": {
     "end_time": "2018-08-22T03:19:55.870610Z",
     "start_time": "2018-08-22T03:19:55.867610Z"
    }
   },
   "outputs": [],
   "source": [
    "# data_7pay['price_per_count_qua1']=data_7pay['pay_price'] / data_7pay['pay_count']"
   ]
  },
  {
   "cell_type": "code",
   "execution_count": null,
   "metadata": {
    "ExecuteTime": {
     "end_time": "2018-08-22T03:19:56.027619Z",
     "start_time": "2018-08-22T03:19:55.871610Z"
    }
   },
   "outputs": [],
   "source": [
    "text_qua=[]\n",
    "for col in data_7pay.columns.values:\n",
    "    if 'qua' in col:\n",
    "        text_qua.append(col)"
   ]
  },
  {
   "cell_type": "code",
   "execution_count": null,
   "metadata": {
    "ExecuteTime": {
     "end_time": "2018-08-22T03:19:56.123625Z",
     "start_time": "2018-08-22T03:19:56.028619Z"
    }
   },
   "outputs": [],
   "source": [
    "# data_7pay[(data_7pay['pay_price']>0) & ( data_7pay['prediction_pay_price'] == data_7pay['pay_price'])] \\\n",
    "# [['pay_price','prediction_pay_price','avg_online_minutes','pay_count','price_per_count_qua1']].describe()"
   ]
  },
  {
   "cell_type": "code",
   "execution_count": null,
   "metadata": {
    "ExecuteTime": {
     "end_time": "2018-08-22T03:19:56.202629Z",
     "start_time": "2018-08-22T03:19:56.124625Z"
    }
   },
   "outputs": [],
   "source": [
    "# data_7pay[(data_7pay['pay_price']>0) & ( data_7pay['prediction_pay_price'] > data_7pay['pay_price'])] \\\n",
    "# [['pay_price','prediction_pay_price','avg_online_minutes','pay_count','price_per_count_qua1']].describe()"
   ]
  },
  {
   "cell_type": "code",
   "execution_count": null,
   "metadata": {
    "ExecuteTime": {
     "end_time": "2018-08-22T03:19:56.332637Z",
     "start_time": "2018-08-22T03:19:56.203629Z"
    }
   },
   "outputs": [],
   "source": [
    "# for name in data_7pay.columns.values:\n",
    "#     price_name=name+'_per_price_qua3'\n",
    "#     data_7pay[price_name]=data_7pay[name] / data_7pay['pay_price']"
   ]
  },
  {
   "cell_type": "code",
   "execution_count": null,
   "metadata": {
    "ExecuteTime": {
     "end_time": "2018-08-22T03:19:56.923670Z",
     "start_time": "2018-08-22T03:19:56.333637Z"
    }
   },
   "outputs": [],
   "source": [
    "for name in data_7pay.columns.values:\n",
    "    price_name=name+'_per_price_qua3'\n",
    "    count_name=name+'_per_count_qua3'\n",
    "    mean_name=name+'_price_count_mean_qua3'\n",
    "    data_7pay[price_name]=data_7pay[name] / data_7pay['pay_price']\n",
    "    data_7pay[count_name]=data_7pay[name] / data_7pay['pay_count']\n",
    "    data_7pay[mean_name]=data_7pay[name] / (data_7pay['pay_price']/data_7pay['pay_count'])"
   ]
  },
  {
   "cell_type": "code",
   "execution_count": null,
   "metadata": {
    "ExecuteTime": {
     "end_time": "2018-08-22T03:15:48.122883Z",
     "start_time": "2018-08-22T03:15:48.073282Z"
    }
   },
   "outputs": [],
   "source": [
    "data_7pay.head()"
   ]
  },
  {
   "cell_type": "code",
   "execution_count": null,
   "metadata": {
    "ExecuteTime": {
     "end_time": "2018-08-22T03:07:42.712932Z",
     "start_time": "2018-08-22T03:07:42.624729Z"
    }
   },
   "outputs": [],
   "source": [
    "# text_qua3=[]\n",
    "# for col in data_7pay.columns.values:\n",
    "#     if 'qua3' in col:\n",
    "#         text_qua3.append(col)\n",
    "# data_7pay.drop(labels=text_qua3,axis=1,inplace=True)"
   ]
  },
  {
   "cell_type": "code",
   "execution_count": 56,
   "metadata": {
    "ExecuteTime": {
     "end_time": "2018-08-22T03:25:08.828408Z",
     "start_time": "2018-08-22T03:25:08.781807Z"
    }
   },
   "outputs": [
    {
     "data": {
      "text/html": [
       "<div>\n",
       "<style scoped>\n",
       "    .dataframe tbody tr th:only-of-type {\n",
       "        vertical-align: middle;\n",
       "    }\n",
       "\n",
       "    .dataframe tbody tr th {\n",
       "        vertical-align: top;\n",
       "    }\n",
       "\n",
       "    .dataframe thead th {\n",
       "        text-align: right;\n",
       "    }\n",
       "</style>\n",
       "<table border=\"1\" class=\"dataframe\">\n",
       "  <thead>\n",
       "    <tr style=\"text-align: right;\">\n",
       "      <th></th>\n",
       "      <th>wood_add_value</th>\n",
       "      <th>wood_reduce_value</th>\n",
       "      <th>stone_add_value</th>\n",
       "      <th>stone_reduce_value</th>\n",
       "      <th>ivory_add_value</th>\n",
       "      <th>ivory_reduce_value</th>\n",
       "      <th>meat_add_value</th>\n",
       "      <th>meat_reduce_value</th>\n",
       "      <th>magic_add_value</th>\n",
       "      <th>magic_reduce_value</th>\n",
       "      <th>...</th>\n",
       "      <th>troop_qua1_price_count_mean_qua3</th>\n",
       "      <th>acceleration_qua1_per_price_qua3</th>\n",
       "      <th>acceleration_qua1_per_count_qua3</th>\n",
       "      <th>acceleration_qua1_price_count_mean_qua3</th>\n",
       "      <th>acceleration_add_qua1_per_price_qua3</th>\n",
       "      <th>acceleration_add_qua1_per_count_qua3</th>\n",
       "      <th>acceleration_add_qua1_price_count_mean_qua3</th>\n",
       "      <th>acceleration_reduce_qua1_per_price_qua3</th>\n",
       "      <th>acceleration_reduce_qua1_per_count_qua3</th>\n",
       "      <th>acceleration_reduce_qua1_price_count_mean_qua3</th>\n",
       "    </tr>\n",
       "  </thead>\n",
       "  <tbody>\n",
       "    <tr>\n",
       "      <th>25</th>\n",
       "      <td>30000.0</td>\n",
       "      <td>97200.0</td>\n",
       "      <td>20000.0</td>\n",
       "      <td>0.0</td>\n",
       "      <td>0.0</td>\n",
       "      <td>0.0</td>\n",
       "      <td>160500.0</td>\n",
       "      <td>80392.0</td>\n",
       "      <td>12000.0</td>\n",
       "      <td>0.0</td>\n",
       "      <td>...</td>\n",
       "      <td>0.0</td>\n",
       "      <td>505.050500</td>\n",
       "      <td>500.0</td>\n",
       "      <td>505.050500</td>\n",
       "      <td>505.050500</td>\n",
       "      <td>500.0</td>\n",
       "      <td>505.050500</td>\n",
       "      <td>0.000000</td>\n",
       "      <td>0.0</td>\n",
       "      <td>0.000000</td>\n",
       "    </tr>\n",
       "    <tr>\n",
       "      <th>40</th>\n",
       "      <td>1111744.0</td>\n",
       "      <td>1137687.0</td>\n",
       "      <td>491331.0</td>\n",
       "      <td>790208.0</td>\n",
       "      <td>77000.0</td>\n",
       "      <td>0.0</td>\n",
       "      <td>1457249.0</td>\n",
       "      <td>708483.0</td>\n",
       "      <td>217455.0</td>\n",
       "      <td>162987.0</td>\n",
       "      <td>...</td>\n",
       "      <td>0.0</td>\n",
       "      <td>1604.040389</td>\n",
       "      <td>1588.0</td>\n",
       "      <td>4812.121166</td>\n",
       "      <td>1060.606050</td>\n",
       "      <td>1050.0</td>\n",
       "      <td>3181.818151</td>\n",
       "      <td>543.434338</td>\n",
       "      <td>538.0</td>\n",
       "      <td>1630.303015</td>\n",
       "    </tr>\n",
       "    <tr>\n",
       "      <th>47</th>\n",
       "      <td>249050.0</td>\n",
       "      <td>173248.0</td>\n",
       "      <td>70841.0</td>\n",
       "      <td>117012.0</td>\n",
       "      <td>55000.0</td>\n",
       "      <td>0.0</td>\n",
       "      <td>206366.0</td>\n",
       "      <td>82205.0</td>\n",
       "      <td>29902.0</td>\n",
       "      <td>88064.0</td>\n",
       "      <td>...</td>\n",
       "      <td>0.0</td>\n",
       "      <td>247.725515</td>\n",
       "      <td>1071.0</td>\n",
       "      <td>743.176573</td>\n",
       "      <td>87.432535</td>\n",
       "      <td>378.0</td>\n",
       "      <td>262.297614</td>\n",
       "      <td>160.292981</td>\n",
       "      <td>693.0</td>\n",
       "      <td>480.878959</td>\n",
       "    </tr>\n",
       "    <tr>\n",
       "      <th>86</th>\n",
       "      <td>0.0</td>\n",
       "      <td>0.0</td>\n",
       "      <td>0.0</td>\n",
       "      <td>0.0</td>\n",
       "      <td>0.0</td>\n",
       "      <td>0.0</td>\n",
       "      <td>0.0</td>\n",
       "      <td>0.0</td>\n",
       "      <td>0.0</td>\n",
       "      <td>0.0</td>\n",
       "      <td>...</td>\n",
       "      <td>0.0</td>\n",
       "      <td>0.000000</td>\n",
       "      <td>0.0</td>\n",
       "      <td>0.000000</td>\n",
       "      <td>0.000000</td>\n",
       "      <td>0.0</td>\n",
       "      <td>0.000000</td>\n",
       "      <td>0.000000</td>\n",
       "      <td>0.0</td>\n",
       "      <td>0.000000</td>\n",
       "    </tr>\n",
       "    <tr>\n",
       "      <th>119</th>\n",
       "      <td>0.0</td>\n",
       "      <td>0.0</td>\n",
       "      <td>0.0</td>\n",
       "      <td>0.0</td>\n",
       "      <td>0.0</td>\n",
       "      <td>0.0</td>\n",
       "      <td>0.0</td>\n",
       "      <td>0.0</td>\n",
       "      <td>0.0</td>\n",
       "      <td>0.0</td>\n",
       "      <td>...</td>\n",
       "      <td>0.0</td>\n",
       "      <td>0.000000</td>\n",
       "      <td>0.0</td>\n",
       "      <td>0.000000</td>\n",
       "      <td>0.000000</td>\n",
       "      <td>0.0</td>\n",
       "      <td>0.000000</td>\n",
       "      <td>0.000000</td>\n",
       "      <td>0.0</td>\n",
       "      <td>0.000000</td>\n",
       "    </tr>\n",
       "  </tbody>\n",
       "</table>\n",
       "<p>5 rows × 496 columns</p>\n",
       "</div>"
      ],
      "text/plain": [
       "     wood_add_value  wood_reduce_value  stone_add_value  stone_reduce_value  \\\n",
       "25          30000.0            97200.0          20000.0                 0.0   \n",
       "40        1111744.0          1137687.0         491331.0            790208.0   \n",
       "47         249050.0           173248.0          70841.0            117012.0   \n",
       "86              0.0                0.0              0.0                 0.0   \n",
       "119             0.0                0.0              0.0                 0.0   \n",
       "\n",
       "     ivory_add_value  ivory_reduce_value  meat_add_value  meat_reduce_value  \\\n",
       "25               0.0                 0.0        160500.0            80392.0   \n",
       "40           77000.0                 0.0       1457249.0           708483.0   \n",
       "47           55000.0                 0.0        206366.0            82205.0   \n",
       "86               0.0                 0.0             0.0                0.0   \n",
       "119              0.0                 0.0             0.0                0.0   \n",
       "\n",
       "     magic_add_value  magic_reduce_value  \\\n",
       "25           12000.0                 0.0   \n",
       "40          217455.0            162987.0   \n",
       "47           29902.0             88064.0   \n",
       "86               0.0                 0.0   \n",
       "119              0.0                 0.0   \n",
       "\n",
       "                          ...                        \\\n",
       "25                        ...                         \n",
       "40                        ...                         \n",
       "47                        ...                         \n",
       "86                        ...                         \n",
       "119                       ...                         \n",
       "\n",
       "     troop_qua1_price_count_mean_qua3  acceleration_qua1_per_price_qua3  \\\n",
       "25                                0.0                        505.050500   \n",
       "40                                0.0                       1604.040389   \n",
       "47                                0.0                        247.725515   \n",
       "86                                0.0                          0.000000   \n",
       "119                               0.0                          0.000000   \n",
       "\n",
       "     acceleration_qua1_per_count_qua3  \\\n",
       "25                              500.0   \n",
       "40                             1588.0   \n",
       "47                             1071.0   \n",
       "86                                0.0   \n",
       "119                               0.0   \n",
       "\n",
       "     acceleration_qua1_price_count_mean_qua3  \\\n",
       "25                                505.050500   \n",
       "40                               4812.121166   \n",
       "47                                743.176573   \n",
       "86                                  0.000000   \n",
       "119                                 0.000000   \n",
       "\n",
       "     acceleration_add_qua1_per_price_qua3  \\\n",
       "25                             505.050500   \n",
       "40                            1060.606050   \n",
       "47                              87.432535   \n",
       "86                               0.000000   \n",
       "119                              0.000000   \n",
       "\n",
       "     acceleration_add_qua1_per_count_qua3  \\\n",
       "25                                  500.0   \n",
       "40                                 1050.0   \n",
       "47                                  378.0   \n",
       "86                                    0.0   \n",
       "119                                   0.0   \n",
       "\n",
       "     acceleration_add_qua1_price_count_mean_qua3  \\\n",
       "25                                    505.050500   \n",
       "40                                   3181.818151   \n",
       "47                                    262.297614   \n",
       "86                                      0.000000   \n",
       "119                                     0.000000   \n",
       "\n",
       "     acceleration_reduce_qua1_per_price_qua3  \\\n",
       "25                                  0.000000   \n",
       "40                                543.434338   \n",
       "47                                160.292981   \n",
       "86                                  0.000000   \n",
       "119                                 0.000000   \n",
       "\n",
       "     acceleration_reduce_qua1_per_count_qua3  \\\n",
       "25                                       0.0   \n",
       "40                                     538.0   \n",
       "47                                     693.0   \n",
       "86                                       0.0   \n",
       "119                                      0.0   \n",
       "\n",
       "     acceleration_reduce_qua1_price_count_mean_qua3  \n",
       "25                                         0.000000  \n",
       "40                                      1630.303015  \n",
       "47                                       480.878959  \n",
       "86                                         0.000000  \n",
       "119                                        0.000000  \n",
       "\n",
       "[5 rows x 496 columns]"
      ]
     },
     "execution_count": 56,
     "metadata": {},
     "output_type": "execute_result"
    }
   ],
   "source": [
    "data_7pay.head()"
   ]
  },
  {
   "cell_type": "code",
   "execution_count": null,
   "metadata": {
    "ExecuteTime": {
     "end_time": "2018-08-21T06:59:38.097372Z",
     "start_time": "2018-08-21T06:59:37.999366Z"
    }
   },
   "outputs": [],
   "source": []
  },
  {
   "cell_type": "code",
   "execution_count": null,
   "metadata": {},
   "outputs": [],
   "source": []
  },
  {
   "cell_type": "code",
   "execution_count": null,
   "metadata": {
    "ExecuteTime": {
     "end_time": "2018-08-21T07:00:04.150423Z",
     "start_time": "2018-08-21T07:00:04.103821Z"
    }
   },
   "outputs": [],
   "source": []
  },
  {
   "cell_type": "code",
   "execution_count": null,
   "metadata": {},
   "outputs": [],
   "source": []
  },
  {
   "cell_type": "code",
   "execution_count": null,
   "metadata": {},
   "outputs": [],
   "source": []
  },
  {
   "cell_type": "code",
   "execution_count": null,
   "metadata": {},
   "outputs": [],
   "source": []
  },
  {
   "cell_type": "code",
   "execution_count": 61,
   "metadata": {
    "ExecuteTime": {
     "end_time": "2018-08-22T03:29:41.316292Z",
     "start_time": "2018-08-22T03:29:19.520847Z"
    }
   },
   "outputs": [],
   "source": [
    "data_7pay_corr=data_7pay.corr()"
   ]
  },
  {
   "cell_type": "code",
   "execution_count": 72,
   "metadata": {
    "ExecuteTime": {
     "end_time": "2018-08-22T07:00:02.844632Z",
     "start_time": "2018-08-22T07:00:02.777628Z"
    }
   },
   "outputs": [
    {
     "name": "stdout",
     "output_type": "stream",
     "text": [
      "pay_price                                                                                        1.0\n",
      "acceleration_add_qua1                                                             0.8688894628586055\n",
      "acceleration_qua1                                                                 0.8654473750109685\n",
      "ivory_qua1                                                                        0.8639682757433121\n",
      "ivory_reduce_value                                                                0.8598859427834669\n",
      "general_acceleration_add_value                                                    0.8578573611306302\n",
      "ivory_add_value                                                                   0.8565614846094136\n",
      "stone_qua1                                                                        0.8473054312405649\n",
      "acceleration_reduce_qua1                                                          0.8439925213242025\n",
      "stone_reduce_value                                                                0.8414085253732003\n",
      "wood_qua1                                                                         0.8366205250016824\n",
      "stone_add_value                                                                   0.8364692890110368\n",
      "wood_add_value                                                                    0.8300523355183907\n",
      "wood_reduce_value                                                                  0.826977089951754\n",
      "training_acceleration_add_value                                                   0.8206999759223056\n",
      "general_acceleration_reduce_value                                                 0.8167929691109599\n",
      "meat_qua1                                                                         0.8144684419944213\n",
      "meat_reduce_value                                                                 0.8057316682923893\n",
      "meat_add_value                                                                    0.8019399706978908\n",
      "pay_price_price_count_mean_qua3                                                   0.7966962682823562\n",
      "pay_count                                                                         0.7966962676877996\n",
      "reaserch_acceleration_add_value                                                   0.7913262744834166\n",
      "def_qua1                                                                          0.7848801591632425\n",
      "reaserch_acceleration_reduce_value                                                0.7818620242716278\n",
      "training_acceleration_reduce_value                                                0.7642286505840865\n",
      "building_acceleration_reduce_value                                                0.7348672682891463\n",
      "prediction_pay_price                                                              0.7345023697821266\n",
      "building_acceleration_add_value                                                   0.7339902744011764\n",
      "sr_troop_defense_level                                                            0.7239833417057756\n",
      "magic_reduce_value                                                                0.7067657434016051\n",
      "magic_add_value                                                                   0.6852386066570137\n",
      "pay_price_per_count_qua3                                                          0.6835243823293936\n",
      "sr_cavalry_def_level                                                              0.6797675598594437\n",
      "meat_qua2                                                                         0.6797637183113038\n",
      "sr_infantry_def_level                                                             0.6658857999666059\n",
      "sr_infantry_hp_level                                                                0.65557220918225\n",
      "def_qua1_price_count_mean_qua3                                                    0.6485634428623084\n",
      "sr_cavalry_hp_level                                                               0.6448450389792177\n",
      "sr_shaman_def_level                                                                0.641374449440015\n",
      "wood_qua2                                                                         0.6195049646005669\n",
      "stone_qua2                                                                        0.6193967601476082\n",
      "def_qua1_per_count_qua3                                                           0.6118597824183895\n",
      "sr_shaman_hp_level                                                                  0.61123837536341\n",
      "sr_shaman_tier_3_level                                                            0.5916962042224069\n",
      "sr_cavalry_tier_3_level                                                           0.5842343598950649\n",
      "sr_troop_defense_level_price_count_mean_qua3                                      0.5821395008338124\n",
      "sr_infantry_tier_3_level                                                          0.5737942768776032\n",
      "sr_cavalry_def_level_price_count_mean_qua3                                        0.5702789109262736\n",
      "cavalry_qua1                                                                      0.5682599005591974\n",
      "infantry_qua1                                                                     0.5651580426508624\n",
      "sr_cavalry_tier_4_level                                                           0.5641314467814014\n",
      "shaman_qua1                                                                       0.5626611737477651\n",
      "sr_infantry_def_level_price_count_mean_qua3                                       0.5568839891198548\n",
      "ivory_qua2                                                                        0.5555459021869293\n",
      "sr_infantry_tier_4_level                                                          0.5335152482814063\n",
      "sr_cavalry_def_level_per_count_qua3                                               0.5290045577834962\n",
      "sr_troop_defense_level_per_count_qua3                                              0.526866175157987\n",
      "ivory_reduce_value_per_count_qua3                                                 0.5229957600677391\n",
      "sr_cavalry_tier_4_level_price_count_mean_qua3                                     0.5178162518717717\n",
      "sr_infantry_hp_level_price_count_mean_qua3                                          0.51487542688516\n",
      "sr_infantry_def_level_per_count_qua3                                              0.5137218913123976\n",
      "sr_cavalry_hp_level_price_count_mean_qua3                                         0.5137069641884807\n",
      "sr_shaman_def_level_price_count_mean_qua3                                         0.5132159073705507\n",
      "sr_infantry_tier_4_level_price_count_mean_qua3                                    0.4913724366083809\n",
      "sr_shaman_hp_level_price_count_mean_qua3                                          0.4898925249248063\n",
      "sr_infantry_hp_level_per_count_qua3                                              0.48766793340517917\n",
      "sr_gathering_march_speed_level                                                   0.47810763641946025\n",
      "def_qua1_per_price_qua3                                                          0.47616206889871926\n",
      "sr_shaman_def_level_per_count_qua3                                                0.4750542813899427\n",
      "sr_cavalry_tier_4_level_per_count_qua3                                            0.4732210818611082\n",
      "sr_pvp_march_speed_level                                                          0.4718101469309309\n",
      "sr_cavalry_hp_level_per_count_qua3                                               0.46472535823500105\n",
      "ivory_qua1_per_count_qua3                                                         0.4626860043709035\n",
      "ivory_reduce_value_price_count_mean_qua3                                          0.4535805743959342\n",
      "sr_shaman_tier_4_level                                                            0.4493657405610776\n",
      "cavalry_add_value                                                                0.44581534261967165\n",
      "sr_infantry_tier_4_level_per_count_qua3                                          0.44268087549185325\n",
      "sr_cavalry_tier_4_level_per_price_qua3                                            0.4394830810380454\n",
      "sr_shaman_hp_level_per_count_qua3                                                0.43556738701667697\n",
      "sr_alliance_march_speed_level                                                     0.4262922870648329\n",
      "treatment_acceleraion_add_value                                                   0.4232517309783164\n",
      "sr_infantry_tier_4_level_per_price_qua3                                          0.41237739681886665\n",
      "infantry_add_value                                                                0.4080074853984787\n",
      "sr_cavalry_def_level_per_price_qua3                                               0.4049545658982873\n",
      "sr_troop_defense_level_per_price_qua3                                            0.40416454763949566\n",
      "sr_shaman_tier_4_level_price_count_mean_qua3                                       0.400378300980596\n",
      "sr_infantry_def_level_per_price_qua3                                              0.3951200545141824\n",
      "ivory_add_value_per_count_qua3                                                    0.3828757406878486\n",
      "sr_outpost_tier_3_level                                                           0.3801117310338492\n",
      "sr_shaman_atk_level                                                              0.37920833112898195\n",
      "sr_shaman_tier_3_level_per_count_qua3                                            0.37620300716350835\n",
      "sr_infantry_hp_level_per_price_qua3                                              0.37462433840803955\n",
      "sr_cavalry_tier_3_level_per_count_qua3                                           0.36887697072174136\n",
      "sr_shaman_def_level_per_price_qua3                                                0.3660976594605746\n",
      "sr_cavalry_hp_level_per_price_qua3                                                0.3620625022934352\n",
      "ivory_qua1_price_count_mean_qua3                                                  0.3596354703633091\n",
      "sr_infantry_tier_3_level_per_count_qua3                                          0.35825538152415204\n",
      "sr_cavalry_atk_level                                                               0.357324252900861\n",
      "sr_shaman_tier_4_level_per_count_qua3                                             0.3556442231283073\n",
      "sr_troop_attack_level_price_count_mean_qua3                                       0.3499625265668944\n",
      "sr_troop_attack_level_per_price_qua3                                               0.349424416942694\n",
      "sr_troop_attack_level                                                            0.34772016530110156\n",
      "sr_infantry_atk_level                                                              0.347327552185848\n",
      "sr_shaman_hp_level_per_price_qua3                                                 0.3461524112194454\n",
      "stone_add_value_per_count_qua3                                                    0.3433008027879319\n",
      "sr_troop_attack_level_per_count_qua3                                               0.342811093844187\n",
      "sr_cavalry_tier_3_level_price_count_mean_qua3                                    0.33873362265507934\n",
      "sr_shaman_tier_3_level_price_count_mean_qua3                                      0.3345207906648053\n",
      "stone_qua1_per_count_qua3                                                         0.3293762534724912\n",
      "sr_outpost_tier_4_level                                                          0.32467592432616427\n",
      "sr_shaman_tier_4_level_per_price_qua3                                            0.32192438409629587\n",
      "sr_infantry_tier_3_level_price_count_mean_qua3                                   0.31491120578494053\n",
      "sr_outpost_tier_4_level_price_count_mean_qua3                                     0.3015241335692284\n",
      "speed_qua1                                                                        0.2977376843062279\n",
      "stone_reduce_value_per_count_qua3                                                 0.2960307788981528\n",
      "troop_qua1                                                                        0.2960054838389855\n",
      "sr_rss_c_prod_level                                                               0.2923465059900344\n",
      "bd_outpost_portal_level                                                          0.27965692718390023\n",
      "training_acceleration_reduce_value_per_count_qua3                                 0.2702045730311895\n",
      "ivory_add_value_price_count_mean_qua3                                            0.26713450605225714\n",
      "bd_stronghold_level                                                               0.2655309369622522\n",
      "bd_dolmen_level                                                                   0.2624791831159186\n",
      "bd_hall_of_war_level                                                             0.25264723956609714\n",
      "bd_barrack_level                                                                 0.24715098963323517\n",
      "sr_rss_e_gather_level                                                            0.23814352634927544\n",
      "sr_march_size_level                                                              0.23546646200134888\n",
      "stone_qua2_per_count_qua3                                                        0.23219317019208321\n",
      "avg_online_minutes                                                               0.23192988112110802\n",
      "sr_rss_c_gather_level                                                            0.23025439732706082\n",
      "sr_march_size_level_price_count_mean_qua3                                        0.22986942631159551\n",
      "cavalry_reduce_value                                                              0.2284980524038623\n",
      "sr_pvp_march_speed_level_per_count_qua3                                          0.22801699627666847\n",
      "sr_cavalry_tier_3_level_per_price_qua3                                            0.2264919425538034\n",
      "sr_gathering_march_speed_level_per_count_qua3                                    0.22452112171662936\n",
      "prediction_pay_price_per_count_qua3                                              0.22276727953042494\n",
      "training_acceleration_add_value_per_count_qua3                                   0.22263534164178428\n",
      "bd_healing_spring_level                                                          0.21912993334034137\n",
      "sr_alliance_march_speed_level_per_count_qua3                                     0.21741285502202923\n",
      "general_acceleration_reduce_value_per_count_qua3                                 0.21717132204320977\n",
      "wood_qua2_per_count_qua3                                                          0.2142735263854408\n",
      "sr_shaman_tier_3_level_per_price_qua3                                            0.21299906171755256\n",
      "sr_guest_troop_capacity_level                                                     0.2109618323590571\n",
      "sr_healing_space_level                                                            0.2100774647857767\n",
      "stone_add_value_price_count_mean_qua3                                            0.20806198350986502\n",
      "infantry_reduce_value                                                             0.2071805836441176\n",
      "sr_guest_troop_capacity_level_price_count_mean_qua3                               0.20541074966776268\n",
      "acceleration_reduce_qua1_per_count_qua3                                           0.2047777516545485\n",
      "prediction_pay_price_price_count_mean_qua3                                         0.204622934173055\n",
      "bd_training_hut_level                                                            0.20228907196349455\n",
      "sr_infantry_tier_3_level_per_price_qua3                                          0.20227785334301723\n",
      "bd_warehouse_level                                                               0.20170630248237387\n",
      "general_acceleration_add_value_per_count_qua3                                    0.19380578058152814\n",
      "acceleration_qua1_per_count_qua3                                                 0.19226350339116882\n",
      "stone_qua1_price_count_mean_qua3                                                 0.19027837645795256\n",
      "bd_healing_lodge_level                                                           0.18918966625949804\n",
      "sr_rss_b_prod_level                                                              0.18198824076640843\n",
      "sr_pvp_march_speed_level_price_count_mean_qua3                                   0.17827169096071396\n",
      "bd_watchtower_level                                                              0.17718174649175947\n",
      "bd_guest_cavern_level                                                            0.17655521095072196\n",
      "sr_outpost_tier_4_level_per_count_qua3                                            0.1757115075453677\n",
      "sr_healing_speed_level                                                           0.17513964616234867\n",
      "wood_add_value_per_count_qua3                                                     0.1742578326918684\n",
      "sr_alliance_march_speed_level_price_count_mean_qua3                               0.17388868162195362\n",
      "sr_training_speed_level                                                          0.17325450370176368\n",
      "training_acceleration_reduce_value_price_count_mean_qua3                               0.17223504242367244\n",
      "stone_qua2_price_count_mean_qua3                                                 0.17180325200587365\n",
      "bd_hero_pve_level                                                                 0.1712775480584629\n",
      "sr_gathering_march_speed_level_price_count_mean_qua3                               0.17124073147713278\n",
      "pvp_win_count                                                                    0.16649795524651267\n",
      "sr_rss_e_prod_level                                                               0.1657865165778824\n",
      "stone_reduce_value_price_count_mean_qua3                                          0.1656974454124861\n",
      "sr_gathering_hunter_buff_level                                                   0.16406024499387903\n",
      "acceleration_add_qua1_per_count_qua3                                               0.163570323718426\n",
      "bd_magic_coin_tree_level                                                         0.16333176670108607\n",
      "sr_outpost_tier_4_level_per_price_qua3                                            0.1599932885498304\n",
      "sr_rss_b_gather_level                                                            0.15868971189719214\n",
      "pvp_battle_count                                                                 0.15371822049004172\n",
      "wood_qua2_price_count_mean_qua3                                                  0.15232849960219835\n",
      "wood_qua1_per_count_qua3                                                         0.15089600743630946\n",
      "pvp_lanch_count                                                                    0.149994828954068\n",
      "pve_battle_count                                                                 0.14659673960929573\n",
      "pve_lanch_count                                                                   0.1456040147880537\n",
      "pve_win_count                                                                    0.14342739563447196\n",
      "treatment_acceleration_reduce_value                                              0.14070293485334745\n",
      "training_acceleration_add_value_price_count_mean_qua3                               0.13792045310624135\n",
      "bd_hero_strengthen_level                                                          0.1357815697089275\n",
      "sr_construction_speed_level                                                       0.1319847212499746\n",
      "meat_qua2_per_count_qua3                                                         0.12790541353192142\n",
      "general_acceleration_reduce_value_price_count_mean_qua3                                0.1218127752381221\n",
      "wood_reduce_value_per_count_qua3                                                 0.12160203852394587\n",
      "sr_rss_help_bonus_level                                                          0.12077837932669619\n",
      "reaserch_acceleration_reduce_value_per_count_qua3                                0.12033909295396472\n",
      "bd_hero_gacha_level                                                               0.1195982487228736\n",
      "bd_market_level                                                                  0.11890150011477092\n",
      "sr_troop_load_level                                                               0.1187961301647125\n",
      "meat_add_value_per_count_qua3                                                    0.11616648068388806\n",
      "sr_rss_a_gather_level                                                            0.11337051463341287\n",
      "wound_infantry_reduce_value                                                      0.11322969255850586\n",
      "wound_infantry_add_value                                                         0.11210020565830903\n",
      "wound_cavalry_reduce_value                                                       0.11206725698721902\n",
      "sr_scout_level                                                                   0.11038655724128389\n",
      "sr_hide_storage_level                                                            0.10950743495592914\n",
      "wound_cavalry_add_value                                                           0.1094972402552962\n",
      "sr_rss_help_bonus_level_price_count_mean_qua3                                    0.10828341423953824\n",
      "sr_outpost_tier_3_level_per_count_qua3                                            0.1067550420016712\n",
      "sr_rss_a_prod_levell                                                             0.10660716575002746\n",
      "sr_rss_d_gather_level                                                            0.10571633230125532\n",
      "sr_troop_consumption_level                                                       0.10453107524665206\n",
      "meat_qua1_per_count_qua3                                                         0.10414339775848218\n",
      "sr_outpost_durability_level                                                      0.10028654994754321\n",
      "general_acceleration_add_value_price_count_mean_qua3                               0.09905381986569156\n",
      "sr_rss_d_prod_level                                                              0.09741903578720827\n",
      "sr_march_size_level_per_count_qua3                                               0.09736236391061742\n",
      "acceleration_reduce_qua1_price_count_mean_qua3                                    0.0919623490293356\n",
      "sr_march_size_level_per_price_qua3                                               0.08880415612195379\n",
      "shaman_add_value                                                                  0.0862629388507506\n",
      "sr_shaman_tier_2_level                                                           0.08441194719362632\n",
      "sr_guest_troop_capacity_level_per_count_qua3                                     0.08391197479377084\n",
      "meat_reduce_value_per_count_qua3                                                 0.08254194147762596\n",
      "sr_cavalry_tier_2_level                                                          0.07555783798791899\n",
      "acceleration_qua1_price_count_mean_qua3                                          0.07319629636863717\n",
      "sr_infantry_tier_2_level                                                         0.07279393262795586\n",
      "sr_guest_troop_capacity_level_per_price_qua3                                     0.07131461099278097\n",
      "sr_outpost_tier_3_level_price_count_mean_qua3                                    0.06830833934927569\n",
      "building_acceleration_reduce_value_per_count_qua3                                0.06394618348915167\n",
      "wood_add_value_price_count_mean_qua3                                            0.062150595862197254\n",
      "sr_outpost_tier_2_level                                                           0.0580176306279635\n",
      "sr_rss_c_prod_level_per_count_qua3                                               0.05628689847650903\n",
      "sr_rss_c_gather_level_per_count_qua3                                            0.054538470392232204\n",
      "acceleration_add_qua1_price_count_mean_qua3                                      0.05159185359842254\n",
      "reaserch_acceleration_add_value_per_count_qua3                                   0.04928491407521257\n",
      "ivory_qua2_per_count_qua3                                                       0.047788885854474335\n",
      "wood_qua1_price_count_mean_qua3                                                 0.047389489987183626\n",
      "sr_gathering_march_speed_level_per_price_qua3                                    0.04727072138907743\n",
      "sr_pvp_march_speed_level_per_price_qua3                                          0.04232583351083206\n",
      "reaserch_acceleration_reduce_value_price_count_mean_qua3                              0.039821945291198924\n",
      "sr_alliance_march_speed_level_per_price_qua3                                    0.038638281320471264\n",
      "shaman_reduce_value                                                              0.03808506172302584\n",
      "meat_qua2_price_count_mean_qua3                                                  0.03458824325323789\n",
      "sr_rss_c_prod_level_price_count_mean_qua3                                       0.031366679903309234\n",
      "wood_reduce_value_price_count_mean_qua3                                          0.03124123332774483\n",
      "sr_rss_c_gather_level_price_count_mean_qua3                                     0.030489507975576396\n",
      "sr_rss_help_bonus_level_per_count_qua3                                           0.02731588652046756\n",
      "sr_rss_help_bonus_level_per_price_qua3                                           0.02528400916205173\n",
      "building_acceleration_add_value_per_count_qua3                                  0.024045598528170373\n",
      "wound_shaman_add_value                                                          0.019621094501702244\n",
      "wound_shaman_reduce_value                                                       0.019509222742253283\n",
      "meat_add_value_price_count_mean_qua3                                            0.019206970588122117\n",
      "sr_rss_e_gather_level_per_count_qua3                                            0.018878281694547423\n",
      "magic_reduce_value_per_count_qua3                                               0.018506741650044706\n",
      "sr_rss_b_gather_level_per_count_qua3                                            0.015103272136487602\n",
      "meat_qua1_price_count_mean_qua3                                                 0.014511046796537818\n",
      "magic_add_value_per_count_qua3                                                  0.012846886495271131\n",
      "sr_rss_b_prod_level_per_count_qua3                                              0.009880512140685829\n",
      "treatment_acceleration_reduce_value_per_count_qua3                              0.008873181587185607\n",
      "infantry_add_value_per_count_qua3                                               0.008044884877799936\n",
      "meat_reduce_value_price_count_mean_qua3                                         0.007779319954317066\n",
      "magic_reduce_value_price_count_mean_qua3                                        0.004216377834705004\n",
      "shaman_add_value_per_count_qua3                                                0.0035751535528055806\n",
      "sr_rss_e_gather_level_price_count_mean_qua3                                     0.003573507493723012\n",
      "sr_outpost_tier_3_level_per_price_qua3                                         0.0034964455139598494\n",
      "sr_rss_b_gather_level_price_count_mean_qua3                                    0.0024495007305550594\n",
      "ivory_reduce_value_per_price_qua3                                              0.0017898598760248163\n",
      "cavalry_add_value_per_count_qua3                                               0.0007640591850615083\n",
      "sr_rss_c_gather_level_per_price_qua3                                          -0.0017825755388868499\n",
      "sr_shaman_atk_level_per_count_qua3                                            -0.0022480012257049095\n",
      "prediction_pay_price_per_price_qua3                                           -0.0025295124426928934\n",
      "sr_rss_b_prod_level_price_count_mean_qua3                                     -0.0025693363087032203\n",
      "sr_rss_c_prod_level_per_price_qua3                                             -0.003711686566498119\n",
      "building_acceleration_reduce_value_price_count_mean_qua3                            -0.0047368208449558155\n",
      "treatment_acceleration_reduce_value_price_count_mean_qua3                             -0.004789967582017589\n",
      "magic_add_value_price_count_mean_qua3                                          -0.004987589843583309\n",
      "shaman_add_value_price_count_mean_qua3                                         -0.008095929409175626\n",
      "sr_rss_e_prod_level_per_count_qua3                                             -0.009770485227051212\n",
      "sr_cavalry_atk_level_per_count_qua3                                            -0.012598448835812877\n",
      "sr_rss_b_gather_level_per_price_qua3                                           -0.013608605887530144\n",
      "infantry_add_value_price_count_mean_qua3                                         -0.0151867914642158\n",
      "wound_shaman_reduce_value_price_count_mean_qua3                                -0.015873831927042538\n",
      "sr_rss_e_gather_level_per_price_qua3                                           -0.015910257533514063\n",
      "sr_infantry_atk_level_per_count_qua3                                           -0.016169762368323574\n",
      "sr_rss_b_prod_level_per_price_qua3                                             -0.017188514557406276\n",
      "wound_shaman_reduce_value_per_count_qua3                                        -0.01722984743514142\n",
      "shaman_qua1_per_count_qua3                                                      -0.02058365540759648\n",
      "sr_rss_e_prod_level_price_count_mean_qua3                                      -0.020778007803602682\n",
      "reaserch_acceleration_add_value_price_count_mean_qua3                              -0.02079846733692291\n",
      "wound_shaman_add_value_price_count_mean_qua3                                    -0.02119071916321062\n",
      "cavalry_add_value_price_count_mean_qua3                                        -0.022230659110202618\n",
      "treatment_acceleration_reduce_value_per_price_qua3                             -0.022979061530912046\n",
      "ivory_qua2_price_count_mean_qua3                                               -0.023826331403695677\n",
      "wound_shaman_add_value_per_count_qua3                                          -0.023990148799701717\n",
      "wound_infantry_reduce_value_per_count_qua3                                     -0.024357671934696297\n",
      "magic_reduce_value_per_price_qua3                                               -0.02657547165913117\n",
      "shaman_reduce_value_per_count_qua3                                             -0.026876247594103075\n",
      "sr_shaman_atk_level_price_count_mean_qua3                                      -0.027397582325355222\n",
      "shaman_reduce_value_price_count_mean_qua3                                      -0.027455053879681605\n",
      "cavalry_qua1_per_count_qua3                                                    -0.028774866690455737\n",
      "pvp_win_count_per_count_qua3                                                   -0.029806510632266716\n",
      "pvp_lanch_count_per_count_qua3                                                 -0.029919677629939048\n",
      "wound_cavalry_reduce_value_per_count_qua3                                      -0.030047914663005843\n",
      "sr_rss_e_prod_level_per_price_qua3                                             -0.030350037053005947\n",
      "infantry_qua1_per_count_qua3                                                   -0.030581563098674304\n",
      "wound_infantry_reduce_value_price_count_mean_qua3                               -0.03266888963161169\n",
      "sr_rss_a_gather_level_per_count_qua3                                            -0.03417751510116043\n",
      "sr_rss_d_gather_level_per_count_qua3                                            -0.03434498407942561\n",
      "wound_infantry_add_value_per_count_qua3                                         -0.03452317259082054\n",
      "infantry_reduce_value_per_count_qua3                                            -0.03701125697262965\n",
      "sr_cavalry_atk_level_price_count_mean_qua3                                      -0.03743686171063729\n",
      "magic_add_value_per_price_qua3                                                  -0.03772310181544202\n",
      "pvp_lanch_count_price_count_mean_qua3                                           -0.03803835390738612\n",
      "pvp_win_count_price_count_mean_qua3                                            -0.038628961934915586\n",
      "building_acceleration_add_value_price_count_mean_qua3                             -0.038802412055755915\n",
      "wound_cavalry_reduce_value_price_count_mean_qua3                               -0.039053415128679374\n",
      "sr_troop_load_level_per_count_qua3                                             -0.039072439569858966\n",
      "wound_cavalry_add_value_per_count_qua3                                         -0.039680823729723015\n",
      "sr_healing_speed_level_per_count_qua3                                          -0.040104934008259416\n",
      "cavalry_reduce_value_per_count_qua3                                             -0.04046820254244319\n",
      "sr_infantry_atk_level_price_count_mean_qua3                                    -0.040619289930086004\n",
      "wound_infantry_add_value_price_count_mean_qua3                                 -0.042302158479468666\n",
      "sr_rss_a_gather_level_price_count_mean_qua3                                     -0.04290462782695431\n",
      "sr_rss_d_gather_level_price_count_mean_qua3                                    -0.042959887707999606\n",
      "troop_qua1_per_count_qua3                                                      -0.043786314346270394\n",
      "pvp_battle_count_per_count_qua3                                                 -0.04379008316832371\n",
      "wound_infantry_reduce_value_per_price_qua3                                      -0.04514576301131678\n",
      "pvp_lanch_count_per_price_qua3                                                  -0.04579279477323145\n",
      "wound_shaman_reduce_value_per_price_qua3                                        -0.04586755675172693\n",
      "sr_healing_space_level_per_count_qua3                                            -0.0462106138956939\n",
      "wound_cavalry_reduce_value_per_price_qua3                                       -0.04653777942684367\n",
      "pvp_win_count_per_price_qua3                                                    -0.04713081998223771\n",
      "sr_troop_consumption_level_per_count_qua3                                       -0.04769921598778464\n",
      "sr_rss_d_gather_level_per_price_qua3                                           -0.047784230637800976\n",
      "sr_troop_load_level_price_count_mean_qua3                                      -0.048256087427057996\n",
      "wound_cavalry_add_value_price_count_mean_qua3                                   -0.04841785209551297\n",
      "shaman_qua1_price_count_mean_qua3                                               -0.04867522745209141\n",
      "sr_rss_a_gather_level_per_price_qua3                                            -0.04928812697732104\n",
      "sr_rss_a_prod_levell_per_count_qua3                                            -0.049670228404739225\n",
      "infantry_reduce_value_price_count_mean_qua3                                     -0.04983301372772694\n",
      "sr_healing_speed_level_price_count_mean_qua3                                    -0.05151469094569424\n",
      "sr_hide_storage_level_per_count_qua3                                            -0.05184129753144727\n",
      "pvp_battle_count_price_count_mean_qua3                                         -0.052313875638916825\n",
      "shaman_add_value_per_price_qua3                                                -0.052370075170804255\n",
      "sr_troop_load_level_per_price_qua3                                              -0.05306741500546473\n",
      "infantry_add_value_per_price_qua3                                               -0.05329815361238741\n",
      "training_acceleration_reduce_value_per_price_qua3                              -0.053601407751086745\n",
      "cavalry_reduce_value_price_count_mean_qua3                                      -0.05367969660395654\n",
      "wound_shaman_add_value_per_price_qua3                                          -0.054136834304960184\n",
      "sr_shaman_atk_level_per_price_qua3                                              -0.05415987361984433\n",
      "cavalry_add_value_per_price_qua3                                                -0.05467726798102884\n",
      "wound_infantry_add_value_per_price_qua3                                         -0.05480245948069136\n",
      "wound_cavalry_add_value_per_price_qua3                                          -0.05549926335043701\n",
      "sr_rss_d_prod_level_per_count_qua3                                             -0.055845345579338006\n",
      "sr_troop_consumption_level_price_count_mean_qua3                                -0.05610585499254618\n",
      "cavalry_qua1_price_count_mean_qua3                                              -0.05685944590982985\n",
      "troop_qua1_price_count_mean_qua3                                                -0.05732423198524992\n",
      "sr_rss_a_prod_levell_price_count_mean_qua3                                       -0.0585663631456117\n",
      "sr_healing_speed_level_per_price_qua3                                           -0.05877094301030051\n",
      "sr_healing_space_level_price_count_mean_qua3                                   -0.059039466550529274\n",
      "pvp_battle_count_per_price_qua3                                                 -0.05913660905775642\n",
      "infantry_qua1_price_count_mean_qua3                                             -0.05926251802679887\n",
      "sr_gathering_hunter_buff_level_per_count_qua3                                  -0.059948824148099294\n",
      "sr_hide_storage_level_price_count_mean_qua3                                     -0.05996877138192585\n",
      "sr_troop_consumption_level_per_price_qua3                                      -0.060531140606518256\n",
      "sr_cavalry_atk_level_per_price_qua3                                             -0.06142236156881315\n",
      "sr_rss_a_prod_levell_per_price_qua3                                             -0.06150516148746484\n",
      "shaman_reduce_value_per_price_qua3                                              -0.06333874441950461\n",
      "sr_infantry_atk_level_per_price_qua3                                            -0.06352683705419036\n",
      "sr_hide_storage_level_per_price_qua3                                            -0.06420845127997887\n",
      "sr_rss_d_prod_level_price_count_mean_qua3                                        -0.0644841881485915\n",
      "sr_healing_space_level_per_price_qua3                                           -0.06650037472708575\n",
      "cavalry_reduce_value_per_price_qua3                                             -0.06660004389648459\n",
      "sr_rss_d_prod_level_per_price_qua3                                              -0.06670806014835495\n",
      "infantry_reduce_value_per_price_qua3                                            -0.06787817386101343\n",
      "troop_qua1_per_price_qua3                                                       -0.06847755075430474\n",
      "ivory_qua1_per_price_qua3                                                        -0.0688798247593178\n",
      "pay_count_price_count_mean_qua3                                                 -0.06991347609656477\n",
      "wood_qua2_per_price_qua3                                                         -0.0701012876850327\n",
      "sr_gathering_hunter_buff_level_price_count_mean_qua3                              -0.07119343025476822\n",
      "treatment_acceleraion_add_value_per_count_qua3                                  -0.07300209598519539\n",
      "general_acceleration_reduce_value_per_price_qua3                                 -0.0736744357753587\n",
      "sr_gathering_hunter_buff_level_per_price_qua3                                   -0.07494788980710146\n",
      "stone_reduce_value_per_price_qua3                                               -0.07616523547089081\n",
      "pve_win_count_per_count_qua3                                                    -0.07889618298751697\n",
      "shaman_qua1_per_price_qua3                                                      -0.07910325254598354\n",
      "pve_lanch_count_per_count_qua3                                                   -0.0815378833947524\n",
      "pve_battle_count_per_count_qua3                                                 -0.08164546837938513\n",
      "avg_online_minutes_per_count_qua3                                               -0.08253356480397465\n",
      "sr_shaman_tier_2_level_per_count_qua3                                           -0.08391725796513512\n",
      "cavalry_qua1_per_price_qua3                                                     -0.08539720645362107\n",
      "stone_qua2_per_price_qua3                                                       -0.08653293716462045\n",
      "pve_win_count_price_count_mean_qua3                                             -0.08679003477216912\n",
      "infantry_qua1_per_price_qua3                                                    -0.08711709682149743\n",
      "reaserch_acceleration_reduce_value_per_price_qua3                               -0.08770158675658496\n",
      "sr_construction_speed_level_per_count_qua3                                      -0.08794503145454645\n",
      "stone_qua1_per_price_qua3                                                        -0.0881138915055881\n",
      "sr_shaman_tier_2_level_per_price_qua3                                            -0.0882590303849295\n",
      "sr_outpost_durability_level_per_count_qua3                                      -0.08903364906845031\n",
      "pve_lanch_count_price_count_mean_qua3                                            -0.0894804205295866\n",
      "pve_win_count_per_price_qua3                                                    -0.08952307174903994\n",
      "pve_battle_count_price_count_mean_qua3                                          -0.08963189832459008\n",
      "treatment_acceleraion_add_value_price_count_mean_qua3                              -0.09069161923556321\n",
      "sr_cavalry_tier_2_level_per_count_qua3                                           -0.0909724536823264\n",
      "ivory_add_value_per_price_qua3                                                  -0.09165919094045001\n",
      "pve_lanch_count_per_price_qua3                                                  -0.09200764291410973\n",
      "pve_battle_count_per_price_qua3                                                 -0.09216364439761893\n",
      "sr_infantry_tier_2_level_per_count_qua3                                         -0.09321850323397408\n",
      "general_acceleration_add_value_per_price_qua3                                    -0.0937279050890102\n",
      "sr_cavalry_tier_2_level_per_price_qua3                                          -0.09376385030909982\n",
      "avg_online_minutes_price_count_mean_qua3                                        -0.09377370623738682\n",
      "bd_hero_strengthen_level_per_count_qua3                                         -0.09463097738081198\n",
      "sr_shaman_tier_2_level_price_count_mean_qua3                                    -0.09472652622322009\n",
      "bd_hall_of_war_level_per_count_qua3                                             -0.09498754198983309\n",
      "training_acceleration_add_value_per_price_qua3                                  -0.09513612974668918\n",
      "sr_infantry_tier_2_level_per_price_qua3                                         -0.09541441902939508\n",
      "sr_outpost_durability_level_per_price_qua3                                       -0.0954833065312779\n",
      "sr_construction_speed_level_per_price_qua3                                      -0.09610430610780607\n",
      "sr_construction_speed_level_price_count_mean_qua3                               -0.09626891066720748\n",
      "stone_add_value_per_price_qua3                                                  -0.09645890121581993\n",
      "sr_outpost_durability_level_price_count_mean_qua3                               -0.09724255483134614\n",
      "acceleration_reduce_qua1_per_price_qua3                                         -0.09849062812195823\n",
      "bd_hero_gacha_level_per_count_qua3                                              -0.09909227563262181\n",
      "avg_online_minutes_per_price_qua3                                               -0.10045255025252403\n",
      "bd_hero_strengthen_level_per_price_qua3                                         -0.10073822408837742\n",
      "sr_cavalry_tier_2_level_price_count_mean_qua3                                    -0.1016336382654557\n",
      "sr_infantry_tier_2_level_price_count_mean_qua3                                  -0.10380023095973584\n",
      "bd_hero_gacha_level_per_price_qua3                                              -0.10401678399013232\n",
      "bd_hero_strengthen_level_price_count_mean_qua3                                  -0.10417461112273962\n",
      "meat_reduce_value_per_price_qua3                                                -0.10577405640882642\n",
      "sr_outpost_tier_2_level_per_price_qua3                                          -0.10625902058638158\n",
      "bd_hall_of_war_level_price_count_mean_qua3                                      -0.10647618856866371\n",
      "sr_outpost_tier_2_level_per_count_qua3                                            -0.106687666366295\n",
      "wood_reduce_value_per_price_qua3                                                -0.10816508139106537\n",
      "bd_hero_gacha_level_price_count_mean_qua3                                       -0.10866745842899425\n",
      "bd_hall_of_war_level_per_price_qua3                                              -0.1087532468521162\n",
      "treatment_acceleraion_add_value_per_price_qua3                                  -0.10933651676795021\n",
      "sr_scout_level_per_count_qua3                                                   -0.10960281984226927\n",
      "building_acceleration_reduce_value_per_price_qua3                               -0.11008107369465947\n",
      "bd_hero_pve_level_per_count_qua3                                                -0.11087185665985763\n",
      "wood_qua1_per_price_qua3                                                         -0.1120760553459943\n",
      "sr_scout_level_per_price_qua3                                                   -0.11257415419616215\n",
      "wood_add_value_per_price_qua3                                                   -0.11475748273716803\n",
      "bd_hero_pve_level_per_price_qua3                                                -0.11553816198932435\n",
      "sr_outpost_tier_2_level_price_count_mean_qua3                                   -0.11655764554176343\n",
      "meat_qua1_per_price_qua3                                                        -0.11695885626137896\n",
      "sr_scout_level_price_count_mean_qua3                                            -0.11719359655525134\n",
      "ivory_qua2_per_price_qua3                                                       -0.11858759668791335\n",
      "meat_qua2_per_price_qua3                                                        -0.11982275901662034\n",
      "bd_hero_pve_level_price_count_mean_qua3                                           -0.121792781931699\n",
      "acceleration_qua1_per_price_qua3                                                -0.12184157858525681\n",
      "meat_add_value_per_price_qua3                                                   -0.12267314093214841\n",
      "reaserch_acceleration_add_value_per_price_qua3                                  -0.12750910835791046\n",
      "speed_qua1_per_count_qua3                                                       -0.12860381144266625\n",
      "bd_guest_cavern_level_per_price_qua3                                             -0.1294154966852617\n",
      "building_acceleration_add_value_per_price_qua3                                  -0.13057564866031424\n",
      "acceleration_add_qua1_per_price_qua3                                             -0.1308988648826797\n",
      "bd_guest_cavern_level_per_count_qua3                                            -0.13095886300756107\n",
      "speed_qua1_per_price_qua3                                                        -0.1342221426528509\n",
      "bd_market_level_per_price_qua3                                                  -0.13426250965883188\n",
      "sr_training_speed_level_per_price_qua3                                          -0.13538181876659422\n",
      "bd_market_level_per_count_qua3                                                  -0.13858016527138017\n",
      "sr_training_speed_level_per_count_qua3                                           -0.1392087908477461\n",
      "speed_qua1_price_count_mean_qua3                                                -0.13972111929205364\n",
      "bd_guest_cavern_level_price_count_mean_qua3                                     -0.14221210062905096\n",
      "bd_watchtower_level_per_price_qua3                                              -0.14460129637827862\n",
      "bd_healing_lodge_level_per_price_qua3                                            -0.1446483233285384\n",
      "bd_healing_spring_level_per_price_qua3                                          -0.14541574964641935\n",
      "bd_warehouse_level_per_price_qua3                                                -0.1457470077158776\n",
      "bd_magic_coin_tree_level_per_price_qua3                                         -0.14600140606203232\n",
      "bd_training_hut_level_per_price_qua3                                            -0.14765071165079638\n",
      "bd_market_level_price_count_mean_qua3                                           -0.14879590366411394\n",
      "sr_training_speed_level_price_count_mean_qua3                                   -0.14920493486696956\n",
      "bd_healing_lodge_level_per_count_qua3                                           -0.15003845065764115\n",
      "bd_healing_spring_level_per_count_qua3                                          -0.15006900908630014\n",
      "bd_dolmen_level_per_price_qua3                                                  -0.15015721081713757\n",
      "bd_barrack_level_per_price_qua3                                                 -0.15022992653879685\n",
      "bd_watchtower_level_per_count_qua3                                              -0.15039246375467338\n",
      "bd_warehouse_level_per_count_qua3                                               -0.15197954354409132\n",
      "bd_training_hut_level_per_count_qua3                                             -0.1541028347666959\n",
      "bd_magic_coin_tree_level_per_count_qua3                                          -0.1541263371478593\n",
      "bd_outpost_portal_level_per_price_qua3                                          -0.15545399886302627\n",
      "bd_dolmen_level_per_count_qua3                                                  -0.15597812451940554\n",
      "bd_barrack_level_per_count_qua3                                                 -0.15663817921631673\n",
      "bd_stronghold_level_per_price_qua3                                              -0.15874106417791792\n",
      "bd_watchtower_level_price_count_mean_qua3                                       -0.16099734958305295\n",
      "bd_healing_lodge_level_price_count_mean_qua3                                    -0.16125482613472408\n",
      "bd_healing_spring_level_price_count_mean_qua3                                   -0.16137846039732434\n",
      "bd_warehouse_level_price_count_mean_qua3                                        -0.16282120263254957\n",
      "bd_outpost_portal_level_per_count_qua3                                           -0.1634715774662028\n",
      "bd_magic_coin_tree_level_price_count_mean_qua3                                  -0.16429803366166199\n",
      "bd_training_hut_level_price_count_mean_qua3                                     -0.16549840600945975\n",
      "bd_barrack_level_price_count_mean_qua3                                          -0.16812055553590538\n",
      "bd_dolmen_level_price_count_mean_qua3                                           -0.16855728716644375\n",
      "bd_stronghold_level_per_count_qua3                                              -0.16962028703514856\n",
      "bd_outpost_portal_level_price_count_mean_qua3                                   -0.17581182820994642\n",
      "bd_stronghold_level_price_count_mean_qua3                                        -0.1818162283947541\n",
      "pay_count_per_price_qua3                                                         -0.2576639668010158\n",
      "pay_price_per_price_qua3                                                                         nan\n",
      "pay_count_per_count_qua3                                                                         nan\n"
     ]
    }
   ],
   "source": [
    "for name,value in data_7pay_corr['pay_price'].sort_values(ascending=False).iteritems():\n",
    "    print('{:<50}{:>50}'.format(name,value))"
   ]
  },
  {
   "cell_type": "code",
   "execution_count": 73,
   "metadata": {
    "ExecuteTime": {
     "end_time": "2018-08-22T07:00:13.851364Z",
     "start_time": "2018-08-22T07:00:13.786162Z"
    }
   },
   "outputs": [
    {
     "name": "stdout",
     "output_type": "stream",
     "text": [
      "prediction_pay_price                                                                             1.0\n",
      "pay_price                                                                         0.7345023697821266\n",
      "ivory_add_value                                                                   0.6557122734713198\n",
      "ivory_qua1                                                                        0.6525531795572044\n",
      "acceleration_add_qua1                                                             0.6478558778001341\n",
      "wood_add_value                                                                    0.6466417986488405\n",
      "wood_qua1                                                                         0.6462842160769209\n",
      "stone_add_value                                                                   0.6455907918702686\n",
      "stone_qua1                                                                        0.6451582128626071\n",
      "general_acceleration_add_value                                                    0.6431425809081228\n",
      "acceleration_qua1                                                                 0.6405128488238017\n",
      "ivory_reduce_value                                                                0.6387155975091189\n",
      "wood_reduce_value                                                                 0.6314867364136327\n",
      "meat_qua1                                                                         0.6308345744436386\n",
      "stone_reduce_value                                                                0.6285867334553688\n",
      "meat_add_value                                                                     0.628327231039136\n",
      "training_acceleration_add_value                                                   0.6256091019519923\n",
      "acceleration_reduce_qua1                                                          0.6191397856582809\n",
      "pay_price_price_count_mean_qua3                                                    0.612926524207533\n",
      "pay_count                                                                         0.6129265231803795\n",
      "meat_reduce_value                                                                 0.6115595454092593\n",
      "general_acceleration_reduce_value                                                 0.6085421751943049\n",
      "reaserch_acceleration_add_value                                                   0.5893710630665819\n",
      "reaserch_acceleration_reduce_value                                                0.5844818107516334\n",
      "def_qua1                                                                          0.5565608299072244\n",
      "meat_qua2                                                                          0.555415178816417\n",
      "prediction_pay_price_per_count_qua3                                               0.5526663489724515\n",
      "training_acceleration_reduce_value                                                0.5524763696821821\n",
      "sr_troop_defense_level                                                            0.5230879433525975\n",
      "magic_reduce_value                                                                0.5207397121753576\n",
      "building_acceleration_add_value                                                   0.5205636743924413\n",
      "pay_price_per_count_qua3                                                          0.5204070459203278\n",
      "building_acceleration_reduce_value                                                0.5180706631717541\n",
      "stone_qua2                                                                        0.5180474696788397\n",
      "magic_add_value                                                                    0.510189263513363\n",
      "wood_qua2                                                                         0.5093251574751458\n",
      "sr_cavalry_def_level                                                              0.5050482851105755\n",
      "def_qua1_price_count_mean_qua3                                                    0.4894705212407436\n",
      "sr_cavalry_hp_level                                                              0.48764141906197045\n",
      "ivory_qua2                                                                        0.4816874680929784\n",
      "prediction_pay_price_price_count_mean_qua3                                        0.4605450982724053\n",
      "sr_shaman_tier_3_level                                                            0.4572623845723404\n",
      "def_qua1_per_count_qua3                                                          0.45588975771519635\n",
      "sr_infantry_hp_level                                                              0.4535515068568982\n",
      "sr_cavalry_tier_3_level                                                          0.45341784271105207\n",
      "sr_infantry_def_level                                                             0.4509640748666766\n",
      "sr_infantry_tier_3_level                                                          0.4498986467398784\n",
      "cavalry_qua1                                                                     0.44803621308895697\n",
      "sr_cavalry_def_level_price_count_mean_qua3                                       0.44586083886078837\n",
      "sr_troop_defense_level_price_count_mean_qua3                                      0.4448881181259346\n",
      "sr_shaman_def_level                                                                0.439638470614137\n",
      "shaman_qua1                                                                       0.4298835558419393\n",
      "infantry_qua1                                                                     0.4297866484896008\n",
      "sr_shaman_hp_level                                                                  0.42583685538857\n",
      "ivory_reduce_value_per_count_qua3                                                 0.4129099208315595\n",
      "sr_cavalry_tier_4_level                                                           0.4109458018344627\n",
      "sr_infantry_def_level_price_count_mean_qua3                                       0.4045185689024668\n",
      "sr_cavalry_def_level_per_count_qua3                                              0.40418192395610303\n",
      "sr_troop_defense_level_per_count_qua3                                            0.40155560876790686\n",
      "sr_cavalry_hp_level_price_count_mean_qua3                                         0.4014348833146263\n",
      "sr_cavalry_tier_4_level_price_count_mean_qua3                                     0.3897382563184798\n",
      "sr_infantry_hp_level_price_count_mean_qua3                                       0.38482652051344607\n",
      "sr_gathering_march_speed_level                                                   0.38447432319460273\n",
      "sr_shaman_def_level_price_count_mean_qua3                                        0.38010471530075185\n",
      "def_qua1_per_price_qua3                                                          0.37788921967587147\n",
      "ivory_qua1_per_count_qua3                                                        0.37717148729905364\n",
      "sr_infantry_def_level_per_count_qua3                                             0.36821104360447754\n",
      "cavalry_add_value                                                                0.35910822915240165\n",
      "sr_infantry_hp_level_per_count_qua3                                              0.35861583068706215\n",
      "sr_pvp_march_speed_level                                                          0.3585260053803703\n",
      "ivory_reduce_value_price_count_mean_qua3                                          0.3573619919997708\n",
      "sr_cavalry_hp_level_per_count_qua3                                               0.35603436395315846\n",
      "sr_shaman_hp_level_price_count_mean_qua3                                          0.3554714663350384\n",
      "sr_shaman_def_level_per_count_qua3                                                0.3453519467871951\n",
      "sr_cavalry_tier_4_level_per_count_qua3                                            0.3436042331190049\n",
      "sr_alliance_march_speed_level                                                     0.3419893980567276\n",
      "treatment_acceleraion_add_value                                                  0.33637759685423163\n",
      "sr_cavalry_tier_4_level_per_price_qua3                                           0.33042765579759187\n",
      "sr_cavalry_def_level_per_price_qua3                                               0.3302257401599981\n",
      "sr_troop_defense_level_per_price_qua3                                            0.32589312314585295\n",
      "sr_shaman_hp_level_per_count_qua3                                                 0.3250188661484075\n",
      "ivory_add_value_per_count_qua3                                                   0.32118277732220885\n",
      "sr_shaman_atk_level                                                              0.31328507915614323\n",
      "sr_infantry_tier_4_level                                                         0.31069201050135853\n",
      "sr_shaman_tier_3_level_per_count_qua3                                            0.30842810705841406\n",
      "sr_outpost_tier_3_level                                                          0.30705406014453723\n",
      "sr_infantry_tier_4_level_price_count_mean_qua3                                    0.3052175563533261\n",
      "sr_infantry_def_level_per_price_qua3                                             0.30384154937681374\n",
      "sr_cavalry_tier_3_level_per_count_qua3                                            0.2991148912045161\n",
      "sr_infantry_tier_3_level_per_count_qua3                                           0.2987876838768589\n",
      "sr_infantry_hp_level_per_price_qua3                                               0.2958942882460564\n",
      "sr_cavalry_atk_level                                                             0.29440964220812177\n",
      "stone_add_value_per_count_qua3                                                    0.2926460139258835\n",
      "infantry_add_value                                                                 0.290613617420754\n",
      "sr_infantry_atk_level                                                             0.2906057590408284\n",
      "ivory_qua1_price_count_mean_qua3                                                  0.2904981896623262\n",
      "sr_cavalry_hp_level_per_price_qua3                                                0.2853860347740734\n",
      "sr_shaman_def_level_per_price_qua3                                               0.28374550077118116\n",
      "sr_cavalry_tier_3_level_price_count_mean_qua3                                    0.27571494970835947\n",
      "stone_qua1_per_count_qua3                                                        0.27516747690012866\n",
      "sr_shaman_tier_3_level_price_count_mean_qua3                                      0.2719482025192089\n",
      "sr_shaman_hp_level_per_price_qua3                                                0.26541628871126494\n",
      "sr_shaman_tier_4_level                                                            0.2638305275575523\n",
      "sr_infantry_tier_3_level_price_count_mean_qua3                                     0.255707527616107\n",
      "speed_qua1                                                                       0.25528918847616217\n",
      "sr_shaman_tier_4_level_price_count_mean_qua3                                      0.2541467210670575\n",
      "sr_infantry_tier_4_level_per_price_qua3                                           0.2528145495397003\n",
      "sr_infantry_tier_4_level_per_count_qua3                                          0.25250210357161107\n",
      "troop_qua1                                                                        0.2430790920339408\n",
      "stone_reduce_value_per_count_qua3                                                0.24024314976641084\n",
      "bd_outpost_portal_level                                                          0.23018891262054106\n",
      "sr_rss_c_prod_level                                                              0.22276906796142162\n",
      "sr_shaman_tier_4_level_per_count_qua3                                            0.22189005537882778\n",
      "stone_qua2_per_count_qua3                                                        0.22155990699577632\n",
      "ivory_add_value_price_count_mean_qua3                                            0.22140667493029917\n",
      "bd_hall_of_war_level                                                              0.2202016640583105\n",
      "bd_stronghold_level                                                               0.2196641638335451\n",
      "sr_shaman_tier_4_level_per_price_qua3                                            0.21965551416211923\n",
      "bd_dolmen_level                                                                  0.21844939741006758\n",
      "training_acceleration_reduce_value_per_count_qua3                                0.21282506389443326\n",
      "sr_rss_e_gather_level                                                             0.2078673333823605\n",
      "avg_online_minutes                                                                0.2076601947680657\n",
      "bd_barrack_level                                                                  0.2052375484121995\n",
      "wood_qua2_per_count_qua3                                                         0.20514666247914784\n",
      "sr_outpost_tier_4_level                                                           0.2023816654582219\n",
      "sr_gathering_march_speed_level_per_count_qua3                                    0.20233493640491182\n",
      "sr_pvp_march_speed_level_per_count_qua3                                          0.20178052987547462\n",
      "sr_outpost_tier_4_level_price_count_mean_qua3                                    0.19724401897135738\n",
      "sr_alliance_march_speed_level_per_count_qua3                                      0.1951269274553815\n",
      "sr_cavalry_tier_3_level_per_price_qua3                                            0.1907099217478253\n",
      "sr_healing_space_level                                                           0.19068223107935114\n",
      "bd_healing_spring_level                                                          0.18920441410713973\n",
      "sr_troop_attack_level_price_count_mean_qua3                                      0.18744583477720067\n",
      "cavalry_reduce_value                                                             0.18633759296748578\n",
      "sr_troop_attack_level                                                            0.18460371696799313\n",
      "general_acceleration_reduce_value_per_count_qua3                                 0.18388851019428631\n",
      "training_acceleration_add_value_per_count_qua3                                   0.18280342986741763\n",
      "sr_shaman_tier_3_level_per_price_qua3                                             0.1819404925936987\n",
      "sr_troop_attack_level_per_price_qua3                                              0.1780649073666472\n",
      "stone_add_value_price_count_mean_qua3                                             0.1763288015382618\n",
      "bd_training_hut_level                                                            0.17565205326018973\n",
      "bd_warehouse_level                                                               0.17362155222236003\n",
      "sr_troop_attack_level_per_count_qua3                                             0.17228202773930734\n",
      "sr_rss_c_gather_level                                                             0.1708704074647616\n",
      "sr_infantry_tier_3_level_per_price_qua3                                           0.1705492701503409\n",
      "acceleration_reduce_qua1_per_count_qua3                                          0.16734211597304408\n",
      "general_acceleration_add_value_per_count_qua3                                    0.16535857643438434\n",
      "sr_guest_troop_capacity_level                                                    0.16502159545510608\n",
      "infantry_reduce_value                                                            0.16359590894225853\n",
      "sr_healing_speed_level                                                           0.16193249848003038\n",
      "stone_qua2_price_count_mean_qua3                                                  0.1614207035729097\n",
      "sr_guest_troop_capacity_level_price_count_mean_qua3                               0.16079825949963295\n",
      "bd_watchtower_level                                                               0.1607823095461673\n",
      "acceleration_qua1_per_count_qua3                                                  0.1593305782145147\n",
      "bd_healing_lodge_level                                                              0.15893655200487\n",
      "stone_qua1_price_count_mean_qua3                                                 0.15856860967456765\n",
      "sr_rss_b_prod_level                                                                0.157686826614195\n",
      "wood_add_value_per_count_qua3                                                    0.15503937661312506\n",
      "sr_training_speed_level                                                          0.15462869096466736\n",
      "bd_hero_pve_level                                                                0.15432535243478554\n",
      "sr_march_size_level                                                              0.15376259758461733\n",
      "sr_gathering_hunter_buff_level                                                   0.15260205923747974\n",
      "sr_pvp_march_speed_level_price_count_mean_qua3                                   0.15050086971109777\n",
      "sr_rss_e_prod_level                                                              0.14988955100079404\n",
      "sr_march_size_level_price_count_mean_qua3                                        0.14899299644735253\n",
      "bd_guest_cavern_level                                                            0.14893962338331365\n",
      "sr_gathering_march_speed_level_price_count_mean_qua3                               0.14847949789330162\n",
      "sr_alliance_march_speed_level_price_count_mean_qua3                               0.14822591545313088\n",
      "wood_qua2_price_count_mean_qua3                                                   0.1420859191846779\n",
      "training_acceleration_reduce_value_price_count_mean_qua3                               0.13869070864659672\n",
      "pve_battle_count                                                                   0.138208505547335\n",
      "bd_magic_coin_tree_level                                                         0.13768170837135318\n",
      "acceleration_add_qua1_per_count_qua3                                             0.13757862668170132\n",
      "pve_lanch_count                                                                  0.13730736270865038\n",
      "pve_win_count                                                                    0.13527542621300082\n",
      "stone_reduce_value_price_count_mean_qua3                                          0.1348935889367143\n",
      "sr_rss_b_gather_level                                                             0.1346065983974673\n",
      "pvp_win_count                                                                    0.13313175540429775\n",
      "wood_qua1_per_count_qua3                                                         0.13195696750009858\n",
      "meat_qua2_per_count_qua3                                                         0.12979888647800975\n",
      "bd_hero_strengthen_level                                                         0.12740734172446747\n",
      "pvp_battle_count                                                                 0.12202412133622466\n",
      "pvp_lanch_count                                                                  0.12113363898491676\n",
      "sr_construction_speed_level                                                      0.11715561605291727\n",
      "bd_hero_gacha_level                                                              0.11714174010084175\n",
      "training_acceleration_add_value_price_count_mean_qua3                               0.11675214314231773\n",
      "sr_troop_load_level                                                              0.11429194684900236\n",
      "sr_rss_a_gather_level                                                            0.11370037592436646\n",
      "bd_market_level                                                                  0.11315456892762224\n",
      "sr_outpost_tier_4_level_per_count_qua3                                           0.10996589006994141\n",
      "meat_add_value_per_count_qua3                                                    0.10939453100393252\n",
      "sr_hide_storage_level                                                            0.10920809154363813\n",
      "prediction_pay_price_per_price_qua3                                               0.1087466937090364\n",
      "sr_outpost_durability_level                                                      0.10852104420419827\n",
      "sr_scout_level                                                                    0.1070835729382249\n",
      "sr_outpost_tier_4_level_per_price_qua3                                            0.1056363880265719\n",
      "wood_reduce_value_per_count_qua3                                                 0.10341439324009274\n",
      "general_acceleration_reduce_value_price_count_mean_qua3                               0.10327767653280563\n",
      "sr_rss_a_prod_levell                                                             0.10165224604444807\n",
      "sr_troop_consumption_level                                                       0.10164144007506651\n",
      "reaserch_acceleration_reduce_value_per_count_qua3                                0.10141829510985606\n",
      "treatment_acceleration_reduce_value                                              0.09933645400376145\n",
      "sr_rss_d_gather_level                                                            0.09738266325072704\n",
      "sr_rss_d_prod_level                                                              0.09612369816667447\n",
      "meat_qua1_per_count_qua3                                                          0.0956301812593277\n",
      "sr_outpost_tier_3_level_per_count_qua3                                           0.09358921372185236\n",
      "wound_cavalry_reduce_value                                                       0.09225709111386227\n",
      "sr_rss_help_bonus_level                                                          0.08919370014119565\n",
      "wound_infantry_reduce_value                                                      0.08877063460392921\n",
      "wound_cavalry_add_value                                                          0.08666626541986244\n",
      "wound_infantry_add_value                                                         0.08549240303497008\n",
      "general_acceleration_add_value_price_count_mean_qua3                               0.08460006968903358\n",
      "sr_rss_help_bonus_level_price_count_mean_qua3                                    0.07845280300340393\n",
      "sr_shaman_tier_2_level                                                           0.07700891906397721\n",
      "acceleration_reduce_qua1_price_count_mean_qua3                                   0.07597173582384587\n",
      "meat_reduce_value_per_count_qua3                                                  0.0720305112931277\n",
      "sr_cavalry_tier_2_level                                                          0.07037188021841836\n",
      "sr_infantry_tier_2_level                                                         0.06877853574941845\n",
      "ivory_qua2_per_count_qua3                                                        0.06834842076441322\n",
      "shaman_add_value                                                                 0.06505805565810473\n",
      "acceleration_qua1_price_count_mean_qua3                                          0.06159452908426114\n",
      "sr_outpost_tier_3_level_price_count_mean_qua3                                    0.05896283107186989\n",
      "wood_add_value_price_count_mean_qua3                                             0.05878578252657152\n",
      "sr_guest_troop_capacity_level_per_count_qua3                                     0.05852378798582086\n",
      "sr_march_size_level_per_count_qua3                                              0.058021971042424195\n",
      "sr_outpost_tier_2_level                                                          0.05536895744346925\n",
      "sr_march_size_level_per_price_qua3                                               0.05234193215682308\n",
      "sr_rss_c_prod_level_per_count_qua3                                              0.050812374191630455\n",
      "sr_guest_troop_capacity_level_per_price_qua3                                    0.048838823319360916\n",
      "sr_rss_c_gather_level_per_count_qua3                                             0.04775513002655466\n",
      "reaserch_acceleration_add_value_per_count_qua3                                       0.0470559341451\n",
      "sr_gathering_march_speed_level_per_price_qua3                                    0.04653779874750936\n",
      "building_acceleration_reduce_value_per_count_qua3                                0.04563397182126352\n",
      "wood_qua1_price_count_mean_qua3                                                  0.04504435963252805\n",
      "acceleration_add_qua1_price_count_mean_qua3                                     0.044636465321185606\n",
      "sr_pvp_march_speed_level_per_price_qua3                                          0.04343792897610659\n",
      "meat_qua2_price_count_mean_qua3                                                   0.0423134085805355\n",
      "sr_alliance_march_speed_level_per_price_qua3                                     0.03748468843121925\n",
      "reaserch_acceleration_reduce_value_price_count_mean_qua3                               0.03504214719306584\n",
      "shaman_reduce_value                                                             0.030463993713648545\n",
      "wood_reduce_value_price_count_mean_qua3                                         0.030000772803784412\n",
      "sr_rss_c_prod_level_price_count_mean_qua3                                       0.028481011086802715\n",
      "sr_rss_c_gather_level_price_count_mean_qua3                                      0.02631843734202156\n",
      "meat_add_value_price_count_mean_qua3                                            0.024293452417871616\n",
      "sr_rss_e_gather_level_per_count_qua3                                            0.023098249084110966\n",
      "sr_rss_b_gather_level_per_count_qua3                                              0.0189011005992073\n",
      "meat_qua1_price_count_mean_qua3                                                 0.018674820048942945\n",
      "wound_shaman_reduce_value                                                       0.015451713643746867\n",
      "wound_shaman_add_value                                                          0.015420539510390005\n",
      "building_acceleration_add_value_per_count_qua3                                  0.014944793705588228\n",
      "magic_reduce_value_per_count_qua3                                                0.01474444580883435\n",
      "sr_rss_b_prod_level_per_count_qua3                                              0.014533916877670085\n",
      "sr_rss_help_bonus_level_per_count_qua3                                           0.01413868986162407\n",
      "sr_rss_help_bonus_level_per_price_qua3                                          0.012473629981115094\n",
      "magic_add_value_per_count_qua3                                                  0.010878756402257562\n",
      "meat_reduce_value_price_count_mean_qua3                                          0.01057641847164879\n",
      "sr_rss_e_gather_level_price_count_mean_qua3                                     0.008648362809522655\n",
      "infantry_add_value_per_count_qua3                                               0.006156643081914365\n",
      "sr_shaman_atk_level_per_count_qua3                                              0.005782081368045539\n",
      "sr_rss_b_gather_level_price_count_mean_qua3                                    0.0048926655689994925\n",
      "treatment_acceleration_reduce_value_per_count_qua3                              0.004645680397978645\n",
      "ivory_reduce_value_per_price_qua3                                               0.003984372807342737\n",
      "cavalry_add_value_per_count_qua3                                                0.003685311725764387\n",
      "sr_outpost_tier_3_level_per_price_qua3                                         0.0035739873049970734\n",
      "shaman_add_value_per_count_qua3                                                0.0035489671481196807\n",
      "magic_reduce_value_price_count_mean_qua3                                       0.0034274802072155855\n",
      "sr_rss_b_prod_level_price_count_mean_qua3                                      0.0012116147775817646\n",
      "sr_rss_c_gather_level_per_price_qua3                                          -0.0004857729440879995\n",
      "sr_rss_c_prod_level_per_price_qua3                                            -0.0015446492601591292\n",
      "sr_rss_e_prod_level_per_count_qua3                                            -0.0018298845998814452\n",
      "ivory_qua2_price_count_mean_qua3                                               -0.002257728625856087\n",
      "sr_cavalry_atk_level_per_count_qua3                                           -0.0031778359608203985\n",
      "magic_add_value_price_count_mean_qua3                                          -0.003210723675819196\n",
      "treatment_acceleration_reduce_value_price_count_mean_qua3                             -0.004711245656024411\n",
      "sr_infantry_atk_level_per_count_qua3                                          -0.0050088647634632675\n",
      "shaman_add_value_price_count_mean_qua3                                        -0.0055310246125004165\n",
      "building_acceleration_reduce_value_price_count_mean_qua3                            -0.0071451749673318255\n",
      "sr_rss_b_gather_level_per_price_qua3                                           -0.009523650258859352\n",
      "shaman_qua1_per_count_qua3                                                     -0.010435192694029857\n",
      "sr_rss_e_gather_level_per_price_qua3                                           -0.010782282564248227\n",
      "infantry_add_value_price_count_mean_qua3                                       -0.011332304462672225\n",
      "wound_shaman_reduce_value_price_count_mean_qua3                                 -0.01228161592427399\n",
      "sr_rss_b_prod_level_per_price_qua3                                             -0.012547967382906613\n",
      "sr_rss_e_prod_level_price_count_mean_qua3                                      -0.012579939824008294\n",
      "wound_shaman_reduce_value_per_count_qua3                                       -0.013524555570769767\n",
      "reaserch_acceleration_add_value_price_count_mean_qua3                             -0.013820583590918648\n",
      "cavalry_add_value_price_count_mean_qua3                                        -0.014364750580527596\n",
      "sr_shaman_atk_level_price_count_mean_qua3                                       -0.01671533464912673\n",
      "wound_shaman_add_value_price_count_mean_qua3                                    -0.01697348864871497\n",
      "cavalry_qua1_per_count_qua3                                                    -0.017206763533912112\n",
      "infantry_qua1_per_count_qua3                                                    -0.01856611405597139\n",
      "treatment_acceleration_reduce_value_per_price_qua3                              -0.01861450887783447\n",
      "wound_shaman_add_value_per_count_qua3                                          -0.019657738908878994\n",
      "wound_infantry_reduce_value_per_count_qua3                                     -0.020354596298124385\n",
      "magic_reduce_value_per_price_qua3                                              -0.020904968460852196\n",
      "pvp_win_count_per_count_qua3                                                   -0.020976301910374848\n",
      "sr_rss_a_gather_level_per_count_qua3                                           -0.021147463649781022\n",
      "pvp_lanch_count_per_count_qua3                                                  -0.02133770683215529\n",
      "shaman_reduce_value_price_count_mean_qua3                                      -0.021341557612483544\n",
      "shaman_reduce_value_per_count_qua3                                               -0.0214171112723526\n",
      "sr_rss_d_gather_level_per_count_qua3                                           -0.021558439142115304\n",
      "sr_rss_e_prod_level_per_price_qua3                                              -0.02277739320544598\n",
      "wound_cavalry_reduce_value_per_count_qua3                                      -0.023338280711344264\n",
      "sr_healing_speed_level_per_count_qua3                                            -0.0245222586859427\n",
      "sr_cavalry_atk_level_price_count_mean_qua3                                     -0.024884795879902645\n",
      "wound_infantry_reduce_value_price_count_mean_qua3                               -0.02587844033785643\n",
      "sr_troop_load_level_per_count_qua3                                              -0.02618227216044807\n",
      "pvp_lanch_count_price_count_mean_qua3                                           -0.02698629462623991\n",
      "pvp_win_count_price_count_mean_qua3                                            -0.027227720780009734\n",
      "sr_infantry_atk_level_price_count_mean_qua3                                    -0.027285368428529373\n",
      "troop_qua1_per_count_qua3                                                       -0.02886697749698324\n",
      "magic_add_value_per_price_qua3                                                 -0.029557052862626748\n",
      "wound_infantry_add_value_per_count_qua3                                          -0.0296074593867965\n",
      "infantry_reduce_value_per_count_qua3                                           -0.030094073464723817\n",
      "sr_rss_a_gather_level_price_count_mean_qua3                                     -0.03022082827031975\n",
      "sr_rss_d_gather_level_price_count_mean_qua3                                     -0.03026629031487196\n",
      "wound_cavalry_reduce_value_price_count_mean_qua3                               -0.030302876395736946\n",
      "sr_healing_space_level_per_count_qua3                                          -0.031097645080257214\n",
      "cavalry_reduce_value_per_count_qua3                                             -0.03165528408804207\n",
      "wound_cavalry_add_value_per_count_qua3                                         -0.032299418295815646\n",
      "sr_troop_consumption_level_per_count_qua3                                       -0.03245410330808422\n",
      "pvp_battle_count_per_count_qua3                                                 -0.03308698658200572\n",
      "building_acceleration_add_value_price_count_mean_qua3                              -0.03436616233031198\n",
      "wound_infantry_add_value_price_count_mean_qua3                                  -0.03449771407396235\n",
      "sr_hide_storage_level_per_count_qua3                                            -0.03456554816613233\n",
      "sr_rss_a_prod_levell_per_count_qua3                                             -0.03470035250457503\n",
      "sr_troop_load_level_price_count_mean_qua3                                       -0.03477160001154153\n",
      "shaman_qua1_price_count_mean_qua3                                               -0.03480670772767113\n",
      "pvp_lanch_count_per_price_qua3                                                 -0.034836436488658924\n",
      "pvp_win_count_per_price_qua3                                                    -0.03574904664585766\n",
      "wound_infantry_reduce_value_per_price_qua3                                       -0.0361294731700504\n",
      "sr_healing_speed_level_price_count_mean_qua3                                    -0.03618518121879741\n",
      "wound_shaman_reduce_value_per_price_qua3                                        -0.03625732142391826\n",
      "sr_rss_d_gather_level_per_price_qua3                                            -0.03677874389791679\n",
      "wound_cavalry_reduce_value_per_price_qua3                                       -0.03697745446043136\n",
      "sr_rss_a_gather_level_per_price_qua3                                            -0.03819705001664524\n",
      "wound_cavalry_add_value_price_count_mean_qua3                                   -0.03882092087074028\n",
      "pvp_battle_count_price_count_mean_qua3                                          -0.03899723512150941\n",
      "sr_rss_d_prod_level_per_count_qua3                                              -0.03908863992868794\n",
      "infantry_reduce_value_price_count_mean_qua3                                     -0.03912885903600539\n",
      "training_acceleration_reduce_value_per_price_qua3                                -0.0398273394891697\n",
      "cavalry_qua1_price_count_mean_qua3                                              -0.04089833695816684\n",
      "sr_troop_consumption_level_price_count_mean_qua3                                -0.04093676582391864\n",
      "shaman_add_value_per_price_qua3                                                -0.040938680375478265\n",
      "sr_gathering_hunter_buff_level_per_count_qua3                                   -0.04103551272207406\n",
      "sr_shaman_atk_level_per_price_qua3                                              -0.04109771728405646\n",
      "sr_troop_load_level_per_price_qua3                                              -0.04132804525328679\n",
      "troop_qua1_price_count_mean_qua3                                               -0.041397546820440306\n",
      "cavalry_reduce_value_price_count_mean_qua3                                     -0.041705842194854015\n",
      "infantry_add_value_per_price_qua3                                               -0.04196542292416751\n",
      "sr_healing_space_level_price_count_mean_qua3                                    -0.04253263580583714\n",
      "cavalry_add_value_per_price_qua3                                                -0.04280749280067607\n",
      "infantry_qua1_price_count_mean_qua3                                             -0.04317948351515887\n",
      "sr_rss_a_prod_levell_price_count_mean_qua3                                      -0.04334050247472737\n",
      "wound_shaman_add_value_per_price_qua3                                          -0.043410429556184786\n",
      "sr_hide_storage_level_price_count_mean_qua3                                     -0.04366556953084759\n",
      "wound_infantry_add_value_per_price_qua3                                        -0.044398681624118336\n",
      "wound_cavalry_add_value_per_price_qua3                                         -0.044701557089527805\n",
      "sr_healing_speed_level_per_price_qua3                                           -0.04509963131873988\n",
      "pvp_battle_count_per_price_qua3                                                 -0.04596566780078652\n",
      "sr_cavalry_atk_level_per_price_qua3                                            -0.046958588194797764\n",
      "sr_troop_consumption_level_per_price_qua3                                       -0.04700385787129101\n",
      "sr_rss_d_prod_level_price_count_mean_qua3                                       -0.04768226041794966\n",
      "sr_rss_a_prod_levell_per_price_qua3                                             -0.04809293150175034\n",
      "sr_infantry_atk_level_per_price_qua3                                            -0.04856156482895989\n",
      "sr_hide_storage_level_per_price_qua3                                            -0.04971830581958698\n",
      "shaman_reduce_value_per_price_qua3                                             -0.050208825923973355\n",
      "treatment_acceleraion_add_value_per_count_qua3                                 -0.050860756081040584\n",
      "sr_healing_space_level_per_price_qua3                                           -0.05136606633887951\n",
      "ivory_qua1_per_price_qua3                                                      -0.051949971627250784\n",
      "sr_rss_d_prod_level_per_price_qua3                                             -0.051998714293088846\n",
      "sr_gathering_hunter_buff_level_price_count_mean_qua3                              -0.05217889696664298\n",
      "cavalry_reduce_value_per_price_qua3                                             -0.05296788912877621\n",
      "troop_qua1_per_price_qua3                                                      -0.053251694251653804\n",
      "wood_qua2_per_price_qua3                                                        -0.05331862951949984\n",
      "infantry_reduce_value_per_price_qua3                                            -0.05406080956750658\n",
      "pay_count_price_count_mean_qua3                                                -0.054103104962997126\n",
      "general_acceleration_reduce_value_per_price_qua3                                -0.05473951219917195\n",
      "pve_win_count_per_count_qua3                                                    -0.05708147893492416\n",
      "avg_online_minutes_per_count_qua3                                              -0.057180948185871945\n",
      "sr_gathering_hunter_buff_level_per_price_qua3                                  -0.057933003997299774\n",
      "stone_reduce_value_per_price_qua3                                              -0.058188148027849926\n",
      "pve_lanch_count_per_count_qua3                                                 -0.059058774061234394\n",
      "pve_battle_count_per_count_qua3                                                -0.059151406409680765\n",
      "shaman_qua1_per_price_qua3                                                      -0.06113885008954161\n",
      "sr_shaman_tier_2_level_per_count_qua3                                            -0.0628814269019065\n",
      "sr_outpost_durability_level_per_count_qua3                                      -0.06412366494746428\n",
      "pve_win_count_price_count_mean_qua3                                             -0.06455038397185027\n",
      "cavalry_qua1_per_price_qua3                                                     -0.06632660005904376\n",
      "pve_lanch_count_price_count_mean_qua3                                           -0.06662265908574172\n",
      "pve_battle_count_price_count_mean_qua3                                          -0.06674864454605572\n",
      "stone_qua2_per_price_qua3                                                       -0.06675435529343558\n",
      "sr_construction_speed_level_per_count_qua3                                      -0.06681658475329808\n",
      "stone_qua1_per_price_qua3                                                        -0.0674312870874375\n",
      "infantry_qua1_per_price_qua3                                                    -0.06755376277114958\n",
      "treatment_acceleraion_add_value_price_count_mean_qua3                              -0.06769842321815181\n",
      "avg_online_minutes_price_count_mean_qua3                                        -0.06799630371829302\n",
      "reaserch_acceleration_reduce_value_per_price_qua3                                -0.0686208141523476\n",
      "sr_cavalry_tier_2_level_per_count_qua3                                           -0.0691435449227748\n",
      "sr_shaman_tier_2_level_per_price_qua3                                           -0.06917446697003743\n",
      "pve_win_count_per_price_qua3                                                    -0.06938073652435603\n",
      "bd_hero_strengthen_level_per_count_qua3                                         -0.06962785952274618\n",
      "bd_hall_of_war_level_per_count_qua3                                              -0.0699126868080522\n",
      "ivory_add_value_per_price_qua3                                                  -0.07023126349741186\n",
      "sr_infantry_tier_2_level_per_count_qua3                                         -0.07058239393664678\n",
      "general_acceleration_add_value_per_price_qua3                                   -0.07104336617377012\n",
      "pve_lanch_count_per_price_qua3                                                  -0.07138709875724156\n",
      "pve_battle_count_per_price_qua3                                                 -0.07152084237845488\n",
      "sr_shaman_tier_2_level_price_count_mean_qua3                                    -0.07271600955313566\n",
      "bd_hero_gacha_level_per_count_qua3                                              -0.07294019808691866\n",
      "sr_outpost_durability_level_price_count_mean_qua3                               -0.07295653622696274\n",
      "training_acceleration_add_value_per_price_qua3                                  -0.07327623660607717\n",
      "sr_cavalry_tier_2_level_per_price_qua3                                          -0.07385821196840156\n",
      "stone_add_value_per_price_qua3                                                  -0.07390575957214067\n",
      "sr_construction_speed_level_price_count_mean_qua3                               -0.07451627392420238\n",
      "sr_outpost_durability_level_per_price_qua3                                      -0.07495889264240682\n",
      "sr_infantry_tier_2_level_per_price_qua3                                         -0.07496098849886641\n",
      "acceleration_reduce_qua1_per_price_qua3                                         -0.07616191951554574\n",
      "sr_construction_speed_level_per_price_qua3                                       -0.0761743751900372\n",
      "avg_online_minutes_per_price_qua3                                               -0.07717047707277132\n",
      "sr_cavalry_tier_2_level_price_count_mean_qua3                                   -0.07848734203200727\n",
      "bd_hero_strengthen_level_per_price_qua3                                         -0.07895014941132542\n",
      "bd_hero_strengthen_level_price_count_mean_qua3                                  -0.07920514827234619\n",
      "sr_infantry_tier_2_level_price_count_mean_qua3                                  -0.07983579117051515\n",
      "bd_hall_of_war_level_price_count_mean_qua3                                      -0.08107427701649242\n",
      "bd_hero_gacha_level_per_price_qua3                                              -0.08175001372338339\n",
      "meat_reduce_value_per_price_qua3                                                 -0.0827166042675092\n",
      "bd_hero_gacha_level_price_count_mean_qua3                                       -0.08283834438828358\n",
      "sr_scout_level_per_count_qua3                                                   -0.08305244815502531\n",
      "sr_outpost_tier_2_level_per_count_qua3                                          -0.08329112312966071\n",
      "bd_hero_pve_level_per_count_qua3                                                -0.08351212189171872\n",
      "wood_reduce_value_per_price_qua3                                                 -0.0843659825219723\n",
      "sr_outpost_tier_2_level_per_price_qua3                                          -0.08459289736469702\n",
      "treatment_acceleraion_add_value_per_price_qua3                                  -0.08550645589549108\n",
      "bd_hall_of_war_level_per_price_qua3                                             -0.08593547938493817\n",
      "wood_qua1_per_price_qua3                                                        -0.08727926714289122\n",
      "building_acceleration_reduce_value_per_price_qua3                               -0.08796833308463768\n",
      "wood_add_value_per_price_qua3                                                   -0.08924366029536059\n",
      "sr_scout_level_per_price_qua3                                                   -0.08932567094357023\n",
      "sr_scout_level_price_count_mean_qua3                                             -0.0906296129797501\n",
      "bd_hero_pve_level_per_price_qua3                                                 -0.0910258364446161\n",
      "sr_outpost_tier_2_level_price_count_mean_qua3                                   -0.09134806438081285\n",
      "meat_qua1_per_price_qua3                                                        -0.09146208469603788\n",
      "ivory_qua2_per_price_qua3                                                       -0.09226557537784945\n",
      "meat_qua2_per_price_qua3                                                         -0.0936976230940705\n",
      "bd_hero_pve_level_price_count_mean_qua3                                         -0.09387793305323625\n",
      "acceleration_qua1_per_price_qua3                                                -0.09522375691759516\n",
      "meat_add_value_per_price_qua3                                                   -0.09592989793778167\n",
      "speed_qua1_per_count_qua3                                                       -0.09714686430476008\n",
      "bd_guest_cavern_level_per_count_qua3                                            -0.10136771124162805\n",
      "reaserch_acceleration_add_value_per_price_qua3                                  -0.10207788375846266\n",
      "acceleration_add_qua1_per_price_qua3                                            -0.10292031493027332\n",
      "bd_guest_cavern_level_per_price_qua3                                             -0.1029508295418269\n",
      "building_acceleration_add_value_per_price_qua3                                  -0.10504265703940832\n",
      "speed_qua1_per_price_qua3                                                       -0.10658121512492363\n",
      "bd_market_level_per_count_qua3                                                  -0.10677880972668555\n",
      "bd_market_level_per_price_qua3                                                  -0.10689068924800221\n",
      "sr_training_speed_level_per_count_qua3                                          -0.10779195292401213\n",
      "sr_training_speed_level_per_price_qua3                                          -0.10805348562926946\n",
      "speed_qua1_price_count_mean_qua3                                                -0.10814825707613814\n",
      "bd_guest_cavern_level_price_count_mean_qua3                                       -0.111298849093817\n",
      "bd_watchtower_level_per_price_qua3                                              -0.11538510162306476\n",
      "bd_healing_lodge_level_per_price_qua3                                            -0.1156911539228503\n",
      "bd_healing_spring_level_per_price_qua3                                          -0.11620363601479775\n",
      "bd_market_level_price_count_mean_qua3                                           -0.11642138604560766\n",
      "bd_warehouse_level_per_price_qua3                                               -0.11648431721831305\n",
      "bd_watchtower_level_per_count_qua3                                              -0.11650043478753197\n",
      "bd_magic_coin_tree_level_per_price_qua3                                         -0.11690047393072703\n",
      "sr_training_speed_level_price_count_mean_qua3                                   -0.11713000051911875\n",
      "bd_healing_spring_level_per_count_qua3                                          -0.11725069270557742\n",
      "bd_healing_lodge_level_per_count_qua3                                           -0.11744943621013554\n",
      "bd_training_hut_level_per_price_qua3                                            -0.11830368615511064\n",
      "bd_warehouse_level_per_count_qua3                                                -0.1184511237914401\n",
      "bd_barrack_level_per_price_qua3                                                 -0.12011913604218513\n",
      "bd_dolmen_level_per_price_qua3                                                  -0.12021439343795494\n",
      "bd_training_hut_level_per_count_qua3                                            -0.12092186272956948\n",
      "bd_magic_coin_tree_level_per_count_qua3                                          -0.1210579729472977\n",
      "bd_dolmen_level_per_count_qua3                                                  -0.12225043260637558\n",
      "bd_barrack_level_per_count_qua3                                                 -0.12250340537294019\n",
      "bd_outpost_portal_level_per_price_qua3                                          -0.12463813763971615\n",
      "bd_watchtower_level_price_count_mean_qua3                                       -0.12627127187280643\n",
      "bd_healing_spring_level_price_count_mean_qua3                                    -0.1268581198313235\n",
      "bd_healing_lodge_level_price_count_mean_qua3                                     -0.1271606665786718\n",
      "bd_stronghold_level_per_price_qua3                                              -0.12748743991386352\n",
      "bd_warehouse_level_price_count_mean_qua3                                        -0.12796820947199813\n",
      "bd_outpost_portal_level_per_count_qua3                                           -0.1287496259574428\n",
      "bd_magic_coin_tree_level_price_count_mean_qua3                                  -0.12976846467195943\n",
      "bd_training_hut_level_price_count_mean_qua3                                     -0.13070896280997218\n",
      "bd_barrack_level_price_count_mean_qua3                                          -0.13257510232955166\n",
      "bd_dolmen_level_price_count_mean_qua3                                           -0.13301337442978273\n",
      "bd_stronghold_level_per_count_qua3                                                 -0.13404326886864\n",
      "bd_outpost_portal_level_price_count_mean_qua3                                     -0.139187277916445\n",
      "bd_stronghold_level_price_count_mean_qua3                                       -0.14437212459229226\n",
      "pay_count_per_price_qua3                                                         -0.2090648273140863\n",
      "pay_price_per_price_qua3                                                                         nan\n",
      "pay_count_per_count_qua3                                                                         nan\n"
     ]
    }
   ],
   "source": [
    "for name ,value in data_7pay_corr['prediction_pay_price'].sort_values(ascending=False).iteritems():\n",
    "    print('{:<50}{:>50}'.format(name,value))"
   ]
  },
  {
   "cell_type": "code",
   "execution_count": 60,
   "metadata": {
    "ExecuteTime": {
     "end_time": "2018-08-22T03:28:38.323724Z",
     "start_time": "2018-08-22T03:28:38.318723Z"
    }
   },
   "outputs": [
    {
     "data": {
      "text/plain": [
       "(107, 107)"
      ]
     },
     "execution_count": 60,
     "metadata": {},
     "output_type": "execute_result"
    }
   ],
   "source": [
    "data_7pay_corr.shape"
   ]
  },
  {
   "cell_type": "code",
   "execution_count": null,
   "metadata": {
    "ExecuteTime": {
     "end_time": "2018-08-16T08:56:10.668773Z",
     "start_time": "2018-08-16T08:56:09.629115Z"
    }
   },
   "outputs": [],
   "source": [
    "# data_pay_7_corr=data_pay_7.corr()"
   ]
  },
  {
   "cell_type": "code",
   "execution_count": null,
   "metadata": {
    "ExecuteTime": {
     "end_time": "2018-08-16T08:56:41.159569Z",
     "start_time": "2018-08-16T08:56:41.152569Z"
    }
   },
   "outputs": [],
   "source": [
    "# data_pay_7_corr['prediction_pay_price'].sort_values(ascending=False)"
   ]
  },
  {
   "cell_type": "code",
   "execution_count": null,
   "metadata": {
    "ExecuteTime": {
     "end_time": "2018-08-16T08:59:16.935245Z",
     "start_time": "2018-08-16T08:59:15.779580Z"
    }
   },
   "outputs": [],
   "source": [
    "# data_pay_45_corr=data_pay_45.corr()"
   ]
  },
  {
   "cell_type": "code",
   "execution_count": null,
   "metadata": {
    "ExecuteTime": {
     "end_time": "2018-08-16T08:59:53.976503Z",
     "start_time": "2018-08-16T08:59:53.945303Z"
    }
   },
   "outputs": [],
   "source": [
    "# data_pay_45_corr['prediction_pay_price'].sort_values(ascending=False)"
   ]
  },
  {
   "cell_type": "code",
   "execution_count": null,
   "metadata": {
    "ExecuteTime": {
     "end_time": "2018-08-16T08:10:54.049506Z",
     "start_time": "2018-08-16T08:10:53.365268Z"
    }
   },
   "outputs": [],
   "source": [
    "# data_7nopay=data_train2[(data_train2['pay_price']==0)]\n",
    "\n",
    "# data_7nopay_corr=data_7nopay.corr()\n",
    "\n",
    "# # data_7nopay_corr['prediction_pay_price'].sort_values(ascending=False)\n",
    "\n",
    "# data_7nopay_45pay=data_train2[(data_train2['pay_price']==0) &  (data_train2['prediction_pay_price']>0)]\n",
    "\n",
    "# data_7nopay_45pay_corr=data_7nopay_45pay.corr()\n",
    "\n",
    "# data_7nopay_45pay_corr['prediction_pay_price'].sort_values(ascending=False)\n",
    "\n",
    "# data_7nopay_45nopay=data_train2[(data_train2['pay_price']==0) &  (data_train2['prediction_pay_price']==0)]\n",
    "\n",
    "# data_7nopay_45nopay_corr=data_7nopay_45nopay.corr()\n",
    "\n",
    "# data_7nopay_45nopay_corr['prediction_pay_price'].sort_values(ascending=False)\n",
    "\n",
    "# del data_7nopay_45pay_corr,data_7nopay_45nopay_corr,data_7nopay_corr\n",
    "# del data_7nopay,data_7nopay_45nopay,data_7nopay_45pay"
   ]
  },
  {
   "cell_type": "code",
   "execution_count": null,
   "metadata": {
    "ExecuteTime": {
     "end_time": "2018-08-16T08:50:25.634461Z",
     "start_time": "2018-08-16T08:50:25.618861Z"
    }
   },
   "outputs": [],
   "source": []
  },
  {
   "cell_type": "code",
   "execution_count": null,
   "metadata": {
    "ExecuteTime": {
     "end_time": "2018-08-16T06:38:41.633749Z",
     "start_time": "2018-08-16T06:38:41.459739Z"
    }
   },
   "outputs": [],
   "source": [
    "data_train2[(data_train2['pay_price']==0) & (data_train2['prediction_pay_price']==0) & \\\n",
    "             #(data_train2['avg_online_minutes'] >75) \n",
    "             (data_train2['general_acceleration_add_value']> 100)].shape"
   ]
  },
  {
   "cell_type": "code",
   "execution_count": null,
   "metadata": {},
   "outputs": [],
   "source": [
    "data_train2[(data_train2['pay_price']==0)]"
   ]
  },
  {
   "cell_type": "code",
   "execution_count": null,
   "metadata": {},
   "outputs": [],
   "source": [
    "#################################################"
   ]
  },
  {
   "cell_type": "code",
   "execution_count": null,
   "metadata": {
    "ExecuteTime": {
     "end_time": "2018-08-14T01:55:23.780105Z",
     "start_time": "2018-08-14T01:55:23.690100Z"
    }
   },
   "outputs": [],
   "source": [
    "top50_ppp_index=data_train2[data_train2['prediction_pay_price']>0]['prediction_pay_price'].sort_values(ascending=False).head(50).index"
   ]
  },
  {
   "cell_type": "code",
   "execution_count": null,
   "metadata": {
    "ExecuteTime": {
     "end_time": "2018-08-14T01:55:23.842109Z",
     "start_time": "2018-08-14T01:55:23.781105Z"
    }
   },
   "outputs": [],
   "source": [
    "data_train2.iloc[top50_ppp_index][['avg_online_minutes','pay_count','pay_price','prediction_pay_price']]"
   ]
  },
  {
   "cell_type": "code",
   "execution_count": null,
   "metadata": {
    "ExecuteTime": {
     "end_time": "2018-08-14T01:55:23.979117Z",
     "start_time": "2018-08-14T01:55:23.843109Z"
    }
   },
   "outputs": [],
   "source": [
    "data_pp_df=data_train2[data_train2['pay_price']>0]"
   ]
  },
  {
   "cell_type": "code",
   "execution_count": null,
   "metadata": {
    "ExecuteTime": {
     "end_time": "2018-08-14T01:55:24.068122Z",
     "start_time": "2018-08-14T01:55:23.981117Z"
    }
   },
   "outputs": [],
   "source": [
    "data_pp_df=data_train2[data_train2['prediction_pay_price']>0]"
   ]
  },
  {
   "cell_type": "code",
   "execution_count": null,
   "metadata": {
    "ExecuteTime": {
     "end_time": "2018-08-14T01:55:24.155127Z",
     "start_time": "2018-08-14T01:55:24.069122Z"
    }
   },
   "outputs": [],
   "source": [
    "data_pp_df['pay_price'].describe() "
   ]
  },
  {
   "cell_type": "code",
   "execution_count": null,
   "metadata": {
    "ExecuteTime": {
     "end_time": "2018-08-14T01:55:24.328137Z",
     "start_time": "2018-08-14T01:55:24.156127Z"
    }
   },
   "outputs": [],
   "source": [
    "data_pp_df['prediction_pay_price'].describe()"
   ]
  },
  {
   "cell_type": "code",
   "execution_count": null,
   "metadata": {},
   "outputs": [],
   "source": []
  }
 ],
 "metadata": {
  "kernelspec": {
   "display_name": "Python 3",
   "language": "python",
   "name": "python3"
  },
  "language_info": {
   "codemirror_mode": {
    "name": "ipython",
    "version": 3
   },
   "file_extension": ".py",
   "mimetype": "text/x-python",
   "name": "python",
   "nbconvert_exporter": "python",
   "pygments_lexer": "ipython3",
   "version": "3.6.3"
  }
 },
 "nbformat": 4,
 "nbformat_minor": 2
}
