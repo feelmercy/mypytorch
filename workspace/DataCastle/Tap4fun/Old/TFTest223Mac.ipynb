{
 "cells": [
  {
   "cell_type": "code",
   "execution_count": null,
   "metadata": {
    "ExecuteTime": {
     "end_time": "2018-07-03T02:49:41.245725Z",
     "start_time": "2018-07-03T02:48:55.378Z"
    }
   },
   "outputs": [],
   "source": [
    "import pandas as pd\n",
    "import numpy as np"
   ]
  },
  {
   "cell_type": "code",
   "execution_count": null,
   "metadata": {
    "ExecuteTime": {
     "end_time": "2018-07-03T02:49:41.245725Z",
     "start_time": "2018-07-03T02:48:55.380Z"
    }
   },
   "outputs": [],
   "source": [
    "df_train=pd.read_csv('F:\\\\study\\\\ml\\\\DataSet\\\\Tap4fun\\\\tap_fun_train.csv',nrows=5)"
   ]
  },
  {
   "cell_type": "code",
   "execution_count": null,
   "metadata": {
    "ExecuteTime": {
     "end_time": "2018-07-03T02:49:41.246725Z",
     "start_time": "2018-07-03T02:48:55.382Z"
    }
   },
   "outputs": [],
   "source": [
    "df_train.info(memory_usage='deep')"
   ]
  },
  {
   "cell_type": "code",
   "execution_count": null,
   "metadata": {
    "ExecuteTime": {
     "end_time": "2018-07-03T02:49:41.247725Z",
     "start_time": "2018-07-03T02:48:55.385Z"
    }
   },
   "outputs": [],
   "source": [
    "c_int=df_train.select_dtypes(include=['int64']).apply(pd.to_numeric,downcast='unsigned')\n",
    "c_float=df_train.select_dtypes(include=['float']).apply(pd.to_numeric,downcast='float')"
   ]
  },
  {
   "cell_type": "code",
   "execution_count": null,
   "metadata": {
    "ExecuteTime": {
     "end_time": "2018-07-03T02:49:41.248725Z",
     "start_time": "2018-07-03T02:48:55.388Z"
    }
   },
   "outputs": [],
   "source": [
    "o_df=df_train.copy()"
   ]
  },
  {
   "cell_type": "code",
   "execution_count": null,
   "metadata": {
    "ExecuteTime": {
     "end_time": "2018-07-03T02:49:41.251725Z",
     "start_time": "2018-07-03T02:48:55.390Z"
    }
   },
   "outputs": [],
   "source": [
    "o_df[c_int.columns]=c_int\n",
    "o_df[c_float.columns]=c_float"
   ]
  },
  {
   "cell_type": "code",
   "execution_count": null,
   "metadata": {
    "ExecuteTime": {
     "end_time": "2018-07-03T02:49:41.252725Z",
     "start_time": "2018-07-03T02:48:55.393Z"
    }
   },
   "outputs": [],
   "source": [
    "dtypes=o_df.dtypes\n",
    "dtypes_col=dtypes.index\n",
    "dtypes_type=[i.name for i in dtypes.values]\n",
    "column_type=dict(zip(dtypes_col,dtypes_type))"
   ]
  },
  {
   "cell_type": "code",
   "execution_count": null,
   "metadata": {
    "ExecuteTime": {
     "end_time": "2018-07-03T02:49:41.253725Z",
     "start_time": "2018-07-03T02:48:55.395Z"
    }
   },
   "outputs": [],
   "source": [
    "#column_type"
   ]
  },
  {
   "cell_type": "code",
   "execution_count": null,
   "metadata": {
    "ExecuteTime": {
     "end_time": "2018-07-03T02:49:41.254725Z",
     "start_time": "2018-07-03T02:48:55.398Z"
    }
   },
   "outputs": [],
   "source": [
    "column_type.pop('register_time')"
   ]
  },
  {
   "cell_type": "code",
   "execution_count": null,
   "metadata": {
    "ExecuteTime": {
     "end_time": "2018-07-03T02:49:41.256725Z",
     "start_time": "2018-07-03T02:48:55.400Z"
    }
   },
   "outputs": [],
   "source": [
    "data_train=pd.read_csv('F:\\\\study\\\\ml\\\\DataSet\\\\Tap4fun\\\\tap_fun_train.csv',\n",
    "                      dtype=column_type,parse_dates=['register_time'],infer_datetime_format=True)"
   ]
  },
  {
   "cell_type": "code",
   "execution_count": null,
   "metadata": {
    "ExecuteTime": {
     "end_time": "2018-07-03T02:49:41.257726Z",
     "start_time": "2018-07-03T02:48:55.402Z"
    }
   },
   "outputs": [],
   "source": [
    "data_train.info(memory_usage='deep')"
   ]
  },
  {
   "cell_type": "code",
   "execution_count": null,
   "metadata": {
    "ExecuteTime": {
     "end_time": "2018-07-03T02:49:41.257726Z",
     "start_time": "2018-07-03T02:48:55.405Z"
    }
   },
   "outputs": [],
   "source": [
    "# data_test=pd.read_csv('F:\\\\study\\\\ml\\\\DataSet\\\\Tap4fun\\\\tap_fun_test.csv',\n",
    "#                       dtype=column_type,parse_dates=['register_time'],infer_datetime_format=True)"
   ]
  },
  {
   "cell_type": "code",
   "execution_count": null,
   "metadata": {
    "ExecuteTime": {
     "end_time": "2018-07-03T02:49:41.258726Z",
     "start_time": "2018-07-03T02:48:55.407Z"
    }
   },
   "outputs": [],
   "source": [
    "#data_test.info(memory_usage='deep')"
   ]
  },
  {
   "cell_type": "code",
   "execution_count": null,
   "metadata": {
    "ExecuteTime": {
     "end_time": "2018-07-03T02:49:41.260726Z",
     "start_time": "2018-07-03T02:48:55.409Z"
    }
   },
   "outputs": [],
   "source": [
    "train_feat=data_train\n",
    "# test_feat=data_test\n"
   ]
  },
  {
   "cell_type": "code",
   "execution_count": null,
   "metadata": {
    "ExecuteTime": {
     "end_time": "2018-07-03T02:49:41.260726Z",
     "start_time": "2018-07-03T02:48:55.411Z"
    }
   },
   "outputs": [],
   "source": [
    "train_feat.shape"
   ]
  },
  {
   "cell_type": "code",
   "execution_count": null,
   "metadata": {
    "ExecuteTime": {
     "end_time": "2018-07-03T02:49:41.261726Z",
     "start_time": "2018-07-03T02:48:55.413Z"
    }
   },
   "outputs": [],
   "source": [
    "#train_feat=train_feat.drop(['prediction_pay_price'],axis=1)"
   ]
  },
  {
   "cell_type": "code",
   "execution_count": null,
   "metadata": {
    "ExecuteTime": {
     "end_time": "2018-07-03T02:49:41.262726Z",
     "start_time": "2018-07-03T02:48:55.416Z"
    }
   },
   "outputs": [],
   "source": [
    "train_feat.shape"
   ]
  },
  {
   "cell_type": "code",
   "execution_count": null,
   "metadata": {
    "ExecuteTime": {
     "end_time": "2018-07-03T02:49:41.263726Z",
     "start_time": "2018-07-03T02:48:55.418Z"
    }
   },
   "outputs": [],
   "source": [
    "# test_feat.shape"
   ]
  },
  {
   "cell_type": "code",
   "execution_count": null,
   "metadata": {
    "ExecuteTime": {
     "end_time": "2018-07-03T02:49:41.264726Z",
     "start_time": "2018-07-03T02:48:55.421Z"
    }
   },
   "outputs": [],
   "source": [
    "#train_coorr1=train_feat.corr()"
   ]
  },
  {
   "cell_type": "code",
   "execution_count": null,
   "metadata": {
    "ExecuteTime": {
     "end_time": "2018-07-03T02:49:41.265726Z",
     "start_time": "2018-07-03T02:48:55.423Z"
    }
   },
   "outputs": [],
   "source": [
    "#train_coorr1['prediction_pay_price'].sort_values(ascending=False).head(40)"
   ]
  },
  {
   "cell_type": "code",
   "execution_count": null,
   "metadata": {
    "ExecuteTime": {
     "end_time": "2018-07-03T02:49:41.265726Z",
     "start_time": "2018-07-03T02:48:55.425Z"
    }
   },
   "outputs": [],
   "source": [
    "#train_coorr1.to_csv('/Users/feelmercy/Documents/DataSet/Tap4Fun/train_corr.csv')"
   ]
  },
  {
   "cell_type": "code",
   "execution_count": null,
   "metadata": {
    "ExecuteTime": {
     "end_time": "2018-07-03T02:49:41.266726Z",
     "start_time": "2018-07-03T02:48:55.427Z"
    }
   },
   "outputs": [],
   "source": [
    "train_feat2=train_feat #[train_feat.avg_online_minutes !=0]\n",
    "# test_feat2=test_feat"
   ]
  },
  {
   "cell_type": "code",
   "execution_count": null,
   "metadata": {
    "ExecuteTime": {
     "end_time": "2018-07-03T02:49:41.267726Z",
     "start_time": "2018-07-03T02:48:55.429Z"
    }
   },
   "outputs": [],
   "source": [
    "#train_feat=train_feat.drop(labels=['ivory_qua1','ivory_qua2'],axis=1)\n",
    "#train_feat2=train_feat.drop(labels=['ivory_qua1','ivory_qua2'],axis=1)"
   ]
  },
  {
   "cell_type": "code",
   "execution_count": null,
   "metadata": {
    "ExecuteTime": {
     "end_time": "2018-07-03T02:49:41.268726Z",
     "start_time": "2018-07-03T02:48:55.431Z"
    }
   },
   "outputs": [],
   "source": [
    "train_feat2['ivory_qua1']=train_feat.ivory_add_value+train_feat.ivory_reduce_value\n",
    "train_feat2['ivory_qua2']=train_feat.ivory_add_value-train_feat.ivory_reduce_value"
   ]
  },
  {
   "cell_type": "code",
   "execution_count": null,
   "metadata": {
    "ExecuteTime": {
     "end_time": "2018-07-03T02:49:41.268726Z",
     "start_time": "2018-07-03T02:48:55.434Z"
    }
   },
   "outputs": [],
   "source": [
    "train_feat2['stone_qua1']=train_feat.stone_add_value+train_feat.stone_reduce_value\n",
    "train_feat2['stone_qua2']=train_feat.stone_add_value-train_feat.stone_reduce_value"
   ]
  },
  {
   "cell_type": "code",
   "execution_count": null,
   "metadata": {
    "ExecuteTime": {
     "end_time": "2018-07-03T02:49:41.269726Z",
     "start_time": "2018-07-03T02:48:55.436Z"
    }
   },
   "outputs": [],
   "source": [
    "train_feat2['meat_qua1']=train_feat.meat_add_value+train_feat.meat_reduce_value\n",
    "train_feat2['meat_qua2']=train_feat.meat_add_value-train_feat.meat_reduce_value"
   ]
  },
  {
   "cell_type": "code",
   "execution_count": null,
   "metadata": {
    "ExecuteTime": {
     "end_time": "2018-07-03T02:49:41.270726Z",
     "start_time": "2018-07-03T02:48:55.438Z"
    }
   },
   "outputs": [],
   "source": [
    "train_feat2['wood_qua1']=train_feat.wood_add_value+train_feat.wood_reduce_value\n",
    "train_feat2['wood_qua2']=train_feat.wood_add_value-train_feat.wood_reduce_value"
   ]
  },
  {
   "cell_type": "code",
   "execution_count": null,
   "metadata": {
    "ExecuteTime": {
     "end_time": "2018-07-03T02:49:41.271726Z",
     "start_time": "2018-07-03T02:48:55.440Z"
    }
   },
   "outputs": [],
   "source": [
    "# for test feat\n",
    "# test_feat2['ivory_qua1']=test_feat.ivory_add_value+test_feat.ivory_reduce_value\n",
    "# test_feat2['ivory_qua2']=test_feat.ivory_add_value-test_feat.ivory_reduce_value\n",
    "# test_feat2['stone_qua1']=test_feat.stone_add_value+test_feat.stone_reduce_value\n",
    "# test_feat2['stone_qua2']=test_feat.stone_add_value-test_feat.stone_reduce_value\n",
    "# test_feat2['meat_qua1']=test_feat.meat_add_value+test_feat.meat_reduce_value\n",
    "# test_feat2['meat_qua2']=test_feat.meat_add_value-test_feat.meat_reduce_value\n",
    "# test_feat2['wood_qua1']=test_feat.wood_add_value+test_feat.wood_reduce_value\n",
    "# test_feat2['wood_qua2']=test_feat.wood_add_value-test_feat.wood_reduce_value"
   ]
  },
  {
   "cell_type": "code",
   "execution_count": null,
   "metadata": {
    "ExecuteTime": {
     "end_time": "2018-07-03T02:49:41.272726Z",
     "start_time": "2018-07-03T02:48:55.443Z"
    }
   },
   "outputs": [],
   "source": [
    "train_feat.shape"
   ]
  },
  {
   "cell_type": "code",
   "execution_count": null,
   "metadata": {
    "ExecuteTime": {
     "end_time": "2018-07-03T02:49:41.273726Z",
     "start_time": "2018-07-03T02:48:55.445Z"
    }
   },
   "outputs": [],
   "source": [
    "train_feat2.shape"
   ]
  },
  {
   "cell_type": "code",
   "execution_count": null,
   "metadata": {
    "ExecuteTime": {
     "end_time": "2018-07-03T02:49:41.277727Z",
     "start_time": "2018-07-03T02:48:55.447Z"
    }
   },
   "outputs": [],
   "source": [
    "# test_feat2.shape"
   ]
  },
  {
   "cell_type": "code",
   "execution_count": null,
   "metadata": {
    "ExecuteTime": {
     "end_time": "2018-07-03T02:49:41.277727Z",
     "start_time": "2018-07-03T02:48:55.449Z"
    }
   },
   "outputs": [],
   "source": [
    "#train_corr2=train_feat2.corr()"
   ]
  },
  {
   "cell_type": "code",
   "execution_count": null,
   "metadata": {
    "ExecuteTime": {
     "end_time": "2018-07-03T02:49:41.278727Z",
     "start_time": "2018-07-03T02:48:55.451Z"
    }
   },
   "outputs": [],
   "source": [
    "#train_corr2['prediction_pay_price'].sort_values(ascending=False).head(40)"
   ]
  },
  {
   "cell_type": "code",
   "execution_count": null,
   "metadata": {
    "ExecuteTime": {
     "end_time": "2018-07-03T02:49:41.281727Z",
     "start_time": "2018-07-03T02:48:55.455Z"
    }
   },
   "outputs": [],
   "source": [
    "#import re"
   ]
  },
  {
   "cell_type": "code",
   "execution_count": null,
   "metadata": {
    "ExecuteTime": {
     "end_time": "2018-07-03T02:49:41.282727Z",
     "start_time": "2018-07-03T02:48:55.457Z"
    },
    "scrolled": true
   },
   "outputs": [],
   "source": [
    "train_feat2.columns.values[pd.Series(train_feat2.columns.values).str.contains('def')]"
   ]
  },
  {
   "cell_type": "code",
   "execution_count": null,
   "metadata": {
    "ExecuteTime": {
     "end_time": "2018-07-03T02:49:41.283727Z",
     "start_time": "2018-07-03T02:48:55.459Z"
    }
   },
   "outputs": [],
   "source": [
    "type(pd.Series(train_feat2.columns.values).str.contains('def'))"
   ]
  },
  {
   "cell_type": "code",
   "execution_count": null,
   "metadata": {
    "ExecuteTime": {
     "end_time": "2018-07-03T02:49:41.283727Z",
     "start_time": "2018-07-03T02:48:55.461Z"
    }
   },
   "outputs": [],
   "source": [
    "#del text"
   ]
  },
  {
   "cell_type": "code",
   "execution_count": null,
   "metadata": {
    "ExecuteTime": {
     "end_time": "2018-07-03T02:49:41.284727Z",
     "start_time": "2018-07-03T02:48:55.463Z"
    },
    "scrolled": true
   },
   "outputs": [],
   "source": [
    "# text_def=[]\n",
    "# for col in train_feat2.columns.values:\n",
    "#      if 'def' in col:\n",
    "#             text_def.append(col)"
   ]
  },
  {
   "cell_type": "code",
   "execution_count": null,
   "metadata": {
    "ExecuteTime": {
     "end_time": "2018-07-03T02:49:41.285727Z",
     "start_time": "2018-07-03T02:48:55.464Z"
    }
   },
   "outputs": [],
   "source": [
    "#text_def"
   ]
  },
  {
   "cell_type": "code",
   "execution_count": null,
   "metadata": {
    "ExecuteTime": {
     "end_time": "2018-07-03T02:49:41.286727Z",
     "start_time": "2018-07-03T02:48:55.466Z"
    }
   },
   "outputs": [],
   "source": [
    "#train_coorr1.to_csv('F:\\\\study\\\\ml\\\\DataSet\\\\Tap4fun\\\\train_feat_corr.csv')\n",
    "#del feat_def_qua\n",
    "#train_feat2.head()"
   ]
  },
  {
   "cell_type": "code",
   "execution_count": null,
   "metadata": {
    "ExecuteTime": {
     "end_time": "2018-07-03T02:49:41.287727Z",
     "start_time": "2018-07-03T02:48:55.468Z"
    }
   },
   "outputs": [],
   "source": [
    "text_def=[]\n",
    "for col in train_feat2.columns.values:\n",
    "     if 'def' in col:\n",
    "            text_def.append(col)"
   ]
  },
  {
   "cell_type": "code",
   "execution_count": null,
   "metadata": {
    "ExecuteTime": {
     "end_time": "2018-07-03T02:49:41.287727Z",
     "start_time": "2018-07-03T02:48:55.470Z"
    }
   },
   "outputs": [],
   "source": [
    "# text_def"
   ]
  },
  {
   "cell_type": "code",
   "execution_count": null,
   "metadata": {
    "ExecuteTime": {
     "end_time": "2018-07-03T02:49:41.288727Z",
     "start_time": "2018-07-03T02:48:55.472Z"
    }
   },
   "outputs": [],
   "source": [
    "# type(text_def)"
   ]
  },
  {
   "cell_type": "code",
   "execution_count": null,
   "metadata": {
    "ExecuteTime": {
     "end_time": "2018-07-03T02:49:41.289727Z",
     "start_time": "2018-07-03T02:48:55.474Z"
    }
   },
   "outputs": [],
   "source": [
    "text_troop=[]\n",
    "for col in train_feat2.columns.values:\n",
    "    if 'troop' in col :\n",
    "        text_troop.append(col)"
   ]
  },
  {
   "cell_type": "code",
   "execution_count": null,
   "metadata": {
    "ExecuteTime": {
     "end_time": "2018-07-03T02:49:41.290727Z",
     "start_time": "2018-07-03T02:48:55.475Z"
    }
   },
   "outputs": [],
   "source": [
    "text_troop"
   ]
  },
  {
   "cell_type": "code",
   "execution_count": null,
   "metadata": {
    "ExecuteTime": {
     "end_time": "2018-07-03T02:49:41.292728Z",
     "start_time": "2018-07-03T02:48:55.478Z"
    }
   },
   "outputs": [],
   "source": [
    "text_cavalry=[]\n",
    "for col in train_feat2.columns.values:\n",
    "    if 'sr_cavalry' in col :\n",
    "        text_cavalry.append(col)"
   ]
  },
  {
   "cell_type": "code",
   "execution_count": null,
   "metadata": {
    "ExecuteTime": {
     "end_time": "2018-07-03T02:49:41.293728Z",
     "start_time": "2018-07-03T02:48:55.480Z"
    }
   },
   "outputs": [],
   "source": [
    "text_cavalry"
   ]
  },
  {
   "cell_type": "code",
   "execution_count": null,
   "metadata": {
    "ExecuteTime": {
     "end_time": "2018-07-03T02:49:41.294728Z",
     "start_time": "2018-07-03T02:48:55.481Z"
    }
   },
   "outputs": [],
   "source": [
    "text_infantry=[]\n",
    "for col in train_feat2.columns.values:\n",
    "    if 'sr_infantry' in col :\n",
    "        text_infantry.append(col)"
   ]
  },
  {
   "cell_type": "code",
   "execution_count": null,
   "metadata": {
    "ExecuteTime": {
     "end_time": "2018-07-03T02:49:41.294728Z",
     "start_time": "2018-07-03T02:48:55.483Z"
    }
   },
   "outputs": [],
   "source": [
    "text_infantry"
   ]
  },
  {
   "cell_type": "code",
   "execution_count": null,
   "metadata": {
    "ExecuteTime": {
     "end_time": "2018-07-03T02:49:41.296728Z",
     "start_time": "2018-07-03T02:48:55.486Z"
    }
   },
   "outputs": [],
   "source": [
    "text_shaman=[]\n",
    "for col in train_feat2.columns.values:\n",
    "    if 'sr_shaman' in col :\n",
    "        text_shaman.append(col)"
   ]
  },
  {
   "cell_type": "code",
   "execution_count": null,
   "metadata": {
    "ExecuteTime": {
     "end_time": "2018-07-03T02:49:41.298728Z",
     "start_time": "2018-07-03T02:48:55.488Z"
    }
   },
   "outputs": [],
   "source": [
    "text_shaman"
   ]
  },
  {
   "cell_type": "code",
   "execution_count": null,
   "metadata": {
    "ExecuteTime": {
     "end_time": "2018-07-03T02:49:41.299728Z",
     "start_time": "2018-07-03T02:48:55.490Z"
    }
   },
   "outputs": [],
   "source": [
    "text_speed=[]\n",
    "for col in train_feat2.columns.values:\n",
    "    if 'speed' in col :\n",
    "        text_speed.append(col)"
   ]
  },
  {
   "cell_type": "code",
   "execution_count": null,
   "metadata": {
    "ExecuteTime": {
     "end_time": "2018-07-03T02:49:41.300728Z",
     "start_time": "2018-07-03T02:48:55.492Z"
    }
   },
   "outputs": [],
   "source": [
    "text_speed"
   ]
  },
  {
   "cell_type": "code",
   "execution_count": null,
   "metadata": {
    "ExecuteTime": {
     "end_time": "2018-07-03T02:49:41.301728Z",
     "start_time": "2018-07-03T02:48:55.494Z"
    }
   },
   "outputs": [],
   "source": [
    "train_feat2['def_qua1']=0.0\n",
    "for name in text_def:\n",
    "    train_feat2['def_qua1']+=train_feat2[name]"
   ]
  },
  {
   "cell_type": "code",
   "execution_count": null,
   "metadata": {
    "ExecuteTime": {
     "end_time": "2018-07-03T02:49:41.302728Z",
     "start_time": "2018-07-03T02:48:55.496Z"
    }
   },
   "outputs": [],
   "source": [
    "#pd.Series(train_feat2.columns.values) .str.contains('def')"
   ]
  },
  {
   "cell_type": "code",
   "execution_count": null,
   "metadata": {
    "ExecuteTime": {
     "end_time": "2018-07-03T02:49:41.303728Z",
     "start_time": "2018-07-03T02:48:55.498Z"
    }
   },
   "outputs": [],
   "source": [
    "#train_feat2[train_feat2.sr_troop_attack_level != 0][train_feat2.columns.values[pd.Series(train_feat2.columns.values) .str.contains('def')]]"
   ]
  },
  {
   "cell_type": "code",
   "execution_count": null,
   "metadata": {
    "ExecuteTime": {
     "end_time": "2018-07-03T02:49:41.305728Z",
     "start_time": "2018-07-03T02:48:55.500Z"
    }
   },
   "outputs": [],
   "source": [
    "train_feat2['def_qua1']=0.0\n",
    "for name in text_def:\n",
    "    train_feat2['def_qua1']+=train_feat2[name]"
   ]
  },
  {
   "cell_type": "code",
   "execution_count": null,
   "metadata": {
    "ExecuteTime": {
     "end_time": "2018-07-03T02:49:41.305728Z",
     "start_time": "2018-07-03T02:48:55.504Z"
    }
   },
   "outputs": [],
   "source": [
    "# test_feat2['def_qua1']=0.0\n",
    "# for name in text_def:\n",
    "#     test_feat2['def_qua1']+=test_feat2[name]"
   ]
  },
  {
   "cell_type": "code",
   "execution_count": null,
   "metadata": {
    "ExecuteTime": {
     "end_time": "2018-07-03T02:49:41.307728Z",
     "start_time": "2018-07-03T02:48:55.507Z"
    }
   },
   "outputs": [],
   "source": [
    "train_feat2['cavalry_qua1']=0.0\n",
    "for name in text_cavalry:\n",
    "    train_feat2['cavalry_qua1']+=train_feat2[name]"
   ]
  },
  {
   "cell_type": "code",
   "execution_count": null,
   "metadata": {
    "ExecuteTime": {
     "end_time": "2018-07-03T02:49:41.308728Z",
     "start_time": "2018-07-03T02:48:55.509Z"
    }
   },
   "outputs": [],
   "source": [
    "# test_feat2['cavalry_qua1']=0.0\n",
    "# for name in text_cavalry:\n",
    "#     test_feat2['cavalry_qua1']+=test_feat2[name]"
   ]
  },
  {
   "cell_type": "code",
   "execution_count": null,
   "metadata": {
    "ExecuteTime": {
     "end_time": "2018-07-03T02:49:41.309729Z",
     "start_time": "2018-07-03T02:48:55.511Z"
    }
   },
   "outputs": [],
   "source": [
    "train_feat2['infantry_qua1']=0.0\n",
    "for name in text_infantry:\n",
    "    train_feat2['infantry_qua1']+=train_feat2[name]"
   ]
  },
  {
   "cell_type": "code",
   "execution_count": null,
   "metadata": {
    "ExecuteTime": {
     "end_time": "2018-07-03T02:49:41.311729Z",
     "start_time": "2018-07-03T02:48:55.513Z"
    }
   },
   "outputs": [],
   "source": [
    "# test_feat2['infantry_qua1']=0.0\n",
    "# for name in text_infantry:\n",
    "#     test_feat2['infantry_qua1']+=test_feat2[name]"
   ]
  },
  {
   "cell_type": "code",
   "execution_count": null,
   "metadata": {
    "ExecuteTime": {
     "end_time": "2018-07-03T02:49:41.312729Z",
     "start_time": "2018-07-03T02:48:55.515Z"
    }
   },
   "outputs": [],
   "source": [
    "train_feat2['shaman_qua1']=0.0\n",
    "for name in text_shaman:\n",
    "    train_feat2['shaman_qua1']+=train_feat2[name]"
   ]
  },
  {
   "cell_type": "code",
   "execution_count": null,
   "metadata": {
    "ExecuteTime": {
     "end_time": "2018-07-03T02:49:41.315729Z",
     "start_time": "2018-07-03T02:48:55.517Z"
    }
   },
   "outputs": [],
   "source": [
    "# test_feat2['shaman_qua1']=0.0\n",
    "# for name in text_shaman:\n",
    "#     test_feat2['shaman_qua1']+=test_feat2[name]"
   ]
  },
  {
   "cell_type": "code",
   "execution_count": null,
   "metadata": {
    "ExecuteTime": {
     "end_time": "2018-07-03T02:49:41.316729Z",
     "start_time": "2018-07-03T02:48:55.519Z"
    }
   },
   "outputs": [],
   "source": [
    "train_feat2['speed_qua1']=0.0\n",
    "for name in text_speed:\n",
    "    train_feat2['speed_qua1']+=train_feat2[name]"
   ]
  },
  {
   "cell_type": "code",
   "execution_count": null,
   "metadata": {
    "ExecuteTime": {
     "end_time": "2018-07-03T02:49:41.318729Z",
     "start_time": "2018-07-03T02:48:55.521Z"
    }
   },
   "outputs": [],
   "source": [
    "# test_feat2['speed_qua1']=0.0\n",
    "# for name in text_speed:\n",
    "#     test_feat2['speed_qua1']+=test_feat2[name]"
   ]
  },
  {
   "cell_type": "code",
   "execution_count": null,
   "metadata": {
    "ExecuteTime": {
     "end_time": "2018-07-03T02:49:41.319729Z",
     "start_time": "2018-07-03T02:48:55.523Z"
    }
   },
   "outputs": [],
   "source": [
    "train_feat2['troop_qua1']=0.0\n",
    "for name in text_troop:\n",
    "    train_feat2['troop_qua1']+=train_feat2[name]"
   ]
  },
  {
   "cell_type": "code",
   "execution_count": null,
   "metadata": {
    "ExecuteTime": {
     "end_time": "2018-07-03T02:49:41.321729Z",
     "start_time": "2018-07-03T02:48:55.525Z"
    }
   },
   "outputs": [],
   "source": [
    "# test_feat2['troop_qua1']=0.0\n",
    "# for name in text_troop:\n",
    "#     test_feat2['troop_qua1']+=test_feat2[name]"
   ]
  },
  {
   "cell_type": "code",
   "execution_count": null,
   "metadata": {
    "ExecuteTime": {
     "end_time": "2018-07-03T02:49:41.323729Z",
     "start_time": "2018-07-03T02:48:55.527Z"
    }
   },
   "outputs": [],
   "source": [
    "#train_feat2[train_feat2.cavalry_qua1 != 0][train_feat2.columns.values[pd.Series(train_feat2.columns.values).str.contains('qua1')]]"
   ]
  },
  {
   "cell_type": "code",
   "execution_count": null,
   "metadata": {
    "ExecuteTime": {
     "end_time": "2018-07-03T02:49:41.325729Z",
     "start_time": "2018-07-03T02:48:55.529Z"
    }
   },
   "outputs": [],
   "source": [
    "#train_corr2=train_feat2.corr()"
   ]
  },
  {
   "cell_type": "code",
   "execution_count": null,
   "metadata": {
    "ExecuteTime": {
     "end_time": "2018-07-03T02:49:41.326730Z",
     "start_time": "2018-07-03T02:48:55.531Z"
    }
   },
   "outputs": [],
   "source": [
    "#train_corr2['prediction_pay_price'].sort_values(ascending=False).head(40)"
   ]
  },
  {
   "cell_type": "code",
   "execution_count": null,
   "metadata": {
    "ExecuteTime": {
     "end_time": "2018-07-03T02:49:41.328730Z",
     "start_time": "2018-07-03T02:48:55.533Z"
    }
   },
   "outputs": [],
   "source": [
    "train_feat['pvp_lanch_rate_qua1']=train_feat.pvp_lanch_count/train_feat.pvp_battle_count\n",
    "train_feat['pvp_win_rate_qua1']=train_feat.pvp_win_count / train_feat.pvp_battle_count\n",
    "train_feat['pvp_win_lanch_rate_qua1']=train_feat.pvp_win_count / \\\n",
    "train_feat.pvp_lanch_count\n",
    "train_feat['pve_lanch_rate_qua1']=train_feat.pve_lanch_count/train_feat.pve_battle_count\n",
    "train_feat['pve_win_rate_qua1']=train_feat.pve_win_count / train_feat.pve_battle_count\n",
    "train_feat['pve_win_lanch_rate_qua1']=train_feat.pve_win_count / \\\n",
    "train_feat.pve_lanch_count"
   ]
  },
  {
   "cell_type": "code",
   "execution_count": null,
   "metadata": {
    "ExecuteTime": {
     "end_time": "2018-07-03T02:49:41.331730Z",
     "start_time": "2018-07-03T02:48:55.536Z"
    }
   },
   "outputs": [],
   "source": [
    "text_mi=train_feat2.columns[pd.Series(train_feat2.columns.values).str.contains('qua')].tolist()\n",
    "for name in text_mi :\n",
    "    name2='x_avg_mi_'+name\n",
    "    #print(name2)\n",
    "    train_feat2[name2]=train_feat2[name] / train_feat2.avg_online_minutes\n",
    "\n",
    "text_top=['ivory','stone','wood','meat']\n",
    "text_top_add=[]\n",
    "for name in text_top:\n",
    "    name2=name+'_add'\n",
    "    text_top_add.extend(train_feat2.columns[pd.Series(train_feat2.columns.values).str.contains(name2)].tolist())\n",
    "\n",
    "text_top_add2=[]\n",
    "for name in text_top_add :\n",
    "    name2='x_avg_mi_'+name\n",
    "    train_feat2[name2]=train_feat2[name] / train_feat2.avg_online_minutes\n",
    "    text_top_add2.append(name2)"
   ]
  },
  {
   "cell_type": "code",
   "execution_count": null,
   "metadata": {
    "ExecuteTime": {
     "end_time": "2018-07-03T02:49:41.334730Z",
     "start_time": "2018-07-03T02:48:55.543Z"
    }
   },
   "outputs": [],
   "source": [
    "train_feat2.shape"
   ]
  },
  {
   "cell_type": "code",
   "execution_count": null,
   "metadata": {
    "ExecuteTime": {
     "end_time": "2018-07-03T02:49:41.335730Z",
     "start_time": "2018-07-03T02:48:55.546Z"
    }
   },
   "outputs": [],
   "source": [
    "# test_feat2.shape"
   ]
  },
  {
   "cell_type": "code",
   "execution_count": null,
   "metadata": {
    "ExecuteTime": {
     "end_time": "2018-07-03T02:49:41.336730Z",
     "start_time": "2018-07-03T02:48:55.548Z"
    }
   },
   "outputs": [],
   "source": [
    "label_train=train_feat2['prediction_pay_price']"
   ]
  },
  {
   "cell_type": "code",
   "execution_count": null,
   "metadata": {
    "ExecuteTime": {
     "end_time": "2018-07-03T02:49:41.338730Z",
     "start_time": "2018-07-03T02:48:55.550Z"
    }
   },
   "outputs": [],
   "source": [
    "#train_feat2=\n",
    "train_feat2.drop(labels=['prediction_pay_price','register_time'],axis=1,inplace=True)\n",
    "#train_feat2_array=train_feat2.values\n",
    "#test_feat2=test_feat2.drop(labels=['register_time'],axis=1)\n",
    "\n",
    "#label_test=test_feat.user_id\n"
   ]
  },
  {
   "cell_type": "code",
   "execution_count": null,
   "metadata": {
    "ExecuteTime": {
     "end_time": "2018-07-03T02:49:41.339730Z",
     "start_time": "2018-07-03T02:48:55.553Z"
    }
   },
   "outputs": [],
   "source": [
    "from sklearn.cross_validation import train_test_split\n",
    "from sklearn.metrics import mean_squared_error"
   ]
  },
  {
   "cell_type": "code",
   "execution_count": null,
   "metadata": {
    "ExecuteTime": {
     "end_time": "2018-07-03T02:49:41.340730Z",
     "start_time": "2018-07-03T02:48:55.555Z"
    }
   },
   "outputs": [],
   "source": [
    "#train_feat2=\n",
    "train_feat2.fillna(0,inplace=True)"
   ]
  },
  {
   "cell_type": "code",
   "execution_count": null,
   "metadata": {
    "ExecuteTime": {
     "end_time": "2018-07-03T02:49:41.340730Z",
     "start_time": "2018-07-03T02:48:55.557Z"
    }
   },
   "outputs": [],
   "source": [
    "X_train,X_test,y_train,y_test=train_test_split(train_feat2,label_train,test_size=0.3)#,random_state=13)"
   ]
  },
  {
   "cell_type": "code",
   "execution_count": null,
   "metadata": {
    "ExecuteTime": {
     "end_time": "2018-07-03T02:49:41.341730Z",
     "start_time": "2018-07-03T02:48:55.560Z"
    }
   },
   "outputs": [],
   "source": [
    "#del train_feat\n",
    "del df_train"
   ]
  },
  {
   "cell_type": "code",
   "execution_count": null,
   "metadata": {
    "ExecuteTime": {
     "end_time": "2018-07-03T02:49:41.342730Z",
     "start_time": "2018-07-03T02:48:55.562Z"
    }
   },
   "outputs": [],
   "source": [
    "#label_test[:]=0"
   ]
  },
  {
   "cell_type": "code",
   "execution_count": null,
   "metadata": {
    "ExecuteTime": {
     "end_time": "2018-07-03T02:49:41.343730Z",
     "start_time": "2018-07-03T02:48:55.565Z"
    }
   },
   "outputs": [],
   "source": [
    "params={\n",
    "    'boosting_type':'gbdt',\n",
    "    'objective':'mse',\n",
    "    'metric':'rmse',\n",
    "    'min_child_weigth':3,\n",
    "    'num_leaves':2**5,\n",
    "    'lambda_l2':10,\n",
    "    'subsample':0.7,\n",
    "    'colsample_bytree':0.7,\n",
    "    'colsample_bylevel':0.7,\n",
    "    'learning_rate':0.05,\n",
    "    'tree_method':'exact',\n",
    "    'seed':2017,\n",
    "    'nthread':4,\n",
    "    'silent':True\n",
    "}"
   ]
  },
  {
   "cell_type": "code",
   "execution_count": null,
   "metadata": {
    "ExecuteTime": {
     "end_time": "2018-07-03T02:49:41.344731Z",
     "start_time": "2018-07-03T02:48:55.567Z"
    }
   },
   "outputs": [],
   "source": [
    "import time\n",
    "import lightgbm as lgb"
   ]
  },
  {
   "cell_type": "code",
   "execution_count": null,
   "metadata": {
    "ExecuteTime": {
     "end_time": "2018-07-03T02:49:41.345731Z",
     "start_time": "2018-07-03T02:48:55.569Z"
    }
   },
   "outputs": [],
   "source": [
    "train=lgb.Dataset(X_train,y_train)\n",
    "test=lgb.Dataset(X_test,label=y_test,reference=train)"
   ]
  },
  {
   "cell_type": "code",
   "execution_count": null,
   "metadata": {
    "ExecuteTime": {
     "end_time": "2018-07-03T02:49:41.346731Z",
     "start_time": "2018-07-03T02:48:55.571Z"
    }
   },
   "outputs": [],
   "source": [
    "# import gc\n",
    "# #del train_feat,test_feat\n",
    "# gc.collect()"
   ]
  },
  {
   "cell_type": "code",
   "execution_count": null,
   "metadata": {
    "ExecuteTime": {
     "end_time": "2018-07-03T02:49:41.347731Z",
     "start_time": "2018-07-03T02:48:55.574Z"
    }
   },
   "outputs": [],
   "source": [
    "# import sys\n",
    "# import platform\n",
    "# platform.architecture()"
   ]
  },
  {
   "cell_type": "code",
   "execution_count": 90,
   "metadata": {
    "ExecuteTime": {
     "end_time": "2018-07-03T02:49:41.239725Z",
     "start_time": "2018-07-03T02:49:39.120603Z"
    }
   },
   "outputs": [
    {
     "ename": "MemoryError",
     "evalue": "",
     "output_type": "error",
     "traceback": [
      "\u001b[1;31m---------------------------------------------------------------------------\u001b[0m",
      "\u001b[1;31mMemoryError\u001b[0m                               Traceback (most recent call last)",
      "\u001b[1;32m<ipython-input-90-86c19d693a98>\u001b[0m in \u001b[0;36m<module>\u001b[1;34m()\u001b[0m\n\u001b[0;32m      4\u001b[0m              \u001b[0mnum_boost_round\u001b[0m\u001b[1;33m=\u001b[0m\u001b[0mn\u001b[0m\u001b[1;33m,\u001b[0m\u001b[1;33m\u001b[0m\u001b[0m\n\u001b[0;32m      5\u001b[0m              \u001b[0mverbose_eval\u001b[0m\u001b[1;33m=\u001b[0m\u001b[1;36m50\u001b[0m\u001b[1;33m,\u001b[0m\u001b[1;33m\u001b[0m\u001b[0m\n\u001b[1;32m----> 6\u001b[1;33m              valid_sets=[train,test])\n\u001b[0m\u001b[0;32m      7\u001b[0m \u001b[1;33m\u001b[0m\u001b[0m\n\u001b[0;32m      8\u001b[0m \u001b[1;31m#training's rmse: 9.04946       valid_1's rmse: 60.9889\u001b[0m\u001b[1;33m\u001b[0m\u001b[1;33m\u001b[0m\u001b[0m\n",
      "\u001b[1;32mD:\\ProgramData\\Anaconda3\\lib\\site-packages\\lightgbm\\engine.py\u001b[0m in \u001b[0;36mtrain\u001b[1;34m(params, train_set, num_boost_round, valid_sets, valid_names, fobj, feval, init_model, feature_name, categorical_feature, early_stopping_rounds, evals_result, verbose_eval, learning_rates, keep_training_booster, callbacks)\u001b[0m\n\u001b[0;32m    178\u001b[0m     \u001b[1;31m# construct booster\u001b[0m\u001b[1;33m\u001b[0m\u001b[1;33m\u001b[0m\u001b[0m\n\u001b[0;32m    179\u001b[0m     \u001b[1;32mtry\u001b[0m\u001b[1;33m:\u001b[0m\u001b[1;33m\u001b[0m\u001b[0m\n\u001b[1;32m--> 180\u001b[1;33m         \u001b[0mbooster\u001b[0m \u001b[1;33m=\u001b[0m \u001b[0mBooster\u001b[0m\u001b[1;33m(\u001b[0m\u001b[0mparams\u001b[0m\u001b[1;33m=\u001b[0m\u001b[0mparams\u001b[0m\u001b[1;33m,\u001b[0m \u001b[0mtrain_set\u001b[0m\u001b[1;33m=\u001b[0m\u001b[0mtrain_set\u001b[0m\u001b[1;33m)\u001b[0m\u001b[1;33m\u001b[0m\u001b[0m\n\u001b[0m\u001b[0;32m    181\u001b[0m         \u001b[1;32mif\u001b[0m \u001b[0mis_valid_contain_train\u001b[0m\u001b[1;33m:\u001b[0m\u001b[1;33m\u001b[0m\u001b[0m\n\u001b[0;32m    182\u001b[0m             \u001b[0mbooster\u001b[0m\u001b[1;33m.\u001b[0m\u001b[0mset_train_data_name\u001b[0m\u001b[1;33m(\u001b[0m\u001b[0mtrain_data_name\u001b[0m\u001b[1;33m)\u001b[0m\u001b[1;33m\u001b[0m\u001b[0m\n",
      "\u001b[1;32mD:\\ProgramData\\Anaconda3\\lib\\site-packages\\lightgbm\\basic.py\u001b[0m in \u001b[0;36m__init__\u001b[1;34m(self, params, train_set, model_file, silent)\u001b[0m\n\u001b[0;32m   1300\u001b[0m             \u001b[0mself\u001b[0m\u001b[1;33m.\u001b[0m\u001b[0mhandle\u001b[0m \u001b[1;33m=\u001b[0m \u001b[0mctypes\u001b[0m\u001b[1;33m.\u001b[0m\u001b[0mc_void_p\u001b[0m\u001b[1;33m(\u001b[0m\u001b[1;33m)\u001b[0m\u001b[1;33m\u001b[0m\u001b[0m\n\u001b[0;32m   1301\u001b[0m             _safe_call(_LIB.LGBM_BoosterCreate(\n\u001b[1;32m-> 1302\u001b[1;33m                 \u001b[0mtrain_set\u001b[0m\u001b[1;33m.\u001b[0m\u001b[0mconstruct\u001b[0m\u001b[1;33m(\u001b[0m\u001b[1;33m)\u001b[0m\u001b[1;33m.\u001b[0m\u001b[0mhandle\u001b[0m\u001b[1;33m,\u001b[0m\u001b[1;33m\u001b[0m\u001b[0m\n\u001b[0m\u001b[0;32m   1303\u001b[0m                 \u001b[0mc_str\u001b[0m\u001b[1;33m(\u001b[0m\u001b[0mparams_str\u001b[0m\u001b[1;33m)\u001b[0m\u001b[1;33m,\u001b[0m\u001b[1;33m\u001b[0m\u001b[0m\n\u001b[0;32m   1304\u001b[0m                 ctypes.byref(self.handle)))\n",
      "\u001b[1;32mD:\\ProgramData\\Anaconda3\\lib\\site-packages\\lightgbm\\basic.py\u001b[0m in \u001b[0;36mconstruct\u001b[1;34m(self)\u001b[0m\n\u001b[0;32m    854\u001b[0m                                 \u001b[0mweight\u001b[0m\u001b[1;33m=\u001b[0m\u001b[0mself\u001b[0m\u001b[1;33m.\u001b[0m\u001b[0mweight\u001b[0m\u001b[1;33m,\u001b[0m \u001b[0mgroup\u001b[0m\u001b[1;33m=\u001b[0m\u001b[0mself\u001b[0m\u001b[1;33m.\u001b[0m\u001b[0mgroup\u001b[0m\u001b[1;33m,\u001b[0m \u001b[0minit_score\u001b[0m\u001b[1;33m=\u001b[0m\u001b[0mself\u001b[0m\u001b[1;33m.\u001b[0m\u001b[0minit_score\u001b[0m\u001b[1;33m,\u001b[0m\u001b[1;33m\u001b[0m\u001b[0m\n\u001b[0;32m    855\u001b[0m                                 \u001b[0mpredictor\u001b[0m\u001b[1;33m=\u001b[0m\u001b[0mself\u001b[0m\u001b[1;33m.\u001b[0m\u001b[0m_predictor\u001b[0m\u001b[1;33m,\u001b[0m \u001b[0msilent\u001b[0m\u001b[1;33m=\u001b[0m\u001b[0mself\u001b[0m\u001b[1;33m.\u001b[0m\u001b[0msilent\u001b[0m\u001b[1;33m,\u001b[0m \u001b[0mfeature_name\u001b[0m\u001b[1;33m=\u001b[0m\u001b[0mself\u001b[0m\u001b[1;33m.\u001b[0m\u001b[0mfeature_name\u001b[0m\u001b[1;33m,\u001b[0m\u001b[1;33m\u001b[0m\u001b[0m\n\u001b[1;32m--> 856\u001b[1;33m                                 categorical_feature=self.categorical_feature, params=self.params)\n\u001b[0m\u001b[0;32m    857\u001b[0m             \u001b[1;32mif\u001b[0m \u001b[0mself\u001b[0m\u001b[1;33m.\u001b[0m\u001b[0mfree_raw_data\u001b[0m\u001b[1;33m:\u001b[0m\u001b[1;33m\u001b[0m\u001b[0m\n\u001b[0;32m    858\u001b[0m                 \u001b[0mself\u001b[0m\u001b[1;33m.\u001b[0m\u001b[0mdata\u001b[0m \u001b[1;33m=\u001b[0m \u001b[1;32mNone\u001b[0m\u001b[1;33m\u001b[0m\u001b[0m\n",
      "\u001b[1;32mD:\\ProgramData\\Anaconda3\\lib\\site-packages\\lightgbm\\basic.py\u001b[0m in \u001b[0;36m_lazy_init\u001b[1;34m(self, data, label, reference, weight, group, init_score, predictor, silent, feature_name, categorical_feature, params)\u001b[0m\n\u001b[0;32m    646\u001b[0m             \u001b[0mself\u001b[0m\u001b[1;33m.\u001b[0m\u001b[0mpandas_categorical\u001b[0m \u001b[1;33m=\u001b[0m \u001b[0mreference\u001b[0m\u001b[1;33m.\u001b[0m\u001b[0mpandas_categorical\u001b[0m\u001b[1;33m\u001b[0m\u001b[0m\n\u001b[0;32m    647\u001b[0m             \u001b[0mcategorical_feature\u001b[0m \u001b[1;33m=\u001b[0m \u001b[0mreference\u001b[0m\u001b[1;33m.\u001b[0m\u001b[0mcategorical_feature\u001b[0m\u001b[1;33m\u001b[0m\u001b[0m\n\u001b[1;32m--> 648\u001b[1;33m         \u001b[0mdata\u001b[0m\u001b[1;33m,\u001b[0m \u001b[0mfeature_name\u001b[0m\u001b[1;33m,\u001b[0m \u001b[0mcategorical_feature\u001b[0m\u001b[1;33m,\u001b[0m \u001b[0mself\u001b[0m\u001b[1;33m.\u001b[0m\u001b[0mpandas_categorical\u001b[0m \u001b[1;33m=\u001b[0m \u001b[0m_data_from_pandas\u001b[0m\u001b[1;33m(\u001b[0m\u001b[0mdata\u001b[0m\u001b[1;33m,\u001b[0m \u001b[0mfeature_name\u001b[0m\u001b[1;33m,\u001b[0m \u001b[0mcategorical_feature\u001b[0m\u001b[1;33m,\u001b[0m \u001b[0mself\u001b[0m\u001b[1;33m.\u001b[0m\u001b[0mpandas_categorical\u001b[0m\u001b[1;33m)\u001b[0m\u001b[1;33m\u001b[0m\u001b[0m\n\u001b[0m\u001b[0;32m    649\u001b[0m         \u001b[0mlabel\u001b[0m \u001b[1;33m=\u001b[0m \u001b[0m_label_from_pandas\u001b[0m\u001b[1;33m(\u001b[0m\u001b[0mlabel\u001b[0m\u001b[1;33m)\u001b[0m\u001b[1;33m\u001b[0m\u001b[0m\n\u001b[0;32m    650\u001b[0m         \u001b[0mself\u001b[0m\u001b[1;33m.\u001b[0m\u001b[0mdata_has_header\u001b[0m \u001b[1;33m=\u001b[0m \u001b[1;32mFalse\u001b[0m\u001b[1;33m\u001b[0m\u001b[0m\n",
      "\u001b[1;32mD:\\ProgramData\\Anaconda3\\lib\\site-packages\\lightgbm\\basic.py\u001b[0m in \u001b[0;36m_data_from_pandas\u001b[1;34m(data, feature_name, categorical_feature, pandas_categorical)\u001b[0m\n\u001b[0;32m    269\u001b[0m             \u001b[0mmsg\u001b[0m \u001b[1;33m=\u001b[0m \u001b[1;34m\"\"\"DataFrame.dtypes for data must be int, float or bool. Did not expect the data types in fields \"\"\"\u001b[0m\u001b[1;33m\u001b[0m\u001b[0m\n\u001b[0;32m    270\u001b[0m             \u001b[1;32mraise\u001b[0m \u001b[0mValueError\u001b[0m\u001b[1;33m(\u001b[0m\u001b[0mmsg\u001b[0m \u001b[1;33m+\u001b[0m \u001b[1;34m', '\u001b[0m\u001b[1;33m.\u001b[0m\u001b[0mjoin\u001b[0m\u001b[1;33m(\u001b[0m\u001b[0mbad_fields\u001b[0m\u001b[1;33m)\u001b[0m\u001b[1;33m)\u001b[0m\u001b[1;33m\u001b[0m\u001b[0m\n\u001b[1;32m--> 271\u001b[1;33m         \u001b[0mdata\u001b[0m \u001b[1;33m=\u001b[0m \u001b[0mdata\u001b[0m\u001b[1;33m.\u001b[0m\u001b[0mvalues\u001b[0m\u001b[1;33m.\u001b[0m\u001b[0mastype\u001b[0m\u001b[1;33m(\u001b[0m\u001b[1;34m'float'\u001b[0m\u001b[1;33m)\u001b[0m\u001b[1;33m\u001b[0m\u001b[0m\n\u001b[0m\u001b[0;32m    272\u001b[0m     \u001b[1;32melse\u001b[0m\u001b[1;33m:\u001b[0m\u001b[1;33m\u001b[0m\u001b[0m\n\u001b[0;32m    273\u001b[0m         \u001b[1;32mif\u001b[0m \u001b[0mfeature_name\u001b[0m \u001b[1;33m==\u001b[0m \u001b[1;34m'auto'\u001b[0m\u001b[1;33m:\u001b[0m\u001b[1;33m\u001b[0m\u001b[0m\n",
      "\u001b[1;31mMemoryError\u001b[0m: "
     ]
    }
   ],
   "source": [
    "n=3000\n",
    "gbm=lgb.train(params=params,\n",
    "             train_set=train,\n",
    "             num_boost_round=n,\n",
    "             verbose_eval=50,\n",
    "             valid_sets=[train,test])\n",
    "\n",
    "#training's rmse: 9.04946\tvalid_1's rmse: 60.9889\n",
    "# no random_state\n",
    "#[3000]\ttraining's rmse: 9.5873\tvalid_1's rmse: 61.0102"
   ]
  },
  {
   "cell_type": "code",
   "execution_count": null,
   "metadata": {
    "ExecuteTime": {
     "end_time": "2018-07-03T02:49:41.239725Z",
     "start_time": "2018-07-03T02:48:46.155Z"
    }
   },
   "outputs": [],
   "source": [
    "X_train2,X_test2,y_train2,y_test2=train_test_split(train_feat2,label_train,test_size=0.362,random_state=17)"
   ]
  },
  {
   "cell_type": "code",
   "execution_count": null,
   "metadata": {
    "ExecuteTime": {
     "end_time": "2018-07-03T02:49:41.240725Z",
     "start_time": "2018-07-03T02:48:46.157Z"
    }
   },
   "outputs": [],
   "source": [
    "data_test.shape[0]/data_train.shape[0]"
   ]
  },
  {
   "cell_type": "code",
   "execution_count": null,
   "metadata": {
    "ExecuteTime": {
     "end_time": "2018-07-03T02:49:41.242725Z",
     "start_time": "2018-07-03T02:48:46.159Z"
    }
   },
   "outputs": [],
   "source": [
    "data_test.shape"
   ]
  },
  {
   "cell_type": "code",
   "execution_count": null,
   "metadata": {
    "ExecuteTime": {
     "end_time": "2018-07-03T02:49:41.242725Z",
     "start_time": "2018-07-03T02:48:46.161Z"
    }
   },
   "outputs": [],
   "source": [
    "x_test2_pred=gbm.predict(X_test2)"
   ]
  },
  {
   "cell_type": "code",
   "execution_count": null,
   "metadata": {
    "ExecuteTime": {
     "end_time": "2018-07-03T02:49:41.243725Z",
     "start_time": "2018-07-03T02:48:46.164Z"
    }
   },
   "outputs": [],
   "source": [
    "np.sqrt(mean_squared_error(y_test2,x_test2_pred))"
   ]
  },
  {
   "cell_type": "code",
   "execution_count": null,
   "metadata": {
    "ExecuteTime": {
     "end_time": "2018-07-03T02:49:41.244725Z",
     "start_time": "2018-07-03T02:48:46.165Z"
    }
   },
   "outputs": [],
   "source": [
    "train_feat2.shape"
   ]
  },
  {
   "cell_type": "code",
   "execution_count": null,
   "metadata": {},
   "outputs": [],
   "source": []
  },
  {
   "cell_type": "code",
   "execution_count": null,
   "metadata": {},
   "outputs": [],
   "source": []
  },
  {
   "cell_type": "code",
   "execution_count": null,
   "metadata": {},
   "outputs": [],
   "source": []
  }
 ],
 "metadata": {
  "kernelspec": {
   "display_name": "Python 3",
   "language": "python",
   "name": "python3"
  },
  "language_info": {
   "codemirror_mode": {
    "name": "ipython",
    "version": 3
   },
   "file_extension": ".py",
   "mimetype": "text/x-python",
   "name": "python",
   "nbconvert_exporter": "python",
   "pygments_lexer": "ipython3",
   "version": "3.6.3"
  }
 },
 "nbformat": 4,
 "nbformat_minor": 2
}
