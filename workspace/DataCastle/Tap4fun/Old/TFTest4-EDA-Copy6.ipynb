{
 "cells": [
  {
   "cell_type": "code",
   "execution_count": null,
   "metadata": {
    "ExecuteTime": {
     "end_time": "2018-09-12T08:58:35.728526Z",
     "start_time": "2018-09-12T08:58:34.420452Z"
    }
   },
   "outputs": [],
   "source": [
    "import numpy as np\n",
    "import pandas as pd"
   ]
  },
  {
   "cell_type": "code",
   "execution_count": null,
   "metadata": {
    "ExecuteTime": {
     "end_time": "2018-09-12T08:59:06.262273Z",
     "start_time": "2018-09-12T08:58:35.729526Z"
    }
   },
   "outputs": [],
   "source": [
    "df_train=pd.read_csv('F:\\\\study\\\\ml\\\\DataSet\\\\Tap4fun\\\\tap_fun_train.csv')"
   ]
  },
  {
   "cell_type": "code",
   "execution_count": null,
   "metadata": {
    "ExecuteTime": {
     "end_time": "2018-09-12T08:59:06.466284Z",
     "start_time": "2018-09-12T08:59:06.264273Z"
    }
   },
   "outputs": [],
   "source": [
    "df_train.info(memory_usage='deep')"
   ]
  },
  {
   "cell_type": "code",
   "execution_count": null,
   "metadata": {
    "ExecuteTime": {
     "end_time": "2018-09-12T08:59:18.882995Z",
     "start_time": "2018-09-12T08:59:06.468285Z"
    }
   },
   "outputs": [],
   "source": [
    "c_int=df_train.select_dtypes(include=['int64']).apply(pd.to_numeric,downcast='unsigned')\n",
    "c_float=df_train.select_dtypes(include=['float']).apply(pd.to_numeric,downcast='float')\n"
   ]
  },
  {
   "cell_type": "code",
   "execution_count": null,
   "metadata": {
    "ExecuteTime": {
     "end_time": "2018-09-12T08:59:19.204013Z",
     "start_time": "2018-09-12T08:59:18.884995Z"
    }
   },
   "outputs": [],
   "source": [
    "o_df=pd.concat([c_int,c_float],axis=1)"
   ]
  },
  {
   "cell_type": "code",
   "execution_count": null,
   "metadata": {
    "ExecuteTime": {
     "end_time": "2018-09-12T08:59:19.210013Z",
     "start_time": "2018-09-12T08:59:19.205013Z"
    }
   },
   "outputs": [],
   "source": [
    "column_type=dict(o_df.dtypes.copy())"
   ]
  },
  {
   "cell_type": "code",
   "execution_count": null,
   "metadata": {
    "ExecuteTime": {
     "end_time": "2018-09-12T08:59:19.304019Z",
     "start_time": "2018-09-12T08:59:19.211013Z"
    }
   },
   "outputs": [],
   "source": [
    "len(column_type)"
   ]
  },
  {
   "cell_type": "code",
   "execution_count": null,
   "metadata": {
    "ExecuteTime": {
     "end_time": "2018-09-12T08:59:19.721043Z",
     "start_time": "2018-09-12T08:59:19.305019Z"
    }
   },
   "outputs": [],
   "source": [
    "del o_df,c_int,c_float,df_train"
   ]
  },
  {
   "cell_type": "code",
   "execution_count": null,
   "metadata": {},
   "outputs": [],
   "source": []
  },
  {
   "cell_type": "code",
   "execution_count": null,
   "metadata": {
    "ExecuteTime": {
     "end_time": "2018-09-12T08:59:40.796248Z",
     "start_time": "2018-09-12T08:59:19.723043Z"
    }
   },
   "outputs": [],
   "source": [
    "data_train=pd.read_csv('F:\\\\study\\\\ml\\\\DataSet\\\\Tap4fun\\\\tap_fun_train.csv',\n",
    "                      dtype=column_type,parse_dates=['register_time'],infer_datetime_format=True)"
   ]
  },
  {
   "cell_type": "code",
   "execution_count": null,
   "metadata": {
    "ExecuteTime": {
     "end_time": "2018-09-12T08:59:41.023261Z",
     "start_time": "2018-09-12T08:59:40.798248Z"
    }
   },
   "outputs": [],
   "source": [
    "data_train.rename(columns={'treatment_acceleraion_add_value':'treatment_acceleration_add_value',\\\n",
    "                          'sr_rss_a_prod_levell':'sr_rss_a_prod_level'} ,inplace=True)"
   ]
  },
  {
   "cell_type": "code",
   "execution_count": null,
   "metadata": {
    "ExecuteTime": {
     "end_time": "2018-09-12T08:59:41.051263Z",
     "start_time": "2018-09-12T08:59:41.025261Z"
    }
   },
   "outputs": [],
   "source": [
    "data_train.head()"
   ]
  },
  {
   "cell_type": "code",
   "execution_count": null,
   "metadata": {
    "ExecuteTime": {
     "end_time": "2018-09-12T08:59:41.133267Z",
     "start_time": "2018-09-12T08:59:41.052263Z"
    }
   },
   "outputs": [],
   "source": [
    "data_train.info(memory_usage='deep')"
   ]
  },
  {
   "cell_type": "code",
   "execution_count": null,
   "metadata": {
    "ExecuteTime": {
     "end_time": "2018-09-12T08:59:41.758303Z",
     "start_time": "2018-09-12T08:59:41.134267Z"
    }
   },
   "outputs": [],
   "source": [
    "# data_label=data_train['prediction_pay_price']\n",
    "data_train2=data_train.drop(labels=['user_id','register_time'],axis=1)"
   ]
  },
  {
   "cell_type": "code",
   "execution_count": null,
   "metadata": {
    "ExecuteTime": {
     "end_time": "2018-09-12T08:59:41.814306Z",
     "start_time": "2018-09-12T08:59:41.760303Z"
    }
   },
   "outputs": [],
   "source": [
    "data_7pay=data_train2[data_train2['pay_price']>0].copy()\n"
   ]
  },
  {
   "cell_type": "code",
   "execution_count": null,
   "metadata": {
    "ExecuteTime": {
     "end_time": "2018-09-12T08:59:41.869309Z",
     "start_time": "2018-09-12T08:59:41.815306Z"
    }
   },
   "outputs": [],
   "source": [
    "data_7pay.head()"
   ]
  },
  {
   "cell_type": "code",
   "execution_count": null,
   "metadata": {
    "ExecuteTime": {
     "end_time": "2018-09-12T08:59:41.977316Z",
     "start_time": "2018-09-12T08:59:41.870309Z"
    }
   },
   "outputs": [],
   "source": [
    "# y=data_7pay.prediction_pay_price\n",
    "# X=data_7pay.drop(labels='prediction_pay_price',axis=1)\n",
    "\n",
    "# from sklearn.model_selection import cross_val_score,KFold\n",
    "# from sklearn.linear_model import LinearRegression,RidgeCV,LassoCV,ElasticNetCV\n",
    "# from sklearn.preprocessing import RobustScaler\n",
    "# from sklearn.pipeline import make_pipeline\n",
    "\n",
    "# kfolds=KFold(n_splits=10,shuffle=True,random_state=13)\n",
    "\n",
    "# def cv_rmse(model):\n",
    "#     rmse=np.sqrt(-cross_val_score(model,X,y,scoring='neg_mean_squared_error',cv=kfolds))\n",
    "#     return rmse\n",
    "\n",
    "# lm = LinearRegression()\n",
    "\n",
    "# benchmark_model=make_pipeline(RobustScaler(),\n",
    "#                              lm).fit(X,y)\n",
    "\n",
    "# cv_rmse(benchmark_model).mean()"
   ]
  },
  {
   "cell_type": "code",
   "execution_count": null,
   "metadata": {},
   "outputs": [],
   "source": []
  },
  {
   "cell_type": "code",
   "execution_count": null,
   "metadata": {},
   "outputs": [],
   "source": []
  },
  {
   "cell_type": "code",
   "execution_count": null,
   "metadata": {},
   "outputs": [],
   "source": []
  },
  {
   "cell_type": "code",
   "execution_count": null,
   "metadata": {
    "ExecuteTime": {
     "end_time": "2018-09-12T08:59:42.155326Z",
     "start_time": "2018-09-12T08:59:41.978316Z"
    },
    "scrolled": true
   },
   "outputs": [],
   "source": [
    "for name in data_7pay.columns.values:\n",
    "    if 'add_value' in name:\n",
    "        print(name+'-->'+name[:len(name)-10])\n",
    "print('------------------')        \n",
    "for name in data_7pay.columns.values:\n",
    "    if 'reduce_value' in name:\n",
    "        print(name+'-->'+name[:len(name)-10])"
   ]
  },
  {
   "cell_type": "code",
   "execution_count": null,
   "metadata": {
    "ExecuteTime": {
     "end_time": "2018-09-12T08:59:42.482344Z",
     "start_time": "2018-09-12T08:59:42.156326Z"
    }
   },
   "outputs": [],
   "source": [
    "sum_delta_text=[]\n",
    "sum_delta_text=['wood','stone']\n",
    "for name in data_7pay.columns.values:\n",
    "    if 'add_value' in name:\n",
    "        sum_delta_text.append(name[:len(name)-10])\n",
    "        \n",
    "for i in sum_delta_text:\n",
    "#     print(i+'_add_value  <--> '+i+'_reduce_value')\n",
    "    add_name=i+'_add_value'\n",
    "    reduce_name=i+'_reduce_value'\n",
    "    sum_name=i+'_sum_qua1'\n",
    "    delta_name=i+'_delta_qua2'\n",
    "    print(add_name+' -- '+reduce_name)\n",
    "#     print(reduce_name)\n",
    "#     print(sum_name)\n",
    "#     print(delta_name)\n",
    "    data_7pay[sum_name]=data_7pay[add_name]+data_7pay[reduce_name]\n",
    "    data_7pay[delta_name]=data_7pay[add_name]-data_7pay[reduce_name]\n",
    "#     for k in range(3):\n",
    "#         print('------------------{}--------------'.format(k))\n",
    "#         print(data_7pay[add_name].iloc[k])\n",
    "#         print(data_7pay[reduce_name].iloc[k])\n",
    "#         print(data_7pay[add_name].iloc[k]-data_7pay[reduce_name].iloc[k])"
   ]
  },
  {
   "cell_type": "code",
   "execution_count": null,
   "metadata": {
    "ExecuteTime": {
     "end_time": "2018-09-12T08:59:42.502346Z",
     "start_time": "2018-09-12T08:59:42.483344Z"
    }
   },
   "outputs": [],
   "source": [
    "data_7pay.head()"
   ]
  },
  {
   "cell_type": "code",
   "execution_count": null,
   "metadata": {
    "ExecuteTime": {
     "end_time": "2018-09-12T08:59:42.635353Z",
     "start_time": "2018-09-12T08:59:42.504346Z"
    }
   },
   "outputs": [],
   "source": [
    "data_7pay.head()"
   ]
  },
  {
   "cell_type": "code",
   "execution_count": null,
   "metadata": {
    "ExecuteTime": {
     "end_time": "2018-09-12T08:59:42.738359Z",
     "start_time": "2018-09-12T08:59:42.636353Z"
    }
   },
   "outputs": [],
   "source": [
    "data_7pay['wood_sum_qua1'].head()"
   ]
  },
  {
   "cell_type": "code",
   "execution_count": null,
   "metadata": {
    "ExecuteTime": {
     "end_time": "2018-09-12T08:59:42.862366Z",
     "start_time": "2018-09-12T08:59:42.739359Z"
    }
   },
   "outputs": [],
   "source": [
    "data_7pay['wood_delta_qua2'].head()"
   ]
  },
  {
   "cell_type": "code",
   "execution_count": null,
   "metadata": {
    "ExecuteTime": {
     "end_time": "2018-09-12T08:59:43.094379Z",
     "start_time": "2018-09-12T08:59:42.863366Z"
    }
   },
   "outputs": [],
   "source": [
    "data_7pay.isna().sum().sum()"
   ]
  },
  {
   "cell_type": "code",
   "execution_count": null,
   "metadata": {
    "ExecuteTime": {
     "end_time": "2018-09-12T08:59:43.099380Z",
     "start_time": "2018-09-12T08:59:43.095379Z"
    }
   },
   "outputs": [],
   "source": [
    "abs(-123.2)"
   ]
  },
  {
   "cell_type": "code",
   "execution_count": null,
   "metadata": {
    "ExecuteTime": {
     "end_time": "2018-09-12T08:59:43.234387Z",
     "start_time": "2018-09-12T08:59:43.100380Z"
    }
   },
   "outputs": [],
   "source": [
    "delta_text=[]\n",
    "for i in data_7pay.columns.values:\n",
    "    if 'delta' in i:\n",
    "        delta_text.append(i)\n",
    "delta_text2=[]        \n",
    "for k in delta_text:\n",
    "    delta_text2.append(k[:len(k)-5]+'_abs_qua2')\n",
    "print(delta_text2)    "
   ]
  },
  {
   "cell_type": "code",
   "execution_count": null,
   "metadata": {
    "ExecuteTime": {
     "end_time": "2018-09-12T08:59:43.342394Z",
     "start_time": "2018-09-12T08:59:43.236388Z"
    }
   },
   "outputs": [],
   "source": [
    "data_7pay[delta_text2]=abs(data_7pay[delta_text])"
   ]
  },
  {
   "cell_type": "code",
   "execution_count": null,
   "metadata": {
    "ExecuteTime": {
     "end_time": "2018-09-12T08:59:43.453400Z",
     "start_time": "2018-09-12T08:59:43.343394Z"
    }
   },
   "outputs": [],
   "source": [
    "data_7pay[delta_text].head()"
   ]
  },
  {
   "cell_type": "code",
   "execution_count": null,
   "metadata": {
    "ExecuteTime": {
     "end_time": "2018-09-12T08:59:43.568407Z",
     "start_time": "2018-09-12T08:59:43.455400Z"
    }
   },
   "outputs": [],
   "source": [
    "data_7pay[delta_text2].head()"
   ]
  },
  {
   "cell_type": "code",
   "execution_count": null,
   "metadata": {
    "ExecuteTime": {
     "end_time": "2018-09-12T08:59:43.694414Z",
     "start_time": "2018-09-12T08:59:43.569407Z"
    }
   },
   "outputs": [],
   "source": [
    "text_shaman=[]\n",
    "for col in data_7pay.columns.values:\n",
    "     if 'shaman' in col:\n",
    "            text_shaman.append(col)\n",
    "data_7pay[text_shaman]            "
   ]
  },
  {
   "cell_type": "code",
   "execution_count": null,
   "metadata": {
    "ExecuteTime": {
     "end_time": "2018-09-12T08:59:43.761418Z",
     "start_time": "2018-09-12T08:59:43.696414Z"
    }
   },
   "outputs": [],
   "source": [
    "import re"
   ]
  },
  {
   "cell_type": "code",
   "execution_count": null,
   "metadata": {
    "ExecuteTime": {
     "end_time": "2018-09-12T08:59:43.836422Z",
     "start_time": "2018-09-12T08:59:43.763418Z"
    }
   },
   "outputs": [],
   "source": [
    "re.findall(r'\\d','sr_outpost_tier_3_level')"
   ]
  },
  {
   "cell_type": "code",
   "execution_count": null,
   "metadata": {
    "ExecuteTime": {
     "end_time": "2018-09-12T08:59:43.946428Z",
     "start_time": "2018-09-12T08:59:43.837422Z"
    }
   },
   "outputs": [],
   "source": [
    "level1_text=[]\n",
    "level2_text=[]\n",
    "level3_text=[]\n",
    "level4_text=[]\n",
    "for i in data_7pay.columns.values:\n",
    "    if 'level' in i:\n",
    "        if re.findall(r'\\d',i)==['2']:\n",
    "            level2_text.append(i)\n",
    "        elif re.findall(r'\\d',i)==['3']:\n",
    "            level3_text.append(i)\n",
    "        elif re.findall(r'\\d',i)==['4']:\n",
    "            level4_text.append(i)\n",
    "        else :\n",
    "            level1_text.append(i)\n",
    "print('-------------1 ----------')            \n",
    "print(level1_text)\n",
    "print('-------------2----------')            \n",
    "print(level2_text)\n",
    "print('-------------3 ----------')            \n",
    "print(level3_text)\n",
    "print('-------------4 ----------')            \n",
    "print(level4_text)\n",
    "            \n",
    "            \n",
    "        "
   ]
  },
  {
   "cell_type": "code",
   "execution_count": null,
   "metadata": {
    "ExecuteTime": {
     "end_time": "2018-09-12T08:59:44.062435Z",
     "start_time": "2018-09-12T08:59:43.947428Z"
    }
   },
   "outputs": [],
   "source": [
    "data_7pay[level1_text].head(30)"
   ]
  },
  {
   "cell_type": "code",
   "execution_count": null,
   "metadata": {
    "ExecuteTime": {
     "end_time": "2018-09-12T08:59:44.135439Z",
     "start_time": "2018-09-12T08:59:44.063435Z"
    }
   },
   "outputs": [],
   "source": [
    "data_7pay[level2_text].head(30)"
   ]
  },
  {
   "cell_type": "code",
   "execution_count": null,
   "metadata": {
    "ExecuteTime": {
     "end_time": "2018-09-12T08:59:44.260446Z",
     "start_time": "2018-09-12T08:59:44.136439Z"
    }
   },
   "outputs": [],
   "source": [
    "data_7pay[level3_text].head(30)"
   ]
  },
  {
   "cell_type": "code",
   "execution_count": null,
   "metadata": {
    "ExecuteTime": {
     "end_time": "2018-09-12T08:59:44.377453Z",
     "start_time": "2018-09-12T08:59:44.261446Z"
    }
   },
   "outputs": [],
   "source": [
    "data_7pay[level4_text].head(30)"
   ]
  },
  {
   "cell_type": "code",
   "execution_count": null,
   "metadata": {
    "ExecuteTime": {
     "end_time": "2018-09-12T08:59:44.494460Z",
     "start_time": "2018-09-12T08:59:44.379453Z"
    }
   },
   "outputs": [],
   "source": [
    "for i in level1_text:\n",
    "    if 'shaman' in i:\n",
    "        print(i)"
   ]
  },
  {
   "cell_type": "code",
   "execution_count": null,
   "metadata": {
    "ExecuteTime": {
     "end_time": "2018-09-12T08:59:44.630467Z",
     "start_time": "2018-09-12T08:59:44.496460Z"
    }
   },
   "outputs": [],
   "source": [
    "troop_text1=[]\n",
    "for i in level1_text:\n",
    "    if 'troop' in i:\n",
    "        troop_text1.append(i)\n",
    "data_7pay['troop_con_load_atk_def_sum_qua1']=0\n",
    "for k in troop_text1:\n",
    "    data_7pay['troop_con_load_atk_def_sum_qua1']+=data_7pay[k]"
   ]
  },
  {
   "cell_type": "code",
   "execution_count": null,
   "metadata": {},
   "outputs": [],
   "source": []
  },
  {
   "cell_type": "code",
   "execution_count": null,
   "metadata": {
    "ExecuteTime": {
     "end_time": "2018-09-12T08:59:44.711472Z",
     "start_time": "2018-09-12T08:59:44.631467Z"
    }
   },
   "outputs": [],
   "source": [
    "infantry_text1=[]\n",
    "cavalry_text1=[]\n",
    "shaman_text1=[]\n",
    "outpost_text1=[]\n",
    "for i in level1_text:\n",
    "    if 'infantry' in i:\n",
    "        infantry_text1.append(i)\n",
    "    elif 'cavalry' in i:\n",
    "        cavalry_text1.append(i)\n",
    "    elif 'shaman' in i:\n",
    "        shaman_text1.append(i)\n",
    "    elif 'outpost' in i:\n",
    "        outpost_text1.append(i)\n",
    "        "
   ]
  },
  {
   "cell_type": "code",
   "execution_count": null,
   "metadata": {
    "ExecuteTime": {
     "end_time": "2018-09-12T08:59:44.819478Z",
     "start_time": "2018-09-12T08:59:44.713472Z"
    }
   },
   "outputs": [],
   "source": [
    "for i in shaman_text1:\n",
    "    print(i)"
   ]
  },
  {
   "cell_type": "code",
   "execution_count": null,
   "metadata": {
    "ExecuteTime": {
     "end_time": "2018-09-12T08:59:44.927484Z",
     "start_time": "2018-09-12T08:59:44.820478Z"
    }
   },
   "outputs": [],
   "source": [
    "data_7pay['infantry_hp_atk_def_sum_qua1']=0\n",
    "data_7pay['cavalry_hp_atk_def_sum_qua1']=0\n",
    "data_7pay['shaman_hp_atk_def_sum_qua1']=0\n",
    "data_7pay['outpost_hp_atk_def_sum_qua1']=0\n",
    "for i in infantry_text1:\n",
    "    name='infantry_hp_atk_def_sum_qua1'\n",
    "    data_7pay[name]+=data_7pay[i]\n",
    "for i in cavalry_text1:\n",
    "    name='cavalry_hp_atk_def_sum_qua1'\n",
    "    data_7pay[name]+=data_7pay[i]\n",
    "for i in shaman_text1:\n",
    "    name='shaman_hp_atk_def_sum_qua1'\n",
    "    data_7pay[name]+=data_7pay[i]    \n",
    "for i in outpost_text1:\n",
    "    name='outpost_hp_atk_def_sum_qua1'\n",
    "    data_7pay[name]+=data_7pay[i]    "
   ]
  },
  {
   "cell_type": "code",
   "execution_count": null,
   "metadata": {},
   "outputs": [],
   "source": []
  },
  {
   "cell_type": "code",
   "execution_count": null,
   "metadata": {
    "ExecuteTime": {
     "end_time": "2018-09-12T08:59:45.073493Z",
     "start_time": "2018-09-12T08:59:44.929484Z"
    }
   },
   "outputs": [],
   "source": [
    "data_7pay['infantry_tier_2_sum_qua2']=0\n",
    "data_7pay['cavalry_tier_2_sum_qua2']=0\n",
    "data_7pay['shaman_tier_2_sum_qua2']=0\n",
    "data_7pay['outpost_tier_2_sum_qua2']=0\n",
    "infantry_text2=[]\n",
    "cavalry_text2=[]\n",
    "shaman_text2=[]\n",
    "outpost_text2=[]\n",
    "for i in level2_text:\n",
    "    if 'infantry' in i:\n",
    "        infantry_text2.append(i)\n",
    "    elif 'cavalry' in i:\n",
    "        cavalry_text2.append(i)\n",
    "    elif 'shaman' in i:\n",
    "        shaman_text2.append(i)\n",
    "    elif 'outpost' in i:\n",
    "        outpost_text2.append(i)\n",
    "##############################################        \n",
    "for i in infantry_text2:\n",
    "    name='infantry_tier_2_sum_qua2'\n",
    "    data_7pay[name]+=data_7pay[i]\n",
    "for i in cavalry_text2:\n",
    "    name='cavalry_tier_2_sum_qua2'\n",
    "    data_7pay[name]+=data_7pay[i]\n",
    "for i in shaman_text2:\n",
    "    name='shaman_tier_2_sum_qua2'\n",
    "    data_7pay[name]+=data_7pay[i]    \n",
    "for i in outpost_text2:\n",
    "    name='outpost_tier_2_sum_qua2'\n",
    "    data_7pay[name]+=data_7pay[i] "
   ]
  },
  {
   "cell_type": "code",
   "execution_count": null,
   "metadata": {
    "ExecuteTime": {
     "end_time": "2018-09-12T08:59:45.174498Z",
     "start_time": "2018-09-12T08:59:45.074493Z"
    }
   },
   "outputs": [],
   "source": [
    "data_7pay['infantry_tier_3_sum_qua3']=0\n",
    "data_7pay['cavalry_tier_3_sum_qua3']=0\n",
    "data_7pay['shaman_tier_3_sum_qua3']=0\n",
    "data_7pay['outpost_tier_3_sum_qua3']=0\n",
    "infantry_text3=[]\n",
    "cavalry_text3=[]\n",
    "shaman_text3=[]\n",
    "outpost_text3=[]\n",
    "for i in level3_text:\n",
    "    if 'infantry' in i:\n",
    "        infantry_text3.append(i)\n",
    "    elif 'cavalry' in i:\n",
    "        cavalry_text3.append(i)\n",
    "    elif 'shaman' in i:\n",
    "        shaman_text3.append(i)\n",
    "    elif 'outpost' in i:\n",
    "        outpost_text3.append(i)\n",
    "##############################################        \n",
    "for i in infantry_text3:\n",
    "    name='infantry_tier_3_sum_qua3'\n",
    "    data_7pay[name]+=data_7pay[i]\n",
    "for i in cavalry_text3:\n",
    "    name='cavalry_tier_3_sum_qua3'\n",
    "    data_7pay[name]+=data_7pay[i]\n",
    "for i in shaman_text3:\n",
    "    name='shaman_tier_3_sum_qua3'\n",
    "    data_7pay[name]+=data_7pay[i]    \n",
    "for i in outpost_text3:\n",
    "    name='outpost_tier_3_sum_qua3'\n",
    "    data_7pay[name]+=data_7pay[i] "
   ]
  },
  {
   "cell_type": "code",
   "execution_count": null,
   "metadata": {
    "ExecuteTime": {
     "end_time": "2018-09-12T08:59:45.298505Z",
     "start_time": "2018-09-12T08:59:45.175498Z"
    }
   },
   "outputs": [],
   "source": [
    "data_7pay['infantry_tier_4_sum_qua4']=0\n",
    "data_7pay['cavalry_tier_4_sum_qua4']=0\n",
    "data_7pay['shaman_tier_4_sum_qua4']=0\n",
    "data_7pay['outpost_tier_4_sum_qua4']=0\n",
    "infantry_text4=[]\n",
    "cavalry_text4=[]\n",
    "shaman_text4=[]\n",
    "outpost_text4=[]\n",
    "for i in level4_text:\n",
    "    if 'infantry' in i:\n",
    "        infantry_text4.append(i)\n",
    "    elif 'cavalry' in i:\n",
    "        cavalry_text4.append(i)\n",
    "    elif 'shaman' in i:\n",
    "        shaman_text4.append(i)\n",
    "    elif 'outpost' in i:\n",
    "        outpost_text4.append(i)\n",
    "##############################################        \n",
    "for i in infantry_text4:\n",
    "    name='infantry_tier_4_sum_qua4'\n",
    "    data_7pay[name]+=data_7pay[i]\n",
    "for i in cavalry_text4:\n",
    "    name='cavalry_tier_4_sum_qua4'\n",
    "    data_7pay[name]+=data_7pay[i]\n",
    "for i in shaman_text4:\n",
    "    name='shaman_tier_4_sum_qua4'\n",
    "    data_7pay[name]+=data_7pay[i]    \n",
    "for i in outpost_text4:\n",
    "    name='outpost_tier_4_sum_qua4'\n",
    "    data_7pay[name]+=data_7pay[i] "
   ]
  },
  {
   "cell_type": "code",
   "execution_count": null,
   "metadata": {
    "ExecuteTime": {
     "end_time": "2018-09-12T08:59:45.387511Z",
     "start_time": "2018-09-12T08:59:45.299506Z"
    }
   },
   "outputs": [],
   "source": [
    "rss_test=[]\n",
    "for i in data_7pay.columns.values:\n",
    "    if 'rss' in i:\n",
    "        rss_test.append(i)\n",
    "        print(i[:9])"
   ]
  },
  {
   "cell_type": "code",
   "execution_count": null,
   "metadata": {
    "ExecuteTime": {
     "end_time": "2018-09-12T08:59:45.495517Z",
     "start_time": "2018-09-12T08:59:45.388511Z"
    }
   },
   "outputs": [],
   "source": [
    "for i in data_7pay.columns.values:\n",
    "    if 'sr_rss_c' in i:\n",
    "        print(i)"
   ]
  },
  {
   "cell_type": "code",
   "execution_count": null,
   "metadata": {
    "ExecuteTime": {
     "end_time": "2018-09-12T08:59:45.606523Z",
     "start_time": "2018-09-12T08:59:45.496517Z"
    }
   },
   "outputs": [],
   "source": [
    "for i in rss_test:\n",
    "    if 'prod' in i:\n",
    "        col_name=i[:9]+'sum_qua1'\n",
    "        prod_name=i[:9]+'prod_level'\n",
    "        gather_name=i[:9]+'gather_level'\n",
    "        data_7pay[col_name]=data_7pay[prod_name]+data_7pay[gather_name]"
   ]
  },
  {
   "cell_type": "code",
   "execution_count": null,
   "metadata": {
    "ExecuteTime": {
     "end_time": "2018-09-12T08:59:45.711529Z",
     "start_time": "2018-09-12T08:59:45.607523Z"
    }
   },
   "outputs": [],
   "source": [
    "data_7pay.head()"
   ]
  },
  {
   "cell_type": "code",
   "execution_count": null,
   "metadata": {
    "ExecuteTime": {
     "end_time": "2018-09-12T08:59:45.802534Z",
     "start_time": "2018-09-12T08:59:45.713529Z"
    }
   },
   "outputs": [],
   "source": [
    "# y=data_7pay.prediction_pay_price\n",
    "# X=data_7pay.drop(labels='prediction_pay_price',axis=1)\n",
    "\n",
    "# from sklearn.model_selection import cross_val_score,KFold\n",
    "# from sklearn.linear_model import LinearRegression,RidgeCV,LassoCV,ElasticNetCV\n",
    "# from sklearn.preprocessing import RobustScaler\n",
    "# from sklearn.pipeline import make_pipeline\n",
    "\n",
    "# kfolds=KFold(n_splits=10,shuffle=True,random_state=13)\n",
    "\n",
    "# def cv_rmse(model):\n",
    "#     rmse=np.sqrt(-cross_val_score(model,X,y,scoring='neg_mean_squared_error',cv=kfolds))\n",
    "#     return rmse\n",
    "\n",
    "# lm = LinearRegression()\n",
    "\n",
    "# benchmark_model=make_pipeline(RobustScaler(),\n",
    "#                              lm).fit(X,y)\n",
    "\n",
    "# cv_rmse(benchmark_model).mean()"
   ]
  },
  {
   "cell_type": "code",
   "execution_count": null,
   "metadata": {},
   "outputs": [],
   "source": []
  },
  {
   "cell_type": "code",
   "execution_count": null,
   "metadata": {},
   "outputs": [],
   "source": []
  },
  {
   "cell_type": "code",
   "execution_count": null,
   "metadata": {},
   "outputs": [],
   "source": []
  },
  {
   "cell_type": "code",
   "execution_count": null,
   "metadata": {},
   "outputs": [],
   "source": []
  },
  {
   "cell_type": "code",
   "execution_count": null,
   "metadata": {},
   "outputs": [],
   "source": []
  },
  {
   "cell_type": "code",
   "execution_count": null,
   "metadata": {},
   "outputs": [],
   "source": []
  },
  {
   "cell_type": "code",
   "execution_count": null,
   "metadata": {},
   "outputs": [],
   "source": []
  },
  {
   "cell_type": "code",
   "execution_count": null,
   "metadata": {},
   "outputs": [],
   "source": []
  },
  {
   "cell_type": "code",
   "execution_count": null,
   "metadata": {},
   "outputs": [],
   "source": []
  },
  {
   "cell_type": "code",
   "execution_count": null,
   "metadata": {},
   "outputs": [],
   "source": []
  },
  {
   "cell_type": "code",
   "execution_count": null,
   "metadata": {},
   "outputs": [],
   "source": []
  },
  {
   "cell_type": "code",
   "execution_count": null,
   "metadata": {},
   "outputs": [],
   "source": []
  },
  {
   "cell_type": "code",
   "execution_count": null,
   "metadata": {},
   "outputs": [],
   "source": []
  },
  {
   "cell_type": "code",
   "execution_count": null,
   "metadata": {},
   "outputs": [],
   "source": []
  },
  {
   "cell_type": "code",
   "execution_count": null,
   "metadata": {
    "ExecuteTime": {
     "end_time": "2018-09-12T08:59:45.934542Z",
     "start_time": "2018-09-12T08:59:45.804534Z"
    }
   },
   "outputs": [],
   "source": [
    "data_7pay[[ i for i in data_7pay.columns.values if 'troop' in i ]].head()"
   ]
  },
  {
   "cell_type": "code",
   "execution_count": null,
   "metadata": {
    "ExecuteTime": {
     "end_time": "2018-09-12T08:59:46.030547Z",
     "start_time": "2018-09-12T08:59:45.936542Z"
    }
   },
   "outputs": [],
   "source": [
    "bd_healing_text1=[]\n",
    "for i in level1_text:\n",
    "    if 'bd_healing' in i:\n",
    "        bd_healing_text1.append(i)\n",
    "data_7pay['bd_healing_sum_qua1']=0\n",
    "for k in bd_healing_text1:\n",
    "    data_7pay['bd_healing_sum_qua1']+=data_7pay[k]"
   ]
  },
  {
   "cell_type": "code",
   "execution_count": null,
   "metadata": {
    "ExecuteTime": {
     "end_time": "2018-09-12T08:59:46.122553Z",
     "start_time": "2018-09-12T08:59:46.031547Z"
    }
   },
   "outputs": [],
   "source": [
    "bd_hero_text1=[]\n",
    "for i in level1_text:\n",
    "    if 'bd_hero' in i:\n",
    "        bd_hero_text1.append(i)\n",
    "data_7pay['bd_hero_sum_qua1']=0\n",
    "for k in bd_hero_text1:\n",
    "    data_7pay['bd_hero_sum_qua1']+=data_7pay[k]"
   ]
  },
  {
   "cell_type": "code",
   "execution_count": null,
   "metadata": {
    "ExecuteTime": {
     "end_time": "2018-09-12T08:59:46.231559Z",
     "start_time": "2018-09-12T08:59:46.123553Z"
    }
   },
   "outputs": [],
   "source": [
    "sr_text1=[]\n",
    "for i in level1_text:\n",
    "    if 'sr' in i:\n",
    "        sr_text1.append(i)\n",
    "data_7pay['sr1_sum_qua1']=0\n",
    "for k in sr_text1:\n",
    "    data_7pay['sr1_sum_qua1']+=data_7pay[k]\n",
    "    \n",
    "########################\n",
    "sr_text2=[]\n",
    "for i in level2_text:\n",
    "    if 'sr' in i:\n",
    "        sr_text2.append(i)\n",
    "data_7pay['sr2_sum_qua1']=0\n",
    "for k in sr_text2:\n",
    "    data_7pay['sr2_sum_qua1']+=data_7pay[k]\n",
    "\n",
    "#########################\n",
    "sr_text3=[]\n",
    "for i in level3_text:\n",
    "    if 'sr' in i:\n",
    "        sr_text3.append(i)\n",
    "data_7pay['sr3_sum_qua1']=0\n",
    "for k in sr_text3:\n",
    "    data_7pay['sr3_sum_qua1']+=data_7pay[k]\n",
    "    \n",
    "#######################    \n",
    "sr_text4=[]\n",
    "for i in level4_text:\n",
    "    if 'sr' in i:\n",
    "        sr_text4.append(i)\n",
    "data_7pay['sr4_sum_qua1']=0\n",
    "for k in sr_text4:\n",
    "    data_7pay['sr4_sum_qua1']+=data_7pay[k]    "
   ]
  },
  {
   "cell_type": "code",
   "execution_count": null,
   "metadata": {
    "ExecuteTime": {
     "end_time": "2018-09-12T08:59:46.303563Z",
     "start_time": "2018-09-12T08:59:46.232559Z"
    }
   },
   "outputs": [],
   "source": [
    "bd_text1=[]\n",
    "for i in level1_text:\n",
    "    if 'bd' in i:\n",
    "        bd_text1.append(i)\n",
    "data_7pay['bd1_sum_qua1']=0\n",
    "for k in bd_text1:\n",
    "    data_7pay['bd1_sum_qua1']+=data_7pay[k]"
   ]
  },
  {
   "cell_type": "code",
   "execution_count": null,
   "metadata": {
    "ExecuteTime": {
     "end_time": "2018-09-12T08:59:46.430570Z",
     "start_time": "2018-09-12T08:59:46.304563Z"
    }
   },
   "outputs": [],
   "source": [
    "data_7pay.head()"
   ]
  },
  {
   "cell_type": "code",
   "execution_count": null,
   "metadata": {
    "ExecuteTime": {
     "end_time": "2018-09-12T08:59:46.591579Z",
     "start_time": "2018-09-12T08:59:46.432570Z"
    }
   },
   "outputs": [],
   "source": [
    "# y=data_7pay.prediction_pay_price\n",
    "# X=data_7pay.drop(labels='prediction_pay_price',axis=1)\n",
    "\n",
    "# from sklearn.model_selection import cross_val_score,KFold\n",
    "# from sklearn.linear_model import LinearRegression,RidgeCV,LassoCV,ElasticNetCV\n",
    "# from sklearn.preprocessing import RobustScaler\n",
    "# from sklearn.pipeline import make_pipeline\n",
    "\n",
    "# kfolds=KFold(n_splits=10,shuffle=True,random_state=13)\n",
    "\n",
    "# def cv_rmse(model):\n",
    "#     rmse=np.sqrt(-cross_val_score(model,X,y,scoring='neg_mean_squared_error',cv=kfolds))\n",
    "#     return rmse\n",
    "\n",
    "# lm = LinearRegression()\n",
    "\n",
    "# benchmark_model=make_pipeline(RobustScaler(),\n",
    "#                              lm).fit(X,y)\n",
    "\n",
    "# cv_rmse(benchmark_model).mean()"
   ]
  },
  {
   "cell_type": "code",
   "execution_count": null,
   "metadata": {},
   "outputs": [],
   "source": []
  },
  {
   "cell_type": "code",
   "execution_count": null,
   "metadata": {},
   "outputs": [],
   "source": []
  },
  {
   "cell_type": "code",
   "execution_count": null,
   "metadata": {},
   "outputs": [],
   "source": []
  },
  {
   "cell_type": "code",
   "execution_count": null,
   "metadata": {
    "ExecuteTime": {
     "end_time": "2018-09-12T08:59:46.693585Z",
     "start_time": "2018-09-12T08:59:46.592580Z"
    }
   },
   "outputs": [],
   "source": [
    "sr1_atk_text=[]\n",
    "for i in level1_text:\n",
    "    if 'atk_level' in i:\n",
    "        sr1_atk_text.append(i)\n",
    "data_7pay['sr1_atk_sum_qua1']=0\n",
    "for k in sr1_atk_text:\n",
    "    data_7pay['sr1_atk_sum_qua1']+=data_7pay[k]\n",
    "    \n",
    "#####################\n",
    "sr1_def_text=[]\n",
    "for i in level1_text:\n",
    "    if 'def_level' in i:\n",
    "        sr1_def_text.append(i)\n",
    "data_7pay['sr1_def_sum_qua1']=0\n",
    "for k in sr1_def_text:\n",
    "    data_7pay['sr1_def_sum_qua1']+=data_7pay[k]\n",
    "\n",
    "####################\n",
    "\n",
    "sr1_hp_text=[]\n",
    "for i in level1_text:\n",
    "    if 'hp_level' in i:\n",
    "        sr1_hp_text.append(i)\n",
    "data_7pay['sr1_hp_sum_qua1']=0\n",
    "for k in sr1_hp_text:\n",
    "    data_7pay['sr1_hp_sum_qua1']+=data_7pay[k]"
   ]
  },
  {
   "cell_type": "code",
   "execution_count": null,
   "metadata": {},
   "outputs": [],
   "source": []
  },
  {
   "cell_type": "code",
   "execution_count": null,
   "metadata": {
    "ExecuteTime": {
     "end_time": "2018-09-12T09:00:02.731503Z",
     "start_time": "2018-09-12T08:59:46.695585Z"
    }
   },
   "outputs": [],
   "source": [
    "y=data_7pay.prediction_pay_price\n",
    "X=data_7pay.drop(labels='prediction_pay_price',axis=1)\n",
    "\n",
    "from sklearn.model_selection import cross_val_score,KFold\n",
    "from sklearn.linear_model import LinearRegression,RidgeCV,LassoCV,ElasticNetCV\n",
    "from sklearn.preprocessing import RobustScaler\n",
    "from sklearn.pipeline import make_pipeline\n",
    "\n",
    "kfolds=KFold(n_splits=10,shuffle=True,random_state=13)\n",
    "\n",
    "def cv_rmse(model):\n",
    "    rmse=np.sqrt(-cross_val_score(model,X,y,scoring='neg_mean_squared_error',cv=kfolds))\n",
    "    return rmse\n",
    "\n",
    "lm = LinearRegression()\n",
    "\n",
    "benchmark_model=make_pipeline(RobustScaler(),\n",
    "                             lm).fit(X,y)\n",
    "\n",
    "cv_rmse(benchmark_model).mean()"
   ]
  },
  {
   "cell_type": "code",
   "execution_count": null,
   "metadata": {},
   "outputs": [],
   "source": []
  },
  {
   "cell_type": "code",
   "execution_count": null,
   "metadata": {
    "ExecuteTime": {
     "end_time": "2018-09-12T09:00:02.751504Z",
     "start_time": "2018-09-12T09:00:02.732503Z"
    }
   },
   "outputs": [],
   "source": [
    "data_7pay.head()"
   ]
  },
  {
   "cell_type": "code",
   "execution_count": null,
   "metadata": {},
   "outputs": [],
   "source": []
  },
  {
   "cell_type": "code",
   "execution_count": null,
   "metadata": {
    "ExecuteTime": {
     "end_time": "2018-09-12T09:00:03.322536Z",
     "start_time": "2018-09-12T09:00:02.753504Z"
    }
   },
   "outputs": [],
   "source": [
    "da"
   ]
  },
  {
   "cell_type": "code",
   "execution_count": null,
   "metadata": {},
   "outputs": [],
   "source": []
  },
  {
   "cell_type": "code",
   "execution_count": null,
   "metadata": {
    "ExecuteTime": {
     "end_time": "2018-09-12T09:00:03.322536Z",
     "start_time": "2018-09-12T08:58:31.783Z"
    }
   },
   "outputs": [],
   "source": [
    "soldier_name=['shaman','cavalry','infantry']\n",
    "properity_name=['hp','atk','def']\n",
    "for i in soldier_name:\n",
    "    for k in properity_name:\n",
    "        sum_name=i+'_hp_atk_def_sum_qua1'\n",
    "        name='sr_'+i+'_'+k+'_level'\n",
    "        col_name=i+'_'+k+'_sum_rate_qua4'\n",
    "#         print(data_7pay[name].shape[0])\n",
    "        data_7pay[col_name]=data_7pay[name]/data_7pay[sum_name]\n",
    "#         print(\"name : \"+name+' --- sum_name : '+sum_name+' --- col_name : '+col_name)"
   ]
  },
  {
   "cell_type": "code",
   "execution_count": null,
   "metadata": {
    "ExecuteTime": {
     "end_time": "2018-09-12T09:00:03.324537Z",
     "start_time": "2018-09-12T08:58:31.785Z"
    }
   },
   "outputs": [],
   "source": [
    "data_7pay.shaman_hp_atk_def_sum_qua1.head()"
   ]
  },
  {
   "cell_type": "code",
   "execution_count": null,
   "metadata": {
    "ExecuteTime": {
     "end_time": "2018-09-12T09:00:03.324537Z",
     "start_time": "2018-09-12T08:58:31.787Z"
    }
   },
   "outputs": [],
   "source": [
    "data_7pay.sr_shaman_hp_level.head()"
   ]
  },
  {
   "cell_type": "code",
   "execution_count": null,
   "metadata": {
    "ExecuteTime": {
     "end_time": "2018-09-12T09:00:03.326537Z",
     "start_time": "2018-09-12T08:58:31.789Z"
    }
   },
   "outputs": [],
   "source": [
    "a=pd.DataFrame()\n",
    "a['shaman_hp_sum_rate_qua4']=data_7pay['sr_shaman_hp_level'] / data_7pay['shaman_hp_atk_def_sum_qua1']"
   ]
  },
  {
   "cell_type": "code",
   "execution_count": null,
   "metadata": {
    "ExecuteTime": {
     "end_time": "2018-09-12T09:00:03.326537Z",
     "start_time": "2018-09-12T08:58:31.791Z"
    }
   },
   "outputs": [],
   "source": [
    "a.head()"
   ]
  },
  {
   "cell_type": "code",
   "execution_count": null,
   "metadata": {
    "ExecuteTime": {
     "end_time": "2018-09-12T09:00:03.327537Z",
     "start_time": "2018-09-12T08:58:31.793Z"
    }
   },
   "outputs": [],
   "source": [
    "data2=pd.concat([data_7pay,a],axis=1)"
   ]
  },
  {
   "cell_type": "code",
   "execution_count": null,
   "metadata": {},
   "outputs": [],
   "source": []
  },
  {
   "cell_type": "code",
   "execution_count": null,
   "metadata": {
    "ExecuteTime": {
     "end_time": "2018-09-12T09:00:03.328537Z",
     "start_time": "2018-09-12T08:58:31.797Z"
    }
   },
   "outputs": [],
   "source": [
    "data2.head()"
   ]
  },
  {
   "cell_type": "code",
   "execution_count": null,
   "metadata": {
    "ExecuteTime": {
     "end_time": "2018-09-12T09:00:03.329537Z",
     "start_time": "2018-09-12T08:58:31.799Z"
    }
   },
   "outputs": [],
   "source": [
    "data_7pay.head()"
   ]
  },
  {
   "cell_type": "code",
   "execution_count": null,
   "metadata": {
    "ExecuteTime": {
     "end_time": "2018-09-12T09:00:03.329537Z",
     "start_time": "2018-09-12T08:58:31.801Z"
    }
   },
   "outputs": [],
   "source": [
    "data2.fillna(0.0,inplace=True)"
   ]
  },
  {
   "cell_type": "code",
   "execution_count": null,
   "metadata": {
    "ExecuteTime": {
     "end_time": "2018-09-12T09:00:03.330537Z",
     "start_time": "2018-09-12T08:58:31.803Z"
    }
   },
   "outputs": [],
   "source": [
    "data2.head()"
   ]
  },
  {
   "cell_type": "code",
   "execution_count": null,
   "metadata": {
    "ExecuteTime": {
     "end_time": "2018-09-12T09:00:03.331537Z",
     "start_time": "2018-09-12T08:58:31.805Z"
    }
   },
   "outputs": [],
   "source": [
    "\n",
    "# y=data2.prediction_pay_price\n",
    "# X=data2.drop(labels='prediction_pay_price',axis=1)\n",
    "# X.fillna(0.0)\n",
    "\n",
    "# from sklearn.model_selection import cross_val_score,KFold\n",
    "# from sklearn.linear_model import LinearRegression,RidgeCV,LassoCV,ElasticNetCV\n",
    "# from sklearn.preprocessing import RobustScaler\n",
    "# from sklearn.pipeline import make_pipeline\n",
    "\n",
    "# kfolds=KFold(n_splits=10,shuffle=True,random_state=13)\n",
    "\n",
    "# def cv_rmse(model):\n",
    "#     rmse=np.sqrt(-cross_val_score(model,X,y,scoring='neg_mean_squared_error',cv=kfolds))\n",
    "#     return rmse\n",
    "\n",
    "# lm = LinearRegression()\n",
    "\n",
    "# benchmark_model=make_pipeline(RobustScaler(),\n",
    "#                              lm).fit(X,y)\n",
    "\n",
    "# cv_rmse(benchmark_model).mean()"
   ]
  },
  {
   "cell_type": "code",
   "execution_count": null,
   "metadata": {},
   "outputs": [],
   "source": []
  },
  {
   "cell_type": "code",
   "execution_count": null,
   "metadata": {},
   "outputs": [],
   "source": []
  },
  {
   "cell_type": "code",
   "execution_count": null,
   "metadata": {
    "ExecuteTime": {
     "end_time": "2018-09-12T09:00:03.332537Z",
     "start_time": "2018-09-12T08:58:31.811Z"
    }
   },
   "outputs": [],
   "source": [
    "pvp_text1=[]\n",
    "for i in data_7pay.columns.values:\n",
    "    if ('pvp' in i) & ('count' in i):\n",
    "        pvp_text1.append(i)\n",
    "data_7pay['pvp_sum_qua1']=0\n",
    "for k in pvp_text1:\n",
    "    data_7pay['pvp_sum_qua1']+=data_7pay[k]"
   ]
  },
  {
   "cell_type": "code",
   "execution_count": null,
   "metadata": {
    "ExecuteTime": {
     "end_time": "2018-09-12T09:00:03.332537Z",
     "start_time": "2018-09-12T08:58:31.813Z"
    }
   },
   "outputs": [],
   "source": [
    "pve_text1=[]\n",
    "for i in data_7pay.columns.values:\n",
    "    if ('pve' in i) & ('count' in i):\n",
    "        pve_text1.append(i)\n",
    "data_7pay['pve_sum_qua1']=0\n",
    "for k in pve_text1:\n",
    "    data_7pay['pve_sum_qua1']+=data_7pay[k]"
   ]
  },
  {
   "cell_type": "code",
   "execution_count": null,
   "metadata": {},
   "outputs": [],
   "source": []
  },
  {
   "cell_type": "code",
   "execution_count": null,
   "metadata": {},
   "outputs": [],
   "source": []
  },
  {
   "cell_type": "code",
   "execution_count": null,
   "metadata": {
    "ExecuteTime": {
     "end_time": "2018-09-12T09:00:03.333537Z",
     "start_time": "2018-09-12T08:58:31.819Z"
    }
   },
   "outputs": [],
   "source": [
    "data_7pay['pvp_win_battle_rate_qua4']=data_7pay['pvp_win_count']/data_7pay['pvp_battle_count']\n",
    "data_7pay['pve_win_battle_rate_qua4']=data_7pay['pve_win_count']/data_7pay['pve_battle_count']\n",
    "data_7pay['pvp_lanch_battle_rate_qua4']=data_7pay['pvp_lanch_count']/data_7pay['pvp_battle_count']\n",
    "data_7pay['pve_lanch_battle_rate_qua4']=data_7pay['pve_lanch_count']/data_7pay['pve_battle_count']"
   ]
  },
  {
   "cell_type": "code",
   "execution_count": null,
   "metadata": {
    "ExecuteTime": {
     "end_time": "2018-09-12T09:00:03.334537Z",
     "start_time": "2018-09-12T08:58:31.822Z"
    }
   },
   "outputs": [],
   "source": [
    "data_7pay.head()"
   ]
  },
  {
   "cell_type": "code",
   "execution_count": null,
   "metadata": {
    "ExecuteTime": {
     "end_time": "2018-09-12T09:00:03.335537Z",
     "start_time": "2018-09-12T08:58:31.825Z"
    }
   },
   "outputs": [],
   "source": [
    "[[i for i in data_7pay.columns.values if 'prediction' in i ]]"
   ]
  },
  {
   "cell_type": "code",
   "execution_count": null,
   "metadata": {
    "ExecuteTime": {
     "end_time": "2018-09-12T09:00:03.335537Z",
     "start_time": "2018-09-12T08:58:31.827Z"
    }
   },
   "outputs": [],
   "source": [
    "y=data_7pay.prediction_pay_price\n",
    "X=data_7pay.drop(labels=['prediction_pay_price'],axis=1)\n",
    "X.fillna(0.0,inplace=True)"
   ]
  },
  {
   "cell_type": "code",
   "execution_count": null,
   "metadata": {},
   "outputs": [],
   "source": []
  },
  {
   "cell_type": "code",
   "execution_count": null,
   "metadata": {},
   "outputs": [],
   "source": []
  },
  {
   "cell_type": "code",
   "execution_count": null,
   "metadata": {},
   "outputs": [],
   "source": []
  },
  {
   "cell_type": "code",
   "execution_count": null,
   "metadata": {},
   "outputs": [],
   "source": []
  },
  {
   "cell_type": "code",
   "execution_count": null,
   "metadata": {
    "ExecuteTime": {
     "end_time": "2018-09-12T09:00:03.336537Z",
     "start_time": "2018-09-12T08:58:31.837Z"
    }
   },
   "outputs": [],
   "source": [
    "from sklearn.model_selection import cross_val_score,KFold\n",
    "from sklearn.linear_model import LinearRegression,RidgeCV,LassoCV,ElasticNetCV\n",
    "from sklearn.preprocessing import RobustScaler\n",
    "from sklearn.pipeline import make_pipeline\n",
    "\n",
    "kfolds=KFold(n_splits=10,shuffle=True,random_state=13)\n",
    "\n",
    "def cv_rmse(model):\n",
    "    rmse=np.sqrt(-cross_val_score(model,X,y,scoring='neg_mean_squared_error',cv=kfolds))\n",
    "    return rmse\n",
    "\n",
    "lm = LinearRegression()\n",
    "\n",
    "benchmark_model=make_pipeline(RobustScaler(),\n",
    "                             lm).fit(X,y)\n",
    "\n",
    "cv_rmse(benchmark_model).mean()"
   ]
  },
  {
   "cell_type": "code",
   "execution_count": null,
   "metadata": {},
   "outputs": [],
   "source": []
  },
  {
   "cell_type": "code",
   "execution_count": null,
   "metadata": {},
   "outputs": [],
   "source": []
  },
  {
   "cell_type": "code",
   "execution_count": null,
   "metadata": {},
   "outputs": [],
   "source": []
  },
  {
   "cell_type": "code",
   "execution_count": null,
   "metadata": {
    "ExecuteTime": {
     "end_time": "2018-09-12T09:00:03.337537Z",
     "start_time": "2018-09-12T08:58:31.845Z"
    }
   },
   "outputs": [],
   "source": [
    "a=pd.DataFrame()\n",
    "b=pd.DataFrame()\n",
    "c=pd.DataFrame()\n",
    "for name in data_7pay.columns.values:\n",
    "    price_name=name+'_per_price_qua4'\n",
    "    count_name=name+'_per_count_qua4'\n",
    "    online_name=name+'_per_minute_qua4'\n",
    "    data_7pay[price_name]=data_7pay[name] / data_7pay['pay_price']\n",
    "    data_7pay[count_name]=data_7pay[name] / data_7pay['pay_count']\n",
    "    data_7pay[online_name]=data_7pay[name] / data_7pay['avg_online_minutes']\n",
    "#     a[price_name]=data_7pay[name] / data_7pay['pay_price']\n",
    "#     b[count_name]=data_7pay[name] / data_7pay['pay_count']\n",
    "#     c[online_name]=data_7pay[name] / data_7pay['avg_online_minutes']"
   ]
  },
  {
   "cell_type": "code",
   "execution_count": null,
   "metadata": {},
   "outputs": [],
   "source": []
  },
  {
   "cell_type": "code",
   "execution_count": null,
   "metadata": {},
   "outputs": [],
   "source": []
  },
  {
   "cell_type": "code",
   "execution_count": null,
   "metadata": {},
   "outputs": [],
   "source": []
  },
  {
   "cell_type": "code",
   "execution_count": null,
   "metadata": {
    "ExecuteTime": {
     "end_time": "2018-09-12T09:00:03.338537Z",
     "start_time": "2018-09-12T08:58:31.852Z"
    }
   },
   "outputs": [],
   "source": [
    "y=data_7pay_a.prediction_pay_price\n",
    "X=data_7pay_c.drop(labels=['prediction_pay_price'],axis=1)\n",
    "X.replace([np.inf,-np.inf],np.nan,inplace=True)\n",
    "X.fillna(0.0,inplace=True)\n",
    "\n",
    "\n",
    "from sklearn.model_selection import cross_val_score,KFold\n",
    "from sklearn.linear_model import LinearRegression,RidgeCV,LassoCV,ElasticNetCV\n",
    "from sklearn.preprocessing import RobustScaler\n",
    "from sklearn.pipeline import make_pipeline\n",
    "\n",
    "kfolds=KFold(n_splits=10,shuffle=True,random_state=13)\n",
    "\n",
    "def cv_rmse(model):\n",
    "    rmse=np.sqrt(-cross_val_score(model,X,y,scoring='neg_mean_squared_error',cv=kfolds))\n",
    "    return rmse\n",
    "\n",
    "lm = LinearRegression()\n",
    "\n",
    "benchmark_model=make_pipeline(RobustScaler(),\n",
    "                             lm).fit(X,y)\n",
    "\n",
    "cv_rmse(benchmark_model).mean()"
   ]
  },
  {
   "cell_type": "code",
   "execution_count": null,
   "metadata": {},
   "outputs": [],
   "source": []
  },
  {
   "cell_type": "code",
   "execution_count": null,
   "metadata": {},
   "outputs": [],
   "source": []
  },
  {
   "cell_type": "code",
   "execution_count": null,
   "metadata": {},
   "outputs": [],
   "source": []
  },
  {
   "cell_type": "code",
   "execution_count": null,
   "metadata": {},
   "outputs": [],
   "source": []
  },
  {
   "cell_type": "code",
   "execution_count": null,
   "metadata": {},
   "outputs": [],
   "source": []
  },
  {
   "cell_type": "code",
   "execution_count": null,
   "metadata": {},
   "outputs": [],
   "source": []
  },
  {
   "cell_type": "code",
   "execution_count": null,
   "metadata": {},
   "outputs": [],
   "source": []
  },
  {
   "cell_type": "code",
   "execution_count": null,
   "metadata": {},
   "outputs": [],
   "source": []
  },
  {
   "cell_type": "code",
   "execution_count": null,
   "metadata": {
    "ExecuteTime": {
     "end_time": "2018-09-12T09:00:03.339537Z",
     "start_time": "2018-09-12T08:58:31.867Z"
    }
   },
   "outputs": [],
   "source": [
    "data_7pay['prediction_pay_price'].head()"
   ]
  },
  {
   "cell_type": "code",
   "execution_count": null,
   "metadata": {
    "ExecuteTime": {
     "end_time": "2018-09-12T09:00:03.339537Z",
     "start_time": "2018-09-12T08:58:31.870Z"
    }
   },
   "outputs": [],
   "source": [
    "data_7pay.loc[data_7pay['prediction_pay_price']<0 , 'prediction_pay_price']=data_7pay['pay_price']\n",
    "data_7pay.loc[data_7pay['prediction_pay_price']>0, 'prediction_pay_price']=data_7pay['pay_price']*data_7pay['prediction_pay_price']\n",
    "\n",
    "data_7pay.loc[data_7pay['prediction_pay_price']<0.99 , 'prediction_pay_price']=data_7pay['pay_price']"
   ]
  },
  {
   "cell_type": "code",
   "execution_count": null,
   "metadata": {
    "ExecuteTime": {
     "end_time": "2018-09-12T09:00:03.340537Z",
     "start_time": "2018-09-12T08:58:31.872Z"
    }
   },
   "outputs": [],
   "source": [
    "data_7pay.head()"
   ]
  },
  {
   "cell_type": "code",
   "execution_count": null,
   "metadata": {
    "ExecuteTime": {
     "end_time": "2018-09-12T09:00:03.341537Z",
     "start_time": "2018-09-12T08:58:31.874Z"
    }
   },
   "outputs": [],
   "source": [
    "data_7pay.shape"
   ]
  },
  {
   "cell_type": "code",
   "execution_count": null,
   "metadata": {
    "ExecuteTime": {
     "end_time": "2018-09-12T09:00:03.342538Z",
     "start_time": "2018-09-12T08:58:31.877Z"
    }
   },
   "outputs": [],
   "source": [
    "for i in data_7pay.columns.values:\n",
    "    if 'prediction' in i :\n",
    "        print(i)"
   ]
  },
  {
   "cell_type": "code",
   "execution_count": null,
   "metadata": {
    "ExecuteTime": {
     "end_time": "2018-09-12T09:00:03.342538Z",
     "start_time": "2018-09-12T08:58:31.879Z"
    }
   },
   "outputs": [],
   "source": [
    "X=data_7pay.drop(labels=['prediction_pay_price','prediction_pay_price_per_price_qua4',\n",
    "                        'prediction_pay_price_per_count_qua4','prediction_pay_price_per_minute_qua4'],axis=1)\n",
    "y=data_7pay.prediction_pay_price\n",
    "X.replace([np.inf,-np.inf],np.nan,inplace=True)\n",
    "X.fillna(0.0,inplace=True)"
   ]
  },
  {
   "cell_type": "code",
   "execution_count": 62,
   "metadata": {
    "ExecuteTime": {
     "end_time": "2018-09-12T09:01:04.284873Z",
     "start_time": "2018-09-12T09:00:52.030172Z"
    }
   },
   "outputs": [
    {
     "data": {
      "text/plain": [
       "497.89620679796116"
      ]
     },
     "execution_count": 62,
     "metadata": {},
     "output_type": "execute_result"
    }
   ],
   "source": [
    "from sklearn.model_selection import cross_val_score,KFold\n",
    "from sklearn.linear_model import LinearRegression,RidgeCV,LassoCV,ElasticNetCV\n",
    "from sklearn.preprocessing import RobustScaler\n",
    "from sklearn.pipeline import make_pipeline\n",
    "\n",
    "kfolds=KFold(n_splits=10,shuffle=True,random_state=13)\n",
    "\n",
    "\n",
    "def cv_rmse(model):\n",
    "    rmse=np.sqrt(-cross_val_score(model,X,y,scoring='neg_mean_squared_error',cv=kfolds))\n",
    "    return rmse\n",
    "\n",
    "lm = LinearRegression()\n",
    "\n",
    "benchmark_model=make_pipeline(RobustScaler(),\n",
    "                             lm).fit(X,y)\n",
    "\n",
    "cv_rmse(benchmark_model).mean()"
   ]
  },
  {
   "cell_type": "code",
   "execution_count": 63,
   "metadata": {
    "ExecuteTime": {
     "end_time": "2018-09-12T09:01:22.766285Z",
     "start_time": "2018-09-12T09:01:22.750685Z"
    }
   },
   "outputs": [
    {
     "data": {
      "text/plain": [
       "(41439, 186)"
      ]
     },
     "execution_count": 63,
     "metadata": {},
     "output_type": "execute_result"
    }
   ],
   "source": [
    "X.shape"
   ]
  },
  {
   "cell_type": "code",
   "execution_count": null,
   "metadata": {},
   "outputs": [],
   "source": []
  }
 ],
 "metadata": {
  "kernelspec": {
   "display_name": "Python 3",
   "language": "python",
   "name": "python3"
  },
  "language_info": {
   "codemirror_mode": {
    "name": "ipython",
    "version": 3
   },
   "file_extension": ".py",
   "mimetype": "text/x-python",
   "name": "python",
   "nbconvert_exporter": "python",
   "pygments_lexer": "ipython3",
   "version": "3.6.3"
  }
 },
 "nbformat": 4,
 "nbformat_minor": 2
}
