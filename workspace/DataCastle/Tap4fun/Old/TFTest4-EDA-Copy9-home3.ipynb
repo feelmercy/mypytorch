{
 "cells": [
  {
   "cell_type": "code",
   "execution_count": 101,
   "metadata": {
    "ExecuteTime": {
     "end_time": "2018-09-20T02:50:55.067947Z",
     "start_time": "2018-09-20T02:50:55.060947Z"
    }
   },
   "outputs": [],
   "source": [
    "import numpy as np\n",
    "import pandas as pd\n",
    "from matplotlib import pyplot as plt\n",
    "import seaborn as sns\n",
    "from scipy.stats import norm ,skew,kurtosis\n",
    "from sklearn.preprocessing import StandardScaler"
   ]
  },
  {
   "cell_type": "code",
   "execution_count": 102,
   "metadata": {
    "ExecuteTime": {
     "end_time": "2018-09-20T02:51:16.706185Z",
     "start_time": "2018-09-20T02:50:55.069948Z"
    }
   },
   "outputs": [],
   "source": [
    "df_train=pd.read_csv('F:\\\\study\\\\ml\\\\DataSet\\\\Tap4fun\\\\tap_fun_train.csv')"
   ]
  },
  {
   "cell_type": "code",
   "execution_count": 103,
   "metadata": {
    "ExecuteTime": {
     "end_time": "2018-09-20T02:51:16.897196Z",
     "start_time": "2018-09-20T02:51:16.707185Z"
    }
   },
   "outputs": [
    {
     "name": "stdout",
     "output_type": "stream",
     "text": [
      "<class 'pandas.core.frame.DataFrame'>\n",
      "RangeIndex: 2288007 entries, 0 to 2288006\n",
      "Columns: 109 entries, user_id to prediction_pay_price\n",
      "dtypes: float64(13), int64(95), object(1)\n",
      "memory usage: 2.0 GB\n"
     ]
    }
   ],
   "source": [
    "df_train.info(memory_usage='deep')"
   ]
  },
  {
   "cell_type": "code",
   "execution_count": 104,
   "metadata": {
    "ExecuteTime": {
     "end_time": "2018-09-20T02:51:29.313906Z",
     "start_time": "2018-09-20T02:51:16.898196Z"
    }
   },
   "outputs": [],
   "source": [
    "c_int=df_train.select_dtypes(include=['int64']).apply(pd.to_numeric,downcast='unsigned')\n",
    "c_float=df_train.select_dtypes(include=['float']).apply(pd.to_numeric,downcast='float')\n"
   ]
  },
  {
   "cell_type": "code",
   "execution_count": 105,
   "metadata": {
    "ExecuteTime": {
     "end_time": "2018-09-20T02:51:29.647925Z",
     "start_time": "2018-09-20T02:51:29.315906Z"
    }
   },
   "outputs": [],
   "source": [
    "o_df=pd.concat([c_int,c_float],axis=1)"
   ]
  },
  {
   "cell_type": "code",
   "execution_count": 106,
   "metadata": {
    "ExecuteTime": {
     "end_time": "2018-09-20T02:51:29.653926Z",
     "start_time": "2018-09-20T02:51:29.648925Z"
    }
   },
   "outputs": [],
   "source": [
    "column_type=dict(o_df.dtypes.copy())"
   ]
  },
  {
   "cell_type": "code",
   "execution_count": 107,
   "metadata": {
    "ExecuteTime": {
     "end_time": "2018-09-20T02:51:29.752931Z",
     "start_time": "2018-09-20T02:51:29.655926Z"
    }
   },
   "outputs": [
    {
     "data": {
      "text/plain": [
       "{'avg_online_minutes': dtype('float32'),\n",
       " 'bd_barrack_level': dtype('uint8'),\n",
       " 'bd_dolmen_level': dtype('uint8'),\n",
       " 'bd_guest_cavern_level': dtype('uint8'),\n",
       " 'bd_hall_of_war_level': dtype('uint8'),\n",
       " 'bd_healing_lodge_level': dtype('uint8'),\n",
       " 'bd_healing_spring_level': dtype('uint8'),\n",
       " 'bd_hero_gacha_level': dtype('uint8'),\n",
       " 'bd_hero_pve_level': dtype('uint8'),\n",
       " 'bd_hero_strengthen_level': dtype('uint8'),\n",
       " 'bd_magic_coin_tree_level': dtype('uint8'),\n",
       " 'bd_market_level': dtype('uint8'),\n",
       " 'bd_outpost_portal_level': dtype('uint8'),\n",
       " 'bd_stronghold_level': dtype('uint8'),\n",
       " 'bd_training_hut_level': dtype('uint8'),\n",
       " 'bd_warehouse_level': dtype('uint8'),\n",
       " 'bd_watchtower_level': dtype('uint8'),\n",
       " 'building_acceleration_add_value': dtype('uint32'),\n",
       " 'building_acceleration_reduce_value': dtype('uint32'),\n",
       " 'cavalry_add_value': dtype('uint32'),\n",
       " 'cavalry_reduce_value': dtype('uint32'),\n",
       " 'general_acceleration_add_value': dtype('uint32'),\n",
       " 'general_acceleration_reduce_value': dtype('uint32'),\n",
       " 'infantry_add_value': dtype('uint32'),\n",
       " 'infantry_reduce_value': dtype('uint32'),\n",
       " 'ivory_add_value': dtype('float32'),\n",
       " 'ivory_reduce_value': dtype('float32'),\n",
       " 'magic_add_value': dtype('float32'),\n",
       " 'magic_reduce_value': dtype('float32'),\n",
       " 'meat_add_value': dtype('float32'),\n",
       " 'meat_reduce_value': dtype('float32'),\n",
       " 'pay_count': dtype('uint8'),\n",
       " 'pay_price': dtype('float32'),\n",
       " 'prediction_pay_price': dtype('float32'),\n",
       " 'pve_battle_count': dtype('uint16'),\n",
       " 'pve_lanch_count': dtype('uint16'),\n",
       " 'pve_win_count': dtype('uint16'),\n",
       " 'pvp_battle_count': dtype('uint16'),\n",
       " 'pvp_lanch_count': dtype('uint16'),\n",
       " 'pvp_win_count': dtype('uint16'),\n",
       " 'reaserch_acceleration_add_value': dtype('uint32'),\n",
       " 'reaserch_acceleration_reduce_value': dtype('uint32'),\n",
       " 'shaman_add_value': dtype('uint32'),\n",
       " 'shaman_reduce_value': dtype('uint32'),\n",
       " 'sr_alliance_march_speed_level': dtype('uint8'),\n",
       " 'sr_cavalry_atk_level': dtype('uint8'),\n",
       " 'sr_cavalry_def_level': dtype('uint8'),\n",
       " 'sr_cavalry_hp_level': dtype('uint8'),\n",
       " 'sr_cavalry_tier_2_level': dtype('uint8'),\n",
       " 'sr_cavalry_tier_3_level': dtype('uint8'),\n",
       " 'sr_cavalry_tier_4_level': dtype('uint8'),\n",
       " 'sr_construction_speed_level': dtype('uint8'),\n",
       " 'sr_gathering_hunter_buff_level': dtype('uint8'),\n",
       " 'sr_gathering_march_speed_level': dtype('uint8'),\n",
       " 'sr_guest_troop_capacity_level': dtype('uint8'),\n",
       " 'sr_healing_space_level': dtype('uint8'),\n",
       " 'sr_healing_speed_level': dtype('uint8'),\n",
       " 'sr_hide_storage_level': dtype('uint8'),\n",
       " 'sr_infantry_atk_level': dtype('uint8'),\n",
       " 'sr_infantry_def_level': dtype('uint8'),\n",
       " 'sr_infantry_hp_level': dtype('uint8'),\n",
       " 'sr_infantry_tier_2_level': dtype('uint8'),\n",
       " 'sr_infantry_tier_3_level': dtype('uint8'),\n",
       " 'sr_infantry_tier_4_level': dtype('uint8'),\n",
       " 'sr_march_size_level': dtype('uint8'),\n",
       " 'sr_outpost_durability_level': dtype('uint8'),\n",
       " 'sr_outpost_tier_2_level': dtype('uint8'),\n",
       " 'sr_outpost_tier_3_level': dtype('uint8'),\n",
       " 'sr_outpost_tier_4_level': dtype('uint8'),\n",
       " 'sr_pvp_march_speed_level': dtype('uint8'),\n",
       " 'sr_rss_a_gather_level': dtype('uint8'),\n",
       " 'sr_rss_a_prod_levell': dtype('uint8'),\n",
       " 'sr_rss_b_gather_level': dtype('uint8'),\n",
       " 'sr_rss_b_prod_level': dtype('uint8'),\n",
       " 'sr_rss_c_gather_level': dtype('uint8'),\n",
       " 'sr_rss_c_prod_level': dtype('uint8'),\n",
       " 'sr_rss_d_gather_level': dtype('uint8'),\n",
       " 'sr_rss_d_prod_level': dtype('uint8'),\n",
       " 'sr_rss_e_gather_level': dtype('uint8'),\n",
       " 'sr_rss_e_prod_level': dtype('uint8'),\n",
       " 'sr_rss_help_bonus_level': dtype('uint8'),\n",
       " 'sr_scout_level': dtype('uint8'),\n",
       " 'sr_shaman_atk_level': dtype('uint8'),\n",
       " 'sr_shaman_def_level': dtype('uint8'),\n",
       " 'sr_shaman_hp_level': dtype('uint8'),\n",
       " 'sr_shaman_tier_2_level': dtype('uint8'),\n",
       " 'sr_shaman_tier_3_level': dtype('uint8'),\n",
       " 'sr_shaman_tier_4_level': dtype('uint8'),\n",
       " 'sr_training_speed_level': dtype('uint8'),\n",
       " 'sr_troop_attack_level': dtype('uint8'),\n",
       " 'sr_troop_consumption_level': dtype('uint8'),\n",
       " 'sr_troop_defense_level': dtype('uint8'),\n",
       " 'sr_troop_load_level': dtype('uint8'),\n",
       " 'stone_add_value': dtype('float32'),\n",
       " 'stone_reduce_value': dtype('float32'),\n",
       " 'training_acceleration_add_value': dtype('uint32'),\n",
       " 'training_acceleration_reduce_value': dtype('uint32'),\n",
       " 'treatment_acceleraion_add_value': dtype('uint16'),\n",
       " 'treatment_acceleration_reduce_value': dtype('uint16'),\n",
       " 'user_id': dtype('uint32'),\n",
       " 'wood_add_value': dtype('float32'),\n",
       " 'wood_reduce_value': dtype('float32'),\n",
       " 'wound_cavalry_add_value': dtype('uint32'),\n",
       " 'wound_cavalry_reduce_value': dtype('uint32'),\n",
       " 'wound_infantry_add_value': dtype('uint32'),\n",
       " 'wound_infantry_reduce_value': dtype('uint32'),\n",
       " 'wound_shaman_add_value': dtype('uint32'),\n",
       " 'wound_shaman_reduce_value': dtype('uint32')}"
      ]
     },
     "execution_count": 107,
     "metadata": {},
     "output_type": "execute_result"
    }
   ],
   "source": [
    "# column_type"
   ]
  },
  {
   "cell_type": "code",
   "execution_count": 108,
   "metadata": {
    "ExecuteTime": {
     "end_time": "2018-09-20T02:51:29.841936Z",
     "start_time": "2018-09-20T02:51:29.753931Z"
    }
   },
   "outputs": [
    {
     "data": {
      "text/plain": [
       "108"
      ]
     },
     "execution_count": 108,
     "metadata": {},
     "output_type": "execute_result"
    }
   ],
   "source": [
    "len(column_type)"
   ]
  },
  {
   "cell_type": "code",
   "execution_count": 109,
   "metadata": {
    "ExecuteTime": {
     "end_time": "2018-09-20T02:51:30.188956Z",
     "start_time": "2018-09-20T02:51:29.843936Z"
    }
   },
   "outputs": [],
   "source": [
    "del o_df,c_int,c_float,df_train"
   ]
  },
  {
   "cell_type": "code",
   "execution_count": null,
   "metadata": {},
   "outputs": [],
   "source": []
  },
  {
   "cell_type": "code",
   "execution_count": 110,
   "metadata": {
    "ExecuteTime": {
     "end_time": "2018-09-20T02:52:02.631812Z",
     "start_time": "2018-09-20T02:51:30.190956Z"
    }
   },
   "outputs": [],
   "source": [
    "data_train=pd.read_csv('F:\\\\study\\\\ml\\\\DataSet\\\\Tap4fun\\\\tap_fun_train.csv',\n",
    "                      dtype=column_type,parse_dates=['register_time'],infer_datetime_format=True)\n",
    "\n",
    "data_test=pd.read_csv('F:\\\\study\\\\ml\\\\DataSet\\\\Tap4fun\\\\tap_fun_test.csv',\n",
    "                      dtype=column_type,parse_dates=['register_time'],infer_datetime_format=True)"
   ]
  },
  {
   "cell_type": "code",
   "execution_count": 111,
   "metadata": {
    "ExecuteTime": {
     "end_time": "2018-09-20T02:52:02.947830Z",
     "start_time": "2018-09-20T02:52:02.633812Z"
    }
   },
   "outputs": [],
   "source": [
    "data_train.rename(columns={'treatment_acceleraion_add_value':'treatment_acceleration_add_value',\\\n",
    "                          'sr_rss_a_prod_levell':'sr_rss_a_prod_level'} ,inplace=True)\n",
    "\n",
    "data_test.rename(columns={'treatment_acceleraion_add_value':'treatment_acceleration_add_value',\\\n",
    "                          'sr_rss_a_prod_levell':'sr_rss_a_prod_level'} ,inplace=True)"
   ]
  },
  {
   "cell_type": "code",
   "execution_count": 112,
   "metadata": {
    "ExecuteTime": {
     "end_time": "2018-09-20T02:52:02.972831Z",
     "start_time": "2018-09-20T02:52:02.950830Z"
    }
   },
   "outputs": [
    {
     "data": {
      "text/html": [
       "<div>\n",
       "<style scoped>\n",
       "    .dataframe tbody tr th:only-of-type {\n",
       "        vertical-align: middle;\n",
       "    }\n",
       "\n",
       "    .dataframe tbody tr th {\n",
       "        vertical-align: top;\n",
       "    }\n",
       "\n",
       "    .dataframe thead th {\n",
       "        text-align: right;\n",
       "    }\n",
       "</style>\n",
       "<table border=\"1\" class=\"dataframe\">\n",
       "  <thead>\n",
       "    <tr style=\"text-align: right;\">\n",
       "      <th></th>\n",
       "      <th>user_id</th>\n",
       "      <th>register_time</th>\n",
       "      <th>wood_add_value</th>\n",
       "      <th>wood_reduce_value</th>\n",
       "      <th>stone_add_value</th>\n",
       "      <th>stone_reduce_value</th>\n",
       "      <th>ivory_add_value</th>\n",
       "      <th>ivory_reduce_value</th>\n",
       "      <th>meat_add_value</th>\n",
       "      <th>meat_reduce_value</th>\n",
       "      <th>...</th>\n",
       "      <th>pvp_battle_count</th>\n",
       "      <th>pvp_lanch_count</th>\n",
       "      <th>pvp_win_count</th>\n",
       "      <th>pve_battle_count</th>\n",
       "      <th>pve_lanch_count</th>\n",
       "      <th>pve_win_count</th>\n",
       "      <th>avg_online_minutes</th>\n",
       "      <th>pay_price</th>\n",
       "      <th>pay_count</th>\n",
       "      <th>prediction_pay_price</th>\n",
       "    </tr>\n",
       "  </thead>\n",
       "  <tbody>\n",
       "    <tr>\n",
       "      <th>0</th>\n",
       "      <td>1</td>\n",
       "      <td>2018-02-02 19:47:15</td>\n",
       "      <td>20125.0</td>\n",
       "      <td>3700.0</td>\n",
       "      <td>0.0</td>\n",
       "      <td>0.0</td>\n",
       "      <td>0.0</td>\n",
       "      <td>0.0</td>\n",
       "      <td>16375.0</td>\n",
       "      <td>2000.0</td>\n",
       "      <td>...</td>\n",
       "      <td>0</td>\n",
       "      <td>0</td>\n",
       "      <td>0</td>\n",
       "      <td>0</td>\n",
       "      <td>0</td>\n",
       "      <td>0</td>\n",
       "      <td>0.333333</td>\n",
       "      <td>0.0</td>\n",
       "      <td>0</td>\n",
       "      <td>0.0</td>\n",
       "    </tr>\n",
       "    <tr>\n",
       "      <th>1</th>\n",
       "      <td>1593</td>\n",
       "      <td>2018-01-26 00:01:05</td>\n",
       "      <td>0.0</td>\n",
       "      <td>0.0</td>\n",
       "      <td>0.0</td>\n",
       "      <td>0.0</td>\n",
       "      <td>0.0</td>\n",
       "      <td>0.0</td>\n",
       "      <td>0.0</td>\n",
       "      <td>0.0</td>\n",
       "      <td>...</td>\n",
       "      <td>0</td>\n",
       "      <td>0</td>\n",
       "      <td>0</td>\n",
       "      <td>0</td>\n",
       "      <td>0</td>\n",
       "      <td>0</td>\n",
       "      <td>0.333333</td>\n",
       "      <td>0.0</td>\n",
       "      <td>0</td>\n",
       "      <td>0.0</td>\n",
       "    </tr>\n",
       "    <tr>\n",
       "      <th>2</th>\n",
       "      <td>1594</td>\n",
       "      <td>2018-01-26 00:01:58</td>\n",
       "      <td>0.0</td>\n",
       "      <td>0.0</td>\n",
       "      <td>0.0</td>\n",
       "      <td>0.0</td>\n",
       "      <td>0.0</td>\n",
       "      <td>0.0</td>\n",
       "      <td>0.0</td>\n",
       "      <td>0.0</td>\n",
       "      <td>...</td>\n",
       "      <td>0</td>\n",
       "      <td>0</td>\n",
       "      <td>0</td>\n",
       "      <td>0</td>\n",
       "      <td>0</td>\n",
       "      <td>0</td>\n",
       "      <td>1.166667</td>\n",
       "      <td>0.0</td>\n",
       "      <td>0</td>\n",
       "      <td>0.0</td>\n",
       "    </tr>\n",
       "    <tr>\n",
       "      <th>3</th>\n",
       "      <td>1595</td>\n",
       "      <td>2018-01-26 00:02:13</td>\n",
       "      <td>0.0</td>\n",
       "      <td>0.0</td>\n",
       "      <td>0.0</td>\n",
       "      <td>0.0</td>\n",
       "      <td>0.0</td>\n",
       "      <td>0.0</td>\n",
       "      <td>0.0</td>\n",
       "      <td>0.0</td>\n",
       "      <td>...</td>\n",
       "      <td>0</td>\n",
       "      <td>0</td>\n",
       "      <td>0</td>\n",
       "      <td>0</td>\n",
       "      <td>0</td>\n",
       "      <td>0</td>\n",
       "      <td>3.166667</td>\n",
       "      <td>0.0</td>\n",
       "      <td>0</td>\n",
       "      <td>0.0</td>\n",
       "    </tr>\n",
       "    <tr>\n",
       "      <th>4</th>\n",
       "      <td>1596</td>\n",
       "      <td>2018-01-26 00:02:46</td>\n",
       "      <td>0.0</td>\n",
       "      <td>0.0</td>\n",
       "      <td>0.0</td>\n",
       "      <td>0.0</td>\n",
       "      <td>0.0</td>\n",
       "      <td>0.0</td>\n",
       "      <td>0.0</td>\n",
       "      <td>0.0</td>\n",
       "      <td>...</td>\n",
       "      <td>0</td>\n",
       "      <td>0</td>\n",
       "      <td>0</td>\n",
       "      <td>0</td>\n",
       "      <td>0</td>\n",
       "      <td>0</td>\n",
       "      <td>2.333333</td>\n",
       "      <td>0.0</td>\n",
       "      <td>0</td>\n",
       "      <td>0.0</td>\n",
       "    </tr>\n",
       "  </tbody>\n",
       "</table>\n",
       "<p>5 rows × 109 columns</p>\n",
       "</div>"
      ],
      "text/plain": [
       "   user_id       register_time  wood_add_value  wood_reduce_value  \\\n",
       "0        1 2018-02-02 19:47:15         20125.0             3700.0   \n",
       "1     1593 2018-01-26 00:01:05             0.0                0.0   \n",
       "2     1594 2018-01-26 00:01:58             0.0                0.0   \n",
       "3     1595 2018-01-26 00:02:13             0.0                0.0   \n",
       "4     1596 2018-01-26 00:02:46             0.0                0.0   \n",
       "\n",
       "   stone_add_value  stone_reduce_value  ivory_add_value  ivory_reduce_value  \\\n",
       "0              0.0                 0.0              0.0                 0.0   \n",
       "1              0.0                 0.0              0.0                 0.0   \n",
       "2              0.0                 0.0              0.0                 0.0   \n",
       "3              0.0                 0.0              0.0                 0.0   \n",
       "4              0.0                 0.0              0.0                 0.0   \n",
       "\n",
       "   meat_add_value  meat_reduce_value          ...           pvp_battle_count  \\\n",
       "0         16375.0             2000.0          ...                          0   \n",
       "1             0.0                0.0          ...                          0   \n",
       "2             0.0                0.0          ...                          0   \n",
       "3             0.0                0.0          ...                          0   \n",
       "4             0.0                0.0          ...                          0   \n",
       "\n",
       "   pvp_lanch_count  pvp_win_count  pve_battle_count  pve_lanch_count  \\\n",
       "0                0              0                 0                0   \n",
       "1                0              0                 0                0   \n",
       "2                0              0                 0                0   \n",
       "3                0              0                 0                0   \n",
       "4                0              0                 0                0   \n",
       "\n",
       "   pve_win_count  avg_online_minutes  pay_price  pay_count  \\\n",
       "0              0            0.333333        0.0          0   \n",
       "1              0            0.333333        0.0          0   \n",
       "2              0            1.166667        0.0          0   \n",
       "3              0            3.166667        0.0          0   \n",
       "4              0            2.333333        0.0          0   \n",
       "\n",
       "   prediction_pay_price  \n",
       "0                   0.0  \n",
       "1                   0.0  \n",
       "2                   0.0  \n",
       "3                   0.0  \n",
       "4                   0.0  \n",
       "\n",
       "[5 rows x 109 columns]"
      ]
     },
     "execution_count": 112,
     "metadata": {},
     "output_type": "execute_result"
    }
   ],
   "source": [
    "data_train.head()"
   ]
  },
  {
   "cell_type": "code",
   "execution_count": 113,
   "metadata": {
    "ExecuteTime": {
     "end_time": "2018-09-20T02:52:03.130840Z",
     "start_time": "2018-09-20T02:52:02.973831Z"
    }
   },
   "outputs": [
    {
     "data": {
      "text/html": [
       "<div>\n",
       "<style scoped>\n",
       "    .dataframe tbody tr th:only-of-type {\n",
       "        vertical-align: middle;\n",
       "    }\n",
       "\n",
       "    .dataframe tbody tr th {\n",
       "        vertical-align: top;\n",
       "    }\n",
       "\n",
       "    .dataframe thead th {\n",
       "        text-align: right;\n",
       "    }\n",
       "</style>\n",
       "<table border=\"1\" class=\"dataframe\">\n",
       "  <thead>\n",
       "    <tr style=\"text-align: right;\">\n",
       "      <th></th>\n",
       "      <th>user_id</th>\n",
       "      <th>register_time</th>\n",
       "      <th>wood_add_value</th>\n",
       "      <th>wood_reduce_value</th>\n",
       "      <th>stone_add_value</th>\n",
       "      <th>stone_reduce_value</th>\n",
       "      <th>ivory_add_value</th>\n",
       "      <th>ivory_reduce_value</th>\n",
       "      <th>meat_add_value</th>\n",
       "      <th>meat_reduce_value</th>\n",
       "      <th>...</th>\n",
       "      <th>sr_rss_help_bonus_level</th>\n",
       "      <th>pvp_battle_count</th>\n",
       "      <th>pvp_lanch_count</th>\n",
       "      <th>pvp_win_count</th>\n",
       "      <th>pve_battle_count</th>\n",
       "      <th>pve_lanch_count</th>\n",
       "      <th>pve_win_count</th>\n",
       "      <th>avg_online_minutes</th>\n",
       "      <th>pay_price</th>\n",
       "      <th>pay_count</th>\n",
       "    </tr>\n",
       "  </thead>\n",
       "  <tbody>\n",
       "    <tr>\n",
       "      <th>0</th>\n",
       "      <td>14933</td>\n",
       "      <td>2018-03-08 20:27:57</td>\n",
       "      <td>166415.0</td>\n",
       "      <td>138362.0</td>\n",
       "      <td>0.0</td>\n",
       "      <td>0.0</td>\n",
       "      <td>0.0</td>\n",
       "      <td>0.0</td>\n",
       "      <td>258522.0</td>\n",
       "      <td>90142.0</td>\n",
       "      <td>...</td>\n",
       "      <td>0</td>\n",
       "      <td>0</td>\n",
       "      <td>0</td>\n",
       "      <td>0</td>\n",
       "      <td>1</td>\n",
       "      <td>1</td>\n",
       "      <td>1</td>\n",
       "      <td>8.000000</td>\n",
       "      <td>0.0</td>\n",
       "      <td>0</td>\n",
       "    </tr>\n",
       "    <tr>\n",
       "      <th>1</th>\n",
       "      <td>14934</td>\n",
       "      <td>2018-03-08 20:29:42</td>\n",
       "      <td>10000.0</td>\n",
       "      <td>600.0</td>\n",
       "      <td>0.0</td>\n",
       "      <td>0.0</td>\n",
       "      <td>0.0</td>\n",
       "      <td>0.0</td>\n",
       "      <td>10000.0</td>\n",
       "      <td>400.0</td>\n",
       "      <td>...</td>\n",
       "      <td>0</td>\n",
       "      <td>0</td>\n",
       "      <td>0</td>\n",
       "      <td>0</td>\n",
       "      <td>0</td>\n",
       "      <td>0</td>\n",
       "      <td>0</td>\n",
       "      <td>0.166667</td>\n",
       "      <td>0.0</td>\n",
       "      <td>0</td>\n",
       "    </tr>\n",
       "    <tr>\n",
       "      <th>2</th>\n",
       "      <td>14935</td>\n",
       "      <td>2018-03-08 20:30:13</td>\n",
       "      <td>10000.0</td>\n",
       "      <td>3700.0</td>\n",
       "      <td>0.0</td>\n",
       "      <td>0.0</td>\n",
       "      <td>0.0</td>\n",
       "      <td>0.0</td>\n",
       "      <td>10000.0</td>\n",
       "      <td>2000.0</td>\n",
       "      <td>...</td>\n",
       "      <td>0</td>\n",
       "      <td>0</td>\n",
       "      <td>0</td>\n",
       "      <td>0</td>\n",
       "      <td>0</td>\n",
       "      <td>0</td>\n",
       "      <td>0</td>\n",
       "      <td>17.000000</td>\n",
       "      <td>0.0</td>\n",
       "      <td>0</td>\n",
       "    </tr>\n",
       "    <tr>\n",
       "      <th>3</th>\n",
       "      <td>14936</td>\n",
       "      <td>2018-03-08 20:31:41</td>\n",
       "      <td>210000.0</td>\n",
       "      <td>0.0</td>\n",
       "      <td>200000.0</td>\n",
       "      <td>0.0</td>\n",
       "      <td>200000.0</td>\n",
       "      <td>0.0</td>\n",
       "      <td>610000.0</td>\n",
       "      <td>0.0</td>\n",
       "      <td>...</td>\n",
       "      <td>0</td>\n",
       "      <td>0</td>\n",
       "      <td>0</td>\n",
       "      <td>0</td>\n",
       "      <td>0</td>\n",
       "      <td>0</td>\n",
       "      <td>0</td>\n",
       "      <td>1.666667</td>\n",
       "      <td>0.0</td>\n",
       "      <td>0</td>\n",
       "    </tr>\n",
       "    <tr>\n",
       "      <th>4</th>\n",
       "      <td>14937</td>\n",
       "      <td>2018-03-08 20:32:07</td>\n",
       "      <td>11500.0</td>\n",
       "      <td>3700.0</td>\n",
       "      <td>0.0</td>\n",
       "      <td>0.0</td>\n",
       "      <td>0.0</td>\n",
       "      <td>0.0</td>\n",
       "      <td>11000.0</td>\n",
       "      <td>2000.0</td>\n",
       "      <td>...</td>\n",
       "      <td>0</td>\n",
       "      <td>0</td>\n",
       "      <td>0</td>\n",
       "      <td>0</td>\n",
       "      <td>0</td>\n",
       "      <td>0</td>\n",
       "      <td>0</td>\n",
       "      <td>0.333333</td>\n",
       "      <td>0.0</td>\n",
       "      <td>0</td>\n",
       "    </tr>\n",
       "  </tbody>\n",
       "</table>\n",
       "<p>5 rows × 108 columns</p>\n",
       "</div>"
      ],
      "text/plain": [
       "   user_id       register_time  wood_add_value  wood_reduce_value  \\\n",
       "0    14933 2018-03-08 20:27:57        166415.0           138362.0   \n",
       "1    14934 2018-03-08 20:29:42         10000.0              600.0   \n",
       "2    14935 2018-03-08 20:30:13         10000.0             3700.0   \n",
       "3    14936 2018-03-08 20:31:41        210000.0                0.0   \n",
       "4    14937 2018-03-08 20:32:07         11500.0             3700.0   \n",
       "\n",
       "   stone_add_value  stone_reduce_value  ivory_add_value  ivory_reduce_value  \\\n",
       "0              0.0                 0.0              0.0                 0.0   \n",
       "1              0.0                 0.0              0.0                 0.0   \n",
       "2              0.0                 0.0              0.0                 0.0   \n",
       "3         200000.0                 0.0         200000.0                 0.0   \n",
       "4              0.0                 0.0              0.0                 0.0   \n",
       "\n",
       "   meat_add_value  meat_reduce_value    ...      sr_rss_help_bonus_level  \\\n",
       "0        258522.0            90142.0    ...                            0   \n",
       "1         10000.0              400.0    ...                            0   \n",
       "2         10000.0             2000.0    ...                            0   \n",
       "3        610000.0                0.0    ...                            0   \n",
       "4         11000.0             2000.0    ...                            0   \n",
       "\n",
       "   pvp_battle_count  pvp_lanch_count  pvp_win_count  pve_battle_count  \\\n",
       "0                 0                0              0                 1   \n",
       "1                 0                0              0                 0   \n",
       "2                 0                0              0                 0   \n",
       "3                 0                0              0                 0   \n",
       "4                 0                0              0                 0   \n",
       "\n",
       "   pve_lanch_count  pve_win_count  avg_online_minutes  pay_price  pay_count  \n",
       "0                1              1            8.000000        0.0          0  \n",
       "1                0              0            0.166667        0.0          0  \n",
       "2                0              0           17.000000        0.0          0  \n",
       "3                0              0            1.666667        0.0          0  \n",
       "4                0              0            0.333333        0.0          0  \n",
       "\n",
       "[5 rows x 108 columns]"
      ]
     },
     "execution_count": 113,
     "metadata": {},
     "output_type": "execute_result"
    }
   ],
   "source": [
    "data_test.head()"
   ]
  },
  {
   "cell_type": "code",
   "execution_count": 114,
   "metadata": {
    "ExecuteTime": {
     "end_time": "2018-09-20T02:52:03.310851Z",
     "start_time": "2018-09-20T02:52:03.132840Z"
    }
   },
   "outputs": [
    {
     "name": "stdout",
     "output_type": "stream",
     "text": [
      "<class 'pandas.core.frame.DataFrame'>\n",
      "RangeIndex: 2288007 entries, 0 to 2288006\n",
      "Columns: 109 entries, user_id to prediction_pay_price\n",
      "dtypes: datetime64[ns](1), float32(13), uint16(8), uint32(21), uint8(66)\n",
      "memory usage: 493.1 MB\n"
     ]
    }
   ],
   "source": [
    "data_train.info(memory_usage='deep')"
   ]
  },
  {
   "cell_type": "code",
   "execution_count": 115,
   "metadata": {
    "ExecuteTime": {
     "end_time": "2018-09-20T02:52:03.393855Z",
     "start_time": "2018-09-20T02:52:03.311851Z"
    }
   },
   "outputs": [
    {
     "name": "stdout",
     "output_type": "stream",
     "text": [
      "<class 'pandas.core.frame.DataFrame'>\n",
      "RangeIndex: 828934 entries, 0 to 828933\n",
      "Columns: 108 entries, user_id to pay_count\n",
      "dtypes: datetime64[ns](1), float32(12), uint16(8), uint32(21), uint8(66)\n",
      "memory usage: 175.5 MB\n"
     ]
    }
   ],
   "source": [
    "data_test.info(memory_usage='deep')"
   ]
  },
  {
   "cell_type": "code",
   "execution_count": 140,
   "metadata": {
    "ExecuteTime": {
     "end_time": "2018-09-20T07:34:43.155074Z",
     "start_time": "2018-09-20T07:34:42.398030Z"
    }
   },
   "outputs": [],
   "source": [
    "# data_label=data_train['prediction_pay_price']\n",
    "# data_train2=data_train.drop(labels=['user_id','register_time'],axis=1)\n",
    "# data_test2=data_test.drop(labels=['user_id','register_time'],axis=1)\n",
    "\n",
    "data_train2=data_train.drop(labels=['register_time'],axis=1)\n",
    "data_test2=data_test.drop(labels=['register_time'],axis=1)"
   ]
  },
  {
   "cell_type": "code",
   "execution_count": null,
   "metadata": {},
   "outputs": [],
   "source": []
  },
  {
   "cell_type": "code",
   "execution_count": 171,
   "metadata": {
    "ExecuteTime": {
     "end_time": "2018-09-20T07:53:02.275940Z",
     "start_time": "2018-09-20T07:53:02.152933Z"
    }
   },
   "outputs": [],
   "source": [
    "train_7pay=data_train2[data_train2['pay_price']>0].copy()\n",
    "test_7pay=data_test2[data_test2['pay_price']>0].copy()\n",
    "\n"
   ]
  },
  {
   "cell_type": "code",
   "execution_count": 172,
   "metadata": {
    "ExecuteTime": {
     "end_time": "2018-09-20T07:53:03.419005Z",
     "start_time": "2018-09-20T07:53:03.414005Z"
    }
   },
   "outputs": [],
   "source": [
    "# plt.scatter(train_7pay.ivory_reduce_value,train_7pay.prediction_pay_price)\n",
    "# plt.show()"
   ]
  },
  {
   "cell_type": "code",
   "execution_count": 173,
   "metadata": {
    "ExecuteTime": {
     "end_time": "2018-09-20T07:53:04.348058Z",
     "start_time": "2018-09-20T07:53:04.334058Z"
    },
    "scrolled": true
   },
   "outputs": [],
   "source": [
    "# train_7pay[(train_7pay['pay_price']<5)]['prediction_pay_price'].describe()\n",
    "\n",
    "# data_train2[data_train2['pay_price']>3].shape \n",
    "\n",
    "# data_train2[(data_train2['pay_price']>5)].shape\n",
    "\n",
    "# data_train2[ (data_train2.prediction_pay_price > 5)].shape\n",
    "\n",
    "# data_train2[(data_train2['pay_price']>5) & (data_train2.prediction_pay_price > 5)].shape\n",
    "\n",
    "# data_train2[(data_train2['pay_price']>2) & (data_train2.prediction_pay_price > 5)].shape\n",
    "\n",
    "# ppp=train_7pay[train_7pay.prediction_pay_price > 5]['prediction_pay_price']\n",
    "# pp=train_7pay[train_7pay.pay_price > 5]['prediction_pay_price']\n",
    "# plt.subplot(1,2,1)\n",
    "# sns.distplot(np.log(np.log(pp)),kde=False,fit=norm)\n",
    "# plt.subplot(1,2,2)\n",
    "# sns.distplot(np.log(np.log(ppp)),kde=False,fit=norm)\n",
    "# plt.show()"
   ]
  },
  {
   "cell_type": "code",
   "execution_count": 174,
   "metadata": {
    "ExecuteTime": {
     "end_time": "2018-09-20T07:53:04.987095Z",
     "start_time": "2018-09-20T07:53:04.981095Z"
    }
   },
   "outputs": [],
   "source": [
    "# plt.scatter(train_7pay.pay_price,train_7pay.prediction_pay_price)\n",
    "# plt.show()"
   ]
  },
  {
   "cell_type": "code",
   "execution_count": 175,
   "metadata": {
    "ExecuteTime": {
     "end_time": "2018-09-20T07:53:08.958322Z",
     "start_time": "2018-09-20T07:53:08.622303Z"
    }
   },
   "outputs": [
    {
     "data": {
      "image/png": "[encoded data removed]",
      "text/plain": [
       "<matplotlib.figure.Figure at 0x13c6dfd0>"
      ]
     },
     "metadata": {},
     "output_type": "display_data"
    }
   ],
   "source": [
    "plt.subplot(1,2,1)\n",
    "sns.distplot(train_7pay.prediction_pay_price,kde=False,fit=norm)\n",
    "\n",
    "plt.subplot(122)\n",
    "sns.distplot(np.log(train_7pay.prediction_pay_price),kde=True,fit=norm)\n",
    "plt.show()"
   ]
  },
  {
   "cell_type": "code",
   "execution_count": null,
   "metadata": {},
   "outputs": [],
   "source": []
  },
  {
   "cell_type": "code",
   "execution_count": 176,
   "metadata": {
    "ExecuteTime": {
     "end_time": "2018-09-20T07:53:12.578529Z",
     "start_time": "2018-09-20T07:53:12.572529Z"
    }
   },
   "outputs": [],
   "source": [
    "# train_7pay['prediction_pay_price']=np.log(train_7pay.prediction_pay_price)"
   ]
  },
  {
   "cell_type": "code",
   "execution_count": 177,
   "metadata": {
    "ExecuteTime": {
     "end_time": "2018-09-20T07:53:13.176563Z",
     "start_time": "2018-09-20T07:53:13.157562Z"
    }
   },
   "outputs": [
    {
     "name": "stdout",
     "output_type": "stream",
     "text": [
      "<class 'pandas.core.frame.DataFrame'>\n",
      "Int64Index: 41439 entries, 25 to 2287984\n",
      "Columns: 108 entries, user_id to prediction_pay_price\n",
      "dtypes: float32(13), uint16(8), uint32(21), uint8(66)\n",
      "memory usage: 8.9 MB\n"
     ]
    }
   ],
   "source": [
    "train_7pay.info(memory_usage='deep')"
   ]
  },
  {
   "cell_type": "code",
   "execution_count": 178,
   "metadata": {
    "ExecuteTime": {
     "end_time": "2018-09-20T07:53:17.694822Z",
     "start_time": "2018-09-20T07:53:17.655820Z"
    }
   },
   "outputs": [],
   "source": [
    "train_7pay_y=train_7pay.prediction_pay_price\n",
    "train_7pay_X=train_7pay.drop(labels=['prediction_pay_price','user_id'],axis=1)\n",
    "train_7pay_user_id=train_7pay.user_id\n",
    "test_7pay_X=test_7pay.drop(labels=['user_id'],axis=1)\n",
    "test_7pay_user_id=test_7pay.user_id\n",
    "\n"
   ]
  },
  {
   "cell_type": "code",
   "execution_count": 179,
   "metadata": {
    "ExecuteTime": {
     "end_time": "2018-09-20T07:53:20.853002Z",
     "start_time": "2018-09-20T07:53:20.845002Z"
    }
   },
   "outputs": [],
   "source": [
    "from scipy.special import boxcox1p\n",
    "from scipy.stats import boxcox_normmax"
   ]
  },
  {
   "cell_type": "code",
   "execution_count": null,
   "metadata": {},
   "outputs": [],
   "source": []
  },
  {
   "cell_type": "code",
   "execution_count": null,
   "metadata": {},
   "outputs": [],
   "source": []
  },
  {
   "cell_type": "code",
   "execution_count": null,
   "metadata": {},
   "outputs": [],
   "source": []
  },
  {
   "cell_type": "code",
   "execution_count": null,
   "metadata": {},
   "outputs": [],
   "source": []
  },
  {
   "cell_type": "code",
   "execution_count": null,
   "metadata": {},
   "outputs": [],
   "source": []
  },
  {
   "cell_type": "code",
   "execution_count": 180,
   "metadata": {
    "ExecuteTime": {
     "end_time": "2018-09-20T07:53:34.521784Z",
     "start_time": "2018-09-20T07:53:24.030184Z"
    }
   },
   "outputs": [
    {
     "name": "stderr",
     "output_type": "stream",
     "text": [
      "D:\\ProgramData\\Anaconda3\\lib\\site-packages\\scipy\\stats\\stats.py:5616: RuntimeWarning: overflow encountered in multiply\n",
      "  return np.sum(a*a, axis)\n"
     ]
    },
    {
     "data": {
      "text/html": [
       "<div>\n",
       "<style scoped>\n",
       "    .dataframe tbody tr th:only-of-type {\n",
       "        vertical-align: middle;\n",
       "    }\n",
       "\n",
       "    .dataframe tbody tr th {\n",
       "        vertical-align: top;\n",
       "    }\n",
       "\n",
       "    .dataframe thead th {\n",
       "        text-align: right;\n",
       "    }\n",
       "</style>\n",
       "<table border=\"1\" class=\"dataframe\">\n",
       "  <thead>\n",
       "    <tr style=\"text-align: right;\">\n",
       "      <th></th>\n",
       "      <th>skew</th>\n",
       "    </tr>\n",
       "  </thead>\n",
       "  <tbody>\n",
       "    <tr>\n",
       "      <th>sr_rss_help_bonus_level</th>\n",
       "      <td>80.705226</td>\n",
       "    </tr>\n",
       "    <tr>\n",
       "      <th>sr_guest_troop_capacity_level</th>\n",
       "      <td>80.705226</td>\n",
       "    </tr>\n",
       "    <tr>\n",
       "      <th>sr_march_size_level</th>\n",
       "      <td>52.917479</td>\n",
       "    </tr>\n",
       "    <tr>\n",
       "      <th>sr_troop_attack_level</th>\n",
       "      <td>52.893436</td>\n",
       "    </tr>\n",
       "    <tr>\n",
       "      <th>sr_outpost_tier_4_level</th>\n",
       "      <td>49.402686</td>\n",
       "    </tr>\n",
       "  </tbody>\n",
       "</table>\n",
       "</div>"
      ],
      "text/plain": [
       "                                    skew\n",
       "sr_rss_help_bonus_level        80.705226\n",
       "sr_guest_troop_capacity_level  80.705226\n",
       "sr_march_size_level            52.917479\n",
       "sr_troop_attack_level          52.893436\n",
       "sr_outpost_tier_4_level        49.402686"
      ]
     },
     "execution_count": 180,
     "metadata": {},
     "output_type": "execute_result"
    }
   ],
   "source": [
    "numeric_dtypes=['uint8','uint16','uint32','uint64','float32']\n",
    "numeric2=[]\n",
    "for i in train_7pay_X.columns:\n",
    "    if (train_7pay_X[i].dtype in numeric_dtypes) & ( i != 'user_id') :#& (i != 'prediction_pay_price'):\n",
    "        numeric2.append(i)\n",
    "len(numeric2)\n",
    "\n",
    "numeric_dtypes=['uint8','uint16','uint32','uint64','float16','float32','float64']\n",
    "numeric2=[]\n",
    "for i in train_7pay_X.columns:\n",
    "    if (train_7pay_X[i].dtype in numeric_dtypes) & ( i != 'user_id')  :#& (i != 'prediction_pay_price'):\n",
    "        numeric2.append(i)\n",
    "skew_train_7pay_X=train_7pay_X[numeric2].apply(lambda x:skew(x)).sort_values(ascending=False)\n",
    "skews=pd.DataFrame({'skew':skew_train_7pay_X})\n",
    "skews.head()\n",
    "\n",
    "numeric_dtypes=['uint8','uint16','uint32','uint64','float16','float32','float64']\n",
    "numeric22=[]\n",
    "for i in test_7pay.columns:\n",
    "    if (test_7pay[i].dtype in numeric_dtypes) & ( i != 'user_id') : #& (i != 'prediction_pay_price'):\n",
    "        numeric22.append(i)\n",
    "skew_test_7pay=test_7pay[numeric22].apply(lambda x:skew(x)).sort_values(ascending=False)\n",
    "skews22=pd.DataFrame({'skew':skew_test_7pay})\n",
    "skews22.head()\n",
    "\n",
    "high_skew=skew_train_7pay_X[skew_train_7pay_X>0.5]\n",
    "high_skew=high_skew\n",
    "skew_index=high_skew.index\n",
    "\n",
    "for i in skew_index:\n",
    "    train_7pay[i]=boxcox1p(train_7pay[i],boxcox_normmax(train_7pay[i]+1))\n",
    "skew_train_7pay2_X=train_7pay[numeric2].apply(lambda x:skew(x)).sort_values(ascending=False)\n",
    "skew2=pd.DataFrame({'skew':skew_train_7pay2_X})\n",
    "skew2.head()\n",
    "\n",
    "high_skew22=skew_test_7pay[skew_test_7pay>0.5]\n",
    "high_skew22=high_skew22\n",
    "skew_index22=high_skew22.index\n",
    "\n",
    "for i in skew_index22:\n",
    "    test_7pay[i]=boxcox1p(test_7pay[i],boxcox_normmax(test_7pay[i]+1))\n",
    "skew_test_7pay22=test_7pay[numeric22].apply(lambda x:skew(x)).sort_values(ascending=False)\n",
    "skew22=pd.DataFrame({'skew':skew_test_7pay22})\n",
    "skew22.head()\n",
    "\n",
    "\n",
    "\n",
    "\n",
    "\n",
    "\n",
    "\n"
   ]
  },
  {
   "cell_type": "code",
   "execution_count": 188,
   "metadata": {
    "ExecuteTime": {
     "end_time": "2018-09-20T07:56:16.339040Z",
     "start_time": "2018-09-20T07:55:47.447387Z"
    }
   },
   "outputs": [
    {
     "data": {
      "text/plain": [
       "1.0022030936732138"
      ]
     },
     "execution_count": 188,
     "metadata": {},
     "output_type": "execute_result"
    }
   ],
   "source": [
    "X=train_7pay_X\n",
    "y=np.log1p(train_7pay_y)\n",
    "X.replace([np.inf,-np.inf],np.nan,inplace=True)\n",
    "X.fillna(0.0,inplace=True)\n",
    "from sklearn.model_selection import cross_val_score,KFold\n",
    "from sklearn.linear_model import LinearRegression,RidgeCV,LassoCV,ElasticNetCV\n",
    "from sklearn.preprocessing import RobustScaler\n",
    "from sklearn.pipeline import make_pipeline\n",
    "\n",
    "kfolds=KFold(n_splits=10,shuffle=False,random_state=13)\n",
    "\n",
    "\n",
    "def cv_rmse(model):\n",
    "    rmse=np.sqrt(-cross_val_score(model,X,y,scoring='neg_mean_squared_error',cv=kfolds))\n",
    "    return rmse\n",
    "\n",
    "lm = LinearRegression()\n",
    "\n",
    "benchmark_model=make_pipeline(RobustScaler(),\n",
    "                             lm).fit(X,y)\n",
    "\n",
    "cv_rmse(benchmark_model).mean()\n",
    "\n",
    "X=train_7pay_X\n",
    "X['user_id']=train_7pay_user_id\n",
    "y=np.log1p(train_7pay_y)#train_7pay_y_bp\n",
    "X.replace([np.inf,-np.inf],np.nan,inplace=True)\n",
    "X.fillna(0.0,inplace=True)\n",
    "\n",
    "from sklearn.model_selection  import train_test_split\n",
    "X1,val_X1,y1,val_y1=train_test_split(X,y,test_size=0.2,random_state=17)\n",
    "X2=X1.drop(labels='user_id',axis=1)\n",
    "val_X2=val_X1.drop(labels='user_id',axis=1)\n",
    "X2_user_id=X1.user_id\n",
    "val_X2_user_id=val_X1.user_id\n",
    "\n",
    "kfolds2=KFold(n_splits=3,shuffle=True,random_state=29)\n",
    "\n",
    "def cv_rmse2(model):\n",
    "    rmse=np.sqrt(-cross_val_score(model,X2,y1,scoring='neg_mean_squared_error',cv=kfolds2))\n",
    "    return rmse\n",
    "\n",
    "r_alphas = [.0001, .0003, .0005, .0007, .0009, \n",
    "          .01, 0.05, 0.1, 0.3, 1, 3, 5, 10, 15, 20, 30, 50, 60, 70, 80]\n",
    "ridge_model2=make_pipeline(RobustScaler(),\n",
    "                         RidgeCV(alphas=r_alphas,cv=kfolds2)).fit(X2,y1)\n",
    "cv_rmse2(ridge_model2).mean()"
   ]
  },
  {
   "cell_type": "code",
   "execution_count": 189,
   "metadata": {
    "ExecuteTime": {
     "end_time": "2018-09-20T07:56:16.343040Z",
     "start_time": "2018-09-20T07:56:16.340040Z"
    }
   },
   "outputs": [],
   "source": [
    "def anti_boxcox(x,la):\n",
    "    return np.power((la * x + 1),1/la)-1"
   ]
  },
  {
   "cell_type": "code",
   "execution_count": 190,
   "metadata": {
    "ExecuteTime": {
     "end_time": "2018-09-20T07:56:25.423559Z",
     "start_time": "2018-09-20T07:56:25.094540Z"
    }
   },
   "outputs": [
    {
     "data": {
      "text/html": [
       "<div>\n",
       "<style scoped>\n",
       "    .dataframe tbody tr th:only-of-type {\n",
       "        vertical-align: middle;\n",
       "    }\n",
       "\n",
       "    .dataframe tbody tr th {\n",
       "        vertical-align: top;\n",
       "    }\n",
       "\n",
       "    .dataframe thead th {\n",
       "        text-align: right;\n",
       "    }\n",
       "</style>\n",
       "<table border=\"1\" class=\"dataframe\">\n",
       "  <thead>\n",
       "    <tr style=\"text-align: right;\">\n",
       "      <th></th>\n",
       "      <th>val_y1</th>\n",
       "      <th>pred_y1</th>\n",
       "      <th>user_id</th>\n",
       "    </tr>\n",
       "  </thead>\n",
       "  <tbody>\n",
       "    <tr>\n",
       "      <th>0</th>\n",
       "      <td>46.880001</td>\n",
       "      <td>87.691955</td>\n",
       "      <td>2558880</td>\n",
       "    </tr>\n",
       "    <tr>\n",
       "      <th>1</th>\n",
       "      <td>6.970000</td>\n",
       "      <td>4.011997</td>\n",
       "      <td>1486362</td>\n",
       "    </tr>\n",
       "    <tr>\n",
       "      <th>2</th>\n",
       "      <td>0.990000</td>\n",
       "      <td>2.742729</td>\n",
       "      <td>243845</td>\n",
       "    </tr>\n",
       "    <tr>\n",
       "      <th>3</th>\n",
       "      <td>2.980000</td>\n",
       "      <td>4.767149</td>\n",
       "      <td>873606</td>\n",
       "    </tr>\n",
       "    <tr>\n",
       "      <th>4</th>\n",
       "      <td>22.940001</td>\n",
       "      <td>7.415014</td>\n",
       "      <td>733979</td>\n",
       "    </tr>\n",
       "  </tbody>\n",
       "</table>\n",
       "</div>"
      ],
      "text/plain": [
       "      val_y1    pred_y1  user_id\n",
       "0  46.880001  87.691955  2558880\n",
       "1   6.970000   4.011997  1486362\n",
       "2   0.990000   2.742729   243845\n",
       "3   2.980000   4.767149   873606\n",
       "4  22.940001   7.415014   733979"
      ]
     },
     "execution_count": 190,
     "metadata": {},
     "output_type": "execute_result"
    }
   ],
   "source": [
    "r_pred=ridge_model2.predict(val_X2)\n",
    "val_y1_org=np.expm1(val_y1)\n",
    "r_pred_org=np.expm1(r_pred)\n",
    "\n",
    "# val_y1_org=anti_boxcox(val_y1,lp)\n",
    "\n",
    "from sklearn.metrics import mean_squared_error\n",
    "\n",
    "\n",
    "# np.sqrt(mean_squared_error(val_y1_org,r_pred_org))\n",
    "\n",
    "\n",
    "\n",
    "r_result=pd.DataFrame(list(zip(val_y1_org,r_pred_org)),columns=['val_y1','pred_y1'])\n",
    "\n",
    "r_result['user_id']=val_X2_user_id.values\n",
    "\n",
    "r_result.head()\n"
   ]
  },
  {
   "cell_type": "code",
   "execution_count": 191,
   "metadata": {
    "ExecuteTime": {
     "end_time": "2018-09-20T07:56:32.224948Z",
     "start_time": "2018-09-20T07:56:32.198947Z"
    }
   },
   "outputs": [
    {
     "data": {
      "text/html": [
       "<div>\n",
       "<style scoped>\n",
       "    .dataframe tbody tr th:only-of-type {\n",
       "        vertical-align: middle;\n",
       "    }\n",
       "\n",
       "    .dataframe tbody tr th {\n",
       "        vertical-align: top;\n",
       "    }\n",
       "\n",
       "    .dataframe thead th {\n",
       "        text-align: right;\n",
       "    }\n",
       "</style>\n",
       "<table border=\"1\" class=\"dataframe\">\n",
       "  <thead>\n",
       "    <tr style=\"text-align: right;\">\n",
       "      <th></th>\n",
       "      <th>val_y1</th>\n",
       "      <th>pred_y1</th>\n",
       "      <th>user_id</th>\n",
       "    </tr>\n",
       "  </thead>\n",
       "  <tbody>\n",
       "    <tr>\n",
       "      <th>432</th>\n",
       "      <td>5474.917969</td>\n",
       "      <td>245.325052</td>\n",
       "      <td>1483023</td>\n",
       "    </tr>\n",
       "    <tr>\n",
       "      <th>598</th>\n",
       "      <td>6405.980469</td>\n",
       "      <td>63.451364</td>\n",
       "      <td>2713572</td>\n",
       "    </tr>\n",
       "    <tr>\n",
       "      <th>707</th>\n",
       "      <td>4774.260254</td>\n",
       "      <td>634.271381</td>\n",
       "      <td>282568</td>\n",
       "    </tr>\n",
       "    <tr>\n",
       "      <th>803</th>\n",
       "      <td>3623.168701</td>\n",
       "      <td>83217.470263</td>\n",
       "      <td>2342067</td>\n",
       "    </tr>\n",
       "    <tr>\n",
       "      <th>951</th>\n",
       "      <td>7671.870117</td>\n",
       "      <td>2804.201178</td>\n",
       "      <td>923135</td>\n",
       "    </tr>\n",
       "  </tbody>\n",
       "</table>\n",
       "</div>"
      ],
      "text/plain": [
       "          val_y1       pred_y1  user_id\n",
       "432  5474.917969    245.325052  1483023\n",
       "598  6405.980469     63.451364  2713572\n",
       "707  4774.260254    634.271381   282568\n",
       "803  3623.168701  83217.470263  2342067\n",
       "951  7671.870117   2804.201178   923135"
      ]
     },
     "execution_count": 191,
     "metadata": {},
     "output_type": "execute_result"
    }
   ],
   "source": [
    "r_result[r_result.val_y1 > 3000].head()"
   ]
  },
  {
   "cell_type": "code",
   "execution_count": 192,
   "metadata": {
    "ExecuteTime": {
     "end_time": "2018-09-20T07:56:33.040995Z",
     "start_time": "2018-09-20T07:56:33.028994Z"
    }
   },
   "outputs": [
    {
     "data": {
      "text/plain": [
       "1160367094.6821048"
      ]
     },
     "execution_count": 192,
     "metadata": {},
     "output_type": "execute_result"
    }
   ],
   "source": [
    "np.sqrt(mean_squared_error(val_y1_org,r_pred_org))"
   ]
  },
  {
   "cell_type": "code",
   "execution_count": 187,
   "metadata": {
    "ExecuteTime": {
     "end_time": "2018-09-20T07:54:28.104849Z",
     "start_time": "2018-09-20T07:54:28.090848Z"
    }
   },
   "outputs": [
    {
     "data": {
      "text/plain": [
       "653502520.304153"
      ]
     },
     "execution_count": 187,
     "metadata": {},
     "output_type": "execute_result"
    }
   ],
   "source": [
    "np.power((np.power((r_result['val_y1'] - r_result['pred_y1']),2).sum() / r_result.shape[0]),1/2)"
   ]
  },
  {
   "cell_type": "code",
   "execution_count": null,
   "metadata": {},
   "outputs": [],
   "source": []
  }
 ],
 "metadata": {
  "kernelspec": {
   "display_name": "Python 3",
   "language": "python",
   "name": "python3"
  },
  "language_info": {
   "codemirror_mode": {
    "name": "ipython",
    "version": 3
   },
   "file_extension": ".py",
   "mimetype": "text/x-python",
   "name": "python",
   "nbconvert_exporter": "python",
   "pygments_lexer": "ipython3",
   "version": "3.6.3"
  }
 },
 "nbformat": 4,
 "nbformat_minor": 2
}
