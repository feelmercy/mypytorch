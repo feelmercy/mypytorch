{
 "cells": [
  {
   "cell_type": "code",
   "execution_count": 1,
   "metadata": {
    "ExecuteTime": {
     "end_time": "2018-08-17T07:55:56.218489Z",
     "start_time": "2018-08-17T07:55:52.618283Z"
    }
   },
   "outputs": [],
   "source": [
    "import numpy as np\n",
    "import pandas as pd"
   ]
  },
  {
   "cell_type": "code",
   "execution_count": 2,
   "metadata": {
    "ExecuteTime": {
     "end_time": "2018-08-17T07:56:21.602941Z",
     "start_time": "2018-08-17T07:55:56.219489Z"
    }
   },
   "outputs": [],
   "source": [
    "df_train=pd.read_csv('F:\\\\study\\\\ml\\\\DataSet\\\\Tap4fun\\\\tap_fun_train.csv')"
   ]
  },
  {
   "cell_type": "code",
   "execution_count": 3,
   "metadata": {
    "ExecuteTime": {
     "end_time": "2018-08-17T07:56:21.804953Z",
     "start_time": "2018-08-17T07:56:21.604941Z"
    }
   },
   "outputs": [
    {
     "name": "stdout",
     "output_type": "stream",
     "text": [
      "<class 'pandas.core.frame.DataFrame'>\n",
      "RangeIndex: 2288007 entries, 0 to 2288006\n",
      "Columns: 109 entries, user_id to prediction_pay_price\n",
      "dtypes: float64(13), int64(95), object(1)\n",
      "memory usage: 2.0 GB\n"
     ]
    }
   ],
   "source": [
    "df_train.info(memory_usage='deep')"
   ]
  },
  {
   "cell_type": "code",
   "execution_count": 4,
   "metadata": {
    "ExecuteTime": {
     "end_time": "2018-08-17T07:56:34.694690Z",
     "start_time": "2018-08-17T07:56:21.805953Z"
    }
   },
   "outputs": [],
   "source": [
    "c_int=df_train.select_dtypes(include=['int64']).apply(pd.to_numeric,downcast='unsigned')\n",
    "c_float=df_train.select_dtypes(include=['float']).apply(pd.to_numeric,downcast='float')\n"
   ]
  },
  {
   "cell_type": "code",
   "execution_count": 5,
   "metadata": {
    "ExecuteTime": {
     "end_time": "2018-08-17T07:56:35.019709Z",
     "start_time": "2018-08-17T07:56:34.696690Z"
    }
   },
   "outputs": [],
   "source": [
    "o_df=pd.concat([c_int,c_float],axis=1)"
   ]
  },
  {
   "cell_type": "code",
   "execution_count": 6,
   "metadata": {
    "ExecuteTime": {
     "end_time": "2018-08-17T07:56:35.025709Z",
     "start_time": "2018-08-17T07:56:35.020709Z"
    }
   },
   "outputs": [],
   "source": [
    "column_type=dict(o_df.dtypes.copy())"
   ]
  },
  {
   "cell_type": "code",
   "execution_count": 7,
   "metadata": {
    "ExecuteTime": {
     "end_time": "2018-08-17T07:56:35.114714Z",
     "start_time": "2018-08-17T07:56:35.026709Z"
    }
   },
   "outputs": [
    {
     "data": {
      "text/plain": [
       "108"
      ]
     },
     "execution_count": 7,
     "metadata": {},
     "output_type": "execute_result"
    }
   ],
   "source": [
    "len(column_type)"
   ]
  },
  {
   "cell_type": "code",
   "execution_count": 8,
   "metadata": {
    "ExecuteTime": {
     "end_time": "2018-08-17T07:56:35.457734Z",
     "start_time": "2018-08-17T07:56:35.115714Z"
    }
   },
   "outputs": [],
   "source": [
    "del o_df,c_int,c_float,df_train"
   ]
  },
  {
   "cell_type": "code",
   "execution_count": null,
   "metadata": {},
   "outputs": [],
   "source": []
  },
  {
   "cell_type": "code",
   "execution_count": 9,
   "metadata": {
    "ExecuteTime": {
     "end_time": "2018-08-17T07:57:00.952192Z",
     "start_time": "2018-08-17T07:56:35.459734Z"
    }
   },
   "outputs": [],
   "source": [
    "data_train=pd.read_csv('F:\\\\study\\\\ml\\\\DataSet\\\\Tap4fun\\\\tap_fun_train.csv',\n",
    "                      dtype=column_type,parse_dates=['register_time'],infer_datetime_format=True)"
   ]
  },
  {
   "cell_type": "code",
   "execution_count": 10,
   "metadata": {
    "ExecuteTime": {
     "end_time": "2018-08-17T07:57:01.103200Z",
     "start_time": "2018-08-17T07:57:00.954192Z"
    }
   },
   "outputs": [
    {
     "data": {
      "text/html": [
       "<div>\n",
       "<style scoped>\n",
       "    .dataframe tbody tr th:only-of-type {\n",
       "        vertical-align: middle;\n",
       "    }\n",
       "\n",
       "    .dataframe tbody tr th {\n",
       "        vertical-align: top;\n",
       "    }\n",
       "\n",
       "    .dataframe thead th {\n",
       "        text-align: right;\n",
       "    }\n",
       "</style>\n",
       "<table border=\"1\" class=\"dataframe\">\n",
       "  <thead>\n",
       "    <tr style=\"text-align: right;\">\n",
       "      <th></th>\n",
       "      <th>user_id</th>\n",
       "      <th>register_time</th>\n",
       "      <th>wood_add_value</th>\n",
       "      <th>wood_reduce_value</th>\n",
       "      <th>stone_add_value</th>\n",
       "      <th>stone_reduce_value</th>\n",
       "      <th>ivory_add_value</th>\n",
       "      <th>ivory_reduce_value</th>\n",
       "      <th>meat_add_value</th>\n",
       "      <th>meat_reduce_value</th>\n",
       "      <th>...</th>\n",
       "      <th>pvp_battle_count</th>\n",
       "      <th>pvp_lanch_count</th>\n",
       "      <th>pvp_win_count</th>\n",
       "      <th>pve_battle_count</th>\n",
       "      <th>pve_lanch_count</th>\n",
       "      <th>pve_win_count</th>\n",
       "      <th>avg_online_minutes</th>\n",
       "      <th>pay_price</th>\n",
       "      <th>pay_count</th>\n",
       "      <th>prediction_pay_price</th>\n",
       "    </tr>\n",
       "  </thead>\n",
       "  <tbody>\n",
       "    <tr>\n",
       "      <th>0</th>\n",
       "      <td>1</td>\n",
       "      <td>2018-02-02 19:47:15</td>\n",
       "      <td>20125.0</td>\n",
       "      <td>3700.0</td>\n",
       "      <td>0.0</td>\n",
       "      <td>0.0</td>\n",
       "      <td>0.0</td>\n",
       "      <td>0.0</td>\n",
       "      <td>16375.0</td>\n",
       "      <td>2000.0</td>\n",
       "      <td>...</td>\n",
       "      <td>0</td>\n",
       "      <td>0</td>\n",
       "      <td>0</td>\n",
       "      <td>0</td>\n",
       "      <td>0</td>\n",
       "      <td>0</td>\n",
       "      <td>0.333333</td>\n",
       "      <td>0.0</td>\n",
       "      <td>0</td>\n",
       "      <td>0.0</td>\n",
       "    </tr>\n",
       "    <tr>\n",
       "      <th>1</th>\n",
       "      <td>1593</td>\n",
       "      <td>2018-01-26 00:01:05</td>\n",
       "      <td>0.0</td>\n",
       "      <td>0.0</td>\n",
       "      <td>0.0</td>\n",
       "      <td>0.0</td>\n",
       "      <td>0.0</td>\n",
       "      <td>0.0</td>\n",
       "      <td>0.0</td>\n",
       "      <td>0.0</td>\n",
       "      <td>...</td>\n",
       "      <td>0</td>\n",
       "      <td>0</td>\n",
       "      <td>0</td>\n",
       "      <td>0</td>\n",
       "      <td>0</td>\n",
       "      <td>0</td>\n",
       "      <td>0.333333</td>\n",
       "      <td>0.0</td>\n",
       "      <td>0</td>\n",
       "      <td>0.0</td>\n",
       "    </tr>\n",
       "    <tr>\n",
       "      <th>2</th>\n",
       "      <td>1594</td>\n",
       "      <td>2018-01-26 00:01:58</td>\n",
       "      <td>0.0</td>\n",
       "      <td>0.0</td>\n",
       "      <td>0.0</td>\n",
       "      <td>0.0</td>\n",
       "      <td>0.0</td>\n",
       "      <td>0.0</td>\n",
       "      <td>0.0</td>\n",
       "      <td>0.0</td>\n",
       "      <td>...</td>\n",
       "      <td>0</td>\n",
       "      <td>0</td>\n",
       "      <td>0</td>\n",
       "      <td>0</td>\n",
       "      <td>0</td>\n",
       "      <td>0</td>\n",
       "      <td>1.166667</td>\n",
       "      <td>0.0</td>\n",
       "      <td>0</td>\n",
       "      <td>0.0</td>\n",
       "    </tr>\n",
       "    <tr>\n",
       "      <th>3</th>\n",
       "      <td>1595</td>\n",
       "      <td>2018-01-26 00:02:13</td>\n",
       "      <td>0.0</td>\n",
       "      <td>0.0</td>\n",
       "      <td>0.0</td>\n",
       "      <td>0.0</td>\n",
       "      <td>0.0</td>\n",
       "      <td>0.0</td>\n",
       "      <td>0.0</td>\n",
       "      <td>0.0</td>\n",
       "      <td>...</td>\n",
       "      <td>0</td>\n",
       "      <td>0</td>\n",
       "      <td>0</td>\n",
       "      <td>0</td>\n",
       "      <td>0</td>\n",
       "      <td>0</td>\n",
       "      <td>3.166667</td>\n",
       "      <td>0.0</td>\n",
       "      <td>0</td>\n",
       "      <td>0.0</td>\n",
       "    </tr>\n",
       "    <tr>\n",
       "      <th>4</th>\n",
       "      <td>1596</td>\n",
       "      <td>2018-01-26 00:02:46</td>\n",
       "      <td>0.0</td>\n",
       "      <td>0.0</td>\n",
       "      <td>0.0</td>\n",
       "      <td>0.0</td>\n",
       "      <td>0.0</td>\n",
       "      <td>0.0</td>\n",
       "      <td>0.0</td>\n",
       "      <td>0.0</td>\n",
       "      <td>...</td>\n",
       "      <td>0</td>\n",
       "      <td>0</td>\n",
       "      <td>0</td>\n",
       "      <td>0</td>\n",
       "      <td>0</td>\n",
       "      <td>0</td>\n",
       "      <td>2.333333</td>\n",
       "      <td>0.0</td>\n",
       "      <td>0</td>\n",
       "      <td>0.0</td>\n",
       "    </tr>\n",
       "  </tbody>\n",
       "</table>\n",
       "<p>5 rows × 109 columns</p>\n",
       "</div>"
      ],
      "text/plain": [
       "   user_id       register_time  wood_add_value  wood_reduce_value  \\\n",
       "0        1 2018-02-02 19:47:15         20125.0             3700.0   \n",
       "1     1593 2018-01-26 00:01:05             0.0                0.0   \n",
       "2     1594 2018-01-26 00:01:58             0.0                0.0   \n",
       "3     1595 2018-01-26 00:02:13             0.0                0.0   \n",
       "4     1596 2018-01-26 00:02:46             0.0                0.0   \n",
       "\n",
       "   stone_add_value  stone_reduce_value  ivory_add_value  ivory_reduce_value  \\\n",
       "0              0.0                 0.0              0.0                 0.0   \n",
       "1              0.0                 0.0              0.0                 0.0   \n",
       "2              0.0                 0.0              0.0                 0.0   \n",
       "3              0.0                 0.0              0.0                 0.0   \n",
       "4              0.0                 0.0              0.0                 0.0   \n",
       "\n",
       "   meat_add_value  meat_reduce_value          ...           pvp_battle_count  \\\n",
       "0         16375.0             2000.0          ...                          0   \n",
       "1             0.0                0.0          ...                          0   \n",
       "2             0.0                0.0          ...                          0   \n",
       "3             0.0                0.0          ...                          0   \n",
       "4             0.0                0.0          ...                          0   \n",
       "\n",
       "   pvp_lanch_count  pvp_win_count  pve_battle_count  pve_lanch_count  \\\n",
       "0                0              0                 0                0   \n",
       "1                0              0                 0                0   \n",
       "2                0              0                 0                0   \n",
       "3                0              0                 0                0   \n",
       "4                0              0                 0                0   \n",
       "\n",
       "   pve_win_count  avg_online_minutes  pay_price  pay_count  \\\n",
       "0              0            0.333333        0.0          0   \n",
       "1              0            0.333333        0.0          0   \n",
       "2              0            1.166667        0.0          0   \n",
       "3              0            3.166667        0.0          0   \n",
       "4              0            2.333333        0.0          0   \n",
       "\n",
       "   prediction_pay_price  \n",
       "0                   0.0  \n",
       "1                   0.0  \n",
       "2                   0.0  \n",
       "3                   0.0  \n",
       "4                   0.0  \n",
       "\n",
       "[5 rows x 109 columns]"
      ]
     },
     "execution_count": 10,
     "metadata": {},
     "output_type": "execute_result"
    }
   ],
   "source": [
    "data_train.head()"
   ]
  },
  {
   "cell_type": "code",
   "execution_count": 11,
   "metadata": {
    "ExecuteTime": {
     "end_time": "2018-08-17T07:57:01.263210Z",
     "start_time": "2018-08-17T07:57:01.104200Z"
    }
   },
   "outputs": [
    {
     "name": "stdout",
     "output_type": "stream",
     "text": [
      "<class 'pandas.core.frame.DataFrame'>\n",
      "RangeIndex: 2288007 entries, 0 to 2288006\n",
      "Columns: 109 entries, user_id to prediction_pay_price\n",
      "dtypes: datetime64[ns](1), float32(13), uint16(8), uint32(21), uint8(66)\n",
      "memory usage: 493.1 MB\n"
     ]
    }
   ],
   "source": [
    "data_train.info(memory_usage='deep')"
   ]
  },
  {
   "cell_type": "code",
   "execution_count": 12,
   "metadata": {
    "ExecuteTime": {
     "end_time": "2018-08-17T07:57:02.048254Z",
     "start_time": "2018-08-17T07:57:01.267210Z"
    }
   },
   "outputs": [],
   "source": [
    "data_label=data_train['prediction_pay_price']\n",
    "data_train2=data_train.drop(labels=['user_id','register_time'],axis=1)"
   ]
  },
  {
   "cell_type": "code",
   "execution_count": 13,
   "metadata": {
    "ExecuteTime": {
     "end_time": "2018-08-17T07:57:02.055255Z",
     "start_time": "2018-08-17T07:57:02.051255Z"
    }
   },
   "outputs": [],
   "source": [
    "# data_train2_corr=data_train2.corr()"
   ]
  },
  {
   "cell_type": "code",
   "execution_count": 14,
   "metadata": {
    "ExecuteTime": {
     "end_time": "2018-08-17T07:57:02.195263Z",
     "start_time": "2018-08-17T07:57:02.058255Z"
    },
    "scrolled": true
   },
   "outputs": [],
   "source": [
    "# data_train2_corr['prediction_pay_price'].sort_values(ascending=False)"
   ]
  },
  {
   "cell_type": "code",
   "execution_count": 15,
   "metadata": {
    "ExecuteTime": {
     "end_time": "2018-08-17T07:57:02.280268Z",
     "start_time": "2018-08-17T07:57:02.196263Z"
    }
   },
   "outputs": [],
   "source": [
    "# a=data_train2_corr['prediction_pay_price'].sort_values(ascending=False)"
   ]
  },
  {
   "cell_type": "code",
   "execution_count": 16,
   "metadata": {
    "ExecuteTime": {
     "end_time": "2018-08-17T07:57:02.364273Z",
     "start_time": "2018-08-17T07:57:02.282268Z"
    }
   },
   "outputs": [],
   "source": [
    "# for i,j in a.iteritems():\n",
    "#     print('{:<40}{:>30}'.format(i,j))"
   ]
  },
  {
   "cell_type": "code",
   "execution_count": 17,
   "metadata": {
    "ExecuteTime": {
     "end_time": "2018-08-17T07:57:02.455278Z",
     "start_time": "2018-08-17T07:57:02.365273Z"
    }
   },
   "outputs": [],
   "source": [
    "# from matplotlib import pyplot as plt\n",
    "# plt.style.use(style='ggplot')\n",
    "# plt.rcParams['figure.figsize']=(10,6)\n",
    "# %matplotlib inline"
   ]
  },
  {
   "cell_type": "code",
   "execution_count": 18,
   "metadata": {
    "ExecuteTime": {
     "end_time": "2018-08-17T07:57:02.648289Z",
     "start_time": "2018-08-17T07:57:02.457278Z"
    }
   },
   "outputs": [],
   "source": [
    "# data_train['register_time'].apply(lambda x:x.month)\n",
    "# data_train2['reg_month']=data_train['register_time'].apply(lambda x:x.month)\n",
    "# data_train2['reg_day']=data_train['register_time'].apply(lambda x:x.day)\n",
    "# data_train2['reg_hour']=data_train['register_time'].apply(lambda x:x.month)\n",
    "# data_train2['reg_weekday']=data_train['register_time'].apply(lambda x:x.weekday())"
   ]
  },
  {
   "cell_type": "code",
   "execution_count": 19,
   "metadata": {
    "ExecuteTime": {
     "end_time": "2018-08-17T07:57:02.746294Z",
     "start_time": "2018-08-17T07:57:02.650289Z"
    }
   },
   "outputs": [
    {
     "data": {
      "text/html": [
       "<div>\n",
       "<style scoped>\n",
       "    .dataframe tbody tr th:only-of-type {\n",
       "        vertical-align: middle;\n",
       "    }\n",
       "\n",
       "    .dataframe tbody tr th {\n",
       "        vertical-align: top;\n",
       "    }\n",
       "\n",
       "    .dataframe thead th {\n",
       "        text-align: right;\n",
       "    }\n",
       "</style>\n",
       "<table border=\"1\" class=\"dataframe\">\n",
       "  <thead>\n",
       "    <tr style=\"text-align: right;\">\n",
       "      <th></th>\n",
       "      <th>wood_add_value</th>\n",
       "      <th>wood_reduce_value</th>\n",
       "      <th>stone_add_value</th>\n",
       "      <th>stone_reduce_value</th>\n",
       "      <th>ivory_add_value</th>\n",
       "      <th>ivory_reduce_value</th>\n",
       "      <th>meat_add_value</th>\n",
       "      <th>meat_reduce_value</th>\n",
       "      <th>magic_add_value</th>\n",
       "      <th>magic_reduce_value</th>\n",
       "      <th>...</th>\n",
       "      <th>pvp_battle_count</th>\n",
       "      <th>pvp_lanch_count</th>\n",
       "      <th>pvp_win_count</th>\n",
       "      <th>pve_battle_count</th>\n",
       "      <th>pve_lanch_count</th>\n",
       "      <th>pve_win_count</th>\n",
       "      <th>avg_online_minutes</th>\n",
       "      <th>pay_price</th>\n",
       "      <th>pay_count</th>\n",
       "      <th>prediction_pay_price</th>\n",
       "    </tr>\n",
       "  </thead>\n",
       "  <tbody>\n",
       "    <tr>\n",
       "      <th>0</th>\n",
       "      <td>20125.0</td>\n",
       "      <td>3700.0</td>\n",
       "      <td>0.0</td>\n",
       "      <td>0.0</td>\n",
       "      <td>0.0</td>\n",
       "      <td>0.0</td>\n",
       "      <td>16375.0</td>\n",
       "      <td>2000.0</td>\n",
       "      <td>0.0</td>\n",
       "      <td>0.0</td>\n",
       "      <td>...</td>\n",
       "      <td>0</td>\n",
       "      <td>0</td>\n",
       "      <td>0</td>\n",
       "      <td>0</td>\n",
       "      <td>0</td>\n",
       "      <td>0</td>\n",
       "      <td>0.333333</td>\n",
       "      <td>0.0</td>\n",
       "      <td>0</td>\n",
       "      <td>0.0</td>\n",
       "    </tr>\n",
       "    <tr>\n",
       "      <th>1</th>\n",
       "      <td>0.0</td>\n",
       "      <td>0.0</td>\n",
       "      <td>0.0</td>\n",
       "      <td>0.0</td>\n",
       "      <td>0.0</td>\n",
       "      <td>0.0</td>\n",
       "      <td>0.0</td>\n",
       "      <td>0.0</td>\n",
       "      <td>0.0</td>\n",
       "      <td>0.0</td>\n",
       "      <td>...</td>\n",
       "      <td>0</td>\n",
       "      <td>0</td>\n",
       "      <td>0</td>\n",
       "      <td>0</td>\n",
       "      <td>0</td>\n",
       "      <td>0</td>\n",
       "      <td>0.333333</td>\n",
       "      <td>0.0</td>\n",
       "      <td>0</td>\n",
       "      <td>0.0</td>\n",
       "    </tr>\n",
       "    <tr>\n",
       "      <th>2</th>\n",
       "      <td>0.0</td>\n",
       "      <td>0.0</td>\n",
       "      <td>0.0</td>\n",
       "      <td>0.0</td>\n",
       "      <td>0.0</td>\n",
       "      <td>0.0</td>\n",
       "      <td>0.0</td>\n",
       "      <td>0.0</td>\n",
       "      <td>0.0</td>\n",
       "      <td>0.0</td>\n",
       "      <td>...</td>\n",
       "      <td>0</td>\n",
       "      <td>0</td>\n",
       "      <td>0</td>\n",
       "      <td>0</td>\n",
       "      <td>0</td>\n",
       "      <td>0</td>\n",
       "      <td>1.166667</td>\n",
       "      <td>0.0</td>\n",
       "      <td>0</td>\n",
       "      <td>0.0</td>\n",
       "    </tr>\n",
       "    <tr>\n",
       "      <th>3</th>\n",
       "      <td>0.0</td>\n",
       "      <td>0.0</td>\n",
       "      <td>0.0</td>\n",
       "      <td>0.0</td>\n",
       "      <td>0.0</td>\n",
       "      <td>0.0</td>\n",
       "      <td>0.0</td>\n",
       "      <td>0.0</td>\n",
       "      <td>0.0</td>\n",
       "      <td>0.0</td>\n",
       "      <td>...</td>\n",
       "      <td>0</td>\n",
       "      <td>0</td>\n",
       "      <td>0</td>\n",
       "      <td>0</td>\n",
       "      <td>0</td>\n",
       "      <td>0</td>\n",
       "      <td>3.166667</td>\n",
       "      <td>0.0</td>\n",
       "      <td>0</td>\n",
       "      <td>0.0</td>\n",
       "    </tr>\n",
       "    <tr>\n",
       "      <th>4</th>\n",
       "      <td>0.0</td>\n",
       "      <td>0.0</td>\n",
       "      <td>0.0</td>\n",
       "      <td>0.0</td>\n",
       "      <td>0.0</td>\n",
       "      <td>0.0</td>\n",
       "      <td>0.0</td>\n",
       "      <td>0.0</td>\n",
       "      <td>0.0</td>\n",
       "      <td>0.0</td>\n",
       "      <td>...</td>\n",
       "      <td>0</td>\n",
       "      <td>0</td>\n",
       "      <td>0</td>\n",
       "      <td>0</td>\n",
       "      <td>0</td>\n",
       "      <td>0</td>\n",
       "      <td>2.333333</td>\n",
       "      <td>0.0</td>\n",
       "      <td>0</td>\n",
       "      <td>0.0</td>\n",
       "    </tr>\n",
       "  </tbody>\n",
       "</table>\n",
       "<p>5 rows × 107 columns</p>\n",
       "</div>"
      ],
      "text/plain": [
       "   wood_add_value  wood_reduce_value  stone_add_value  stone_reduce_value  \\\n",
       "0         20125.0             3700.0              0.0                 0.0   \n",
       "1             0.0                0.0              0.0                 0.0   \n",
       "2             0.0                0.0              0.0                 0.0   \n",
       "3             0.0                0.0              0.0                 0.0   \n",
       "4             0.0                0.0              0.0                 0.0   \n",
       "\n",
       "   ivory_add_value  ivory_reduce_value  meat_add_value  meat_reduce_value  \\\n",
       "0              0.0                 0.0         16375.0             2000.0   \n",
       "1              0.0                 0.0             0.0                0.0   \n",
       "2              0.0                 0.0             0.0                0.0   \n",
       "3              0.0                 0.0             0.0                0.0   \n",
       "4              0.0                 0.0             0.0                0.0   \n",
       "\n",
       "   magic_add_value  magic_reduce_value          ...           \\\n",
       "0              0.0                 0.0          ...            \n",
       "1              0.0                 0.0          ...            \n",
       "2              0.0                 0.0          ...            \n",
       "3              0.0                 0.0          ...            \n",
       "4              0.0                 0.0          ...            \n",
       "\n",
       "   pvp_battle_count  pvp_lanch_count  pvp_win_count  pve_battle_count  \\\n",
       "0                 0                0              0                 0   \n",
       "1                 0                0              0                 0   \n",
       "2                 0                0              0                 0   \n",
       "3                 0                0              0                 0   \n",
       "4                 0                0              0                 0   \n",
       "\n",
       "   pve_lanch_count  pve_win_count  avg_online_minutes  pay_price  pay_count  \\\n",
       "0                0              0            0.333333        0.0          0   \n",
       "1                0              0            0.333333        0.0          0   \n",
       "2                0              0            1.166667        0.0          0   \n",
       "3                0              0            3.166667        0.0          0   \n",
       "4                0              0            2.333333        0.0          0   \n",
       "\n",
       "   prediction_pay_price  \n",
       "0                   0.0  \n",
       "1                   0.0  \n",
       "2                   0.0  \n",
       "3                   0.0  \n",
       "4                   0.0  \n",
       "\n",
       "[5 rows x 107 columns]"
      ]
     },
     "execution_count": 19,
     "metadata": {},
     "output_type": "execute_result"
    }
   ],
   "source": [
    "\n",
    "data_train2.head()"
   ]
  },
  {
   "cell_type": "code",
   "execution_count": 20,
   "metadata": {
    "ExecuteTime": {
     "end_time": "2018-08-17T07:57:02.822299Z",
     "start_time": "2018-08-17T07:57:02.749295Z"
    },
    "scrolled": true
   },
   "outputs": [],
   "source": [
    "# data_train2['reg_month_day']=data_train2['reg_month'].apply(str)+'-'  \\\n",
    "# +data_train2['reg_day'].apply(lambda x: str('0')+str(x) if x<10 else str(x))"
   ]
  },
  {
   "cell_type": "code",
   "execution_count": 21,
   "metadata": {
    "ExecuteTime": {
     "end_time": "2018-08-17T07:57:02.922304Z",
     "start_time": "2018-08-17T07:57:02.825299Z"
    }
   },
   "outputs": [],
   "source": [
    "# data_train2['reg_month_day'].head(20)"
   ]
  },
  {
   "cell_type": "code",
   "execution_count": 22,
   "metadata": {
    "ExecuteTime": {
     "end_time": "2018-08-17T07:57:03.031311Z",
     "start_time": "2018-08-17T07:57:02.923305Z"
    }
   },
   "outputs": [
    {
     "data": {
      "text/html": [
       "<div>\n",
       "<style scoped>\n",
       "    .dataframe tbody tr th:only-of-type {\n",
       "        vertical-align: middle;\n",
       "    }\n",
       "\n",
       "    .dataframe tbody tr th {\n",
       "        vertical-align: top;\n",
       "    }\n",
       "\n",
       "    .dataframe thead th {\n",
       "        text-align: right;\n",
       "    }\n",
       "</style>\n",
       "<table border=\"1\" class=\"dataframe\">\n",
       "  <thead>\n",
       "    <tr style=\"text-align: right;\">\n",
       "      <th></th>\n",
       "      <th>wood_add_value</th>\n",
       "      <th>wood_reduce_value</th>\n",
       "      <th>stone_add_value</th>\n",
       "      <th>stone_reduce_value</th>\n",
       "      <th>ivory_add_value</th>\n",
       "      <th>ivory_reduce_value</th>\n",
       "      <th>meat_add_value</th>\n",
       "      <th>meat_reduce_value</th>\n",
       "      <th>magic_add_value</th>\n",
       "      <th>magic_reduce_value</th>\n",
       "      <th>...</th>\n",
       "      <th>pvp_battle_count</th>\n",
       "      <th>pvp_lanch_count</th>\n",
       "      <th>pvp_win_count</th>\n",
       "      <th>pve_battle_count</th>\n",
       "      <th>pve_lanch_count</th>\n",
       "      <th>pve_win_count</th>\n",
       "      <th>avg_online_minutes</th>\n",
       "      <th>pay_price</th>\n",
       "      <th>pay_count</th>\n",
       "      <th>prediction_pay_price</th>\n",
       "    </tr>\n",
       "  </thead>\n",
       "  <tbody>\n",
       "    <tr>\n",
       "      <th>0</th>\n",
       "      <td>20125.0</td>\n",
       "      <td>3700.0</td>\n",
       "      <td>0.0</td>\n",
       "      <td>0.0</td>\n",
       "      <td>0.0</td>\n",
       "      <td>0.0</td>\n",
       "      <td>16375.0</td>\n",
       "      <td>2000.0</td>\n",
       "      <td>0.0</td>\n",
       "      <td>0.0</td>\n",
       "      <td>...</td>\n",
       "      <td>0</td>\n",
       "      <td>0</td>\n",
       "      <td>0</td>\n",
       "      <td>0</td>\n",
       "      <td>0</td>\n",
       "      <td>0</td>\n",
       "      <td>0.333333</td>\n",
       "      <td>0.0</td>\n",
       "      <td>0</td>\n",
       "      <td>0.0</td>\n",
       "    </tr>\n",
       "    <tr>\n",
       "      <th>1</th>\n",
       "      <td>0.0</td>\n",
       "      <td>0.0</td>\n",
       "      <td>0.0</td>\n",
       "      <td>0.0</td>\n",
       "      <td>0.0</td>\n",
       "      <td>0.0</td>\n",
       "      <td>0.0</td>\n",
       "      <td>0.0</td>\n",
       "      <td>0.0</td>\n",
       "      <td>0.0</td>\n",
       "      <td>...</td>\n",
       "      <td>0</td>\n",
       "      <td>0</td>\n",
       "      <td>0</td>\n",
       "      <td>0</td>\n",
       "      <td>0</td>\n",
       "      <td>0</td>\n",
       "      <td>0.333333</td>\n",
       "      <td>0.0</td>\n",
       "      <td>0</td>\n",
       "      <td>0.0</td>\n",
       "    </tr>\n",
       "    <tr>\n",
       "      <th>2</th>\n",
       "      <td>0.0</td>\n",
       "      <td>0.0</td>\n",
       "      <td>0.0</td>\n",
       "      <td>0.0</td>\n",
       "      <td>0.0</td>\n",
       "      <td>0.0</td>\n",
       "      <td>0.0</td>\n",
       "      <td>0.0</td>\n",
       "      <td>0.0</td>\n",
       "      <td>0.0</td>\n",
       "      <td>...</td>\n",
       "      <td>0</td>\n",
       "      <td>0</td>\n",
       "      <td>0</td>\n",
       "      <td>0</td>\n",
       "      <td>0</td>\n",
       "      <td>0</td>\n",
       "      <td>1.166667</td>\n",
       "      <td>0.0</td>\n",
       "      <td>0</td>\n",
       "      <td>0.0</td>\n",
       "    </tr>\n",
       "    <tr>\n",
       "      <th>3</th>\n",
       "      <td>0.0</td>\n",
       "      <td>0.0</td>\n",
       "      <td>0.0</td>\n",
       "      <td>0.0</td>\n",
       "      <td>0.0</td>\n",
       "      <td>0.0</td>\n",
       "      <td>0.0</td>\n",
       "      <td>0.0</td>\n",
       "      <td>0.0</td>\n",
       "      <td>0.0</td>\n",
       "      <td>...</td>\n",
       "      <td>0</td>\n",
       "      <td>0</td>\n",
       "      <td>0</td>\n",
       "      <td>0</td>\n",
       "      <td>0</td>\n",
       "      <td>0</td>\n",
       "      <td>3.166667</td>\n",
       "      <td>0.0</td>\n",
       "      <td>0</td>\n",
       "      <td>0.0</td>\n",
       "    </tr>\n",
       "    <tr>\n",
       "      <th>4</th>\n",
       "      <td>0.0</td>\n",
       "      <td>0.0</td>\n",
       "      <td>0.0</td>\n",
       "      <td>0.0</td>\n",
       "      <td>0.0</td>\n",
       "      <td>0.0</td>\n",
       "      <td>0.0</td>\n",
       "      <td>0.0</td>\n",
       "      <td>0.0</td>\n",
       "      <td>0.0</td>\n",
       "      <td>...</td>\n",
       "      <td>0</td>\n",
       "      <td>0</td>\n",
       "      <td>0</td>\n",
       "      <td>0</td>\n",
       "      <td>0</td>\n",
       "      <td>0</td>\n",
       "      <td>2.333333</td>\n",
       "      <td>0.0</td>\n",
       "      <td>0</td>\n",
       "      <td>0.0</td>\n",
       "    </tr>\n",
       "  </tbody>\n",
       "</table>\n",
       "<p>5 rows × 107 columns</p>\n",
       "</div>"
      ],
      "text/plain": [
       "   wood_add_value  wood_reduce_value  stone_add_value  stone_reduce_value  \\\n",
       "0         20125.0             3700.0              0.0                 0.0   \n",
       "1             0.0                0.0              0.0                 0.0   \n",
       "2             0.0                0.0              0.0                 0.0   \n",
       "3             0.0                0.0              0.0                 0.0   \n",
       "4             0.0                0.0              0.0                 0.0   \n",
       "\n",
       "   ivory_add_value  ivory_reduce_value  meat_add_value  meat_reduce_value  \\\n",
       "0              0.0                 0.0         16375.0             2000.0   \n",
       "1              0.0                 0.0             0.0                0.0   \n",
       "2              0.0                 0.0             0.0                0.0   \n",
       "3              0.0                 0.0             0.0                0.0   \n",
       "4              0.0                 0.0             0.0                0.0   \n",
       "\n",
       "   magic_add_value  magic_reduce_value          ...           \\\n",
       "0              0.0                 0.0          ...            \n",
       "1              0.0                 0.0          ...            \n",
       "2              0.0                 0.0          ...            \n",
       "3              0.0                 0.0          ...            \n",
       "4              0.0                 0.0          ...            \n",
       "\n",
       "   pvp_battle_count  pvp_lanch_count  pvp_win_count  pve_battle_count  \\\n",
       "0                 0                0              0                 0   \n",
       "1                 0                0              0                 0   \n",
       "2                 0                0              0                 0   \n",
       "3                 0                0              0                 0   \n",
       "4                 0                0              0                 0   \n",
       "\n",
       "   pve_lanch_count  pve_win_count  avg_online_minutes  pay_price  pay_count  \\\n",
       "0                0              0            0.333333        0.0          0   \n",
       "1                0              0            0.333333        0.0          0   \n",
       "2                0              0            1.166667        0.0          0   \n",
       "3                0              0            3.166667        0.0          0   \n",
       "4                0              0            2.333333        0.0          0   \n",
       "\n",
       "   prediction_pay_price  \n",
       "0                   0.0  \n",
       "1                   0.0  \n",
       "2                   0.0  \n",
       "3                   0.0  \n",
       "4                   0.0  \n",
       "\n",
       "[5 rows x 107 columns]"
      ]
     },
     "execution_count": 22,
     "metadata": {},
     "output_type": "execute_result"
    }
   ],
   "source": [
    "data_train2.head()"
   ]
  },
  {
   "cell_type": "code",
   "execution_count": 23,
   "metadata": {
    "ExecuteTime": {
     "end_time": "2018-08-17T07:57:03.132316Z",
     "start_time": "2018-08-17T07:57:03.033311Z"
    }
   },
   "outputs": [
    {
     "data": {
      "text/html": [
       "<div>\n",
       "<style scoped>\n",
       "    .dataframe tbody tr th:only-of-type {\n",
       "        vertical-align: middle;\n",
       "    }\n",
       "\n",
       "    .dataframe tbody tr th {\n",
       "        vertical-align: top;\n",
       "    }\n",
       "\n",
       "    .dataframe thead th {\n",
       "        text-align: right;\n",
       "    }\n",
       "</style>\n",
       "<table border=\"1\" class=\"dataframe\">\n",
       "  <thead>\n",
       "    <tr style=\"text-align: right;\">\n",
       "      <th></th>\n",
       "      <th>wood_add_value</th>\n",
       "      <th>wood_reduce_value</th>\n",
       "      <th>stone_add_value</th>\n",
       "      <th>stone_reduce_value</th>\n",
       "      <th>ivory_add_value</th>\n",
       "      <th>ivory_reduce_value</th>\n",
       "      <th>meat_add_value</th>\n",
       "      <th>meat_reduce_value</th>\n",
       "      <th>magic_add_value</th>\n",
       "      <th>magic_reduce_value</th>\n",
       "      <th>...</th>\n",
       "      <th>pvp_battle_count</th>\n",
       "      <th>pvp_lanch_count</th>\n",
       "      <th>pvp_win_count</th>\n",
       "      <th>pve_battle_count</th>\n",
       "      <th>pve_lanch_count</th>\n",
       "      <th>pve_win_count</th>\n",
       "      <th>avg_online_minutes</th>\n",
       "      <th>pay_price</th>\n",
       "      <th>pay_count</th>\n",
       "      <th>prediction_pay_price</th>\n",
       "    </tr>\n",
       "  </thead>\n",
       "  <tbody>\n",
       "    <tr>\n",
       "      <th>0</th>\n",
       "      <td>20125.0</td>\n",
       "      <td>3700.0</td>\n",
       "      <td>0.0</td>\n",
       "      <td>0.0</td>\n",
       "      <td>0.0</td>\n",
       "      <td>0.0</td>\n",
       "      <td>16375.0</td>\n",
       "      <td>2000.0</td>\n",
       "      <td>0.0</td>\n",
       "      <td>0.0</td>\n",
       "      <td>...</td>\n",
       "      <td>0</td>\n",
       "      <td>0</td>\n",
       "      <td>0</td>\n",
       "      <td>0</td>\n",
       "      <td>0</td>\n",
       "      <td>0</td>\n",
       "      <td>0.333333</td>\n",
       "      <td>0.0</td>\n",
       "      <td>0</td>\n",
       "      <td>0.0</td>\n",
       "    </tr>\n",
       "    <tr>\n",
       "      <th>1</th>\n",
       "      <td>0.0</td>\n",
       "      <td>0.0</td>\n",
       "      <td>0.0</td>\n",
       "      <td>0.0</td>\n",
       "      <td>0.0</td>\n",
       "      <td>0.0</td>\n",
       "      <td>0.0</td>\n",
       "      <td>0.0</td>\n",
       "      <td>0.0</td>\n",
       "      <td>0.0</td>\n",
       "      <td>...</td>\n",
       "      <td>0</td>\n",
       "      <td>0</td>\n",
       "      <td>0</td>\n",
       "      <td>0</td>\n",
       "      <td>0</td>\n",
       "      <td>0</td>\n",
       "      <td>0.333333</td>\n",
       "      <td>0.0</td>\n",
       "      <td>0</td>\n",
       "      <td>0.0</td>\n",
       "    </tr>\n",
       "    <tr>\n",
       "      <th>2</th>\n",
       "      <td>0.0</td>\n",
       "      <td>0.0</td>\n",
       "      <td>0.0</td>\n",
       "      <td>0.0</td>\n",
       "      <td>0.0</td>\n",
       "      <td>0.0</td>\n",
       "      <td>0.0</td>\n",
       "      <td>0.0</td>\n",
       "      <td>0.0</td>\n",
       "      <td>0.0</td>\n",
       "      <td>...</td>\n",
       "      <td>0</td>\n",
       "      <td>0</td>\n",
       "      <td>0</td>\n",
       "      <td>0</td>\n",
       "      <td>0</td>\n",
       "      <td>0</td>\n",
       "      <td>1.166667</td>\n",
       "      <td>0.0</td>\n",
       "      <td>0</td>\n",
       "      <td>0.0</td>\n",
       "    </tr>\n",
       "    <tr>\n",
       "      <th>3</th>\n",
       "      <td>0.0</td>\n",
       "      <td>0.0</td>\n",
       "      <td>0.0</td>\n",
       "      <td>0.0</td>\n",
       "      <td>0.0</td>\n",
       "      <td>0.0</td>\n",
       "      <td>0.0</td>\n",
       "      <td>0.0</td>\n",
       "      <td>0.0</td>\n",
       "      <td>0.0</td>\n",
       "      <td>...</td>\n",
       "      <td>0</td>\n",
       "      <td>0</td>\n",
       "      <td>0</td>\n",
       "      <td>0</td>\n",
       "      <td>0</td>\n",
       "      <td>0</td>\n",
       "      <td>3.166667</td>\n",
       "      <td>0.0</td>\n",
       "      <td>0</td>\n",
       "      <td>0.0</td>\n",
       "    </tr>\n",
       "    <tr>\n",
       "      <th>4</th>\n",
       "      <td>0.0</td>\n",
       "      <td>0.0</td>\n",
       "      <td>0.0</td>\n",
       "      <td>0.0</td>\n",
       "      <td>0.0</td>\n",
       "      <td>0.0</td>\n",
       "      <td>0.0</td>\n",
       "      <td>0.0</td>\n",
       "      <td>0.0</td>\n",
       "      <td>0.0</td>\n",
       "      <td>...</td>\n",
       "      <td>0</td>\n",
       "      <td>0</td>\n",
       "      <td>0</td>\n",
       "      <td>0</td>\n",
       "      <td>0</td>\n",
       "      <td>0</td>\n",
       "      <td>2.333333</td>\n",
       "      <td>0.0</td>\n",
       "      <td>0</td>\n",
       "      <td>0.0</td>\n",
       "    </tr>\n",
       "  </tbody>\n",
       "</table>\n",
       "<p>5 rows × 107 columns</p>\n",
       "</div>"
      ],
      "text/plain": [
       "   wood_add_value  wood_reduce_value  stone_add_value  stone_reduce_value  \\\n",
       "0         20125.0             3700.0              0.0                 0.0   \n",
       "1             0.0                0.0              0.0                 0.0   \n",
       "2             0.0                0.0              0.0                 0.0   \n",
       "3             0.0                0.0              0.0                 0.0   \n",
       "4             0.0                0.0              0.0                 0.0   \n",
       "\n",
       "   ivory_add_value  ivory_reduce_value  meat_add_value  meat_reduce_value  \\\n",
       "0              0.0                 0.0         16375.0             2000.0   \n",
       "1              0.0                 0.0             0.0                0.0   \n",
       "2              0.0                 0.0             0.0                0.0   \n",
       "3              0.0                 0.0             0.0                0.0   \n",
       "4              0.0                 0.0             0.0                0.0   \n",
       "\n",
       "   magic_add_value  magic_reduce_value          ...           \\\n",
       "0              0.0                 0.0          ...            \n",
       "1              0.0                 0.0          ...            \n",
       "2              0.0                 0.0          ...            \n",
       "3              0.0                 0.0          ...            \n",
       "4              0.0                 0.0          ...            \n",
       "\n",
       "   pvp_battle_count  pvp_lanch_count  pvp_win_count  pve_battle_count  \\\n",
       "0                 0                0              0                 0   \n",
       "1                 0                0              0                 0   \n",
       "2                 0                0              0                 0   \n",
       "3                 0                0              0                 0   \n",
       "4                 0                0              0                 0   \n",
       "\n",
       "   pve_lanch_count  pve_win_count  avg_online_minutes  pay_price  pay_count  \\\n",
       "0                0              0            0.333333        0.0          0   \n",
       "1                0              0            0.333333        0.0          0   \n",
       "2                0              0            1.166667        0.0          0   \n",
       "3                0              0            3.166667        0.0          0   \n",
       "4                0              0            2.333333        0.0          0   \n",
       "\n",
       "   prediction_pay_price  \n",
       "0                   0.0  \n",
       "1                   0.0  \n",
       "2                   0.0  \n",
       "3                   0.0  \n",
       "4                   0.0  \n",
       "\n",
       "[5 rows x 107 columns]"
      ]
     },
     "execution_count": 23,
     "metadata": {},
     "output_type": "execute_result"
    }
   ],
   "source": [
    "data_train2.head()"
   ]
  },
  {
   "cell_type": "code",
   "execution_count": 24,
   "metadata": {
    "ExecuteTime": {
     "end_time": "2018-08-17T07:57:03.214321Z",
     "start_time": "2018-08-17T07:57:03.133317Z"
    }
   },
   "outputs": [],
   "source": [
    "# data_train2[['reg_month_day','wood_add_value']].groupby(by=['reg_month_day']).agg('count')"
   ]
  },
  {
   "cell_type": "code",
   "execution_count": 25,
   "metadata": {
    "ExecuteTime": {
     "end_time": "2018-08-17T07:57:03.298326Z",
     "start_time": "2018-08-17T07:57:03.215321Z"
    }
   },
   "outputs": [],
   "source": [
    "# df_md_count=data_train2[['reg_month_day','wood_add_value']].groupby(by=['reg_month_day'],as_index=False).agg('count')"
   ]
  },
  {
   "cell_type": "code",
   "execution_count": 26,
   "metadata": {
    "ExecuteTime": {
     "end_time": "2018-08-17T07:57:03.380331Z",
     "start_time": "2018-08-17T07:57:03.300326Z"
    }
   },
   "outputs": [],
   "source": [
    "# df_md_count.columns"
   ]
  },
  {
   "cell_type": "code",
   "execution_count": null,
   "metadata": {
    "ExecuteTime": {
     "end_time": "2018-08-13T08:10:10.658184Z",
     "start_time": "2018-08-13T08:10:10.626984Z"
    }
   },
   "outputs": [],
   "source": []
  },
  {
   "cell_type": "code",
   "execution_count": 27,
   "metadata": {
    "ExecuteTime": {
     "end_time": "2018-08-17T07:57:03.455335Z",
     "start_time": "2018-08-17T07:57:03.382331Z"
    }
   },
   "outputs": [],
   "source": [
    "# x=df_md_count.reg_month_day\n",
    "# y=df_md_count.wood_add_value\n",
    "# plt.xticks(fontsize=20)\n",
    "# plt.plot(x,y)"
   ]
  },
  {
   "cell_type": "code",
   "execution_count": 28,
   "metadata": {
    "ExecuteTime": {
     "end_time": "2018-08-17T07:57:03.531339Z",
     "start_time": "2018-08-17T07:57:03.456335Z"
    }
   },
   "outputs": [],
   "source": [
    "# df_d_count=data_train2[['reg_day','wood_add_value']].groupby(by='reg_day',as_index=False).agg('count')"
   ]
  },
  {
   "cell_type": "code",
   "execution_count": 29,
   "metadata": {
    "ExecuteTime": {
     "end_time": "2018-08-17T07:57:03.614344Z",
     "start_time": "2018-08-17T07:57:03.533339Z"
    },
    "scrolled": true
   },
   "outputs": [],
   "source": [
    "# x=df_d_count.reg_day\n",
    "# y=df_d_count.wood_add_value\n",
    "# plt.scatter(x,y)"
   ]
  },
  {
   "cell_type": "code",
   "execution_count": 30,
   "metadata": {
    "ExecuteTime": {
     "end_time": "2018-08-17T07:57:03.680348Z",
     "start_time": "2018-08-17T07:57:03.615344Z"
    }
   },
   "outputs": [],
   "source": [
    "# data=data_train\n",
    "# data['register_time']=data_train.register_time.astype('str')\n",
    "# data['register_time_month']=data_train.register_time.str[:7]\n",
    "# data['register_time_day']=data_train.register_time.str[6:10]\n",
    "\n",
    "# # del data['register_time_m']\n",
    "\n",
    "# data_month_df=pd.DataFrame(data['register_time_month'].value_counts()).sort_index()\n",
    "# data_day_df = pd.DataFrame(data['register_time_day'].value_counts()).sort_index()\n",
    "\n",
    "# from pyecharts import Line,Grid\n",
    "# from pyecharts import configure\n",
    "\n",
    "# line1=Line('Players Num by Month')\n",
    "# line1.add('Player Num',data_month_df.index,data_month_df.register_time_month,mark_line=['averges'],mark_point=['max','min'])\n",
    "# line2=Line('Players Num by Day')\n",
    "# line2.add('Player num',data_day_df.index,data_day_df.register_time_day,mark_line=['average'],mark_point=['max','min'])\n",
    "# grid=Grid(width =1000,height=1000)\n",
    "# grid.add(line1,grid_bottom='60%')\n",
    "# grid.add(line2,grid_top='60%')\n",
    "# grid.use_theme('dark')\n",
    "# grid.render()\n",
    "# grid\n",
    "\n",
    "\n",
    "# data_pay_7=data[data['pay_price']>0]\n",
    "\n",
    "# data_pay_7_day_df = pd.DataFrame(data_pay_7['register_time_day'].value_counts()).sort_index()\n",
    "# data_pay_7_day_df.rename(columns={'register_time_day':'pay_register_time_day'}, inplace = True)\n",
    "# data_day_count = pd.concat([data_pay_7_day_df, data_day_df], axis=1)\n",
    "# data_day_count['pay_percent'] = data_day_count['pay_register_time_day']/data_day_count['register_time_day']"
   ]
  },
  {
   "cell_type": "code",
   "execution_count": 31,
   "metadata": {
    "ExecuteTime": {
     "end_time": "2018-08-17T07:57:03.755352Z",
     "start_time": "2018-08-17T07:57:03.682348Z"
    }
   },
   "outputs": [],
   "source": [
    "# from pyecharts import Overlap\n",
    "\n",
    "# line3 = Line()\n",
    "# line3.add(\"注册玩家数量\", data_day_count.index, data_day_count['register_time_day'], mark_line=[\"average\"], mark_point=[\"max\", \"min\"])\n",
    "\n",
    "# line4 = Line()\n",
    "# line4.add(\"7天内付费玩家数量\", data_day_count.index, data_day_count['pay_register_time_day'], mark_line=[\"average\"], \n",
    "#           mark_point=[\"max\", \"min\"], yaxis_max=3000)\n",
    "# overlap=Overlap()\n",
    "# overlap.add(line3)\n",
    "# overlap.add(line4,yaxis_index=1,is_add_yaxis=True)\n",
    "# overlap.render()\n",
    "# overlap"
   ]
  },
  {
   "cell_type": "code",
   "execution_count": 32,
   "metadata": {
    "ExecuteTime": {
     "end_time": "2018-08-17T07:57:03.958364Z",
     "start_time": "2018-08-17T07:57:03.756352Z"
    }
   },
   "outputs": [
    {
     "data": {
      "text/plain": [
       "(41439, 107)"
      ]
     },
     "execution_count": 32,
     "metadata": {},
     "output_type": "execute_result"
    }
   ],
   "source": [
    "data_train2[(data_train2['pay_price']>0) & (data_train2['prediction_pay_price']>0)].shape"
   ]
  },
  {
   "cell_type": "code",
   "execution_count": 33,
   "metadata": {
    "ExecuteTime": {
     "end_time": "2018-08-17T07:57:04.003366Z",
     "start_time": "2018-08-17T07:57:03.962364Z"
    }
   },
   "outputs": [
    {
     "data": {
      "text/plain": [
       "(4549, 107)"
      ]
     },
     "execution_count": 33,
     "metadata": {},
     "output_type": "execute_result"
    }
   ],
   "source": [
    "data_train2[(data_train2['pay_price']==0) & (data_train2['prediction_pay_price']>0)].shape"
   ]
  },
  {
   "cell_type": "code",
   "execution_count": 34,
   "metadata": {
    "ExecuteTime": {
     "end_time": "2018-08-17T07:57:04.076370Z",
     "start_time": "2018-08-17T07:57:04.004366Z"
    }
   },
   "outputs": [
    {
     "data": {
      "text/plain": [
       "(0, 107)"
      ]
     },
     "execution_count": 34,
     "metadata": {},
     "output_type": "execute_result"
    }
   ],
   "source": [
    "data_train2[(data_train2['pay_price']>0) & (data_train2['prediction_pay_price']==0)].shape"
   ]
  },
  {
   "cell_type": "code",
   "execution_count": 35,
   "metadata": {
    "ExecuteTime": {
     "end_time": "2018-08-17T07:57:04.188377Z",
     "start_time": "2018-08-17T07:57:04.078371Z"
    }
   },
   "outputs": [
    {
     "data": {
      "text/plain": [
       "(41439, 107)"
      ]
     },
     "execution_count": 35,
     "metadata": {},
     "output_type": "execute_result"
    }
   ],
   "source": [
    "data_train2[(data_train2['pay_price']>0)].shape"
   ]
  },
  {
   "cell_type": "code",
   "execution_count": 36,
   "metadata": {
    "ExecuteTime": {
     "end_time": "2018-08-17T07:57:04.303383Z",
     "start_time": "2018-08-17T07:57:04.191377Z"
    }
   },
   "outputs": [
    {
     "data": {
      "text/plain": [
       "(45988, 107)"
      ]
     },
     "execution_count": 36,
     "metadata": {},
     "output_type": "execute_result"
    }
   ],
   "source": [
    "data_train2[(data_train2['prediction_pay_price']>0)].shape"
   ]
  },
  {
   "cell_type": "code",
   "execution_count": 37,
   "metadata": {
    "ExecuteTime": {
     "end_time": "2018-08-17T07:57:04.401389Z",
     "start_time": "2018-08-17T07:57:04.304384Z"
    }
   },
   "outputs": [
    {
     "data": {
      "text/plain": [
       "count    45988.000000\n",
       "mean        89.228508\n",
       "std        617.739014\n",
       "min          0.990000\n",
       "25%          0.990000\n",
       "50%          3.970000\n",
       "75%         20.980000\n",
       "max      32977.808594\n",
       "Name: prediction_pay_price, dtype: float64"
      ]
     },
     "execution_count": 37,
     "metadata": {},
     "output_type": "execute_result"
    }
   ],
   "source": [
    "data_train2[data_train2['prediction_pay_price']>0]['prediction_pay_price'].describe()"
   ]
  },
  {
   "cell_type": "code",
   "execution_count": 38,
   "metadata": {
    "ExecuteTime": {
     "end_time": "2018-08-17T07:57:04.433391Z",
     "start_time": "2018-08-17T07:57:04.402389Z"
    }
   },
   "outputs": [],
   "source": [
    "# data_train2['price_per_count_qua1']=data_train2.pay_price / data_train2.pay_count\n",
    "# del data_train2['price_per_count_qua1']"
   ]
  },
  {
   "cell_type": "code",
   "execution_count": 39,
   "metadata": {
    "ExecuteTime": {
     "end_time": "2018-08-17T07:57:04.758410Z",
     "start_time": "2018-08-17T07:57:04.434391Z"
    }
   },
   "outputs": [],
   "source": [
    "data_pay_7=data_train2[data_train2['pay_price']>0]\n",
    "data_pay_45=data_train2[data_train2['prediction_pay_price']>0]"
   ]
  },
  {
   "cell_type": "code",
   "execution_count": 40,
   "metadata": {
    "ExecuteTime": {
     "end_time": "2018-08-17T07:57:04.859415Z",
     "start_time": "2018-08-17T07:57:04.761410Z"
    }
   },
   "outputs": [
    {
     "data": {
      "text/html": [
       "<div>\n",
       "<style scoped>\n",
       "    .dataframe tbody tr th:only-of-type {\n",
       "        vertical-align: middle;\n",
       "    }\n",
       "\n",
       "    .dataframe tbody tr th {\n",
       "        vertical-align: top;\n",
       "    }\n",
       "\n",
       "    .dataframe thead th {\n",
       "        text-align: right;\n",
       "    }\n",
       "</style>\n",
       "<table border=\"1\" class=\"dataframe\">\n",
       "  <thead>\n",
       "    <tr style=\"text-align: right;\">\n",
       "      <th></th>\n",
       "      <th>pay_price</th>\n",
       "      <th>prediction_pay_price</th>\n",
       "      <th>avg_online_minutes</th>\n",
       "    </tr>\n",
       "  </thead>\n",
       "  <tbody>\n",
       "    <tr>\n",
       "      <th>count</th>\n",
       "      <td>30130.000000</td>\n",
       "      <td>30130.000000</td>\n",
       "      <td>30130.000000</td>\n",
       "    </tr>\n",
       "    <tr>\n",
       "      <th>mean</th>\n",
       "      <td>11.407172</td>\n",
       "      <td>11.407172</td>\n",
       "      <td>100.656929</td>\n",
       "    </tr>\n",
       "    <tr>\n",
       "      <th>std</th>\n",
       "      <td>71.140594</td>\n",
       "      <td>71.140594</td>\n",
       "      <td>113.973495</td>\n",
       "    </tr>\n",
       "    <tr>\n",
       "      <th>min</th>\n",
       "      <td>0.990000</td>\n",
       "      <td>0.990000</td>\n",
       "      <td>0.000000</td>\n",
       "    </tr>\n",
       "    <tr>\n",
       "      <th>25%</th>\n",
       "      <td>0.990000</td>\n",
       "      <td>0.990000</td>\n",
       "      <td>23.333332</td>\n",
       "    </tr>\n",
       "    <tr>\n",
       "      <th>50%</th>\n",
       "      <td>1.980000</td>\n",
       "      <td>1.980000</td>\n",
       "      <td>61.166668</td>\n",
       "    </tr>\n",
       "    <tr>\n",
       "      <th>75%</th>\n",
       "      <td>5.980000</td>\n",
       "      <td>5.980000</td>\n",
       "      <td>137.166672</td>\n",
       "    </tr>\n",
       "    <tr>\n",
       "      <th>max</th>\n",
       "      <td>4086.520020</td>\n",
       "      <td>4086.520020</td>\n",
       "      <td>1394.666626</td>\n",
       "    </tr>\n",
       "  </tbody>\n",
       "</table>\n",
       "</div>"
      ],
      "text/plain": [
       "          pay_price  prediction_pay_price  avg_online_minutes\n",
       "count  30130.000000          30130.000000        30130.000000\n",
       "mean      11.407172             11.407172          100.656929\n",
       "std       71.140594             71.140594          113.973495\n",
       "min        0.990000              0.990000            0.000000\n",
       "25%        0.990000              0.990000           23.333332\n",
       "50%        1.980000              1.980000           61.166668\n",
       "75%        5.980000              5.980000          137.166672\n",
       "max     4086.520020           4086.520020         1394.666626"
      ]
     },
     "execution_count": 40,
     "metadata": {},
     "output_type": "execute_result"
    }
   ],
   "source": [
    "data_train2[(data_train2['pay_price']>0) & (data_train2['pay_price'] == data_train2['prediction_pay_price'])] \\\n",
    "[['pay_price','prediction_pay_price','avg_online_minutes',]].describe()\n",
    "#pp> == ppp 只给了7天"
   ]
  },
  {
   "cell_type": "code",
   "execution_count": 41,
   "metadata": {
    "ExecuteTime": {
     "end_time": "2018-08-17T07:57:04.942420Z",
     "start_time": "2018-08-17T07:57:04.861415Z"
    }
   },
   "outputs": [
    {
     "data": {
      "text/html": [
       "<div>\n",
       "<style scoped>\n",
       "    .dataframe tbody tr th:only-of-type {\n",
       "        vertical-align: middle;\n",
       "    }\n",
       "\n",
       "    .dataframe tbody tr th {\n",
       "        vertical-align: top;\n",
       "    }\n",
       "\n",
       "    .dataframe thead th {\n",
       "        text-align: right;\n",
       "    }\n",
       "</style>\n",
       "<table border=\"1\" class=\"dataframe\">\n",
       "  <thead>\n",
       "    <tr style=\"text-align: right;\">\n",
       "      <th></th>\n",
       "      <th>pay_price</th>\n",
       "      <th>prediction_pay_price</th>\n",
       "      <th>avg_online_minutes</th>\n",
       "    </tr>\n",
       "  </thead>\n",
       "  <tbody>\n",
       "    <tr>\n",
       "      <th>count</th>\n",
       "      <td>11309.000000</td>\n",
       "      <td>11309.000000</td>\n",
       "      <td>11309.000000</td>\n",
       "    </tr>\n",
       "    <tr>\n",
       "      <th>mean</th>\n",
       "      <td>77.782753</td>\n",
       "      <td>315.976807</td>\n",
       "      <td>245.507996</td>\n",
       "    </tr>\n",
       "    <tr>\n",
       "      <th>std</th>\n",
       "      <td>289.611267</td>\n",
       "      <td>1202.829590</td>\n",
       "      <td>180.424377</td>\n",
       "    </tr>\n",
       "    <tr>\n",
       "      <th>min</th>\n",
       "      <td>0.990000</td>\n",
       "      <td>1.980000</td>\n",
       "      <td>0.666667</td>\n",
       "    </tr>\n",
       "    <tr>\n",
       "      <th>25%</th>\n",
       "      <td>2.980000</td>\n",
       "      <td>16.940001</td>\n",
       "      <td>109.666664</td>\n",
       "    </tr>\n",
       "    <tr>\n",
       "      <th>50%</th>\n",
       "      <td>15.970000</td>\n",
       "      <td>48.919998</td>\n",
       "      <td>200.500000</td>\n",
       "    </tr>\n",
       "    <tr>\n",
       "      <th>75%</th>\n",
       "      <td>45.939999</td>\n",
       "      <td>163.759995</td>\n",
       "      <td>339.833344</td>\n",
       "    </tr>\n",
       "    <tr>\n",
       "      <th>max</th>\n",
       "      <td>7457.950195</td>\n",
       "      <td>32977.808594</td>\n",
       "      <td>1674.666626</td>\n",
       "    </tr>\n",
       "  </tbody>\n",
       "</table>\n",
       "</div>"
      ],
      "text/plain": [
       "          pay_price  prediction_pay_price  avg_online_minutes\n",
       "count  11309.000000          11309.000000        11309.000000\n",
       "mean      77.782753            315.976807          245.507996\n",
       "std      289.611267           1202.829590          180.424377\n",
       "min        0.990000              1.980000            0.666667\n",
       "25%        2.980000             16.940001          109.666664\n",
       "50%       15.970000             48.919998          200.500000\n",
       "75%       45.939999            163.759995          339.833344\n",
       "max     7457.950195          32977.808594         1674.666626"
      ]
     },
     "execution_count": 41,
     "metadata": {},
     "output_type": "execute_result"
    }
   ],
   "source": [
    "data_train2[(data_train2['pay_price']>0) & (data_train2['pay_price'] < data_train2['prediction_pay_price'])] \\\n",
    "[['pay_price','prediction_pay_price','avg_online_minutes']].describe()\n",
    "#pp>0 and pp< ppp 只给了7天,45天也付了"
   ]
  },
  {
   "cell_type": "code",
   "execution_count": 42,
   "metadata": {
    "ExecuteTime": {
     "end_time": "2018-08-17T07:57:05.062427Z",
     "start_time": "2018-08-17T07:57:04.944420Z"
    }
   },
   "outputs": [
    {
     "data": {
      "text/html": [
       "<div>\n",
       "<style scoped>\n",
       "    .dataframe tbody tr th:only-of-type {\n",
       "        vertical-align: middle;\n",
       "    }\n",
       "\n",
       "    .dataframe tbody tr th {\n",
       "        vertical-align: top;\n",
       "    }\n",
       "\n",
       "    .dataframe thead th {\n",
       "        text-align: right;\n",
       "    }\n",
       "</style>\n",
       "<table border=\"1\" class=\"dataframe\">\n",
       "  <thead>\n",
       "    <tr style=\"text-align: right;\">\n",
       "      <th></th>\n",
       "      <th>pay_price</th>\n",
       "      <th>prediction_pay_price</th>\n",
       "      <th>avg_online_minutes</th>\n",
       "      <th>general_acceleration_add_value</th>\n",
       "    </tr>\n",
       "  </thead>\n",
       "  <tbody>\n",
       "    <tr>\n",
       "      <th>count</th>\n",
       "      <td>4549.0</td>\n",
       "      <td>4549.000000</td>\n",
       "      <td>4549.000000</td>\n",
       "      <td>4549.000000</td>\n",
       "    </tr>\n",
       "    <tr>\n",
       "      <th>mean</th>\n",
       "      <td>0.0</td>\n",
       "      <td>40.842228</td>\n",
       "      <td>115.475998</td>\n",
       "      <td>2315.558804</td>\n",
       "    </tr>\n",
       "    <tr>\n",
       "      <th>std</th>\n",
       "      <td>0.0</td>\n",
       "      <td>238.763504</td>\n",
       "      <td>128.285599</td>\n",
       "      <td>2406.838272</td>\n",
       "    </tr>\n",
       "    <tr>\n",
       "      <th>min</th>\n",
       "      <td>0.0</td>\n",
       "      <td>0.990000</td>\n",
       "      <td>0.000000</td>\n",
       "      <td>0.000000</td>\n",
       "    </tr>\n",
       "    <tr>\n",
       "      <th>25%</th>\n",
       "      <td>0.0</td>\n",
       "      <td>0.990000</td>\n",
       "      <td>22.833332</td>\n",
       "      <td>543.000000</td>\n",
       "    </tr>\n",
       "    <tr>\n",
       "      <th>50%</th>\n",
       "      <td>0.0</td>\n",
       "      <td>5.980000</td>\n",
       "      <td>77.500000</td>\n",
       "      <td>1678.000000</td>\n",
       "    </tr>\n",
       "    <tr>\n",
       "      <th>75%</th>\n",
       "      <td>0.0</td>\n",
       "      <td>19.950001</td>\n",
       "      <td>159.166672</td>\n",
       "      <td>3414.000000</td>\n",
       "    </tr>\n",
       "    <tr>\n",
       "      <th>max</th>\n",
       "      <td>0.0</td>\n",
       "      <td>6752.970215</td>\n",
       "      <td>1098.833374</td>\n",
       "      <td>28764.000000</td>\n",
       "    </tr>\n",
       "  </tbody>\n",
       "</table>\n",
       "</div>"
      ],
      "text/plain": [
       "       pay_price  prediction_pay_price  avg_online_minutes  \\\n",
       "count     4549.0           4549.000000         4549.000000   \n",
       "mean         0.0             40.842228          115.475998   \n",
       "std          0.0            238.763504          128.285599   \n",
       "min          0.0              0.990000            0.000000   \n",
       "25%          0.0              0.990000           22.833332   \n",
       "50%          0.0              5.980000           77.500000   \n",
       "75%          0.0             19.950001          159.166672   \n",
       "max          0.0           6752.970215         1098.833374   \n",
       "\n",
       "       general_acceleration_add_value  \n",
       "count                     4549.000000  \n",
       "mean                      2315.558804  \n",
       "std                       2406.838272  \n",
       "min                          0.000000  \n",
       "25%                        543.000000  \n",
       "50%                       1678.000000  \n",
       "75%                       3414.000000  \n",
       "max                      28764.000000  "
      ]
     },
     "execution_count": 42,
     "metadata": {},
     "output_type": "execute_result"
    }
   ],
   "source": [
    "data_train2[(data_train2['pay_price']==0) & (data_train2['prediction_pay_price']>0)] \\\n",
    "[['pay_price','prediction_pay_price','avg_online_minutes','general_acceleration_add_value']].describe()\n",
    "#pp=0 and ppp>0 前7天未付款,后45天也付钱的"
   ]
  },
  {
   "cell_type": "code",
   "execution_count": 43,
   "metadata": {
    "ExecuteTime": {
     "end_time": "2018-08-17T07:57:06.686520Z",
     "start_time": "2018-08-17T07:57:05.064427Z"
    }
   },
   "outputs": [
    {
     "data": {
      "text/html": [
       "<div>\n",
       "<style scoped>\n",
       "    .dataframe tbody tr th:only-of-type {\n",
       "        vertical-align: middle;\n",
       "    }\n",
       "\n",
       "    .dataframe tbody tr th {\n",
       "        vertical-align: top;\n",
       "    }\n",
       "\n",
       "    .dataframe thead th {\n",
       "        text-align: right;\n",
       "    }\n",
       "</style>\n",
       "<table border=\"1\" class=\"dataframe\">\n",
       "  <thead>\n",
       "    <tr style=\"text-align: right;\">\n",
       "      <th></th>\n",
       "      <th>pay_price</th>\n",
       "      <th>prediction_pay_price</th>\n",
       "      <th>avg_online_minutes</th>\n",
       "      <th>general_acceleration_add_value</th>\n",
       "    </tr>\n",
       "  </thead>\n",
       "  <tbody>\n",
       "    <tr>\n",
       "      <th>count</th>\n",
       "      <td>2242019.0</td>\n",
       "      <td>2242019.0</td>\n",
       "      <td>2.242019e+06</td>\n",
       "      <td>2.242019e+06</td>\n",
       "    </tr>\n",
       "    <tr>\n",
       "      <th>mean</th>\n",
       "      <td>0.0</td>\n",
       "      <td>0.0</td>\n",
       "      <td>7.573942e+00</td>\n",
       "      <td>1.462377e+02</td>\n",
       "    </tr>\n",
       "    <tr>\n",
       "      <th>std</th>\n",
       "      <td>0.0</td>\n",
       "      <td>0.0</td>\n",
       "      <td>2.734151e+01</td>\n",
       "      <td>5.413398e+02</td>\n",
       "    </tr>\n",
       "    <tr>\n",
       "      <th>min</th>\n",
       "      <td>0.0</td>\n",
       "      <td>0.0</td>\n",
       "      <td>0.000000e+00</td>\n",
       "      <td>0.000000e+00</td>\n",
       "    </tr>\n",
       "    <tr>\n",
       "      <th>25%</th>\n",
       "      <td>0.0</td>\n",
       "      <td>0.0</td>\n",
       "      <td>5.000000e-01</td>\n",
       "      <td>0.000000e+00</td>\n",
       "    </tr>\n",
       "    <tr>\n",
       "      <th>50%</th>\n",
       "      <td>0.0</td>\n",
       "      <td>0.0</td>\n",
       "      <td>1.833333e+00</td>\n",
       "      <td>0.000000e+00</td>\n",
       "    </tr>\n",
       "    <tr>\n",
       "      <th>75%</th>\n",
       "      <td>0.0</td>\n",
       "      <td>0.0</td>\n",
       "      <td>4.500000e+00</td>\n",
       "      <td>5.000000e+01</td>\n",
       "    </tr>\n",
       "    <tr>\n",
       "      <th>max</th>\n",
       "      <td>0.0</td>\n",
       "      <td>0.0</td>\n",
       "      <td>2.049667e+03</td>\n",
       "      <td>5.786900e+04</td>\n",
       "    </tr>\n",
       "  </tbody>\n",
       "</table>\n",
       "</div>"
      ],
      "text/plain": [
       "       pay_price  prediction_pay_price  avg_online_minutes  \\\n",
       "count  2242019.0             2242019.0        2.242019e+06   \n",
       "mean         0.0                   0.0        7.573942e+00   \n",
       "std          0.0                   0.0        2.734151e+01   \n",
       "min          0.0                   0.0        0.000000e+00   \n",
       "25%          0.0                   0.0        5.000000e-01   \n",
       "50%          0.0                   0.0        1.833333e+00   \n",
       "75%          0.0                   0.0        4.500000e+00   \n",
       "max          0.0                   0.0        2.049667e+03   \n",
       "\n",
       "       general_acceleration_add_value  \n",
       "count                    2.242019e+06  \n",
       "mean                     1.462377e+02  \n",
       "std                      5.413398e+02  \n",
       "min                      0.000000e+00  \n",
       "25%                      0.000000e+00  \n",
       "50%                      0.000000e+00  \n",
       "75%                      5.000000e+01  \n",
       "max                      5.786900e+04  "
      ]
     },
     "execution_count": 43,
     "metadata": {},
     "output_type": "execute_result"
    }
   ],
   "source": [
    "data_train2[(data_train2['pay_price']==0) & (data_train2['prediction_pay_price']==0)] \\\n",
    "[['pay_price','prediction_pay_price','avg_online_minutes','general_acceleration_add_value']].describe()"
   ]
  },
  {
   "cell_type": "code",
   "execution_count": 57,
   "metadata": {
    "ExecuteTime": {
     "end_time": "2018-08-17T08:49:29.851787Z",
     "start_time": "2018-08-17T08:49:29.836187Z"
    }
   },
   "outputs": [],
   "source": [
    "# del data_7pay"
   ]
  },
  {
   "cell_type": "code",
   "execution_count": 58,
   "metadata": {
    "ExecuteTime": {
     "end_time": "2018-08-17T08:49:31.216623Z",
     "start_time": "2018-08-17T08:49:31.137020Z"
    }
   },
   "outputs": [],
   "source": [
    "data_7pay=data_train2[data_train2['pay_price']>0].copy()\n"
   ]
  },
  {
   "cell_type": "code",
   "execution_count": 59,
   "metadata": {
    "ExecuteTime": {
     "end_time": "2018-08-17T08:50:43.204132Z",
     "start_time": "2018-08-17T08:50:42.970520Z"
    }
   },
   "outputs": [],
   "source": [
    "data_7pay['ivory_qua1']=data_7pay.ivory_add_value+data_7pay.ivory_reduce_value\n",
    "data_7pay['ivory_qua2']=data_7pay.ivory_add_value-data_7pay.ivory_reduce_value\n",
    "data_7pay['stone_qua1']=data_7pay.stone_add_value+data_7pay.stone_reduce_value\n",
    "data_7pay['stone_qua2']=data_7pay.stone_add_value-data_7pay.stone_reduce_value\n",
    "data_7pay['meat_qua1']=data_7pay.meat_add_value+data_7pay.meat_reduce_value\n",
    "data_7pay['meat_qua2']=data_7pay.meat_add_value-data_7pay.meat_reduce_value\n",
    "data_7pay['wood_qua1']=data_7pay.wood_add_value+data_7pay.wood_reduce_value\n",
    "data_7pay['wood_qua2']=data_7pay.wood_add_value-data_7pay.wood_reduce_value\n",
    "\n",
    "text_def=[]\n",
    "for col in data_7pay.columns.values:\n",
    "     if 'def' in col:\n",
    "            text_def.append(col)\n",
    "text_def=[]\n",
    "for col in data_7pay.columns.values:\n",
    "     if 'def' in col:\n",
    "            text_def.append(col)\n",
    "text_troop=[]\n",
    "for col in data_7pay.columns.values:\n",
    "    if 'troop' in col :\n",
    "        text_troop.append(col)\n",
    "text_cavalry=[]\n",
    "for col in data_7pay.columns.values:\n",
    "    if 'sr_cavalry' in col :\n",
    "        text_cavalry.append(col) \n",
    "text_infantry=[]\n",
    "for col in data_7pay.columns.values:\n",
    "    if 'sr_infantry' in col :\n",
    "        text_infantry.append(col)        \n",
    "\n",
    "text_shaman=[]\n",
    "for col in data_7pay.columns.values:\n",
    "    if 'sr_shaman' in col :\n",
    "        text_shaman.append(col)\n",
    "text_speed=[]\n",
    "for col in data_7pay.columns.values:\n",
    "    if 'speed' in col :\n",
    "        text_speed.append(col)\n",
    "data_7pay['def_qua1']=0.0\n",
    "for name in text_def:\n",
    "    data_7pay['def_qua1']+=data_7pay[name]\n",
    "data_7pay['cavalry_qua1']=0.0\n",
    "for name in text_cavalry:\n",
    "    data_7pay['cavalry_qua1']+=data_7pay[name]\n",
    "data_7pay['infantry_qua1']=0.0\n",
    "for name in text_infantry:\n",
    "    data_7pay['infantry_qua1']+=data_7pay[name] \n",
    "data_7pay['shaman_qua1']=0.0\n",
    "for name in text_shaman:\n",
    "    data_7pay['shaman_qua1']+=data_7pay[name]\n",
    "data_7pay['speed_qua1']=0.0\n",
    "for name in text_speed:\n",
    "    data_7pay['speed_qua1']+=data_7pay[name]\n",
    "data_7pay['troop_qua1']=0.0\n",
    "for name in text_troop:\n",
    "    data_7pay['troop_qua1']+=data_7pay[name]\n",
    "\n",
    "\n",
    "text_acceleration=[]\n",
    "for col in data_7pay.columns.values:\n",
    "    if 'acceleration' in col :\n",
    "        text_acceleration.append(col)\n",
    "text_acceleration_add=[]\n",
    "for col in data_7pay.columns.values:\n",
    "    if 'acceleration_add' in col :\n",
    "        text_acceleration_add.append(col)\n",
    "text_acceleration_reduce=[]\n",
    "for col in data_7pay.columns.values:\n",
    "    if 'acceleration_reduce' in col :\n",
    "        text_acceleration_reduce.append(col) \n",
    "        \n",
    "data_7pay['acceleration_qua1']=0.0\n",
    "for name in text_acceleration:\n",
    "    data_7pay['acceleration_qua1']+=data_7pay[name]\n",
    "data_7pay['acceleration_add_qua1']=0.0\n",
    "for name in text_acceleration_add:\n",
    "    data_7pay['acceleration_add_qua1']+=data_7pay[name]\n",
    "data_7pay['acceleration_reduce_qua1']=0.0\n",
    "for name in text_acceleration_reduce:\n",
    "    data_7pay['acceleration_reduce_qua1']+=data_7pay[name]    \n",
    "        \n",
    "\n"
   ]
  },
  {
   "cell_type": "code",
   "execution_count": 60,
   "metadata": {
    "ExecuteTime": {
     "end_time": "2018-08-17T09:53:00.597096Z",
     "start_time": "2018-08-17T09:53:00.565896Z"
    }
   },
   "outputs": [],
   "source": [
    "text_qua=[]\n",
    "for col in data_7pay.columns.values:\n",
    "    if 'qua' in col:\n",
    "        text_qua.append(col)"
   ]
  },
  {
   "cell_type": "code",
   "execution_count": 61,
   "metadata": {
    "ExecuteTime": {
     "end_time": "2018-08-17T09:53:00.881112Z",
     "start_time": "2018-08-17T09:53:00.877112Z"
    }
   },
   "outputs": [
    {
     "data": {
      "text/plain": [
       "['ivory_qua1',\n",
       " 'ivory_qua2',\n",
       " 'stone_qua1',\n",
       " 'stone_qua2',\n",
       " 'meat_qua1',\n",
       " 'meat_qua2',\n",
       " 'wood_qua1',\n",
       " 'wood_qua2',\n",
       " 'def_qua1',\n",
       " 'cavalry_qua1',\n",
       " 'infantry_qua1',\n",
       " 'shaman_qua1',\n",
       " 'speed_qua1',\n",
       " 'troop_qua1',\n",
       " 'acceleration_qua1',\n",
       " 'acceleration_add_qua1',\n",
       " 'acceleration_reduce_qua1']"
      ]
     },
     "execution_count": 61,
     "metadata": {},
     "output_type": "execute_result"
    }
   ],
   "source": [
    "text_qua"
   ]
  },
  {
   "cell_type": "code",
   "execution_count": 63,
   "metadata": {
    "ExecuteTime": {
     "end_time": "2018-08-17T09:55:29.490335Z",
     "start_time": "2018-08-17T09:55:29.448734Z"
    }
   },
   "outputs": [],
   "source": [
    "for name in text_qua:\n",
    "    qua_name=name+'_per_price'\n",
    "    data_7pay[qua_name]=data_7pay[name]/data_7pay['pay_price']    \n"
   ]
  },
  {
   "cell_type": "code",
   "execution_count": 64,
   "metadata": {
    "ExecuteTime": {
     "end_time": "2018-08-17T09:55:46.680976Z",
     "start_time": "2018-08-17T09:55:45.571714Z"
    }
   },
   "outputs": [],
   "source": [
    "data_7pay_corr=data_pay_7.corr()"
   ]
  },
  {
   "cell_type": "code",
   "execution_count": 66,
   "metadata": {
    "ExecuteTime": {
     "end_time": "2018-08-17T09:56:23.120841Z",
     "start_time": "2018-08-17T09:56:23.089641Z"
    }
   },
   "outputs": [
    {
     "data": {
      "text/plain": [
       "pay_price                              1.000000\n",
       "ivory_reduce_value                     0.859886\n",
       "general_acceleration_add_value         0.857857\n",
       "ivory_add_value                        0.856561\n",
       "stone_reduce_value                     0.841409\n",
       "stone_add_value                        0.836469\n",
       "wood_add_value                         0.830052\n",
       "wood_reduce_value                      0.826977\n",
       "training_acceleration_add_value        0.820700\n",
       "general_acceleration_reduce_value      0.816793\n",
       "meat_reduce_value                      0.805732\n",
       "meat_add_value                         0.801940\n",
       "pay_count                              0.796696\n",
       "reaserch_acceleration_add_value        0.791326\n",
       "reaserch_acceleration_reduce_value     0.781862\n",
       "training_acceleration_reduce_value     0.764229\n",
       "building_acceleration_reduce_value     0.734867\n",
       "prediction_pay_price                   0.734502\n",
       "building_acceleration_add_value        0.733990\n",
       "sr_troop_defense_level                 0.723983\n",
       "magic_reduce_value                     0.706766\n",
       "magic_add_value                        0.685239\n",
       "sr_cavalry_def_level                   0.679768\n",
       "sr_infantry_def_level                  0.665886\n",
       "sr_infantry_hp_level                   0.655572\n",
       "sr_cavalry_hp_level                    0.644845\n",
       "sr_shaman_def_level                    0.641374\n",
       "sr_shaman_hp_level                     0.611238\n",
       "sr_shaman_tier_3_level                 0.591696\n",
       "sr_cavalry_tier_3_level                0.584234\n",
       "                                         ...   \n",
       "pve_battle_count                       0.146597\n",
       "pve_lanch_count                        0.145604\n",
       "pve_win_count                          0.143427\n",
       "treatment_acceleration_reduce_value    0.140703\n",
       "bd_hero_strengthen_level               0.135782\n",
       "sr_construction_speed_level            0.131985\n",
       "sr_rss_help_bonus_level                0.120778\n",
       "bd_hero_gacha_level                    0.119598\n",
       "bd_market_level                        0.118902\n",
       "sr_troop_load_level                    0.118796\n",
       "sr_rss_a_gather_level                  0.113371\n",
       "wound_infantry_reduce_value            0.113230\n",
       "wound_infantry_add_value               0.112100\n",
       "wound_cavalry_reduce_value             0.112067\n",
       "sr_scout_level                         0.110387\n",
       "sr_hide_storage_level                  0.109507\n",
       "wound_cavalry_add_value                0.109497\n",
       "sr_rss_a_prod_levell                   0.106607\n",
       "sr_rss_d_gather_level                  0.105716\n",
       "sr_troop_consumption_level             0.104531\n",
       "sr_outpost_durability_level            0.100287\n",
       "sr_rss_d_prod_level                    0.097419\n",
       "shaman_add_value                       0.086263\n",
       "sr_shaman_tier_2_level                 0.084412\n",
       "sr_cavalry_tier_2_level                0.075558\n",
       "sr_infantry_tier_2_level               0.072794\n",
       "sr_outpost_tier_2_level                0.058018\n",
       "shaman_reduce_value                    0.038085\n",
       "wound_shaman_add_value                 0.019621\n",
       "wound_shaman_reduce_value              0.019509\n",
       "Name: pay_price, Length: 107, dtype: float64"
      ]
     },
     "execution_count": 66,
     "metadata": {},
     "output_type": "execute_result"
    }
   ],
   "source": [
    "data_7pay_corr['pay_price'].sort_values(ascending=False)"
   ]
  },
  {
   "cell_type": "code",
   "execution_count": null,
   "metadata": {},
   "outputs": [],
   "source": [
    "data_7pay_corr['pay_price'].sort_values(ascending=False)"
   ]
  },
  {
   "cell_type": "code",
   "execution_count": null,
   "metadata": {
    "ExecuteTime": {
     "end_time": "2018-08-16T08:56:10.668773Z",
     "start_time": "2018-08-16T08:56:09.629115Z"
    }
   },
   "outputs": [],
   "source": [
    "# data_pay_7_corr=data_pay_7.corr()"
   ]
  },
  {
   "cell_type": "code",
   "execution_count": null,
   "metadata": {
    "ExecuteTime": {
     "end_time": "2018-08-16T08:56:41.159569Z",
     "start_time": "2018-08-16T08:56:41.152569Z"
    }
   },
   "outputs": [],
   "source": [
    "# data_pay_7_corr['prediction_pay_price'].sort_values(ascending=False)"
   ]
  },
  {
   "cell_type": "code",
   "execution_count": null,
   "metadata": {
    "ExecuteTime": {
     "end_time": "2018-08-16T08:59:16.935245Z",
     "start_time": "2018-08-16T08:59:15.779580Z"
    }
   },
   "outputs": [],
   "source": [
    "# data_pay_45_corr=data_pay_45.corr()"
   ]
  },
  {
   "cell_type": "code",
   "execution_count": null,
   "metadata": {
    "ExecuteTime": {
     "end_time": "2018-08-16T08:59:53.976503Z",
     "start_time": "2018-08-16T08:59:53.945303Z"
    }
   },
   "outputs": [],
   "source": [
    "# data_pay_45_corr['prediction_pay_price'].sort_values(ascending=False)"
   ]
  },
  {
   "cell_type": "code",
   "execution_count": null,
   "metadata": {
    "ExecuteTime": {
     "end_time": "2018-08-16T08:10:54.049506Z",
     "start_time": "2018-08-16T08:10:53.365268Z"
    }
   },
   "outputs": [],
   "source": [
    "# data_7nopay=data_train2[(data_train2['pay_price']==0)]\n",
    "\n",
    "# data_7nopay_corr=data_7nopay.corr()\n",
    "\n",
    "# # data_7nopay_corr['prediction_pay_price'].sort_values(ascending=False)\n",
    "\n",
    "# data_7nopay_45pay=data_train2[(data_train2['pay_price']==0) &  (data_train2['prediction_pay_price']>0)]\n",
    "\n",
    "# data_7nopay_45pay_corr=data_7nopay_45pay.corr()\n",
    "\n",
    "# data_7nopay_45pay_corr['prediction_pay_price'].sort_values(ascending=False)\n",
    "\n",
    "# data_7nopay_45nopay=data_train2[(data_train2['pay_price']==0) &  (data_train2['prediction_pay_price']==0)]\n",
    "\n",
    "# data_7nopay_45nopay_corr=data_7nopay_45nopay.corr()\n",
    "\n",
    "# data_7nopay_45nopay_corr['prediction_pay_price'].sort_values(ascending=False)\n",
    "\n",
    "# del data_7nopay_45pay_corr,data_7nopay_45nopay_corr,data_7nopay_corr\n",
    "# del data_7nopay,data_7nopay_45nopay,data_7nopay_45pay"
   ]
  },
  {
   "cell_type": "code",
   "execution_count": null,
   "metadata": {
    "ExecuteTime": {
     "end_time": "2018-08-16T08:50:25.634461Z",
     "start_time": "2018-08-16T08:50:25.618861Z"
    }
   },
   "outputs": [],
   "source": []
  },
  {
   "cell_type": "code",
   "execution_count": null,
   "metadata": {
    "ExecuteTime": {
     "end_time": "2018-08-16T06:38:41.633749Z",
     "start_time": "2018-08-16T06:38:41.459739Z"
    }
   },
   "outputs": [],
   "source": [
    "data_train2[(data_train2['pay_price']==0) & (data_train2['prediction_pay_price']==0) & \\\n",
    "             #(data_train2['avg_online_minutes'] >75) \n",
    "             (data_train2['general_acceleration_add_value']> 100)].shape"
   ]
  },
  {
   "cell_type": "code",
   "execution_count": null,
   "metadata": {},
   "outputs": [],
   "source": [
    "data_train2[(data_train2['pay_price']==0)]"
   ]
  },
  {
   "cell_type": "code",
   "execution_count": null,
   "metadata": {},
   "outputs": [],
   "source": [
    "#################################################"
   ]
  },
  {
   "cell_type": "code",
   "execution_count": null,
   "metadata": {
    "ExecuteTime": {
     "end_time": "2018-08-14T01:55:23.780105Z",
     "start_time": "2018-08-14T01:55:23.690100Z"
    }
   },
   "outputs": [],
   "source": [
    "top50_ppp_index=data_train2[data_train2['prediction_pay_price']>0]['prediction_pay_price'].sort_values(ascending=False).head(50).index"
   ]
  },
  {
   "cell_type": "code",
   "execution_count": null,
   "metadata": {
    "ExecuteTime": {
     "end_time": "2018-08-14T01:55:23.842109Z",
     "start_time": "2018-08-14T01:55:23.781105Z"
    }
   },
   "outputs": [],
   "source": [
    "data_train2.iloc[top50_ppp_index][['avg_online_minutes','pay_count','pay_price','prediction_pay_price']]"
   ]
  },
  {
   "cell_type": "code",
   "execution_count": null,
   "metadata": {
    "ExecuteTime": {
     "end_time": "2018-08-14T01:55:23.979117Z",
     "start_time": "2018-08-14T01:55:23.843109Z"
    }
   },
   "outputs": [],
   "source": [
    "data_pp_df=data_train2[data_train2['pay_price']>0]"
   ]
  },
  {
   "cell_type": "code",
   "execution_count": null,
   "metadata": {
    "ExecuteTime": {
     "end_time": "2018-08-14T01:55:24.068122Z",
     "start_time": "2018-08-14T01:55:23.981117Z"
    }
   },
   "outputs": [],
   "source": [
    "data_pp_df=data_train2[data_train2['prediction_pay_price']>0]"
   ]
  },
  {
   "cell_type": "code",
   "execution_count": null,
   "metadata": {
    "ExecuteTime": {
     "end_time": "2018-08-14T01:55:24.155127Z",
     "start_time": "2018-08-14T01:55:24.069122Z"
    }
   },
   "outputs": [],
   "source": [
    "data_pp_df['pay_price'].describe() "
   ]
  },
  {
   "cell_type": "code",
   "execution_count": null,
   "metadata": {
    "ExecuteTime": {
     "end_time": "2018-08-14T01:55:24.328137Z",
     "start_time": "2018-08-14T01:55:24.156127Z"
    }
   },
   "outputs": [],
   "source": [
    "data_pp_df['prediction_pay_price'].describe()"
   ]
  },
  {
   "cell_type": "code",
   "execution_count": null,
   "metadata": {},
   "outputs": [],
   "source": []
  }
 ],
 "metadata": {
  "kernelspec": {
   "display_name": "Python 3",
   "language": "python",
   "name": "python3"
  },
  "language_info": {
   "codemirror_mode": {
    "name": "ipython",
    "version": 3
   },
   "file_extension": ".py",
   "mimetype": "text/x-python",
   "name": "python",
   "nbconvert_exporter": "python",
   "pygments_lexer": "ipython3",
   "version": "3.6.3"
  }
 },
 "nbformat": 4,
 "nbformat_minor": 2
}
