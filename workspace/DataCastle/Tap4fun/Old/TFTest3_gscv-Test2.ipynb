{
 "cells": [
  {
   "cell_type": "code",
   "execution_count": 1,
   "metadata": {
    "ExecuteTime": {
     "end_time": "2018-08-10T06:21:30.396890Z",
     "start_time": "2018-08-10T06:21:29.987867Z"
    }
   },
   "outputs": [],
   "source": [
    "import pandas as pd\n",
    "import numpy as np"
   ]
  },
  {
   "cell_type": "code",
   "execution_count": 2,
   "metadata": {
    "ExecuteTime": {
     "end_time": "2018-08-10T06:21:30.413891Z",
     "start_time": "2018-08-10T06:21:30.397890Z"
    }
   },
   "outputs": [],
   "source": [
    "df_train=pd.read_csv('F:\\\\study\\\\ml\\\\DataSet\\\\Tap4fun\\\\tap_fun_train.csv',nrows=5)"
   ]
  },
  {
   "cell_type": "code",
   "execution_count": 3,
   "metadata": {
    "ExecuteTime": {
     "end_time": "2018-08-10T06:21:30.507897Z",
     "start_time": "2018-08-10T06:21:30.414891Z"
    }
   },
   "outputs": [
    {
     "name": "stdout",
     "output_type": "stream",
     "text": [
      "<class 'pandas.core.frame.DataFrame'>\n",
      "RangeIndex: 5 entries, 0 to 4\n",
      "Columns: 109 entries, user_id to prediction_pay_price\n",
      "dtypes: float64(13), int64(95), object(1)\n",
      "memory usage: 4.7 KB\n"
     ]
    }
   ],
   "source": [
    "df_train.info(memory_usage='deep')"
   ]
  },
  {
   "cell_type": "code",
   "execution_count": 4,
   "metadata": {
    "ExecuteTime": {
     "end_time": "2018-08-10T06:21:30.654905Z",
     "start_time": "2018-08-10T06:21:30.508897Z"
    }
   },
   "outputs": [],
   "source": [
    "c_int=df_train.select_dtypes(include=['int64']).apply(pd.to_numeric,downcast='unsigned')\n",
    "c_float=df_train.select_dtypes(include=['float']).apply(pd.to_numeric,downcast='float')"
   ]
  },
  {
   "cell_type": "code",
   "execution_count": 5,
   "metadata": {
    "ExecuteTime": {
     "end_time": "2018-08-10T06:21:30.724909Z",
     "start_time": "2018-08-10T06:21:30.655905Z"
    }
   },
   "outputs": [],
   "source": [
    "o_df=df_train.copy()"
   ]
  },
  {
   "cell_type": "code",
   "execution_count": 6,
   "metadata": {
    "ExecuteTime": {
     "end_time": "2018-08-10T06:21:30.849916Z",
     "start_time": "2018-08-10T06:21:30.725909Z"
    }
   },
   "outputs": [],
   "source": [
    "o_df[c_int.columns]=c_int\n",
    "o_df[c_float.columns]=c_float"
   ]
  },
  {
   "cell_type": "code",
   "execution_count": 7,
   "metadata": {
    "ExecuteTime": {
     "end_time": "2018-08-10T06:21:30.924920Z",
     "start_time": "2018-08-10T06:21:30.850916Z"
    }
   },
   "outputs": [],
   "source": [
    "dtypes=o_df.dtypes\n",
    "dtypes_col=dtypes.index\n",
    "dtypes_type=[i.name for i in dtypes.values]\n",
    "column_type=dict(zip(dtypes_col,dtypes_type))"
   ]
  },
  {
   "cell_type": "code",
   "execution_count": 8,
   "metadata": {
    "ExecuteTime": {
     "end_time": "2018-08-10T06:21:31.020926Z",
     "start_time": "2018-08-10T06:21:30.925920Z"
    }
   },
   "outputs": [],
   "source": [
    "#column_type"
   ]
  },
  {
   "cell_type": "code",
   "execution_count": 9,
   "metadata": {
    "ExecuteTime": {
     "end_time": "2018-08-10T06:21:31.127932Z",
     "start_time": "2018-08-10T06:21:31.021926Z"
    }
   },
   "outputs": [
    {
     "data": {
      "text/plain": [
       "'object'"
      ]
     },
     "execution_count": 9,
     "metadata": {},
     "output_type": "execute_result"
    }
   ],
   "source": [
    "column_type.pop('register_time')"
   ]
  },
  {
   "cell_type": "code",
   "execution_count": 10,
   "metadata": {
    "ExecuteTime": {
     "end_time": "2018-08-10T06:21:49.559986Z",
     "start_time": "2018-08-10T06:21:31.128932Z"
    }
   },
   "outputs": [],
   "source": [
    "data_test=pd.read_csv('F:\\\\study\\\\ml\\\\DataSet\\\\Tap4fun\\\\tap_fun_train.csv',\n",
    "                      dtype=column_type,parse_dates=['register_time'],infer_datetime_format=True)"
   ]
  },
  {
   "cell_type": "code",
   "execution_count": null,
   "metadata": {},
   "outputs": [],
   "source": []
  },
  {
   "cell_type": "code",
   "execution_count": 11,
   "metadata": {
    "ExecuteTime": {
     "end_time": "2018-08-10T06:21:49.691994Z",
     "start_time": "2018-08-10T06:21:49.561986Z"
    }
   },
   "outputs": [],
   "source": [
    "test_feat2=data_test.copy()"
   ]
  },
  {
   "cell_type": "code",
   "execution_count": 12,
   "metadata": {
    "ExecuteTime": {
     "end_time": "2018-08-10T06:21:49.773998Z",
     "start_time": "2018-08-10T06:21:49.692994Z"
    }
   },
   "outputs": [],
   "source": [
    "test_feat2['ivory_qua1']=test_feat2.ivory_add_value+test_feat2.ivory_reduce_value\n",
    "test_feat2['ivory_qua2']=test_feat2.ivory_add_value-test_feat2.ivory_reduce_value\n",
    "test_feat2['stone_qua1']=test_feat2.stone_add_value+test_feat2.stone_reduce_value\n",
    "test_feat2['stone_qua2']=test_feat2.stone_add_value-test_feat2.stone_reduce_value\n",
    "test_feat2['meat_qua1']=test_feat2.meat_add_value+test_feat2.meat_reduce_value\n",
    "test_feat2['meat_qua2']=test_feat2.meat_add_value-test_feat2.meat_reduce_value\n",
    "test_feat2['wood_qua1']=test_feat2.wood_add_value+test_feat2.wood_reduce_value\n",
    "test_feat2['wood_qua2']=test_feat2.wood_add_value-test_feat2.wood_reduce_value"
   ]
  },
  {
   "cell_type": "code",
   "execution_count": 13,
   "metadata": {
    "ExecuteTime": {
     "end_time": "2018-08-10T06:21:50.753054Z",
     "start_time": "2018-08-10T06:21:49.774999Z"
    }
   },
   "outputs": [],
   "source": [
    "text_def=[]\n",
    "for col in test_feat2.columns.values:\n",
    "     if 'def' in col:\n",
    "            text_def.append(col)\n",
    "\n",
    "text_def\n",
    "\n",
    "type(text_def)\n",
    "\n",
    "text_troop=[]\n",
    "for col in test_feat2.columns.values:\n",
    "    if 'troop' in col :\n",
    "        text_troop.append(col)\n",
    "\n",
    "text_troop\n",
    "\n",
    "text_cavalry=[]\n",
    "for col in test_feat2.columns.values:\n",
    "    if 'sr_cavalry' in col :\n",
    "        text_cavalry.append(col)\n",
    "\n",
    "text_cavalry\n",
    "\n",
    "text_infantry=[]\n",
    "for col in test_feat2.columns.values:\n",
    "    if 'sr_infantry' in col :\n",
    "        text_infantry.append(col)\n",
    "\n",
    "text_infantry\n",
    "\n",
    "text_shaman=[]\n",
    "for col in test_feat2.columns.values:\n",
    "    if 'sr_shaman' in col :\n",
    "        text_shaman.append(col)\n",
    "\n",
    "text_shaman\n",
    "\n",
    "text_speed=[]\n",
    "for col in test_feat2.columns.values:\n",
    "    if 'speed' in col :\n",
    "        text_speed.append(col)\n",
    "\n",
    "text_speed\n",
    "\n",
    "test_feat2['def_qua1']=0.0\n",
    "for name in text_def:\n",
    "    test_feat2['def_qua1']+=test_feat2[name]\n",
    "\n",
    "#pd.Series(test_feat2.columns.values) .str.contains('def')\n",
    "\n",
    "#test_feat2[test_feat2.sr_troop_attack_level != 0][test_feat2.columns.values[pd.Series(test_feat2.columns.values) .str.contains('def')]]\n",
    "\n",
    "test_feat2['def_qua1']=0.0\n",
    "for name in text_def:\n",
    "    test_feat2['def_qua1']+=test_feat2[name]\n",
    "\n",
    "# test_feat2['def_qua1']=0.0\n",
    "# for name in text_def:\n",
    "#     test_feat2['def_qua1']+=test_feat2[name]\n",
    "\n",
    "test_feat2['cavalry_qua1']=0.0\n",
    "for name in text_cavalry:\n",
    "    test_feat2['cavalry_qua1']+=test_feat2[name]\n",
    "\n",
    "# test_feat2['cavalry_qua1']=0.0\n",
    "# for name in text_cavalry:\n",
    "#     test_feat2['cavalry_qua1']+=test_feat2[name]\n",
    "\n",
    "test_feat2['infantry_qua1']=0.0\n",
    "for name in text_infantry:\n",
    "    test_feat2['infantry_qua1']+=test_feat2[name]\n",
    "\n",
    "# test_feat2['infantry_qua1']=0.0\n",
    "# for name in text_infantry:\n",
    "#     test_feat2['infantry_qua1']+=test_feat2[name]\n",
    "\n",
    "test_feat2['shaman_qua1']=0.0\n",
    "for name in text_shaman:\n",
    "    test_feat2['shaman_qua1']+=test_feat2[name]\n",
    "\n",
    "# test_feat2['shaman_qua1']=0.0\n",
    "# for name in text_shaman:\n",
    "#     test_feat2['shaman_qua1']+=test_feat2[name]\n",
    "\n",
    "test_feat2['speed_qua1']=0.0\n",
    "for name in text_speed:\n",
    "    test_feat2['speed_qua1']+=test_feat2[name]\n",
    "\n",
    "# test_feat2['speed_qua1']=0.0\n",
    "# for name in text_speed:\n",
    "#     test_feat2['speed_qua1']+=test_feat2[name]\n",
    "\n",
    "test_feat2['troop_qua1']=0.0\n",
    "for name in text_troop:\n",
    "    test_feat2['troop_qua1']+=test_feat2[name]"
   ]
  },
  {
   "cell_type": "code",
   "execution_count": 14,
   "metadata": {
    "ExecuteTime": {
     "end_time": "2018-08-10T06:21:52.283142Z",
     "start_time": "2018-08-10T06:21:50.754055Z"
    }
   },
   "outputs": [],
   "source": [
    "test_feat2['price_per_count_qua1']=test_feat2.pay_price / test_feat2.pay_count\n",
    "test_feat2_int=test_feat2.select_dtypes(include=['uint16','uint8'])\n",
    "test_feat2_float=test_feat2.select_dtypes(include=['float64','float32']).apply(pd.to_numeric,downcast='float')\n",
    "test_feat3=pd.concat([test_feat2_int,test_feat2_float],axis=1)"
   ]
  },
  {
   "cell_type": "code",
   "execution_count": 15,
   "metadata": {
    "ExecuteTime": {
     "end_time": "2018-08-10T06:21:52.288142Z",
     "start_time": "2018-08-10T06:21:52.284142Z"
    }
   },
   "outputs": [
    {
     "data": {
      "text/plain": [
       "(2288007, 123)"
      ]
     },
     "execution_count": 15,
     "metadata": {},
     "output_type": "execute_result"
    }
   ],
   "source": [
    "test_feat3.shape"
   ]
  },
  {
   "cell_type": "code",
   "execution_count": 16,
   "metadata": {
    "ExecuteTime": {
     "end_time": "2018-08-10T06:21:52.385148Z",
     "start_time": "2018-08-10T06:21:52.290142Z"
    }
   },
   "outputs": [
    {
     "data": {
      "text/html": [
       "<div>\n",
       "<style scoped>\n",
       "    .dataframe tbody tr th:only-of-type {\n",
       "        vertical-align: middle;\n",
       "    }\n",
       "\n",
       "    .dataframe tbody tr th {\n",
       "        vertical-align: top;\n",
       "    }\n",
       "\n",
       "    .dataframe thead th {\n",
       "        text-align: right;\n",
       "    }\n",
       "</style>\n",
       "<table border=\"1\" class=\"dataframe\">\n",
       "  <thead>\n",
       "    <tr style=\"text-align: right;\">\n",
       "      <th></th>\n",
       "      <th>user_id</th>\n",
       "      <th>infantry_add_value</th>\n",
       "      <th>infantry_reduce_value</th>\n",
       "      <th>cavalry_add_value</th>\n",
       "      <th>cavalry_reduce_value</th>\n",
       "      <th>shaman_add_value</th>\n",
       "      <th>shaman_reduce_value</th>\n",
       "      <th>wound_infantry_add_value</th>\n",
       "      <th>wound_infantry_reduce_value</th>\n",
       "      <th>wound_cavalry_add_value</th>\n",
       "      <th>...</th>\n",
       "      <th>meat_qua2</th>\n",
       "      <th>wood_qua1</th>\n",
       "      <th>wood_qua2</th>\n",
       "      <th>def_qua1</th>\n",
       "      <th>cavalry_qua1</th>\n",
       "      <th>infantry_qua1</th>\n",
       "      <th>shaman_qua1</th>\n",
       "      <th>speed_qua1</th>\n",
       "      <th>troop_qua1</th>\n",
       "      <th>price_per_count_qua1</th>\n",
       "    </tr>\n",
       "  </thead>\n",
       "  <tbody>\n",
       "    <tr>\n",
       "      <th>0</th>\n",
       "      <td>1</td>\n",
       "      <td>0</td>\n",
       "      <td>0</td>\n",
       "      <td>0</td>\n",
       "      <td>0</td>\n",
       "      <td>0</td>\n",
       "      <td>0</td>\n",
       "      <td>0</td>\n",
       "      <td>0</td>\n",
       "      <td>0</td>\n",
       "      <td>...</td>\n",
       "      <td>14375.0</td>\n",
       "      <td>23825.0</td>\n",
       "      <td>16425.0</td>\n",
       "      <td>0.0</td>\n",
       "      <td>0.0</td>\n",
       "      <td>0.0</td>\n",
       "      <td>0.0</td>\n",
       "      <td>0.0</td>\n",
       "      <td>0.0</td>\n",
       "      <td>NaN</td>\n",
       "    </tr>\n",
       "    <tr>\n",
       "      <th>1</th>\n",
       "      <td>1593</td>\n",
       "      <td>0</td>\n",
       "      <td>0</td>\n",
       "      <td>0</td>\n",
       "      <td>0</td>\n",
       "      <td>0</td>\n",
       "      <td>0</td>\n",
       "      <td>0</td>\n",
       "      <td>0</td>\n",
       "      <td>0</td>\n",
       "      <td>...</td>\n",
       "      <td>0.0</td>\n",
       "      <td>0.0</td>\n",
       "      <td>0.0</td>\n",
       "      <td>0.0</td>\n",
       "      <td>0.0</td>\n",
       "      <td>0.0</td>\n",
       "      <td>0.0</td>\n",
       "      <td>0.0</td>\n",
       "      <td>0.0</td>\n",
       "      <td>NaN</td>\n",
       "    </tr>\n",
       "    <tr>\n",
       "      <th>2</th>\n",
       "      <td>1594</td>\n",
       "      <td>0</td>\n",
       "      <td>0</td>\n",
       "      <td>0</td>\n",
       "      <td>0</td>\n",
       "      <td>0</td>\n",
       "      <td>0</td>\n",
       "      <td>0</td>\n",
       "      <td>0</td>\n",
       "      <td>0</td>\n",
       "      <td>...</td>\n",
       "      <td>0.0</td>\n",
       "      <td>0.0</td>\n",
       "      <td>0.0</td>\n",
       "      <td>0.0</td>\n",
       "      <td>0.0</td>\n",
       "      <td>0.0</td>\n",
       "      <td>0.0</td>\n",
       "      <td>0.0</td>\n",
       "      <td>0.0</td>\n",
       "      <td>NaN</td>\n",
       "    </tr>\n",
       "    <tr>\n",
       "      <th>3</th>\n",
       "      <td>1595</td>\n",
       "      <td>0</td>\n",
       "      <td>0</td>\n",
       "      <td>0</td>\n",
       "      <td>0</td>\n",
       "      <td>0</td>\n",
       "      <td>0</td>\n",
       "      <td>0</td>\n",
       "      <td>0</td>\n",
       "      <td>0</td>\n",
       "      <td>...</td>\n",
       "      <td>0.0</td>\n",
       "      <td>0.0</td>\n",
       "      <td>0.0</td>\n",
       "      <td>0.0</td>\n",
       "      <td>0.0</td>\n",
       "      <td>0.0</td>\n",
       "      <td>0.0</td>\n",
       "      <td>0.0</td>\n",
       "      <td>0.0</td>\n",
       "      <td>NaN</td>\n",
       "    </tr>\n",
       "    <tr>\n",
       "      <th>4</th>\n",
       "      <td>1596</td>\n",
       "      <td>0</td>\n",
       "      <td>0</td>\n",
       "      <td>0</td>\n",
       "      <td>0</td>\n",
       "      <td>0</td>\n",
       "      <td>0</td>\n",
       "      <td>0</td>\n",
       "      <td>0</td>\n",
       "      <td>0</td>\n",
       "      <td>...</td>\n",
       "      <td>0.0</td>\n",
       "      <td>0.0</td>\n",
       "      <td>0.0</td>\n",
       "      <td>0.0</td>\n",
       "      <td>0.0</td>\n",
       "      <td>0.0</td>\n",
       "      <td>0.0</td>\n",
       "      <td>0.0</td>\n",
       "      <td>0.0</td>\n",
       "      <td>NaN</td>\n",
       "    </tr>\n",
       "  </tbody>\n",
       "</table>\n",
       "<p>5 rows × 123 columns</p>\n",
       "</div>"
      ],
      "text/plain": [
       "   user_id  infantry_add_value  infantry_reduce_value  cavalry_add_value  \\\n",
       "0        1                   0                      0                  0   \n",
       "1     1593                   0                      0                  0   \n",
       "2     1594                   0                      0                  0   \n",
       "3     1595                   0                      0                  0   \n",
       "4     1596                   0                      0                  0   \n",
       "\n",
       "   cavalry_reduce_value  shaman_add_value  shaman_reduce_value  \\\n",
       "0                     0                 0                    0   \n",
       "1                     0                 0                    0   \n",
       "2                     0                 0                    0   \n",
       "3                     0                 0                    0   \n",
       "4                     0                 0                    0   \n",
       "\n",
       "   wound_infantry_add_value  wound_infantry_reduce_value  \\\n",
       "0                         0                            0   \n",
       "1                         0                            0   \n",
       "2                         0                            0   \n",
       "3                         0                            0   \n",
       "4                         0                            0   \n",
       "\n",
       "   wound_cavalry_add_value          ...           meat_qua2  wood_qua1  \\\n",
       "0                        0          ...             14375.0    23825.0   \n",
       "1                        0          ...                 0.0        0.0   \n",
       "2                        0          ...                 0.0        0.0   \n",
       "3                        0          ...                 0.0        0.0   \n",
       "4                        0          ...                 0.0        0.0   \n",
       "\n",
       "   wood_qua2  def_qua1  cavalry_qua1  infantry_qua1  shaman_qua1  speed_qua1  \\\n",
       "0    16425.0       0.0           0.0            0.0          0.0         0.0   \n",
       "1        0.0       0.0           0.0            0.0          0.0         0.0   \n",
       "2        0.0       0.0           0.0            0.0          0.0         0.0   \n",
       "3        0.0       0.0           0.0            0.0          0.0         0.0   \n",
       "4        0.0       0.0           0.0            0.0          0.0         0.0   \n",
       "\n",
       "   troop_qua1  price_per_count_qua1  \n",
       "0         0.0                   NaN  \n",
       "1         0.0                   NaN  \n",
       "2         0.0                   NaN  \n",
       "3         0.0                   NaN  \n",
       "4         0.0                   NaN  \n",
       "\n",
       "[5 rows x 123 columns]"
      ]
     },
     "execution_count": 16,
     "metadata": {},
     "output_type": "execute_result"
    }
   ],
   "source": [
    "test_feat3.head()"
   ]
  },
  {
   "cell_type": "code",
   "execution_count": 17,
   "metadata": {
    "ExecuteTime": {
     "end_time": "2018-08-10T06:21:52.472153Z",
     "start_time": "2018-08-10T06:21:52.386148Z"
    }
   },
   "outputs": [],
   "source": [
    "# test_feat3.drop(labels=['prediction_pay_price'],axis=1,inplace=True)"
   ]
  },
  {
   "cell_type": "code",
   "execution_count": 18,
   "metadata": {
    "ExecuteTime": {
     "end_time": "2018-08-10T06:21:52.553157Z",
     "start_time": "2018-08-10T06:21:52.476153Z"
    }
   },
   "outputs": [
    {
     "data": {
      "text/plain": [
       "(2288007, 123)"
      ]
     },
     "execution_count": 18,
     "metadata": {},
     "output_type": "execute_result"
    }
   ],
   "source": [
    "test_feat3.shape"
   ]
  },
  {
   "cell_type": "code",
   "execution_count": 19,
   "metadata": {
    "ExecuteTime": {
     "end_time": "2018-08-10T06:21:52.672164Z",
     "start_time": "2018-08-10T06:21:52.556158Z"
    }
   },
   "outputs": [
    {
     "name": "stdout",
     "output_type": "stream",
     "text": [
      "<class 'pandas.core.frame.DataFrame'>\n",
      "RangeIndex: 2288007 entries, 0 to 2288006\n",
      "Columns: 123 entries, user_id to price_per_count_qua1\n",
      "dtypes: float32(28), uint16(1), uint8(94)\n",
      "memory usage: 453.9 MB\n"
     ]
    }
   ],
   "source": [
    "test_feat3.info(memory_usage='deep')"
   ]
  },
  {
   "cell_type": "code",
   "execution_count": 20,
   "metadata": {
    "ExecuteTime": {
     "end_time": "2018-08-10T06:21:52.790171Z",
     "start_time": "2018-08-10T06:21:52.675164Z"
    }
   },
   "outputs": [],
   "source": [
    "del test_feat2"
   ]
  },
  {
   "cell_type": "code",
   "execution_count": 21,
   "metadata": {
    "ExecuteTime": {
     "end_time": "2018-08-10T06:21:53.243197Z",
     "start_time": "2018-08-10T06:21:52.792171Z"
    }
   },
   "outputs": [
    {
     "name": "stderr",
     "output_type": "stream",
     "text": [
      "D:\\ProgramData\\Anaconda3\\lib\\site-packages\\sklearn\\cross_validation.py:41: DeprecationWarning: This module was deprecated in version 0.18 in favor of the model_selection module into which all the refactored classes and functions are moved. Also note that the interface of the new CV iterators are different from that of this module. This module will be removed in 0.20.\n",
      "  \"This module will be removed in 0.20.\", DeprecationWarning)\n",
      "D:\\ProgramData\\Anaconda3\\lib\\site-packages\\sklearn\\grid_search.py:42: DeprecationWarning: This module was deprecated in version 0.18 in favor of the model_selection module into which all the refactored classes and functions are moved. This module will be removed in 0.20.\n",
      "  DeprecationWarning)\n"
     ]
    }
   ],
   "source": [
    "from sklearn.grid_search import GridSearchCV\n",
    "from sklearn.pipeline import Pipeline\n",
    "from sklearn.externals import joblib"
   ]
  },
  {
   "cell_type": "code",
   "execution_count": 22,
   "metadata": {
    "ExecuteTime": {
     "end_time": "2018-08-10T06:21:53.317201Z",
     "start_time": "2018-08-10T06:21:53.244197Z"
    }
   },
   "outputs": [],
   "source": [
    "grid_search=joblib.load(\"F:\\\\study\\\\ml\\\\DataSet\\\\Tap4fun\\\\GSCV_lgb.model.gz\")"
   ]
  },
  {
   "cell_type": "code",
   "execution_count": 23,
   "metadata": {
    "ExecuteTime": {
     "end_time": "2018-08-10T06:21:53.323201Z",
     "start_time": "2018-08-10T06:21:53.319201Z"
    }
   },
   "outputs": [
    {
     "data": {
      "text/plain": [
       "(2288007, 123)"
      ]
     },
     "execution_count": 23,
     "metadata": {},
     "output_type": "execute_result"
    }
   ],
   "source": [
    "test_feat3.shape"
   ]
  },
  {
   "cell_type": "code",
   "execution_count": 24,
   "metadata": {
    "ExecuteTime": {
     "end_time": "2018-08-10T06:21:53.414207Z",
     "start_time": "2018-08-10T06:21:53.324202Z"
    }
   },
   "outputs": [
    {
     "data": {
      "text/html": [
       "<div>\n",
       "<style scoped>\n",
       "    .dataframe tbody tr th:only-of-type {\n",
       "        vertical-align: middle;\n",
       "    }\n",
       "\n",
       "    .dataframe tbody tr th {\n",
       "        vertical-align: top;\n",
       "    }\n",
       "\n",
       "    .dataframe thead th {\n",
       "        text-align: right;\n",
       "    }\n",
       "</style>\n",
       "<table border=\"1\" class=\"dataframe\">\n",
       "  <thead>\n",
       "    <tr style=\"text-align: right;\">\n",
       "      <th></th>\n",
       "      <th>user_id</th>\n",
       "      <th>infantry_add_value</th>\n",
       "      <th>infantry_reduce_value</th>\n",
       "      <th>cavalry_add_value</th>\n",
       "      <th>cavalry_reduce_value</th>\n",
       "      <th>shaman_add_value</th>\n",
       "      <th>shaman_reduce_value</th>\n",
       "      <th>wound_infantry_add_value</th>\n",
       "      <th>wound_infantry_reduce_value</th>\n",
       "      <th>wound_cavalry_add_value</th>\n",
       "      <th>...</th>\n",
       "      <th>meat_qua2</th>\n",
       "      <th>wood_qua1</th>\n",
       "      <th>wood_qua2</th>\n",
       "      <th>def_qua1</th>\n",
       "      <th>cavalry_qua1</th>\n",
       "      <th>infantry_qua1</th>\n",
       "      <th>shaman_qua1</th>\n",
       "      <th>speed_qua1</th>\n",
       "      <th>troop_qua1</th>\n",
       "      <th>price_per_count_qua1</th>\n",
       "    </tr>\n",
       "  </thead>\n",
       "  <tbody>\n",
       "    <tr>\n",
       "      <th>0</th>\n",
       "      <td>1</td>\n",
       "      <td>0</td>\n",
       "      <td>0</td>\n",
       "      <td>0</td>\n",
       "      <td>0</td>\n",
       "      <td>0</td>\n",
       "      <td>0</td>\n",
       "      <td>0</td>\n",
       "      <td>0</td>\n",
       "      <td>0</td>\n",
       "      <td>...</td>\n",
       "      <td>14375.0</td>\n",
       "      <td>23825.0</td>\n",
       "      <td>16425.0</td>\n",
       "      <td>0.0</td>\n",
       "      <td>0.0</td>\n",
       "      <td>0.0</td>\n",
       "      <td>0.0</td>\n",
       "      <td>0.0</td>\n",
       "      <td>0.0</td>\n",
       "      <td>NaN</td>\n",
       "    </tr>\n",
       "    <tr>\n",
       "      <th>1</th>\n",
       "      <td>1593</td>\n",
       "      <td>0</td>\n",
       "      <td>0</td>\n",
       "      <td>0</td>\n",
       "      <td>0</td>\n",
       "      <td>0</td>\n",
       "      <td>0</td>\n",
       "      <td>0</td>\n",
       "      <td>0</td>\n",
       "      <td>0</td>\n",
       "      <td>...</td>\n",
       "      <td>0.0</td>\n",
       "      <td>0.0</td>\n",
       "      <td>0.0</td>\n",
       "      <td>0.0</td>\n",
       "      <td>0.0</td>\n",
       "      <td>0.0</td>\n",
       "      <td>0.0</td>\n",
       "      <td>0.0</td>\n",
       "      <td>0.0</td>\n",
       "      <td>NaN</td>\n",
       "    </tr>\n",
       "    <tr>\n",
       "      <th>2</th>\n",
       "      <td>1594</td>\n",
       "      <td>0</td>\n",
       "      <td>0</td>\n",
       "      <td>0</td>\n",
       "      <td>0</td>\n",
       "      <td>0</td>\n",
       "      <td>0</td>\n",
       "      <td>0</td>\n",
       "      <td>0</td>\n",
       "      <td>0</td>\n",
       "      <td>...</td>\n",
       "      <td>0.0</td>\n",
       "      <td>0.0</td>\n",
       "      <td>0.0</td>\n",
       "      <td>0.0</td>\n",
       "      <td>0.0</td>\n",
       "      <td>0.0</td>\n",
       "      <td>0.0</td>\n",
       "      <td>0.0</td>\n",
       "      <td>0.0</td>\n",
       "      <td>NaN</td>\n",
       "    </tr>\n",
       "    <tr>\n",
       "      <th>3</th>\n",
       "      <td>1595</td>\n",
       "      <td>0</td>\n",
       "      <td>0</td>\n",
       "      <td>0</td>\n",
       "      <td>0</td>\n",
       "      <td>0</td>\n",
       "      <td>0</td>\n",
       "      <td>0</td>\n",
       "      <td>0</td>\n",
       "      <td>0</td>\n",
       "      <td>...</td>\n",
       "      <td>0.0</td>\n",
       "      <td>0.0</td>\n",
       "      <td>0.0</td>\n",
       "      <td>0.0</td>\n",
       "      <td>0.0</td>\n",
       "      <td>0.0</td>\n",
       "      <td>0.0</td>\n",
       "      <td>0.0</td>\n",
       "      <td>0.0</td>\n",
       "      <td>NaN</td>\n",
       "    </tr>\n",
       "    <tr>\n",
       "      <th>4</th>\n",
       "      <td>1596</td>\n",
       "      <td>0</td>\n",
       "      <td>0</td>\n",
       "      <td>0</td>\n",
       "      <td>0</td>\n",
       "      <td>0</td>\n",
       "      <td>0</td>\n",
       "      <td>0</td>\n",
       "      <td>0</td>\n",
       "      <td>0</td>\n",
       "      <td>...</td>\n",
       "      <td>0.0</td>\n",
       "      <td>0.0</td>\n",
       "      <td>0.0</td>\n",
       "      <td>0.0</td>\n",
       "      <td>0.0</td>\n",
       "      <td>0.0</td>\n",
       "      <td>0.0</td>\n",
       "      <td>0.0</td>\n",
       "      <td>0.0</td>\n",
       "      <td>NaN</td>\n",
       "    </tr>\n",
       "  </tbody>\n",
       "</table>\n",
       "<p>5 rows × 123 columns</p>\n",
       "</div>"
      ],
      "text/plain": [
       "   user_id  infantry_add_value  infantry_reduce_value  cavalry_add_value  \\\n",
       "0        1                   0                      0                  0   \n",
       "1     1593                   0                      0                  0   \n",
       "2     1594                   0                      0                  0   \n",
       "3     1595                   0                      0                  0   \n",
       "4     1596                   0                      0                  0   \n",
       "\n",
       "   cavalry_reduce_value  shaman_add_value  shaman_reduce_value  \\\n",
       "0                     0                 0                    0   \n",
       "1                     0                 0                    0   \n",
       "2                     0                 0                    0   \n",
       "3                     0                 0                    0   \n",
       "4                     0                 0                    0   \n",
       "\n",
       "   wound_infantry_add_value  wound_infantry_reduce_value  \\\n",
       "0                         0                            0   \n",
       "1                         0                            0   \n",
       "2                         0                            0   \n",
       "3                         0                            0   \n",
       "4                         0                            0   \n",
       "\n",
       "   wound_cavalry_add_value          ...           meat_qua2  wood_qua1  \\\n",
       "0                        0          ...             14375.0    23825.0   \n",
       "1                        0          ...                 0.0        0.0   \n",
       "2                        0          ...                 0.0        0.0   \n",
       "3                        0          ...                 0.0        0.0   \n",
       "4                        0          ...                 0.0        0.0   \n",
       "\n",
       "   wood_qua2  def_qua1  cavalry_qua1  infantry_qua1  shaman_qua1  speed_qua1  \\\n",
       "0    16425.0       0.0           0.0            0.0          0.0         0.0   \n",
       "1        0.0       0.0           0.0            0.0          0.0         0.0   \n",
       "2        0.0       0.0           0.0            0.0          0.0         0.0   \n",
       "3        0.0       0.0           0.0            0.0          0.0         0.0   \n",
       "4        0.0       0.0           0.0            0.0          0.0         0.0   \n",
       "\n",
       "   troop_qua1  price_per_count_qua1  \n",
       "0         0.0                   NaN  \n",
       "1         0.0                   NaN  \n",
       "2         0.0                   NaN  \n",
       "3         0.0                   NaN  \n",
       "4         0.0                   NaN  \n",
       "\n",
       "[5 rows x 123 columns]"
      ]
     },
     "execution_count": 24,
     "metadata": {},
     "output_type": "execute_result"
    }
   ],
   "source": [
    "test_feat3.head()"
   ]
  },
  {
   "cell_type": "code",
   "execution_count": 25,
   "metadata": {
    "ExecuteTime": {
     "end_time": "2018-08-10T06:21:53.836231Z",
     "start_time": "2018-08-10T06:21:53.415207Z"
    }
   },
   "outputs": [],
   "source": [
    "test_feat3_price=test_feat3.prediction_pay_price\n",
    "test_feat4=test_feat3.drop(labels='prediction_pay_price',axis=1)"
   ]
  },
  {
   "cell_type": "code",
   "execution_count": 26,
   "metadata": {
    "ExecuteTime": {
     "end_time": "2018-08-10T06:21:59.669564Z",
     "start_time": "2018-08-10T06:21:53.837231Z"
    }
   },
   "outputs": [],
   "source": [
    "preds_sub=grid_search.predict(test_feat4)"
   ]
  },
  {
   "cell_type": "code",
   "execution_count": 28,
   "metadata": {
    "ExecuteTime": {
     "end_time": "2018-08-10T06:22:38.524787Z",
     "start_time": "2018-08-10T06:22:38.283773Z"
    }
   },
   "outputs": [
    {
     "data": {
      "text/plain": [
       "87.43836814505251"
      ]
     },
     "execution_count": 28,
     "metadata": {},
     "output_type": "execute_result"
    }
   ],
   "source": [
    "from sklearn.metrics import mean_squared_error\n",
    "np.sqrt(mean_squared_error(test_feat3_price,preds_sub))"
   ]
  },
  {
   "cell_type": "code",
   "execution_count": null,
   "metadata": {
    "ExecuteTime": {
     "end_time": "2018-08-10T01:50:06.995533Z",
     "start_time": "2018-08-10T01:50:06.989533Z"
    }
   },
   "outputs": [],
   "source": [
    "import time\n",
    "import datetime"
   ]
  },
  {
   "cell_type": "code",
   "execution_count": null,
   "metadata": {
    "ExecuteTime": {
     "end_time": "2018-08-10T03:13:37.678128Z",
     "start_time": "2018-08-10T03:13:37.580122Z"
    }
   },
   "outputs": [],
   "source": [
    "result=pd.DataFrame()\n",
    "# result['user_id']=int(test_feat3.user_id)\n"
   ]
  },
  {
   "cell_type": "code",
   "execution_count": null,
   "metadata": {
    "ExecuteTime": {
     "end_time": "2018-08-10T02:29:24.688385Z",
     "start_time": "2018-08-10T02:29:23.920341Z"
    }
   },
   "outputs": [],
   "source": [
    "# result['prediction_pay_price']=result.prediction_pay_price.apply(lambda x:round(x,1))"
   ]
  },
  {
   "cell_type": "code",
   "execution_count": null,
   "metadata": {
    "ExecuteTime": {
     "end_time": "2018-08-10T03:13:40.210272Z",
     "start_time": "2018-08-10T03:13:40.193271Z"
    }
   },
   "outputs": [],
   "source": [
    "result.head()"
   ]
  },
  {
   "cell_type": "code",
   "execution_count": null,
   "metadata": {
    "ExecuteTime": {
     "end_time": "2018-08-10T05:52:46.523290Z",
     "start_time": "2018-08-10T05:52:44.745189Z"
    }
   },
   "outputs": [],
   "source": [
    "result_user=pd.read_csv('F:\\\\study\\\\ml\\\\DataSet\\\\Tap4fun\\\\tap_fun_test.csv',usecols=[0,1])"
   ]
  },
  {
   "cell_type": "code",
   "execution_count": null,
   "metadata": {
    "ExecuteTime": {
     "end_time": "2018-08-10T05:53:34.656043Z",
     "start_time": "2018-08-10T05:53:34.553037Z"
    }
   },
   "outputs": [],
   "source": [
    "len(result_user.user_id.unique())"
   ]
  },
  {
   "cell_type": "code",
   "execution_count": null,
   "metadata": {
    "ExecuteTime": {
     "end_time": "2018-08-10T05:55:53.650993Z",
     "start_time": "2018-08-10T05:55:53.618992Z"
    }
   },
   "outputs": [],
   "source": [
    "result['user_id']=result_user.user_id\n",
    "result['prediction_pay_price']=preds_sub"
   ]
  },
  {
   "cell_type": "code",
   "execution_count": null,
   "metadata": {
    "ExecuteTime": {
     "end_time": "2018-08-10T05:56:31.980186Z",
     "start_time": "2018-08-10T05:56:31.907181Z"
    }
   },
   "outputs": [],
   "source": [
    "result.sort_values(by='user_id',ascending=False).head(10)"
   ]
  },
  {
   "cell_type": "code",
   "execution_count": null,
   "metadata": {
    "ExecuteTime": {
     "end_time": "2018-08-10T05:56:52.860380Z",
     "start_time": "2018-08-10T05:56:50.147225Z"
    }
   },
   "outputs": [],
   "source": [
    "\n",
    "#result['prediction_pay_price']=\n",
    "#result['prediction_pay_price']=result.prediction_pay_price.apply(lambda x:round(x,1))\n",
    "nowTime=datetime.datetime.now().strftime('%Y%m%d%H%M%S')\n",
    "name='tf_'+str(nowTime)\n",
    "result.to_csv(\"F:\\\\study\\\\ml\\\\DataSet\\\\Tap4fun\\\\SubMission\\\\\"+name+'.csv',index=False,encoding='utf-8')"
   ]
  },
  {
   "cell_type": "code",
   "execution_count": null,
   "metadata": {
    "ExecuteTime": {
     "end_time": "2018-08-10T05:43:53.099780Z",
     "start_time": "2018-08-10T05:43:53.063778Z"
    }
   },
   "outputs": [],
   "source": []
  },
  {
   "cell_type": "code",
   "execution_count": null,
   "metadata": {},
   "outputs": [],
   "source": []
  },
  {
   "cell_type": "code",
   "execution_count": null,
   "metadata": {},
   "outputs": [],
   "source": []
  }
 ],
 "metadata": {
  "kernelspec": {
   "display_name": "Python 3",
   "language": "python",
   "name": "python3"
  },
  "language_info": {
   "codemirror_mode": {
    "name": "ipython",
    "version": 3
   },
   "file_extension": ".py",
   "mimetype": "text/x-python",
   "name": "python",
   "nbconvert_exporter": "python",
   "pygments_lexer": "ipython3",
   "version": "3.6.3"
  }
 },
 "nbformat": 4,
 "nbformat_minor": 2
}
