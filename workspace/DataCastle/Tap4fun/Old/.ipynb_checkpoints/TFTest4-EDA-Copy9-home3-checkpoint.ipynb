{
 "cells": [
  {
   "cell_type": "code",
   "execution_count": 139,
   "metadata": {
    "ExecuteTime": {
     "end_time": "2018-09-19T01:01:34.205986Z",
     "start_time": "2018-09-19T01:01:34.195986Z"
    }
   },
   "outputs": [],
   "source": [
    "import numpy as np\n",
    "import pandas as pd\n",
    "from matplotlib import pyplot as plt\n",
    "import seaborn as sns\n",
    "from scipy.stats import norm ,skew,kurtosis\n",
    "from sklearn.preprocessing import StandardScaler"
   ]
  },
  {
   "cell_type": "code",
   "execution_count": 2,
   "metadata": {
    "ExecuteTime": {
     "end_time": "2018-09-18T08:54:36.664506Z",
     "start_time": "2018-09-18T08:54:13.864202Z"
    }
   },
   "outputs": [],
   "source": [
    "df_train=pd.read_csv('F:\\\\study\\\\ml\\\\DataSet\\\\Tap4fun\\\\tap_fun_train.csv')"
   ]
  },
  {
   "cell_type": "code",
   "execution_count": 3,
   "metadata": {
    "ExecuteTime": {
     "end_time": "2018-09-18T08:54:36.855517Z",
     "start_time": "2018-09-18T08:54:36.666506Z"
    }
   },
   "outputs": [
    {
     "name": "stdout",
     "output_type": "stream",
     "text": [
      "<class 'pandas.core.frame.DataFrame'>\n",
      "RangeIndex: 2288007 entries, 0 to 2288006\n",
      "Columns: 109 entries, user_id to prediction_pay_price\n",
      "dtypes: float64(13), int64(95), object(1)\n",
      "memory usage: 2.0 GB\n"
     ]
    }
   ],
   "source": [
    "df_train.info(memory_usage='deep')"
   ]
  },
  {
   "cell_type": "code",
   "execution_count": 4,
   "metadata": {
    "ExecuteTime": {
     "end_time": "2018-09-18T08:54:50.813315Z",
     "start_time": "2018-09-18T08:54:36.856517Z"
    }
   },
   "outputs": [],
   "source": [
    "c_int=df_train.select_dtypes(include=['int64']).apply(pd.to_numeric,downcast='unsigned')\n",
    "c_float=df_train.select_dtypes(include=['float']).apply(pd.to_numeric,downcast='float')\n"
   ]
  },
  {
   "cell_type": "code",
   "execution_count": 5,
   "metadata": {
    "ExecuteTime": {
     "end_time": "2018-09-18T08:54:51.141334Z",
     "start_time": "2018-09-18T08:54:50.814315Z"
    }
   },
   "outputs": [],
   "source": [
    "o_df=pd.concat([c_int,c_float],axis=1)"
   ]
  },
  {
   "cell_type": "code",
   "execution_count": 6,
   "metadata": {
    "ExecuteTime": {
     "end_time": "2018-09-18T08:54:51.148334Z",
     "start_time": "2018-09-18T08:54:51.143334Z"
    }
   },
   "outputs": [],
   "source": [
    "column_type=dict(o_df.dtypes.copy())"
   ]
  },
  {
   "cell_type": "code",
   "execution_count": 7,
   "metadata": {
    "ExecuteTime": {
     "end_time": "2018-09-18T08:54:51.237339Z",
     "start_time": "2018-09-18T08:54:51.149334Z"
    }
   },
   "outputs": [
    {
     "data": {
      "text/plain": [
       "{'avg_online_minutes': dtype('float32'),\n",
       " 'bd_barrack_level': dtype('uint8'),\n",
       " 'bd_dolmen_level': dtype('uint8'),\n",
       " 'bd_guest_cavern_level': dtype('uint8'),\n",
       " 'bd_hall_of_war_level': dtype('uint8'),\n",
       " 'bd_healing_lodge_level': dtype('uint8'),\n",
       " 'bd_healing_spring_level': dtype('uint8'),\n",
       " 'bd_hero_gacha_level': dtype('uint8'),\n",
       " 'bd_hero_pve_level': dtype('uint8'),\n",
       " 'bd_hero_strengthen_level': dtype('uint8'),\n",
       " 'bd_magic_coin_tree_level': dtype('uint8'),\n",
       " 'bd_market_level': dtype('uint8'),\n",
       " 'bd_outpost_portal_level': dtype('uint8'),\n",
       " 'bd_stronghold_level': dtype('uint8'),\n",
       " 'bd_training_hut_level': dtype('uint8'),\n",
       " 'bd_warehouse_level': dtype('uint8'),\n",
       " 'bd_watchtower_level': dtype('uint8'),\n",
       " 'building_acceleration_add_value': dtype('uint32'),\n",
       " 'building_acceleration_reduce_value': dtype('uint32'),\n",
       " 'cavalry_add_value': dtype('uint32'),\n",
       " 'cavalry_reduce_value': dtype('uint32'),\n",
       " 'general_acceleration_add_value': dtype('uint32'),\n",
       " 'general_acceleration_reduce_value': dtype('uint32'),\n",
       " 'infantry_add_value': dtype('uint32'),\n",
       " 'infantry_reduce_value': dtype('uint32'),\n",
       " 'ivory_add_value': dtype('float32'),\n",
       " 'ivory_reduce_value': dtype('float32'),\n",
       " 'magic_add_value': dtype('float32'),\n",
       " 'magic_reduce_value': dtype('float32'),\n",
       " 'meat_add_value': dtype('float32'),\n",
       " 'meat_reduce_value': dtype('float32'),\n",
       " 'pay_count': dtype('uint8'),\n",
       " 'pay_price': dtype('float32'),\n",
       " 'prediction_pay_price': dtype('float32'),\n",
       " 'pve_battle_count': dtype('uint16'),\n",
       " 'pve_lanch_count': dtype('uint16'),\n",
       " 'pve_win_count': dtype('uint16'),\n",
       " 'pvp_battle_count': dtype('uint16'),\n",
       " 'pvp_lanch_count': dtype('uint16'),\n",
       " 'pvp_win_count': dtype('uint16'),\n",
       " 'reaserch_acceleration_add_value': dtype('uint32'),\n",
       " 'reaserch_acceleration_reduce_value': dtype('uint32'),\n",
       " 'shaman_add_value': dtype('uint32'),\n",
       " 'shaman_reduce_value': dtype('uint32'),\n",
       " 'sr_alliance_march_speed_level': dtype('uint8'),\n",
       " 'sr_cavalry_atk_level': dtype('uint8'),\n",
       " 'sr_cavalry_def_level': dtype('uint8'),\n",
       " 'sr_cavalry_hp_level': dtype('uint8'),\n",
       " 'sr_cavalry_tier_2_level': dtype('uint8'),\n",
       " 'sr_cavalry_tier_3_level': dtype('uint8'),\n",
       " 'sr_cavalry_tier_4_level': dtype('uint8'),\n",
       " 'sr_construction_speed_level': dtype('uint8'),\n",
       " 'sr_gathering_hunter_buff_level': dtype('uint8'),\n",
       " 'sr_gathering_march_speed_level': dtype('uint8'),\n",
       " 'sr_guest_troop_capacity_level': dtype('uint8'),\n",
       " 'sr_healing_space_level': dtype('uint8'),\n",
       " 'sr_healing_speed_level': dtype('uint8'),\n",
       " 'sr_hide_storage_level': dtype('uint8'),\n",
       " 'sr_infantry_atk_level': dtype('uint8'),\n",
       " 'sr_infantry_def_level': dtype('uint8'),\n",
       " 'sr_infantry_hp_level': dtype('uint8'),\n",
       " 'sr_infantry_tier_2_level': dtype('uint8'),\n",
       " 'sr_infantry_tier_3_level': dtype('uint8'),\n",
       " 'sr_infantry_tier_4_level': dtype('uint8'),\n",
       " 'sr_march_size_level': dtype('uint8'),\n",
       " 'sr_outpost_durability_level': dtype('uint8'),\n",
       " 'sr_outpost_tier_2_level': dtype('uint8'),\n",
       " 'sr_outpost_tier_3_level': dtype('uint8'),\n",
       " 'sr_outpost_tier_4_level': dtype('uint8'),\n",
       " 'sr_pvp_march_speed_level': dtype('uint8'),\n",
       " 'sr_rss_a_gather_level': dtype('uint8'),\n",
       " 'sr_rss_a_prod_levell': dtype('uint8'),\n",
       " 'sr_rss_b_gather_level': dtype('uint8'),\n",
       " 'sr_rss_b_prod_level': dtype('uint8'),\n",
       " 'sr_rss_c_gather_level': dtype('uint8'),\n",
       " 'sr_rss_c_prod_level': dtype('uint8'),\n",
       " 'sr_rss_d_gather_level': dtype('uint8'),\n",
       " 'sr_rss_d_prod_level': dtype('uint8'),\n",
       " 'sr_rss_e_gather_level': dtype('uint8'),\n",
       " 'sr_rss_e_prod_level': dtype('uint8'),\n",
       " 'sr_rss_help_bonus_level': dtype('uint8'),\n",
       " 'sr_scout_level': dtype('uint8'),\n",
       " 'sr_shaman_atk_level': dtype('uint8'),\n",
       " 'sr_shaman_def_level': dtype('uint8'),\n",
       " 'sr_shaman_hp_level': dtype('uint8'),\n",
       " 'sr_shaman_tier_2_level': dtype('uint8'),\n",
       " 'sr_shaman_tier_3_level': dtype('uint8'),\n",
       " 'sr_shaman_tier_4_level': dtype('uint8'),\n",
       " 'sr_training_speed_level': dtype('uint8'),\n",
       " 'sr_troop_attack_level': dtype('uint8'),\n",
       " 'sr_troop_consumption_level': dtype('uint8'),\n",
       " 'sr_troop_defense_level': dtype('uint8'),\n",
       " 'sr_troop_load_level': dtype('uint8'),\n",
       " 'stone_add_value': dtype('float32'),\n",
       " 'stone_reduce_value': dtype('float32'),\n",
       " 'training_acceleration_add_value': dtype('uint32'),\n",
       " 'training_acceleration_reduce_value': dtype('uint32'),\n",
       " 'treatment_acceleraion_add_value': dtype('uint16'),\n",
       " 'treatment_acceleration_reduce_value': dtype('uint16'),\n",
       " 'user_id': dtype('uint32'),\n",
       " 'wood_add_value': dtype('float32'),\n",
       " 'wood_reduce_value': dtype('float32'),\n",
       " 'wound_cavalry_add_value': dtype('uint32'),\n",
       " 'wound_cavalry_reduce_value': dtype('uint32'),\n",
       " 'wound_infantry_add_value': dtype('uint32'),\n",
       " 'wound_infantry_reduce_value': dtype('uint32'),\n",
       " 'wound_shaman_add_value': dtype('uint32'),\n",
       " 'wound_shaman_reduce_value': dtype('uint32')}"
      ]
     },
     "execution_count": 7,
     "metadata": {},
     "output_type": "execute_result"
    }
   ],
   "source": [
    "column_type"
   ]
  },
  {
   "cell_type": "code",
   "execution_count": 8,
   "metadata": {
    "ExecuteTime": {
     "end_time": "2018-09-18T08:54:51.303343Z",
     "start_time": "2018-09-18T08:54:51.238339Z"
    }
   },
   "outputs": [
    {
     "data": {
      "text/plain": [
       "108"
      ]
     },
     "execution_count": 8,
     "metadata": {},
     "output_type": "execute_result"
    }
   ],
   "source": [
    "len(column_type)"
   ]
  },
  {
   "cell_type": "code",
   "execution_count": 9,
   "metadata": {
    "ExecuteTime": {
     "end_time": "2018-09-18T08:54:51.648363Z",
     "start_time": "2018-09-18T08:54:51.304343Z"
    }
   },
   "outputs": [],
   "source": [
    "del o_df,c_int,c_float,df_train"
   ]
  },
  {
   "cell_type": "code",
   "execution_count": null,
   "metadata": {},
   "outputs": [],
   "source": []
  },
  {
   "cell_type": "code",
   "execution_count": 10,
   "metadata": {
    "ExecuteTime": {
     "end_time": "2018-09-18T08:55:25.125278Z",
     "start_time": "2018-09-18T08:54:51.650363Z"
    }
   },
   "outputs": [],
   "source": [
    "data_train=pd.read_csv('F:\\\\study\\\\ml\\\\DataSet\\\\Tap4fun\\\\tap_fun_train.csv',\n",
    "                      dtype=column_type,parse_dates=['register_time'],infer_datetime_format=True)\n",
    "\n",
    "data_test=pd.read_csv('F:\\\\study\\\\ml\\\\DataSet\\\\Tap4fun\\\\tap_fun_test.csv',\n",
    "                      dtype=column_type,parse_dates=['register_time'],infer_datetime_format=True)"
   ]
  },
  {
   "cell_type": "code",
   "execution_count": 11,
   "metadata": {
    "ExecuteTime": {
     "end_time": "2018-09-18T08:55:25.431295Z",
     "start_time": "2018-09-18T08:55:25.127278Z"
    }
   },
   "outputs": [],
   "source": [
    "data_train.rename(columns={'treatment_acceleraion_add_value':'treatment_acceleration_add_value',\\\n",
    "                          'sr_rss_a_prod_levell':'sr_rss_a_prod_level'} ,inplace=True)\n",
    "\n",
    "data_test.rename(columns={'treatment_acceleraion_add_value':'treatment_acceleration_add_value',\\\n",
    "                          'sr_rss_a_prod_levell':'sr_rss_a_prod_level'} ,inplace=True)"
   ]
  },
  {
   "cell_type": "code",
   "execution_count": 12,
   "metadata": {
    "ExecuteTime": {
     "end_time": "2018-09-18T08:55:25.456297Z",
     "start_time": "2018-09-18T08:55:25.433295Z"
    }
   },
   "outputs": [
    {
     "data": {
      "text/html": [
       "<div>\n",
       "<style scoped>\n",
       "    .dataframe tbody tr th:only-of-type {\n",
       "        vertical-align: middle;\n",
       "    }\n",
       "\n",
       "    .dataframe tbody tr th {\n",
       "        vertical-align: top;\n",
       "    }\n",
       "\n",
       "    .dataframe thead th {\n",
       "        text-align: right;\n",
       "    }\n",
       "</style>\n",
       "<table border=\"1\" class=\"dataframe\">\n",
       "  <thead>\n",
       "    <tr style=\"text-align: right;\">\n",
       "      <th></th>\n",
       "      <th>user_id</th>\n",
       "      <th>register_time</th>\n",
       "      <th>wood_add_value</th>\n",
       "      <th>wood_reduce_value</th>\n",
       "      <th>stone_add_value</th>\n",
       "      <th>stone_reduce_value</th>\n",
       "      <th>ivory_add_value</th>\n",
       "      <th>ivory_reduce_value</th>\n",
       "      <th>meat_add_value</th>\n",
       "      <th>meat_reduce_value</th>\n",
       "      <th>...</th>\n",
       "      <th>pvp_battle_count</th>\n",
       "      <th>pvp_lanch_count</th>\n",
       "      <th>pvp_win_count</th>\n",
       "      <th>pve_battle_count</th>\n",
       "      <th>pve_lanch_count</th>\n",
       "      <th>pve_win_count</th>\n",
       "      <th>avg_online_minutes</th>\n",
       "      <th>pay_price</th>\n",
       "      <th>pay_count</th>\n",
       "      <th>prediction_pay_price</th>\n",
       "    </tr>\n",
       "  </thead>\n",
       "  <tbody>\n",
       "    <tr>\n",
       "      <th>0</th>\n",
       "      <td>1</td>\n",
       "      <td>2018-02-02 19:47:15</td>\n",
       "      <td>20125.0</td>\n",
       "      <td>3700.0</td>\n",
       "      <td>0.0</td>\n",
       "      <td>0.0</td>\n",
       "      <td>0.0</td>\n",
       "      <td>0.0</td>\n",
       "      <td>16375.0</td>\n",
       "      <td>2000.0</td>\n",
       "      <td>...</td>\n",
       "      <td>0</td>\n",
       "      <td>0</td>\n",
       "      <td>0</td>\n",
       "      <td>0</td>\n",
       "      <td>0</td>\n",
       "      <td>0</td>\n",
       "      <td>0.333333</td>\n",
       "      <td>0.0</td>\n",
       "      <td>0</td>\n",
       "      <td>0.0</td>\n",
       "    </tr>\n",
       "    <tr>\n",
       "      <th>1</th>\n",
       "      <td>1593</td>\n",
       "      <td>2018-01-26 00:01:05</td>\n",
       "      <td>0.0</td>\n",
       "      <td>0.0</td>\n",
       "      <td>0.0</td>\n",
       "      <td>0.0</td>\n",
       "      <td>0.0</td>\n",
       "      <td>0.0</td>\n",
       "      <td>0.0</td>\n",
       "      <td>0.0</td>\n",
       "      <td>...</td>\n",
       "      <td>0</td>\n",
       "      <td>0</td>\n",
       "      <td>0</td>\n",
       "      <td>0</td>\n",
       "      <td>0</td>\n",
       "      <td>0</td>\n",
       "      <td>0.333333</td>\n",
       "      <td>0.0</td>\n",
       "      <td>0</td>\n",
       "      <td>0.0</td>\n",
       "    </tr>\n",
       "    <tr>\n",
       "      <th>2</th>\n",
       "      <td>1594</td>\n",
       "      <td>2018-01-26 00:01:58</td>\n",
       "      <td>0.0</td>\n",
       "      <td>0.0</td>\n",
       "      <td>0.0</td>\n",
       "      <td>0.0</td>\n",
       "      <td>0.0</td>\n",
       "      <td>0.0</td>\n",
       "      <td>0.0</td>\n",
       "      <td>0.0</td>\n",
       "      <td>...</td>\n",
       "      <td>0</td>\n",
       "      <td>0</td>\n",
       "      <td>0</td>\n",
       "      <td>0</td>\n",
       "      <td>0</td>\n",
       "      <td>0</td>\n",
       "      <td>1.166667</td>\n",
       "      <td>0.0</td>\n",
       "      <td>0</td>\n",
       "      <td>0.0</td>\n",
       "    </tr>\n",
       "    <tr>\n",
       "      <th>3</th>\n",
       "      <td>1595</td>\n",
       "      <td>2018-01-26 00:02:13</td>\n",
       "      <td>0.0</td>\n",
       "      <td>0.0</td>\n",
       "      <td>0.0</td>\n",
       "      <td>0.0</td>\n",
       "      <td>0.0</td>\n",
       "      <td>0.0</td>\n",
       "      <td>0.0</td>\n",
       "      <td>0.0</td>\n",
       "      <td>...</td>\n",
       "      <td>0</td>\n",
       "      <td>0</td>\n",
       "      <td>0</td>\n",
       "      <td>0</td>\n",
       "      <td>0</td>\n",
       "      <td>0</td>\n",
       "      <td>3.166667</td>\n",
       "      <td>0.0</td>\n",
       "      <td>0</td>\n",
       "      <td>0.0</td>\n",
       "    </tr>\n",
       "    <tr>\n",
       "      <th>4</th>\n",
       "      <td>1596</td>\n",
       "      <td>2018-01-26 00:02:46</td>\n",
       "      <td>0.0</td>\n",
       "      <td>0.0</td>\n",
       "      <td>0.0</td>\n",
       "      <td>0.0</td>\n",
       "      <td>0.0</td>\n",
       "      <td>0.0</td>\n",
       "      <td>0.0</td>\n",
       "      <td>0.0</td>\n",
       "      <td>...</td>\n",
       "      <td>0</td>\n",
       "      <td>0</td>\n",
       "      <td>0</td>\n",
       "      <td>0</td>\n",
       "      <td>0</td>\n",
       "      <td>0</td>\n",
       "      <td>2.333333</td>\n",
       "      <td>0.0</td>\n",
       "      <td>0</td>\n",
       "      <td>0.0</td>\n",
       "    </tr>\n",
       "  </tbody>\n",
       "</table>\n",
       "<p>5 rows × 109 columns</p>\n",
       "</div>"
      ],
      "text/plain": [
       "   user_id       register_time  wood_add_value  wood_reduce_value  \\\n",
       "0        1 2018-02-02 19:47:15         20125.0             3700.0   \n",
       "1     1593 2018-01-26 00:01:05             0.0                0.0   \n",
       "2     1594 2018-01-26 00:01:58             0.0                0.0   \n",
       "3     1595 2018-01-26 00:02:13             0.0                0.0   \n",
       "4     1596 2018-01-26 00:02:46             0.0                0.0   \n",
       "\n",
       "   stone_add_value  stone_reduce_value  ivory_add_value  ivory_reduce_value  \\\n",
       "0              0.0                 0.0              0.0                 0.0   \n",
       "1              0.0                 0.0              0.0                 0.0   \n",
       "2              0.0                 0.0              0.0                 0.0   \n",
       "3              0.0                 0.0              0.0                 0.0   \n",
       "4              0.0                 0.0              0.0                 0.0   \n",
       "\n",
       "   meat_add_value  meat_reduce_value          ...           pvp_battle_count  \\\n",
       "0         16375.0             2000.0          ...                          0   \n",
       "1             0.0                0.0          ...                          0   \n",
       "2             0.0                0.0          ...                          0   \n",
       "3             0.0                0.0          ...                          0   \n",
       "4             0.0                0.0          ...                          0   \n",
       "\n",
       "   pvp_lanch_count  pvp_win_count  pve_battle_count  pve_lanch_count  \\\n",
       "0                0              0                 0                0   \n",
       "1                0              0                 0                0   \n",
       "2                0              0                 0                0   \n",
       "3                0              0                 0                0   \n",
       "4                0              0                 0                0   \n",
       "\n",
       "   pve_win_count  avg_online_minutes  pay_price  pay_count  \\\n",
       "0              0            0.333333        0.0          0   \n",
       "1              0            0.333333        0.0          0   \n",
       "2              0            1.166667        0.0          0   \n",
       "3              0            3.166667        0.0          0   \n",
       "4              0            2.333333        0.0          0   \n",
       "\n",
       "   prediction_pay_price  \n",
       "0                   0.0  \n",
       "1                   0.0  \n",
       "2                   0.0  \n",
       "3                   0.0  \n",
       "4                   0.0  \n",
       "\n",
       "[5 rows x 109 columns]"
      ]
     },
     "execution_count": 12,
     "metadata": {},
     "output_type": "execute_result"
    }
   ],
   "source": [
    "data_train.head()"
   ]
  },
  {
   "cell_type": "code",
   "execution_count": 13,
   "metadata": {
    "ExecuteTime": {
     "end_time": "2018-09-18T08:55:25.539301Z",
     "start_time": "2018-09-18T08:55:25.457297Z"
    }
   },
   "outputs": [
    {
     "data": {
      "text/html": [
       "<div>\n",
       "<style scoped>\n",
       "    .dataframe tbody tr th:only-of-type {\n",
       "        vertical-align: middle;\n",
       "    }\n",
       "\n",
       "    .dataframe tbody tr th {\n",
       "        vertical-align: top;\n",
       "    }\n",
       "\n",
       "    .dataframe thead th {\n",
       "        text-align: right;\n",
       "    }\n",
       "</style>\n",
       "<table border=\"1\" class=\"dataframe\">\n",
       "  <thead>\n",
       "    <tr style=\"text-align: right;\">\n",
       "      <th></th>\n",
       "      <th>user_id</th>\n",
       "      <th>register_time</th>\n",
       "      <th>wood_add_value</th>\n",
       "      <th>wood_reduce_value</th>\n",
       "      <th>stone_add_value</th>\n",
       "      <th>stone_reduce_value</th>\n",
       "      <th>ivory_add_value</th>\n",
       "      <th>ivory_reduce_value</th>\n",
       "      <th>meat_add_value</th>\n",
       "      <th>meat_reduce_value</th>\n",
       "      <th>...</th>\n",
       "      <th>sr_rss_help_bonus_level</th>\n",
       "      <th>pvp_battle_count</th>\n",
       "      <th>pvp_lanch_count</th>\n",
       "      <th>pvp_win_count</th>\n",
       "      <th>pve_battle_count</th>\n",
       "      <th>pve_lanch_count</th>\n",
       "      <th>pve_win_count</th>\n",
       "      <th>avg_online_minutes</th>\n",
       "      <th>pay_price</th>\n",
       "      <th>pay_count</th>\n",
       "    </tr>\n",
       "  </thead>\n",
       "  <tbody>\n",
       "    <tr>\n",
       "      <th>0</th>\n",
       "      <td>14933</td>\n",
       "      <td>2018-03-08 20:27:57</td>\n",
       "      <td>166415.0</td>\n",
       "      <td>138362.0</td>\n",
       "      <td>0.0</td>\n",
       "      <td>0.0</td>\n",
       "      <td>0.0</td>\n",
       "      <td>0.0</td>\n",
       "      <td>258522.0</td>\n",
       "      <td>90142.0</td>\n",
       "      <td>...</td>\n",
       "      <td>0</td>\n",
       "      <td>0</td>\n",
       "      <td>0</td>\n",
       "      <td>0</td>\n",
       "      <td>1</td>\n",
       "      <td>1</td>\n",
       "      <td>1</td>\n",
       "      <td>8.000000</td>\n",
       "      <td>0.0</td>\n",
       "      <td>0</td>\n",
       "    </tr>\n",
       "    <tr>\n",
       "      <th>1</th>\n",
       "      <td>14934</td>\n",
       "      <td>2018-03-08 20:29:42</td>\n",
       "      <td>10000.0</td>\n",
       "      <td>600.0</td>\n",
       "      <td>0.0</td>\n",
       "      <td>0.0</td>\n",
       "      <td>0.0</td>\n",
       "      <td>0.0</td>\n",
       "      <td>10000.0</td>\n",
       "      <td>400.0</td>\n",
       "      <td>...</td>\n",
       "      <td>0</td>\n",
       "      <td>0</td>\n",
       "      <td>0</td>\n",
       "      <td>0</td>\n",
       "      <td>0</td>\n",
       "      <td>0</td>\n",
       "      <td>0</td>\n",
       "      <td>0.166667</td>\n",
       "      <td>0.0</td>\n",
       "      <td>0</td>\n",
       "    </tr>\n",
       "    <tr>\n",
       "      <th>2</th>\n",
       "      <td>14935</td>\n",
       "      <td>2018-03-08 20:30:13</td>\n",
       "      <td>10000.0</td>\n",
       "      <td>3700.0</td>\n",
       "      <td>0.0</td>\n",
       "      <td>0.0</td>\n",
       "      <td>0.0</td>\n",
       "      <td>0.0</td>\n",
       "      <td>10000.0</td>\n",
       "      <td>2000.0</td>\n",
       "      <td>...</td>\n",
       "      <td>0</td>\n",
       "      <td>0</td>\n",
       "      <td>0</td>\n",
       "      <td>0</td>\n",
       "      <td>0</td>\n",
       "      <td>0</td>\n",
       "      <td>0</td>\n",
       "      <td>17.000000</td>\n",
       "      <td>0.0</td>\n",
       "      <td>0</td>\n",
       "    </tr>\n",
       "    <tr>\n",
       "      <th>3</th>\n",
       "      <td>14936</td>\n",
       "      <td>2018-03-08 20:31:41</td>\n",
       "      <td>210000.0</td>\n",
       "      <td>0.0</td>\n",
       "      <td>200000.0</td>\n",
       "      <td>0.0</td>\n",
       "      <td>200000.0</td>\n",
       "      <td>0.0</td>\n",
       "      <td>610000.0</td>\n",
       "      <td>0.0</td>\n",
       "      <td>...</td>\n",
       "      <td>0</td>\n",
       "      <td>0</td>\n",
       "      <td>0</td>\n",
       "      <td>0</td>\n",
       "      <td>0</td>\n",
       "      <td>0</td>\n",
       "      <td>0</td>\n",
       "      <td>1.666667</td>\n",
       "      <td>0.0</td>\n",
       "      <td>0</td>\n",
       "    </tr>\n",
       "    <tr>\n",
       "      <th>4</th>\n",
       "      <td>14937</td>\n",
       "      <td>2018-03-08 20:32:07</td>\n",
       "      <td>11500.0</td>\n",
       "      <td>3700.0</td>\n",
       "      <td>0.0</td>\n",
       "      <td>0.0</td>\n",
       "      <td>0.0</td>\n",
       "      <td>0.0</td>\n",
       "      <td>11000.0</td>\n",
       "      <td>2000.0</td>\n",
       "      <td>...</td>\n",
       "      <td>0</td>\n",
       "      <td>0</td>\n",
       "      <td>0</td>\n",
       "      <td>0</td>\n",
       "      <td>0</td>\n",
       "      <td>0</td>\n",
       "      <td>0</td>\n",
       "      <td>0.333333</td>\n",
       "      <td>0.0</td>\n",
       "      <td>0</td>\n",
       "    </tr>\n",
       "  </tbody>\n",
       "</table>\n",
       "<p>5 rows × 108 columns</p>\n",
       "</div>"
      ],
      "text/plain": [
       "   user_id       register_time  wood_add_value  wood_reduce_value  \\\n",
       "0    14933 2018-03-08 20:27:57        166415.0           138362.0   \n",
       "1    14934 2018-03-08 20:29:42         10000.0              600.0   \n",
       "2    14935 2018-03-08 20:30:13         10000.0             3700.0   \n",
       "3    14936 2018-03-08 20:31:41        210000.0                0.0   \n",
       "4    14937 2018-03-08 20:32:07         11500.0             3700.0   \n",
       "\n",
       "   stone_add_value  stone_reduce_value  ivory_add_value  ivory_reduce_value  \\\n",
       "0              0.0                 0.0              0.0                 0.0   \n",
       "1              0.0                 0.0              0.0                 0.0   \n",
       "2              0.0                 0.0              0.0                 0.0   \n",
       "3         200000.0                 0.0         200000.0                 0.0   \n",
       "4              0.0                 0.0              0.0                 0.0   \n",
       "\n",
       "   meat_add_value  meat_reduce_value    ...      sr_rss_help_bonus_level  \\\n",
       "0        258522.0            90142.0    ...                            0   \n",
       "1         10000.0              400.0    ...                            0   \n",
       "2         10000.0             2000.0    ...                            0   \n",
       "3        610000.0                0.0    ...                            0   \n",
       "4         11000.0             2000.0    ...                            0   \n",
       "\n",
       "   pvp_battle_count  pvp_lanch_count  pvp_win_count  pve_battle_count  \\\n",
       "0                 0                0              0                 1   \n",
       "1                 0                0              0                 0   \n",
       "2                 0                0              0                 0   \n",
       "3                 0                0              0                 0   \n",
       "4                 0                0              0                 0   \n",
       "\n",
       "   pve_lanch_count  pve_win_count  avg_online_minutes  pay_price  pay_count  \n",
       "0                1              1            8.000000        0.0          0  \n",
       "1                0              0            0.166667        0.0          0  \n",
       "2                0              0           17.000000        0.0          0  \n",
       "3                0              0            1.666667        0.0          0  \n",
       "4                0              0            0.333333        0.0          0  \n",
       "\n",
       "[5 rows x 108 columns]"
      ]
     },
     "execution_count": 13,
     "metadata": {},
     "output_type": "execute_result"
    }
   ],
   "source": [
    "data_test.head()"
   ]
  },
  {
   "cell_type": "code",
   "execution_count": 14,
   "metadata": {
    "ExecuteTime": {
     "end_time": "2018-09-18T08:55:25.680309Z",
     "start_time": "2018-09-18T08:55:25.541301Z"
    }
   },
   "outputs": [
    {
     "name": "stdout",
     "output_type": "stream",
     "text": [
      "<class 'pandas.core.frame.DataFrame'>\n",
      "RangeIndex: 2288007 entries, 0 to 2288006\n",
      "Columns: 109 entries, user_id to prediction_pay_price\n",
      "dtypes: datetime64[ns](1), float32(13), uint16(8), uint32(21), uint8(66)\n",
      "memory usage: 493.1 MB\n"
     ]
    }
   ],
   "source": [
    "data_train.info(memory_usage='deep')"
   ]
  },
  {
   "cell_type": "code",
   "execution_count": 15,
   "metadata": {
    "ExecuteTime": {
     "end_time": "2018-09-18T08:55:25.794316Z",
     "start_time": "2018-09-18T08:55:25.681309Z"
    }
   },
   "outputs": [
    {
     "name": "stdout",
     "output_type": "stream",
     "text": [
      "<class 'pandas.core.frame.DataFrame'>\n",
      "RangeIndex: 828934 entries, 0 to 828933\n",
      "Columns: 108 entries, user_id to pay_count\n",
      "dtypes: datetime64[ns](1), float32(12), uint16(8), uint32(21), uint8(66)\n",
      "memory usage: 175.5 MB\n"
     ]
    }
   ],
   "source": [
    "data_test.info(memory_usage='deep')"
   ]
  },
  {
   "cell_type": "code",
   "execution_count": 16,
   "metadata": {
    "ExecuteTime": {
     "end_time": "2018-09-18T08:55:26.523358Z",
     "start_time": "2018-09-18T08:55:25.796316Z"
    }
   },
   "outputs": [],
   "source": [
    "# data_label=data_train['prediction_pay_price']\n",
    "# data_train2=data_train.drop(labels=['user_id','register_time'],axis=1)\n",
    "# data_test2=data_test.drop(labels=['user_id','register_time'],axis=1)\n",
    "\n",
    "data_train2=data_train.drop(labels=['register_time'],axis=1)\n",
    "data_test2=data_test.drop(labels=['register_time'],axis=1)"
   ]
  },
  {
   "cell_type": "code",
   "execution_count": null,
   "metadata": {},
   "outputs": [],
   "source": []
  },
  {
   "cell_type": "code",
   "execution_count": 166,
   "metadata": {
    "ExecuteTime": {
     "end_time": "2018-09-19T01:50:17.821037Z",
     "start_time": "2018-09-19T01:50:17.695430Z"
    }
   },
   "outputs": [],
   "source": [
    "train_7pay=data_train2[data_train2['pay_price']>0].copy()\n",
    "test_7pay=data_test2[data_test2['pay_price']>0].copy()\n",
    "\n"
   ]
  },
  {
   "cell_type": "code",
   "execution_count": null,
   "metadata": {
    "ExecuteTime": {
     "end_time": "2018-09-18T07:20:01.017023Z",
     "start_time": "2018-09-18T07:20:00.808412Z"
    }
   },
   "outputs": [],
   "source": []
  },
  {
   "cell_type": "code",
   "execution_count": 167,
   "metadata": {
    "ExecuteTime": {
     "end_time": "2018-09-19T01:50:17.861039Z",
     "start_time": "2018-09-19T01:50:17.823037Z"
    }
   },
   "outputs": [
    {
     "data": {
      "text/plain": [
       "array([[1.61700000e+03, 3.00000000e+04, 9.72000000e+04, ...,\n",
       "        9.90000010e-01, 1.00000000e+00, 9.90000010e-01],\n",
       "       [1.63200000e+03, 1.11174400e+06, 1.13768700e+06, ...,\n",
       "        2.97000003e+00, 3.00000000e+00, 4.96000004e+00],\n",
       "       [1.63900000e+03, 2.49050000e+05, 1.73248000e+05, ...,\n",
       "        1.29700003e+01, 3.00000000e+00, 1.29700003e+01],\n",
       "       ...,\n",
       "       [3.19048400e+06, 7.13628400e+06, 4.75568000e+06, ...,\n",
       "        9.90000010e-01, 1.00000000e+00, 2.09599991e+01],\n",
       "       [3.19049400e+06, 2.54819800e+06, 2.12713900e+06, ...,\n",
       "        9.90000010e-01, 1.00000000e+00, 9.90000010e-01],\n",
       "       [3.19050800e+06, 3.30638200e+06, 2.49192000e+06, ...,\n",
       "        1.98000002e+00, 2.00000000e+00, 1.98000002e+00]])"
      ]
     },
     "execution_count": 167,
     "metadata": {},
     "output_type": "execute_result"
    }
   ],
   "source": [
    "train_7pay.values"
   ]
  },
  {
   "cell_type": "code",
   "execution_count": 168,
   "metadata": {
    "ExecuteTime": {
     "end_time": "2018-09-19T01:50:17.932043Z",
     "start_time": "2018-09-19T01:50:17.862039Z"
    }
   },
   "outputs": [
    {
     "data": {
      "text/plain": [
       "(19549, 107)"
      ]
     },
     "execution_count": 168,
     "metadata": {},
     "output_type": "execute_result"
    }
   ],
   "source": [
    "test_7pay.shape"
   ]
  },
  {
   "cell_type": "code",
   "execution_count": 169,
   "metadata": {
    "ExecuteTime": {
     "end_time": "2018-09-19T01:50:18.007047Z",
     "start_time": "2018-09-19T01:50:17.933043Z"
    }
   },
   "outputs": [],
   "source": [
    "#######################################"
   ]
  },
  {
   "cell_type": "code",
   "execution_count": 170,
   "metadata": {
    "ExecuteTime": {
     "end_time": "2018-09-19T01:50:18.097052Z",
     "start_time": "2018-09-19T01:50:18.009047Z"
    }
   },
   "outputs": [],
   "source": [
    "# plt.scatter(train_7pay.pay_price,train_7pay.prediction_pay_price)\n",
    "# plt.show()"
   ]
  },
  {
   "cell_type": "code",
   "execution_count": 171,
   "metadata": {
    "ExecuteTime": {
     "end_time": "2018-09-19T01:50:18.207059Z",
     "start_time": "2018-09-19T01:50:18.098053Z"
    }
   },
   "outputs": [],
   "source": [
    "# plt.subplot(1,2,1)\n",
    "# sns.distplot(train_7pay.prediction_pay_price,kde=False,fit=norm)\n",
    "\n",
    "# plt.subplot(122)\n",
    "# sns.distplot(np.log(train_7pay.prediction_pay_price),kde=True,fit=norm)\n",
    "# plt.show()"
   ]
  },
  {
   "cell_type": "code",
   "execution_count": 172,
   "metadata": {
    "ExecuteTime": {
     "end_time": "2018-09-19T01:50:18.310065Z",
     "start_time": "2018-09-19T01:50:18.209059Z"
    }
   },
   "outputs": [
    {
     "data": {
      "text/plain": [
       "22.5540828704834"
      ]
     },
     "execution_count": 172,
     "metadata": {},
     "output_type": "execute_result"
    }
   ],
   "source": [
    "skew(train_7pay.prediction_pay_price)"
   ]
  },
  {
   "cell_type": "code",
   "execution_count": 173,
   "metadata": {
    "ExecuteTime": {
     "end_time": "2018-09-19T01:50:18.425071Z",
     "start_time": "2018-09-19T01:50:18.311065Z"
    }
   },
   "outputs": [
    {
     "data": {
      "text/plain": [
       "0.9934835433959961"
      ]
     },
     "execution_count": 173,
     "metadata": {},
     "output_type": "execute_result"
    }
   ],
   "source": [
    "skew(np.log(train_7pay.prediction_pay_price))"
   ]
  },
  {
   "cell_type": "code",
   "execution_count": null,
   "metadata": {},
   "outputs": [],
   "source": []
  },
  {
   "cell_type": "code",
   "execution_count": 174,
   "metadata": {
    "ExecuteTime": {
     "end_time": "2018-09-19T01:50:18.514076Z",
     "start_time": "2018-09-19T01:50:18.427071Z"
    }
   },
   "outputs": [],
   "source": [
    "# train_7pay['prediction_pay_price']=np.log(train_7pay.prediction_pay_price)"
   ]
  },
  {
   "cell_type": "code",
   "execution_count": 175,
   "metadata": {
    "ExecuteTime": {
     "end_time": "2018-09-19T01:50:18.621082Z",
     "start_time": "2018-09-19T01:50:18.515076Z"
    }
   },
   "outputs": [
    {
     "name": "stdout",
     "output_type": "stream",
     "text": [
      "<class 'pandas.core.frame.DataFrame'>\n",
      "Int64Index: 41439 entries, 25 to 2287984\n",
      "Columns: 108 entries, user_id to prediction_pay_price\n",
      "dtypes: float32(13), uint16(8), uint32(21), uint8(66)\n",
      "memory usage: 8.9 MB\n"
     ]
    }
   ],
   "source": [
    "train_7pay.info(memory_usage='deep')"
   ]
  },
  {
   "cell_type": "code",
   "execution_count": 235,
   "metadata": {
    "ExecuteTime": {
     "end_time": "2018-09-19T02:38:03.465630Z",
     "start_time": "2018-09-19T02:38:03.429029Z"
    }
   },
   "outputs": [],
   "source": [
    "train_7pay_y=train_7pay.prediction_pay_price\n",
    "train_7pay_X=train_7pay.drop(labels=['prediction_pay_price','user_id'],axis=1)\n",
    "train_7pay_user_id=train_7pay.user_id\n",
    "test_7pay_X=test_7pay.drop(labels=['user_id'],axis=1)\n",
    "test_7pay_user_id=test_7pay.user_id\n",
    "\n"
   ]
  },
  {
   "cell_type": "code",
   "execution_count": null,
   "metadata": {},
   "outputs": [],
   "source": []
  },
  {
   "cell_type": "code",
   "execution_count": 236,
   "metadata": {
    "ExecuteTime": {
     "end_time": "2018-09-19T02:38:03.544634Z",
     "start_time": "2018-09-19T02:38:03.466630Z"
    }
   },
   "outputs": [],
   "source": [
    "# ss=StandardScaler()\n",
    "# train_7pay_X_ss=ss.fit_transform(train_7pay_X)\n",
    "# test_7pay_X_ss=ss.transform(test_7pay_X)"
   ]
  },
  {
   "cell_type": "code",
   "execution_count": 237,
   "metadata": {
    "ExecuteTime": {
     "end_time": "2018-09-19T02:38:03.623639Z",
     "start_time": "2018-09-19T02:38:03.546635Z"
    }
   },
   "outputs": [
    {
     "data": {
      "text/plain": [
       "25      0.99\n",
       "40      4.96\n",
       "47     12.97\n",
       "86      0.99\n",
       "119     0.99\n",
       "Name: prediction_pay_price, dtype: float32"
      ]
     },
     "execution_count": 237,
     "metadata": {},
     "output_type": "execute_result"
    }
   ],
   "source": [
    "train_7pay.prediction_pay_price.head()"
   ]
  },
  {
   "cell_type": "code",
   "execution_count": 238,
   "metadata": {
    "ExecuteTime": {
     "end_time": "2018-09-19T02:38:03.706644Z",
     "start_time": "2018-09-19T02:38:03.625639Z"
    }
   },
   "outputs": [
    {
     "data": {
      "text/plain": [
       "22.5540828704834"
      ]
     },
     "execution_count": 238,
     "metadata": {},
     "output_type": "execute_result"
    }
   ],
   "source": [
    "skew(train_7pay_y)"
   ]
  },
  {
   "cell_type": "code",
   "execution_count": 239,
   "metadata": {
    "ExecuteTime": {
     "end_time": "2018-09-19T02:38:03.766647Z",
     "start_time": "2018-09-19T02:38:03.708644Z"
    }
   },
   "outputs": [
    {
     "data": {
      "text/plain": [
       "756.7218795035935"
      ]
     },
     "execution_count": 239,
     "metadata": {},
     "output_type": "execute_result"
    }
   ],
   "source": [
    "kurtosis(train_7pay_y)"
   ]
  },
  {
   "cell_type": "code",
   "execution_count": 240,
   "metadata": {
    "ExecuteTime": {
     "end_time": "2018-09-19T02:38:03.854652Z",
     "start_time": "2018-09-19T02:38:03.767647Z"
    }
   },
   "outputs": [
    {
     "data": {
      "text/plain": [
       "pandas.core.series.Series"
      ]
     },
     "execution_count": 240,
     "metadata": {},
     "output_type": "execute_result"
    }
   ],
   "source": [
    "type(train_7pay_y)"
   ]
  },
  {
   "cell_type": "code",
   "execution_count": 241,
   "metadata": {
    "ExecuteTime": {
     "end_time": "2018-09-19T02:38:03.958658Z",
     "start_time": "2018-09-19T02:38:03.855652Z"
    }
   },
   "outputs": [
    {
     "data": {
      "text/plain": [
       "30"
      ]
     },
     "execution_count": 241,
     "metadata": {},
     "output_type": "execute_result"
    }
   ],
   "source": [
    "numeric_dtypes=['uint8','uint16','uint32','uint64','float32']\n",
    "numeric2=[]\n",
    "for i in train_7pay_X.columns:\n",
    "    if (train_7pay_X[i].dtype in numeric_dtypes) & ( i != 'user_id') :#& (i != 'prediction_pay_price'):\n",
    "        numeric2.append(i)\n",
    "len(numeric2)"
   ]
  },
  {
   "cell_type": "code",
   "execution_count": 242,
   "metadata": {
    "ExecuteTime": {
     "end_time": "2018-09-19T02:38:04.127668Z",
     "start_time": "2018-09-19T02:38:03.960658Z"
    }
   },
   "outputs": [
    {
     "data": {
      "text/html": [
       "<div>\n",
       "<style scoped>\n",
       "    .dataframe tbody tr th:only-of-type {\n",
       "        vertical-align: middle;\n",
       "    }\n",
       "\n",
       "    .dataframe tbody tr th {\n",
       "        vertical-align: top;\n",
       "    }\n",
       "\n",
       "    .dataframe thead th {\n",
       "        text-align: right;\n",
       "    }\n",
       "</style>\n",
       "<table border=\"1\" class=\"dataframe\">\n",
       "  <thead>\n",
       "    <tr style=\"text-align: right;\">\n",
       "      <th></th>\n",
       "      <th>skew</th>\n",
       "    </tr>\n",
       "  </thead>\n",
       "  <tbody>\n",
       "    <tr>\n",
       "      <th>sr_guest_troop_capacity_level</th>\n",
       "      <td>117.691832</td>\n",
       "    </tr>\n",
       "    <tr>\n",
       "      <th>sr_rss_help_bonus_level</th>\n",
       "      <td>117.634879</td>\n",
       "    </tr>\n",
       "    <tr>\n",
       "      <th>sr_march_size_level</th>\n",
       "      <td>77.117545</td>\n",
       "    </tr>\n",
       "    <tr>\n",
       "      <th>sr_troop_attack_level</th>\n",
       "      <td>67.957535</td>\n",
       "    </tr>\n",
       "    <tr>\n",
       "      <th>sr_outpost_tier_4_level</th>\n",
       "      <td>56.432399</td>\n",
       "    </tr>\n",
       "    <tr>\n",
       "      <th>sr_shaman_tier_4_level</th>\n",
       "      <td>34.868251</td>\n",
       "    </tr>\n",
       "    <tr>\n",
       "      <th>sr_infantry_tier_4_level</th>\n",
       "      <td>32.139943</td>\n",
       "    </tr>\n",
       "    <tr>\n",
       "      <th>sr_cavalry_tier_4_level</th>\n",
       "      <td>30.296332</td>\n",
       "    </tr>\n",
       "    <tr>\n",
       "      <th>sr_shaman_hp_level</th>\n",
       "      <td>12.814441</td>\n",
       "    </tr>\n",
       "    <tr>\n",
       "      <th>sr_cavalry_hp_level</th>\n",
       "      <td>12.560403</td>\n",
       "    </tr>\n",
       "    <tr>\n",
       "      <th>sr_shaman_def_level</th>\n",
       "      <td>12.129973</td>\n",
       "    </tr>\n",
       "    <tr>\n",
       "      <th>sr_infantry_hp_level</th>\n",
       "      <td>11.863372</td>\n",
       "    </tr>\n",
       "    <tr>\n",
       "      <th>sr_cavalry_def_level</th>\n",
       "      <td>11.659334</td>\n",
       "    </tr>\n",
       "    <tr>\n",
       "      <th>sr_infantry_def_level</th>\n",
       "      <td>11.332265</td>\n",
       "    </tr>\n",
       "    <tr>\n",
       "      <th>sr_alliance_march_speed_level</th>\n",
       "      <td>9.993289</td>\n",
       "    </tr>\n",
       "    <tr>\n",
       "      <th>sr_troop_defense_level</th>\n",
       "      <td>9.869269</td>\n",
       "    </tr>\n",
       "    <tr>\n",
       "      <th>sr_shaman_tier_3_level</th>\n",
       "      <td>8.629551</td>\n",
       "    </tr>\n",
       "    <tr>\n",
       "      <th>sr_gathering_march_speed_level</th>\n",
       "      <td>8.298226</td>\n",
       "    </tr>\n",
       "    <tr>\n",
       "      <th>sr_cavalry_tier_3_level</th>\n",
       "      <td>8.150256</td>\n",
       "    </tr>\n",
       "    <tr>\n",
       "      <th>sr_pvp_march_speed_level</th>\n",
       "      <td>8.066003</td>\n",
       "    </tr>\n",
       "    <tr>\n",
       "      <th>sr_infantry_tier_3_level</th>\n",
       "      <td>7.930711</td>\n",
       "    </tr>\n",
       "    <tr>\n",
       "      <th>sr_rss_c_gather_level</th>\n",
       "      <td>7.921793</td>\n",
       "    </tr>\n",
       "    <tr>\n",
       "      <th>sr_rss_c_prod_level</th>\n",
       "      <td>6.799671</td>\n",
       "    </tr>\n",
       "    <tr>\n",
       "      <th>sr_rss_b_gather_level</th>\n",
       "      <td>4.355000</td>\n",
       "    </tr>\n",
       "    <tr>\n",
       "      <th>sr_outpost_tier_3_level</th>\n",
       "      <td>4.219154</td>\n",
       "    </tr>\n",
       "    <tr>\n",
       "      <th>sr_rss_e_gather_level</th>\n",
       "      <td>3.974888</td>\n",
       "    </tr>\n",
       "    <tr>\n",
       "      <th>sr_rss_b_prod_level</th>\n",
       "      <td>3.754292</td>\n",
       "    </tr>\n",
       "    <tr>\n",
       "      <th>sr_rss_e_prod_level</th>\n",
       "      <td>2.376228</td>\n",
       "    </tr>\n",
       "    <tr>\n",
       "      <th>treatment_acceleration_reduce_value</th>\n",
       "      <td>2.172012</td>\n",
       "    </tr>\n",
       "    <tr>\n",
       "      <th>sr_rss_d_gather_level</th>\n",
       "      <td>1.575923</td>\n",
       "    </tr>\n",
       "    <tr>\n",
       "      <th>...</th>\n",
       "      <td>...</td>\n",
       "    </tr>\n",
       "    <tr>\n",
       "      <th>magic_reduce_value</th>\n",
       "      <td>0.145848</td>\n",
       "    </tr>\n",
       "    <tr>\n",
       "      <th>general_acceleration_add_value</th>\n",
       "      <td>0.136133</td>\n",
       "    </tr>\n",
       "    <tr>\n",
       "      <th>training_acceleration_add_value</th>\n",
       "      <td>0.131508</td>\n",
       "    </tr>\n",
       "    <tr>\n",
       "      <th>building_acceleration_add_value</th>\n",
       "      <td>0.120398</td>\n",
       "    </tr>\n",
       "    <tr>\n",
       "      <th>magic_add_value</th>\n",
       "      <td>0.086886</td>\n",
       "    </tr>\n",
       "    <tr>\n",
       "      <th>reaserch_acceleration_add_value</th>\n",
       "      <td>0.084796</td>\n",
       "    </tr>\n",
       "    <tr>\n",
       "      <th>bd_hero_pve_level</th>\n",
       "      <td>0.076623</td>\n",
       "    </tr>\n",
       "    <tr>\n",
       "      <th>pve_win_count</th>\n",
       "      <td>0.039549</td>\n",
       "    </tr>\n",
       "    <tr>\n",
       "      <th>pve_lanch_count</th>\n",
       "      <td>0.037883</td>\n",
       "    </tr>\n",
       "    <tr>\n",
       "      <th>pve_battle_count</th>\n",
       "      <td>0.036164</td>\n",
       "    </tr>\n",
       "    <tr>\n",
       "      <th>sr_shaman_tier_2_level</th>\n",
       "      <td>0.019355</td>\n",
       "    </tr>\n",
       "    <tr>\n",
       "      <th>avg_online_minutes</th>\n",
       "      <td>-0.015519</td>\n",
       "    </tr>\n",
       "    <tr>\n",
       "      <th>sr_cavalry_tier_2_level</th>\n",
       "      <td>-0.093492</td>\n",
       "    </tr>\n",
       "    <tr>\n",
       "      <th>sr_infantry_tier_2_level</th>\n",
       "      <td>-0.129278</td>\n",
       "    </tr>\n",
       "    <tr>\n",
       "      <th>bd_guest_cavern_level</th>\n",
       "      <td>-0.258554</td>\n",
       "    </tr>\n",
       "    <tr>\n",
       "      <th>bd_market_level</th>\n",
       "      <td>-0.286070</td>\n",
       "    </tr>\n",
       "    <tr>\n",
       "      <th>sr_training_speed_level</th>\n",
       "      <td>-0.296719</td>\n",
       "    </tr>\n",
       "    <tr>\n",
       "      <th>sr_outpost_tier_2_level</th>\n",
       "      <td>-0.299098</td>\n",
       "    </tr>\n",
       "    <tr>\n",
       "      <th>bd_healing_lodge_level</th>\n",
       "      <td>-0.306906</td>\n",
       "    </tr>\n",
       "    <tr>\n",
       "      <th>bd_watchtower_level</th>\n",
       "      <td>-0.381151</td>\n",
       "    </tr>\n",
       "    <tr>\n",
       "      <th>bd_training_hut_level</th>\n",
       "      <td>-0.401962</td>\n",
       "    </tr>\n",
       "    <tr>\n",
       "      <th>bd_healing_spring_level</th>\n",
       "      <td>-0.409719</td>\n",
       "    </tr>\n",
       "    <tr>\n",
       "      <th>bd_dolmen_level</th>\n",
       "      <td>-0.506567</td>\n",
       "    </tr>\n",
       "    <tr>\n",
       "      <th>bd_outpost_portal_level</th>\n",
       "      <td>-0.516837</td>\n",
       "    </tr>\n",
       "    <tr>\n",
       "      <th>bd_warehouse_level</th>\n",
       "      <td>-0.519127</td>\n",
       "    </tr>\n",
       "    <tr>\n",
       "      <th>bd_barrack_level</th>\n",
       "      <td>-0.541721</td>\n",
       "    </tr>\n",
       "    <tr>\n",
       "      <th>bd_magic_coin_tree_level</th>\n",
       "      <td>-0.550381</td>\n",
       "    </tr>\n",
       "    <tr>\n",
       "      <th>bd_stronghold_level</th>\n",
       "      <td>-0.694097</td>\n",
       "    </tr>\n",
       "    <tr>\n",
       "      <th>meat_reduce_value</th>\n",
       "      <td>-3.562855</td>\n",
       "    </tr>\n",
       "    <tr>\n",
       "      <th>wood_reduce_value</th>\n",
       "      <td>-3.566151</td>\n",
       "    </tr>\n",
       "  </tbody>\n",
       "</table>\n",
       "<p>106 rows × 1 columns</p>\n",
       "</div>"
      ],
      "text/plain": [
       "                                           skew\n",
       "sr_guest_troop_capacity_level        117.691832\n",
       "sr_rss_help_bonus_level              117.634879\n",
       "sr_march_size_level                   77.117545\n",
       "sr_troop_attack_level                 67.957535\n",
       "sr_outpost_tier_4_level               56.432399\n",
       "sr_shaman_tier_4_level                34.868251\n",
       "sr_infantry_tier_4_level              32.139943\n",
       "sr_cavalry_tier_4_level               30.296332\n",
       "sr_shaman_hp_level                    12.814441\n",
       "sr_cavalry_hp_level                   12.560403\n",
       "sr_shaman_def_level                   12.129973\n",
       "sr_infantry_hp_level                  11.863372\n",
       "sr_cavalry_def_level                  11.659334\n",
       "sr_infantry_def_level                 11.332265\n",
       "sr_alliance_march_speed_level          9.993289\n",
       "sr_troop_defense_level                 9.869269\n",
       "sr_shaman_tier_3_level                 8.629551\n",
       "sr_gathering_march_speed_level         8.298226\n",
       "sr_cavalry_tier_3_level                8.150256\n",
       "sr_pvp_march_speed_level               8.066003\n",
       "sr_infantry_tier_3_level               7.930711\n",
       "sr_rss_c_gather_level                  7.921793\n",
       "sr_rss_c_prod_level                    6.799671\n",
       "sr_rss_b_gather_level                  4.355000\n",
       "sr_outpost_tier_3_level                4.219154\n",
       "sr_rss_e_gather_level                  3.974888\n",
       "sr_rss_b_prod_level                    3.754292\n",
       "sr_rss_e_prod_level                    2.376228\n",
       "treatment_acceleration_reduce_value    2.172012\n",
       "sr_rss_d_gather_level                  1.575923\n",
       "...                                         ...\n",
       "magic_reduce_value                     0.145848\n",
       "general_acceleration_add_value         0.136133\n",
       "training_acceleration_add_value        0.131508\n",
       "building_acceleration_add_value        0.120398\n",
       "magic_add_value                        0.086886\n",
       "reaserch_acceleration_add_value        0.084796\n",
       "bd_hero_pve_level                      0.076623\n",
       "pve_win_count                          0.039549\n",
       "pve_lanch_count                        0.037883\n",
       "pve_battle_count                       0.036164\n",
       "sr_shaman_tier_2_level                 0.019355\n",
       "avg_online_minutes                    -0.015519\n",
       "sr_cavalry_tier_2_level               -0.093492\n",
       "sr_infantry_tier_2_level              -0.129278\n",
       "bd_guest_cavern_level                 -0.258554\n",
       "bd_market_level                       -0.286070\n",
       "sr_training_speed_level               -0.296719\n",
       "sr_outpost_tier_2_level               -0.299098\n",
       "bd_healing_lodge_level                -0.306906\n",
       "bd_watchtower_level                   -0.381151\n",
       "bd_training_hut_level                 -0.401962\n",
       "bd_healing_spring_level               -0.409719\n",
       "bd_dolmen_level                       -0.506567\n",
       "bd_outpost_portal_level               -0.516837\n",
       "bd_warehouse_level                    -0.519127\n",
       "bd_barrack_level                      -0.541721\n",
       "bd_magic_coin_tree_level              -0.550381\n",
       "bd_stronghold_level                   -0.694097\n",
       "meat_reduce_value                     -3.562855\n",
       "wood_reduce_value                     -3.566151\n",
       "\n",
       "[106 rows x 1 columns]"
      ]
     },
     "execution_count": 242,
     "metadata": {},
     "output_type": "execute_result"
    }
   ],
   "source": [
    "numeric_dtypes=['uint8','uint16','uint32','uint64','float16','float32','float64']\n",
    "numeric2=[]\n",
    "for i in train_7pay_X.columns:\n",
    "    if (train_7pay_X[i].dtype in numeric_dtypes) & ( i != 'user_id')  :#& (i != 'prediction_pay_price'):\n",
    "        numeric2.append(i)\n",
    "skew_train_7pay_X=train_7pay_X[numeric2].apply(lambda x:skew(x)).sort_values(ascending=False)\n",
    "skews=pd.DataFrame({'skew':skew_train_7pay_X})\n",
    "skews"
   ]
  },
  {
   "cell_type": "code",
   "execution_count": 243,
   "metadata": {
    "ExecuteTime": {
     "end_time": "2018-09-19T02:38:04.208672Z",
     "start_time": "2018-09-19T02:38:04.129668Z"
    }
   },
   "outputs": [
    {
     "data": {
      "text/html": [
       "<div>\n",
       "<style scoped>\n",
       "    .dataframe tbody tr th:only-of-type {\n",
       "        vertical-align: middle;\n",
       "    }\n",
       "\n",
       "    .dataframe tbody tr th {\n",
       "        vertical-align: top;\n",
       "    }\n",
       "\n",
       "    .dataframe thead th {\n",
       "        text-align: right;\n",
       "    }\n",
       "</style>\n",
       "<table border=\"1\" class=\"dataframe\">\n",
       "  <thead>\n",
       "    <tr style=\"text-align: right;\">\n",
       "      <th></th>\n",
       "      <th>skew</th>\n",
       "    </tr>\n",
       "  </thead>\n",
       "  <tbody>\n",
       "    <tr>\n",
       "      <th>sr_rss_help_bonus_level</th>\n",
       "      <td>80.705226</td>\n",
       "    </tr>\n",
       "    <tr>\n",
       "      <th>sr_guest_troop_capacity_level</th>\n",
       "      <td>80.705226</td>\n",
       "    </tr>\n",
       "    <tr>\n",
       "      <th>sr_march_size_level</th>\n",
       "      <td>52.917479</td>\n",
       "    </tr>\n",
       "    <tr>\n",
       "      <th>sr_troop_attack_level</th>\n",
       "      <td>52.893436</td>\n",
       "    </tr>\n",
       "    <tr>\n",
       "      <th>sr_outpost_tier_4_level</th>\n",
       "      <td>49.402686</td>\n",
       "    </tr>\n",
       "    <tr>\n",
       "      <th>sr_cavalry_tier_4_level</th>\n",
       "      <td>36.059221</td>\n",
       "    </tr>\n",
       "    <tr>\n",
       "      <th>sr_shaman_tier_4_level</th>\n",
       "      <td>32.029607</td>\n",
       "    </tr>\n",
       "    <tr>\n",
       "      <th>sr_infantry_tier_4_level</th>\n",
       "      <td>28.487592</td>\n",
       "    </tr>\n",
       "    <tr>\n",
       "      <th>sr_shaman_hp_level</th>\n",
       "      <td>14.114951</td>\n",
       "    </tr>\n",
       "    <tr>\n",
       "      <th>sr_shaman_def_level</th>\n",
       "      <td>13.189898</td>\n",
       "    </tr>\n",
       "    <tr>\n",
       "      <th>sr_infantry_hp_level</th>\n",
       "      <td>12.909549</td>\n",
       "    </tr>\n",
       "    <tr>\n",
       "      <th>sr_cavalry_hp_level</th>\n",
       "      <td>12.634294</td>\n",
       "    </tr>\n",
       "    <tr>\n",
       "      <th>sr_infantry_def_level</th>\n",
       "      <td>12.153610</td>\n",
       "    </tr>\n",
       "    <tr>\n",
       "      <th>sr_cavalry_def_level</th>\n",
       "      <td>12.056187</td>\n",
       "    </tr>\n",
       "    <tr>\n",
       "      <th>sr_troop_defense_level</th>\n",
       "      <td>10.208373</td>\n",
       "    </tr>\n",
       "    <tr>\n",
       "      <th>sr_alliance_march_speed_level</th>\n",
       "      <td>9.626088</td>\n",
       "    </tr>\n",
       "    <tr>\n",
       "      <th>sr_shaman_tier_3_level</th>\n",
       "      <td>8.782454</td>\n",
       "    </tr>\n",
       "    <tr>\n",
       "      <th>sr_infantry_tier_3_level</th>\n",
       "      <td>8.085048</td>\n",
       "    </tr>\n",
       "    <tr>\n",
       "      <th>sr_cavalry_tier_3_level</th>\n",
       "      <td>8.070309</td>\n",
       "    </tr>\n",
       "    <tr>\n",
       "      <th>sr_pvp_march_speed_level</th>\n",
       "      <td>7.781338</td>\n",
       "    </tr>\n",
       "    <tr>\n",
       "      <th>sr_gathering_march_speed_level</th>\n",
       "      <td>7.660706</td>\n",
       "    </tr>\n",
       "    <tr>\n",
       "      <th>sr_rss_c_gather_level</th>\n",
       "      <td>7.413734</td>\n",
       "    </tr>\n",
       "    <tr>\n",
       "      <th>sr_rss_c_prod_level</th>\n",
       "      <td>6.336214</td>\n",
       "    </tr>\n",
       "    <tr>\n",
       "      <th>sr_outpost_tier_3_level</th>\n",
       "      <td>4.103616</td>\n",
       "    </tr>\n",
       "    <tr>\n",
       "      <th>sr_rss_b_gather_level</th>\n",
       "      <td>4.081167</td>\n",
       "    </tr>\n",
       "    <tr>\n",
       "      <th>sr_rss_e_gather_level</th>\n",
       "      <td>3.775178</td>\n",
       "    </tr>\n",
       "    <tr>\n",
       "      <th>sr_rss_b_prod_level</th>\n",
       "      <td>3.515250</td>\n",
       "    </tr>\n",
       "    <tr>\n",
       "      <th>sr_rss_e_prod_level</th>\n",
       "      <td>2.217775</td>\n",
       "    </tr>\n",
       "    <tr>\n",
       "      <th>treatment_acceleration_reduce_value</th>\n",
       "      <td>2.123521</td>\n",
       "    </tr>\n",
       "    <tr>\n",
       "      <th>sr_rss_d_gather_level</th>\n",
       "      <td>1.447355</td>\n",
       "    </tr>\n",
       "    <tr>\n",
       "      <th>...</th>\n",
       "      <td>...</td>\n",
       "    </tr>\n",
       "    <tr>\n",
       "      <th>sr_scout_level</th>\n",
       "      <td>0.106724</td>\n",
       "    </tr>\n",
       "    <tr>\n",
       "      <th>building_acceleration_reduce_value</th>\n",
       "      <td>0.106130</td>\n",
       "    </tr>\n",
       "    <tr>\n",
       "      <th>magic_reduce_value</th>\n",
       "      <td>0.101948</td>\n",
       "    </tr>\n",
       "    <tr>\n",
       "      <th>reaserch_acceleration_reduce_value</th>\n",
       "      <td>0.100930</td>\n",
       "    </tr>\n",
       "    <tr>\n",
       "      <th>pvp_battle_count</th>\n",
       "      <td>0.098094</td>\n",
       "    </tr>\n",
       "    <tr>\n",
       "      <th>general_acceleration_add_value</th>\n",
       "      <td>0.095868</td>\n",
       "    </tr>\n",
       "    <tr>\n",
       "      <th>reaserch_acceleration_add_value</th>\n",
       "      <td>0.086511</td>\n",
       "    </tr>\n",
       "    <tr>\n",
       "      <th>magic_add_value</th>\n",
       "      <td>0.049668</td>\n",
       "    </tr>\n",
       "    <tr>\n",
       "      <th>avg_online_minutes</th>\n",
       "      <td>-0.015836</td>\n",
       "    </tr>\n",
       "    <tr>\n",
       "      <th>bd_hero_pve_level</th>\n",
       "      <td>-0.028230</td>\n",
       "    </tr>\n",
       "    <tr>\n",
       "      <th>pve_win_count</th>\n",
       "      <td>-0.030237</td>\n",
       "    </tr>\n",
       "    <tr>\n",
       "      <th>pve_lanch_count</th>\n",
       "      <td>-0.032957</td>\n",
       "    </tr>\n",
       "    <tr>\n",
       "      <th>pve_battle_count</th>\n",
       "      <td>-0.034437</td>\n",
       "    </tr>\n",
       "    <tr>\n",
       "      <th>sr_shaman_tier_2_level</th>\n",
       "      <td>-0.223283</td>\n",
       "    </tr>\n",
       "    <tr>\n",
       "      <th>bd_healing_lodge_level</th>\n",
       "      <td>-0.246816</td>\n",
       "    </tr>\n",
       "    <tr>\n",
       "      <th>bd_market_level</th>\n",
       "      <td>-0.350075</td>\n",
       "    </tr>\n",
       "    <tr>\n",
       "      <th>bd_guest_cavern_level</th>\n",
       "      <td>-0.356346</td>\n",
       "    </tr>\n",
       "    <tr>\n",
       "      <th>bd_training_hut_level</th>\n",
       "      <td>-0.357798</td>\n",
       "    </tr>\n",
       "    <tr>\n",
       "      <th>bd_outpost_portal_level</th>\n",
       "      <td>-0.361263</td>\n",
       "    </tr>\n",
       "    <tr>\n",
       "      <th>sr_cavalry_tier_2_level</th>\n",
       "      <td>-0.386909</td>\n",
       "    </tr>\n",
       "    <tr>\n",
       "      <th>bd_watchtower_level</th>\n",
       "      <td>-0.399521</td>\n",
       "    </tr>\n",
       "    <tr>\n",
       "      <th>sr_infantry_tier_2_level</th>\n",
       "      <td>-0.424297</td>\n",
       "    </tr>\n",
       "    <tr>\n",
       "      <th>bd_healing_spring_level</th>\n",
       "      <td>-0.443664</td>\n",
       "    </tr>\n",
       "    <tr>\n",
       "      <th>bd_dolmen_level</th>\n",
       "      <td>-0.460564</td>\n",
       "    </tr>\n",
       "    <tr>\n",
       "      <th>sr_training_speed_level</th>\n",
       "      <td>-0.497942</td>\n",
       "    </tr>\n",
       "    <tr>\n",
       "      <th>bd_barrack_level</th>\n",
       "      <td>-0.516124</td>\n",
       "    </tr>\n",
       "    <tr>\n",
       "      <th>bd_stronghold_level</th>\n",
       "      <td>-0.543057</td>\n",
       "    </tr>\n",
       "    <tr>\n",
       "      <th>bd_warehouse_level</th>\n",
       "      <td>-0.583353</td>\n",
       "    </tr>\n",
       "    <tr>\n",
       "      <th>bd_magic_coin_tree_level</th>\n",
       "      <td>-0.678569</td>\n",
       "    </tr>\n",
       "    <tr>\n",
       "      <th>sr_outpost_tier_2_level</th>\n",
       "      <td>-0.731500</td>\n",
       "    </tr>\n",
       "  </tbody>\n",
       "</table>\n",
       "<p>106 rows × 1 columns</p>\n",
       "</div>"
      ],
      "text/plain": [
       "                                          skew\n",
       "sr_rss_help_bonus_level              80.705226\n",
       "sr_guest_troop_capacity_level        80.705226\n",
       "sr_march_size_level                  52.917479\n",
       "sr_troop_attack_level                52.893436\n",
       "sr_outpost_tier_4_level              49.402686\n",
       "sr_cavalry_tier_4_level              36.059221\n",
       "sr_shaman_tier_4_level               32.029607\n",
       "sr_infantry_tier_4_level             28.487592\n",
       "sr_shaman_hp_level                   14.114951\n",
       "sr_shaman_def_level                  13.189898\n",
       "sr_infantry_hp_level                 12.909549\n",
       "sr_cavalry_hp_level                  12.634294\n",
       "sr_infantry_def_level                12.153610\n",
       "sr_cavalry_def_level                 12.056187\n",
       "sr_troop_defense_level               10.208373\n",
       "sr_alliance_march_speed_level         9.626088\n",
       "sr_shaman_tier_3_level                8.782454\n",
       "sr_infantry_tier_3_level              8.085048\n",
       "sr_cavalry_tier_3_level               8.070309\n",
       "sr_pvp_march_speed_level              7.781338\n",
       "sr_gathering_march_speed_level        7.660706\n",
       "sr_rss_c_gather_level                 7.413734\n",
       "sr_rss_c_prod_level                   6.336214\n",
       "sr_outpost_tier_3_level               4.103616\n",
       "sr_rss_b_gather_level                 4.081167\n",
       "sr_rss_e_gather_level                 3.775178\n",
       "sr_rss_b_prod_level                   3.515250\n",
       "sr_rss_e_prod_level                   2.217775\n",
       "treatment_acceleration_reduce_value   2.123521\n",
       "sr_rss_d_gather_level                 1.447355\n",
       "...                                        ...\n",
       "sr_scout_level                        0.106724\n",
       "building_acceleration_reduce_value    0.106130\n",
       "magic_reduce_value                    0.101948\n",
       "reaserch_acceleration_reduce_value    0.100930\n",
       "pvp_battle_count                      0.098094\n",
       "general_acceleration_add_value        0.095868\n",
       "reaserch_acceleration_add_value       0.086511\n",
       "magic_add_value                       0.049668\n",
       "avg_online_minutes                   -0.015836\n",
       "bd_hero_pve_level                    -0.028230\n",
       "pve_win_count                        -0.030237\n",
       "pve_lanch_count                      -0.032957\n",
       "pve_battle_count                     -0.034437\n",
       "sr_shaman_tier_2_level               -0.223283\n",
       "bd_healing_lodge_level               -0.246816\n",
       "bd_market_level                      -0.350075\n",
       "bd_guest_cavern_level                -0.356346\n",
       "bd_training_hut_level                -0.357798\n",
       "bd_outpost_portal_level              -0.361263\n",
       "sr_cavalry_tier_2_level              -0.386909\n",
       "bd_watchtower_level                  -0.399521\n",
       "sr_infantry_tier_2_level             -0.424297\n",
       "bd_healing_spring_level              -0.443664\n",
       "bd_dolmen_level                      -0.460564\n",
       "sr_training_speed_level              -0.497942\n",
       "bd_barrack_level                     -0.516124\n",
       "bd_stronghold_level                  -0.543057\n",
       "bd_warehouse_level                   -0.583353\n",
       "bd_magic_coin_tree_level             -0.678569\n",
       "sr_outpost_tier_2_level              -0.731500\n",
       "\n",
       "[106 rows x 1 columns]"
      ]
     },
     "execution_count": 243,
     "metadata": {},
     "output_type": "execute_result"
    }
   ],
   "source": [
    "numeric_dtypes=['uint8','uint16','uint32','uint64','float16','float32','float64']\n",
    "numeric22=[]\n",
    "for i in test_7pay.columns:\n",
    "    if (test_7pay[i].dtype in numeric_dtypes) & ( i != 'user_id') : #& (i != 'prediction_pay_price'):\n",
    "        numeric22.append(i)\n",
    "skew_test_7pay=test_7pay[numeric22].apply(lambda x:skew(x)).sort_values(ascending=False)\n",
    "skews22=pd.DataFrame({'skew':skew_test_7pay})\n",
    "skews22"
   ]
  },
  {
   "cell_type": "code",
   "execution_count": 244,
   "metadata": {
    "ExecuteTime": {
     "end_time": "2018-09-19T02:38:04.212673Z",
     "start_time": "2018-09-19T02:38:04.210672Z"
    }
   },
   "outputs": [],
   "source": [
    "from scipy.special import boxcox1p\n",
    "from scipy.stats import boxcox_normmax"
   ]
  },
  {
   "cell_type": "code",
   "execution_count": 245,
   "metadata": {
    "ExecuteTime": {
     "end_time": "2018-09-19T02:38:04.381682Z",
     "start_time": "2018-09-19T02:38:04.214673Z"
    }
   },
   "outputs": [],
   "source": [
    "train_7pay_y2=boxcox1p(train_7pay_y,boxcox_normmax(train_7pay_y+1))"
   ]
  },
  {
   "cell_type": "code",
   "execution_count": 246,
   "metadata": {
    "ExecuteTime": {
     "end_time": "2018-09-19T02:38:04.551692Z",
     "start_time": "2018-09-19T02:38:04.382682Z"
    }
   },
   "outputs": [],
   "source": [
    "pl=boxcox_normmax(train_7pay.prediction_pay_price+1)"
   ]
  },
  {
   "cell_type": "code",
   "execution_count": 247,
   "metadata": {
    "ExecuteTime": {
     "end_time": "2018-09-19T02:38:04.558692Z",
     "start_time": "2018-09-19T02:38:04.552692Z"
    }
   },
   "outputs": [
    {
     "data": {
      "text/plain": [
       "<bound method NDFrame.head of 25            0.990000\n",
       "40            4.960000\n",
       "47           12.970000\n",
       "86            0.990000\n",
       "119           0.990000\n",
       "155         166.860001\n",
       "171          26.940001\n",
       "214           9.990000\n",
       "248          19.969999\n",
       "305           0.990000\n",
       "380           1.980000\n",
       "381        8982.780273\n",
       "390           0.990000\n",
       "434           0.990000\n",
       "450          16.959999\n",
       "481           8.960000\n",
       "562          15.970000\n",
       "616        1858.579956\n",
       "617         167.729996\n",
       "625           0.990000\n",
       "630          10.970000\n",
       "643           1.980000\n",
       "716           0.990000\n",
       "726           0.990000\n",
       "817           1.980000\n",
       "835           0.990000\n",
       "845           0.990000\n",
       "981           5.980000\n",
       "982           0.990000\n",
       "1004          1.980000\n",
       "              ...     \n",
       "2286844       8.960000\n",
       "2286871       4.990000\n",
       "2286913       0.990000\n",
       "2286961      76.889999\n",
       "2286987       4.970000\n",
       "2287028       0.990000\n",
       "2287109      10.950000\n",
       "2287140       6.970000\n",
       "2287179       6.970000\n",
       "2287262     256.829987\n",
       "2287373     306.790009\n",
       "2287410      21.930000\n",
       "2287492       0.990000\n",
       "2287517    2962.510010\n",
       "2287520       0.990000\n",
       "2287555      17.959999\n",
       "2287618      84.860001\n",
       "2287668       0.990000\n",
       "2287708       1.980000\n",
       "2287712      58.889999\n",
       "2287742       0.990000\n",
       "2287780       4.990000\n",
       "2287839      26.950001\n",
       "2287863      73.870003\n",
       "2287876      56.889999\n",
       "2287944       0.990000\n",
       "2287946     932.330017\n",
       "2287960      20.959999\n",
       "2287970       0.990000\n",
       "2287984       1.980000\n",
       "Name: prediction_pay_price, Length: 41439, dtype: float32>"
      ]
     },
     "execution_count": 247,
     "metadata": {},
     "output_type": "execute_result"
    }
   ],
   "source": [
    "train_7pay.prediction_pay_price.head"
   ]
  },
  {
   "cell_type": "code",
   "execution_count": 248,
   "metadata": {
    "ExecuteTime": {
     "end_time": "2018-09-19T02:38:04.622696Z",
     "start_time": "2018-09-19T02:38:04.559692Z"
    }
   },
   "outputs": [
    {
     "data": {
      "text/plain": [
       "25      0.99\n",
       "40      4.96\n",
       "47     12.97\n",
       "86      0.99\n",
       "119     0.99\n",
       "Name: prediction_pay_price, dtype: float32"
      ]
     },
     "execution_count": 248,
     "metadata": {},
     "output_type": "execute_result"
    }
   ],
   "source": [
    "train_7pay_y.head()"
   ]
  },
  {
   "cell_type": "code",
   "execution_count": 249,
   "metadata": {
    "ExecuteTime": {
     "end_time": "2018-09-19T02:38:04.698700Z",
     "start_time": "2018-09-19T02:38:04.624696Z"
    }
   },
   "outputs": [
    {
     "data": {
      "text/plain": [
       "0.5052024722099304"
      ]
     },
     "execution_count": 249,
     "metadata": {},
     "output_type": "execute_result"
    }
   ],
   "source": [
    "skew(train_7pay_y2)"
   ]
  },
  {
   "cell_type": "code",
   "execution_count": 250,
   "metadata": {
    "ExecuteTime": {
     "end_time": "2018-09-19T02:38:04.763704Z",
     "start_time": "2018-09-19T02:38:04.699700Z"
    }
   },
   "outputs": [
    {
     "data": {
      "text/plain": [
       "-1.0679493161027607"
      ]
     },
     "execution_count": 250,
     "metadata": {},
     "output_type": "execute_result"
    }
   ],
   "source": [
    "kurtosis(train_7pay_y2)"
   ]
  },
  {
   "cell_type": "code",
   "execution_count": 251,
   "metadata": {
    "ExecuteTime": {
     "end_time": "2018-09-19T02:38:04.827708Z",
     "start_time": "2018-09-19T02:38:04.764704Z"
    }
   },
   "outputs": [],
   "source": [
    "# sns.distplot(train_7pay_y2,fit=norm,kde=False)\n",
    "# plt.show()"
   ]
  },
  {
   "cell_type": "code",
   "execution_count": 252,
   "metadata": {
    "ExecuteTime": {
     "end_time": "2018-09-19T02:38:04.945715Z",
     "start_time": "2018-09-19T02:38:04.829708Z"
    }
   },
   "outputs": [],
   "source": [
    "train_7pay_y_org=train_7pay_y\n",
    "train_7pay_y=train_7pay_y2"
   ]
  },
  {
   "cell_type": "code",
   "execution_count": 253,
   "metadata": {
    "ExecuteTime": {
     "end_time": "2018-09-19T02:38:05.381739Z",
     "start_time": "2018-09-19T02:38:04.947715Z"
    }
   },
   "outputs": [],
   "source": [
    "def anti_boxcox(x,la):\n",
    "    return np.power((la * x + 1),1/la)-1"
   ]
  },
  {
   "cell_type": "code",
   "execution_count": 254,
   "metadata": {
    "ExecuteTime": {
     "end_time": "2018-09-19T02:38:12.782951Z",
     "start_time": "2018-09-19T02:38:12.767351Z"
    }
   },
   "outputs": [
    {
     "data": {
      "text/plain": [
       "25      0.99\n",
       "40      4.96\n",
       "47     12.97\n",
       "86      0.99\n",
       "119     0.99\n",
       "Name: prediction_pay_price, dtype: float32"
      ]
     },
     "execution_count": 254,
     "metadata": {},
     "output_type": "execute_result"
    }
   ],
   "source": [
    "train_7pay_y_org.head()"
   ]
  },
  {
   "cell_type": "code",
   "execution_count": 255,
   "metadata": {
    "ExecuteTime": {
     "end_time": "2018-09-19T02:38:20.761217Z",
     "start_time": "2018-09-19T02:38:20.730017Z"
    }
   },
   "outputs": [
    {
     "data": {
      "text/plain": [
       "25     0.625366\n",
       "40     1.401911\n",
       "47     1.859085\n",
       "86     0.625366\n",
       "119    0.625366\n",
       "Name: prediction_pay_price, dtype: float32"
      ]
     },
     "execution_count": 255,
     "metadata": {},
     "output_type": "execute_result"
    }
   ],
   "source": [
    "train_7pay_y.head()"
   ]
  },
  {
   "cell_type": "code",
   "execution_count": null,
   "metadata": {},
   "outputs": [],
   "source": []
  },
  {
   "cell_type": "code",
   "execution_count": 261,
   "metadata": {
    "ExecuteTime": {
     "end_time": "2018-09-19T02:40:33.099799Z",
     "start_time": "2018-09-19T02:40:33.092798Z"
    }
   },
   "outputs": [
    {
     "data": {
      "text/plain": [
       "32977.58981350648"
      ]
     },
     "execution_count": 261,
     "metadata": {},
     "output_type": "execute_result"
    }
   ],
   "source": [
    "anti_boxcox(3.351854,pl)"
   ]
  },
  {
   "cell_type": "code",
   "execution_count": 263,
   "metadata": {
    "ExecuteTime": {
     "end_time": "2018-09-19T02:42:13.108183Z",
     "start_time": "2018-09-19T02:42:13.089583Z"
    }
   },
   "outputs": [
    {
     "data": {
      "text/plain": [
       "25        0.990000\n",
       "40        4.960000\n",
       "47       12.970000\n",
       "86        0.990000\n",
       "119       0.990000\n",
       "155     166.860001\n",
       "171      26.940001\n",
       "214       9.990000\n",
       "248      19.969999\n",
       "305       0.990000\n",
       "380       1.980000\n",
       "381    8982.780273\n",
       "390       0.990000\n",
       "434       0.990000\n",
       "450      16.959999\n",
       "481       8.960000\n",
       "562      15.970000\n",
       "616    1858.579956\n",
       "617     167.729996\n",
       "625       0.990000\n",
       "Name: prediction_pay_price, dtype: float32"
      ]
     },
     "execution_count": 263,
     "metadata": {},
     "output_type": "execute_result"
    }
   ],
   "source": [
    "train_7pay_y_org.head(20)"
   ]
  },
  {
   "cell_type": "code",
   "execution_count": 260,
   "metadata": {
    "ExecuteTime": {
     "end_time": "2018-09-19T02:40:19.852827Z",
     "start_time": "2018-09-19T02:40:19.741221Z"
    }
   },
   "outputs": [
    {
     "data": {
      "text/plain": [
       "count    41439.000000\n",
       "mean         1.429504\n",
       "std          0.781754\n",
       "min          0.625366\n",
       "25%          0.625366\n",
       "50%          1.289354\n",
       "75%          2.078943\n",
       "max          3.351854\n",
       "Name: prediction_pay_price, dtype: float64"
      ]
     },
     "execution_count": 260,
     "metadata": {},
     "output_type": "execute_result"
    }
   ],
   "source": [
    "train_7pay_y.describe()"
   ]
  },
  {
   "cell_type": "code",
   "execution_count": 262,
   "metadata": {
    "ExecuteTime": {
     "end_time": "2018-09-19T02:41:57.040080Z",
     "start_time": "2018-09-19T02:41:56.886071Z"
    }
   },
   "outputs": [
    {
     "data": {
      "text/plain": [
       "25            0.990000\n",
       "40            4.960000\n",
       "47           12.969999\n",
       "86            0.990000\n",
       "119           0.990000\n",
       "155         166.859934\n",
       "171          26.939992\n",
       "214           9.990001\n",
       "248          19.970000\n",
       "305           0.990000\n",
       "380           1.980000\n",
       "381        8982.755005\n",
       "390           0.990000\n",
       "434           0.990000\n",
       "450          16.959999\n",
       "481           8.959999\n",
       "562          15.970001\n",
       "616        1858.580398\n",
       "617         167.730026\n",
       "625           0.990000\n",
       "630          10.970000\n",
       "643           1.980000\n",
       "716           0.990000\n",
       "726           0.990000\n",
       "817           1.980000\n",
       "835           0.990000\n",
       "845           0.990000\n",
       "981           5.980000\n",
       "982           0.990000\n",
       "1004          1.980000\n",
       "              ...     \n",
       "2286844       8.959999\n",
       "2286871       4.990000\n",
       "2286913       0.990000\n",
       "2286961      76.889988\n",
       "2286987       4.970000\n",
       "2287028       0.990000\n",
       "2287109      10.949999\n",
       "2287140       6.970000\n",
       "2287179       6.970000\n",
       "2287262     256.829819\n",
       "2287373     306.790075\n",
       "2287410      21.930000\n",
       "2287492       0.990000\n",
       "2287517    2962.507682\n",
       "2287520       0.990000\n",
       "2287555      17.960000\n",
       "2287618      84.860007\n",
       "2287668       0.990000\n",
       "2287708       1.980000\n",
       "2287712      58.889985\n",
       "2287742       0.990000\n",
       "2287780       4.990000\n",
       "2287839      26.949997\n",
       "2287863      73.869972\n",
       "2287876      56.889972\n",
       "2287944       0.990000\n",
       "2287946     932.329700\n",
       "2287960      20.959995\n",
       "2287970       0.990000\n",
       "2287984       1.980000\n",
       "Name: prediction_pay_price, Length: 41439, dtype: float64"
      ]
     },
     "execution_count": 262,
     "metadata": {},
     "output_type": "execute_result"
    }
   ],
   "source": [
    "pd.Series(train_7pay_y).apply(lambda x:anti_boxcox(x,pl))"
   ]
  },
  {
   "cell_type": "code",
   "execution_count": null,
   "metadata": {},
   "outputs": [],
   "source": []
  },
  {
   "cell_type": "code",
   "execution_count": null,
   "metadata": {},
   "outputs": [],
   "source": []
  },
  {
   "cell_type": "code",
   "execution_count": 194,
   "metadata": {
    "ExecuteTime": {
     "end_time": "2018-09-19T02:04:22.299846Z",
     "start_time": "2018-09-19T02:04:15.518260Z"
    },
    "scrolled": false
   },
   "outputs": [
    {
     "name": "stderr",
     "output_type": "stream",
     "text": [
      "D:\\ProgramData\\Anaconda3\\lib\\site-packages\\scipy\\stats\\stats.py:5616: RuntimeWarning: overflow encountered in multiply\n",
      "  return np.sum(a*a, axis)\n"
     ]
    },
    {
     "data": {
      "text/html": [
       "<div>\n",
       "<style scoped>\n",
       "    .dataframe tbody tr th:only-of-type {\n",
       "        vertical-align: middle;\n",
       "    }\n",
       "\n",
       "    .dataframe tbody tr th {\n",
       "        vertical-align: top;\n",
       "    }\n",
       "\n",
       "    .dataframe thead th {\n",
       "        text-align: right;\n",
       "    }\n",
       "</style>\n",
       "<table border=\"1\" class=\"dataframe\">\n",
       "  <thead>\n",
       "    <tr style=\"text-align: right;\">\n",
       "      <th></th>\n",
       "      <th>skew</th>\n",
       "    </tr>\n",
       "  </thead>\n",
       "  <tbody>\n",
       "    <tr>\n",
       "      <th>sr_guest_troop_capacity_level</th>\n",
       "      <td>117.691832</td>\n",
       "    </tr>\n",
       "    <tr>\n",
       "      <th>sr_rss_help_bonus_level</th>\n",
       "      <td>117.634879</td>\n",
       "    </tr>\n",
       "    <tr>\n",
       "      <th>sr_march_size_level</th>\n",
       "      <td>77.117545</td>\n",
       "    </tr>\n",
       "    <tr>\n",
       "      <th>sr_troop_attack_level</th>\n",
       "      <td>67.957535</td>\n",
       "    </tr>\n",
       "    <tr>\n",
       "      <th>sr_outpost_tier_4_level</th>\n",
       "      <td>56.432399</td>\n",
       "    </tr>\n",
       "    <tr>\n",
       "      <th>sr_shaman_tier_4_level</th>\n",
       "      <td>34.868251</td>\n",
       "    </tr>\n",
       "    <tr>\n",
       "      <th>sr_infantry_tier_4_level</th>\n",
       "      <td>32.139943</td>\n",
       "    </tr>\n",
       "    <tr>\n",
       "      <th>sr_cavalry_tier_4_level</th>\n",
       "      <td>30.296332</td>\n",
       "    </tr>\n",
       "    <tr>\n",
       "      <th>sr_shaman_hp_level</th>\n",
       "      <td>12.814441</td>\n",
       "    </tr>\n",
       "    <tr>\n",
       "      <th>sr_cavalry_hp_level</th>\n",
       "      <td>12.560403</td>\n",
       "    </tr>\n",
       "    <tr>\n",
       "      <th>sr_shaman_def_level</th>\n",
       "      <td>12.129973</td>\n",
       "    </tr>\n",
       "    <tr>\n",
       "      <th>sr_infantry_hp_level</th>\n",
       "      <td>11.863372</td>\n",
       "    </tr>\n",
       "    <tr>\n",
       "      <th>sr_cavalry_def_level</th>\n",
       "      <td>11.659334</td>\n",
       "    </tr>\n",
       "    <tr>\n",
       "      <th>sr_infantry_def_level</th>\n",
       "      <td>11.332265</td>\n",
       "    </tr>\n",
       "    <tr>\n",
       "      <th>sr_alliance_march_speed_level</th>\n",
       "      <td>9.993289</td>\n",
       "    </tr>\n",
       "    <tr>\n",
       "      <th>sr_troop_defense_level</th>\n",
       "      <td>9.869269</td>\n",
       "    </tr>\n",
       "    <tr>\n",
       "      <th>sr_shaman_tier_3_level</th>\n",
       "      <td>8.629551</td>\n",
       "    </tr>\n",
       "    <tr>\n",
       "      <th>sr_gathering_march_speed_level</th>\n",
       "      <td>8.298226</td>\n",
       "    </tr>\n",
       "    <tr>\n",
       "      <th>sr_cavalry_tier_3_level</th>\n",
       "      <td>8.150256</td>\n",
       "    </tr>\n",
       "    <tr>\n",
       "      <th>sr_pvp_march_speed_level</th>\n",
       "      <td>8.066003</td>\n",
       "    </tr>\n",
       "    <tr>\n",
       "      <th>sr_infantry_tier_3_level</th>\n",
       "      <td>7.930711</td>\n",
       "    </tr>\n",
       "    <tr>\n",
       "      <th>sr_rss_c_gather_level</th>\n",
       "      <td>7.921793</td>\n",
       "    </tr>\n",
       "    <tr>\n",
       "      <th>sr_rss_c_prod_level</th>\n",
       "      <td>6.799671</td>\n",
       "    </tr>\n",
       "    <tr>\n",
       "      <th>sr_rss_b_gather_level</th>\n",
       "      <td>4.355000</td>\n",
       "    </tr>\n",
       "    <tr>\n",
       "      <th>sr_outpost_tier_3_level</th>\n",
       "      <td>4.219154</td>\n",
       "    </tr>\n",
       "    <tr>\n",
       "      <th>sr_rss_e_gather_level</th>\n",
       "      <td>3.974888</td>\n",
       "    </tr>\n",
       "    <tr>\n",
       "      <th>sr_rss_b_prod_level</th>\n",
       "      <td>3.754292</td>\n",
       "    </tr>\n",
       "    <tr>\n",
       "      <th>sr_rss_e_prod_level</th>\n",
       "      <td>2.376228</td>\n",
       "    </tr>\n",
       "    <tr>\n",
       "      <th>treatment_acceleration_reduce_value</th>\n",
       "      <td>2.172012</td>\n",
       "    </tr>\n",
       "    <tr>\n",
       "      <th>sr_rss_d_gather_level</th>\n",
       "      <td>1.575923</td>\n",
       "    </tr>\n",
       "    <tr>\n",
       "      <th>...</th>\n",
       "      <td>...</td>\n",
       "    </tr>\n",
       "    <tr>\n",
       "      <th>magic_reduce_value</th>\n",
       "      <td>0.145848</td>\n",
       "    </tr>\n",
       "    <tr>\n",
       "      <th>general_acceleration_add_value</th>\n",
       "      <td>0.136133</td>\n",
       "    </tr>\n",
       "    <tr>\n",
       "      <th>training_acceleration_add_value</th>\n",
       "      <td>0.131508</td>\n",
       "    </tr>\n",
       "    <tr>\n",
       "      <th>building_acceleration_add_value</th>\n",
       "      <td>0.120398</td>\n",
       "    </tr>\n",
       "    <tr>\n",
       "      <th>magic_add_value</th>\n",
       "      <td>0.086886</td>\n",
       "    </tr>\n",
       "    <tr>\n",
       "      <th>reaserch_acceleration_add_value</th>\n",
       "      <td>0.084796</td>\n",
       "    </tr>\n",
       "    <tr>\n",
       "      <th>bd_hero_pve_level</th>\n",
       "      <td>0.076623</td>\n",
       "    </tr>\n",
       "    <tr>\n",
       "      <th>pve_win_count</th>\n",
       "      <td>0.039549</td>\n",
       "    </tr>\n",
       "    <tr>\n",
       "      <th>pve_lanch_count</th>\n",
       "      <td>0.037883</td>\n",
       "    </tr>\n",
       "    <tr>\n",
       "      <th>pve_battle_count</th>\n",
       "      <td>0.036164</td>\n",
       "    </tr>\n",
       "    <tr>\n",
       "      <th>sr_shaman_tier_2_level</th>\n",
       "      <td>0.019355</td>\n",
       "    </tr>\n",
       "    <tr>\n",
       "      <th>avg_online_minutes</th>\n",
       "      <td>-0.015519</td>\n",
       "    </tr>\n",
       "    <tr>\n",
       "      <th>sr_cavalry_tier_2_level</th>\n",
       "      <td>-0.093492</td>\n",
       "    </tr>\n",
       "    <tr>\n",
       "      <th>sr_infantry_tier_2_level</th>\n",
       "      <td>-0.129278</td>\n",
       "    </tr>\n",
       "    <tr>\n",
       "      <th>bd_guest_cavern_level</th>\n",
       "      <td>-0.258554</td>\n",
       "    </tr>\n",
       "    <tr>\n",
       "      <th>bd_market_level</th>\n",
       "      <td>-0.286070</td>\n",
       "    </tr>\n",
       "    <tr>\n",
       "      <th>sr_training_speed_level</th>\n",
       "      <td>-0.296719</td>\n",
       "    </tr>\n",
       "    <tr>\n",
       "      <th>sr_outpost_tier_2_level</th>\n",
       "      <td>-0.299098</td>\n",
       "    </tr>\n",
       "    <tr>\n",
       "      <th>bd_healing_lodge_level</th>\n",
       "      <td>-0.306906</td>\n",
       "    </tr>\n",
       "    <tr>\n",
       "      <th>bd_watchtower_level</th>\n",
       "      <td>-0.381151</td>\n",
       "    </tr>\n",
       "    <tr>\n",
       "      <th>bd_training_hut_level</th>\n",
       "      <td>-0.401962</td>\n",
       "    </tr>\n",
       "    <tr>\n",
       "      <th>bd_healing_spring_level</th>\n",
       "      <td>-0.409719</td>\n",
       "    </tr>\n",
       "    <tr>\n",
       "      <th>bd_dolmen_level</th>\n",
       "      <td>-0.506567</td>\n",
       "    </tr>\n",
       "    <tr>\n",
       "      <th>bd_outpost_portal_level</th>\n",
       "      <td>-0.516837</td>\n",
       "    </tr>\n",
       "    <tr>\n",
       "      <th>bd_warehouse_level</th>\n",
       "      <td>-0.519127</td>\n",
       "    </tr>\n",
       "    <tr>\n",
       "      <th>bd_barrack_level</th>\n",
       "      <td>-0.541721</td>\n",
       "    </tr>\n",
       "    <tr>\n",
       "      <th>bd_magic_coin_tree_level</th>\n",
       "      <td>-0.550381</td>\n",
       "    </tr>\n",
       "    <tr>\n",
       "      <th>bd_stronghold_level</th>\n",
       "      <td>-0.694097</td>\n",
       "    </tr>\n",
       "    <tr>\n",
       "      <th>meat_reduce_value</th>\n",
       "      <td>-3.562855</td>\n",
       "    </tr>\n",
       "    <tr>\n",
       "      <th>wood_reduce_value</th>\n",
       "      <td>-3.566151</td>\n",
       "    </tr>\n",
       "  </tbody>\n",
       "</table>\n",
       "<p>106 rows × 1 columns</p>\n",
       "</div>"
      ],
      "text/plain": [
       "                                           skew\n",
       "sr_guest_troop_capacity_level        117.691832\n",
       "sr_rss_help_bonus_level              117.634879\n",
       "sr_march_size_level                   77.117545\n",
       "sr_troop_attack_level                 67.957535\n",
       "sr_outpost_tier_4_level               56.432399\n",
       "sr_shaman_tier_4_level                34.868251\n",
       "sr_infantry_tier_4_level              32.139943\n",
       "sr_cavalry_tier_4_level               30.296332\n",
       "sr_shaman_hp_level                    12.814441\n",
       "sr_cavalry_hp_level                   12.560403\n",
       "sr_shaman_def_level                   12.129973\n",
       "sr_infantry_hp_level                  11.863372\n",
       "sr_cavalry_def_level                  11.659334\n",
       "sr_infantry_def_level                 11.332265\n",
       "sr_alliance_march_speed_level          9.993289\n",
       "sr_troop_defense_level                 9.869269\n",
       "sr_shaman_tier_3_level                 8.629551\n",
       "sr_gathering_march_speed_level         8.298226\n",
       "sr_cavalry_tier_3_level                8.150256\n",
       "sr_pvp_march_speed_level               8.066003\n",
       "sr_infantry_tier_3_level               7.930711\n",
       "sr_rss_c_gather_level                  7.921793\n",
       "sr_rss_c_prod_level                    6.799671\n",
       "sr_rss_b_gather_level                  4.355000\n",
       "sr_outpost_tier_3_level                4.219154\n",
       "sr_rss_e_gather_level                  3.974888\n",
       "sr_rss_b_prod_level                    3.754292\n",
       "sr_rss_e_prod_level                    2.376228\n",
       "treatment_acceleration_reduce_value    2.172012\n",
       "sr_rss_d_gather_level                  1.575923\n",
       "...                                         ...\n",
       "magic_reduce_value                     0.145848\n",
       "general_acceleration_add_value         0.136133\n",
       "training_acceleration_add_value        0.131508\n",
       "building_acceleration_add_value        0.120398\n",
       "magic_add_value                        0.086886\n",
       "reaserch_acceleration_add_value        0.084796\n",
       "bd_hero_pve_level                      0.076623\n",
       "pve_win_count                          0.039549\n",
       "pve_lanch_count                        0.037883\n",
       "pve_battle_count                       0.036164\n",
       "sr_shaman_tier_2_level                 0.019355\n",
       "avg_online_minutes                    -0.015519\n",
       "sr_cavalry_tier_2_level               -0.093492\n",
       "sr_infantry_tier_2_level              -0.129278\n",
       "bd_guest_cavern_level                 -0.258554\n",
       "bd_market_level                       -0.286070\n",
       "sr_training_speed_level               -0.296719\n",
       "sr_outpost_tier_2_level               -0.299098\n",
       "bd_healing_lodge_level                -0.306906\n",
       "bd_watchtower_level                   -0.381151\n",
       "bd_training_hut_level                 -0.401962\n",
       "bd_healing_spring_level               -0.409719\n",
       "bd_dolmen_level                       -0.506567\n",
       "bd_outpost_portal_level               -0.516837\n",
       "bd_warehouse_level                    -0.519127\n",
       "bd_barrack_level                      -0.541721\n",
       "bd_magic_coin_tree_level              -0.550381\n",
       "bd_stronghold_level                   -0.694097\n",
       "meat_reduce_value                     -3.562855\n",
       "wood_reduce_value                     -3.566151\n",
       "\n",
       "[106 rows x 1 columns]"
      ]
     },
     "execution_count": 194,
     "metadata": {},
     "output_type": "execute_result"
    }
   ],
   "source": [
    "high_skew=skew_train_7pay_X[skew_train_7pay_X>0.5]\n",
    "high_skew=high_skew\n",
    "skew_index=high_skew.index\n",
    "\n",
    "for i in skew_index:\n",
    "    train_7pay[i]=boxcox1p(train_7pay[i],boxcox_normmax(train_7pay[i]+1))\n",
    "skew_train_7pay2_X=train_7pay[numeric2].apply(lambda x:skew(x)).sort_values(ascending=False)\n",
    "skew2=pd.DataFrame({'skew':skew_train_7pay2_X})\n",
    "skew2"
   ]
  },
  {
   "cell_type": "code",
   "execution_count": 195,
   "metadata": {
    "ExecuteTime": {
     "end_time": "2018-09-19T02:04:25.670039Z",
     "start_time": "2018-09-19T02:04:22.300846Z"
    }
   },
   "outputs": [
    {
     "name": "stderr",
     "output_type": "stream",
     "text": [
      "D:\\ProgramData\\Anaconda3\\lib\\site-packages\\scipy\\stats\\stats.py:5616: RuntimeWarning: overflow encountered in multiply\n",
      "  return np.sum(a*a, axis)\n"
     ]
    },
    {
     "data": {
      "text/html": [
       "<div>\n",
       "<style scoped>\n",
       "    .dataframe tbody tr th:only-of-type {\n",
       "        vertical-align: middle;\n",
       "    }\n",
       "\n",
       "    .dataframe tbody tr th {\n",
       "        vertical-align: top;\n",
       "    }\n",
       "\n",
       "    .dataframe thead th {\n",
       "        text-align: right;\n",
       "    }\n",
       "</style>\n",
       "<table border=\"1\" class=\"dataframe\">\n",
       "  <thead>\n",
       "    <tr style=\"text-align: right;\">\n",
       "      <th></th>\n",
       "      <th>skew</th>\n",
       "    </tr>\n",
       "  </thead>\n",
       "  <tbody>\n",
       "    <tr>\n",
       "      <th>sr_rss_help_bonus_level</th>\n",
       "      <td>80.705226</td>\n",
       "    </tr>\n",
       "    <tr>\n",
       "      <th>sr_guest_troop_capacity_level</th>\n",
       "      <td>80.705226</td>\n",
       "    </tr>\n",
       "    <tr>\n",
       "      <th>sr_march_size_level</th>\n",
       "      <td>52.917479</td>\n",
       "    </tr>\n",
       "    <tr>\n",
       "      <th>sr_troop_attack_level</th>\n",
       "      <td>52.893436</td>\n",
       "    </tr>\n",
       "    <tr>\n",
       "      <th>sr_outpost_tier_4_level</th>\n",
       "      <td>49.402686</td>\n",
       "    </tr>\n",
       "    <tr>\n",
       "      <th>sr_cavalry_tier_4_level</th>\n",
       "      <td>36.059221</td>\n",
       "    </tr>\n",
       "    <tr>\n",
       "      <th>sr_shaman_tier_4_level</th>\n",
       "      <td>32.029607</td>\n",
       "    </tr>\n",
       "    <tr>\n",
       "      <th>sr_infantry_tier_4_level</th>\n",
       "      <td>28.487592</td>\n",
       "    </tr>\n",
       "    <tr>\n",
       "      <th>sr_shaman_hp_level</th>\n",
       "      <td>14.114951</td>\n",
       "    </tr>\n",
       "    <tr>\n",
       "      <th>sr_shaman_def_level</th>\n",
       "      <td>13.189898</td>\n",
       "    </tr>\n",
       "    <tr>\n",
       "      <th>sr_infantry_hp_level</th>\n",
       "      <td>12.909549</td>\n",
       "    </tr>\n",
       "    <tr>\n",
       "      <th>sr_cavalry_hp_level</th>\n",
       "      <td>12.634294</td>\n",
       "    </tr>\n",
       "    <tr>\n",
       "      <th>sr_infantry_def_level</th>\n",
       "      <td>12.153610</td>\n",
       "    </tr>\n",
       "    <tr>\n",
       "      <th>sr_cavalry_def_level</th>\n",
       "      <td>12.056187</td>\n",
       "    </tr>\n",
       "    <tr>\n",
       "      <th>sr_troop_defense_level</th>\n",
       "      <td>10.208373</td>\n",
       "    </tr>\n",
       "    <tr>\n",
       "      <th>sr_alliance_march_speed_level</th>\n",
       "      <td>9.626088</td>\n",
       "    </tr>\n",
       "    <tr>\n",
       "      <th>sr_shaman_tier_3_level</th>\n",
       "      <td>8.782454</td>\n",
       "    </tr>\n",
       "    <tr>\n",
       "      <th>sr_infantry_tier_3_level</th>\n",
       "      <td>8.085048</td>\n",
       "    </tr>\n",
       "    <tr>\n",
       "      <th>sr_cavalry_tier_3_level</th>\n",
       "      <td>8.070309</td>\n",
       "    </tr>\n",
       "    <tr>\n",
       "      <th>sr_pvp_march_speed_level</th>\n",
       "      <td>7.781338</td>\n",
       "    </tr>\n",
       "    <tr>\n",
       "      <th>sr_gathering_march_speed_level</th>\n",
       "      <td>7.660706</td>\n",
       "    </tr>\n",
       "    <tr>\n",
       "      <th>sr_rss_c_gather_level</th>\n",
       "      <td>7.413734</td>\n",
       "    </tr>\n",
       "    <tr>\n",
       "      <th>sr_rss_c_prod_level</th>\n",
       "      <td>6.336214</td>\n",
       "    </tr>\n",
       "    <tr>\n",
       "      <th>sr_outpost_tier_3_level</th>\n",
       "      <td>4.103616</td>\n",
       "    </tr>\n",
       "    <tr>\n",
       "      <th>sr_rss_b_gather_level</th>\n",
       "      <td>4.081167</td>\n",
       "    </tr>\n",
       "    <tr>\n",
       "      <th>sr_rss_e_gather_level</th>\n",
       "      <td>3.775178</td>\n",
       "    </tr>\n",
       "    <tr>\n",
       "      <th>sr_rss_b_prod_level</th>\n",
       "      <td>3.515250</td>\n",
       "    </tr>\n",
       "    <tr>\n",
       "      <th>sr_rss_e_prod_level</th>\n",
       "      <td>2.217775</td>\n",
       "    </tr>\n",
       "    <tr>\n",
       "      <th>treatment_acceleration_reduce_value</th>\n",
       "      <td>2.123521</td>\n",
       "    </tr>\n",
       "    <tr>\n",
       "      <th>sr_rss_d_gather_level</th>\n",
       "      <td>1.447355</td>\n",
       "    </tr>\n",
       "    <tr>\n",
       "      <th>...</th>\n",
       "      <td>...</td>\n",
       "    </tr>\n",
       "    <tr>\n",
       "      <th>sr_scout_level</th>\n",
       "      <td>0.106724</td>\n",
       "    </tr>\n",
       "    <tr>\n",
       "      <th>building_acceleration_reduce_value</th>\n",
       "      <td>0.106130</td>\n",
       "    </tr>\n",
       "    <tr>\n",
       "      <th>magic_reduce_value</th>\n",
       "      <td>0.101948</td>\n",
       "    </tr>\n",
       "    <tr>\n",
       "      <th>reaserch_acceleration_reduce_value</th>\n",
       "      <td>0.100930</td>\n",
       "    </tr>\n",
       "    <tr>\n",
       "      <th>pvp_battle_count</th>\n",
       "      <td>0.098094</td>\n",
       "    </tr>\n",
       "    <tr>\n",
       "      <th>general_acceleration_add_value</th>\n",
       "      <td>0.095868</td>\n",
       "    </tr>\n",
       "    <tr>\n",
       "      <th>reaserch_acceleration_add_value</th>\n",
       "      <td>0.086511</td>\n",
       "    </tr>\n",
       "    <tr>\n",
       "      <th>magic_add_value</th>\n",
       "      <td>0.049668</td>\n",
       "    </tr>\n",
       "    <tr>\n",
       "      <th>avg_online_minutes</th>\n",
       "      <td>-0.015836</td>\n",
       "    </tr>\n",
       "    <tr>\n",
       "      <th>bd_hero_pve_level</th>\n",
       "      <td>-0.028230</td>\n",
       "    </tr>\n",
       "    <tr>\n",
       "      <th>pve_win_count</th>\n",
       "      <td>-0.030237</td>\n",
       "    </tr>\n",
       "    <tr>\n",
       "      <th>pve_lanch_count</th>\n",
       "      <td>-0.032957</td>\n",
       "    </tr>\n",
       "    <tr>\n",
       "      <th>pve_battle_count</th>\n",
       "      <td>-0.034437</td>\n",
       "    </tr>\n",
       "    <tr>\n",
       "      <th>sr_shaman_tier_2_level</th>\n",
       "      <td>-0.223283</td>\n",
       "    </tr>\n",
       "    <tr>\n",
       "      <th>bd_healing_lodge_level</th>\n",
       "      <td>-0.246816</td>\n",
       "    </tr>\n",
       "    <tr>\n",
       "      <th>bd_market_level</th>\n",
       "      <td>-0.350075</td>\n",
       "    </tr>\n",
       "    <tr>\n",
       "      <th>bd_guest_cavern_level</th>\n",
       "      <td>-0.356346</td>\n",
       "    </tr>\n",
       "    <tr>\n",
       "      <th>bd_training_hut_level</th>\n",
       "      <td>-0.357798</td>\n",
       "    </tr>\n",
       "    <tr>\n",
       "      <th>bd_outpost_portal_level</th>\n",
       "      <td>-0.361263</td>\n",
       "    </tr>\n",
       "    <tr>\n",
       "      <th>sr_cavalry_tier_2_level</th>\n",
       "      <td>-0.386909</td>\n",
       "    </tr>\n",
       "    <tr>\n",
       "      <th>bd_watchtower_level</th>\n",
       "      <td>-0.399521</td>\n",
       "    </tr>\n",
       "    <tr>\n",
       "      <th>sr_infantry_tier_2_level</th>\n",
       "      <td>-0.424297</td>\n",
       "    </tr>\n",
       "    <tr>\n",
       "      <th>bd_healing_spring_level</th>\n",
       "      <td>-0.443664</td>\n",
       "    </tr>\n",
       "    <tr>\n",
       "      <th>bd_dolmen_level</th>\n",
       "      <td>-0.460564</td>\n",
       "    </tr>\n",
       "    <tr>\n",
       "      <th>sr_training_speed_level</th>\n",
       "      <td>-0.497942</td>\n",
       "    </tr>\n",
       "    <tr>\n",
       "      <th>bd_barrack_level</th>\n",
       "      <td>-0.516124</td>\n",
       "    </tr>\n",
       "    <tr>\n",
       "      <th>bd_stronghold_level</th>\n",
       "      <td>-0.543057</td>\n",
       "    </tr>\n",
       "    <tr>\n",
       "      <th>bd_warehouse_level</th>\n",
       "      <td>-0.583353</td>\n",
       "    </tr>\n",
       "    <tr>\n",
       "      <th>bd_magic_coin_tree_level</th>\n",
       "      <td>-0.678569</td>\n",
       "    </tr>\n",
       "    <tr>\n",
       "      <th>sr_outpost_tier_2_level</th>\n",
       "      <td>-0.731500</td>\n",
       "    </tr>\n",
       "  </tbody>\n",
       "</table>\n",
       "<p>106 rows × 1 columns</p>\n",
       "</div>"
      ],
      "text/plain": [
       "                                          skew\n",
       "sr_rss_help_bonus_level              80.705226\n",
       "sr_guest_troop_capacity_level        80.705226\n",
       "sr_march_size_level                  52.917479\n",
       "sr_troop_attack_level                52.893436\n",
       "sr_outpost_tier_4_level              49.402686\n",
       "sr_cavalry_tier_4_level              36.059221\n",
       "sr_shaman_tier_4_level               32.029607\n",
       "sr_infantry_tier_4_level             28.487592\n",
       "sr_shaman_hp_level                   14.114951\n",
       "sr_shaman_def_level                  13.189898\n",
       "sr_infantry_hp_level                 12.909549\n",
       "sr_cavalry_hp_level                  12.634294\n",
       "sr_infantry_def_level                12.153610\n",
       "sr_cavalry_def_level                 12.056187\n",
       "sr_troop_defense_level               10.208373\n",
       "sr_alliance_march_speed_level         9.626088\n",
       "sr_shaman_tier_3_level                8.782454\n",
       "sr_infantry_tier_3_level              8.085048\n",
       "sr_cavalry_tier_3_level               8.070309\n",
       "sr_pvp_march_speed_level              7.781338\n",
       "sr_gathering_march_speed_level        7.660706\n",
       "sr_rss_c_gather_level                 7.413734\n",
       "sr_rss_c_prod_level                   6.336214\n",
       "sr_outpost_tier_3_level               4.103616\n",
       "sr_rss_b_gather_level                 4.081167\n",
       "sr_rss_e_gather_level                 3.775178\n",
       "sr_rss_b_prod_level                   3.515250\n",
       "sr_rss_e_prod_level                   2.217775\n",
       "treatment_acceleration_reduce_value   2.123521\n",
       "sr_rss_d_gather_level                 1.447355\n",
       "...                                        ...\n",
       "sr_scout_level                        0.106724\n",
       "building_acceleration_reduce_value    0.106130\n",
       "magic_reduce_value                    0.101948\n",
       "reaserch_acceleration_reduce_value    0.100930\n",
       "pvp_battle_count                      0.098094\n",
       "general_acceleration_add_value        0.095868\n",
       "reaserch_acceleration_add_value       0.086511\n",
       "magic_add_value                       0.049668\n",
       "avg_online_minutes                   -0.015836\n",
       "bd_hero_pve_level                    -0.028230\n",
       "pve_win_count                        -0.030237\n",
       "pve_lanch_count                      -0.032957\n",
       "pve_battle_count                     -0.034437\n",
       "sr_shaman_tier_2_level               -0.223283\n",
       "bd_healing_lodge_level               -0.246816\n",
       "bd_market_level                      -0.350075\n",
       "bd_guest_cavern_level                -0.356346\n",
       "bd_training_hut_level                -0.357798\n",
       "bd_outpost_portal_level              -0.361263\n",
       "sr_cavalry_tier_2_level              -0.386909\n",
       "bd_watchtower_level                  -0.399521\n",
       "sr_infantry_tier_2_level             -0.424297\n",
       "bd_healing_spring_level              -0.443664\n",
       "bd_dolmen_level                      -0.460564\n",
       "sr_training_speed_level              -0.497942\n",
       "bd_barrack_level                     -0.516124\n",
       "bd_stronghold_level                  -0.543057\n",
       "bd_warehouse_level                   -0.583353\n",
       "bd_magic_coin_tree_level             -0.678569\n",
       "sr_outpost_tier_2_level              -0.731500\n",
       "\n",
       "[106 rows x 1 columns]"
      ]
     },
     "execution_count": 195,
     "metadata": {},
     "output_type": "execute_result"
    }
   ],
   "source": [
    "high_skew2=skew_test_7pay[skew_test_7pay>0.5]\n",
    "high_skew2=high_skew2\n",
    "skew_index2=high_skew2.index\n",
    "\n",
    "for i in skew_index2:\n",
    "    test_7pay[i]=boxcox1p(test_7pay[i],boxcox_normmax(test_7pay[i]+1))\n",
    "skew_test_7pay2=test_7pay[numeric22].apply(lambda x:skew(x)).sort_values(ascending=False)\n",
    "skew2=pd.DataFrame({'skew':skew_test_7pay2})\n",
    "skew2"
   ]
  },
  {
   "cell_type": "code",
   "execution_count": 196,
   "metadata": {
    "ExecuteTime": {
     "end_time": "2018-09-19T02:04:25.675039Z",
     "start_time": "2018-09-19T02:04:25.671039Z"
    }
   },
   "outputs": [
    {
     "data": {
      "text/plain": [
       "(41439, 108)"
      ]
     },
     "execution_count": 196,
     "metadata": {},
     "output_type": "execute_result"
    }
   ],
   "source": [
    "train_7pay.shape"
   ]
  },
  {
   "cell_type": "code",
   "execution_count": 197,
   "metadata": {
    "ExecuteTime": {
     "end_time": "2018-09-19T02:04:25.859050Z",
     "start_time": "2018-09-19T02:04:25.676039Z"
    }
   },
   "outputs": [
    {
     "data": {
      "text/html": [
       "<div>\n",
       "<style scoped>\n",
       "    .dataframe tbody tr th:only-of-type {\n",
       "        vertical-align: middle;\n",
       "    }\n",
       "\n",
       "    .dataframe tbody tr th {\n",
       "        vertical-align: top;\n",
       "    }\n",
       "\n",
       "    .dataframe thead th {\n",
       "        text-align: right;\n",
       "    }\n",
       "</style>\n",
       "<table border=\"1\" class=\"dataframe\">\n",
       "  <thead>\n",
       "    <tr style=\"text-align: right;\">\n",
       "      <th></th>\n",
       "      <th>user_id</th>\n",
       "      <th>prediction_pay_price</th>\n",
       "    </tr>\n",
       "  </thead>\n",
       "  <tbody>\n",
       "    <tr>\n",
       "      <th>25</th>\n",
       "      <td>1617</td>\n",
       "      <td>0.99</td>\n",
       "    </tr>\n",
       "    <tr>\n",
       "      <th>40</th>\n",
       "      <td>1632</td>\n",
       "      <td>4.96</td>\n",
       "    </tr>\n",
       "    <tr>\n",
       "      <th>47</th>\n",
       "      <td>1639</td>\n",
       "      <td>12.97</td>\n",
       "    </tr>\n",
       "    <tr>\n",
       "      <th>86</th>\n",
       "      <td>1678</td>\n",
       "      <td>0.99</td>\n",
       "    </tr>\n",
       "    <tr>\n",
       "      <th>119</th>\n",
       "      <td>1711</td>\n",
       "      <td>0.99</td>\n",
       "    </tr>\n",
       "  </tbody>\n",
       "</table>\n",
       "</div>"
      ],
      "text/plain": [
       "     user_id  prediction_pay_price\n",
       "25      1617                  0.99\n",
       "40      1632                  4.96\n",
       "47      1639                 12.97\n",
       "86      1678                  0.99\n",
       "119     1711                  0.99"
      ]
     },
     "execution_count": 197,
     "metadata": {},
     "output_type": "execute_result"
    }
   ],
   "source": [
    "train_7pay[['user_id','prediction_pay_price']].head()"
   ]
  },
  {
   "cell_type": "code",
   "execution_count": 198,
   "metadata": {
    "ExecuteTime": {
     "end_time": "2018-09-19T02:04:25.947055Z",
     "start_time": "2018-09-19T02:04:25.860050Z"
    }
   },
   "outputs": [
    {
     "data": {
      "text/plain": [
       "25          1.691235\n",
       "40        141.593796\n",
       "47     429337.218750\n",
       "86          1.691235\n",
       "119         1.691235\n",
       "Name: prediction_pay_price, dtype: float32"
      ]
     },
     "execution_count": 198,
     "metadata": {},
     "output_type": "execute_result"
    }
   ],
   "source": [
    "np.expm1(train_7pay.prediction_pay_price.head())"
   ]
  },
  {
   "cell_type": "code",
   "execution_count": null,
   "metadata": {},
   "outputs": [],
   "source": []
  },
  {
   "cell_type": "code",
   "execution_count": null,
   "metadata": {},
   "outputs": [],
   "source": []
  },
  {
   "cell_type": "code",
   "execution_count": null,
   "metadata": {},
   "outputs": [],
   "source": []
  },
  {
   "cell_type": "code",
   "execution_count": 199,
   "metadata": {
    "ExecuteTime": {
     "end_time": "2018-09-19T02:04:50.020223Z",
     "start_time": "2018-09-19T02:04:40.030052Z"
    }
   },
   "outputs": [
    {
     "data": {
      "text/plain": [
       "0.4079231096139413"
      ]
     },
     "execution_count": 199,
     "metadata": {},
     "output_type": "execute_result"
    }
   ],
   "source": [
    "# drop_col=[i for i in train_7pay.columns.values if 'prediction' in  i]\n",
    "# drop_col.append('user_id')\n",
    "# X=train_7pay.drop(labels=drop_col,axis=1)\n",
    "# y=train_7pay.prediction_pay_price\n",
    "X=train_7pay_X\n",
    "y=np.log(train_7pay_y)\n",
    "X.replace([np.inf,-np.inf],np.nan,inplace=True)\n",
    "X.fillna(0.0,inplace=True)\n",
    "from sklearn.model_selection import cross_val_score,KFold\n",
    "from sklearn.linear_model import LinearRegression,RidgeCV,LassoCV,ElasticNetCV\n",
    "from sklearn.preprocessing import RobustScaler\n",
    "from sklearn.pipeline import make_pipeline\n",
    "\n",
    "kfolds=KFold(n_splits=10,shuffle=False,random_state=13)\n",
    "\n",
    "\n",
    "def cv_rmse(model):\n",
    "    rmse=np.sqrt(-cross_val_score(model,X,y,scoring='neg_mean_squared_error',cv=kfolds))\n",
    "    return rmse\n",
    "\n",
    "lm = LinearRegression()\n",
    "\n",
    "benchmark_model=make_pipeline(RobustScaler(),\n",
    "                             lm).fit(X,y)\n",
    "\n",
    "cv_rmse(benchmark_model).mean()"
   ]
  },
  {
   "cell_type": "code",
   "execution_count": null,
   "metadata": {},
   "outputs": [],
   "source": []
  },
  {
   "cell_type": "code",
   "execution_count": null,
   "metadata": {},
   "outputs": [],
   "source": []
  },
  {
   "cell_type": "code",
   "execution_count": null,
   "metadata": {},
   "outputs": [],
   "source": []
  },
  {
   "cell_type": "code",
   "execution_count": 200,
   "metadata": {
    "ExecuteTime": {
     "end_time": "2018-09-19T02:05:38.810148Z",
     "start_time": "2018-09-19T02:05:37.751488Z"
    }
   },
   "outputs": [],
   "source": [
    "# drop_col=[i for i in train_7pay.columns.values if 'prediction' in  i]\n",
    "X=train_7pay_X\n",
    "y=np.log(train_7pay_y)\n",
    "\n",
    "X.replace([np.inf,-np.inf],np.nan,inplace=True)\n",
    "X.fillna(0.0,inplace=True)"
   ]
  },
  {
   "cell_type": "code",
   "execution_count": 201,
   "metadata": {
    "ExecuteTime": {
     "end_time": "2018-09-19T02:05:42.576613Z",
     "start_time": "2018-09-19T02:05:42.561013Z"
    }
   },
   "outputs": [],
   "source": [
    "from sklearn.model_selection  import train_test_split"
   ]
  },
  {
   "cell_type": "code",
   "execution_count": 202,
   "metadata": {
    "ExecuteTime": {
     "end_time": "2018-09-19T02:05:45.106649Z",
     "start_time": "2018-09-19T02:05:45.075449Z"
    }
   },
   "outputs": [],
   "source": [
    "X['user_id']=train_7pay_user_id"
   ]
  },
  {
   "cell_type": "code",
   "execution_count": 203,
   "metadata": {
    "ExecuteTime": {
     "end_time": "2018-09-19T02:05:47.814088Z",
     "start_time": "2018-09-19T02:05:47.736485Z"
    }
   },
   "outputs": [],
   "source": [
    "X1,val_X1,y1,val_y1=train_test_split(X,y,test_size=0.2,random_state=17)\n",
    "X2=X1.drop(labels='user_id',axis=1)\n",
    "val_X2=val_X1.drop(labels='user_id',axis=1)\n",
    "X2_user_id=X1.user_id\n",
    "val_X2_user_id=val_X1.user_id"
   ]
  },
  {
   "cell_type": "code",
   "execution_count": 204,
   "metadata": {
    "ExecuteTime": {
     "end_time": "2018-09-19T02:05:51.251323Z",
     "start_time": "2018-09-19T02:05:51.235723Z"
    }
   },
   "outputs": [
    {
     "data": {
      "text/plain": [
       "1810574    2558880\n",
       "1173563    1486362\n",
       "208634      243845\n",
       "693625      873606\n",
       "555988      733979\n",
       "Name: user_id, dtype: uint32"
      ]
     },
     "execution_count": 204,
     "metadata": {},
     "output_type": "execute_result"
    }
   ],
   "source": [
    "val_X2_user_id.head()"
   ]
  },
  {
   "cell_type": "code",
   "execution_count": 205,
   "metadata": {
    "ExecuteTime": {
     "end_time": "2018-09-19T02:05:55.559000Z",
     "start_time": "2018-09-19T02:05:55.527800Z"
    }
   },
   "outputs": [
    {
     "data": {
      "text/plain": [
       "(33151, 106)"
      ]
     },
     "execution_count": 205,
     "metadata": {},
     "output_type": "execute_result"
    }
   ],
   "source": [
    "X2.shape"
   ]
  },
  {
   "cell_type": "code",
   "execution_count": 206,
   "metadata": {
    "ExecuteTime": {
     "end_time": "2018-09-19T02:05:57.675435Z",
     "start_time": "2018-09-19T02:05:57.644235Z"
    }
   },
   "outputs": [
    {
     "data": {
      "text/plain": [
       "702488      883635\n",
       "1536614    1990570\n",
       "11227        12819\n",
       "2034737    2895886\n",
       "1661662    2243560\n",
       "Name: user_id, dtype: uint32"
      ]
     },
     "execution_count": 206,
     "metadata": {},
     "output_type": "execute_result"
    }
   ],
   "source": [
    "X2_user_id.head()"
   ]
  },
  {
   "cell_type": "code",
   "execution_count": 207,
   "metadata": {
    "ExecuteTime": {
     "end_time": "2018-09-19T02:06:01.706299Z",
     "start_time": "2018-09-19T02:06:01.690699Z"
    }
   },
   "outputs": [],
   "source": [
    "kfolds2=KFold(n_splits=3,shuffle=True,random_state=29)"
   ]
  },
  {
   "cell_type": "code",
   "execution_count": 208,
   "metadata": {
    "ExecuteTime": {
     "end_time": "2018-09-19T02:06:03.115535Z",
     "start_time": "2018-09-19T02:06:03.098935Z"
    }
   },
   "outputs": [],
   "source": [
    "def cv_rmse2(model):\n",
    "    rmse=np.sqrt(-cross_val_score(model,X2,y1,scoring='neg_mean_squared_error',cv=kfolds))\n",
    "    return rmse"
   ]
  },
  {
   "cell_type": "code",
   "execution_count": 209,
   "metadata": {
    "ExecuteTime": {
     "end_time": "2018-09-19T02:07:13.640266Z",
     "start_time": "2018-09-19T02:06:05.525771Z"
    }
   },
   "outputs": [
    {
     "data": {
      "text/plain": [
       "0.4042926233531907"
      ]
     },
     "execution_count": 209,
     "metadata": {},
     "output_type": "execute_result"
    }
   ],
   "source": [
    "r_alphas = [.0001, .0003, .0005, .0007, .0009, \n",
    "          .01, 0.05, 0.1, 0.3, 1, 3, 5, 10, 15, 20, 30, 50, 60, 70, 80]\n",
    "ridge_model2=make_pipeline(RobustScaler(),\n",
    "                         RidgeCV(alphas=r_alphas,cv=kfolds2)).fit(X2,y1)\n",
    "cv_rmse2(ridge_model2).mean()"
   ]
  },
  {
   "cell_type": "code",
   "execution_count": 210,
   "metadata": {
    "ExecuteTime": {
     "end_time": "2018-09-19T02:07:17.163903Z",
     "start_time": "2018-09-19T02:07:17.141302Z"
    }
   },
   "outputs": [
    {
     "data": {
      "text/plain": [
       "80"
      ]
     },
     "execution_count": 210,
     "metadata": {},
     "output_type": "execute_result"
    }
   ],
   "source": [
    "ridge_model2.steps[1][1].alpha_"
   ]
  },
  {
   "cell_type": "code",
   "execution_count": 211,
   "metadata": {
    "ExecuteTime": {
     "end_time": "2018-09-19T02:07:17.787938Z",
     "start_time": "2018-09-19T02:07:17.760937Z"
    }
   },
   "outputs": [],
   "source": [
    "r_pred=ridge_model2.predict(val_X2)"
   ]
  },
  {
   "cell_type": "code",
   "execution_count": 212,
   "metadata": {
    "ExecuteTime": {
     "end_time": "2018-09-19T02:07:18.331969Z",
     "start_time": "2018-09-19T02:07:18.327969Z"
    }
   },
   "outputs": [
    {
     "data": {
      "text/plain": [
       "array([ 1.05877948,  0.02176953, -0.07839273, ..., -0.02026189,\n",
       "        0.00327258,  1.27374499])"
      ]
     },
     "execution_count": 212,
     "metadata": {},
     "output_type": "execute_result"
    }
   ],
   "source": [
    "r_pred"
   ]
  },
  {
   "cell_type": "code",
   "execution_count": 213,
   "metadata": {
    "ExecuteTime": {
     "end_time": "2018-09-19T02:07:19.077603Z",
     "start_time": "2018-09-19T02:07:19.062003Z"
    }
   },
   "outputs": [],
   "source": [
    "from sklearn.metrics import mean_squared_error"
   ]
  },
  {
   "cell_type": "code",
   "execution_count": 214,
   "metadata": {
    "ExecuteTime": {
     "end_time": "2018-09-19T02:07:22.769443Z",
     "start_time": "2018-09-19T02:07:22.751842Z"
    }
   },
   "outputs": [
    {
     "data": {
      "text/plain": [
       "1.0142709629986915"
      ]
     },
     "execution_count": 214,
     "metadata": {},
     "output_type": "execute_result"
    }
   ],
   "source": [
    "np.sqrt(mean_squared_error(np.exp(val_y1),np.exp(r_pred)))"
   ]
  },
  {
   "cell_type": "code",
   "execution_count": 215,
   "metadata": {
    "ExecuteTime": {
     "end_time": "2018-09-19T02:07:27.705108Z",
     "start_time": "2018-09-19T02:07:27.673908Z"
    }
   },
   "outputs": [
    {
     "data": {
      "text/plain": [
       "0.99"
      ]
     },
     "execution_count": 215,
     "metadata": {},
     "output_type": "execute_result"
    }
   ],
   "source": [
    "np.exp(np.log(0.99))"
   ]
  },
  {
   "cell_type": "code",
   "execution_count": 216,
   "metadata": {
    "ExecuteTime": {
     "end_time": "2018-09-19T02:07:29.127542Z",
     "start_time": "2018-09-19T02:07:29.096342Z"
    }
   },
   "outputs": [
    {
     "data": {
      "text/plain": [
       "1.0142709629986915"
      ]
     },
     "execution_count": 216,
     "metadata": {},
     "output_type": "execute_result"
    }
   ],
   "source": [
    "np.sqrt(mean_squared_error(np.exp(val_y1),np.exp(r_pred)))"
   ]
  },
  {
   "cell_type": "code",
   "execution_count": 229,
   "metadata": {
    "ExecuteTime": {
     "end_time": "2018-09-19T02:30:45.963802Z",
     "start_time": "2018-09-19T02:30:45.955802Z"
    }
   },
   "outputs": [
    {
     "data": {
      "text/plain": [
       "25      0.99\n",
       "40      4.96\n",
       "47     12.97\n",
       "86      0.99\n",
       "119     0.99\n",
       "Name: prediction_pay_price, dtype: float32"
      ]
     },
     "execution_count": 229,
     "metadata": {},
     "output_type": "execute_result"
    }
   ],
   "source": [
    "train_7pay.prediction_pay_price.head()"
   ]
  },
  {
   "cell_type": "code",
   "execution_count": 230,
   "metadata": {
    "ExecuteTime": {
     "end_time": "2018-09-19T02:31:32.029102Z",
     "start_time": "2018-09-19T02:31:32.013502Z"
    }
   },
   "outputs": [
    {
     "data": {
      "text/plain": [
       "0.6253664358836875"
      ]
     },
     "execution_count": 230,
     "metadata": {},
     "output_type": "execute_result"
    }
   ],
   "source": [
    "boxcox1p(0.99,pl)"
   ]
  },
  {
   "cell_type": "code",
   "execution_count": 231,
   "metadata": {
    "ExecuteTime": {
     "end_time": "2018-09-19T02:31:47.371940Z",
     "start_time": "2018-09-19T02:31:47.340740Z"
    }
   },
   "outputs": [
    {
     "data": {
      "text/plain": [
       "1810574    0.855643\n",
       "1173563    0.451325\n",
       "208634    -0.469417\n",
       "693625     0.134200\n",
       "555988     0.740156\n",
       "Name: prediction_pay_price, dtype: float32"
      ]
     },
     "execution_count": 231,
     "metadata": {},
     "output_type": "execute_result"
    }
   ],
   "source": [
    "val_y1.head()"
   ]
  },
  {
   "cell_type": "code",
   "execution_count": 225,
   "metadata": {
    "ExecuteTime": {
     "end_time": "2018-09-19T02:26:05.987636Z",
     "start_time": "2018-09-19T02:26:05.972036Z"
    }
   },
   "outputs": [],
   "source": []
  },
  {
   "cell_type": "code",
   "execution_count": 234,
   "metadata": {
    "ExecuteTime": {
     "end_time": "2018-09-19T02:35:11.119744Z",
     "start_time": "2018-09-19T02:35:11.101143Z"
    }
   },
   "outputs": [
    {
     "data": {
      "text/plain": [
       "47.70736566005926"
      ]
     },
     "execution_count": 234,
     "metadata": {},
     "output_type": "execute_result"
    }
   ],
   "source": [
    "anti_boxcox(2.358614,pl)"
   ]
  },
  {
   "cell_type": "code",
   "execution_count": 265,
   "metadata": {
    "ExecuteTime": {
     "end_time": "2018-09-19T02:43:31.175073Z",
     "start_time": "2018-09-19T02:43:31.143872Z"
    }
   },
   "outputs": [
    {
     "name": "stderr",
     "output_type": "stream",
     "text": [
      "D:\\ProgramData\\Anaconda3\\lib\\site-packages\\ipykernel_launcher.py:2: RuntimeWarning: invalid value encountered in power\n",
      "  \n"
     ]
    },
    {
     "data": {
      "text/plain": [
       "array([ 2.51873944e+00,  2.20769280e-02, -7.46073096e-02, ...,\n",
       "       -2.00013703e-02,  3.27945654e-03,  3.84985577e+00])"
      ]
     },
     "execution_count": 265,
     "metadata": {},
     "output_type": "execute_result"
    }
   ],
   "source": [
    "anti_boxcox(r_pred,pl)"
   ]
  },
  {
   "cell_type": "code",
   "execution_count": 264,
   "metadata": {
    "ExecuteTime": {
     "end_time": "2018-09-19T02:43:17.688078Z",
     "start_time": "2018-09-19T02:43:17.656877Z"
    }
   },
   "outputs": [
    {
     "data": {
      "text/plain": [
       "1810574    1.663146\n",
       "1173563    0.620623\n",
       "208634    -0.356473\n",
       "693625     0.146611\n",
       "555988     1.294198\n",
       "1091525    0.146611\n",
       "1280532   -0.356473\n",
       "518826     2.772635\n",
       "64041      0.620623\n",
       "180924     0.532691\n",
       "2226469   -0.356473\n",
       "1482381    0.530774\n",
       "1037446   -0.356473\n",
       "344257    -0.356473\n",
       "1616744    0.532691\n",
       "13928      1.796163\n",
       "884365     0.620623\n",
       "765750    -0.059951\n",
       "129954    -0.356473\n",
       "436038    -0.356473\n",
       "1167688    1.217848\n",
       "1100997    2.141624\n",
       "581475    -0.356473\n",
       "1687508    0.620623\n",
       "1037641   -0.356473\n",
       "1278624   -0.356473\n",
       "2138407    2.676569\n",
       "2045100    0.825666\n",
       "964283    -0.356473\n",
       "798434    -0.059951\n",
       "             ...   \n",
       "42640     -0.356473\n",
       "382394     0.931584\n",
       "1661025   -0.356473\n",
       "876867    -0.356473\n",
       "424047    -0.356473\n",
       "2240714   -0.356473\n",
       "1502824   -0.356473\n",
       "1520104    0.882209\n",
       "858978     0.620623\n",
       "70653      0.882209\n",
       "959369     0.621449\n",
       "1711048    1.338524\n",
       "572022    -0.356473\n",
       "979342    -0.356473\n",
       "1239637    2.144438\n",
       "1271295    0.932061\n",
       "567374    -0.356473\n",
       "1871455    2.576801\n",
       "811283    -0.356473\n",
       "1831589   -0.059951\n",
       "275348     0.429686\n",
       "1785848    0.144836\n",
       "1207972    2.654043\n",
       "1646964   -0.356473\n",
       "1540665    1.189831\n",
       "1611188    2.902577\n",
       "573597     2.442951\n",
       "1685836   -0.059951\n",
       "819043    -0.356473\n",
       "1975070    2.282811\n",
       "Name: prediction_pay_price, Length: 8288, dtype: float32"
      ]
     },
     "execution_count": 264,
     "metadata": {},
     "output_type": "execute_result"
    }
   ],
   "source": [
    "anti_boxcox(val_y1,pl)"
   ]
  },
  {
   "cell_type": "code",
   "execution_count": 267,
   "metadata": {
    "ExecuteTime": {
     "end_time": "2018-09-19T02:46:35.463327Z",
     "start_time": "2018-09-19T02:46:35.441726Z"
    }
   },
   "outputs": [
    {
     "name": "stderr",
     "output_type": "stream",
     "text": [
      "D:\\ProgramData\\Anaconda3\\lib\\site-packages\\ipykernel_launcher.py:2: RuntimeWarning: invalid value encountered in power\n",
      "  \n"
     ]
    }
   ],
   "source": [
    "a=anti_boxcox(val_y1,pl)\n",
    "b=anti_boxcox(r_pred,pl)"
   ]
  },
  {
   "cell_type": "code",
   "execution_count": 270,
   "metadata": {
    "ExecuteTime": {
     "end_time": "2018-09-19T02:48:44.228954Z",
     "start_time": "2018-09-19T02:48:44.209953Z"
    }
   },
   "outputs": [
    {
     "data": {
      "text/plain": [
       "count    8288.000000\n",
       "mean        0.586356\n",
       "std         0.967375\n",
       "min        -0.356473\n",
       "25%        -0.356473\n",
       "50%         0.301775\n",
       "75%         1.294433\n",
       "max         3.366205\n",
       "Name: prediction_pay_price, dtype: float64"
      ]
     },
     "execution_count": 270,
     "metadata": {},
     "output_type": "execute_result"
    }
   ],
   "source": [
    "a.describe()"
   ]
  },
  {
   "cell_type": "code",
   "execution_count": 273,
   "metadata": {
    "ExecuteTime": {
     "end_time": "2018-09-19T02:49:45.787330Z",
     "start_time": "2018-09-19T02:49:45.770329Z"
    }
   },
   "outputs": [
    {
     "data": {
      "text/plain": [
       "count     8287.000000\n",
       "mean         7.873901\n",
       "std        549.675513\n",
       "min         -0.762291\n",
       "25%         -0.097423\n",
       "50%          0.091001\n",
       "75%          0.485023\n",
       "max      49563.118445\n",
       "dtype: float64"
      ]
     },
     "execution_count": 273,
     "metadata": {},
     "output_type": "execute_result"
    }
   ],
   "source": [
    "pd.Series(b).describe()"
   ]
  },
  {
   "cell_type": "code",
   "execution_count": null,
   "metadata": {},
   "outputs": [],
   "source": []
  },
  {
   "cell_type": "code",
   "execution_count": null,
   "metadata": {},
   "outputs": [],
   "source": []
  },
  {
   "cell_type": "code",
   "execution_count": 271,
   "metadata": {
    "ExecuteTime": {
     "end_time": "2018-09-19T02:49:09.241826Z",
     "start_time": "2018-09-19T02:49:09.227825Z"
    }
   },
   "outputs": [
    {
     "ename": "ValueError",
     "evalue": "Input contains NaN, infinity or a value too large for dtype('float64').",
     "output_type": "error",
     "traceback": [
      "\u001b[1;31m---------------------------------------------------------------------------\u001b[0m",
      "\u001b[1;31mValueError\u001b[0m                                Traceback (most recent call last)",
      "\u001b[1;32m<ipython-input-271-e1c9db776afb>\u001b[0m in \u001b[0;36m<module>\u001b[1;34m()\u001b[0m\n\u001b[1;32m----> 1\u001b[1;33m \u001b[0mnp\u001b[0m\u001b[1;33m.\u001b[0m\u001b[0msqrt\u001b[0m\u001b[1;33m(\u001b[0m\u001b[0mmean_squared_error\u001b[0m\u001b[1;33m(\u001b[0m\u001b[0ma\u001b[0m\u001b[1;33m,\u001b[0m\u001b[0mb\u001b[0m\u001b[1;33m)\u001b[0m\u001b[1;33m)\u001b[0m\u001b[1;33m\u001b[0m\u001b[0m\n\u001b[0m",
      "\u001b[1;32mD:\\ProgramData\\Anaconda3\\lib\\site-packages\\sklearn\\metrics\\regression.py\u001b[0m in \u001b[0;36mmean_squared_error\u001b[1;34m(y_true, y_pred, sample_weight, multioutput)\u001b[0m\n\u001b[0;32m    236\u001b[0m     \"\"\"\n\u001b[0;32m    237\u001b[0m     y_type, y_true, y_pred, multioutput = _check_reg_targets(\n\u001b[1;32m--> 238\u001b[1;33m         y_true, y_pred, multioutput)\n\u001b[0m\u001b[0;32m    239\u001b[0m     output_errors = np.average((y_true - y_pred) ** 2, axis=0,\n\u001b[0;32m    240\u001b[0m                                weights=sample_weight)\n",
      "\u001b[1;32mD:\\ProgramData\\Anaconda3\\lib\\site-packages\\sklearn\\metrics\\regression.py\u001b[0m in \u001b[0;36m_check_reg_targets\u001b[1;34m(y_true, y_pred, multioutput)\u001b[0m\n\u001b[0;32m     75\u001b[0m     \u001b[0mcheck_consistent_length\u001b[0m\u001b[1;33m(\u001b[0m\u001b[0my_true\u001b[0m\u001b[1;33m,\u001b[0m \u001b[0my_pred\u001b[0m\u001b[1;33m)\u001b[0m\u001b[1;33m\u001b[0m\u001b[0m\n\u001b[0;32m     76\u001b[0m     \u001b[0my_true\u001b[0m \u001b[1;33m=\u001b[0m \u001b[0mcheck_array\u001b[0m\u001b[1;33m(\u001b[0m\u001b[0my_true\u001b[0m\u001b[1;33m,\u001b[0m \u001b[0mensure_2d\u001b[0m\u001b[1;33m=\u001b[0m\u001b[1;32mFalse\u001b[0m\u001b[1;33m)\u001b[0m\u001b[1;33m\u001b[0m\u001b[0m\n\u001b[1;32m---> 77\u001b[1;33m     \u001b[0my_pred\u001b[0m \u001b[1;33m=\u001b[0m \u001b[0mcheck_array\u001b[0m\u001b[1;33m(\u001b[0m\u001b[0my_pred\u001b[0m\u001b[1;33m,\u001b[0m \u001b[0mensure_2d\u001b[0m\u001b[1;33m=\u001b[0m\u001b[1;32mFalse\u001b[0m\u001b[1;33m)\u001b[0m\u001b[1;33m\u001b[0m\u001b[0m\n\u001b[0m\u001b[0;32m     78\u001b[0m \u001b[1;33m\u001b[0m\u001b[0m\n\u001b[0;32m     79\u001b[0m     \u001b[1;32mif\u001b[0m \u001b[0my_true\u001b[0m\u001b[1;33m.\u001b[0m\u001b[0mndim\u001b[0m \u001b[1;33m==\u001b[0m \u001b[1;36m1\u001b[0m\u001b[1;33m:\u001b[0m\u001b[1;33m\u001b[0m\u001b[0m\n",
      "\u001b[1;32mD:\\ProgramData\\Anaconda3\\lib\\site-packages\\sklearn\\utils\\validation.py\u001b[0m in \u001b[0;36mcheck_array\u001b[1;34m(array, accept_sparse, dtype, order, copy, force_all_finite, ensure_2d, allow_nd, ensure_min_samples, ensure_min_features, warn_on_dtype, estimator)\u001b[0m\n\u001b[0;32m    451\u001b[0m                              % (array.ndim, estimator_name))\n\u001b[0;32m    452\u001b[0m         \u001b[1;32mif\u001b[0m \u001b[0mforce_all_finite\u001b[0m\u001b[1;33m:\u001b[0m\u001b[1;33m\u001b[0m\u001b[0m\n\u001b[1;32m--> 453\u001b[1;33m             \u001b[0m_assert_all_finite\u001b[0m\u001b[1;33m(\u001b[0m\u001b[0marray\u001b[0m\u001b[1;33m)\u001b[0m\u001b[1;33m\u001b[0m\u001b[0m\n\u001b[0m\u001b[0;32m    454\u001b[0m \u001b[1;33m\u001b[0m\u001b[0m\n\u001b[0;32m    455\u001b[0m     \u001b[0mshape_repr\u001b[0m \u001b[1;33m=\u001b[0m \u001b[0m_shape_repr\u001b[0m\u001b[1;33m(\u001b[0m\u001b[0marray\u001b[0m\u001b[1;33m.\u001b[0m\u001b[0mshape\u001b[0m\u001b[1;33m)\u001b[0m\u001b[1;33m\u001b[0m\u001b[0m\n",
      "\u001b[1;32mD:\\ProgramData\\Anaconda3\\lib\\site-packages\\sklearn\\utils\\validation.py\u001b[0m in \u001b[0;36m_assert_all_finite\u001b[1;34m(X)\u001b[0m\n\u001b[0;32m     42\u001b[0m             and not np.isfinite(X).all()):\n\u001b[0;32m     43\u001b[0m         raise ValueError(\"Input contains NaN, infinity\"\n\u001b[1;32m---> 44\u001b[1;33m                          \" or a value too large for %r.\" % X.dtype)\n\u001b[0m\u001b[0;32m     45\u001b[0m \u001b[1;33m\u001b[0m\u001b[0m\n\u001b[0;32m     46\u001b[0m \u001b[1;33m\u001b[0m\u001b[0m\n",
      "\u001b[1;31mValueError\u001b[0m: Input contains NaN, infinity or a value too large for dtype('float64')."
     ]
    }
   ],
   "source": [
    "np.sqrt(mean_squared_error(a,b))"
   ]
  },
  {
   "cell_type": "code",
   "execution_count": null,
   "metadata": {},
   "outputs": [],
   "source": []
  },
  {
   "cell_type": "code",
   "execution_count": null,
   "metadata": {},
   "outputs": [],
   "source": [
    "a.describe()"
   ]
  },
  {
   "cell_type": "code",
   "execution_count": 268,
   "metadata": {
    "ExecuteTime": {
     "end_time": "2018-09-19T02:46:38.362057Z",
     "start_time": "2018-09-19T02:46:38.313856Z"
    }
   },
   "outputs": [
    {
     "name": "stderr",
     "output_type": "stream",
     "text": [
      "D:\\ProgramData\\Anaconda3\\lib\\site-packages\\ipykernel_launcher.py:2: RuntimeWarning: invalid value encountered in power\n",
      "  \n"
     ]
    },
    {
     "ename": "ValueError",
     "evalue": "Input contains NaN, infinity or a value too large for dtype('float64').",
     "output_type": "error",
     "traceback": [
      "\u001b[1;31m---------------------------------------------------------------------------\u001b[0m",
      "\u001b[1;31mValueError\u001b[0m                                Traceback (most recent call last)",
      "\u001b[1;32m<ipython-input-268-5d27d532789a>\u001b[0m in \u001b[0;36m<module>\u001b[1;34m()\u001b[0m\n\u001b[1;32m----> 1\u001b[1;33m \u001b[0mnp\u001b[0m\u001b[1;33m.\u001b[0m\u001b[0msqrt\u001b[0m\u001b[1;33m(\u001b[0m\u001b[0mmean_squared_error\u001b[0m\u001b[1;33m(\u001b[0m\u001b[0manti_boxcox\u001b[0m\u001b[1;33m(\u001b[0m\u001b[0mval_y1\u001b[0m\u001b[1;33m,\u001b[0m\u001b[0mpl\u001b[0m\u001b[1;33m)\u001b[0m\u001b[1;33m,\u001b[0m\u001b[0manti_boxcox\u001b[0m\u001b[1;33m(\u001b[0m\u001b[0mr_pred\u001b[0m\u001b[1;33m,\u001b[0m\u001b[0mpl\u001b[0m\u001b[1;33m)\u001b[0m\u001b[1;33m)\u001b[0m\u001b[1;33m)\u001b[0m\u001b[1;33m\u001b[0m\u001b[0m\n\u001b[0m",
      "\u001b[1;32mD:\\ProgramData\\Anaconda3\\lib\\site-packages\\sklearn\\metrics\\regression.py\u001b[0m in \u001b[0;36mmean_squared_error\u001b[1;34m(y_true, y_pred, sample_weight, multioutput)\u001b[0m\n\u001b[0;32m    236\u001b[0m     \"\"\"\n\u001b[0;32m    237\u001b[0m     y_type, y_true, y_pred, multioutput = _check_reg_targets(\n\u001b[1;32m--> 238\u001b[1;33m         y_true, y_pred, multioutput)\n\u001b[0m\u001b[0;32m    239\u001b[0m     output_errors = np.average((y_true - y_pred) ** 2, axis=0,\n\u001b[0;32m    240\u001b[0m                                weights=sample_weight)\n",
      "\u001b[1;32mD:\\ProgramData\\Anaconda3\\lib\\site-packages\\sklearn\\metrics\\regression.py\u001b[0m in \u001b[0;36m_check_reg_targets\u001b[1;34m(y_true, y_pred, multioutput)\u001b[0m\n\u001b[0;32m     75\u001b[0m     \u001b[0mcheck_consistent_length\u001b[0m\u001b[1;33m(\u001b[0m\u001b[0my_true\u001b[0m\u001b[1;33m,\u001b[0m \u001b[0my_pred\u001b[0m\u001b[1;33m)\u001b[0m\u001b[1;33m\u001b[0m\u001b[0m\n\u001b[0;32m     76\u001b[0m     \u001b[0my_true\u001b[0m \u001b[1;33m=\u001b[0m \u001b[0mcheck_array\u001b[0m\u001b[1;33m(\u001b[0m\u001b[0my_true\u001b[0m\u001b[1;33m,\u001b[0m \u001b[0mensure_2d\u001b[0m\u001b[1;33m=\u001b[0m\u001b[1;32mFalse\u001b[0m\u001b[1;33m)\u001b[0m\u001b[1;33m\u001b[0m\u001b[0m\n\u001b[1;32m---> 77\u001b[1;33m     \u001b[0my_pred\u001b[0m \u001b[1;33m=\u001b[0m \u001b[0mcheck_array\u001b[0m\u001b[1;33m(\u001b[0m\u001b[0my_pred\u001b[0m\u001b[1;33m,\u001b[0m \u001b[0mensure_2d\u001b[0m\u001b[1;33m=\u001b[0m\u001b[1;32mFalse\u001b[0m\u001b[1;33m)\u001b[0m\u001b[1;33m\u001b[0m\u001b[0m\n\u001b[0m\u001b[0;32m     78\u001b[0m \u001b[1;33m\u001b[0m\u001b[0m\n\u001b[0;32m     79\u001b[0m     \u001b[1;32mif\u001b[0m \u001b[0my_true\u001b[0m\u001b[1;33m.\u001b[0m\u001b[0mndim\u001b[0m \u001b[1;33m==\u001b[0m \u001b[1;36m1\u001b[0m\u001b[1;33m:\u001b[0m\u001b[1;33m\u001b[0m\u001b[0m\n",
      "\u001b[1;32mD:\\ProgramData\\Anaconda3\\lib\\site-packages\\sklearn\\utils\\validation.py\u001b[0m in \u001b[0;36mcheck_array\u001b[1;34m(array, accept_sparse, dtype, order, copy, force_all_finite, ensure_2d, allow_nd, ensure_min_samples, ensure_min_features, warn_on_dtype, estimator)\u001b[0m\n\u001b[0;32m    451\u001b[0m                              % (array.ndim, estimator_name))\n\u001b[0;32m    452\u001b[0m         \u001b[1;32mif\u001b[0m \u001b[0mforce_all_finite\u001b[0m\u001b[1;33m:\u001b[0m\u001b[1;33m\u001b[0m\u001b[0m\n\u001b[1;32m--> 453\u001b[1;33m             \u001b[0m_assert_all_finite\u001b[0m\u001b[1;33m(\u001b[0m\u001b[0marray\u001b[0m\u001b[1;33m)\u001b[0m\u001b[1;33m\u001b[0m\u001b[0m\n\u001b[0m\u001b[0;32m    454\u001b[0m \u001b[1;33m\u001b[0m\u001b[0m\n\u001b[0;32m    455\u001b[0m     \u001b[0mshape_repr\u001b[0m \u001b[1;33m=\u001b[0m \u001b[0m_shape_repr\u001b[0m\u001b[1;33m(\u001b[0m\u001b[0marray\u001b[0m\u001b[1;33m.\u001b[0m\u001b[0mshape\u001b[0m\u001b[1;33m)\u001b[0m\u001b[1;33m\u001b[0m\u001b[0m\n",
      "\u001b[1;32mD:\\ProgramData\\Anaconda3\\lib\\site-packages\\sklearn\\utils\\validation.py\u001b[0m in \u001b[0;36m_assert_all_finite\u001b[1;34m(X)\u001b[0m\n\u001b[0;32m     42\u001b[0m             and not np.isfinite(X).all()):\n\u001b[0;32m     43\u001b[0m         raise ValueError(\"Input contains NaN, infinity\"\n\u001b[1;32m---> 44\u001b[1;33m                          \" or a value too large for %r.\" % X.dtype)\n\u001b[0m\u001b[0;32m     45\u001b[0m \u001b[1;33m\u001b[0m\u001b[0m\n\u001b[0;32m     46\u001b[0m \u001b[1;33m\u001b[0m\u001b[0m\n",
      "\u001b[1;31mValueError\u001b[0m: Input contains NaN, infinity or a value too large for dtype('float64')."
     ]
    }
   ],
   "source": [
    "np.sqrt(mean_squared_error(anti_boxcox(val_y1,pl),anti_boxcox(r_pred,pl)))"
   ]
  },
  {
   "cell_type": "code",
   "execution_count": 218,
   "metadata": {
    "ExecuteTime": {
     "end_time": "2018-09-19T02:16:20.324720Z",
     "start_time": "2018-09-19T02:16:20.318720Z"
    }
   },
   "outputs": [
    {
     "data": {
      "text/plain": [
       "0.5"
      ]
     },
     "execution_count": 218,
     "metadata": {},
     "output_type": "execute_result"
    }
   ],
   "source": []
  },
  {
   "cell_type": "code",
   "execution_count": 232,
   "metadata": {
    "ExecuteTime": {
     "end_time": "2018-09-19T02:34:27.328886Z",
     "start_time": "2018-09-19T02:34:27.275284Z"
    }
   },
   "outputs": [],
   "source": [
    "r_result=pd.DataFrame(list(zip(np.exp(val_y1),np.exp(r_pred))),columns=['val_y1','pred_y1'])"
   ]
  },
  {
   "cell_type": "code",
   "execution_count": 233,
   "metadata": {
    "ExecuteTime": {
     "end_time": "2018-09-19T02:34:28.036923Z",
     "start_time": "2018-09-19T02:34:28.005723Z"
    }
   },
   "outputs": [],
   "source": [
    "r_result['user_id']=val_X2_user_id.values"
   ]
  },
  {
   "cell_type": "code",
   "execution_count": 135,
   "metadata": {
    "ExecuteTime": {
     "end_time": "2018-09-18T09:57:17.035491Z",
     "start_time": "2018-09-18T09:57:17.008890Z"
    }
   },
   "outputs": [
    {
     "data": {
      "text/html": [
       "<div>\n",
       "<style scoped>\n",
       "    .dataframe tbody tr th:only-of-type {\n",
       "        vertical-align: middle;\n",
       "    }\n",
       "\n",
       "    .dataframe tbody tr th {\n",
       "        vertical-align: top;\n",
       "    }\n",
       "\n",
       "    .dataframe thead th {\n",
       "        text-align: right;\n",
       "    }\n",
       "</style>\n",
       "<table border=\"1\" class=\"dataframe\">\n",
       "  <thead>\n",
       "    <tr style=\"text-align: right;\">\n",
       "      <th></th>\n",
       "      <th>val_y1</th>\n",
       "      <th>pred_y1</th>\n",
       "      <th>user_id</th>\n",
       "    </tr>\n",
       "  </thead>\n",
       "  <tbody>\n",
       "    <tr>\n",
       "      <th>0</th>\n",
       "      <td>46.880001</td>\n",
       "      <td>97.781764</td>\n",
       "      <td>2558880</td>\n",
       "    </tr>\n",
       "    <tr>\n",
       "      <th>1</th>\n",
       "      <td>6.970000</td>\n",
       "      <td>3.310195</td>\n",
       "      <td>1486362</td>\n",
       "    </tr>\n",
       "    <tr>\n",
       "      <th>2</th>\n",
       "      <td>0.990000</td>\n",
       "      <td>2.358614</td>\n",
       "      <td>243845</td>\n",
       "    </tr>\n",
       "    <tr>\n",
       "      <th>3</th>\n",
       "      <td>2.980000</td>\n",
       "      <td>4.005820</td>\n",
       "      <td>873606</td>\n",
       "    </tr>\n",
       "    <tr>\n",
       "      <th>4</th>\n",
       "      <td>22.940001</td>\n",
       "      <td>6.420819</td>\n",
       "      <td>733979</td>\n",
       "    </tr>\n",
       "    <tr>\n",
       "      <th>5</th>\n",
       "      <td>2.980000</td>\n",
       "      <td>2.646519</td>\n",
       "      <td>1361413</td>\n",
       "    </tr>\n",
       "    <tr>\n",
       "      <th>6</th>\n",
       "      <td>0.990000</td>\n",
       "      <td>1.572220</td>\n",
       "      <td>1637543</td>\n",
       "    </tr>\n",
       "    <tr>\n",
       "      <th>7</th>\n",
       "      <td>926.600037</td>\n",
       "      <td>364.091340</td>\n",
       "      <td>677474</td>\n",
       "    </tr>\n",
       "    <tr>\n",
       "      <th>8</th>\n",
       "      <td>6.970000</td>\n",
       "      <td>4.383783</td>\n",
       "      <td>85660</td>\n",
       "    </tr>\n",
       "    <tr>\n",
       "      <th>9</th>\n",
       "      <td>5.980000</td>\n",
       "      <td>3.714155</td>\n",
       "      <td>215287</td>\n",
       "    </tr>\n",
       "  </tbody>\n",
       "</table>\n",
       "</div>"
      ],
      "text/plain": [
       "       val_y1     pred_y1  user_id\n",
       "0   46.880001   97.781764  2558880\n",
       "1    6.970000    3.310195  1486362\n",
       "2    0.990000    2.358614   243845\n",
       "3    2.980000    4.005820   873606\n",
       "4   22.940001    6.420819   733979\n",
       "5    2.980000    2.646519  1361413\n",
       "6    0.990000    1.572220  1637543\n",
       "7  926.600037  364.091340   677474\n",
       "8    6.970000    4.383783    85660\n",
       "9    5.980000    3.714155   215287"
      ]
     },
     "execution_count": 135,
     "metadata": {},
     "output_type": "execute_result"
    }
   ],
   "source": [
    "r_result.head(10)"
   ]
  },
  {
   "cell_type": "code",
   "execution_count": null,
   "metadata": {
    "ExecuteTime": {
     "end_time": "2018-09-17T06:01:47.739787Z",
     "start_time": "2018-09-17T06:01:47.724187Z"
    }
   },
   "outputs": [],
   "source": [
    "np.expm1(0.385)"
   ]
  },
  {
   "cell_type": "code",
   "execution_count": 103,
   "metadata": {
    "ExecuteTime": {
     "end_time": "2018-09-18T09:42:51.427449Z",
     "start_time": "2018-09-18T09:41:56.785125Z"
    }
   },
   "outputs": [],
   "source": [
    "# r_alpha=np.arange(10,21,1)\n",
    "# r_alphas = [.0001, .0003, .0005, .0007, .0009, \n",
    "#           .01, 0.05, 0.1, 0.3, 1, 3, 5, 10, 15, 20, 30, 50, 60, 70, 80]\n",
    "r_alphas = [ 50000,100000,500000,1000000]\n",
    "def ridge_selector(k):\n",
    "    ridge_model=make_pipeline(RobustScaler(),\n",
    "                             RidgeCV(alphas=[k],cv=kfolds)).fit(X2,y1)\n",
    "    return cv_rmse2(ridge_model).mean()\n",
    "\n",
    "r_score=[]\n",
    "for i in r_alphas:\n",
    "    score=ridge_selector(i)\n",
    "    r_score.append(score)    "
   ]
  },
  {
   "cell_type": "code",
   "execution_count": 104,
   "metadata": {
    "ExecuteTime": {
     "end_time": "2018-09-18T09:42:56.663666Z",
     "start_time": "2018-09-18T09:42:56.648066Z"
    }
   },
   "outputs": [],
   "source": [
    "r_score_df=pd.DataFrame(list(zip(r_alphas,r_score)),columns=['Alpha','RMSE'])"
   ]
  },
  {
   "cell_type": "code",
   "execution_count": 105,
   "metadata": {
    "ExecuteTime": {
     "end_time": "2018-09-18T09:42:57.776101Z",
     "start_time": "2018-09-18T09:42:57.744901Z"
    }
   },
   "outputs": [
    {
     "data": {
      "text/html": [
       "<div>\n",
       "<style scoped>\n",
       "    .dataframe tbody tr th:only-of-type {\n",
       "        vertical-align: middle;\n",
       "    }\n",
       "\n",
       "    .dataframe tbody tr th {\n",
       "        vertical-align: top;\n",
       "    }\n",
       "\n",
       "    .dataframe thead th {\n",
       "        text-align: right;\n",
       "    }\n",
       "</style>\n",
       "<table border=\"1\" class=\"dataframe\">\n",
       "  <thead>\n",
       "    <tr style=\"text-align: right;\">\n",
       "      <th></th>\n",
       "      <th>Alpha</th>\n",
       "      <th>RMSE</th>\n",
       "    </tr>\n",
       "  </thead>\n",
       "  <tbody>\n",
       "    <tr>\n",
       "      <th>1</th>\n",
       "      <td>100000</td>\n",
       "      <td>411.257377</td>\n",
       "    </tr>\n",
       "    <tr>\n",
       "      <th>2</th>\n",
       "      <td>500000</td>\n",
       "      <td>412.241406</td>\n",
       "    </tr>\n",
       "    <tr>\n",
       "      <th>0</th>\n",
       "      <td>50000</td>\n",
       "      <td>412.749412</td>\n",
       "    </tr>\n",
       "    <tr>\n",
       "      <th>3</th>\n",
       "      <td>1000000</td>\n",
       "      <td>416.620318</td>\n",
       "    </tr>\n",
       "  </tbody>\n",
       "</table>\n",
       "</div>"
      ],
      "text/plain": [
       "     Alpha        RMSE\n",
       "1   100000  411.257377\n",
       "2   500000  412.241406\n",
       "0    50000  412.749412\n",
       "3  1000000  416.620318"
      ]
     },
     "execution_count": 105,
     "metadata": {},
     "output_type": "execute_result"
    }
   ],
   "source": [
    "r_score_df.sort_values(by='RMSE')"
   ]
  },
  {
   "cell_type": "code",
   "execution_count": null,
   "metadata": {
    "ExecuteTime": {
     "end_time": "2018-09-13T07:32:33.138083Z",
     "start_time": "2018-09-13T07:27:22.954341Z"
    }
   },
   "outputs": [],
   "source": [
    "r_alpha2=pd.Series(np.arange(14,16,0.1)).apply(lambda x:round(x,2))\n",
    "\n",
    "ridge_model=make_pipeline(RobustScaler(),\n",
    "                         RidgeCV(alphas=r_alpha2.tolist(),cv=kfolds)).fit(X,y)\n",
    "cv_rmse(ridge_model).mean()"
   ]
  },
  {
   "cell_type": "code",
   "execution_count": null,
   "metadata": {
    "ExecuteTime": {
     "end_time": "2018-09-13T07:39:00.660248Z",
     "start_time": "2018-09-13T07:39:00.654247Z"
    }
   },
   "outputs": [],
   "source": [
    "ridge_model.steps[1][1].alpha_"
   ]
  },
  {
   "cell_type": "code",
   "execution_count": null,
   "metadata": {
    "ExecuteTime": {
     "end_time": "2018-09-13T08:06:09.508413Z",
     "start_time": "2018-09-13T08:05:18.413490Z"
    }
   },
   "outputs": [],
   "source": [
    "# l_alpha=[0.01,0.1,0.5,1,5,10,15,20,30,50]\n",
    "# l_alpha2=pd.Series(np.arange(0.001,0.02,0.002)).apply(lambda x:round(x,3))\n",
    "l_alpha2 = [0.00001,0.00002,0.00003,0.00004,0.00005, 0.0001, 0.0002, 0.0003, 0.0004, 0.0005,\n",
    "           0.0006, 0.0007, 0.0008]\n",
    "\n",
    "lasso_model=make_pipeline(RobustScaler(),\n",
    "                         LassoCV(alphas=l_alpha2,max_iter=1e5,cv=kfolds)).fit(X,y)\n",
    "cv_rmse(lasso_model).mean()"
   ]
  },
  {
   "cell_type": "code",
   "execution_count": 125,
   "metadata": {
    "ExecuteTime": {
     "end_time": "2018-09-18T09:55:09.770921Z",
     "start_time": "2018-09-18T09:55:09.738721Z"
    }
   },
   "outputs": [
    {
     "ename": "NameError",
     "evalue": "name 'lasso_model' is not defined",
     "output_type": "error",
     "traceback": [
      "\u001b[1;31m---------------------------------------------------------------------------\u001b[0m",
      "\u001b[1;31mNameError\u001b[0m                                 Traceback (most recent call last)",
      "\u001b[1;32m<ipython-input-125-30646823df47>\u001b[0m in \u001b[0;36m<module>\u001b[1;34m()\u001b[0m\n\u001b[1;32m----> 1\u001b[1;33m \u001b[0mlasso_model\u001b[0m\u001b[1;33m.\u001b[0m\u001b[0msteps\u001b[0m\u001b[1;33m[\u001b[0m\u001b[1;36m1\u001b[0m\u001b[1;33m]\u001b[0m\u001b[1;33m[\u001b[0m\u001b[1;36m1\u001b[0m\u001b[1;33m]\u001b[0m\u001b[1;33m.\u001b[0m\u001b[0malpha_\u001b[0m\u001b[1;33m\u001b[0m\u001b[0m\n\u001b[0m",
      "\u001b[1;31mNameError\u001b[0m: name 'lasso_model' is not defined"
     ]
    }
   ],
   "source": [
    "lasso_model.steps[1][1].alpha_"
   ]
  },
  {
   "cell_type": "code",
   "execution_count": null,
   "metadata": {
    "ExecuteTime": {
     "end_time": "2018-09-13T08:11:11.405680Z",
     "start_time": "2018-09-13T08:11:11.365678Z"
    }
   },
   "outputs": [],
   "source": [
    "la_coef=pd.DataFrame(list(zip(X.columns,lasso_model.steps[1][1].coef_)),columns=['predictors','coef'])\n",
    "la_coef.sort_values(by='coef',ascending=False)"
   ]
  },
  {
   "cell_type": "code",
   "execution_count": null,
   "metadata": {
    "ExecuteTime": {
     "end_time": "2018-09-13T08:12:08.824964Z",
     "start_time": "2018-09-13T08:12:08.813964Z"
    }
   },
   "outputs": [],
   "source": [
    "la_coef[la_coef.coef == 0].shape"
   ]
  },
  {
   "cell_type": "code",
   "execution_count": null,
   "metadata": {
    "ExecuteTime": {
     "end_time": "2018-09-13T08:29:39.214043Z",
     "start_time": "2018-09-13T08:29:39.197042Z"
    }
   },
   "outputs": [],
   "source": [
    "used_la_coef=la_coef[la_coef.coef !=0]['predictors']\n",
    "used_la_coef.shape"
   ]
  },
  {
   "cell_type": "code",
   "execution_count": null,
   "metadata": {
    "ExecuteTime": {
     "end_time": "2018-09-13T08:33:35.894580Z",
     "start_time": "2018-09-13T08:33:35.848578Z"
    }
   },
   "outputs": [],
   "source": [
    "X[used_la_coef].shape"
   ]
  },
  {
   "cell_type": "code",
   "execution_count": null,
   "metadata": {
    "ExecuteTime": {
     "end_time": "2018-09-13T08:33:54.249630Z",
     "start_time": "2018-09-13T08:33:54.213628Z"
    }
   },
   "outputs": [],
   "source": [
    "X2=X[used_la_coef]"
   ]
  },
  {
   "cell_type": "code",
   "execution_count": null,
   "metadata": {
    "ExecuteTime": {
     "end_time": "2018-09-13T08:42:27.856007Z",
     "start_time": "2018-09-13T08:42:27.845006Z"
    }
   },
   "outputs": [],
   "source": [
    "def cv_rmse2(model):\n",
    "    rmse=np.sqrt(-cross_val_score(model,X2,y,scoring='neg_mean_squared_error',cv=kfolds))\n",
    "    return rmse"
   ]
  },
  {
   "cell_type": "code",
   "execution_count": null,
   "metadata": {
    "ExecuteTime": {
     "end_time": "2018-09-13T09:05:45.616954Z",
     "start_time": "2018-09-13T09:01:27.889213Z"
    }
   },
   "outputs": [],
   "source": [
    "r_alpha2=pd.Series(np.arange(10,12,0.1)).apply(lambda x:round(x,1))\n",
    "# r_alpha=np.arange(1,15,1)\n",
    "ridge_model=make_pipeline(RobustScaler(),\n",
    "                         RidgeCV(alphas=r_alpha2.tolist(),cv=kfolds)).fit(X2,y)\n",
    "cv_rmse2(ridge_model).mean()"
   ]
  },
  {
   "cell_type": "code",
   "execution_count": null,
   "metadata": {
    "ExecuteTime": {
     "end_time": "2018-09-13T09:22:45.110266Z",
     "start_time": "2018-09-13T09:22:45.097265Z"
    }
   },
   "outputs": [],
   "source": [
    "ridge_model.steps[1][1].alpha_"
   ]
  },
  {
   "cell_type": "code",
   "execution_count": null,
   "metadata": {
    "ExecuteTime": {
     "end_time": "2018-09-13T09:25:17.973009Z",
     "start_time": "2018-09-13T09:24:33.857486Z"
    }
   },
   "outputs": [],
   "source": [
    "l_alpha2 = [0.00001,0.00002,0.00003,0.00004,0.00005, 0.0001, 0.0002, 0.0003, 0.0004, 0.0005,\n",
    "           0.0006, 0.0007, 0.0008]\n",
    "\n",
    "lasso_model=make_pipeline(RobustScaler(),\n",
    "                         LassoCV(alphas=l_alpha2,max_iter=1e5,cv=kfolds)).fit(X2,y)\n",
    "cv_rmse2(lasso_model).mean()"
   ]
  },
  {
   "cell_type": "code",
   "execution_count": null,
   "metadata": {
    "ExecuteTime": {
     "end_time": "2018-09-13T09:28:03.359469Z",
     "start_time": "2018-09-13T09:28:03.347468Z"
    }
   },
   "outputs": [],
   "source": [
    "lasso_model.steps[1][1].alpha_"
   ]
  },
  {
   "cell_type": "code",
   "execution_count": null,
   "metadata": {
    "ExecuteTime": {
     "end_time": "2018-09-13T09:46:36.166118Z",
     "start_time": "2018-09-13T09:43:00.344773Z"
    }
   },
   "outputs": [],
   "source": [
    "from sklearn.linear_model import ElasticNetCV\n",
    "\n",
    "e_alphas = [0.00001,0.00005,0.0001, 0.0002, 0.0003, 0.0004, 0.0005, 0.0006, 0.0007]\n",
    "e_l1ratio = [0.1,0.2,0.3,0.4,0.5,0.6,0.7,0.8, 0.85, 0.9, 0.95, 0.99, 1]\n",
    "\n",
    "elastic_cv=make_pipeline(RobustScaler(),\n",
    "                        ElasticNetCV(max_iter=1e5,alphas=e_alphas,l1_ratio=e_l1ratio,cv=kfolds)).fit(X2,y)\n",
    "cv_rmse2(elastic_cv).mean()"
   ]
  },
  {
   "cell_type": "code",
   "execution_count": null,
   "metadata": {
    "ExecuteTime": {
     "end_time": "2018-09-13T09:46:36.171118Z",
     "start_time": "2018-09-13T09:46:36.167118Z"
    }
   },
   "outputs": [],
   "source": [
    "elastic_cv.steps[1][1].alpha_"
   ]
  },
  {
   "cell_type": "code",
   "execution_count": null,
   "metadata": {
    "ExecuteTime": {
     "end_time": "2018-09-13T09:42:30.265053Z",
     "start_time": "2018-09-13T09:42:30.256052Z"
    }
   },
   "outputs": [],
   "source": [
    "elastic_cv.steps[1][1].l1_ratio_"
   ]
  },
  {
   "cell_type": "code",
   "execution_count": null,
   "metadata": {
    "ExecuteTime": {
     "end_time": "2018-09-13T09:48:47.473628Z",
     "start_time": "2018-09-13T09:48:47.146609Z"
    }
   },
   "outputs": [],
   "source": [
    "from lightgbm import LGBMRegressor\n",
    "\n",
    "lgbm_model = LGBMRegressor(objective='regression',num_leaves=5,\n",
    "                              learning_rate=0.05, n_estimators=720,\n",
    "                              max_bin = 55, bagging_fraction = 0.8,\n",
    "                              bagging_freq = 5, feature_fraction = 0.2319,\n",
    "                              feature_fraction_seed=9, bagging_seed=9,\n",
    "                              min_data_in_leaf =6, min_sum_hessian_in_leaf = 11)"
   ]
  },
  {
   "cell_type": "code",
   "execution_count": null,
   "metadata": {
    "ExecuteTime": {
     "end_time": "2018-09-13T09:48:59.232301Z",
     "start_time": "2018-09-13T09:48:48.529688Z"
    }
   },
   "outputs": [],
   "source": [
    "cv_rmse(lgbm_model).mean()"
   ]
  },
  {
   "cell_type": "code",
   "execution_count": null,
   "metadata": {
    "ExecuteTime": {
     "end_time": "2018-09-13T09:49:46.393998Z",
     "start_time": "2018-09-13T09:49:34.587323Z"
    }
   },
   "outputs": [],
   "source": [
    "cv_rmse2(lgbm_model).mean()"
   ]
  },
  {
   "cell_type": "code",
   "execution_count": null,
   "metadata": {
    "ExecuteTime": {
     "end_time": "2018-09-13T09:51:06.116558Z",
     "start_time": "2018-09-13T09:51:06.108557Z"
    }
   },
   "outputs": [],
   "source": [
    "np.expm1(0.381)"
   ]
  },
  {
   "cell_type": "code",
   "execution_count": null,
   "metadata": {
    "ExecuteTime": {
     "end_time": "2018-09-13T14:13:47.856078Z",
     "start_time": "2018-09-13T14:13:47.198040Z"
    }
   },
   "outputs": [],
   "source": [
    "import xgboost as xgb\n",
    "from xgboost import XGBRegressor\n",
    "xgb3 = XGBRegressor(learning_rate =0.01, n_estimators=3460, max_depth=3,\n",
    "                     min_child_weight=0 ,gamma=0, subsample=0.7,\n",
    "                     colsample_bytree=0.7,objective= 'reg:linear',\n",
    "                     nthread=4,scale_pos_weight=1,seed=27, reg_alpha=0.00006)\n",
    "\n"
   ]
  },
  {
   "cell_type": "code",
   "execution_count": null,
   "metadata": {
    "ExecuteTime": {
     "end_time": "2018-09-13T15:20:47.053963Z",
     "start_time": "2018-09-13T15:03:58.505277Z"
    }
   },
   "outputs": [],
   "source": [
    "cv_rmse(xgb3).mean()"
   ]
  },
  {
   "cell_type": "code",
   "execution_count": null,
   "metadata": {
    "ExecuteTime": {
     "end_time": "2018-09-13T14:53:25.745085Z",
     "start_time": "2018-09-13T14:39:02.021683Z"
    }
   },
   "outputs": [],
   "source": [
    "cv_rmse2(xgb3).mean()"
   ]
  },
  {
   "cell_type": "code",
   "execution_count": null,
   "metadata": {
    "ExecuteTime": {
     "start_time": "2018-09-14T01:04:18.752Z"
    }
   },
   "outputs": [],
   "source": [
    "xgb_fit=xgb3.fit(X,y)"
   ]
  },
  {
   "cell_type": "code",
   "execution_count": null,
   "metadata": {},
   "outputs": [],
   "source": []
  }
 ],
 "metadata": {
  "kernelspec": {
   "display_name": "Python 3",
   "language": "python",
   "name": "python3"
  },
  "language_info": {
   "codemirror_mode": {
    "name": "ipython",
    "version": 3
   },
   "file_extension": ".py",
   "mimetype": "text/x-python",
   "name": "python",
   "nbconvert_exporter": "python",
   "pygments_lexer": "ipython3",
   "version": "3.6.3"
  }
 },
 "nbformat": 4,
 "nbformat_minor": 2
}
