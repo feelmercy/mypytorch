{
 "cells": [
  {
   "cell_type": "code",
   "execution_count": 1,
   "metadata": {
    "ExecuteTime": {
     "end_time": "2018-08-16T02:36:53.793482Z",
     "start_time": "2018-08-16T02:36:51.742365Z"
    }
   },
   "outputs": [],
   "source": [
    "import pandas as pd\n",
    "import numpy as np"
   ]
  },
  {
   "cell_type": "code",
   "execution_count": 2,
   "metadata": {
    "ExecuteTime": {
     "end_time": "2018-08-16T02:37:25.775312Z",
     "start_time": "2018-08-16T02:36:53.795482Z"
    }
   },
   "outputs": [],
   "source": [
    "df_train=pd.read_csv('F:\\\\study\\\\ml\\\\DataSet\\\\Tap4fun\\\\tap_fun_train.csv')"
   ]
  },
  {
   "cell_type": "code",
   "execution_count": 3,
   "metadata": {
    "ExecuteTime": {
     "end_time": "2018-08-16T02:37:26.023326Z",
     "start_time": "2018-08-16T02:37:25.778312Z"
    }
   },
   "outputs": [
    {
     "name": "stdout",
     "output_type": "stream",
     "text": [
      "<class 'pandas.core.frame.DataFrame'>\n",
      "RangeIndex: 2288007 entries, 0 to 2288006\n",
      "Columns: 109 entries, user_id to prediction_pay_price\n",
      "dtypes: float64(13), int64(95), object(1)\n",
      "memory usage: 2.0 GB\n"
     ]
    }
   ],
   "source": [
    "df_train.info(memory_usage='deep')"
   ]
  },
  {
   "cell_type": "code",
   "execution_count": 4,
   "metadata": {
    "ExecuteTime": {
     "end_time": "2018-08-16T02:37:44.085359Z",
     "start_time": "2018-08-16T02:37:26.024326Z"
    }
   },
   "outputs": [],
   "source": [
    "c_int=df_train.select_dtypes(include=['int64']).apply(pd.to_numeric,downcast='unsigned')\n",
    "c_float=df_train.select_dtypes(include=['float']).apply(pd.to_numeric,downcast='float')"
   ]
  },
  {
   "cell_type": "code",
   "execution_count": 5,
   "metadata": {
    "ExecuteTime": {
     "end_time": "2018-08-16T02:38:20.943467Z",
     "start_time": "2018-08-16T02:37:44.087359Z"
    }
   },
   "outputs": [],
   "source": [
    "o_df=df_train\n",
    "o_df[c_int.columns]=c_int\n",
    "o_df[c_float.columns]=c_float"
   ]
  },
  {
   "cell_type": "code",
   "execution_count": 6,
   "metadata": {
    "ExecuteTime": {
     "end_time": "2018-08-16T02:38:20.951467Z",
     "start_time": "2018-08-16T02:38:20.944467Z"
    }
   },
   "outputs": [],
   "source": [
    "dtypes=o_df.dtypes.copy()\n",
    "dtypes_col=dtypes.index.copy()\n",
    "dtypes_type=[i.name for i in dtypes.values]\n",
    "column_type=dict(zip(dtypes_col,dtypes_type))"
   ]
  },
  {
   "cell_type": "code",
   "execution_count": 7,
   "metadata": {
    "ExecuteTime": {
     "end_time": "2018-08-16T02:38:21.155479Z",
     "start_time": "2018-08-16T02:38:20.953468Z"
    }
   },
   "outputs": [],
   "source": [
    "del o_df,df_train"
   ]
  },
  {
   "cell_type": "code",
   "execution_count": 8,
   "metadata": {
    "ExecuteTime": {
     "end_time": "2018-08-16T02:38:21.238484Z",
     "start_time": "2018-08-16T02:38:21.156479Z"
    }
   },
   "outputs": [
    {
     "data": {
      "text/plain": [
       "'object'"
      ]
     },
     "execution_count": 8,
     "metadata": {},
     "output_type": "execute_result"
    }
   ],
   "source": [
    "column_type.pop('register_time')"
   ]
  },
  {
   "cell_type": "code",
   "execution_count": 9,
   "metadata": {
    "ExecuteTime": {
     "end_time": "2018-08-16T02:38:48.405038Z",
     "start_time": "2018-08-16T02:38:21.239484Z"
    }
   },
   "outputs": [],
   "source": [
    "data_train=pd.read_csv('F:\\\\study\\\\ml\\\\DataSet\\\\Tap4fun\\\\tap_fun_train.csv',\n",
    "                      dtype=column_type,parse_dates=['register_time'],infer_datetime_format=True)"
   ]
  },
  {
   "cell_type": "code",
   "execution_count": 10,
   "metadata": {
    "ExecuteTime": {
     "end_time": "2018-08-16T02:38:48.412038Z",
     "start_time": "2018-08-16T02:38:48.407038Z"
    }
   },
   "outputs": [],
   "source": [
    "# del o_df ,df_train"
   ]
  },
  {
   "cell_type": "code",
   "execution_count": 11,
   "metadata": {
    "ExecuteTime": {
     "end_time": "2018-08-16T02:38:48.896066Z",
     "start_time": "2018-08-16T02:38:48.415038Z"
    }
   },
   "outputs": [
    {
     "name": "stdout",
     "output_type": "stream",
     "text": [
      "<class 'pandas.core.frame.DataFrame'>\n",
      "RangeIndex: 2288007 entries, 0 to 2288006\n",
      "Columns: 109 entries, user_id to prediction_pay_price\n",
      "dtypes: datetime64[ns](1), float32(13), uint16(8), uint32(21), uint8(66)\n",
      "memory usage: 493.1 MB\n"
     ]
    }
   ],
   "source": [
    "data_train.info(memory_usage='deep')"
   ]
  },
  {
   "cell_type": "code",
   "execution_count": 12,
   "metadata": {
    "ExecuteTime": {
     "end_time": "2018-08-16T02:38:48.974070Z",
     "start_time": "2018-08-16T02:38:48.901066Z"
    }
   },
   "outputs": [
    {
     "data": {
      "text/plain": [
       "{'avg_online_minutes': 'float32',\n",
       " 'bd_barrack_level': 'uint8',\n",
       " 'bd_dolmen_level': 'uint8',\n",
       " 'bd_guest_cavern_level': 'uint8',\n",
       " 'bd_hall_of_war_level': 'uint8',\n",
       " 'bd_healing_lodge_level': 'uint8',\n",
       " 'bd_healing_spring_level': 'uint8',\n",
       " 'bd_hero_gacha_level': 'uint8',\n",
       " 'bd_hero_pve_level': 'uint8',\n",
       " 'bd_hero_strengthen_level': 'uint8',\n",
       " 'bd_magic_coin_tree_level': 'uint8',\n",
       " 'bd_market_level': 'uint8',\n",
       " 'bd_outpost_portal_level': 'uint8',\n",
       " 'bd_stronghold_level': 'uint8',\n",
       " 'bd_training_hut_level': 'uint8',\n",
       " 'bd_warehouse_level': 'uint8',\n",
       " 'bd_watchtower_level': 'uint8',\n",
       " 'building_acceleration_add_value': 'uint32',\n",
       " 'building_acceleration_reduce_value': 'uint32',\n",
       " 'cavalry_add_value': 'uint32',\n",
       " 'cavalry_reduce_value': 'uint32',\n",
       " 'general_acceleration_add_value': 'uint32',\n",
       " 'general_acceleration_reduce_value': 'uint32',\n",
       " 'infantry_add_value': 'uint32',\n",
       " 'infantry_reduce_value': 'uint32',\n",
       " 'ivory_add_value': 'float32',\n",
       " 'ivory_reduce_value': 'float32',\n",
       " 'magic_add_value': 'float32',\n",
       " 'magic_reduce_value': 'float32',\n",
       " 'meat_add_value': 'float32',\n",
       " 'meat_reduce_value': 'float32',\n",
       " 'pay_count': 'uint8',\n",
       " 'pay_price': 'float32',\n",
       " 'prediction_pay_price': 'float32',\n",
       " 'pve_battle_count': 'uint16',\n",
       " 'pve_lanch_count': 'uint16',\n",
       " 'pve_win_count': 'uint16',\n",
       " 'pvp_battle_count': 'uint16',\n",
       " 'pvp_lanch_count': 'uint16',\n",
       " 'pvp_win_count': 'uint16',\n",
       " 'reaserch_acceleration_add_value': 'uint32',\n",
       " 'reaserch_acceleration_reduce_value': 'uint32',\n",
       " 'shaman_add_value': 'uint32',\n",
       " 'shaman_reduce_value': 'uint32',\n",
       " 'sr_alliance_march_speed_level': 'uint8',\n",
       " 'sr_cavalry_atk_level': 'uint8',\n",
       " 'sr_cavalry_def_level': 'uint8',\n",
       " 'sr_cavalry_hp_level': 'uint8',\n",
       " 'sr_cavalry_tier_2_level': 'uint8',\n",
       " 'sr_cavalry_tier_3_level': 'uint8',\n",
       " 'sr_cavalry_tier_4_level': 'uint8',\n",
       " 'sr_construction_speed_level': 'uint8',\n",
       " 'sr_gathering_hunter_buff_level': 'uint8',\n",
       " 'sr_gathering_march_speed_level': 'uint8',\n",
       " 'sr_guest_troop_capacity_level': 'uint8',\n",
       " 'sr_healing_space_level': 'uint8',\n",
       " 'sr_healing_speed_level': 'uint8',\n",
       " 'sr_hide_storage_level': 'uint8',\n",
       " 'sr_infantry_atk_level': 'uint8',\n",
       " 'sr_infantry_def_level': 'uint8',\n",
       " 'sr_infantry_hp_level': 'uint8',\n",
       " 'sr_infantry_tier_2_level': 'uint8',\n",
       " 'sr_infantry_tier_3_level': 'uint8',\n",
       " 'sr_infantry_tier_4_level': 'uint8',\n",
       " 'sr_march_size_level': 'uint8',\n",
       " 'sr_outpost_durability_level': 'uint8',\n",
       " 'sr_outpost_tier_2_level': 'uint8',\n",
       " 'sr_outpost_tier_3_level': 'uint8',\n",
       " 'sr_outpost_tier_4_level': 'uint8',\n",
       " 'sr_pvp_march_speed_level': 'uint8',\n",
       " 'sr_rss_a_gather_level': 'uint8',\n",
       " 'sr_rss_a_prod_levell': 'uint8',\n",
       " 'sr_rss_b_gather_level': 'uint8',\n",
       " 'sr_rss_b_prod_level': 'uint8',\n",
       " 'sr_rss_c_gather_level': 'uint8',\n",
       " 'sr_rss_c_prod_level': 'uint8',\n",
       " 'sr_rss_d_gather_level': 'uint8',\n",
       " 'sr_rss_d_prod_level': 'uint8',\n",
       " 'sr_rss_e_gather_level': 'uint8',\n",
       " 'sr_rss_e_prod_level': 'uint8',\n",
       " 'sr_rss_help_bonus_level': 'uint8',\n",
       " 'sr_scout_level': 'uint8',\n",
       " 'sr_shaman_atk_level': 'uint8',\n",
       " 'sr_shaman_def_level': 'uint8',\n",
       " 'sr_shaman_hp_level': 'uint8',\n",
       " 'sr_shaman_tier_2_level': 'uint8',\n",
       " 'sr_shaman_tier_3_level': 'uint8',\n",
       " 'sr_shaman_tier_4_level': 'uint8',\n",
       " 'sr_training_speed_level': 'uint8',\n",
       " 'sr_troop_attack_level': 'uint8',\n",
       " 'sr_troop_consumption_level': 'uint8',\n",
       " 'sr_troop_defense_level': 'uint8',\n",
       " 'sr_troop_load_level': 'uint8',\n",
       " 'stone_add_value': 'float32',\n",
       " 'stone_reduce_value': 'float32',\n",
       " 'training_acceleration_add_value': 'uint32',\n",
       " 'training_acceleration_reduce_value': 'uint32',\n",
       " 'treatment_acceleraion_add_value': 'uint16',\n",
       " 'treatment_acceleration_reduce_value': 'uint16',\n",
       " 'user_id': 'uint32',\n",
       " 'wood_add_value': 'float32',\n",
       " 'wood_reduce_value': 'float32',\n",
       " 'wound_cavalry_add_value': 'uint32',\n",
       " 'wound_cavalry_reduce_value': 'uint32',\n",
       " 'wound_infantry_add_value': 'uint32',\n",
       " 'wound_infantry_reduce_value': 'uint32',\n",
       " 'wound_shaman_add_value': 'uint32',\n",
       " 'wound_shaman_reduce_value': 'uint32'}"
      ]
     },
     "execution_count": 12,
     "metadata": {},
     "output_type": "execute_result"
    }
   ],
   "source": [
    "column_type"
   ]
  },
  {
   "cell_type": "code",
   "execution_count": 13,
   "metadata": {
    "ExecuteTime": {
     "end_time": "2018-08-16T02:38:49.225085Z",
     "start_time": "2018-08-16T02:38:48.976070Z"
    }
   },
   "outputs": [],
   "source": [
    "train_feat2=data_train.copy()"
   ]
  },
  {
   "cell_type": "code",
   "execution_count": 14,
   "metadata": {
    "ExecuteTime": {
     "end_time": "2018-08-16T02:38:49.273087Z",
     "start_time": "2018-08-16T02:38:49.226085Z"
    }
   },
   "outputs": [],
   "source": [
    "del data_train"
   ]
  },
  {
   "cell_type": "code",
   "execution_count": 15,
   "metadata": {
    "ExecuteTime": {
     "end_time": "2018-08-16T02:38:49.371093Z",
     "start_time": "2018-08-16T02:38:49.275087Z"
    }
   },
   "outputs": [
    {
     "data": {
      "text/plain": [
       "(2288007, 109)"
      ]
     },
     "execution_count": 15,
     "metadata": {},
     "output_type": "execute_result"
    }
   ],
   "source": [
    "train_feat2.shape"
   ]
  },
  {
   "cell_type": "code",
   "execution_count": 16,
   "metadata": {
    "ExecuteTime": {
     "end_time": "2018-08-16T02:38:49.917124Z",
     "start_time": "2018-08-16T02:38:49.372093Z"
    }
   },
   "outputs": [],
   "source": [
    "train_feat2['ivory_qua1']=train_feat2.ivory_add_value+train_feat2.ivory_reduce_value\n",
    "train_feat2['ivory_qua2']=train_feat2.ivory_add_value-train_feat2.ivory_reduce_value\n",
    "train_feat2['stone_qua1']=train_feat2.stone_add_value+train_feat2.stone_reduce_value\n",
    "train_feat2['stone_qua2']=train_feat2.stone_add_value-train_feat2.stone_reduce_value\n",
    "train_feat2['meat_qua1']=train_feat2.meat_add_value+train_feat2.meat_reduce_value\n",
    "train_feat2['meat_qua2']=train_feat2.meat_add_value-train_feat2.meat_reduce_value\n",
    "train_feat2['wood_qua1']=train_feat2.wood_add_value+train_feat2.wood_reduce_value\n",
    "train_feat2['wood_qua2']=train_feat2.wood_add_value-train_feat2.wood_reduce_value"
   ]
  },
  {
   "cell_type": "code",
   "execution_count": 17,
   "metadata": {
    "ExecuteTime": {
     "end_time": "2018-08-16T02:38:49.934125Z",
     "start_time": "2018-08-16T02:38:49.918124Z"
    }
   },
   "outputs": [],
   "source": [
    "text_def=[]\n",
    "for col in train_feat2.columns.values:\n",
    "     if 'def' in col:\n",
    "            text_def.append(col)\n",
    "text_def=[]\n",
    "for col in train_feat2.columns.values:\n",
    "     if 'def' in col:\n",
    "            text_def.append(col)\n",
    "text_troop=[]\n",
    "for col in train_feat2.columns.values:\n",
    "    if 'troop' in col :\n",
    "        text_troop.append(col)\n",
    "text_cavalry=[]\n",
    "for col in train_feat2.columns.values:\n",
    "    if 'sr_cavalry' in col :\n",
    "        text_cavalry.append(col) \n",
    "text_infantry=[]\n",
    "for col in train_feat2.columns.values:\n",
    "    if 'sr_infantry' in col :\n",
    "        text_infantry.append(col)        "
   ]
  },
  {
   "cell_type": "code",
   "execution_count": 18,
   "metadata": {
    "ExecuteTime": {
     "end_time": "2018-08-16T02:38:50.879179Z",
     "start_time": "2018-08-16T02:38:49.935125Z"
    }
   },
   "outputs": [],
   "source": [
    "text_shaman=[]\n",
    "for col in train_feat2.columns.values:\n",
    "    if 'sr_shaman' in col :\n",
    "        text_shaman.append(col)\n",
    "text_speed=[]\n",
    "for col in train_feat2.columns.values:\n",
    "    if 'speed' in col :\n",
    "        text_speed.append(col)\n",
    "train_feat2['def_qua1']=0.0\n",
    "for name in text_def:\n",
    "    train_feat2['def_qua1']+=train_feat2[name]\n",
    "train_feat2['cavalry_qua1']=0.0\n",
    "for name in text_cavalry:\n",
    "    train_feat2['cavalry_qua1']+=train_feat2[name]\n",
    "train_feat2['infantry_qua1']=0.0\n",
    "for name in text_infantry:\n",
    "    train_feat2['infantry_qua1']+=train_feat2[name] \n",
    "train_feat2['shaman_qua1']=0.0\n",
    "for name in text_shaman:\n",
    "    train_feat2['shaman_qua1']+=train_feat2[name]\n",
    "train_feat2['speed_qua1']=0.0\n",
    "for name in text_speed:\n",
    "    train_feat2['speed_qua1']+=train_feat2[name]\n",
    "train_feat2['troop_qua1']=0.0\n",
    "for name in text_troop:\n",
    "    train_feat2['troop_qua1']+=train_feat2[name]\n"
   ]
  },
  {
   "cell_type": "code",
   "execution_count": 19,
   "metadata": {
    "ExecuteTime": {
     "end_time": "2018-08-16T02:38:51.156195Z",
     "start_time": "2018-08-16T02:38:50.880179Z"
    }
   },
   "outputs": [],
   "source": [
    "text_acceleration=[]\n",
    "for col in train_feat2.columns.values:\n",
    "    if 'acceleration' in col :\n",
    "        text_acceleration.append(col)\n",
    "text_acceleration_add=[]\n",
    "for col in train_feat2.columns.values:\n",
    "    if 'acceleration_add' in col :\n",
    "        text_speed.append(col)\n",
    "text_acceleration_reduce=[]\n",
    "for col in train_feat2.columns.values:\n",
    "    if 'acceleration_reduce' in col :\n",
    "        text_speed.append(col) \n",
    "        \n",
    "train_feat2['acceleration_qua1']=0.0\n",
    "for name in text_acceleration:\n",
    "    train_feat2['acceleration_qua1']+=train_feat2[name]\n",
    "train_feat2['acceleration_add_qua1']=0.0\n",
    "for name in text_acceleration_add:\n",
    "    train_feat2['acceleration_add_qua1']+=train_feat2[name]\n",
    "train_feat2['acceleration_reduce']=0.0\n",
    "for name in text_acceleration_reduce:\n",
    "    train_feat2['acceleration_reduce_qua1']+=train_feat2[name]    \n",
    "        "
   ]
  },
  {
   "cell_type": "code",
   "execution_count": 20,
   "metadata": {
    "ExecuteTime": {
     "end_time": "2018-08-16T02:38:51.160195Z",
     "start_time": "2018-08-16T02:38:51.157195Z"
    }
   },
   "outputs": [],
   "source": [
    "# train_feat2['price_per_count_qua1']=train_feat2.pay_price / train_feat2.pay_count"
   ]
  },
  {
   "cell_type": "code",
   "execution_count": 21,
   "metadata": {
    "ExecuteTime": {
     "end_time": "2018-08-16T02:38:51.701226Z",
     "start_time": "2018-08-16T02:38:51.162195Z"
    }
   },
   "outputs": [],
   "source": [
    "train_feat2['feat_class']=0\n",
    "train_feat2.loc[(train_feat2['pay_price']==0) & (train_feat2['prediction_pay_price']==0),['feat_class']]=0"
   ]
  },
  {
   "cell_type": "code",
   "execution_count": 22,
   "metadata": {
    "ExecuteTime": {
     "end_time": "2018-08-16T02:38:51.785231Z",
     "start_time": "2018-08-16T02:38:51.702226Z"
    }
   },
   "outputs": [],
   "source": [
    "train_feat2.loc[(train_feat2['pay_price']>0) & \\\n",
    "                (train_feat2['prediction_pay_price']==train_feat2['pay_price']),['feat_class']]=1"
   ]
  },
  {
   "cell_type": "code",
   "execution_count": 23,
   "metadata": {
    "ExecuteTime": {
     "end_time": "2018-08-16T02:38:51.865236Z",
     "start_time": "2018-08-16T02:38:51.786231Z"
    }
   },
   "outputs": [],
   "source": [
    "train_feat2.loc[(train_feat2['pay_price']==0) & (train_feat2['prediction_pay_price']>0),['feat_class']]=2"
   ]
  },
  {
   "cell_type": "code",
   "execution_count": 24,
   "metadata": {
    "ExecuteTime": {
     "end_time": "2018-08-16T02:38:51.949240Z",
     "start_time": "2018-08-16T02:38:51.866236Z"
    }
   },
   "outputs": [],
   "source": [
    "train_feat2.loc[(train_feat2['pay_price']>0) & \\\n",
    "                (train_feat2['prediction_pay_price']>train_feat2['pay_price']),['feat_class']]=3"
   ]
  },
  {
   "cell_type": "code",
   "execution_count": 25,
   "metadata": {
    "ExecuteTime": {
     "end_time": "2018-08-16T02:38:52.135251Z",
     "start_time": "2018-08-16T02:38:51.950240Z"
    }
   },
   "outputs": [
    {
     "data": {
      "text/html": [
       "<div>\n",
       "<style scoped>\n",
       "    .dataframe tbody tr th:only-of-type {\n",
       "        vertical-align: middle;\n",
       "    }\n",
       "\n",
       "    .dataframe tbody tr th {\n",
       "        vertical-align: top;\n",
       "    }\n",
       "\n",
       "    .dataframe thead th {\n",
       "        text-align: right;\n",
       "    }\n",
       "</style>\n",
       "<table border=\"1\" class=\"dataframe\">\n",
       "  <thead>\n",
       "    <tr style=\"text-align: right;\">\n",
       "      <th></th>\n",
       "      <th>pay_price</th>\n",
       "    </tr>\n",
       "    <tr>\n",
       "      <th>feat_class</th>\n",
       "      <th></th>\n",
       "    </tr>\n",
       "  </thead>\n",
       "  <tbody>\n",
       "    <tr>\n",
       "      <th>0</th>\n",
       "      <td>2242019</td>\n",
       "    </tr>\n",
       "    <tr>\n",
       "      <th>1</th>\n",
       "      <td>30130</td>\n",
       "    </tr>\n",
       "    <tr>\n",
       "      <th>2</th>\n",
       "      <td>4549</td>\n",
       "    </tr>\n",
       "    <tr>\n",
       "      <th>3</th>\n",
       "      <td>11309</td>\n",
       "    </tr>\n",
       "  </tbody>\n",
       "</table>\n",
       "</div>"
      ],
      "text/plain": [
       "            pay_price\n",
       "feat_class           \n",
       "0             2242019\n",
       "1               30130\n",
       "2                4549\n",
       "3               11309"
      ]
     },
     "execution_count": 25,
     "metadata": {},
     "output_type": "execute_result"
    }
   ],
   "source": [
    "train_feat2[['feat_class','pay_price']].groupby(by='feat_class').agg('count')"
   ]
  },
  {
   "cell_type": "code",
   "execution_count": null,
   "metadata": {},
   "outputs": [],
   "source": []
  },
  {
   "cell_type": "code",
   "execution_count": 26,
   "metadata": {
    "ExecuteTime": {
     "end_time": "2018-08-16T02:38:57.687569Z",
     "start_time": "2018-08-16T02:38:52.137251Z"
    }
   },
   "outputs": [
    {
     "name": "stderr",
     "output_type": "stream",
     "text": [
      "D:\\ProgramData\\Anaconda3\\lib\\site-packages\\sklearn\\cross_validation.py:41: DeprecationWarning: This module was deprecated in version 0.18 in favor of the model_selection module into which all the refactored classes and functions are moved. Also note that the interface of the new CV iterators are different from that of this module. This module will be removed in 0.20.\n",
      "  \"This module will be removed in 0.20.\", DeprecationWarning)\n",
      "D:\\ProgramData\\Anaconda3\\lib\\site-packages\\sklearn\\grid_search.py:42: DeprecationWarning: This module was deprecated in version 0.18 in favor of the model_selection module into which all the refactored classes and functions are moved. This module will be removed in 0.20.\n",
      "  DeprecationWarning)\n"
     ]
    }
   ],
   "source": [
    "import lightgbm as lgb\n",
    "from sklearn.metrics import classification_report,accuracy_score,confusion_matrix\n",
    "from sklearn.cross_validation import cross_val_score,train_test_split,StratifiedKFold\n",
    "from sklearn.grid_search import GridSearchCV"
   ]
  },
  {
   "cell_type": "code",
   "execution_count": 27,
   "metadata": {
    "ExecuteTime": {
     "end_time": "2018-08-16T02:38:57.693569Z",
     "start_time": "2018-08-16T02:38:57.688569Z"
    }
   },
   "outputs": [],
   "source": [
    "# data_x=train_feat2.drop(labels=['user_id','register_time','prediction_pay_price','feat_class'],axis=1)\n",
    "# data_y=train_feat2.feat_class\n",
    "\n",
    "\n",
    "\n",
    "# X_train,X_test,y_train,y_test=train_test_split(data_x,data_y,random_state=17)\n",
    "\n",
    "# estimator = lgb.LGBMClassifier(\n",
    "#         boosting_type='gbdt', objective=\"multiclass\", nthread=4, seed=42,n_classes=4)\n",
    "\n",
    "# params = {\n",
    "#         #\"reg_alpha\": [0.3, 0.7, 0.9, 1.1],\n",
    "#         \"learning_rate\": [0.01, 0.1],\n",
    "# }\n",
    "\n",
    "# grid_search=GridSearchCV(estimator,params,scoring='accuracy',verbose=50,cv=StratifiedKFold(y_train,n_folds=5))\n",
    "# grid_search.fit(X_train,y_train)"
   ]
  },
  {
   "cell_type": "code",
   "execution_count": 28,
   "metadata": {
    "ExecuteTime": {
     "end_time": "2018-08-16T02:38:57.837577Z",
     "start_time": "2018-08-16T02:38:57.695569Z"
    }
   },
   "outputs": [],
   "source": [
    "# predictions=grid_search.predict(X_test)\n",
    "# print (u'准确率',accuracy_score(y_test,predictions))\n",
    "# print (u'混淆矩阵',confusion_matrix(y_test,predictions))\n",
    "# print (u'分类报告',classification_report(y_test,predictions))"
   ]
  },
  {
   "cell_type": "code",
   "execution_count": 29,
   "metadata": {
    "ExecuteTime": {
     "end_time": "2018-08-16T02:39:00.173711Z",
     "start_time": "2018-08-16T02:38:57.839577Z"
    }
   },
   "outputs": [
    {
     "name": "stdout",
     "output_type": "stream",
     "text": [
      "Using matplotlib backend: TkAgg\n"
     ]
    }
   ],
   "source": [
    "from matplotlib import pyplot as plt\n",
    "plt.style.use(style='ggplot')\n",
    "plt.rcParams['figure.figsize']=(20,10)\n",
    "%matplotlib"
   ]
  },
  {
   "cell_type": "code",
   "execution_count": 30,
   "metadata": {
    "ExecuteTime": {
     "end_time": "2018-08-16T02:39:01.017759Z",
     "start_time": "2018-08-16T02:39:00.175711Z"
    }
   },
   "outputs": [],
   "source": [
    "data_7nopay=train_feat2[(train_feat2['feat_class']==0) | (train_feat2['feat_class']==2)]"
   ]
  },
  {
   "cell_type": "code",
   "execution_count": 31,
   "metadata": {
    "ExecuteTime": {
     "end_time": "2018-08-16T02:39:01.154767Z",
     "start_time": "2018-08-16T02:39:01.019759Z"
    }
   },
   "outputs": [
    {
     "name": "stderr",
     "output_type": "stream",
     "text": [
      "D:\\ProgramData\\Anaconda3\\lib\\site-packages\\pandas\\core\\indexing.py:543: SettingWithCopyWarning: \n",
      "A value is trying to be set on a copy of a slice from a DataFrame.\n",
      "Try using .loc[row_indexer,col_indexer] = value instead\n",
      "\n",
      "See the caveats in the documentation: http://pandas.pydata.org/pandas-docs/stable/indexing.html#indexing-view-versus-copy\n",
      "  self.obj[item] = s\n"
     ]
    }
   ],
   "source": [
    "data_7nopay.loc[(data_7nopay['feat_class']==2),['feat_class']]=1"
   ]
  },
  {
   "cell_type": "code",
   "execution_count": 32,
   "metadata": {
    "ExecuteTime": {
     "end_time": "2018-08-16T02:39:01.684797Z",
     "start_time": "2018-08-16T02:39:01.155767Z"
    }
   },
   "outputs": [],
   "source": [
    "data_7nopay_x=data_7nopay.drop(labels=['user_id','register_time','prediction_pay_price','feat_class'],axis=1)\n",
    "data_7nopay_y=data_7nopay.feat_class"
   ]
  },
  {
   "cell_type": "code",
   "execution_count": 33,
   "metadata": {
    "ExecuteTime": {
     "end_time": "2018-08-16T02:39:01.691798Z",
     "start_time": "2018-08-16T02:39:01.685797Z"
    }
   },
   "outputs": [
    {
     "data": {
      "text/plain": [
       "0          0\n",
       "1          0\n",
       "2          0\n",
       "3          0\n",
       "4          0\n",
       "5          0\n",
       "6          0\n",
       "7          0\n",
       "8          0\n",
       "9          0\n",
       "10         0\n",
       "11         0\n",
       "12         0\n",
       "13         0\n",
       "14         0\n",
       "15         0\n",
       "16         0\n",
       "17         0\n",
       "18         0\n",
       "19         0\n",
       "20         0\n",
       "21         0\n",
       "22         0\n",
       "23         0\n",
       "24         0\n",
       "26         0\n",
       "27         0\n",
       "28         0\n",
       "29         0\n",
       "30         0\n",
       "          ..\n",
       "2287976    0\n",
       "2287977    0\n",
       "2287978    0\n",
       "2287979    0\n",
       "2287980    0\n",
       "2287981    0\n",
       "2287982    0\n",
       "2287983    0\n",
       "2287985    0\n",
       "2287986    0\n",
       "2287987    0\n",
       "2287988    0\n",
       "2287989    0\n",
       "2287990    0\n",
       "2287991    0\n",
       "2287992    0\n",
       "2287993    0\n",
       "2287994    0\n",
       "2287995    0\n",
       "2287996    0\n",
       "2287997    0\n",
       "2287998    0\n",
       "2287999    0\n",
       "2288000    0\n",
       "2288001    0\n",
       "2288002    0\n",
       "2288003    0\n",
       "2288004    0\n",
       "2288005    0\n",
       "2288006    0\n",
       "Name: feat_class, Length: 2246568, dtype: int64"
      ]
     },
     "execution_count": 33,
     "metadata": {},
     "output_type": "execute_result"
    }
   ],
   "source": [
    "data_7nopay_y"
   ]
  },
  {
   "cell_type": "code",
   "execution_count": 34,
   "metadata": {
    "ExecuteTime": {
     "end_time": "2018-08-16T02:39:01.789803Z",
     "start_time": "2018-08-16T02:39:01.692798Z"
    }
   },
   "outputs": [
    {
     "data": {
      "text/plain": [
       "(2246568, 123)"
      ]
     },
     "execution_count": 34,
     "metadata": {},
     "output_type": "execute_result"
    }
   ],
   "source": [
    "data_7nopay_x.shape"
   ]
  },
  {
   "cell_type": "code",
   "execution_count": 35,
   "metadata": {
    "ExecuteTime": {
     "end_time": "2018-08-16T02:39:01.911810Z",
     "start_time": "2018-08-16T02:39:01.791803Z"
    }
   },
   "outputs": [
    {
     "data": {
      "text/plain": [
       "array([0, 1], dtype=int64)"
      ]
     },
     "execution_count": 35,
     "metadata": {},
     "output_type": "execute_result"
    }
   ],
   "source": [
    "data_7nopay_y.unique()"
   ]
  },
  {
   "cell_type": "code",
   "execution_count": 36,
   "metadata": {
    "ExecuteTime": {
     "end_time": "2018-08-16T02:39:04.876980Z",
     "start_time": "2018-08-16T02:39:01.912810Z"
    }
   },
   "outputs": [],
   "source": [
    "X_train,X_test,y_train,y_test=train_test_split(data_7nopay_x,data_7nopay_y,random_state=17,test_size=0.2)"
   ]
  },
  {
   "cell_type": "code",
   "execution_count": 37,
   "metadata": {
    "ExecuteTime": {
     "end_time": "2018-08-16T02:39:04.882980Z",
     "start_time": "2018-08-16T02:39:04.877980Z"
    }
   },
   "outputs": [
    {
     "data": {
      "text/plain": [
       "(1797254, 123)"
      ]
     },
     "execution_count": 37,
     "metadata": {},
     "output_type": "execute_result"
    }
   ],
   "source": [
    "X_train.shape"
   ]
  },
  {
   "cell_type": "code",
   "execution_count": null,
   "metadata": {
    "ExecuteTime": {
     "end_time": "2018-08-16T02:51:17.415148Z",
     "start_time": "2018-08-16T02:51:17.409148Z"
    }
   },
   "outputs": [],
   "source": []
  },
  {
   "cell_type": "code",
   "execution_count": 38,
   "metadata": {
    "ExecuteTime": {
     "end_time": "2018-08-16T02:39:05.090992Z",
     "start_time": "2018-08-16T02:39:04.884980Z"
    }
   },
   "outputs": [],
   "source": [
    "#####Random forest 1"
   ]
  },
  {
   "cell_type": "code",
   "execution_count": 51,
   "metadata": {
    "ExecuteTime": {
     "end_time": "2018-08-16T02:54:01.166514Z",
     "start_time": "2018-08-16T02:54:01.154514Z"
    }
   },
   "outputs": [],
   "source": [
    "from hyperopt import hp, fmin, rand, tpe, space_eval\n",
    "from sklearn.ensemble import RandomForestClassifier\n",
    "def objective(params):\n",
    "    params = {'n_estimators': int(params['n_estimators']), 'max_depth': int(params['max_depth'])}\n",
    "    clf = RandomForestClassifier(n_jobs=4, class_weight='balanced', **params)\n",
    "    score = cross_val_score(clf, X_train, y=y_train, scoring='f1', cv=StratifiedKFold(y=y_train)).mean()\n",
    "    print(\"F1 {:.3f} params {}\".format(score, params))\n",
    "    return score\n",
    "\n",
    "space = {\n",
    "    'n_estimators': hp.quniform('n_estimators', 50, 500, 50),\n",
    "    'max_depth': hp.quniform('max_depth', 1, 10, 1),\n",
    "}\n",
    "\n"
   ]
  },
  {
   "cell_type": "code",
   "execution_count": null,
   "metadata": {
    "ExecuteTime": {
     "start_time": "2018-08-16T02:54:01.989Z"
    }
   },
   "outputs": [
    {
     "name": "stdout",
     "output_type": "stream",
     "text": [
      "F1 0.039 params {'n_estimators': 250, 'max_depth': 5}\n",
      "F1 0.038 params {'n_estimators': 400, 'max_depth': 3}\n"
     ]
    }
   ],
   "source": [
    "best = fmin(fn=objective,\n",
    "            space=space,\n",
    "            algo=tpe.suggest,\n",
    "            max_evals=10)"
   ]
  },
  {
   "cell_type": "code",
   "execution_count": null,
   "metadata": {},
   "outputs": [],
   "source": [
    "############## lgb 1"
   ]
  },
  {
   "cell_type": "code",
   "execution_count": null,
   "metadata": {
    "ExecuteTime": {
     "end_time": "2018-08-15T03:04:01.998068Z",
     "start_time": "2018-08-15T03:04:01.984067Z"
    }
   },
   "outputs": [],
   "source": [
    "# params={\n",
    "#     'boosting_type':'gbdt',\n",
    "#     'objective':'binary',\n",
    "#     #'metric':'rmse',\n",
    "#     #'min_child_weigth':3,\n",
    "#     #'num_leaves':2**5,\n",
    "#     #'lambda_l2':10,\n",
    "#     #'subsample':0.7,\n",
    "#     #'colsample_bytree':0.7,\n",
    "#     #'colsample_bylevel':0.7,\n",
    "#     'learning_rate':0.05,\n",
    "#     'tree_method':'exact',\n",
    "#     'seed':2017,\n",
    "#     'nthread':4,\n",
    "#     'silent':True\n",
    "# }\n",
    "# train=lgb.Dataset(X_train,y_train)\n",
    "# test=lgb.Dataset(X_test,label=y_test,reference=train)\n",
    "\n",
    "# n=1000\n",
    "# gbm=lgb.train(params=params,\n",
    "#              train_set=train,\n",
    "#              num_boost_round=n,\n",
    "#              verbose_eval=50,\n",
    "#              #early_stopping_rounds=50,\n",
    "#              valid_sets=[train,test])"
   ]
  },
  {
   "cell_type": "code",
   "execution_count": null,
   "metadata": {},
   "outputs": [],
   "source": [
    "######## lgb2"
   ]
  },
  {
   "cell_type": "code",
   "execution_count": null,
   "metadata": {
    "ExecuteTime": {
     "end_time": "2018-08-15T03:08:56.186514Z",
     "start_time": "2018-08-15T03:08:24.548705Z"
    }
   },
   "outputs": [],
   "source": [
    "# params={\n",
    "#     'boosting_type':'gbdt',\n",
    "#     'objective':'binary',\n",
    "#     #'metric':'rmse',\n",
    "#     #'min_child_weigth':3,\n",
    "#     #'num_leaves':2**5,\n",
    "#     #'lambda_l2':10,\n",
    "#     #'subsample':0.7,\n",
    "#     #'colsample_bytree':0.7,\n",
    "#     #'colsample_bylevel':0.7,\n",
    "#     'learning_rate':0.05,\n",
    "#     'tree_method':'exact',\n",
    "#     'seed':2017,\n",
    "#     'nthread':4,\n",
    "#     'silent':True\n",
    "# }\n",
    "# train=lgb.Dataset(X_train,y_train)\n",
    "# test=lgb.Dataset(X_test,label=y_test,reference=train)\n",
    "\n",
    "\n",
    "# lgb2 =lgb.LGBMClassifier( \n",
    "#     boosting_type='gbdt',\n",
    "#     objective='binary',)\n",
    "\n",
    "# lgb2.fit(X_train,y_train)"
   ]
  },
  {
   "cell_type": "code",
   "execution_count": null,
   "metadata": {
    "ExecuteTime": {
     "end_time": "2018-08-15T03:11:43.796529Z",
     "start_time": "2018-08-15T03:11:41.691408Z"
    },
    "scrolled": true
   },
   "outputs": [],
   "source": [
    "# predictions=lgb2.predict(X_test)\n",
    "# print (u'准确率',accuracy_score(y_test,predictions))\n",
    "# print (u'混淆矩阵',confusion_matrix(y_test,predictions))\n",
    "# print (u'分类报告',classification_report(y_test,predictions))\n",
    "\n",
    "# print (u'准确率',accuracy_score(y_test,predictions))\n",
    "# print (u'混淆矩阵',confusion_matrix(y_test,predictions))\n",
    "# print (u'分类报告',classification_report(y_test,predictions))"
   ]
  },
  {
   "cell_type": "code",
   "execution_count": null,
   "metadata": {
    "ExecuteTime": {
     "end_time": "2018-08-14T14:14:27.956363Z",
     "start_time": "2018-08-14T14:14:27.136317Z"
    }
   },
   "outputs": [],
   "source": [
    "# from sklearn.linear_model.logistic import LogisticRegression\n",
    "\n",
    "# params2 = {\n",
    "#         #\"reg_alpha\": [0.3, 0.7, 0.9, 1.1],\n",
    "#         'C':(0.1,1,10),\n",
    "# }\n",
    "\n",
    "# estimator2=LogisticRegression()\n",
    "\n",
    "# grid_search=GridSearchCV(estimator2,params2,n_jobs=-4,verbose=50,scoring=\"accuracy\",cv=StratifiedKFold(y_train,n_folds=5))\n",
    "# grid_search.fit(X_train,y_train)\n",
    "\n",
    "# predictions=grid_search.predict(X_test)\n",
    "# print (u'准确率',accuracy_score(y_test,predictions))\n",
    "# print (u'混淆矩阵',confusion_matrix(y_test,predictions))\n",
    "# print (u'分类报告',classification_report(y_test,predictions))"
   ]
  },
  {
   "cell_type": "code",
   "execution_count": null,
   "metadata": {},
   "outputs": [],
   "source": []
  }
 ],
 "metadata": {
  "kernelspec": {
   "display_name": "Python 3",
   "language": "python",
   "name": "python3"
  },
  "language_info": {
   "codemirror_mode": {
    "name": "ipython",
    "version": 3
   },
   "file_extension": ".py",
   "mimetype": "text/x-python",
   "name": "python",
   "nbconvert_exporter": "python",
   "pygments_lexer": "ipython3",
   "version": "3.6.3"
  }
 },
 "nbformat": 4,
 "nbformat_minor": 2
}
