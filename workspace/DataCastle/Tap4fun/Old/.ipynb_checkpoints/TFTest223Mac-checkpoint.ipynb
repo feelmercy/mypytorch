{
 "cells": [
  {
   "cell_type": "code",
   "execution_count": 1,
   "metadata": {},
   "outputs": [],
   "source": [
    "import pandas as pd\n",
    "import numpy as np"
   ]
  },
  {
   "cell_type": "code",
   "execution_count": 2,
   "metadata": {},
   "outputs": [],
   "source": [
    "df_train=pd.read_csv('/Users/feelmercy/Documents/DataSet/Tap4Fun/tap_fun_train.csv',nrows=5)"
   ]
  },
  {
   "cell_type": "code",
   "execution_count": 3,
   "metadata": {},
   "outputs": [
    {
     "name": "stdout",
     "output_type": "stream",
     "text": [
      "<class 'pandas.core.frame.DataFrame'>\n",
      "RangeIndex: 5 entries, 0 to 4\n",
      "Columns: 109 entries, user_id to prediction_pay_price\n",
      "dtypes: float64(13), int64(95), object(1)\n",
      "memory usage: 4.7 KB\n"
     ]
    }
   ],
   "source": [
    "df_train.info(memory_usage='deep')"
   ]
  },
  {
   "cell_type": "code",
   "execution_count": 4,
   "metadata": {},
   "outputs": [],
   "source": [
    "c_int=df_train.select_dtypes(include=['int64']).apply(pd.to_numeric,downcast='unsigned')\n",
    "c_float=df_train.select_dtypes(include=['float']).apply(pd.to_numeric,downcast='float')"
   ]
  },
  {
   "cell_type": "code",
   "execution_count": 5,
   "metadata": {},
   "outputs": [],
   "source": [
    "o_df=df_train.copy()"
   ]
  },
  {
   "cell_type": "code",
   "execution_count": 6,
   "metadata": {},
   "outputs": [],
   "source": [
    "o_df[c_int.columns]=c_int\n",
    "o_df[c_float.columns]=c_float"
   ]
  },
  {
   "cell_type": "code",
   "execution_count": 7,
   "metadata": {},
   "outputs": [],
   "source": [
    "dtypes=o_df.dtypes\n",
    "dtypes_col=dtypes.index\n",
    "dtypes_type=[i.name for i in dtypes.values]\n",
    "column_type=dict(zip(dtypes_col,dtypes_type))"
   ]
  },
  {
   "cell_type": "code",
   "execution_count": 8,
   "metadata": {},
   "outputs": [
    {
     "data": {
      "text/plain": [
       "{'avg_online_minutes': 'float32',\n",
       " 'bd_barrack_level': 'uint8',\n",
       " 'bd_dolmen_level': 'uint8',\n",
       " 'bd_guest_cavern_level': 'uint8',\n",
       " 'bd_hall_of_war_level': 'uint8',\n",
       " 'bd_healing_lodge_level': 'uint8',\n",
       " 'bd_healing_spring_level': 'uint8',\n",
       " 'bd_hero_gacha_level': 'uint8',\n",
       " 'bd_hero_pve_level': 'uint8',\n",
       " 'bd_hero_strengthen_level': 'uint8',\n",
       " 'bd_magic_coin_tree_level': 'uint8',\n",
       " 'bd_market_level': 'uint8',\n",
       " 'bd_outpost_portal_level': 'uint8',\n",
       " 'bd_stronghold_level': 'uint8',\n",
       " 'bd_training_hut_level': 'uint8',\n",
       " 'bd_warehouse_level': 'uint8',\n",
       " 'bd_watchtower_level': 'uint8',\n",
       " 'building_acceleration_add_value': 'uint8',\n",
       " 'building_acceleration_reduce_value': 'uint8',\n",
       " 'cavalry_add_value': 'uint8',\n",
       " 'cavalry_reduce_value': 'uint8',\n",
       " 'general_acceleration_add_value': 'uint8',\n",
       " 'general_acceleration_reduce_value': 'uint8',\n",
       " 'infantry_add_value': 'uint8',\n",
       " 'infantry_reduce_value': 'uint8',\n",
       " 'ivory_add_value': 'float32',\n",
       " 'ivory_reduce_value': 'float32',\n",
       " 'magic_add_value': 'float32',\n",
       " 'magic_reduce_value': 'float32',\n",
       " 'meat_add_value': 'float32',\n",
       " 'meat_reduce_value': 'float32',\n",
       " 'pay_count': 'uint8',\n",
       " 'pay_price': 'float32',\n",
       " 'prediction_pay_price': 'float32',\n",
       " 'pve_battle_count': 'uint8',\n",
       " 'pve_lanch_count': 'uint8',\n",
       " 'pve_win_count': 'uint8',\n",
       " 'pvp_battle_count': 'uint8',\n",
       " 'pvp_lanch_count': 'uint8',\n",
       " 'pvp_win_count': 'uint8',\n",
       " 'reaserch_acceleration_add_value': 'uint8',\n",
       " 'reaserch_acceleration_reduce_value': 'uint8',\n",
       " 'register_time': 'object',\n",
       " 'shaman_add_value': 'uint8',\n",
       " 'shaman_reduce_value': 'uint8',\n",
       " 'sr_alliance_march_speed_level': 'uint8',\n",
       " 'sr_cavalry_atk_level': 'uint8',\n",
       " 'sr_cavalry_def_level': 'uint8',\n",
       " 'sr_cavalry_hp_level': 'uint8',\n",
       " 'sr_cavalry_tier_2_level': 'uint8',\n",
       " 'sr_cavalry_tier_3_level': 'uint8',\n",
       " 'sr_cavalry_tier_4_level': 'uint8',\n",
       " 'sr_construction_speed_level': 'uint8',\n",
       " 'sr_gathering_hunter_buff_level': 'uint8',\n",
       " 'sr_gathering_march_speed_level': 'uint8',\n",
       " 'sr_guest_troop_capacity_level': 'uint8',\n",
       " 'sr_healing_space_level': 'uint8',\n",
       " 'sr_healing_speed_level': 'uint8',\n",
       " 'sr_hide_storage_level': 'uint8',\n",
       " 'sr_infantry_atk_level': 'uint8',\n",
       " 'sr_infantry_def_level': 'uint8',\n",
       " 'sr_infantry_hp_level': 'uint8',\n",
       " 'sr_infantry_tier_2_level': 'uint8',\n",
       " 'sr_infantry_tier_3_level': 'uint8',\n",
       " 'sr_infantry_tier_4_level': 'uint8',\n",
       " 'sr_march_size_level': 'uint8',\n",
       " 'sr_outpost_durability_level': 'uint8',\n",
       " 'sr_outpost_tier_2_level': 'uint8',\n",
       " 'sr_outpost_tier_3_level': 'uint8',\n",
       " 'sr_outpost_tier_4_level': 'uint8',\n",
       " 'sr_pvp_march_speed_level': 'uint8',\n",
       " 'sr_rss_a_gather_level': 'uint8',\n",
       " 'sr_rss_a_prod_levell': 'uint8',\n",
       " 'sr_rss_b_gather_level': 'uint8',\n",
       " 'sr_rss_b_prod_level': 'uint8',\n",
       " 'sr_rss_c_gather_level': 'uint8',\n",
       " 'sr_rss_c_prod_level': 'uint8',\n",
       " 'sr_rss_d_gather_level': 'uint8',\n",
       " 'sr_rss_d_prod_level': 'uint8',\n",
       " 'sr_rss_e_gather_level': 'uint8',\n",
       " 'sr_rss_e_prod_level': 'uint8',\n",
       " 'sr_rss_help_bonus_level': 'uint8',\n",
       " 'sr_scout_level': 'uint8',\n",
       " 'sr_shaman_atk_level': 'uint8',\n",
       " 'sr_shaman_def_level': 'uint8',\n",
       " 'sr_shaman_hp_level': 'uint8',\n",
       " 'sr_shaman_tier_2_level': 'uint8',\n",
       " 'sr_shaman_tier_3_level': 'uint8',\n",
       " 'sr_shaman_tier_4_level': 'uint8',\n",
       " 'sr_training_speed_level': 'uint8',\n",
       " 'sr_troop_attack_level': 'uint8',\n",
       " 'sr_troop_consumption_level': 'uint8',\n",
       " 'sr_troop_defense_level': 'uint8',\n",
       " 'sr_troop_load_level': 'uint8',\n",
       " 'stone_add_value': 'float32',\n",
       " 'stone_reduce_value': 'float32',\n",
       " 'training_acceleration_add_value': 'uint8',\n",
       " 'training_acceleration_reduce_value': 'uint8',\n",
       " 'treatment_acceleraion_add_value': 'uint8',\n",
       " 'treatment_acceleration_reduce_value': 'uint8',\n",
       " 'user_id': 'uint16',\n",
       " 'wood_add_value': 'float32',\n",
       " 'wood_reduce_value': 'float32',\n",
       " 'wound_cavalry_add_value': 'uint8',\n",
       " 'wound_cavalry_reduce_value': 'uint8',\n",
       " 'wound_infantry_add_value': 'uint8',\n",
       " 'wound_infantry_reduce_value': 'uint8',\n",
       " 'wound_shaman_add_value': 'uint8',\n",
       " 'wound_shaman_reduce_value': 'uint8'}"
      ]
     },
     "execution_count": 8,
     "metadata": {},
     "output_type": "execute_result"
    }
   ],
   "source": [
    "column_type"
   ]
  },
  {
   "cell_type": "code",
   "execution_count": 9,
   "metadata": {},
   "outputs": [
    {
     "data": {
      "text/plain": [
       "'object'"
      ]
     },
     "execution_count": 9,
     "metadata": {},
     "output_type": "execute_result"
    }
   ],
   "source": [
    "column_type.pop('register_time')"
   ]
  },
  {
   "cell_type": "code",
   "execution_count": 10,
   "metadata": {},
   "outputs": [],
   "source": [
    "data_train=pd.read_csv('/Users/feelmercy/Documents/DataSet/Tap4Fun/tap_fun_train.csv',\n",
    "                      dtype=column_type,parse_dates=['register_time'],infer_datetime_format=True)"
   ]
  },
  {
   "cell_type": "code",
   "execution_count": 11,
   "metadata": {},
   "outputs": [
    {
     "name": "stdout",
     "output_type": "stream",
     "text": [
      "<class 'pandas.core.frame.DataFrame'>\n",
      "RangeIndex: 2288007 entries, 0 to 2288006\n",
      "Columns: 109 entries, user_id to prediction_pay_price\n",
      "dtypes: datetime64[ns](1), float32(13), uint16(1), uint8(94)\n",
      "memory usage: 340.4 MB\n"
     ]
    }
   ],
   "source": [
    "data_train.info(memory_usage='deep')"
   ]
  },
  {
   "cell_type": "code",
   "execution_count": 12,
   "metadata": {},
   "outputs": [],
   "source": [
    "data_test=pd.read_csv('/Users/feelmercy/Documents/DataSet/Tap4Fun/tap_fun_test.csv',\n",
    "                      dtype=column_type,parse_dates=['register_time'],infer_datetime_format=True)"
   ]
  },
  {
   "cell_type": "code",
   "execution_count": 13,
   "metadata": {},
   "outputs": [],
   "source": [
    "#data_test.info(memory_usage='deep')"
   ]
  },
  {
   "cell_type": "code",
   "execution_count": 14,
   "metadata": {},
   "outputs": [],
   "source": [
    "train_feat=data_train\n",
    "test_feat=data_test\n"
   ]
  },
  {
   "cell_type": "code",
   "execution_count": 15,
   "metadata": {},
   "outputs": [
    {
     "data": {
      "text/plain": [
       "(2288007, 109)"
      ]
     },
     "execution_count": 15,
     "metadata": {},
     "output_type": "execute_result"
    }
   ],
   "source": [
    "train_feat.shape"
   ]
  },
  {
   "cell_type": "code",
   "execution_count": 16,
   "metadata": {},
   "outputs": [],
   "source": [
    "#train_feat=train_feat.drop(['prediction_pay_price'],axis=1)"
   ]
  },
  {
   "cell_type": "code",
   "execution_count": 17,
   "metadata": {},
   "outputs": [
    {
     "data": {
      "text/plain": [
       "(2288007, 109)"
      ]
     },
     "execution_count": 17,
     "metadata": {},
     "output_type": "execute_result"
    }
   ],
   "source": [
    "train_feat.shape"
   ]
  },
  {
   "cell_type": "code",
   "execution_count": 18,
   "metadata": {},
   "outputs": [
    {
     "data": {
      "text/plain": [
       "(828934, 108)"
      ]
     },
     "execution_count": 18,
     "metadata": {},
     "output_type": "execute_result"
    }
   ],
   "source": [
    "test_feat.shape"
   ]
  },
  {
   "cell_type": "code",
   "execution_count": 19,
   "metadata": {},
   "outputs": [],
   "source": [
    "#train_coorr1=train_feat.corr()"
   ]
  },
  {
   "cell_type": "code",
   "execution_count": 20,
   "metadata": {},
   "outputs": [],
   "source": [
    "#train_coorr1['prediction_pay_price'].sort_values(ascending=False).head(40)"
   ]
  },
  {
   "cell_type": "code",
   "execution_count": 21,
   "metadata": {},
   "outputs": [],
   "source": [
    "#train_coorr1.to_csv('/Users/feelmercy/Documents/DataSet/Tap4Fun/train_corr.csv')"
   ]
  },
  {
   "cell_type": "code",
   "execution_count": 22,
   "metadata": {},
   "outputs": [],
   "source": [
    "train_feat2=train_feat #[train_feat.avg_online_minutes !=0]\n",
    "test_feat2=test_feat"
   ]
  },
  {
   "cell_type": "code",
   "execution_count": 23,
   "metadata": {},
   "outputs": [],
   "source": [
    "#train_feat=train_feat.drop(labels=['ivory_qua1','ivory_qua2'],axis=1)\n",
    "#train_feat2=train_feat.drop(labels=['ivory_qua1','ivory_qua2'],axis=1)"
   ]
  },
  {
   "cell_type": "code",
   "execution_count": 24,
   "metadata": {},
   "outputs": [],
   "source": [
    "train_feat2['ivory_qua1']=train_feat.ivory_add_value+train_feat.ivory_reduce_value\n",
    "train_feat2['ivory_qua2']=train_feat.ivory_add_value-train_feat.ivory_reduce_value"
   ]
  },
  {
   "cell_type": "code",
   "execution_count": 25,
   "metadata": {},
   "outputs": [],
   "source": [
    "train_feat2['stone_qua1']=train_feat.stone_add_value+train_feat.stone_reduce_value\n",
    "train_feat2['stone_qua2']=train_feat.stone_add_value-train_feat.stone_reduce_value"
   ]
  },
  {
   "cell_type": "code",
   "execution_count": 26,
   "metadata": {},
   "outputs": [],
   "source": [
    "train_feat2['meat_qua1']=train_feat.meat_add_value+train_feat.meat_reduce_value\n",
    "train_feat2['meat_qua2']=train_feat.meat_add_value-train_feat.meat_reduce_value"
   ]
  },
  {
   "cell_type": "code",
   "execution_count": 27,
   "metadata": {},
   "outputs": [],
   "source": [
    "train_feat2['wood_qua1']=train_feat.wood_add_value+train_feat.wood_reduce_value\n",
    "train_feat2['wood_qua2']=train_feat.wood_add_value-train_feat.wood_reduce_value"
   ]
  },
  {
   "cell_type": "code",
   "execution_count": 28,
   "metadata": {},
   "outputs": [],
   "source": [
    "# for test feat\n",
    "test_feat2['ivory_qua1']=test_feat.ivory_add_value+test_feat.ivory_reduce_value\n",
    "test_feat2['ivory_qua2']=test_feat.ivory_add_value-test_feat.ivory_reduce_value\n",
    "test_feat2['stone_qua1']=test_feat.stone_add_value+test_feat.stone_reduce_value\n",
    "test_feat2['stone_qua2']=test_feat.stone_add_value-test_feat.stone_reduce_value\n",
    "test_feat2['meat_qua1']=test_feat.meat_add_value+test_feat.meat_reduce_value\n",
    "test_feat2['meat_qua2']=test_feat.meat_add_value-test_feat.meat_reduce_value\n",
    "test_feat2['wood_qua1']=test_feat.wood_add_value+test_feat.wood_reduce_value\n",
    "test_feat2['wood_qua2']=test_feat.wood_add_value-test_feat.wood_reduce_value"
   ]
  },
  {
   "cell_type": "code",
   "execution_count": 29,
   "metadata": {},
   "outputs": [
    {
     "data": {
      "text/plain": [
       "(2288007, 117)"
      ]
     },
     "execution_count": 29,
     "metadata": {},
     "output_type": "execute_result"
    }
   ],
   "source": [
    "train_feat.shape"
   ]
  },
  {
   "cell_type": "code",
   "execution_count": 30,
   "metadata": {},
   "outputs": [
    {
     "data": {
      "text/plain": [
       "(2288007, 117)"
      ]
     },
     "execution_count": 30,
     "metadata": {},
     "output_type": "execute_result"
    }
   ],
   "source": [
    "train_feat2.shape"
   ]
  },
  {
   "cell_type": "code",
   "execution_count": 31,
   "metadata": {},
   "outputs": [
    {
     "data": {
      "text/plain": [
       "(828934, 116)"
      ]
     },
     "execution_count": 31,
     "metadata": {},
     "output_type": "execute_result"
    }
   ],
   "source": [
    "test_feat2.shape"
   ]
  },
  {
   "cell_type": "code",
   "execution_count": 32,
   "metadata": {},
   "outputs": [],
   "source": [
    "#train_corr2=train_feat2.corr()"
   ]
  },
  {
   "cell_type": "code",
   "execution_count": 33,
   "metadata": {},
   "outputs": [],
   "source": [
    "#train_corr2['prediction_pay_price'].sort_values(ascending=False).head(40)"
   ]
  },
  {
   "cell_type": "code",
   "execution_count": 34,
   "metadata": {},
   "outputs": [],
   "source": [
    "#import re"
   ]
  },
  {
   "cell_type": "code",
   "execution_count": 35,
   "metadata": {
    "scrolled": true
   },
   "outputs": [
    {
     "data": {
      "text/plain": [
       "array(['sr_troop_defense_level', 'sr_infantry_def_level',\n",
       "       'sr_cavalry_def_level', 'sr_shaman_def_level'], dtype=object)"
      ]
     },
     "execution_count": 35,
     "metadata": {},
     "output_type": "execute_result"
    }
   ],
   "source": [
    "train_feat2.columns.values[pd.Series(train_feat2.columns.values).str.contains('def')]"
   ]
  },
  {
   "cell_type": "code",
   "execution_count": 36,
   "metadata": {},
   "outputs": [
    {
     "data": {
      "text/plain": [
       "pandas.core.series.Series"
      ]
     },
     "execution_count": 36,
     "metadata": {},
     "output_type": "execute_result"
    }
   ],
   "source": [
    "type(pd.Series(train_feat2.columns.values).str.contains('def'))"
   ]
  },
  {
   "cell_type": "code",
   "execution_count": 37,
   "metadata": {},
   "outputs": [],
   "source": [
    "#del text"
   ]
  },
  {
   "cell_type": "code",
   "execution_count": 38,
   "metadata": {
    "scrolled": true
   },
   "outputs": [],
   "source": [
    "text_def=[]\n",
    "for col in train_feat2.columns.values:\n",
    "     if 'def' in col:\n",
    "            text_def.append(col)"
   ]
  },
  {
   "cell_type": "code",
   "execution_count": 39,
   "metadata": {},
   "outputs": [
    {
     "data": {
      "text/plain": [
       "['sr_troop_defense_level',\n",
       " 'sr_infantry_def_level',\n",
       " 'sr_cavalry_def_level',\n",
       " 'sr_shaman_def_level']"
      ]
     },
     "execution_count": 39,
     "metadata": {},
     "output_type": "execute_result"
    }
   ],
   "source": [
    "text_def"
   ]
  },
  {
   "cell_type": "code",
   "execution_count": 40,
   "metadata": {},
   "outputs": [
    {
     "data": {
      "text/html": [
       "<div>\n",
       "<style>\n",
       "    .dataframe thead tr:only-child th {\n",
       "        text-align: right;\n",
       "    }\n",
       "\n",
       "    .dataframe thead th {\n",
       "        text-align: left;\n",
       "    }\n",
       "\n",
       "    .dataframe tbody tr th {\n",
       "        vertical-align: top;\n",
       "    }\n",
       "</style>\n",
       "<table border=\"1\" class=\"dataframe\">\n",
       "  <thead>\n",
       "    <tr style=\"text-align: right;\">\n",
       "      <th></th>\n",
       "      <th>user_id</th>\n",
       "      <th>register_time</th>\n",
       "      <th>wood_add_value</th>\n",
       "      <th>wood_reduce_value</th>\n",
       "      <th>stone_add_value</th>\n",
       "      <th>stone_reduce_value</th>\n",
       "      <th>ivory_add_value</th>\n",
       "      <th>ivory_reduce_value</th>\n",
       "      <th>meat_add_value</th>\n",
       "      <th>meat_reduce_value</th>\n",
       "      <th>...</th>\n",
       "      <th>pay_count</th>\n",
       "      <th>prediction_pay_price</th>\n",
       "      <th>ivory_qua1</th>\n",
       "      <th>ivory_qua2</th>\n",
       "      <th>stone_qua1</th>\n",
       "      <th>stone_qua2</th>\n",
       "      <th>meat_qua1</th>\n",
       "      <th>meat_qua2</th>\n",
       "      <th>wood_qua1</th>\n",
       "      <th>wood_qua2</th>\n",
       "    </tr>\n",
       "  </thead>\n",
       "  <tbody>\n",
       "    <tr>\n",
       "      <th>0</th>\n",
       "      <td>1</td>\n",
       "      <td>2018-02-02 19:47:15</td>\n",
       "      <td>20125.0</td>\n",
       "      <td>3700.0</td>\n",
       "      <td>0.0</td>\n",
       "      <td>0.0</td>\n",
       "      <td>0.0</td>\n",
       "      <td>0.0</td>\n",
       "      <td>16375.0</td>\n",
       "      <td>2000.0</td>\n",
       "      <td>...</td>\n",
       "      <td>0</td>\n",
       "      <td>0.0</td>\n",
       "      <td>0.0</td>\n",
       "      <td>0.0</td>\n",
       "      <td>0.0</td>\n",
       "      <td>0.0</td>\n",
       "      <td>18375.0</td>\n",
       "      <td>14375.0</td>\n",
       "      <td>23825.0</td>\n",
       "      <td>16425.0</td>\n",
       "    </tr>\n",
       "    <tr>\n",
       "      <th>1</th>\n",
       "      <td>1593</td>\n",
       "      <td>2018-01-26 00:01:05</td>\n",
       "      <td>0.0</td>\n",
       "      <td>0.0</td>\n",
       "      <td>0.0</td>\n",
       "      <td>0.0</td>\n",
       "      <td>0.0</td>\n",
       "      <td>0.0</td>\n",
       "      <td>0.0</td>\n",
       "      <td>0.0</td>\n",
       "      <td>...</td>\n",
       "      <td>0</td>\n",
       "      <td>0.0</td>\n",
       "      <td>0.0</td>\n",
       "      <td>0.0</td>\n",
       "      <td>0.0</td>\n",
       "      <td>0.0</td>\n",
       "      <td>0.0</td>\n",
       "      <td>0.0</td>\n",
       "      <td>0.0</td>\n",
       "      <td>0.0</td>\n",
       "    </tr>\n",
       "    <tr>\n",
       "      <th>2</th>\n",
       "      <td>1594</td>\n",
       "      <td>2018-01-26 00:01:58</td>\n",
       "      <td>0.0</td>\n",
       "      <td>0.0</td>\n",
       "      <td>0.0</td>\n",
       "      <td>0.0</td>\n",
       "      <td>0.0</td>\n",
       "      <td>0.0</td>\n",
       "      <td>0.0</td>\n",
       "      <td>0.0</td>\n",
       "      <td>...</td>\n",
       "      <td>0</td>\n",
       "      <td>0.0</td>\n",
       "      <td>0.0</td>\n",
       "      <td>0.0</td>\n",
       "      <td>0.0</td>\n",
       "      <td>0.0</td>\n",
       "      <td>0.0</td>\n",
       "      <td>0.0</td>\n",
       "      <td>0.0</td>\n",
       "      <td>0.0</td>\n",
       "    </tr>\n",
       "    <tr>\n",
       "      <th>3</th>\n",
       "      <td>1595</td>\n",
       "      <td>2018-01-26 00:02:13</td>\n",
       "      <td>0.0</td>\n",
       "      <td>0.0</td>\n",
       "      <td>0.0</td>\n",
       "      <td>0.0</td>\n",
       "      <td>0.0</td>\n",
       "      <td>0.0</td>\n",
       "      <td>0.0</td>\n",
       "      <td>0.0</td>\n",
       "      <td>...</td>\n",
       "      <td>0</td>\n",
       "      <td>0.0</td>\n",
       "      <td>0.0</td>\n",
       "      <td>0.0</td>\n",
       "      <td>0.0</td>\n",
       "      <td>0.0</td>\n",
       "      <td>0.0</td>\n",
       "      <td>0.0</td>\n",
       "      <td>0.0</td>\n",
       "      <td>0.0</td>\n",
       "    </tr>\n",
       "    <tr>\n",
       "      <th>4</th>\n",
       "      <td>1596</td>\n",
       "      <td>2018-01-26 00:02:46</td>\n",
       "      <td>0.0</td>\n",
       "      <td>0.0</td>\n",
       "      <td>0.0</td>\n",
       "      <td>0.0</td>\n",
       "      <td>0.0</td>\n",
       "      <td>0.0</td>\n",
       "      <td>0.0</td>\n",
       "      <td>0.0</td>\n",
       "      <td>...</td>\n",
       "      <td>0</td>\n",
       "      <td>0.0</td>\n",
       "      <td>0.0</td>\n",
       "      <td>0.0</td>\n",
       "      <td>0.0</td>\n",
       "      <td>0.0</td>\n",
       "      <td>0.0</td>\n",
       "      <td>0.0</td>\n",
       "      <td>0.0</td>\n",
       "      <td>0.0</td>\n",
       "    </tr>\n",
       "  </tbody>\n",
       "</table>\n",
       "<p>5 rows × 117 columns</p>\n",
       "</div>"
      ],
      "text/plain": [
       "   user_id       register_time  wood_add_value  wood_reduce_value  \\\n",
       "0        1 2018-02-02 19:47:15         20125.0             3700.0   \n",
       "1     1593 2018-01-26 00:01:05             0.0                0.0   \n",
       "2     1594 2018-01-26 00:01:58             0.0                0.0   \n",
       "3     1595 2018-01-26 00:02:13             0.0                0.0   \n",
       "4     1596 2018-01-26 00:02:46             0.0                0.0   \n",
       "\n",
       "   stone_add_value  stone_reduce_value  ivory_add_value  ivory_reduce_value  \\\n",
       "0              0.0                 0.0              0.0                 0.0   \n",
       "1              0.0                 0.0              0.0                 0.0   \n",
       "2              0.0                 0.0              0.0                 0.0   \n",
       "3              0.0                 0.0              0.0                 0.0   \n",
       "4              0.0                 0.0              0.0                 0.0   \n",
       "\n",
       "   meat_add_value  meat_reduce_value    ...      pay_count  \\\n",
       "0         16375.0             2000.0    ...              0   \n",
       "1             0.0                0.0    ...              0   \n",
       "2             0.0                0.0    ...              0   \n",
       "3             0.0                0.0    ...              0   \n",
       "4             0.0                0.0    ...              0   \n",
       "\n",
       "   prediction_pay_price  ivory_qua1  ivory_qua2  stone_qua1  stone_qua2  \\\n",
       "0                   0.0         0.0         0.0         0.0         0.0   \n",
       "1                   0.0         0.0         0.0         0.0         0.0   \n",
       "2                   0.0         0.0         0.0         0.0         0.0   \n",
       "3                   0.0         0.0         0.0         0.0         0.0   \n",
       "4                   0.0         0.0         0.0         0.0         0.0   \n",
       "\n",
       "   meat_qua1  meat_qua2  wood_qua1  wood_qua2  \n",
       "0    18375.0    14375.0    23825.0    16425.0  \n",
       "1        0.0        0.0        0.0        0.0  \n",
       "2        0.0        0.0        0.0        0.0  \n",
       "3        0.0        0.0        0.0        0.0  \n",
       "4        0.0        0.0        0.0        0.0  \n",
       "\n",
       "[5 rows x 117 columns]"
      ]
     },
     "execution_count": 40,
     "metadata": {},
     "output_type": "execute_result"
    }
   ],
   "source": [
    "#train_coorr1.to_csv('F:\\\\study\\\\ml\\\\DataSet\\\\Tap4fun\\\\train_feat_corr.csv')\n",
    "#del feat_def_qua\n",
    "train_feat2.head()"
   ]
  },
  {
   "cell_type": "code",
   "execution_count": 41,
   "metadata": {},
   "outputs": [],
   "source": [
    "text_def=[]\n",
    "for col in train_feat2.columns.values:\n",
    "     if 'def' in col:\n",
    "            text_def.append(col)"
   ]
  },
  {
   "cell_type": "code",
   "execution_count": 42,
   "metadata": {},
   "outputs": [
    {
     "data": {
      "text/plain": [
       "['sr_troop_defense_level',\n",
       " 'sr_infantry_def_level',\n",
       " 'sr_cavalry_def_level',\n",
       " 'sr_shaman_def_level']"
      ]
     },
     "execution_count": 42,
     "metadata": {},
     "output_type": "execute_result"
    }
   ],
   "source": [
    "text_def"
   ]
  },
  {
   "cell_type": "code",
   "execution_count": 43,
   "metadata": {},
   "outputs": [
    {
     "data": {
      "text/plain": [
       "list"
      ]
     },
     "execution_count": 43,
     "metadata": {},
     "output_type": "execute_result"
    }
   ],
   "source": [
    "type(text_def)"
   ]
  },
  {
   "cell_type": "code",
   "execution_count": 44,
   "metadata": {},
   "outputs": [],
   "source": [
    "text_troop=[]\n",
    "for col in train_feat2.columns.values:\n",
    "    if 'troop' in col :\n",
    "        text_troop.append(col)"
   ]
  },
  {
   "cell_type": "code",
   "execution_count": 45,
   "metadata": {},
   "outputs": [
    {
     "data": {
      "text/plain": [
       "['sr_troop_defense_level',\n",
       " 'sr_troop_attack_level',\n",
       " 'sr_troop_consumption_level',\n",
       " 'sr_troop_load_level',\n",
       " 'sr_guest_troop_capacity_level']"
      ]
     },
     "execution_count": 45,
     "metadata": {},
     "output_type": "execute_result"
    }
   ],
   "source": [
    "text_troop"
   ]
  },
  {
   "cell_type": "code",
   "execution_count": 46,
   "metadata": {},
   "outputs": [],
   "source": [
    "text_cavalry=[]\n",
    "for col in train_feat2.columns.values:\n",
    "    if 'sr_cavalry' in col :\n",
    "        text_cavalry.append(col)"
   ]
  },
  {
   "cell_type": "code",
   "execution_count": 47,
   "metadata": {},
   "outputs": [
    {
     "data": {
      "text/plain": [
       "['sr_cavalry_tier_2_level',\n",
       " 'sr_cavalry_atk_level',\n",
       " 'sr_cavalry_tier_3_level',\n",
       " 'sr_cavalry_def_level',\n",
       " 'sr_cavalry_hp_level',\n",
       " 'sr_cavalry_tier_4_level']"
      ]
     },
     "execution_count": 47,
     "metadata": {},
     "output_type": "execute_result"
    }
   ],
   "source": [
    "text_cavalry"
   ]
  },
  {
   "cell_type": "code",
   "execution_count": 48,
   "metadata": {},
   "outputs": [],
   "source": [
    "text_infantry=[]\n",
    "for col in train_feat2.columns.values:\n",
    "    if 'sr_infantry' in col :\n",
    "        text_infantry.append(col)"
   ]
  },
  {
   "cell_type": "code",
   "execution_count": 49,
   "metadata": {},
   "outputs": [
    {
     "data": {
      "text/plain": [
       "['sr_infantry_tier_2_level',\n",
       " 'sr_infantry_atk_level',\n",
       " 'sr_infantry_tier_3_level',\n",
       " 'sr_infantry_def_level',\n",
       " 'sr_infantry_hp_level',\n",
       " 'sr_infantry_tier_4_level']"
      ]
     },
     "execution_count": 49,
     "metadata": {},
     "output_type": "execute_result"
    }
   ],
   "source": [
    "text_infantry"
   ]
  },
  {
   "cell_type": "code",
   "execution_count": 50,
   "metadata": {},
   "outputs": [],
   "source": [
    "text_shaman=[]\n",
    "for col in train_feat2.columns.values:\n",
    "    if 'sr_shaman' in col :\n",
    "        text_shaman.append(col)"
   ]
  },
  {
   "cell_type": "code",
   "execution_count": 51,
   "metadata": {},
   "outputs": [
    {
     "data": {
      "text/plain": [
       "['sr_shaman_tier_2_level',\n",
       " 'sr_shaman_atk_level',\n",
       " 'sr_shaman_tier_3_level',\n",
       " 'sr_shaman_def_level',\n",
       " 'sr_shaman_hp_level',\n",
       " 'sr_shaman_tier_4_level']"
      ]
     },
     "execution_count": 51,
     "metadata": {},
     "output_type": "execute_result"
    }
   ],
   "source": [
    "text_shaman"
   ]
  },
  {
   "cell_type": "code",
   "execution_count": 52,
   "metadata": {},
   "outputs": [],
   "source": [
    "text_speed=[]\n",
    "for col in train_feat2.columns.values:\n",
    "    if 'speed' in col :\n",
    "        text_speed.append(col)"
   ]
  },
  {
   "cell_type": "code",
   "execution_count": 53,
   "metadata": {},
   "outputs": [
    {
     "data": {
      "text/plain": [
       "['sr_training_speed_level',\n",
       " 'sr_construction_speed_level',\n",
       " 'sr_healing_speed_level',\n",
       " 'sr_alliance_march_speed_level',\n",
       " 'sr_pvp_march_speed_level',\n",
       " 'sr_gathering_march_speed_level']"
      ]
     },
     "execution_count": 53,
     "metadata": {},
     "output_type": "execute_result"
    }
   ],
   "source": [
    "text_speed"
   ]
  },
  {
   "cell_type": "code",
   "execution_count": 54,
   "metadata": {},
   "outputs": [],
   "source": [
    "train_feat2['def_qua1']=0.0\n",
    "for name in text_def:\n",
    "    train_feat2['def_qua1']+=train_feat2[name]"
   ]
  },
  {
   "cell_type": "code",
   "execution_count": 55,
   "metadata": {},
   "outputs": [
    {
     "data": {
      "text/plain": [
       "0      False\n",
       "1      False\n",
       "2      False\n",
       "3      False\n",
       "4      False\n",
       "5      False\n",
       "6      False\n",
       "7      False\n",
       "8      False\n",
       "9      False\n",
       "10     False\n",
       "11     False\n",
       "12     False\n",
       "13     False\n",
       "14     False\n",
       "15     False\n",
       "16     False\n",
       "17     False\n",
       "18     False\n",
       "19     False\n",
       "20     False\n",
       "21     False\n",
       "22     False\n",
       "23     False\n",
       "24     False\n",
       "25     False\n",
       "26     False\n",
       "27     False\n",
       "28     False\n",
       "29     False\n",
       "       ...  \n",
       "88     False\n",
       "89     False\n",
       "90     False\n",
       "91     False\n",
       "92     False\n",
       "93     False\n",
       "94     False\n",
       "95     False\n",
       "96     False\n",
       "97     False\n",
       "98     False\n",
       "99     False\n",
       "100    False\n",
       "101    False\n",
       "102    False\n",
       "103    False\n",
       "104    False\n",
       "105    False\n",
       "106    False\n",
       "107    False\n",
       "108    False\n",
       "109    False\n",
       "110    False\n",
       "111    False\n",
       "112    False\n",
       "113    False\n",
       "114    False\n",
       "115    False\n",
       "116    False\n",
       "117     True\n",
       "Length: 118, dtype: bool"
      ]
     },
     "execution_count": 55,
     "metadata": {},
     "output_type": "execute_result"
    }
   ],
   "source": [
    "#pd.Series(train_feat2.columns.values) .str.contains('def')"
   ]
  },
  {
   "cell_type": "code",
   "execution_count": 56,
   "metadata": {},
   "outputs": [],
   "source": [
    "#train_feat2[train_feat2.sr_troop_attack_level != 0][train_feat2.columns.values[pd.Series(train_feat2.columns.values) .str.contains('def')]]"
   ]
  },
  {
   "cell_type": "code",
   "execution_count": 57,
   "metadata": {},
   "outputs": [],
   "source": [
    "train_feat2['def_qua1']=0.0\n",
    "for name in text_def:\n",
    "    train_feat2['def_qua1']+=train_feat2[name]"
   ]
  },
  {
   "cell_type": "code",
   "execution_count": 58,
   "metadata": {},
   "outputs": [],
   "source": [
    "test_feat2['def_qua1']=0.0\n",
    "for name in text_def:\n",
    "    test_feat2['def_qua1']+=test_feat2[name]"
   ]
  },
  {
   "cell_type": "code",
   "execution_count": 59,
   "metadata": {},
   "outputs": [],
   "source": [
    "train_feat2['cavalry_qua1']=0.0\n",
    "for name in text_cavalry:\n",
    "    train_feat2['cavalry_qua1']+=train_feat2[name]"
   ]
  },
  {
   "cell_type": "code",
   "execution_count": 60,
   "metadata": {},
   "outputs": [],
   "source": [
    "test_feat2['cavalry_qua1']=0.0\n",
    "for name in text_cavalry:\n",
    "    test_feat2['cavalry_qua1']+=test_feat2[name]"
   ]
  },
  {
   "cell_type": "code",
   "execution_count": 61,
   "metadata": {},
   "outputs": [],
   "source": [
    "train_feat2['infantry_qua1']=0.0\n",
    "for name in text_infantry:\n",
    "    train_feat2['infantry_qua1']+=train_feat2[name]"
   ]
  },
  {
   "cell_type": "code",
   "execution_count": 62,
   "metadata": {},
   "outputs": [],
   "source": [
    "test_feat2['infantry_qua1']=0.0\n",
    "for name in text_infantry:\n",
    "    test_feat2['infantry_qua1']+=test_feat2[name]"
   ]
  },
  {
   "cell_type": "code",
   "execution_count": 63,
   "metadata": {},
   "outputs": [],
   "source": [
    "train_feat2['shaman_qua1']=0.0\n",
    "for name in text_shaman:\n",
    "    train_feat2['shaman_qua1']+=train_feat2[name]"
   ]
  },
  {
   "cell_type": "code",
   "execution_count": 64,
   "metadata": {},
   "outputs": [],
   "source": [
    "test_feat2['shaman_qua1']=0.0\n",
    "for name in text_shaman:\n",
    "    test_feat2['shaman_qua1']+=test_feat2[name]"
   ]
  },
  {
   "cell_type": "code",
   "execution_count": 65,
   "metadata": {},
   "outputs": [],
   "source": [
    "train_feat2['speed_qua1']=0.0\n",
    "for name in text_speed:\n",
    "    train_feat2['speed_qua1']+=train_feat2[name]"
   ]
  },
  {
   "cell_type": "code",
   "execution_count": 66,
   "metadata": {},
   "outputs": [],
   "source": [
    "test_feat2['speed_qua1']=0.0\n",
    "for name in text_speed:\n",
    "    test_feat2['speed_qua1']+=test_feat2[name]"
   ]
  },
  {
   "cell_type": "code",
   "execution_count": 67,
   "metadata": {},
   "outputs": [],
   "source": [
    "train_feat2['troop_qua1']=0.0\n",
    "for name in text_troop:\n",
    "    train_feat2['troop_qua1']+=train_feat2[name]"
   ]
  },
  {
   "cell_type": "code",
   "execution_count": 68,
   "metadata": {},
   "outputs": [],
   "source": [
    "test_feat2['troop_qua1']=0.0\n",
    "for name in text_troop:\n",
    "    test_feat2['troop_qua1']+=test_feat2[name]"
   ]
  },
  {
   "cell_type": "code",
   "execution_count": 69,
   "metadata": {},
   "outputs": [],
   "source": [
    "#train_feat2[train_feat2.cavalry_qua1 != 0][train_feat2.columns.values[pd.Series(train_feat2.columns.values).str.contains('qua1')]]"
   ]
  },
  {
   "cell_type": "code",
   "execution_count": 70,
   "metadata": {},
   "outputs": [],
   "source": [
    "#train_corr2=train_feat2.corr()"
   ]
  },
  {
   "cell_type": "code",
   "execution_count": 71,
   "metadata": {},
   "outputs": [],
   "source": [
    "#train_corr2['prediction_pay_price'].sort_values(ascending=False).head(40)"
   ]
  },
  {
   "cell_type": "code",
   "execution_count": 72,
   "metadata": {},
   "outputs": [],
   "source": [
    "train_feat['pvp_lanch_rate_qua1']=train_feat.pvp_lanch_count/train_feat.pvp_battle_count\n",
    "train_feat['pvp_win_rate_qua1']=train_feat.pvp_win_count / train_feat.pvp_battle_count\n",
    "train_feat['pvp_win_lanch_rate_qua1']=train_feat.pvp_win_count / \\\n",
    "train_feat.pvp_lanch_count\n",
    "train_feat['pve_lanch_rate_qua1']=train_feat.pve_lanch_count/train_feat.pve_battle_count\n",
    "train_feat['pve_win_rate_qua1']=train_feat.pve_win_count / train_feat.pve_battle_count\n",
    "train_feat['pve_win_lanch_rate_qua1']=train_feat.pve_win_count / \\\n",
    "train_feat.pve_lanch_count"
   ]
  },
  {
   "cell_type": "code",
   "execution_count": 73,
   "metadata": {},
   "outputs": [],
   "source": [
    "text_mi=train_feat2.columns[pd.Series(train_feat2.columns.values).str.contains('qua')].tolist()\n",
    "for name in text_mi :\n",
    "    name2='x_avg_mi_'+name\n",
    "    #print(name2)\n",
    "    train_feat2[name2]=train_feat2[name] / train_feat2.avg_online_minutes"
   ]
  },
  {
   "cell_type": "code",
   "execution_count": 74,
   "metadata": {},
   "outputs": [],
   "source": [
    "text_top=['ivory','stone','wood','meat']\n",
    "text_top_add=[]\n",
    "for name in text_top:\n",
    "    name2=name+'_add'\n",
    "    text_top_add.extend(train_feat2.columns[pd.Series(train_feat2.columns.values).str.contains(name2)].tolist())"
   ]
  },
  {
   "cell_type": "code",
   "execution_count": 75,
   "metadata": {},
   "outputs": [],
   "source": [
    "text_top_add2=[]\n",
    "for name in text_top_add :\n",
    "    name2='x_avg_mi_'+name\n",
    "    train_feat2[name2]=train_feat2[name] / train_feat2.avg_online_minutes\n",
    "    text_top_add2.append(name2)"
   ]
  },
  {
   "cell_type": "code",
   "execution_count": 76,
   "metadata": {},
   "outputs": [
    {
     "data": {
      "text/plain": [
       "(2288007, 153)"
      ]
     },
     "execution_count": 76,
     "metadata": {},
     "output_type": "execute_result"
    }
   ],
   "source": [
    "train_feat2.shape"
   ]
  },
  {
   "cell_type": "code",
   "execution_count": 77,
   "metadata": {},
   "outputs": [
    {
     "data": {
      "text/plain": [
       "(828934, 122)"
      ]
     },
     "execution_count": 77,
     "metadata": {},
     "output_type": "execute_result"
    }
   ],
   "source": [
    "test_feat2.shape"
   ]
  },
  {
   "cell_type": "code",
   "execution_count": 78,
   "metadata": {},
   "outputs": [],
   "source": [
    "label_train=train_feat2['prediction_pay_price']"
   ]
  },
  {
   "cell_type": "code",
   "execution_count": 79,
   "metadata": {},
   "outputs": [],
   "source": [
    "train_feat2=train_feat2.drop(labels=['prediction_pay_price','register_time'],axis=1)\n",
    "#train_feat2_array=train_feat2.values\n",
    "#test_feat2=test_feat2.drop(labels=['register_time'],axis=1)\n",
    "\n",
    "#label_test=test_feat.user_id\n"
   ]
  },
  {
   "cell_type": "code",
   "execution_count": 80,
   "metadata": {},
   "outputs": [
    {
     "name": "stderr",
     "output_type": "stream",
     "text": [
      "/Applications/Anaconda/anaconda3/lib/python3.6/site-packages/sklearn/cross_validation.py:41: DeprecationWarning: This module was deprecated in version 0.18 in favor of the model_selection module into which all the refactored classes and functions are moved. Also note that the interface of the new CV iterators are different from that of this module. This module will be removed in 0.20.\n",
      "  \"This module will be removed in 0.20.\", DeprecationWarning)\n"
     ]
    }
   ],
   "source": [
    "from sklearn.cross_validation import train_test_split\n",
    "from sklearn.metrics import mean_squared_error"
   ]
  },
  {
   "cell_type": "code",
   "execution_count": 81,
   "metadata": {},
   "outputs": [],
   "source": [
    "train_feat2=train_feat2.fillna(0)"
   ]
  },
  {
   "cell_type": "code",
   "execution_count": 82,
   "metadata": {},
   "outputs": [],
   "source": [
    "X_train,X_test,y_train,y_test=train_test_split(train_feat2,label_train,test_size=0.3)#,random_state=13)"
   ]
  },
  {
   "cell_type": "code",
   "execution_count": null,
   "metadata": {},
   "outputs": [],
   "source": []
  },
  {
   "cell_type": "code",
   "execution_count": 83,
   "metadata": {},
   "outputs": [],
   "source": [
    "#label_test[:]=0"
   ]
  },
  {
   "cell_type": "code",
   "execution_count": 84,
   "metadata": {},
   "outputs": [],
   "source": [
    "params={\n",
    "    'boosting_type':'gbdt',\n",
    "    'objective':'mse',\n",
    "    'metric':'rmse',\n",
    "    'min_child_weigth':3,\n",
    "    'num_leaves':2**5,\n",
    "    'lambda_l2':10,\n",
    "    'subsample':0.7,\n",
    "    'colsample_bytree':0.7,\n",
    "    'colsample_bylevel':0.7,\n",
    "    'learning_rate':0.05,\n",
    "    'tree_method':'exact',\n",
    "    'seed':2017,\n",
    "    'nthread':4,\n",
    "    'silent':True\n",
    "}"
   ]
  },
  {
   "cell_type": "code",
   "execution_count": 85,
   "metadata": {},
   "outputs": [],
   "source": [
    "import time\n",
    "import lightgbm as lgb"
   ]
  },
  {
   "cell_type": "code",
   "execution_count": 86,
   "metadata": {},
   "outputs": [],
   "source": [
    "train=lgb.Dataset(X_train,y_train)\n",
    "test=lgb.Dataset(X_test,label=y_test,reference=train)"
   ]
  },
  {
   "cell_type": "code",
   "execution_count": 87,
   "metadata": {},
   "outputs": [
    {
     "data": {
      "text/plain": [
       "0"
      ]
     },
     "execution_count": 87,
     "metadata": {},
     "output_type": "execute_result"
    }
   ],
   "source": [
    "import gc\n",
    "#del train_feat,test_feat\n",
    "gc.collect()"
   ]
  },
  {
   "cell_type": "code",
   "execution_count": 88,
   "metadata": {},
   "outputs": [
    {
     "data": {
      "text/plain": [
       "('64bit', '')"
      ]
     },
     "execution_count": 88,
     "metadata": {},
     "output_type": "execute_result"
    }
   ],
   "source": [
    "import sys\n",
    "import platform\n",
    "platform.architecture()"
   ]
  },
  {
   "cell_type": "code",
   "execution_count": 89,
   "metadata": {},
   "outputs": [
    {
     "name": "stderr",
     "output_type": "stream",
     "text": [
      "/Applications/Anaconda/anaconda3/lib/python3.6/site-packages/lightgbm/basic.py:657: UserWarning: silent keyword has been found in `params` and will be ignored. Please use silent argument of the Dataset constructor to pass this parameter.\n",
      "  'Please use {0} argument of the Dataset constructor to pass this parameter.'.format(key))\n"
     ]
    },
    {
     "name": "stdout",
     "output_type": "stream",
     "text": [
      "[50]\ttraining's rmse: 53.9695\tvalid_1's rmse: 53.0256\n",
      "[100]\ttraining's rmse: 45.7665\tvalid_1's rmse: 53.5115\n",
      "[150]\ttraining's rmse: 39.5487\tvalid_1's rmse: 53.8572\n",
      "[200]\ttraining's rmse: 35.7173\tvalid_1's rmse: 54.4002\n",
      "[250]\ttraining's rmse: 32.7666\tvalid_1's rmse: 55.1544\n",
      "[300]\ttraining's rmse: 30.3601\tvalid_1's rmse: 55.7656\n",
      "[350]\ttraining's rmse: 28.3905\tvalid_1's rmse: 56.3977\n",
      "[400]\ttraining's rmse: 26.7555\tvalid_1's rmse: 56.9872\n",
      "[450]\ttraining's rmse: 25.3658\tvalid_1's rmse: 57.3715\n",
      "[500]\ttraining's rmse: 24.103\tvalid_1's rmse: 57.6899\n",
      "[550]\ttraining's rmse: 22.9939\tvalid_1's rmse: 57.9858\n",
      "[600]\ttraining's rmse: 22.0046\tvalid_1's rmse: 58.299\n",
      "[650]\ttraining's rmse: 21.1717\tvalid_1's rmse: 58.5185\n",
      "[700]\ttraining's rmse: 20.427\tvalid_1's rmse: 58.709\n",
      "[750]\ttraining's rmse: 19.7762\tvalid_1's rmse: 58.9151\n",
      "[800]\ttraining's rmse: 19.218\tvalid_1's rmse: 59.1436\n",
      "[850]\ttraining's rmse: 18.6316\tvalid_1's rmse: 59.3303\n",
      "[900]\ttraining's rmse: 18.1237\tvalid_1's rmse: 59.4746\n",
      "[950]\ttraining's rmse: 17.6031\tvalid_1's rmse: 59.6038\n",
      "[1000]\ttraining's rmse: 17.0053\tvalid_1's rmse: 59.714\n",
      "[1050]\ttraining's rmse: 16.4387\tvalid_1's rmse: 59.8053\n",
      "[1100]\ttraining's rmse: 16.044\tvalid_1's rmse: 59.8908\n",
      "[1150]\ttraining's rmse: 15.682\tvalid_1's rmse: 59.9756\n",
      "[1200]\ttraining's rmse: 15.29\tvalid_1's rmse: 60.064\n",
      "[1250]\ttraining's rmse: 14.9579\tvalid_1's rmse: 60.1519\n",
      "[1300]\ttraining's rmse: 14.6547\tvalid_1's rmse: 60.215\n",
      "[1350]\ttraining's rmse: 14.3558\tvalid_1's rmse: 60.2949\n",
      "[1400]\ttraining's rmse: 14.0538\tvalid_1's rmse: 60.338\n",
      "[1450]\ttraining's rmse: 13.8109\tvalid_1's rmse: 60.3837\n",
      "[1500]\ttraining's rmse: 13.5313\tvalid_1's rmse: 60.4358\n",
      "[1550]\ttraining's rmse: 13.2988\tvalid_1's rmse: 60.4813\n",
      "[1600]\ttraining's rmse: 13.095\tvalid_1's rmse: 60.5361\n",
      "[1650]\ttraining's rmse: 12.8882\tvalid_1's rmse: 60.5774\n",
      "[1700]\ttraining's rmse: 12.6913\tvalid_1's rmse: 60.6129\n",
      "[1750]\ttraining's rmse: 12.494\tvalid_1's rmse: 60.634\n",
      "[1800]\ttraining's rmse: 12.3406\tvalid_1's rmse: 60.6622\n",
      "[1850]\ttraining's rmse: 12.1869\tvalid_1's rmse: 60.687\n",
      "[1900]\ttraining's rmse: 12.0269\tvalid_1's rmse: 60.708\n",
      "[1950]\ttraining's rmse: 11.8794\tvalid_1's rmse: 60.7328\n",
      "[2000]\ttraining's rmse: 11.7292\tvalid_1's rmse: 60.7558\n",
      "[2050]\ttraining's rmse: 11.5784\tvalid_1's rmse: 60.7836\n",
      "[2100]\ttraining's rmse: 11.4447\tvalid_1's rmse: 60.8007\n",
      "[2150]\ttraining's rmse: 11.318\tvalid_1's rmse: 60.8103\n",
      "[2200]\ttraining's rmse: 11.1732\tvalid_1's rmse: 60.8307\n",
      "[2250]\ttraining's rmse: 11.0495\tvalid_1's rmse: 60.8501\n",
      "[2300]\ttraining's rmse: 10.9392\tvalid_1's rmse: 60.869\n",
      "[2350]\ttraining's rmse: 10.8335\tvalid_1's rmse: 60.8826\n",
      "[2400]\ttraining's rmse: 10.7282\tvalid_1's rmse: 60.8956\n",
      "[2450]\ttraining's rmse: 10.5986\tvalid_1's rmse: 60.9051\n",
      "[2500]\ttraining's rmse: 10.4851\tvalid_1's rmse: 60.9098\n",
      "[2550]\ttraining's rmse: 10.4009\tvalid_1's rmse: 60.9242\n",
      "[2600]\ttraining's rmse: 10.322\tvalid_1's rmse: 60.9366\n",
      "[2650]\ttraining's rmse: 10.2291\tvalid_1's rmse: 60.9502\n",
      "[2700]\ttraining's rmse: 10.1445\tvalid_1's rmse: 60.954\n",
      "[2750]\ttraining's rmse: 10.0374\tvalid_1's rmse: 60.9664\n",
      "[2800]\ttraining's rmse: 9.95239\tvalid_1's rmse: 60.9786\n",
      "[2850]\ttraining's rmse: 9.84602\tvalid_1's rmse: 60.9898\n",
      "[2900]\ttraining's rmse: 9.76878\tvalid_1's rmse: 60.9974\n",
      "[2950]\ttraining's rmse: 9.68242\tvalid_1's rmse: 61.0058\n",
      "[3000]\ttraining's rmse: 9.5873\tvalid_1's rmse: 61.0102\n"
     ]
    }
   ],
   "source": [
    "n=3000\n",
    "gbm=lgb.train(params=params,\n",
    "             train_set=train,\n",
    "             num_boost_round=n,\n",
    "             verbose_eval=50,\n",
    "             valid_sets=[train,test])\n",
    "\n",
    "#training's rmse: 9.04946\tvalid_1's rmse: 60.9889"
   ]
  },
  {
   "cell_type": "code",
   "execution_count": null,
   "metadata": {},
   "outputs": [],
   "source": [
    "X_train2,X_test2,y_train2,y_test2=train_test_split(train_feat2,label_train,test_size=0.362,random_state=17)"
   ]
  },
  {
   "cell_type": "code",
   "execution_count": null,
   "metadata": {},
   "outputs": [],
   "source": [
    "data_test.shape[0]/data_train.shape[0]"
   ]
  },
  {
   "cell_type": "code",
   "execution_count": null,
   "metadata": {},
   "outputs": [],
   "source": [
    "data_test.shape"
   ]
  },
  {
   "cell_type": "code",
   "execution_count": null,
   "metadata": {},
   "outputs": [],
   "source": [
    "x_test2_pred=gbm.predict(X_test2)"
   ]
  },
  {
   "cell_type": "code",
   "execution_count": null,
   "metadata": {},
   "outputs": [],
   "source": [
    "np.sqrt(mean_squared_error(y_test2,x_test2_pred))"
   ]
  },
  {
   "cell_type": "code",
   "execution_count": null,
   "metadata": {},
   "outputs": [],
   "source": [
    "train_feat2.shape"
   ]
  },
  {
   "cell_type": "code",
   "execution_count": null,
   "metadata": {},
   "outputs": [],
   "source": []
  },
  {
   "cell_type": "code",
   "execution_count": null,
   "metadata": {},
   "outputs": [],
   "source": []
  },
  {
   "cell_type": "code",
   "execution_count": null,
   "metadata": {},
   "outputs": [],
   "source": []
  }
 ],
 "metadata": {
  "kernelspec": {
   "display_name": "Python 3",
   "language": "python",
   "name": "python3"
  },
  "language_info": {
   "codemirror_mode": {
    "name": "ipython",
    "version": 3
   },
   "file_extension": ".py",
   "mimetype": "text/x-python",
   "name": "python",
   "nbconvert_exporter": "python",
   "pygments_lexer": "ipython3",
   "version": "3.6.3"
  }
 },
 "nbformat": 4,
 "nbformat_minor": 2
}
