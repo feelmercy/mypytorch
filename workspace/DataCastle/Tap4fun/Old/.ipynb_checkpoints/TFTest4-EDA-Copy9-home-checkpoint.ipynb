{
 "cells": [
  {
   "cell_type": "code",
   "execution_count": 1,
   "metadata": {
    "ExecuteTime": {
     "end_time": "2018-09-16T14:01:10.008603Z",
     "start_time": "2018-09-16T14:01:08.846536Z"
    }
   },
   "outputs": [],
   "source": [
    "import numpy as np\n",
    "import pandas as pd\n",
    "from matplotlib import pyplot as plt\n",
    "import seaborn as sns\n",
    "from scipy.stats import norm ,skew"
   ]
  },
  {
   "cell_type": "code",
   "execution_count": 2,
   "metadata": {
    "ExecuteTime": {
     "end_time": "2018-09-16T14:01:29.726731Z",
     "start_time": "2018-09-16T14:01:10.010603Z"
    }
   },
   "outputs": [],
   "source": [
    "df_train=pd.read_csv('F:\\\\study\\\\ml\\\\DataSet\\\\Tap4fun\\\\tap_fun_train.csv')"
   ]
  },
  {
   "cell_type": "code",
   "execution_count": 3,
   "metadata": {
    "ExecuteTime": {
     "end_time": "2018-09-16T14:01:29.967744Z",
     "start_time": "2018-09-16T14:01:29.727731Z"
    }
   },
   "outputs": [
    {
     "name": "stdout",
     "output_type": "stream",
     "text": [
      "<class 'pandas.core.frame.DataFrame'>\n",
      "RangeIndex: 2288007 entries, 0 to 2288006\n",
      "Columns: 109 entries, user_id to prediction_pay_price\n",
      "dtypes: float64(13), int64(95), object(1)\n",
      "memory usage: 2.0 GB\n"
     ]
    }
   ],
   "source": [
    "df_train.info(memory_usage='deep')"
   ]
  },
  {
   "cell_type": "code",
   "execution_count": 4,
   "metadata": {
    "ExecuteTime": {
     "end_time": "2018-09-16T14:01:41.094381Z",
     "start_time": "2018-09-16T14:01:29.969745Z"
    }
   },
   "outputs": [],
   "source": [
    "c_int=df_train.select_dtypes(include=['int64']).apply(pd.to_numeric,downcast='unsigned')\n",
    "c_float=df_train.select_dtypes(include=['float']).apply(pd.to_numeric,downcast='float')\n"
   ]
  },
  {
   "cell_type": "code",
   "execution_count": 5,
   "metadata": {
    "ExecuteTime": {
     "end_time": "2018-09-16T14:01:41.472402Z",
     "start_time": "2018-09-16T14:01:41.095381Z"
    }
   },
   "outputs": [],
   "source": [
    "o_df=pd.concat([c_int,c_float],axis=1)"
   ]
  },
  {
   "cell_type": "code",
   "execution_count": 6,
   "metadata": {
    "ExecuteTime": {
     "end_time": "2018-09-16T14:01:41.479403Z",
     "start_time": "2018-09-16T14:01:41.473403Z"
    }
   },
   "outputs": [],
   "source": [
    "column_type=dict(o_df.dtypes.copy())"
   ]
  },
  {
   "cell_type": "code",
   "execution_count": 7,
   "metadata": {
    "ExecuteTime": {
     "end_time": "2018-09-16T14:01:41.489403Z",
     "start_time": "2018-09-16T14:01:41.481403Z"
    }
   },
   "outputs": [
    {
     "data": {
      "text/plain": [
       "{'user_id': dtype('uint32'),\n",
       " 'infantry_add_value': dtype('uint32'),\n",
       " 'infantry_reduce_value': dtype('uint32'),\n",
       " 'cavalry_add_value': dtype('uint32'),\n",
       " 'cavalry_reduce_value': dtype('uint32'),\n",
       " 'shaman_add_value': dtype('uint32'),\n",
       " 'shaman_reduce_value': dtype('uint32'),\n",
       " 'wound_infantry_add_value': dtype('uint32'),\n",
       " 'wound_infantry_reduce_value': dtype('uint32'),\n",
       " 'wound_cavalry_add_value': dtype('uint32'),\n",
       " 'wound_cavalry_reduce_value': dtype('uint32'),\n",
       " 'wound_shaman_add_value': dtype('uint32'),\n",
       " 'wound_shaman_reduce_value': dtype('uint32'),\n",
       " 'general_acceleration_add_value': dtype('uint32'),\n",
       " 'general_acceleration_reduce_value': dtype('uint32'),\n",
       " 'building_acceleration_add_value': dtype('uint32'),\n",
       " 'building_acceleration_reduce_value': dtype('uint32'),\n",
       " 'reaserch_acceleration_add_value': dtype('uint32'),\n",
       " 'reaserch_acceleration_reduce_value': dtype('uint32'),\n",
       " 'training_acceleration_add_value': dtype('uint32'),\n",
       " 'training_acceleration_reduce_value': dtype('uint32'),\n",
       " 'treatment_acceleraion_add_value': dtype('uint16'),\n",
       " 'treatment_acceleration_reduce_value': dtype('uint16'),\n",
       " 'bd_training_hut_level': dtype('uint8'),\n",
       " 'bd_healing_lodge_level': dtype('uint8'),\n",
       " 'bd_stronghold_level': dtype('uint8'),\n",
       " 'bd_outpost_portal_level': dtype('uint8'),\n",
       " 'bd_barrack_level': dtype('uint8'),\n",
       " 'bd_healing_spring_level': dtype('uint8'),\n",
       " 'bd_dolmen_level': dtype('uint8'),\n",
       " 'bd_guest_cavern_level': dtype('uint8'),\n",
       " 'bd_warehouse_level': dtype('uint8'),\n",
       " 'bd_watchtower_level': dtype('uint8'),\n",
       " 'bd_magic_coin_tree_level': dtype('uint8'),\n",
       " 'bd_hall_of_war_level': dtype('uint8'),\n",
       " 'bd_market_level': dtype('uint8'),\n",
       " 'bd_hero_gacha_level': dtype('uint8'),\n",
       " 'bd_hero_strengthen_level': dtype('uint8'),\n",
       " 'bd_hero_pve_level': dtype('uint8'),\n",
       " 'sr_scout_level': dtype('uint8'),\n",
       " 'sr_training_speed_level': dtype('uint8'),\n",
       " 'sr_infantry_tier_2_level': dtype('uint8'),\n",
       " 'sr_cavalry_tier_2_level': dtype('uint8'),\n",
       " 'sr_shaman_tier_2_level': dtype('uint8'),\n",
       " 'sr_infantry_atk_level': dtype('uint8'),\n",
       " 'sr_cavalry_atk_level': dtype('uint8'),\n",
       " 'sr_shaman_atk_level': dtype('uint8'),\n",
       " 'sr_infantry_tier_3_level': dtype('uint8'),\n",
       " 'sr_cavalry_tier_3_level': dtype('uint8'),\n",
       " 'sr_shaman_tier_3_level': dtype('uint8'),\n",
       " 'sr_troop_defense_level': dtype('uint8'),\n",
       " 'sr_infantry_def_level': dtype('uint8'),\n",
       " 'sr_cavalry_def_level': dtype('uint8'),\n",
       " 'sr_shaman_def_level': dtype('uint8'),\n",
       " 'sr_infantry_hp_level': dtype('uint8'),\n",
       " 'sr_cavalry_hp_level': dtype('uint8'),\n",
       " 'sr_shaman_hp_level': dtype('uint8'),\n",
       " 'sr_infantry_tier_4_level': dtype('uint8'),\n",
       " 'sr_cavalry_tier_4_level': dtype('uint8'),\n",
       " 'sr_shaman_tier_4_level': dtype('uint8'),\n",
       " 'sr_troop_attack_level': dtype('uint8'),\n",
       " 'sr_construction_speed_level': dtype('uint8'),\n",
       " 'sr_hide_storage_level': dtype('uint8'),\n",
       " 'sr_troop_consumption_level': dtype('uint8'),\n",
       " 'sr_rss_a_prod_levell': dtype('uint8'),\n",
       " 'sr_rss_b_prod_level': dtype('uint8'),\n",
       " 'sr_rss_c_prod_level': dtype('uint8'),\n",
       " 'sr_rss_d_prod_level': dtype('uint8'),\n",
       " 'sr_rss_a_gather_level': dtype('uint8'),\n",
       " 'sr_rss_b_gather_level': dtype('uint8'),\n",
       " 'sr_rss_c_gather_level': dtype('uint8'),\n",
       " 'sr_rss_d_gather_level': dtype('uint8'),\n",
       " 'sr_troop_load_level': dtype('uint8'),\n",
       " 'sr_rss_e_gather_level': dtype('uint8'),\n",
       " 'sr_rss_e_prod_level': dtype('uint8'),\n",
       " 'sr_outpost_durability_level': dtype('uint8'),\n",
       " 'sr_outpost_tier_2_level': dtype('uint8'),\n",
       " 'sr_healing_space_level': dtype('uint8'),\n",
       " 'sr_gathering_hunter_buff_level': dtype('uint8'),\n",
       " 'sr_healing_speed_level': dtype('uint8'),\n",
       " 'sr_outpost_tier_3_level': dtype('uint8'),\n",
       " 'sr_alliance_march_speed_level': dtype('uint8'),\n",
       " 'sr_pvp_march_speed_level': dtype('uint8'),\n",
       " 'sr_gathering_march_speed_level': dtype('uint8'),\n",
       " 'sr_outpost_tier_4_level': dtype('uint8'),\n",
       " 'sr_guest_troop_capacity_level': dtype('uint8'),\n",
       " 'sr_march_size_level': dtype('uint8'),\n",
       " 'sr_rss_help_bonus_level': dtype('uint8'),\n",
       " 'pvp_battle_count': dtype('uint16'),\n",
       " 'pvp_lanch_count': dtype('uint16'),\n",
       " 'pvp_win_count': dtype('uint16'),\n",
       " 'pve_battle_count': dtype('uint16'),\n",
       " 'pve_lanch_count': dtype('uint16'),\n",
       " 'pve_win_count': dtype('uint16'),\n",
       " 'pay_count': dtype('uint8'),\n",
       " 'wood_add_value': dtype('float32'),\n",
       " 'wood_reduce_value': dtype('float32'),\n",
       " 'stone_add_value': dtype('float32'),\n",
       " 'stone_reduce_value': dtype('float32'),\n",
       " 'ivory_add_value': dtype('float32'),\n",
       " 'ivory_reduce_value': dtype('float32'),\n",
       " 'meat_add_value': dtype('float32'),\n",
       " 'meat_reduce_value': dtype('float32'),\n",
       " 'magic_add_value': dtype('float32'),\n",
       " 'magic_reduce_value': dtype('float32'),\n",
       " 'avg_online_minutes': dtype('float32'),\n",
       " 'pay_price': dtype('float32'),\n",
       " 'prediction_pay_price': dtype('float32')}"
      ]
     },
     "execution_count": 7,
     "metadata": {},
     "output_type": "execute_result"
    }
   ],
   "source": [
    "column_type"
   ]
  },
  {
   "cell_type": "code",
   "execution_count": 8,
   "metadata": {
    "ExecuteTime": {
     "end_time": "2018-09-16T14:01:41.496404Z",
     "start_time": "2018-09-16T14:01:41.491404Z"
    }
   },
   "outputs": [
    {
     "data": {
      "text/plain": [
       "108"
      ]
     },
     "execution_count": 8,
     "metadata": {},
     "output_type": "execute_result"
    }
   ],
   "source": [
    "len(column_type)"
   ]
  },
  {
   "cell_type": "code",
   "execution_count": 9,
   "metadata": {
    "ExecuteTime": {
     "end_time": "2018-09-16T14:01:41.731417Z",
     "start_time": "2018-09-16T14:01:41.498404Z"
    }
   },
   "outputs": [],
   "source": [
    "del o_df,c_int,c_float,df_train"
   ]
  },
  {
   "cell_type": "code",
   "execution_count": null,
   "metadata": {},
   "outputs": [],
   "source": []
  },
  {
   "cell_type": "code",
   "execution_count": 10,
   "metadata": {
    "ExecuteTime": {
     "end_time": "2018-09-16T14:02:08.237933Z",
     "start_time": "2018-09-16T14:01:41.733417Z"
    }
   },
   "outputs": [],
   "source": [
    "data_train=pd.read_csv('F:\\\\study\\\\ml\\\\DataSet\\\\Tap4fun\\\\tap_fun_train.csv',\n",
    "                      dtype=column_type,parse_dates=['register_time'],infer_datetime_format=True)\n",
    "\n",
    "data_test=pd.read_csv('F:\\\\study\\\\ml\\\\DataSet\\\\Tap4fun\\\\tap_fun_test.csv',\n",
    "                      dtype=column_type,parse_dates=['register_time'],infer_datetime_format=True)"
   ]
  },
  {
   "cell_type": "code",
   "execution_count": 11,
   "metadata": {
    "ExecuteTime": {
     "end_time": "2018-09-16T14:02:08.493948Z",
     "start_time": "2018-09-16T14:02:08.239934Z"
    }
   },
   "outputs": [],
   "source": [
    "data_train.rename(columns={'treatment_acceleraion_add_value':'treatment_acceleration_add_value',\\\n",
    "                          'sr_rss_a_prod_levell':'sr_rss_a_prod_level'} ,inplace=True)\n",
    "\n",
    "data_test.rename(columns={'treatment_acceleraion_add_value':'treatment_acceleration_add_value',\\\n",
    "                          'sr_rss_a_prod_levell':'sr_rss_a_prod_level'} ,inplace=True)"
   ]
  },
  {
   "cell_type": "code",
   "execution_count": 12,
   "metadata": {
    "ExecuteTime": {
     "end_time": "2018-09-16T14:02:08.518949Z",
     "start_time": "2018-09-16T14:02:08.494948Z"
    }
   },
   "outputs": [
    {
     "data": {
      "text/html": [
       "<div>\n",
       "<style scoped>\n",
       "    .dataframe tbody tr th:only-of-type {\n",
       "        vertical-align: middle;\n",
       "    }\n",
       "\n",
       "    .dataframe tbody tr th {\n",
       "        vertical-align: top;\n",
       "    }\n",
       "\n",
       "    .dataframe thead th {\n",
       "        text-align: right;\n",
       "    }\n",
       "</style>\n",
       "<table border=\"1\" class=\"dataframe\">\n",
       "  <thead>\n",
       "    <tr style=\"text-align: right;\">\n",
       "      <th></th>\n",
       "      <th>user_id</th>\n",
       "      <th>register_time</th>\n",
       "      <th>wood_add_value</th>\n",
       "      <th>wood_reduce_value</th>\n",
       "      <th>stone_add_value</th>\n",
       "      <th>stone_reduce_value</th>\n",
       "      <th>ivory_add_value</th>\n",
       "      <th>ivory_reduce_value</th>\n",
       "      <th>meat_add_value</th>\n",
       "      <th>meat_reduce_value</th>\n",
       "      <th>...</th>\n",
       "      <th>pvp_battle_count</th>\n",
       "      <th>pvp_lanch_count</th>\n",
       "      <th>pvp_win_count</th>\n",
       "      <th>pve_battle_count</th>\n",
       "      <th>pve_lanch_count</th>\n",
       "      <th>pve_win_count</th>\n",
       "      <th>avg_online_minutes</th>\n",
       "      <th>pay_price</th>\n",
       "      <th>pay_count</th>\n",
       "      <th>prediction_pay_price</th>\n",
       "    </tr>\n",
       "  </thead>\n",
       "  <tbody>\n",
       "    <tr>\n",
       "      <th>0</th>\n",
       "      <td>1</td>\n",
       "      <td>2018-02-02 19:47:15</td>\n",
       "      <td>20125.0</td>\n",
       "      <td>3700.0</td>\n",
       "      <td>0.0</td>\n",
       "      <td>0.0</td>\n",
       "      <td>0.0</td>\n",
       "      <td>0.0</td>\n",
       "      <td>16375.0</td>\n",
       "      <td>2000.0</td>\n",
       "      <td>...</td>\n",
       "      <td>0</td>\n",
       "      <td>0</td>\n",
       "      <td>0</td>\n",
       "      <td>0</td>\n",
       "      <td>0</td>\n",
       "      <td>0</td>\n",
       "      <td>0.333333</td>\n",
       "      <td>0.0</td>\n",
       "      <td>0</td>\n",
       "      <td>0.0</td>\n",
       "    </tr>\n",
       "    <tr>\n",
       "      <th>1</th>\n",
       "      <td>1593</td>\n",
       "      <td>2018-01-26 00:01:05</td>\n",
       "      <td>0.0</td>\n",
       "      <td>0.0</td>\n",
       "      <td>0.0</td>\n",
       "      <td>0.0</td>\n",
       "      <td>0.0</td>\n",
       "      <td>0.0</td>\n",
       "      <td>0.0</td>\n",
       "      <td>0.0</td>\n",
       "      <td>...</td>\n",
       "      <td>0</td>\n",
       "      <td>0</td>\n",
       "      <td>0</td>\n",
       "      <td>0</td>\n",
       "      <td>0</td>\n",
       "      <td>0</td>\n",
       "      <td>0.333333</td>\n",
       "      <td>0.0</td>\n",
       "      <td>0</td>\n",
       "      <td>0.0</td>\n",
       "    </tr>\n",
       "    <tr>\n",
       "      <th>2</th>\n",
       "      <td>1594</td>\n",
       "      <td>2018-01-26 00:01:58</td>\n",
       "      <td>0.0</td>\n",
       "      <td>0.0</td>\n",
       "      <td>0.0</td>\n",
       "      <td>0.0</td>\n",
       "      <td>0.0</td>\n",
       "      <td>0.0</td>\n",
       "      <td>0.0</td>\n",
       "      <td>0.0</td>\n",
       "      <td>...</td>\n",
       "      <td>0</td>\n",
       "      <td>0</td>\n",
       "      <td>0</td>\n",
       "      <td>0</td>\n",
       "      <td>0</td>\n",
       "      <td>0</td>\n",
       "      <td>1.166667</td>\n",
       "      <td>0.0</td>\n",
       "      <td>0</td>\n",
       "      <td>0.0</td>\n",
       "    </tr>\n",
       "    <tr>\n",
       "      <th>3</th>\n",
       "      <td>1595</td>\n",
       "      <td>2018-01-26 00:02:13</td>\n",
       "      <td>0.0</td>\n",
       "      <td>0.0</td>\n",
       "      <td>0.0</td>\n",
       "      <td>0.0</td>\n",
       "      <td>0.0</td>\n",
       "      <td>0.0</td>\n",
       "      <td>0.0</td>\n",
       "      <td>0.0</td>\n",
       "      <td>...</td>\n",
       "      <td>0</td>\n",
       "      <td>0</td>\n",
       "      <td>0</td>\n",
       "      <td>0</td>\n",
       "      <td>0</td>\n",
       "      <td>0</td>\n",
       "      <td>3.166667</td>\n",
       "      <td>0.0</td>\n",
       "      <td>0</td>\n",
       "      <td>0.0</td>\n",
       "    </tr>\n",
       "    <tr>\n",
       "      <th>4</th>\n",
       "      <td>1596</td>\n",
       "      <td>2018-01-26 00:02:46</td>\n",
       "      <td>0.0</td>\n",
       "      <td>0.0</td>\n",
       "      <td>0.0</td>\n",
       "      <td>0.0</td>\n",
       "      <td>0.0</td>\n",
       "      <td>0.0</td>\n",
       "      <td>0.0</td>\n",
       "      <td>0.0</td>\n",
       "      <td>...</td>\n",
       "      <td>0</td>\n",
       "      <td>0</td>\n",
       "      <td>0</td>\n",
       "      <td>0</td>\n",
       "      <td>0</td>\n",
       "      <td>0</td>\n",
       "      <td>2.333333</td>\n",
       "      <td>0.0</td>\n",
       "      <td>0</td>\n",
       "      <td>0.0</td>\n",
       "    </tr>\n",
       "  </tbody>\n",
       "</table>\n",
       "<p>5 rows × 109 columns</p>\n",
       "</div>"
      ],
      "text/plain": [
       "   user_id       register_time  wood_add_value  wood_reduce_value  \\\n",
       "0        1 2018-02-02 19:47:15         20125.0             3700.0   \n",
       "1     1593 2018-01-26 00:01:05             0.0                0.0   \n",
       "2     1594 2018-01-26 00:01:58             0.0                0.0   \n",
       "3     1595 2018-01-26 00:02:13             0.0                0.0   \n",
       "4     1596 2018-01-26 00:02:46             0.0                0.0   \n",
       "\n",
       "   stone_add_value  stone_reduce_value  ivory_add_value  ivory_reduce_value  \\\n",
       "0              0.0                 0.0              0.0                 0.0   \n",
       "1              0.0                 0.0              0.0                 0.0   \n",
       "2              0.0                 0.0              0.0                 0.0   \n",
       "3              0.0                 0.0              0.0                 0.0   \n",
       "4              0.0                 0.0              0.0                 0.0   \n",
       "\n",
       "   meat_add_value  meat_reduce_value          ...           pvp_battle_count  \\\n",
       "0         16375.0             2000.0          ...                          0   \n",
       "1             0.0                0.0          ...                          0   \n",
       "2             0.0                0.0          ...                          0   \n",
       "3             0.0                0.0          ...                          0   \n",
       "4             0.0                0.0          ...                          0   \n",
       "\n",
       "   pvp_lanch_count  pvp_win_count  pve_battle_count  pve_lanch_count  \\\n",
       "0                0              0                 0                0   \n",
       "1                0              0                 0                0   \n",
       "2                0              0                 0                0   \n",
       "3                0              0                 0                0   \n",
       "4                0              0                 0                0   \n",
       "\n",
       "   pve_win_count  avg_online_minutes  pay_price  pay_count  \\\n",
       "0              0            0.333333        0.0          0   \n",
       "1              0            0.333333        0.0          0   \n",
       "2              0            1.166667        0.0          0   \n",
       "3              0            3.166667        0.0          0   \n",
       "4              0            2.333333        0.0          0   \n",
       "\n",
       "   prediction_pay_price  \n",
       "0                   0.0  \n",
       "1                   0.0  \n",
       "2                   0.0  \n",
       "3                   0.0  \n",
       "4                   0.0  \n",
       "\n",
       "[5 rows x 109 columns]"
      ]
     },
     "execution_count": 12,
     "metadata": {},
     "output_type": "execute_result"
    }
   ],
   "source": [
    "data_train.head()"
   ]
  },
  {
   "cell_type": "code",
   "execution_count": 13,
   "metadata": {
    "ExecuteTime": {
     "end_time": "2018-09-16T14:02:08.542951Z",
     "start_time": "2018-09-16T14:02:08.519950Z"
    }
   },
   "outputs": [
    {
     "data": {
      "text/html": [
       "<div>\n",
       "<style scoped>\n",
       "    .dataframe tbody tr th:only-of-type {\n",
       "        vertical-align: middle;\n",
       "    }\n",
       "\n",
       "    .dataframe tbody tr th {\n",
       "        vertical-align: top;\n",
       "    }\n",
       "\n",
       "    .dataframe thead th {\n",
       "        text-align: right;\n",
       "    }\n",
       "</style>\n",
       "<table border=\"1\" class=\"dataframe\">\n",
       "  <thead>\n",
       "    <tr style=\"text-align: right;\">\n",
       "      <th></th>\n",
       "      <th>user_id</th>\n",
       "      <th>register_time</th>\n",
       "      <th>wood_add_value</th>\n",
       "      <th>wood_reduce_value</th>\n",
       "      <th>stone_add_value</th>\n",
       "      <th>stone_reduce_value</th>\n",
       "      <th>ivory_add_value</th>\n",
       "      <th>ivory_reduce_value</th>\n",
       "      <th>meat_add_value</th>\n",
       "      <th>meat_reduce_value</th>\n",
       "      <th>...</th>\n",
       "      <th>sr_rss_help_bonus_level</th>\n",
       "      <th>pvp_battle_count</th>\n",
       "      <th>pvp_lanch_count</th>\n",
       "      <th>pvp_win_count</th>\n",
       "      <th>pve_battle_count</th>\n",
       "      <th>pve_lanch_count</th>\n",
       "      <th>pve_win_count</th>\n",
       "      <th>avg_online_minutes</th>\n",
       "      <th>pay_price</th>\n",
       "      <th>pay_count</th>\n",
       "    </tr>\n",
       "  </thead>\n",
       "  <tbody>\n",
       "    <tr>\n",
       "      <th>0</th>\n",
       "      <td>14933</td>\n",
       "      <td>2018-03-08 20:27:57</td>\n",
       "      <td>166415.0</td>\n",
       "      <td>138362.0</td>\n",
       "      <td>0.0</td>\n",
       "      <td>0.0</td>\n",
       "      <td>0.0</td>\n",
       "      <td>0.0</td>\n",
       "      <td>258522.0</td>\n",
       "      <td>90142.0</td>\n",
       "      <td>...</td>\n",
       "      <td>0</td>\n",
       "      <td>0</td>\n",
       "      <td>0</td>\n",
       "      <td>0</td>\n",
       "      <td>1</td>\n",
       "      <td>1</td>\n",
       "      <td>1</td>\n",
       "      <td>8.000000</td>\n",
       "      <td>0.0</td>\n",
       "      <td>0</td>\n",
       "    </tr>\n",
       "    <tr>\n",
       "      <th>1</th>\n",
       "      <td>14934</td>\n",
       "      <td>2018-03-08 20:29:42</td>\n",
       "      <td>10000.0</td>\n",
       "      <td>600.0</td>\n",
       "      <td>0.0</td>\n",
       "      <td>0.0</td>\n",
       "      <td>0.0</td>\n",
       "      <td>0.0</td>\n",
       "      <td>10000.0</td>\n",
       "      <td>400.0</td>\n",
       "      <td>...</td>\n",
       "      <td>0</td>\n",
       "      <td>0</td>\n",
       "      <td>0</td>\n",
       "      <td>0</td>\n",
       "      <td>0</td>\n",
       "      <td>0</td>\n",
       "      <td>0</td>\n",
       "      <td>0.166667</td>\n",
       "      <td>0.0</td>\n",
       "      <td>0</td>\n",
       "    </tr>\n",
       "    <tr>\n",
       "      <th>2</th>\n",
       "      <td>14935</td>\n",
       "      <td>2018-03-08 20:30:13</td>\n",
       "      <td>10000.0</td>\n",
       "      <td>3700.0</td>\n",
       "      <td>0.0</td>\n",
       "      <td>0.0</td>\n",
       "      <td>0.0</td>\n",
       "      <td>0.0</td>\n",
       "      <td>10000.0</td>\n",
       "      <td>2000.0</td>\n",
       "      <td>...</td>\n",
       "      <td>0</td>\n",
       "      <td>0</td>\n",
       "      <td>0</td>\n",
       "      <td>0</td>\n",
       "      <td>0</td>\n",
       "      <td>0</td>\n",
       "      <td>0</td>\n",
       "      <td>17.000000</td>\n",
       "      <td>0.0</td>\n",
       "      <td>0</td>\n",
       "    </tr>\n",
       "    <tr>\n",
       "      <th>3</th>\n",
       "      <td>14936</td>\n",
       "      <td>2018-03-08 20:31:41</td>\n",
       "      <td>210000.0</td>\n",
       "      <td>0.0</td>\n",
       "      <td>200000.0</td>\n",
       "      <td>0.0</td>\n",
       "      <td>200000.0</td>\n",
       "      <td>0.0</td>\n",
       "      <td>610000.0</td>\n",
       "      <td>0.0</td>\n",
       "      <td>...</td>\n",
       "      <td>0</td>\n",
       "      <td>0</td>\n",
       "      <td>0</td>\n",
       "      <td>0</td>\n",
       "      <td>0</td>\n",
       "      <td>0</td>\n",
       "      <td>0</td>\n",
       "      <td>1.666667</td>\n",
       "      <td>0.0</td>\n",
       "      <td>0</td>\n",
       "    </tr>\n",
       "    <tr>\n",
       "      <th>4</th>\n",
       "      <td>14937</td>\n",
       "      <td>2018-03-08 20:32:07</td>\n",
       "      <td>11500.0</td>\n",
       "      <td>3700.0</td>\n",
       "      <td>0.0</td>\n",
       "      <td>0.0</td>\n",
       "      <td>0.0</td>\n",
       "      <td>0.0</td>\n",
       "      <td>11000.0</td>\n",
       "      <td>2000.0</td>\n",
       "      <td>...</td>\n",
       "      <td>0</td>\n",
       "      <td>0</td>\n",
       "      <td>0</td>\n",
       "      <td>0</td>\n",
       "      <td>0</td>\n",
       "      <td>0</td>\n",
       "      <td>0</td>\n",
       "      <td>0.333333</td>\n",
       "      <td>0.0</td>\n",
       "      <td>0</td>\n",
       "    </tr>\n",
       "  </tbody>\n",
       "</table>\n",
       "<p>5 rows × 108 columns</p>\n",
       "</div>"
      ],
      "text/plain": [
       "   user_id       register_time  wood_add_value  wood_reduce_value  \\\n",
       "0    14933 2018-03-08 20:27:57        166415.0           138362.0   \n",
       "1    14934 2018-03-08 20:29:42         10000.0              600.0   \n",
       "2    14935 2018-03-08 20:30:13         10000.0             3700.0   \n",
       "3    14936 2018-03-08 20:31:41        210000.0                0.0   \n",
       "4    14937 2018-03-08 20:32:07         11500.0             3700.0   \n",
       "\n",
       "   stone_add_value  stone_reduce_value  ivory_add_value  ivory_reduce_value  \\\n",
       "0              0.0                 0.0              0.0                 0.0   \n",
       "1              0.0                 0.0              0.0                 0.0   \n",
       "2              0.0                 0.0              0.0                 0.0   \n",
       "3         200000.0                 0.0         200000.0                 0.0   \n",
       "4              0.0                 0.0              0.0                 0.0   \n",
       "\n",
       "   meat_add_value  meat_reduce_value    ...      sr_rss_help_bonus_level  \\\n",
       "0        258522.0            90142.0    ...                            0   \n",
       "1         10000.0              400.0    ...                            0   \n",
       "2         10000.0             2000.0    ...                            0   \n",
       "3        610000.0                0.0    ...                            0   \n",
       "4         11000.0             2000.0    ...                            0   \n",
       "\n",
       "   pvp_battle_count  pvp_lanch_count  pvp_win_count  pve_battle_count  \\\n",
       "0                 0                0              0                 1   \n",
       "1                 0                0              0                 0   \n",
       "2                 0                0              0                 0   \n",
       "3                 0                0              0                 0   \n",
       "4                 0                0              0                 0   \n",
       "\n",
       "   pve_lanch_count  pve_win_count  avg_online_minutes  pay_price  pay_count  \n",
       "0                1              1            8.000000        0.0          0  \n",
       "1                0              0            0.166667        0.0          0  \n",
       "2                0              0           17.000000        0.0          0  \n",
       "3                0              0            1.666667        0.0          0  \n",
       "4                0              0            0.333333        0.0          0  \n",
       "\n",
       "[5 rows x 108 columns]"
      ]
     },
     "execution_count": 13,
     "metadata": {},
     "output_type": "execute_result"
    }
   ],
   "source": [
    "data_test.head()"
   ]
  },
  {
   "cell_type": "code",
   "execution_count": 14,
   "metadata": {
    "ExecuteTime": {
     "end_time": "2018-09-16T14:02:08.553951Z",
     "start_time": "2018-09-16T14:02:08.543951Z"
    }
   },
   "outputs": [
    {
     "name": "stdout",
     "output_type": "stream",
     "text": [
      "<class 'pandas.core.frame.DataFrame'>\n",
      "RangeIndex: 2288007 entries, 0 to 2288006\n",
      "Columns: 109 entries, user_id to prediction_pay_price\n",
      "dtypes: datetime64[ns](1), float32(13), uint16(8), uint32(21), uint8(66)\n",
      "memory usage: 493.1 MB\n"
     ]
    }
   ],
   "source": [
    "data_train.info(memory_usage='deep')"
   ]
  },
  {
   "cell_type": "code",
   "execution_count": 15,
   "metadata": {
    "ExecuteTime": {
     "end_time": "2018-09-16T14:02:08.565952Z",
     "start_time": "2018-09-16T14:02:08.555952Z"
    }
   },
   "outputs": [
    {
     "name": "stdout",
     "output_type": "stream",
     "text": [
      "<class 'pandas.core.frame.DataFrame'>\n",
      "RangeIndex: 828934 entries, 0 to 828933\n",
      "Columns: 108 entries, user_id to pay_count\n",
      "dtypes: datetime64[ns](1), float32(12), uint16(8), uint32(21), uint8(66)\n",
      "memory usage: 175.5 MB\n"
     ]
    }
   ],
   "source": [
    "data_test.info(memory_usage='deep')"
   ]
  },
  {
   "cell_type": "code",
   "execution_count": 16,
   "metadata": {
    "ExecuteTime": {
     "end_time": "2018-09-16T14:02:09.207989Z",
     "start_time": "2018-09-16T14:02:08.567952Z"
    }
   },
   "outputs": [],
   "source": [
    "# data_label=data_train['prediction_pay_price']\n",
    "# data_train2=data_train.drop(labels=['user_id','register_time'],axis=1)\n",
    "# data_test2=data_test.drop(labels=['user_id','register_time'],axis=1)\n",
    "\n",
    "data_train2=data_train.drop(labels=['register_time'],axis=1)\n",
    "data_test2=data_test.drop(labels=['register_time'],axis=1)"
   ]
  },
  {
   "cell_type": "code",
   "execution_count": null,
   "metadata": {},
   "outputs": [],
   "source": []
  },
  {
   "cell_type": "code",
   "execution_count": 17,
   "metadata": {
    "ExecuteTime": {
     "end_time": "2018-09-16T14:02:09.273993Z",
     "start_time": "2018-09-16T14:02:09.208989Z"
    }
   },
   "outputs": [],
   "source": [
    "train_7pay=data_train2[data_train2['pay_price']>0].copy()\n",
    "test_7pay=data_test2[data_test2['pay_price']>0].copy()\n",
    "\n"
   ]
  },
  {
   "cell_type": "code",
   "execution_count": 18,
   "metadata": {
    "ExecuteTime": {
     "end_time": "2018-09-16T14:02:09.278993Z",
     "start_time": "2018-09-16T14:02:09.274993Z"
    }
   },
   "outputs": [
    {
     "data": {
      "text/plain": [
       "(41439, 108)"
      ]
     },
     "execution_count": 18,
     "metadata": {},
     "output_type": "execute_result"
    }
   ],
   "source": [
    "train_7pay.shape"
   ]
  },
  {
   "cell_type": "code",
   "execution_count": 19,
   "metadata": {
    "ExecuteTime": {
     "end_time": "2018-09-16T14:02:09.284993Z",
     "start_time": "2018-09-16T14:02:09.280993Z"
    }
   },
   "outputs": [
    {
     "data": {
      "text/plain": [
       "(19549, 107)"
      ]
     },
     "execution_count": 19,
     "metadata": {},
     "output_type": "execute_result"
    }
   ],
   "source": [
    "test_7pay.shape"
   ]
  },
  {
   "cell_type": "code",
   "execution_count": 20,
   "metadata": {
    "ExecuteTime": {
     "end_time": "2018-09-16T14:02:09.288994Z",
     "start_time": "2018-09-16T14:02:09.286993Z"
    }
   },
   "outputs": [],
   "source": [
    "#######################################"
   ]
  },
  {
   "cell_type": "code",
   "execution_count": 21,
   "metadata": {
    "ExecuteTime": {
     "end_time": "2018-09-16T14:02:09.721018Z",
     "start_time": "2018-09-16T14:02:09.289994Z"
    }
   },
   "outputs": [
    {
     "data": {
      "image/png": "[encoded data removed]",
      "text/plain": [
       "<Figure size 432x288 with 1 Axes>"
      ]
     },
     "metadata": {},
     "output_type": "display_data"
    }
   ],
   "source": [
    "plt.scatter(train_7pay.pay_price,train_7pay.prediction_pay_price)\n",
    "plt.show()"
   ]
  },
  {
   "cell_type": "code",
   "execution_count": 22,
   "metadata": {
    "ExecuteTime": {
     "end_time": "2018-09-16T14:02:10.077039Z",
     "start_time": "2018-09-16T14:02:09.722018Z"
    }
   },
   "outputs": [
    {
     "name": "stderr",
     "output_type": "stream",
     "text": [
      "D:\\ProgramData\\Anaconda3\\lib\\site-packages\\matplotlib\\axes\\_axes.py:6462: UserWarning: The 'normed' kwarg is deprecated, and has been replaced by the 'density' kwarg.\n",
      "  warnings.warn(\"The 'normed' kwarg is deprecated, and has been \"\n",
      "D:\\ProgramData\\Anaconda3\\lib\\site-packages\\matplotlib\\axes\\_axes.py:6462: UserWarning: The 'normed' kwarg is deprecated, and has been replaced by the 'density' kwarg.\n",
      "  warnings.warn(\"The 'normed' kwarg is deprecated, and has been \"\n"
     ]
    },
    {
     "data": {
      "image/png": "[encoded data removed]",
      "text/plain": [
       "<Figure size 432x288 with 2 Axes>"
      ]
     },
     "metadata": {},
     "output_type": "display_data"
    }
   ],
   "source": [
    "plt.subplot(1,2,1)\n",
    "sns.distplot(train_7pay.prediction_pay_price,kde=False,fit=norm)\n",
    "\n",
    "plt.subplot(122)\n",
    "sns.distplot(np.log(train_7pay.prediction_pay_price),kde=True,fit=norm)\n",
    "plt.show()"
   ]
  },
  {
   "cell_type": "code",
   "execution_count": 23,
   "metadata": {
    "ExecuteTime": {
     "end_time": "2018-09-16T14:02:10.083039Z",
     "start_time": "2018-09-16T14:02:10.078039Z"
    }
   },
   "outputs": [
    {
     "data": {
      "text/plain": [
       "22.5540828704834"
      ]
     },
     "execution_count": 23,
     "metadata": {},
     "output_type": "execute_result"
    }
   ],
   "source": [
    "skew(train_7pay.prediction_pay_price)"
   ]
  },
  {
   "cell_type": "code",
   "execution_count": 24,
   "metadata": {
    "ExecuteTime": {
     "end_time": "2018-09-16T14:02:10.091039Z",
     "start_time": "2018-09-16T14:02:10.085039Z"
    }
   },
   "outputs": [
    {
     "data": {
      "text/plain": [
       "0.9934835433959961"
      ]
     },
     "execution_count": 24,
     "metadata": {},
     "output_type": "execute_result"
    }
   ],
   "source": [
    "skew(np.log(train_7pay.prediction_pay_price))"
   ]
  },
  {
   "cell_type": "code",
   "execution_count": 25,
   "metadata": {
    "ExecuteTime": {
     "end_time": "2018-09-16T14:02:10.096040Z",
     "start_time": "2018-09-16T14:02:10.093040Z"
    }
   },
   "outputs": [],
   "source": [
    "train_7pay['prediction_pay_price']=np.log(train_7pay.prediction_pay_price)"
   ]
  },
  {
   "cell_type": "code",
   "execution_count": 26,
   "metadata": {
    "ExecuteTime": {
     "end_time": "2018-09-16T14:02:10.108040Z",
     "start_time": "2018-09-16T14:02:10.098040Z"
    }
   },
   "outputs": [
    {
     "name": "stdout",
     "output_type": "stream",
     "text": [
      "<class 'pandas.core.frame.DataFrame'>\n",
      "Int64Index: 41439 entries, 25 to 2287984\n",
      "Columns: 108 entries, user_id to prediction_pay_price\n",
      "dtypes: float32(13), uint16(8), uint32(21), uint8(66)\n",
      "memory usage: 8.9 MB\n"
     ]
    }
   ],
   "source": [
    "train_7pay.info(memory_usage='deep')"
   ]
  },
  {
   "cell_type": "code",
   "execution_count": 27,
   "metadata": {
    "ExecuteTime": {
     "end_time": "2018-09-16T14:02:10.115041Z",
     "start_time": "2018-09-16T14:02:10.109040Z"
    }
   },
   "outputs": [
    {
     "data": {
      "text/plain": [
       "107"
      ]
     },
     "execution_count": 27,
     "metadata": {},
     "output_type": "execute_result"
    }
   ],
   "source": [
    "numeric_dtypes=['uint8','uint16','uint32','uint64','float32']\n",
    "numeric2=[]\n",
    "for i in train_7pay.columns:\n",
    "    if (train_7pay[i].dtype in numeric_dtypes) & ( i != 'user_id'):\n",
    "        numeric2.append(i)\n",
    "len(numeric2)"
   ]
  },
  {
   "cell_type": "code",
   "execution_count": 28,
   "metadata": {
    "ExecuteTime": {
     "end_time": "2018-09-16T14:02:10.226047Z",
     "start_time": "2018-09-16T14:02:10.117041Z"
    }
   },
   "outputs": [
    {
     "data": {
      "text/html": [
       "<div>\n",
       "<style scoped>\n",
       "    .dataframe tbody tr th:only-of-type {\n",
       "        vertical-align: middle;\n",
       "    }\n",
       "\n",
       "    .dataframe tbody tr th {\n",
       "        vertical-align: top;\n",
       "    }\n",
       "\n",
       "    .dataframe thead th {\n",
       "        text-align: right;\n",
       "    }\n",
       "</style>\n",
       "<table border=\"1\" class=\"dataframe\">\n",
       "  <thead>\n",
       "    <tr style=\"text-align: right;\">\n",
       "      <th></th>\n",
       "      <th>skew</th>\n",
       "    </tr>\n",
       "  </thead>\n",
       "  <tbody>\n",
       "    <tr>\n",
       "      <th>wound_shaman_reduce_value</th>\n",
       "      <td>197.754952</td>\n",
       "    </tr>\n",
       "    <tr>\n",
       "      <th>wound_shaman_add_value</th>\n",
       "      <td>197.507779</td>\n",
       "    </tr>\n",
       "    <tr>\n",
       "      <th>shaman_reduce_value</th>\n",
       "      <td>193.928541</td>\n",
       "    </tr>\n",
       "    <tr>\n",
       "      <th>shaman_add_value</th>\n",
       "      <td>191.781153</td>\n",
       "    </tr>\n",
       "    <tr>\n",
       "      <th>sr_guest_troop_capacity_level</th>\n",
       "      <td>161.804167</td>\n",
       "    </tr>\n",
       "    <tr>\n",
       "      <th>sr_rss_help_bonus_level</th>\n",
       "      <td>152.101567</td>\n",
       "    </tr>\n",
       "    <tr>\n",
       "      <th>sr_march_size_level</th>\n",
       "      <td>100.957012</td>\n",
       "    </tr>\n",
       "    <tr>\n",
       "      <th>sr_troop_attack_level</th>\n",
       "      <td>96.893319</td>\n",
       "    </tr>\n",
       "    <tr>\n",
       "      <th>treatment_acceleration_reduce_value</th>\n",
       "      <td>82.613300</td>\n",
       "    </tr>\n",
       "    <tr>\n",
       "      <th>sr_outpost_tier_4_level</th>\n",
       "      <td>56.432399</td>\n",
       "    </tr>\n",
       "    <tr>\n",
       "      <th>wound_infantry_reduce_value</th>\n",
       "      <td>42.553938</td>\n",
       "    </tr>\n",
       "    <tr>\n",
       "      <th>wound_infantry_add_value</th>\n",
       "      <td>41.544290</td>\n",
       "    </tr>\n",
       "    <tr>\n",
       "      <th>sr_shaman_tier_4_level</th>\n",
       "      <td>34.868251</td>\n",
       "    </tr>\n",
       "    <tr>\n",
       "      <th>infantry_reduce_value</th>\n",
       "      <td>33.677766</td>\n",
       "    </tr>\n",
       "    <tr>\n",
       "      <th>sr_infantry_tier_4_level</th>\n",
       "      <td>32.139943</td>\n",
       "    </tr>\n",
       "    <tr>\n",
       "      <th>sr_cavalry_tier_4_level</th>\n",
       "      <td>30.296332</td>\n",
       "    </tr>\n",
       "    <tr>\n",
       "      <th>infantry_add_value</th>\n",
       "      <td>27.239244</td>\n",
       "    </tr>\n",
       "    <tr>\n",
       "      <th>sr_cavalry_def_level</th>\n",
       "      <td>21.693874</td>\n",
       "    </tr>\n",
       "    <tr>\n",
       "      <th>sr_shaman_def_level</th>\n",
       "      <td>21.641758</td>\n",
       "    </tr>\n",
       "    <tr>\n",
       "      <th>sr_infantry_def_level</th>\n",
       "      <td>21.305608</td>\n",
       "    </tr>\n",
       "    <tr>\n",
       "      <th>magic_reduce_value</th>\n",
       "      <td>20.598588</td>\n",
       "    </tr>\n",
       "    <tr>\n",
       "      <th>pay_price</th>\n",
       "      <td>19.140564</td>\n",
       "    </tr>\n",
       "    <tr>\n",
       "      <th>magic_add_value</th>\n",
       "      <td>18.934228</td>\n",
       "    </tr>\n",
       "    <tr>\n",
       "      <th>sr_alliance_march_speed_level</th>\n",
       "      <td>18.592765</td>\n",
       "    </tr>\n",
       "    <tr>\n",
       "      <th>sr_shaman_hp_level</th>\n",
       "      <td>18.372703</td>\n",
       "    </tr>\n",
       "    <tr>\n",
       "      <th>sr_cavalry_hp_level</th>\n",
       "      <td>17.954976</td>\n",
       "    </tr>\n",
       "    <tr>\n",
       "      <th>meat_add_value</th>\n",
       "      <td>16.847139</td>\n",
       "    </tr>\n",
       "    <tr>\n",
       "      <th>sr_infantry_hp_level</th>\n",
       "      <td>16.642166</td>\n",
       "    </tr>\n",
       "    <tr>\n",
       "      <th>sr_troop_defense_level</th>\n",
       "      <td>16.392682</td>\n",
       "    </tr>\n",
       "    <tr>\n",
       "      <th>stone_add_value</th>\n",
       "      <td>15.954202</td>\n",
       "    </tr>\n",
       "    <tr>\n",
       "      <th>...</th>\n",
       "      <td>...</td>\n",
       "    </tr>\n",
       "    <tr>\n",
       "      <th>sr_healing_speed_level</th>\n",
       "      <td>1.617247</td>\n",
       "    </tr>\n",
       "    <tr>\n",
       "      <th>sr_healing_space_level</th>\n",
       "      <td>1.607492</td>\n",
       "    </tr>\n",
       "    <tr>\n",
       "      <th>pve_win_count</th>\n",
       "      <td>1.583422</td>\n",
       "    </tr>\n",
       "    <tr>\n",
       "      <th>pve_battle_count</th>\n",
       "      <td>1.528469</td>\n",
       "    </tr>\n",
       "    <tr>\n",
       "      <th>pve_lanch_count</th>\n",
       "      <td>1.525276</td>\n",
       "    </tr>\n",
       "    <tr>\n",
       "      <th>sr_outpost_durability_level</th>\n",
       "      <td>1.271304</td>\n",
       "    </tr>\n",
       "    <tr>\n",
       "      <th>sr_gathering_hunter_buff_level</th>\n",
       "      <td>1.194486</td>\n",
       "    </tr>\n",
       "    <tr>\n",
       "      <th>prediction_pay_price</th>\n",
       "      <td>0.993484</td>\n",
       "    </tr>\n",
       "    <tr>\n",
       "      <th>sr_construction_speed_level</th>\n",
       "      <td>0.935679</td>\n",
       "    </tr>\n",
       "    <tr>\n",
       "      <th>sr_scout_level</th>\n",
       "      <td>0.774291</td>\n",
       "    </tr>\n",
       "    <tr>\n",
       "      <th>bd_hero_strengthen_level</th>\n",
       "      <td>0.703568</td>\n",
       "    </tr>\n",
       "    <tr>\n",
       "      <th>bd_hero_gacha_level</th>\n",
       "      <td>0.527847</td>\n",
       "    </tr>\n",
       "    <tr>\n",
       "      <th>bd_hero_pve_level</th>\n",
       "      <td>0.076623</td>\n",
       "    </tr>\n",
       "    <tr>\n",
       "      <th>sr_shaman_tier_2_level</th>\n",
       "      <td>0.019355</td>\n",
       "    </tr>\n",
       "    <tr>\n",
       "      <th>sr_cavalry_tier_2_level</th>\n",
       "      <td>-0.093492</td>\n",
       "    </tr>\n",
       "    <tr>\n",
       "      <th>sr_infantry_tier_2_level</th>\n",
       "      <td>-0.129278</td>\n",
       "    </tr>\n",
       "    <tr>\n",
       "      <th>bd_guest_cavern_level</th>\n",
       "      <td>-0.258554</td>\n",
       "    </tr>\n",
       "    <tr>\n",
       "      <th>bd_market_level</th>\n",
       "      <td>-0.286070</td>\n",
       "    </tr>\n",
       "    <tr>\n",
       "      <th>sr_training_speed_level</th>\n",
       "      <td>-0.296719</td>\n",
       "    </tr>\n",
       "    <tr>\n",
       "      <th>sr_outpost_tier_2_level</th>\n",
       "      <td>-0.299098</td>\n",
       "    </tr>\n",
       "    <tr>\n",
       "      <th>bd_healing_lodge_level</th>\n",
       "      <td>-0.306906</td>\n",
       "    </tr>\n",
       "    <tr>\n",
       "      <th>bd_watchtower_level</th>\n",
       "      <td>-0.381151</td>\n",
       "    </tr>\n",
       "    <tr>\n",
       "      <th>bd_training_hut_level</th>\n",
       "      <td>-0.401962</td>\n",
       "    </tr>\n",
       "    <tr>\n",
       "      <th>bd_healing_spring_level</th>\n",
       "      <td>-0.409719</td>\n",
       "    </tr>\n",
       "    <tr>\n",
       "      <th>bd_dolmen_level</th>\n",
       "      <td>-0.506567</td>\n",
       "    </tr>\n",
       "    <tr>\n",
       "      <th>bd_outpost_portal_level</th>\n",
       "      <td>-0.516837</td>\n",
       "    </tr>\n",
       "    <tr>\n",
       "      <th>bd_warehouse_level</th>\n",
       "      <td>-0.519127</td>\n",
       "    </tr>\n",
       "    <tr>\n",
       "      <th>bd_barrack_level</th>\n",
       "      <td>-0.541721</td>\n",
       "    </tr>\n",
       "    <tr>\n",
       "      <th>bd_magic_coin_tree_level</th>\n",
       "      <td>-0.550381</td>\n",
       "    </tr>\n",
       "    <tr>\n",
       "      <th>bd_stronghold_level</th>\n",
       "      <td>-0.694097</td>\n",
       "    </tr>\n",
       "  </tbody>\n",
       "</table>\n",
       "<p>107 rows × 1 columns</p>\n",
       "</div>"
      ],
      "text/plain": [
       "                                           skew\n",
       "wound_shaman_reduce_value            197.754952\n",
       "wound_shaman_add_value               197.507779\n",
       "shaman_reduce_value                  193.928541\n",
       "shaman_add_value                     191.781153\n",
       "sr_guest_troop_capacity_level        161.804167\n",
       "sr_rss_help_bonus_level              152.101567\n",
       "sr_march_size_level                  100.957012\n",
       "sr_troop_attack_level                 96.893319\n",
       "treatment_acceleration_reduce_value   82.613300\n",
       "sr_outpost_tier_4_level               56.432399\n",
       "wound_infantry_reduce_value           42.553938\n",
       "wound_infantry_add_value              41.544290\n",
       "sr_shaman_tier_4_level                34.868251\n",
       "infantry_reduce_value                 33.677766\n",
       "sr_infantry_tier_4_level              32.139943\n",
       "sr_cavalry_tier_4_level               30.296332\n",
       "infantry_add_value                    27.239244\n",
       "sr_cavalry_def_level                  21.693874\n",
       "sr_shaman_def_level                   21.641758\n",
       "sr_infantry_def_level                 21.305608\n",
       "magic_reduce_value                    20.598588\n",
       "pay_price                             19.140564\n",
       "magic_add_value                       18.934228\n",
       "sr_alliance_march_speed_level         18.592765\n",
       "sr_shaman_hp_level                    18.372703\n",
       "sr_cavalry_hp_level                   17.954976\n",
       "meat_add_value                        16.847139\n",
       "sr_infantry_hp_level                  16.642166\n",
       "sr_troop_defense_level                16.392682\n",
       "stone_add_value                       15.954202\n",
       "...                                         ...\n",
       "sr_healing_speed_level                 1.617247\n",
       "sr_healing_space_level                 1.607492\n",
       "pve_win_count                          1.583422\n",
       "pve_battle_count                       1.528469\n",
       "pve_lanch_count                        1.525276\n",
       "sr_outpost_durability_level            1.271304\n",
       "sr_gathering_hunter_buff_level         1.194486\n",
       "prediction_pay_price                   0.993484\n",
       "sr_construction_speed_level            0.935679\n",
       "sr_scout_level                         0.774291\n",
       "bd_hero_strengthen_level               0.703568\n",
       "bd_hero_gacha_level                    0.527847\n",
       "bd_hero_pve_level                      0.076623\n",
       "sr_shaman_tier_2_level                 0.019355\n",
       "sr_cavalry_tier_2_level               -0.093492\n",
       "sr_infantry_tier_2_level              -0.129278\n",
       "bd_guest_cavern_level                 -0.258554\n",
       "bd_market_level                       -0.286070\n",
       "sr_training_speed_level               -0.296719\n",
       "sr_outpost_tier_2_level               -0.299098\n",
       "bd_healing_lodge_level                -0.306906\n",
       "bd_watchtower_level                   -0.381151\n",
       "bd_training_hut_level                 -0.401962\n",
       "bd_healing_spring_level               -0.409719\n",
       "bd_dolmen_level                       -0.506567\n",
       "bd_outpost_portal_level               -0.516837\n",
       "bd_warehouse_level                    -0.519127\n",
       "bd_barrack_level                      -0.541721\n",
       "bd_magic_coin_tree_level              -0.550381\n",
       "bd_stronghold_level                   -0.694097\n",
       "\n",
       "[107 rows x 1 columns]"
      ]
     },
     "execution_count": 28,
     "metadata": {},
     "output_type": "execute_result"
    }
   ],
   "source": [
    "numeric_dtypes=['uint8','uint16','uint32','uint64','float16','float32','float64']\n",
    "numeric2=[]\n",
    "for i in train_7pay.columns:\n",
    "    if (train_7pay[i].dtype in numeric_dtypes) & ( i != 'user_id'):\n",
    "        numeric2.append(i)\n",
    "skew_train_7pay=train_7pay[numeric2].apply(lambda x:skew(x)).sort_values(ascending=False)\n",
    "skews=pd.DataFrame({'skew':skew_train_7pay})\n",
    "skews"
   ]
  },
  {
   "cell_type": "code",
   "execution_count": 29,
   "metadata": {
    "ExecuteTime": {
     "end_time": "2018-09-16T14:02:10.321053Z",
     "start_time": "2018-09-16T14:02:10.227047Z"
    }
   },
   "outputs": [
    {
     "data": {
      "text/html": [
       "<div>\n",
       "<style scoped>\n",
       "    .dataframe tbody tr th:only-of-type {\n",
       "        vertical-align: middle;\n",
       "    }\n",
       "\n",
       "    .dataframe tbody tr th {\n",
       "        vertical-align: top;\n",
       "    }\n",
       "\n",
       "    .dataframe thead th {\n",
       "        text-align: right;\n",
       "    }\n",
       "</style>\n",
       "<table border=\"1\" class=\"dataframe\">\n",
       "  <thead>\n",
       "    <tr style=\"text-align: right;\">\n",
       "      <th></th>\n",
       "      <th>skew</th>\n",
       "    </tr>\n",
       "  </thead>\n",
       "  <tbody>\n",
       "    <tr>\n",
       "      <th>sr_guest_troop_capacity_level</th>\n",
       "      <td>80.705226</td>\n",
       "    </tr>\n",
       "    <tr>\n",
       "      <th>sr_rss_help_bonus_level</th>\n",
       "      <td>80.705226</td>\n",
       "    </tr>\n",
       "    <tr>\n",
       "      <th>sr_march_size_level</th>\n",
       "      <td>73.001415</td>\n",
       "    </tr>\n",
       "    <tr>\n",
       "      <th>sr_troop_attack_level</th>\n",
       "      <td>62.096348</td>\n",
       "    </tr>\n",
       "    <tr>\n",
       "      <th>sr_outpost_tier_4_level</th>\n",
       "      <td>49.402686</td>\n",
       "    </tr>\n",
       "    <tr>\n",
       "      <th>wound_infantry_reduce_value</th>\n",
       "      <td>46.079737</td>\n",
       "    </tr>\n",
       "    <tr>\n",
       "      <th>wound_infantry_add_value</th>\n",
       "      <td>44.729722</td>\n",
       "    </tr>\n",
       "    <tr>\n",
       "      <th>sr_cavalry_tier_4_level</th>\n",
       "      <td>36.059221</td>\n",
       "    </tr>\n",
       "    <tr>\n",
       "      <th>pay_price</th>\n",
       "      <td>35.569006</td>\n",
       "    </tr>\n",
       "    <tr>\n",
       "      <th>sr_shaman_tier_4_level</th>\n",
       "      <td>32.029607</td>\n",
       "    </tr>\n",
       "    <tr>\n",
       "      <th>treatment_acceleration_reduce_value</th>\n",
       "      <td>30.680418</td>\n",
       "    </tr>\n",
       "    <tr>\n",
       "      <th>sr_infantry_tier_4_level</th>\n",
       "      <td>28.487592</td>\n",
       "    </tr>\n",
       "    <tr>\n",
       "      <th>infantry_reduce_value</th>\n",
       "      <td>27.083416</td>\n",
       "    </tr>\n",
       "    <tr>\n",
       "      <th>sr_shaman_def_level</th>\n",
       "      <td>24.101079</td>\n",
       "    </tr>\n",
       "    <tr>\n",
       "      <th>sr_infantry_def_level</th>\n",
       "      <td>22.039732</td>\n",
       "    </tr>\n",
       "    <tr>\n",
       "      <th>sr_cavalry_def_level</th>\n",
       "      <td>21.796645</td>\n",
       "    </tr>\n",
       "    <tr>\n",
       "      <th>infantry_add_value</th>\n",
       "      <td>21.438863</td>\n",
       "    </tr>\n",
       "    <tr>\n",
       "      <th>shaman_add_value</th>\n",
       "      <td>20.924961</td>\n",
       "    </tr>\n",
       "    <tr>\n",
       "      <th>sr_shaman_hp_level</th>\n",
       "      <td>20.581838</td>\n",
       "    </tr>\n",
       "    <tr>\n",
       "      <th>sr_alliance_march_speed_level</th>\n",
       "      <td>20.375268</td>\n",
       "    </tr>\n",
       "    <tr>\n",
       "      <th>magic_reduce_value</th>\n",
       "      <td>18.115840</td>\n",
       "    </tr>\n",
       "    <tr>\n",
       "      <th>sr_infantry_hp_level</th>\n",
       "      <td>17.831127</td>\n",
       "    </tr>\n",
       "    <tr>\n",
       "      <th>stone_reduce_value</th>\n",
       "      <td>17.659201</td>\n",
       "    </tr>\n",
       "    <tr>\n",
       "      <th>treatment_acceleration_add_value</th>\n",
       "      <td>17.626653</td>\n",
       "    </tr>\n",
       "    <tr>\n",
       "      <th>stone_add_value</th>\n",
       "      <td>17.455574</td>\n",
       "    </tr>\n",
       "    <tr>\n",
       "      <th>shaman_reduce_value</th>\n",
       "      <td>17.430486</td>\n",
       "    </tr>\n",
       "    <tr>\n",
       "      <th>sr_cavalry_hp_level</th>\n",
       "      <td>17.187093</td>\n",
       "    </tr>\n",
       "    <tr>\n",
       "      <th>meat_reduce_value</th>\n",
       "      <td>17.067680</td>\n",
       "    </tr>\n",
       "    <tr>\n",
       "      <th>ivory_reduce_value</th>\n",
       "      <td>17.044522</td>\n",
       "    </tr>\n",
       "    <tr>\n",
       "      <th>sr_troop_defense_level</th>\n",
       "      <td>16.800770</td>\n",
       "    </tr>\n",
       "    <tr>\n",
       "      <th>...</th>\n",
       "      <td>...</td>\n",
       "    </tr>\n",
       "    <tr>\n",
       "      <th>sr_troop_load_level</th>\n",
       "      <td>1.848561</td>\n",
       "    </tr>\n",
       "    <tr>\n",
       "      <th>sr_healing_speed_level</th>\n",
       "      <td>1.442722</td>\n",
       "    </tr>\n",
       "    <tr>\n",
       "      <th>sr_healing_space_level</th>\n",
       "      <td>1.441015</td>\n",
       "    </tr>\n",
       "    <tr>\n",
       "      <th>pve_win_count</th>\n",
       "      <td>1.375305</td>\n",
       "    </tr>\n",
       "    <tr>\n",
       "      <th>pve_lanch_count</th>\n",
       "      <td>1.321346</td>\n",
       "    </tr>\n",
       "    <tr>\n",
       "      <th>pve_battle_count</th>\n",
       "      <td>1.320263</td>\n",
       "    </tr>\n",
       "    <tr>\n",
       "      <th>sr_outpost_durability_level</th>\n",
       "      <td>1.187160</td>\n",
       "    </tr>\n",
       "    <tr>\n",
       "      <th>sr_gathering_hunter_buff_level</th>\n",
       "      <td>1.099186</td>\n",
       "    </tr>\n",
       "    <tr>\n",
       "      <th>sr_construction_speed_level</th>\n",
       "      <td>0.854994</td>\n",
       "    </tr>\n",
       "    <tr>\n",
       "      <th>sr_scout_level</th>\n",
       "      <td>0.743584</td>\n",
       "    </tr>\n",
       "    <tr>\n",
       "      <th>bd_hero_strengthen_level</th>\n",
       "      <td>0.589179</td>\n",
       "    </tr>\n",
       "    <tr>\n",
       "      <th>bd_hero_gacha_level</th>\n",
       "      <td>0.398947</td>\n",
       "    </tr>\n",
       "    <tr>\n",
       "      <th>bd_hero_pve_level</th>\n",
       "      <td>-0.028230</td>\n",
       "    </tr>\n",
       "    <tr>\n",
       "      <th>sr_shaman_tier_2_level</th>\n",
       "      <td>-0.223283</td>\n",
       "    </tr>\n",
       "    <tr>\n",
       "      <th>bd_healing_lodge_level</th>\n",
       "      <td>-0.246816</td>\n",
       "    </tr>\n",
       "    <tr>\n",
       "      <th>bd_market_level</th>\n",
       "      <td>-0.350075</td>\n",
       "    </tr>\n",
       "    <tr>\n",
       "      <th>bd_guest_cavern_level</th>\n",
       "      <td>-0.356346</td>\n",
       "    </tr>\n",
       "    <tr>\n",
       "      <th>bd_training_hut_level</th>\n",
       "      <td>-0.357798</td>\n",
       "    </tr>\n",
       "    <tr>\n",
       "      <th>bd_outpost_portal_level</th>\n",
       "      <td>-0.361263</td>\n",
       "    </tr>\n",
       "    <tr>\n",
       "      <th>sr_cavalry_tier_2_level</th>\n",
       "      <td>-0.386909</td>\n",
       "    </tr>\n",
       "    <tr>\n",
       "      <th>bd_watchtower_level</th>\n",
       "      <td>-0.399521</td>\n",
       "    </tr>\n",
       "    <tr>\n",
       "      <th>sr_infantry_tier_2_level</th>\n",
       "      <td>-0.424297</td>\n",
       "    </tr>\n",
       "    <tr>\n",
       "      <th>bd_healing_spring_level</th>\n",
       "      <td>-0.443664</td>\n",
       "    </tr>\n",
       "    <tr>\n",
       "      <th>bd_dolmen_level</th>\n",
       "      <td>-0.460564</td>\n",
       "    </tr>\n",
       "    <tr>\n",
       "      <th>sr_training_speed_level</th>\n",
       "      <td>-0.497942</td>\n",
       "    </tr>\n",
       "    <tr>\n",
       "      <th>bd_barrack_level</th>\n",
       "      <td>-0.516124</td>\n",
       "    </tr>\n",
       "    <tr>\n",
       "      <th>bd_stronghold_level</th>\n",
       "      <td>-0.543057</td>\n",
       "    </tr>\n",
       "    <tr>\n",
       "      <th>bd_warehouse_level</th>\n",
       "      <td>-0.583353</td>\n",
       "    </tr>\n",
       "    <tr>\n",
       "      <th>bd_magic_coin_tree_level</th>\n",
       "      <td>-0.678569</td>\n",
       "    </tr>\n",
       "    <tr>\n",
       "      <th>sr_outpost_tier_2_level</th>\n",
       "      <td>-0.731500</td>\n",
       "    </tr>\n",
       "  </tbody>\n",
       "</table>\n",
       "<p>106 rows × 1 columns</p>\n",
       "</div>"
      ],
      "text/plain": [
       "                                          skew\n",
       "sr_guest_troop_capacity_level        80.705226\n",
       "sr_rss_help_bonus_level              80.705226\n",
       "sr_march_size_level                  73.001415\n",
       "sr_troop_attack_level                62.096348\n",
       "sr_outpost_tier_4_level              49.402686\n",
       "wound_infantry_reduce_value          46.079737\n",
       "wound_infantry_add_value             44.729722\n",
       "sr_cavalry_tier_4_level              36.059221\n",
       "pay_price                            35.569006\n",
       "sr_shaman_tier_4_level               32.029607\n",
       "treatment_acceleration_reduce_value  30.680418\n",
       "sr_infantry_tier_4_level             28.487592\n",
       "infantry_reduce_value                27.083416\n",
       "sr_shaman_def_level                  24.101079\n",
       "sr_infantry_def_level                22.039732\n",
       "sr_cavalry_def_level                 21.796645\n",
       "infantry_add_value                   21.438863\n",
       "shaman_add_value                     20.924961\n",
       "sr_shaman_hp_level                   20.581838\n",
       "sr_alliance_march_speed_level        20.375268\n",
       "magic_reduce_value                   18.115840\n",
       "sr_infantry_hp_level                 17.831127\n",
       "stone_reduce_value                   17.659201\n",
       "treatment_acceleration_add_value     17.626653\n",
       "stone_add_value                      17.455574\n",
       "shaman_reduce_value                  17.430486\n",
       "sr_cavalry_hp_level                  17.187093\n",
       "meat_reduce_value                    17.067680\n",
       "ivory_reduce_value                   17.044522\n",
       "sr_troop_defense_level               16.800770\n",
       "...                                        ...\n",
       "sr_troop_load_level                   1.848561\n",
       "sr_healing_speed_level                1.442722\n",
       "sr_healing_space_level                1.441015\n",
       "pve_win_count                         1.375305\n",
       "pve_lanch_count                       1.321346\n",
       "pve_battle_count                      1.320263\n",
       "sr_outpost_durability_level           1.187160\n",
       "sr_gathering_hunter_buff_level        1.099186\n",
       "sr_construction_speed_level           0.854994\n",
       "sr_scout_level                        0.743584\n",
       "bd_hero_strengthen_level              0.589179\n",
       "bd_hero_gacha_level                   0.398947\n",
       "bd_hero_pve_level                    -0.028230\n",
       "sr_shaman_tier_2_level               -0.223283\n",
       "bd_healing_lodge_level               -0.246816\n",
       "bd_market_level                      -0.350075\n",
       "bd_guest_cavern_level                -0.356346\n",
       "bd_training_hut_level                -0.357798\n",
       "bd_outpost_portal_level              -0.361263\n",
       "sr_cavalry_tier_2_level              -0.386909\n",
       "bd_watchtower_level                  -0.399521\n",
       "sr_infantry_tier_2_level             -0.424297\n",
       "bd_healing_spring_level              -0.443664\n",
       "bd_dolmen_level                      -0.460564\n",
       "sr_training_speed_level              -0.497942\n",
       "bd_barrack_level                     -0.516124\n",
       "bd_stronghold_level                  -0.543057\n",
       "bd_warehouse_level                   -0.583353\n",
       "bd_magic_coin_tree_level             -0.678569\n",
       "sr_outpost_tier_2_level              -0.731500\n",
       "\n",
       "[106 rows x 1 columns]"
      ]
     },
     "execution_count": 29,
     "metadata": {},
     "output_type": "execute_result"
    }
   ],
   "source": [
    "numeric_dtypes=['uint8','uint16','uint32','uint64','float16','float32','float64']\n",
    "numeric22=[]\n",
    "for i in test_7pay.columns:\n",
    "    if (test_7pay[i].dtype in numeric_dtypes) & ( i != 'user_id'):\n",
    "        numeric22.append(i)\n",
    "skew_test_7pay=test_7pay[numeric22].apply(lambda x:skew(x)).sort_values(ascending=False)\n",
    "skews22=pd.DataFrame({'skew':skew_test_7pay})\n",
    "skews22"
   ]
  },
  {
   "cell_type": "code",
   "execution_count": 30,
   "metadata": {
    "ExecuteTime": {
     "end_time": "2018-09-16T14:02:10.326053Z",
     "start_time": "2018-09-16T14:02:10.323053Z"
    }
   },
   "outputs": [],
   "source": [
    "from scipy.special import boxcox1p\n",
    "from scipy.stats import boxcox_normmax"
   ]
  },
  {
   "cell_type": "code",
   "execution_count": 31,
   "metadata": {
    "ExecuteTime": {
     "end_time": "2018-09-16T14:02:17.832482Z",
     "start_time": "2018-09-16T14:02:10.328053Z"
    },
    "scrolled": false
   },
   "outputs": [
    {
     "name": "stderr",
     "output_type": "stream",
     "text": [
      "D:\\ProgramData\\Anaconda3\\lib\\site-packages\\scipy\\stats\\stats.py:5616: RuntimeWarning: overflow encountered in multiply\n",
      "  return np.sum(a*a, axis)\n"
     ]
    },
    {
     "data": {
      "text/html": [
       "<div>\n",
       "<style scoped>\n",
       "    .dataframe tbody tr th:only-of-type {\n",
       "        vertical-align: middle;\n",
       "    }\n",
       "\n",
       "    .dataframe tbody tr th {\n",
       "        vertical-align: top;\n",
       "    }\n",
       "\n",
       "    .dataframe thead th {\n",
       "        text-align: right;\n",
       "    }\n",
       "</style>\n",
       "<table border=\"1\" class=\"dataframe\">\n",
       "  <thead>\n",
       "    <tr style=\"text-align: right;\">\n",
       "      <th></th>\n",
       "      <th>skew</th>\n",
       "    </tr>\n",
       "  </thead>\n",
       "  <tbody>\n",
       "    <tr>\n",
       "      <th>sr_guest_troop_capacity_level</th>\n",
       "      <td>117.691832</td>\n",
       "    </tr>\n",
       "    <tr>\n",
       "      <th>sr_rss_help_bonus_level</th>\n",
       "      <td>117.634879</td>\n",
       "    </tr>\n",
       "    <tr>\n",
       "      <th>sr_march_size_level</th>\n",
       "      <td>77.117545</td>\n",
       "    </tr>\n",
       "    <tr>\n",
       "      <th>sr_troop_attack_level</th>\n",
       "      <td>67.957535</td>\n",
       "    </tr>\n",
       "    <tr>\n",
       "      <th>sr_outpost_tier_4_level</th>\n",
       "      <td>56.432399</td>\n",
       "    </tr>\n",
       "    <tr>\n",
       "      <th>sr_shaman_tier_4_level</th>\n",
       "      <td>34.868251</td>\n",
       "    </tr>\n",
       "    <tr>\n",
       "      <th>sr_infantry_tier_4_level</th>\n",
       "      <td>32.139943</td>\n",
       "    </tr>\n",
       "    <tr>\n",
       "      <th>sr_cavalry_tier_4_level</th>\n",
       "      <td>30.296332</td>\n",
       "    </tr>\n",
       "    <tr>\n",
       "      <th>sr_shaman_hp_level</th>\n",
       "      <td>12.814441</td>\n",
       "    </tr>\n",
       "    <tr>\n",
       "      <th>sr_cavalry_hp_level</th>\n",
       "      <td>12.560403</td>\n",
       "    </tr>\n",
       "    <tr>\n",
       "      <th>sr_shaman_def_level</th>\n",
       "      <td>12.129973</td>\n",
       "    </tr>\n",
       "    <tr>\n",
       "      <th>sr_infantry_hp_level</th>\n",
       "      <td>11.863372</td>\n",
       "    </tr>\n",
       "    <tr>\n",
       "      <th>sr_cavalry_def_level</th>\n",
       "      <td>11.659334</td>\n",
       "    </tr>\n",
       "    <tr>\n",
       "      <th>sr_infantry_def_level</th>\n",
       "      <td>11.332265</td>\n",
       "    </tr>\n",
       "    <tr>\n",
       "      <th>sr_alliance_march_speed_level</th>\n",
       "      <td>9.993289</td>\n",
       "    </tr>\n",
       "    <tr>\n",
       "      <th>sr_troop_defense_level</th>\n",
       "      <td>9.869269</td>\n",
       "    </tr>\n",
       "    <tr>\n",
       "      <th>sr_shaman_tier_3_level</th>\n",
       "      <td>8.629551</td>\n",
       "    </tr>\n",
       "    <tr>\n",
       "      <th>sr_gathering_march_speed_level</th>\n",
       "      <td>8.298226</td>\n",
       "    </tr>\n",
       "    <tr>\n",
       "      <th>sr_cavalry_tier_3_level</th>\n",
       "      <td>8.150256</td>\n",
       "    </tr>\n",
       "    <tr>\n",
       "      <th>sr_pvp_march_speed_level</th>\n",
       "      <td>8.066003</td>\n",
       "    </tr>\n",
       "    <tr>\n",
       "      <th>sr_infantry_tier_3_level</th>\n",
       "      <td>7.930711</td>\n",
       "    </tr>\n",
       "    <tr>\n",
       "      <th>sr_rss_c_gather_level</th>\n",
       "      <td>7.921793</td>\n",
       "    </tr>\n",
       "    <tr>\n",
       "      <th>sr_rss_c_prod_level</th>\n",
       "      <td>6.799671</td>\n",
       "    </tr>\n",
       "    <tr>\n",
       "      <th>sr_rss_b_gather_level</th>\n",
       "      <td>4.355000</td>\n",
       "    </tr>\n",
       "    <tr>\n",
       "      <th>sr_outpost_tier_3_level</th>\n",
       "      <td>4.219154</td>\n",
       "    </tr>\n",
       "    <tr>\n",
       "      <th>sr_rss_e_gather_level</th>\n",
       "      <td>3.974888</td>\n",
       "    </tr>\n",
       "    <tr>\n",
       "      <th>sr_rss_b_prod_level</th>\n",
       "      <td>3.754292</td>\n",
       "    </tr>\n",
       "    <tr>\n",
       "      <th>sr_rss_e_prod_level</th>\n",
       "      <td>2.376228</td>\n",
       "    </tr>\n",
       "    <tr>\n",
       "      <th>treatment_acceleration_reduce_value</th>\n",
       "      <td>2.172012</td>\n",
       "    </tr>\n",
       "    <tr>\n",
       "      <th>sr_rss_d_gather_level</th>\n",
       "      <td>1.575923</td>\n",
       "    </tr>\n",
       "    <tr>\n",
       "      <th>...</th>\n",
       "      <td>...</td>\n",
       "    </tr>\n",
       "    <tr>\n",
       "      <th>magic_reduce_value</th>\n",
       "      <td>0.145848</td>\n",
       "    </tr>\n",
       "    <tr>\n",
       "      <th>general_acceleration_add_value</th>\n",
       "      <td>0.136133</td>\n",
       "    </tr>\n",
       "    <tr>\n",
       "      <th>training_acceleration_add_value</th>\n",
       "      <td>0.131508</td>\n",
       "    </tr>\n",
       "    <tr>\n",
       "      <th>building_acceleration_add_value</th>\n",
       "      <td>0.120398</td>\n",
       "    </tr>\n",
       "    <tr>\n",
       "      <th>magic_add_value</th>\n",
       "      <td>0.086886</td>\n",
       "    </tr>\n",
       "    <tr>\n",
       "      <th>reaserch_acceleration_add_value</th>\n",
       "      <td>0.084796</td>\n",
       "    </tr>\n",
       "    <tr>\n",
       "      <th>bd_hero_pve_level</th>\n",
       "      <td>0.076623</td>\n",
       "    </tr>\n",
       "    <tr>\n",
       "      <th>pve_win_count</th>\n",
       "      <td>0.039549</td>\n",
       "    </tr>\n",
       "    <tr>\n",
       "      <th>pve_lanch_count</th>\n",
       "      <td>0.037883</td>\n",
       "    </tr>\n",
       "    <tr>\n",
       "      <th>pve_battle_count</th>\n",
       "      <td>0.036164</td>\n",
       "    </tr>\n",
       "    <tr>\n",
       "      <th>sr_shaman_tier_2_level</th>\n",
       "      <td>0.019355</td>\n",
       "    </tr>\n",
       "    <tr>\n",
       "      <th>avg_online_minutes</th>\n",
       "      <td>-0.015519</td>\n",
       "    </tr>\n",
       "    <tr>\n",
       "      <th>sr_cavalry_tier_2_level</th>\n",
       "      <td>-0.093492</td>\n",
       "    </tr>\n",
       "    <tr>\n",
       "      <th>sr_infantry_tier_2_level</th>\n",
       "      <td>-0.129278</td>\n",
       "    </tr>\n",
       "    <tr>\n",
       "      <th>bd_guest_cavern_level</th>\n",
       "      <td>-0.258554</td>\n",
       "    </tr>\n",
       "    <tr>\n",
       "      <th>bd_market_level</th>\n",
       "      <td>-0.286070</td>\n",
       "    </tr>\n",
       "    <tr>\n",
       "      <th>sr_training_speed_level</th>\n",
       "      <td>-0.296719</td>\n",
       "    </tr>\n",
       "    <tr>\n",
       "      <th>sr_outpost_tier_2_level</th>\n",
       "      <td>-0.299098</td>\n",
       "    </tr>\n",
       "    <tr>\n",
       "      <th>bd_healing_lodge_level</th>\n",
       "      <td>-0.306906</td>\n",
       "    </tr>\n",
       "    <tr>\n",
       "      <th>bd_watchtower_level</th>\n",
       "      <td>-0.381151</td>\n",
       "    </tr>\n",
       "    <tr>\n",
       "      <th>bd_training_hut_level</th>\n",
       "      <td>-0.401962</td>\n",
       "    </tr>\n",
       "    <tr>\n",
       "      <th>bd_healing_spring_level</th>\n",
       "      <td>-0.409719</td>\n",
       "    </tr>\n",
       "    <tr>\n",
       "      <th>bd_dolmen_level</th>\n",
       "      <td>-0.506567</td>\n",
       "    </tr>\n",
       "    <tr>\n",
       "      <th>bd_outpost_portal_level</th>\n",
       "      <td>-0.516837</td>\n",
       "    </tr>\n",
       "    <tr>\n",
       "      <th>bd_warehouse_level</th>\n",
       "      <td>-0.519127</td>\n",
       "    </tr>\n",
       "    <tr>\n",
       "      <th>bd_barrack_level</th>\n",
       "      <td>-0.541721</td>\n",
       "    </tr>\n",
       "    <tr>\n",
       "      <th>bd_magic_coin_tree_level</th>\n",
       "      <td>-0.550381</td>\n",
       "    </tr>\n",
       "    <tr>\n",
       "      <th>bd_stronghold_level</th>\n",
       "      <td>-0.694097</td>\n",
       "    </tr>\n",
       "    <tr>\n",
       "      <th>meat_reduce_value</th>\n",
       "      <td>-3.562855</td>\n",
       "    </tr>\n",
       "    <tr>\n",
       "      <th>wood_reduce_value</th>\n",
       "      <td>-3.566151</td>\n",
       "    </tr>\n",
       "  </tbody>\n",
       "</table>\n",
       "<p>107 rows × 1 columns</p>\n",
       "</div>"
      ],
      "text/plain": [
       "                                           skew\n",
       "sr_guest_troop_capacity_level        117.691832\n",
       "sr_rss_help_bonus_level              117.634879\n",
       "sr_march_size_level                   77.117545\n",
       "sr_troop_attack_level                 67.957535\n",
       "sr_outpost_tier_4_level               56.432399\n",
       "sr_shaman_tier_4_level                34.868251\n",
       "sr_infantry_tier_4_level              32.139943\n",
       "sr_cavalry_tier_4_level               30.296332\n",
       "sr_shaman_hp_level                    12.814441\n",
       "sr_cavalry_hp_level                   12.560403\n",
       "sr_shaman_def_level                   12.129973\n",
       "sr_infantry_hp_level                  11.863372\n",
       "sr_cavalry_def_level                  11.659334\n",
       "sr_infantry_def_level                 11.332265\n",
       "sr_alliance_march_speed_level          9.993289\n",
       "sr_troop_defense_level                 9.869269\n",
       "sr_shaman_tier_3_level                 8.629551\n",
       "sr_gathering_march_speed_level         8.298226\n",
       "sr_cavalry_tier_3_level                8.150256\n",
       "sr_pvp_march_speed_level               8.066003\n",
       "sr_infantry_tier_3_level               7.930711\n",
       "sr_rss_c_gather_level                  7.921793\n",
       "sr_rss_c_prod_level                    6.799671\n",
       "sr_rss_b_gather_level                  4.355000\n",
       "sr_outpost_tier_3_level                4.219154\n",
       "sr_rss_e_gather_level                  3.974888\n",
       "sr_rss_b_prod_level                    3.754292\n",
       "sr_rss_e_prod_level                    2.376228\n",
       "treatment_acceleration_reduce_value    2.172012\n",
       "sr_rss_d_gather_level                  1.575923\n",
       "...                                         ...\n",
       "magic_reduce_value                     0.145848\n",
       "general_acceleration_add_value         0.136133\n",
       "training_acceleration_add_value        0.131508\n",
       "building_acceleration_add_value        0.120398\n",
       "magic_add_value                        0.086886\n",
       "reaserch_acceleration_add_value        0.084796\n",
       "bd_hero_pve_level                      0.076623\n",
       "pve_win_count                          0.039549\n",
       "pve_lanch_count                        0.037883\n",
       "pve_battle_count                       0.036164\n",
       "sr_shaman_tier_2_level                 0.019355\n",
       "avg_online_minutes                    -0.015519\n",
       "sr_cavalry_tier_2_level               -0.093492\n",
       "sr_infantry_tier_2_level              -0.129278\n",
       "bd_guest_cavern_level                 -0.258554\n",
       "bd_market_level                       -0.286070\n",
       "sr_training_speed_level               -0.296719\n",
       "sr_outpost_tier_2_level               -0.299098\n",
       "bd_healing_lodge_level                -0.306906\n",
       "bd_watchtower_level                   -0.381151\n",
       "bd_training_hut_level                 -0.401962\n",
       "bd_healing_spring_level               -0.409719\n",
       "bd_dolmen_level                       -0.506567\n",
       "bd_outpost_portal_level               -0.516837\n",
       "bd_warehouse_level                    -0.519127\n",
       "bd_barrack_level                      -0.541721\n",
       "bd_magic_coin_tree_level              -0.550381\n",
       "bd_stronghold_level                   -0.694097\n",
       "meat_reduce_value                     -3.562855\n",
       "wood_reduce_value                     -3.566151\n",
       "\n",
       "[107 rows x 1 columns]"
      ]
     },
     "execution_count": 31,
     "metadata": {},
     "output_type": "execute_result"
    }
   ],
   "source": [
    "high_skew=skew_train_7pay[skew_train_7pay>0.5]\n",
    "high_skew=high_skew\n",
    "skew_index=high_skew.index\n",
    "\n",
    "for i in skew_index:\n",
    "    train_7pay[i]=boxcox1p(train_7pay[i],boxcox_normmax(train_7pay[i]+1))\n",
    "skew_train_7pay2=train_7pay[numeric2].apply(lambda x:skew(x)).sort_values(ascending=False)\n",
    "skew2=pd.DataFrame({'skew':skew_train_7pay2})\n",
    "skew2"
   ]
  },
  {
   "cell_type": "code",
   "execution_count": 32,
   "metadata": {
    "ExecuteTime": {
     "end_time": "2018-09-16T14:02:21.509692Z",
     "start_time": "2018-09-16T14:02:17.833482Z"
    }
   },
   "outputs": [
    {
     "name": "stderr",
     "output_type": "stream",
     "text": [
      "D:\\ProgramData\\Anaconda3\\lib\\site-packages\\scipy\\stats\\stats.py:5616: RuntimeWarning: overflow encountered in multiply\n",
      "  return np.sum(a*a, axis)\n"
     ]
    },
    {
     "data": {
      "text/html": [
       "<div>\n",
       "<style scoped>\n",
       "    .dataframe tbody tr th:only-of-type {\n",
       "        vertical-align: middle;\n",
       "    }\n",
       "\n",
       "    .dataframe tbody tr th {\n",
       "        vertical-align: top;\n",
       "    }\n",
       "\n",
       "    .dataframe thead th {\n",
       "        text-align: right;\n",
       "    }\n",
       "</style>\n",
       "<table border=\"1\" class=\"dataframe\">\n",
       "  <thead>\n",
       "    <tr style=\"text-align: right;\">\n",
       "      <th></th>\n",
       "      <th>skew</th>\n",
       "    </tr>\n",
       "  </thead>\n",
       "  <tbody>\n",
       "    <tr>\n",
       "      <th>sr_rss_help_bonus_level</th>\n",
       "      <td>80.705226</td>\n",
       "    </tr>\n",
       "    <tr>\n",
       "      <th>sr_guest_troop_capacity_level</th>\n",
       "      <td>80.705226</td>\n",
       "    </tr>\n",
       "    <tr>\n",
       "      <th>sr_march_size_level</th>\n",
       "      <td>52.917479</td>\n",
       "    </tr>\n",
       "    <tr>\n",
       "      <th>sr_troop_attack_level</th>\n",
       "      <td>52.893436</td>\n",
       "    </tr>\n",
       "    <tr>\n",
       "      <th>sr_outpost_tier_4_level</th>\n",
       "      <td>49.402686</td>\n",
       "    </tr>\n",
       "    <tr>\n",
       "      <th>sr_cavalry_tier_4_level</th>\n",
       "      <td>36.059221</td>\n",
       "    </tr>\n",
       "    <tr>\n",
       "      <th>sr_shaman_tier_4_level</th>\n",
       "      <td>32.029607</td>\n",
       "    </tr>\n",
       "    <tr>\n",
       "      <th>sr_infantry_tier_4_level</th>\n",
       "      <td>28.487592</td>\n",
       "    </tr>\n",
       "    <tr>\n",
       "      <th>sr_shaman_hp_level</th>\n",
       "      <td>14.114951</td>\n",
       "    </tr>\n",
       "    <tr>\n",
       "      <th>sr_shaman_def_level</th>\n",
       "      <td>13.189898</td>\n",
       "    </tr>\n",
       "    <tr>\n",
       "      <th>sr_infantry_hp_level</th>\n",
       "      <td>12.909549</td>\n",
       "    </tr>\n",
       "    <tr>\n",
       "      <th>sr_cavalry_hp_level</th>\n",
       "      <td>12.634294</td>\n",
       "    </tr>\n",
       "    <tr>\n",
       "      <th>sr_infantry_def_level</th>\n",
       "      <td>12.153610</td>\n",
       "    </tr>\n",
       "    <tr>\n",
       "      <th>sr_cavalry_def_level</th>\n",
       "      <td>12.056187</td>\n",
       "    </tr>\n",
       "    <tr>\n",
       "      <th>sr_troop_defense_level</th>\n",
       "      <td>10.208373</td>\n",
       "    </tr>\n",
       "    <tr>\n",
       "      <th>sr_alliance_march_speed_level</th>\n",
       "      <td>9.626088</td>\n",
       "    </tr>\n",
       "    <tr>\n",
       "      <th>sr_shaman_tier_3_level</th>\n",
       "      <td>8.782454</td>\n",
       "    </tr>\n",
       "    <tr>\n",
       "      <th>sr_infantry_tier_3_level</th>\n",
       "      <td>8.085048</td>\n",
       "    </tr>\n",
       "    <tr>\n",
       "      <th>sr_cavalry_tier_3_level</th>\n",
       "      <td>8.070309</td>\n",
       "    </tr>\n",
       "    <tr>\n",
       "      <th>sr_pvp_march_speed_level</th>\n",
       "      <td>7.781338</td>\n",
       "    </tr>\n",
       "    <tr>\n",
       "      <th>sr_gathering_march_speed_level</th>\n",
       "      <td>7.660706</td>\n",
       "    </tr>\n",
       "    <tr>\n",
       "      <th>sr_rss_c_gather_level</th>\n",
       "      <td>7.413734</td>\n",
       "    </tr>\n",
       "    <tr>\n",
       "      <th>sr_rss_c_prod_level</th>\n",
       "      <td>6.336214</td>\n",
       "    </tr>\n",
       "    <tr>\n",
       "      <th>sr_outpost_tier_3_level</th>\n",
       "      <td>4.103616</td>\n",
       "    </tr>\n",
       "    <tr>\n",
       "      <th>sr_rss_b_gather_level</th>\n",
       "      <td>4.081167</td>\n",
       "    </tr>\n",
       "    <tr>\n",
       "      <th>sr_rss_e_gather_level</th>\n",
       "      <td>3.775178</td>\n",
       "    </tr>\n",
       "    <tr>\n",
       "      <th>sr_rss_b_prod_level</th>\n",
       "      <td>3.515250</td>\n",
       "    </tr>\n",
       "    <tr>\n",
       "      <th>sr_rss_e_prod_level</th>\n",
       "      <td>2.217775</td>\n",
       "    </tr>\n",
       "    <tr>\n",
       "      <th>treatment_acceleration_reduce_value</th>\n",
       "      <td>2.123521</td>\n",
       "    </tr>\n",
       "    <tr>\n",
       "      <th>sr_rss_d_gather_level</th>\n",
       "      <td>1.447355</td>\n",
       "    </tr>\n",
       "    <tr>\n",
       "      <th>...</th>\n",
       "      <td>...</td>\n",
       "    </tr>\n",
       "    <tr>\n",
       "      <th>sr_scout_level</th>\n",
       "      <td>0.106724</td>\n",
       "    </tr>\n",
       "    <tr>\n",
       "      <th>building_acceleration_reduce_value</th>\n",
       "      <td>0.106130</td>\n",
       "    </tr>\n",
       "    <tr>\n",
       "      <th>magic_reduce_value</th>\n",
       "      <td>0.101948</td>\n",
       "    </tr>\n",
       "    <tr>\n",
       "      <th>reaserch_acceleration_reduce_value</th>\n",
       "      <td>0.100930</td>\n",
       "    </tr>\n",
       "    <tr>\n",
       "      <th>pvp_battle_count</th>\n",
       "      <td>0.098094</td>\n",
       "    </tr>\n",
       "    <tr>\n",
       "      <th>general_acceleration_add_value</th>\n",
       "      <td>0.095868</td>\n",
       "    </tr>\n",
       "    <tr>\n",
       "      <th>reaserch_acceleration_add_value</th>\n",
       "      <td>0.086511</td>\n",
       "    </tr>\n",
       "    <tr>\n",
       "      <th>magic_add_value</th>\n",
       "      <td>0.049668</td>\n",
       "    </tr>\n",
       "    <tr>\n",
       "      <th>avg_online_minutes</th>\n",
       "      <td>-0.015836</td>\n",
       "    </tr>\n",
       "    <tr>\n",
       "      <th>bd_hero_pve_level</th>\n",
       "      <td>-0.028230</td>\n",
       "    </tr>\n",
       "    <tr>\n",
       "      <th>pve_win_count</th>\n",
       "      <td>-0.030237</td>\n",
       "    </tr>\n",
       "    <tr>\n",
       "      <th>pve_lanch_count</th>\n",
       "      <td>-0.032957</td>\n",
       "    </tr>\n",
       "    <tr>\n",
       "      <th>pve_battle_count</th>\n",
       "      <td>-0.034437</td>\n",
       "    </tr>\n",
       "    <tr>\n",
       "      <th>sr_shaman_tier_2_level</th>\n",
       "      <td>-0.223283</td>\n",
       "    </tr>\n",
       "    <tr>\n",
       "      <th>bd_healing_lodge_level</th>\n",
       "      <td>-0.246816</td>\n",
       "    </tr>\n",
       "    <tr>\n",
       "      <th>bd_market_level</th>\n",
       "      <td>-0.350075</td>\n",
       "    </tr>\n",
       "    <tr>\n",
       "      <th>bd_guest_cavern_level</th>\n",
       "      <td>-0.356346</td>\n",
       "    </tr>\n",
       "    <tr>\n",
       "      <th>bd_training_hut_level</th>\n",
       "      <td>-0.357798</td>\n",
       "    </tr>\n",
       "    <tr>\n",
       "      <th>bd_outpost_portal_level</th>\n",
       "      <td>-0.361263</td>\n",
       "    </tr>\n",
       "    <tr>\n",
       "      <th>sr_cavalry_tier_2_level</th>\n",
       "      <td>-0.386909</td>\n",
       "    </tr>\n",
       "    <tr>\n",
       "      <th>bd_watchtower_level</th>\n",
       "      <td>-0.399521</td>\n",
       "    </tr>\n",
       "    <tr>\n",
       "      <th>sr_infantry_tier_2_level</th>\n",
       "      <td>-0.424297</td>\n",
       "    </tr>\n",
       "    <tr>\n",
       "      <th>bd_healing_spring_level</th>\n",
       "      <td>-0.443664</td>\n",
       "    </tr>\n",
       "    <tr>\n",
       "      <th>bd_dolmen_level</th>\n",
       "      <td>-0.460564</td>\n",
       "    </tr>\n",
       "    <tr>\n",
       "      <th>sr_training_speed_level</th>\n",
       "      <td>-0.497942</td>\n",
       "    </tr>\n",
       "    <tr>\n",
       "      <th>bd_barrack_level</th>\n",
       "      <td>-0.516124</td>\n",
       "    </tr>\n",
       "    <tr>\n",
       "      <th>bd_stronghold_level</th>\n",
       "      <td>-0.543057</td>\n",
       "    </tr>\n",
       "    <tr>\n",
       "      <th>bd_warehouse_level</th>\n",
       "      <td>-0.583353</td>\n",
       "    </tr>\n",
       "    <tr>\n",
       "      <th>bd_magic_coin_tree_level</th>\n",
       "      <td>-0.678569</td>\n",
       "    </tr>\n",
       "    <tr>\n",
       "      <th>sr_outpost_tier_2_level</th>\n",
       "      <td>-0.731500</td>\n",
       "    </tr>\n",
       "  </tbody>\n",
       "</table>\n",
       "<p>106 rows × 1 columns</p>\n",
       "</div>"
      ],
      "text/plain": [
       "                                          skew\n",
       "sr_rss_help_bonus_level              80.705226\n",
       "sr_guest_troop_capacity_level        80.705226\n",
       "sr_march_size_level                  52.917479\n",
       "sr_troop_attack_level                52.893436\n",
       "sr_outpost_tier_4_level              49.402686\n",
       "sr_cavalry_tier_4_level              36.059221\n",
       "sr_shaman_tier_4_level               32.029607\n",
       "sr_infantry_tier_4_level             28.487592\n",
       "sr_shaman_hp_level                   14.114951\n",
       "sr_shaman_def_level                  13.189898\n",
       "sr_infantry_hp_level                 12.909549\n",
       "sr_cavalry_hp_level                  12.634294\n",
       "sr_infantry_def_level                12.153610\n",
       "sr_cavalry_def_level                 12.056187\n",
       "sr_troop_defense_level               10.208373\n",
       "sr_alliance_march_speed_level         9.626088\n",
       "sr_shaman_tier_3_level                8.782454\n",
       "sr_infantry_tier_3_level              8.085048\n",
       "sr_cavalry_tier_3_level               8.070309\n",
       "sr_pvp_march_speed_level              7.781338\n",
       "sr_gathering_march_speed_level        7.660706\n",
       "sr_rss_c_gather_level                 7.413734\n",
       "sr_rss_c_prod_level                   6.336214\n",
       "sr_outpost_tier_3_level               4.103616\n",
       "sr_rss_b_gather_level                 4.081167\n",
       "sr_rss_e_gather_level                 3.775178\n",
       "sr_rss_b_prod_level                   3.515250\n",
       "sr_rss_e_prod_level                   2.217775\n",
       "treatment_acceleration_reduce_value   2.123521\n",
       "sr_rss_d_gather_level                 1.447355\n",
       "...                                        ...\n",
       "sr_scout_level                        0.106724\n",
       "building_acceleration_reduce_value    0.106130\n",
       "magic_reduce_value                    0.101948\n",
       "reaserch_acceleration_reduce_value    0.100930\n",
       "pvp_battle_count                      0.098094\n",
       "general_acceleration_add_value        0.095868\n",
       "reaserch_acceleration_add_value       0.086511\n",
       "magic_add_value                       0.049668\n",
       "avg_online_minutes                   -0.015836\n",
       "bd_hero_pve_level                    -0.028230\n",
       "pve_win_count                        -0.030237\n",
       "pve_lanch_count                      -0.032957\n",
       "pve_battle_count                     -0.034437\n",
       "sr_shaman_tier_2_level               -0.223283\n",
       "bd_healing_lodge_level               -0.246816\n",
       "bd_market_level                      -0.350075\n",
       "bd_guest_cavern_level                -0.356346\n",
       "bd_training_hut_level                -0.357798\n",
       "bd_outpost_portal_level              -0.361263\n",
       "sr_cavalry_tier_2_level              -0.386909\n",
       "bd_watchtower_level                  -0.399521\n",
       "sr_infantry_tier_2_level             -0.424297\n",
       "bd_healing_spring_level              -0.443664\n",
       "bd_dolmen_level                      -0.460564\n",
       "sr_training_speed_level              -0.497942\n",
       "bd_barrack_level                     -0.516124\n",
       "bd_stronghold_level                  -0.543057\n",
       "bd_warehouse_level                   -0.583353\n",
       "bd_magic_coin_tree_level             -0.678569\n",
       "sr_outpost_tier_2_level              -0.731500\n",
       "\n",
       "[106 rows x 1 columns]"
      ]
     },
     "execution_count": 32,
     "metadata": {},
     "output_type": "execute_result"
    }
   ],
   "source": [
    "high_skew2=skew_test_7pay[skew_test_7pay>0.5]\n",
    "high_skew2=high_skew2\n",
    "skew_index2=high_skew2.index\n",
    "\n",
    "for i in skew_index2:\n",
    "    test_7pay[i]=boxcox1p(test_7pay[i],boxcox_normmax(test_7pay[i]+1))\n",
    "skew_test_7pay2=test_7pay[numeric22].apply(lambda x:skew(x)).sort_values(ascending=False)\n",
    "skew2=pd.DataFrame({'skew':skew_test_7pay2})\n",
    "skew2"
   ]
  },
  {
   "cell_type": "code",
   "execution_count": 34,
   "metadata": {
    "ExecuteTime": {
     "end_time": "2018-09-16T14:03:06.986194Z",
     "start_time": "2018-09-16T14:03:06.954994Z"
    }
   },
   "outputs": [
    {
     "data": {
      "text/plain": [
       "(41439, 108)"
      ]
     },
     "execution_count": 34,
     "metadata": {},
     "output_type": "execute_result"
    }
   ],
   "source": [
    "train_7pay.shape"
   ]
  },
  {
   "cell_type": "code",
   "execution_count": null,
   "metadata": {},
   "outputs": [],
   "source": []
  },
  {
   "cell_type": "code",
   "execution_count": 42,
   "metadata": {
    "ExecuteTime": {
     "end_time": "2018-09-16T14:08:57.574851Z",
     "start_time": "2018-09-16T14:08:53.373011Z"
    }
   },
   "outputs": [
    {
     "data": {
      "text/plain": [
       "0.3853100191370486"
      ]
     },
     "execution_count": 42,
     "metadata": {},
     "output_type": "execute_result"
    }
   ],
   "source": [
    "drop_col=[i for i in train_7pay.columns.values if 'prediction' in  i]\n",
    "drop_col.append('user_id')\n",
    "X=train_7pay.drop(labels=drop_col,axis=1)\n",
    "y=train_7pay.prediction_pay_price\n",
    "X.replace([np.inf,-np.inf],np.nan,inplace=True)\n",
    "X.fillna(0.0,inplace=True)\n",
    "from sklearn.model_selection import cross_val_score,KFold\n",
    "from sklearn.linear_model import LinearRegression,RidgeCV,LassoCV,ElasticNetCV\n",
    "from sklearn.preprocessing import RobustScaler\n",
    "from sklearn.pipeline import make_pipeline\n",
    "\n",
    "kfolds=KFold(n_splits=10,shuffle=False,random_state=13)\n",
    "\n",
    "\n",
    "def cv_rmse(model):\n",
    "    rmse=np.sqrt(-cross_val_score(model,X,y,scoring='neg_mean_squared_error',cv=kfolds))\n",
    "    return rmse\n",
    "\n",
    "lm = LinearRegression()\n",
    "\n",
    "benchmark_model=make_pipeline(RobustScaler(),\n",
    "                             lm).fit(X,y)\n",
    "\n",
    "cv_rmse(benchmark_model).mean()"
   ]
  },
  {
   "cell_type": "code",
   "execution_count": null,
   "metadata": {},
   "outputs": [],
   "source": []
  },
  {
   "cell_type": "code",
   "execution_count": 43,
   "metadata": {
    "ExecuteTime": {
     "end_time": "2018-09-16T14:09:29.443367Z",
     "start_time": "2018-09-16T14:09:29.180753Z"
    }
   },
   "outputs": [],
   "source": [
    "drop_col=[i for i in train_7pay.columns.values if 'prediction' in  i]\n",
    "X=train_7pay.drop(labels=drop_col,axis=1)\n",
    "y=train_7pay.prediction_pay_price\n",
    "\n",
    "X.replace([np.inf,-np.inf],np.nan,inplace=True)\n",
    "X.fillna(0.0,inplace=True)"
   ]
  },
  {
   "cell_type": "code",
   "execution_count": 44,
   "metadata": {
    "ExecuteTime": {
     "end_time": "2018-09-16T14:09:32.281598Z",
     "start_time": "2018-09-16T14:09:32.250398Z"
    }
   },
   "outputs": [],
   "source": [
    "from sklearn.model_selection  import train_test_split"
   ]
  },
  {
   "cell_type": "code",
   "execution_count": 57,
   "metadata": {
    "ExecuteTime": {
     "end_time": "2018-09-16T14:14:14.591854Z",
     "start_time": "2018-09-16T14:14:14.523652Z"
    }
   },
   "outputs": [],
   "source": [
    "X1,val_X1,y1,val_y1=train_test_split(X,y,test_size=0.2,random_state=17)\n",
    "X2=X1.drop(labels='user_id',axis=1)\n",
    "val_X2=val_X1.drop(labels='user_id',axis=1)\n",
    "X2_user_id=X1.user_id\n",
    "val_X2_user_id=val_X1.user_id"
   ]
  },
  {
   "cell_type": "code",
   "execution_count": 96,
   "metadata": {
    "ExecuteTime": {
     "end_time": "2018-09-16T14:25:15.146593Z",
     "start_time": "2018-09-16T14:25:15.127993Z"
    }
   },
   "outputs": [
    {
     "data": {
      "text/plain": [
       "1810574    2558880\n",
       "1173563    1486362\n",
       "208634      243845\n",
       "693625      873606\n",
       "555988      733979\n",
       "Name: user_id, dtype: int64"
      ]
     },
     "execution_count": 96,
     "metadata": {},
     "output_type": "execute_result"
    }
   ],
   "source": [
    "val_X2_user_id.head()"
   ]
  },
  {
   "cell_type": "code",
   "execution_count": 95,
   "metadata": {
    "ExecuteTime": {
     "end_time": "2018-09-16T14:25:09.944645Z",
     "start_time": "2018-09-16T14:25:09.913445Z"
    }
   },
   "outputs": [
    {
     "data": {
      "text/plain": [
       "702488      883635\n",
       "1536614    1990570\n",
       "11227        12819\n",
       "2034737    2895886\n",
       "1661662    2243560\n",
       "Name: user_id, dtype: int64"
      ]
     },
     "execution_count": 95,
     "metadata": {},
     "output_type": "execute_result"
    }
   ],
   "source": [
    "X2_user_id.head()"
   ]
  },
  {
   "cell_type": "code",
   "execution_count": 58,
   "metadata": {
    "ExecuteTime": {
     "end_time": "2018-09-16T14:14:16.779889Z",
     "start_time": "2018-09-16T14:14:16.764289Z"
    }
   },
   "outputs": [],
   "source": [
    "kfolds2=KFold(n_splits=3,shuffle=False,random_state=29)"
   ]
  },
  {
   "cell_type": "code",
   "execution_count": 59,
   "metadata": {
    "ExecuteTime": {
     "end_time": "2018-09-16T14:14:24.946385Z",
     "start_time": "2018-09-16T14:14:24.930785Z"
    }
   },
   "outputs": [],
   "source": [
    "def cv_rmse2(model):\n",
    "    rmse=np.sqrt(-cross_val_score(model,X2,y1,scoring='neg_mean_squared_error',cv=kfolds))\n",
    "    return rmse"
   ]
  },
  {
   "cell_type": "code",
   "execution_count": 60,
   "metadata": {
    "ExecuteTime": {
     "end_time": "2018-09-16T14:14:31.122122Z",
     "start_time": "2018-09-16T14:14:25.786619Z"
    }
   },
   "outputs": [
    {
     "data": {
      "text/plain": [
       "0.38088628094700694"
      ]
     },
     "execution_count": 60,
     "metadata": {},
     "output_type": "execute_result"
    }
   ],
   "source": [
    "ridge_model2=make_pipeline(RobustScaler(),\n",
    "                         RidgeCV(alphas=[13.8],cv=kfolds2)).fit(X2,y1)\n",
    "cv_rmse2(ridge_model2).mean()"
   ]
  },
  {
   "cell_type": "code",
   "execution_count": 61,
   "metadata": {
    "ExecuteTime": {
     "end_time": "2018-09-16T14:14:42.637279Z",
     "start_time": "2018-09-16T14:14:42.603079Z"
    }
   },
   "outputs": [],
   "source": [
    "r_pred=ridge_model2.predict(val_X2)"
   ]
  },
  {
   "cell_type": "code",
   "execution_count": 62,
   "metadata": {
    "ExecuteTime": {
     "end_time": "2018-09-16T14:14:44.301115Z",
     "start_time": "2018-09-16T14:14:44.285515Z"
    }
   },
   "outputs": [
    {
     "data": {
      "text/plain": [
       "array([2.23136068, 1.2793973 , 0.30555548, ..., 0.30352495, 0.32126453,\n",
       "       2.85716997])"
      ]
     },
     "execution_count": 62,
     "metadata": {},
     "output_type": "execute_result"
    }
   ],
   "source": [
    "r_pred"
   ]
  },
  {
   "cell_type": "code",
   "execution_count": 63,
   "metadata": {
    "ExecuteTime": {
     "end_time": "2018-09-16T14:14:48.025608Z",
     "start_time": "2018-09-16T14:14:48.010008Z"
    }
   },
   "outputs": [],
   "source": [
    "from sklearn.metrics import mean_squared_error"
   ]
  },
  {
   "cell_type": "code",
   "execution_count": 64,
   "metadata": {
    "ExecuteTime": {
     "end_time": "2018-09-16T14:14:57.043657Z",
     "start_time": "2018-09-16T14:14:57.028057Z"
    }
   },
   "outputs": [
    {
     "data": {
      "text/plain": [
       "2.6908714472283433"
      ]
     },
     "execution_count": 64,
     "metadata": {},
     "output_type": "execute_result"
    }
   ],
   "source": [
    "np.sqrt(mean_squared_error(np.expm1(val_y1),np.expm1(r_pred)))"
   ]
  },
  {
   "cell_type": "code",
   "execution_count": 83,
   "metadata": {
    "ExecuteTime": {
     "end_time": "2018-09-16T14:20:20.650453Z",
     "start_time": "2018-09-16T14:20:20.640453Z"
    }
   },
   "outputs": [],
   "source": [
    "r_result=pd.DataFrame(list(zip(np.expm1(val_y1),np.expm1(r_pred))),columns=['val_y1','pred_y1'])"
   ]
  },
  {
   "cell_type": "code",
   "execution_count": 84,
   "metadata": {
    "ExecuteTime": {
     "end_time": "2018-09-16T14:20:21.280287Z",
     "start_time": "2018-09-16T14:20:21.264687Z"
    }
   },
   "outputs": [
    {
     "data": {
      "text/plain": [
       "pandas.core.series.Series"
      ]
     },
     "execution_count": 84,
     "metadata": {},
     "output_type": "execute_result"
    }
   ],
   "source": [
    "type(val_X2_user_id)"
   ]
  },
  {
   "cell_type": "code",
   "execution_count": 91,
   "metadata": {
    "ExecuteTime": {
     "end_time": "2018-09-16T14:22:01.374566Z",
     "start_time": "2018-09-16T14:22:01.358966Z"
    }
   },
   "outputs": [],
   "source": [
    "r_result['user_id']=val_X2_user_id.values"
   ]
  },
  {
   "cell_type": "code",
   "execution_count": 92,
   "metadata": {
    "ExecuteTime": {
     "end_time": "2018-09-16T14:22:02.398801Z",
     "start_time": "2018-09-16T14:22:02.383201Z"
    }
   },
   "outputs": [
    {
     "data": {
      "text/plain": [
       "(8288, 3)"
      ]
     },
     "execution_count": 92,
     "metadata": {},
     "output_type": "execute_result"
    }
   ],
   "source": [
    "r_result.shape"
   ]
  },
  {
   "cell_type": "code",
   "execution_count": 93,
   "metadata": {
    "ExecuteTime": {
     "end_time": "2018-09-16T14:22:05.711637Z",
     "start_time": "2018-09-16T14:22:05.696037Z"
    }
   },
   "outputs": [
    {
     "data": {
      "text/plain": [
       "array([2558880, 1486362,  243845, ..., 2267734, 1039683, 2800511],\n",
       "      dtype=int64)"
      ]
     },
     "execution_count": 93,
     "metadata": {},
     "output_type": "execute_result"
    }
   ],
   "source": [
    "val_X2_user_id.values"
   ]
  },
  {
   "cell_type": "code",
   "execution_count": 94,
   "metadata": {
    "ExecuteTime": {
     "end_time": "2018-09-16T14:22:06.929068Z",
     "start_time": "2018-09-16T14:22:06.890868Z"
    }
   },
   "outputs": [
    {
     "data": {
      "text/html": [
       "<div>\n",
       "<style scoped>\n",
       "    .dataframe tbody tr th:only-of-type {\n",
       "        vertical-align: middle;\n",
       "    }\n",
       "\n",
       "    .dataframe tbody tr th {\n",
       "        vertical-align: top;\n",
       "    }\n",
       "\n",
       "    .dataframe thead th {\n",
       "        text-align: right;\n",
       "    }\n",
       "</style>\n",
       "<table border=\"1\" class=\"dataframe\">\n",
       "  <thead>\n",
       "    <tr style=\"text-align: right;\">\n",
       "      <th></th>\n",
       "      <th>val_y1</th>\n",
       "      <th>pred_y1</th>\n",
       "      <th>user_id</th>\n",
       "    </tr>\n",
       "  </thead>\n",
       "  <tbody>\n",
       "    <tr>\n",
       "      <th>0</th>\n",
       "      <td>7.761545</td>\n",
       "      <td>8.312529</td>\n",
       "      <td>2558880</td>\n",
       "    </tr>\n",
       "    <tr>\n",
       "      <th>1</th>\n",
       "      <td>2.807299</td>\n",
       "      <td>2.594473</td>\n",
       "      <td>1486362</td>\n",
       "    </tr>\n",
       "    <tr>\n",
       "      <th>2</th>\n",
       "      <td>-0.010031</td>\n",
       "      <td>0.357379</td>\n",
       "      <td>243845</td>\n",
       "    </tr>\n",
       "    <tr>\n",
       "      <th>3</th>\n",
       "      <td>1.347480</td>\n",
       "      <td>0.453016</td>\n",
       "      <td>873606</td>\n",
       "    </tr>\n",
       "    <tr>\n",
       "      <th>4</th>\n",
       "      <td>5.597342</td>\n",
       "      <td>4.755299</td>\n",
       "      <td>733979</td>\n",
       "    </tr>\n",
       "    <tr>\n",
       "      <th>5</th>\n",
       "      <td>1.347480</td>\n",
       "      <td>1.278471</td>\n",
       "      <td>1361413</td>\n",
       "    </tr>\n",
       "    <tr>\n",
       "      <th>6</th>\n",
       "      <td>-0.010031</td>\n",
       "      <td>0.221256</td>\n",
       "      <td>1637543</td>\n",
       "    </tr>\n",
       "    <tr>\n",
       "      <th>7</th>\n",
       "      <td>22.016047</td>\n",
       "      <td>20.515266</td>\n",
       "      <td>677474</td>\n",
       "    </tr>\n",
       "    <tr>\n",
       "      <th>8</th>\n",
       "      <td>2.807299</td>\n",
       "      <td>2.660090</td>\n",
       "      <td>85660</td>\n",
       "    </tr>\n",
       "    <tr>\n",
       "      <th>9</th>\n",
       "      <td>2.514146</td>\n",
       "      <td>2.316325</td>\n",
       "      <td>215287</td>\n",
       "    </tr>\n",
       "    <tr>\n",
       "      <th>10</th>\n",
       "      <td>-0.010031</td>\n",
       "      <td>0.081389</td>\n",
       "      <td>3093831</td>\n",
       "    </tr>\n",
       "    <tr>\n",
       "      <th>11</th>\n",
       "      <td>2.507889</td>\n",
       "      <td>2.930380</td>\n",
       "      <td>1915193</td>\n",
       "    </tr>\n",
       "    <tr>\n",
       "      <th>12</th>\n",
       "      <td>-0.010031</td>\n",
       "      <td>0.309809</td>\n",
       "      <td>1284692</td>\n",
       "    </tr>\n",
       "    <tr>\n",
       "      <th>13</th>\n",
       "      <td>-0.010031</td>\n",
       "      <td>0.169261</td>\n",
       "      <td>387153</td>\n",
       "    </tr>\n",
       "    <tr>\n",
       "      <th>14</th>\n",
       "      <td>2.514146</td>\n",
       "      <td>2.822201</td>\n",
       "      <td>2197104</td>\n",
       "    </tr>\n",
       "    <tr>\n",
       "      <th>15</th>\n",
       "      <td>8.714734</td>\n",
       "      <td>9.986460</td>\n",
       "      <td>33927</td>\n",
       "    </tr>\n",
       "    <tr>\n",
       "      <th>16</th>\n",
       "      <td>2.807299</td>\n",
       "      <td>2.939918</td>\n",
       "      <td>1105005</td>\n",
       "    </tr>\n",
       "    <tr>\n",
       "      <th>17</th>\n",
       "      <td>0.779525</td>\n",
       "      <td>0.596719</td>\n",
       "      <td>947558</td>\n",
       "    </tr>\n",
       "    <tr>\n",
       "      <th>18</th>\n",
       "      <td>-0.010031</td>\n",
       "      <td>0.254736</td>\n",
       "      <td>161029</td>\n",
       "    </tr>\n",
       "    <tr>\n",
       "      <th>19</th>\n",
       "      <td>-0.010031</td>\n",
       "      <td>0.179388</td>\n",
       "      <td>591367</td>\n",
       "    </tr>\n",
       "    <tr>\n",
       "      <th>20</th>\n",
       "      <td>5.218672</td>\n",
       "      <td>8.425841</td>\n",
       "      <td>1480487</td>\n",
       "    </tr>\n",
       "    <tr>\n",
       "      <th>21</th>\n",
       "      <td>11.818678</td>\n",
       "      <td>7.896530</td>\n",
       "      <td>1370885</td>\n",
       "    </tr>\n",
       "    <tr>\n",
       "      <th>22</th>\n",
       "      <td>-0.010031</td>\n",
       "      <td>0.167878</td>\n",
       "      <td>760122</td>\n",
       "    </tr>\n",
       "    <tr>\n",
       "      <th>23</th>\n",
       "      <td>2.807299</td>\n",
       "      <td>3.192779</td>\n",
       "      <td>2269406</td>\n",
       "    </tr>\n",
       "    <tr>\n",
       "      <th>24</th>\n",
       "      <td>-0.010031</td>\n",
       "      <td>0.215899</td>\n",
       "      <td>1284887</td>\n",
       "    </tr>\n",
       "    <tr>\n",
       "      <th>25</th>\n",
       "      <td>-0.010031</td>\n",
       "      <td>0.056118</td>\n",
       "      <td>1635635</td>\n",
       "    </tr>\n",
       "    <tr>\n",
       "      <th>26</th>\n",
       "      <td>19.825300</td>\n",
       "      <td>9.359935</td>\n",
       "      <td>3003872</td>\n",
       "    </tr>\n",
       "    <tr>\n",
       "      <th>27</th>\n",
       "      <td>3.543317</td>\n",
       "      <td>4.377506</td>\n",
       "      <td>2906249</td>\n",
       "    </tr>\n",
       "    <tr>\n",
       "      <th>28</th>\n",
       "      <td>-0.010031</td>\n",
       "      <td>-0.021127</td>\n",
       "      <td>1190361</td>\n",
       "    </tr>\n",
       "    <tr>\n",
       "      <th>29</th>\n",
       "      <td>0.779525</td>\n",
       "      <td>1.003353</td>\n",
       "      <td>1019074</td>\n",
       "    </tr>\n",
       "    <tr>\n",
       "      <th>...</th>\n",
       "      <td>...</td>\n",
       "      <td>...</td>\n",
       "      <td>...</td>\n",
       "    </tr>\n",
       "    <tr>\n",
       "      <th>8258</th>\n",
       "      <td>-0.010031</td>\n",
       "      <td>0.185547</td>\n",
       "      <td>64259</td>\n",
       "    </tr>\n",
       "    <tr>\n",
       "      <th>8259</th>\n",
       "      <td>3.957055</td>\n",
       "      <td>3.721352</td>\n",
       "      <td>536165</td>\n",
       "    </tr>\n",
       "    <tr>\n",
       "      <th>8260</th>\n",
       "      <td>-0.010031</td>\n",
       "      <td>0.299336</td>\n",
       "      <td>2242923</td>\n",
       "    </tr>\n",
       "    <tr>\n",
       "      <th>8261</th>\n",
       "      <td>-0.010031</td>\n",
       "      <td>0.446674</td>\n",
       "      <td>1097507</td>\n",
       "    </tr>\n",
       "    <tr>\n",
       "      <th>8262</th>\n",
       "      <td>-0.010031</td>\n",
       "      <td>0.153806</td>\n",
       "      <td>577818</td>\n",
       "    </tr>\n",
       "    <tr>\n",
       "      <th>8263</th>\n",
       "      <td>-0.010031</td>\n",
       "      <td>0.244548</td>\n",
       "      <td>3141481</td>\n",
       "    </tr>\n",
       "    <tr>\n",
       "      <th>8264</th>\n",
       "      <td>-0.010031</td>\n",
       "      <td>0.306233</td>\n",
       "      <td>1937773</td>\n",
       "    </tr>\n",
       "    <tr>\n",
       "      <th>8265</th>\n",
       "      <td>3.761053</td>\n",
       "      <td>4.642291</td>\n",
       "      <td>1955053</td>\n",
       "    </tr>\n",
       "    <tr>\n",
       "      <th>8266</th>\n",
       "      <td>2.807299</td>\n",
       "      <td>1.060824</td>\n",
       "      <td>1079618</td>\n",
       "    </tr>\n",
       "    <tr>\n",
       "      <th>8267</th>\n",
       "      <td>3.761053</td>\n",
       "      <td>3.372290</td>\n",
       "      <td>92272</td>\n",
       "    </tr>\n",
       "    <tr>\n",
       "      <th>8268</th>\n",
       "      <td>2.810109</td>\n",
       "      <td>3.800236</td>\n",
       "      <td>1185447</td>\n",
       "    </tr>\n",
       "    <tr>\n",
       "      <th>8269</th>\n",
       "      <td>5.826686</td>\n",
       "      <td>7.942116</td>\n",
       "      <td>2294050</td>\n",
       "    </tr>\n",
       "    <tr>\n",
       "      <th>8270</th>\n",
       "      <td>-0.010031</td>\n",
       "      <td>0.366895</td>\n",
       "      <td>750013</td>\n",
       "    </tr>\n",
       "    <tr>\n",
       "      <th>8271</th>\n",
       "      <td>-0.010031</td>\n",
       "      <td>0.252176</td>\n",
       "      <td>1205420</td>\n",
       "    </tr>\n",
       "    <tr>\n",
       "      <th>8272</th>\n",
       "      <td>11.848673</td>\n",
       "      <td>15.099873</td>\n",
       "      <td>1555156</td>\n",
       "    </tr>\n",
       "    <tr>\n",
       "      <th>8273</th>\n",
       "      <td>3.958975</td>\n",
       "      <td>3.090703</td>\n",
       "      <td>1590325</td>\n",
       "    </tr>\n",
       "    <tr>\n",
       "      <th>8274</th>\n",
       "      <td>-0.010031</td>\n",
       "      <td>0.207125</td>\n",
       "      <td>745365</td>\n",
       "    </tr>\n",
       "    <tr>\n",
       "      <th>8275</th>\n",
       "      <td>17.870173</td>\n",
       "      <td>6.605452</td>\n",
       "      <td>2689037</td>\n",
       "    </tr>\n",
       "    <tr>\n",
       "      <th>8276</th>\n",
       "      <td>-0.010031</td>\n",
       "      <td>0.218401</td>\n",
       "      <td>1031923</td>\n",
       "    </tr>\n",
       "    <tr>\n",
       "      <th>8277</th>\n",
       "      <td>0.779525</td>\n",
       "      <td>0.900750</td>\n",
       "      <td>2579895</td>\n",
       "    </tr>\n",
       "    <tr>\n",
       "      <th>8278</th>\n",
       "      <td>2.185352</td>\n",
       "      <td>1.685502</td>\n",
       "      <td>311829</td>\n",
       "    </tr>\n",
       "    <tr>\n",
       "      <th>8279</th>\n",
       "      <td>1.342475</td>\n",
       "      <td>1.543408</td>\n",
       "      <td>2408556</td>\n",
       "    </tr>\n",
       "    <tr>\n",
       "      <th>8280</th>\n",
       "      <td>19.358025</td>\n",
       "      <td>6.488917</td>\n",
       "      <td>1522386</td>\n",
       "    </tr>\n",
       "    <tr>\n",
       "      <th>8281</th>\n",
       "      <td>-0.010031</td>\n",
       "      <td>0.062751</td>\n",
       "      <td>2227324</td>\n",
       "    </tr>\n",
       "    <tr>\n",
       "      <th>8282</th>\n",
       "      <td>5.084612</td>\n",
       "      <td>6.021930</td>\n",
       "      <td>1994621</td>\n",
       "    </tr>\n",
       "    <tr>\n",
       "      <th>8283</th>\n",
       "      <td>25.613226</td>\n",
       "      <td>15.954469</td>\n",
       "      <td>2191548</td>\n",
       "    </tr>\n",
       "    <tr>\n",
       "      <th>8284</th>\n",
       "      <td>15.646303</td>\n",
       "      <td>9.367665</td>\n",
       "      <td>751588</td>\n",
       "    </tr>\n",
       "    <tr>\n",
       "      <th>8285</th>\n",
       "      <td>0.779525</td>\n",
       "      <td>0.354625</td>\n",
       "      <td>2267734</td>\n",
       "    </tr>\n",
       "    <tr>\n",
       "      <th>8286</th>\n",
       "      <td>-0.010031</td>\n",
       "      <td>0.378870</td>\n",
       "      <td>1039683</td>\n",
       "    </tr>\n",
       "    <tr>\n",
       "      <th>8287</th>\n",
       "      <td>13.444560</td>\n",
       "      <td>16.412180</td>\n",
       "      <td>2800511</td>\n",
       "    </tr>\n",
       "  </tbody>\n",
       "</table>\n",
       "<p>8288 rows × 3 columns</p>\n",
       "</div>"
      ],
      "text/plain": [
       "         val_y1    pred_y1  user_id\n",
       "0      7.761545   8.312529  2558880\n",
       "1      2.807299   2.594473  1486362\n",
       "2     -0.010031   0.357379   243845\n",
       "3      1.347480   0.453016   873606\n",
       "4      5.597342   4.755299   733979\n",
       "5      1.347480   1.278471  1361413\n",
       "6     -0.010031   0.221256  1637543\n",
       "7     22.016047  20.515266   677474\n",
       "8      2.807299   2.660090    85660\n",
       "9      2.514146   2.316325   215287\n",
       "10    -0.010031   0.081389  3093831\n",
       "11     2.507889   2.930380  1915193\n",
       "12    -0.010031   0.309809  1284692\n",
       "13    -0.010031   0.169261   387153\n",
       "14     2.514146   2.822201  2197104\n",
       "15     8.714734   9.986460    33927\n",
       "16     2.807299   2.939918  1105005\n",
       "17     0.779525   0.596719   947558\n",
       "18    -0.010031   0.254736   161029\n",
       "19    -0.010031   0.179388   591367\n",
       "20     5.218672   8.425841  1480487\n",
       "21    11.818678   7.896530  1370885\n",
       "22    -0.010031   0.167878   760122\n",
       "23     2.807299   3.192779  2269406\n",
       "24    -0.010031   0.215899  1284887\n",
       "25    -0.010031   0.056118  1635635\n",
       "26    19.825300   9.359935  3003872\n",
       "27     3.543317   4.377506  2906249\n",
       "28    -0.010031  -0.021127  1190361\n",
       "29     0.779525   1.003353  1019074\n",
       "...         ...        ...      ...\n",
       "8258  -0.010031   0.185547    64259\n",
       "8259   3.957055   3.721352   536165\n",
       "8260  -0.010031   0.299336  2242923\n",
       "8261  -0.010031   0.446674  1097507\n",
       "8262  -0.010031   0.153806   577818\n",
       "8263  -0.010031   0.244548  3141481\n",
       "8264  -0.010031   0.306233  1937773\n",
       "8265   3.761053   4.642291  1955053\n",
       "8266   2.807299   1.060824  1079618\n",
       "8267   3.761053   3.372290    92272\n",
       "8268   2.810109   3.800236  1185447\n",
       "8269   5.826686   7.942116  2294050\n",
       "8270  -0.010031   0.366895   750013\n",
       "8271  -0.010031   0.252176  1205420\n",
       "8272  11.848673  15.099873  1555156\n",
       "8273   3.958975   3.090703  1590325\n",
       "8274  -0.010031   0.207125   745365\n",
       "8275  17.870173   6.605452  2689037\n",
       "8276  -0.010031   0.218401  1031923\n",
       "8277   0.779525   0.900750  2579895\n",
       "8278   2.185352   1.685502   311829\n",
       "8279   1.342475   1.543408  2408556\n",
       "8280  19.358025   6.488917  1522386\n",
       "8281  -0.010031   0.062751  2227324\n",
       "8282   5.084612   6.021930  1994621\n",
       "8283  25.613226  15.954469  2191548\n",
       "8284  15.646303   9.367665   751588\n",
       "8285   0.779525   0.354625  2267734\n",
       "8286  -0.010031   0.378870  1039683\n",
       "8287  13.444560  16.412180  2800511\n",
       "\n",
       "[8288 rows x 3 columns]"
      ]
     },
     "execution_count": 94,
     "metadata": {},
     "output_type": "execute_result"
    }
   ],
   "source": [
    "r_result"
   ]
  },
  {
   "cell_type": "code",
   "execution_count": null,
   "metadata": {
    "ExecuteTime": {
     "end_time": "2018-09-16T13:38:47.594447Z",
     "start_time": "2018-09-16T13:38:47.563247Z"
    }
   },
   "outputs": [],
   "source": [
    "val_X1.head()"
   ]
  },
  {
   "cell_type": "code",
   "execution_count": null,
   "metadata": {
    "ExecuteTime": {
     "end_time": "2018-09-14T09:30:45.698551Z",
     "start_time": "2018-09-14T09:30:45.687551Z"
    }
   },
   "outputs": [],
   "source": [
    "np.expm1(0.385)"
   ]
  },
  {
   "cell_type": "code",
   "execution_count": null,
   "metadata": {
    "ExecuteTime": {
     "end_time": "2018-09-13T07:23:05.928640Z",
     "start_time": "2018-09-13T07:19:42.695016Z"
    }
   },
   "outputs": [],
   "source": [
    "r_alpha=np.arange(10,21,1)\n",
    "def ridge_selector(k):\n",
    "    ridge_model=make_pipeline(RobustScaler(),\n",
    "                             RidgeCV(alphas=[k],cv=kfolds)).fit(X,y)\n",
    "    return cv_rmse(ridge_model).mean()\n",
    "\n",
    "r_score=[]\n",
    "for i in r_alpha:\n",
    "    score=ridge_selector(i)\n",
    "    r_score.append(score)    "
   ]
  },
  {
   "cell_type": "code",
   "execution_count": null,
   "metadata": {
    "ExecuteTime": {
     "end_time": "2018-09-13T07:24:23.181059Z",
     "start_time": "2018-09-13T07:24:23.157057Z"
    }
   },
   "outputs": [],
   "source": [
    "r_score_df=pd.DataFrame(list(zip(r_alpha,r_score)),columns=['Alpha','RMSE'])"
   ]
  },
  {
   "cell_type": "code",
   "execution_count": null,
   "metadata": {
    "ExecuteTime": {
     "end_time": "2018-09-13T07:24:23.813095Z",
     "start_time": "2018-09-13T07:24:23.788094Z"
    }
   },
   "outputs": [],
   "source": [
    "r_score_df.sort_values(by='RMSE')"
   ]
  },
  {
   "cell_type": "code",
   "execution_count": null,
   "metadata": {
    "ExecuteTime": {
     "end_time": "2018-09-13T07:32:33.138083Z",
     "start_time": "2018-09-13T07:27:22.954341Z"
    }
   },
   "outputs": [],
   "source": [
    "r_alpha2=pd.Series(np.arange(14,16,0.1)).apply(lambda x:round(x,2))\n",
    "\n",
    "ridge_model=make_pipeline(RobustScaler(),\n",
    "                         RidgeCV(alphas=r_alpha2.tolist(),cv=kfolds)).fit(X,y)\n",
    "cv_rmse(ridge_model).mean()"
   ]
  },
  {
   "cell_type": "code",
   "execution_count": null,
   "metadata": {
    "ExecuteTime": {
     "end_time": "2018-09-13T07:39:00.660248Z",
     "start_time": "2018-09-13T07:39:00.654247Z"
    }
   },
   "outputs": [],
   "source": [
    "ridge_model.steps[1][1].alpha_"
   ]
  },
  {
   "cell_type": "code",
   "execution_count": null,
   "metadata": {
    "ExecuteTime": {
     "end_time": "2018-09-13T08:06:09.508413Z",
     "start_time": "2018-09-13T08:05:18.413490Z"
    }
   },
   "outputs": [],
   "source": [
    "# l_alpha=[0.01,0.1,0.5,1,5,10,15,20,30,50]\n",
    "# l_alpha2=pd.Series(np.arange(0.001,0.02,0.002)).apply(lambda x:round(x,3))\n",
    "l_alpha2 = [0.00001,0.00002,0.00003,0.00004,0.00005, 0.0001, 0.0002, 0.0003, 0.0004, 0.0005,\n",
    "           0.0006, 0.0007, 0.0008]\n",
    "\n",
    "lasso_model=make_pipeline(RobustScaler(),\n",
    "                         LassoCV(alphas=l_alpha2,max_iter=1e5,cv=kfolds)).fit(X,y)\n",
    "cv_rmse(lasso_model).mean()"
   ]
  },
  {
   "cell_type": "code",
   "execution_count": null,
   "metadata": {
    "ExecuteTime": {
     "end_time": "2018-09-13T08:08:10.785349Z",
     "start_time": "2018-09-13T08:08:10.773348Z"
    }
   },
   "outputs": [],
   "source": [
    "lasso_model.steps[1][1].alpha_"
   ]
  },
  {
   "cell_type": "code",
   "execution_count": null,
   "metadata": {
    "ExecuteTime": {
     "end_time": "2018-09-13T08:11:11.405680Z",
     "start_time": "2018-09-13T08:11:11.365678Z"
    }
   },
   "outputs": [],
   "source": [
    "la_coef=pd.DataFrame(list(zip(X.columns,lasso_model.steps[1][1].coef_)),columns=['predictors','coef'])\n",
    "la_coef.sort_values(by='coef',ascending=False)"
   ]
  },
  {
   "cell_type": "code",
   "execution_count": null,
   "metadata": {
    "ExecuteTime": {
     "end_time": "2018-09-13T08:12:08.824964Z",
     "start_time": "2018-09-13T08:12:08.813964Z"
    }
   },
   "outputs": [],
   "source": [
    "la_coef[la_coef.coef == 0].shape"
   ]
  },
  {
   "cell_type": "code",
   "execution_count": null,
   "metadata": {
    "ExecuteTime": {
     "end_time": "2018-09-13T08:29:39.214043Z",
     "start_time": "2018-09-13T08:29:39.197042Z"
    }
   },
   "outputs": [],
   "source": [
    "used_la_coef=la_coef[la_coef.coef !=0]['predictors']\n",
    "used_la_coef.shape"
   ]
  },
  {
   "cell_type": "code",
   "execution_count": null,
   "metadata": {
    "ExecuteTime": {
     "end_time": "2018-09-13T08:33:35.894580Z",
     "start_time": "2018-09-13T08:33:35.848578Z"
    }
   },
   "outputs": [],
   "source": [
    "X[used_la_coef].shape"
   ]
  },
  {
   "cell_type": "code",
   "execution_count": null,
   "metadata": {
    "ExecuteTime": {
     "end_time": "2018-09-13T08:33:54.249630Z",
     "start_time": "2018-09-13T08:33:54.213628Z"
    }
   },
   "outputs": [],
   "source": [
    "X2=X[used_la_coef]"
   ]
  },
  {
   "cell_type": "code",
   "execution_count": null,
   "metadata": {
    "ExecuteTime": {
     "end_time": "2018-09-13T08:42:27.856007Z",
     "start_time": "2018-09-13T08:42:27.845006Z"
    }
   },
   "outputs": [],
   "source": [
    "def cv_rmse2(model):\n",
    "    rmse=np.sqrt(-cross_val_score(model,X2,y,scoring='neg_mean_squared_error',cv=kfolds))\n",
    "    return rmse"
   ]
  },
  {
   "cell_type": "code",
   "execution_count": null,
   "metadata": {
    "ExecuteTime": {
     "end_time": "2018-09-13T09:05:45.616954Z",
     "start_time": "2018-09-13T09:01:27.889213Z"
    }
   },
   "outputs": [],
   "source": [
    "r_alpha2=pd.Series(np.arange(10,12,0.1)).apply(lambda x:round(x,1))\n",
    "# r_alpha=np.arange(1,15,1)\n",
    "ridge_model=make_pipeline(RobustScaler(),\n",
    "                         RidgeCV(alphas=r_alpha2.tolist(),cv=kfolds)).fit(X2,y)\n",
    "cv_rmse2(ridge_model).mean()"
   ]
  },
  {
   "cell_type": "code",
   "execution_count": null,
   "metadata": {
    "ExecuteTime": {
     "end_time": "2018-09-13T09:22:45.110266Z",
     "start_time": "2018-09-13T09:22:45.097265Z"
    }
   },
   "outputs": [],
   "source": [
    "ridge_model.steps[1][1].alpha_"
   ]
  },
  {
   "cell_type": "code",
   "execution_count": null,
   "metadata": {
    "ExecuteTime": {
     "end_time": "2018-09-13T09:25:17.973009Z",
     "start_time": "2018-09-13T09:24:33.857486Z"
    }
   },
   "outputs": [],
   "source": [
    "l_alpha2 = [0.00001,0.00002,0.00003,0.00004,0.00005, 0.0001, 0.0002, 0.0003, 0.0004, 0.0005,\n",
    "           0.0006, 0.0007, 0.0008]\n",
    "\n",
    "lasso_model=make_pipeline(RobustScaler(),\n",
    "                         LassoCV(alphas=l_alpha2,max_iter=1e5,cv=kfolds)).fit(X2,y)\n",
    "cv_rmse2(lasso_model).mean()"
   ]
  },
  {
   "cell_type": "code",
   "execution_count": null,
   "metadata": {
    "ExecuteTime": {
     "end_time": "2018-09-13T09:28:03.359469Z",
     "start_time": "2018-09-13T09:28:03.347468Z"
    }
   },
   "outputs": [],
   "source": [
    "lasso_model.steps[1][1].alpha_"
   ]
  },
  {
   "cell_type": "code",
   "execution_count": null,
   "metadata": {
    "ExecuteTime": {
     "end_time": "2018-09-13T09:46:36.166118Z",
     "start_time": "2018-09-13T09:43:00.344773Z"
    }
   },
   "outputs": [],
   "source": [
    "from sklearn.linear_model import ElasticNetCV\n",
    "\n",
    "e_alphas = [0.00001,0.00005,0.0001, 0.0002, 0.0003, 0.0004, 0.0005, 0.0006, 0.0007]\n",
    "e_l1ratio = [0.1,0.2,0.3,0.4,0.5,0.6,0.7,0.8, 0.85, 0.9, 0.95, 0.99, 1]\n",
    "\n",
    "elastic_cv=make_pipeline(RobustScaler(),\n",
    "                        ElasticNetCV(max_iter=1e5,alphas=e_alphas,l1_ratio=e_l1ratio,cv=kfolds)).fit(X2,y)\n",
    "cv_rmse2(elastic_cv).mean()"
   ]
  },
  {
   "cell_type": "code",
   "execution_count": null,
   "metadata": {
    "ExecuteTime": {
     "end_time": "2018-09-13T09:46:36.171118Z",
     "start_time": "2018-09-13T09:46:36.167118Z"
    }
   },
   "outputs": [],
   "source": [
    "elastic_cv.steps[1][1].alpha_"
   ]
  },
  {
   "cell_type": "code",
   "execution_count": null,
   "metadata": {
    "ExecuteTime": {
     "end_time": "2018-09-13T09:42:30.265053Z",
     "start_time": "2018-09-13T09:42:30.256052Z"
    }
   },
   "outputs": [],
   "source": [
    "elastic_cv.steps[1][1].l1_ratio_"
   ]
  },
  {
   "cell_type": "code",
   "execution_count": null,
   "metadata": {
    "ExecuteTime": {
     "end_time": "2018-09-13T09:48:47.473628Z",
     "start_time": "2018-09-13T09:48:47.146609Z"
    }
   },
   "outputs": [],
   "source": [
    "from lightgbm import LGBMRegressor\n",
    "\n",
    "lgbm_model = LGBMRegressor(objective='regression',num_leaves=5,\n",
    "                              learning_rate=0.05, n_estimators=720,\n",
    "                              max_bin = 55, bagging_fraction = 0.8,\n",
    "                              bagging_freq = 5, feature_fraction = 0.2319,\n",
    "                              feature_fraction_seed=9, bagging_seed=9,\n",
    "                              min_data_in_leaf =6, min_sum_hessian_in_leaf = 11)"
   ]
  },
  {
   "cell_type": "code",
   "execution_count": null,
   "metadata": {
    "ExecuteTime": {
     "end_time": "2018-09-13T09:48:59.232301Z",
     "start_time": "2018-09-13T09:48:48.529688Z"
    }
   },
   "outputs": [],
   "source": [
    "cv_rmse(lgbm_model).mean()"
   ]
  },
  {
   "cell_type": "code",
   "execution_count": null,
   "metadata": {
    "ExecuteTime": {
     "end_time": "2018-09-13T09:49:46.393998Z",
     "start_time": "2018-09-13T09:49:34.587323Z"
    }
   },
   "outputs": [],
   "source": [
    "cv_rmse2(lgbm_model).mean()"
   ]
  },
  {
   "cell_type": "code",
   "execution_count": null,
   "metadata": {
    "ExecuteTime": {
     "end_time": "2018-09-13T09:51:06.116558Z",
     "start_time": "2018-09-13T09:51:06.108557Z"
    }
   },
   "outputs": [],
   "source": [
    "np.expm1(0.381)"
   ]
  },
  {
   "cell_type": "code",
   "execution_count": null,
   "metadata": {
    "ExecuteTime": {
     "end_time": "2018-09-13T14:13:47.856078Z",
     "start_time": "2018-09-13T14:13:47.198040Z"
    }
   },
   "outputs": [],
   "source": [
    "import xgboost as xgb\n",
    "from xgboost import XGBRegressor\n",
    "xgb3 = XGBRegressor(learning_rate =0.01, n_estimators=3460, max_depth=3,\n",
    "                     min_child_weight=0 ,gamma=0, subsample=0.7,\n",
    "                     colsample_bytree=0.7,objective= 'reg:linear',\n",
    "                     nthread=4,scale_pos_weight=1,seed=27, reg_alpha=0.00006)\n",
    "\n"
   ]
  },
  {
   "cell_type": "code",
   "execution_count": null,
   "metadata": {
    "ExecuteTime": {
     "end_time": "2018-09-13T15:20:47.053963Z",
     "start_time": "2018-09-13T15:03:58.505277Z"
    }
   },
   "outputs": [],
   "source": [
    "cv_rmse(xgb3).mean()"
   ]
  },
  {
   "cell_type": "code",
   "execution_count": null,
   "metadata": {
    "ExecuteTime": {
     "end_time": "2018-09-13T14:53:25.745085Z",
     "start_time": "2018-09-13T14:39:02.021683Z"
    }
   },
   "outputs": [],
   "source": [
    "cv_rmse2(xgb3).mean()"
   ]
  },
  {
   "cell_type": "code",
   "execution_count": null,
   "metadata": {
    "ExecuteTime": {
     "start_time": "2018-09-14T01:04:18.752Z"
    }
   },
   "outputs": [],
   "source": [
    "xgb_fit=xgb3.fit(X,y)"
   ]
  },
  {
   "cell_type": "code",
   "execution_count": null,
   "metadata": {},
   "outputs": [],
   "source": []
  }
 ],
 "metadata": {
  "kernelspec": {
   "display_name": "Python 3",
   "language": "python",
   "name": "python3"
  },
  "language_info": {
   "codemirror_mode": {
    "name": "ipython",
    "version": 3
   },
   "file_extension": ".py",
   "mimetype": "text/x-python",
   "name": "python",
   "nbconvert_exporter": "python",
   "pygments_lexer": "ipython3",
   "version": "3.6.3"
  }
 },
 "nbformat": 4,
 "nbformat_minor": 2
}
