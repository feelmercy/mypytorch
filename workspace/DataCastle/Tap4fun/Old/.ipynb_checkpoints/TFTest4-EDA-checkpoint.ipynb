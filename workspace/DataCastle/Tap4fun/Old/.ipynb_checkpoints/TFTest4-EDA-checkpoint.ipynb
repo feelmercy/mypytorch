{
 "cells": [
  {
   "cell_type": "code",
   "execution_count": 1,
   "metadata": {
    "ExecuteTime": {
     "end_time": "2018-08-14T01:52:45.465050Z",
     "start_time": "2018-08-14T01:52:41.817842Z"
    }
   },
   "outputs": [],
   "source": [
    "import numpy as np\n",
    "import pandas as pd"
   ]
  },
  {
   "cell_type": "code",
   "execution_count": 2,
   "metadata": {
    "ExecuteTime": {
     "end_time": "2018-08-14T01:53:06.138233Z",
     "start_time": "2018-08-14T01:52:45.467050Z"
    }
   },
   "outputs": [],
   "source": [
    "df_train=pd.read_csv('F:\\\\study\\\\ml\\\\DataSet\\\\Tap4fun\\\\tap_fun_train.csv')"
   ]
  },
  {
   "cell_type": "code",
   "execution_count": 3,
   "metadata": {
    "ExecuteTime": {
     "end_time": "2018-08-14T01:53:06.333244Z",
     "start_time": "2018-08-14T01:53:06.140233Z"
    }
   },
   "outputs": [
    {
     "name": "stdout",
     "output_type": "stream",
     "text": [
      "<class 'pandas.core.frame.DataFrame'>\n",
      "RangeIndex: 2288007 entries, 0 to 2288006\n",
      "Columns: 109 entries, user_id to prediction_pay_price\n",
      "dtypes: float64(13), int64(95), object(1)\n",
      "memory usage: 2.0 GB\n"
     ]
    }
   ],
   "source": [
    "df_train.info(memory_usage='deep')"
   ]
  },
  {
   "cell_type": "code",
   "execution_count": 4,
   "metadata": {
    "ExecuteTime": {
     "end_time": "2018-08-14T01:53:19.667006Z",
     "start_time": "2018-08-14T01:53:06.334244Z"
    }
   },
   "outputs": [],
   "source": [
    "c_int=df_train.select_dtypes(include=['int64']).apply(pd.to_numeric,downcast='unsigned')\n",
    "c_float=df_train.select_dtypes(include=['float']).apply(pd.to_numeric,downcast='float')\n"
   ]
  },
  {
   "cell_type": "code",
   "execution_count": 5,
   "metadata": {
    "ExecuteTime": {
     "end_time": "2018-08-14T01:53:19.993025Z",
     "start_time": "2018-08-14T01:53:19.669007Z"
    }
   },
   "outputs": [],
   "source": [
    "o_df=pd.concat([c_int,c_float],axis=1)"
   ]
  },
  {
   "cell_type": "code",
   "execution_count": 6,
   "metadata": {
    "ExecuteTime": {
     "end_time": "2018-08-14T01:53:20.000026Z",
     "start_time": "2018-08-14T01:53:19.995025Z"
    }
   },
   "outputs": [],
   "source": [
    "column_type=dict(o_df.dtypes.copy())"
   ]
  },
  {
   "cell_type": "code",
   "execution_count": 7,
   "metadata": {
    "ExecuteTime": {
     "end_time": "2018-08-14T01:53:20.074030Z",
     "start_time": "2018-08-14T01:53:20.002026Z"
    }
   },
   "outputs": [
    {
     "data": {
      "text/plain": [
       "108"
      ]
     },
     "execution_count": 7,
     "metadata": {},
     "output_type": "execute_result"
    }
   ],
   "source": [
    "len(column_type)"
   ]
  },
  {
   "cell_type": "code",
   "execution_count": 8,
   "metadata": {
    "ExecuteTime": {
     "end_time": "2018-08-14T01:53:20.420050Z",
     "start_time": "2018-08-14T01:53:20.076030Z"
    }
   },
   "outputs": [],
   "source": [
    "del o_df,c_int,c_float,df_train"
   ]
  },
  {
   "cell_type": "code",
   "execution_count": null,
   "metadata": {},
   "outputs": [],
   "source": []
  },
  {
   "cell_type": "code",
   "execution_count": 9,
   "metadata": {
    "ExecuteTime": {
     "end_time": "2018-08-14T01:53:43.364362Z",
     "start_time": "2018-08-14T01:53:20.422050Z"
    }
   },
   "outputs": [],
   "source": [
    "data_train=pd.read_csv('F:\\\\study\\\\ml\\\\DataSet\\\\Tap4fun\\\\tap_fun_train.csv',\n",
    "                      dtype=column_type,parse_dates=['register_time'],infer_datetime_format=True)"
   ]
  },
  {
   "cell_type": "code",
   "execution_count": 10,
   "metadata": {
    "ExecuteTime": {
     "end_time": "2018-08-14T01:53:43.466368Z",
     "start_time": "2018-08-14T01:53:43.366362Z"
    }
   },
   "outputs": [
    {
     "data": {
      "text/html": [
       "<div>\n",
       "<style scoped>\n",
       "    .dataframe tbody tr th:only-of-type {\n",
       "        vertical-align: middle;\n",
       "    }\n",
       "\n",
       "    .dataframe tbody tr th {\n",
       "        vertical-align: top;\n",
       "    }\n",
       "\n",
       "    .dataframe thead th {\n",
       "        text-align: right;\n",
       "    }\n",
       "</style>\n",
       "<table border=\"1\" class=\"dataframe\">\n",
       "  <thead>\n",
       "    <tr style=\"text-align: right;\">\n",
       "      <th></th>\n",
       "      <th>user_id</th>\n",
       "      <th>register_time</th>\n",
       "      <th>wood_add_value</th>\n",
       "      <th>wood_reduce_value</th>\n",
       "      <th>stone_add_value</th>\n",
       "      <th>stone_reduce_value</th>\n",
       "      <th>ivory_add_value</th>\n",
       "      <th>ivory_reduce_value</th>\n",
       "      <th>meat_add_value</th>\n",
       "      <th>meat_reduce_value</th>\n",
       "      <th>...</th>\n",
       "      <th>pvp_battle_count</th>\n",
       "      <th>pvp_lanch_count</th>\n",
       "      <th>pvp_win_count</th>\n",
       "      <th>pve_battle_count</th>\n",
       "      <th>pve_lanch_count</th>\n",
       "      <th>pve_win_count</th>\n",
       "      <th>avg_online_minutes</th>\n",
       "      <th>pay_price</th>\n",
       "      <th>pay_count</th>\n",
       "      <th>prediction_pay_price</th>\n",
       "    </tr>\n",
       "  </thead>\n",
       "  <tbody>\n",
       "    <tr>\n",
       "      <th>0</th>\n",
       "      <td>1</td>\n",
       "      <td>2018-02-02 19:47:15</td>\n",
       "      <td>20125.0</td>\n",
       "      <td>3700.0</td>\n",
       "      <td>0.0</td>\n",
       "      <td>0.0</td>\n",
       "      <td>0.0</td>\n",
       "      <td>0.0</td>\n",
       "      <td>16375.0</td>\n",
       "      <td>2000.0</td>\n",
       "      <td>...</td>\n",
       "      <td>0</td>\n",
       "      <td>0</td>\n",
       "      <td>0</td>\n",
       "      <td>0</td>\n",
       "      <td>0</td>\n",
       "      <td>0</td>\n",
       "      <td>0.333333</td>\n",
       "      <td>0.0</td>\n",
       "      <td>0</td>\n",
       "      <td>0.0</td>\n",
       "    </tr>\n",
       "    <tr>\n",
       "      <th>1</th>\n",
       "      <td>1593</td>\n",
       "      <td>2018-01-26 00:01:05</td>\n",
       "      <td>0.0</td>\n",
       "      <td>0.0</td>\n",
       "      <td>0.0</td>\n",
       "      <td>0.0</td>\n",
       "      <td>0.0</td>\n",
       "      <td>0.0</td>\n",
       "      <td>0.0</td>\n",
       "      <td>0.0</td>\n",
       "      <td>...</td>\n",
       "      <td>0</td>\n",
       "      <td>0</td>\n",
       "      <td>0</td>\n",
       "      <td>0</td>\n",
       "      <td>0</td>\n",
       "      <td>0</td>\n",
       "      <td>0.333333</td>\n",
       "      <td>0.0</td>\n",
       "      <td>0</td>\n",
       "      <td>0.0</td>\n",
       "    </tr>\n",
       "    <tr>\n",
       "      <th>2</th>\n",
       "      <td>1594</td>\n",
       "      <td>2018-01-26 00:01:58</td>\n",
       "      <td>0.0</td>\n",
       "      <td>0.0</td>\n",
       "      <td>0.0</td>\n",
       "      <td>0.0</td>\n",
       "      <td>0.0</td>\n",
       "      <td>0.0</td>\n",
       "      <td>0.0</td>\n",
       "      <td>0.0</td>\n",
       "      <td>...</td>\n",
       "      <td>0</td>\n",
       "      <td>0</td>\n",
       "      <td>0</td>\n",
       "      <td>0</td>\n",
       "      <td>0</td>\n",
       "      <td>0</td>\n",
       "      <td>1.166667</td>\n",
       "      <td>0.0</td>\n",
       "      <td>0</td>\n",
       "      <td>0.0</td>\n",
       "    </tr>\n",
       "    <tr>\n",
       "      <th>3</th>\n",
       "      <td>1595</td>\n",
       "      <td>2018-01-26 00:02:13</td>\n",
       "      <td>0.0</td>\n",
       "      <td>0.0</td>\n",
       "      <td>0.0</td>\n",
       "      <td>0.0</td>\n",
       "      <td>0.0</td>\n",
       "      <td>0.0</td>\n",
       "      <td>0.0</td>\n",
       "      <td>0.0</td>\n",
       "      <td>...</td>\n",
       "      <td>0</td>\n",
       "      <td>0</td>\n",
       "      <td>0</td>\n",
       "      <td>0</td>\n",
       "      <td>0</td>\n",
       "      <td>0</td>\n",
       "      <td>3.166667</td>\n",
       "      <td>0.0</td>\n",
       "      <td>0</td>\n",
       "      <td>0.0</td>\n",
       "    </tr>\n",
       "    <tr>\n",
       "      <th>4</th>\n",
       "      <td>1596</td>\n",
       "      <td>2018-01-26 00:02:46</td>\n",
       "      <td>0.0</td>\n",
       "      <td>0.0</td>\n",
       "      <td>0.0</td>\n",
       "      <td>0.0</td>\n",
       "      <td>0.0</td>\n",
       "      <td>0.0</td>\n",
       "      <td>0.0</td>\n",
       "      <td>0.0</td>\n",
       "      <td>...</td>\n",
       "      <td>0</td>\n",
       "      <td>0</td>\n",
       "      <td>0</td>\n",
       "      <td>0</td>\n",
       "      <td>0</td>\n",
       "      <td>0</td>\n",
       "      <td>2.333333</td>\n",
       "      <td>0.0</td>\n",
       "      <td>0</td>\n",
       "      <td>0.0</td>\n",
       "    </tr>\n",
       "  </tbody>\n",
       "</table>\n",
       "<p>5 rows × 109 columns</p>\n",
       "</div>"
      ],
      "text/plain": [
       "   user_id       register_time  wood_add_value  wood_reduce_value  \\\n",
       "0        1 2018-02-02 19:47:15         20125.0             3700.0   \n",
       "1     1593 2018-01-26 00:01:05             0.0                0.0   \n",
       "2     1594 2018-01-26 00:01:58             0.0                0.0   \n",
       "3     1595 2018-01-26 00:02:13             0.0                0.0   \n",
       "4     1596 2018-01-26 00:02:46             0.0                0.0   \n",
       "\n",
       "   stone_add_value  stone_reduce_value  ivory_add_value  ivory_reduce_value  \\\n",
       "0              0.0                 0.0              0.0                 0.0   \n",
       "1              0.0                 0.0              0.0                 0.0   \n",
       "2              0.0                 0.0              0.0                 0.0   \n",
       "3              0.0                 0.0              0.0                 0.0   \n",
       "4              0.0                 0.0              0.0                 0.0   \n",
       "\n",
       "   meat_add_value  meat_reduce_value          ...           pvp_battle_count  \\\n",
       "0         16375.0             2000.0          ...                          0   \n",
       "1             0.0                0.0          ...                          0   \n",
       "2             0.0                0.0          ...                          0   \n",
       "3             0.0                0.0          ...                          0   \n",
       "4             0.0                0.0          ...                          0   \n",
       "\n",
       "   pvp_lanch_count  pvp_win_count  pve_battle_count  pve_lanch_count  \\\n",
       "0                0              0                 0                0   \n",
       "1                0              0                 0                0   \n",
       "2                0              0                 0                0   \n",
       "3                0              0                 0                0   \n",
       "4                0              0                 0                0   \n",
       "\n",
       "   pve_win_count  avg_online_minutes  pay_price  pay_count  \\\n",
       "0              0            0.333333        0.0          0   \n",
       "1              0            0.333333        0.0          0   \n",
       "2              0            1.166667        0.0          0   \n",
       "3              0            3.166667        0.0          0   \n",
       "4              0            2.333333        0.0          0   \n",
       "\n",
       "   prediction_pay_price  \n",
       "0                   0.0  \n",
       "1                   0.0  \n",
       "2                   0.0  \n",
       "3                   0.0  \n",
       "4                   0.0  \n",
       "\n",
       "[5 rows x 109 columns]"
      ]
     },
     "execution_count": 10,
     "metadata": {},
     "output_type": "execute_result"
    }
   ],
   "source": [
    "data_train.head()"
   ]
  },
  {
   "cell_type": "code",
   "execution_count": 11,
   "metadata": {
    "ExecuteTime": {
     "end_time": "2018-08-14T01:53:43.609376Z",
     "start_time": "2018-08-14T01:53:43.467368Z"
    }
   },
   "outputs": [
    {
     "name": "stdout",
     "output_type": "stream",
     "text": [
      "<class 'pandas.core.frame.DataFrame'>\n",
      "RangeIndex: 2288007 entries, 0 to 2288006\n",
      "Columns: 109 entries, user_id to prediction_pay_price\n",
      "dtypes: datetime64[ns](1), float32(13), uint16(8), uint32(21), uint8(66)\n",
      "memory usage: 493.1 MB\n"
     ]
    }
   ],
   "source": [
    "data_train.info(memory_usage='deep')"
   ]
  },
  {
   "cell_type": "code",
   "execution_count": 12,
   "metadata": {
    "ExecuteTime": {
     "end_time": "2018-08-14T01:53:44.102404Z",
     "start_time": "2018-08-14T01:53:43.611376Z"
    }
   },
   "outputs": [],
   "source": [
    "data_label=data_train['prediction_pay_price']\n",
    "data_train2=data_train.drop(labels=['user_id','register_time'],axis=1)"
   ]
  },
  {
   "cell_type": "code",
   "execution_count": 13,
   "metadata": {
    "ExecuteTime": {
     "end_time": "2018-08-14T01:54:42.961771Z",
     "start_time": "2018-08-14T01:53:44.104404Z"
    }
   },
   "outputs": [],
   "source": [
    "data_train2_corr=data_train2.corr()"
   ]
  },
  {
   "cell_type": "code",
   "execution_count": 14,
   "metadata": {
    "ExecuteTime": {
     "end_time": "2018-08-14T01:54:42.973771Z",
     "start_time": "2018-08-14T01:54:42.963771Z"
    },
    "scrolled": true
   },
   "outputs": [
    {
     "data": {
      "text/plain": [
       "prediction_pay_price                  1.000000\n",
       "pay_price                             0.735235\n",
       "ivory_add_value                       0.658366\n",
       "stone_add_value                       0.648326\n",
       "ivory_reduce_value                    0.640995\n",
       "wood_add_value                        0.639830\n",
       "general_acceleration_add_value        0.633035\n",
       "stone_reduce_value                    0.631446\n",
       "training_acceleration_add_value       0.621370\n",
       "wood_reduce_value                     0.619171\n",
       "meat_add_value                        0.608308\n",
       "general_acceleration_reduce_value     0.605581\n",
       "meat_reduce_value                     0.593053\n",
       "reaserch_acceleration_reduce_value    0.587761\n",
       "reaserch_acceleration_add_value       0.583552\n",
       "pay_count                             0.567302\n",
       "training_acceleration_reduce_value    0.559036\n",
       "sr_troop_defense_level                0.523166\n",
       "building_acceleration_reduce_value    0.519570\n",
       "building_acceleration_add_value       0.517610\n",
       "sr_cavalry_def_level                  0.503747\n",
       "sr_cavalry_hp_level                   0.487260\n",
       "sr_shaman_tier_3_level                0.462323\n",
       "sr_cavalry_tier_3_level               0.459145\n",
       "sr_infantry_tier_3_level              0.455992\n",
       "sr_infantry_hp_level                  0.454342\n",
       "sr_infantry_def_level                 0.450924\n",
       "sr_shaman_def_level                   0.439525\n",
       "sr_shaman_hp_level                    0.426444\n",
       "sr_cavalry_tier_4_level               0.408088\n",
       "                                        ...   \n",
       "wound_cavalry_reduce_value            0.107843\n",
       "bd_hero_gacha_level                   0.107437\n",
       "sr_rss_a_prod_levell                  0.107285\n",
       "sr_training_speed_level               0.106774\n",
       "wound_infantry_add_value              0.106556\n",
       "bd_guest_cavern_level                 0.106526\n",
       "sr_shaman_tier_2_level                0.105172\n",
       "sr_rss_d_gather_level                 0.104419\n",
       "wound_cavalry_add_value               0.104206\n",
       "sr_rss_d_prod_level                   0.099210\n",
       "bd_barrack_level                      0.098531\n",
       "sr_cavalry_tier_2_level               0.098187\n",
       "sr_infantry_tier_2_level              0.096622\n",
       "bd_healing_spring_level               0.096317\n",
       "sr_outpost_durability_level           0.095664\n",
       "bd_outpost_portal_level               0.092291\n",
       "bd_warehouse_level                    0.090102\n",
       "bd_watchtower_level                   0.088788\n",
       "sr_rss_help_bonus_level               0.088632\n",
       "bd_stronghold_level                   0.086932\n",
       "bd_healing_lodge_level                0.085154\n",
       "bd_training_hut_level                 0.083601\n",
       "bd_market_level                       0.079443\n",
       "shaman_add_value                      0.074541\n",
       "sr_scout_level                        0.073587\n",
       "bd_magic_coin_tree_level              0.072879\n",
       "sr_outpost_tier_2_level               0.069711\n",
       "shaman_reduce_value                   0.040874\n",
       "wound_shaman_add_value                0.022942\n",
       "wound_shaman_reduce_value             0.022114\n",
       "Name: prediction_pay_price, Length: 107, dtype: float64"
      ]
     },
     "execution_count": 14,
     "metadata": {},
     "output_type": "execute_result"
    }
   ],
   "source": [
    "data_train2_corr['prediction_pay_price'].sort_values(ascending=False)"
   ]
  },
  {
   "cell_type": "code",
   "execution_count": 15,
   "metadata": {
    "ExecuteTime": {
     "end_time": "2018-08-14T01:54:43.050776Z",
     "start_time": "2018-08-14T01:54:42.975771Z"
    }
   },
   "outputs": [],
   "source": [
    "a=data_train2_corr['prediction_pay_price'].sort_values(ascending=False)"
   ]
  },
  {
   "cell_type": "code",
   "execution_count": 16,
   "metadata": {
    "ExecuteTime": {
     "end_time": "2018-08-14T01:54:43.126780Z",
     "start_time": "2018-08-14T01:54:43.053776Z"
    }
   },
   "outputs": [
    {
     "name": "stdout",
     "output_type": "stream",
     "text": [
      "prediction_pay_price                                               1.0\n",
      "pay_price                                           0.7352345382399619\n",
      "ivory_add_value                                     0.6583656695235273\n",
      "stone_add_value                                     0.6483261111760854\n",
      "ivory_reduce_value                                  0.6409948024948064\n",
      "wood_add_value                                      0.6398298985761336\n",
      "general_acceleration_add_value                      0.6330352131347887\n",
      "stone_reduce_value                                  0.6314455221296271\n",
      "training_acceleration_add_value                     0.6213704636728808\n",
      "wood_reduce_value                                   0.6191708518704215\n",
      "meat_add_value                                      0.6083078620995795\n",
      "general_acceleration_reduce_value                   0.6055814242018155\n",
      "meat_reduce_value                                     0.59305336803886\n",
      "reaserch_acceleration_reduce_value                  0.5877607561517124\n",
      "reaserch_acceleration_add_value                     0.5835516992438455\n",
      "pay_count                                            0.567302105092467\n",
      "training_acceleration_reduce_value                  0.5590361801452588\n",
      "sr_troop_defense_level                              0.5231657285568911\n",
      "building_acceleration_reduce_value                  0.5195695787776052\n",
      "building_acceleration_add_value                     0.5176101138381335\n",
      "sr_cavalry_def_level                                 0.503746678583472\n",
      "sr_cavalry_hp_level                                0.48726043257570417\n",
      "sr_shaman_tier_3_level                             0.46232344369006767\n",
      "sr_cavalry_tier_3_level                            0.45914527274608924\n",
      "sr_infantry_tier_3_level                            0.4559922554491419\n",
      "sr_infantry_hp_level                                0.4543421990982841\n",
      "sr_infantry_def_level                              0.45092376355380387\n",
      "sr_shaman_def_level                                 0.4395250084903692\n",
      "sr_shaman_hp_level                                   0.426443881279269\n",
      "sr_cavalry_tier_4_level                             0.4080879419876959\n",
      "sr_gathering_march_speed_level                     0.38924963438507465\n",
      "sr_pvp_march_speed_level                           0.36412128134711363\n",
      "sr_alliance_march_speed_level                      0.34583288768041986\n",
      "cavalry_add_value                                  0.33849554015092587\n",
      "sr_outpost_tier_3_level                            0.32430705397987186\n",
      "magic_add_value                                    0.32409507660526954\n",
      "sr_shaman_atk_level                                 0.3147317022574248\n",
      "sr_infantry_tier_4_level                            0.3094176760813943\n",
      "magic_reduce_value                                  0.3048661148650765\n",
      "infantry_add_value                                 0.29664555203676646\n",
      "sr_cavalry_atk_level                                0.2952425776714466\n",
      "sr_infantry_atk_level                              0.29052183404740717\n",
      "treatment_acceleraion_add_value                     0.2675349179208611\n",
      "sr_shaman_tier_4_level                              0.2630858300998408\n",
      "sr_rss_c_prod_level                                0.23231214016939702\n",
      "sr_rss_e_gather_level                              0.21984813815665358\n",
      "sr_outpost_tier_4_level                             0.2012588319589059\n",
      "sr_healing_space_level                             0.18520752308533567\n",
      "sr_troop_attack_level                               0.1830155532207022\n",
      "cavalry_reduce_value                                0.1806351435832711\n",
      "sr_rss_c_gather_level                              0.18016225694193141\n",
      "infantry_reduce_value                               0.1754933203222207\n",
      "avg_online_minutes                                 0.17354193175856203\n",
      "sr_rss_b_prod_level                                0.17181072432555466\n",
      "sr_healing_speed_level                              0.1652326833471779\n",
      "sr_guest_troop_capacity_level                      0.16313399163910258\n",
      "sr_rss_e_prod_level                                0.15920090235831919\n",
      "sr_gathering_hunter_buff_level                     0.15454654808933832\n",
      "sr_march_size_level                                0.15265926254498652\n",
      "bd_hall_of_war_level                                0.1512178004811892\n",
      "sr_rss_b_gather_level                              0.15042901060241184\n",
      "sr_troop_load_level                                0.13054524940000467\n",
      "pve_battle_count                                   0.12775970564660283\n",
      "pve_lanch_count                                    0.12721948218278073\n",
      "pve_win_count                                       0.1264200818914823\n",
      "pvp_win_count                                       0.1261542901510046\n",
      "bd_hero_pve_level                                  0.12329757936371952\n",
      "sr_rss_a_gather_level                               0.1205224783138952\n",
      "sr_construction_speed_level                         0.1177325748809239\n",
      "treatment_acceleration_reduce_value                 0.1171993271295897\n",
      "sr_hide_storage_level                              0.11293801028120418\n",
      "pvp_lanch_count                                    0.11235809121580541\n",
      "bd_hero_strengthen_level                           0.11108049233087712\n",
      "sr_troop_consumption_level                         0.11010273751490549\n",
      "pvp_battle_count                                   0.10995409211333311\n",
      "wound_infantry_reduce_value                        0.10841185968299447\n",
      "bd_dolmen_level                                    0.10805394649213554\n",
      "wound_cavalry_reduce_value                         0.10784292302384478\n",
      "bd_hero_gacha_level                                0.10743747170895808\n",
      "sr_rss_a_prod_levell                               0.10728547770142129\n",
      "sr_training_speed_level                            0.10677371712718993\n",
      "wound_infantry_add_value                           0.10655556535021544\n",
      "bd_guest_cavern_level                              0.10652599918778015\n",
      "sr_shaman_tier_2_level                             0.10517202722691009\n",
      "sr_rss_d_gather_level                              0.10441933365260807\n",
      "wound_cavalry_add_value                            0.10420646630605301\n",
      "sr_rss_d_prod_level                                0.09920956299349432\n",
      "bd_barrack_level                                   0.09853051642387475\n",
      "sr_cavalry_tier_2_level                            0.09818698628490073\n",
      "sr_infantry_tier_2_level                           0.09662162588688888\n",
      "bd_healing_spring_level                            0.09631735925425454\n",
      "sr_outpost_durability_level                        0.09566401447775928\n",
      "bd_outpost_portal_level                            0.09229061077370883\n",
      "bd_warehouse_level                                 0.09010173088697669\n",
      "bd_watchtower_level                                0.08878764173867382\n",
      "sr_rss_help_bonus_level                            0.08863155320255435\n",
      "bd_stronghold_level                                 0.0869320564884619\n",
      "bd_healing_lodge_level                             0.08515379278557211\n",
      "bd_training_hut_level                              0.08360121009414659\n",
      "bd_market_level                                    0.07944328293269842\n",
      "shaman_add_value                                   0.07454130350851226\n",
      "sr_scout_level                                     0.07358661961769199\n",
      "bd_magic_coin_tree_level                           0.07287918497033151\n",
      "sr_outpost_tier_2_level                              0.069710692300086\n",
      "shaman_reduce_value                                0.04087427083107719\n",
      "wound_shaman_add_value                             0.02294193632859415\n",
      "wound_shaman_reduce_value                         0.022113586338273258\n"
     ]
    }
   ],
   "source": [
    "for i,j in a.iteritems():\n",
    "    print('{:<40}{:>30}'.format(i,j))"
   ]
  },
  {
   "cell_type": "code",
   "execution_count": 17,
   "metadata": {
    "ExecuteTime": {
     "end_time": "2018-08-14T01:54:44.319848Z",
     "start_time": "2018-08-14T01:54:43.127780Z"
    }
   },
   "outputs": [],
   "source": [
    "from matplotlib import pyplot as plt\n",
    "plt.style.use(style='ggplot')\n",
    "plt.rcParams['figure.figsize']=(10,6)\n",
    "%matplotlib inline"
   ]
  },
  {
   "cell_type": "code",
   "execution_count": 18,
   "metadata": {
    "ExecuteTime": {
     "end_time": "2018-08-14T01:55:19.712873Z",
     "start_time": "2018-08-14T01:54:44.320848Z"
    }
   },
   "outputs": [],
   "source": [
    "data_train['register_time'].apply(lambda x:x.month)\n",
    "data_train2['reg_month']=data_train['register_time'].apply(lambda x:x.month)\n",
    "data_train2['reg_day']=data_train['register_time'].apply(lambda x:x.day)\n",
    "data_train2['reg_hour']=data_train['register_time'].apply(lambda x:x.month)\n",
    "data_train2['reg_weekday']=data_train['register_time'].apply(lambda x:x.weekday())"
   ]
  },
  {
   "cell_type": "code",
   "execution_count": 19,
   "metadata": {
    "ExecuteTime": {
     "end_time": "2018-08-14T01:55:19.734874Z",
     "start_time": "2018-08-14T01:55:19.713873Z"
    }
   },
   "outputs": [
    {
     "data": {
      "text/html": [
       "<div>\n",
       "<style scoped>\n",
       "    .dataframe tbody tr th:only-of-type {\n",
       "        vertical-align: middle;\n",
       "    }\n",
       "\n",
       "    .dataframe tbody tr th {\n",
       "        vertical-align: top;\n",
       "    }\n",
       "\n",
       "    .dataframe thead th {\n",
       "        text-align: right;\n",
       "    }\n",
       "</style>\n",
       "<table border=\"1\" class=\"dataframe\">\n",
       "  <thead>\n",
       "    <tr style=\"text-align: right;\">\n",
       "      <th></th>\n",
       "      <th>wood_add_value</th>\n",
       "      <th>wood_reduce_value</th>\n",
       "      <th>stone_add_value</th>\n",
       "      <th>stone_reduce_value</th>\n",
       "      <th>ivory_add_value</th>\n",
       "      <th>ivory_reduce_value</th>\n",
       "      <th>meat_add_value</th>\n",
       "      <th>meat_reduce_value</th>\n",
       "      <th>magic_add_value</th>\n",
       "      <th>magic_reduce_value</th>\n",
       "      <th>...</th>\n",
       "      <th>pve_lanch_count</th>\n",
       "      <th>pve_win_count</th>\n",
       "      <th>avg_online_minutes</th>\n",
       "      <th>pay_price</th>\n",
       "      <th>pay_count</th>\n",
       "      <th>prediction_pay_price</th>\n",
       "      <th>reg_month</th>\n",
       "      <th>reg_day</th>\n",
       "      <th>reg_hour</th>\n",
       "      <th>reg_weekday</th>\n",
       "    </tr>\n",
       "  </thead>\n",
       "  <tbody>\n",
       "    <tr>\n",
       "      <th>0</th>\n",
       "      <td>20125.0</td>\n",
       "      <td>3700.0</td>\n",
       "      <td>0.0</td>\n",
       "      <td>0.0</td>\n",
       "      <td>0.0</td>\n",
       "      <td>0.0</td>\n",
       "      <td>16375.0</td>\n",
       "      <td>2000.0</td>\n",
       "      <td>0.0</td>\n",
       "      <td>0.0</td>\n",
       "      <td>...</td>\n",
       "      <td>0</td>\n",
       "      <td>0</td>\n",
       "      <td>0.333333</td>\n",
       "      <td>0.0</td>\n",
       "      <td>0</td>\n",
       "      <td>0.0</td>\n",
       "      <td>2</td>\n",
       "      <td>2</td>\n",
       "      <td>2</td>\n",
       "      <td>4</td>\n",
       "    </tr>\n",
       "    <tr>\n",
       "      <th>1</th>\n",
       "      <td>0.0</td>\n",
       "      <td>0.0</td>\n",
       "      <td>0.0</td>\n",
       "      <td>0.0</td>\n",
       "      <td>0.0</td>\n",
       "      <td>0.0</td>\n",
       "      <td>0.0</td>\n",
       "      <td>0.0</td>\n",
       "      <td>0.0</td>\n",
       "      <td>0.0</td>\n",
       "      <td>...</td>\n",
       "      <td>0</td>\n",
       "      <td>0</td>\n",
       "      <td>0.333333</td>\n",
       "      <td>0.0</td>\n",
       "      <td>0</td>\n",
       "      <td>0.0</td>\n",
       "      <td>1</td>\n",
       "      <td>26</td>\n",
       "      <td>1</td>\n",
       "      <td>4</td>\n",
       "    </tr>\n",
       "    <tr>\n",
       "      <th>2</th>\n",
       "      <td>0.0</td>\n",
       "      <td>0.0</td>\n",
       "      <td>0.0</td>\n",
       "      <td>0.0</td>\n",
       "      <td>0.0</td>\n",
       "      <td>0.0</td>\n",
       "      <td>0.0</td>\n",
       "      <td>0.0</td>\n",
       "      <td>0.0</td>\n",
       "      <td>0.0</td>\n",
       "      <td>...</td>\n",
       "      <td>0</td>\n",
       "      <td>0</td>\n",
       "      <td>1.166667</td>\n",
       "      <td>0.0</td>\n",
       "      <td>0</td>\n",
       "      <td>0.0</td>\n",
       "      <td>1</td>\n",
       "      <td>26</td>\n",
       "      <td>1</td>\n",
       "      <td>4</td>\n",
       "    </tr>\n",
       "    <tr>\n",
       "      <th>3</th>\n",
       "      <td>0.0</td>\n",
       "      <td>0.0</td>\n",
       "      <td>0.0</td>\n",
       "      <td>0.0</td>\n",
       "      <td>0.0</td>\n",
       "      <td>0.0</td>\n",
       "      <td>0.0</td>\n",
       "      <td>0.0</td>\n",
       "      <td>0.0</td>\n",
       "      <td>0.0</td>\n",
       "      <td>...</td>\n",
       "      <td>0</td>\n",
       "      <td>0</td>\n",
       "      <td>3.166667</td>\n",
       "      <td>0.0</td>\n",
       "      <td>0</td>\n",
       "      <td>0.0</td>\n",
       "      <td>1</td>\n",
       "      <td>26</td>\n",
       "      <td>1</td>\n",
       "      <td>4</td>\n",
       "    </tr>\n",
       "    <tr>\n",
       "      <th>4</th>\n",
       "      <td>0.0</td>\n",
       "      <td>0.0</td>\n",
       "      <td>0.0</td>\n",
       "      <td>0.0</td>\n",
       "      <td>0.0</td>\n",
       "      <td>0.0</td>\n",
       "      <td>0.0</td>\n",
       "      <td>0.0</td>\n",
       "      <td>0.0</td>\n",
       "      <td>0.0</td>\n",
       "      <td>...</td>\n",
       "      <td>0</td>\n",
       "      <td>0</td>\n",
       "      <td>2.333333</td>\n",
       "      <td>0.0</td>\n",
       "      <td>0</td>\n",
       "      <td>0.0</td>\n",
       "      <td>1</td>\n",
       "      <td>26</td>\n",
       "      <td>1</td>\n",
       "      <td>4</td>\n",
       "    </tr>\n",
       "  </tbody>\n",
       "</table>\n",
       "<p>5 rows × 111 columns</p>\n",
       "</div>"
      ],
      "text/plain": [
       "   wood_add_value  wood_reduce_value  stone_add_value  stone_reduce_value  \\\n",
       "0         20125.0             3700.0              0.0                 0.0   \n",
       "1             0.0                0.0              0.0                 0.0   \n",
       "2             0.0                0.0              0.0                 0.0   \n",
       "3             0.0                0.0              0.0                 0.0   \n",
       "4             0.0                0.0              0.0                 0.0   \n",
       "\n",
       "   ivory_add_value  ivory_reduce_value  meat_add_value  meat_reduce_value  \\\n",
       "0              0.0                 0.0         16375.0             2000.0   \n",
       "1              0.0                 0.0             0.0                0.0   \n",
       "2              0.0                 0.0             0.0                0.0   \n",
       "3              0.0                 0.0             0.0                0.0   \n",
       "4              0.0                 0.0             0.0                0.0   \n",
       "\n",
       "   magic_add_value  magic_reduce_value     ...       pve_lanch_count  \\\n",
       "0              0.0                 0.0     ...                     0   \n",
       "1              0.0                 0.0     ...                     0   \n",
       "2              0.0                 0.0     ...                     0   \n",
       "3              0.0                 0.0     ...                     0   \n",
       "4              0.0                 0.0     ...                     0   \n",
       "\n",
       "   pve_win_count  avg_online_minutes  pay_price  pay_count  \\\n",
       "0              0            0.333333        0.0          0   \n",
       "1              0            0.333333        0.0          0   \n",
       "2              0            1.166667        0.0          0   \n",
       "3              0            3.166667        0.0          0   \n",
       "4              0            2.333333        0.0          0   \n",
       "\n",
       "   prediction_pay_price  reg_month  reg_day  reg_hour  reg_weekday  \n",
       "0                   0.0          2        2         2            4  \n",
       "1                   0.0          1       26         1            4  \n",
       "2                   0.0          1       26         1            4  \n",
       "3                   0.0          1       26         1            4  \n",
       "4                   0.0          1       26         1            4  \n",
       "\n",
       "[5 rows x 111 columns]"
      ]
     },
     "execution_count": 19,
     "metadata": {},
     "output_type": "execute_result"
    }
   ],
   "source": [
    "\n",
    "data_train2.head()"
   ]
  },
  {
   "cell_type": "code",
   "execution_count": 20,
   "metadata": {
    "ExecuteTime": {
     "end_time": "2018-08-14T01:55:21.731988Z",
     "start_time": "2018-08-14T01:55:19.736874Z"
    },
    "scrolled": true
   },
   "outputs": [],
   "source": [
    "data_train2['reg_month_day']=data_train2['reg_month'].apply(str)+'-'  \\\n",
    "+data_train2['reg_day'].apply(lambda x: str('0')+str(x) if x<10 else str(x))"
   ]
  },
  {
   "cell_type": "code",
   "execution_count": 21,
   "metadata": {
    "ExecuteTime": {
     "end_time": "2018-08-14T01:55:21.737989Z",
     "start_time": "2018-08-14T01:55:21.732988Z"
    }
   },
   "outputs": [
    {
     "data": {
      "text/plain": [
       "0     2-02\n",
       "1     1-26\n",
       "2     1-26\n",
       "3     1-26\n",
       "4     1-26\n",
       "5     1-26\n",
       "6     1-26\n",
       "7     1-26\n",
       "8     1-26\n",
       "9     1-26\n",
       "10    1-26\n",
       "11    1-26\n",
       "12    1-26\n",
       "13    1-26\n",
       "14    1-26\n",
       "15    1-26\n",
       "16    1-26\n",
       "17    1-26\n",
       "18    1-26\n",
       "19    1-26\n",
       "Name: reg_month_day, dtype: object"
      ]
     },
     "execution_count": 21,
     "metadata": {},
     "output_type": "execute_result"
    }
   ],
   "source": [
    "data_train2['reg_month_day'].head(20)"
   ]
  },
  {
   "cell_type": "code",
   "execution_count": 22,
   "metadata": {
    "ExecuteTime": {
     "end_time": "2018-08-14T01:55:21.838994Z",
     "start_time": "2018-08-14T01:55:21.739989Z"
    }
   },
   "outputs": [
    {
     "data": {
      "text/html": [
       "<div>\n",
       "<style scoped>\n",
       "    .dataframe tbody tr th:only-of-type {\n",
       "        vertical-align: middle;\n",
       "    }\n",
       "\n",
       "    .dataframe tbody tr th {\n",
       "        vertical-align: top;\n",
       "    }\n",
       "\n",
       "    .dataframe thead th {\n",
       "        text-align: right;\n",
       "    }\n",
       "</style>\n",
       "<table border=\"1\" class=\"dataframe\">\n",
       "  <thead>\n",
       "    <tr style=\"text-align: right;\">\n",
       "      <th></th>\n",
       "      <th>wood_add_value</th>\n",
       "      <th>wood_reduce_value</th>\n",
       "      <th>stone_add_value</th>\n",
       "      <th>stone_reduce_value</th>\n",
       "      <th>ivory_add_value</th>\n",
       "      <th>ivory_reduce_value</th>\n",
       "      <th>meat_add_value</th>\n",
       "      <th>meat_reduce_value</th>\n",
       "      <th>magic_add_value</th>\n",
       "      <th>magic_reduce_value</th>\n",
       "      <th>...</th>\n",
       "      <th>pve_win_count</th>\n",
       "      <th>avg_online_minutes</th>\n",
       "      <th>pay_price</th>\n",
       "      <th>pay_count</th>\n",
       "      <th>prediction_pay_price</th>\n",
       "      <th>reg_month</th>\n",
       "      <th>reg_day</th>\n",
       "      <th>reg_hour</th>\n",
       "      <th>reg_weekday</th>\n",
       "      <th>reg_month_day</th>\n",
       "    </tr>\n",
       "  </thead>\n",
       "  <tbody>\n",
       "    <tr>\n",
       "      <th>0</th>\n",
       "      <td>20125.0</td>\n",
       "      <td>3700.0</td>\n",
       "      <td>0.0</td>\n",
       "      <td>0.0</td>\n",
       "      <td>0.0</td>\n",
       "      <td>0.0</td>\n",
       "      <td>16375.0</td>\n",
       "      <td>2000.0</td>\n",
       "      <td>0.0</td>\n",
       "      <td>0.0</td>\n",
       "      <td>...</td>\n",
       "      <td>0</td>\n",
       "      <td>0.333333</td>\n",
       "      <td>0.0</td>\n",
       "      <td>0</td>\n",
       "      <td>0.0</td>\n",
       "      <td>2</td>\n",
       "      <td>2</td>\n",
       "      <td>2</td>\n",
       "      <td>4</td>\n",
       "      <td>2-02</td>\n",
       "    </tr>\n",
       "    <tr>\n",
       "      <th>1</th>\n",
       "      <td>0.0</td>\n",
       "      <td>0.0</td>\n",
       "      <td>0.0</td>\n",
       "      <td>0.0</td>\n",
       "      <td>0.0</td>\n",
       "      <td>0.0</td>\n",
       "      <td>0.0</td>\n",
       "      <td>0.0</td>\n",
       "      <td>0.0</td>\n",
       "      <td>0.0</td>\n",
       "      <td>...</td>\n",
       "      <td>0</td>\n",
       "      <td>0.333333</td>\n",
       "      <td>0.0</td>\n",
       "      <td>0</td>\n",
       "      <td>0.0</td>\n",
       "      <td>1</td>\n",
       "      <td>26</td>\n",
       "      <td>1</td>\n",
       "      <td>4</td>\n",
       "      <td>1-26</td>\n",
       "    </tr>\n",
       "    <tr>\n",
       "      <th>2</th>\n",
       "      <td>0.0</td>\n",
       "      <td>0.0</td>\n",
       "      <td>0.0</td>\n",
       "      <td>0.0</td>\n",
       "      <td>0.0</td>\n",
       "      <td>0.0</td>\n",
       "      <td>0.0</td>\n",
       "      <td>0.0</td>\n",
       "      <td>0.0</td>\n",
       "      <td>0.0</td>\n",
       "      <td>...</td>\n",
       "      <td>0</td>\n",
       "      <td>1.166667</td>\n",
       "      <td>0.0</td>\n",
       "      <td>0</td>\n",
       "      <td>0.0</td>\n",
       "      <td>1</td>\n",
       "      <td>26</td>\n",
       "      <td>1</td>\n",
       "      <td>4</td>\n",
       "      <td>1-26</td>\n",
       "    </tr>\n",
       "    <tr>\n",
       "      <th>3</th>\n",
       "      <td>0.0</td>\n",
       "      <td>0.0</td>\n",
       "      <td>0.0</td>\n",
       "      <td>0.0</td>\n",
       "      <td>0.0</td>\n",
       "      <td>0.0</td>\n",
       "      <td>0.0</td>\n",
       "      <td>0.0</td>\n",
       "      <td>0.0</td>\n",
       "      <td>0.0</td>\n",
       "      <td>...</td>\n",
       "      <td>0</td>\n",
       "      <td>3.166667</td>\n",
       "      <td>0.0</td>\n",
       "      <td>0</td>\n",
       "      <td>0.0</td>\n",
       "      <td>1</td>\n",
       "      <td>26</td>\n",
       "      <td>1</td>\n",
       "      <td>4</td>\n",
       "      <td>1-26</td>\n",
       "    </tr>\n",
       "    <tr>\n",
       "      <th>4</th>\n",
       "      <td>0.0</td>\n",
       "      <td>0.0</td>\n",
       "      <td>0.0</td>\n",
       "      <td>0.0</td>\n",
       "      <td>0.0</td>\n",
       "      <td>0.0</td>\n",
       "      <td>0.0</td>\n",
       "      <td>0.0</td>\n",
       "      <td>0.0</td>\n",
       "      <td>0.0</td>\n",
       "      <td>...</td>\n",
       "      <td>0</td>\n",
       "      <td>2.333333</td>\n",
       "      <td>0.0</td>\n",
       "      <td>0</td>\n",
       "      <td>0.0</td>\n",
       "      <td>1</td>\n",
       "      <td>26</td>\n",
       "      <td>1</td>\n",
       "      <td>4</td>\n",
       "      <td>1-26</td>\n",
       "    </tr>\n",
       "  </tbody>\n",
       "</table>\n",
       "<p>5 rows × 112 columns</p>\n",
       "</div>"
      ],
      "text/plain": [
       "   wood_add_value  wood_reduce_value  stone_add_value  stone_reduce_value  \\\n",
       "0         20125.0             3700.0              0.0                 0.0   \n",
       "1             0.0                0.0              0.0                 0.0   \n",
       "2             0.0                0.0              0.0                 0.0   \n",
       "3             0.0                0.0              0.0                 0.0   \n",
       "4             0.0                0.0              0.0                 0.0   \n",
       "\n",
       "   ivory_add_value  ivory_reduce_value  meat_add_value  meat_reduce_value  \\\n",
       "0              0.0                 0.0         16375.0             2000.0   \n",
       "1              0.0                 0.0             0.0                0.0   \n",
       "2              0.0                 0.0             0.0                0.0   \n",
       "3              0.0                 0.0             0.0                0.0   \n",
       "4              0.0                 0.0             0.0                0.0   \n",
       "\n",
       "   magic_add_value  magic_reduce_value      ...        pve_win_count  \\\n",
       "0              0.0                 0.0      ...                    0   \n",
       "1              0.0                 0.0      ...                    0   \n",
       "2              0.0                 0.0      ...                    0   \n",
       "3              0.0                 0.0      ...                    0   \n",
       "4              0.0                 0.0      ...                    0   \n",
       "\n",
       "   avg_online_minutes  pay_price  pay_count  prediction_pay_price  reg_month  \\\n",
       "0            0.333333        0.0          0                   0.0          2   \n",
       "1            0.333333        0.0          0                   0.0          1   \n",
       "2            1.166667        0.0          0                   0.0          1   \n",
       "3            3.166667        0.0          0                   0.0          1   \n",
       "4            2.333333        0.0          0                   0.0          1   \n",
       "\n",
       "   reg_day  reg_hour  reg_weekday  reg_month_day  \n",
       "0        2         2            4           2-02  \n",
       "1       26         1            4           1-26  \n",
       "2       26         1            4           1-26  \n",
       "3       26         1            4           1-26  \n",
       "4       26         1            4           1-26  \n",
       "\n",
       "[5 rows x 112 columns]"
      ]
     },
     "execution_count": 22,
     "metadata": {},
     "output_type": "execute_result"
    }
   ],
   "source": [
    "data_train2.head()"
   ]
  },
  {
   "cell_type": "code",
   "execution_count": 23,
   "metadata": {
    "ExecuteTime": {
     "end_time": "2018-08-14T01:55:21.939000Z",
     "start_time": "2018-08-14T01:55:21.840994Z"
    }
   },
   "outputs": [
    {
     "data": {
      "text/html": [
       "<div>\n",
       "<style scoped>\n",
       "    .dataframe tbody tr th:only-of-type {\n",
       "        vertical-align: middle;\n",
       "    }\n",
       "\n",
       "    .dataframe tbody tr th {\n",
       "        vertical-align: top;\n",
       "    }\n",
       "\n",
       "    .dataframe thead th {\n",
       "        text-align: right;\n",
       "    }\n",
       "</style>\n",
       "<table border=\"1\" class=\"dataframe\">\n",
       "  <thead>\n",
       "    <tr style=\"text-align: right;\">\n",
       "      <th></th>\n",
       "      <th>wood_add_value</th>\n",
       "      <th>wood_reduce_value</th>\n",
       "      <th>stone_add_value</th>\n",
       "      <th>stone_reduce_value</th>\n",
       "      <th>ivory_add_value</th>\n",
       "      <th>ivory_reduce_value</th>\n",
       "      <th>meat_add_value</th>\n",
       "      <th>meat_reduce_value</th>\n",
       "      <th>magic_add_value</th>\n",
       "      <th>magic_reduce_value</th>\n",
       "      <th>...</th>\n",
       "      <th>pve_win_count</th>\n",
       "      <th>avg_online_minutes</th>\n",
       "      <th>pay_price</th>\n",
       "      <th>pay_count</th>\n",
       "      <th>prediction_pay_price</th>\n",
       "      <th>reg_month</th>\n",
       "      <th>reg_day</th>\n",
       "      <th>reg_hour</th>\n",
       "      <th>reg_weekday</th>\n",
       "      <th>reg_month_day</th>\n",
       "    </tr>\n",
       "  </thead>\n",
       "  <tbody>\n",
       "    <tr>\n",
       "      <th>0</th>\n",
       "      <td>20125.0</td>\n",
       "      <td>3700.0</td>\n",
       "      <td>0.0</td>\n",
       "      <td>0.0</td>\n",
       "      <td>0.0</td>\n",
       "      <td>0.0</td>\n",
       "      <td>16375.0</td>\n",
       "      <td>2000.0</td>\n",
       "      <td>0.0</td>\n",
       "      <td>0.0</td>\n",
       "      <td>...</td>\n",
       "      <td>0</td>\n",
       "      <td>0.333333</td>\n",
       "      <td>0.0</td>\n",
       "      <td>0</td>\n",
       "      <td>0.0</td>\n",
       "      <td>2</td>\n",
       "      <td>2</td>\n",
       "      <td>2</td>\n",
       "      <td>4</td>\n",
       "      <td>2-02</td>\n",
       "    </tr>\n",
       "    <tr>\n",
       "      <th>1</th>\n",
       "      <td>0.0</td>\n",
       "      <td>0.0</td>\n",
       "      <td>0.0</td>\n",
       "      <td>0.0</td>\n",
       "      <td>0.0</td>\n",
       "      <td>0.0</td>\n",
       "      <td>0.0</td>\n",
       "      <td>0.0</td>\n",
       "      <td>0.0</td>\n",
       "      <td>0.0</td>\n",
       "      <td>...</td>\n",
       "      <td>0</td>\n",
       "      <td>0.333333</td>\n",
       "      <td>0.0</td>\n",
       "      <td>0</td>\n",
       "      <td>0.0</td>\n",
       "      <td>1</td>\n",
       "      <td>26</td>\n",
       "      <td>1</td>\n",
       "      <td>4</td>\n",
       "      <td>1-26</td>\n",
       "    </tr>\n",
       "    <tr>\n",
       "      <th>2</th>\n",
       "      <td>0.0</td>\n",
       "      <td>0.0</td>\n",
       "      <td>0.0</td>\n",
       "      <td>0.0</td>\n",
       "      <td>0.0</td>\n",
       "      <td>0.0</td>\n",
       "      <td>0.0</td>\n",
       "      <td>0.0</td>\n",
       "      <td>0.0</td>\n",
       "      <td>0.0</td>\n",
       "      <td>...</td>\n",
       "      <td>0</td>\n",
       "      <td>1.166667</td>\n",
       "      <td>0.0</td>\n",
       "      <td>0</td>\n",
       "      <td>0.0</td>\n",
       "      <td>1</td>\n",
       "      <td>26</td>\n",
       "      <td>1</td>\n",
       "      <td>4</td>\n",
       "      <td>1-26</td>\n",
       "    </tr>\n",
       "    <tr>\n",
       "      <th>3</th>\n",
       "      <td>0.0</td>\n",
       "      <td>0.0</td>\n",
       "      <td>0.0</td>\n",
       "      <td>0.0</td>\n",
       "      <td>0.0</td>\n",
       "      <td>0.0</td>\n",
       "      <td>0.0</td>\n",
       "      <td>0.0</td>\n",
       "      <td>0.0</td>\n",
       "      <td>0.0</td>\n",
       "      <td>...</td>\n",
       "      <td>0</td>\n",
       "      <td>3.166667</td>\n",
       "      <td>0.0</td>\n",
       "      <td>0</td>\n",
       "      <td>0.0</td>\n",
       "      <td>1</td>\n",
       "      <td>26</td>\n",
       "      <td>1</td>\n",
       "      <td>4</td>\n",
       "      <td>1-26</td>\n",
       "    </tr>\n",
       "    <tr>\n",
       "      <th>4</th>\n",
       "      <td>0.0</td>\n",
       "      <td>0.0</td>\n",
       "      <td>0.0</td>\n",
       "      <td>0.0</td>\n",
       "      <td>0.0</td>\n",
       "      <td>0.0</td>\n",
       "      <td>0.0</td>\n",
       "      <td>0.0</td>\n",
       "      <td>0.0</td>\n",
       "      <td>0.0</td>\n",
       "      <td>...</td>\n",
       "      <td>0</td>\n",
       "      <td>2.333333</td>\n",
       "      <td>0.0</td>\n",
       "      <td>0</td>\n",
       "      <td>0.0</td>\n",
       "      <td>1</td>\n",
       "      <td>26</td>\n",
       "      <td>1</td>\n",
       "      <td>4</td>\n",
       "      <td>1-26</td>\n",
       "    </tr>\n",
       "  </tbody>\n",
       "</table>\n",
       "<p>5 rows × 112 columns</p>\n",
       "</div>"
      ],
      "text/plain": [
       "   wood_add_value  wood_reduce_value  stone_add_value  stone_reduce_value  \\\n",
       "0         20125.0             3700.0              0.0                 0.0   \n",
       "1             0.0                0.0              0.0                 0.0   \n",
       "2             0.0                0.0              0.0                 0.0   \n",
       "3             0.0                0.0              0.0                 0.0   \n",
       "4             0.0                0.0              0.0                 0.0   \n",
       "\n",
       "   ivory_add_value  ivory_reduce_value  meat_add_value  meat_reduce_value  \\\n",
       "0              0.0                 0.0         16375.0             2000.0   \n",
       "1              0.0                 0.0             0.0                0.0   \n",
       "2              0.0                 0.0             0.0                0.0   \n",
       "3              0.0                 0.0             0.0                0.0   \n",
       "4              0.0                 0.0             0.0                0.0   \n",
       "\n",
       "   magic_add_value  magic_reduce_value      ...        pve_win_count  \\\n",
       "0              0.0                 0.0      ...                    0   \n",
       "1              0.0                 0.0      ...                    0   \n",
       "2              0.0                 0.0      ...                    0   \n",
       "3              0.0                 0.0      ...                    0   \n",
       "4              0.0                 0.0      ...                    0   \n",
       "\n",
       "   avg_online_minutes  pay_price  pay_count  prediction_pay_price  reg_month  \\\n",
       "0            0.333333        0.0          0                   0.0          2   \n",
       "1            0.333333        0.0          0                   0.0          1   \n",
       "2            1.166667        0.0          0                   0.0          1   \n",
       "3            3.166667        0.0          0                   0.0          1   \n",
       "4            2.333333        0.0          0                   0.0          1   \n",
       "\n",
       "   reg_day  reg_hour  reg_weekday  reg_month_day  \n",
       "0        2         2            4           2-02  \n",
       "1       26         1            4           1-26  \n",
       "2       26         1            4           1-26  \n",
       "3       26         1            4           1-26  \n",
       "4       26         1            4           1-26  \n",
       "\n",
       "[5 rows x 112 columns]"
      ]
     },
     "execution_count": 23,
     "metadata": {},
     "output_type": "execute_result"
    }
   ],
   "source": [
    "data_train2.head()"
   ]
  },
  {
   "cell_type": "code",
   "execution_count": 24,
   "metadata": {
    "ExecuteTime": {
     "end_time": "2018-08-14T01:55:22.263019Z",
     "start_time": "2018-08-14T01:55:21.940000Z"
    }
   },
   "outputs": [
    {
     "data": {
      "text/html": [
       "<div>\n",
       "<style scoped>\n",
       "    .dataframe tbody tr th:only-of-type {\n",
       "        vertical-align: middle;\n",
       "    }\n",
       "\n",
       "    .dataframe tbody tr th {\n",
       "        vertical-align: top;\n",
       "    }\n",
       "\n",
       "    .dataframe thead th {\n",
       "        text-align: right;\n",
       "    }\n",
       "</style>\n",
       "<table border=\"1\" class=\"dataframe\">\n",
       "  <thead>\n",
       "    <tr style=\"text-align: right;\">\n",
       "      <th></th>\n",
       "      <th>wood_add_value</th>\n",
       "    </tr>\n",
       "    <tr>\n",
       "      <th>reg_month_day</th>\n",
       "      <th></th>\n",
       "    </tr>\n",
       "  </thead>\n",
       "  <tbody>\n",
       "    <tr>\n",
       "      <th>1-26</th>\n",
       "      <td>70250</td>\n",
       "    </tr>\n",
       "    <tr>\n",
       "      <th>1-27</th>\n",
       "      <td>70417</td>\n",
       "    </tr>\n",
       "    <tr>\n",
       "      <th>1-28</th>\n",
       "      <td>79227</td>\n",
       "    </tr>\n",
       "    <tr>\n",
       "      <th>1-29</th>\n",
       "      <td>63803</td>\n",
       "    </tr>\n",
       "    <tr>\n",
       "      <th>1-30</th>\n",
       "      <td>50201</td>\n",
       "    </tr>\n",
       "    <tr>\n",
       "      <th>1-31</th>\n",
       "      <td>56522</td>\n",
       "    </tr>\n",
       "    <tr>\n",
       "      <th>2-01</th>\n",
       "      <td>83245</td>\n",
       "    </tr>\n",
       "    <tr>\n",
       "      <th>2-02</th>\n",
       "      <td>60173</td>\n",
       "    </tr>\n",
       "    <tr>\n",
       "      <th>2-03</th>\n",
       "      <td>51659</td>\n",
       "    </tr>\n",
       "    <tr>\n",
       "      <th>2-04</th>\n",
       "      <td>60421</td>\n",
       "    </tr>\n",
       "    <tr>\n",
       "      <th>2-05</th>\n",
       "      <td>60998</td>\n",
       "    </tr>\n",
       "    <tr>\n",
       "      <th>2-06</th>\n",
       "      <td>57203</td>\n",
       "    </tr>\n",
       "    <tr>\n",
       "      <th>2-07</th>\n",
       "      <td>71576</td>\n",
       "    </tr>\n",
       "    <tr>\n",
       "      <th>2-08</th>\n",
       "      <td>72402</td>\n",
       "    </tr>\n",
       "    <tr>\n",
       "      <th>2-09</th>\n",
       "      <td>50143</td>\n",
       "    </tr>\n",
       "    <tr>\n",
       "      <th>2-10</th>\n",
       "      <td>53521</td>\n",
       "    </tr>\n",
       "    <tr>\n",
       "      <th>2-11</th>\n",
       "      <td>54014</td>\n",
       "    </tr>\n",
       "    <tr>\n",
       "      <th>2-12</th>\n",
       "      <td>52231</td>\n",
       "    </tr>\n",
       "    <tr>\n",
       "      <th>2-13</th>\n",
       "      <td>50638</td>\n",
       "    </tr>\n",
       "    <tr>\n",
       "      <th>2-14</th>\n",
       "      <td>54419</td>\n",
       "    </tr>\n",
       "    <tr>\n",
       "      <th>2-15</th>\n",
       "      <td>78707</td>\n",
       "    </tr>\n",
       "    <tr>\n",
       "      <th>2-16</th>\n",
       "      <td>56355</td>\n",
       "    </tr>\n",
       "    <tr>\n",
       "      <th>2-17</th>\n",
       "      <td>44477</td>\n",
       "    </tr>\n",
       "    <tr>\n",
       "      <th>2-18</th>\n",
       "      <td>59447</td>\n",
       "    </tr>\n",
       "    <tr>\n",
       "      <th>2-19</th>\n",
       "      <td>117311</td>\n",
       "    </tr>\n",
       "    <tr>\n",
       "      <th>2-20</th>\n",
       "      <td>92860</td>\n",
       "    </tr>\n",
       "    <tr>\n",
       "      <th>2-21</th>\n",
       "      <td>43720</td>\n",
       "    </tr>\n",
       "    <tr>\n",
       "      <th>2-22</th>\n",
       "      <td>42110</td>\n",
       "    </tr>\n",
       "    <tr>\n",
       "      <th>2-23</th>\n",
       "      <td>44635</td>\n",
       "    </tr>\n",
       "    <tr>\n",
       "      <th>2-24</th>\n",
       "      <td>45648</td>\n",
       "    </tr>\n",
       "    <tr>\n",
       "      <th>2-25</th>\n",
       "      <td>49835</td>\n",
       "    </tr>\n",
       "    <tr>\n",
       "      <th>2-26</th>\n",
       "      <td>42647</td>\n",
       "    </tr>\n",
       "    <tr>\n",
       "      <th>2-27</th>\n",
       "      <td>39140</td>\n",
       "    </tr>\n",
       "    <tr>\n",
       "      <th>2-28</th>\n",
       "      <td>42928</td>\n",
       "    </tr>\n",
       "    <tr>\n",
       "      <th>3-01</th>\n",
       "      <td>36226</td>\n",
       "    </tr>\n",
       "    <tr>\n",
       "      <th>3-02</th>\n",
       "      <td>42775</td>\n",
       "    </tr>\n",
       "    <tr>\n",
       "      <th>3-03</th>\n",
       "      <td>48970</td>\n",
       "    </tr>\n",
       "    <tr>\n",
       "      <th>3-04</th>\n",
       "      <td>50989</td>\n",
       "    </tr>\n",
       "    <tr>\n",
       "      <th>3-05</th>\n",
       "      <td>44726</td>\n",
       "    </tr>\n",
       "    <tr>\n",
       "      <th>3-06</th>\n",
       "      <td>41438</td>\n",
       "    </tr>\n",
       "  </tbody>\n",
       "</table>\n",
       "</div>"
      ],
      "text/plain": [
       "               wood_add_value\n",
       "reg_month_day                \n",
       "1-26                    70250\n",
       "1-27                    70417\n",
       "1-28                    79227\n",
       "1-29                    63803\n",
       "1-30                    50201\n",
       "1-31                    56522\n",
       "2-01                    83245\n",
       "2-02                    60173\n",
       "2-03                    51659\n",
       "2-04                    60421\n",
       "2-05                    60998\n",
       "2-06                    57203\n",
       "2-07                    71576\n",
       "2-08                    72402\n",
       "2-09                    50143\n",
       "2-10                    53521\n",
       "2-11                    54014\n",
       "2-12                    52231\n",
       "2-13                    50638\n",
       "2-14                    54419\n",
       "2-15                    78707\n",
       "2-16                    56355\n",
       "2-17                    44477\n",
       "2-18                    59447\n",
       "2-19                   117311\n",
       "2-20                    92860\n",
       "2-21                    43720\n",
       "2-22                    42110\n",
       "2-23                    44635\n",
       "2-24                    45648\n",
       "2-25                    49835\n",
       "2-26                    42647\n",
       "2-27                    39140\n",
       "2-28                    42928\n",
       "3-01                    36226\n",
       "3-02                    42775\n",
       "3-03                    48970\n",
       "3-04                    50989\n",
       "3-05                    44726\n",
       "3-06                    41438"
      ]
     },
     "execution_count": 24,
     "metadata": {},
     "output_type": "execute_result"
    }
   ],
   "source": [
    "data_train2[['reg_month_day','wood_add_value']].groupby(by=['reg_month_day']).agg('count')"
   ]
  },
  {
   "cell_type": "code",
   "execution_count": 25,
   "metadata": {
    "ExecuteTime": {
     "end_time": "2018-08-14T01:55:22.448029Z",
     "start_time": "2018-08-14T01:55:22.264019Z"
    }
   },
   "outputs": [],
   "source": [
    "df_md_count=data_train2[['reg_month_day','wood_add_value']].groupby(by=['reg_month_day'],as_index=False).agg('count')"
   ]
  },
  {
   "cell_type": "code",
   "execution_count": 26,
   "metadata": {
    "ExecuteTime": {
     "end_time": "2018-08-14T01:55:22.454029Z",
     "start_time": "2018-08-14T01:55:22.450029Z"
    }
   },
   "outputs": [
    {
     "data": {
      "text/plain": [
       "Index(['reg_month_day', 'wood_add_value'], dtype='object')"
      ]
     },
     "execution_count": 26,
     "metadata": {},
     "output_type": "execute_result"
    }
   ],
   "source": [
    "df_md_count.columns"
   ]
  },
  {
   "cell_type": "code",
   "execution_count": null,
   "metadata": {
    "ExecuteTime": {
     "end_time": "2018-08-13T08:10:10.658184Z",
     "start_time": "2018-08-13T08:10:10.626984Z"
    }
   },
   "outputs": [],
   "source": []
  },
  {
   "cell_type": "code",
   "execution_count": 27,
   "metadata": {
    "ExecuteTime": {
     "end_time": "2018-08-14T01:55:22.547035Z",
     "start_time": "2018-08-14T01:55:22.456030Z"
    }
   },
   "outputs": [],
   "source": [
    "# x=df_md_count.reg_month_day\n",
    "# y=df_md_count.wood_add_value\n",
    "# plt.xticks(fontsize=20)\n",
    "# plt.plot(x,y)"
   ]
  },
  {
   "cell_type": "code",
   "execution_count": 28,
   "metadata": {
    "ExecuteTime": {
     "end_time": "2018-08-14T01:55:22.703044Z",
     "start_time": "2018-08-14T01:55:22.548035Z"
    }
   },
   "outputs": [],
   "source": [
    "df_d_count=data_train2[['reg_day','wood_add_value']].groupby(by='reg_day',as_index=False).agg('count')"
   ]
  },
  {
   "cell_type": "code",
   "execution_count": 29,
   "metadata": {
    "ExecuteTime": {
     "end_time": "2018-08-14T01:55:22.783048Z",
     "start_time": "2018-08-14T01:55:22.705044Z"
    },
    "scrolled": true
   },
   "outputs": [],
   "source": [
    "# x=df_d_count.reg_day\n",
    "# y=df_d_count.wood_add_value\n",
    "# plt.scatter(x,y)"
   ]
  },
  {
   "cell_type": "code",
   "execution_count": 30,
   "metadata": {
    "ExecuteTime": {
     "end_time": "2018-08-14T01:55:22.877054Z",
     "start_time": "2018-08-14T01:55:22.784048Z"
    }
   },
   "outputs": [],
   "source": [
    "# data=data_train\n",
    "# data['register_time']=data_train.register_time.astype('str')\n",
    "# data['register_time_month']=data_train.register_time.str[:7]\n",
    "# data['register_time_day']=data_train.register_time.str[6:10]\n",
    "\n",
    "# # del data['register_time_m']\n",
    "\n",
    "# data_month_df=pd.DataFrame(data['register_time_month'].value_counts()).sort_index()\n",
    "# data_day_df = pd.DataFrame(data['register_time_day'].value_counts()).sort_index()\n",
    "\n",
    "# from pyecharts import Line,Grid\n",
    "# from pyecharts import configure\n",
    "\n",
    "# line1=Line('Players Num by Month')\n",
    "# line1.add('Player Num',data_month_df.index,data_month_df.register_time_month,mark_line=['averges'],mark_point=['max','min'])\n",
    "# line2=Line('Players Num by Day')\n",
    "# line2.add('Player num',data_day_df.index,data_day_df.register_time_day,mark_line=['average'],mark_point=['max','min'])\n",
    "# grid=Grid(width =1000,height=1000)\n",
    "# grid.add(line1,grid_bottom='60%')\n",
    "# grid.add(line2,grid_top='60%')\n",
    "# grid.use_theme('dark')\n",
    "# grid.render()\n",
    "# grid\n",
    "\n",
    "\n",
    "# data_pay_7=data[data['pay_price']>0]\n",
    "\n",
    "# data_pay_7_day_df = pd.DataFrame(data_pay_7['register_time_day'].value_counts()).sort_index()\n",
    "# data_pay_7_day_df.rename(columns={'register_time_day':'pay_register_time_day'}, inplace = True)\n",
    "# data_day_count = pd.concat([data_pay_7_day_df, data_day_df], axis=1)\n",
    "# data_day_count['pay_percent'] = data_day_count['pay_register_time_day']/data_day_count['register_time_day']"
   ]
  },
  {
   "cell_type": "code",
   "execution_count": 31,
   "metadata": {
    "ExecuteTime": {
     "end_time": "2018-08-14T01:55:22.989060Z",
     "start_time": "2018-08-14T01:55:22.881054Z"
    }
   },
   "outputs": [],
   "source": [
    "# from pyecharts import Overlap\n",
    "\n",
    "# line3 = Line()\n",
    "# line3.add(\"注册玩家数量\", data_day_count.index, data_day_count['register_time_day'], mark_line=[\"average\"], mark_point=[\"max\", \"min\"])\n",
    "\n",
    "# line4 = Line()\n",
    "# line4.add(\"7天内付费玩家数量\", data_day_count.index, data_day_count['pay_register_time_day'], mark_line=[\"average\"], \n",
    "#           mark_point=[\"max\", \"min\"], yaxis_max=3000)\n",
    "# overlap=Overlap()\n",
    "# overlap.add(line3)\n",
    "# overlap.add(line4,yaxis_index=1,is_add_yaxis=True)\n",
    "# overlap.render()\n",
    "# overlap"
   ]
  },
  {
   "cell_type": "code",
   "execution_count": 32,
   "metadata": {
    "ExecuteTime": {
     "end_time": "2018-08-14T01:55:23.234074Z",
     "start_time": "2018-08-14T01:55:22.990060Z"
    }
   },
   "outputs": [
    {
     "data": {
      "text/plain": [
       "(41439, 112)"
      ]
     },
     "execution_count": 32,
     "metadata": {},
     "output_type": "execute_result"
    }
   ],
   "source": [
    "data_train2[(data_train2['pay_price']>0) & (data_train2['prediction_pay_price']>0)].shape"
   ]
  },
  {
   "cell_type": "code",
   "execution_count": 33,
   "metadata": {
    "ExecuteTime": {
     "end_time": "2018-08-14T01:55:23.268076Z",
     "start_time": "2018-08-14T01:55:23.237074Z"
    }
   },
   "outputs": [
    {
     "data": {
      "text/plain": [
       "(4549, 112)"
      ]
     },
     "execution_count": 33,
     "metadata": {},
     "output_type": "execute_result"
    }
   ],
   "source": [
    "data_train2[(data_train2['pay_price']==0) & (data_train2['prediction_pay_price']>0)].shape"
   ]
  },
  {
   "cell_type": "code",
   "execution_count": 34,
   "metadata": {
    "ExecuteTime": {
     "end_time": "2018-08-14T01:55:23.358081Z",
     "start_time": "2018-08-14T01:55:23.269076Z"
    }
   },
   "outputs": [
    {
     "data": {
      "text/plain": [
       "(0, 112)"
      ]
     },
     "execution_count": 34,
     "metadata": {},
     "output_type": "execute_result"
    }
   ],
   "source": [
    "data_train2[(data_train2['pay_price']>0) & (data_train2['prediction_pay_price']==0)].shape"
   ]
  },
  {
   "cell_type": "code",
   "execution_count": 35,
   "metadata": {
    "ExecuteTime": {
     "end_time": "2018-08-14T01:55:23.479088Z",
     "start_time": "2018-08-14T01:55:23.359081Z"
    }
   },
   "outputs": [
    {
     "data": {
      "text/plain": [
       "(41439, 112)"
      ]
     },
     "execution_count": 35,
     "metadata": {},
     "output_type": "execute_result"
    }
   ],
   "source": [
    "data_train2[(data_train2['pay_price']>0)].shape"
   ]
  },
  {
   "cell_type": "code",
   "execution_count": 36,
   "metadata": {
    "ExecuteTime": {
     "end_time": "2018-08-14T01:55:23.592095Z",
     "start_time": "2018-08-14T01:55:23.480088Z"
    }
   },
   "outputs": [
    {
     "data": {
      "text/plain": [
       "(45988, 112)"
      ]
     },
     "execution_count": 36,
     "metadata": {},
     "output_type": "execute_result"
    }
   ],
   "source": [
    "data_train2[(data_train2['prediction_pay_price']>0)].shape"
   ]
  },
  {
   "cell_type": "code",
   "execution_count": 52,
   "metadata": {
    "ExecuteTime": {
     "end_time": "2018-08-14T02:03:42.070606Z",
     "start_time": "2018-08-14T02:03:41.975600Z"
    }
   },
   "outputs": [
    {
     "data": {
      "text/plain": [
       "count    45988.000000\n",
       "mean        89.228508\n",
       "std        617.739014\n",
       "min          0.990000\n",
       "25%          0.990000\n",
       "50%          3.970000\n",
       "75%         20.980000\n",
       "max      32977.808594\n",
       "Name: prediction_pay_price, dtype: float64"
      ]
     },
     "execution_count": 52,
     "metadata": {},
     "output_type": "execute_result"
    }
   ],
   "source": [
    "data_train2[data_train2['prediction_pay_price']>0]['prediction_pay_price'].describe()"
   ]
  },
  {
   "cell_type": "code",
   "execution_count": 54,
   "metadata": {
    "ExecuteTime": {
     "end_time": "2018-08-14T02:06:48.912293Z",
     "start_time": "2018-08-14T02:06:48.750283Z"
    }
   },
   "outputs": [],
   "source": [
    "data_pay_7=data_train2[data_train2['pay_price']>0]\n",
    "data_pay_45=data_train2[data_train2['prediction_pay_price']>0]"
   ]
  },
  {
   "cell_type": "code",
   "execution_count": 67,
   "metadata": {
    "ExecuteTime": {
     "end_time": "2018-08-14T03:33:27.339870Z",
     "start_time": "2018-08-14T03:33:27.234864Z"
    }
   },
   "outputs": [
    {
     "data": {
      "text/html": [
       "<div>\n",
       "<style scoped>\n",
       "    .dataframe tbody tr th:only-of-type {\n",
       "        vertical-align: middle;\n",
       "    }\n",
       "\n",
       "    .dataframe tbody tr th {\n",
       "        vertical-align: top;\n",
       "    }\n",
       "\n",
       "    .dataframe thead th {\n",
       "        text-align: right;\n",
       "    }\n",
       "</style>\n",
       "<table border=\"1\" class=\"dataframe\">\n",
       "  <thead>\n",
       "    <tr style=\"text-align: right;\">\n",
       "      <th></th>\n",
       "      <th>pay_price</th>\n",
       "      <th>prediction_pay_price</th>\n",
       "      <th>avg_online_minutes</th>\n",
       "    </tr>\n",
       "  </thead>\n",
       "  <tbody>\n",
       "    <tr>\n",
       "      <th>count</th>\n",
       "      <td>30130.000000</td>\n",
       "      <td>30130.000000</td>\n",
       "      <td>30130.000000</td>\n",
       "    </tr>\n",
       "    <tr>\n",
       "      <th>mean</th>\n",
       "      <td>11.407172</td>\n",
       "      <td>11.407172</td>\n",
       "      <td>100.656929</td>\n",
       "    </tr>\n",
       "    <tr>\n",
       "      <th>std</th>\n",
       "      <td>71.140594</td>\n",
       "      <td>71.140594</td>\n",
       "      <td>113.973495</td>\n",
       "    </tr>\n",
       "    <tr>\n",
       "      <th>min</th>\n",
       "      <td>0.990000</td>\n",
       "      <td>0.990000</td>\n",
       "      <td>0.000000</td>\n",
       "    </tr>\n",
       "    <tr>\n",
       "      <th>25%</th>\n",
       "      <td>0.990000</td>\n",
       "      <td>0.990000</td>\n",
       "      <td>23.333332</td>\n",
       "    </tr>\n",
       "    <tr>\n",
       "      <th>50%</th>\n",
       "      <td>1.980000</td>\n",
       "      <td>1.980000</td>\n",
       "      <td>61.166668</td>\n",
       "    </tr>\n",
       "    <tr>\n",
       "      <th>75%</th>\n",
       "      <td>5.980000</td>\n",
       "      <td>5.980000</td>\n",
       "      <td>137.166672</td>\n",
       "    </tr>\n",
       "    <tr>\n",
       "      <th>max</th>\n",
       "      <td>4086.520020</td>\n",
       "      <td>4086.520020</td>\n",
       "      <td>1394.666626</td>\n",
       "    </tr>\n",
       "  </tbody>\n",
       "</table>\n",
       "</div>"
      ],
      "text/plain": [
       "          pay_price  prediction_pay_price  avg_online_minutes\n",
       "count  30130.000000          30130.000000        30130.000000\n",
       "mean      11.407172             11.407172          100.656929\n",
       "std       71.140594             71.140594          113.973495\n",
       "min        0.990000              0.990000            0.000000\n",
       "25%        0.990000              0.990000           23.333332\n",
       "50%        1.980000              1.980000           61.166668\n",
       "75%        5.980000              5.980000          137.166672\n",
       "max     4086.520020           4086.520020         1394.666626"
      ]
     },
     "execution_count": 67,
     "metadata": {},
     "output_type": "execute_result"
    }
   ],
   "source": [
    "data_train2[(data_train2['pay_price']>0) & (data_train2['pay_price'] == data_train2['prediction_pay_price'])] \\\n",
    "[['pay_price','prediction_pay_price','avg_online_minutes']].describe()\n",
    "#pp> == ppp 只给了7天"
   ]
  },
  {
   "cell_type": "code",
   "execution_count": 68,
   "metadata": {
    "ExecuteTime": {
     "end_time": "2018-08-14T03:33:29.996022Z",
     "start_time": "2018-08-14T03:33:29.950019Z"
    }
   },
   "outputs": [
    {
     "data": {
      "text/html": [
       "<div>\n",
       "<style scoped>\n",
       "    .dataframe tbody tr th:only-of-type {\n",
       "        vertical-align: middle;\n",
       "    }\n",
       "\n",
       "    .dataframe tbody tr th {\n",
       "        vertical-align: top;\n",
       "    }\n",
       "\n",
       "    .dataframe thead th {\n",
       "        text-align: right;\n",
       "    }\n",
       "</style>\n",
       "<table border=\"1\" class=\"dataframe\">\n",
       "  <thead>\n",
       "    <tr style=\"text-align: right;\">\n",
       "      <th></th>\n",
       "      <th>pay_price</th>\n",
       "      <th>prediction_pay_price</th>\n",
       "      <th>avg_online_minutes</th>\n",
       "    </tr>\n",
       "  </thead>\n",
       "  <tbody>\n",
       "    <tr>\n",
       "      <th>count</th>\n",
       "      <td>11309.000000</td>\n",
       "      <td>11309.000000</td>\n",
       "      <td>11309.000000</td>\n",
       "    </tr>\n",
       "    <tr>\n",
       "      <th>mean</th>\n",
       "      <td>77.782753</td>\n",
       "      <td>315.976807</td>\n",
       "      <td>245.507996</td>\n",
       "    </tr>\n",
       "    <tr>\n",
       "      <th>std</th>\n",
       "      <td>289.611267</td>\n",
       "      <td>1202.829590</td>\n",
       "      <td>180.424377</td>\n",
       "    </tr>\n",
       "    <tr>\n",
       "      <th>min</th>\n",
       "      <td>0.990000</td>\n",
       "      <td>1.980000</td>\n",
       "      <td>0.666667</td>\n",
       "    </tr>\n",
       "    <tr>\n",
       "      <th>25%</th>\n",
       "      <td>2.980000</td>\n",
       "      <td>16.940001</td>\n",
       "      <td>109.666664</td>\n",
       "    </tr>\n",
       "    <tr>\n",
       "      <th>50%</th>\n",
       "      <td>15.970000</td>\n",
       "      <td>48.919998</td>\n",
       "      <td>200.500000</td>\n",
       "    </tr>\n",
       "    <tr>\n",
       "      <th>75%</th>\n",
       "      <td>45.939999</td>\n",
       "      <td>163.759995</td>\n",
       "      <td>339.833344</td>\n",
       "    </tr>\n",
       "    <tr>\n",
       "      <th>max</th>\n",
       "      <td>7457.950195</td>\n",
       "      <td>32977.808594</td>\n",
       "      <td>1674.666626</td>\n",
       "    </tr>\n",
       "  </tbody>\n",
       "</table>\n",
       "</div>"
      ],
      "text/plain": [
       "          pay_price  prediction_pay_price  avg_online_minutes\n",
       "count  11309.000000          11309.000000        11309.000000\n",
       "mean      77.782753            315.976807          245.507996\n",
       "std      289.611267           1202.829590          180.424377\n",
       "min        0.990000              1.980000            0.666667\n",
       "25%        2.980000             16.940001          109.666664\n",
       "50%       15.970000             48.919998          200.500000\n",
       "75%       45.939999            163.759995          339.833344\n",
       "max     7457.950195          32977.808594         1674.666626"
      ]
     },
     "execution_count": 68,
     "metadata": {},
     "output_type": "execute_result"
    }
   ],
   "source": [
    "data_train2[(data_train2['pay_price']>0) & (data_train2['pay_price'] < data_train2['prediction_pay_price'])] \\\n",
    "[['pay_price','prediction_pay_price','avg_online_minutes']].describe()\n",
    "#pp>0 and pp< ppp 只给了7天,45天也付了"
   ]
  },
  {
   "cell_type": "code",
   "execution_count": 69,
   "metadata": {
    "ExecuteTime": {
     "end_time": "2018-08-14T03:33:33.304211Z",
     "start_time": "2018-08-14T03:33:33.240208Z"
    }
   },
   "outputs": [
    {
     "data": {
      "text/html": [
       "<div>\n",
       "<style scoped>\n",
       "    .dataframe tbody tr th:only-of-type {\n",
       "        vertical-align: middle;\n",
       "    }\n",
       "\n",
       "    .dataframe tbody tr th {\n",
       "        vertical-align: top;\n",
       "    }\n",
       "\n",
       "    .dataframe thead th {\n",
       "        text-align: right;\n",
       "    }\n",
       "</style>\n",
       "<table border=\"1\" class=\"dataframe\">\n",
       "  <thead>\n",
       "    <tr style=\"text-align: right;\">\n",
       "      <th></th>\n",
       "      <th>pay_price</th>\n",
       "      <th>prediction_pay_price</th>\n",
       "      <th>avg_online_minutes</th>\n",
       "    </tr>\n",
       "  </thead>\n",
       "  <tbody>\n",
       "    <tr>\n",
       "      <th>count</th>\n",
       "      <td>4549.0</td>\n",
       "      <td>4549.000000</td>\n",
       "      <td>4549.000000</td>\n",
       "    </tr>\n",
       "    <tr>\n",
       "      <th>mean</th>\n",
       "      <td>0.0</td>\n",
       "      <td>40.842228</td>\n",
       "      <td>115.475998</td>\n",
       "    </tr>\n",
       "    <tr>\n",
       "      <th>std</th>\n",
       "      <td>0.0</td>\n",
       "      <td>238.763504</td>\n",
       "      <td>128.285599</td>\n",
       "    </tr>\n",
       "    <tr>\n",
       "      <th>min</th>\n",
       "      <td>0.0</td>\n",
       "      <td>0.990000</td>\n",
       "      <td>0.000000</td>\n",
       "    </tr>\n",
       "    <tr>\n",
       "      <th>25%</th>\n",
       "      <td>0.0</td>\n",
       "      <td>0.990000</td>\n",
       "      <td>22.833332</td>\n",
       "    </tr>\n",
       "    <tr>\n",
       "      <th>50%</th>\n",
       "      <td>0.0</td>\n",
       "      <td>5.980000</td>\n",
       "      <td>77.500000</td>\n",
       "    </tr>\n",
       "    <tr>\n",
       "      <th>75%</th>\n",
       "      <td>0.0</td>\n",
       "      <td>19.950001</td>\n",
       "      <td>159.166672</td>\n",
       "    </tr>\n",
       "    <tr>\n",
       "      <th>max</th>\n",
       "      <td>0.0</td>\n",
       "      <td>6752.970215</td>\n",
       "      <td>1098.833374</td>\n",
       "    </tr>\n",
       "  </tbody>\n",
       "</table>\n",
       "</div>"
      ],
      "text/plain": [
       "       pay_price  prediction_pay_price  avg_online_minutes\n",
       "count     4549.0           4549.000000         4549.000000\n",
       "mean         0.0             40.842228          115.475998\n",
       "std          0.0            238.763504          128.285599\n",
       "min          0.0              0.990000            0.000000\n",
       "25%          0.0              0.990000           22.833332\n",
       "50%          0.0              5.980000           77.500000\n",
       "75%          0.0             19.950001          159.166672\n",
       "max          0.0           6752.970215         1098.833374"
      ]
     },
     "execution_count": 69,
     "metadata": {},
     "output_type": "execute_result"
    }
   ],
   "source": [
    "data_train2[(data_train2['pay_price']==0) & (data_train2['prediction_pay_price']>0)] \\\n",
    "[['pay_price','prediction_pay_price','avg_online_minutes']].describe()\n",
    "#pp=0 and ppp>0 前7天未付款,后45天也付钱的"
   ]
  },
  {
   "cell_type": "code",
   "execution_count": 70,
   "metadata": {
    "ExecuteTime": {
     "end_time": "2018-08-14T03:34:29.670435Z",
     "start_time": "2018-08-14T03:34:28.558372Z"
    }
   },
   "outputs": [
    {
     "data": {
      "text/html": [
       "<div>\n",
       "<style scoped>\n",
       "    .dataframe tbody tr th:only-of-type {\n",
       "        vertical-align: middle;\n",
       "    }\n",
       "\n",
       "    .dataframe tbody tr th {\n",
       "        vertical-align: top;\n",
       "    }\n",
       "\n",
       "    .dataframe thead th {\n",
       "        text-align: right;\n",
       "    }\n",
       "</style>\n",
       "<table border=\"1\" class=\"dataframe\">\n",
       "  <thead>\n",
       "    <tr style=\"text-align: right;\">\n",
       "      <th></th>\n",
       "      <th>pay_price</th>\n",
       "      <th>prediction_pay_price</th>\n",
       "      <th>avg_online_minutes</th>\n",
       "    </tr>\n",
       "  </thead>\n",
       "  <tbody>\n",
       "    <tr>\n",
       "      <th>count</th>\n",
       "      <td>2242019.0</td>\n",
       "      <td>2242019.0</td>\n",
       "      <td>2.242019e+06</td>\n",
       "    </tr>\n",
       "    <tr>\n",
       "      <th>mean</th>\n",
       "      <td>0.0</td>\n",
       "      <td>0.0</td>\n",
       "      <td>7.573942e+00</td>\n",
       "    </tr>\n",
       "    <tr>\n",
       "      <th>std</th>\n",
       "      <td>0.0</td>\n",
       "      <td>0.0</td>\n",
       "      <td>2.734151e+01</td>\n",
       "    </tr>\n",
       "    <tr>\n",
       "      <th>min</th>\n",
       "      <td>0.0</td>\n",
       "      <td>0.0</td>\n",
       "      <td>0.000000e+00</td>\n",
       "    </tr>\n",
       "    <tr>\n",
       "      <th>25%</th>\n",
       "      <td>0.0</td>\n",
       "      <td>0.0</td>\n",
       "      <td>5.000000e-01</td>\n",
       "    </tr>\n",
       "    <tr>\n",
       "      <th>50%</th>\n",
       "      <td>0.0</td>\n",
       "      <td>0.0</td>\n",
       "      <td>1.833333e+00</td>\n",
       "    </tr>\n",
       "    <tr>\n",
       "      <th>75%</th>\n",
       "      <td>0.0</td>\n",
       "      <td>0.0</td>\n",
       "      <td>4.500000e+00</td>\n",
       "    </tr>\n",
       "    <tr>\n",
       "      <th>max</th>\n",
       "      <td>0.0</td>\n",
       "      <td>0.0</td>\n",
       "      <td>2.049667e+03</td>\n",
       "    </tr>\n",
       "  </tbody>\n",
       "</table>\n",
       "</div>"
      ],
      "text/plain": [
       "       pay_price  prediction_pay_price  avg_online_minutes\n",
       "count  2242019.0             2242019.0        2.242019e+06\n",
       "mean         0.0                   0.0        7.573942e+00\n",
       "std          0.0                   0.0        2.734151e+01\n",
       "min          0.0                   0.0        0.000000e+00\n",
       "25%          0.0                   0.0        5.000000e-01\n",
       "50%          0.0                   0.0        1.833333e+00\n",
       "75%          0.0                   0.0        4.500000e+00\n",
       "max          0.0                   0.0        2.049667e+03"
      ]
     },
     "execution_count": 70,
     "metadata": {},
     "output_type": "execute_result"
    }
   ],
   "source": [
    "data_train2[(data_train2['pay_price']==0) & (data_train2['prediction_pay_price']==0)] \\\n",
    "[['pay_price','prediction_pay_price','avg_online_minutes']].describe()"
   ]
  },
  {
   "cell_type": "code",
   "execution_count": 38,
   "metadata": {
    "ExecuteTime": {
     "end_time": "2018-08-14T01:55:23.780105Z",
     "start_time": "2018-08-14T01:55:23.690100Z"
    }
   },
   "outputs": [],
   "source": [
    "top50_ppp_index=data_train2[data_train2['prediction_pay_price']>0]['prediction_pay_price'].sort_values(ascending=False).head(50).index"
   ]
  },
  {
   "cell_type": "code",
   "execution_count": 39,
   "metadata": {
    "ExecuteTime": {
     "end_time": "2018-08-14T01:55:23.842109Z",
     "start_time": "2018-08-14T01:55:23.781105Z"
    }
   },
   "outputs": [
    {
     "data": {
      "text/html": [
       "<div>\n",
       "<style scoped>\n",
       "    .dataframe tbody tr th:only-of-type {\n",
       "        vertical-align: middle;\n",
       "    }\n",
       "\n",
       "    .dataframe tbody tr th {\n",
       "        vertical-align: top;\n",
       "    }\n",
       "\n",
       "    .dataframe thead th {\n",
       "        text-align: right;\n",
       "    }\n",
       "</style>\n",
       "<table border=\"1\" class=\"dataframe\">\n",
       "  <thead>\n",
       "    <tr style=\"text-align: right;\">\n",
       "      <th></th>\n",
       "      <th>avg_online_minutes</th>\n",
       "      <th>pay_count</th>\n",
       "      <th>pay_price</th>\n",
       "      <th>prediction_pay_price</th>\n",
       "    </tr>\n",
       "  </thead>\n",
       "  <tbody>\n",
       "    <tr>\n",
       "      <th>916364</th>\n",
       "      <td>386.000000</td>\n",
       "      <td>105</td>\n",
       "      <td>7457.950195</td>\n",
       "      <td>32977.808594</td>\n",
       "    </tr>\n",
       "    <tr>\n",
       "      <th>285403</th>\n",
       "      <td>479.500000</td>\n",
       "      <td>73</td>\n",
       "      <td>4665.270020</td>\n",
       "      <td>30780.560547</td>\n",
       "    </tr>\n",
       "    <tr>\n",
       "      <th>1019562</th>\n",
       "      <td>532.333313</td>\n",
       "      <td>49</td>\n",
       "      <td>2231.510010</td>\n",
       "      <td>26598.929688</td>\n",
       "    </tr>\n",
       "    <tr>\n",
       "      <th>2142344</th>\n",
       "      <td>124.166664</td>\n",
       "      <td>7</td>\n",
       "      <td>176.929993</td>\n",
       "      <td>25796.019531</td>\n",
       "    </tr>\n",
       "    <tr>\n",
       "      <th>1292065</th>\n",
       "      <td>219.333328</td>\n",
       "      <td>23</td>\n",
       "      <td>1596.770020</td>\n",
       "      <td>24900.349609</td>\n",
       "    </tr>\n",
       "    <tr>\n",
       "      <th>771084</th>\n",
       "      <td>607.666687</td>\n",
       "      <td>88</td>\n",
       "      <td>5708.120117</td>\n",
       "      <td>24726.509766</td>\n",
       "    </tr>\n",
       "    <tr>\n",
       "      <th>1546845</th>\n",
       "      <td>149.000000</td>\n",
       "      <td>104</td>\n",
       "      <td>7429.959961</td>\n",
       "      <td>23489.560547</td>\n",
       "    </tr>\n",
       "    <tr>\n",
       "      <th>519548</th>\n",
       "      <td>725.666687</td>\n",
       "      <td>43</td>\n",
       "      <td>2110.570068</td>\n",
       "      <td>22875.029297</td>\n",
       "    </tr>\n",
       "    <tr>\n",
       "      <th>1423324</th>\n",
       "      <td>697.333313</td>\n",
       "      <td>102</td>\n",
       "      <td>6253.979980</td>\n",
       "      <td>20261.460938</td>\n",
       "    </tr>\n",
       "    <tr>\n",
       "      <th>2161397</th>\n",
       "      <td>313.166656</td>\n",
       "      <td>37</td>\n",
       "      <td>1255.630005</td>\n",
       "      <td>18811.660156</td>\n",
       "    </tr>\n",
       "    <tr>\n",
       "      <th>630227</th>\n",
       "      <td>548.666687</td>\n",
       "      <td>43</td>\n",
       "      <td>2223.570068</td>\n",
       "      <td>17697.880859</td>\n",
       "    </tr>\n",
       "    <tr>\n",
       "      <th>357542</th>\n",
       "      <td>348.833344</td>\n",
       "      <td>38</td>\n",
       "      <td>1465.619995</td>\n",
       "      <td>17132.179688</td>\n",
       "    </tr>\n",
       "    <tr>\n",
       "      <th>1460820</th>\n",
       "      <td>747.333313</td>\n",
       "      <td>57</td>\n",
       "      <td>1767.430054</td>\n",
       "      <td>16120.059570</td>\n",
       "    </tr>\n",
       "    <tr>\n",
       "      <th>1799420</th>\n",
       "      <td>373.166656</td>\n",
       "      <td>37</td>\n",
       "      <td>1053.630005</td>\n",
       "      <td>15321.969727</td>\n",
       "    </tr>\n",
       "    <tr>\n",
       "      <th>288571</th>\n",
       "      <td>367.833344</td>\n",
       "      <td>58</td>\n",
       "      <td>2677.419922</td>\n",
       "      <td>15080.339844</td>\n",
       "    </tr>\n",
       "    <tr>\n",
       "      <th>872856</th>\n",
       "      <td>474.500000</td>\n",
       "      <td>42</td>\n",
       "      <td>2148.580078</td>\n",
       "      <td>14478.139648</td>\n",
       "    </tr>\n",
       "    <tr>\n",
       "      <th>170139</th>\n",
       "      <td>937.500000</td>\n",
       "      <td>18</td>\n",
       "      <td>678.820007</td>\n",
       "      <td>14067.700195</td>\n",
       "    </tr>\n",
       "    <tr>\n",
       "      <th>2230398</th>\n",
       "      <td>237.666672</td>\n",
       "      <td>11</td>\n",
       "      <td>476.890015</td>\n",
       "      <td>13765.410156</td>\n",
       "    </tr>\n",
       "    <tr>\n",
       "      <th>1042345</th>\n",
       "      <td>453.833344</td>\n",
       "      <td>30</td>\n",
       "      <td>2086.699951</td>\n",
       "      <td>12704.309570</td>\n",
       "    </tr>\n",
       "    <tr>\n",
       "      <th>478190</th>\n",
       "      <td>182.000000</td>\n",
       "      <td>27</td>\n",
       "      <td>1266.729980</td>\n",
       "      <td>12263.799805</td>\n",
       "    </tr>\n",
       "    <tr>\n",
       "      <th>1938044</th>\n",
       "      <td>193.166672</td>\n",
       "      <td>3</td>\n",
       "      <td>51.970001</td>\n",
       "      <td>12253.049805</td>\n",
       "    </tr>\n",
       "    <tr>\n",
       "      <th>1718477</th>\n",
       "      <td>554.166687</td>\n",
       "      <td>30</td>\n",
       "      <td>1376.699951</td>\n",
       "      <td>12115.929688</td>\n",
       "    </tr>\n",
       "    <tr>\n",
       "      <th>1561800</th>\n",
       "      <td>401.833344</td>\n",
       "      <td>71</td>\n",
       "      <td>3008.290039</td>\n",
       "      <td>12115.759766</td>\n",
       "    </tr>\n",
       "    <tr>\n",
       "      <th>1899898</th>\n",
       "      <td>515.000000</td>\n",
       "      <td>65</td>\n",
       "      <td>4288.350098</td>\n",
       "      <td>11931.330078</td>\n",
       "    </tr>\n",
       "    <tr>\n",
       "      <th>810609</th>\n",
       "      <td>363.833344</td>\n",
       "      <td>82</td>\n",
       "      <td>5428.180176</td>\n",
       "      <td>11652.269531</td>\n",
       "    </tr>\n",
       "    <tr>\n",
       "      <th>428443</th>\n",
       "      <td>307.000000</td>\n",
       "      <td>66</td>\n",
       "      <td>3709.340088</td>\n",
       "      <td>11125.219727</td>\n",
       "    </tr>\n",
       "    <tr>\n",
       "      <th>1865874</th>\n",
       "      <td>341.500000</td>\n",
       "      <td>66</td>\n",
       "      <td>4473.339844</td>\n",
       "      <td>11012.440430</td>\n",
       "    </tr>\n",
       "    <tr>\n",
       "      <th>278580</th>\n",
       "      <td>106.333336</td>\n",
       "      <td>16</td>\n",
       "      <td>598.840027</td>\n",
       "      <td>10847.540039</td>\n",
       "    </tr>\n",
       "    <tr>\n",
       "      <th>692617</th>\n",
       "      <td>373.333344</td>\n",
       "      <td>39</td>\n",
       "      <td>1493.609985</td>\n",
       "      <td>10247.330078</td>\n",
       "    </tr>\n",
       "    <tr>\n",
       "      <th>770092</th>\n",
       "      <td>328.833344</td>\n",
       "      <td>14</td>\n",
       "      <td>471.859985</td>\n",
       "      <td>9982.639648</td>\n",
       "    </tr>\n",
       "    <tr>\n",
       "      <th>334333</th>\n",
       "      <td>669.666687</td>\n",
       "      <td>41</td>\n",
       "      <td>1908.589966</td>\n",
       "      <td>9735.320312</td>\n",
       "    </tr>\n",
       "    <tr>\n",
       "      <th>1161403</th>\n",
       "      <td>368.833344</td>\n",
       "      <td>8</td>\n",
       "      <td>66.919998</td>\n",
       "      <td>9442.519531</td>\n",
       "    </tr>\n",
       "    <tr>\n",
       "      <th>381</th>\n",
       "      <td>143.166672</td>\n",
       "      <td>13</td>\n",
       "      <td>406.869995</td>\n",
       "      <td>8982.780273</td>\n",
       "    </tr>\n",
       "    <tr>\n",
       "      <th>2237575</th>\n",
       "      <td>427.166656</td>\n",
       "      <td>16</td>\n",
       "      <td>438.839996</td>\n",
       "      <td>8861.540039</td>\n",
       "    </tr>\n",
       "    <tr>\n",
       "      <th>359018</th>\n",
       "      <td>390.666656</td>\n",
       "      <td>58</td>\n",
       "      <td>3191.419922</td>\n",
       "      <td>8764.150391</td>\n",
       "    </tr>\n",
       "    <tr>\n",
       "      <th>1843824</th>\n",
       "      <td>357.833344</td>\n",
       "      <td>18</td>\n",
       "      <td>256.820007</td>\n",
       "      <td>8632.820312</td>\n",
       "    </tr>\n",
       "    <tr>\n",
       "      <th>198569</th>\n",
       "      <td>177.166672</td>\n",
       "      <td>26</td>\n",
       "      <td>881.739990</td>\n",
       "      <td>8392.759766</td>\n",
       "    </tr>\n",
       "    <tr>\n",
       "      <th>1993503</th>\n",
       "      <td>530.500000</td>\n",
       "      <td>27</td>\n",
       "      <td>2081.729980</td>\n",
       "      <td>8243.030273</td>\n",
       "    </tr>\n",
       "    <tr>\n",
       "      <th>551932</th>\n",
       "      <td>429.333344</td>\n",
       "      <td>57</td>\n",
       "      <td>3246.429932</td>\n",
       "      <td>8155.569824</td>\n",
       "    </tr>\n",
       "    <tr>\n",
       "      <th>1190418</th>\n",
       "      <td>462.000000</td>\n",
       "      <td>27</td>\n",
       "      <td>1211.729980</td>\n",
       "      <td>8076.549805</td>\n",
       "    </tr>\n",
       "    <tr>\n",
       "      <th>126175</th>\n",
       "      <td>307.833344</td>\n",
       "      <td>22</td>\n",
       "      <td>1536.780029</td>\n",
       "      <td>8046.950195</td>\n",
       "    </tr>\n",
       "    <tr>\n",
       "      <th>320836</th>\n",
       "      <td>723.000000</td>\n",
       "      <td>61</td>\n",
       "      <td>2639.389893</td>\n",
       "      <td>7863.740234</td>\n",
       "    </tr>\n",
       "    <tr>\n",
       "      <th>827183</th>\n",
       "      <td>459.666656</td>\n",
       "      <td>56</td>\n",
       "      <td>2987.439941</td>\n",
       "      <td>7860.620117</td>\n",
       "    </tr>\n",
       "    <tr>\n",
       "      <th>1611244</th>\n",
       "      <td>200.166672</td>\n",
       "      <td>17</td>\n",
       "      <td>237.830002</td>\n",
       "      <td>7737.569824</td>\n",
       "    </tr>\n",
       "    <tr>\n",
       "      <th>2193838</th>\n",
       "      <td>509.833344</td>\n",
       "      <td>50</td>\n",
       "      <td>2007.500000</td>\n",
       "      <td>7690.370117</td>\n",
       "    </tr>\n",
       "    <tr>\n",
       "      <th>741327</th>\n",
       "      <td>458.000000</td>\n",
       "      <td>60</td>\n",
       "      <td>4060.399902</td>\n",
       "      <td>7671.870117</td>\n",
       "    </tr>\n",
       "    <tr>\n",
       "      <th>1807247</th>\n",
       "      <td>204.833328</td>\n",
       "      <td>38</td>\n",
       "      <td>1965.619995</td>\n",
       "      <td>7605.549805</td>\n",
       "    </tr>\n",
       "    <tr>\n",
       "      <th>2141464</th>\n",
       "      <td>471.500000</td>\n",
       "      <td>17</td>\n",
       "      <td>956.830017</td>\n",
       "      <td>7594.979980</td>\n",
       "    </tr>\n",
       "    <tr>\n",
       "      <th>337800</th>\n",
       "      <td>417.333344</td>\n",
       "      <td>30</td>\n",
       "      <td>1921.699951</td>\n",
       "      <td>7546.049805</td>\n",
       "    </tr>\n",
       "    <tr>\n",
       "      <th>1951424</th>\n",
       "      <td>603.500000</td>\n",
       "      <td>49</td>\n",
       "      <td>2688.510010</td>\n",
       "      <td>7502.569824</td>\n",
       "    </tr>\n",
       "  </tbody>\n",
       "</table>\n",
       "</div>"
      ],
      "text/plain": [
       "         avg_online_minutes  pay_count    pay_price  prediction_pay_price\n",
       "916364           386.000000        105  7457.950195          32977.808594\n",
       "285403           479.500000         73  4665.270020          30780.560547\n",
       "1019562          532.333313         49  2231.510010          26598.929688\n",
       "2142344          124.166664          7   176.929993          25796.019531\n",
       "1292065          219.333328         23  1596.770020          24900.349609\n",
       "771084           607.666687         88  5708.120117          24726.509766\n",
       "1546845          149.000000        104  7429.959961          23489.560547\n",
       "519548           725.666687         43  2110.570068          22875.029297\n",
       "1423324          697.333313        102  6253.979980          20261.460938\n",
       "2161397          313.166656         37  1255.630005          18811.660156\n",
       "630227           548.666687         43  2223.570068          17697.880859\n",
       "357542           348.833344         38  1465.619995          17132.179688\n",
       "1460820          747.333313         57  1767.430054          16120.059570\n",
       "1799420          373.166656         37  1053.630005          15321.969727\n",
       "288571           367.833344         58  2677.419922          15080.339844\n",
       "872856           474.500000         42  2148.580078          14478.139648\n",
       "170139           937.500000         18   678.820007          14067.700195\n",
       "2230398          237.666672         11   476.890015          13765.410156\n",
       "1042345          453.833344         30  2086.699951          12704.309570\n",
       "478190           182.000000         27  1266.729980          12263.799805\n",
       "1938044          193.166672          3    51.970001          12253.049805\n",
       "1718477          554.166687         30  1376.699951          12115.929688\n",
       "1561800          401.833344         71  3008.290039          12115.759766\n",
       "1899898          515.000000         65  4288.350098          11931.330078\n",
       "810609           363.833344         82  5428.180176          11652.269531\n",
       "428443           307.000000         66  3709.340088          11125.219727\n",
       "1865874          341.500000         66  4473.339844          11012.440430\n",
       "278580           106.333336         16   598.840027          10847.540039\n",
       "692617           373.333344         39  1493.609985          10247.330078\n",
       "770092           328.833344         14   471.859985           9982.639648\n",
       "334333           669.666687         41  1908.589966           9735.320312\n",
       "1161403          368.833344          8    66.919998           9442.519531\n",
       "381              143.166672         13   406.869995           8982.780273\n",
       "2237575          427.166656         16   438.839996           8861.540039\n",
       "359018           390.666656         58  3191.419922           8764.150391\n",
       "1843824          357.833344         18   256.820007           8632.820312\n",
       "198569           177.166672         26   881.739990           8392.759766\n",
       "1993503          530.500000         27  2081.729980           8243.030273\n",
       "551932           429.333344         57  3246.429932           8155.569824\n",
       "1190418          462.000000         27  1211.729980           8076.549805\n",
       "126175           307.833344         22  1536.780029           8046.950195\n",
       "320836           723.000000         61  2639.389893           7863.740234\n",
       "827183           459.666656         56  2987.439941           7860.620117\n",
       "1611244          200.166672         17   237.830002           7737.569824\n",
       "2193838          509.833344         50  2007.500000           7690.370117\n",
       "741327           458.000000         60  4060.399902           7671.870117\n",
       "1807247          204.833328         38  1965.619995           7605.549805\n",
       "2141464          471.500000         17   956.830017           7594.979980\n",
       "337800           417.333344         30  1921.699951           7546.049805\n",
       "1951424          603.500000         49  2688.510010           7502.569824"
      ]
     },
     "execution_count": 39,
     "metadata": {},
     "output_type": "execute_result"
    }
   ],
   "source": [
    "data_train2.iloc[top50_ppp_index][['avg_online_minutes','pay_count','pay_price','prediction_pay_price']]"
   ]
  },
  {
   "cell_type": "code",
   "execution_count": 40,
   "metadata": {
    "ExecuteTime": {
     "end_time": "2018-08-14T01:55:23.979117Z",
     "start_time": "2018-08-14T01:55:23.843109Z"
    }
   },
   "outputs": [],
   "source": [
    "data_pp_df=data_train2[data_train2['pay_price']>0]"
   ]
  },
  {
   "cell_type": "code",
   "execution_count": 41,
   "metadata": {
    "ExecuteTime": {
     "end_time": "2018-08-14T01:55:24.068122Z",
     "start_time": "2018-08-14T01:55:23.981117Z"
    }
   },
   "outputs": [],
   "source": [
    "data_pp_df=data_train2[data_train2['prediction_pay_price']>0]"
   ]
  },
  {
   "cell_type": "code",
   "execution_count": 42,
   "metadata": {
    "ExecuteTime": {
     "end_time": "2018-08-14T01:55:24.155127Z",
     "start_time": "2018-08-14T01:55:24.069122Z"
    }
   },
   "outputs": [
    {
     "data": {
      "text/plain": [
       "count    45988.000000\n",
       "mean        26.607302\n",
       "std        157.483032\n",
       "min          0.000000\n",
       "25%          0.990000\n",
       "50%          1.980000\n",
       "75%         10.980000\n",
       "max       7457.950195\n",
       "Name: pay_price, dtype: float64"
      ]
     },
     "execution_count": 42,
     "metadata": {},
     "output_type": "execute_result"
    }
   ],
   "source": [
    "data_pp_df['pay_price'].describe() "
   ]
  },
  {
   "cell_type": "code",
   "execution_count": 43,
   "metadata": {
    "ExecuteTime": {
     "end_time": "2018-08-14T01:55:24.328137Z",
     "start_time": "2018-08-14T01:55:24.156127Z"
    }
   },
   "outputs": [
    {
     "data": {
      "text/plain": [
       "count    45988.000000\n",
       "mean        89.228508\n",
       "std        617.739014\n",
       "min          0.990000\n",
       "25%          0.990000\n",
       "50%          3.970000\n",
       "75%         20.980000\n",
       "max      32977.808594\n",
       "Name: prediction_pay_price, dtype: float64"
      ]
     },
     "execution_count": 43,
     "metadata": {},
     "output_type": "execute_result"
    }
   ],
   "source": [
    "data_pp_df['prediction_pay_price'].describe()"
   ]
  },
  {
   "cell_type": "code",
   "execution_count": null,
   "metadata": {},
   "outputs": [],
   "source": []
  }
 ],
 "metadata": {
  "kernelspec": {
   "display_name": "Python 3",
   "language": "python",
   "name": "python3"
  },
  "language_info": {
   "codemirror_mode": {
    "name": "ipython",
    "version": 3
   },
   "file_extension": ".py",
   "mimetype": "text/x-python",
   "name": "python",
   "nbconvert_exporter": "python",
   "pygments_lexer": "ipython3",
   "version": "3.6.3"
  }
 },
 "nbformat": 4,
 "nbformat_minor": 2
}
