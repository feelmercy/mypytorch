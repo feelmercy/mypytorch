{
 "cells": [
  {
   "cell_type": "code",
   "execution_count": 1,
   "metadata": {
    "ExecuteTime": {
     "end_time": "2018-09-13T03:18:51.642463Z",
     "start_time": "2018-09-13T03:18:50.479396Z"
    }
   },
   "outputs": [],
   "source": [
    "import numpy as np\n",
    "import pandas as pd\n",
    "from matplotlib import pyplot as plt\n",
    "import seaborn as sns\n",
    "from scipy.stats import norm ,skew"
   ]
  },
  {
   "cell_type": "code",
   "execution_count": 2,
   "metadata": {
    "ExecuteTime": {
     "end_time": "2018-09-13T03:19:17.228926Z",
     "start_time": "2018-09-13T03:18:51.643463Z"
    }
   },
   "outputs": [],
   "source": [
    "df_train=pd.read_csv('F:\\\\study\\\\ml\\\\DataSet\\\\Tap4fun\\\\tap_fun_train.csv')"
   ]
  },
  {
   "cell_type": "code",
   "execution_count": 3,
   "metadata": {
    "ExecuteTime": {
     "end_time": "2018-09-13T03:19:17.476941Z",
     "start_time": "2018-09-13T03:19:17.230927Z"
    }
   },
   "outputs": [
    {
     "name": "stdout",
     "output_type": "stream",
     "text": [
      "<class 'pandas.core.frame.DataFrame'>\n",
      "RangeIndex: 2288007 entries, 0 to 2288006\n",
      "Columns: 109 entries, user_id to prediction_pay_price\n",
      "dtypes: float64(13), int64(95), object(1)\n",
      "memory usage: 2.0 GB\n"
     ]
    }
   ],
   "source": [
    "df_train.info(memory_usage='deep')"
   ]
  },
  {
   "cell_type": "code",
   "execution_count": 4,
   "metadata": {
    "ExecuteTime": {
     "end_time": "2018-09-13T03:19:34.414909Z",
     "start_time": "2018-09-13T03:19:17.478941Z"
    }
   },
   "outputs": [],
   "source": [
    "c_int=df_train.select_dtypes(include=['int64']).apply(pd.to_numeric,downcast='unsigned')\n",
    "c_float=df_train.select_dtypes(include=['float']).apply(pd.to_numeric,downcast='float')\n"
   ]
  },
  {
   "cell_type": "code",
   "execution_count": 5,
   "metadata": {
    "ExecuteTime": {
     "end_time": "2018-09-13T03:19:34.777930Z",
     "start_time": "2018-09-13T03:19:34.416910Z"
    }
   },
   "outputs": [],
   "source": [
    "o_df=pd.concat([c_int,c_float],axis=1)"
   ]
  },
  {
   "cell_type": "code",
   "execution_count": 6,
   "metadata": {
    "ExecuteTime": {
     "end_time": "2018-09-13T03:19:34.783931Z",
     "start_time": "2018-09-13T03:19:34.779930Z"
    }
   },
   "outputs": [],
   "source": [
    "column_type=dict(o_df.dtypes.copy())"
   ]
  },
  {
   "cell_type": "code",
   "execution_count": 7,
   "metadata": {
    "ExecuteTime": {
     "end_time": "2018-09-13T03:19:34.896937Z",
     "start_time": "2018-09-13T03:19:34.784931Z"
    }
   },
   "outputs": [
    {
     "data": {
      "text/plain": [
       "108"
      ]
     },
     "execution_count": 7,
     "metadata": {},
     "output_type": "execute_result"
    }
   ],
   "source": [
    "len(column_type)"
   ]
  },
  {
   "cell_type": "code",
   "execution_count": 8,
   "metadata": {
    "ExecuteTime": {
     "end_time": "2018-09-13T03:19:35.234956Z",
     "start_time": "2018-09-13T03:19:34.897937Z"
    }
   },
   "outputs": [],
   "source": [
    "del o_df,c_int,c_float,df_train"
   ]
  },
  {
   "cell_type": "code",
   "execution_count": null,
   "metadata": {},
   "outputs": [],
   "source": []
  },
  {
   "cell_type": "code",
   "execution_count": 9,
   "metadata": {
    "ExecuteTime": {
     "end_time": "2018-09-13T03:20:12.012060Z",
     "start_time": "2018-09-13T03:19:35.235956Z"
    }
   },
   "outputs": [],
   "source": [
    "data_train=pd.read_csv('F:\\\\study\\\\ml\\\\DataSet\\\\Tap4fun\\\\tap_fun_train.csv',\n",
    "                      dtype=column_type,parse_dates=['register_time'],infer_datetime_format=True)"
   ]
  },
  {
   "cell_type": "code",
   "execution_count": 10,
   "metadata": {
    "ExecuteTime": {
     "end_time": "2018-09-13T03:20:12.295076Z",
     "start_time": "2018-09-13T03:20:12.014060Z"
    }
   },
   "outputs": [],
   "source": [
    "data_train.rename(columns={'treatment_acceleraion_add_value':'treatment_acceleration_add_value',\\\n",
    "                          'sr_rss_a_prod_levell':'sr_rss_a_prod_level'} ,inplace=True)"
   ]
  },
  {
   "cell_type": "code",
   "execution_count": 11,
   "metadata": {
    "ExecuteTime": {
     "end_time": "2018-09-13T03:20:12.442084Z",
     "start_time": "2018-09-13T03:20:12.297076Z"
    }
   },
   "outputs": [
    {
     "data": {
      "text/html": [
       "<div>\n",
       "<style scoped>\n",
       "    .dataframe tbody tr th:only-of-type {\n",
       "        vertical-align: middle;\n",
       "    }\n",
       "\n",
       "    .dataframe tbody tr th {\n",
       "        vertical-align: top;\n",
       "    }\n",
       "\n",
       "    .dataframe thead th {\n",
       "        text-align: right;\n",
       "    }\n",
       "</style>\n",
       "<table border=\"1\" class=\"dataframe\">\n",
       "  <thead>\n",
       "    <tr style=\"text-align: right;\">\n",
       "      <th></th>\n",
       "      <th>user_id</th>\n",
       "      <th>register_time</th>\n",
       "      <th>wood_add_value</th>\n",
       "      <th>wood_reduce_value</th>\n",
       "      <th>stone_add_value</th>\n",
       "      <th>stone_reduce_value</th>\n",
       "      <th>ivory_add_value</th>\n",
       "      <th>ivory_reduce_value</th>\n",
       "      <th>meat_add_value</th>\n",
       "      <th>meat_reduce_value</th>\n",
       "      <th>...</th>\n",
       "      <th>pvp_battle_count</th>\n",
       "      <th>pvp_lanch_count</th>\n",
       "      <th>pvp_win_count</th>\n",
       "      <th>pve_battle_count</th>\n",
       "      <th>pve_lanch_count</th>\n",
       "      <th>pve_win_count</th>\n",
       "      <th>avg_online_minutes</th>\n",
       "      <th>pay_price</th>\n",
       "      <th>pay_count</th>\n",
       "      <th>prediction_pay_price</th>\n",
       "    </tr>\n",
       "  </thead>\n",
       "  <tbody>\n",
       "    <tr>\n",
       "      <th>0</th>\n",
       "      <td>1</td>\n",
       "      <td>2018-02-02 19:47:15</td>\n",
       "      <td>20125.0</td>\n",
       "      <td>3700.0</td>\n",
       "      <td>0.0</td>\n",
       "      <td>0.0</td>\n",
       "      <td>0.0</td>\n",
       "      <td>0.0</td>\n",
       "      <td>16375.0</td>\n",
       "      <td>2000.0</td>\n",
       "      <td>...</td>\n",
       "      <td>0</td>\n",
       "      <td>0</td>\n",
       "      <td>0</td>\n",
       "      <td>0</td>\n",
       "      <td>0</td>\n",
       "      <td>0</td>\n",
       "      <td>0.333333</td>\n",
       "      <td>0.0</td>\n",
       "      <td>0</td>\n",
       "      <td>0.0</td>\n",
       "    </tr>\n",
       "    <tr>\n",
       "      <th>1</th>\n",
       "      <td>1593</td>\n",
       "      <td>2018-01-26 00:01:05</td>\n",
       "      <td>0.0</td>\n",
       "      <td>0.0</td>\n",
       "      <td>0.0</td>\n",
       "      <td>0.0</td>\n",
       "      <td>0.0</td>\n",
       "      <td>0.0</td>\n",
       "      <td>0.0</td>\n",
       "      <td>0.0</td>\n",
       "      <td>...</td>\n",
       "      <td>0</td>\n",
       "      <td>0</td>\n",
       "      <td>0</td>\n",
       "      <td>0</td>\n",
       "      <td>0</td>\n",
       "      <td>0</td>\n",
       "      <td>0.333333</td>\n",
       "      <td>0.0</td>\n",
       "      <td>0</td>\n",
       "      <td>0.0</td>\n",
       "    </tr>\n",
       "    <tr>\n",
       "      <th>2</th>\n",
       "      <td>1594</td>\n",
       "      <td>2018-01-26 00:01:58</td>\n",
       "      <td>0.0</td>\n",
       "      <td>0.0</td>\n",
       "      <td>0.0</td>\n",
       "      <td>0.0</td>\n",
       "      <td>0.0</td>\n",
       "      <td>0.0</td>\n",
       "      <td>0.0</td>\n",
       "      <td>0.0</td>\n",
       "      <td>...</td>\n",
       "      <td>0</td>\n",
       "      <td>0</td>\n",
       "      <td>0</td>\n",
       "      <td>0</td>\n",
       "      <td>0</td>\n",
       "      <td>0</td>\n",
       "      <td>1.166667</td>\n",
       "      <td>0.0</td>\n",
       "      <td>0</td>\n",
       "      <td>0.0</td>\n",
       "    </tr>\n",
       "    <tr>\n",
       "      <th>3</th>\n",
       "      <td>1595</td>\n",
       "      <td>2018-01-26 00:02:13</td>\n",
       "      <td>0.0</td>\n",
       "      <td>0.0</td>\n",
       "      <td>0.0</td>\n",
       "      <td>0.0</td>\n",
       "      <td>0.0</td>\n",
       "      <td>0.0</td>\n",
       "      <td>0.0</td>\n",
       "      <td>0.0</td>\n",
       "      <td>...</td>\n",
       "      <td>0</td>\n",
       "      <td>0</td>\n",
       "      <td>0</td>\n",
       "      <td>0</td>\n",
       "      <td>0</td>\n",
       "      <td>0</td>\n",
       "      <td>3.166667</td>\n",
       "      <td>0.0</td>\n",
       "      <td>0</td>\n",
       "      <td>0.0</td>\n",
       "    </tr>\n",
       "    <tr>\n",
       "      <th>4</th>\n",
       "      <td>1596</td>\n",
       "      <td>2018-01-26 00:02:46</td>\n",
       "      <td>0.0</td>\n",
       "      <td>0.0</td>\n",
       "      <td>0.0</td>\n",
       "      <td>0.0</td>\n",
       "      <td>0.0</td>\n",
       "      <td>0.0</td>\n",
       "      <td>0.0</td>\n",
       "      <td>0.0</td>\n",
       "      <td>...</td>\n",
       "      <td>0</td>\n",
       "      <td>0</td>\n",
       "      <td>0</td>\n",
       "      <td>0</td>\n",
       "      <td>0</td>\n",
       "      <td>0</td>\n",
       "      <td>2.333333</td>\n",
       "      <td>0.0</td>\n",
       "      <td>0</td>\n",
       "      <td>0.0</td>\n",
       "    </tr>\n",
       "  </tbody>\n",
       "</table>\n",
       "<p>5 rows × 109 columns</p>\n",
       "</div>"
      ],
      "text/plain": [
       "   user_id       register_time  wood_add_value  wood_reduce_value  \\\n",
       "0        1 2018-02-02 19:47:15         20125.0             3700.0   \n",
       "1     1593 2018-01-26 00:01:05             0.0                0.0   \n",
       "2     1594 2018-01-26 00:01:58             0.0                0.0   \n",
       "3     1595 2018-01-26 00:02:13             0.0                0.0   \n",
       "4     1596 2018-01-26 00:02:46             0.0                0.0   \n",
       "\n",
       "   stone_add_value  stone_reduce_value  ivory_add_value  ivory_reduce_value  \\\n",
       "0              0.0                 0.0              0.0                 0.0   \n",
       "1              0.0                 0.0              0.0                 0.0   \n",
       "2              0.0                 0.0              0.0                 0.0   \n",
       "3              0.0                 0.0              0.0                 0.0   \n",
       "4              0.0                 0.0              0.0                 0.0   \n",
       "\n",
       "   meat_add_value  meat_reduce_value          ...           pvp_battle_count  \\\n",
       "0         16375.0             2000.0          ...                          0   \n",
       "1             0.0                0.0          ...                          0   \n",
       "2             0.0                0.0          ...                          0   \n",
       "3             0.0                0.0          ...                          0   \n",
       "4             0.0                0.0          ...                          0   \n",
       "\n",
       "   pvp_lanch_count  pvp_win_count  pve_battle_count  pve_lanch_count  \\\n",
       "0                0              0                 0                0   \n",
       "1                0              0                 0                0   \n",
       "2                0              0                 0                0   \n",
       "3                0              0                 0                0   \n",
       "4                0              0                 0                0   \n",
       "\n",
       "   pve_win_count  avg_online_minutes  pay_price  pay_count  \\\n",
       "0              0            0.333333        0.0          0   \n",
       "1              0            0.333333        0.0          0   \n",
       "2              0            1.166667        0.0          0   \n",
       "3              0            3.166667        0.0          0   \n",
       "4              0            2.333333        0.0          0   \n",
       "\n",
       "   prediction_pay_price  \n",
       "0                   0.0  \n",
       "1                   0.0  \n",
       "2                   0.0  \n",
       "3                   0.0  \n",
       "4                   0.0  \n",
       "\n",
       "[5 rows x 109 columns]"
      ]
     },
     "execution_count": 11,
     "metadata": {},
     "output_type": "execute_result"
    }
   ],
   "source": [
    "data_train.head()"
   ]
  },
  {
   "cell_type": "code",
   "execution_count": 12,
   "metadata": {
    "ExecuteTime": {
     "end_time": "2018-09-13T03:20:12.451085Z",
     "start_time": "2018-09-13T03:20:12.443085Z"
    }
   },
   "outputs": [
    {
     "name": "stdout",
     "output_type": "stream",
     "text": [
      "<class 'pandas.core.frame.DataFrame'>\n",
      "RangeIndex: 2288007 entries, 0 to 2288006\n",
      "Columns: 109 entries, user_id to prediction_pay_price\n",
      "dtypes: datetime64[ns](1), float32(13), uint16(8), uint32(21), uint8(66)\n",
      "memory usage: 493.1 MB\n"
     ]
    }
   ],
   "source": [
    "data_train.info(memory_usage='deep')"
   ]
  },
  {
   "cell_type": "code",
   "execution_count": 13,
   "metadata": {
    "ExecuteTime": {
     "end_time": "2018-09-13T03:20:12.960114Z",
     "start_time": "2018-09-13T03:20:12.452085Z"
    }
   },
   "outputs": [],
   "source": [
    "# data_label=data_train['prediction_pay_price']\n",
    "data_train2=data_train.drop(labels=['user_id','register_time'],axis=1)"
   ]
  },
  {
   "cell_type": "code",
   "execution_count": 14,
   "metadata": {
    "ExecuteTime": {
     "end_time": "2018-09-13T03:20:13.016117Z",
     "start_time": "2018-09-13T03:20:12.961114Z"
    }
   },
   "outputs": [],
   "source": [
    "data_7pay=data_train2[data_train2['pay_price']>0].copy()\n"
   ]
  },
  {
   "cell_type": "code",
   "execution_count": 15,
   "metadata": {
    "ExecuteTime": {
     "end_time": "2018-09-13T03:20:13.067120Z",
     "start_time": "2018-09-13T03:20:13.018117Z"
    }
   },
   "outputs": [
    {
     "data": {
      "text/html": [
       "<div>\n",
       "<style scoped>\n",
       "    .dataframe tbody tr th:only-of-type {\n",
       "        vertical-align: middle;\n",
       "    }\n",
       "\n",
       "    .dataframe tbody tr th {\n",
       "        vertical-align: top;\n",
       "    }\n",
       "\n",
       "    .dataframe thead th {\n",
       "        text-align: right;\n",
       "    }\n",
       "</style>\n",
       "<table border=\"1\" class=\"dataframe\">\n",
       "  <thead>\n",
       "    <tr style=\"text-align: right;\">\n",
       "      <th></th>\n",
       "      <th>wood_add_value</th>\n",
       "      <th>wood_reduce_value</th>\n",
       "      <th>stone_add_value</th>\n",
       "      <th>stone_reduce_value</th>\n",
       "      <th>ivory_add_value</th>\n",
       "      <th>ivory_reduce_value</th>\n",
       "      <th>meat_add_value</th>\n",
       "      <th>meat_reduce_value</th>\n",
       "      <th>magic_add_value</th>\n",
       "      <th>magic_reduce_value</th>\n",
       "      <th>...</th>\n",
       "      <th>pvp_battle_count</th>\n",
       "      <th>pvp_lanch_count</th>\n",
       "      <th>pvp_win_count</th>\n",
       "      <th>pve_battle_count</th>\n",
       "      <th>pve_lanch_count</th>\n",
       "      <th>pve_win_count</th>\n",
       "      <th>avg_online_minutes</th>\n",
       "      <th>pay_price</th>\n",
       "      <th>pay_count</th>\n",
       "      <th>prediction_pay_price</th>\n",
       "    </tr>\n",
       "  </thead>\n",
       "  <tbody>\n",
       "    <tr>\n",
       "      <th>25</th>\n",
       "      <td>30000.0</td>\n",
       "      <td>97200.0</td>\n",
       "      <td>20000.0</td>\n",
       "      <td>0.0</td>\n",
       "      <td>0.0</td>\n",
       "      <td>0.0</td>\n",
       "      <td>160500.0</td>\n",
       "      <td>80392.0</td>\n",
       "      <td>12000.0</td>\n",
       "      <td>0.0</td>\n",
       "      <td>...</td>\n",
       "      <td>0</td>\n",
       "      <td>0</td>\n",
       "      <td>0</td>\n",
       "      <td>0</td>\n",
       "      <td>0</td>\n",
       "      <td>0</td>\n",
       "      <td>44.666668</td>\n",
       "      <td>0.99</td>\n",
       "      <td>1</td>\n",
       "      <td>0.99</td>\n",
       "    </tr>\n",
       "    <tr>\n",
       "      <th>40</th>\n",
       "      <td>1111744.0</td>\n",
       "      <td>1137687.0</td>\n",
       "      <td>491331.0</td>\n",
       "      <td>790208.0</td>\n",
       "      <td>77000.0</td>\n",
       "      <td>0.0</td>\n",
       "      <td>1457249.0</td>\n",
       "      <td>708483.0</td>\n",
       "      <td>217455.0</td>\n",
       "      <td>162987.0</td>\n",
       "      <td>...</td>\n",
       "      <td>1</td>\n",
       "      <td>1</td>\n",
       "      <td>1</td>\n",
       "      <td>6</td>\n",
       "      <td>6</td>\n",
       "      <td>6</td>\n",
       "      <td>199.333328</td>\n",
       "      <td>2.97</td>\n",
       "      <td>3</td>\n",
       "      <td>4.96</td>\n",
       "    </tr>\n",
       "    <tr>\n",
       "      <th>47</th>\n",
       "      <td>249050.0</td>\n",
       "      <td>173248.0</td>\n",
       "      <td>70841.0</td>\n",
       "      <td>117012.0</td>\n",
       "      <td>55000.0</td>\n",
       "      <td>0.0</td>\n",
       "      <td>206366.0</td>\n",
       "      <td>82205.0</td>\n",
       "      <td>29902.0</td>\n",
       "      <td>88064.0</td>\n",
       "      <td>...</td>\n",
       "      <td>0</td>\n",
       "      <td>0</td>\n",
       "      <td>0</td>\n",
       "      <td>0</td>\n",
       "      <td>0</td>\n",
       "      <td>0</td>\n",
       "      <td>109.333336</td>\n",
       "      <td>12.97</td>\n",
       "      <td>3</td>\n",
       "      <td>12.97</td>\n",
       "    </tr>\n",
       "    <tr>\n",
       "      <th>86</th>\n",
       "      <td>0.0</td>\n",
       "      <td>0.0</td>\n",
       "      <td>0.0</td>\n",
       "      <td>0.0</td>\n",
       "      <td>0.0</td>\n",
       "      <td>0.0</td>\n",
       "      <td>0.0</td>\n",
       "      <td>0.0</td>\n",
       "      <td>0.0</td>\n",
       "      <td>0.0</td>\n",
       "      <td>...</td>\n",
       "      <td>0</td>\n",
       "      <td>0</td>\n",
       "      <td>0</td>\n",
       "      <td>0</td>\n",
       "      <td>0</td>\n",
       "      <td>0</td>\n",
       "      <td>127.833336</td>\n",
       "      <td>0.99</td>\n",
       "      <td>1</td>\n",
       "      <td>0.99</td>\n",
       "    </tr>\n",
       "    <tr>\n",
       "      <th>119</th>\n",
       "      <td>0.0</td>\n",
       "      <td>0.0</td>\n",
       "      <td>0.0</td>\n",
       "      <td>0.0</td>\n",
       "      <td>0.0</td>\n",
       "      <td>0.0</td>\n",
       "      <td>0.0</td>\n",
       "      <td>0.0</td>\n",
       "      <td>0.0</td>\n",
       "      <td>0.0</td>\n",
       "      <td>...</td>\n",
       "      <td>0</td>\n",
       "      <td>0</td>\n",
       "      <td>0</td>\n",
       "      <td>0</td>\n",
       "      <td>0</td>\n",
       "      <td>0</td>\n",
       "      <td>203.166672</td>\n",
       "      <td>0.99</td>\n",
       "      <td>1</td>\n",
       "      <td>0.99</td>\n",
       "    </tr>\n",
       "  </tbody>\n",
       "</table>\n",
       "<p>5 rows × 107 columns</p>\n",
       "</div>"
      ],
      "text/plain": [
       "     wood_add_value  wood_reduce_value  stone_add_value  stone_reduce_value  \\\n",
       "25          30000.0            97200.0          20000.0                 0.0   \n",
       "40        1111744.0          1137687.0         491331.0            790208.0   \n",
       "47         249050.0           173248.0          70841.0            117012.0   \n",
       "86              0.0                0.0              0.0                 0.0   \n",
       "119             0.0                0.0              0.0                 0.0   \n",
       "\n",
       "     ivory_add_value  ivory_reduce_value  meat_add_value  meat_reduce_value  \\\n",
       "25               0.0                 0.0        160500.0            80392.0   \n",
       "40           77000.0                 0.0       1457249.0           708483.0   \n",
       "47           55000.0                 0.0        206366.0            82205.0   \n",
       "86               0.0                 0.0             0.0                0.0   \n",
       "119              0.0                 0.0             0.0                0.0   \n",
       "\n",
       "     magic_add_value  magic_reduce_value          ...           \\\n",
       "25           12000.0                 0.0          ...            \n",
       "40          217455.0            162987.0          ...            \n",
       "47           29902.0             88064.0          ...            \n",
       "86               0.0                 0.0          ...            \n",
       "119              0.0                 0.0          ...            \n",
       "\n",
       "     pvp_battle_count  pvp_lanch_count  pvp_win_count  pve_battle_count  \\\n",
       "25                  0                0              0                 0   \n",
       "40                  1                1              1                 6   \n",
       "47                  0                0              0                 0   \n",
       "86                  0                0              0                 0   \n",
       "119                 0                0              0                 0   \n",
       "\n",
       "     pve_lanch_count  pve_win_count  avg_online_minutes  pay_price  pay_count  \\\n",
       "25                 0              0           44.666668       0.99          1   \n",
       "40                 6              6          199.333328       2.97          3   \n",
       "47                 0              0          109.333336      12.97          3   \n",
       "86                 0              0          127.833336       0.99          1   \n",
       "119                0              0          203.166672       0.99          1   \n",
       "\n",
       "     prediction_pay_price  \n",
       "25                   0.99  \n",
       "40                   4.96  \n",
       "47                  12.97  \n",
       "86                   0.99  \n",
       "119                  0.99  \n",
       "\n",
       "[5 rows x 107 columns]"
      ]
     },
     "execution_count": 15,
     "metadata": {},
     "output_type": "execute_result"
    }
   ],
   "source": [
    "data_7pay.head()"
   ]
  },
  {
   "cell_type": "code",
   "execution_count": 16,
   "metadata": {
    "ExecuteTime": {
     "end_time": "2018-09-13T03:20:13.192127Z",
     "start_time": "2018-09-13T03:20:13.068120Z"
    }
   },
   "outputs": [],
   "source": [
    "#######################################"
   ]
  },
  {
   "cell_type": "code",
   "execution_count": 18,
   "metadata": {
    "ExecuteTime": {
     "end_time": "2018-09-13T03:21:15.236676Z",
     "start_time": "2018-09-13T03:21:15.234676Z"
    }
   },
   "outputs": [],
   "source": [
    "# plt.scatter(data_7pay.pay_price,data_7pay.prediction_pay_price)\n",
    "# plt.show()"
   ]
  },
  {
   "cell_type": "code",
   "execution_count": 29,
   "metadata": {
    "ExecuteTime": {
     "end_time": "2018-09-13T05:28:39.090880Z",
     "start_time": "2018-09-13T05:28:38.774862Z"
    }
   },
   "outputs": [
    {
     "data": {
      "image/png": "[encoded data removed]",
      "text/plain": [
       "<matplotlib.figure.Figure at 0x2d93eef0>"
      ]
     },
     "metadata": {},
     "output_type": "display_data"
    }
   ],
   "source": [
    "# plt.subplot(1,2,1)\n",
    "# sns.distplot(data_7pay.prediction_pay_price,kde=False,fit=norm)\n",
    "\n",
    "# plt.subplot(122)\n",
    "# sns.distplot(np.log(data_7pay.prediction_pay_price),kde=False,fit=norm)\n",
    "# plt.show()"
   ]
  },
  {
   "cell_type": "code",
   "execution_count": 25,
   "metadata": {
    "ExecuteTime": {
     "end_time": "2018-09-13T03:25:09.551078Z",
     "start_time": "2018-09-13T03:25:09.547078Z"
    }
   },
   "outputs": [
    {
     "data": {
      "text/plain": [
       "22.5540828704834"
      ]
     },
     "execution_count": 25,
     "metadata": {},
     "output_type": "execute_result"
    }
   ],
   "source": [
    "skew(data_7pay.prediction_pay_price)"
   ]
  },
  {
   "cell_type": "code",
   "execution_count": 26,
   "metadata": {
    "ExecuteTime": {
     "end_time": "2018-09-13T03:25:26.959074Z",
     "start_time": "2018-09-13T03:25:26.954074Z"
    }
   },
   "outputs": [
    {
     "data": {
      "text/plain": [
       "0.9934835433959961"
      ]
     },
     "execution_count": 26,
     "metadata": {},
     "output_type": "execute_result"
    }
   ],
   "source": [
    "skew(np.log(data_7pay.prediction_pay_price))"
   ]
  },
  {
   "cell_type": "code",
   "execution_count": 32,
   "metadata": {
    "ExecuteTime": {
     "end_time": "2018-09-13T06:04:04.394440Z",
     "start_time": "2018-09-13T06:04:04.383439Z"
    }
   },
   "outputs": [],
   "source": [
    "data_7pay['prediction_pay_price']=np.log(data_7pay.prediction_pay_price)"
   ]
  },
  {
   "cell_type": "code",
   "execution_count": 36,
   "metadata": {
    "ExecuteTime": {
     "end_time": "2018-09-13T06:05:23.538967Z",
     "start_time": "2018-09-13T06:05:23.453962Z"
    }
   },
   "outputs": [
    {
     "data": {
      "text/html": [
       "<div>\n",
       "<style scoped>\n",
       "    .dataframe tbody tr th:only-of-type {\n",
       "        vertical-align: middle;\n",
       "    }\n",
       "\n",
       "    .dataframe tbody tr th {\n",
       "        vertical-align: top;\n",
       "    }\n",
       "\n",
       "    .dataframe thead th {\n",
       "        text-align: right;\n",
       "    }\n",
       "</style>\n",
       "<table border=\"1\" class=\"dataframe\">\n",
       "  <thead>\n",
       "    <tr style=\"text-align: right;\">\n",
       "      <th></th>\n",
       "      <th>skew</th>\n",
       "    </tr>\n",
       "  </thead>\n",
       "  <tbody>\n",
       "    <tr>\n",
       "      <th>wound_shaman_reduce_value</th>\n",
       "      <td>197.754952</td>\n",
       "    </tr>\n",
       "    <tr>\n",
       "      <th>wound_shaman_add_value</th>\n",
       "      <td>197.507779</td>\n",
       "    </tr>\n",
       "    <tr>\n",
       "      <th>shaman_reduce_value</th>\n",
       "      <td>193.928541</td>\n",
       "    </tr>\n",
       "    <tr>\n",
       "      <th>shaman_add_value</th>\n",
       "      <td>191.781153</td>\n",
       "    </tr>\n",
       "    <tr>\n",
       "      <th>treatment_acceleration_reduce_value</th>\n",
       "      <td>82.613300</td>\n",
       "    </tr>\n",
       "    <tr>\n",
       "      <th>wound_infantry_reduce_value</th>\n",
       "      <td>42.553938</td>\n",
       "    </tr>\n",
       "    <tr>\n",
       "      <th>wound_infantry_add_value</th>\n",
       "      <td>41.544290</td>\n",
       "    </tr>\n",
       "    <tr>\n",
       "      <th>infantry_reduce_value</th>\n",
       "      <td>33.677766</td>\n",
       "    </tr>\n",
       "    <tr>\n",
       "      <th>infantry_add_value</th>\n",
       "      <td>27.239244</td>\n",
       "    </tr>\n",
       "    <tr>\n",
       "      <th>magic_reduce_value</th>\n",
       "      <td>20.598588</td>\n",
       "    </tr>\n",
       "    <tr>\n",
       "      <th>pay_price</th>\n",
       "      <td>19.140564</td>\n",
       "    </tr>\n",
       "    <tr>\n",
       "      <th>magic_add_value</th>\n",
       "      <td>18.934228</td>\n",
       "    </tr>\n",
       "    <tr>\n",
       "      <th>meat_add_value</th>\n",
       "      <td>16.847139</td>\n",
       "    </tr>\n",
       "    <tr>\n",
       "      <th>stone_add_value</th>\n",
       "      <td>15.954202</td>\n",
       "    </tr>\n",
       "    <tr>\n",
       "      <th>ivory_add_value</th>\n",
       "      <td>15.678766</td>\n",
       "    </tr>\n",
       "    <tr>\n",
       "      <th>ivory_reduce_value</th>\n",
       "      <td>15.342989</td>\n",
       "    </tr>\n",
       "    <tr>\n",
       "      <th>wound_cavalry_reduce_value</th>\n",
       "      <td>15.241886</td>\n",
       "    </tr>\n",
       "    <tr>\n",
       "      <th>wood_add_value</th>\n",
       "      <td>15.219761</td>\n",
       "    </tr>\n",
       "    <tr>\n",
       "      <th>training_acceleration_reduce_value</th>\n",
       "      <td>14.894417</td>\n",
       "    </tr>\n",
       "    <tr>\n",
       "      <th>meat_reduce_value</th>\n",
       "      <td>14.842929</td>\n",
       "    </tr>\n",
       "    <tr>\n",
       "      <th>training_acceleration_add_value</th>\n",
       "      <td>14.832231</td>\n",
       "    </tr>\n",
       "    <tr>\n",
       "      <th>stone_reduce_value</th>\n",
       "      <td>14.812374</td>\n",
       "    </tr>\n",
       "    <tr>\n",
       "      <th>wound_cavalry_add_value</th>\n",
       "      <td>14.461476</td>\n",
       "    </tr>\n",
       "    <tr>\n",
       "      <th>wood_reduce_value</th>\n",
       "      <td>13.616177</td>\n",
       "    </tr>\n",
       "    <tr>\n",
       "      <th>reaserch_acceleration_reduce_value</th>\n",
       "      <td>12.928964</td>\n",
       "    </tr>\n",
       "    <tr>\n",
       "      <th>building_acceleration_add_value</th>\n",
       "      <td>12.769947</td>\n",
       "    </tr>\n",
       "    <tr>\n",
       "      <th>reaserch_acceleration_add_value</th>\n",
       "      <td>12.265419</td>\n",
       "    </tr>\n",
       "    <tr>\n",
       "      <th>treatment_acceleration_add_value</th>\n",
       "      <td>11.887907</td>\n",
       "    </tr>\n",
       "    <tr>\n",
       "      <th>building_acceleration_reduce_value</th>\n",
       "      <td>11.759994</td>\n",
       "    </tr>\n",
       "    <tr>\n",
       "      <th>general_acceleration_add_value</th>\n",
       "      <td>11.744568</td>\n",
       "    </tr>\n",
       "    <tr>\n",
       "      <th>general_acceleration_reduce_value</th>\n",
       "      <td>11.658015</td>\n",
       "    </tr>\n",
       "    <tr>\n",
       "      <th>cavalry_add_value</th>\n",
       "      <td>10.179041</td>\n",
       "    </tr>\n",
       "    <tr>\n",
       "      <th>cavalry_reduce_value</th>\n",
       "      <td>9.944401</td>\n",
       "    </tr>\n",
       "    <tr>\n",
       "      <th>pvp_lanch_count</th>\n",
       "      <td>8.656869</td>\n",
       "    </tr>\n",
       "    <tr>\n",
       "      <th>pvp_win_count</th>\n",
       "      <td>7.849762</td>\n",
       "    </tr>\n",
       "    <tr>\n",
       "      <th>pvp_battle_count</th>\n",
       "      <td>7.039954</td>\n",
       "    </tr>\n",
       "    <tr>\n",
       "      <th>avg_online_minutes</th>\n",
       "      <td>1.969081</td>\n",
       "    </tr>\n",
       "    <tr>\n",
       "      <th>pve_win_count</th>\n",
       "      <td>1.583422</td>\n",
       "    </tr>\n",
       "    <tr>\n",
       "      <th>pve_battle_count</th>\n",
       "      <td>1.528469</td>\n",
       "    </tr>\n",
       "    <tr>\n",
       "      <th>pve_lanch_count</th>\n",
       "      <td>1.525276</td>\n",
       "    </tr>\n",
       "    <tr>\n",
       "      <th>prediction_pay_price</th>\n",
       "      <td>0.993484</td>\n",
       "    </tr>\n",
       "  </tbody>\n",
       "</table>\n",
       "</div>"
      ],
      "text/plain": [
       "                                           skew\n",
       "wound_shaman_reduce_value            197.754952\n",
       "wound_shaman_add_value               197.507779\n",
       "shaman_reduce_value                  193.928541\n",
       "shaman_add_value                     191.781153\n",
       "treatment_acceleration_reduce_value   82.613300\n",
       "wound_infantry_reduce_value           42.553938\n",
       "wound_infantry_add_value              41.544290\n",
       "infantry_reduce_value                 33.677766\n",
       "infantry_add_value                    27.239244\n",
       "magic_reduce_value                    20.598588\n",
       "pay_price                             19.140564\n",
       "magic_add_value                       18.934228\n",
       "meat_add_value                        16.847139\n",
       "stone_add_value                       15.954202\n",
       "ivory_add_value                       15.678766\n",
       "ivory_reduce_value                    15.342989\n",
       "wound_cavalry_reduce_value            15.241886\n",
       "wood_add_value                        15.219761\n",
       "training_acceleration_reduce_value    14.894417\n",
       "meat_reduce_value                     14.842929\n",
       "training_acceleration_add_value       14.832231\n",
       "stone_reduce_value                    14.812374\n",
       "wound_cavalry_add_value               14.461476\n",
       "wood_reduce_value                     13.616177\n",
       "reaserch_acceleration_reduce_value    12.928964\n",
       "building_acceleration_add_value       12.769947\n",
       "reaserch_acceleration_add_value       12.265419\n",
       "treatment_acceleration_add_value      11.887907\n",
       "building_acceleration_reduce_value    11.759994\n",
       "general_acceleration_add_value        11.744568\n",
       "general_acceleration_reduce_value     11.658015\n",
       "cavalry_add_value                     10.179041\n",
       "cavalry_reduce_value                   9.944401\n",
       "pvp_lanch_count                        8.656869\n",
       "pvp_win_count                          7.849762\n",
       "pvp_battle_count                       7.039954\n",
       "avg_online_minutes                     1.969081\n",
       "pve_win_count                          1.583422\n",
       "pve_battle_count                       1.528469\n",
       "pve_lanch_count                        1.525276\n",
       "prediction_pay_price                   0.993484"
      ]
     },
     "execution_count": 36,
     "metadata": {},
     "output_type": "execute_result"
    }
   ],
   "source": [
    "numeric_dtypes=['uint16','uint32','uint64','float16','float32','float64']\n",
    "numeric2=[]\n",
    "for i in data_7pay.columns:\n",
    "    if data_7pay[i].dtype in numeric_dtypes:\n",
    "        numeric2.append(i)\n",
    "skew_data_7pay=data_7pay[numeric2].apply(lambda x:skew(x)).sort_values(ascending=False)\n",
    "skews=pd.DataFrame({'skew':skew_data_7pay})\n",
    "skews"
   ]
  },
  {
   "cell_type": "code",
   "execution_count": 35,
   "metadata": {
    "ExecuteTime": {
     "end_time": "2018-09-13T06:05:04.605884Z",
     "start_time": "2018-09-13T06:05:04.589883Z"
    }
   },
   "outputs": [
    {
     "name": "stdout",
     "output_type": "stream",
     "text": [
      "<class 'pandas.core.frame.DataFrame'>\n",
      "Int64Index: 41439 entries, 25 to 2287984\n",
      "Columns: 107 entries, wood_add_value to prediction_pay_price\n",
      "dtypes: float32(13), uint16(8), uint32(20), uint8(66)\n",
      "memory usage: 8.8 MB\n"
     ]
    }
   ],
   "source": [
    "data_7pay.info(memory_usage='deep')"
   ]
  },
  {
   "cell_type": "code",
   "execution_count": 37,
   "metadata": {
    "ExecuteTime": {
     "end_time": "2018-09-13T06:06:48.931851Z",
     "start_time": "2018-09-13T06:06:48.923851Z"
    }
   },
   "outputs": [],
   "source": [
    "from scipy.special import boxcox1p\n",
    "from scipy.stats import boxcox_normmax"
   ]
  },
  {
   "cell_type": "code",
   "execution_count": 38,
   "metadata": {
    "ExecuteTime": {
     "end_time": "2018-09-13T06:13:21.314294Z",
     "start_time": "2018-09-13T06:13:17.181058Z"
    }
   },
   "outputs": [
    {
     "name": "stderr",
     "output_type": "stream",
     "text": [
      "D:\\ProgramData\\Anaconda3\\lib\\site-packages\\scipy\\stats\\stats.py:5616: RuntimeWarning: overflow encountered in multiply\n",
      "  return np.sum(a*a, axis)\n"
     ]
    },
    {
     "data": {
      "text/html": [
       "<div>\n",
       "<style scoped>\n",
       "    .dataframe tbody tr th:only-of-type {\n",
       "        vertical-align: middle;\n",
       "    }\n",
       "\n",
       "    .dataframe tbody tr th {\n",
       "        vertical-align: top;\n",
       "    }\n",
       "\n",
       "    .dataframe thead th {\n",
       "        text-align: right;\n",
       "    }\n",
       "</style>\n",
       "<table border=\"1\" class=\"dataframe\">\n",
       "  <thead>\n",
       "    <tr style=\"text-align: right;\">\n",
       "      <th></th>\n",
       "      <th>skew</th>\n",
       "    </tr>\n",
       "  </thead>\n",
       "  <tbody>\n",
       "    <tr>\n",
       "      <th>treatment_acceleration_reduce_value</th>\n",
       "      <td>2.172012</td>\n",
       "    </tr>\n",
       "    <tr>\n",
       "      <th>ivory_reduce_value</th>\n",
       "      <td>1.172246</td>\n",
       "    </tr>\n",
       "    <tr>\n",
       "      <th>wound_shaman_reduce_value</th>\n",
       "      <td>0.607809</td>\n",
       "    </tr>\n",
       "    <tr>\n",
       "      <th>pay_price</th>\n",
       "      <td>0.570826</td>\n",
       "    </tr>\n",
       "    <tr>\n",
       "      <th>wound_cavalry_reduce_value</th>\n",
       "      <td>0.570744</td>\n",
       "    </tr>\n",
       "    <tr>\n",
       "      <th>wound_infantry_reduce_value</th>\n",
       "      <td>0.567173</td>\n",
       "    </tr>\n",
       "    <tr>\n",
       "      <th>pvp_lanch_count</th>\n",
       "      <td>0.471087</td>\n",
       "    </tr>\n",
       "    <tr>\n",
       "      <th>prediction_pay_price</th>\n",
       "      <td>0.412236</td>\n",
       "    </tr>\n",
       "    <tr>\n",
       "      <th>stone_reduce_value</th>\n",
       "      <td>0.400475</td>\n",
       "    </tr>\n",
       "    <tr>\n",
       "      <th>training_acceleration_reduce_value</th>\n",
       "      <td>0.383776</td>\n",
       "    </tr>\n",
       "    <tr>\n",
       "      <th>pvp_win_count</th>\n",
       "      <td>0.373402</td>\n",
       "    </tr>\n",
       "    <tr>\n",
       "      <th>shaman_add_value</th>\n",
       "      <td>0.363492</td>\n",
       "    </tr>\n",
       "    <tr>\n",
       "      <th>wound_shaman_add_value</th>\n",
       "      <td>0.336090</td>\n",
       "    </tr>\n",
       "    <tr>\n",
       "      <th>cavalry_add_value</th>\n",
       "      <td>0.327935</td>\n",
       "    </tr>\n",
       "    <tr>\n",
       "      <th>infantry_add_value</th>\n",
       "      <td>0.317689</td>\n",
       "    </tr>\n",
       "    <tr>\n",
       "      <th>wood_add_value</th>\n",
       "      <td>0.313835</td>\n",
       "    </tr>\n",
       "    <tr>\n",
       "      <th>wound_infantry_add_value</th>\n",
       "      <td>0.293478</td>\n",
       "    </tr>\n",
       "    <tr>\n",
       "      <th>wound_cavalry_add_value</th>\n",
       "      <td>0.284366</td>\n",
       "    </tr>\n",
       "    <tr>\n",
       "      <th>stone_add_value</th>\n",
       "      <td>0.276174</td>\n",
       "    </tr>\n",
       "    <tr>\n",
       "      <th>meat_add_value</th>\n",
       "      <td>0.267861</td>\n",
       "    </tr>\n",
       "    <tr>\n",
       "      <th>ivory_add_value</th>\n",
       "      <td>0.254907</td>\n",
       "    </tr>\n",
       "    <tr>\n",
       "      <th>general_acceleration_reduce_value</th>\n",
       "      <td>0.217145</td>\n",
       "    </tr>\n",
       "    <tr>\n",
       "      <th>shaman_reduce_value</th>\n",
       "      <td>0.208027</td>\n",
       "    </tr>\n",
       "    <tr>\n",
       "      <th>treatment_acceleration_add_value</th>\n",
       "      <td>0.199189</td>\n",
       "    </tr>\n",
       "    <tr>\n",
       "      <th>reaserch_acceleration_reduce_value</th>\n",
       "      <td>0.179663</td>\n",
       "    </tr>\n",
       "    <tr>\n",
       "      <th>infantry_reduce_value</th>\n",
       "      <td>0.166906</td>\n",
       "    </tr>\n",
       "    <tr>\n",
       "      <th>cavalry_reduce_value</th>\n",
       "      <td>0.157462</td>\n",
       "    </tr>\n",
       "    <tr>\n",
       "      <th>building_acceleration_reduce_value</th>\n",
       "      <td>0.149166</td>\n",
       "    </tr>\n",
       "    <tr>\n",
       "      <th>pvp_battle_count</th>\n",
       "      <td>0.147055</td>\n",
       "    </tr>\n",
       "    <tr>\n",
       "      <th>magic_reduce_value</th>\n",
       "      <td>0.145848</td>\n",
       "    </tr>\n",
       "    <tr>\n",
       "      <th>general_acceleration_add_value</th>\n",
       "      <td>0.136133</td>\n",
       "    </tr>\n",
       "    <tr>\n",
       "      <th>training_acceleration_add_value</th>\n",
       "      <td>0.131508</td>\n",
       "    </tr>\n",
       "    <tr>\n",
       "      <th>building_acceleration_add_value</th>\n",
       "      <td>0.120398</td>\n",
       "    </tr>\n",
       "    <tr>\n",
       "      <th>magic_add_value</th>\n",
       "      <td>0.086886</td>\n",
       "    </tr>\n",
       "    <tr>\n",
       "      <th>reaserch_acceleration_add_value</th>\n",
       "      <td>0.084796</td>\n",
       "    </tr>\n",
       "    <tr>\n",
       "      <th>pve_win_count</th>\n",
       "      <td>0.039549</td>\n",
       "    </tr>\n",
       "    <tr>\n",
       "      <th>pve_lanch_count</th>\n",
       "      <td>0.037883</td>\n",
       "    </tr>\n",
       "    <tr>\n",
       "      <th>pve_battle_count</th>\n",
       "      <td>0.036164</td>\n",
       "    </tr>\n",
       "    <tr>\n",
       "      <th>avg_online_minutes</th>\n",
       "      <td>-0.015519</td>\n",
       "    </tr>\n",
       "    <tr>\n",
       "      <th>meat_reduce_value</th>\n",
       "      <td>-3.562855</td>\n",
       "    </tr>\n",
       "    <tr>\n",
       "      <th>wood_reduce_value</th>\n",
       "      <td>-3.566151</td>\n",
       "    </tr>\n",
       "  </tbody>\n",
       "</table>\n",
       "</div>"
      ],
      "text/plain": [
       "                                         skew\n",
       "treatment_acceleration_reduce_value  2.172012\n",
       "ivory_reduce_value                   1.172246\n",
       "wound_shaman_reduce_value            0.607809\n",
       "pay_price                            0.570826\n",
       "wound_cavalry_reduce_value           0.570744\n",
       "wound_infantry_reduce_value          0.567173\n",
       "pvp_lanch_count                      0.471087\n",
       "prediction_pay_price                 0.412236\n",
       "stone_reduce_value                   0.400475\n",
       "training_acceleration_reduce_value   0.383776\n",
       "pvp_win_count                        0.373402\n",
       "shaman_add_value                     0.363492\n",
       "wound_shaman_add_value               0.336090\n",
       "cavalry_add_value                    0.327935\n",
       "infantry_add_value                   0.317689\n",
       "wood_add_value                       0.313835\n",
       "wound_infantry_add_value             0.293478\n",
       "wound_cavalry_add_value              0.284366\n",
       "stone_add_value                      0.276174\n",
       "meat_add_value                       0.267861\n",
       "ivory_add_value                      0.254907\n",
       "general_acceleration_reduce_value    0.217145\n",
       "shaman_reduce_value                  0.208027\n",
       "treatment_acceleration_add_value     0.199189\n",
       "reaserch_acceleration_reduce_value   0.179663\n",
       "infantry_reduce_value                0.166906\n",
       "cavalry_reduce_value                 0.157462\n",
       "building_acceleration_reduce_value   0.149166\n",
       "pvp_battle_count                     0.147055\n",
       "magic_reduce_value                   0.145848\n",
       "general_acceleration_add_value       0.136133\n",
       "training_acceleration_add_value      0.131508\n",
       "building_acceleration_add_value      0.120398\n",
       "magic_add_value                      0.086886\n",
       "reaserch_acceleration_add_value      0.084796\n",
       "pve_win_count                        0.039549\n",
       "pve_lanch_count                      0.037883\n",
       "pve_battle_count                     0.036164\n",
       "avg_online_minutes                  -0.015519\n",
       "meat_reduce_value                   -3.562855\n",
       "wood_reduce_value                   -3.566151"
      ]
     },
     "execution_count": 38,
     "metadata": {},
     "output_type": "execute_result"
    }
   ],
   "source": [
    "high_skew=skew_data_7pay[skew_data_7pay>0.5]\n",
    "high_skew=high_skew\n",
    "skew_index=high_skew.index\n",
    "\n",
    "for i in skew_index:\n",
    "    data_7pay[i]=boxcox1p(data_7pay[i],boxcox_normmax(data_7pay[i]+1))\n",
    "skew_data_7pay2=data_7pay[numeric2].apply(lambda x:skew(x)).sort_values(ascending=False)\n",
    "skew2=pd.DataFrame({'skew':skew_data_7pay2})\n",
    "skew2"
   ]
  },
  {
   "cell_type": "code",
   "execution_count": 39,
   "metadata": {
    "ExecuteTime": {
     "end_time": "2018-09-13T06:17:15.584693Z",
     "start_time": "2018-09-13T06:17:15.572693Z"
    }
   },
   "outputs": [
    {
     "data": {
      "text/plain": [
       "(41439, 107)"
      ]
     },
     "execution_count": 39,
     "metadata": {},
     "output_type": "execute_result"
    }
   ],
   "source": [
    "data_7pay.shape"
   ]
  },
  {
   "cell_type": "code",
   "execution_count": 41,
   "metadata": {
    "ExecuteTime": {
     "end_time": "2018-09-13T06:22:14.900813Z",
     "start_time": "2018-09-13T06:22:06.781349Z"
    }
   },
   "outputs": [
    {
     "data": {
      "text/plain": [
       "0.38540743873458705"
      ]
     },
     "execution_count": 41,
     "metadata": {},
     "output_type": "execute_result"
    }
   ],
   "source": [
    "drop_col=[i for i in data_7pay.columns.values if 'prediction' in i]\n",
    "X=data_7pay.drop(labels=drop_col,axis=1)\n",
    "y=data_7pay.prediction_pay_price\n",
    "X.replace([np.inf,-np.inf],np.nan,inplace=True)\n",
    "X.fillna(0.0,inplace=True)\n",
    "from sklearn.model_selection import cross_val_score,KFold\n",
    "from sklearn.linear_model import LinearRegression,RidgeCV,LassoCV,ElasticNetCV\n",
    "from sklearn.preprocessing import RobustScaler\n",
    "from sklearn.pipeline import make_pipeline\n",
    "\n",
    "kfolds=KFold(n_splits=10,shuffle=True,random_state=13)\n",
    "\n",
    "\n",
    "def cv_rmse(model):\n",
    "    rmse=np.sqrt(-cross_val_score(model,X,y,scoring='neg_mean_squared_error',cv=kfolds))\n",
    "    return rmse\n",
    "\n",
    "lm = LinearRegression()\n",
    "\n",
    "benchmark_model=make_pipeline(RobustScaler(),\n",
    "                             lm).fit(X,y)\n",
    "\n",
    "cv_rmse(benchmark_model).mean()"
   ]
  },
  {
   "cell_type": "code",
   "execution_count": 42,
   "metadata": {
    "ExecuteTime": {
     "end_time": "2018-09-13T06:28:32.317400Z",
     "start_time": "2018-09-13T06:28:32.304400Z"
    }
   },
   "outputs": [
    {
     "data": {
      "text/plain": [
       "0.4696143214411443"
      ]
     },
     "execution_count": 42,
     "metadata": {},
     "output_type": "execute_result"
    }
   ],
   "source": [
    "np.expm1(0.385)"
   ]
  },
  {
   "cell_type": "code",
   "execution_count": 61,
   "metadata": {
    "ExecuteTime": {
     "end_time": "2018-09-13T07:23:05.928640Z",
     "start_time": "2018-09-13T07:19:42.695016Z"
    }
   },
   "outputs": [],
   "source": [
    "r_alpha=np.arange(10,21,1)\n",
    "def ridge_selector(k):\n",
    "    ridge_model=make_pipeline(RobustScaler(),\n",
    "                             RidgeCV(alphas=[k],cv=kfolds)).fit(X,y)\n",
    "    return cv_rmse(ridge_model).mean()\n",
    "\n",
    "r_score=[]\n",
    "for i in r_alpha:\n",
    "    score=ridge_selector(i)\n",
    "    r_score.append(score)    "
   ]
  },
  {
   "cell_type": "code",
   "execution_count": 62,
   "metadata": {
    "ExecuteTime": {
     "end_time": "2018-09-13T07:24:23.181059Z",
     "start_time": "2018-09-13T07:24:23.157057Z"
    }
   },
   "outputs": [],
   "source": [
    "r_score_df=pd.DataFrame(list(zip(r_alpha,r_score)),columns=['Alpha','RMSE'])"
   ]
  },
  {
   "cell_type": "code",
   "execution_count": 63,
   "metadata": {
    "ExecuteTime": {
     "end_time": "2018-09-13T07:24:23.813095Z",
     "start_time": "2018-09-13T07:24:23.788094Z"
    }
   },
   "outputs": [
    {
     "data": {
      "text/html": [
       "<div>\n",
       "<style scoped>\n",
       "    .dataframe tbody tr th:only-of-type {\n",
       "        vertical-align: middle;\n",
       "    }\n",
       "\n",
       "    .dataframe tbody tr th {\n",
       "        vertical-align: top;\n",
       "    }\n",
       "\n",
       "    .dataframe thead th {\n",
       "        text-align: right;\n",
       "    }\n",
       "</style>\n",
       "<table border=\"1\" class=\"dataframe\">\n",
       "  <thead>\n",
       "    <tr style=\"text-align: right;\">\n",
       "      <th></th>\n",
       "      <th>Alpha</th>\n",
       "      <th>RMSE</th>\n",
       "    </tr>\n",
       "  </thead>\n",
       "  <tbody>\n",
       "    <tr>\n",
       "      <th>5</th>\n",
       "      <td>15</td>\n",
       "      <td>0.385371</td>\n",
       "    </tr>\n",
       "    <tr>\n",
       "      <th>6</th>\n",
       "      <td>16</td>\n",
       "      <td>0.385371</td>\n",
       "    </tr>\n",
       "    <tr>\n",
       "      <th>4</th>\n",
       "      <td>14</td>\n",
       "      <td>0.385371</td>\n",
       "    </tr>\n",
       "    <tr>\n",
       "      <th>7</th>\n",
       "      <td>17</td>\n",
       "      <td>0.385371</td>\n",
       "    </tr>\n",
       "    <tr>\n",
       "      <th>3</th>\n",
       "      <td>13</td>\n",
       "      <td>0.385371</td>\n",
       "    </tr>\n",
       "    <tr>\n",
       "      <th>8</th>\n",
       "      <td>18</td>\n",
       "      <td>0.385371</td>\n",
       "    </tr>\n",
       "    <tr>\n",
       "      <th>2</th>\n",
       "      <td>12</td>\n",
       "      <td>0.385372</td>\n",
       "    </tr>\n",
       "    <tr>\n",
       "      <th>9</th>\n",
       "      <td>19</td>\n",
       "      <td>0.385372</td>\n",
       "    </tr>\n",
       "    <tr>\n",
       "      <th>1</th>\n",
       "      <td>11</td>\n",
       "      <td>0.385372</td>\n",
       "    </tr>\n",
       "    <tr>\n",
       "      <th>10</th>\n",
       "      <td>20</td>\n",
       "      <td>0.385372</td>\n",
       "    </tr>\n",
       "    <tr>\n",
       "      <th>0</th>\n",
       "      <td>10</td>\n",
       "      <td>0.385372</td>\n",
       "    </tr>\n",
       "  </tbody>\n",
       "</table>\n",
       "</div>"
      ],
      "text/plain": [
       "    Alpha      RMSE\n",
       "5      15  0.385371\n",
       "6      16  0.385371\n",
       "4      14  0.385371\n",
       "7      17  0.385371\n",
       "3      13  0.385371\n",
       "8      18  0.385371\n",
       "2      12  0.385372\n",
       "9      19  0.385372\n",
       "1      11  0.385372\n",
       "10     20  0.385372\n",
       "0      10  0.385372"
      ]
     },
     "execution_count": 63,
     "metadata": {},
     "output_type": "execute_result"
    }
   ],
   "source": [
    "r_score_df.sort_values(by='RMSE')"
   ]
  },
  {
   "cell_type": "code",
   "execution_count": 64,
   "metadata": {
    "ExecuteTime": {
     "end_time": "2018-09-13T07:32:33.138083Z",
     "start_time": "2018-09-13T07:27:22.954341Z"
    }
   },
   "outputs": [
    {
     "data": {
      "text/plain": [
       "0.3853710941224412"
      ]
     },
     "execution_count": 64,
     "metadata": {},
     "output_type": "execute_result"
    }
   ],
   "source": [
    "r_alpha2=pd.Series(np.arange(14,16,0.1)).apply(lambda x:round(x,2))\n",
    "\n",
    "ridge_model=make_pipeline(RobustScaler(),\n",
    "                         RidgeCV(alphas=r_alpha2.tolist(),cv=kfolds)).fit(X,y)\n",
    "cv_rmse(ridge_model).mean()"
   ]
  },
  {
   "cell_type": "code",
   "execution_count": 65,
   "metadata": {
    "ExecuteTime": {
     "end_time": "2018-09-13T07:39:00.660248Z",
     "start_time": "2018-09-13T07:39:00.654247Z"
    }
   },
   "outputs": [
    {
     "data": {
      "text/plain": [
       "15.9"
      ]
     },
     "execution_count": 65,
     "metadata": {},
     "output_type": "execute_result"
    }
   ],
   "source": [
    "ridge_model.steps[1][1].alpha_"
   ]
  },
  {
   "cell_type": "code",
   "execution_count": 84,
   "metadata": {
    "ExecuteTime": {
     "end_time": "2018-09-13T08:06:09.508413Z",
     "start_time": "2018-09-13T08:05:18.413490Z"
    }
   },
   "outputs": [
    {
     "data": {
      "text/plain": [
       "0.38534544841608237"
      ]
     },
     "execution_count": 84,
     "metadata": {},
     "output_type": "execute_result"
    }
   ],
   "source": [
    "# l_alpha=[0.01,0.1,0.5,1,5,10,15,20,30,50]\n",
    "# l_alpha2=pd.Series(np.arange(0.001,0.02,0.002)).apply(lambda x:round(x,3))\n",
    "l_alpha2 = [0.00001,0.00002,0.00003,0.00004,0.00005, 0.0001, 0.0002, 0.0003, 0.0004, 0.0005,\n",
    "           0.0006, 0.0007, 0.0008]\n",
    "\n",
    "lasso_model=make_pipeline(RobustScaler(),\n",
    "                         LassoCV(alphas=l_alpha2,max_iter=1e5,cv=kfolds)).fit(X,y)\n",
    "cv_rmse(lasso_model).mean()"
   ]
  },
  {
   "cell_type": "code",
   "execution_count": 85,
   "metadata": {
    "ExecuteTime": {
     "end_time": "2018-09-13T08:08:10.785349Z",
     "start_time": "2018-09-13T08:08:10.773348Z"
    }
   },
   "outputs": [
    {
     "data": {
      "text/plain": [
       "5e-05"
      ]
     },
     "execution_count": 85,
     "metadata": {},
     "output_type": "execute_result"
    }
   ],
   "source": [
    "lasso_model.steps[1][1].alpha_"
   ]
  },
  {
   "cell_type": "code",
   "execution_count": 87,
   "metadata": {
    "ExecuteTime": {
     "end_time": "2018-09-13T08:11:11.405680Z",
     "start_time": "2018-09-13T08:11:11.365678Z"
    }
   },
   "outputs": [
    {
     "data": {
      "text/html": [
       "<div>\n",
       "<style scoped>\n",
       "    .dataframe tbody tr th:only-of-type {\n",
       "        vertical-align: middle;\n",
       "    }\n",
       "\n",
       "    .dataframe tbody tr th {\n",
       "        vertical-align: top;\n",
       "    }\n",
       "\n",
       "    .dataframe thead th {\n",
       "        text-align: right;\n",
       "    }\n",
       "</style>\n",
       "<table border=\"1\" class=\"dataframe\">\n",
       "  <thead>\n",
       "    <tr style=\"text-align: right;\">\n",
       "      <th></th>\n",
       "      <th>predictors</th>\n",
       "      <th>coef</th>\n",
       "    </tr>\n",
       "  </thead>\n",
       "  <tbody>\n",
       "    <tr>\n",
       "      <th>104</th>\n",
       "      <td>pay_price</td>\n",
       "      <td>1.523215</td>\n",
       "    </tr>\n",
       "    <tr>\n",
       "      <th>103</th>\n",
       "      <td>avg_online_minutes</td>\n",
       "      <td>0.136238</td>\n",
       "    </tr>\n",
       "    <tr>\n",
       "      <th>102</th>\n",
       "      <td>pve_win_count</td>\n",
       "      <td>0.082349</td>\n",
       "    </tr>\n",
       "    <tr>\n",
       "      <th>21</th>\n",
       "      <td>wound_shaman_reduce_value</td>\n",
       "      <td>0.061227</td>\n",
       "    </tr>\n",
       "    <tr>\n",
       "      <th>0</th>\n",
       "      <td>wood_add_value</td>\n",
       "      <td>0.042495</td>\n",
       "    </tr>\n",
       "    <tr>\n",
       "      <th>8</th>\n",
       "      <td>magic_add_value</td>\n",
       "      <td>0.041008</td>\n",
       "    </tr>\n",
       "    <tr>\n",
       "      <th>23</th>\n",
       "      <td>general_acceleration_reduce_value</td>\n",
       "      <td>0.035901</td>\n",
       "    </tr>\n",
       "    <tr>\n",
       "      <th>19</th>\n",
       "      <td>wound_cavalry_reduce_value</td>\n",
       "      <td>0.035763</td>\n",
       "    </tr>\n",
       "    <tr>\n",
       "      <th>56</th>\n",
       "      <td>sr_infantry_tier_3_level</td>\n",
       "      <td>0.033667</td>\n",
       "    </tr>\n",
       "    <tr>\n",
       "      <th>50</th>\n",
       "      <td>sr_infantry_tier_2_level</td>\n",
       "      <td>0.025651</td>\n",
       "    </tr>\n",
       "    <tr>\n",
       "      <th>84</th>\n",
       "      <td>sr_outpost_durability_level</td>\n",
       "      <td>0.025264</td>\n",
       "    </tr>\n",
       "    <tr>\n",
       "      <th>58</th>\n",
       "      <td>sr_shaman_tier_3_level</td>\n",
       "      <td>0.024822</td>\n",
       "    </tr>\n",
       "    <tr>\n",
       "      <th>29</th>\n",
       "      <td>training_acceleration_reduce_value</td>\n",
       "      <td>0.022627</td>\n",
       "    </tr>\n",
       "    <tr>\n",
       "      <th>97</th>\n",
       "      <td>pvp_battle_count</td>\n",
       "      <td>0.021945</td>\n",
       "    </tr>\n",
       "    <tr>\n",
       "      <th>39</th>\n",
       "      <td>bd_guest_cavern_level</td>\n",
       "      <td>0.018954</td>\n",
       "    </tr>\n",
       "    <tr>\n",
       "      <th>49</th>\n",
       "      <td>sr_training_speed_level</td>\n",
       "      <td>0.017132</td>\n",
       "    </tr>\n",
       "    <tr>\n",
       "      <th>28</th>\n",
       "      <td>training_acceleration_add_value</td>\n",
       "      <td>0.016393</td>\n",
       "    </tr>\n",
       "    <tr>\n",
       "      <th>45</th>\n",
       "      <td>bd_hero_gacha_level</td>\n",
       "      <td>0.013449</td>\n",
       "    </tr>\n",
       "    <tr>\n",
       "      <th>30</th>\n",
       "      <td>treatment_acceleration_add_value</td>\n",
       "      <td>0.013311</td>\n",
       "    </tr>\n",
       "    <tr>\n",
       "      <th>10</th>\n",
       "      <td>infantry_add_value</td>\n",
       "      <td>0.013188</td>\n",
       "    </tr>\n",
       "    <tr>\n",
       "      <th>46</th>\n",
       "      <td>bd_hero_strengthen_level</td>\n",
       "      <td>0.012715</td>\n",
       "    </tr>\n",
       "    <tr>\n",
       "      <th>43</th>\n",
       "      <td>bd_hall_of_war_level</td>\n",
       "      <td>0.011928</td>\n",
       "    </tr>\n",
       "    <tr>\n",
       "      <th>63</th>\n",
       "      <td>sr_infantry_hp_level</td>\n",
       "      <td>0.010285</td>\n",
       "    </tr>\n",
       "    <tr>\n",
       "      <th>42</th>\n",
       "      <td>bd_magic_coin_tree_level</td>\n",
       "      <td>0.010225</td>\n",
       "    </tr>\n",
       "    <tr>\n",
       "      <th>2</th>\n",
       "      <td>stone_add_value</td>\n",
       "      <td>0.009531</td>\n",
       "    </tr>\n",
       "    <tr>\n",
       "      <th>14</th>\n",
       "      <td>shaman_add_value</td>\n",
       "      <td>0.009253</td>\n",
       "    </tr>\n",
       "    <tr>\n",
       "      <th>59</th>\n",
       "      <td>sr_troop_defense_level</td>\n",
       "      <td>0.007979</td>\n",
       "    </tr>\n",
       "    <tr>\n",
       "      <th>92</th>\n",
       "      <td>sr_gathering_march_speed_level</td>\n",
       "      <td>0.007096</td>\n",
       "    </tr>\n",
       "    <tr>\n",
       "      <th>88</th>\n",
       "      <td>sr_healing_speed_level</td>\n",
       "      <td>0.006989</td>\n",
       "    </tr>\n",
       "    <tr>\n",
       "      <th>71</th>\n",
       "      <td>sr_hide_storage_level</td>\n",
       "      <td>0.006605</td>\n",
       "    </tr>\n",
       "    <tr>\n",
       "      <th>...</th>\n",
       "      <td>...</td>\n",
       "      <td>...</td>\n",
       "    </tr>\n",
       "    <tr>\n",
       "      <th>53</th>\n",
       "      <td>sr_infantry_atk_level</td>\n",
       "      <td>-0.003436</td>\n",
       "    </tr>\n",
       "    <tr>\n",
       "      <th>83</th>\n",
       "      <td>sr_rss_e_prod_level</td>\n",
       "      <td>-0.003578</td>\n",
       "    </tr>\n",
       "    <tr>\n",
       "      <th>33</th>\n",
       "      <td>bd_healing_lodge_level</td>\n",
       "      <td>-0.003863</td>\n",
       "    </tr>\n",
       "    <tr>\n",
       "      <th>15</th>\n",
       "      <td>shaman_reduce_value</td>\n",
       "      <td>-0.003904</td>\n",
       "    </tr>\n",
       "    <tr>\n",
       "      <th>52</th>\n",
       "      <td>sr_shaman_tier_2_level</td>\n",
       "      <td>-0.005208</td>\n",
       "    </tr>\n",
       "    <tr>\n",
       "      <th>74</th>\n",
       "      <td>sr_rss_b_prod_level</td>\n",
       "      <td>-0.005404</td>\n",
       "    </tr>\n",
       "    <tr>\n",
       "      <th>60</th>\n",
       "      <td>sr_infantry_def_level</td>\n",
       "      <td>-0.006121</td>\n",
       "    </tr>\n",
       "    <tr>\n",
       "      <th>34</th>\n",
       "      <td>bd_stronghold_level</td>\n",
       "      <td>-0.008309</td>\n",
       "    </tr>\n",
       "    <tr>\n",
       "      <th>69</th>\n",
       "      <td>sr_troop_attack_level</td>\n",
       "      <td>-0.008454</td>\n",
       "    </tr>\n",
       "    <tr>\n",
       "      <th>78</th>\n",
       "      <td>sr_rss_b_gather_level</td>\n",
       "      <td>-0.008515</td>\n",
       "    </tr>\n",
       "    <tr>\n",
       "      <th>47</th>\n",
       "      <td>bd_hero_pve_level</td>\n",
       "      <td>-0.009330</td>\n",
       "    </tr>\n",
       "    <tr>\n",
       "      <th>12</th>\n",
       "      <td>cavalry_add_value</td>\n",
       "      <td>-0.009604</td>\n",
       "    </tr>\n",
       "    <tr>\n",
       "      <th>79</th>\n",
       "      <td>sr_rss_c_gather_level</td>\n",
       "      <td>-0.009775</td>\n",
       "    </tr>\n",
       "    <tr>\n",
       "      <th>31</th>\n",
       "      <td>treatment_acceleration_reduce_value</td>\n",
       "      <td>-0.010602</td>\n",
       "    </tr>\n",
       "    <tr>\n",
       "      <th>70</th>\n",
       "      <td>sr_construction_speed_level</td>\n",
       "      <td>-0.010902</td>\n",
       "    </tr>\n",
       "    <tr>\n",
       "      <th>4</th>\n",
       "      <td>ivory_add_value</td>\n",
       "      <td>-0.010967</td>\n",
       "    </tr>\n",
       "    <tr>\n",
       "      <th>17</th>\n",
       "      <td>wound_infantry_reduce_value</td>\n",
       "      <td>-0.011835</td>\n",
       "    </tr>\n",
       "    <tr>\n",
       "      <th>98</th>\n",
       "      <td>pvp_lanch_count</td>\n",
       "      <td>-0.012214</td>\n",
       "    </tr>\n",
       "    <tr>\n",
       "      <th>11</th>\n",
       "      <td>infantry_reduce_value</td>\n",
       "      <td>-0.013771</td>\n",
       "    </tr>\n",
       "    <tr>\n",
       "      <th>85</th>\n",
       "      <td>sr_outpost_tier_2_level</td>\n",
       "      <td>-0.014490</td>\n",
       "    </tr>\n",
       "    <tr>\n",
       "      <th>26</th>\n",
       "      <td>reaserch_acceleration_add_value</td>\n",
       "      <td>-0.016167</td>\n",
       "    </tr>\n",
       "    <tr>\n",
       "      <th>99</th>\n",
       "      <td>pvp_win_count</td>\n",
       "      <td>-0.020447</td>\n",
       "    </tr>\n",
       "    <tr>\n",
       "      <th>27</th>\n",
       "      <td>reaserch_acceleration_reduce_value</td>\n",
       "      <td>-0.021557</td>\n",
       "    </tr>\n",
       "    <tr>\n",
       "      <th>51</th>\n",
       "      <td>sr_cavalry_tier_2_level</td>\n",
       "      <td>-0.025092</td>\n",
       "    </tr>\n",
       "    <tr>\n",
       "      <th>25</th>\n",
       "      <td>building_acceleration_reduce_value</td>\n",
       "      <td>-0.042639</td>\n",
       "    </tr>\n",
       "    <tr>\n",
       "      <th>22</th>\n",
       "      <td>general_acceleration_add_value</td>\n",
       "      <td>-0.043953</td>\n",
       "    </tr>\n",
       "    <tr>\n",
       "      <th>89</th>\n",
       "      <td>sr_outpost_tier_3_level</td>\n",
       "      <td>-0.051373</td>\n",
       "    </tr>\n",
       "    <tr>\n",
       "      <th>9</th>\n",
       "      <td>magic_reduce_value</td>\n",
       "      <td>-0.054540</td>\n",
       "    </tr>\n",
       "    <tr>\n",
       "      <th>101</th>\n",
       "      <td>pve_lanch_count</td>\n",
       "      <td>-0.079981</td>\n",
       "    </tr>\n",
       "    <tr>\n",
       "      <th>20</th>\n",
       "      <td>wound_shaman_add_value</td>\n",
       "      <td>-0.089272</td>\n",
       "    </tr>\n",
       "  </tbody>\n",
       "</table>\n",
       "<p>106 rows × 2 columns</p>\n",
       "</div>"
      ],
      "text/plain": [
       "                              predictors      coef\n",
       "104                            pay_price  1.523215\n",
       "103                   avg_online_minutes  0.136238\n",
       "102                        pve_win_count  0.082349\n",
       "21             wound_shaman_reduce_value  0.061227\n",
       "0                         wood_add_value  0.042495\n",
       "8                        magic_add_value  0.041008\n",
       "23     general_acceleration_reduce_value  0.035901\n",
       "19            wound_cavalry_reduce_value  0.035763\n",
       "56              sr_infantry_tier_3_level  0.033667\n",
       "50              sr_infantry_tier_2_level  0.025651\n",
       "84           sr_outpost_durability_level  0.025264\n",
       "58                sr_shaman_tier_3_level  0.024822\n",
       "29    training_acceleration_reduce_value  0.022627\n",
       "97                      pvp_battle_count  0.021945\n",
       "39                 bd_guest_cavern_level  0.018954\n",
       "49               sr_training_speed_level  0.017132\n",
       "28       training_acceleration_add_value  0.016393\n",
       "45                   bd_hero_gacha_level  0.013449\n",
       "30      treatment_acceleration_add_value  0.013311\n",
       "10                    infantry_add_value  0.013188\n",
       "46              bd_hero_strengthen_level  0.012715\n",
       "43                  bd_hall_of_war_level  0.011928\n",
       "63                  sr_infantry_hp_level  0.010285\n",
       "42              bd_magic_coin_tree_level  0.010225\n",
       "2                        stone_add_value  0.009531\n",
       "14                      shaman_add_value  0.009253\n",
       "59                sr_troop_defense_level  0.007979\n",
       "92        sr_gathering_march_speed_level  0.007096\n",
       "88                sr_healing_speed_level  0.006989\n",
       "71                 sr_hide_storage_level  0.006605\n",
       "..                                   ...       ...\n",
       "53                 sr_infantry_atk_level -0.003436\n",
       "83                   sr_rss_e_prod_level -0.003578\n",
       "33                bd_healing_lodge_level -0.003863\n",
       "15                   shaman_reduce_value -0.003904\n",
       "52                sr_shaman_tier_2_level -0.005208\n",
       "74                   sr_rss_b_prod_level -0.005404\n",
       "60                 sr_infantry_def_level -0.006121\n",
       "34                   bd_stronghold_level -0.008309\n",
       "69                 sr_troop_attack_level -0.008454\n",
       "78                 sr_rss_b_gather_level -0.008515\n",
       "47                     bd_hero_pve_level -0.009330\n",
       "12                     cavalry_add_value -0.009604\n",
       "79                 sr_rss_c_gather_level -0.009775\n",
       "31   treatment_acceleration_reduce_value -0.010602\n",
       "70           sr_construction_speed_level -0.010902\n",
       "4                        ivory_add_value -0.010967\n",
       "17           wound_infantry_reduce_value -0.011835\n",
       "98                       pvp_lanch_count -0.012214\n",
       "11                 infantry_reduce_value -0.013771\n",
       "85               sr_outpost_tier_2_level -0.014490\n",
       "26       reaserch_acceleration_add_value -0.016167\n",
       "99                         pvp_win_count -0.020447\n",
       "27    reaserch_acceleration_reduce_value -0.021557\n",
       "51               sr_cavalry_tier_2_level -0.025092\n",
       "25    building_acceleration_reduce_value -0.042639\n",
       "22        general_acceleration_add_value -0.043953\n",
       "89               sr_outpost_tier_3_level -0.051373\n",
       "9                     magic_reduce_value -0.054540\n",
       "101                      pve_lanch_count -0.079981\n",
       "20                wound_shaman_add_value -0.089272\n",
       "\n",
       "[106 rows x 2 columns]"
      ]
     },
     "execution_count": 87,
     "metadata": {},
     "output_type": "execute_result"
    }
   ],
   "source": [
    "la_coef=pd.DataFrame(list(zip(X.columns,lasso_model.steps[1][1].coef_)),columns=['predictors','coef'])\n",
    "la_coef.sort_values(by='coef',ascending=False)"
   ]
  },
  {
   "cell_type": "code",
   "execution_count": 88,
   "metadata": {
    "ExecuteTime": {
     "end_time": "2018-09-13T08:12:08.824964Z",
     "start_time": "2018-09-13T08:12:08.813964Z"
    }
   },
   "outputs": [
    {
     "data": {
      "text/plain": [
       "(14, 2)"
      ]
     },
     "execution_count": 88,
     "metadata": {},
     "output_type": "execute_result"
    }
   ],
   "source": [
    "la_coef[la_coef.coef == 0].shape"
   ]
  },
  {
   "cell_type": "code",
   "execution_count": 89,
   "metadata": {
    "ExecuteTime": {
     "end_time": "2018-09-13T08:29:39.214043Z",
     "start_time": "2018-09-13T08:29:39.197042Z"
    }
   },
   "outputs": [
    {
     "data": {
      "text/plain": [
       "(92,)"
      ]
     },
     "execution_count": 89,
     "metadata": {},
     "output_type": "execute_result"
    }
   ],
   "source": [
    "used_la_coef=la_coef[la_coef.coef !=0]['predictors']\n",
    "used_la_coef.shape"
   ]
  },
  {
   "cell_type": "code",
   "execution_count": 91,
   "metadata": {
    "ExecuteTime": {
     "end_time": "2018-09-13T08:33:35.894580Z",
     "start_time": "2018-09-13T08:33:35.848578Z"
    }
   },
   "outputs": [
    {
     "data": {
      "text/plain": [
       "(41439, 92)"
      ]
     },
     "execution_count": 91,
     "metadata": {},
     "output_type": "execute_result"
    }
   ],
   "source": [
    "X[used_la_coef].shape"
   ]
  },
  {
   "cell_type": "code",
   "execution_count": 92,
   "metadata": {
    "ExecuteTime": {
     "end_time": "2018-09-13T08:33:54.249630Z",
     "start_time": "2018-09-13T08:33:54.213628Z"
    }
   },
   "outputs": [],
   "source": [
    "X2=X[used_la_coef]"
   ]
  },
  {
   "cell_type": "code",
   "execution_count": 96,
   "metadata": {
    "ExecuteTime": {
     "end_time": "2018-09-13T08:42:27.856007Z",
     "start_time": "2018-09-13T08:42:27.845006Z"
    }
   },
   "outputs": [],
   "source": [
    "def cv_rmse2(model):\n",
    "    rmse=np.sqrt(-cross_val_score(model,X2,y,scoring='neg_mean_squared_error',cv=kfolds))\n",
    "    return rmse"
   ]
  },
  {
   "cell_type": "code",
   "execution_count": 103,
   "metadata": {
    "ExecuteTime": {
     "end_time": "2018-09-13T09:05:45.616954Z",
     "start_time": "2018-09-13T09:01:27.889213Z"
    }
   },
   "outputs": [
    {
     "data": {
      "text/plain": [
       "0.3853388680672293"
      ]
     },
     "execution_count": 103,
     "metadata": {},
     "output_type": "execute_result"
    }
   ],
   "source": [
    "r_alpha2=pd.Series(np.arange(10,12,0.1)).apply(lambda x:round(x,1))\n",
    "# r_alpha=np.arange(1,15,1)\n",
    "ridge_model=make_pipeline(RobustScaler(),\n",
    "                         RidgeCV(alphas=r_alpha2.tolist(),cv=kfolds)).fit(X2,y)\n",
    "cv_rmse2(ridge_model).mean()"
   ]
  },
  {
   "cell_type": "code",
   "execution_count": 104,
   "metadata": {
    "ExecuteTime": {
     "end_time": "2018-09-13T09:22:45.110266Z",
     "start_time": "2018-09-13T09:22:45.097265Z"
    }
   },
   "outputs": [
    {
     "data": {
      "text/plain": [
       "10.9"
      ]
     },
     "execution_count": 104,
     "metadata": {},
     "output_type": "execute_result"
    }
   ],
   "source": [
    "ridge_model.steps[1][1].alpha_"
   ]
  },
  {
   "cell_type": "code",
   "execution_count": 105,
   "metadata": {
    "ExecuteTime": {
     "end_time": "2018-09-13T09:25:17.973009Z",
     "start_time": "2018-09-13T09:24:33.857486Z"
    }
   },
   "outputs": [
    {
     "data": {
      "text/plain": [
       "0.3853425052513379"
      ]
     },
     "execution_count": 105,
     "metadata": {},
     "output_type": "execute_result"
    }
   ],
   "source": [
    "l_alpha2 = [0.00001,0.00002,0.00003,0.00004,0.00005, 0.0001, 0.0002, 0.0003, 0.0004, 0.0005,\n",
    "           0.0006, 0.0007, 0.0008]\n",
    "\n",
    "lasso_model=make_pipeline(RobustScaler(),\n",
    "                         LassoCV(alphas=l_alpha2,max_iter=1e5,cv=kfolds)).fit(X2,y)\n",
    "cv_rmse2(lasso_model).mean()"
   ]
  },
  {
   "cell_type": "code",
   "execution_count": 107,
   "metadata": {
    "ExecuteTime": {
     "end_time": "2018-09-13T09:28:03.359469Z",
     "start_time": "2018-09-13T09:28:03.347468Z"
    }
   },
   "outputs": [
    {
     "data": {
      "text/plain": [
       "5e-05"
      ]
     },
     "execution_count": 107,
     "metadata": {},
     "output_type": "execute_result"
    }
   ],
   "source": [
    "lasso_model.steps[1][1].alpha_"
   ]
  },
  {
   "cell_type": "code",
   "execution_count": 114,
   "metadata": {
    "ExecuteTime": {
     "end_time": "2018-09-13T09:46:36.166118Z",
     "start_time": "2018-09-13T09:43:00.344773Z"
    }
   },
   "outputs": [
    {
     "data": {
      "text/plain": [
       "0.3853372039229609"
      ]
     },
     "execution_count": 114,
     "metadata": {},
     "output_type": "execute_result"
    }
   ],
   "source": [
    "from sklearn.linear_model import ElasticNetCV\n",
    "\n",
    "e_alphas = [0.00001,0.00005,0.0001, 0.0002, 0.0003, 0.0004, 0.0005, 0.0006, 0.0007]\n",
    "e_l1ratio = [0.1,0.2,0.3,0.4,0.5,0.6,0.7,0.8, 0.85, 0.9, 0.95, 0.99, 1]\n",
    "\n",
    "elastic_cv=make_pipeline(RobustScaler(),\n",
    "                        ElasticNetCV(max_iter=1e5,alphas=e_alphas,l1_ratio=e_l1ratio,cv=kfolds)).fit(X2,y)\n",
    "cv_rmse2(elastic_cv).mean()"
   ]
  },
  {
   "cell_type": "code",
   "execution_count": 115,
   "metadata": {
    "ExecuteTime": {
     "end_time": "2018-09-13T09:46:36.171118Z",
     "start_time": "2018-09-13T09:46:36.167118Z"
    }
   },
   "outputs": [
    {
     "data": {
      "text/plain": [
       "0.0001"
      ]
     },
     "execution_count": 115,
     "metadata": {},
     "output_type": "execute_result"
    }
   ],
   "source": [
    "elastic_cv.steps[1][1].alpha_"
   ]
  },
  {
   "cell_type": "code",
   "execution_count": 113,
   "metadata": {
    "ExecuteTime": {
     "end_time": "2018-09-13T09:42:30.265053Z",
     "start_time": "2018-09-13T09:42:30.256052Z"
    }
   },
   "outputs": [
    {
     "data": {
      "text/plain": [
       "0.5"
      ]
     },
     "execution_count": 113,
     "metadata": {},
     "output_type": "execute_result"
    }
   ],
   "source": [
    "elastic_cv.steps[1][1].l1_ratio_"
   ]
  },
  {
   "cell_type": "code",
   "execution_count": 116,
   "metadata": {
    "ExecuteTime": {
     "end_time": "2018-09-13T09:48:47.473628Z",
     "start_time": "2018-09-13T09:48:47.146609Z"
    }
   },
   "outputs": [],
   "source": [
    "from lightgbm import LGBMRegressor\n",
    "\n",
    "lgbm_model = LGBMRegressor(objective='regression',num_leaves=5,\n",
    "                              learning_rate=0.05, n_estimators=720,\n",
    "                              max_bin = 55, bagging_fraction = 0.8,\n",
    "                              bagging_freq = 5, feature_fraction = 0.2319,\n",
    "                              feature_fraction_seed=9, bagging_seed=9,\n",
    "                              min_data_in_leaf =6, min_sum_hessian_in_leaf = 11)"
   ]
  },
  {
   "cell_type": "code",
   "execution_count": 117,
   "metadata": {
    "ExecuteTime": {
     "end_time": "2018-09-13T09:48:59.232301Z",
     "start_time": "2018-09-13T09:48:48.529688Z"
    }
   },
   "outputs": [
    {
     "data": {
      "text/plain": [
       "0.3814156178244158"
      ]
     },
     "execution_count": 117,
     "metadata": {},
     "output_type": "execute_result"
    }
   ],
   "source": [
    "cv_rmse(lgbm_model).mean()"
   ]
  },
  {
   "cell_type": "code",
   "execution_count": 118,
   "metadata": {
    "ExecuteTime": {
     "end_time": "2018-09-13T09:49:46.393998Z",
     "start_time": "2018-09-13T09:49:34.587323Z"
    }
   },
   "outputs": [
    {
     "data": {
      "text/plain": [
       "0.3826883673711693"
      ]
     },
     "execution_count": 118,
     "metadata": {},
     "output_type": "execute_result"
    }
   ],
   "source": [
    "cv_rmse2(lgbm_model).mean()"
   ]
  },
  {
   "cell_type": "code",
   "execution_count": 120,
   "metadata": {
    "ExecuteTime": {
     "end_time": "2018-09-13T09:51:06.116558Z",
     "start_time": "2018-09-13T09:51:06.108557Z"
    }
   },
   "outputs": [
    {
     "data": {
      "text/plain": [
       "0.46374760540972854"
      ]
     },
     "execution_count": 120,
     "metadata": {},
     "output_type": "execute_result"
    }
   ],
   "source": [
    "np.expm1(0.381)"
   ]
  },
  {
   "cell_type": "code",
   "execution_count": 122,
   "metadata": {
    "ExecuteTime": {
     "end_time": "2018-09-13T14:13:47.856078Z",
     "start_time": "2018-09-13T14:13:47.198040Z"
    }
   },
   "outputs": [],
   "source": [
    "import xgboost as xgb\n",
    "from xgboost import XGBRegressor\n",
    "xgb3 = XGBRegressor(learning_rate =0.01, n_estimators=3460, max_depth=3,\n",
    "                     min_child_weight=0 ,gamma=0, subsample=0.7,\n",
    "                     colsample_bytree=0.7,objective= 'reg:linear',\n",
    "                     nthread=4,scale_pos_weight=1,seed=27, reg_alpha=0.00006)\n",
    "\n"
   ]
  },
  {
   "cell_type": "code",
   "execution_count": 125,
   "metadata": {
    "ExecuteTime": {
     "end_time": "2018-09-13T15:20:47.053963Z",
     "start_time": "2018-09-13T15:03:58.505277Z"
    }
   },
   "outputs": [
    {
     "data": {
      "text/plain": [
       "0.3778656840124252"
      ]
     },
     "execution_count": 125,
     "metadata": {},
     "output_type": "execute_result"
    }
   ],
   "source": [
    "cv_rmse(xgb3).mean()"
   ]
  },
  {
   "cell_type": "code",
   "execution_count": 124,
   "metadata": {
    "ExecuteTime": {
     "end_time": "2018-09-13T14:53:25.745085Z",
     "start_time": "2018-09-13T14:39:02.021683Z"
    }
   },
   "outputs": [
    {
     "data": {
      "text/plain": [
       "0.37809727596118703"
      ]
     },
     "execution_count": 124,
     "metadata": {},
     "output_type": "execute_result"
    }
   ],
   "source": [
    "cv_rmse2(xgb3).mean()"
   ]
  },
  {
   "cell_type": "code",
   "execution_count": null,
   "metadata": {
    "ExecuteTime": {
     "start_time": "2018-09-14T01:04:18.752Z"
    }
   },
   "outputs": [],
   "source": [
    "xgb_fit=xgb3.fit(X,y)"
   ]
  },
  {
   "cell_type": "code",
   "execution_count": null,
   "metadata": {},
   "outputs": [],
   "source": []
  }
 ],
 "metadata": {
  "kernelspec": {
   "display_name": "Python 3",
   "language": "python",
   "name": "python3"
  },
  "language_info": {
   "codemirror_mode": {
    "name": "ipython",
    "version": 3
   },
   "file_extension": ".py",
   "mimetype": "text/x-python",
   "name": "python",
   "nbconvert_exporter": "python",
   "pygments_lexer": "ipython3",
   "version": "3.6.3"
  }
 },
 "nbformat": 4,
 "nbformat_minor": 2
}
