{
 "cells": [
  {
   "cell_type": "code",
   "execution_count": null,
   "metadata": {
    "ExecuteTime": {
     "end_time": "2018-09-13T03:18:51.642463Z",
     "start_time": "2018-09-13T03:18:50.479396Z"
    }
   },
   "outputs": [],
   "source": [
    "import numpy as np\n",
    "import pandas as pd\n",
    "from matplotlib import pyplot as plt\n",
    "import seaborn as sns\n",
    "from scipy.stats import norm ,skew"
   ]
  },
  {
   "cell_type": "code",
   "execution_count": null,
   "metadata": {
    "ExecuteTime": {
     "end_time": "2018-09-13T03:19:17.228926Z",
     "start_time": "2018-09-13T03:18:51.643463Z"
    }
   },
   "outputs": [],
   "source": [
    "df_train=pd.read_csv('F:\\\\study\\\\ml\\\\DataSet\\\\Tap4fun\\\\tap_fun_train.csv')"
   ]
  },
  {
   "cell_type": "code",
   "execution_count": null,
   "metadata": {
    "ExecuteTime": {
     "end_time": "2018-09-13T03:19:17.476941Z",
     "start_time": "2018-09-13T03:19:17.230927Z"
    }
   },
   "outputs": [],
   "source": [
    "df_train.info(memory_usage='deep')"
   ]
  },
  {
   "cell_type": "code",
   "execution_count": null,
   "metadata": {
    "ExecuteTime": {
     "end_time": "2018-09-13T03:19:34.414909Z",
     "start_time": "2018-09-13T03:19:17.478941Z"
    }
   },
   "outputs": [],
   "source": [
    "c_int=df_train.select_dtypes(include=['int64']).apply(pd.to_numeric,downcast='unsigned')\n",
    "c_float=df_train.select_dtypes(include=['float']).apply(pd.to_numeric,downcast='float')\n"
   ]
  },
  {
   "cell_type": "code",
   "execution_count": null,
   "metadata": {
    "ExecuteTime": {
     "end_time": "2018-09-13T03:19:34.777930Z",
     "start_time": "2018-09-13T03:19:34.416910Z"
    }
   },
   "outputs": [],
   "source": [
    "o_df=pd.concat([c_int,c_float],axis=1)"
   ]
  },
  {
   "cell_type": "code",
   "execution_count": null,
   "metadata": {
    "ExecuteTime": {
     "end_time": "2018-09-13T03:19:34.783931Z",
     "start_time": "2018-09-13T03:19:34.779930Z"
    }
   },
   "outputs": [],
   "source": [
    "column_type=dict(o_df.dtypes.copy())"
   ]
  },
  {
   "cell_type": "code",
   "execution_count": null,
   "metadata": {
    "ExecuteTime": {
     "end_time": "2018-09-13T03:19:34.896937Z",
     "start_time": "2018-09-13T03:19:34.784931Z"
    }
   },
   "outputs": [],
   "source": [
    "len(column_type)"
   ]
  },
  {
   "cell_type": "code",
   "execution_count": null,
   "metadata": {
    "ExecuteTime": {
     "end_time": "2018-09-13T03:19:35.234956Z",
     "start_time": "2018-09-13T03:19:34.897937Z"
    }
   },
   "outputs": [],
   "source": [
    "del o_df,c_int,c_float,df_train"
   ]
  },
  {
   "cell_type": "code",
   "execution_count": null,
   "metadata": {},
   "outputs": [],
   "source": []
  },
  {
   "cell_type": "code",
   "execution_count": null,
   "metadata": {
    "ExecuteTime": {
     "end_time": "2018-09-13T03:20:12.012060Z",
     "start_time": "2018-09-13T03:19:35.235956Z"
    }
   },
   "outputs": [],
   "source": [
    "data_train=pd.read_csv('F:\\\\study\\\\ml\\\\DataSet\\\\Tap4fun\\\\tap_fun_train.csv',\n",
    "                      dtype=column_type,parse_dates=['register_time'],infer_datetime_format=True)"
   ]
  },
  {
   "cell_type": "code",
   "execution_count": null,
   "metadata": {
    "ExecuteTime": {
     "end_time": "2018-09-13T03:20:12.295076Z",
     "start_time": "2018-09-13T03:20:12.014060Z"
    }
   },
   "outputs": [],
   "source": [
    "data_train.rename(columns={'treatment_acceleraion_add_value':'treatment_acceleration_add_value',\\\n",
    "                          'sr_rss_a_prod_levell':'sr_rss_a_prod_level'} ,inplace=True)"
   ]
  },
  {
   "cell_type": "code",
   "execution_count": null,
   "metadata": {
    "ExecuteTime": {
     "end_time": "2018-09-13T03:20:12.442084Z",
     "start_time": "2018-09-13T03:20:12.297076Z"
    }
   },
   "outputs": [],
   "source": [
    "data_train.head()"
   ]
  },
  {
   "cell_type": "code",
   "execution_count": null,
   "metadata": {
    "ExecuteTime": {
     "end_time": "2018-09-13T03:20:12.451085Z",
     "start_time": "2018-09-13T03:20:12.443085Z"
    }
   },
   "outputs": [],
   "source": [
    "data_train.info(memory_usage='deep')"
   ]
  },
  {
   "cell_type": "code",
   "execution_count": null,
   "metadata": {
    "ExecuteTime": {
     "end_time": "2018-09-13T03:20:12.960114Z",
     "start_time": "2018-09-13T03:20:12.452085Z"
    }
   },
   "outputs": [],
   "source": [
    "# data_label=data_train['prediction_pay_price']\n",
    "data_train2=data_train.drop(labels=['user_id','register_time'],axis=1)"
   ]
  },
  {
   "cell_type": "code",
   "execution_count": null,
   "metadata": {
    "ExecuteTime": {
     "end_time": "2018-09-13T03:20:13.016117Z",
     "start_time": "2018-09-13T03:20:12.961114Z"
    }
   },
   "outputs": [],
   "source": [
    "data_7pay=data_train2[data_train2['pay_price']>0].copy()\n"
   ]
  },
  {
   "cell_type": "code",
   "execution_count": null,
   "metadata": {
    "ExecuteTime": {
     "end_time": "2018-09-13T03:20:13.067120Z",
     "start_time": "2018-09-13T03:20:13.018117Z"
    }
   },
   "outputs": [],
   "source": [
    "data_7pay.head()"
   ]
  },
  {
   "cell_type": "code",
   "execution_count": null,
   "metadata": {
    "ExecuteTime": {
     "end_time": "2018-09-13T03:20:13.192127Z",
     "start_time": "2018-09-13T03:20:13.068120Z"
    }
   },
   "outputs": [],
   "source": [
    "#######################################"
   ]
  },
  {
   "cell_type": "code",
   "execution_count": null,
   "metadata": {
    "ExecuteTime": {
     "end_time": "2018-09-13T03:21:15.236676Z",
     "start_time": "2018-09-13T03:21:15.234676Z"
    }
   },
   "outputs": [],
   "source": [
    "# plt.scatter(data_7pay.pay_price,data_7pay.prediction_pay_price)\n",
    "# plt.show()"
   ]
  },
  {
   "cell_type": "code",
   "execution_count": null,
   "metadata": {
    "ExecuteTime": {
     "end_time": "2018-09-13T05:28:39.090880Z",
     "start_time": "2018-09-13T05:28:38.774862Z"
    }
   },
   "outputs": [],
   "source": [
    "# plt.subplot(1,2,1)\n",
    "# sns.distplot(data_7pay.prediction_pay_price,kde=False,fit=norm)\n",
    "\n",
    "# plt.subplot(122)\n",
    "# sns.distplot(np.log(data_7pay.prediction_pay_price),kde=False,fit=norm)\n",
    "# plt.show()"
   ]
  },
  {
   "cell_type": "code",
   "execution_count": null,
   "metadata": {
    "ExecuteTime": {
     "end_time": "2018-09-13T03:25:09.551078Z",
     "start_time": "2018-09-13T03:25:09.547078Z"
    }
   },
   "outputs": [],
   "source": [
    "skew(data_7pay.prediction_pay_price)"
   ]
  },
  {
   "cell_type": "code",
   "execution_count": null,
   "metadata": {
    "ExecuteTime": {
     "end_time": "2018-09-13T03:25:26.959074Z",
     "start_time": "2018-09-13T03:25:26.954074Z"
    }
   },
   "outputs": [],
   "source": [
    "skew(np.log(data_7pay.prediction_pay_price))"
   ]
  },
  {
   "cell_type": "code",
   "execution_count": null,
   "metadata": {
    "ExecuteTime": {
     "end_time": "2018-09-13T06:04:04.394440Z",
     "start_time": "2018-09-13T06:04:04.383439Z"
    }
   },
   "outputs": [],
   "source": [
    "data_7pay['prediction_pay_price']=np.log(data_7pay.prediction_pay_price)"
   ]
  },
  {
   "cell_type": "code",
   "execution_count": null,
   "metadata": {
    "ExecuteTime": {
     "end_time": "2018-09-13T06:05:23.538967Z",
     "start_time": "2018-09-13T06:05:23.453962Z"
    }
   },
   "outputs": [],
   "source": [
    "numeric_dtypes=['uint16','uint32','uint64','float16','float32','float64']\n",
    "numeric2=[]\n",
    "for i in data_7pay.columns:\n",
    "    if data_7pay[i].dtype in numeric_dtypes:\n",
    "        numeric2.append(i)\n",
    "skew_data_7pay=data_7pay[numeric2].apply(lambda x:skew(x)).sort_values(ascending=False)\n",
    "skews=pd.DataFrame({'skew':skew_data_7pay})\n",
    "skews"
   ]
  },
  {
   "cell_type": "code",
   "execution_count": null,
   "metadata": {
    "ExecuteTime": {
     "end_time": "2018-09-13T06:05:04.605884Z",
     "start_time": "2018-09-13T06:05:04.589883Z"
    }
   },
   "outputs": [],
   "source": [
    "data_7pay.info(memory_usage='deep')"
   ]
  },
  {
   "cell_type": "code",
   "execution_count": null,
   "metadata": {
    "ExecuteTime": {
     "end_time": "2018-09-13T06:06:48.931851Z",
     "start_time": "2018-09-13T06:06:48.923851Z"
    }
   },
   "outputs": [],
   "source": [
    "from scipy.special import boxcox1p\n",
    "from scipy.stats import boxcox_normmax"
   ]
  },
  {
   "cell_type": "code",
   "execution_count": null,
   "metadata": {
    "ExecuteTime": {
     "end_time": "2018-09-13T06:13:21.314294Z",
     "start_time": "2018-09-13T06:13:17.181058Z"
    }
   },
   "outputs": [],
   "source": [
    "high_skew=skew_data_7pay[skew_data_7pay>0.5]\n",
    "high_skew=high_skew\n",
    "skew_index=high_skew.index\n",
    "\n",
    "for i in skew_index:\n",
    "    data_7pay[i]=boxcox1p(data_7pay[i],boxcox_normmax(data_7pay[i]+1))\n",
    "skew_data_7pay2=data_7pay[numeric2].apply(lambda x:skew(x)).sort_values(ascending=False)\n",
    "skew2=pd.DataFrame({'skew':skew_data_7pay2})\n",
    "skew2"
   ]
  },
  {
   "cell_type": "code",
   "execution_count": null,
   "metadata": {
    "ExecuteTime": {
     "end_time": "2018-09-13T06:17:15.584693Z",
     "start_time": "2018-09-13T06:17:15.572693Z"
    }
   },
   "outputs": [],
   "source": [
    "data_7pay.shape"
   ]
  },
  {
   "cell_type": "code",
   "execution_count": null,
   "metadata": {
    "ExecuteTime": {
     "end_time": "2018-09-13T06:22:14.900813Z",
     "start_time": "2018-09-13T06:22:06.781349Z"
    }
   },
   "outputs": [],
   "source": [
    "drop_col=[i for i in data_7pay.columns.values if 'prediction' in i]\n",
    "X=data_7pay.drop(labels=drop_col,axis=1)\n",
    "y=data_7pay.prediction_pay_price\n",
    "X.replace([np.inf,-np.inf],np.nan,inplace=True)\n",
    "X.fillna(0.0,inplace=True)\n",
    "from sklearn.model_selection import cross_val_score,KFold\n",
    "from sklearn.linear_model import LinearRegression,RidgeCV,LassoCV,ElasticNetCV\n",
    "from sklearn.preprocessing import RobustScaler\n",
    "from sklearn.pipeline import make_pipeline\n",
    "\n",
    "kfolds=KFold(n_splits=10,shuffle=True,random_state=13)\n",
    "\n",
    "\n",
    "def cv_rmse(model):\n",
    "    rmse=np.sqrt(-cross_val_score(model,X,y,scoring='neg_mean_squared_error',cv=kfolds))\n",
    "    return rmse\n",
    "\n",
    "lm = LinearRegression()\n",
    "\n",
    "benchmark_model=make_pipeline(RobustScaler(),\n",
    "                             lm).fit(X,y)\n",
    "\n",
    "cv_rmse(benchmark_model).mean()"
   ]
  },
  {
   "cell_type": "code",
   "execution_count": null,
   "metadata": {
    "ExecuteTime": {
     "end_time": "2018-09-13T06:28:32.317400Z",
     "start_time": "2018-09-13T06:28:32.304400Z"
    }
   },
   "outputs": [],
   "source": [
    "np.expm1(0.385)"
   ]
  },
  {
   "cell_type": "code",
   "execution_count": null,
   "metadata": {
    "ExecuteTime": {
     "end_time": "2018-09-13T07:23:05.928640Z",
     "start_time": "2018-09-13T07:19:42.695016Z"
    }
   },
   "outputs": [],
   "source": [
    "r_alpha=np.arange(10,21,1)\n",
    "def ridge_selector(k):\n",
    "    ridge_model=make_pipeline(RobustScaler(),\n",
    "                             RidgeCV(alphas=[k],cv=kfolds)).fit(X,y)\n",
    "    return cv_rmse(ridge_model).mean()\n",
    "\n",
    "r_score=[]\n",
    "for i in r_alpha:\n",
    "    score=ridge_selector(i)\n",
    "    r_score.append(score)    "
   ]
  },
  {
   "cell_type": "code",
   "execution_count": null,
   "metadata": {
    "ExecuteTime": {
     "end_time": "2018-09-13T07:24:23.181059Z",
     "start_time": "2018-09-13T07:24:23.157057Z"
    }
   },
   "outputs": [],
   "source": [
    "r_score_df=pd.DataFrame(list(zip(r_alpha,r_score)),columns=['Alpha','RMSE'])"
   ]
  },
  {
   "cell_type": "code",
   "execution_count": null,
   "metadata": {
    "ExecuteTime": {
     "end_time": "2018-09-13T07:24:23.813095Z",
     "start_time": "2018-09-13T07:24:23.788094Z"
    }
   },
   "outputs": [],
   "source": [
    "r_score_df.sort_values(by='RMSE')"
   ]
  },
  {
   "cell_type": "code",
   "execution_count": null,
   "metadata": {
    "ExecuteTime": {
     "end_time": "2018-09-13T07:32:33.138083Z",
     "start_time": "2018-09-13T07:27:22.954341Z"
    }
   },
   "outputs": [],
   "source": [
    "r_alpha2=pd.Series(np.arange(14,16,0.1)).apply(lambda x:round(x,2))\n",
    "\n",
    "ridge_model=make_pipeline(RobustScaler(),\n",
    "                         RidgeCV(alphas=r_alpha2.tolist(),cv=kfolds)).fit(X,y)\n",
    "cv_rmse(ridge_model).mean()"
   ]
  },
  {
   "cell_type": "code",
   "execution_count": null,
   "metadata": {
    "ExecuteTime": {
     "end_time": "2018-09-13T07:39:00.660248Z",
     "start_time": "2018-09-13T07:39:00.654247Z"
    }
   },
   "outputs": [],
   "source": [
    "ridge_model.steps[1][1].alpha_"
   ]
  },
  {
   "cell_type": "code",
   "execution_count": null,
   "metadata": {
    "ExecuteTime": {
     "end_time": "2018-09-13T08:06:09.508413Z",
     "start_time": "2018-09-13T08:05:18.413490Z"
    }
   },
   "outputs": [],
   "source": [
    "# l_alpha=[0.01,0.1,0.5,1,5,10,15,20,30,50]\n",
    "# l_alpha2=pd.Series(np.arange(0.001,0.02,0.002)).apply(lambda x:round(x,3))\n",
    "l_alpha2 = [0.00001,0.00002,0.00003,0.00004,0.00005, 0.0001, 0.0002, 0.0003, 0.0004, 0.0005,\n",
    "           0.0006, 0.0007, 0.0008]\n",
    "\n",
    "lasso_model=make_pipeline(RobustScaler(),\n",
    "                         LassoCV(alphas=l_alpha2,max_iter=1e5,cv=kfolds)).fit(X,y)\n",
    "cv_rmse(lasso_model).mean()"
   ]
  },
  {
   "cell_type": "code",
   "execution_count": null,
   "metadata": {
    "ExecuteTime": {
     "end_time": "2018-09-13T08:08:10.785349Z",
     "start_time": "2018-09-13T08:08:10.773348Z"
    }
   },
   "outputs": [],
   "source": [
    "lasso_model.steps[1][1].alpha_"
   ]
  },
  {
   "cell_type": "code",
   "execution_count": null,
   "metadata": {
    "ExecuteTime": {
     "end_time": "2018-09-13T08:11:11.405680Z",
     "start_time": "2018-09-13T08:11:11.365678Z"
    }
   },
   "outputs": [],
   "source": [
    "la_coef=pd.DataFrame(list(zip(X.columns,lasso_model.steps[1][1].coef_)),columns=['predictors','coef'])\n",
    "la_coef.sort_values(by='coef',ascending=False)"
   ]
  },
  {
   "cell_type": "code",
   "execution_count": null,
   "metadata": {
    "ExecuteTime": {
     "end_time": "2018-09-13T08:12:08.824964Z",
     "start_time": "2018-09-13T08:12:08.813964Z"
    }
   },
   "outputs": [],
   "source": [
    "la_coef[la_coef.coef == 0].shape"
   ]
  },
  {
   "cell_type": "code",
   "execution_count": null,
   "metadata": {
    "ExecuteTime": {
     "end_time": "2018-09-13T08:29:39.214043Z",
     "start_time": "2018-09-13T08:29:39.197042Z"
    }
   },
   "outputs": [],
   "source": [
    "used_la_coef=la_coef[la_coef.coef !=0]['predictors']\n",
    "used_la_coef.shape"
   ]
  },
  {
   "cell_type": "code",
   "execution_count": null,
   "metadata": {
    "ExecuteTime": {
     "end_time": "2018-09-13T08:33:35.894580Z",
     "start_time": "2018-09-13T08:33:35.848578Z"
    }
   },
   "outputs": [],
   "source": [
    "X[used_la_coef].shape"
   ]
  },
  {
   "cell_type": "code",
   "execution_count": null,
   "metadata": {
    "ExecuteTime": {
     "end_time": "2018-09-13T08:33:54.249630Z",
     "start_time": "2018-09-13T08:33:54.213628Z"
    }
   },
   "outputs": [],
   "source": [
    "X2=X[used_la_coef]"
   ]
  },
  {
   "cell_type": "code",
   "execution_count": null,
   "metadata": {
    "ExecuteTime": {
     "end_time": "2018-09-13T08:42:27.856007Z",
     "start_time": "2018-09-13T08:42:27.845006Z"
    }
   },
   "outputs": [],
   "source": [
    "def cv_rmse2(model):\n",
    "    rmse=np.sqrt(-cross_val_score(model,X2,y,scoring='neg_mean_squared_error',cv=kfolds))\n",
    "    return rmse"
   ]
  },
  {
   "cell_type": "code",
   "execution_count": null,
   "metadata": {
    "ExecuteTime": {
     "end_time": "2018-09-13T09:05:45.616954Z",
     "start_time": "2018-09-13T09:01:27.889213Z"
    }
   },
   "outputs": [],
   "source": [
    "r_alpha2=pd.Series(np.arange(10,12,0.1)).apply(lambda x:round(x,1))\n",
    "# r_alpha=np.arange(1,15,1)\n",
    "ridge_model=make_pipeline(RobustScaler(),\n",
    "                         RidgeCV(alphas=r_alpha2.tolist(),cv=kfolds)).fit(X2,y)\n",
    "cv_rmse2(ridge_model).mean()"
   ]
  },
  {
   "cell_type": "code",
   "execution_count": null,
   "metadata": {
    "ExecuteTime": {
     "end_time": "2018-09-13T09:22:45.110266Z",
     "start_time": "2018-09-13T09:22:45.097265Z"
    }
   },
   "outputs": [],
   "source": [
    "ridge_model.steps[1][1].alpha_"
   ]
  },
  {
   "cell_type": "code",
   "execution_count": null,
   "metadata": {
    "ExecuteTime": {
     "end_time": "2018-09-13T09:25:17.973009Z",
     "start_time": "2018-09-13T09:24:33.857486Z"
    }
   },
   "outputs": [],
   "source": [
    "l_alpha2 = [0.00001,0.00002,0.00003,0.00004,0.00005, 0.0001, 0.0002, 0.0003, 0.0004, 0.0005,\n",
    "           0.0006, 0.0007, 0.0008]\n",
    "\n",
    "lasso_model=make_pipeline(RobustScaler(),\n",
    "                         LassoCV(alphas=l_alpha2,max_iter=1e5,cv=kfolds)).fit(X2,y)\n",
    "cv_rmse2(lasso_model).mean()"
   ]
  },
  {
   "cell_type": "code",
   "execution_count": null,
   "metadata": {
    "ExecuteTime": {
     "end_time": "2018-09-13T09:28:03.359469Z",
     "start_time": "2018-09-13T09:28:03.347468Z"
    }
   },
   "outputs": [],
   "source": [
    "lasso_model.steps[1][1].alpha_"
   ]
  },
  {
   "cell_type": "code",
   "execution_count": null,
   "metadata": {
    "ExecuteTime": {
     "end_time": "2018-09-13T09:46:36.166118Z",
     "start_time": "2018-09-13T09:43:00.344773Z"
    }
   },
   "outputs": [],
   "source": [
    "from sklearn.linear_model import ElasticNetCV\n",
    "\n",
    "e_alphas = [0.00001,0.00005,0.0001, 0.0002, 0.0003, 0.0004, 0.0005, 0.0006, 0.0007]\n",
    "e_l1ratio = [0.1,0.2,0.3,0.4,0.5,0.6,0.7,0.8, 0.85, 0.9, 0.95, 0.99, 1]\n",
    "\n",
    "elastic_cv=make_pipeline(RobustScaler(),\n",
    "                        ElasticNetCV(max_iter=1e5,alphas=e_alphas,l1_ratio=e_l1ratio,cv=kfolds)).fit(X2,y)\n",
    "cv_rmse2(elastic_cv).mean()"
   ]
  },
  {
   "cell_type": "code",
   "execution_count": null,
   "metadata": {
    "ExecuteTime": {
     "end_time": "2018-09-13T09:46:36.171118Z",
     "start_time": "2018-09-13T09:46:36.167118Z"
    }
   },
   "outputs": [],
   "source": [
    "elastic_cv.steps[1][1].alpha_"
   ]
  },
  {
   "cell_type": "code",
   "execution_count": null,
   "metadata": {
    "ExecuteTime": {
     "end_time": "2018-09-13T09:42:30.265053Z",
     "start_time": "2018-09-13T09:42:30.256052Z"
    }
   },
   "outputs": [],
   "source": [
    "elastic_cv.steps[1][1].l1_ratio_"
   ]
  },
  {
   "cell_type": "code",
   "execution_count": null,
   "metadata": {
    "ExecuteTime": {
     "end_time": "2018-09-13T09:48:47.473628Z",
     "start_time": "2018-09-13T09:48:47.146609Z"
    }
   },
   "outputs": [],
   "source": [
    "from lightgbm import LGBMRegressor\n",
    "\n",
    "lgbm_model = LGBMRegressor(objective='regression',num_leaves=5,\n",
    "                              learning_rate=0.05, n_estimators=720,\n",
    "                              max_bin = 55, bagging_fraction = 0.8,\n",
    "                              bagging_freq = 5, feature_fraction = 0.2319,\n",
    "                              feature_fraction_seed=9, bagging_seed=9,\n",
    "                              min_data_in_leaf =6, min_sum_hessian_in_leaf = 11)"
   ]
  },
  {
   "cell_type": "code",
   "execution_count": null,
   "metadata": {
    "ExecuteTime": {
     "end_time": "2018-09-13T09:48:59.232301Z",
     "start_time": "2018-09-13T09:48:48.529688Z"
    }
   },
   "outputs": [],
   "source": [
    "cv_rmse(lgbm_model).mean()"
   ]
  },
  {
   "cell_type": "code",
   "execution_count": null,
   "metadata": {
    "ExecuteTime": {
     "end_time": "2018-09-13T09:49:46.393998Z",
     "start_time": "2018-09-13T09:49:34.587323Z"
    }
   },
   "outputs": [],
   "source": [
    "cv_rmse2(lgbm_model).mean()"
   ]
  },
  {
   "cell_type": "code",
   "execution_count": null,
   "metadata": {
    "ExecuteTime": {
     "end_time": "2018-09-13T09:51:06.116558Z",
     "start_time": "2018-09-13T09:51:06.108557Z"
    }
   },
   "outputs": [],
   "source": [
    "np.expm1(0.381)"
   ]
  },
  {
   "cell_type": "code",
   "execution_count": null,
   "metadata": {
    "ExecuteTime": {
     "end_time": "2018-09-13T14:13:47.856078Z",
     "start_time": "2018-09-13T14:13:47.198040Z"
    }
   },
   "outputs": [],
   "source": [
    "import xgboost as xgb\n",
    "from xgboost import XGBRegressor\n",
    "xgb3 = XGBRegressor(learning_rate =0.01, n_estimators=3460, max_depth=3,\n",
    "                     min_child_weight=0 ,gamma=0, subsample=0.7,\n",
    "                     colsample_bytree=0.7,objective= 'reg:linear',\n",
    "                     nthread=4,scale_pos_weight=1,seed=27, reg_alpha=0.00006)\n",
    "\n"
   ]
  },
  {
   "cell_type": "code",
   "execution_count": null,
   "metadata": {
    "ExecuteTime": {
     "end_time": "2018-09-13T15:20:47.053963Z",
     "start_time": "2018-09-13T15:03:58.505277Z"
    }
   },
   "outputs": [],
   "source": [
    "cv_rmse(xgb3).mean()"
   ]
  },
  {
   "cell_type": "code",
   "execution_count": null,
   "metadata": {
    "ExecuteTime": {
     "end_time": "2018-09-13T14:53:25.745085Z",
     "start_time": "2018-09-13T14:39:02.021683Z"
    }
   },
   "outputs": [],
   "source": [
    "cv_rmse2(xgb3).mean()"
   ]
  },
  {
   "cell_type": "code",
   "execution_count": null,
   "metadata": {
    "ExecuteTime": {
     "end_time": "2018-09-14T01:06:09.539854Z",
     "start_time": "2018-09-14T01:04:18.759518Z"
    }
   },
   "outputs": [],
   "source": [
    "xgb_fit=xgb3.fit(X,y)"
   ]
  },
  {
   "cell_type": "code",
   "execution_count": null,
   "metadata": {},
   "outputs": [],
   "source": []
  },
  {
   "cell_type": "code",
   "execution_count": null,
   "metadata": {},
   "outputs": [],
   "source": []
  },
  {
   "cell_type": "code",
   "execution_count": null,
   "metadata": {},
   "outputs": [],
   "source": []
  }
 ],
 "metadata": {
  "kernelspec": {
   "display_name": "Python 3",
   "language": "python",
   "name": "python3"
  },
  "language_info": {
   "codemirror_mode": {
    "name": "ipython",
    "version": 3
   },
   "file_extension": ".py",
   "mimetype": "text/x-python",
   "name": "python",
   "nbconvert_exporter": "python",
   "pygments_lexer": "ipython3",
   "version": "3.6.3"
  }
 },
 "nbformat": 4,
 "nbformat_minor": 2
}
