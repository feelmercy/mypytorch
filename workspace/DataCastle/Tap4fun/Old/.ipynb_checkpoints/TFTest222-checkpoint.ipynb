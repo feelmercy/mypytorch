{
 "cells": [
  {
   "cell_type": "code",
   "execution_count": 1,
   "metadata": {
    "ExecuteTime": {
     "end_time": "2018-07-02T02:35:57.207558Z",
     "start_time": "2018-07-02T02:35:56.781934Z"
    },
    "collapsed": true
   },
   "outputs": [],
   "source": [
    "import pandas as pd\n",
    "import numpy as np"
   ]
  },
  {
   "cell_type": "code",
   "execution_count": 2,
   "metadata": {
    "ExecuteTime": {
     "end_time": "2018-07-02T02:35:57.242560Z",
     "start_time": "2018-07-02T02:35:57.208558Z"
    },
    "collapsed": true
   },
   "outputs": [],
   "source": [
    "df_train=pd.read_csv('F:\\\\study\\\\ml\\\\DataSet\\\\Tap4fun\\\\tap_fun_train.csv',nrows=5)"
   ]
  },
  {
   "cell_type": "code",
   "execution_count": 3,
   "metadata": {
    "ExecuteTime": {
     "end_time": "2018-07-02T02:35:57.361567Z",
     "start_time": "2018-07-02T02:35:57.244560Z"
    }
   },
   "outputs": [
    {
     "name": "stdout",
     "output_type": "stream",
     "text": [
      "<class 'pandas.core.frame.DataFrame'>\n",
      "RangeIndex: 5 entries, 0 to 4\n",
      "Columns: 109 entries, user_id to prediction_pay_price\n",
      "dtypes: float64(13), int64(95), object(1)\n",
      "memory usage: 4.7 KB\n"
     ]
    }
   ],
   "source": [
    "df_train.info(memory_usage='deep')"
   ]
  },
  {
   "cell_type": "code",
   "execution_count": 4,
   "metadata": {
    "ExecuteTime": {
     "end_time": "2018-07-02T02:35:57.475573Z",
     "start_time": "2018-07-02T02:35:57.363567Z"
    },
    "collapsed": true
   },
   "outputs": [],
   "source": [
    "c_int=df_train.select_dtypes(include=['int64']).apply(pd.to_numeric,downcast='unsigned')\n",
    "c_float=df_train.select_dtypes(include=['float']).apply(pd.to_numeric,downcast='float')"
   ]
  },
  {
   "cell_type": "code",
   "execution_count": 5,
   "metadata": {
    "ExecuteTime": {
     "end_time": "2018-07-02T02:35:57.617581Z",
     "start_time": "2018-07-02T02:35:57.477573Z"
    },
    "collapsed": true
   },
   "outputs": [],
   "source": [
    "o_df=df_train.copy()"
   ]
  },
  {
   "cell_type": "code",
   "execution_count": 6,
   "metadata": {
    "ExecuteTime": {
     "end_time": "2018-07-02T02:35:57.912598Z",
     "start_time": "2018-07-02T02:35:57.618581Z"
    },
    "collapsed": true
   },
   "outputs": [],
   "source": [
    "o_df[c_int.columns]=c_int\n",
    "o_df[c_float.columns]=c_float"
   ]
  },
  {
   "cell_type": "code",
   "execution_count": 7,
   "metadata": {
    "ExecuteTime": {
     "end_time": "2018-07-02T02:35:57.975602Z",
     "start_time": "2018-07-02T02:35:57.913598Z"
    },
    "collapsed": true
   },
   "outputs": [],
   "source": [
    "dtypes=o_df.dtypes\n",
    "dtypes_col=dtypes.index\n",
    "dtypes_type=[i.name for i in dtypes.values]\n",
    "column_type=dict(zip(dtypes_col,dtypes_type))"
   ]
  },
  {
   "cell_type": "code",
   "execution_count": 8,
   "metadata": {
    "ExecuteTime": {
     "end_time": "2018-07-02T02:35:58.065607Z",
     "start_time": "2018-07-02T02:35:57.976602Z"
    },
    "collapsed": true
   },
   "outputs": [],
   "source": [
    "#column_type"
   ]
  },
  {
   "cell_type": "code",
   "execution_count": 9,
   "metadata": {
    "ExecuteTime": {
     "end_time": "2018-07-02T02:35:58.179614Z",
     "start_time": "2018-07-02T02:35:58.066607Z"
    }
   },
   "outputs": [
    {
     "data": {
      "text/plain": [
       "'object'"
      ]
     },
     "execution_count": 9,
     "metadata": {},
     "output_type": "execute_result"
    }
   ],
   "source": [
    "column_type.pop('register_time')"
   ]
  },
  {
   "cell_type": "code",
   "execution_count": 10,
   "metadata": {
    "ExecuteTime": {
     "end_time": "2018-07-02T02:36:20.557894Z",
     "start_time": "2018-07-02T02:35:58.181614Z"
    },
    "collapsed": true
   },
   "outputs": [],
   "source": [
    "data_train=pd.read_csv('F:\\\\study\\\\ml\\\\DataSet\\\\Tap4fun\\\\tap_fun_train.csv',\n",
    "                      dtype=column_type,parse_dates=['register_time'],infer_datetime_format=True)"
   ]
  },
  {
   "cell_type": "code",
   "execution_count": 11,
   "metadata": {
    "ExecuteTime": {
     "end_time": "2018-07-02T02:36:20.571894Z",
     "start_time": "2018-07-02T02:36:20.559894Z"
    }
   },
   "outputs": [
    {
     "name": "stdout",
     "output_type": "stream",
     "text": [
      "<class 'pandas.core.frame.DataFrame'>\n",
      "RangeIndex: 2288007 entries, 0 to 2288006\n",
      "Columns: 109 entries, user_id to prediction_pay_price\n",
      "dtypes: datetime64[ns](1), float32(13), uint16(1), uint8(94)\n",
      "memory usage: 340.4 MB\n"
     ]
    }
   ],
   "source": [
    "data_train.info(memory_usage='deep')"
   ]
  },
  {
   "cell_type": "code",
   "execution_count": 12,
   "metadata": {
    "ExecuteTime": {
     "end_time": "2018-07-02T02:36:27.585295Z",
     "start_time": "2018-07-02T02:36:20.575895Z"
    },
    "collapsed": true
   },
   "outputs": [],
   "source": [
    "data_test=pd.read_csv('F:\\\\study\\\\ml\\\\DataSet\\\\Tap4fun\\\\tap_fun_test.csv',\n",
    "                      dtype=column_type,parse_dates=['register_time'],infer_datetime_format=True)"
   ]
  },
  {
   "cell_type": "code",
   "execution_count": 13,
   "metadata": {
    "ExecuteTime": {
     "end_time": "2018-07-02T02:36:27.596296Z",
     "start_time": "2018-07-02T02:36:27.587296Z"
    }
   },
   "outputs": [
    {
     "name": "stdout",
     "output_type": "stream",
     "text": [
      "<class 'pandas.core.frame.DataFrame'>\n",
      "RangeIndex: 828934 entries, 0 to 828933\n",
      "Columns: 108 entries, user_id to pay_count\n",
      "dtypes: datetime64[ns](1), float32(12), uint16(1), uint8(94)\n",
      "memory usage: 120.2 MB\n"
     ]
    }
   ],
   "source": [
    "data_test.info(memory_usage='deep')"
   ]
  },
  {
   "cell_type": "code",
   "execution_count": 14,
   "metadata": {
    "ExecuteTime": {
     "end_time": "2018-07-02T02:36:27.670300Z",
     "start_time": "2018-07-02T02:36:27.598296Z"
    },
    "collapsed": true
   },
   "outputs": [],
   "source": [
    "train_feat=data_train\n",
    "test_feat=data_test\n"
   ]
  },
  {
   "cell_type": "code",
   "execution_count": 15,
   "metadata": {
    "ExecuteTime": {
     "end_time": "2018-07-02T02:36:27.755305Z",
     "start_time": "2018-07-02T02:36:27.671300Z"
    }
   },
   "outputs": [
    {
     "data": {
      "text/plain": [
       "(2288007, 109)"
      ]
     },
     "execution_count": 15,
     "metadata": {},
     "output_type": "execute_result"
    }
   ],
   "source": [
    "train_feat.shape"
   ]
  },
  {
   "cell_type": "code",
   "execution_count": 16,
   "metadata": {
    "ExecuteTime": {
     "end_time": "2018-07-02T02:36:27.964317Z",
     "start_time": "2018-07-02T02:36:27.756305Z"
    },
    "collapsed": true
   },
   "outputs": [],
   "source": [
    "label_train=train_feat['prediction_pay_price']"
   ]
  },
  {
   "cell_type": "code",
   "execution_count": 17,
   "metadata": {
    "ExecuteTime": {
     "end_time": "2018-07-02T02:36:28.054322Z",
     "start_time": "2018-07-02T02:36:27.967317Z"
    },
    "collapsed": true
   },
   "outputs": [],
   "source": [
    "label_test=test_feat['wood_add_value']"
   ]
  },
  {
   "cell_type": "code",
   "execution_count": 18,
   "metadata": {
    "ExecuteTime": {
     "end_time": "2018-07-02T02:36:28.193330Z",
     "start_time": "2018-07-02T02:36:28.055322Z"
    }
   },
   "outputs": [
    {
     "name": "stderr",
     "output_type": "stream",
     "text": [
      "D:\\ProgramData\\Anaconda3\\lib\\site-packages\\ipykernel_launcher.py:1: SettingWithCopyWarning: \n",
      "A value is trying to be set on a copy of a slice from a DataFrame\n",
      "\n",
      "See the caveats in the documentation: http://pandas.pydata.org/pandas-docs/stable/indexing.html#indexing-view-versus-copy\n",
      "  \"\"\"Entry point for launching an IPython kernel.\n"
     ]
    }
   ],
   "source": [
    "label_test[:]=-999.0"
   ]
  },
  {
   "cell_type": "code",
   "execution_count": 19,
   "metadata": {
    "ExecuteTime": {
     "end_time": "2018-07-02T02:36:28.254334Z",
     "start_time": "2018-07-02T02:36:28.195330Z"
    },
    "collapsed": true
   },
   "outputs": [],
   "source": [
    "#train_feat=train_feat.drop(['prediction_pay_price'],axis=1)"
   ]
  },
  {
   "cell_type": "code",
   "execution_count": 20,
   "metadata": {
    "ExecuteTime": {
     "end_time": "2018-07-02T02:36:28.347339Z",
     "start_time": "2018-07-02T02:36:28.255334Z"
    }
   },
   "outputs": [
    {
     "data": {
      "text/plain": [
       "(2288007, 109)"
      ]
     },
     "execution_count": 20,
     "metadata": {},
     "output_type": "execute_result"
    }
   ],
   "source": [
    "train_feat.shape"
   ]
  },
  {
   "cell_type": "code",
   "execution_count": 21,
   "metadata": {
    "ExecuteTime": {
     "end_time": "2018-07-02T02:36:28.430344Z",
     "start_time": "2018-07-02T02:36:28.349339Z"
    }
   },
   "outputs": [
    {
     "data": {
      "text/plain": [
       "(828934, 108)"
      ]
     },
     "execution_count": 21,
     "metadata": {},
     "output_type": "execute_result"
    }
   ],
   "source": [
    "test_feat.shape"
   ]
  },
  {
   "cell_type": "code",
   "execution_count": 22,
   "metadata": {
    "ExecuteTime": {
     "end_time": "2018-07-02T02:36:28.520349Z",
     "start_time": "2018-07-02T02:36:28.431344Z"
    },
    "collapsed": true
   },
   "outputs": [],
   "source": [
    "#train_coorr1=train_feat.corr()"
   ]
  },
  {
   "cell_type": "code",
   "execution_count": 23,
   "metadata": {
    "ExecuteTime": {
     "end_time": "2018-07-02T02:36:28.606354Z",
     "start_time": "2018-07-02T02:36:28.521349Z"
    },
    "collapsed": true
   },
   "outputs": [],
   "source": [
    "#train_coorr1['prediction_pay_price'].sort_values(ascending=False).head(40)"
   ]
  },
  {
   "cell_type": "code",
   "execution_count": 24,
   "metadata": {
    "ExecuteTime": {
     "end_time": "2018-07-02T02:36:28.688359Z",
     "start_time": "2018-07-02T02:36:28.609354Z"
    },
    "collapsed": true
   },
   "outputs": [],
   "source": [
    "train_feat2=train_feat\n",
    "test_feat2=test_feat"
   ]
  },
  {
   "cell_type": "code",
   "execution_count": 25,
   "metadata": {
    "ExecuteTime": {
     "end_time": "2018-07-02T02:36:28.781364Z",
     "start_time": "2018-07-02T02:36:28.689359Z"
    },
    "collapsed": true
   },
   "outputs": [],
   "source": [
    "#train_feat=train_feat.drop(labels=['ivory_qua1','ivory_qua2'],axis=1)\n",
    "#train_feat2=train_feat.drop(labels=['ivory_qua1','ivory_qua2'],axis=1)"
   ]
  },
  {
   "cell_type": "code",
   "execution_count": 26,
   "metadata": {
    "ExecuteTime": {
     "end_time": "2018-07-02T02:36:28.870369Z",
     "start_time": "2018-07-02T02:36:28.784364Z"
    },
    "collapsed": true
   },
   "outputs": [],
   "source": [
    "train_feat2['ivory_qua1']=train_feat.ivory_add_value+train_feat.ivory_reduce_value\n",
    "train_feat2['ivory_qua2']=train_feat.ivory_add_value-train_feat.ivory_reduce_value"
   ]
  },
  {
   "cell_type": "code",
   "execution_count": 27,
   "metadata": {
    "ExecuteTime": {
     "end_time": "2018-07-02T02:36:28.988376Z",
     "start_time": "2018-07-02T02:36:28.871369Z"
    },
    "collapsed": true
   },
   "outputs": [],
   "source": [
    "train_feat2['stone_qua1']=train_feat.stone_add_value+train_feat.stone_reduce_value\n",
    "train_feat2['stone_qua2']=train_feat.stone_add_value-train_feat.stone_reduce_value"
   ]
  },
  {
   "cell_type": "code",
   "execution_count": 28,
   "metadata": {
    "ExecuteTime": {
     "end_time": "2018-07-02T02:36:29.104382Z",
     "start_time": "2018-07-02T02:36:28.990376Z"
    },
    "collapsed": true
   },
   "outputs": [],
   "source": [
    "train_feat2['meat_qua1']=train_feat.meat_add_value+train_feat.meat_reduce_value\n",
    "train_feat2['meat_qua2']=train_feat.meat_add_value-train_feat.meat_reduce_value"
   ]
  },
  {
   "cell_type": "code",
   "execution_count": 29,
   "metadata": {
    "ExecuteTime": {
     "end_time": "2018-07-02T02:36:29.194387Z",
     "start_time": "2018-07-02T02:36:29.106382Z"
    },
    "collapsed": true
   },
   "outputs": [],
   "source": [
    "train_feat2['wood_qua1']=train_feat.wood_add_value+train_feat.wood_reduce_value\n",
    "train_feat2['wood_qua2']=train_feat.wood_add_value-train_feat.wood_reduce_value"
   ]
  },
  {
   "cell_type": "code",
   "execution_count": 30,
   "metadata": {
    "ExecuteTime": {
     "end_time": "2018-07-02T02:36:29.288393Z",
     "start_time": "2018-07-02T02:36:29.195388Z"
    },
    "collapsed": true
   },
   "outputs": [],
   "source": [
    "# for test feat\n",
    "test_feat2['ivory_qua1']=test_feat.ivory_add_value+test_feat.ivory_reduce_value\n",
    "test_feat2['ivory_qua2']=test_feat.ivory_add_value-test_feat.ivory_reduce_value\n",
    "test_feat2['stone_qua1']=test_feat.stone_add_value+test_feat.stone_reduce_value\n",
    "test_feat2['stone_qua2']=test_feat.stone_add_value-test_feat.stone_reduce_value\n",
    "test_feat2['meat_qua1']=test_feat.meat_add_value+test_feat.meat_reduce_value\n",
    "test_feat2['meat_qua2']=test_feat.meat_add_value-test_feat.meat_reduce_value\n",
    "test_feat2['wood_qua1']=test_feat.wood_add_value+test_feat.wood_reduce_value\n",
    "test_feat2['wood_qua2']=test_feat.wood_add_value-test_feat.wood_reduce_value"
   ]
  },
  {
   "cell_type": "code",
   "execution_count": 31,
   "metadata": {
    "ExecuteTime": {
     "end_time": "2018-07-02T02:36:29.356397Z",
     "start_time": "2018-07-02T02:36:29.289393Z"
    }
   },
   "outputs": [
    {
     "data": {
      "text/plain": [
       "(2288007, 117)"
      ]
     },
     "execution_count": 31,
     "metadata": {},
     "output_type": "execute_result"
    }
   ],
   "source": [
    "train_feat.shape"
   ]
  },
  {
   "cell_type": "code",
   "execution_count": 32,
   "metadata": {
    "ExecuteTime": {
     "end_time": "2018-07-02T02:36:29.448402Z",
     "start_time": "2018-07-02T02:36:29.358397Z"
    }
   },
   "outputs": [
    {
     "data": {
      "text/plain": [
       "(2288007, 117)"
      ]
     },
     "execution_count": 32,
     "metadata": {},
     "output_type": "execute_result"
    }
   ],
   "source": [
    "train_feat2.shape"
   ]
  },
  {
   "cell_type": "code",
   "execution_count": 33,
   "metadata": {
    "ExecuteTime": {
     "end_time": "2018-07-02T02:36:29.530407Z",
     "start_time": "2018-07-02T02:36:29.449402Z"
    }
   },
   "outputs": [
    {
     "data": {
      "text/plain": [
       "(828934, 116)"
      ]
     },
     "execution_count": 33,
     "metadata": {},
     "output_type": "execute_result"
    }
   ],
   "source": [
    "test_feat2.shape"
   ]
  },
  {
   "cell_type": "code",
   "execution_count": 34,
   "metadata": {
    "ExecuteTime": {
     "end_time": "2018-07-02T02:36:29.613411Z",
     "start_time": "2018-07-02T02:36:29.531407Z"
    },
    "collapsed": true
   },
   "outputs": [],
   "source": [
    "#train_corr2=train_feat2.corr()"
   ]
  },
  {
   "cell_type": "code",
   "execution_count": 35,
   "metadata": {
    "ExecuteTime": {
     "end_time": "2018-07-02T02:36:29.679415Z",
     "start_time": "2018-07-02T02:36:29.614412Z"
    },
    "collapsed": true
   },
   "outputs": [],
   "source": [
    "#train_corr2['prediction_pay_price'].sort_values(ascending=False).head(40)"
   ]
  },
  {
   "cell_type": "code",
   "execution_count": 36,
   "metadata": {
    "ExecuteTime": {
     "end_time": "2018-07-02T02:36:29.800422Z",
     "start_time": "2018-07-02T02:36:29.680415Z"
    },
    "collapsed": true
   },
   "outputs": [],
   "source": [
    "import re"
   ]
  },
  {
   "cell_type": "code",
   "execution_count": 37,
   "metadata": {
    "ExecuteTime": {
     "end_time": "2018-07-02T02:36:29.889427Z",
     "start_time": "2018-07-02T02:36:29.805422Z"
    },
    "scrolled": true
   },
   "outputs": [
    {
     "data": {
      "text/plain": [
       "array(['sr_troop_defense_level', 'sr_infantry_def_level',\n",
       "       'sr_cavalry_def_level', 'sr_shaman_def_level'], dtype=object)"
      ]
     },
     "execution_count": 37,
     "metadata": {},
     "output_type": "execute_result"
    }
   ],
   "source": [
    "train_feat2.columns.values[pd.Series(train_feat2.columns.values).str.contains('def')]"
   ]
  },
  {
   "cell_type": "code",
   "execution_count": 38,
   "metadata": {
    "ExecuteTime": {
     "end_time": "2018-07-02T02:36:29.990433Z",
     "start_time": "2018-07-02T02:36:29.891427Z"
    }
   },
   "outputs": [
    {
     "data": {
      "text/plain": [
       "pandas.core.series.Series"
      ]
     },
     "execution_count": 38,
     "metadata": {},
     "output_type": "execute_result"
    }
   ],
   "source": [
    "type(pd.Series(train_feat2.columns.values).str.contains('def'))"
   ]
  },
  {
   "cell_type": "code",
   "execution_count": 39,
   "metadata": {
    "ExecuteTime": {
     "end_time": "2018-07-02T02:36:30.106440Z",
     "start_time": "2018-07-02T02:36:29.991433Z"
    },
    "collapsed": true
   },
   "outputs": [],
   "source": [
    "#del text"
   ]
  },
  {
   "cell_type": "code",
   "execution_count": 40,
   "metadata": {
    "ExecuteTime": {
     "end_time": "2018-07-02T02:36:30.180444Z",
     "start_time": "2018-07-02T02:36:30.109440Z"
    },
    "collapsed": true,
    "scrolled": true
   },
   "outputs": [],
   "source": [
    "text_def=[]\n",
    "for col in train_feat2.columns.values:\n",
    "     if 'def' in col:\n",
    "            text_def.append(col)"
   ]
  },
  {
   "cell_type": "code",
   "execution_count": 41,
   "metadata": {
    "ExecuteTime": {
     "end_time": "2018-07-02T02:36:30.291450Z",
     "start_time": "2018-07-02T02:36:30.182444Z"
    }
   },
   "outputs": [
    {
     "data": {
      "text/plain": [
       "['sr_troop_defense_level',\n",
       " 'sr_infantry_def_level',\n",
       " 'sr_cavalry_def_level',\n",
       " 'sr_shaman_def_level']"
      ]
     },
     "execution_count": 41,
     "metadata": {},
     "output_type": "execute_result"
    }
   ],
   "source": [
    "text_def"
   ]
  },
  {
   "cell_type": "code",
   "execution_count": 42,
   "metadata": {
    "ExecuteTime": {
     "end_time": "2018-07-02T02:36:30.382455Z",
     "start_time": "2018-07-02T02:36:30.293450Z"
    }
   },
   "outputs": [
    {
     "data": {
      "text/html": [
       "<div>\n",
       "<style>\n",
       "    .dataframe thead tr:only-child th {\n",
       "        text-align: right;\n",
       "    }\n",
       "\n",
       "    .dataframe thead th {\n",
       "        text-align: left;\n",
       "    }\n",
       "\n",
       "    .dataframe tbody tr th {\n",
       "        vertical-align: top;\n",
       "    }\n",
       "</style>\n",
       "<table border=\"1\" class=\"dataframe\">\n",
       "  <thead>\n",
       "    <tr style=\"text-align: right;\">\n",
       "      <th></th>\n",
       "      <th>user_id</th>\n",
       "      <th>register_time</th>\n",
       "      <th>wood_add_value</th>\n",
       "      <th>wood_reduce_value</th>\n",
       "      <th>stone_add_value</th>\n",
       "      <th>stone_reduce_value</th>\n",
       "      <th>ivory_add_value</th>\n",
       "      <th>ivory_reduce_value</th>\n",
       "      <th>meat_add_value</th>\n",
       "      <th>meat_reduce_value</th>\n",
       "      <th>...</th>\n",
       "      <th>pay_count</th>\n",
       "      <th>prediction_pay_price</th>\n",
       "      <th>ivory_qua1</th>\n",
       "      <th>ivory_qua2</th>\n",
       "      <th>stone_qua1</th>\n",
       "      <th>stone_qua2</th>\n",
       "      <th>meat_qua1</th>\n",
       "      <th>meat_qua2</th>\n",
       "      <th>wood_qua1</th>\n",
       "      <th>wood_qua2</th>\n",
       "    </tr>\n",
       "  </thead>\n",
       "  <tbody>\n",
       "    <tr>\n",
       "      <th>0</th>\n",
       "      <td>1</td>\n",
       "      <td>2018-02-02 19:47:15</td>\n",
       "      <td>20125.0</td>\n",
       "      <td>3700.0</td>\n",
       "      <td>0.0</td>\n",
       "      <td>0.0</td>\n",
       "      <td>0.0</td>\n",
       "      <td>0.0</td>\n",
       "      <td>16375.0</td>\n",
       "      <td>2000.0</td>\n",
       "      <td>...</td>\n",
       "      <td>0</td>\n",
       "      <td>0.0</td>\n",
       "      <td>0.0</td>\n",
       "      <td>0.0</td>\n",
       "      <td>0.0</td>\n",
       "      <td>0.0</td>\n",
       "      <td>18375.0</td>\n",
       "      <td>14375.0</td>\n",
       "      <td>23825.0</td>\n",
       "      <td>16425.0</td>\n",
       "    </tr>\n",
       "    <tr>\n",
       "      <th>1</th>\n",
       "      <td>1593</td>\n",
       "      <td>2018-01-26 00:01:05</td>\n",
       "      <td>0.0</td>\n",
       "      <td>0.0</td>\n",
       "      <td>0.0</td>\n",
       "      <td>0.0</td>\n",
       "      <td>0.0</td>\n",
       "      <td>0.0</td>\n",
       "      <td>0.0</td>\n",
       "      <td>0.0</td>\n",
       "      <td>...</td>\n",
       "      <td>0</td>\n",
       "      <td>0.0</td>\n",
       "      <td>0.0</td>\n",
       "      <td>0.0</td>\n",
       "      <td>0.0</td>\n",
       "      <td>0.0</td>\n",
       "      <td>0.0</td>\n",
       "      <td>0.0</td>\n",
       "      <td>0.0</td>\n",
       "      <td>0.0</td>\n",
       "    </tr>\n",
       "    <tr>\n",
       "      <th>2</th>\n",
       "      <td>1594</td>\n",
       "      <td>2018-01-26 00:01:58</td>\n",
       "      <td>0.0</td>\n",
       "      <td>0.0</td>\n",
       "      <td>0.0</td>\n",
       "      <td>0.0</td>\n",
       "      <td>0.0</td>\n",
       "      <td>0.0</td>\n",
       "      <td>0.0</td>\n",
       "      <td>0.0</td>\n",
       "      <td>...</td>\n",
       "      <td>0</td>\n",
       "      <td>0.0</td>\n",
       "      <td>0.0</td>\n",
       "      <td>0.0</td>\n",
       "      <td>0.0</td>\n",
       "      <td>0.0</td>\n",
       "      <td>0.0</td>\n",
       "      <td>0.0</td>\n",
       "      <td>0.0</td>\n",
       "      <td>0.0</td>\n",
       "    </tr>\n",
       "    <tr>\n",
       "      <th>3</th>\n",
       "      <td>1595</td>\n",
       "      <td>2018-01-26 00:02:13</td>\n",
       "      <td>0.0</td>\n",
       "      <td>0.0</td>\n",
       "      <td>0.0</td>\n",
       "      <td>0.0</td>\n",
       "      <td>0.0</td>\n",
       "      <td>0.0</td>\n",
       "      <td>0.0</td>\n",
       "      <td>0.0</td>\n",
       "      <td>...</td>\n",
       "      <td>0</td>\n",
       "      <td>0.0</td>\n",
       "      <td>0.0</td>\n",
       "      <td>0.0</td>\n",
       "      <td>0.0</td>\n",
       "      <td>0.0</td>\n",
       "      <td>0.0</td>\n",
       "      <td>0.0</td>\n",
       "      <td>0.0</td>\n",
       "      <td>0.0</td>\n",
       "    </tr>\n",
       "    <tr>\n",
       "      <th>4</th>\n",
       "      <td>1596</td>\n",
       "      <td>2018-01-26 00:02:46</td>\n",
       "      <td>0.0</td>\n",
       "      <td>0.0</td>\n",
       "      <td>0.0</td>\n",
       "      <td>0.0</td>\n",
       "      <td>0.0</td>\n",
       "      <td>0.0</td>\n",
       "      <td>0.0</td>\n",
       "      <td>0.0</td>\n",
       "      <td>...</td>\n",
       "      <td>0</td>\n",
       "      <td>0.0</td>\n",
       "      <td>0.0</td>\n",
       "      <td>0.0</td>\n",
       "      <td>0.0</td>\n",
       "      <td>0.0</td>\n",
       "      <td>0.0</td>\n",
       "      <td>0.0</td>\n",
       "      <td>0.0</td>\n",
       "      <td>0.0</td>\n",
       "    </tr>\n",
       "  </tbody>\n",
       "</table>\n",
       "<p>5 rows × 117 columns</p>\n",
       "</div>"
      ],
      "text/plain": [
       "   user_id       register_time  wood_add_value  wood_reduce_value  \\\n",
       "0        1 2018-02-02 19:47:15         20125.0             3700.0   \n",
       "1     1593 2018-01-26 00:01:05             0.0                0.0   \n",
       "2     1594 2018-01-26 00:01:58             0.0                0.0   \n",
       "3     1595 2018-01-26 00:02:13             0.0                0.0   \n",
       "4     1596 2018-01-26 00:02:46             0.0                0.0   \n",
       "\n",
       "   stone_add_value  stone_reduce_value  ivory_add_value  ivory_reduce_value  \\\n",
       "0              0.0                 0.0              0.0                 0.0   \n",
       "1              0.0                 0.0              0.0                 0.0   \n",
       "2              0.0                 0.0              0.0                 0.0   \n",
       "3              0.0                 0.0              0.0                 0.0   \n",
       "4              0.0                 0.0              0.0                 0.0   \n",
       "\n",
       "   meat_add_value  meat_reduce_value    ...      pay_count  \\\n",
       "0         16375.0             2000.0    ...              0   \n",
       "1             0.0                0.0    ...              0   \n",
       "2             0.0                0.0    ...              0   \n",
       "3             0.0                0.0    ...              0   \n",
       "4             0.0                0.0    ...              0   \n",
       "\n",
       "   prediction_pay_price  ivory_qua1  ivory_qua2  stone_qua1  stone_qua2  \\\n",
       "0                   0.0         0.0         0.0         0.0         0.0   \n",
       "1                   0.0         0.0         0.0         0.0         0.0   \n",
       "2                   0.0         0.0         0.0         0.0         0.0   \n",
       "3                   0.0         0.0         0.0         0.0         0.0   \n",
       "4                   0.0         0.0         0.0         0.0         0.0   \n",
       "\n",
       "   meat_qua1  meat_qua2  wood_qua1  wood_qua2  \n",
       "0    18375.0    14375.0    23825.0    16425.0  \n",
       "1        0.0        0.0        0.0        0.0  \n",
       "2        0.0        0.0        0.0        0.0  \n",
       "3        0.0        0.0        0.0        0.0  \n",
       "4        0.0        0.0        0.0        0.0  \n",
       "\n",
       "[5 rows x 117 columns]"
      ]
     },
     "execution_count": 42,
     "metadata": {},
     "output_type": "execute_result"
    }
   ],
   "source": [
    "#train_coorr1.to_csv('F:\\\\study\\\\ml\\\\DataSet\\\\Tap4fun\\\\train_feat_corr.csv')\n",
    "#del feat_def_qua\n",
    "train_feat2.head()"
   ]
  },
  {
   "cell_type": "code",
   "execution_count": 43,
   "metadata": {
    "ExecuteTime": {
     "end_time": "2018-07-02T02:36:30.480461Z",
     "start_time": "2018-07-02T02:36:30.383456Z"
    },
    "collapsed": true
   },
   "outputs": [],
   "source": [
    "text_def=[]\n",
    "for col in train_feat2.columns.values:\n",
    "     if 'def' in col:\n",
    "            text_def.append(col)"
   ]
  },
  {
   "cell_type": "code",
   "execution_count": 44,
   "metadata": {
    "ExecuteTime": {
     "end_time": "2018-07-02T02:36:30.564466Z",
     "start_time": "2018-07-02T02:36:30.483461Z"
    }
   },
   "outputs": [
    {
     "data": {
      "text/plain": [
       "['sr_troop_defense_level',\n",
       " 'sr_infantry_def_level',\n",
       " 'sr_cavalry_def_level',\n",
       " 'sr_shaman_def_level']"
      ]
     },
     "execution_count": 44,
     "metadata": {},
     "output_type": "execute_result"
    }
   ],
   "source": [
    "text_def"
   ]
  },
  {
   "cell_type": "code",
   "execution_count": 45,
   "metadata": {
    "ExecuteTime": {
     "end_time": "2018-07-02T02:36:30.696473Z",
     "start_time": "2018-07-02T02:36:30.565466Z"
    }
   },
   "outputs": [
    {
     "data": {
      "text/plain": [
       "list"
      ]
     },
     "execution_count": 45,
     "metadata": {},
     "output_type": "execute_result"
    }
   ],
   "source": [
    "type(text_def)"
   ]
  },
  {
   "cell_type": "code",
   "execution_count": 46,
   "metadata": {
    "ExecuteTime": {
     "end_time": "2018-07-02T02:36:30.971489Z",
     "start_time": "2018-07-02T02:36:30.699474Z"
    },
    "collapsed": true
   },
   "outputs": [],
   "source": [
    "text_troop=[]\n",
    "for col in train_feat2.columns.values:\n",
    "    if 'troop' in col :\n",
    "        text_troop.append(col)"
   ]
  },
  {
   "cell_type": "code",
   "execution_count": 47,
   "metadata": {
    "ExecuteTime": {
     "end_time": "2018-07-02T02:36:31.200502Z",
     "start_time": "2018-07-02T02:36:30.973489Z"
    }
   },
   "outputs": [
    {
     "data": {
      "text/plain": [
       "['sr_troop_defense_level',\n",
       " 'sr_troop_attack_level',\n",
       " 'sr_troop_consumption_level',\n",
       " 'sr_troop_load_level',\n",
       " 'sr_guest_troop_capacity_level']"
      ]
     },
     "execution_count": 47,
     "metadata": {},
     "output_type": "execute_result"
    }
   ],
   "source": [
    "text_troop"
   ]
  },
  {
   "cell_type": "code",
   "execution_count": 48,
   "metadata": {
    "ExecuteTime": {
     "end_time": "2018-07-02T02:36:31.296508Z",
     "start_time": "2018-07-02T02:36:31.201502Z"
    },
    "collapsed": true
   },
   "outputs": [],
   "source": [
    "text_cavalry=[]\n",
    "for col in train_feat2.columns.values:\n",
    "    if 'sr_cavalry' in col :\n",
    "        text_cavalry.append(col)"
   ]
  },
  {
   "cell_type": "code",
   "execution_count": 49,
   "metadata": {
    "ExecuteTime": {
     "end_time": "2018-07-02T02:36:31.398514Z",
     "start_time": "2018-07-02T02:36:31.301508Z"
    }
   },
   "outputs": [
    {
     "data": {
      "text/plain": [
       "['sr_cavalry_tier_2_level',\n",
       " 'sr_cavalry_atk_level',\n",
       " 'sr_cavalry_tier_3_level',\n",
       " 'sr_cavalry_def_level',\n",
       " 'sr_cavalry_hp_level',\n",
       " 'sr_cavalry_tier_4_level']"
      ]
     },
     "execution_count": 49,
     "metadata": {},
     "output_type": "execute_result"
    }
   ],
   "source": [
    "text_cavalry"
   ]
  },
  {
   "cell_type": "code",
   "execution_count": 50,
   "metadata": {
    "ExecuteTime": {
     "end_time": "2018-07-02T02:36:31.468518Z",
     "start_time": "2018-07-02T02:36:31.399514Z"
    },
    "collapsed": true
   },
   "outputs": [],
   "source": [
    "text_infantry=[]\n",
    "for col in train_feat2.columns.values:\n",
    "    if 'sr_infantry' in col :\n",
    "        text_infantry.append(col)"
   ]
  },
  {
   "cell_type": "code",
   "execution_count": 51,
   "metadata": {
    "ExecuteTime": {
     "end_time": "2018-07-02T02:36:31.559523Z",
     "start_time": "2018-07-02T02:36:31.470518Z"
    }
   },
   "outputs": [
    {
     "data": {
      "text/plain": [
       "['sr_infantry_tier_2_level',\n",
       " 'sr_infantry_atk_level',\n",
       " 'sr_infantry_tier_3_level',\n",
       " 'sr_infantry_def_level',\n",
       " 'sr_infantry_hp_level',\n",
       " 'sr_infantry_tier_4_level']"
      ]
     },
     "execution_count": 51,
     "metadata": {},
     "output_type": "execute_result"
    }
   ],
   "source": [
    "text_infantry"
   ]
  },
  {
   "cell_type": "code",
   "execution_count": 52,
   "metadata": {
    "ExecuteTime": {
     "end_time": "2018-07-02T02:36:31.643528Z",
     "start_time": "2018-07-02T02:36:31.561523Z"
    },
    "collapsed": true
   },
   "outputs": [],
   "source": [
    "text_shaman=[]\n",
    "for col in train_feat2.columns.values:\n",
    "    if 'sr_shaman' in col :\n",
    "        text_shaman.append(col)"
   ]
  },
  {
   "cell_type": "code",
   "execution_count": 53,
   "metadata": {
    "ExecuteTime": {
     "end_time": "2018-07-02T02:36:31.767535Z",
     "start_time": "2018-07-02T02:36:31.644528Z"
    }
   },
   "outputs": [
    {
     "data": {
      "text/plain": [
       "['sr_shaman_tier_2_level',\n",
       " 'sr_shaman_atk_level',\n",
       " 'sr_shaman_tier_3_level',\n",
       " 'sr_shaman_def_level',\n",
       " 'sr_shaman_hp_level',\n",
       " 'sr_shaman_tier_4_level']"
      ]
     },
     "execution_count": 53,
     "metadata": {},
     "output_type": "execute_result"
    }
   ],
   "source": [
    "text_shaman"
   ]
  },
  {
   "cell_type": "code",
   "execution_count": 54,
   "metadata": {
    "ExecuteTime": {
     "end_time": "2018-07-02T02:36:31.855540Z",
     "start_time": "2018-07-02T02:36:31.770535Z"
    },
    "collapsed": true
   },
   "outputs": [],
   "source": [
    "text_speed=[]\n",
    "for col in train_feat2.columns.values:\n",
    "    if 'speed' in col :\n",
    "        text_speed.append(col)"
   ]
  },
  {
   "cell_type": "code",
   "execution_count": 55,
   "metadata": {
    "ExecuteTime": {
     "end_time": "2018-07-02T02:36:31.959546Z",
     "start_time": "2018-07-02T02:36:31.856540Z"
    }
   },
   "outputs": [
    {
     "data": {
      "text/plain": [
       "['sr_training_speed_level',\n",
       " 'sr_construction_speed_level',\n",
       " 'sr_healing_speed_level',\n",
       " 'sr_alliance_march_speed_level',\n",
       " 'sr_pvp_march_speed_level',\n",
       " 'sr_gathering_march_speed_level']"
      ]
     },
     "execution_count": 55,
     "metadata": {},
     "output_type": "execute_result"
    }
   ],
   "source": [
    "text_speed"
   ]
  },
  {
   "cell_type": "code",
   "execution_count": 56,
   "metadata": {
    "ExecuteTime": {
     "end_time": "2018-07-02T02:36:32.172558Z",
     "start_time": "2018-07-02T02:36:31.961546Z"
    },
    "collapsed": true
   },
   "outputs": [],
   "source": [
    "train_feat2['def_qua1']=0.0\n",
    "for name in text_def:\n",
    "    train_feat2['def_qua1']+=train_feat2[name]"
   ]
  },
  {
   "cell_type": "code",
   "execution_count": 57,
   "metadata": {
    "ExecuteTime": {
     "end_time": "2018-07-02T02:36:32.176558Z",
     "start_time": "2018-07-02T02:36:32.173558Z"
    },
    "collapsed": true
   },
   "outputs": [],
   "source": [
    "#pd.Series(train_feat2.columns.values) .str.contains('def')"
   ]
  },
  {
   "cell_type": "code",
   "execution_count": 58,
   "metadata": {
    "ExecuteTime": {
     "end_time": "2018-07-02T02:36:32.320566Z",
     "start_time": "2018-07-02T02:36:32.178558Z"
    },
    "collapsed": true
   },
   "outputs": [],
   "source": [
    "#train_feat2[train_feat2.sr_troop_attack_level != 0][train_feat2.columns.values[pd.Series(train_feat2.columns.values) .str.contains('def')]]"
   ]
  },
  {
   "cell_type": "code",
   "execution_count": 59,
   "metadata": {
    "ExecuteTime": {
     "end_time": "2018-07-02T02:36:32.510577Z",
     "start_time": "2018-07-02T02:36:32.324567Z"
    },
    "collapsed": true
   },
   "outputs": [],
   "source": [
    "train_feat2['def_qua1']=0.0\n",
    "for name in text_def:\n",
    "    train_feat2['def_qua1']+=train_feat2[name]"
   ]
  },
  {
   "cell_type": "code",
   "execution_count": 60,
   "metadata": {
    "ExecuteTime": {
     "end_time": "2018-07-02T02:36:32.558580Z",
     "start_time": "2018-07-02T02:36:32.511577Z"
    },
    "collapsed": true
   },
   "outputs": [],
   "source": [
    "test_feat2['def_qua1']=0.0\n",
    "for name in text_def:\n",
    "    test_feat2['def_qua1']+=test_feat2[name]"
   ]
  },
  {
   "cell_type": "code",
   "execution_count": 61,
   "metadata": {
    "ExecuteTime": {
     "end_time": "2018-07-02T02:36:32.736590Z",
     "start_time": "2018-07-02T02:36:32.559580Z"
    },
    "collapsed": true
   },
   "outputs": [],
   "source": [
    "train_feat2['cavalry_qua1']=0.0\n",
    "for name in text_cavalry:\n",
    "    train_feat2['cavalry_qua1']+=train_feat2[name]"
   ]
  },
  {
   "cell_type": "code",
   "execution_count": 62,
   "metadata": {
    "ExecuteTime": {
     "end_time": "2018-07-02T02:36:32.799594Z",
     "start_time": "2018-07-02T02:36:32.738590Z"
    },
    "collapsed": true
   },
   "outputs": [],
   "source": [
    "test_feat2['cavalry_qua1']=0.0\n",
    "for name in text_cavalry:\n",
    "    test_feat2['cavalry_qua1']+=test_feat2[name]"
   ]
  },
  {
   "cell_type": "code",
   "execution_count": 63,
   "metadata": {
    "ExecuteTime": {
     "end_time": "2018-07-02T02:36:32.966603Z",
     "start_time": "2018-07-02T02:36:32.800594Z"
    },
    "collapsed": true
   },
   "outputs": [],
   "source": [
    "train_feat2['infantry_qua1']=0.0\n",
    "for name in text_infantry:\n",
    "    train_feat2['infantry_qua1']+=train_feat2[name]"
   ]
  },
  {
   "cell_type": "code",
   "execution_count": 64,
   "metadata": {
    "ExecuteTime": {
     "end_time": "2018-07-02T02:36:33.029607Z",
     "start_time": "2018-07-02T02:36:32.967603Z"
    },
    "collapsed": true
   },
   "outputs": [],
   "source": [
    "test_feat2['infantry_qua1']=0.0\n",
    "for name in text_infantry:\n",
    "    test_feat2['infantry_qua1']+=test_feat2[name]"
   ]
  },
  {
   "cell_type": "code",
   "execution_count": 65,
   "metadata": {
    "ExecuteTime": {
     "end_time": "2018-07-02T02:36:33.226618Z",
     "start_time": "2018-07-02T02:36:33.030607Z"
    },
    "collapsed": true
   },
   "outputs": [],
   "source": [
    "train_feat2['shaman_qua1']=0.0\n",
    "for name in text_shaman:\n",
    "    train_feat2['shaman_qua1']+=train_feat2[name]"
   ]
  },
  {
   "cell_type": "code",
   "execution_count": 66,
   "metadata": {
    "ExecuteTime": {
     "end_time": "2018-07-02T02:36:33.290622Z",
     "start_time": "2018-07-02T02:36:33.227618Z"
    },
    "collapsed": true
   },
   "outputs": [],
   "source": [
    "test_feat2['shaman_qua1']=0.0\n",
    "for name in text_shaman:\n",
    "    test_feat2['shaman_qua1']+=test_feat2[name]"
   ]
  },
  {
   "cell_type": "code",
   "execution_count": 67,
   "metadata": {
    "ExecuteTime": {
     "end_time": "2018-07-02T02:36:33.457631Z",
     "start_time": "2018-07-02T02:36:33.291622Z"
    },
    "collapsed": true
   },
   "outputs": [],
   "source": [
    "train_feat2['speed_qua1']=0.0\n",
    "for name in text_speed:\n",
    "    train_feat2['speed_qua1']+=train_feat2[name]"
   ]
  },
  {
   "cell_type": "code",
   "execution_count": 68,
   "metadata": {
    "ExecuteTime": {
     "end_time": "2018-07-02T02:36:33.519635Z",
     "start_time": "2018-07-02T02:36:33.458631Z"
    },
    "collapsed": true
   },
   "outputs": [],
   "source": [
    "test_feat2['speed_qua1']=0.0\n",
    "for name in text_speed:\n",
    "    test_feat2['speed_qua1']+=test_feat2[name]"
   ]
  },
  {
   "cell_type": "code",
   "execution_count": 69,
   "metadata": {
    "ExecuteTime": {
     "end_time": "2018-07-02T02:36:33.670644Z",
     "start_time": "2018-07-02T02:36:33.520635Z"
    },
    "collapsed": true
   },
   "outputs": [],
   "source": [
    "train_feat2['troop_qua1']=0.0\n",
    "for name in text_troop:\n",
    "    train_feat2['troop_qua1']+=train_feat2[name]"
   ]
  },
  {
   "cell_type": "code",
   "execution_count": 70,
   "metadata": {
    "ExecuteTime": {
     "end_time": "2018-07-02T02:36:33.726647Z",
     "start_time": "2018-07-02T02:36:33.672644Z"
    },
    "collapsed": true
   },
   "outputs": [],
   "source": [
    "test_feat2['troop_qua1']=0.0\n",
    "for name in text_troop:\n",
    "    test_feat2['troop_qua1']+=test_feat2[name]"
   ]
  },
  {
   "cell_type": "code",
   "execution_count": 71,
   "metadata": {
    "ExecuteTime": {
     "end_time": "2018-07-02T02:36:33.760649Z",
     "start_time": "2018-07-02T02:36:33.727647Z"
    },
    "collapsed": true
   },
   "outputs": [],
   "source": [
    "#train_feat2['4add_value']=train_feat2['wood_add_value']+train_feat2['stone_add_value']+ \\\n",
    "#train_feat2['ivory_add_value']+train_feat2['meat_add_value']"
   ]
  },
  {
   "cell_type": "code",
   "execution_count": 72,
   "metadata": {
    "ExecuteTime": {
     "end_time": "2018-07-02T02:36:33.853654Z",
     "start_time": "2018-07-02T02:36:33.762649Z"
    },
    "collapsed": true
   },
   "outputs": [],
   "source": [
    "#train_feat2['4reduce_value']=train_feat2['wood_reduce_value']+train_feat2['stone_reduce_value']+ \\\n",
    "#train_feat2['ivory_reduce_value']+train_feat2['meat_reduce_value']"
   ]
  },
  {
   "cell_type": "code",
   "execution_count": 73,
   "metadata": {
    "ExecuteTime": {
     "end_time": "2018-07-02T02:36:33.952660Z",
     "start_time": "2018-07-02T02:36:33.856654Z"
    },
    "collapsed": true
   },
   "outputs": [],
   "source": [
    "#train_feat2[train_feat2.cavalry_qua1 != 0][train_feat2.columns.values[pd.Series(train_feat2.columns.values).str.contains('qua1')]]"
   ]
  },
  {
   "cell_type": "code",
   "execution_count": 74,
   "metadata": {
    "ExecuteTime": {
     "end_time": "2018-07-02T02:36:34.018663Z",
     "start_time": "2018-07-02T02:36:33.954660Z"
    },
    "collapsed": true
   },
   "outputs": [],
   "source": [
    "#train_corr2=train_feat2.corr()"
   ]
  },
  {
   "cell_type": "code",
   "execution_count": 75,
   "metadata": {
    "ExecuteTime": {
     "end_time": "2018-07-02T02:36:34.093668Z",
     "start_time": "2018-07-02T02:36:34.020664Z"
    },
    "collapsed": true
   },
   "outputs": [],
   "source": [
    "#train_corr2['prediction_pay_price'].sort_values(ascending=False).head(40)"
   ]
  },
  {
   "cell_type": "code",
   "execution_count": 76,
   "metadata": {
    "ExecuteTime": {
     "end_time": "2018-07-02T02:36:34.319681Z",
     "start_time": "2018-07-02T02:36:34.094668Z"
    }
   },
   "outputs": [
    {
     "name": "stderr",
     "output_type": "stream",
     "text": [
      "D:\\ProgramData\\Anaconda3\\lib\\site-packages\\ipykernel_launcher.py:3: SettingWithCopyWarning: \n",
      "A value is trying to be set on a copy of a slice from a DataFrame\n",
      "\n",
      "See the caveats in the documentation: http://pandas.pydata.org/pandas-docs/stable/indexing.html#indexing-view-versus-copy\n",
      "  This is separate from the ipykernel package so we can avoid doing imports until\n"
     ]
    }
   ],
   "source": [
    "label_train=data_train['prediction_pay_price']\n",
    "label_test=test_feat.user_id\n",
    "label_test[:]=0"
   ]
  },
  {
   "cell_type": "code",
   "execution_count": 77,
   "metadata": {
    "ExecuteTime": {
     "end_time": "2018-07-02T02:36:35.060723Z",
     "start_time": "2018-07-02T02:36:34.320681Z"
    },
    "collapsed": true
   },
   "outputs": [],
   "source": [
    "#train_feat2=train_feat2.drop(labels=['register_time','prediction_pay_price'],axis=1)\n",
    "train_feat2.drop(labels=['register_time','prediction_pay_price'],axis=1,inplace=True)\n",
    "#test_feat2=\n",
    "test_feat2.drop(labels=['register_time'],axis=1,inplace=True)"
   ]
  },
  {
   "cell_type": "code",
   "execution_count": 78,
   "metadata": {
    "ExecuteTime": {
     "end_time": "2018-07-02T02:36:35.071724Z",
     "start_time": "2018-07-02T02:36:35.063723Z"
    }
   },
   "outputs": [
    {
     "data": {
      "text/plain": [
       "(2288007, 121)"
      ]
     },
     "execution_count": 78,
     "metadata": {},
     "output_type": "execute_result"
    }
   ],
   "source": [
    "train_feat2.shape"
   ]
  },
  {
   "cell_type": "code",
   "execution_count": 79,
   "metadata": {
    "ExecuteTime": {
     "end_time": "2018-07-02T02:36:35.166729Z",
     "start_time": "2018-07-02T02:36:35.074724Z"
    }
   },
   "outputs": [
    {
     "data": {
      "text/plain": [
       "(828934, 121)"
      ]
     },
     "execution_count": 79,
     "metadata": {},
     "output_type": "execute_result"
    }
   ],
   "source": [
    "test_feat2.shape"
   ]
  },
  {
   "cell_type": "code",
   "execution_count": null,
   "metadata": {
    "collapsed": true
   },
   "outputs": [],
   "source": [
    "\n"
   ]
  },
  {
   "cell_type": "code",
   "execution_count": 80,
   "metadata": {
    "ExecuteTime": {
     "end_time": "2018-07-02T02:36:35.252734Z",
     "start_time": "2018-07-02T02:36:35.167729Z"
    },
    "collapsed": true
   },
   "outputs": [],
   "source": [
    "#train_feat2_array=train_feat2.drop(labels=['prediction_pay_price','register_time'],axis=1).values\n",
    "#test_feat2_array=test_feat2.drop(labels=['register_time'],axis=1).values\n",
    "\n",
    "#label_test.values.astype('int')"
   ]
  },
  {
   "cell_type": "code",
   "execution_count": 81,
   "metadata": {
    "ExecuteTime": {
     "end_time": "2018-07-02T02:36:35.322738Z",
     "start_time": "2018-07-02T02:36:35.253734Z"
    },
    "collapsed": true
   },
   "outputs": [],
   "source": [
    "#del train_feat2_array\n",
    "#del test_feat2_array\n",
    "#del label_train\n",
    "#del label_test\n"
   ]
  },
  {
   "cell_type": "code",
   "execution_count": null,
   "metadata": {
    "collapsed": true
   },
   "outputs": [],
   "source": []
  },
  {
   "cell_type": "code",
   "execution_count": 105,
   "metadata": {
    "ExecuteTime": {
     "end_time": "2018-07-02T06:20:58.175250Z",
     "start_time": "2018-07-02T06:20:58.144050Z"
    },
    "collapsed": true
   },
   "outputs": [],
   "source": [
    "params={\n",
    "    'boosting_type':'gbdt',\n",
    "    'objective':'mse',\n",
    "    'metric':'rmse',\n",
    "    'min_child_weigth':3,\n",
    "    'num_leaves':2**5,\n",
    "    'lambda_l2':10,\n",
    "    'subsample':0.7,\n",
    "    'colsample_bytree':0.7,\n",
    "    'colsample_bylevel':0.7,\n",
    "    'learning_rate':0.05,\n",
    "    'tree_method':'exact',\n",
    "    'seed':2017,\n",
    "    'nthread':4,\n",
    "    'silent':True\n",
    "}"
   ]
  },
  {
   "cell_type": "code",
   "execution_count": 83,
   "metadata": {
    "ExecuteTime": {
     "end_time": "2018-07-02T02:36:36.038779Z",
     "start_time": "2018-07-02T02:36:35.398742Z"
    },
    "collapsed": true
   },
   "outputs": [],
   "source": [
    "import time\n",
    "import lightgbm as lgb"
   ]
  },
  {
   "cell_type": "code",
   "execution_count": 84,
   "metadata": {
    "ExecuteTime": {
     "end_time": "2018-07-02T02:36:36.063780Z",
     "start_time": "2018-07-02T02:36:36.040779Z"
    }
   },
   "outputs": [
    {
     "name": "stderr",
     "output_type": "stream",
     "text": [
      "D:\\ProgramData\\Anaconda3\\lib\\site-packages\\sklearn\\cross_validation.py:41: DeprecationWarning: This module was deprecated in version 0.18 in favor of the model_selection module into which all the refactored classes and functions are moved. Also note that the interface of the new CV iterators are different from that of this module. This module will be removed in 0.20.\n",
      "  \"This module will be removed in 0.20.\", DeprecationWarning)\n"
     ]
    }
   ],
   "source": [
    "from sklearn.cross_validation import train_test_split\n",
    "from sklearn.metrics import mean_squared_error"
   ]
  },
  {
   "cell_type": "code",
   "execution_count": null,
   "metadata": {
    "collapsed": true
   },
   "outputs": [],
   "source": []
  },
  {
   "cell_type": "code",
   "execution_count": 102,
   "metadata": {
    "ExecuteTime": {
     "end_time": "2018-07-02T05:48:36.029038Z",
     "start_time": "2018-07-02T05:48:33.824313Z"
    },
    "collapsed": true
   },
   "outputs": [],
   "source": [
    "X_train,X_test,y_train,y_test=train_test_split(train_feat2,label_train,test_size=0.3,random_state=13)"
   ]
  },
  {
   "cell_type": "code",
   "execution_count": 103,
   "metadata": {
    "ExecuteTime": {
     "end_time": "2018-07-02T05:48:40.949491Z",
     "start_time": "2018-07-02T05:48:40.933891Z"
    },
    "collapsed": true
   },
   "outputs": [],
   "source": [
    "train=lgb.Dataset(X_train,y_train)\n",
    "test=lgb.Dataset(X_test,label=y_test,reference=train)"
   ]
  },
  {
   "cell_type": "code",
   "execution_count": 106,
   "metadata": {
    "ExecuteTime": {
     "end_time": "2018-07-02T06:28:38.427059Z",
     "start_time": "2018-07-02T06:21:03.656778Z"
    }
   },
   "outputs": [
    {
     "name": "stdout",
     "output_type": "stream",
     "text": [
      "[50]\ttraining's rmse: 60.976\tvalid_1's rmse: 63.8663\n",
      "[100]\ttraining's rmse: 50.0771\tvalid_1's rmse: 60.6411\n",
      "[150]\ttraining's rmse: 43.7516\tvalid_1's rmse: 59.0428\n",
      "[200]\ttraining's rmse: 38.9636\tvalid_1's rmse: 58.5461\n",
      "[250]\ttraining's rmse: 35.235\tvalid_1's rmse: 58.6082\n",
      "[300]\ttraining's rmse: 32.1248\tvalid_1's rmse: 58.7466\n",
      "[350]\ttraining's rmse: 29.6108\tvalid_1's rmse: 58.8458\n",
      "[400]\ttraining's rmse: 27.5227\tvalid_1's rmse: 58.7681\n",
      "[450]\ttraining's rmse: 25.7996\tvalid_1's rmse: 58.655\n",
      "[500]\ttraining's rmse: 24.3432\tvalid_1's rmse: 58.6924\n",
      "[550]\ttraining's rmse: 23.0803\tvalid_1's rmse: 58.665\n",
      "[600]\ttraining's rmse: 21.9686\tvalid_1's rmse: 58.8069\n",
      "[650]\ttraining's rmse: 21.0909\tvalid_1's rmse: 58.9862\n",
      "[700]\ttraining's rmse: 20.316\tvalid_1's rmse: 59.0702\n",
      "[750]\ttraining's rmse: 19.6146\tvalid_1's rmse: 59.1517\n",
      "[800]\ttraining's rmse: 19.0416\tvalid_1's rmse: 59.1647\n",
      "[850]\ttraining's rmse: 18.5023\tvalid_1's rmse: 59.2202\n",
      "[900]\ttraining's rmse: 17.996\tvalid_1's rmse: 59.306\n",
      "[950]\ttraining's rmse: 17.5014\tvalid_1's rmse: 59.4174\n",
      "[1000]\ttraining's rmse: 17.0146\tvalid_1's rmse: 59.4481\n",
      "[1050]\ttraining's rmse: 16.5608\tvalid_1's rmse: 59.4946\n",
      "[1100]\ttraining's rmse: 16.1559\tvalid_1's rmse: 59.5304\n",
      "[1150]\ttraining's rmse: 15.7795\tvalid_1's rmse: 59.583\n",
      "[1200]\ttraining's rmse: 15.4607\tvalid_1's rmse: 59.5863\n",
      "[1250]\ttraining's rmse: 15.1226\tvalid_1's rmse: 59.5931\n",
      "[1300]\ttraining's rmse: 14.777\tvalid_1's rmse: 59.5903\n",
      "[1350]\ttraining's rmse: 14.4909\tvalid_1's rmse: 59.5883\n",
      "[1400]\ttraining's rmse: 14.258\tvalid_1's rmse: 59.6068\n",
      "[1450]\ttraining's rmse: 14.0379\tvalid_1's rmse: 59.6022\n",
      "[1500]\ttraining's rmse: 13.8015\tvalid_1's rmse: 59.6288\n",
      "[1550]\ttraining's rmse: 13.5603\tvalid_1's rmse: 59.6336\n",
      "[1600]\ttraining's rmse: 13.3328\tvalid_1's rmse: 59.6366\n",
      "[1650]\ttraining's rmse: 13.1177\tvalid_1's rmse: 59.6403\n",
      "[1700]\ttraining's rmse: 12.9039\tvalid_1's rmse: 59.6535\n",
      "[1750]\ttraining's rmse: 12.7109\tvalid_1's rmse: 59.6751\n",
      "[1800]\ttraining's rmse: 12.5281\tvalid_1's rmse: 59.6817\n",
      "[1850]\ttraining's rmse: 12.3857\tvalid_1's rmse: 59.6784\n",
      "[1900]\ttraining's rmse: 12.204\tvalid_1's rmse: 59.6796\n",
      "[1950]\ttraining's rmse: 12.0218\tvalid_1's rmse: 59.6812\n",
      "[2000]\ttraining's rmse: 11.8313\tvalid_1's rmse: 59.6798\n",
      "[2050]\ttraining's rmse: 11.672\tvalid_1's rmse: 59.6846\n",
      "[2100]\ttraining's rmse: 11.517\tvalid_1's rmse: 59.681\n",
      "[2150]\ttraining's rmse: 11.3646\tvalid_1's rmse: 59.681\n",
      "[2200]\ttraining's rmse: 11.2281\tvalid_1's rmse: 59.68\n",
      "[2250]\ttraining's rmse: 11.104\tvalid_1's rmse: 59.6754\n",
      "[2300]\ttraining's rmse: 11.0179\tvalid_1's rmse: 59.6746\n",
      "[2350]\ttraining's rmse: 10.9003\tvalid_1's rmse: 59.6775\n",
      "[2400]\ttraining's rmse: 10.758\tvalid_1's rmse: 59.6829\n",
      "[2450]\ttraining's rmse: 10.6693\tvalid_1's rmse: 59.6857\n",
      "[2500]\ttraining's rmse: 10.5572\tvalid_1's rmse: 59.6841\n",
      "[2550]\ttraining's rmse: 10.4495\tvalid_1's rmse: 59.6866\n",
      "[2600]\ttraining's rmse: 10.3514\tvalid_1's rmse: 59.6895\n",
      "[2650]\ttraining's rmse: 10.2527\tvalid_1's rmse: 59.6919\n",
      "[2700]\ttraining's rmse: 10.1554\tvalid_1's rmse: 59.6885\n",
      "[2750]\ttraining's rmse: 10.0559\tvalid_1's rmse: 59.6882\n",
      "[2800]\ttraining's rmse: 9.97787\tvalid_1's rmse: 59.6846\n",
      "[2850]\ttraining's rmse: 9.90861\tvalid_1's rmse: 59.6791\n",
      "[2900]\ttraining's rmse: 9.8003\tvalid_1's rmse: 59.6823\n",
      "[2950]\ttraining's rmse: 9.72271\tvalid_1's rmse: 59.6846\n",
      "[3000]\ttraining's rmse: 9.60607\tvalid_1's rmse: 59.6829\n"
     ]
    }
   ],
   "source": [
    "n=3000\n",
    "gbm=lgb.train(params=params,\n",
    "             train_set=train,\n",
    "             num_boost_round=n,\n",
    "             verbose_eval=50,\n",
    "             early_stopping_rounds=50,\n",
    "             valid_sets=[train,test])\n",
    "#test_size 0.3\n",
    "#[3000]\ttraining's rmse: 9.60607\tvalid_1's rmse: 59.6829\n"
   ]
  },
  {
   "cell_type": "code",
   "execution_count": 107,
   "metadata": {
    "ExecuteTime": {
     "end_time": "2018-07-02T06:30:54.209451Z",
     "start_time": "2018-07-02T06:30:54.139848Z"
    }
   },
   "outputs": [
    {
     "data": {
      "text/plain": [
       "50"
      ]
     },
     "execution_count": 107,
     "metadata": {},
     "output_type": "execute_result"
    }
   ],
   "source": [
    "import gc\n",
    "#del train_feat\n",
    "gc.collect()"
   ]
  },
  {
   "cell_type": "code",
   "execution_count": null,
   "metadata": {
    "collapsed": true
   },
   "outputs": [],
   "source": [
    "pred_train=gbm.predict(X_test)"
   ]
  },
  {
   "cell_type": "code",
   "execution_count": null,
   "metadata": {
    "collapsed": true
   },
   "outputs": [],
   "source": [
    "np.sqrt(mean_squared_error(y_test,pred_train))"
   ]
  },
  {
   "cell_type": "code",
   "execution_count": null,
   "metadata": {
    "collapsed": true
   },
   "outputs": [],
   "source": []
  },
  {
   "cell_type": "code",
   "execution_count": null,
   "metadata": {
    "collapsed": true
   },
   "outputs": [],
   "source": []
  }
 ],
 "metadata": {
  "kernelspec": {
   "display_name": "Python 3",
   "language": "python",
   "name": "python3"
  },
  "language_info": {
   "codemirror_mode": {
    "name": "ipython",
    "version": 3
   },
   "file_extension": ".py",
   "mimetype": "text/x-python",
   "name": "python",
   "nbconvert_exporter": "python",
   "pygments_lexer": "ipython3",
   "version": "3.6.3"
  }
 },
 "nbformat": 4,
 "nbformat_minor": 2
}
