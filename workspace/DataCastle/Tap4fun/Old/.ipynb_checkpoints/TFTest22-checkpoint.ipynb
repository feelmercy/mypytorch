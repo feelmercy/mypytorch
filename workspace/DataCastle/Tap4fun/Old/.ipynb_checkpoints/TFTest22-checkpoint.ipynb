{
 "cells": [
  {
   "cell_type": "code",
   "execution_count": 1,
   "metadata": {
    "ExecuteTime": {
     "end_time": "2018-07-04T07:36:53.427731Z",
     "start_time": "2018-07-04T07:36:52.538680Z"
    }
   },
   "outputs": [],
   "source": [
    "import pandas as pd\n",
    "import numpy as np"
   ]
  },
  {
   "cell_type": "code",
   "execution_count": 2,
   "metadata": {
    "ExecuteTime": {
     "end_time": "2018-07-04T07:36:53.469733Z",
     "start_time": "2018-07-04T07:36:53.428731Z"
    }
   },
   "outputs": [],
   "source": [
    "df_train=pd.read_csv('F:\\\\study\\\\ml\\\\DataSet\\\\Tap4fun\\\\tap_fun_train.csv',nrows=5)"
   ]
  },
  {
   "cell_type": "code",
   "execution_count": 3,
   "metadata": {
    "ExecuteTime": {
     "end_time": "2018-07-04T07:36:53.579740Z",
     "start_time": "2018-07-04T07:36:53.470734Z"
    }
   },
   "outputs": [
    {
     "name": "stdout",
     "output_type": "stream",
     "text": [
      "<class 'pandas.core.frame.DataFrame'>\n",
      "RangeIndex: 5 entries, 0 to 4\n",
      "Columns: 109 entries, user_id to prediction_pay_price\n",
      "dtypes: float64(13), int64(95), object(1)\n",
      "memory usage: 4.7 KB\n"
     ]
    }
   ],
   "source": [
    "df_train.info(memory_usage='deep')"
   ]
  },
  {
   "cell_type": "code",
   "execution_count": 4,
   "metadata": {
    "ExecuteTime": {
     "end_time": "2018-07-04T07:36:53.671745Z",
     "start_time": "2018-07-04T07:36:53.581740Z"
    }
   },
   "outputs": [],
   "source": [
    "c_int=df_train.select_dtypes(include=['int64']).apply(pd.to_numeric,downcast='unsigned')\n",
    "c_float=df_train.select_dtypes(include=['float']).apply(pd.to_numeric,downcast='float')"
   ]
  },
  {
   "cell_type": "code",
   "execution_count": 5,
   "metadata": {
    "ExecuteTime": {
     "end_time": "2018-07-04T07:36:53.726748Z",
     "start_time": "2018-07-04T07:36:53.672745Z"
    }
   },
   "outputs": [],
   "source": [
    "o_df=df_train.copy()"
   ]
  },
  {
   "cell_type": "code",
   "execution_count": 6,
   "metadata": {
    "ExecuteTime": {
     "end_time": "2018-07-04T07:36:53.830754Z",
     "start_time": "2018-07-04T07:36:53.727748Z"
    }
   },
   "outputs": [],
   "source": [
    "o_df[c_int.columns]=c_int\n",
    "o_df[c_float.columns]=c_float"
   ]
  },
  {
   "cell_type": "code",
   "execution_count": 7,
   "metadata": {
    "ExecuteTime": {
     "end_time": "2018-07-04T07:36:53.886757Z",
     "start_time": "2018-07-04T07:36:53.831754Z"
    }
   },
   "outputs": [],
   "source": [
    "dtypes=o_df.dtypes\n",
    "dtypes_col=dtypes.index\n",
    "dtypes_type=[i.name for i in dtypes.values]\n",
    "column_type=dict(zip(dtypes_col,dtypes_type))"
   ]
  },
  {
   "cell_type": "code",
   "execution_count": 8,
   "metadata": {
    "ExecuteTime": {
     "end_time": "2018-07-04T07:36:53.960762Z",
     "start_time": "2018-07-04T07:36:53.887757Z"
    }
   },
   "outputs": [],
   "source": [
    "#column_type"
   ]
  },
  {
   "cell_type": "code",
   "execution_count": 9,
   "metadata": {
    "ExecuteTime": {
     "end_time": "2018-07-04T07:36:54.041766Z",
     "start_time": "2018-07-04T07:36:53.961762Z"
    }
   },
   "outputs": [
    {
     "data": {
      "text/plain": [
       "'object'"
      ]
     },
     "execution_count": 9,
     "metadata": {},
     "output_type": "execute_result"
    }
   ],
   "source": [
    "column_type.pop('register_time')"
   ]
  },
  {
   "cell_type": "code",
   "execution_count": 10,
   "metadata": {
    "ExecuteTime": {
     "end_time": "2018-07-04T07:37:15.712006Z",
     "start_time": "2018-07-04T07:36:54.043766Z"
    }
   },
   "outputs": [],
   "source": [
    "data_train=pd.read_csv('F:\\\\study\\\\ml\\\\DataSet\\\\Tap4fun\\\\tap_fun_train.csv',\n",
    "                      dtype=column_type,parse_dates=['register_time'],infer_datetime_format=True)"
   ]
  },
  {
   "cell_type": "code",
   "execution_count": 11,
   "metadata": {
    "ExecuteTime": {
     "end_time": "2018-07-04T07:37:15.730007Z",
     "start_time": "2018-07-04T07:37:15.714006Z"
    }
   },
   "outputs": [
    {
     "name": "stdout",
     "output_type": "stream",
     "text": [
      "<class 'pandas.core.frame.DataFrame'>\n",
      "RangeIndex: 2288007 entries, 0 to 2288006\n",
      "Columns: 109 entries, user_id to prediction_pay_price\n",
      "dtypes: datetime64[ns](1), float32(13), uint16(1), uint8(94)\n",
      "memory usage: 340.4 MB\n"
     ]
    }
   ],
   "source": [
    "data_train.info(memory_usage='deep')"
   ]
  },
  {
   "cell_type": "code",
   "execution_count": 12,
   "metadata": {
    "ExecuteTime": {
     "end_time": "2018-07-04T07:37:15.919018Z",
     "start_time": "2018-07-04T07:37:15.734007Z"
    }
   },
   "outputs": [],
   "source": [
    "train_feat2=data_train.copy()\n",
    "# test_feat=data_test\n"
   ]
  },
  {
   "cell_type": "code",
   "execution_count": 13,
   "metadata": {
    "ExecuteTime": {
     "end_time": "2018-07-04T07:37:15.926018Z",
     "start_time": "2018-07-04T07:37:15.921018Z"
    }
   },
   "outputs": [
    {
     "data": {
      "text/plain": [
       "(2288007, 109)"
      ]
     },
     "execution_count": 13,
     "metadata": {},
     "output_type": "execute_result"
    }
   ],
   "source": [
    "train_feat2.shape"
   ]
  },
  {
   "cell_type": "code",
   "execution_count": 14,
   "metadata": {
    "ExecuteTime": {
     "end_time": "2018-07-04T07:37:16.038024Z",
     "start_time": "2018-07-04T07:37:15.927018Z"
    }
   },
   "outputs": [],
   "source": [
    "del data_train"
   ]
  },
  {
   "cell_type": "code",
   "execution_count": 15,
   "metadata": {
    "ExecuteTime": {
     "end_time": "2018-07-04T07:37:16.132030Z",
     "start_time": "2018-07-04T07:37:16.040024Z"
    }
   },
   "outputs": [
    {
     "data": {
      "text/plain": [
       "(2288007, 109)"
      ]
     },
     "execution_count": 15,
     "metadata": {},
     "output_type": "execute_result"
    }
   ],
   "source": [
    "train_feat2.shape"
   ]
  },
  {
   "cell_type": "code",
   "execution_count": 16,
   "metadata": {
    "ExecuteTime": {
     "end_time": "2018-07-04T07:37:16.227035Z",
     "start_time": "2018-07-04T07:37:16.134030Z"
    }
   },
   "outputs": [],
   "source": [
    "label_train=train_feat2['prediction_pay_price']"
   ]
  },
  {
   "cell_type": "code",
   "execution_count": 17,
   "metadata": {
    "ExecuteTime": {
     "end_time": "2018-07-04T07:37:16.312040Z",
     "start_time": "2018-07-04T07:37:16.228035Z"
    }
   },
   "outputs": [
    {
     "data": {
      "text/plain": [
       "(2288007, 109)"
      ]
     },
     "execution_count": 17,
     "metadata": {},
     "output_type": "execute_result"
    }
   ],
   "source": [
    "train_feat2.shape"
   ]
  },
  {
   "cell_type": "code",
   "execution_count": 18,
   "metadata": {
    "ExecuteTime": {
     "end_time": "2018-07-04T07:37:16.405045Z",
     "start_time": "2018-07-04T07:37:16.313040Z"
    }
   },
   "outputs": [],
   "source": [
    "train_feat2['ivory_qua1']=train_feat2.ivory_add_value+train_feat2.ivory_reduce_value\n",
    "train_feat2['ivory_qua2']=train_feat2.ivory_add_value-train_feat2.ivory_reduce_value"
   ]
  },
  {
   "cell_type": "code",
   "execution_count": 19,
   "metadata": {
    "ExecuteTime": {
     "end_time": "2018-07-04T07:37:16.495050Z",
     "start_time": "2018-07-04T07:37:16.406045Z"
    }
   },
   "outputs": [],
   "source": [
    "train_feat2['stone_qua1']=train_feat2.stone_add_value+train_feat2.stone_reduce_value\n",
    "train_feat2['stone_qua2']=train_feat2.stone_add_value-train_feat2.stone_reduce_value"
   ]
  },
  {
   "cell_type": "code",
   "execution_count": 20,
   "metadata": {
    "ExecuteTime": {
     "end_time": "2018-07-04T07:37:16.575055Z",
     "start_time": "2018-07-04T07:37:16.497051Z"
    }
   },
   "outputs": [],
   "source": [
    "train_feat2['meat_qua1']=train_feat2.meat_add_value+train_feat2.meat_reduce_value\n",
    "train_feat2['meat_qua2']=train_feat2.meat_add_value-train_feat2.meat_reduce_value"
   ]
  },
  {
   "cell_type": "code",
   "execution_count": 21,
   "metadata": {
    "ExecuteTime": {
     "end_time": "2018-07-04T07:37:16.677061Z",
     "start_time": "2018-07-04T07:37:16.577055Z"
    }
   },
   "outputs": [],
   "source": [
    "train_feat2['wood_qua1']=train_feat2.wood_add_value+train_feat2.wood_reduce_value\n",
    "train_feat2['wood_qua2']=train_feat2.wood_add_value-train_feat2.wood_reduce_value"
   ]
  },
  {
   "cell_type": "code",
   "execution_count": 22,
   "metadata": {
    "ExecuteTime": {
     "end_time": "2018-07-04T07:37:16.744065Z",
     "start_time": "2018-07-04T07:37:16.678061Z"
    }
   },
   "outputs": [],
   "source": [
    "# for test feat\n",
    "# test_feat2['ivory_qua1']=test_feat.ivory_add_value+test_feat.ivory_reduce_value\n",
    "# test_feat2['ivory_qua2']=test_feat.ivory_add_value-test_feat.ivory_reduce_value\n",
    "# test_feat2['stone_qua1']=test_feat.stone_add_value+test_feat.stone_reduce_value\n",
    "# test_feat2['stone_qua2']=test_feat.stone_add_value-test_feat.stone_reduce_value\n",
    "# test_feat2['meat_qua1']=test_feat.meat_add_value+test_feat.meat_reduce_value\n",
    "# test_feat2['meat_qua2']=test_feat.meat_add_value-test_feat.meat_reduce_value\n",
    "# test_feat2['wood_qua1']=test_feat.wood_add_value+test_feat.wood_reduce_value\n",
    "# test_feat2['wood_qua2']=test_feat.wood_add_value-test_feat.wood_reduce_value"
   ]
  },
  {
   "cell_type": "code",
   "execution_count": 23,
   "metadata": {
    "ExecuteTime": {
     "end_time": "2018-07-04T07:37:16.810068Z",
     "start_time": "2018-07-04T07:37:16.746065Z"
    }
   },
   "outputs": [],
   "source": [
    "# train_feat.shape"
   ]
  },
  {
   "cell_type": "code",
   "execution_count": 24,
   "metadata": {
    "ExecuteTime": {
     "end_time": "2018-07-04T07:37:16.904074Z",
     "start_time": "2018-07-04T07:37:16.811069Z"
    }
   },
   "outputs": [],
   "source": [
    "# train_feat2.shape"
   ]
  },
  {
   "cell_type": "code",
   "execution_count": 25,
   "metadata": {
    "ExecuteTime": {
     "end_time": "2018-07-04T07:37:16.987079Z",
     "start_time": "2018-07-04T07:37:16.905074Z"
    }
   },
   "outputs": [],
   "source": [
    "# test_feat2.shape"
   ]
  },
  {
   "cell_type": "code",
   "execution_count": 26,
   "metadata": {
    "ExecuteTime": {
     "end_time": "2018-07-04T07:37:17.060083Z",
     "start_time": "2018-07-04T07:37:16.988079Z"
    }
   },
   "outputs": [],
   "source": [
    "#train_corr2=train_feat2.corr()"
   ]
  },
  {
   "cell_type": "code",
   "execution_count": 27,
   "metadata": {
    "ExecuteTime": {
     "end_time": "2018-07-04T07:37:17.136087Z",
     "start_time": "2018-07-04T07:37:17.061083Z"
    }
   },
   "outputs": [],
   "source": [
    "#train_corr2['prediction_pay_price'].sort_values(ascending=False).head(40)"
   ]
  },
  {
   "cell_type": "code",
   "execution_count": 28,
   "metadata": {
    "ExecuteTime": {
     "end_time": "2018-07-04T07:37:17.237093Z",
     "start_time": "2018-07-04T07:37:17.138087Z"
    }
   },
   "outputs": [],
   "source": [
    "import re"
   ]
  },
  {
   "cell_type": "code",
   "execution_count": 29,
   "metadata": {
    "ExecuteTime": {
     "end_time": "2018-07-04T07:37:17.333098Z",
     "start_time": "2018-07-04T07:37:17.238093Z"
    },
    "scrolled": true
   },
   "outputs": [
    {
     "data": {
      "text/plain": [
       "array(['sr_troop_defense_level', 'sr_infantry_def_level',\n",
       "       'sr_cavalry_def_level', 'sr_shaman_def_level'], dtype=object)"
      ]
     },
     "execution_count": 29,
     "metadata": {},
     "output_type": "execute_result"
    }
   ],
   "source": [
    "train_feat2.columns.values[pd.Series(train_feat2.columns.values).str.contains('def')]"
   ]
  },
  {
   "cell_type": "code",
   "execution_count": 30,
   "metadata": {
    "ExecuteTime": {
     "end_time": "2018-07-04T07:37:17.414103Z",
     "start_time": "2018-07-04T07:37:17.334098Z"
    }
   },
   "outputs": [
    {
     "data": {
      "text/plain": [
       "pandas.core.series.Series"
      ]
     },
     "execution_count": 30,
     "metadata": {},
     "output_type": "execute_result"
    }
   ],
   "source": [
    "type(pd.Series(train_feat2.columns.values).str.contains('def'))"
   ]
  },
  {
   "cell_type": "code",
   "execution_count": 31,
   "metadata": {
    "ExecuteTime": {
     "end_time": "2018-07-04T07:37:17.504108Z",
     "start_time": "2018-07-04T07:37:17.416103Z"
    }
   },
   "outputs": [],
   "source": [
    "#del text"
   ]
  },
  {
   "cell_type": "code",
   "execution_count": 32,
   "metadata": {
    "ExecuteTime": {
     "end_time": "2018-07-04T07:37:17.604114Z",
     "start_time": "2018-07-04T07:37:17.505108Z"
    },
    "scrolled": true
   },
   "outputs": [],
   "source": [
    "text_def=[]\n",
    "for col in train_feat2.columns.values:\n",
    "     if 'def' in col:\n",
    "            text_def.append(col)"
   ]
  },
  {
   "cell_type": "code",
   "execution_count": 33,
   "metadata": {
    "ExecuteTime": {
     "end_time": "2018-07-04T07:37:17.687119Z",
     "start_time": "2018-07-04T07:37:17.605114Z"
    }
   },
   "outputs": [
    {
     "data": {
      "text/plain": [
       "['sr_troop_defense_level',\n",
       " 'sr_infantry_def_level',\n",
       " 'sr_cavalry_def_level',\n",
       " 'sr_shaman_def_level']"
      ]
     },
     "execution_count": 33,
     "metadata": {},
     "output_type": "execute_result"
    }
   ],
   "source": [
    "text_def"
   ]
  },
  {
   "cell_type": "code",
   "execution_count": 34,
   "metadata": {
    "ExecuteTime": {
     "end_time": "2018-07-04T07:37:17.798125Z",
     "start_time": "2018-07-04T07:37:17.689119Z"
    }
   },
   "outputs": [
    {
     "data": {
      "text/html": [
       "<div>\n",
       "<style>\n",
       "    .dataframe thead tr:only-child th {\n",
       "        text-align: right;\n",
       "    }\n",
       "\n",
       "    .dataframe thead th {\n",
       "        text-align: left;\n",
       "    }\n",
       "\n",
       "    .dataframe tbody tr th {\n",
       "        vertical-align: top;\n",
       "    }\n",
       "</style>\n",
       "<table border=\"1\" class=\"dataframe\">\n",
       "  <thead>\n",
       "    <tr style=\"text-align: right;\">\n",
       "      <th></th>\n",
       "      <th>user_id</th>\n",
       "      <th>register_time</th>\n",
       "      <th>wood_add_value</th>\n",
       "      <th>wood_reduce_value</th>\n",
       "      <th>stone_add_value</th>\n",
       "      <th>stone_reduce_value</th>\n",
       "      <th>ivory_add_value</th>\n",
       "      <th>ivory_reduce_value</th>\n",
       "      <th>meat_add_value</th>\n",
       "      <th>meat_reduce_value</th>\n",
       "      <th>...</th>\n",
       "      <th>pay_count</th>\n",
       "      <th>prediction_pay_price</th>\n",
       "      <th>ivory_qua1</th>\n",
       "      <th>ivory_qua2</th>\n",
       "      <th>stone_qua1</th>\n",
       "      <th>stone_qua2</th>\n",
       "      <th>meat_qua1</th>\n",
       "      <th>meat_qua2</th>\n",
       "      <th>wood_qua1</th>\n",
       "      <th>wood_qua2</th>\n",
       "    </tr>\n",
       "  </thead>\n",
       "  <tbody>\n",
       "    <tr>\n",
       "      <th>0</th>\n",
       "      <td>1</td>\n",
       "      <td>2018-02-02 19:47:15</td>\n",
       "      <td>20125.0</td>\n",
       "      <td>3700.0</td>\n",
       "      <td>0.0</td>\n",
       "      <td>0.0</td>\n",
       "      <td>0.0</td>\n",
       "      <td>0.0</td>\n",
       "      <td>16375.0</td>\n",
       "      <td>2000.0</td>\n",
       "      <td>...</td>\n",
       "      <td>0</td>\n",
       "      <td>0.0</td>\n",
       "      <td>0.0</td>\n",
       "      <td>0.0</td>\n",
       "      <td>0.0</td>\n",
       "      <td>0.0</td>\n",
       "      <td>18375.0</td>\n",
       "      <td>14375.0</td>\n",
       "      <td>23825.0</td>\n",
       "      <td>16425.0</td>\n",
       "    </tr>\n",
       "    <tr>\n",
       "      <th>1</th>\n",
       "      <td>1593</td>\n",
       "      <td>2018-01-26 00:01:05</td>\n",
       "      <td>0.0</td>\n",
       "      <td>0.0</td>\n",
       "      <td>0.0</td>\n",
       "      <td>0.0</td>\n",
       "      <td>0.0</td>\n",
       "      <td>0.0</td>\n",
       "      <td>0.0</td>\n",
       "      <td>0.0</td>\n",
       "      <td>...</td>\n",
       "      <td>0</td>\n",
       "      <td>0.0</td>\n",
       "      <td>0.0</td>\n",
       "      <td>0.0</td>\n",
       "      <td>0.0</td>\n",
       "      <td>0.0</td>\n",
       "      <td>0.0</td>\n",
       "      <td>0.0</td>\n",
       "      <td>0.0</td>\n",
       "      <td>0.0</td>\n",
       "    </tr>\n",
       "    <tr>\n",
       "      <th>2</th>\n",
       "      <td>1594</td>\n",
       "      <td>2018-01-26 00:01:58</td>\n",
       "      <td>0.0</td>\n",
       "      <td>0.0</td>\n",
       "      <td>0.0</td>\n",
       "      <td>0.0</td>\n",
       "      <td>0.0</td>\n",
       "      <td>0.0</td>\n",
       "      <td>0.0</td>\n",
       "      <td>0.0</td>\n",
       "      <td>...</td>\n",
       "      <td>0</td>\n",
       "      <td>0.0</td>\n",
       "      <td>0.0</td>\n",
       "      <td>0.0</td>\n",
       "      <td>0.0</td>\n",
       "      <td>0.0</td>\n",
       "      <td>0.0</td>\n",
       "      <td>0.0</td>\n",
       "      <td>0.0</td>\n",
       "      <td>0.0</td>\n",
       "    </tr>\n",
       "    <tr>\n",
       "      <th>3</th>\n",
       "      <td>1595</td>\n",
       "      <td>2018-01-26 00:02:13</td>\n",
       "      <td>0.0</td>\n",
       "      <td>0.0</td>\n",
       "      <td>0.0</td>\n",
       "      <td>0.0</td>\n",
       "      <td>0.0</td>\n",
       "      <td>0.0</td>\n",
       "      <td>0.0</td>\n",
       "      <td>0.0</td>\n",
       "      <td>...</td>\n",
       "      <td>0</td>\n",
       "      <td>0.0</td>\n",
       "      <td>0.0</td>\n",
       "      <td>0.0</td>\n",
       "      <td>0.0</td>\n",
       "      <td>0.0</td>\n",
       "      <td>0.0</td>\n",
       "      <td>0.0</td>\n",
       "      <td>0.0</td>\n",
       "      <td>0.0</td>\n",
       "    </tr>\n",
       "    <tr>\n",
       "      <th>4</th>\n",
       "      <td>1596</td>\n",
       "      <td>2018-01-26 00:02:46</td>\n",
       "      <td>0.0</td>\n",
       "      <td>0.0</td>\n",
       "      <td>0.0</td>\n",
       "      <td>0.0</td>\n",
       "      <td>0.0</td>\n",
       "      <td>0.0</td>\n",
       "      <td>0.0</td>\n",
       "      <td>0.0</td>\n",
       "      <td>...</td>\n",
       "      <td>0</td>\n",
       "      <td>0.0</td>\n",
       "      <td>0.0</td>\n",
       "      <td>0.0</td>\n",
       "      <td>0.0</td>\n",
       "      <td>0.0</td>\n",
       "      <td>0.0</td>\n",
       "      <td>0.0</td>\n",
       "      <td>0.0</td>\n",
       "      <td>0.0</td>\n",
       "    </tr>\n",
       "  </tbody>\n",
       "</table>\n",
       "<p>5 rows × 117 columns</p>\n",
       "</div>"
      ],
      "text/plain": [
       "   user_id       register_time  wood_add_value  wood_reduce_value  \\\n",
       "0        1 2018-02-02 19:47:15         20125.0             3700.0   \n",
       "1     1593 2018-01-26 00:01:05             0.0                0.0   \n",
       "2     1594 2018-01-26 00:01:58             0.0                0.0   \n",
       "3     1595 2018-01-26 00:02:13             0.0                0.0   \n",
       "4     1596 2018-01-26 00:02:46             0.0                0.0   \n",
       "\n",
       "   stone_add_value  stone_reduce_value  ivory_add_value  ivory_reduce_value  \\\n",
       "0              0.0                 0.0              0.0                 0.0   \n",
       "1              0.0                 0.0              0.0                 0.0   \n",
       "2              0.0                 0.0              0.0                 0.0   \n",
       "3              0.0                 0.0              0.0                 0.0   \n",
       "4              0.0                 0.0              0.0                 0.0   \n",
       "\n",
       "   meat_add_value  meat_reduce_value    ...      pay_count  \\\n",
       "0         16375.0             2000.0    ...              0   \n",
       "1             0.0                0.0    ...              0   \n",
       "2             0.0                0.0    ...              0   \n",
       "3             0.0                0.0    ...              0   \n",
       "4             0.0                0.0    ...              0   \n",
       "\n",
       "   prediction_pay_price  ivory_qua1  ivory_qua2  stone_qua1  stone_qua2  \\\n",
       "0                   0.0         0.0         0.0         0.0         0.0   \n",
       "1                   0.0         0.0         0.0         0.0         0.0   \n",
       "2                   0.0         0.0         0.0         0.0         0.0   \n",
       "3                   0.0         0.0         0.0         0.0         0.0   \n",
       "4                   0.0         0.0         0.0         0.0         0.0   \n",
       "\n",
       "   meat_qua1  meat_qua2  wood_qua1  wood_qua2  \n",
       "0    18375.0    14375.0    23825.0    16425.0  \n",
       "1        0.0        0.0        0.0        0.0  \n",
       "2        0.0        0.0        0.0        0.0  \n",
       "3        0.0        0.0        0.0        0.0  \n",
       "4        0.0        0.0        0.0        0.0  \n",
       "\n",
       "[5 rows x 117 columns]"
      ]
     },
     "execution_count": 34,
     "metadata": {},
     "output_type": "execute_result"
    }
   ],
   "source": [
    "#train_coorr1.to_csv('F:\\\\study\\\\ml\\\\DataSet\\\\Tap4fun\\\\train_feat_corr.csv')\n",
    "#del feat_def_qua\n",
    "train_feat2.head()"
   ]
  },
  {
   "cell_type": "code",
   "execution_count": 35,
   "metadata": {
    "ExecuteTime": {
     "end_time": "2018-07-04T07:37:17.886130Z",
     "start_time": "2018-07-04T07:37:17.800125Z"
    }
   },
   "outputs": [],
   "source": [
    "text_def=[]\n",
    "for col in train_feat2.columns.values:\n",
    "     if 'def' in col:\n",
    "            text_def.append(col)"
   ]
  },
  {
   "cell_type": "code",
   "execution_count": 36,
   "metadata": {
    "ExecuteTime": {
     "end_time": "2018-07-04T07:37:17.969135Z",
     "start_time": "2018-07-04T07:37:17.887130Z"
    }
   },
   "outputs": [
    {
     "data": {
      "text/plain": [
       "['sr_troop_defense_level',\n",
       " 'sr_infantry_def_level',\n",
       " 'sr_cavalry_def_level',\n",
       " 'sr_shaman_def_level']"
      ]
     },
     "execution_count": 36,
     "metadata": {},
     "output_type": "execute_result"
    }
   ],
   "source": [
    "text_def"
   ]
  },
  {
   "cell_type": "code",
   "execution_count": 37,
   "metadata": {
    "ExecuteTime": {
     "end_time": "2018-07-04T07:37:18.055140Z",
     "start_time": "2018-07-04T07:37:17.971135Z"
    }
   },
   "outputs": [
    {
     "data": {
      "text/plain": [
       "list"
      ]
     },
     "execution_count": 37,
     "metadata": {},
     "output_type": "execute_result"
    }
   ],
   "source": [
    "type(text_def)"
   ]
  },
  {
   "cell_type": "code",
   "execution_count": 38,
   "metadata": {
    "ExecuteTime": {
     "end_time": "2018-07-04T07:37:18.162146Z",
     "start_time": "2018-07-04T07:37:18.056140Z"
    }
   },
   "outputs": [],
   "source": [
    "text_troop=[]\n",
    "for col in train_feat2.columns.values:\n",
    "    if 'troop' in col :\n",
    "        text_troop.append(col)"
   ]
  },
  {
   "cell_type": "code",
   "execution_count": 39,
   "metadata": {
    "ExecuteTime": {
     "end_time": "2018-07-04T07:37:18.279153Z",
     "start_time": "2018-07-04T07:37:18.164146Z"
    }
   },
   "outputs": [
    {
     "data": {
      "text/plain": [
       "['sr_troop_defense_level',\n",
       " 'sr_troop_attack_level',\n",
       " 'sr_troop_consumption_level',\n",
       " 'sr_troop_load_level',\n",
       " 'sr_guest_troop_capacity_level']"
      ]
     },
     "execution_count": 39,
     "metadata": {},
     "output_type": "execute_result"
    }
   ],
   "source": [
    "text_troop"
   ]
  },
  {
   "cell_type": "code",
   "execution_count": 40,
   "metadata": {
    "ExecuteTime": {
     "end_time": "2018-07-04T07:37:18.472164Z",
     "start_time": "2018-07-04T07:37:18.281153Z"
    }
   },
   "outputs": [],
   "source": [
    "text_cavalry=[]\n",
    "for col in train_feat2.columns.values:\n",
    "    if 'sr_cavalry' in col :\n",
    "        text_cavalry.append(col)"
   ]
  },
  {
   "cell_type": "code",
   "execution_count": 41,
   "metadata": {
    "ExecuteTime": {
     "end_time": "2018-07-04T07:37:18.614172Z",
     "start_time": "2018-07-04T07:37:18.475164Z"
    }
   },
   "outputs": [
    {
     "data": {
      "text/plain": [
       "['sr_cavalry_tier_2_level',\n",
       " 'sr_cavalry_atk_level',\n",
       " 'sr_cavalry_tier_3_level',\n",
       " 'sr_cavalry_def_level',\n",
       " 'sr_cavalry_hp_level',\n",
       " 'sr_cavalry_tier_4_level']"
      ]
     },
     "execution_count": 41,
     "metadata": {},
     "output_type": "execute_result"
    }
   ],
   "source": [
    "text_cavalry"
   ]
  },
  {
   "cell_type": "code",
   "execution_count": 42,
   "metadata": {
    "ExecuteTime": {
     "end_time": "2018-07-04T07:37:18.702177Z",
     "start_time": "2018-07-04T07:37:18.617172Z"
    }
   },
   "outputs": [],
   "source": [
    "text_infantry=[]\n",
    "for col in train_feat2.columns.values:\n",
    "    if 'sr_infantry' in col :\n",
    "        text_infantry.append(col)"
   ]
  },
  {
   "cell_type": "code",
   "execution_count": 43,
   "metadata": {
    "ExecuteTime": {
     "end_time": "2018-07-04T07:37:18.780181Z",
     "start_time": "2018-07-04T07:37:18.703177Z"
    }
   },
   "outputs": [
    {
     "data": {
      "text/plain": [
       "['sr_infantry_tier_2_level',\n",
       " 'sr_infantry_atk_level',\n",
       " 'sr_infantry_tier_3_level',\n",
       " 'sr_infantry_def_level',\n",
       " 'sr_infantry_hp_level',\n",
       " 'sr_infantry_tier_4_level']"
      ]
     },
     "execution_count": 43,
     "metadata": {},
     "output_type": "execute_result"
    }
   ],
   "source": [
    "text_infantry"
   ]
  },
  {
   "cell_type": "code",
   "execution_count": 44,
   "metadata": {
    "ExecuteTime": {
     "end_time": "2018-07-04T07:37:18.896188Z",
     "start_time": "2018-07-04T07:37:18.781181Z"
    }
   },
   "outputs": [],
   "source": [
    "text_shaman=[]\n",
    "for col in train_feat2.columns.values:\n",
    "    if 'sr_shaman' in col :\n",
    "        text_shaman.append(col)"
   ]
  },
  {
   "cell_type": "code",
   "execution_count": 45,
   "metadata": {
    "ExecuteTime": {
     "end_time": "2018-07-04T07:37:19.012194Z",
     "start_time": "2018-07-04T07:37:18.897188Z"
    }
   },
   "outputs": [
    {
     "data": {
      "text/plain": [
       "['sr_shaman_tier_2_level',\n",
       " 'sr_shaman_atk_level',\n",
       " 'sr_shaman_tier_3_level',\n",
       " 'sr_shaman_def_level',\n",
       " 'sr_shaman_hp_level',\n",
       " 'sr_shaman_tier_4_level']"
      ]
     },
     "execution_count": 45,
     "metadata": {},
     "output_type": "execute_result"
    }
   ],
   "source": [
    "text_shaman"
   ]
  },
  {
   "cell_type": "code",
   "execution_count": 46,
   "metadata": {
    "ExecuteTime": {
     "end_time": "2018-07-04T07:37:19.104200Z",
     "start_time": "2018-07-04T07:37:19.016195Z"
    }
   },
   "outputs": [],
   "source": [
    "text_speed=[]\n",
    "for col in train_feat2.columns.values:\n",
    "    if 'speed' in col :\n",
    "        text_speed.append(col)"
   ]
  },
  {
   "cell_type": "code",
   "execution_count": 47,
   "metadata": {
    "ExecuteTime": {
     "end_time": "2018-07-04T07:37:19.189205Z",
     "start_time": "2018-07-04T07:37:19.106200Z"
    }
   },
   "outputs": [
    {
     "data": {
      "text/plain": [
       "['sr_training_speed_level',\n",
       " 'sr_construction_speed_level',\n",
       " 'sr_healing_speed_level',\n",
       " 'sr_alliance_march_speed_level',\n",
       " 'sr_pvp_march_speed_level',\n",
       " 'sr_gathering_march_speed_level']"
      ]
     },
     "execution_count": 47,
     "metadata": {},
     "output_type": "execute_result"
    }
   ],
   "source": [
    "text_speed"
   ]
  },
  {
   "cell_type": "code",
   "execution_count": 48,
   "metadata": {
    "ExecuteTime": {
     "end_time": "2018-07-04T07:37:19.394216Z",
     "start_time": "2018-07-04T07:37:19.190205Z"
    }
   },
   "outputs": [],
   "source": [
    "train_feat2['def_qua1']=0.0\n",
    "for name in text_def:\n",
    "    train_feat2['def_qua1']+=train_feat2[name]"
   ]
  },
  {
   "cell_type": "code",
   "execution_count": 49,
   "metadata": {
    "ExecuteTime": {
     "end_time": "2018-07-04T07:37:19.404217Z",
     "start_time": "2018-07-04T07:37:19.395216Z"
    }
   },
   "outputs": [],
   "source": [
    "#pd.Series(train_feat2.columns.values) .str.contains('def')"
   ]
  },
  {
   "cell_type": "code",
   "execution_count": 50,
   "metadata": {
    "ExecuteTime": {
     "end_time": "2018-07-04T07:37:19.504223Z",
     "start_time": "2018-07-04T07:37:19.405217Z"
    }
   },
   "outputs": [],
   "source": [
    "#train_feat2[train_feat2.sr_troop_attack_level != 0][train_feat2.columns.values[pd.Series(train_feat2.columns.values) .str.contains('def')]]"
   ]
  },
  {
   "cell_type": "code",
   "execution_count": 51,
   "metadata": {
    "ExecuteTime": {
     "end_time": "2018-07-04T07:37:19.780238Z",
     "start_time": "2018-07-04T07:37:19.505223Z"
    }
   },
   "outputs": [],
   "source": [
    "train_feat2['def_qua1']=0.0\n",
    "for name in text_def:\n",
    "    train_feat2['def_qua1']+=train_feat2[name]"
   ]
  },
  {
   "cell_type": "code",
   "execution_count": 52,
   "metadata": {
    "ExecuteTime": {
     "end_time": "2018-07-04T07:37:19.786239Z",
     "start_time": "2018-07-04T07:37:19.782238Z"
    }
   },
   "outputs": [],
   "source": [
    "# test_feat2['def_qua1']=0.0\n",
    "# for name in text_def:\n",
    "#     test_feat2['def_qua1']+=test_feat2[name]"
   ]
  },
  {
   "cell_type": "code",
   "execution_count": 53,
   "metadata": {
    "ExecuteTime": {
     "end_time": "2018-07-04T07:37:20.041253Z",
     "start_time": "2018-07-04T07:37:19.787239Z"
    }
   },
   "outputs": [],
   "source": [
    "train_feat2['cavalry_qua1']=0.0\n",
    "for name in text_cavalry:\n",
    "    train_feat2['cavalry_qua1']+=train_feat2[name]"
   ]
  },
  {
   "cell_type": "code",
   "execution_count": 54,
   "metadata": {
    "ExecuteTime": {
     "end_time": "2018-07-04T07:37:20.046254Z",
     "start_time": "2018-07-04T07:37:20.042253Z"
    }
   },
   "outputs": [],
   "source": [
    "# test_feat2['cavalry_qua1']=0.0\n",
    "# for name in text_cavalry:\n",
    "#     test_feat2['cavalry_qua1']+=test_feat2[name]"
   ]
  },
  {
   "cell_type": "code",
   "execution_count": 55,
   "metadata": {
    "ExecuteTime": {
     "end_time": "2018-07-04T07:37:20.291268Z",
     "start_time": "2018-07-04T07:37:20.048254Z"
    }
   },
   "outputs": [],
   "source": [
    "train_feat2['infantry_qua1']=0.0\n",
    "for name in text_infantry:\n",
    "    train_feat2['infantry_qua1']+=train_feat2[name]"
   ]
  },
  {
   "cell_type": "code",
   "execution_count": 56,
   "metadata": {
    "ExecuteTime": {
     "end_time": "2018-07-04T07:37:20.296268Z",
     "start_time": "2018-07-04T07:37:20.293268Z"
    }
   },
   "outputs": [],
   "source": [
    "# test_feat2['infantry_qua1']=0.0\n",
    "# for name in text_infantry:\n",
    "#     test_feat2['infantry_qua1']+=test_feat2[name]"
   ]
  },
  {
   "cell_type": "code",
   "execution_count": 57,
   "metadata": {
    "ExecuteTime": {
     "end_time": "2018-07-04T07:37:20.526281Z",
     "start_time": "2018-07-04T07:37:20.298268Z"
    }
   },
   "outputs": [],
   "source": [
    "train_feat2['shaman_qua1']=0.0\n",
    "for name in text_shaman:\n",
    "    train_feat2['shaman_qua1']+=train_feat2[name]"
   ]
  },
  {
   "cell_type": "code",
   "execution_count": 58,
   "metadata": {
    "ExecuteTime": {
     "end_time": "2018-07-04T07:37:20.530281Z",
     "start_time": "2018-07-04T07:37:20.527281Z"
    }
   },
   "outputs": [],
   "source": [
    "# test_feat2['shaman_qua1']=0.0\n",
    "# for name in text_shaman:\n",
    "#     test_feat2['shaman_qua1']+=test_feat2[name]"
   ]
  },
  {
   "cell_type": "code",
   "execution_count": 59,
   "metadata": {
    "ExecuteTime": {
     "end_time": "2018-07-04T07:37:20.794296Z",
     "start_time": "2018-07-04T07:37:20.532281Z"
    }
   },
   "outputs": [],
   "source": [
    "train_feat2['speed_qua1']=0.0\n",
    "for name in text_speed:\n",
    "    train_feat2['speed_qua1']+=train_feat2[name]"
   ]
  },
  {
   "cell_type": "code",
   "execution_count": 60,
   "metadata": {
    "ExecuteTime": {
     "end_time": "2018-07-04T07:37:20.846299Z",
     "start_time": "2018-07-04T07:37:20.795296Z"
    }
   },
   "outputs": [],
   "source": [
    "# test_feat2['speed_qua1']=0.0\n",
    "# for name in text_speed:\n",
    "#     test_feat2['speed_qua1']+=test_feat2[name]"
   ]
  },
  {
   "cell_type": "code",
   "execution_count": 61,
   "metadata": {
    "ExecuteTime": {
     "end_time": "2018-07-04T07:37:21.123315Z",
     "start_time": "2018-07-04T07:37:20.847299Z"
    }
   },
   "outputs": [],
   "source": [
    "train_feat2['troop_qua1']=0.0\n",
    "for name in text_troop:\n",
    "    train_feat2['troop_qua1']+=train_feat2[name]"
   ]
  },
  {
   "cell_type": "code",
   "execution_count": 62,
   "metadata": {
    "ExecuteTime": {
     "end_time": "2018-07-04T07:37:21.127315Z",
     "start_time": "2018-07-04T07:37:21.124315Z"
    }
   },
   "outputs": [],
   "source": [
    "# test_feat2['troop_qua1']=0.0\n",
    "# for name in text_troop:\n",
    "#     test_feat2['troop_qua1']+=test_feat2[name]"
   ]
  },
  {
   "cell_type": "code",
   "execution_count": 63,
   "metadata": {
    "ExecuteTime": {
     "end_time": "2018-07-04T07:37:21.207320Z",
     "start_time": "2018-07-04T07:37:21.129316Z"
    }
   },
   "outputs": [
    {
     "data": {
      "text/plain": [
       "array(['pvp_battle_count', 'pvp_lanch_count', 'pvp_win_count',\n",
       "       'pve_battle_count', 'pve_lanch_count', 'pve_win_count'],\n",
       "      dtype=object)"
      ]
     },
     "execution_count": 63,
     "metadata": {},
     "output_type": "execute_result"
    }
   ],
   "source": [
    "train_feat2.columns.values[pd.Series(train_feat2.columns.values).str.contains('^pv')]"
   ]
  },
  {
   "cell_type": "code",
   "execution_count": 64,
   "metadata": {
    "ExecuteTime": {
     "end_time": "2018-07-04T07:37:21.331327Z",
     "start_time": "2018-07-04T07:37:21.209320Z"
    }
   },
   "outputs": [
    {
     "data": {
      "text/plain": [
       "array(['bd_hero_pve_level', 'sr_pvp_march_speed_level',\n",
       "       'pvp_battle_count', 'pvp_lanch_count', 'pvp_win_count',\n",
       "       'pve_battle_count', 'pve_lanch_count', 'pve_win_count'],\n",
       "      dtype=object)"
      ]
     },
     "execution_count": 64,
     "metadata": {},
     "output_type": "execute_result"
    }
   ],
   "source": [
    "train_feat2.columns.values[pd.Series(train_feat2.columns.values).str.contains('pv')]"
   ]
  },
  {
   "cell_type": "code",
   "execution_count": 65,
   "metadata": {
    "ExecuteTime": {
     "end_time": "2018-07-04T07:37:21.445334Z",
     "start_time": "2018-07-04T07:37:21.333327Z"
    }
   },
   "outputs": [],
   "source": [
    "# train_feat2['pvp_lanch_rate_qua1']=train_feat2.pvp_lanch_count/train_feat2.pvp_battle_count\n",
    "# train_feat2['pvp_win_rate_qua1']=train_feat2.pvp_win_count / train_feat2.pvp_battle_count\n",
    "# train_feat2['pvp_win_lanch_rate_qua1']=train_feat2.pvp_win_count / \\\n",
    "# train_feat2.pvp_lanch_count\n",
    "# train_feat2['pve_lanch_rate_qua1']=train_feat2.pve_lanch_count/train_feat2.pve_battle_count\n",
    "# train_feat2['pve_win_rate_qua1']=train_feat2.pve_win_count / train_feat2.pve_battle_count\n",
    "# train_feat2['pve_win_lanch_rate_qua1']=train_feat2.pve_win_count / \\\n",
    "# train_feat2.pve_lanch_count"
   ]
  },
  {
   "cell_type": "code",
   "execution_count": 66,
   "metadata": {
    "ExecuteTime": {
     "end_time": "2018-07-04T07:37:21.546339Z",
     "start_time": "2018-07-04T07:37:21.446334Z"
    }
   },
   "outputs": [],
   "source": [
    "# text_mi=train_feat2.columns[pd.Series(train_feat2.columns.values).str.contains('qua')].tolist()\n",
    "# for name in text_mi :\n",
    "#     name2='x_avg_mi_'+name\n",
    "#     #print(name2)\n",
    "#     train_feat2[name2]=train_feat2[name] / train_feat2.avg_online_minutes\n",
    "\n",
    "# text_top=['ivory','stone','wood','meat']\n",
    "# text_top_add=[]\n",
    "# for name in text_top:\n",
    "#     name2=name+'_add'\n",
    "#     text_top_add.extend(train_feat2.columns[pd.Series(train_feat2.columns.values).str.contains(name2)].tolist())\n",
    "\n",
    "# text_top_add2=[]\n",
    "# for name in text_top_add :\n",
    "#     name2='x_avg_mi_'+name\n",
    "#     train_feat2[name2]=train_feat2[name] / train_feat2.avg_online_minutes\n",
    "#     text_top_add2.append(name2)\n"
   ]
  },
  {
   "cell_type": "code",
   "execution_count": 67,
   "metadata": {
    "ExecuteTime": {
     "end_time": "2018-07-04T07:37:21.663346Z",
     "start_time": "2018-07-04T07:37:21.547339Z"
    }
   },
   "outputs": [],
   "source": [
    "# #\n",
    "# train_feat2['pvp_lanch_rate_qua1']=train_feat2.pvp_lanch_count / train_feat2.pvp_battle_count\n",
    "# train_feat2['pvp_win_rate_qua1']=train_feat2.pvp_win_count / trainhttp://localhost:8888/notebooks/Tap4fun/TFTest22.ipynb#_feat2.pvp_battle_count\n",
    "# train_feat2['pve_lanch_rate_qua1']=train_feat2.pve_lanch_count / train_feat2.pve_battle_count\n",
    "# train_feat2['pve_win_rate_qua1']=train_feat2.pve_win_count / train_feat2.pve_battle_count\n",
    "# train_feat2['pvep_battle_qua1']=train_feat2.pvp_battle_count + train_feat2.pve_battle_count\n",
    "# train_feat2['pvep_win_qua1']=train_feat2.pvp_win_count + train_feat2.pve_win_count\n",
    "# train_feat2['pvep_lanch_qua1']=train_feat2.pvp_lanch_count + train_feat2.pve_lanch_count"
   ]
  },
  {
   "cell_type": "code",
   "execution_count": 68,
   "metadata": {
    "ExecuteTime": {
     "end_time": "2018-07-04T07:37:21.763352Z",
     "start_time": "2018-07-04T07:37:21.664346Z"
    }
   },
   "outputs": [],
   "source": [
    "# train_feat2['pvep_pve_battle_rate_qua1']=train_feat2.pve_battle_count / train_feat2.pvep_battle_qua1\n",
    "# train_feat2['pvep_pvp_battle_rate_qua1']=train_feat2.pvp_battle_count / train_feat2.pvep_battle_qua1\n",
    "\n",
    "# train_feat2['pvep_pve_lanch_rate_qua1']=train_feat2.pve_lanch_count / train_feat2.pvep_lanch_qua1\n",
    "# train_feat2['pvep_pvp_lanch_rate_qua1']=train_feat2.pvp_lanch_count / train_feat2.pvep_lanch_qua1\n",
    "\n",
    "# train_feat2['pvep_pve_win_rate_qua1']=train_feat2.pve_win_count / train_feat2.pvep_win_qua1\n",
    "# train_feat2['pvep_pvp_win_rate_qua1']=train_feat2.pvp_win_count / train_feat2.pvep_win_qua1\n",
    "\n"
   ]
  },
  {
   "cell_type": "code",
   "execution_count": 69,
   "metadata": {
    "ExecuteTime": {
     "end_time": "2018-07-04T07:37:21.864358Z",
     "start_time": "2018-07-04T07:37:21.765352Z"
    }
   },
   "outputs": [],
   "source": [
    "train_feat2['price_per_count_qua1']=train_feat2.pay_price / train_feat2.pay_count"
   ]
  },
  {
   "cell_type": "code",
   "execution_count": 70,
   "metadata": {
    "ExecuteTime": {
     "end_time": "2018-07-04T07:37:21.996365Z",
     "start_time": "2018-07-04T07:37:21.866358Z"
    }
   },
   "outputs": [],
   "source": [
    "###############################################\n",
    "\n",
    "\n",
    "\n",
    "#train_feat2.fillna(0,inplace=True)\n",
    "\n",
    "\n",
    "\n",
    "###############################################"
   ]
  },
  {
   "cell_type": "code",
   "execution_count": 71,
   "metadata": {
    "ExecuteTime": {
     "end_time": "2018-07-04T07:37:22.088370Z",
     "start_time": "2018-07-04T07:37:21.997365Z"
    }
   },
   "outputs": [
    {
     "data": {
      "text/plain": [
       "(2288007, 124)"
      ]
     },
     "execution_count": 71,
     "metadata": {},
     "output_type": "execute_result"
    }
   ],
   "source": [
    "train_feat2.shape"
   ]
  },
  {
   "cell_type": "code",
   "execution_count": null,
   "metadata": {},
   "outputs": [],
   "source": []
  },
  {
   "cell_type": "code",
   "execution_count": null,
   "metadata": {},
   "outputs": [],
   "source": []
  },
  {
   "cell_type": "code",
   "execution_count": null,
   "metadata": {},
   "outputs": [],
   "source": []
  },
  {
   "cell_type": "code",
   "execution_count": 72,
   "metadata": {
    "ExecuteTime": {
     "end_time": "2018-07-04T07:37:22.718406Z",
     "start_time": "2018-07-04T07:37:22.089370Z"
    }
   },
   "outputs": [],
   "source": [
    "train_feat2_int=train_feat2.select_dtypes(include=['uint16','uint8'])\n"
   ]
  },
  {
   "cell_type": "code",
   "execution_count": 73,
   "metadata": {
    "ExecuteTime": {
     "end_time": "2018-07-04T07:37:22.732407Z",
     "start_time": "2018-07-04T07:37:22.720407Z"
    }
   },
   "outputs": [
    {
     "name": "stdout",
     "output_type": "stream",
     "text": [
      "<class 'pandas.core.frame.DataFrame'>\n",
      "RangeIndex: 2288007 entries, 0 to 2288006\n",
      "Columns: 124 entries, user_id to price_per_count_qua1\n",
      "dtypes: datetime64[ns](1), float32(22), float64(6), uint16(1), uint8(94)\n",
      "memory usage: 523.7 MB\n"
     ]
    }
   ],
   "source": [
    "train_feat2.info()"
   ]
  },
  {
   "cell_type": "code",
   "execution_count": 74,
   "metadata": {
    "ExecuteTime": {
     "end_time": "2018-07-04T07:37:22.869415Z",
     "start_time": "2018-07-04T07:37:22.734407Z"
    }
   },
   "outputs": [
    {
     "data": {
      "text/html": [
       "<div>\n",
       "<style>\n",
       "    .dataframe thead tr:only-child th {\n",
       "        text-align: right;\n",
       "    }\n",
       "\n",
       "    .dataframe thead th {\n",
       "        text-align: left;\n",
       "    }\n",
       "\n",
       "    .dataframe tbody tr th {\n",
       "        vertical-align: top;\n",
       "    }\n",
       "</style>\n",
       "<table border=\"1\" class=\"dataframe\">\n",
       "  <thead>\n",
       "    <tr style=\"text-align: right;\">\n",
       "      <th></th>\n",
       "      <th>user_id</th>\n",
       "      <th>infantry_add_value</th>\n",
       "      <th>infantry_reduce_value</th>\n",
       "      <th>cavalry_add_value</th>\n",
       "      <th>cavalry_reduce_value</th>\n",
       "      <th>shaman_add_value</th>\n",
       "      <th>shaman_reduce_value</th>\n",
       "      <th>wound_infantry_add_value</th>\n",
       "      <th>wound_infantry_reduce_value</th>\n",
       "      <th>wound_cavalry_add_value</th>\n",
       "      <th>...</th>\n",
       "      <th>sr_guest_troop_capacity_level</th>\n",
       "      <th>sr_march_size_level</th>\n",
       "      <th>sr_rss_help_bonus_level</th>\n",
       "      <th>pvp_battle_count</th>\n",
       "      <th>pvp_lanch_count</th>\n",
       "      <th>pvp_win_count</th>\n",
       "      <th>pve_battle_count</th>\n",
       "      <th>pve_lanch_count</th>\n",
       "      <th>pve_win_count</th>\n",
       "      <th>pay_count</th>\n",
       "    </tr>\n",
       "  </thead>\n",
       "  <tbody>\n",
       "    <tr>\n",
       "      <th>0</th>\n",
       "      <td>1</td>\n",
       "      <td>0</td>\n",
       "      <td>0</td>\n",
       "      <td>0</td>\n",
       "      <td>0</td>\n",
       "      <td>0</td>\n",
       "      <td>0</td>\n",
       "      <td>0</td>\n",
       "      <td>0</td>\n",
       "      <td>0</td>\n",
       "      <td>...</td>\n",
       "      <td>0</td>\n",
       "      <td>0</td>\n",
       "      <td>0</td>\n",
       "      <td>0</td>\n",
       "      <td>0</td>\n",
       "      <td>0</td>\n",
       "      <td>0</td>\n",
       "      <td>0</td>\n",
       "      <td>0</td>\n",
       "      <td>0</td>\n",
       "    </tr>\n",
       "    <tr>\n",
       "      <th>1</th>\n",
       "      <td>1593</td>\n",
       "      <td>0</td>\n",
       "      <td>0</td>\n",
       "      <td>0</td>\n",
       "      <td>0</td>\n",
       "      <td>0</td>\n",
       "      <td>0</td>\n",
       "      <td>0</td>\n",
       "      <td>0</td>\n",
       "      <td>0</td>\n",
       "      <td>...</td>\n",
       "      <td>0</td>\n",
       "      <td>0</td>\n",
       "      <td>0</td>\n",
       "      <td>0</td>\n",
       "      <td>0</td>\n",
       "      <td>0</td>\n",
       "      <td>0</td>\n",
       "      <td>0</td>\n",
       "      <td>0</td>\n",
       "      <td>0</td>\n",
       "    </tr>\n",
       "    <tr>\n",
       "      <th>2</th>\n",
       "      <td>1594</td>\n",
       "      <td>0</td>\n",
       "      <td>0</td>\n",
       "      <td>0</td>\n",
       "      <td>0</td>\n",
       "      <td>0</td>\n",
       "      <td>0</td>\n",
       "      <td>0</td>\n",
       "      <td>0</td>\n",
       "      <td>0</td>\n",
       "      <td>...</td>\n",
       "      <td>0</td>\n",
       "      <td>0</td>\n",
       "      <td>0</td>\n",
       "      <td>0</td>\n",
       "      <td>0</td>\n",
       "      <td>0</td>\n",
       "      <td>0</td>\n",
       "      <td>0</td>\n",
       "      <td>0</td>\n",
       "      <td>0</td>\n",
       "    </tr>\n",
       "    <tr>\n",
       "      <th>3</th>\n",
       "      <td>1595</td>\n",
       "      <td>0</td>\n",
       "      <td>0</td>\n",
       "      <td>0</td>\n",
       "      <td>0</td>\n",
       "      <td>0</td>\n",
       "      <td>0</td>\n",
       "      <td>0</td>\n",
       "      <td>0</td>\n",
       "      <td>0</td>\n",
       "      <td>...</td>\n",
       "      <td>0</td>\n",
       "      <td>0</td>\n",
       "      <td>0</td>\n",
       "      <td>0</td>\n",
       "      <td>0</td>\n",
       "      <td>0</td>\n",
       "      <td>0</td>\n",
       "      <td>0</td>\n",
       "      <td>0</td>\n",
       "      <td>0</td>\n",
       "    </tr>\n",
       "    <tr>\n",
       "      <th>4</th>\n",
       "      <td>1596</td>\n",
       "      <td>0</td>\n",
       "      <td>0</td>\n",
       "      <td>0</td>\n",
       "      <td>0</td>\n",
       "      <td>0</td>\n",
       "      <td>0</td>\n",
       "      <td>0</td>\n",
       "      <td>0</td>\n",
       "      <td>0</td>\n",
       "      <td>...</td>\n",
       "      <td>0</td>\n",
       "      <td>0</td>\n",
       "      <td>0</td>\n",
       "      <td>0</td>\n",
       "      <td>0</td>\n",
       "      <td>0</td>\n",
       "      <td>0</td>\n",
       "      <td>0</td>\n",
       "      <td>0</td>\n",
       "      <td>0</td>\n",
       "    </tr>\n",
       "  </tbody>\n",
       "</table>\n",
       "<p>5 rows × 95 columns</p>\n",
       "</div>"
      ],
      "text/plain": [
       "   user_id  infantry_add_value  infantry_reduce_value  cavalry_add_value  \\\n",
       "0        1                   0                      0                  0   \n",
       "1     1593                   0                      0                  0   \n",
       "2     1594                   0                      0                  0   \n",
       "3     1595                   0                      0                  0   \n",
       "4     1596                   0                      0                  0   \n",
       "\n",
       "   cavalry_reduce_value  shaman_add_value  shaman_reduce_value  \\\n",
       "0                     0                 0                    0   \n",
       "1                     0                 0                    0   \n",
       "2                     0                 0                    0   \n",
       "3                     0                 0                    0   \n",
       "4                     0                 0                    0   \n",
       "\n",
       "   wound_infantry_add_value  wound_infantry_reduce_value  \\\n",
       "0                         0                            0   \n",
       "1                         0                            0   \n",
       "2                         0                            0   \n",
       "3                         0                            0   \n",
       "4                         0                            0   \n",
       "\n",
       "   wound_cavalry_add_value    ...      sr_guest_troop_capacity_level  \\\n",
       "0                        0    ...                                  0   \n",
       "1                        0    ...                                  0   \n",
       "2                        0    ...                                  0   \n",
       "3                        0    ...                                  0   \n",
       "4                        0    ...                                  0   \n",
       "\n",
       "   sr_march_size_level  sr_rss_help_bonus_level  pvp_battle_count  \\\n",
       "0                    0                        0                 0   \n",
       "1                    0                        0                 0   \n",
       "2                    0                        0                 0   \n",
       "3                    0                        0                 0   \n",
       "4                    0                        0                 0   \n",
       "\n",
       "   pvp_lanch_count  pvp_win_count  pve_battle_count  pve_lanch_count  \\\n",
       "0                0              0                 0                0   \n",
       "1                0              0                 0                0   \n",
       "2                0              0                 0                0   \n",
       "3                0              0                 0                0   \n",
       "4                0              0                 0                0   \n",
       "\n",
       "   pve_win_count  pay_count  \n",
       "0              0          0  \n",
       "1              0          0  \n",
       "2              0          0  \n",
       "3              0          0  \n",
       "4              0          0  \n",
       "\n",
       "[5 rows x 95 columns]"
      ]
     },
     "execution_count": 74,
     "metadata": {},
     "output_type": "execute_result"
    }
   ],
   "source": [
    "train_feat2_int.head()"
   ]
  },
  {
   "cell_type": "code",
   "execution_count": 75,
   "metadata": {
    "ExecuteTime": {
     "end_time": "2018-07-04T07:37:23.387445Z",
     "start_time": "2018-07-04T07:37:22.872415Z"
    }
   },
   "outputs": [],
   "source": [
    "train_feat2_float=train_feat2.select_dtypes(include=['float64','float32']).apply(pd.to_numeric,downcast='float')\n",
    "#train_feat2.select_dtypes(include=['float64','float32']).apply(pd.to_numeric,downcast='float')\n",
    "#..apply(pd.to_numeric,downcast='float')"
   ]
  },
  {
   "cell_type": "code",
   "execution_count": 76,
   "metadata": {
    "ExecuteTime": {
     "end_time": "2018-07-04T07:37:23.417446Z",
     "start_time": "2018-07-04T07:37:23.390445Z"
    }
   },
   "outputs": [
    {
     "data": {
      "text/html": [
       "<div>\n",
       "<style>\n",
       "    .dataframe thead tr:only-child th {\n",
       "        text-align: right;\n",
       "    }\n",
       "\n",
       "    .dataframe thead th {\n",
       "        text-align: left;\n",
       "    }\n",
       "\n",
       "    .dataframe tbody tr th {\n",
       "        vertical-align: top;\n",
       "    }\n",
       "</style>\n",
       "<table border=\"1\" class=\"dataframe\">\n",
       "  <thead>\n",
       "    <tr style=\"text-align: right;\">\n",
       "      <th></th>\n",
       "      <th>wood_add_value</th>\n",
       "      <th>wood_reduce_value</th>\n",
       "      <th>stone_add_value</th>\n",
       "      <th>stone_reduce_value</th>\n",
       "      <th>ivory_add_value</th>\n",
       "      <th>ivory_reduce_value</th>\n",
       "      <th>meat_add_value</th>\n",
       "      <th>meat_reduce_value</th>\n",
       "      <th>magic_add_value</th>\n",
       "      <th>magic_reduce_value</th>\n",
       "      <th>...</th>\n",
       "      <th>meat_qua2</th>\n",
       "      <th>wood_qua1</th>\n",
       "      <th>wood_qua2</th>\n",
       "      <th>def_qua1</th>\n",
       "      <th>cavalry_qua1</th>\n",
       "      <th>infantry_qua1</th>\n",
       "      <th>shaman_qua1</th>\n",
       "      <th>speed_qua1</th>\n",
       "      <th>troop_qua1</th>\n",
       "      <th>price_per_count_qua1</th>\n",
       "    </tr>\n",
       "  </thead>\n",
       "  <tbody>\n",
       "    <tr>\n",
       "      <th>0</th>\n",
       "      <td>20125.0</td>\n",
       "      <td>3700.0</td>\n",
       "      <td>0.0</td>\n",
       "      <td>0.0</td>\n",
       "      <td>0.0</td>\n",
       "      <td>0.0</td>\n",
       "      <td>16375.0</td>\n",
       "      <td>2000.0</td>\n",
       "      <td>0.0</td>\n",
       "      <td>0.0</td>\n",
       "      <td>...</td>\n",
       "      <td>14375.0</td>\n",
       "      <td>23825.0</td>\n",
       "      <td>16425.0</td>\n",
       "      <td>0.0</td>\n",
       "      <td>0.0</td>\n",
       "      <td>0.0</td>\n",
       "      <td>0.0</td>\n",
       "      <td>0.0</td>\n",
       "      <td>0.0</td>\n",
       "      <td>NaN</td>\n",
       "    </tr>\n",
       "    <tr>\n",
       "      <th>1</th>\n",
       "      <td>0.0</td>\n",
       "      <td>0.0</td>\n",
       "      <td>0.0</td>\n",
       "      <td>0.0</td>\n",
       "      <td>0.0</td>\n",
       "      <td>0.0</td>\n",
       "      <td>0.0</td>\n",
       "      <td>0.0</td>\n",
       "      <td>0.0</td>\n",
       "      <td>0.0</td>\n",
       "      <td>...</td>\n",
       "      <td>0.0</td>\n",
       "      <td>0.0</td>\n",
       "      <td>0.0</td>\n",
       "      <td>0.0</td>\n",
       "      <td>0.0</td>\n",
       "      <td>0.0</td>\n",
       "      <td>0.0</td>\n",
       "      <td>0.0</td>\n",
       "      <td>0.0</td>\n",
       "      <td>NaN</td>\n",
       "    </tr>\n",
       "    <tr>\n",
       "      <th>2</th>\n",
       "      <td>0.0</td>\n",
       "      <td>0.0</td>\n",
       "      <td>0.0</td>\n",
       "      <td>0.0</td>\n",
       "      <td>0.0</td>\n",
       "      <td>0.0</td>\n",
       "      <td>0.0</td>\n",
       "      <td>0.0</td>\n",
       "      <td>0.0</td>\n",
       "      <td>0.0</td>\n",
       "      <td>...</td>\n",
       "      <td>0.0</td>\n",
       "      <td>0.0</td>\n",
       "      <td>0.0</td>\n",
       "      <td>0.0</td>\n",
       "      <td>0.0</td>\n",
       "      <td>0.0</td>\n",
       "      <td>0.0</td>\n",
       "      <td>0.0</td>\n",
       "      <td>0.0</td>\n",
       "      <td>NaN</td>\n",
       "    </tr>\n",
       "    <tr>\n",
       "      <th>3</th>\n",
       "      <td>0.0</td>\n",
       "      <td>0.0</td>\n",
       "      <td>0.0</td>\n",
       "      <td>0.0</td>\n",
       "      <td>0.0</td>\n",
       "      <td>0.0</td>\n",
       "      <td>0.0</td>\n",
       "      <td>0.0</td>\n",
       "      <td>0.0</td>\n",
       "      <td>0.0</td>\n",
       "      <td>...</td>\n",
       "      <td>0.0</td>\n",
       "      <td>0.0</td>\n",
       "      <td>0.0</td>\n",
       "      <td>0.0</td>\n",
       "      <td>0.0</td>\n",
       "      <td>0.0</td>\n",
       "      <td>0.0</td>\n",
       "      <td>0.0</td>\n",
       "      <td>0.0</td>\n",
       "      <td>NaN</td>\n",
       "    </tr>\n",
       "    <tr>\n",
       "      <th>4</th>\n",
       "      <td>0.0</td>\n",
       "      <td>0.0</td>\n",
       "      <td>0.0</td>\n",
       "      <td>0.0</td>\n",
       "      <td>0.0</td>\n",
       "      <td>0.0</td>\n",
       "      <td>0.0</td>\n",
       "      <td>0.0</td>\n",
       "      <td>0.0</td>\n",
       "      <td>0.0</td>\n",
       "      <td>...</td>\n",
       "      <td>0.0</td>\n",
       "      <td>0.0</td>\n",
       "      <td>0.0</td>\n",
       "      <td>0.0</td>\n",
       "      <td>0.0</td>\n",
       "      <td>0.0</td>\n",
       "      <td>0.0</td>\n",
       "      <td>0.0</td>\n",
       "      <td>0.0</td>\n",
       "      <td>NaN</td>\n",
       "    </tr>\n",
       "  </tbody>\n",
       "</table>\n",
       "<p>5 rows × 28 columns</p>\n",
       "</div>"
      ],
      "text/plain": [
       "   wood_add_value  wood_reduce_value  stone_add_value  stone_reduce_value  \\\n",
       "0         20125.0             3700.0              0.0                 0.0   \n",
       "1             0.0                0.0              0.0                 0.0   \n",
       "2             0.0                0.0              0.0                 0.0   \n",
       "3             0.0                0.0              0.0                 0.0   \n",
       "4             0.0                0.0              0.0                 0.0   \n",
       "\n",
       "   ivory_add_value  ivory_reduce_value  meat_add_value  meat_reduce_value  \\\n",
       "0              0.0                 0.0         16375.0             2000.0   \n",
       "1              0.0                 0.0             0.0                0.0   \n",
       "2              0.0                 0.0             0.0                0.0   \n",
       "3              0.0                 0.0             0.0                0.0   \n",
       "4              0.0                 0.0             0.0                0.0   \n",
       "\n",
       "   magic_add_value  magic_reduce_value          ...           meat_qua2  \\\n",
       "0              0.0                 0.0          ...             14375.0   \n",
       "1              0.0                 0.0          ...                 0.0   \n",
       "2              0.0                 0.0          ...                 0.0   \n",
       "3              0.0                 0.0          ...                 0.0   \n",
       "4              0.0                 0.0          ...                 0.0   \n",
       "\n",
       "   wood_qua1  wood_qua2  def_qua1  cavalry_qua1  infantry_qua1  shaman_qua1  \\\n",
       "0    23825.0    16425.0       0.0           0.0            0.0          0.0   \n",
       "1        0.0        0.0       0.0           0.0            0.0          0.0   \n",
       "2        0.0        0.0       0.0           0.0            0.0          0.0   \n",
       "3        0.0        0.0       0.0           0.0            0.0          0.0   \n",
       "4        0.0        0.0       0.0           0.0            0.0          0.0   \n",
       "\n",
       "   speed_qua1  troop_qua1  price_per_count_qua1  \n",
       "0         0.0         0.0                   NaN  \n",
       "1         0.0         0.0                   NaN  \n",
       "2         0.0         0.0                   NaN  \n",
       "3         0.0         0.0                   NaN  \n",
       "4         0.0         0.0                   NaN  \n",
       "\n",
       "[5 rows x 28 columns]"
      ]
     },
     "execution_count": 76,
     "metadata": {},
     "output_type": "execute_result"
    }
   ],
   "source": [
    "train_feat2_float.head()"
   ]
  },
  {
   "cell_type": "code",
   "execution_count": 77,
   "metadata": {
    "ExecuteTime": {
     "end_time": "2018-07-04T07:37:23.515452Z",
     "start_time": "2018-07-04T07:37:23.419447Z"
    }
   },
   "outputs": [],
   "source": []
  },
  {
   "cell_type": "code",
   "execution_count": 80,
   "metadata": {
    "ExecuteTime": {
     "end_time": "2018-07-04T07:37:23.954477Z",
     "start_time": "2018-07-04T07:37:23.701463Z"
    }
   },
   "outputs": [],
   "source": [
    "train_feat3=pd.concat([train_feat2_int,train_feat2_float],axis=1)"
   ]
  },
  {
   "cell_type": "code",
   "execution_count": 81,
   "metadata": {
    "ExecuteTime": {
     "end_time": "2018-07-04T07:37:24.437505Z",
     "start_time": "2018-07-04T07:37:23.955477Z"
    }
   },
   "outputs": [],
   "source": [
    "train_feat3.drop(labels=['prediction_pay_price'],axis=1,inplace=True)\n",
    "#train_feat3.prediction_pay_price"
   ]
  },
  {
   "cell_type": "code",
   "execution_count": 82,
   "metadata": {
    "ExecuteTime": {
     "end_time": "2018-07-04T07:37:24.443505Z",
     "start_time": "2018-07-04T07:37:24.439505Z"
    }
   },
   "outputs": [
    {
     "data": {
      "text/plain": [
       "(2288007, 122)"
      ]
     },
     "execution_count": 82,
     "metadata": {},
     "output_type": "execute_result"
    }
   ],
   "source": [
    "train_feat3.shape"
   ]
  },
  {
   "cell_type": "code",
   "execution_count": 83,
   "metadata": {
    "ExecuteTime": {
     "end_time": "2018-07-04T07:37:24.543511Z",
     "start_time": "2018-07-04T07:37:24.445505Z"
    }
   },
   "outputs": [],
   "source": [
    "#train_feat3.fillna(0,inplace=True)"
   ]
  },
  {
   "cell_type": "code",
   "execution_count": 84,
   "metadata": {
    "ExecuteTime": {
     "end_time": "2018-07-04T07:37:24.656517Z",
     "start_time": "2018-07-04T07:37:24.544511Z"
    }
   },
   "outputs": [
    {
     "name": "stdout",
     "output_type": "stream",
     "text": [
      "<class 'pandas.core.frame.DataFrame'>\n",
      "RangeIndex: 2288007 entries, 0 to 2288006\n",
      "Columns: 122 entries, user_id to price_per_count_qua1\n",
      "dtypes: float32(27), uint16(1), uint8(94)\n",
      "memory usage: 445.1 MB\n"
     ]
    }
   ],
   "source": [
    "train_feat3.info(memory_usage='deep')"
   ]
  },
  {
   "cell_type": "code",
   "execution_count": 85,
   "metadata": {
    "ExecuteTime": {
     "end_time": "2018-07-04T07:37:24.750523Z",
     "start_time": "2018-07-04T07:37:24.658517Z"
    }
   },
   "outputs": [],
   "source": [
    "del train_feat2"
   ]
  },
  {
   "cell_type": "code",
   "execution_count": 86,
   "metadata": {
    "ExecuteTime": {
     "end_time": "2018-07-04T07:37:24.850528Z",
     "start_time": "2018-07-04T07:37:24.751523Z"
    }
   },
   "outputs": [],
   "source": [
    "#train_feat3.isnull().sum().sum()"
   ]
  },
  {
   "cell_type": "code",
   "execution_count": 87,
   "metadata": {
    "ExecuteTime": {
     "end_time": "2018-07-04T07:37:24.925533Z",
     "start_time": "2018-07-04T07:37:24.851528Z"
    }
   },
   "outputs": [],
   "source": [
    "params={\n",
    "    'boosting_type':'gbdt',\n",
    "    'objective':'mse',\n",
    "    'metric':'rmse',\n",
    "    'min_child_weigth':3,\n",
    "    'num_leaves':2**5,\n",
    "    'lambda_l2':10,\n",
    "    'subsample':0.7,\n",
    "    'colsample_bytree':0.7,\n",
    "    'colsample_bylevel':0.7,\n",
    "    'learning_rate':0.05,\n",
    "    'tree_method':'exact',\n",
    "    'seed':2017,\n",
    "    'nthread':4,\n",
    "    'silent':True\n",
    "}"
   ]
  },
  {
   "cell_type": "code",
   "execution_count": 88,
   "metadata": {
    "ExecuteTime": {
     "end_time": "2018-07-04T07:37:25.929590Z",
     "start_time": "2018-07-04T07:37:24.927533Z"
    }
   },
   "outputs": [],
   "source": [
    "import time\n",
    "import lightgbm as lgb"
   ]
  },
  {
   "cell_type": "code",
   "execution_count": 89,
   "metadata": {
    "ExecuteTime": {
     "end_time": "2018-07-04T07:37:26.097600Z",
     "start_time": "2018-07-04T07:37:25.932590Z"
    }
   },
   "outputs": [
    {
     "name": "stderr",
     "output_type": "stream",
     "text": [
      "D:\\ProgramData\\Anaconda3\\lib\\site-packages\\sklearn\\cross_validation.py:41: DeprecationWarning: This module was deprecated in version 0.18 in favor of the model_selection module into which all the refactored classes and functions are moved. Also note that the interface of the new CV iterators are different from that of this module. This module will be removed in 0.20.\n",
      "  \"This module will be removed in 0.20.\", DeprecationWarning)\n"
     ]
    }
   ],
   "source": [
    "from sklearn.cross_validation import train_test_split\n",
    "from sklearn.metrics import mean_squared_error"
   ]
  },
  {
   "cell_type": "code",
   "execution_count": 90,
   "metadata": {
    "ExecuteTime": {
     "end_time": "2018-07-04T07:37:26.102600Z",
     "start_time": "2018-07-04T07:37:26.099600Z"
    }
   },
   "outputs": [],
   "source": [
    "#train_feat2.shape"
   ]
  },
  {
   "cell_type": "code",
   "execution_count": 91,
   "metadata": {
    "ExecuteTime": {
     "end_time": "2018-07-04T07:37:28.506737Z",
     "start_time": "2018-07-04T07:37:26.104600Z"
    }
   },
   "outputs": [],
   "source": [
    "X_train,X_test,y_train,y_test=train_test_split(train_feat3,label_train,test_size=0.3,random_state=73)"
   ]
  },
  {
   "cell_type": "code",
   "execution_count": 92,
   "metadata": {
    "ExecuteTime": {
     "end_time": "2018-07-04T07:37:28.511738Z",
     "start_time": "2018-07-04T07:37:28.507738Z"
    }
   },
   "outputs": [],
   "source": [
    "train=lgb.Dataset(X_train,y_train)\n",
    "test=lgb.Dataset(X_test,label=y_test,reference=train)"
   ]
  },
  {
   "cell_type": "code",
   "execution_count": 93,
   "metadata": {
    "ExecuteTime": {
     "end_time": "2018-07-04T07:37:28.650746Z",
     "start_time": "2018-07-04T07:37:28.513738Z"
    }
   },
   "outputs": [],
   "source": [
    "# data_test.info(memory_usage='deep')"
   ]
  },
  {
   "cell_type": "code",
   "execution_count": 94,
   "metadata": {
    "ExecuteTime": {
     "end_time": "2018-07-04T07:40:19.292506Z",
     "start_time": "2018-07-04T07:39:52.096950Z"
    }
   },
   "outputs": [
    {
     "name": "stderr",
     "output_type": "stream",
     "text": [
      "D:\\ProgramData\\Anaconda3\\lib\\site-packages\\lightgbm\\basic.py:661: UserWarning: silent keyword has been found in `params` and will be ignored. Please use silent argument of the Dataset constructor to pass this parameter.\n",
      "  'Please use {0} argument of the Dataset constructor to pass this parameter.'.format(key))\n"
     ]
    },
    {
     "name": "stdout",
     "output_type": "stream",
     "text": [
      "Training until validation scores don't improve for 50 rounds.\n",
      "[50]\ttraining's rmse: 53.6567\tvalid_1's rmse: 56.9758\n",
      "[100]\ttraining's rmse: 45.8705\tvalid_1's rmse: 56.2335\n",
      "Early stopping, best iteration is:\n",
      "[81]\ttraining's rmse: 48.4051\tvalid_1's rmse: 56.0452\n"
     ]
    }
   ],
   "source": [
    "n=1000\n",
    "gbm=lgb.train(params=params,\n",
    "             train_set=train,\n",
    "             num_boost_round=n,\n",
    "             verbose_eval=50,\n",
    "             early_stopping_rounds=50,\n",
    "             valid_sets=[train,test])\n",
    "#test_size 0.3\n",
    "#[3000]\ttraining's rmse: 9.60607\tvalid_1's rmse: 59.6829\n",
    "\n",
    "#0.3,  6,Nan\n",
    "#[3000]\ttraining's rmse: 6.20622\tvalid_1's rmse: 61.0952\n",
    "#0.3,  6 no Nan -> 0\n",
    "#[3000]\ttraining's rmse: 6.20622\tvalid_1's rmse: 61.0952\n",
    "# no  random_state\n",
    "#[3000]\ttraining's rmse: 10.9761\tvalid_1's rmse: 63.8042\n",
    "#no no  random_state 0.3,5\n",
    "#[3000]\ttraining's rmse: 9.83448\tvalid_1's rmse: 59.5719\n",
    "### new feat price_per_ivory_qua1"
   ]
  },
  {
   "cell_type": "code",
   "execution_count": null,
   "metadata": {},
   "outputs": [],
   "source": [
    "##############################"
   ]
  },
  {
   "cell_type": "code",
   "execution_count": null,
   "metadata": {},
   "outputs": [],
   "source": []
  },
  {
   "cell_type": "code",
   "execution_count": null,
   "metadata": {},
   "outputs": [],
   "source": []
  },
  {
   "cell_type": "code",
   "execution_count": null,
   "metadata": {},
   "outputs": [],
   "source": []
  },
  {
   "cell_type": "code",
   "execution_count": null,
   "metadata": {
    "ExecuteTime": {
     "end_time": "2018-07-03T07:30:42.091227Z",
     "start_time": "2018-07-03T07:30:42.042026Z"
    }
   },
   "outputs": [],
   "source": [
    "import gc\n",
    "#del train_feat\n",
    "gc.collect()"
   ]
  },
  {
   "cell_type": "code",
   "execution_count": null,
   "metadata": {},
   "outputs": [],
   "source": [
    "pred_train=gbm.predict(X_test)"
   ]
  },
  {
   "cell_type": "code",
   "execution_count": null,
   "metadata": {},
   "outputs": [],
   "source": [
    "np.sqrt(mean_squared_error(y_test,pred_train))"
   ]
  },
  {
   "cell_type": "code",
   "execution_count": null,
   "metadata": {},
   "outputs": [],
   "source": []
  },
  {
   "cell_type": "code",
   "execution_count": null,
   "metadata": {},
   "outputs": [],
   "source": []
  }
 ],
 "metadata": {
  "kernelspec": {
   "display_name": "Python 3",
   "language": "python",
   "name": "python3"
  },
  "language_info": {
   "codemirror_mode": {
    "name": "ipython",
    "version": 3
   },
   "file_extension": ".py",
   "mimetype": "text/x-python",
   "name": "python",
   "nbconvert_exporter": "python",
   "pygments_lexer": "ipython3",
   "version": "3.6.3"
  }
 },
 "nbformat": 4,
 "nbformat_minor": 2
}
