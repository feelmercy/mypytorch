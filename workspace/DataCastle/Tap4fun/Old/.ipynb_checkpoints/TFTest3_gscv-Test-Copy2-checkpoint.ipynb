{
 "cells": [
  {
   "cell_type": "code",
   "execution_count": 70,
   "metadata": {
    "ExecuteTime": {
     "end_time": "2018-08-10T07:41:23.211023Z",
     "start_time": "2018-08-10T07:41:23.208023Z"
    }
   },
   "outputs": [],
   "source": [
    "import pandas as pd\n",
    "import numpy as np"
   ]
  },
  {
   "cell_type": "code",
   "execution_count": 71,
   "metadata": {
    "ExecuteTime": {
     "end_time": "2018-08-10T07:41:23.312029Z",
     "start_time": "2018-08-10T07:41:23.213024Z"
    }
   },
   "outputs": [],
   "source": [
    "df_train=pd.read_csv('F:\\\\study\\\\ml\\\\DataSet\\\\Tap4fun\\\\tap_fun_train.csv',nrows=5)"
   ]
  },
  {
   "cell_type": "code",
   "execution_count": 72,
   "metadata": {
    "ExecuteTime": {
     "end_time": "2018-08-10T07:41:23.404035Z",
     "start_time": "2018-08-10T07:41:23.313029Z"
    }
   },
   "outputs": [
    {
     "name": "stdout",
     "output_type": "stream",
     "text": [
      "<class 'pandas.core.frame.DataFrame'>\n",
      "RangeIndex: 5 entries, 0 to 4\n",
      "Columns: 109 entries, user_id to prediction_pay_price\n",
      "dtypes: float64(13), int64(95), object(1)\n",
      "memory usage: 4.7 KB\n"
     ]
    }
   ],
   "source": [
    "df_train.info(memory_usage='deep')"
   ]
  },
  {
   "cell_type": "code",
   "execution_count": 73,
   "metadata": {
    "ExecuteTime": {
     "end_time": "2018-08-10T07:41:23.565044Z",
     "start_time": "2018-08-10T07:41:23.405035Z"
    }
   },
   "outputs": [],
   "source": [
    "c_int=df_train.select_dtypes(include=['int64']).apply(pd.to_numeric,downcast='unsigned')\n",
    "c_float=df_train.select_dtypes(include=['float']).apply(pd.to_numeric,downcast='float')"
   ]
  },
  {
   "cell_type": "code",
   "execution_count": 74,
   "metadata": {
    "ExecuteTime": {
     "end_time": "2018-08-10T07:41:23.620047Z",
     "start_time": "2018-08-10T07:41:23.566044Z"
    }
   },
   "outputs": [],
   "source": [
    "o_df=df_train.copy()"
   ]
  },
  {
   "cell_type": "code",
   "execution_count": 75,
   "metadata": {
    "ExecuteTime": {
     "end_time": "2018-08-10T07:41:23.736053Z",
     "start_time": "2018-08-10T07:41:23.621047Z"
    }
   },
   "outputs": [],
   "source": [
    "o_df[c_int.columns]=c_int\n",
    "o_df[c_float.columns]=c_float"
   ]
  },
  {
   "cell_type": "code",
   "execution_count": 76,
   "metadata": {
    "ExecuteTime": {
     "end_time": "2018-08-10T07:41:23.803057Z",
     "start_time": "2018-08-10T07:41:23.738054Z"
    }
   },
   "outputs": [],
   "source": [
    "dtypes=o_df.dtypes\n",
    "dtypes_col=dtypes.index\n",
    "dtypes_type=[i.name for i in dtypes.values]\n",
    "column_type=dict(zip(dtypes_col,dtypes_type))"
   ]
  },
  {
   "cell_type": "code",
   "execution_count": 77,
   "metadata": {
    "ExecuteTime": {
     "end_time": "2018-08-10T07:41:23.886062Z",
     "start_time": "2018-08-10T07:41:23.804057Z"
    }
   },
   "outputs": [],
   "source": [
    "#column_type"
   ]
  },
  {
   "cell_type": "code",
   "execution_count": 78,
   "metadata": {
    "ExecuteTime": {
     "end_time": "2018-08-10T07:41:23.985068Z",
     "start_time": "2018-08-10T07:41:23.888062Z"
    }
   },
   "outputs": [
    {
     "data": {
      "text/plain": [
       "'object'"
      ]
     },
     "execution_count": 78,
     "metadata": {},
     "output_type": "execute_result"
    }
   ],
   "source": [
    "column_type.pop('register_time')"
   ]
  },
  {
   "cell_type": "code",
   "execution_count": 79,
   "metadata": {
    "ExecuteTime": {
     "end_time": "2018-08-10T07:41:31.505498Z",
     "start_time": "2018-08-10T07:41:23.988068Z"
    }
   },
   "outputs": [],
   "source": [
    "data_train=pd.read_csv('F:\\\\study\\\\ml\\\\DataSet\\\\Tap4fun\\\\tap_fun_train.csv',\n",
    "                      dtype=column_type,parse_dates=['register_time'],infer_datetime_format=True)"
   ]
  },
  {
   "cell_type": "code",
   "execution_count": 80,
   "metadata": {
    "ExecuteTime": {
     "end_time": "2018-08-10T07:41:31.516499Z",
     "start_time": "2018-08-10T07:41:31.507498Z"
    }
   },
   "outputs": [
    {
     "name": "stdout",
     "output_type": "stream",
     "text": [
      "<class 'pandas.core.frame.DataFrame'>\n",
      "RangeIndex: 828934 entries, 0 to 828933\n",
      "Columns: 108 entries, user_id to pay_count\n",
      "dtypes: datetime64[ns](1), float32(12), uint16(1), uint8(94)\n",
      "memory usage: 120.2 MB\n"
     ]
    }
   ],
   "source": [
    "data_train.info(memory_usage='deep')"
   ]
  },
  {
   "cell_type": "code",
   "execution_count": 81,
   "metadata": {
    "ExecuteTime": {
     "end_time": "2018-08-10T07:41:31.679508Z",
     "start_time": "2018-08-10T07:41:31.518499Z"
    }
   },
   "outputs": [],
   "source": [
    "train_feat2=data_train.copy()\n",
    "# test_feat=data_test\n"
   ]
  },
  {
   "cell_type": "code",
   "execution_count": 82,
   "metadata": {
    "ExecuteTime": {
     "end_time": "2018-08-10T07:41:31.746512Z",
     "start_time": "2018-08-10T07:41:31.680508Z"
    }
   },
   "outputs": [
    {
     "data": {
      "text/plain": [
       "(828934, 108)"
      ]
     },
     "execution_count": 82,
     "metadata": {},
     "output_type": "execute_result"
    }
   ],
   "source": [
    "train_feat2.shape"
   ]
  },
  {
   "cell_type": "code",
   "execution_count": 83,
   "metadata": {
    "ExecuteTime": {
     "end_time": "2018-08-10T07:41:31.887520Z",
     "start_time": "2018-08-10T07:41:31.747512Z"
    }
   },
   "outputs": [],
   "source": [
    "del data_train"
   ]
  },
  {
   "cell_type": "code",
   "execution_count": 84,
   "metadata": {
    "ExecuteTime": {
     "end_time": "2018-08-10T07:41:32.043529Z",
     "start_time": "2018-08-10T07:41:31.888520Z"
    }
   },
   "outputs": [
    {
     "data": {
      "text/plain": [
       "(828934, 108)"
      ]
     },
     "execution_count": 84,
     "metadata": {},
     "output_type": "execute_result"
    }
   ],
   "source": [
    "train_feat2.shape"
   ]
  },
  {
   "cell_type": "code",
   "execution_count": 85,
   "metadata": {
    "ExecuteTime": {
     "end_time": "2018-08-10T07:41:32.170536Z",
     "start_time": "2018-08-10T07:41:32.045529Z"
    }
   },
   "outputs": [],
   "source": [
    "label_train=train_feat2['prediction_pay_price']"
   ]
  },
  {
   "cell_type": "code",
   "execution_count": 86,
   "metadata": {
    "ExecuteTime": {
     "end_time": "2018-08-10T07:41:32.262541Z",
     "start_time": "2018-08-10T07:41:32.171536Z"
    }
   },
   "outputs": [
    {
     "data": {
      "text/plain": [
       "(828934, 108)"
      ]
     },
     "execution_count": 86,
     "metadata": {},
     "output_type": "execute_result"
    }
   ],
   "source": [
    "train_feat2.shape"
   ]
  },
  {
   "cell_type": "code",
   "execution_count": 87,
   "metadata": {
    "ExecuteTime": {
     "end_time": "2018-08-10T07:41:32.357547Z",
     "start_time": "2018-08-10T07:41:32.266541Z"
    }
   },
   "outputs": [],
   "source": [
    "train_feat2['ivory_qua1']=train_feat2.ivory_add_value+train_feat2.ivory_reduce_value\n",
    "train_feat2['ivory_qua2']=train_feat2.ivory_add_value-train_feat2.ivory_reduce_value"
   ]
  },
  {
   "cell_type": "code",
   "execution_count": 88,
   "metadata": {
    "ExecuteTime": {
     "end_time": "2018-08-10T07:41:32.444552Z",
     "start_time": "2018-08-10T07:41:32.359547Z"
    }
   },
   "outputs": [],
   "source": [
    "train_feat2['stone_qua1']=train_feat2.stone_add_value+train_feat2.stone_reduce_value\n",
    "train_feat2['stone_qua2']=train_feat2.stone_add_value-train_feat2.stone_reduce_value"
   ]
  },
  {
   "cell_type": "code",
   "execution_count": 89,
   "metadata": {
    "ExecuteTime": {
     "end_time": "2018-08-10T07:41:32.544557Z",
     "start_time": "2018-08-10T07:41:32.445552Z"
    }
   },
   "outputs": [],
   "source": [
    "train_feat2['meat_qua1']=train_feat2.meat_add_value+train_feat2.meat_reduce_value\n",
    "train_feat2['meat_qua2']=train_feat2.meat_add_value-train_feat2.meat_reduce_value"
   ]
  },
  {
   "cell_type": "code",
   "execution_count": 90,
   "metadata": {
    "ExecuteTime": {
     "end_time": "2018-08-10T07:41:32.636563Z",
     "start_time": "2018-08-10T07:41:32.545557Z"
    }
   },
   "outputs": [],
   "source": [
    "train_feat2['wood_qua1']=train_feat2.wood_add_value+train_feat2.wood_reduce_value\n",
    "train_feat2['wood_qua2']=train_feat2.wood_add_value-train_feat2.wood_reduce_value"
   ]
  },
  {
   "cell_type": "code",
   "execution_count": 91,
   "metadata": {
    "ExecuteTime": {
     "end_time": "2018-08-10T07:41:32.729568Z",
     "start_time": "2018-08-10T07:41:32.638563Z"
    }
   },
   "outputs": [],
   "source": [
    "# for test feat\n",
    "# test_feat2['ivory_qua1']=test_feat.ivory_add_value+test_feat.ivory_reduce_value\n",
    "# test_feat2['ivory_qua2']=test_feat.ivory_add_value-test_feat.ivory_reduce_value\n",
    "# test_feat2['stone_qua1']=test_feat.stone_add_value+test_feat.stone_reduce_value\n",
    "# test_feat2['stone_qua2']=test_feat.stone_add_value-test_feat.stone_reduce_value\n",
    "# test_feat2['meat_qua1']=test_feat.meat_add_value+test_feat.meat_reduce_value\n",
    "# test_feat2['meat_qua2']=test_feat.meat_add_value-test_feat.meat_reduce_value\n",
    "# test_feat2['wood_qua1']=test_feat.wood_add_value+test_feat.wood_reduce_value\n",
    "# test_feat2['wood_qua2']=test_feat.wood_add_value-test_feat.wood_reduce_value"
   ]
  },
  {
   "cell_type": "code",
   "execution_count": 92,
   "metadata": {
    "ExecuteTime": {
     "end_time": "2018-08-10T07:41:32.871576Z",
     "start_time": "2018-08-10T07:41:32.730568Z"
    }
   },
   "outputs": [],
   "source": [
    "# train_feat.shape"
   ]
  },
  {
   "cell_type": "code",
   "execution_count": 93,
   "metadata": {
    "ExecuteTime": {
     "end_time": "2018-08-10T07:41:32.970582Z",
     "start_time": "2018-08-10T07:41:32.872576Z"
    }
   },
   "outputs": [],
   "source": [
    "# train_feat2.shape"
   ]
  },
  {
   "cell_type": "code",
   "execution_count": 94,
   "metadata": {
    "ExecuteTime": {
     "end_time": "2018-08-10T07:41:33.049586Z",
     "start_time": "2018-08-10T07:41:32.971582Z"
    }
   },
   "outputs": [],
   "source": [
    "# test_feat2.shape"
   ]
  },
  {
   "cell_type": "code",
   "execution_count": 95,
   "metadata": {
    "ExecuteTime": {
     "end_time": "2018-08-10T07:41:33.190594Z",
     "start_time": "2018-08-10T07:41:33.050586Z"
    }
   },
   "outputs": [],
   "source": [
    "#train_corr2=train_feat2.corr()"
   ]
  },
  {
   "cell_type": "code",
   "execution_count": 96,
   "metadata": {
    "ExecuteTime": {
     "end_time": "2018-08-10T07:41:33.278599Z",
     "start_time": "2018-08-10T07:41:33.191594Z"
    }
   },
   "outputs": [],
   "source": [
    "#train_corr2['prediction_pay_price'].sort_values(ascending=False).head(40)"
   ]
  },
  {
   "cell_type": "code",
   "execution_count": 97,
   "metadata": {
    "ExecuteTime": {
     "end_time": "2018-08-10T07:41:33.379605Z",
     "start_time": "2018-08-10T07:41:33.280599Z"
    }
   },
   "outputs": [],
   "source": [
    "import re"
   ]
  },
  {
   "cell_type": "code",
   "execution_count": 98,
   "metadata": {
    "ExecuteTime": {
     "end_time": "2018-08-10T07:41:33.481611Z",
     "start_time": "2018-08-10T07:41:33.380605Z"
    },
    "scrolled": true
   },
   "outputs": [
    {
     "data": {
      "text/plain": [
       "array(['sr_troop_defense_level', 'sr_infantry_def_level',\n",
       "       'sr_cavalry_def_level', 'sr_shaman_def_level'], dtype=object)"
      ]
     },
     "execution_count": 98,
     "metadata": {},
     "output_type": "execute_result"
    }
   ],
   "source": [
    "train_feat2.columns.values[pd.Series(train_feat2.columns.values).str.contains('def')]"
   ]
  },
  {
   "cell_type": "code",
   "execution_count": 99,
   "metadata": {
    "ExecuteTime": {
     "end_time": "2018-08-10T07:41:33.564616Z",
     "start_time": "2018-08-10T07:41:33.482611Z"
    }
   },
   "outputs": [
    {
     "data": {
      "text/plain": [
       "pandas.core.series.Series"
      ]
     },
     "execution_count": 99,
     "metadata": {},
     "output_type": "execute_result"
    }
   ],
   "source": [
    "type(pd.Series(train_feat2.columns.values).str.contains('def'))"
   ]
  },
  {
   "cell_type": "code",
   "execution_count": 100,
   "metadata": {
    "ExecuteTime": {
     "end_time": "2018-08-10T07:41:33.679622Z",
     "start_time": "2018-08-10T07:41:33.565616Z"
    }
   },
   "outputs": [],
   "source": [
    "#del text"
   ]
  },
  {
   "cell_type": "code",
   "execution_count": 101,
   "metadata": {
    "ExecuteTime": {
     "end_time": "2018-08-10T07:41:33.770627Z",
     "start_time": "2018-08-10T07:41:33.680622Z"
    },
    "scrolled": true
   },
   "outputs": [],
   "source": [
    "text_def=[]\n",
    "for col in train_feat2.columns.values:\n",
    "     if 'def' in col:\n",
    "            text_def.append(col)"
   ]
  },
  {
   "cell_type": "code",
   "execution_count": 102,
   "metadata": {
    "ExecuteTime": {
     "end_time": "2018-08-10T07:41:33.882634Z",
     "start_time": "2018-08-10T07:41:33.771627Z"
    }
   },
   "outputs": [
    {
     "data": {
      "text/plain": [
       "['sr_troop_defense_level',\n",
       " 'sr_infantry_def_level',\n",
       " 'sr_cavalry_def_level',\n",
       " 'sr_shaman_def_level']"
      ]
     },
     "execution_count": 102,
     "metadata": {},
     "output_type": "execute_result"
    }
   ],
   "source": [
    "text_def"
   ]
  },
  {
   "cell_type": "code",
   "execution_count": 103,
   "metadata": {
    "ExecuteTime": {
     "end_time": "2018-08-10T07:41:34.006641Z",
     "start_time": "2018-08-10T07:41:33.885634Z"
    }
   },
   "outputs": [
    {
     "data": {
      "text/html": [
       "<div>\n",
       "<style scoped>\n",
       "    .dataframe tbody tr th:only-of-type {\n",
       "        vertical-align: middle;\n",
       "    }\n",
       "\n",
       "    .dataframe tbody tr th {\n",
       "        vertical-align: top;\n",
       "    }\n",
       "\n",
       "    .dataframe thead th {\n",
       "        text-align: right;\n",
       "    }\n",
       "</style>\n",
       "<table border=\"1\" class=\"dataframe\">\n",
       "  <thead>\n",
       "    <tr style=\"text-align: right;\">\n",
       "      <th></th>\n",
       "      <th>user_id</th>\n",
       "      <th>register_time</th>\n",
       "      <th>wood_add_value</th>\n",
       "      <th>wood_reduce_value</th>\n",
       "      <th>stone_add_value</th>\n",
       "      <th>stone_reduce_value</th>\n",
       "      <th>ivory_add_value</th>\n",
       "      <th>ivory_reduce_value</th>\n",
       "      <th>meat_add_value</th>\n",
       "      <th>meat_reduce_value</th>\n",
       "      <th>...</th>\n",
       "      <th>pay_price</th>\n",
       "      <th>pay_count</th>\n",
       "      <th>ivory_qua1</th>\n",
       "      <th>ivory_qua2</th>\n",
       "      <th>stone_qua1</th>\n",
       "      <th>stone_qua2</th>\n",
       "      <th>meat_qua1</th>\n",
       "      <th>meat_qua2</th>\n",
       "      <th>wood_qua1</th>\n",
       "      <th>wood_qua2</th>\n",
       "    </tr>\n",
       "  </thead>\n",
       "  <tbody>\n",
       "    <tr>\n",
       "      <th>0</th>\n",
       "      <td>14933</td>\n",
       "      <td>2018-03-08 20:27:57</td>\n",
       "      <td>166415.0</td>\n",
       "      <td>138362.0</td>\n",
       "      <td>0.0</td>\n",
       "      <td>0.0</td>\n",
       "      <td>0.0</td>\n",
       "      <td>0.0</td>\n",
       "      <td>258522.0</td>\n",
       "      <td>90142.0</td>\n",
       "      <td>...</td>\n",
       "      <td>0.0</td>\n",
       "      <td>0</td>\n",
       "      <td>0.0</td>\n",
       "      <td>0.0</td>\n",
       "      <td>0.0</td>\n",
       "      <td>0.0</td>\n",
       "      <td>348664.0</td>\n",
       "      <td>168380.0</td>\n",
       "      <td>304777.0</td>\n",
       "      <td>28053.0</td>\n",
       "    </tr>\n",
       "    <tr>\n",
       "      <th>1</th>\n",
       "      <td>14934</td>\n",
       "      <td>2018-03-08 20:29:42</td>\n",
       "      <td>10000.0</td>\n",
       "      <td>600.0</td>\n",
       "      <td>0.0</td>\n",
       "      <td>0.0</td>\n",
       "      <td>0.0</td>\n",
       "      <td>0.0</td>\n",
       "      <td>10000.0</td>\n",
       "      <td>400.0</td>\n",
       "      <td>...</td>\n",
       "      <td>0.0</td>\n",
       "      <td>0</td>\n",
       "      <td>0.0</td>\n",
       "      <td>0.0</td>\n",
       "      <td>0.0</td>\n",
       "      <td>0.0</td>\n",
       "      <td>10400.0</td>\n",
       "      <td>9600.0</td>\n",
       "      <td>10600.0</td>\n",
       "      <td>9400.0</td>\n",
       "    </tr>\n",
       "    <tr>\n",
       "      <th>2</th>\n",
       "      <td>14935</td>\n",
       "      <td>2018-03-08 20:30:13</td>\n",
       "      <td>10000.0</td>\n",
       "      <td>3700.0</td>\n",
       "      <td>0.0</td>\n",
       "      <td>0.0</td>\n",
       "      <td>0.0</td>\n",
       "      <td>0.0</td>\n",
       "      <td>10000.0</td>\n",
       "      <td>2000.0</td>\n",
       "      <td>...</td>\n",
       "      <td>0.0</td>\n",
       "      <td>0</td>\n",
       "      <td>0.0</td>\n",
       "      <td>0.0</td>\n",
       "      <td>0.0</td>\n",
       "      <td>0.0</td>\n",
       "      <td>12000.0</td>\n",
       "      <td>8000.0</td>\n",
       "      <td>13700.0</td>\n",
       "      <td>6300.0</td>\n",
       "    </tr>\n",
       "    <tr>\n",
       "      <th>3</th>\n",
       "      <td>14936</td>\n",
       "      <td>2018-03-08 20:31:41</td>\n",
       "      <td>210000.0</td>\n",
       "      <td>0.0</td>\n",
       "      <td>200000.0</td>\n",
       "      <td>0.0</td>\n",
       "      <td>200000.0</td>\n",
       "      <td>0.0</td>\n",
       "      <td>610000.0</td>\n",
       "      <td>0.0</td>\n",
       "      <td>...</td>\n",
       "      <td>0.0</td>\n",
       "      <td>0</td>\n",
       "      <td>200000.0</td>\n",
       "      <td>200000.0</td>\n",
       "      <td>200000.0</td>\n",
       "      <td>200000.0</td>\n",
       "      <td>610000.0</td>\n",
       "      <td>610000.0</td>\n",
       "      <td>210000.0</td>\n",
       "      <td>210000.0</td>\n",
       "    </tr>\n",
       "    <tr>\n",
       "      <th>4</th>\n",
       "      <td>14937</td>\n",
       "      <td>2018-03-08 20:32:07</td>\n",
       "      <td>11500.0</td>\n",
       "      <td>3700.0</td>\n",
       "      <td>0.0</td>\n",
       "      <td>0.0</td>\n",
       "      <td>0.0</td>\n",
       "      <td>0.0</td>\n",
       "      <td>11000.0</td>\n",
       "      <td>2000.0</td>\n",
       "      <td>...</td>\n",
       "      <td>0.0</td>\n",
       "      <td>0</td>\n",
       "      <td>0.0</td>\n",
       "      <td>0.0</td>\n",
       "      <td>0.0</td>\n",
       "      <td>0.0</td>\n",
       "      <td>13000.0</td>\n",
       "      <td>9000.0</td>\n",
       "      <td>15200.0</td>\n",
       "      <td>7800.0</td>\n",
       "    </tr>\n",
       "  </tbody>\n",
       "</table>\n",
       "<p>5 rows × 116 columns</p>\n",
       "</div>"
      ],
      "text/plain": [
       "   user_id       register_time  wood_add_value  wood_reduce_value  \\\n",
       "0    14933 2018-03-08 20:27:57        166415.0           138362.0   \n",
       "1    14934 2018-03-08 20:29:42         10000.0              600.0   \n",
       "2    14935 2018-03-08 20:30:13         10000.0             3700.0   \n",
       "3    14936 2018-03-08 20:31:41        210000.0                0.0   \n",
       "4    14937 2018-03-08 20:32:07         11500.0             3700.0   \n",
       "\n",
       "   stone_add_value  stone_reduce_value  ivory_add_value  ivory_reduce_value  \\\n",
       "0              0.0                 0.0              0.0                 0.0   \n",
       "1              0.0                 0.0              0.0                 0.0   \n",
       "2              0.0                 0.0              0.0                 0.0   \n",
       "3         200000.0                 0.0         200000.0                 0.0   \n",
       "4              0.0                 0.0              0.0                 0.0   \n",
       "\n",
       "   meat_add_value  meat_reduce_value    ...      pay_price  pay_count  \\\n",
       "0        258522.0            90142.0    ...            0.0          0   \n",
       "1         10000.0              400.0    ...            0.0          0   \n",
       "2         10000.0             2000.0    ...            0.0          0   \n",
       "3        610000.0                0.0    ...            0.0          0   \n",
       "4         11000.0             2000.0    ...            0.0          0   \n",
       "\n",
       "   ivory_qua1  ivory_qua2  stone_qua1  stone_qua2  meat_qua1  meat_qua2  \\\n",
       "0         0.0         0.0         0.0         0.0   348664.0   168380.0   \n",
       "1         0.0         0.0         0.0         0.0    10400.0     9600.0   \n",
       "2         0.0         0.0         0.0         0.0    12000.0     8000.0   \n",
       "3    200000.0    200000.0    200000.0    200000.0   610000.0   610000.0   \n",
       "4         0.0         0.0         0.0         0.0    13000.0     9000.0   \n",
       "\n",
       "   wood_qua1  wood_qua2  \n",
       "0   304777.0    28053.0  \n",
       "1    10600.0     9400.0  \n",
       "2    13700.0     6300.0  \n",
       "3   210000.0   210000.0  \n",
       "4    15200.0     7800.0  \n",
       "\n",
       "[5 rows x 116 columns]"
      ]
     },
     "execution_count": 103,
     "metadata": {},
     "output_type": "execute_result"
    }
   ],
   "source": [
    "#train_coorr1.to_csv('F:\\\\study\\\\ml\\\\DataSet\\\\Tap4fun\\\\train_feat_corr.csv')\n",
    "#del feat_def_qua\n",
    "train_feat2.head()"
   ]
  },
  {
   "cell_type": "code",
   "execution_count": 104,
   "metadata": {
    "ExecuteTime": {
     "end_time": "2018-08-10T07:41:34.483668Z",
     "start_time": "2018-08-10T07:41:34.007641Z"
    }
   },
   "outputs": [],
   "source": [
    "text_def=[]\n",
    "for col in train_feat2.columns.values:\n",
    "     if 'def' in col:\n",
    "            text_def.append(col)\n",
    "\n",
    "text_def\n",
    "\n",
    "type(text_def)\n",
    "\n",
    "text_troop=[]\n",
    "for col in train_feat2.columns.values:\n",
    "    if 'troop' in col :\n",
    "        text_troop.append(col)\n",
    "\n",
    "text_troop\n",
    "\n",
    "text_cavalry=[]\n",
    "for col in train_feat2.columns.values:\n",
    "    if 'sr_cavalry' in col :\n",
    "        text_cavalry.append(col)\n",
    "\n",
    "text_cavalry\n",
    "\n",
    "text_infantry=[]\n",
    "for col in train_feat2.columns.values:\n",
    "    if 'sr_infantry' in col :\n",
    "        text_infantry.append(col)\n",
    "\n",
    "text_infantry\n",
    "\n",
    "text_shaman=[]\n",
    "for col in train_feat2.columns.values:\n",
    "    if 'sr_shaman' in col :\n",
    "        text_shaman.append(col)\n",
    "\n",
    "text_shaman\n",
    "\n",
    "text_speed=[]\n",
    "for col in train_feat2.columns.values:\n",
    "    if 'speed' in col :\n",
    "        text_speed.append(col)\n",
    "\n",
    "text_speed\n",
    "\n",
    "train_feat2['def_qua1']=0.0\n",
    "for name in text_def:\n",
    "    train_feat2['def_qua1']+=train_feat2[name]\n",
    "\n",
    "#pd.Series(train_feat2.columns.values) .str.contains('def')\n",
    "\n",
    "#train_feat2[train_feat2.sr_troop_attack_level != 0][train_feat2.columns.values[pd.Series(train_feat2.columns.values) .str.contains('def')]]\n",
    "\n",
    "train_feat2['def_qua1']=0.0\n",
    "for name in text_def:\n",
    "    train_feat2['def_qua1']+=train_feat2[name]\n",
    "\n",
    "# test_feat2['def_qua1']=0.0\n",
    "# for name in text_def:\n",
    "#     test_feat2['def_qua1']+=test_feat2[name]\n",
    "\n",
    "train_feat2['cavalry_qua1']=0.0\n",
    "for name in text_cavalry:\n",
    "    train_feat2['cavalry_qua1']+=train_feat2[name]\n",
    "\n",
    "# test_feat2['cavalry_qua1']=0.0\n",
    "# for name in text_cavalry:\n",
    "#     test_feat2['cavalry_qua1']+=test_feat2[name]\n",
    "\n",
    "train_feat2['infantry_qua1']=0.0\n",
    "for name in text_infantry:\n",
    "    train_feat2['infantry_qua1']+=train_feat2[name]\n",
    "\n",
    "# test_feat2['infantry_qua1']=0.0\n",
    "# for name in text_infantry:\n",
    "#     test_feat2['infantry_qua1']+=test_feat2[name]\n",
    "\n",
    "train_feat2['shaman_qua1']=0.0\n",
    "for name in text_shaman:\n",
    "    train_feat2['shaman_qua1']+=train_feat2[name]\n",
    "\n",
    "# test_feat2['shaman_qua1']=0.0\n",
    "# for name in text_shaman:\n",
    "#     test_feat2['shaman_qua1']+=test_feat2[name]\n",
    "\n",
    "train_feat2['speed_qua1']=0.0\n",
    "for name in text_speed:\n",
    "    train_feat2['speed_qua1']+=train_feat2[name]\n",
    "\n",
    "# test_feat2['speed_qua1']=0.0\n",
    "# for name in text_speed:\n",
    "#     test_feat2['speed_qua1']+=test_feat2[name]\n",
    "\n",
    "train_feat2['troop_qua1']=0.0\n",
    "for name in text_troop:\n",
    "    train_feat2['troop_qua1']+=train_feat2[name]"
   ]
  },
  {
   "cell_type": "code",
   "execution_count": 105,
   "metadata": {
    "ExecuteTime": {
     "end_time": "2018-08-10T07:41:34.487668Z",
     "start_time": "2018-08-10T07:41:34.484668Z"
    }
   },
   "outputs": [],
   "source": [
    "# test_feat2['troop_qua1']=0.0\n",
    "# for name in text_troop:\n",
    "#     test_feat2['troop_qua1']+=test_feat2[name]"
   ]
  },
  {
   "cell_type": "code",
   "execution_count": 106,
   "metadata": {
    "ExecuteTime": {
     "end_time": "2018-08-10T07:41:34.581674Z",
     "start_time": "2018-08-10T07:41:34.488669Z"
    }
   },
   "outputs": [
    {
     "data": {
      "text/plain": [
       "array(['pvp_battle_count', 'pvp_lanch_count', 'pvp_win_count',\n",
       "       'pve_battle_count', 'pve_lanch_count', 'pve_win_count'],\n",
       "      dtype=object)"
      ]
     },
     "execution_count": 106,
     "metadata": {},
     "output_type": "execute_result"
    }
   ],
   "source": [
    "train_feat2.columns.values[pd.Series(train_feat2.columns.values).str.contains('^pv')]"
   ]
  },
  {
   "cell_type": "code",
   "execution_count": 107,
   "metadata": {
    "ExecuteTime": {
     "end_time": "2018-08-10T07:41:34.664679Z",
     "start_time": "2018-08-10T07:41:34.582674Z"
    }
   },
   "outputs": [
    {
     "data": {
      "text/plain": [
       "array(['bd_hero_pve_level', 'sr_pvp_march_speed_level',\n",
       "       'pvp_battle_count', 'pvp_lanch_count', 'pvp_win_count',\n",
       "       'pve_battle_count', 'pve_lanch_count', 'pve_win_count'],\n",
       "      dtype=object)"
      ]
     },
     "execution_count": 107,
     "metadata": {},
     "output_type": "execute_result"
    }
   ],
   "source": [
    "train_feat2.columns.values[pd.Series(train_feat2.columns.values).str.contains('pv')]"
   ]
  },
  {
   "cell_type": "code",
   "execution_count": 108,
   "metadata": {
    "ExecuteTime": {
     "end_time": "2018-08-10T07:41:34.754684Z",
     "start_time": "2018-08-10T07:41:34.665679Z"
    }
   },
   "outputs": [],
   "source": [
    "# train_feat2['pvp_lanch_rate_qua1']=train_feat2.pvp_lanch_count/train_feat2.pvp_battle_count\n",
    "# train_feat2['pvp_win_rate_qua1']=train_feat2.pvp_win_count / train_feat2.pvp_battle_count\n",
    "# train_feat2['pvp_win_lanch_rate_qua1']=train_feat2.pvp_win_count / \\\n",
    "# train_feat2.pvp_lanch_count\n",
    "# train_feat2['pve_lanch_rate_qua1']=train_feat2.pve_lanch_count/train_feat2.pve_battle_count\n",
    "# train_feat2['pve_win_rate_qua1']=train_feat2.pve_win_count / train_feat2.pve_battle_count\n",
    "# train_feat2['pve_win_lanch_rate_qua1']=train_feat2.pve_win_count / \\\n",
    "# train_feat2.pve_lanch_count"
   ]
  },
  {
   "cell_type": "code",
   "execution_count": 109,
   "metadata": {
    "ExecuteTime": {
     "end_time": "2018-08-10T07:41:34.945695Z",
     "start_time": "2018-08-10T07:41:34.755684Z"
    }
   },
   "outputs": [],
   "source": [
    "# text_mi=train_feat2.columns[pd.Series(train_feat2.columns.values).str.contains('qua')].tolist()\n",
    "# for name in text_mi :\n",
    "#     name2='x_avg_mi_'+name\n",
    "#     #print(name2)\n",
    "#     train_feat2[name2]=train_feat2[name] / train_feat2.avg_online_minutes\n",
    "\n",
    "# text_top=['ivory','stone','wood','meat']\n",
    "# text_top_add=[]\n",
    "# for name in text_top:\n",
    "#     name2=name+'_add'\n",
    "#     text_top_add.extend(train_feat2.columns[pd.Series(train_feat2.columns.values).str.contains(name2)].tolist())\n",
    "\n",
    "# text_top_add2=[]\n",
    "# for name in text_top_add :\n",
    "#     name2='x_avg_mi_'+name\n",
    "#     train_feat2[name2]=train_feat2[name] / train_feat2.avg_online_minutes\n",
    "#     text_top_add2.append(name2)\n"
   ]
  },
  {
   "cell_type": "code",
   "execution_count": 110,
   "metadata": {
    "ExecuteTime": {
     "end_time": "2018-08-10T07:41:35.207710Z",
     "start_time": "2018-08-10T07:41:34.947695Z"
    }
   },
   "outputs": [],
   "source": [
    "# #\n",
    "# train_feat2['pvp_lanch_rate_qua1']=train_feat2.pvp_lanch_count / train_feat2.pvp_battle_count\n",
    "# train_feat2['pvp_win_rate_qua1']=train_feat2.pvp_win_count / trainhttp://localhost:8888/notebooks/Tap4fun/TFTest22.ipynb#_feat2.pvp_battle_count\n",
    "# train_feat2['pve_lanch_rate_qua1']=train_feat2.pve_lanch_count / train_feat2.pve_battle_count\n",
    "# train_feat2['pve_win_rate_qua1']=train_feat2.pve_win_count / train_feat2.pve_battle_count\n",
    "# train_feat2['pvep_battle_qua1']=train_feat2.pvp_battle_count + train_feat2.pve_battle_count\n",
    "# train_feat2['pvep_win_qua1']=train_feat2.pvp_win_count + train_feat2.pve_win_count\n",
    "# train_feat2['pvep_lanch_qua1']=train_feat2.pvp_lanch_count + train_feat2.pve_lanch_count"
   ]
  },
  {
   "cell_type": "code",
   "execution_count": 111,
   "metadata": {
    "ExecuteTime": {
     "end_time": "2018-08-10T07:41:35.354718Z",
     "start_time": "2018-08-10T07:41:35.208710Z"
    }
   },
   "outputs": [],
   "source": [
    "# train_feat2['pvep_pve_battle_rate_qua1']=train_feat2.pve_battle_count / train_feat2.pvep_battle_qua1\n",
    "# train_feat2['pvep_pvp_battle_rate_qua1']=train_feat2.pvp_battle_count / train_feat2.pvep_battle_qua1\n",
    "\n",
    "# train_feat2['pvep_pve_lanch_rate_qua1']=train_feat2.pve_lanch_count / train_feat2.pvep_lanch_qua1\n",
    "# train_feat2['pvep_pvp_lanch_rate_qua1']=train_feat2.pvp_lanch_count / train_feat2.pvep_lanch_qua1\n",
    "\n",
    "# train_feat2['pvep_pve_win_rate_qua1']=train_feat2.pve_win_count / train_feat2.pvep_win_qua1\n",
    "# train_feat2['pvep_pvp_win_rate_qua1']=train_feat2.pvp_win_count / train_feat2.pvep_win_qua1\n",
    "\n"
   ]
  },
  {
   "cell_type": "code",
   "execution_count": 112,
   "metadata": {
    "ExecuteTime": {
     "end_time": "2018-08-10T07:41:35.574731Z",
     "start_time": "2018-08-10T07:41:35.355718Z"
    }
   },
   "outputs": [],
   "source": [
    "train_feat2['price_per_count_qua1']=train_feat2.pay_price / train_feat2.pay_count"
   ]
  },
  {
   "cell_type": "code",
   "execution_count": 113,
   "metadata": {
    "ExecuteTime": {
     "end_time": "2018-08-10T07:41:35.578731Z",
     "start_time": "2018-08-10T07:41:35.575731Z"
    }
   },
   "outputs": [],
   "source": [
    "###############################################\n",
    "\n",
    "\n",
    "\n",
    "#train_feat2.fillna(0,inplace=True)\n",
    "\n",
    "\n",
    "\n",
    "###############################################"
   ]
  },
  {
   "cell_type": "code",
   "execution_count": 114,
   "metadata": {
    "ExecuteTime": {
     "end_time": "2018-08-10T07:41:35.650735Z",
     "start_time": "2018-08-10T07:41:35.579731Z"
    }
   },
   "outputs": [
    {
     "data": {
      "text/plain": [
       "(828934, 123)"
      ]
     },
     "execution_count": 114,
     "metadata": {},
     "output_type": "execute_result"
    }
   ],
   "source": [
    "train_feat2.shape"
   ]
  },
  {
   "cell_type": "code",
   "execution_count": null,
   "metadata": {},
   "outputs": [],
   "source": []
  },
  {
   "cell_type": "code",
   "execution_count": null,
   "metadata": {},
   "outputs": [],
   "source": []
  },
  {
   "cell_type": "code",
   "execution_count": null,
   "metadata": {},
   "outputs": [],
   "source": []
  },
  {
   "cell_type": "code",
   "execution_count": 115,
   "metadata": {
    "ExecuteTime": {
     "end_time": "2018-08-10T07:41:35.928751Z",
     "start_time": "2018-08-10T07:41:35.651735Z"
    }
   },
   "outputs": [],
   "source": [
    "train_feat2_int=train_feat2.select_dtypes(include=['uint16','uint8'])\n"
   ]
  },
  {
   "cell_type": "code",
   "execution_count": 116,
   "metadata": {
    "ExecuteTime": {
     "end_time": "2018-08-10T07:41:35.938751Z",
     "start_time": "2018-08-10T07:41:35.929751Z"
    }
   },
   "outputs": [
    {
     "name": "stdout",
     "output_type": "stream",
     "text": [
      "<class 'pandas.core.frame.DataFrame'>\n",
      "RangeIndex: 828934 entries, 0 to 828933\n",
      "Columns: 123 entries, user_id to price_per_count_qua1\n",
      "dtypes: datetime64[ns](1), float32(21), float64(6), uint16(1), uint8(94)\n",
      "memory usage: 186.6 MB\n"
     ]
    }
   ],
   "source": [
    "train_feat2.info()"
   ]
  },
  {
   "cell_type": "code",
   "execution_count": 117,
   "metadata": {
    "ExecuteTime": {
     "end_time": "2018-08-10T07:41:36.046758Z",
     "start_time": "2018-08-10T07:41:35.939752Z"
    }
   },
   "outputs": [
    {
     "data": {
      "text/html": [
       "<div>\n",
       "<style scoped>\n",
       "    .dataframe tbody tr th:only-of-type {\n",
       "        vertical-align: middle;\n",
       "    }\n",
       "\n",
       "    .dataframe tbody tr th {\n",
       "        vertical-align: top;\n",
       "    }\n",
       "\n",
       "    .dataframe thead th {\n",
       "        text-align: right;\n",
       "    }\n",
       "</style>\n",
       "<table border=\"1\" class=\"dataframe\">\n",
       "  <thead>\n",
       "    <tr style=\"text-align: right;\">\n",
       "      <th></th>\n",
       "      <th>user_id</th>\n",
       "      <th>infantry_add_value</th>\n",
       "      <th>infantry_reduce_value</th>\n",
       "      <th>cavalry_add_value</th>\n",
       "      <th>cavalry_reduce_value</th>\n",
       "      <th>shaman_add_value</th>\n",
       "      <th>shaman_reduce_value</th>\n",
       "      <th>wound_infantry_add_value</th>\n",
       "      <th>wound_infantry_reduce_value</th>\n",
       "      <th>wound_cavalry_add_value</th>\n",
       "      <th>...</th>\n",
       "      <th>sr_guest_troop_capacity_level</th>\n",
       "      <th>sr_march_size_level</th>\n",
       "      <th>sr_rss_help_bonus_level</th>\n",
       "      <th>pvp_battle_count</th>\n",
       "      <th>pvp_lanch_count</th>\n",
       "      <th>pvp_win_count</th>\n",
       "      <th>pve_battle_count</th>\n",
       "      <th>pve_lanch_count</th>\n",
       "      <th>pve_win_count</th>\n",
       "      <th>pay_count</th>\n",
       "    </tr>\n",
       "  </thead>\n",
       "  <tbody>\n",
       "    <tr>\n",
       "      <th>0</th>\n",
       "      <td>14933</td>\n",
       "      <td>0</td>\n",
       "      <td>0</td>\n",
       "      <td>0</td>\n",
       "      <td>0</td>\n",
       "      <td>0</td>\n",
       "      <td>0</td>\n",
       "      <td>0</td>\n",
       "      <td>0</td>\n",
       "      <td>0</td>\n",
       "      <td>...</td>\n",
       "      <td>0</td>\n",
       "      <td>0</td>\n",
       "      <td>0</td>\n",
       "      <td>0</td>\n",
       "      <td>0</td>\n",
       "      <td>0</td>\n",
       "      <td>1</td>\n",
       "      <td>1</td>\n",
       "      <td>1</td>\n",
       "      <td>0</td>\n",
       "    </tr>\n",
       "    <tr>\n",
       "      <th>1</th>\n",
       "      <td>14934</td>\n",
       "      <td>0</td>\n",
       "      <td>0</td>\n",
       "      <td>0</td>\n",
       "      <td>0</td>\n",
       "      <td>0</td>\n",
       "      <td>0</td>\n",
       "      <td>0</td>\n",
       "      <td>0</td>\n",
       "      <td>0</td>\n",
       "      <td>...</td>\n",
       "      <td>0</td>\n",
       "      <td>0</td>\n",
       "      <td>0</td>\n",
       "      <td>0</td>\n",
       "      <td>0</td>\n",
       "      <td>0</td>\n",
       "      <td>0</td>\n",
       "      <td>0</td>\n",
       "      <td>0</td>\n",
       "      <td>0</td>\n",
       "    </tr>\n",
       "    <tr>\n",
       "      <th>2</th>\n",
       "      <td>14935</td>\n",
       "      <td>0</td>\n",
       "      <td>0</td>\n",
       "      <td>0</td>\n",
       "      <td>0</td>\n",
       "      <td>0</td>\n",
       "      <td>0</td>\n",
       "      <td>0</td>\n",
       "      <td>0</td>\n",
       "      <td>0</td>\n",
       "      <td>...</td>\n",
       "      <td>0</td>\n",
       "      <td>0</td>\n",
       "      <td>0</td>\n",
       "      <td>0</td>\n",
       "      <td>0</td>\n",
       "      <td>0</td>\n",
       "      <td>0</td>\n",
       "      <td>0</td>\n",
       "      <td>0</td>\n",
       "      <td>0</td>\n",
       "    </tr>\n",
       "    <tr>\n",
       "      <th>3</th>\n",
       "      <td>14936</td>\n",
       "      <td>0</td>\n",
       "      <td>0</td>\n",
       "      <td>0</td>\n",
       "      <td>0</td>\n",
       "      <td>0</td>\n",
       "      <td>0</td>\n",
       "      <td>0</td>\n",
       "      <td>0</td>\n",
       "      <td>0</td>\n",
       "      <td>...</td>\n",
       "      <td>0</td>\n",
       "      <td>0</td>\n",
       "      <td>0</td>\n",
       "      <td>0</td>\n",
       "      <td>0</td>\n",
       "      <td>0</td>\n",
       "      <td>0</td>\n",
       "      <td>0</td>\n",
       "      <td>0</td>\n",
       "      <td>0</td>\n",
       "    </tr>\n",
       "    <tr>\n",
       "      <th>4</th>\n",
       "      <td>14937</td>\n",
       "      <td>0</td>\n",
       "      <td>0</td>\n",
       "      <td>0</td>\n",
       "      <td>0</td>\n",
       "      <td>0</td>\n",
       "      <td>0</td>\n",
       "      <td>0</td>\n",
       "      <td>0</td>\n",
       "      <td>0</td>\n",
       "      <td>...</td>\n",
       "      <td>0</td>\n",
       "      <td>0</td>\n",
       "      <td>0</td>\n",
       "      <td>0</td>\n",
       "      <td>0</td>\n",
       "      <td>0</td>\n",
       "      <td>0</td>\n",
       "      <td>0</td>\n",
       "      <td>0</td>\n",
       "      <td>0</td>\n",
       "    </tr>\n",
       "  </tbody>\n",
       "</table>\n",
       "<p>5 rows × 95 columns</p>\n",
       "</div>"
      ],
      "text/plain": [
       "   user_id  infantry_add_value  infantry_reduce_value  cavalry_add_value  \\\n",
       "0    14933                   0                      0                  0   \n",
       "1    14934                   0                      0                  0   \n",
       "2    14935                   0                      0                  0   \n",
       "3    14936                   0                      0                  0   \n",
       "4    14937                   0                      0                  0   \n",
       "\n",
       "   cavalry_reduce_value  shaman_add_value  shaman_reduce_value  \\\n",
       "0                     0                 0                    0   \n",
       "1                     0                 0                    0   \n",
       "2                     0                 0                    0   \n",
       "3                     0                 0                    0   \n",
       "4                     0                 0                    0   \n",
       "\n",
       "   wound_infantry_add_value  wound_infantry_reduce_value  \\\n",
       "0                         0                            0   \n",
       "1                         0                            0   \n",
       "2                         0                            0   \n",
       "3                         0                            0   \n",
       "4                         0                            0   \n",
       "\n",
       "   wound_cavalry_add_value    ...      sr_guest_troop_capacity_level  \\\n",
       "0                        0    ...                                  0   \n",
       "1                        0    ...                                  0   \n",
       "2                        0    ...                                  0   \n",
       "3                        0    ...                                  0   \n",
       "4                        0    ...                                  0   \n",
       "\n",
       "   sr_march_size_level  sr_rss_help_bonus_level  pvp_battle_count  \\\n",
       "0                    0                        0                 0   \n",
       "1                    0                        0                 0   \n",
       "2                    0                        0                 0   \n",
       "3                    0                        0                 0   \n",
       "4                    0                        0                 0   \n",
       "\n",
       "   pvp_lanch_count  pvp_win_count  pve_battle_count  pve_lanch_count  \\\n",
       "0                0              0                 1                1   \n",
       "1                0              0                 0                0   \n",
       "2                0              0                 0                0   \n",
       "3                0              0                 0                0   \n",
       "4                0              0                 0                0   \n",
       "\n",
       "   pve_win_count  pay_count  \n",
       "0              1          0  \n",
       "1              0          0  \n",
       "2              0          0  \n",
       "3              0          0  \n",
       "4              0          0  \n",
       "\n",
       "[5 rows x 95 columns]"
      ]
     },
     "execution_count": 117,
     "metadata": {},
     "output_type": "execute_result"
    }
   ],
   "source": [
    "train_feat2_int.head()"
   ]
  },
  {
   "cell_type": "code",
   "execution_count": 118,
   "metadata": {
    "ExecuteTime": {
     "end_time": "2018-08-10T07:41:36.306773Z",
     "start_time": "2018-08-10T07:41:36.047758Z"
    }
   },
   "outputs": [],
   "source": [
    "train_feat2_float=train_feat2.select_dtypes(include=['float64','float32']).apply(pd.to_numeric,downcast='float')\n",
    "#train_feat2.select_dtypes(include=['float64','float32']).apply(pd.to_numeric,downcast='float')\n",
    "#..apply(pd.to_numeric,downcast='float')"
   ]
  },
  {
   "cell_type": "code",
   "execution_count": 119,
   "metadata": {
    "ExecuteTime": {
     "end_time": "2018-08-10T07:41:36.331774Z",
     "start_time": "2018-08-10T07:41:36.309773Z"
    }
   },
   "outputs": [
    {
     "data": {
      "text/html": [
       "<div>\n",
       "<style scoped>\n",
       "    .dataframe tbody tr th:only-of-type {\n",
       "        vertical-align: middle;\n",
       "    }\n",
       "\n",
       "    .dataframe tbody tr th {\n",
       "        vertical-align: top;\n",
       "    }\n",
       "\n",
       "    .dataframe thead th {\n",
       "        text-align: right;\n",
       "    }\n",
       "</style>\n",
       "<table border=\"1\" class=\"dataframe\">\n",
       "  <thead>\n",
       "    <tr style=\"text-align: right;\">\n",
       "      <th></th>\n",
       "      <th>wood_add_value</th>\n",
       "      <th>wood_reduce_value</th>\n",
       "      <th>stone_add_value</th>\n",
       "      <th>stone_reduce_value</th>\n",
       "      <th>ivory_add_value</th>\n",
       "      <th>ivory_reduce_value</th>\n",
       "      <th>meat_add_value</th>\n",
       "      <th>meat_reduce_value</th>\n",
       "      <th>magic_add_value</th>\n",
       "      <th>magic_reduce_value</th>\n",
       "      <th>...</th>\n",
       "      <th>meat_qua2</th>\n",
       "      <th>wood_qua1</th>\n",
       "      <th>wood_qua2</th>\n",
       "      <th>def_qua1</th>\n",
       "      <th>cavalry_qua1</th>\n",
       "      <th>infantry_qua1</th>\n",
       "      <th>shaman_qua1</th>\n",
       "      <th>speed_qua1</th>\n",
       "      <th>troop_qua1</th>\n",
       "      <th>price_per_count_qua1</th>\n",
       "    </tr>\n",
       "  </thead>\n",
       "  <tbody>\n",
       "    <tr>\n",
       "      <th>0</th>\n",
       "      <td>166415.0</td>\n",
       "      <td>138362.0</td>\n",
       "      <td>0.0</td>\n",
       "      <td>0.0</td>\n",
       "      <td>0.0</td>\n",
       "      <td>0.0</td>\n",
       "      <td>258522.0</td>\n",
       "      <td>90142.0</td>\n",
       "      <td>0.0</td>\n",
       "      <td>0.0</td>\n",
       "      <td>...</td>\n",
       "      <td>168380.0</td>\n",
       "      <td>304777.0</td>\n",
       "      <td>28053.0</td>\n",
       "      <td>0.0</td>\n",
       "      <td>0.0</td>\n",
       "      <td>0.0</td>\n",
       "      <td>0.0</td>\n",
       "      <td>0.0</td>\n",
       "      <td>0.0</td>\n",
       "      <td>NaN</td>\n",
       "    </tr>\n",
       "    <tr>\n",
       "      <th>1</th>\n",
       "      <td>10000.0</td>\n",
       "      <td>600.0</td>\n",
       "      <td>0.0</td>\n",
       "      <td>0.0</td>\n",
       "      <td>0.0</td>\n",
       "      <td>0.0</td>\n",
       "      <td>10000.0</td>\n",
       "      <td>400.0</td>\n",
       "      <td>0.0</td>\n",
       "      <td>0.0</td>\n",
       "      <td>...</td>\n",
       "      <td>9600.0</td>\n",
       "      <td>10600.0</td>\n",
       "      <td>9400.0</td>\n",
       "      <td>0.0</td>\n",
       "      <td>0.0</td>\n",
       "      <td>0.0</td>\n",
       "      <td>0.0</td>\n",
       "      <td>0.0</td>\n",
       "      <td>0.0</td>\n",
       "      <td>NaN</td>\n",
       "    </tr>\n",
       "    <tr>\n",
       "      <th>2</th>\n",
       "      <td>10000.0</td>\n",
       "      <td>3700.0</td>\n",
       "      <td>0.0</td>\n",
       "      <td>0.0</td>\n",
       "      <td>0.0</td>\n",
       "      <td>0.0</td>\n",
       "      <td>10000.0</td>\n",
       "      <td>2000.0</td>\n",
       "      <td>0.0</td>\n",
       "      <td>0.0</td>\n",
       "      <td>...</td>\n",
       "      <td>8000.0</td>\n",
       "      <td>13700.0</td>\n",
       "      <td>6300.0</td>\n",
       "      <td>0.0</td>\n",
       "      <td>0.0</td>\n",
       "      <td>0.0</td>\n",
       "      <td>0.0</td>\n",
       "      <td>0.0</td>\n",
       "      <td>0.0</td>\n",
       "      <td>NaN</td>\n",
       "    </tr>\n",
       "    <tr>\n",
       "      <th>3</th>\n",
       "      <td>210000.0</td>\n",
       "      <td>0.0</td>\n",
       "      <td>200000.0</td>\n",
       "      <td>0.0</td>\n",
       "      <td>200000.0</td>\n",
       "      <td>0.0</td>\n",
       "      <td>610000.0</td>\n",
       "      <td>0.0</td>\n",
       "      <td>60000.0</td>\n",
       "      <td>0.0</td>\n",
       "      <td>...</td>\n",
       "      <td>610000.0</td>\n",
       "      <td>210000.0</td>\n",
       "      <td>210000.0</td>\n",
       "      <td>0.0</td>\n",
       "      <td>0.0</td>\n",
       "      <td>0.0</td>\n",
       "      <td>0.0</td>\n",
       "      <td>0.0</td>\n",
       "      <td>0.0</td>\n",
       "      <td>NaN</td>\n",
       "    </tr>\n",
       "    <tr>\n",
       "      <th>4</th>\n",
       "      <td>11500.0</td>\n",
       "      <td>3700.0</td>\n",
       "      <td>0.0</td>\n",
       "      <td>0.0</td>\n",
       "      <td>0.0</td>\n",
       "      <td>0.0</td>\n",
       "      <td>11000.0</td>\n",
       "      <td>2000.0</td>\n",
       "      <td>0.0</td>\n",
       "      <td>0.0</td>\n",
       "      <td>...</td>\n",
       "      <td>9000.0</td>\n",
       "      <td>15200.0</td>\n",
       "      <td>7800.0</td>\n",
       "      <td>0.0</td>\n",
       "      <td>0.0</td>\n",
       "      <td>0.0</td>\n",
       "      <td>0.0</td>\n",
       "      <td>0.0</td>\n",
       "      <td>0.0</td>\n",
       "      <td>NaN</td>\n",
       "    </tr>\n",
       "  </tbody>\n",
       "</table>\n",
       "<p>5 rows × 27 columns</p>\n",
       "</div>"
      ],
      "text/plain": [
       "   wood_add_value  wood_reduce_value  stone_add_value  stone_reduce_value  \\\n",
       "0        166415.0           138362.0              0.0                 0.0   \n",
       "1         10000.0              600.0              0.0                 0.0   \n",
       "2         10000.0             3700.0              0.0                 0.0   \n",
       "3        210000.0                0.0         200000.0                 0.0   \n",
       "4         11500.0             3700.0              0.0                 0.0   \n",
       "\n",
       "   ivory_add_value  ivory_reduce_value  meat_add_value  meat_reduce_value  \\\n",
       "0              0.0                 0.0        258522.0            90142.0   \n",
       "1              0.0                 0.0         10000.0              400.0   \n",
       "2              0.0                 0.0         10000.0             2000.0   \n",
       "3         200000.0                 0.0        610000.0                0.0   \n",
       "4              0.0                 0.0         11000.0             2000.0   \n",
       "\n",
       "   magic_add_value  magic_reduce_value          ...           meat_qua2  \\\n",
       "0              0.0                 0.0          ...            168380.0   \n",
       "1              0.0                 0.0          ...              9600.0   \n",
       "2              0.0                 0.0          ...              8000.0   \n",
       "3          60000.0                 0.0          ...            610000.0   \n",
       "4              0.0                 0.0          ...              9000.0   \n",
       "\n",
       "   wood_qua1  wood_qua2  def_qua1  cavalry_qua1  infantry_qua1  shaman_qua1  \\\n",
       "0   304777.0    28053.0       0.0           0.0            0.0          0.0   \n",
       "1    10600.0     9400.0       0.0           0.0            0.0          0.0   \n",
       "2    13700.0     6300.0       0.0           0.0            0.0          0.0   \n",
       "3   210000.0   210000.0       0.0           0.0            0.0          0.0   \n",
       "4    15200.0     7800.0       0.0           0.0            0.0          0.0   \n",
       "\n",
       "   speed_qua1  troop_qua1  price_per_count_qua1  \n",
       "0         0.0         0.0                   NaN  \n",
       "1         0.0         0.0                   NaN  \n",
       "2         0.0         0.0                   NaN  \n",
       "3         0.0         0.0                   NaN  \n",
       "4         0.0         0.0                   NaN  \n",
       "\n",
       "[5 rows x 27 columns]"
      ]
     },
     "execution_count": 119,
     "metadata": {},
     "output_type": "execute_result"
    }
   ],
   "source": [
    "train_feat2_float.head()"
   ]
  },
  {
   "cell_type": "code",
   "execution_count": null,
   "metadata": {
    "ExecuteTime": {
     "end_time": "2018-07-04T07:37:23.515452Z",
     "start_time": "2018-07-04T07:37:23.419447Z"
    }
   },
   "outputs": [],
   "source": []
  },
  {
   "cell_type": "code",
   "execution_count": 120,
   "metadata": {
    "ExecuteTime": {
     "end_time": "2018-08-10T07:41:36.530785Z",
     "start_time": "2018-08-10T07:41:36.332774Z"
    }
   },
   "outputs": [],
   "source": [
    "train_feat3=pd.concat([train_feat2_int,train_feat2_float],axis=1)"
   ]
  },
  {
   "cell_type": "code",
   "execution_count": 121,
   "metadata": {
    "ExecuteTime": {
     "end_time": "2018-08-10T07:41:36.536786Z",
     "start_time": "2018-08-10T07:41:36.532785Z"
    }
   },
   "outputs": [],
   "source": [
    "train_feat3.drop(labels=['prediction_pay_price'],axis=1,inplace=True)\n",
    "train_feat3.prediction_pay_price"
   ]
  },
  {
   "cell_type": "code",
   "execution_count": 122,
   "metadata": {
    "ExecuteTime": {
     "end_time": "2018-08-10T07:41:36.625791Z",
     "start_time": "2018-08-10T07:41:36.538786Z"
    }
   },
   "outputs": [
    {
     "data": {
      "text/plain": [
       "(828934, 122)"
      ]
     },
     "execution_count": 122,
     "metadata": {},
     "output_type": "execute_result"
    }
   ],
   "source": [
    "train_feat3.shape"
   ]
  },
  {
   "cell_type": "code",
   "execution_count": 123,
   "metadata": {
    "ExecuteTime": {
     "end_time": "2018-08-10T07:41:36.860804Z",
     "start_time": "2018-08-10T07:41:36.629791Z"
    }
   },
   "outputs": [],
   "source": [
    "#train_feat3.fillna(0,inplace=True)"
   ]
  },
  {
   "cell_type": "code",
   "execution_count": 124,
   "metadata": {
    "ExecuteTime": {
     "end_time": "2018-08-10T07:41:37.163822Z",
     "start_time": "2018-08-10T07:41:36.862804Z"
    }
   },
   "outputs": [
    {
     "name": "stdout",
     "output_type": "stream",
     "text": [
      "<class 'pandas.core.frame.DataFrame'>\n",
      "RangeIndex: 828934 entries, 0 to 828933\n",
      "Columns: 122 entries, user_id to price_per_count_qua1\n",
      "dtypes: float32(27), uint16(1), uint8(94)\n",
      "memory usage: 161.3 MB\n"
     ]
    }
   ],
   "source": [
    "train_feat3.info(memory_usage='deep')"
   ]
  },
  {
   "cell_type": "code",
   "execution_count": 125,
   "metadata": {
    "ExecuteTime": {
     "end_time": "2018-08-10T07:41:37.376834Z",
     "start_time": "2018-08-10T07:41:37.166822Z"
    }
   },
   "outputs": [],
   "source": [
    "del train_feat2"
   ]
  },
  {
   "cell_type": "code",
   "execution_count": 126,
   "metadata": {
    "ExecuteTime": {
     "end_time": "2018-08-10T07:41:37.458838Z",
     "start_time": "2018-08-10T07:41:37.378834Z"
    }
   },
   "outputs": [],
   "source": [
    "#train_feat3.isnull().sum().sum()"
   ]
  },
  {
   "cell_type": "code",
   "execution_count": 127,
   "metadata": {
    "ExecuteTime": {
     "end_time": "2018-08-10T07:41:37.537843Z",
     "start_time": "2018-08-10T07:41:37.462839Z"
    }
   },
   "outputs": [],
   "source": [
    "import time\n",
    "import lightgbm as lgb"
   ]
  },
  {
   "cell_type": "code",
   "execution_count": 128,
   "metadata": {
    "ExecuteTime": {
     "end_time": "2018-08-10T07:41:37.629848Z",
     "start_time": "2018-08-10T07:41:37.538843Z"
    }
   },
   "outputs": [],
   "source": [
    "from sklearn.cross_validation import train_test_split\n",
    "from sklearn.metrics import mean_squared_error"
   ]
  },
  {
   "cell_type": "code",
   "execution_count": 129,
   "metadata": {
    "ExecuteTime": {
     "end_time": "2018-08-10T07:41:37.716853Z",
     "start_time": "2018-08-10T07:41:37.630848Z"
    }
   },
   "outputs": [],
   "source": [
    "#train_feat2.shape"
   ]
  },
  {
   "cell_type": "code",
   "execution_count": 130,
   "metadata": {
    "ExecuteTime": {
     "end_time": "2018-08-10T07:41:37.804858Z",
     "start_time": "2018-08-10T07:41:37.717853Z"
    }
   },
   "outputs": [],
   "source": [
    "X_train,X_test,y_train,y_test=train_test_split(train_feat3,label_train,test_size=0.5,random_state=73)"
   ]
  },
  {
   "cell_type": "code",
   "execution_count": 131,
   "metadata": {
    "ExecuteTime": {
     "end_time": "2018-08-10T07:41:37.896863Z",
     "start_time": "2018-08-10T07:41:37.805858Z"
    }
   },
   "outputs": [],
   "source": [
    "# X_train.head()"
   ]
  },
  {
   "cell_type": "code",
   "execution_count": 132,
   "metadata": {
    "ExecuteTime": {
     "end_time": "2018-08-10T07:41:37.987869Z",
     "start_time": "2018-08-10T07:41:37.897864Z"
    }
   },
   "outputs": [],
   "source": [
    "# y_train.head()"
   ]
  },
  {
   "cell_type": "code",
   "execution_count": 133,
   "metadata": {
    "ExecuteTime": {
     "end_time": "2018-08-10T07:41:38.073874Z",
     "start_time": "2018-08-10T07:41:37.988869Z"
    }
   },
   "outputs": [],
   "source": [
    "from sklearn.grid_search import GridSearchCV\n",
    "from sklearn.pipeline import Pipeline"
   ]
  },
  {
   "cell_type": "code",
   "execution_count": 134,
   "metadata": {
    "ExecuteTime": {
     "end_time": "2018-08-10T07:41:38.166879Z",
     "start_time": "2018-08-10T07:41:38.076874Z"
    }
   },
   "outputs": [],
   "source": [
    "# X_train.head()"
   ]
  },
  {
   "cell_type": "code",
   "execution_count": 135,
   "metadata": {
    "ExecuteTime": {
     "end_time": "2018-08-10T07:41:38.246883Z",
     "start_time": "2018-08-10T07:41:38.167879Z"
    }
   },
   "outputs": [],
   "source": [
    "from sklearn.externals import joblib"
   ]
  },
  {
   "cell_type": "code",
   "execution_count": 137,
   "metadata": {
    "ExecuteTime": {
     "end_time": "2018-08-10T07:41:46.203339Z",
     "start_time": "2018-08-10T07:41:46.104333Z"
    }
   },
   "outputs": [],
   "source": [
    "grid_search=joblib.load(\"F:\\\\study\\\\ml\\\\DataSet\\\\Tap4fun\\\\GSCV_lgb.model.gz\")"
   ]
  },
  {
   "cell_type": "code",
   "execution_count": 138,
   "metadata": {
    "ExecuteTime": {
     "end_time": "2018-08-10T07:41:50.665594Z",
     "start_time": "2018-08-10T07:41:48.557473Z"
    }
   },
   "outputs": [],
   "source": [
    "preds_sub=grid_search.predict(train_feat3)"
   ]
  },
  {
   "cell_type": "code",
   "execution_count": 69,
   "metadata": {
    "ExecuteTime": {
     "end_time": "2018-08-10T07:33:34.482214Z",
     "start_time": "2018-08-10T07:33:31.536045Z"
    }
   },
   "outputs": [
    {
     "data": {
      "text/plain": [
       "56.66399035047658"
      ]
     },
     "execution_count": 69,
     "metadata": {},
     "output_type": "execute_result"
    }
   ],
   "source": [
    "from sklearn.metrics import mean_squared_error\n",
    "predictions=grid_search.predict(X_test)\n",
    "np.sqrt(mean_squared_error(y_test,predictions))"
   ]
  },
  {
   "cell_type": "code",
   "execution_count": 139,
   "metadata": {
    "ExecuteTime": {
     "end_time": "2018-08-10T07:42:07.742571Z",
     "start_time": "2018-08-10T07:42:06.201482Z"
    }
   },
   "outputs": [],
   "source": [
    "result_user=pd.read_csv('F:\\\\study\\\\ml\\\\DataSet\\\\Tap4fun\\\\tap_fun_test.csv',usecols=[0])\n",
    "result=pd.DataFrame()\n",
    "result['user_id']=result_user.user_id\n",
    "result['prediction_pay_price']=preds_sub"
   ]
  },
  {
   "cell_type": "code",
   "execution_count": 140,
   "metadata": {
    "ExecuteTime": {
     "end_time": "2018-08-10T07:42:14.353949Z",
     "start_time": "2018-08-10T07:42:14.343948Z"
    }
   },
   "outputs": [
    {
     "data": {
      "text/plain": [
       "(828934, 2)"
      ]
     },
     "execution_count": 140,
     "metadata": {},
     "output_type": "execute_result"
    }
   ],
   "source": [
    "result.shape"
   ]
  },
  {
   "cell_type": "code",
   "execution_count": 141,
   "metadata": {
    "ExecuteTime": {
     "end_time": "2018-08-10T07:42:37.218256Z",
     "start_time": "2018-08-10T07:42:37.211256Z"
    }
   },
   "outputs": [
    {
     "data": {
      "text/html": [
       "<div>\n",
       "<style scoped>\n",
       "    .dataframe tbody tr th:only-of-type {\n",
       "        vertical-align: middle;\n",
       "    }\n",
       "\n",
       "    .dataframe tbody tr th {\n",
       "        vertical-align: top;\n",
       "    }\n",
       "\n",
       "    .dataframe thead th {\n",
       "        text-align: right;\n",
       "    }\n",
       "</style>\n",
       "<table border=\"1\" class=\"dataframe\">\n",
       "  <thead>\n",
       "    <tr style=\"text-align: right;\">\n",
       "      <th></th>\n",
       "      <th>user_id</th>\n",
       "      <th>prediction_pay_price</th>\n",
       "    </tr>\n",
       "  </thead>\n",
       "  <tbody>\n",
       "    <tr>\n",
       "      <th>0</th>\n",
       "      <td>14933</td>\n",
       "      <td>0.255422</td>\n",
       "    </tr>\n",
       "    <tr>\n",
       "      <th>1</th>\n",
       "      <td>14934</td>\n",
       "      <td>0.255422</td>\n",
       "    </tr>\n",
       "    <tr>\n",
       "      <th>2</th>\n",
       "      <td>14935</td>\n",
       "      <td>0.255422</td>\n",
       "    </tr>\n",
       "    <tr>\n",
       "      <th>3</th>\n",
       "      <td>14936</td>\n",
       "      <td>0.255422</td>\n",
       "    </tr>\n",
       "    <tr>\n",
       "      <th>4</th>\n",
       "      <td>14937</td>\n",
       "      <td>0.255422</td>\n",
       "    </tr>\n",
       "  </tbody>\n",
       "</table>\n",
       "</div>"
      ],
      "text/plain": [
       "   user_id  prediction_pay_price\n",
       "0    14933              0.255422\n",
       "1    14934              0.255422\n",
       "2    14935              0.255422\n",
       "3    14936              0.255422\n",
       "4    14937              0.255422"
      ]
     },
     "execution_count": 141,
     "metadata": {},
     "output_type": "execute_result"
    }
   ],
   "source": [
    "result.head()"
   ]
  },
  {
   "cell_type": "code",
   "execution_count": 144,
   "metadata": {
    "ExecuteTime": {
     "end_time": "2018-08-10T07:43:29.428243Z",
     "start_time": "2018-08-10T07:43:29.422242Z"
    }
   },
   "outputs": [],
   "source": [
    "import time\n",
    "import datetime"
   ]
  },
  {
   "cell_type": "code",
   "execution_count": 145,
   "metadata": {
    "ExecuteTime": {
     "end_time": "2018-08-10T07:43:33.080452Z",
     "start_time": "2018-08-10T07:43:30.407299Z"
    }
   },
   "outputs": [],
   "source": [
    "nowTime=datetime.datetime.now().strftime('%Y%m%d%H%M%S')\n",
    "name='tf_'+str(nowTime)\n",
    "result.to_csv(\"F:\\\\study\\\\ml\\\\DataSet\\\\Tap4fun\\\\SubMission\\\\\"+name+'.csv',index=False,encoding='utf-8')"
   ]
  },
  {
   "cell_type": "code",
   "execution_count": null,
   "metadata": {},
   "outputs": [],
   "source": []
  }
 ],
 "metadata": {
  "kernelspec": {
   "display_name": "Python 3",
   "language": "python",
   "name": "python3"
  },
  "language_info": {
   "codemirror_mode": {
    "name": "ipython",
    "version": 3
   },
   "file_extension": ".py",
   "mimetype": "text/x-python",
   "name": "python",
   "nbconvert_exporter": "python",
   "pygments_lexer": "ipython3",
   "version": "3.6.3"
  }
 },
 "nbformat": 4,
 "nbformat_minor": 2
}
