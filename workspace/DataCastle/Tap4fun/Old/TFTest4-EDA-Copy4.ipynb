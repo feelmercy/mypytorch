{
 "cells": [
  {
   "cell_type": "code",
   "execution_count": null,
   "metadata": {
    "ExecuteTime": {
     "end_time": "2018-08-31T02:11:28.809192Z",
     "start_time": "2018-08-31T02:11:26.728073Z"
    }
   },
   "outputs": [],
   "source": [
    "import numpy as np\n",
    "import pandas as pd"
   ]
  },
  {
   "cell_type": "code",
   "execution_count": null,
   "metadata": {
    "ExecuteTime": {
     "end_time": "2018-08-31T02:11:50.435429Z",
     "start_time": "2018-08-31T02:11:28.811193Z"
    }
   },
   "outputs": [],
   "source": [
    "df_train=pd.read_csv('F:\\\\study\\\\ml\\\\DataSet\\\\Tap4fun\\\\tap_fun_train.csv')"
   ]
  },
  {
   "cell_type": "code",
   "execution_count": null,
   "metadata": {
    "ExecuteTime": {
     "end_time": "2018-08-31T02:11:50.654442Z",
     "start_time": "2018-08-31T02:11:50.438430Z"
    }
   },
   "outputs": [],
   "source": [
    "df_train.info(memory_usage='deep')"
   ]
  },
  {
   "cell_type": "code",
   "execution_count": null,
   "metadata": {
    "ExecuteTime": {
     "end_time": "2018-08-31T02:12:04.325224Z",
     "start_time": "2018-08-31T02:11:50.656442Z"
    }
   },
   "outputs": [],
   "source": [
    "c_int=df_train.select_dtypes(include=['int64']).apply(pd.to_numeric,downcast='unsigned')\n",
    "c_float=df_train.select_dtypes(include=['float']).apply(pd.to_numeric,downcast='float')\n"
   ]
  },
  {
   "cell_type": "code",
   "execution_count": null,
   "metadata": {
    "ExecuteTime": {
     "end_time": "2018-08-31T02:12:04.673244Z",
     "start_time": "2018-08-31T02:12:04.327224Z"
    }
   },
   "outputs": [],
   "source": [
    "o_df=pd.concat([c_int,c_float],axis=1)"
   ]
  },
  {
   "cell_type": "code",
   "execution_count": null,
   "metadata": {
    "ExecuteTime": {
     "end_time": "2018-08-31T02:12:04.679244Z",
     "start_time": "2018-08-31T02:12:04.674244Z"
    }
   },
   "outputs": [],
   "source": [
    "column_type=dict(o_df.dtypes.copy())"
   ]
  },
  {
   "cell_type": "code",
   "execution_count": null,
   "metadata": {
    "ExecuteTime": {
     "end_time": "2018-08-31T02:12:04.791251Z",
     "start_time": "2018-08-31T02:12:04.680244Z"
    }
   },
   "outputs": [],
   "source": [
    "len(column_type)"
   ]
  },
  {
   "cell_type": "code",
   "execution_count": null,
   "metadata": {
    "ExecuteTime": {
     "end_time": "2018-08-31T02:12:05.214275Z",
     "start_time": "2018-08-31T02:12:04.796251Z"
    }
   },
   "outputs": [],
   "source": [
    "del o_df,c_int,c_float,df_train"
   ]
  },
  {
   "cell_type": "code",
   "execution_count": null,
   "metadata": {},
   "outputs": [],
   "source": []
  },
  {
   "cell_type": "code",
   "execution_count": null,
   "metadata": {
    "ExecuteTime": {
     "end_time": "2018-08-31T02:12:26.470491Z",
     "start_time": "2018-08-31T02:12:05.216275Z"
    }
   },
   "outputs": [],
   "source": [
    "data_train=pd.read_csv('F:\\\\study\\\\ml\\\\DataSet\\\\Tap4fun\\\\tap_fun_train.csv',\n",
    "                      dtype=column_type,parse_dates=['register_time'],infer_datetime_format=True)"
   ]
  },
  {
   "cell_type": "code",
   "execution_count": null,
   "metadata": {
    "ExecuteTime": {
     "end_time": "2018-08-31T02:12:26.710504Z",
     "start_time": "2018-08-31T02:12:26.471491Z"
    }
   },
   "outputs": [],
   "source": [
    "data_train.rename(columns={'treatment_acceleraion_add_value':'treatment_acceleration_add_value',\\\n",
    "                          'sr_rss_a_prod_levell':'sr_rss_a_prod_level'} ,inplace=True)"
   ]
  },
  {
   "cell_type": "code",
   "execution_count": null,
   "metadata": {
    "ExecuteTime": {
     "end_time": "2018-08-31T02:12:26.786509Z",
     "start_time": "2018-08-31T02:12:26.713504Z"
    }
   },
   "outputs": [],
   "source": [
    "data_train.head()"
   ]
  },
  {
   "cell_type": "code",
   "execution_count": null,
   "metadata": {
    "ExecuteTime": {
     "end_time": "2018-08-31T02:12:26.849512Z",
     "start_time": "2018-08-31T02:12:26.788509Z"
    }
   },
   "outputs": [],
   "source": [
    "data_train.info(memory_usage='deep')"
   ]
  },
  {
   "cell_type": "code",
   "execution_count": null,
   "metadata": {
    "ExecuteTime": {
     "end_time": "2018-08-31T02:12:27.381543Z",
     "start_time": "2018-08-31T02:12:26.850512Z"
    }
   },
   "outputs": [],
   "source": [
    "data_label=data_train['prediction_pay_price']\n",
    "data_train2=data_train.drop(labels=['user_id','register_time'],axis=1)"
   ]
  },
  {
   "cell_type": "code",
   "execution_count": null,
   "metadata": {
    "ExecuteTime": {
     "end_time": "2018-08-31T02:12:27.441546Z",
     "start_time": "2018-08-31T02:12:27.383543Z"
    }
   },
   "outputs": [],
   "source": [
    "data_train2[(data_train2['pay_price']>0) & (data_train2['prediction_pay_price']>0)].shape"
   ]
  },
  {
   "cell_type": "code",
   "execution_count": null,
   "metadata": {
    "ExecuteTime": {
     "end_time": "2018-08-31T02:12:27.477548Z",
     "start_time": "2018-08-31T02:12:27.442546Z"
    }
   },
   "outputs": [],
   "source": [
    "data_train2[(data_train2['pay_price']==0) & (data_train2['prediction_pay_price']>0)].shape"
   ]
  },
  {
   "cell_type": "code",
   "execution_count": null,
   "metadata": {
    "ExecuteTime": {
     "end_time": "2018-08-31T02:12:27.561553Z",
     "start_time": "2018-08-31T02:12:27.478548Z"
    }
   },
   "outputs": [],
   "source": [
    "data_train2[(data_train2['pay_price']>0) & (data_train2['prediction_pay_price']==0)].shape"
   ]
  },
  {
   "cell_type": "code",
   "execution_count": null,
   "metadata": {
    "ExecuteTime": {
     "end_time": "2018-08-31T02:12:27.717562Z",
     "start_time": "2018-08-31T02:12:27.562553Z"
    }
   },
   "outputs": [],
   "source": [
    "data_train2[(data_train2['pay_price']>0)].shape"
   ]
  },
  {
   "cell_type": "code",
   "execution_count": null,
   "metadata": {
    "ExecuteTime": {
     "end_time": "2018-08-31T02:12:27.802567Z",
     "start_time": "2018-08-31T02:12:27.718562Z"
    }
   },
   "outputs": [],
   "source": [
    "data_train2[(data_train2['prediction_pay_price']>0)].shape"
   ]
  },
  {
   "cell_type": "code",
   "execution_count": null,
   "metadata": {
    "ExecuteTime": {
     "end_time": "2018-08-31T02:12:27.899572Z",
     "start_time": "2018-08-31T02:12:27.803567Z"
    }
   },
   "outputs": [],
   "source": [
    "data_train2[data_train2['prediction_pay_price']>0]['prediction_pay_price'].describe()"
   ]
  },
  {
   "cell_type": "code",
   "execution_count": null,
   "metadata": {
    "ExecuteTime": {
     "end_time": "2018-08-31T02:12:27.917573Z",
     "start_time": "2018-08-31T02:12:27.900572Z"
    }
   },
   "outputs": [],
   "source": [
    "# data_train2['price_per_count_qua1']=data_train2.pay_price / data_train2.pay_count\n",
    "# del data_train2['price_per_count_qua1']"
   ]
  },
  {
   "cell_type": "code",
   "execution_count": null,
   "metadata": {
    "ExecuteTime": {
     "end_time": "2018-08-31T02:12:28.088583Z",
     "start_time": "2018-08-31T02:12:27.918573Z"
    }
   },
   "outputs": [],
   "source": [
    "data_pay_7=data_train2[data_train2['pay_price']>0]\n",
    "data_pay_45=data_train2[data_train2['prediction_pay_price']>0]"
   ]
  },
  {
   "cell_type": "code",
   "execution_count": null,
   "metadata": {
    "ExecuteTime": {
     "end_time": "2018-08-31T02:12:28.153587Z",
     "start_time": "2018-08-31T02:12:28.089583Z"
    }
   },
   "outputs": [],
   "source": [
    "data_train2[(data_train2['pay_price']>0) & (data_train2['pay_price'] == data_train2['prediction_pay_price'])] \\\n",
    "[['pay_price','prediction_pay_price','avg_online_minutes',]].describe()\n",
    "#pp> == ppp 只给了7天"
   ]
  },
  {
   "cell_type": "code",
   "execution_count": null,
   "metadata": {
    "ExecuteTime": {
     "end_time": "2018-08-31T02:12:28.220591Z",
     "start_time": "2018-08-31T02:12:28.154587Z"
    }
   },
   "outputs": [],
   "source": [
    "data_train2[(data_train2['pay_price']>0) & (data_train2['pay_price'] < data_train2['prediction_pay_price'])] \\\n",
    "[['pay_price','prediction_pay_price','avg_online_minutes']].describe()\n",
    "#pp>0 and pp< ppp 只给了7天,45天也付了"
   ]
  },
  {
   "cell_type": "code",
   "execution_count": null,
   "metadata": {
    "ExecuteTime": {
     "end_time": "2018-08-31T02:12:28.294595Z",
     "start_time": "2018-08-31T02:12:28.221591Z"
    }
   },
   "outputs": [],
   "source": [
    "data_train2[(data_train2['pay_price']==0) & (data_train2['prediction_pay_price']>0)] \\\n",
    "[['pay_price','prediction_pay_price','avg_online_minutes','general_acceleration_add_value']].describe()\n",
    "#pp=0 and ppp>0 前7天未付款,后45天也付钱的"
   ]
  },
  {
   "cell_type": "code",
   "execution_count": null,
   "metadata": {
    "ExecuteTime": {
     "end_time": "2018-08-31T02:12:29.462662Z",
     "start_time": "2018-08-31T02:12:28.295595Z"
    }
   },
   "outputs": [],
   "source": [
    "data_train2[(data_train2['pay_price']==0) & (data_train2['prediction_pay_price']==0)] \\\n",
    "[['pay_price','prediction_pay_price','avg_online_minutes','general_acceleration_add_value']].describe()"
   ]
  },
  {
   "cell_type": "code",
   "execution_count": null,
   "metadata": {
    "ExecuteTime": {
     "end_time": "2018-08-31T02:12:29.556667Z",
     "start_time": "2018-08-31T02:12:29.466662Z"
    }
   },
   "outputs": [],
   "source": [
    "data_train2[(data_train2['pay_price']>0) ] \\\n",
    "[['pay_price','prediction_pay_price','avg_online_minutes','pay_count']].describe()"
   ]
  },
  {
   "cell_type": "code",
   "execution_count": null,
   "metadata": {
    "ExecuteTime": {
     "end_time": "2018-08-31T02:12:29.607670Z",
     "start_time": "2018-08-31T02:12:29.557667Z"
    }
   },
   "outputs": [],
   "source": [
    "data_train2[(data_train2['pay_price']>0) & (data_train2['pay_price'] < data_train2['prediction_pay_price'])] \\\n",
    "[['pay_price','prediction_pay_price','avg_online_minutes','pay_count']].describe()"
   ]
  },
  {
   "cell_type": "code",
   "execution_count": null,
   "metadata": {
    "ExecuteTime": {
     "end_time": "2018-08-31T02:12:29.719676Z",
     "start_time": "2018-08-31T02:12:29.608670Z"
    }
   },
   "outputs": [],
   "source": [
    "data_train2[(data_train2['pay_price']>0) & ( data_train2['prediction_pay_price'] == data_train2['pay_price'])] \\\n",
    "[['pay_price','prediction_pay_price','avg_online_minutes','pay_count']].describe()"
   ]
  },
  {
   "cell_type": "code",
   "execution_count": null,
   "metadata": {
    "ExecuteTime": {
     "end_time": "2018-08-31T02:12:29.803681Z",
     "start_time": "2018-08-31T02:12:29.720676Z"
    }
   },
   "outputs": [],
   "source": [
    "data_7pay=data_train2[data_train2['pay_price']>0].copy()\n"
   ]
  },
  {
   "cell_type": "code",
   "execution_count": null,
   "metadata": {
    "ExecuteTime": {
     "end_time": "2018-08-31T02:12:29.860684Z",
     "start_time": "2018-08-31T02:12:29.804681Z"
    }
   },
   "outputs": [],
   "source": [
    "data_7pay.head()"
   ]
  },
  {
   "cell_type": "code",
   "execution_count": null,
   "metadata": {},
   "outputs": [],
   "source": []
  },
  {
   "cell_type": "code",
   "execution_count": null,
   "metadata": {
    "ExecuteTime": {
     "end_time": "2018-08-31T02:12:29.954690Z",
     "start_time": "2018-08-31T02:12:29.861684Z"
    },
    "scrolled": true
   },
   "outputs": [],
   "source": [
    "for name in data_7pay.columns.values:\n",
    "    if 'add_value' in name:\n",
    "        print(name+'-->'+name[:len(name)-10])\n",
    "print('------------------')        \n",
    "for name in data_7pay.columns.values:\n",
    "    if 'reduce_value' in name:\n",
    "        print(name+'-->'+name[:len(name)-10])"
   ]
  },
  {
   "cell_type": "code",
   "execution_count": null,
   "metadata": {
    "ExecuteTime": {
     "end_time": "2018-08-31T02:12:30.327711Z",
     "start_time": "2018-08-31T02:12:29.955690Z"
    }
   },
   "outputs": [],
   "source": [
    "sum_delta_text=[]\n",
    "sum_delta_text=['wood','stone']\n",
    "for name in data_7pay.columns.values:\n",
    "    if 'add_value' in name:\n",
    "        sum_delta_text.append(name[:len(name)-10])\n",
    "        \n",
    "for i in sum_delta_text:\n",
    "#     print(i+'_add_value  <--> '+i+'_reduce_value')\n",
    "    add_name=i+'_add_value'\n",
    "    reduce_name=i+'_reduce_value'\n",
    "    sum_name=i+'_sum_qua1'\n",
    "    delta_name=i+'_delta_qua2'\n",
    "    print(add_name+' -- '+reduce_name)\n",
    "#     print(reduce_name)\n",
    "#     print(sum_name)\n",
    "#     print(delta_name)\n",
    "    data_7pay[sum_name]=data_7pay[add_name]+data_7pay[reduce_name]\n",
    "    data_7pay[delta_name]=data_7pay[add_name]-data_7pay[reduce_name]\n",
    "#     for k in range(3):\n",
    "#         print('------------------{}--------------'.format(k))\n",
    "#         print(data_7pay[add_name].iloc[k])\n",
    "#         print(data_7pay[reduce_name].iloc[k])\n",
    "#         print(data_7pay[add_name].iloc[k]-data_7pay[reduce_name].iloc[k])"
   ]
  },
  {
   "cell_type": "code",
   "execution_count": null,
   "metadata": {
    "ExecuteTime": {
     "end_time": "2018-08-31T02:12:30.349712Z",
     "start_time": "2018-08-31T02:12:30.329711Z"
    }
   },
   "outputs": [],
   "source": [
    "data_7pay.head()"
   ]
  },
  {
   "cell_type": "code",
   "execution_count": null,
   "metadata": {
    "ExecuteTime": {
     "end_time": "2018-08-31T02:12:30.442718Z",
     "start_time": "2018-08-31T02:12:30.350712Z"
    }
   },
   "outputs": [],
   "source": [
    "data_7pay.head()"
   ]
  },
  {
   "cell_type": "code",
   "execution_count": null,
   "metadata": {
    "ExecuteTime": {
     "end_time": "2018-08-31T02:12:30.670731Z",
     "start_time": "2018-08-31T02:12:30.443718Z"
    }
   },
   "outputs": [],
   "source": [
    "data_7pay['wood_sum_qua1'].head()"
   ]
  },
  {
   "cell_type": "code",
   "execution_count": null,
   "metadata": {
    "ExecuteTime": {
     "end_time": "2018-08-31T02:12:30.786737Z",
     "start_time": "2018-08-31T02:12:30.671731Z"
    }
   },
   "outputs": [],
   "source": [
    "data_7pay['wood_delta_qua2'].head()"
   ]
  },
  {
   "cell_type": "code",
   "execution_count": null,
   "metadata": {
    "ExecuteTime": {
     "end_time": "2018-08-31T02:12:30.988749Z",
     "start_time": "2018-08-31T02:12:30.787737Z"
    }
   },
   "outputs": [],
   "source": [
    "data_7pay.isna().sum().sum()"
   ]
  },
  {
   "cell_type": "code",
   "execution_count": null,
   "metadata": {
    "ExecuteTime": {
     "end_time": "2018-08-31T02:12:30.993749Z",
     "start_time": "2018-08-31T02:12:30.989749Z"
    }
   },
   "outputs": [],
   "source": [
    "abs(-123.2)"
   ]
  },
  {
   "cell_type": "code",
   "execution_count": null,
   "metadata": {
    "ExecuteTime": {
     "end_time": "2018-08-31T02:12:31.060753Z",
     "start_time": "2018-08-31T02:12:30.995749Z"
    }
   },
   "outputs": [],
   "source": [
    "delta_text=[]\n",
    "for i in data_7pay.columns.values:\n",
    "    if 'delta' in i:\n",
    "        delta_text.append(i)\n",
    "delta_text2=[]        \n",
    "for k in delta_text:\n",
    "    delta_text2.append(k[:len(k)-5]+'_abs_qua2')\n",
    "print(delta_text2)    "
   ]
  },
  {
   "cell_type": "code",
   "execution_count": null,
   "metadata": {
    "ExecuteTime": {
     "end_time": "2018-08-31T02:12:31.159759Z",
     "start_time": "2018-08-31T02:12:31.061753Z"
    }
   },
   "outputs": [],
   "source": [
    "data_7pay[delta_text2]=abs(data_7pay[delta_text])"
   ]
  },
  {
   "cell_type": "code",
   "execution_count": null,
   "metadata": {
    "ExecuteTime": {
     "end_time": "2018-08-31T02:12:31.317768Z",
     "start_time": "2018-08-31T02:12:31.162759Z"
    }
   },
   "outputs": [],
   "source": [
    "data_7pay[delta_text].head()"
   ]
  },
  {
   "cell_type": "code",
   "execution_count": null,
   "metadata": {
    "ExecuteTime": {
     "end_time": "2018-08-31T02:12:31.367771Z",
     "start_time": "2018-08-31T02:12:31.320768Z"
    }
   },
   "outputs": [],
   "source": [
    "data_7pay[delta_text2].head()"
   ]
  },
  {
   "cell_type": "code",
   "execution_count": null,
   "metadata": {
    "ExecuteTime": {
     "end_time": "2018-08-31T02:12:31.503778Z",
     "start_time": "2018-08-31T02:12:31.368771Z"
    }
   },
   "outputs": [],
   "source": [
    "text_shaman=[]\n",
    "for col in data_7pay.columns.values:\n",
    "     if 'shaman' in col:\n",
    "            text_shaman.append(col)\n",
    "data_7pay[text_shaman]            "
   ]
  },
  {
   "cell_type": "code",
   "execution_count": null,
   "metadata": {
    "ExecuteTime": {
     "end_time": "2018-08-31T02:12:31.559782Z",
     "start_time": "2018-08-31T02:12:31.504778Z"
    }
   },
   "outputs": [],
   "source": [
    "import re"
   ]
  },
  {
   "cell_type": "code",
   "execution_count": null,
   "metadata": {
    "ExecuteTime": {
     "end_time": "2018-08-31T02:12:31.679788Z",
     "start_time": "2018-08-31T02:12:31.561782Z"
    }
   },
   "outputs": [],
   "source": [
    "re.findall(r'\\d','sr_outpost_tier_3_level')"
   ]
  },
  {
   "cell_type": "code",
   "execution_count": null,
   "metadata": {
    "ExecuteTime": {
     "end_time": "2018-08-31T02:12:31.778794Z",
     "start_time": "2018-08-31T02:12:31.682789Z"
    }
   },
   "outputs": [],
   "source": [
    "level1_text=[]\n",
    "level2_text=[]\n",
    "level3_text=[]\n",
    "level4_text=[]\n",
    "for i in data_7pay.columns.values:\n",
    "    if 'level' in i:\n",
    "        if re.findall(r'\\d',i)==['2']:\n",
    "            level2_text.append(i)\n",
    "        elif re.findall(r'\\d',i)==['3']:\n",
    "            level3_text.append(i)\n",
    "        elif re.findall(r'\\d',i)==['4']:\n",
    "            level4_text.append(i)\n",
    "        else :\n",
    "            level1_text.append(i)\n",
    "print('-------------1 ----------')            \n",
    "print(level1_text)\n",
    "print('-------------2----------')            \n",
    "print(level2_text)\n",
    "print('-------------3 ----------')            \n",
    "print(level3_text)\n",
    "print('-------------4 ----------')            \n",
    "print(level4_text)\n",
    "            \n",
    "            \n",
    "        "
   ]
  },
  {
   "cell_type": "code",
   "execution_count": null,
   "metadata": {
    "ExecuteTime": {
     "end_time": "2018-08-31T02:12:31.894801Z",
     "start_time": "2018-08-31T02:12:31.780794Z"
    }
   },
   "outputs": [],
   "source": [
    "data_7pay[level1_text].head(30)"
   ]
  },
  {
   "cell_type": "code",
   "execution_count": null,
   "metadata": {
    "ExecuteTime": {
     "end_time": "2018-08-31T02:12:31.967805Z",
     "start_time": "2018-08-31T02:12:31.895801Z"
    }
   },
   "outputs": [],
   "source": [
    "data_7pay[level2_text].head(30)"
   ]
  },
  {
   "cell_type": "code",
   "execution_count": null,
   "metadata": {
    "ExecuteTime": {
     "end_time": "2018-08-31T02:12:32.101813Z",
     "start_time": "2018-08-31T02:12:31.968805Z"
    }
   },
   "outputs": [],
   "source": [
    "data_7pay[level3_text].head(30)"
   ]
  },
  {
   "cell_type": "code",
   "execution_count": null,
   "metadata": {
    "ExecuteTime": {
     "end_time": "2018-08-31T02:12:32.209819Z",
     "start_time": "2018-08-31T02:12:32.102813Z"
    }
   },
   "outputs": [],
   "source": [
    "data_7pay[level4_text].head(30)"
   ]
  },
  {
   "cell_type": "code",
   "execution_count": null,
   "metadata": {
    "ExecuteTime": {
     "end_time": "2018-08-31T02:12:32.328826Z",
     "start_time": "2018-08-31T02:12:32.211819Z"
    }
   },
   "outputs": [],
   "source": [
    "for i in level1_text:\n",
    "    if 'shaman' in i:\n",
    "        print(i)"
   ]
  },
  {
   "cell_type": "code",
   "execution_count": null,
   "metadata": {
    "ExecuteTime": {
     "end_time": "2018-08-31T02:12:32.405830Z",
     "start_time": "2018-08-31T02:12:32.329826Z"
    }
   },
   "outputs": [],
   "source": [
    "troop_text1=[]\n",
    "for i in level1_text:\n",
    "    if 'troop' in i:\n",
    "        troop_text1.append(i)\n",
    "data_7pay['troop_con_load_atk_def_sum_qua1']=0\n",
    "for k in troop_text1:\n",
    "    data_7pay['troop_con_load_atk_def_sum_qua1']+=data_7pay[k]"
   ]
  },
  {
   "cell_type": "code",
   "execution_count": null,
   "metadata": {},
   "outputs": [],
   "source": []
  },
  {
   "cell_type": "code",
   "execution_count": null,
   "metadata": {
    "ExecuteTime": {
     "end_time": "2018-08-31T02:12:32.484835Z",
     "start_time": "2018-08-31T02:12:32.406830Z"
    }
   },
   "outputs": [],
   "source": [
    "infantry_text1=[]\n",
    "cavalry_text1=[]\n",
    "shaman_text1=[]\n",
    "outpost_text1=[]\n",
    "for i in level1_text:\n",
    "    if 'infantry' in i:\n",
    "        infantry_text1.append(i)\n",
    "    elif 'cavalry' in i:\n",
    "        cavalry_text1.append(i)\n",
    "    elif 'shaman' in i:\n",
    "        shaman_text1.append(i)\n",
    "    elif 'outpost' in i:\n",
    "        outpost_text1.append(i)\n",
    "        "
   ]
  },
  {
   "cell_type": "code",
   "execution_count": null,
   "metadata": {
    "ExecuteTime": {
     "end_time": "2018-08-31T02:12:32.619842Z",
     "start_time": "2018-08-31T02:12:32.486835Z"
    }
   },
   "outputs": [],
   "source": [
    "for i in shaman_text1:\n",
    "    print(i)"
   ]
  },
  {
   "cell_type": "code",
   "execution_count": null,
   "metadata": {
    "ExecuteTime": {
     "end_time": "2018-08-31T02:12:32.759850Z",
     "start_time": "2018-08-31T02:12:32.620842Z"
    }
   },
   "outputs": [],
   "source": [
    "data_7pay['infantry_hp_atk_def_sum_qua1']=0\n",
    "data_7pay['cavalry_hp_atk_def_sum_qua1']=0\n",
    "data_7pay['shaman_hp_atk_def_sum_qua1']=0\n",
    "data_7pay['outpost_hp_atk_def_sum_qua1']=0\n",
    "for i in infantry_text1:\n",
    "    name='infantry_hp_atk_def_sum_qua1'\n",
    "    data_7pay[name]+=data_7pay[i]\n",
    "for i in cavalry_text1:\n",
    "    name='cavalry_hp_atk_def_sum_qua1'\n",
    "    data_7pay[name]+=data_7pay[i]\n",
    "for i in shaman_text1:\n",
    "    name='shaman_hp_atk_def_sum_qua1'\n",
    "    data_7pay[name]+=data_7pay[i]    \n",
    "for i in outpost_text1:\n",
    "    name='outpost_hp_atk_def_sum_qua1'\n",
    "    data_7pay[name]+=data_7pay[i]    "
   ]
  },
  {
   "cell_type": "code",
   "execution_count": null,
   "metadata": {},
   "outputs": [],
   "source": []
  },
  {
   "cell_type": "code",
   "execution_count": null,
   "metadata": {
    "ExecuteTime": {
     "end_time": "2018-08-31T02:12:32.889858Z",
     "start_time": "2018-08-31T02:12:32.761850Z"
    }
   },
   "outputs": [],
   "source": [
    "data_7pay['infantry_tier_2_sum_qua2']=0\n",
    "data_7pay['cavalry_tier_2_sum_qua2']=0\n",
    "data_7pay['shaman_tier_2_sum_qua2']=0\n",
    "data_7pay['outpost_tier_2_sum_qua2']=0\n",
    "infantry_text2=[]\n",
    "cavalry_text2=[]\n",
    "shaman_text2=[]\n",
    "outpost_text2=[]\n",
    "for i in level2_text:\n",
    "    if 'infantry' in i:\n",
    "        infantry_text2.append(i)\n",
    "    elif 'cavalry' in i:\n",
    "        cavalry_text2.append(i)\n",
    "    elif 'shaman' in i:\n",
    "        shaman_text2.append(i)\n",
    "    elif 'outpost' in i:\n",
    "        outpost_text2.append(i)\n",
    "##############################################        \n",
    "for i in infantry_text2:\n",
    "    name='infantry_tier_2_sum_qua2'\n",
    "    data_7pay[name]+=data_7pay[i]\n",
    "for i in cavalry_text2:\n",
    "    name='cavalry_tier_2_sum_qua2'\n",
    "    data_7pay[name]+=data_7pay[i]\n",
    "for i in shaman_text2:\n",
    "    name='shaman_tier_2_sum_qua2'\n",
    "    data_7pay[name]+=data_7pay[i]    \n",
    "for i in outpost_text2:\n",
    "    name='outpost_tier_2_sum_qua2'\n",
    "    data_7pay[name]+=data_7pay[i] "
   ]
  },
  {
   "cell_type": "code",
   "execution_count": null,
   "metadata": {
    "ExecuteTime": {
     "end_time": "2018-08-31T02:12:32.998864Z",
     "start_time": "2018-08-31T02:12:32.890858Z"
    }
   },
   "outputs": [],
   "source": [
    "data_7pay['infantry_tier_3_sum_qua3']=0\n",
    "data_7pay['cavalry_tier_3_sum_qua3']=0\n",
    "data_7pay['shaman_tier_3_sum_qua3']=0\n",
    "data_7pay['outpost_tier_3_sum_qua3']=0\n",
    "infantry_text3=[]\n",
    "cavalry_text3=[]\n",
    "shaman_text3=[]\n",
    "outpost_text3=[]\n",
    "for i in level3_text:\n",
    "    if 'infantry' in i:\n",
    "        infantry_text3.append(i)\n",
    "    elif 'cavalry' in i:\n",
    "        cavalry_text3.append(i)\n",
    "    elif 'shaman' in i:\n",
    "        shaman_text3.append(i)\n",
    "    elif 'outpost' in i:\n",
    "        outpost_text3.append(i)\n",
    "##############################################        \n",
    "for i in infantry_text3:\n",
    "    name='infantry_tier_3_sum_qua3'\n",
    "    data_7pay[name]+=data_7pay[i]\n",
    "for i in cavalry_text3:\n",
    "    name='cavalry_tier_3_sum_qua3'\n",
    "    data_7pay[name]+=data_7pay[i]\n",
    "for i in shaman_text3:\n",
    "    name='shaman_tier_3_sum_qua3'\n",
    "    data_7pay[name]+=data_7pay[i]    \n",
    "for i in outpost_text3:\n",
    "    name='outpost_tier_3_sum_qua3'\n",
    "    data_7pay[name]+=data_7pay[i] "
   ]
  },
  {
   "cell_type": "code",
   "execution_count": null,
   "metadata": {
    "ExecuteTime": {
     "end_time": "2018-08-31T02:12:33.097870Z",
     "start_time": "2018-08-31T02:12:32.999864Z"
    }
   },
   "outputs": [],
   "source": [
    "data_7pay['infantry_tier_4_sum_qua4']=0\n",
    "data_7pay['cavalry_tier_4_sum_qua4']=0\n",
    "data_7pay['shaman_tier_4_sum_qua4']=0\n",
    "data_7pay['outpost_tier_4_sum_qua4']=0\n",
    "infantry_text4=[]\n",
    "cavalry_text4=[]\n",
    "shaman_text4=[]\n",
    "outpost_text4=[]\n",
    "for i in level4_text:\n",
    "    if 'infantry' in i:\n",
    "        infantry_text4.append(i)\n",
    "    elif 'cavalry' in i:\n",
    "        cavalry_text4.append(i)\n",
    "    elif 'shaman' in i:\n",
    "        shaman_text4.append(i)\n",
    "    elif 'outpost' in i:\n",
    "        outpost_text4.append(i)\n",
    "##############################################        \n",
    "for i in infantry_text4:\n",
    "    name='infantry_tier_4_sum_qua4'\n",
    "    data_7pay[name]+=data_7pay[i]\n",
    "for i in cavalry_text4:\n",
    "    name='cavalry_tier_4_sum_qua4'\n",
    "    data_7pay[name]+=data_7pay[i]\n",
    "for i in shaman_text4:\n",
    "    name='shaman_tier_4_sum_qua4'\n",
    "    data_7pay[name]+=data_7pay[i]    \n",
    "for i in outpost_text4:\n",
    "    name='outpost_tier_4_sum_qua4'\n",
    "    data_7pay[name]+=data_7pay[i] "
   ]
  },
  {
   "cell_type": "code",
   "execution_count": null,
   "metadata": {
    "ExecuteTime": {
     "end_time": "2018-08-31T02:12:33.241878Z",
     "start_time": "2018-08-31T02:12:33.099870Z"
    }
   },
   "outputs": [],
   "source": [
    "rss_test=[]\n",
    "for i in data_7pay.columns.values:\n",
    "    if 'rss' in i:\n",
    "        rss_test.append(i)\n",
    "        print(i[:9])"
   ]
  },
  {
   "cell_type": "code",
   "execution_count": null,
   "metadata": {
    "ExecuteTime": {
     "end_time": "2018-08-31T02:12:33.353884Z",
     "start_time": "2018-08-31T02:12:33.246878Z"
    }
   },
   "outputs": [],
   "source": [
    "for i in data_7pay.columns.values:\n",
    "    if 'sr_rss_c' in i:\n",
    "        print(i)"
   ]
  },
  {
   "cell_type": "code",
   "execution_count": null,
   "metadata": {
    "ExecuteTime": {
     "end_time": "2018-08-31T02:12:33.438889Z",
     "start_time": "2018-08-31T02:12:33.354884Z"
    }
   },
   "outputs": [],
   "source": [
    "for i in rss_test:\n",
    "    if 'prod' in i:\n",
    "        col_name=i[:9]+'sum_qua1'\n",
    "        prod_name=i[:9]+'prod_level'\n",
    "        gather_name=i[:9]+'gather_level'\n",
    "        data_7pay[col_name]=data_7pay[prod_name]+data_7pay[gather_name]"
   ]
  },
  {
   "cell_type": "code",
   "execution_count": null,
   "metadata": {
    "ExecuteTime": {
     "end_time": "2018-08-31T02:12:33.546895Z",
     "start_time": "2018-08-31T02:12:33.439889Z"
    }
   },
   "outputs": [],
   "source": [
    "data_7pay.head()"
   ]
  },
  {
   "cell_type": "code",
   "execution_count": null,
   "metadata": {
    "ExecuteTime": {
     "end_time": "2018-08-31T02:12:33.675903Z",
     "start_time": "2018-08-31T02:12:33.547895Z"
    }
   },
   "outputs": [],
   "source": [
    "data_7pay[[ i for i in data_7pay.columns.values if 'troop' in i ]].head()"
   ]
  },
  {
   "cell_type": "code",
   "execution_count": null,
   "metadata": {
    "ExecuteTime": {
     "end_time": "2018-08-31T02:12:33.771908Z",
     "start_time": "2018-08-31T02:12:33.676903Z"
    }
   },
   "outputs": [],
   "source": [
    "data_7pay[(data_7pay['troop_con_load_atk_def_sum_qua1'] > 1) ].shape"
   ]
  },
  {
   "cell_type": "code",
   "execution_count": null,
   "metadata": {
    "ExecuteTime": {
     "end_time": "2018-08-31T02:12:33.858913Z",
     "start_time": "2018-08-31T02:12:33.772908Z"
    }
   },
   "outputs": [],
   "source": [
    "data_7pay[(data_7pay['troop_con_load_atk_def_sum_qua1'] > 1)  & (data_7pay['pay_price'] < data_7pay['prediction_pay_price'])].shape"
   ]
  },
  {
   "cell_type": "code",
   "execution_count": null,
   "metadata": {
    "ExecuteTime": {
     "end_time": "2018-08-31T02:12:33.994921Z",
     "start_time": "2018-08-31T02:12:33.859913Z"
    }
   },
   "outputs": [],
   "source": [
    "#######\n",
    "data_7pay[(data_7pay['troop_con_load_atk_def_sum_qua1'] > 0)  & (data_7pay['pay_price'] < data_7pay['prediction_pay_price'])][['pay_price','prediction_pay_price']]"
   ]
  },
  {
   "cell_type": "code",
   "execution_count": null,
   "metadata": {
    "ExecuteTime": {
     "end_time": "2018-08-31T02:12:34.104927Z",
     "start_time": "2018-08-31T02:12:33.995921Z"
    }
   },
   "outputs": [],
   "source": [
    "data_7pay[[ i for i in data_7pay.columns.values if 'reaserch' in i ]].head()"
   ]
  },
  {
   "cell_type": "code",
   "execution_count": null,
   "metadata": {
    "ExecuteTime": {
     "end_time": "2018-08-31T02:12:34.191932Z",
     "start_time": "2018-08-31T02:12:34.106927Z"
    }
   },
   "outputs": [],
   "source": [
    "bd_healing_text1=[]\n",
    "for i in level1_text:\n",
    "    if 'bd_healing' in i:\n",
    "        bd_healing_text1.append(i)\n",
    "data_7pay['bd_healing_sum_qua1']=0\n",
    "for k in bd_healing_text1:\n",
    "    data_7pay['bd_healing_sum_qua1']+=data_7pay[k]"
   ]
  },
  {
   "cell_type": "code",
   "execution_count": null,
   "metadata": {
    "ExecuteTime": {
     "end_time": "2018-08-31T02:12:34.295938Z",
     "start_time": "2018-08-31T02:12:34.193932Z"
    }
   },
   "outputs": [],
   "source": [
    "bd_hero_text1=[]\n",
    "for i in level1_text:\n",
    "    if 'bd_hero' in i:\n",
    "        bd_hero_text1.append(i)\n",
    "data_7pay['bd_hero_sum_qua1']=0\n",
    "for k in bd_hero_text1:\n",
    "    data_7pay['bd_hero_sum_qua1']+=data_7pay[k]"
   ]
  },
  {
   "cell_type": "code",
   "execution_count": null,
   "metadata": {
    "ExecuteTime": {
     "end_time": "2018-08-31T02:12:34.423945Z",
     "start_time": "2018-08-31T02:12:34.296938Z"
    }
   },
   "outputs": [],
   "source": [
    "sr_text1=[]\n",
    "for i in level1_text:\n",
    "    if 'sr' in i:\n",
    "        sr_text1.append(i)\n",
    "data_7pay['sr1_sum_qua1']=0\n",
    "for k in sr_text1:\n",
    "    data_7pay['sr1_sum_qua1']+=data_7pay[k]\n",
    "    \n",
    "########################\n",
    "sr_text2=[]\n",
    "for i in level2_text:\n",
    "    if 'sr' in i:\n",
    "        sr_text2.append(i)\n",
    "data_7pay['sr2_sum_qua1']=0\n",
    "for k in sr_text2:\n",
    "    data_7pay['sr2_sum_qua1']+=data_7pay[k]\n",
    "\n",
    "#########################\n",
    "sr_text3=[]\n",
    "for i in level3_text:\n",
    "    if 'sr' in i:\n",
    "        sr_text3.append(i)\n",
    "data_7pay['sr3_sum_qua1']=0\n",
    "for k in sr_text3:\n",
    "    data_7pay['sr3_sum_qua1']+=data_7pay[k]\n",
    "    \n",
    "#######################    \n",
    "sr_text4=[]\n",
    "for i in level4_text:\n",
    "    if 'sr' in i:\n",
    "        sr_text4.append(i)\n",
    "data_7pay['sr4_sum_qua1']=0\n",
    "for k in sr_text4:\n",
    "    data_7pay['sr4_sum_qua1']+=data_7pay[k]    "
   ]
  },
  {
   "cell_type": "code",
   "execution_count": null,
   "metadata": {
    "ExecuteTime": {
     "end_time": "2018-08-31T02:12:34.494950Z",
     "start_time": "2018-08-31T02:12:34.424946Z"
    }
   },
   "outputs": [],
   "source": [
    "bd_text1=[]\n",
    "for i in level1_text:\n",
    "    if 'bd' in i:\n",
    "        bd_text1.append(i)\n",
    "data_7pay['bd1_sum_qua1']=0\n",
    "for k in bd_text1:\n",
    "    data_7pay['bd1_sum_qua1']+=data_7pay[k]"
   ]
  },
  {
   "cell_type": "code",
   "execution_count": null,
   "metadata": {
    "ExecuteTime": {
     "end_time": "2018-08-31T02:12:34.641958Z",
     "start_time": "2018-08-31T02:12:34.495950Z"
    }
   },
   "outputs": [],
   "source": [
    "sr1_atk_text=[]\n",
    "for i in level1_text:\n",
    "    if 'atk_level' in i:\n",
    "        sr1_atk_text.append(i)\n",
    "data_7pay['sr1_atk_sum_qua1']=0\n",
    "for k in sr1_atk_text:\n",
    "    data_7pay['sr1_atk_sum_qua1']+=data_7pay[k]\n",
    "    \n",
    "#####################\n",
    "sr1_def_text=[]\n",
    "for i in level1_text:\n",
    "    if 'def_level' in i:\n",
    "        sr1_def_text.append(i)\n",
    "data_7pay['sr1_def_sum_qua1']=0\n",
    "for k in sr1_def_text:\n",
    "    data_7pay['sr1_def_sum_qua1']+=data_7pay[k]\n",
    "\n",
    "####################\n",
    "\n",
    "sr1_hp_text=[]\n",
    "for i in level1_text:\n",
    "    if 'hp_level' in i:\n",
    "        sr1_hp_text.append(i)\n",
    "data_7pay['sr1_hp_sum_qua1']=0\n",
    "for k in sr1_hp_text:\n",
    "    data_7pay['sr1_hp_sum_qua1']+=data_7pay[k]"
   ]
  },
  {
   "cell_type": "code",
   "execution_count": null,
   "metadata": {
    "ExecuteTime": {
     "end_time": "2018-08-31T02:12:34.779966Z",
     "start_time": "2018-08-31T02:12:34.642958Z"
    }
   },
   "outputs": [],
   "source": [
    "soldier_name=['shaman','cavalry','infantry']\n",
    "properity_name=['hp','atk','def']\n",
    "for i in soldier_name:\n",
    "    for k in properity_name:\n",
    "        sum_name=i+'_hp_atk_def_sum_qua1'\n",
    "        name='sr_'+i+'_'+k+'_level'\n",
    "        col_name=i+'_'+k+'_sum_rate_qua4'\n",
    "#         print(data_7pay[name].shape[0])\n",
    "        data_7pay[col_name]=data_7pay[name]/data_7pay[sum_name]\n",
    "        "
   ]
  },
  {
   "cell_type": "code",
   "execution_count": null,
   "metadata": {
    "ExecuteTime": {
     "end_time": "2018-08-26T06:11:55.969195Z",
     "start_time": "2018-08-26T06:11:55.964190Z"
    }
   },
   "outputs": [],
   "source": []
  },
  {
   "cell_type": "code",
   "execution_count": null,
   "metadata": {},
   "outputs": [],
   "source": []
  },
  {
   "cell_type": "code",
   "execution_count": null,
   "metadata": {
    "ExecuteTime": {
     "end_time": "2018-08-31T02:12:34.944975Z",
     "start_time": "2018-08-31T02:12:34.780966Z"
    }
   },
   "outputs": [],
   "source": [
    "data_7pay[[ i for i in data_7pay.columns.values if 'shaman' in i ]].head(30)"
   ]
  },
  {
   "cell_type": "code",
   "execution_count": null,
   "metadata": {
    "ExecuteTime": {
     "end_time": "2018-08-31T02:12:35.125986Z",
     "start_time": "2018-08-31T02:12:34.946975Z"
    }
   },
   "outputs": [],
   "source": [
    "data_7pay[[ i for i in data_7pay.columns.values if 'sr' in i ]].head()"
   ]
  },
  {
   "cell_type": "code",
   "execution_count": null,
   "metadata": {
    "ExecuteTime": {
     "end_time": "2018-08-31T02:12:35.322997Z",
     "start_time": "2018-08-31T02:12:35.126986Z"
    }
   },
   "outputs": [],
   "source": [
    "pvp_text1=[]\n",
    "for i in data_7pay.columns.values:\n",
    "    if ('pvp' in i) & ('count' in i):\n",
    "        pvp_text1.append(i)\n",
    "data_7pay['pvp_sum_qua1']=0\n",
    "for k in pvp_text1:\n",
    "    data_7pay['pvp_sum_qua1']+=data_7pay[k]"
   ]
  },
  {
   "cell_type": "code",
   "execution_count": null,
   "metadata": {
    "ExecuteTime": {
     "end_time": "2018-08-31T02:12:35.463005Z",
     "start_time": "2018-08-31T02:12:35.323997Z"
    }
   },
   "outputs": [],
   "source": [
    "pve_text1=[]\n",
    "for i in data_7pay.columns.values:\n",
    "    if ('pve' in i) & ('count' in i):\n",
    "        pve_text1.append(i)\n",
    "data_7pay['pve_sum_qua1']=0\n",
    "for k in pve_text1:\n",
    "    data_7pay['pve_sum_qua1']+=data_7pay[k]"
   ]
  },
  {
   "cell_type": "code",
   "execution_count": null,
   "metadata": {
    "ExecuteTime": {
     "end_time": "2018-08-31T02:12:35.575011Z",
     "start_time": "2018-08-31T02:12:35.465005Z"
    }
   },
   "outputs": [],
   "source": [
    "data_7pay['pvp_win_battle_rate_qua4']=data_7pay['pvp_win_count']/data_7pay['pvp_battle_count']\n",
    "data_7pay['pve_win_battle_rate_qua4']=data_7pay['pve_win_count']/data_7pay['pve_battle_count']\n",
    "data_7pay['pvp_lanch_battle_rate_qua4']=data_7pay['pvp_lanch_count']/data_7pay['pvp_battle_count']\n",
    "data_7pay['pve_lanch_battle_rate_qua4']=data_7pay['pve_lanch_count']/data_7pay['pve_battle_count']"
   ]
  },
  {
   "cell_type": "code",
   "execution_count": null,
   "metadata": {},
   "outputs": [],
   "source": []
  },
  {
   "cell_type": "code",
   "execution_count": 79,
   "metadata": {
    "ExecuteTime": {
     "end_time": "2018-08-31T02:15:16.813269Z",
     "start_time": "2018-08-31T02:15:16.800268Z"
    }
   },
   "outputs": [
    {
     "name": "stdout",
     "output_type": "stream",
     "text": [
      "general_acceleration_add_value\n",
      "building_acceleration_add_value\n",
      "reaserch_acceleration_add_value\n",
      "training_acceleration_add_value\n",
      "treatment_acceleration_add_value\n"
     ]
    }
   ],
   "source": [
    "for i in data_7pay.columns.values :\n",
    "    if 'acceleration_add' in i:\n",
    "        print(i)"
   ]
  },
  {
   "cell_type": "code",
   "execution_count": 80,
   "metadata": {
    "ExecuteTime": {
     "end_time": "2018-08-31T02:23:42.686960Z",
     "start_time": "2018-08-31T02:23:42.639759Z"
    }
   },
   "outputs": [],
   "source": [
    "acceleration_add_text=[i for i in data_7pay if 'acceleration_add_value' in i ]\n",
    "acceleration_reduce_text=[i for i in data_7pay if 'acceleration_reduce_value' in i ]\n",
    "\n",
    "data_7pay['acceleration_add_value_sum_qua1']=0\n",
    "data_7pay['acceleration_reduce_value_sum_qua1']=0\n",
    "for k in acceleration_add_text:\n",
    "    data_7pay['acceleration_add_value_sum_qua1']+=data_7pay[k]\n",
    "for k in acceleration_reduce_text:\n",
    "    data_7pay['acceleration_reduce_value_sum_qua1']+=data_7pay[k]    "
   ]
  },
  {
   "cell_type": "code",
   "execution_count": 81,
   "metadata": {
    "ExecuteTime": {
     "end_time": "2018-08-31T02:25:08.314784Z",
     "start_time": "2018-08-31T02:25:08.300784Z"
    }
   },
   "outputs": [
    {
     "data": {
      "text/plain": [
       "['wood_sum_qua1',\n",
       " 'stone_sum_qua1',\n",
       " 'ivory_sum_qua1',\n",
       " 'meat_sum_qua1',\n",
       " 'magic_sum_qua1',\n",
       " 'infantry_sum_qua1',\n",
       " 'cavalry_sum_qua1',\n",
       " 'shaman_sum_qua1',\n",
       " 'wound_infantry_sum_qua1',\n",
       " 'wound_cavalry_sum_qua1',\n",
       " 'wound_shaman_sum_qua1',\n",
       " 'general_acceleration_sum_qua1',\n",
       " 'building_acceleration_sum_qua1',\n",
       " 'reaserch_acceleration_sum_qua1',\n",
       " 'training_acceleration_sum_qua1',\n",
       " 'treatment_acceleration_sum_qua1',\n",
       " 'troop_con_load_atk_def_sum_qua1',\n",
       " 'infantry_hp_atk_def_sum_qua1',\n",
       " 'cavalry_hp_atk_def_sum_qua1',\n",
       " 'shaman_hp_atk_def_sum_qua1',\n",
       " 'outpost_hp_atk_def_sum_qua1',\n",
       " 'sr_rss_a_sum_qua1',\n",
       " 'sr_rss_b_sum_qua1',\n",
       " 'sr_rss_c_sum_qua1',\n",
       " 'sr_rss_d_sum_qua1',\n",
       " 'sr_rss_e_sum_qua1',\n",
       " 'bd_healing_sum_qua1',\n",
       " 'bd_hero_sum_qua1',\n",
       " 'sr1_sum_qua1',\n",
       " 'sr2_sum_qua1',\n",
       " 'sr3_sum_qua1',\n",
       " 'sr4_sum_qua1',\n",
       " 'bd1_sum_qua1',\n",
       " 'sr1_atk_sum_qua1',\n",
       " 'sr1_def_sum_qua1',\n",
       " 'sr1_hp_sum_qua1',\n",
       " 'pvp_sum_qua1',\n",
       " 'pve_sum_qua1',\n",
       " 'acceleration_add_value_sum_qua1',\n",
       " 'acceleration_reduce_value_sum_qua1']"
      ]
     },
     "execution_count": 81,
     "metadata": {},
     "output_type": "execute_result"
    }
   ],
   "source": [
    "[i for i in data_7pay.columns.values if 'sum_qua1' in i]"
   ]
  },
  {
   "cell_type": "code",
   "execution_count": null,
   "metadata": {},
   "outputs": [],
   "source": []
  },
  {
   "cell_type": "code",
   "execution_count": null,
   "metadata": {},
   "outputs": [],
   "source": []
  },
  {
   "cell_type": "code",
   "execution_count": null,
   "metadata": {},
   "outputs": [],
   "source": []
  },
  {
   "cell_type": "code",
   "execution_count": null,
   "metadata": {
    "ExecuteTime": {
     "end_time": "2018-08-30T07:48:19.096558Z",
     "start_time": "2018-08-30T07:48:17.977494Z"
    }
   },
   "outputs": [],
   "source": [
    "for name in data_7pay.columns.values:\n",
    "    price_name=name+'_per_price_qua4'\n",
    "    count_name=name+'_per_count_qua4'\n",
    "    online_name=name+'_per_minute_qua4'\n",
    "    data_7pay[price_name]=data_7pay[name] / data_7pay['pay_price']\n",
    "    data_7pay[count_name]=data_7pay[name] / data_7pay['pay_count']\n",
    "    data_7pay[online_name]=data_7pay[name] / data_7pay['avg_online_minutes']"
   ]
  },
  {
   "cell_type": "code",
   "execution_count": null,
   "metadata": {
    "ExecuteTime": {
     "end_time": "2018-08-30T07:48:19.119559Z",
     "start_time": "2018-08-30T07:48:19.097558Z"
    }
   },
   "outputs": [],
   "source": [
    "data_7pay.head()"
   ]
  },
  {
   "cell_type": "code",
   "execution_count": null,
   "metadata": {
    "ExecuteTime": {
     "end_time": "2018-08-30T07:48:19.839601Z",
     "start_time": "2018-08-30T07:48:19.802598Z"
    }
   },
   "outputs": [],
   "source": [
    "data_45pay=data_7pay[data_7pay['prediction_pay_price'] > data_7pay['pay_price']]"
   ]
  },
  {
   "cell_type": "code",
   "execution_count": null,
   "metadata": {
    "ExecuteTime": {
     "end_time": "2018-08-30T07:48:21.100673Z",
     "start_time": "2018-08-30T07:48:20.998667Z"
    }
   },
   "outputs": [],
   "source": [
    "##############################"
   ]
  },
  {
   "cell_type": "code",
   "execution_count": null,
   "metadata": {
    "ExecuteTime": {
     "end_time": "2018-08-31T02:03:16.389802Z",
     "start_time": "2018-08-31T02:02:45.204419Z"
    }
   },
   "outputs": [],
   "source": [
    "import time\n",
    "import lightgbm as lgb\n",
    "from sklearn.cross_validation import train_test_split\n",
    "from sklearn.metrics import mean_squared_error\n",
    "train_data4=data_7pay.copy()\n",
    "train_data4.fillna(0,inplace=True)\n",
    "train_data4_x=train_data4.drop(labels=['prediction_pay_price','prediction_pay_price_per_price_qua4',\n",
    "                                      'prediction_pay_price_per_count_qua4','prediction_pay_price_per_minute_qua4',\n",
    "                                      'prediction_pay_rate_qua4','prediction_pay_diff_qua2'],axis=1)\n",
    "train_data4_y=train_data4['prediction_pay_price']\n",
    "X_train4,X_test4,y_train4,y_test4=train_test_split(train_data4_x,train_data4_y,random_state=7,test_size=0.2)\n",
    "train4=lgb.Dataset(X_train4,y_train4)\n",
    "test4=lgb.Dataset(X_test4,label=y_test4,reference=train4)\n",
    "\n",
    "params={\n",
    "    'boosting_type':'gbdt',\n",
    "    'objective':'mse',\n",
    "    'metric':'rmse',\n",
    "    'min_child_weigth':3,\n",
    "    'num_leaves':80,\n",
    "    'max_depth':6,\n",
    "    'lambda_l2':10,\n",
    "    'subsample':0.7,\n",
    "    'colsample_bytree':0.7,\n",
    "    'colsample_bylevel':0.7,\n",
    "    'learning_rate':0.05,\n",
    "    'tree_method':'exact',\n",
    "    'seed':2017,\n",
    "    'nthread':4,\n",
    "    'silent':True\n",
    "}\n",
    "\n",
    "\n",
    "n=1000\n",
    "gbm=lgb.train(params=params,\n",
    "             train_set=train4,\n",
    "             num_boost_round=n,\n",
    "             verbose_eval=50,\n",
    "             valid_sets=[train4,test4])"
   ]
  },
  {
   "cell_type": "code",
   "execution_count": null,
   "metadata": {
    "ExecuteTime": {
     "end_time": "2018-08-31T02:03:26.269676Z",
     "start_time": "2018-08-31T02:03:26.235075Z"
    }
   },
   "outputs": [],
   "source": [
    "\n",
    "df_fi=pd.DataFrame()\n",
    "df_fi['name']=gbm.feature_name()\n",
    "df_fi['importance']=gbm.feature_importance()\n",
    "\n",
    "\n",
    "df_fi.sort_values(by=['importance'],axis=0,ascending=False)\n",
    "\n",
    "# df_fi.sort_values(by=['importance'])\n"
   ]
  },
  {
   "cell_type": "code",
   "execution_count": null,
   "metadata": {},
   "outputs": [],
   "source": []
  },
  {
   "cell_type": "code",
   "execution_count": null,
   "metadata": {},
   "outputs": [],
   "source": []
  },
  {
   "cell_type": "code",
   "execution_count": null,
   "metadata": {},
   "outputs": [],
   "source": []
  },
  {
   "cell_type": "code",
   "execution_count": null,
   "metadata": {
    "ExecuteTime": {
     "end_time": "2018-08-30T09:40:06.485198Z",
     "start_time": "2018-08-30T09:40:06.395193Z"
    }
   },
   "outputs": [],
   "source": [
    "import datetime\n",
    "from  sklearn.externals import joblib\n",
    "nowTime=datetime.datetime.now().strftime('%Y%m%d%H%M%S')\n",
    "name='tf_model_r_'+str(nowTime)+'.gz'\n",
    "joblib.dump(gbm,'F:\\\\study\\\\ml\\\\DataSet\\\\Tap4fun\\\\Model\\\\'+name,compress=3)"
   ]
  },
  {
   "cell_type": "code",
   "execution_count": null,
   "metadata": {},
   "outputs": [],
   "source": []
  },
  {
   "cell_type": "code",
   "execution_count": null,
   "metadata": {
    "ExecuteTime": {
     "end_time": "2018-08-30T07:48:21.805713Z",
     "start_time": "2018-08-30T07:47:14.262Z"
    }
   },
   "outputs": [],
   "source": [
    "######################## linear regression"
   ]
  },
  {
   "cell_type": "code",
   "execution_count": null,
   "metadata": {
    "ExecuteTime": {
     "end_time": "2018-08-30T07:48:21.806713Z",
     "start_time": "2018-08-30T07:47:14.265Z"
    }
   },
   "outputs": [],
   "source": [
    "from sklearn.linear_model import LinearRegression"
   ]
  },
  {
   "cell_type": "code",
   "execution_count": null,
   "metadata": {
    "ExecuteTime": {
     "end_time": "2018-08-30T07:48:21.806713Z",
     "start_time": "2018-08-30T07:47:14.267Z"
    }
   },
   "outputs": [],
   "source": [
    "data_7pay.isna().sum().sum()"
   ]
  },
  {
   "cell_type": "code",
   "execution_count": null,
   "metadata": {
    "ExecuteTime": {
     "end_time": "2018-08-30T07:48:21.807713Z",
     "start_time": "2018-08-30T07:47:14.269Z"
    }
   },
   "outputs": [],
   "source": [
    "train_data3=data_7pay.copy()\n",
    "train_data3.fillna(0,inplace=True)"
   ]
  },
  {
   "cell_type": "code",
   "execution_count": null,
   "metadata": {
    "ExecuteTime": {
     "end_time": "2018-08-30T07:48:21.808713Z",
     "start_time": "2018-08-30T07:47:14.272Z"
    }
   },
   "outputs": [],
   "source": [
    "train_data3.isna().sum().sum()"
   ]
  },
  {
   "cell_type": "code",
   "execution_count": null,
   "metadata": {
    "ExecuteTime": {
     "end_time": "2018-08-30T07:48:21.809713Z",
     "start_time": "2018-08-30T07:47:14.274Z"
    }
   },
   "outputs": [],
   "source": [
    "################    7pay\n",
    "train_data3=data_7pay.copy()\n",
    "train_data3.fillna(0,inplace=True)\n"
   ]
  },
  {
   "cell_type": "code",
   "execution_count": null,
   "metadata": {
    "ExecuteTime": {
     "end_time": "2018-08-30T07:48:21.809713Z",
     "start_time": "2018-08-30T07:47:14.276Z"
    }
   },
   "outputs": [],
   "source": [
    "train_data3.isnull().any(axis=0).sum()"
   ]
  },
  {
   "cell_type": "code",
   "execution_count": null,
   "metadata": {
    "ExecuteTime": {
     "end_time": "2018-08-30T07:48:21.810713Z",
     "start_time": "2018-08-30T07:47:14.279Z"
    }
   },
   "outputs": [],
   "source": [
    "train_data3.isnull().any(axis=1).sum()"
   ]
  },
  {
   "cell_type": "code",
   "execution_count": null,
   "metadata": {
    "ExecuteTime": {
     "end_time": "2018-08-30T07:48:21.811713Z",
     "start_time": "2018-08-30T07:47:14.281Z"
    }
   },
   "outputs": [],
   "source": [
    "data.isnull().any()"
   ]
  },
  {
   "cell_type": "code",
   "execution_count": null,
   "metadata": {
    "ExecuteTime": {
     "end_time": "2018-08-30T07:48:21.811713Z",
     "start_time": "2018-08-30T07:47:14.283Z"
    }
   },
   "outputs": [],
   "source": [
    "train_data3[train_data3.isnull().values==True]"
   ]
  },
  {
   "cell_type": "code",
   "execution_count": null,
   "metadata": {
    "ExecuteTime": {
     "end_time": "2018-08-30T07:48:21.812713Z",
     "start_time": "2018-08-30T07:47:14.285Z"
    }
   },
   "outputs": [],
   "source": [
    "train_data3.shape"
   ]
  },
  {
   "cell_type": "code",
   "execution_count": null,
   "metadata": {
    "ExecuteTime": {
     "end_time": "2018-08-30T07:48:21.813714Z",
     "start_time": "2018-08-30T07:47:14.287Z"
    }
   },
   "outputs": [],
   "source": [
    "dtrain_data3f=train_data3.dropna(axis=1)"
   ]
  },
  {
   "cell_type": "code",
   "execution_count": null,
   "metadata": {
    "ExecuteTime": {
     "end_time": "2018-08-30T07:48:21.813714Z",
     "start_time": "2018-08-30T07:47:14.289Z"
    }
   },
   "outputs": [],
   "source": [
    "train_data3.shape"
   ]
  },
  {
   "cell_type": "code",
   "execution_count": null,
   "metadata": {
    "ExecuteTime": {
     "end_time": "2018-08-30T07:48:21.814714Z",
     "start_time": "2018-08-30T07:47:14.292Z"
    }
   },
   "outputs": [],
   "source": [
    "np.any(np.isnan(train_data3))"
   ]
  },
  {
   "cell_type": "code",
   "execution_count": null,
   "metadata": {},
   "outputs": [],
   "source": []
  },
  {
   "cell_type": "code",
   "execution_count": null,
   "metadata": {
    "ExecuteTime": {
     "end_time": "2018-08-30T03:20:03.288931Z",
     "start_time": "2018-08-30T03:20:02.488885Z"
    }
   },
   "outputs": [],
   "source": [
    "################    7pay\n",
    "train_data4=data_45pay.copy()\n",
    "train_data4.fillna(0,inplace=True)\n",
    "train_data4_x=train_data4.drop(labels=['prediction_pay_price','prediction_pay_price_per_price_qua4',\n",
    "                                      'prediction_pay_price_per_count_qua4','prediction_pay_price_per_minute_qua4',\n",
    "                                      'prediction_pay_rate_qua4','prediction_pay_diff_qua2'],axis=1)\n",
    "train_data4_y=train_data4['prediction_pay_price']\n",
    "X_train4,X_test4,y_train4,y_test4=train_test_split(train_data4_x,train_data4_y,random_state=7,test_size=0.3)\n",
    "\n",
    "from sklearn.linear_model import LinearRegression\n",
    "lr=LinearRegression()\n",
    "lr.fit(X_train4,y_train4)\n",
    "\n",
    "y_prob4=lr.predict(X_test4)\n",
    "\n",
    "from sklearn.metrics import mean_squared_error\n",
    "\n",
    "np.sqrt(mean_squared_error(y_test4,y_prob4))"
   ]
  },
  {
   "cell_type": "code",
   "execution_count": null,
   "metadata": {},
   "outputs": [],
   "source": []
  },
  {
   "cell_type": "code",
   "execution_count": null,
   "metadata": {},
   "outputs": [],
   "source": []
  },
  {
   "cell_type": "code",
   "execution_count": null,
   "metadata": {},
   "outputs": [],
   "source": []
  },
  {
   "cell_type": "code",
   "execution_count": null,
   "metadata": {},
   "outputs": [],
   "source": []
  },
  {
   "cell_type": "code",
   "execution_count": null,
   "metadata": {},
   "outputs": [],
   "source": []
  }
 ],
 "metadata": {
  "kernelspec": {
   "display_name": "Python 3",
   "language": "python",
   "name": "python3"
  },
  "language_info": {
   "codemirror_mode": {
    "name": "ipython",
    "version": 3
   },
   "file_extension": ".py",
   "mimetype": "text/x-python",
   "name": "python",
   "nbconvert_exporter": "python",
   "pygments_lexer": "ipython3",
   "version": "3.6.3"
  }
 },
 "nbformat": 4,
 "nbformat_minor": 2
}
