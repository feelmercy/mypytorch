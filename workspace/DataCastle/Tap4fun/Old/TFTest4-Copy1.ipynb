{
 "cells": [
  {
   "cell_type": "code",
   "execution_count": 1,
   "metadata": {
    "ExecuteTime": {
     "end_time": "2018-08-16T05:40:30.481425Z",
     "start_time": "2018-08-16T05:40:28.939337Z"
    }
   },
   "outputs": [],
   "source": [
    "import pandas as pd\n",
    "import numpy as np"
   ]
  },
  {
   "cell_type": "code",
   "execution_count": 2,
   "metadata": {
    "ExecuteTime": {
     "end_time": "2018-08-16T05:41:04.482370Z",
     "start_time": "2018-08-16T05:40:30.482425Z"
    }
   },
   "outputs": [],
   "source": [
    "df_train=pd.read_csv('F:\\\\study\\\\ml\\\\DataSet\\\\Tap4fun\\\\tap_fun_train.csv')"
   ]
  },
  {
   "cell_type": "code",
   "execution_count": 3,
   "metadata": {
    "ExecuteTime": {
     "end_time": "2018-08-16T05:41:04.683381Z",
     "start_time": "2018-08-16T05:41:04.483370Z"
    }
   },
   "outputs": [
    {
     "name": "stdout",
     "output_type": "stream",
     "text": [
      "<class 'pandas.core.frame.DataFrame'>\n",
      "RangeIndex: 2288007 entries, 0 to 2288006\n",
      "Columns: 109 entries, user_id to prediction_pay_price\n",
      "dtypes: float64(13), int64(95), object(1)\n",
      "memory usage: 2.0 GB\n"
     ]
    }
   ],
   "source": [
    "df_train.info(memory_usage='deep')"
   ]
  },
  {
   "cell_type": "code",
   "execution_count": 4,
   "metadata": {
    "ExecuteTime": {
     "end_time": "2018-08-16T05:41:18.693183Z",
     "start_time": "2018-08-16T05:41:04.684381Z"
    }
   },
   "outputs": [],
   "source": [
    "c_int=df_train.select_dtypes(include=['int64']).apply(pd.to_numeric,downcast='unsigned')\n",
    "c_float=df_train.select_dtypes(include=['float']).apply(pd.to_numeric,downcast='float')"
   ]
  },
  {
   "cell_type": "code",
   "execution_count": 5,
   "metadata": {
    "ExecuteTime": {
     "end_time": "2018-08-16T05:41:54.618237Z",
     "start_time": "2018-08-16T05:41:18.695183Z"
    }
   },
   "outputs": [],
   "source": [
    "o_df=df_train\n",
    "o_df[c_int.columns]=c_int\n",
    "o_df[c_float.columns]=c_float"
   ]
  },
  {
   "cell_type": "code",
   "execution_count": 6,
   "metadata": {
    "ExecuteTime": {
     "end_time": "2018-08-16T05:41:54.625238Z",
     "start_time": "2018-08-16T05:41:54.619237Z"
    }
   },
   "outputs": [],
   "source": [
    "dtypes=o_df.dtypes.copy()\n",
    "dtypes_col=dtypes.index.copy()\n",
    "dtypes_type=[i.name for i in dtypes.values]\n",
    "column_type=dict(zip(dtypes_col,dtypes_type))"
   ]
  },
  {
   "cell_type": "code",
   "execution_count": 7,
   "metadata": {
    "ExecuteTime": {
     "end_time": "2018-08-16T05:41:54.811248Z",
     "start_time": "2018-08-16T05:41:54.627238Z"
    }
   },
   "outputs": [],
   "source": [
    "del o_df,df_train"
   ]
  },
  {
   "cell_type": "code",
   "execution_count": 8,
   "metadata": {
    "ExecuteTime": {
     "end_time": "2018-08-16T05:41:54.897253Z",
     "start_time": "2018-08-16T05:41:54.812248Z"
    }
   },
   "outputs": [
    {
     "data": {
      "text/plain": [
       "'object'"
      ]
     },
     "execution_count": 8,
     "metadata": {},
     "output_type": "execute_result"
    }
   ],
   "source": [
    "column_type.pop('register_time')"
   ]
  },
  {
   "cell_type": "code",
   "execution_count": 9,
   "metadata": {
    "ExecuteTime": {
     "end_time": "2018-08-16T05:42:15.739445Z",
     "start_time": "2018-08-16T05:41:54.898253Z"
    }
   },
   "outputs": [],
   "source": [
    "data_train=pd.read_csv('F:\\\\study\\\\ml\\\\DataSet\\\\Tap4fun\\\\tap_fun_train.csv',\n",
    "                      dtype=column_type,parse_dates=['register_time'],infer_datetime_format=True)"
   ]
  },
  {
   "cell_type": "code",
   "execution_count": 10,
   "metadata": {
    "ExecuteTime": {
     "end_time": "2018-08-16T05:42:15.745446Z",
     "start_time": "2018-08-16T05:42:15.741445Z"
    }
   },
   "outputs": [],
   "source": [
    "# del o_df ,df_train"
   ]
  },
  {
   "cell_type": "code",
   "execution_count": 11,
   "metadata": {
    "ExecuteTime": {
     "end_time": "2018-08-16T05:42:15.834451Z",
     "start_time": "2018-08-16T05:42:15.750446Z"
    }
   },
   "outputs": [
    {
     "name": "stdout",
     "output_type": "stream",
     "text": [
      "<class 'pandas.core.frame.DataFrame'>\n",
      "RangeIndex: 2288007 entries, 0 to 2288006\n",
      "Columns: 109 entries, user_id to prediction_pay_price\n",
      "dtypes: datetime64[ns](1), float32(13), uint16(8), uint32(21), uint8(66)\n",
      "memory usage: 493.1 MB\n"
     ]
    }
   ],
   "source": [
    "data_train.info(memory_usage='deep')"
   ]
  },
  {
   "cell_type": "code",
   "execution_count": 12,
   "metadata": {
    "ExecuteTime": {
     "end_time": "2018-08-16T05:42:15.914455Z",
     "start_time": "2018-08-16T05:42:15.835451Z"
    }
   },
   "outputs": [
    {
     "data": {
      "text/plain": [
       "{'avg_online_minutes': 'float32',\n",
       " 'bd_barrack_level': 'uint8',\n",
       " 'bd_dolmen_level': 'uint8',\n",
       " 'bd_guest_cavern_level': 'uint8',\n",
       " 'bd_hall_of_war_level': 'uint8',\n",
       " 'bd_healing_lodge_level': 'uint8',\n",
       " 'bd_healing_spring_level': 'uint8',\n",
       " 'bd_hero_gacha_level': 'uint8',\n",
       " 'bd_hero_pve_level': 'uint8',\n",
       " 'bd_hero_strengthen_level': 'uint8',\n",
       " 'bd_magic_coin_tree_level': 'uint8',\n",
       " 'bd_market_level': 'uint8',\n",
       " 'bd_outpost_portal_level': 'uint8',\n",
       " 'bd_stronghold_level': 'uint8',\n",
       " 'bd_training_hut_level': 'uint8',\n",
       " 'bd_warehouse_level': 'uint8',\n",
       " 'bd_watchtower_level': 'uint8',\n",
       " 'building_acceleration_add_value': 'uint32',\n",
       " 'building_acceleration_reduce_value': 'uint32',\n",
       " 'cavalry_add_value': 'uint32',\n",
       " 'cavalry_reduce_value': 'uint32',\n",
       " 'general_acceleration_add_value': 'uint32',\n",
       " 'general_acceleration_reduce_value': 'uint32',\n",
       " 'infantry_add_value': 'uint32',\n",
       " 'infantry_reduce_value': 'uint32',\n",
       " 'ivory_add_value': 'float32',\n",
       " 'ivory_reduce_value': 'float32',\n",
       " 'magic_add_value': 'float32',\n",
       " 'magic_reduce_value': 'float32',\n",
       " 'meat_add_value': 'float32',\n",
       " 'meat_reduce_value': 'float32',\n",
       " 'pay_count': 'uint8',\n",
       " 'pay_price': 'float32',\n",
       " 'prediction_pay_price': 'float32',\n",
       " 'pve_battle_count': 'uint16',\n",
       " 'pve_lanch_count': 'uint16',\n",
       " 'pve_win_count': 'uint16',\n",
       " 'pvp_battle_count': 'uint16',\n",
       " 'pvp_lanch_count': 'uint16',\n",
       " 'pvp_win_count': 'uint16',\n",
       " 'reaserch_acceleration_add_value': 'uint32',\n",
       " 'reaserch_acceleration_reduce_value': 'uint32',\n",
       " 'shaman_add_value': 'uint32',\n",
       " 'shaman_reduce_value': 'uint32',\n",
       " 'sr_alliance_march_speed_level': 'uint8',\n",
       " 'sr_cavalry_atk_level': 'uint8',\n",
       " 'sr_cavalry_def_level': 'uint8',\n",
       " 'sr_cavalry_hp_level': 'uint8',\n",
       " 'sr_cavalry_tier_2_level': 'uint8',\n",
       " 'sr_cavalry_tier_3_level': 'uint8',\n",
       " 'sr_cavalry_tier_4_level': 'uint8',\n",
       " 'sr_construction_speed_level': 'uint8',\n",
       " 'sr_gathering_hunter_buff_level': 'uint8',\n",
       " 'sr_gathering_march_speed_level': 'uint8',\n",
       " 'sr_guest_troop_capacity_level': 'uint8',\n",
       " 'sr_healing_space_level': 'uint8',\n",
       " 'sr_healing_speed_level': 'uint8',\n",
       " 'sr_hide_storage_level': 'uint8',\n",
       " 'sr_infantry_atk_level': 'uint8',\n",
       " 'sr_infantry_def_level': 'uint8',\n",
       " 'sr_infantry_hp_level': 'uint8',\n",
       " 'sr_infantry_tier_2_level': 'uint8',\n",
       " 'sr_infantry_tier_3_level': 'uint8',\n",
       " 'sr_infantry_tier_4_level': 'uint8',\n",
       " 'sr_march_size_level': 'uint8',\n",
       " 'sr_outpost_durability_level': 'uint8',\n",
       " 'sr_outpost_tier_2_level': 'uint8',\n",
       " 'sr_outpost_tier_3_level': 'uint8',\n",
       " 'sr_outpost_tier_4_level': 'uint8',\n",
       " 'sr_pvp_march_speed_level': 'uint8',\n",
       " 'sr_rss_a_gather_level': 'uint8',\n",
       " 'sr_rss_a_prod_levell': 'uint8',\n",
       " 'sr_rss_b_gather_level': 'uint8',\n",
       " 'sr_rss_b_prod_level': 'uint8',\n",
       " 'sr_rss_c_gather_level': 'uint8',\n",
       " 'sr_rss_c_prod_level': 'uint8',\n",
       " 'sr_rss_d_gather_level': 'uint8',\n",
       " 'sr_rss_d_prod_level': 'uint8',\n",
       " 'sr_rss_e_gather_level': 'uint8',\n",
       " 'sr_rss_e_prod_level': 'uint8',\n",
       " 'sr_rss_help_bonus_level': 'uint8',\n",
       " 'sr_scout_level': 'uint8',\n",
       " 'sr_shaman_atk_level': 'uint8',\n",
       " 'sr_shaman_def_level': 'uint8',\n",
       " 'sr_shaman_hp_level': 'uint8',\n",
       " 'sr_shaman_tier_2_level': 'uint8',\n",
       " 'sr_shaman_tier_3_level': 'uint8',\n",
       " 'sr_shaman_tier_4_level': 'uint8',\n",
       " 'sr_training_speed_level': 'uint8',\n",
       " 'sr_troop_attack_level': 'uint8',\n",
       " 'sr_troop_consumption_level': 'uint8',\n",
       " 'sr_troop_defense_level': 'uint8',\n",
       " 'sr_troop_load_level': 'uint8',\n",
       " 'stone_add_value': 'float32',\n",
       " 'stone_reduce_value': 'float32',\n",
       " 'training_acceleration_add_value': 'uint32',\n",
       " 'training_acceleration_reduce_value': 'uint32',\n",
       " 'treatment_acceleraion_add_value': 'uint16',\n",
       " 'treatment_acceleration_reduce_value': 'uint16',\n",
       " 'user_id': 'uint32',\n",
       " 'wood_add_value': 'float32',\n",
       " 'wood_reduce_value': 'float32',\n",
       " 'wound_cavalry_add_value': 'uint32',\n",
       " 'wound_cavalry_reduce_value': 'uint32',\n",
       " 'wound_infantry_add_value': 'uint32',\n",
       " 'wound_infantry_reduce_value': 'uint32',\n",
       " 'wound_shaman_add_value': 'uint32',\n",
       " 'wound_shaman_reduce_value': 'uint32'}"
      ]
     },
     "execution_count": 12,
     "metadata": {},
     "output_type": "execute_result"
    }
   ],
   "source": [
    "column_type"
   ]
  },
  {
   "cell_type": "code",
   "execution_count": 13,
   "metadata": {
    "ExecuteTime": {
     "end_time": "2018-08-16T05:42:16.147469Z",
     "start_time": "2018-08-16T05:42:15.916455Z"
    }
   },
   "outputs": [],
   "source": [
    "train_feat2=data_train.copy()"
   ]
  },
  {
   "cell_type": "code",
   "execution_count": 14,
   "metadata": {
    "ExecuteTime": {
     "end_time": "2018-08-16T05:42:16.196472Z",
     "start_time": "2018-08-16T05:42:16.148469Z"
    }
   },
   "outputs": [],
   "source": [
    "del data_train"
   ]
  },
  {
   "cell_type": "code",
   "execution_count": 15,
   "metadata": {
    "ExecuteTime": {
     "end_time": "2018-08-16T05:42:16.279476Z",
     "start_time": "2018-08-16T05:42:16.199472Z"
    }
   },
   "outputs": [
    {
     "data": {
      "text/plain": [
       "(2288007, 109)"
      ]
     },
     "execution_count": 15,
     "metadata": {},
     "output_type": "execute_result"
    }
   ],
   "source": [
    "train_feat2.shape"
   ]
  },
  {
   "cell_type": "code",
   "execution_count": 16,
   "metadata": {
    "ExecuteTime": {
     "end_time": "2018-08-16T05:42:16.691500Z",
     "start_time": "2018-08-16T05:42:16.280476Z"
    }
   },
   "outputs": [],
   "source": [
    "train_feat2['ivory_qua1']=train_feat2.ivory_add_value+train_feat2.ivory_reduce_value\n",
    "train_feat2['ivory_qua2']=train_feat2.ivory_add_value-train_feat2.ivory_reduce_value\n",
    "train_feat2['stone_qua1']=train_feat2.stone_add_value+train_feat2.stone_reduce_value\n",
    "train_feat2['stone_qua2']=train_feat2.stone_add_value-train_feat2.stone_reduce_value\n",
    "train_feat2['meat_qua1']=train_feat2.meat_add_value+train_feat2.meat_reduce_value\n",
    "train_feat2['meat_qua2']=train_feat2.meat_add_value-train_feat2.meat_reduce_value\n",
    "train_feat2['wood_qua1']=train_feat2.wood_add_value+train_feat2.wood_reduce_value\n",
    "train_feat2['wood_qua2']=train_feat2.wood_add_value-train_feat2.wood_reduce_value"
   ]
  },
  {
   "cell_type": "code",
   "execution_count": 17,
   "metadata": {
    "ExecuteTime": {
     "end_time": "2018-08-16T05:42:16.710501Z",
     "start_time": "2018-08-16T05:42:16.694500Z"
    }
   },
   "outputs": [],
   "source": [
    "text_def=[]\n",
    "for col in train_feat2.columns.values:\n",
    "     if 'def' in col:\n",
    "            text_def.append(col)\n",
    "text_def=[]\n",
    "for col in train_feat2.columns.values:\n",
    "     if 'def' in col:\n",
    "            text_def.append(col)\n",
    "text_troop=[]\n",
    "for col in train_feat2.columns.values:\n",
    "    if 'troop' in col :\n",
    "        text_troop.append(col)\n",
    "text_cavalry=[]\n",
    "for col in train_feat2.columns.values:\n",
    "    if 'sr_cavalry' in col :\n",
    "        text_cavalry.append(col) \n",
    "text_infantry=[]\n",
    "for col in train_feat2.columns.values:\n",
    "    if 'sr_infantry' in col :\n",
    "        text_infantry.append(col)        "
   ]
  },
  {
   "cell_type": "code",
   "execution_count": 18,
   "metadata": {
    "ExecuteTime": {
     "end_time": "2018-08-16T05:42:17.615553Z",
     "start_time": "2018-08-16T05:42:16.711501Z"
    }
   },
   "outputs": [],
   "source": [
    "text_shaman=[]\n",
    "for col in train_feat2.columns.values:\n",
    "    if 'sr_shaman' in col :\n",
    "        text_shaman.append(col)\n",
    "text_speed=[]\n",
    "for col in train_feat2.columns.values:\n",
    "    if 'speed' in col :\n",
    "        text_speed.append(col)\n",
    "train_feat2['def_qua1']=0.0\n",
    "for name in text_def:\n",
    "    train_feat2['def_qua1']+=train_feat2[name]\n",
    "train_feat2['cavalry_qua1']=0.0\n",
    "for name in text_cavalry:\n",
    "    train_feat2['cavalry_qua1']+=train_feat2[name]\n",
    "train_feat2['infantry_qua1']=0.0\n",
    "for name in text_infantry:\n",
    "    train_feat2['infantry_qua1']+=train_feat2[name] \n",
    "train_feat2['shaman_qua1']=0.0\n",
    "for name in text_shaman:\n",
    "    train_feat2['shaman_qua1']+=train_feat2[name]\n",
    "train_feat2['speed_qua1']=0.0\n",
    "for name in text_speed:\n",
    "    train_feat2['speed_qua1']+=train_feat2[name]\n",
    "train_feat2['troop_qua1']=0.0\n",
    "for name in text_troop:\n",
    "    train_feat2['troop_qua1']+=train_feat2[name]\n"
   ]
  },
  {
   "cell_type": "code",
   "execution_count": 19,
   "metadata": {
    "ExecuteTime": {
     "end_time": "2018-08-16T05:42:17.862567Z",
     "start_time": "2018-08-16T05:42:17.617553Z"
    }
   },
   "outputs": [],
   "source": [
    "text_acceleration=[]\n",
    "for col in train_feat2.columns.values:\n",
    "    if 'acceleration' in col :\n",
    "        text_acceleration.append(col)\n",
    "text_acceleration_add=[]\n",
    "for col in train_feat2.columns.values:\n",
    "    if 'acceleration_add' in col :\n",
    "        text_speed.append(col)\n",
    "text_acceleration_reduce=[]\n",
    "for col in train_feat2.columns.values:\n",
    "    if 'acceleration_reduce' in col :\n",
    "        text_speed.append(col) \n",
    "        \n",
    "train_feat2['acceleration_qua1']=0.0\n",
    "for name in text_acceleration:\n",
    "    train_feat2['acceleration_qua1']+=train_feat2[name]\n",
    "train_feat2['acceleration_add_qua1']=0.0\n",
    "for name in text_acceleration_add:\n",
    "    train_feat2['acceleration_add_qua1']+=train_feat2[name]\n",
    "train_feat2['acceleration_reduce']=0.0\n",
    "for name in text_acceleration_reduce:\n",
    "    train_feat2['acceleration_reduce_qua1']+=train_feat2[name]    \n",
    "        "
   ]
  },
  {
   "cell_type": "code",
   "execution_count": 20,
   "metadata": {
    "ExecuteTime": {
     "end_time": "2018-08-16T05:42:17.866567Z",
     "start_time": "2018-08-16T05:42:17.864567Z"
    }
   },
   "outputs": [],
   "source": [
    "# train_feat2['price_per_count_qua1']=train_feat2.pay_price / train_feat2.pay_count"
   ]
  },
  {
   "cell_type": "code",
   "execution_count": 21,
   "metadata": {
    "ExecuteTime": {
     "end_time": "2018-08-16T05:42:18.346594Z",
     "start_time": "2018-08-16T05:42:17.869567Z"
    }
   },
   "outputs": [],
   "source": [
    "train_feat2['feat_class']=0\n",
    "train_feat2.loc[(train_feat2['pay_price']==0) & (train_feat2['prediction_pay_price']==0),['feat_class']]=0"
   ]
  },
  {
   "cell_type": "code",
   "execution_count": 22,
   "metadata": {
    "ExecuteTime": {
     "end_time": "2018-08-16T05:42:18.433599Z",
     "start_time": "2018-08-16T05:42:18.348595Z"
    }
   },
   "outputs": [],
   "source": [
    "train_feat2.loc[(train_feat2['pay_price']>0) & \\\n",
    "                (train_feat2['prediction_pay_price']==train_feat2['pay_price']),['feat_class']]=1"
   ]
  },
  {
   "cell_type": "code",
   "execution_count": 23,
   "metadata": {
    "ExecuteTime": {
     "end_time": "2018-08-16T05:42:18.514604Z",
     "start_time": "2018-08-16T05:42:18.434600Z"
    }
   },
   "outputs": [],
   "source": [
    "train_feat2.loc[(train_feat2['pay_price']==0) & (train_feat2['prediction_pay_price']>0),['feat_class']]=2"
   ]
  },
  {
   "cell_type": "code",
   "execution_count": 24,
   "metadata": {
    "ExecuteTime": {
     "end_time": "2018-08-16T05:42:18.625610Z",
     "start_time": "2018-08-16T05:42:18.516604Z"
    }
   },
   "outputs": [],
   "source": [
    "train_feat2.loc[(train_feat2['pay_price']>0) & \\\n",
    "                (train_feat2['prediction_pay_price']>train_feat2['pay_price']),['feat_class']]=3"
   ]
  },
  {
   "cell_type": "code",
   "execution_count": 25,
   "metadata": {
    "ExecuteTime": {
     "end_time": "2018-08-16T05:42:18.794620Z",
     "start_time": "2018-08-16T05:42:18.626611Z"
    }
   },
   "outputs": [
    {
     "data": {
      "text/html": [
       "<div>\n",
       "<style scoped>\n",
       "    .dataframe tbody tr th:only-of-type {\n",
       "        vertical-align: middle;\n",
       "    }\n",
       "\n",
       "    .dataframe tbody tr th {\n",
       "        vertical-align: top;\n",
       "    }\n",
       "\n",
       "    .dataframe thead th {\n",
       "        text-align: right;\n",
       "    }\n",
       "</style>\n",
       "<table border=\"1\" class=\"dataframe\">\n",
       "  <thead>\n",
       "    <tr style=\"text-align: right;\">\n",
       "      <th></th>\n",
       "      <th>pay_price</th>\n",
       "    </tr>\n",
       "    <tr>\n",
       "      <th>feat_class</th>\n",
       "      <th></th>\n",
       "    </tr>\n",
       "  </thead>\n",
       "  <tbody>\n",
       "    <tr>\n",
       "      <th>0</th>\n",
       "      <td>2242019</td>\n",
       "    </tr>\n",
       "    <tr>\n",
       "      <th>1</th>\n",
       "      <td>30130</td>\n",
       "    </tr>\n",
       "    <tr>\n",
       "      <th>2</th>\n",
       "      <td>4549</td>\n",
       "    </tr>\n",
       "    <tr>\n",
       "      <th>3</th>\n",
       "      <td>11309</td>\n",
       "    </tr>\n",
       "  </tbody>\n",
       "</table>\n",
       "</div>"
      ],
      "text/plain": [
       "            pay_price\n",
       "feat_class           \n",
       "0             2242019\n",
       "1               30130\n",
       "2                4549\n",
       "3               11309"
      ]
     },
     "execution_count": 25,
     "metadata": {},
     "output_type": "execute_result"
    }
   ],
   "source": [
    "train_feat2[['feat_class','pay_price']].groupby(by='feat_class').agg('count')"
   ]
  },
  {
   "cell_type": "code",
   "execution_count": null,
   "metadata": {},
   "outputs": [],
   "source": []
  },
  {
   "cell_type": "code",
   "execution_count": 26,
   "metadata": {
    "ExecuteTime": {
     "end_time": "2018-08-16T05:42:23.045863Z",
     "start_time": "2018-08-16T05:42:18.795620Z"
    }
   },
   "outputs": [
    {
     "name": "stderr",
     "output_type": "stream",
     "text": [
      "D:\\ProgramData\\Anaconda3\\lib\\site-packages\\sklearn\\cross_validation.py:41: DeprecationWarning: This module was deprecated in version 0.18 in favor of the model_selection module into which all the refactored classes and functions are moved. Also note that the interface of the new CV iterators are different from that of this module. This module will be removed in 0.20.\n",
      "  \"This module will be removed in 0.20.\", DeprecationWarning)\n",
      "D:\\ProgramData\\Anaconda3\\lib\\site-packages\\sklearn\\grid_search.py:42: DeprecationWarning: This module was deprecated in version 0.18 in favor of the model_selection module into which all the refactored classes and functions are moved. This module will be removed in 0.20.\n",
      "  DeprecationWarning)\n"
     ]
    }
   ],
   "source": [
    "import lightgbm as lgb\n",
    "from sklearn.metrics import classification_report,accuracy_score,confusion_matrix\n",
    "from sklearn.cross_validation import cross_val_score,train_test_split,StratifiedKFold\n",
    "from sklearn.grid_search import GridSearchCV"
   ]
  },
  {
   "cell_type": "code",
   "execution_count": 27,
   "metadata": {
    "ExecuteTime": {
     "end_time": "2018-08-16T05:42:23.051864Z",
     "start_time": "2018-08-16T05:42:23.047863Z"
    }
   },
   "outputs": [],
   "source": [
    "# data_x=train_feat2.drop(labels=['user_id','register_time','prediction_pay_price','feat_class'],axis=1)\n",
    "# data_y=train_feat2.feat_class\n",
    "\n",
    "\n",
    "\n",
    "# X_train,X_test,y_train,y_test=train_test_split(data_x,data_y,random_state=17)\n",
    "\n",
    "# estimator = lgb.LGBMClassifier(\n",
    "#         boosting_type='gbdt', objective=\"multiclass\", nthread=4, seed=42,n_classes=4)\n",
    "\n",
    "# params = {\n",
    "#         #\"reg_alpha\": [0.3, 0.7, 0.9, 1.1],\n",
    "#         \"learning_rate\": [0.01, 0.1],\n",
    "# }\n",
    "\n",
    "# grid_search=GridSearchCV(estimator,params,scoring='accuracy',verbose=50,cv=StratifiedKFold(y_train,n_folds=5))\n",
    "# grid_search.fit(X_train,y_train)"
   ]
  },
  {
   "cell_type": "code",
   "execution_count": 28,
   "metadata": {
    "ExecuteTime": {
     "end_time": "2018-08-16T05:42:23.204872Z",
     "start_time": "2018-08-16T05:42:23.053864Z"
    }
   },
   "outputs": [],
   "source": [
    "# predictions=grid_search.predict(X_test)\n",
    "# print (u'准确率',accuracy_score(y_test,predictions))\n",
    "# print (u'混淆矩阵',confusion_matrix(y_test,predictions))\n",
    "# print (u'分类报告',classification_report(y_test,predictions))"
   ]
  },
  {
   "cell_type": "code",
   "execution_count": 29,
   "metadata": {
    "ExecuteTime": {
     "end_time": "2018-08-16T05:42:24.864967Z",
     "start_time": "2018-08-16T05:42:23.206872Z"
    }
   },
   "outputs": [
    {
     "name": "stdout",
     "output_type": "stream",
     "text": [
      "Using matplotlib backend: TkAgg\n"
     ]
    }
   ],
   "source": [
    "from matplotlib import pyplot as plt\n",
    "plt.style.use(style='ggplot')\n",
    "plt.rcParams['figure.figsize']=(20,10)\n",
    "%matplotlib"
   ]
  },
  {
   "cell_type": "code",
   "execution_count": 30,
   "metadata": {
    "ExecuteTime": {
     "end_time": "2018-08-16T05:42:25.665013Z",
     "start_time": "2018-08-16T05:42:24.865967Z"
    }
   },
   "outputs": [],
   "source": [
    "data_7nopay=train_feat2[(train_feat2['feat_class']==0) | (train_feat2['feat_class']==2)]"
   ]
  },
  {
   "cell_type": "code",
   "execution_count": 31,
   "metadata": {
    "ExecuteTime": {
     "end_time": "2018-08-16T05:42:25.872025Z",
     "start_time": "2018-08-16T05:42:25.668013Z"
    }
   },
   "outputs": [
    {
     "name": "stderr",
     "output_type": "stream",
     "text": [
      "D:\\ProgramData\\Anaconda3\\lib\\site-packages\\pandas\\core\\indexing.py:543: SettingWithCopyWarning: \n",
      "A value is trying to be set on a copy of a slice from a DataFrame.\n",
      "Try using .loc[row_indexer,col_indexer] = value instead\n",
      "\n",
      "See the caveats in the documentation: http://pandas.pydata.org/pandas-docs/stable/indexing.html#indexing-view-versus-copy\n",
      "  self.obj[item] = s\n"
     ]
    }
   ],
   "source": [
    "data_7nopay.loc[(data_7nopay['feat_class']==2),['feat_class']]=1"
   ]
  },
  {
   "cell_type": "code",
   "execution_count": 32,
   "metadata": {
    "ExecuteTime": {
     "end_time": "2018-08-16T05:42:26.456058Z",
     "start_time": "2018-08-16T05:42:25.874025Z"
    }
   },
   "outputs": [],
   "source": [
    "data_7nopay_x=data_7nopay.drop(labels=['user_id','register_time','prediction_pay_price','feat_class'],axis=1)\n",
    "data_7nopay_y=data_7nopay.feat_class"
   ]
  },
  {
   "cell_type": "code",
   "execution_count": 33,
   "metadata": {
    "ExecuteTime": {
     "end_time": "2018-08-16T05:42:27.712130Z",
     "start_time": "2018-08-16T05:42:26.457058Z"
    }
   },
   "outputs": [
    {
     "data": {
      "text/html": [
       "<div>\n",
       "<style scoped>\n",
       "    .dataframe tbody tr th:only-of-type {\n",
       "        vertical-align: middle;\n",
       "    }\n",
       "\n",
       "    .dataframe tbody tr th {\n",
       "        vertical-align: top;\n",
       "    }\n",
       "\n",
       "    .dataframe thead th {\n",
       "        text-align: right;\n",
       "    }\n",
       "</style>\n",
       "<table border=\"1\" class=\"dataframe\">\n",
       "  <thead>\n",
       "    <tr style=\"text-align: right;\">\n",
       "      <th></th>\n",
       "      <th>pay_price</th>\n",
       "      <th>prediction_pay_price</th>\n",
       "      <th>avg_online_minutes</th>\n",
       "    </tr>\n",
       "  </thead>\n",
       "  <tbody>\n",
       "    <tr>\n",
       "      <th>count</th>\n",
       "      <td>2242019.0</td>\n",
       "      <td>2242019.0</td>\n",
       "      <td>2.242019e+06</td>\n",
       "    </tr>\n",
       "    <tr>\n",
       "      <th>mean</th>\n",
       "      <td>0.0</td>\n",
       "      <td>0.0</td>\n",
       "      <td>7.573942e+00</td>\n",
       "    </tr>\n",
       "    <tr>\n",
       "      <th>std</th>\n",
       "      <td>0.0</td>\n",
       "      <td>0.0</td>\n",
       "      <td>2.734151e+01</td>\n",
       "    </tr>\n",
       "    <tr>\n",
       "      <th>min</th>\n",
       "      <td>0.0</td>\n",
       "      <td>0.0</td>\n",
       "      <td>0.000000e+00</td>\n",
       "    </tr>\n",
       "    <tr>\n",
       "      <th>50%</th>\n",
       "      <td>0.0</td>\n",
       "      <td>0.0</td>\n",
       "      <td>1.833333e+00</td>\n",
       "    </tr>\n",
       "    <tr>\n",
       "      <th>80%</th>\n",
       "      <td>0.0</td>\n",
       "      <td>0.0</td>\n",
       "      <td>6.166667e+00</td>\n",
       "    </tr>\n",
       "    <tr>\n",
       "      <th>90%</th>\n",
       "      <td>0.0</td>\n",
       "      <td>0.0</td>\n",
       "      <td>1.250000e+01</td>\n",
       "    </tr>\n",
       "    <tr>\n",
       "      <th>95%</th>\n",
       "      <td>0.0</td>\n",
       "      <td>0.0</td>\n",
       "      <td>2.850000e+01</td>\n",
       "    </tr>\n",
       "    <tr>\n",
       "      <th>98%</th>\n",
       "      <td>0.0</td>\n",
       "      <td>0.0</td>\n",
       "      <td>7.383334e+01</td>\n",
       "    </tr>\n",
       "    <tr>\n",
       "      <th>max</th>\n",
       "      <td>0.0</td>\n",
       "      <td>0.0</td>\n",
       "      <td>2.049667e+03</td>\n",
       "    </tr>\n",
       "  </tbody>\n",
       "</table>\n",
       "</div>"
      ],
      "text/plain": [
       "       pay_price  prediction_pay_price  avg_online_minutes\n",
       "count  2242019.0             2242019.0        2.242019e+06\n",
       "mean         0.0                   0.0        7.573942e+00\n",
       "std          0.0                   0.0        2.734151e+01\n",
       "min          0.0                   0.0        0.000000e+00\n",
       "50%          0.0                   0.0        1.833333e+00\n",
       "80%          0.0                   0.0        6.166667e+00\n",
       "90%          0.0                   0.0        1.250000e+01\n",
       "95%          0.0                   0.0        2.850000e+01\n",
       "98%          0.0                   0.0        7.383334e+01\n",
       "max          0.0                   0.0        2.049667e+03"
      ]
     },
     "execution_count": 33,
     "metadata": {},
     "output_type": "execute_result"
    }
   ],
   "source": [
    "data_7nopay[(data_7nopay['pay_price']==0) & (data_7nopay['prediction_pay_price']==0)] \\\n",
    "[['pay_price','prediction_pay_price','avg_online_minutes']] .describe(percentiles=[0.8,0.9,0.95,0.98])"
   ]
  },
  {
   "cell_type": "code",
   "execution_count": 34,
   "metadata": {
    "ExecuteTime": {
     "end_time": "2018-08-16T05:42:27.752132Z",
     "start_time": "2018-08-16T05:42:27.713130Z"
    }
   },
   "outputs": [
    {
     "data": {
      "text/html": [
       "<div>\n",
       "<style scoped>\n",
       "    .dataframe tbody tr th:only-of-type {\n",
       "        vertical-align: middle;\n",
       "    }\n",
       "\n",
       "    .dataframe tbody tr th {\n",
       "        vertical-align: top;\n",
       "    }\n",
       "\n",
       "    .dataframe thead th {\n",
       "        text-align: right;\n",
       "    }\n",
       "</style>\n",
       "<table border=\"1\" class=\"dataframe\">\n",
       "  <thead>\n",
       "    <tr style=\"text-align: right;\">\n",
       "      <th></th>\n",
       "      <th>pay_price</th>\n",
       "      <th>prediction_pay_price</th>\n",
       "      <th>avg_online_minutes</th>\n",
       "    </tr>\n",
       "  </thead>\n",
       "  <tbody>\n",
       "    <tr>\n",
       "      <th>count</th>\n",
       "      <td>4549.0</td>\n",
       "      <td>4549.000000</td>\n",
       "      <td>4549.000000</td>\n",
       "    </tr>\n",
       "    <tr>\n",
       "      <th>mean</th>\n",
       "      <td>0.0</td>\n",
       "      <td>40.842228</td>\n",
       "      <td>115.475998</td>\n",
       "    </tr>\n",
       "    <tr>\n",
       "      <th>std</th>\n",
       "      <td>0.0</td>\n",
       "      <td>238.763504</td>\n",
       "      <td>128.285599</td>\n",
       "    </tr>\n",
       "    <tr>\n",
       "      <th>min</th>\n",
       "      <td>0.0</td>\n",
       "      <td>0.990000</td>\n",
       "      <td>0.000000</td>\n",
       "    </tr>\n",
       "    <tr>\n",
       "      <th>25%</th>\n",
       "      <td>0.0</td>\n",
       "      <td>0.990000</td>\n",
       "      <td>22.833332</td>\n",
       "    </tr>\n",
       "    <tr>\n",
       "      <th>50%</th>\n",
       "      <td>0.0</td>\n",
       "      <td>5.980000</td>\n",
       "      <td>77.500000</td>\n",
       "    </tr>\n",
       "    <tr>\n",
       "      <th>75%</th>\n",
       "      <td>0.0</td>\n",
       "      <td>19.950001</td>\n",
       "      <td>159.166672</td>\n",
       "    </tr>\n",
       "    <tr>\n",
       "      <th>max</th>\n",
       "      <td>0.0</td>\n",
       "      <td>6752.970215</td>\n",
       "      <td>1098.833374</td>\n",
       "    </tr>\n",
       "  </tbody>\n",
       "</table>\n",
       "</div>"
      ],
      "text/plain": [
       "       pay_price  prediction_pay_price  avg_online_minutes\n",
       "count     4549.0           4549.000000         4549.000000\n",
       "mean         0.0             40.842228          115.475998\n",
       "std          0.0            238.763504          128.285599\n",
       "min          0.0              0.990000            0.000000\n",
       "25%          0.0              0.990000           22.833332\n",
       "50%          0.0              5.980000           77.500000\n",
       "75%          0.0             19.950001          159.166672\n",
       "max          0.0           6752.970215         1098.833374"
      ]
     },
     "execution_count": 34,
     "metadata": {},
     "output_type": "execute_result"
    }
   ],
   "source": [
    "data_7nopay[(data_7nopay['pay_price']==0) & (data_7nopay['prediction_pay_price']>0)] \\\n",
    "[['pay_price','prediction_pay_price','avg_online_minutes',]].describe()"
   ]
  },
  {
   "cell_type": "code",
   "execution_count": 35,
   "metadata": {
    "ExecuteTime": {
     "end_time": "2018-08-16T05:42:27.872139Z",
     "start_time": "2018-08-16T05:42:27.753133Z"
    }
   },
   "outputs": [],
   "source": [
    "#data_7nopay_y"
   ]
  },
  {
   "cell_type": "code",
   "execution_count": 36,
   "metadata": {
    "ExecuteTime": {
     "end_time": "2018-08-16T05:42:27.957144Z",
     "start_time": "2018-08-16T05:42:27.873139Z"
    }
   },
   "outputs": [
    {
     "data": {
      "text/plain": [
       "(2246568, 123)"
      ]
     },
     "execution_count": 36,
     "metadata": {},
     "output_type": "execute_result"
    }
   ],
   "source": [
    "data_7nopay_x.shape"
   ]
  },
  {
   "cell_type": "code",
   "execution_count": 37,
   "metadata": {
    "ExecuteTime": {
     "end_time": "2018-08-16T05:42:28.046149Z",
     "start_time": "2018-08-16T05:42:27.958144Z"
    }
   },
   "outputs": [
    {
     "data": {
      "text/plain": [
       "array([0, 1], dtype=int64)"
      ]
     },
     "execution_count": 37,
     "metadata": {},
     "output_type": "execute_result"
    }
   ],
   "source": [
    "data_7nopay_y.unique()"
   ]
  },
  {
   "cell_type": "code",
   "execution_count": 38,
   "metadata": {
    "ExecuteTime": {
     "end_time": "2018-08-16T05:42:30.780306Z",
     "start_time": "2018-08-16T05:42:28.047149Z"
    }
   },
   "outputs": [],
   "source": [
    "X_train,X_test,y_train,y_test=train_test_split(data_7nopay_x,data_7nopay_y,random_state=17,test_size=0.2)"
   ]
  },
  {
   "cell_type": "code",
   "execution_count": 39,
   "metadata": {
    "ExecuteTime": {
     "end_time": "2018-08-16T05:42:30.786306Z",
     "start_time": "2018-08-16T05:42:30.781306Z"
    }
   },
   "outputs": [
    {
     "data": {
      "text/plain": [
       "(1797254, 123)"
      ]
     },
     "execution_count": 39,
     "metadata": {},
     "output_type": "execute_result"
    }
   ],
   "source": [
    "X_train.shape"
   ]
  },
  {
   "cell_type": "code",
   "execution_count": null,
   "metadata": {
    "ExecuteTime": {
     "end_time": "2018-08-16T02:51:17.415148Z",
     "start_time": "2018-08-16T02:51:17.409148Z"
    }
   },
   "outputs": [],
   "source": []
  },
  {
   "cell_type": "code",
   "execution_count": 40,
   "metadata": {
    "ExecuteTime": {
     "end_time": "2018-08-16T05:42:30.873311Z",
     "start_time": "2018-08-16T05:42:30.788306Z"
    }
   },
   "outputs": [],
   "source": [
    "#####Random forest 1"
   ]
  },
  {
   "cell_type": "code",
   "execution_count": 41,
   "metadata": {
    "ExecuteTime": {
     "end_time": "2018-08-16T05:42:30.948315Z",
     "start_time": "2018-08-16T05:42:30.874311Z"
    }
   },
   "outputs": [],
   "source": [
    "# from hyperopt import hp, fmin, rand, tpe, space_eval\n",
    "# from sklearn.ensemble import RandomForestClassifier\n",
    "# from sklearn.metrics import make_scorer\n",
    "# def objective(params):\n",
    "#     params = {'n_estimators': int(params['n_estimators']), 'max_depth': int(params['max_depth'])}\n",
    "#     clf = RandomForestClassifier(n_jobs=4, class_weight='balanced', **params)\n",
    "#     score = -(cross_val_score(clf, X_train, y=y_train, scoring='f1', cv=StratifiedKFold(y=y_train)).mean())\n",
    "                        \n",
    "#     print(\"F1 {:.3f} params {}\".format(score, params))\n",
    "#     return score\n",
    "\n",
    "# space = {\n",
    "#     'n_estimators': hp.quniform('n_estimators', 50, 500, 50),\n",
    "#     'max_depth': hp.quniform('max_depth', 1, 10, 1),\n",
    "# }\n",
    "\n",
    "# best = fmin(fn=objective,\n",
    "#             space=space,\n",
    "#             algo=tpe.suggest,\n",
    "#             max_evals=10)"
   ]
  },
  {
   "cell_type": "code",
   "execution_count": null,
   "metadata": {
    "ExecuteTime": {
     "start_time": "2018-08-16T02:54:01.989Z"
    }
   },
   "outputs": [],
   "source": []
  },
  {
   "cell_type": "code",
   "execution_count": 42,
   "metadata": {
    "ExecuteTime": {
     "end_time": "2018-08-16T05:42:31.039320Z",
     "start_time": "2018-08-16T05:42:30.950315Z"
    }
   },
   "outputs": [],
   "source": [
    "############## lgb 1"
   ]
  },
  {
   "cell_type": "code",
   "execution_count": 43,
   "metadata": {
    "ExecuteTime": {
     "end_time": "2018-08-16T05:42:31.106324Z",
     "start_time": "2018-08-16T05:42:31.040321Z"
    }
   },
   "outputs": [],
   "source": [
    "# params={\n",
    "#     'boosting_type':'gbdt',\n",
    "#     'objective':'binary',\n",
    "#     #'metric':'rmse',\n",
    "#     #'min_child_weigth':3,\n",
    "#     #'num_leaves':2**5,\n",
    "#     #'lambda_l2':10,\n",
    "#     #'subsample':0.7,\n",
    "#     #'colsample_bytree':0.7,\n",
    "#     #'colsample_bylevel':0.7,\n",
    "#     'learning_rate':0.05,\n",
    "#     'tree_method':'exact',\n",
    "#     'seed':2017,\n",
    "#     'nthread':4,\n",
    "#     'silent':True\n",
    "# }\n",
    "# train=lgb.Dataset(X_train,y_train)\n",
    "# test=lgb.Dataset(X_test,label=y_test,reference=train)\n",
    "\n",
    "# n=1000\n",
    "# gbm=lgb.train(params=params,\n",
    "#              train_set=train,\n",
    "#              num_boost_round=n,\n",
    "#              verbose_eval=50,\n",
    "#              #early_stopping_rounds=50,\n",
    "#              valid_sets=[train,test])"
   ]
  },
  {
   "cell_type": "code",
   "execution_count": 44,
   "metadata": {
    "ExecuteTime": {
     "end_time": "2018-08-16T05:42:31.181329Z",
     "start_time": "2018-08-16T05:42:31.107324Z"
    }
   },
   "outputs": [],
   "source": [
    "######## lgb2"
   ]
  },
  {
   "cell_type": "code",
   "execution_count": 55,
   "metadata": {
    "ExecuteTime": {
     "end_time": "2018-08-16T05:50:10.383799Z",
     "start_time": "2018-08-16T05:50:10.374798Z"
    }
   },
   "outputs": [],
   "source": [
    "X=np.array(data_7nopay_x['avg_online_minutes']).reshape(-1,1)\n",
    "y=data_7nopay.feat_class"
   ]
  },
  {
   "cell_type": "code",
   "execution_count": 62,
   "metadata": {
    "ExecuteTime": {
     "end_time": "2018-08-16T05:59:45.509271Z",
     "start_time": "2018-08-16T05:59:45.335261Z"
    }
   },
   "outputs": [],
   "source": [
    "aa=pd.DataFrame()\n",
    "aa['avg_online_minutes']=data_7nopay_x['avg_online_minutes']\n",
    "aa['feat_class']=y"
   ]
  },
  {
   "cell_type": "code",
   "execution_count": 66,
   "metadata": {
    "ExecuteTime": {
     "end_time": "2018-08-16T06:00:40.352853Z",
     "start_time": "2018-08-16T06:00:40.326852Z"
    }
   },
   "outputs": [
    {
     "data": {
      "text/plain": [
       "(4549, 2)"
      ]
     },
     "execution_count": 66,
     "metadata": {},
     "output_type": "execute_result"
    }
   ],
   "source": [
    "aa[aa['feat_class']==1].shape"
   ]
  },
  {
   "cell_type": "code",
   "execution_count": 67,
   "metadata": {
    "ExecuteTime": {
     "end_time": "2018-08-16T06:00:51.525905Z",
     "start_time": "2018-08-16T06:00:51.459901Z"
    }
   },
   "outputs": [
    {
     "data": {
      "text/plain": [
       "(2242019, 2)"
      ]
     },
     "execution_count": 67,
     "metadata": {},
     "output_type": "execute_result"
    }
   ],
   "source": [
    "aa[aa['feat_class']==0].shape"
   ]
  },
  {
   "cell_type": "code",
   "execution_count": 76,
   "metadata": {
    "ExecuteTime": {
     "end_time": "2018-08-16T06:04:40.590804Z",
     "start_time": "2018-08-16T06:04:40.559203Z"
    }
   },
   "outputs": [
    {
     "data": {
      "text/plain": [
       "(84635, 2)"
      ]
     },
     "execution_count": 76,
     "metadata": {},
     "output_type": "execute_result"
    }
   ],
   "source": [
    "aa[(aa['avg_online_minutes']>40) & (aa['feat_class']==0)].shape"
   ]
  },
  {
   "cell_type": "code",
   "execution_count": 58,
   "metadata": {
    "ExecuteTime": {
     "end_time": "2018-08-16T05:50:31.264461Z",
     "start_time": "2018-08-16T05:50:31.043448Z"
    }
   },
   "outputs": [],
   "source": [
    "X_train,X_test,y_train,y_test=train_test_split(X,y,random_state=17,test_size=0.2)"
   ]
  },
  {
   "cell_type": "code",
   "execution_count": null,
   "metadata": {},
   "outputs": [],
   "source": [
    "aa="
   ]
  },
  {
   "cell_type": "code",
   "execution_count": 59,
   "metadata": {
    "ExecuteTime": {
     "end_time": "2018-08-16T05:51:11.231699Z",
     "start_time": "2018-08-16T05:50:32.729497Z"
    }
   },
   "outputs": [
    {
     "name": "stderr",
     "output_type": "stream",
     "text": [
      "D:\\ProgramData\\Anaconda3\\lib\\site-packages\\lightgbm\\engine.py:102: UserWarning: Found `num_boost_round` in params. Will use it instead of argument\n",
      "  warnings.warn(\"Found `{}` in params. Will use it instead of argument\".format(alias))\n"
     ]
    },
    {
     "data": {
      "text/plain": [
       "LGBMClassifier(boosting_type='gbdt', class_weight=None, colsample_bytree=1.0,\n",
       "        learning_rate=0.1, max_depth=-1, min_child_samples=20,\n",
       "        min_child_weight=0.001, min_split_gain=0.0, n_estimators=100,\n",
       "        n_jobs=-1, num_boost_round=500, num_leaves=31, objective='binary',\n",
       "        random_state=None, reg_alpha=0.0, reg_lambda=0.0, silent=True,\n",
       "        subsample=1.0, subsample_for_bin=200000, subsample_freq=0)"
      ]
     },
     "execution_count": 59,
     "metadata": {},
     "output_type": "execute_result"
    }
   ],
   "source": [
    "params={\n",
    "    'boosting_type':'gbdt',\n",
    "    'objective':'binary',\n",
    "    #'metric':'rmse',\n",
    "    #'min_child_weigth':3,\n",
    "    #'num_leaves':2**5,\n",
    "    #'lambda_l2':10,\n",
    "    #'subsample':0.7,\n",
    "    #'colsample_bytree':0.7,\n",
    "    #'colsample_bylevel':0.7,\n",
    "    'learning_rate':0.05,\n",
    "   # 'tree_method':'exact',\n",
    "    'seed':2017,\n",
    "    'nthread':4,\n",
    "    'silent':True\n",
    "}\n",
    "# train=lgb.Dataset(X_train,y_train)\n",
    "# test=lgb.Dataset(X_test,label=y_test,reference=train)\n",
    "\n",
    "\n",
    "lgb2 =lgb.LGBMClassifier( \n",
    "    boosting_type='gbdt',\n",
    "    objective='binary',\n",
    "    num_boost_round=500)\n",
    "\n",
    "lgb2.fit(X_train,y_train,)"
   ]
  },
  {
   "cell_type": "code",
   "execution_count": 60,
   "metadata": {
    "ExecuteTime": {
     "end_time": "2018-08-16T05:51:23.170270Z",
     "start_time": "2018-08-16T05:51:15.603837Z"
    },
    "scrolled": false
   },
   "outputs": [
    {
     "name": "stderr",
     "output_type": "stream",
     "text": [
      "D:\\ProgramData\\Anaconda3\\lib\\site-packages\\sklearn\\preprocessing\\label.py:151: DeprecationWarning: The truth value of an empty array is ambiguous. Returning False, but in future this will result in an error. Use `array.size > 0` to check that an array is not empty.\n",
      "  if diff:\n"
     ]
    },
    {
     "name": "stdout",
     "output_type": "stream",
     "text": [
      "准确率 0.9979947208411044\n",
      "混淆矩阵 [[448413      0]\n",
      " [   901      0]]\n",
      "分类报告              precision    recall  f1-score   support\n",
      "\n",
      "          0       1.00      1.00      1.00    448413\n",
      "          1       0.00      0.00      0.00       901\n",
      "\n",
      "avg / total       1.00      1.00      1.00    449314\n",
      "\n",
      "准确率 0.9979947208411044\n"
     ]
    },
    {
     "name": "stderr",
     "output_type": "stream",
     "text": [
      "D:\\ProgramData\\Anaconda3\\lib\\site-packages\\sklearn\\metrics\\classification.py:1135: UndefinedMetricWarning: Precision and F-score are ill-defined and being set to 0.0 in labels with no predicted samples.\n",
      "  'precision', 'predicted', average, warn_for)\n"
     ]
    },
    {
     "name": "stdout",
     "output_type": "stream",
     "text": [
      "混淆矩阵 [[448413      0]\n",
      " [   901      0]]\n",
      "分类报告              precision    recall  f1-score   support\n",
      "\n",
      "          0       1.00      1.00      1.00    448413\n",
      "          1       0.00      0.00      0.00       901\n",
      "\n",
      "avg / total       1.00      1.00      1.00    449314\n",
      "\n"
     ]
    }
   ],
   "source": [
    "predictions=lgb2.predict(X_test)\n",
    "print (u'准确率',accuracy_score(y_test,predictions))\n",
    "print (u'混淆矩阵',confusion_matrix(y_test,predictions))\n",
    "print (u'分类报告',classification_report(y_test,predictions))\n",
    "\n",
    "print (u'准确率',accuracy_score(y_test,predictions))\n",
    "print (u'混淆矩阵',confusion_matrix(y_test,predictions))\n",
    "print (u'分类报告',classification_report(y_test,predictions))"
   ]
  },
  {
   "cell_type": "code",
   "execution_count": null,
   "metadata": {},
   "outputs": [],
   "source": []
  },
  {
   "cell_type": "code",
   "execution_count": null,
   "metadata": {},
   "outputs": [],
   "source": []
  },
  {
   "cell_type": "code",
   "execution_count": null,
   "metadata": {
    "ExecuteTime": {
     "end_time": "2018-08-14T14:14:27.956363Z",
     "start_time": "2018-08-14T14:14:27.136317Z"
    }
   },
   "outputs": [],
   "source": [
    "# from sklearn.linear_model.logistic import LogisticRegression\n",
    "\n",
    "# params2 = {\n",
    "#         #\"reg_alpha\": [0.3, 0.7, 0.9, 1.1],\n",
    "#         'C':(0.1,1,10),\n",
    "# }\n",
    "\n",
    "# estimator2=LogisticRegression()\n",
    "\n",
    "# grid_search=GridSearchCV(estimator2,params2,n_jobs=-4,verbose=50,scoring=\"accuracy\",cv=StratifiedKFold(y_train,n_folds=5))\n",
    "# grid_search.fit(X_train,y_train)\n",
    "\n",
    "# predictions=grid_search.predict(X_test)\n",
    "# print (u'准确率',accuracy_score(y_test,predictions))\n",
    "# print (u'混淆矩阵',confusion_matrix(y_test,predictions))\n",
    "# print (u'分类报告',classification_report(y_test,predictions))"
   ]
  },
  {
   "cell_type": "code",
   "execution_count": null,
   "metadata": {},
   "outputs": [],
   "source": []
  }
 ],
 "metadata": {
  "kernelspec": {
   "display_name": "Python 3",
   "language": "python",
   "name": "python3"
  },
  "language_info": {
   "codemirror_mode": {
    "name": "ipython",
    "version": 3
   },
   "file_extension": ".py",
   "mimetype": "text/x-python",
   "name": "python",
   "nbconvert_exporter": "python",
   "pygments_lexer": "ipython3",
   "version": "3.6.3"
  }
 },
 "nbformat": 4,
 "nbformat_minor": 2
}
