{
 "cells": [
  {
   "cell_type": "code",
   "execution_count": 1,
   "metadata": {
    "ExecuteTime": {
     "end_time": "2018-10-23T02:16:13.447099Z",
     "start_time": "2018-10-23T02:16:08.790833Z"
    }
   },
   "outputs": [],
   "source": [
    "import numpy as np\n",
    "import pandas as pd\n",
    "from matplotlib import pyplot as plt\n",
    "import seaborn as sns\n",
    "from scipy.stats import norm ,skew,kurtosis\n",
    "from sklearn.preprocessing import StandardScaler\n",
    "from sklearn.metrics import make_scorer,mean_squared_error"
   ]
  },
  {
   "cell_type": "code",
   "execution_count": 2,
   "metadata": {
    "ExecuteTime": {
     "end_time": "2018-10-23T02:16:34.712316Z",
     "start_time": "2018-10-23T02:16:13.450100Z"
    }
   },
   "outputs": [],
   "source": [
    "df_train=pd.read_csv('F:\\\\study\\\\ml\\\\DataSet\\\\Tap4fun\\\\tap_fun_train.csv')"
   ]
  },
  {
   "cell_type": "code",
   "execution_count": 3,
   "metadata": {
    "ExecuteTime": {
     "end_time": "2018-10-23T02:16:46.519991Z",
     "start_time": "2018-10-23T02:16:34.714316Z"
    }
   },
   "outputs": [],
   "source": [
    "c_int=df_train.select_dtypes(include=['int64']).apply(pd.to_numeric,downcast='unsigned')\n",
    "c_float=df_train.select_dtypes(include=['float']).apply(pd.to_numeric,downcast='float')"
   ]
  },
  {
   "cell_type": "code",
   "execution_count": 4,
   "metadata": {
    "ExecuteTime": {
     "end_time": "2018-10-23T02:16:47.062022Z",
     "start_time": "2018-10-23T02:16:46.522991Z"
    }
   },
   "outputs": [],
   "source": [
    "o_df=pd.concat([c_int,c_float],axis=1)\n",
    "column_type=dict(o_df.dtypes.copy())\n",
    "del o_df,c_int,c_float,df_train"
   ]
  },
  {
   "cell_type": "code",
   "execution_count": 5,
   "metadata": {
    "ExecuteTime": {
     "end_time": "2018-10-23T02:17:15.331639Z",
     "start_time": "2018-10-23T02:16:47.063022Z"
    }
   },
   "outputs": [],
   "source": [
    "data_train=pd.read_csv('F:\\\\study\\\\ml\\\\DataSet\\\\Tap4fun\\\\tap_fun_train.csv',\n",
    "                      dtype=column_type,parse_dates=['register_time'],infer_datetime_format=True)\n",
    "\n",
    "data_test=pd.read_csv('F:\\\\study\\\\ml\\\\DataSet\\\\Tap4fun\\\\tap_fun_test.csv',\n",
    "                      dtype=column_type,parse_dates=['register_time'],infer_datetime_format=True)"
   ]
  },
  {
   "cell_type": "code",
   "execution_count": 6,
   "metadata": {
    "ExecuteTime": {
     "end_time": "2018-10-23T02:17:15.625656Z",
     "start_time": "2018-10-23T02:17:15.333639Z"
    }
   },
   "outputs": [],
   "source": [
    "data_train.rename(columns={'treatment_acceleraion_add_value':'treatment_acceleration_add_value',\\\n",
    "                          'sr_rss_a_prod_levell':'sr_rss_a_prod_level'} ,inplace=True)\n",
    "\n",
    "data_test.rename(columns={'treatment_acceleraion_add_value':'treatment_acceleration_add_value',\\\n",
    "                          'sr_rss_a_prod_levell':'sr_rss_a_prod_level'} ,inplace=True)"
   ]
  },
  {
   "cell_type": "code",
   "execution_count": 7,
   "metadata": {
    "ExecuteTime": {
     "end_time": "2018-10-23T02:17:16.057681Z",
     "start_time": "2018-10-23T02:17:15.627656Z"
    }
   },
   "outputs": [],
   "source": [
    "train_user=data_train.iloc[:,:2]\n",
    "train_data=data_train.iloc[:,2:]"
   ]
  },
  {
   "cell_type": "code",
   "execution_count": 8,
   "metadata": {
    "ExecuteTime": {
     "end_time": "2018-10-23T02:17:16.689717Z",
     "start_time": "2018-10-23T02:17:16.059681Z"
    }
   },
   "outputs": [],
   "source": [
    "column_name=train_data.columns.values[:32].tolist()\n",
    "for i in range(len(column_name)):\n",
    "    if (i+2) % 2 == 0 :\n",
    "        name=column_name[i].replace('value','rate')\n",
    "        #print(name)\n",
    "        train_data[name]=train_data[column_name[i]] / (train_data[column_name[i+1]]+1)"
   ]
  },
  {
   "cell_type": "code",
   "execution_count": 9,
   "metadata": {
    "ExecuteTime": {
     "end_time": "2018-10-23T02:17:16.805723Z",
     "start_time": "2018-10-23T02:17:16.690717Z"
    }
   },
   "outputs": [],
   "source": [
    "train_data['pvp_lanch_battle_rate']=train_data['pvp_battle_count']/(train_data['pvp_lanch_count']+1)\n",
    "train_data['pvp_win_battle_rate']=train_data['pvp_battle_count']/(train_data['pvp_win_count']+1)\n",
    "train_data['pvp_win_lanch_rate']=train_data['pvp_lanch_count']/(train_data['pvp_win_count']+1)\n",
    "train_data['pve_win_battle_rate']=train_data['pvp_battle_count']/(train_data['pve_win_count']+1)\n",
    "train_data['pay_price_rate']=train_data['pay_count']/(train_data['pay_price']+1)\n",
    "train_data['price_online_minutes_rate']=train_data['avg_online_minutes']/(train_data['pay_price']+1)"
   ]
  },
  {
   "cell_type": "code",
   "execution_count": 10,
   "metadata": {
    "ExecuteTime": {
     "end_time": "2018-10-23T02:57:11.384685Z",
     "start_time": "2018-10-23T02:17:16.806723Z"
    }
   },
   "outputs": [],
   "source": [
    "train_data['resource_add_mean']=train_data.iloc[:,[0,2,4,6,8]].apply(lambda x:x.mean(),axis=1)\n",
    "train_data['resource_add_med']=train_data.iloc[:,[0,2,4,6,8]].apply(lambda x:x.median(),axis=1)\n",
    "train_data['resource_reduce_mean']=train_data.iloc[:,[1, 3, 5, 7, 9]].apply(lambda x:x.mean(),axis=1)\n",
    "train_data['resource_reduce_med']=train_data.iloc[:,[1, 3, 5, 7, 9]].apply(lambda x:x.median(),axis=1)\n",
    "\n",
    "train_data['resource_mean_rate']=train_data['resource_reduce_mean']/(train_data['resource_add_mean']+1)\n",
    "train_data['resource_med_rate']=train_data['resource_reduce_med']/(train_data['resource_add_med']+1)\n",
    "\n",
    "train_data['army_add_mean']=train_data.iloc[:,[10, 12, 14]].apply(lambda x:x.mean(),axis=1)\n",
    "train_data['army_add_med']=train_data.iloc[:,[10, 12, 14]].apply(lambda x:x.median(),axis=1)\n",
    "train_data['army_reduce_mean']=train_data.iloc[:,[11, 13, 15]].apply(lambda x:x.mean(),axis=1)\n",
    "train_data['army_reduce_med']=train_data.iloc[:,[11, 13, 15]].apply(lambda x:x.median(),axis=1)\n",
    "\n",
    "train_data['army_mean_rate']=train_data['army_reduce_mean']/(train_data['army_add_mean']+1)\n",
    "train_data['army_med_rate']=train_data['army_reduce_med']/(train_data['army_add_med']+1)\n",
    "\n",
    "train_data['wound_add_mean'] = train_data.iloc[:, [16, 18, 20]].apply(lambda x: x.mean(), axis=1)\n",
    "train_data['wound_add_med'] = train_data.iloc[:, [16, 18, 20]].apply(lambda x: x.median(), axis=1)\n",
    "train_data['wound_reduce_mean'] = train_data.iloc[:, [17, 19, 21]].apply(lambda x: x.mean(), axis=1)\n",
    "train_data['wound_reduce_med'] = train_data.iloc[:, [17, 19, 21]].apply(lambda x: x.median(), axis=1)\n",
    "\n",
    "train_data['wound_mean_rate']=train_data['wound_reduce_mean']/(train_data['wound_add_mean']+1)\n",
    "train_data['wound_med_rate']=train_data['wound_reduce_med']/(train_data['wound_add_med']+1)\n",
    "\n",
    "train_data['accelerate_add_mean'] = train_data.iloc[:, [22, 24, 26, 28, 30]].apply(lambda x: x.mean(), axis=1)\n",
    "train_data['accelerate_add_med'] = train_data.iloc[:, [22, 24, 26, 28, 30]].apply(lambda x: x.median(), axis=1)\n",
    "train_data['accelerate_reduce_mean'] = train_data.iloc[:, [23, 25, 27, 29, 31]].apply(lambda x: x.mean(), axis=1)\n",
    "train_data['accelerate_reduce_med'] = train_data.iloc[:, [23, 25, 27, 29, 31]].apply(lambda x: x.median(), axis=1)\n",
    "\n",
    "train_data['accelerate_mean_rate']=train_data['accelerate_reduce_mean']/(train_data['accelerate_add_mean']+1)\n",
    "train_data['accelerate_med_rate']=train_data['accelerate_reduce_med']/(train_data['accelerate_add_med']+1)"
   ]
  },
  {
   "cell_type": "code",
   "execution_count": 11,
   "metadata": {
    "ExecuteTime": {
     "end_time": "2018-10-23T02:57:38.593242Z",
     "start_time": "2018-10-23T02:57:11.385686Z"
    }
   },
   "outputs": [],
   "source": [
    "train_user['register_time_month']=pd.to_numeric(train_user.register_time.apply(lambda x:str(x)).str[5:7])\n",
    "train_user['register_time_day']=pd.to_numeric(train_user.register_time.apply(lambda x:str(x)).str[8:10])\n",
    "train_user.drop(labels=['register_time'],axis=1,inplace=True)\n",
    "train_user['register_time_count']=train_user['register_time_month']*31+train_user['register_time_day']\n",
    "\n",
    "train_data['register_time_month']=train_user['register_time_month']\n",
    "train_data['register_time_day']=train_user['register_time_day']\n",
    "train_data['register_time_count']=train_user['register_time_count']"
   ]
  },
  {
   "cell_type": "code",
   "execution_count": 12,
   "metadata": {
    "ExecuteTime": {
     "end_time": "2018-10-23T02:57:39.371286Z",
     "start_time": "2018-10-23T02:57:38.594242Z"
    }
   },
   "outputs": [],
   "source": [
    "train = train_data[train_data['pay_price'] > 0]"
   ]
  },
  {
   "cell_type": "code",
   "execution_count": 13,
   "metadata": {
    "ExecuteTime": {
     "end_time": "2018-10-23T02:57:39.611300Z",
     "start_time": "2018-10-23T02:57:39.372286Z"
    }
   },
   "outputs": [
    {
     "name": "stderr",
     "output_type": "stream",
     "text": [
      "D:\\ProgramData\\Anaconda3\\lib\\site-packages\\ipykernel_launcher.py:1: SettingWithCopyWarning: \n",
      "A value is trying to be set on a copy of a slice from a DataFrame.\n",
      "Try using .loc[row_indexer,col_indexer] = value instead\n",
      "\n",
      "See the caveats in the documentation: http://pandas.pydata.org/pandas-docs/stable/indexing.html#indexing-view-versus-copy\n",
      "  \"\"\"Entry point for launching an IPython kernel.\n",
      "D:\\ProgramData\\Anaconda3\\lib\\site-packages\\ipykernel_launcher.py:2: SettingWithCopyWarning: \n",
      "A value is trying to be set on a copy of a slice from a DataFrame.\n",
      "Try using .loc[row_indexer,col_indexer] = value instead\n",
      "\n",
      "See the caveats in the documentation: http://pandas.pydata.org/pandas-docs/stable/indexing.html#indexing-view-versus-copy\n",
      "  \n",
      "D:\\ProgramData\\Anaconda3\\lib\\site-packages\\ipykernel_launcher.py:3: SettingWithCopyWarning: \n",
      "A value is trying to be set on a copy of a slice from a DataFrame.\n",
      "Try using .loc[row_indexer,col_indexer] = value instead\n",
      "\n",
      "See the caveats in the documentation: http://pandas.pydata.org/pandas-docs/stable/indexing.html#indexing-view-versus-copy\n",
      "  This is separate from the ipykernel package so we can avoid doing imports until\n",
      "D:\\ProgramData\\Anaconda3\\lib\\site-packages\\ipykernel_launcher.py:4: SettingWithCopyWarning: \n",
      "A value is trying to be set on a copy of a slice from a DataFrame.\n",
      "Try using .loc[row_indexer,col_indexer] = value instead\n",
      "\n",
      "See the caveats in the documentation: http://pandas.pydata.org/pandas-docs/stable/indexing.html#indexing-view-versus-copy\n",
      "  after removing the cwd from sys.path.\n"
     ]
    }
   ],
   "source": [
    "train['new_pay_label']=train['prediction_pay_price']!=train['pay_price']\n",
    "train['new_pay_label']=train['new_pay_label'].map({True:1,False:0})\n",
    "train['new_pay_price']=train['prediction_pay_price']-train['pay_price']\n",
    "train['new_pay_rate']=(train['prediction_pay_price']-train['pay_price'])/train['pay_price']"
   ]
  },
  {
   "cell_type": "code",
   "execution_count": 14,
   "metadata": {
    "ExecuteTime": {
     "end_time": "2018-10-23T02:57:39.763309Z",
     "start_time": "2018-10-23T02:57:39.612300Z"
    }
   },
   "outputs": [
    {
     "data": {
      "text/html": [
       "<div>\n",
       "<style scoped>\n",
       "    .dataframe tbody tr th:only-of-type {\n",
       "        vertical-align: middle;\n",
       "    }\n",
       "\n",
       "    .dataframe tbody tr th {\n",
       "        vertical-align: top;\n",
       "    }\n",
       "\n",
       "    .dataframe thead th {\n",
       "        text-align: right;\n",
       "    }\n",
       "</style>\n",
       "<table border=\"1\" class=\"dataframe\">\n",
       "  <thead>\n",
       "    <tr style=\"text-align: right;\">\n",
       "      <th></th>\n",
       "      <th>wood_add_value</th>\n",
       "      <th>wood_reduce_value</th>\n",
       "      <th>stone_add_value</th>\n",
       "      <th>stone_reduce_value</th>\n",
       "      <th>ivory_add_value</th>\n",
       "      <th>ivory_reduce_value</th>\n",
       "      <th>meat_add_value</th>\n",
       "      <th>meat_reduce_value</th>\n",
       "      <th>magic_add_value</th>\n",
       "      <th>magic_reduce_value</th>\n",
       "      <th>...</th>\n",
       "      <th>accelerate_reduce_mean</th>\n",
       "      <th>accelerate_reduce_med</th>\n",
       "      <th>accelerate_mean_rate</th>\n",
       "      <th>accelerate_med_rate</th>\n",
       "      <th>register_time_month</th>\n",
       "      <th>register_time_day</th>\n",
       "      <th>register_time_count</th>\n",
       "      <th>new_pay_label</th>\n",
       "      <th>new_pay_price</th>\n",
       "      <th>new_pay_rate</th>\n",
       "    </tr>\n",
       "  </thead>\n",
       "  <tbody>\n",
       "    <tr>\n",
       "      <th>25</th>\n",
       "      <td>30000.0</td>\n",
       "      <td>97200.0</td>\n",
       "      <td>20000.0</td>\n",
       "      <td>0.0</td>\n",
       "      <td>0.0</td>\n",
       "      <td>0.0</td>\n",
       "      <td>160500.0</td>\n",
       "      <td>80392.0</td>\n",
       "      <td>12000.0</td>\n",
       "      <td>0.0</td>\n",
       "      <td>...</td>\n",
       "      <td>0.0</td>\n",
       "      <td>0.0</td>\n",
       "      <td>0.000000</td>\n",
       "      <td>0.000000</td>\n",
       "      <td>1</td>\n",
       "      <td>26</td>\n",
       "      <td>57</td>\n",
       "      <td>0</td>\n",
       "      <td>0.00</td>\n",
       "      <td>0.000000</td>\n",
       "    </tr>\n",
       "    <tr>\n",
       "      <th>40</th>\n",
       "      <td>1111744.0</td>\n",
       "      <td>1137687.0</td>\n",
       "      <td>491331.0</td>\n",
       "      <td>790208.0</td>\n",
       "      <td>77000.0</td>\n",
       "      <td>0.0</td>\n",
       "      <td>1457249.0</td>\n",
       "      <td>708483.0</td>\n",
       "      <td>217455.0</td>\n",
       "      <td>162987.0</td>\n",
       "      <td>...</td>\n",
       "      <td>322.8</td>\n",
       "      <td>500.0</td>\n",
       "      <td>0.510598</td>\n",
       "      <td>0.807754</td>\n",
       "      <td>1</td>\n",
       "      <td>26</td>\n",
       "      <td>57</td>\n",
       "      <td>1</td>\n",
       "      <td>1.99</td>\n",
       "      <td>0.670034</td>\n",
       "    </tr>\n",
       "    <tr>\n",
       "      <th>47</th>\n",
       "      <td>249050.0</td>\n",
       "      <td>173248.0</td>\n",
       "      <td>70841.0</td>\n",
       "      <td>117012.0</td>\n",
       "      <td>55000.0</td>\n",
       "      <td>0.0</td>\n",
       "      <td>206366.0</td>\n",
       "      <td>82205.0</td>\n",
       "      <td>29902.0</td>\n",
       "      <td>88064.0</td>\n",
       "      <td>...</td>\n",
       "      <td>415.8</td>\n",
       "      <td>0.0</td>\n",
       "      <td>1.825285</td>\n",
       "      <td>0.000000</td>\n",
       "      <td>1</td>\n",
       "      <td>26</td>\n",
       "      <td>57</td>\n",
       "      <td>0</td>\n",
       "      <td>0.00</td>\n",
       "      <td>0.000000</td>\n",
       "    </tr>\n",
       "    <tr>\n",
       "      <th>86</th>\n",
       "      <td>0.0</td>\n",
       "      <td>0.0</td>\n",
       "      <td>0.0</td>\n",
       "      <td>0.0</td>\n",
       "      <td>0.0</td>\n",
       "      <td>0.0</td>\n",
       "      <td>0.0</td>\n",
       "      <td>0.0</td>\n",
       "      <td>0.0</td>\n",
       "      <td>0.0</td>\n",
       "      <td>...</td>\n",
       "      <td>0.0</td>\n",
       "      <td>0.0</td>\n",
       "      <td>0.000000</td>\n",
       "      <td>0.000000</td>\n",
       "      <td>1</td>\n",
       "      <td>26</td>\n",
       "      <td>57</td>\n",
       "      <td>0</td>\n",
       "      <td>0.00</td>\n",
       "      <td>0.000000</td>\n",
       "    </tr>\n",
       "    <tr>\n",
       "      <th>119</th>\n",
       "      <td>0.0</td>\n",
       "      <td>0.0</td>\n",
       "      <td>0.0</td>\n",
       "      <td>0.0</td>\n",
       "      <td>0.0</td>\n",
       "      <td>0.0</td>\n",
       "      <td>0.0</td>\n",
       "      <td>0.0</td>\n",
       "      <td>0.0</td>\n",
       "      <td>0.0</td>\n",
       "      <td>...</td>\n",
       "      <td>0.0</td>\n",
       "      <td>0.0</td>\n",
       "      <td>0.000000</td>\n",
       "      <td>0.000000</td>\n",
       "      <td>1</td>\n",
       "      <td>26</td>\n",
       "      <td>57</td>\n",
       "      <td>0</td>\n",
       "      <td>0.00</td>\n",
       "      <td>0.000000</td>\n",
       "    </tr>\n",
       "  </tbody>\n",
       "</table>\n",
       "<p>5 rows × 159 columns</p>\n",
       "</div>"
      ],
      "text/plain": [
       "     wood_add_value  wood_reduce_value  stone_add_value  stone_reduce_value  \\\n",
       "25          30000.0            97200.0          20000.0                 0.0   \n",
       "40        1111744.0          1137687.0         491331.0            790208.0   \n",
       "47         249050.0           173248.0          70841.0            117012.0   \n",
       "86              0.0                0.0              0.0                 0.0   \n",
       "119             0.0                0.0              0.0                 0.0   \n",
       "\n",
       "     ivory_add_value  ivory_reduce_value  meat_add_value  meat_reduce_value  \\\n",
       "25               0.0                 0.0        160500.0            80392.0   \n",
       "40           77000.0                 0.0       1457249.0           708483.0   \n",
       "47           55000.0                 0.0        206366.0            82205.0   \n",
       "86               0.0                 0.0             0.0                0.0   \n",
       "119              0.0                 0.0             0.0                0.0   \n",
       "\n",
       "     magic_add_value  magic_reduce_value      ...       \\\n",
       "25           12000.0                 0.0      ...        \n",
       "40          217455.0            162987.0      ...        \n",
       "47           29902.0             88064.0      ...        \n",
       "86               0.0                 0.0      ...        \n",
       "119              0.0                 0.0      ...        \n",
       "\n",
       "     accelerate_reduce_mean  accelerate_reduce_med  accelerate_mean_rate  \\\n",
       "25                      0.0                    0.0              0.000000   \n",
       "40                    322.8                  500.0              0.510598   \n",
       "47                    415.8                    0.0              1.825285   \n",
       "86                      0.0                    0.0              0.000000   \n",
       "119                     0.0                    0.0              0.000000   \n",
       "\n",
       "     accelerate_med_rate  register_time_month  register_time_day  \\\n",
       "25              0.000000                    1                 26   \n",
       "40              0.807754                    1                 26   \n",
       "47              0.000000                    1                 26   \n",
       "86              0.000000                    1                 26   \n",
       "119             0.000000                    1                 26   \n",
       "\n",
       "     register_time_count  new_pay_label  new_pay_price  new_pay_rate  \n",
       "25                    57              0           0.00      0.000000  \n",
       "40                    57              1           1.99      0.670034  \n",
       "47                    57              0           0.00      0.000000  \n",
       "86                    57              0           0.00      0.000000  \n",
       "119                   57              0           0.00      0.000000  \n",
       "\n",
       "[5 rows x 159 columns]"
      ]
     },
     "execution_count": 14,
     "metadata": {},
     "output_type": "execute_result"
    }
   ],
   "source": [
    "train.head()"
   ]
  },
  {
   "cell_type": "code",
   "execution_count": 15,
   "metadata": {
    "ExecuteTime": {
     "end_time": "2018-10-23T02:57:39.850314Z",
     "start_time": "2018-10-23T02:57:39.766309Z"
    }
   },
   "outputs": [
    {
     "data": {
      "text/html": [
       "<div>\n",
       "<style scoped>\n",
       "    .dataframe tbody tr th:only-of-type {\n",
       "        vertical-align: middle;\n",
       "    }\n",
       "\n",
       "    .dataframe tbody tr th {\n",
       "        vertical-align: top;\n",
       "    }\n",
       "\n",
       "    .dataframe thead th {\n",
       "        text-align: right;\n",
       "    }\n",
       "</style>\n",
       "<table border=\"1\" class=\"dataframe\">\n",
       "  <thead>\n",
       "    <tr style=\"text-align: right;\">\n",
       "      <th></th>\n",
       "      <th>wood_add_value</th>\n",
       "      <th>wood_reduce_value</th>\n",
       "      <th>stone_add_value</th>\n",
       "      <th>stone_reduce_value</th>\n",
       "      <th>ivory_add_value</th>\n",
       "      <th>ivory_reduce_value</th>\n",
       "      <th>meat_add_value</th>\n",
       "      <th>meat_reduce_value</th>\n",
       "      <th>magic_add_value</th>\n",
       "      <th>magic_reduce_value</th>\n",
       "      <th>...</th>\n",
       "      <th>wound_med_rate</th>\n",
       "      <th>accelerate_add_mean</th>\n",
       "      <th>accelerate_add_med</th>\n",
       "      <th>accelerate_reduce_mean</th>\n",
       "      <th>accelerate_reduce_med</th>\n",
       "      <th>accelerate_mean_rate</th>\n",
       "      <th>accelerate_med_rate</th>\n",
       "      <th>register_time_month</th>\n",
       "      <th>register_time_day</th>\n",
       "      <th>register_time_count</th>\n",
       "    </tr>\n",
       "  </thead>\n",
       "  <tbody>\n",
       "    <tr>\n",
       "      <th>25</th>\n",
       "      <td>30000.0</td>\n",
       "      <td>97200.0</td>\n",
       "      <td>20000.0</td>\n",
       "      <td>0.0</td>\n",
       "      <td>0.0</td>\n",
       "      <td>0.0</td>\n",
       "      <td>160500.0</td>\n",
       "      <td>80392.0</td>\n",
       "      <td>12000.0</td>\n",
       "      <td>0.0</td>\n",
       "      <td>...</td>\n",
       "      <td>0.0</td>\n",
       "      <td>100.0</td>\n",
       "      <td>75.0</td>\n",
       "      <td>0.0</td>\n",
       "      <td>0.0</td>\n",
       "      <td>0.000000</td>\n",
       "      <td>0.000000</td>\n",
       "      <td>1</td>\n",
       "      <td>26</td>\n",
       "      <td>57</td>\n",
       "    </tr>\n",
       "    <tr>\n",
       "      <th>40</th>\n",
       "      <td>1111744.0</td>\n",
       "      <td>1137687.0</td>\n",
       "      <td>491331.0</td>\n",
       "      <td>790208.0</td>\n",
       "      <td>77000.0</td>\n",
       "      <td>0.0</td>\n",
       "      <td>1457249.0</td>\n",
       "      <td>708483.0</td>\n",
       "      <td>217455.0</td>\n",
       "      <td>162987.0</td>\n",
       "      <td>...</td>\n",
       "      <td>0.0</td>\n",
       "      <td>631.2</td>\n",
       "      <td>618.0</td>\n",
       "      <td>322.8</td>\n",
       "      <td>500.0</td>\n",
       "      <td>0.510598</td>\n",
       "      <td>0.807754</td>\n",
       "      <td>1</td>\n",
       "      <td>26</td>\n",
       "      <td>57</td>\n",
       "    </tr>\n",
       "    <tr>\n",
       "      <th>47</th>\n",
       "      <td>249050.0</td>\n",
       "      <td>173248.0</td>\n",
       "      <td>70841.0</td>\n",
       "      <td>117012.0</td>\n",
       "      <td>55000.0</td>\n",
       "      <td>0.0</td>\n",
       "      <td>206366.0</td>\n",
       "      <td>82205.0</td>\n",
       "      <td>29902.0</td>\n",
       "      <td>88064.0</td>\n",
       "      <td>...</td>\n",
       "      <td>0.0</td>\n",
       "      <td>226.8</td>\n",
       "      <td>45.0</td>\n",
       "      <td>415.8</td>\n",
       "      <td>0.0</td>\n",
       "      <td>1.825285</td>\n",
       "      <td>0.000000</td>\n",
       "      <td>1</td>\n",
       "      <td>26</td>\n",
       "      <td>57</td>\n",
       "    </tr>\n",
       "    <tr>\n",
       "      <th>86</th>\n",
       "      <td>0.0</td>\n",
       "      <td>0.0</td>\n",
       "      <td>0.0</td>\n",
       "      <td>0.0</td>\n",
       "      <td>0.0</td>\n",
       "      <td>0.0</td>\n",
       "      <td>0.0</td>\n",
       "      <td>0.0</td>\n",
       "      <td>0.0</td>\n",
       "      <td>0.0</td>\n",
       "      <td>...</td>\n",
       "      <td>0.0</td>\n",
       "      <td>0.0</td>\n",
       "      <td>0.0</td>\n",
       "      <td>0.0</td>\n",
       "      <td>0.0</td>\n",
       "      <td>0.000000</td>\n",
       "      <td>0.000000</td>\n",
       "      <td>1</td>\n",
       "      <td>26</td>\n",
       "      <td>57</td>\n",
       "    </tr>\n",
       "    <tr>\n",
       "      <th>119</th>\n",
       "      <td>0.0</td>\n",
       "      <td>0.0</td>\n",
       "      <td>0.0</td>\n",
       "      <td>0.0</td>\n",
       "      <td>0.0</td>\n",
       "      <td>0.0</td>\n",
       "      <td>0.0</td>\n",
       "      <td>0.0</td>\n",
       "      <td>0.0</td>\n",
       "      <td>0.0</td>\n",
       "      <td>...</td>\n",
       "      <td>0.0</td>\n",
       "      <td>0.0</td>\n",
       "      <td>0.0</td>\n",
       "      <td>0.0</td>\n",
       "      <td>0.0</td>\n",
       "      <td>0.000000</td>\n",
       "      <td>0.000000</td>\n",
       "      <td>1</td>\n",
       "      <td>26</td>\n",
       "      <td>57</td>\n",
       "    </tr>\n",
       "  </tbody>\n",
       "</table>\n",
       "<p>5 rows × 156 columns</p>\n",
       "</div>"
      ],
      "text/plain": [
       "     wood_add_value  wood_reduce_value  stone_add_value  stone_reduce_value  \\\n",
       "25          30000.0            97200.0          20000.0                 0.0   \n",
       "40        1111744.0          1137687.0         491331.0            790208.0   \n",
       "47         249050.0           173248.0          70841.0            117012.0   \n",
       "86              0.0                0.0              0.0                 0.0   \n",
       "119             0.0                0.0              0.0                 0.0   \n",
       "\n",
       "     ivory_add_value  ivory_reduce_value  meat_add_value  meat_reduce_value  \\\n",
       "25               0.0                 0.0        160500.0            80392.0   \n",
       "40           77000.0                 0.0       1457249.0           708483.0   \n",
       "47           55000.0                 0.0        206366.0            82205.0   \n",
       "86               0.0                 0.0             0.0                0.0   \n",
       "119              0.0                 0.0             0.0                0.0   \n",
       "\n",
       "     magic_add_value  magic_reduce_value         ...           wound_med_rate  \\\n",
       "25           12000.0                 0.0         ...                      0.0   \n",
       "40          217455.0            162987.0         ...                      0.0   \n",
       "47           29902.0             88064.0         ...                      0.0   \n",
       "86               0.0                 0.0         ...                      0.0   \n",
       "119              0.0                 0.0         ...                      0.0   \n",
       "\n",
       "     accelerate_add_mean  accelerate_add_med  accelerate_reduce_mean  \\\n",
       "25                 100.0                75.0                     0.0   \n",
       "40                 631.2               618.0                   322.8   \n",
       "47                 226.8                45.0                   415.8   \n",
       "86                   0.0                 0.0                     0.0   \n",
       "119                  0.0                 0.0                     0.0   \n",
       "\n",
       "     accelerate_reduce_med  accelerate_mean_rate  accelerate_med_rate  \\\n",
       "25                     0.0              0.000000             0.000000   \n",
       "40                   500.0              0.510598             0.807754   \n",
       "47                     0.0              1.825285             0.000000   \n",
       "86                     0.0              0.000000             0.000000   \n",
       "119                    0.0              0.000000             0.000000   \n",
       "\n",
       "     register_time_month  register_time_day  register_time_count  \n",
       "25                     1                 26                   57  \n",
       "40                     1                 26                   57  \n",
       "47                     1                 26                   57  \n",
       "86                     1                 26                   57  \n",
       "119                    1                 26                   57  \n",
       "\n",
       "[5 rows x 156 columns]"
      ]
     },
     "execution_count": 15,
     "metadata": {},
     "output_type": "execute_result"
    }
   ],
   "source": [
    "train.iloc[:,0:-3].head()"
   ]
  },
  {
   "cell_type": "code",
   "execution_count": 16,
   "metadata": {
    "ExecuteTime": {
     "end_time": "2018-10-23T02:57:39.911317Z",
     "start_time": "2018-10-23T02:57:39.851314Z"
    }
   },
   "outputs": [
    {
     "data": {
      "text/html": [
       "<div>\n",
       "<style scoped>\n",
       "    .dataframe tbody tr th:only-of-type {\n",
       "        vertical-align: middle;\n",
       "    }\n",
       "\n",
       "    .dataframe tbody tr th {\n",
       "        vertical-align: top;\n",
       "    }\n",
       "\n",
       "    .dataframe thead th {\n",
       "        text-align: right;\n",
       "    }\n",
       "</style>\n",
       "<table border=\"1\" class=\"dataframe\">\n",
       "  <thead>\n",
       "    <tr style=\"text-align: right;\">\n",
       "      <th></th>\n",
       "      <th>wood_add_value</th>\n",
       "      <th>wood_reduce_value</th>\n",
       "      <th>stone_add_value</th>\n",
       "      <th>stone_reduce_value</th>\n",
       "      <th>ivory_add_value</th>\n",
       "      <th>ivory_reduce_value</th>\n",
       "      <th>meat_add_value</th>\n",
       "      <th>meat_reduce_value</th>\n",
       "      <th>magic_add_value</th>\n",
       "      <th>magic_reduce_value</th>\n",
       "      <th>...</th>\n",
       "      <th>accelerate_reduce_mean</th>\n",
       "      <th>accelerate_reduce_med</th>\n",
       "      <th>accelerate_mean_rate</th>\n",
       "      <th>accelerate_med_rate</th>\n",
       "      <th>register_time_month</th>\n",
       "      <th>register_time_day</th>\n",
       "      <th>register_time_count</th>\n",
       "      <th>new_pay_label</th>\n",
       "      <th>new_pay_price</th>\n",
       "      <th>new_pay_rate</th>\n",
       "    </tr>\n",
       "  </thead>\n",
       "  <tbody>\n",
       "    <tr>\n",
       "      <th>25</th>\n",
       "      <td>30000.0</td>\n",
       "      <td>97200.0</td>\n",
       "      <td>20000.0</td>\n",
       "      <td>0.0</td>\n",
       "      <td>0.0</td>\n",
       "      <td>0.0</td>\n",
       "      <td>160500.0</td>\n",
       "      <td>80392.0</td>\n",
       "      <td>12000.0</td>\n",
       "      <td>0.0</td>\n",
       "      <td>...</td>\n",
       "      <td>0.0</td>\n",
       "      <td>0.0</td>\n",
       "      <td>0.000000</td>\n",
       "      <td>0.000000</td>\n",
       "      <td>1</td>\n",
       "      <td>26</td>\n",
       "      <td>57</td>\n",
       "      <td>0</td>\n",
       "      <td>0.00</td>\n",
       "      <td>0.000000</td>\n",
       "    </tr>\n",
       "    <tr>\n",
       "      <th>40</th>\n",
       "      <td>1111744.0</td>\n",
       "      <td>1137687.0</td>\n",
       "      <td>491331.0</td>\n",
       "      <td>790208.0</td>\n",
       "      <td>77000.0</td>\n",
       "      <td>0.0</td>\n",
       "      <td>1457249.0</td>\n",
       "      <td>708483.0</td>\n",
       "      <td>217455.0</td>\n",
       "      <td>162987.0</td>\n",
       "      <td>...</td>\n",
       "      <td>322.8</td>\n",
       "      <td>500.0</td>\n",
       "      <td>0.510598</td>\n",
       "      <td>0.807754</td>\n",
       "      <td>1</td>\n",
       "      <td>26</td>\n",
       "      <td>57</td>\n",
       "      <td>1</td>\n",
       "      <td>1.99</td>\n",
       "      <td>0.670034</td>\n",
       "    </tr>\n",
       "    <tr>\n",
       "      <th>47</th>\n",
       "      <td>249050.0</td>\n",
       "      <td>173248.0</td>\n",
       "      <td>70841.0</td>\n",
       "      <td>117012.0</td>\n",
       "      <td>55000.0</td>\n",
       "      <td>0.0</td>\n",
       "      <td>206366.0</td>\n",
       "      <td>82205.0</td>\n",
       "      <td>29902.0</td>\n",
       "      <td>88064.0</td>\n",
       "      <td>...</td>\n",
       "      <td>415.8</td>\n",
       "      <td>0.0</td>\n",
       "      <td>1.825285</td>\n",
       "      <td>0.000000</td>\n",
       "      <td>1</td>\n",
       "      <td>26</td>\n",
       "      <td>57</td>\n",
       "      <td>0</td>\n",
       "      <td>0.00</td>\n",
       "      <td>0.000000</td>\n",
       "    </tr>\n",
       "    <tr>\n",
       "      <th>86</th>\n",
       "      <td>0.0</td>\n",
       "      <td>0.0</td>\n",
       "      <td>0.0</td>\n",
       "      <td>0.0</td>\n",
       "      <td>0.0</td>\n",
       "      <td>0.0</td>\n",
       "      <td>0.0</td>\n",
       "      <td>0.0</td>\n",
       "      <td>0.0</td>\n",
       "      <td>0.0</td>\n",
       "      <td>...</td>\n",
       "      <td>0.0</td>\n",
       "      <td>0.0</td>\n",
       "      <td>0.000000</td>\n",
       "      <td>0.000000</td>\n",
       "      <td>1</td>\n",
       "      <td>26</td>\n",
       "      <td>57</td>\n",
       "      <td>0</td>\n",
       "      <td>0.00</td>\n",
       "      <td>0.000000</td>\n",
       "    </tr>\n",
       "    <tr>\n",
       "      <th>119</th>\n",
       "      <td>0.0</td>\n",
       "      <td>0.0</td>\n",
       "      <td>0.0</td>\n",
       "      <td>0.0</td>\n",
       "      <td>0.0</td>\n",
       "      <td>0.0</td>\n",
       "      <td>0.0</td>\n",
       "      <td>0.0</td>\n",
       "      <td>0.0</td>\n",
       "      <td>0.0</td>\n",
       "      <td>...</td>\n",
       "      <td>0.0</td>\n",
       "      <td>0.0</td>\n",
       "      <td>0.000000</td>\n",
       "      <td>0.000000</td>\n",
       "      <td>1</td>\n",
       "      <td>26</td>\n",
       "      <td>57</td>\n",
       "      <td>0</td>\n",
       "      <td>0.00</td>\n",
       "      <td>0.000000</td>\n",
       "    </tr>\n",
       "  </tbody>\n",
       "</table>\n",
       "<p>5 rows × 159 columns</p>\n",
       "</div>"
      ],
      "text/plain": [
       "     wood_add_value  wood_reduce_value  stone_add_value  stone_reduce_value  \\\n",
       "25          30000.0            97200.0          20000.0                 0.0   \n",
       "40        1111744.0          1137687.0         491331.0            790208.0   \n",
       "47         249050.0           173248.0          70841.0            117012.0   \n",
       "86              0.0                0.0              0.0                 0.0   \n",
       "119             0.0                0.0              0.0                 0.0   \n",
       "\n",
       "     ivory_add_value  ivory_reduce_value  meat_add_value  meat_reduce_value  \\\n",
       "25               0.0                 0.0        160500.0            80392.0   \n",
       "40           77000.0                 0.0       1457249.0           708483.0   \n",
       "47           55000.0                 0.0        206366.0            82205.0   \n",
       "86               0.0                 0.0             0.0                0.0   \n",
       "119              0.0                 0.0             0.0                0.0   \n",
       "\n",
       "     magic_add_value  magic_reduce_value      ...       \\\n",
       "25           12000.0                 0.0      ...        \n",
       "40          217455.0            162987.0      ...        \n",
       "47           29902.0             88064.0      ...        \n",
       "86               0.0                 0.0      ...        \n",
       "119              0.0                 0.0      ...        \n",
       "\n",
       "     accelerate_reduce_mean  accelerate_reduce_med  accelerate_mean_rate  \\\n",
       "25                      0.0                    0.0              0.000000   \n",
       "40                    322.8                  500.0              0.510598   \n",
       "47                    415.8                    0.0              1.825285   \n",
       "86                      0.0                    0.0              0.000000   \n",
       "119                     0.0                    0.0              0.000000   \n",
       "\n",
       "     accelerate_med_rate  register_time_month  register_time_day  \\\n",
       "25              0.000000                    1                 26   \n",
       "40              0.807754                    1                 26   \n",
       "47              0.000000                    1                 26   \n",
       "86              0.000000                    1                 26   \n",
       "119             0.000000                    1                 26   \n",
       "\n",
       "     register_time_count  new_pay_label  new_pay_price  new_pay_rate  \n",
       "25                    57              0           0.00      0.000000  \n",
       "40                    57              1           1.99      0.670034  \n",
       "47                    57              0           0.00      0.000000  \n",
       "86                    57              0           0.00      0.000000  \n",
       "119                   57              0           0.00      0.000000  \n",
       "\n",
       "[5 rows x 159 columns]"
      ]
     },
     "execution_count": 16,
     "metadata": {},
     "output_type": "execute_result"
    }
   ],
   "source": [
    "train.head()"
   ]
  },
  {
   "cell_type": "code",
   "execution_count": 17,
   "metadata": {
    "ExecuteTime": {
     "end_time": "2018-10-23T02:57:40.014323Z",
     "start_time": "2018-10-23T02:57:39.912317Z"
    }
   },
   "outputs": [],
   "source": [
    "classify_train=train.iloc[:,0:-3]\n",
    "classify_train.drop('prediction_pay_price',axis=1,inplace=True)"
   ]
  },
  {
   "cell_type": "code",
   "execution_count": 18,
   "metadata": {
    "ExecuteTime": {
     "end_time": "2018-10-23T02:57:40.089327Z",
     "start_time": "2018-10-23T02:57:40.015323Z"
    }
   },
   "outputs": [
    {
     "data": {
      "text/html": [
       "<div>\n",
       "<style scoped>\n",
       "    .dataframe tbody tr th:only-of-type {\n",
       "        vertical-align: middle;\n",
       "    }\n",
       "\n",
       "    .dataframe tbody tr th {\n",
       "        vertical-align: top;\n",
       "    }\n",
       "\n",
       "    .dataframe thead th {\n",
       "        text-align: right;\n",
       "    }\n",
       "</style>\n",
       "<table border=\"1\" class=\"dataframe\">\n",
       "  <thead>\n",
       "    <tr style=\"text-align: right;\">\n",
       "      <th></th>\n",
       "      <th>wood_add_value</th>\n",
       "      <th>wood_reduce_value</th>\n",
       "      <th>stone_add_value</th>\n",
       "      <th>stone_reduce_value</th>\n",
       "      <th>ivory_add_value</th>\n",
       "      <th>ivory_reduce_value</th>\n",
       "      <th>meat_add_value</th>\n",
       "      <th>meat_reduce_value</th>\n",
       "      <th>magic_add_value</th>\n",
       "      <th>magic_reduce_value</th>\n",
       "      <th>...</th>\n",
       "      <th>wound_med_rate</th>\n",
       "      <th>accelerate_add_mean</th>\n",
       "      <th>accelerate_add_med</th>\n",
       "      <th>accelerate_reduce_mean</th>\n",
       "      <th>accelerate_reduce_med</th>\n",
       "      <th>accelerate_mean_rate</th>\n",
       "      <th>accelerate_med_rate</th>\n",
       "      <th>register_time_month</th>\n",
       "      <th>register_time_day</th>\n",
       "      <th>register_time_count</th>\n",
       "    </tr>\n",
       "  </thead>\n",
       "  <tbody>\n",
       "    <tr>\n",
       "      <th>25</th>\n",
       "      <td>30000.0</td>\n",
       "      <td>97200.0</td>\n",
       "      <td>20000.0</td>\n",
       "      <td>0.0</td>\n",
       "      <td>0.0</td>\n",
       "      <td>0.0</td>\n",
       "      <td>160500.0</td>\n",
       "      <td>80392.0</td>\n",
       "      <td>12000.0</td>\n",
       "      <td>0.0</td>\n",
       "      <td>...</td>\n",
       "      <td>0.0</td>\n",
       "      <td>100.0</td>\n",
       "      <td>75.0</td>\n",
       "      <td>0.0</td>\n",
       "      <td>0.0</td>\n",
       "      <td>0.000000</td>\n",
       "      <td>0.000000</td>\n",
       "      <td>1</td>\n",
       "      <td>26</td>\n",
       "      <td>57</td>\n",
       "    </tr>\n",
       "    <tr>\n",
       "      <th>40</th>\n",
       "      <td>1111744.0</td>\n",
       "      <td>1137687.0</td>\n",
       "      <td>491331.0</td>\n",
       "      <td>790208.0</td>\n",
       "      <td>77000.0</td>\n",
       "      <td>0.0</td>\n",
       "      <td>1457249.0</td>\n",
       "      <td>708483.0</td>\n",
       "      <td>217455.0</td>\n",
       "      <td>162987.0</td>\n",
       "      <td>...</td>\n",
       "      <td>0.0</td>\n",
       "      <td>631.2</td>\n",
       "      <td>618.0</td>\n",
       "      <td>322.8</td>\n",
       "      <td>500.0</td>\n",
       "      <td>0.510598</td>\n",
       "      <td>0.807754</td>\n",
       "      <td>1</td>\n",
       "      <td>26</td>\n",
       "      <td>57</td>\n",
       "    </tr>\n",
       "    <tr>\n",
       "      <th>47</th>\n",
       "      <td>249050.0</td>\n",
       "      <td>173248.0</td>\n",
       "      <td>70841.0</td>\n",
       "      <td>117012.0</td>\n",
       "      <td>55000.0</td>\n",
       "      <td>0.0</td>\n",
       "      <td>206366.0</td>\n",
       "      <td>82205.0</td>\n",
       "      <td>29902.0</td>\n",
       "      <td>88064.0</td>\n",
       "      <td>...</td>\n",
       "      <td>0.0</td>\n",
       "      <td>226.8</td>\n",
       "      <td>45.0</td>\n",
       "      <td>415.8</td>\n",
       "      <td>0.0</td>\n",
       "      <td>1.825285</td>\n",
       "      <td>0.000000</td>\n",
       "      <td>1</td>\n",
       "      <td>26</td>\n",
       "      <td>57</td>\n",
       "    </tr>\n",
       "    <tr>\n",
       "      <th>86</th>\n",
       "      <td>0.0</td>\n",
       "      <td>0.0</td>\n",
       "      <td>0.0</td>\n",
       "      <td>0.0</td>\n",
       "      <td>0.0</td>\n",
       "      <td>0.0</td>\n",
       "      <td>0.0</td>\n",
       "      <td>0.0</td>\n",
       "      <td>0.0</td>\n",
       "      <td>0.0</td>\n",
       "      <td>...</td>\n",
       "      <td>0.0</td>\n",
       "      <td>0.0</td>\n",
       "      <td>0.0</td>\n",
       "      <td>0.0</td>\n",
       "      <td>0.0</td>\n",
       "      <td>0.000000</td>\n",
       "      <td>0.000000</td>\n",
       "      <td>1</td>\n",
       "      <td>26</td>\n",
       "      <td>57</td>\n",
       "    </tr>\n",
       "    <tr>\n",
       "      <th>119</th>\n",
       "      <td>0.0</td>\n",
       "      <td>0.0</td>\n",
       "      <td>0.0</td>\n",
       "      <td>0.0</td>\n",
       "      <td>0.0</td>\n",
       "      <td>0.0</td>\n",
       "      <td>0.0</td>\n",
       "      <td>0.0</td>\n",
       "      <td>0.0</td>\n",
       "      <td>0.0</td>\n",
       "      <td>...</td>\n",
       "      <td>0.0</td>\n",
       "      <td>0.0</td>\n",
       "      <td>0.0</td>\n",
       "      <td>0.0</td>\n",
       "      <td>0.0</td>\n",
       "      <td>0.000000</td>\n",
       "      <td>0.000000</td>\n",
       "      <td>1</td>\n",
       "      <td>26</td>\n",
       "      <td>57</td>\n",
       "    </tr>\n",
       "  </tbody>\n",
       "</table>\n",
       "<p>5 rows × 155 columns</p>\n",
       "</div>"
      ],
      "text/plain": [
       "     wood_add_value  wood_reduce_value  stone_add_value  stone_reduce_value  \\\n",
       "25          30000.0            97200.0          20000.0                 0.0   \n",
       "40        1111744.0          1137687.0         491331.0            790208.0   \n",
       "47         249050.0           173248.0          70841.0            117012.0   \n",
       "86              0.0                0.0              0.0                 0.0   \n",
       "119             0.0                0.0              0.0                 0.0   \n",
       "\n",
       "     ivory_add_value  ivory_reduce_value  meat_add_value  meat_reduce_value  \\\n",
       "25               0.0                 0.0        160500.0            80392.0   \n",
       "40           77000.0                 0.0       1457249.0           708483.0   \n",
       "47           55000.0                 0.0        206366.0            82205.0   \n",
       "86               0.0                 0.0             0.0                0.0   \n",
       "119              0.0                 0.0             0.0                0.0   \n",
       "\n",
       "     magic_add_value  magic_reduce_value         ...           wound_med_rate  \\\n",
       "25           12000.0                 0.0         ...                      0.0   \n",
       "40          217455.0            162987.0         ...                      0.0   \n",
       "47           29902.0             88064.0         ...                      0.0   \n",
       "86               0.0                 0.0         ...                      0.0   \n",
       "119              0.0                 0.0         ...                      0.0   \n",
       "\n",
       "     accelerate_add_mean  accelerate_add_med  accelerate_reduce_mean  \\\n",
       "25                 100.0                75.0                     0.0   \n",
       "40                 631.2               618.0                   322.8   \n",
       "47                 226.8                45.0                   415.8   \n",
       "86                   0.0                 0.0                     0.0   \n",
       "119                  0.0                 0.0                     0.0   \n",
       "\n",
       "     accelerate_reduce_med  accelerate_mean_rate  accelerate_med_rate  \\\n",
       "25                     0.0              0.000000             0.000000   \n",
       "40                   500.0              0.510598             0.807754   \n",
       "47                     0.0              1.825285             0.000000   \n",
       "86                     0.0              0.000000             0.000000   \n",
       "119                    0.0              0.000000             0.000000   \n",
       "\n",
       "     register_time_month  register_time_day  register_time_count  \n",
       "25                     1                 26                   57  \n",
       "40                     1                 26                   57  \n",
       "47                     1                 26                   57  \n",
       "86                     1                 26                   57  \n",
       "119                    1                 26                   57  \n",
       "\n",
       "[5 rows x 155 columns]"
      ]
     },
     "execution_count": 18,
     "metadata": {},
     "output_type": "execute_result"
    }
   ],
   "source": [
    "classify_train.head()"
   ]
  },
  {
   "cell_type": "code",
   "execution_count": 19,
   "metadata": {
    "ExecuteTime": {
     "end_time": "2018-10-23T02:57:40.156331Z",
     "start_time": "2018-10-23T02:57:40.091327Z"
    }
   },
   "outputs": [
    {
     "data": {
      "text/plain": [
       "(41439, 159)"
      ]
     },
     "execution_count": 19,
     "metadata": {},
     "output_type": "execute_result"
    }
   ],
   "source": [
    "train.shape"
   ]
  },
  {
   "cell_type": "code",
   "execution_count": 20,
   "metadata": {
    "ExecuteTime": {
     "end_time": "2018-10-23T02:57:41.057383Z",
     "start_time": "2018-10-23T02:57:40.158331Z"
    }
   },
   "outputs": [
    {
     "name": "stderr",
     "output_type": "stream",
     "text": [
      "D:\\ProgramData\\Anaconda3\\lib\\site-packages\\sklearn\\cross_validation.py:41: DeprecationWarning: This module was deprecated in version 0.18 in favor of the model_selection module into which all the refactored classes and functions are moved. Also note that the interface of the new CV iterators are different from that of this module. This module will be removed in 0.20.\n",
      "  \"This module will be removed in 0.20.\", DeprecationWarning)\n"
     ]
    }
   ],
   "source": [
    "from sklearn.model_selection import GridSearchCV\n",
    "from xgboost import XGBClassifier\n",
    "from sklearn.externals import joblib\n",
    "from sklearn.metrics import classification_report,accuracy_score,confusion_matrix\n",
    "from sklearn.cross_validation import train_test_split,cross_val_score\n",
    "import lightgbm  as lgb"
   ]
  },
  {
   "cell_type": "code",
   "execution_count": 21,
   "metadata": {
    "ExecuteTime": {
     "end_time": "2018-10-23T02:57:41.541410Z",
     "start_time": "2018-10-23T02:57:41.061383Z"
    }
   },
   "outputs": [],
   "source": [
    "# classify_train=train.iloc[:,1:-4]\n",
    "cl_t = classify_train.iloc[:, :-3].drop_duplicates()\n",
    "X_train,X_test,y_train,y_test=train_test_split(cl_t,train.loc[cl_t.index,'new_pay_label'],test_size=0.2,random_state=13)\n"
   ]
  },
  {
   "cell_type": "code",
   "execution_count": 22,
   "metadata": {
    "ExecuteTime": {
     "end_time": "2018-10-23T02:57:58.516381Z",
     "start_time": "2018-10-23T02:57:41.542410Z"
    }
   },
   "outputs": [
    {
     "name": "stdout",
     "output_type": "stream",
     "text": [
      "Fitting 3 folds for each of 1 candidates, totalling 3 fits\n"
     ]
    },
    {
     "name": "stderr",
     "output_type": "stream",
     "text": [
      "[Parallel(n_jobs=4)]: Done   3 out of   3 | elapsed:   12.2s finished\n"
     ]
    },
    {
     "name": "stdout",
     "output_type": "stream",
     "text": [
      "准确率 0.7771931971124434\n",
      "混淆矩阵 [[4576 1302]\n",
      " [ 519 1776]]\n",
      "分类报告              precision    recall  f1-score   support\n",
      "\n",
      "          0       0.90      0.78      0.83      5878\n",
      "          1       0.58      0.77      0.66      2295\n",
      "\n",
      "avg / total       0.81      0.78      0.79      8173\n",
      "\n"
     ]
    },
    {
     "name": "stderr",
     "output_type": "stream",
     "text": [
      "D:\\ProgramData\\Anaconda3\\lib\\site-packages\\sklearn\\preprocessing\\label.py:151: DeprecationWarning: The truth value of an empty array is ambiguous. Returning False, but in future this will result in an error. Use `array.size > 0` to check that an array is not empty.\n",
      "  if diff:\n"
     ]
    }
   ],
   "source": [
    "model44= GridSearchCV(\n",
    "    estimator=lgb.LGBMClassifier(),\n",
    "    param_grid={\n",
    "        'num_leaves':[114],\n",
    "        'n_estimators': [1000],\n",
    "        'learning_rate': [0.064],\n",
    "        'max_depth': [3],\n",
    "        'subsample': [1],\n",
    "         'subsample': [0.8],\n",
    "        'colsample_bytree': [0.56],\n",
    "        'scale_pos_weight': [2.5, ],\n",
    "#         'min_child_weight': [2, ]\n",
    "    },\n",
    "    scoring='f1',\n",
    "    cv=3,\n",
    "    n_jobs=4,\n",
    "    verbose=1).fit(X_train,y_train)\n",
    "\n",
    "ypred44=model44.predict(X_test)\n",
    "predictions=ypred44\n",
    "print('准确率',accuracy_score(y_test,predictions))\n",
    "print('混淆矩阵',confusion_matrix(y_test,predictions))\n",
    "print('分类报告',classification_report(y_test,predictions))"
   ]
  },
  {
   "cell_type": "code",
   "execution_count": 23,
   "metadata": {
    "ExecuteTime": {
     "end_time": "2018-10-23T03:14:46.399749Z",
     "start_time": "2018-10-23T03:14:46.384149Z"
    }
   },
   "outputs": [],
   "source": [
    "from xgboost import XGBRegressor"
   ]
  },
  {
   "cell_type": "code",
   "execution_count": 24,
   "metadata": {
    "ExecuteTime": {
     "end_time": "2018-10-23T03:14:58.742712Z",
     "start_time": "2018-10-23T03:14:54.886892Z"
    }
   },
   "outputs": [],
   "source": [
    "lgbm2=lgb.LGBMClassifier(boosting_type='gbdt',\n",
    "nthread=4, \n",
    "silent=True,\n",
    "n_estimators= 1000,\n",
    "learning_rate= 0.064,\n",
    "max_depth= 3,\n",
    "subsample= 0.8,\n",
    "colsample_bytree= 0.56,\n",
    "scale_pos_weight=2.5).fit(X_train,y_train)"
   ]
  },
  {
   "cell_type": "code",
   "execution_count": 25,
   "metadata": {
    "ExecuteTime": {
     "end_time": "2018-10-23T03:14:58.837718Z",
     "start_time": "2018-10-23T03:14:58.743712Z"
    }
   },
   "outputs": [
    {
     "data": {
      "text/html": [
       "<div>\n",
       "<style scoped>\n",
       "    .dataframe tbody tr th:only-of-type {\n",
       "        vertical-align: middle;\n",
       "    }\n",
       "\n",
       "    .dataframe tbody tr th {\n",
       "        vertical-align: top;\n",
       "    }\n",
       "\n",
       "    .dataframe thead th {\n",
       "        text-align: right;\n",
       "    }\n",
       "</style>\n",
       "<table border=\"1\" class=\"dataframe\">\n",
       "  <thead>\n",
       "    <tr style=\"text-align: right;\">\n",
       "      <th></th>\n",
       "      <th>importance</th>\n",
       "    </tr>\n",
       "  </thead>\n",
       "  <tbody>\n",
       "    <tr>\n",
       "      <th>103</th>\n",
       "      <td>204</td>\n",
       "    </tr>\n",
       "    <tr>\n",
       "      <th>118</th>\n",
       "      <td>157</td>\n",
       "    </tr>\n",
       "    <tr>\n",
       "      <th>117</th>\n",
       "      <td>130</td>\n",
       "    </tr>\n",
       "    <tr>\n",
       "      <th>119</th>\n",
       "      <td>125</td>\n",
       "    </tr>\n",
       "    <tr>\n",
       "      <th>127</th>\n",
       "      <td>120</td>\n",
       "    </tr>\n",
       "    <tr>\n",
       "      <th>30</th>\n",
       "      <td>120</td>\n",
       "    </tr>\n",
       "    <tr>\n",
       "      <th>26</th>\n",
       "      <td>115</td>\n",
       "    </tr>\n",
       "    <tr>\n",
       "      <th>104</th>\n",
       "      <td>111</td>\n",
       "    </tr>\n",
       "    <tr>\n",
       "      <th>110</th>\n",
       "      <td>110</td>\n",
       "    </tr>\n",
       "    <tr>\n",
       "      <th>28</th>\n",
       "      <td>106</td>\n",
       "    </tr>\n",
       "  </tbody>\n",
       "</table>\n",
       "</div>"
      ],
      "text/plain": [
       "     importance\n",
       "103         204\n",
       "118         157\n",
       "117         130\n",
       "119         125\n",
       "127         120\n",
       "30          120\n",
       "26          115\n",
       "104         111\n",
       "110         110\n",
       "28          106"
      ]
     },
     "execution_count": 25,
     "metadata": {},
     "output_type": "execute_result"
    }
   ],
   "source": [
    "df_fi=pd.DataFrame()\n",
    "# df_fi['name']=lgbm2.feature_name()\n",
    "df_fi['importance']=lgbm2.feature_importances_\n",
    "df_fi.sort_values(by=['importance'],axis=0,ascending=False).head(10)"
   ]
  },
  {
   "cell_type": "code",
   "execution_count": 26,
   "metadata": {
    "ExecuteTime": {
     "end_time": "2018-10-23T03:15:00.549005Z",
     "start_time": "2018-10-23T03:14:59.518347Z"
    }
   },
   "outputs": [
    {
     "name": "stdout",
     "output_type": "stream",
     "text": [
      "Fitting 3 folds for each of 1 candidates, totalling 3 fits\n",
      "[CV] colsample_bytree=0.5, learning_rate=0.05, max_depth=2, n_estimators=80, reg_alpha=13.4, subsample=1 \n",
      "[CV]  colsample_bytree=0.5, learning_rate=0.05, max_depth=2, n_estimators=80, reg_alpha=13.4, subsample=1, score=-2039.189208984375, total=   0.3s\n",
      "[CV] colsample_bytree=0.5, learning_rate=0.05, max_depth=2, n_estimators=80, reg_alpha=13.4, subsample=1 \n",
      "[CV]  colsample_bytree=0.5, learning_rate=0.05, max_depth=2, n_estimators=80, reg_alpha=13.4, subsample=1, score=-1939.345703125, total=   0.1s\n",
      "[CV] colsample_bytree=0.5, learning_rate=0.05, max_depth=2, n_estimators=80, reg_alpha=13.4, subsample=1 \n"
     ]
    },
    {
     "name": "stderr",
     "output_type": "stream",
     "text": [
      "[Parallel(n_jobs=1)]: Done   1 out of   1 | elapsed:    0.3s remaining:    0.0s\n",
      "[Parallel(n_jobs=1)]: Done   2 out of   2 | elapsed:    0.5s remaining:    0.0s\n"
     ]
    },
    {
     "name": "stdout",
     "output_type": "stream",
     "text": [
      "[CV]  colsample_bytree=0.5, learning_rate=0.05, max_depth=2, n_estimators=80, reg_alpha=13.4, subsample=1, score=-2777.177978515625, total=   0.1s\n"
     ]
    },
    {
     "name": "stderr",
     "output_type": "stream",
     "text": [
      "[Parallel(n_jobs=1)]: Done   3 out of   3 | elapsed:    0.7s remaining:    0.0s\n",
      "[Parallel(n_jobs=1)]: Done   3 out of   3 | elapsed:    0.7s finished\n"
     ]
    },
    {
     "name": "stdout",
     "output_type": "stream",
     "text": [
      "47.4537443145628 {'colsample_bytree': 0.5, 'learning_rate': 0.05, 'max_depth': 2, 'n_estimators': 80, 'reg_alpha': 13.4, 'subsample': 1}\n"
     ]
    }
   ],
   "source": [
    "model_reg = GridSearchCV(\n",
    "    estimator=XGBRegressor(),\n",
    "    #     estimator=LinearRegression(),\n",
    "    param_grid={\n",
    "        'n_estimators': [80],\n",
    "        'learning_rate': [0.05],\n",
    "        'max_depth': [2],\n",
    "        'subsample': [1],\n",
    "        'colsample_bytree': [0.5],\n",
    "        'reg_alpha': [13.4],\n",
    "    },\n",
    "    scoring='neg_mean_squared_error',\n",
    "    cv=3,\n",
    "    n_jobs=1,\n",
    "    verbose=4)\n",
    "model_reg.fit(classify_train.iloc[:, [103, 108, 117, 119, 127,30,26,104,110,28]][train['new_pay_label'] == 1],\n",
    "              train.iloc[:, -1][train['new_pay_label'] == 1])\n",
    "# model_reg.fit(cl_t.iloc[:,[105,126,121,132,150]][train.loc[cl_t.index,'new_pay_label']==1],train.iloc[cl_t.index,-1][train.loc[cl_t.index,'new_pay_label']==1])\n",
    "print(np.sqrt(-model_reg.best_score_), model_reg.best_params_)"
   ]
  },
  {
   "cell_type": "code",
   "execution_count": 31,
   "metadata": {
    "ExecuteTime": {
     "end_time": "2018-10-23T03:16:58.557782Z",
     "start_time": "2018-10-23T03:16:58.275766Z"
    }
   },
   "outputs": [
    {
     "name": "stdout",
     "output_type": "stream",
     "text": [
      "Fitting 3 folds for each of 1 candidates, totalling 3 fits\n",
      "[CV] colsample_bytree=0.56, learning_rate=0.05, max_depth=2, n_estimators=80, subsample=0.8 \n",
      "[CV]  colsample_bytree=0.56, learning_rate=0.05, max_depth=2, n_estimators=80, subsample=0.8, score=-2048.98916197549, total=   0.0s\n",
      "[CV] colsample_bytree=0.56, learning_rate=0.05, max_depth=2, n_estimators=80, subsample=0.8 \n",
      "[CV]  colsample_bytree=0.56, learning_rate=0.05, max_depth=2, n_estimators=80, subsample=0.8, score=-1937.4693483972294, total=   0.0s\n",
      "[CV] colsample_bytree=0.56, learning_rate=0.05, max_depth=2, n_estimators=80, subsample=0.8 \n",
      "[CV]  colsample_bytree=0.56, learning_rate=0.05, max_depth=2, n_estimators=80, subsample=0.8, score=-2781.3616382406467, total=   0.0s\n",
      "47.49624815768069 {'colsample_bytree': 0.56, 'learning_rate': 0.05, 'max_depth': 2, 'n_estimators': 80, 'subsample': 0.8}\n"
     ]
    },
    {
     "name": "stderr",
     "output_type": "stream",
     "text": [
      "[Parallel(n_jobs=1)]: Done   1 out of   1 | elapsed:    0.0s remaining:    0.0s\n",
      "[Parallel(n_jobs=1)]: Done   2 out of   2 | elapsed:    0.1s remaining:    0.0s\n",
      "[Parallel(n_jobs=1)]: Done   3 out of   3 | elapsed:    0.1s remaining:    0.0s\n",
      "[Parallel(n_jobs=1)]: Done   3 out of   3 | elapsed:    0.1s finished\n"
     ]
    }
   ],
   "source": [
    "model_reg2 = GridSearchCV(\n",
    "    estimator=lgb.LGBMRegressor( max_bin=128),\n",
    "    #     estimator=LinearRegression(),\n",
    "    param_grid={\n",
    "        'n_estimators': [80],\n",
    "        'learning_rate': [0.05],\n",
    "        'max_depth': [2],\n",
    "        'subsample': [0.8],\n",
    "        'colsample_bytree': [0.56],\n",
    "#         'reg_alpha': [13.4],\n",
    "    },\n",
    "    scoring='neg_mean_squared_error',\n",
    "    cv=3,\n",
    "    n_jobs=1,\n",
    "    verbose=4)\n",
    "model_reg2.fit(classify_train.iloc[:, [103, 108, 117, 119, 127,30,26,104,110,28]][train['new_pay_label'] == 1],\n",
    "              train.iloc[:, -1][train['new_pay_label'] == 1])\n",
    "# model_reg.fit(cl_t.iloc[:,[105,126,121,132,150]][train.loc[cl_t.index,'new_pay_label']==1],train.iloc[cl_t.index,-1][train.loc[cl_t.index,'new_pay_label']==1])\n",
    "print(np.sqrt(-model_reg2.best_score_), model_reg2.best_params_)"
   ]
  },
  {
   "cell_type": "code",
   "execution_count": 32,
   "metadata": {
    "ExecuteTime": {
     "end_time": "2018-10-23T03:17:01.198239Z",
     "start_time": "2018-10-23T03:17:01.180238Z"
    }
   },
   "outputs": [
    {
     "name": "stderr",
     "output_type": "stream",
     "text": [
      "D:\\ProgramData\\Anaconda3\\lib\\site-packages\\ipykernel_launcher.py:1: UserWarning: Boolean Series key will be reindexed to match DataFrame index.\n",
      "  \"\"\"Entry point for launching an IPython kernel.\n"
     ]
    },
    {
     "data": {
      "text/plain": [
       "(9009, 10)"
      ]
     },
     "execution_count": 32,
     "metadata": {},
     "output_type": "execute_result"
    }
   ],
   "source": [
    "X_train.iloc[:, [103, 108, 117, 119, 127,30,26,104,110,28]][train['new_pay_label'] == 1].shape"
   ]
  },
  {
   "cell_type": "code",
   "execution_count": 33,
   "metadata": {
    "ExecuteTime": {
     "end_time": "2018-10-23T03:17:03.180512Z",
     "start_time": "2018-10-23T03:17:03.128910Z"
    }
   },
   "outputs": [],
   "source": [
    "X_train2,X_test2,y_train2,y_test2=train_test_split(cl_t,train.loc[cl_t.index,'prediction_pay_price'],test_size=0.2,random_state=13)"
   ]
  },
  {
   "cell_type": "code",
   "execution_count": 34,
   "metadata": {
    "ExecuteTime": {
     "end_time": "2018-10-23T03:17:03.620537Z",
     "start_time": "2018-10-23T03:17:03.608536Z"
    }
   },
   "outputs": [
    {
     "data": {
      "text/plain": [
       "(9009,)"
      ]
     },
     "execution_count": 34,
     "metadata": {},
     "output_type": "execute_result"
    }
   ],
   "source": [
    "y_train2[train['new_pay_label'] == 1].shape"
   ]
  },
  {
   "cell_type": "code",
   "execution_count": 35,
   "metadata": {
    "ExecuteTime": {
     "end_time": "2018-10-23T03:17:04.808170Z",
     "start_time": "2018-10-23T03:17:04.776970Z"
    }
   },
   "outputs": [],
   "source": [
    "################# for test data"
   ]
  },
  {
   "cell_type": "code",
   "execution_count": 36,
   "metadata": {
    "ExecuteTime": {
     "end_time": "2018-10-23T03:17:05.673202Z",
     "start_time": "2018-10-23T03:17:05.595999Z"
    }
   },
   "outputs": [
    {
     "data": {
      "text/html": [
       "<div>\n",
       "<style scoped>\n",
       "    .dataframe tbody tr th:only-of-type {\n",
       "        vertical-align: middle;\n",
       "    }\n",
       "\n",
       "    .dataframe tbody tr th {\n",
       "        vertical-align: top;\n",
       "    }\n",
       "\n",
       "    .dataframe thead th {\n",
       "        text-align: right;\n",
       "    }\n",
       "</style>\n",
       "<table border=\"1\" class=\"dataframe\">\n",
       "  <thead>\n",
       "    <tr style=\"text-align: right;\">\n",
       "      <th></th>\n",
       "      <th>user_id</th>\n",
       "      <th>register_time</th>\n",
       "      <th>wood_add_value</th>\n",
       "      <th>wood_reduce_value</th>\n",
       "      <th>stone_add_value</th>\n",
       "      <th>stone_reduce_value</th>\n",
       "      <th>ivory_add_value</th>\n",
       "      <th>ivory_reduce_value</th>\n",
       "      <th>meat_add_value</th>\n",
       "      <th>meat_reduce_value</th>\n",
       "      <th>...</th>\n",
       "      <th>sr_rss_help_bonus_level</th>\n",
       "      <th>pvp_battle_count</th>\n",
       "      <th>pvp_lanch_count</th>\n",
       "      <th>pvp_win_count</th>\n",
       "      <th>pve_battle_count</th>\n",
       "      <th>pve_lanch_count</th>\n",
       "      <th>pve_win_count</th>\n",
       "      <th>avg_online_minutes</th>\n",
       "      <th>pay_price</th>\n",
       "      <th>pay_count</th>\n",
       "    </tr>\n",
       "  </thead>\n",
       "  <tbody>\n",
       "    <tr>\n",
       "      <th>0</th>\n",
       "      <td>14933</td>\n",
       "      <td>2018-03-08 20:27:57</td>\n",
       "      <td>166415.0</td>\n",
       "      <td>138362.0</td>\n",
       "      <td>0.0</td>\n",
       "      <td>0.0</td>\n",
       "      <td>0.0</td>\n",
       "      <td>0.0</td>\n",
       "      <td>258522.0</td>\n",
       "      <td>90142.0</td>\n",
       "      <td>...</td>\n",
       "      <td>0</td>\n",
       "      <td>0</td>\n",
       "      <td>0</td>\n",
       "      <td>0</td>\n",
       "      <td>1</td>\n",
       "      <td>1</td>\n",
       "      <td>1</td>\n",
       "      <td>8.000000</td>\n",
       "      <td>0.0</td>\n",
       "      <td>0</td>\n",
       "    </tr>\n",
       "    <tr>\n",
       "      <th>1</th>\n",
       "      <td>14934</td>\n",
       "      <td>2018-03-08 20:29:42</td>\n",
       "      <td>10000.0</td>\n",
       "      <td>600.0</td>\n",
       "      <td>0.0</td>\n",
       "      <td>0.0</td>\n",
       "      <td>0.0</td>\n",
       "      <td>0.0</td>\n",
       "      <td>10000.0</td>\n",
       "      <td>400.0</td>\n",
       "      <td>...</td>\n",
       "      <td>0</td>\n",
       "      <td>0</td>\n",
       "      <td>0</td>\n",
       "      <td>0</td>\n",
       "      <td>0</td>\n",
       "      <td>0</td>\n",
       "      <td>0</td>\n",
       "      <td>0.166667</td>\n",
       "      <td>0.0</td>\n",
       "      <td>0</td>\n",
       "    </tr>\n",
       "    <tr>\n",
       "      <th>2</th>\n",
       "      <td>14935</td>\n",
       "      <td>2018-03-08 20:30:13</td>\n",
       "      <td>10000.0</td>\n",
       "      <td>3700.0</td>\n",
       "      <td>0.0</td>\n",
       "      <td>0.0</td>\n",
       "      <td>0.0</td>\n",
       "      <td>0.0</td>\n",
       "      <td>10000.0</td>\n",
       "      <td>2000.0</td>\n",
       "      <td>...</td>\n",
       "      <td>0</td>\n",
       "      <td>0</td>\n",
       "      <td>0</td>\n",
       "      <td>0</td>\n",
       "      <td>0</td>\n",
       "      <td>0</td>\n",
       "      <td>0</td>\n",
       "      <td>17.000000</td>\n",
       "      <td>0.0</td>\n",
       "      <td>0</td>\n",
       "    </tr>\n",
       "    <tr>\n",
       "      <th>3</th>\n",
       "      <td>14936</td>\n",
       "      <td>2018-03-08 20:31:41</td>\n",
       "      <td>210000.0</td>\n",
       "      <td>0.0</td>\n",
       "      <td>200000.0</td>\n",
       "      <td>0.0</td>\n",
       "      <td>200000.0</td>\n",
       "      <td>0.0</td>\n",
       "      <td>610000.0</td>\n",
       "      <td>0.0</td>\n",
       "      <td>...</td>\n",
       "      <td>0</td>\n",
       "      <td>0</td>\n",
       "      <td>0</td>\n",
       "      <td>0</td>\n",
       "      <td>0</td>\n",
       "      <td>0</td>\n",
       "      <td>0</td>\n",
       "      <td>1.666667</td>\n",
       "      <td>0.0</td>\n",
       "      <td>0</td>\n",
       "    </tr>\n",
       "    <tr>\n",
       "      <th>4</th>\n",
       "      <td>14937</td>\n",
       "      <td>2018-03-08 20:32:07</td>\n",
       "      <td>11500.0</td>\n",
       "      <td>3700.0</td>\n",
       "      <td>0.0</td>\n",
       "      <td>0.0</td>\n",
       "      <td>0.0</td>\n",
       "      <td>0.0</td>\n",
       "      <td>11000.0</td>\n",
       "      <td>2000.0</td>\n",
       "      <td>...</td>\n",
       "      <td>0</td>\n",
       "      <td>0</td>\n",
       "      <td>0</td>\n",
       "      <td>0</td>\n",
       "      <td>0</td>\n",
       "      <td>0</td>\n",
       "      <td>0</td>\n",
       "      <td>0.333333</td>\n",
       "      <td>0.0</td>\n",
       "      <td>0</td>\n",
       "    </tr>\n",
       "  </tbody>\n",
       "</table>\n",
       "<p>5 rows × 108 columns</p>\n",
       "</div>"
      ],
      "text/plain": [
       "   user_id       register_time  wood_add_value  wood_reduce_value  \\\n",
       "0    14933 2018-03-08 20:27:57        166415.0           138362.0   \n",
       "1    14934 2018-03-08 20:29:42         10000.0              600.0   \n",
       "2    14935 2018-03-08 20:30:13         10000.0             3700.0   \n",
       "3    14936 2018-03-08 20:31:41        210000.0                0.0   \n",
       "4    14937 2018-03-08 20:32:07         11500.0             3700.0   \n",
       "\n",
       "   stone_add_value  stone_reduce_value  ivory_add_value  ivory_reduce_value  \\\n",
       "0              0.0                 0.0              0.0                 0.0   \n",
       "1              0.0                 0.0              0.0                 0.0   \n",
       "2              0.0                 0.0              0.0                 0.0   \n",
       "3         200000.0                 0.0         200000.0                 0.0   \n",
       "4              0.0                 0.0              0.0                 0.0   \n",
       "\n",
       "   meat_add_value  meat_reduce_value    ...      sr_rss_help_bonus_level  \\\n",
       "0        258522.0            90142.0    ...                            0   \n",
       "1         10000.0              400.0    ...                            0   \n",
       "2         10000.0             2000.0    ...                            0   \n",
       "3        610000.0                0.0    ...                            0   \n",
       "4         11000.0             2000.0    ...                            0   \n",
       "\n",
       "   pvp_battle_count  pvp_lanch_count  pvp_win_count  pve_battle_count  \\\n",
       "0                 0                0              0                 1   \n",
       "1                 0                0              0                 0   \n",
       "2                 0                0              0                 0   \n",
       "3                 0                0              0                 0   \n",
       "4                 0                0              0                 0   \n",
       "\n",
       "   pve_lanch_count  pve_win_count  avg_online_minutes  pay_price  pay_count  \n",
       "0                1              1            8.000000        0.0          0  \n",
       "1                0              0            0.166667        0.0          0  \n",
       "2                0              0           17.000000        0.0          0  \n",
       "3                0              0            1.666667        0.0          0  \n",
       "4                0              0            0.333333        0.0          0  \n",
       "\n",
       "[5 rows x 108 columns]"
      ]
     },
     "execution_count": 36,
     "metadata": {},
     "output_type": "execute_result"
    }
   ],
   "source": [
    "data_test.head()"
   ]
  },
  {
   "cell_type": "code",
   "execution_count": 48,
   "metadata": {
    "ExecuteTime": {
     "end_time": "2018-10-23T06:55:32.614896Z",
     "start_time": "2018-10-23T06:55:32.375882Z"
    }
   },
   "outputs": [],
   "source": [
    "test_user=data_test.iloc[:,:2]\n",
    "test_data=data_test.iloc[:,2:]"
   ]
  },
  {
   "cell_type": "code",
   "execution_count": 49,
   "metadata": {
    "ExecuteTime": {
     "end_time": "2018-10-23T06:55:39.218618Z",
     "start_time": "2018-10-23T06:55:39.207618Z"
    }
   },
   "outputs": [
    {
     "data": {
      "text/plain": [
       "(828934, 106)"
      ]
     },
     "execution_count": 49,
     "metadata": {},
     "output_type": "execute_result"
    }
   ],
   "source": [
    "test_data.shape"
   ]
  },
  {
   "cell_type": "code",
   "execution_count": 50,
   "metadata": {
    "ExecuteTime": {
     "end_time": "2018-10-23T06:55:42.660966Z",
     "start_time": "2018-10-23T06:55:42.524958Z"
    }
   },
   "outputs": [],
   "source": [
    "column_name2=test_data.columns.values[:32].tolist()\n",
    "for i in range(len(column_name2)):\n",
    "    if (i+2) % 2 == 0 :\n",
    "        name=column_name2[i].replace('value','rate')\n",
    "        #print(name)\n",
    "        test_data[name]=test_data[column_name2[i]] / (test_data[column_name2[i+1]]+1)"
   ]
  },
  {
   "cell_type": "code",
   "execution_count": 51,
   "metadata": {
    "ExecuteTime": {
     "end_time": "2018-10-23T06:59:19.228897Z",
     "start_time": "2018-10-23T06:59:19.216896Z"
    }
   },
   "outputs": [
    {
     "data": {
      "text/plain": [
       "(828934, 122)"
      ]
     },
     "execution_count": 51,
     "metadata": {},
     "output_type": "execute_result"
    }
   ],
   "source": [
    "test_data.shape"
   ]
  },
  {
   "cell_type": "code",
   "execution_count": 52,
   "metadata": {
    "ExecuteTime": {
     "end_time": "2018-10-23T07:13:42.427208Z",
     "start_time": "2018-10-23T06:59:27.123287Z"
    }
   },
   "outputs": [],
   "source": [
    "test_data['pvp_lanch_battle_rate']=test_data['pvp_battle_count']/(test_data['pvp_lanch_count']+1)\n",
    "test_data['pvp_win_battle_rate']=test_data['pvp_battle_count']/(test_data['pvp_win_count']+1)\n",
    "test_data['pvp_win_lanch_rate']=test_data['pvp_lanch_count']/(test_data['pvp_win_count']+1)\n",
    "test_data['pve_win_battle_rate']=test_data['pvp_battle_count']/(test_data['pve_win_count']+1)\n",
    "test_data['pay_price_rate']=test_data['pay_count']/(test_data['pay_price']+1)\n",
    "test_data['price_online_minutes_rate']=test_data['avg_online_minutes']/(test_data['pay_price']+1)\n",
    "\n",
    "\n",
    "test_data['resource_add_mean']=test_data.iloc[:,[0,2,4,6,8]].apply(lambda x:x.mean(),axis=1)\n",
    "test_data['resource_add_med']=test_data.iloc[:,[0,2,4,6,8]].apply(lambda x:x.median(),axis=1)\n",
    "test_data['resource_reduce_mean']=test_data.iloc[:,[1, 3, 5, 7, 9]].apply(lambda x:x.mean(),axis=1)\n",
    "test_data['resource_reduce_med']=test_data.iloc[:,[1, 3, 5, 7, 9]].apply(lambda x:x.median(),axis=1)\n",
    "\n",
    "test_data['resource_mean_rate']=test_data['resource_reduce_mean']/(test_data['resource_add_mean']+1)\n",
    "test_data['resource_med_rate']=test_data['resource_reduce_med']/(test_data['resource_add_med']+1)\n",
    "\n",
    "test_data['army_add_mean']=test_data.iloc[:,[10, 12, 14]].apply(lambda x:x.mean(),axis=1)\n",
    "test_data['army_add_med']=test_data.iloc[:,[10, 12, 14]].apply(lambda x:x.median(),axis=1)\n",
    "test_data['army_reduce_mean']=test_data.iloc[:,[11, 13, 15]].apply(lambda x:x.mean(),axis=1)\n",
    "test_data['army_reduce_med']=test_data.iloc[:,[11, 13, 15]].apply(lambda x:x.median(),axis=1)\n",
    "\n",
    "test_data['army_mean_rate']=test_data['army_reduce_mean']/(test_data['army_add_mean']+1)\n",
    "test_data['army_med_rate']=test_data['army_reduce_med']/(test_data['army_add_med']+1)\n",
    "\n",
    "test_data['wound_add_mean'] = test_data.iloc[:, [16, 18, 20]].apply(lambda x: x.mean(), axis=1)\n",
    "test_data['wound_add_med'] = test_data.iloc[:, [16, 18, 20]].apply(lambda x: x.median(), axis=1)\n",
    "test_data['wound_reduce_mean'] = test_data.iloc[:, [17, 19, 21]].apply(lambda x: x.mean(), axis=1)\n",
    "test_data['wound_reduce_med'] = test_data.iloc[:, [17, 19, 21]].apply(lambda x: x.median(), axis=1)\n",
    "\n",
    "test_data['wound_mean_rate']=test_data['wound_reduce_mean']/(test_data['wound_add_mean']+1)\n",
    "test_data['wound_med_rate']=test_data['wound_reduce_med']/(test_data['wound_add_med']+1)\n",
    "\n",
    "test_data['accelerate_add_mean'] = test_data.iloc[:, [22, 24, 26, 28, 30]].apply(lambda x: x.mean(), axis=1)\n",
    "test_data['accelerate_add_med'] = test_data.iloc[:, [22, 24, 26, 28, 30]].apply(lambda x: x.median(), axis=1)\n",
    "test_data['accelerate_reduce_mean'] = test_data.iloc[:, [23, 25, 27, 29, 31]].apply(lambda x: x.mean(), axis=1)\n",
    "test_data['accelerate_reduce_med'] = test_data.iloc[:, [23, 25, 27, 29, 31]].apply(lambda x: x.median(), axis=1)\n",
    "\n",
    "test_data['accelerate_mean_rate']=test_data['accelerate_reduce_mean']/(test_data['accelerate_add_mean']+1)\n",
    "test_data['accelerate_med_rate']=test_data['accelerate_reduce_med']/(test_data['accelerate_add_med']+1)\n",
    "\n",
    "# classify_test=test.iloc[:,0:-3]"
   ]
  },
  {
   "cell_type": "code",
   "execution_count": 38,
   "metadata": {
    "ExecuteTime": {
     "end_time": "2018-10-23T03:33:31.632029Z",
     "start_time": "2018-10-23T03:33:31.624029Z"
    }
   },
   "outputs": [
    {
     "data": {
      "text/plain": [
       "(828934, 136)"
      ]
     },
     "execution_count": 38,
     "metadata": {},
     "output_type": "execute_result"
    }
   ],
   "source": [
    "test_data.shape"
   ]
  },
  {
   "cell_type": "code",
   "execution_count": 58,
   "metadata": {
    "ExecuteTime": {
     "end_time": "2018-10-23T07:43:00.675838Z",
     "start_time": "2018-10-23T07:42:50.572976Z"
    }
   },
   "outputs": [],
   "source": [
    "test_user['register_time_month']=pd.to_numeric(test_user.register_time.apply(lambda x:str(x)).str[5:7])\n",
    "test_user['register_time_day']=pd.to_numeric(test_user.register_time.apply(lambda x:str(x)).str[8:10])\n",
    "test_user.drop(labels=['register_time'],axis=1,inplace=True)\n",
    "test_user['register_time_count']=test_user['register_time_month']*31+test_user['register_time_day']\n",
    "test_data['register_time_month']=test_user['register_time_month']\n",
    "test_data['register_time_day']=test_user['register_time_day']\n",
    "test_data['register_time_count']=test_user['register_time_count']\n",
    "test = test_data[test_data['pay_price'] > 0]"
   ]
  },
  {
   "cell_type": "code",
   "execution_count": 59,
   "metadata": {
    "ExecuteTime": {
     "end_time": "2018-10-23T07:43:03.200922Z",
     "start_time": "2018-10-23T07:43:03.185322Z"
    }
   },
   "outputs": [
    {
     "data": {
      "text/plain": [
       "(828934, 155)"
      ]
     },
     "execution_count": 59,
     "metadata": {},
     "output_type": "execute_result"
    }
   ],
   "source": [
    "test_data.shape"
   ]
  },
  {
   "cell_type": "code",
   "execution_count": 60,
   "metadata": {
    "ExecuteTime": {
     "end_time": "2018-10-23T07:43:04.287355Z",
     "start_time": "2018-10-23T07:43:04.261754Z"
    }
   },
   "outputs": [],
   "source": [
    "classify_test=test.iloc[:,:-3]"
   ]
  },
  {
   "cell_type": "code",
   "execution_count": 61,
   "metadata": {
    "ExecuteTime": {
     "end_time": "2018-10-23T07:43:05.936785Z",
     "start_time": "2018-10-23T07:43:05.921185Z"
    }
   },
   "outputs": [
    {
     "data": {
      "text/plain": [
       "(19549, 152)"
      ]
     },
     "execution_count": 61,
     "metadata": {},
     "output_type": "execute_result"
    }
   ],
   "source": [
    "classify_test.shape"
   ]
  },
  {
   "cell_type": "code",
   "execution_count": 62,
   "metadata": {
    "ExecuteTime": {
     "end_time": "2018-10-23T07:44:13.072113Z",
     "start_time": "2018-10-23T07:44:12.588887Z"
    }
   },
   "outputs": [
    {
     "name": "stderr",
     "output_type": "stream",
     "text": [
      "D:\\ProgramData\\Anaconda3\\lib\\site-packages\\sklearn\\preprocessing\\label.py:151: DeprecationWarning: The truth value of an empty array is ambiguous. Returning False, but in future this will result in an error. Use `array.size > 0` to check that an array is not empty.\n",
      "  if diff:\n"
     ]
    }
   ],
   "source": [
    "test_pred=model44.predict(classify_test)\n",
    "classify_test2=classify_test\n",
    "classify_test2['new_pay_label']=test_pred"
   ]
  },
  {
   "cell_type": "code",
   "execution_count": 63,
   "metadata": {
    "ExecuteTime": {
     "end_time": "2018-10-23T07:44:18.258745Z",
     "start_time": "2018-10-23T07:44:18.252745Z"
    }
   },
   "outputs": [
    {
     "data": {
      "text/plain": [
       "(19549, 153)"
      ]
     },
     "execution_count": 63,
     "metadata": {},
     "output_type": "execute_result"
    }
   ],
   "source": [
    "classify_test2.shape"
   ]
  },
  {
   "cell_type": "code",
   "execution_count": 64,
   "metadata": {
    "ExecuteTime": {
     "end_time": "2018-10-23T07:44:48.231930Z",
     "start_time": "2018-10-23T07:44:48.192730Z"
    }
   },
   "outputs": [
    {
     "data": {
      "text/plain": [
       "(7131, 10)"
      ]
     },
     "execution_count": 64,
     "metadata": {},
     "output_type": "execute_result"
    }
   ],
   "source": [
    "classify_test2[classify_test2['new_pay_label']==1].iloc[:, [103, 108, 117, 119, 127,30,26,104,110,28]].shape"
   ]
  },
  {
   "cell_type": "code",
   "execution_count": 65,
   "metadata": {
    "ExecuteTime": {
     "end_time": "2018-10-23T07:44:55.674347Z",
     "start_time": "2018-10-23T07:44:55.642746Z"
    }
   },
   "outputs": [],
   "source": [
    "test_reg_pred=model_reg2.predict(classify_test2[classify_test2['new_pay_label']==1].iloc[:, [103, 108, 117, 119, 127,30,26,104,110,28]])"
   ]
  },
  {
   "cell_type": "code",
   "execution_count": 66,
   "metadata": {
    "ExecuteTime": {
     "end_time": "2018-10-23T07:45:02.704192Z",
     "start_time": "2018-10-23T07:45:02.688592Z"
    }
   },
   "outputs": [],
   "source": [
    "result1=classify_test2"
   ]
  },
  {
   "cell_type": "code",
   "execution_count": 67,
   "metadata": {
    "ExecuteTime": {
     "end_time": "2018-10-23T07:45:18.241894Z",
     "start_time": "2018-10-23T07:45:18.209694Z"
    }
   },
   "outputs": [],
   "source": [
    "result1.loc[result1['new_pay_label']==1,'prediction_pay_price']=test_reg_pred"
   ]
  },
  {
   "cell_type": "code",
   "execution_count": 68,
   "metadata": {
    "ExecuteTime": {
     "end_time": "2018-10-23T07:45:26.021511Z",
     "start_time": "2018-10-23T07:45:25.977310Z"
    }
   },
   "outputs": [
    {
     "data": {
      "text/html": [
       "<div>\n",
       "<style scoped>\n",
       "    .dataframe tbody tr th:only-of-type {\n",
       "        vertical-align: middle;\n",
       "    }\n",
       "\n",
       "    .dataframe tbody tr th {\n",
       "        vertical-align: top;\n",
       "    }\n",
       "\n",
       "    .dataframe thead th {\n",
       "        text-align: right;\n",
       "    }\n",
       "</style>\n",
       "<table border=\"1\" class=\"dataframe\">\n",
       "  <thead>\n",
       "    <tr style=\"text-align: right;\">\n",
       "      <th></th>\n",
       "      <th>pay_price</th>\n",
       "      <th>prediction_pay_price</th>\n",
       "    </tr>\n",
       "  </thead>\n",
       "  <tbody>\n",
       "    <tr>\n",
       "      <th>470</th>\n",
       "      <td>93.900002</td>\n",
       "      <td>3.440450</td>\n",
       "    </tr>\n",
       "    <tr>\n",
       "      <th>558</th>\n",
       "      <td>9.940000</td>\n",
       "      <td>7.700574</td>\n",
       "    </tr>\n",
       "    <tr>\n",
       "      <th>559</th>\n",
       "      <td>16.959999</td>\n",
       "      <td>4.305765</td>\n",
       "    </tr>\n",
       "    <tr>\n",
       "      <th>768</th>\n",
       "      <td>5.950000</td>\n",
       "      <td>10.174584</td>\n",
       "    </tr>\n",
       "    <tr>\n",
       "      <th>908</th>\n",
       "      <td>26.930000</td>\n",
       "      <td>3.903112</td>\n",
       "    </tr>\n",
       "  </tbody>\n",
       "</table>\n",
       "</div>"
      ],
      "text/plain": [
       "     pay_price  prediction_pay_price\n",
       "470  93.900002              3.440450\n",
       "558   9.940000              7.700574\n",
       "559  16.959999              4.305765\n",
       "768   5.950000             10.174584\n",
       "908  26.930000              3.903112"
      ]
     },
     "execution_count": 68,
     "metadata": {},
     "output_type": "execute_result"
    }
   ],
   "source": [
    "result1[result1['new_pay_label']==1][['pay_price','prediction_pay_price']].head()"
   ]
  },
  {
   "cell_type": "code",
   "execution_count": 69,
   "metadata": {
    "ExecuteTime": {
     "end_time": "2018-10-23T07:45:45.555169Z",
     "start_time": "2018-10-23T07:45:45.539569Z"
    }
   },
   "outputs": [],
   "source": [
    "result1['prediction_pay_price2']=result1['pay_price'] *  result1['prediction_pay_price']"
   ]
  },
  {
   "cell_type": "code",
   "execution_count": 70,
   "metadata": {
    "ExecuteTime": {
     "end_time": "2018-10-23T07:46:09.377891Z",
     "start_time": "2018-10-23T07:46:09.344290Z"
    }
   },
   "outputs": [],
   "source": [
    " result1.loc[result1['new_pay_label'] == 0,'prediction_pay_price2']=result1['pay_price']"
   ]
  },
  {
   "cell_type": "code",
   "execution_count": 71,
   "metadata": {
    "ExecuteTime": {
     "end_time": "2018-10-23T07:46:21.551737Z",
     "start_time": "2018-10-23T07:46:21.539737Z"
    }
   },
   "outputs": [],
   "source": [
    "test_user['prediction_pay_price']=0.0"
   ]
  },
  {
   "cell_type": "code",
   "execution_count": 72,
   "metadata": {
    "ExecuteTime": {
     "end_time": "2018-10-23T07:46:46.038295Z",
     "start_time": "2018-10-23T07:46:45.984692Z"
    }
   },
   "outputs": [],
   "source": [
    "test_user.iloc[(result1['prediction_pay_price2']>0).index,4]=result1['prediction_pay_price2']"
   ]
  },
  {
   "cell_type": "code",
   "execution_count": 73,
   "metadata": {
    "ExecuteTime": {
     "end_time": "2018-10-23T07:47:18.356097Z",
     "start_time": "2018-10-23T07:47:18.277493Z"
    }
   },
   "outputs": [],
   "source": [
    "test_result=pd.DataFrame()\n",
    "test_result['user_id']=test_user.user_id\n",
    "test_result['prediction_pay_price']=test_user.prediction_pay_price"
   ]
  },
  {
   "cell_type": "code",
   "execution_count": 74,
   "metadata": {
    "ExecuteTime": {
     "end_time": "2018-10-23T07:47:30.891016Z",
     "start_time": "2018-10-23T07:47:29.042311Z"
    }
   },
   "outputs": [],
   "source": [
    "result=test_result\n",
    "import datetime\n",
    "nowTime=datetime.datetime.now().strftime('%Y%m%d%H%M%S')\n",
    "name='tf_'+str(nowTime)\n",
    "result.to_csv(\"F:\\\\study\\\\ml\\\\DataSet\\\\Tap4fun\\\\SubMission\\\\\"+name+'.csv',index=False,encoding='utf-8')\n"
   ]
  },
  {
   "cell_type": "code",
   "execution_count": null,
   "metadata": {},
   "outputs": [],
   "source": []
  }
 ],
 "metadata": {
  "kernelspec": {
   "display_name": "Python 3",
   "language": "python",
   "name": "python3"
  },
  "language_info": {
   "codemirror_mode": {
    "name": "ipython",
    "version": 3
   },
   "file_extension": ".py",
   "mimetype": "text/x-python",
   "name": "python",
   "nbconvert_exporter": "python",
   "pygments_lexer": "ipython3",
   "version": "3.6.3"
  }
 },
 "nbformat": 4,
 "nbformat_minor": 2
}
