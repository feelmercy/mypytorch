{
 "cells": [
  {
   "cell_type": "code",
   "execution_count": 1,
   "metadata": {
    "ExecuteTime": {
     "end_time": "2018-10-20T09:05:35.068576Z",
     "start_time": "2018-10-20T09:05:26.452084Z"
    }
   },
   "outputs": [],
   "source": [
    "import numpy as np\n",
    "import pandas as pd\n",
    "from matplotlib import pyplot as plt\n",
    "import seaborn as sns\n",
    "from scipy.stats import norm ,skew,kurtosis\n",
    "from sklearn.preprocessing import StandardScaler\n",
    "from sklearn.metrics import make_scorer,mean_squared_error"
   ]
  },
  {
   "cell_type": "code",
   "execution_count": 2,
   "metadata": {
    "ExecuteTime": {
     "end_time": "2018-10-20T09:06:00.731044Z",
     "start_time": "2018-10-20T09:05:35.073577Z"
    }
   },
   "outputs": [],
   "source": [
    "df_train=pd.read_csv('F:\\\\study\\\\ml\\\\DataSet\\\\Tap4fun\\\\tap_fun_train.csv')"
   ]
  },
  {
   "cell_type": "code",
   "execution_count": 3,
   "metadata": {
    "ExecuteTime": {
     "end_time": "2018-10-20T09:06:12.716730Z",
     "start_time": "2018-10-20T09:06:00.733044Z"
    }
   },
   "outputs": [],
   "source": [
    "c_int=df_train.select_dtypes(include=['int64']).apply(pd.to_numeric,downcast='unsigned')\n",
    "c_float=df_train.select_dtypes(include=['float']).apply(pd.to_numeric,downcast='float')"
   ]
  },
  {
   "cell_type": "code",
   "execution_count": 4,
   "metadata": {
    "ExecuteTime": {
     "end_time": "2018-10-20T09:06:13.328765Z",
     "start_time": "2018-10-20T09:06:12.718730Z"
    }
   },
   "outputs": [],
   "source": [
    "o_df=pd.concat([c_int,c_float],axis=1)\n",
    "column_type=dict(o_df.dtypes.copy())\n",
    "del o_df,c_int,c_float,df_train"
   ]
  },
  {
   "cell_type": "code",
   "execution_count": 5,
   "metadata": {
    "ExecuteTime": {
     "end_time": "2018-10-20T09:06:42.084410Z",
     "start_time": "2018-10-20T09:06:13.330765Z"
    }
   },
   "outputs": [],
   "source": [
    "data_train=pd.read_csv('F:\\\\study\\\\ml\\\\DataSet\\\\Tap4fun\\\\tap_fun_train.csv',\n",
    "                      dtype=column_type,parse_dates=['register_time'],infer_datetime_format=True)\n",
    "\n",
    "data_test=pd.read_csv('F:\\\\study\\\\ml\\\\DataSet\\\\Tap4fun\\\\tap_fun_test.csv',\n",
    "                      dtype=column_type,parse_dates=['register_time'],infer_datetime_format=True)"
   ]
  },
  {
   "cell_type": "code",
   "execution_count": 6,
   "metadata": {
    "ExecuteTime": {
     "end_time": "2018-10-20T09:06:42.385427Z",
     "start_time": "2018-10-20T09:06:42.086410Z"
    }
   },
   "outputs": [],
   "source": [
    "data_train.rename(columns={'treatment_acceleraion_add_value':'treatment_acceleration_add_value',\\\n",
    "                          'sr_rss_a_prod_levell':'sr_rss_a_prod_level'} ,inplace=True)\n",
    "\n",
    "data_test.rename(columns={'treatment_acceleraion_add_value':'treatment_acceleration_add_value',\\\n",
    "                          'sr_rss_a_prod_levell':'sr_rss_a_prod_level'} ,inplace=True)"
   ]
  },
  {
   "cell_type": "code",
   "execution_count": 7,
   "metadata": {
    "ExecuteTime": {
     "end_time": "2018-10-20T09:06:42.844453Z",
     "start_time": "2018-10-20T09:06:42.387427Z"
    }
   },
   "outputs": [],
   "source": [
    "train_user=data_train.iloc[:,:2]\n",
    "train_data=data_train.iloc[:,2:]"
   ]
  },
  {
   "cell_type": "code",
   "execution_count": 8,
   "metadata": {
    "ExecuteTime": {
     "end_time": "2018-10-20T09:06:43.398485Z",
     "start_time": "2018-10-20T09:06:42.846453Z"
    }
   },
   "outputs": [],
   "source": [
    "column_name=train_data.columns.values[:32].tolist()\n",
    "for i in range(len(column_name)):\n",
    "    if (i+2) % 2 == 0 :\n",
    "        name=column_name[i].replace('value','rate')\n",
    "        #print(name)\n",
    "        train_data[name]=train_data[column_name[i]] / (train_data[column_name[i+1]]+1)"
   ]
  },
  {
   "cell_type": "code",
   "execution_count": 9,
   "metadata": {
    "ExecuteTime": {
     "end_time": "2018-10-20T09:06:43.517491Z",
     "start_time": "2018-10-20T09:06:43.399485Z"
    }
   },
   "outputs": [],
   "source": [
    "train_data['pvp_lanch_battle_rate']=train_data['pvp_battle_count']/(train_data['pvp_lanch_count']+1)\n",
    "train_data['pvp_win_battle_rate']=train_data['pvp_battle_count']/(train_data['pvp_win_count']+1)\n",
    "train_data['pvp_win_lanch_rate']=train_data['pvp_lanch_count']/(train_data['pvp_win_count']+1)\n",
    "train_data['pve_win_battle_rate']=train_data['pvp_battle_count']/(train_data['pve_win_count']+1)\n",
    "train_data['pay_price_rate']=train_data['pay_count']/(train_data['pay_price']+1)\n",
    "train_data['price_online_minutes_rate']=train_data['avg_online_minutes']/(train_data['pay_price']+1)"
   ]
  },
  {
   "cell_type": "code",
   "execution_count": 10,
   "metadata": {
    "ExecuteTime": {
     "end_time": "2018-10-20T09:42:20.619727Z",
     "start_time": "2018-10-20T09:06:43.518492Z"
    }
   },
   "outputs": [],
   "source": [
    "train_data['resource_add_mean']=train_data.iloc[:,[0,2,4,6,8]].apply(lambda x:x.mean(),axis=1)\n",
    "train_data['resource_add_med']=train_data.iloc[:,[0,2,4,6,8]].apply(lambda x:x.median(),axis=1)\n",
    "train_data['resource_reduce_mean']=train_data.iloc[:,[1, 3, 5, 7, 9]].apply(lambda x:x.mean(),axis=1)\n",
    "train_data['resource_reduce_med']=train_data.iloc[:,[1, 3, 5, 7, 9]].apply(lambda x:x.median(),axis=1)\n",
    "\n",
    "train_data['resource_mean_rate']=train_data['resource_reduce_mean']/(train_data['resource_add_mean']+1)\n",
    "train_data['resource_med_rate']=train_data['resource_reduce_med']/(train_data['resource_add_med']+1)\n",
    "\n",
    "train_data['army_add_mean']=train_data.iloc[:,[10, 12, 14]].apply(lambda x:x.mean(),axis=1)\n",
    "train_data['army_add_med']=train_data.iloc[:,[10, 12, 14]].apply(lambda x:x.median(),axis=1)\n",
    "train_data['army_reduce_mean']=train_data.iloc[:,[11, 13, 15]].apply(lambda x:x.mean(),axis=1)\n",
    "train_data['army_reduce_med']=train_data.iloc[:,[11, 13, 15]].apply(lambda x:x.median(),axis=1)\n",
    "\n",
    "train_data['army_mean_rate']=train_data['army_reduce_mean']/(train_data['army_add_mean']+1)\n",
    "train_data['army_med_rate']=train_data['army_reduce_med']/(train_data['army_add_med']+1)\n",
    "\n",
    "train_data['wound_add_mean'] = train_data.iloc[:, [16, 18, 20]].apply(lambda x: x.mean(), axis=1)\n",
    "train_data['wound_add_med'] = train_data.iloc[:, [16, 18, 20]].apply(lambda x: x.median(), axis=1)\n",
    "train_data['wound_reduce_mean'] = train_data.iloc[:, [17, 19, 21]].apply(lambda x: x.mean(), axis=1)\n",
    "train_data['wound_reduce_med'] = train_data.iloc[:, [17, 19, 21]].apply(lambda x: x.median(), axis=1)\n",
    "\n",
    "train_data['wound_mean_rate']=train_data['wound_reduce_mean']/(train_data['wound_add_mean']+1)\n",
    "train_data['wound_med_rate']=train_data['wound_reduce_med']/(train_data['wound_add_med']+1)\n",
    "\n",
    "train_data['accelerate_add_mean'] = train_data.iloc[:, [22, 24, 26, 28, 30]].apply(lambda x: x.mean(), axis=1)\n",
    "train_data['accelerate_add_med'] = train_data.iloc[:, [22, 24, 26, 28, 30]].apply(lambda x: x.median(), axis=1)\n",
    "train_data['accelerate_reduce_mean'] = train_data.iloc[:, [23, 25, 27, 29, 31]].apply(lambda x: x.mean(), axis=1)\n",
    "train_data['accelerate_reduce_med'] = train_data.iloc[:, [23, 25, 27, 29, 31]].apply(lambda x: x.median(), axis=1)\n",
    "\n",
    "train_data['accelerate_mean_rate']=train_data['accelerate_reduce_mean']/(train_data['accelerate_add_mean']+1)\n",
    "train_data['accelerate_med_rate']=train_data['accelerate_reduce_med']/(train_data['accelerate_add_med']+1)"
   ]
  },
  {
   "cell_type": "code",
   "execution_count": 11,
   "metadata": {
    "ExecuteTime": {
     "end_time": "2018-10-20T09:42:46.476206Z",
     "start_time": "2018-10-20T09:42:20.621727Z"
    }
   },
   "outputs": [],
   "source": [
    "train_user['register_time_month']=pd.to_numeric(train_user.register_time.apply(lambda x:str(x)).str[5:7])\n",
    "train_user['register_time_day']=pd.to_numeric(train_user.register_time.apply(lambda x:str(x)).str[8:10])\n",
    "train_user.drop(labels=['register_time'],axis=1,inplace=True)\n",
    "train_user['register_time_count']=train_user['register_time_month']*31+train_user['register_time_day']\n",
    "\n",
    "train_data['register_time_month']=train_user['register_time_month']\n",
    "train_data['register_time_day']=train_user['register_time_day']\n",
    "train_data['register_time_count']=train_user['register_time_count']"
   ]
  },
  {
   "cell_type": "code",
   "execution_count": 12,
   "metadata": {
    "ExecuteTime": {
     "end_time": "2018-10-20T09:42:47.225248Z",
     "start_time": "2018-10-20T09:42:46.477206Z"
    }
   },
   "outputs": [],
   "source": [
    "train = train_data[train_data['pay_price'] > 0]"
   ]
  },
  {
   "cell_type": "code",
   "execution_count": 13,
   "metadata": {
    "ExecuteTime": {
     "end_time": "2018-10-20T09:42:47.447261Z",
     "start_time": "2018-10-20T09:42:47.226249Z"
    }
   },
   "outputs": [
    {
     "name": "stderr",
     "output_type": "stream",
     "text": [
      "D:\\ProgramData\\Anaconda3\\lib\\site-packages\\ipykernel_launcher.py:1: SettingWithCopyWarning: \n",
      "A value is trying to be set on a copy of a slice from a DataFrame.\n",
      "Try using .loc[row_indexer,col_indexer] = value instead\n",
      "\n",
      "See the caveats in the documentation: http://pandas.pydata.org/pandas-docs/stable/indexing.html#indexing-view-versus-copy\n",
      "  \"\"\"Entry point for launching an IPython kernel.\n",
      "D:\\ProgramData\\Anaconda3\\lib\\site-packages\\ipykernel_launcher.py:2: SettingWithCopyWarning: \n",
      "A value is trying to be set on a copy of a slice from a DataFrame.\n",
      "Try using .loc[row_indexer,col_indexer] = value instead\n",
      "\n",
      "See the caveats in the documentation: http://pandas.pydata.org/pandas-docs/stable/indexing.html#indexing-view-versus-copy\n",
      "  \n",
      "D:\\ProgramData\\Anaconda3\\lib\\site-packages\\ipykernel_launcher.py:3: SettingWithCopyWarning: \n",
      "A value is trying to be set on a copy of a slice from a DataFrame.\n",
      "Try using .loc[row_indexer,col_indexer] = value instead\n",
      "\n",
      "See the caveats in the documentation: http://pandas.pydata.org/pandas-docs/stable/indexing.html#indexing-view-versus-copy\n",
      "  This is separate from the ipykernel package so we can avoid doing imports until\n",
      "D:\\ProgramData\\Anaconda3\\lib\\site-packages\\ipykernel_launcher.py:4: SettingWithCopyWarning: \n",
      "A value is trying to be set on a copy of a slice from a DataFrame.\n",
      "Try using .loc[row_indexer,col_indexer] = value instead\n",
      "\n",
      "See the caveats in the documentation: http://pandas.pydata.org/pandas-docs/stable/indexing.html#indexing-view-versus-copy\n",
      "  after removing the cwd from sys.path.\n"
     ]
    }
   ],
   "source": [
    "train['new_pay_label']=train['prediction_pay_price']!=train['pay_price']\n",
    "train['new_pay_label']=train['new_pay_label'].map({True:1,False:0})\n",
    "train['new_pay_price']=train['prediction_pay_price']-train['pay_price']\n",
    "train['new_pay_rate']=train['prediction_pay_price']/train['pay_price']"
   ]
  },
  {
   "cell_type": "code",
   "execution_count": 14,
   "metadata": {
    "ExecuteTime": {
     "end_time": "2018-10-20T09:42:47.481263Z",
     "start_time": "2018-10-20T09:42:47.449261Z"
    }
   },
   "outputs": [],
   "source": [
    "# train['new_pay_rate']=train['prediction_pay_price']/train['pay_price']"
   ]
  },
  {
   "cell_type": "code",
   "execution_count": 15,
   "metadata": {
    "ExecuteTime": {
     "end_time": "2018-10-20T09:42:47.652273Z",
     "start_time": "2018-10-20T09:42:47.483263Z"
    }
   },
   "outputs": [
    {
     "data": {
      "text/html": [
       "<div>\n",
       "<style scoped>\n",
       "    .dataframe tbody tr th:only-of-type {\n",
       "        vertical-align: middle;\n",
       "    }\n",
       "\n",
       "    .dataframe tbody tr th {\n",
       "        vertical-align: top;\n",
       "    }\n",
       "\n",
       "    .dataframe thead th {\n",
       "        text-align: right;\n",
       "    }\n",
       "</style>\n",
       "<table border=\"1\" class=\"dataframe\">\n",
       "  <thead>\n",
       "    <tr style=\"text-align: right;\">\n",
       "      <th></th>\n",
       "      <th>wood_add_value</th>\n",
       "      <th>wood_reduce_value</th>\n",
       "      <th>stone_add_value</th>\n",
       "      <th>stone_reduce_value</th>\n",
       "      <th>ivory_add_value</th>\n",
       "      <th>ivory_reduce_value</th>\n",
       "      <th>meat_add_value</th>\n",
       "      <th>meat_reduce_value</th>\n",
       "      <th>magic_add_value</th>\n",
       "      <th>magic_reduce_value</th>\n",
       "      <th>...</th>\n",
       "      <th>accelerate_reduce_mean</th>\n",
       "      <th>accelerate_reduce_med</th>\n",
       "      <th>accelerate_mean_rate</th>\n",
       "      <th>accelerate_med_rate</th>\n",
       "      <th>register_time_month</th>\n",
       "      <th>register_time_day</th>\n",
       "      <th>register_time_count</th>\n",
       "      <th>new_pay_label</th>\n",
       "      <th>new_pay_price</th>\n",
       "      <th>new_pay_rate</th>\n",
       "    </tr>\n",
       "  </thead>\n",
       "  <tbody>\n",
       "    <tr>\n",
       "      <th>25</th>\n",
       "      <td>30000.0</td>\n",
       "      <td>97200.0</td>\n",
       "      <td>20000.0</td>\n",
       "      <td>0.0</td>\n",
       "      <td>0.0</td>\n",
       "      <td>0.0</td>\n",
       "      <td>160500.0</td>\n",
       "      <td>80392.0</td>\n",
       "      <td>12000.0</td>\n",
       "      <td>0.0</td>\n",
       "      <td>...</td>\n",
       "      <td>0.0</td>\n",
       "      <td>0.0</td>\n",
       "      <td>0.000000</td>\n",
       "      <td>0.000000</td>\n",
       "      <td>1</td>\n",
       "      <td>26</td>\n",
       "      <td>57</td>\n",
       "      <td>0</td>\n",
       "      <td>0.00</td>\n",
       "      <td>1.000000</td>\n",
       "    </tr>\n",
       "    <tr>\n",
       "      <th>40</th>\n",
       "      <td>1111744.0</td>\n",
       "      <td>1137687.0</td>\n",
       "      <td>491331.0</td>\n",
       "      <td>790208.0</td>\n",
       "      <td>77000.0</td>\n",
       "      <td>0.0</td>\n",
       "      <td>1457249.0</td>\n",
       "      <td>708483.0</td>\n",
       "      <td>217455.0</td>\n",
       "      <td>162987.0</td>\n",
       "      <td>...</td>\n",
       "      <td>322.8</td>\n",
       "      <td>500.0</td>\n",
       "      <td>0.510598</td>\n",
       "      <td>0.807754</td>\n",
       "      <td>1</td>\n",
       "      <td>26</td>\n",
       "      <td>57</td>\n",
       "      <td>1</td>\n",
       "      <td>1.99</td>\n",
       "      <td>1.670034</td>\n",
       "    </tr>\n",
       "    <tr>\n",
       "      <th>47</th>\n",
       "      <td>249050.0</td>\n",
       "      <td>173248.0</td>\n",
       "      <td>70841.0</td>\n",
       "      <td>117012.0</td>\n",
       "      <td>55000.0</td>\n",
       "      <td>0.0</td>\n",
       "      <td>206366.0</td>\n",
       "      <td>82205.0</td>\n",
       "      <td>29902.0</td>\n",
       "      <td>88064.0</td>\n",
       "      <td>...</td>\n",
       "      <td>415.8</td>\n",
       "      <td>0.0</td>\n",
       "      <td>1.825285</td>\n",
       "      <td>0.000000</td>\n",
       "      <td>1</td>\n",
       "      <td>26</td>\n",
       "      <td>57</td>\n",
       "      <td>0</td>\n",
       "      <td>0.00</td>\n",
       "      <td>1.000000</td>\n",
       "    </tr>\n",
       "    <tr>\n",
       "      <th>86</th>\n",
       "      <td>0.0</td>\n",
       "      <td>0.0</td>\n",
       "      <td>0.0</td>\n",
       "      <td>0.0</td>\n",
       "      <td>0.0</td>\n",
       "      <td>0.0</td>\n",
       "      <td>0.0</td>\n",
       "      <td>0.0</td>\n",
       "      <td>0.0</td>\n",
       "      <td>0.0</td>\n",
       "      <td>...</td>\n",
       "      <td>0.0</td>\n",
       "      <td>0.0</td>\n",
       "      <td>0.000000</td>\n",
       "      <td>0.000000</td>\n",
       "      <td>1</td>\n",
       "      <td>26</td>\n",
       "      <td>57</td>\n",
       "      <td>0</td>\n",
       "      <td>0.00</td>\n",
       "      <td>1.000000</td>\n",
       "    </tr>\n",
       "    <tr>\n",
       "      <th>119</th>\n",
       "      <td>0.0</td>\n",
       "      <td>0.0</td>\n",
       "      <td>0.0</td>\n",
       "      <td>0.0</td>\n",
       "      <td>0.0</td>\n",
       "      <td>0.0</td>\n",
       "      <td>0.0</td>\n",
       "      <td>0.0</td>\n",
       "      <td>0.0</td>\n",
       "      <td>0.0</td>\n",
       "      <td>...</td>\n",
       "      <td>0.0</td>\n",
       "      <td>0.0</td>\n",
       "      <td>0.000000</td>\n",
       "      <td>0.000000</td>\n",
       "      <td>1</td>\n",
       "      <td>26</td>\n",
       "      <td>57</td>\n",
       "      <td>0</td>\n",
       "      <td>0.00</td>\n",
       "      <td>1.000000</td>\n",
       "    </tr>\n",
       "  </tbody>\n",
       "</table>\n",
       "<p>5 rows × 159 columns</p>\n",
       "</div>"
      ],
      "text/plain": [
       "     wood_add_value  wood_reduce_value  stone_add_value  stone_reduce_value  \\\n",
       "25          30000.0            97200.0          20000.0                 0.0   \n",
       "40        1111744.0          1137687.0         491331.0            790208.0   \n",
       "47         249050.0           173248.0          70841.0            117012.0   \n",
       "86              0.0                0.0              0.0                 0.0   \n",
       "119             0.0                0.0              0.0                 0.0   \n",
       "\n",
       "     ivory_add_value  ivory_reduce_value  meat_add_value  meat_reduce_value  \\\n",
       "25               0.0                 0.0        160500.0            80392.0   \n",
       "40           77000.0                 0.0       1457249.0           708483.0   \n",
       "47           55000.0                 0.0        206366.0            82205.0   \n",
       "86               0.0                 0.0             0.0                0.0   \n",
       "119              0.0                 0.0             0.0                0.0   \n",
       "\n",
       "     magic_add_value  magic_reduce_value      ...       \\\n",
       "25           12000.0                 0.0      ...        \n",
       "40          217455.0            162987.0      ...        \n",
       "47           29902.0             88064.0      ...        \n",
       "86               0.0                 0.0      ...        \n",
       "119              0.0                 0.0      ...        \n",
       "\n",
       "     accelerate_reduce_mean  accelerate_reduce_med  accelerate_mean_rate  \\\n",
       "25                      0.0                    0.0              0.000000   \n",
       "40                    322.8                  500.0              0.510598   \n",
       "47                    415.8                    0.0              1.825285   \n",
       "86                      0.0                    0.0              0.000000   \n",
       "119                     0.0                    0.0              0.000000   \n",
       "\n",
       "     accelerate_med_rate  register_time_month  register_time_day  \\\n",
       "25              0.000000                    1                 26   \n",
       "40              0.807754                    1                 26   \n",
       "47              0.000000                    1                 26   \n",
       "86              0.000000                    1                 26   \n",
       "119             0.000000                    1                 26   \n",
       "\n",
       "     register_time_count  new_pay_label  new_pay_price  new_pay_rate  \n",
       "25                    57              0           0.00      1.000000  \n",
       "40                    57              1           1.99      1.670034  \n",
       "47                    57              0           0.00      1.000000  \n",
       "86                    57              0           0.00      1.000000  \n",
       "119                   57              0           0.00      1.000000  \n",
       "\n",
       "[5 rows x 159 columns]"
      ]
     },
     "execution_count": 15,
     "metadata": {},
     "output_type": "execute_result"
    }
   ],
   "source": [
    "train.head()"
   ]
  },
  {
   "cell_type": "code",
   "execution_count": 16,
   "metadata": {
    "ExecuteTime": {
     "end_time": "2018-10-20T09:42:47.708276Z",
     "start_time": "2018-10-20T09:42:47.653273Z"
    }
   },
   "outputs": [
    {
     "data": {
      "text/html": [
       "<div>\n",
       "<style scoped>\n",
       "    .dataframe tbody tr th:only-of-type {\n",
       "        vertical-align: middle;\n",
       "    }\n",
       "\n",
       "    .dataframe tbody tr th {\n",
       "        vertical-align: top;\n",
       "    }\n",
       "\n",
       "    .dataframe thead th {\n",
       "        text-align: right;\n",
       "    }\n",
       "</style>\n",
       "<table border=\"1\" class=\"dataframe\">\n",
       "  <thead>\n",
       "    <tr style=\"text-align: right;\">\n",
       "      <th></th>\n",
       "      <th>wood_add_value</th>\n",
       "      <th>wood_reduce_value</th>\n",
       "      <th>stone_add_value</th>\n",
       "      <th>stone_reduce_value</th>\n",
       "      <th>ivory_add_value</th>\n",
       "      <th>ivory_reduce_value</th>\n",
       "      <th>meat_add_value</th>\n",
       "      <th>meat_reduce_value</th>\n",
       "      <th>magic_add_value</th>\n",
       "      <th>magic_reduce_value</th>\n",
       "      <th>...</th>\n",
       "      <th>wound_med_rate</th>\n",
       "      <th>accelerate_add_mean</th>\n",
       "      <th>accelerate_add_med</th>\n",
       "      <th>accelerate_reduce_mean</th>\n",
       "      <th>accelerate_reduce_med</th>\n",
       "      <th>accelerate_mean_rate</th>\n",
       "      <th>accelerate_med_rate</th>\n",
       "      <th>register_time_month</th>\n",
       "      <th>register_time_day</th>\n",
       "      <th>register_time_count</th>\n",
       "    </tr>\n",
       "  </thead>\n",
       "  <tbody>\n",
       "    <tr>\n",
       "      <th>25</th>\n",
       "      <td>30000.0</td>\n",
       "      <td>97200.0</td>\n",
       "      <td>20000.0</td>\n",
       "      <td>0.0</td>\n",
       "      <td>0.0</td>\n",
       "      <td>0.0</td>\n",
       "      <td>160500.0</td>\n",
       "      <td>80392.0</td>\n",
       "      <td>12000.0</td>\n",
       "      <td>0.0</td>\n",
       "      <td>...</td>\n",
       "      <td>0.0</td>\n",
       "      <td>100.0</td>\n",
       "      <td>75.0</td>\n",
       "      <td>0.0</td>\n",
       "      <td>0.0</td>\n",
       "      <td>0.000000</td>\n",
       "      <td>0.000000</td>\n",
       "      <td>1</td>\n",
       "      <td>26</td>\n",
       "      <td>57</td>\n",
       "    </tr>\n",
       "    <tr>\n",
       "      <th>40</th>\n",
       "      <td>1111744.0</td>\n",
       "      <td>1137687.0</td>\n",
       "      <td>491331.0</td>\n",
       "      <td>790208.0</td>\n",
       "      <td>77000.0</td>\n",
       "      <td>0.0</td>\n",
       "      <td>1457249.0</td>\n",
       "      <td>708483.0</td>\n",
       "      <td>217455.0</td>\n",
       "      <td>162987.0</td>\n",
       "      <td>...</td>\n",
       "      <td>0.0</td>\n",
       "      <td>631.2</td>\n",
       "      <td>618.0</td>\n",
       "      <td>322.8</td>\n",
       "      <td>500.0</td>\n",
       "      <td>0.510598</td>\n",
       "      <td>0.807754</td>\n",
       "      <td>1</td>\n",
       "      <td>26</td>\n",
       "      <td>57</td>\n",
       "    </tr>\n",
       "    <tr>\n",
       "      <th>47</th>\n",
       "      <td>249050.0</td>\n",
       "      <td>173248.0</td>\n",
       "      <td>70841.0</td>\n",
       "      <td>117012.0</td>\n",
       "      <td>55000.0</td>\n",
       "      <td>0.0</td>\n",
       "      <td>206366.0</td>\n",
       "      <td>82205.0</td>\n",
       "      <td>29902.0</td>\n",
       "      <td>88064.0</td>\n",
       "      <td>...</td>\n",
       "      <td>0.0</td>\n",
       "      <td>226.8</td>\n",
       "      <td>45.0</td>\n",
       "      <td>415.8</td>\n",
       "      <td>0.0</td>\n",
       "      <td>1.825285</td>\n",
       "      <td>0.000000</td>\n",
       "      <td>1</td>\n",
       "      <td>26</td>\n",
       "      <td>57</td>\n",
       "    </tr>\n",
       "    <tr>\n",
       "      <th>86</th>\n",
       "      <td>0.0</td>\n",
       "      <td>0.0</td>\n",
       "      <td>0.0</td>\n",
       "      <td>0.0</td>\n",
       "      <td>0.0</td>\n",
       "      <td>0.0</td>\n",
       "      <td>0.0</td>\n",
       "      <td>0.0</td>\n",
       "      <td>0.0</td>\n",
       "      <td>0.0</td>\n",
       "      <td>...</td>\n",
       "      <td>0.0</td>\n",
       "      <td>0.0</td>\n",
       "      <td>0.0</td>\n",
       "      <td>0.0</td>\n",
       "      <td>0.0</td>\n",
       "      <td>0.000000</td>\n",
       "      <td>0.000000</td>\n",
       "      <td>1</td>\n",
       "      <td>26</td>\n",
       "      <td>57</td>\n",
       "    </tr>\n",
       "    <tr>\n",
       "      <th>119</th>\n",
       "      <td>0.0</td>\n",
       "      <td>0.0</td>\n",
       "      <td>0.0</td>\n",
       "      <td>0.0</td>\n",
       "      <td>0.0</td>\n",
       "      <td>0.0</td>\n",
       "      <td>0.0</td>\n",
       "      <td>0.0</td>\n",
       "      <td>0.0</td>\n",
       "      <td>0.0</td>\n",
       "      <td>...</td>\n",
       "      <td>0.0</td>\n",
       "      <td>0.0</td>\n",
       "      <td>0.0</td>\n",
       "      <td>0.0</td>\n",
       "      <td>0.0</td>\n",
       "      <td>0.000000</td>\n",
       "      <td>0.000000</td>\n",
       "      <td>1</td>\n",
       "      <td>26</td>\n",
       "      <td>57</td>\n",
       "    </tr>\n",
       "  </tbody>\n",
       "</table>\n",
       "<p>5 rows × 156 columns</p>\n",
       "</div>"
      ],
      "text/plain": [
       "     wood_add_value  wood_reduce_value  stone_add_value  stone_reduce_value  \\\n",
       "25          30000.0            97200.0          20000.0                 0.0   \n",
       "40        1111744.0          1137687.0         491331.0            790208.0   \n",
       "47         249050.0           173248.0          70841.0            117012.0   \n",
       "86              0.0                0.0              0.0                 0.0   \n",
       "119             0.0                0.0              0.0                 0.0   \n",
       "\n",
       "     ivory_add_value  ivory_reduce_value  meat_add_value  meat_reduce_value  \\\n",
       "25               0.0                 0.0        160500.0            80392.0   \n",
       "40           77000.0                 0.0       1457249.0           708483.0   \n",
       "47           55000.0                 0.0        206366.0            82205.0   \n",
       "86               0.0                 0.0             0.0                0.0   \n",
       "119              0.0                 0.0             0.0                0.0   \n",
       "\n",
       "     magic_add_value  magic_reduce_value         ...           wound_med_rate  \\\n",
       "25           12000.0                 0.0         ...                      0.0   \n",
       "40          217455.0            162987.0         ...                      0.0   \n",
       "47           29902.0             88064.0         ...                      0.0   \n",
       "86               0.0                 0.0         ...                      0.0   \n",
       "119              0.0                 0.0         ...                      0.0   \n",
       "\n",
       "     accelerate_add_mean  accelerate_add_med  accelerate_reduce_mean  \\\n",
       "25                 100.0                75.0                     0.0   \n",
       "40                 631.2               618.0                   322.8   \n",
       "47                 226.8                45.0                   415.8   \n",
       "86                   0.0                 0.0                     0.0   \n",
       "119                  0.0                 0.0                     0.0   \n",
       "\n",
       "     accelerate_reduce_med  accelerate_mean_rate  accelerate_med_rate  \\\n",
       "25                     0.0              0.000000             0.000000   \n",
       "40                   500.0              0.510598             0.807754   \n",
       "47                     0.0              1.825285             0.000000   \n",
       "86                     0.0              0.000000             0.000000   \n",
       "119                    0.0              0.000000             0.000000   \n",
       "\n",
       "     register_time_month  register_time_day  register_time_count  \n",
       "25                     1                 26                   57  \n",
       "40                     1                 26                   57  \n",
       "47                     1                 26                   57  \n",
       "86                     1                 26                   57  \n",
       "119                    1                 26                   57  \n",
       "\n",
       "[5 rows x 156 columns]"
      ]
     },
     "execution_count": 16,
     "metadata": {},
     "output_type": "execute_result"
    }
   ],
   "source": [
    "train.iloc[:,0:-3].head()"
   ]
  },
  {
   "cell_type": "code",
   "execution_count": 17,
   "metadata": {
    "ExecuteTime": {
     "end_time": "2018-10-20T09:42:47.782280Z",
     "start_time": "2018-10-20T09:42:47.709276Z"
    }
   },
   "outputs": [
    {
     "data": {
      "text/html": [
       "<div>\n",
       "<style scoped>\n",
       "    .dataframe tbody tr th:only-of-type {\n",
       "        vertical-align: middle;\n",
       "    }\n",
       "\n",
       "    .dataframe tbody tr th {\n",
       "        vertical-align: top;\n",
       "    }\n",
       "\n",
       "    .dataframe thead th {\n",
       "        text-align: right;\n",
       "    }\n",
       "</style>\n",
       "<table border=\"1\" class=\"dataframe\">\n",
       "  <thead>\n",
       "    <tr style=\"text-align: right;\">\n",
       "      <th></th>\n",
       "      <th>wood_add_value</th>\n",
       "      <th>wood_reduce_value</th>\n",
       "      <th>stone_add_value</th>\n",
       "      <th>stone_reduce_value</th>\n",
       "      <th>ivory_add_value</th>\n",
       "      <th>ivory_reduce_value</th>\n",
       "      <th>meat_add_value</th>\n",
       "      <th>meat_reduce_value</th>\n",
       "      <th>magic_add_value</th>\n",
       "      <th>magic_reduce_value</th>\n",
       "      <th>...</th>\n",
       "      <th>accelerate_reduce_mean</th>\n",
       "      <th>accelerate_reduce_med</th>\n",
       "      <th>accelerate_mean_rate</th>\n",
       "      <th>accelerate_med_rate</th>\n",
       "      <th>register_time_month</th>\n",
       "      <th>register_time_day</th>\n",
       "      <th>register_time_count</th>\n",
       "      <th>new_pay_label</th>\n",
       "      <th>new_pay_price</th>\n",
       "      <th>new_pay_rate</th>\n",
       "    </tr>\n",
       "  </thead>\n",
       "  <tbody>\n",
       "    <tr>\n",
       "      <th>25</th>\n",
       "      <td>30000.0</td>\n",
       "      <td>97200.0</td>\n",
       "      <td>20000.0</td>\n",
       "      <td>0.0</td>\n",
       "      <td>0.0</td>\n",
       "      <td>0.0</td>\n",
       "      <td>160500.0</td>\n",
       "      <td>80392.0</td>\n",
       "      <td>12000.0</td>\n",
       "      <td>0.0</td>\n",
       "      <td>...</td>\n",
       "      <td>0.0</td>\n",
       "      <td>0.0</td>\n",
       "      <td>0.000000</td>\n",
       "      <td>0.000000</td>\n",
       "      <td>1</td>\n",
       "      <td>26</td>\n",
       "      <td>57</td>\n",
       "      <td>0</td>\n",
       "      <td>0.00</td>\n",
       "      <td>1.000000</td>\n",
       "    </tr>\n",
       "    <tr>\n",
       "      <th>40</th>\n",
       "      <td>1111744.0</td>\n",
       "      <td>1137687.0</td>\n",
       "      <td>491331.0</td>\n",
       "      <td>790208.0</td>\n",
       "      <td>77000.0</td>\n",
       "      <td>0.0</td>\n",
       "      <td>1457249.0</td>\n",
       "      <td>708483.0</td>\n",
       "      <td>217455.0</td>\n",
       "      <td>162987.0</td>\n",
       "      <td>...</td>\n",
       "      <td>322.8</td>\n",
       "      <td>500.0</td>\n",
       "      <td>0.510598</td>\n",
       "      <td>0.807754</td>\n",
       "      <td>1</td>\n",
       "      <td>26</td>\n",
       "      <td>57</td>\n",
       "      <td>1</td>\n",
       "      <td>1.99</td>\n",
       "      <td>1.670034</td>\n",
       "    </tr>\n",
       "    <tr>\n",
       "      <th>47</th>\n",
       "      <td>249050.0</td>\n",
       "      <td>173248.0</td>\n",
       "      <td>70841.0</td>\n",
       "      <td>117012.0</td>\n",
       "      <td>55000.0</td>\n",
       "      <td>0.0</td>\n",
       "      <td>206366.0</td>\n",
       "      <td>82205.0</td>\n",
       "      <td>29902.0</td>\n",
       "      <td>88064.0</td>\n",
       "      <td>...</td>\n",
       "      <td>415.8</td>\n",
       "      <td>0.0</td>\n",
       "      <td>1.825285</td>\n",
       "      <td>0.000000</td>\n",
       "      <td>1</td>\n",
       "      <td>26</td>\n",
       "      <td>57</td>\n",
       "      <td>0</td>\n",
       "      <td>0.00</td>\n",
       "      <td>1.000000</td>\n",
       "    </tr>\n",
       "    <tr>\n",
       "      <th>86</th>\n",
       "      <td>0.0</td>\n",
       "      <td>0.0</td>\n",
       "      <td>0.0</td>\n",
       "      <td>0.0</td>\n",
       "      <td>0.0</td>\n",
       "      <td>0.0</td>\n",
       "      <td>0.0</td>\n",
       "      <td>0.0</td>\n",
       "      <td>0.0</td>\n",
       "      <td>0.0</td>\n",
       "      <td>...</td>\n",
       "      <td>0.0</td>\n",
       "      <td>0.0</td>\n",
       "      <td>0.000000</td>\n",
       "      <td>0.000000</td>\n",
       "      <td>1</td>\n",
       "      <td>26</td>\n",
       "      <td>57</td>\n",
       "      <td>0</td>\n",
       "      <td>0.00</td>\n",
       "      <td>1.000000</td>\n",
       "    </tr>\n",
       "    <tr>\n",
       "      <th>119</th>\n",
       "      <td>0.0</td>\n",
       "      <td>0.0</td>\n",
       "      <td>0.0</td>\n",
       "      <td>0.0</td>\n",
       "      <td>0.0</td>\n",
       "      <td>0.0</td>\n",
       "      <td>0.0</td>\n",
       "      <td>0.0</td>\n",
       "      <td>0.0</td>\n",
       "      <td>0.0</td>\n",
       "      <td>...</td>\n",
       "      <td>0.0</td>\n",
       "      <td>0.0</td>\n",
       "      <td>0.000000</td>\n",
       "      <td>0.000000</td>\n",
       "      <td>1</td>\n",
       "      <td>26</td>\n",
       "      <td>57</td>\n",
       "      <td>0</td>\n",
       "      <td>0.00</td>\n",
       "      <td>1.000000</td>\n",
       "    </tr>\n",
       "  </tbody>\n",
       "</table>\n",
       "<p>5 rows × 159 columns</p>\n",
       "</div>"
      ],
      "text/plain": [
       "     wood_add_value  wood_reduce_value  stone_add_value  stone_reduce_value  \\\n",
       "25          30000.0            97200.0          20000.0                 0.0   \n",
       "40        1111744.0          1137687.0         491331.0            790208.0   \n",
       "47         249050.0           173248.0          70841.0            117012.0   \n",
       "86              0.0                0.0              0.0                 0.0   \n",
       "119             0.0                0.0              0.0                 0.0   \n",
       "\n",
       "     ivory_add_value  ivory_reduce_value  meat_add_value  meat_reduce_value  \\\n",
       "25               0.0                 0.0        160500.0            80392.0   \n",
       "40           77000.0                 0.0       1457249.0           708483.0   \n",
       "47           55000.0                 0.0        206366.0            82205.0   \n",
       "86               0.0                 0.0             0.0                0.0   \n",
       "119              0.0                 0.0             0.0                0.0   \n",
       "\n",
       "     magic_add_value  magic_reduce_value      ...       \\\n",
       "25           12000.0                 0.0      ...        \n",
       "40          217455.0            162987.0      ...        \n",
       "47           29902.0             88064.0      ...        \n",
       "86               0.0                 0.0      ...        \n",
       "119              0.0                 0.0      ...        \n",
       "\n",
       "     accelerate_reduce_mean  accelerate_reduce_med  accelerate_mean_rate  \\\n",
       "25                      0.0                    0.0              0.000000   \n",
       "40                    322.8                  500.0              0.510598   \n",
       "47                    415.8                    0.0              1.825285   \n",
       "86                      0.0                    0.0              0.000000   \n",
       "119                     0.0                    0.0              0.000000   \n",
       "\n",
       "     accelerate_med_rate  register_time_month  register_time_day  \\\n",
       "25              0.000000                    1                 26   \n",
       "40              0.807754                    1                 26   \n",
       "47              0.000000                    1                 26   \n",
       "86              0.000000                    1                 26   \n",
       "119             0.000000                    1                 26   \n",
       "\n",
       "     register_time_count  new_pay_label  new_pay_price  new_pay_rate  \n",
       "25                    57              0           0.00      1.000000  \n",
       "40                    57              1           1.99      1.670034  \n",
       "47                    57              0           0.00      1.000000  \n",
       "86                    57              0           0.00      1.000000  \n",
       "119                   57              0           0.00      1.000000  \n",
       "\n",
       "[5 rows x 159 columns]"
      ]
     },
     "execution_count": 17,
     "metadata": {},
     "output_type": "execute_result"
    }
   ],
   "source": [
    "train.head()"
   ]
  },
  {
   "cell_type": "code",
   "execution_count": 18,
   "metadata": {
    "ExecuteTime": {
     "end_time": "2018-10-20T09:42:47.877286Z",
     "start_time": "2018-10-20T09:42:47.784280Z"
    }
   },
   "outputs": [],
   "source": [
    "classify_train=train.iloc[:,0:-3]\n",
    "classify_train.drop('prediction_pay_price',axis=1,inplace=True)"
   ]
  },
  {
   "cell_type": "code",
   "execution_count": 19,
   "metadata": {
    "ExecuteTime": {
     "end_time": "2018-10-20T09:42:47.924288Z",
     "start_time": "2018-10-20T09:42:47.878286Z"
    }
   },
   "outputs": [
    {
     "data": {
      "text/html": [
       "<div>\n",
       "<style scoped>\n",
       "    .dataframe tbody tr th:only-of-type {\n",
       "        vertical-align: middle;\n",
       "    }\n",
       "\n",
       "    .dataframe tbody tr th {\n",
       "        vertical-align: top;\n",
       "    }\n",
       "\n",
       "    .dataframe thead th {\n",
       "        text-align: right;\n",
       "    }\n",
       "</style>\n",
       "<table border=\"1\" class=\"dataframe\">\n",
       "  <thead>\n",
       "    <tr style=\"text-align: right;\">\n",
       "      <th></th>\n",
       "      <th>wood_add_value</th>\n",
       "      <th>wood_reduce_value</th>\n",
       "      <th>stone_add_value</th>\n",
       "      <th>stone_reduce_value</th>\n",
       "      <th>ivory_add_value</th>\n",
       "      <th>ivory_reduce_value</th>\n",
       "      <th>meat_add_value</th>\n",
       "      <th>meat_reduce_value</th>\n",
       "      <th>magic_add_value</th>\n",
       "      <th>magic_reduce_value</th>\n",
       "      <th>...</th>\n",
       "      <th>wound_med_rate</th>\n",
       "      <th>accelerate_add_mean</th>\n",
       "      <th>accelerate_add_med</th>\n",
       "      <th>accelerate_reduce_mean</th>\n",
       "      <th>accelerate_reduce_med</th>\n",
       "      <th>accelerate_mean_rate</th>\n",
       "      <th>accelerate_med_rate</th>\n",
       "      <th>register_time_month</th>\n",
       "      <th>register_time_day</th>\n",
       "      <th>register_time_count</th>\n",
       "    </tr>\n",
       "  </thead>\n",
       "  <tbody>\n",
       "    <tr>\n",
       "      <th>25</th>\n",
       "      <td>30000.0</td>\n",
       "      <td>97200.0</td>\n",
       "      <td>20000.0</td>\n",
       "      <td>0.0</td>\n",
       "      <td>0.0</td>\n",
       "      <td>0.0</td>\n",
       "      <td>160500.0</td>\n",
       "      <td>80392.0</td>\n",
       "      <td>12000.0</td>\n",
       "      <td>0.0</td>\n",
       "      <td>...</td>\n",
       "      <td>0.0</td>\n",
       "      <td>100.0</td>\n",
       "      <td>75.0</td>\n",
       "      <td>0.0</td>\n",
       "      <td>0.0</td>\n",
       "      <td>0.000000</td>\n",
       "      <td>0.000000</td>\n",
       "      <td>1</td>\n",
       "      <td>26</td>\n",
       "      <td>57</td>\n",
       "    </tr>\n",
       "    <tr>\n",
       "      <th>40</th>\n",
       "      <td>1111744.0</td>\n",
       "      <td>1137687.0</td>\n",
       "      <td>491331.0</td>\n",
       "      <td>790208.0</td>\n",
       "      <td>77000.0</td>\n",
       "      <td>0.0</td>\n",
       "      <td>1457249.0</td>\n",
       "      <td>708483.0</td>\n",
       "      <td>217455.0</td>\n",
       "      <td>162987.0</td>\n",
       "      <td>...</td>\n",
       "      <td>0.0</td>\n",
       "      <td>631.2</td>\n",
       "      <td>618.0</td>\n",
       "      <td>322.8</td>\n",
       "      <td>500.0</td>\n",
       "      <td>0.510598</td>\n",
       "      <td>0.807754</td>\n",
       "      <td>1</td>\n",
       "      <td>26</td>\n",
       "      <td>57</td>\n",
       "    </tr>\n",
       "    <tr>\n",
       "      <th>47</th>\n",
       "      <td>249050.0</td>\n",
       "      <td>173248.0</td>\n",
       "      <td>70841.0</td>\n",
       "      <td>117012.0</td>\n",
       "      <td>55000.0</td>\n",
       "      <td>0.0</td>\n",
       "      <td>206366.0</td>\n",
       "      <td>82205.0</td>\n",
       "      <td>29902.0</td>\n",
       "      <td>88064.0</td>\n",
       "      <td>...</td>\n",
       "      <td>0.0</td>\n",
       "      <td>226.8</td>\n",
       "      <td>45.0</td>\n",
       "      <td>415.8</td>\n",
       "      <td>0.0</td>\n",
       "      <td>1.825285</td>\n",
       "      <td>0.000000</td>\n",
       "      <td>1</td>\n",
       "      <td>26</td>\n",
       "      <td>57</td>\n",
       "    </tr>\n",
       "    <tr>\n",
       "      <th>86</th>\n",
       "      <td>0.0</td>\n",
       "      <td>0.0</td>\n",
       "      <td>0.0</td>\n",
       "      <td>0.0</td>\n",
       "      <td>0.0</td>\n",
       "      <td>0.0</td>\n",
       "      <td>0.0</td>\n",
       "      <td>0.0</td>\n",
       "      <td>0.0</td>\n",
       "      <td>0.0</td>\n",
       "      <td>...</td>\n",
       "      <td>0.0</td>\n",
       "      <td>0.0</td>\n",
       "      <td>0.0</td>\n",
       "      <td>0.0</td>\n",
       "      <td>0.0</td>\n",
       "      <td>0.000000</td>\n",
       "      <td>0.000000</td>\n",
       "      <td>1</td>\n",
       "      <td>26</td>\n",
       "      <td>57</td>\n",
       "    </tr>\n",
       "    <tr>\n",
       "      <th>119</th>\n",
       "      <td>0.0</td>\n",
       "      <td>0.0</td>\n",
       "      <td>0.0</td>\n",
       "      <td>0.0</td>\n",
       "      <td>0.0</td>\n",
       "      <td>0.0</td>\n",
       "      <td>0.0</td>\n",
       "      <td>0.0</td>\n",
       "      <td>0.0</td>\n",
       "      <td>0.0</td>\n",
       "      <td>...</td>\n",
       "      <td>0.0</td>\n",
       "      <td>0.0</td>\n",
       "      <td>0.0</td>\n",
       "      <td>0.0</td>\n",
       "      <td>0.0</td>\n",
       "      <td>0.000000</td>\n",
       "      <td>0.000000</td>\n",
       "      <td>1</td>\n",
       "      <td>26</td>\n",
       "      <td>57</td>\n",
       "    </tr>\n",
       "  </tbody>\n",
       "</table>\n",
       "<p>5 rows × 155 columns</p>\n",
       "</div>"
      ],
      "text/plain": [
       "     wood_add_value  wood_reduce_value  stone_add_value  stone_reduce_value  \\\n",
       "25          30000.0            97200.0          20000.0                 0.0   \n",
       "40        1111744.0          1137687.0         491331.0            790208.0   \n",
       "47         249050.0           173248.0          70841.0            117012.0   \n",
       "86              0.0                0.0              0.0                 0.0   \n",
       "119             0.0                0.0              0.0                 0.0   \n",
       "\n",
       "     ivory_add_value  ivory_reduce_value  meat_add_value  meat_reduce_value  \\\n",
       "25               0.0                 0.0        160500.0            80392.0   \n",
       "40           77000.0                 0.0       1457249.0           708483.0   \n",
       "47           55000.0                 0.0        206366.0            82205.0   \n",
       "86               0.0                 0.0             0.0                0.0   \n",
       "119              0.0                 0.0             0.0                0.0   \n",
       "\n",
       "     magic_add_value  magic_reduce_value         ...           wound_med_rate  \\\n",
       "25           12000.0                 0.0         ...                      0.0   \n",
       "40          217455.0            162987.0         ...                      0.0   \n",
       "47           29902.0             88064.0         ...                      0.0   \n",
       "86               0.0                 0.0         ...                      0.0   \n",
       "119              0.0                 0.0         ...                      0.0   \n",
       "\n",
       "     accelerate_add_mean  accelerate_add_med  accelerate_reduce_mean  \\\n",
       "25                 100.0                75.0                     0.0   \n",
       "40                 631.2               618.0                   322.8   \n",
       "47                 226.8                45.0                   415.8   \n",
       "86                   0.0                 0.0                     0.0   \n",
       "119                  0.0                 0.0                     0.0   \n",
       "\n",
       "     accelerate_reduce_med  accelerate_mean_rate  accelerate_med_rate  \\\n",
       "25                     0.0              0.000000             0.000000   \n",
       "40                   500.0              0.510598             0.807754   \n",
       "47                     0.0              1.825285             0.000000   \n",
       "86                     0.0              0.000000             0.000000   \n",
       "119                    0.0              0.000000             0.000000   \n",
       "\n",
       "     register_time_month  register_time_day  register_time_count  \n",
       "25                     1                 26                   57  \n",
       "40                     1                 26                   57  \n",
       "47                     1                 26                   57  \n",
       "86                     1                 26                   57  \n",
       "119                    1                 26                   57  \n",
       "\n",
       "[5 rows x 155 columns]"
      ]
     },
     "execution_count": 19,
     "metadata": {},
     "output_type": "execute_result"
    }
   ],
   "source": [
    "classify_train.head()"
   ]
  },
  {
   "cell_type": "code",
   "execution_count": 20,
   "metadata": {
    "ExecuteTime": {
     "end_time": "2018-10-20T09:42:47.991292Z",
     "start_time": "2018-10-20T09:42:47.926289Z"
    }
   },
   "outputs": [
    {
     "data": {
      "text/plain": [
       "(41439, 159)"
      ]
     },
     "execution_count": 20,
     "metadata": {},
     "output_type": "execute_result"
    }
   ],
   "source": [
    "train.shape"
   ]
  },
  {
   "cell_type": "code",
   "execution_count": 21,
   "metadata": {
    "ExecuteTime": {
     "end_time": "2018-10-20T09:42:48.517322Z",
     "start_time": "2018-10-20T09:42:47.993292Z"
    }
   },
   "outputs": [
    {
     "name": "stderr",
     "output_type": "stream",
     "text": [
      "D:\\ProgramData\\Anaconda3\\lib\\site-packages\\sklearn\\cross_validation.py:41: DeprecationWarning: This module was deprecated in version 0.18 in favor of the model_selection module into which all the refactored classes and functions are moved. Also note that the interface of the new CV iterators are different from that of this module. This module will be removed in 0.20.\n",
      "  \"This module will be removed in 0.20.\", DeprecationWarning)\n"
     ]
    }
   ],
   "source": [
    "from sklearn.model_selection import GridSearchCV\n",
    "from xgboost import XGBClassifier\n",
    "from sklearn.externals import joblib\n",
    "from sklearn.metrics import classification_report,accuracy_score,confusion_matrix\n",
    "from sklearn.cross_validation import train_test_split,cross_val_score\n",
    "import lightgbm  as lgb"
   ]
  },
  {
   "cell_type": "code",
   "execution_count": 22,
   "metadata": {
    "ExecuteTime": {
     "end_time": "2018-10-20T09:42:48.839341Z",
     "start_time": "2018-10-20T09:42:48.519322Z"
    }
   },
   "outputs": [],
   "source": [
    "# classify_train=train.iloc[:,1:-4]\n",
    "cl_t = classify_train.iloc[:, :-3].drop_duplicates()\n",
    "X_train,X_test,y_train,y_test=train_test_split(cl_t,train.loc[cl_t.index,'new_pay_label'],test_size=0.2,random_state=13)\n"
   ]
  },
  {
   "cell_type": "code",
   "execution_count": 23,
   "metadata": {
    "ExecuteTime": {
     "end_time": "2018-10-20T09:43:03.967206Z",
     "start_time": "2018-10-20T09:42:48.841341Z"
    }
   },
   "outputs": [
    {
     "name": "stdout",
     "output_type": "stream",
     "text": [
      "Fitting 3 folds for each of 1 candidates, totalling 3 fits\n"
     ]
    },
    {
     "name": "stderr",
     "output_type": "stream",
     "text": [
      "[Parallel(n_jobs=4)]: Done   3 out of   3 | elapsed:   11.3s finished\n"
     ]
    },
    {
     "name": "stdout",
     "output_type": "stream",
     "text": [
      "准确率 0.7718096170316897\n",
      "混淆矩阵 [[4936  942]\n",
      " [ 923 1372]]\n",
      "分类报告              precision    recall  f1-score   support\n",
      "\n",
      "          0       0.84      0.84      0.84      5878\n",
      "          1       0.59      0.60      0.60      2295\n",
      "\n",
      "avg / total       0.77      0.77      0.77      8173\n",
      "\n"
     ]
    },
    {
     "name": "stderr",
     "output_type": "stream",
     "text": [
      "D:\\ProgramData\\Anaconda3\\lib\\site-packages\\sklearn\\preprocessing\\label.py:151: DeprecationWarning: The truth value of an empty array is ambiguous. Returning False, but in future this will result in an error. Use `array.size > 0` to check that an array is not empty.\n",
      "  if diff:\n"
     ]
    }
   ],
   "source": [
    "## best score is not great\n",
    "model43= GridSearchCV(\n",
    "    estimator=lgb.LGBMClassifier( max_bin=128),\n",
    "    param_grid={\n",
    "        'n_estimators': [1000],\n",
    "        'learning_rate': [0.48],\n",
    "        'max_depth': [4],\n",
    "        'subsample': [0.65],\n",
    "        'colsample_bytree': [0.45],\n",
    "       # 'scale_pos_weight': [2.6],\n",
    "        'is_unbalance':[True]\n",
    "    },\n",
    "    scoring='f1',\n",
    "    cv=3,\n",
    "    n_jobs=4,\n",
    "    verbose=1).fit(X_train,y_train)\n",
    "\n",
    "ypred43=model43.predict(X_test)\n",
    "predictions=ypred43\n",
    "print('准确率',accuracy_score(y_test,predictions))\n",
    "print('混淆矩阵',confusion_matrix(y_test,predictions))\n",
    "print('分类报告',classification_report(y_test,predictions))"
   ]
  },
  {
   "cell_type": "code",
   "execution_count": 24,
   "metadata": {
    "ExecuteTime": {
     "end_time": "2018-10-20T09:45:32.594707Z",
     "start_time": "2018-10-20T09:43:03.989207Z"
    }
   },
   "outputs": [
    {
     "name": "stdout",
     "output_type": "stream",
     "text": [
      "Fitting 3 folds for each of 1 candidates, totalling 3 fits\n"
     ]
    },
    {
     "name": "stderr",
     "output_type": "stream",
     "text": [
      "[Parallel(n_jobs=4)]: Done   3 out of   3 | elapsed:   58.1s finished\n"
     ]
    }
   ],
   "source": [
    "model42= GridSearchCV(\n",
    "     estimator=XGBClassifier( max_bin=128),\n",
    "    param_grid={\n",
    "        'n_estimators': [1000],\n",
    "        'learning_rate': [0.1],\n",
    "        'max_depth': [2],\n",
    "        'subsample': [1],\n",
    "        'colsample_bytree': [0.8],\n",
    "        'scale_pos_weight': [2.5, ],\n",
    "        'min_child_weight': [2, ]\n",
    "    },\n",
    "    scoring='f1',\n",
    "    cv=3,\n",
    "    n_jobs=4,\n",
    "    verbose=1).fit(X_train,y_train)"
   ]
  },
  {
   "cell_type": "code",
   "execution_count": 25,
   "metadata": {
    "ExecuteTime": {
     "end_time": "2018-10-20T09:45:32.778718Z",
     "start_time": "2018-10-20T09:45:32.596707Z"
    }
   },
   "outputs": [
    {
     "name": "stdout",
     "output_type": "stream",
     "text": [
      "准确率 0.7737672825156001\n",
      "混淆矩阵 [[4548 1330]\n",
      " [ 519 1776]]\n",
      "分类报告              precision    recall  f1-score   support\n",
      "\n",
      "          0       0.90      0.77      0.83      5878\n",
      "          1       0.57      0.77      0.66      2295\n",
      "\n",
      "avg / total       0.81      0.77      0.78      8173\n",
      "\n"
     ]
    },
    {
     "name": "stderr",
     "output_type": "stream",
     "text": [
      "D:\\ProgramData\\Anaconda3\\lib\\site-packages\\sklearn\\preprocessing\\label.py:151: DeprecationWarning: The truth value of an empty array is ambiguous. Returning False, but in future this will result in an error. Use `array.size > 0` to check that an array is not empty.\n",
      "  if diff:\n"
     ]
    }
   ],
   "source": [
    "ypred42=model42.predict(X_test)\n",
    "predictions=ypred42\n",
    "print('准确率',accuracy_score(y_test,predictions))\n",
    "print('混淆矩阵',confusion_matrix(y_test,predictions))\n",
    "print('分类报告',classification_report(y_test,predictions))"
   ]
  },
  {
   "cell_type": "code",
   "execution_count": 26,
   "metadata": {
    "ExecuteTime": {
     "end_time": "2018-10-20T09:45:47.567563Z",
     "start_time": "2018-10-20T09:45:32.779718Z"
    }
   },
   "outputs": [
    {
     "name": "stdout",
     "output_type": "stream",
     "text": [
      "Fitting 3 folds for each of 1 candidates, totalling 3 fits\n"
     ]
    },
    {
     "name": "stderr",
     "output_type": "stream",
     "text": [
      "[Parallel(n_jobs=4)]: Done   3 out of   3 | elapsed:   11.0s finished\n"
     ]
    },
    {
     "name": "stdout",
     "output_type": "stream",
     "text": [
      "准确率 0.7771931971124434\n",
      "混淆矩阵 [[4576 1302]\n",
      " [ 519 1776]]\n",
      "分类报告              precision    recall  f1-score   support\n",
      "\n",
      "          0       0.90      0.78      0.83      5878\n",
      "          1       0.58      0.77      0.66      2295\n",
      "\n",
      "avg / total       0.81      0.78      0.79      8173\n",
      "\n"
     ]
    },
    {
     "name": "stderr",
     "output_type": "stream",
     "text": [
      "D:\\ProgramData\\Anaconda3\\lib\\site-packages\\sklearn\\preprocessing\\label.py:151: DeprecationWarning: The truth value of an empty array is ambiguous. Returning False, but in future this will result in an error. Use `array.size > 0` to check that an array is not empty.\n",
      "  if diff:\n"
     ]
    }
   ],
   "source": [
    "model44= GridSearchCV(\n",
    "    estimator=lgb.LGBMClassifier(),\n",
    "    param_grid={\n",
    "        'num_leaves':[114],\n",
    "        'n_estimators': [1000],\n",
    "        'learning_rate': [0.064],\n",
    "        'max_depth': [3],\n",
    "        'subsample': [1],\n",
    "         'subsample': [0.8],\n",
    "        'colsample_bytree': [0.56],\n",
    "        'scale_pos_weight': [2.5, ],\n",
    "#         'min_child_weight': [2, ]\n",
    "    },\n",
    "    scoring='f1',\n",
    "    cv=3,\n",
    "    n_jobs=4,\n",
    "    verbose=1).fit(X_train,y_train)\n",
    "\n",
    "ypred44=model44.predict(X_test)\n",
    "predictions=ypred44\n",
    "print('准确率',accuracy_score(y_test,predictions))\n",
    "print('混淆矩阵',confusion_matrix(y_test,predictions))\n",
    "print('分类报告',classification_report(y_test,predictions))"
   ]
  },
  {
   "cell_type": "code",
   "execution_count": 27,
   "metadata": {
    "ExecuteTime": {
     "end_time": "2018-10-20T09:45:47.595565Z",
     "start_time": "2018-10-20T09:45:47.590565Z"
    }
   },
   "outputs": [
    {
     "data": {
      "text/plain": [
       "(41439, 159)"
      ]
     },
     "execution_count": 27,
     "metadata": {},
     "output_type": "execute_result"
    }
   ],
   "source": [
    "train.shape"
   ]
  },
  {
   "cell_type": "code",
   "execution_count": 28,
   "metadata": {
    "ExecuteTime": {
     "end_time": "2018-10-20T09:45:47.670569Z",
     "start_time": "2018-10-20T09:45:47.598565Z"
    }
   },
   "outputs": [
    {
     "data": {
      "text/plain": [
       "(41439, 155)"
      ]
     },
     "execution_count": 28,
     "metadata": {},
     "output_type": "execute_result"
    }
   ],
   "source": [
    "classify_train.shape"
   ]
  },
  {
   "cell_type": "code",
   "execution_count": 29,
   "metadata": {
    "ExecuteTime": {
     "end_time": "2018-10-20T09:45:47.762575Z",
     "start_time": "2018-10-20T09:45:47.671569Z"
    }
   },
   "outputs": [
    {
     "data": {
      "text/plain": [
       "(40863, 152)"
      ]
     },
     "execution_count": 29,
     "metadata": {},
     "output_type": "execute_result"
    }
   ],
   "source": [
    "cl_t.shape"
   ]
  },
  {
   "cell_type": "code",
   "execution_count": 30,
   "metadata": {
    "ExecuteTime": {
     "end_time": "2018-10-20T09:45:47.862580Z",
     "start_time": "2018-10-20T09:45:47.763575Z"
    }
   },
   "outputs": [
    {
     "data": {
      "text/plain": [
       "(32690, 152)"
      ]
     },
     "execution_count": 30,
     "metadata": {},
     "output_type": "execute_result"
    }
   ],
   "source": [
    "X_train.shape"
   ]
  },
  {
   "cell_type": "code",
   "execution_count": 31,
   "metadata": {
    "ExecuteTime": {
     "end_time": "2018-10-20T09:45:47.944585Z",
     "start_time": "2018-10-20T09:45:47.864580Z"
    }
   },
   "outputs": [],
   "source": [
    "from xgboost import XGBRegressor"
   ]
  },
  {
   "cell_type": "code",
   "execution_count": 32,
   "metadata": {
    "ExecuteTime": {
     "end_time": "2018-10-20T09:45:51.610795Z",
     "start_time": "2018-10-20T09:45:47.945585Z"
    }
   },
   "outputs": [],
   "source": [
    "lgbm2=lgb.LGBMClassifier(boosting_type='gbdt',\n",
    "nthread=4, \n",
    "silent=True,\n",
    "n_estimators= 1000,\n",
    "learning_rate= 0.064,\n",
    "max_depth= 3,\n",
    "subsample= 0.8,\n",
    "colsample_bytree= 0.56,\n",
    "scale_pos_weight=2.5).fit(X_train,y_train)"
   ]
  },
  {
   "cell_type": "code",
   "execution_count": 33,
   "metadata": {
    "ExecuteTime": {
     "end_time": "2018-10-20T09:45:51.691799Z",
     "start_time": "2018-10-20T09:45:51.646797Z"
    }
   },
   "outputs": [
    {
     "data": {
      "text/html": [
       "<div>\n",
       "<style scoped>\n",
       "    .dataframe tbody tr th:only-of-type {\n",
       "        vertical-align: middle;\n",
       "    }\n",
       "\n",
       "    .dataframe tbody tr th {\n",
       "        vertical-align: top;\n",
       "    }\n",
       "\n",
       "    .dataframe thead th {\n",
       "        text-align: right;\n",
       "    }\n",
       "</style>\n",
       "<table border=\"1\" class=\"dataframe\">\n",
       "  <thead>\n",
       "    <tr style=\"text-align: right;\">\n",
       "      <th></th>\n",
       "      <th>importance</th>\n",
       "    </tr>\n",
       "  </thead>\n",
       "  <tbody>\n",
       "    <tr>\n",
       "      <th>103</th>\n",
       "      <td>204</td>\n",
       "    </tr>\n",
       "    <tr>\n",
       "      <th>118</th>\n",
       "      <td>157</td>\n",
       "    </tr>\n",
       "    <tr>\n",
       "      <th>117</th>\n",
       "      <td>130</td>\n",
       "    </tr>\n",
       "    <tr>\n",
       "      <th>119</th>\n",
       "      <td>125</td>\n",
       "    </tr>\n",
       "    <tr>\n",
       "      <th>127</th>\n",
       "      <td>120</td>\n",
       "    </tr>\n",
       "    <tr>\n",
       "      <th>30</th>\n",
       "      <td>120</td>\n",
       "    </tr>\n",
       "    <tr>\n",
       "      <th>26</th>\n",
       "      <td>115</td>\n",
       "    </tr>\n",
       "    <tr>\n",
       "      <th>104</th>\n",
       "      <td>111</td>\n",
       "    </tr>\n",
       "    <tr>\n",
       "      <th>110</th>\n",
       "      <td>110</td>\n",
       "    </tr>\n",
       "    <tr>\n",
       "      <th>28</th>\n",
       "      <td>106</td>\n",
       "    </tr>\n",
       "  </tbody>\n",
       "</table>\n",
       "</div>"
      ],
      "text/plain": [
       "     importance\n",
       "103         204\n",
       "118         157\n",
       "117         130\n",
       "119         125\n",
       "127         120\n",
       "30          120\n",
       "26          115\n",
       "104         111\n",
       "110         110\n",
       "28          106"
      ]
     },
     "execution_count": 33,
     "metadata": {},
     "output_type": "execute_result"
    }
   ],
   "source": [
    "df_fi=pd.DataFrame()\n",
    "# df_fi['name']=lgbm2.feature_name()\n",
    "df_fi['importance']=lgbm2.feature_importances_\n",
    "df_fi.sort_values(by=['importance'],axis=0,ascending=False).head(10)"
   ]
  },
  {
   "cell_type": "code",
   "execution_count": 34,
   "metadata": {
    "ExecuteTime": {
     "end_time": "2018-10-20T09:45:52.476844Z",
     "start_time": "2018-10-20T09:45:51.695800Z"
    }
   },
   "outputs": [
    {
     "name": "stdout",
     "output_type": "stream",
     "text": [
      "Fitting 3 folds for each of 1 candidates, totalling 3 fits\n",
      "[CV] colsample_bytree=0.5, learning_rate=0.05, max_depth=2, n_estimators=80, reg_alpha=13.4, subsample=1 \n",
      "[CV]  colsample_bytree=0.5, learning_rate=0.05, max_depth=2, n_estimators=80, reg_alpha=13.4, subsample=1, score=-2039.158935546875, total=   0.1s\n",
      "[CV] colsample_bytree=0.5, learning_rate=0.05, max_depth=2, n_estimators=80, reg_alpha=13.4, subsample=1 \n"
     ]
    },
    {
     "name": "stderr",
     "output_type": "stream",
     "text": [
      "[Parallel(n_jobs=1)]: Done   1 out of   1 | elapsed:    0.1s remaining:    0.0s\n",
      "[Parallel(n_jobs=1)]: Done   2 out of   2 | elapsed:    0.2s remaining:    0.0s\n"
     ]
    },
    {
     "name": "stdout",
     "output_type": "stream",
     "text": [
      "[CV]  colsample_bytree=0.5, learning_rate=0.05, max_depth=2, n_estimators=80, reg_alpha=13.4, subsample=1, score=-1939.374267578125, total=   0.1s\n",
      "[CV] colsample_bytree=0.5, learning_rate=0.05, max_depth=2, n_estimators=80, reg_alpha=13.4, subsample=1 \n",
      "[CV]  colsample_bytree=0.5, learning_rate=0.05, max_depth=2, n_estimators=80, reg_alpha=13.4, subsample=1, score=-2777.19873046875, total=   0.1s\n"
     ]
    },
    {
     "name": "stderr",
     "output_type": "stream",
     "text": [
      "[Parallel(n_jobs=1)]: Done   3 out of   3 | elapsed:    0.4s remaining:    0.0s\n",
      "[Parallel(n_jobs=1)]: Done   3 out of   3 | elapsed:    0.4s finished\n"
     ]
    },
    {
     "name": "stdout",
     "output_type": "stream",
     "text": [
      "47.453811183659944 {'colsample_bytree': 0.5, 'learning_rate': 0.05, 'max_depth': 2, 'n_estimators': 80, 'reg_alpha': 13.4, 'subsample': 1}\n"
     ]
    }
   ],
   "source": [
    "model_reg = GridSearchCV(\n",
    "    estimator=XGBRegressor(),\n",
    "    #     estimator=LinearRegression(),\n",
    "    param_grid={\n",
    "        'n_estimators': [80],\n",
    "        'learning_rate': [0.05],\n",
    "        'max_depth': [2],\n",
    "        'subsample': [1],\n",
    "        'colsample_bytree': [0.5],\n",
    "        'reg_alpha': [13.4],\n",
    "    },\n",
    "    scoring='neg_mean_squared_error',\n",
    "    cv=3,\n",
    "    n_jobs=1,\n",
    "    verbose=4)\n",
    "model_reg.fit(classify_train.iloc[:, [103, 108, 117, 119, 127,30,26,104,110,28]][train['new_pay_label'] == 1],\n",
    "              train.iloc[:, -1][train['new_pay_label'] == 1])\n",
    "# model_reg.fit(cl_t.iloc[:,[105,126,121,132,150]][train.loc[cl_t.index,'new_pay_label']==1],train.iloc[cl_t.index,-1][train.loc[cl_t.index,'new_pay_label']==1])\n",
    "print(np.sqrt(-model_reg.best_score_), model_reg.best_params_)"
   ]
  },
  {
   "cell_type": "code",
   "execution_count": 35,
   "metadata": {
    "ExecuteTime": {
     "end_time": "2018-10-20T09:45:52.486845Z",
     "start_time": "2018-10-20T09:45:52.478844Z"
    }
   },
   "outputs": [
    {
     "data": {
      "text/html": [
       "<div>\n",
       "<style scoped>\n",
       "    .dataframe tbody tr th:only-of-type {\n",
       "        vertical-align: middle;\n",
       "    }\n",
       "\n",
       "    .dataframe tbody tr th {\n",
       "        vertical-align: top;\n",
       "    }\n",
       "\n",
       "    .dataframe thead th {\n",
       "        text-align: right;\n",
       "    }\n",
       "</style>\n",
       "<table border=\"1\" class=\"dataframe\">\n",
       "  <thead>\n",
       "    <tr style=\"text-align: right;\">\n",
       "      <th></th>\n",
       "      <th>new_pay_price</th>\n",
       "      <th>new_pay_rate</th>\n",
       "    </tr>\n",
       "  </thead>\n",
       "  <tbody>\n",
       "    <tr>\n",
       "      <th>25</th>\n",
       "      <td>0.00</td>\n",
       "      <td>1.000000</td>\n",
       "    </tr>\n",
       "    <tr>\n",
       "      <th>40</th>\n",
       "      <td>1.99</td>\n",
       "      <td>1.670034</td>\n",
       "    </tr>\n",
       "    <tr>\n",
       "      <th>47</th>\n",
       "      <td>0.00</td>\n",
       "      <td>1.000000</td>\n",
       "    </tr>\n",
       "    <tr>\n",
       "      <th>86</th>\n",
       "      <td>0.00</td>\n",
       "      <td>1.000000</td>\n",
       "    </tr>\n",
       "    <tr>\n",
       "      <th>119</th>\n",
       "      <td>0.00</td>\n",
       "      <td>1.000000</td>\n",
       "    </tr>\n",
       "  </tbody>\n",
       "</table>\n",
       "</div>"
      ],
      "text/plain": [
       "     new_pay_price  new_pay_rate\n",
       "25            0.00      1.000000\n",
       "40            1.99      1.670034\n",
       "47            0.00      1.000000\n",
       "86            0.00      1.000000\n",
       "119           0.00      1.000000"
      ]
     },
     "execution_count": 35,
     "metadata": {},
     "output_type": "execute_result"
    }
   ],
   "source": [
    "train.iloc[:5,-2:]"
   ]
  },
  {
   "cell_type": "code",
   "execution_count": 36,
   "metadata": {
    "ExecuteTime": {
     "end_time": "2018-10-20T09:45:53.054877Z",
     "start_time": "2018-10-20T09:45:52.487845Z"
    }
   },
   "outputs": [
    {
     "name": "stdout",
     "output_type": "stream",
     "text": [
      "Fitting 3 folds for each of 1 candidates, totalling 3 fits\n",
      "[CV] colsample_bytree=0.56, learning_rate=0.05, max_depth=2, n_estimators=80, subsample=0.8 \n",
      "[CV]  colsample_bytree=0.56, learning_rate=0.05, max_depth=2, n_estimators=80, subsample=0.8, score=-2048.9891337944932, total=   0.0s\n",
      "[CV] colsample_bytree=0.56, learning_rate=0.05, max_depth=2, n_estimators=80, subsample=0.8 \n"
     ]
    },
    {
     "name": "stderr",
     "output_type": "stream",
     "text": [
      "[Parallel(n_jobs=1)]: Done   1 out of   1 | elapsed:    0.0s remaining:    0.0s\n"
     ]
    },
    {
     "name": "stdout",
     "output_type": "stream",
     "text": [
      "[CV]  colsample_bytree=0.56, learning_rate=0.05, max_depth=2, n_estimators=80, subsample=0.8, score=-1937.4693021510093, total=   0.1s\n",
      "[CV] colsample_bytree=0.56, learning_rate=0.05, max_depth=2, n_estimators=80, subsample=0.8 \n",
      "[CV]  colsample_bytree=0.56, learning_rate=0.05, max_depth=2, n_estimators=80, subsample=0.8, score=-2781.3615014570123, total=   0.0s\n",
      "47.49624741659323 {'colsample_bytree': 0.56, 'learning_rate': 0.05, 'max_depth': 2, 'n_estimators': 80, 'subsample': 0.8}\n"
     ]
    },
    {
     "name": "stderr",
     "output_type": "stream",
     "text": [
      "[Parallel(n_jobs=1)]: Done   2 out of   2 | elapsed:    0.3s remaining:    0.0s\n",
      "[Parallel(n_jobs=1)]: Done   3 out of   3 | elapsed:    0.3s remaining:    0.0s\n",
      "[Parallel(n_jobs=1)]: Done   3 out of   3 | elapsed:    0.3s finished\n"
     ]
    }
   ],
   "source": [
    "model_reg2 = GridSearchCV(\n",
    "    estimator=lgb.LGBMRegressor( max_bin=128),\n",
    "    #     estimator=LinearRegression(),\n",
    "    param_grid={\n",
    "        'n_estimators': [80],\n",
    "        'learning_rate': [0.05],\n",
    "        'max_depth': [2],\n",
    "        'subsample': [0.8],\n",
    "        'colsample_bytree': [0.56],\n",
    "#         'reg_alpha': [13.4],\n",
    "    },\n",
    "    scoring='neg_mean_squared_error',\n",
    "    cv=3,\n",
    "    n_jobs=1,\n",
    "    verbose=4)\n",
    "model_reg2.fit(classify_train.iloc[:, [103, 108, 117, 119, 127,30,26,104,110,28]][train['new_pay_label'] == 1],\n",
    "              train.iloc[:, -1][train['new_pay_label'] == 1])\n",
    "# model_reg.fit(cl_t.iloc[:,[105,126,121,132,150]][train.loc[cl_t.index,'new_pay_label']==1],train.iloc[cl_t.index,-1][train.loc[cl_t.index,'new_pay_label']==1])\n",
    "print(np.sqrt(-model_reg2.best_score_), model_reg2.best_params_)"
   ]
  },
  {
   "cell_type": "code",
   "execution_count": 37,
   "metadata": {
    "ExecuteTime": {
     "end_time": "2018-10-20T09:45:53.131882Z",
     "start_time": "2018-10-20T09:45:53.084879Z"
    }
   },
   "outputs": [
    {
     "name": "stderr",
     "output_type": "stream",
     "text": [
      "D:\\ProgramData\\Anaconda3\\lib\\site-packages\\ipykernel_launcher.py:1: UserWarning: Boolean Series key will be reindexed to match DataFrame index.\n",
      "  \"\"\"Entry point for launching an IPython kernel.\n"
     ]
    },
    {
     "data": {
      "text/plain": [
       "(9009, 10)"
      ]
     },
     "execution_count": 37,
     "metadata": {},
     "output_type": "execute_result"
    }
   ],
   "source": [
    "X_train.iloc[:, [103, 108, 117, 119, 127,30,26,104,110,28]][train['new_pay_label'] == 1].shape"
   ]
  },
  {
   "cell_type": "code",
   "execution_count": 38,
   "metadata": {
    "ExecuteTime": {
     "end_time": "2018-10-20T09:45:53.221887Z",
     "start_time": "2018-10-20T09:45:53.134882Z"
    }
   },
   "outputs": [],
   "source": [
    "X_train2,X_test2,y_train2,y_test2=train_test_split(cl_t,train.loc[cl_t.index,'prediction_pay_price'],test_size=0.2,random_state=13)"
   ]
  },
  {
   "cell_type": "code",
   "execution_count": 39,
   "metadata": {
    "ExecuteTime": {
     "end_time": "2018-10-20T09:45:53.290891Z",
     "start_time": "2018-10-20T09:45:53.222887Z"
    }
   },
   "outputs": [
    {
     "data": {
      "text/plain": [
       "(9009,)"
      ]
     },
     "execution_count": 39,
     "metadata": {},
     "output_type": "execute_result"
    }
   ],
   "source": [
    "y_train2[train['new_pay_label'] == 1].shape"
   ]
  },
  {
   "cell_type": "code",
   "execution_count": 40,
   "metadata": {
    "ExecuteTime": {
     "end_time": "2018-10-20T09:45:53.404897Z",
     "start_time": "2018-10-20T09:45:53.291891Z"
    }
   },
   "outputs": [
    {
     "data": {
      "text/html": [
       "<div>\n",
       "<style scoped>\n",
       "    .dataframe tbody tr th:only-of-type {\n",
       "        vertical-align: middle;\n",
       "    }\n",
       "\n",
       "    .dataframe tbody tr th {\n",
       "        vertical-align: top;\n",
       "    }\n",
       "\n",
       "    .dataframe thead th {\n",
       "        text-align: right;\n",
       "    }\n",
       "</style>\n",
       "<table border=\"1\" class=\"dataframe\">\n",
       "  <thead>\n",
       "    <tr style=\"text-align: right;\">\n",
       "      <th></th>\n",
       "      <th>wood_add_value</th>\n",
       "      <th>wood_reduce_value</th>\n",
       "      <th>stone_add_value</th>\n",
       "      <th>stone_reduce_value</th>\n",
       "      <th>ivory_add_value</th>\n",
       "      <th>ivory_reduce_value</th>\n",
       "      <th>meat_add_value</th>\n",
       "      <th>meat_reduce_value</th>\n",
       "      <th>magic_add_value</th>\n",
       "      <th>magic_reduce_value</th>\n",
       "      <th>...</th>\n",
       "      <th>wound_reduce_mean</th>\n",
       "      <th>wound_reduce_med</th>\n",
       "      <th>wound_mean_rate</th>\n",
       "      <th>wound_med_rate</th>\n",
       "      <th>accelerate_add_mean</th>\n",
       "      <th>accelerate_add_med</th>\n",
       "      <th>accelerate_reduce_mean</th>\n",
       "      <th>accelerate_reduce_med</th>\n",
       "      <th>accelerate_mean_rate</th>\n",
       "      <th>accelerate_med_rate</th>\n",
       "    </tr>\n",
       "  </thead>\n",
       "  <tbody>\n",
       "    <tr>\n",
       "      <th>25</th>\n",
       "      <td>30000.0</td>\n",
       "      <td>97200.0</td>\n",
       "      <td>20000.0</td>\n",
       "      <td>0.0</td>\n",
       "      <td>0.0</td>\n",
       "      <td>0.0</td>\n",
       "      <td>160500.0</td>\n",
       "      <td>80392.0</td>\n",
       "      <td>12000.0</td>\n",
       "      <td>0.0</td>\n",
       "      <td>...</td>\n",
       "      <td>0.0</td>\n",
       "      <td>0.0</td>\n",
       "      <td>0.0</td>\n",
       "      <td>0.0</td>\n",
       "      <td>100.0</td>\n",
       "      <td>75.0</td>\n",
       "      <td>0.0</td>\n",
       "      <td>0.0</td>\n",
       "      <td>0.000000</td>\n",
       "      <td>0.000000</td>\n",
       "    </tr>\n",
       "    <tr>\n",
       "      <th>40</th>\n",
       "      <td>1111744.0</td>\n",
       "      <td>1137687.0</td>\n",
       "      <td>491331.0</td>\n",
       "      <td>790208.0</td>\n",
       "      <td>77000.0</td>\n",
       "      <td>0.0</td>\n",
       "      <td>1457249.0</td>\n",
       "      <td>708483.0</td>\n",
       "      <td>217455.0</td>\n",
       "      <td>162987.0</td>\n",
       "      <td>...</td>\n",
       "      <td>0.0</td>\n",
       "      <td>0.0</td>\n",
       "      <td>0.0</td>\n",
       "      <td>0.0</td>\n",
       "      <td>631.2</td>\n",
       "      <td>618.0</td>\n",
       "      <td>322.8</td>\n",
       "      <td>500.0</td>\n",
       "      <td>0.510598</td>\n",
       "      <td>0.807754</td>\n",
       "    </tr>\n",
       "    <tr>\n",
       "      <th>47</th>\n",
       "      <td>249050.0</td>\n",
       "      <td>173248.0</td>\n",
       "      <td>70841.0</td>\n",
       "      <td>117012.0</td>\n",
       "      <td>55000.0</td>\n",
       "      <td>0.0</td>\n",
       "      <td>206366.0</td>\n",
       "      <td>82205.0</td>\n",
       "      <td>29902.0</td>\n",
       "      <td>88064.0</td>\n",
       "      <td>...</td>\n",
       "      <td>0.0</td>\n",
       "      <td>0.0</td>\n",
       "      <td>0.0</td>\n",
       "      <td>0.0</td>\n",
       "      <td>226.8</td>\n",
       "      <td>45.0</td>\n",
       "      <td>415.8</td>\n",
       "      <td>0.0</td>\n",
       "      <td>1.825285</td>\n",
       "      <td>0.000000</td>\n",
       "    </tr>\n",
       "    <tr>\n",
       "      <th>86</th>\n",
       "      <td>0.0</td>\n",
       "      <td>0.0</td>\n",
       "      <td>0.0</td>\n",
       "      <td>0.0</td>\n",
       "      <td>0.0</td>\n",
       "      <td>0.0</td>\n",
       "      <td>0.0</td>\n",
       "      <td>0.0</td>\n",
       "      <td>0.0</td>\n",
       "      <td>0.0</td>\n",
       "      <td>...</td>\n",
       "      <td>0.0</td>\n",
       "      <td>0.0</td>\n",
       "      <td>0.0</td>\n",
       "      <td>0.0</td>\n",
       "      <td>0.0</td>\n",
       "      <td>0.0</td>\n",
       "      <td>0.0</td>\n",
       "      <td>0.0</td>\n",
       "      <td>0.000000</td>\n",
       "      <td>0.000000</td>\n",
       "    </tr>\n",
       "    <tr>\n",
       "      <th>119</th>\n",
       "      <td>0.0</td>\n",
       "      <td>0.0</td>\n",
       "      <td>0.0</td>\n",
       "      <td>0.0</td>\n",
       "      <td>0.0</td>\n",
       "      <td>0.0</td>\n",
       "      <td>0.0</td>\n",
       "      <td>0.0</td>\n",
       "      <td>0.0</td>\n",
       "      <td>0.0</td>\n",
       "      <td>...</td>\n",
       "      <td>0.0</td>\n",
       "      <td>0.0</td>\n",
       "      <td>0.0</td>\n",
       "      <td>0.0</td>\n",
       "      <td>0.0</td>\n",
       "      <td>0.0</td>\n",
       "      <td>0.0</td>\n",
       "      <td>0.0</td>\n",
       "      <td>0.000000</td>\n",
       "      <td>0.000000</td>\n",
       "    </tr>\n",
       "  </tbody>\n",
       "</table>\n",
       "<p>5 rows × 152 columns</p>\n",
       "</div>"
      ],
      "text/plain": [
       "     wood_add_value  wood_reduce_value  stone_add_value  stone_reduce_value  \\\n",
       "25          30000.0            97200.0          20000.0                 0.0   \n",
       "40        1111744.0          1137687.0         491331.0            790208.0   \n",
       "47         249050.0           173248.0          70841.0            117012.0   \n",
       "86              0.0                0.0              0.0                 0.0   \n",
       "119             0.0                0.0              0.0                 0.0   \n",
       "\n",
       "     ivory_add_value  ivory_reduce_value  meat_add_value  meat_reduce_value  \\\n",
       "25               0.0                 0.0        160500.0            80392.0   \n",
       "40           77000.0                 0.0       1457249.0           708483.0   \n",
       "47           55000.0                 0.0        206366.0            82205.0   \n",
       "86               0.0                 0.0             0.0                0.0   \n",
       "119              0.0                 0.0             0.0                0.0   \n",
       "\n",
       "     magic_add_value  magic_reduce_value         ...           \\\n",
       "25           12000.0                 0.0         ...            \n",
       "40          217455.0            162987.0         ...            \n",
       "47           29902.0             88064.0         ...            \n",
       "86               0.0                 0.0         ...            \n",
       "119              0.0                 0.0         ...            \n",
       "\n",
       "     wound_reduce_mean  wound_reduce_med  wound_mean_rate  wound_med_rate  \\\n",
       "25                 0.0               0.0              0.0             0.0   \n",
       "40                 0.0               0.0              0.0             0.0   \n",
       "47                 0.0               0.0              0.0             0.0   \n",
       "86                 0.0               0.0              0.0             0.0   \n",
       "119                0.0               0.0              0.0             0.0   \n",
       "\n",
       "     accelerate_add_mean  accelerate_add_med  accelerate_reduce_mean  \\\n",
       "25                 100.0                75.0                     0.0   \n",
       "40                 631.2               618.0                   322.8   \n",
       "47                 226.8                45.0                   415.8   \n",
       "86                   0.0                 0.0                     0.0   \n",
       "119                  0.0                 0.0                     0.0   \n",
       "\n",
       "     accelerate_reduce_med  accelerate_mean_rate  accelerate_med_rate  \n",
       "25                     0.0              0.000000             0.000000  \n",
       "40                   500.0              0.510598             0.807754  \n",
       "47                     0.0              1.825285             0.000000  \n",
       "86                     0.0              0.000000             0.000000  \n",
       "119                    0.0              0.000000             0.000000  \n",
       "\n",
       "[5 rows x 152 columns]"
      ]
     },
     "execution_count": 40,
     "metadata": {},
     "output_type": "execute_result"
    }
   ],
   "source": [
    "cl_t.head()"
   ]
  },
  {
   "cell_type": "code",
   "execution_count": 41,
   "metadata": {
    "ExecuteTime": {
     "end_time": "2018-10-20T09:45:53.481902Z",
     "start_time": "2018-10-20T09:45:53.405897Z"
    }
   },
   "outputs": [
    {
     "data": {
      "text/plain": [
       "249050.0"
      ]
     },
     "execution_count": 41,
     "metadata": {},
     "output_type": "execute_result"
    }
   ],
   "source": [
    "cl_t.loc[47,'wood_add_value']"
   ]
  },
  {
   "cell_type": "code",
   "execution_count": 42,
   "metadata": {
    "ExecuteTime": {
     "end_time": "2018-10-20T09:45:53.597908Z",
     "start_time": "2018-10-20T09:45:53.483902Z"
    }
   },
   "outputs": [
    {
     "data": {
      "text/plain": [
       "1881402    1201.670044\n",
       "1797734    1186.599976\n",
       "721718       66.930000\n",
       "368091        6.970000\n",
       "1883324       1.980000\n",
       "Name: prediction_pay_price, dtype: float32"
      ]
     },
     "execution_count": 42,
     "metadata": {},
     "output_type": "execute_result"
    }
   ],
   "source": [
    "y_train2[train['new_pay_label'] == 1].head()"
   ]
  },
  {
   "cell_type": "code",
   "execution_count": 43,
   "metadata": {
    "ExecuteTime": {
     "end_time": "2018-10-20T09:45:53.696914Z",
     "start_time": "2018-10-20T09:45:53.599908Z"
    }
   },
   "outputs": [
    {
     "data": {
      "text/plain": [
       "(41439, 159)"
      ]
     },
     "execution_count": 43,
     "metadata": {},
     "output_type": "execute_result"
    }
   ],
   "source": [
    "train.shape"
   ]
  },
  {
   "cell_type": "code",
   "execution_count": 44,
   "metadata": {
    "ExecuteTime": {
     "end_time": "2018-10-20T09:45:53.804920Z",
     "start_time": "2018-10-20T09:45:53.697914Z"
    }
   },
   "outputs": [
    {
     "data": {
      "text/html": [
       "<div>\n",
       "<style scoped>\n",
       "    .dataframe tbody tr th:only-of-type {\n",
       "        vertical-align: middle;\n",
       "    }\n",
       "\n",
       "    .dataframe tbody tr th {\n",
       "        vertical-align: top;\n",
       "    }\n",
       "\n",
       "    .dataframe thead th {\n",
       "        text-align: right;\n",
       "    }\n",
       "</style>\n",
       "<table border=\"1\" class=\"dataframe\">\n",
       "  <thead>\n",
       "    <tr style=\"text-align: right;\">\n",
       "      <th></th>\n",
       "      <th>wood_add_value</th>\n",
       "      <th>wood_reduce_value</th>\n",
       "      <th>stone_add_value</th>\n",
       "      <th>stone_reduce_value</th>\n",
       "      <th>ivory_add_value</th>\n",
       "      <th>ivory_reduce_value</th>\n",
       "      <th>meat_add_value</th>\n",
       "      <th>meat_reduce_value</th>\n",
       "      <th>magic_add_value</th>\n",
       "      <th>magic_reduce_value</th>\n",
       "      <th>...</th>\n",
       "      <th>accelerate_reduce_mean</th>\n",
       "      <th>accelerate_reduce_med</th>\n",
       "      <th>accelerate_mean_rate</th>\n",
       "      <th>accelerate_med_rate</th>\n",
       "      <th>register_time_month</th>\n",
       "      <th>register_time_day</th>\n",
       "      <th>register_time_count</th>\n",
       "      <th>new_pay_label</th>\n",
       "      <th>new_pay_price</th>\n",
       "      <th>new_pay_rate</th>\n",
       "    </tr>\n",
       "  </thead>\n",
       "  <tbody>\n",
       "    <tr>\n",
       "      <th>25</th>\n",
       "      <td>30000.0</td>\n",
       "      <td>97200.0</td>\n",
       "      <td>20000.0</td>\n",
       "      <td>0.0</td>\n",
       "      <td>0.0</td>\n",
       "      <td>0.0</td>\n",
       "      <td>160500.0</td>\n",
       "      <td>80392.0</td>\n",
       "      <td>12000.0</td>\n",
       "      <td>0.0</td>\n",
       "      <td>...</td>\n",
       "      <td>0.0</td>\n",
       "      <td>0.0</td>\n",
       "      <td>0.000000</td>\n",
       "      <td>0.000000</td>\n",
       "      <td>1</td>\n",
       "      <td>26</td>\n",
       "      <td>57</td>\n",
       "      <td>0</td>\n",
       "      <td>0.00</td>\n",
       "      <td>1.000000</td>\n",
       "    </tr>\n",
       "    <tr>\n",
       "      <th>40</th>\n",
       "      <td>1111744.0</td>\n",
       "      <td>1137687.0</td>\n",
       "      <td>491331.0</td>\n",
       "      <td>790208.0</td>\n",
       "      <td>77000.0</td>\n",
       "      <td>0.0</td>\n",
       "      <td>1457249.0</td>\n",
       "      <td>708483.0</td>\n",
       "      <td>217455.0</td>\n",
       "      <td>162987.0</td>\n",
       "      <td>...</td>\n",
       "      <td>322.8</td>\n",
       "      <td>500.0</td>\n",
       "      <td>0.510598</td>\n",
       "      <td>0.807754</td>\n",
       "      <td>1</td>\n",
       "      <td>26</td>\n",
       "      <td>57</td>\n",
       "      <td>1</td>\n",
       "      <td>1.99</td>\n",
       "      <td>1.670034</td>\n",
       "    </tr>\n",
       "    <tr>\n",
       "      <th>47</th>\n",
       "      <td>249050.0</td>\n",
       "      <td>173248.0</td>\n",
       "      <td>70841.0</td>\n",
       "      <td>117012.0</td>\n",
       "      <td>55000.0</td>\n",
       "      <td>0.0</td>\n",
       "      <td>206366.0</td>\n",
       "      <td>82205.0</td>\n",
       "      <td>29902.0</td>\n",
       "      <td>88064.0</td>\n",
       "      <td>...</td>\n",
       "      <td>415.8</td>\n",
       "      <td>0.0</td>\n",
       "      <td>1.825285</td>\n",
       "      <td>0.000000</td>\n",
       "      <td>1</td>\n",
       "      <td>26</td>\n",
       "      <td>57</td>\n",
       "      <td>0</td>\n",
       "      <td>0.00</td>\n",
       "      <td>1.000000</td>\n",
       "    </tr>\n",
       "    <tr>\n",
       "      <th>86</th>\n",
       "      <td>0.0</td>\n",
       "      <td>0.0</td>\n",
       "      <td>0.0</td>\n",
       "      <td>0.0</td>\n",
       "      <td>0.0</td>\n",
       "      <td>0.0</td>\n",
       "      <td>0.0</td>\n",
       "      <td>0.0</td>\n",
       "      <td>0.0</td>\n",
       "      <td>0.0</td>\n",
       "      <td>...</td>\n",
       "      <td>0.0</td>\n",
       "      <td>0.0</td>\n",
       "      <td>0.000000</td>\n",
       "      <td>0.000000</td>\n",
       "      <td>1</td>\n",
       "      <td>26</td>\n",
       "      <td>57</td>\n",
       "      <td>0</td>\n",
       "      <td>0.00</td>\n",
       "      <td>1.000000</td>\n",
       "    </tr>\n",
       "    <tr>\n",
       "      <th>119</th>\n",
       "      <td>0.0</td>\n",
       "      <td>0.0</td>\n",
       "      <td>0.0</td>\n",
       "      <td>0.0</td>\n",
       "      <td>0.0</td>\n",
       "      <td>0.0</td>\n",
       "      <td>0.0</td>\n",
       "      <td>0.0</td>\n",
       "      <td>0.0</td>\n",
       "      <td>0.0</td>\n",
       "      <td>...</td>\n",
       "      <td>0.0</td>\n",
       "      <td>0.0</td>\n",
       "      <td>0.000000</td>\n",
       "      <td>0.000000</td>\n",
       "      <td>1</td>\n",
       "      <td>26</td>\n",
       "      <td>57</td>\n",
       "      <td>0</td>\n",
       "      <td>0.00</td>\n",
       "      <td>1.000000</td>\n",
       "    </tr>\n",
       "  </tbody>\n",
       "</table>\n",
       "<p>5 rows × 159 columns</p>\n",
       "</div>"
      ],
      "text/plain": [
       "     wood_add_value  wood_reduce_value  stone_add_value  stone_reduce_value  \\\n",
       "25          30000.0            97200.0          20000.0                 0.0   \n",
       "40        1111744.0          1137687.0         491331.0            790208.0   \n",
       "47         249050.0           173248.0          70841.0            117012.0   \n",
       "86              0.0                0.0              0.0                 0.0   \n",
       "119             0.0                0.0              0.0                 0.0   \n",
       "\n",
       "     ivory_add_value  ivory_reduce_value  meat_add_value  meat_reduce_value  \\\n",
       "25               0.0                 0.0        160500.0            80392.0   \n",
       "40           77000.0                 0.0       1457249.0           708483.0   \n",
       "47           55000.0                 0.0        206366.0            82205.0   \n",
       "86               0.0                 0.0             0.0                0.0   \n",
       "119              0.0                 0.0             0.0                0.0   \n",
       "\n",
       "     magic_add_value  magic_reduce_value      ...       \\\n",
       "25           12000.0                 0.0      ...        \n",
       "40          217455.0            162987.0      ...        \n",
       "47           29902.0             88064.0      ...        \n",
       "86               0.0                 0.0      ...        \n",
       "119              0.0                 0.0      ...        \n",
       "\n",
       "     accelerate_reduce_mean  accelerate_reduce_med  accelerate_mean_rate  \\\n",
       "25                      0.0                    0.0              0.000000   \n",
       "40                    322.8                  500.0              0.510598   \n",
       "47                    415.8                    0.0              1.825285   \n",
       "86                      0.0                    0.0              0.000000   \n",
       "119                     0.0                    0.0              0.000000   \n",
       "\n",
       "     accelerate_med_rate  register_time_month  register_time_day  \\\n",
       "25              0.000000                    1                 26   \n",
       "40              0.807754                    1                 26   \n",
       "47              0.000000                    1                 26   \n",
       "86              0.000000                    1                 26   \n",
       "119             0.000000                    1                 26   \n",
       "\n",
       "     register_time_count  new_pay_label  new_pay_price  new_pay_rate  \n",
       "25                    57              0           0.00      1.000000  \n",
       "40                    57              1           1.99      1.670034  \n",
       "47                    57              0           0.00      1.000000  \n",
       "86                    57              0           0.00      1.000000  \n",
       "119                   57              0           0.00      1.000000  \n",
       "\n",
       "[5 rows x 159 columns]"
      ]
     },
     "execution_count": 44,
     "metadata": {},
     "output_type": "execute_result"
    }
   ],
   "source": [
    "train.head()"
   ]
  },
  {
   "cell_type": "code",
   "execution_count": 45,
   "metadata": {
    "ExecuteTime": {
     "end_time": "2018-10-20T09:45:53.893925Z",
     "start_time": "2018-10-20T09:45:53.805920Z"
    }
   },
   "outputs": [
    {
     "data": {
      "text/plain": [
       "1345843    0\n",
       "2090091    0\n",
       "1881402    1\n",
       "2256801    0\n",
       "66720      0\n",
       "Name: new_pay_label, dtype: int64"
      ]
     },
     "execution_count": 45,
     "metadata": {},
     "output_type": "execute_result"
    }
   ],
   "source": [
    "y_train.head()"
   ]
  },
  {
   "cell_type": "code",
   "execution_count": 46,
   "metadata": {
    "ExecuteTime": {
     "end_time": "2018-10-20T09:45:54.070935Z",
     "start_time": "2018-10-20T09:45:53.894925Z"
    }
   },
   "outputs": [
    {
     "data": {
      "text/html": [
       "<div>\n",
       "<style scoped>\n",
       "    .dataframe tbody tr th:only-of-type {\n",
       "        vertical-align: middle;\n",
       "    }\n",
       "\n",
       "    .dataframe tbody tr th {\n",
       "        vertical-align: top;\n",
       "    }\n",
       "\n",
       "    .dataframe thead th {\n",
       "        text-align: right;\n",
       "    }\n",
       "</style>\n",
       "<table border=\"1\" class=\"dataframe\">\n",
       "  <thead>\n",
       "    <tr style=\"text-align: right;\">\n",
       "      <th></th>\n",
       "      <th>wood_add_value</th>\n",
       "      <th>wood_reduce_value</th>\n",
       "      <th>stone_add_value</th>\n",
       "      <th>stone_reduce_value</th>\n",
       "      <th>ivory_add_value</th>\n",
       "      <th>ivory_reduce_value</th>\n",
       "      <th>meat_add_value</th>\n",
       "      <th>meat_reduce_value</th>\n",
       "      <th>magic_add_value</th>\n",
       "      <th>magic_reduce_value</th>\n",
       "      <th>...</th>\n",
       "      <th>wound_reduce_mean</th>\n",
       "      <th>wound_reduce_med</th>\n",
       "      <th>wound_mean_rate</th>\n",
       "      <th>wound_med_rate</th>\n",
       "      <th>accelerate_add_mean</th>\n",
       "      <th>accelerate_add_med</th>\n",
       "      <th>accelerate_reduce_mean</th>\n",
       "      <th>accelerate_reduce_med</th>\n",
       "      <th>accelerate_mean_rate</th>\n",
       "      <th>accelerate_med_rate</th>\n",
       "    </tr>\n",
       "  </thead>\n",
       "  <tbody>\n",
       "    <tr>\n",
       "      <th>1345843</th>\n",
       "      <td>17459240.0</td>\n",
       "      <td>16623687.0</td>\n",
       "      <td>10334135.0</td>\n",
       "      <td>9994746.0</td>\n",
       "      <td>3609598.0</td>\n",
       "      <td>230976.0</td>\n",
       "      <td>25762104.0</td>\n",
       "      <td>15944224.0</td>\n",
       "      <td>2610578.0</td>\n",
       "      <td>2162335.0</td>\n",
       "      <td>...</td>\n",
       "      <td>573.666667</td>\n",
       "      <td>248.0</td>\n",
       "      <td>0.998260</td>\n",
       "      <td>0.995984</td>\n",
       "      <td>6650.6</td>\n",
       "      <td>6931.0</td>\n",
       "      <td>6440.4</td>\n",
       "      <td>6736.0</td>\n",
       "      <td>0.968248</td>\n",
       "      <td>0.971725</td>\n",
       "    </tr>\n",
       "    <tr>\n",
       "      <th>2090091</th>\n",
       "      <td>14275742.0</td>\n",
       "      <td>12356548.0</td>\n",
       "      <td>9131365.0</td>\n",
       "      <td>7253012.0</td>\n",
       "      <td>3612261.0</td>\n",
       "      <td>554424.0</td>\n",
       "      <td>20875630.0</td>\n",
       "      <td>11029461.0</td>\n",
       "      <td>1807733.0</td>\n",
       "      <td>1595352.0</td>\n",
       "      <td>...</td>\n",
       "      <td>8216.000000</td>\n",
       "      <td>7628.0</td>\n",
       "      <td>0.999878</td>\n",
       "      <td>0.999869</td>\n",
       "      <td>4872.4</td>\n",
       "      <td>5673.0</td>\n",
       "      <td>3304.0</td>\n",
       "      <td>2628.0</td>\n",
       "      <td>0.677966</td>\n",
       "      <td>0.463165</td>\n",
       "    </tr>\n",
       "    <tr>\n",
       "      <th>1881402</th>\n",
       "      <td>15198119.0</td>\n",
       "      <td>14999577.0</td>\n",
       "      <td>9708878.0</td>\n",
       "      <td>9254496.0</td>\n",
       "      <td>3746189.0</td>\n",
       "      <td>326976.0</td>\n",
       "      <td>20642208.0</td>\n",
       "      <td>13511270.0</td>\n",
       "      <td>2268682.0</td>\n",
       "      <td>2099351.0</td>\n",
       "      <td>...</td>\n",
       "      <td>3812.666667</td>\n",
       "      <td>4082.0</td>\n",
       "      <td>0.999738</td>\n",
       "      <td>0.999755</td>\n",
       "      <td>7701.2</td>\n",
       "      <td>9311.0</td>\n",
       "      <td>7624.6</td>\n",
       "      <td>9303.0</td>\n",
       "      <td>0.989925</td>\n",
       "      <td>0.999034</td>\n",
       "    </tr>\n",
       "    <tr>\n",
       "      <th>2256801</th>\n",
       "      <td>11754094.0</td>\n",
       "      <td>10474688.0</td>\n",
       "      <td>6690583.0</td>\n",
       "      <td>5135796.0</td>\n",
       "      <td>1915315.0</td>\n",
       "      <td>230976.0</td>\n",
       "      <td>13852201.0</td>\n",
       "      <td>8711971.0</td>\n",
       "      <td>2112106.0</td>\n",
       "      <td>1298539.0</td>\n",
       "      <td>...</td>\n",
       "      <td>6593.666667</td>\n",
       "      <td>5995.0</td>\n",
       "      <td>0.999848</td>\n",
       "      <td>0.999833</td>\n",
       "      <td>2665.6</td>\n",
       "      <td>3243.0</td>\n",
       "      <td>1961.8</td>\n",
       "      <td>1836.0</td>\n",
       "      <td>0.735693</td>\n",
       "      <td>0.565968</td>\n",
       "    </tr>\n",
       "    <tr>\n",
       "      <th>66720</th>\n",
       "      <td>2221601.0</td>\n",
       "      <td>1213339.0</td>\n",
       "      <td>1000000.0</td>\n",
       "      <td>0.0</td>\n",
       "      <td>503000.0</td>\n",
       "      <td>0.0</td>\n",
       "      <td>3481722.0</td>\n",
       "      <td>906104.0</td>\n",
       "      <td>46184.0</td>\n",
       "      <td>1500.0</td>\n",
       "      <td>...</td>\n",
       "      <td>0.000000</td>\n",
       "      <td>0.0</td>\n",
       "      <td>0.000000</td>\n",
       "      <td>0.000000</td>\n",
       "      <td>1528.6</td>\n",
       "      <td>431.0</td>\n",
       "      <td>604.0</td>\n",
       "      <td>42.0</td>\n",
       "      <td>0.394874</td>\n",
       "      <td>0.097222</td>\n",
       "    </tr>\n",
       "  </tbody>\n",
       "</table>\n",
       "<p>5 rows × 152 columns</p>\n",
       "</div>"
      ],
      "text/plain": [
       "         wood_add_value  wood_reduce_value  stone_add_value  \\\n",
       "1345843      17459240.0         16623687.0       10334135.0   \n",
       "2090091      14275742.0         12356548.0        9131365.0   \n",
       "1881402      15198119.0         14999577.0        9708878.0   \n",
       "2256801      11754094.0         10474688.0        6690583.0   \n",
       "66720         2221601.0          1213339.0        1000000.0   \n",
       "\n",
       "         stone_reduce_value  ivory_add_value  ivory_reduce_value  \\\n",
       "1345843           9994746.0        3609598.0            230976.0   \n",
       "2090091           7253012.0        3612261.0            554424.0   \n",
       "1881402           9254496.0        3746189.0            326976.0   \n",
       "2256801           5135796.0        1915315.0            230976.0   \n",
       "66720                   0.0         503000.0                 0.0   \n",
       "\n",
       "         meat_add_value  meat_reduce_value  magic_add_value  \\\n",
       "1345843      25762104.0         15944224.0        2610578.0   \n",
       "2090091      20875630.0         11029461.0        1807733.0   \n",
       "1881402      20642208.0         13511270.0        2268682.0   \n",
       "2256801      13852201.0          8711971.0        2112106.0   \n",
       "66720         3481722.0           906104.0          46184.0   \n",
       "\n",
       "         magic_reduce_value         ...           wound_reduce_mean  \\\n",
       "1345843           2162335.0         ...                  573.666667   \n",
       "2090091           1595352.0         ...                 8216.000000   \n",
       "1881402           2099351.0         ...                 3812.666667   \n",
       "2256801           1298539.0         ...                 6593.666667   \n",
       "66720                1500.0         ...                    0.000000   \n",
       "\n",
       "         wound_reduce_med  wound_mean_rate  wound_med_rate  \\\n",
       "1345843             248.0         0.998260        0.995984   \n",
       "2090091            7628.0         0.999878        0.999869   \n",
       "1881402            4082.0         0.999738        0.999755   \n",
       "2256801            5995.0         0.999848        0.999833   \n",
       "66720                 0.0         0.000000        0.000000   \n",
       "\n",
       "         accelerate_add_mean  accelerate_add_med  accelerate_reduce_mean  \\\n",
       "1345843               6650.6              6931.0                  6440.4   \n",
       "2090091               4872.4              5673.0                  3304.0   \n",
       "1881402               7701.2              9311.0                  7624.6   \n",
       "2256801               2665.6              3243.0                  1961.8   \n",
       "66720                 1528.6               431.0                   604.0   \n",
       "\n",
       "         accelerate_reduce_med  accelerate_mean_rate  accelerate_med_rate  \n",
       "1345843                 6736.0              0.968248             0.971725  \n",
       "2090091                 2628.0              0.677966             0.463165  \n",
       "1881402                 9303.0              0.989925             0.999034  \n",
       "2256801                 1836.0              0.735693             0.565968  \n",
       "66720                     42.0              0.394874             0.097222  \n",
       "\n",
       "[5 rows x 152 columns]"
      ]
     },
     "execution_count": 46,
     "metadata": {},
     "output_type": "execute_result"
    }
   ],
   "source": [
    "X_train2.head()"
   ]
  },
  {
   "cell_type": "code",
   "execution_count": 47,
   "metadata": {
    "ExecuteTime": {
     "end_time": "2018-10-20T09:45:54.179942Z",
     "start_time": "2018-10-20T09:45:54.071935Z"
    }
   },
   "outputs": [
    {
     "data": {
      "text/html": [
       "<div>\n",
       "<style scoped>\n",
       "    .dataframe tbody tr th:only-of-type {\n",
       "        vertical-align: middle;\n",
       "    }\n",
       "\n",
       "    .dataframe tbody tr th {\n",
       "        vertical-align: top;\n",
       "    }\n",
       "\n",
       "    .dataframe thead th {\n",
       "        text-align: right;\n",
       "    }\n",
       "</style>\n",
       "<table border=\"1\" class=\"dataframe\">\n",
       "  <thead>\n",
       "    <tr style=\"text-align: right;\">\n",
       "      <th></th>\n",
       "      <th>avg_online_minutes</th>\n",
       "      <th>ivory_add_rate</th>\n",
       "      <th>general_acceleration_add_rate</th>\n",
       "      <th>reaserch_acceleration_add_rate</th>\n",
       "      <th>price_online_minutes_rate</th>\n",
       "      <th>treatment_acceleration_add_value</th>\n",
       "      <th>reaserch_acceleration_add_value</th>\n",
       "      <th>pay_price</th>\n",
       "      <th>magic_add_rate</th>\n",
       "      <th>training_acceleration_add_value</th>\n",
       "    </tr>\n",
       "  </thead>\n",
       "  <tbody>\n",
       "    <tr>\n",
       "      <th>1345843</th>\n",
       "      <td>379.333344</td>\n",
       "      <td>15.627522</td>\n",
       "      <td>1.014185</td>\n",
       "      <td>1.028796</td>\n",
       "      <td>21.121012</td>\n",
       "      <td>423</td>\n",
       "      <td>6931</td>\n",
       "      <td>16.959999</td>\n",
       "      <td>1.207295</td>\n",
       "      <td>6680</td>\n",
       "    </tr>\n",
       "    <tr>\n",
       "      <th>2090091</th>\n",
       "      <td>191.833328</td>\n",
       "      <td>6.515328</td>\n",
       "      <td>3.179933</td>\n",
       "      <td>1.174930</td>\n",
       "      <td>27.483284</td>\n",
       "      <td>415</td>\n",
       "      <td>7086</td>\n",
       "      <td>5.980000</td>\n",
       "      <td>1.133124</td>\n",
       "      <td>4988</td>\n",
       "    </tr>\n",
       "    <tr>\n",
       "      <th>1881402</th>\n",
       "      <td>287.166656</td>\n",
       "      <td>11.457042</td>\n",
       "      <td>0.999897</td>\n",
       "      <td>0.999899</td>\n",
       "      <td>8.720518</td>\n",
       "      <td>371</td>\n",
       "      <td>9894</td>\n",
       "      <td>31.930000</td>\n",
       "      <td>1.080658</td>\n",
       "      <td>9311</td>\n",
       "    </tr>\n",
       "    <tr>\n",
       "      <th>2256801</th>\n",
       "      <td>174.166672</td>\n",
       "      <td>8.292233</td>\n",
       "      <td>1.765378</td>\n",
       "      <td>1.198711</td>\n",
       "      <td>87.520943</td>\n",
       "      <td>188</td>\n",
       "      <td>4464</td>\n",
       "      <td>0.990000</td>\n",
       "      <td>1.626524</td>\n",
       "      <td>1486</td>\n",
       "    </tr>\n",
       "    <tr>\n",
       "      <th>66720</th>\n",
       "      <td>16.333332</td>\n",
       "      <td>503000.000000</td>\n",
       "      <td>10.023256</td>\n",
       "      <td>25.753425</td>\n",
       "      <td>5.480984</td>\n",
       "      <td>15</td>\n",
       "      <td>3760</td>\n",
       "      <td>1.980000</td>\n",
       "      <td>30.768822</td>\n",
       "      <td>255</td>\n",
       "    </tr>\n",
       "  </tbody>\n",
       "</table>\n",
       "</div>"
      ],
      "text/plain": [
       "         avg_online_minutes  ivory_add_rate  general_acceleration_add_rate  \\\n",
       "1345843          379.333344       15.627522                       1.014185   \n",
       "2090091          191.833328        6.515328                       3.179933   \n",
       "1881402          287.166656       11.457042                       0.999897   \n",
       "2256801          174.166672        8.292233                       1.765378   \n",
       "66720             16.333332   503000.000000                      10.023256   \n",
       "\n",
       "         reaserch_acceleration_add_rate  price_online_minutes_rate  \\\n",
       "1345843                        1.028796                  21.121012   \n",
       "2090091                        1.174930                  27.483284   \n",
       "1881402                        0.999899                   8.720518   \n",
       "2256801                        1.198711                  87.520943   \n",
       "66720                         25.753425                   5.480984   \n",
       "\n",
       "         treatment_acceleration_add_value  reaserch_acceleration_add_value  \\\n",
       "1345843                               423                             6931   \n",
       "2090091                               415                             7086   \n",
       "1881402                               371                             9894   \n",
       "2256801                               188                             4464   \n",
       "66720                                  15                             3760   \n",
       "\n",
       "         pay_price  magic_add_rate  training_acceleration_add_value  \n",
       "1345843  16.959999        1.207295                             6680  \n",
       "2090091   5.980000        1.133124                             4988  \n",
       "1881402  31.930000        1.080658                             9311  \n",
       "2256801   0.990000        1.626524                             1486  \n",
       "66720     1.980000       30.768822                              255  "
      ]
     },
     "execution_count": 47,
     "metadata": {},
     "output_type": "execute_result"
    }
   ],
   "source": [
    "X_train2.iloc[:, [103, 108, 117, 119, 127,30,26,104,110,28]].head()"
   ]
  },
  {
   "cell_type": "code",
   "execution_count": 48,
   "metadata": {
    "ExecuteTime": {
     "end_time": "2018-10-20T09:45:54.255946Z",
     "start_time": "2018-10-20T09:45:54.180942Z"
    }
   },
   "outputs": [
    {
     "data": {
      "text/plain": [
       "287.16666"
      ]
     },
     "execution_count": 48,
     "metadata": {},
     "output_type": "execute_result"
    }
   ],
   "source": [
    "cl_t.loc[1881402,'avg_online_minutes']"
   ]
  },
  {
   "cell_type": "code",
   "execution_count": 49,
   "metadata": {
    "ExecuteTime": {
     "end_time": "2018-10-20T09:45:54.346951Z",
     "start_time": "2018-10-20T09:45:54.256946Z"
    }
   },
   "outputs": [
    {
     "data": {
      "text/plain": [
       "287.16666"
      ]
     },
     "execution_count": 49,
     "metadata": {},
     "output_type": "execute_result"
    }
   ],
   "source": [
    "train.loc[1881402,'avg_online_minutes']"
   ]
  },
  {
   "cell_type": "code",
   "execution_count": 50,
   "metadata": {
    "ExecuteTime": {
     "end_time": "2018-10-20T09:45:54.432956Z",
     "start_time": "2018-10-20T09:45:54.347951Z"
    }
   },
   "outputs": [],
   "source": [
    "y_test22=train.loc[y_train2[train['new_pay_label'] == 1].index,'pay_price']"
   ]
  },
  {
   "cell_type": "code",
   "execution_count": 51,
   "metadata": {
    "ExecuteTime": {
     "end_time": "2018-10-20T09:45:54.500960Z",
     "start_time": "2018-10-20T09:45:54.433956Z"
    }
   },
   "outputs": [
    {
     "data": {
      "text/plain": [
       "(9009,)"
      ]
     },
     "execution_count": 51,
     "metadata": {},
     "output_type": "execute_result"
    }
   ],
   "source": [
    "train.loc[y_train2[train['new_pay_label'] == 1].index,'pay_price'].shape"
   ]
  },
  {
   "cell_type": "code",
   "execution_count": 52,
   "metadata": {
    "ExecuteTime": {
     "end_time": "2018-10-20T09:45:54.770975Z",
     "start_time": "2018-10-20T09:45:54.501960Z"
    }
   },
   "outputs": [
    {
     "data": {
      "text/plain": [
       "1881402    1201.670044\n",
       "1797734    1186.599976\n",
       "721718       66.930000\n",
       "368091        6.970000\n",
       "1883324       1.980000\n",
       "Name: prediction_pay_price, dtype: float32"
      ]
     },
     "execution_count": 52,
     "metadata": {},
     "output_type": "execute_result"
    }
   ],
   "source": [
    "y_train2[train['new_pay_label'] == 1].head()"
   ]
  },
  {
   "cell_type": "code",
   "execution_count": 53,
   "metadata": {
    "ExecuteTime": {
     "end_time": "2018-10-20T09:45:55.184999Z",
     "start_time": "2018-10-20T09:45:54.771976Z"
    }
   },
   "outputs": [],
   "source": [
    "y_train22=y_train2[train['new_pay_label'] == 1]/train.loc[y_train2[train['new_pay_label'] == 1].index,'pay_price'] "
   ]
  },
  {
   "cell_type": "code",
   "execution_count": 54,
   "metadata": {
    "ExecuteTime": {
     "end_time": "2018-10-20T09:45:55.450014Z",
     "start_time": "2018-10-20T09:45:55.185999Z"
    }
   },
   "outputs": [
    {
     "data": {
      "text/plain": [
       "1881402    37.634514\n",
       "1797734     3.629967\n",
       "721718      1.425863\n",
       "368091      7.040404\n",
       "1883324     2.000000\n",
       "dtype: float32"
      ]
     },
     "execution_count": 54,
     "metadata": {},
     "output_type": "execute_result"
    }
   ],
   "source": [
    "y_train22.head()"
   ]
  },
  {
   "cell_type": "code",
   "execution_count": 146,
   "metadata": {
    "ExecuteTime": {
     "end_time": "2018-10-22T07:58:46.418613Z",
     "start_time": "2018-10-22T07:58:46.406613Z"
    }
   },
   "outputs": [
    {
     "data": {
      "text/plain": [
       "(32690, 152)"
      ]
     },
     "execution_count": 146,
     "metadata": {},
     "output_type": "execute_result"
    }
   ],
   "source": [
    "X_train2.shape"
   ]
  },
  {
   "cell_type": "code",
   "execution_count": 147,
   "metadata": {
    "ExecuteTime": {
     "end_time": "2018-10-22T07:58:56.168957Z",
     "start_time": "2018-10-22T07:58:56.158956Z"
    }
   },
   "outputs": [
    {
     "data": {
      "text/plain": [
       "(41439, 159)"
      ]
     },
     "execution_count": 147,
     "metadata": {},
     "output_type": "execute_result"
    }
   ],
   "source": [
    "train.shape"
   ]
  },
  {
   "cell_type": "code",
   "execution_count": 149,
   "metadata": {
    "ExecuteTime": {
     "end_time": "2018-10-22T07:59:34.541777Z",
     "start_time": "2018-10-22T07:59:34.512776Z"
    }
   },
   "outputs": [
    {
     "name": "stderr",
     "output_type": "stream",
     "text": [
      "D:\\ProgramData\\Anaconda3\\lib\\site-packages\\ipykernel_launcher.py:1: UserWarning: Boolean Series key will be reindexed to match DataFrame index.\n",
      "  \"\"\"Entry point for launching an IPython kernel.\n"
     ]
    },
    {
     "data": {
      "text/plain": [
       "(9009, 10)"
      ]
     },
     "execution_count": 149,
     "metadata": {},
     "output_type": "execute_result"
    }
   ],
   "source": [
    "X_train2.iloc[:, [103, 108, 117, 119, 127,30,26,104,110,28]][train['new_pay_label'] >0].shape"
   ]
  },
  {
   "cell_type": "code",
   "execution_count": 55,
   "metadata": {
    "ExecuteTime": {
     "end_time": "2018-10-20T09:45:55.920041Z",
     "start_time": "2018-10-20T09:45:55.451014Z"
    }
   },
   "outputs": [
    {
     "name": "stderr",
     "output_type": "stream",
     "text": [
      "D:\\ProgramData\\Anaconda3\\lib\\site-packages\\ipykernel_launcher.py:16: UserWarning: Boolean Series key will be reindexed to match DataFrame index.\n",
      "  app.launch_new_instance()\n",
      "[Parallel(n_jobs=1)]: Done   1 out of   1 | elapsed:    0.0s remaining:    0.0s\n",
      "[Parallel(n_jobs=1)]: Done   2 out of   2 | elapsed:    0.0s remaining:    0.0s\n",
      "[Parallel(n_jobs=1)]: Done   3 out of   3 | elapsed:    0.1s remaining:    0.0s\n",
      "[Parallel(n_jobs=1)]: Done   3 out of   3 | elapsed:    0.1s finished\n"
     ]
    },
    {
     "name": "stdout",
     "output_type": "stream",
     "text": [
      "Fitting 3 folds for each of 1 candidates, totalling 3 fits\n",
      "[CV] colsample_bytree=0.56, learning_rate=0.05, max_depth=2, n_estimators=80, subsample=0.8 \n",
      "[CV]  colsample_bytree=0.56, learning_rate=0.05, max_depth=2, n_estimators=80, subsample=0.8, score=-1499.9033699189426, total=   0.0s\n",
      "[CV] colsample_bytree=0.56, learning_rate=0.05, max_depth=2, n_estimators=80, subsample=0.8 \n",
      "[CV]  colsample_bytree=0.56, learning_rate=0.05, max_depth=2, n_estimators=80, subsample=0.8, score=-4716.759710367509, total=   0.0s\n",
      "[CV] colsample_bytree=0.56, learning_rate=0.05, max_depth=2, n_estimators=80, subsample=0.8 \n",
      "[CV]  colsample_bytree=0.56, learning_rate=0.05, max_depth=2, n_estimators=80, subsample=0.8, score=-835.1602143268522, total=   0.0s\n",
      "48.48306678492091 {'colsample_bytree': 0.56, 'learning_rate': 0.05, 'max_depth': 2, 'n_estimators': 80, 'subsample': 0.8}\n"
     ]
    }
   ],
   "source": [
    "model_reg3 = GridSearchCV(\n",
    "    estimator=lgb.LGBMRegressor( max_bin=128),\n",
    "    #     estimator=LinearRegression(),\n",
    "    param_grid={\n",
    "        'n_estimators': [80],\n",
    "        'learning_rate': [0.05],\n",
    "        'max_depth': [2],\n",
    "        'subsample': [0.8],\n",
    "        'colsample_bytree': [0.56],\n",
    "#         'reg_alpha': [13.4],\n",
    "    },\n",
    "    scoring='neg_mean_squared_error',\n",
    "    cv=3,\n",
    "    n_jobs=1,\n",
    "    verbose=4)\n",
    "model_reg3.fit(X_train2.iloc[:, [103, 108, 117, 119, 127,30,26,104,110,28]][train['new_pay_label'] == 1],\n",
    "              y_train22)\n",
    "# model_reg.fit(cl_t.iloc[:,[105,126,121,132,150]][train.loc[cl_t.index,'new_pay_label']==1],train.iloc[cl_t.index,-1][train.loc[cl_t.index,'new_pay_label']==1])\n",
    "print(np.sqrt(-model_reg3.best_score_), model_reg3.best_params_)"
   ]
  },
  {
   "cell_type": "code",
   "execution_count": 56,
   "metadata": {
    "ExecuteTime": {
     "end_time": "2018-10-20T09:45:55.992045Z",
     "start_time": "2018-10-20T09:45:55.924041Z"
    }
   },
   "outputs": [
    {
     "name": "stderr",
     "output_type": "stream",
     "text": [
      "D:\\ProgramData\\Anaconda3\\lib\\site-packages\\ipykernel_launcher.py:1: UserWarning: Boolean Series key will be reindexed to match DataFrame index.\n",
      "  \"\"\"Entry point for launching an IPython kernel.\n"
     ]
    }
   ],
   "source": [
    "y_model_reg3_pred=model_reg3.predict(X_test2.iloc[:, [103, 108, 117, 119, 127,30,26,104,110,28]][train['new_pay_label'] == 1])"
   ]
  },
  {
   "cell_type": "code",
   "execution_count": 57,
   "metadata": {
    "ExecuteTime": {
     "end_time": "2018-10-20T09:45:56.071050Z",
     "start_time": "2018-10-20T09:45:55.997046Z"
    }
   },
   "outputs": [],
   "source": [
    "from sklearn.metrics import mean_squared_error"
   ]
  },
  {
   "cell_type": "code",
   "execution_count": 58,
   "metadata": {
    "ExecuteTime": {
     "end_time": "2018-10-20T09:45:56.183056Z",
     "start_time": "2018-10-20T09:45:56.072050Z"
    }
   },
   "outputs": [],
   "source": [
    "y_test22=y_test2[train['new_pay_label'] == 1]/train.loc[y_test2[train['new_pay_label'] == 1].index,'pay_price'] "
   ]
  },
  {
   "cell_type": "code",
   "execution_count": 59,
   "metadata": {
    "ExecuteTime": {
     "end_time": "2018-10-20T09:45:56.281062Z",
     "start_time": "2018-10-20T09:45:56.184056Z"
    }
   },
   "outputs": [
    {
     "data": {
      "text/plain": [
       "43.37976375723224"
      ]
     },
     "execution_count": 59,
     "metadata": {},
     "output_type": "execute_result"
    }
   ],
   "source": [
    "np.sqrt(mean_squared_error(y_test22,y_model_reg3_pred))"
   ]
  },
  {
   "cell_type": "code",
   "execution_count": 60,
   "metadata": {
    "ExecuteTime": {
     "end_time": "2018-10-20T09:45:56.388068Z",
     "start_time": "2018-10-20T09:45:56.282062Z"
    }
   },
   "outputs": [],
   "source": [
    "################# for test data"
   ]
  },
  {
   "cell_type": "code",
   "execution_count": 61,
   "metadata": {
    "ExecuteTime": {
     "end_time": "2018-10-20T09:45:56.497074Z",
     "start_time": "2018-10-20T09:45:56.389068Z"
    }
   },
   "outputs": [
    {
     "data": {
      "text/html": [
       "<div>\n",
       "<style scoped>\n",
       "    .dataframe tbody tr th:only-of-type {\n",
       "        vertical-align: middle;\n",
       "    }\n",
       "\n",
       "    .dataframe tbody tr th {\n",
       "        vertical-align: top;\n",
       "    }\n",
       "\n",
       "    .dataframe thead th {\n",
       "        text-align: right;\n",
       "    }\n",
       "</style>\n",
       "<table border=\"1\" class=\"dataframe\">\n",
       "  <thead>\n",
       "    <tr style=\"text-align: right;\">\n",
       "      <th></th>\n",
       "      <th>user_id</th>\n",
       "      <th>register_time</th>\n",
       "      <th>wood_add_value</th>\n",
       "      <th>wood_reduce_value</th>\n",
       "      <th>stone_add_value</th>\n",
       "      <th>stone_reduce_value</th>\n",
       "      <th>ivory_add_value</th>\n",
       "      <th>ivory_reduce_value</th>\n",
       "      <th>meat_add_value</th>\n",
       "      <th>meat_reduce_value</th>\n",
       "      <th>...</th>\n",
       "      <th>sr_rss_help_bonus_level</th>\n",
       "      <th>pvp_battle_count</th>\n",
       "      <th>pvp_lanch_count</th>\n",
       "      <th>pvp_win_count</th>\n",
       "      <th>pve_battle_count</th>\n",
       "      <th>pve_lanch_count</th>\n",
       "      <th>pve_win_count</th>\n",
       "      <th>avg_online_minutes</th>\n",
       "      <th>pay_price</th>\n",
       "      <th>pay_count</th>\n",
       "    </tr>\n",
       "  </thead>\n",
       "  <tbody>\n",
       "    <tr>\n",
       "      <th>0</th>\n",
       "      <td>14933</td>\n",
       "      <td>2018-03-08 20:27:57</td>\n",
       "      <td>166415.0</td>\n",
       "      <td>138362.0</td>\n",
       "      <td>0.0</td>\n",
       "      <td>0.0</td>\n",
       "      <td>0.0</td>\n",
       "      <td>0.0</td>\n",
       "      <td>258522.0</td>\n",
       "      <td>90142.0</td>\n",
       "      <td>...</td>\n",
       "      <td>0</td>\n",
       "      <td>0</td>\n",
       "      <td>0</td>\n",
       "      <td>0</td>\n",
       "      <td>1</td>\n",
       "      <td>1</td>\n",
       "      <td>1</td>\n",
       "      <td>8.000000</td>\n",
       "      <td>0.0</td>\n",
       "      <td>0</td>\n",
       "    </tr>\n",
       "    <tr>\n",
       "      <th>1</th>\n",
       "      <td>14934</td>\n",
       "      <td>2018-03-08 20:29:42</td>\n",
       "      <td>10000.0</td>\n",
       "      <td>600.0</td>\n",
       "      <td>0.0</td>\n",
       "      <td>0.0</td>\n",
       "      <td>0.0</td>\n",
       "      <td>0.0</td>\n",
       "      <td>10000.0</td>\n",
       "      <td>400.0</td>\n",
       "      <td>...</td>\n",
       "      <td>0</td>\n",
       "      <td>0</td>\n",
       "      <td>0</td>\n",
       "      <td>0</td>\n",
       "      <td>0</td>\n",
       "      <td>0</td>\n",
       "      <td>0</td>\n",
       "      <td>0.166667</td>\n",
       "      <td>0.0</td>\n",
       "      <td>0</td>\n",
       "    </tr>\n",
       "    <tr>\n",
       "      <th>2</th>\n",
       "      <td>14935</td>\n",
       "      <td>2018-03-08 20:30:13</td>\n",
       "      <td>10000.0</td>\n",
       "      <td>3700.0</td>\n",
       "      <td>0.0</td>\n",
       "      <td>0.0</td>\n",
       "      <td>0.0</td>\n",
       "      <td>0.0</td>\n",
       "      <td>10000.0</td>\n",
       "      <td>2000.0</td>\n",
       "      <td>...</td>\n",
       "      <td>0</td>\n",
       "      <td>0</td>\n",
       "      <td>0</td>\n",
       "      <td>0</td>\n",
       "      <td>0</td>\n",
       "      <td>0</td>\n",
       "      <td>0</td>\n",
       "      <td>17.000000</td>\n",
       "      <td>0.0</td>\n",
       "      <td>0</td>\n",
       "    </tr>\n",
       "    <tr>\n",
       "      <th>3</th>\n",
       "      <td>14936</td>\n",
       "      <td>2018-03-08 20:31:41</td>\n",
       "      <td>210000.0</td>\n",
       "      <td>0.0</td>\n",
       "      <td>200000.0</td>\n",
       "      <td>0.0</td>\n",
       "      <td>200000.0</td>\n",
       "      <td>0.0</td>\n",
       "      <td>610000.0</td>\n",
       "      <td>0.0</td>\n",
       "      <td>...</td>\n",
       "      <td>0</td>\n",
       "      <td>0</td>\n",
       "      <td>0</td>\n",
       "      <td>0</td>\n",
       "      <td>0</td>\n",
       "      <td>0</td>\n",
       "      <td>0</td>\n",
       "      <td>1.666667</td>\n",
       "      <td>0.0</td>\n",
       "      <td>0</td>\n",
       "    </tr>\n",
       "    <tr>\n",
       "      <th>4</th>\n",
       "      <td>14937</td>\n",
       "      <td>2018-03-08 20:32:07</td>\n",
       "      <td>11500.0</td>\n",
       "      <td>3700.0</td>\n",
       "      <td>0.0</td>\n",
       "      <td>0.0</td>\n",
       "      <td>0.0</td>\n",
       "      <td>0.0</td>\n",
       "      <td>11000.0</td>\n",
       "      <td>2000.0</td>\n",
       "      <td>...</td>\n",
       "      <td>0</td>\n",
       "      <td>0</td>\n",
       "      <td>0</td>\n",
       "      <td>0</td>\n",
       "      <td>0</td>\n",
       "      <td>0</td>\n",
       "      <td>0</td>\n",
       "      <td>0.333333</td>\n",
       "      <td>0.0</td>\n",
       "      <td>0</td>\n",
       "    </tr>\n",
       "  </tbody>\n",
       "</table>\n",
       "<p>5 rows × 108 columns</p>\n",
       "</div>"
      ],
      "text/plain": [
       "   user_id       register_time  wood_add_value  wood_reduce_value  \\\n",
       "0    14933 2018-03-08 20:27:57        166415.0           138362.0   \n",
       "1    14934 2018-03-08 20:29:42         10000.0              600.0   \n",
       "2    14935 2018-03-08 20:30:13         10000.0             3700.0   \n",
       "3    14936 2018-03-08 20:31:41        210000.0                0.0   \n",
       "4    14937 2018-03-08 20:32:07         11500.0             3700.0   \n",
       "\n",
       "   stone_add_value  stone_reduce_value  ivory_add_value  ivory_reduce_value  \\\n",
       "0              0.0                 0.0              0.0                 0.0   \n",
       "1              0.0                 0.0              0.0                 0.0   \n",
       "2              0.0                 0.0              0.0                 0.0   \n",
       "3         200000.0                 0.0         200000.0                 0.0   \n",
       "4              0.0                 0.0              0.0                 0.0   \n",
       "\n",
       "   meat_add_value  meat_reduce_value    ...      sr_rss_help_bonus_level  \\\n",
       "0        258522.0            90142.0    ...                            0   \n",
       "1         10000.0              400.0    ...                            0   \n",
       "2         10000.0             2000.0    ...                            0   \n",
       "3        610000.0                0.0    ...                            0   \n",
       "4         11000.0             2000.0    ...                            0   \n",
       "\n",
       "   pvp_battle_count  pvp_lanch_count  pvp_win_count  pve_battle_count  \\\n",
       "0                 0                0              0                 1   \n",
       "1                 0                0              0                 0   \n",
       "2                 0                0              0                 0   \n",
       "3                 0                0              0                 0   \n",
       "4                 0                0              0                 0   \n",
       "\n",
       "   pve_lanch_count  pve_win_count  avg_online_minutes  pay_price  pay_count  \n",
       "0                1              1            8.000000        0.0          0  \n",
       "1                0              0            0.166667        0.0          0  \n",
       "2                0              0           17.000000        0.0          0  \n",
       "3                0              0            1.666667        0.0          0  \n",
       "4                0              0            0.333333        0.0          0  \n",
       "\n",
       "[5 rows x 108 columns]"
      ]
     },
     "execution_count": 61,
     "metadata": {},
     "output_type": "execute_result"
    }
   ],
   "source": [
    "data_test.head()"
   ]
  },
  {
   "cell_type": "code",
   "execution_count": 62,
   "metadata": {
    "ExecuteTime": {
     "end_time": "2018-10-20T09:45:56.606080Z",
     "start_time": "2018-10-20T09:45:56.499074Z"
    }
   },
   "outputs": [],
   "source": [
    "# del test_data"
   ]
  },
  {
   "cell_type": "code",
   "execution_count": 63,
   "metadata": {
    "ExecuteTime": {
     "end_time": "2018-10-20T09:45:56.960101Z",
     "start_time": "2018-10-20T09:45:56.607080Z"
    }
   },
   "outputs": [],
   "source": [
    "test_user=data_test.iloc[:,:2]\n",
    "test_data=data_test.iloc[:,2:]"
   ]
  },
  {
   "cell_type": "code",
   "execution_count": 64,
   "metadata": {
    "ExecuteTime": {
     "end_time": "2018-10-20T09:45:57.085108Z",
     "start_time": "2018-10-20T09:45:56.962101Z"
    }
   },
   "outputs": [],
   "source": [
    "column_name2=test_data.columns.values[:32].tolist()\n",
    "for i in range(len(column_name2)):\n",
    "    if (i+2) % 2 == 0 :\n",
    "        name=column_name2[i].replace('value','rate')\n",
    "        #print(name)\n",
    "        test_data[name]=test_data[column_name2[i]] / (test_data[column_name2[i+1]]+1)"
   ]
  },
  {
   "cell_type": "code",
   "execution_count": 65,
   "metadata": {
    "ExecuteTime": {
     "end_time": "2018-10-20T09:58:44.680012Z",
     "start_time": "2018-10-20T09:45:57.086108Z"
    }
   },
   "outputs": [],
   "source": [
    "test_data['pvp_lanch_battle_rate']=test_data['pvp_battle_count']/(test_data['pvp_lanch_count']+1)\n",
    "test_data['pvp_win_battle_rate']=test_data['pvp_battle_count']/(test_data['pvp_win_count']+1)\n",
    "test_data['pvp_win_lanch_rate']=test_data['pvp_lanch_count']/(test_data['pvp_win_count']+1)\n",
    "test_data['pve_win_battle_rate']=test_data['pvp_battle_count']/(test_data['pve_win_count']+1)\n",
    "test_data['pay_price_rate']=test_data['pay_count']/(test_data['pay_price']+1)\n",
    "test_data['price_online_minutes_rate']=test_data['avg_online_minutes']/(test_data['pay_price']+1)\n",
    "\n",
    "\n",
    "test_data['resource_add_mean']=test_data.iloc[:,[0,2,4,6,8]].apply(lambda x:x.mean(),axis=1)\n",
    "test_data['resource_add_med']=test_data.iloc[:,[0,2,4,6,8]].apply(lambda x:x.median(),axis=1)\n",
    "test_data['resource_reduce_mean']=test_data.iloc[:,[1, 3, 5, 7, 9]].apply(lambda x:x.mean(),axis=1)\n",
    "test_data['resource_reduce_med']=test_data.iloc[:,[1, 3, 5, 7, 9]].apply(lambda x:x.median(),axis=1)\n",
    "\n",
    "test_data['resource_mean_rate']=test_data['resource_reduce_mean']/(test_data['resource_add_mean']+1)\n",
    "test_data['resource_med_rate']=test_data['resource_reduce_med']/(test_data['resource_add_med']+1)\n",
    "\n",
    "test_data['army_add_mean']=test_data.iloc[:,[10, 12, 14]].apply(lambda x:x.mean(),axis=1)\n",
    "test_data['army_add_med']=test_data.iloc[:,[10, 12, 14]].apply(lambda x:x.median(),axis=1)\n",
    "test_data['army_reduce_mean']=test_data.iloc[:,[11, 13, 15]].apply(lambda x:x.mean(),axis=1)\n",
    "test_data['army_reduce_med']=test_data.iloc[:,[11, 13, 15]].apply(lambda x:x.median(),axis=1)\n",
    "\n",
    "test_data['army_mean_rate']=test_data['army_reduce_mean']/(test_data['army_add_mean']+1)\n",
    "test_data['army_med_rate']=test_data['army_reduce_med']/(test_data['army_add_med']+1)\n",
    "\n",
    "test_data['wound_add_mean'] = test_data.iloc[:, [16, 18, 20]].apply(lambda x: x.mean(), axis=1)\n",
    "test_data['wound_add_med'] = test_data.iloc[:, [16, 18, 20]].apply(lambda x: x.median(), axis=1)\n",
    "test_data['wound_reduce_mean'] = test_data.iloc[:, [17, 19, 21]].apply(lambda x: x.mean(), axis=1)\n",
    "test_data['wound_reduce_med'] = test_data.iloc[:, [17, 19, 21]].apply(lambda x: x.median(), axis=1)\n",
    "\n",
    "test_data['wound_mean_rate']=test_data['wound_reduce_mean']/(test_data['wound_add_mean']+1)\n",
    "test_data['wound_med_rate']=test_data['wound_reduce_med']/(test_data['wound_add_med']+1)\n",
    "\n",
    "test_data['accelerate_add_mean'] = test_data.iloc[:, [22, 24, 26, 28, 30]].apply(lambda x: x.mean(), axis=1)\n",
    "test_data['accelerate_add_med'] = test_data.iloc[:, [22, 24, 26, 28, 30]].apply(lambda x: x.median(), axis=1)\n",
    "test_data['accelerate_reduce_mean'] = test_data.iloc[:, [23, 25, 27, 29, 31]].apply(lambda x: x.mean(), axis=1)\n",
    "test_data['accelerate_reduce_med'] = test_data.iloc[:, [23, 25, 27, 29, 31]].apply(lambda x: x.median(), axis=1)\n",
    "\n",
    "test_data['accelerate_mean_rate']=test_data['accelerate_reduce_mean']/(test_data['accelerate_add_mean']+1)\n",
    "test_data['accelerate_med_rate']=test_data['accelerate_reduce_med']/(test_data['accelerate_add_med']+1)\n",
    "\n",
    "# classify_test=test.iloc[:,0:-3]"
   ]
  },
  {
   "cell_type": "code",
   "execution_count": 66,
   "metadata": {
    "ExecuteTime": {
     "end_time": "2018-10-20T09:58:44.685012Z",
     "start_time": "2018-10-20T09:58:44.681012Z"
    }
   },
   "outputs": [
    {
     "data": {
      "text/plain": [
       "(828934, 152)"
      ]
     },
     "execution_count": 66,
     "metadata": {},
     "output_type": "execute_result"
    }
   ],
   "source": [
    "test_data.shape"
   ]
  },
  {
   "cell_type": "code",
   "execution_count": 67,
   "metadata": {
    "ExecuteTime": {
     "end_time": "2018-10-20T09:58:54.450571Z",
     "start_time": "2018-10-20T09:58:44.687012Z"
    }
   },
   "outputs": [],
   "source": [
    "test_user['register_time_month']=pd.to_numeric(test_user.register_time.apply(lambda x:str(x)).str[5:7])\n",
    "test_user['register_time_day']=pd.to_numeric(test_user.register_time.apply(lambda x:str(x)).str[8:10])\n",
    "test_user.drop(labels=['register_time'],axis=1,inplace=True)\n",
    "test_user['register_time_count']=test_user['register_time_month']*31+test_user['register_time_day']\n",
    "test_data['register_time_month']=test_user['register_time_month']\n",
    "test_data['register_time_day']=test_user['register_time_day']\n",
    "test_data['register_time_count']=test_user['register_time_count']\n",
    "test = test_data[test_data['pay_price'] > 0]"
   ]
  },
  {
   "cell_type": "code",
   "execution_count": 68,
   "metadata": {
    "ExecuteTime": {
     "end_time": "2018-10-22T01:03:10.235409Z",
     "start_time": "2018-10-22T01:03:10.216808Z"
    }
   },
   "outputs": [
    {
     "data": {
      "text/plain": [
       "(828934, 155)"
      ]
     },
     "execution_count": 68,
     "metadata": {},
     "output_type": "execute_result"
    }
   ],
   "source": [
    "test_data.shape"
   ]
  },
  {
   "cell_type": "code",
   "execution_count": 69,
   "metadata": {
    "ExecuteTime": {
     "end_time": "2018-10-22T01:03:14.930694Z",
     "start_time": "2018-10-22T01:03:14.925694Z"
    }
   },
   "outputs": [
    {
     "data": {
      "text/plain": [
       "(32690, 152)"
      ]
     },
     "execution_count": 69,
     "metadata": {},
     "output_type": "execute_result"
    }
   ],
   "source": [
    "X_train.shape"
   ]
  },
  {
   "cell_type": "code",
   "execution_count": 70,
   "metadata": {
    "ExecuteTime": {
     "end_time": "2018-10-22T01:03:16.811370Z",
     "start_time": "2018-10-22T01:03:16.778769Z"
    }
   },
   "outputs": [
    {
     "data": {
      "text/html": [
       "<div>\n",
       "<style scoped>\n",
       "    .dataframe tbody tr th:only-of-type {\n",
       "        vertical-align: middle;\n",
       "    }\n",
       "\n",
       "    .dataframe tbody tr th {\n",
       "        vertical-align: top;\n",
       "    }\n",
       "\n",
       "    .dataframe thead th {\n",
       "        text-align: right;\n",
       "    }\n",
       "</style>\n",
       "<table border=\"1\" class=\"dataframe\">\n",
       "  <thead>\n",
       "    <tr style=\"text-align: right;\">\n",
       "      <th></th>\n",
       "      <th>wood_add_value</th>\n",
       "      <th>wood_reduce_value</th>\n",
       "      <th>stone_add_value</th>\n",
       "      <th>stone_reduce_value</th>\n",
       "      <th>ivory_add_value</th>\n",
       "      <th>ivory_reduce_value</th>\n",
       "      <th>meat_add_value</th>\n",
       "      <th>meat_reduce_value</th>\n",
       "      <th>magic_add_value</th>\n",
       "      <th>magic_reduce_value</th>\n",
       "      <th>...</th>\n",
       "      <th>wound_reduce_mean</th>\n",
       "      <th>wound_reduce_med</th>\n",
       "      <th>wound_mean_rate</th>\n",
       "      <th>wound_med_rate</th>\n",
       "      <th>accelerate_add_mean</th>\n",
       "      <th>accelerate_add_med</th>\n",
       "      <th>accelerate_reduce_mean</th>\n",
       "      <th>accelerate_reduce_med</th>\n",
       "      <th>accelerate_mean_rate</th>\n",
       "      <th>accelerate_med_rate</th>\n",
       "    </tr>\n",
       "  </thead>\n",
       "  <tbody>\n",
       "    <tr>\n",
       "      <th>1345843</th>\n",
       "      <td>17459240.0</td>\n",
       "      <td>16623687.0</td>\n",
       "      <td>10334135.0</td>\n",
       "      <td>9994746.0</td>\n",
       "      <td>3609598.0</td>\n",
       "      <td>230976.0</td>\n",
       "      <td>25762104.0</td>\n",
       "      <td>15944224.0</td>\n",
       "      <td>2610578.0</td>\n",
       "      <td>2162335.0</td>\n",
       "      <td>...</td>\n",
       "      <td>573.666667</td>\n",
       "      <td>248.0</td>\n",
       "      <td>0.998260</td>\n",
       "      <td>0.995984</td>\n",
       "      <td>6650.6</td>\n",
       "      <td>6931.0</td>\n",
       "      <td>6440.4</td>\n",
       "      <td>6736.0</td>\n",
       "      <td>0.968248</td>\n",
       "      <td>0.971725</td>\n",
       "    </tr>\n",
       "    <tr>\n",
       "      <th>2090091</th>\n",
       "      <td>14275742.0</td>\n",
       "      <td>12356548.0</td>\n",
       "      <td>9131365.0</td>\n",
       "      <td>7253012.0</td>\n",
       "      <td>3612261.0</td>\n",
       "      <td>554424.0</td>\n",
       "      <td>20875630.0</td>\n",
       "      <td>11029461.0</td>\n",
       "      <td>1807733.0</td>\n",
       "      <td>1595352.0</td>\n",
       "      <td>...</td>\n",
       "      <td>8216.000000</td>\n",
       "      <td>7628.0</td>\n",
       "      <td>0.999878</td>\n",
       "      <td>0.999869</td>\n",
       "      <td>4872.4</td>\n",
       "      <td>5673.0</td>\n",
       "      <td>3304.0</td>\n",
       "      <td>2628.0</td>\n",
       "      <td>0.677966</td>\n",
       "      <td>0.463165</td>\n",
       "    </tr>\n",
       "    <tr>\n",
       "      <th>1881402</th>\n",
       "      <td>15198119.0</td>\n",
       "      <td>14999577.0</td>\n",
       "      <td>9708878.0</td>\n",
       "      <td>9254496.0</td>\n",
       "      <td>3746189.0</td>\n",
       "      <td>326976.0</td>\n",
       "      <td>20642208.0</td>\n",
       "      <td>13511270.0</td>\n",
       "      <td>2268682.0</td>\n",
       "      <td>2099351.0</td>\n",
       "      <td>...</td>\n",
       "      <td>3812.666667</td>\n",
       "      <td>4082.0</td>\n",
       "      <td>0.999738</td>\n",
       "      <td>0.999755</td>\n",
       "      <td>7701.2</td>\n",
       "      <td>9311.0</td>\n",
       "      <td>7624.6</td>\n",
       "      <td>9303.0</td>\n",
       "      <td>0.989925</td>\n",
       "      <td>0.999034</td>\n",
       "    </tr>\n",
       "    <tr>\n",
       "      <th>2256801</th>\n",
       "      <td>11754094.0</td>\n",
       "      <td>10474688.0</td>\n",
       "      <td>6690583.0</td>\n",
       "      <td>5135796.0</td>\n",
       "      <td>1915315.0</td>\n",
       "      <td>230976.0</td>\n",
       "      <td>13852201.0</td>\n",
       "      <td>8711971.0</td>\n",
       "      <td>2112106.0</td>\n",
       "      <td>1298539.0</td>\n",
       "      <td>...</td>\n",
       "      <td>6593.666667</td>\n",
       "      <td>5995.0</td>\n",
       "      <td>0.999848</td>\n",
       "      <td>0.999833</td>\n",
       "      <td>2665.6</td>\n",
       "      <td>3243.0</td>\n",
       "      <td>1961.8</td>\n",
       "      <td>1836.0</td>\n",
       "      <td>0.735693</td>\n",
       "      <td>0.565968</td>\n",
       "    </tr>\n",
       "    <tr>\n",
       "      <th>66720</th>\n",
       "      <td>2221601.0</td>\n",
       "      <td>1213339.0</td>\n",
       "      <td>1000000.0</td>\n",
       "      <td>0.0</td>\n",
       "      <td>503000.0</td>\n",
       "      <td>0.0</td>\n",
       "      <td>3481722.0</td>\n",
       "      <td>906104.0</td>\n",
       "      <td>46184.0</td>\n",
       "      <td>1500.0</td>\n",
       "      <td>...</td>\n",
       "      <td>0.000000</td>\n",
       "      <td>0.0</td>\n",
       "      <td>0.000000</td>\n",
       "      <td>0.000000</td>\n",
       "      <td>1528.6</td>\n",
       "      <td>431.0</td>\n",
       "      <td>604.0</td>\n",
       "      <td>42.0</td>\n",
       "      <td>0.394874</td>\n",
       "      <td>0.097222</td>\n",
       "    </tr>\n",
       "  </tbody>\n",
       "</table>\n",
       "<p>5 rows × 152 columns</p>\n",
       "</div>"
      ],
      "text/plain": [
       "         wood_add_value  wood_reduce_value  stone_add_value  \\\n",
       "1345843      17459240.0         16623687.0       10334135.0   \n",
       "2090091      14275742.0         12356548.0        9131365.0   \n",
       "1881402      15198119.0         14999577.0        9708878.0   \n",
       "2256801      11754094.0         10474688.0        6690583.0   \n",
       "66720         2221601.0          1213339.0        1000000.0   \n",
       "\n",
       "         stone_reduce_value  ivory_add_value  ivory_reduce_value  \\\n",
       "1345843           9994746.0        3609598.0            230976.0   \n",
       "2090091           7253012.0        3612261.0            554424.0   \n",
       "1881402           9254496.0        3746189.0            326976.0   \n",
       "2256801           5135796.0        1915315.0            230976.0   \n",
       "66720                   0.0         503000.0                 0.0   \n",
       "\n",
       "         meat_add_value  meat_reduce_value  magic_add_value  \\\n",
       "1345843      25762104.0         15944224.0        2610578.0   \n",
       "2090091      20875630.0         11029461.0        1807733.0   \n",
       "1881402      20642208.0         13511270.0        2268682.0   \n",
       "2256801      13852201.0          8711971.0        2112106.0   \n",
       "66720         3481722.0           906104.0          46184.0   \n",
       "\n",
       "         magic_reduce_value         ...           wound_reduce_mean  \\\n",
       "1345843           2162335.0         ...                  573.666667   \n",
       "2090091           1595352.0         ...                 8216.000000   \n",
       "1881402           2099351.0         ...                 3812.666667   \n",
       "2256801           1298539.0         ...                 6593.666667   \n",
       "66720                1500.0         ...                    0.000000   \n",
       "\n",
       "         wound_reduce_med  wound_mean_rate  wound_med_rate  \\\n",
       "1345843             248.0         0.998260        0.995984   \n",
       "2090091            7628.0         0.999878        0.999869   \n",
       "1881402            4082.0         0.999738        0.999755   \n",
       "2256801            5995.0         0.999848        0.999833   \n",
       "66720                 0.0         0.000000        0.000000   \n",
       "\n",
       "         accelerate_add_mean  accelerate_add_med  accelerate_reduce_mean  \\\n",
       "1345843               6650.6              6931.0                  6440.4   \n",
       "2090091               4872.4              5673.0                  3304.0   \n",
       "1881402               7701.2              9311.0                  7624.6   \n",
       "2256801               2665.6              3243.0                  1961.8   \n",
       "66720                 1528.6               431.0                   604.0   \n",
       "\n",
       "         accelerate_reduce_med  accelerate_mean_rate  accelerate_med_rate  \n",
       "1345843                 6736.0              0.968248             0.971725  \n",
       "2090091                 2628.0              0.677966             0.463165  \n",
       "1881402                 9303.0              0.989925             0.999034  \n",
       "2256801                 1836.0              0.735693             0.565968  \n",
       "66720                     42.0              0.394874             0.097222  \n",
       "\n",
       "[5 rows x 152 columns]"
      ]
     },
     "execution_count": 70,
     "metadata": {},
     "output_type": "execute_result"
    }
   ],
   "source": [
    "X_train.head()"
   ]
  },
  {
   "cell_type": "code",
   "execution_count": 71,
   "metadata": {
    "ExecuteTime": {
     "end_time": "2018-10-22T01:03:20.041063Z",
     "start_time": "2018-10-22T01:03:19.991461Z"
    }
   },
   "outputs": [
    {
     "data": {
      "text/html": [
       "<div>\n",
       "<style scoped>\n",
       "    .dataframe tbody tr th:only-of-type {\n",
       "        vertical-align: middle;\n",
       "    }\n",
       "\n",
       "    .dataframe tbody tr th {\n",
       "        vertical-align: top;\n",
       "    }\n",
       "\n",
       "    .dataframe thead th {\n",
       "        text-align: right;\n",
       "    }\n",
       "</style>\n",
       "<table border=\"1\" class=\"dataframe\">\n",
       "  <thead>\n",
       "    <tr style=\"text-align: right;\">\n",
       "      <th></th>\n",
       "      <th>wood_add_value</th>\n",
       "      <th>wood_reduce_value</th>\n",
       "      <th>stone_add_value</th>\n",
       "      <th>stone_reduce_value</th>\n",
       "      <th>ivory_add_value</th>\n",
       "      <th>ivory_reduce_value</th>\n",
       "      <th>meat_add_value</th>\n",
       "      <th>meat_reduce_value</th>\n",
       "      <th>magic_add_value</th>\n",
       "      <th>magic_reduce_value</th>\n",
       "      <th>...</th>\n",
       "      <th>wound_med_rate</th>\n",
       "      <th>accelerate_add_mean</th>\n",
       "      <th>accelerate_add_med</th>\n",
       "      <th>accelerate_reduce_mean</th>\n",
       "      <th>accelerate_reduce_med</th>\n",
       "      <th>accelerate_mean_rate</th>\n",
       "      <th>accelerate_med_rate</th>\n",
       "      <th>register_time_month</th>\n",
       "      <th>register_time_day</th>\n",
       "      <th>register_time_count</th>\n",
       "    </tr>\n",
       "  </thead>\n",
       "  <tbody>\n",
       "    <tr>\n",
       "      <th>0</th>\n",
       "      <td>166415.0</td>\n",
       "      <td>138362.0</td>\n",
       "      <td>0.0</td>\n",
       "      <td>0.0</td>\n",
       "      <td>0.0</td>\n",
       "      <td>0.0</td>\n",
       "      <td>258522.0</td>\n",
       "      <td>90142.0</td>\n",
       "      <td>0.0</td>\n",
       "      <td>0.0</td>\n",
       "      <td>...</td>\n",
       "      <td>0.0</td>\n",
       "      <td>101.0</td>\n",
       "      <td>60.0</td>\n",
       "      <td>4.2</td>\n",
       "      <td>0.0</td>\n",
       "      <td>0.041176</td>\n",
       "      <td>0.0</td>\n",
       "      <td>3</td>\n",
       "      <td>8</td>\n",
       "      <td>101</td>\n",
       "    </tr>\n",
       "    <tr>\n",
       "      <th>1</th>\n",
       "      <td>10000.0</td>\n",
       "      <td>600.0</td>\n",
       "      <td>0.0</td>\n",
       "      <td>0.0</td>\n",
       "      <td>0.0</td>\n",
       "      <td>0.0</td>\n",
       "      <td>10000.0</td>\n",
       "      <td>400.0</td>\n",
       "      <td>0.0</td>\n",
       "      <td>0.0</td>\n",
       "      <td>...</td>\n",
       "      <td>0.0</td>\n",
       "      <td>0.0</td>\n",
       "      <td>0.0</td>\n",
       "      <td>0.0</td>\n",
       "      <td>0.0</td>\n",
       "      <td>0.000000</td>\n",
       "      <td>0.0</td>\n",
       "      <td>3</td>\n",
       "      <td>8</td>\n",
       "      <td>101</td>\n",
       "    </tr>\n",
       "    <tr>\n",
       "      <th>2</th>\n",
       "      <td>10000.0</td>\n",
       "      <td>3700.0</td>\n",
       "      <td>0.0</td>\n",
       "      <td>0.0</td>\n",
       "      <td>0.0</td>\n",
       "      <td>0.0</td>\n",
       "      <td>10000.0</td>\n",
       "      <td>2000.0</td>\n",
       "      <td>0.0</td>\n",
       "      <td>0.0</td>\n",
       "      <td>...</td>\n",
       "      <td>0.0</td>\n",
       "      <td>0.0</td>\n",
       "      <td>0.0</td>\n",
       "      <td>0.0</td>\n",
       "      <td>0.0</td>\n",
       "      <td>0.000000</td>\n",
       "      <td>0.0</td>\n",
       "      <td>3</td>\n",
       "      <td>8</td>\n",
       "      <td>101</td>\n",
       "    </tr>\n",
       "    <tr>\n",
       "      <th>3</th>\n",
       "      <td>210000.0</td>\n",
       "      <td>0.0</td>\n",
       "      <td>200000.0</td>\n",
       "      <td>0.0</td>\n",
       "      <td>200000.0</td>\n",
       "      <td>0.0</td>\n",
       "      <td>610000.0</td>\n",
       "      <td>0.0</td>\n",
       "      <td>60000.0</td>\n",
       "      <td>0.0</td>\n",
       "      <td>...</td>\n",
       "      <td>0.0</td>\n",
       "      <td>132.0</td>\n",
       "      <td>0.0</td>\n",
       "      <td>0.0</td>\n",
       "      <td>0.0</td>\n",
       "      <td>0.000000</td>\n",
       "      <td>0.0</td>\n",
       "      <td>3</td>\n",
       "      <td>8</td>\n",
       "      <td>101</td>\n",
       "    </tr>\n",
       "    <tr>\n",
       "      <th>4</th>\n",
       "      <td>11500.0</td>\n",
       "      <td>3700.0</td>\n",
       "      <td>0.0</td>\n",
       "      <td>0.0</td>\n",
       "      <td>0.0</td>\n",
       "      <td>0.0</td>\n",
       "      <td>11000.0</td>\n",
       "      <td>2000.0</td>\n",
       "      <td>0.0</td>\n",
       "      <td>0.0</td>\n",
       "      <td>...</td>\n",
       "      <td>0.0</td>\n",
       "      <td>0.0</td>\n",
       "      <td>0.0</td>\n",
       "      <td>0.0</td>\n",
       "      <td>0.0</td>\n",
       "      <td>0.000000</td>\n",
       "      <td>0.0</td>\n",
       "      <td>3</td>\n",
       "      <td>8</td>\n",
       "      <td>101</td>\n",
       "    </tr>\n",
       "  </tbody>\n",
       "</table>\n",
       "<p>5 rows × 155 columns</p>\n",
       "</div>"
      ],
      "text/plain": [
       "   wood_add_value  wood_reduce_value  stone_add_value  stone_reduce_value  \\\n",
       "0        166415.0           138362.0              0.0                 0.0   \n",
       "1         10000.0              600.0              0.0                 0.0   \n",
       "2         10000.0             3700.0              0.0                 0.0   \n",
       "3        210000.0                0.0         200000.0                 0.0   \n",
       "4         11500.0             3700.0              0.0                 0.0   \n",
       "\n",
       "   ivory_add_value  ivory_reduce_value  meat_add_value  meat_reduce_value  \\\n",
       "0              0.0                 0.0        258522.0            90142.0   \n",
       "1              0.0                 0.0         10000.0              400.0   \n",
       "2              0.0                 0.0         10000.0             2000.0   \n",
       "3         200000.0                 0.0        610000.0                0.0   \n",
       "4              0.0                 0.0         11000.0             2000.0   \n",
       "\n",
       "   magic_add_value  magic_reduce_value         ...           wound_med_rate  \\\n",
       "0              0.0                 0.0         ...                      0.0   \n",
       "1              0.0                 0.0         ...                      0.0   \n",
       "2              0.0                 0.0         ...                      0.0   \n",
       "3          60000.0                 0.0         ...                      0.0   \n",
       "4              0.0                 0.0         ...                      0.0   \n",
       "\n",
       "   accelerate_add_mean  accelerate_add_med  accelerate_reduce_mean  \\\n",
       "0                101.0                60.0                     4.2   \n",
       "1                  0.0                 0.0                     0.0   \n",
       "2                  0.0                 0.0                     0.0   \n",
       "3                132.0                 0.0                     0.0   \n",
       "4                  0.0                 0.0                     0.0   \n",
       "\n",
       "   accelerate_reduce_med  accelerate_mean_rate  accelerate_med_rate  \\\n",
       "0                    0.0              0.041176                  0.0   \n",
       "1                    0.0              0.000000                  0.0   \n",
       "2                    0.0              0.000000                  0.0   \n",
       "3                    0.0              0.000000                  0.0   \n",
       "4                    0.0              0.000000                  0.0   \n",
       "\n",
       "   register_time_month  register_time_day  register_time_count  \n",
       "0                    3                  8                  101  \n",
       "1                    3                  8                  101  \n",
       "2                    3                  8                  101  \n",
       "3                    3                  8                  101  \n",
       "4                    3                  8                  101  \n",
       "\n",
       "[5 rows x 155 columns]"
      ]
     },
     "execution_count": 71,
     "metadata": {},
     "output_type": "execute_result"
    }
   ],
   "source": [
    "test_data.head()"
   ]
  },
  {
   "cell_type": "code",
   "execution_count": null,
   "metadata": {
    "ExecuteTime": {
     "end_time": "2018-10-20T03:15:18.937522Z",
     "start_time": "2018-10-20T03:15:18.927522Z"
    }
   },
   "outputs": [],
   "source": [
    "test.shape"
   ]
  },
  {
   "cell_type": "code",
   "execution_count": 73,
   "metadata": {
    "ExecuteTime": {
     "end_time": "2018-10-22T02:49:27.385047Z",
     "start_time": "2018-10-22T02:49:27.357446Z"
    }
   },
   "outputs": [],
   "source": [
    "classify_test=test.iloc[:,:-3]"
   ]
  },
  {
   "cell_type": "code",
   "execution_count": 74,
   "metadata": {
    "ExecuteTime": {
     "end_time": "2018-10-22T02:49:28.787683Z",
     "start_time": "2018-10-22T02:49:28.756483Z"
    }
   },
   "outputs": [
    {
     "data": {
      "text/plain": [
       "(19549, 152)"
      ]
     },
     "execution_count": 74,
     "metadata": {},
     "output_type": "execute_result"
    }
   ],
   "source": [
    "classify_test.shape"
   ]
  },
  {
   "cell_type": "code",
   "execution_count": 75,
   "metadata": {
    "ExecuteTime": {
     "end_time": "2018-10-22T02:49:36.900707Z",
     "start_time": "2018-10-22T02:49:36.439081Z"
    }
   },
   "outputs": [
    {
     "name": "stderr",
     "output_type": "stream",
     "text": [
      "D:\\ProgramData\\Anaconda3\\lib\\site-packages\\sklearn\\preprocessing\\label.py:151: DeprecationWarning: The truth value of an empty array is ambiguous. Returning False, but in future this will result in an error. Use `array.size > 0` to check that an array is not empty.\n",
      "  if diff:\n"
     ]
    }
   ],
   "source": [
    "test_pred=model44.predict(classify_test)"
   ]
  },
  {
   "cell_type": "code",
   "execution_count": 76,
   "metadata": {
    "ExecuteTime": {
     "end_time": "2018-10-22T03:11:40.738053Z",
     "start_time": "2018-10-22T03:11:40.733053Z"
    }
   },
   "outputs": [
    {
     "data": {
      "text/plain": [
       "array([0, 0, 0, ..., 1, 0, 0], dtype=int64)"
      ]
     },
     "execution_count": 76,
     "metadata": {},
     "output_type": "execute_result"
    }
   ],
   "source": [
    "test_pred"
   ]
  },
  {
   "cell_type": "code",
   "execution_count": 77,
   "metadata": {
    "ExecuteTime": {
     "end_time": "2018-10-22T03:11:44.566539Z",
     "start_time": "2018-10-22T03:11:44.550939Z"
    }
   },
   "outputs": [],
   "source": [
    "classify_test2=classify_test\n",
    "classify_test2['new_pay_label']=test_pred"
   ]
  },
  {
   "cell_type": "code",
   "execution_count": 78,
   "metadata": {
    "ExecuteTime": {
     "end_time": "2018-10-22T03:11:45.591580Z",
     "start_time": "2018-10-22T03:11:45.588580Z"
    }
   },
   "outputs": [
    {
     "data": {
      "text/plain": [
       "(19549, 153)"
      ]
     },
     "execution_count": 78,
     "metadata": {},
     "output_type": "execute_result"
    }
   ],
   "source": [
    "classify_test2.shape"
   ]
  },
  {
   "cell_type": "code",
   "execution_count": 79,
   "metadata": {
    "ExecuteTime": {
     "end_time": "2018-10-22T03:11:47.986463Z",
     "start_time": "2018-10-22T03:11:47.952862Z"
    }
   },
   "outputs": [
    {
     "data": {
      "text/plain": [
       "(7131, 10)"
      ]
     },
     "execution_count": 79,
     "metadata": {},
     "output_type": "execute_result"
    }
   ],
   "source": [
    "classify_test2[classify_test2['new_pay_label']==1].iloc[:, [103, 108, 117, 119, 127,30,26,104,110,28]].shape"
   ]
  },
  {
   "cell_type": "code",
   "execution_count": 80,
   "metadata": {
    "ExecuteTime": {
     "end_time": "2018-10-22T03:11:52.604201Z",
     "start_time": "2018-10-22T03:11:52.562198Z"
    }
   },
   "outputs": [],
   "source": [
    "test_reg_pred=model_reg2.predict(classify_test2[classify_test2['new_pay_label']==1].iloc[:, [103, 108, 117, 119, 127,30,26,104,110,28]])"
   ]
  },
  {
   "cell_type": "code",
   "execution_count": 109,
   "metadata": {
    "ExecuteTime": {
     "end_time": "2018-10-22T07:19:06.122902Z",
     "start_time": "2018-10-22T07:19:06.117902Z"
    }
   },
   "outputs": [],
   "source": [
    "result1=classify_test2"
   ]
  },
  {
   "cell_type": "code",
   "execution_count": 150,
   "metadata": {
    "ExecuteTime": {
     "end_time": "2018-10-22T08:02:06.752351Z",
     "start_time": "2018-10-22T08:02:06.721350Z"
    }
   },
   "outputs": [
    {
     "data": {
      "text/plain": [
       "19        False\n",
       "96        False\n",
       "126       False\n",
       "131       False\n",
       "169       False\n",
       "184       False\n",
       "277       False\n",
       "309       False\n",
       "408       False\n",
       "470        True\n",
       "483       False\n",
       "526       False\n",
       "545       False\n",
       "558        True\n",
       "559        True\n",
       "575       False\n",
       "581       False\n",
       "586       False\n",
       "619       False\n",
       "686       False\n",
       "725       False\n",
       "768        True\n",
       "901       False\n",
       "908        True\n",
       "976       False\n",
       "1027       True\n",
       "1333       True\n",
       "1366      False\n",
       "1462      False\n",
       "1526      False\n",
       "          ...  \n",
       "827848     True\n",
       "827849    False\n",
       "827852    False\n",
       "827925     True\n",
       "828000    False\n",
       "828007    False\n",
       "828021     True\n",
       "828030    False\n",
       "828041     True\n",
       "828042    False\n",
       "828102    False\n",
       "828195     True\n",
       "828223    False\n",
       "828237     True\n",
       "828239     True\n",
       "828251     True\n",
       "828269    False\n",
       "828305    False\n",
       "828321    False\n",
       "828348    False\n",
       "828406    False\n",
       "828552    False\n",
       "828609    False\n",
       "828649    False\n",
       "828735     True\n",
       "828748    False\n",
       "828753    False\n",
       "828767     True\n",
       "828782    False\n",
       "828804    False\n",
       "Name: new_pay_label, Length: 19549, dtype: bool"
      ]
     },
     "execution_count": 150,
     "metadata": {},
     "output_type": "execute_result"
    }
   ],
   "source": [
    "result1['new_pay_label']==1"
   ]
  },
  {
   "cell_type": "code",
   "execution_count": 110,
   "metadata": {
    "ExecuteTime": {
     "end_time": "2018-10-22T07:19:07.101938Z",
     "start_time": "2018-10-22T07:19:07.083938Z"
    }
   },
   "outputs": [],
   "source": [
    "result1.loc[result1['new_pay_label']==1,'prediction_pay_price']=test_reg_pred"
   ]
  },
  {
   "cell_type": "code",
   "execution_count": 111,
   "metadata": {
    "ExecuteTime": {
     "end_time": "2018-10-22T07:19:08.762975Z",
     "start_time": "2018-10-22T07:19:08.703973Z"
    }
   },
   "outputs": [
    {
     "data": {
      "text/html": [
       "<div>\n",
       "<style scoped>\n",
       "    .dataframe tbody tr th:only-of-type {\n",
       "        vertical-align: middle;\n",
       "    }\n",
       "\n",
       "    .dataframe tbody tr th {\n",
       "        vertical-align: top;\n",
       "    }\n",
       "\n",
       "    .dataframe thead th {\n",
       "        text-align: right;\n",
       "    }\n",
       "</style>\n",
       "<table border=\"1\" class=\"dataframe\">\n",
       "  <thead>\n",
       "    <tr style=\"text-align: right;\">\n",
       "      <th></th>\n",
       "      <th>pay_price</th>\n",
       "      <th>prediction_pay_price</th>\n",
       "    </tr>\n",
       "  </thead>\n",
       "  <tbody>\n",
       "    <tr>\n",
       "      <th>470</th>\n",
       "      <td>93.900002</td>\n",
       "      <td>4.440450</td>\n",
       "    </tr>\n",
       "    <tr>\n",
       "      <th>558</th>\n",
       "      <td>9.940000</td>\n",
       "      <td>8.700574</td>\n",
       "    </tr>\n",
       "    <tr>\n",
       "      <th>559</th>\n",
       "      <td>16.959999</td>\n",
       "      <td>5.305765</td>\n",
       "    </tr>\n",
       "    <tr>\n",
       "      <th>768</th>\n",
       "      <td>5.950000</td>\n",
       "      <td>11.174584</td>\n",
       "    </tr>\n",
       "    <tr>\n",
       "      <th>908</th>\n",
       "      <td>26.930000</td>\n",
       "      <td>4.903112</td>\n",
       "    </tr>\n",
       "  </tbody>\n",
       "</table>\n",
       "</div>"
      ],
      "text/plain": [
       "     pay_price  prediction_pay_price\n",
       "470  93.900002              4.440450\n",
       "558   9.940000              8.700574\n",
       "559  16.959999              5.305765\n",
       "768   5.950000             11.174584\n",
       "908  26.930000              4.903112"
      ]
     },
     "execution_count": 111,
     "metadata": {},
     "output_type": "execute_result"
    }
   ],
   "source": [
    "result1[result1['new_pay_label']==1][['pay_price','prediction_pay_price']].head()"
   ]
  },
  {
   "cell_type": "code",
   "execution_count": 112,
   "metadata": {
    "ExecuteTime": {
     "end_time": "2018-10-22T07:19:11.485082Z",
     "start_time": "2018-10-22T07:19:11.441080Z"
    }
   },
   "outputs": [
    {
     "data": {
      "text/plain": [
       "(7131, 155)"
      ]
     },
     "execution_count": 112,
     "metadata": {},
     "output_type": "execute_result"
    }
   ],
   "source": [
    "result1[result1['new_pay_label']==1].shape"
   ]
  },
  {
   "cell_type": "code",
   "execution_count": 113,
   "metadata": {
    "ExecuteTime": {
     "end_time": "2018-10-22T07:19:14.343123Z",
     "start_time": "2018-10-22T07:19:14.299120Z"
    }
   },
   "outputs": [
    {
     "data": {
      "text/html": [
       "<div>\n",
       "<style scoped>\n",
       "    .dataframe tbody tr th:only-of-type {\n",
       "        vertical-align: middle;\n",
       "    }\n",
       "\n",
       "    .dataframe tbody tr th {\n",
       "        vertical-align: top;\n",
       "    }\n",
       "\n",
       "    .dataframe thead th {\n",
       "        text-align: right;\n",
       "    }\n",
       "</style>\n",
       "<table border=\"1\" class=\"dataframe\">\n",
       "  <thead>\n",
       "    <tr style=\"text-align: right;\">\n",
       "      <th></th>\n",
       "      <th>pay_price</th>\n",
       "      <th>prediction_pay_price</th>\n",
       "    </tr>\n",
       "  </thead>\n",
       "  <tbody>\n",
       "    <tr>\n",
       "      <th>470</th>\n",
       "      <td>93.900002</td>\n",
       "      <td>4.440450</td>\n",
       "    </tr>\n",
       "    <tr>\n",
       "      <th>558</th>\n",
       "      <td>9.940000</td>\n",
       "      <td>8.700574</td>\n",
       "    </tr>\n",
       "    <tr>\n",
       "      <th>559</th>\n",
       "      <td>16.959999</td>\n",
       "      <td>5.305765</td>\n",
       "    </tr>\n",
       "    <tr>\n",
       "      <th>908</th>\n",
       "      <td>26.930000</td>\n",
       "      <td>4.903112</td>\n",
       "    </tr>\n",
       "    <tr>\n",
       "      <th>1027</th>\n",
       "      <td>1326.750000</td>\n",
       "      <td>4.113175</td>\n",
       "    </tr>\n",
       "  </tbody>\n",
       "</table>\n",
       "</div>"
      ],
      "text/plain": [
       "        pay_price  prediction_pay_price\n",
       "470     93.900002              4.440450\n",
       "558      9.940000              8.700574\n",
       "559     16.959999              5.305765\n",
       "908     26.930000              4.903112\n",
       "1027  1326.750000              4.113175"
      ]
     },
     "execution_count": 113,
     "metadata": {},
     "output_type": "execute_result"
    }
   ],
   "source": [
    "result1[(result1['new_pay_label']==1) & (result1['pay_price'] > result1['prediction_pay_price'])][['pay_price','prediction_pay_price']].head()"
   ]
  },
  {
   "cell_type": "code",
   "execution_count": 114,
   "metadata": {
    "ExecuteTime": {
     "end_time": "2018-10-22T07:19:16.294161Z",
     "start_time": "2018-10-22T07:19:16.278160Z"
    }
   },
   "outputs": [
    {
     "data": {
      "text/plain": [
       "(4850, 155)"
      ]
     },
     "execution_count": 114,
     "metadata": {},
     "output_type": "execute_result"
    }
   ],
   "source": [
    "result1[(result1['new_pay_label']==1) & (result1['pay_price'] > result1['prediction_pay_price'])].shape"
   ]
  },
  {
   "cell_type": "code",
   "execution_count": 115,
   "metadata": {
    "ExecuteTime": {
     "end_time": "2018-10-22T07:19:23.762396Z",
     "start_time": "2018-10-22T07:19:23.745396Z"
    }
   },
   "outputs": [],
   "source": [
    "result1['prediction_pay_price2']=result1['pay_price'] *  result1['prediction_pay_price']"
   ]
  },
  {
   "cell_type": "code",
   "execution_count": 116,
   "metadata": {
    "ExecuteTime": {
     "end_time": "2018-10-22T07:19:25.780452Z",
     "start_time": "2018-10-22T07:19:25.745451Z"
    }
   },
   "outputs": [
    {
     "data": {
      "text/plain": [
       "470    416.958283\n",
       "558     86.483704\n",
       "559     89.985764\n",
       "768     66.488770\n",
       "908    132.040795\n",
       "Name: prediction_pay_price2, dtype: float64"
      ]
     },
     "execution_count": 116,
     "metadata": {},
     "output_type": "execute_result"
    }
   ],
   "source": [
    "result1[result1['new_pay_label'] == 1]['prediction_pay_price2'].head()"
   ]
  },
  {
   "cell_type": "code",
   "execution_count": 117,
   "metadata": {
    "ExecuteTime": {
     "end_time": "2018-10-22T07:26:09.665148Z",
     "start_time": "2018-10-22T07:26:09.530140Z"
    }
   },
   "outputs": [],
   "source": [
    " result1.loc[result1['new_pay_label'] == 0,'prediction_pay_price2']=result1['pay_price']"
   ]
  },
  {
   "cell_type": "code",
   "execution_count": 120,
   "metadata": {
    "ExecuteTime": {
     "end_time": "2018-10-22T07:29:24.820819Z",
     "start_time": "2018-10-22T07:29:24.713813Z"
    }
   },
   "outputs": [
    {
     "data": {
      "text/plain": [
       "19     0.99\n",
       "96     0.99\n",
       "126    5.98\n",
       "131    0.99\n",
       "169    0.99\n",
       "Name: prediction_pay_price2, dtype: float64"
      ]
     },
     "execution_count": 120,
     "metadata": {},
     "output_type": "execute_result"
    }
   ],
   "source": [
    " result1.loc[result1['new_pay_label'] == 0,'prediction_pay_price2'].head()"
   ]
  },
  {
   "cell_type": "code",
   "execution_count": 121,
   "metadata": {
    "ExecuteTime": {
     "end_time": "2018-10-22T07:29:39.368151Z",
     "start_time": "2018-10-22T07:29:39.349151Z"
    }
   },
   "outputs": [
    {
     "data": {
      "text/plain": [
       "(19549, 155)"
      ]
     },
     "execution_count": 121,
     "metadata": {},
     "output_type": "execute_result"
    }
   ],
   "source": [
    "result1.shape"
   ]
  },
  {
   "cell_type": "code",
   "execution_count": 122,
   "metadata": {
    "ExecuteTime": {
     "end_time": "2018-10-22T07:30:40.327519Z",
     "start_time": "2018-10-22T07:30:40.299518Z"
    }
   },
   "outputs": [
    {
     "data": {
      "text/html": [
       "<div>\n",
       "<style scoped>\n",
       "    .dataframe tbody tr th:only-of-type {\n",
       "        vertical-align: middle;\n",
       "    }\n",
       "\n",
       "    .dataframe tbody tr th {\n",
       "        vertical-align: top;\n",
       "    }\n",
       "\n",
       "    .dataframe thead th {\n",
       "        text-align: right;\n",
       "    }\n",
       "</style>\n",
       "<table border=\"1\" class=\"dataframe\">\n",
       "  <thead>\n",
       "    <tr style=\"text-align: right;\">\n",
       "      <th></th>\n",
       "      <th>user_id</th>\n",
       "      <th>register_time_month</th>\n",
       "      <th>register_time_day</th>\n",
       "      <th>register_time_count</th>\n",
       "    </tr>\n",
       "  </thead>\n",
       "  <tbody>\n",
       "    <tr>\n",
       "      <th>0</th>\n",
       "      <td>14933</td>\n",
       "      <td>3</td>\n",
       "      <td>8</td>\n",
       "      <td>101</td>\n",
       "    </tr>\n",
       "    <tr>\n",
       "      <th>1</th>\n",
       "      <td>14934</td>\n",
       "      <td>3</td>\n",
       "      <td>8</td>\n",
       "      <td>101</td>\n",
       "    </tr>\n",
       "    <tr>\n",
       "      <th>2</th>\n",
       "      <td>14935</td>\n",
       "      <td>3</td>\n",
       "      <td>8</td>\n",
       "      <td>101</td>\n",
       "    </tr>\n",
       "    <tr>\n",
       "      <th>3</th>\n",
       "      <td>14936</td>\n",
       "      <td>3</td>\n",
       "      <td>8</td>\n",
       "      <td>101</td>\n",
       "    </tr>\n",
       "    <tr>\n",
       "      <th>4</th>\n",
       "      <td>14937</td>\n",
       "      <td>3</td>\n",
       "      <td>8</td>\n",
       "      <td>101</td>\n",
       "    </tr>\n",
       "  </tbody>\n",
       "</table>\n",
       "</div>"
      ],
      "text/plain": [
       "   user_id  register_time_month  register_time_day  register_time_count\n",
       "0    14933                    3                  8                  101\n",
       "1    14934                    3                  8                  101\n",
       "2    14935                    3                  8                  101\n",
       "3    14936                    3                  8                  101\n",
       "4    14937                    3                  8                  101"
      ]
     },
     "execution_count": 122,
     "metadata": {},
     "output_type": "execute_result"
    }
   ],
   "source": [
    "test_user.head()"
   ]
  },
  {
   "cell_type": "code",
   "execution_count": 123,
   "metadata": {
    "ExecuteTime": {
     "end_time": "2018-10-22T07:31:24.383351Z",
     "start_time": "2018-10-22T07:31:24.366351Z"
    }
   },
   "outputs": [],
   "source": [
    "test_user['prediction_pay_price']=0.0"
   ]
  },
  {
   "cell_type": "code",
   "execution_count": 131,
   "metadata": {
    "ExecuteTime": {
     "end_time": "2018-10-22T07:43:34.415578Z",
     "start_time": "2018-10-22T07:43:33.850546Z"
    }
   },
   "outputs": [
    {
     "data": {
      "text/plain": [
       "(19549, 5)"
      ]
     },
     "execution_count": 131,
     "metadata": {},
     "output_type": "execute_result"
    }
   ],
   "source": [
    "test_user.iloc[(result1['prediction_pay_price2']>0).index,:].shape"
   ]
  },
  {
   "cell_type": "code",
   "execution_count": 133,
   "metadata": {
    "ExecuteTime": {
     "end_time": "2018-10-22T07:45:24.766853Z",
     "start_time": "2018-10-22T07:45:24.747853Z"
    }
   },
   "outputs": [
    {
     "data": {
      "text/plain": [
       "19     0.0\n",
       "96     0.0\n",
       "126    0.0\n",
       "131    0.0\n",
       "169    0.0\n",
       "Name: prediction_pay_price, dtype: float64"
      ]
     },
     "execution_count": 133,
     "metadata": {},
     "output_type": "execute_result"
    }
   ],
   "source": [
    "test_user.iloc[(result1['prediction_pay_price2']>0).index,4].head()"
   ]
  },
  {
   "cell_type": "code",
   "execution_count": 134,
   "metadata": {
    "ExecuteTime": {
     "end_time": "2018-10-22T07:46:23.507754Z",
     "start_time": "2018-10-22T07:46:23.485753Z"
    }
   },
   "outputs": [],
   "source": [
    "test_user.iloc[(result1['prediction_pay_price2']>0).index,4]=result1['prediction_pay_price2']"
   ]
  },
  {
   "cell_type": "code",
   "execution_count": 135,
   "metadata": {
    "ExecuteTime": {
     "end_time": "2018-10-22T07:48:06.022794Z",
     "start_time": "2018-10-22T07:48:05.766779Z"
    }
   },
   "outputs": [],
   "source": [
    "test_result=pd.DataFrame()\n",
    "test_result['user_id']=test_user.user_id\n",
    "test_result['prediction_pay_price']=test_user.prediction_pay_price"
   ]
  },
  {
   "cell_type": "code",
   "execution_count": 136,
   "metadata": {
    "ExecuteTime": {
     "end_time": "2018-10-22T07:48:52.731676Z",
     "start_time": "2018-10-22T07:48:52.718676Z"
    }
   },
   "outputs": [],
   "source": [
    "result=test_result"
   ]
  },
  {
   "cell_type": "code",
   "execution_count": 137,
   "metadata": {
    "ExecuteTime": {
     "end_time": "2018-10-22T07:48:57.955834Z",
     "start_time": "2018-10-22T07:48:55.978722Z"
    }
   },
   "outputs": [],
   "source": [
    "import datetime\n",
    "nowTime=datetime.datetime.now().strftime('%Y%m%d%H%M%S')\n",
    "name='tf_'+str(nowTime)\n",
    "result.to_csv(\"F:\\\\study\\\\ml\\\\DataSet\\\\Tap4fun\\\\SubMission\\\\\"+name+'.csv',index=False,encoding='utf-8')\n"
   ]
  },
  {
   "cell_type": "code",
   "execution_count": 138,
   "metadata": {
    "ExecuteTime": {
     "end_time": "2018-10-22T07:50:47.984545Z",
     "start_time": "2018-10-22T07:50:47.717530Z"
    }
   },
   "outputs": [
    {
     "name": "stderr",
     "output_type": "stream",
     "text": [
      "D:\\ProgramData\\Anaconda3\\lib\\site-packages\\ipykernel_launcher.py:1: UserWarning: Boolean Series key will be reindexed to match DataFrame index.\n",
      "  \"\"\"Entry point for launching an IPython kernel.\n"
     ]
    },
    {
     "data": {
      "text/plain": [
       "(9009, 10)"
      ]
     },
     "execution_count": 138,
     "metadata": {},
     "output_type": "execute_result"
    }
   ],
   "source": [
    "X_train.iloc[:, [103, 108, 117, 119, 127,30,26,104,110,28]][train['new_pay_label'] == 1].shape"
   ]
  }
 ],
 "metadata": {
  "kernelspec": {
   "display_name": "Python 3",
   "language": "python",
   "name": "python3"
  },
  "language_info": {
   "codemirror_mode": {
    "name": "ipython",
    "version": 3
   },
   "file_extension": ".py",
   "mimetype": "text/x-python",
   "name": "python",
   "nbconvert_exporter": "python",
   "pygments_lexer": "ipython3",
   "version": "3.6.3"
  }
 },
 "nbformat": 4,
 "nbformat_minor": 2
}
