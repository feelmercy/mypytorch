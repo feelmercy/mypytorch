{
 "cells": [
  {
   "cell_type": "code",
   "execution_count": 54,
   "metadata": {
    "ExecuteTime": {
     "end_time": "2018-09-21T01:16:11.830859Z",
     "start_time": "2018-09-21T01:16:11.826859Z"
    }
   },
   "outputs": [],
   "source": [
    "import numpy as np\n",
    "import pandas as pd\n",
    "from matplotlib import pyplot as plt\n",
    "import seaborn as sns\n",
    "from scipy.stats import norm ,skew,kurtosis\n",
    "from sklearn.preprocessing import StandardScaler\n",
    "from sklearn.metrics import make_scorer"
   ]
  },
  {
   "cell_type": "code",
   "execution_count": 55,
   "metadata": {
    "ExecuteTime": {
     "end_time": "2018-09-21T01:16:40.629506Z",
     "start_time": "2018-09-21T01:16:11.831859Z"
    }
   },
   "outputs": [],
   "source": [
    "df_train=pd.read_csv('F:\\\\study\\\\ml\\\\DataSet\\\\Tap4fun\\\\tap_fun_train.csv')"
   ]
  },
  {
   "cell_type": "code",
   "execution_count": 56,
   "metadata": {
    "ExecuteTime": {
     "end_time": "2018-09-21T01:16:40.828518Z",
     "start_time": "2018-09-21T01:16:40.631506Z"
    }
   },
   "outputs": [
    {
     "name": "stdout",
     "output_type": "stream",
     "text": [
      "<class 'pandas.core.frame.DataFrame'>\n",
      "RangeIndex: 2288007 entries, 0 to 2288006\n",
      "Columns: 109 entries, user_id to prediction_pay_price\n",
      "dtypes: float64(13), int64(95), object(1)\n",
      "memory usage: 2.0 GB\n"
     ]
    }
   ],
   "source": [
    "df_train.info(memory_usage='deep')"
   ]
  },
  {
   "cell_type": "code",
   "execution_count": 57,
   "metadata": {
    "ExecuteTime": {
     "end_time": "2018-09-21T01:16:54.065275Z",
     "start_time": "2018-09-21T01:16:40.829518Z"
    }
   },
   "outputs": [],
   "source": [
    "c_int=df_train.select_dtypes(include=['int64']).apply(pd.to_numeric,downcast='unsigned')\n",
    "c_float=df_train.select_dtypes(include=['float']).apply(pd.to_numeric,downcast='float')\n"
   ]
  },
  {
   "cell_type": "code",
   "execution_count": 58,
   "metadata": {
    "ExecuteTime": {
     "end_time": "2018-09-21T01:16:54.397294Z",
     "start_time": "2018-09-21T01:16:54.067275Z"
    }
   },
   "outputs": [],
   "source": [
    "o_df=pd.concat([c_int,c_float],axis=1)"
   ]
  },
  {
   "cell_type": "code",
   "execution_count": 59,
   "metadata": {
    "ExecuteTime": {
     "end_time": "2018-09-21T01:16:54.403294Z",
     "start_time": "2018-09-21T01:16:54.398294Z"
    }
   },
   "outputs": [],
   "source": [
    "column_type=dict(o_df.dtypes.copy())"
   ]
  },
  {
   "cell_type": "code",
   "execution_count": 60,
   "metadata": {
    "ExecuteTime": {
     "end_time": "2018-09-21T01:16:54.512300Z",
     "start_time": "2018-09-21T01:16:54.404294Z"
    }
   },
   "outputs": [],
   "source": [
    "# column_type"
   ]
  },
  {
   "cell_type": "code",
   "execution_count": 61,
   "metadata": {
    "ExecuteTime": {
     "end_time": "2018-09-21T01:16:54.622306Z",
     "start_time": "2018-09-21T01:16:54.513300Z"
    }
   },
   "outputs": [
    {
     "data": {
      "text/plain": [
       "108"
      ]
     },
     "execution_count": 61,
     "metadata": {},
     "output_type": "execute_result"
    }
   ],
   "source": [
    "len(column_type)"
   ]
  },
  {
   "cell_type": "code",
   "execution_count": 62,
   "metadata": {
    "ExecuteTime": {
     "end_time": "2018-09-21T01:16:54.999328Z",
     "start_time": "2018-09-21T01:16:54.623307Z"
    }
   },
   "outputs": [],
   "source": [
    "del o_df,c_int,c_float,df_train"
   ]
  },
  {
   "cell_type": "code",
   "execution_count": null,
   "metadata": {},
   "outputs": [],
   "source": []
  },
  {
   "cell_type": "code",
   "execution_count": 63,
   "metadata": {
    "ExecuteTime": {
     "end_time": "2018-09-21T01:17:25.249058Z",
     "start_time": "2018-09-21T01:16:55.001328Z"
    }
   },
   "outputs": [],
   "source": [
    "data_train=pd.read_csv('F:\\\\study\\\\ml\\\\DataSet\\\\Tap4fun\\\\tap_fun_train.csv',\n",
    "                      dtype=column_type,parse_dates=['register_time'],infer_datetime_format=True)\n",
    "\n",
    "data_test=pd.read_csv('F:\\\\study\\\\ml\\\\DataSet\\\\Tap4fun\\\\tap_fun_test.csv',\n",
    "                      dtype=column_type,parse_dates=['register_time'],infer_datetime_format=True)"
   ]
  },
  {
   "cell_type": "code",
   "execution_count": 64,
   "metadata": {
    "ExecuteTime": {
     "end_time": "2018-09-21T01:17:25.557076Z",
     "start_time": "2018-09-21T01:17:25.251058Z"
    }
   },
   "outputs": [],
   "source": [
    "data_train.rename(columns={'treatment_acceleraion_add_value':'treatment_acceleration_add_value',\\\n",
    "                          'sr_rss_a_prod_levell':'sr_rss_a_prod_level'} ,inplace=True)\n",
    "\n",
    "data_test.rename(columns={'treatment_acceleraion_add_value':'treatment_acceleration_add_value',\\\n",
    "                          'sr_rss_a_prod_levell':'sr_rss_a_prod_level'} ,inplace=True)"
   ]
  },
  {
   "cell_type": "code",
   "execution_count": 65,
   "metadata": {
    "ExecuteTime": {
     "end_time": "2018-09-21T01:17:25.581077Z",
     "start_time": "2018-09-21T01:17:25.559076Z"
    }
   },
   "outputs": [
    {
     "data": {
      "text/html": [
       "<div>\n",
       "<style scoped>\n",
       "    .dataframe tbody tr th:only-of-type {\n",
       "        vertical-align: middle;\n",
       "    }\n",
       "\n",
       "    .dataframe tbody tr th {\n",
       "        vertical-align: top;\n",
       "    }\n",
       "\n",
       "    .dataframe thead th {\n",
       "        text-align: right;\n",
       "    }\n",
       "</style>\n",
       "<table border=\"1\" class=\"dataframe\">\n",
       "  <thead>\n",
       "    <tr style=\"text-align: right;\">\n",
       "      <th></th>\n",
       "      <th>user_id</th>\n",
       "      <th>register_time</th>\n",
       "      <th>wood_add_value</th>\n",
       "      <th>wood_reduce_value</th>\n",
       "      <th>stone_add_value</th>\n",
       "      <th>stone_reduce_value</th>\n",
       "      <th>ivory_add_value</th>\n",
       "      <th>ivory_reduce_value</th>\n",
       "      <th>meat_add_value</th>\n",
       "      <th>meat_reduce_value</th>\n",
       "      <th>...</th>\n",
       "      <th>pvp_battle_count</th>\n",
       "      <th>pvp_lanch_count</th>\n",
       "      <th>pvp_win_count</th>\n",
       "      <th>pve_battle_count</th>\n",
       "      <th>pve_lanch_count</th>\n",
       "      <th>pve_win_count</th>\n",
       "      <th>avg_online_minutes</th>\n",
       "      <th>pay_price</th>\n",
       "      <th>pay_count</th>\n",
       "      <th>prediction_pay_price</th>\n",
       "    </tr>\n",
       "  </thead>\n",
       "  <tbody>\n",
       "    <tr>\n",
       "      <th>0</th>\n",
       "      <td>1</td>\n",
       "      <td>2018-02-02 19:47:15</td>\n",
       "      <td>20125.0</td>\n",
       "      <td>3700.0</td>\n",
       "      <td>0.0</td>\n",
       "      <td>0.0</td>\n",
       "      <td>0.0</td>\n",
       "      <td>0.0</td>\n",
       "      <td>16375.0</td>\n",
       "      <td>2000.0</td>\n",
       "      <td>...</td>\n",
       "      <td>0</td>\n",
       "      <td>0</td>\n",
       "      <td>0</td>\n",
       "      <td>0</td>\n",
       "      <td>0</td>\n",
       "      <td>0</td>\n",
       "      <td>0.333333</td>\n",
       "      <td>0.0</td>\n",
       "      <td>0</td>\n",
       "      <td>0.0</td>\n",
       "    </tr>\n",
       "    <tr>\n",
       "      <th>1</th>\n",
       "      <td>1593</td>\n",
       "      <td>2018-01-26 00:01:05</td>\n",
       "      <td>0.0</td>\n",
       "      <td>0.0</td>\n",
       "      <td>0.0</td>\n",
       "      <td>0.0</td>\n",
       "      <td>0.0</td>\n",
       "      <td>0.0</td>\n",
       "      <td>0.0</td>\n",
       "      <td>0.0</td>\n",
       "      <td>...</td>\n",
       "      <td>0</td>\n",
       "      <td>0</td>\n",
       "      <td>0</td>\n",
       "      <td>0</td>\n",
       "      <td>0</td>\n",
       "      <td>0</td>\n",
       "      <td>0.333333</td>\n",
       "      <td>0.0</td>\n",
       "      <td>0</td>\n",
       "      <td>0.0</td>\n",
       "    </tr>\n",
       "    <tr>\n",
       "      <th>2</th>\n",
       "      <td>1594</td>\n",
       "      <td>2018-01-26 00:01:58</td>\n",
       "      <td>0.0</td>\n",
       "      <td>0.0</td>\n",
       "      <td>0.0</td>\n",
       "      <td>0.0</td>\n",
       "      <td>0.0</td>\n",
       "      <td>0.0</td>\n",
       "      <td>0.0</td>\n",
       "      <td>0.0</td>\n",
       "      <td>...</td>\n",
       "      <td>0</td>\n",
       "      <td>0</td>\n",
       "      <td>0</td>\n",
       "      <td>0</td>\n",
       "      <td>0</td>\n",
       "      <td>0</td>\n",
       "      <td>1.166667</td>\n",
       "      <td>0.0</td>\n",
       "      <td>0</td>\n",
       "      <td>0.0</td>\n",
       "    </tr>\n",
       "    <tr>\n",
       "      <th>3</th>\n",
       "      <td>1595</td>\n",
       "      <td>2018-01-26 00:02:13</td>\n",
       "      <td>0.0</td>\n",
       "      <td>0.0</td>\n",
       "      <td>0.0</td>\n",
       "      <td>0.0</td>\n",
       "      <td>0.0</td>\n",
       "      <td>0.0</td>\n",
       "      <td>0.0</td>\n",
       "      <td>0.0</td>\n",
       "      <td>...</td>\n",
       "      <td>0</td>\n",
       "      <td>0</td>\n",
       "      <td>0</td>\n",
       "      <td>0</td>\n",
       "      <td>0</td>\n",
       "      <td>0</td>\n",
       "      <td>3.166667</td>\n",
       "      <td>0.0</td>\n",
       "      <td>0</td>\n",
       "      <td>0.0</td>\n",
       "    </tr>\n",
       "    <tr>\n",
       "      <th>4</th>\n",
       "      <td>1596</td>\n",
       "      <td>2018-01-26 00:02:46</td>\n",
       "      <td>0.0</td>\n",
       "      <td>0.0</td>\n",
       "      <td>0.0</td>\n",
       "      <td>0.0</td>\n",
       "      <td>0.0</td>\n",
       "      <td>0.0</td>\n",
       "      <td>0.0</td>\n",
       "      <td>0.0</td>\n",
       "      <td>...</td>\n",
       "      <td>0</td>\n",
       "      <td>0</td>\n",
       "      <td>0</td>\n",
       "      <td>0</td>\n",
       "      <td>0</td>\n",
       "      <td>0</td>\n",
       "      <td>2.333333</td>\n",
       "      <td>0.0</td>\n",
       "      <td>0</td>\n",
       "      <td>0.0</td>\n",
       "    </tr>\n",
       "  </tbody>\n",
       "</table>\n",
       "<p>5 rows × 109 columns</p>\n",
       "</div>"
      ],
      "text/plain": [
       "   user_id       register_time  wood_add_value  wood_reduce_value  \\\n",
       "0        1 2018-02-02 19:47:15         20125.0             3700.0   \n",
       "1     1593 2018-01-26 00:01:05             0.0                0.0   \n",
       "2     1594 2018-01-26 00:01:58             0.0                0.0   \n",
       "3     1595 2018-01-26 00:02:13             0.0                0.0   \n",
       "4     1596 2018-01-26 00:02:46             0.0                0.0   \n",
       "\n",
       "   stone_add_value  stone_reduce_value  ivory_add_value  ivory_reduce_value  \\\n",
       "0              0.0                 0.0              0.0                 0.0   \n",
       "1              0.0                 0.0              0.0                 0.0   \n",
       "2              0.0                 0.0              0.0                 0.0   \n",
       "3              0.0                 0.0              0.0                 0.0   \n",
       "4              0.0                 0.0              0.0                 0.0   \n",
       "\n",
       "   meat_add_value  meat_reduce_value          ...           pvp_battle_count  \\\n",
       "0         16375.0             2000.0          ...                          0   \n",
       "1             0.0                0.0          ...                          0   \n",
       "2             0.0                0.0          ...                          0   \n",
       "3             0.0                0.0          ...                          0   \n",
       "4             0.0                0.0          ...                          0   \n",
       "\n",
       "   pvp_lanch_count  pvp_win_count  pve_battle_count  pve_lanch_count  \\\n",
       "0                0              0                 0                0   \n",
       "1                0              0                 0                0   \n",
       "2                0              0                 0                0   \n",
       "3                0              0                 0                0   \n",
       "4                0              0                 0                0   \n",
       "\n",
       "   pve_win_count  avg_online_minutes  pay_price  pay_count  \\\n",
       "0              0            0.333333        0.0          0   \n",
       "1              0            0.333333        0.0          0   \n",
       "2              0            1.166667        0.0          0   \n",
       "3              0            3.166667        0.0          0   \n",
       "4              0            2.333333        0.0          0   \n",
       "\n",
       "   prediction_pay_price  \n",
       "0                   0.0  \n",
       "1                   0.0  \n",
       "2                   0.0  \n",
       "3                   0.0  \n",
       "4                   0.0  \n",
       "\n",
       "[5 rows x 109 columns]"
      ]
     },
     "execution_count": 65,
     "metadata": {},
     "output_type": "execute_result"
    }
   ],
   "source": [
    "data_train.head()"
   ]
  },
  {
   "cell_type": "code",
   "execution_count": 66,
   "metadata": {
    "ExecuteTime": {
     "end_time": "2018-09-21T01:17:25.668082Z",
     "start_time": "2018-09-21T01:17:25.583077Z"
    }
   },
   "outputs": [
    {
     "data": {
      "text/html": [
       "<div>\n",
       "<style scoped>\n",
       "    .dataframe tbody tr th:only-of-type {\n",
       "        vertical-align: middle;\n",
       "    }\n",
       "\n",
       "    .dataframe tbody tr th {\n",
       "        vertical-align: top;\n",
       "    }\n",
       "\n",
       "    .dataframe thead th {\n",
       "        text-align: right;\n",
       "    }\n",
       "</style>\n",
       "<table border=\"1\" class=\"dataframe\">\n",
       "  <thead>\n",
       "    <tr style=\"text-align: right;\">\n",
       "      <th></th>\n",
       "      <th>user_id</th>\n",
       "      <th>register_time</th>\n",
       "      <th>wood_add_value</th>\n",
       "      <th>wood_reduce_value</th>\n",
       "      <th>stone_add_value</th>\n",
       "      <th>stone_reduce_value</th>\n",
       "      <th>ivory_add_value</th>\n",
       "      <th>ivory_reduce_value</th>\n",
       "      <th>meat_add_value</th>\n",
       "      <th>meat_reduce_value</th>\n",
       "      <th>...</th>\n",
       "      <th>sr_rss_help_bonus_level</th>\n",
       "      <th>pvp_battle_count</th>\n",
       "      <th>pvp_lanch_count</th>\n",
       "      <th>pvp_win_count</th>\n",
       "      <th>pve_battle_count</th>\n",
       "      <th>pve_lanch_count</th>\n",
       "      <th>pve_win_count</th>\n",
       "      <th>avg_online_minutes</th>\n",
       "      <th>pay_price</th>\n",
       "      <th>pay_count</th>\n",
       "    </tr>\n",
       "  </thead>\n",
       "  <tbody>\n",
       "    <tr>\n",
       "      <th>0</th>\n",
       "      <td>14933</td>\n",
       "      <td>2018-03-08 20:27:57</td>\n",
       "      <td>166415.0</td>\n",
       "      <td>138362.0</td>\n",
       "      <td>0.0</td>\n",
       "      <td>0.0</td>\n",
       "      <td>0.0</td>\n",
       "      <td>0.0</td>\n",
       "      <td>258522.0</td>\n",
       "      <td>90142.0</td>\n",
       "      <td>...</td>\n",
       "      <td>0</td>\n",
       "      <td>0</td>\n",
       "      <td>0</td>\n",
       "      <td>0</td>\n",
       "      <td>1</td>\n",
       "      <td>1</td>\n",
       "      <td>1</td>\n",
       "      <td>8.000000</td>\n",
       "      <td>0.0</td>\n",
       "      <td>0</td>\n",
       "    </tr>\n",
       "    <tr>\n",
       "      <th>1</th>\n",
       "      <td>14934</td>\n",
       "      <td>2018-03-08 20:29:42</td>\n",
       "      <td>10000.0</td>\n",
       "      <td>600.0</td>\n",
       "      <td>0.0</td>\n",
       "      <td>0.0</td>\n",
       "      <td>0.0</td>\n",
       "      <td>0.0</td>\n",
       "      <td>10000.0</td>\n",
       "      <td>400.0</td>\n",
       "      <td>...</td>\n",
       "      <td>0</td>\n",
       "      <td>0</td>\n",
       "      <td>0</td>\n",
       "      <td>0</td>\n",
       "      <td>0</td>\n",
       "      <td>0</td>\n",
       "      <td>0</td>\n",
       "      <td>0.166667</td>\n",
       "      <td>0.0</td>\n",
       "      <td>0</td>\n",
       "    </tr>\n",
       "    <tr>\n",
       "      <th>2</th>\n",
       "      <td>14935</td>\n",
       "      <td>2018-03-08 20:30:13</td>\n",
       "      <td>10000.0</td>\n",
       "      <td>3700.0</td>\n",
       "      <td>0.0</td>\n",
       "      <td>0.0</td>\n",
       "      <td>0.0</td>\n",
       "      <td>0.0</td>\n",
       "      <td>10000.0</td>\n",
       "      <td>2000.0</td>\n",
       "      <td>...</td>\n",
       "      <td>0</td>\n",
       "      <td>0</td>\n",
       "      <td>0</td>\n",
       "      <td>0</td>\n",
       "      <td>0</td>\n",
       "      <td>0</td>\n",
       "      <td>0</td>\n",
       "      <td>17.000000</td>\n",
       "      <td>0.0</td>\n",
       "      <td>0</td>\n",
       "    </tr>\n",
       "    <tr>\n",
       "      <th>3</th>\n",
       "      <td>14936</td>\n",
       "      <td>2018-03-08 20:31:41</td>\n",
       "      <td>210000.0</td>\n",
       "      <td>0.0</td>\n",
       "      <td>200000.0</td>\n",
       "      <td>0.0</td>\n",
       "      <td>200000.0</td>\n",
       "      <td>0.0</td>\n",
       "      <td>610000.0</td>\n",
       "      <td>0.0</td>\n",
       "      <td>...</td>\n",
       "      <td>0</td>\n",
       "      <td>0</td>\n",
       "      <td>0</td>\n",
       "      <td>0</td>\n",
       "      <td>0</td>\n",
       "      <td>0</td>\n",
       "      <td>0</td>\n",
       "      <td>1.666667</td>\n",
       "      <td>0.0</td>\n",
       "      <td>0</td>\n",
       "    </tr>\n",
       "    <tr>\n",
       "      <th>4</th>\n",
       "      <td>14937</td>\n",
       "      <td>2018-03-08 20:32:07</td>\n",
       "      <td>11500.0</td>\n",
       "      <td>3700.0</td>\n",
       "      <td>0.0</td>\n",
       "      <td>0.0</td>\n",
       "      <td>0.0</td>\n",
       "      <td>0.0</td>\n",
       "      <td>11000.0</td>\n",
       "      <td>2000.0</td>\n",
       "      <td>...</td>\n",
       "      <td>0</td>\n",
       "      <td>0</td>\n",
       "      <td>0</td>\n",
       "      <td>0</td>\n",
       "      <td>0</td>\n",
       "      <td>0</td>\n",
       "      <td>0</td>\n",
       "      <td>0.333333</td>\n",
       "      <td>0.0</td>\n",
       "      <td>0</td>\n",
       "    </tr>\n",
       "  </tbody>\n",
       "</table>\n",
       "<p>5 rows × 108 columns</p>\n",
       "</div>"
      ],
      "text/plain": [
       "   user_id       register_time  wood_add_value  wood_reduce_value  \\\n",
       "0    14933 2018-03-08 20:27:57        166415.0           138362.0   \n",
       "1    14934 2018-03-08 20:29:42         10000.0              600.0   \n",
       "2    14935 2018-03-08 20:30:13         10000.0             3700.0   \n",
       "3    14936 2018-03-08 20:31:41        210000.0                0.0   \n",
       "4    14937 2018-03-08 20:32:07         11500.0             3700.0   \n",
       "\n",
       "   stone_add_value  stone_reduce_value  ivory_add_value  ivory_reduce_value  \\\n",
       "0              0.0                 0.0              0.0                 0.0   \n",
       "1              0.0                 0.0              0.0                 0.0   \n",
       "2              0.0                 0.0              0.0                 0.0   \n",
       "3         200000.0                 0.0         200000.0                 0.0   \n",
       "4              0.0                 0.0              0.0                 0.0   \n",
       "\n",
       "   meat_add_value  meat_reduce_value    ...      sr_rss_help_bonus_level  \\\n",
       "0        258522.0            90142.0    ...                            0   \n",
       "1         10000.0              400.0    ...                            0   \n",
       "2         10000.0             2000.0    ...                            0   \n",
       "3        610000.0                0.0    ...                            0   \n",
       "4         11000.0             2000.0    ...                            0   \n",
       "\n",
       "   pvp_battle_count  pvp_lanch_count  pvp_win_count  pve_battle_count  \\\n",
       "0                 0                0              0                 1   \n",
       "1                 0                0              0                 0   \n",
       "2                 0                0              0                 0   \n",
       "3                 0                0              0                 0   \n",
       "4                 0                0              0                 0   \n",
       "\n",
       "   pve_lanch_count  pve_win_count  avg_online_minutes  pay_price  pay_count  \n",
       "0                1              1            8.000000        0.0          0  \n",
       "1                0              0            0.166667        0.0          0  \n",
       "2                0              0           17.000000        0.0          0  \n",
       "3                0              0            1.666667        0.0          0  \n",
       "4                0              0            0.333333        0.0          0  \n",
       "\n",
       "[5 rows x 108 columns]"
      ]
     },
     "execution_count": 66,
     "metadata": {},
     "output_type": "execute_result"
    }
   ],
   "source": [
    "data_test.head()"
   ]
  },
  {
   "cell_type": "code",
   "execution_count": 67,
   "metadata": {
    "ExecuteTime": {
     "end_time": "2018-09-21T01:17:25.738086Z",
     "start_time": "2018-09-21T01:17:25.670082Z"
    }
   },
   "outputs": [
    {
     "name": "stdout",
     "output_type": "stream",
     "text": [
      "<class 'pandas.core.frame.DataFrame'>\n",
      "RangeIndex: 2288007 entries, 0 to 2288006\n",
      "Columns: 109 entries, user_id to prediction_pay_price\n",
      "dtypes: datetime64[ns](1), float32(13), uint16(8), uint32(21), uint8(66)\n",
      "memory usage: 493.1 MB\n"
     ]
    }
   ],
   "source": [
    "data_train.info(memory_usage='deep')"
   ]
  },
  {
   "cell_type": "code",
   "execution_count": 68,
   "metadata": {
    "ExecuteTime": {
     "end_time": "2018-09-21T01:17:25.816091Z",
     "start_time": "2018-09-21T01:17:25.740086Z"
    }
   },
   "outputs": [
    {
     "name": "stdout",
     "output_type": "stream",
     "text": [
      "<class 'pandas.core.frame.DataFrame'>\n",
      "RangeIndex: 828934 entries, 0 to 828933\n",
      "Columns: 108 entries, user_id to pay_count\n",
      "dtypes: datetime64[ns](1), float32(12), uint16(8), uint32(21), uint8(66)\n",
      "memory usage: 175.5 MB\n"
     ]
    }
   ],
   "source": [
    "data_test.info(memory_usage='deep')"
   ]
  },
  {
   "cell_type": "code",
   "execution_count": 69,
   "metadata": {
    "ExecuteTime": {
     "end_time": "2018-09-21T01:17:26.579134Z",
     "start_time": "2018-09-21T01:17:25.817091Z"
    }
   },
   "outputs": [],
   "source": [
    "# data_label=data_train['prediction_pay_price']\n",
    "# data_train2=data_train.drop(labels=['user_id','register_time'],axis=1)\n",
    "# data_test2=data_test.drop(labels=['user_id','register_time'],axis=1)\n",
    "\n",
    "data_train2=data_train.drop(labels=['register_time'],axis=1)\n",
    "data_test2=data_test.drop(labels=['register_time'],axis=1)"
   ]
  },
  {
   "cell_type": "code",
   "execution_count": null,
   "metadata": {},
   "outputs": [],
   "source": []
  },
  {
   "cell_type": "code",
   "execution_count": 70,
   "metadata": {
    "ExecuteTime": {
     "end_time": "2018-09-21T01:17:26.665139Z",
     "start_time": "2018-09-21T01:17:26.582134Z"
    }
   },
   "outputs": [],
   "source": [
    "train_7pay=data_train2[data_train2['pay_price']>0].copy()\n",
    "test_7pay=data_test2[data_test2['pay_price']>0].copy()\n",
    "\n"
   ]
  },
  {
   "cell_type": "code",
   "execution_count": null,
   "metadata": {
    "ExecuteTime": {
     "end_time": "2018-09-18T07:20:01.017023Z",
     "start_time": "2018-09-18T07:20:00.808412Z"
    }
   },
   "outputs": [],
   "source": []
  },
  {
   "cell_type": "code",
   "execution_count": 71,
   "metadata": {
    "ExecuteTime": {
     "end_time": "2018-09-21T01:17:26.804147Z",
     "start_time": "2018-09-21T01:17:26.667139Z"
    }
   },
   "outputs": [
    {
     "data": {
      "text/plain": [
       "array([[1.61700000e+03, 3.00000000e+04, 9.72000000e+04, ...,\n",
       "        9.90000010e-01, 1.00000000e+00, 9.90000010e-01],\n",
       "       [1.63200000e+03, 1.11174400e+06, 1.13768700e+06, ...,\n",
       "        2.97000003e+00, 3.00000000e+00, 4.96000004e+00],\n",
       "       [1.63900000e+03, 2.49050000e+05, 1.73248000e+05, ...,\n",
       "        1.29700003e+01, 3.00000000e+00, 1.29700003e+01],\n",
       "       ...,\n",
       "       [3.19048400e+06, 7.13628400e+06, 4.75568000e+06, ...,\n",
       "        9.90000010e-01, 1.00000000e+00, 2.09599991e+01],\n",
       "       [3.19049400e+06, 2.54819800e+06, 2.12713900e+06, ...,\n",
       "        9.90000010e-01, 1.00000000e+00, 9.90000010e-01],\n",
       "       [3.19050800e+06, 3.30638200e+06, 2.49192000e+06, ...,\n",
       "        1.98000002e+00, 2.00000000e+00, 1.98000002e+00]])"
      ]
     },
     "execution_count": 71,
     "metadata": {},
     "output_type": "execute_result"
    }
   ],
   "source": [
    "train_7pay.values"
   ]
  },
  {
   "cell_type": "code",
   "execution_count": 72,
   "metadata": {
    "ExecuteTime": {
     "end_time": "2018-09-21T01:17:26.878151Z",
     "start_time": "2018-09-21T01:17:26.805147Z"
    }
   },
   "outputs": [
    {
     "data": {
      "text/plain": [
       "(19549, 107)"
      ]
     },
     "execution_count": 72,
     "metadata": {},
     "output_type": "execute_result"
    }
   ],
   "source": [
    "test_7pay.shape"
   ]
  },
  {
   "cell_type": "code",
   "execution_count": 73,
   "metadata": {
    "ExecuteTime": {
     "end_time": "2018-09-21T01:17:26.943155Z",
     "start_time": "2018-09-21T01:17:26.880152Z"
    }
   },
   "outputs": [],
   "source": [
    "#######################################"
   ]
  },
  {
   "cell_type": "code",
   "execution_count": 74,
   "metadata": {
    "ExecuteTime": {
     "end_time": "2018-09-21T01:17:27.034160Z",
     "start_time": "2018-09-21T01:17:26.945155Z"
    }
   },
   "outputs": [],
   "source": [
    "# plt.scatter(train_7pay.pay_price,train_7pay.prediction_pay_price)\n",
    "# plt.show()"
   ]
  },
  {
   "cell_type": "code",
   "execution_count": 75,
   "metadata": {
    "ExecuteTime": {
     "end_time": "2018-09-21T01:17:27.109165Z",
     "start_time": "2018-09-21T01:17:27.035160Z"
    }
   },
   "outputs": [],
   "source": [
    "# plt.subplot(1,2,1)\n",
    "# sns.distplot(train_7pay.prediction_pay_price,kde=False,fit=norm)\n",
    "\n",
    "# plt.subplot(122)\n",
    "# sns.distplot(np.log(train_7pay.prediction_pay_price),kde=True,fit=norm)\n",
    "# plt.show()"
   ]
  },
  {
   "cell_type": "code",
   "execution_count": 76,
   "metadata": {
    "ExecuteTime": {
     "end_time": "2018-09-21T01:17:27.203170Z",
     "start_time": "2018-09-21T01:17:27.110165Z"
    }
   },
   "outputs": [
    {
     "data": {
      "text/plain": [
       "22.5540828704834"
      ]
     },
     "execution_count": 76,
     "metadata": {},
     "output_type": "execute_result"
    }
   ],
   "source": [
    "skew(train_7pay.prediction_pay_price)"
   ]
  },
  {
   "cell_type": "code",
   "execution_count": 77,
   "metadata": {
    "ExecuteTime": {
     "end_time": "2018-09-21T01:17:27.286175Z",
     "start_time": "2018-09-21T01:17:27.204170Z"
    }
   },
   "outputs": [
    {
     "data": {
      "text/plain": [
       "0.9934835433959961"
      ]
     },
     "execution_count": 77,
     "metadata": {},
     "output_type": "execute_result"
    }
   ],
   "source": [
    "skew(np.log(train_7pay.prediction_pay_price))"
   ]
  },
  {
   "cell_type": "code",
   "execution_count": null,
   "metadata": {},
   "outputs": [],
   "source": []
  },
  {
   "cell_type": "code",
   "execution_count": 78,
   "metadata": {
    "ExecuteTime": {
     "end_time": "2018-09-21T01:17:27.356179Z",
     "start_time": "2018-09-21T01:17:27.288175Z"
    }
   },
   "outputs": [],
   "source": [
    "# train_7pay['prediction_pay_price']=np.log(train_7pay.prediction_pay_price)"
   ]
  },
  {
   "cell_type": "code",
   "execution_count": 79,
   "metadata": {
    "ExecuteTime": {
     "end_time": "2018-09-21T01:17:27.423183Z",
     "start_time": "2018-09-21T01:17:27.357179Z"
    }
   },
   "outputs": [
    {
     "name": "stdout",
     "output_type": "stream",
     "text": [
      "<class 'pandas.core.frame.DataFrame'>\n",
      "Int64Index: 41439 entries, 25 to 2287984\n",
      "Columns: 108 entries, user_id to prediction_pay_price\n",
      "dtypes: float32(13), uint16(8), uint32(21), uint8(66)\n",
      "memory usage: 8.9 MB\n"
     ]
    }
   ],
   "source": [
    "train_7pay.info(memory_usage='deep')"
   ]
  },
  {
   "cell_type": "code",
   "execution_count": 80,
   "metadata": {
    "ExecuteTime": {
     "end_time": "2018-09-21T01:17:27.508187Z",
     "start_time": "2018-09-21T01:17:27.425183Z"
    }
   },
   "outputs": [],
   "source": [
    "train_7pay_y=train_7pay.prediction_pay_price\n",
    "train_7pay_X=train_7pay.drop(labels=['prediction_pay_price','user_id'],axis=1)\n",
    "train_7pay_user_id=train_7pay.user_id\n",
    "test_7pay_X=test_7pay.drop(labels=['user_id'],axis=1)\n",
    "test_7pay_user_id=test_7pay.user_id\n",
    "\n"
   ]
  },
  {
   "cell_type": "code",
   "execution_count": null,
   "metadata": {},
   "outputs": [],
   "source": []
  },
  {
   "cell_type": "code",
   "execution_count": 81,
   "metadata": {
    "ExecuteTime": {
     "end_time": "2018-09-21T01:17:27.548190Z",
     "start_time": "2018-09-21T01:17:27.509188Z"
    }
   },
   "outputs": [],
   "source": [
    "# ss=StandardScaler()\n",
    "# train_7pay_X_ss=ss.fit_transform(train_7pay_X)\n",
    "# test_7pay_X_ss=ss.transform(test_7pay_X)"
   ]
  },
  {
   "cell_type": "code",
   "execution_count": 82,
   "metadata": {
    "ExecuteTime": {
     "end_time": "2018-09-21T01:17:27.611193Z",
     "start_time": "2018-09-21T01:17:27.550190Z"
    }
   },
   "outputs": [
    {
     "data": {
      "text/plain": [
       "25      0.99\n",
       "40      4.96\n",
       "47     12.97\n",
       "86      0.99\n",
       "119     0.99\n",
       "Name: prediction_pay_price, dtype: float32"
      ]
     },
     "execution_count": 82,
     "metadata": {},
     "output_type": "execute_result"
    }
   ],
   "source": [
    "train_7pay.prediction_pay_price.head()"
   ]
  },
  {
   "cell_type": "code",
   "execution_count": 83,
   "metadata": {
    "ExecuteTime": {
     "end_time": "2018-09-21T01:17:27.678197Z",
     "start_time": "2018-09-21T01:17:27.612193Z"
    }
   },
   "outputs": [
    {
     "data": {
      "text/plain": [
       "22.5540828704834"
      ]
     },
     "execution_count": 83,
     "metadata": {},
     "output_type": "execute_result"
    }
   ],
   "source": [
    "skew(train_7pay_y)"
   ]
  },
  {
   "cell_type": "code",
   "execution_count": 84,
   "metadata": {
    "ExecuteTime": {
     "end_time": "2018-09-21T01:17:27.753201Z",
     "start_time": "2018-09-21T01:17:27.679197Z"
    }
   },
   "outputs": [
    {
     "data": {
      "text/plain": [
       "756.7218795035935"
      ]
     },
     "execution_count": 84,
     "metadata": {},
     "output_type": "execute_result"
    }
   ],
   "source": [
    "kurtosis(train_7pay_y)"
   ]
  },
  {
   "cell_type": "code",
   "execution_count": 85,
   "metadata": {
    "ExecuteTime": {
     "end_time": "2018-09-21T01:17:27.827206Z",
     "start_time": "2018-09-21T01:17:27.755202Z"
    }
   },
   "outputs": [
    {
     "data": {
      "text/plain": [
       "pandas.core.series.Series"
      ]
     },
     "execution_count": 85,
     "metadata": {},
     "output_type": "execute_result"
    }
   ],
   "source": [
    "type(train_7pay_y)"
   ]
  },
  {
   "cell_type": "code",
   "execution_count": 86,
   "metadata": {
    "ExecuteTime": {
     "end_time": "2018-09-21T01:17:27.923211Z",
     "start_time": "2018-09-21T01:17:27.828206Z"
    }
   },
   "outputs": [
    {
     "data": {
      "text/plain": [
       "106"
      ]
     },
     "execution_count": 86,
     "metadata": {},
     "output_type": "execute_result"
    }
   ],
   "source": [
    "numeric_dtypes=['uint8','uint16','uint32','uint64','float32']\n",
    "numeric2=[]\n",
    "for i in train_7pay_X.columns:\n",
    "    if (train_7pay_X[i].dtype in numeric_dtypes) & ( i != 'user_id') :#& (i != 'prediction_pay_price'):\n",
    "        numeric2.append(i)\n",
    "len(numeric2)"
   ]
  },
  {
   "cell_type": "code",
   "execution_count": 87,
   "metadata": {
    "ExecuteTime": {
     "end_time": "2018-09-21T01:17:28.104222Z",
     "start_time": "2018-09-21T01:17:27.924211Z"
    }
   },
   "outputs": [
    {
     "data": {
      "text/html": [
       "<div>\n",
       "<style scoped>\n",
       "    .dataframe tbody tr th:only-of-type {\n",
       "        vertical-align: middle;\n",
       "    }\n",
       "\n",
       "    .dataframe tbody tr th {\n",
       "        vertical-align: top;\n",
       "    }\n",
       "\n",
       "    .dataframe thead th {\n",
       "        text-align: right;\n",
       "    }\n",
       "</style>\n",
       "<table border=\"1\" class=\"dataframe\">\n",
       "  <thead>\n",
       "    <tr style=\"text-align: right;\">\n",
       "      <th></th>\n",
       "      <th>skew</th>\n",
       "    </tr>\n",
       "  </thead>\n",
       "  <tbody>\n",
       "    <tr>\n",
       "      <th>wound_shaman_reduce_value</th>\n",
       "      <td>197.754952</td>\n",
       "    </tr>\n",
       "    <tr>\n",
       "      <th>wound_shaman_add_value</th>\n",
       "      <td>197.507779</td>\n",
       "    </tr>\n",
       "    <tr>\n",
       "      <th>shaman_reduce_value</th>\n",
       "      <td>193.928541</td>\n",
       "    </tr>\n",
       "    <tr>\n",
       "      <th>shaman_add_value</th>\n",
       "      <td>191.781153</td>\n",
       "    </tr>\n",
       "    <tr>\n",
       "      <th>sr_guest_troop_capacity_level</th>\n",
       "      <td>161.804167</td>\n",
       "    </tr>\n",
       "    <tr>\n",
       "      <th>sr_rss_help_bonus_level</th>\n",
       "      <td>152.101567</td>\n",
       "    </tr>\n",
       "    <tr>\n",
       "      <th>sr_march_size_level</th>\n",
       "      <td>100.957012</td>\n",
       "    </tr>\n",
       "    <tr>\n",
       "      <th>sr_troop_attack_level</th>\n",
       "      <td>96.893319</td>\n",
       "    </tr>\n",
       "    <tr>\n",
       "      <th>treatment_acceleration_reduce_value</th>\n",
       "      <td>82.613300</td>\n",
       "    </tr>\n",
       "    <tr>\n",
       "      <th>sr_outpost_tier_4_level</th>\n",
       "      <td>56.432399</td>\n",
       "    </tr>\n",
       "    <tr>\n",
       "      <th>wound_infantry_reduce_value</th>\n",
       "      <td>42.553938</td>\n",
       "    </tr>\n",
       "    <tr>\n",
       "      <th>wound_infantry_add_value</th>\n",
       "      <td>41.544290</td>\n",
       "    </tr>\n",
       "    <tr>\n",
       "      <th>sr_shaman_tier_4_level</th>\n",
       "      <td>34.868251</td>\n",
       "    </tr>\n",
       "    <tr>\n",
       "      <th>infantry_reduce_value</th>\n",
       "      <td>33.677766</td>\n",
       "    </tr>\n",
       "    <tr>\n",
       "      <th>sr_infantry_tier_4_level</th>\n",
       "      <td>32.139943</td>\n",
       "    </tr>\n",
       "    <tr>\n",
       "      <th>sr_cavalry_tier_4_level</th>\n",
       "      <td>30.296332</td>\n",
       "    </tr>\n",
       "    <tr>\n",
       "      <th>infantry_add_value</th>\n",
       "      <td>27.239244</td>\n",
       "    </tr>\n",
       "    <tr>\n",
       "      <th>sr_cavalry_def_level</th>\n",
       "      <td>21.693874</td>\n",
       "    </tr>\n",
       "    <tr>\n",
       "      <th>sr_shaman_def_level</th>\n",
       "      <td>21.641758</td>\n",
       "    </tr>\n",
       "    <tr>\n",
       "      <th>sr_infantry_def_level</th>\n",
       "      <td>21.305608</td>\n",
       "    </tr>\n",
       "    <tr>\n",
       "      <th>magic_reduce_value</th>\n",
       "      <td>20.598588</td>\n",
       "    </tr>\n",
       "    <tr>\n",
       "      <th>pay_price</th>\n",
       "      <td>19.140564</td>\n",
       "    </tr>\n",
       "    <tr>\n",
       "      <th>magic_add_value</th>\n",
       "      <td>18.934228</td>\n",
       "    </tr>\n",
       "    <tr>\n",
       "      <th>sr_alliance_march_speed_level</th>\n",
       "      <td>18.592765</td>\n",
       "    </tr>\n",
       "    <tr>\n",
       "      <th>sr_shaman_hp_level</th>\n",
       "      <td>18.372703</td>\n",
       "    </tr>\n",
       "    <tr>\n",
       "      <th>sr_cavalry_hp_level</th>\n",
       "      <td>17.954976</td>\n",
       "    </tr>\n",
       "    <tr>\n",
       "      <th>meat_add_value</th>\n",
       "      <td>16.847139</td>\n",
       "    </tr>\n",
       "    <tr>\n",
       "      <th>sr_infantry_hp_level</th>\n",
       "      <td>16.642166</td>\n",
       "    </tr>\n",
       "    <tr>\n",
       "      <th>sr_troop_defense_level</th>\n",
       "      <td>16.392682</td>\n",
       "    </tr>\n",
       "    <tr>\n",
       "      <th>stone_add_value</th>\n",
       "      <td>15.954202</td>\n",
       "    </tr>\n",
       "    <tr>\n",
       "      <th>...</th>\n",
       "      <td>...</td>\n",
       "    </tr>\n",
       "    <tr>\n",
       "      <th>sr_troop_load_level</th>\n",
       "      <td>1.936576</td>\n",
       "    </tr>\n",
       "    <tr>\n",
       "      <th>sr_healing_speed_level</th>\n",
       "      <td>1.617247</td>\n",
       "    </tr>\n",
       "    <tr>\n",
       "      <th>sr_healing_space_level</th>\n",
       "      <td>1.607492</td>\n",
       "    </tr>\n",
       "    <tr>\n",
       "      <th>pve_win_count</th>\n",
       "      <td>1.583422</td>\n",
       "    </tr>\n",
       "    <tr>\n",
       "      <th>pve_battle_count</th>\n",
       "      <td>1.528469</td>\n",
       "    </tr>\n",
       "    <tr>\n",
       "      <th>pve_lanch_count</th>\n",
       "      <td>1.525276</td>\n",
       "    </tr>\n",
       "    <tr>\n",
       "      <th>sr_outpost_durability_level</th>\n",
       "      <td>1.271304</td>\n",
       "    </tr>\n",
       "    <tr>\n",
       "      <th>sr_gathering_hunter_buff_level</th>\n",
       "      <td>1.194486</td>\n",
       "    </tr>\n",
       "    <tr>\n",
       "      <th>sr_construction_speed_level</th>\n",
       "      <td>0.935679</td>\n",
       "    </tr>\n",
       "    <tr>\n",
       "      <th>sr_scout_level</th>\n",
       "      <td>0.774291</td>\n",
       "    </tr>\n",
       "    <tr>\n",
       "      <th>bd_hero_strengthen_level</th>\n",
       "      <td>0.703568</td>\n",
       "    </tr>\n",
       "    <tr>\n",
       "      <th>bd_hero_gacha_level</th>\n",
       "      <td>0.527847</td>\n",
       "    </tr>\n",
       "    <tr>\n",
       "      <th>bd_hero_pve_level</th>\n",
       "      <td>0.076623</td>\n",
       "    </tr>\n",
       "    <tr>\n",
       "      <th>sr_shaman_tier_2_level</th>\n",
       "      <td>0.019355</td>\n",
       "    </tr>\n",
       "    <tr>\n",
       "      <th>sr_cavalry_tier_2_level</th>\n",
       "      <td>-0.093492</td>\n",
       "    </tr>\n",
       "    <tr>\n",
       "      <th>sr_infantry_tier_2_level</th>\n",
       "      <td>-0.129278</td>\n",
       "    </tr>\n",
       "    <tr>\n",
       "      <th>bd_guest_cavern_level</th>\n",
       "      <td>-0.258554</td>\n",
       "    </tr>\n",
       "    <tr>\n",
       "      <th>bd_market_level</th>\n",
       "      <td>-0.286070</td>\n",
       "    </tr>\n",
       "    <tr>\n",
       "      <th>sr_training_speed_level</th>\n",
       "      <td>-0.296719</td>\n",
       "    </tr>\n",
       "    <tr>\n",
       "      <th>sr_outpost_tier_2_level</th>\n",
       "      <td>-0.299098</td>\n",
       "    </tr>\n",
       "    <tr>\n",
       "      <th>bd_healing_lodge_level</th>\n",
       "      <td>-0.306906</td>\n",
       "    </tr>\n",
       "    <tr>\n",
       "      <th>bd_watchtower_level</th>\n",
       "      <td>-0.381151</td>\n",
       "    </tr>\n",
       "    <tr>\n",
       "      <th>bd_training_hut_level</th>\n",
       "      <td>-0.401962</td>\n",
       "    </tr>\n",
       "    <tr>\n",
       "      <th>bd_healing_spring_level</th>\n",
       "      <td>-0.409719</td>\n",
       "    </tr>\n",
       "    <tr>\n",
       "      <th>bd_dolmen_level</th>\n",
       "      <td>-0.506567</td>\n",
       "    </tr>\n",
       "    <tr>\n",
       "      <th>bd_outpost_portal_level</th>\n",
       "      <td>-0.516837</td>\n",
       "    </tr>\n",
       "    <tr>\n",
       "      <th>bd_warehouse_level</th>\n",
       "      <td>-0.519127</td>\n",
       "    </tr>\n",
       "    <tr>\n",
       "      <th>bd_barrack_level</th>\n",
       "      <td>-0.541721</td>\n",
       "    </tr>\n",
       "    <tr>\n",
       "      <th>bd_magic_coin_tree_level</th>\n",
       "      <td>-0.550381</td>\n",
       "    </tr>\n",
       "    <tr>\n",
       "      <th>bd_stronghold_level</th>\n",
       "      <td>-0.694097</td>\n",
       "    </tr>\n",
       "  </tbody>\n",
       "</table>\n",
       "<p>106 rows × 1 columns</p>\n",
       "</div>"
      ],
      "text/plain": [
       "                                           skew\n",
       "wound_shaman_reduce_value            197.754952\n",
       "wound_shaman_add_value               197.507779\n",
       "shaman_reduce_value                  193.928541\n",
       "shaman_add_value                     191.781153\n",
       "sr_guest_troop_capacity_level        161.804167\n",
       "sr_rss_help_bonus_level              152.101567\n",
       "sr_march_size_level                  100.957012\n",
       "sr_troop_attack_level                 96.893319\n",
       "treatment_acceleration_reduce_value   82.613300\n",
       "sr_outpost_tier_4_level               56.432399\n",
       "wound_infantry_reduce_value           42.553938\n",
       "wound_infantry_add_value              41.544290\n",
       "sr_shaman_tier_4_level                34.868251\n",
       "infantry_reduce_value                 33.677766\n",
       "sr_infantry_tier_4_level              32.139943\n",
       "sr_cavalry_tier_4_level               30.296332\n",
       "infantry_add_value                    27.239244\n",
       "sr_cavalry_def_level                  21.693874\n",
       "sr_shaman_def_level                   21.641758\n",
       "sr_infantry_def_level                 21.305608\n",
       "magic_reduce_value                    20.598588\n",
       "pay_price                             19.140564\n",
       "magic_add_value                       18.934228\n",
       "sr_alliance_march_speed_level         18.592765\n",
       "sr_shaman_hp_level                    18.372703\n",
       "sr_cavalry_hp_level                   17.954976\n",
       "meat_add_value                        16.847139\n",
       "sr_infantry_hp_level                  16.642166\n",
       "sr_troop_defense_level                16.392682\n",
       "stone_add_value                       15.954202\n",
       "...                                         ...\n",
       "sr_troop_load_level                    1.936576\n",
       "sr_healing_speed_level                 1.617247\n",
       "sr_healing_space_level                 1.607492\n",
       "pve_win_count                          1.583422\n",
       "pve_battle_count                       1.528469\n",
       "pve_lanch_count                        1.525276\n",
       "sr_outpost_durability_level            1.271304\n",
       "sr_gathering_hunter_buff_level         1.194486\n",
       "sr_construction_speed_level            0.935679\n",
       "sr_scout_level                         0.774291\n",
       "bd_hero_strengthen_level               0.703568\n",
       "bd_hero_gacha_level                    0.527847\n",
       "bd_hero_pve_level                      0.076623\n",
       "sr_shaman_tier_2_level                 0.019355\n",
       "sr_cavalry_tier_2_level               -0.093492\n",
       "sr_infantry_tier_2_level              -0.129278\n",
       "bd_guest_cavern_level                 -0.258554\n",
       "bd_market_level                       -0.286070\n",
       "sr_training_speed_level               -0.296719\n",
       "sr_outpost_tier_2_level               -0.299098\n",
       "bd_healing_lodge_level                -0.306906\n",
       "bd_watchtower_level                   -0.381151\n",
       "bd_training_hut_level                 -0.401962\n",
       "bd_healing_spring_level               -0.409719\n",
       "bd_dolmen_level                       -0.506567\n",
       "bd_outpost_portal_level               -0.516837\n",
       "bd_warehouse_level                    -0.519127\n",
       "bd_barrack_level                      -0.541721\n",
       "bd_magic_coin_tree_level              -0.550381\n",
       "bd_stronghold_level                   -0.694097\n",
       "\n",
       "[106 rows x 1 columns]"
      ]
     },
     "execution_count": 87,
     "metadata": {},
     "output_type": "execute_result"
    }
   ],
   "source": [
    "numeric_dtypes=['uint8','uint16','uint32','uint64','float16','float32','float64']\n",
    "numeric2=[]\n",
    "for i in train_7pay_X.columns:\n",
    "    if (train_7pay_X[i].dtype in numeric_dtypes) & ( i != 'user_id')  :#& (i != 'prediction_pay_price'):\n",
    "        numeric2.append(i)\n",
    "skew_train_7pay_X=train_7pay_X[numeric2].apply(lambda x:skew(x)).sort_values(ascending=False)\n",
    "skews=pd.DataFrame({'skew':skew_train_7pay_X})\n",
    "skews"
   ]
  },
  {
   "cell_type": "code",
   "execution_count": 88,
   "metadata": {
    "ExecuteTime": {
     "end_time": "2018-09-21T01:17:28.180226Z",
     "start_time": "2018-09-21T01:17:28.105222Z"
    }
   },
   "outputs": [
    {
     "data": {
      "text/html": [
       "<div>\n",
       "<style scoped>\n",
       "    .dataframe tbody tr th:only-of-type {\n",
       "        vertical-align: middle;\n",
       "    }\n",
       "\n",
       "    .dataframe tbody tr th {\n",
       "        vertical-align: top;\n",
       "    }\n",
       "\n",
       "    .dataframe thead th {\n",
       "        text-align: right;\n",
       "    }\n",
       "</style>\n",
       "<table border=\"1\" class=\"dataframe\">\n",
       "  <thead>\n",
       "    <tr style=\"text-align: right;\">\n",
       "      <th></th>\n",
       "      <th>skew</th>\n",
       "    </tr>\n",
       "  </thead>\n",
       "  <tbody>\n",
       "    <tr>\n",
       "      <th>sr_guest_troop_capacity_level</th>\n",
       "      <td>80.705226</td>\n",
       "    </tr>\n",
       "    <tr>\n",
       "      <th>sr_rss_help_bonus_level</th>\n",
       "      <td>80.705226</td>\n",
       "    </tr>\n",
       "    <tr>\n",
       "      <th>sr_march_size_level</th>\n",
       "      <td>73.001415</td>\n",
       "    </tr>\n",
       "    <tr>\n",
       "      <th>sr_troop_attack_level</th>\n",
       "      <td>62.096348</td>\n",
       "    </tr>\n",
       "    <tr>\n",
       "      <th>sr_outpost_tier_4_level</th>\n",
       "      <td>49.402686</td>\n",
       "    </tr>\n",
       "    <tr>\n",
       "      <th>wound_infantry_reduce_value</th>\n",
       "      <td>46.079737</td>\n",
       "    </tr>\n",
       "    <tr>\n",
       "      <th>wound_infantry_add_value</th>\n",
       "      <td>44.729722</td>\n",
       "    </tr>\n",
       "    <tr>\n",
       "      <th>sr_cavalry_tier_4_level</th>\n",
       "      <td>36.059221</td>\n",
       "    </tr>\n",
       "    <tr>\n",
       "      <th>pay_price</th>\n",
       "      <td>35.569006</td>\n",
       "    </tr>\n",
       "    <tr>\n",
       "      <th>sr_shaman_tier_4_level</th>\n",
       "      <td>32.029607</td>\n",
       "    </tr>\n",
       "    <tr>\n",
       "      <th>treatment_acceleration_reduce_value</th>\n",
       "      <td>30.680418</td>\n",
       "    </tr>\n",
       "    <tr>\n",
       "      <th>sr_infantry_tier_4_level</th>\n",
       "      <td>28.487592</td>\n",
       "    </tr>\n",
       "    <tr>\n",
       "      <th>infantry_reduce_value</th>\n",
       "      <td>27.083416</td>\n",
       "    </tr>\n",
       "    <tr>\n",
       "      <th>sr_shaman_def_level</th>\n",
       "      <td>24.101079</td>\n",
       "    </tr>\n",
       "    <tr>\n",
       "      <th>sr_infantry_def_level</th>\n",
       "      <td>22.039732</td>\n",
       "    </tr>\n",
       "    <tr>\n",
       "      <th>sr_cavalry_def_level</th>\n",
       "      <td>21.796645</td>\n",
       "    </tr>\n",
       "    <tr>\n",
       "      <th>infantry_add_value</th>\n",
       "      <td>21.438863</td>\n",
       "    </tr>\n",
       "    <tr>\n",
       "      <th>shaman_add_value</th>\n",
       "      <td>20.924961</td>\n",
       "    </tr>\n",
       "    <tr>\n",
       "      <th>sr_shaman_hp_level</th>\n",
       "      <td>20.581838</td>\n",
       "    </tr>\n",
       "    <tr>\n",
       "      <th>sr_alliance_march_speed_level</th>\n",
       "      <td>20.375268</td>\n",
       "    </tr>\n",
       "    <tr>\n",
       "      <th>magic_reduce_value</th>\n",
       "      <td>18.115840</td>\n",
       "    </tr>\n",
       "    <tr>\n",
       "      <th>sr_infantry_hp_level</th>\n",
       "      <td>17.831127</td>\n",
       "    </tr>\n",
       "    <tr>\n",
       "      <th>stone_reduce_value</th>\n",
       "      <td>17.659201</td>\n",
       "    </tr>\n",
       "    <tr>\n",
       "      <th>treatment_acceleration_add_value</th>\n",
       "      <td>17.626653</td>\n",
       "    </tr>\n",
       "    <tr>\n",
       "      <th>stone_add_value</th>\n",
       "      <td>17.455574</td>\n",
       "    </tr>\n",
       "    <tr>\n",
       "      <th>shaman_reduce_value</th>\n",
       "      <td>17.430486</td>\n",
       "    </tr>\n",
       "    <tr>\n",
       "      <th>sr_cavalry_hp_level</th>\n",
       "      <td>17.187093</td>\n",
       "    </tr>\n",
       "    <tr>\n",
       "      <th>meat_reduce_value</th>\n",
       "      <td>17.067680</td>\n",
       "    </tr>\n",
       "    <tr>\n",
       "      <th>ivory_reduce_value</th>\n",
       "      <td>17.044522</td>\n",
       "    </tr>\n",
       "    <tr>\n",
       "      <th>sr_troop_defense_level</th>\n",
       "      <td>16.800770</td>\n",
       "    </tr>\n",
       "    <tr>\n",
       "      <th>...</th>\n",
       "      <td>...</td>\n",
       "    </tr>\n",
       "    <tr>\n",
       "      <th>sr_troop_load_level</th>\n",
       "      <td>1.848561</td>\n",
       "    </tr>\n",
       "    <tr>\n",
       "      <th>sr_healing_speed_level</th>\n",
       "      <td>1.442722</td>\n",
       "    </tr>\n",
       "    <tr>\n",
       "      <th>sr_healing_space_level</th>\n",
       "      <td>1.441015</td>\n",
       "    </tr>\n",
       "    <tr>\n",
       "      <th>pve_win_count</th>\n",
       "      <td>1.375305</td>\n",
       "    </tr>\n",
       "    <tr>\n",
       "      <th>pve_lanch_count</th>\n",
       "      <td>1.321346</td>\n",
       "    </tr>\n",
       "    <tr>\n",
       "      <th>pve_battle_count</th>\n",
       "      <td>1.320263</td>\n",
       "    </tr>\n",
       "    <tr>\n",
       "      <th>sr_outpost_durability_level</th>\n",
       "      <td>1.187160</td>\n",
       "    </tr>\n",
       "    <tr>\n",
       "      <th>sr_gathering_hunter_buff_level</th>\n",
       "      <td>1.099186</td>\n",
       "    </tr>\n",
       "    <tr>\n",
       "      <th>sr_construction_speed_level</th>\n",
       "      <td>0.854994</td>\n",
       "    </tr>\n",
       "    <tr>\n",
       "      <th>sr_scout_level</th>\n",
       "      <td>0.743584</td>\n",
       "    </tr>\n",
       "    <tr>\n",
       "      <th>bd_hero_strengthen_level</th>\n",
       "      <td>0.589179</td>\n",
       "    </tr>\n",
       "    <tr>\n",
       "      <th>bd_hero_gacha_level</th>\n",
       "      <td>0.398947</td>\n",
       "    </tr>\n",
       "    <tr>\n",
       "      <th>bd_hero_pve_level</th>\n",
       "      <td>-0.028230</td>\n",
       "    </tr>\n",
       "    <tr>\n",
       "      <th>sr_shaman_tier_2_level</th>\n",
       "      <td>-0.223283</td>\n",
       "    </tr>\n",
       "    <tr>\n",
       "      <th>bd_healing_lodge_level</th>\n",
       "      <td>-0.246816</td>\n",
       "    </tr>\n",
       "    <tr>\n",
       "      <th>bd_market_level</th>\n",
       "      <td>-0.350075</td>\n",
       "    </tr>\n",
       "    <tr>\n",
       "      <th>bd_guest_cavern_level</th>\n",
       "      <td>-0.356346</td>\n",
       "    </tr>\n",
       "    <tr>\n",
       "      <th>bd_training_hut_level</th>\n",
       "      <td>-0.357798</td>\n",
       "    </tr>\n",
       "    <tr>\n",
       "      <th>bd_outpost_portal_level</th>\n",
       "      <td>-0.361263</td>\n",
       "    </tr>\n",
       "    <tr>\n",
       "      <th>sr_cavalry_tier_2_level</th>\n",
       "      <td>-0.386909</td>\n",
       "    </tr>\n",
       "    <tr>\n",
       "      <th>bd_watchtower_level</th>\n",
       "      <td>-0.399521</td>\n",
       "    </tr>\n",
       "    <tr>\n",
       "      <th>sr_infantry_tier_2_level</th>\n",
       "      <td>-0.424297</td>\n",
       "    </tr>\n",
       "    <tr>\n",
       "      <th>bd_healing_spring_level</th>\n",
       "      <td>-0.443664</td>\n",
       "    </tr>\n",
       "    <tr>\n",
       "      <th>bd_dolmen_level</th>\n",
       "      <td>-0.460564</td>\n",
       "    </tr>\n",
       "    <tr>\n",
       "      <th>sr_training_speed_level</th>\n",
       "      <td>-0.497942</td>\n",
       "    </tr>\n",
       "    <tr>\n",
       "      <th>bd_barrack_level</th>\n",
       "      <td>-0.516124</td>\n",
       "    </tr>\n",
       "    <tr>\n",
       "      <th>bd_stronghold_level</th>\n",
       "      <td>-0.543057</td>\n",
       "    </tr>\n",
       "    <tr>\n",
       "      <th>bd_warehouse_level</th>\n",
       "      <td>-0.583353</td>\n",
       "    </tr>\n",
       "    <tr>\n",
       "      <th>bd_magic_coin_tree_level</th>\n",
       "      <td>-0.678569</td>\n",
       "    </tr>\n",
       "    <tr>\n",
       "      <th>sr_outpost_tier_2_level</th>\n",
       "      <td>-0.731500</td>\n",
       "    </tr>\n",
       "  </tbody>\n",
       "</table>\n",
       "<p>106 rows × 1 columns</p>\n",
       "</div>"
      ],
      "text/plain": [
       "                                          skew\n",
       "sr_guest_troop_capacity_level        80.705226\n",
       "sr_rss_help_bonus_level              80.705226\n",
       "sr_march_size_level                  73.001415\n",
       "sr_troop_attack_level                62.096348\n",
       "sr_outpost_tier_4_level              49.402686\n",
       "wound_infantry_reduce_value          46.079737\n",
       "wound_infantry_add_value             44.729722\n",
       "sr_cavalry_tier_4_level              36.059221\n",
       "pay_price                            35.569006\n",
       "sr_shaman_tier_4_level               32.029607\n",
       "treatment_acceleration_reduce_value  30.680418\n",
       "sr_infantry_tier_4_level             28.487592\n",
       "infantry_reduce_value                27.083416\n",
       "sr_shaman_def_level                  24.101079\n",
       "sr_infantry_def_level                22.039732\n",
       "sr_cavalry_def_level                 21.796645\n",
       "infantry_add_value                   21.438863\n",
       "shaman_add_value                     20.924961\n",
       "sr_shaman_hp_level                   20.581838\n",
       "sr_alliance_march_speed_level        20.375268\n",
       "magic_reduce_value                   18.115840\n",
       "sr_infantry_hp_level                 17.831127\n",
       "stone_reduce_value                   17.659201\n",
       "treatment_acceleration_add_value     17.626653\n",
       "stone_add_value                      17.455574\n",
       "shaman_reduce_value                  17.430486\n",
       "sr_cavalry_hp_level                  17.187093\n",
       "meat_reduce_value                    17.067680\n",
       "ivory_reduce_value                   17.044522\n",
       "sr_troop_defense_level               16.800770\n",
       "...                                        ...\n",
       "sr_troop_load_level                   1.848561\n",
       "sr_healing_speed_level                1.442722\n",
       "sr_healing_space_level                1.441015\n",
       "pve_win_count                         1.375305\n",
       "pve_lanch_count                       1.321346\n",
       "pve_battle_count                      1.320263\n",
       "sr_outpost_durability_level           1.187160\n",
       "sr_gathering_hunter_buff_level        1.099186\n",
       "sr_construction_speed_level           0.854994\n",
       "sr_scout_level                        0.743584\n",
       "bd_hero_strengthen_level              0.589179\n",
       "bd_hero_gacha_level                   0.398947\n",
       "bd_hero_pve_level                    -0.028230\n",
       "sr_shaman_tier_2_level               -0.223283\n",
       "bd_healing_lodge_level               -0.246816\n",
       "bd_market_level                      -0.350075\n",
       "bd_guest_cavern_level                -0.356346\n",
       "bd_training_hut_level                -0.357798\n",
       "bd_outpost_portal_level              -0.361263\n",
       "sr_cavalry_tier_2_level              -0.386909\n",
       "bd_watchtower_level                  -0.399521\n",
       "sr_infantry_tier_2_level             -0.424297\n",
       "bd_healing_spring_level              -0.443664\n",
       "bd_dolmen_level                      -0.460564\n",
       "sr_training_speed_level              -0.497942\n",
       "bd_barrack_level                     -0.516124\n",
       "bd_stronghold_level                  -0.543057\n",
       "bd_warehouse_level                   -0.583353\n",
       "bd_magic_coin_tree_level             -0.678569\n",
       "sr_outpost_tier_2_level              -0.731500\n",
       "\n",
       "[106 rows x 1 columns]"
      ]
     },
     "execution_count": 88,
     "metadata": {},
     "output_type": "execute_result"
    }
   ],
   "source": [
    "numeric_dtypes=['uint8','uint16','uint32','uint64','float16','float32','float64']\n",
    "numeric22=[]\n",
    "for i in test_7pay.columns:\n",
    "    if (test_7pay[i].dtype in numeric_dtypes) & ( i != 'user_id') : #& (i != 'prediction_pay_price'):\n",
    "        numeric22.append(i)\n",
    "skew_test_7pay=test_7pay[numeric22].apply(lambda x:skew(x)).sort_values(ascending=False)\n",
    "skews22=pd.DataFrame({'skew':skew_test_7pay})\n",
    "skews22"
   ]
  },
  {
   "cell_type": "code",
   "execution_count": 89,
   "metadata": {
    "ExecuteTime": {
     "end_time": "2018-09-21T01:17:28.386238Z",
     "start_time": "2018-09-21T01:17:28.182226Z"
    }
   },
   "outputs": [],
   "source": [
    "from scipy.special import boxcox1p\n",
    "from scipy.stats import boxcox_normmax"
   ]
  },
  {
   "cell_type": "code",
   "execution_count": 90,
   "metadata": {
    "ExecuteTime": {
     "end_time": "2018-09-21T01:17:28.584249Z",
     "start_time": "2018-09-21T01:17:28.388238Z"
    }
   },
   "outputs": [],
   "source": [
    "train_7pay_y2=boxcox1p(train_7pay_y,boxcox_normmax(train_7pay_y+1))"
   ]
  },
  {
   "cell_type": "code",
   "execution_count": 91,
   "metadata": {
    "ExecuteTime": {
     "end_time": "2018-09-21T01:17:28.692255Z",
     "start_time": "2018-09-21T01:17:28.586249Z"
    }
   },
   "outputs": [],
   "source": [
    "pl=boxcox_normmax(train_7pay.prediction_pay_price+1)"
   ]
  },
  {
   "cell_type": "code",
   "execution_count": 92,
   "metadata": {
    "ExecuteTime": {
     "end_time": "2018-09-21T01:17:28.715256Z",
     "start_time": "2018-09-21T01:17:28.693255Z"
    },
    "scrolled": true
   },
   "outputs": [
    {
     "data": {
      "text/plain": [
       "<bound method NDFrame.head of 25            0.990000\n",
       "40            4.960000\n",
       "47           12.970000\n",
       "86            0.990000\n",
       "119           0.990000\n",
       "155         166.860001\n",
       "171          26.940001\n",
       "214           9.990000\n",
       "248          19.969999\n",
       "305           0.990000\n",
       "380           1.980000\n",
       "381        8982.780273\n",
       "390           0.990000\n",
       "434           0.990000\n",
       "450          16.959999\n",
       "481           8.960000\n",
       "562          15.970000\n",
       "616        1858.579956\n",
       "617         167.729996\n",
       "625           0.990000\n",
       "630          10.970000\n",
       "643           1.980000\n",
       "716           0.990000\n",
       "726           0.990000\n",
       "817           1.980000\n",
       "835           0.990000\n",
       "845           0.990000\n",
       "981           5.980000\n",
       "982           0.990000\n",
       "1004          1.980000\n",
       "              ...     \n",
       "2286844       8.960000\n",
       "2286871       4.990000\n",
       "2286913       0.990000\n",
       "2286961      76.889999\n",
       "2286987       4.970000\n",
       "2287028       0.990000\n",
       "2287109      10.950000\n",
       "2287140       6.970000\n",
       "2287179       6.970000\n",
       "2287262     256.829987\n",
       "2287373     306.790009\n",
       "2287410      21.930000\n",
       "2287492       0.990000\n",
       "2287517    2962.510010\n",
       "2287520       0.990000\n",
       "2287555      17.959999\n",
       "2287618      84.860001\n",
       "2287668       0.990000\n",
       "2287708       1.980000\n",
       "2287712      58.889999\n",
       "2287742       0.990000\n",
       "2287780       4.990000\n",
       "2287839      26.950001\n",
       "2287863      73.870003\n",
       "2287876      56.889999\n",
       "2287944       0.990000\n",
       "2287946     932.330017\n",
       "2287960      20.959999\n",
       "2287970       0.990000\n",
       "2287984       1.980000\n",
       "Name: prediction_pay_price, Length: 41439, dtype: float32>"
      ]
     },
     "execution_count": 92,
     "metadata": {},
     "output_type": "execute_result"
    }
   ],
   "source": [
    "train_7pay.prediction_pay_price.head"
   ]
  },
  {
   "cell_type": "code",
   "execution_count": 93,
   "metadata": {
    "ExecuteTime": {
     "end_time": "2018-09-21T01:17:28.820263Z",
     "start_time": "2018-09-21T01:17:28.717257Z"
    }
   },
   "outputs": [
    {
     "data": {
      "text/plain": [
       "25      0.99\n",
       "40      4.96\n",
       "47     12.97\n",
       "86      0.99\n",
       "119     0.99\n",
       "Name: prediction_pay_price, dtype: float32"
      ]
     },
     "execution_count": 93,
     "metadata": {},
     "output_type": "execute_result"
    }
   ],
   "source": [
    "train_7pay_y.head()"
   ]
  },
  {
   "cell_type": "code",
   "execution_count": 94,
   "metadata": {
    "ExecuteTime": {
     "end_time": "2018-09-21T01:17:28.894267Z",
     "start_time": "2018-09-21T01:17:28.822263Z"
    }
   },
   "outputs": [
    {
     "data": {
      "text/plain": [
       "0.5052024722099304"
      ]
     },
     "execution_count": 94,
     "metadata": {},
     "output_type": "execute_result"
    }
   ],
   "source": [
    "skew(train_7pay_y2)"
   ]
  },
  {
   "cell_type": "code",
   "execution_count": 95,
   "metadata": {
    "ExecuteTime": {
     "end_time": "2018-09-21T01:17:28.970271Z",
     "start_time": "2018-09-21T01:17:28.895267Z"
    }
   },
   "outputs": [
    {
     "data": {
      "text/plain": [
       "-1.0679493161027607"
      ]
     },
     "execution_count": 95,
     "metadata": {},
     "output_type": "execute_result"
    }
   ],
   "source": [
    "kurtosis(train_7pay_y2)"
   ]
  },
  {
   "cell_type": "code",
   "execution_count": 96,
   "metadata": {
    "ExecuteTime": {
     "end_time": "2018-09-21T01:17:29.039275Z",
     "start_time": "2018-09-21T01:17:28.972271Z"
    }
   },
   "outputs": [],
   "source": [
    "# sns.distplot(train_7pay_y2,fit=norm,kde=False)\n",
    "# plt.show()"
   ]
  },
  {
   "cell_type": "code",
   "execution_count": 97,
   "metadata": {
    "ExecuteTime": {
     "end_time": "2018-09-21T01:17:29.143281Z",
     "start_time": "2018-09-21T01:17:29.040275Z"
    }
   },
   "outputs": [],
   "source": [
    "train_7pay_y_org=train_7pay_y\n",
    "train_7pay_y=train_7pay_y2"
   ]
  },
  {
   "cell_type": "code",
   "execution_count": 98,
   "metadata": {
    "ExecuteTime": {
     "end_time": "2018-09-21T01:17:29.252287Z",
     "start_time": "2018-09-21T01:17:29.144281Z"
    }
   },
   "outputs": [],
   "source": [
    "def anti_boxcox(x,la):\n",
    "    return np.power((la * x + 1),1/la)-1"
   ]
  },
  {
   "cell_type": "code",
   "execution_count": 99,
   "metadata": {
    "ExecuteTime": {
     "end_time": "2018-09-21T01:17:29.357293Z",
     "start_time": "2018-09-21T01:17:29.255287Z"
    }
   },
   "outputs": [
    {
     "data": {
      "text/plain": [
       "25      0.99\n",
       "40      4.96\n",
       "47     12.97\n",
       "86      0.99\n",
       "119     0.99\n",
       "Name: prediction_pay_price, dtype: float32"
      ]
     },
     "execution_count": 99,
     "metadata": {},
     "output_type": "execute_result"
    }
   ],
   "source": [
    "train_7pay_y_org.head()"
   ]
  },
  {
   "cell_type": "code",
   "execution_count": 100,
   "metadata": {
    "ExecuteTime": {
     "end_time": "2018-09-21T01:17:29.430297Z",
     "start_time": "2018-09-21T01:17:29.362294Z"
    }
   },
   "outputs": [
    {
     "data": {
      "text/plain": [
       "25     0.625366\n",
       "40     1.401911\n",
       "47     1.859085\n",
       "86     0.625366\n",
       "119    0.625366\n",
       "Name: prediction_pay_price, dtype: float32"
      ]
     },
     "execution_count": 100,
     "metadata": {},
     "output_type": "execute_result"
    }
   ],
   "source": [
    "train_7pay_y.head()"
   ]
  },
  {
   "cell_type": "code",
   "execution_count": null,
   "metadata": {},
   "outputs": [],
   "source": []
  },
  {
   "cell_type": "code",
   "execution_count": 101,
   "metadata": {
    "ExecuteTime": {
     "end_time": "2018-09-21T01:17:29.519302Z",
     "start_time": "2018-09-21T01:17:29.432298Z"
    }
   },
   "outputs": [
    {
     "data": {
      "text/plain": [
       "32977.58981350648"
      ]
     },
     "execution_count": 101,
     "metadata": {},
     "output_type": "execute_result"
    }
   ],
   "source": [
    "anti_boxcox(3.351854,pl)"
   ]
  },
  {
   "cell_type": "code",
   "execution_count": null,
   "metadata": {},
   "outputs": [],
   "source": []
  },
  {
   "cell_type": "code",
   "execution_count": 102,
   "metadata": {
    "ExecuteTime": {
     "end_time": "2018-09-21T01:17:36.429698Z",
     "start_time": "2018-09-21T01:17:29.520303Z"
    },
    "scrolled": false
   },
   "outputs": [
    {
     "name": "stderr",
     "output_type": "stream",
     "text": [
      "D:\\ProgramData\\Anaconda3\\lib\\site-packages\\scipy\\stats\\stats.py:5616: RuntimeWarning: overflow encountered in multiply\n",
      "  return np.sum(a*a, axis)\n"
     ]
    },
    {
     "data": {
      "text/html": [
       "<div>\n",
       "<style scoped>\n",
       "    .dataframe tbody tr th:only-of-type {\n",
       "        vertical-align: middle;\n",
       "    }\n",
       "\n",
       "    .dataframe tbody tr th {\n",
       "        vertical-align: top;\n",
       "    }\n",
       "\n",
       "    .dataframe thead th {\n",
       "        text-align: right;\n",
       "    }\n",
       "</style>\n",
       "<table border=\"1\" class=\"dataframe\">\n",
       "  <thead>\n",
       "    <tr style=\"text-align: right;\">\n",
       "      <th></th>\n",
       "      <th>skew</th>\n",
       "    </tr>\n",
       "  </thead>\n",
       "  <tbody>\n",
       "    <tr>\n",
       "      <th>sr_guest_troop_capacity_level</th>\n",
       "      <td>117.691832</td>\n",
       "    </tr>\n",
       "    <tr>\n",
       "      <th>sr_rss_help_bonus_level</th>\n",
       "      <td>117.634879</td>\n",
       "    </tr>\n",
       "    <tr>\n",
       "      <th>sr_march_size_level</th>\n",
       "      <td>77.117545</td>\n",
       "    </tr>\n",
       "    <tr>\n",
       "      <th>sr_troop_attack_level</th>\n",
       "      <td>67.957535</td>\n",
       "    </tr>\n",
       "    <tr>\n",
       "      <th>sr_outpost_tier_4_level</th>\n",
       "      <td>56.432399</td>\n",
       "    </tr>\n",
       "    <tr>\n",
       "      <th>sr_shaman_tier_4_level</th>\n",
       "      <td>34.868251</td>\n",
       "    </tr>\n",
       "    <tr>\n",
       "      <th>sr_infantry_tier_4_level</th>\n",
       "      <td>32.139943</td>\n",
       "    </tr>\n",
       "    <tr>\n",
       "      <th>sr_cavalry_tier_4_level</th>\n",
       "      <td>30.296332</td>\n",
       "    </tr>\n",
       "    <tr>\n",
       "      <th>sr_shaman_hp_level</th>\n",
       "      <td>12.814441</td>\n",
       "    </tr>\n",
       "    <tr>\n",
       "      <th>sr_cavalry_hp_level</th>\n",
       "      <td>12.560403</td>\n",
       "    </tr>\n",
       "    <tr>\n",
       "      <th>sr_shaman_def_level</th>\n",
       "      <td>12.129973</td>\n",
       "    </tr>\n",
       "    <tr>\n",
       "      <th>sr_infantry_hp_level</th>\n",
       "      <td>11.863372</td>\n",
       "    </tr>\n",
       "    <tr>\n",
       "      <th>sr_cavalry_def_level</th>\n",
       "      <td>11.659334</td>\n",
       "    </tr>\n",
       "    <tr>\n",
       "      <th>sr_infantry_def_level</th>\n",
       "      <td>11.332265</td>\n",
       "    </tr>\n",
       "    <tr>\n",
       "      <th>sr_alliance_march_speed_level</th>\n",
       "      <td>9.993289</td>\n",
       "    </tr>\n",
       "    <tr>\n",
       "      <th>sr_troop_defense_level</th>\n",
       "      <td>9.869269</td>\n",
       "    </tr>\n",
       "    <tr>\n",
       "      <th>sr_shaman_tier_3_level</th>\n",
       "      <td>8.629551</td>\n",
       "    </tr>\n",
       "    <tr>\n",
       "      <th>sr_gathering_march_speed_level</th>\n",
       "      <td>8.298226</td>\n",
       "    </tr>\n",
       "    <tr>\n",
       "      <th>sr_cavalry_tier_3_level</th>\n",
       "      <td>8.150256</td>\n",
       "    </tr>\n",
       "    <tr>\n",
       "      <th>sr_pvp_march_speed_level</th>\n",
       "      <td>8.066003</td>\n",
       "    </tr>\n",
       "    <tr>\n",
       "      <th>sr_infantry_tier_3_level</th>\n",
       "      <td>7.930711</td>\n",
       "    </tr>\n",
       "    <tr>\n",
       "      <th>sr_rss_c_gather_level</th>\n",
       "      <td>7.921793</td>\n",
       "    </tr>\n",
       "    <tr>\n",
       "      <th>sr_rss_c_prod_level</th>\n",
       "      <td>6.799671</td>\n",
       "    </tr>\n",
       "    <tr>\n",
       "      <th>sr_rss_b_gather_level</th>\n",
       "      <td>4.355000</td>\n",
       "    </tr>\n",
       "    <tr>\n",
       "      <th>sr_outpost_tier_3_level</th>\n",
       "      <td>4.219154</td>\n",
       "    </tr>\n",
       "    <tr>\n",
       "      <th>sr_rss_e_gather_level</th>\n",
       "      <td>3.974888</td>\n",
       "    </tr>\n",
       "    <tr>\n",
       "      <th>sr_rss_b_prod_level</th>\n",
       "      <td>3.754292</td>\n",
       "    </tr>\n",
       "    <tr>\n",
       "      <th>sr_rss_e_prod_level</th>\n",
       "      <td>2.376228</td>\n",
       "    </tr>\n",
       "    <tr>\n",
       "      <th>treatment_acceleration_reduce_value</th>\n",
       "      <td>2.172012</td>\n",
       "    </tr>\n",
       "    <tr>\n",
       "      <th>sr_rss_d_gather_level</th>\n",
       "      <td>1.575923</td>\n",
       "    </tr>\n",
       "    <tr>\n",
       "      <th>...</th>\n",
       "      <td>...</td>\n",
       "    </tr>\n",
       "    <tr>\n",
       "      <th>magic_reduce_value</th>\n",
       "      <td>0.145848</td>\n",
       "    </tr>\n",
       "    <tr>\n",
       "      <th>general_acceleration_add_value</th>\n",
       "      <td>0.136133</td>\n",
       "    </tr>\n",
       "    <tr>\n",
       "      <th>training_acceleration_add_value</th>\n",
       "      <td>0.131508</td>\n",
       "    </tr>\n",
       "    <tr>\n",
       "      <th>building_acceleration_add_value</th>\n",
       "      <td>0.120398</td>\n",
       "    </tr>\n",
       "    <tr>\n",
       "      <th>magic_add_value</th>\n",
       "      <td>0.086886</td>\n",
       "    </tr>\n",
       "    <tr>\n",
       "      <th>reaserch_acceleration_add_value</th>\n",
       "      <td>0.084796</td>\n",
       "    </tr>\n",
       "    <tr>\n",
       "      <th>bd_hero_pve_level</th>\n",
       "      <td>0.076623</td>\n",
       "    </tr>\n",
       "    <tr>\n",
       "      <th>pve_win_count</th>\n",
       "      <td>0.039549</td>\n",
       "    </tr>\n",
       "    <tr>\n",
       "      <th>pve_lanch_count</th>\n",
       "      <td>0.037883</td>\n",
       "    </tr>\n",
       "    <tr>\n",
       "      <th>pve_battle_count</th>\n",
       "      <td>0.036164</td>\n",
       "    </tr>\n",
       "    <tr>\n",
       "      <th>sr_shaman_tier_2_level</th>\n",
       "      <td>0.019355</td>\n",
       "    </tr>\n",
       "    <tr>\n",
       "      <th>avg_online_minutes</th>\n",
       "      <td>-0.015519</td>\n",
       "    </tr>\n",
       "    <tr>\n",
       "      <th>sr_cavalry_tier_2_level</th>\n",
       "      <td>-0.093492</td>\n",
       "    </tr>\n",
       "    <tr>\n",
       "      <th>sr_infantry_tier_2_level</th>\n",
       "      <td>-0.129278</td>\n",
       "    </tr>\n",
       "    <tr>\n",
       "      <th>bd_guest_cavern_level</th>\n",
       "      <td>-0.258554</td>\n",
       "    </tr>\n",
       "    <tr>\n",
       "      <th>bd_market_level</th>\n",
       "      <td>-0.286070</td>\n",
       "    </tr>\n",
       "    <tr>\n",
       "      <th>sr_training_speed_level</th>\n",
       "      <td>-0.296719</td>\n",
       "    </tr>\n",
       "    <tr>\n",
       "      <th>sr_outpost_tier_2_level</th>\n",
       "      <td>-0.299098</td>\n",
       "    </tr>\n",
       "    <tr>\n",
       "      <th>bd_healing_lodge_level</th>\n",
       "      <td>-0.306906</td>\n",
       "    </tr>\n",
       "    <tr>\n",
       "      <th>bd_watchtower_level</th>\n",
       "      <td>-0.381151</td>\n",
       "    </tr>\n",
       "    <tr>\n",
       "      <th>bd_training_hut_level</th>\n",
       "      <td>-0.401962</td>\n",
       "    </tr>\n",
       "    <tr>\n",
       "      <th>bd_healing_spring_level</th>\n",
       "      <td>-0.409719</td>\n",
       "    </tr>\n",
       "    <tr>\n",
       "      <th>bd_dolmen_level</th>\n",
       "      <td>-0.506567</td>\n",
       "    </tr>\n",
       "    <tr>\n",
       "      <th>bd_outpost_portal_level</th>\n",
       "      <td>-0.516837</td>\n",
       "    </tr>\n",
       "    <tr>\n",
       "      <th>bd_warehouse_level</th>\n",
       "      <td>-0.519127</td>\n",
       "    </tr>\n",
       "    <tr>\n",
       "      <th>bd_barrack_level</th>\n",
       "      <td>-0.541721</td>\n",
       "    </tr>\n",
       "    <tr>\n",
       "      <th>bd_magic_coin_tree_level</th>\n",
       "      <td>-0.550381</td>\n",
       "    </tr>\n",
       "    <tr>\n",
       "      <th>bd_stronghold_level</th>\n",
       "      <td>-0.694097</td>\n",
       "    </tr>\n",
       "    <tr>\n",
       "      <th>meat_reduce_value</th>\n",
       "      <td>-3.562855</td>\n",
       "    </tr>\n",
       "    <tr>\n",
       "      <th>wood_reduce_value</th>\n",
       "      <td>-3.566151</td>\n",
       "    </tr>\n",
       "  </tbody>\n",
       "</table>\n",
       "<p>106 rows × 1 columns</p>\n",
       "</div>"
      ],
      "text/plain": [
       "                                           skew\n",
       "sr_guest_troop_capacity_level        117.691832\n",
       "sr_rss_help_bonus_level              117.634879\n",
       "sr_march_size_level                   77.117545\n",
       "sr_troop_attack_level                 67.957535\n",
       "sr_outpost_tier_4_level               56.432399\n",
       "sr_shaman_tier_4_level                34.868251\n",
       "sr_infantry_tier_4_level              32.139943\n",
       "sr_cavalry_tier_4_level               30.296332\n",
       "sr_shaman_hp_level                    12.814441\n",
       "sr_cavalry_hp_level                   12.560403\n",
       "sr_shaman_def_level                   12.129973\n",
       "sr_infantry_hp_level                  11.863372\n",
       "sr_cavalry_def_level                  11.659334\n",
       "sr_infantry_def_level                 11.332265\n",
       "sr_alliance_march_speed_level          9.993289\n",
       "sr_troop_defense_level                 9.869269\n",
       "sr_shaman_tier_3_level                 8.629551\n",
       "sr_gathering_march_speed_level         8.298226\n",
       "sr_cavalry_tier_3_level                8.150256\n",
       "sr_pvp_march_speed_level               8.066003\n",
       "sr_infantry_tier_3_level               7.930711\n",
       "sr_rss_c_gather_level                  7.921793\n",
       "sr_rss_c_prod_level                    6.799671\n",
       "sr_rss_b_gather_level                  4.355000\n",
       "sr_outpost_tier_3_level                4.219154\n",
       "sr_rss_e_gather_level                  3.974888\n",
       "sr_rss_b_prod_level                    3.754292\n",
       "sr_rss_e_prod_level                    2.376228\n",
       "treatment_acceleration_reduce_value    2.172012\n",
       "sr_rss_d_gather_level                  1.575923\n",
       "...                                         ...\n",
       "magic_reduce_value                     0.145848\n",
       "general_acceleration_add_value         0.136133\n",
       "training_acceleration_add_value        0.131508\n",
       "building_acceleration_add_value        0.120398\n",
       "magic_add_value                        0.086886\n",
       "reaserch_acceleration_add_value        0.084796\n",
       "bd_hero_pve_level                      0.076623\n",
       "pve_win_count                          0.039549\n",
       "pve_lanch_count                        0.037883\n",
       "pve_battle_count                       0.036164\n",
       "sr_shaman_tier_2_level                 0.019355\n",
       "avg_online_minutes                    -0.015519\n",
       "sr_cavalry_tier_2_level               -0.093492\n",
       "sr_infantry_tier_2_level              -0.129278\n",
       "bd_guest_cavern_level                 -0.258554\n",
       "bd_market_level                       -0.286070\n",
       "sr_training_speed_level               -0.296719\n",
       "sr_outpost_tier_2_level               -0.299098\n",
       "bd_healing_lodge_level                -0.306906\n",
       "bd_watchtower_level                   -0.381151\n",
       "bd_training_hut_level                 -0.401962\n",
       "bd_healing_spring_level               -0.409719\n",
       "bd_dolmen_level                       -0.506567\n",
       "bd_outpost_portal_level               -0.516837\n",
       "bd_warehouse_level                    -0.519127\n",
       "bd_barrack_level                      -0.541721\n",
       "bd_magic_coin_tree_level              -0.550381\n",
       "bd_stronghold_level                   -0.694097\n",
       "meat_reduce_value                     -3.562855\n",
       "wood_reduce_value                     -3.566151\n",
       "\n",
       "[106 rows x 1 columns]"
      ]
     },
     "execution_count": 102,
     "metadata": {},
     "output_type": "execute_result"
    }
   ],
   "source": [
    "high_skew=skew_train_7pay_X[skew_train_7pay_X>0.5]\n",
    "high_skew=high_skew\n",
    "skew_index=high_skew.index\n",
    "\n",
    "for i in skew_index:\n",
    "    train_7pay[i]=boxcox1p(train_7pay[i],boxcox_normmax(train_7pay[i]+1))\n",
    "skew_train_7pay2_X=train_7pay[numeric2].apply(lambda x:skew(x)).sort_values(ascending=False)\n",
    "skew2=pd.DataFrame({'skew':skew_train_7pay2_X})\n",
    "skew2"
   ]
  },
  {
   "cell_type": "code",
   "execution_count": 103,
   "metadata": {
    "ExecuteTime": {
     "end_time": "2018-09-21T01:17:39.826892Z",
     "start_time": "2018-09-21T01:17:36.431698Z"
    }
   },
   "outputs": [
    {
     "name": "stderr",
     "output_type": "stream",
     "text": [
      "D:\\ProgramData\\Anaconda3\\lib\\site-packages\\scipy\\stats\\stats.py:5616: RuntimeWarning: overflow encountered in multiply\n",
      "  return np.sum(a*a, axis)\n"
     ]
    },
    {
     "data": {
      "text/html": [
       "<div>\n",
       "<style scoped>\n",
       "    .dataframe tbody tr th:only-of-type {\n",
       "        vertical-align: middle;\n",
       "    }\n",
       "\n",
       "    .dataframe tbody tr th {\n",
       "        vertical-align: top;\n",
       "    }\n",
       "\n",
       "    .dataframe thead th {\n",
       "        text-align: right;\n",
       "    }\n",
       "</style>\n",
       "<table border=\"1\" class=\"dataframe\">\n",
       "  <thead>\n",
       "    <tr style=\"text-align: right;\">\n",
       "      <th></th>\n",
       "      <th>skew</th>\n",
       "    </tr>\n",
       "  </thead>\n",
       "  <tbody>\n",
       "    <tr>\n",
       "      <th>sr_rss_help_bonus_level</th>\n",
       "      <td>80.705226</td>\n",
       "    </tr>\n",
       "    <tr>\n",
       "      <th>sr_guest_troop_capacity_level</th>\n",
       "      <td>80.705226</td>\n",
       "    </tr>\n",
       "    <tr>\n",
       "      <th>sr_march_size_level</th>\n",
       "      <td>52.917479</td>\n",
       "    </tr>\n",
       "    <tr>\n",
       "      <th>sr_troop_attack_level</th>\n",
       "      <td>52.893436</td>\n",
       "    </tr>\n",
       "    <tr>\n",
       "      <th>sr_outpost_tier_4_level</th>\n",
       "      <td>49.402686</td>\n",
       "    </tr>\n",
       "    <tr>\n",
       "      <th>sr_cavalry_tier_4_level</th>\n",
       "      <td>36.059221</td>\n",
       "    </tr>\n",
       "    <tr>\n",
       "      <th>sr_shaman_tier_4_level</th>\n",
       "      <td>32.029607</td>\n",
       "    </tr>\n",
       "    <tr>\n",
       "      <th>sr_infantry_tier_4_level</th>\n",
       "      <td>28.487592</td>\n",
       "    </tr>\n",
       "    <tr>\n",
       "      <th>sr_shaman_hp_level</th>\n",
       "      <td>14.114951</td>\n",
       "    </tr>\n",
       "    <tr>\n",
       "      <th>sr_shaman_def_level</th>\n",
       "      <td>13.189898</td>\n",
       "    </tr>\n",
       "    <tr>\n",
       "      <th>sr_infantry_hp_level</th>\n",
       "      <td>12.909549</td>\n",
       "    </tr>\n",
       "    <tr>\n",
       "      <th>sr_cavalry_hp_level</th>\n",
       "      <td>12.634294</td>\n",
       "    </tr>\n",
       "    <tr>\n",
       "      <th>sr_infantry_def_level</th>\n",
       "      <td>12.153610</td>\n",
       "    </tr>\n",
       "    <tr>\n",
       "      <th>sr_cavalry_def_level</th>\n",
       "      <td>12.056187</td>\n",
       "    </tr>\n",
       "    <tr>\n",
       "      <th>sr_troop_defense_level</th>\n",
       "      <td>10.208373</td>\n",
       "    </tr>\n",
       "    <tr>\n",
       "      <th>sr_alliance_march_speed_level</th>\n",
       "      <td>9.626088</td>\n",
       "    </tr>\n",
       "    <tr>\n",
       "      <th>sr_shaman_tier_3_level</th>\n",
       "      <td>8.782454</td>\n",
       "    </tr>\n",
       "    <tr>\n",
       "      <th>sr_infantry_tier_3_level</th>\n",
       "      <td>8.085048</td>\n",
       "    </tr>\n",
       "    <tr>\n",
       "      <th>sr_cavalry_tier_3_level</th>\n",
       "      <td>8.070309</td>\n",
       "    </tr>\n",
       "    <tr>\n",
       "      <th>sr_pvp_march_speed_level</th>\n",
       "      <td>7.781338</td>\n",
       "    </tr>\n",
       "    <tr>\n",
       "      <th>sr_gathering_march_speed_level</th>\n",
       "      <td>7.660706</td>\n",
       "    </tr>\n",
       "    <tr>\n",
       "      <th>sr_rss_c_gather_level</th>\n",
       "      <td>7.413734</td>\n",
       "    </tr>\n",
       "    <tr>\n",
       "      <th>sr_rss_c_prod_level</th>\n",
       "      <td>6.336214</td>\n",
       "    </tr>\n",
       "    <tr>\n",
       "      <th>sr_outpost_tier_3_level</th>\n",
       "      <td>4.103616</td>\n",
       "    </tr>\n",
       "    <tr>\n",
       "      <th>sr_rss_b_gather_level</th>\n",
       "      <td>4.081167</td>\n",
       "    </tr>\n",
       "    <tr>\n",
       "      <th>sr_rss_e_gather_level</th>\n",
       "      <td>3.775178</td>\n",
       "    </tr>\n",
       "    <tr>\n",
       "      <th>sr_rss_b_prod_level</th>\n",
       "      <td>3.515250</td>\n",
       "    </tr>\n",
       "    <tr>\n",
       "      <th>sr_rss_e_prod_level</th>\n",
       "      <td>2.217775</td>\n",
       "    </tr>\n",
       "    <tr>\n",
       "      <th>treatment_acceleration_reduce_value</th>\n",
       "      <td>2.123521</td>\n",
       "    </tr>\n",
       "    <tr>\n",
       "      <th>sr_rss_d_gather_level</th>\n",
       "      <td>1.447355</td>\n",
       "    </tr>\n",
       "    <tr>\n",
       "      <th>...</th>\n",
       "      <td>...</td>\n",
       "    </tr>\n",
       "    <tr>\n",
       "      <th>sr_scout_level</th>\n",
       "      <td>0.106724</td>\n",
       "    </tr>\n",
       "    <tr>\n",
       "      <th>building_acceleration_reduce_value</th>\n",
       "      <td>0.106130</td>\n",
       "    </tr>\n",
       "    <tr>\n",
       "      <th>magic_reduce_value</th>\n",
       "      <td>0.101948</td>\n",
       "    </tr>\n",
       "    <tr>\n",
       "      <th>reaserch_acceleration_reduce_value</th>\n",
       "      <td>0.100930</td>\n",
       "    </tr>\n",
       "    <tr>\n",
       "      <th>pvp_battle_count</th>\n",
       "      <td>0.098094</td>\n",
       "    </tr>\n",
       "    <tr>\n",
       "      <th>general_acceleration_add_value</th>\n",
       "      <td>0.095868</td>\n",
       "    </tr>\n",
       "    <tr>\n",
       "      <th>reaserch_acceleration_add_value</th>\n",
       "      <td>0.086511</td>\n",
       "    </tr>\n",
       "    <tr>\n",
       "      <th>magic_add_value</th>\n",
       "      <td>0.049668</td>\n",
       "    </tr>\n",
       "    <tr>\n",
       "      <th>avg_online_minutes</th>\n",
       "      <td>-0.015836</td>\n",
       "    </tr>\n",
       "    <tr>\n",
       "      <th>bd_hero_pve_level</th>\n",
       "      <td>-0.028230</td>\n",
       "    </tr>\n",
       "    <tr>\n",
       "      <th>pve_win_count</th>\n",
       "      <td>-0.030237</td>\n",
       "    </tr>\n",
       "    <tr>\n",
       "      <th>pve_lanch_count</th>\n",
       "      <td>-0.032957</td>\n",
       "    </tr>\n",
       "    <tr>\n",
       "      <th>pve_battle_count</th>\n",
       "      <td>-0.034437</td>\n",
       "    </tr>\n",
       "    <tr>\n",
       "      <th>sr_shaman_tier_2_level</th>\n",
       "      <td>-0.223283</td>\n",
       "    </tr>\n",
       "    <tr>\n",
       "      <th>bd_healing_lodge_level</th>\n",
       "      <td>-0.246816</td>\n",
       "    </tr>\n",
       "    <tr>\n",
       "      <th>bd_market_level</th>\n",
       "      <td>-0.350075</td>\n",
       "    </tr>\n",
       "    <tr>\n",
       "      <th>bd_guest_cavern_level</th>\n",
       "      <td>-0.356346</td>\n",
       "    </tr>\n",
       "    <tr>\n",
       "      <th>bd_training_hut_level</th>\n",
       "      <td>-0.357798</td>\n",
       "    </tr>\n",
       "    <tr>\n",
       "      <th>bd_outpost_portal_level</th>\n",
       "      <td>-0.361263</td>\n",
       "    </tr>\n",
       "    <tr>\n",
       "      <th>sr_cavalry_tier_2_level</th>\n",
       "      <td>-0.386909</td>\n",
       "    </tr>\n",
       "    <tr>\n",
       "      <th>bd_watchtower_level</th>\n",
       "      <td>-0.399521</td>\n",
       "    </tr>\n",
       "    <tr>\n",
       "      <th>sr_infantry_tier_2_level</th>\n",
       "      <td>-0.424297</td>\n",
       "    </tr>\n",
       "    <tr>\n",
       "      <th>bd_healing_spring_level</th>\n",
       "      <td>-0.443664</td>\n",
       "    </tr>\n",
       "    <tr>\n",
       "      <th>bd_dolmen_level</th>\n",
       "      <td>-0.460564</td>\n",
       "    </tr>\n",
       "    <tr>\n",
       "      <th>sr_training_speed_level</th>\n",
       "      <td>-0.497942</td>\n",
       "    </tr>\n",
       "    <tr>\n",
       "      <th>bd_barrack_level</th>\n",
       "      <td>-0.516124</td>\n",
       "    </tr>\n",
       "    <tr>\n",
       "      <th>bd_stronghold_level</th>\n",
       "      <td>-0.543057</td>\n",
       "    </tr>\n",
       "    <tr>\n",
       "      <th>bd_warehouse_level</th>\n",
       "      <td>-0.583353</td>\n",
       "    </tr>\n",
       "    <tr>\n",
       "      <th>bd_magic_coin_tree_level</th>\n",
       "      <td>-0.678569</td>\n",
       "    </tr>\n",
       "    <tr>\n",
       "      <th>sr_outpost_tier_2_level</th>\n",
       "      <td>-0.731500</td>\n",
       "    </tr>\n",
       "  </tbody>\n",
       "</table>\n",
       "<p>106 rows × 1 columns</p>\n",
       "</div>"
      ],
      "text/plain": [
       "                                          skew\n",
       "sr_rss_help_bonus_level              80.705226\n",
       "sr_guest_troop_capacity_level        80.705226\n",
       "sr_march_size_level                  52.917479\n",
       "sr_troop_attack_level                52.893436\n",
       "sr_outpost_tier_4_level              49.402686\n",
       "sr_cavalry_tier_4_level              36.059221\n",
       "sr_shaman_tier_4_level               32.029607\n",
       "sr_infantry_tier_4_level             28.487592\n",
       "sr_shaman_hp_level                   14.114951\n",
       "sr_shaman_def_level                  13.189898\n",
       "sr_infantry_hp_level                 12.909549\n",
       "sr_cavalry_hp_level                  12.634294\n",
       "sr_infantry_def_level                12.153610\n",
       "sr_cavalry_def_level                 12.056187\n",
       "sr_troop_defense_level               10.208373\n",
       "sr_alliance_march_speed_level         9.626088\n",
       "sr_shaman_tier_3_level                8.782454\n",
       "sr_infantry_tier_3_level              8.085048\n",
       "sr_cavalry_tier_3_level               8.070309\n",
       "sr_pvp_march_speed_level              7.781338\n",
       "sr_gathering_march_speed_level        7.660706\n",
       "sr_rss_c_gather_level                 7.413734\n",
       "sr_rss_c_prod_level                   6.336214\n",
       "sr_outpost_tier_3_level               4.103616\n",
       "sr_rss_b_gather_level                 4.081167\n",
       "sr_rss_e_gather_level                 3.775178\n",
       "sr_rss_b_prod_level                   3.515250\n",
       "sr_rss_e_prod_level                   2.217775\n",
       "treatment_acceleration_reduce_value   2.123521\n",
       "sr_rss_d_gather_level                 1.447355\n",
       "...                                        ...\n",
       "sr_scout_level                        0.106724\n",
       "building_acceleration_reduce_value    0.106130\n",
       "magic_reduce_value                    0.101948\n",
       "reaserch_acceleration_reduce_value    0.100930\n",
       "pvp_battle_count                      0.098094\n",
       "general_acceleration_add_value        0.095868\n",
       "reaserch_acceleration_add_value       0.086511\n",
       "magic_add_value                       0.049668\n",
       "avg_online_minutes                   -0.015836\n",
       "bd_hero_pve_level                    -0.028230\n",
       "pve_win_count                        -0.030237\n",
       "pve_lanch_count                      -0.032957\n",
       "pve_battle_count                     -0.034437\n",
       "sr_shaman_tier_2_level               -0.223283\n",
       "bd_healing_lodge_level               -0.246816\n",
       "bd_market_level                      -0.350075\n",
       "bd_guest_cavern_level                -0.356346\n",
       "bd_training_hut_level                -0.357798\n",
       "bd_outpost_portal_level              -0.361263\n",
       "sr_cavalry_tier_2_level              -0.386909\n",
       "bd_watchtower_level                  -0.399521\n",
       "sr_infantry_tier_2_level             -0.424297\n",
       "bd_healing_spring_level              -0.443664\n",
       "bd_dolmen_level                      -0.460564\n",
       "sr_training_speed_level              -0.497942\n",
       "bd_barrack_level                     -0.516124\n",
       "bd_stronghold_level                  -0.543057\n",
       "bd_warehouse_level                   -0.583353\n",
       "bd_magic_coin_tree_level             -0.678569\n",
       "sr_outpost_tier_2_level              -0.731500\n",
       "\n",
       "[106 rows x 1 columns]"
      ]
     },
     "execution_count": 103,
     "metadata": {},
     "output_type": "execute_result"
    }
   ],
   "source": [
    "high_skew2=skew_test_7pay[skew_test_7pay>0.5]\n",
    "high_skew2=high_skew2\n",
    "skew_index2=high_skew2.index\n",
    "\n",
    "for i in skew_index2:\n",
    "    test_7pay[i]=boxcox1p(test_7pay[i],boxcox_normmax(test_7pay[i]+1))\n",
    "skew_test_7pay2=test_7pay[numeric22].apply(lambda x:skew(x)).sort_values(ascending=False)\n",
    "skew2=pd.DataFrame({'skew':skew_test_7pay2})\n",
    "skew2"
   ]
  },
  {
   "cell_type": "code",
   "execution_count": 104,
   "metadata": {
    "ExecuteTime": {
     "end_time": "2018-09-21T01:17:39.832892Z",
     "start_time": "2018-09-21T01:17:39.828892Z"
    }
   },
   "outputs": [
    {
     "data": {
      "text/plain": [
       "(41439, 108)"
      ]
     },
     "execution_count": 104,
     "metadata": {},
     "output_type": "execute_result"
    }
   ],
   "source": [
    "train_7pay.shape"
   ]
  },
  {
   "cell_type": "code",
   "execution_count": 105,
   "metadata": {
    "ExecuteTime": {
     "end_time": "2018-09-21T01:17:39.983901Z",
     "start_time": "2018-09-21T01:17:39.833892Z"
    }
   },
   "outputs": [
    {
     "data": {
      "text/html": [
       "<div>\n",
       "<style scoped>\n",
       "    .dataframe tbody tr th:only-of-type {\n",
       "        vertical-align: middle;\n",
       "    }\n",
       "\n",
       "    .dataframe tbody tr th {\n",
       "        vertical-align: top;\n",
       "    }\n",
       "\n",
       "    .dataframe thead th {\n",
       "        text-align: right;\n",
       "    }\n",
       "</style>\n",
       "<table border=\"1\" class=\"dataframe\">\n",
       "  <thead>\n",
       "    <tr style=\"text-align: right;\">\n",
       "      <th></th>\n",
       "      <th>user_id</th>\n",
       "      <th>prediction_pay_price</th>\n",
       "    </tr>\n",
       "  </thead>\n",
       "  <tbody>\n",
       "    <tr>\n",
       "      <th>25</th>\n",
       "      <td>1617</td>\n",
       "      <td>0.99</td>\n",
       "    </tr>\n",
       "    <tr>\n",
       "      <th>40</th>\n",
       "      <td>1632</td>\n",
       "      <td>4.96</td>\n",
       "    </tr>\n",
       "    <tr>\n",
       "      <th>47</th>\n",
       "      <td>1639</td>\n",
       "      <td>12.97</td>\n",
       "    </tr>\n",
       "    <tr>\n",
       "      <th>86</th>\n",
       "      <td>1678</td>\n",
       "      <td>0.99</td>\n",
       "    </tr>\n",
       "    <tr>\n",
       "      <th>119</th>\n",
       "      <td>1711</td>\n",
       "      <td>0.99</td>\n",
       "    </tr>\n",
       "  </tbody>\n",
       "</table>\n",
       "</div>"
      ],
      "text/plain": [
       "     user_id  prediction_pay_price\n",
       "25      1617                  0.99\n",
       "40      1632                  4.96\n",
       "47      1639                 12.97\n",
       "86      1678                  0.99\n",
       "119     1711                  0.99"
      ]
     },
     "execution_count": 105,
     "metadata": {},
     "output_type": "execute_result"
    }
   ],
   "source": [
    "train_7pay[['user_id','prediction_pay_price']].head()"
   ]
  },
  {
   "cell_type": "code",
   "execution_count": 106,
   "metadata": {
    "ExecuteTime": {
     "end_time": "2018-09-21T01:17:40.055905Z",
     "start_time": "2018-09-21T01:17:39.985901Z"
    }
   },
   "outputs": [
    {
     "data": {
      "text/plain": [
       "25          1.691235\n",
       "40        141.593796\n",
       "47     429337.218750\n",
       "86          1.691235\n",
       "119         1.691235\n",
       "Name: prediction_pay_price, dtype: float32"
      ]
     },
     "execution_count": 106,
     "metadata": {},
     "output_type": "execute_result"
    }
   ],
   "source": [
    "np.expm1(train_7pay.prediction_pay_price.head())"
   ]
  },
  {
   "cell_type": "code",
   "execution_count": null,
   "metadata": {},
   "outputs": [],
   "source": []
  },
  {
   "cell_type": "code",
   "execution_count": null,
   "metadata": {},
   "outputs": [],
   "source": []
  },
  {
   "cell_type": "code",
   "execution_count": null,
   "metadata": {},
   "outputs": [],
   "source": []
  },
  {
   "cell_type": "code",
   "execution_count": 121,
   "metadata": {
    "ExecuteTime": {
     "end_time": "2018-09-21T02:16:45.529182Z",
     "start_time": "2018-09-21T02:16:38.061557Z"
    }
   },
   "outputs": [
    {
     "data": {
      "text/plain": [
       "0.12372256273109201"
      ]
     },
     "execution_count": 121,
     "metadata": {},
     "output_type": "execute_result"
    }
   ],
   "source": [
    "drop_col=[i for i in train_7pay.columns.values if 'prediction' in  i]\n",
    "drop_col.append('user_id')\n",
    "X=train_7pay.drop(labels=drop_col,axis=1)\n",
    "y=train_7pay.prediction_pay_price\n",
    "# X=train_7pay_X\n",
    "y=np.log1p(train_7pay_y)\n",
    "X.replace([np.inf,-np.inf],np.nan,inplace=True)\n",
    "X.fillna(0.0,inplace=True)\n",
    "from sklearn.model_selection import cross_val_score,KFold\n",
    "from sklearn.linear_model import LinearRegression,RidgeCV,LassoCV,ElasticNetCV\n",
    "from sklearn.preprocessing import RobustScaler\n",
    "from sklearn.pipeline import make_pipeline\n",
    "\n",
    "kfolds=KFold(n_splits=10,shuffle=False,random_state=13)\n",
    "\n",
    "\n",
    "def cv_rmse(model):\n",
    "    rmse=np.sqrt(-cross_val_score(model,X,y,scoring='neg_mean_squared_error',cv=kfolds))\n",
    "    return rmse\n",
    "\n",
    "lm = LinearRegression()\n",
    "\n",
    "benchmark_model=make_pipeline(RobustScaler(),\n",
    "                             lm).fit(X,y)\n",
    "\n",
    "cv_rmse(benchmark_model).mean()"
   ]
  },
  {
   "cell_type": "code",
   "execution_count": 122,
   "metadata": {
    "ExecuteTime": {
     "end_time": "2018-09-21T02:17:21.239773Z",
     "start_time": "2018-09-21T02:17:21.224173Z"
    }
   },
   "outputs": [],
   "source": []
  },
  {
   "cell_type": "code",
   "execution_count": null,
   "metadata": {},
   "outputs": [],
   "source": []
  },
  {
   "cell_type": "code",
   "execution_count": null,
   "metadata": {
    "ExecuteTime": {
     "end_time": "2018-09-20T09:23:27.162210Z",
     "start_time": "2018-09-20T09:23:27.145210Z"
    }
   },
   "outputs": [],
   "source": [
    "X.shape"
   ]
  },
  {
   "cell_type": "code",
   "execution_count": null,
   "metadata": {},
   "outputs": [],
   "source": []
  },
  {
   "cell_type": "code",
   "execution_count": 109,
   "metadata": {
    "ExecuteTime": {
     "end_time": "2018-09-21T01:23:59.027604Z",
     "start_time": "2018-09-21T01:23:58.937000Z"
    }
   },
   "outputs": [],
   "source": [
    "from sklearn.model_selection  import train_test_split\n",
    "\n",
    "X['user_id']=train_7pay_user_id\n",
    "\n",
    "X1,val_X1,y1,val_y1=train_test_split(X,y,test_size=0.2,random_state=17)\n",
    "X2=X1.drop(labels='user_id',axis=1)\n",
    "val_X2=val_X1.drop(labels='user_id',axis=1)\n",
    "X2_user_id=X1.user_id\n",
    "val_X2_user_id=val_X1.user_id\n",
    "\n",
    "X.drop(labels='user_id',axis=1,inplace=True)"
   ]
  },
  {
   "cell_type": "code",
   "execution_count": 110,
   "metadata": {
    "ExecuteTime": {
     "end_time": "2018-09-21T01:23:59.770237Z",
     "start_time": "2018-09-21T01:23:59.739037Z"
    }
   },
   "outputs": [],
   "source": [
    "def cv_rmse2(model):\n",
    "    rmse=np.sqrt(-cross_val_score(model,X2,y1,scoring='neg_mean_squared_error',cv=kfolds))\n",
    "    return rmse"
   ]
  },
  {
   "cell_type": "code",
   "execution_count": 111,
   "metadata": {
    "ExecuteTime": {
     "end_time": "2018-09-21T01:24:01.472278Z",
     "start_time": "2018-09-21T01:24:01.431077Z"
    }
   },
   "outputs": [],
   "source": [
    "# # drop_col=[i for i in train_7pay.columns.values if 'prediction' in  i]\n",
    "# X=train_7pay_X\n",
    "# y=np.log(train_7pay_y)\n",
    "\n",
    "# X.replace([np.inf,-np.inf],np.nan,inplace=True)\n",
    "# X.fillna(0.0,inplace=True)\n",
    "\n",
    "# from sklearn.model_selection  import train_test_split\n",
    "\n",
    "# X['user_id']=train_7pay_user_id\n",
    "\n",
    "# X1,val_X1,y1,val_y1=train_test_split(X,y,test_size=0.2,random_state=17)\n",
    "# X2=X1.drop(labels='user_id',axis=1)\n",
    "# val_X2=val_X1.drop(labels='user_id',axis=1)\n",
    "# X2_user_id=X1.user_id\n",
    "# val_X2_user_id=val_X1.user_id\n",
    "\n",
    "# val_X2_user_id.head()\n",
    "\n",
    "# X2.shape\n",
    "\n",
    "# X2_user_id.head()\n",
    "\n",
    "# kfolds2=KFold(n_splits=3,shuffle=True,random_state=29)\n",
    "\n",
    "\n",
    "\n",
    "# r_alphas = [.0001, .0003, .0005, .0007, .0009, \n",
    "#           .01, 0.05, 0.1, 0.3, 1, 3, 5, 10, 15, 20, 30, 50, 60, 70, 80]\n",
    "# ridge_model2=make_pipeline(RobustScaler(),\n",
    "#                          RidgeCV(alphas=r_alphas,cv=kfolds2)).fit(X2,y1)\n",
    "# cv_rmse2(ridge_model2).mean()\n",
    "\n",
    "# ridge_model2.steps[1][1].alpha_\n",
    "\n",
    "# r_pred=ridge_model2.predict(val_X2)\n",
    "\n",
    "# r_pred\n",
    "\n",
    "# from sklearn.metrics import mean_squared_error\n",
    "\n",
    "# np.sqrt(mean_squared_error(np.exp(val_y1),np.exp(r_pred)))"
   ]
  },
  {
   "cell_type": "code",
   "execution_count": null,
   "metadata": {},
   "outputs": [],
   "source": []
  },
  {
   "cell_type": "code",
   "execution_count": null,
   "metadata": {},
   "outputs": [],
   "source": []
  },
  {
   "cell_type": "code",
   "execution_count": 112,
   "metadata": {
    "ExecuteTime": {
     "end_time": "2018-09-21T01:24:03.263535Z",
     "start_time": "2018-09-21T01:24:03.238935Z"
    }
   },
   "outputs": [],
   "source": [
    "# np.exp(np.log(0.99))\n",
    "\n",
    "# np.sqrt(mean_squared_error(np.exp(val_y1),np.exp(r_pred)))\n",
    "\n",
    "# train_7pay.prediction_pay_price.head()\n",
    "\n",
    "# boxcox1p(0.99,pl)\n",
    "\n",
    "# val_y1.head()\n",
    "\n",
    "\n",
    "\n",
    "# anti_boxcox(2.358614,pl)\n",
    "\n",
    "# anti_boxcox(r_pred,pl)\n",
    "\n",
    "# anti_boxcox(val_y1,pl)\n",
    "\n",
    "# a=anti_boxcox(val_y1,pl)\n",
    "# b=anti_boxcox(r_pred,pl)\n",
    "\n",
    "# a.describe()\n",
    "\n",
    "# pd.Series(b).describe()\n",
    "\n",
    "\n",
    "\n",
    "\n",
    "\n",
    "# np.sqrt(mean_squared_error(a,b))\n",
    "\n",
    "\n",
    "\n",
    "# a.describe()\n",
    "\n",
    "# np.sqrt(mean_squared_error(anti_boxcox(val_y1,pl),anti_boxcox(r_pred,pl)))\n",
    "\n",
    "\n",
    "\n",
    "# r_result=pd.DataFrame(list(zip(np.exp(val_y1),np.exp(r_pred))),columns=['val_y1','pred_y1'])\n",
    "\n",
    "# r_result['user_id']=val_X2_user_id.values\n",
    "\n",
    "# r_result.head(10)\n",
    "\n",
    "# np.expm1(0.385)"
   ]
  },
  {
   "cell_type": "code",
   "execution_count": 113,
   "metadata": {
    "ExecuteTime": {
     "end_time": "2018-09-21T01:25:05.070164Z",
     "start_time": "2018-09-21T01:24:09.469786Z"
    }
   },
   "outputs": [],
   "source": [
    "# r_alpha=np.arange(10,21,1)\n",
    "# r_alphas = [.0001, .0003, .0005, .0007, .0009, \n",
    "#           .01, 0.05, 0.1, 0.3, 1, 3, 5, 10, 15, 20, 30, 50, 60, 70, 80]\n",
    "r_alphas = [ 50000,100000,500000,1000000]\n",
    "def ridge_selector(k):\n",
    "    ridge_model=make_pipeline(RobustScaler(),\n",
    "                             RidgeCV(alphas=[k],cv=kfolds)).fit(X2,y1)\n",
    "    return cv_rmse2(ridge_model).mean()\n",
    "\n",
    "r_score=[]\n",
    "for i in r_alphas:\n",
    "    score=ridge_selector(i)\n",
    "    r_score.append(score)    "
   ]
  },
  {
   "cell_type": "code",
   "execution_count": 114,
   "metadata": {
    "ExecuteTime": {
     "end_time": "2018-09-21T01:25:06.505798Z",
     "start_time": "2018-09-21T01:25:06.490198Z"
    }
   },
   "outputs": [],
   "source": [
    "r_score_df=pd.DataFrame(list(zip(r_alphas,r_score)),columns=['Alpha','RMSE'])"
   ]
  },
  {
   "cell_type": "code",
   "execution_count": 115,
   "metadata": {
    "ExecuteTime": {
     "end_time": "2018-09-21T01:25:07.256837Z",
     "start_time": "2018-09-21T01:25:07.220636Z"
    }
   },
   "outputs": [
    {
     "data": {
      "text/html": [
       "<div>\n",
       "<style scoped>\n",
       "    .dataframe tbody tr th:only-of-type {\n",
       "        vertical-align: middle;\n",
       "    }\n",
       "\n",
       "    .dataframe tbody tr th {\n",
       "        vertical-align: top;\n",
       "    }\n",
       "\n",
       "    .dataframe thead th {\n",
       "        text-align: right;\n",
       "    }\n",
       "</style>\n",
       "<table border=\"1\" class=\"dataframe\">\n",
       "  <thead>\n",
       "    <tr style=\"text-align: right;\">\n",
       "      <th></th>\n",
       "      <th>Alpha</th>\n",
       "      <th>RMSE</th>\n",
       "    </tr>\n",
       "  </thead>\n",
       "  <tbody>\n",
       "    <tr>\n",
       "      <th>0</th>\n",
       "      <td>50000</td>\n",
       "      <td>503.492665</td>\n",
       "    </tr>\n",
       "    <tr>\n",
       "      <th>1</th>\n",
       "      <td>100000</td>\n",
       "      <td>508.574640</td>\n",
       "    </tr>\n",
       "    <tr>\n",
       "      <th>2</th>\n",
       "      <td>500000</td>\n",
       "      <td>522.626446</td>\n",
       "    </tr>\n",
       "    <tr>\n",
       "      <th>3</th>\n",
       "      <td>1000000</td>\n",
       "      <td>532.061644</td>\n",
       "    </tr>\n",
       "  </tbody>\n",
       "</table>\n",
       "</div>"
      ],
      "text/plain": [
       "     Alpha        RMSE\n",
       "0    50000  503.492665\n",
       "1   100000  508.574640\n",
       "2   500000  522.626446\n",
       "3  1000000  532.061644"
      ]
     },
     "execution_count": 115,
     "metadata": {},
     "output_type": "execute_result"
    }
   ],
   "source": [
    "r_score_df.sort_values(by='RMSE')"
   ]
  },
  {
   "cell_type": "code",
   "execution_count": 116,
   "metadata": {
    "ExecuteTime": {
     "end_time": "2018-09-21T01:30:25.556642Z",
     "start_time": "2018-09-21T01:25:29.942135Z"
    }
   },
   "outputs": [
    {
     "data": {
      "text/plain": [
       "500.06168202803576"
      ]
     },
     "execution_count": 116,
     "metadata": {},
     "output_type": "execute_result"
    }
   ],
   "source": [
    "r_alpha2=pd.Series(np.arange(14,16,0.1)).apply(lambda x:round(x,2))\n",
    "\n",
    "ridge_model=make_pipeline(RobustScaler(),\n",
    "                         RidgeCV(alphas=r_alpha2.tolist(),cv=kfolds)).fit(X,y)\n",
    "cv_rmse(ridge_model).mean()"
   ]
  },
  {
   "cell_type": "code",
   "execution_count": 118,
   "metadata": {
    "ExecuteTime": {
     "end_time": "2018-09-21T02:05:40.468134Z",
     "start_time": "2018-09-21T02:05:40.452534Z"
    }
   },
   "outputs": [
    {
     "data": {
      "text/plain": [
       "15.9"
      ]
     },
     "execution_count": 118,
     "metadata": {},
     "output_type": "execute_result"
    }
   ],
   "source": [
    "ridge_model.steps[1][1].alpha_"
   ]
  },
  {
   "cell_type": "code",
   "execution_count": null,
   "metadata": {
    "ExecuteTime": {
     "end_time": "2018-09-20T09:53:59.985009Z",
     "start_time": "2018-09-20T09:53:38.942206Z"
    }
   },
   "outputs": [],
   "source": [
    "# l_alpha=[0.01,0.1,0.5,1,5,10,15,20,30,50]\n",
    "# l_alpha2=pd.Series(np.arange(0.001,0.02,0.002)).apply(lambda x:round(x,3))\n",
    "l_alpha2 = [0.00001,0.00002,0.00003,0.00004,0.00005, 0.0001, 0.0002, 0.0003, 0.0004, 0.0005,\n",
    "           0.0006, 0.0007, 0.0008]\n",
    "\n",
    "lasso_model=make_pipeline(RobustScaler(),\n",
    "                         LassoCV(alphas=[0.0008],max_iter=1e5,cv=kfolds)).fit(X,y)\n",
    "cv_rmse(lasso_model).mean()"
   ]
  },
  {
   "cell_type": "code",
   "execution_count": 117,
   "metadata": {
    "ExecuteTime": {
     "end_time": "2018-09-21T02:05:34.656837Z",
     "start_time": "2018-09-21T02:05:34.193211Z"
    }
   },
   "outputs": [
    {
     "ename": "NameError",
     "evalue": "name 'lasso_model' is not defined",
     "output_type": "error",
     "traceback": [
      "\u001b[1;31m---------------------------------------------------------------------------\u001b[0m",
      "\u001b[1;31mNameError\u001b[0m                                 Traceback (most recent call last)",
      "\u001b[1;32m<ipython-input-117-30646823df47>\u001b[0m in \u001b[0;36m<module>\u001b[1;34m()\u001b[0m\n\u001b[1;32m----> 1\u001b[1;33m \u001b[0mlasso_model\u001b[0m\u001b[1;33m.\u001b[0m\u001b[0msteps\u001b[0m\u001b[1;33m[\u001b[0m\u001b[1;36m1\u001b[0m\u001b[1;33m]\u001b[0m\u001b[1;33m[\u001b[0m\u001b[1;36m1\u001b[0m\u001b[1;33m]\u001b[0m\u001b[1;33m.\u001b[0m\u001b[0malpha_\u001b[0m\u001b[1;33m\u001b[0m\u001b[0m\n\u001b[0m",
      "\u001b[1;31mNameError\u001b[0m: name 'lasso_model' is not defined"
     ]
    }
   ],
   "source": [
    "lasso_model.steps[1][1].alpha_"
   ]
  },
  {
   "cell_type": "code",
   "execution_count": null,
   "metadata": {
    "ExecuteTime": {
     "end_time": "2018-09-20T09:51:37.559769Z",
     "start_time": "2018-09-20T09:51:37.544169Z"
    }
   },
   "outputs": [],
   "source": [
    "X2.shape"
   ]
  },
  {
   "cell_type": "code",
   "execution_count": null,
   "metadata": {
    "ExecuteTime": {
     "end_time": "2018-09-20T09:51:44.175125Z",
     "start_time": "2018-09-20T09:51:44.159525Z"
    }
   },
   "outputs": [],
   "source": [
    "X.shape"
   ]
  },
  {
   "cell_type": "code",
   "execution_count": null,
   "metadata": {
    "ExecuteTime": {
     "end_time": "2018-09-20T09:56:07.392437Z",
     "start_time": "2018-09-20T09:56:07.361237Z"
    }
   },
   "outputs": [],
   "source": [
    "l_pred=lasso_model.predict(val_X2)"
   ]
  },
  {
   "cell_type": "code",
   "execution_count": null,
   "metadata": {
    "ExecuteTime": {
     "end_time": "2018-09-20T09:56:08.200272Z",
     "start_time": "2018-09-20T09:56:08.184672Z"
    }
   },
   "outputs": [],
   "source": [
    "from sklearn.metrics import mean_squared_error"
   ]
  },
  {
   "cell_type": "code",
   "execution_count": null,
   "metadata": {
    "ExecuteTime": {
     "end_time": "2018-09-20T09:56:17.824037Z",
     "start_time": "2018-09-20T09:56:17.806437Z"
    }
   },
   "outputs": [],
   "source": [
    "np.sqrt(mean_squared_error(np.expm1(val_y1),np.expm1(l_pred)))"
   ]
  },
  {
   "cell_type": "code",
   "execution_count": null,
   "metadata": {
    "ExecuteTime": {
     "end_time": "2018-09-20T10:00:08.742584Z",
     "start_time": "2018-09-20T10:00:08.726984Z"
    }
   },
   "outputs": [],
   "source": [
    "l_result=pd.DataFrame(list(zip(np.expm1(val_y1),np.expm1(l_pred))),columns=['val_y1','pred_y1'])"
   ]
  },
  {
   "cell_type": "code",
   "execution_count": null,
   "metadata": {
    "ExecuteTime": {
     "end_time": "2018-09-20T10:00:10.038020Z",
     "start_time": "2018-09-20T10:00:10.022420Z"
    }
   },
   "outputs": [],
   "source": [
    "l_result['user_id']=val_X2_user_id.values"
   ]
  },
  {
   "cell_type": "code",
   "execution_count": null,
   "metadata": {
    "ExecuteTime": {
     "end_time": "2018-09-20T10:00:10.559649Z",
     "start_time": "2018-09-20T10:00:10.554649Z"
    }
   },
   "outputs": [],
   "source": [
    "val_X2_user_id.head()"
   ]
  },
  {
   "cell_type": "code",
   "execution_count": null,
   "metadata": {
    "ExecuteTime": {
     "end_time": "2018-09-20T10:00:11.289682Z",
     "start_time": "2018-09-20T10:00:11.274082Z"
    }
   },
   "outputs": [],
   "source": [
    "l_result.head()"
   ]
  },
  {
   "cell_type": "code",
   "execution_count": null,
   "metadata": {
    "ExecuteTime": {
     "end_time": "2018-09-13T08:11:11.405680Z",
     "start_time": "2018-09-13T08:11:11.365678Z"
    }
   },
   "outputs": [],
   "source": [
    "la_coef=pd.DataFrame(list(zip(X.columns,lasso_model.steps[1][1].coef_)),columns=['predictors','coef'])\n",
    "la_coef.sort_values(by='coef',ascending=False)"
   ]
  },
  {
   "cell_type": "code",
   "execution_count": null,
   "metadata": {
    "ExecuteTime": {
     "end_time": "2018-09-13T08:12:08.824964Z",
     "start_time": "2018-09-13T08:12:08.813964Z"
    }
   },
   "outputs": [],
   "source": [
    "la_coef[la_coef.coef == 0].shape"
   ]
  },
  {
   "cell_type": "code",
   "execution_count": null,
   "metadata": {
    "ExecuteTime": {
     "end_time": "2018-09-13T08:29:39.214043Z",
     "start_time": "2018-09-13T08:29:39.197042Z"
    }
   },
   "outputs": [],
   "source": [
    "used_la_coef=la_coef[la_coef.coef !=0]['predictors']\n",
    "used_la_coef.shape"
   ]
  },
  {
   "cell_type": "code",
   "execution_count": null,
   "metadata": {
    "ExecuteTime": {
     "end_time": "2018-09-13T08:33:35.894580Z",
     "start_time": "2018-09-13T08:33:35.848578Z"
    }
   },
   "outputs": [],
   "source": [
    "X[used_la_coef].shape"
   ]
  },
  {
   "cell_type": "code",
   "execution_count": null,
   "metadata": {
    "ExecuteTime": {
     "end_time": "2018-09-13T08:33:54.249630Z",
     "start_time": "2018-09-13T08:33:54.213628Z"
    }
   },
   "outputs": [],
   "source": [
    "X2=X[used_la_coef]"
   ]
  },
  {
   "cell_type": "code",
   "execution_count": null,
   "metadata": {
    "ExecuteTime": {
     "end_time": "2018-09-13T08:42:27.856007Z",
     "start_time": "2018-09-13T08:42:27.845006Z"
    }
   },
   "outputs": [],
   "source": [
    "def cv_rmse2(model):\n",
    "    rmse=np.sqrt(-cross_val_score(model,X2,y,scoring='neg_mean_squared_error',cv=kfolds))\n",
    "    return rmse"
   ]
  },
  {
   "cell_type": "code",
   "execution_count": null,
   "metadata": {
    "ExecuteTime": {
     "end_time": "2018-09-13T09:05:45.616954Z",
     "start_time": "2018-09-13T09:01:27.889213Z"
    }
   },
   "outputs": [],
   "source": [
    "r_alpha2=pd.Series(np.arange(10,12,0.1)).apply(lambda x:round(x,1))\n",
    "# r_alpha=np.arange(1,15,1)\n",
    "ridge_model=make_pipeline(RobustScaler(),\n",
    "                         RidgeCV(alphas=r_alpha2.tolist(),cv=kfolds)).fit(X2,y)\n",
    "cv_rmse2(ridge_model).mean()"
   ]
  },
  {
   "cell_type": "code",
   "execution_count": null,
   "metadata": {
    "ExecuteTime": {
     "end_time": "2018-09-13T09:22:45.110266Z",
     "start_time": "2018-09-13T09:22:45.097265Z"
    }
   },
   "outputs": [],
   "source": [
    "ridge_model.steps[1][1].alpha_"
   ]
  },
  {
   "cell_type": "code",
   "execution_count": null,
   "metadata": {
    "ExecuteTime": {
     "end_time": "2018-09-13T09:25:17.973009Z",
     "start_time": "2018-09-13T09:24:33.857486Z"
    }
   },
   "outputs": [],
   "source": [
    "l_alpha2 = [0.00001,0.00002,0.00003,0.00004,0.00005, 0.0001, 0.0002, 0.0003, 0.0004, 0.0005,\n",
    "           0.0006, 0.0007, 0.0008]\n",
    "\n",
    "lasso_model=make_pipeline(RobustScaler(),\n",
    "                         LassoCV(alphas=l_alpha2,max_iter=1e5,cv=kfolds)).fit(X2,y)\n",
    "cv_rmse2(lasso_model).mean()"
   ]
  },
  {
   "cell_type": "code",
   "execution_count": null,
   "metadata": {
    "ExecuteTime": {
     "end_time": "2018-09-13T09:28:03.359469Z",
     "start_time": "2018-09-13T09:28:03.347468Z"
    }
   },
   "outputs": [],
   "source": [
    "lasso_model.steps[1][1].alpha_"
   ]
  },
  {
   "cell_type": "code",
   "execution_count": null,
   "metadata": {
    "ExecuteTime": {
     "end_time": "2018-09-13T09:46:36.166118Z",
     "start_time": "2018-09-13T09:43:00.344773Z"
    }
   },
   "outputs": [],
   "source": [
    "from sklearn.linear_model import ElasticNetCV\n",
    "\n",
    "e_alphas = [0.00001,0.00005,0.0001, 0.0002, 0.0003, 0.0004, 0.0005, 0.0006, 0.0007]\n",
    "e_l1ratio = [0.1,0.2,0.3,0.4,0.5,0.6,0.7,0.8, 0.85, 0.9, 0.95, 0.99, 1]\n",
    "\n",
    "elastic_cv=make_pipeline(RobustScaler(),\n",
    "                        ElasticNetCV(max_iter=1e5,alphas=e_alphas,l1_ratio=e_l1ratio,cv=kfolds)).fit(X2,y)\n",
    "cv_rmse2(elastic_cv).mean()"
   ]
  },
  {
   "cell_type": "code",
   "execution_count": null,
   "metadata": {
    "ExecuteTime": {
     "end_time": "2018-09-13T09:46:36.171118Z",
     "start_time": "2018-09-13T09:46:36.167118Z"
    }
   },
   "outputs": [],
   "source": [
    "elastic_cv.steps[1][1].alpha_"
   ]
  },
  {
   "cell_type": "code",
   "execution_count": null,
   "metadata": {
    "ExecuteTime": {
     "end_time": "2018-09-13T09:42:30.265053Z",
     "start_time": "2018-09-13T09:42:30.256052Z"
    }
   },
   "outputs": [],
   "source": [
    "elastic_cv.steps[1][1].l1_ratio_"
   ]
  },
  {
   "cell_type": "code",
   "execution_count": null,
   "metadata": {
    "ExecuteTime": {
     "end_time": "2018-09-13T09:48:47.473628Z",
     "start_time": "2018-09-13T09:48:47.146609Z"
    }
   },
   "outputs": [],
   "source": [
    "from lightgbm import LGBMRegressor\n",
    "\n",
    "lgbm_model = LGBMRegressor(objective='regression',num_leaves=5,\n",
    "                              learning_rate=0.05, n_estimators=720,\n",
    "                              max_bin = 55, bagging_fraction = 0.8,\n",
    "                              bagging_freq = 5, feature_fraction = 0.2319,\n",
    "                              feature_fraction_seed=9, bagging_seed=9,\n",
    "                              min_data_in_leaf =6, min_sum_hessian_in_leaf = 11)"
   ]
  },
  {
   "cell_type": "code",
   "execution_count": null,
   "metadata": {
    "ExecuteTime": {
     "end_time": "2018-09-13T09:48:59.232301Z",
     "start_time": "2018-09-13T09:48:48.529688Z"
    }
   },
   "outputs": [],
   "source": [
    "cv_rmse(lgbm_model).mean()"
   ]
  },
  {
   "cell_type": "code",
   "execution_count": null,
   "metadata": {
    "ExecuteTime": {
     "end_time": "2018-09-13T09:49:46.393998Z",
     "start_time": "2018-09-13T09:49:34.587323Z"
    }
   },
   "outputs": [],
   "source": [
    "cv_rmse2(lgbm_model).mean()"
   ]
  },
  {
   "cell_type": "code",
   "execution_count": null,
   "metadata": {
    "ExecuteTime": {
     "end_time": "2018-09-13T09:51:06.116558Z",
     "start_time": "2018-09-13T09:51:06.108557Z"
    }
   },
   "outputs": [],
   "source": [
    "np.expm1(0.381)"
   ]
  },
  {
   "cell_type": "code",
   "execution_count": null,
   "metadata": {
    "ExecuteTime": {
     "end_time": "2018-09-13T14:13:47.856078Z",
     "start_time": "2018-09-13T14:13:47.198040Z"
    }
   },
   "outputs": [],
   "source": [
    "import xgboost as xgb\n",
    "from xgboost import XGBRegressor\n",
    "xgb3 = XGBRegressor(learning_rate =0.01, n_estimators=3460, max_depth=3,\n",
    "                     min_child_weight=0 ,gamma=0, subsample=0.7,\n",
    "                     colsample_bytree=0.7,objective= 'reg:linear',\n",
    "                     nthread=4,scale_pos_weight=1,seed=27, reg_alpha=0.00006)\n",
    "\n"
   ]
  },
  {
   "cell_type": "code",
   "execution_count": null,
   "metadata": {
    "ExecuteTime": {
     "end_time": "2018-09-13T15:20:47.053963Z",
     "start_time": "2018-09-13T15:03:58.505277Z"
    }
   },
   "outputs": [],
   "source": [
    "cv_rmse(xgb3).mean()"
   ]
  },
  {
   "cell_type": "code",
   "execution_count": null,
   "metadata": {
    "ExecuteTime": {
     "end_time": "2018-09-13T14:53:25.745085Z",
     "start_time": "2018-09-13T14:39:02.021683Z"
    }
   },
   "outputs": [],
   "source": [
    "cv_rmse2(xgb3).mean()"
   ]
  },
  {
   "cell_type": "code",
   "execution_count": null,
   "metadata": {
    "ExecuteTime": {
     "start_time": "2018-09-14T01:04:18.752Z"
    }
   },
   "outputs": [],
   "source": [
    "xgb_fit=xgb3.fit(X,y)"
   ]
  },
  {
   "cell_type": "code",
   "execution_count": null,
   "metadata": {},
   "outputs": [],
   "source": []
  }
 ],
 "metadata": {
  "kernelspec": {
   "display_name": "Python 3",
   "language": "python",
   "name": "python3"
  },
  "language_info": {
   "codemirror_mode": {
    "name": "ipython",
    "version": 3
   },
   "file_extension": ".py",
   "mimetype": "text/x-python",
   "name": "python",
   "nbconvert_exporter": "python",
   "pygments_lexer": "ipython3",
   "version": "3.6.3"
  }
 },
 "nbformat": 4,
 "nbformat_minor": 2
}
