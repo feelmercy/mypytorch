{
 "cells": [
  {
   "cell_type": "code",
   "execution_count": 2,
   "metadata": {
    "ExecuteTime": {
     "end_time": "2018-10-11T02:44:32.963296Z",
     "start_time": "2018-10-11T02:44:29.028071Z"
    }
   },
   "outputs": [],
   "source": [
    "import numpy as np\n",
    "import pandas as pd\n",
    "from matplotlib import pyplot as plt\n",
    "import seaborn as sns\n",
    "from scipy.stats import norm ,skew,kurtosis\n",
    "from sklearn.preprocessing import StandardScaler\n",
    "from sklearn.metrics import make_scorer,mean_squared_error\n"
   ]
  },
  {
   "cell_type": "code",
   "execution_count": 3,
   "metadata": {
    "ExecuteTime": {
     "end_time": "2018-10-11T02:44:54.571532Z",
     "start_time": "2018-10-11T02:44:32.965297Z"
    }
   },
   "outputs": [],
   "source": [
    "df_train=pd.read_csv('F:\\\\study\\\\ml\\\\DataSet\\\\Tap4fun\\\\tap_fun_train.csv')"
   ]
  },
  {
   "cell_type": "code",
   "execution_count": 4,
   "metadata": {
    "ExecuteTime": {
     "end_time": "2018-10-11T02:44:54.796545Z",
     "start_time": "2018-10-11T02:44:54.572532Z"
    }
   },
   "outputs": [
    {
     "name": "stdout",
     "output_type": "stream",
     "text": [
      "<class 'pandas.core.frame.DataFrame'>\n",
      "RangeIndex: 2288007 entries, 0 to 2288006\n",
      "Columns: 109 entries, user_id to prediction_pay_price\n",
      "dtypes: float64(13), int64(95), object(1)\n",
      "memory usage: 2.0 GB\n"
     ]
    }
   ],
   "source": [
    "df_train.info(memory_usage='deep')"
   ]
  },
  {
   "cell_type": "code",
   "execution_count": 5,
   "metadata": {
    "ExecuteTime": {
     "end_time": "2018-10-11T02:45:06.467213Z",
     "start_time": "2018-10-11T02:44:54.797545Z"
    }
   },
   "outputs": [],
   "source": [
    "c_int=df_train.select_dtypes(include=['int64']).apply(pd.to_numeric,downcast='unsigned')\n",
    "c_float=df_train.select_dtypes(include=['float']).apply(pd.to_numeric,downcast='float')"
   ]
  },
  {
   "cell_type": "code",
   "execution_count": 7,
   "metadata": {
    "ExecuteTime": {
     "end_time": "2018-10-11T02:46:51.316210Z",
     "start_time": "2018-10-11T02:46:50.750177Z"
    }
   },
   "outputs": [],
   "source": [
    "o_df=pd.concat([c_int,c_float],axis=1)\n",
    "column_type=dict(o_df.dtypes.copy())\n",
    "del o_df,c_int,c_float,df_train"
   ]
  },
  {
   "cell_type": "code",
   "execution_count": 8,
   "metadata": {
    "ExecuteTime": {
     "end_time": "2018-10-11T02:47:28.873358Z",
     "start_time": "2018-10-11T02:47:01.983820Z"
    }
   },
   "outputs": [],
   "source": [
    "data_train=pd.read_csv('F:\\\\study\\\\ml\\\\DataSet\\\\Tap4fun\\\\tap_fun_train.csv',\n",
    "                      dtype=column_type,parse_dates=['register_time'],infer_datetime_format=True)\n",
    "\n",
    "data_test=pd.read_csv('F:\\\\study\\\\ml\\\\DataSet\\\\Tap4fun\\\\tap_fun_test.csv',\n",
    "                      dtype=column_type,parse_dates=['register_time'],infer_datetime_format=True)"
   ]
  },
  {
   "cell_type": "code",
   "execution_count": null,
   "metadata": {},
   "outputs": [],
   "source": [
    "data_train.rename(columns={'treatment_acceleraion_add_value':'treatment_acceleration_add_value',\\\n",
    "                          'sr_rss_a_prod_levell':'sr_rss_a_prod_level'} ,inplace=True)\n",
    "\n",
    "data_test.rename(columns={'treatment_acceleraion_add_value':'treatment_acceleration_add_value',\\\n",
    "                          'sr_rss_a_prod_levell':'sr_rss_a_prod_level'} ,inplace=True)"
   ]
  },
  {
   "cell_type": "code",
   "execution_count": 9,
   "metadata": {
    "ExecuteTime": {
     "end_time": "2018-10-11T02:47:54.395818Z",
     "start_time": "2018-10-11T02:47:54.381817Z"
    }
   },
   "outputs": [
    {
     "data": {
      "text/plain": [
       "(2288007, 109)"
      ]
     },
     "execution_count": 9,
     "metadata": {},
     "output_type": "execute_result"
    }
   ],
   "source": [
    "data_train.shape"
   ]
  },
  {
   "cell_type": "code",
   "execution_count": 10,
   "metadata": {
    "ExecuteTime": {
     "end_time": "2018-10-11T02:51:26.134928Z",
     "start_time": "2018-10-11T02:51:25.982920Z"
    }
   },
   "outputs": [
    {
     "data": {
      "text/html": [
       "<div>\n",
       "<style scoped>\n",
       "    .dataframe tbody tr th:only-of-type {\n",
       "        vertical-align: middle;\n",
       "    }\n",
       "\n",
       "    .dataframe tbody tr th {\n",
       "        vertical-align: top;\n",
       "    }\n",
       "\n",
       "    .dataframe thead th {\n",
       "        text-align: right;\n",
       "    }\n",
       "</style>\n",
       "<table border=\"1\" class=\"dataframe\">\n",
       "  <thead>\n",
       "    <tr style=\"text-align: right;\">\n",
       "      <th></th>\n",
       "      <th>user_id</th>\n",
       "      <th>register_time</th>\n",
       "      <th>wood_add_value</th>\n",
       "      <th>wood_reduce_value</th>\n",
       "      <th>stone_add_value</th>\n",
       "      <th>stone_reduce_value</th>\n",
       "      <th>ivory_add_value</th>\n",
       "      <th>ivory_reduce_value</th>\n",
       "      <th>meat_add_value</th>\n",
       "      <th>meat_reduce_value</th>\n",
       "      <th>...</th>\n",
       "      <th>pvp_battle_count</th>\n",
       "      <th>pvp_lanch_count</th>\n",
       "      <th>pvp_win_count</th>\n",
       "      <th>pve_battle_count</th>\n",
       "      <th>pve_lanch_count</th>\n",
       "      <th>pve_win_count</th>\n",
       "      <th>avg_online_minutes</th>\n",
       "      <th>pay_price</th>\n",
       "      <th>pay_count</th>\n",
       "      <th>prediction_pay_price</th>\n",
       "    </tr>\n",
       "  </thead>\n",
       "  <tbody>\n",
       "    <tr>\n",
       "      <th>0</th>\n",
       "      <td>1</td>\n",
       "      <td>2018-02-02 19:47:15</td>\n",
       "      <td>20125.0</td>\n",
       "      <td>3700.0</td>\n",
       "      <td>0.0</td>\n",
       "      <td>0.0</td>\n",
       "      <td>0.0</td>\n",
       "      <td>0.0</td>\n",
       "      <td>16375.0</td>\n",
       "      <td>2000.0</td>\n",
       "      <td>...</td>\n",
       "      <td>0</td>\n",
       "      <td>0</td>\n",
       "      <td>0</td>\n",
       "      <td>0</td>\n",
       "      <td>0</td>\n",
       "      <td>0</td>\n",
       "      <td>0.333333</td>\n",
       "      <td>0.0</td>\n",
       "      <td>0</td>\n",
       "      <td>0.0</td>\n",
       "    </tr>\n",
       "    <tr>\n",
       "      <th>1</th>\n",
       "      <td>1593</td>\n",
       "      <td>2018-01-26 00:01:05</td>\n",
       "      <td>0.0</td>\n",
       "      <td>0.0</td>\n",
       "      <td>0.0</td>\n",
       "      <td>0.0</td>\n",
       "      <td>0.0</td>\n",
       "      <td>0.0</td>\n",
       "      <td>0.0</td>\n",
       "      <td>0.0</td>\n",
       "      <td>...</td>\n",
       "      <td>0</td>\n",
       "      <td>0</td>\n",
       "      <td>0</td>\n",
       "      <td>0</td>\n",
       "      <td>0</td>\n",
       "      <td>0</td>\n",
       "      <td>0.333333</td>\n",
       "      <td>0.0</td>\n",
       "      <td>0</td>\n",
       "      <td>0.0</td>\n",
       "    </tr>\n",
       "    <tr>\n",
       "      <th>2</th>\n",
       "      <td>1594</td>\n",
       "      <td>2018-01-26 00:01:58</td>\n",
       "      <td>0.0</td>\n",
       "      <td>0.0</td>\n",
       "      <td>0.0</td>\n",
       "      <td>0.0</td>\n",
       "      <td>0.0</td>\n",
       "      <td>0.0</td>\n",
       "      <td>0.0</td>\n",
       "      <td>0.0</td>\n",
       "      <td>...</td>\n",
       "      <td>0</td>\n",
       "      <td>0</td>\n",
       "      <td>0</td>\n",
       "      <td>0</td>\n",
       "      <td>0</td>\n",
       "      <td>0</td>\n",
       "      <td>1.166667</td>\n",
       "      <td>0.0</td>\n",
       "      <td>0</td>\n",
       "      <td>0.0</td>\n",
       "    </tr>\n",
       "    <tr>\n",
       "      <th>3</th>\n",
       "      <td>1595</td>\n",
       "      <td>2018-01-26 00:02:13</td>\n",
       "      <td>0.0</td>\n",
       "      <td>0.0</td>\n",
       "      <td>0.0</td>\n",
       "      <td>0.0</td>\n",
       "      <td>0.0</td>\n",
       "      <td>0.0</td>\n",
       "      <td>0.0</td>\n",
       "      <td>0.0</td>\n",
       "      <td>...</td>\n",
       "      <td>0</td>\n",
       "      <td>0</td>\n",
       "      <td>0</td>\n",
       "      <td>0</td>\n",
       "      <td>0</td>\n",
       "      <td>0</td>\n",
       "      <td>3.166667</td>\n",
       "      <td>0.0</td>\n",
       "      <td>0</td>\n",
       "      <td>0.0</td>\n",
       "    </tr>\n",
       "    <tr>\n",
       "      <th>4</th>\n",
       "      <td>1596</td>\n",
       "      <td>2018-01-26 00:02:46</td>\n",
       "      <td>0.0</td>\n",
       "      <td>0.0</td>\n",
       "      <td>0.0</td>\n",
       "      <td>0.0</td>\n",
       "      <td>0.0</td>\n",
       "      <td>0.0</td>\n",
       "      <td>0.0</td>\n",
       "      <td>0.0</td>\n",
       "      <td>...</td>\n",
       "      <td>0</td>\n",
       "      <td>0</td>\n",
       "      <td>0</td>\n",
       "      <td>0</td>\n",
       "      <td>0</td>\n",
       "      <td>0</td>\n",
       "      <td>2.333333</td>\n",
       "      <td>0.0</td>\n",
       "      <td>0</td>\n",
       "      <td>0.0</td>\n",
       "    </tr>\n",
       "  </tbody>\n",
       "</table>\n",
       "<p>5 rows × 109 columns</p>\n",
       "</div>"
      ],
      "text/plain": [
       "   user_id       register_time  wood_add_value  wood_reduce_value  \\\n",
       "0        1 2018-02-02 19:47:15         20125.0             3700.0   \n",
       "1     1593 2018-01-26 00:01:05             0.0                0.0   \n",
       "2     1594 2018-01-26 00:01:58             0.0                0.0   \n",
       "3     1595 2018-01-26 00:02:13             0.0                0.0   \n",
       "4     1596 2018-01-26 00:02:46             0.0                0.0   \n",
       "\n",
       "   stone_add_value  stone_reduce_value  ivory_add_value  ivory_reduce_value  \\\n",
       "0              0.0                 0.0              0.0                 0.0   \n",
       "1              0.0                 0.0              0.0                 0.0   \n",
       "2              0.0                 0.0              0.0                 0.0   \n",
       "3              0.0                 0.0              0.0                 0.0   \n",
       "4              0.0                 0.0              0.0                 0.0   \n",
       "\n",
       "   meat_add_value  meat_reduce_value          ...           pvp_battle_count  \\\n",
       "0         16375.0             2000.0          ...                          0   \n",
       "1             0.0                0.0          ...                          0   \n",
       "2             0.0                0.0          ...                          0   \n",
       "3             0.0                0.0          ...                          0   \n",
       "4             0.0                0.0          ...                          0   \n",
       "\n",
       "   pvp_lanch_count  pvp_win_count  pve_battle_count  pve_lanch_count  \\\n",
       "0                0              0                 0                0   \n",
       "1                0              0                 0                0   \n",
       "2                0              0                 0                0   \n",
       "3                0              0                 0                0   \n",
       "4                0              0                 0                0   \n",
       "\n",
       "   pve_win_count  avg_online_minutes  pay_price  pay_count  \\\n",
       "0              0            0.333333        0.0          0   \n",
       "1              0            0.333333        0.0          0   \n",
       "2              0            1.166667        0.0          0   \n",
       "3              0            3.166667        0.0          0   \n",
       "4              0            2.333333        0.0          0   \n",
       "\n",
       "   prediction_pay_price  \n",
       "0                   0.0  \n",
       "1                   0.0  \n",
       "2                   0.0  \n",
       "3                   0.0  \n",
       "4                   0.0  \n",
       "\n",
       "[5 rows x 109 columns]"
      ]
     },
     "execution_count": 10,
     "metadata": {},
     "output_type": "execute_result"
    }
   ],
   "source": [
    "data_train.head()"
   ]
  },
  {
   "cell_type": "code",
   "execution_count": 13,
   "metadata": {
    "ExecuteTime": {
     "end_time": "2018-10-11T03:10:25.720109Z",
     "start_time": "2018-10-11T03:10:25.191079Z"
    }
   },
   "outputs": [],
   "source": [
    "train_user=data_train.iloc[:,:2]\n",
    "train_data=data_train.iloc[:,2:]"
   ]
  },
  {
   "cell_type": "code",
   "execution_count": 14,
   "metadata": {
    "ExecuteTime": {
     "end_time": "2018-10-11T03:10:32.210480Z",
     "start_time": "2018-10-11T03:10:32.199480Z"
    }
   },
   "outputs": [
    {
     "data": {
      "text/plain": [
       "(2288007, 2)"
      ]
     },
     "execution_count": 14,
     "metadata": {},
     "output_type": "execute_result"
    }
   ],
   "source": [
    "train_user.shape"
   ]
  },
  {
   "cell_type": "code",
   "execution_count": 15,
   "metadata": {
    "ExecuteTime": {
     "end_time": "2018-10-11T03:10:40.062929Z",
     "start_time": "2018-10-11T03:10:40.052929Z"
    }
   },
   "outputs": [
    {
     "data": {
      "text/plain": [
       "(2288007, 107)"
      ]
     },
     "execution_count": 15,
     "metadata": {},
     "output_type": "execute_result"
    }
   ],
   "source": [
    "train_data.shape"
   ]
  },
  {
   "cell_type": "code",
   "execution_count": 29,
   "metadata": {
    "ExecuteTime": {
     "end_time": "2018-10-11T03:33:13.682352Z",
     "start_time": "2018-10-11T03:33:13.033315Z"
    }
   },
   "outputs": [],
   "source": [
    "column_name=train_data.columns.values[:32].tolist()\n",
    "for i in range(len(column_name)):\n",
    "    if (i+2) % 2 == 0 :\n",
    "        name=column_name[i].replace('value','rate')\n",
    "        #print(name)\n",
    "        train_data[name]=train_data[column_name[i]] / (train_data[column_name[i+1]]+1)"
   ]
  },
  {
   "cell_type": "code",
   "execution_count": 30,
   "metadata": {
    "ExecuteTime": {
     "end_time": "2018-10-11T03:33:20.125721Z",
     "start_time": "2018-10-11T03:33:20.118720Z"
    }
   },
   "outputs": [
    {
     "data": {
      "text/plain": [
       "(2288007, 123)"
      ]
     },
     "execution_count": 30,
     "metadata": {},
     "output_type": "execute_result"
    }
   ],
   "source": [
    "train_data.shape"
   ]
  },
  {
   "cell_type": "code",
   "execution_count": 39,
   "metadata": {
    "ExecuteTime": {
     "end_time": "2018-10-11T06:18:19.132911Z",
     "start_time": "2018-10-11T06:18:19.081908Z"
    }
   },
   "outputs": [
    {
     "data": {
      "text/html": [
       "<div>\n",
       "<style scoped>\n",
       "    .dataframe tbody tr th:only-of-type {\n",
       "        vertical-align: middle;\n",
       "    }\n",
       "\n",
       "    .dataframe tbody tr th {\n",
       "        vertical-align: top;\n",
       "    }\n",
       "\n",
       "    .dataframe thead th {\n",
       "        text-align: right;\n",
       "    }\n",
       "</style>\n",
       "<table border=\"1\" class=\"dataframe\">\n",
       "  <thead>\n",
       "    <tr style=\"text-align: right;\">\n",
       "      <th></th>\n",
       "      <th>prediction_pay_price</th>\n",
       "      <th>wood_add_rate</th>\n",
       "      <th>stone_add_rate</th>\n",
       "      <th>ivory_add_rate</th>\n",
       "      <th>meat_add_rate</th>\n",
       "      <th>magic_add_rate</th>\n",
       "      <th>infantry_add_rate</th>\n",
       "      <th>cavalry_add_rate</th>\n",
       "      <th>shaman_add_rate</th>\n",
       "      <th>wound_infantry_add_rate</th>\n",
       "      <th>...</th>\n",
       "      <th>building_acceleration_add_rate</th>\n",
       "      <th>reaserch_acceleration_add_rate</th>\n",
       "      <th>training_acceleration_add_rate</th>\n",
       "      <th>treatment_acceleraion_add_rate</th>\n",
       "      <th>pvp_lanch_battle_rate</th>\n",
       "      <th>pvp_win_battle_rate</th>\n",
       "      <th>pvp_win_lanch_rate</th>\n",
       "      <th>pve_win_battle_rate</th>\n",
       "      <th>pay_price_rate</th>\n",
       "      <th>price_online_minutes_rate</th>\n",
       "    </tr>\n",
       "  </thead>\n",
       "  <tbody>\n",
       "    <tr>\n",
       "      <th>0</th>\n",
       "      <td>0.0</td>\n",
       "      <td>5.437719</td>\n",
       "      <td>0.0</td>\n",
       "      <td>0.0</td>\n",
       "      <td>8.183409</td>\n",
       "      <td>0.0</td>\n",
       "      <td>0.0</td>\n",
       "      <td>0.0</td>\n",
       "      <td>0.0</td>\n",
       "      <td>0.0</td>\n",
       "      <td>...</td>\n",
       "      <td>0.0</td>\n",
       "      <td>50.0</td>\n",
       "      <td>50.0</td>\n",
       "      <td>0.0</td>\n",
       "      <td>0.0</td>\n",
       "      <td>0.0</td>\n",
       "      <td>0.0</td>\n",
       "      <td>0.0</td>\n",
       "      <td>0.0</td>\n",
       "      <td>0.333333</td>\n",
       "    </tr>\n",
       "    <tr>\n",
       "      <th>1</th>\n",
       "      <td>0.0</td>\n",
       "      <td>0.000000</td>\n",
       "      <td>0.0</td>\n",
       "      <td>0.0</td>\n",
       "      <td>0.000000</td>\n",
       "      <td>0.0</td>\n",
       "      <td>0.0</td>\n",
       "      <td>0.0</td>\n",
       "      <td>0.0</td>\n",
       "      <td>0.0</td>\n",
       "      <td>...</td>\n",
       "      <td>0.0</td>\n",
       "      <td>0.0</td>\n",
       "      <td>0.0</td>\n",
       "      <td>0.0</td>\n",
       "      <td>0.0</td>\n",
       "      <td>0.0</td>\n",
       "      <td>0.0</td>\n",
       "      <td>0.0</td>\n",
       "      <td>0.0</td>\n",
       "      <td>0.333333</td>\n",
       "    </tr>\n",
       "    <tr>\n",
       "      <th>2</th>\n",
       "      <td>0.0</td>\n",
       "      <td>0.000000</td>\n",
       "      <td>0.0</td>\n",
       "      <td>0.0</td>\n",
       "      <td>0.000000</td>\n",
       "      <td>0.0</td>\n",
       "      <td>0.0</td>\n",
       "      <td>0.0</td>\n",
       "      <td>0.0</td>\n",
       "      <td>0.0</td>\n",
       "      <td>...</td>\n",
       "      <td>0.0</td>\n",
       "      <td>0.0</td>\n",
       "      <td>0.0</td>\n",
       "      <td>0.0</td>\n",
       "      <td>0.0</td>\n",
       "      <td>0.0</td>\n",
       "      <td>0.0</td>\n",
       "      <td>0.0</td>\n",
       "      <td>0.0</td>\n",
       "      <td>1.166667</td>\n",
       "    </tr>\n",
       "    <tr>\n",
       "      <th>3</th>\n",
       "      <td>0.0</td>\n",
       "      <td>0.000000</td>\n",
       "      <td>0.0</td>\n",
       "      <td>0.0</td>\n",
       "      <td>0.000000</td>\n",
       "      <td>0.0</td>\n",
       "      <td>0.0</td>\n",
       "      <td>0.0</td>\n",
       "      <td>0.0</td>\n",
       "      <td>0.0</td>\n",
       "      <td>...</td>\n",
       "      <td>0.0</td>\n",
       "      <td>0.0</td>\n",
       "      <td>0.0</td>\n",
       "      <td>0.0</td>\n",
       "      <td>0.0</td>\n",
       "      <td>0.0</td>\n",
       "      <td>0.0</td>\n",
       "      <td>0.0</td>\n",
       "      <td>0.0</td>\n",
       "      <td>3.166667</td>\n",
       "    </tr>\n",
       "    <tr>\n",
       "      <th>4</th>\n",
       "      <td>0.0</td>\n",
       "      <td>0.000000</td>\n",
       "      <td>0.0</td>\n",
       "      <td>0.0</td>\n",
       "      <td>0.000000</td>\n",
       "      <td>0.0</td>\n",
       "      <td>0.0</td>\n",
       "      <td>0.0</td>\n",
       "      <td>0.0</td>\n",
       "      <td>0.0</td>\n",
       "      <td>...</td>\n",
       "      <td>0.0</td>\n",
       "      <td>0.0</td>\n",
       "      <td>0.0</td>\n",
       "      <td>0.0</td>\n",
       "      <td>0.0</td>\n",
       "      <td>0.0</td>\n",
       "      <td>0.0</td>\n",
       "      <td>0.0</td>\n",
       "      <td>0.0</td>\n",
       "      <td>2.333333</td>\n",
       "    </tr>\n",
       "  </tbody>\n",
       "</table>\n",
       "<p>5 rows × 23 columns</p>\n",
       "</div>"
      ],
      "text/plain": [
       "   prediction_pay_price  wood_add_rate  stone_add_rate  ivory_add_rate  \\\n",
       "0                   0.0       5.437719             0.0             0.0   \n",
       "1                   0.0       0.000000             0.0             0.0   \n",
       "2                   0.0       0.000000             0.0             0.0   \n",
       "3                   0.0       0.000000             0.0             0.0   \n",
       "4                   0.0       0.000000             0.0             0.0   \n",
       "\n",
       "   meat_add_rate  magic_add_rate  infantry_add_rate  cavalry_add_rate  \\\n",
       "0       8.183409             0.0                0.0               0.0   \n",
       "1       0.000000             0.0                0.0               0.0   \n",
       "2       0.000000             0.0                0.0               0.0   \n",
       "3       0.000000             0.0                0.0               0.0   \n",
       "4       0.000000             0.0                0.0               0.0   \n",
       "\n",
       "   shaman_add_rate  wound_infantry_add_rate            ...              \\\n",
       "0              0.0                      0.0            ...               \n",
       "1              0.0                      0.0            ...               \n",
       "2              0.0                      0.0            ...               \n",
       "3              0.0                      0.0            ...               \n",
       "4              0.0                      0.0            ...               \n",
       "\n",
       "   building_acceleration_add_rate  reaserch_acceleration_add_rate  \\\n",
       "0                             0.0                            50.0   \n",
       "1                             0.0                             0.0   \n",
       "2                             0.0                             0.0   \n",
       "3                             0.0                             0.0   \n",
       "4                             0.0                             0.0   \n",
       "\n",
       "   training_acceleration_add_rate  treatment_acceleraion_add_rate  \\\n",
       "0                            50.0                             0.0   \n",
       "1                             0.0                             0.0   \n",
       "2                             0.0                             0.0   \n",
       "3                             0.0                             0.0   \n",
       "4                             0.0                             0.0   \n",
       "\n",
       "   pvp_lanch_battle_rate  pvp_win_battle_rate  pvp_win_lanch_rate  \\\n",
       "0                    0.0                  0.0                 0.0   \n",
       "1                    0.0                  0.0                 0.0   \n",
       "2                    0.0                  0.0                 0.0   \n",
       "3                    0.0                  0.0                 0.0   \n",
       "4                    0.0                  0.0                 0.0   \n",
       "\n",
       "   pve_win_battle_rate  pay_price_rate  price_online_minutes_rate  \n",
       "0                  0.0             0.0                   0.333333  \n",
       "1                  0.0             0.0                   0.333333  \n",
       "2                  0.0             0.0                   1.166667  \n",
       "3                  0.0             0.0                   3.166667  \n",
       "4                  0.0             0.0                   2.333333  \n",
       "\n",
       "[5 rows x 23 columns]"
      ]
     },
     "execution_count": 39,
     "metadata": {},
     "output_type": "execute_result"
    }
   ],
   "source": [
    "train_data.iloc[:5,106:]"
   ]
  },
  {
   "cell_type": "code",
   "execution_count": 32,
   "metadata": {
    "ExecuteTime": {
     "end_time": "2018-10-11T06:08:40.047790Z",
     "start_time": "2018-10-11T06:08:39.594764Z"
    }
   },
   "outputs": [],
   "source": [
    "train_data['pvp_lanch_battle_rate']=train_data['pvp_battle_count']/(train_data['pvp_lanch_count']+1)\n",
    "train_data['pvp_win_battle_rate']=train_data['pvp_battle_count']/(train_data['pvp_win_count']+1)\n",
    "train_data['pvp_win_lanch_rate']=train_data['pvp_lanch_count']/(train_data['pvp_win_count']+1)\n",
    "train_data['pve_win_battle_rate']=train_data['pvp_battle_count']/(train_data['pve_win_count']+1)\n",
    "train_data['pay_price_rate']=train_data['pay_count']/(train_data['pay_price']+1)\n",
    "train_data['price_online_minutes_rate']=train_data['avg_online_minutes']/(train_data['pay_price']+1)"
   ]
  },
  {
   "cell_type": "code",
   "execution_count": 44,
   "metadata": {
    "ExecuteTime": {
     "end_time": "2018-10-11T06:19:50.206120Z",
     "start_time": "2018-10-11T06:19:50.193120Z"
    }
   },
   "outputs": [
    {
     "data": {
      "text/plain": [
       "array(['wood_add_value', 'wood_reduce_value', 'stone_add_value',\n",
       "       'stone_reduce_value', 'ivory_add_value', 'ivory_reduce_value',\n",
       "       'meat_add_value', 'meat_reduce_value', 'magic_add_value'],\n",
       "      dtype=object)"
      ]
     },
     "execution_count": 44,
     "metadata": {},
     "output_type": "execute_result"
    }
   ],
   "source": [
    "train_data.columns.values[0:9]"
   ]
  },
  {
   "cell_type": "code",
   "execution_count": 48,
   "metadata": {
    "ExecuteTime": {
     "end_time": "2018-10-11T06:34:36.535816Z",
     "start_time": "2018-10-11T06:29:19.363674Z"
    }
   },
   "outputs": [],
   "source": [
    "train_data['resource_add_mean']=train_data.iloc[:,[0,2,4,6,8]].apply(lambda x:x.mean(),axis=1)\n",
    "train_data['resource_add_med']=train_data.iloc[:,[0,2,4,6,8]].apply(lambda x:x.median(),axis=1)\n",
    "train_data['resource_reduce_mean']=train_data.iloc[:,[1, 3, 5, 7, 9]].apply(lambda x:x.mean(),axis=1)\n",
    "train_data['resource_reduce_med']=train_data.iloc[:,[1, 3, 5, 7, 9]].apply(lambda x:x.median(),axis=1)"
   ]
  },
  {
   "cell_type": "code",
   "execution_count": 49,
   "metadata": {
    "ExecuteTime": {
     "end_time": "2018-10-11T06:39:58.779247Z",
     "start_time": "2018-10-11T06:39:58.709243Z"
    }
   },
   "outputs": [],
   "source": [
    "train_data['resource_mean_rate']=train_data['resource_reduce_mean']/(train_data['resource_add_mean']+1)\n",
    "train_data['resource_med_rate']=train_data['resource_reduce_med']/(train_data['resource_add_med']+1)"
   ]
  },
  {
   "cell_type": "code",
   "execution_count": 51,
   "metadata": {
    "ExecuteTime": {
     "end_time": "2018-10-11T07:05:26.439624Z",
     "start_time": "2018-10-11T06:54:31.426159Z"
    }
   },
   "outputs": [],
   "source": [
    "train_data['army_add_mean']=train_data.iloc[:,[10, 12, 14]].apply(lambda x:x.mean(),axis=1)\n",
    "train_data['army_add_med']=train_data.iloc[:,[10, 12, 14]].apply(lambda x:x.median(),axis=1)\n",
    "train_data['army_reduce_mean']=train_data.iloc[:,[11, 13, 15]].apply(lambda x:x.mean(),axis=1)\n",
    "train_data['army_reduce_med']=train_data.iloc[:,[11, 13, 15]].apply(lambda x:x.median(),axis=1)"
   ]
  },
  {
   "cell_type": "code",
   "execution_count": 52,
   "metadata": {
    "ExecuteTime": {
     "end_time": "2018-10-11T07:05:30.784873Z",
     "start_time": "2018-10-11T07:05:30.707868Z"
    }
   },
   "outputs": [],
   "source": [
    "train_data['army_mean_rate']=train_data['army_reduce_mean']/(train_data['army_add_mean']+1)\n",
    "train_data['army_med_rate']=train_data['army_reduce_med']/(train_data['army_add_med']+1)"
   ]
  },
  {
   "cell_type": "code",
   "execution_count": 54,
   "metadata": {
    "ExecuteTime": {
     "end_time": "2018-10-11T07:28:36.219115Z",
     "start_time": "2018-10-11T07:17:52.336287Z"
    }
   },
   "outputs": [],
   "source": [
    "train_data['wound_add_mean'] = train_data.iloc[:, [16, 18, 20]].apply(lambda x: x.mean(), axis=1)\n",
    "train_data['wound_add_med'] = train_data.iloc[:, [16, 18, 20]].apply(lambda x: x.median(), axis=1)\n",
    "train_data['wound_reduce_mean'] = train_data.iloc[:, [17, 19, 21]].apply(lambda x: x.mean(), axis=1)\n",
    "train_data['wound_reduce_med'] = train_data.iloc[:, [17, 19, 21]].apply(lambda x: x.median(), axis=1)"
   ]
  },
  {
   "cell_type": "code",
   "execution_count": null,
   "metadata": {},
   "outputs": [],
   "source": [
    "train_data['wound_mean_rate']=train_data['wound_reduce_mean']/(train_data['wound_add_mean']+1)\n",
    "train_data['wound_med_rate']=train_data['wound_reduce_med']/(train_data['wound_add_med']+1)"
   ]
  },
  {
   "cell_type": "code",
   "execution_count": 64,
   "metadata": {
    "ExecuteTime": {
     "end_time": "2018-10-11T08:17:49.055007Z",
     "start_time": "2018-10-11T08:06:58.647806Z"
    }
   },
   "outputs": [],
   "source": [
    "train_data['accelerate_add_mean'] = train_data.iloc[:, [22, 24, 26, 28, 30]].apply(lambda x: x.mean(), axis=1)\n",
    "train_data['accelerate_add_med'] = train_data.iloc[:, [22, 24, 26, 28, 30]].apply(lambda x: x.median(), axis=1)\n",
    "train_data['accelerate_reduce_mean'] = train_data.iloc[:, [23, 25, 27, 29, 31]].apply(lambda x: x.mean(), axis=1)\n",
    "train_data['accelerate_reduce_med'] = train_data.iloc[:, [23, 25, 27, 29, 31]].apply(lambda x: x.median(), axis=1)"
   ]
  },
  {
   "cell_type": "code",
   "execution_count": null,
   "metadata": {},
   "outputs": [],
   "source": [
    "train_data['accelerate_mean_rate']=train_data['accelerate_reduce_mean']/(train_data['accelerate_add_mean']+1)\n",
    "train_data['accelerate_med_rate']=train_data['accelerate_reduce_med']/(train_data['accelerate_add_med']+1)"
   ]
  },
  {
   "cell_type": "code",
   "execution_count": 63,
   "metadata": {
    "ExecuteTime": {
     "end_time": "2018-10-11T08:06:16.881417Z",
     "start_time": "2018-10-11T08:06:16.864416Z"
    }
   },
   "outputs": [
    {
     "data": {
      "text/plain": [
       "0    02\n",
       "1    01\n",
       "2    01\n",
       "3    01\n",
       "4    01\n",
       "Name: register_time, dtype: object"
      ]
     },
     "execution_count": 63,
     "metadata": {},
     "output_type": "execute_result"
    }
   ],
   "source": [
    "train_user.register_time.head().apply(lambda x:str(x)).str[5:7]"
   ]
  },
  {
   "cell_type": "code",
   "execution_count": 66,
   "metadata": {
    "ExecuteTime": {
     "end_time": "2018-10-12T03:00:51.568060Z",
     "start_time": "2018-10-12T03:00:25.306060Z"
    }
   },
   "outputs": [],
   "source": [
    "train_user['register_time_month']=pd.to_numeric(train_user.register_time.apply(lambda x:str(x)).str[5:7])\n",
    "train_user['register_time_day']=pd.to_numeric(train_user.register_time.apply(lambda x:str(x)).str[8:10])\n",
    "train_user.drop(labels=['register_time'],axis=1,inplace=True)\n",
    "train_user['register_time_count']=train_user['register_time_month']*31+train_user['register_time_day']"
   ]
  },
  {
   "cell_type": "code",
   "execution_count": 68,
   "metadata": {
    "ExecuteTime": {
     "end_time": "2018-10-12T03:00:59.335060Z",
     "start_time": "2018-10-12T03:00:59.311060Z"
    }
   },
   "outputs": [
    {
     "data": {
      "text/html": [
       "<div>\n",
       "<style scoped>\n",
       "    .dataframe tbody tr th:only-of-type {\n",
       "        vertical-align: middle;\n",
       "    }\n",
       "\n",
       "    .dataframe tbody tr th {\n",
       "        vertical-align: top;\n",
       "    }\n",
       "\n",
       "    .dataframe thead th {\n",
       "        text-align: right;\n",
       "    }\n",
       "</style>\n",
       "<table border=\"1\" class=\"dataframe\">\n",
       "  <thead>\n",
       "    <tr style=\"text-align: right;\">\n",
       "      <th></th>\n",
       "      <th>user_id</th>\n",
       "      <th>register_time_month</th>\n",
       "      <th>register_time_day</th>\n",
       "      <th>register_time_count</th>\n",
       "    </tr>\n",
       "  </thead>\n",
       "  <tbody>\n",
       "    <tr>\n",
       "      <th>0</th>\n",
       "      <td>1</td>\n",
       "      <td>2</td>\n",
       "      <td>2</td>\n",
       "      <td>64</td>\n",
       "    </tr>\n",
       "    <tr>\n",
       "      <th>1</th>\n",
       "      <td>1593</td>\n",
       "      <td>1</td>\n",
       "      <td>26</td>\n",
       "      <td>57</td>\n",
       "    </tr>\n",
       "    <tr>\n",
       "      <th>2</th>\n",
       "      <td>1594</td>\n",
       "      <td>1</td>\n",
       "      <td>26</td>\n",
       "      <td>57</td>\n",
       "    </tr>\n",
       "    <tr>\n",
       "      <th>3</th>\n",
       "      <td>1595</td>\n",
       "      <td>1</td>\n",
       "      <td>26</td>\n",
       "      <td>57</td>\n",
       "    </tr>\n",
       "    <tr>\n",
       "      <th>4</th>\n",
       "      <td>1596</td>\n",
       "      <td>1</td>\n",
       "      <td>26</td>\n",
       "      <td>57</td>\n",
       "    </tr>\n",
       "  </tbody>\n",
       "</table>\n",
       "</div>"
      ],
      "text/plain": [
       "   user_id  register_time_month  register_time_day  register_time_count\n",
       "0        1                    2                  2                   64\n",
       "1     1593                    1                 26                   57\n",
       "2     1594                    1                 26                   57\n",
       "3     1595                    1                 26                   57\n",
       "4     1596                    1                 26                   57"
      ]
     },
     "execution_count": 68,
     "metadata": {},
     "output_type": "execute_result"
    }
   ],
   "source": [
    "train_user.head()"
   ]
  },
  {
   "cell_type": "code",
   "execution_count": 69,
   "metadata": {
    "ExecuteTime": {
     "end_time": "2018-10-12T03:01:18.031060Z",
     "start_time": "2018-10-12T03:01:17.968060Z"
    }
   },
   "outputs": [],
   "source": [
    "train_data['register_time_month']=train_user['register_time_month']\n",
    "train_data['register_time_day']=train_user['register_time_day']\n",
    "train_data['register_time_count']=train_user['register_time_count']"
   ]
  },
  {
   "cell_type": "code",
   "execution_count": 70,
   "metadata": {
    "ExecuteTime": {
     "end_time": "2018-10-12T03:02:20.362060Z",
     "start_time": "2018-10-12T03:02:19.491060Z"
    }
   },
   "outputs": [],
   "source": [
    "train = train_data[train_data['pay_price'] > 0]"
   ]
  },
  {
   "cell_type": "code",
   "execution_count": 71,
   "metadata": {
    "ExecuteTime": {
     "end_time": "2018-10-12T03:02:41.342060Z",
     "start_time": "2018-10-12T03:02:41.331060Z"
    }
   },
   "outputs": [
    {
     "data": {
      "text/plain": [
       "(41439, 152)"
      ]
     },
     "execution_count": 71,
     "metadata": {},
     "output_type": "execute_result"
    }
   ],
   "source": [
    "train.shape"
   ]
  },
  {
   "cell_type": "code",
   "execution_count": 73,
   "metadata": {
    "ExecuteTime": {
     "end_time": "2018-10-12T03:05:02.163060Z",
     "start_time": "2018-10-12T03:05:01.883060Z"
    }
   },
   "outputs": [
    {
     "name": "stderr",
     "output_type": "stream",
     "text": [
      "D:\\ProgramData\\Anaconda3\\lib\\site-packages\\ipykernel_launcher.py:1: SettingWithCopyWarning: \n",
      "A value is trying to be set on a copy of a slice from a DataFrame.\n",
      "Try using .loc[row_indexer,col_indexer] = value instead\n",
      "\n",
      "See the caveats in the documentation: http://pandas.pydata.org/pandas-docs/stable/indexing.html#indexing-view-versus-copy\n",
      "  \"\"\"Entry point for launching an IPython kernel.\n",
      "D:\\ProgramData\\Anaconda3\\lib\\site-packages\\ipykernel_launcher.py:2: SettingWithCopyWarning: \n",
      "A value is trying to be set on a copy of a slice from a DataFrame.\n",
      "Try using .loc[row_indexer,col_indexer] = value instead\n",
      "\n",
      "See the caveats in the documentation: http://pandas.pydata.org/pandas-docs/stable/indexing.html#indexing-view-versus-copy\n",
      "  \n",
      "D:\\ProgramData\\Anaconda3\\lib\\site-packages\\ipykernel_launcher.py:3: SettingWithCopyWarning: \n",
      "A value is trying to be set on a copy of a slice from a DataFrame.\n",
      "Try using .loc[row_indexer,col_indexer] = value instead\n",
      "\n",
      "See the caveats in the documentation: http://pandas.pydata.org/pandas-docs/stable/indexing.html#indexing-view-versus-copy\n",
      "  This is separate from the ipykernel package so we can avoid doing imports until\n",
      "D:\\ProgramData\\Anaconda3\\lib\\site-packages\\ipykernel_launcher.py:4: SettingWithCopyWarning: \n",
      "A value is trying to be set on a copy of a slice from a DataFrame.\n",
      "Try using .loc[row_indexer,col_indexer] = value instead\n",
      "\n",
      "See the caveats in the documentation: http://pandas.pydata.org/pandas-docs/stable/indexing.html#indexing-view-versus-copy\n",
      "  after removing the cwd from sys.path.\n"
     ]
    }
   ],
   "source": [
    "train['new_pay_label']=train['prediction_pay_price']!=train['pay_price']\n",
    "train['new_pay_label']=train['new_pay_label'].map({True:1,False:0})\n",
    "train['new_pay_price']=train['prediction_pay_price']-train['pay_price']\n",
    "train['new_pay_rate']=(train['prediction_pay_price']-train['pay_price'])/train['pay_price']"
   ]
  },
  {
   "cell_type": "code",
   "execution_count": 74,
   "metadata": {
    "ExecuteTime": {
     "end_time": "2018-10-12T03:05:26.923060Z",
     "start_time": "2018-10-12T03:05:26.909060Z"
    }
   },
   "outputs": [
    {
     "data": {
      "text/plain": [
       "25     0\n",
       "40     1\n",
       "47     0\n",
       "86     0\n",
       "119    0\n",
       "Name: new_pay_label, dtype: int64"
      ]
     },
     "execution_count": 74,
     "metadata": {},
     "output_type": "execute_result"
    }
   ],
   "source": [
    "train['new_pay_label'].head()"
   ]
  },
  {
   "cell_type": "code",
   "execution_count": null,
   "metadata": {
    "ExecuteTime": {
     "end_time": "2018-10-12T03:07:36.799060Z",
     "start_time": "2018-10-12T03:07:36.776060Z"
    }
   },
   "outputs": [],
   "source": []
  },
  {
   "cell_type": "code",
   "execution_count": 78,
   "metadata": {
    "ExecuteTime": {
     "end_time": "2018-10-12T03:09:09.751060Z",
     "start_time": "2018-10-12T03:09:09.687060Z"
    }
   },
   "outputs": [],
   "source": [
    "classify_train=train.iloc[:,1:-3]\n",
    "classify_train.drop('prediction_pay_price',axis=1,inplace=True)"
   ]
  },
  {
   "cell_type": "code",
   "execution_count": 85,
   "metadata": {
    "ExecuteTime": {
     "end_time": "2018-10-12T03:12:45.429060Z",
     "start_time": "2018-10-12T03:12:45.165060Z"
    }
   },
   "outputs": [
    {
     "data": {
      "text/plain": [
       "196"
      ]
     },
     "execution_count": 85,
     "metadata": {},
     "output_type": "execute_result"
    }
   ],
   "source": [
    "classify_train.duplicated().sum()"
   ]
  },
  {
   "cell_type": "code",
   "execution_count": 92,
   "metadata": {
    "ExecuteTime": {
     "end_time": "2018-10-12T05:41:25.458060Z",
     "start_time": "2018-10-12T05:41:25.416060Z"
    }
   },
   "outputs": [
    {
     "data": {
      "text/html": [
       "<div>\n",
       "<style scoped>\n",
       "    .dataframe tbody tr th:only-of-type {\n",
       "        vertical-align: middle;\n",
       "    }\n",
       "\n",
       "    .dataframe tbody tr th {\n",
       "        vertical-align: top;\n",
       "    }\n",
       "\n",
       "    .dataframe thead th {\n",
       "        text-align: right;\n",
       "    }\n",
       "</style>\n",
       "<table border=\"1\" class=\"dataframe\">\n",
       "  <thead>\n",
       "    <tr style=\"text-align: right;\">\n",
       "      <th></th>\n",
       "      <th>wood_reduce_value</th>\n",
       "      <th>stone_add_value</th>\n",
       "      <th>stone_reduce_value</th>\n",
       "      <th>ivory_add_value</th>\n",
       "      <th>ivory_reduce_value</th>\n",
       "      <th>meat_add_value</th>\n",
       "      <th>meat_reduce_value</th>\n",
       "      <th>magic_add_value</th>\n",
       "      <th>magic_reduce_value</th>\n",
       "      <th>infantry_add_value</th>\n",
       "      <th>...</th>\n",
       "      <th>wound_add_med</th>\n",
       "      <th>wound_reduce_mean</th>\n",
       "      <th>wound_reduce_med</th>\n",
       "      <th>accelerate_add_mean</th>\n",
       "      <th>accelerate_add_med</th>\n",
       "      <th>accelerate_reduce_mean</th>\n",
       "      <th>accelerate_reduce_med</th>\n",
       "      <th>register_time_month</th>\n",
       "      <th>register_time_day</th>\n",
       "      <th>register_time_count</th>\n",
       "    </tr>\n",
       "  </thead>\n",
       "  <tbody>\n",
       "    <tr>\n",
       "      <th>25</th>\n",
       "      <td>97200.0</td>\n",
       "      <td>20000.0</td>\n",
       "      <td>0.0</td>\n",
       "      <td>0.0</td>\n",
       "      <td>0.0</td>\n",
       "      <td>160500.0</td>\n",
       "      <td>80392.0</td>\n",
       "      <td>12000.0</td>\n",
       "      <td>0.0</td>\n",
       "      <td>0</td>\n",
       "      <td>...</td>\n",
       "      <td>0.0</td>\n",
       "      <td>0.0</td>\n",
       "      <td>0.0</td>\n",
       "      <td>100.0</td>\n",
       "      <td>75.0</td>\n",
       "      <td>0.0</td>\n",
       "      <td>0.0</td>\n",
       "      <td>1</td>\n",
       "      <td>26</td>\n",
       "      <td>57</td>\n",
       "    </tr>\n",
       "    <tr>\n",
       "      <th>40</th>\n",
       "      <td>1137687.0</td>\n",
       "      <td>491331.0</td>\n",
       "      <td>790208.0</td>\n",
       "      <td>77000.0</td>\n",
       "      <td>0.0</td>\n",
       "      <td>1457249.0</td>\n",
       "      <td>708483.0</td>\n",
       "      <td>217455.0</td>\n",
       "      <td>162987.0</td>\n",
       "      <td>370</td>\n",
       "      <td>...</td>\n",
       "      <td>0.0</td>\n",
       "      <td>0.0</td>\n",
       "      <td>0.0</td>\n",
       "      <td>631.2</td>\n",
       "      <td>618.0</td>\n",
       "      <td>322.8</td>\n",
       "      <td>500.0</td>\n",
       "      <td>1</td>\n",
       "      <td>26</td>\n",
       "      <td>57</td>\n",
       "    </tr>\n",
       "    <tr>\n",
       "      <th>47</th>\n",
       "      <td>173248.0</td>\n",
       "      <td>70841.0</td>\n",
       "      <td>117012.0</td>\n",
       "      <td>55000.0</td>\n",
       "      <td>0.0</td>\n",
       "      <td>206366.0</td>\n",
       "      <td>82205.0</td>\n",
       "      <td>29902.0</td>\n",
       "      <td>88064.0</td>\n",
       "      <td>0</td>\n",
       "      <td>...</td>\n",
       "      <td>0.0</td>\n",
       "      <td>0.0</td>\n",
       "      <td>0.0</td>\n",
       "      <td>226.8</td>\n",
       "      <td>45.0</td>\n",
       "      <td>415.8</td>\n",
       "      <td>0.0</td>\n",
       "      <td>1</td>\n",
       "      <td>26</td>\n",
       "      <td>57</td>\n",
       "    </tr>\n",
       "    <tr>\n",
       "      <th>86</th>\n",
       "      <td>0.0</td>\n",
       "      <td>0.0</td>\n",
       "      <td>0.0</td>\n",
       "      <td>0.0</td>\n",
       "      <td>0.0</td>\n",
       "      <td>0.0</td>\n",
       "      <td>0.0</td>\n",
       "      <td>0.0</td>\n",
       "      <td>0.0</td>\n",
       "      <td>0</td>\n",
       "      <td>...</td>\n",
       "      <td>0.0</td>\n",
       "      <td>0.0</td>\n",
       "      <td>0.0</td>\n",
       "      <td>0.0</td>\n",
       "      <td>0.0</td>\n",
       "      <td>0.0</td>\n",
       "      <td>0.0</td>\n",
       "      <td>1</td>\n",
       "      <td>26</td>\n",
       "      <td>57</td>\n",
       "    </tr>\n",
       "    <tr>\n",
       "      <th>119</th>\n",
       "      <td>0.0</td>\n",
       "      <td>0.0</td>\n",
       "      <td>0.0</td>\n",
       "      <td>0.0</td>\n",
       "      <td>0.0</td>\n",
       "      <td>0.0</td>\n",
       "      <td>0.0</td>\n",
       "      <td>0.0</td>\n",
       "      <td>0.0</td>\n",
       "      <td>0</td>\n",
       "      <td>...</td>\n",
       "      <td>0.0</td>\n",
       "      <td>0.0</td>\n",
       "      <td>0.0</td>\n",
       "      <td>0.0</td>\n",
       "      <td>0.0</td>\n",
       "      <td>0.0</td>\n",
       "      <td>0.0</td>\n",
       "      <td>1</td>\n",
       "      <td>26</td>\n",
       "      <td>57</td>\n",
       "    </tr>\n",
       "  </tbody>\n",
       "</table>\n",
       "<p>5 rows × 150 columns</p>\n",
       "</div>"
      ],
      "text/plain": [
       "     wood_reduce_value  stone_add_value  stone_reduce_value  ivory_add_value  \\\n",
       "25             97200.0          20000.0                 0.0              0.0   \n",
       "40           1137687.0         491331.0            790208.0          77000.0   \n",
       "47            173248.0          70841.0            117012.0          55000.0   \n",
       "86                 0.0              0.0                 0.0              0.0   \n",
       "119                0.0              0.0                 0.0              0.0   \n",
       "\n",
       "     ivory_reduce_value  meat_add_value  meat_reduce_value  magic_add_value  \\\n",
       "25                  0.0        160500.0            80392.0          12000.0   \n",
       "40                  0.0       1457249.0           708483.0         217455.0   \n",
       "47                  0.0        206366.0            82205.0          29902.0   \n",
       "86                  0.0             0.0                0.0              0.0   \n",
       "119                 0.0             0.0                0.0              0.0   \n",
       "\n",
       "     magic_reduce_value  infantry_add_value         ...           \\\n",
       "25                  0.0                   0         ...            \n",
       "40             162987.0                 370         ...            \n",
       "47              88064.0                   0         ...            \n",
       "86                  0.0                   0         ...            \n",
       "119                 0.0                   0         ...            \n",
       "\n",
       "     wound_add_med  wound_reduce_mean  wound_reduce_med  accelerate_add_mean  \\\n",
       "25             0.0                0.0               0.0                100.0   \n",
       "40             0.0                0.0               0.0                631.2   \n",
       "47             0.0                0.0               0.0                226.8   \n",
       "86             0.0                0.0               0.0                  0.0   \n",
       "119            0.0                0.0               0.0                  0.0   \n",
       "\n",
       "     accelerate_add_med  accelerate_reduce_mean  accelerate_reduce_med  \\\n",
       "25                 75.0                     0.0                    0.0   \n",
       "40                618.0                   322.8                  500.0   \n",
       "47                 45.0                   415.8                    0.0   \n",
       "86                  0.0                     0.0                    0.0   \n",
       "119                 0.0                     0.0                    0.0   \n",
       "\n",
       "     register_time_month  register_time_day  register_time_count  \n",
       "25                     1                 26                   57  \n",
       "40                     1                 26                   57  \n",
       "47                     1                 26                   57  \n",
       "86                     1                 26                   57  \n",
       "119                    1                 26                   57  \n",
       "\n",
       "[5 rows x 150 columns]"
      ]
     },
     "execution_count": 92,
     "metadata": {},
     "output_type": "execute_result"
    }
   ],
   "source": [
    "classify_train.head()"
   ]
  },
  {
   "cell_type": "code",
   "execution_count": 87,
   "metadata": {
    "ExecuteTime": {
     "end_time": "2018-10-12T03:34:36.588060Z",
     "start_time": "2018-10-12T03:34:36.585060Z"
    }
   },
   "outputs": [],
   "source": [
    "from sklearn.model_selection import GridSearchCV\n",
    "from xgboost import XGBClassifier\n",
    "from sklearn.externals import joblibmodel = GridSearchCV(\n",
    "    estimator=XGBClassifier( max_bin=128),\n",
    "    param_grid={\n",
    "        'n_estimators': [1000],\n",
    "        'learning_rate': [0.1],\n",
    "        'max_depth': [2],\n",
    "        'subsample': [1],\n",
    "        'colsample_bytree': [0.8],\n",
    "        'scale_pos_weight': [2.5, ],\n",
    "        'min_child_weight': [2, ]\n",
    "    },\n",
    "    scoring='f1',\n",
    "    cv=3,\n",
    "    n_jobs=1,\n",
    "    verbose=1)\n",
    "\n",
    "\n",
    "\n",
    "cl_t = classify_train.iloc[:, :-3].drop_duplicates()\n",
    "model.fit(cl_t, train.loc[cl_t.index,'new_pay_label'])\n",
    "joblib.dump(model,'F:\\\\study\\\\ml\\\\DataSet\\\\Tap4fun\\\\Model\\\\xgb_clf.model')\n",
    "print(model.best_score_, model.best_params_)"
   ]
  },
  {
   "cell_type": "code",
   "execution_count": 89,
   "metadata": {
    "ExecuteTime": {
     "end_time": "2018-10-12T03:41:25.857060Z",
     "start_time": "2018-10-12T03:35:59.629060Z"
    }
   },
   "outputs": [
    {
     "name": "stdout",
     "output_type": "stream",
     "text": [
      "Fitting 3 folds for each of 1 candidates, totalling 3 fits\n"
     ]
    },
    {
     "name": "stderr",
     "output_type": "stream",
     "text": [
      "D:\\ProgramData\\Anaconda3\\lib\\site-packages\\sklearn\\preprocessing\\label.py:151: DeprecationWarning: The truth value of an empty array is ambiguous. Returning False, but in future this will result in an error. Use `array.size > 0` to check that an array is not empty.\n",
      "  if diff:\n",
      "D:\\ProgramData\\Anaconda3\\lib\\site-packages\\sklearn\\preprocessing\\label.py:151: DeprecationWarning: The truth value of an empty array is ambiguous. Returning False, but in future this will result in an error. Use `array.size > 0` to check that an array is not empty.\n",
      "  if diff:\n",
      "D:\\ProgramData\\Anaconda3\\lib\\site-packages\\sklearn\\preprocessing\\label.py:151: DeprecationWarning: The truth value of an empty array is ambiguous. Returning False, but in future this will result in an error. Use `array.size > 0` to check that an array is not empty.\n",
      "  if diff:\n",
      "D:\\ProgramData\\Anaconda3\\lib\\site-packages\\sklearn\\preprocessing\\label.py:151: DeprecationWarning: The truth value of an empty array is ambiguous. Returning False, but in future this will result in an error. Use `array.size > 0` to check that an array is not empty.\n",
      "  if diff:\n",
      "D:\\ProgramData\\Anaconda3\\lib\\site-packages\\sklearn\\preprocessing\\label.py:151: DeprecationWarning: The truth value of an empty array is ambiguous. Returning False, but in future this will result in an error. Use `array.size > 0` to check that an array is not empty.\n",
      "  if diff:\n",
      "D:\\ProgramData\\Anaconda3\\lib\\site-packages\\sklearn\\preprocessing\\label.py:151: DeprecationWarning: The truth value of an empty array is ambiguous. Returning False, but in future this will result in an error. Use `array.size > 0` to check that an array is not empty.\n",
      "  if diff:\n",
      "[Parallel(n_jobs=1)]: Done   3 out of   3 | elapsed:  3.6min finished\n"
     ]
    },
    {
     "name": "stdout",
     "output_type": "stream",
     "text": [
      "0.6458941679669509 {'colsample_bytree': 0.8, 'learning_rate': 0.1, 'max_depth': 2, 'min_child_weight': 2, 'n_estimators': 1000, 'scale_pos_weight': 2.5, 'subsample': 1}\n"
     ]
    }
   ],
   "source": [
    "model = GridSearchCV(\n",
    "    estimator=XGBClassifier( max_bin=128),\n",
    "    param_grid={\n",
    "        'n_estimators': [1000],\n",
    "        'learning_rate': [0.1],\n",
    "        'max_depth': [2],\n",
    "        'subsample': [1],\n",
    "        'colsample_bytree': [0.8],\n",
    "        'scale_pos_weight': [2.5, ],\n",
    "        'min_child_weight': [2, ]\n",
    "    },\n",
    "    scoring='f1',\n",
    "    cv=3,\n",
    "    n_jobs=1,\n",
    "    verbose=1)\n",
    "\n",
    "\n",
    "\n",
    "cl_t = classify_train.iloc[:, :-3].drop_duplicates()\n",
    "model.fit(cl_t, train.loc[cl_t.index,'new_pay_label'])\n",
    "joblib.dump(model,'F:\\\\study\\\\ml\\\\DataSet\\\\Tap4fun\\\\Model\\\\xgb_clf.model')\n",
    "print(model.best_score_, model.best_params_)\n"
   ]
  },
  {
   "cell_type": "code",
   "execution_count": 91,
   "metadata": {
    "ExecuteTime": {
     "end_time": "2018-10-12T05:37:23.129060Z",
     "start_time": "2018-10-12T05:37:23.125060Z"
    }
   },
   "outputs": [],
   "source": [
    "from sklearn.metrics import classification_report,accuracy_score,confusion_matrix\n",
    "from sklearn.cross_validation import train_test_split,cross_val_score"
   ]
  },
  {
   "cell_type": "code",
   "execution_count": 98,
   "metadata": {
    "ExecuteTime": {
     "end_time": "2018-10-12T05:47:39.314060Z",
     "start_time": "2018-10-12T05:47:39.111060Z"
    }
   },
   "outputs": [
    {
     "name": "stderr",
     "output_type": "stream",
     "text": [
      "D:\\ProgramData\\Anaconda3\\lib\\site-packages\\sklearn\\preprocessing\\label.py:151: DeprecationWarning: The truth value of an empty array is ambiguous. Returning False, but in future this will result in an error. Use `array.size > 0` to check that an array is not empty.\n",
      "  if diff:\n"
     ]
    }
   ],
   "source": [
    "X_train,X_test,y_train,y_test=train_test_split(cl_t,train.loc[cl_t.index,'new_pay_label'],test_size=0.2,random_state=13)\n",
    "y_pred=model.predict(X_test)"
   ]
  },
  {
   "cell_type": "code",
   "execution_count": 99,
   "metadata": {
    "ExecuteTime": {
     "end_time": "2018-10-12T05:47:40.601060Z",
     "start_time": "2018-10-12T05:47:40.571060Z"
    }
   },
   "outputs": [
    {
     "name": "stdout",
     "output_type": "stream",
     "text": [
      "准确率 0.7968922060442922\n",
      "混淆矩阵 [[4642 1236]\n",
      " [ 424 1871]]\n",
      "分类报告              precision    recall  f1-score   support\n",
      "\n",
      "          0       0.92      0.79      0.85      5878\n",
      "          1       0.60      0.82      0.69      2295\n",
      "\n",
      "avg / total       0.83      0.80      0.80      8173\n",
      "\n"
     ]
    }
   ],
   "source": [
    "predictions=y_pred\n",
    "print('准确率',accuracy_score(y_test,predictions))\n",
    "print('混淆矩阵',confusion_matrix(y_test,predictions))\n",
    "print('分类报告',classification_report(y_test,predictions))\n"
   ]
  },
  {
   "cell_type": "code",
   "execution_count": 111,
   "metadata": {
    "ExecuteTime": {
     "end_time": "2018-10-12T06:15:37.102060Z",
     "start_time": "2018-10-12T06:15:12.192060Z"
    }
   },
   "outputs": [],
   "source": [
    "model2=XGBClassifier( max_bin=128,n_estimators=1000,learning_rate=0.1,\n",
    "                     max_depth=2,subsample=1,colsample_bytree=0.8,\n",
    "                     scale_pos_weight=2.5,min_child_weight=2,scoring='f1'\n",
    "                     ,n_jobs=4).fit(X_train,y_train)"
   ]
  },
  {
   "cell_type": "code",
   "execution_count": 112,
   "metadata": {
    "ExecuteTime": {
     "end_time": "2018-10-12T06:16:20.988060Z",
     "start_time": "2018-10-12T06:16:20.891060Z"
    }
   },
   "outputs": [
    {
     "name": "stdout",
     "output_type": "stream",
     "text": [
      "准确率 0.7727884497736449\n",
      "混淆矩阵 [[4539 1339]\n",
      " [ 518 1777]]\n",
      "分类报告              precision    recall  f1-score   support\n",
      "\n",
      "          0       0.90      0.77      0.83      5878\n",
      "          1       0.57      0.77      0.66      2295\n",
      "\n",
      "avg / total       0.81      0.77      0.78      8173\n",
      "\n"
     ]
    },
    {
     "name": "stderr",
     "output_type": "stream",
     "text": [
      "D:\\ProgramData\\Anaconda3\\lib\\site-packages\\sklearn\\preprocessing\\label.py:151: DeprecationWarning: The truth value of an empty array is ambiguous. Returning False, but in future this will result in an error. Use `array.size > 0` to check that an array is not empty.\n",
      "  if diff:\n"
     ]
    }
   ],
   "source": [
    "predictions=model2.predict(X_test)\n",
    "print('准确率',accuracy_score(y_test,predictions))\n",
    "print('混淆矩阵',confusion_matrix(y_test,predictions))\n",
    "print('分类报告',classification_report(y_test,predictions))\n"
   ]
  },
  {
   "cell_type": "code",
   "execution_count": 115,
   "metadata": {
    "ExecuteTime": {
     "end_time": "2018-10-12T06:18:37.631060Z",
     "start_time": "2018-10-12T06:18:37.565060Z"
    }
   },
   "outputs": [],
   "source": [
    "df_imp=pd.DataFrame()\n",
    "df_imp['name']=X_train.columns.values\n",
    "df_imp['socre']=model2.feature_importances_\n"
   ]
  },
  {
   "cell_type": "code",
   "execution_count": 116,
   "metadata": {
    "ExecuteTime": {
     "end_time": "2018-10-12T06:19:27.672060Z",
     "start_time": "2018-10-12T06:19:27.586060Z"
    },
    "scrolled": true
   },
   "outputs": [
    {
     "data": {
      "text/html": [
       "<div>\n",
       "<style scoped>\n",
       "    .dataframe tbody tr th:only-of-type {\n",
       "        vertical-align: middle;\n",
       "    }\n",
       "\n",
       "    .dataframe tbody tr th {\n",
       "        vertical-align: top;\n",
       "    }\n",
       "\n",
       "    .dataframe thead th {\n",
       "        text-align: right;\n",
       "    }\n",
       "</style>\n",
       "<table border=\"1\" class=\"dataframe\">\n",
       "  <thead>\n",
       "    <tr style=\"text-align: right;\">\n",
       "      <th></th>\n",
       "      <th>name</th>\n",
       "      <th>socre</th>\n",
       "    </tr>\n",
       "  </thead>\n",
       "  <tbody>\n",
       "    <tr>\n",
       "      <th>126</th>\n",
       "      <td>price_online_minutes_rate</td>\n",
       "      <td>0.034413</td>\n",
       "    </tr>\n",
       "    <tr>\n",
       "      <th>102</th>\n",
       "      <td>avg_online_minutes</td>\n",
       "      <td>0.025978</td>\n",
       "    </tr>\n",
       "    <tr>\n",
       "      <th>118</th>\n",
       "      <td>reaserch_acceleration_add_rate</td>\n",
       "      <td>0.025304</td>\n",
       "    </tr>\n",
       "    <tr>\n",
       "      <th>116</th>\n",
       "      <td>general_acceleration_add_rate</td>\n",
       "      <td>0.023954</td>\n",
       "    </tr>\n",
       "    <tr>\n",
       "      <th>109</th>\n",
       "      <td>magic_add_rate</td>\n",
       "      <td>0.023617</td>\n",
       "    </tr>\n",
       "    <tr>\n",
       "      <th>117</th>\n",
       "      <td>building_acceleration_add_rate</td>\n",
       "      <td>0.023279</td>\n",
       "    </tr>\n",
       "    <tr>\n",
       "      <th>108</th>\n",
       "      <td>meat_add_rate</td>\n",
       "      <td>0.023279</td>\n",
       "    </tr>\n",
       "    <tr>\n",
       "      <th>3</th>\n",
       "      <td>ivory_add_value</td>\n",
       "      <td>0.018219</td>\n",
       "    </tr>\n",
       "    <tr>\n",
       "      <th>23</th>\n",
       "      <td>building_acceleration_add_value</td>\n",
       "      <td>0.018219</td>\n",
       "    </tr>\n",
       "    <tr>\n",
       "      <th>25</th>\n",
       "      <td>reaserch_acceleration_add_value</td>\n",
       "      <td>0.017881</td>\n",
       "    </tr>\n",
       "    <tr>\n",
       "      <th>29</th>\n",
       "      <td>treatment_acceleraion_add_value</td>\n",
       "      <td>0.017544</td>\n",
       "    </tr>\n",
       "    <tr>\n",
       "      <th>119</th>\n",
       "      <td>training_acceleration_add_rate</td>\n",
       "      <td>0.017544</td>\n",
       "    </tr>\n",
       "    <tr>\n",
       "      <th>0</th>\n",
       "      <td>wood_reduce_value</td>\n",
       "      <td>0.017544</td>\n",
       "    </tr>\n",
       "    <tr>\n",
       "      <th>106</th>\n",
       "      <td>stone_add_rate</td>\n",
       "      <td>0.016869</td>\n",
       "    </tr>\n",
       "    <tr>\n",
       "      <th>21</th>\n",
       "      <td>general_acceleration_add_value</td>\n",
       "      <td>0.016532</td>\n",
       "    </tr>\n",
       "    <tr>\n",
       "      <th>24</th>\n",
       "      <td>building_acceleration_reduce_value</td>\n",
       "      <td>0.016194</td>\n",
       "    </tr>\n",
       "    <tr>\n",
       "      <th>103</th>\n",
       "      <td>pay_price</td>\n",
       "      <td>0.014845</td>\n",
       "    </tr>\n",
       "    <tr>\n",
       "      <th>114</th>\n",
       "      <td>wound_cavalry_add_rate</td>\n",
       "      <td>0.014507</td>\n",
       "    </tr>\n",
       "    <tr>\n",
       "      <th>26</th>\n",
       "      <td>reaserch_acceleration_reduce_value</td>\n",
       "      <td>0.014170</td>\n",
       "    </tr>\n",
       "    <tr>\n",
       "      <th>27</th>\n",
       "      <td>training_acceleration_add_value</td>\n",
       "      <td>0.014170</td>\n",
       "    </tr>\n",
       "    <tr>\n",
       "      <th>107</th>\n",
       "      <td>ivory_add_rate</td>\n",
       "      <td>0.014170</td>\n",
       "    </tr>\n",
       "    <tr>\n",
       "      <th>121</th>\n",
       "      <td>pvp_lanch_battle_rate</td>\n",
       "      <td>0.013833</td>\n",
       "    </tr>\n",
       "    <tr>\n",
       "      <th>122</th>\n",
       "      <td>pvp_win_battle_rate</td>\n",
       "      <td>0.013833</td>\n",
       "    </tr>\n",
       "    <tr>\n",
       "      <th>105</th>\n",
       "      <td>wood_add_rate</td>\n",
       "      <td>0.013833</td>\n",
       "    </tr>\n",
       "    <tr>\n",
       "      <th>138</th>\n",
       "      <td>army_med_rate</td>\n",
       "      <td>0.013495</td>\n",
       "    </tr>\n",
       "    <tr>\n",
       "      <th>8</th>\n",
       "      <td>magic_reduce_value</td>\n",
       "      <td>0.013158</td>\n",
       "    </tr>\n",
       "    <tr>\n",
       "      <th>132</th>\n",
       "      <td>resource_med_rate</td>\n",
       "      <td>0.012821</td>\n",
       "    </tr>\n",
       "    <tr>\n",
       "      <th>7</th>\n",
       "      <td>magic_add_value</td>\n",
       "      <td>0.012821</td>\n",
       "    </tr>\n",
       "    <tr>\n",
       "      <th>137</th>\n",
       "      <td>army_mean_rate</td>\n",
       "      <td>0.012821</td>\n",
       "    </tr>\n",
       "    <tr>\n",
       "      <th>110</th>\n",
       "      <td>infantry_add_rate</td>\n",
       "      <td>0.011808</td>\n",
       "    </tr>\n",
       "    <tr>\n",
       "      <th>...</th>\n",
       "      <td>...</td>\n",
       "      <td>...</td>\n",
       "    </tr>\n",
       "    <tr>\n",
       "      <th>50</th>\n",
       "      <td>sr_cavalry_tier_2_level</td>\n",
       "      <td>0.000675</td>\n",
       "    </tr>\n",
       "    <tr>\n",
       "      <th>81</th>\n",
       "      <td>sr_rss_e_gather_level</td>\n",
       "      <td>0.000337</td>\n",
       "    </tr>\n",
       "    <tr>\n",
       "      <th>44</th>\n",
       "      <td>bd_hero_gacha_level</td>\n",
       "      <td>0.000337</td>\n",
       "    </tr>\n",
       "    <tr>\n",
       "      <th>61</th>\n",
       "      <td>sr_shaman_def_level</td>\n",
       "      <td>0.000337</td>\n",
       "    </tr>\n",
       "    <tr>\n",
       "      <th>18</th>\n",
       "      <td>wound_cavalry_reduce_value</td>\n",
       "      <td>0.000337</td>\n",
       "    </tr>\n",
       "    <tr>\n",
       "      <th>53</th>\n",
       "      <td>sr_cavalry_atk_level</td>\n",
       "      <td>0.000337</td>\n",
       "    </tr>\n",
       "    <tr>\n",
       "      <th>63</th>\n",
       "      <td>sr_cavalry_hp_level</td>\n",
       "      <td>0.000337</td>\n",
       "    </tr>\n",
       "    <tr>\n",
       "      <th>74</th>\n",
       "      <td>sr_rss_c_prod_level</td>\n",
       "      <td>0.000337</td>\n",
       "    </tr>\n",
       "    <tr>\n",
       "      <th>58</th>\n",
       "      <td>sr_troop_defense_level</td>\n",
       "      <td>0.000000</td>\n",
       "    </tr>\n",
       "    <tr>\n",
       "      <th>49</th>\n",
       "      <td>sr_infantry_tier_2_level</td>\n",
       "      <td>0.000000</td>\n",
       "    </tr>\n",
       "    <tr>\n",
       "      <th>68</th>\n",
       "      <td>sr_troop_attack_level</td>\n",
       "      <td>0.000000</td>\n",
       "    </tr>\n",
       "    <tr>\n",
       "      <th>88</th>\n",
       "      <td>sr_outpost_tier_3_level</td>\n",
       "      <td>0.000000</td>\n",
       "    </tr>\n",
       "    <tr>\n",
       "      <th>89</th>\n",
       "      <td>sr_alliance_march_speed_level</td>\n",
       "      <td>0.000000</td>\n",
       "    </tr>\n",
       "    <tr>\n",
       "      <th>90</th>\n",
       "      <td>sr_pvp_march_speed_level</td>\n",
       "      <td>0.000000</td>\n",
       "    </tr>\n",
       "    <tr>\n",
       "      <th>91</th>\n",
       "      <td>sr_gathering_march_speed_level</td>\n",
       "      <td>0.000000</td>\n",
       "    </tr>\n",
       "    <tr>\n",
       "      <th>92</th>\n",
       "      <td>sr_outpost_tier_4_level</td>\n",
       "      <td>0.000000</td>\n",
       "    </tr>\n",
       "    <tr>\n",
       "      <th>93</th>\n",
       "      <td>sr_guest_troop_capacity_level</td>\n",
       "      <td>0.000000</td>\n",
       "    </tr>\n",
       "    <tr>\n",
       "      <th>94</th>\n",
       "      <td>sr_march_size_level</td>\n",
       "      <td>0.000000</td>\n",
       "    </tr>\n",
       "    <tr>\n",
       "      <th>95</th>\n",
       "      <td>sr_rss_help_bonus_level</td>\n",
       "      <td>0.000000</td>\n",
       "    </tr>\n",
       "    <tr>\n",
       "      <th>67</th>\n",
       "      <td>sr_shaman_tier_4_level</td>\n",
       "      <td>0.000000</td>\n",
       "    </tr>\n",
       "    <tr>\n",
       "      <th>55</th>\n",
       "      <td>sr_infantry_tier_3_level</td>\n",
       "      <td>0.000000</td>\n",
       "    </tr>\n",
       "    <tr>\n",
       "      <th>66</th>\n",
       "      <td>sr_cavalry_tier_4_level</td>\n",
       "      <td>0.000000</td>\n",
       "    </tr>\n",
       "    <tr>\n",
       "      <th>65</th>\n",
       "      <td>sr_infantry_tier_4_level</td>\n",
       "      <td>0.000000</td>\n",
       "    </tr>\n",
       "    <tr>\n",
       "      <th>64</th>\n",
       "      <td>sr_shaman_hp_level</td>\n",
       "      <td>0.000000</td>\n",
       "    </tr>\n",
       "    <tr>\n",
       "      <th>62</th>\n",
       "      <td>sr_infantry_hp_level</td>\n",
       "      <td>0.000000</td>\n",
       "    </tr>\n",
       "    <tr>\n",
       "      <th>60</th>\n",
       "      <td>sr_cavalry_def_level</td>\n",
       "      <td>0.000000</td>\n",
       "    </tr>\n",
       "    <tr>\n",
       "      <th>59</th>\n",
       "      <td>sr_infantry_def_level</td>\n",
       "      <td>0.000000</td>\n",
       "    </tr>\n",
       "    <tr>\n",
       "      <th>57</th>\n",
       "      <td>sr_shaman_tier_3_level</td>\n",
       "      <td>0.000000</td>\n",
       "    </tr>\n",
       "    <tr>\n",
       "      <th>56</th>\n",
       "      <td>sr_cavalry_tier_3_level</td>\n",
       "      <td>0.000000</td>\n",
       "    </tr>\n",
       "    <tr>\n",
       "      <th>73</th>\n",
       "      <td>sr_rss_b_prod_level</td>\n",
       "      <td>0.000000</td>\n",
       "    </tr>\n",
       "  </tbody>\n",
       "</table>\n",
       "<p>147 rows × 2 columns</p>\n",
       "</div>"
      ],
      "text/plain": [
       "                                   name     socre\n",
       "126           price_online_minutes_rate  0.034413\n",
       "102                  avg_online_minutes  0.025978\n",
       "118      reaserch_acceleration_add_rate  0.025304\n",
       "116       general_acceleration_add_rate  0.023954\n",
       "109                      magic_add_rate  0.023617\n",
       "117      building_acceleration_add_rate  0.023279\n",
       "108                       meat_add_rate  0.023279\n",
       "3                       ivory_add_value  0.018219\n",
       "23      building_acceleration_add_value  0.018219\n",
       "25      reaserch_acceleration_add_value  0.017881\n",
       "29      treatment_acceleraion_add_value  0.017544\n",
       "119      training_acceleration_add_rate  0.017544\n",
       "0                     wood_reduce_value  0.017544\n",
       "106                      stone_add_rate  0.016869\n",
       "21       general_acceleration_add_value  0.016532\n",
       "24   building_acceleration_reduce_value  0.016194\n",
       "103                           pay_price  0.014845\n",
       "114              wound_cavalry_add_rate  0.014507\n",
       "26   reaserch_acceleration_reduce_value  0.014170\n",
       "27      training_acceleration_add_value  0.014170\n",
       "107                      ivory_add_rate  0.014170\n",
       "121               pvp_lanch_battle_rate  0.013833\n",
       "122                 pvp_win_battle_rate  0.013833\n",
       "105                       wood_add_rate  0.013833\n",
       "138                       army_med_rate  0.013495\n",
       "8                    magic_reduce_value  0.013158\n",
       "132                   resource_med_rate  0.012821\n",
       "7                       magic_add_value  0.012821\n",
       "137                      army_mean_rate  0.012821\n",
       "110                   infantry_add_rate  0.011808\n",
       "..                                  ...       ...\n",
       "50              sr_cavalry_tier_2_level  0.000675\n",
       "81                sr_rss_e_gather_level  0.000337\n",
       "44                  bd_hero_gacha_level  0.000337\n",
       "61                  sr_shaman_def_level  0.000337\n",
       "18           wound_cavalry_reduce_value  0.000337\n",
       "53                 sr_cavalry_atk_level  0.000337\n",
       "63                  sr_cavalry_hp_level  0.000337\n",
       "74                  sr_rss_c_prod_level  0.000337\n",
       "58               sr_troop_defense_level  0.000000\n",
       "49             sr_infantry_tier_2_level  0.000000\n",
       "68                sr_troop_attack_level  0.000000\n",
       "88              sr_outpost_tier_3_level  0.000000\n",
       "89        sr_alliance_march_speed_level  0.000000\n",
       "90             sr_pvp_march_speed_level  0.000000\n",
       "91       sr_gathering_march_speed_level  0.000000\n",
       "92              sr_outpost_tier_4_level  0.000000\n",
       "93        sr_guest_troop_capacity_level  0.000000\n",
       "94                  sr_march_size_level  0.000000\n",
       "95              sr_rss_help_bonus_level  0.000000\n",
       "67               sr_shaman_tier_4_level  0.000000\n",
       "55             sr_infantry_tier_3_level  0.000000\n",
       "66              sr_cavalry_tier_4_level  0.000000\n",
       "65             sr_infantry_tier_4_level  0.000000\n",
       "64                   sr_shaman_hp_level  0.000000\n",
       "62                 sr_infantry_hp_level  0.000000\n",
       "60                 sr_cavalry_def_level  0.000000\n",
       "59                sr_infantry_def_level  0.000000\n",
       "57               sr_shaman_tier_3_level  0.000000\n",
       "56              sr_cavalry_tier_3_level  0.000000\n",
       "73                  sr_rss_b_prod_level  0.000000\n",
       "\n",
       "[147 rows x 2 columns]"
      ]
     },
     "execution_count": 116,
     "metadata": {},
     "output_type": "execute_result"
    }
   ],
   "source": [
    "df_imp.sort_values(by=['socre'],ascending=False)"
   ]
  },
  {
   "cell_type": "code",
   "execution_count": 117,
   "metadata": {
    "ExecuteTime": {
     "end_time": "2018-10-12T06:28:37.937060Z",
     "start_time": "2018-10-12T06:28:37.641060Z"
    }
   },
   "outputs": [],
   "source": [
    "import lightgbm as lgb"
   ]
  },
  {
   "cell_type": "code",
   "execution_count": 122,
   "metadata": {
    "ExecuteTime": {
     "end_time": "2018-10-12T06:40:06.580060Z",
     "start_time": "2018-10-12T06:39:53.175060Z"
    }
   },
   "outputs": [
    {
     "name": "stderr",
     "output_type": "stream",
     "text": [
      "D:\\ProgramData\\Anaconda3\\lib\\site-packages\\lightgbm\\basic.py:661: UserWarning: silent keyword has been found in `params` and will be ignored. Please use silent argument of the Dataset constructor to pass this parameter.\n",
      "  'Please use {0} argument of the Dataset constructor to pass this parameter.'.format(key))\n"
     ]
    }
   ],
   "source": [
    "data_train=lgb.Dataset(X_train,y_train)\n",
    "# param = { 'boosting_type':'gbdt','num_leaves':200, 'objective':'binary','max_depth':8,'learning_rate':.05,'max_bin':1000,\n",
    "#              'nthread':4, 'silent':True\n",
    "#         }\n",
    "\n",
    "param = { 'boosting_type':'gbdt','objective':'binary',\n",
    "             'nthread':4, 'silent':True\n",
    "        }\n",
    "param['metric'] = ['auc', 'binary_logloss']\n",
    "num_round=1000\n",
    "lgbm=lgb.train(param,data_train,num_round,verbose_eval=50)"
   ]
  },
  {
   "cell_type": "code",
   "execution_count": 124,
   "metadata": {
    "ExecuteTime": {
     "end_time": "2018-10-12T06:42:24.082060Z",
     "start_time": "2018-10-12T06:42:23.507060Z"
    }
   },
   "outputs": [
    {
     "name": "stdout",
     "output_type": "stream",
     "text": [
      "Threshold >= 0.1\n",
      "准确率 0.693135935397039\n",
      "混淆矩阵 [[3637 2241]\n",
      " [ 267 2028]]\n",
      "分类报告              precision    recall  f1-score   support\n",
      "\n",
      "          0       0.93      0.62      0.74      5878\n",
      "          1       0.48      0.88      0.62      2295\n",
      "\n",
      "avg / total       0.80      0.69      0.71      8173\n",
      "\n",
      "Threshold >= 0.2\n",
      "准确率 0.7546800440474734\n",
      "混淆矩阵 [[4398 1480]\n",
      " [ 525 1770]]\n",
      "分类报告              precision    recall  f1-score   support\n",
      "\n",
      "          0       0.89      0.75      0.81      5878\n",
      "          1       0.54      0.77      0.64      2295\n",
      "\n",
      "avg / total       0.80      0.75      0.76      8173\n",
      "\n",
      "Threshold >= 0.25\n",
      "准确率 0.7720543252171785\n",
      "混淆矩阵 [[4630 1248]\n",
      " [ 615 1680]]\n",
      "分类报告              precision    recall  f1-score   support\n",
      "\n",
      "          0       0.88      0.79      0.83      5878\n",
      "          1       0.57      0.73      0.64      2295\n",
      "\n",
      "avg / total       0.80      0.77      0.78      8173\n",
      "\n",
      "Threshold >= 0.3\n",
      "准确率 0.7815979444512419\n",
      "混淆矩阵 [[4820 1058]\n",
      " [ 727 1568]]\n",
      "分类报告              precision    recall  f1-score   support\n",
      "\n",
      "          0       0.87      0.82      0.84      5878\n",
      "          1       0.60      0.68      0.64      2295\n",
      "\n",
      "avg / total       0.79      0.78      0.79      8173\n",
      "\n",
      "Threshold >= 0.35\n",
      "准确率 0.7906521473143276\n",
      "混淆矩阵 [[4962  916]\n",
      " [ 795 1500]]\n",
      "分类报告              precision    recall  f1-score   support\n",
      "\n",
      "          0       0.86      0.84      0.85      5878\n",
      "          1       0.62      0.65      0.64      2295\n",
      "\n",
      "avg / total       0.79      0.79      0.79      8173\n",
      "\n",
      "Threshold >= 0.4\n",
      "准确率 0.7922427505200049\n",
      "混淆矩阵 [[5073  805]\n",
      " [ 893 1402]]\n",
      "分类报告              precision    recall  f1-score   support\n",
      "\n",
      "          0       0.85      0.86      0.86      5878\n",
      "          1       0.64      0.61      0.62      2295\n",
      "\n",
      "avg / total       0.79      0.79      0.79      8173\n",
      "\n",
      "Threshold >= 0.45\n",
      "准确率 0.7981157469717362\n",
      "混淆矩阵 [[5206  672]\n",
      " [ 978 1317]]\n",
      "分类报告              precision    recall  f1-score   support\n",
      "\n",
      "          0       0.84      0.89      0.86      5878\n",
      "          1       0.66      0.57      0.61      2295\n",
      "\n",
      "avg / total       0.79      0.80      0.79      8173\n",
      "\n",
      "Threshold >= 0.5\n",
      "准确率 0.7997063501774134\n",
      "混淆矩阵 [[5291  587]\n",
      " [1050 1245]]\n",
      "分类报告              precision    recall  f1-score   support\n",
      "\n",
      "          0       0.83      0.90      0.87      5878\n",
      "          1       0.68      0.54      0.60      2295\n",
      "\n",
      "avg / total       0.79      0.80      0.79      8173\n",
      "\n",
      "Threshold >= 0.6\n",
      "准确率 0.8069252416493332\n",
      "混淆矩阵 [[5482  396]\n",
      " [1182 1113]]\n",
      "分类报告              precision    recall  f1-score   support\n",
      "\n",
      "          0       0.82      0.93      0.87      5878\n",
      "          1       0.74      0.48      0.59      2295\n",
      "\n",
      "avg / total       0.80      0.81      0.79      8173\n",
      "\n",
      "Threshold >= 0.65\n",
      "准确率 0.8031322647742567\n",
      "混淆矩阵 [[5537  341]\n",
      " [1268 1027]]\n",
      "分类报告              precision    recall  f1-score   support\n",
      "\n",
      "          0       0.81      0.94      0.87      5878\n",
      "          1       0.75      0.45      0.56      2295\n",
      "\n",
      "avg / total       0.80      0.80      0.79      8173\n",
      "\n",
      "Threshold >= 0.7\n",
      "准确率 0.8003181206411355\n",
      "混淆矩阵 [[5601  277]\n",
      " [1355  940]]\n",
      "分类报告              precision    recall  f1-score   support\n",
      "\n",
      "          0       0.81      0.95      0.87      5878\n",
      "          1       0.77      0.41      0.54      2295\n",
      "\n",
      "avg / total       0.80      0.80      0.78      8173\n",
      "\n",
      "Threshold >= 0.75\n",
      "准确率 0.796525143766059\n",
      "混淆矩阵 [[5653  225]\n",
      " [1438  857]]\n",
      "分类报告              precision    recall  f1-score   support\n",
      "\n",
      "          0       0.80      0.96      0.87      5878\n",
      "          1       0.79      0.37      0.51      2295\n",
      "\n",
      "avg / total       0.80      0.80      0.77      8173\n",
      "\n",
      "Threshold >= 0.8\n",
      "准确率 0.7889391900159061\n",
      "混淆矩阵 [[5699  179]\n",
      " [1546  749]]\n",
      "分类报告              precision    recall  f1-score   support\n",
      "\n",
      "          0       0.79      0.97      0.87      5878\n",
      "          1       0.81      0.33      0.46      2295\n",
      "\n",
      "avg / total       0.79      0.79      0.76      8173\n",
      "\n",
      "Threshold >= 0.85\n",
      "准确率 0.7817202985439863\n",
      "混淆矩阵 [[5750  128]\n",
      " [1656  639]]\n",
      "分类报告              precision    recall  f1-score   support\n",
      "\n",
      "          0       0.78      0.98      0.87      5878\n",
      "          1       0.83      0.28      0.42      2295\n",
      "\n",
      "avg / total       0.79      0.78      0.74      8173\n",
      "\n",
      "Threshold >= 0.9\n",
      "准确率 0.7720543252171785\n",
      "混淆矩阵 [[5787   91]\n",
      " [1772  523]]\n",
      "分类报告              precision    recall  f1-score   support\n",
      "\n",
      "          0       0.77      0.98      0.86      5878\n",
      "          1       0.85      0.23      0.36      2295\n",
      "\n",
      "avg / total       0.79      0.77      0.72      8173\n",
      "\n"
     ]
    }
   ],
   "source": [
    "ypred2=lgbm.predict(X_test)\n",
    "y_pred_proba=ypred2\n",
    "thresholds = [0.1,0.2,0.25,0.3,0.35,0.4,0.45,0.5,0.6,0.65,0.7,0.75,0.8,0.85,0.9]\n",
    "for i in thresholds:\n",
    "    y_test_predictions_high_recall =y_pred_proba > i\n",
    "    print('Threshold >= %s'%i)\n",
    "    print('准确率',accuracy_score(y_test,y_test_predictions_high_recall))\n",
    "    print (u'混淆矩阵',confusion_matrix(y_test,y_test_predictions_high_recall))\n",
    "    print (u'分类报告',classification_report(y_test,y_test_predictions_high_recall))"
   ]
  },
  {
   "cell_type": "code",
   "execution_count": 125,
   "metadata": {
    "ExecuteTime": {
     "end_time": "2018-10-12T08:19:09.575060Z",
     "start_time": "2018-10-12T08:19:09.437060Z"
    }
   },
   "outputs": [
    {
     "data": {
      "text/html": [
       "<div>\n",
       "<style scoped>\n",
       "    .dataframe tbody tr th:only-of-type {\n",
       "        vertical-align: middle;\n",
       "    }\n",
       "\n",
       "    .dataframe tbody tr th {\n",
       "        vertical-align: top;\n",
       "    }\n",
       "\n",
       "    .dataframe thead th {\n",
       "        text-align: right;\n",
       "    }\n",
       "</style>\n",
       "<table border=\"1\" class=\"dataframe\">\n",
       "  <thead>\n",
       "    <tr style=\"text-align: right;\">\n",
       "      <th></th>\n",
       "      <th>name</th>\n",
       "      <th>importance</th>\n",
       "    </tr>\n",
       "  </thead>\n",
       "  <tbody>\n",
       "    <tr>\n",
       "      <th>102</th>\n",
       "      <td>avg_online_minutes</td>\n",
       "      <td>728</td>\n",
       "    </tr>\n",
       "    <tr>\n",
       "      <th>117</th>\n",
       "      <td>building_acceleration_add_rate</td>\n",
       "      <td>626</td>\n",
       "    </tr>\n",
       "    <tr>\n",
       "      <th>109</th>\n",
       "      <td>magic_add_rate</td>\n",
       "      <td>602</td>\n",
       "    </tr>\n",
       "    <tr>\n",
       "      <th>118</th>\n",
       "      <td>reaserch_acceleration_add_rate</td>\n",
       "      <td>573</td>\n",
       "    </tr>\n",
       "    <tr>\n",
       "      <th>116</th>\n",
       "      <td>general_acceleration_add_rate</td>\n",
       "      <td>571</td>\n",
       "    </tr>\n",
       "    <tr>\n",
       "      <th>119</th>\n",
       "      <td>training_acceleration_add_rate</td>\n",
       "      <td>553</td>\n",
       "    </tr>\n",
       "    <tr>\n",
       "      <th>126</th>\n",
       "      <td>price_online_minutes_rate</td>\n",
       "      <td>525</td>\n",
       "    </tr>\n",
       "    <tr>\n",
       "      <th>29</th>\n",
       "      <td>treatment_acceleraion_add_value</td>\n",
       "      <td>516</td>\n",
       "    </tr>\n",
       "    <tr>\n",
       "      <th>105</th>\n",
       "      <td>wood_add_rate</td>\n",
       "      <td>516</td>\n",
       "    </tr>\n",
       "    <tr>\n",
       "      <th>21</th>\n",
       "      <td>general_acceleration_add_value</td>\n",
       "      <td>507</td>\n",
       "    </tr>\n",
       "    <tr>\n",
       "      <th>27</th>\n",
       "      <td>training_acceleration_add_value</td>\n",
       "      <td>483</td>\n",
       "    </tr>\n",
       "    <tr>\n",
       "      <th>108</th>\n",
       "      <td>meat_add_rate</td>\n",
       "      <td>476</td>\n",
       "    </tr>\n",
       "    <tr>\n",
       "      <th>124</th>\n",
       "      <td>pve_win_battle_rate</td>\n",
       "      <td>466</td>\n",
       "    </tr>\n",
       "    <tr>\n",
       "      <th>7</th>\n",
       "      <td>magic_add_value</td>\n",
       "      <td>454</td>\n",
       "    </tr>\n",
       "    <tr>\n",
       "      <th>25</th>\n",
       "      <td>reaserch_acceleration_add_value</td>\n",
       "      <td>440</td>\n",
       "    </tr>\n",
       "    <tr>\n",
       "      <th>121</th>\n",
       "      <td>pvp_lanch_battle_rate</td>\n",
       "      <td>423</td>\n",
       "    </tr>\n",
       "    <tr>\n",
       "      <th>24</th>\n",
       "      <td>building_acceleration_reduce_value</td>\n",
       "      <td>421</td>\n",
       "    </tr>\n",
       "    <tr>\n",
       "      <th>23</th>\n",
       "      <td>building_acceleration_add_value</td>\n",
       "      <td>418</td>\n",
       "    </tr>\n",
       "    <tr>\n",
       "      <th>107</th>\n",
       "      <td>ivory_add_rate</td>\n",
       "      <td>416</td>\n",
       "    </tr>\n",
       "    <tr>\n",
       "      <th>131</th>\n",
       "      <td>resource_mean_rate</td>\n",
       "      <td>408</td>\n",
       "    </tr>\n",
       "    <tr>\n",
       "      <th>122</th>\n",
       "      <td>pvp_win_battle_rate</td>\n",
       "      <td>407</td>\n",
       "    </tr>\n",
       "    <tr>\n",
       "      <th>22</th>\n",
       "      <td>general_acceleration_reduce_value</td>\n",
       "      <td>404</td>\n",
       "    </tr>\n",
       "    <tr>\n",
       "      <th>123</th>\n",
       "      <td>pvp_win_lanch_rate</td>\n",
       "      <td>402</td>\n",
       "    </tr>\n",
       "    <tr>\n",
       "      <th>103</th>\n",
       "      <td>pay_price</td>\n",
       "      <td>395</td>\n",
       "    </tr>\n",
       "    <tr>\n",
       "      <th>26</th>\n",
       "      <td>reaserch_acceleration_reduce_value</td>\n",
       "      <td>394</td>\n",
       "    </tr>\n",
       "    <tr>\n",
       "      <th>8</th>\n",
       "      <td>magic_reduce_value</td>\n",
       "      <td>393</td>\n",
       "    </tr>\n",
       "    <tr>\n",
       "      <th>110</th>\n",
       "      <td>infantry_add_rate</td>\n",
       "      <td>382</td>\n",
       "    </tr>\n",
       "    <tr>\n",
       "      <th>112</th>\n",
       "      <td>shaman_add_rate</td>\n",
       "      <td>368</td>\n",
       "    </tr>\n",
       "    <tr>\n",
       "      <th>3</th>\n",
       "      <td>ivory_add_value</td>\n",
       "      <td>357</td>\n",
       "    </tr>\n",
       "    <tr>\n",
       "      <th>120</th>\n",
       "      <td>treatment_acceleraion_add_rate</td>\n",
       "      <td>354</td>\n",
       "    </tr>\n",
       "    <tr>\n",
       "      <th>...</th>\n",
       "      <td>...</td>\n",
       "      <td>...</td>\n",
       "    </tr>\n",
       "    <tr>\n",
       "      <th>77</th>\n",
       "      <td>sr_rss_b_gather_level</td>\n",
       "      <td>30</td>\n",
       "    </tr>\n",
       "    <tr>\n",
       "      <th>78</th>\n",
       "      <td>sr_rss_c_gather_level</td>\n",
       "      <td>20</td>\n",
       "    </tr>\n",
       "    <tr>\n",
       "      <th>73</th>\n",
       "      <td>sr_rss_b_prod_level</td>\n",
       "      <td>19</td>\n",
       "    </tr>\n",
       "    <tr>\n",
       "      <th>51</th>\n",
       "      <td>sr_shaman_tier_2_level</td>\n",
       "      <td>16</td>\n",
       "    </tr>\n",
       "    <tr>\n",
       "      <th>50</th>\n",
       "      <td>sr_cavalry_tier_2_level</td>\n",
       "      <td>16</td>\n",
       "    </tr>\n",
       "    <tr>\n",
       "      <th>49</th>\n",
       "      <td>sr_infantry_tier_2_level</td>\n",
       "      <td>16</td>\n",
       "    </tr>\n",
       "    <tr>\n",
       "      <th>81</th>\n",
       "      <td>sr_rss_e_gather_level</td>\n",
       "      <td>15</td>\n",
       "    </tr>\n",
       "    <tr>\n",
       "      <th>90</th>\n",
       "      <td>sr_pvp_march_speed_level</td>\n",
       "      <td>6</td>\n",
       "    </tr>\n",
       "    <tr>\n",
       "      <th>63</th>\n",
       "      <td>sr_cavalry_hp_level</td>\n",
       "      <td>6</td>\n",
       "    </tr>\n",
       "    <tr>\n",
       "      <th>88</th>\n",
       "      <td>sr_outpost_tier_3_level</td>\n",
       "      <td>5</td>\n",
       "    </tr>\n",
       "    <tr>\n",
       "      <th>89</th>\n",
       "      <td>sr_alliance_march_speed_level</td>\n",
       "      <td>4</td>\n",
       "    </tr>\n",
       "    <tr>\n",
       "      <th>57</th>\n",
       "      <td>sr_shaman_tier_3_level</td>\n",
       "      <td>2</td>\n",
       "    </tr>\n",
       "    <tr>\n",
       "      <th>58</th>\n",
       "      <td>sr_troop_defense_level</td>\n",
       "      <td>2</td>\n",
       "    </tr>\n",
       "    <tr>\n",
       "      <th>59</th>\n",
       "      <td>sr_infantry_def_level</td>\n",
       "      <td>2</td>\n",
       "    </tr>\n",
       "    <tr>\n",
       "      <th>64</th>\n",
       "      <td>sr_shaman_hp_level</td>\n",
       "      <td>1</td>\n",
       "    </tr>\n",
       "    <tr>\n",
       "      <th>91</th>\n",
       "      <td>sr_gathering_march_speed_level</td>\n",
       "      <td>1</td>\n",
       "    </tr>\n",
       "    <tr>\n",
       "      <th>60</th>\n",
       "      <td>sr_cavalry_def_level</td>\n",
       "      <td>1</td>\n",
       "    </tr>\n",
       "    <tr>\n",
       "      <th>56</th>\n",
       "      <td>sr_cavalry_tier_3_level</td>\n",
       "      <td>1</td>\n",
       "    </tr>\n",
       "    <tr>\n",
       "      <th>61</th>\n",
       "      <td>sr_shaman_def_level</td>\n",
       "      <td>1</td>\n",
       "    </tr>\n",
       "    <tr>\n",
       "      <th>62</th>\n",
       "      <td>sr_infantry_hp_level</td>\n",
       "      <td>1</td>\n",
       "    </tr>\n",
       "    <tr>\n",
       "      <th>74</th>\n",
       "      <td>sr_rss_c_prod_level</td>\n",
       "      <td>1</td>\n",
       "    </tr>\n",
       "    <tr>\n",
       "      <th>55</th>\n",
       "      <td>sr_infantry_tier_3_level</td>\n",
       "      <td>0</td>\n",
       "    </tr>\n",
       "    <tr>\n",
       "      <th>68</th>\n",
       "      <td>sr_troop_attack_level</td>\n",
       "      <td>0</td>\n",
       "    </tr>\n",
       "    <tr>\n",
       "      <th>66</th>\n",
       "      <td>sr_cavalry_tier_4_level</td>\n",
       "      <td>0</td>\n",
       "    </tr>\n",
       "    <tr>\n",
       "      <th>67</th>\n",
       "      <td>sr_shaman_tier_4_level</td>\n",
       "      <td>0</td>\n",
       "    </tr>\n",
       "    <tr>\n",
       "      <th>94</th>\n",
       "      <td>sr_march_size_level</td>\n",
       "      <td>0</td>\n",
       "    </tr>\n",
       "    <tr>\n",
       "      <th>95</th>\n",
       "      <td>sr_rss_help_bonus_level</td>\n",
       "      <td>0</td>\n",
       "    </tr>\n",
       "    <tr>\n",
       "      <th>93</th>\n",
       "      <td>sr_guest_troop_capacity_level</td>\n",
       "      <td>0</td>\n",
       "    </tr>\n",
       "    <tr>\n",
       "      <th>92</th>\n",
       "      <td>sr_outpost_tier_4_level</td>\n",
       "      <td>0</td>\n",
       "    </tr>\n",
       "    <tr>\n",
       "      <th>65</th>\n",
       "      <td>sr_infantry_tier_4_level</td>\n",
       "      <td>0</td>\n",
       "    </tr>\n",
       "  </tbody>\n",
       "</table>\n",
       "<p>147 rows × 2 columns</p>\n",
       "</div>"
      ],
      "text/plain": [
       "                                   name  importance\n",
       "102                  avg_online_minutes         728\n",
       "117      building_acceleration_add_rate         626\n",
       "109                      magic_add_rate         602\n",
       "118      reaserch_acceleration_add_rate         573\n",
       "116       general_acceleration_add_rate         571\n",
       "119      training_acceleration_add_rate         553\n",
       "126           price_online_minutes_rate         525\n",
       "29      treatment_acceleraion_add_value         516\n",
       "105                       wood_add_rate         516\n",
       "21       general_acceleration_add_value         507\n",
       "27      training_acceleration_add_value         483\n",
       "108                       meat_add_rate         476\n",
       "124                 pve_win_battle_rate         466\n",
       "7                       magic_add_value         454\n",
       "25      reaserch_acceleration_add_value         440\n",
       "121               pvp_lanch_battle_rate         423\n",
       "24   building_acceleration_reduce_value         421\n",
       "23      building_acceleration_add_value         418\n",
       "107                      ivory_add_rate         416\n",
       "131                  resource_mean_rate         408\n",
       "122                 pvp_win_battle_rate         407\n",
       "22    general_acceleration_reduce_value         404\n",
       "123                  pvp_win_lanch_rate         402\n",
       "103                           pay_price         395\n",
       "26   reaserch_acceleration_reduce_value         394\n",
       "8                    magic_reduce_value         393\n",
       "110                   infantry_add_rate         382\n",
       "112                     shaman_add_rate         368\n",
       "3                       ivory_add_value         357\n",
       "120      treatment_acceleraion_add_rate         354\n",
       "..                                  ...         ...\n",
       "77                sr_rss_b_gather_level          30\n",
       "78                sr_rss_c_gather_level          20\n",
       "73                  sr_rss_b_prod_level          19\n",
       "51               sr_shaman_tier_2_level          16\n",
       "50              sr_cavalry_tier_2_level          16\n",
       "49             sr_infantry_tier_2_level          16\n",
       "81                sr_rss_e_gather_level          15\n",
       "90             sr_pvp_march_speed_level           6\n",
       "63                  sr_cavalry_hp_level           6\n",
       "88              sr_outpost_tier_3_level           5\n",
       "89        sr_alliance_march_speed_level           4\n",
       "57               sr_shaman_tier_3_level           2\n",
       "58               sr_troop_defense_level           2\n",
       "59                sr_infantry_def_level           2\n",
       "64                   sr_shaman_hp_level           1\n",
       "91       sr_gathering_march_speed_level           1\n",
       "60                 sr_cavalry_def_level           1\n",
       "56              sr_cavalry_tier_3_level           1\n",
       "61                  sr_shaman_def_level           1\n",
       "62                 sr_infantry_hp_level           1\n",
       "74                  sr_rss_c_prod_level           1\n",
       "55             sr_infantry_tier_3_level           0\n",
       "68                sr_troop_attack_level           0\n",
       "66              sr_cavalry_tier_4_level           0\n",
       "67               sr_shaman_tier_4_level           0\n",
       "94                  sr_march_size_level           0\n",
       "95              sr_rss_help_bonus_level           0\n",
       "93        sr_guest_troop_capacity_level           0\n",
       "92              sr_outpost_tier_4_level           0\n",
       "65             sr_infantry_tier_4_level           0\n",
       "\n",
       "[147 rows x 2 columns]"
      ]
     },
     "execution_count": 125,
     "metadata": {},
     "output_type": "execute_result"
    }
   ],
   "source": [
    "df_fi=pd.DataFrame()\n",
    "df_fi['name']=lgbm.feature_name()\n",
    "df_fi['importance']=lgbm.feature_importance()\n",
    "df_fi.sort_values(by=['importance'],axis=0,ascending=False)\n",
    "# df_fi.sort_values(by=['importance'])\n"
   ]
  },
  {
   "cell_type": "code",
   "execution_count": 126,
   "metadata": {
    "ExecuteTime": {
     "end_time": "2018-10-12T08:26:08.123060Z",
     "start_time": "2018-10-12T08:26:03.363060Z"
    }
   },
   "outputs": [
    {
     "name": "stderr",
     "output_type": "stream",
     "text": [
      "D:\\ProgramData\\Anaconda3\\lib\\site-packages\\sklearn\\preprocessing\\label.py:151: DeprecationWarning: The truth value of an empty array is ambiguous. Returning False, but in future this will result in an error. Use `array.size > 0` to check that an array is not empty.\n",
      "  if diff:\n"
     ]
    }
   ],
   "source": [
    "model3=XGBClassifier( scoring='f1',n_jobs=4).fit(X_train,y_train)\n",
    "ypred3=model3.predict(X_test)"
   ]
  },
  {
   "cell_type": "code",
   "execution_count": 128,
   "metadata": {
    "ExecuteTime": {
     "end_time": "2018-10-12T08:28:02.385060Z",
     "start_time": "2018-10-12T08:28:02.351060Z"
    }
   },
   "outputs": [
    {
     "name": "stdout",
     "output_type": "stream",
     "text": [
      "准确率 0.809005261225988\n",
      "混淆矩阵 [[5372  506]\n",
      " [1055 1240]]\n",
      "分类报告              precision    recall  f1-score   support\n",
      "\n",
      "          0       0.84      0.91      0.87      5878\n",
      "          1       0.71      0.54      0.61      2295\n",
      "\n",
      "avg / total       0.80      0.81      0.80      8173\n",
      "\n"
     ]
    }
   ],
   "source": [
    "predictions=ypred3\n",
    "print('准确率',accuracy_score(y_test,predictions))\n",
    "print('混淆矩阵',confusion_matrix(y_test,predictions))\n",
    "print('分类报告',classification_report(y_test,predictions))"
   ]
  },
  {
   "cell_type": "code",
   "execution_count": 130,
   "metadata": {
    "ExecuteTime": {
     "end_time": "2018-10-12T08:34:32.837060Z",
     "start_time": "2018-10-12T08:33:47.438060Z"
    }
   },
   "outputs": [
    {
     "name": "stdout",
     "output_type": "stream",
     "text": [
      "Fitting 3 folds for each of 2 candidates, totalling 6 fits\n"
     ]
    },
    {
     "name": "stderr",
     "output_type": "stream",
     "text": [
      "[Parallel(n_jobs=4)]: Done   6 out of   6 | elapsed:   39.4s remaining:    0.0s\n",
      "[Parallel(n_jobs=4)]: Done   6 out of   6 | elapsed:   39.4s finished\n"
     ]
    }
   ],
   "source": [
    "model4 = GridSearchCV(\n",
    "    estimator=lgb.LGBMClassifier( max_bin=128),\n",
    "    param_grid={\n",
    "        'n_estimators': [1000],\n",
    "        'learning_rate': [0.1],\n",
    "        'max_depth': [5],\n",
    "        'subsample': [0.01,0.05],\n",
    "        'colsample_bytree': [0.8],\n",
    "    },\n",
    "    scoring='f1',\n",
    "    cv=3,\n",
    "    n_jobs=4,\n",
    "    verbose=1).fit(X_train,y_train)"
   ]
  },
  {
   "cell_type": "code",
   "execution_count": 131,
   "metadata": {
    "ExecuteTime": {
     "end_time": "2018-10-12T08:36:46.323060Z",
     "start_time": "2018-10-12T08:36:45.958060Z"
    }
   },
   "outputs": [
    {
     "name": "stdout",
     "output_type": "stream",
     "text": [
      "准确率 0.8031322647742567\n",
      "混淆矩阵 [[5301  577]\n",
      " [1032 1263]]\n",
      "分类报告              precision    recall  f1-score   support\n",
      "\n",
      "          0       0.84      0.90      0.87      5878\n",
      "          1       0.69      0.55      0.61      2295\n",
      "\n",
      "avg / total       0.79      0.80      0.80      8173\n",
      "\n"
     ]
    },
    {
     "name": "stderr",
     "output_type": "stream",
     "text": [
      "D:\\ProgramData\\Anaconda3\\lib\\site-packages\\sklearn\\preprocessing\\label.py:151: DeprecationWarning: The truth value of an empty array is ambiguous. Returning False, but in future this will result in an error. Use `array.size > 0` to check that an array is not empty.\n",
      "  if diff:\n"
     ]
    }
   ],
   "source": [
    "ypred4=model4.predict(X_test)\n",
    "predictions=ypred4\n",
    "print('准确率',accuracy_score(y_test,predictions))\n",
    "print('混淆矩阵',confusion_matrix(y_test,predictions))\n",
    "print('分类报告',classification_report(y_test,predictions))"
   ]
  },
  {
   "cell_type": "code",
   "execution_count": null,
   "metadata": {},
   "outputs": [],
   "source": [
    "#################\n",
    "# 经过以上测试,无论 lgb还是xgb,在默认参数下,都不能取得较好的效果\n",
    "#故准备hyperoter搜索最佳参数"
   ]
  },
  {
   "cell_type": "code",
   "execution_count": null,
   "metadata": {},
   "outputs": [],
   "source": []
  },
  {
   "cell_type": "code",
   "execution_count": null,
   "metadata": {},
   "outputs": [],
   "source": []
  },
  {
   "cell_type": "code",
   "execution_count": null,
   "metadata": {},
   "outputs": [],
   "source": []
  },
  {
   "cell_type": "code",
   "execution_count": null,
   "metadata": {},
   "outputs": [],
   "source": []
  },
  {
   "cell_type": "code",
   "execution_count": null,
   "metadata": {},
   "outputs": [],
   "source": []
  },
  {
   "cell_type": "code",
   "execution_count": null,
   "metadata": {},
   "outputs": [],
   "source": []
  },
  {
   "cell_type": "code",
   "execution_count": null,
   "metadata": {},
   "outputs": [],
   "source": []
  },
  {
   "cell_type": "code",
   "execution_count": null,
   "metadata": {},
   "outputs": [],
   "source": []
  },
  {
   "cell_type": "code",
   "execution_count": null,
   "metadata": {},
   "outputs": [],
   "source": []
  },
  {
   "cell_type": "code",
   "execution_count": null,
   "metadata": {},
   "outputs": [],
   "source": []
  },
  {
   "cell_type": "code",
   "execution_count": null,
   "metadata": {},
   "outputs": [],
   "source": []
  }
 ],
 "metadata": {
  "kernelspec": {
   "display_name": "Python 3",
   "language": "python",
   "name": "python3"
  },
  "language_info": {
   "codemirror_mode": {
    "name": "ipython",
    "version": 3
   },
   "file_extension": ".py",
   "mimetype": "text/x-python",
   "name": "python",
   "nbconvert_exporter": "python",
   "pygments_lexer": "ipython3",
   "version": "3.6.3"
  }
 },
 "nbformat": 4,
 "nbformat_minor": 2
}
