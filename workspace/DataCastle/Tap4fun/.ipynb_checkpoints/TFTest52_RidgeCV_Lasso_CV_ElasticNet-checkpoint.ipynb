{
 "cells": [
  {
   "cell_type": "code",
   "execution_count": 23,
   "metadata": {
    "ExecuteTime": {
     "end_time": "2018-09-29T03:33:56.156996Z",
     "start_time": "2018-09-29T03:23:44.642020Z"
    },
    "scrolled": true
   },
   "outputs": [
    {
     "name": "stdout",
     "output_type": "stream",
     "text": [
      "(275717, 109)\n",
      "(275717, 107)\n"
     ]
    },
    {
     "name": "stderr",
     "output_type": "stream",
     "text": [
      "D:\\ProgramData\\Anaconda3\\lib\\site-packages\\sklearn\\linear_model\\coordinate_descent.py:491: ConvergenceWarning: Objective did not converge. You might want to increase the number of iterations. Fitting data with very small alpha may cause precision problems.\n",
      "  ConvergenceWarning)\n"
     ]
    },
    {
     "name": "stdout",
     "output_type": "stream",
     "text": [
      "[ 6.20417558e-07  5.26177183e-06 -9.01406414e-07  2.58730669e-06\n",
      "  1.26297380e-05 -1.98281769e-05 -6.20828489e-07  3.81479221e-07\n",
      "  8.88581620e-07 -1.90037145e-06 -4.27988000e-03  6.40414395e-03\n",
      "  1.55859797e-02 -1.18105184e-02 -7.69854644e-03  8.60990278e-03\n",
      " -5.50771528e-03  3.79048587e-03 -2.52490882e-03 -2.31504390e-03\n",
      "  5.66069890e-04 -2.01501130e-03 -2.87705839e-03  4.14728745e-04\n",
      "  4.31926627e-04 -9.08751381e-03 -3.67890418e-03  2.78464638e-03\n",
      "  9.38689525e-03 -1.09772506e-02  1.09366161e-02 -8.66451167e-02\n",
      "  0.00000000e+00 -0.00000000e+00 -1.71058284e-02 -1.73949967e-01\n",
      " -1.13415193e-01  3.97065469e-01 -3.01812253e-01 -1.97414053e+00\n",
      "  0.00000000e+00  6.63390184e-01 -2.30785762e-01  2.48238629e+00\n",
      " -0.00000000e+00 -0.00000000e+00  0.00000000e+00 -1.15786644e-01\n",
      "  0.00000000e+00 -0.00000000e+00 -2.47359289e+00 -2.98786086e+00\n",
      " -6.80022616e+00  9.47380190e-01  0.00000000e+00  1.96626202e+00\n",
      "  0.00000000e+00  0.00000000e+00  0.00000000e+00 -0.00000000e+00\n",
      " -0.00000000e+00 -0.00000000e+00 -0.00000000e+00 -0.00000000e+00\n",
      "  0.00000000e+00 -0.00000000e+00 -0.00000000e+00 -0.00000000e+00\n",
      " -0.00000000e+00 -0.00000000e+00 -1.77467513e+00  0.00000000e+00\n",
      "  0.00000000e+00 -0.00000000e+00  0.00000000e+00  0.00000000e+00\n",
      "  0.00000000e+00  0.00000000e+00  0.00000000e+00 -0.00000000e+00\n",
      " -0.00000000e+00 -0.00000000e+00  0.00000000e+00  0.00000000e+00\n",
      "  1.77774113e-01 -0.00000000e+00  0.00000000e+00 -0.00000000e+00\n",
      "  0.00000000e+00  0.00000000e+00  0.00000000e+00  0.00000000e+00\n",
      "  0.00000000e+00 -0.00000000e+00  0.00000000e+00 -0.00000000e+00\n",
      " -0.00000000e+00 -8.81690181e-02 -0.00000000e+00  5.84668615e-03\n",
      "  0.00000000e+00  0.00000000e+00 -1.64521950e-01  4.77374396e-02\n",
      "  2.67629696e+00  7.34652352e+00]\n",
      "106\n",
      "['wood_add_value', 'stone_add_value', 'meat_add_value', 'meat_reduce_value', 'magic_add_value', 'bd_training_hut_level', 'bd_healing_lodge_level', 'bd_warehouse_level', 'bd_market_level', 'bd_hero_gacha_level', 'bd_hero_strengthen_level', 'sr_scout_level', 'sr_training_speed_level', 'sr_cavalry_atk_level', 'sr_infantry_tier_3_level', 'sr_cavalry_tier_3_level', 'sr_shaman_tier_3_level', 'sr_troop_defense_level', 'sr_infantry_def_level', 'sr_cavalry_def_level', 'sr_shaman_def_level', 'sr_infantry_hp_level', 'sr_cavalry_hp_level', 'sr_shaman_hp_level', 'sr_infantry_tier_4_level', 'sr_cavalry_tier_4_level', 'sr_shaman_tier_4_level', 'sr_troop_attack_level', 'sr_hide_storage_level', 'sr_troop_consumption_level', 'sr_rss_a_prod_levell', 'sr_rss_b_prod_level', 'sr_rss_c_prod_level', 'sr_rss_d_prod_level', 'sr_rss_a_gather_level', 'sr_rss_b_gather_level', 'sr_rss_c_gather_level', 'sr_rss_d_gather_level', 'sr_troop_load_level', 'sr_rss_e_gather_level', 'sr_rss_e_prod_level', 'sr_outpost_tier_2_level', 'sr_healing_space_level', 'sr_gathering_hunter_buff_level', 'sr_healing_speed_level', 'sr_outpost_tier_3_level', 'sr_alliance_march_speed_level', 'sr_pvp_march_speed_level', 'sr_gathering_march_speed_level', 'sr_outpost_tier_4_level', 'sr_guest_troop_capacity_level', 'sr_march_size_level', 'sr_rss_help_bonus_level', 'pvp_lanch_count', 'pve_battle_count', 'pve_lanch_count']\n",
      "56\n"
     ]
    },
    {
     "data": {
      "text/plain": [
       "200.56181869614113"
      ]
     },
     "execution_count": 23,
     "metadata": {},
     "output_type": "execute_result"
    }
   ],
   "source": [
    "#--**coding:utf-8**--\n",
    "import pandas as pd\n",
    "import numpy as np\n",
    "import copy\n",
    "from sklearn.linear_model import Lasso,LinearRegression,LassoCV\n",
    "from sklearn.linear_model.stochastic_gradient import SGDRegressor\n",
    "from sklearn.ensemble import GradientBoostingRegressor\n",
    "from sklearn.ensemble import RandomForestRegressor\n",
    "from sklearn.svm import SVR\n",
    "from sklearn.model_selection import train_test_split\n",
    "from sklearn.metrics import mean_squared_error, r2_score\n",
    "from sklearn.externals import joblib\n",
    "from sklearn.preprocessing import StandardScaler,MinMaxScaler,Normalizer,scale,MaxAbsScaler\n",
    "\n",
    "min_time=12\n",
    "\n",
    "data = pd.read_csv('F:\\\\study\\\\ml\\\\DataSet\\\\Tap4fun\\\\tap_fun_train.csv',parse_dates = True)\n",
    "data_train = copy.copy(data[data['avg_online_minutes'] >= min_time]) #分析了训练数据情况，处理平均在线时长小于5min的，可预测45天的就为7天内的付费值\n",
    "print(data_train.shape)\n",
    "\n",
    "data_train = data_train.drop(['user_id','register_time'],axis=1)\n",
    "print(data_train.shape)\n",
    "\n",
    "x_train = data_train.loc[:, data_train.columns != 'prediction_pay_price']\n",
    "y_train = data_train.loc[:, data_train.columns == 'prediction_pay_price']\n",
    "\n",
    "model = Lasso() #分析了训练数据，存在大量共线，可使用L1正则化消除共线\n",
    "model.fit(x_train, y_train)\n",
    "print(model.coef_)\n",
    "print (len(model.coef_))\n",
    "\n",
    "none_mean = []\n",
    "for i in range(len(model.coef_)):\n",
    "    if abs(model.coef_[i]) < 1e-06:\n",
    "        none_mean.append(x_train.columns[i])\n",
    "        \n",
    "print(none_mean)\n",
    "print (len(none_mean))\n",
    "\n",
    "x_train_final = x_train.drop(none_mean, axis=1)\n",
    "\n",
    "X_train, X_test, Y_train, Y_test = train_test_split(x_train_final,y_train,test_size = 0.2, random_state = 0)\n",
    "X_test_7pays = X_test['pay_price'].tolist()\n",
    "\n",
    "scaler = StandardScaler(with_mean=False).fit(X_train.values)\n",
    "#scaler = MaxAbsScaler().fit(X_train.values)\n",
    "X_train = scaler.transform(X_train.values)\n",
    "X_test = scaler.transform(X_test.values)\n",
    "\n",
    "SGDModel = GradientBoostingRegressor(n_estimators=1000, learning_rate=0.01)#RandomForestRegressor(n_estimators=500)#LinearRegression()\n",
    "##SGDRegressor()\n",
    "#可使用网格法选参数，然而分出的验证集并不好，可使用k折交叉验证试试\n",
    "SGDModel.fit(X_train, Y_train.values.ravel())\n",
    "joblib.dump(SGDModel,'F:\\\\study\\\\ml\\\\DataSet\\\\Tap4fun\\\\Model\\\\train_model.m')\n",
    "\n",
    "y_pred = SGDModel.predict(X_test)\n",
    "np.sqrt(mean_squared_error(Y_test,y_pred))"
   ]
  },
  {
   "cell_type": "code",
   "execution_count": null,
   "metadata": {
    "ExecuteTime": {
     "end_time": "2018-09-28T06:13:49.228891Z",
     "start_time": "2018-09-28T06:13:49.222891Z"
    }
   },
   "outputs": [],
   "source": [
    "X_test.shape"
   ]
  },
  {
   "cell_type": "code",
   "execution_count": null,
   "metadata": {
    "ExecuteTime": {
     "end_time": "2018-09-28T02:26:40.638076Z",
     "start_time": "2018-09-28T02:26:40.261856Z"
    }
   },
   "outputs": [],
   "source": [
    "# data[data['avg_online_minutes'] >12].shape\n",
    "\n",
    "# data['avg_online_minutes'] .describe()\n",
    "\n",
    "# data['avg_online_minutes'] .describe(percentiles=[0.25,0.5,0.75,0.8,0.9,0.95,0.97,0.975])\n",
    "\n",
    "# data[data['prediction_pay_price'] > 0].shape[0]/data.shape[0]\n",
    "\n",
    "# data[data['prediction_pay_price'] > 0]['avg_online_minutes'].describe()\n",
    "\n",
    "# data[data['pay_price'] > 0]['avg_online_minutes'].describe()\n",
    "\n",
    "# data[data['avg_online_minutes'] >10].shape\n",
    "\n",
    "# data[(data['avg_online_minutes'] >7)  & (data['pay_price'] > 0)].shape\n",
    "\n",
    "# from sklearn.metrics import mean_squared_error\n",
    "\n",
    "# y_pred = SGDModel.predict(X_test)\n",
    "# np.sqrt(mean_squared_error(Y_test,y_pred))\n",
    "\n",
    "# X_test.shape"
   ]
  },
  {
   "cell_type": "code",
   "execution_count": 33,
   "metadata": {
    "ExecuteTime": {
     "end_time": "2018-09-29T06:41:36.981079Z",
     "start_time": "2018-09-29T06:41:20.806153Z"
    }
   },
   "outputs": [
    {
     "name": "stdout",
     "output_type": "stream",
     "text": [
      "[[  2.98]\n",
      " [  0.  ]\n",
      " [160.8 ]\n",
      " ...\n",
      " [  1.98]\n",
      " [  0.  ]\n",
      " [  0.  ]]\n",
      "Root Mean squared error: 200.56\n",
      "Variance score: 0.37\n",
      "(828934, 108)\n"
     ]
    },
    {
     "name": "stderr",
     "output_type": "stream",
     "text": [
      "D:\\ProgramData\\Anaconda3\\lib\\site-packages\\pandas\\core\\frame.py:3781: SettingWithCopyWarning: \n",
      "A value is trying to be set on a copy of a slice from a DataFrame\n",
      "\n",
      "See the caveats in the documentation: http://pandas.pydata.org/pandas-docs/stable/indexing.html#indexing-view-versus-copy\n",
      "  return super(DataFrame, self).rename(**kwargs)\n"
     ]
    },
    {
     "name": "stdout",
     "output_type": "stream",
     "text": [
      "(828934, 2)\n"
     ]
    }
   ],
   "source": [
    "# y_pred = SGDModel.predict(X_test)\n",
    "print (Y_train.values)\n",
    "for i in range(len(y_pred)):\n",
    "    if y_pred[i] < X_test_7pays[i]: #判断45天的预测值若比前7天的还小，则使用前7天的付费金额作为预测值\n",
    "        y_pred[i] = X_test_7pays[i]\n",
    "\n",
    "for i in range(len(y_pred)):\n",
    "    if y_pred[i] < 0:\n",
    "        y_pred[i] = 0\n",
    "#     elif y_pred[i] < 1.4:\n",
    "#         y_pred[i] = 0.99\n",
    "print(\"Root Mean squared error: %.2f\"\n",
    "      % mean_squared_error(Y_test, y_pred) ** 0.5)\n",
    "# Explained variance score: 1 is perfect prediction\n",
    "print('Variance score: %.2f' % r2_score(Y_test, y_pred))\n",
    "\n",
    "data1 = pd.read_csv('F:\\\\study\\\\ml\\\\DataSet\\\\Tap4fun\\\\tap_fun_test.csv',parse_dates=True)\n",
    "print (data1.shape)\n",
    "data_test1 = copy.copy(data1[data1['avg_online_minutes'] < min_time])\n",
    "data_test2 = copy.copy(data1[data1['avg_online_minutes'] >= min_time])\n",
    "data_test2_7pays = data_test2['pay_price'].tolist()\n",
    "\n",
    "#看了训练数据情况，处理平均在线时长小于5min的，可预测45天的就为7天内的付费值\n",
    "data_test_part1 = data_test1[['user_id','pay_price']]\n",
    "data_test_part1.rename(columns={'pay_price':'prediction_pay_price'},inplace = True)\n",
    "data_test_part1.to_csv('F:\\\\study\\\\ml\\\\DataSet\\\\Tap4fun\\\\tap_fun_result_part1.csv')\n",
    "\n",
    "data_test2_id = data_test2['user_id'].values\n",
    "data_test2_id_final = pd.DataFrame(data_test2_id,columns={'user_id'})\n",
    "data_test2 = data_test2.drop(['user_id','register_time'],axis=1)\n",
    "\n",
    "data_test2_final = data_test2.drop(none_mean, axis=1)\n",
    "data_test2_final = scaler.transform(data_test2_final.values)\n",
    "data_test2_pred = SGDModel.predict(data_test2_final)\n",
    "\n",
    "for i in range(len(data_test2_pred)):\n",
    "    if data_test2_pred[i] < data_test2_7pays[i]:\n",
    "        data_test2_pred[i] = data_test2_7pays[i]\n",
    "\n",
    "for i in range(len(data_test2_pred)):\n",
    "    if data_test2_pred[i] < 0:\n",
    "        data_test2_pred[i] = 0\n",
    "#     elif data_test2_pred[i] < 1.4:\n",
    "#         data_test2_pred[i] = 0.99\n",
    "\n",
    "data_test2_pred_howmuch = pd.DataFrame(data_test2_pred,columns={'prediction_pay_price'})\n",
    "\n",
    "data_test2_result = pd.concat([data_test2_id_final,data_test2_pred_howmuch],axis=1)\n",
    "data_test2_result.to_csv('F:\\\\study\\\\ml\\\\DataSet\\\\Tap4fun\\\\tap_fun_result_part2.csv')\n",
    "\n",
    "pred_part1 = pd.read_csv('F:\\\\study\\\\ml\\\\DataSet\\\\Tap4fun\\\\tap_fun_result_part1.csv',index_col=0,parse_dates=True)\n",
    "pred_part2 = pd.read_csv('F:\\\\study\\\\ml\\\\DataSet\\\\Tap4fun\\\\tap_fun_result_part2.csv',index_col=0,parse_dates=True)\n",
    "\n",
    "pred = pred_part1.append(pred_part2)\n",
    "print(pred.shape)\n",
    "pred.to_csv('F:\\\\study\\\\ml\\\\DataSet\\\\Tap4fun\\\\SubMission\\\\pred_result99.csv',index=False)"
   ]
  },
  {
   "cell_type": "code",
   "execution_count": 25,
   "metadata": {
    "ExecuteTime": {
     "end_time": "2018-09-29T05:51:12.340079Z",
     "start_time": "2018-09-29T05:51:12.325078Z"
    }
   },
   "outputs": [],
   "source": [
    "from sklearn.preprocessing import RobustScaler\n",
    "from sklearn.pipeline import make_pipeline\n",
    "from sklearn.linear_model import LinearRegression,LassoCV,RidgeCV,ElasticNetCV\n",
    "import matplotlib.pyplot as plt\n",
    "from sklearn.model_selection import cross_val_score ,KFold"
   ]
  },
  {
   "cell_type": "code",
   "execution_count": 26,
   "metadata": {
    "ExecuteTime": {
     "end_time": "2018-09-29T05:57:07.326383Z",
     "start_time": "2018-09-29T05:51:17.338365Z"
    }
   },
   "outputs": [],
   "source": [
    "kfolds=KFold(n_splits=10,shuffle=True,random_state=13)\n",
    "\n",
    "def cv_rmse(model):\n",
    "    rmse=np.sqrt(-cross_val_score(model,X_train,Y_train,scoring='neg_mean_squared_error',cv=kfolds,n_jobs=4))\n",
    "    return rmse\n",
    "    \n",
    "\n",
    "r_alphas=[0.01,0.1,0.5,1,5,10,50,100,500,1000]\n",
    "def ridge_k(k):\n",
    "    rmse_k=make_pipeline(RobustScaler(),\n",
    "                         RidgeCV(alphas=[k],cv=kfolds)).fit(X_train,Y_train)\n",
    "    return cv_rmse(rmse_k).mean()\n",
    "\n",
    "r_scores=[]\n",
    "for i in r_alphas:\n",
    "    score=ridge_k(i)\n",
    "    r_scores.append(score)\n",
    "\n",
    "\n"
   ]
  },
  {
   "cell_type": "code",
   "execution_count": 27,
   "metadata": {
    "ExecuteTime": {
     "end_time": "2018-09-29T05:57:07.332383Z",
     "start_time": "2018-09-29T05:57:07.328383Z"
    }
   },
   "outputs": [],
   "source": [
    "r_score=pd.DataFrame(list(zip(r_alphas,r_scores)),columns=['alpha','rmse'])"
   ]
  },
  {
   "cell_type": "code",
   "execution_count": 16,
   "metadata": {
    "ExecuteTime": {
     "end_time": "2018-09-28T08:19:08.251955Z",
     "start_time": "2018-09-28T08:19:08.244954Z"
    }
   },
   "outputs": [],
   "source": [
    "# plt.plot(r_score.alpha,r_score.rmse)\n",
    "# plt.show()"
   ]
  },
  {
   "cell_type": "code",
   "execution_count": 28,
   "metadata": {
    "ExecuteTime": {
     "end_time": "2018-09-29T05:58:57.962711Z",
     "start_time": "2018-09-29T05:58:22.731696Z"
    }
   },
   "outputs": [
    {
     "data": {
      "text/plain": [
       "175.3810033715518"
      ]
     },
     "execution_count": 28,
     "metadata": {},
     "output_type": "execute_result"
    }
   ],
   "source": [
    "r_model=make_pipeline(RobustScaler(),\n",
    "                     RidgeCV(alphas=[1000],cv=kfolds)).fit(X_train,Y_train)\n",
    "cv_rmse(r_model).mean()"
   ]
  },
  {
   "cell_type": "code",
   "execution_count": 29,
   "metadata": {
    "ExecuteTime": {
     "end_time": "2018-09-29T06:01:48.290453Z",
     "start_time": "2018-09-29T06:01:48.228450Z"
    }
   },
   "outputs": [
    {
     "data": {
      "text/plain": [
       "176.11275801254973"
      ]
     },
     "execution_count": 29,
     "metadata": {},
     "output_type": "execute_result"
    }
   ],
   "source": [
    "r_pred=r_model.predict(X_test)\n",
    "np.sqrt(mean_squared_error(Y_test,r_pred))"
   ]
  },
  {
   "cell_type": "code",
   "execution_count": 30,
   "metadata": {
    "ExecuteTime": {
     "end_time": "2018-09-29T06:03:18.477612Z",
     "start_time": "2018-09-29T06:01:58.747051Z"
    }
   },
   "outputs": [
    {
     "name": "stderr",
     "output_type": "stream",
     "text": [
      "D:\\ProgramData\\Anaconda3\\lib\\site-packages\\sklearn\\linear_model\\coordinate_descent.py:1094: DataConversionWarning: A column-vector y was passed when a 1d array was expected. Please change the shape of y to (n_samples, ), for example using ravel().\n",
      "  y = column_or_1d(y, warn=True)\n",
      "D:\\ProgramData\\Anaconda3\\lib\\site-packages\\sklearn\\linear_model\\coordinate_descent.py:491: ConvergenceWarning: Objective did not converge. You might want to increase the number of iterations. Fitting data with very small alpha may cause precision problems.\n",
      "  ConvergenceWarning)\n",
      "D:\\ProgramData\\Anaconda3\\lib\\site-packages\\sklearn\\linear_model\\coordinate_descent.py:491: ConvergenceWarning: Objective did not converge. You might want to increase the number of iterations. Fitting data with very small alpha may cause precision problems.\n",
      "  ConvergenceWarning)\n"
     ]
    }
   ],
   "source": [
    "l_alpha = [ 0.0001,0.0002,0.0004,0.0007, 0.0008,0.001]\n",
    "l_model=make_pipeline(RobustScaler(),\n",
    "                     LassoCV(alphas=l_alpha,max_iter=5000,cv=kfolds)).fit(X_train,Y_train)\n"
   ]
  },
  {
   "cell_type": "code",
   "execution_count": 31,
   "metadata": {
    "ExecuteTime": {
     "end_time": "2018-09-29T06:37:45.080815Z",
     "start_time": "2018-09-29T06:05:32.450274Z"
    }
   },
   "outputs": [
    {
     "data": {
      "text/plain": [
       "175.5251501815137"
      ]
     },
     "execution_count": 31,
     "metadata": {},
     "output_type": "execute_result"
    }
   ],
   "source": [
    "cv_rmse(l_model).mean()"
   ]
  },
  {
   "cell_type": "code",
   "execution_count": 21,
   "metadata": {
    "ExecuteTime": {
     "end_time": "2018-09-28T21:55:54.414947Z",
     "start_time": "2018-09-28T14:17:24.643478Z"
    }
   },
   "outputs": [
    {
     "name": "stderr",
     "output_type": "stream",
     "text": [
      "D:\\ProgramData\\Anaconda3\\lib\\site-packages\\sklearn\\linear_model\\coordinate_descent.py:1094: DataConversionWarning: A column-vector y was passed when a 1d array was expected. Please change the shape of y to (n_samples, ), for example using ravel().\n",
      "  y = column_or_1d(y, warn=True)\n"
     ]
    },
    {
     "data": {
      "text/plain": [
       "178.59660971556212"
      ]
     },
     "execution_count": 21,
     "metadata": {},
     "output_type": "execute_result"
    }
   ],
   "source": [
    "# e_alphas = [0.00001,0.00005,0.0001, 0.0002, 0.0003, 0.0004, 0.0005, 0.0006, 0.0007]\n",
    "# e_l1ratio = [0.1,0.2,0.3,0.4,0.5,0.6,0.7,0.8, 0.85, 0.9, 0.95, 0.99, 1]\n",
    "\n",
    "# elastic_model=make_pipeline(RobustScaler(),\n",
    "#                         ElasticNetCV(max_iter=1e5,alphas=e_alphas,l1_ratio=e_l1ratio,cv=kfolds)).fit(X_train,Y_train)\n",
    "\n",
    "# cv_rmse(elastic_model).mean()"
   ]
  },
  {
   "cell_type": "code",
   "execution_count": 32,
   "metadata": {
    "ExecuteTime": {
     "end_time": "2018-09-29T06:39:10.664710Z",
     "start_time": "2018-09-29T06:39:06.949497Z"
    }
   },
   "outputs": [
    {
     "name": "stdout",
     "output_type": "stream",
     "text": [
      "(828934, 2)\n"
     ]
    }
   ],
   "source": [
    "data_test2_pred = l_model.predict(data_test2_final)\n",
    "\n",
    "for i in range(len(data_test2_pred)):\n",
    "    if data_test2_pred[i] < data_test2_7pays[i]:\n",
    "        data_test2_pred[i] = data_test2_7pays[i]\n",
    "\n",
    "for i in range(len(data_test2_pred)):\n",
    "    if data_test2_pred[i] < 0:\n",
    "        data_test2_pred[i] = 0\n",
    "#     elif data_test2_pred[i] < 1.4:\n",
    "#         data_test2_pred[i] = 0.99\n",
    "\n",
    "data_test2_pred_howmuch = pd.DataFrame(data_test2_pred,columns={'prediction_pay_price'})\n",
    "\n",
    "data_test2_result = pd.concat([data_test2_id_final,data_test2_pred_howmuch],axis=1)\n",
    "data_test2_result.to_csv('F:\\\\study\\\\ml\\\\DataSet\\\\Tap4fun\\\\tap_fun_result_part2.csv')\n",
    "\n",
    "pred_part1 = pd.read_csv('F:\\\\study\\\\ml\\\\DataSet\\\\Tap4fun\\\\tap_fun_result_part1.csv',index_col=0,parse_dates=True)\n",
    "pred_part2 = pd.read_csv('F:\\\\study\\\\ml\\\\DataSet\\\\Tap4fun\\\\tap_fun_result_part2.csv',index_col=0,parse_dates=True)\n",
    "\n",
    "pred = pred_part1.append(pred_part2)\n",
    "print(pred.shape)\n",
    "pred.to_csv('F:\\\\study\\\\ml\\\\DataSet\\\\Tap4fun\\\\SubMission\\\\pred_result9.csv',index=False)"
   ]
  },
  {
   "cell_type": "code",
   "execution_count": null,
   "metadata": {},
   "outputs": [],
   "source": []
  },
  {
   "cell_type": "code",
   "execution_count": null,
   "metadata": {},
   "outputs": [],
   "source": []
  }
 ],
 "metadata": {
  "kernelspec": {
   "display_name": "Python 3",
   "language": "python",
   "name": "python3"
  },
  "language_info": {
   "codemirror_mode": {
    "name": "ipython",
    "version": 3
   },
   "file_extension": ".py",
   "mimetype": "text/x-python",
   "name": "python",
   "nbconvert_exporter": "python",
   "pygments_lexer": "ipython3",
   "version": "3.6.3"
  }
 },
 "nbformat": 4,
 "nbformat_minor": 2
}
