{
 "cells": [
  {
   "cell_type": "code",
   "execution_count": null,
   "metadata": {
    "ExecuteTime": {
     "end_time": "2018-10-18T06:15:31.672552Z",
     "start_time": "2018-10-18T06:15:29.109405Z"
    }
   },
   "outputs": [],
   "source": [
    "import numpy as np\n",
    "import pandas as pd\n",
    "from matplotlib import pyplot as plt\n",
    "import seaborn as sns\n",
    "from scipy.stats import norm ,skew,kurtosis\n",
    "from sklearn.preprocessing import StandardScaler\n",
    "from sklearn.metrics import make_scorer,mean_squared_error"
   ]
  },
  {
   "cell_type": "code",
   "execution_count": null,
   "metadata": {
    "ExecuteTime": {
     "end_time": "2018-10-18T06:15:53.981828Z",
     "start_time": "2018-10-18T06:15:31.674552Z"
    }
   },
   "outputs": [],
   "source": [
    "df_train=pd.read_csv('F:\\\\study\\\\ml\\\\DataSet\\\\Tap4fun\\\\tap_fun_train.csv')"
   ]
  },
  {
   "cell_type": "code",
   "execution_count": null,
   "metadata": {
    "ExecuteTime": {
     "end_time": "2018-10-18T06:16:06.333534Z",
     "start_time": "2018-10-18T06:15:53.984828Z"
    }
   },
   "outputs": [],
   "source": [
    "c_int=df_train.select_dtypes(include=['int64']).apply(pd.to_numeric,downcast='unsigned')\n",
    "c_float=df_train.select_dtypes(include=['float']).apply(pd.to_numeric,downcast='float')"
   ]
  },
  {
   "cell_type": "code",
   "execution_count": null,
   "metadata": {
    "ExecuteTime": {
     "end_time": "2018-10-18T06:16:06.920568Z",
     "start_time": "2018-10-18T06:16:06.335534Z"
    }
   },
   "outputs": [],
   "source": [
    "o_df=pd.concat([c_int,c_float],axis=1)\n",
    "column_type=dict(o_df.dtypes.copy())\n",
    "del o_df,c_int,c_float,df_train"
   ]
  },
  {
   "cell_type": "code",
   "execution_count": null,
   "metadata": {
    "ExecuteTime": {
     "end_time": "2018-10-18T06:16:34.149125Z",
     "start_time": "2018-10-18T06:16:06.922568Z"
    }
   },
   "outputs": [],
   "source": [
    "data_train=pd.read_csv('F:\\\\study\\\\ml\\\\DataSet\\\\Tap4fun\\\\tap_fun_train.csv',\n",
    "                      dtype=column_type,parse_dates=['register_time'],infer_datetime_format=True)\n",
    "\n",
    "data_test=pd.read_csv('F:\\\\study\\\\ml\\\\DataSet\\\\Tap4fun\\\\tap_fun_test.csv',\n",
    "                      dtype=column_type,parse_dates=['register_time'],infer_datetime_format=True)"
   ]
  },
  {
   "cell_type": "code",
   "execution_count": null,
   "metadata": {
    "ExecuteTime": {
     "end_time": "2018-10-18T06:16:34.453143Z",
     "start_time": "2018-10-18T06:16:34.150125Z"
    }
   },
   "outputs": [],
   "source": [
    "data_train.rename(columns={'treatment_acceleraion_add_value':'treatment_acceleration_add_value',\\\n",
    "                          'sr_rss_a_prod_levell':'sr_rss_a_prod_level'} ,inplace=True)\n",
    "\n",
    "data_test.rename(columns={'treatment_acceleraion_add_value':'treatment_acceleration_add_value',\\\n",
    "                          'sr_rss_a_prod_levell':'sr_rss_a_prod_level'} ,inplace=True)"
   ]
  },
  {
   "cell_type": "code",
   "execution_count": null,
   "metadata": {
    "ExecuteTime": {
     "end_time": "2018-10-18T06:16:34.933170Z",
     "start_time": "2018-10-18T06:16:34.455143Z"
    }
   },
   "outputs": [],
   "source": [
    "train_user=data_train.iloc[:,:2]\n",
    "train_data=data_train.iloc[:,2:]"
   ]
  },
  {
   "cell_type": "code",
   "execution_count": 8,
   "metadata": {
    "ExecuteTime": {
     "end_time": "2018-10-18T06:16:38.587379Z",
     "start_time": "2018-10-18T06:16:38.240359Z"
    }
   },
   "outputs": [],
   "source": [
    "column_name=train_data.columns.values[:32].tolist()\n",
    "for i in range(len(column_name)):\n",
    "    if (i+2) % 2 == 0 :\n",
    "        name=column_name[i].replace('value','rate')\n",
    "        #print(name)\n",
    "        train_data[name]=train_data[column_name[i]] / (train_data[column_name[i+1]]+1)"
   ]
  },
  {
   "cell_type": "code",
   "execution_count": 9,
   "metadata": {
    "ExecuteTime": {
     "end_time": "2018-10-18T06:16:40.404483Z",
     "start_time": "2018-10-18T06:16:40.223473Z"
    }
   },
   "outputs": [],
   "source": [
    "train_data['pvp_lanch_battle_rate']=train_data['pvp_battle_count']/(train_data['pvp_lanch_count']+1)\n",
    "train_data['pvp_win_battle_rate']=train_data['pvp_battle_count']/(train_data['pvp_win_count']+1)\n",
    "train_data['pvp_win_lanch_rate']=train_data['pvp_lanch_count']/(train_data['pvp_win_count']+1)\n",
    "train_data['pve_win_battle_rate']=train_data['pvp_battle_count']/(train_data['pve_win_count']+1)\n",
    "train_data['pay_price_rate']=train_data['pay_count']/(train_data['pay_price']+1)\n",
    "train_data['price_online_minutes_rate']=train_data['avg_online_minutes']/(train_data['pay_price']+1)"
   ]
  },
  {
   "cell_type": "code",
   "execution_count": 10,
   "metadata": {
    "ExecuteTime": {
     "end_time": "2018-10-18T06:52:28.373340Z",
     "start_time": "2018-10-18T06:16:51.615124Z"
    }
   },
   "outputs": [],
   "source": [
    "train_data['resource_add_mean']=train_data.iloc[:,[0,2,4,6,8]].apply(lambda x:x.mean(),axis=1)\n",
    "train_data['resource_add_med']=train_data.iloc[:,[0,2,4,6,8]].apply(lambda x:x.median(),axis=1)\n",
    "train_data['resource_reduce_mean']=train_data.iloc[:,[1, 3, 5, 7, 9]].apply(lambda x:x.mean(),axis=1)\n",
    "train_data['resource_reduce_med']=train_data.iloc[:,[1, 3, 5, 7, 9]].apply(lambda x:x.median(),axis=1)\n",
    "\n",
    "train_data['resource_mean_rate']=train_data['resource_reduce_mean']/(train_data['resource_add_mean']+1)\n",
    "train_data['resource_med_rate']=train_data['resource_reduce_med']/(train_data['resource_add_med']+1)\n",
    "\n",
    "train_data['army_add_mean']=train_data.iloc[:,[10, 12, 14]].apply(lambda x:x.mean(),axis=1)\n",
    "train_data['army_add_med']=train_data.iloc[:,[10, 12, 14]].apply(lambda x:x.median(),axis=1)\n",
    "train_data['army_reduce_mean']=train_data.iloc[:,[11, 13, 15]].apply(lambda x:x.mean(),axis=1)\n",
    "train_data['army_reduce_med']=train_data.iloc[:,[11, 13, 15]].apply(lambda x:x.median(),axis=1)\n",
    "\n",
    "train_data['army_mean_rate']=train_data['army_reduce_mean']/(train_data['army_add_mean']+1)\n",
    "train_data['army_med_rate']=train_data['army_reduce_med']/(train_data['army_add_med']+1)\n",
    "\n",
    "train_data['wound_add_mean'] = train_data.iloc[:, [16, 18, 20]].apply(lambda x: x.mean(), axis=1)\n",
    "train_data['wound_add_med'] = train_data.iloc[:, [16, 18, 20]].apply(lambda x: x.median(), axis=1)\n",
    "train_data['wound_reduce_mean'] = train_data.iloc[:, [17, 19, 21]].apply(lambda x: x.mean(), axis=1)\n",
    "train_data['wound_reduce_med'] = train_data.iloc[:, [17, 19, 21]].apply(lambda x: x.median(), axis=1)\n",
    "\n",
    "train_data['wound_mean_rate']=train_data['wound_reduce_mean']/(train_data['wound_add_mean']+1)\n",
    "train_data['wound_med_rate']=train_data['wound_reduce_med']/(train_data['wound_add_med']+1)\n",
    "\n",
    "train_data['accelerate_add_mean'] = train_data.iloc[:, [22, 24, 26, 28, 30]].apply(lambda x: x.mean(), axis=1)\n",
    "train_data['accelerate_add_med'] = train_data.iloc[:, [22, 24, 26, 28, 30]].apply(lambda x: x.median(), axis=1)\n",
    "train_data['accelerate_reduce_mean'] = train_data.iloc[:, [23, 25, 27, 29, 31]].apply(lambda x: x.mean(), axis=1)\n",
    "train_data['accelerate_reduce_med'] = train_data.iloc[:, [23, 25, 27, 29, 31]].apply(lambda x: x.median(), axis=1)\n",
    "\n",
    "train_data['accelerate_mean_rate']=train_data['accelerate_reduce_mean']/(train_data['accelerate_add_mean']+1)\n",
    "train_data['accelerate_med_rate']=train_data['accelerate_reduce_med']/(train_data['accelerate_add_med']+1)"
   ]
  },
  {
   "cell_type": "code",
   "execution_count": 11,
   "metadata": {
    "ExecuteTime": {
     "end_time": "2018-10-18T07:04:16.090819Z",
     "start_time": "2018-10-18T07:03:50.356347Z"
    }
   },
   "outputs": [],
   "source": [
    "train_user['register_time_month']=pd.to_numeric(train_user.register_time.apply(lambda x:str(x)).str[5:7])\n",
    "train_user['register_time_day']=pd.to_numeric(train_user.register_time.apply(lambda x:str(x)).str[8:10])\n",
    "train_user.drop(labels=['register_time'],axis=1,inplace=True)\n",
    "train_user['register_time_count']=train_user['register_time_month']*31+train_user['register_time_day']\n",
    "\n",
    "train_data['register_time_month']=train_user['register_time_month']\n",
    "train_data['register_time_day']=train_user['register_time_day']\n",
    "train_data['register_time_count']=train_user['register_time_count']"
   ]
  },
  {
   "cell_type": "code",
   "execution_count": 12,
   "metadata": {
    "ExecuteTime": {
     "end_time": "2018-10-18T07:06:21.433988Z",
     "start_time": "2018-10-18T07:06:20.644943Z"
    }
   },
   "outputs": [],
   "source": [
    "train = train_data[train_data['pay_price'] > 0]"
   ]
  },
  {
   "cell_type": "code",
   "execution_count": 13,
   "metadata": {
    "ExecuteTime": {
     "end_time": "2018-10-18T07:06:25.024193Z",
     "start_time": "2018-10-18T07:06:24.761178Z"
    }
   },
   "outputs": [
    {
     "name": "stderr",
     "output_type": "stream",
     "text": [
      "D:\\ProgramData\\Anaconda3\\lib\\site-packages\\ipykernel_launcher.py:1: SettingWithCopyWarning: \n",
      "A value is trying to be set on a copy of a slice from a DataFrame.\n",
      "Try using .loc[row_indexer,col_indexer] = value instead\n",
      "\n",
      "See the caveats in the documentation: http://pandas.pydata.org/pandas-docs/stable/indexing.html#indexing-view-versus-copy\n",
      "  \"\"\"Entry point for launching an IPython kernel.\n",
      "D:\\ProgramData\\Anaconda3\\lib\\site-packages\\ipykernel_launcher.py:2: SettingWithCopyWarning: \n",
      "A value is trying to be set on a copy of a slice from a DataFrame.\n",
      "Try using .loc[row_indexer,col_indexer] = value instead\n",
      "\n",
      "See the caveats in the documentation: http://pandas.pydata.org/pandas-docs/stable/indexing.html#indexing-view-versus-copy\n",
      "  \n",
      "D:\\ProgramData\\Anaconda3\\lib\\site-packages\\ipykernel_launcher.py:3: SettingWithCopyWarning: \n",
      "A value is trying to be set on a copy of a slice from a DataFrame.\n",
      "Try using .loc[row_indexer,col_indexer] = value instead\n",
      "\n",
      "See the caveats in the documentation: http://pandas.pydata.org/pandas-docs/stable/indexing.html#indexing-view-versus-copy\n",
      "  This is separate from the ipykernel package so we can avoid doing imports until\n",
      "D:\\ProgramData\\Anaconda3\\lib\\site-packages\\ipykernel_launcher.py:4: SettingWithCopyWarning: \n",
      "A value is trying to be set on a copy of a slice from a DataFrame.\n",
      "Try using .loc[row_indexer,col_indexer] = value instead\n",
      "\n",
      "See the caveats in the documentation: http://pandas.pydata.org/pandas-docs/stable/indexing.html#indexing-view-versus-copy\n",
      "  after removing the cwd from sys.path.\n"
     ]
    }
   ],
   "source": [
    "train['new_pay_label']=train['prediction_pay_price']!=train['pay_price']\n",
    "train['new_pay_label']=train['new_pay_label'].map({True:1,False:0})\n",
    "train['new_pay_price']=train['prediction_pay_price']-train['pay_price']\n",
    "train['new_pay_rate']=(train['prediction_pay_price']-train['pay_price'])/train['pay_price']"
   ]
  },
  {
   "cell_type": "code",
   "execution_count": 39,
   "metadata": {
    "ExecuteTime": {
     "end_time": "2018-10-18T07:35:47.747015Z",
     "start_time": "2018-10-18T07:35:47.696012Z"
    }
   },
   "outputs": [
    {
     "data": {
      "text/html": [
       "<div>\n",
       "<style scoped>\n",
       "    .dataframe tbody tr th:only-of-type {\n",
       "        vertical-align: middle;\n",
       "    }\n",
       "\n",
       "    .dataframe tbody tr th {\n",
       "        vertical-align: top;\n",
       "    }\n",
       "\n",
       "    .dataframe thead th {\n",
       "        text-align: right;\n",
       "    }\n",
       "</style>\n",
       "<table border=\"1\" class=\"dataframe\">\n",
       "  <thead>\n",
       "    <tr style=\"text-align: right;\">\n",
       "      <th></th>\n",
       "      <th>wood_add_value</th>\n",
       "      <th>wood_reduce_value</th>\n",
       "      <th>stone_add_value</th>\n",
       "      <th>stone_reduce_value</th>\n",
       "      <th>ivory_add_value</th>\n",
       "      <th>ivory_reduce_value</th>\n",
       "      <th>meat_add_value</th>\n",
       "      <th>meat_reduce_value</th>\n",
       "      <th>magic_add_value</th>\n",
       "      <th>magic_reduce_value</th>\n",
       "      <th>...</th>\n",
       "      <th>accelerate_reduce_mean</th>\n",
       "      <th>accelerate_reduce_med</th>\n",
       "      <th>accelerate_mean_rate</th>\n",
       "      <th>accelerate_med_rate</th>\n",
       "      <th>register_time_month</th>\n",
       "      <th>register_time_day</th>\n",
       "      <th>register_time_count</th>\n",
       "      <th>new_pay_label</th>\n",
       "      <th>new_pay_price</th>\n",
       "      <th>new_pay_rate</th>\n",
       "    </tr>\n",
       "  </thead>\n",
       "  <tbody>\n",
       "    <tr>\n",
       "      <th>25</th>\n",
       "      <td>30000.0</td>\n",
       "      <td>97200.0</td>\n",
       "      <td>20000.0</td>\n",
       "      <td>0.0</td>\n",
       "      <td>0.0</td>\n",
       "      <td>0.0</td>\n",
       "      <td>160500.0</td>\n",
       "      <td>80392.0</td>\n",
       "      <td>12000.0</td>\n",
       "      <td>0.0</td>\n",
       "      <td>...</td>\n",
       "      <td>0.0</td>\n",
       "      <td>0.0</td>\n",
       "      <td>0.000000</td>\n",
       "      <td>0.000000</td>\n",
       "      <td>1</td>\n",
       "      <td>26</td>\n",
       "      <td>57</td>\n",
       "      <td>0</td>\n",
       "      <td>0.00</td>\n",
       "      <td>0.000000</td>\n",
       "    </tr>\n",
       "    <tr>\n",
       "      <th>40</th>\n",
       "      <td>1111744.0</td>\n",
       "      <td>1137687.0</td>\n",
       "      <td>491331.0</td>\n",
       "      <td>790208.0</td>\n",
       "      <td>77000.0</td>\n",
       "      <td>0.0</td>\n",
       "      <td>1457249.0</td>\n",
       "      <td>708483.0</td>\n",
       "      <td>217455.0</td>\n",
       "      <td>162987.0</td>\n",
       "      <td>...</td>\n",
       "      <td>322.8</td>\n",
       "      <td>500.0</td>\n",
       "      <td>0.510598</td>\n",
       "      <td>0.807754</td>\n",
       "      <td>1</td>\n",
       "      <td>26</td>\n",
       "      <td>57</td>\n",
       "      <td>1</td>\n",
       "      <td>1.99</td>\n",
       "      <td>0.670034</td>\n",
       "    </tr>\n",
       "    <tr>\n",
       "      <th>47</th>\n",
       "      <td>249050.0</td>\n",
       "      <td>173248.0</td>\n",
       "      <td>70841.0</td>\n",
       "      <td>117012.0</td>\n",
       "      <td>55000.0</td>\n",
       "      <td>0.0</td>\n",
       "      <td>206366.0</td>\n",
       "      <td>82205.0</td>\n",
       "      <td>29902.0</td>\n",
       "      <td>88064.0</td>\n",
       "      <td>...</td>\n",
       "      <td>415.8</td>\n",
       "      <td>0.0</td>\n",
       "      <td>1.825285</td>\n",
       "      <td>0.000000</td>\n",
       "      <td>1</td>\n",
       "      <td>26</td>\n",
       "      <td>57</td>\n",
       "      <td>0</td>\n",
       "      <td>0.00</td>\n",
       "      <td>0.000000</td>\n",
       "    </tr>\n",
       "    <tr>\n",
       "      <th>86</th>\n",
       "      <td>0.0</td>\n",
       "      <td>0.0</td>\n",
       "      <td>0.0</td>\n",
       "      <td>0.0</td>\n",
       "      <td>0.0</td>\n",
       "      <td>0.0</td>\n",
       "      <td>0.0</td>\n",
       "      <td>0.0</td>\n",
       "      <td>0.0</td>\n",
       "      <td>0.0</td>\n",
       "      <td>...</td>\n",
       "      <td>0.0</td>\n",
       "      <td>0.0</td>\n",
       "      <td>0.000000</td>\n",
       "      <td>0.000000</td>\n",
       "      <td>1</td>\n",
       "      <td>26</td>\n",
       "      <td>57</td>\n",
       "      <td>0</td>\n",
       "      <td>0.00</td>\n",
       "      <td>0.000000</td>\n",
       "    </tr>\n",
       "    <tr>\n",
       "      <th>119</th>\n",
       "      <td>0.0</td>\n",
       "      <td>0.0</td>\n",
       "      <td>0.0</td>\n",
       "      <td>0.0</td>\n",
       "      <td>0.0</td>\n",
       "      <td>0.0</td>\n",
       "      <td>0.0</td>\n",
       "      <td>0.0</td>\n",
       "      <td>0.0</td>\n",
       "      <td>0.0</td>\n",
       "      <td>...</td>\n",
       "      <td>0.0</td>\n",
       "      <td>0.0</td>\n",
       "      <td>0.000000</td>\n",
       "      <td>0.000000</td>\n",
       "      <td>1</td>\n",
       "      <td>26</td>\n",
       "      <td>57</td>\n",
       "      <td>0</td>\n",
       "      <td>0.00</td>\n",
       "      <td>0.000000</td>\n",
       "    </tr>\n",
       "  </tbody>\n",
       "</table>\n",
       "<p>5 rows × 159 columns</p>\n",
       "</div>"
      ],
      "text/plain": [
       "     wood_add_value  wood_reduce_value  stone_add_value  stone_reduce_value  \\\n",
       "25          30000.0            97200.0          20000.0                 0.0   \n",
       "40        1111744.0          1137687.0         491331.0            790208.0   \n",
       "47         249050.0           173248.0          70841.0            117012.0   \n",
       "86              0.0                0.0              0.0                 0.0   \n",
       "119             0.0                0.0              0.0                 0.0   \n",
       "\n",
       "     ivory_add_value  ivory_reduce_value  meat_add_value  meat_reduce_value  \\\n",
       "25               0.0                 0.0        160500.0            80392.0   \n",
       "40           77000.0                 0.0       1457249.0           708483.0   \n",
       "47           55000.0                 0.0        206366.0            82205.0   \n",
       "86               0.0                 0.0             0.0                0.0   \n",
       "119              0.0                 0.0             0.0                0.0   \n",
       "\n",
       "     magic_add_value  magic_reduce_value      ...       \\\n",
       "25           12000.0                 0.0      ...        \n",
       "40          217455.0            162987.0      ...        \n",
       "47           29902.0             88064.0      ...        \n",
       "86               0.0                 0.0      ...        \n",
       "119              0.0                 0.0      ...        \n",
       "\n",
       "     accelerate_reduce_mean  accelerate_reduce_med  accelerate_mean_rate  \\\n",
       "25                      0.0                    0.0              0.000000   \n",
       "40                    322.8                  500.0              0.510598   \n",
       "47                    415.8                    0.0              1.825285   \n",
       "86                      0.0                    0.0              0.000000   \n",
       "119                     0.0                    0.0              0.000000   \n",
       "\n",
       "     accelerate_med_rate  register_time_month  register_time_day  \\\n",
       "25              0.000000                    1                 26   \n",
       "40              0.807754                    1                 26   \n",
       "47              0.000000                    1                 26   \n",
       "86              0.000000                    1                 26   \n",
       "119             0.000000                    1                 26   \n",
       "\n",
       "     register_time_count  new_pay_label  new_pay_price  new_pay_rate  \n",
       "25                    57              0           0.00      0.000000  \n",
       "40                    57              1           1.99      0.670034  \n",
       "47                    57              0           0.00      0.000000  \n",
       "86                    57              0           0.00      0.000000  \n",
       "119                   57              0           0.00      0.000000  \n",
       "\n",
       "[5 rows x 159 columns]"
      ]
     },
     "execution_count": 39,
     "metadata": {},
     "output_type": "execute_result"
    }
   ],
   "source": [
    "train.head()"
   ]
  },
  {
   "cell_type": "code",
   "execution_count": 40,
   "metadata": {
    "ExecuteTime": {
     "end_time": "2018-10-18T07:36:29.396398Z",
     "start_time": "2018-10-18T07:36:29.329394Z"
    }
   },
   "outputs": [
    {
     "data": {
      "text/html": [
       "<div>\n",
       "<style scoped>\n",
       "    .dataframe tbody tr th:only-of-type {\n",
       "        vertical-align: middle;\n",
       "    }\n",
       "\n",
       "    .dataframe tbody tr th {\n",
       "        vertical-align: top;\n",
       "    }\n",
       "\n",
       "    .dataframe thead th {\n",
       "        text-align: right;\n",
       "    }\n",
       "</style>\n",
       "<table border=\"1\" class=\"dataframe\">\n",
       "  <thead>\n",
       "    <tr style=\"text-align: right;\">\n",
       "      <th></th>\n",
       "      <th>wood_reduce_value</th>\n",
       "      <th>stone_add_value</th>\n",
       "      <th>stone_reduce_value</th>\n",
       "      <th>ivory_add_value</th>\n",
       "      <th>ivory_reduce_value</th>\n",
       "      <th>meat_add_value</th>\n",
       "      <th>meat_reduce_value</th>\n",
       "      <th>magic_add_value</th>\n",
       "      <th>magic_reduce_value</th>\n",
       "      <th>infantry_add_value</th>\n",
       "      <th>...</th>\n",
       "      <th>wound_med_rate</th>\n",
       "      <th>accelerate_add_mean</th>\n",
       "      <th>accelerate_add_med</th>\n",
       "      <th>accelerate_reduce_mean</th>\n",
       "      <th>accelerate_reduce_med</th>\n",
       "      <th>accelerate_mean_rate</th>\n",
       "      <th>accelerate_med_rate</th>\n",
       "      <th>register_time_month</th>\n",
       "      <th>register_time_day</th>\n",
       "      <th>register_time_count</th>\n",
       "    </tr>\n",
       "  </thead>\n",
       "  <tbody>\n",
       "    <tr>\n",
       "      <th>25</th>\n",
       "      <td>97200.0</td>\n",
       "      <td>20000.0</td>\n",
       "      <td>0.0</td>\n",
       "      <td>0.0</td>\n",
       "      <td>0.0</td>\n",
       "      <td>160500.0</td>\n",
       "      <td>80392.0</td>\n",
       "      <td>12000.0</td>\n",
       "      <td>0.0</td>\n",
       "      <td>0</td>\n",
       "      <td>...</td>\n",
       "      <td>0.0</td>\n",
       "      <td>100.0</td>\n",
       "      <td>75.0</td>\n",
       "      <td>0.0</td>\n",
       "      <td>0.0</td>\n",
       "      <td>0.000000</td>\n",
       "      <td>0.000000</td>\n",
       "      <td>1</td>\n",
       "      <td>26</td>\n",
       "      <td>57</td>\n",
       "    </tr>\n",
       "    <tr>\n",
       "      <th>40</th>\n",
       "      <td>1137687.0</td>\n",
       "      <td>491331.0</td>\n",
       "      <td>790208.0</td>\n",
       "      <td>77000.0</td>\n",
       "      <td>0.0</td>\n",
       "      <td>1457249.0</td>\n",
       "      <td>708483.0</td>\n",
       "      <td>217455.0</td>\n",
       "      <td>162987.0</td>\n",
       "      <td>370</td>\n",
       "      <td>...</td>\n",
       "      <td>0.0</td>\n",
       "      <td>631.2</td>\n",
       "      <td>618.0</td>\n",
       "      <td>322.8</td>\n",
       "      <td>500.0</td>\n",
       "      <td>0.510598</td>\n",
       "      <td>0.807754</td>\n",
       "      <td>1</td>\n",
       "      <td>26</td>\n",
       "      <td>57</td>\n",
       "    </tr>\n",
       "    <tr>\n",
       "      <th>47</th>\n",
       "      <td>173248.0</td>\n",
       "      <td>70841.0</td>\n",
       "      <td>117012.0</td>\n",
       "      <td>55000.0</td>\n",
       "      <td>0.0</td>\n",
       "      <td>206366.0</td>\n",
       "      <td>82205.0</td>\n",
       "      <td>29902.0</td>\n",
       "      <td>88064.0</td>\n",
       "      <td>0</td>\n",
       "      <td>...</td>\n",
       "      <td>0.0</td>\n",
       "      <td>226.8</td>\n",
       "      <td>45.0</td>\n",
       "      <td>415.8</td>\n",
       "      <td>0.0</td>\n",
       "      <td>1.825285</td>\n",
       "      <td>0.000000</td>\n",
       "      <td>1</td>\n",
       "      <td>26</td>\n",
       "      <td>57</td>\n",
       "    </tr>\n",
       "    <tr>\n",
       "      <th>86</th>\n",
       "      <td>0.0</td>\n",
       "      <td>0.0</td>\n",
       "      <td>0.0</td>\n",
       "      <td>0.0</td>\n",
       "      <td>0.0</td>\n",
       "      <td>0.0</td>\n",
       "      <td>0.0</td>\n",
       "      <td>0.0</td>\n",
       "      <td>0.0</td>\n",
       "      <td>0</td>\n",
       "      <td>...</td>\n",
       "      <td>0.0</td>\n",
       "      <td>0.0</td>\n",
       "      <td>0.0</td>\n",
       "      <td>0.0</td>\n",
       "      <td>0.0</td>\n",
       "      <td>0.000000</td>\n",
       "      <td>0.000000</td>\n",
       "      <td>1</td>\n",
       "      <td>26</td>\n",
       "      <td>57</td>\n",
       "    </tr>\n",
       "    <tr>\n",
       "      <th>119</th>\n",
       "      <td>0.0</td>\n",
       "      <td>0.0</td>\n",
       "      <td>0.0</td>\n",
       "      <td>0.0</td>\n",
       "      <td>0.0</td>\n",
       "      <td>0.0</td>\n",
       "      <td>0.0</td>\n",
       "      <td>0.0</td>\n",
       "      <td>0.0</td>\n",
       "      <td>0</td>\n",
       "      <td>...</td>\n",
       "      <td>0.0</td>\n",
       "      <td>0.0</td>\n",
       "      <td>0.0</td>\n",
       "      <td>0.0</td>\n",
       "      <td>0.0</td>\n",
       "      <td>0.000000</td>\n",
       "      <td>0.000000</td>\n",
       "      <td>1</td>\n",
       "      <td>26</td>\n",
       "      <td>57</td>\n",
       "    </tr>\n",
       "  </tbody>\n",
       "</table>\n",
       "<p>5 rows × 155 columns</p>\n",
       "</div>"
      ],
      "text/plain": [
       "     wood_reduce_value  stone_add_value  stone_reduce_value  ivory_add_value  \\\n",
       "25             97200.0          20000.0                 0.0              0.0   \n",
       "40           1137687.0         491331.0            790208.0          77000.0   \n",
       "47            173248.0          70841.0            117012.0          55000.0   \n",
       "86                 0.0              0.0                 0.0              0.0   \n",
       "119                0.0              0.0                 0.0              0.0   \n",
       "\n",
       "     ivory_reduce_value  meat_add_value  meat_reduce_value  magic_add_value  \\\n",
       "25                  0.0        160500.0            80392.0          12000.0   \n",
       "40                  0.0       1457249.0           708483.0         217455.0   \n",
       "47                  0.0        206366.0            82205.0          29902.0   \n",
       "86                  0.0             0.0                0.0              0.0   \n",
       "119                 0.0             0.0                0.0              0.0   \n",
       "\n",
       "     magic_reduce_value  infantry_add_value         ...           \\\n",
       "25                  0.0                   0         ...            \n",
       "40             162987.0                 370         ...            \n",
       "47              88064.0                   0         ...            \n",
       "86                  0.0                   0         ...            \n",
       "119                 0.0                   0         ...            \n",
       "\n",
       "     wound_med_rate  accelerate_add_mean  accelerate_add_med  \\\n",
       "25              0.0                100.0                75.0   \n",
       "40              0.0                631.2               618.0   \n",
       "47              0.0                226.8                45.0   \n",
       "86              0.0                  0.0                 0.0   \n",
       "119             0.0                  0.0                 0.0   \n",
       "\n",
       "     accelerate_reduce_mean  accelerate_reduce_med  accelerate_mean_rate  \\\n",
       "25                      0.0                    0.0              0.000000   \n",
       "40                    322.8                  500.0              0.510598   \n",
       "47                    415.8                    0.0              1.825285   \n",
       "86                      0.0                    0.0              0.000000   \n",
       "119                     0.0                    0.0              0.000000   \n",
       "\n",
       "     accelerate_med_rate  register_time_month  register_time_day  \\\n",
       "25              0.000000                    1                 26   \n",
       "40              0.807754                    1                 26   \n",
       "47              0.000000                    1                 26   \n",
       "86              0.000000                    1                 26   \n",
       "119             0.000000                    1                 26   \n",
       "\n",
       "     register_time_count  \n",
       "25                    57  \n",
       "40                    57  \n",
       "47                    57  \n",
       "86                    57  \n",
       "119                   57  \n",
       "\n",
       "[5 rows x 155 columns]"
      ]
     },
     "execution_count": 40,
     "metadata": {},
     "output_type": "execute_result"
    }
   ],
   "source": [
    "train.iloc[:,0:-3].head()"
   ]
  },
  {
   "cell_type": "code",
   "execution_count": 46,
   "metadata": {
    "ExecuteTime": {
     "end_time": "2018-10-18T07:39:23.448353Z",
     "start_time": "2018-10-18T07:39:23.400350Z"
    }
   },
   "outputs": [
    {
     "data": {
      "text/html": [
       "<div>\n",
       "<style scoped>\n",
       "    .dataframe tbody tr th:only-of-type {\n",
       "        vertical-align: middle;\n",
       "    }\n",
       "\n",
       "    .dataframe tbody tr th {\n",
       "        vertical-align: top;\n",
       "    }\n",
       "\n",
       "    .dataframe thead th {\n",
       "        text-align: right;\n",
       "    }\n",
       "</style>\n",
       "<table border=\"1\" class=\"dataframe\">\n",
       "  <thead>\n",
       "    <tr style=\"text-align: right;\">\n",
       "      <th></th>\n",
       "      <th>wood_add_value</th>\n",
       "      <th>wood_reduce_value</th>\n",
       "      <th>stone_add_value</th>\n",
       "      <th>stone_reduce_value</th>\n",
       "      <th>ivory_add_value</th>\n",
       "      <th>ivory_reduce_value</th>\n",
       "      <th>meat_add_value</th>\n",
       "      <th>meat_reduce_value</th>\n",
       "      <th>magic_add_value</th>\n",
       "      <th>magic_reduce_value</th>\n",
       "      <th>...</th>\n",
       "      <th>accelerate_reduce_mean</th>\n",
       "      <th>accelerate_reduce_med</th>\n",
       "      <th>accelerate_mean_rate</th>\n",
       "      <th>accelerate_med_rate</th>\n",
       "      <th>register_time_month</th>\n",
       "      <th>register_time_day</th>\n",
       "      <th>register_time_count</th>\n",
       "      <th>new_pay_label</th>\n",
       "      <th>new_pay_price</th>\n",
       "      <th>new_pay_rate</th>\n",
       "    </tr>\n",
       "  </thead>\n",
       "  <tbody>\n",
       "    <tr>\n",
       "      <th>25</th>\n",
       "      <td>30000.0</td>\n",
       "      <td>97200.0</td>\n",
       "      <td>20000.0</td>\n",
       "      <td>0.0</td>\n",
       "      <td>0.0</td>\n",
       "      <td>0.0</td>\n",
       "      <td>160500.0</td>\n",
       "      <td>80392.0</td>\n",
       "      <td>12000.0</td>\n",
       "      <td>0.0</td>\n",
       "      <td>...</td>\n",
       "      <td>0.0</td>\n",
       "      <td>0.0</td>\n",
       "      <td>0.000000</td>\n",
       "      <td>0.000000</td>\n",
       "      <td>1</td>\n",
       "      <td>26</td>\n",
       "      <td>57</td>\n",
       "      <td>0</td>\n",
       "      <td>0.00</td>\n",
       "      <td>0.000000</td>\n",
       "    </tr>\n",
       "    <tr>\n",
       "      <th>40</th>\n",
       "      <td>1111744.0</td>\n",
       "      <td>1137687.0</td>\n",
       "      <td>491331.0</td>\n",
       "      <td>790208.0</td>\n",
       "      <td>77000.0</td>\n",
       "      <td>0.0</td>\n",
       "      <td>1457249.0</td>\n",
       "      <td>708483.0</td>\n",
       "      <td>217455.0</td>\n",
       "      <td>162987.0</td>\n",
       "      <td>...</td>\n",
       "      <td>322.8</td>\n",
       "      <td>500.0</td>\n",
       "      <td>0.510598</td>\n",
       "      <td>0.807754</td>\n",
       "      <td>1</td>\n",
       "      <td>26</td>\n",
       "      <td>57</td>\n",
       "      <td>1</td>\n",
       "      <td>1.99</td>\n",
       "      <td>0.670034</td>\n",
       "    </tr>\n",
       "    <tr>\n",
       "      <th>47</th>\n",
       "      <td>249050.0</td>\n",
       "      <td>173248.0</td>\n",
       "      <td>70841.0</td>\n",
       "      <td>117012.0</td>\n",
       "      <td>55000.0</td>\n",
       "      <td>0.0</td>\n",
       "      <td>206366.0</td>\n",
       "      <td>82205.0</td>\n",
       "      <td>29902.0</td>\n",
       "      <td>88064.0</td>\n",
       "      <td>...</td>\n",
       "      <td>415.8</td>\n",
       "      <td>0.0</td>\n",
       "      <td>1.825285</td>\n",
       "      <td>0.000000</td>\n",
       "      <td>1</td>\n",
       "      <td>26</td>\n",
       "      <td>57</td>\n",
       "      <td>0</td>\n",
       "      <td>0.00</td>\n",
       "      <td>0.000000</td>\n",
       "    </tr>\n",
       "    <tr>\n",
       "      <th>86</th>\n",
       "      <td>0.0</td>\n",
       "      <td>0.0</td>\n",
       "      <td>0.0</td>\n",
       "      <td>0.0</td>\n",
       "      <td>0.0</td>\n",
       "      <td>0.0</td>\n",
       "      <td>0.0</td>\n",
       "      <td>0.0</td>\n",
       "      <td>0.0</td>\n",
       "      <td>0.0</td>\n",
       "      <td>...</td>\n",
       "      <td>0.0</td>\n",
       "      <td>0.0</td>\n",
       "      <td>0.000000</td>\n",
       "      <td>0.000000</td>\n",
       "      <td>1</td>\n",
       "      <td>26</td>\n",
       "      <td>57</td>\n",
       "      <td>0</td>\n",
       "      <td>0.00</td>\n",
       "      <td>0.000000</td>\n",
       "    </tr>\n",
       "    <tr>\n",
       "      <th>119</th>\n",
       "      <td>0.0</td>\n",
       "      <td>0.0</td>\n",
       "      <td>0.0</td>\n",
       "      <td>0.0</td>\n",
       "      <td>0.0</td>\n",
       "      <td>0.0</td>\n",
       "      <td>0.0</td>\n",
       "      <td>0.0</td>\n",
       "      <td>0.0</td>\n",
       "      <td>0.0</td>\n",
       "      <td>...</td>\n",
       "      <td>0.0</td>\n",
       "      <td>0.0</td>\n",
       "      <td>0.000000</td>\n",
       "      <td>0.000000</td>\n",
       "      <td>1</td>\n",
       "      <td>26</td>\n",
       "      <td>57</td>\n",
       "      <td>0</td>\n",
       "      <td>0.00</td>\n",
       "      <td>0.000000</td>\n",
       "    </tr>\n",
       "  </tbody>\n",
       "</table>\n",
       "<p>5 rows × 159 columns</p>\n",
       "</div>"
      ],
      "text/plain": [
       "     wood_add_value  wood_reduce_value  stone_add_value  stone_reduce_value  \\\n",
       "25          30000.0            97200.0          20000.0                 0.0   \n",
       "40        1111744.0          1137687.0         491331.0            790208.0   \n",
       "47         249050.0           173248.0          70841.0            117012.0   \n",
       "86              0.0                0.0              0.0                 0.0   \n",
       "119             0.0                0.0              0.0                 0.0   \n",
       "\n",
       "     ivory_add_value  ivory_reduce_value  meat_add_value  meat_reduce_value  \\\n",
       "25               0.0                 0.0        160500.0            80392.0   \n",
       "40           77000.0                 0.0       1457249.0           708483.0   \n",
       "47           55000.0                 0.0        206366.0            82205.0   \n",
       "86               0.0                 0.0             0.0                0.0   \n",
       "119              0.0                 0.0             0.0                0.0   \n",
       "\n",
       "     magic_add_value  magic_reduce_value      ...       \\\n",
       "25           12000.0                 0.0      ...        \n",
       "40          217455.0            162987.0      ...        \n",
       "47           29902.0             88064.0      ...        \n",
       "86               0.0                 0.0      ...        \n",
       "119              0.0                 0.0      ...        \n",
       "\n",
       "     accelerate_reduce_mean  accelerate_reduce_med  accelerate_mean_rate  \\\n",
       "25                      0.0                    0.0              0.000000   \n",
       "40                    322.8                  500.0              0.510598   \n",
       "47                    415.8                    0.0              1.825285   \n",
       "86                      0.0                    0.0              0.000000   \n",
       "119                     0.0                    0.0              0.000000   \n",
       "\n",
       "     accelerate_med_rate  register_time_month  register_time_day  \\\n",
       "25              0.000000                    1                 26   \n",
       "40              0.807754                    1                 26   \n",
       "47              0.000000                    1                 26   \n",
       "86              0.000000                    1                 26   \n",
       "119             0.000000                    1                 26   \n",
       "\n",
       "     register_time_count  new_pay_label  new_pay_price  new_pay_rate  \n",
       "25                    57              0           0.00      0.000000  \n",
       "40                    57              1           1.99      0.670034  \n",
       "47                    57              0           0.00      0.000000  \n",
       "86                    57              0           0.00      0.000000  \n",
       "119                   57              0           0.00      0.000000  \n",
       "\n",
       "[5 rows x 159 columns]"
      ]
     },
     "execution_count": 46,
     "metadata": {},
     "output_type": "execute_result"
    }
   ],
   "source": [
    "train.head()"
   ]
  },
  {
   "cell_type": "code",
   "execution_count": 48,
   "metadata": {
    "ExecuteTime": {
     "end_time": "2018-10-18T07:39:42.095419Z",
     "start_time": "2018-10-18T07:39:42.042416Z"
    }
   },
   "outputs": [],
   "source": [
    "classify_train=train.iloc[:,0:-3]\n",
    "classify_train.drop('prediction_pay_price',axis=1,inplace=True)"
   ]
  },
  {
   "cell_type": "code",
   "execution_count": 47,
   "metadata": {
    "ExecuteTime": {
     "end_time": "2018-10-18T07:39:32.033844Z",
     "start_time": "2018-10-18T07:39:31.983841Z"
    }
   },
   "outputs": [
    {
     "data": {
      "text/html": [
       "<div>\n",
       "<style scoped>\n",
       "    .dataframe tbody tr th:only-of-type {\n",
       "        vertical-align: middle;\n",
       "    }\n",
       "\n",
       "    .dataframe tbody tr th {\n",
       "        vertical-align: top;\n",
       "    }\n",
       "\n",
       "    .dataframe thead th {\n",
       "        text-align: right;\n",
       "    }\n",
       "</style>\n",
       "<table border=\"1\" class=\"dataframe\">\n",
       "  <thead>\n",
       "    <tr style=\"text-align: right;\">\n",
       "      <th></th>\n",
       "      <th>wood_add_value</th>\n",
       "      <th>wood_reduce_value</th>\n",
       "      <th>stone_add_value</th>\n",
       "      <th>stone_reduce_value</th>\n",
       "      <th>ivory_add_value</th>\n",
       "      <th>ivory_reduce_value</th>\n",
       "      <th>meat_add_value</th>\n",
       "      <th>meat_reduce_value</th>\n",
       "      <th>magic_add_value</th>\n",
       "      <th>magic_reduce_value</th>\n",
       "      <th>...</th>\n",
       "      <th>wound_med_rate</th>\n",
       "      <th>accelerate_add_mean</th>\n",
       "      <th>accelerate_add_med</th>\n",
       "      <th>accelerate_reduce_mean</th>\n",
       "      <th>accelerate_reduce_med</th>\n",
       "      <th>accelerate_mean_rate</th>\n",
       "      <th>accelerate_med_rate</th>\n",
       "      <th>register_time_month</th>\n",
       "      <th>register_time_day</th>\n",
       "      <th>register_time_count</th>\n",
       "    </tr>\n",
       "  </thead>\n",
       "  <tbody>\n",
       "    <tr>\n",
       "      <th>25</th>\n",
       "      <td>30000.0</td>\n",
       "      <td>97200.0</td>\n",
       "      <td>20000.0</td>\n",
       "      <td>0.0</td>\n",
       "      <td>0.0</td>\n",
       "      <td>0.0</td>\n",
       "      <td>160500.0</td>\n",
       "      <td>80392.0</td>\n",
       "      <td>12000.0</td>\n",
       "      <td>0.0</td>\n",
       "      <td>...</td>\n",
       "      <td>0.0</td>\n",
       "      <td>100.0</td>\n",
       "      <td>75.0</td>\n",
       "      <td>0.0</td>\n",
       "      <td>0.0</td>\n",
       "      <td>0.000000</td>\n",
       "      <td>0.000000</td>\n",
       "      <td>1</td>\n",
       "      <td>26</td>\n",
       "      <td>57</td>\n",
       "    </tr>\n",
       "    <tr>\n",
       "      <th>40</th>\n",
       "      <td>1111744.0</td>\n",
       "      <td>1137687.0</td>\n",
       "      <td>491331.0</td>\n",
       "      <td>790208.0</td>\n",
       "      <td>77000.0</td>\n",
       "      <td>0.0</td>\n",
       "      <td>1457249.0</td>\n",
       "      <td>708483.0</td>\n",
       "      <td>217455.0</td>\n",
       "      <td>162987.0</td>\n",
       "      <td>...</td>\n",
       "      <td>0.0</td>\n",
       "      <td>631.2</td>\n",
       "      <td>618.0</td>\n",
       "      <td>322.8</td>\n",
       "      <td>500.0</td>\n",
       "      <td>0.510598</td>\n",
       "      <td>0.807754</td>\n",
       "      <td>1</td>\n",
       "      <td>26</td>\n",
       "      <td>57</td>\n",
       "    </tr>\n",
       "    <tr>\n",
       "      <th>47</th>\n",
       "      <td>249050.0</td>\n",
       "      <td>173248.0</td>\n",
       "      <td>70841.0</td>\n",
       "      <td>117012.0</td>\n",
       "      <td>55000.0</td>\n",
       "      <td>0.0</td>\n",
       "      <td>206366.0</td>\n",
       "      <td>82205.0</td>\n",
       "      <td>29902.0</td>\n",
       "      <td>88064.0</td>\n",
       "      <td>...</td>\n",
       "      <td>0.0</td>\n",
       "      <td>226.8</td>\n",
       "      <td>45.0</td>\n",
       "      <td>415.8</td>\n",
       "      <td>0.0</td>\n",
       "      <td>1.825285</td>\n",
       "      <td>0.000000</td>\n",
       "      <td>1</td>\n",
       "      <td>26</td>\n",
       "      <td>57</td>\n",
       "    </tr>\n",
       "    <tr>\n",
       "      <th>86</th>\n",
       "      <td>0.0</td>\n",
       "      <td>0.0</td>\n",
       "      <td>0.0</td>\n",
       "      <td>0.0</td>\n",
       "      <td>0.0</td>\n",
       "      <td>0.0</td>\n",
       "      <td>0.0</td>\n",
       "      <td>0.0</td>\n",
       "      <td>0.0</td>\n",
       "      <td>0.0</td>\n",
       "      <td>...</td>\n",
       "      <td>0.0</td>\n",
       "      <td>0.0</td>\n",
       "      <td>0.0</td>\n",
       "      <td>0.0</td>\n",
       "      <td>0.0</td>\n",
       "      <td>0.000000</td>\n",
       "      <td>0.000000</td>\n",
       "      <td>1</td>\n",
       "      <td>26</td>\n",
       "      <td>57</td>\n",
       "    </tr>\n",
       "    <tr>\n",
       "      <th>119</th>\n",
       "      <td>0.0</td>\n",
       "      <td>0.0</td>\n",
       "      <td>0.0</td>\n",
       "      <td>0.0</td>\n",
       "      <td>0.0</td>\n",
       "      <td>0.0</td>\n",
       "      <td>0.0</td>\n",
       "      <td>0.0</td>\n",
       "      <td>0.0</td>\n",
       "      <td>0.0</td>\n",
       "      <td>...</td>\n",
       "      <td>0.0</td>\n",
       "      <td>0.0</td>\n",
       "      <td>0.0</td>\n",
       "      <td>0.0</td>\n",
       "      <td>0.0</td>\n",
       "      <td>0.000000</td>\n",
       "      <td>0.000000</td>\n",
       "      <td>1</td>\n",
       "      <td>26</td>\n",
       "      <td>57</td>\n",
       "    </tr>\n",
       "  </tbody>\n",
       "</table>\n",
       "<p>5 rows × 155 columns</p>\n",
       "</div>"
      ],
      "text/plain": [
       "     wood_add_value  wood_reduce_value  stone_add_value  stone_reduce_value  \\\n",
       "25          30000.0            97200.0          20000.0                 0.0   \n",
       "40        1111744.0          1137687.0         491331.0            790208.0   \n",
       "47         249050.0           173248.0          70841.0            117012.0   \n",
       "86              0.0                0.0              0.0                 0.0   \n",
       "119             0.0                0.0              0.0                 0.0   \n",
       "\n",
       "     ivory_add_value  ivory_reduce_value  meat_add_value  meat_reduce_value  \\\n",
       "25               0.0                 0.0        160500.0            80392.0   \n",
       "40           77000.0                 0.0       1457249.0           708483.0   \n",
       "47           55000.0                 0.0        206366.0            82205.0   \n",
       "86               0.0                 0.0             0.0                0.0   \n",
       "119              0.0                 0.0             0.0                0.0   \n",
       "\n",
       "     magic_add_value  magic_reduce_value         ...           wound_med_rate  \\\n",
       "25           12000.0                 0.0         ...                      0.0   \n",
       "40          217455.0            162987.0         ...                      0.0   \n",
       "47           29902.0             88064.0         ...                      0.0   \n",
       "86               0.0                 0.0         ...                      0.0   \n",
       "119              0.0                 0.0         ...                      0.0   \n",
       "\n",
       "     accelerate_add_mean  accelerate_add_med  accelerate_reduce_mean  \\\n",
       "25                 100.0                75.0                     0.0   \n",
       "40                 631.2               618.0                   322.8   \n",
       "47                 226.8                45.0                   415.8   \n",
       "86                   0.0                 0.0                     0.0   \n",
       "119                  0.0                 0.0                     0.0   \n",
       "\n",
       "     accelerate_reduce_med  accelerate_mean_rate  accelerate_med_rate  \\\n",
       "25                     0.0              0.000000             0.000000   \n",
       "40                   500.0              0.510598             0.807754   \n",
       "47                     0.0              1.825285             0.000000   \n",
       "86                     0.0              0.000000             0.000000   \n",
       "119                    0.0              0.000000             0.000000   \n",
       "\n",
       "     register_time_month  register_time_day  register_time_count  \n",
       "25                     1                 26                   57  \n",
       "40                     1                 26                   57  \n",
       "47                     1                 26                   57  \n",
       "86                     1                 26                   57  \n",
       "119                    1                 26                   57  \n",
       "\n",
       "[5 rows x 155 columns]"
      ]
     },
     "execution_count": 47,
     "metadata": {},
     "output_type": "execute_result"
    }
   ],
   "source": [
    "classify_train.head()"
   ]
  },
  {
   "cell_type": "code",
   "execution_count": 49,
   "metadata": {
    "ExecuteTime": {
     "end_time": "2018-10-18T07:39:44.141536Z",
     "start_time": "2018-10-18T07:39:44.130536Z"
    }
   },
   "outputs": [
    {
     "data": {
      "text/plain": [
       "(41439, 159)"
      ]
     },
     "execution_count": 49,
     "metadata": {},
     "output_type": "execute_result"
    }
   ],
   "source": [
    "train.shape"
   ]
  },
  {
   "cell_type": "code",
   "execution_count": 18,
   "metadata": {
    "ExecuteTime": {
     "end_time": "2018-10-18T07:09:06.219413Z",
     "start_time": "2018-10-18T07:09:06.017402Z"
    }
   },
   "outputs": [
    {
     "name": "stderr",
     "output_type": "stream",
     "text": [
      "D:\\ProgramData\\Anaconda3\\lib\\site-packages\\sklearn\\cross_validation.py:41: DeprecationWarning: This module was deprecated in version 0.18 in favor of the model_selection module into which all the refactored classes and functions are moved. Also note that the interface of the new CV iterators are different from that of this module. This module will be removed in 0.20.\n",
      "  \"This module will be removed in 0.20.\", DeprecationWarning)\n"
     ]
    }
   ],
   "source": [
    "from sklearn.model_selection import GridSearchCV\n",
    "from xgboost import XGBClassifier\n",
    "from sklearn.externals import joblib\n",
    "from sklearn.metrics import classification_report,accuracy_score,confusion_matrix\n",
    "from sklearn.cross_validation import train_test_split,cross_val_score\n",
    "import lightgbm  as lgb"
   ]
  },
  {
   "cell_type": "code",
   "execution_count": 50,
   "metadata": {
    "ExecuteTime": {
     "end_time": "2018-10-18T07:40:21.944699Z",
     "start_time": "2018-10-18T07:40:21.609679Z"
    }
   },
   "outputs": [],
   "source": [
    "# classify_train=train.iloc[:,1:-4]\n",
    "cl_t = classify_train.iloc[:, :-3].drop_duplicates()\n",
    "X_train,X_test,y_train,y_test=train_test_split(cl_t,train.loc[cl_t.index,'new_pay_label'],test_size=0.2,random_state=13)\n"
   ]
  },
  {
   "cell_type": "code",
   "execution_count": 51,
   "metadata": {
    "ExecuteTime": {
     "end_time": "2018-10-18T07:40:49.144254Z",
     "start_time": "2018-10-18T07:40:32.260289Z"
    }
   },
   "outputs": [
    {
     "name": "stdout",
     "output_type": "stream",
     "text": [
      "Fitting 3 folds for each of 1 candidates, totalling 3 fits\n"
     ]
    },
    {
     "name": "stderr",
     "output_type": "stream",
     "text": [
      "[Parallel(n_jobs=4)]: Done   3 out of   3 | elapsed:   12.8s finished\n"
     ]
    },
    {
     "name": "stdout",
     "output_type": "stream",
     "text": [
      "准确率 0.7718096170316897\n",
      "混淆矩阵 [[4936  942]\n",
      " [ 923 1372]]\n",
      "分类报告              precision    recall  f1-score   support\n",
      "\n",
      "          0       0.84      0.84      0.84      5878\n",
      "          1       0.59      0.60      0.60      2295\n",
      "\n",
      "avg / total       0.77      0.77      0.77      8173\n",
      "\n"
     ]
    },
    {
     "name": "stderr",
     "output_type": "stream",
     "text": [
      "D:\\ProgramData\\Anaconda3\\lib\\site-packages\\sklearn\\preprocessing\\label.py:151: DeprecationWarning: The truth value of an empty array is ambiguous. Returning False, but in future this will result in an error. Use `array.size > 0` to check that an array is not empty.\n",
      "  if diff:\n"
     ]
    }
   ],
   "source": [
    "## best score is not great\n",
    "model43= GridSearchCV(\n",
    "    estimator=lgb.LGBMClassifier( max_bin=128),\n",
    "    param_grid={\n",
    "        'n_estimators': [1000],\n",
    "        'learning_rate': [0.48],\n",
    "        'max_depth': [4],\n",
    "        'subsample': [0.65],\n",
    "        'colsample_bytree': [0.45],\n",
    "       # 'scale_pos_weight': [2.6],\n",
    "        'is_unbalance':[True]\n",
    "    },\n",
    "    scoring='f1',\n",
    "    cv=3,\n",
    "    n_jobs=4,\n",
    "    verbose=1).fit(X_train,y_train)\n",
    "\n",
    "ypred43=model43.predict(X_test)\n",
    "predictions=ypred43\n",
    "print('准确率',accuracy_score(y_test,predictions))\n",
    "print('混淆矩阵',confusion_matrix(y_test,predictions))\n",
    "print('分类报告',classification_report(y_test,predictions))"
   ]
  },
  {
   "cell_type": "code",
   "execution_count": 54,
   "metadata": {
    "ExecuteTime": {
     "end_time": "2018-10-18T07:45:25.552064Z",
     "start_time": "2018-10-18T07:42:57.166577Z"
    }
   },
   "outputs": [
    {
     "name": "stdout",
     "output_type": "stream",
     "text": [
      "Fitting 3 folds for each of 1 candidates, totalling 3 fits\n"
     ]
    },
    {
     "name": "stderr",
     "output_type": "stream",
     "text": [
      "[Parallel(n_jobs=4)]: Done   3 out of   3 | elapsed:   57.4s finished\n"
     ]
    }
   ],
   "source": [
    "model42= GridSearchCV(\n",
    "     estimator=XGBClassifier( max_bin=128),\n",
    "    param_grid={\n",
    "        'n_estimators': [1000],\n",
    "        'learning_rate': [0.1],\n",
    "        'max_depth': [2],\n",
    "        'subsample': [1],\n",
    "        'colsample_bytree': [0.8],\n",
    "        'scale_pos_weight': [2.5, ],\n",
    "        'min_child_weight': [2, ]\n",
    "    },\n",
    "    scoring='f1',\n",
    "    cv=3,\n",
    "    n_jobs=4,\n",
    "    verbose=1).fit(X_train,y_train)"
   ]
  },
  {
   "cell_type": "code",
   "execution_count": 55,
   "metadata": {
    "ExecuteTime": {
     "end_time": "2018-10-18T07:45:29.028263Z",
     "start_time": "2018-10-18T07:45:28.827251Z"
    }
   },
   "outputs": [
    {
     "name": "stdout",
     "output_type": "stream",
     "text": [
      "准确率 0.7737672825156001\n",
      "混淆矩阵 [[4548 1330]\n",
      " [ 519 1776]]\n",
      "分类报告              precision    recall  f1-score   support\n",
      "\n",
      "          0       0.90      0.77      0.83      5878\n",
      "          1       0.57      0.77      0.66      2295\n",
      "\n",
      "avg / total       0.81      0.77      0.78      8173\n",
      "\n"
     ]
    },
    {
     "name": "stderr",
     "output_type": "stream",
     "text": [
      "D:\\ProgramData\\Anaconda3\\lib\\site-packages\\sklearn\\preprocessing\\label.py:151: DeprecationWarning: The truth value of an empty array is ambiguous. Returning False, but in future this will result in an error. Use `array.size > 0` to check that an array is not empty.\n",
      "  if diff:\n"
     ]
    }
   ],
   "source": [
    "ypred42=model42.predict(X_test)\n",
    "predictions=ypred42\n",
    "print('准确率',accuracy_score(y_test,predictions))\n",
    "print('混淆矩阵',confusion_matrix(y_test,predictions))\n",
    "print('分类报告',classification_report(y_test,predictions))"
   ]
  },
  {
   "cell_type": "code",
   "execution_count": 66,
   "metadata": {
    "ExecuteTime": {
     "end_time": "2018-10-18T07:55:26.914460Z",
     "start_time": "2018-10-18T07:55:02.623071Z"
    }
   },
   "outputs": [
    {
     "name": "stdout",
     "output_type": "stream",
     "text": [
      "Fitting 3 folds for each of 1 candidates, totalling 3 fits\n"
     ]
    },
    {
     "name": "stderr",
     "output_type": "stream",
     "text": [
      "[Parallel(n_jobs=4)]: Done   3 out of   3 | elapsed:   16.9s finished\n"
     ]
    },
    {
     "name": "stdout",
     "output_type": "stream",
     "text": [
      "准确率 0.7771931971124434\n",
      "混淆矩阵 [[4576 1302]\n",
      " [ 519 1776]]\n",
      "分类报告              precision    recall  f1-score   support\n",
      "\n",
      "          0       0.90      0.78      0.83      5878\n",
      "          1       0.58      0.77      0.66      2295\n",
      "\n",
      "avg / total       0.81      0.78      0.79      8173\n",
      "\n"
     ]
    },
    {
     "name": "stderr",
     "output_type": "stream",
     "text": [
      "D:\\ProgramData\\Anaconda3\\lib\\site-packages\\sklearn\\preprocessing\\label.py:151: DeprecationWarning: The truth value of an empty array is ambiguous. Returning False, but in future this will result in an error. Use `array.size > 0` to check that an array is not empty.\n",
      "  if diff:\n"
     ]
    }
   ],
   "source": [
    "model44= GridSearchCV(\n",
    "    estimator=lgb.LGBMClassifier(),\n",
    "    param_grid={\n",
    "        'num_leaves':[114],\n",
    "        'n_estimators': [1000],\n",
    "        'learning_rate': [0.064],\n",
    "        'max_depth': [3],\n",
    "        'subsample': [1],\n",
    "         'subsample': [0.8],\n",
    "        'colsample_bytree': [0.56],\n",
    "        'scale_pos_weight': [2.5, ],\n",
    "#         'min_child_weight': [2, ]\n",
    "    },\n",
    "    scoring='f1',\n",
    "    cv=3,\n",
    "    n_jobs=4,\n",
    "    verbose=1).fit(X_train,y_train)\n",
    "\n",
    "ypred44=model44.predict(X_test)\n",
    "predictions=ypred44\n",
    "print('准确率',accuracy_score(y_test,predictions))\n",
    "print('混淆矩阵',confusion_matrix(y_test,predictions))\n",
    "print('分类报告',classification_report(y_test,predictions))"
   ]
  },
  {
   "cell_type": "code",
   "execution_count": 26,
   "metadata": {
    "ExecuteTime": {
     "end_time": "2018-10-18T07:21:17.324230Z",
     "start_time": "2018-10-18T07:21:17.313229Z"
    }
   },
   "outputs": [
    {
     "data": {
      "text/plain": [
       "(41439, 159)"
      ]
     },
     "execution_count": 26,
     "metadata": {},
     "output_type": "execute_result"
    }
   ],
   "source": [
    "train.shape"
   ]
  },
  {
   "cell_type": "code",
   "execution_count": 27,
   "metadata": {
    "ExecuteTime": {
     "end_time": "2018-10-18T07:21:19.698366Z",
     "start_time": "2018-10-18T07:21:19.689365Z"
    }
   },
   "outputs": [
    {
     "data": {
      "text/plain": [
       "(41439, 154)"
      ]
     },
     "execution_count": 27,
     "metadata": {},
     "output_type": "execute_result"
    }
   ],
   "source": [
    "classify_train.shape"
   ]
  },
  {
   "cell_type": "code",
   "execution_count": 28,
   "metadata": {
    "ExecuteTime": {
     "end_time": "2018-10-18T07:21:21.183451Z",
     "start_time": "2018-10-18T07:21:21.174450Z"
    }
   },
   "outputs": [
    {
     "data": {
      "text/plain": [
       "(40863, 151)"
      ]
     },
     "execution_count": 28,
     "metadata": {},
     "output_type": "execute_result"
    }
   ],
   "source": [
    "cl_t.shape"
   ]
  },
  {
   "cell_type": "code",
   "execution_count": null,
   "metadata": {
    "ExecuteTime": {
     "end_time": "2018-10-18T06:06:18.652921Z",
     "start_time": "2018-10-18T06:06:18.642920Z"
    }
   },
   "outputs": [],
   "source": [
    "X_train.shape"
   ]
  },
  {
   "cell_type": "code",
   "execution_count": 29,
   "metadata": {
    "ExecuteTime": {
     "end_time": "2018-10-18T07:22:16.968642Z",
     "start_time": "2018-10-18T07:22:16.961641Z"
    }
   },
   "outputs": [],
   "source": [
    "from xgboost import XGBRegressor"
   ]
  },
  {
   "cell_type": "code",
   "execution_count": 67,
   "metadata": {
    "ExecuteTime": {
     "end_time": "2018-10-18T07:57:45.196369Z",
     "start_time": "2018-10-18T07:57:41.510158Z"
    }
   },
   "outputs": [],
   "source": [
    "lgbm2=lgb.LGBMClassifier(boosting_type='gbdt',\n",
    "nthread=4, \n",
    "silent=True,\n",
    "n_estimators= 1000,\n",
    "learning_rate= 0.064,\n",
    "max_depth= 3,\n",
    "subsample= 0.8,\n",
    "colsample_bytree= 0.56,\n",
    "scale_pos_weight=2.5).fit(X_train,y_train)"
   ]
  },
  {
   "cell_type": "code",
   "execution_count": 68,
   "metadata": {
    "ExecuteTime": {
     "end_time": "2018-10-18T07:58:17.811235Z",
     "start_time": "2018-10-18T07:58:17.789233Z"
    }
   },
   "outputs": [
    {
     "data": {
      "text/html": [
       "<div>\n",
       "<style scoped>\n",
       "    .dataframe tbody tr th:only-of-type {\n",
       "        vertical-align: middle;\n",
       "    }\n",
       "\n",
       "    .dataframe tbody tr th {\n",
       "        vertical-align: top;\n",
       "    }\n",
       "\n",
       "    .dataframe thead th {\n",
       "        text-align: right;\n",
       "    }\n",
       "</style>\n",
       "<table border=\"1\" class=\"dataframe\">\n",
       "  <thead>\n",
       "    <tr style=\"text-align: right;\">\n",
       "      <th></th>\n",
       "      <th>importance</th>\n",
       "    </tr>\n",
       "  </thead>\n",
       "  <tbody>\n",
       "    <tr>\n",
       "      <th>103</th>\n",
       "      <td>204</td>\n",
       "    </tr>\n",
       "    <tr>\n",
       "      <th>118</th>\n",
       "      <td>157</td>\n",
       "    </tr>\n",
       "    <tr>\n",
       "      <th>117</th>\n",
       "      <td>130</td>\n",
       "    </tr>\n",
       "    <tr>\n",
       "      <th>119</th>\n",
       "      <td>125</td>\n",
       "    </tr>\n",
       "    <tr>\n",
       "      <th>127</th>\n",
       "      <td>120</td>\n",
       "    </tr>\n",
       "    <tr>\n",
       "      <th>30</th>\n",
       "      <td>120</td>\n",
       "    </tr>\n",
       "    <tr>\n",
       "      <th>26</th>\n",
       "      <td>115</td>\n",
       "    </tr>\n",
       "    <tr>\n",
       "      <th>104</th>\n",
       "      <td>111</td>\n",
       "    </tr>\n",
       "    <tr>\n",
       "      <th>110</th>\n",
       "      <td>110</td>\n",
       "    </tr>\n",
       "    <tr>\n",
       "      <th>28</th>\n",
       "      <td>106</td>\n",
       "    </tr>\n",
       "  </tbody>\n",
       "</table>\n",
       "</div>"
      ],
      "text/plain": [
       "     importance\n",
       "103         204\n",
       "118         157\n",
       "117         130\n",
       "119         125\n",
       "127         120\n",
       "30          120\n",
       "26          115\n",
       "104         111\n",
       "110         110\n",
       "28          106"
      ]
     },
     "execution_count": 68,
     "metadata": {},
     "output_type": "execute_result"
    }
   ],
   "source": [
    "df_fi=pd.DataFrame()\n",
    "# df_fi['name']=lgbm2.feature_name()\n",
    "df_fi['importance']=lgbm2.feature_importances_\n",
    "df_fi.sort_values(by=['importance'],axis=0,ascending=False).head(10)"
   ]
  },
  {
   "cell_type": "code",
   "execution_count": 72,
   "metadata": {
    "ExecuteTime": {
     "end_time": "2018-10-18T08:01:25.097947Z",
     "start_time": "2018-10-18T08:01:24.316902Z"
    }
   },
   "outputs": [
    {
     "name": "stdout",
     "output_type": "stream",
     "text": [
      "Fitting 3 folds for each of 1 candidates, totalling 3 fits\n",
      "[CV] colsample_bytree=0.5, learning_rate=0.05, max_depth=2, n_estimators=80, reg_alpha=13.4, subsample=1 \n",
      "[CV]  colsample_bytree=0.5, learning_rate=0.05, max_depth=2, n_estimators=80, reg_alpha=13.4, subsample=1, score=-2039.189208984375, total=   0.1s\n",
      "[CV] colsample_bytree=0.5, learning_rate=0.05, max_depth=2, n_estimators=80, reg_alpha=13.4, subsample=1 \n"
     ]
    },
    {
     "name": "stderr",
     "output_type": "stream",
     "text": [
      "[Parallel(n_jobs=1)]: Done   1 out of   1 | elapsed:    0.1s remaining:    0.0s\n",
      "[Parallel(n_jobs=1)]: Done   2 out of   2 | elapsed:    0.2s remaining:    0.0s\n"
     ]
    },
    {
     "name": "stdout",
     "output_type": "stream",
     "text": [
      "[CV]  colsample_bytree=0.5, learning_rate=0.05, max_depth=2, n_estimators=80, reg_alpha=13.4, subsample=1, score=-1939.345703125, total=   0.1s\n",
      "[CV] colsample_bytree=0.5, learning_rate=0.05, max_depth=2, n_estimators=80, reg_alpha=13.4, subsample=1 \n",
      "[CV]  colsample_bytree=0.5, learning_rate=0.05, max_depth=2, n_estimators=80, reg_alpha=13.4, subsample=1, score=-2777.177978515625, total=   0.1s\n"
     ]
    },
    {
     "name": "stderr",
     "output_type": "stream",
     "text": [
      "[Parallel(n_jobs=1)]: Done   3 out of   3 | elapsed:    0.4s remaining:    0.0s\n",
      "[Parallel(n_jobs=1)]: Done   3 out of   3 | elapsed:    0.4s finished\n"
     ]
    },
    {
     "name": "stdout",
     "output_type": "stream",
     "text": [
      "47.4537443145628 {'colsample_bytree': 0.5, 'learning_rate': 0.05, 'max_depth': 2, 'n_estimators': 80, 'reg_alpha': 13.4, 'subsample': 1}\n"
     ]
    }
   ],
   "source": [
    "model_reg = GridSearchCV(\n",
    "    estimator=XGBRegressor(),\n",
    "    #     estimator=LinearRegression(),\n",
    "    param_grid={\n",
    "        'n_estimators': [80],\n",
    "        'learning_rate': [0.05],\n",
    "        'max_depth': [2],\n",
    "        'subsample': [1],\n",
    "        'colsample_bytree': [0.5],\n",
    "        'reg_alpha': [13.4],\n",
    "    },\n",
    "    scoring='neg_mean_squared_error',\n",
    "    cv=3,\n",
    "    n_jobs=1,\n",
    "    verbose=4)\n",
    "model_reg.fit(classify_train.iloc[:, [103, 108, 117, 119, 127,30,26,104,110,28]][train['new_pay_label'] == 1],\n",
    "              train.iloc[:, -1][train['new_pay_label'] == 1])\n",
    "# model_reg.fit(cl_t.iloc[:,[105,126,121,132,150]][train.loc[cl_t.index,'new_pay_label']==1],train.iloc[cl_t.index,-1][train.loc[cl_t.index,'new_pay_label']==1])\n",
    "print(np.sqrt(-model_reg.best_score_), model_reg.best_params_)"
   ]
  },
  {
   "cell_type": "code",
   "execution_count": 80,
   "metadata": {
    "ExecuteTime": {
     "end_time": "2018-10-18T08:07:24.795520Z",
     "start_time": "2018-10-18T08:07:24.589509Z"
    }
   },
   "outputs": [
    {
     "name": "stdout",
     "output_type": "stream",
     "text": [
      "Fitting 3 folds for each of 1 candidates, totalling 3 fits\n",
      "[CV] colsample_bytree=0.56, learning_rate=0.05, max_depth=2, n_estimators=80, subsample=0.8 \n",
      "[CV]  colsample_bytree=0.56, learning_rate=0.05, max_depth=2, n_estimators=80, subsample=0.8, score=-2048.98916197549, total=   0.0s\n",
      "[CV] colsample_bytree=0.56, learning_rate=0.05, max_depth=2, n_estimators=80, subsample=0.8 \n",
      "[CV]  colsample_bytree=0.56, learning_rate=0.05, max_depth=2, n_estimators=80, subsample=0.8, score=-1937.4693483972294, total=   0.0s\n",
      "[CV] colsample_bytree=0.56, learning_rate=0.05, max_depth=2, n_estimators=80, subsample=0.8 \n",
      "[CV]  colsample_bytree=0.56, learning_rate=0.05, max_depth=2, n_estimators=80, subsample=0.8, score=-2781.3616382406467, total=   0.0s\n",
      "47.49624815768069 {'colsample_bytree': 0.56, 'learning_rate': 0.05, 'max_depth': 2, 'n_estimators': 80, 'subsample': 0.8}\n"
     ]
    },
    {
     "name": "stderr",
     "output_type": "stream",
     "text": [
      "[Parallel(n_jobs=1)]: Done   1 out of   1 | elapsed:    0.0s remaining:    0.0s\n",
      "[Parallel(n_jobs=1)]: Done   2 out of   2 | elapsed:    0.0s remaining:    0.0s\n",
      "[Parallel(n_jobs=1)]: Done   3 out of   3 | elapsed:    0.0s remaining:    0.0s\n",
      "[Parallel(n_jobs=1)]: Done   3 out of   3 | elapsed:    0.0s finished\n"
     ]
    }
   ],
   "source": [
    "model_reg2 = GridSearchCV(\n",
    "    estimator=lgb.LGBMRegressor( max_bin=128),\n",
    "    #     estimator=LinearRegression(),\n",
    "    param_grid={\n",
    "        'n_estimators': [80],\n",
    "        'learning_rate': [0.05],\n",
    "        'max_depth': [2],\n",
    "        'subsample': [0.8],\n",
    "        'colsample_bytree': [0.56],\n",
    "#         'reg_alpha': [13.4],\n",
    "    },\n",
    "    scoring='neg_mean_squared_error',\n",
    "    cv=3,\n",
    "    n_jobs=1,\n",
    "    verbose=4)\n",
    "model_reg2.fit(classify_train.iloc[:, [103, 108, 117, 119, 127,30,26,104,110,28]][train['new_pay_label'] == 1],\n",
    "              train.iloc[:, -1][train['new_pay_label'] == 1])\n",
    "# model_reg.fit(cl_t.iloc[:,[105,126,121,132,150]][train.loc[cl_t.index,'new_pay_label']==1],train.iloc[cl_t.index,-1][train.loc[cl_t.index,'new_pay_label']==1])\n",
    "print(np.sqrt(-model_reg2.best_score_), model_reg2.best_params_)"
   ]
  },
  {
   "cell_type": "code",
   "execution_count": 86,
   "metadata": {
    "ExecuteTime": {
     "end_time": "2018-10-18T08:15:40.520874Z",
     "start_time": "2018-10-18T08:15:40.493873Z"
    }
   },
   "outputs": [
    {
     "name": "stderr",
     "output_type": "stream",
     "text": [
      "D:\\ProgramData\\Anaconda3\\lib\\site-packages\\ipykernel_launcher.py:1: UserWarning: Boolean Series key will be reindexed to match DataFrame index.\n",
      "  \"\"\"Entry point for launching an IPython kernel.\n"
     ]
    },
    {
     "data": {
      "text/plain": [
       "(9009, 10)"
      ]
     },
     "execution_count": 86,
     "metadata": {},
     "output_type": "execute_result"
    }
   ],
   "source": [
    "X_train.iloc[:, [103, 108, 117, 119, 127,30,26,104,110,28]][train['new_pay_label'] == 1].shape"
   ]
  },
  {
   "cell_type": "code",
   "execution_count": 83,
   "metadata": {
    "ExecuteTime": {
     "end_time": "2018-10-18T08:14:13.653906Z",
     "start_time": "2018-10-18T08:14:13.556900Z"
    }
   },
   "outputs": [],
   "source": [
    "X_train2,X_test2,y_train2,y_test2=train_test_split(cl_t,train.loc[cl_t.index,'prediction_pay_price'],test_size=0.2,random_state=13)"
   ]
  },
  {
   "cell_type": "code",
   "execution_count": 84,
   "metadata": {
    "ExecuteTime": {
     "end_time": "2018-10-18T08:15:27.403124Z",
     "start_time": "2018-10-18T08:15:27.380123Z"
    }
   },
   "outputs": [
    {
     "data": {
      "text/plain": [
       "(9009,)"
      ]
     },
     "execution_count": 84,
     "metadata": {},
     "output_type": "execute_result"
    }
   ],
   "source": [
    "y_train2[train['new_pay_label'] == 1].shape"
   ]
  },
  {
   "cell_type": "code",
   "execution_count": 87,
   "metadata": {
    "ExecuteTime": {
     "end_time": "2018-10-18T08:15:45.429155Z",
     "start_time": "2018-10-18T08:15:45.017131Z"
    }
   },
   "outputs": [
    {
     "name": "stderr",
     "output_type": "stream",
     "text": [
      "D:\\ProgramData\\Anaconda3\\lib\\site-packages\\ipykernel_launcher.py:16: UserWarning: Boolean Series key will be reindexed to match DataFrame index.\n",
      "  app.launch_new_instance()\n",
      "[Parallel(n_jobs=1)]: Done   1 out of   1 | elapsed:    0.0s remaining:    0.0s\n"
     ]
    },
    {
     "name": "stdout",
     "output_type": "stream",
     "text": [
      "Fitting 3 folds for each of 1 candidates, totalling 3 fits\n",
      "[CV] colsample_bytree=0.56, learning_rate=0.05, max_depth=2, n_estimators=80, subsample=0.8 \n",
      "[CV]  colsample_bytree=0.56, learning_rate=0.05, max_depth=2, n_estimators=80, subsample=0.8, score=-1146838.772055069, total=   0.0s\n",
      "[CV] colsample_bytree=0.56, learning_rate=0.05, max_depth=2, n_estimators=80, subsample=0.8 \n",
      "[CV]  colsample_bytree=0.56, learning_rate=0.05, max_depth=2, n_estimators=80, subsample=0.8, score=-772811.7056900148, total=   0.1s\n",
      "[CV] colsample_bytree=0.56, learning_rate=0.05, max_depth=2, n_estimators=80, subsample=0.8 \n",
      "[CV]  colsample_bytree=0.56, learning_rate=0.05, max_depth=2, n_estimators=80, subsample=0.8, score=-1008147.1803097085, total=   0.0s\n",
      "987.8929864539634 {'colsample_bytree': 0.56, 'learning_rate': 0.05, 'max_depth': 2, 'n_estimators': 80, 'subsample': 0.8}\n"
     ]
    },
    {
     "name": "stderr",
     "output_type": "stream",
     "text": [
      "[Parallel(n_jobs=1)]: Done   2 out of   2 | elapsed:    0.2s remaining:    0.0s\n",
      "[Parallel(n_jobs=1)]: Done   3 out of   3 | elapsed:    0.2s remaining:    0.0s\n",
      "[Parallel(n_jobs=1)]: Done   3 out of   3 | elapsed:    0.2s finished\n"
     ]
    }
   ],
   "source": [
    "model_reg3 = GridSearchCV(\n",
    "    estimator=lgb.LGBMRegressor( max_bin=128),\n",
    "    #     estimator=LinearRegression(),\n",
    "    param_grid={\n",
    "        'n_estimators': [80],\n",
    "        'learning_rate': [0.05],\n",
    "        'max_depth': [2],\n",
    "        'subsample': [0.8],\n",
    "        'colsample_bytree': [0.56],\n",
    "#         'reg_alpha': [13.4],\n",
    "    },\n",
    "    scoring='neg_mean_squared_error',\n",
    "    cv=3,\n",
    "    n_jobs=1,\n",
    "    verbose=4)\n",
    "model_reg3.fit(X_train2.iloc[:, [103, 108, 117, 119, 127,30,26,104,110,28]][train['new_pay_label'] == 1],\n",
    "              y_train2[train['new_pay_label'] == 1])\n",
    "# model_reg.fit(cl_t.iloc[:,[105,126,121,132,150]][train.loc[cl_t.index,'new_pay_label']==1],train.iloc[cl_t.index,-1][train.loc[cl_t.index,'new_pay_label']==1])\n",
    "print(np.sqrt(-model_reg3.best_score_), model_reg3.best_params_)"
   ]
  },
  {
   "cell_type": "code",
   "execution_count": 89,
   "metadata": {
    "ExecuteTime": {
     "end_time": "2018-10-18T08:17:58.453764Z",
     "start_time": "2018-10-18T08:17:58.397760Z"
    }
   },
   "outputs": [
    {
     "name": "stderr",
     "output_type": "stream",
     "text": [
      "D:\\ProgramData\\Anaconda3\\lib\\site-packages\\ipykernel_launcher.py:1: UserWarning: Boolean Series key will be reindexed to match DataFrame index.\n",
      "  \"\"\"Entry point for launching an IPython kernel.\n"
     ]
    }
   ],
   "source": [
    "y_model_reg3_pred=model_reg3.predict(X_test2.iloc[:, [103, 108, 117, 119, 127,30,26,104,110,28]][train['new_pay_label'] == 1])"
   ]
  },
  {
   "cell_type": "code",
   "execution_count": 88,
   "metadata": {
    "ExecuteTime": {
     "end_time": "2018-10-18T08:17:55.212578Z",
     "start_time": "2018-10-18T08:17:55.204578Z"
    }
   },
   "outputs": [],
   "source": [
    "from sklearn.metrics import mean_squared_error"
   ]
  },
  {
   "cell_type": "code",
   "execution_count": 91,
   "metadata": {
    "ExecuteTime": {
     "end_time": "2018-10-18T08:19:05.835618Z",
     "start_time": "2018-10-18T08:19:05.820617Z"
    }
   },
   "outputs": [
    {
     "data": {
      "text/plain": [
       "651.4944551627341"
      ]
     },
     "execution_count": 91,
     "metadata": {},
     "output_type": "execute_result"
    }
   ],
   "source": [
    "np.sqrt(mean_squared_error(y_test2[train['new_pay_label'] == 1],y_model_reg3_pred))"
   ]
  },
  {
   "cell_type": "code",
   "execution_count": null,
   "metadata": {},
   "outputs": [],
   "source": [
    "#############################  for test data"
   ]
  },
  {
   "cell_type": "code",
   "execution_count": null,
   "metadata": {},
   "outputs": [],
   "source": []
  }
 ],
 "metadata": {
  "kernelspec": {
   "display_name": "Python 3",
   "language": "python",
   "name": "python3"
  },
  "language_info": {
   "codemirror_mode": {
    "name": "ipython",
    "version": 3
   },
   "file_extension": ".py",
   "mimetype": "text/x-python",
   "name": "python",
   "nbconvert_exporter": "python",
   "pygments_lexer": "ipython3",
   "version": "3.6.3"
  }
 },
 "nbformat": 4,
 "nbformat_minor": 2
}
