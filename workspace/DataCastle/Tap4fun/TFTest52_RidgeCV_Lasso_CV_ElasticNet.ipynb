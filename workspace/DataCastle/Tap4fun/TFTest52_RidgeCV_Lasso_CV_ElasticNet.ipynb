{
 "cells": [
  {
   "cell_type": "code",
   "execution_count": 5,
   "metadata": {
    "ExecuteTime": {
     "end_time": "2018-10-10T09:14:06.072848Z",
     "start_time": "2018-10-10T09:11:58.259538Z"
    },
    "scrolled": true
   },
   "outputs": [
    {
     "name": "stdout",
     "output_type": "stream",
     "text": [
      "(41439, 109)\n",
      "(41439, 107)\n"
     ]
    },
    {
     "name": "stderr",
     "output_type": "stream",
     "text": [
      "D:\\ProgramData\\Anaconda3\\lib\\site-packages\\sklearn\\linear_model\\coordinate_descent.py:491: ConvergenceWarning: Objective did not converge. You might want to increase the number of iterations. Fitting data with very small alpha may cause precision problems.\n",
      "  ConvergenceWarning)\n"
     ]
    },
    {
     "name": "stdout",
     "output_type": "stream",
     "text": [
      "[ 3.61381554e-06  2.71920411e-06 -4.19236313e-06  7.35285946e-06\n",
      "  2.01638995e-05 -2.72875642e-05 -2.19843014e-06  1.82508368e-06\n",
      "  1.48969518e-06 -2.13854400e-06 -6.90001493e-03  9.96483316e-03\n",
      "  1.32274084e-02 -1.42875716e-02 -6.90683048e-03  1.11750959e-02\n",
      " -9.28718260e-03  6.70707397e-03 -7.82110344e-03  8.25524510e-03\n",
      " -1.73405000e-03 -3.13599901e-03 -4.07278715e-03  4.08118419e-04\n",
      "  2.00802162e-03 -1.06902808e-02 -3.55528901e-03  2.40400934e-03\n",
      "  7.43183706e-03 -9.69027514e-03  2.61992553e-02 -1.98317821e-01\n",
      "  8.31221591e-01 -1.64828475e+00 -0.00000000e+00 -5.46073332e-01\n",
      " -2.59272517e+00  1.98093254e+00 -1.25802358e+00 -2.60159420e+00\n",
      "  7.85948051e-01  2.15495230e+00 -3.08887878e-01  9.64392575e+00\n",
      " -1.26281244e+00  5.07065432e-01  2.80498962e-01  2.94656904e-01\n",
      "  1.07974334e+00  3.93367877e+00 -1.80748682e+00 -6.59596832e+00\n",
      " -2.07335665e+01  2.82180181e+00 -4.91892525e+00  1.82296043e+00\n",
      "  1.56358767e+02  0.00000000e+00  0.00000000e+00  0.00000000e+00\n",
      " -8.46205387e+01  0.00000000e+00 -5.70067249e+01  0.00000000e+00\n",
      "  3.93440795e+01 -3.09828948e+01 -0.00000000e+00 -0.00000000e+00\n",
      " -0.00000000e+00 -3.47259335e+02 -5.77501907e+00  3.38498018e-01\n",
      "  0.00000000e+00 -4.12697745e-01  0.00000000e+00 -0.00000000e+00\n",
      "  1.67260831e+00  6.86759786e+00 -1.39434314e+00 -5.64104414e+01\n",
      " -9.30443089e+00 -1.48323774e+00  3.11901517e+01 -4.87646545e-01\n",
      "  4.89740639e+00 -6.59396298e+00  7.90244039e+00 -2.01814418e+00\n",
      " -0.00000000e+00  0.00000000e+00  8.37790396e+00 -1.88397196e+01\n",
      "  8.07723317e+01 -0.00000000e+00  0.00000000e+00  0.00000000e+00\n",
      "  0.00000000e+00 -3.35993339e-01  1.61536794e-01 -0.00000000e+00\n",
      "  1.25875243e-01  1.06303991e-01 -3.89903493e-01  1.22318360e-01\n",
      "  2.86814091e+00  6.69643590e+00]\n",
      "106\n",
      "['bd_stronghold_level', 'sr_cavalry_tier_3_level', 'sr_shaman_tier_3_level', 'sr_troop_defense_level', 'sr_cavalry_def_level', 'sr_infantry_hp_level', 'sr_infantry_tier_4_level', 'sr_cavalry_tier_4_level', 'sr_shaman_tier_4_level', 'sr_troop_consumption_level', 'sr_rss_b_prod_level', 'sr_rss_c_prod_level', 'sr_healing_speed_level', 'sr_outpost_tier_3_level', 'sr_outpost_tier_4_level', 'sr_guest_troop_capacity_level', 'sr_march_size_level', 'sr_rss_help_bonus_level', 'pvp_win_count']\n",
      "19\n"
     ]
    },
    {
     "data": {
      "text/plain": [
       "453.3969282353355"
      ]
     },
     "execution_count": 5,
     "metadata": {},
     "output_type": "execute_result"
    }
   ],
   "source": [
    "#--**coding:utf-8**--\n",
    "import pandas as pd\n",
    "import numpy as np\n",
    "import copy\n",
    "from sklearn.linear_model import Lasso,LinearRegression,LassoCV\n",
    "from sklearn.linear_model.stochastic_gradient import SGDRegressor\n",
    "from sklearn.ensemble import GradientBoostingRegressor\n",
    "from sklearn.ensemble import RandomForestRegressor\n",
    "from sklearn.svm import SVR\n",
    "from sklearn.model_selection import train_test_split\n",
    "from sklearn.metrics import mean_squared_error, r2_score\n",
    "from sklearn.externals import joblib\n",
    "from sklearn.preprocessing import StandardScaler,MinMaxScaler,Normalizer,scale,MaxAbsScaler\n",
    "\n",
    "min_time=12\n",
    "\n",
    "data = pd.read_csv('F:\\\\study\\\\ml\\\\DataSet\\\\Tap4fun\\\\tap_fun_train.csv',parse_dates = True)\n",
    "#data_train = copy.copy(data[data['avg_online_minutes'] >= min_time]) #分析了训练数据情况，处理平均在线时长小于5min的，可预测45天的就为7天内的\n",
    "#付费值\n",
    "\n",
    "data_train = copy.copy(data[data['pay_price'] > 0  ]) #分析了训练数据情况，处理平均在线时长小于5min的，可预测45天的就为7天内的\n",
    "\n",
    "#data_train = copy.copy(data[data['avg_online_minutes'] >= min_time]) \n",
    "print(data_train.shape)\n",
    "\n",
    "data_train = data_train.drop(['user_id','register_time'],axis=1)\n",
    "print(data_train.shape)\n",
    "\n",
    "x_train = data_train.loc[:, data_train.columns != 'prediction_pay_price']\n",
    "y_train = data_train.loc[:, data_train.columns == 'prediction_pay_price']\n",
    "\n",
    "model = Lasso() #分析了训练数据，存在大量共线，可使用L1正则化消除共线\n",
    "model.fit(x_train, y_train)\n",
    "print(model.coef_)\n",
    "print (len(model.coef_))\n",
    "\n",
    "none_mean = []\n",
    "for i in range(len(model.coef_)):\n",
    "    if abs(model.coef_[i]) < 1e-06:\n",
    "        none_mean.append(x_train.columns[i])\n",
    "        \n",
    "print(none_mean)\n",
    "print (len(none_mean))\n",
    "\n",
    "x_train_final = x_train.drop(none_mean, axis=1)\n",
    "\n",
    "X_train, X_test, Y_train, Y_test = train_test_split(x_train_final,y_train,test_size = 0.2, random_state = 0)\n",
    "X_test_7pays = X_test['pay_price'].tolist()\n",
    "\n",
    "scaler = StandardScaler(with_mean=False).fit(X_train.values)\n",
    "#scaler = MaxAbsScaler().fit(X_train.values)\n",
    "X_train = scaler.transform(X_train.values)\n",
    "X_test = scaler.transform(X_test.values)\n",
    "\n",
    "SGDModel = GradientBoostingRegressor(n_estimators=1000, learning_rate=0.01)#RandomForestRegressor(n_estimators=500)#LinearRegression()\n",
    "##SGDRegressor()\n",
    "#可使用网格法选参数，然而分出的验证集并不好，可使用k折交叉验证试试\n",
    "SGDModel.fit(X_train, Y_train.values.ravel())\n",
    "joblib.dump(SGDModel,'F:\\\\study\\\\ml\\\\DataSet\\\\Tap4fun\\\\Model\\\\train_model.m')\n",
    "\n",
    "y_pred = SGDModel.predict(X_test)\n",
    "np.sqrt(mean_squared_error(Y_test,y_pred))"
   ]
  },
  {
   "cell_type": "code",
   "execution_count": 6,
   "metadata": {
    "ExecuteTime": {
     "end_time": "2018-10-10T09:14:24.105880Z",
     "start_time": "2018-10-10T09:14:24.095879Z"
    }
   },
   "outputs": [
    {
     "data": {
      "text/plain": [
       "(41439, 107)"
      ]
     },
     "execution_count": 6,
     "metadata": {},
     "output_type": "execute_result"
    }
   ],
   "source": [
    "data_train.shape"
   ]
  },
  {
   "cell_type": "code",
   "execution_count": null,
   "metadata": {
    "ExecuteTime": {
     "end_time": "2018-09-28T06:13:49.228891Z",
     "start_time": "2018-09-28T06:13:49.222891Z"
    }
   },
   "outputs": [],
   "source": [
    "X_test.shape"
   ]
  },
  {
   "cell_type": "code",
   "execution_count": 7,
   "metadata": {
    "ExecuteTime": {
     "end_time": "2018-10-10T09:14:40.541820Z",
     "start_time": "2018-10-10T09:14:40.503818Z"
    }
   },
   "outputs": [
    {
     "name": "stdout",
     "output_type": "stream",
     "text": [
      "[[ 0.99]\n",
      " [ 4.96]\n",
      " [ 5.98]\n",
      " ...\n",
      " [ 0.99]\n",
      " [ 5.98]\n",
      " [11.97]]\n",
      "Root Mean squared error: 453.40\n",
      "Variance score: 0.30\n"
     ]
    }
   ],
   "source": [
    "# y_pred = SGDModel.predict(X_test)\n",
    "print (Y_train.values)\n",
    "for i in range(len(y_pred)):\n",
    "    if y_pred[i] < X_test_7pays[i]: #判断45天的预测值若比前7天的还小，则使用前7天的付费金额作为预测值\n",
    "        y_pred[i] = X_test_7pays[i]\n",
    "\n",
    "for i in range(len(y_pred)):\n",
    "    if y_pred[i] < 0:\n",
    "        y_pred[i] = 0\n",
    "#     elif y_pred[i] < 1.4:\n",
    "#         y_pred[i] = 0.99\n",
    "print(\"Root Mean squared error: %.2f\"\n",
    "      % mean_squared_error(Y_test, y_pred) ** 0.5)\n",
    "# Explained variance score: 1 is perfect prediction\n",
    "print('Variance score: %.2f' % r2_score(Y_test, y_pred))"
   ]
  },
  {
   "cell_type": "code",
   "execution_count": null,
   "metadata": {},
   "outputs": [],
   "source": []
  },
  {
   "cell_type": "code",
   "execution_count": null,
   "metadata": {},
   "outputs": [],
   "source": []
  },
  {
   "cell_type": "code",
   "execution_count": null,
   "metadata": {},
   "outputs": [],
   "source": []
  },
  {
   "cell_type": "code",
   "execution_count": 29,
   "metadata": {
    "ExecuteTime": {
     "end_time": "2018-10-10T09:49:50.712515Z",
     "start_time": "2018-10-10T09:49:37.047733Z"
    }
   },
   "outputs": [
    {
     "name": "stdout",
     "output_type": "stream",
     "text": [
      "(828934, 108)\n"
     ]
    },
    {
     "name": "stderr",
     "output_type": "stream",
     "text": [
      "D:\\ProgramData\\Anaconda3\\lib\\site-packages\\pandas\\core\\frame.py:3781: SettingWithCopyWarning: \n",
      "A value is trying to be set on a copy of a slice from a DataFrame\n",
      "\n",
      "See the caveats in the documentation: http://pandas.pydata.org/pandas-docs/stable/indexing.html#indexing-view-versus-copy\n",
      "  return super(DataFrame, self).rename(**kwargs)\n"
     ]
    },
    {
     "name": "stdout",
     "output_type": "stream",
     "text": [
      "(828934, 2)\n"
     ]
    }
   ],
   "source": [
    "\n",
    "\n",
    "data1 = pd.read_csv('F:\\\\study\\\\ml\\\\DataSet\\\\Tap4fun\\\\tap_fun_test.csv',parse_dates=True)\n",
    "print (data1.shape)\n",
    "#data_test1 = copy.copy(data1[data1['avg_online_minutes'] < min_time])\n",
    "#data_test2 = copy.copy(data1[data1['avg_online_minutes'] >= min_time])\n",
    "\n",
    "\n",
    "data_test1 = copy.copy(data1[data1['pay_price'] ==0 ])\n",
    "data_test2 = copy.copy(data1[data1['pay_price'] > 0])\n",
    "\n",
    "data_test2_7pays = data_test2['pay_price'].tolist()\n",
    "\n",
    "#看了训练数据情况，处理平均在线时长小于5min的，可预测45天的就为7天内的付费值\n",
    "data_test_part1 = data_test1[['user_id','pay_price']]\n",
    "data_test_part1.rename(columns={'pay_price':'prediction_pay_price'},inplace = True)\n",
    "data_test_part1.to_csv('F:\\\\study\\\\ml\\\\DataSet\\\\Tap4fun\\\\tap_fun_result_part1.csv')\n",
    "\n",
    "data_test2_id = data_test2['user_id'].values\n",
    "data_test2_id_final = pd.DataFrame(data_test2_id,columns={'user_id'})\n",
    "data_test2 = data_test2.drop(['user_id','register_time'],axis=1)\n",
    "\n",
    "data_test2_final = data_test2.drop(none_mean, axis=1)\n",
    "data_test2_final = scaler.transform(data_test2_final.values)\n",
    "data_test2_pred = SGDModel.predict(data_test2_final)\n",
    "\n",
    "for i in range(len(data_test2_pred)):\n",
    "    if data_test2_pred[i] < data_test2_7pays[i]:\n",
    "        data_test2_pred[i] = data_test2_7pays[i]\n",
    "\n",
    "for i in range(len(data_test2_pred)):\n",
    "    if data_test2_pred[i] < 0:\n",
    "        data_test2_pred[i] = 0\n",
    "#     elif data_test2_pred[i] < 1.4:\n",
    "#         data_test2_pred[i] = 0.99\n",
    "\n",
    "data_test2_pred_howmuch = pd.DataFrame(data_test2_pred,columns={'prediction_pay_price'})\n",
    "\n",
    "data_test2_result = pd.concat([data_test2_id_final,data_test2_pred_howmuch],axis=1)\n",
    "data_test2_result.to_csv('F:\\\\study\\\\ml\\\\DataSet\\\\Tap4fun\\\\tap_fun_result_part2.csv')\n",
    "\n",
    "pred_part1 = pd.read_csv('F:\\\\study\\\\ml\\\\DataSet\\\\Tap4fun\\\\tap_fun_result_part1.csv',index_col=0,parse_dates=True)\n",
    "pred_part2 = pd.read_csv('F:\\\\study\\\\ml\\\\DataSet\\\\Tap4fun\\\\tap_fun_result_part2.csv',index_col=0,parse_dates=True)\n",
    "\n",
    "pred = pred_part1.append(pred_part2)\n",
    "print(pred.shape)\n",
    "pred.to_csv('F:\\\\study\\\\ml\\\\DataSet\\\\Tap4fun\\\\SubMission\\\\pred_result999.csv',index=False)"
   ]
  },
  {
   "cell_type": "code",
   "execution_count": 30,
   "metadata": {
    "ExecuteTime": {
     "end_time": "2018-10-10T09:49:54.172712Z",
     "start_time": "2018-10-10T09:49:54.162712Z"
    }
   },
   "outputs": [
    {
     "data": {
      "text/plain": [
       "(828934, 108)"
      ]
     },
     "execution_count": 30,
     "metadata": {},
     "output_type": "execute_result"
    }
   ],
   "source": [
    "data1.shape"
   ]
  },
  {
   "cell_type": "code",
   "execution_count": 31,
   "metadata": {
    "ExecuteTime": {
     "end_time": "2018-10-10T09:49:56.247831Z",
     "start_time": "2018-10-10T09:49:56.203829Z"
    }
   },
   "outputs": [
    {
     "data": {
      "text/plain": [
       "(19549, 108)"
      ]
     },
     "execution_count": 31,
     "metadata": {},
     "output_type": "execute_result"
    }
   ],
   "source": [
    "data1[data1['pay_price']>0].shape"
   ]
  },
  {
   "cell_type": "code",
   "execution_count": 32,
   "metadata": {
    "ExecuteTime": {
     "end_time": "2018-10-10T09:49:58.908983Z",
     "start_time": "2018-10-10T09:49:58.899983Z"
    }
   },
   "outputs": [
    {
     "data": {
      "text/plain": [
       "(809385, 108)"
      ]
     },
     "execution_count": 32,
     "metadata": {},
     "output_type": "execute_result"
    }
   ],
   "source": [
    "data_test1.shape"
   ]
  },
  {
   "cell_type": "code",
   "execution_count": 33,
   "metadata": {
    "ExecuteTime": {
     "end_time": "2018-10-10T09:50:00.962101Z",
     "start_time": "2018-10-10T09:50:00.953100Z"
    }
   },
   "outputs": [
    {
     "data": {
      "text/plain": [
       "(19549, 106)"
      ]
     },
     "execution_count": 33,
     "metadata": {},
     "output_type": "execute_result"
    }
   ],
   "source": [
    "data_test2.shape"
   ]
  },
  {
   "cell_type": "code",
   "execution_count": null,
   "metadata": {},
   "outputs": [],
   "source": []
  },
  {
   "cell_type": "code",
   "execution_count": null,
   "metadata": {},
   "outputs": [],
   "source": []
  },
  {
   "cell_type": "code",
   "execution_count": 36,
   "metadata": {
    "ExecuteTime": {
     "end_time": "2018-10-10T10:06:25.747427Z",
     "start_time": "2018-10-10T10:06:25.742427Z"
    }
   },
   "outputs": [],
   "source": [
    "from sklearn.preprocessing import RobustScaler\n",
    "from sklearn.pipeline import make_pipeline\n",
    "from sklearn.linear_model import LinearRegression,LassoCV,RidgeCV,ElasticNetCV\n",
    "import matplotlib.pyplot as plt\n",
    "from sklearn.model_selection import cross_val_score ,KFold"
   ]
  },
  {
   "cell_type": "code",
   "execution_count": 34,
   "metadata": {
    "ExecuteTime": {
     "end_time": "2018-10-10T09:52:19.567029Z",
     "start_time": "2018-10-10T09:50:21.026248Z"
    }
   },
   "outputs": [],
   "source": [
    "kfolds=KFold(n_splits=10,shuffle=True,random_state=13)\n",
    "\n",
    "def cv_rmse(model):\n",
    "    rmse=np.sqrt(-cross_val_score(model,X_train,Y_train,scoring='neg_mean_squared_error',cv=kfolds,n_jobs=4))\n",
    "    return rmse\n",
    "    \n",
    "\n",
    "r_alphas=[0.01,0.1,0.5,1,5,10,50,100,500,1000]\n",
    "def ridge_k(k):\n",
    "    rmse_k=make_pipeline(RobustScaler(),\n",
    "                         RidgeCV(alphas=[k],cv=kfolds)).fit(X_train,Y_train)\n",
    "    return cv_rmse(rmse_k).mean()\n",
    "\n",
    "r_scores=[]\n",
    "for i in r_alphas:\n",
    "    score=ridge_k(i)\n",
    "    r_scores.append(score)\n",
    "\n",
    "\n"
   ]
  },
  {
   "cell_type": "code",
   "execution_count": 12,
   "metadata": {
    "ExecuteTime": {
     "end_time": "2018-10-10T09:22:55.585135Z",
     "start_time": "2018-10-10T09:22:55.554133Z"
    }
   },
   "outputs": [],
   "source": [
    "r_score=pd.DataFrame(list(zip(r_alphas,r_scores)),columns=['alpha','rmse'])"
   ]
  },
  {
   "cell_type": "code",
   "execution_count": 13,
   "metadata": {
    "ExecuteTime": {
     "end_time": "2018-10-10T09:22:56.260173Z",
     "start_time": "2018-10-10T09:22:56.254173Z"
    }
   },
   "outputs": [],
   "source": [
    "# plt.plot(r_score.alpha,r_score.rmse)\n",
    "# plt.show()"
   ]
  },
  {
   "cell_type": "code",
   "execution_count": 14,
   "metadata": {
    "ExecuteTime": {
     "end_time": "2018-10-10T09:23:08.214857Z",
     "start_time": "2018-10-10T09:22:57.303233Z"
    }
   },
   "outputs": [
    {
     "data": {
      "text/plain": [
       "455.3225020693987"
      ]
     },
     "execution_count": 14,
     "metadata": {},
     "output_type": "execute_result"
    }
   ],
   "source": [
    "r_model=make_pipeline(RobustScaler(),\n",
    "                     RidgeCV(alphas=[1000],cv=kfolds)).fit(X_train,Y_train)\n",
    "cv_rmse(r_model).mean()"
   ]
  },
  {
   "cell_type": "code",
   "execution_count": 15,
   "metadata": {
    "ExecuteTime": {
     "end_time": "2018-10-10T09:23:12.932127Z",
     "start_time": "2018-10-10T09:23:12.897125Z"
    }
   },
   "outputs": [
    {
     "data": {
      "text/plain": [
       "398.70890790954417"
      ]
     },
     "execution_count": 15,
     "metadata": {},
     "output_type": "execute_result"
    }
   ],
   "source": [
    "r_pred=r_model.predict(X_test)\n",
    "np.sqrt(mean_squared_error(Y_test,r_pred))"
   ]
  },
  {
   "cell_type": "code",
   "execution_count": 16,
   "metadata": {
    "ExecuteTime": {
     "end_time": "2018-10-10T09:23:37.462530Z",
     "start_time": "2018-10-10T09:23:16.609337Z"
    }
   },
   "outputs": [
    {
     "name": "stderr",
     "output_type": "stream",
     "text": [
      "D:\\ProgramData\\Anaconda3\\lib\\site-packages\\sklearn\\linear_model\\coordinate_descent.py:1094: DataConversionWarning: A column-vector y was passed when a 1d array was expected. Please change the shape of y to (n_samples, ), for example using ravel().\n",
      "  y = column_or_1d(y, warn=True)\n",
      "D:\\ProgramData\\Anaconda3\\lib\\site-packages\\sklearn\\linear_model\\coordinate_descent.py:491: ConvergenceWarning: Objective did not converge. You might want to increase the number of iterations. Fitting data with very small alpha may cause precision problems.\n",
      "  ConvergenceWarning)\n",
      "D:\\ProgramData\\Anaconda3\\lib\\site-packages\\sklearn\\linear_model\\coordinate_descent.py:491: ConvergenceWarning: Objective did not converge. You might want to increase the number of iterations. Fitting data with very small alpha may cause precision problems.\n",
      "  ConvergenceWarning)\n"
     ]
    }
   ],
   "source": [
    "l_alpha = [ 0.0001,0.0002,0.0004,0.0007, 0.0008,0.001]\n",
    "l_model=make_pipeline(RobustScaler(),\n",
    "                     LassoCV(alphas=l_alpha,max_iter=5000,cv=kfolds)).fit(X_train,Y_train)\n"
   ]
  },
  {
   "cell_type": "code",
   "execution_count": 35,
   "metadata": {
    "ExecuteTime": {
     "end_time": "2018-10-10T10:06:25.740427Z",
     "start_time": "2018-10-10T10:01:53.013828Z"
    }
   },
   "outputs": [
    {
     "data": {
      "text/plain": [
       "459.50109812533657"
      ]
     },
     "execution_count": 35,
     "metadata": {},
     "output_type": "execute_result"
    }
   ],
   "source": [
    "cv_rmse(l_model).mean()"
   ]
  },
  {
   "cell_type": "code",
   "execution_count": 21,
   "metadata": {
    "ExecuteTime": {
     "end_time": "2018-09-28T21:55:54.414947Z",
     "start_time": "2018-09-28T14:17:24.643478Z"
    }
   },
   "outputs": [
    {
     "name": "stderr",
     "output_type": "stream",
     "text": [
      "D:\\ProgramData\\Anaconda3\\lib\\site-packages\\sklearn\\linear_model\\coordinate_descent.py:1094: DataConversionWarning: A column-vector y was passed when a 1d array was expected. Please change the shape of y to (n_samples, ), for example using ravel().\n",
      "  y = column_or_1d(y, warn=True)\n"
     ]
    },
    {
     "data": {
      "text/plain": [
       "178.59660971556212"
      ]
     },
     "execution_count": 21,
     "metadata": {},
     "output_type": "execute_result"
    }
   ],
   "source": [
    "# e_alphas = [0.00001,0.00005,0.0001, 0.0002, 0.0003, 0.0004, 0.0005, 0.0006, 0.0007]\n",
    "# e_l1ratio = [0.1,0.2,0.3,0.4,0.5,0.6,0.7,0.8, 0.85, 0.9, 0.95, 0.99, 1]\n",
    "\n",
    "# elastic_model=make_pipeline(RobustScaler(),\n",
    "#                         ElasticNetCV(max_iter=1e5,alphas=e_alphas,l1_ratio=e_l1ratio,cv=kfolds)).fit(X_train,Y_train)\n",
    "\n",
    "# cv_rmse(elastic_model).mean()"
   ]
  },
  {
   "cell_type": "code",
   "execution_count": 32,
   "metadata": {
    "ExecuteTime": {
     "end_time": "2018-09-29T06:39:10.664710Z",
     "start_time": "2018-09-29T06:39:06.949497Z"
    }
   },
   "outputs": [
    {
     "name": "stdout",
     "output_type": "stream",
     "text": [
      "(828934, 2)\n"
     ]
    }
   ],
   "source": [
    "data_test2_pred = l_model.predict(data_test2_final)\n",
    "\n",
    "for i in range(len(data_test2_pred)):\n",
    "    if data_test2_pred[i] < data_test2_7pays[i]:\n",
    "        data_test2_pred[i] = data_test2_7pays[i]\n",
    "\n",
    "for i in range(len(data_test2_pred)):\n",
    "    if data_test2_pred[i] < 0:\n",
    "        data_test2_pred[i] = 0\n",
    "#     elif data_test2_pred[i] < 1.4:\n",
    "#         data_test2_pred[i] = 0.99\n",
    "\n",
    "data_test2_pred_howmuch = pd.DataFrame(data_test2_pred,columns={'prediction_pay_price'})\n",
    "\n",
    "data_test2_result = pd.concat([data_test2_id_final,data_test2_pred_howmuch],axis=1)\n",
    "data_test2_result.to_csv('F:\\\\study\\\\ml\\\\DataSet\\\\Tap4fun\\\\tap_fun_result_part2.csv')\n",
    "\n",
    "pred_part1 = pd.read_csv('F:\\\\study\\\\ml\\\\DataSet\\\\Tap4fun\\\\tap_fun_result_part1.csv',index_col=0,parse_dates=True)\n",
    "pred_part2 = pd.read_csv('F:\\\\study\\\\ml\\\\DataSet\\\\Tap4fun\\\\tap_fun_result_part2.csv',index_col=0,parse_dates=True)\n",
    "\n",
    "pred = pred_part1.append(pred_part2)\n",
    "print(pred.shape)\n",
    "pred.to_csv('F:\\\\study\\\\ml\\\\DataSet\\\\Tap4fun\\\\SubMission\\\\pred_result9.csv',index=False)"
   ]
  },
  {
   "cell_type": "code",
   "execution_count": null,
   "metadata": {},
   "outputs": [],
   "source": []
  },
  {
   "cell_type": "code",
   "execution_count": null,
   "metadata": {},
   "outputs": [],
   "source": []
  },
  {
   "cell_type": "code",
   "execution_count": null,
   "metadata": {},
   "outputs": [],
   "source": []
  },
  {
   "cell_type": "code",
   "execution_count": null,
   "metadata": {},
   "outputs": [],
   "source": []
  },
  {
   "cell_type": "code",
   "execution_count": null,
   "metadata": {},
   "outputs": [],
   "source": []
  },
  {
   "cell_type": "code",
   "execution_count": null,
   "metadata": {},
   "outputs": [],
   "source": []
  },
  {
   "cell_type": "code",
   "execution_count": null,
   "metadata": {},
   "outputs": [],
   "source": []
  }
 ],
 "metadata": {
  "kernelspec": {
   "display_name": "Python 3",
   "language": "python",
   "name": "python3"
  },
  "language_info": {
   "codemirror_mode": {
    "name": "ipython",
    "version": 3
   },
   "file_extension": ".py",
   "mimetype": "text/x-python",
   "name": "python",
   "nbconvert_exporter": "python",
   "pygments_lexer": "ipython3",
   "version": "3.6.3"
  }
 },
 "nbformat": 4,
 "nbformat_minor": 2
}
