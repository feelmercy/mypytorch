{
 "cells": [
  {
   "cell_type": "code",
   "execution_count": 39,
   "metadata": {
    "ExecuteTime": {
     "end_time": "2018-09-26T07:50:11.274781Z",
     "start_time": "2018-09-26T07:50:11.249180Z"
    }
   },
   "outputs": [],
   "source": [
    "import pandas as pd\n",
    "import numpy as np\n",
    "from sklearn.linear_model import LassoCV,Lasso,LinearRegression\n",
    "from sklearn.linear_model.stochastic_gradient import SGDRegressor\n",
    "from sklearn.ensemble import GradientBoostingRegressor,RandomForestRegressor\n",
    "from sklearn.svm import SVR\n",
    "from sklearn.model_selection import train_test_split\n",
    "from sklearn.metrics import mean_squared_error,r2_score\n",
    "from sklearn.externals import joblib\n",
    "from sklearn.preprocessing import StandardScaler,MinMaxScaler,Normalizer,scale,MaxAbsScaler,RobustScaler\n",
    "from sklearn.model_selection import cross_val_score\n",
    "from sklearn.pipeline import make_pipeline"
   ]
  },
  {
   "cell_type": "code",
   "execution_count": 5,
   "metadata": {
    "ExecuteTime": {
     "end_time": "2018-09-26T07:20:59.756879Z",
     "start_time": "2018-09-26T07:20:27.111011Z"
    }
   },
   "outputs": [],
   "source": [
    "df_train=pd.read_csv('F:\\\\study\\\\ml\\\\DataSet\\\\Tap4fun\\\\tap_fun_train.csv')\n",
    "c_int=df_train.select_dtypes(include=['int64']).apply(pd.to_numeric,downcast='unsigned')\n",
    "c_float=df_train.select_dtypes(include=['float']).apply(pd.to_numeric,downcast='float')\n",
    "\n",
    "o_df=pd.concat([c_int,c_float],axis=1)\n",
    "column_type=dict(o_df.dtypes.copy())\n",
    "\n",
    "del o_df,c_int,c_float,df_train"
   ]
  },
  {
   "cell_type": "code",
   "execution_count": 6,
   "metadata": {
    "ExecuteTime": {
     "end_time": "2018-09-26T07:21:21.891145Z",
     "start_time": "2018-09-26T07:20:59.758879Z"
    }
   },
   "outputs": [],
   "source": [
    "data=pd.read_csv('F:\\\\study\\\\ml\\\\DataSet\\\\Tap4fun\\\\tap_fun_train.csv',\n",
    "                      dtype=column_type,parse_dates=['register_time'],infer_datetime_format=True)\n",
    "\n",
    "# data_test=pd.read_csv('F:\\\\study\\\\ml\\\\DataSet\\\\Tap4fun\\\\tap_fun_test.csv',\n",
    "#                       dtype=column_type,parse_dates=['register_time'],infer_datetime_format=True)"
   ]
  },
  {
   "cell_type": "code",
   "execution_count": 12,
   "metadata": {
    "ExecuteTime": {
     "end_time": "2018-09-26T07:26:08.253674Z",
     "start_time": "2018-09-26T07:26:08.178071Z"
    }
   },
   "outputs": [
    {
     "data": {
      "text/plain": [
       "(14939, 109)"
      ]
     },
     "execution_count": 12,
     "metadata": {},
     "output_type": "execute_result"
    }
   ],
   "source": [
    "data[(data.avg_online_minutes >=12) & (data.pay_price < data.prediction_pay_price)].shape"
   ]
  },
  {
   "cell_type": "code",
   "execution_count": 16,
   "metadata": {
    "ExecuteTime": {
     "end_time": "2018-09-26T07:27:15.964140Z",
     "start_time": "2018-09-26T07:27:15.800932Z"
    }
   },
   "outputs": [
    {
     "data": {
      "text/plain": [
       "(275717, 109)"
      ]
     },
     "execution_count": 16,
     "metadata": {},
     "output_type": "execute_result"
    }
   ],
   "source": [
    "data[(data.avg_online_minutes >=12)].shape"
   ]
  },
  {
   "cell_type": "code",
   "execution_count": 161,
   "metadata": {
    "ExecuteTime": {
     "end_time": "2018-09-27T06:33:24.310318Z",
     "start_time": "2018-09-27T06:33:24.226714Z"
    }
   },
   "outputs": [
    {
     "data": {
      "text/plain": [
       "count    11309.000000\n",
       "mean       245.507996\n",
       "std        180.424377\n",
       "min          0.666667\n",
       "25%        109.666664\n",
       "50%        200.500000\n",
       "75%        339.833344\n",
       "max       1674.666626\n",
       "Name: avg_online_minutes, dtype: float64"
      ]
     },
     "execution_count": 161,
     "metadata": {},
     "output_type": "execute_result"
    }
   ],
   "source": [
    "data[(data['prediction_pay_price'] > data['pay_price']) & data['pay_price'] > 0.99] ['avg_online_minutes'].describe()"
   ]
  },
  {
   "cell_type": "code",
   "execution_count": 17,
   "metadata": {
    "ExecuteTime": {
     "end_time": "2018-09-26T07:28:41.435201Z",
     "start_time": "2018-09-26T07:28:41.232591Z"
    }
   },
   "outputs": [],
   "source": [
    "data_train = data[data['avg_online_minutes'] >= 12].copy()"
   ]
  },
  {
   "cell_type": "code",
   "execution_count": 18,
   "metadata": {
    "ExecuteTime": {
     "end_time": "2018-09-26T07:28:55.868831Z",
     "start_time": "2018-09-26T07:28:55.837631Z"
    }
   },
   "outputs": [
    {
     "data": {
      "text/plain": [
       "(275717, 109)"
      ]
     },
     "execution_count": 18,
     "metadata": {},
     "output_type": "execute_result"
    }
   ],
   "source": [
    "data_train.shape"
   ]
  },
  {
   "cell_type": "code",
   "execution_count": 19,
   "metadata": {
    "ExecuteTime": {
     "end_time": "2018-09-26T07:29:05.603426Z",
     "start_time": "2018-09-26T07:29:05.496820Z"
    }
   },
   "outputs": [],
   "source": [
    "data_train = data_train.drop(['user_id','register_time'],axis=1)"
   ]
  },
  {
   "cell_type": "code",
   "execution_count": 20,
   "metadata": {
    "ExecuteTime": {
     "end_time": "2018-09-26T07:29:21.517088Z",
     "start_time": "2018-09-26T07:29:21.437484Z"
    }
   },
   "outputs": [],
   "source": [
    "x_train = data_train.loc[:, data_train.columns != 'prediction_pay_price']\n",
    "y_train = data_train.loc[:, data_train.columns == 'prediction_pay_price']"
   ]
  },
  {
   "cell_type": "code",
   "execution_count": null,
   "metadata": {},
   "outputs": [],
   "source": []
  },
  {
   "cell_type": "code",
   "execution_count": 28,
   "metadata": {
    "ExecuteTime": {
     "end_time": "2018-09-26T07:37:56.833535Z",
     "start_time": "2018-09-26T07:37:55.601465Z"
    }
   },
   "outputs": [],
   "source": [
    "train_7pay=data[data['pay_price']>0].copy()\n",
    "train_7pay=train_7pay.drop(['register_time'],axis=1)\n",
    "# test_7pay=data_test2[data_test2['pay_price']>0].copy()\n",
    "\n",
    "# train_7pay2=data_train2[data_train2['pay_price']>0].copy()\n",
    "# test_7pay2=data_test2[data_test2['pay_price']>0].copy()\n",
    "train_7pay_y=train_7pay.prediction_pay_price\n",
    "train_7pay_X=train_7pay.drop(labels=['prediction_pay_price','user_id'],axis=1)\n",
    "train_7pay_user_id=train_7pay.user_id\n",
    "# test_7pay_X=test_7pay.drop(labels=['user_id'],axis=1)\n",
    "# test_7pay_user_id=test_7pay.user_id\n",
    "\n",
    "drop_col=[i for i in train_7pay.columns.values if 'prediction' in  i]\n",
    "drop_col.append('user_id')\n",
    "X=train_7pay.drop(labels=drop_col,axis=1)\n",
    "y=train_7pay.prediction_pay_price\n",
    "# X=train_7pay_X\n",
    "y=train_7pay_y\n",
    "X.replace([np.inf,-np.inf],np.nan,inplace=True)\n",
    "X.fillna(0.0,inplace=True)\n",
    "\n",
    "X['user_id']=train_7pay_user_id\n",
    "\n",
    "X1,val_X1,y1,val_y1=train_test_split(X,y,test_size=0.2,random_state=17)\n",
    "X2=X1.drop(labels='user_id',axis=1)\n",
    "val_X2=val_X1.drop(labels='user_id',axis=1)\n",
    "X2_user_id=X1.user_id\n",
    "val_X2_user_id=val_X1.user_id\n",
    "\n",
    "X.drop(labels='user_id',axis=1,inplace=True)"
   ]
  },
  {
   "cell_type": "code",
   "execution_count": 32,
   "metadata": {
    "ExecuteTime": {
     "end_time": "2018-09-26T07:39:12.301385Z",
     "start_time": "2018-09-26T07:39:12.269185Z"
    }
   },
   "outputs": [
    {
     "data": {
      "text/plain": [
       "702488      883635\n",
       "1536614    1990570\n",
       "11227        12819\n",
       "2034737    2895886\n",
       "1661662    2243560\n",
       "2248171    3148938\n",
       "2229203    3096565\n",
       "636882      816388\n",
       "585327      763974\n",
       "344818      387714\n",
       "1838324    2586630\n",
       "1787252    2409960\n",
       "1989379    2814820\n",
       "750539      932347\n",
       "1907104    2728834\n",
       "1221125    1535539\n",
       "1933460    2755190\n",
       "1942391    2764121\n",
       "1192874    1507288\n",
       "842856     1063496\n",
       "99690       125950\n",
       "1820601    2568907\n",
       "1525347    1960296\n",
       "730313      911460\n",
       "287318      324317\n",
       "1174092    1486891\n",
       "1428029    1859175\n",
       "1330133    1741863\n",
       "38624        60243\n",
       "1360344    1789589\n",
       "            ...   \n",
       "1121648    1391536\n",
       "1627176    2207536\n",
       "1025715    1272961\n",
       "1067768    1337656\n",
       "693223      873204\n",
       "844386     1065026\n",
       "236191      271402\n",
       "1039972    1305330\n",
       "2241452    3142219\n",
       "1304364    1714428\n",
       "161818      196181\n",
       "278672      315671\n",
       "149627      182309\n",
       "1912980    2734710\n",
       "2276241    3178765\n",
       "2083573    2946361\n",
       "173729      208092\n",
       "1159936    1454010\n",
       "97594       123854\n",
       "392603      546374\n",
       "315448      355047\n",
       "1052591    1322479\n",
       "94396       120656\n",
       "782771     1000180\n",
       "2051044    2913832\n",
       "1706817    2289819\n",
       "1403933    1833178\n",
       "1819987    2568293\n",
       "1919757    2741487\n",
       "586965      765612\n",
       "Name: user_id, Length: 33151, dtype: uint32"
      ]
     },
     "execution_count": 32,
     "metadata": {},
     "output_type": "execute_result"
    }
   ],
   "source": []
  },
  {
   "cell_type": "code",
   "execution_count": 43,
   "metadata": {
    "ExecuteTime": {
     "end_time": "2018-09-26T09:21:24.649067Z",
     "start_time": "2018-09-26T09:14:05.840369Z"
    }
   },
   "outputs": [
    {
     "name": "stdout",
     "output_type": "stream",
     "text": [
      "[ 1.69341883e-07  5.63455158e-06 -5.59014840e-07  2.44806255e-06\n",
      "  1.29271159e-05 -2.02717754e-05 -6.31147203e-07  3.66459482e-07\n",
      "  9.12525177e-07 -1.93078141e-06 -4.23377641e-03  6.39385633e-03\n",
      "  1.56027300e-02 -1.13214028e-02 -7.95784079e-03  7.82507152e-03\n",
      " -5.59751729e-03  3.83482384e-03 -5.79091531e-03  4.31236702e-04\n",
      "  4.49666627e-03 -4.93278489e-03 -2.88068437e-03  4.35721150e-04\n",
      "  4.99747960e-04 -9.17476556e-03 -3.69248982e-03  2.78655212e-03\n",
      "  9.36521834e-03 -1.09089228e-02  1.14110805e-02 -7.56458929e-02\n",
      "  0.00000000e+00 -0.00000000e+00 -1.12155864e-02 -1.71158658e-01\n",
      " -1.12695791e-01  4.08690469e-01 -3.03881527e-01 -2.00115946e+00\n",
      "  0.00000000e+00  6.71943032e-01 -2.25896555e-01  2.50901023e+00\n",
      " -0.00000000e+00 -0.00000000e+00  0.00000000e+00 -1.12893457e-01\n",
      "  0.00000000e+00 -0.00000000e+00 -2.54249040e+00 -3.06173804e+00\n",
      " -6.86526687e+00  8.00667868e-01  0.00000000e+00  1.99301728e+00\n",
      "  0.00000000e+00  0.00000000e+00  0.00000000e+00 -0.00000000e+00\n",
      " -0.00000000e+00 -0.00000000e+00 -0.00000000e+00 -0.00000000e+00\n",
      "  0.00000000e+00 -0.00000000e+00 -0.00000000e+00 -0.00000000e+00\n",
      " -0.00000000e+00 -0.00000000e+00 -1.79315596e+00  0.00000000e+00\n",
      "  0.00000000e+00 -0.00000000e+00  0.00000000e+00  0.00000000e+00\n",
      "  0.00000000e+00  0.00000000e+00  0.00000000e+00 -0.00000000e+00\n",
      " -0.00000000e+00 -0.00000000e+00  0.00000000e+00  0.00000000e+00\n",
      "  1.88795208e-01 -0.00000000e+00  0.00000000e+00 -0.00000000e+00\n",
      "  0.00000000e+00  0.00000000e+00  0.00000000e+00  0.00000000e+00\n",
      "  0.00000000e+00 -0.00000000e+00  0.00000000e+00 -0.00000000e+00\n",
      " -0.00000000e+00 -8.53096049e-02 -0.00000000e+00  4.87307325e-03\n",
      "  0.00000000e+00  0.00000000e+00 -1.62677753e-01  4.76914903e-02\n",
      "  2.67713234e+00  7.27202018e+00]\n",
      "106\n"
     ]
    },
    {
     "name": "stderr",
     "output_type": "stream",
     "text": [
      "D:\\ProgramData\\Anaconda3\\lib\\site-packages\\sklearn\\linear_model\\coordinate_descent.py:491: ConvergenceWarning: Objective did not converge. You might want to increase the number of iterations. Fitting data with very small alpha may cause precision problems.\n",
      "  ConvergenceWarning)\n"
     ]
    }
   ],
   "source": [
    "model = Lasso(max_iter=1e4) #分析了训练数据，存在大量共线，可使用L1正则化消除共线\n",
    "model.fit(x_train, y_train)\n",
    "print(model.coef_)\n",
    "print(len(model.coef_))"
   ]
  },
  {
   "cell_type": "code",
   "execution_count": 33,
   "metadata": {
    "ExecuteTime": {
     "end_time": "2018-09-26T07:39:24.981053Z",
     "start_time": "2018-09-26T07:39:24.940451Z"
    }
   },
   "outputs": [
    {
     "data": {
      "text/plain": [
       "402.36355015764485"
      ]
     },
     "execution_count": 33,
     "metadata": {},
     "output_type": "execute_result"
    }
   ],
   "source": [
    "l_pred=model.predict(X2)\n",
    "np.sqrt(mean_squared_error(y1,l_pred))"
   ]
  },
  {
   "cell_type": "code",
   "execution_count": 63,
   "metadata": {
    "ExecuteTime": {
     "end_time": "2018-09-26T09:38:33.081071Z",
     "start_time": "2018-09-26T09:38:33.032469Z"
    }
   },
   "outputs": [
    {
     "data": {
      "text/html": [
       "<div>\n",
       "<style scoped>\n",
       "    .dataframe tbody tr th:only-of-type {\n",
       "        vertical-align: middle;\n",
       "    }\n",
       "\n",
       "    .dataframe tbody tr th {\n",
       "        vertical-align: top;\n",
       "    }\n",
       "\n",
       "    .dataframe thead th {\n",
       "        text-align: right;\n",
       "    }\n",
       "</style>\n",
       "<table border=\"1\" class=\"dataframe\">\n",
       "  <thead>\n",
       "    <tr style=\"text-align: right;\">\n",
       "      <th></th>\n",
       "      <th>coef</th>\n",
       "    </tr>\n",
       "  </thead>\n",
       "  <tbody>\n",
       "    <tr>\n",
       "      <th>wood_add_value</th>\n",
       "      <td>1.693419e-07</td>\n",
       "    </tr>\n",
       "    <tr>\n",
       "      <th>stone_add_value</th>\n",
       "      <td>-5.590148e-07</td>\n",
       "    </tr>\n",
       "    <tr>\n",
       "      <th>meat_add_value</th>\n",
       "      <td>-6.311472e-07</td>\n",
       "    </tr>\n",
       "    <tr>\n",
       "      <th>meat_reduce_value</th>\n",
       "      <td>3.664595e-07</td>\n",
       "    </tr>\n",
       "    <tr>\n",
       "      <th>magic_add_value</th>\n",
       "      <td>9.125252e-07</td>\n",
       "    </tr>\n",
       "    <tr>\n",
       "      <th>bd_training_hut_level</th>\n",
       "      <td>0.000000e+00</td>\n",
       "    </tr>\n",
       "    <tr>\n",
       "      <th>bd_healing_lodge_level</th>\n",
       "      <td>-0.000000e+00</td>\n",
       "    </tr>\n",
       "    <tr>\n",
       "      <th>bd_warehouse_level</th>\n",
       "      <td>0.000000e+00</td>\n",
       "    </tr>\n",
       "    <tr>\n",
       "      <th>bd_market_level</th>\n",
       "      <td>-0.000000e+00</td>\n",
       "    </tr>\n",
       "    <tr>\n",
       "      <th>bd_hero_gacha_level</th>\n",
       "      <td>-0.000000e+00</td>\n",
       "    </tr>\n",
       "    <tr>\n",
       "      <th>bd_hero_strengthen_level</th>\n",
       "      <td>0.000000e+00</td>\n",
       "    </tr>\n",
       "    <tr>\n",
       "      <th>sr_scout_level</th>\n",
       "      <td>0.000000e+00</td>\n",
       "    </tr>\n",
       "    <tr>\n",
       "      <th>sr_training_speed_level</th>\n",
       "      <td>-0.000000e+00</td>\n",
       "    </tr>\n",
       "    <tr>\n",
       "      <th>sr_cavalry_atk_level</th>\n",
       "      <td>0.000000e+00</td>\n",
       "    </tr>\n",
       "    <tr>\n",
       "      <th>sr_infantry_tier_3_level</th>\n",
       "      <td>0.000000e+00</td>\n",
       "    </tr>\n",
       "    <tr>\n",
       "      <th>sr_cavalry_tier_3_level</th>\n",
       "      <td>0.000000e+00</td>\n",
       "    </tr>\n",
       "    <tr>\n",
       "      <th>sr_shaman_tier_3_level</th>\n",
       "      <td>0.000000e+00</td>\n",
       "    </tr>\n",
       "    <tr>\n",
       "      <th>sr_troop_defense_level</th>\n",
       "      <td>-0.000000e+00</td>\n",
       "    </tr>\n",
       "    <tr>\n",
       "      <th>sr_infantry_def_level</th>\n",
       "      <td>-0.000000e+00</td>\n",
       "    </tr>\n",
       "    <tr>\n",
       "      <th>sr_cavalry_def_level</th>\n",
       "      <td>-0.000000e+00</td>\n",
       "    </tr>\n",
       "    <tr>\n",
       "      <th>sr_shaman_def_level</th>\n",
       "      <td>-0.000000e+00</td>\n",
       "    </tr>\n",
       "    <tr>\n",
       "      <th>sr_infantry_hp_level</th>\n",
       "      <td>-0.000000e+00</td>\n",
       "    </tr>\n",
       "    <tr>\n",
       "      <th>sr_cavalry_hp_level</th>\n",
       "      <td>0.000000e+00</td>\n",
       "    </tr>\n",
       "    <tr>\n",
       "      <th>sr_shaman_hp_level</th>\n",
       "      <td>-0.000000e+00</td>\n",
       "    </tr>\n",
       "    <tr>\n",
       "      <th>sr_infantry_tier_4_level</th>\n",
       "      <td>-0.000000e+00</td>\n",
       "    </tr>\n",
       "    <tr>\n",
       "      <th>sr_cavalry_tier_4_level</th>\n",
       "      <td>-0.000000e+00</td>\n",
       "    </tr>\n",
       "    <tr>\n",
       "      <th>sr_shaman_tier_4_level</th>\n",
       "      <td>-0.000000e+00</td>\n",
       "    </tr>\n",
       "    <tr>\n",
       "      <th>sr_troop_attack_level</th>\n",
       "      <td>-0.000000e+00</td>\n",
       "    </tr>\n",
       "    <tr>\n",
       "      <th>sr_hide_storage_level</th>\n",
       "      <td>0.000000e+00</td>\n",
       "    </tr>\n",
       "    <tr>\n",
       "      <th>sr_troop_consumption_level</th>\n",
       "      <td>0.000000e+00</td>\n",
       "    </tr>\n",
       "    <tr>\n",
       "      <th>sr_rss_a_prod_levell</th>\n",
       "      <td>-0.000000e+00</td>\n",
       "    </tr>\n",
       "    <tr>\n",
       "      <th>sr_rss_b_prod_level</th>\n",
       "      <td>0.000000e+00</td>\n",
       "    </tr>\n",
       "    <tr>\n",
       "      <th>sr_rss_c_prod_level</th>\n",
       "      <td>0.000000e+00</td>\n",
       "    </tr>\n",
       "    <tr>\n",
       "      <th>sr_rss_d_prod_level</th>\n",
       "      <td>0.000000e+00</td>\n",
       "    </tr>\n",
       "    <tr>\n",
       "      <th>sr_rss_a_gather_level</th>\n",
       "      <td>0.000000e+00</td>\n",
       "    </tr>\n",
       "    <tr>\n",
       "      <th>sr_rss_b_gather_level</th>\n",
       "      <td>0.000000e+00</td>\n",
       "    </tr>\n",
       "    <tr>\n",
       "      <th>sr_rss_c_gather_level</th>\n",
       "      <td>-0.000000e+00</td>\n",
       "    </tr>\n",
       "    <tr>\n",
       "      <th>sr_rss_d_gather_level</th>\n",
       "      <td>-0.000000e+00</td>\n",
       "    </tr>\n",
       "    <tr>\n",
       "      <th>sr_troop_load_level</th>\n",
       "      <td>-0.000000e+00</td>\n",
       "    </tr>\n",
       "    <tr>\n",
       "      <th>sr_rss_e_gather_level</th>\n",
       "      <td>0.000000e+00</td>\n",
       "    </tr>\n",
       "    <tr>\n",
       "      <th>sr_rss_e_prod_level</th>\n",
       "      <td>0.000000e+00</td>\n",
       "    </tr>\n",
       "    <tr>\n",
       "      <th>sr_outpost_tier_2_level</th>\n",
       "      <td>-0.000000e+00</td>\n",
       "    </tr>\n",
       "    <tr>\n",
       "      <th>sr_healing_space_level</th>\n",
       "      <td>0.000000e+00</td>\n",
       "    </tr>\n",
       "    <tr>\n",
       "      <th>sr_gathering_hunter_buff_level</th>\n",
       "      <td>-0.000000e+00</td>\n",
       "    </tr>\n",
       "    <tr>\n",
       "      <th>sr_healing_speed_level</th>\n",
       "      <td>0.000000e+00</td>\n",
       "    </tr>\n",
       "    <tr>\n",
       "      <th>sr_outpost_tier_3_level</th>\n",
       "      <td>0.000000e+00</td>\n",
       "    </tr>\n",
       "    <tr>\n",
       "      <th>sr_alliance_march_speed_level</th>\n",
       "      <td>0.000000e+00</td>\n",
       "    </tr>\n",
       "    <tr>\n",
       "      <th>sr_pvp_march_speed_level</th>\n",
       "      <td>0.000000e+00</td>\n",
       "    </tr>\n",
       "    <tr>\n",
       "      <th>sr_gathering_march_speed_level</th>\n",
       "      <td>0.000000e+00</td>\n",
       "    </tr>\n",
       "    <tr>\n",
       "      <th>sr_outpost_tier_4_level</th>\n",
       "      <td>-0.000000e+00</td>\n",
       "    </tr>\n",
       "    <tr>\n",
       "      <th>sr_guest_troop_capacity_level</th>\n",
       "      <td>0.000000e+00</td>\n",
       "    </tr>\n",
       "    <tr>\n",
       "      <th>sr_march_size_level</th>\n",
       "      <td>-0.000000e+00</td>\n",
       "    </tr>\n",
       "    <tr>\n",
       "      <th>sr_rss_help_bonus_level</th>\n",
       "      <td>-0.000000e+00</td>\n",
       "    </tr>\n",
       "    <tr>\n",
       "      <th>pvp_lanch_count</th>\n",
       "      <td>-0.000000e+00</td>\n",
       "    </tr>\n",
       "    <tr>\n",
       "      <th>pve_battle_count</th>\n",
       "      <td>0.000000e+00</td>\n",
       "    </tr>\n",
       "    <tr>\n",
       "      <th>pve_lanch_count</th>\n",
       "      <td>0.000000e+00</td>\n",
       "    </tr>\n",
       "  </tbody>\n",
       "</table>\n",
       "</div>"
      ],
      "text/plain": [
       "                                        coef\n",
       "wood_add_value                  1.693419e-07\n",
       "stone_add_value                -5.590148e-07\n",
       "meat_add_value                 -6.311472e-07\n",
       "meat_reduce_value               3.664595e-07\n",
       "magic_add_value                 9.125252e-07\n",
       "bd_training_hut_level           0.000000e+00\n",
       "bd_healing_lodge_level         -0.000000e+00\n",
       "bd_warehouse_level              0.000000e+00\n",
       "bd_market_level                -0.000000e+00\n",
       "bd_hero_gacha_level            -0.000000e+00\n",
       "bd_hero_strengthen_level        0.000000e+00\n",
       "sr_scout_level                  0.000000e+00\n",
       "sr_training_speed_level        -0.000000e+00\n",
       "sr_cavalry_atk_level            0.000000e+00\n",
       "sr_infantry_tier_3_level        0.000000e+00\n",
       "sr_cavalry_tier_3_level         0.000000e+00\n",
       "sr_shaman_tier_3_level          0.000000e+00\n",
       "sr_troop_defense_level         -0.000000e+00\n",
       "sr_infantry_def_level          -0.000000e+00\n",
       "sr_cavalry_def_level           -0.000000e+00\n",
       "sr_shaman_def_level            -0.000000e+00\n",
       "sr_infantry_hp_level           -0.000000e+00\n",
       "sr_cavalry_hp_level             0.000000e+00\n",
       "sr_shaman_hp_level             -0.000000e+00\n",
       "sr_infantry_tier_4_level       -0.000000e+00\n",
       "sr_cavalry_tier_4_level        -0.000000e+00\n",
       "sr_shaman_tier_4_level         -0.000000e+00\n",
       "sr_troop_attack_level          -0.000000e+00\n",
       "sr_hide_storage_level           0.000000e+00\n",
       "sr_troop_consumption_level      0.000000e+00\n",
       "sr_rss_a_prod_levell           -0.000000e+00\n",
       "sr_rss_b_prod_level             0.000000e+00\n",
       "sr_rss_c_prod_level             0.000000e+00\n",
       "sr_rss_d_prod_level             0.000000e+00\n",
       "sr_rss_a_gather_level           0.000000e+00\n",
       "sr_rss_b_gather_level           0.000000e+00\n",
       "sr_rss_c_gather_level          -0.000000e+00\n",
       "sr_rss_d_gather_level          -0.000000e+00\n",
       "sr_troop_load_level            -0.000000e+00\n",
       "sr_rss_e_gather_level           0.000000e+00\n",
       "sr_rss_e_prod_level             0.000000e+00\n",
       "sr_outpost_tier_2_level        -0.000000e+00\n",
       "sr_healing_space_level          0.000000e+00\n",
       "sr_gathering_hunter_buff_level -0.000000e+00\n",
       "sr_healing_speed_level          0.000000e+00\n",
       "sr_outpost_tier_3_level         0.000000e+00\n",
       "sr_alliance_march_speed_level   0.000000e+00\n",
       "sr_pvp_march_speed_level        0.000000e+00\n",
       "sr_gathering_march_speed_level  0.000000e+00\n",
       "sr_outpost_tier_4_level        -0.000000e+00\n",
       "sr_guest_troop_capacity_level   0.000000e+00\n",
       "sr_march_size_level            -0.000000e+00\n",
       "sr_rss_help_bonus_level        -0.000000e+00\n",
       "pvp_lanch_count                -0.000000e+00\n",
       "pve_battle_count                0.000000e+00\n",
       "pve_lanch_count                 0.000000e+00"
      ]
     },
     "execution_count": 63,
     "metadata": {},
     "output_type": "execute_result"
    }
   ],
   "source": [
    "la_coef=pd.DataFrame(model.coef_,x_train.columns,columns=['coef'])\n",
    "la_coef[abs(la_coef.values) < 1e-6]"
   ]
  },
  {
   "cell_type": "code",
   "execution_count": 75,
   "metadata": {
    "ExecuteTime": {
     "end_time": "2018-09-27T01:02:21.232728Z",
     "start_time": "2018-09-27T01:02:21.177526Z"
    }
   },
   "outputs": [],
   "source": [
    "# model2 = Lasso() #分析了训练数据，存在大量共线，可使用L1正则化消除共线\n",
    "# model2.fit(X, y)\n",
    "# print(model2.coef_)\n",
    "# print(len(model2.coef_))\n",
    "\n",
    "# l_pred2=model2.predict(X2)\n",
    "# np.sqrt(mean_squared_error(y1,l_pred2))\n",
    "\n",
    "# la_coef2=pd.DataFrame(model2.coef_,X.columns,columns=['coef'])\n",
    "# la_coef2[abs(la_coef2.values) < 1e-6]\n",
    "\n",
    "\n",
    "# la_used_col=la_coef[abs(la_coef['coef'])< 1e-06]\n",
    "# la_used_col2=la_coef2[abs(la_coef2['coef'])< 1e-06]\n",
    "\n",
    "# la_used_col.shape\n",
    "\n",
    "# la_used_col2.shape\n",
    "\n",
    "# train_7pay=data[data['pay_price']>0].copy()\n",
    "# train_7pay=train_7pay.drop(['register_time'],axis=1)\n",
    "# # test_7pay=data_test2[data_test2['pay_price']>0].copy()\n",
    "\n",
    "# # train_7pay2=data_train2[data_train2['pay_price']>0].copy()\n",
    "# # test_7pay2=data_test2[data_test2['pay_price']>0].copy()\n",
    "# train_7pay_y=train_7pay.prediction_pay_price\n",
    "# train_7pay_X=train_7pay.drop(labels=['prediction_pay_price','user_id'],axis=1)\n",
    "# train_7pay_user_id=train_7pay.user_id\n",
    "# # test_7pay_X=test_7pay.drop(labels=['user_id'],axis=1)\n",
    "# # test_7pay_user_id=test_7pay.user_id\n",
    "\n",
    "# drop_col=[i for i in train_7pay.columns.values if 'prediction' in  i]\n",
    "# drop_col.append('user_id')\n",
    "# X=train_7pay.drop(labels=drop_col,axis=1)\n",
    "# y=train_7pay.prediction_pay_price\n",
    "# # X=train_7pay_X\n",
    "# y=train_7pay_y\n",
    "# X.replace([np.inf,-np.inf],np.nan,inplace=True)\n",
    "# X.fillna(0.0,inplace=True)\n",
    "\n",
    "# X['user_id']=train_7pay_user_id\n",
    "\n",
    "# X1,val_X1,y1,val_y1=train_test_split(X,y,test_size=0.2,random_state=17)\n",
    "# X2=X1.drop(labels='user_id',axis=1)\n",
    "# val_X2=val_X1.drop(labels='user_id',axis=1)\n",
    "# X2_user_id=X1.user_id\n",
    "# val_X2_user_id=val_X1.user_id\n",
    "\n",
    "# X.drop(labels='user_id',axis=1,inplace=True)\n",
    "\n",
    "# x_train_new1=x_train.drop(labels=la_used_col.index,axis=1)\n",
    "# x_train_new2=x_train.drop(labels=la_used_col2.index,axis=1)\n",
    "\n",
    "# X_new1=X.drop(labels=la_used_col.index,axis=1)\n",
    "# X_new2=X.drop(labels=la_used_col2.index,axis=1)\n",
    "\n",
    "# X2_new1=X2.drop(labels=la_used_col.index,axis=1)\n",
    "# X2_new2=X2.drop(labels=la_used_col2.index,axis=1)\n",
    "\n",
    "# val_X2_new1=val_X2.drop(labels=la_used_col.index,axis=1)\n",
    "# val_X2_new2=val_X2.drop(labels=la_used_col2.index,axis=1)\n",
    "\n",
    "\n",
    "# model3 = Lasso() #分析了训练数据，存在大量共线，可使用L1正则化消除共线\n",
    "# model3.fit(x_train_new1, y_train)\n",
    "# l_pred3=model3.predict(X2_new1)\n",
    "# np.sqrt(mean_squared_error(y1,l_pred3))\n",
    "\n",
    "\n",
    "\n",
    "\n",
    "# model4 = Lasso() #分析了训练数据，存在大量共线，可使用L1正则化消除共线\n",
    "# model4.fit(x_train_new2, y_train)\n",
    "# l_pred4=model4.predict(X2_new2)\n",
    "# np.sqrt(mean_squared_error(y1,l_pred4))"
   ]
  },
  {
   "cell_type": "code",
   "execution_count": 96,
   "metadata": {
    "ExecuteTime": {
     "end_time": "2018-09-27T02:29:26.102584Z",
     "start_time": "2018-09-27T02:29:25.917376Z"
    }
   },
   "outputs": [],
   "source": [
    "none_mean=la_coef[abs(la_coef.values) < 1e-6].index\n",
    "x_train_final=x_train.drop(none_mean,axis=1)\n",
    "X_train,X_test,Y_train,Y_test=train_test_split(x_train_final,y_train,test_size=0.2,random_state=0)"
   ]
  },
  {
   "cell_type": "code",
   "execution_count": 77,
   "metadata": {
    "ExecuteTime": {
     "end_time": "2018-09-27T01:06:12.065867Z",
     "start_time": "2018-09-27T01:06:12.034667Z"
    }
   },
   "outputs": [
    {
     "data": {
      "text/plain": [
       "(220573, 50)"
      ]
     },
     "execution_count": 77,
     "metadata": {},
     "output_type": "execute_result"
    }
   ],
   "source": [
    "X_train.shape"
   ]
  },
  {
   "cell_type": "code",
   "execution_count": 98,
   "metadata": {
    "ExecuteTime": {
     "end_time": "2018-09-27T02:29:39.524316Z",
     "start_time": "2018-09-27T02:29:39.494315Z"
    }
   },
   "outputs": [
    {
     "data": {
      "text/html": [
       "<div>\n",
       "<style scoped>\n",
       "    .dataframe tbody tr th:only-of-type {\n",
       "        vertical-align: middle;\n",
       "    }\n",
       "\n",
       "    .dataframe tbody tr th {\n",
       "        vertical-align: top;\n",
       "    }\n",
       "\n",
       "    .dataframe thead th {\n",
       "        text-align: right;\n",
       "    }\n",
       "</style>\n",
       "<table border=\"1\" class=\"dataframe\">\n",
       "  <thead>\n",
       "    <tr style=\"text-align: right;\">\n",
       "      <th></th>\n",
       "      <th>wood_reduce_value</th>\n",
       "      <th>stone_reduce_value</th>\n",
       "      <th>ivory_add_value</th>\n",
       "      <th>ivory_reduce_value</th>\n",
       "      <th>magic_reduce_value</th>\n",
       "      <th>infantry_add_value</th>\n",
       "      <th>infantry_reduce_value</th>\n",
       "      <th>cavalry_add_value</th>\n",
       "      <th>cavalry_reduce_value</th>\n",
       "      <th>shaman_add_value</th>\n",
       "      <th>...</th>\n",
       "      <th>sr_infantry_atk_level</th>\n",
       "      <th>sr_shaman_atk_level</th>\n",
       "      <th>sr_construction_speed_level</th>\n",
       "      <th>sr_outpost_durability_level</th>\n",
       "      <th>pvp_battle_count</th>\n",
       "      <th>pvp_win_count</th>\n",
       "      <th>pve_win_count</th>\n",
       "      <th>avg_online_minutes</th>\n",
       "      <th>pay_price</th>\n",
       "      <th>pay_count</th>\n",
       "    </tr>\n",
       "  </thead>\n",
       "  <tbody>\n",
       "    <tr>\n",
       "      <th>923466</th>\n",
       "      <td>2240882.0</td>\n",
       "      <td>542944.0</td>\n",
       "      <td>0.0</td>\n",
       "      <td>0.0</td>\n",
       "      <td>10500.0</td>\n",
       "      <td>0</td>\n",
       "      <td>0</td>\n",
       "      <td>0</td>\n",
       "      <td>0</td>\n",
       "      <td>0</td>\n",
       "      <td>...</td>\n",
       "      <td>0</td>\n",
       "      <td>0</td>\n",
       "      <td>0</td>\n",
       "      <td>0</td>\n",
       "      <td>0</td>\n",
       "      <td>0</td>\n",
       "      <td>0</td>\n",
       "      <td>16.166668</td>\n",
       "      <td>0.0</td>\n",
       "      <td>0</td>\n",
       "    </tr>\n",
       "    <tr>\n",
       "      <th>2043512</th>\n",
       "      <td>4372092.0</td>\n",
       "      <td>1061584.0</td>\n",
       "      <td>192000.0</td>\n",
       "      <td>0.0</td>\n",
       "      <td>351434.0</td>\n",
       "      <td>465</td>\n",
       "      <td>2280</td>\n",
       "      <td>2515</td>\n",
       "      <td>2125</td>\n",
       "      <td>2545</td>\n",
       "      <td>...</td>\n",
       "      <td>0</td>\n",
       "      <td>0</td>\n",
       "      <td>2</td>\n",
       "      <td>1</td>\n",
       "      <td>1</td>\n",
       "      <td>0</td>\n",
       "      <td>25</td>\n",
       "      <td>162.666672</td>\n",
       "      <td>0.0</td>\n",
       "      <td>0</td>\n",
       "    </tr>\n",
       "    <tr>\n",
       "      <th>151362</th>\n",
       "      <td>0.0</td>\n",
       "      <td>0.0</td>\n",
       "      <td>0.0</td>\n",
       "      <td>0.0</td>\n",
       "      <td>0.0</td>\n",
       "      <td>0</td>\n",
       "      <td>0</td>\n",
       "      <td>0</td>\n",
       "      <td>0</td>\n",
       "      <td>0</td>\n",
       "      <td>...</td>\n",
       "      <td>0</td>\n",
       "      <td>0</td>\n",
       "      <td>0</td>\n",
       "      <td>0</td>\n",
       "      <td>0</td>\n",
       "      <td>0</td>\n",
       "      <td>0</td>\n",
       "      <td>12.666667</td>\n",
       "      <td>0.0</td>\n",
       "      <td>0</td>\n",
       "    </tr>\n",
       "    <tr>\n",
       "      <th>1251705</th>\n",
       "      <td>81797.0</td>\n",
       "      <td>0.0</td>\n",
       "      <td>0.0</td>\n",
       "      <td>0.0</td>\n",
       "      <td>0.0</td>\n",
       "      <td>0</td>\n",
       "      <td>0</td>\n",
       "      <td>0</td>\n",
       "      <td>0</td>\n",
       "      <td>0</td>\n",
       "      <td>...</td>\n",
       "      <td>0</td>\n",
       "      <td>0</td>\n",
       "      <td>0</td>\n",
       "      <td>0</td>\n",
       "      <td>0</td>\n",
       "      <td>0</td>\n",
       "      <td>1</td>\n",
       "      <td>73.833336</td>\n",
       "      <td>0.0</td>\n",
       "      <td>0</td>\n",
       "    </tr>\n",
       "    <tr>\n",
       "      <th>132999</th>\n",
       "      <td>1002005.0</td>\n",
       "      <td>391296.0</td>\n",
       "      <td>0.0</td>\n",
       "      <td>0.0</td>\n",
       "      <td>68390.0</td>\n",
       "      <td>234</td>\n",
       "      <td>9</td>\n",
       "      <td>457</td>\n",
       "      <td>7</td>\n",
       "      <td>225</td>\n",
       "      <td>...</td>\n",
       "      <td>0</td>\n",
       "      <td>0</td>\n",
       "      <td>0</td>\n",
       "      <td>0</td>\n",
       "      <td>0</td>\n",
       "      <td>0</td>\n",
       "      <td>6</td>\n",
       "      <td>33.333332</td>\n",
       "      <td>0.0</td>\n",
       "      <td>0</td>\n",
       "    </tr>\n",
       "  </tbody>\n",
       "</table>\n",
       "<p>5 rows × 50 columns</p>\n",
       "</div>"
      ],
      "text/plain": [
       "         wood_reduce_value  stone_reduce_value  ivory_add_value  \\\n",
       "923466           2240882.0            542944.0              0.0   \n",
       "2043512          4372092.0           1061584.0         192000.0   \n",
       "151362                 0.0                 0.0              0.0   \n",
       "1251705            81797.0                 0.0              0.0   \n",
       "132999           1002005.0            391296.0              0.0   \n",
       "\n",
       "         ivory_reduce_value  magic_reduce_value  infantry_add_value  \\\n",
       "923466                  0.0             10500.0                   0   \n",
       "2043512                 0.0            351434.0                 465   \n",
       "151362                  0.0                 0.0                   0   \n",
       "1251705                 0.0                 0.0                   0   \n",
       "132999                  0.0             68390.0                 234   \n",
       "\n",
       "         infantry_reduce_value  cavalry_add_value  cavalry_reduce_value  \\\n",
       "923466                       0                  0                     0   \n",
       "2043512                   2280               2515                  2125   \n",
       "151362                       0                  0                     0   \n",
       "1251705                      0                  0                     0   \n",
       "132999                       9                457                     7   \n",
       "\n",
       "         shaman_add_value    ...      sr_infantry_atk_level  \\\n",
       "923466                  0    ...                          0   \n",
       "2043512              2545    ...                          0   \n",
       "151362                  0    ...                          0   \n",
       "1251705                 0    ...                          0   \n",
       "132999                225    ...                          0   \n",
       "\n",
       "         sr_shaman_atk_level  sr_construction_speed_level  \\\n",
       "923466                     0                            0   \n",
       "2043512                    0                            2   \n",
       "151362                     0                            0   \n",
       "1251705                    0                            0   \n",
       "132999                     0                            0   \n",
       "\n",
       "         sr_outpost_durability_level  pvp_battle_count  pvp_win_count  \\\n",
       "923466                             0                 0              0   \n",
       "2043512                            1                 1              0   \n",
       "151362                             0                 0              0   \n",
       "1251705                            0                 0              0   \n",
       "132999                             0                 0              0   \n",
       "\n",
       "         pve_win_count  avg_online_minutes  pay_price  pay_count  \n",
       "923466               0           16.166668        0.0          0  \n",
       "2043512             25          162.666672        0.0          0  \n",
       "151362               0           12.666667        0.0          0  \n",
       "1251705              1           73.833336        0.0          0  \n",
       "132999               6           33.333332        0.0          0  \n",
       "\n",
       "[5 rows x 50 columns]"
      ]
     },
     "execution_count": 98,
     "metadata": {},
     "output_type": "execute_result"
    }
   ],
   "source": [
    "X_test.head()"
   ]
  },
  {
   "cell_type": "code",
   "execution_count": 99,
   "metadata": {
    "ExecuteTime": {
     "end_time": "2018-09-27T02:29:45.142426Z",
     "start_time": "2018-09-27T02:29:45.111226Z"
    }
   },
   "outputs": [],
   "source": [
    "X_test_7pays = X_test['pay_price']"
   ]
  },
  {
   "cell_type": "code",
   "execution_count": 100,
   "metadata": {
    "ExecuteTime": {
     "end_time": "2018-09-27T02:29:48.312115Z",
     "start_time": "2018-09-27T02:29:47.874491Z"
    }
   },
   "outputs": [],
   "source": [
    "scaler=StandardScaler(with_mean=False).fit(X_train)\n",
    "X_train=scaler.transform(X_train)\n",
    "X_test=scaler.transform(X_test)"
   ]
  },
  {
   "cell_type": "code",
   "execution_count": 101,
   "metadata": {
    "ExecuteTime": {
     "end_time": "2018-09-27T02:29:52.842620Z",
     "start_time": "2018-09-27T02:29:52.836619Z"
    }
   },
   "outputs": [
    {
     "data": {
      "text/plain": [
       "pandas.core.frame.DataFrame"
      ]
     },
     "execution_count": 101,
     "metadata": {},
     "output_type": "execute_result"
    }
   ],
   "source": [
    "Y_train.shape\n",
    "type(Y_train)"
   ]
  },
  {
   "cell_type": "code",
   "execution_count": 84,
   "metadata": {
    "ExecuteTime": {
     "end_time": "2018-09-27T01:59:59.468240Z",
     "start_time": "2018-09-27T01:50:38.376548Z"
    }
   },
   "outputs": [
    {
     "data": {
      "text/plain": [
       "GradientBoostingRegressor(alpha=0.9, criterion='friedman_mse', init=None,\n",
       "             learning_rate=0.01, loss='ls', max_depth=3, max_features=None,\n",
       "             max_leaf_nodes=None, min_impurity_decrease=0.0,\n",
       "             min_impurity_split=None, min_samples_leaf=1,\n",
       "             min_samples_split=2, min_weight_fraction_leaf=0.0,\n",
       "             n_estimators=1000, presort='auto', random_state=None,\n",
       "             subsample=1.0, verbose=0, warm_start=False)"
      ]
     },
     "execution_count": 84,
     "metadata": {},
     "output_type": "execute_result"
    }
   ],
   "source": [
    "SGDModel=GradientBoostingRegressor(n_estimators=1000,learning_rate=0.01)\n",
    "SGDModel.fit(X_train,Y_train.values.ravel())\n"
   ]
  },
  {
   "cell_type": "code",
   "execution_count": 86,
   "metadata": {
    "ExecuteTime": {
     "end_time": "2018-09-27T02:00:46.722122Z",
     "start_time": "2018-09-27T02:00:46.592515Z"
    }
   },
   "outputs": [
    {
     "data": {
      "text/plain": [
       "['F:\\\\study\\\\ml\\\\DataSet\\\\Tap4fun\\\\Model\\\\tf_SGDModel_20180927100046.gz']"
      ]
     },
     "execution_count": 86,
     "metadata": {},
     "output_type": "execute_result"
    }
   ],
   "source": [
    "import datetime\n",
    "nowTime=datetime.datetime.now().strftime('%Y%m%d%H%M%S')\n",
    "model_name='SGDModel'\n",
    "name='tf_'+model_name+'_'+str(nowTime)+'.gz'\n",
    "# result.to_csv(\"F:\\\\study\\\\ml\\\\DataSet\\\\Tap4fun\\\\SubMission\\\\\"+name+'.csv',index=False,encoding='utf-8')\n",
    "\n",
    "joblib.dump(value=SGDModel,filename=\"F:\\\\study\\\\ml\\\\DataSet\\\\Tap4fun\\\\Model\\\\\"+name,compress=True)"
   ]
  },
  {
   "cell_type": "code",
   "execution_count": 102,
   "metadata": {
    "ExecuteTime": {
     "end_time": "2018-09-27T02:30:05.430127Z",
     "start_time": "2018-09-27T02:30:04.539878Z"
    }
   },
   "outputs": [
    {
     "data": {
      "text/plain": [
       "200.9465959638839"
      ]
     },
     "execution_count": 102,
     "metadata": {},
     "output_type": "execute_result"
    }
   ],
   "source": [
    "y_pred=SGDModel.predict(X_test)\n",
    "np.sqrt(mean_squared_error(Y_test,y_pred))"
   ]
  },
  {
   "cell_type": "code",
   "execution_count": 105,
   "metadata": {
    "ExecuteTime": {
     "end_time": "2018-09-27T02:30:42.888623Z",
     "start_time": "2018-09-27T02:30:42.869023Z"
    }
   },
   "outputs": [
    {
     "data": {
      "text/plain": [
       "923466     0.0\n",
       "2043512    0.0\n",
       "151362     0.0\n",
       "1251705    0.0\n",
       "132999     0.0\n",
       "Name: pay_price, dtype: float32"
      ]
     },
     "execution_count": 105,
     "metadata": {},
     "output_type": "execute_result"
    }
   ],
   "source": [
    "X_test_7pays.head()"
   ]
  },
  {
   "cell_type": "code",
   "execution_count": 106,
   "metadata": {
    "ExecuteTime": {
     "end_time": "2018-09-27T02:31:18.795180Z",
     "start_time": "2018-09-27T02:31:18.779580Z"
    }
   },
   "outputs": [
    {
     "data": {
      "text/plain": [
       "array([1.31146475, 2.12787348, 1.31146475, ..., 1.31146475, 1.31146475,\n",
       "       1.31146475])"
      ]
     },
     "execution_count": 106,
     "metadata": {},
     "output_type": "execute_result"
    }
   ],
   "source": [
    "y_pred2"
   ]
  },
  {
   "cell_type": "code",
   "execution_count": 109,
   "metadata": {
    "ExecuteTime": {
     "end_time": "2018-09-27T02:31:52.788516Z",
     "start_time": "2018-09-27T02:31:52.769916Z"
    }
   },
   "outputs": [
    {
     "data": {
      "text/plain": [
       "array([   2.82912864,    2.82912864,    2.82912864,    2.82912864,\n",
       "          2.82912864,    2.82912864,    2.82912864,    2.82912864,\n",
       "          2.82912864,    2.82912864,    2.82912864,    2.82912864,\n",
       "          2.82912864,    2.82912864,    2.92193336,    2.82912864,\n",
       "          2.82912864,    2.82912864,    2.82912864,    2.82912864,\n",
       "          2.82912864,    2.82912864,   26.47245862,    2.82912864,\n",
       "          2.82912864,    2.82912864,    2.82912864,    2.92193336,\n",
       "          2.82912864,    2.82912864,    2.82912864,    2.82912864,\n",
       "          2.96753737,    2.82912864,    2.82912864,    2.82912864,\n",
       "          2.82912864,    2.82912864,    2.82912864,    2.82912864,\n",
       "          2.82912864,    2.82912864,    2.82912864,    2.82912864,\n",
       "          2.82912864,    2.82912864,    2.82912864,    2.82912864,\n",
       "          2.82912864,  -16.79536975,    2.82912864,    2.82912864,\n",
       "          2.82912864,    2.96753737,    2.82912864,    2.82912864,\n",
       "          2.82912864,    2.82912864,    2.82912864,    2.82912864,\n",
       "          2.82912864,    2.82912864,    2.82912864,    2.92193336,\n",
       "          2.82912864,    2.82912864,    2.82912864,    2.82912864,\n",
       "         -4.65037558,    2.82912864,    2.82912864,    2.82912864,\n",
       "          2.82912864,    2.82912864,    2.82912864,    2.82912864,\n",
       "          2.82912864,    2.82912864,    2.82912864,    2.82912864,\n",
       "          2.82912864,    2.96753737,    2.82912864,    2.82912864,\n",
       "          2.82912864,    2.82912864,    2.96753737,    2.82912864,\n",
       "          2.82912864,    2.82912864,    2.82912864, -177.0554007 ,\n",
       "          2.82912864,    2.82912864,   -2.62430718,    2.82912864,\n",
       "          2.92193336,    2.82912864,    2.82912864,    2.82912864,\n",
       "          2.82912864,    2.82912864,    2.82912864,    2.82912864,\n",
       "          2.82912864,    2.82912864, -140.11047672,    2.82912864,\n",
       "          2.82912864,    2.82912864,    2.96666483,    2.82912864,\n",
       "          2.82912864,    2.82912864,   -4.93503206,    2.82912864,\n",
       "          2.82912864,    2.82912864,    2.82912864,    2.82912864,\n",
       "          2.96753737,    2.82912864,    2.82912864,    2.82912864,\n",
       "          2.82912864])"
      ]
     },
     "execution_count": 109,
     "metadata": {},
     "output_type": "execute_result"
    }
   ],
   "source": [
    "y_pred2[y_pred2< X_test_7pays]"
   ]
  },
  {
   "cell_type": "code",
   "execution_count": 111,
   "metadata": {
    "ExecuteTime": {
     "end_time": "2018-09-27T02:36:31.696333Z",
     "start_time": "2018-09-27T02:36:31.643730Z"
    }
   },
   "outputs": [],
   "source": [
    "y_pred2=pd.DataFrame(list(zip(X_test_7pays,y_pred)),columns=['pay_price','pred_price'])\n"
   ]
  },
  {
   "cell_type": "code",
   "execution_count": 113,
   "metadata": {
    "ExecuteTime": {
     "end_time": "2018-09-27T02:37:27.502409Z",
     "start_time": "2018-09-27T02:37:27.480809Z"
    }
   },
   "outputs": [
    {
     "data": {
      "text/html": [
       "<div>\n",
       "<style scoped>\n",
       "    .dataframe tbody tr th:only-of-type {\n",
       "        vertical-align: middle;\n",
       "    }\n",
       "\n",
       "    .dataframe tbody tr th {\n",
       "        vertical-align: top;\n",
       "    }\n",
       "\n",
       "    .dataframe thead th {\n",
       "        text-align: right;\n",
       "    }\n",
       "</style>\n",
       "<table border=\"1\" class=\"dataframe\">\n",
       "  <thead>\n",
       "    <tr style=\"text-align: right;\">\n",
       "      <th></th>\n",
       "      <th>pay_price</th>\n",
       "      <th>pred_price</th>\n",
       "    </tr>\n",
       "  </thead>\n",
       "  <tbody>\n",
       "    <tr>\n",
       "      <th>473</th>\n",
       "      <td>2.98</td>\n",
       "      <td>2.829129</td>\n",
       "    </tr>\n",
       "    <tr>\n",
       "      <th>957</th>\n",
       "      <td>2.97</td>\n",
       "      <td>2.829129</td>\n",
       "    </tr>\n",
       "    <tr>\n",
       "      <th>1997</th>\n",
       "      <td>2.97</td>\n",
       "      <td>2.829129</td>\n",
       "    </tr>\n",
       "    <tr>\n",
       "      <th>1998</th>\n",
       "      <td>2.98</td>\n",
       "      <td>2.829129</td>\n",
       "    </tr>\n",
       "    <tr>\n",
       "      <th>2017</th>\n",
       "      <td>2.98</td>\n",
       "      <td>2.829129</td>\n",
       "    </tr>\n",
       "  </tbody>\n",
       "</table>\n",
       "</div>"
      ],
      "text/plain": [
       "      pay_price  pred_price\n",
       "473        2.98    2.829129\n",
       "957        2.97    2.829129\n",
       "1997       2.97    2.829129\n",
       "1998       2.98    2.829129\n",
       "2017       2.98    2.829129"
      ]
     },
     "execution_count": 113,
     "metadata": {},
     "output_type": "execute_result"
    }
   ],
   "source": [
    "y_pred2[y_pred2.pred_price< y_pred2.pay_price].head()"
   ]
  },
  {
   "cell_type": "code",
   "execution_count": 121,
   "metadata": {
    "ExecuteTime": {
     "end_time": "2018-09-27T02:40:16.392706Z",
     "start_time": "2018-09-27T02:40:16.361105Z"
    }
   },
   "outputs": [],
   "source": [
    "y_pred2.loc[y_pred2.pred_price< y_pred2.pay_price,'pred_price']=y_pred2[y_pred2.pred_price< y_pred2.pay_price]['pay_price']"
   ]
  },
  {
   "cell_type": "code",
   "execution_count": 123,
   "metadata": {
    "ExecuteTime": {
     "end_time": "2018-09-27T02:40:25.171350Z",
     "start_time": "2018-09-27T02:40:25.155750Z"
    }
   },
   "outputs": [
    {
     "data": {
      "text/plain": [
       "pay_price     2.98\n",
       "pred_price    2.98\n",
       "Name: 2017, dtype: float64"
      ]
     },
     "execution_count": 123,
     "metadata": {},
     "output_type": "execute_result"
    }
   ],
   "source": [
    "y_pred2.iloc[2017,:]"
   ]
  },
  {
   "cell_type": "code",
   "execution_count": 124,
   "metadata": {
    "ExecuteTime": {
     "end_time": "2018-09-27T02:45:14.578384Z",
     "start_time": "2018-09-27T02:45:14.554783Z"
    }
   },
   "outputs": [],
   "source": [
    "y_pred2.loc[y_pred2.pred_price<0,'pred_price']=0"
   ]
  },
  {
   "cell_type": "code",
   "execution_count": 125,
   "metadata": {
    "ExecuteTime": {
     "end_time": "2018-09-27T02:45:32.665023Z",
     "start_time": "2018-09-27T02:45:32.640423Z"
    }
   },
   "outputs": [
    {
     "data": {
      "text/html": [
       "<div>\n",
       "<style scoped>\n",
       "    .dataframe tbody tr th:only-of-type {\n",
       "        vertical-align: middle;\n",
       "    }\n",
       "\n",
       "    .dataframe tbody tr th {\n",
       "        vertical-align: top;\n",
       "    }\n",
       "\n",
       "    .dataframe thead th {\n",
       "        text-align: right;\n",
       "    }\n",
       "</style>\n",
       "<table border=\"1\" class=\"dataframe\">\n",
       "  <thead>\n",
       "    <tr style=\"text-align: right;\">\n",
       "      <th></th>\n",
       "      <th>pay_price</th>\n",
       "      <th>pred_price</th>\n",
       "    </tr>\n",
       "  </thead>\n",
       "  <tbody>\n",
       "    <tr>\n",
       "      <th>0</th>\n",
       "      <td>0.0</td>\n",
       "      <td>1.311465</td>\n",
       "    </tr>\n",
       "    <tr>\n",
       "      <th>2</th>\n",
       "      <td>0.0</td>\n",
       "      <td>1.311465</td>\n",
       "    </tr>\n",
       "    <tr>\n",
       "      <th>3</th>\n",
       "      <td>0.0</td>\n",
       "      <td>1.311465</td>\n",
       "    </tr>\n",
       "    <tr>\n",
       "      <th>4</th>\n",
       "      <td>0.0</td>\n",
       "      <td>1.311465</td>\n",
       "    </tr>\n",
       "    <tr>\n",
       "      <th>5</th>\n",
       "      <td>0.0</td>\n",
       "      <td>1.311465</td>\n",
       "    </tr>\n",
       "  </tbody>\n",
       "</table>\n",
       "</div>"
      ],
      "text/plain": [
       "   pay_price  pred_price\n",
       "0        0.0    1.311465\n",
       "2        0.0    1.311465\n",
       "3        0.0    1.311465\n",
       "4        0.0    1.311465\n",
       "5        0.0    1.311465"
      ]
     },
     "execution_count": 125,
     "metadata": {},
     "output_type": "execute_result"
    }
   ],
   "source": [
    "y_pred2.loc[(y_pred2.pred_price>0) & (y_pred2.pred_price<1.4)].head()"
   ]
  },
  {
   "cell_type": "code",
   "execution_count": 126,
   "metadata": {
    "ExecuteTime": {
     "end_time": "2018-09-27T02:45:42.571170Z",
     "start_time": "2018-09-27T02:45:42.547570Z"
    }
   },
   "outputs": [],
   "source": [
    "y_pred2.loc[(y_pred2.pred_price>0) & (y_pred2.pred_price<1.4),'pred_price']=0.99"
   ]
  },
  {
   "cell_type": "code",
   "execution_count": 127,
   "metadata": {
    "ExecuteTime": {
     "end_time": "2018-09-27T02:46:19.761701Z",
     "start_time": "2018-09-27T02:46:19.730501Z"
    }
   },
   "outputs": [
    {
     "data": {
      "text/plain": [
       "pay_price     0.00\n",
       "pred_price    0.99\n",
       "Name: 0, dtype: float64"
      ]
     },
     "execution_count": 127,
     "metadata": {},
     "output_type": "execute_result"
    }
   ],
   "source": [
    "y_pred2.iloc[0,:]"
   ]
  },
  {
   "cell_type": "code",
   "execution_count": 147,
   "metadata": {
    "ExecuteTime": {
     "end_time": "2018-09-27T06:16:32.127487Z",
     "start_time": "2018-09-27T06:16:28.352672Z"
    }
   },
   "outputs": [],
   "source": [
    "y_pred22=SGDModel.predict(X_train)"
   ]
  },
  {
   "cell_type": "code",
   "execution_count": 148,
   "metadata": {
    "ExecuteTime": {
     "end_time": "2018-09-27T06:16:33.200117Z",
     "start_time": "2018-09-27T06:16:33.175517Z"
    }
   },
   "outputs": [
    {
     "data": {
      "text/plain": [
       "114.65528315842384"
      ]
     },
     "execution_count": 148,
     "metadata": {},
     "output_type": "execute_result"
    }
   ],
   "source": [
    "np.sqrt(mean_squared_error(Y_train,y_pred22))"
   ]
  },
  {
   "cell_type": "code",
   "execution_count": 129,
   "metadata": {
    "ExecuteTime": {
     "end_time": "2018-09-27T02:47:13.363773Z",
     "start_time": "2018-09-27T02:47:13.332573Z"
    }
   },
   "outputs": [
    {
     "data": {
      "text/plain": [
       "200.94246696147485"
      ]
     },
     "execution_count": 129,
     "metadata": {},
     "output_type": "execute_result"
    }
   ],
   "source": [
    "np.sqrt(mean_squared_error(Y_test,y_pred2.pred_price))"
   ]
  },
  {
   "cell_type": "code",
   "execution_count": 130,
   "metadata": {
    "ExecuteTime": {
     "end_time": "2018-09-27T03:10:16.963768Z",
     "start_time": "2018-09-27T03:10:16.944168Z"
    }
   },
   "outputs": [
    {
     "data": {
      "text/plain": [
       "0.3702266972833469"
      ]
     },
     "execution_count": 130,
     "metadata": {},
     "output_type": "execute_result"
    }
   ],
   "source": [
    "r2_score(Y_test,y_pred2.pred_price)"
   ]
  },
  {
   "cell_type": "code",
   "execution_count": 131,
   "metadata": {
    "ExecuteTime": {
     "end_time": "2018-09-27T03:10:28.368626Z",
     "start_time": "2018-09-27T03:10:28.347026Z"
    }
   },
   "outputs": [
    {
     "data": {
      "text/plain": [
       "0.37020081562438745"
      ]
     },
     "execution_count": 131,
     "metadata": {},
     "output_type": "execute_result"
    }
   ],
   "source": [
    "r2_score(Y_test,y_pred)"
   ]
  },
  {
   "cell_type": "code",
   "execution_count": 134,
   "metadata": {
    "ExecuteTime": {
     "end_time": "2018-09-27T03:27:08.238395Z",
     "start_time": "2018-09-27T03:27:06.950722Z"
    }
   },
   "outputs": [],
   "source": [
    "train_7pay=data[data['pay_price']>0].copy()\n",
    "train_7pay=train_7pay.drop(['register_time'],axis=1)\n",
    "# test_7pay=data_test2[data_test2['pay_price']>0].copy()\n",
    "\n",
    "# train_7pay2=data_train2[data_train2['pay_price']>0].copy()\n",
    "# test_7pay2=data_test2[data_test2['pay_price']>0].copy()\n",
    "train_7pay_y=train_7pay.prediction_pay_price\n",
    "train_7pay_X=train_7pay.drop(labels=['prediction_pay_price','user_id'],axis=1)\n",
    "train_7pay_user_id=train_7pay.user_id\n",
    "# test_7pay_X=test_7pay.drop(labels=['user_id'],axis=1)\n",
    "# test_7pay_user_id=test_7pay.user_id\n",
    "\n",
    "drop_col=[i for i in train_7pay.columns.values if 'prediction' in  i]\n",
    "drop_col.append('user_id')\n",
    "X=train_7pay.drop(labels=drop_col,axis=1)\n",
    "y=train_7pay.prediction_pay_price\n",
    "# X=train_7pay_X\n",
    "y=train_7pay_y\n",
    "X.replace([np.inf,-np.inf],np.nan,inplace=True)\n",
    "X.fillna(0.0,inplace=True)\n",
    "\n",
    "X['user_id']=train_7pay_user_id\n",
    "\n",
    "X1,val_X1,y1,val_y1=train_test_split(X,y,test_size=0.1,random_state=17)\n",
    "X2=X1.drop(labels='user_id',axis=1)\n",
    "val_X2=val_X1.drop(labels='user_id',axis=1)\n",
    "X2_user_id=X1.user_id\n",
    "val_X2_user_id=val_X1.user_id\n",
    "\n",
    "X.drop(labels='user_id',axis=1,inplace=True)\n",
    "\n",
    "x_train_new1=x_train.drop(labels=none_mean,axis=1)\n",
    "X_new1=X.drop(labels=none_mean,axis=1)\n",
    "X2_new1=X2.drop(labels=none_mean,axis=1)\n",
    "val_X2_new1=val_X2.drop(labels=none_mean,axis=1)"
   ]
  },
  {
   "cell_type": "code",
   "execution_count": 167,
   "metadata": {
    "ExecuteTime": {
     "end_time": "2018-09-27T06:44:09.191676Z",
     "start_time": "2018-09-27T06:44:08.581641Z"
    }
   },
   "outputs": [
    {
     "data": {
      "text/plain": [
       "16967.238540839175"
      ]
     },
     "execution_count": 167,
     "metadata": {},
     "output_type": "execute_result"
    }
   ],
   "source": [
    "y_pred3=SGDModel.predict(X2_new1)\n",
    "np.sqrt(mean_squared_error(y1,y_pred3))"
   ]
  },
  {
   "cell_type": "code",
   "execution_count": 139,
   "metadata": {
    "ExecuteTime": {
     "end_time": "2018-09-27T03:30:12.773335Z",
     "start_time": "2018-09-27T03:30:12.757735Z"
    }
   },
   "outputs": [
    {
     "data": {
      "text/plain": [
       "(220573, 1)"
      ]
     },
     "execution_count": 139,
     "metadata": {},
     "output_type": "execute_result"
    }
   ],
   "source": [
    "Y_train.shape"
   ]
  },
  {
   "cell_type": "code",
   "execution_count": 138,
   "metadata": {
    "ExecuteTime": {
     "end_time": "2018-09-27T03:30:00.801759Z",
     "start_time": "2018-09-27T03:30:00.786159Z"
    }
   },
   "outputs": [
    {
     "data": {
      "text/plain": [
       "(55144, 1)"
      ]
     },
     "execution_count": 138,
     "metadata": {},
     "output_type": "execute_result"
    }
   ],
   "source": [
    "Y_test.shape"
   ]
  },
  {
   "cell_type": "code",
   "execution_count": 143,
   "metadata": {
    "ExecuteTime": {
     "end_time": "2018-09-27T06:12:08.999403Z",
     "start_time": "2018-09-27T06:11:04.608522Z"
    }
   },
   "outputs": [
    {
     "data": {
      "text/plain": [
       "GradientBoostingRegressor(alpha=0.9, criterion='friedman_mse', init=None,\n",
       "             learning_rate=0.01, loss='ls', max_depth=3, max_features=None,\n",
       "             max_leaf_nodes=None, min_impurity_decrease=0.0,\n",
       "             min_impurity_split=None, min_samples_leaf=1,\n",
       "             min_samples_split=2, min_weight_fraction_leaf=0.0,\n",
       "             n_estimators=1000, presort='auto', random_state=None,\n",
       "             subsample=1.0, verbose=0, warm_start=False)"
      ]
     },
     "execution_count": 143,
     "metadata": {},
     "output_type": "execute_result"
    }
   ],
   "source": [
    "SGDModel2=GradientBoostingRegressor(n_estimators=1000,learning_rate=0.01)\n",
    "SGDModel2.fit(X2_new1,y1.values.ravel())"
   ]
  },
  {
   "cell_type": "code",
   "execution_count": 153,
   "metadata": {
    "ExecuteTime": {
     "end_time": "2018-09-27T06:23:20.028603Z",
     "start_time": "2018-09-27T06:23:19.914997Z"
    }
   },
   "outputs": [
    {
     "data": {
      "text/plain": [
       "593.7399450077135"
      ]
     },
     "execution_count": 153,
     "metadata": {},
     "output_type": "execute_result"
    }
   ],
   "source": [
    "y_pred24=SGDModel2.predict(val_X2_new1)\n",
    "np.sqrt(mean_squared_error(val_y1,y_pred24))"
   ]
  },
  {
   "cell_type": "code",
   "execution_count": 154,
   "metadata": {
    "ExecuteTime": {
     "end_time": "2018-09-27T06:23:35.425943Z",
     "start_time": "2018-09-27T06:23:35.394743Z"
    }
   },
   "outputs": [
    {
     "data": {
      "text/plain": [
       "0.07426589297018349"
      ]
     },
     "execution_count": 154,
     "metadata": {},
     "output_type": "execute_result"
    }
   ],
   "source": [
    "r2_score(val_y1,y_pred24)"
   ]
  },
  {
   "cell_type": "code",
   "execution_count": 140,
   "metadata": {
    "ExecuteTime": {
     "end_time": "2018-09-27T05:38:13.257623Z",
     "start_time": "2018-09-27T05:38:05.842000Z"
    }
   },
   "outputs": [],
   "source": [
    "data_test=pd.read_csv('F:\\\\study\\\\ml\\\\DataSet\\\\Tap4fun\\\\tap_fun_test.csv',\n",
    "                      dtype=column_type,parse_dates=['register_time'],infer_datetime_format=True)"
   ]
  },
  {
   "cell_type": "code",
   "execution_count": 150,
   "metadata": {
    "ExecuteTime": {
     "end_time": "2018-09-27T06:19:46.663455Z",
     "start_time": "2018-09-27T06:19:46.560850Z"
    }
   },
   "outputs": [
    {
     "data": {
      "text/plain": [
       "(828934, 108)"
      ]
     },
     "execution_count": 150,
     "metadata": {},
     "output_type": "execute_result"
    }
   ],
   "source": [
    "data1=data_test.copy()\n",
    "data1.shape"
   ]
  },
  {
   "cell_type": "code",
   "execution_count": 163,
   "metadata": {
    "ExecuteTime": {
     "end_time": "2018-09-27T06:35:10.663110Z",
     "start_time": "2018-09-27T06:35:10.371895Z"
    }
   },
   "outputs": [],
   "source": [
    "data_test1=data1[data1.avg_online_minutes < 12]\n",
    "data_test2=data1[data1.avg_online_minutes >= 12]\n",
    "data_test2_7pays=data_test2['pay_price']"
   ]
  },
  {
   "cell_type": "code",
   "execution_count": 165,
   "metadata": {
    "ExecuteTime": {
     "end_time": "2018-09-27T06:39:01.895734Z",
     "start_time": "2018-09-27T06:39:00.038628Z"
    }
   },
   "outputs": [],
   "source": [
    "data_test_part1=data_test1[['user_id','pay_price']].copy()\n",
    "data_test_part1.rename(columns={'pay_price':'predictin_pay_price'},inplace=True)\n",
    "data_test_part1.to_csv(\"F:\\\\study\\\\ml\\\\DataSet\\\\Tap4fun\\\\tap_fun_result_part1.csv\")"
   ]
  },
  {
   "cell_type": "code",
   "execution_count": 166,
   "metadata": {
    "ExecuteTime": {
     "end_time": "2018-09-27T06:40:50.903392Z",
     "start_time": "2018-09-27T06:40:50.842790Z"
    }
   },
   "outputs": [],
   "source": [
    "data_test2_id=data_test2['user_id'].values\n",
    "data_test2_id_final=pd.DataFrame(data_test2_id,columns=['user_id'])\n",
    "data_test2=data_test2.drop(['user_id','register_time'],axis=1)"
   ]
  },
  {
   "cell_type": "code",
   "execution_count": 169,
   "metadata": {
    "ExecuteTime": {
     "end_time": "2018-09-27T06:46:29.028666Z",
     "start_time": "2018-09-27T06:46:26.927947Z"
    }
   },
   "outputs": [],
   "source": [
    "data_test2_final=data_test2.drop(none_mean,axis=1)\n",
    "data_test2_final=scaler.transform(data_test2_final.values)\n",
    "data_test2_pred=SGDModel.predict(data_test2_final)"
   ]
  },
  {
   "cell_type": "code",
   "execution_count": 170,
   "metadata": {
    "ExecuteTime": {
     "end_time": "2018-09-27T06:50:40.901908Z",
     "start_time": "2018-09-27T06:50:40.379499Z"
    }
   },
   "outputs": [],
   "source": [
    "test2_pred=pd.DataFrame(list(zip(data_test2_id,data_test2_pred)),columns=['user_id','prediction_pay_price'])"
   ]
  },
  {
   "cell_type": "code",
   "execution_count": 171,
   "metadata": {
    "ExecuteTime": {
     "end_time": "2018-09-27T06:53:29.824637Z",
     "start_time": "2018-09-27T06:53:29.787035Z"
    }
   },
   "outputs": [],
   "source": [
    "test2_pred['pay_price']=data_test2.pay_price"
   ]
  },
  {
   "cell_type": "code",
   "execution_count": 173,
   "metadata": {
    "ExecuteTime": {
     "end_time": "2018-09-27T06:58:36.019647Z",
     "start_time": "2018-09-27T06:58:35.977446Z"
    }
   },
   "outputs": [
    {
     "data": {
      "text/html": [
       "<div>\n",
       "<style scoped>\n",
       "    .dataframe tbody tr th:only-of-type {\n",
       "        vertical-align: middle;\n",
       "    }\n",
       "\n",
       "    .dataframe tbody tr th {\n",
       "        vertical-align: top;\n",
       "    }\n",
       "\n",
       "    .dataframe thead th {\n",
       "        text-align: right;\n",
       "    }\n",
       "</style>\n",
       "<table border=\"1\" class=\"dataframe\">\n",
       "  <thead>\n",
       "    <tr style=\"text-align: right;\">\n",
       "      <th></th>\n",
       "      <th>user_id</th>\n",
       "      <th>prediction_pay_price</th>\n",
       "      <th>pay_price</th>\n",
       "    </tr>\n",
       "  </thead>\n",
       "  <tbody>\n",
       "    <tr>\n",
       "      <th>126</th>\n",
       "      <td>15761</td>\n",
       "      <td>1.311465</td>\n",
       "      <td>5.980000</td>\n",
       "    </tr>\n",
       "    <tr>\n",
       "      <th>309</th>\n",
       "      <td>18458</td>\n",
       "      <td>1.311465</td>\n",
       "      <td>16.959999</td>\n",
       "    </tr>\n",
       "    <tr>\n",
       "      <th>470</th>\n",
       "      <td>19804</td>\n",
       "      <td>2.829129</td>\n",
       "      <td>93.900002</td>\n",
       "    </tr>\n",
       "    <tr>\n",
       "      <th>483</th>\n",
       "      <td>19910</td>\n",
       "      <td>1.311465</td>\n",
       "      <td>10.980000</td>\n",
       "    </tr>\n",
       "    <tr>\n",
       "      <th>558</th>\n",
       "      <td>20339</td>\n",
       "      <td>1.311465</td>\n",
       "      <td>9.940000</td>\n",
       "    </tr>\n",
       "  </tbody>\n",
       "</table>\n",
       "</div>"
      ],
      "text/plain": [
       "     user_id  prediction_pay_price  pay_price\n",
       "126    15761              1.311465   5.980000\n",
       "309    18458              1.311465  16.959999\n",
       "470    19804              2.829129  93.900002\n",
       "483    19910              1.311465  10.980000\n",
       "558    20339              1.311465   9.940000"
      ]
     },
     "execution_count": 173,
     "metadata": {},
     "output_type": "execute_result"
    }
   ],
   "source": [
    "test2_pred.loc[test2_pred.prediction_pay_price < test2_pred.pay_price].head()"
   ]
  },
  {
   "cell_type": "code",
   "execution_count": 175,
   "metadata": {
    "ExecuteTime": {
     "end_time": "2018-09-27T07:01:17.004953Z",
     "start_time": "2018-09-27T07:01:16.978352Z"
    }
   },
   "outputs": [],
   "source": [
    "test2_pred.loc[test2_pred.prediction_pay_price < test2_pred.pay_price,'prediction_pay_price']=\\\n",
    "test2_pred.loc[test2_pred.prediction_pay_price < test2_pred.pay_price,'pay_price']"
   ]
  },
  {
   "cell_type": "code",
   "execution_count": 176,
   "metadata": {
    "ExecuteTime": {
     "end_time": "2018-09-27T07:01:38.269559Z",
     "start_time": "2018-09-27T07:01:38.225957Z"
    }
   },
   "outputs": [
    {
     "data": {
      "text/plain": [
       "user_id                 15761.00\n",
       "prediction_pay_price        5.98\n",
       "pay_price                   5.98\n",
       "Name: 126, dtype: float64"
      ]
     },
     "execution_count": 176,
     "metadata": {},
     "output_type": "execute_result"
    }
   ],
   "source": [
    "test2_pred.loc[126,:]"
   ]
  },
  {
   "cell_type": "code",
   "execution_count": 177,
   "metadata": {
    "ExecuteTime": {
     "end_time": "2018-09-27T07:04:55.205744Z",
     "start_time": "2018-09-27T07:04:55.177143Z"
    }
   },
   "outputs": [],
   "source": [
    "test2_pred.loc[test2_pred.prediction_pay_price < 0,'prediction_pay_price']=0\n",
    "test2_pred.loc[(test2_pred.prediction_pay_price > 0) & (test2_pred.prediction_pay_price < 1.4) ,'prediction_pay_price']=0.99"
   ]
  },
  {
   "cell_type": "code",
   "execution_count": 179,
   "metadata": {
    "ExecuteTime": {
     "end_time": "2018-09-27T07:09:23.912907Z",
     "start_time": "2018-09-27T07:09:23.822303Z"
    }
   },
   "outputs": [],
   "source": [
    "result=pd.DataFrame()\n",
    "result['user_id']=data1.user_id\n",
    "result['prediction_pay_price']=0.0"
   ]
  },
  {
   "cell_type": "code",
   "execution_count": 194,
   "metadata": {
    "ExecuteTime": {
     "end_time": "2018-09-27T07:28:25.792961Z",
     "start_time": "2018-09-27T07:28:25.504746Z"
    },
    "scrolled": true
   },
   "outputs": [],
   "source": [
    "result=result.merge(test2_pred,how='left',on='user_id')"
   ]
  },
  {
   "cell_type": "code",
   "execution_count": 195,
   "metadata": {
    "ExecuteTime": {
     "end_time": "2018-09-27T07:28:37.584978Z",
     "start_time": "2018-09-27T07:28:37.548377Z"
    }
   },
   "outputs": [],
   "source": [
    "result.fillna(0.0,inplace=True)"
   ]
  },
  {
   "cell_type": "code",
   "execution_count": 196,
   "metadata": {
    "ExecuteTime": {
     "end_time": "2018-09-27T07:28:40.238828Z",
     "start_time": "2018-09-27T07:28:40.197227Z"
    }
   },
   "outputs": [
    {
     "data": {
      "text/html": [
       "<div>\n",
       "<style scoped>\n",
       "    .dataframe tbody tr th:only-of-type {\n",
       "        vertical-align: middle;\n",
       "    }\n",
       "\n",
       "    .dataframe tbody tr th {\n",
       "        vertical-align: top;\n",
       "    }\n",
       "\n",
       "    .dataframe thead th {\n",
       "        text-align: right;\n",
       "    }\n",
       "</style>\n",
       "<table border=\"1\" class=\"dataframe\">\n",
       "  <thead>\n",
       "    <tr style=\"text-align: right;\">\n",
       "      <th></th>\n",
       "      <th>user_id</th>\n",
       "      <th>prediction_pay_price_x</th>\n",
       "      <th>prediction_pay_price_y</th>\n",
       "      <th>pay_price</th>\n",
       "    </tr>\n",
       "  </thead>\n",
       "  <tbody>\n",
       "    <tr>\n",
       "      <th>0</th>\n",
       "      <td>14933</td>\n",
       "      <td>0.0</td>\n",
       "      <td>0.000000</td>\n",
       "      <td>0.0</td>\n",
       "    </tr>\n",
       "    <tr>\n",
       "      <th>1</th>\n",
       "      <td>14934</td>\n",
       "      <td>0.0</td>\n",
       "      <td>0.000000</td>\n",
       "      <td>0.0</td>\n",
       "    </tr>\n",
       "    <tr>\n",
       "      <th>2</th>\n",
       "      <td>14935</td>\n",
       "      <td>0.0</td>\n",
       "      <td>0.990000</td>\n",
       "      <td>0.0</td>\n",
       "    </tr>\n",
       "    <tr>\n",
       "      <th>3</th>\n",
       "      <td>14936</td>\n",
       "      <td>0.0</td>\n",
       "      <td>0.000000</td>\n",
       "      <td>0.0</td>\n",
       "    </tr>\n",
       "    <tr>\n",
       "      <th>4</th>\n",
       "      <td>14937</td>\n",
       "      <td>0.0</td>\n",
       "      <td>0.000000</td>\n",
       "      <td>0.0</td>\n",
       "    </tr>\n",
       "    <tr>\n",
       "      <th>5</th>\n",
       "      <td>14938</td>\n",
       "      <td>0.0</td>\n",
       "      <td>0.000000</td>\n",
       "      <td>0.0</td>\n",
       "    </tr>\n",
       "    <tr>\n",
       "      <th>6</th>\n",
       "      <td>14939</td>\n",
       "      <td>0.0</td>\n",
       "      <td>0.990000</td>\n",
       "      <td>0.0</td>\n",
       "    </tr>\n",
       "    <tr>\n",
       "      <th>7</th>\n",
       "      <td>14940</td>\n",
       "      <td>0.0</td>\n",
       "      <td>0.000000</td>\n",
       "      <td>0.0</td>\n",
       "    </tr>\n",
       "    <tr>\n",
       "      <th>8</th>\n",
       "      <td>14941</td>\n",
       "      <td>0.0</td>\n",
       "      <td>0.000000</td>\n",
       "      <td>0.0</td>\n",
       "    </tr>\n",
       "    <tr>\n",
       "      <th>9</th>\n",
       "      <td>14942</td>\n",
       "      <td>0.0</td>\n",
       "      <td>0.000000</td>\n",
       "      <td>0.0</td>\n",
       "    </tr>\n",
       "    <tr>\n",
       "      <th>10</th>\n",
       "      <td>14943</td>\n",
       "      <td>0.0</td>\n",
       "      <td>0.000000</td>\n",
       "      <td>0.0</td>\n",
       "    </tr>\n",
       "    <tr>\n",
       "      <th>11</th>\n",
       "      <td>14944</td>\n",
       "      <td>0.0</td>\n",
       "      <td>0.000000</td>\n",
       "      <td>0.0</td>\n",
       "    </tr>\n",
       "    <tr>\n",
       "      <th>12</th>\n",
       "      <td>14945</td>\n",
       "      <td>0.0</td>\n",
       "      <td>0.000000</td>\n",
       "      <td>0.0</td>\n",
       "    </tr>\n",
       "    <tr>\n",
       "      <th>13</th>\n",
       "      <td>14946</td>\n",
       "      <td>0.0</td>\n",
       "      <td>0.000000</td>\n",
       "      <td>0.0</td>\n",
       "    </tr>\n",
       "    <tr>\n",
       "      <th>14</th>\n",
       "      <td>14947</td>\n",
       "      <td>0.0</td>\n",
       "      <td>0.000000</td>\n",
       "      <td>0.0</td>\n",
       "    </tr>\n",
       "    <tr>\n",
       "      <th>15</th>\n",
       "      <td>14948</td>\n",
       "      <td>0.0</td>\n",
       "      <td>0.000000</td>\n",
       "      <td>0.0</td>\n",
       "    </tr>\n",
       "    <tr>\n",
       "      <th>16</th>\n",
       "      <td>14949</td>\n",
       "      <td>0.0</td>\n",
       "      <td>0.000000</td>\n",
       "      <td>0.0</td>\n",
       "    </tr>\n",
       "    <tr>\n",
       "      <th>17</th>\n",
       "      <td>14950</td>\n",
       "      <td>0.0</td>\n",
       "      <td>0.000000</td>\n",
       "      <td>0.0</td>\n",
       "    </tr>\n",
       "    <tr>\n",
       "      <th>18</th>\n",
       "      <td>14951</td>\n",
       "      <td>0.0</td>\n",
       "      <td>0.990000</td>\n",
       "      <td>0.0</td>\n",
       "    </tr>\n",
       "    <tr>\n",
       "      <th>19</th>\n",
       "      <td>14952</td>\n",
       "      <td>0.0</td>\n",
       "      <td>1.879464</td>\n",
       "      <td>0.0</td>\n",
       "    </tr>\n",
       "    <tr>\n",
       "      <th>20</th>\n",
       "      <td>14953</td>\n",
       "      <td>0.0</td>\n",
       "      <td>0.000000</td>\n",
       "      <td>0.0</td>\n",
       "    </tr>\n",
       "    <tr>\n",
       "      <th>21</th>\n",
       "      <td>14954</td>\n",
       "      <td>0.0</td>\n",
       "      <td>0.000000</td>\n",
       "      <td>0.0</td>\n",
       "    </tr>\n",
       "    <tr>\n",
       "      <th>22</th>\n",
       "      <td>14955</td>\n",
       "      <td>0.0</td>\n",
       "      <td>0.000000</td>\n",
       "      <td>0.0</td>\n",
       "    </tr>\n",
       "    <tr>\n",
       "      <th>23</th>\n",
       "      <td>14956</td>\n",
       "      <td>0.0</td>\n",
       "      <td>0.000000</td>\n",
       "      <td>0.0</td>\n",
       "    </tr>\n",
       "    <tr>\n",
       "      <th>24</th>\n",
       "      <td>14957</td>\n",
       "      <td>0.0</td>\n",
       "      <td>0.000000</td>\n",
       "      <td>0.0</td>\n",
       "    </tr>\n",
       "    <tr>\n",
       "      <th>25</th>\n",
       "      <td>14958</td>\n",
       "      <td>0.0</td>\n",
       "      <td>0.000000</td>\n",
       "      <td>0.0</td>\n",
       "    </tr>\n",
       "    <tr>\n",
       "      <th>26</th>\n",
       "      <td>14959</td>\n",
       "      <td>0.0</td>\n",
       "      <td>0.000000</td>\n",
       "      <td>0.0</td>\n",
       "    </tr>\n",
       "    <tr>\n",
       "      <th>27</th>\n",
       "      <td>14960</td>\n",
       "      <td>0.0</td>\n",
       "      <td>0.000000</td>\n",
       "      <td>0.0</td>\n",
       "    </tr>\n",
       "    <tr>\n",
       "      <th>28</th>\n",
       "      <td>14961</td>\n",
       "      <td>0.0</td>\n",
       "      <td>0.000000</td>\n",
       "      <td>0.0</td>\n",
       "    </tr>\n",
       "    <tr>\n",
       "      <th>29</th>\n",
       "      <td>14962</td>\n",
       "      <td>0.0</td>\n",
       "      <td>0.000000</td>\n",
       "      <td>0.0</td>\n",
       "    </tr>\n",
       "    <tr>\n",
       "      <th>...</th>\n",
       "      <td>...</td>\n",
       "      <td>...</td>\n",
       "      <td>...</td>\n",
       "      <td>...</td>\n",
       "    </tr>\n",
       "    <tr>\n",
       "      <th>828904</th>\n",
       "      <td>3176514</td>\n",
       "      <td>0.0</td>\n",
       "      <td>0.000000</td>\n",
       "      <td>0.0</td>\n",
       "    </tr>\n",
       "    <tr>\n",
       "      <th>828905</th>\n",
       "      <td>3176515</td>\n",
       "      <td>0.0</td>\n",
       "      <td>0.000000</td>\n",
       "      <td>0.0</td>\n",
       "    </tr>\n",
       "    <tr>\n",
       "      <th>828906</th>\n",
       "      <td>3176516</td>\n",
       "      <td>0.0</td>\n",
       "      <td>0.000000</td>\n",
       "      <td>0.0</td>\n",
       "    </tr>\n",
       "    <tr>\n",
       "      <th>828907</th>\n",
       "      <td>3176517</td>\n",
       "      <td>0.0</td>\n",
       "      <td>0.000000</td>\n",
       "      <td>0.0</td>\n",
       "    </tr>\n",
       "    <tr>\n",
       "      <th>828908</th>\n",
       "      <td>3176518</td>\n",
       "      <td>0.0</td>\n",
       "      <td>0.000000</td>\n",
       "      <td>0.0</td>\n",
       "    </tr>\n",
       "    <tr>\n",
       "      <th>828909</th>\n",
       "      <td>3176519</td>\n",
       "      <td>0.0</td>\n",
       "      <td>0.000000</td>\n",
       "      <td>0.0</td>\n",
       "    </tr>\n",
       "    <tr>\n",
       "      <th>828910</th>\n",
       "      <td>3176520</td>\n",
       "      <td>0.0</td>\n",
       "      <td>0.000000</td>\n",
       "      <td>0.0</td>\n",
       "    </tr>\n",
       "    <tr>\n",
       "      <th>828911</th>\n",
       "      <td>3176521</td>\n",
       "      <td>0.0</td>\n",
       "      <td>0.990000</td>\n",
       "      <td>0.0</td>\n",
       "    </tr>\n",
       "    <tr>\n",
       "      <th>828912</th>\n",
       "      <td>3176522</td>\n",
       "      <td>0.0</td>\n",
       "      <td>0.000000</td>\n",
       "      <td>0.0</td>\n",
       "    </tr>\n",
       "    <tr>\n",
       "      <th>828913</th>\n",
       "      <td>3176523</td>\n",
       "      <td>0.0</td>\n",
       "      <td>0.000000</td>\n",
       "      <td>0.0</td>\n",
       "    </tr>\n",
       "    <tr>\n",
       "      <th>828914</th>\n",
       "      <td>3176524</td>\n",
       "      <td>0.0</td>\n",
       "      <td>0.000000</td>\n",
       "      <td>0.0</td>\n",
       "    </tr>\n",
       "    <tr>\n",
       "      <th>828915</th>\n",
       "      <td>3176525</td>\n",
       "      <td>0.0</td>\n",
       "      <td>0.000000</td>\n",
       "      <td>0.0</td>\n",
       "    </tr>\n",
       "    <tr>\n",
       "      <th>828916</th>\n",
       "      <td>3176526</td>\n",
       "      <td>0.0</td>\n",
       "      <td>0.000000</td>\n",
       "      <td>0.0</td>\n",
       "    </tr>\n",
       "    <tr>\n",
       "      <th>828917</th>\n",
       "      <td>3176527</td>\n",
       "      <td>0.0</td>\n",
       "      <td>0.000000</td>\n",
       "      <td>0.0</td>\n",
       "    </tr>\n",
       "    <tr>\n",
       "      <th>828918</th>\n",
       "      <td>3176528</td>\n",
       "      <td>0.0</td>\n",
       "      <td>0.000000</td>\n",
       "      <td>0.0</td>\n",
       "    </tr>\n",
       "    <tr>\n",
       "      <th>828919</th>\n",
       "      <td>3176529</td>\n",
       "      <td>0.0</td>\n",
       "      <td>0.000000</td>\n",
       "      <td>0.0</td>\n",
       "    </tr>\n",
       "    <tr>\n",
       "      <th>828920</th>\n",
       "      <td>3176530</td>\n",
       "      <td>0.0</td>\n",
       "      <td>0.000000</td>\n",
       "      <td>0.0</td>\n",
       "    </tr>\n",
       "    <tr>\n",
       "      <th>828921</th>\n",
       "      <td>3176531</td>\n",
       "      <td>0.0</td>\n",
       "      <td>0.000000</td>\n",
       "      <td>0.0</td>\n",
       "    </tr>\n",
       "    <tr>\n",
       "      <th>828922</th>\n",
       "      <td>3176532</td>\n",
       "      <td>0.0</td>\n",
       "      <td>0.000000</td>\n",
       "      <td>0.0</td>\n",
       "    </tr>\n",
       "    <tr>\n",
       "      <th>828923</th>\n",
       "      <td>3176533</td>\n",
       "      <td>0.0</td>\n",
       "      <td>0.990000</td>\n",
       "      <td>0.0</td>\n",
       "    </tr>\n",
       "    <tr>\n",
       "      <th>828924</th>\n",
       "      <td>3176534</td>\n",
       "      <td>0.0</td>\n",
       "      <td>0.000000</td>\n",
       "      <td>0.0</td>\n",
       "    </tr>\n",
       "    <tr>\n",
       "      <th>828925</th>\n",
       "      <td>3176535</td>\n",
       "      <td>0.0</td>\n",
       "      <td>0.000000</td>\n",
       "      <td>0.0</td>\n",
       "    </tr>\n",
       "    <tr>\n",
       "      <th>828926</th>\n",
       "      <td>3176536</td>\n",
       "      <td>0.0</td>\n",
       "      <td>0.000000</td>\n",
       "      <td>0.0</td>\n",
       "    </tr>\n",
       "    <tr>\n",
       "      <th>828927</th>\n",
       "      <td>3176537</td>\n",
       "      <td>0.0</td>\n",
       "      <td>0.000000</td>\n",
       "      <td>0.0</td>\n",
       "    </tr>\n",
       "    <tr>\n",
       "      <th>828928</th>\n",
       "      <td>3176538</td>\n",
       "      <td>0.0</td>\n",
       "      <td>0.000000</td>\n",
       "      <td>0.0</td>\n",
       "    </tr>\n",
       "    <tr>\n",
       "      <th>828929</th>\n",
       "      <td>3176539</td>\n",
       "      <td>0.0</td>\n",
       "      <td>0.000000</td>\n",
       "      <td>0.0</td>\n",
       "    </tr>\n",
       "    <tr>\n",
       "      <th>828930</th>\n",
       "      <td>3176540</td>\n",
       "      <td>0.0</td>\n",
       "      <td>0.000000</td>\n",
       "      <td>0.0</td>\n",
       "    </tr>\n",
       "    <tr>\n",
       "      <th>828931</th>\n",
       "      <td>3176541</td>\n",
       "      <td>0.0</td>\n",
       "      <td>0.000000</td>\n",
       "      <td>0.0</td>\n",
       "    </tr>\n",
       "    <tr>\n",
       "      <th>828932</th>\n",
       "      <td>3176542</td>\n",
       "      <td>0.0</td>\n",
       "      <td>0.000000</td>\n",
       "      <td>0.0</td>\n",
       "    </tr>\n",
       "    <tr>\n",
       "      <th>828933</th>\n",
       "      <td>3176543</td>\n",
       "      <td>0.0</td>\n",
       "      <td>0.000000</td>\n",
       "      <td>0.0</td>\n",
       "    </tr>\n",
       "  </tbody>\n",
       "</table>\n",
       "<p>828934 rows × 4 columns</p>\n",
       "</div>"
      ],
      "text/plain": [
       "        user_id  prediction_pay_price_x  prediction_pay_price_y  pay_price\n",
       "0         14933                     0.0                0.000000        0.0\n",
       "1         14934                     0.0                0.000000        0.0\n",
       "2         14935                     0.0                0.990000        0.0\n",
       "3         14936                     0.0                0.000000        0.0\n",
       "4         14937                     0.0                0.000000        0.0\n",
       "5         14938                     0.0                0.000000        0.0\n",
       "6         14939                     0.0                0.990000        0.0\n",
       "7         14940                     0.0                0.000000        0.0\n",
       "8         14941                     0.0                0.000000        0.0\n",
       "9         14942                     0.0                0.000000        0.0\n",
       "10        14943                     0.0                0.000000        0.0\n",
       "11        14944                     0.0                0.000000        0.0\n",
       "12        14945                     0.0                0.000000        0.0\n",
       "13        14946                     0.0                0.000000        0.0\n",
       "14        14947                     0.0                0.000000        0.0\n",
       "15        14948                     0.0                0.000000        0.0\n",
       "16        14949                     0.0                0.000000        0.0\n",
       "17        14950                     0.0                0.000000        0.0\n",
       "18        14951                     0.0                0.990000        0.0\n",
       "19        14952                     0.0                1.879464        0.0\n",
       "20        14953                     0.0                0.000000        0.0\n",
       "21        14954                     0.0                0.000000        0.0\n",
       "22        14955                     0.0                0.000000        0.0\n",
       "23        14956                     0.0                0.000000        0.0\n",
       "24        14957                     0.0                0.000000        0.0\n",
       "25        14958                     0.0                0.000000        0.0\n",
       "26        14959                     0.0                0.000000        0.0\n",
       "27        14960                     0.0                0.000000        0.0\n",
       "28        14961                     0.0                0.000000        0.0\n",
       "29        14962                     0.0                0.000000        0.0\n",
       "...         ...                     ...                     ...        ...\n",
       "828904  3176514                     0.0                0.000000        0.0\n",
       "828905  3176515                     0.0                0.000000        0.0\n",
       "828906  3176516                     0.0                0.000000        0.0\n",
       "828907  3176517                     0.0                0.000000        0.0\n",
       "828908  3176518                     0.0                0.000000        0.0\n",
       "828909  3176519                     0.0                0.000000        0.0\n",
       "828910  3176520                     0.0                0.000000        0.0\n",
       "828911  3176521                     0.0                0.990000        0.0\n",
       "828912  3176522                     0.0                0.000000        0.0\n",
       "828913  3176523                     0.0                0.000000        0.0\n",
       "828914  3176524                     0.0                0.000000        0.0\n",
       "828915  3176525                     0.0                0.000000        0.0\n",
       "828916  3176526                     0.0                0.000000        0.0\n",
       "828917  3176527                     0.0                0.000000        0.0\n",
       "828918  3176528                     0.0                0.000000        0.0\n",
       "828919  3176529                     0.0                0.000000        0.0\n",
       "828920  3176530                     0.0                0.000000        0.0\n",
       "828921  3176531                     0.0                0.000000        0.0\n",
       "828922  3176532                     0.0                0.000000        0.0\n",
       "828923  3176533                     0.0                0.990000        0.0\n",
       "828924  3176534                     0.0                0.000000        0.0\n",
       "828925  3176535                     0.0                0.000000        0.0\n",
       "828926  3176536                     0.0                0.000000        0.0\n",
       "828927  3176537                     0.0                0.000000        0.0\n",
       "828928  3176538                     0.0                0.000000        0.0\n",
       "828929  3176539                     0.0                0.000000        0.0\n",
       "828930  3176540                     0.0                0.000000        0.0\n",
       "828931  3176541                     0.0                0.000000        0.0\n",
       "828932  3176542                     0.0                0.000000        0.0\n",
       "828933  3176543                     0.0                0.000000        0.0\n",
       "\n",
       "[828934 rows x 4 columns]"
      ]
     },
     "execution_count": 196,
     "metadata": {},
     "output_type": "execute_result"
    }
   ],
   "source": [
    "result"
   ]
  },
  {
   "cell_type": "code",
   "execution_count": 197,
   "metadata": {
    "ExecuteTime": {
     "end_time": "2018-09-27T07:29:53.814265Z",
     "start_time": "2018-09-27T07:29:53.781664Z"
    }
   },
   "outputs": [],
   "source": [
    "result.rename(columns={'prediction_pay_price_y':\"prediction_pay_price\"},inplace=True)"
   ]
  },
  {
   "cell_type": "code",
   "execution_count": 198,
   "metadata": {
    "ExecuteTime": {
     "end_time": "2018-09-27T07:29:59.789249Z",
     "start_time": "2018-09-27T07:29:59.764648Z"
    }
   },
   "outputs": [
    {
     "data": {
      "text/html": [
       "<div>\n",
       "<style scoped>\n",
       "    .dataframe tbody tr th:only-of-type {\n",
       "        vertical-align: middle;\n",
       "    }\n",
       "\n",
       "    .dataframe tbody tr th {\n",
       "        vertical-align: top;\n",
       "    }\n",
       "\n",
       "    .dataframe thead th {\n",
       "        text-align: right;\n",
       "    }\n",
       "</style>\n",
       "<table border=\"1\" class=\"dataframe\">\n",
       "  <thead>\n",
       "    <tr style=\"text-align: right;\">\n",
       "      <th></th>\n",
       "      <th>user_id</th>\n",
       "      <th>prediction_pay_price_x</th>\n",
       "      <th>prediction_pay_price</th>\n",
       "      <th>pay_price</th>\n",
       "    </tr>\n",
       "  </thead>\n",
       "  <tbody>\n",
       "    <tr>\n",
       "      <th>0</th>\n",
       "      <td>14933</td>\n",
       "      <td>0.0</td>\n",
       "      <td>0.00</td>\n",
       "      <td>0.0</td>\n",
       "    </tr>\n",
       "    <tr>\n",
       "      <th>1</th>\n",
       "      <td>14934</td>\n",
       "      <td>0.0</td>\n",
       "      <td>0.00</td>\n",
       "      <td>0.0</td>\n",
       "    </tr>\n",
       "    <tr>\n",
       "      <th>2</th>\n",
       "      <td>14935</td>\n",
       "      <td>0.0</td>\n",
       "      <td>0.99</td>\n",
       "      <td>0.0</td>\n",
       "    </tr>\n",
       "    <tr>\n",
       "      <th>3</th>\n",
       "      <td>14936</td>\n",
       "      <td>0.0</td>\n",
       "      <td>0.00</td>\n",
       "      <td>0.0</td>\n",
       "    </tr>\n",
       "    <tr>\n",
       "      <th>4</th>\n",
       "      <td>14937</td>\n",
       "      <td>0.0</td>\n",
       "      <td>0.00</td>\n",
       "      <td>0.0</td>\n",
       "    </tr>\n",
       "  </tbody>\n",
       "</table>\n",
       "</div>"
      ],
      "text/plain": [
       "   user_id  prediction_pay_price_x  prediction_pay_price  pay_price\n",
       "0    14933                     0.0                  0.00        0.0\n",
       "1    14934                     0.0                  0.00        0.0\n",
       "2    14935                     0.0                  0.99        0.0\n",
       "3    14936                     0.0                  0.00        0.0\n",
       "4    14937                     0.0                  0.00        0.0"
      ]
     },
     "execution_count": 198,
     "metadata": {},
     "output_type": "execute_result"
    }
   ],
   "source": [
    "result.head()"
   ]
  },
  {
   "cell_type": "code",
   "execution_count": 199,
   "metadata": {
    "ExecuteTime": {
     "end_time": "2018-09-27T07:30:32.789507Z",
     "start_time": "2018-09-27T07:30:32.754307Z"
    }
   },
   "outputs": [],
   "source": [
    "result.drop(labels=['prediction_pay_price_x','pay_price'],axis=1,inplace=True)"
   ]
  },
  {
   "cell_type": "code",
   "execution_count": 201,
   "metadata": {
    "ExecuteTime": {
     "end_time": "2018-09-27T07:30:45.229830Z",
     "start_time": "2018-09-27T07:30:45.194228Z"
    }
   },
   "outputs": [
    {
     "data": {
      "text/html": [
       "<div>\n",
       "<style scoped>\n",
       "    .dataframe tbody tr th:only-of-type {\n",
       "        vertical-align: middle;\n",
       "    }\n",
       "\n",
       "    .dataframe tbody tr th {\n",
       "        vertical-align: top;\n",
       "    }\n",
       "\n",
       "    .dataframe thead th {\n",
       "        text-align: right;\n",
       "    }\n",
       "</style>\n",
       "<table border=\"1\" class=\"dataframe\">\n",
       "  <thead>\n",
       "    <tr style=\"text-align: right;\">\n",
       "      <th></th>\n",
       "      <th>user_id</th>\n",
       "      <th>prediction_pay_price</th>\n",
       "    </tr>\n",
       "  </thead>\n",
       "  <tbody>\n",
       "    <tr>\n",
       "      <th>0</th>\n",
       "      <td>14933</td>\n",
       "      <td>0.000000</td>\n",
       "    </tr>\n",
       "    <tr>\n",
       "      <th>1</th>\n",
       "      <td>14934</td>\n",
       "      <td>0.000000</td>\n",
       "    </tr>\n",
       "    <tr>\n",
       "      <th>2</th>\n",
       "      <td>14935</td>\n",
       "      <td>0.990000</td>\n",
       "    </tr>\n",
       "    <tr>\n",
       "      <th>3</th>\n",
       "      <td>14936</td>\n",
       "      <td>0.000000</td>\n",
       "    </tr>\n",
       "    <tr>\n",
       "      <th>4</th>\n",
       "      <td>14937</td>\n",
       "      <td>0.000000</td>\n",
       "    </tr>\n",
       "    <tr>\n",
       "      <th>5</th>\n",
       "      <td>14938</td>\n",
       "      <td>0.000000</td>\n",
       "    </tr>\n",
       "    <tr>\n",
       "      <th>6</th>\n",
       "      <td>14939</td>\n",
       "      <td>0.990000</td>\n",
       "    </tr>\n",
       "    <tr>\n",
       "      <th>7</th>\n",
       "      <td>14940</td>\n",
       "      <td>0.000000</td>\n",
       "    </tr>\n",
       "    <tr>\n",
       "      <th>8</th>\n",
       "      <td>14941</td>\n",
       "      <td>0.000000</td>\n",
       "    </tr>\n",
       "    <tr>\n",
       "      <th>9</th>\n",
       "      <td>14942</td>\n",
       "      <td>0.000000</td>\n",
       "    </tr>\n",
       "    <tr>\n",
       "      <th>10</th>\n",
       "      <td>14943</td>\n",
       "      <td>0.000000</td>\n",
       "    </tr>\n",
       "    <tr>\n",
       "      <th>11</th>\n",
       "      <td>14944</td>\n",
       "      <td>0.000000</td>\n",
       "    </tr>\n",
       "    <tr>\n",
       "      <th>12</th>\n",
       "      <td>14945</td>\n",
       "      <td>0.000000</td>\n",
       "    </tr>\n",
       "    <tr>\n",
       "      <th>13</th>\n",
       "      <td>14946</td>\n",
       "      <td>0.000000</td>\n",
       "    </tr>\n",
       "    <tr>\n",
       "      <th>14</th>\n",
       "      <td>14947</td>\n",
       "      <td>0.000000</td>\n",
       "    </tr>\n",
       "    <tr>\n",
       "      <th>15</th>\n",
       "      <td>14948</td>\n",
       "      <td>0.000000</td>\n",
       "    </tr>\n",
       "    <tr>\n",
       "      <th>16</th>\n",
       "      <td>14949</td>\n",
       "      <td>0.000000</td>\n",
       "    </tr>\n",
       "    <tr>\n",
       "      <th>17</th>\n",
       "      <td>14950</td>\n",
       "      <td>0.000000</td>\n",
       "    </tr>\n",
       "    <tr>\n",
       "      <th>18</th>\n",
       "      <td>14951</td>\n",
       "      <td>0.990000</td>\n",
       "    </tr>\n",
       "    <tr>\n",
       "      <th>19</th>\n",
       "      <td>14952</td>\n",
       "      <td>1.879464</td>\n",
       "    </tr>\n",
       "    <tr>\n",
       "      <th>20</th>\n",
       "      <td>14953</td>\n",
       "      <td>0.000000</td>\n",
       "    </tr>\n",
       "    <tr>\n",
       "      <th>21</th>\n",
       "      <td>14954</td>\n",
       "      <td>0.000000</td>\n",
       "    </tr>\n",
       "    <tr>\n",
       "      <th>22</th>\n",
       "      <td>14955</td>\n",
       "      <td>0.000000</td>\n",
       "    </tr>\n",
       "    <tr>\n",
       "      <th>23</th>\n",
       "      <td>14956</td>\n",
       "      <td>0.000000</td>\n",
       "    </tr>\n",
       "    <tr>\n",
       "      <th>24</th>\n",
       "      <td>14957</td>\n",
       "      <td>0.000000</td>\n",
       "    </tr>\n",
       "    <tr>\n",
       "      <th>25</th>\n",
       "      <td>14958</td>\n",
       "      <td>0.000000</td>\n",
       "    </tr>\n",
       "    <tr>\n",
       "      <th>26</th>\n",
       "      <td>14959</td>\n",
       "      <td>0.000000</td>\n",
       "    </tr>\n",
       "    <tr>\n",
       "      <th>27</th>\n",
       "      <td>14960</td>\n",
       "      <td>0.000000</td>\n",
       "    </tr>\n",
       "    <tr>\n",
       "      <th>28</th>\n",
       "      <td>14961</td>\n",
       "      <td>0.000000</td>\n",
       "    </tr>\n",
       "    <tr>\n",
       "      <th>29</th>\n",
       "      <td>14962</td>\n",
       "      <td>0.000000</td>\n",
       "    </tr>\n",
       "  </tbody>\n",
       "</table>\n",
       "</div>"
      ],
      "text/plain": [
       "    user_id  prediction_pay_price\n",
       "0     14933              0.000000\n",
       "1     14934              0.000000\n",
       "2     14935              0.990000\n",
       "3     14936              0.000000\n",
       "4     14937              0.000000\n",
       "5     14938              0.000000\n",
       "6     14939              0.990000\n",
       "7     14940              0.000000\n",
       "8     14941              0.000000\n",
       "9     14942              0.000000\n",
       "10    14943              0.000000\n",
       "11    14944              0.000000\n",
       "12    14945              0.000000\n",
       "13    14946              0.000000\n",
       "14    14947              0.000000\n",
       "15    14948              0.000000\n",
       "16    14949              0.000000\n",
       "17    14950              0.000000\n",
       "18    14951              0.990000\n",
       "19    14952              1.879464\n",
       "20    14953              0.000000\n",
       "21    14954              0.000000\n",
       "22    14955              0.000000\n",
       "23    14956              0.000000\n",
       "24    14957              0.000000\n",
       "25    14958              0.000000\n",
       "26    14959              0.000000\n",
       "27    14960              0.000000\n",
       "28    14961              0.000000\n",
       "29    14962              0.000000"
      ]
     },
     "execution_count": 201,
     "metadata": {},
     "output_type": "execute_result"
    }
   ],
   "source": [
    "result.head(30)"
   ]
  },
  {
   "cell_type": "code",
   "execution_count": 202,
   "metadata": {
    "ExecuteTime": {
     "end_time": "2018-09-27T07:31:21.276520Z",
     "start_time": "2018-09-27T07:31:19.421815Z"
    }
   },
   "outputs": [],
   "source": [
    "import datetime\n",
    "nowTime=datetime.datetime.now().strftime('%Y%m%d%H%M%S')\n",
    "name='tf_'+str(nowTime)\n",
    "result.to_csv(\"F:\\\\study\\\\ml\\\\DataSet\\\\Tap4fun\\\\SubMission\\\\\"+name+'.csv',index=False,encoding='utf-8')\n"
   ]
  },
  {
   "cell_type": "code",
   "execution_count": null,
   "metadata": {},
   "outputs": [],
   "source": []
  }
 ],
 "metadata": {
  "kernelspec": {
   "display_name": "Python 3",
   "language": "python",
   "name": "python3"
  },
  "language_info": {
   "codemirror_mode": {
    "name": "ipython",
    "version": 3
   },
   "file_extension": ".py",
   "mimetype": "text/x-python",
   "name": "python",
   "nbconvert_exporter": "python",
   "pygments_lexer": "ipython3",
   "version": "3.6.3"
  }
 },
 "nbformat": 4,
 "nbformat_minor": 2
}
