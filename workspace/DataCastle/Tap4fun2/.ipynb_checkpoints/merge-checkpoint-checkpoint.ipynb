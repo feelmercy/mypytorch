{
 "cells": [
  {
   "cell_type": "code",
   "execution_count": 1,
   "metadata": {},
   "outputs": [],
   "source": [
    "import pandas as pd\n",
    "import numpy as np"
   ]
  },
  {
   "cell_type": "code",
   "execution_count": 65,
   "metadata": {},
   "outputs": [],
   "source": [
    "nn = pd.read_csv('cailiao_pred/nn.csv', index_col=False) ##nn模型需要对小于10000的用户做处理,需要乘以系数\n",
    "#对nn做值变换，保证训练集测试集均值大致相同\n",
    "nn.prediction_pay_price *= (94.7/ nn[nn.prediction_pay_price != 0].prediction_pay_price.mean())\n",
    "\n",
    "gbdt_less = pd.read_csv('cailiao_pred/gbdt_xiaoyu_16000.csv', index_col=False) #gbdt乘\n",
    "gbdt_less.prediction_pay_price *= (94.7/ gbdt_less[gbdt_less.prediction_pay_price != 0].prediction_pay_price.mean())\n",
    "\n",
    "knn_lasso = pd.read_csv('cailiao_pred/knn_lasso.csv', index_col=False)   #knn_lasso系数乘过了\n",
    "\n",
    "gbdt_diff_feature = pd.read_csv('cailiao_pred/6gbdt_best_modify.csv', index_col=False)\n",
    "\n",
    "lgb_init = pd.read_csv('cailiao_pred/initial_lightgbm.csv', index_col=False)"
   ]
  },
  {
   "cell_type": "code",
   "execution_count": 68,
   "metadata": {},
   "outputs": [],
   "source": [
    "#融合3个模型试试\n",
    "result = pd.DataFrame()\n",
    "result['user_id'] = knn_lasso['user_id']\n",
    "result['prediction_pay_price'] = knn_lasso['prediction_pay_price']\n",
    "\n",
    "result.loc[result['user_id'] == 2483734,'prediction_pay_price'] = 45996.474285\n",
    "result.loc[result['user_id'] == 2492612,'prediction_pay_price'] = 43160.186656\n",
    "result.loc[result['user_id'] == 1225981,'prediction_pay_price'] = 30775.146521\n",
    "result.loc[result['user_id'] == 2354051,'prediction_pay_price'] = 14309.5 \n",
    "result.loc[result['user_id'] == 498285,'prediction_pay_price'] = 20202.28\n",
    "result.loc[result['user_id'] == 1760226,'prediction_pay_price'] = 17131.825767 \n",
    "result.loc[result['user_id'] == 2851137,'prediction_pay_price'] = 12719.79\n",
    "result.loc[result['user_id'] == 1695889,'prediction_pay_price'] = 12045.2686\n",
    "result.loc[result['user_id'] == 2145991,'prediction_pay_price'] = 10268.29\n",
    "result.loc[result['user_id'] == 1295687,'prediction_pay_price'] = 14375.94\n",
    "\n",
    "left_usid = [2483734, 2492612, 1225981, 2354051, 498285, 1760226, 2851137, 1695889, 2145991, 1295687]\n",
    "\n",
    "rest_usid= list(set(result.loc[(result.prediction_pay_price > 3)].user_id.tolist()) - set(left_usid))\n",
    "\n",
    "result.loc[result.user_id.isin(rest_usid), 'prediction_pay_price'] = \\\n",
    "        0.75*0.6*0.45*gbdt_less.loc[result.user_id.isin(rest_usid), 'prediction_pay_price']+ \\\n",
    "        0.75*0.6*0.35*gbdt_diff_feature.loc[gbdt_diff_feature.user_id.isin(rest_usid), 'prediction_pay_price']+\\\n",
    "        0.75*0.6*0.2*knn_lasso.loc[knn_lasso.user_id.isin(rest_usid), 'prediction_pay_price']+\\\n",
    "        0.75*0.4*nn.loc[nn.user_id.isin(rest_usid), 'prediction_pay_price']+\\\n",
    "        0.25*lgb_init.loc[lgb_init.user_id.isin(rest_usid), 'prediction_pay_price']\n",
    "\n",
    "result.loc[(result.prediction_pay_price < 3) & (result.prediction_pay_price != 0), 'prediction_pay_price'] = 0.99"
   ]
  },
  {
   "cell_type": "code",
   "execution_count": 69,
   "metadata": {},
   "outputs": [
    {
     "data": {
      "text/html": [
       "<div>\n",
       "<style scoped>\n",
       "    .dataframe tbody tr th:only-of-type {\n",
       "        vertical-align: middle;\n",
       "    }\n",
       "\n",
       "    .dataframe tbody tr th {\n",
       "        vertical-align: top;\n",
       "    }\n",
       "\n",
       "    .dataframe thead th {\n",
       "        text-align: right;\n",
       "    }\n",
       "</style>\n",
       "<table border=\"1\" class=\"dataframe\">\n",
       "  <thead>\n",
       "    <tr style=\"text-align: right;\">\n",
       "      <th></th>\n",
       "      <th>user_id</th>\n",
       "      <th>prediction_pay_price</th>\n",
       "    </tr>\n",
       "  </thead>\n",
       "  <tbody>\n",
       "    <tr>\n",
       "      <th>count</th>\n",
       "      <td>1.954900e+04</td>\n",
       "      <td>19549.000000</td>\n",
       "    </tr>\n",
       "    <tr>\n",
       "      <th>mean</th>\n",
       "      <td>1.815427e+06</td>\n",
       "      <td>94.535119</td>\n",
       "    </tr>\n",
       "    <tr>\n",
       "      <th>std</th>\n",
       "      <td>8.223837e+05</td>\n",
       "      <td>700.893087</td>\n",
       "    </tr>\n",
       "    <tr>\n",
       "      <th>min</th>\n",
       "      <td>1.495200e+04</td>\n",
       "      <td>0.990000</td>\n",
       "    </tr>\n",
       "    <tr>\n",
       "      <th>25%</th>\n",
       "      <td>1.286719e+06</td>\n",
       "      <td>0.990000</td>\n",
       "    </tr>\n",
       "    <tr>\n",
       "      <th>50%</th>\n",
       "      <td>2.013961e+06</td>\n",
       "      <td>9.138170</td>\n",
       "    </tr>\n",
       "    <tr>\n",
       "      <th>75%</th>\n",
       "      <td>2.484413e+06</td>\n",
       "      <td>31.646998</td>\n",
       "    </tr>\n",
       "    <tr>\n",
       "      <th>max</th>\n",
       "      <td>3.137748e+06</td>\n",
       "      <td>45996.474285</td>\n",
       "    </tr>\n",
       "  </tbody>\n",
       "</table>\n",
       "</div>"
      ],
      "text/plain": [
       "            user_id  prediction_pay_price\n",
       "count  1.954900e+04          19549.000000\n",
       "mean   1.815427e+06             94.535119\n",
       "std    8.223837e+05            700.893087\n",
       "min    1.495200e+04              0.990000\n",
       "25%    1.286719e+06              0.990000\n",
       "50%    2.013961e+06              9.138170\n",
       "75%    2.484413e+06             31.646998\n",
       "max    3.137748e+06          45996.474285"
      ]
     },
     "execution_count": 69,
     "metadata": {},
     "output_type": "execute_result"
    }
   ],
   "source": [
    "result[result.prediction_pay_price != 0].describe()"
   ]
  },
  {
   "cell_type": "code",
   "execution_count": null,
   "metadata": {},
   "outputs": [],
   "source": []
  },
  {
   "cell_type": "code",
   "execution_count": null,
   "metadata": {},
   "outputs": [],
   "source": []
  },
  {
   "cell_type": "code",
   "execution_count": null,
   "metadata": {},
   "outputs": [],
   "source": []
  },
  {
   "cell_type": "code",
   "execution_count": null,
   "metadata": {},
   "outputs": [],
   "source": []
  }
 ],
 "metadata": {
  "kernelspec": {
   "display_name": "Python 3",
   "language": "python",
   "name": "python3"
  },
  "language_info": {
   "codemirror_mode": {
    "name": "ipython",
    "version": 3
   },
   "file_extension": ".py",
   "mimetype": "text/x-python",
   "name": "python",
   "nbconvert_exporter": "python",
   "pygments_lexer": "ipython3",
   "version": "3.6.3"
  }
 },
 "nbformat": 4,
 "nbformat_minor": 2
}
