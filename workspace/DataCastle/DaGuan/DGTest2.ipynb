{
 "cells": [
  {
   "cell_type": "code",
   "execution_count": 1,
   "metadata": {
    "ExecuteTime": {
     "end_time": "2018-07-16T03:04:02.808225Z",
     "start_time": "2018-07-16T03:04:01.841170Z"
    }
   },
   "outputs": [],
   "source": [
    "import pandas as pd,numpy as np\n",
    "from sklearn.linear_model import LogisticRegression\n",
    "from sklearn.feature_extraction.text import  CountVectorizer,TfidfVectorizer\n",
    "import time"
   ]
  },
  {
   "cell_type": "code",
   "execution_count": 2,
   "metadata": {
    "ExecuteTime": {
     "end_time": "2018-07-16T03:04:22.339343Z",
     "start_time": "2018-07-16T03:04:02.810226Z"
    }
   },
   "outputs": [],
   "source": [
    "train=pd.read_csv('F:\\\\study\\\\ml\\\\DataSet\\\\DaGuan\\\\new_data\\\\train_set.csv')\n",
    "#test=pd.read_csv('F:\\\\study\\\\ml\\\\DataSet\\\\DaGuan\\\\new_data\\\\test_set.csv')"
   ]
  },
  {
   "cell_type": "code",
   "execution_count": 3,
   "metadata": {
    "ExecuteTime": {
     "end_time": "2018-07-16T03:04:22.350343Z",
     "start_time": "2018-07-16T03:04:22.340343Z"
    }
   },
   "outputs": [
    {
     "data": {
      "text/plain": [
       "(102277, 4)"
      ]
     },
     "execution_count": 3,
     "metadata": {},
     "output_type": "execute_result"
    }
   ],
   "source": [
    "train.shape"
   ]
  },
  {
   "cell_type": "code",
   "execution_count": 4,
   "metadata": {
    "ExecuteTime": {
     "end_time": "2018-07-16T03:04:22.591357Z",
     "start_time": "2018-07-16T03:04:22.351343Z"
    }
   },
   "outputs": [
    {
     "name": "stderr",
     "output_type": "stream",
     "text": [
      "D:\\ProgramData\\Anaconda3\\lib\\site-packages\\sklearn\\cross_validation.py:41: DeprecationWarning: This module was deprecated in version 0.18 in favor of the model_selection module into which all the refactored classes and functions are moved. Also note that the interface of the new CV iterators are different from that of this module. This module will be removed in 0.20.\n",
      "  \"This module will be removed in 0.20.\", DeprecationWarning)\n",
      "D:\\ProgramData\\Anaconda3\\lib\\site-packages\\sklearn\\grid_search.py:42: DeprecationWarning: This module was deprecated in version 0.18 in favor of the model_selection module into which all the refactored classes and functions are moved. This module will be removed in 0.20.\n",
      "  DeprecationWarning)\n"
     ]
    }
   ],
   "source": [
    "from sklearn.grid_search import GridSearchCV\n",
    "from sklearn.pipeline import Pipeline\n",
    "from sklearn.cross_validation import  train_test_split\n",
    "\n"
   ]
  },
  {
   "cell_type": "code",
   "execution_count": 5,
   "metadata": {
    "ExecuteTime": {
     "end_time": "2018-07-16T03:04:22.615358Z",
     "start_time": "2018-07-16T03:04:22.593357Z"
    }
   },
   "outputs": [
    {
     "data": {
      "text/plain": [
       "array([14,  3, 12, 13,  1, 10, 19, 18,  7,  9,  4, 17,  2,  8,  6, 11, 15,\n",
       "        5, 16], dtype=int64)"
      ]
     },
     "execution_count": 5,
     "metadata": {},
     "output_type": "execute_result"
    }
   ],
   "source": [
    "train['class'].unique()"
   ]
  },
  {
   "cell_type": "code",
   "execution_count": 6,
   "metadata": {
    "ExecuteTime": {
     "end_time": "2018-07-16T03:04:22.692363Z",
     "start_time": "2018-07-16T03:04:22.616358Z"
    }
   },
   "outputs": [
    {
     "data": {
      "text/plain": [
       "Index(['id', 'article', 'word_seg', 'class'], dtype='object')"
      ]
     },
     "execution_count": 6,
     "metadata": {},
     "output_type": "execute_result"
    }
   ],
   "source": [
    "train.columns"
   ]
  },
  {
   "cell_type": "code",
   "execution_count": 7,
   "metadata": {
    "ExecuteTime": {
     "end_time": "2018-07-16T03:04:22.804369Z",
     "start_time": "2018-07-16T03:04:22.694363Z"
    }
   },
   "outputs": [],
   "source": [
    "X_train, X_test, y_train, y_test = train_test_split(train['word_seg'],train['class'])"
   ]
  },
  {
   "cell_type": "code",
   "execution_count": 8,
   "metadata": {
    "ExecuteTime": {
     "end_time": "2018-07-16T03:04:22.903375Z",
     "start_time": "2018-07-16T03:04:22.805369Z"
    }
   },
   "outputs": [
    {
     "data": {
      "text/plain": [
       "233280"
      ]
     },
     "execution_count": 8,
     "metadata": {},
     "output_type": "execute_result"
    }
   ],
   "source": [
    "3*3*5*2*3*2*4*2*3*2*3*3"
   ]
  },
  {
   "cell_type": "code",
   "execution_count": 9,
   "metadata": {
    "ExecuteTime": {
     "end_time": "2018-07-16T09:29:43.123473Z",
     "start_time": "2018-07-16T03:04:26.194610Z"
    },
    "scrolled": true
   },
   "outputs": [
    {
     "name": "stdout",
     "output_type": "stream",
     "text": [
      "Fitting 3 folds for each of 24 candidates, totalling 72 fits\n",
      "[CV] clf__C=0.01, clf__dual=False, vect__max_df=0.7, vect__ngram_range=(1, 1) \n",
      "[CV]  clf__C=0.01, clf__dual=False, vect__max_df=0.7, vect__ngram_range=(1, 1), score=0.663643 - 1.7min\n",
      "[Parallel(n_jobs=1)]: Done   1 out of   1 | elapsed:  1.7min remaining:    0.0s\n",
      "[CV] clf__C=0.01, clf__dual=False, vect__max_df=0.7, vect__ngram_range=(1, 1) \n",
      "[CV]  clf__C=0.01, clf__dual=False, vect__max_df=0.7, vect__ngram_range=(1, 1), score=0.667579 - 1.7min\n",
      "[Parallel(n_jobs=1)]: Done   2 out of   2 | elapsed:  3.4min remaining:    0.0s\n",
      "[CV] clf__C=0.01, clf__dual=False, vect__max_df=0.7, vect__ngram_range=(1, 1) \n",
      "[CV]  clf__C=0.01, clf__dual=False, vect__max_df=0.7, vect__ngram_range=(1, 1), score=0.663263 - 1.7min\n",
      "[Parallel(n_jobs=1)]: Done   3 out of   3 | elapsed:  5.1min remaining:    0.0s\n",
      "[CV] clf__C=0.01, clf__dual=False, vect__max_df=0.7, vect__ngram_range=(1, 2) \n",
      "[CV]  clf__C=0.01, clf__dual=False, vect__max_df=0.7, vect__ngram_range=(1, 2), score=0.648197 - 8.4min\n",
      "[Parallel(n_jobs=1)]: Done   4 out of   4 | elapsed: 13.5min remaining:    0.0s\n",
      "[CV] clf__C=0.01, clf__dual=False, vect__max_df=0.7, vect__ngram_range=(1, 2) \n",
      "[CV]  clf__C=0.01, clf__dual=False, vect__max_df=0.7, vect__ngram_range=(1, 2), score=0.650606 - 8.4min\n",
      "[Parallel(n_jobs=1)]: Done   5 out of   5 | elapsed: 21.9min remaining:    0.0s\n",
      "[CV] clf__C=0.01, clf__dual=False, vect__max_df=0.7, vect__ngram_range=(1, 2) \n",
      "[CV]  clf__C=0.01, clf__dual=False, vect__max_df=0.7, vect__ngram_range=(1, 2), score=0.645347 - 8.5min\n",
      "[Parallel(n_jobs=1)]: Done   6 out of   6 | elapsed: 30.4min remaining:    0.0s\n",
      "[CV] clf__C=0.01, clf__dual=False, vect__max_df=0.9, vect__ngram_range=(1, 1) \n",
      "[CV]  clf__C=0.01, clf__dual=False, vect__max_df=0.9, vect__ngram_range=(1, 1), score=0.661101 - 1.7min\n",
      "[Parallel(n_jobs=1)]: Done   7 out of   7 | elapsed: 32.0min remaining:    0.0s\n",
      "[CV] clf__C=0.01, clf__dual=False, vect__max_df=0.9, vect__ngram_range=(1, 1) \n",
      "[CV]  clf__C=0.01, clf__dual=False, vect__max_df=0.9, vect__ngram_range=(1, 1), score=0.665350 - 1.7min\n",
      "[Parallel(n_jobs=1)]: Done   8 out of   8 | elapsed: 33.7min remaining:    0.0s\n",
      "[CV] clf__C=0.01, clf__dual=False, vect__max_df=0.9, vect__ngram_range=(1, 1) \n",
      "[CV]  clf__C=0.01, clf__dual=False, vect__max_df=0.9, vect__ngram_range=(1, 1), score=0.661464 - 1.7min\n",
      "[Parallel(n_jobs=1)]: Done   9 out of   9 | elapsed: 35.4min remaining:    0.0s\n",
      "[CV] clf__C=0.01, clf__dual=False, vect__max_df=0.9, vect__ngram_range=(1, 2) \n",
      "[CV]  clf__C=0.01, clf__dual=False, vect__max_df=0.9, vect__ngram_range=(1, 2), score=0.646125 - 8.4min\n",
      "[Parallel(n_jobs=1)]: Done  10 out of  10 | elapsed: 43.8min remaining:    0.0s\n",
      "[CV] clf__C=0.01, clf__dual=False, vect__max_df=0.9, vect__ngram_range=(1, 2) \n",
      "[CV]  clf__C=0.01, clf__dual=False, vect__max_df=0.9, vect__ngram_range=(1, 2), score=0.648103 - 8.4min\n",
      "[Parallel(n_jobs=1)]: Done  11 out of  11 | elapsed: 52.1min remaining:    0.0s\n",
      "[CV] clf__C=0.01, clf__dual=False, vect__max_df=0.9, vect__ngram_range=(1, 2) \n",
      "[CV]  clf__C=0.01, clf__dual=False, vect__max_df=0.9, vect__ngram_range=(1, 2), score=0.643978 - 8.6min\n",
      "[Parallel(n_jobs=1)]: Done  12 out of  12 | elapsed: 60.7min remaining:    0.0s\n",
      "[CV] clf__C=0.01, clf__dual=True, vect__max_df=0.7, vect__ngram_range=(1, 1) \n",
      "[CV]  clf__C=0.01, clf__dual=True, vect__max_df=0.7, vect__ngram_range=(1, 1), score=0.663682 - 1.3min\n",
      "[Parallel(n_jobs=1)]: Done  13 out of  13 | elapsed: 62.0min remaining:    0.0s\n",
      "[CV] clf__C=0.01, clf__dual=True, vect__max_df=0.7, vect__ngram_range=(1, 1) \n",
      "[CV]  clf__C=0.01, clf__dual=True, vect__max_df=0.7, vect__ngram_range=(1, 1), score=0.667657 - 1.2min\n",
      "[Parallel(n_jobs=1)]: Done  14 out of  14 | elapsed: 63.3min remaining:    0.0s\n",
      "[CV] clf__C=0.01, clf__dual=True, vect__max_df=0.7, vect__ngram_range=(1, 1) \n",
      "[CV]  clf__C=0.01, clf__dual=True, vect__max_df=0.7, vect__ngram_range=(1, 1), score=0.663342 - 1.2min\n",
      "[Parallel(n_jobs=1)]: Done  15 out of  15 | elapsed: 64.5min remaining:    0.0s\n",
      "[CV] clf__C=0.01, clf__dual=True, vect__max_df=0.7, vect__ngram_range=(1, 2) \n",
      "[CV]  clf__C=0.01, clf__dual=True, vect__max_df=0.7, vect__ngram_range=(1, 2), score=0.648276 - 5.4min\n",
      "[Parallel(n_jobs=1)]: Done  16 out of  16 | elapsed: 69.9min remaining:    0.0s\n",
      "[CV] clf__C=0.01, clf__dual=True, vect__max_df=0.7, vect__ngram_range=(1, 2) \n",
      "[CV]  clf__C=0.01, clf__dual=True, vect__max_df=0.7, vect__ngram_range=(1, 2), score=0.650645 - 5.4min\n",
      "[Parallel(n_jobs=1)]: Done  17 out of  17 | elapsed: 75.3min remaining:    0.0s\n",
      "[CV] clf__C=0.01, clf__dual=True, vect__max_df=0.7, vect__ngram_range=(1, 2) \n",
      "[CV]  clf__C=0.01, clf__dual=True, vect__max_df=0.7, vect__ngram_range=(1, 2), score=0.645386 - 5.4min\n",
      "[Parallel(n_jobs=1)]: Done  18 out of  18 | elapsed: 80.8min remaining:    0.0s\n",
      "[CV] clf__C=0.01, clf__dual=True, vect__max_df=0.9, vect__ngram_range=(1, 1) \n",
      "[CV]  clf__C=0.01, clf__dual=True, vect__max_df=0.9, vect__ngram_range=(1, 1), score=0.661101 - 1.2min\n",
      "[Parallel(n_jobs=1)]: Done  19 out of  19 | elapsed: 82.0min remaining:    0.0s\n",
      "[CV] clf__C=0.01, clf__dual=True, vect__max_df=0.9, vect__ngram_range=(1, 1) \n",
      "[CV]  clf__C=0.01, clf__dual=True, vect__max_df=0.9, vect__ngram_range=(1, 1), score=0.665350 - 1.2min\n",
      "[Parallel(n_jobs=1)]: Done  20 out of  20 | elapsed: 83.2min remaining:    0.0s\n",
      "[CV] clf__C=0.01, clf__dual=True, vect__max_df=0.9, vect__ngram_range=(1, 1) \n",
      "[CV]  clf__C=0.01, clf__dual=True, vect__max_df=0.9, vect__ngram_range=(1, 1), score=0.661464 - 1.2min\n",
      "[Parallel(n_jobs=1)]: Done  21 out of  21 | elapsed: 84.4min remaining:    0.0s\n",
      "[CV] clf__C=0.01, clf__dual=True, vect__max_df=0.9, vect__ngram_range=(1, 2) \n",
      "[CV]  clf__C=0.01, clf__dual=True, vect__max_df=0.9, vect__ngram_range=(1, 2), score=0.646125 - 5.4min\n",
      "[Parallel(n_jobs=1)]: Done  22 out of  22 | elapsed: 89.8min remaining:    0.0s\n",
      "[CV] clf__C=0.01, clf__dual=True, vect__max_df=0.9, vect__ngram_range=(1, 2) \n",
      "[CV]  clf__C=0.01, clf__dual=True, vect__max_df=0.9, vect__ngram_range=(1, 2), score=0.648103 - 5.4min\n",
      "[Parallel(n_jobs=1)]: Done  23 out of  23 | elapsed: 95.3min remaining:    0.0s\n",
      "[CV] clf__C=0.01, clf__dual=True, vect__max_df=0.9, vect__ngram_range=(1, 2) \n",
      "[CV]  clf__C=0.01, clf__dual=True, vect__max_df=0.9, vect__ngram_range=(1, 2), score=0.643978 - 5.4min\n",
      "[Parallel(n_jobs=1)]: Done  24 out of  24 | elapsed: 100.7min remaining:    0.0s\n",
      "[CV] clf__C=0.1, clf__dual=False, vect__max_df=0.7, vect__ngram_range=(1, 1) \n",
      "[CV]  clf__C=0.1, clf__dual=False, vect__max_df=0.7, vect__ngram_range=(1, 1), score=0.713694 - 2.2min\n",
      "[Parallel(n_jobs=1)]: Done  25 out of  25 | elapsed: 102.8min remaining:    0.0s\n",
      "[CV] clf__C=0.1, clf__dual=False, vect__max_df=0.7, vect__ngram_range=(1, 1) \n",
      "[CV]  clf__C=0.1, clf__dual=False, vect__max_df=0.7, vect__ngram_range=(1, 1), score=0.716738 - 2.1min\n",
      "[Parallel(n_jobs=1)]: Done  26 out of  26 | elapsed: 105.0min remaining:    0.0s\n",
      "[CV] clf__C=0.1, clf__dual=False, vect__max_df=0.7, vect__ngram_range=(1, 1) \n",
      "[CV]  clf__C=0.1, clf__dual=False, vect__max_df=0.7, vect__ngram_range=(1, 1), score=0.711888 - 2.2min\n",
      "[Parallel(n_jobs=1)]: Done  27 out of  27 | elapsed: 107.1min remaining:    0.0s\n",
      "[CV] clf__C=0.1, clf__dual=False, vect__max_df=0.7, vect__ngram_range=(1, 2) \n",
      "[CV]  clf__C=0.1, clf__dual=False, vect__max_df=0.7, vect__ngram_range=(1, 2), score=0.691914 -11.5min\n",
      "[Parallel(n_jobs=1)]: Done  28 out of  28 | elapsed: 118.6min remaining:    0.0s\n",
      "[CV] clf__C=0.1, clf__dual=False, vect__max_df=0.7, vect__ngram_range=(1, 2) \n",
      "[CV]  clf__C=0.1, clf__dual=False, vect__max_df=0.7, vect__ngram_range=(1, 2), score=0.693938 -11.5min\n",
      "[Parallel(n_jobs=1)]: Done  29 out of  29 | elapsed: 130.2min remaining:    0.0s\n",
      "[CV] clf__C=0.1, clf__dual=False, vect__max_df=0.7, vect__ngram_range=(1, 2) \n",
      "[CV]  clf__C=0.1, clf__dual=False, vect__max_df=0.7, vect__ngram_range=(1, 2), score=0.688339 -11.7min\n",
      "[Parallel(n_jobs=1)]: Done  30 out of  30 | elapsed: 141.8min remaining:    0.0s\n",
      "[CV] clf__C=0.1, clf__dual=False, vect__max_df=0.9, vect__ngram_range=(1, 1) \n",
      "[CV]  clf__C=0.1, clf__dual=False, vect__max_df=0.9, vect__ngram_range=(1, 1), score=0.711934 - 2.3min\n",
      "[Parallel(n_jobs=1)]: Done  31 out of  31 | elapsed: 144.1min remaining:    0.0s\n",
      "[CV] clf__C=0.1, clf__dual=False, vect__max_df=0.9, vect__ngram_range=(1, 1) \n"
     ]
    },
    {
     "name": "stdout",
     "output_type": "stream",
     "text": [
      "[CV]  clf__C=0.1, clf__dual=False, vect__max_df=0.9, vect__ngram_range=(1, 1), score=0.716738 - 2.2min\n",
      "[Parallel(n_jobs=1)]: Done  32 out of  32 | elapsed: 146.3min remaining:    0.0s\n",
      "[CV] clf__C=0.1, clf__dual=False, vect__max_df=0.9, vect__ngram_range=(1, 1) \n",
      "[CV]  clf__C=0.1, clf__dual=False, vect__max_df=0.9, vect__ngram_range=(1, 1), score=0.711067 - 2.2min\n",
      "[Parallel(n_jobs=1)]: Done  33 out of  33 | elapsed: 148.5min remaining:    0.0s\n",
      "[CV] clf__C=0.1, clf__dual=False, vect__max_df=0.9, vect__ngram_range=(1, 2) \n",
      "[CV]  clf__C=0.1, clf__dual=False, vect__max_df=0.9, vect__ngram_range=(1, 2), score=0.691093 -11.8min\n",
      "[Parallel(n_jobs=1)]: Done  34 out of  34 | elapsed: 160.4min remaining:    0.0s\n",
      "[CV] clf__C=0.1, clf__dual=False, vect__max_df=0.9, vect__ngram_range=(1, 2) \n",
      "[CV]  clf__C=0.1, clf__dual=False, vect__max_df=0.9, vect__ngram_range=(1, 2), score=0.692882 -11.8min\n",
      "[Parallel(n_jobs=1)]: Done  35 out of  35 | elapsed: 172.2min remaining:    0.0s\n",
      "[CV] clf__C=0.1, clf__dual=False, vect__max_df=0.9, vect__ngram_range=(1, 2) \n",
      "[CV]  clf__C=0.1, clf__dual=False, vect__max_df=0.9, vect__ngram_range=(1, 2), score=0.687830 -12.0min\n",
      "[Parallel(n_jobs=1)]: Done  36 out of  36 | elapsed: 184.2min remaining:    0.0s\n",
      "[CV] clf__C=0.1, clf__dual=True, vect__max_df=0.7, vect__ngram_range=(1, 1) \n",
      "[CV]  clf__C=0.1, clf__dual=True, vect__max_df=0.7, vect__ngram_range=(1, 1), score=0.713733 - 1.3min\n",
      "[Parallel(n_jobs=1)]: Done  37 out of  37 | elapsed: 185.4min remaining:    0.0s\n",
      "[CV] clf__C=0.1, clf__dual=True, vect__max_df=0.7, vect__ngram_range=(1, 1) \n",
      "[CV]  clf__C=0.1, clf__dual=True, vect__max_df=0.7, vect__ngram_range=(1, 1), score=0.716738 - 1.3min\n",
      "[Parallel(n_jobs=1)]: Done  38 out of  38 | elapsed: 186.7min remaining:    0.0s\n",
      "[CV] clf__C=0.1, clf__dual=True, vect__max_df=0.7, vect__ngram_range=(1, 1) \n",
      "[CV]  clf__C=0.1, clf__dual=True, vect__max_df=0.7, vect__ngram_range=(1, 1), score=0.711888 - 1.3min\n",
      "[Parallel(n_jobs=1)]: Done  39 out of  39 | elapsed: 188.0min remaining:    0.0s\n",
      "[CV] clf__C=0.1, clf__dual=True, vect__max_df=0.7, vect__ngram_range=(1, 2) \n",
      "[CV]  clf__C=0.1, clf__dual=True, vect__max_df=0.7, vect__ngram_range=(1, 2), score=0.691835 - 5.6min\n",
      "[Parallel(n_jobs=1)]: Done  40 out of  40 | elapsed: 193.6min remaining:    0.0s\n",
      "[CV] clf__C=0.1, clf__dual=True, vect__max_df=0.7, vect__ngram_range=(1, 2) \n",
      "[CV]  clf__C=0.1, clf__dual=True, vect__max_df=0.7, vect__ngram_range=(1, 2), score=0.693938 - 5.6min\n",
      "[Parallel(n_jobs=1)]: Done  41 out of  41 | elapsed: 199.2min remaining:    0.0s\n",
      "[CV] clf__C=0.1, clf__dual=True, vect__max_df=0.7, vect__ngram_range=(1, 2) \n",
      "[CV]  clf__C=0.1, clf__dual=True, vect__max_df=0.7, vect__ngram_range=(1, 2), score=0.688417 - 5.6min\n",
      "[Parallel(n_jobs=1)]: Done  42 out of  42 | elapsed: 204.9min remaining:    0.0s\n",
      "[CV] clf__C=0.1, clf__dual=True, vect__max_df=0.9, vect__ngram_range=(1, 1) \n",
      "[CV]  clf__C=0.1, clf__dual=True, vect__max_df=0.9, vect__ngram_range=(1, 1), score=0.712012 - 1.3min\n",
      "[Parallel(n_jobs=1)]: Done  43 out of  43 | elapsed: 206.1min remaining:    0.0s\n",
      "[CV] clf__C=0.1, clf__dual=True, vect__max_df=0.9, vect__ngram_range=(1, 1) \n",
      "[CV]  clf__C=0.1, clf__dual=True, vect__max_df=0.9, vect__ngram_range=(1, 1), score=0.716777 - 1.3min\n",
      "[Parallel(n_jobs=1)]: Done  44 out of  44 | elapsed: 207.4min remaining:    0.0s\n",
      "[CV] clf__C=0.1, clf__dual=True, vect__max_df=0.9, vect__ngram_range=(1, 1) \n",
      "[CV]  clf__C=0.1, clf__dual=True, vect__max_df=0.9, vect__ngram_range=(1, 1), score=0.711106 - 1.3min\n",
      "[Parallel(n_jobs=1)]: Done  45 out of  45 | elapsed: 208.7min remaining:    0.0s\n",
      "[CV] clf__C=0.1, clf__dual=True, vect__max_df=0.9, vect__ngram_range=(1, 2) \n",
      "[CV]  clf__C=0.1, clf__dual=True, vect__max_df=0.9, vect__ngram_range=(1, 2), score=0.691093 - 5.6min\n",
      "[Parallel(n_jobs=1)]: Done  46 out of  46 | elapsed: 214.2min remaining:    0.0s\n",
      "[CV] clf__C=0.1, clf__dual=True, vect__max_df=0.9, vect__ngram_range=(1, 2) \n",
      "[CV]  clf__C=0.1, clf__dual=True, vect__max_df=0.9, vect__ngram_range=(1, 2), score=0.692882 - 5.5min\n",
      "[Parallel(n_jobs=1)]: Done  47 out of  47 | elapsed: 219.8min remaining:    0.0s\n",
      "[CV] clf__C=0.1, clf__dual=True, vect__max_df=0.9, vect__ngram_range=(1, 2) \n",
      "[CV]  clf__C=0.1, clf__dual=True, vect__max_df=0.9, vect__ngram_range=(1, 2), score=0.687791 - 5.5min\n",
      "[Parallel(n_jobs=1)]: Done  48 out of  48 | elapsed: 225.3min remaining:    0.0s\n",
      "[CV] clf__C=1, clf__dual=False, vect__max_df=0.7, vect__ngram_range=(1, 1) \n",
      "[CV]  clf__C=1, clf__dual=False, vect__max_df=0.7, vect__ngram_range=(1, 1), score=0.760421 - 2.8min\n",
      "[Parallel(n_jobs=1)]: Done  49 out of  49 | elapsed: 228.1min remaining:    0.0s\n",
      "[CV] clf__C=1, clf__dual=False, vect__max_df=0.7, vect__ngram_range=(1, 1) \n",
      "[CV]  clf__C=1, clf__dual=False, vect__max_df=0.7, vect__ngram_range=(1, 1), score=0.759914 - 2.8min\n",
      "[CV] clf__C=1, clf__dual=False, vect__max_df=0.7, vect__ngram_range=(1, 1) \n",
      "[CV]  clf__C=1, clf__dual=False, vect__max_df=0.7, vect__ngram_range=(1, 1), score=0.759731 - 3.0min\n",
      "[CV] clf__C=1, clf__dual=False, vect__max_df=0.7, vect__ngram_range=(1, 2) \n",
      "[CV]  clf__C=1, clf__dual=False, vect__max_df=0.7, vect__ngram_range=(1, 2), score=0.751075 -15.9min\n",
      "[CV] clf__C=1, clf__dual=False, vect__max_df=0.7, vect__ngram_range=(1, 2) \n",
      "[CV]  clf__C=1, clf__dual=False, vect__max_df=0.7, vect__ngram_range=(1, 2), score=0.751427 -15.7min\n",
      "[CV] clf__C=1, clf__dual=False, vect__max_df=0.7, vect__ngram_range=(1, 2) \n",
      "[CV]  clf__C=1, clf__dual=False, vect__max_df=0.7, vect__ngram_range=(1, 2), score=0.750147 -15.7min\n",
      "[CV] clf__C=1, clf__dual=False, vect__max_df=0.9, vect__ngram_range=(1, 1) \n",
      "[CV]  clf__C=1, clf__dual=False, vect__max_df=0.9, vect__ngram_range=(1, 1), score=0.760851 - 2.8min\n",
      "[CV] clf__C=1, clf__dual=False, vect__max_df=0.9, vect__ngram_range=(1, 1) \n",
      "[CV]  clf__C=1, clf__dual=False, vect__max_df=0.9, vect__ngram_range=(1, 1), score=0.760188 - 2.8min\n",
      "[CV] clf__C=1, clf__dual=False, vect__max_df=0.9, vect__ngram_range=(1, 1) \n",
      "[CV]  clf__C=1, clf__dual=False, vect__max_df=0.9, vect__ngram_range=(1, 1), score=0.759496 - 2.8min\n",
      "[CV] clf__C=1, clf__dual=False, vect__max_df=0.9, vect__ngram_range=(1, 2) \n",
      "[CV]  clf__C=1, clf__dual=False, vect__max_df=0.9, vect__ngram_range=(1, 2), score=0.750645 -16.2min\n",
      "[CV] clf__C=1, clf__dual=False, vect__max_df=0.9, vect__ngram_range=(1, 2) \n",
      "[CV]  clf__C=1, clf__dual=False, vect__max_df=0.9, vect__ngram_range=(1, 2), score=0.751858 -16.2min\n",
      "[CV] clf__C=1, clf__dual=False, vect__max_df=0.9, vect__ngram_range=(1, 2) \n",
      "[CV]  clf__C=1, clf__dual=False, vect__max_df=0.9, vect__ngram_range=(1, 2), score=0.750694 -16.2min\n",
      "[CV] clf__C=1, clf__dual=True, vect__max_df=0.7, vect__ngram_range=(1, 1) \n",
      "[CV]  clf__C=1, clf__dual=True, vect__max_df=0.7, vect__ngram_range=(1, 1), score=0.760382 - 1.3min\n",
      "[CV] clf__C=1, clf__dual=True, vect__max_df=0.7, vect__ngram_range=(1, 1) \n",
      "[CV]  clf__C=1, clf__dual=True, vect__max_df=0.7, vect__ngram_range=(1, 1), score=0.759914 - 1.2min\n",
      "[CV] clf__C=1, clf__dual=True, vect__max_df=0.7, vect__ngram_range=(1, 1) \n",
      "[CV]  clf__C=1, clf__dual=True, vect__max_df=0.7, vect__ngram_range=(1, 1), score=0.759692 - 1.2min\n",
      "[CV] clf__C=1, clf__dual=True, vect__max_df=0.7, vect__ngram_range=(1, 2) \n",
      "[CV]  clf__C=1, clf__dual=True, vect__max_df=0.7, vect__ngram_range=(1, 2), score=0.751075 - 5.9min\n",
      "[CV] clf__C=1, clf__dual=True, vect__max_df=0.7, vect__ngram_range=(1, 2) \n",
      "[CV]  clf__C=1, clf__dual=True, vect__max_df=0.7, vect__ngram_range=(1, 2), score=0.751427 - 6.1min\n",
      "[CV] clf__C=1, clf__dual=True, vect__max_df=0.7, vect__ngram_range=(1, 2) \n",
      "[CV]  clf__C=1, clf__dual=True, vect__max_df=0.7, vect__ngram_range=(1, 2), score=0.750068 - 6.3min\n",
      "[CV] clf__C=1, clf__dual=True, vect__max_df=0.9, vect__ngram_range=(1, 1) \n",
      "[CV]  clf__C=1, clf__dual=True, vect__max_df=0.9, vect__ngram_range=(1, 1), score=0.760929 - 1.4min\n",
      "[CV] clf__C=1, clf__dual=True, vect__max_df=0.9, vect__ngram_range=(1, 1) \n",
      "[CV]  clf__C=1, clf__dual=True, vect__max_df=0.9, vect__ngram_range=(1, 1), score=0.760188 - 1.4min\n",
      "[CV] clf__C=1, clf__dual=True, vect__max_df=0.9, vect__ngram_range=(1, 1) \n",
      "[CV]  clf__C=1, clf__dual=True, vect__max_df=0.9, vect__ngram_range=(1, 1), score=0.759496 - 1.4min\n",
      "[CV] clf__C=1, clf__dual=True, vect__max_df=0.9, vect__ngram_range=(1, 2) \n"
     ]
    },
    {
     "name": "stdout",
     "output_type": "stream",
     "text": [
      "[CV]  clf__C=1, clf__dual=True, vect__max_df=0.9, vect__ngram_range=(1, 2), score=0.750684 - 6.3min\n",
      "[CV] clf__C=1, clf__dual=True, vect__max_df=0.9, vect__ngram_range=(1, 2) \n",
      "[CV]  clf__C=1, clf__dual=True, vect__max_df=0.9, vect__ngram_range=(1, 2), score=0.751740 - 6.3min\n",
      "[CV] clf__C=1, clf__dual=True, vect__max_df=0.9, vect__ngram_range=(1, 2) \n",
      "[CV]  clf__C=1, clf__dual=True, vect__max_df=0.9, vect__ngram_range=(1, 2), score=0.750694 - 6.2min\n",
      "[Parallel(n_jobs=1)]: Done  72 out of  72 | elapsed: 383.5min finished\n"
     ]
    },
    {
     "data": {
      "text/plain": [
       "GridSearchCV(cv=3, error_score='raise',\n",
       "       estimator=Pipeline(memory=None,\n",
       "     steps=[('vect', TfidfVectorizer(analyzer='word', binary=False, decode_error='strict',\n",
       "        dtype=<class 'numpy.int64'>, encoding='utf-8', input='content',\n",
       "        lowercase=True, max_df=1.0, max_features=None, min_df=1,\n",
       "        ngram_range=(1, 1), norm='l2', preprocessor=None, smooth_idf=True,\n",
       "  ...ty='l2', random_state=None,\n",
       "          solver='liblinear', tol=0.0001, verbose=0, warm_start=False))]),\n",
       "       fit_params={}, iid=True, n_jobs=1,\n",
       "       param_grid={'vect__max_df': (0.7, 0.9), 'vect__ngram_range': ((1, 1), (1, 2)), 'clf__C': (0.01, 0.1, 1), 'clf__dual': (False, True)},\n",
       "       pre_dispatch='2*n_jobs', refit=True, scoring='accuracy', verbose=50)"
      ]
     },
     "execution_count": 9,
     "metadata": {},
     "output_type": "execute_result"
    }
   ],
   "source": [
    "pipeline=Pipeline([\n",
    "    ('vect', TfidfVectorizer(use_idf=True,smooth_idf=True,sublinear_tf=True)),\n",
    "    ('clf',LogisticRegression(penalty='l2',class_weight='balanced'))\n",
    "])\n",
    "\n",
    "params={\n",
    "    #'vect__min_df':(1,3),\n",
    "    'vect__max_df':(0.7,0.9),\n",
    "    #'vect__max_features':(100,500,1000,2000,40000),\n",
    "    'vect__ngram_range':((1,1),(1,2)),\n",
    "    #'vect__use_idf': (False, True),\n",
    "    #'vect__smooth_idf':(False,True),\n",
    "    #'vect__sublinear_tf':(False,True),\n",
    "    #'vect__norm': ('l1', 'l2'),\n",
    "    #'clf__penalty':('l2'),\n",
    "    'clf__C':(0.01,0.1,1),\n",
    "    'clf__dual':(False,True),\n",
    "   # 'clf__class_weight':('balanced')\n",
    "    #'clf__solver':('newton-cg','lbfgs','sag')\n",
    "}\n",
    "\n",
    "grid_search=GridSearchCV(pipeline,params,n_jobs=1,verbose=50,scoring='accuracy',cv=3)\n",
    "grid_search.fit(X_train,y_train)"
   ]
  },
  {
   "cell_type": "code",
   "execution_count": null,
   "metadata": {},
   "outputs": [],
   "source": []
  },
  {
   "cell_type": "code",
   "execution_count": null,
   "metadata": {},
   "outputs": [],
   "source": []
  },
  {
   "cell_type": "code",
   "execution_count": null,
   "metadata": {},
   "outputs": [],
   "source": []
  },
  {
   "cell_type": "code",
   "execution_count": null,
   "metadata": {},
   "outputs": [],
   "source": []
  },
  {
   "cell_type": "code",
   "execution_count": null,
   "metadata": {},
   "outputs": [],
   "source": []
  },
  {
   "cell_type": "code",
   "execution_count": null,
   "metadata": {},
   "outputs": [],
   "source": []
  },
  {
   "cell_type": "code",
   "execution_count": null,
   "metadata": {},
   "outputs": [],
   "source": []
  },
  {
   "cell_type": "code",
   "execution_count": null,
   "metadata": {},
   "outputs": [],
   "source": []
  },
  {
   "cell_type": "code",
   "execution_count": null,
   "metadata": {},
   "outputs": [],
   "source": []
  },
  {
   "cell_type": "code",
   "execution_count": null,
   "metadata": {},
   "outputs": [],
   "source": []
  },
  {
   "cell_type": "code",
   "execution_count": null,
   "metadata": {},
   "outputs": [],
   "source": []
  },
  {
   "cell_type": "code",
   "execution_count": null,
   "metadata": {},
   "outputs": [],
   "source": []
  },
  {
   "cell_type": "code",
   "execution_count": null,
   "metadata": {},
   "outputs": [],
   "source": []
  },
  {
   "cell_type": "code",
   "execution_count": null,
   "metadata": {},
   "outputs": [],
   "source": []
  }
 ],
 "metadata": {
  "kernelspec": {
   "display_name": "Python 3",
   "language": "python",
   "name": "python3"
  },
  "language_info": {
   "codemirror_mode": {
    "name": "ipython",
    "version": 3
   },
   "file_extension": ".py",
   "mimetype": "text/x-python",
   "name": "python",
   "nbconvert_exporter": "python",
   "pygments_lexer": "ipython3",
   "version": "3.6.3"
  }
 },
 "nbformat": 4,
 "nbformat_minor": 2
}
