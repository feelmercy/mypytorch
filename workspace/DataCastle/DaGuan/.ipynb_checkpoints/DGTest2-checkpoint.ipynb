{
 "cells": [
  {
   "cell_type": "code",
   "execution_count": 2,
   "metadata": {
    "ExecuteTime": {
     "end_time": "2018-07-16T01:54:45.112162Z",
     "start_time": "2018-07-16T01:54:44.151107Z"
    }
   },
   "outputs": [],
   "source": [
    "import pandas as pd,numpy as np\n",
    "from sklearn.linear_model import LogisticRegression\n",
    "from sklearn.feature_extraction.text import  CountVectorizer,TfidfVectorizer\n",
    "import time"
   ]
  },
  {
   "cell_type": "code",
   "execution_count": 3,
   "metadata": {
    "ExecuteTime": {
     "end_time": "2018-07-16T01:55:04.596277Z",
     "start_time": "2018-07-16T01:54:45.113162Z"
    }
   },
   "outputs": [],
   "source": [
    "train=pd.read_csv('F:\\\\study\\\\ml\\\\DataSet\\\\DaGuan\\\\new_data\\\\train_set.csv')\n",
    "#test=pd.read_csv('F:\\\\study\\\\ml\\\\DataSet\\\\DaGuan\\\\new_data\\\\test_set.csv')"
   ]
  },
  {
   "cell_type": "code",
   "execution_count": 4,
   "metadata": {
    "ExecuteTime": {
     "end_time": "2018-07-16T01:55:04.611277Z",
     "start_time": "2018-07-16T01:55:04.598277Z"
    }
   },
   "outputs": [
    {
     "data": {
      "text/plain": [
       "(102277, 4)"
      ]
     },
     "execution_count": 4,
     "metadata": {},
     "output_type": "execute_result"
    }
   ],
   "source": [
    "train.shape"
   ]
  },
  {
   "cell_type": "code",
   "execution_count": 5,
   "metadata": {
    "ExecuteTime": {
     "end_time": "2018-07-16T01:55:04.867292Z",
     "start_time": "2018-07-16T01:55:04.613278Z"
    }
   },
   "outputs": [
    {
     "name": "stderr",
     "output_type": "stream",
     "text": [
      "D:\\ProgramData\\Anaconda3\\lib\\site-packages\\sklearn\\cross_validation.py:41: DeprecationWarning: This module was deprecated in version 0.18 in favor of the model_selection module into which all the refactored classes and functions are moved. Also note that the interface of the new CV iterators are different from that of this module. This module will be removed in 0.20.\n",
      "  \"This module will be removed in 0.20.\", DeprecationWarning)\n",
      "D:\\ProgramData\\Anaconda3\\lib\\site-packages\\sklearn\\grid_search.py:42: DeprecationWarning: This module was deprecated in version 0.18 in favor of the model_selection module into which all the refactored classes and functions are moved. This module will be removed in 0.20.\n",
      "  DeprecationWarning)\n"
     ]
    }
   ],
   "source": [
    "from sklearn.grid_search import GridSearchCV\n",
    "from sklearn.pipeline import Pipeline\n",
    "from sklearn.cross_validation import  train_test_split\n",
    "\n"
   ]
  },
  {
   "cell_type": "code",
   "execution_count": 6,
   "metadata": {
    "ExecuteTime": {
     "end_time": "2018-07-16T01:55:04.875293Z",
     "start_time": "2018-07-16T01:55:04.869292Z"
    }
   },
   "outputs": [
    {
     "data": {
      "text/plain": [
       "array([14,  3, 12, 13,  1, 10, 19, 18,  7,  9,  4, 17,  2,  8,  6, 11, 15,\n",
       "        5, 16], dtype=int64)"
      ]
     },
     "execution_count": 6,
     "metadata": {},
     "output_type": "execute_result"
    }
   ],
   "source": [
    "train['class'].unique()"
   ]
  },
  {
   "cell_type": "code",
   "execution_count": 7,
   "metadata": {
    "ExecuteTime": {
     "end_time": "2018-07-16T01:55:04.984299Z",
     "start_time": "2018-07-16T01:55:04.877293Z"
    }
   },
   "outputs": [
    {
     "data": {
      "text/plain": [
       "Index(['id', 'article', 'word_seg', 'class'], dtype='object')"
      ]
     },
     "execution_count": 7,
     "metadata": {},
     "output_type": "execute_result"
    }
   ],
   "source": [
    "train.columns"
   ]
  },
  {
   "cell_type": "code",
   "execution_count": 8,
   "metadata": {
    "ExecuteTime": {
     "end_time": "2018-07-16T01:55:05.090305Z",
     "start_time": "2018-07-16T01:55:04.987299Z"
    }
   },
   "outputs": [],
   "source": [
    "X_train, X_test, y_train, y_test = train_test_split(train['word_seg'],train['class'])"
   ]
  },
  {
   "cell_type": "code",
   "execution_count": 9,
   "metadata": {
    "ExecuteTime": {
     "end_time": "2018-07-16T01:55:05.188310Z",
     "start_time": "2018-07-16T01:55:05.091305Z"
    }
   },
   "outputs": [
    {
     "data": {
      "text/plain": [
       "233280"
      ]
     },
     "execution_count": 9,
     "metadata": {},
     "output_type": "execute_result"
    }
   ],
   "source": [
    "3*3*5*2*3*2*4*2*3*2*3*3"
   ]
  },
  {
   "cell_type": "code",
   "execution_count": null,
   "metadata": {
    "ExecuteTime": {
     "start_time": "2018-07-16T02:43:36.666Z"
    },
    "scrolled": true
   },
   "outputs": [
    {
     "name": "stdout",
     "output_type": "stream",
     "text": [
      "Fitting 3 folds for each of 24 candidates, totalling 72 fits\n",
      "[Parallel(n_jobs=4)]: Done   1 tasks      | elapsed:  2.9min\n",
      "[Parallel(n_jobs=4)]: Done   2 tasks      | elapsed:  3.6min\n",
      "[Parallel(n_jobs=4)]: Done   3 tasks      | elapsed:  3.8min\n",
      "[Parallel(n_jobs=4)]: Done   4 tasks      | elapsed: 11.2min\n"
     ]
    }
   ],
   "source": [
    "pipeline=Pipeline([\n",
    "    ('vect', TfidfVectorizer(use_idf=True,smooth_idf=True,sublinear_tf=True)),\n",
    "    ('clf',LogisticRegression(penalty='l2',class_weight='balanced'))\n",
    "])\n",
    "\n",
    "params={\n",
    "    #'vect__min_df':(1,3),\n",
    "    'vect__max_df':(0.7,0.9),\n",
    "    #'vect__max_features':(100,500,1000,2000,40000),\n",
    "    'vect__ngram_range':((1,1),(1,2)),\n",
    "    #'vect__use_idf': (False, True),\n",
    "    #'vect__smooth_idf':(False,True),\n",
    "    #'vect__sublinear_tf':(False,True),\n",
    "    #'vect__norm': ('l1', 'l2'),\n",
    "    #'clf__penalty':('l2'),\n",
    "    'clf__C':(0.01,0.1,1),\n",
    "    'clf__dual':(False,True),\n",
    "   # 'clf__class_weight':('balanced')\n",
    "    #'clf__solver':('newton-cg','lbfgs','sag')\n",
    "}\n",
    "\n",
    "grid_search=GridSearchCV(pipeline,params,n_jobs=4,verbose=50,scoring='accuracy',cv=3)\n",
    "grid_search.fit(X_train,y_train)"
   ]
  },
  {
   "cell_type": "code",
   "execution_count": null,
   "metadata": {},
   "outputs": [],
   "source": []
  },
  {
   "cell_type": "code",
   "execution_count": null,
   "metadata": {},
   "outputs": [],
   "source": []
  },
  {
   "cell_type": "code",
   "execution_count": null,
   "metadata": {},
   "outputs": [],
   "source": []
  },
  {
   "cell_type": "code",
   "execution_count": null,
   "metadata": {},
   "outputs": [],
   "source": []
  },
  {
   "cell_type": "code",
   "execution_count": null,
   "metadata": {},
   "outputs": [],
   "source": []
  },
  {
   "cell_type": "code",
   "execution_count": null,
   "metadata": {},
   "outputs": [],
   "source": []
  },
  {
   "cell_type": "code",
   "execution_count": null,
   "metadata": {},
   "outputs": [],
   "source": []
  },
  {
   "cell_type": "code",
   "execution_count": null,
   "metadata": {},
   "outputs": [],
   "source": []
  },
  {
   "cell_type": "code",
   "execution_count": null,
   "metadata": {},
   "outputs": [],
   "source": []
  },
  {
   "cell_type": "code",
   "execution_count": null,
   "metadata": {},
   "outputs": [],
   "source": []
  },
  {
   "cell_type": "code",
   "execution_count": null,
   "metadata": {},
   "outputs": [],
   "source": []
  },
  {
   "cell_type": "code",
   "execution_count": null,
   "metadata": {},
   "outputs": [],
   "source": []
  },
  {
   "cell_type": "code",
   "execution_count": null,
   "metadata": {},
   "outputs": [],
   "source": []
  },
  {
   "cell_type": "code",
   "execution_count": null,
   "metadata": {},
   "outputs": [],
   "source": []
  }
 ],
 "metadata": {
  "kernelspec": {
   "display_name": "Python 3",
   "language": "python",
   "name": "python3"
  },
  "language_info": {
   "codemirror_mode": {
    "name": "ipython",
    "version": 3
   },
   "file_extension": ".py",
   "mimetype": "text/x-python",
   "name": "python",
   "nbconvert_exporter": "python",
   "pygments_lexer": "ipython3",
   "version": "3.6.3"
  }
 },
 "nbformat": 4,
 "nbformat_minor": 2
}
