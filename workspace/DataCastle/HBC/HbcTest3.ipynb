{
 "cells": [
  {
   "cell_type": "code",
   "execution_count": 2,
   "metadata": {
    "collapsed": true
   },
   "outputs": [],
   "source": [
    "import pandas as pd\n",
    "import numpy as np\n",
    "import time\n",
    "\n",
    "ac = pd.read_csv('F:\\\\study\\\\ml\\\\DataSet\\\\Hbc_csv\\\\action_train.csv')\n",
    "order = pd.read_csv('F:\\\\study\\\\ml\\\\DataSet\\\\Hbc_csv\\\\orderFuture_train.csv')\n",
    "order_his = pd.read_csv('F:\\\\study\\\\ml\\\\DataSet\\\\Hbc_csv\\\\orderHistory_train.csv')\n",
    "comment = pd.read_csv('F:\\\\study\\\\ml\\\\DataSet\\\\Hbc_csv\\\\userComment_train.csv')\n",
    "profile = pd.read_csv('F:\\\\study\\\\ml\\\\DataSet\\\\Hbc_csv\\\\userProfile_train.csv')\n",
    "\n",
    "ac_test = pd.read_csv('F:\\\\study\\\\ml\\\\DataSet\\\\Hbc_csv\\\\action_test.csv')\n",
    "order_test = pd.read_csv('F:\\\\study\\\\ml\\\\DataSet\\\\Hbc_csv\\\\orderFuture_test.csv')\n",
    "order_his_test = pd.read_csv('F:\\\\study\\\\ml\\\\DataSet\\\\Hbc_csv\\\\orderHistory_test.csv')\n",
    "comment_test = pd.read_csv('F:\\\\study\\\\ml\\\\DataSet\\\\Hbc_csv\\\\userComment_test.csv')\n"
   ]
  },
  {
   "cell_type": "code",
   "execution_count": 3,
   "metadata": {},
   "outputs": [
    {
     "data": {
      "text/html": [
       "<div>\n",
       "<style>\n",
       "    .dataframe thead tr:only-child th {\n",
       "        text-align: right;\n",
       "    }\n",
       "\n",
       "    .dataframe thead th {\n",
       "        text-align: left;\n",
       "    }\n",
       "\n",
       "    .dataframe tbody tr th {\n",
       "        vertical-align: top;\n",
       "    }\n",
       "</style>\n",
       "<table border=\"1\" class=\"dataframe\">\n",
       "  <thead>\n",
       "    <tr style=\"text-align: right;\">\n",
       "      <th></th>\n",
       "      <th>userid</th>\n",
       "      <th>orderid</th>\n",
       "      <th>orderTime</th>\n",
       "      <th>orderType</th>\n",
       "      <th>city</th>\n",
       "      <th>country</th>\n",
       "      <th>continent</th>\n",
       "    </tr>\n",
       "  </thead>\n",
       "  <tbody>\n",
       "    <tr>\n",
       "      <th>0</th>\n",
       "      <td>100000000013</td>\n",
       "      <td>1000015</td>\n",
       "      <td>1481714516</td>\n",
       "      <td>0</td>\n",
       "      <td>柏林</td>\n",
       "      <td>德国</td>\n",
       "      <td>欧洲</td>\n",
       "    </tr>\n",
       "    <tr>\n",
       "      <th>1</th>\n",
       "      <td>100000000013</td>\n",
       "      <td>1000014</td>\n",
       "      <td>1501959643</td>\n",
       "      <td>0</td>\n",
       "      <td>旧金山</td>\n",
       "      <td>美国</td>\n",
       "      <td>北美洲</td>\n",
       "    </tr>\n",
       "    <tr>\n",
       "      <th>2</th>\n",
       "      <td>100000000393</td>\n",
       "      <td>1000033</td>\n",
       "      <td>1499440296</td>\n",
       "      <td>0</td>\n",
       "      <td>巴黎</td>\n",
       "      <td>法国</td>\n",
       "      <td>欧洲</td>\n",
       "    </tr>\n",
       "    <tr>\n",
       "      <th>3</th>\n",
       "      <td>100000000459</td>\n",
       "      <td>1000036</td>\n",
       "      <td>1480601668</td>\n",
       "      <td>0</td>\n",
       "      <td>纽约</td>\n",
       "      <td>美国</td>\n",
       "      <td>北美洲</td>\n",
       "    </tr>\n",
       "    <tr>\n",
       "      <th>4</th>\n",
       "      <td>100000000459</td>\n",
       "      <td>1000034</td>\n",
       "      <td>1479146723</td>\n",
       "      <td>0</td>\n",
       "      <td>巴厘岛</td>\n",
       "      <td>印度尼西亚</td>\n",
       "      <td>亚洲</td>\n",
       "    </tr>\n",
       "  </tbody>\n",
       "</table>\n",
       "</div>"
      ],
      "text/plain": [
       "         userid  orderid   orderTime  orderType city country continent\n",
       "0  100000000013  1000015  1481714516          0   柏林      德国        欧洲\n",
       "1  100000000013  1000014  1501959643          0  旧金山      美国       北美洲\n",
       "2  100000000393  1000033  1499440296          0   巴黎      法国        欧洲\n",
       "3  100000000459  1000036  1480601668          0   纽约      美国       北美洲\n",
       "4  100000000459  1000034  1479146723          0  巴厘岛   印度尼西亚        亚洲"
      ]
     },
     "execution_count": 3,
     "metadata": {},
     "output_type": "execute_result"
    }
   ],
   "source": [
    "ac.head()\n",
    "order_his.head()"
   ]
  },
  {
   "cell_type": "code",
   "execution_count": 4,
   "metadata": {},
   "outputs": [
    {
     "data": {
      "text/plain": [
       "'2017-08-23 07:13:05'"
      ]
     },
     "execution_count": 4,
     "metadata": {},
     "output_type": "execute_result"
    }
   ],
   "source": [
    "timeArray=time.localtime(1503443585)\n",
    "time.strftime(\"%Y-%m-%d %H:%M:%S\",timeArray)"
   ]
  },
  {
   "cell_type": "code",
   "execution_count": 5,
   "metadata": {
    "scrolled": true
   },
   "outputs": [
    {
     "data": {
      "text/html": [
       "<div>\n",
       "<style>\n",
       "    .dataframe thead tr:only-child th {\n",
       "        text-align: right;\n",
       "    }\n",
       "\n",
       "    .dataframe thead th {\n",
       "        text-align: left;\n",
       "    }\n",
       "\n",
       "    .dataframe tbody tr th {\n",
       "        vertical-align: top;\n",
       "    }\n",
       "</style>\n",
       "<table border=\"1\" class=\"dataframe\">\n",
       "  <thead>\n",
       "    <tr style=\"text-align: right;\">\n",
       "      <th></th>\n",
       "      <th>userid</th>\n",
       "      <th>orderid</th>\n",
       "      <th>orderTime</th>\n",
       "      <th>orderType</th>\n",
       "      <th>city</th>\n",
       "      <th>country</th>\n",
       "      <th>continent</th>\n",
       "    </tr>\n",
       "  </thead>\n",
       "  <tbody>\n",
       "    <tr>\n",
       "      <th>0</th>\n",
       "      <td>100000000013</td>\n",
       "      <td>1000015</td>\n",
       "      <td>1481714516</td>\n",
       "      <td>0</td>\n",
       "      <td>柏林</td>\n",
       "      <td>德国</td>\n",
       "      <td>欧洲</td>\n",
       "    </tr>\n",
       "    <tr>\n",
       "      <th>1</th>\n",
       "      <td>100000000013</td>\n",
       "      <td>1000014</td>\n",
       "      <td>1501959643</td>\n",
       "      <td>0</td>\n",
       "      <td>旧金山</td>\n",
       "      <td>美国</td>\n",
       "      <td>北美洲</td>\n",
       "    </tr>\n",
       "    <tr>\n",
       "      <th>2</th>\n",
       "      <td>100000000393</td>\n",
       "      <td>1000033</td>\n",
       "      <td>1499440296</td>\n",
       "      <td>0</td>\n",
       "      <td>巴黎</td>\n",
       "      <td>法国</td>\n",
       "      <td>欧洲</td>\n",
       "    </tr>\n",
       "    <tr>\n",
       "      <th>3</th>\n",
       "      <td>100000000459</td>\n",
       "      <td>1000036</td>\n",
       "      <td>1480601668</td>\n",
       "      <td>0</td>\n",
       "      <td>纽约</td>\n",
       "      <td>美国</td>\n",
       "      <td>北美洲</td>\n",
       "    </tr>\n",
       "    <tr>\n",
       "      <th>4</th>\n",
       "      <td>100000000459</td>\n",
       "      <td>1000034</td>\n",
       "      <td>1479146723</td>\n",
       "      <td>0</td>\n",
       "      <td>巴厘岛</td>\n",
       "      <td>印度尼西亚</td>\n",
       "      <td>亚洲</td>\n",
       "    </tr>\n",
       "  </tbody>\n",
       "</table>\n",
       "</div>"
      ],
      "text/plain": [
       "         userid  orderid   orderTime  orderType city country continent\n",
       "0  100000000013  1000015  1481714516          0   柏林      德国        欧洲\n",
       "1  100000000013  1000014  1501959643          0  旧金山      美国       北美洲\n",
       "2  100000000393  1000033  1499440296          0   巴黎      法国        欧洲\n",
       "3  100000000459  1000036  1480601668          0   纽约      美国       北美洲\n",
       "4  100000000459  1000034  1479146723          0  巴厘岛   印度尼西亚        亚洲"
      ]
     },
     "execution_count": 5,
     "metadata": {},
     "output_type": "execute_result"
    }
   ],
   "source": [
    "order[order.userid == 100000000231]  ##get row by condition\n",
    "order_his.head()"
   ]
  },
  {
   "cell_type": "code",
   "execution_count": 6,
   "metadata": {},
   "outputs": [
    {
     "data": {
      "text/plain": [
       "0                              ['很','简陋','太','随便']\n",
       "1                                       ['很','细心']\n",
       "2                                              NaN\n",
       "3                                              NaN\n",
       "4                                              NaN\n",
       "5                                              NaN\n",
       "6           ['真心','好','惊喜','惊喜','合理','还','真心','赞']\n",
       "7                                              NaN\n",
       "8    ['非常','满意','认真','负责','诚恳','合理','很','精致','希望']\n",
       "9                                              NaN\n",
       "Name: commentsKeyWords, dtype: object"
      ]
     },
     "execution_count": 6,
     "metadata": {},
     "output_type": "execute_result"
    }
   ],
   "source": [
    "comment.commentsKeyWords.head(10)"
   ]
  },
  {
   "cell_type": "code",
   "execution_count": 7,
   "metadata": {
    "collapsed": true
   },
   "outputs": [],
   "source": [
    "def time_help(x):\n",
    "    timeArray=time.localtime(x)\n",
    "    return time.strftime(\"%Y-%m-%d %H:%M:%S\",timeArray)\n",
    "\n",
    "ac.actionTime=pd.to_datetime(ac.actionTime.apply(lambda x:time_help(x)),format='%Y-%m-%d %H:%M:%S')\n",
    "order_his.orderTime = pd.to_datetime(order_his.orderTime.apply(lambda x:time_help(x)), format='%Y-%m-%d %H:%M:%S')\n",
    "ac_test.actionTime = pd.to_datetime(ac_test.actionTime.apply(lambda x:time_help(x)), format='%Y-%m-%d %H:%M:%S')\n",
    "order_his_test.orderTime = pd.to_datetime(order_his_test.orderTime.apply(lambda x:time_help(x)), format='%Y-%m-%d %H:%M:%S')\n"
   ]
  },
  {
   "cell_type": "code",
   "execution_count": 8,
   "metadata": {},
   "outputs": [
    {
     "data": {
      "text/html": [
       "<div>\n",
       "<style>\n",
       "    .dataframe thead tr:only-child th {\n",
       "        text-align: right;\n",
       "    }\n",
       "\n",
       "    .dataframe thead th {\n",
       "        text-align: left;\n",
       "    }\n",
       "\n",
       "    .dataframe tbody tr th {\n",
       "        vertical-align: top;\n",
       "    }\n",
       "</style>\n",
       "<table border=\"1\" class=\"dataframe\">\n",
       "  <thead>\n",
       "    <tr style=\"text-align: right;\">\n",
       "      <th></th>\n",
       "      <th>userid</th>\n",
       "      <th>actionType</th>\n",
       "      <th>actionTime</th>\n",
       "    </tr>\n",
       "  </thead>\n",
       "  <tbody>\n",
       "    <tr>\n",
       "      <th>0</th>\n",
       "      <td>100000000371</td>\n",
       "      <td>1</td>\n",
       "      <td>2017-08-23 05:36:09</td>\n",
       "    </tr>\n",
       "    <tr>\n",
       "      <th>1</th>\n",
       "      <td>100000000371</td>\n",
       "      <td>5</td>\n",
       "      <td>2017-08-23 05:36:25</td>\n",
       "    </tr>\n",
       "    <tr>\n",
       "      <th>2</th>\n",
       "      <td>100000000371</td>\n",
       "      <td>5</td>\n",
       "      <td>2017-08-23 06:51:10</td>\n",
       "    </tr>\n",
       "    <tr>\n",
       "      <th>3</th>\n",
       "      <td>100000000371</td>\n",
       "      <td>5</td>\n",
       "      <td>2017-08-23 06:54:29</td>\n",
       "    </tr>\n",
       "    <tr>\n",
       "      <th>4</th>\n",
       "      <td>100000000371</td>\n",
       "      <td>5</td>\n",
       "      <td>2017-08-23 07:07:47</td>\n",
       "    </tr>\n",
       "  </tbody>\n",
       "</table>\n",
       "</div>"
      ],
      "text/plain": [
       "         userid  actionType          actionTime\n",
       "0  100000000371           1 2017-08-23 05:36:09\n",
       "1  100000000371           5 2017-08-23 05:36:25\n",
       "2  100000000371           5 2017-08-23 06:51:10\n",
       "3  100000000371           5 2017-08-23 06:54:29\n",
       "4  100000000371           5 2017-08-23 07:07:47"
      ]
     },
     "execution_count": 8,
     "metadata": {},
     "output_type": "execute_result"
    }
   ],
   "source": [
    "ac.head()\n",
    "order_his.head()\n",
    "ac_test.head()\n",
    "\n"
   ]
  },
  {
   "cell_type": "code",
   "execution_count": 9,
   "metadata": {},
   "outputs": [],
   "source": [
    "ac['day']=ac.actionTime.apply(lambda x:x.day)\n",
    "ac_test['day']=ac.actionTime.apply(lambda x:x.day)\n"
   ]
  },
  {
   "cell_type": "code",
   "execution_count": 10,
   "metadata": {},
   "outputs": [
    {
     "data": {
      "text/html": [
       "<div>\n",
       "<style>\n",
       "    .dataframe thead tr:only-child th {\n",
       "        text-align: right;\n",
       "    }\n",
       "\n",
       "    .dataframe thead th {\n",
       "        text-align: left;\n",
       "    }\n",
       "\n",
       "    .dataframe tbody tr th {\n",
       "        vertical-align: top;\n",
       "    }\n",
       "</style>\n",
       "<table border=\"1\" class=\"dataframe\">\n",
       "  <thead>\n",
       "    <tr style=\"text-align: right;\">\n",
       "      <th></th>\n",
       "      <th>userid</th>\n",
       "      <th>actionType</th>\n",
       "      <th>actionTime</th>\n",
       "      <th>day</th>\n",
       "    </tr>\n",
       "  </thead>\n",
       "  <tbody>\n",
       "    <tr>\n",
       "      <th>0</th>\n",
       "      <td>100000000013</td>\n",
       "      <td>1</td>\n",
       "      <td>2016-09-19 23:59:13</td>\n",
       "      <td>19</td>\n",
       "    </tr>\n",
       "    <tr>\n",
       "      <th>1</th>\n",
       "      <td>100000000013</td>\n",
       "      <td>5</td>\n",
       "      <td>2016-09-19 23:59:23</td>\n",
       "      <td>19</td>\n",
       "    </tr>\n",
       "    <tr>\n",
       "      <th>2</th>\n",
       "      <td>100000000013</td>\n",
       "      <td>6</td>\n",
       "      <td>2016-09-20 00:01:14</td>\n",
       "      <td>20</td>\n",
       "    </tr>\n",
       "    <tr>\n",
       "      <th>3</th>\n",
       "      <td>100000000013</td>\n",
       "      <td>5</td>\n",
       "      <td>2016-09-20 00:01:51</td>\n",
       "      <td>20</td>\n",
       "    </tr>\n",
       "    <tr>\n",
       "      <th>4</th>\n",
       "      <td>100000000013</td>\n",
       "      <td>6</td>\n",
       "      <td>2016-09-20 00:02:16</td>\n",
       "      <td>20</td>\n",
       "    </tr>\n",
       "  </tbody>\n",
       "</table>\n",
       "</div>"
      ],
      "text/plain": [
       "         userid  actionType          actionTime  day\n",
       "0  100000000013           1 2016-09-19 23:59:13   19\n",
       "1  100000000013           5 2016-09-19 23:59:23   19\n",
       "2  100000000013           6 2016-09-20 00:01:14   20\n",
       "3  100000000013           5 2016-09-20 00:01:51   20\n",
       "4  100000000013           6 2016-09-20 00:02:16   20"
      ]
     },
     "execution_count": 10,
     "metadata": {},
     "output_type": "execute_result"
    }
   ],
   "source": [
    "ac.head()"
   ]
  },
  {
   "cell_type": "code",
   "execution_count": 15,
   "metadata": {},
   "outputs": [],
   "source": [
    "def orderHistory_feat(df):\n",
    "    grouped=df[['userid','orderType']].groupby('userid',as_index=False)\n",
    "    df_count=grouped.count()\n",
    "    df_count.rename(columns={'orderType':'df_count'},inplace=True)\n",
    "    df_sum=grouped.sum()\n",
    "    \n",
    "    df_sum.rename(columns={'orderType':'df_sum'},inplace=True)\n",
    "    df_merge=pd.merge(df_count,df_sum,on='userid',how='left')\n",
    "    df_merge['rate']=df_merge['df_sum']/df_merge['df_count']\n",
    "    del df_merge['df_count']\n",
    "    df_merge.rename(columns={'df_sum':'orderHistory_feat_sum','rate':'orderHistory_feat_rate'},inplace=True)\n",
    "    del df_merge['orderHistory_feat_rate']\n",
    "    return df_merge\n",
    "    "
   ]
  },
  {
   "cell_type": "code",
   "execution_count": 25,
   "metadata": {},
   "outputs": [
    {
     "data": {
      "text/html": [
       "<div>\n",
       "<style>\n",
       "    .dataframe thead tr:only-child th {\n",
       "        text-align: right;\n",
       "    }\n",
       "\n",
       "    .dataframe thead th {\n",
       "        text-align: left;\n",
       "    }\n",
       "\n",
       "    .dataframe tbody tr th {\n",
       "        vertical-align: top;\n",
       "    }\n",
       "</style>\n",
       "<table border=\"1\" class=\"dataframe\">\n",
       "  <thead>\n",
       "    <tr style=\"text-align: right;\">\n",
       "      <th></th>\n",
       "      <th>userid</th>\n",
       "      <th>orderHistory_feat_sum</th>\n",
       "    </tr>\n",
       "  </thead>\n",
       "  <tbody>\n",
       "    <tr>\n",
       "      <th>0</th>\n",
       "      <td>100000000013</td>\n",
       "      <td>0</td>\n",
       "    </tr>\n",
       "    <tr>\n",
       "      <th>1</th>\n",
       "      <td>100000000393</td>\n",
       "      <td>0</td>\n",
       "    </tr>\n",
       "    <tr>\n",
       "      <th>2</th>\n",
       "      <td>100000000459</td>\n",
       "      <td>0</td>\n",
       "    </tr>\n",
       "    <tr>\n",
       "      <th>3</th>\n",
       "      <td>100000000637</td>\n",
       "      <td>0</td>\n",
       "    </tr>\n",
       "    <tr>\n",
       "      <th>4</th>\n",
       "      <td>100000000695</td>\n",
       "      <td>0</td>\n",
       "    </tr>\n",
       "  </tbody>\n",
       "</table>\n",
       "</div>"
      ],
      "text/plain": [
       "         userid  orderHistory_feat_sum\n",
       "0  100000000013                      0\n",
       "1  100000000393                      0\n",
       "2  100000000459                      0\n",
       "3  100000000637                      0\n",
       "4  100000000695                      0"
      ]
     },
     "execution_count": 25,
     "metadata": {},
     "output_type": "execute_result"
    }
   ],
   "source": [
    "order_his[['userid','orderType']].groupby('userid',as_index=False).count()\n",
    "orderHistory_feat(order_his).head()"
   ]
  },
  {
   "cell_type": "code",
   "execution_count": 26,
   "metadata": {
    "collapsed": true
   },
   "outputs": [],
   "source": [
    "def get_two(arr):\n",
    "    try:\n",
    "        tem=int(arr.iloc[-2])\n",
    "        return tem\n",
    "    except:\n",
    "        return np.nan\n",
    "\n",
    "def get_tree(arr): \n",
    "    try:\n",
    "        tem=int(arr.iloc[-3])\n",
    "        return tem\n",
    "    except:\n",
    "        return np.nan\n",
    "\n"
   ]
  },
  {
   "cell_type": "code",
   "execution_count": 27,
   "metadata": {
    "collapsed": true
   },
   "outputs": [],
   "source": [
    "def last_action(df):\n",
    "    last_type=df[['userid','actionType']].groupby('userid',as_index=False).agg('last')\n",
    "    last_type=rename(columns={'actionType':'last_type'},inplace=True)\n",
    "    \n",
    "    two_type=df[['userid','actionType']].groupby('userid',as_index=False).agg(get_two)\n",
    "    two_type.rename(columns={'actionType':'two_type'},inplace=True)\n",
    "    \n",
    "    three_type = df[['userid', 'actionType']].groupby('userid', as_index=False).agg(get_three)\n",
    "    three_type.rename(columns={'actionType':'three_type'}, inplace=True)\n",
    "    \n",
    "    last = pd.merge(last_type, two_type, on='userid', how='left')\n",
    "    last = pd.merge(last, three_type, on='userid', how='left')\n",
    "    \n",
    "    return last"
   ]
  },
  {
   "cell_type": "code",
   "execution_count": 52,
   "metadata": {},
   "outputs": [
    {
     "name": "stdout",
     "output_type": "stream",
     "text": [
      "           userid  actionType          actionTime  day\n",
      "143  100000000111           1 2017-03-31 22:43:53   31\n",
      "144  100000000111           5 2017-03-31 22:44:06   31\n",
      "145  100000000111           6 2017-03-31 22:44:39   31\n"
     ]
    },
    {
     "data": {
      "text/plain": [
       "5"
      ]
     },
     "execution_count": 52,
     "metadata": {},
     "output_type": "execute_result"
    }
   ],
   "source": [
    "ac[['userid','actionType']].groupby('userid',as_index=False).agg('last')\n",
    "ac[['userid','actionType']].groupby('userid',as_index=False).agg(get_two)\n",
    "\n",
    "ac.ix[ac.userid==100000000013]\n",
    "\n",
    "print(ac[ac['userid']==100000000111])\n",
    "ac[ac['userid']==100000000111].iloc[-2,1]\n",
    "#int(ac[ac['userid']==100000000111].iloc[-2])"
   ]
  },
  {
   "cell_type": "code",
   "execution_count": 60,
   "metadata": {},
   "outputs": [],
   "source": [
    "from sklearn.preprocessing import LabelEncoder\n",
    "le = LabelEncoder()\n",
    "def last_city(train,test):\n",
    "    city=list(order_his['city'].unique())\n",
    "    city_test=list(order_his_test['city'].unique())\n",
    "    for i in city_test:\n",
    "        if i not in city:\n",
    "            city.append(i)\n",
    "    le.fit(city)\n",
    "    \n",
    "    new = order_his[['userid','city','continent']].drop_duplicates(subset='userid',keep='last')\n",
    "    new['city']=le.transform(new['city'])\n",
    "    \n",
    "    new_test = order_his_test[['userid', 'city', 'continent']].drop_duplicates(subset='userid', keep='last')\n",
    "    new_test['city'] = le.transform(new_test['city']) \n",
    "    \n",
    "    new['continent'] = le.fit_transform(new['continent'])\n",
    "    new_test['continent'] = le.transform(new_test['continent'])\n",
    "    \n",
    "    train = pd.merge(train, new, on='userid', how='left')\n",
    "    test = pd.merge(test, new_test, on='userid', how='left')\n",
    "    return train, test\n",
    "        \n",
    "        "
   ]
  },
  {
   "cell_type": "code",
   "execution_count": 66,
   "metadata": {},
   "outputs": [
    {
     "data": {
      "text/plain": [
       "array([123, 116,  89, ..., 189,   2,   2], dtype=int64)"
      ]
     },
     "execution_count": 66,
     "metadata": {},
     "output_type": "execute_result"
    }
   ],
   "source": [
    "city=list(order_his['city'].unique())\n",
    "city_test=list(order_his_test['city'].unique())\n",
    "for i in city_test:\n",
    "    if i not in city:\n",
    "        city.append(i)\n",
    "le.fit(city)\n",
    "le.classes_\n",
    "le.transform(order_his['city'])"
   ]
  },
  {
   "cell_type": "code",
   "execution_count": 67,
   "metadata": {},
   "outputs": [
    {
     "ename": "NameError",
     "evalue": "name 'actions' is not defined",
     "output_type": "error",
     "traceback": [
      "\u001b[1;31m---------------------------------------------------------------------------\u001b[0m",
      "\u001b[1;31mNameError\u001b[0m                                 Traceback (most recent call last)",
      "\u001b[1;32m<ipython-input-67-ebf74f02e277>\u001b[0m in \u001b[0;36m<module>\u001b[1;34m()\u001b[0m\n\u001b[1;32m----> 1\u001b[1;33m \u001b[0mactions\u001b[0m\u001b[1;33m,\u001b[0m \u001b[0mactions_test\u001b[0m \u001b[1;33m=\u001b[0m \u001b[0mlast_city\u001b[0m\u001b[1;33m(\u001b[0m\u001b[0mactions\u001b[0m\u001b[1;33m,\u001b[0m \u001b[0mactions_test\u001b[0m\u001b[1;33m)\u001b[0m\u001b[1;33m\u001b[0m\u001b[0m\n\u001b[0m\u001b[0;32m      2\u001b[0m \u001b[0mactions\u001b[0m\u001b[1;33m.\u001b[0m\u001b[0mhead\u001b[0m\u001b[1;33m(\u001b[0m\u001b[1;33m)\u001b[0m\u001b[1;33m\u001b[0m\u001b[0m\n",
      "\u001b[1;31mNameError\u001b[0m: name 'actions' is not defined"
     ]
    }
   ],
   "source": [
    "def profile_me(train,test):\n",
    "    for i in ['province','gender','age']:\n",
    "        train[i]=train[i].fac"
   ]
  }
 ],
 "metadata": {
  "kernelspec": {
   "display_name": "Python 3",
   "language": "python",
   "name": "python3"
  },
  "language_info": {
   "codemirror_mode": {
    "name": "ipython",
    "version": 3
   },
   "file_extension": ".py",
   "mimetype": "text/x-python",
   "name": "python",
   "nbconvert_exporter": "python",
   "pygments_lexer": "ipython3",
   "version": "3.6.3"
  }
 },
 "nbformat": 4,
 "nbformat_minor": 2
}
