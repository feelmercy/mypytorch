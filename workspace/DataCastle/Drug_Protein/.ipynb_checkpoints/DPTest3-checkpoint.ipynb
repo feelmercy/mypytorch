{
 "cells": [
  {
   "cell_type": "code",
   "execution_count": 3,
   "metadata": {
    "collapsed": true
   },
   "outputs": [],
   "source": [
    "import numpy as np\n",
    "import pandas as pd\n",
    "import sys\n",
    "import re\n",
    "import lightgbm as lgb"
   ]
  },
  {
   "cell_type": "code",
   "execution_count": 4,
   "metadata": {
    "collapsed": true
   },
   "outputs": [],
   "source": [
    "data_path='F:\\\\study\\\\ml\\\\DataSet\\\\Drug_Molecule\\\\'\n",
    "df_protein_train=pd.read_csv('%sdf_protein_train.csv' % (data_path))\n",
    "df_protein_test=pd.read_csv('%sdf_protein_test.csv' % (data_path))\n",
    "df_molecule=pd.read_csv('%sdf_molecule.csv'% (data_path))\n",
    "df_affinity_train=pd.read_csv('%sdf_affinity_train.csv'% (data_path))\n",
    "df_affinity_test=pd.read_csv('%sdf_affinity_test.csv'% (data_path))"
   ]
  },
  {
   "cell_type": "code",
   "execution_count": 5,
   "metadata": {
    "collapsed": true
   },
   "outputs": [],
   "source": [
    "df_affinity_test['Ki']=-11\n",
    "data=pd.concat([df_affinity_train,df_affinity_test])"
   ]
  },
  {
   "cell_type": "code",
   "execution_count": 6,
   "metadata": {
    "collapsed": true
   },
   "outputs": [],
   "source": [
    "protein_concat = pd.concat([df_protein_train,df_protein_test])"
   ]
  },
  {
   "cell_type": "code",
   "execution_count": null,
   "metadata": {
    "collapsed": true
   },
   "outputs": [],
   "source": []
  }
 ],
 "metadata": {
  "kernelspec": {
   "display_name": "Python 3",
   "language": "python",
   "name": "python3"
  },
  "language_info": {
   "codemirror_mode": {
    "name": "ipython",
    "version": 3
   },
   "file_extension": ".py",
   "mimetype": "text/x-python",
   "name": "python",
   "nbconvert_exporter": "python",
   "pygments_lexer": "ipython3",
   "version": "3.6.3"
  }
 },
 "nbformat": 4,
 "nbformat_minor": 2
}
