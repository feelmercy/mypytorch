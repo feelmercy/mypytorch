{
 "cells": [
  {
   "cell_type": "code",
   "execution_count": 1,
   "metadata": {
    "ExecuteTime": {
     "end_time": "2018-12-19T07:31:49.403253Z",
     "start_time": "2018-12-19T07:31:09.080748Z"
    }
   },
   "outputs": [],
   "source": [
    "import pandas as pd,numpy as np\n",
    "from sklearn.metrics import auc\n",
    "pd.set_option('max_columns',30) "
   ]
  },
  {
   "cell_type": "code",
   "execution_count": 4,
   "metadata": {
    "ExecuteTime": {
     "end_time": "2018-12-19T07:32:08.866084Z",
     "start_time": "2018-12-19T07:32:04.049550Z"
    }
   },
   "outputs": [],
   "source": [
    "df_op11=pd.read_csv('F:\\study\\\\ml\\\\DataSet\\\\TianChengJinRong\\\\operation_TRAIN.csv')\n",
    "df_tr11=pd.read_csv('F:\\study\\\\ml\\\\DataSet\\\\TianChengJinRong\\\\transaction_TRAIN.csv')\n",
    "#df_tag1=pd.read_csv('F:\\study\\\\ml\\\\DataSet\\\\TianChengJinRong\\\\tag_TRAIN.csv')\n",
    "df_op12=pd.read_csv('F:\\study\\\\ml\\\\DataSet\\\\TianChengJinRong\\\\operation_round1.csv')\n",
    "df_tr12=pd.read_csv('F:\\study\\\\ml\\\\DataSet\\\\TianChengJinRong\\\\transaction_round1.csv')"
   ]
  },
  {
   "cell_type": "code",
   "execution_count": 5,
   "metadata": {
    "ExecuteTime": {
     "end_time": "2018-12-19T07:32:40.133011Z",
     "start_time": "2018-12-19T07:32:40.106411Z"
    }
   },
   "outputs": [
    {
     "data": {
      "text/plain": [
       "(545633, 20)"
      ]
     },
     "execution_count": 5,
     "metadata": {},
     "output_type": "execute_result"
    }
   ],
   "source": [
    "df_op12.shape"
   ]
  },
  {
   "cell_type": "code",
   "execution_count": 6,
   "metadata": {
    "ExecuteTime": {
     "end_time": "2018-12-19T07:32:41.746866Z",
     "start_time": "2018-12-19T07:32:41.731266Z"
    }
   },
   "outputs": [
    {
     "data": {
      "text/plain": [
       "(100224, 27)"
      ]
     },
     "execution_count": 6,
     "metadata": {},
     "output_type": "execute_result"
    }
   ],
   "source": [
    "df_tr12.shape"
   ]
  },
  {
   "cell_type": "code",
   "execution_count": 7,
   "metadata": {
    "ExecuteTime": {
     "end_time": "2018-12-19T07:32:42.344297Z",
     "start_time": "2018-12-19T07:32:42.288695Z"
    }
   },
   "outputs": [
    {
     "data": {
      "text/plain": [
       "10128"
      ]
     },
     "execution_count": 7,
     "metadata": {},
     "output_type": "execute_result"
    }
   ],
   "source": [
    "len(df_op12['UID'].unique())"
   ]
  },
  {
   "cell_type": "code",
   "execution_count": 8,
   "metadata": {
    "ExecuteTime": {
     "end_time": "2018-12-19T07:32:43.042324Z",
     "start_time": "2018-12-19T07:32:43.011124Z"
    }
   },
   "outputs": [
    {
     "data": {
      "text/plain": [
       "13115"
      ]
     },
     "execution_count": 8,
     "metadata": {},
     "output_type": "execute_result"
    }
   ],
   "source": [
    "len(df_tr12['UID'].unique())"
   ]
  },
  {
   "cell_type": "code",
   "execution_count": 9,
   "metadata": {
    "ExecuteTime": {
     "end_time": "2018-12-19T07:33:01.039948Z",
     "start_time": "2018-12-19T07:32:48.583037Z"
    }
   },
   "outputs": [
    {
     "name": "stderr",
     "output_type": "stream",
     "text": [
      "D:\\ProgramData\\Anaconda3\\lib\\site-packages\\IPython\\core\\interactiveshell.py:2728: DtypeWarning: Columns (8) have mixed types. Specify dtype option on import or set low_memory=False.\n",
      "  interactivity=interactivity, compiler=compiler, result=result)\n"
     ]
    }
   ],
   "source": [
    "df_op111=pd.read_csv('F:\\\\study\\\\ml\\\\DataSet\\\\TianChengJinRong\\\\round1-new\\\\operation_train_new.csv')\n",
    "df_tr111=pd.read_csv('F:\\\\study\\\\ml\\\\DataSet\\\\TianChengJinRong\\\\round1-new\\\\transaction_train_new.csv')\n",
    "df_tag11=pd.read_csv('F:\\\\study\\\\ml\\\\DataSet\\\\TianChengJinRong\\\\round1-new\\\\tag_train_new.csv')\n",
    "df_op121=pd.read_csv('F:\\\\study\\\\ml\\\\DataSet\\\\TianChengJinRong\\\\round1-new\\\\operation_round1_new.csv')\n",
    "df_tr121=pd.read_csv('F:\\\\study\\\\ml\\\\DataSet\\\\TianChengJinRong\\\\round1-new\\\\transaction_round1_new.csv')"
   ]
  },
  {
   "cell_type": "code",
   "execution_count": 12,
   "metadata": {
    "ExecuteTime": {
     "end_time": "2018-12-19T07:33:37.845019Z",
     "start_time": "2018-12-19T07:33:37.824419Z"
    }
   },
   "outputs": [
    {
     "name": "stdout",
     "output_type": "stream",
     "text": [
      "(1460843, 20)\n",
      "(264654, 27)\n",
      "(31179, 2)\n",
      "(1769049, 20)\n",
      "(168981, 27)\n"
     ]
    }
   ],
   "source": [
    "print(df_op111.shape)\n",
    "print(df_tr111.shape)\n",
    "print(df_tag11.shape)\n",
    "print(df_op121.shape)\n",
    "print(df_tr121.shape)"
   ]
  },
  {
   "cell_type": "code",
   "execution_count": null,
   "metadata": {},
   "outputs": [],
   "source": []
  }
 ],
 "metadata": {
  "kernelspec": {
   "display_name": "Python 3",
   "language": "python",
   "name": "python3"
  },
  "language_info": {
   "codemirror_mode": {
    "name": "ipython",
    "version": 3
   },
   "file_extension": ".py",
   "mimetype": "text/x-python",
   "name": "python",
   "nbconvert_exporter": "python",
   "pygments_lexer": "ipython3",
   "version": "3.6.3"
  }
 },
 "nbformat": 4,
 "nbformat_minor": 2
}
