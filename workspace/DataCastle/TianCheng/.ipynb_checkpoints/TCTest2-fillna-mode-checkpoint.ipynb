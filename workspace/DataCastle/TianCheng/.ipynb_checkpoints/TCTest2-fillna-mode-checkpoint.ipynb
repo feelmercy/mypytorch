{
 "cells": [
  {
   "cell_type": "code",
   "execution_count": null,
   "metadata": {
    "ExecuteTime": {
     "end_time": "2019-01-10T09:13:21.175420Z",
     "start_time": "2019-01-10T09:13:21.172420Z"
    }
   },
   "outputs": [],
   "source": [
    "import pandas as pd,numpy as np\n",
    "from sklearn.metrics import auc"
   ]
  },
  {
   "cell_type": "code",
   "execution_count": null,
   "metadata": {
    "ExecuteTime": {
     "end_time": "2019-01-10T09:13:21.185421Z",
     "start_time": "2019-01-10T09:13:21.180420Z"
    }
   },
   "outputs": [],
   "source": [
    "pd.set_option('max_columns',30) "
   ]
  },
  {
   "cell_type": "code",
   "execution_count": null,
   "metadata": {
    "ExecuteTime": {
     "end_time": "2019-01-10T09:13:23.731566Z",
     "start_time": "2019-01-10T09:13:21.191421Z"
    }
   },
   "outputs": [],
   "source": [
    "df_op1=pd.read_csv('F:\\study\\\\ml\\\\DataSet\\\\TianChengJinRong\\\\operation_TRAIN.csv')\n",
    "df_tr1=pd.read_csv('F:\\study\\\\ml\\\\DataSet\\\\TianChengJinRong\\\\transaction_TRAIN.csv')\n",
    "df_tag1=pd.read_csv('F:\\study\\\\ml\\\\DataSet\\\\TianChengJinRong\\\\tag_TRAIN.csv')"
   ]
  },
  {
   "cell_type": "code",
   "execution_count": null,
   "metadata": {
    "ExecuteTime": {
     "end_time": "2019-01-10T09:13:25.079643Z",
     "start_time": "2019-01-10T09:13:23.732566Z"
    }
   },
   "outputs": [],
   "source": [
    "df_op1=df_op1.drop_duplicates()\n",
    "df_tr1=df_tr1.drop_duplicates()\n",
    "df_tag1=df_tag1.drop_duplicates()"
   ]
  },
  {
   "cell_type": "code",
   "execution_count": null,
   "metadata": {
    "ExecuteTime": {
     "end_time": "2019-01-10T09:13:29.580901Z",
     "start_time": "2019-01-10T09:13:25.080643Z"
    }
   },
   "outputs": [],
   "source": [
    "df_op=df_op1.groupby('UID').transform(lambda x:x.fillna( x.mode()[0] if x.mode().shape[0] > 0 else 'None'))"
   ]
  },
  {
   "cell_type": "code",
   "execution_count": null,
   "metadata": {
    "ExecuteTime": {
     "end_time": "2019-01-10T09:13:29.581901Z",
     "start_time": "2019-01-10T09:13:21.209Z"
    }
   },
   "outputs": [],
   "source": [
    "df_tr=df_tr1.groupby('UID').transform(lambda x:x.fillna( x.mode()[0] if x.mode().shape[0] > 0 else 'None'))"
   ]
  },
  {
   "cell_type": "code",
   "execution_count": null,
   "metadata": {
    "ExecuteTime": {
     "end_time": "2019-01-10T09:13:29.582901Z",
     "start_time": "2019-01-10T09:13:21.216Z"
    }
   },
   "outputs": [],
   "source": [
    "df_op=pd.concat([df_op1['UID'],df_op],axis=1)"
   ]
  },
  {
   "cell_type": "code",
   "execution_count": null,
   "metadata": {
    "ExecuteTime": {
     "end_time": "2019-01-10T09:13:29.582901Z",
     "start_time": "2019-01-10T09:13:21.224Z"
    }
   },
   "outputs": [],
   "source": [
    "df_op1.head()"
   ]
  },
  {
   "cell_type": "code",
   "execution_count": null,
   "metadata": {
    "ExecuteTime": {
     "end_time": "2019-01-10T09:13:29.583901Z",
     "start_time": "2019-01-10T09:13:21.229Z"
    }
   },
   "outputs": [],
   "source": [
    "df_tr=pd.concat([df_tr1['UID'],df_tr],axis=1)"
   ]
  },
  {
   "cell_type": "code",
   "execution_count": null,
   "metadata": {
    "ExecuteTime": {
     "end_time": "2019-01-10T09:13:29.584901Z",
     "start_time": "2019-01-10T09:13:21.236Z"
    }
   },
   "outputs": [],
   "source": [
    "df_op[df_op['UID']==10006]['device_code1']"
   ]
  },
  {
   "cell_type": "code",
   "execution_count": null,
   "metadata": {
    "ExecuteTime": {
     "end_time": "2019-01-10T09:13:29.585901Z",
     "start_time": "2019-01-10T09:13:21.243Z"
    }
   },
   "outputs": [],
   "source": [
    "df_op1[df_op1['UID']==10006]['device_code1']"
   ]
  },
  {
   "cell_type": "code",
   "execution_count": null,
   "metadata": {
    "ExecuteTime": {
     "end_time": "2019-01-10T09:13:29.585901Z",
     "start_time": "2019-01-10T09:13:21.250Z"
    }
   },
   "outputs": [],
   "source": [
    "a=df_op[['UID','day']].groupby('UID').sum().index\n",
    "b=df_tr[['UID','day']].groupby('UID').sum().index"
   ]
  },
  {
   "cell_type": "code",
   "execution_count": null,
   "metadata": {
    "ExecuteTime": {
     "end_time": "2019-01-10T09:13:29.586901Z",
     "start_time": "2019-01-10T09:13:21.258Z"
    }
   },
   "outputs": [],
   "source": [
    "data_train=pd.DataFrame()\n",
    "data_train['UID']=np.array(a | b)"
   ]
  },
  {
   "cell_type": "code",
   "execution_count": null,
   "metadata": {
    "ExecuteTime": {
     "end_time": "2019-01-10T09:13:29.588901Z",
     "start_time": "2019-01-10T09:13:21.264Z"
    }
   },
   "outputs": [],
   "source": [
    "data_train['op_count']=0\n",
    "data_train.loc[data_train['UID'].isin(df_op[['UID','day']].groupby('UID').sum().index),['op_count']]=\\\n",
    "df_op[['UID','day']].groupby('UID').count().values"
   ]
  },
  {
   "cell_type": "code",
   "execution_count": null,
   "metadata": {
    "ExecuteTime": {
     "end_time": "2019-01-10T09:13:29.589901Z",
     "start_time": "2019-01-10T09:13:21.270Z"
    }
   },
   "outputs": [],
   "source": [
    "data_train['tr_count']=0\n",
    "data_train.loc[data_train['UID'].isin(df_tr[['UID','day']].groupby('UID').sum().index),['tr_count']]=\\\n",
    "df_tr[['UID','day']].groupby('UID').count().values"
   ]
  },
  {
   "cell_type": "code",
   "execution_count": null,
   "metadata": {
    "ExecuteTime": {
     "end_time": "2019-01-10T09:13:29.589901Z",
     "start_time": "2019-01-10T09:13:21.280Z"
    }
   },
   "outputs": [],
   "source": [
    "op_days=pd.DataFrame()\n",
    "op_days['UID']=df_op['UID']\n",
    "op_days=pd.concat([op_days,pd.get_dummies(df_op['day'],prefix='op_day')],axis=1)\n",
    "op_days_sum=op_days.groupby(by='UID').sum()"
   ]
  },
  {
   "cell_type": "code",
   "execution_count": null,
   "metadata": {
    "ExecuteTime": {
     "end_time": "2019-01-10T09:13:29.590901Z",
     "start_time": "2019-01-10T09:13:21.287Z"
    }
   },
   "outputs": [],
   "source": [
    "tr_days=pd.DataFrame()\n",
    "tr_days['UID']=df_tr['UID']\n",
    "tr_days=pd.concat([tr_days,pd.get_dummies(df_tr['day'],prefix='tr_day')],axis=1)\n",
    "tr_days_sum=tr_days.groupby(by='UID').sum()"
   ]
  },
  {
   "cell_type": "code",
   "execution_count": null,
   "metadata": {
    "ExecuteTime": {
     "end_time": "2019-01-10T09:13:29.591901Z",
     "start_time": "2019-01-10T09:13:21.294Z"
    }
   },
   "outputs": [],
   "source": [
    "data_train1=data_train"
   ]
  },
  {
   "cell_type": "code",
   "execution_count": null,
   "metadata": {
    "ExecuteTime": {
     "end_time": "2019-01-10T09:13:29.591901Z",
     "start_time": "2019-01-10T09:13:21.300Z"
    }
   },
   "outputs": [],
   "source": [
    "data_train1=pd.merge(data_train1,op_days_sum,how='left',on='UID')"
   ]
  },
  {
   "cell_type": "code",
   "execution_count": null,
   "metadata": {
    "ExecuteTime": {
     "end_time": "2019-01-10T09:13:29.592901Z",
     "start_time": "2019-01-10T09:13:21.311Z"
    }
   },
   "outputs": [],
   "source": [
    "data_train1.head()"
   ]
  },
  {
   "cell_type": "code",
   "execution_count": null,
   "metadata": {
    "ExecuteTime": {
     "end_time": "2019-01-10T09:13:29.593901Z",
     "start_time": "2019-01-10T09:13:21.318Z"
    }
   },
   "outputs": [],
   "source": [
    "from sklearn.preprocessing import LabelEncoder\n",
    "le=LabelEncoder()"
   ]
  },
  {
   "cell_type": "code",
   "execution_count": null,
   "metadata": {
    "ExecuteTime": {
     "end_time": "2019-01-10T09:13:29.593901Z",
     "start_time": "2019-01-10T09:13:21.325Z"
    }
   },
   "outputs": [],
   "source": [
    "def op_object(train):\n",
    "    for i in ['mode','os','version','']:\n",
    "        train[i]=train[i].factorize()[0]\n",
    "#         test[i]=test[i].factorize()[0]\n",
    "        train[i]=le.fit_transform(train[i])\n",
    "#         test[i]=le.fit_transform(test[i]) \n",
    "    return train\n"
   ]
  },
  {
   "cell_type": "code",
   "execution_count": null,
   "metadata": {
    "ExecuteTime": {
     "end_time": "2019-01-10T09:13:29.594902Z",
     "start_time": "2019-01-10T09:13:21.332Z"
    }
   },
   "outputs": [],
   "source": [
    "op_col2=[i for i in df_op.columns.values ]\n",
    "op_col2.remove('time')\n",
    "op_col2.remove('day')\n",
    "op_col2.remove('UID')\n",
    "op_col2"
   ]
  },
  {
   "cell_type": "code",
   "execution_count": null,
   "metadata": {
    "ExecuteTime": {
     "end_time": "2019-01-10T09:13:29.595902Z",
     "start_time": "2019-01-10T09:13:21.338Z"
    }
   },
   "outputs": [],
   "source": [
    "def fun_ob2le(train,names):\n",
    "    for i in names:\n",
    "        train[i]=pd.factorize(train[i])[0]\n",
    "        train[i]=le.fit_transform(train[i])\n",
    "    return train"
   ]
  },
  {
   "cell_type": "code",
   "execution_count": null,
   "metadata": {
    "ExecuteTime": {
     "end_time": "2019-01-10T09:13:29.595902Z",
     "start_time": "2019-01-10T09:13:21.345Z"
    }
   },
   "outputs": [],
   "source": [
    "df_op1=df_op\n",
    "df_op1=fun_ob2le(df_op1,op_col2)\n",
    "df_op1.head()"
   ]
  },
  {
   "cell_type": "code",
   "execution_count": null,
   "metadata": {
    "ExecuteTime": {
     "end_time": "2019-01-10T09:13:29.596902Z",
     "start_time": "2019-01-10T09:13:21.351Z"
    }
   },
   "outputs": [],
   "source": [
    "df_op1[df_op1['UID']==10006]['device_code1']"
   ]
  },
  {
   "cell_type": "code",
   "execution_count": null,
   "metadata": {
    "ExecuteTime": {
     "end_time": "2019-01-10T09:13:29.596902Z",
     "start_time": "2019-01-10T09:13:21.359Z"
    }
   },
   "outputs": [],
   "source": [
    "df_op2=pd.DataFrame()\n",
    "df_op2=df_op['UID']\n",
    "for i in ['success','os','version','mode']:\n",
    "    df_op2=pd.concat([df_op2,pd.get_dummies(df_op1[i],prefix=i)],axis=1)   \n",
    "df_op2.head()"
   ]
  },
  {
   "cell_type": "code",
   "execution_count": null,
   "metadata": {
    "ExecuteTime": {
     "end_time": "2019-01-10T09:13:29.597902Z",
     "start_time": "2019-01-10T09:13:21.365Z"
    }
   },
   "outputs": [],
   "source": [
    "df_op3=df_op2.groupby('UID',as_index=False).sum()"
   ]
  },
  {
   "cell_type": "code",
   "execution_count": null,
   "metadata": {
    "ExecuteTime": {
     "end_time": "2019-01-10T09:13:29.597902Z",
     "start_time": "2019-01-10T09:13:21.372Z"
    }
   },
   "outputs": [],
   "source": [
    "df_op3.head()"
   ]
  },
  {
   "cell_type": "code",
   "execution_count": null,
   "metadata": {
    "ExecuteTime": {
     "end_time": "2019-01-10T09:13:29.598902Z",
     "start_time": "2019-01-10T09:13:21.385Z"
    }
   },
   "outputs": [],
   "source": [
    "df_op1.groupby('UID').agg('nunique')"
   ]
  },
  {
   "cell_type": "code",
   "execution_count": null,
   "metadata": {
    "ExecuteTime": {
     "end_time": "2019-01-10T09:13:29.599902Z",
     "start_time": "2019-01-10T09:13:21.391Z"
    }
   },
   "outputs": [],
   "source": [
    "df_op1[['UID','device_code1']].groupby('UID').agg('max')['device_code1'].apply(lambda x:0 if x==0 else 1)"
   ]
  },
  {
   "cell_type": "code",
   "execution_count": null,
   "metadata": {
    "ExecuteTime": {
     "end_time": "2019-01-10T09:13:29.600902Z",
     "start_time": "2019-01-10T09:13:21.396Z"
    }
   },
   "outputs": [],
   "source": [
    "#del df_ios"
   ]
  },
  {
   "cell_type": "code",
   "execution_count": null,
   "metadata": {
    "ExecuteTime": {
     "end_time": "2019-01-10T09:13:29.600902Z",
     "start_time": "2019-01-10T09:13:21.402Z"
    }
   },
   "outputs": [],
   "source": [
    "df_ios=df_op1[['UID','device_code1','device_code3']].groupby('UID',as_index=False).agg('max')"
   ]
  },
  {
   "cell_type": "code",
   "execution_count": null,
   "metadata": {
    "ExecuteTime": {
     "end_time": "2019-01-10T09:13:29.601902Z",
     "start_time": "2019-01-10T09:13:21.409Z"
    }
   },
   "outputs": [],
   "source": [
    "df_ios['device_code1']=df_ios['device_code1'].apply(lambda x: 1 if x>0 else 0)\n",
    "df_ios['device_code3']=df_ios['device_code3'].apply(lambda x: 1 if x>0 else 0)"
   ]
  },
  {
   "cell_type": "code",
   "execution_count": null,
   "metadata": {
    "ExecuteTime": {
     "end_time": "2019-01-10T09:13:29.602902Z",
     "start_time": "2019-01-10T09:13:21.416Z"
    }
   },
   "outputs": [],
   "source": [
    "df_ios.head()"
   ]
  },
  {
   "cell_type": "code",
   "execution_count": null,
   "metadata": {
    "ExecuteTime": {
     "end_time": "2019-01-10T09:13:29.602902Z",
     "start_time": "2019-01-10T09:13:21.422Z"
    }
   },
   "outputs": [],
   "source": [
    "df_ios.rename(columns={'device_code1':'is_android','device_code3':'is_ios'},inplace=True)"
   ]
  },
  {
   "cell_type": "code",
   "execution_count": null,
   "metadata": {
    "ExecuteTime": {
     "end_time": "2019-01-10T09:13:29.603902Z",
     "start_time": "2019-01-10T09:13:21.428Z"
    }
   },
   "outputs": [],
   "source": [
    "data_train1.shape"
   ]
  },
  {
   "cell_type": "code",
   "execution_count": null,
   "metadata": {
    "ExecuteTime": {
     "end_time": "2019-01-10T09:13:29.604902Z",
     "start_time": "2019-01-10T09:13:21.435Z"
    }
   },
   "outputs": [],
   "source": [
    "data_train1.head()"
   ]
  },
  {
   "cell_type": "code",
   "execution_count": null,
   "metadata": {
    "ExecuteTime": {
     "end_time": "2019-01-10T09:13:29.605902Z",
     "start_time": "2019-01-10T09:13:21.441Z"
    }
   },
   "outputs": [],
   "source": [
    "data_train2=pd.merge(data_train1,df_ios,how='left',on='UID')"
   ]
  },
  {
   "cell_type": "code",
   "execution_count": null,
   "metadata": {
    "ExecuteTime": {
     "end_time": "2019-01-10T09:13:29.606902Z",
     "start_time": "2019-01-10T09:13:21.448Z"
    }
   },
   "outputs": [],
   "source": [
    "op1_col=df_op.columns.values.tolist()\n",
    "op1_col1=[op1_col[0]]\n",
    "op1_col1.extend(op1_col[7:9])\n",
    "op1_col1.extend(op1_col[12:])\n",
    "op1_col1\n"
   ]
  },
  {
   "cell_type": "code",
   "execution_count": null,
   "metadata": {
    "ExecuteTime": {
     "end_time": "2019-01-10T09:13:29.607902Z",
     "start_time": "2019-01-10T09:13:21.455Z"
    }
   },
   "outputs": [],
   "source": [
    "df_op1.head()"
   ]
  },
  {
   "cell_type": "code",
   "execution_count": null,
   "metadata": {
    "ExecuteTime": {
     "end_time": "2019-01-10T09:13:29.607902Z",
     "start_time": "2019-01-10T09:13:21.461Z"
    }
   },
   "outputs": [],
   "source": [
    "df_op1[df_op1['UID']==10000].head()"
   ]
  },
  {
   "cell_type": "code",
   "execution_count": null,
   "metadata": {
    "ExecuteTime": {
     "end_time": "2019-01-10T09:13:29.608902Z",
     "start_time": "2019-01-10T09:13:21.476Z"
    }
   },
   "outputs": [],
   "source": [
    "df_op2"
   ]
  },
  {
   "cell_type": "code",
   "execution_count": null,
   "metadata": {
    "ExecuteTime": {
     "end_time": "2019-01-10T09:13:29.608902Z",
     "start_time": "2019-01-10T09:13:21.482Z"
    }
   },
   "outputs": [],
   "source": [
    "op1_col1"
   ]
  },
  {
   "cell_type": "code",
   "execution_count": null,
   "metadata": {
    "ExecuteTime": {
     "end_time": "2019-01-10T09:13:29.609902Z",
     "start_time": "2019-01-10T09:13:21.494Z"
    },
    "scrolled": true
   },
   "outputs": [],
   "source": [
    "df_op.groupby('UID').agg('nunique')"
   ]
  },
  {
   "cell_type": "code",
   "execution_count": null,
   "metadata": {
    "ExecuteTime": {
     "end_time": "2019-01-10T09:13:29.609902Z",
     "start_time": "2019-01-10T09:13:21.504Z"
    }
   },
   "outputs": [],
   "source": [
    "df_op1[op1_col1].groupby(by=['UID']).agg('nunique').iloc[:,1:]"
   ]
  },
  {
   "cell_type": "code",
   "execution_count": null,
   "metadata": {
    "ExecuteTime": {
     "end_time": "2019-01-10T09:13:29.610902Z",
     "start_time": "2019-01-10T09:13:21.513Z"
    }
   },
   "outputs": [],
   "source": [
    "df_op1[op1_col1].groupby(by=['UID']).agg('nunique').iloc[:,1:]"
   ]
  },
  {
   "cell_type": "code",
   "execution_count": null,
   "metadata": {
    "ExecuteTime": {
     "end_time": "2019-01-10T09:13:29.610902Z",
     "start_time": "2019-01-10T09:13:21.519Z"
    }
   },
   "outputs": [],
   "source": [
    "df_op4=df_op1[op1_col1].groupby(by=['UID']).agg('nunique').iloc[:,1:]"
   ]
  },
  {
   "cell_type": "code",
   "execution_count": null,
   "metadata": {
    "ExecuteTime": {
     "end_time": "2019-01-10T09:13:29.611903Z",
     "start_time": "2019-01-10T09:13:21.526Z"
    }
   },
   "outputs": [],
   "source": [
    "df_op4.head()"
   ]
  },
  {
   "cell_type": "code",
   "execution_count": null,
   "metadata": {
    "ExecuteTime": {
     "end_time": "2019-01-10T09:13:29.612903Z",
     "start_time": "2019-01-10T09:13:21.531Z"
    }
   },
   "outputs": [],
   "source": [
    "#########  data_train2,merge df_op3,df_op4,"
   ]
  },
  {
   "cell_type": "code",
   "execution_count": null,
   "metadata": {
    "ExecuteTime": {
     "end_time": "2019-01-10T09:13:29.613903Z",
     "start_time": "2019-01-10T09:13:21.538Z"
    }
   },
   "outputs": [],
   "source": [
    "data_train2.merge(df_op3,how='left',on='UID').head()"
   ]
  },
  {
   "cell_type": "code",
   "execution_count": null,
   "metadata": {
    "ExecuteTime": {
     "end_time": "2019-01-10T09:13:29.613903Z",
     "start_time": "2019-01-10T09:13:21.544Z"
    }
   },
   "outputs": [],
   "source": [
    "data_train2.merge(df_op4,how='left',on='UID').head()"
   ]
  },
  {
   "cell_type": "code",
   "execution_count": null,
   "metadata": {
    "ExecuteTime": {
     "end_time": "2019-01-10T09:13:29.614903Z",
     "start_time": "2019-01-10T09:13:21.551Z"
    }
   },
   "outputs": [],
   "source": [
    "data_train3=data_train2.merge(df_op3,how='left',on='UID',)\n",
    "data_train3=data_train3.merge(df_op4,how='left',on='UID')"
   ]
  },
  {
   "cell_type": "code",
   "execution_count": null,
   "metadata": {
    "ExecuteTime": {
     "end_time": "2019-01-10T09:13:29.614903Z",
     "start_time": "2019-01-10T09:13:21.558Z"
    }
   },
   "outputs": [],
   "source": [
    "data_train3.head()"
   ]
  },
  {
   "cell_type": "code",
   "execution_count": null,
   "metadata": {
    "ExecuteTime": {
     "end_time": "2019-01-10T09:13:29.615903Z",
     "start_time": "2019-01-10T09:13:21.563Z"
    }
   },
   "outputs": [],
   "source": [
    "df_tr.shape"
   ]
  },
  {
   "cell_type": "code",
   "execution_count": null,
   "metadata": {
    "ExecuteTime": {
     "end_time": "2019-01-10T09:13:29.616903Z",
     "start_time": "2019-01-10T09:13:21.571Z"
    }
   },
   "outputs": [],
   "source": [
    "df_tr.head()"
   ]
  },
  {
   "cell_type": "code",
   "execution_count": null,
   "metadata": {
    "ExecuteTime": {
     "end_time": "2019-01-10T09:13:29.616903Z",
     "start_time": "2019-01-10T09:13:21.578Z"
    }
   },
   "outputs": [],
   "source": [
    "df_tr[df_tr['UID']==10001].head()"
   ]
  },
  {
   "cell_type": "code",
   "execution_count": null,
   "metadata": {
    "ExecuteTime": {
     "end_time": "2019-01-10T09:13:29.617903Z",
     "start_time": "2019-01-10T09:13:21.583Z"
    }
   },
   "outputs": [],
   "source": [
    "df_tr1=df_tr\n",
    "# df_tr1_col=df_tr.columns.values.tolist()\n",
    "for i in df_tr.columns.values.tolist():\n",
    "    if 'UID' not in i:\n",
    "        df_tr1.rename(columns={i:'tr_'+i},inplace=True)"
   ]
  },
  {
   "cell_type": "code",
   "execution_count": null,
   "metadata": {
    "ExecuteTime": {
     "end_time": "2019-01-10T09:13:29.618903Z",
     "start_time": "2019-01-10T09:13:21.591Z"
    }
   },
   "outputs": [],
   "source": [
    "df_tr1.head()"
   ]
  },
  {
   "cell_type": "code",
   "execution_count": null,
   "metadata": {
    "ExecuteTime": {
     "end_time": "2019-01-10T09:13:29.619903Z",
     "start_time": "2019-01-10T09:13:21.596Z"
    }
   },
   "outputs": [],
   "source": [
    "# def fun_ob2le(train,names):\n",
    "#     for i in names:\n",
    "#         train[i]=pd.factorize(train[i])[0]\n",
    "#         train[i]=le.fit_transform(train[i])\n",
    "#     return train"
   ]
  },
  {
   "cell_type": "code",
   "execution_count": null,
   "metadata": {
    "ExecuteTime": {
     "end_time": "2019-01-10T09:13:29.619903Z",
     "start_time": "2019-01-10T09:13:21.602Z"
    }
   },
   "outputs": [],
   "source": [
    "df_tr1.columns.values.tolist()"
   ]
  },
  {
   "cell_type": "code",
   "execution_count": null,
   "metadata": {
    "ExecuteTime": {
     "end_time": "2019-01-10T09:13:29.621903Z",
     "start_time": "2019-01-10T09:13:21.608Z"
    }
   },
   "outputs": [],
   "source": [
    "ob2le_name=[]\n",
    "for i in df_tr1.columns.values.tolist():\n",
    "    if  i not in ['UID','tr_day','tr_time','tr_trans_amt','tr_bal']:\n",
    "        ob2le_name.append(i)\n",
    "ob2le_name        "
   ]
  },
  {
   "cell_type": "code",
   "execution_count": null,
   "metadata": {
    "ExecuteTime": {
     "end_time": "2019-01-10T09:13:29.621903Z",
     "start_time": "2019-01-10T09:13:21.614Z"
    }
   },
   "outputs": [],
   "source": [
    "df_tr2=pd.DataFrame()\n",
    "df_tr2['UID']=df_tr1['UID']\n",
    "df_tr2=pd.concat([df_tr2,fun_ob2le(df_tr1[ob2le_name],ob2le_name)],axis=1)"
   ]
  },
  {
   "cell_type": "code",
   "execution_count": null,
   "metadata": {
    "ExecuteTime": {
     "end_time": "2019-01-10T09:13:29.623903Z",
     "start_time": "2019-01-10T09:13:21.621Z"
    }
   },
   "outputs": [],
   "source": [
    "df_tr2.head()"
   ]
  },
  {
   "cell_type": "code",
   "execution_count": null,
   "metadata": {
    "ExecuteTime": {
     "end_time": "2019-01-10T09:13:29.623903Z",
     "start_time": "2019-01-10T09:13:21.627Z"
    }
   },
   "outputs": [],
   "source": [
    "# df_tr3=\n",
    "df_tr3=df_tr2.groupby('UID').agg('nunique').iloc[:,1:]"
   ]
  },
  {
   "cell_type": "code",
   "execution_count": null,
   "metadata": {
    "ExecuteTime": {
     "end_time": "2019-01-10T09:13:29.624903Z",
     "start_time": "2019-01-10T09:13:21.632Z"
    }
   },
   "outputs": [],
   "source": [
    "data_train4=data_train3.merge(df_tr3,how='left',on='UID')"
   ]
  },
  {
   "cell_type": "code",
   "execution_count": null,
   "metadata": {
    "ExecuteTime": {
     "end_time": "2019-01-10T09:13:29.625903Z",
     "start_time": "2019-01-10T09:13:21.639Z"
    }
   },
   "outputs": [],
   "source": [
    "data_train4.head()"
   ]
  },
  {
   "cell_type": "code",
   "execution_count": null,
   "metadata": {
    "ExecuteTime": {
     "end_time": "2019-01-10T09:13:29.625903Z",
     "start_time": "2019-01-10T09:13:21.646Z"
    }
   },
   "outputs": [],
   "source": [
    "df_tr3.head()"
   ]
  },
  {
   "cell_type": "code",
   "execution_count": null,
   "metadata": {
    "ExecuteTime": {
     "end_time": "2019-01-10T09:13:29.626903Z",
     "start_time": "2019-01-10T09:13:21.654Z"
    }
   },
   "outputs": [],
   "source": [
    "df_tr1.head()"
   ]
  },
  {
   "cell_type": "code",
   "execution_count": null,
   "metadata": {
    "ExecuteTime": {
     "end_time": "2019-01-10T09:13:29.626903Z",
     "start_time": "2019-01-10T09:13:21.661Z"
    }
   },
   "outputs": [],
   "source": [
    "df_tr1[['UID','tr_trans_amt','tr_bal']].groupby('UID').agg(['min','max','mean','median']).columns.values"
   ]
  },
  {
   "cell_type": "code",
   "execution_count": null,
   "metadata": {
    "ExecuteTime": {
     "end_time": "2019-01-10T09:13:29.627903Z",
     "start_time": "2019-01-10T09:13:21.667Z"
    }
   },
   "outputs": [],
   "source": [
    "df_tr1[['UID','tr_trans_amt','tr_bal']]\\\n",
    ".groupby('UID').agg(['min','max','mean','median']).loc[10000:10005,[('tr_trans_amt', 'mean')]]"
   ]
  },
  {
   "cell_type": "code",
   "execution_count": null,
   "metadata": {
    "ExecuteTime": {
     "end_time": "2019-01-10T09:13:29.628903Z",
     "start_time": "2019-01-10T09:13:21.674Z"
    }
   },
   "outputs": [],
   "source": [
    "df_tr1[['UID','tr_trans_amt','tr_bal']].groupby('UID').agg(['min','max','mean','median']).iloc[1:5,[0,1]]"
   ]
  },
  {
   "cell_type": "code",
   "execution_count": null,
   "metadata": {
    "ExecuteTime": {
     "end_time": "2019-01-10T09:13:29.629904Z",
     "start_time": "2019-01-10T09:13:21.683Z"
    }
   },
   "outputs": [],
   "source": [
    "df_tr1.shape"
   ]
  },
  {
   "cell_type": "code",
   "execution_count": null,
   "metadata": {
    "ExecuteTime": {
     "end_time": "2019-01-10T09:13:29.630904Z",
     "start_time": "2019-01-10T09:13:21.692Z"
    }
   },
   "outputs": [],
   "source": [
    "df_tr1[df_tr.UID==10001]"
   ]
  },
  {
   "cell_type": "code",
   "execution_count": null,
   "metadata": {},
   "outputs": [],
   "source": []
  },
  {
   "cell_type": "code",
   "execution_count": null,
   "metadata": {
    "ExecuteTime": {
     "end_time": "2019-01-10T09:13:29.630904Z",
     "start_time": "2019-01-10T09:13:21.705Z"
    }
   },
   "outputs": [],
   "source": [
    "df_tr['tr_day1']='2017-10-'+df_tr['tr_day'].apply(lambda x:str(x) if x>=10 else '0'+str(x))\n",
    "df_tr['tr_time1']=df_tr['tr_day1']+' '+df_tr['tr_time']\n",
    "df_tr['tr_time2']=df_tr['tr_time1'].apply(lambda x:pd.to_datetime(x,format='%Y-%m-%d %H:%M:%S'))"
   ]
  },
  {
   "cell_type": "code",
   "execution_count": null,
   "metadata": {},
   "outputs": [],
   "source": []
  },
  {
   "cell_type": "code",
   "execution_count": null,
   "metadata": {
    "ExecuteTime": {
     "end_time": "2019-01-10T09:13:29.631904Z",
     "start_time": "2019-01-10T09:13:21.722Z"
    }
   },
   "outputs": [],
   "source": [
    "df_tr1[df_tr.UID==10004].sort_values(by=['tr_day','tr_time'])"
   ]
  },
  {
   "cell_type": "code",
   "execution_count": null,
   "metadata": {
    "ExecuteTime": {
     "end_time": "2019-01-10T09:13:29.632904Z",
     "start_time": "2019-01-10T09:13:21.730Z"
    }
   },
   "outputs": [],
   "source": [
    "def fun_last_amt(arr):\n",
    "    try:\n",
    "        return arr.iloc[-1]-arr.iloc[-2]\n",
    "    except:\n",
    "        return np.nan\n"
   ]
  },
  {
   "cell_type": "code",
   "execution_count": null,
   "metadata": {
    "ExecuteTime": {
     "end_time": "2019-01-10T09:13:29.632904Z",
     "start_time": "2019-01-10T09:13:21.738Z"
    },
    "scrolled": true
   },
   "outputs": [],
   "source": [
    "df_tr1.sort_values(by=['UID','tr_channel','tr_time2'])[['UID','tr_channel','tr_trans_amt']].groupby(by=['UID','tr_channel']).agg(fun_last_amt)\n"
   ]
  },
  {
   "cell_type": "code",
   "execution_count": null,
   "metadata": {
    "ExecuteTime": {
     "end_time": "2019-01-10T09:13:29.633904Z",
     "start_time": "2019-01-10T09:13:21.747Z"
    },
    "scrolled": true
   },
   "outputs": [],
   "source": [
    "test=df_tr1.sort_values(by=['UID','tr_channel','tr_time2'])\n",
    "test[['UID','tr_channel','tr_trans_amt']].groupby(by=['UID','tr_channel']).agg(fun_last_amt)\n"
   ]
  },
  {
   "cell_type": "code",
   "execution_count": null,
   "metadata": {
    "ExecuteTime": {
     "end_time": "2019-01-10T09:13:29.634904Z",
     "start_time": "2019-01-10T09:13:21.753Z"
    }
   },
   "outputs": [],
   "source": [
    "def fun_last_amt2(arr):\n",
    "    try:\n",
    "        \n",
    "        return arr.iloc[-1]-arr.iloc[-2]\n",
    "    except:\n",
    "        return np.nan"
   ]
  },
  {
   "cell_type": "code",
   "execution_count": null,
   "metadata": {
    "ExecuteTime": {
     "end_time": "2019-01-10T09:13:29.634904Z",
     "start_time": "2019-01-10T09:13:21.853Z"
    },
    "scrolled": true
   },
   "outputs": [],
   "source": [
    "for i in test[['UID','tr_channel','tr_trans_amt']].groupby(by=['UID','tr_channel']):\n",
    "    print(i)"
   ]
  },
  {
   "cell_type": "code",
   "execution_count": null,
   "metadata": {
    "ExecuteTime": {
     "end_time": "2019-01-10T09:13:29.635904Z",
     "start_time": "2019-01-10T09:13:21.862Z"
    }
   },
   "outputs": [],
   "source": [
    "df_tr[['UID','tr_channel','tr_trans_amt']].groupby(by=['UID','tr_channel'])"
   ]
  },
  {
   "cell_type": "code",
   "execution_count": null,
   "metadata": {
    "ExecuteTime": {
     "end_time": "2019-01-10T09:13:29.636904Z",
     "start_time": "2019-01-10T09:13:21.875Z"
    }
   },
   "outputs": [],
   "source": [
    "df_tr[['UID','tr_channel','tr_time2','tr_trans_amt']].groupby(by=['UID','tr_channel']).first()"
   ]
  },
  {
   "cell_type": "code",
   "execution_count": null,
   "metadata": {
    "ExecuteTime": {
     "end_time": "2019-01-10T09:13:29.637904Z",
     "start_time": "2019-01-10T09:13:21.882Z"
    }
   },
   "outputs": [],
   "source": [
    "df_tr[['UID','tr_channel','tr_time2','tr_trans_amt']].groupby(by=['UID','tr_channel'])"
   ]
  },
  {
   "cell_type": "code",
   "execution_count": null,
   "metadata": {},
   "outputs": [],
   "source": []
  },
  {
   "cell_type": "code",
   "execution_count": null,
   "metadata": {},
   "outputs": [],
   "source": []
  },
  {
   "cell_type": "code",
   "execution_count": null,
   "metadata": {},
   "outputs": [],
   "source": []
  },
  {
   "cell_type": "code",
   "execution_count": null,
   "metadata": {},
   "outputs": [],
   "source": []
  },
  {
   "cell_type": "code",
   "execution_count": null,
   "metadata": {},
   "outputs": [],
   "source": []
  },
  {
   "cell_type": "code",
   "execution_count": null,
   "metadata": {},
   "outputs": [],
   "source": []
  },
  {
   "cell_type": "code",
   "execution_count": null,
   "metadata": {
    "ExecuteTime": {
     "end_time": "2019-01-10T09:13:29.639904Z",
     "start_time": "2019-01-10T09:13:22.034Z"
    }
   },
   "outputs": [],
   "source": [
    "df_tr1[df_tr['UID']==10004].sort_values(by=['tr_time2'])"
   ]
  },
  {
   "cell_type": "code",
   "execution_count": null,
   "metadata": {
    "ExecuteTime": {
     "end_time": "2019-01-10T09:13:29.639904Z",
     "start_time": "2019-01-10T09:13:22.041Z"
    }
   },
   "outputs": [],
   "source": [
    "df_tr1[['UID','tr_trans_amt','tr_bal']].groupby('UID').agg(['min','max','mean','median']).head()"
   ]
  },
  {
   "cell_type": "code",
   "execution_count": null,
   "metadata": {
    "ExecuteTime": {
     "end_time": "2019-01-10T09:13:29.640904Z",
     "start_time": "2019-01-10T09:13:22.048Z"
    }
   },
   "outputs": [],
   "source": [
    "df_tr3.head()"
   ]
  },
  {
   "cell_type": "code",
   "execution_count": null,
   "metadata": {
    "ExecuteTime": {
     "end_time": "2019-01-10T09:13:29.641904Z",
     "start_time": "2019-01-10T09:13:22.057Z"
    }
   },
   "outputs": [],
   "source": [
    "data_train4.head()"
   ]
  },
  {
   "cell_type": "code",
   "execution_count": null,
   "metadata": {},
   "outputs": [],
   "source": []
  },
  {
   "cell_type": "code",
   "execution_count": null,
   "metadata": {
    "ExecuteTime": {
     "end_time": "2019-01-10T09:13:29.642904Z",
     "start_time": "2019-01-10T09:13:22.069Z"
    }
   },
   "outputs": [],
   "source": [
    "df_tr3_price=df_tr1[['UID','tr_trans_amt','tr_bal']].groupby('UID').agg(['min','max','mean','median'])"
   ]
  },
  {
   "cell_type": "code",
   "execution_count": null,
   "metadata": {
    "ExecuteTime": {
     "end_time": "2019-01-10T09:13:29.643904Z",
     "start_time": "2019-01-10T09:13:22.075Z"
    }
   },
   "outputs": [],
   "source": [
    "data_train5=data_train4.merge(df_tr3_price,how='left',on='UID')"
   ]
  },
  {
   "cell_type": "code",
   "execution_count": null,
   "metadata": {
    "ExecuteTime": {
     "end_time": "2019-01-10T09:13:29.643904Z",
     "start_time": "2019-01-10T09:13:22.082Z"
    }
   },
   "outputs": [],
   "source": [
    "data_train5.head()"
   ]
  },
  {
   "cell_type": "code",
   "execution_count": null,
   "metadata": {
    "ExecuteTime": {
     "end_time": "2019-01-10T09:13:29.644904Z",
     "start_time": "2019-01-10T09:13:22.087Z"
    }
   },
   "outputs": [],
   "source": [
    "data_train5.columns.values"
   ]
  },
  {
   "cell_type": "code",
   "execution_count": null,
   "metadata": {
    "ExecuteTime": {
     "end_time": "2019-01-10T09:13:29.645904Z",
     "start_time": "2019-01-10T09:13:22.092Z"
    }
   },
   "outputs": [],
   "source": [
    "for i in [('tr_trans_amt', 'min'), ('tr_trans_amt', 'max'),('tr_trans_amt', 'mean'),('tr_trans_amt', 'median'),('tr_bal', 'min'), ('tr_bal', 'max'), ('tr_bal', 'mean'),('tr_bal', 'median')]:\n",
    "    data_train5.rename(columns={i:i[0]+'_'+i[1]},inplace=True)"
   ]
  },
  {
   "cell_type": "code",
   "execution_count": null,
   "metadata": {
    "ExecuteTime": {
     "end_time": "2019-01-10T09:13:29.645904Z",
     "start_time": "2019-01-10T09:13:22.099Z"
    }
   },
   "outputs": [],
   "source": [
    "data_train5.head()"
   ]
  },
  {
   "cell_type": "code",
   "execution_count": null,
   "metadata": {
    "ExecuteTime": {
     "end_time": "2019-01-10T09:13:29.646905Z",
     "start_time": "2019-01-10T09:13:22.105Z"
    }
   },
   "outputs": [],
   "source": [
    "data_train5[data_train5['UID']==10000][[i for i in data_train5.columns.values if 'device2' in i]]"
   ]
  },
  {
   "cell_type": "code",
   "execution_count": null,
   "metadata": {
    "ExecuteTime": {
     "end_time": "2019-01-10T09:13:29.646905Z",
     "start_time": "2019-01-10T09:13:22.111Z"
    }
   },
   "outputs": [],
   "source": [
    "data_train5.iloc[1:5,-20:]"
   ]
  },
  {
   "cell_type": "code",
   "execution_count": null,
   "metadata": {
    "ExecuteTime": {
     "end_time": "2019-01-10T09:13:29.648905Z",
     "start_time": "2019-01-10T09:13:22.117Z"
    }
   },
   "outputs": [],
   "source": [
    "data_train5.info(memory_usage='deep')"
   ]
  },
  {
   "cell_type": "code",
   "execution_count": null,
   "metadata": {
    "ExecuteTime": {
     "end_time": "2019-01-10T09:13:29.648905Z",
     "start_time": "2019-01-10T09:13:22.123Z"
    }
   },
   "outputs": [],
   "source": [
    "df_op.head()"
   ]
  },
  {
   "cell_type": "code",
   "execution_count": null,
   "metadata": {
    "ExecuteTime": {
     "end_time": "2019-01-10T09:13:29.649905Z",
     "start_time": "2019-01-10T09:13:22.131Z"
    }
   },
   "outputs": [],
   "source": [
    "df_op[['UID','mode','success','time']].groupby(by=['UID','mode','success']).agg(['max','min'])"
   ]
  },
  {
   "cell_type": "code",
   "execution_count": null,
   "metadata": {
    "ExecuteTime": {
     "end_time": "2019-01-10T09:13:29.649905Z",
     "start_time": "2019-01-10T09:13:22.137Z"
    }
   },
   "outputs": [],
   "source": [
    "df_tr[df_tr['UID']==10008].head()"
   ]
  },
  {
   "cell_type": "code",
   "execution_count": null,
   "metadata": {
    "ExecuteTime": {
     "end_time": "2019-01-10T09:13:29.650905Z",
     "start_time": "2019-01-10T09:13:22.144Z"
    }
   },
   "outputs": [],
   "source": [
    "df_tr[['UID','tr_day','tr_channel','tr_time']].groupby(by=['UID','tr_day','tr_channel']).agg(['max','min'])"
   ]
  },
  {
   "cell_type": "code",
   "execution_count": null,
   "metadata": {
    "ExecuteTime": {
     "end_time": "2019-01-10T09:13:29.651905Z",
     "start_time": "2019-01-10T09:13:22.150Z"
    }
   },
   "outputs": [],
   "source": [
    "def fun_last_se(arr):\n",
    "    try:\n",
    "        arr=arr.sort_values()\n",
    "        return (arr.iloc[-1] - arr.iloc[-2]).seconds\n",
    "    except:\n",
    "        return np.nan"
   ]
  },
  {
   "cell_type": "code",
   "execution_count": null,
   "metadata": {
    "ExecuteTime": {
     "end_time": "2019-01-10T09:13:29.651905Z",
     "start_time": "2019-01-10T09:13:22.155Z"
    }
   },
   "outputs": [],
   "source": [
    "df_tr[df_tr['UID']==10008][['tr_day','tr_time']].sort_values(by=['tr_day','tr_time'])"
   ]
  },
  {
   "cell_type": "code",
   "execution_count": null,
   "metadata": {
    "ExecuteTime": {
     "end_time": "2019-01-10T09:13:29.652905Z",
     "start_time": "2019-01-10T09:13:22.161Z"
    }
   },
   "outputs": [],
   "source": [
    "type(df_tr[df_tr['UID']==10008][['tr_day','tr_time']].sort_values(by=['tr_day','tr_time'])['tr_time'].iloc[-1])"
   ]
  },
  {
   "cell_type": "code",
   "execution_count": null,
   "metadata": {},
   "outputs": [],
   "source": []
  },
  {
   "cell_type": "code",
   "execution_count": null,
   "metadata": {},
   "outputs": [],
   "source": []
  },
  {
   "cell_type": "code",
   "execution_count": null,
   "metadata": {},
   "outputs": [],
   "source": []
  },
  {
   "cell_type": "code",
   "execution_count": null,
   "metadata": {},
   "outputs": [],
   "source": []
  },
  {
   "cell_type": "code",
   "execution_count": null,
   "metadata": {},
   "outputs": [],
   "source": []
  },
  {
   "cell_type": "code",
   "execution_count": null,
   "metadata": {
    "ExecuteTime": {
     "end_time": "2019-01-10T09:13:29.652905Z",
     "start_time": "2019-01-10T09:13:22.189Z"
    }
   },
   "outputs": [],
   "source": [
    "import datetime\n",
    "import time"
   ]
  },
  {
   "cell_type": "code",
   "execution_count": null,
   "metadata": {
    "ExecuteTime": {
     "end_time": "2019-01-10T09:13:29.655905Z",
     "start_time": "2019-01-10T09:13:22.194Z"
    }
   },
   "outputs": [],
   "source": [
    "df_tr[['tr_day','tr_time']].head()"
   ]
  },
  {
   "cell_type": "code",
   "execution_count": null,
   "metadata": {
    "ExecuteTime": {
     "end_time": "2019-01-10T09:13:29.656905Z",
     "start_time": "2019-01-10T09:13:22.200Z"
    }
   },
   "outputs": [],
   "source": [
    "# pd.to_datetime(df_tr[['tr_day','tr_time']].apply(lambda x,y:'2017-11-'+str(x)+' '+str(y)))"
   ]
  },
  {
   "cell_type": "code",
   "execution_count": null,
   "metadata": {
    "ExecuteTime": {
     "end_time": "2019-01-10T09:13:29.657905Z",
     "start_time": "2019-01-10T09:13:22.205Z"
    }
   },
   "outputs": [],
   "source": [
    "df_tr['tr_day1']='2017-10-'+df_tr['tr_day'].apply(lambda x:str(x) if x>=10 else '0'+str(x))"
   ]
  },
  {
   "cell_type": "code",
   "execution_count": null,
   "metadata": {
    "ExecuteTime": {
     "end_time": "2019-01-10T09:13:29.658905Z",
     "start_time": "2019-01-10T09:13:22.213Z"
    }
   },
   "outputs": [],
   "source": [
    "df_tr['tr_day1'].head()"
   ]
  },
  {
   "cell_type": "code",
   "execution_count": null,
   "metadata": {
    "ExecuteTime": {
     "end_time": "2019-01-10T09:13:29.658905Z",
     "start_time": "2019-01-10T09:13:22.219Z"
    }
   },
   "outputs": [],
   "source": [
    "# df_tr['tr_time1']=df_tr['tr_day1']+' '+df_tr['tr_time']\n",
    "\n",
    "# df_tr['tr_time2']=df_tr['tr_time1'].apply(lambda x:pd.to_datetime(x,format='%Y-%m-%d %H:%M:%S'))"
   ]
  },
  {
   "cell_type": "code",
   "execution_count": null,
   "metadata": {
    "ExecuteTime": {
     "end_time": "2019-01-10T09:13:29.659905Z",
     "start_time": "2019-01-10T09:13:22.224Z"
    }
   },
   "outputs": [],
   "source": [
    "def fun_last2_se(arr):\n",
    "    try:\n",
    "        arr=arr.sort_values()\n",
    "        return (arr.iloc[-2] - arr.iloc[-3]).seconds\n",
    "    except:\n",
    "        return np.nan\n",
    "\n",
    "def fun_last3_se(arr):\n",
    "    try:\n",
    "        arr=arr.sort_values()\n",
    "        return (arr.iloc[-3] - arr.iloc[-4]).seconds\n",
    "    except:\n",
    "        return np.nan\n",
    "    \n",
    "def fun_last4_se(arr):\n",
    "    try:\n",
    "        arr=arr.sort_values()\n",
    "        return (arr.iloc[-4] - arr.iloc[-5]).seconds\n",
    "    except:\n",
    "        return np.nan\n",
    "\n",
    "def fun_last5_se(arr):\n",
    "    try:\n",
    "        arr=arr.sort_values()\n",
    "        return (arr.iloc[-5] - arr.iloc[-6]).seconds\n",
    "    except:\n",
    "        return np.nan\n",
    "    \n",
    "def fun_last6_se(arr):\n",
    "    try:\n",
    "        arr=arr.sort_values()\n",
    "        return (arr.iloc[-6] - arr.iloc[-7]).seconds\n",
    "    except:\n",
    "        return np.nan \n",
    "\n",
    "def fun_last7_se(arr):\n",
    "    try:\n",
    "        arr=arr.sort_values()\n",
    "        return (arr.iloc[-7] - arr.iloc[-8]).seconds\n",
    "    except:\n",
    "        return np.nan     \n",
    "\n",
    "#############################################\n",
    "\n",
    "def fun_last_day(arr):\n",
    "    try:\n",
    "        arr=arr.sort_values()\n",
    "        return (arr.iloc[-1] - arr.iloc[-2]).days\n",
    "    except:\n",
    "        return np.nan\n",
    "def fun_last2_day(arr):\n",
    "    try:\n",
    "        arr=arr.sort_values()\n",
    "        return (arr.iloc[-2] - arr.iloc[-3]).days\n",
    "    except:\n",
    "        return np.nan\n",
    "\n",
    "def fun_last3_day(arr):\n",
    "    try:\n",
    "        arr=arr.sort_values()\n",
    "        return (arr.iloc[-3] - arr.iloc[-4]).days\n",
    "    except:\n",
    "        return np.nan\n",
    "\n",
    "def fun_last4_day(arr):\n",
    "    try:\n",
    "        arr=arr.sort_values()\n",
    "        return (arr.iloc[-4] - arr.iloc[-5]).days\n",
    "    except:\n",
    "        return np.nan\n",
    "\n",
    "def fun_last5_day(arr):\n",
    "    try:\n",
    "        arr=arr.sort_values()\n",
    "        return (arr.iloc[-4] - arr.iloc[-5]).days\n",
    "    except:\n",
    "        return np.nan\n",
    "\n",
    "def fun_last6_day(arr):\n",
    "    try:\n",
    "        arr=arr.sort_values()\n",
    "        return (arr.iloc[-4] - arr.iloc[-5]).days\n",
    "    except:\n",
    "        return np.nan\n",
    "\n",
    "def fun_last7_day(arr):\n",
    "    try:\n",
    "        arr=arr.sort_values()\n",
    "        return (arr.iloc[-4] - arr.iloc[-5]).days\n",
    "    except:\n",
    "        return np.nan    "
   ]
  },
  {
   "cell_type": "code",
   "execution_count": null,
   "metadata": {
    "ExecuteTime": {
     "end_time": "2019-01-10T09:13:29.660905Z",
     "start_time": "2019-01-10T09:13:22.231Z"
    }
   },
   "outputs": [],
   "source": [
    "df_tr[df_tr['UID']==10012]"
   ]
  },
  {
   "cell_type": "code",
   "execution_count": null,
   "metadata": {
    "ExecuteTime": {
     "end_time": "2019-01-10T09:13:29.661905Z",
     "start_time": "2019-01-10T09:13:22.237Z"
    }
   },
   "outputs": [],
   "source": [
    "df_tr[['UID','tr_channel','tr_day']].groupby(['UID','tr_channel']).agg(fun_last_day)"
   ]
  },
  {
   "cell_type": "code",
   "execution_count": null,
   "metadata": {
    "ExecuteTime": {
     "end_time": "2019-01-10T09:13:29.661905Z",
     "start_time": "2019-01-10T09:13:22.244Z"
    }
   },
   "outputs": [],
   "source": [
    "df_tr[['UID','tr_channel','tr_time2']].groupby(['UID','tr_channel']).agg(fun_last2_se)"
   ]
  },
  {
   "cell_type": "code",
   "execution_count": null,
   "metadata": {
    "ExecuteTime": {
     "end_time": "2019-01-10T09:13:29.662905Z",
     "start_time": "2019-01-10T09:13:22.250Z"
    }
   },
   "outputs": [],
   "source": [
    "df_tr_last_se=df_tr[['UID','tr_channel','tr_day','tr_time2']].groupby(['UID','tr_channel','tr_day'],as_index=False).agg(fun_last_se)\n",
    "df_tr_last_se.head()"
   ]
  },
  {
   "cell_type": "code",
   "execution_count": null,
   "metadata": {
    "ExecuteTime": {
     "end_time": "2019-01-10T09:13:29.662905Z",
     "start_time": "2019-01-10T09:13:22.255Z"
    }
   },
   "outputs": [],
   "source": [
    "df_tr_last_se=df_tr[['UID','tr_channel','tr_day','tr_time2']].groupby(['UID','tr_channel','tr_day'],as_index=False).agg(fun_last_se)\n",
    "df_tr_last_se2=pd.pivot_table(df_tr_last_se,index=['UID'],values=['tr_time2'],columns=['tr_channel'],aggfunc=['min','max'])"
   ]
  },
  {
   "cell_type": "code",
   "execution_count": null,
   "metadata": {
    "ExecuteTime": {
     "end_time": "2019-01-10T09:13:29.663905Z",
     "start_time": "2019-01-10T09:13:22.261Z"
    }
   },
   "outputs": [],
   "source": [
    "df_tr_last_se.head(12)"
   ]
  },
  {
   "cell_type": "code",
   "execution_count": null,
   "metadata": {
    "ExecuteTime": {
     "end_time": "2019-01-10T09:13:29.664906Z",
     "start_time": "2019-01-10T09:13:22.266Z"
    }
   },
   "outputs": [],
   "source": [
    "df_tr_last_se2.head()"
   ]
  },
  {
   "cell_type": "code",
   "execution_count": null,
   "metadata": {
    "ExecuteTime": {
     "end_time": "2019-01-10T09:13:29.664906Z",
     "start_time": "2019-01-10T09:13:22.272Z"
    }
   },
   "outputs": [],
   "source": [
    "df_tr_last_se2.columns.values"
   ]
  },
  {
   "cell_type": "code",
   "execution_count": null,
   "metadata": {
    "ExecuteTime": {
     "end_time": "2019-01-10T09:13:29.665906Z",
     "start_time": "2019-01-10T09:13:22.277Z"
    }
   },
   "outputs": [],
   "source": [
    "#el df_tr_last_se3\n",
    "df_tr_last_se2.columns=['_'.join(('tr_last_se',str(k),i)) for i,j,k in df_tr_last_se2.columns]"
   ]
  },
  {
   "cell_type": "code",
   "execution_count": null,
   "metadata": {
    "ExecuteTime": {
     "end_time": "2019-01-10T09:13:29.666906Z",
     "start_time": "2019-01-10T09:13:22.282Z"
    }
   },
   "outputs": [],
   "source": [
    "df_tr_last_se2.head()"
   ]
  },
  {
   "cell_type": "code",
   "execution_count": null,
   "metadata": {
    "ExecuteTime": {
     "end_time": "2019-01-10T09:13:29.666906Z",
     "start_time": "2019-01-10T09:13:22.287Z"
    }
   },
   "outputs": [],
   "source": [
    "############################################################ last sec per day\n",
    "\n",
    "df_tr_last_day_se=df_tr[['UID','tr_channel','tr_day','tr_time2']].groupby(['UID','tr_channel','tr_day'],as_index=False).agg(fun_last_se)\n",
    "df_tr_last_day_se2=pd.pivot_table(df_tr_last_day_se,index=['UID'],values=['tr_time2'],columns=['tr_channel'],aggfunc=['min','max','mean','median'])\n",
    "df_tr_last_day_se2.columns=['_'.join(('df_tr_last_day_se2',str(k),i)) for i,j,k in df_tr_last_day_se2.columns]\n",
    "\n",
    "df_tr_last2_day_se=df_tr[['UID','tr_channel','tr_day','tr_time2']].groupby(['UID','tr_channel','tr_day'],as_index=False).agg(fun_last2_se)\n",
    "df_tr_last2_day_se2=pd.pivot_table(df_tr_last2_day_se,index=['UID'],values=['tr_time2'],columns=['tr_channel'],aggfunc=['min','max','mean','median'])\n",
    "df_tr_last2_day_se2.columns=['_'.join(('df_tr_last2_day_se2',str(k),i)) for i,j,k in df_tr_last2_day_se2.columns]\n",
    "\n",
    "df_tr_last3_day_se=df_tr[['UID','tr_channel','tr_day','tr_time2']].groupby(['UID','tr_channel','tr_day'],as_index=False).agg(fun_last3_se)\n",
    "df_tr_last3_day_se2=pd.pivot_table(df_tr_last3_day_se,index=['UID'],values=['tr_time2'],columns=['tr_channel'],aggfunc=['min','max','mean','median'])\n",
    "df_tr_last3_day_se2.columns=['_'.join(('df_tr_last3_day_se2',str(k),i)) for i,j,k in df_tr_last3_day_se2.columns]\n",
    "\n",
    "###\n",
    "df_tr_last4_day_se=df_tr[['UID','tr_channel','tr_day','tr_time2']].groupby(['UID','tr_channel','tr_day'],as_index=False).agg(fun_last4_se)\n",
    "df_tr_last4_day_se2=pd.pivot_table(df_tr_last4_day_se,index=['UID'],values=['tr_time2'],columns=['tr_channel'],aggfunc=['min','max','mean','median'])\n",
    "df_tr_last4_day_se2.columns=['_'.join(('df_tr_last4_day_se2',str(k),i)) for i,j,k in df_tr_last4_day_se2.columns]\n",
    "\n",
    "df_tr_last5_day_se=df_tr[['UID','tr_channel','tr_day','tr_time2']].groupby(['UID','tr_channel','tr_day'],as_index=False).agg(fun_last5_se)\n",
    "df_tr_last5_day_se2=pd.pivot_table(df_tr_last5_day_se,index=['UID'],values=['tr_time2'],columns=['tr_channel'],aggfunc=['min','max','mean','median'])\n",
    "df_tr_last5_day_se2.columns=['_'.join(('df_tr_last5_day_se2',str(k),i)) for i,j,k in df_tr_last5_day_se2.columns]\n",
    "\n",
    "df_tr_last6_day_se=df_tr[['UID','tr_channel','tr_day','tr_time2']].groupby(['UID','tr_channel','tr_day'],as_index=False).agg(fun_last6_se)\n",
    "df_tr_last6_day_se2=pd.pivot_table(df_tr_last6_day_se,index=['UID'],values=['tr_time2'],columns=['tr_channel'],aggfunc=['min','max','mean','median'])\n",
    "df_tr_last6_day_se2.columns=['_'.join(('df_tr_last6_day_se2',str(k),i)) for i,j,k in df_tr_last6_day_se2.columns]\n",
    "\n",
    "df_tr_last7_day_se=df_tr[['UID','tr_channel','tr_day','tr_time2']].groupby(['UID','tr_channel','tr_day'],as_index=False).agg(fun_last7_se)\n",
    "df_tr_last7_day_se2=pd.pivot_table(df_tr_last7_day_se,index=['UID'],values=['tr_time2'],columns=['tr_channel'],aggfunc=['min','max','mean','median'])\n",
    "df_tr_last7_day_se2.columns=['_'.join(('df_tr_last7_day_se2',str(k),i)) for i,j,k in df_tr_last7_day_se2.columns]\n",
    "\n",
    "\n",
    "#########################################################  last sec all day\n",
    "\n",
    "df_tr_last_se=df_tr[['UID','tr_channel','tr_time2']].groupby(['UID','tr_channel'],as_index=False).agg(fun_last_se)\n",
    "df_tr_last_se2=pd.pivot_table(df_tr_last_se,index=['UID'],values=['tr_time2'],columns=['tr_channel'])\n",
    "df_tr_last_se2.columns=['_'.join(('df_tr_last_se2',str(k))) for i,k in df_tr_last_se2.columns]\n",
    "\n",
    "df_tr_last2_se=df_tr[['UID','tr_channel','tr_time2']].groupby(['UID','tr_channel'],as_index=False).agg(fun_last2_se)\n",
    "df_tr_last2_se2=pd.pivot_table(df_tr_last2_se,index=['UID'],values=['tr_time2'],columns=['tr_channel'])\n",
    "df_tr_last2_se2.columns=['_'.join(('df_tr_last2_se2',str(k))) for i,k in df_tr_last2_se2.columns]\n",
    "\n",
    "df_tr_last3_se=df_tr[['UID','tr_channel','tr_time2']].groupby(['UID','tr_channel'],as_index=False).agg(fun_last3_se)\n",
    "df_tr_last3_se2=pd.pivot_table(df_tr_last3_se,index=['UID'],values=['tr_time2'],columns=['tr_channel'])\n",
    "df_tr_last3_se2.columns=['_'.join(('df_tr_last3_se2',str(k))) for i,k in df_tr_last3_se2.columns]\n",
    "\n",
    "###\n",
    "df_tr_last4_se=df_tr[['UID','tr_channel','tr_time2']].groupby(['UID','tr_channel'],as_index=False).agg(fun_last4_se)\n",
    "df_tr_last4_se2=pd.pivot_table(df_tr_last4_se,index=['UID'],values=['tr_time2'],columns=['tr_channel'])\n",
    "df_tr_last4_se2.columns=['_'.join(('df_tr_last4_se2',str(k))) for i,k in df_tr_last4_se2.columns]\n",
    "\n",
    "df_tr_last5_se=df_tr[['UID','tr_channel','tr_time2']].groupby(['UID','tr_channel'],as_index=False).agg(fun_last5_se)\n",
    "df_tr_last5_se2=pd.pivot_table(df_tr_last5_se,index=['UID'],values=['tr_time2'],columns=['tr_channel'])\n",
    "df_tr_last5_se2.columns=['_'.join(('df_tr_last5_se2',str(k))) for i,k in df_tr_last5_se2.columns]\n",
    "\n",
    "df_tr_last6_se=df_tr[['UID','tr_channel','tr_time2']].groupby(['UID','tr_channel'],as_index=False).agg(fun_last6_se)\n",
    "df_tr_last6_se2=pd.pivot_table(df_tr_last6_se,index=['UID'],values=['tr_time2'],columns=['tr_channel'])\n",
    "df_tr_last6_se2.columns=['_'.join(('df_tr_last6_se2',str(k))) for i,k in df_tr_last6_se2.columns]\n",
    "\n",
    "df_tr_last7_se=df_tr[['UID','tr_channel','tr_time2']].groupby(['UID','tr_channel'],as_index=False).agg(fun_last7_se)\n",
    "df_tr_last7_se2=pd.pivot_table(df_tr_last7_se,index=['UID'],values=['tr_time2'],columns=['tr_channel'])\n",
    "df_tr_last7_se2.columns=['_'.join(('df_tr_last7_se2',str(k))) for i,k in df_tr_last7_se2.columns]\n"
   ]
  },
  {
   "cell_type": "code",
   "execution_count": null,
   "metadata": {
    "ExecuteTime": {
     "end_time": "2019-01-10T09:13:29.667906Z",
     "start_time": "2019-01-10T09:13:22.293Z"
    }
   },
   "outputs": [],
   "source": [
    "df_tr_last_day_se2.head()"
   ]
  },
  {
   "cell_type": "code",
   "execution_count": null,
   "metadata": {
    "ExecuteTime": {
     "end_time": "2019-01-10T09:13:29.671906Z",
     "start_time": "2019-01-10T09:13:22.298Z"
    }
   },
   "outputs": [],
   "source": [
    "df_tr_last3_se2.head()"
   ]
  },
  {
   "cell_type": "code",
   "execution_count": null,
   "metadata": {
    "ExecuteTime": {
     "end_time": "2019-01-10T09:13:29.673906Z",
     "start_time": "2019-01-10T09:13:22.303Z"
    }
   },
   "outputs": [],
   "source": [
    "######################   last 1,2,3 day\n",
    "df_tr_last_day=df_tr[['UID','tr_channel','tr_time2']].groupby(['UID','tr_channel'],as_index=False).agg(fun_last_day)\n",
    "df_tr_last_day2=pd.pivot_table(df_tr_last_day,index=['UID'],values=['tr_time2'],columns=['tr_channel'])\n",
    "df_tr_last_day2.columns=['_'.join(('df_tr_last_day2',str(j))) for i,j in df_tr_last_day2.columns]\n",
    "\n",
    "df_tr_last2_day=df_tr[['UID','tr_channel','tr_time2']].groupby(['UID','tr_channel'],as_index=False).agg(fun_last2_day)\n",
    "df_tr_last2_day2=pd.pivot_table(df_tr_last2_day,index=['UID'],values=['tr_time2'],columns=['tr_channel'])\n",
    "df_tr_last2_day2.columns=['_'.join(('df_tr_last2_day2',str(j))) for i,j in df_tr_last2_day2.columns]\n",
    "\n",
    "df_tr_last3_day=df_tr[['UID','tr_channel','tr_time2']].groupby(['UID','tr_channel'],as_index=False).agg(fun_last3_day)\n",
    "df_tr_last3_day2=pd.pivot_table(df_tr_last3_day,index=['UID'],values=['tr_time2'],columns=['tr_channel'])\n",
    "df_tr_last3_day2.columns=['_'.join(('df_tr_last3_day2',str(j))) for i,j in df_tr_last3_day2.columns]\n",
    "\n",
    "###\n",
    "df_tr_last4_day=df_tr[['UID','tr_channel','tr_time2']].groupby(['UID','tr_channel'],as_index=False).agg(fun_last4_day)\n",
    "df_tr_last4_day2=pd.pivot_table(df_tr_last4_day,index=['UID'],values=['tr_time2'],columns=['tr_channel'])\n",
    "df_tr_last4_day2.columns=['_'.join(('df_tr_last4_day2',str(j))) for i,j in df_tr_last4_day2.columns]\n",
    "\n",
    "df_tr_last5_day=df_tr[['UID','tr_channel','tr_time2']].groupby(['UID','tr_channel'],as_index=False).agg(fun_last5_day)\n",
    "df_tr_last5_day2=pd.pivot_table(df_tr_last5_day,index=['UID'],values=['tr_time2'],columns=['tr_channel'])\n",
    "df_tr_last5_day2.columns=['_'.join(('df_tr_last5_day2',str(j))) for i,j in df_tr_last5_day2.columns]\n",
    "\n",
    "df_tr_last6_day=df_tr[['UID','tr_channel','tr_time2']].groupby(['UID','tr_channel'],as_index=False).agg(fun_last6_day)\n",
    "df_tr_last6_day2=pd.pivot_table(df_tr_last6_day,index=['UID'],values=['tr_time2'],columns=['tr_channel'])\n",
    "df_tr_last6_day2.columns=['_'.join(('df_tr_last6_day2',str(j))) for i,j in df_tr_last6_day2.columns]\n",
    "\n",
    "df_tr_last7_day=df_tr[['UID','tr_channel','tr_time2']].groupby(['UID','tr_channel'],as_index=False).agg(fun_last7_day)\n",
    "df_tr_last7_day2=pd.pivot_table(df_tr_last7_day,index=['UID'],values=['tr_time2'],columns=['tr_channel'])\n",
    "df_tr_last7_day2.columns=['_'.join(('df_tr_last7_day2',str(j))) for i,j in df_tr_last7_day2.columns]"
   ]
  },
  {
   "cell_type": "code",
   "execution_count": null,
   "metadata": {
    "ExecuteTime": {
     "end_time": "2019-01-10T09:13:29.674906Z",
     "start_time": "2019-01-10T09:13:22.309Z"
    }
   },
   "outputs": [],
   "source": [
    "df_tr_last3_day2.head()"
   ]
  },
  {
   "cell_type": "code",
   "execution_count": null,
   "metadata": {
    "ExecuteTime": {
     "end_time": "2019-01-10T09:13:29.675906Z",
     "start_time": "2019-01-10T09:13:22.314Z"
    }
   },
   "outputs": [],
   "source": [
    "###\n",
    "df_tr_last_se3=df_tr[['UID','tr_time2']].groupby(['UID'],as_index=False).agg(fun_last_se)\n",
    "df_tr_last_se3.columns=['UID','tr_last_se3']\n",
    "\n",
    "df_tr_last2_se3=df_tr[['UID','tr_time2']].groupby(['UID'],as_index=False).agg(fun_last2_se)\n",
    "df_tr_last2_se3.columns=['UID','tr_last2_se3']\n",
    "\n",
    "df_tr_last3_se3=df_tr[['UID','tr_time2']].groupby(['UID'],as_index=False).agg(fun_last3_se)\n",
    "df_tr_last3_se3.columns=['UID','tr_last3_se3']\n",
    "\n",
    "df_tr_last4_se3=df_tr[['UID','tr_time2']].groupby(['UID'],as_index=False).agg(fun_last4_se)\n",
    "df_tr_last4_se3.columns=['UID','tr_last4_se3']\n",
    "\n",
    "df_tr_last5_se3=df_tr[['UID','tr_time2']].groupby(['UID'],as_index=False).agg(fun_last5_se)\n",
    "df_tr_last5_se3.columns=['UID','tr_last5_se3']\n",
    "\n",
    "df_tr_last6_se3=df_tr[['UID','tr_time2']].groupby(['UID'],as_index=False).agg(fun_last6_se)\n",
    "df_tr_last6_se3.columns=['UID','tr_last6_se3']\n",
    "\n",
    "df_tr_last7_se3=df_tr[['UID','tr_time2']].groupby(['UID'],as_index=False).agg(fun_last7_se)\n",
    "df_tr_last7_se3.columns=['UID','tr_last7_se3']"
   ]
  },
  {
   "cell_type": "code",
   "execution_count": null,
   "metadata": {
    "ExecuteTime": {
     "end_time": "2018-12-25T08:38:37.769430Z",
     "start_time": "2018-12-25T08:38:37.686426Z"
    }
   },
   "outputs": [],
   "source": []
  },
  {
   "cell_type": "code",
   "execution_count": null,
   "metadata": {
    "ExecuteTime": {
     "end_time": "2019-01-10T09:13:29.675906Z",
     "start_time": "2019-01-10T09:13:22.323Z"
    }
   },
   "outputs": [],
   "source": [
    "df_tr_last2_day2.head()"
   ]
  },
  {
   "cell_type": "code",
   "execution_count": null,
   "metadata": {
    "ExecuteTime": {
     "end_time": "2019-01-10T09:13:29.676906Z",
     "start_time": "2019-01-10T09:13:22.328Z"
    }
   },
   "outputs": [],
   "source": [
    "data_train5.shape"
   ]
  },
  {
   "cell_type": "code",
   "execution_count": null,
   "metadata": {
    "ExecuteTime": {
     "end_time": "2019-01-10T09:13:29.676906Z",
     "start_time": "2019-01-10T09:13:22.334Z"
    }
   },
   "outputs": [],
   "source": [
    "data_train5.head()"
   ]
  },
  {
   "cell_type": "code",
   "execution_count": null,
   "metadata": {
    "ExecuteTime": {
     "end_time": "2019-01-10T09:13:29.677906Z",
     "start_time": "2019-01-10T09:13:22.338Z"
    }
   },
   "outputs": [],
   "source": [
    "data_train6=data_train5"
   ]
  },
  {
   "cell_type": "code",
   "execution_count": null,
   "metadata": {
    "ExecuteTime": {
     "end_time": "2019-01-10T09:13:29.678906Z",
     "start_time": "2019-01-10T09:13:22.344Z"
    }
   },
   "outputs": [],
   "source": [
    "data_train6=data_train6.merge(df_tr_last_day_se2,how='left',on='UID')\n",
    "data_train6=data_train6.merge(df_tr_last2_day_se2,how='left',on='UID')\n",
    "data_train6=data_train6.merge(df_tr_last3_day_se2,how='left',on='UID')"
   ]
  },
  {
   "cell_type": "code",
   "execution_count": null,
   "metadata": {
    "ExecuteTime": {
     "end_time": "2019-01-10T09:13:29.679906Z",
     "start_time": "2019-01-10T09:13:22.349Z"
    }
   },
   "outputs": [],
   "source": [
    "data_train6.iloc[:5,-25:-15]"
   ]
  },
  {
   "cell_type": "code",
   "execution_count": null,
   "metadata": {
    "ExecuteTime": {
     "end_time": "2019-01-10T09:13:29.679906Z",
     "start_time": "2019-01-10T09:13:22.354Z"
    }
   },
   "outputs": [],
   "source": [
    "data_train6=data_train6.merge(df_tr_last_day2,how='left',on='UID')\n",
    "data_train6=data_train6.merge(df_tr_last2_day2,how='left',on='UID')\n",
    "data_train6=data_train6.merge(df_tr_last3_day2,how='left',on='UID')"
   ]
  },
  {
   "cell_type": "code",
   "execution_count": null,
   "metadata": {
    "ExecuteTime": {
     "end_time": "2019-01-10T09:13:29.680906Z",
     "start_time": "2019-01-10T09:13:22.358Z"
    }
   },
   "outputs": [],
   "source": [
    "df_op['day']='2017-10-'+df_op['day'].apply(lambda x:str(x) if x>=10 else '0'+str(x))"
   ]
  },
  {
   "cell_type": "code",
   "execution_count": null,
   "metadata": {
    "ExecuteTime": {
     "end_time": "2019-01-10T09:13:29.681907Z",
     "start_time": "2019-01-10T09:13:22.364Z"
    }
   },
   "outputs": [],
   "source": [
    "df_op.head()"
   ]
  },
  {
   "cell_type": "code",
   "execution_count": null,
   "metadata": {
    "ExecuteTime": {
     "end_time": "2019-01-10T09:13:29.681907Z",
     "start_time": "2019-01-10T09:13:22.369Z"
    }
   },
   "outputs": [],
   "source": [
    "df_op['time1']=df_op['day']+' '+df_op['time']\n",
    "df_op['time2']=df_op['time1'].apply(lambda x:pd.to_datetime(x,format='%Y-%m-%d %H:%M:%S'))"
   ]
  },
  {
   "cell_type": "code",
   "execution_count": null,
   "metadata": {
    "ExecuteTime": {
     "end_time": "2019-01-10T09:13:29.682907Z",
     "start_time": "2019-01-10T09:13:22.377Z"
    }
   },
   "outputs": [],
   "source": [
    "df_op.head()"
   ]
  },
  {
   "cell_type": "code",
   "execution_count": null,
   "metadata": {
    "ExecuteTime": {
     "end_time": "2019-01-10T09:13:29.683907Z",
     "start_time": "2019-01-10T09:13:22.381Z"
    }
   },
   "outputs": [],
   "source": [
    "df_op.info(memory_usage='deep')"
   ]
  },
  {
   "cell_type": "code",
   "execution_count": null,
   "metadata": {
    "ExecuteTime": {
     "end_time": "2019-01-10T09:13:29.683907Z",
     "start_time": "2019-01-10T09:13:22.386Z"
    }
   },
   "outputs": [],
   "source": [
    "df_op['op_day']=df_op['time2'].apply(lambda x:x.day)"
   ]
  },
  {
   "cell_type": "code",
   "execution_count": null,
   "metadata": {
    "ExecuteTime": {
     "end_time": "2019-01-10T09:13:29.684907Z",
     "start_time": "2019-01-10T09:13:22.391Z"
    }
   },
   "outputs": [],
   "source": [
    "df_op_last_se_new=df_op[['UID','success','time2']].groupby(['UID','success'],as_index=False).agg(fun_last_se)"
   ]
  },
  {
   "cell_type": "code",
   "execution_count": null,
   "metadata": {
    "ExecuteTime": {
     "end_time": "2019-01-10T09:13:29.685907Z",
     "start_time": "2019-01-10T09:13:22.396Z"
    }
   },
   "outputs": [],
   "source": [
    "df_op_last_se_new.head()"
   ]
  },
  {
   "cell_type": "code",
   "execution_count": null,
   "metadata": {
    "ExecuteTime": {
     "end_time": "2019-01-10T09:13:29.686907Z",
     "start_time": "2019-01-10T09:13:22.402Z"
    }
   },
   "outputs": [],
   "source": [
    "pd.pivot_table(df_op_last_se_new,index=['UID'],values=['time2'],columns=['success'],aggfunc=['min','max','mean','median']).head()"
   ]
  },
  {
   "cell_type": "code",
   "execution_count": null,
   "metadata": {
    "ExecuteTime": {
     "end_time": "2019-01-10T09:13:29.686907Z",
     "start_time": "2019-01-10T09:13:22.407Z"
    }
   },
   "outputs": [],
   "source": [
    "############################################################ last sec per day\n",
    "\n",
    "df_op_last_day_se=df_op[['UID','success','op_day','time2']].groupby(['UID','success','op_day'],as_index=False).agg(fun_last_se)\n",
    "df_op_last_day_se2=pd.pivot_table(df_op_last_day_se,index=['UID'],values=['time2'],columns=['success'],aggfunc=['min','max','mean','median'])\n",
    "df_op_last_day_se2.columns=['_'.join(('df_op_last_day_se2',str(k),i)) for i,j,k in df_op_last_day_se2.columns]\n",
    "\n",
    "df_op_last2_day_se=df_op[['UID','success','op_day','time2']].groupby(['UID','success','op_day'],as_index=False).agg(fun_last2_se)\n",
    "df_op_last2_day_se2=pd.pivot_table(df_op_last2_day_se,index=['UID'],values=['time2'],columns=['success'],aggfunc=['min','max','mean','median'])\n",
    "df_op_last2_day_se2.columns=['_'.join(('df_op_last2_day_se2',str(k),i)) for i,j,k in df_op_last2_day_se2.columns]\n",
    "\n",
    "df_op_last3_day_se=df_op[['UID','success','op_day','time2']].groupby(['UID','success','op_day'],as_index=False).agg(fun_last3_se)\n",
    "df_op_last3_day_se2=pd.pivot_table(df_op_last3_day_se,index=['UID'],values=['time2'],columns=['success'],aggfunc=['min','max','mean','median'])\n",
    "df_op_last3_day_se2.columns=['_'.join(('df_op_last3_day_se2',str(k),i)) for i,j,k in df_op_last3_day_se2.columns]\n",
    "\n",
    "df_op_last4_day_se=df_op[['UID','success','op_day','time2']].groupby(['UID','success','op_day'],as_index=False).agg(fun_last4_se)\n",
    "df_op_last4_day_se2=pd.pivot_table(df_op_last4_day_se,index=['UID'],values=['time2'],columns=['success'],aggfunc=['min','max','mean','median'])\n",
    "df_op_last4_day_se2.columns=['_'.join(('df_op_last4_day_se2',str(k),i)) for i,j,k in df_op_last4_day_se2.columns]\n",
    "\n",
    "df_op_last5_day_se=df_op[['UID','success','op_day','time2']].groupby(['UID','success','op_day'],as_index=False).agg(fun_last5_se)\n",
    "df_op_last5_day_se2=pd.pivot_table(df_op_last5_day_se,index=['UID'],values=['time2'],columns=['success'],aggfunc=['min','max','mean','median'])\n",
    "df_op_last5_day_se2.columns=['_'.join(('df_op_last5_day_se2',str(k),i)) for i,j,k in df_op_last5_day_se2.columns]\n",
    "\n",
    "df_op_last6_day_se=df_op[['UID','success','op_day','time2']].groupby(['UID','success','op_day'],as_index=False).agg(fun_last6_se)\n",
    "df_op_last6_day_se2=pd.pivot_table(df_op_last6_day_se,index=['UID'],values=['time2'],columns=['success'],aggfunc=['min','max','mean','median'])\n",
    "df_op_last6_day_se2.columns=['_'.join(('df_op_last6_day_se2',str(k),i)) for i,j,k in df_op_last6_day_se2.columns]\n",
    "\n",
    "df_op_last7_day_se=df_op[['UID','success','op_day','time2']].groupby(['UID','success','op_day'],as_index=False).agg(fun_last7_se)\n",
    "df_op_last7_day_se2=pd.pivot_table(df_op_last7_day_se,index=['UID'],values=['time2'],columns=['success'],aggfunc=['min','max','mean','median'])\n",
    "df_op_last7_day_se2.columns=['_'.join(('df_op_last7_day_se2',str(k),i)) for i,j,k in df_op_last7_day_se2.columns]\n",
    "\n",
    "\n",
    "#########################################################  last sec all day\n",
    "\n",
    "df_op_last_se=df_op[['UID','success','time2']].groupby(['UID','success'],as_index=False).agg(fun_last_se)\n",
    "df_op_last_se2=pd.pivot_table(df_op_last_se,index=['UID'],values=['time2'],columns=['success'])\n",
    "df_op_last_se2.columns=['_'.join(('df_op_last_se2',str(k))) for i,k in df_op_last_se2.columns]\n",
    "\n",
    "df_op_last2_se=df_op[['UID','success','time2']].groupby(['UID','success'],as_index=False).agg(fun_last2_se)\n",
    "df_op_last2_se2=pd.pivot_table(df_op_last2_se,index=['UID'],values=['time2'],columns=['success'])\n",
    "df_op_last2_se2.columns=['_'.join(('df_op_last2_se2',str(k))) for i,k in df_op_last2_se2.columns]\n",
    "\n",
    "df_op_last3_se=df_op[['UID','success','time2']].groupby(['UID','success'],as_index=False).agg(fun_last3_se)\n",
    "df_op_last3_se2=pd.pivot_table(df_op_last3_se,index=['UID'],values=['time2'],columns=['success'])\n",
    "df_op_last3_se2.columns=['_'.join(('df_op_last3_se2',str(k))) for i,k in df_op_last3_se2.columns]\n",
    "###\n",
    "df_op_last4_se=df_op[['UID','success','time2']].groupby(['UID','success'],as_index=False).agg(fun_last4_se)\n",
    "df_op_last4_se2=pd.pivot_table(df_op_last4_se,index=['UID'],values=['time2'],columns=['success'])\n",
    "df_op_last4_se2.columns=['_'.join(('df_op_last4_se2',str(k))) for i,k in df_op_last4_se2.columns]\n",
    "\n",
    "df_op_last5_se=df_op[['UID','success','time2']].groupby(['UID','success'],as_index=False).agg(fun_last5_se)\n",
    "df_op_last5_se2=pd.pivot_table(df_op_last5_se,index=['UID'],values=['time2'],columns=['success'])\n",
    "df_op_last5_se2.columns=['_'.join(('df_op_last5_se2',str(k))) for i,k in df_op_last5_se2.columns]\n",
    "\n",
    "df_op_last6_se=df_op[['UID','success','time2']].groupby(['UID','success'],as_index=False).agg(fun_last6_se)\n",
    "df_op_last6_se2=pd.pivot_table(df_op_last6_se,index=['UID'],values=['time2'],columns=['success'])\n",
    "df_op_last6_se2.columns=['_'.join(('df_op_last6_se2',str(k))) for i,k in df_op_last6_se2.columns]\n",
    "\n",
    "df_op_last7_se=df_op[['UID','success','time2']].groupby(['UID','success'],as_index=False).agg(fun_last7_se)\n",
    "df_op_last7_se2=pd.pivot_table(df_op_last7_se,index=['UID'],values=['time2'],columns=['success'])\n",
    "df_op_last7_se2.columns=['_'.join(('df_op_last7_se2',str(k))) for i,k in df_op_last7_se2.columns]\n"
   ]
  },
  {
   "cell_type": "code",
   "execution_count": null,
   "metadata": {
    "ExecuteTime": {
     "end_time": "2018-12-17T07:34:11.920252Z",
     "start_time": "2018-12-17T07:34:11.824247Z"
    }
   },
   "outputs": [],
   "source": []
  },
  {
   "cell_type": "code",
   "execution_count": null,
   "metadata": {
    "ExecuteTime": {
     "end_time": "2019-01-10T09:13:29.689907Z",
     "start_time": "2019-01-10T09:13:22.415Z"
    }
   },
   "outputs": [],
   "source": [
    "######################   last 1,2,3 day\n",
    "df_op_last_day=df_op[['UID','success','time2']].groupby(['UID','success'],as_index=False).agg(fun_last_day)\n",
    "df_op_last_day2=pd.pivot_table(df_op_last_day,index=['UID'],values=['time2'],columns=['success'])\n",
    "df_op_last_day2.columns=['_'.join(('df_op_last_day2',str(j))) for i,j in df_op_last_day2.columns]\n",
    "\n",
    "df_op_last2_day=df_op[['UID','success','time2']].groupby(['UID','success'],as_index=False).agg(fun_last2_day)\n",
    "df_op_last2_day2=pd.pivot_table(df_op_last2_day,index=['UID'],values=['time2'],columns=['success'])\n",
    "df_op_last2_day2.columns=['_'.join(('df_op_last2_day2',str(j))) for i,j in df_op_last2_day2.columns]\n",
    "\n",
    "df_op_last3_day=df_op[['UID','success','time2']].groupby(['UID','success'],as_index=False).agg(fun_last3_day)\n",
    "df_op_last3_day2=pd.pivot_table(df_op_last3_day,index=['UID'],values=['time2'],columns=['success'])\n",
    "df_op_last3_day2.columns=['_'.join(('df_op_last3_day2',str(j))) for i,j in df_op_last3_day2.columns]\n",
    "###\n",
    "df_op_last4_day=df_op[['UID','success','time2']].groupby(['UID','success'],as_index=False).agg(fun_last4_day)\n",
    "df_op_last4_day2=pd.pivot_table(df_op_last4_day,index=['UID'],values=['time2'],columns=['success'])\n",
    "df_op_last4_day2.columns=['_'.join(('df_op_last4_day2',str(j))) for i,j in df_op_last4_day2.columns]\n",
    "\n",
    "df_op_last5_day=df_op[['UID','success','time2']].groupby(['UID','success'],as_index=False).agg(fun_last5_day)\n",
    "df_op_last5_day2=pd.pivot_table(df_op_last5_day,index=['UID'],values=['time2'],columns=['success'])\n",
    "df_op_last5_day2.columns=['_'.join(('df_op_last5_day2',str(j))) for i,j in df_op_last5_day2.columns]\n",
    "\n",
    "df_op_last6_day=df_op[['UID','success','time2']].groupby(['UID','success'],as_index=False).agg(fun_last6_day)\n",
    "df_op_last6_day2=pd.pivot_table(df_op_last6_day,index=['UID'],values=['time2'],columns=['success'])\n",
    "df_op_last6_day2.columns=['_'.join(('df_op_last6_day2',str(j))) for i,j in df_op_last6_day2.columns]\n",
    "\n",
    "df_op_last7_day=df_op[['UID','success','time2']].groupby(['UID','success'],as_index=False).agg(fun_last7_day)\n",
    "df_op_last7_day2=pd.pivot_table(df_op_last7_day,index=['UID'],values=['time2'],columns=['success'])\n",
    "df_op_last7_day2.columns=['_'.join(('df_op_last7_day2',str(j))) for i,j in df_op_last7_day2.columns]\n",
    "\n",
    "\n"
   ]
  },
  {
   "cell_type": "code",
   "execution_count": null,
   "metadata": {},
   "outputs": [],
   "source": []
  },
  {
   "cell_type": "code",
   "execution_count": null,
   "metadata": {
    "ExecuteTime": {
     "end_time": "2019-01-10T09:13:29.690907Z",
     "start_time": "2019-01-10T09:13:22.424Z"
    }
   },
   "outputs": [],
   "source": [
    "df_op['mode'].describe()"
   ]
  },
  {
   "cell_type": "code",
   "execution_count": null,
   "metadata": {
    "ExecuteTime": {
     "end_time": "2019-01-10T09:13:29.691907Z",
     "start_time": "2019-01-10T09:13:22.436Z"
    }
   },
   "outputs": [],
   "source": [
    "####################################### op last1,2,3 sec not day\n",
    "df_op_last_se3=df_op[['UID','time2']].groupby(['UID'],as_index=False).agg(fun_last_se)\n",
    "df_op_last_se3.columns=['UID','op_last_se3']\n",
    "\n",
    "df_op_last2_se3=df_op[['UID','time2']].groupby(['UID'],as_index=False).agg(fun_last2_se)\n",
    "df_op_last2_se3.columns=['UID','op_last2_se3']\n",
    "\n",
    "df_op_last3_se3=df_op[['UID','time2']].groupby(['UID'],as_index=False).agg(fun_last3_se)\n",
    "df_op_last3_se3.columns=['UID','op_last3_se3']\n",
    "###\n",
    "df_op_last4_se3=df_op[['UID','time2']].groupby(['UID'],as_index=False).agg(fun_last4_se)\n",
    "df_op_last4_se3.columns=['UID','op_last4_se3']\n",
    "\n",
    "df_op_last5_se3=df_op[['UID','time2']].groupby(['UID'],as_index=False).agg(fun_last5_se)\n",
    "df_op_last5_se3.columns=['UID','op_last5_se3']\n",
    "\n",
    "df_op_last6_se3=df_op[['UID','time2']].groupby(['UID'],as_index=False).agg(fun_last6_se)\n",
    "df_op_last6_se3.columns=['UID','op_last6_se3']\n",
    "\n",
    "df_op_last7_se3=df_op[['UID','time2']].groupby(['UID'],as_index=False).agg(fun_last7_se)\n",
    "df_op_last7_se3.columns=['UID','op_last7_se3']"
   ]
  },
  {
   "cell_type": "code",
   "execution_count": null,
   "metadata": {},
   "outputs": [],
   "source": []
  },
  {
   "cell_type": "code",
   "execution_count": null,
   "metadata": {},
   "outputs": [],
   "source": []
  },
  {
   "cell_type": "code",
   "execution_count": null,
   "metadata": {},
   "outputs": [],
   "source": []
  },
  {
   "cell_type": "code",
   "execution_count": null,
   "metadata": {
    "ExecuteTime": {
     "end_time": "2019-01-10T09:13:29.691907Z",
     "start_time": "2019-01-10T09:13:22.456Z"
    }
   },
   "outputs": [],
   "source": [
    "data_train7=data_train6.copy()"
   ]
  },
  {
   "cell_type": "code",
   "execution_count": null,
   "metadata": {
    "ExecuteTime": {
     "end_time": "2019-01-10T09:13:29.692907Z",
     "start_time": "2019-01-10T09:13:22.461Z"
    }
   },
   "outputs": [],
   "source": [
    "data_train7=data_train7.merge(df_op_last_day_se2,how='left',on='UID')\n",
    "data_train7=data_train7.merge(df_op_last2_day_se2,how='left',on='UID')\n",
    "data_train7=data_train7.merge(df_op_last3_day_se2,how='left',on='UID')\n",
    "\n",
    "data_train7=data_train7.merge(df_op_last_day2,how='left',on='UID')\n",
    "data_train7=data_train7.merge(df_op_last2_day2,how='left',on='UID')\n",
    "data_train7=data_train7.merge(df_op_last3_day2,how='left',on='UID')"
   ]
  },
  {
   "cell_type": "code",
   "execution_count": null,
   "metadata": {
    "ExecuteTime": {
     "end_time": "2019-01-10T09:13:29.693907Z",
     "start_time": "2019-01-10T09:13:22.467Z"
    }
   },
   "outputs": [],
   "source": [
    "data_train7.head()"
   ]
  },
  {
   "cell_type": "code",
   "execution_count": null,
   "metadata": {
    "ExecuteTime": {
     "end_time": "2019-01-10T09:13:29.693907Z",
     "start_time": "2019-01-10T09:13:22.473Z"
    }
   },
   "outputs": [],
   "source": [
    "data_train7=data_train7.merge(df_op_last_se2,how='left',on='UID')\n",
    "data_train7=data_train7.merge(df_op_last2_se2,how='left',on='UID')\n",
    "data_train7=data_train7.merge(df_op_last3_se2,how='left',on='UID')"
   ]
  },
  {
   "cell_type": "code",
   "execution_count": null,
   "metadata": {},
   "outputs": [],
   "source": []
  },
  {
   "cell_type": "code",
   "execution_count": null,
   "metadata": {
    "ExecuteTime": {
     "end_time": "2019-01-10T09:13:29.694907Z",
     "start_time": "2019-01-10T09:13:22.483Z"
    }
   },
   "outputs": [],
   "source": [
    "df_tr.head()"
   ]
  },
  {
   "cell_type": "code",
   "execution_count": null,
   "metadata": {
    "ExecuteTime": {
     "end_time": "2019-01-10T09:13:29.694907Z",
     "start_time": "2019-01-10T09:13:22.494Z"
    }
   },
   "outputs": [],
   "source": [
    "df_tr[['UID','tr_channel','tr_time2','tr_trans_amt']].groupby(['UID','tr_channel']) \\\n",
    ".apply(lambda x:x.sort_values(by='tr_time2')) "
   ]
  },
  {
   "cell_type": "code",
   "execution_count": null,
   "metadata": {
    "ExecuteTime": {
     "end_time": "2019-01-10T09:13:29.695907Z",
     "start_time": "2019-01-10T09:13:22.504Z"
    }
   },
   "outputs": [],
   "source": [
    "################## for amt  tr delta\n",
    "df_tr[['UID','tr_channel','tr_time2','tr_trans_amt']].groupby(['UID','tr_channel']) \\\n",
    ".apply(lambda x:x.sort_values(by='tr_time2')\n",
    "       .apply(lambda x:x.iloc[-1] - x.iloc[-2] if x.shape[0]>=2 else np.nan ))\n",
    "\n"
   ]
  },
  {
   "cell_type": "code",
   "execution_count": null,
   "metadata": {
    "ExecuteTime": {
     "end_time": "2019-01-10T09:13:29.696907Z",
     "start_time": "2019-01-10T09:13:22.509Z"
    }
   },
   "outputs": [],
   "source": [
    "tr_amt_channnel_last1=df_tr[['UID','tr_channel','tr_time2','tr_trans_amt']].groupby(['UID','tr_channel']) \\\n",
    ".apply(lambda x:x.sort_values(by='tr_time2')\n",
    "       .apply(lambda x:x.iloc[-1] - x.iloc[-2] if x.shape[0]>=2 else np.nan ))['tr_trans_amt']"
   ]
  },
  {
   "cell_type": "code",
   "execution_count": null,
   "metadata": {
    "ExecuteTime": {
     "end_time": "2019-01-10T09:13:29.697907Z",
     "start_time": "2019-01-10T09:13:22.516Z"
    }
   },
   "outputs": [],
   "source": [
    "tr_amt_channnel_last1.head()"
   ]
  },
  {
   "cell_type": "code",
   "execution_count": null,
   "metadata": {},
   "outputs": [],
   "source": []
  },
  {
   "cell_type": "code",
   "execution_count": null,
   "metadata": {
    "ExecuteTime": {
     "end_time": "2019-01-10T09:13:29.697907Z",
     "start_time": "2019-01-10T09:13:22.527Z"
    }
   },
   "outputs": [],
   "source": [
    "tr_amt_channnel_last1=df_tr[['UID','tr_channel','tr_time2','tr_trans_amt']].groupby(['UID','tr_channel']) \\\n",
    ".apply(lambda x:x.sort_values(by='tr_time2')\n",
    "       .apply(lambda x:x.iloc[-1] - x.iloc[-2] if x.shape[0]>=2 else np.nan ))['tr_trans_amt']\n",
    "\n",
    "uid=[]\n",
    "delta=[]\n",
    "channel=[]\n",
    "tr_amt_channel_last11=pd.DataFrame()\n",
    "for (i ,k) in tr_amt_channnel_last1.index.values:\n",
    "    uid.append(i)\n",
    "    channel.append(k)\n",
    "tr_amt_channel_last11['UID']=uid\n",
    "tr_amt_channel_last11['tr_channel']=channel\n",
    "tr_amt_channel_last11['tr_amt_delta1']=tr_amt_channnel_last1.values\n",
    "\n",
    "tr_amt_channel_last111=tr_amt_channel_last11.pivot_table(index='UID',values='tr_amt_delta1',columns='tr_channel')\n",
    "tr_amt_channel_last111.columns=['_'.join(('tr_amt_channel_last1',str(k))) for k in tr_amt_channel_last111.columns]"
   ]
  },
  {
   "cell_type": "code",
   "execution_count": null,
   "metadata": {
    "ExecuteTime": {
     "end_time": "2019-01-10T09:13:29.698907Z",
     "start_time": "2019-01-10T09:13:22.533Z"
    }
   },
   "outputs": [],
   "source": [
    "tr_amt_channnel_last1.head()"
   ]
  },
  {
   "cell_type": "code",
   "execution_count": null,
   "metadata": {
    "ExecuteTime": {
     "end_time": "2019-01-10T09:13:29.699908Z",
     "start_time": "2019-01-10T09:13:22.542Z"
    }
   },
   "outputs": [],
   "source": [
    "tr_amt_channnel_last2=df_tr[['UID','tr_channel','tr_time2','tr_trans_amt']].groupby(['UID','tr_channel']) \\\n",
    ".apply(lambda x:x.sort_values(by='tr_time2')\n",
    "       .apply(lambda x:x.iloc[-2] - x.iloc[-3] if x.shape[0]>=3 else np.nan ))['tr_trans_amt']\n",
    "\n",
    "uid=[]\n",
    "delta=[]\n",
    "channel=[]\n",
    "tr_amt_channel_last22=pd.DataFrame()\n",
    "for (i ,k) in tr_amt_channnel_last2.index.values:\n",
    "    uid.append(i)\n",
    "    channel.append(k)\n",
    "tr_amt_channel_last22['UID']=uid\n",
    "tr_amt_channel_last22['tr_channel']=channel\n",
    "tr_amt_channel_last22['tr_amt_delta2']=tr_amt_channnel_last2.values\n",
    "\n",
    "tr_amt_channel_last222=tr_amt_channel_last22.pivot_table(index='UID',values='tr_amt_delta2',columns='tr_channel')\n",
    "tr_amt_channel_last222.columns=['_'.join(('tr_amt_channel_last2',str(k))) for k in tr_amt_channel_last222.columns]"
   ]
  },
  {
   "cell_type": "code",
   "execution_count": null,
   "metadata": {
    "ExecuteTime": {
     "end_time": "2019-01-10T09:13:29.699908Z",
     "start_time": "2019-01-10T09:13:22.549Z"
    }
   },
   "outputs": [],
   "source": [
    "tr_amt_channel_last222.head()"
   ]
  },
  {
   "cell_type": "code",
   "execution_count": null,
   "metadata": {
    "ExecuteTime": {
     "end_time": "2019-01-10T09:13:29.700908Z",
     "start_time": "2019-01-10T09:13:22.555Z"
    }
   },
   "outputs": [],
   "source": [
    "tr_amt_channnel_last3=df_tr[['UID','tr_channel','tr_time2','tr_trans_amt']].groupby(['UID','tr_channel']) \\\n",
    ".apply(lambda x:x.sort_values(by='tr_time2')\n",
    "       .apply(lambda x:x.iloc[-3] - x.iloc[-4] if x.shape[0]>=4 else np.nan ))['tr_trans_amt']\n",
    "\n",
    "uid=[]\n",
    "delta=[]\n",
    "channel=[]\n",
    "tr_amt_channel_last33=pd.DataFrame()\n",
    "for (i ,k) in tr_amt_channnel_last3.index.values:\n",
    "    uid.append(i)\n",
    "    channel.append(k)\n",
    "tr_amt_channel_last33['UID']=uid\n",
    "tr_amt_channel_last33['tr_channel']=channel\n",
    "tr_amt_channel_last33['tr_amt_delta3']=tr_amt_channnel_last3.values\n",
    "\n",
    "tr_amt_channel_last333=tr_amt_channel_last33.pivot_table(index='UID',values='tr_amt_delta3',columns='tr_channel')\n",
    "tr_amt_channel_last333.columns=['_'.join(('tr_amt_channel_last3',str(k))) for k in tr_amt_channel_last333.columns]"
   ]
  },
  {
   "cell_type": "code",
   "execution_count": null,
   "metadata": {
    "ExecuteTime": {
     "end_time": "2019-01-10T09:13:29.701908Z",
     "start_time": "2019-01-10T09:13:22.562Z"
    }
   },
   "outputs": [],
   "source": [
    "tr_amt_channnel_last4=df_tr[['UID','tr_channel','tr_time2','tr_trans_amt']].groupby(['UID','tr_channel']) \\\n",
    ".apply(lambda x:x.sort_values(by='tr_time2')\n",
    "       .apply(lambda x:x.iloc[-4] - x.iloc[-5] if x.shape[0]>=5 else np.nan ))['tr_trans_amt']\n",
    "\n",
    "uid=[]\n",
    "delta=[]\n",
    "channel=[]\n",
    "tr_amt_channel_last44=pd.DataFrame()\n",
    "for (i ,k) in tr_amt_channnel_last4.index.values:\n",
    "    uid.append(i)\n",
    "    channel.append(k)\n",
    "tr_amt_channel_last44['UID']=uid\n",
    "tr_amt_channel_last44['tr_channel']=channel\n",
    "tr_amt_channel_last44['tr_amt_delta4']=tr_amt_channnel_last4.values\n",
    "\n",
    "tr_amt_channel_last444=tr_amt_channel_last44.pivot_table(index='UID',values='tr_amt_delta4',columns='tr_channel')\n",
    "tr_amt_channel_last444.columns=['_'.join(('tr_amt_channel_last4',str(k))) for k in tr_amt_channel_last444.columns]"
   ]
  },
  {
   "cell_type": "code",
   "execution_count": null,
   "metadata": {
    "ExecuteTime": {
     "end_time": "2019-01-10T09:13:29.701908Z",
     "start_time": "2019-01-10T09:13:22.569Z"
    }
   },
   "outputs": [],
   "source": [
    "tr_amt_channnel_last5=df_tr[['UID','tr_channel','tr_time2','tr_trans_amt']].groupby(['UID','tr_channel']) \\\n",
    ".apply(lambda x:x.sort_values(by='tr_time2')\n",
    "       .apply(lambda x:x.iloc[-5] - x.iloc[-6] if x.shape[0]>=6 else np.nan ))['tr_trans_amt']\n",
    "\n",
    "uid=[]\n",
    "delta=[]\n",
    "channel=[]\n",
    "tr_amt_channel_last55=pd.DataFrame()\n",
    "for (i ,k) in tr_amt_channnel_last5.index.values:\n",
    "    uid.append(i)\n",
    "    channel.append(k)\n",
    "tr_amt_channel_last55['UID']=uid\n",
    "tr_amt_channel_last55['tr_channel']=channel\n",
    "tr_amt_channel_last55['tr_amt_delta5']=tr_amt_channnel_last5.values\n",
    "\n",
    "tr_amt_channel_last555=tr_amt_channel_last55.pivot_table(index='UID',values='tr_amt_delta5',columns='tr_channel')\n",
    "tr_amt_channel_last555.columns=['_'.join(('tr_amt_channel_last5',str(k))) for k in tr_amt_channel_last555.columns]"
   ]
  },
  {
   "cell_type": "code",
   "execution_count": null,
   "metadata": {
    "ExecuteTime": {
     "end_time": "2019-01-10T09:13:29.702908Z",
     "start_time": "2019-01-10T09:13:22.574Z"
    }
   },
   "outputs": [],
   "source": [
    "tr_amt_channnel_last6=df_tr[['UID','tr_channel','tr_time2','tr_trans_amt']].groupby(['UID','tr_channel']) \\\n",
    ".apply(lambda x:x.sort_values(by='tr_time2')\n",
    "       .apply(lambda x:x.iloc[-6] - x.iloc[-7] if x.shape[0]>=7 else np.nan ))['tr_trans_amt']\n",
    "\n",
    "uid=[]\n",
    "delta=[]\n",
    "channel=[]\n",
    "tr_amt_channel_last66=pd.DataFrame()\n",
    "for (i ,k) in tr_amt_channnel_last6.index.values:\n",
    "    uid.append(i)\n",
    "    channel.append(k)\n",
    "tr_amt_channel_last66['UID']=uid\n",
    "tr_amt_channel_last66['tr_channel']=channel\n",
    "tr_amt_channel_last66['tr_amt_delta6']=tr_amt_channnel_last6.values\n",
    "\n",
    "tr_amt_channel_last666=tr_amt_channel_last66.pivot_table(index='UID',values='tr_amt_delta6',columns='tr_channel')\n",
    "tr_amt_channel_last666.columns=['_'.join(('tr_amt_channel_last6',str(k))) for k in tr_amt_channel_last666.columns]\n",
    "\n"
   ]
  },
  {
   "cell_type": "code",
   "execution_count": null,
   "metadata": {
    "ExecuteTime": {
     "end_time": "2019-01-10T09:13:29.703908Z",
     "start_time": "2019-01-10T09:13:22.580Z"
    }
   },
   "outputs": [],
   "source": [
    "tr_amt_channnel_last7=df_tr[['UID','tr_channel','tr_time2','tr_trans_amt']].groupby(['UID','tr_channel']) \\\n",
    ".apply(lambda x:x.sort_values(by='tr_time2')\n",
    "       .apply(lambda x:x.iloc[-7] - x.iloc[-8] if x.shape[0]>=8 else np.nan ))['tr_trans_amt']\n",
    "\n",
    "uid=[]\n",
    "delta=[]\n",
    "channel=[]\n",
    "tr_amt_channel_last77=pd.DataFrame()\n",
    "for (i ,k) in tr_amt_channnel_last7.index.values:\n",
    "    uid.append(i)\n",
    "    channel.append(k)\n",
    "tr_amt_channel_last77['UID']=uid\n",
    "tr_amt_channel_last77['tr_channel']=channel\n",
    "tr_amt_channel_last77['tr_amt_delta7']=tr_amt_channnel_last7.values\n",
    "\n",
    "tr_amt_channel_last777=tr_amt_channel_last77.pivot_table(index='UID',values='tr_amt_delta7',columns='tr_channel')\n",
    "tr_amt_channel_last777.columns=['_'.join(('tr_amt_channel_last7',str(k))) for k in tr_amt_channel_last777.columns]"
   ]
  },
  {
   "cell_type": "code",
   "execution_count": null,
   "metadata": {
    "ExecuteTime": {
     "end_time": "2019-01-10T09:13:29.705908Z",
     "start_time": "2019-01-10T09:13:22.586Z"
    }
   },
   "outputs": [],
   "source": [
    "tr_amt_channel_last77.head()"
   ]
  },
  {
   "cell_type": "code",
   "execution_count": null,
   "metadata": {},
   "outputs": [],
   "source": []
  },
  {
   "cell_type": "code",
   "execution_count": null,
   "metadata": {
    "ExecuteTime": {
     "end_time": "2019-01-10T09:13:29.706908Z",
     "start_time": "2019-01-10T09:13:22.711Z"
    }
   },
   "outputs": [],
   "source": [
    "df_tr[df_tr['UID']==10000].sort_values('tr_time2')"
   ]
  },
  {
   "cell_type": "code",
   "execution_count": null,
   "metadata": {
    "ExecuteTime": {
     "end_time": "2019-01-10T09:13:29.706908Z",
     "start_time": "2019-01-10T09:13:22.728Z"
    }
   },
   "outputs": [],
   "source": [
    "df_tr[df_tr['UID']==10021].sort_values('tr_time2')"
   ]
  },
  {
   "cell_type": "code",
   "execution_count": null,
   "metadata": {
    "ExecuteTime": {
     "end_time": "2019-01-10T09:13:29.707908Z",
     "start_time": "2019-01-10T09:13:22.736Z"
    }
   },
   "outputs": [],
   "source": [
    "df_tr[df_tr['UID']==10001].sort_values('tr_time2')"
   ]
  },
  {
   "cell_type": "code",
   "execution_count": null,
   "metadata": {
    "ExecuteTime": {
     "end_time": "2019-01-10T09:13:29.707908Z",
     "start_time": "2019-01-10T09:13:22.742Z"
    },
    "scrolled": true
   },
   "outputs": [],
   "source": [
    "tr_amt_channel_last11.head()"
   ]
  },
  {
   "cell_type": "code",
   "execution_count": null,
   "metadata": {
    "ExecuteTime": {
     "end_time": "2019-01-10T09:13:29.709908Z",
     "start_time": "2019-01-10T09:13:22.746Z"
    }
   },
   "outputs": [],
   "source": [
    "df_tag1[df_tag1['Tag']==1].head()"
   ]
  },
  {
   "cell_type": "code",
   "execution_count": null,
   "metadata": {
    "ExecuteTime": {
     "end_time": "2019-01-10T09:13:29.710908Z",
     "start_time": "2019-01-10T09:13:22.751Z"
    }
   },
   "outputs": [],
   "source": [
    "tr_amt_channnel_last2=df_tr[['UID','tr_channel','tr_time2','tr_bal']].groupby(['UID','tr_channel']) \\\n",
    ".apply(lambda x:x.sort_values(by='tr_time2')\n",
    "       .apply(lambda x:x.iloc[-2] - x.iloc[-3] if x.shape[0]>=3 else np.nan ))['tr_bal']"
   ]
  },
  {
   "cell_type": "code",
   "execution_count": null,
   "metadata": {},
   "outputs": [],
   "source": []
  },
  {
   "cell_type": "code",
   "execution_count": null,
   "metadata": {
    "ExecuteTime": {
     "end_time": "2019-01-10T02:40:32.979396Z",
     "start_time": "2019-01-10T02:40:32.972396Z"
    }
   },
   "outputs": [],
   "source": []
  },
  {
   "cell_type": "code",
   "execution_count": null,
   "metadata": {},
   "outputs": [],
   "source": []
  },
  {
   "cell_type": "code",
   "execution_count": null,
   "metadata": {
    "ExecuteTime": {
     "end_time": "2019-01-10T09:13:29.711908Z",
     "start_time": "2019-01-10T09:13:22.774Z"
    }
   },
   "outputs": [],
   "source": [
    "tr_amt_channel_last11.head()\n",
    "    "
   ]
  },
  {
   "cell_type": "code",
   "execution_count": null,
   "metadata": {},
   "outputs": [],
   "source": []
  },
  {
   "cell_type": "code",
   "execution_count": null,
   "metadata": {
    "ExecuteTime": {
     "end_time": "2019-01-10T09:13:29.711908Z",
     "start_time": "2019-01-10T09:13:22.784Z"
    }
   },
   "outputs": [],
   "source": [
    "tr_bal_channnel_last1=df_tr[['UID','tr_channel','tr_time2','tr_bal']].groupby(['UID','tr_channel']) \\\n",
    ".apply(lambda x:x.sort_values(by='tr_time2')\n",
    "       .apply(lambda x:x.iloc[-1] - x.iloc[-2] if x.shape[0]>=2 else np.nan ))['tr_bal']\n",
    "\n",
    "uid=[]\n",
    "delta=[]\n",
    "channel=[]\n",
    "tr_bal_channel_last11=pd.DataFrame()\n",
    "for (i ,k) in tr_bal_channnel_last1.index.values:\n",
    "    uid.append(i)\n",
    "    channel.append(k)\n",
    "tr_bal_channel_last11['UID']=uid\n",
    "tr_bal_channel_last11['tr_channel']=channel\n",
    "tr_bal_channel_last11['tr_bal_delta1']=tr_bal_channnel_last1.values\n",
    "\n",
    "tr_bal_channel_last111=tr_bal_channel_last11.pivot_table(index='UID',values='tr_bal_delta1',columns='tr_channel')\n",
    "tr_bal_channel_last111.columns=['_'.join(('tr_bal_channel_last1',str(k))) for k in tr_bal_channel_last111.columns]"
   ]
  },
  {
   "cell_type": "code",
   "execution_count": null,
   "metadata": {
    "ExecuteTime": {
     "end_time": "2019-01-10T09:13:29.712908Z",
     "start_time": "2019-01-10T09:13:22.789Z"
    }
   },
   "outputs": [],
   "source": [
    "tr_bal_channel_last111.head()"
   ]
  },
  {
   "cell_type": "code",
   "execution_count": null,
   "metadata": {
    "ExecuteTime": {
     "end_time": "2019-01-10T09:13:29.713908Z",
     "start_time": "2019-01-10T09:13:22.794Z"
    }
   },
   "outputs": [],
   "source": [
    "tr_bal_channnel_last2=df_tr[['UID','tr_channel','tr_time2','tr_bal']].groupby(['UID','tr_channel']) \\\n",
    ".apply(lambda x:x.sort_values(by='tr_time2')\n",
    "       .apply(lambda x:x.iloc[-2] - x.iloc[-3] if x.shape[0]>=2 else np.nan ))['tr_bal']\n",
    "\n",
    "uid=[]\n",
    "delta=[]\n",
    "channel=[]\n",
    "tr_bal_channel_last22=pd.DataFrame()\n",
    "for (i ,k) in tr_bal_channnel_las2.index.values:\n",
    "    uid.append(i)\n",
    "    channel.append(k)\n",
    "tr_bal_channel_last22['UID']=uid\n",
    "tr_bal_channel_last22['tr_channel']=channel\n",
    "tr_bal_channel_last22['tr_bal_delta2']=tr_bal_channnel_last2.values\n",
    "\n",
    "tr_bal_channel_last222=tr_bal_channel_last22.pivot_table(index='UID',values='tr_bal_delta2',columns='tr_channel')\n",
    "tr_bal_channel_last222.columns=['_'.join(('tr_bal_channel_last2',str(k))) for k in tr_bal_channel_last222.columns]"
   ]
  },
  {
   "cell_type": "code",
   "execution_count": null,
   "metadata": {
    "ExecuteTime": {
     "end_time": "2019-01-10T09:13:29.713908Z",
     "start_time": "2019-01-10T09:13:22.800Z"
    }
   },
   "outputs": [],
   "source": [
    "tr_bal_channnel_last3=df_tr[['UID','tr_channel','tr_time2','tr_bal']].groupby(['UID','tr_channel']) \\\n",
    ".apply(lambda x:x.sort_values(by='tr_time2')\n",
    "       .apply(lambda x:x.iloc[-3] - x.iloc[-4] if x.shape[0]>=4 else np.nan ))['tr_bal']\n",
    "\n",
    "uid=[]\n",
    "delta=[]\n",
    "channel=[]\n",
    "tr_bal_channel_last33=pd.DataFrame()\n",
    "for (i ,k) in tr_bal_channnel_last3.index.values:\n",
    "    uid.append(i)\n",
    "    channel.append(k)\n",
    "tr_bal_channel_last33['UID']=uid\n",
    "tr_bal_channel_last33['tr_channel']=channel\n",
    "tr_bal_channel_last33['tr_bal_delta3']=tr_bal_channnel_last3.values\n",
    "\n",
    "tr_bal_channel_last333=tr_bal_channel_last33.pivot_table(index='UID',values='tr_bal_delta1',columns='tr_channel')\n",
    "tr_bal_channel_last333.columns=['_'.join(('tr_bal_channel_last3',str(k))) for k in tr_bal_channel_last333.columns]"
   ]
  },
  {
   "cell_type": "code",
   "execution_count": null,
   "metadata": {
    "ExecuteTime": {
     "end_time": "2019-01-10T09:13:29.714908Z",
     "start_time": "2019-01-10T09:13:22.806Z"
    }
   },
   "outputs": [],
   "source": [
    "tr_bal_channnel_last4=df_tr[['UID','tr_channel','tr_time2','tr_bal']].groupby(['UID','tr_channel']) \\\n",
    ".apply(lambda x:x.sort_values(by='tr_time2')\n",
    "       .apply(lambda x:x.iloc[-4] - x.iloc[-5] if x.shape[0]>=5 else np.nan ))['tr_bal']\n",
    "\n",
    "uid=[]\n",
    "delta=[]\n",
    "channel=[]\n",
    "tr_bal_channel_last44=pd.DataFrame()\n",
    "for (i ,k) in tr_bal_channnel_last4.index.values:\n",
    "    uid.append(i)\n",
    "    channel.append(k)\n",
    "tr_bal_channel_last44['UID']=uid\n",
    "tr_bal_channel_last44['tr_channel']=channel\n",
    "tr_bal_channel_last44['tr_bal_delta4']=tr_bal_channnel_last4.values\n",
    "\n",
    "\n",
    "tr_bal_channel_last444=tr_bal_channel_last44.pivot_table(index='UID',values='tr_bal_delta1',columns='tr_channel')\n",
    "tr_bal_channel_last444.columns=['_'.join(('tr_bal_channel_last4',str(k))) for k in tr_bal_channel_last444.columns]"
   ]
  },
  {
   "cell_type": "code",
   "execution_count": null,
   "metadata": {
    "ExecuteTime": {
     "end_time": "2019-01-10T09:13:29.715908Z",
     "start_time": "2019-01-10T09:13:22.812Z"
    }
   },
   "outputs": [],
   "source": [
    "tr_bal_channnel_last5=df_tr[['UID','tr_channel','tr_time2','tr_bal']].groupby(['UID','tr_channel']) \\\n",
    ".apply(lambda x:x.sort_values(by='tr_time2')\n",
    "       .apply(lambda x:x.iloc[-5] - x.iloc[-6] if x.shape[0]>=6 else np.nan ))['tr_bal']\n",
    "\n",
    "uid=[]\n",
    "delta=[]\n",
    "channel=[]\n",
    "tr_bal_channel_last55=pd.DataFrame()\n",
    "for (i ,k) in tr_bal_channnel_last5.index.values:\n",
    "    uid.append(i)\n",
    "    channel.append(k)\n",
    "tr_bal_channel_last55['UID']=uid\n",
    "tr_bal_channel_last55['tr_channel']=channel\n",
    "tr_bal_channel_last55['tr_bal_delta5']=tr_bal_channnel_last5.values\n",
    "\n",
    "tr_bal_channel_last555=tr_bal_channel_last55.pivot_table(index='UID',values='tr_bal_delta1',columns='tr_channel')\n",
    "tr_bal_channel_last555.columns=['_'.join(('tr_bal_channel_last5',str(k))) for k in tr_bal_channel_last555.columns]"
   ]
  },
  {
   "cell_type": "code",
   "execution_count": null,
   "metadata": {
    "ExecuteTime": {
     "end_time": "2019-01-10T09:13:29.716909Z",
     "start_time": "2019-01-10T09:13:22.818Z"
    }
   },
   "outputs": [],
   "source": [
    "tr_bal_channnel_last6=df_tr[['UID','tr_channel','tr_time2','tr_bal']].groupby(['UID','tr_channel']) \\\n",
    ".apply(lambda x:x.sort_values(by='tr_time2')\n",
    "       .apply(lambda x:x.iloc[-6] - x.iloc[-7] if x.shape[0]>=7 else np.nan ))['tr_bal']\n",
    "\n",
    "uid=[]\n",
    "delta=[]\n",
    "channel=[]\n",
    "tr_bal_channel_last66=pd.DataFrame()\n",
    "for (i ,k) in tr_bal_channnel_last6.index.values:\n",
    "    uid.append(i)\n",
    "    channel.append(k)\n",
    "tr_bal_channel_last66['UID']=uid\n",
    "tr_bal_channel_last66['tr_channel']=channel\n",
    "tr_bal_channel_last66['tr_bal_delta6']=tr_bal_channnel_last6.values\n",
    "\n",
    "tr_bal_channel_last666=tr_bal_channel_last66.pivot_table(index='UID',values='tr_bal_delta1',columns='tr_channel')\n",
    "tr_bal_channel_last666.columns=['_'.join(('tr_bal_channel_last6',str(k))) for k in tr_bal_channel_last666.columns]"
   ]
  },
  {
   "cell_type": "code",
   "execution_count": null,
   "metadata": {
    "ExecuteTime": {
     "end_time": "2019-01-10T09:13:29.717909Z",
     "start_time": "2019-01-10T09:13:22.823Z"
    }
   },
   "outputs": [],
   "source": [
    "tr_bal_channnel_last7=df_tr[['UID','tr_channel','tr_time2','tr_bal']].groupby(['UID','tr_channel']) \\\n",
    ".apply(lambda x:x.sort_values(by='tr_time2')\n",
    "       .apply(lambda x:x.iloc[-7] - x.iloc[-8] if x.shape[0]>=8 else np.nan ))['tr_bal']\n",
    "\n",
    "uid=[]\n",
    "delta=[]\n",
    "channel=[]\n",
    "tr_bal_channel_last77=pd.DataFrame()\n",
    "for (i ,k) in tr_bal_channnel_last7.index.values:\n",
    "    uid.append(i)\n",
    "    channel.append(k)\n",
    "tr_bal_channel_last77['UID']=uid\n",
    "tr_bal_channel_last77['tr_channel']=channel\n",
    "tr_bal_channel_last77['tr_bal_delta7']=tr_bal_channnel_last7.values\n",
    "\n",
    "tr_bal_channel_last777=tr_bal_channel_last77.pivot_table(index='UID',values='tr_bal_delta1',columns='tr_channel')\n",
    "tr_bal_channel_last777.columns=['_'.join(('tr_bal_channel_last7',str(k))) for k in tr_bal_channel_last777.columns]"
   ]
  },
  {
   "cell_type": "code",
   "execution_count": null,
   "metadata": {},
   "outputs": [],
   "source": []
  },
  {
   "cell_type": "code",
   "execution_count": null,
   "metadata": {
    "ExecuteTime": {
     "end_time": "2019-01-10T09:13:29.717909Z",
     "start_time": "2019-01-10T09:13:22.836Z"
    }
   },
   "outputs": [],
   "source": [
    "df_tr[df_tr['UID']==10001].sort_values('tr_time2')"
   ]
  },
  {
   "cell_type": "code",
   "execution_count": null,
   "metadata": {
    "ExecuteTime": {
     "end_time": "2019-01-10T09:13:29.718909Z",
     "start_time": "2019-01-10T09:13:22.843Z"
    }
   },
   "outputs": [],
   "source": [
    "tr_bal_channel_last77.head()"
   ]
  },
  {
   "cell_type": "code",
   "execution_count": null,
   "metadata": {
    "ExecuteTime": {
     "end_time": "2019-01-10T09:13:29.718909Z",
     "start_time": "2019-01-10T09:13:22.848Z"
    }
   },
   "outputs": [],
   "source": [
    "tr_bal_channel_last11.head()"
   ]
  },
  {
   "cell_type": "code",
   "execution_count": null,
   "metadata": {
    "ExecuteTime": {
     "end_time": "2019-01-10T09:13:29.719909Z",
     "start_time": "2019-01-10T09:13:22.855Z"
    }
   },
   "outputs": [],
   "source": [
    "tr_bal_channel_last11.pivot_table(index='UID',values='tr_bal_delta1',columns='tr_channel')"
   ]
  },
  {
   "cell_type": "code",
   "execution_count": null,
   "metadata": {
    "ExecuteTime": {
     "end_time": "2019-01-10T09:13:29.720909Z",
     "start_time": "2019-01-10T09:13:22.860Z"
    }
   },
   "outputs": [],
   "source": [
    "tr_bal_channel_last111=tr_bal_channel_last11.pivot_table(index='UID',values='tr_bal_delta1',columns='tr_channel')"
   ]
  },
  {
   "cell_type": "code",
   "execution_count": null,
   "metadata": {
    "ExecuteTime": {
     "end_time": "2019-01-10T09:13:29.721909Z",
     "start_time": "2019-01-10T09:13:22.867Z"
    }
   },
   "outputs": [],
   "source": [
    "tr_bal_channel_last111.head()"
   ]
  },
  {
   "cell_type": "code",
   "execution_count": null,
   "metadata": {
    "ExecuteTime": {
     "end_time": "2019-01-10T09:13:29.721909Z",
     "start_time": "2019-01-10T09:13:22.874Z"
    }
   },
   "outputs": [],
   "source": [
    "tr_bal_channel_last111.columns"
   ]
  },
  {
   "cell_type": "code",
   "execution_count": null,
   "metadata": {
    "ExecuteTime": {
     "end_time": "2019-01-10T09:13:29.722909Z",
     "start_time": "2019-01-10T09:13:22.882Z"
    }
   },
   "outputs": [],
   "source": [
    "# tr_bal_channel_last111.columns=\n",
    "tr_bal_channel_last111.columns=['_'.join(('tr_bal_channel_last1',str(k))) for k in tr_bal_channel_last111.columns]"
   ]
  },
  {
   "cell_type": "code",
   "execution_count": null,
   "metadata": {},
   "outputs": [],
   "source": []
  },
  {
   "cell_type": "code",
   "execution_count": null,
   "metadata": {},
   "outputs": [],
   "source": []
  },
  {
   "cell_type": "code",
   "execution_count": null,
   "metadata": {
    "ExecuteTime": {
     "end_time": "2019-01-10T07:42:38.118095Z",
     "start_time": "2019-01-10T07:42:22.769217Z"
    }
   },
   "outputs": [],
   "source": [
    "## merge amt delta data\n",
    "data_train7=data_train7.merge(tr_amt_channel_last11,how='left',on='UID')\n",
    "data_train7=data_train7.merge(tr_amt_channel_last22,how='left',on='UID')\n",
    "data_train7=data_train7.merge(tr_amt_channel_last33,how='left',on='UID')\n",
    "data_train7=data_train7.merge(tr_amt_channel_last44,how='left',on='UID')\n",
    "data_train7=data_train7.merge(tr_amt_channel_last55,how='left',on='UID')\n",
    "data_train7=data_train7.merge(tr_amt_channel_last66,how='left',on='UID')\n",
    "data_train7=data_train7.merge(tr_amt_channel_last77,how='left',on='UID')\n"
   ]
  },
  {
   "cell_type": "code",
   "execution_count": null,
   "metadata": {
    "ExecuteTime": {
     "end_time": "2019-01-10T07:44:34.064727Z",
     "start_time": "2019-01-10T07:44:33.981722Z"
    }
   },
   "outputs": [],
   "source": [
    "data_train7.iloc[:5,-10:]"
   ]
  },
  {
   "cell_type": "code",
   "execution_count": null,
   "metadata": {},
   "outputs": [],
   "source": []
  },
  {
   "cell_type": "code",
   "execution_count": null,
   "metadata": {},
   "outputs": [],
   "source": []
  },
  {
   "cell_type": "code",
   "execution_count": null,
   "metadata": {
    "ExecuteTime": {
     "end_time": "2019-01-10T07:42:44.340451Z",
     "start_time": "2019-01-10T07:42:43.869424Z"
    }
   },
   "outputs": [],
   "source": [
    "## merge bal delta data\n",
    "data_train7=data_train7.merge(tr_bal_channel_last11,how='left',on='UID')\n",
    "data_train7=data_train7.merge(tr_bal_channel_last22,how='left',on='UID')\n",
    "data_train7=data_train7.merge(tr_bal_channel_last33,how='left',on='UID')\n",
    "data_train7=data_train7.merge(tr_bal_channel_last44,how='left',on='UID')\n",
    "data_train7=data_train7.merge(tr_bal_channel_last55,how='left',on='UID')\n",
    "data_train7=data_train7.merge(tr_bal_channel_last66,how='left',on='UID')\n",
    "data_train7=data_train7.merge(tr_bal_channel_last77,how='left',on='UID')\n"
   ]
  },
  {
   "cell_type": "code",
   "execution_count": null,
   "metadata": {},
   "outputs": [],
   "source": []
  },
  {
   "cell_type": "code",
   "execution_count": null,
   "metadata": {
    "ExecuteTime": {
     "end_time": "2019-01-09T05:43:06.976132Z",
     "start_time": "2019-01-09T05:25:32.725Z"
    }
   },
   "outputs": [],
   "source": [
    "data_train7.head()"
   ]
  },
  {
   "cell_type": "code",
   "execution_count": null,
   "metadata": {
    "ExecuteTime": {
     "end_time": "2019-01-09T05:43:06.979132Z",
     "start_time": "2019-01-09T05:25:32.728Z"
    }
   },
   "outputs": [],
   "source": [
    "data_train7.info(memory_usage='deep',verbose=True)"
   ]
  },
  {
   "cell_type": "code",
   "execution_count": null,
   "metadata": {
    "ExecuteTime": {
     "end_time": "2019-01-09T05:43:06.980132Z",
     "start_time": "2019-01-09T05:25:32.732Z"
    }
   },
   "outputs": [],
   "source": [
    "data_train7.info(memory_usage='deep')"
   ]
  },
  {
   "cell_type": "code",
   "execution_count": null,
   "metadata": {
    "ExecuteTime": {
     "end_time": "2019-01-09T05:43:06.981132Z",
     "start_time": "2019-01-09T05:25:32.735Z"
    }
   },
   "outputs": [],
   "source": [
    "data_train7.head()"
   ]
  },
  {
   "cell_type": "code",
   "execution_count": null,
   "metadata": {
    "ExecuteTime": {
     "end_time": "2019-01-09T05:43:06.982132Z",
     "start_time": "2019-01-09T05:25:32.737Z"
    }
   },
   "outputs": [],
   "source": [
    "data_train7.head()"
   ]
  },
  {
   "cell_type": "code",
   "execution_count": null,
   "metadata": {
    "ExecuteTime": {
     "end_time": "2019-01-09T05:43:06.983132Z",
     "start_time": "2019-01-09T05:25:32.740Z"
    },
    "scrolled": true
   },
   "outputs": [],
   "source": [
    "data_train7.info(memory_usage='deep',verbose=True)"
   ]
  },
  {
   "cell_type": "code",
   "execution_count": null,
   "metadata": {
    "ExecuteTime": {
     "end_time": "2019-01-09T05:43:06.984132Z",
     "start_time": "2019-01-09T05:25:32.743Z"
    }
   },
   "outputs": [],
   "source": [
    "[[1,2,3],[4,5,6],[7,8,9]]"
   ]
  },
  {
   "cell_type": "code",
   "execution_count": null,
   "metadata": {
    "ExecuteTime": {
     "end_time": "2019-01-09T05:43:06.985132Z",
     "start_time": "2019-01-09T05:25:32.747Z"
    }
   },
   "outputs": [],
   "source": [
    "data_train8=data_train7.drop_duplicates()\n",
    "data_train8.fillna(-999,inplace=True)"
   ]
  },
  {
   "cell_type": "code",
   "execution_count": null,
   "metadata": {
    "ExecuteTime": {
     "end_time": "2019-01-09T05:43:06.986132Z",
     "start_time": "2019-01-09T05:25:32.750Z"
    }
   },
   "outputs": [],
   "source": [
    "df_tag1.shape"
   ]
  },
  {
   "cell_type": "code",
   "execution_count": null,
   "metadata": {
    "ExecuteTime": {
     "end_time": "2019-01-09T05:43:06.987132Z",
     "start_time": "2019-01-09T05:25:32.753Z"
    }
   },
   "outputs": [],
   "source": [
    "data_train8=data_train8.merge(df_tag1,how='left',on='UID')"
   ]
  },
  {
   "cell_type": "code",
   "execution_count": null,
   "metadata": {
    "ExecuteTime": {
     "end_time": "2018-12-06T06:00:24.791528Z",
     "start_time": "2018-12-06T06:00:24.617518Z"
    }
   },
   "outputs": [],
   "source": [
    "from sklearn.externals import joblib\n",
    "from sklearn.metrics import classification_report,accuracy_score,confusion_matrix\n",
    "from sklearn.cross_validation import train_test_split,cross_val_score\n",
    "import lightgbm as lgb"
   ]
  },
  {
   "cell_type": "code",
   "execution_count": null,
   "metadata": {
    "ExecuteTime": {
     "end_time": "2018-12-06T06:28:32.212043Z",
     "start_time": "2018-12-06T06:28:32.172040Z"
    }
   },
   "outputs": [],
   "source": [
    "data_train8.head()"
   ]
  },
  {
   "cell_type": "code",
   "execution_count": null,
   "metadata": {
    "ExecuteTime": {
     "end_time": "2018-12-06T06:32:36.968042Z",
     "start_time": "2018-12-06T06:32:36.939040Z"
    }
   },
   "outputs": [],
   "source": [
    "for i in data_train8.columns.values:\n",
    "    if 'day' in i:\n",
    "        print(i)"
   ]
  },
  {
   "cell_type": "code",
   "execution_count": null,
   "metadata": {
    "ExecuteTime": {
     "end_time": "2018-12-06T07:00:29.736719Z",
     "start_time": "2018-12-06T07:00:29.678716Z"
    }
   },
   "outputs": [],
   "source": [
    "X_train,X_test,y_train,y_test=train_test_split(data_train8.iloc[:,1:-1],data_train8.iloc[:,-1],test_size=0.2,random_state=13)"
   ]
  },
  {
   "cell_type": "code",
   "execution_count": null,
   "metadata": {
    "ExecuteTime": {
     "end_time": "2018-12-06T07:00:30.678773Z",
     "start_time": "2018-12-06T07:00:30.650771Z"
    }
   },
   "outputs": [],
   "source": [
    "X_train.head()"
   ]
  },
  {
   "cell_type": "code",
   "execution_count": null,
   "metadata": {
    "ExecuteTime": {
     "end_time": "2018-12-06T07:00:38.480219Z",
     "start_time": "2018-12-06T07:00:38.473219Z"
    }
   },
   "outputs": [],
   "source": [
    "y_train.head()"
   ]
  },
  {
   "cell_type": "code",
   "execution_count": null,
   "metadata": {
    "ExecuteTime": {
     "end_time": "2018-12-06T06:46:50.786878Z",
     "start_time": "2018-12-06T06:46:50.778877Z"
    }
   },
   "outputs": [],
   "source": [
    "from sklearn.preprocessing import RobustScaler\n",
    "from sklearn.pipeline import make_pipeline,Pipeline\n",
    "from sklearn.model_selection import GridSearchCV"
   ]
  },
  {
   "cell_type": "code",
   "execution_count": null,
   "metadata": {
    "ExecuteTime": {
     "end_time": "2018-12-06T07:02:50.855790Z",
     "start_time": "2018-12-06T07:02:36.693980Z"
    }
   },
   "outputs": [],
   "source": [
    "model44= GridSearchCV(\n",
    "    estimator=lgb.LGBMClassifier(is_unbalance=True,),\n",
    "    param_grid={\n",
    "        'num_leaves':[114],\n",
    "        'n_estimators': [1000],\n",
    "        'learning_rate': [0.064],\n",
    "        'max_depth': [3],\n",
    "        'subsample': [1],\n",
    "         'subsample': [0.8],\n",
    "        'colsample_bytree': [0.56],\n",
    "#         'scale_pos_weight': [2.5, ]\n",
    "#         'is_unbalance':True\n",
    "    },\n",
    "    scoring='f1',\n",
    "    cv=3,\n",
    "    n_jobs=4,\n",
    "    verbose=1).fit(X_train,y_train)\n",
    "\n",
    "ypred44=model44.predict(X_test)\n",
    "predictions=ypred44\n",
    "print('准确率',accuracy_score(y_test,predictions))\n",
    "print('混淆矩阵',confusion_matrix(y_test,predictions))\n",
    "print('分类报告',classification_report(y_test,predictions))"
   ]
  },
  {
   "cell_type": "code",
   "execution_count": null,
   "metadata": {
    "ExecuteTime": {
     "end_time": "2018-12-06T07:07:42.699483Z",
     "start_time": "2018-12-06T07:07:42.669481Z"
    }
   },
   "outputs": [],
   "source": [
    "def tpr_weight_funtion(y_true,y_predict):\n",
    "    d = pd.DataFrame()\n",
    "    d['prob'] = list(y_predict)\n",
    "    d['y'] = list(y_true)\n",
    "    d = d.sort_values(['prob'], ascending=[0])\n",
    "    y = d.y\n",
    "    PosAll = pd.Series(y).value_counts()[1]\n",
    "    NegAll = pd.Series(y).value_counts()[0]\n",
    "    pCumsum = d['y'].cumsum()\n",
    "    nCumsum = np.arange(len(y)) - pCumsum + 1\n",
    "    pCumsumPer = pCumsum / PosAll\n",
    "    nCumsumPer = nCumsum / NegAll\n",
    "    TR1 = pCumsumPer[abs(nCumsumPer-0.001).idxmin()]\n",
    "    TR2 = pCumsumPer[abs(nCumsumPer-0.005).idxmin()]\n",
    "    TR3 = pCumsumPer[abs(nCumsumPer-0.01).idxmin()]\n",
    "    return 0.4 * TR1 + 0.3 * TR2 + 0.3 * TR3"
   ]
  },
  {
   "cell_type": "code",
   "execution_count": null,
   "metadata": {
    "ExecuteTime": {
     "end_time": "2018-12-06T07:17:09.044876Z",
     "start_time": "2018-12-06T07:17:08.992873Z"
    }
   },
   "outputs": [],
   "source": [
    "tpr_weight_funtion(y_train,y_train)"
   ]
  },
  {
   "cell_type": "code",
   "execution_count": null,
   "metadata": {
    "ExecuteTime": {
     "end_time": "2018-12-06T07:17:51.122283Z",
     "start_time": "2018-12-06T07:17:50.721260Z"
    }
   },
   "outputs": [],
   "source": [
    "ypred45=model44.predict(X_train)"
   ]
  },
  {
   "cell_type": "code",
   "execution_count": null,
   "metadata": {
    "ExecuteTime": {
     "end_time": "2018-12-06T07:19:00.602257Z",
     "start_time": "2018-12-06T07:19:00.582256Z"
    }
   },
   "outputs": [],
   "source": [
    "tpr_weight_funtion(y_test,y_test)"
   ]
  },
  {
   "cell_type": "code",
   "execution_count": null,
   "metadata": {
    "ExecuteTime": {
     "end_time": "2018-12-06T07:50:22.898918Z",
     "start_time": "2018-12-06T07:50:22.894918Z"
    }
   },
   "outputs": [],
   "source": [
    "y_test_test=y_test\n",
    "y_test_test.loc[9101]=1\n",
    "y_test_test.loc[1552]=1"
   ]
  },
  {
   "cell_type": "code",
   "execution_count": null,
   "metadata": {
    "ExecuteTime": {
     "end_time": "2018-12-06T07:50:25.275054Z",
     "start_time": "2018-12-06T07:50:25.265053Z"
    }
   },
   "outputs": [],
   "source": [
    "y_test_test.head()"
   ]
  },
  {
   "cell_type": "code",
   "execution_count": null,
   "metadata": {
    "ExecuteTime": {
     "end_time": "2018-12-06T07:50:28.035212Z",
     "start_time": "2018-12-06T07:50:28.005210Z"
    }
   },
   "outputs": [],
   "source": [
    "tpr_weight_funtion(y_test,y_test_test)"
   ]
  },
  {
   "cell_type": "code",
   "execution_count": null,
   "metadata": {
    "ExecuteTime": {
     "end_time": "2018-12-06T09:04:11.372212Z",
     "start_time": "2018-12-06T09:04:11.363212Z"
    }
   },
   "outputs": [],
   "source": [
    "from sklearn.metrics import roc_curve,auc\n",
    "import matplotlib.pyplot as plt\n",
    "plt.style.use(style='ggplot')\n",
    "plt.rcParams['figure.figsize']=(8,4)"
   ]
  },
  {
   "cell_type": "code",
   "execution_count": null,
   "metadata": {
    "ExecuteTime": {
     "end_time": "2018-12-06T09:05:26.293497Z",
     "start_time": "2018-12-06T09:05:26.285497Z"
    }
   },
   "outputs": [],
   "source": [
    "fpr,tpr,thresholds=roc_curve(y_test,predictions)"
   ]
  },
  {
   "cell_type": "code",
   "execution_count": null,
   "metadata": {
    "ExecuteTime": {
     "end_time": "2018-12-11T05:53:09.027171Z",
     "start_time": "2018-12-11T05:53:08.975168Z"
    }
   },
   "outputs": [],
   "source": [
    "roc_auc=auc(fpr,tpr)\n",
    "plt.title('TianCheng')\n",
    "plt.plot(fpr,tpr,'b',label='UAC={}' .format(roc_auc))\n",
    "plt.legend(loc='best')\n",
    "plt.plot([0,1],[0,1],'r--')\n",
    "plt.xlim([0.0,1.0])\n",
    "plt.ylim([0.0,1.0])\n",
    "plt.ylabel('Recall')\n",
    "plt.xlabel('Fpr')\n",
    "#plt.show()"
   ]
  },
  {
   "cell_type": "code",
   "execution_count": null,
   "metadata": {
    "ExecuteTime": {
     "end_time": "2018-12-06T09:22:46.544996Z",
     "start_time": "2018-12-06T09:22:46.536996Z"
    }
   },
   "outputs": [],
   "source": [
    "roc_auc"
   ]
  },
  {
   "cell_type": "code",
   "execution_count": null,
   "metadata": {},
   "outputs": [],
   "source": []
  }
 ],
 "metadata": {
  "kernelspec": {
   "display_name": "Python 3",
   "language": "python",
   "name": "python3"
  },
  "language_info": {
   "codemirror_mode": {
    "name": "ipython",
    "version": 3
   },
   "file_extension": ".py",
   "mimetype": "text/x-python",
   "name": "python",
   "nbconvert_exporter": "python",
   "pygments_lexer": "ipython3",
   "version": "3.6.3"
  }
 },
 "nbformat": 4,
 "nbformat_minor": 2
}
