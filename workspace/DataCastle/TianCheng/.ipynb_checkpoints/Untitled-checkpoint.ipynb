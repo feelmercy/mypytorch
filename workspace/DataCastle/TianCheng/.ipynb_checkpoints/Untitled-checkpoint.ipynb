{
 "cells": [
  {
   "cell_type": "code",
   "execution_count": 1,
   "metadata": {
    "ExecuteTime": {
     "end_time": "2018-12-19T03:27:19.531627Z",
     "start_time": "2018-12-19T03:27:12.755239Z"
    }
   },
   "outputs": [],
   "source": [
    "import pandas as pd,numpy as np\n",
    "from sklearn.metrics import auc\n",
    "pd.set_option('max_columns',30) "
   ]
  },
  {
   "cell_type": "code",
   "execution_count": 2,
   "metadata": {
    "ExecuteTime": {
     "end_time": "2018-12-19T03:27:26.146005Z",
     "start_time": "2018-12-19T03:27:21.480738Z"
    }
   },
   "outputs": [],
   "source": [
    "df_op11=pd.read_csv('F:\\study\\\\ml\\\\DataSet\\\\TianChengJinRong\\\\operation_TRAIN.csv')\n",
    "df_tr11=pd.read_csv('F:\\study\\\\ml\\\\DataSet\\\\TianChengJinRong\\\\transaction_TRAIN.csv')\n",
    "#df_tag1=pd.read_csv('F:\\study\\\\ml\\\\DataSet\\\\TianChengJinRong\\\\tag_TRAIN.csv')\n",
    "df_op12=pd.read_csv('F:\\study\\\\ml\\\\DataSet\\\\TianChengJinRong\\\\operation_round1.csv')\n",
    "df_tr12=pd.read_csv('F:\\study\\\\ml\\\\DataSet\\\\TianChengJinRong\\\\transaction_round1.csv')"
   ]
  },
  {
   "cell_type": "code",
   "execution_count": 3,
   "metadata": {
    "ExecuteTime": {
     "end_time": "2018-12-19T03:27:31.109289Z",
     "start_time": "2018-12-19T03:27:31.082287Z"
    }
   },
   "outputs": [
    {
     "data": {
      "text/plain": [
       "(545633, 20)"
      ]
     },
     "execution_count": 3,
     "metadata": {},
     "output_type": "execute_result"
    }
   ],
   "source": [
    "df_op12.shape"
   ]
  },
  {
   "cell_type": "code",
   "execution_count": 4,
   "metadata": {
    "ExecuteTime": {
     "end_time": "2018-12-19T03:27:44.396049Z",
     "start_time": "2018-12-19T03:27:44.386048Z"
    }
   },
   "outputs": [
    {
     "data": {
      "text/plain": [
       "(100224, 27)"
      ]
     },
     "execution_count": 4,
     "metadata": {},
     "output_type": "execute_result"
    }
   ],
   "source": [
    "df_tr12.shape"
   ]
  },
  {
   "cell_type": "code",
   "execution_count": 5,
   "metadata": {
    "ExecuteTime": {
     "end_time": "2018-12-19T03:28:51.014859Z",
     "start_time": "2018-12-19T03:28:50.981857Z"
    }
   },
   "outputs": [
    {
     "data": {
      "text/plain": [
       "10128"
      ]
     },
     "execution_count": 5,
     "metadata": {},
     "output_type": "execute_result"
    }
   ],
   "source": [
    "len(df_op12['UID'].unique())"
   ]
  },
  {
   "cell_type": "code",
   "execution_count": 6,
   "metadata": {
    "ExecuteTime": {
     "end_time": "2018-12-19T03:29:01.266446Z",
     "start_time": "2018-12-19T03:29:01.251445Z"
    }
   },
   "outputs": [
    {
     "data": {
      "text/plain": [
       "13115"
      ]
     },
     "execution_count": 6,
     "metadata": {},
     "output_type": "execute_result"
    }
   ],
   "source": [
    "len(df_tr12['UID'].unique())"
   ]
  },
  {
   "cell_type": "code",
   "execution_count": 7,
   "metadata": {
    "ExecuteTime": {
     "end_time": "2018-12-19T07:19:25.754161Z",
     "start_time": "2018-12-19T07:19:12.687414Z"
    }
   },
   "outputs": [
    {
     "name": "stderr",
     "output_type": "stream",
     "text": [
      "D:\\ProgramData\\Anaconda3\\lib\\site-packages\\IPython\\core\\interactiveshell.py:2728: DtypeWarning: Columns (8) have mixed types. Specify dtype option on import or set low_memory=False.\n",
      "  interactivity=interactivity, compiler=compiler, result=result)\n"
     ]
    }
   ],
   "source": [
    "df_op111=pd.read_csv('F:\\\\study\\\\ml\\\\DataSet\\\\TianChengJinRong\\\\round1-new\\\\operation_train_new.csv')\n",
    "df_tr111=pd.read_csv('F:\\\\study\\\\ml\\\\DataSet\\\\TianChengJinRong\\\\round1-new\\\\transaction_train_new.csv')\n",
    "df_tag11=pd.read_csv('F:\\\\study\\\\ml\\\\DataSet\\\\TianChengJinRong\\\\round1-new\\\\tag_train_new.csv')\n",
    "df_op121=pd.read_csv('F:\\\\study\\\\ml\\\\DataSet\\\\TianChengJinRong\\\\round1-new\\\\operation_round1_new.csv')\n",
    "df_tr121=pd.read_csv('F:\\\\study\\\\ml\\\\DataSet\\\\TianChengJinRong\\\\round1-new\\\\transaction_round1_new.csv')"
   ]
  },
  {
   "cell_type": "code",
   "execution_count": null,
   "metadata": {},
   "outputs": [],
   "source": []
  }
 ],
 "metadata": {
  "kernelspec": {
   "display_name": "Python 3",
   "language": "python",
   "name": "python3"
  },
  "language_info": {
   "codemirror_mode": {
    "name": "ipython",
    "version": 3
   },
   "file_extension": ".py",
   "mimetype": "text/x-python",
   "name": "python",
   "nbconvert_exporter": "python",
   "pygments_lexer": "ipython3",
   "version": "3.6.3"
  }
 },
 "nbformat": 4,
 "nbformat_minor": 2
}
