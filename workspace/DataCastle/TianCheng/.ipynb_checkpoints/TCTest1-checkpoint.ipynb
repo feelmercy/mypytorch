{
 "cells": [
  {
   "cell_type": "code",
   "execution_count": 1,
   "metadata": {
    "ExecuteTime": {
     "end_time": "2018-11-02T02:15:30.751096Z",
     "start_time": "2018-11-02T02:15:27.852930Z"
    }
   },
   "outputs": [],
   "source": [
    "import pandas as pd,numpy as np\n",
    "from sklearn.metrics import auc"
   ]
  },
  {
   "cell_type": "code",
   "execution_count": 2,
   "metadata": {
    "ExecuteTime": {
     "end_time": "2018-11-02T02:15:30.755096Z",
     "start_time": "2018-11-02T02:15:30.752096Z"
    }
   },
   "outputs": [],
   "source": [
    "pd.set_option('max_columns',30) "
   ]
  },
  {
   "cell_type": "code",
   "execution_count": 3,
   "metadata": {
    "ExecuteTime": {
     "end_time": "2018-11-02T02:15:33.066228Z",
     "start_time": "2018-11-02T02:15:30.757096Z"
    }
   },
   "outputs": [],
   "source": [
    "df_op=pd.read_csv('F:\\study\\\\ml\\\\DataSet\\\\TianChengJinRong\\\\operation_TRAIN.csv')\n",
    "df_tr=pd.read_csv('F:\\study\\\\ml\\\\DataSet\\\\TianChengJinRong\\\\transaction_TRAIN.csv')\n",
    "df_tag=pd.read_csv('F:\\study\\\\ml\\\\DataSet\\\\TianChengJinRong\\\\tag_TRAIN.csv')"
   ]
  },
  {
   "cell_type": "code",
   "execution_count": null,
   "metadata": {},
   "outputs": [],
   "source": []
  },
  {
   "cell_type": "code",
   "execution_count": 4,
   "metadata": {
    "ExecuteTime": {
     "end_time": "2018-11-02T02:15:34.458308Z",
     "start_time": "2018-11-02T02:15:33.067228Z"
    }
   },
   "outputs": [],
   "source": [
    "df_op=df_op.drop_duplicates()\n",
    "df_tr=df_tr.drop_duplicates()\n",
    "df_tag=df_tag.drop_duplicates()"
   ]
  },
  {
   "cell_type": "code",
   "execution_count": 22,
   "metadata": {
    "ExecuteTime": {
     "end_time": "2018-11-02T03:22:32.432292Z",
     "start_time": "2018-11-02T03:22:32.407691Z"
    }
   },
   "outputs": [
    {
     "data": {
      "text/plain": [
       "44234     51eceb6dcc114941\n",
       "56651     51eceb6dcc114941\n",
       "196485                 NaN\n",
       "344886                 NaN\n",
       "366790                 NaN\n",
       "415962    51eceb6dcc114941\n",
       "Name: device_code1, dtype: object"
      ]
     },
     "execution_count": 22,
     "metadata": {},
     "output_type": "execute_result"
    }
   ],
   "source": [
    "df_op[df_op['UID']==10006]['device_code1']"
   ]
  },
  {
   "cell_type": "code",
   "execution_count": null,
   "metadata": {},
   "outputs": [],
   "source": []
  },
  {
   "cell_type": "code",
   "execution_count": null,
   "metadata": {
    "ExecuteTime": {
     "end_time": "2018-10-31T03:29:21.587134Z",
     "start_time": "2018-10-31T03:29:21.536131Z"
    }
   },
   "outputs": [],
   "source": [
    "a=df_op[['UID','day']].groupby('UID').sum().index\n",
    "b=df_tr[['UID','day']].groupby('UID').sum().index"
   ]
  },
  {
   "cell_type": "code",
   "execution_count": null,
   "metadata": {
    "ExecuteTime": {
     "end_time": "2018-10-31T03:29:21.618136Z",
     "start_time": "2018-10-31T03:29:21.589134Z"
    }
   },
   "outputs": [],
   "source": [
    "data_train=pd.DataFrame()\n",
    "data_train['UID']=np.array(a | b)"
   ]
  },
  {
   "cell_type": "code",
   "execution_count": null,
   "metadata": {
    "ExecuteTime": {
     "end_time": "2018-10-31T03:29:21.996157Z",
     "start_time": "2018-10-31T03:29:21.619136Z"
    }
   },
   "outputs": [],
   "source": [
    "data_train['op_count']=0\n",
    "data_train.loc[data_train['UID'].isin(df_op[['UID','day']].groupby('UID').sum().index),['op_count']]=\\\n",
    "df_op[['UID','day']].groupby('UID').count().values"
   ]
  },
  {
   "cell_type": "code",
   "execution_count": null,
   "metadata": {
    "ExecuteTime": {
     "end_time": "2018-10-31T03:29:22.339177Z",
     "start_time": "2018-10-31T03:29:21.997157Z"
    }
   },
   "outputs": [],
   "source": [
    "data_train['tr_count']=0\n",
    "data_train.loc[data_train['UID'].isin(df_tr[['UID','day']].groupby('UID').sum().index),['tr_count']]=\\\n",
    "df_tr[['UID','day']].groupby('UID').count().values"
   ]
  },
  {
   "cell_type": "code",
   "execution_count": null,
   "metadata": {
    "ExecuteTime": {
     "end_time": "2018-10-31T03:29:22.697197Z",
     "start_time": "2018-10-31T03:29:22.340177Z"
    }
   },
   "outputs": [],
   "source": [
    "op_days=pd.DataFrame()\n",
    "op_days['UID']=df_op['UID']\n",
    "op_days=pd.concat([op_days,pd.get_dummies(df_op['day'],prefix='op_day')],axis=1)\n",
    "op_days_sum=op_days.groupby(by='UID').sum()"
   ]
  },
  {
   "cell_type": "code",
   "execution_count": null,
   "metadata": {
    "ExecuteTime": {
     "end_time": "2018-10-31T03:29:22.900209Z",
     "start_time": "2018-10-31T03:29:22.701197Z"
    }
   },
   "outputs": [],
   "source": [
    "tr_days=pd.DataFrame()\n",
    "tr_days['UID']=df_tr['UID']\n",
    "tr_days=pd.concat([tr_days,pd.get_dummies(df_tr['day'],prefix='tr_day')],axis=1)\n",
    "tr_days_sum=tr_days.groupby(by='UID').sum()"
   ]
  },
  {
   "cell_type": "code",
   "execution_count": null,
   "metadata": {
    "ExecuteTime": {
     "end_time": "2018-10-31T03:29:22.919210Z",
     "start_time": "2018-10-31T03:29:22.903209Z"
    }
   },
   "outputs": [],
   "source": [
    "data_train1=data_train"
   ]
  },
  {
   "cell_type": "code",
   "execution_count": null,
   "metadata": {
    "ExecuteTime": {
     "end_time": "2018-10-31T03:29:22.987214Z",
     "start_time": "2018-10-31T03:29:22.921210Z"
    }
   },
   "outputs": [],
   "source": [
    "data_train1=pd.merge(data_train1,op_days_sum,how='left',on='UID')"
   ]
  },
  {
   "cell_type": "code",
   "execution_count": null,
   "metadata": {
    "ExecuteTime": {
     "end_time": "2018-10-31T03:32:11.772099Z",
     "start_time": "2018-10-31T03:32:11.701496Z"
    }
   },
   "outputs": [],
   "source": [
    "data_train1.head()"
   ]
  },
  {
   "cell_type": "code",
   "execution_count": 24,
   "metadata": {
    "ExecuteTime": {
     "end_time": "2018-11-02T03:23:50.976518Z",
     "start_time": "2018-11-02T03:23:50.971518Z"
    }
   },
   "outputs": [],
   "source": [
    "from sklearn.preprocessing import LabelEncoder\n",
    "le=LabelEncoder()"
   ]
  },
  {
   "cell_type": "code",
   "execution_count": null,
   "metadata": {
    "ExecuteTime": {
     "end_time": "2018-10-31T05:50:04.357671Z",
     "start_time": "2018-10-31T05:50:04.342670Z"
    }
   },
   "outputs": [],
   "source": [
    "def op_object(train):\n",
    "    for i in ['mode','os','version','']:\n",
    "        train[i]=train[i].factorize()[0]\n",
    "#         test[i]=test[i].factorize()[0]\n",
    "        train[i]=le.fit_transform(train[i])\n",
    "#         test[i]=le.fit_transform(test[i]) \n",
    "    return train\n"
   ]
  },
  {
   "cell_type": "code",
   "execution_count": null,
   "metadata": {
    "ExecuteTime": {
     "end_time": "2018-10-31T07:16:38.255169Z",
     "start_time": "2018-10-31T07:16:38.249169Z"
    }
   },
   "outputs": [],
   "source": [
    "op_col2=[i for i in df_op.columns.values ]\n",
    "op_col2.remove('time')\n",
    "op_col2.remove('day')\n",
    "op_col2.remove('UID')\n",
    "op_col2"
   ]
  },
  {
   "cell_type": "code",
   "execution_count": null,
   "metadata": {
    "ExecuteTime": {
     "end_time": "2018-10-31T05:50:21.571655Z",
     "start_time": "2018-10-31T05:50:21.558655Z"
    }
   },
   "outputs": [],
   "source": [
    "def fun_ob2le(train,names):\n",
    "    for i in names:\n",
    "        train[i]=pd.factorize(train[i])[0]\n",
    "        train[i]=le.fit_transform(train[i])\n",
    "    return train"
   ]
  },
  {
   "cell_type": "code",
   "execution_count": null,
   "metadata": {
    "ExecuteTime": {
     "end_time": "2018-10-31T05:50:23.798783Z",
     "start_time": "2018-10-31T05:50:22.371701Z"
    }
   },
   "outputs": [],
   "source": [
    "df_op1=df_op\n",
    "df_op1=fun_ob2le(df_op1,op_col2)\n",
    "df_op1.head()"
   ]
  },
  {
   "cell_type": "code",
   "execution_count": null,
   "metadata": {
    "ExecuteTime": {
     "end_time": "2018-10-31T05:50:44.095944Z",
     "start_time": "2018-10-31T05:50:43.768925Z"
    }
   },
   "outputs": [],
   "source": [
    "df_op2=pd.DataFrame()\n",
    "df_op2=df_op['UID']\n",
    "for i in ['success','os','version','mode']:\n",
    "    df_op2=pd.concat([df_op2,pd.get_dummies(df_op1[i],prefix=i)],axis=1)   \n",
    "df_op2.head()    \n",
    "    "
   ]
  },
  {
   "cell_type": "code",
   "execution_count": null,
   "metadata": {
    "ExecuteTime": {
     "end_time": "2018-10-31T05:50:59.922849Z",
     "start_time": "2018-10-31T05:50:59.030798Z"
    }
   },
   "outputs": [],
   "source": [
    "df_op3=df_op2.groupby('UID',as_index=False).sum()"
   ]
  },
  {
   "cell_type": "code",
   "execution_count": null,
   "metadata": {
    "ExecuteTime": {
     "end_time": "2018-10-31T05:51:09.662406Z",
     "start_time": "2018-10-31T05:51:09.605403Z"
    }
   },
   "outputs": [],
   "source": [
    "df_op3.head()"
   ]
  },
  {
   "cell_type": "code",
   "execution_count": null,
   "metadata": {
    "ExecuteTime": {
     "end_time": "2018-10-31T05:51:16.403792Z",
     "start_time": "2018-10-31T05:51:14.726696Z"
    }
   },
   "outputs": [],
   "source": [
    "df_op1.groupby('UID').agg('nunique')"
   ]
  },
  {
   "cell_type": "code",
   "execution_count": null,
   "metadata": {
    "ExecuteTime": {
     "end_time": "2018-10-31T05:51:50.456739Z",
     "start_time": "2018-10-31T05:51:50.403736Z"
    }
   },
   "outputs": [],
   "source": [
    "df_op1[['UID','device_code1']].groupby('UID').agg('max')['device_code1'].apply(lambda x:0 if x==0 else 1)"
   ]
  },
  {
   "cell_type": "code",
   "execution_count": null,
   "metadata": {
    "ExecuteTime": {
     "end_time": "2018-10-31T01:56:43.151465Z",
     "start_time": "2018-10-31T01:56:43.120265Z"
    }
   },
   "outputs": [],
   "source": [
    "#del df_ios"
   ]
  },
  {
   "cell_type": "code",
   "execution_count": null,
   "metadata": {
    "ExecuteTime": {
     "end_time": "2018-10-31T05:52:06.068632Z",
     "start_time": "2018-10-31T05:52:06.012629Z"
    }
   },
   "outputs": [],
   "source": [
    "df_ios=df_op1[['UID','device_code1','device_code3']].groupby('UID',as_index=False).agg('max')"
   ]
  },
  {
   "cell_type": "code",
   "execution_count": null,
   "metadata": {
    "ExecuteTime": {
     "end_time": "2018-10-31T05:52:08.176753Z",
     "start_time": "2018-10-31T05:52:08.154752Z"
    }
   },
   "outputs": [],
   "source": [
    "df_ios['device_code1']=df_ios['device_code1'].apply(lambda x: 1 if x>0 else 0)\n",
    "df_ios['device_code3']=df_ios['device_code3'].apply(lambda x: 1 if x>0 else 0)"
   ]
  },
  {
   "cell_type": "code",
   "execution_count": null,
   "metadata": {
    "ExecuteTime": {
     "end_time": "2018-10-31T05:52:10.275873Z",
     "start_time": "2018-10-31T05:52:10.260872Z"
    }
   },
   "outputs": [],
   "source": [
    "df_ios.head()"
   ]
  },
  {
   "cell_type": "code",
   "execution_count": null,
   "metadata": {
    "ExecuteTime": {
     "end_time": "2018-10-31T05:52:31.763333Z",
     "start_time": "2018-10-31T05:52:31.753332Z"
    }
   },
   "outputs": [],
   "source": [
    "df_ios.rename(columns={'device_code1':'is_android','device_code3':'is_ios'},inplace=True)"
   ]
  },
  {
   "cell_type": "code",
   "execution_count": null,
   "metadata": {
    "ExecuteTime": {
     "end_time": "2018-10-31T05:52:32.574965Z",
     "start_time": "2018-10-31T05:52:32.543765Z"
    }
   },
   "outputs": [],
   "source": [
    "data_train1.shape"
   ]
  },
  {
   "cell_type": "code",
   "execution_count": null,
   "metadata": {
    "ExecuteTime": {
     "end_time": "2018-10-31T05:54:21.647339Z",
     "start_time": "2018-10-31T05:54:21.598737Z"
    }
   },
   "outputs": [],
   "source": [
    "data_train1.head()"
   ]
  },
  {
   "cell_type": "code",
   "execution_count": null,
   "metadata": {
    "ExecuteTime": {
     "end_time": "2018-10-31T06:16:43.359254Z",
     "start_time": "2018-10-31T06:16:43.341253Z"
    }
   },
   "outputs": [],
   "source": [
    "data_train2=pd.merge(data_train1,df_ios,how='left',on='UID')"
   ]
  },
  {
   "cell_type": "code",
   "execution_count": null,
   "metadata": {
    "ExecuteTime": {
     "end_time": "2018-10-31T05:58:29.611296Z",
     "start_time": "2018-10-31T05:58:29.580096Z"
    }
   },
   "outputs": [],
   "source": [
    "op1_col=df_op.columns.values.tolist()\n",
    "op1_col1=[op1_col[0]]\n",
    "op1_col1.extend(op1_col[7:9])\n",
    "op1_col1.extend(op1_col[12:])\n",
    "op1_col1\n"
   ]
  },
  {
   "cell_type": "code",
   "execution_count": null,
   "metadata": {
    "ExecuteTime": {
     "end_time": "2018-10-31T05:58:33.213605Z",
     "start_time": "2018-10-31T05:58:33.185004Z"
    }
   },
   "outputs": [],
   "source": [
    "df_op1.head()"
   ]
  },
  {
   "cell_type": "code",
   "execution_count": null,
   "metadata": {
    "ExecuteTime": {
     "end_time": "2018-10-31T05:58:37.860375Z",
     "start_time": "2018-10-31T05:58:37.820773Z"
    }
   },
   "outputs": [],
   "source": [
    "df_op1[df_op1['UID']==10000].head()"
   ]
  },
  {
   "cell_type": "code",
   "execution_count": null,
   "metadata": {
    "ExecuteTime": {
     "end_time": "2018-10-31T05:58:41.922486Z",
     "start_time": "2018-10-31T05:58:41.819480Z"
    }
   },
   "outputs": [],
   "source": [
    "df_op2"
   ]
  },
  {
   "cell_type": "code",
   "execution_count": null,
   "metadata": {
    "ExecuteTime": {
     "end_time": "2018-10-31T05:58:46.047463Z",
     "start_time": "2018-10-31T05:58:46.027863Z"
    }
   },
   "outputs": [],
   "source": [
    "op1_col1"
   ]
  },
  {
   "cell_type": "code",
   "execution_count": null,
   "metadata": {
    "ExecuteTime": {
     "end_time": "2018-10-31T05:58:53.047656Z",
     "start_time": "2018-10-31T05:58:51.444366Z"
    }
   },
   "outputs": [],
   "source": [
    "df_op.groupby('UID').agg('nunique')"
   ]
  },
  {
   "cell_type": "code",
   "execution_count": null,
   "metadata": {
    "ExecuteTime": {
     "end_time": "2018-10-31T06:09:31.805192Z",
     "start_time": "2018-10-31T06:09:31.129554Z"
    }
   },
   "outputs": [],
   "source": [
    "df_op1[op1_col1].groupby(by=['UID']).agg('nunique').iloc[:,1:]"
   ]
  },
  {
   "cell_type": "code",
   "execution_count": null,
   "metadata": {
    "ExecuteTime": {
     "end_time": "2018-10-31T06:05:49.344624Z",
     "start_time": "2018-10-31T06:05:48.675987Z"
    }
   },
   "outputs": [],
   "source": [
    "df_op1[op1_col1].groupby(by=['UID']).agg('nunique').iloc[:,1:]"
   ]
  },
  {
   "cell_type": "code",
   "execution_count": null,
   "metadata": {
    "ExecuteTime": {
     "end_time": "2018-10-31T06:16:12.529971Z",
     "start_time": "2018-10-31T06:16:11.861735Z"
    }
   },
   "outputs": [],
   "source": [
    "df_op4=df_op1[op1_col1].groupby(by=['UID']).agg('nunique').iloc[:,1:]"
   ]
  },
  {
   "cell_type": "code",
   "execution_count": null,
   "metadata": {
    "ExecuteTime": {
     "end_time": "2018-10-31T06:16:14.144426Z",
     "start_time": "2018-10-31T06:16:14.113225Z"
    }
   },
   "outputs": [],
   "source": [
    "df_op4.head()"
   ]
  },
  {
   "cell_type": "code",
   "execution_count": null,
   "metadata": {},
   "outputs": [],
   "source": [
    "#########  data_train2,merge df_op3,df_op4,"
   ]
  },
  {
   "cell_type": "code",
   "execution_count": null,
   "metadata": {
    "ExecuteTime": {
     "end_time": "2018-10-31T06:17:21.235616Z",
     "start_time": "2018-10-31T06:17:21.186014Z"
    }
   },
   "outputs": [],
   "source": [
    "data_train2.merge(df_op3,how='left',on='UID').head()"
   ]
  },
  {
   "cell_type": "code",
   "execution_count": null,
   "metadata": {
    "ExecuteTime": {
     "end_time": "2018-10-31T06:19:09.009576Z",
     "start_time": "2018-10-31T06:19:08.966974Z"
    }
   },
   "outputs": [],
   "source": [
    "data_train2.merge(df_op4,how='left',on='UID').head()"
   ]
  },
  {
   "cell_type": "code",
   "execution_count": null,
   "metadata": {
    "ExecuteTime": {
     "end_time": "2018-10-31T06:20:01.057754Z",
     "start_time": "2018-10-31T06:20:00.994151Z"
    }
   },
   "outputs": [],
   "source": [
    "data_train3=data_train2.merge(df_op3,how='left',on='UID',)\n",
    "data_train3=data_train3.merge(df_op4,how='left',on='UID')"
   ]
  },
  {
   "cell_type": "code",
   "execution_count": null,
   "metadata": {
    "ExecuteTime": {
     "end_time": "2018-10-31T06:20:11.176086Z",
     "start_time": "2018-10-31T06:20:11.125885Z"
    }
   },
   "outputs": [],
   "source": [
    "data_train3.head()"
   ]
  },
  {
   "cell_type": "code",
   "execution_count": null,
   "metadata": {
    "ExecuteTime": {
     "end_time": "2018-10-31T06:38:55.328312Z",
     "start_time": "2018-10-31T06:38:55.312712Z"
    }
   },
   "outputs": [],
   "source": [
    "df_tr.shape"
   ]
  },
  {
   "cell_type": "code",
   "execution_count": null,
   "metadata": {
    "ExecuteTime": {
     "end_time": "2018-10-31T06:45:39.073721Z",
     "start_time": "2018-10-31T06:45:39.026520Z"
    }
   },
   "outputs": [],
   "source": [
    "df_tr.head()"
   ]
  },
  {
   "cell_type": "code",
   "execution_count": null,
   "metadata": {
    "ExecuteTime": {
     "end_time": "2018-10-31T06:59:21.400229Z",
     "start_time": "2018-10-31T06:59:21.365628Z"
    }
   },
   "outputs": [],
   "source": [
    "df_tr[df_tr['UID']==10001].head()"
   ]
  },
  {
   "cell_type": "code",
   "execution_count": null,
   "metadata": {
    "ExecuteTime": {
     "end_time": "2018-10-31T07:14:20.538872Z",
     "start_time": "2018-10-31T07:14:19.623820Z"
    }
   },
   "outputs": [],
   "source": [
    "df_tr1=df_tr\n",
    "# df_tr1_col=df_tr.columns.values.tolist()\n",
    "for i in df_tr.columns.values.tolist():\n",
    "    if 'UID' not in i:\n",
    "        df_tr1.rename(columns={i:'tr_'+i},inplace=True)"
   ]
  },
  {
   "cell_type": "code",
   "execution_count": null,
   "metadata": {
    "ExecuteTime": {
     "end_time": "2018-10-31T07:14:57.507324Z",
     "start_time": "2018-10-31T07:14:57.450722Z"
    }
   },
   "outputs": [],
   "source": [
    "df_tr1.head()"
   ]
  },
  {
   "cell_type": "code",
   "execution_count": null,
   "metadata": {},
   "outputs": [],
   "source": [
    "# def fun_ob2le(train,names):\n",
    "#     for i in names:\n",
    "#         train[i]=pd.factorize(train[i])[0]\n",
    "#         train[i]=le.fit_transform(train[i])\n",
    "#     return train"
   ]
  },
  {
   "cell_type": "code",
   "execution_count": null,
   "metadata": {
    "ExecuteTime": {
     "end_time": "2018-10-31T08:00:28.485270Z",
     "start_time": "2018-10-31T08:00:28.469670Z"
    }
   },
   "outputs": [],
   "source": [
    "df_tr1.columns.values.tolist()"
   ]
  },
  {
   "cell_type": "code",
   "execution_count": null,
   "metadata": {},
   "outputs": [],
   "source": [
    "i for i in df_tr1.columns.values.tolist() if i not "
   ]
  },
  {
   "cell_type": "code",
   "execution_count": null,
   "metadata": {
    "ExecuteTime": {
     "end_time": "2018-10-31T08:23:48.734712Z",
     "start_time": "2018-10-31T08:23:48.711112Z"
    }
   },
   "outputs": [],
   "source": [
    "ob2le_name=[]\n",
    "for i in df_tr1.columns.values.tolist():\n",
    "    if  i not in ['UID','tr_day','tr_time','tr_trans_amt','tr_bal']:\n",
    "        ob2le_name.append(i)\n",
    "ob2le_name        "
   ]
  },
  {
   "cell_type": "code",
   "execution_count": null,
   "metadata": {
    "ExecuteTime": {
     "end_time": "2018-10-31T08:52:11.312653Z",
     "start_time": "2018-10-31T08:52:08.431488Z"
    }
   },
   "outputs": [],
   "source": [
    "df_tr2=pd.DataFrame()\n",
    "df_tr2['UID']=df_tr1['UID']\n",
    "df_tr2=pd.concat([df_tr2,fun_ob2le(df_tr1[ob2le_name],ob2le_name)],axis=1)"
   ]
  },
  {
   "cell_type": "code",
   "execution_count": null,
   "metadata": {
    "ExecuteTime": {
     "end_time": "2018-10-31T08:52:12.933086Z",
     "start_time": "2018-10-31T08:52:12.897485Z"
    }
   },
   "outputs": [],
   "source": [
    "df_tr2.head()"
   ]
  },
  {
   "cell_type": "code",
   "execution_count": null,
   "metadata": {
    "ExecuteTime": {
     "end_time": "2018-10-31T09:24:39.455973Z",
     "start_time": "2018-10-31T09:24:38.915343Z"
    }
   },
   "outputs": [],
   "source": [
    "# df_tr3=\n",
    "df_tr3=df_tr2.groupby('UID').agg('nunique').iloc[:,1:]"
   ]
  },
  {
   "cell_type": "code",
   "execution_count": null,
   "metadata": {
    "ExecuteTime": {
     "end_time": "2018-10-31T09:27:36.514223Z",
     "start_time": "2018-10-31T09:27:36.474023Z"
    }
   },
   "outputs": [],
   "source": [
    "data_train4=data_train3.merge(df_tr3,how='left',on='UID')"
   ]
  },
  {
   "cell_type": "code",
   "execution_count": null,
   "metadata": {
    "ExecuteTime": {
     "end_time": "2018-10-31T09:27:42.994369Z",
     "start_time": "2018-10-31T09:27:42.940168Z"
    }
   },
   "outputs": [],
   "source": [
    "data_train4.head()"
   ]
  },
  {
   "cell_type": "code",
   "execution_count": null,
   "metadata": {
    "ExecuteTime": {
     "end_time": "2018-10-31T09:28:51.913168Z",
     "start_time": "2018-10-31T09:28:51.888166Z"
    }
   },
   "outputs": [],
   "source": [
    "df_tr3.head()"
   ]
  },
  {
   "cell_type": "code",
   "execution_count": null,
   "metadata": {
    "ExecuteTime": {
     "end_time": "2018-10-31T09:32:28.048957Z",
     "start_time": "2018-10-31T09:32:28.011355Z"
    }
   },
   "outputs": [],
   "source": [
    "df_tr1.head()"
   ]
  },
  {
   "cell_type": "code",
   "execution_count": null,
   "metadata": {
    "ExecuteTime": {
     "end_time": "2018-10-31T09:43:14.639257Z",
     "start_time": "2018-10-31T09:43:14.592655Z"
    }
   },
   "outputs": [],
   "source": [
    "df_tr1[['UID','tr_trans_amt','tr_bal']].groupby('UID').agg(['min','max','mean','median']).columns.values"
   ]
  },
  {
   "cell_type": "code",
   "execution_count": null,
   "metadata": {
    "ExecuteTime": {
     "end_time": "2018-10-31T09:55:07.206790Z",
     "start_time": "2018-10-31T09:55:07.130187Z"
    }
   },
   "outputs": [],
   "source": [
    "df_tr1[['UID','tr_trans_amt','tr_bal']]\\\n",
    ".groupby('UID').agg(['min','max','mean','median']).loc[10000:10005,[('tr_trans_amt', 'mean')]]"
   ]
  },
  {
   "cell_type": "code",
   "execution_count": null,
   "metadata": {
    "ExecuteTime": {
     "end_time": "2018-10-31T09:54:32.497223Z",
     "start_time": "2018-10-31T09:54:32.430021Z"
    }
   },
   "outputs": [],
   "source": [
    "df_tr1[['UID','tr_trans_amt','tr_bal']].groupby('UID').agg(['min','max','mean','median']).iloc[1:5,[0,1]]"
   ]
  },
  {
   "cell_type": "code",
   "execution_count": null,
   "metadata": {
    "ExecuteTime": {
     "end_time": "2018-11-01T06:04:15.615380Z",
     "start_time": "2018-11-01T06:04:15.599780Z"
    }
   },
   "outputs": [],
   "source": [
    "df_tr1.shape"
   ]
  },
  {
   "cell_type": "code",
   "execution_count": null,
   "metadata": {
    "ExecuteTime": {
     "end_time": "2018-11-01T07:01:51.032500Z",
     "start_time": "2018-11-01T07:01:50.978497Z"
    }
   },
   "outputs": [],
   "source": [
    "df_tr1[['UID','tr_trans_amt','tr_bal']].groupby('UID').agg(['min','max','mean','median']).head()"
   ]
  },
  {
   "cell_type": "code",
   "execution_count": null,
   "metadata": {
    "ExecuteTime": {
     "end_time": "2018-11-01T06:16:00.287261Z",
     "start_time": "2018-11-01T06:16:00.248659Z"
    }
   },
   "outputs": [],
   "source": [
    "df_tr3.head()"
   ]
  },
  {
   "cell_type": "code",
   "execution_count": null,
   "metadata": {
    "ExecuteTime": {
     "end_time": "2018-11-01T07:00:45.765352Z",
     "start_time": "2018-11-01T07:00:45.711151Z"
    }
   },
   "outputs": [],
   "source": [
    "data_train4.head()"
   ]
  },
  {
   "cell_type": "code",
   "execution_count": null,
   "metadata": {
    "ExecuteTime": {
     "end_time": "2018-11-01T07:03:08.847296Z",
     "start_time": "2018-11-01T07:03:08.779693Z"
    }
   },
   "outputs": [],
   "source": [
    "df_tr3_price=df_tr1[['UID','tr_trans_amt','tr_bal']].groupby('UID').agg(['min','max','mean','median'])"
   ]
  },
  {
   "cell_type": "code",
   "execution_count": null,
   "metadata": {
    "ExecuteTime": {
     "end_time": "2018-11-01T07:04:26.955614Z",
     "start_time": "2018-11-01T07:04:26.875011Z"
    }
   },
   "outputs": [],
   "source": [
    "data_train5=data_train4.merge(df_tr3_price,how='left',on='UID')"
   ]
  },
  {
   "cell_type": "code",
   "execution_count": null,
   "metadata": {
    "ExecuteTime": {
     "end_time": "2018-11-01T07:08:03.828787Z",
     "start_time": "2018-11-01T07:08:03.801187Z"
    }
   },
   "outputs": [],
   "source": [
    "data_train5.head()"
   ]
  },
  {
   "cell_type": "code",
   "execution_count": null,
   "metadata": {
    "ExecuteTime": {
     "end_time": "2018-11-01T09:27:30.780394Z",
     "start_time": "2018-11-01T09:27:30.762794Z"
    }
   },
   "outputs": [],
   "source": [
    "data_train5.columns.values"
   ]
  },
  {
   "cell_type": "code",
   "execution_count": null,
   "metadata": {
    "ExecuteTime": {
     "end_time": "2018-11-01T07:25:49.039312Z",
     "start_time": "2018-11-01T07:25:48.930707Z"
    }
   },
   "outputs": [],
   "source": [
    "for i in [('tr_trans_amt', 'min'), ('tr_trans_amt', 'max'),('tr_trans_amt', 'mean'),('tr_trans_amt', 'median'),('tr_bal', 'min'), ('tr_bal', 'max'), ('tr_bal', 'mean'),('tr_bal', 'median')]:\n",
    "    data_train5.rename(columns={i:i[0]+'_'+i[1]},inplace=True)"
   ]
  },
  {
   "cell_type": "code",
   "execution_count": null,
   "metadata": {
    "ExecuteTime": {
     "end_time": "2018-11-01T07:25:56.346277Z",
     "start_time": "2018-11-01T07:25:56.292075Z"
    }
   },
   "outputs": [],
   "source": [
    "data_train5.head()"
   ]
  },
  {
   "cell_type": "code",
   "execution_count": null,
   "metadata": {
    "ExecuteTime": {
     "end_time": "2018-11-01T09:45:31.800418Z",
     "start_time": "2018-11-01T09:45:31.781818Z"
    }
   },
   "outputs": [],
   "source": [
    "data_train5[data_train5['UID']==10000][[i for i in data_train5.columns.values if 'device2' in i]]"
   ]
  },
  {
   "cell_type": "code",
   "execution_count": null,
   "metadata": {},
   "outputs": [],
   "source": []
  },
  {
   "cell_type": "code",
   "execution_count": null,
   "metadata": {},
   "outputs": [],
   "source": []
  },
  {
   "cell_type": "code",
   "execution_count": null,
   "metadata": {},
   "outputs": [],
   "source": []
  },
  {
   "cell_type": "code",
   "execution_count": null,
   "metadata": {},
   "outputs": [],
   "source": []
  },
  {
   "cell_type": "code",
   "execution_count": null,
   "metadata": {},
   "outputs": [],
   "source": []
  },
  {
   "cell_type": "code",
   "execution_count": null,
   "metadata": {},
   "outputs": [],
   "source": []
  },
  {
   "cell_type": "code",
   "execution_count": null,
   "metadata": {},
   "outputs": [],
   "source": []
  }
 ],
 "metadata": {
  "kernelspec": {
   "display_name": "Python 3",
   "language": "python",
   "name": "python3"
  },
  "language_info": {
   "codemirror_mode": {
    "name": "ipython",
    "version": 3
   },
   "file_extension": ".py",
   "mimetype": "text/x-python",
   "name": "python",
   "nbconvert_exporter": "python",
   "pygments_lexer": "ipython3",
   "version": "3.6.3"
  }
 },
 "nbformat": 4,
 "nbformat_minor": 2
}
