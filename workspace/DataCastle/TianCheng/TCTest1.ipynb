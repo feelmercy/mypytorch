{
 "cells": [
  {
   "cell_type": "code",
   "execution_count": 1,
   "metadata": {
    "ExecuteTime": {
     "end_time": "2018-11-08T03:11:51.327430Z",
     "start_time": "2018-11-08T03:11:50.492382Z"
    }
   },
   "outputs": [],
   "source": [
    "import pandas as pd,numpy as np\n",
    "from sklearn.metrics import auc"
   ]
  },
  {
   "cell_type": "code",
   "execution_count": 2,
   "metadata": {
    "ExecuteTime": {
     "end_time": "2018-11-08T03:11:51.331430Z",
     "start_time": "2018-11-08T03:11:51.328430Z"
    }
   },
   "outputs": [],
   "source": [
    "pd.set_option('max_columns',30) "
   ]
  },
  {
   "cell_type": "code",
   "execution_count": 3,
   "metadata": {
    "ExecuteTime": {
     "end_time": "2018-11-08T03:11:53.451551Z",
     "start_time": "2018-11-08T03:11:51.332430Z"
    }
   },
   "outputs": [],
   "source": [
    "df_op=pd.read_csv('F:\\study\\\\ml\\\\DataSet\\\\TianChengJinRong\\\\operation_TRAIN.csv')\n",
    "df_tr=pd.read_csv('F:\\study\\\\ml\\\\DataSet\\\\TianChengJinRong\\\\transaction_TRAIN.csv')\n",
    "df_tag=pd.read_csv('F:\\study\\\\ml\\\\DataSet\\\\TianChengJinRong\\\\tag_TRAIN.csv')"
   ]
  },
  {
   "cell_type": "code",
   "execution_count": 6,
   "metadata": {
    "ExecuteTime": {
     "end_time": "2018-11-08T03:13:37.423498Z",
     "start_time": "2018-11-08T03:13:37.396497Z"
    }
   },
   "outputs": [
    {
     "data": {
      "text/plain": [
       "4"
      ]
     },
     "execution_count": 6,
     "metadata": {},
     "output_type": "execute_result"
    }
   ],
   "source": [
    "df_tr.channel.nunique()"
   ]
  },
  {
   "cell_type": "code",
   "execution_count": 4,
   "metadata": {
    "ExecuteTime": {
     "end_time": "2018-11-08T03:11:54.769627Z",
     "start_time": "2018-11-08T03:11:53.452551Z"
    }
   },
   "outputs": [],
   "source": [
    "df_op=df_op.drop_duplicates()\n",
    "df_tr=df_tr.drop_duplicates()\n",
    "df_tag=df_tag.drop_duplicates()"
   ]
  },
  {
   "cell_type": "code",
   "execution_count": null,
   "metadata": {
    "ExecuteTime": {
     "end_time": "2018-11-06T06:23:16.292345Z",
     "start_time": "2018-11-06T06:23:16.285344Z"
    }
   },
   "outputs": [],
   "source": [
    "df_op[df_op['UID']==10006]['device_code1']"
   ]
  },
  {
   "cell_type": "code",
   "execution_count": null,
   "metadata": {},
   "outputs": [],
   "source": []
  },
  {
   "cell_type": "code",
   "execution_count": null,
   "metadata": {
    "ExecuteTime": {
     "end_time": "2018-11-06T06:23:16.333347Z",
     "start_time": "2018-11-06T06:23:16.293345Z"
    }
   },
   "outputs": [],
   "source": [
    "a=df_op[['UID','day']].groupby('UID').sum().index\n",
    "b=df_tr[['UID','day']].groupby('UID').sum().index"
   ]
  },
  {
   "cell_type": "code",
   "execution_count": null,
   "metadata": {
    "ExecuteTime": {
     "end_time": "2018-11-06T06:23:16.340347Z",
     "start_time": "2018-11-06T06:23:16.334347Z"
    }
   },
   "outputs": [],
   "source": [
    "data_train=pd.DataFrame()\n",
    "data_train['UID']=np.array(a | b)"
   ]
  },
  {
   "cell_type": "code",
   "execution_count": null,
   "metadata": {
    "ExecuteTime": {
     "end_time": "2018-11-06T06:23:16.387350Z",
     "start_time": "2018-11-06T06:23:16.341347Z"
    }
   },
   "outputs": [],
   "source": [
    "data_train['op_count']=0\n",
    "data_train.loc[data_train['UID'].isin(df_op[['UID','day']].groupby('UID').sum().index),['op_count']]=\\\n",
    "df_op[['UID','day']].groupby('UID').count().values"
   ]
  },
  {
   "cell_type": "code",
   "execution_count": null,
   "metadata": {
    "ExecuteTime": {
     "end_time": "2018-11-06T06:23:16.419352Z",
     "start_time": "2018-11-06T06:23:16.388350Z"
    }
   },
   "outputs": [],
   "source": [
    "data_train['tr_count']=0\n",
    "data_train.loc[data_train['UID'].isin(df_tr[['UID','day']].groupby('UID').sum().index),['tr_count']]=\\\n",
    "df_tr[['UID','day']].groupby('UID').count().values"
   ]
  },
  {
   "cell_type": "code",
   "execution_count": null,
   "metadata": {
    "ExecuteTime": {
     "end_time": "2018-11-06T06:23:16.698368Z",
     "start_time": "2018-11-06T06:23:16.420352Z"
    }
   },
   "outputs": [],
   "source": [
    "op_days=pd.DataFrame()\n",
    "op_days['UID']=df_op['UID']\n",
    "op_days=pd.concat([op_days,pd.get_dummies(df_op['day'],prefix='op_day')],axis=1)\n",
    "op_days_sum=op_days.groupby(by='UID').sum()"
   ]
  },
  {
   "cell_type": "code",
   "execution_count": null,
   "metadata": {
    "ExecuteTime": {
     "end_time": "2018-11-06T06:23:16.851377Z",
     "start_time": "2018-11-06T06:23:16.702368Z"
    }
   },
   "outputs": [],
   "source": [
    "tr_days=pd.DataFrame()\n",
    "tr_days['UID']=df_tr['UID']\n",
    "tr_days=pd.concat([tr_days,pd.get_dummies(df_tr['day'],prefix='tr_day')],axis=1)\n",
    "tr_days_sum=tr_days.groupby(by='UID').sum()"
   ]
  },
  {
   "cell_type": "code",
   "execution_count": null,
   "metadata": {
    "ExecuteTime": {
     "end_time": "2018-11-06T06:23:16.856377Z",
     "start_time": "2018-11-06T06:23:16.852377Z"
    }
   },
   "outputs": [],
   "source": [
    "data_train1=data_train"
   ]
  },
  {
   "cell_type": "code",
   "execution_count": null,
   "metadata": {
    "ExecuteTime": {
     "end_time": "2018-11-06T06:23:16.894379Z",
     "start_time": "2018-11-06T06:23:16.860377Z"
    }
   },
   "outputs": [],
   "source": [
    "data_train1=pd.merge(data_train1,op_days_sum,how='left',on='UID')"
   ]
  },
  {
   "cell_type": "code",
   "execution_count": null,
   "metadata": {
    "ExecuteTime": {
     "end_time": "2018-11-06T06:23:16.930381Z",
     "start_time": "2018-11-06T06:23:16.898379Z"
    }
   },
   "outputs": [],
   "source": [
    "data_train1.head()"
   ]
  },
  {
   "cell_type": "code",
   "execution_count": null,
   "metadata": {
    "ExecuteTime": {
     "end_time": "2018-11-06T06:23:16.941382Z",
     "start_time": "2018-11-06T06:23:16.935381Z"
    }
   },
   "outputs": [],
   "source": [
    "from sklearn.preprocessing import LabelEncoder\n",
    "le=LabelEncoder()"
   ]
  },
  {
   "cell_type": "code",
   "execution_count": null,
   "metadata": {
    "ExecuteTime": {
     "end_time": "2018-11-06T06:23:16.953382Z",
     "start_time": "2018-11-06T06:23:16.946382Z"
    }
   },
   "outputs": [],
   "source": [
    "def op_object(train):\n",
    "    for i in ['mode','os','version','']:\n",
    "        train[i]=train[i].factorize()[0]\n",
    "#         test[i]=test[i].factorize()[0]\n",
    "        train[i]=le.fit_transform(train[i])\n",
    "#         test[i]=le.fit_transform(test[i]) \n",
    "    return train\n"
   ]
  },
  {
   "cell_type": "code",
   "execution_count": null,
   "metadata": {
    "ExecuteTime": {
     "end_time": "2018-11-06T06:23:16.965383Z",
     "start_time": "2018-11-06T06:23:16.956383Z"
    }
   },
   "outputs": [],
   "source": [
    "op_col2=[i for i in df_op.columns.values ]\n",
    "op_col2.remove('time')\n",
    "op_col2.remove('day')\n",
    "op_col2.remove('UID')\n",
    "op_col2"
   ]
  },
  {
   "cell_type": "code",
   "execution_count": null,
   "metadata": {
    "ExecuteTime": {
     "end_time": "2018-11-06T06:23:16.974384Z",
     "start_time": "2018-11-06T06:23:16.968383Z"
    }
   },
   "outputs": [],
   "source": [
    "def fun_ob2le(train,names):\n",
    "    for i in names:\n",
    "        train[i]=pd.factorize(train[i])[0]\n",
    "        train[i]=le.fit_transform(train[i])\n",
    "    return train"
   ]
  },
  {
   "cell_type": "code",
   "execution_count": null,
   "metadata": {
    "ExecuteTime": {
     "end_time": "2018-11-06T06:23:18.314460Z",
     "start_time": "2018-11-06T06:23:16.977384Z"
    }
   },
   "outputs": [],
   "source": [
    "df_op1=df_op\n",
    "df_op1=fun_ob2le(df_op1,op_col2)\n",
    "df_op1.head()"
   ]
  },
  {
   "cell_type": "code",
   "execution_count": null,
   "metadata": {
    "ExecuteTime": {
     "end_time": "2018-11-06T06:23:18.614477Z",
     "start_time": "2018-11-06T06:23:18.315460Z"
    }
   },
   "outputs": [],
   "source": [
    "df_op2=pd.DataFrame()\n",
    "df_op2=df_op['UID']\n",
    "for i in ['success','os','version','mode']:\n",
    "    df_op2=pd.concat([df_op2,pd.get_dummies(df_op1[i],prefix=i)],axis=1)   \n",
    "df_op2.head()    \n",
    "    "
   ]
  },
  {
   "cell_type": "code",
   "execution_count": null,
   "metadata": {
    "ExecuteTime": {
     "end_time": "2018-11-06T06:23:19.430524Z",
     "start_time": "2018-11-06T06:23:18.615477Z"
    }
   },
   "outputs": [],
   "source": [
    "df_op3=df_op2.groupby('UID',as_index=False).sum()"
   ]
  },
  {
   "cell_type": "code",
   "execution_count": null,
   "metadata": {
    "ExecuteTime": {
     "end_time": "2018-11-06T06:23:19.470526Z",
     "start_time": "2018-11-06T06:23:19.433524Z"
    }
   },
   "outputs": [],
   "source": [
    "df_op3.head()"
   ]
  },
  {
   "cell_type": "code",
   "execution_count": null,
   "metadata": {
    "ExecuteTime": {
     "end_time": "2018-11-06T06:23:21.081619Z",
     "start_time": "2018-11-06T06:23:19.474527Z"
    }
   },
   "outputs": [],
   "source": [
    "df_op1.groupby('UID').agg('nunique')"
   ]
  },
  {
   "cell_type": "code",
   "execution_count": null,
   "metadata": {
    "ExecuteTime": {
     "end_time": "2018-11-06T06:23:21.112620Z",
     "start_time": "2018-11-06T06:23:21.083619Z"
    }
   },
   "outputs": [],
   "source": [
    "df_op1[['UID','device_code1']].groupby('UID').agg('max')['device_code1'].apply(lambda x:0 if x==0 else 1)"
   ]
  },
  {
   "cell_type": "code",
   "execution_count": null,
   "metadata": {
    "ExecuteTime": {
     "end_time": "2018-11-06T06:23:21.123621Z",
     "start_time": "2018-11-06T06:23:21.113620Z"
    }
   },
   "outputs": [],
   "source": [
    "#del df_ios"
   ]
  },
  {
   "cell_type": "code",
   "execution_count": null,
   "metadata": {
    "ExecuteTime": {
     "end_time": "2018-11-06T06:23:21.156623Z",
     "start_time": "2018-11-06T06:23:21.124621Z"
    }
   },
   "outputs": [],
   "source": [
    "df_ios=df_op1[['UID','device_code1','device_code3']].groupby('UID',as_index=False).agg('max')"
   ]
  },
  {
   "cell_type": "code",
   "execution_count": null,
   "metadata": {
    "ExecuteTime": {
     "end_time": "2018-11-06T06:23:21.171624Z",
     "start_time": "2018-11-06T06:23:21.157623Z"
    }
   },
   "outputs": [],
   "source": [
    "df_ios['device_code1']=df_ios['device_code1'].apply(lambda x: 1 if x>0 else 0)\n",
    "df_ios['device_code3']=df_ios['device_code3'].apply(lambda x: 1 if x>0 else 0)"
   ]
  },
  {
   "cell_type": "code",
   "execution_count": null,
   "metadata": {
    "ExecuteTime": {
     "end_time": "2018-11-06T06:23:21.180624Z",
     "start_time": "2018-11-06T06:23:21.172624Z"
    }
   },
   "outputs": [],
   "source": [
    "df_ios.head()"
   ]
  },
  {
   "cell_type": "code",
   "execution_count": null,
   "metadata": {
    "ExecuteTime": {
     "end_time": "2018-11-06T06:23:21.188625Z",
     "start_time": "2018-11-06T06:23:21.181624Z"
    }
   },
   "outputs": [],
   "source": [
    "df_ios.rename(columns={'device_code1':'is_android','device_code3':'is_ios'},inplace=True)"
   ]
  },
  {
   "cell_type": "code",
   "execution_count": null,
   "metadata": {
    "ExecuteTime": {
     "end_time": "2018-11-06T06:23:21.197625Z",
     "start_time": "2018-11-06T06:23:21.190625Z"
    }
   },
   "outputs": [],
   "source": [
    "data_train1.shape"
   ]
  },
  {
   "cell_type": "code",
   "execution_count": null,
   "metadata": {
    "ExecuteTime": {
     "end_time": "2018-11-06T06:23:21.228627Z",
     "start_time": "2018-11-06T06:23:21.198625Z"
    }
   },
   "outputs": [],
   "source": [
    "data_train1.head()"
   ]
  },
  {
   "cell_type": "code",
   "execution_count": null,
   "metadata": {
    "ExecuteTime": {
     "end_time": "2018-11-06T06:23:21.240628Z",
     "start_time": "2018-11-06T06:23:21.230627Z"
    }
   },
   "outputs": [],
   "source": [
    "data_train2=pd.merge(data_train1,df_ios,how='left',on='UID')"
   ]
  },
  {
   "cell_type": "code",
   "execution_count": null,
   "metadata": {
    "ExecuteTime": {
     "end_time": "2018-11-06T06:23:21.247628Z",
     "start_time": "2018-11-06T06:23:21.241628Z"
    }
   },
   "outputs": [],
   "source": [
    "op1_col=df_op.columns.values.tolist()\n",
    "op1_col1=[op1_col[0]]\n",
    "op1_col1.extend(op1_col[7:9])\n",
    "op1_col1.extend(op1_col[12:])\n",
    "op1_col1\n"
   ]
  },
  {
   "cell_type": "code",
   "execution_count": null,
   "metadata": {
    "ExecuteTime": {
     "end_time": "2018-11-06T06:23:21.262629Z",
     "start_time": "2018-11-06T06:23:21.249628Z"
    }
   },
   "outputs": [],
   "source": [
    "df_op1.head()"
   ]
  },
  {
   "cell_type": "code",
   "execution_count": null,
   "metadata": {
    "ExecuteTime": {
     "end_time": "2018-11-06T06:23:21.280630Z",
     "start_time": "2018-11-06T06:23:21.263629Z"
    }
   },
   "outputs": [],
   "source": [
    "df_op1[df_op1['UID']==10000].head()"
   ]
  },
  {
   "cell_type": "code",
   "execution_count": null,
   "metadata": {
    "ExecuteTime": {
     "end_time": "2018-11-06T06:23:21.374635Z",
     "start_time": "2018-11-06T06:23:21.281630Z"
    }
   },
   "outputs": [],
   "source": [
    "df_op2"
   ]
  },
  {
   "cell_type": "code",
   "execution_count": null,
   "metadata": {
    "ExecuteTime": {
     "end_time": "2018-11-06T06:23:21.379636Z",
     "start_time": "2018-11-06T06:23:21.375635Z"
    }
   },
   "outputs": [],
   "source": [
    "op1_col1"
   ]
  },
  {
   "cell_type": "code",
   "execution_count": null,
   "metadata": {
    "ExecuteTime": {
     "end_time": "2018-11-06T06:23:22.970727Z",
     "start_time": "2018-11-06T06:23:21.380636Z"
    }
   },
   "outputs": [],
   "source": [
    "df_op.groupby('UID').agg('nunique')"
   ]
  },
  {
   "cell_type": "code",
   "execution_count": null,
   "metadata": {
    "ExecuteTime": {
     "end_time": "2018-11-06T06:23:23.621764Z",
     "start_time": "2018-11-06T06:23:22.971727Z"
    }
   },
   "outputs": [],
   "source": [
    "df_op1[op1_col1].groupby(by=['UID']).agg('nunique').iloc[:,1:]"
   ]
  },
  {
   "cell_type": "code",
   "execution_count": null,
   "metadata": {
    "ExecuteTime": {
     "end_time": "2018-11-06T06:23:24.268801Z",
     "start_time": "2018-11-06T06:23:23.622764Z"
    }
   },
   "outputs": [],
   "source": [
    "df_op1[op1_col1].groupby(by=['UID']).agg('nunique').iloc[:,1:]"
   ]
  },
  {
   "cell_type": "code",
   "execution_count": null,
   "metadata": {
    "ExecuteTime": {
     "end_time": "2018-11-06T06:23:24.902837Z",
     "start_time": "2018-11-06T06:23:24.270801Z"
    }
   },
   "outputs": [],
   "source": [
    "df_op4=df_op1[op1_col1].groupby(by=['UID']).agg('nunique').iloc[:,1:]"
   ]
  },
  {
   "cell_type": "code",
   "execution_count": null,
   "metadata": {
    "ExecuteTime": {
     "end_time": "2018-11-06T06:23:24.913838Z",
     "start_time": "2018-11-06T06:23:24.903837Z"
    }
   },
   "outputs": [],
   "source": [
    "df_op4.head()"
   ]
  },
  {
   "cell_type": "code",
   "execution_count": null,
   "metadata": {
    "ExecuteTime": {
     "end_time": "2018-11-06T06:23:24.920838Z",
     "start_time": "2018-11-06T06:23:24.914838Z"
    }
   },
   "outputs": [],
   "source": [
    "#########  data_train2,merge df_op3,df_op4,"
   ]
  },
  {
   "cell_type": "code",
   "execution_count": null,
   "metadata": {
    "ExecuteTime": {
     "end_time": "2018-11-06T06:23:24.973841Z",
     "start_time": "2018-11-06T06:23:24.921838Z"
    }
   },
   "outputs": [],
   "source": [
    "data_train2.merge(df_op3,how='left',on='UID').head()"
   ]
  },
  {
   "cell_type": "code",
   "execution_count": null,
   "metadata": {
    "ExecuteTime": {
     "end_time": "2018-11-06T06:23:25.008843Z",
     "start_time": "2018-11-06T06:23:24.974841Z"
    }
   },
   "outputs": [],
   "source": [
    "data_train2.merge(df_op4,how='left',on='UID').head()"
   ]
  },
  {
   "cell_type": "code",
   "execution_count": null,
   "metadata": {
    "ExecuteTime": {
     "end_time": "2018-11-06T06:23:25.045845Z",
     "start_time": "2018-11-06T06:23:25.009843Z"
    }
   },
   "outputs": [],
   "source": [
    "data_train3=data_train2.merge(df_op3,how='left',on='UID',)\n",
    "data_train3=data_train3.merge(df_op4,how='left',on='UID')"
   ]
  },
  {
   "cell_type": "code",
   "execution_count": null,
   "metadata": {
    "ExecuteTime": {
     "end_time": "2018-11-06T06:23:25.073847Z",
     "start_time": "2018-11-06T06:23:25.046845Z"
    }
   },
   "outputs": [],
   "source": [
    "data_train3.head()"
   ]
  },
  {
   "cell_type": "code",
   "execution_count": null,
   "metadata": {
    "ExecuteTime": {
     "end_time": "2018-11-06T06:23:25.103849Z",
     "start_time": "2018-11-06T06:23:25.074847Z"
    }
   },
   "outputs": [],
   "source": [
    "df_tr.shape"
   ]
  },
  {
   "cell_type": "code",
   "execution_count": null,
   "metadata": {
    "ExecuteTime": {
     "end_time": "2018-11-06T06:23:25.128850Z",
     "start_time": "2018-11-06T06:23:25.104849Z"
    }
   },
   "outputs": [],
   "source": [
    "df_tr.head()"
   ]
  },
  {
   "cell_type": "code",
   "execution_count": null,
   "metadata": {
    "ExecuteTime": {
     "end_time": "2018-11-06T06:23:25.153851Z",
     "start_time": "2018-11-06T06:23:25.129850Z"
    }
   },
   "outputs": [],
   "source": [
    "df_tr[df_tr['UID']==10001].head()"
   ]
  },
  {
   "cell_type": "code",
   "execution_count": null,
   "metadata": {
    "ExecuteTime": {
     "end_time": "2018-11-06T06:23:25.938896Z",
     "start_time": "2018-11-06T06:23:25.154851Z"
    }
   },
   "outputs": [],
   "source": [
    "df_tr1=df_tr\n",
    "# df_tr1_col=df_tr.columns.values.tolist()\n",
    "for i in df_tr.columns.values.tolist():\n",
    "    if 'UID' not in i:\n",
    "        df_tr1.rename(columns={i:'tr_'+i},inplace=True)"
   ]
  },
  {
   "cell_type": "code",
   "execution_count": null,
   "metadata": {
    "ExecuteTime": {
     "end_time": "2018-11-06T06:23:25.960898Z",
     "start_time": "2018-11-06T06:23:25.939896Z"
    }
   },
   "outputs": [],
   "source": [
    "df_tr1.head()"
   ]
  },
  {
   "cell_type": "code",
   "execution_count": null,
   "metadata": {
    "ExecuteTime": {
     "end_time": "2018-11-06T06:23:25.992899Z",
     "start_time": "2018-11-06T06:23:25.962898Z"
    }
   },
   "outputs": [],
   "source": [
    "# def fun_ob2le(train,names):\n",
    "#     for i in names:\n",
    "#         train[i]=pd.factorize(train[i])[0]\n",
    "#         train[i]=le.fit_transform(train[i])\n",
    "#     return train"
   ]
  },
  {
   "cell_type": "code",
   "execution_count": null,
   "metadata": {
    "ExecuteTime": {
     "end_time": "2018-11-06T06:23:26.000900Z",
     "start_time": "2018-11-06T06:23:25.993899Z"
    }
   },
   "outputs": [],
   "source": [
    "df_tr1.columns.values.tolist()"
   ]
  },
  {
   "cell_type": "code",
   "execution_count": null,
   "metadata": {
    "ExecuteTime": {
     "end_time": "2018-11-06T06:23:44.031931Z",
     "start_time": "2018-11-06T06:23:44.019931Z"
    }
   },
   "outputs": [],
   "source": [
    "ob2le_name=[]\n",
    "for i in df_tr1.columns.values.tolist():\n",
    "    if  i not in ['UID','tr_day','tr_time','tr_trans_amt','tr_bal']:\n",
    "        ob2le_name.append(i)\n",
    "ob2le_name        "
   ]
  },
  {
   "cell_type": "code",
   "execution_count": null,
   "metadata": {
    "ExecuteTime": {
     "end_time": "2018-11-06T06:23:49.015216Z",
     "start_time": "2018-11-06T06:23:46.713085Z"
    }
   },
   "outputs": [],
   "source": [
    "df_tr2=pd.DataFrame()\n",
    "df_tr2['UID']=df_tr1['UID']\n",
    "df_tr2=pd.concat([df_tr2,fun_ob2le(df_tr1[ob2le_name],ob2le_name)],axis=1)"
   ]
  },
  {
   "cell_type": "code",
   "execution_count": null,
   "metadata": {
    "ExecuteTime": {
     "end_time": "2018-11-06T06:23:49.030217Z",
     "start_time": "2018-11-06T06:23:49.017216Z"
    }
   },
   "outputs": [],
   "source": [
    "df_tr2.head()"
   ]
  },
  {
   "cell_type": "code",
   "execution_count": null,
   "metadata": {
    "ExecuteTime": {
     "end_time": "2018-11-06T06:23:49.589249Z",
     "start_time": "2018-11-06T06:23:49.031217Z"
    }
   },
   "outputs": [],
   "source": [
    "# df_tr3=\n",
    "df_tr3=df_tr2.groupby('UID').agg('nunique').iloc[:,1:]"
   ]
  },
  {
   "cell_type": "code",
   "execution_count": null,
   "metadata": {
    "ExecuteTime": {
     "end_time": "2018-11-06T06:23:50.639309Z",
     "start_time": "2018-11-06T06:23:50.618308Z"
    }
   },
   "outputs": [],
   "source": [
    "data_train4=data_train3.merge(df_tr3,how='left',on='UID')"
   ]
  },
  {
   "cell_type": "code",
   "execution_count": null,
   "metadata": {
    "ExecuteTime": {
     "end_time": "2018-11-06T06:23:51.351350Z",
     "start_time": "2018-11-06T06:23:51.306347Z"
    }
   },
   "outputs": [],
   "source": [
    "data_train4.head()"
   ]
  },
  {
   "cell_type": "code",
   "execution_count": null,
   "metadata": {
    "ExecuteTime": {
     "end_time": "2018-11-06T06:23:52.284403Z",
     "start_time": "2018-11-06T06:23:52.249401Z"
    }
   },
   "outputs": [],
   "source": [
    "df_tr3.head()"
   ]
  },
  {
   "cell_type": "code",
   "execution_count": null,
   "metadata": {
    "ExecuteTime": {
     "end_time": "2018-11-06T06:23:53.073448Z",
     "start_time": "2018-11-06T06:23:53.023445Z"
    }
   },
   "outputs": [],
   "source": [
    "df_tr1.head()"
   ]
  },
  {
   "cell_type": "code",
   "execution_count": null,
   "metadata": {
    "ExecuteTime": {
     "end_time": "2018-11-06T06:23:53.830492Z",
     "start_time": "2018-11-06T06:23:53.767488Z"
    }
   },
   "outputs": [],
   "source": [
    "df_tr1[['UID','tr_trans_amt','tr_bal']].groupby('UID').agg(['min','max','mean','median']).columns.values"
   ]
  },
  {
   "cell_type": "code",
   "execution_count": null,
   "metadata": {
    "ExecuteTime": {
     "end_time": "2018-11-06T06:23:54.533532Z",
     "start_time": "2018-11-06T06:23:54.416525Z"
    }
   },
   "outputs": [],
   "source": [
    "df_tr1[['UID','tr_trans_amt','tr_bal']]\\\n",
    ".groupby('UID').agg(['min','max','mean','median']).loc[10000:10005,[('tr_trans_amt', 'mean')]]"
   ]
  },
  {
   "cell_type": "code",
   "execution_count": null,
   "metadata": {
    "ExecuteTime": {
     "end_time": "2018-11-06T06:23:55.158568Z",
     "start_time": "2018-11-06T06:23:55.097564Z"
    }
   },
   "outputs": [],
   "source": [
    "df_tr1[['UID','tr_trans_amt','tr_bal']].groupby('UID').agg(['min','max','mean','median']).iloc[1:5,[0,1]]"
   ]
  },
  {
   "cell_type": "code",
   "execution_count": null,
   "metadata": {
    "ExecuteTime": {
     "end_time": "2018-11-06T06:23:55.739601Z",
     "start_time": "2018-11-06T06:23:55.731600Z"
    }
   },
   "outputs": [],
   "source": [
    "df_tr1.shape"
   ]
  },
  {
   "cell_type": "code",
   "execution_count": null,
   "metadata": {
    "ExecuteTime": {
     "end_time": "2018-11-06T06:23:56.413639Z",
     "start_time": "2018-11-06T06:23:56.345636Z"
    }
   },
   "outputs": [],
   "source": [
    "df_tr1[['UID','tr_trans_amt','tr_bal']].groupby('UID').agg(['min','max','mean','median']).head()"
   ]
  },
  {
   "cell_type": "code",
   "execution_count": null,
   "metadata": {
    "ExecuteTime": {
     "end_time": "2018-11-06T06:23:57.119680Z",
     "start_time": "2018-11-06T06:23:57.082678Z"
    }
   },
   "outputs": [],
   "source": [
    "df_tr3.head()"
   ]
  },
  {
   "cell_type": "code",
   "execution_count": null,
   "metadata": {
    "ExecuteTime": {
     "end_time": "2018-11-06T06:23:57.976729Z",
     "start_time": "2018-11-06T06:23:57.940727Z"
    }
   },
   "outputs": [],
   "source": [
    "data_train4.head()"
   ]
  },
  {
   "cell_type": "code",
   "execution_count": null,
   "metadata": {
    "ExecuteTime": {
     "end_time": "2018-11-06T06:23:58.697770Z",
     "start_time": "2018-11-06T06:23:58.632766Z"
    }
   },
   "outputs": [],
   "source": [
    "df_tr3_price=df_tr1[['UID','tr_trans_amt','tr_bal']].groupby('UID').agg(['min','max','mean','median'])"
   ]
  },
  {
   "cell_type": "code",
   "execution_count": null,
   "metadata": {
    "ExecuteTime": {
     "end_time": "2018-11-06T06:23:59.279803Z",
     "start_time": "2018-11-06T06:23:59.244801Z"
    }
   },
   "outputs": [],
   "source": [
    "data_train5=data_train4.merge(df_tr3_price,how='left',on='UID')"
   ]
  },
  {
   "cell_type": "code",
   "execution_count": null,
   "metadata": {
    "ExecuteTime": {
     "end_time": "2018-11-06T06:24:00.145853Z",
     "start_time": "2018-11-06T06:24:00.087850Z"
    }
   },
   "outputs": [],
   "source": [
    "data_train5.head()"
   ]
  },
  {
   "cell_type": "code",
   "execution_count": null,
   "metadata": {
    "ExecuteTime": {
     "end_time": "2018-11-06T06:24:01.795947Z",
     "start_time": "2018-11-06T06:24:01.788947Z"
    }
   },
   "outputs": [],
   "source": [
    "data_train5.columns.values"
   ]
  },
  {
   "cell_type": "code",
   "execution_count": null,
   "metadata": {
    "ExecuteTime": {
     "end_time": "2018-11-06T06:24:03.328035Z",
     "start_time": "2018-11-06T06:24:03.224029Z"
    }
   },
   "outputs": [],
   "source": [
    "for i in [('tr_trans_amt', 'min'), ('tr_trans_amt', 'max'),('tr_trans_amt', 'mean'),('tr_trans_amt', 'median'),('tr_bal', 'min'), ('tr_bal', 'max'), ('tr_bal', 'mean'),('tr_bal', 'median')]:\n",
    "    data_train5.rename(columns={i:i[0]+'_'+i[1]},inplace=True)"
   ]
  },
  {
   "cell_type": "code",
   "execution_count": null,
   "metadata": {
    "ExecuteTime": {
     "end_time": "2018-11-06T06:24:04.182084Z",
     "start_time": "2018-11-06T06:24:04.113080Z"
    }
   },
   "outputs": [],
   "source": [
    "data_train5.head()"
   ]
  },
  {
   "cell_type": "code",
   "execution_count": null,
   "metadata": {
    "ExecuteTime": {
     "end_time": "2018-11-06T06:24:04.939127Z",
     "start_time": "2018-11-06T06:24:04.921126Z"
    }
   },
   "outputs": [],
   "source": [
    "data_train5[data_train5['UID']==10000][[i for i in data_train5.columns.values if 'device2' in i]]"
   ]
  },
  {
   "cell_type": "code",
   "execution_count": null,
   "metadata": {},
   "outputs": [],
   "source": []
  },
  {
   "cell_type": "code",
   "execution_count": 8,
   "metadata": {
    "ExecuteTime": {
     "end_time": "2018-11-14T02:28:35.829292Z",
     "start_time": "2018-11-14T02:28:35.777690Z"
    }
   },
   "outputs": [],
   "source": [
    "df_tr2=df_tr.copy()"
   ]
  },
  {
   "cell_type": "code",
   "execution_count": 9,
   "metadata": {
    "ExecuteTime": {
     "end_time": "2018-11-14T02:28:42.093610Z",
     "start_time": "2018-11-14T02:28:42.060009Z"
    }
   },
   "outputs": [
    {
     "data": {
      "text/html": [
       "<div>\n",
       "<style scoped>\n",
       "    .dataframe tbody tr th:only-of-type {\n",
       "        vertical-align: middle;\n",
       "    }\n",
       "\n",
       "    .dataframe tbody tr th {\n",
       "        vertical-align: top;\n",
       "    }\n",
       "\n",
       "    .dataframe thead th {\n",
       "        text-align: right;\n",
       "    }\n",
       "</style>\n",
       "<table border=\"1\" class=\"dataframe\">\n",
       "  <thead>\n",
       "    <tr style=\"text-align: right;\">\n",
       "      <th></th>\n",
       "      <th>UID</th>\n",
       "      <th>channel</th>\n",
       "      <th>day</th>\n",
       "      <th>time</th>\n",
       "      <th>trans_amt</th>\n",
       "      <th>amt_src1</th>\n",
       "      <th>merchant</th>\n",
       "      <th>code1</th>\n",
       "      <th>code2</th>\n",
       "      <th>trans_type1</th>\n",
       "      <th>acc_id1</th>\n",
       "      <th>device_code1</th>\n",
       "      <th>device_code2</th>\n",
       "      <th>device_code3</th>\n",
       "      <th>device1</th>\n",
       "      <th>device2</th>\n",
       "      <th>mac1</th>\n",
       "      <th>ip1</th>\n",
       "      <th>bal</th>\n",
       "      <th>amt_src2</th>\n",
       "      <th>acc_id2</th>\n",
       "      <th>acc_id3</th>\n",
       "      <th>geo_code</th>\n",
       "      <th>trans_type2</th>\n",
       "      <th>market_code</th>\n",
       "      <th>market_type</th>\n",
       "      <th>ip1_sub</th>\n",
       "    </tr>\n",
       "  </thead>\n",
       "  <tbody>\n",
       "    <tr>\n",
       "      <th>0</th>\n",
       "      <td>19092</td>\n",
       "      <td>102</td>\n",
       "      <td>30</td>\n",
       "      <td>11:48:47</td>\n",
       "      <td>1459</td>\n",
       "      <td>acdbdb842ac20f1e</td>\n",
       "      <td>abc6bc660561e0eb</td>\n",
       "      <td>NaN</td>\n",
       "      <td>NaN</td>\n",
       "      <td>26bcf43a19df14c8</td>\n",
       "      <td>544dfdeedad0ae67</td>\n",
       "      <td>ffda8eaa413171cb</td>\n",
       "      <td>b36097d8a79e5b43</td>\n",
       "      <td>NaN</td>\n",
       "      <td>d2cf44cec09806cc</td>\n",
       "      <td>VIVO X9L</td>\n",
       "      <td>7aaec0f23bfa60ea</td>\n",
       "      <td>a664530c1fb20abe</td>\n",
       "      <td>1007</td>\n",
       "      <td>9fefed0a981dcb7a</td>\n",
       "      <td>NaN</td>\n",
       "      <td>NaN</td>\n",
       "      <td>wsbq</td>\n",
       "      <td>102.0</td>\n",
       "      <td>2ecf94369847c748</td>\n",
       "      <td>1.0</td>\n",
       "      <td>45f4ca1f4e9b9cb7</td>\n",
       "    </tr>\n",
       "    <tr>\n",
       "      <th>1</th>\n",
       "      <td>13465</td>\n",
       "      <td>140</td>\n",
       "      <td>23</td>\n",
       "      <td>16:58:03</td>\n",
       "      <td>725</td>\n",
       "      <td>4d7831c6f695ab19</td>\n",
       "      <td>7a87b1aa20972d48</td>\n",
       "      <td>NaN</td>\n",
       "      <td>NaN</td>\n",
       "      <td>c2f2023d279665b2</td>\n",
       "      <td>NaN</td>\n",
       "      <td>0e305dafdd3af261</td>\n",
       "      <td>365ec16ad4006c4f</td>\n",
       "      <td>NaN</td>\n",
       "      <td>09baf2f39bc3dc86</td>\n",
       "      <td>NEM-AL10</td>\n",
       "      <td>6f675a9b2124d2f8</td>\n",
       "      <td>52abe1e300a8aa10</td>\n",
       "      <td>100</td>\n",
       "      <td>NaN</td>\n",
       "      <td>NaN</td>\n",
       "      <td>NaN</td>\n",
       "      <td>wte7</td>\n",
       "      <td>105.0</td>\n",
       "      <td>NaN</td>\n",
       "      <td>NaN</td>\n",
       "      <td>2b416f1d7e89ad3b</td>\n",
       "    </tr>\n",
       "    <tr>\n",
       "      <th>2</th>\n",
       "      <td>13713</td>\n",
       "      <td>140</td>\n",
       "      <td>22</td>\n",
       "      <td>09:56:39</td>\n",
       "      <td>127</td>\n",
       "      <td>c5fc631370cabc0d</td>\n",
       "      <td>cfd035fc7e0a53b2</td>\n",
       "      <td>NaN</td>\n",
       "      <td>NaN</td>\n",
       "      <td>c2f2023d279665b2</td>\n",
       "      <td>NaN</td>\n",
       "      <td>429d5656ba8f3d01</td>\n",
       "      <td>760cfbfc0c2e3b49</td>\n",
       "      <td>NaN</td>\n",
       "      <td>a92470e4f878a3f4</td>\n",
       "      <td>M3X</td>\n",
       "      <td>99a5f1ff7f3e54f0</td>\n",
       "      <td>e4c132d02ff6c095</td>\n",
       "      <td>100</td>\n",
       "      <td>NaN</td>\n",
       "      <td>NaN</td>\n",
       "      <td>NaN</td>\n",
       "      <td>ws7n</td>\n",
       "      <td>105.0</td>\n",
       "      <td>NaN</td>\n",
       "      <td>NaN</td>\n",
       "      <td>ff71a556d86c4b8f</td>\n",
       "    </tr>\n",
       "    <tr>\n",
       "      <th>3</th>\n",
       "      <td>22703</td>\n",
       "      <td>140</td>\n",
       "      <td>1</td>\n",
       "      <td>18:11:45</td>\n",
       "      <td>99317</td>\n",
       "      <td>a571c7fda8b7df37</td>\n",
       "      <td>c71c876b8979028e</td>\n",
       "      <td>NaN</td>\n",
       "      <td>NaN</td>\n",
       "      <td>c2f2023d279665b2</td>\n",
       "      <td>516e596377b2019c</td>\n",
       "      <td>609954adce541306</td>\n",
       "      <td>31989e264685a18c</td>\n",
       "      <td>NaN</td>\n",
       "      <td>09baf2f39bc3dc86</td>\n",
       "      <td>KNT-UL10</td>\n",
       "      <td>a8dc52f65085212e</td>\n",
       "      <td>e1c78a56cc9dfc8b</td>\n",
       "      <td>100</td>\n",
       "      <td>fbf6bf3c8927414c</td>\n",
       "      <td>NaN</td>\n",
       "      <td>NaN</td>\n",
       "      <td>wqj6</td>\n",
       "      <td>NaN</td>\n",
       "      <td>NaN</td>\n",
       "      <td>NaN</td>\n",
       "      <td>cf1527a0b4173e8f</td>\n",
       "    </tr>\n",
       "    <tr>\n",
       "      <th>4</th>\n",
       "      <td>17816</td>\n",
       "      <td>140</td>\n",
       "      <td>22</td>\n",
       "      <td>13:04:02</td>\n",
       "      <td>3361</td>\n",
       "      <td>c5fc631370cabc0d</td>\n",
       "      <td>6628f5ca013e3582</td>\n",
       "      <td>NaN</td>\n",
       "      <td>NaN</td>\n",
       "      <td>c2f2023d279665b2</td>\n",
       "      <td>NaN</td>\n",
       "      <td>NaN</td>\n",
       "      <td>NaN</td>\n",
       "      <td>2f61e8f52151bd8b</td>\n",
       "      <td>aca4977fbe8741e1</td>\n",
       "      <td>IPHONE 5</td>\n",
       "      <td>NaN</td>\n",
       "      <td>abb6b4b8f15be6d6</td>\n",
       "      <td>100</td>\n",
       "      <td>NaN</td>\n",
       "      <td>NaN</td>\n",
       "      <td>NaN</td>\n",
       "      <td>NaN</td>\n",
       "      <td>105.0</td>\n",
       "      <td>NaN</td>\n",
       "      <td>NaN</td>\n",
       "      <td>cbc62c2b1cb7deb9</td>\n",
       "    </tr>\n",
       "  </tbody>\n",
       "</table>\n",
       "</div>"
      ],
      "text/plain": [
       "     UID  channel  day      time  trans_amt          amt_src1  \\\n",
       "0  19092      102   30  11:48:47       1459  acdbdb842ac20f1e   \n",
       "1  13465      140   23  16:58:03        725  4d7831c6f695ab19   \n",
       "2  13713      140   22  09:56:39        127  c5fc631370cabc0d   \n",
       "3  22703      140    1  18:11:45      99317  a571c7fda8b7df37   \n",
       "4  17816      140   22  13:04:02       3361  c5fc631370cabc0d   \n",
       "\n",
       "           merchant code1 code2       trans_type1           acc_id1  \\\n",
       "0  abc6bc660561e0eb   NaN   NaN  26bcf43a19df14c8  544dfdeedad0ae67   \n",
       "1  7a87b1aa20972d48   NaN   NaN  c2f2023d279665b2               NaN   \n",
       "2  cfd035fc7e0a53b2   NaN   NaN  c2f2023d279665b2               NaN   \n",
       "3  c71c876b8979028e   NaN   NaN  c2f2023d279665b2  516e596377b2019c   \n",
       "4  6628f5ca013e3582   NaN   NaN  c2f2023d279665b2               NaN   \n",
       "\n",
       "       device_code1      device_code2      device_code3           device1  \\\n",
       "0  ffda8eaa413171cb  b36097d8a79e5b43               NaN  d2cf44cec09806cc   \n",
       "1  0e305dafdd3af261  365ec16ad4006c4f               NaN  09baf2f39bc3dc86   \n",
       "2  429d5656ba8f3d01  760cfbfc0c2e3b49               NaN  a92470e4f878a3f4   \n",
       "3  609954adce541306  31989e264685a18c               NaN  09baf2f39bc3dc86   \n",
       "4               NaN               NaN  2f61e8f52151bd8b  aca4977fbe8741e1   \n",
       "\n",
       "    device2              mac1               ip1   bal          amt_src2  \\\n",
       "0  VIVO X9L  7aaec0f23bfa60ea  a664530c1fb20abe  1007  9fefed0a981dcb7a   \n",
       "1  NEM-AL10  6f675a9b2124d2f8  52abe1e300a8aa10   100               NaN   \n",
       "2       M3X  99a5f1ff7f3e54f0  e4c132d02ff6c095   100               NaN   \n",
       "3  KNT-UL10  a8dc52f65085212e  e1c78a56cc9dfc8b   100  fbf6bf3c8927414c   \n",
       "4  IPHONE 5               NaN  abb6b4b8f15be6d6   100               NaN   \n",
       "\n",
       "  acc_id2 acc_id3 geo_code  trans_type2       market_code  market_type  \\\n",
       "0     NaN     NaN     wsbq        102.0  2ecf94369847c748          1.0   \n",
       "1     NaN     NaN     wte7        105.0               NaN          NaN   \n",
       "2     NaN     NaN     ws7n        105.0               NaN          NaN   \n",
       "3     NaN     NaN     wqj6          NaN               NaN          NaN   \n",
       "4     NaN     NaN      NaN        105.0               NaN          NaN   \n",
       "\n",
       "            ip1_sub  \n",
       "0  45f4ca1f4e9b9cb7  \n",
       "1  2b416f1d7e89ad3b  \n",
       "2  ff71a556d86c4b8f  \n",
       "3  cf1527a0b4173e8f  \n",
       "4  cbc62c2b1cb7deb9  "
      ]
     },
     "execution_count": 9,
     "metadata": {},
     "output_type": "execute_result"
    }
   ],
   "source": [
    "df_tr2.head()"
   ]
  },
  {
   "cell_type": "code",
   "execution_count": 27,
   "metadata": {
    "ExecuteTime": {
     "end_time": "2018-11-14T03:31:20.776373Z",
     "start_time": "2018-11-14T03:31:20.745371Z"
    },
    "scrolled": true
   },
   "outputs": [
    {
     "ename": "ValueError",
     "evalue": "DataFrame constructor not properly called!",
     "output_type": "error",
     "traceback": [
      "\u001b[1;31m---------------------------------------------------------------------------\u001b[0m",
      "\u001b[1;31mValueError\u001b[0m                                Traceback (most recent call last)",
      "\u001b[1;32m<ipython-input-27-867c961b421e>\u001b[0m in \u001b[0;36m<module>\u001b[1;34m()\u001b[0m\n\u001b[1;32m----> 1\u001b[1;33m \u001b[0mdf_tr2\u001b[0m\u001b[1;33m.\u001b[0m\u001b[0mupdate\u001b[0m\u001b[1;33m(\u001b[0m\u001b[1;34m'None'\u001b[0m\u001b[1;33m,\u001b[0m\u001b[0mfilter_func\u001b[0m\u001b[1;33m=\u001b[0m\u001b[1;33m(\u001b[0m\u001b[1;32mlambda\u001b[0m \u001b[0mx\u001b[0m\u001b[1;33m:\u001b[0m \u001b[0mx\u001b[0m\u001b[1;33m.\u001b[0m\u001b[0mvalues\u001b[0m\u001b[1;33m==\u001b[0m\u001b[0mnp\u001b[0m\u001b[1;33m.\u001b[0m\u001b[0mnan\u001b[0m\u001b[1;33m)\u001b[0m\u001b[1;33m)\u001b[0m\u001b[1;33m\u001b[0m\u001b[0m\n\u001b[0m",
      "\u001b[1;32mD:\\ProgramData\\Anaconda3\\lib\\site-packages\\pandas\\core\\frame.py\u001b[0m in \u001b[0;36mupdate\u001b[1;34m(self, other, join, overwrite, filter_func, raise_conflict)\u001b[0m\n\u001b[0;32m   5057\u001b[0m \u001b[1;33m\u001b[0m\u001b[0m\n\u001b[0;32m   5058\u001b[0m         \u001b[1;32mif\u001b[0m \u001b[1;32mnot\u001b[0m \u001b[0misinstance\u001b[0m\u001b[1;33m(\u001b[0m\u001b[0mother\u001b[0m\u001b[1;33m,\u001b[0m \u001b[0mDataFrame\u001b[0m\u001b[1;33m)\u001b[0m\u001b[1;33m:\u001b[0m\u001b[1;33m\u001b[0m\u001b[0m\n\u001b[1;32m-> 5059\u001b[1;33m             \u001b[0mother\u001b[0m \u001b[1;33m=\u001b[0m \u001b[0mDataFrame\u001b[0m\u001b[1;33m(\u001b[0m\u001b[0mother\u001b[0m\u001b[1;33m)\u001b[0m\u001b[1;33m\u001b[0m\u001b[0m\n\u001b[0m\u001b[0;32m   5060\u001b[0m \u001b[1;33m\u001b[0m\u001b[0m\n\u001b[0;32m   5061\u001b[0m         \u001b[0mother\u001b[0m \u001b[1;33m=\u001b[0m \u001b[0mother\u001b[0m\u001b[1;33m.\u001b[0m\u001b[0mreindex_like\u001b[0m\u001b[1;33m(\u001b[0m\u001b[0mself\u001b[0m\u001b[1;33m)\u001b[0m\u001b[1;33m\u001b[0m\u001b[0m\n",
      "\u001b[1;32mD:\\ProgramData\\Anaconda3\\lib\\site-packages\\pandas\\core\\frame.py\u001b[0m in \u001b[0;36m__init__\u001b[1;34m(self, data, index, columns, dtype, copy)\u001b[0m\n\u001b[0;32m    420\u001b[0m                                          dtype=values.dtype, copy=False)\n\u001b[0;32m    421\u001b[0m             \u001b[1;32melse\u001b[0m\u001b[1;33m:\u001b[0m\u001b[1;33m\u001b[0m\u001b[0m\n\u001b[1;32m--> 422\u001b[1;33m                 \u001b[1;32mraise\u001b[0m \u001b[0mValueError\u001b[0m\u001b[1;33m(\u001b[0m\u001b[1;34m'DataFrame constructor not properly called!'\u001b[0m\u001b[1;33m)\u001b[0m\u001b[1;33m\u001b[0m\u001b[0m\n\u001b[0m\u001b[0;32m    423\u001b[0m \u001b[1;33m\u001b[0m\u001b[0m\n\u001b[0;32m    424\u001b[0m         \u001b[0mNDFrame\u001b[0m\u001b[1;33m.\u001b[0m\u001b[0m__init__\u001b[0m\u001b[1;33m(\u001b[0m\u001b[0mself\u001b[0m\u001b[1;33m,\u001b[0m \u001b[0mmgr\u001b[0m\u001b[1;33m,\u001b[0m \u001b[0mfastpath\u001b[0m\u001b[1;33m=\u001b[0m\u001b[1;32mTrue\u001b[0m\u001b[1;33m)\u001b[0m\u001b[1;33m\u001b[0m\u001b[0m\n",
      "\u001b[1;31mValueError\u001b[0m: DataFrame constructor not properly called!"
     ]
    }
   ],
   "source": [
    "df_tr2.update('None',filter_func=(lambda x: x.values==np.nan))"
   ]
  },
  {
   "cell_type": "code",
   "execution_count": 24,
   "metadata": {
    "ExecuteTime": {
     "end_time": "2018-11-14T03:28:14.841935Z",
     "start_time": "2018-11-14T03:28:14.751930Z"
    }
   },
   "outputs": [
    {
     "data": {
      "text/plain": [
       "array([[19092, 102, 30, ..., '2ecf94369847c748', 1.0, '45f4ca1f4e9b9cb7'],\n",
       "       [13465, 140, 23, ..., nan, nan, '2b416f1d7e89ad3b'],\n",
       "       [13713, 140, 22, ..., nan, nan, 'ff71a556d86c4b8f'],\n",
       "       ...,\n",
       "       [12950, 140, 15, ..., nan, nan, 'a7949b181f9b0821'],\n",
       "       [12844, 102, 22, ..., nan, nan, '2ded8d34af2fb521'],\n",
       "       [18910, 102, 27, ..., nan, nan, '3ac3b6d61f6389a3']], dtype=object)"
      ]
     },
     "execution_count": 24,
     "metadata": {},
     "output_type": "execute_result"
    }
   ],
   "source": [
    "df_tr2.values"
   ]
  },
  {
   "cell_type": "code",
   "execution_count": null,
   "metadata": {},
   "outputs": [],
   "source": []
  },
  {
   "cell_type": "code",
   "execution_count": null,
   "metadata": {},
   "outputs": [],
   "source": []
  }
 ],
 "metadata": {
  "kernelspec": {
   "display_name": "Python 3",
   "language": "python",
   "name": "python3"
  },
  "language_info": {
   "codemirror_mode": {
    "name": "ipython",
    "version": 3
   },
   "file_extension": ".py",
   "mimetype": "text/x-python",
   "name": "python",
   "nbconvert_exporter": "python",
   "pygments_lexer": "ipython3",
   "version": "3.6.3"
  }
 },
 "nbformat": 4,
 "nbformat_minor": 2
}
