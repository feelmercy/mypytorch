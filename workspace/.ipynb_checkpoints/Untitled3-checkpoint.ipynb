{
 "cells": [
  {
   "cell_type": "code",
   "execution_count": 42,
   "metadata": {},
   "outputs": [
    {
     "name": "stdout",
     "output_type": "stream",
     "text": [
      "1\tA\tq\n",
      "\n",
      "C\t3\tq\n",
      "\n",
      "(2, 131)\n",
      "<class 'pandas.core.frame.DataFrame'>\n",
      "Index(['id', 'cat1', 'cat2', 'cat3', 'cat4', 'cat5', 'cat6', 'cat7', 'cat8',\n",
      "       'cat9',\n",
      "       ...\n",
      "       'cont5', 'cont6', 'cont7', 'cont8', 'cont9', 'cont10', 'cont11',\n",
      "       'cont12', 'cont13', 'cont14'],\n",
      "      dtype='object', length=131)\n",
      "###################\n",
      "0    B\n",
      "1    B\n",
      "Name: cat2, dtype: object\n",
      "   id cat1 cat2 cat3 cat4 cat5 cat6 cat7 cat8 cat9    ...        cont5  \\\n",
      "1   6    A    B    A    B    A    A    A    A    B    ...     0.836443   \n",
      "\n",
      "      cont6    cont7   cont8   cont9   cont10    cont11    cont12    cont13  \\\n",
      "1  0.482425  0.44376  0.7133  0.5189  0.60401  0.689039  0.675759  0.453468   \n",
      "\n",
      "     cont14  \n",
      "1  0.208045  \n",
      "\n",
      "[1 rows x 131 columns]\n",
      "###########################\n",
      "  column1 column2\n",
      "0       a       e\n",
      "1       b       f\n",
      "2       a       g\n",
      "0    e\n",
      "1    f\n",
      "2    g\n",
      "Name: column2, dtype: object\n",
      "[0 1 0]\n"
     ]
    }
   ],
   "source": [
    "import numpy as np\n",
    "import pandas as pd\n",
    "import xgboost as xgb\n",
    "\n",
    "print('{0}\\t{1}\\tq\\n'.format(1, 'A'))\n",
    "print('{1}\\t{0}\\tq\\n'.format(3, 'C'))\n",
    "\n",
    "train=pd.read_csv(\"F:\\\\study\\\\ml\\\\DataSet\\AllstateClaimsSeverity\\\\test1.csv\")\n",
    "print(train.shape)\n",
    "print(type(train))\n",
    "#print(train.dtypes)\n",
    "print(train.columns)\n",
    "#print(train.icol(0))\n",
    "print(\"###################\")\n",
    "print(train['cat2'])\n",
    "print(train.iloc[1:2])\n",
    "print(\"###########################\")\n",
    "df =pd.DataFrame({'column1':['a','b','a'],'column2':['e','f','g']})\n",
    "print(df)\n",
    "df1 =pd.factorize(df.column1)[0]\n",
    "print(df.column2)\n",
    "print(df1)"
   ]
  }
 ],
 "metadata": {
  "kernelspec": {
   "display_name": "Python 3",
   "language": "python",
   "name": "python3"
  },
  "language_info": {
   "codemirror_mode": {
    "name": "ipython",
    "version": 3
   },
   "file_extension": ".py",
   "mimetype": "text/x-python",
   "name": "python",
   "nbconvert_exporter": "python",
   "pygments_lexer": "ipython3",
   "version": "3.6.3"
  }
 },
 "nbformat": 4,
 "nbformat_minor": 2
}
