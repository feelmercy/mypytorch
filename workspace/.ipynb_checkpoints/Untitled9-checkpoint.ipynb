{
 "cells": [
  {
   "cell_type": "code",
   "execution_count": 29,
   "metadata": {},
   "outputs": [
    {
     "data": {
      "text/plain": [
       "array([[0.09635338, 0.16090696, 0.53885226, 0.74829271, 0.84016378,\n",
       "        0.50704526, 0.93768542, 0.73913166, 0.02945083, 0.44608975],\n",
       "       [0.93446272, 0.58578731, 0.33245176, 0.56664568, 0.71263533,\n",
       "        0.76386233, 0.88559642, 0.89869435, 0.45628188, 0.17012255],\n",
       "       [0.50127594, 0.22044092, 0.73320356, 0.1108386 , 0.38213858,\n",
       "        0.16011914, 0.86467377, 0.51778589, 0.1144229 , 0.0625656 ],\n",
       "       [0.53761514, 0.61377218, 0.86006926, 0.94961402, 0.01130194,\n",
       "        0.60493749, 0.2801146 , 0.51490791, 0.05849221, 0.5525436 ],\n",
       "       [0.21973879, 0.649493  , 0.40374939, 0.34478322, 0.66033804,\n",
       "        0.06529843, 0.23825913, 0.18011635, 0.46590331, 0.56727889]])"
      ]
     },
     "execution_count": 29,
     "metadata": {},
     "output_type": "execute_result"
    }
   ],
   "source": [
    "import numpy as np\n",
    "import pandas as pd\n",
    "data = np.random.rand(5,10)\n",
    "data"
   ]
  },
  {
   "cell_type": "code",
   "execution_count": 31,
   "metadata": {},
   "outputs": [
    {
     "data": {
      "text/html": [
       "<div>\n",
       "<style>\n",
       "    .dataframe thead tr:only-child th {\n",
       "        text-align: right;\n",
       "    }\n",
       "\n",
       "    .dataframe thead th {\n",
       "        text-align: left;\n",
       "    }\n",
       "\n",
       "    .dataframe tbody tr th {\n",
       "        vertical-align: top;\n",
       "    }\n",
       "</style>\n",
       "<table border=\"1\" class=\"dataframe\">\n",
       "  <thead>\n",
       "    <tr style=\"text-align: right;\">\n",
       "      <th></th>\n",
       "      <th>0</th>\n",
       "      <th>1</th>\n",
       "      <th>2</th>\n",
       "      <th>3</th>\n",
       "      <th>4</th>\n",
       "      <th>5</th>\n",
       "      <th>6</th>\n",
       "      <th>7</th>\n",
       "      <th>8</th>\n",
       "      <th>9</th>\n",
       "    </tr>\n",
       "  </thead>\n",
       "  <tbody>\n",
       "    <tr>\n",
       "      <th>0</th>\n",
       "      <td>0.096353</td>\n",
       "      <td>0.160907</td>\n",
       "      <td>0.538852</td>\n",
       "      <td>0.748293</td>\n",
       "      <td>0.840164</td>\n",
       "      <td>0.507045</td>\n",
       "      <td>0.937685</td>\n",
       "      <td>0.739132</td>\n",
       "      <td>0.029451</td>\n",
       "      <td>0.446090</td>\n",
       "    </tr>\n",
       "    <tr>\n",
       "      <th>1</th>\n",
       "      <td>0.934463</td>\n",
       "      <td>0.585787</td>\n",
       "      <td>0.332452</td>\n",
       "      <td>0.566646</td>\n",
       "      <td>0.712635</td>\n",
       "      <td>0.763862</td>\n",
       "      <td>0.885596</td>\n",
       "      <td>0.898694</td>\n",
       "      <td>0.456282</td>\n",
       "      <td>0.170123</td>\n",
       "    </tr>\n",
       "    <tr>\n",
       "      <th>2</th>\n",
       "      <td>0.501276</td>\n",
       "      <td>0.220441</td>\n",
       "      <td>0.733204</td>\n",
       "      <td>0.110839</td>\n",
       "      <td>0.382139</td>\n",
       "      <td>0.160119</td>\n",
       "      <td>0.864674</td>\n",
       "      <td>0.517786</td>\n",
       "      <td>0.114423</td>\n",
       "      <td>0.062566</td>\n",
       "    </tr>\n",
       "    <tr>\n",
       "      <th>3</th>\n",
       "      <td>0.537615</td>\n",
       "      <td>0.613772</td>\n",
       "      <td>0.860069</td>\n",
       "      <td>0.949614</td>\n",
       "      <td>0.011302</td>\n",
       "      <td>0.604937</td>\n",
       "      <td>0.280115</td>\n",
       "      <td>0.514908</td>\n",
       "      <td>0.058492</td>\n",
       "      <td>0.552544</td>\n",
       "    </tr>\n",
       "    <tr>\n",
       "      <th>4</th>\n",
       "      <td>0.219739</td>\n",
       "      <td>0.649493</td>\n",
       "      <td>0.403749</td>\n",
       "      <td>0.344783</td>\n",
       "      <td>0.660338</td>\n",
       "      <td>0.065298</td>\n",
       "      <td>0.238259</td>\n",
       "      <td>0.180116</td>\n",
       "      <td>0.465903</td>\n",
       "      <td>0.567279</td>\n",
       "    </tr>\n",
       "  </tbody>\n",
       "</table>\n",
       "</div>"
      ],
      "text/plain": [
       "          0         1         2         3         4         5         6  \\\n",
       "0  0.096353  0.160907  0.538852  0.748293  0.840164  0.507045  0.937685   \n",
       "1  0.934463  0.585787  0.332452  0.566646  0.712635  0.763862  0.885596   \n",
       "2  0.501276  0.220441  0.733204  0.110839  0.382139  0.160119  0.864674   \n",
       "3  0.537615  0.613772  0.860069  0.949614  0.011302  0.604937  0.280115   \n",
       "4  0.219739  0.649493  0.403749  0.344783  0.660338  0.065298  0.238259   \n",
       "\n",
       "          7         8         9  \n",
       "0  0.739132  0.029451  0.446090  \n",
       "1  0.898694  0.456282  0.170123  \n",
       "2  0.517786  0.114423  0.062566  \n",
       "3  0.514908  0.058492  0.552544  \n",
       "4  0.180116  0.465903  0.567279  "
      ]
     },
     "execution_count": 31,
     "metadata": {},
     "output_type": "execute_result"
    }
   ],
   "source": [
    "data1=pd.DataFrame(data)\n",
    "data1"
   ]
  },
  {
   "cell_type": "code",
   "execution_count": 33,
   "metadata": {},
   "outputs": [
    {
     "data": {
      "text/html": [
       "<div>\n",
       "<style>\n",
       "    .dataframe thead tr:only-child th {\n",
       "        text-align: right;\n",
       "    }\n",
       "\n",
       "    .dataframe thead th {\n",
       "        text-align: left;\n",
       "    }\n",
       "\n",
       "    .dataframe tbody tr th {\n",
       "        vertical-align: top;\n",
       "    }\n",
       "</style>\n",
       "<table border=\"1\" class=\"dataframe\">\n",
       "  <thead>\n",
       "    <tr style=\"text-align: right;\">\n",
       "      <th></th>\n",
       "      <th>0</th>\n",
       "      <th>1</th>\n",
       "      <th>2</th>\n",
       "      <th>3</th>\n",
       "      <th>4</th>\n",
       "      <th>5</th>\n",
       "      <th>6</th>\n",
       "      <th>7</th>\n",
       "      <th>8</th>\n",
       "      <th>9</th>\n",
       "    </tr>\n",
       "  </thead>\n",
       "  <tbody>\n",
       "    <tr>\n",
       "      <th>0</th>\n",
       "      <td>0.096353</td>\n",
       "      <td>0.160907</td>\n",
       "      <td>0.538852</td>\n",
       "      <td>0.748293</td>\n",
       "      <td>0.840164</td>\n",
       "      <td>0.507045</td>\n",
       "      <td>0.937685</td>\n",
       "      <td>0.739132</td>\n",
       "      <td>0.029451</td>\n",
       "      <td>0.446090</td>\n",
       "    </tr>\n",
       "    <tr>\n",
       "      <th>1</th>\n",
       "      <td>0.934463</td>\n",
       "      <td>NaN</td>\n",
       "      <td>0.332452</td>\n",
       "      <td>0.566646</td>\n",
       "      <td>0.712635</td>\n",
       "      <td>0.763862</td>\n",
       "      <td>0.885596</td>\n",
       "      <td>0.898694</td>\n",
       "      <td>0.456282</td>\n",
       "      <td>0.170123</td>\n",
       "    </tr>\n",
       "    <tr>\n",
       "      <th>2</th>\n",
       "      <td>0.501276</td>\n",
       "      <td>NaN</td>\n",
       "      <td>0.733204</td>\n",
       "      <td>0.110839</td>\n",
       "      <td>0.382139</td>\n",
       "      <td>0.160119</td>\n",
       "      <td>0.864674</td>\n",
       "      <td>0.517786</td>\n",
       "      <td>0.114423</td>\n",
       "      <td>0.062566</td>\n",
       "    </tr>\n",
       "    <tr>\n",
       "      <th>3</th>\n",
       "      <td>0.537615</td>\n",
       "      <td>NaN</td>\n",
       "      <td>0.860069</td>\n",
       "      <td>0.949614</td>\n",
       "      <td>0.011302</td>\n",
       "      <td>0.604937</td>\n",
       "      <td>0.280115</td>\n",
       "      <td>0.514908</td>\n",
       "      <td>0.058492</td>\n",
       "      <td>0.552544</td>\n",
       "    </tr>\n",
       "    <tr>\n",
       "      <th>4</th>\n",
       "      <td>0.219739</td>\n",
       "      <td>0.649493</td>\n",
       "      <td>0.403749</td>\n",
       "      <td>0.344783</td>\n",
       "      <td>0.660338</td>\n",
       "      <td>0.065298</td>\n",
       "      <td>0.238259</td>\n",
       "      <td>0.180116</td>\n",
       "      <td>0.465903</td>\n",
       "      <td>0.567279</td>\n",
       "    </tr>\n",
       "  </tbody>\n",
       "</table>\n",
       "</div>"
      ],
      "text/plain": [
       "          0         1         2         3         4         5         6  \\\n",
       "0  0.096353  0.160907  0.538852  0.748293  0.840164  0.507045  0.937685   \n",
       "1  0.934463       NaN  0.332452  0.566646  0.712635  0.763862  0.885596   \n",
       "2  0.501276       NaN  0.733204  0.110839  0.382139  0.160119  0.864674   \n",
       "3  0.537615       NaN  0.860069  0.949614  0.011302  0.604937  0.280115   \n",
       "4  0.219739  0.649493  0.403749  0.344783  0.660338  0.065298  0.238259   \n",
       "\n",
       "          7         8         9  \n",
       "0  0.739132  0.029451  0.446090  \n",
       "1  0.898694  0.456282  0.170123  \n",
       "2  0.517786  0.114423  0.062566  \n",
       "3  0.514908  0.058492  0.552544  \n",
       "4  0.180116  0.465903  0.567279  "
      ]
     },
     "execution_count": 33,
     "metadata": {},
     "output_type": "execute_result"
    }
   ],
   "source": [
    "data1.loc[1:3,1]=np.nan\n",
    "data1"
   ]
  },
  {
   "cell_type": "code",
   "execution_count": 35,
   "metadata": {},
   "outputs": [
    {
     "data": {
      "text/plain": [
       "array([0, 1, 1, 0, 0])"
      ]
     },
     "execution_count": 35,
     "metadata": {},
     "output_type": "execute_result"
    }
   ],
   "source": [
    "label = np.random.randint(2, size=5)\n",
    "label"
   ]
  },
  {
   "cell_type": "code",
   "execution_count": 36,
   "metadata": {
    "collapsed": true
   },
   "outputs": [],
   "source": [
    "import xgboost as xgb\n"
   ]
  },
  {
   "cell_type": "code",
   "execution_count": 16,
   "metadata": {
    "collapsed": true
   },
   "outputs": [],
   "source": [
    "dtrain=xgb.DMatrix(data,label=label )"
   ]
  },
  {
   "cell_type": "code",
   "execution_count": 39,
   "metadata": {
    "scrolled": true
   },
   "outputs": [],
   "source": [
    "dtrain1=xgb.DMatrix(data1,label=label,missing = np.nan)"
   ]
  },
  {
   "cell_type": "code",
   "execution_count": 41,
   "metadata": {},
   "outputs": [],
   "source": [
    "params = { 'booster': 'gbtree', \n",
    "'objective': 'binary:logistic', \n",
    "'num_class': 10,\n",
    "'gamma': 0.1, \n",
    "'max_depth': 12,\n",
    "'lambda': 2,\n",
    "'subsample': 0.7,\n",
    "'colsample_bytree': 0.7,\n",
    "'min_child_weight': 3, \n",
    "'silent': 1,\n",
    "'eta': 0.007,\n",
    "'seed': 1000, \n",
    "'nthread': 4, }"
   ]
  },
  {
   "cell_type": "code",
   "execution_count": 44,
   "metadata": {},
   "outputs": [],
   "source": [
    "plst=params.items()\n",
    "num_round=10"
   ]
  },
  {
   "cell_type": "code",
   "execution_count": 46,
   "metadata": {},
   "outputs": [],
   "source": [
    "model = xgb.train( plst, dtrain1, num_round )"
   ]
  },
  {
   "cell_type": "code",
   "execution_count": 51,
   "metadata": {},
   "outputs": [
    {
     "data": {
      "text/plain": [
       "array([0.13608796, 0.60102347, 0.21476832, 0.16666178, 0.66848204,\n",
       "       0.68195452, 0.2231781 , 0.8738727 , 0.87030494, 0.29595117,\n",
       "       0.26236467, 0.30736458, 0.25208227, 0.49133108, 0.69196827,\n",
       "       0.27320577, 0.14105422, 0.37252164, 0.51461992, 0.51039298,\n",
       "       0.46762867, 0.1883977 , 0.64695063, 0.79978984, 0.17383094,\n",
       "       0.27451831, 0.36146761, 0.47591719, 0.97253174, 0.72559049,\n",
       "       0.02470475, 0.44662025, 0.62327522, 0.84875235, 0.03439824,\n",
       "       0.87465918, 0.39415985, 0.86141819, 0.45606569, 0.73820087,\n",
       "       0.42062941, 0.94097279, 0.99878226, 0.83522576, 0.95905004,\n",
       "       0.87154995, 0.46165531, 0.47927231, 0.47999636, 0.89098698])"
      ]
     },
     "execution_count": 51,
     "metadata": {},
     "output_type": "execute_result"
    }
   ],
   "source": [
    "data2=np.random.rand(5*10)\n",
    "data2"
   ]
  },
  {
   "cell_type": "code",
   "execution_count": 54,
   "metadata": {},
   "outputs": [
    {
     "data": {
      "text/html": [
       "<div>\n",
       "<style>\n",
       "    .dataframe thead tr:only-child th {\n",
       "        text-align: right;\n",
       "    }\n",
       "\n",
       "    .dataframe thead th {\n",
       "        text-align: left;\n",
       "    }\n",
       "\n",
       "    .dataframe tbody tr th {\n",
       "        vertical-align: top;\n",
       "    }\n",
       "</style>\n",
       "<table border=\"1\" class=\"dataframe\">\n",
       "  <thead>\n",
       "    <tr style=\"text-align: right;\">\n",
       "      <th></th>\n",
       "      <th>0</th>\n",
       "      <th>1</th>\n",
       "      <th>2</th>\n",
       "      <th>3</th>\n",
       "      <th>4</th>\n",
       "      <th>5</th>\n",
       "      <th>6</th>\n",
       "      <th>7</th>\n",
       "      <th>8</th>\n",
       "      <th>9</th>\n",
       "    </tr>\n",
       "  </thead>\n",
       "  <tbody>\n",
       "    <tr>\n",
       "      <th>0</th>\n",
       "      <td>0.582594</td>\n",
       "      <td>0.964911</td>\n",
       "      <td>0.112651</td>\n",
       "      <td>0.421707</td>\n",
       "      <td>0.050155</td>\n",
       "      <td>0.255325</td>\n",
       "      <td>0.130885</td>\n",
       "      <td>0.775939</td>\n",
       "      <td>0.869844</td>\n",
       "      <td>0.396279</td>\n",
       "    </tr>\n",
       "    <tr>\n",
       "      <th>1</th>\n",
       "      <td>0.942685</td>\n",
       "      <td>0.998367</td>\n",
       "      <td>0.367908</td>\n",
       "      <td>0.232403</td>\n",
       "      <td>0.966838</td>\n",
       "      <td>0.760963</td>\n",
       "      <td>0.632725</td>\n",
       "      <td>0.391035</td>\n",
       "      <td>0.445813</td>\n",
       "      <td>0.308524</td>\n",
       "    </tr>\n",
       "  </tbody>\n",
       "</table>\n",
       "</div>"
      ],
      "text/plain": [
       "          0         1         2         3         4         5         6  \\\n",
       "0  0.582594  0.964911  0.112651  0.421707  0.050155  0.255325  0.130885   \n",
       "1  0.942685  0.998367  0.367908  0.232403  0.966838  0.760963  0.632725   \n",
       "\n",
       "          7         8         9  \n",
       "0  0.775939  0.869844  0.396279  \n",
       "1  0.391035  0.445813  0.308524  "
      ]
     },
     "execution_count": 54,
     "metadata": {},
     "output_type": "execute_result"
    }
   ],
   "source": [
    "tdata=pd.DataFrame(np.random.rand(2,10))\n",
    "tdata\n"
   ]
  },
  {
   "cell_type": "code",
   "execution_count": 55,
   "metadata": {
    "collapsed": true
   },
   "outputs": [],
   "source": [
    "dtest=xgb.DMatrix(tdata)\n",
    "ans=model.predict(dtest)\n"
   ]
  },
  {
   "cell_type": "code",
   "execution_count": null,
   "metadata": {
    "collapsed": true
   },
   "outputs": [],
   "source": []
  },
  {
   "cell_type": "code",
   "execution_count": null,
   "metadata": {
    "collapsed": true
   },
   "outputs": [],
   "source": []
  }
 ],
 "metadata": {
  "kernelspec": {
   "display_name": "Python 3",
   "language": "python",
   "name": "python3"
  },
  "language_info": {
   "codemirror_mode": {
    "name": "ipython",
    "version": 3
   },
   "file_extension": ".py",
   "mimetype": "text/x-python",
   "name": "python",
   "nbconvert_exporter": "python",
   "pygments_lexer": "ipython3",
   "version": "3.6.3"
  }
 },
 "nbformat": 4,
 "nbformat_minor": 2
}
