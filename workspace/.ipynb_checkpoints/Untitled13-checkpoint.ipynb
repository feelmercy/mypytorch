{
 "cells": [
  {
   "cell_type": "code",
   "execution_count": 1,
   "metadata": {},
   "outputs": [
    {
     "data": {
      "text/html": [
       "<div>\n",
       "<style>\n",
       "    .dataframe thead tr:only-child th {\n",
       "        text-align: right;\n",
       "    }\n",
       "\n",
       "    .dataframe thead th {\n",
       "        text-align: left;\n",
       "    }\n",
       "\n",
       "    .dataframe tbody tr th {\n",
       "        vertical-align: top;\n",
       "    }\n",
       "</style>\n",
       "<table border=\"1\" class=\"dataframe\">\n",
       "  <thead>\n",
       "    <tr style=\"text-align: right;\">\n",
       "      <th></th>\n",
       "      <th>A</th>\n",
       "      <th>B</th>\n",
       "      <th>C</th>\n",
       "      <th>D</th>\n",
       "    </tr>\n",
       "  </thead>\n",
       "  <tbody>\n",
       "    <tr>\n",
       "      <th>2013-01-01</th>\n",
       "      <td>-1.250725</td>\n",
       "      <td>0.403213</td>\n",
       "      <td>0.994660</td>\n",
       "      <td>-0.026434</td>\n",
       "    </tr>\n",
       "    <tr>\n",
       "      <th>2013-01-02</th>\n",
       "      <td>0.694117</td>\n",
       "      <td>-0.458125</td>\n",
       "      <td>0.026763</td>\n",
       "      <td>-0.333449</td>\n",
       "    </tr>\n",
       "    <tr>\n",
       "      <th>2013-01-03</th>\n",
       "      <td>-1.277035</td>\n",
       "      <td>-1.591854</td>\n",
       "      <td>-0.716454</td>\n",
       "      <td>0.487236</td>\n",
       "    </tr>\n",
       "    <tr>\n",
       "      <th>2013-01-04</th>\n",
       "      <td>-0.204340</td>\n",
       "      <td>-0.184830</td>\n",
       "      <td>-1.770224</td>\n",
       "      <td>0.752443</td>\n",
       "    </tr>\n",
       "    <tr>\n",
       "      <th>2013-01-05</th>\n",
       "      <td>1.081446</td>\n",
       "      <td>1.078695</td>\n",
       "      <td>0.683125</td>\n",
       "      <td>0.326836</td>\n",
       "    </tr>\n",
       "    <tr>\n",
       "      <th>2013-01-06</th>\n",
       "      <td>-0.146665</td>\n",
       "      <td>-0.237655</td>\n",
       "      <td>-0.951130</td>\n",
       "      <td>-0.723251</td>\n",
       "    </tr>\n",
       "  </tbody>\n",
       "</table>\n",
       "</div>"
      ],
      "text/plain": [
       "                   A         B         C         D\n",
       "2013-01-01 -1.250725  0.403213  0.994660 -0.026434\n",
       "2013-01-02  0.694117 -0.458125  0.026763 -0.333449\n",
       "2013-01-03 -1.277035 -1.591854 -0.716454  0.487236\n",
       "2013-01-04 -0.204340 -0.184830 -1.770224  0.752443\n",
       "2013-01-05  1.081446  1.078695  0.683125  0.326836\n",
       "2013-01-06 -0.146665 -0.237655 -0.951130 -0.723251"
      ]
     },
     "execution_count": 1,
     "metadata": {},
     "output_type": "execute_result"
    }
   ],
   "source": [
    "import pandas as pd, numpy as np\n",
    "dates = pd.date_range('20130101', periods=6)\n",
    "df = pd.DataFrame(np.random.randn(6,4), index=dates, columns=list('ABCD'))\n",
    "df"
   ]
  },
  {
   "cell_type": "code",
   "execution_count": 2,
   "metadata": {},
   "outputs": [
    {
     "data": {
      "text/html": [
       "<div>\n",
       "<style>\n",
       "    .dataframe thead tr:only-child th {\n",
       "        text-align: right;\n",
       "    }\n",
       "\n",
       "    .dataframe thead th {\n",
       "        text-align: left;\n",
       "    }\n",
       "\n",
       "    .dataframe tbody tr th {\n",
       "        vertical-align: top;\n",
       "    }\n",
       "</style>\n",
       "<table border=\"1\" class=\"dataframe\">\n",
       "  <thead>\n",
       "    <tr style=\"text-align: right;\">\n",
       "      <th></th>\n",
       "      <th>A</th>\n",
       "      <th>B</th>\n",
       "      <th>C</th>\n",
       "      <th>D</th>\n",
       "      <th>E</th>\n",
       "    </tr>\n",
       "  </thead>\n",
       "  <tbody>\n",
       "    <tr>\n",
       "      <th>2013-01-01</th>\n",
       "      <td>-1.250725</td>\n",
       "      <td>0.403213</td>\n",
       "      <td>0.994660</td>\n",
       "      <td>-0.026434</td>\n",
       "      <td>&lt;0</td>\n",
       "    </tr>\n",
       "    <tr>\n",
       "      <th>2013-01-02</th>\n",
       "      <td>0.694117</td>\n",
       "      <td>-0.458125</td>\n",
       "      <td>0.026763</td>\n",
       "      <td>-0.333449</td>\n",
       "      <td>&lt;0</td>\n",
       "    </tr>\n",
       "    <tr>\n",
       "      <th>2013-01-03</th>\n",
       "      <td>-1.277035</td>\n",
       "      <td>-1.591854</td>\n",
       "      <td>-0.716454</td>\n",
       "      <td>0.487236</td>\n",
       "      <td>&gt;=0</td>\n",
       "    </tr>\n",
       "    <tr>\n",
       "      <th>2013-01-04</th>\n",
       "      <td>-0.204340</td>\n",
       "      <td>-0.184830</td>\n",
       "      <td>-1.770224</td>\n",
       "      <td>0.752443</td>\n",
       "      <td>&gt;=0</td>\n",
       "    </tr>\n",
       "    <tr>\n",
       "      <th>2013-01-05</th>\n",
       "      <td>1.081446</td>\n",
       "      <td>1.078695</td>\n",
       "      <td>0.683125</td>\n",
       "      <td>0.326836</td>\n",
       "      <td>&gt;=0</td>\n",
       "    </tr>\n",
       "    <tr>\n",
       "      <th>2013-01-06</th>\n",
       "      <td>-0.146665</td>\n",
       "      <td>-0.237655</td>\n",
       "      <td>-0.951130</td>\n",
       "      <td>-0.723251</td>\n",
       "      <td>&lt;0</td>\n",
       "    </tr>\n",
       "  </tbody>\n",
       "</table>\n",
       "</div>"
      ],
      "text/plain": [
       "                   A         B         C         D    E\n",
       "2013-01-01 -1.250725  0.403213  0.994660 -0.026434   <0\n",
       "2013-01-02  0.694117 -0.458125  0.026763 -0.333449   <0\n",
       "2013-01-03 -1.277035 -1.591854 -0.716454  0.487236  >=0\n",
       "2013-01-04 -0.204340 -0.184830 -1.770224  0.752443  >=0\n",
       "2013-01-05  1.081446  1.078695  0.683125  0.326836  >=0\n",
       "2013-01-06 -0.146665 -0.237655 -0.951130 -0.723251   <0"
      ]
     },
     "execution_count": 2,
     "metadata": {},
     "output_type": "execute_result"
    }
   ],
   "source": [
    "df['E'] = np.where(df['D'] >= 0, '>=0', '<0')\n",
    "df"
   ]
  },
  {
   "cell_type": "code",
   "execution_count": 3,
   "metadata": {},
   "outputs": [
    {
     "data": {
      "text/html": [
       "<div>\n",
       "<style>\n",
       "    .dataframe thead tr:only-child th {\n",
       "        text-align: right;\n",
       "    }\n",
       "\n",
       "    .dataframe thead th {\n",
       "        text-align: left;\n",
       "    }\n",
       "\n",
       "    .dataframe tbody tr th {\n",
       "        vertical-align: top;\n",
       "    }\n",
       "</style>\n",
       "<table border=\"1\" class=\"dataframe\">\n",
       "  <thead>\n",
       "    <tr style=\"text-align: right;\">\n",
       "      <th></th>\n",
       "      <th>A</th>\n",
       "      <th>B</th>\n",
       "      <th>C</th>\n",
       "      <th>D</th>\n",
       "      <th>E</th>\n",
       "      <th>F</th>\n",
       "    </tr>\n",
       "  </thead>\n",
       "  <tbody>\n",
       "    <tr>\n",
       "      <th>2013-01-01</th>\n",
       "      <td>-1.250725</td>\n",
       "      <td>0.403213</td>\n",
       "      <td>0.994660</td>\n",
       "      <td>-0.026434</td>\n",
       "      <td>&lt;0</td>\n",
       "      <td>&lt;0</td>\n",
       "    </tr>\n",
       "    <tr>\n",
       "      <th>2013-01-02</th>\n",
       "      <td>0.694117</td>\n",
       "      <td>-0.458125</td>\n",
       "      <td>0.026763</td>\n",
       "      <td>-0.333449</td>\n",
       "      <td>&lt;0</td>\n",
       "      <td>&lt;0</td>\n",
       "    </tr>\n",
       "    <tr>\n",
       "      <th>2013-01-03</th>\n",
       "      <td>-1.277035</td>\n",
       "      <td>-1.591854</td>\n",
       "      <td>-0.716454</td>\n",
       "      <td>0.487236</td>\n",
       "      <td>&gt;=0</td>\n",
       "      <td>&gt;=0</td>\n",
       "    </tr>\n",
       "    <tr>\n",
       "      <th>2013-01-04</th>\n",
       "      <td>-0.204340</td>\n",
       "      <td>-0.184830</td>\n",
       "      <td>-1.770224</td>\n",
       "      <td>0.752443</td>\n",
       "      <td>&gt;=0</td>\n",
       "      <td>&gt;=0</td>\n",
       "    </tr>\n",
       "    <tr>\n",
       "      <th>2013-01-05</th>\n",
       "      <td>1.081446</td>\n",
       "      <td>1.078695</td>\n",
       "      <td>0.683125</td>\n",
       "      <td>0.326836</td>\n",
       "      <td>&gt;=0</td>\n",
       "      <td>&gt;=0</td>\n",
       "    </tr>\n",
       "    <tr>\n",
       "      <th>2013-01-06</th>\n",
       "      <td>-0.146665</td>\n",
       "      <td>-0.237655</td>\n",
       "      <td>-0.951130</td>\n",
       "      <td>-0.723251</td>\n",
       "      <td>&lt;0</td>\n",
       "      <td>&lt;0</td>\n",
       "    </tr>\n",
       "  </tbody>\n",
       "</table>\n",
       "</div>"
      ],
      "text/plain": [
       "                   A         B         C         D    E    F\n",
       "2013-01-01 -1.250725  0.403213  0.994660 -0.026434   <0   <0\n",
       "2013-01-02  0.694117 -0.458125  0.026763 -0.333449   <0   <0\n",
       "2013-01-03 -1.277035 -1.591854 -0.716454  0.487236  >=0  >=0\n",
       "2013-01-04 -0.204340 -0.184830 -1.770224  0.752443  >=0  >=0\n",
       "2013-01-05  1.081446  1.078695  0.683125  0.326836  >=0  >=0\n",
       "2013-01-06 -0.146665 -0.237655 -0.951130 -0.723251   <0   <0"
      ]
     },
     "execution_count": 3,
     "metadata": {},
     "output_type": "execute_result"
    }
   ],
   "source": [
    "df['F'] = df['E'].apply(str)\n",
    "df"
   ]
  },
  {
   "cell_type": "code",
   "execution_count": 4,
   "metadata": {},
   "outputs": [
    {
     "data": {
      "text/html": [
       "<div>\n",
       "<style>\n",
       "    .dataframe thead tr:only-child th {\n",
       "        text-align: right;\n",
       "    }\n",
       "\n",
       "    .dataframe thead th {\n",
       "        text-align: left;\n",
       "    }\n",
       "\n",
       "    .dataframe tbody tr th {\n",
       "        vertical-align: top;\n",
       "    }\n",
       "</style>\n",
       "<table border=\"1\" class=\"dataframe\">\n",
       "  <thead>\n",
       "    <tr style=\"text-align: right;\">\n",
       "      <th></th>\n",
       "      <th>A</th>\n",
       "      <th>B</th>\n",
       "      <th>C</th>\n",
       "      <th>D</th>\n",
       "    </tr>\n",
       "  </thead>\n",
       "  <tbody>\n",
       "    <tr>\n",
       "      <th>count</th>\n",
       "      <td>6.000000</td>\n",
       "      <td>6.000000</td>\n",
       "      <td>6.000000</td>\n",
       "      <td>6.000000</td>\n",
       "    </tr>\n",
       "    <tr>\n",
       "      <th>mean</th>\n",
       "      <td>-0.183867</td>\n",
       "      <td>-0.165093</td>\n",
       "      <td>-0.288877</td>\n",
       "      <td>0.080563</td>\n",
       "    </tr>\n",
       "    <tr>\n",
       "      <th>std</th>\n",
       "      <td>0.970245</td>\n",
       "      <td>0.894108</td>\n",
       "      <td>1.049540</td>\n",
       "      <td>0.548895</td>\n",
       "    </tr>\n",
       "    <tr>\n",
       "      <th>min</th>\n",
       "      <td>-1.277035</td>\n",
       "      <td>-1.591854</td>\n",
       "      <td>-1.770224</td>\n",
       "      <td>-0.723251</td>\n",
       "    </tr>\n",
       "    <tr>\n",
       "      <th>25%</th>\n",
       "      <td>-0.989129</td>\n",
       "      <td>-0.403008</td>\n",
       "      <td>-0.892461</td>\n",
       "      <td>-0.256695</td>\n",
       "    </tr>\n",
       "    <tr>\n",
       "      <th>50%</th>\n",
       "      <td>-0.175502</td>\n",
       "      <td>-0.211242</td>\n",
       "      <td>-0.344845</td>\n",
       "      <td>0.150201</td>\n",
       "    </tr>\n",
       "    <tr>\n",
       "      <th>75%</th>\n",
       "      <td>0.483921</td>\n",
       "      <td>0.256202</td>\n",
       "      <td>0.519035</td>\n",
       "      <td>0.447136</td>\n",
       "    </tr>\n",
       "    <tr>\n",
       "      <th>max</th>\n",
       "      <td>1.081446</td>\n",
       "      <td>1.078695</td>\n",
       "      <td>0.994660</td>\n",
       "      <td>0.752443</td>\n",
       "    </tr>\n",
       "  </tbody>\n",
       "</table>\n",
       "</div>"
      ],
      "text/plain": [
       "              A         B         C         D\n",
       "count  6.000000  6.000000  6.000000  6.000000\n",
       "mean  -0.183867 -0.165093 -0.288877  0.080563\n",
       "std    0.970245  0.894108  1.049540  0.548895\n",
       "min   -1.277035 -1.591854 -1.770224 -0.723251\n",
       "25%   -0.989129 -0.403008 -0.892461 -0.256695\n",
       "50%   -0.175502 -0.211242 -0.344845  0.150201\n",
       "75%    0.483921  0.256202  0.519035  0.447136\n",
       "max    1.081446  1.078695  0.994660  0.752443"
      ]
     },
     "execution_count": 4,
     "metadata": {},
     "output_type": "execute_result"
    }
   ],
   "source": [
    "df.describe()"
   ]
  },
  {
   "cell_type": "code",
   "execution_count": 5,
   "metadata": {},
   "outputs": [
    {
     "ename": "TypeError",
     "evalue": "'float' object is not callable",
     "output_type": "error",
     "traceback": [
      "\u001b[1;31m---------------------------------------------------------------------------\u001b[0m",
      "\u001b[1;31mTypeError\u001b[0m                                 Traceback (most recent call last)",
      "\u001b[1;32m<ipython-input-5-dc0bd4e53944>\u001b[0m in \u001b[0;36m<module>\u001b[1;34m()\u001b[0m\n\u001b[1;32m----> 1\u001b[1;33m \u001b[0mnp\u001b[0m\u001b[1;33m.\u001b[0m\u001b[0mnan\u001b[0m\u001b[1;33m(\u001b[0m\u001b[0mdf\u001b[0m\u001b[1;33m.\u001b[0m\u001b[0mcolumns\u001b[0m\u001b[1;33m[\u001b[0m\u001b[1;36m1\u001b[0m\u001b[1;33m]\u001b[0m\u001b[1;33m)\u001b[0m\u001b[1;33m\u001b[0m\u001b[0m\n\u001b[0m",
      "\u001b[1;31mTypeError\u001b[0m: 'float' object is not callable"
     ]
    }
   ],
   "source": [
    "np.nan(df.columns[1])"
   ]
  },
  {
   "cell_type": "code",
   "execution_count": null,
   "metadata": {},
   "outputs": [],
   "source": [
    "df"
   ]
  },
  {
   "cell_type": "code",
   "execution_count": null,
   "metadata": {},
   "outputs": [],
   "source": [
    "df[df['A'].isnull()]"
   ]
  },
  {
   "cell_type": "code",
   "execution_count": 6,
   "metadata": {
    "scrolled": true
   },
   "outputs": [
    {
     "data": {
      "text/html": [
       "<div>\n",
       "<style>\n",
       "    .dataframe thead tr:only-child th {\n",
       "        text-align: right;\n",
       "    }\n",
       "\n",
       "    .dataframe thead th {\n",
       "        text-align: left;\n",
       "    }\n",
       "\n",
       "    .dataframe tbody tr th {\n",
       "        vertical-align: top;\n",
       "    }\n",
       "</style>\n",
       "<table border=\"1\" class=\"dataframe\">\n",
       "  <thead>\n",
       "    <tr style=\"text-align: right;\">\n",
       "      <th></th>\n",
       "      <th>A</th>\n",
       "      <th>B</th>\n",
       "      <th>C</th>\n",
       "      <th>D</th>\n",
       "      <th>E</th>\n",
       "      <th>F</th>\n",
       "    </tr>\n",
       "  </thead>\n",
       "  <tbody>\n",
       "    <tr>\n",
       "      <th>2013-01-01</th>\n",
       "      <td>-1.250725</td>\n",
       "      <td>0.403213</td>\n",
       "      <td>0.994660</td>\n",
       "      <td>-0.026434</td>\n",
       "      <td>&lt;0</td>\n",
       "      <td>&lt;0</td>\n",
       "    </tr>\n",
       "    <tr>\n",
       "      <th>2013-01-02</th>\n",
       "      <td>0.694117</td>\n",
       "      <td>-0.458125</td>\n",
       "      <td>0.026763</td>\n",
       "      <td>-0.333449</td>\n",
       "      <td>&lt;0</td>\n",
       "      <td>&lt;0</td>\n",
       "    </tr>\n",
       "    <tr>\n",
       "      <th>2013-01-03</th>\n",
       "      <td>-1.277035</td>\n",
       "      <td>-1.591854</td>\n",
       "      <td>-0.716454</td>\n",
       "      <td>0.487236</td>\n",
       "      <td>&gt;=0</td>\n",
       "      <td>&gt;=0</td>\n",
       "    </tr>\n",
       "    <tr>\n",
       "      <th>2013-01-04</th>\n",
       "      <td>-0.204340</td>\n",
       "      <td>-0.184830</td>\n",
       "      <td>-1.770224</td>\n",
       "      <td>0.752443</td>\n",
       "      <td>&gt;=0</td>\n",
       "      <td>&gt;=0</td>\n",
       "    </tr>\n",
       "    <tr>\n",
       "      <th>2013-01-05</th>\n",
       "      <td>1.081446</td>\n",
       "      <td>1.078695</td>\n",
       "      <td>0.683125</td>\n",
       "      <td>0.326836</td>\n",
       "      <td>&gt;=0</td>\n",
       "      <td>&gt;=0</td>\n",
       "    </tr>\n",
       "    <tr>\n",
       "      <th>2013-01-06</th>\n",
       "      <td>-0.146665</td>\n",
       "      <td>-0.237655</td>\n",
       "      <td>-0.951130</td>\n",
       "      <td>-0.723251</td>\n",
       "      <td>&lt;0</td>\n",
       "      <td>&lt;0</td>\n",
       "    </tr>\n",
       "  </tbody>\n",
       "</table>\n",
       "</div>"
      ],
      "text/plain": [
       "                   A         B         C         D    E    F\n",
       "2013-01-01 -1.250725  0.403213  0.994660 -0.026434   <0   <0\n",
       "2013-01-02  0.694117 -0.458125  0.026763 -0.333449   <0   <0\n",
       "2013-01-03 -1.277035 -1.591854 -0.716454  0.487236  >=0  >=0\n",
       "2013-01-04 -0.204340 -0.184830 -1.770224  0.752443  >=0  >=0\n",
       "2013-01-05  1.081446  1.078695  0.683125  0.326836  >=0  >=0\n",
       "2013-01-06 -0.146665 -0.237655 -0.951130 -0.723251   <0   <0"
      ]
     },
     "execution_count": 6,
     "metadata": {},
     "output_type": "execute_result"
    }
   ],
   "source": [
    "df"
   ]
  },
  {
   "cell_type": "code",
   "execution_count": 20,
   "metadata": {},
   "outputs": [
    {
     "data": {
      "text/html": [
       "<div>\n",
       "<style>\n",
       "    .dataframe thead tr:only-child th {\n",
       "        text-align: right;\n",
       "    }\n",
       "\n",
       "    .dataframe thead th {\n",
       "        text-align: left;\n",
       "    }\n",
       "\n",
       "    .dataframe tbody tr th {\n",
       "        vertical-align: top;\n",
       "    }\n",
       "</style>\n",
       "<table border=\"1\" class=\"dataframe\">\n",
       "  <thead>\n",
       "    <tr style=\"text-align: right;\">\n",
       "      <th></th>\n",
       "      <th>x</th>\n",
       "    </tr>\n",
       "  </thead>\n",
       "  <tbody>\n",
       "    <tr>\n",
       "      <th>0</th>\n",
       "      <td>北京</td>\n",
       "    </tr>\n",
       "    <tr>\n",
       "      <th>1</th>\n",
       "      <td>上海</td>\n",
       "    </tr>\n",
       "    <tr>\n",
       "      <th>2</th>\n",
       "      <td>广州</td>\n",
       "    </tr>\n",
       "    <tr>\n",
       "      <th>3</th>\n",
       "      <td>北京</td>\n",
       "    </tr>\n",
       "  </tbody>\n",
       "</table>\n",
       "</div>"
      ],
      "text/plain": [
       "    x\n",
       "0  北京\n",
       "1  上海\n",
       "2  广州\n",
       "3  北京"
      ]
     },
     "execution_count": 20,
     "metadata": {},
     "output_type": "execute_result"
    }
   ],
   "source": [
    "a=pd.DataFrame({'x':['北京','上海','广州','北京']})\n",
    "a"
   ]
  },
  {
   "cell_type": "code",
   "execution_count": 25,
   "metadata": {},
   "outputs": [
    {
     "data": {
      "text/plain": [
       "(array([0, 1, 2, 0], dtype=int64), Index(['北京', '上海', '广州'], dtype='object'))"
      ]
     },
     "execution_count": 25,
     "metadata": {},
     "output_type": "execute_result"
    }
   ],
   "source": [
    "a['x'].factorize()"
   ]
  },
  {
   "cell_type": "code",
   "execution_count": 22,
   "metadata": {},
   "outputs": [
    {
     "data": {
      "text/html": [
       "<div>\n",
       "<style>\n",
       "    .dataframe thead tr:only-child th {\n",
       "        text-align: right;\n",
       "    }\n",
       "\n",
       "    .dataframe thead th {\n",
       "        text-align: left;\n",
       "    }\n",
       "\n",
       "    .dataframe tbody tr th {\n",
       "        vertical-align: top;\n",
       "    }\n",
       "</style>\n",
       "<table border=\"1\" class=\"dataframe\">\n",
       "  <thead>\n",
       "    <tr style=\"text-align: right;\">\n",
       "      <th></th>\n",
       "      <th>x</th>\n",
       "    </tr>\n",
       "  </thead>\n",
       "  <tbody>\n",
       "    <tr>\n",
       "      <th>0</th>\n",
       "      <td>北京</td>\n",
       "    </tr>\n",
       "    <tr>\n",
       "      <th>1</th>\n",
       "      <td>广州</td>\n",
       "    </tr>\n",
       "    <tr>\n",
       "      <th>2</th>\n",
       "      <td>上海</td>\n",
       "    </tr>\n",
       "    <tr>\n",
       "      <th>3</th>\n",
       "      <td>上海</td>\n",
       "    </tr>\n",
       "  </tbody>\n",
       "</table>\n",
       "</div>"
      ],
      "text/plain": [
       "    x\n",
       "0  北京\n",
       "1  广州\n",
       "2  上海\n",
       "3  上海"
      ]
     },
     "execution_count": 22,
     "metadata": {},
     "output_type": "execute_result"
    }
   ],
   "source": [
    "b=pd.DataFrame({'x':['北京','广州','上海','上海']})\n",
    "b"
   ]
  },
  {
   "cell_type": "code",
   "execution_count": 26,
   "metadata": {},
   "outputs": [
    {
     "data": {
      "text/plain": [
       "(array([0, 1, 2, 2], dtype=int64), Index(['北京', '广州', '上海'], dtype='object'))"
      ]
     },
     "execution_count": 26,
     "metadata": {},
     "output_type": "execute_result"
    }
   ],
   "source": [
    "b['x'].factorize()"
   ]
  },
  {
   "cell_type": "code",
   "execution_count": 27,
   "metadata": {},
   "outputs": [
    {
     "data": {
      "text/plain": [
       "1"
      ]
     },
     "execution_count": 27,
     "metadata": {},
     "output_type": "execute_result"
    }
   ],
   "source": [
    "True * 1"
   ]
  },
  {
   "cell_type": "code",
   "execution_count": 28,
   "metadata": {},
   "outputs": [
    {
     "data": {
      "text/plain": [
       "0"
      ]
     },
     "execution_count": 28,
     "metadata": {},
     "output_type": "execute_result"
    }
   ],
   "source": [
    "False *1"
   ]
  },
  {
   "cell_type": "code",
   "execution_count": 30,
   "metadata": {},
   "outputs": [
    {
     "data": {
      "text/html": [
       "<div>\n",
       "<style>\n",
       "    .dataframe thead tr:only-child th {\n",
       "        text-align: right;\n",
       "    }\n",
       "\n",
       "    .dataframe thead th {\n",
       "        text-align: left;\n",
       "    }\n",
       "\n",
       "    .dataframe tbody tr th {\n",
       "        vertical-align: top;\n",
       "    }\n",
       "</style>\n",
       "<table border=\"1\" class=\"dataframe\">\n",
       "  <thead>\n",
       "    <tr style=\"text-align: right;\">\n",
       "      <th></th>\n",
       "      <th>A</th>\n",
       "      <th>B</th>\n",
       "      <th>C</th>\n",
       "      <th>D</th>\n",
       "      <th>E</th>\n",
       "      <th>F</th>\n",
       "    </tr>\n",
       "  </thead>\n",
       "  <tbody>\n",
       "    <tr>\n",
       "      <th>2013-01-01</th>\n",
       "      <td>-1.250725</td>\n",
       "      <td>0.403213</td>\n",
       "      <td>0.994660</td>\n",
       "      <td>-0.026434</td>\n",
       "      <td>&lt;0</td>\n",
       "      <td>&lt;0</td>\n",
       "    </tr>\n",
       "    <tr>\n",
       "      <th>2013-01-02</th>\n",
       "      <td>0.694117</td>\n",
       "      <td>-0.458125</td>\n",
       "      <td>0.026763</td>\n",
       "      <td>-0.333449</td>\n",
       "      <td>&lt;0</td>\n",
       "      <td>&lt;0</td>\n",
       "    </tr>\n",
       "    <tr>\n",
       "      <th>2013-01-03</th>\n",
       "      <td>-1.277035</td>\n",
       "      <td>-1.591854</td>\n",
       "      <td>-0.716454</td>\n",
       "      <td>0.487236</td>\n",
       "      <td>&gt;=0</td>\n",
       "      <td>&gt;=0</td>\n",
       "    </tr>\n",
       "    <tr>\n",
       "      <th>2013-01-04</th>\n",
       "      <td>-0.204340</td>\n",
       "      <td>-0.184830</td>\n",
       "      <td>-1.770224</td>\n",
       "      <td>0.752443</td>\n",
       "      <td>&gt;=0</td>\n",
       "      <td>&gt;=0</td>\n",
       "    </tr>\n",
       "    <tr>\n",
       "      <th>2013-01-05</th>\n",
       "      <td>1.081446</td>\n",
       "      <td>1.078695</td>\n",
       "      <td>0.683125</td>\n",
       "      <td>0.326836</td>\n",
       "      <td>&gt;=0</td>\n",
       "      <td>&gt;=0</td>\n",
       "    </tr>\n",
       "    <tr>\n",
       "      <th>2013-01-06</th>\n",
       "      <td>-0.146665</td>\n",
       "      <td>-0.237655</td>\n",
       "      <td>-0.951130</td>\n",
       "      <td>-0.723251</td>\n",
       "      <td>&lt;0</td>\n",
       "      <td>&lt;0</td>\n",
       "    </tr>\n",
       "  </tbody>\n",
       "</table>\n",
       "</div>"
      ],
      "text/plain": [
       "                   A         B         C         D    E    F\n",
       "2013-01-01 -1.250725  0.403213  0.994660 -0.026434   <0   <0\n",
       "2013-01-02  0.694117 -0.458125  0.026763 -0.333449   <0   <0\n",
       "2013-01-03 -1.277035 -1.591854 -0.716454  0.487236  >=0  >=0\n",
       "2013-01-04 -0.204340 -0.184830 -1.770224  0.752443  >=0  >=0\n",
       "2013-01-05  1.081446  1.078695  0.683125  0.326836  >=0  >=0\n",
       "2013-01-06 -0.146665 -0.237655 -0.951130 -0.723251   <0   <0"
      ]
     },
     "execution_count": 30,
     "metadata": {},
     "output_type": "execute_result"
    }
   ],
   "source": [
    "df"
   ]
  },
  {
   "cell_type": "code",
   "execution_count": 31,
   "metadata": {},
   "outputs": [
    {
     "data": {
      "text/html": [
       "<div>\n",
       "<style>\n",
       "    .dataframe thead tr:only-child th {\n",
       "        text-align: right;\n",
       "    }\n",
       "\n",
       "    .dataframe thead th {\n",
       "        text-align: left;\n",
       "    }\n",
       "\n",
       "    .dataframe tbody tr th {\n",
       "        vertical-align: top;\n",
       "    }\n",
       "</style>\n",
       "<table border=\"1\" class=\"dataframe\">\n",
       "  <thead>\n",
       "    <tr style=\"text-align: right;\">\n",
       "      <th></th>\n",
       "      <th>A</th>\n",
       "      <th>B</th>\n",
       "      <th>C</th>\n",
       "      <th>D</th>\n",
       "      <th>E</th>\n",
       "      <th>F</th>\n",
       "    </tr>\n",
       "  </thead>\n",
       "  <tbody>\n",
       "    <tr>\n",
       "      <th>2013-01-01</th>\n",
       "      <td>-1.250725</td>\n",
       "      <td>0.403213</td>\n",
       "      <td>0.99466</td>\n",
       "      <td>-0.026434</td>\n",
       "      <td>&lt;0</td>\n",
       "      <td>&lt;0</td>\n",
       "    </tr>\n",
       "  </tbody>\n",
       "</table>\n",
       "</div>"
      ],
      "text/plain": [
       "                   A         B        C         D   E   F\n",
       "2013-01-01 -1.250725  0.403213  0.99466 -0.026434  <0  <0"
      ]
     },
     "execution_count": 31,
     "metadata": {},
     "output_type": "execute_result"
    }
   ],
   "source": [
    "df[0:1]"
   ]
  },
  {
   "cell_type": "code",
   "execution_count": 32,
   "metadata": {},
   "outputs": [
    {
     "data": {
      "text/html": [
       "<div>\n",
       "<style>\n",
       "    .dataframe thead tr:only-child th {\n",
       "        text-align: right;\n",
       "    }\n",
       "\n",
       "    .dataframe thead th {\n",
       "        text-align: left;\n",
       "    }\n",
       "\n",
       "    .dataframe tbody tr th {\n",
       "        vertical-align: top;\n",
       "    }\n",
       "</style>\n",
       "<table border=\"1\" class=\"dataframe\">\n",
       "  <thead>\n",
       "    <tr style=\"text-align: right;\">\n",
       "      <th></th>\n",
       "      <th>A</th>\n",
       "      <th>B</th>\n",
       "      <th>C</th>\n",
       "      <th>D</th>\n",
       "      <th>E</th>\n",
       "      <th>F</th>\n",
       "    </tr>\n",
       "  </thead>\n",
       "  <tbody>\n",
       "    <tr>\n",
       "      <th>2013-01-01</th>\n",
       "      <td>-1.250725</td>\n",
       "      <td>0.403213</td>\n",
       "      <td>0.994660</td>\n",
       "      <td>-0.026434</td>\n",
       "      <td>&lt;0</td>\n",
       "      <td>&lt;0</td>\n",
       "    </tr>\n",
       "    <tr>\n",
       "      <th>2013-01-02</th>\n",
       "      <td>0.694117</td>\n",
       "      <td>-0.458125</td>\n",
       "      <td>0.026763</td>\n",
       "      <td>-0.333449</td>\n",
       "      <td>&lt;0</td>\n",
       "      <td>&lt;0</td>\n",
       "    </tr>\n",
       "    <tr>\n",
       "      <th>2013-01-03</th>\n",
       "      <td>-1.277035</td>\n",
       "      <td>-1.591854</td>\n",
       "      <td>-0.716454</td>\n",
       "      <td>0.487236</td>\n",
       "      <td>&gt;=0</td>\n",
       "      <td>&gt;=0</td>\n",
       "    </tr>\n",
       "    <tr>\n",
       "      <th>2013-01-04</th>\n",
       "      <td>-0.204340</td>\n",
       "      <td>-0.184830</td>\n",
       "      <td>-1.770224</td>\n",
       "      <td>0.752443</td>\n",
       "      <td>&gt;=0</td>\n",
       "      <td>&gt;=0</td>\n",
       "    </tr>\n",
       "    <tr>\n",
       "      <th>2013-01-05</th>\n",
       "      <td>1.081446</td>\n",
       "      <td>1.078695</td>\n",
       "      <td>0.683125</td>\n",
       "      <td>0.326836</td>\n",
       "      <td>&gt;=0</td>\n",
       "      <td>&gt;=0</td>\n",
       "    </tr>\n",
       "  </tbody>\n",
       "</table>\n",
       "</div>"
      ],
      "text/plain": [
       "                   A         B         C         D    E    F\n",
       "2013-01-01 -1.250725  0.403213  0.994660 -0.026434   <0   <0\n",
       "2013-01-02  0.694117 -0.458125  0.026763 -0.333449   <0   <0\n",
       "2013-01-03 -1.277035 -1.591854 -0.716454  0.487236  >=0  >=0\n",
       "2013-01-04 -0.204340 -0.184830 -1.770224  0.752443  >=0  >=0\n",
       "2013-01-05  1.081446  1.078695  0.683125  0.326836  >=0  >=0"
      ]
     },
     "execution_count": 32,
     "metadata": {},
     "output_type": "execute_result"
    }
   ],
   "source": [
    "df[:-1]"
   ]
  },
  {
   "cell_type": "code",
   "execution_count": 33,
   "metadata": {},
   "outputs": [
    {
     "data": {
      "text/html": [
       "<div>\n",
       "<style>\n",
       "    .dataframe thead tr:only-child th {\n",
       "        text-align: right;\n",
       "    }\n",
       "\n",
       "    .dataframe thead th {\n",
       "        text-align: left;\n",
       "    }\n",
       "\n",
       "    .dataframe tbody tr th {\n",
       "        vertical-align: top;\n",
       "    }\n",
       "</style>\n",
       "<table border=\"1\" class=\"dataframe\">\n",
       "  <thead>\n",
       "    <tr style=\"text-align: right;\">\n",
       "      <th></th>\n",
       "      <th>A</th>\n",
       "      <th>B</th>\n",
       "      <th>C</th>\n",
       "      <th>D</th>\n",
       "      <th>E</th>\n",
       "      <th>F</th>\n",
       "    </tr>\n",
       "  </thead>\n",
       "  <tbody>\n",
       "    <tr>\n",
       "      <th>2013-01-06</th>\n",
       "      <td>-0.146665</td>\n",
       "      <td>-0.237655</td>\n",
       "      <td>-0.95113</td>\n",
       "      <td>-0.723251</td>\n",
       "      <td>&lt;0</td>\n",
       "      <td>&lt;0</td>\n",
       "    </tr>\n",
       "  </tbody>\n",
       "</table>\n",
       "</div>"
      ],
      "text/plain": [
       "                   A         B        C         D   E   F\n",
       "2013-01-06 -0.146665 -0.237655 -0.95113 -0.723251  <0  <0"
      ]
     },
     "execution_count": 33,
     "metadata": {},
     "output_type": "execute_result"
    }
   ],
   "source": [
    "df[-1:]"
   ]
  },
  {
   "cell_type": "code",
   "execution_count": 35,
   "metadata": {},
   "outputs": [
    {
     "data": {
      "text/plain": [
       "A   -0.146665\n",
       "B   -0.237655\n",
       "C    -0.95113\n",
       "D   -0.723251\n",
       "E          <0\n",
       "F          <0\n",
       "Name: 2013-01-06 00:00:00, dtype: object"
      ]
     },
     "execution_count": 35,
     "metadata": {},
     "output_type": "execute_result"
    }
   ],
   "source": [
    "df.iloc[-1]"
   ]
  }
 ],
 "metadata": {
  "kernelspec": {
   "display_name": "Python 3",
   "language": "python",
   "name": "python3"
  },
  "language_info": {
   "codemirror_mode": {
    "name": "ipython",
    "version": 3
   },
   "file_extension": ".py",
   "mimetype": "text/x-python",
   "name": "python",
   "nbconvert_exporter": "python",
   "pygments_lexer": "ipython3",
   "version": "3.6.3"
  }
 },
 "nbformat": 4,
 "nbformat_minor": 2
}
