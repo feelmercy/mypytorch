{
 "cells": [
  {
   "cell_type": "code",
   "execution_count": 98,
   "metadata": {
    "ExecuteTime": {
     "end_time": "2020-02-28T08:46:59.554371Z",
     "start_time": "2020-02-28T08:46:59.518369Z"
    }
   },
   "outputs": [],
   "source": [
    "from influxdb import InfluxDBClient"
   ]
  },
  {
   "cell_type": "code",
   "execution_count": 99,
   "metadata": {
    "ExecuteTime": {
     "end_time": "2020-02-28T08:47:01.042456Z",
     "start_time": "2020-02-28T08:47:00.861446Z"
    },
    "scrolled": false
   },
   "outputs": [
    {
     "data": {
      "text/plain": [
       "ResultSet({'('h2o_feet', None)': [{'time': '2019-08-17T08:00:00+08:00', 'level description': 'below 3 feet', 'location': 'santa_monica', 'water_level': 2.064}, {'time': '2019-08-17T08:00:00+08:00', 'level description': 'between 6 and 9 feet', 'location': 'coyote_creek', 'water_level': 8.12}, {'time': '2019-08-17T08:06:00+08:00', 'level description': 'below 3 feet', 'location': 'santa_monica', 'water_level': 2.116}, {'time': '2019-08-17T08:06:00+08:00', 'level description': 'between 6 and 9 feet', 'location': 'coyote_creek', 'water_level': 8.005}, {'time': '2019-08-17T08:12:00+08:00', 'level description': 'below 3 feet', 'location': 'santa_monica', 'water_level': 2.028}]})"
      ]
     },
     "execution_count": 99,
     "metadata": {},
     "output_type": "execute_result"
    }
   ],
   "source": [
    "client = InfluxDBClient('10.9.51.237', 8086, 'admin', 'admin',\n",
    "                        'NOAA_water_database')\n",
    "result = client.query(\"select * from h2o_feet limit 5 tz('Asia/Shanghai')\")\n",
    "result"
   ]
  },
  {
   "cell_type": "code",
   "execution_count": 17,
   "metadata": {
    "ExecuteTime": {
     "end_time": "2020-02-28T06:23:09.093737Z",
     "start_time": "2020-02-28T06:23:09.087736Z"
    }
   },
   "outputs": [],
   "source": [
    "import time"
   ]
  },
  {
   "cell_type": "code",
   "execution_count": 18,
   "metadata": {
    "ExecuteTime": {
     "end_time": "2020-02-28T06:23:14.354038Z",
     "start_time": "2020-02-28T06:23:14.345037Z"
    }
   },
   "outputs": [
    {
     "data": {
      "text/plain": [
       "1582870994.3470378"
      ]
     },
     "execution_count": 18,
     "metadata": {},
     "output_type": "execute_result"
    }
   ],
   "source": [
    "time.time()"
   ]
  },
  {
   "cell_type": "code",
   "execution_count": 52,
   "metadata": {
    "ExecuteTime": {
     "end_time": "2020-02-28T07:59:27.225227Z",
     "start_time": "2020-02-28T07:59:26.912209Z"
    }
   },
   "outputs": [
    {
     "data": {
      "text/plain": [
       "0.2950165271759033"
      ]
     },
     "execution_count": 52,
     "metadata": {},
     "output_type": "execute_result"
    }
   ],
   "source": [
    "t1=time.time()\n",
    "for i in range(5):\n",
    "    a='tmp1,id='+str(i)+',name=test'+str(i)+ \\\n",
    "    ' info=\\\"this is a test '+str(time.time())+'\\\"'\n",
    "#     print(a)\n",
    "#     client.write([])\n",
    "#     client.write(['cpu,atag=test1 idle=100,usertime=10,system=1'],\n",
    "    client.write([a],\n",
    "                 {'db':'NOAA_water_database'},204,'line')\n",
    "t2=time.time()\n",
    "t2-t1\n",
    "    \n",
    "    \n",
    "    "
   ]
  },
  {
   "cell_type": "code",
   "execution_count": 57,
   "metadata": {
    "ExecuteTime": {
     "end_time": "2020-02-28T08:13:06.768102Z",
     "start_time": "2020-02-28T08:13:06.764102Z"
    }
   },
   "outputs": [],
   "source": [
    "import datetime"
   ]
  },
  {
   "cell_type": "code",
   "execution_count": 62,
   "metadata": {
    "ExecuteTime": {
     "end_time": "2020-02-28T08:13:58.443058Z",
     "start_time": "2020-02-28T08:13:58.429057Z"
    }
   },
   "outputs": [
    {
     "data": {
      "text/plain": [
       "datetime.datetime(2020, 2, 28, 16, 13, 58, 432058)"
      ]
     },
     "execution_count": 62,
     "metadata": {},
     "output_type": "execute_result"
    }
   ],
   "source": [
    "datetime.datetime.today()"
   ]
  },
  {
   "cell_type": "code",
   "execution_count": 53,
   "metadata": {
    "ExecuteTime": {
     "end_time": "2020-02-28T08:08:53.404611Z",
     "start_time": "2020-02-28T08:08:53.400610Z"
    }
   },
   "outputs": [],
   "source": [
    "import numpy as np"
   ]
  },
  {
   "cell_type": "code",
   "execution_count": 56,
   "metadata": {
    "ExecuteTime": {
     "end_time": "2020-02-28T08:10:35.540453Z",
     "start_time": "2020-02-28T08:10:35.532452Z"
    }
   },
   "outputs": [
    {
     "data": {
      "text/plain": [
       "7.0710678118654755"
      ]
     },
     "execution_count": 56,
     "metadata": {},
     "output_type": "execute_result"
    }
   ],
   "source": [
    "np.math.sin(np.math.radians(45))*10"
   ]
  },
  {
   "cell_type": "code",
   "execution_count": 68,
   "metadata": {
    "ExecuteTime": {
     "end_time": "2020-02-28T08:21:33.366078Z",
     "start_time": "2020-02-28T08:21:33.357077Z"
    }
   },
   "outputs": [
    {
     "data": {
      "text/plain": [
       "'33'"
      ]
     },
     "execution_count": 68,
     "metadata": {},
     "output_type": "execute_result"
    }
   ],
   "source": [
    "now = datetime.datetime.today()\n",
    "now.strftime('%S')"
   ]
  },
  {
   "cell_type": "code",
   "execution_count": 78,
   "metadata": {
    "ExecuteTime": {
     "end_time": "2020-02-28T08:29:10.503225Z",
     "start_time": "2020-02-28T08:29:10.498224Z"
    }
   },
   "outputs": [
    {
     "data": {
      "text/plain": [
       "1582878550"
      ]
     },
     "execution_count": 78,
     "metadata": {},
     "output_type": "execute_result"
    }
   ],
   "source": [
    "int(time.time())"
   ]
  },
  {
   "cell_type": "code",
   "execution_count": 82,
   "metadata": {
    "ExecuteTime": {
     "end_time": "2020-02-28T08:31:49.074294Z",
     "start_time": "2020-02-28T08:31:49.060294Z"
    }
   },
   "outputs": [
    {
     "data": {
      "text/plain": [
       "1582878709000000000"
      ]
     },
     "execution_count": 82,
     "metadata": {},
     "output_type": "execute_result"
    }
   ],
   "source": [
    "int(time.time())*10**9"
   ]
  },
  {
   "cell_type": "code",
   "execution_count": 93,
   "metadata": {
    "ExecuteTime": {
     "end_time": "2020-02-28T08:36:27.062194Z",
     "start_time": "2020-02-28T08:36:27.057194Z"
    }
   },
   "outputs": [
    {
     "data": {
      "text/plain": [
       "6"
      ]
     },
     "execution_count": 93,
     "metadata": {},
     "output_type": "execute_result"
    }
   ],
   "source": [
    "np.random.randint(10)"
   ]
  },
  {
   "cell_type": "code",
   "execution_count": 105,
   "metadata": {
    "ExecuteTime": {
     "end_time": "2020-02-28T08:50:30.263423Z",
     "start_time": "2020-02-28T08:50:28.518323Z"
    }
   },
   "outputs": [
    {
     "data": {
      "text/plain": [
       "1.7250988483428955"
      ]
     },
     "execution_count": 105,
     "metadata": {},
     "output_type": "execute_result"
    }
   ],
   "source": [
    "t1=time.time()\n",
    "points = []\n",
    "now = datetime.datetime.today()\n",
    "for angle in range(0, 50000):\n",
    "    y = 10 + np.math.sin(np.math.radians(angle)) * 10\n",
    "    point = {\n",
    "        \"measurement\": 'foobar',\n",
    "        \"time\": int(time.time())*10**9+angle,\n",
    "        \"fields\": {\n",
    "            \"value\": y\n",
    "        }\n",
    "    }\n",
    "    points.append(point)\n",
    "#     print(points)\n",
    "client.write_points(points)\n",
    "time.time()-t1"
   ]
  },
  {
   "cell_type": "code",
   "execution_count": 106,
   "metadata": {
    "ExecuteTime": {
     "end_time": "2020-02-28T08:52:44.375094Z",
     "start_time": "2020-02-28T08:52:44.362093Z"
    }
   },
   "outputs": [
    {
     "name": "stdout",
     "output_type": "stream",
     "text": [
      "tmp1,id=0,name=test0 info=\"this is a test 1582879964.3700938\"\n",
      "tmp1,id=1,name=test1 info=\"this is a test 1582879964.3700938\"\n",
      "tmp1,id=2,name=test2 info=\"this is a test 1582879964.3700938\"\n",
      "tmp1,id=3,name=test3 info=\"this is a test 1582879964.3700938\"\n",
      "tmp1,id=4,name=test4 info=\"this is a test 1582879964.3700938\"\n"
     ]
    },
    {
     "data": {
      "text/plain": [
       "0.0"
      ]
     },
     "execution_count": 106,
     "metadata": {},
     "output_type": "execute_result"
    }
   ],
   "source": [
    "t1=time.time()\n",
    "for i in range(5):\n",
    "    a='tmp1,id='+str(i)+',name=test'+str(i)+ \\\n",
    "    ' info=\\\"this is a test '+str(time.time())+'\\\"'\n",
    "#     print(a)\n",
    "#     client.write([])\n",
    "#     client.write(['cpu,atag=test1 idle=100,usertime=10,system=1'],\n",
    "#     client.write([a],\n",
    "#                  {'db':'NOAA_water_database'},204,'line')\n",
    "    print(a)\n",
    "t2=time.time()\n",
    "t2-t1"
   ]
  },
  {
   "cell_type": "code",
   "execution_count": 116,
   "metadata": {
    "ExecuteTime": {
     "end_time": "2020-02-28T09:03:16.637257Z",
     "start_time": "2020-02-28T09:03:16.628256Z"
    }
   },
   "outputs": [
    {
     "data": {
      "text/plain": [
       "1582880596.631257"
      ]
     },
     "execution_count": 116,
     "metadata": {},
     "output_type": "execute_result"
    }
   ],
   "source": [
    "time.time()"
   ]
  },
  {
   "cell_type": "code",
   "execution_count": 118,
   "metadata": {
    "ExecuteTime": {
     "end_time": "2020-02-28T09:03:48.215063Z",
     "start_time": "2020-02-28T09:03:48.211063Z"
    }
   },
   "outputs": [
    {
     "data": {
      "text/plain": [
       "1582880628212063.2"
      ]
     },
     "execution_count": 118,
     "metadata": {},
     "output_type": "execute_result"
    }
   ],
   "source": [
    "time.time()*10**6"
   ]
  },
  {
   "cell_type": "code",
   "execution_count": 128,
   "metadata": {
    "ExecuteTime": {
     "end_time": "2020-02-28T09:16:05.394227Z",
     "start_time": "2020-02-28T09:16:02.585067Z"
    }
   },
   "outputs": [
    {
     "data": {
      "text/plain": [
       "2.7891595363616943"
      ]
     },
     "execution_count": 128,
     "metadata": {},
     "output_type": "execute_result"
    }
   ],
   "source": [
    "t1=time.time()\n",
    "points = []\n",
    "# now = datetime.datetime.today()\n",
    "for i in range(0, 50000):\n",
    "#     y = 10 + np.math.sin(np.math.radians(angle)) * 10\n",
    "    point = {\n",
    "        \"measurement\": 'tmp2',\n",
    "        'tags':{\"id\":str(i),\"name\":'test'+str(i)},\n",
    "        \"time\": int(time.time())*10**9+i,\n",
    "        \"fields\": {\n",
    "            \"info\": '\\\"this is a test '+str(time.time())+'\\\"'\n",
    "        }\n",
    "    }\n",
    "#     print(point)\n",
    "    points.append(point)\n",
    "# print(points)\n",
    "client.write_points(points)\n",
    "time.time()-t1"
   ]
  },
  {
   "cell_type": "code",
   "execution_count": 125,
   "metadata": {
    "ExecuteTime": {
     "end_time": "2020-02-28T09:13:10.403218Z",
     "start_time": "2020-02-28T09:13:10.337215Z"
    }
   },
   "outputs": [
    {
     "data": {
      "text/plain": [
       "0.04500293731689453"
      ]
     },
     "execution_count": 125,
     "metadata": {},
     "output_type": "execute_result"
    }
   ],
   "source": [
    "t1=time.time()\n",
    "points = []\n",
    "now = datetime.datetime.today()\n",
    "for angle in range(0, 5):\n",
    "    y = 10 + np.math.sin(np.math.radians(angle)) * 10\n",
    "    point = {\n",
    "        \"measurement\": 'foobar',\n",
    "        \"time\": int(time.time())*10**9+angle,\n",
    "        \"fields\": {\n",
    "            \"value\": y\n",
    "        }\n",
    "    }\n",
    "    points.append(point)\n",
    "#     print(point)\n",
    "client.write_points(points)\n",
    "time.time()-t1"
   ]
  },
  {
   "cell_type": "code",
   "execution_count": null,
   "metadata": {},
   "outputs": [],
   "source": []
  }
 ],
 "metadata": {
  "kernelspec": {
   "display_name": "Python 3",
   "language": "python",
   "name": "python3"
  },
  "language_info": {
   "codemirror_mode": {
    "name": "ipython",
    "version": 3
   },
   "file_extension": ".py",
   "mimetype": "text/x-python",
   "name": "python",
   "nbconvert_exporter": "python",
   "pygments_lexer": "ipython3",
   "version": "3.6.3"
  }
 },
 "nbformat": 4,
 "nbformat_minor": 2
}
