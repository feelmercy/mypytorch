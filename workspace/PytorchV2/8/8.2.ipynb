{
 "cells": [
  {
   "cell_type": "code",
   "execution_count": 5,
   "id": "8288584c",
   "metadata": {
    "ExecuteTime": {
     "end_time": "2023-04-18T02:22:59.630486Z",
     "start_time": "2023-04-18T02:22:59.603163Z"
    }
   },
   "outputs": [
    {
     "name": "stdout",
     "output_type": "stream",
     "text": [
      "Using matplotlib backend: Qt5Agg\n"
     ]
    }
   ],
   "source": [
    "import collections\n",
    "import re\n",
    "import torch\n",
    "import matplotlib.pyplot as plt\n",
    "%matplotlib auto"
   ]
  },
  {
   "cell_type": "code",
   "execution_count": 6,
   "id": "4a92e9bd",
   "metadata": {
    "ExecuteTime": {
     "end_time": "2023-04-18T02:23:00.237458Z",
     "start_time": "2023-04-18T02:23:00.234529Z"
    }
   },
   "outputs": [],
   "source": [
    "file_path=r'F:\\study\\ml\\LM\\8\\timemachine.txt'"
   ]
  },
  {
   "cell_type": "code",
   "execution_count": 7,
   "id": "de3981db",
   "metadata": {
    "ExecuteTime": {
     "end_time": "2023-04-18T02:23:01.406426Z",
     "start_time": "2023-04-18T02:23:01.401544Z"
    }
   },
   "outputs": [],
   "source": [
    "def read_time_machine():\n",
    "    with open(file_path) as f:\n",
    "        lines=f.readlines()\n",
    "    return [re.sub('[^A-Za-z]+',' ',line).strip().lower() for line in lines]"
   ]
  },
  {
   "cell_type": "code",
   "execution_count": 8,
   "id": "b9c9d8cf",
   "metadata": {
    "ExecuteTime": {
     "end_time": "2023-04-18T02:23:02.184202Z",
     "start_time": "2023-04-18T02:23:02.162722Z"
    }
   },
   "outputs": [
    {
     "name": "stdout",
     "output_type": "stream",
     "text": [
      "# ⽂本总⾏数: 3221\n",
      "the time machine by h g wells\n",
      "twinkled and his usually pale face was flushed and animated the\n"
     ]
    }
   ],
   "source": [
    "lines=read_time_machine()\n",
    "print(f'# ⽂本总⾏数: {len(lines)}')\n",
    "print(lines[0])\n",
    "print(lines[10])"
   ]
  },
  {
   "cell_type": "code",
   "execution_count": 9,
   "id": "fbd4c820",
   "metadata": {
    "ExecuteTime": {
     "end_time": "2023-04-18T02:25:16.190543Z",
     "start_time": "2023-04-18T02:25:16.185680Z"
    }
   },
   "outputs": [],
   "source": [
    "def tokenize(lines,token='word'):\n",
    "    if token=='word':\n",
    "        return [line.split() for line in lines]\n",
    "    elif token=='char':\n",
    "        return [list(line) for line in lines]\n",
    "    else:\n",
    "        print(\"error : unknown token type : \",token)"
   ]
  },
  {
   "cell_type": "code",
   "execution_count": 25,
   "id": "56fcff73",
   "metadata": {
    "ExecuteTime": {
     "end_time": "2023-04-18T02:49:26.661578Z",
     "start_time": "2023-04-18T02:49:26.652791Z"
    }
   },
   "outputs": [],
   "source": [
    "class Vocab:\n",
    "    def __init__(self,tokens=None,min_freq=0,reserved_tokens=None):\n",
    "        if tokens is None:\n",
    "            tokens=[]\n",
    "        if reserved_tokens is None:\n",
    "            reserved_tokens=[]\n",
    "        counter=count_corpus(tokens)\n",
    "        self._token_freqs=sorted(counter.items(),key=lambda x:x[1],reverse=True)\n",
    "        self.idx_to_token=['<unk>']+reserved_tokens\n",
    "        self.token_to_idx={token:idx for idx,token in enumerate(self.idx_to_token)}\n",
    "        self.idx_to_token,self.token_to_idx=[],dict()\n",
    "        for token,freq in self._token_freqs:\n",
    "            if freq<min_freq:\n",
    "                break;\n",
    "            if token not in self.token_to_idx:\n",
    "                self.idx_to_token.append(token)\n",
    "                self.token_to_idx[token]=len(self.idx_to_token)-1\n",
    "    \n",
    "    def __len__(self):\n",
    "        return len(self.idx_to_token)\n",
    "    \n",
    "    def __getitem__(self,tokens):\n",
    "        if not isinstance(tokens,(list,tuple)):\n",
    "            return self.token_to_idx.get(tokens,self.unk)\n",
    "        return [self.__getitem__(token) for token in tokens]\n",
    "    \n",
    "    def to_tokens(self,indices):\n",
    "        if not isinstance(indices,(list,tuple)):\n",
    "            return self.idx_to_token[indices]\n",
    "        return [self.idx_to_token[index] for index in indices]\n",
    "    \n",
    "    @property\n",
    "    def unk(self):\n",
    "        return 0;\n",
    "    \n",
    "    @property\n",
    "    def token_freqs(self):\n",
    "        return self._token_freqs;\n",
    "    "
   ]
  },
  {
   "cell_type": "code",
   "execution_count": 26,
   "id": "43ee7b6e",
   "metadata": {
    "ExecuteTime": {
     "end_time": "2023-04-18T02:49:27.134474Z",
     "start_time": "2023-04-18T02:49:27.130582Z"
    }
   },
   "outputs": [],
   "source": [
    "def count_corpus(tokens):\n",
    "    if len(tokens)==0 or isinstance(tokens[0],list):\n",
    "        tokens=[token for line in tokens for token in line]\n",
    "    return collections.Counter(tokens)"
   ]
  },
  {
   "cell_type": "code",
   "execution_count": 27,
   "id": "dde0a335",
   "metadata": {
    "ExecuteTime": {
     "end_time": "2023-04-18T02:49:27.619434Z",
     "start_time": "2023-04-18T02:49:27.610648Z"
    }
   },
   "outputs": [
    {
     "name": "stdout",
     "output_type": "stream",
     "text": [
      "['the', 'time', 'machine', 'by', 'h', 'g', 'wells']\n",
      "[]\n",
      "[]\n",
      "[]\n",
      "[]\n",
      "['i']\n",
      "[]\n",
      "[]\n",
      "['the', 'time', 'traveller', 'for', 'so', 'it', 'will', 'be', 'convenient', 'to', 'speak', 'of', 'him']\n",
      "['was', 'expounding', 'a', 'recondite', 'matter', 'to', 'us', 'his', 'grey', 'eyes', 'shone', 'and']\n",
      "['twinkled', 'and', 'his', 'usually', 'pale', 'face', 'was', 'flushed', 'and', 'animated', 'the']\n"
     ]
    }
   ],
   "source": [
    "tokens = tokenize(lines)\n",
    "for i in range(11):\n",
    "    print(tokens[i])"
   ]
  },
  {
   "cell_type": "code",
   "execution_count": 28,
   "id": "664db644",
   "metadata": {
    "ExecuteTime": {
     "end_time": "2023-04-18T02:49:28.588924Z",
     "start_time": "2023-04-18T02:49:28.571808Z"
    }
   },
   "outputs": [
    {
     "name": "stdout",
     "output_type": "stream",
     "text": [
      "[('the', 0), ('i', 1), ('and', 2), ('of', 3), ('a', 4), ('to', 5), ('was', 6), ('in', 7), ('that', 8), ('my', 9)]\n"
     ]
    }
   ],
   "source": [
    "vocab = Vocab(tokens)\n",
    "print(list(vocab.token_to_idx.items())[:10])"
   ]
  },
  {
   "cell_type": "code",
   "execution_count": 29,
   "id": "8ab19395",
   "metadata": {
    "ExecuteTime": {
     "end_time": "2023-04-18T03:11:19.643403Z",
     "start_time": "2023-04-18T03:11:19.638522Z"
    }
   },
   "outputs": [
    {
     "name": "stdout",
     "output_type": "stream",
     "text": [
      "⽂本: ['the', 'time', 'machine', 'by', 'h', 'g', 'wells']\n",
      "索引: [0, 18, 49, 39, 2182, 2183, 399]\n",
      "⽂本: ['twinkled', 'and', 'his', 'usually', 'pale', 'face', 'was', 'flushed', 'and', 'animated', 'the']\n",
      "索引: [2185, 2, 24, 1043, 361, 112, 6, 1420, 2, 1044, 0]\n"
     ]
    }
   ],
   "source": [
    "for i in [0, 10]:\n",
    "    print('⽂本:', tokens[i])\n",
    "    print('索引:', vocab[tokens[i]])"
   ]
  },
  {
   "cell_type": "code",
   "execution_count": 30,
   "id": "3dab5184",
   "metadata": {
    "ExecuteTime": {
     "end_time": "2023-04-18T08:36:39.003368Z",
     "start_time": "2023-04-18T08:36:38.988723Z"
    }
   },
   "outputs": [],
   "source": [
    "def load_corpus_time_machine(max_tokens=-1):\n",
    "    lines=read_time_machine()\n",
    "    tokens=tokenize(lines,'char')\n",
    "    vocab=Vocab(tokens)\n",
    "    corpus=[vocab[token] for line in tokens for token in line]\n",
    "    if max_tokens>0:\n",
    "        corpus=corpus[:max_tokens]\n",
    "    return corpus,vocab"
   ]
  },
  {
   "cell_type": "code",
   "execution_count": null,
   "id": "50a69f27",
   "metadata": {},
   "outputs": [],
   "source": []
  },
  {
   "cell_type": "code",
   "execution_count": null,
   "id": "82023e7c",
   "metadata": {},
   "outputs": [],
   "source": []
  },
  {
   "cell_type": "code",
   "execution_count": null,
   "id": "f19a69f1",
   "metadata": {},
   "outputs": [],
   "source": []
  },
  {
   "cell_type": "code",
   "execution_count": null,
   "id": "1bf6d45e",
   "metadata": {},
   "outputs": [],
   "source": []
  }
 ],
 "metadata": {
  "kernelspec": {
   "display_name": "Python 3",
   "language": "python",
   "name": "python3"
  },
  "language_info": {
   "codemirror_mode": {
    "name": "ipython",
    "version": 3
   },
   "file_extension": ".py",
   "mimetype": "text/x-python",
   "name": "python",
   "nbconvert_exporter": "python",
   "pygments_lexer": "ipython3",
   "version": "3.8.8"
  }
 },
 "nbformat": 4,
 "nbformat_minor": 5
}
