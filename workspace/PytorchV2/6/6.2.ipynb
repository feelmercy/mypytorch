{
 "cells": [
  {
   "cell_type": "code",
   "execution_count": 2,
   "id": "41e6a55c",
   "metadata": {
    "ExecuteTime": {
     "end_time": "2022-05-27T07:17:48.319373Z",
     "start_time": "2022-05-27T07:17:48.313372Z"
    }
   },
   "outputs": [],
   "source": [
    "import torch\n",
    "from torch import nn,optim"
   ]
  },
  {
   "cell_type": "code",
   "execution_count": 3,
   "id": "540ed897",
   "metadata": {
    "ExecuteTime": {
     "end_time": "2022-05-27T07:17:48.647414Z",
     "start_time": "2022-05-27T07:17:48.621411Z"
    }
   },
   "outputs": [],
   "source": [
    "def corr2d(X,K):\n",
    "    h,w = K.shape\n",
    "    Y=torch.zeros((X.shape[0] -h +1,X.shape[1] -w+1))\n",
    "    for i in range(Y.shape[0]):\n",
    "        for j in range(Y.shape[1]):\n",
    "            Y[i,j]=(X[i:i+h,j:j+w]*K).sum()\n",
    "    return Y\n",
    "    "
   ]
  },
  {
   "cell_type": "code",
   "execution_count": 4,
   "id": "3085f956",
   "metadata": {
    "ExecuteTime": {
     "end_time": "2022-05-27T07:17:49.120474Z",
     "start_time": "2022-05-27T07:17:48.937951Z"
    }
   },
   "outputs": [
    {
     "data": {
      "text/plain": [
       "tensor([[19., 25.],\n",
       "        [37., 43.]])"
      ]
     },
     "execution_count": 4,
     "metadata": {},
     "output_type": "execute_result"
    }
   ],
   "source": [
    "X = torch.tensor([[0.0, 1.0, 2.0], [3.0, 4.0, 5.0], [6.0, 7.0, 8.0]])\n",
    "K = torch.tensor([[0.0, 1.0], [2.0, 3.0]])\n",
    "corr2d(X, K)"
   ]
  },
  {
   "cell_type": "code",
   "execution_count": 5,
   "id": "cc027e86",
   "metadata": {
    "ExecuteTime": {
     "end_time": "2022-05-27T07:17:49.280995Z",
     "start_time": "2022-05-27T07:17:49.271994Z"
    }
   },
   "outputs": [],
   "source": [
    "class Conv2D(nn.Module):\n",
    "    def __init__(self,kernel_size):\n",
    "        super().__init__()\n",
    "        self.weight=nn.Parameter(torch.rand(kernel_size))\n",
    "        self.bais=nn.Parameter(torch.zeros(1))\n",
    "        \n",
    "    def forward(self,x):\n",
    "        return corr2d(x,self.weight)+self.bais"
   ]
  },
  {
   "cell_type": "code",
   "execution_count": 6,
   "id": "0d62c079",
   "metadata": {
    "ExecuteTime": {
     "end_time": "2022-05-27T07:17:50.079596Z",
     "start_time": "2022-05-27T07:17:50.024589Z"
    }
   },
   "outputs": [
    {
     "data": {
      "text/plain": [
       "tensor([[1., 1., 0., 0., 0., 0., 1., 1.],\n",
       "        [1., 1., 0., 0., 0., 0., 1., 1.],\n",
       "        [1., 1., 0., 0., 0., 0., 1., 1.],\n",
       "        [1., 1., 0., 0., 0., 0., 1., 1.],\n",
       "        [1., 1., 0., 0., 0., 0., 1., 1.],\n",
       "        [1., 1., 0., 0., 0., 0., 1., 1.]])"
      ]
     },
     "execution_count": 6,
     "metadata": {},
     "output_type": "execute_result"
    }
   ],
   "source": [
    "X=torch.ones((6,8))\n",
    "X[:,2:6]=0\n",
    "X"
   ]
  },
  {
   "cell_type": "code",
   "execution_count": 7,
   "id": "b34dd167",
   "metadata": {
    "ExecuteTime": {
     "end_time": "2022-05-27T07:17:50.504150Z",
     "start_time": "2022-05-27T07:17:50.489148Z"
    }
   },
   "outputs": [
    {
     "data": {
      "text/plain": [
       "tensor([[ 1., -1.]])"
      ]
     },
     "execution_count": 7,
     "metadata": {},
     "output_type": "execute_result"
    }
   ],
   "source": [
    "K=torch.tensor([[1.0,-1.0]])\n",
    "K"
   ]
  },
  {
   "cell_type": "code",
   "execution_count": 8,
   "id": "e2dbe3d3",
   "metadata": {
    "ExecuteTime": {
     "end_time": "2022-05-27T07:17:51.003213Z",
     "start_time": "2022-05-27T07:17:50.984711Z"
    }
   },
   "outputs": [
    {
     "data": {
      "text/plain": [
       "tensor([[ 0.,  1.,  0.,  0.,  0., -1.,  0.],\n",
       "        [ 0.,  1.,  0.,  0.,  0., -1.,  0.],\n",
       "        [ 0.,  1.,  0.,  0.,  0., -1.,  0.],\n",
       "        [ 0.,  1.,  0.,  0.,  0., -1.,  0.],\n",
       "        [ 0.,  1.,  0.,  0.,  0., -1.,  0.],\n",
       "        [ 0.,  1.,  0.,  0.,  0., -1.,  0.]])"
      ]
     },
     "execution_count": 8,
     "metadata": {},
     "output_type": "execute_result"
    }
   ],
   "source": [
    "Y=corr2d(X,K)\n",
    "Y"
   ]
  },
  {
   "cell_type": "code",
   "execution_count": 9,
   "id": "86c5c9aa",
   "metadata": {
    "ExecuteTime": {
     "end_time": "2022-05-27T07:17:51.636794Z",
     "start_time": "2022-05-27T07:17:51.512278Z"
    }
   },
   "outputs": [],
   "source": [
    "conv2d=nn.Conv2d(1,1,kernel_size=(1,2),bias=False)"
   ]
  },
  {
   "cell_type": "code",
   "execution_count": 10,
   "id": "d3701e3c",
   "metadata": {
    "ExecuteTime": {
     "end_time": "2022-05-27T07:17:52.218868Z",
     "start_time": "2022-05-27T07:17:52.209867Z"
    }
   },
   "outputs": [],
   "source": [
    "X=X.reshape((1,1,6,8))\n",
    "Y=Y.reshape((1,1,6,7))"
   ]
  },
  {
   "cell_type": "code",
   "execution_count": 11,
   "id": "860d3118",
   "metadata": {
    "ExecuteTime": {
     "end_time": "2022-05-27T07:17:52.677426Z",
     "start_time": "2022-05-27T07:17:52.665424Z"
    }
   },
   "outputs": [
    {
     "data": {
      "text/plain": [
       "torch.Size([1, 1, 6, 7])"
      ]
     },
     "execution_count": 11,
     "metadata": {},
     "output_type": "execute_result"
    }
   ],
   "source": [
    "Y.shape"
   ]
  },
  {
   "cell_type": "code",
   "execution_count": 13,
   "id": "353d5f9b",
   "metadata": {
    "ExecuteTime": {
     "end_time": "2022-05-27T07:23:05.189610Z",
     "start_time": "2022-05-27T07:23:05.058593Z"
    }
   },
   "outputs": [
    {
     "name": "stdout",
     "output_type": "stream",
     "text": [
      "epoch  2,loss 10.801\n",
      "epoch  4,loss 2.049\n",
      "epoch  6,loss 0.441\n",
      "epoch  8,loss 0.114\n",
      "epoch  10,loss 0.035\n"
     ]
    }
   ],
   "source": [
    "lr=3e-2\n",
    "for i in range(10):\n",
    "    Y_hat=conv2d(X)\n",
    "    l=(Y_hat-Y)**2\n",
    "    conv2d.zero_grad()\n",
    "    l.sum().backward()\n",
    "    conv2d.weight.data[:] -= lr * conv2d.weight.grad\n",
    "    if (i+1)%2==0:\n",
    "        print(f'epoch  {i+1},loss {l.sum():.3f}')"
   ]
  },
  {
   "cell_type": "code",
   "execution_count": 14,
   "id": "88805056",
   "metadata": {
    "ExecuteTime": {
     "end_time": "2022-05-27T07:41:47.051568Z",
     "start_time": "2022-05-27T07:41:47.035566Z"
    }
   },
   "outputs": [
    {
     "data": {
      "text/plain": [
       "tensor([[ 0.9666, -1.0008]])"
      ]
     },
     "execution_count": 14,
     "metadata": {},
     "output_type": "execute_result"
    }
   ],
   "source": [
    "conv2d.weight.data.reshape((1,2))"
   ]
  },
  {
   "cell_type": "code",
   "execution_count": null,
   "id": "529a4a60",
   "metadata": {},
   "outputs": [],
   "source": []
  },
  {
   "cell_type": "code",
   "execution_count": null,
   "id": "32c6f074",
   "metadata": {},
   "outputs": [],
   "source": []
  },
  {
   "cell_type": "code",
   "execution_count": null,
   "id": "e2cf09aa",
   "metadata": {},
   "outputs": [],
   "source": []
  },
  {
   "cell_type": "code",
   "execution_count": null,
   "id": "94dfaf3c",
   "metadata": {},
   "outputs": [],
   "source": []
  },
  {
   "cell_type": "code",
   "execution_count": null,
   "id": "b1ca8c26",
   "metadata": {},
   "outputs": [],
   "source": []
  }
 ],
 "metadata": {
  "kernelspec": {
   "display_name": "Python 3",
   "language": "python",
   "name": "python3"
  },
  "language_info": {
   "codemirror_mode": {
    "name": "ipython",
    "version": 3
   },
   "file_extension": ".py",
   "mimetype": "text/x-python",
   "name": "python",
   "nbconvert_exporter": "python",
   "pygments_lexer": "ipython3",
   "version": "3.8.8"
  }
 },
 "nbformat": 4,
 "nbformat_minor": 5
}
