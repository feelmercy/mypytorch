{
 "cells": [
  {
   "cell_type": "code",
   "execution_count": 1,
   "id": "cacd6d92",
   "metadata": {
    "ExecuteTime": {
     "end_time": "2022-05-27T07:49:28.737195Z",
     "start_time": "2022-05-27T07:49:28.734695Z"
    }
   },
   "outputs": [],
   "source": [
    "import torch\n",
    "from torch import nn"
   ]
  },
  {
   "cell_type": "code",
   "execution_count": 3,
   "id": "08d6b5e0",
   "metadata": {
    "ExecuteTime": {
     "end_time": "2022-05-27T07:51:48.221907Z",
     "start_time": "2022-05-27T07:51:48.210406Z"
    }
   },
   "outputs": [],
   "source": [
    "class Conv2D(nn.Module):\n",
    "    def __init__(self,kernel_size):\n",
    "        super().__init__()\n",
    "        self.weight=nn.Parameter(torch.rand(kernel_size))\n",
    "        self.bais=nn.Parameter(torch.zeros(1))\n",
    "        \n",
    "    def forward(self,x):\n",
    "        return corr2d(x,self.weight)+self.bais"
   ]
  },
  {
   "cell_type": "code",
   "execution_count": 10,
   "id": "34bcad41",
   "metadata": {
    "ExecuteTime": {
     "end_time": "2022-05-27T07:54:07.844137Z",
     "start_time": "2022-05-27T07:54:07.835136Z"
    }
   },
   "outputs": [],
   "source": [
    "def comp_conv2d(conv2d,X):\n",
    "    X=X.reshape((1,1)+X.shape)\n",
    "    Y=conv2d(X)\n",
    "    return Y.reshape(Y.shape[2:])"
   ]
  },
  {
   "cell_type": "markdown",
   "id": "4ece231c",
   "metadata": {},
   "source": [
    "(nh-kn+ph+1)=8-3+1*2+1=8"
   ]
  },
  {
   "cell_type": "code",
   "execution_count": 11,
   "id": "5296a1fc",
   "metadata": {
    "ExecuteTime": {
     "end_time": "2022-05-27T07:54:08.339200Z",
     "start_time": "2022-05-27T07:54:08.295694Z"
    }
   },
   "outputs": [
    {
     "data": {
      "text/plain": [
       "tensor([[ 0.4505,  0.3481,  0.0260,  0.0681,  0.1814,  0.1718,  0.2556,  0.1157],\n",
       "        [ 0.4223,  0.0807, -0.1327, -0.0104,  0.1472,  0.1197,  0.0217, -0.1330],\n",
       "        [ 0.2576,  0.0295,  0.1055,  0.3051,  0.2418,  0.2799,  0.0101, -0.1867],\n",
       "        [ 0.5763,  0.1772,  0.1639,  0.2640,  0.0669,  0.2482,  0.1003, -0.0737],\n",
       "        [ 0.3609,  0.1566,  0.1627,  0.1794,  0.2258,  0.0728,  0.0709, -0.1114],\n",
       "        [ 0.5090,  0.2660,  0.2182,  0.0091,  0.1072,  0.1503, -0.0625, -0.1922],\n",
       "        [ 0.6361,  0.1210, -0.0690, -0.0792, -0.0337,  0.0916, -0.0454, -0.1876],\n",
       "        [ 0.1382, -0.2833, -0.2906, -0.1746, -0.0756, -0.0129, -0.1990, -0.1170]],\n",
       "       grad_fn=<ReshapeAliasBackward0>)"
      ]
     },
     "execution_count": 11,
     "metadata": {},
     "output_type": "execute_result"
    }
   ],
   "source": [
    "conv2d=nn.Conv2d(1,1,kernel_size=3,padding=1)\n",
    "X=torch.rand(size=(8,8))\n",
    "comp_conv2d(conv2d,X)"
   ]
  },
  {
   "cell_type": "markdown",
   "id": "70ad94cd",
   "metadata": {},
   "source": [
    "floor(8-3+0*2+3)/3=2,floor((8-5+1*2+4)/4)=2"
   ]
  },
  {
   "cell_type": "code",
   "execution_count": 12,
   "id": "f8224f61",
   "metadata": {
    "ExecuteTime": {
     "end_time": "2022-05-27T08:39:26.219827Z",
     "start_time": "2022-05-27T08:39:26.149818Z"
    }
   },
   "outputs": [
    {
     "data": {
      "text/plain": [
       "torch.Size([2, 2])"
      ]
     },
     "execution_count": 12,
     "metadata": {},
     "output_type": "execute_result"
    }
   ],
   "source": [
    "conv2d=nn.Conv2d(1,1,kernel_size=(3,5),padding=(0,1),stride=(3,4))\n",
    "comp_conv2d(conv2d,X).shape"
   ]
  },
  {
   "cell_type": "code",
   "execution_count": null,
   "id": "f82a078a",
   "metadata": {},
   "outputs": [],
   "source": []
  }
 ],
 "metadata": {
  "kernelspec": {
   "display_name": "Python 3",
   "language": "python",
   "name": "python3"
  },
  "language_info": {
   "codemirror_mode": {
    "name": "ipython",
    "version": 3
   },
   "file_extension": ".py",
   "mimetype": "text/x-python",
   "name": "python",
   "nbconvert_exporter": "python",
   "pygments_lexer": "ipython3",
   "version": "3.8.8"
  }
 },
 "nbformat": 4,
 "nbformat_minor": 5
}
