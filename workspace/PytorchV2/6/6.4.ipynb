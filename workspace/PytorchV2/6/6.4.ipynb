{
 "cells": [
  {
   "cell_type": "code",
   "execution_count": 13,
   "id": "d84a1757",
   "metadata": {
    "ExecuteTime": {
     "end_time": "2022-05-30T02:47:31.719551Z",
     "start_time": "2022-05-30T02:47:31.712550Z"
    }
   },
   "outputs": [],
   "source": [
    "import torch"
   ]
  },
  {
   "cell_type": "code",
   "execution_count": 14,
   "id": "2cbca580",
   "metadata": {
    "ExecuteTime": {
     "end_time": "2022-05-30T02:47:32.244117Z",
     "start_time": "2022-05-30T02:47:32.239617Z"
    }
   },
   "outputs": [],
   "source": [
    "def corr2d(X,K):\n",
    "    print(K.shape)\n",
    "    kw,kh=K.shape\n",
    "    w,h=X.shape\n",
    "    Y=torch.zeros((w-kw+1,h-kh+1))\n",
    "    for i in range(w-kw+1):\n",
    "        for j in range(h-kh+1):\n",
    "            Y[i][j]=(X[i:i+kw,j:j+kh]*K).sum()\n",
    "    return Y"
   ]
  },
  {
   "cell_type": "code",
   "execution_count": 15,
   "id": "0589a2ac",
   "metadata": {
    "ExecuteTime": {
     "end_time": "2022-05-30T02:47:32.674172Z",
     "start_time": "2022-05-30T02:47:32.661670Z"
    }
   },
   "outputs": [
    {
     "name": "stdout",
     "output_type": "stream",
     "text": [
      "torch.Size([2, 2])\n"
     ]
    },
    {
     "data": {
      "text/plain": [
       "tensor([[19., 25.],\n",
       "        [37., 43.]])"
      ]
     },
     "execution_count": 15,
     "metadata": {},
     "output_type": "execute_result"
    }
   ],
   "source": [
    "X = torch.tensor([[0.0, 1.0, 2.0], [3.0, 4.0, 5.0], [6.0, 7.0, 8.0]])\n",
    "K = torch.tensor([[0.0, 1.0], [2.0, 3.0]])\n",
    "corr2d(X, K)"
   ]
  },
  {
   "cell_type": "code",
   "execution_count": 16,
   "id": "7eea35e7",
   "metadata": {
    "ExecuteTime": {
     "end_time": "2022-05-30T02:47:33.088725Z",
     "start_time": "2022-05-30T02:47:33.079723Z"
    }
   },
   "outputs": [],
   "source": [
    "def corr2d_multi_in(X,K):\n",
    "    return sum(corr2d(x,k) for x, k in zip(X,K))"
   ]
  },
  {
   "cell_type": "code",
   "execution_count": 17,
   "id": "a53c2c65",
   "metadata": {
    "ExecuteTime": {
     "end_time": "2022-05-30T02:47:33.425267Z",
     "start_time": "2022-05-30T02:47:33.416266Z"
    }
   },
   "outputs": [],
   "source": [
    "X = torch.tensor([[[0.0, 1.0, 2.0], [3.0, 4.0, 5.0], [6.0, 7.0, 8.0]],\n",
    "[[1.0, 2.0, 3.0], [4.0, 5.0, 6.0], [7.0, 8.0, 9.0]]])"
   ]
  },
  {
   "cell_type": "code",
   "execution_count": 18,
   "id": "f4ecad21",
   "metadata": {
    "ExecuteTime": {
     "end_time": "2022-05-30T02:47:33.783313Z",
     "start_time": "2022-05-30T02:47:33.775812Z"
    }
   },
   "outputs": [],
   "source": [
    "K = torch.tensor([[[0.0, 1.0], [2.0, 3.0]], [[1.0, 2.0], [3.0, 4.0]]])"
   ]
  },
  {
   "cell_type": "code",
   "execution_count": 19,
   "id": "9ed8ae77",
   "metadata": {
    "ExecuteTime": {
     "end_time": "2022-05-30T02:47:34.108854Z",
     "start_time": "2022-05-30T02:47:34.096853Z"
    }
   },
   "outputs": [
    {
     "data": {
      "text/plain": [
       "torch.Size([2, 3, 3])"
      ]
     },
     "execution_count": 19,
     "metadata": {},
     "output_type": "execute_result"
    }
   ],
   "source": [
    "X.shape"
   ]
  },
  {
   "cell_type": "code",
   "execution_count": 20,
   "id": "ad41d017",
   "metadata": {
    "ExecuteTime": {
     "end_time": "2022-05-30T02:47:34.433395Z",
     "start_time": "2022-05-30T02:47:34.416393Z"
    }
   },
   "outputs": [
    {
     "data": {
      "text/plain": [
       "torch.Size([2, 2, 2])"
      ]
     },
     "execution_count": 20,
     "metadata": {},
     "output_type": "execute_result"
    }
   ],
   "source": [
    "K.shape"
   ]
  },
  {
   "cell_type": "code",
   "execution_count": 21,
   "id": "b61f4b68",
   "metadata": {
    "ExecuteTime": {
     "end_time": "2022-05-30T02:47:34.722432Z",
     "start_time": "2022-05-30T02:47:34.710931Z"
    }
   },
   "outputs": [
    {
     "name": "stdout",
     "output_type": "stream",
     "text": [
      "torch.Size([2, 2])\n",
      "torch.Size([2, 2])\n"
     ]
    },
    {
     "data": {
      "text/plain": [
       "tensor([[ 56.,  72.],\n",
       "        [104., 120.]])"
      ]
     },
     "execution_count": 21,
     "metadata": {},
     "output_type": "execute_result"
    }
   ],
   "source": [
    "corr2d_multi_in(X,K)"
   ]
  },
  {
   "cell_type": "code",
   "execution_count": 22,
   "id": "b178eea4",
   "metadata": {
    "ExecuteTime": {
     "end_time": "2022-05-30T02:47:35.012969Z",
     "start_time": "2022-05-30T02:47:35.007468Z"
    }
   },
   "outputs": [],
   "source": [
    "def corr2d_multi_in_out(X,K):\n",
    "    return torch.stack([corr2d_multi_in(X,k) for k in K],0)"
   ]
  },
  {
   "cell_type": "code",
   "execution_count": 23,
   "id": "1cd383bc",
   "metadata": {
    "ExecuteTime": {
     "end_time": "2022-05-30T02:47:35.345011Z",
     "start_time": "2022-05-30T02:47:35.279003Z"
    }
   },
   "outputs": [
    {
     "data": {
      "text/plain": [
       "tensor([[[[0., 1.],\n",
       "          [2., 3.]],\n",
       "\n",
       "         [[1., 2.],\n",
       "          [3., 4.]]],\n",
       "\n",
       "\n",
       "        [[[1., 2.],\n",
       "          [3., 4.]],\n",
       "\n",
       "         [[2., 3.],\n",
       "          [4., 5.]]],\n",
       "\n",
       "\n",
       "        [[[2., 3.],\n",
       "          [4., 5.]],\n",
       "\n",
       "         [[3., 4.],\n",
       "          [5., 6.]]]])"
      ]
     },
     "execution_count": 23,
     "metadata": {},
     "output_type": "execute_result"
    }
   ],
   "source": [
    "K=torch.stack((K,K+1,K+2),0)\n",
    "K"
   ]
  },
  {
   "cell_type": "code",
   "execution_count": 24,
   "id": "75828f91",
   "metadata": {
    "ExecuteTime": {
     "end_time": "2022-05-30T02:47:35.596543Z",
     "start_time": "2022-05-30T02:47:35.584541Z"
    }
   },
   "outputs": [
    {
     "data": {
      "text/plain": [
       "torch.Size([3, 2, 2, 2])"
      ]
     },
     "execution_count": 24,
     "metadata": {},
     "output_type": "execute_result"
    }
   ],
   "source": [
    "K.shape"
   ]
  },
  {
   "cell_type": "code",
   "execution_count": 25,
   "id": "3dd392fd",
   "metadata": {
    "ExecuteTime": {
     "end_time": "2022-05-30T02:47:35.890580Z",
     "start_time": "2022-05-30T02:47:35.875078Z"
    }
   },
   "outputs": [
    {
     "name": "stdout",
     "output_type": "stream",
     "text": [
      "torch.Size([2, 2])\n",
      "torch.Size([2, 2])\n",
      "torch.Size([2, 2])\n",
      "torch.Size([2, 2])\n",
      "torch.Size([2, 2])\n",
      "torch.Size([2, 2])\n"
     ]
    },
    {
     "data": {
      "text/plain": [
       "tensor([[[ 56.,  72.],\n",
       "         [104., 120.]],\n",
       "\n",
       "        [[ 76., 100.],\n",
       "         [148., 172.]],\n",
       "\n",
       "        [[ 96., 128.],\n",
       "         [192., 224.]]])"
      ]
     },
     "execution_count": 25,
     "metadata": {},
     "output_type": "execute_result"
    }
   ],
   "source": [
    "corr2d_multi_in_out(X,K)"
   ]
  },
  {
   "cell_type": "code",
   "execution_count": 26,
   "id": "ccc0d922",
   "metadata": {
    "ExecuteTime": {
     "end_time": "2022-05-30T02:47:36.187118Z",
     "start_time": "2022-05-30T02:47:36.180617Z"
    }
   },
   "outputs": [],
   "source": [
    "def corr2d_multi_in_out_1x1(X,K):\n",
    "    ci,h,w=X.shape\n",
    "    co=K.shape[0]\n",
    "    X=X.reshape((ci,h*w))\n",
    "    K=K.reshape((co,ci))\n",
    "    Y=torch.matmul(K,X)\n",
    "    return Y.reshape((co,h,w))\n",
    "    "
   ]
  },
  {
   "cell_type": "code",
   "execution_count": 27,
   "id": "5748fe10",
   "metadata": {
    "ExecuteTime": {
     "end_time": "2022-05-30T02:47:36.512659Z",
     "start_time": "2022-05-30T02:47:36.506659Z"
    }
   },
   "outputs": [],
   "source": [
    "X = torch.normal(0, 1, (3, 3, 3))\n",
    "K = torch.normal(0, 1, (2, 3, 1, 1))"
   ]
  },
  {
   "cell_type": "code",
   "execution_count": 28,
   "id": "1c203911",
   "metadata": {
    "ExecuteTime": {
     "end_time": "2022-05-30T02:47:37.675307Z",
     "start_time": "2022-05-30T02:47:37.487783Z"
    }
   },
   "outputs": [
    {
     "name": "stdout",
     "output_type": "stream",
     "text": [
      "torch.Size([1, 1])\n",
      "torch.Size([1, 1])\n",
      "torch.Size([1, 1])\n",
      "torch.Size([1, 1])\n",
      "torch.Size([1, 1])\n",
      "torch.Size([1, 1])\n"
     ]
    }
   ],
   "source": [
    "Y1 = corr2d_multi_in_out_1x1(X, K)\n",
    "Y2 = corr2d_multi_in_out(X, K)\n",
    "assert float(torch.abs(Y1 - Y2).sum()) < 1e-6"
   ]
  },
  {
   "cell_type": "code",
   "execution_count": 29,
   "id": "174cb2c3",
   "metadata": {
    "ExecuteTime": {
     "end_time": "2022-05-30T02:51:16.348575Z",
     "start_time": "2022-05-30T02:51:16.336573Z"
    }
   },
   "outputs": [
    {
     "data": {
      "text/plain": [
       "torch.Size([2, 3, 3])"
      ]
     },
     "execution_count": 29,
     "metadata": {},
     "output_type": "execute_result"
    }
   ],
   "source": [
    "Y1.shape"
   ]
  },
  {
   "cell_type": "code",
   "execution_count": null,
   "id": "7eb56758",
   "metadata": {},
   "outputs": [],
   "source": []
  },
  {
   "cell_type": "code",
   "execution_count": null,
   "id": "af2f8d2f",
   "metadata": {},
   "outputs": [],
   "source": []
  },
  {
   "cell_type": "code",
   "execution_count": null,
   "id": "7928fc7b",
   "metadata": {},
   "outputs": [],
   "source": []
  }
 ],
 "metadata": {
  "kernelspec": {
   "display_name": "Python 3",
   "language": "python",
   "name": "python3"
  },
  "language_info": {
   "codemirror_mode": {
    "name": "ipython",
    "version": 3
   },
   "file_extension": ".py",
   "mimetype": "text/x-python",
   "name": "python",
   "nbconvert_exporter": "python",
   "pygments_lexer": "ipython3",
   "version": "3.8.8"
  }
 },
 "nbformat": 4,
 "nbformat_minor": 5
}
