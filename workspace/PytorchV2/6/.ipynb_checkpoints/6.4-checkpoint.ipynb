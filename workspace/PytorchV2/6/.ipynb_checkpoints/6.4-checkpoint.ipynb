{
 "cells": [
  {
   "cell_type": "code",
   "execution_count": 1,
   "id": "d84a1757",
   "metadata": {
    "ExecuteTime": {
     "end_time": "2022-05-27T08:54:39.186259Z",
     "start_time": "2022-05-27T08:54:38.568180Z"
    }
   },
   "outputs": [],
   "source": [
    "import torch"
   ]
  },
  {
   "cell_type": "code",
   "execution_count": 18,
   "id": "2cbca580",
   "metadata": {
    "ExecuteTime": {
     "end_time": "2022-05-27T09:06:00.580285Z",
     "start_time": "2022-05-27T09:06:00.566783Z"
    }
   },
   "outputs": [],
   "source": [
    "def corr2d(X,K):\n",
    "    print(K.shape)\n",
    "    kw,kh=K.shape\n",
    "    w,h=X.shape\n",
    "    Y=torch.zeros((w-kw+1,h-kh+1))\n",
    "    for i in range(w-kw+1):\n",
    "        for j in range(h-kh+1):\n",
    "            Y[i][j]=(X[i:i+kw,j:j+kh]*K).sum()\n",
    "    return Y"
   ]
  },
  {
   "cell_type": "code",
   "execution_count": 19,
   "id": "0589a2ac",
   "metadata": {
    "ExecuteTime": {
     "end_time": "2022-05-27T09:06:00.875823Z",
     "start_time": "2022-05-27T09:06:00.849319Z"
    }
   },
   "outputs": [
    {
     "name": "stdout",
     "output_type": "stream",
     "text": [
      "torch.Size([2, 2])\n"
     ]
    },
    {
     "data": {
      "text/plain": [
       "tensor([[19., 25.],\n",
       "        [37., 43.]])"
      ]
     },
     "execution_count": 19,
     "metadata": {},
     "output_type": "execute_result"
    }
   ],
   "source": [
    "X = torch.tensor([[0.0, 1.0, 2.0], [3.0, 4.0, 5.0], [6.0, 7.0, 8.0]])\n",
    "K = torch.tensor([[0.0, 1.0], [2.0, 3.0]])\n",
    "corr2d(X, K)"
   ]
  },
  {
   "cell_type": "code",
   "execution_count": 20,
   "id": "7eea35e7",
   "metadata": {
    "ExecuteTime": {
     "end_time": "2022-05-27T09:06:01.110352Z",
     "start_time": "2022-05-27T09:06:01.102351Z"
    }
   },
   "outputs": [],
   "source": [
    "def corr2d_multi_in(X,K):\n",
    "    return sum(corr2d(x,k) for x, k in zip(X,K))"
   ]
  },
  {
   "cell_type": "code",
   "execution_count": 21,
   "id": "a53c2c65",
   "metadata": {
    "ExecuteTime": {
     "end_time": "2022-05-27T09:06:01.325380Z",
     "start_time": "2022-05-27T09:06:01.319879Z"
    }
   },
   "outputs": [],
   "source": [
    "X = torch.tensor([[[0.0, 1.0, 2.0], [3.0, 4.0, 5.0], [6.0, 7.0, 8.0]],\n",
    "[[1.0, 2.0, 3.0], [4.0, 5.0, 6.0], [7.0, 8.0, 9.0]]])"
   ]
  },
  {
   "cell_type": "code",
   "execution_count": 22,
   "id": "f4ecad21",
   "metadata": {
    "ExecuteTime": {
     "end_time": "2022-05-27T09:06:01.557409Z",
     "start_time": "2022-05-27T09:06:01.550408Z"
    }
   },
   "outputs": [],
   "source": [
    "K = torch.tensor([[[0.0, 1.0], [2.0, 3.0]], [[1.0, 2.0], [3.0, 4.0]]])"
   ]
  },
  {
   "cell_type": "code",
   "execution_count": 23,
   "id": "9ed8ae77",
   "metadata": {
    "ExecuteTime": {
     "end_time": "2022-05-27T09:06:01.766936Z",
     "start_time": "2022-05-27T09:06:01.760435Z"
    }
   },
   "outputs": [
    {
     "data": {
      "text/plain": [
       "torch.Size([2, 3, 3])"
      ]
     },
     "execution_count": 23,
     "metadata": {},
     "output_type": "execute_result"
    }
   ],
   "source": [
    "X.shape"
   ]
  },
  {
   "cell_type": "code",
   "execution_count": 24,
   "id": "ad41d017",
   "metadata": {
    "ExecuteTime": {
     "end_time": "2022-05-27T09:06:01.978463Z",
     "start_time": "2022-05-27T09:06:01.973962Z"
    }
   },
   "outputs": [
    {
     "data": {
      "text/plain": [
       "torch.Size([2, 2, 2])"
      ]
     },
     "execution_count": 24,
     "metadata": {},
     "output_type": "execute_result"
    }
   ],
   "source": [
    "K.shape"
   ]
  },
  {
   "cell_type": "code",
   "execution_count": 25,
   "id": "b61f4b68",
   "metadata": {
    "ExecuteTime": {
     "end_time": "2022-05-27T09:06:02.181988Z",
     "start_time": "2022-05-27T09:06:02.174487Z"
    }
   },
   "outputs": [
    {
     "name": "stdout",
     "output_type": "stream",
     "text": [
      "torch.Size([2, 2])\n",
      "torch.Size([2, 2])\n"
     ]
    },
    {
     "data": {
      "text/plain": [
       "tensor([[ 56.,  72.],\n",
       "        [104., 120.]])"
      ]
     },
     "execution_count": 25,
     "metadata": {},
     "output_type": "execute_result"
    }
   ],
   "source": [
    "corr2d_multi_in(X,K)"
   ]
  },
  {
   "cell_type": "code",
   "execution_count": 26,
   "id": "b178eea4",
   "metadata": {
    "ExecuteTime": {
     "end_time": "2022-05-27T09:06:02.405517Z",
     "start_time": "2022-05-27T09:06:02.396516Z"
    }
   },
   "outputs": [],
   "source": [
    "def corr2d_multi_in_out(X,K):\n",
    "    return torch.stack([corr2d_multi_in(X,k) for k in K],0)"
   ]
  },
  {
   "cell_type": "code",
   "execution_count": 27,
   "id": "1cd383bc",
   "metadata": {
    "ExecuteTime": {
     "end_time": "2022-05-27T09:06:02.613543Z",
     "start_time": "2022-05-27T09:06:02.602042Z"
    }
   },
   "outputs": [
    {
     "data": {
      "text/plain": [
       "tensor([[[[0., 1.],\n",
       "          [2., 3.]],\n",
       "\n",
       "         [[1., 2.],\n",
       "          [3., 4.]]],\n",
       "\n",
       "\n",
       "        [[[1., 2.],\n",
       "          [3., 4.]],\n",
       "\n",
       "         [[2., 3.],\n",
       "          [4., 5.]]],\n",
       "\n",
       "\n",
       "        [[[2., 3.],\n",
       "          [4., 5.]],\n",
       "\n",
       "         [[3., 4.],\n",
       "          [5., 6.]]]])"
      ]
     },
     "execution_count": 27,
     "metadata": {},
     "output_type": "execute_result"
    }
   ],
   "source": [
    "K=torch.stack((K,K+1,K+2),0)\n",
    "K"
   ]
  },
  {
   "cell_type": "code",
   "execution_count": 28,
   "id": "75828f91",
   "metadata": {
    "ExecuteTime": {
     "end_time": "2022-05-27T09:06:02.836572Z",
     "start_time": "2022-05-27T09:06:02.827070Z"
    }
   },
   "outputs": [
    {
     "data": {
      "text/plain": [
       "torch.Size([3, 2, 2, 2])"
      ]
     },
     "execution_count": 28,
     "metadata": {},
     "output_type": "execute_result"
    }
   ],
   "source": [
    "K.shape"
   ]
  },
  {
   "cell_type": "code",
   "execution_count": 29,
   "id": "3dd392fd",
   "metadata": {
    "ExecuteTime": {
     "end_time": "2022-05-27T09:06:04.895333Z",
     "start_time": "2022-05-27T09:06:04.872330Z"
    }
   },
   "outputs": [
    {
     "name": "stdout",
     "output_type": "stream",
     "text": [
      "torch.Size([2, 2])\n",
      "torch.Size([2, 2])\n",
      "torch.Size([2, 2])\n",
      "torch.Size([2, 2])\n",
      "torch.Size([2, 2])\n",
      "torch.Size([2, 2])\n"
     ]
    },
    {
     "data": {
      "text/plain": [
       "tensor([[[ 56.,  72.],\n",
       "         [104., 120.]],\n",
       "\n",
       "        [[ 76., 100.],\n",
       "         [148., 172.]],\n",
       "\n",
       "        [[ 96., 128.],\n",
       "         [192., 224.]]])"
      ]
     },
     "execution_count": 29,
     "metadata": {},
     "output_type": "execute_result"
    }
   ],
   "source": [
    "corr2d_multi_in_out(X,K)"
   ]
  },
  {
   "cell_type": "code",
   "execution_count": 31,
   "id": "ccc0d922",
   "metadata": {
    "ExecuteTime": {
     "end_time": "2022-05-27T09:44:41.260974Z",
     "start_time": "2022-05-27T09:44:41.248472Z"
    }
   },
   "outputs": [],
   "source": [
    "def corr2d_multi_in_out_1x1(X,K):\n",
    "    ci,h,w=X.shape\n",
    "    co=K.shape[0]\n",
    "    X=X.reshape((ci,h*w))\n",
    "    K=K.reshape((co,ci))\n",
    "    Y=torch.matmul(K,X)\n",
    "    return Y.reshape((co,h,w))\n",
    "    "
   ]
  },
  {
   "cell_type": "code",
   "execution_count": 32,
   "id": "5748fe10",
   "metadata": {
    "ExecuteTime": {
     "end_time": "2022-05-27T09:44:56.450903Z",
     "start_time": "2022-05-27T09:44:56.369893Z"
    }
   },
   "outputs": [],
   "source": [
    "X = torch.normal(0, 1, (3, 3, 3))\n",
    "K = torch.normal(0, 1, (2, 3, 1, 1))"
   ]
  },
  {
   "cell_type": "code",
   "execution_count": 33,
   "id": "1c203911",
   "metadata": {
    "ExecuteTime": {
     "end_time": "2022-05-27T09:45:11.517316Z",
     "start_time": "2022-05-27T09:45:11.351795Z"
    }
   },
   "outputs": [
    {
     "name": "stdout",
     "output_type": "stream",
     "text": [
      "torch.Size([1, 1])\n",
      "torch.Size([1, 1])\n",
      "torch.Size([1, 1])\n",
      "torch.Size([1, 1])\n",
      "torch.Size([1, 1])\n",
      "torch.Size([1, 1])\n"
     ]
    }
   ],
   "source": [
    "Y1 = corr2d_multi_in_out_1x1(X, K)\n",
    "Y2 = corr2d_multi_in_out(X, K)\n",
    "assert float(torch.abs(Y1 - Y2).sum()) < 1e-6"
   ]
  },
  {
   "cell_type": "code",
   "execution_count": null,
   "id": "174cb2c3",
   "metadata": {},
   "outputs": [],
   "source": []
  }
 ],
 "metadata": {
  "kernelspec": {
   "display_name": "Python 3",
   "language": "python",
   "name": "python3"
  },
  "language_info": {
   "codemirror_mode": {
    "name": "ipython",
    "version": 3
   },
   "file_extension": ".py",
   "mimetype": "text/x-python",
   "name": "python",
   "nbconvert_exporter": "python",
   "pygments_lexer": "ipython3",
   "version": "3.8.8"
  }
 },
 "nbformat": 4,
 "nbformat_minor": 5
}
