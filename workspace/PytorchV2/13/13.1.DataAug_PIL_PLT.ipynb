{
 "cells": [
  {
   "cell_type": "code",
   "execution_count": 1,
   "id": "3f11df4e",
   "metadata": {
    "ExecuteTime": {
     "end_time": "2022-06-21T01:14:52.923356Z",
     "start_time": "2022-06-21T01:14:51.606689Z"
    }
   },
   "outputs": [
    {
     "name": "stdout",
     "output_type": "stream",
     "text": [
      "Using matplotlib backend: Qt5Agg\n"
     ]
    }
   ],
   "source": [
    "import numpy as np\n",
    "import matplotlib.pyplot as plt\n",
    "from PIL import Image\n",
    "import torch\n",
    "from torch import nn,optim\n",
    "import torchvision\n",
    "%matplotlib auto"
   ]
  },
  {
   "cell_type": "code",
   "execution_count": 2,
   "id": "5e72415f",
   "metadata": {
    "ExecuteTime": {
     "end_time": "2022-06-21T01:14:54.560064Z",
     "start_time": "2022-06-21T01:14:52.925357Z"
    }
   },
   "outputs": [],
   "source": [
    "img=Image.open(r'F:\\study\\ml\\LM\\image\\13\\cat1.jpg')\n",
    "plt.imshow(np.array(img))\n",
    "plt.show()"
   ]
  },
  {
   "cell_type": "code",
   "execution_count": 3,
   "id": "1715fe5e",
   "metadata": {
    "ExecuteTime": {
     "end_time": "2022-06-21T01:15:05.691978Z",
     "start_time": "2022-06-21T01:15:05.676976Z"
    }
   },
   "outputs": [
    {
     "data": {
      "text/plain": [
       "PIL.JpegImagePlugin.JpegImageFile"
      ]
     },
     "execution_count": 3,
     "metadata": {},
     "output_type": "execute_result"
    }
   ],
   "source": [
    "type(img)"
   ]
  },
  {
   "cell_type": "markdown",
   "id": "3ad9f3b9",
   "metadata": {},
   "source": [
    "#### 翻转"
   ]
  },
  {
   "cell_type": "code",
   "execution_count": 3,
   "id": "f37908c0",
   "metadata": {
    "ExecuteTime": {
     "end_time": "2022-06-20T07:25:56.282461Z",
     "start_time": "2022-06-20T07:25:56.270959Z"
    }
   },
   "outputs": [],
   "source": [
    "def show_images(imgs,num_rows,num_cols,scale):\n",
    "    plt.subplots(num_rows,num_cols,figsize=(num_cols*scale,num_rows*scale))\n",
    "    for i in range(num_rows*num_cols):\n",
    "        plt.subplot(num_rows,num_cols,i+1)\n",
    "        plt.imshow(np.array(imgs[i]))\n",
    "    plt.show()"
   ]
  },
  {
   "cell_type": "code",
   "execution_count": 4,
   "id": "6c03831a",
   "metadata": {
    "ExecuteTime": {
     "end_time": "2022-06-20T07:25:57.331094Z",
     "start_time": "2022-06-20T07:25:57.021555Z"
    }
   },
   "outputs": [],
   "source": [
    "show_images([img for i in range(8)],2,4,2.5)"
   ]
  },
  {
   "cell_type": "code",
   "execution_count": 5,
   "id": "a950a635",
   "metadata": {
    "ExecuteTime": {
     "end_time": "2022-06-20T07:25:59.975430Z",
     "start_time": "2022-06-20T07:25:59.966428Z"
    }
   },
   "outputs": [],
   "source": [
    "def apply(img,aug,num_rows=2,num_cols=4,scale=1.5):\n",
    "    Y=[aug(img) for _ in range(num_rows* num_cols)]\n",
    "    show_images(Y,num_rows,num_cols,scale)"
   ]
  },
  {
   "cell_type": "code",
   "execution_count": 6,
   "id": "da7b9cd2",
   "metadata": {
    "ExecuteTime": {
     "end_time": "2022-06-20T07:26:00.901547Z",
     "start_time": "2022-06-20T07:26:00.540001Z"
    }
   },
   "outputs": [],
   "source": [
    "apply(img,torchvision.transforms.RandomHorizontalFlip())"
   ]
  },
  {
   "cell_type": "code",
   "execution_count": 7,
   "id": "3dfd3635",
   "metadata": {
    "ExecuteTime": {
     "end_time": "2022-06-20T07:26:03.442370Z",
     "start_time": "2022-06-20T07:26:03.154833Z"
    }
   },
   "outputs": [],
   "source": [
    "apply(img,torchvision.transforms.RandomVerticalFlip())"
   ]
  },
  {
   "cell_type": "markdown",
   "id": "f1159b8a",
   "metadata": {},
   "source": [
    "#### 裁剪"
   ]
  },
  {
   "cell_type": "code",
   "execution_count": 8,
   "id": "7c0e5af5",
   "metadata": {
    "ExecuteTime": {
     "end_time": "2022-06-20T07:26:07.235852Z",
     "start_time": "2022-06-20T07:26:07.230851Z"
    }
   },
   "outputs": [],
   "source": [
    "shape_aug=torchvision.transforms.RandomResizedCrop((200,200),scale=(0.1,1),ratio=(0.5,2))"
   ]
  },
  {
   "cell_type": "code",
   "execution_count": 9,
   "id": "9acd1263",
   "metadata": {
    "ExecuteTime": {
     "end_time": "2022-06-20T07:26:08.495011Z",
     "start_time": "2022-06-20T07:26:07.821926Z"
    }
   },
   "outputs": [],
   "source": [
    "apply(img,shape_aug)"
   ]
  },
  {
   "cell_type": "markdown",
   "id": "dc521c4c",
   "metadata": {},
   "source": [
    "#### 改色"
   ]
  },
  {
   "cell_type": "markdown",
   "id": "68edee92",
   "metadata": {},
   "source": [
    "##### 亮度"
   ]
  },
  {
   "cell_type": "code",
   "execution_count": 10,
   "id": "c43006a0",
   "metadata": {
    "ExecuteTime": {
     "end_time": "2022-06-20T07:26:12.685544Z",
     "start_time": "2022-06-20T07:26:12.212984Z"
    }
   },
   "outputs": [],
   "source": [
    "apply(img,torchvision.transforms.ColorJitter(brightness=0.5,contrast=0,saturation=0,hue=0))"
   ]
  },
  {
   "cell_type": "markdown",
   "id": "a472b622",
   "metadata": {
    "ExecuteTime": {
     "end_time": "2022-06-16T07:58:02.856089Z",
     "start_time": "2022-06-16T07:58:02.852088Z"
    }
   },
   "source": [
    "##### 对比度"
   ]
  },
  {
   "cell_type": "code",
   "execution_count": 11,
   "id": "6cf55621",
   "metadata": {
    "ExecuteTime": {
     "end_time": "2022-06-20T07:26:15.514403Z",
     "start_time": "2022-06-20T07:26:15.214365Z"
    }
   },
   "outputs": [],
   "source": [
    "apply(img,torchvision.transforms.ColorJitter(brightness=0,contrast=0.5,saturation=0,hue=0))"
   ]
  },
  {
   "cell_type": "markdown",
   "id": "33fd34eb",
   "metadata": {
    "ExecuteTime": {
     "end_time": "2022-06-16T08:00:16.528563Z",
     "start_time": "2022-06-16T08:00:16.526063Z"
    }
   },
   "source": [
    "##### 饱和度"
   ]
  },
  {
   "cell_type": "code",
   "execution_count": 12,
   "id": "52d58023",
   "metadata": {
    "ExecuteTime": {
     "end_time": "2022-06-20T07:26:20.090984Z",
     "start_time": "2022-06-20T07:26:19.781945Z"
    }
   },
   "outputs": [],
   "source": [
    "apply(img,torchvision.transforms.ColorJitter(brightness=0,contrast=0,saturation=0.5,hue=0))"
   ]
  },
  {
   "cell_type": "markdown",
   "id": "59ffd587",
   "metadata": {},
   "source": [
    "##### 色调"
   ]
  },
  {
   "cell_type": "code",
   "execution_count": 13,
   "id": "fb6125d1",
   "metadata": {
    "ExecuteTime": {
     "end_time": "2022-06-20T07:26:24.217008Z",
     "start_time": "2022-06-20T07:26:23.694442Z"
    }
   },
   "outputs": [],
   "source": [
    "apply(img,torchvision.transforms.ColorJitter(brightness=0,contrast=0,saturation=0,hue=0.5))"
   ]
  },
  {
   "cell_type": "markdown",
   "id": "f07d28f5",
   "metadata": {},
   "source": [
    "#### 组合调整"
   ]
  },
  {
   "cell_type": "code",
   "execution_count": 14,
   "id": "e2cae679",
   "metadata": {
    "ExecuteTime": {
     "end_time": "2022-06-20T07:26:27.617940Z",
     "start_time": "2022-06-20T07:26:27.149880Z"
    }
   },
   "outputs": [],
   "source": [
    "color_aug=torchvision.transforms.ColorJitter(brightness=0.5,contrast=0.5,saturation=0.5,hue=0.5)\n",
    "apply(img,color_aug)"
   ]
  },
  {
   "cell_type": "code",
   "execution_count": 15,
   "id": "542e46f1",
   "metadata": {
    "ExecuteTime": {
     "end_time": "2022-06-20T07:26:31.145888Z",
     "start_time": "2022-06-20T07:26:30.598318Z"
    }
   },
   "outputs": [],
   "source": [
    "augs=torchvision.transforms.Compose([torchvision.transforms.RandomHorizontalFlip(),color_aug,shape_aug])\n",
    "apply(img,augs)"
   ]
  },
  {
   "cell_type": "code",
   "execution_count": 16,
   "id": "085968af",
   "metadata": {
    "ExecuteTime": {
     "end_time": "2022-06-20T07:26:33.700212Z",
     "start_time": "2022-06-20T07:26:33.693711Z"
    }
   },
   "outputs": [],
   "source": [
    "import ssl\n",
    "ssl._create_default_https_context = ssl._create_unverified_context"
   ]
  },
  {
   "cell_type": "code",
   "execution_count": 17,
   "id": "4a7bedf5",
   "metadata": {
    "ExecuteTime": {
     "end_time": "2022-06-20T07:26:36.628084Z",
     "start_time": "2022-06-20T07:26:34.287787Z"
    }
   },
   "outputs": [
    {
     "name": "stdout",
     "output_type": "stream",
     "text": [
      "Files already downloaded and verified\n"
     ]
    }
   ],
   "source": [
    "all_images=torchvision.datasets.CIFAR10(train=True,root=r'F:\\study\\ml\\DataSet\\CIFAR10',download=True)"
   ]
  },
  {
   "cell_type": "code",
   "execution_count": 18,
   "id": "48ec623a",
   "metadata": {
    "ExecuteTime": {
     "end_time": "2022-06-20T07:26:40.703101Z",
     "start_time": "2022-06-20T07:26:39.677971Z"
    }
   },
   "outputs": [],
   "source": [
    "show_images([all_images[i][0] for i in range(32)],4,8 ,scale=0.8)"
   ]
  },
  {
   "cell_type": "code",
   "execution_count": 52,
   "id": "4edaaff4",
   "metadata": {
    "ExecuteTime": {
     "end_time": "2022-06-16T09:24:43.268457Z",
     "start_time": "2022-06-16T09:24:43.259956Z"
    }
   },
   "outputs": [],
   "source": [
    "train_augs=torchvision.transforms.Compose([\n",
    "    torchvision.transforms.RandomHorizontalFlip(),\n",
    "    torchvision.transforms.ToTensor()\n",
    "])"
   ]
  },
  {
   "cell_type": "code",
   "execution_count": 54,
   "id": "b72873c9",
   "metadata": {
    "ExecuteTime": {
     "end_time": "2022-06-16T09:24:53.052700Z",
     "start_time": "2022-06-16T09:24:53.046199Z"
    }
   },
   "outputs": [],
   "source": [
    "test_augs=torchvision.transforms.Compose([\n",
    "    torchvision.transforms.ToTensor()\n",
    "])"
   ]
  },
  {
   "cell_type": "code",
   "execution_count": 55,
   "id": "8193c17f",
   "metadata": {
    "ExecuteTime": {
     "end_time": "2022-06-16T09:24:53.628273Z",
     "start_time": "2022-06-16T09:24:53.622772Z"
    }
   },
   "outputs": [],
   "source": [
    "def load_cifar10(is_train,augs,batch_size):\n",
    "    dataset=torchvision.datasets.CIFAR10(root=r'F:\\study\\ml\\DataSet\\CIFAR10',train=is_trai,transform=augs,download=True)\n",
    "    dataloader=torch.utils.data.DataLoader(dataseta,batch_size=batch_size,shuffle=is_train,num_workers=4)\n",
    "    return dataloader"
   ]
  },
  {
   "cell_type": "code",
   "execution_count": null,
   "id": "64c58973",
   "metadata": {},
   "outputs": [],
   "source": []
  },
  {
   "cell_type": "code",
   "execution_count": null,
   "id": "f19d5b14",
   "metadata": {},
   "outputs": [],
   "source": []
  },
  {
   "cell_type": "code",
   "execution_count": null,
   "id": "100244cc",
   "metadata": {},
   "outputs": [],
   "source": []
  },
  {
   "cell_type": "code",
   "execution_count": null,
   "id": "c0884e02",
   "metadata": {},
   "outputs": [],
   "source": []
  }
 ],
 "metadata": {
  "kernelspec": {
   "display_name": "Python 3",
   "language": "python",
   "name": "python3"
  },
  "language_info": {
   "codemirror_mode": {
    "name": "ipython",
    "version": 3
   },
   "file_extension": ".py",
   "mimetype": "text/x-python",
   "name": "python",
   "nbconvert_exporter": "python",
   "pygments_lexer": "ipython3",
   "version": "3.8.8"
  }
 },
 "nbformat": 4,
 "nbformat_minor": 5
}
