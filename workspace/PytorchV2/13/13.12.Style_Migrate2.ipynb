{
 "cells": [
  {
   "cell_type": "code",
   "execution_count": 7,
   "id": "103325d8",
   "metadata": {
    "ExecuteTime": {
     "end_time": "2023-03-08T06:38:11.631646Z",
     "start_time": "2023-03-08T06:38:11.626765Z"
    }
   },
   "outputs": [
    {
     "name": "stdout",
     "output_type": "stream",
     "text": [
      "Using matplotlib backend: Qt5Agg\n"
     ]
    }
   ],
   "source": [
    "import torch\n",
    "import torchvision\n",
    "import matplotlib.pyplot as plt\n",
    "from torch import nn,optim\n",
    "import PIL\n",
    "import numpy as np\n",
    "%matplotlib auto\n"
   ]
  },
  {
   "cell_type": "code",
   "execution_count": 8,
   "id": "be12361b",
   "metadata": {
    "ExecuteTime": {
     "end_time": "2023-03-08T06:38:12.244550Z",
     "start_time": "2023-03-08T06:38:12.241621Z"
    }
   },
   "outputs": [],
   "source": [
    "content_path=r'F:\\study\\ml\\LM\\image\\13\\rainier.jpg'\n",
    "style_path=r'F:\\study\\ml\\LM\\image\\13\\autumn-oak.jpg'"
   ]
  },
  {
   "cell_type": "code",
   "execution_count": 9,
   "id": "dcffcc4d",
   "metadata": {
    "ExecuteTime": {
     "end_time": "2023-03-08T06:38:13.166734Z",
     "start_time": "2023-03-08T06:38:13.161835Z"
    }
   },
   "outputs": [],
   "source": [
    "content_img=PIL.Image.open(content_path)\n",
    "style_img=PIL.Image.open(style_path)"
   ]
  },
  {
   "cell_type": "code",
   "execution_count": 10,
   "id": "6043edaf",
   "metadata": {
    "ExecuteTime": {
     "end_time": "2023-03-08T06:38:14.567704Z",
     "start_time": "2023-03-08T06:38:14.561846Z"
    }
   },
   "outputs": [
    {
     "data": {
      "text/plain": [
       "PIL.JpegImagePlugin.JpegImageFile"
      ]
     },
     "execution_count": 10,
     "metadata": {},
     "output_type": "execute_result"
    }
   ],
   "source": [
    "type(content_img)"
   ]
  },
  {
   "cell_type": "code",
   "execution_count": 11,
   "id": "e4c26a50",
   "metadata": {
    "ExecuteTime": {
     "end_time": "2023-03-08T06:38:15.315747Z",
     "start_time": "2023-03-08T06:38:15.185895Z"
    }
   },
   "outputs": [
    {
     "data": {
      "text/plain": [
       "((1365, 2048, 3), (1200, 1717, 3))"
      ]
     },
     "execution_count": 11,
     "metadata": {},
     "output_type": "execute_result"
    }
   ],
   "source": [
    "np.array(content_img).shape,np.array(style_img).shape"
   ]
  },
  {
   "cell_type": "code",
   "execution_count": 12,
   "id": "a870c0b1",
   "metadata": {
    "ExecuteTime": {
     "end_time": "2023-03-08T06:38:17.017139Z",
     "start_time": "2023-03-08T06:38:16.585577Z"
    }
   },
   "outputs": [],
   "source": [
    "plt.subplots(12)\n",
    "plt.subplot(121)\n",
    "plt.imshow(content_img)\n",
    "plt.subplot(122)\n",
    "plt.imshow(style_img)\n",
    "plt.show()"
   ]
  },
  {
   "cell_type": "code",
   "execution_count": 13,
   "id": "049d3ad1",
   "metadata": {
    "ExecuteTime": {
     "end_time": "2023-03-08T06:38:23.557954Z",
     "start_time": "2023-03-08T06:38:23.554036Z"
    }
   },
   "outputs": [],
   "source": [
    "rgb_mean = torch.tensor([0.485, 0.456, 0.406])\n",
    "rgb_std = torch.tensor([0.229, 0.224, 0.225])"
   ]
  },
  {
   "cell_type": "code",
   "execution_count": 14,
   "id": "da2c8c4d",
   "metadata": {
    "ExecuteTime": {
     "end_time": "2023-03-08T06:38:28.893940Z",
     "start_time": "2023-03-08T06:38:28.890021Z"
    }
   },
   "outputs": [],
   "source": [
    "def preprocess(img,img_shape):\n",
    "    transforms=torchvision.transforms.Compose([\n",
    "        torchvision.transforms.Resize(img_shape),\n",
    "        torchvision.transforms.ToTensor(),\n",
    "        torchvision.transforms.Normalize(mean=rgb_mean,std=rgb_std)\n",
    "    ])\n",
    "    print(\"img  :\" ,img)\n",
    "    print(\"transforms img shape : \",transforms(img).shape)\n",
    "    return transforms(img).unsqueeze(0)"
   ]
  },
  {
   "cell_type": "code",
   "execution_count": 15,
   "id": "09728704",
   "metadata": {
    "ExecuteTime": {
     "end_time": "2023-03-08T06:38:38.114146Z",
     "start_time": "2023-03-08T06:38:37.945110Z"
    }
   },
   "outputs": [
    {
     "name": "stdout",
     "output_type": "stream",
     "text": [
      "img  : <PIL.JpegImagePlugin.JpegImageFile image mode=RGB size=2048x1365 at 0x1BA43C6DF70>\n",
      "transforms img shape :  torch.Size([3, 300, 450])\n"
     ]
    },
    {
     "data": {
      "text/plain": [
       "tensor([[[[ 1.9235,  1.9235,  1.9407,  ...,  0.0741,  0.0741,  0.1083],\n",
       "          [ 1.9235,  1.9235,  1.9407,  ...,  0.1426,  0.1426,  0.1768],\n",
       "          [ 1.9235,  1.9235,  1.9407,  ...,  0.2282,  0.2111,  0.2111],\n",
       "          ...,\n",
       "          [-1.8782, -1.8439, -1.8268,  ..., -1.6384, -0.8164, -0.8335],\n",
       "          [-1.8782, -1.8439, -1.8268,  ..., -1.6384, -1.2445, -1.1247],\n",
       "          [-1.8782, -1.8782, -1.8610,  ..., -1.8439, -1.7069, -1.5528]],\n",
       "\n",
       "         [[ 1.9909,  1.9909,  1.9734,  ...,  1.2206,  1.2206,  1.2556],\n",
       "          [ 1.9909,  1.9909,  1.9734,  ...,  1.2731,  1.2731,  1.3081],\n",
       "          [ 1.9909,  1.9909,  1.9559,  ...,  1.3431,  1.3256,  1.3256],\n",
       "          ...,\n",
       "          [-1.8256, -1.7906, -1.7731,  ..., -1.6506, -1.0203, -1.1253],\n",
       "          [-1.8256, -1.7906, -1.7731,  ..., -1.5630, -1.3704, -1.2654],\n",
       "          [-1.8256, -1.8256, -1.8081,  ..., -1.7731, -1.6856, -1.5630]],\n",
       "\n",
       "         [[ 2.2740,  2.2740,  2.2740,  ...,  1.9603,  1.9603,  1.9951],\n",
       "          [ 2.2740,  2.2740,  2.2740,  ...,  2.0125,  1.9951,  2.0300],\n",
       "          [ 2.2740,  2.2740,  2.2566,  ...,  2.0474,  2.0125,  2.0300],\n",
       "          ...,\n",
       "          [-1.5779, -1.5430, -1.5256,  ..., -1.6650, -1.5953, -1.6999],\n",
       "          [-1.5779, -1.5430, -1.5256,  ..., -1.6824, -1.6999, -1.6999],\n",
       "          [-1.5779, -1.5779, -1.5604,  ..., -1.6999, -1.7347, -1.7347]]]])"
      ]
     },
     "execution_count": 15,
     "metadata": {},
     "output_type": "execute_result"
    }
   ],
   "source": [
    "preprocess(content_img,(300,450))"
   ]
  },
  {
   "cell_type": "code",
   "execution_count": 16,
   "id": "25c18e30",
   "metadata": {
    "ExecuteTime": {
     "end_time": "2023-03-08T06:38:55.909287Z",
     "start_time": "2023-03-08T06:38:55.905381Z"
    }
   },
   "outputs": [],
   "source": [
    "def postprocess(img):\n",
    "    img=img[0].to(rgb_std.device)\n",
    "    img=torch.clamp(img.permute(1,2,0)*rgb_std+rgb_mean,0,1)\n",
    "    return torchvision.transforms.ToPILImage()(img.permute(2,0,1))"
   ]
  },
  {
   "cell_type": "code",
   "execution_count": 17,
   "id": "d741e953",
   "metadata": {
    "ExecuteTime": {
     "end_time": "2023-03-08T06:39:03.729412Z",
     "start_time": "2023-03-08T06:39:01.009725Z"
    }
   },
   "outputs": [],
   "source": [
    "pretrained_net=torchvision.models.vgg19(pretrained=True)"
   ]
  },
  {
   "cell_type": "code",
   "execution_count": 18,
   "id": "94539eb9",
   "metadata": {
    "ExecuteTime": {
     "end_time": "2023-03-08T06:39:04.525129Z",
     "start_time": "2023-03-08T06:39:04.521224Z"
    }
   },
   "outputs": [],
   "source": [
    "style_layers,content_layers=[0,5,10,19,28],[25]"
   ]
  },
  {
   "cell_type": "code",
   "execution_count": 19,
   "id": "80c170e8",
   "metadata": {
    "ExecuteTime": {
     "end_time": "2023-03-08T06:39:05.069107Z",
     "start_time": "2023-03-08T06:39:05.065186Z"
    }
   },
   "outputs": [],
   "source": [
    "net=nn.Sequential(*[pretrained_net.features[i] for i in \n",
    "                   range(max(content_layers+style_layers)+1)])"
   ]
  },
  {
   "cell_type": "code",
   "execution_count": 38,
   "id": "10b8f0bb",
   "metadata": {
    "ExecuteTime": {
     "end_time": "2023-03-08T07:28:44.658329Z",
     "start_time": "2023-03-08T07:28:44.652471Z"
    }
   },
   "outputs": [
    {
     "data": {
      "text/plain": [
       "Sequential(\n",
       "  (0): Conv2d(3, 64, kernel_size=(3, 3), stride=(1, 1), padding=(1, 1))\n",
       "  (1): ReLU(inplace=True)\n",
       "  (2): Conv2d(64, 64, kernel_size=(3, 3), stride=(1, 1), padding=(1, 1))\n",
       "  (3): ReLU(inplace=True)\n",
       "  (4): MaxPool2d(kernel_size=2, stride=2, padding=0, dilation=1, ceil_mode=False)\n",
       "  (5): Conv2d(64, 128, kernel_size=(3, 3), stride=(1, 1), padding=(1, 1))\n",
       "  (6): ReLU(inplace=True)\n",
       "  (7): Conv2d(128, 128, kernel_size=(3, 3), stride=(1, 1), padding=(1, 1))\n",
       "  (8): ReLU(inplace=True)\n",
       "  (9): MaxPool2d(kernel_size=2, stride=2, padding=0, dilation=1, ceil_mode=False)\n",
       "  (10): Conv2d(128, 256, kernel_size=(3, 3), stride=(1, 1), padding=(1, 1))\n",
       "  (11): ReLU(inplace=True)\n",
       "  (12): Conv2d(256, 256, kernel_size=(3, 3), stride=(1, 1), padding=(1, 1))\n",
       "  (13): ReLU(inplace=True)\n",
       "  (14): Conv2d(256, 256, kernel_size=(3, 3), stride=(1, 1), padding=(1, 1))\n",
       "  (15): ReLU(inplace=True)\n",
       "  (16): Conv2d(256, 256, kernel_size=(3, 3), stride=(1, 1), padding=(1, 1))\n",
       "  (17): ReLU(inplace=True)\n",
       "  (18): MaxPool2d(kernel_size=2, stride=2, padding=0, dilation=1, ceil_mode=False)\n",
       "  (19): Conv2d(256, 512, kernel_size=(3, 3), stride=(1, 1), padding=(1, 1))\n",
       "  (20): ReLU(inplace=True)\n",
       "  (21): Conv2d(512, 512, kernel_size=(3, 3), stride=(1, 1), padding=(1, 1))\n",
       "  (22): ReLU(inplace=True)\n",
       "  (23): Conv2d(512, 512, kernel_size=(3, 3), stride=(1, 1), padding=(1, 1))\n",
       "  (24): ReLU(inplace=True)\n",
       "  (25): Conv2d(512, 512, kernel_size=(3, 3), stride=(1, 1), padding=(1, 1))\n",
       "  (26): ReLU(inplace=True)\n",
       "  (27): MaxPool2d(kernel_size=2, stride=2, padding=0, dilation=1, ceil_mode=False)\n",
       "  (28): Conv2d(512, 512, kernel_size=(3, 3), stride=(1, 1), padding=(1, 1))\n",
       ")"
      ]
     },
     "execution_count": 38,
     "metadata": {},
     "output_type": "execute_result"
    }
   ],
   "source": [
    "net"
   ]
  },
  {
   "cell_type": "code",
   "execution_count": null,
   "id": "750fa47d",
   "metadata": {},
   "outputs": [],
   "source": []
  },
  {
   "cell_type": "code",
   "execution_count": 20,
   "id": "b4de9d34",
   "metadata": {
    "ExecuteTime": {
     "end_time": "2023-03-08T06:39:05.887166Z",
     "start_time": "2023-03-08T06:39:05.882298Z"
    }
   },
   "outputs": [],
   "source": [
    "def extract_features(X,content_layers,style_layers):\n",
    "    contents=[]\n",
    "    styles=[]\n",
    "    for i in range(len(net)):\n",
    "        X=net[i](X)\n",
    "        if i in style_layers:\n",
    "            styles.append(X)\n",
    "        if i in content_layers:\n",
    "            contents.append(X)\n",
    "    return contents,styles"
   ]
  },
  {
   "cell_type": "code",
   "execution_count": 21,
   "id": "b239169a",
   "metadata": {
    "ExecuteTime": {
     "end_time": "2023-03-08T06:39:06.597031Z",
     "start_time": "2023-03-08T06:39:06.593126Z"
    }
   },
   "outputs": [],
   "source": [
    "def get_contents(img_shape,device):\n",
    "    content_X=preprocess(content_img,img_shape).to(device)\n",
    "    contents_Y,_=extract_features(content_X,content_layers,style_layers)\n",
    "    return content_X,contents_Y"
   ]
  },
  {
   "cell_type": "code",
   "execution_count": 22,
   "id": "73a9141c",
   "metadata": {
    "ExecuteTime": {
     "end_time": "2023-03-08T06:39:11.900801Z",
     "start_time": "2023-03-08T06:39:11.896882Z"
    }
   },
   "outputs": [],
   "source": [
    "def get_styles(img_shape,device):\n",
    "    style_X=preprocess(style_img,img_shape).to(device)\n",
    "    _,styles_Y=extract_features(style_X,content_layers,style_layers)\n",
    "    return style_X,styles_Y"
   ]
  },
  {
   "cell_type": "code",
   "execution_count": 23,
   "id": "2818b618",
   "metadata": {
    "ExecuteTime": {
     "end_time": "2023-03-08T06:39:13.277262Z",
     "start_time": "2023-03-08T06:39:13.273357Z"
    }
   },
   "outputs": [],
   "source": [
    "def content_loss(Y_hat,Y):\n",
    "    return torch.square(Y_hat-Y.detach()).mean()"
   ]
  },
  {
   "cell_type": "code",
   "execution_count": 24,
   "id": "db561bf4",
   "metadata": {
    "ExecuteTime": {
     "end_time": "2023-03-08T06:39:33.989608Z",
     "start_time": "2023-03-08T06:39:33.985716Z"
    }
   },
   "outputs": [],
   "source": [
    "def gram(X):\n",
    "    num_channels,n=X.shape[1],X.numel()//x.shape[1]\n",
    "    X=X.reshape((num_channels,n))\n",
    "    return torch.matmul(X,X.T)/(num_channels*n)"
   ]
  },
  {
   "cell_type": "code",
   "execution_count": 25,
   "id": "e5378b5b",
   "metadata": {
    "ExecuteTime": {
     "end_time": "2023-03-08T06:39:47.564996Z",
     "start_time": "2023-03-08T06:39:47.562072Z"
    }
   },
   "outputs": [],
   "source": [
    "def style_loss(Y_hat,gram_Y):\n",
    "    return torch.square(gram(Y_hat)-gram_Y.detach()).mean()"
   ]
  },
  {
   "cell_type": "code",
   "execution_count": 26,
   "id": "ec44dc00",
   "metadata": {
    "ExecuteTime": {
     "end_time": "2023-03-08T06:39:53.390994Z",
     "start_time": "2023-03-08T06:39:53.386098Z"
    }
   },
   "outputs": [],
   "source": [
    "def tv_loss(Y_hat):\n",
    "    return 0.5*(torch.abs(Y_hat[:,:,1:,:]-Y_hat[:,:,:-1,:]).mean()+\n",
    "              torch.absbs(Y_hat[:,:,:,1:]-Y_hat[:,:,:,:-1]).mean())"
   ]
  },
  {
   "cell_type": "code",
   "execution_count": 27,
   "id": "ed2875cd",
   "metadata": {
    "ExecuteTime": {
     "end_time": "2023-03-08T06:40:01.567156Z",
     "start_time": "2023-03-08T06:40:01.563250Z"
    }
   },
   "outputs": [],
   "source": [
    "content_weight,style_weight,tv_weight=1,1e3,10"
   ]
  },
  {
   "cell_type": "code",
   "execution_count": 28,
   "id": "a451dc5b",
   "metadata": {
    "ExecuteTime": {
     "end_time": "2023-03-08T06:46:29.127239Z",
     "start_time": "2023-03-08T06:46:29.122343Z"
    }
   },
   "outputs": [],
   "source": [
    "def computer_loss(X,contents_Y_hat,styles_Y_hat,contents_Y,styles_Y_gram):\n",
    "    contents_l=[content_loss(Y_hat,Y) *content_weight for Y_hat,Y in \n",
    "               zip(contents_Y_hat,contents_Y)]\n",
    "    styles_l=[style_loss(Y_hat,Y) * style_weight for Y_hat,Y in \n",
    "             zip(styles_Y_hat,styles_Y_gram)]\n",
    "    tv_l=tv_loss(X)*tv_weight\n",
    "    l=sum(10*styles_l+contents_l+[tv_l])\n",
    "    return contents_l,styles_l,tv_l,l"
   ]
  },
  {
   "cell_type": "code",
   "execution_count": 30,
   "id": "136e45e3",
   "metadata": {
    "ExecuteTime": {
     "end_time": "2023-03-08T07:01:12.630981Z",
     "start_time": "2023-03-08T07:01:12.627090Z"
    }
   },
   "outputs": [],
   "source": [
    "class SynthesizedImage(nn.Module):\n",
    "    def __init__(self,img_shape,**kwargs):\n",
    "        super().__init__(**kwargs)\n",
    "        self.weight=nn.Parameter(torch.rand(*img_shape))\n",
    "    \n",
    "    def forward(self):\n",
    "        return self.weight"
   ]
  },
  {
   "cell_type": "code",
   "execution_count": 31,
   "id": "76cc9cca",
   "metadata": {
    "ExecuteTime": {
     "end_time": "2023-03-08T07:03:56.554990Z",
     "start_time": "2023-03-08T07:03:56.550108Z"
    }
   },
   "outputs": [],
   "source": [
    "def get_inits(X,device,lr,styles_Y):\n",
    "    gen_img=SynthesizedImage(X.shape).to(device)\n",
    "    gen_img.weight.data.copy_(X.data)\n",
    "    trainer=torch.optim.Adam(gen_img.parameters(),lr=lr)\n",
    "    styles_Y_gram=[gram(Y) for Y in styles_Y]\n",
    "    return gen_img(),styles_Y_gram,trainer"
   ]
  },
  {
   "cell_type": "code",
   "execution_count": 36,
   "id": "1c4ee777",
   "metadata": {
    "ExecuteTime": {
     "end_time": "2023-03-08T07:28:00.038884Z",
     "start_time": "2023-03-08T07:27:59.026160Z"
    }
   },
   "outputs": [
    {
     "name": "stdout",
     "output_type": "stream",
     "text": [
      "img  : <PIL.JpegImagePlugin.JpegImageFile image mode=RGB size=2048x1365 at 0x1BA43C6DF70>\n",
      "transforms img shape :  torch.Size([3, 300, 450])\n",
      "img  : <PIL.JpegImagePlugin.JpegImageFile image mode=RGB size=1717x1200 at 0x1BA3FA1C5B0>\n",
      "transforms img shape :  torch.Size([3, 300, 450])\n"
     ]
    }
   ],
   "source": [
    "device,image_shape='cpu',(300,450)\n",
    "content_X,contents_Y=get_contents(image_shape,device)\n",
    "_,styles_Y=get_styles(image_shape,device)"
   ]
  },
  {
   "cell_type": "code",
   "execution_count": 37,
   "id": "92e93ec9",
   "metadata": {
    "ExecuteTime": {
     "end_time": "2023-03-08T07:28:01.225092Z",
     "start_time": "2023-03-08T07:28:01.220224Z"
    }
   },
   "outputs": [
    {
     "data": {
      "text/plain": [
       "(5, torch.Size([1, 64, 300, 450]))"
      ]
     },
     "execution_count": 37,
     "metadata": {},
     "output_type": "execute_result"
    }
   ],
   "source": [
    "len(styles_Y),styles_Y[0].shape"
   ]
  },
  {
   "cell_type": "code",
   "execution_count": null,
   "id": "45e69185",
   "metadata": {},
   "outputs": [],
   "source": []
  },
  {
   "cell_type": "code",
   "execution_count": null,
   "id": "bede2c83",
   "metadata": {},
   "outputs": [],
   "source": []
  },
  {
   "cell_type": "code",
   "execution_count": null,
   "id": "376be486",
   "metadata": {},
   "outputs": [],
   "source": []
  },
  {
   "cell_type": "code",
   "execution_count": null,
   "id": "2e22d80f",
   "metadata": {},
   "outputs": [],
   "source": []
  },
  {
   "cell_type": "code",
   "execution_count": null,
   "id": "2f37a2b3",
   "metadata": {},
   "outputs": [],
   "source": []
  },
  {
   "cell_type": "code",
   "execution_count": null,
   "id": "203d06c3",
   "metadata": {},
   "outputs": [],
   "source": []
  },
  {
   "cell_type": "code",
   "execution_count": null,
   "id": "c4931463",
   "metadata": {},
   "outputs": [],
   "source": []
  },
  {
   "cell_type": "code",
   "execution_count": null,
   "id": "c7335f03",
   "metadata": {},
   "outputs": [],
   "source": []
  }
 ],
 "metadata": {
  "kernelspec": {
   "display_name": "Python 3",
   "language": "python",
   "name": "python3"
  },
  "language_info": {
   "codemirror_mode": {
    "name": "ipython",
    "version": 3
   },
   "file_extension": ".py",
   "mimetype": "text/x-python",
   "name": "python",
   "nbconvert_exporter": "python",
   "pygments_lexer": "ipython3",
   "version": "3.8.8"
  }
 },
 "nbformat": 4,
 "nbformat_minor": 5
}
