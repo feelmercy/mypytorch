{
 "cells": [
  {
   "cell_type": "code",
   "execution_count": 1,
   "id": "ba33a250",
   "metadata": {
    "ExecuteTime": {
     "end_time": "2022-09-20T07:46:18.157255Z",
     "start_time": "2022-09-20T07:45:57.491008Z"
    }
   },
   "outputs": [
    {
     "name": "stdout",
     "output_type": "stream",
     "text": [
      "Using matplotlib backend: Qt5Agg\n"
     ]
    }
   ],
   "source": [
    "import torch\n",
    "import torchvision\n",
    "import matplotlib.pyplot as plt\n",
    "from torch import optim,nn\n",
    "from torch.nn import functional as F\n",
    "%matplotlib auto"
   ]
  },
  {
   "cell_type": "code",
   "execution_count": 2,
   "id": "bf5fa201",
   "metadata": {
    "ExecuteTime": {
     "end_time": "2022-09-20T07:46:55.656079Z",
     "start_time": "2022-09-20T07:46:55.650096Z"
    }
   },
   "outputs": [],
   "source": [
    "def cls_predictor(num_inputs,num_anchors,num_classes):\n",
    "    return nn.Conv2d(num_inputs,num_anchors*(num_classes+1),kernel_size=3,padding=1)"
   ]
  },
  {
   "cell_type": "code",
   "execution_count": 3,
   "id": "a36ce796",
   "metadata": {
    "ExecuteTime": {
     "end_time": "2022-09-20T09:16:35.045722Z",
     "start_time": "2022-09-20T09:16:35.037714Z"
    }
   },
   "outputs": [],
   "source": [
    "def bbox_predictor(num_inputs,num_anchors):\n",
    "    return nn.Conv2d(num_inputs,num_anchors*4,kernel_size=3,padding=1)"
   ]
  },
  {
   "cell_type": "code",
   "execution_count": 4,
   "id": "21eeab5a",
   "metadata": {
    "ExecuteTime": {
     "end_time": "2022-09-20T09:16:47.935293Z",
     "start_time": "2022-09-20T09:16:47.918290Z"
    }
   },
   "outputs": [],
   "source": [
    "def forward(x,block):\n",
    "    return block(x)"
   ]
  },
  {
   "cell_type": "code",
   "execution_count": 9,
   "id": "711b37c4",
   "metadata": {
    "ExecuteTime": {
     "end_time": "2022-09-20T09:22:41.348472Z",
     "start_time": "2022-09-20T09:22:41.337479Z"
    }
   },
   "outputs": [],
   "source": [
    "Y1=forward(torch.zeros((2,8,20,20)),cls_predictor(8,5,10))\n",
    "Y2=forward(torch.zeros((2,16,10,10)),cls_predictor(16,3,10))"
   ]
  },
  {
   "cell_type": "code",
   "execution_count": 10,
   "id": "046b2bf9",
   "metadata": {
    "ExecuteTime": {
     "end_time": "2022-09-20T09:22:43.866274Z",
     "start_time": "2022-09-20T09:22:43.857223Z"
    }
   },
   "outputs": [
    {
     "data": {
      "text/plain": [
       "(torch.Size([2, 55, 20, 20]), torch.Size([2, 33, 10, 10]))"
      ]
     },
     "execution_count": 10,
     "metadata": {},
     "output_type": "execute_result"
    }
   ],
   "source": [
    "Y1.shape,Y2.shape"
   ]
  },
  {
   "cell_type": "code",
   "execution_count": null,
   "id": "02d8b588",
   "metadata": {},
   "outputs": [],
   "source": []
  }
 ],
 "metadata": {
  "kernelspec": {
   "display_name": "Python 3",
   "language": "python",
   "name": "python3"
  },
  "language_info": {
   "codemirror_mode": {
    "name": "ipython",
    "version": 3
   },
   "file_extension": ".py",
   "mimetype": "text/x-python",
   "name": "python",
   "nbconvert_exporter": "python",
   "pygments_lexer": "ipython3",
   "version": "3.8.8"
  }
 },
 "nbformat": 4,
 "nbformat_minor": 5
}
