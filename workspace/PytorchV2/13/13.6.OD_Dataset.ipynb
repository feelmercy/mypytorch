{
 "cells": [
  {
   "cell_type": "code",
   "execution_count": 1,
   "id": "d34e3a58",
   "metadata": {
    "ExecuteTime": {
     "end_time": "2022-08-02T01:46:23.421461Z",
     "start_time": "2022-08-02T01:46:10.669857Z"
    }
   },
   "outputs": [
    {
     "name": "stdout",
     "output_type": "stream",
     "text": [
      "Using matplotlib backend: Qt5Agg\n"
     ]
    }
   ],
   "source": [
    "import os\n",
    "import pandas as pd\n",
    "import torch\n",
    "import torchvision\n",
    "import matplotlib.pyplot as plt\n",
    "%matplotlib auto"
   ]
  },
  {
   "cell_type": "code",
   "execution_count": 25,
   "id": "853af719",
   "metadata": {
    "ExecuteTime": {
     "end_time": "2022-08-02T05:50:55.291520Z",
     "start_time": "2022-08-02T05:50:55.281511Z"
    }
   },
   "outputs": [],
   "source": [
    "def read_data_bananas(is_train=True):\n",
    "    data_dir=r'F:\\study\\ml\\banana-detection'\n",
    "    csv_fname=os.path.join(data_dir,'bananas_train' if is_train else 'bananas_val','label.csv')\n",
    "    csv_data=pd.read_csv(csv_fname)\n",
    "    csv_data=csv_data.set_index('img_name')\n",
    "    images,targets=[],[]\n",
    "    for img_name,target in csv_data.iterrows():\n",
    "        images.append(torchvision.io.read_image(os.path.join(data_dir,'bananas_train' if is_train else 'bananas_val','images',f'{img_name}')))\n",
    "        targets.append(list(target))\n",
    "    return images,torch.tensor(targets).unsqueeze(1)/256"
   ]
  },
  {
   "cell_type": "code",
   "execution_count": 20,
   "id": "0f80cb48",
   "metadata": {
    "ExecuteTime": {
     "end_time": "2022-08-02T05:45:34.050667Z",
     "start_time": "2022-08-02T05:45:34.032674Z"
    }
   },
   "outputs": [],
   "source": [
    "is_train=True\n",
    "data_dir=r'F:\\study\\ml\\banana-detection'\n",
    "csv_fname=os.path.join(data_dir,'bananas_train' if is_train else 'bananas_val','label.csv')\n",
    "csv_data=pd.read_csv(csv_fname)\n",
    "csv_data=csv_data.set_index('img_name')"
   ]
  },
  {
   "cell_type": "code",
   "execution_count": 23,
   "id": "fdd8c42e",
   "metadata": {
    "ExecuteTime": {
     "end_time": "2022-08-02T05:49:32.383550Z",
     "start_time": "2022-08-02T05:49:32.369559Z"
    }
   },
   "outputs": [
    {
     "data": {
      "text/html": [
       "<div>\n",
       "<style scoped>\n",
       "    .dataframe tbody tr th:only-of-type {\n",
       "        vertical-align: middle;\n",
       "    }\n",
       "\n",
       "    .dataframe tbody tr th {\n",
       "        vertical-align: top;\n",
       "    }\n",
       "\n",
       "    .dataframe thead th {\n",
       "        text-align: right;\n",
       "    }\n",
       "</style>\n",
       "<table border=\"1\" class=\"dataframe\">\n",
       "  <thead>\n",
       "    <tr style=\"text-align: right;\">\n",
       "      <th></th>\n",
       "      <th>label</th>\n",
       "      <th>xmin</th>\n",
       "      <th>ymin</th>\n",
       "      <th>xmax</th>\n",
       "      <th>ymax</th>\n",
       "    </tr>\n",
       "    <tr>\n",
       "      <th>img_name</th>\n",
       "      <th></th>\n",
       "      <th></th>\n",
       "      <th></th>\n",
       "      <th></th>\n",
       "      <th></th>\n",
       "    </tr>\n",
       "  </thead>\n",
       "  <tbody>\n",
       "    <tr>\n",
       "      <th>0.png</th>\n",
       "      <td>0</td>\n",
       "      <td>104</td>\n",
       "      <td>20</td>\n",
       "      <td>143</td>\n",
       "      <td>58</td>\n",
       "    </tr>\n",
       "    <tr>\n",
       "      <th>1.png</th>\n",
       "      <td>0</td>\n",
       "      <td>68</td>\n",
       "      <td>175</td>\n",
       "      <td>118</td>\n",
       "      <td>223</td>\n",
       "    </tr>\n",
       "    <tr>\n",
       "      <th>2.png</th>\n",
       "      <td>0</td>\n",
       "      <td>163</td>\n",
       "      <td>173</td>\n",
       "      <td>218</td>\n",
       "      <td>239</td>\n",
       "    </tr>\n",
       "    <tr>\n",
       "      <th>3.png</th>\n",
       "      <td>0</td>\n",
       "      <td>48</td>\n",
       "      <td>157</td>\n",
       "      <td>84</td>\n",
       "      <td>201</td>\n",
       "    </tr>\n",
       "    <tr>\n",
       "      <th>4.png</th>\n",
       "      <td>0</td>\n",
       "      <td>32</td>\n",
       "      <td>34</td>\n",
       "      <td>90</td>\n",
       "      <td>86</td>\n",
       "    </tr>\n",
       "  </tbody>\n",
       "</table>\n",
       "</div>"
      ],
      "text/plain": [
       "          label  xmin  ymin  xmax  ymax\n",
       "img_name                               \n",
       "0.png         0   104    20   143    58\n",
       "1.png         0    68   175   118   223\n",
       "2.png         0   163   173   218   239\n",
       "3.png         0    48   157    84   201\n",
       "4.png         0    32    34    90    86"
      ]
     },
     "execution_count": 23,
     "metadata": {},
     "output_type": "execute_result"
    }
   ],
   "source": [
    "csv_data.head()"
   ]
  },
  {
   "cell_type": "code",
   "execution_count": 22,
   "id": "8f6220ba",
   "metadata": {
    "ExecuteTime": {
     "end_time": "2022-08-02T05:49:21.643545Z",
     "start_time": "2022-08-02T05:49:21.626541Z"
    }
   },
   "outputs": [
    {
     "name": "stdout",
     "output_type": "stream",
     "text": [
      "0.png\n",
      "--------------\n",
      "label      0\n",
      "xmin     104\n",
      "ymin      20\n",
      "xmax     143\n",
      "ymax      58\n",
      "Name: 0.png, dtype: int64\n",
      "1.png\n",
      "--------------\n",
      "label      0\n",
      "xmin      68\n",
      "ymin     175\n",
      "xmax     118\n",
      "ymax     223\n",
      "Name: 1.png, dtype: int64\n",
      "2.png\n",
      "--------------\n",
      "label      0\n",
      "xmin     163\n",
      "ymin     173\n",
      "xmax     218\n",
      "ymax     239\n",
      "Name: 2.png, dtype: int64\n",
      "3.png\n",
      "--------------\n",
      "label      0\n",
      "xmin      48\n",
      "ymin     157\n",
      "xmax      84\n",
      "ymax     201\n",
      "Name: 3.png, dtype: int64\n",
      "4.png\n",
      "--------------\n",
      "label     0\n",
      "xmin     32\n",
      "ymin     34\n",
      "xmax     90\n",
      "ymax     86\n",
      "Name: 4.png, dtype: int64\n"
     ]
    }
   ],
   "source": [
    "for i,j in csv_data.head().iterrows():\n",
    "    print(i)\n",
    "    print('--------------')\n",
    "    print(j)\n",
    "    \n",
    "    "
   ]
  },
  {
   "cell_type": "code",
   "execution_count": 26,
   "id": "dadc81d3",
   "metadata": {
    "ExecuteTime": {
     "end_time": "2022-08-02T05:51:03.343740Z",
     "start_time": "2022-08-02T05:50:59.193853Z"
    }
   },
   "outputs": [],
   "source": [
    "fs,ls=read_data_bananas()"
   ]
  },
  {
   "cell_type": "code",
   "execution_count": 28,
   "id": "1e527103",
   "metadata": {
    "ExecuteTime": {
     "end_time": "2022-08-02T05:51:16.363834Z",
     "start_time": "2022-08-02T05:51:16.353840Z"
    }
   },
   "outputs": [
    {
     "data": {
      "text/plain": [
       "torch.Size([3, 256, 256])"
      ]
     },
     "execution_count": 28,
     "metadata": {},
     "output_type": "execute_result"
    }
   ],
   "source": [
    "fs[:5][0].shape"
   ]
  },
  {
   "cell_type": "code",
   "execution_count": 29,
   "id": "f7dbe30b",
   "metadata": {
    "ExecuteTime": {
     "end_time": "2022-08-02T05:51:30.151103Z",
     "start_time": "2022-08-02T05:51:30.128117Z"
    }
   },
   "outputs": [
    {
     "data": {
      "text/plain": [
       "tensor([[[0.0000, 0.4062, 0.0781, 0.5586, 0.2266]],\n",
       "\n",
       "        [[0.0000, 0.2656, 0.6836, 0.4609, 0.8711]],\n",
       "\n",
       "        [[0.0000, 0.6367, 0.6758, 0.8516, 0.9336]],\n",
       "\n",
       "        [[0.0000, 0.1875, 0.6133, 0.3281, 0.7852]],\n",
       "\n",
       "        [[0.0000, 0.1250, 0.1328, 0.3516, 0.3359]]])"
      ]
     },
     "execution_count": 29,
     "metadata": {},
     "output_type": "execute_result"
    }
   ],
   "source": [
    "ls[:5]"
   ]
  },
  {
   "cell_type": "code",
   "execution_count": 30,
   "id": "09c08b87",
   "metadata": {
    "ExecuteTime": {
     "end_time": "2022-08-02T06:03:43.975666Z",
     "start_time": "2022-08-02T06:03:43.960662Z"
    }
   },
   "outputs": [],
   "source": [
    "class BananasDataset(torch.utils.data.Dataset):\n",
    "    def __init__(self,is_train):\n",
    "        self.features,self.labels=read_data_bananas(is_train)\n",
    "        print('read ',len(self.features),(f' training examples ' if is_train else f' validation examples'))\n",
    "        \n",
    "    def __getitem__(self,idx):\n",
    "        return (self.features[idx].float(),self.labels[idx])\n",
    "    \n",
    "    def __len__(self):\n",
    "        return len(self.features)"
   ]
  },
  {
   "cell_type": "code",
   "execution_count": 31,
   "id": "80895f54",
   "metadata": {
    "ExecuteTime": {
     "end_time": "2022-08-02T06:07:27.015212Z",
     "start_time": "2022-08-02T06:07:27.010215Z"
    }
   },
   "outputs": [],
   "source": [
    "def load_data_bananas(batch_size):\n",
    "    train_iter=torch.utils.data.DataLoader(BananasDataset(is_train=True),batch_size,shuffle=True)\n",
    "    val_iter=torch.utils.data.DataLoader(BananasDataset(is_train=False),batch_size)\n",
    "    return train_iter,val_iter"
   ]
  },
  {
   "cell_type": "code",
   "execution_count": 32,
   "id": "a8261d70",
   "metadata": {
    "ExecuteTime": {
     "end_time": "2022-08-02T06:08:32.824804Z",
     "start_time": "2022-08-02T06:08:29.833737Z"
    }
   },
   "outputs": [
    {
     "name": "stdout",
     "output_type": "stream",
     "text": [
      "read  1000  training examples \n",
      "read  100  validation examples\n"
     ]
    },
    {
     "data": {
      "text/plain": [
       "(torch.Size([32, 3, 256, 256]), torch.Size([32, 1, 5]))"
      ]
     },
     "execution_count": 32,
     "metadata": {},
     "output_type": "execute_result"
    }
   ],
   "source": [
    "batch_size,edge_size=32,256\n",
    "train_iter,_=load_data_bananas(batch_size)\n",
    "batch_size=next(iter(train_iter))\n",
    "batch_size[0].shape,batch_size[1].shape"
   ]
  },
  {
   "cell_type": "code",
   "execution_count": 59,
   "id": "1436a65f",
   "metadata": {
    "ExecuteTime": {
     "end_time": "2022-08-02T06:40:18.778770Z",
     "start_time": "2022-08-02T06:40:18.762828Z"
    }
   },
   "outputs": [],
   "source": [
    "def bbox_to_rect(bbox,color):\n",
    "    return plt.Rectangle(xy=(bbox[0],bbox[1]),width=bbox[2]-bbox[0],height=bbox[3]-bbox[1],fill=False,edgecolor=color,linewidth=2)"
   ]
  },
  {
   "cell_type": "code",
   "execution_count": 67,
   "id": "592527fd",
   "metadata": {
    "ExecuteTime": {
     "end_time": "2022-08-02T06:43:12.918512Z",
     "start_time": "2022-08-02T06:43:12.898511Z"
    }
   },
   "outputs": [],
   "source": [
    "def show_bboxes(axes,bboxes,labels=None,colors=None):\n",
    "    def _make_list(obj,default_values=None):\n",
    "        if obj is None:\n",
    "            obj=default_values\n",
    "        elif not isinstance(obj,(list,tuple)):\n",
    "            obj=[obj]\n",
    "        return obj\n",
    "    \n",
    "    labels=_make_list(labels)\n",
    "    colors=_make_list(colors,['b','g','r','m','c'])\n",
    "#     plt.imshow(axes)\n",
    "    for i ,bbox in enumerate(bboxes):\n",
    "        color=colors[i % len(colors)]\n",
    "        rect=bbox_to_rect(bbox.detach().numpy(),color)\n",
    "        axes.add_patch(rect)\n",
    "        if labels and len(labels) > i:\n",
    "            text_color='k' if color=='w' else 'w'\n",
    "            axes.text(rect.xy[0],rect.xy[1],labels[i],va='center',ha='center',fontsize=9,color=text_color,bbox=dict(facecolor=color,lw=0))\n",
    "    "
   ]
  },
  {
   "cell_type": "code",
   "execution_count": 68,
   "id": "bd37af37",
   "metadata": {
    "ExecuteTime": {
     "end_time": "2022-08-02T06:43:13.388269Z",
     "start_time": "2022-08-02T06:43:13.379287Z"
    }
   },
   "outputs": [],
   "source": [
    "def show_images(images,num_rows,num_cols,titles=None,scale=1.5):\n",
    "    figsize=(num_cols*scale,num_rows*scale)\n",
    "    _,axes=plt.subplots(num_rows,num_cols,figsize=figsize)\n",
    "    axes=axes.flatten()\n",
    "    for i,(ax,img) in enumerate(zip(axes,images)):\n",
    "#         plt.subplot(num_rows,num_cols,i+1)\n",
    "        if torch.is_tensor(img):\n",
    "            ax.imshow(img.numpy())\n",
    "        else:\n",
    "            ax.imshow(img)\n",
    "        ax.axes.get_xaxis().set_visible(False)\n",
    "        ax.axes.get_yaxis().set_visible(False)\n",
    "        if titles:\n",
    "            ax.title(titles[i])\n",
    "    return axes"
   ]
  },
  {
   "cell_type": "code",
   "execution_count": 69,
   "id": "eef24a39",
   "metadata": {
    "ExecuteTime": {
     "end_time": "2022-08-02T06:43:14.084867Z",
     "start_time": "2022-08-02T06:43:13.890993Z"
    }
   },
   "outputs": [],
   "source": [
    "imgs=(batch_size[0][0:10].permute(0,2,3,1))/255\n",
    "axes=show_images(imgs,2,5,scale=2)\n",
    "for ax,label in zip(axes,batch_size[1][0:10]):\n",
    "    show_bboxes(ax,[label[0][1:5]*edge_size],colors=['w'])\n",
    "    "
   ]
  },
  {
   "cell_type": "code",
   "execution_count": null,
   "id": "cf81bf04",
   "metadata": {},
   "outputs": [],
   "source": []
  }
 ],
 "metadata": {
  "kernelspec": {
   "display_name": "Python 3",
   "language": "python",
   "name": "python3"
  },
  "language_info": {
   "codemirror_mode": {
    "name": "ipython",
    "version": 3
   },
   "file_extension": ".py",
   "mimetype": "text/x-python",
   "name": "python",
   "nbconvert_exporter": "python",
   "pygments_lexer": "ipython3",
   "version": "3.8.8"
  }
 },
 "nbformat": 4,
 "nbformat_minor": 5
}
