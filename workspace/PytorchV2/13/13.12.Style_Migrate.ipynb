{
 "cells": [
  {
   "cell_type": "code",
   "execution_count": 1,
   "id": "3213cfd3",
   "metadata": {
    "ExecuteTime": {
     "end_time": "2023-02-17T06:32:20.194950Z",
     "start_time": "2023-02-17T06:32:08.160071Z"
    }
   },
   "outputs": [
    {
     "name": "stdout",
     "output_type": "stream",
     "text": [
      "Using matplotlib backend: Qt5Agg\n"
     ]
    }
   ],
   "source": [
    "import torch\n",
    "import torchvision\n",
    "import matplotlib.pyplot as plt\n",
    "from torch import nn,optim\n",
    "import PIL\n",
    "%matplotlib auto"
   ]
  },
  {
   "cell_type": "code",
   "execution_count": 2,
   "id": "d6733ddd",
   "metadata": {
    "ExecuteTime": {
     "end_time": "2023-02-17T06:32:35.787149Z",
     "start_time": "2023-02-17T06:32:35.783230Z"
    }
   },
   "outputs": [],
   "source": [
    "content_path=r'F:\\study\\ml\\LM\\image\\13\\rainier.jpg'\n",
    "style_path=r'F:\\study\\ml\\LM\\image\\13\\autumn-oak.jpg'"
   ]
  },
  {
   "cell_type": "code",
   "execution_count": 3,
   "id": "5370b13e",
   "metadata": {
    "ExecuteTime": {
     "end_time": "2023-02-17T06:32:37.843104Z",
     "start_time": "2023-02-17T06:32:37.839185Z"
    }
   },
   "outputs": [],
   "source": [
    "# content_img=plt.imread(content_path)\n",
    "# style_img=plt.imread(style_path)"
   ]
  },
  {
   "cell_type": "code",
   "execution_count": 4,
   "id": "f6728ff9",
   "metadata": {
    "ExecuteTime": {
     "end_time": "2023-02-17T06:32:39.236931Z",
     "start_time": "2023-02-17T06:32:39.070918Z"
    }
   },
   "outputs": [],
   "source": [
    "content_img=PIL.Image.open(content_path)\n",
    "style_img=PIL.Image.open(style_path)"
   ]
  },
  {
   "cell_type": "code",
   "execution_count": null,
   "id": "ae658383",
   "metadata": {},
   "outputs": [],
   "source": []
  },
  {
   "cell_type": "code",
   "execution_count": null,
   "id": "01fa0a53",
   "metadata": {},
   "outputs": [],
   "source": []
  },
  {
   "cell_type": "markdown",
   "id": "c917aead",
   "metadata": {},
   "source": [
    "### 以下为PIL测试"
   ]
  },
  {
   "cell_type": "code",
   "execution_count": 42,
   "id": "4f8adec7",
   "metadata": {
    "ExecuteTime": {
     "end_time": "2023-02-16T03:04:08.636182Z",
     "start_time": "2023-02-16T03:04:08.632276Z"
    }
   },
   "outputs": [],
   "source": [
    "import PIL\n",
    "import numpy as np"
   ]
  },
  {
   "cell_type": "code",
   "execution_count": 43,
   "id": "8b73e9d9",
   "metadata": {
    "ExecuteTime": {
     "end_time": "2023-02-16T03:04:12.487171Z",
     "start_time": "2023-02-16T03:04:12.479361Z"
    }
   },
   "outputs": [],
   "source": [
    "content_img_pil=PIL.Image.fromarray(content_img)"
   ]
  },
  {
   "cell_type": "code",
   "execution_count": 1,
   "id": "14f5dd8a",
   "metadata": {
    "ExecuteTime": {
     "end_time": "2023-02-20T02:32:43.326533Z",
     "start_time": "2023-02-20T02:32:43.044361Z"
    }
   },
   "outputs": [
    {
     "ename": "NameError",
     "evalue": "name 'PIL' is not defined",
     "output_type": "error",
     "traceback": [
      "\u001b[1;31m---------------------------------------------------------------------------\u001b[0m",
      "\u001b[1;31mNameError\u001b[0m                                 Traceback (most recent call last)",
      "\u001b[1;32m<ipython-input-1-730c010e4206>\u001b[0m in \u001b[0;36m<module>\u001b[1;34m\u001b[0m\n\u001b[1;32m----> 1\u001b[1;33m \u001b[0mcontent_img_pil\u001b[0m\u001b[1;33m=\u001b[0m\u001b[0mPIL\u001b[0m\u001b[1;33m.\u001b[0m\u001b[0mImage\u001b[0m\u001b[1;33m.\u001b[0m\u001b[0mopen\u001b[0m\u001b[1;33m(\u001b[0m\u001b[0mcontent_path\u001b[0m\u001b[1;33m)\u001b[0m\u001b[1;33m\u001b[0m\u001b[1;33m\u001b[0m\u001b[0m\n\u001b[0m\u001b[0;32m      2\u001b[0m \u001b[0mnp\u001b[0m\u001b[1;33m.\u001b[0m\u001b[0marray\u001b[0m\u001b[1;33m(\u001b[0m\u001b[0mcontent_img_pil\u001b[0m\u001b[1;33m)\u001b[0m\u001b[1;33m\u001b[0m\u001b[1;33m\u001b[0m\u001b[0m\n",
      "\u001b[1;31mNameError\u001b[0m: name 'PIL' is not defined"
     ]
    }
   ],
   "source": [
    "content_img_pil=PIL.Image.open(content_path)\n",
    "np.array(content_img_pil)"
   ]
  },
  {
   "cell_type": "code",
   "execution_count": 46,
   "id": "9cace000",
   "metadata": {
    "ExecuteTime": {
     "end_time": "2023-02-16T03:05:51.095501Z",
     "start_time": "2023-02-16T03:05:51.078904Z"
    }
   },
   "outputs": [
    {
     "data": {
      "text/plain": [
       "(1365, 2048, 3)"
      ]
     },
     "execution_count": 46,
     "metadata": {},
     "output_type": "execute_result"
    }
   ],
   "source": [
    "np.array(content_img_pil).shape"
   ]
  },
  {
   "cell_type": "code",
   "execution_count": 5,
   "id": "c18b27b8",
   "metadata": {
    "ExecuteTime": {
     "end_time": "2023-02-17T06:32:50.621637Z",
     "start_time": "2023-02-17T06:32:49.966528Z"
    }
   },
   "outputs": [
    {
     "ename": "NameError",
     "evalue": "name 'np' is not defined",
     "output_type": "error",
     "traceback": [
      "\u001b[1;31m---------------------------------------------------------------------------\u001b[0m",
      "\u001b[1;31mNameError\u001b[0m                                 Traceback (most recent call last)",
      "\u001b[1;32m<ipython-input-5-e97cac9b5a8e>\u001b[0m in \u001b[0;36m<module>\u001b[1;34m\u001b[0m\n\u001b[1;32m----> 1\u001b[1;33m \u001b[0mplt\u001b[0m\u001b[1;33m.\u001b[0m\u001b[0mimshow\u001b[0m\u001b[1;33m(\u001b[0m\u001b[0mnp\u001b[0m\u001b[1;33m.\u001b[0m\u001b[0marray\u001b[0m\u001b[1;33m(\u001b[0m\u001b[0mcontent_img_pil\u001b[0m\u001b[1;33m)\u001b[0m\u001b[1;33m)\u001b[0m\u001b[1;33m\u001b[0m\u001b[1;33m\u001b[0m\u001b[0m\n\u001b[0m\u001b[0;32m      2\u001b[0m \u001b[0mplt\u001b[0m\u001b[1;33m.\u001b[0m\u001b[0mshow\u001b[0m\u001b[1;33m(\u001b[0m\u001b[1;33m)\u001b[0m\u001b[1;33m\u001b[0m\u001b[1;33m\u001b[0m\u001b[0m\n",
      "\u001b[1;31mNameError\u001b[0m: name 'np' is not defined"
     ]
    }
   ],
   "source": [
    "plt.imshow(np.array(content_img_pil))\n",
    "plt.show()"
   ]
  },
  {
   "cell_type": "code",
   "execution_count": 48,
   "id": "cfc7bb7b",
   "metadata": {
    "ExecuteTime": {
     "end_time": "2023-02-16T03:06:39.772151Z",
     "start_time": "2023-02-16T03:06:39.767260Z"
    }
   },
   "outputs": [
    {
     "data": {
      "text/plain": [
       "(1365, 2048, 3)"
      ]
     },
     "execution_count": 48,
     "metadata": {},
     "output_type": "execute_result"
    }
   ],
   "source": [
    "content_img.shape"
   ]
  },
  {
   "cell_type": "code",
   "execution_count": 34,
   "id": "c0f66b3a",
   "metadata": {
    "ExecuteTime": {
     "end_time": "2023-02-16T03:00:14.363021Z",
     "start_time": "2023-02-16T03:00:14.319087Z"
    }
   },
   "outputs": [],
   "source": [
    "a=torchvision.transforms.ToTensor()(np.array(content_img_pil))"
   ]
  },
  {
   "cell_type": "code",
   "execution_count": 35,
   "id": "ad377db5",
   "metadata": {
    "ExecuteTime": {
     "end_time": "2023-02-16T03:00:15.059907Z",
     "start_time": "2023-02-16T03:00:15.055026Z"
    }
   },
   "outputs": [
    {
     "data": {
      "text/plain": [
       "torch.Size([3, 1365, 2048])"
      ]
     },
     "execution_count": 35,
     "metadata": {},
     "output_type": "execute_result"
    }
   ],
   "source": [
    "a.shape"
   ]
  },
  {
   "cell_type": "code",
   "execution_count": 39,
   "id": "1fa0a63f",
   "metadata": {
    "ExecuteTime": {
     "end_time": "2023-02-16T03:01:12.383521Z",
     "start_time": "2023-02-16T03:01:12.344478Z"
    }
   },
   "outputs": [
    {
     "name": "stderr",
     "output_type": "stream",
     "text": [
      "D:\\ProgramData\\Anaconda3\\lib\\site-packages\\torchvision\\transforms\\functional.py:133: UserWarning: The given NumPy array is not writable, and PyTorch does not support non-writable tensors. This means writing to this tensor will result in undefined behavior. You may want to copy the array to protect its data or make it writable before converting it to a tensor. This type of warning will be suppressed for the rest of this program. (Triggered internally at  C:\\actions-runner\\_work\\pytorch\\pytorch\\builder\\windows\\pytorch\\torch\\csrc\\utils\\tensor_numpy.cpp:178.)\n",
      "  img = torch.from_numpy(pic.transpose((2, 0, 1))).contiguous()\n"
     ]
    },
    {
     "data": {
      "text/plain": [
       "torch.Size([3, 1365, 2048])"
      ]
     },
     "execution_count": 39,
     "metadata": {},
     "output_type": "execute_result"
    }
   ],
   "source": [
    "b=torchvision.transforms.ToTensor()(content_img)\n",
    "b.shape"
   ]
  },
  {
   "cell_type": "code",
   "execution_count": 36,
   "id": "c9701f2c",
   "metadata": {
    "ExecuteTime": {
     "end_time": "2023-02-16T03:00:29.048447Z",
     "start_time": "2023-02-16T03:00:28.991279Z"
    }
   },
   "outputs": [
    {
     "data": {
      "text/plain": [
       "tensor([[[0.9255, 0.9255, 0.9255,  ..., 0.5020, 0.5059, 0.5059],\n",
       "         [0.9255, 0.9255, 0.9255,  ..., 0.5059, 0.5059, 0.5098],\n",
       "         [0.9255, 0.9255, 0.9255,  ..., 0.5059, 0.5098, 0.5098],\n",
       "         ...,\n",
       "         [0.0549, 0.0549, 0.0549,  ..., 0.1059, 0.1137, 0.1294],\n",
       "         [0.0549, 0.0549, 0.0549,  ..., 0.0745, 0.0941, 0.1098],\n",
       "         [0.0549, 0.0549, 0.0549,  ..., 0.0549, 0.0863, 0.1137]],\n",
       "\n",
       "        [[0.9020, 0.9020, 0.9020,  ..., 0.7333, 0.7373, 0.7373],\n",
       "         [0.9020, 0.9020, 0.9020,  ..., 0.7373, 0.7373, 0.7412],\n",
       "         [0.9020, 0.9020, 0.9020,  ..., 0.7373, 0.7412, 0.7412],\n",
       "         ...,\n",
       "         [0.0471, 0.0471, 0.0471,  ..., 0.0902, 0.0902, 0.1059],\n",
       "         [0.0471, 0.0471, 0.0471,  ..., 0.0549, 0.0667, 0.0824],\n",
       "         [0.0471, 0.0471, 0.0471,  ..., 0.0314, 0.0549, 0.0863]],\n",
       "\n",
       "        [[0.9176, 0.9176, 0.9176,  ..., 0.8510, 0.8549, 0.8549],\n",
       "         [0.9176, 0.9176, 0.9176,  ..., 0.8549, 0.8549, 0.8588],\n",
       "         [0.9176, 0.9176, 0.9176,  ..., 0.8549, 0.8588, 0.8588],\n",
       "         ...,\n",
       "         [0.0510, 0.0510, 0.0510,  ..., 0.0000, 0.0000, 0.0039],\n",
       "         [0.0510, 0.0510, 0.0510,  ..., 0.0000, 0.0000, 0.0078],\n",
       "         [0.0510, 0.0510, 0.0510,  ..., 0.0000, 0.0039, 0.0235]]])"
      ]
     },
     "execution_count": 36,
     "metadata": {},
     "output_type": "execute_result"
    }
   ],
   "source": [
    "a"
   ]
  },
  {
   "cell_type": "code",
   "execution_count": 49,
   "id": "960bda93",
   "metadata": {
    "ExecuteTime": {
     "end_time": "2023-02-16T03:14:50.436401Z",
     "start_time": "2023-02-16T03:14:50.327050Z"
    }
   },
   "outputs": [],
   "source": [
    "plt.imshow(content_img_pil)\n",
    "plt.show()"
   ]
  },
  {
   "cell_type": "code",
   "execution_count": 19,
   "id": "fb3545d6",
   "metadata": {
    "ExecuteTime": {
     "end_time": "2023-02-16T02:50:06.519552Z",
     "start_time": "2023-02-16T02:50:06.507837Z"
    }
   },
   "outputs": [
    {
     "data": {
      "text/plain": [
       "array([[[236, 230, 234],\n",
       "        [236, 230, 234],\n",
       "        [236, 230, 234],\n",
       "        ...,\n",
       "        [128, 187, 217],\n",
       "        [129, 188, 218],\n",
       "        [129, 188, 218]],\n",
       "\n",
       "       [[236, 230, 234],\n",
       "        [236, 230, 234],\n",
       "        [236, 230, 234],\n",
       "        ...,\n",
       "        [129, 188, 218],\n",
       "        [129, 188, 218],\n",
       "        [130, 189, 219]],\n",
       "\n",
       "       [[236, 230, 234],\n",
       "        [236, 230, 234],\n",
       "        [236, 230, 234],\n",
       "        ...,\n",
       "        [129, 188, 218],\n",
       "        [130, 189, 219],\n",
       "        [130, 189, 219]],\n",
       "\n",
       "       ...,\n",
       "\n",
       "       [[ 14,  12,  13],\n",
       "        [ 14,  12,  13],\n",
       "        [ 14,  12,  13],\n",
       "        ...,\n",
       "        [ 27,  23,   0],\n",
       "        [ 29,  23,   0],\n",
       "        [ 33,  27,   1]],\n",
       "\n",
       "       [[ 14,  12,  13],\n",
       "        [ 14,  12,  13],\n",
       "        [ 14,  12,  13],\n",
       "        ...,\n",
       "        [ 19,  14,   0],\n",
       "        [ 24,  17,   0],\n",
       "        [ 28,  21,   2]],\n",
       "\n",
       "       [[ 14,  12,  13],\n",
       "        [ 14,  12,  13],\n",
       "        [ 14,  12,  13],\n",
       "        ...,\n",
       "        [ 14,   8,   0],\n",
       "        [ 22,  14,   1],\n",
       "        [ 29,  22,   6]]], dtype=uint8)"
      ]
     },
     "execution_count": 19,
     "metadata": {},
     "output_type": "execute_result"
    }
   ],
   "source": [
    "content_img"
   ]
  },
  {
   "cell_type": "code",
   "execution_count": null,
   "id": "b6ec1637",
   "metadata": {},
   "outputs": [],
   "source": [
    "b=torchvision.transforms.ToTensor()(content_img)"
   ]
  },
  {
   "cell_type": "code",
   "execution_count": 37,
   "id": "b22ec19e",
   "metadata": {
    "ExecuteTime": {
     "end_time": "2023-02-16T03:00:38.501494Z",
     "start_time": "2023-02-16T03:00:38.494659Z"
    }
   },
   "outputs": [
    {
     "data": {
      "text/plain": [
       "tensor([[[0.9255, 0.9255, 0.9255,  ..., 0.5020, 0.5059, 0.5059],\n",
       "         [0.9255, 0.9255, 0.9255,  ..., 0.5059, 0.5059, 0.5098],\n",
       "         [0.9255, 0.9255, 0.9255,  ..., 0.5059, 0.5098, 0.5098],\n",
       "         ...,\n",
       "         [0.0549, 0.0549, 0.0549,  ..., 0.1059, 0.1137, 0.1294],\n",
       "         [0.0549, 0.0549, 0.0549,  ..., 0.0745, 0.0941, 0.1098],\n",
       "         [0.0549, 0.0549, 0.0549,  ..., 0.0549, 0.0863, 0.1137]],\n",
       "\n",
       "        [[0.9020, 0.9020, 0.9020,  ..., 0.7333, 0.7373, 0.7373],\n",
       "         [0.9020, 0.9020, 0.9020,  ..., 0.7373, 0.7373, 0.7412],\n",
       "         [0.9020, 0.9020, 0.9020,  ..., 0.7373, 0.7412, 0.7412],\n",
       "         ...,\n",
       "         [0.0471, 0.0471, 0.0471,  ..., 0.0902, 0.0902, 0.1059],\n",
       "         [0.0471, 0.0471, 0.0471,  ..., 0.0549, 0.0667, 0.0824],\n",
       "         [0.0471, 0.0471, 0.0471,  ..., 0.0314, 0.0549, 0.0863]],\n",
       "\n",
       "        [[0.9176, 0.9176, 0.9176,  ..., 0.8510, 0.8549, 0.8549],\n",
       "         [0.9176, 0.9176, 0.9176,  ..., 0.8549, 0.8549, 0.8588],\n",
       "         [0.9176, 0.9176, 0.9176,  ..., 0.8549, 0.8588, 0.8588],\n",
       "         ...,\n",
       "         [0.0510, 0.0510, 0.0510,  ..., 0.0000, 0.0000, 0.0039],\n",
       "         [0.0510, 0.0510, 0.0510,  ..., 0.0000, 0.0000, 0.0078],\n",
       "         [0.0510, 0.0510, 0.0510,  ..., 0.0000, 0.0039, 0.0235]]])"
      ]
     },
     "execution_count": 37,
     "metadata": {},
     "output_type": "execute_result"
    }
   ],
   "source": [
    "b"
   ]
  },
  {
   "cell_type": "code",
   "execution_count": 38,
   "id": "0b07a94c",
   "metadata": {
    "ExecuteTime": {
     "end_time": "2023-02-16T03:00:50.009538Z",
     "start_time": "2023-02-16T03:00:49.990988Z"
    }
   },
   "outputs": [
    {
     "data": {
      "text/plain": [
       "tensor([[[True, True, True,  ..., True, True, True],\n",
       "         [True, True, True,  ..., True, True, True],\n",
       "         [True, True, True,  ..., True, True, True],\n",
       "         ...,\n",
       "         [True, True, True,  ..., True, True, True],\n",
       "         [True, True, True,  ..., True, True, True],\n",
       "         [True, True, True,  ..., True, True, True]],\n",
       "\n",
       "        [[True, True, True,  ..., True, True, True],\n",
       "         [True, True, True,  ..., True, True, True],\n",
       "         [True, True, True,  ..., True, True, True],\n",
       "         ...,\n",
       "         [True, True, True,  ..., True, True, True],\n",
       "         [True, True, True,  ..., True, True, True],\n",
       "         [True, True, True,  ..., True, True, True]],\n",
       "\n",
       "        [[True, True, True,  ..., True, True, True],\n",
       "         [True, True, True,  ..., True, True, True],\n",
       "         [True, True, True,  ..., True, True, True],\n",
       "         ...,\n",
       "         [True, True, True,  ..., True, True, True],\n",
       "         [True, True, True,  ..., True, True, True],\n",
       "         [True, True, True,  ..., True, True, True]]])"
      ]
     },
     "execution_count": 38,
     "metadata": {},
     "output_type": "execute_result"
    }
   ],
   "source": [
    "a==b"
   ]
  },
  {
   "cell_type": "markdown",
   "id": "c75b8de3",
   "metadata": {
    "ExecuteTime": {
     "end_time": "2023-02-16T06:33:26.782758Z",
     "start_time": "2023-02-16T06:33:26.766160Z"
    }
   },
   "source": [
    "### 以上为PIL测试"
   ]
  },
  {
   "cell_type": "code",
   "execution_count": null,
   "id": "d5e1eb0c",
   "metadata": {},
   "outputs": [],
   "source": []
  },
  {
   "cell_type": "code",
   "execution_count": 6,
   "id": "01061f52",
   "metadata": {
    "ExecuteTime": {
     "end_time": "2023-02-17T06:35:21.402119Z",
     "start_time": "2023-02-17T06:35:20.311708Z"
    }
   },
   "outputs": [],
   "source": [
    "plt.subplots(12)\n",
    "plt.subplot(121)\n",
    "plt.imshow(content_img)\n",
    "plt.subplot(122)\n",
    "plt.imshow(style_img)\n",
    "plt.show()\n"
   ]
  },
  {
   "cell_type": "code",
   "execution_count": 7,
   "id": "8c37e57e",
   "metadata": {
    "ExecuteTime": {
     "end_time": "2023-02-17T06:35:34.779459Z",
     "start_time": "2023-02-17T06:35:34.775540Z"
    }
   },
   "outputs": [],
   "source": [
    "rgb_mean = torch.tensor([0.485, 0.456, 0.406])\n",
    "rgb_std = torch.tensor([0.229, 0.224, 0.225])"
   ]
  },
  {
   "cell_type": "code",
   "execution_count": 8,
   "id": "345a8e14",
   "metadata": {
    "ExecuteTime": {
     "end_time": "2023-02-17T06:36:23.284651Z",
     "start_time": "2023-02-17T06:36:23.279784Z"
    }
   },
   "outputs": [],
   "source": [
    "def preprocess(img,image_shape):\n",
    "    transforms=torchvision.transforms.Compose([\n",
    "        torchvision.transforms.Resize(image_shape),\n",
    "        torchvision.transforms.ToTensor(),\n",
    "        torchvision.transforms.Normalize(mean=rgb_mean,std=rgb_std)])\n",
    "    print(\"img : \",img)\n",
    "#     print(\"img shape: \",img.shape)\n",
    "    print(\"transforms(img)shape : \",transforms(img).shape)\n",
    "    return transforms(img).unsqueeze(0)"
   ]
  },
  {
   "cell_type": "code",
   "execution_count": 9,
   "id": "c99ce2bd",
   "metadata": {
    "ExecuteTime": {
     "end_time": "2023-02-17T06:36:46.557329Z",
     "start_time": "2023-02-17T06:36:46.383007Z"
    }
   },
   "outputs": [
    {
     "name": "stdout",
     "output_type": "stream",
     "text": [
      "img :  <PIL.JpegImagePlugin.JpegImageFile image mode=RGB size=2048x1365 at 0x18172D84880>\n",
      "transforms(img)shape :  torch.Size([3, 300, 450])\n"
     ]
    },
    {
     "data": {
      "text/plain": [
       "tensor([[[[ 1.9235,  1.9235,  1.9407,  ...,  0.0741,  0.0741,  0.1083],\n",
       "          [ 1.9235,  1.9235,  1.9407,  ...,  0.1426,  0.1426,  0.1768],\n",
       "          [ 1.9235,  1.9235,  1.9407,  ...,  0.2282,  0.2111,  0.2111],\n",
       "          ...,\n",
       "          [-1.8782, -1.8439, -1.8268,  ..., -1.6384, -0.8164, -0.8335],\n",
       "          [-1.8782, -1.8439, -1.8268,  ..., -1.6384, -1.2445, -1.1247],\n",
       "          [-1.8782, -1.8782, -1.8610,  ..., -1.8439, -1.7069, -1.5528]],\n",
       "\n",
       "         [[ 1.9909,  1.9909,  1.9734,  ...,  1.2206,  1.2206,  1.2556],\n",
       "          [ 1.9909,  1.9909,  1.9734,  ...,  1.2731,  1.2731,  1.3081],\n",
       "          [ 1.9909,  1.9909,  1.9559,  ...,  1.3431,  1.3256,  1.3256],\n",
       "          ...,\n",
       "          [-1.8256, -1.7906, -1.7731,  ..., -1.6506, -1.0203, -1.1253],\n",
       "          [-1.8256, -1.7906, -1.7731,  ..., -1.5630, -1.3704, -1.2654],\n",
       "          [-1.8256, -1.8256, -1.8081,  ..., -1.7731, -1.6856, -1.5630]],\n",
       "\n",
       "         [[ 2.2740,  2.2740,  2.2740,  ...,  1.9603,  1.9603,  1.9951],\n",
       "          [ 2.2740,  2.2740,  2.2740,  ...,  2.0125,  1.9951,  2.0300],\n",
       "          [ 2.2740,  2.2740,  2.2566,  ...,  2.0474,  2.0125,  2.0300],\n",
       "          ...,\n",
       "          [-1.5779, -1.5430, -1.5256,  ..., -1.6650, -1.5953, -1.6999],\n",
       "          [-1.5779, -1.5430, -1.5256,  ..., -1.6824, -1.6999, -1.6999],\n",
       "          [-1.5779, -1.5779, -1.5604,  ..., -1.6999, -1.7347, -1.7347]]]])"
      ]
     },
     "execution_count": 9,
     "metadata": {},
     "output_type": "execute_result"
    }
   ],
   "source": [
    "preprocess(content_img,(300,450))"
   ]
  },
  {
   "cell_type": "code",
   "execution_count": 10,
   "id": "0b34be0a",
   "metadata": {
    "ExecuteTime": {
     "end_time": "2023-02-17T06:37:06.418990Z",
     "start_time": "2023-02-17T06:37:06.415071Z"
    }
   },
   "outputs": [],
   "source": [
    "def postprocess(img):\n",
    "    img=img[0].to(rgb_std.device)\n",
    "    img=torch.clamp(img.permute(1,2,0)*rgb_std+rgb_mean,0,1)\n",
    "    return torchvision.transforms.ToPILImage()(img.permute(2,0,1))"
   ]
  },
  {
   "cell_type": "code",
   "execution_count": 11,
   "id": "68687546",
   "metadata": {
    "ExecuteTime": {
     "end_time": "2023-02-17T06:37:33.389360Z",
     "start_time": "2023-02-17T06:37:30.646990Z"
    }
   },
   "outputs": [],
   "source": [
    "pretrained_net=torchvision.models.vgg19(pretrained=True)"
   ]
  },
  {
   "cell_type": "code",
   "execution_count": 12,
   "id": "fda1b0cf",
   "metadata": {
    "ExecuteTime": {
     "end_time": "2023-02-17T06:37:40.882463Z",
     "start_time": "2023-02-17T06:37:40.878566Z"
    }
   },
   "outputs": [],
   "source": [
    "style_layers,content_layers=[0,5,10,19,28],[25]"
   ]
  },
  {
   "cell_type": "code",
   "execution_count": 13,
   "id": "e8193e5b",
   "metadata": {
    "ExecuteTime": {
     "end_time": "2023-02-17T06:37:43.802575Z",
     "start_time": "2023-02-17T06:37:43.798669Z"
    }
   },
   "outputs": [],
   "source": [
    "net=nn.Sequential(*[pretrained_net.features[i] for i in \n",
    "                   range(max(content_layers+style_layers)+1)])"
   ]
  },
  {
   "cell_type": "code",
   "execution_count": 14,
   "id": "ba14779a",
   "metadata": {
    "ExecuteTime": {
     "end_time": "2023-02-17T06:37:45.964056Z",
     "start_time": "2023-02-17T06:37:45.959161Z"
    }
   },
   "outputs": [],
   "source": [
    "def extract_features(X,content_layers,style_layers):\n",
    "    contents=[]\n",
    "    styles=[]\n",
    "    for i in range(len(net)):\n",
    "        X=net[i](X)\n",
    "        if i in style_layers:\n",
    "            styles.append(X)\n",
    "        if i in content_layers:\n",
    "            contents.append(X)\n",
    "    return contents,styles"
   ]
  },
  {
   "cell_type": "code",
   "execution_count": 15,
   "id": "5b8ea1b5",
   "metadata": {
    "ExecuteTime": {
     "end_time": "2023-02-17T06:37:52.194728Z",
     "start_time": "2023-02-17T06:37:52.190823Z"
    }
   },
   "outputs": [],
   "source": [
    "def get_contents(image_shape,device):\n",
    "    content_X=preprocess(content_img,image_shape).to(device)\n",
    "    contents_Y,_=extract_features(content_X,content_layers,style_layers)\n",
    "    return content_X,contents_Y\n",
    "    "
   ]
  },
  {
   "cell_type": "code",
   "execution_count": 16,
   "id": "e6e527f3",
   "metadata": {
    "ExecuteTime": {
     "end_time": "2023-02-17T06:37:53.626415Z",
     "start_time": "2023-02-17T06:37:53.622509Z"
    }
   },
   "outputs": [],
   "source": [
    "def get_styles(image_shape,device):\n",
    "    style_X=preprocess(style_img,image_shape).to(device)\n",
    "    _,styles_Y=extract_features(style_X,content_layers,style_layers)\n",
    "    return style_X,styles_Y"
   ]
  },
  {
   "cell_type": "markdown",
   "id": "fbc9a2ed",
   "metadata": {},
   "source": [
    "#### content loss"
   ]
  },
  {
   "cell_type": "code",
   "execution_count": 17,
   "id": "4944d70f",
   "metadata": {
    "ExecuteTime": {
     "end_time": "2023-02-17T06:38:43.754521Z",
     "start_time": "2023-02-17T06:38:43.751592Z"
    }
   },
   "outputs": [],
   "source": [
    "def content_loss(Y_hat,Y):\n",
    "    return torch.square(Y_hat-Y.detach()).mean()"
   ]
  },
  {
   "cell_type": "markdown",
   "id": "7699994d",
   "metadata": {},
   "source": [
    "#### style loss"
   ]
  },
  {
   "cell_type": "code",
   "execution_count": 18,
   "id": "f331e900",
   "metadata": {
    "ExecuteTime": {
     "end_time": "2023-02-17T06:38:50.186974Z",
     "start_time": "2023-02-17T06:38:50.182092Z"
    }
   },
   "outputs": [],
   "source": [
    "def gram(X):\n",
    "    num_channels,n=X.shape[1],X.numel()//X.shape[1]\n",
    "    X=X.reshape((num_channels,n))\n",
    "    return torch.matmul(X,X.T)/(num_channels*n)"
   ]
  },
  {
   "cell_type": "code",
   "execution_count": 19,
   "id": "e019e702",
   "metadata": {
    "ExecuteTime": {
     "end_time": "2023-02-17T06:39:18.618632Z",
     "start_time": "2023-02-17T06:39:18.614725Z"
    }
   },
   "outputs": [],
   "source": [
    "def style_loss(Y_hat,gram_Y):\n",
    "    return torch.square(gram(Y_hat)-gram_Y.detach()).mean()"
   ]
  },
  {
   "cell_type": "code",
   "execution_count": 98,
   "id": "9f491b88",
   "metadata": {
    "ExecuteTime": {
     "end_time": "2023-02-16T08:13:18.301715Z",
     "start_time": "2023-02-16T08:13:18.297796Z"
    }
   },
   "outputs": [],
   "source": [
    "def tv_loss(Y_hat):\n",
    "    return 0.5 * (torch.abs(Y_hat[:,:,1:,:]-Y_hat[:,:,:-1,:]).mean()+\n",
    "                 torch.abs(Y_hat[:,:,:,1:]-Y_hat[:,:,:,:-1]).mean())"
   ]
  },
  {
   "cell_type": "code",
   "execution_count": 2,
   "id": "b91d4f91",
   "metadata": {
    "ExecuteTime": {
     "end_time": "2023-02-20T07:12:43.545454Z",
     "start_time": "2023-02-20T07:12:43.534713Z"
    }
   },
   "outputs": [],
   "source": [
    "content_weight,style_weight,tv_weight=1,1e3,10"
   ]
  },
  {
   "cell_type": "code",
   "execution_count": 3,
   "id": "31f1b5dc",
   "metadata": {
    "ExecuteTime": {
     "end_time": "2023-02-20T09:45:38.156162Z",
     "start_time": "2023-02-20T09:45:38.144446Z"
    }
   },
   "outputs": [],
   "source": [
    "def compute_loss(X,contents_Y_hat,styles_Y_hat,contents_Y,styles_Y_gram):\n",
    "    contents_l=[content_loss(Y_hat,Y) * content_weight for Y_hat,Y in\n",
    "               zip(contents_Y_hat,contents_Y)]\n",
    "    styles_l=[style_loss(Y_hat,Y) * style_weight for Y_hat,Y in \n",
    "             zip(styles_Y_hat,styles_Y_gram)]\n",
    "    tv_l=tv_loss(X) * tv_weight\n",
    "    l=sum(10*styles_l+contents_l+[tv_l])\n",
    "    return contents_l,styles_l,tv_l,l"
   ]
  },
  {
   "cell_type": "code",
   "execution_count": 75,
   "id": "983b0a95",
   "metadata": {
    "ExecuteTime": {
     "end_time": "2023-02-16T06:52:12.417573Z",
     "start_time": "2023-02-16T06:52:12.412691Z"
    }
   },
   "outputs": [],
   "source": [
    "class SynthesizedImage(nn.Module):\n",
    "    def __init__(self,img_shape,**kwargs):\n",
    "        super(SynthesizedImage,self).__init__(**kwargs)\n",
    "        self.weight=nn.Parameter(torch.rand(*img_shape))\n",
    "    \n",
    "    def forward(self):\n",
    "        return self.weight"
   ]
  },
  {
   "cell_type": "code",
   "execution_count": 87,
   "id": "c1d7e096",
   "metadata": {
    "ExecuteTime": {
     "end_time": "2023-02-16T07:47:38.405388Z",
     "start_time": "2023-02-16T07:47:38.399531Z"
    }
   },
   "outputs": [],
   "source": [
    "def get_inits(X,device,lr,styles_Y):\n",
    "    gen_img=SynthesizedImage(X.shape).to(device)\n",
    "    gen_img.weight.data.copy_(X.data)\n",
    "    trainer=torch.optim.Adam(gen_img.parameters(),lr=lr)\n",
    "    styles_Y_gram=[gram(Y) for Y in styles_Y]\n",
    "    return gen_img(),styles_Y_gram,trainer"
   ]
  },
  {
   "cell_type": "code",
   "execution_count": null,
   "id": "b04d92e0",
   "metadata": {},
   "outputs": [],
   "source": []
  },
  {
   "cell_type": "code",
   "execution_count": 78,
   "id": "368d0860",
   "metadata": {
    "ExecuteTime": {
     "end_time": "2023-02-16T07:23:58.495976Z",
     "start_time": "2023-02-16T07:23:57.062787Z"
    }
   },
   "outputs": [
    {
     "name": "stdout",
     "output_type": "stream",
     "text": [
      "img :  <PIL.JpegImagePlugin.JpegImageFile image mode=RGB size=2048x1365 at 0x22F8148B5B0>\n",
      "transforms(img)shape :  torch.Size([3, 300, 450])\n",
      "img :  <PIL.JpegImagePlugin.JpegImageFile image mode=RGB size=1717x1200 at 0x22F81B793A0>\n",
      "transforms(img)shape :  torch.Size([3, 300, 450])\n"
     ]
    }
   ],
   "source": [
    "device,image_shape='cpu',(300,450)\n",
    "content_X,contents_Y=get_contents(image_shape,device)\n",
    "_,styles_Y=get_styles(image_shape,device)"
   ]
  },
  {
   "cell_type": "code",
   "execution_count": 80,
   "id": "38024aed",
   "metadata": {
    "ExecuteTime": {
     "end_time": "2023-02-16T07:25:48.099374Z",
     "start_time": "2023-02-16T07:25:48.094492Z"
    }
   },
   "outputs": [
    {
     "data": {
      "text/plain": [
       "torch.Size([1, 3, 300, 450])"
      ]
     },
     "execution_count": 80,
     "metadata": {},
     "output_type": "execute_result"
    }
   ],
   "source": [
    "content_X.shape"
   ]
  },
  {
   "cell_type": "code",
   "execution_count": 83,
   "id": "efc55e48",
   "metadata": {
    "ExecuteTime": {
     "end_time": "2023-02-16T07:26:23.994559Z",
     "start_time": "2023-02-16T07:26:23.990653Z"
    }
   },
   "outputs": [
    {
     "data": {
      "text/plain": [
       "torch.Size([1, 512, 37, 56])"
      ]
     },
     "execution_count": 83,
     "metadata": {},
     "output_type": "execute_result"
    }
   ],
   "source": [
    "contents_Y[0].shape"
   ]
  },
  {
   "cell_type": "code",
   "execution_count": 84,
   "id": "be0530f6",
   "metadata": {
    "ExecuteTime": {
     "end_time": "2023-02-16T07:26:45.363912Z",
     "start_time": "2023-02-16T07:26:45.359016Z"
    }
   },
   "outputs": [
    {
     "data": {
      "text/plain": [
       "5"
      ]
     },
     "execution_count": 84,
     "metadata": {},
     "output_type": "execute_result"
    }
   ],
   "source": [
    "len(styles_Y)"
   ]
  },
  {
   "cell_type": "code",
   "execution_count": 85,
   "id": "e01fd356",
   "metadata": {
    "ExecuteTime": {
     "end_time": "2023-02-16T07:27:56.538636Z",
     "start_time": "2023-02-16T07:27:56.533767Z"
    }
   },
   "outputs": [
    {
     "name": "stdout",
     "output_type": "stream",
     "text": [
      "styles Y : i shape  0 torch.Size([1, 64, 300, 450])\n",
      "styles Y : i shape  1 torch.Size([1, 128, 150, 225])\n",
      "styles Y : i shape  2 torch.Size([1, 256, 75, 112])\n",
      "styles Y : i shape  3 torch.Size([1, 512, 37, 56])\n",
      "styles Y : i shape  4 torch.Size([1, 512, 18, 28])\n"
     ]
    }
   ],
   "source": [
    "for i in range(len(styles_Y)):\n",
    "    print(\"styles Y : i shape \",i,styles_Y[i].shape)"
   ]
  },
  {
   "cell_type": "code",
   "execution_count": 92,
   "id": "be8ce5bf",
   "metadata": {
    "ExecuteTime": {
     "end_time": "2023-02-16T07:50:19.872652Z",
     "start_time": "2023-02-16T07:50:19.743793Z"
    }
   },
   "outputs": [],
   "source": [
    "X,styles_Y_gram,trainer=get_inits(content_X,'cpu',0.3,styles_Y)"
   ]
  },
  {
   "cell_type": "code",
   "execution_count": 94,
   "id": "d3de6879",
   "metadata": {
    "ExecuteTime": {
     "end_time": "2023-02-16T07:50:51.907790Z",
     "start_time": "2023-02-16T07:50:51.902908Z"
    }
   },
   "outputs": [
    {
     "name": "stdout",
     "output_type": "stream",
     "text": [
      "styles_Y_gram : i shape  0 torch.Size([64, 64])\n",
      "styles_Y_gram : i shape  1 torch.Size([128, 128])\n",
      "styles_Y_gram : i shape  2 torch.Size([256, 256])\n",
      "styles_Y_gram : i shape  3 torch.Size([512, 512])\n",
      "styles_Y_gram : i shape  4 torch.Size([512, 512])\n"
     ]
    }
   ],
   "source": [
    "for i in range(len(styles_Y_gram)):\n",
    "    print(\"styles_Y_gram : i shape \",i,styles_Y_gram[i].shape)"
   ]
  },
  {
   "cell_type": "code",
   "execution_count": null,
   "id": "e9b8021a",
   "metadata": {},
   "outputs": [],
   "source": []
  },
  {
   "cell_type": "code",
   "execution_count": null,
   "id": "d13e287c",
   "metadata": {},
   "outputs": [],
   "source": []
  },
  {
   "cell_type": "code",
   "execution_count": 103,
   "id": "12d2b506",
   "metadata": {
    "ExecuteTime": {
     "end_time": "2023-02-16T08:35:35.015026Z",
     "start_time": "2023-02-16T08:35:35.007216Z"
    }
   },
   "outputs": [],
   "source": [
    "def train(X,contents_Y,styles_Y,device,lr,num_epochs,lr_decay_epoch):\n",
    "    X,styles_Y_gram,trainer=get_inits(X,device,lr,styles_Y)\n",
    "    scheduler=torch.optim.lr_scheduler.StepLR(trainer,lr_decay_epoch,0.8)\n",
    "    for epoch in range(num_epochs):\n",
    "        trainer.zero_grad()\n",
    "        contents_Y_hat,styles_Y_hat=extract_features(X,content_layers,style_layers)\n",
    "        contents_l,styles_l,tv_l,l=compute_loss(X,contents_Y_hat,styles_Y_hat,contents_Y,styles_Y_gram)\n",
    "        l.backward()\n",
    "        trainer.step()\n",
    "        scheduler.step()\n",
    "        if(epoch+1) %10 ==0:\n",
    "            print(\"contens loss: %.2f\",float(sum(contents_l)))\n",
    "            print(\"styles loss: %.2f\",float(sum(styles_l)))\n",
    "            print(\"tv loss: %.2f\",float(tv_l))\n",
    "    return X"
   ]
  },
  {
   "cell_type": "code",
   "execution_count": null,
   "id": "57098e91",
   "metadata": {},
   "outputs": [],
   "source": []
  },
  {
   "cell_type": "code",
   "execution_count": 104,
   "id": "d7988e84",
   "metadata": {
    "ExecuteTime": {
     "end_time": "2023-02-16T08:54:02.845776Z",
     "start_time": "2023-02-16T08:35:39.127725Z"
    }
   },
   "outputs": [
    {
     "name": "stdout",
     "output_type": "stream",
     "text": [
      "img :  <PIL.JpegImagePlugin.JpegImageFile image mode=RGB size=2048x1365 at 0x22F8148B5B0>\n",
      "transforms(img)shape :  torch.Size([3, 300, 450])\n",
      "img :  <PIL.JpegImagePlugin.JpegImageFile image mode=RGB size=1717x1200 at 0x22F81B793A0>\n",
      "transforms(img)shape :  torch.Size([3, 300, 450])\n",
      "contens loss: %.2f 1.886697769165039\n",
      "styles loss: %.2f 1.7113851308822632\n",
      "tv loss: %.2f 7.836203098297119\n",
      "contens loss: %.2f 1.6912285089492798\n",
      "styles loss: %.2f 0.7593602538108826\n",
      "tv loss: %.2f 7.591408729553223\n",
      "contens loss: %.2f 1.5549570322036743\n",
      "styles loss: %.2f 0.2870299220085144\n",
      "tv loss: %.2f 6.251469612121582\n",
      "contens loss: %.2f 1.450787901878357\n",
      "styles loss: %.2f 0.21341782808303833\n",
      "tv loss: %.2f 5.155290603637695\n",
      "contens loss: %.2f 1.3914440870285034\n",
      "styles loss: %.2f 0.12216442078351974\n",
      "tv loss: %.2f 4.535834312438965\n",
      "contens loss: %.2f 1.3003970384597778\n",
      "styles loss: %.2f 0.07521913200616837\n",
      "tv loss: %.2f 3.760624408721924\n",
      "contens loss: %.2f 1.1860100030899048\n",
      "styles loss: %.2f 0.057811036705970764\n",
      "tv loss: %.2f 3.1427314281463623\n",
      "contens loss: %.2f 1.0621826648712158\n",
      "styles loss: %.2f 0.08974719047546387\n",
      "tv loss: %.2f 2.726649045944214\n",
      "contens loss: %.2f 1.1272172927856445\n",
      "styles loss: %.2f 0.05484092980623245\n",
      "tv loss: %.2f 2.5374040603637695\n",
      "contens loss: %.2f 1.2068426609039307\n",
      "styles loss: %.2f 0.06590891629457474\n",
      "tv loss: %.2f 2.4857840538024902\n",
      "contens loss: %.2f 1.0426855087280273\n",
      "styles loss: %.2f 0.05217760056257248\n",
      "tv loss: %.2f 2.365108013153076\n",
      "contens loss: %.2f 0.9935613870620728\n",
      "styles loss: %.2f 0.04650087654590607\n",
      "tv loss: %.2f 2.1389899253845215\n",
      "contens loss: %.2f 1.0276154279708862\n",
      "styles loss: %.2f 0.044903285801410675\n",
      "tv loss: %.2f 2.0497753620147705\n",
      "contens loss: %.2f 0.9612026214599609\n",
      "styles loss: %.2f 0.13077929615974426\n",
      "tv loss: %.2f 1.9534355401992798\n",
      "contens loss: %.2f 1.1933372020721436\n",
      "styles loss: %.2f 0.058833472430706024\n",
      "tv loss: %.2f 2.3187410831451416\n",
      "contens loss: %.2f 1.0006742477416992\n",
      "styles loss: %.2f 0.04912003129720688\n",
      "tv loss: %.2f 2.252767324447632\n",
      "contens loss: %.2f 0.9829298257827759\n",
      "styles loss: %.2f 0.04219488054513931\n",
      "tv loss: %.2f 1.9998464584350586\n",
      "contens loss: %.2f 0.9081811904907227\n",
      "styles loss: %.2f 0.0446799173951149\n",
      "tv loss: %.2f 1.835628628730774\n",
      "contens loss: %.2f 0.9160991907119751\n",
      "styles loss: %.2f 0.04012499749660492\n",
      "tv loss: %.2f 1.7170870304107666\n",
      "contens loss: %.2f 0.9486343264579773\n",
      "styles loss: %.2f 0.0415026880800724\n",
      "tv loss: %.2f 1.6798975467681885\n",
      "contens loss: %.2f 0.881941556930542\n",
      "styles loss: %.2f 0.039665982127189636\n",
      "tv loss: %.2f 1.62722647190094\n",
      "contens loss: %.2f 0.8810738325119019\n",
      "styles loss: %.2f 0.03931467607617378\n",
      "tv loss: %.2f 1.554013729095459\n",
      "contens loss: %.2f 0.8469212651252747\n",
      "styles loss: %.2f 0.053615838289260864\n",
      "tv loss: %.2f 1.50149405002594\n",
      "contens loss: %.2f 0.8600512742996216\n",
      "styles loss: %.2f 0.038759417831897736\n",
      "tv loss: %.2f 1.4939223527908325\n",
      "contens loss: %.2f 0.8708385229110718\n",
      "styles loss: %.2f 0.042988866567611694\n",
      "tv loss: %.2f 1.5054993629455566\n",
      "contens loss: %.2f 0.8475498557090759\n",
      "styles loss: %.2f 0.038750190287828445\n",
      "tv loss: %.2f 1.4807970523834229\n",
      "contens loss: %.2f 0.8293616771697998\n",
      "styles loss: %.2f 0.038613297045230865\n",
      "tv loss: %.2f 1.4220482110977173\n",
      "contens loss: %.2f 0.8293469548225403\n",
      "styles loss: %.2f 0.04304417222738266\n",
      "tv loss: %.2f 1.3989741802215576\n",
      "contens loss: %.2f 0.8155681490898132\n",
      "styles loss: %.2f 0.03918986767530441\n",
      "tv loss: %.2f 1.3725764751434326\n",
      "contens loss: %.2f 0.8669428825378418\n",
      "styles loss: %.2f 0.0399479940533638\n",
      "tv loss: %.2f 1.4122567176818848\n",
      "contens loss: %.2f 0.8198414444923401\n",
      "styles loss: %.2f 0.038780681788921356\n",
      "tv loss: %.2f 1.3878796100616455\n",
      "contens loss: %.2f 0.8036617040634155\n",
      "styles loss: %.2f 0.03906119987368584\n",
      "tv loss: %.2f 1.340520977973938\n",
      "contens loss: %.2f 0.811766505241394\n",
      "styles loss: %.2f 0.038302645087242126\n",
      "tv loss: %.2f 1.3106465339660645\n",
      "contens loss: %.2f 0.7949731945991516\n",
      "styles loss: %.2f 0.041606925427913666\n",
      "tv loss: %.2f 1.2897191047668457\n",
      "contens loss: %.2f 0.8000165224075317\n",
      "styles loss: %.2f 0.03948089852929115\n",
      "tv loss: %.2f 1.300445795059204\n",
      "contens loss: %.2f 0.7960566878318787\n",
      "styles loss: %.2f 0.03863835707306862\n",
      "tv loss: %.2f 1.2762480974197388\n",
      "contens loss: %.2f 0.8005045652389526\n",
      "styles loss: %.2f 0.038693539798259735\n",
      "tv loss: %.2f 1.2584476470947266\n",
      "contens loss: %.2f 0.7968895435333252\n",
      "styles loss: %.2f 0.03824734315276146\n",
      "tv loss: %.2f 1.246274471282959\n",
      "contens loss: %.2f 0.7912789583206177\n",
      "styles loss: %.2f 0.03943698853254318\n",
      "tv loss: %.2f 1.2376879453659058\n",
      "contens loss: %.2f 0.8000456094741821\n",
      "styles loss: %.2f 0.038815535604953766\n",
      "tv loss: %.2f 1.232533574104309\n",
      "contens loss: %.2f 0.7896372079849243\n",
      "styles loss: %.2f 0.03837403655052185\n",
      "tv loss: %.2f 1.2242900133132935\n",
      "contens loss: %.2f 0.7912551164627075\n",
      "styles loss: %.2f 0.03839484602212906\n",
      "tv loss: %.2f 1.2156211137771606\n",
      "contens loss: %.2f 0.7861278653144836\n",
      "styles loss: %.2f 0.038526374846696854\n",
      "tv loss: %.2f 1.2097454071044922\n",
      "contens loss: %.2f 0.7853648066520691\n",
      "styles loss: %.2f 0.0384671613574028\n",
      "tv loss: %.2f 1.204881191253662\n",
      "contens loss: %.2f 0.7916685342788696\n",
      "styles loss: %.2f 0.03829120099544525\n",
      "tv loss: %.2f 1.2001289129257202\n",
      "contens loss: %.2f 0.7848057150840759\n",
      "styles loss: %.2f 0.03835148364305496\n",
      "tv loss: %.2f 1.1947720050811768\n",
      "contens loss: %.2f 0.7837616205215454\n",
      "styles loss: %.2f 0.03825312852859497\n",
      "tv loss: %.2f 1.1891160011291504\n",
      "contens loss: %.2f 0.783950686454773\n",
      "styles loss: %.2f 0.038075000047683716\n",
      "tv loss: %.2f 1.184256672859192\n",
      "contens loss: %.2f 0.7828180193901062\n",
      "styles loss: %.2f 0.03898800536990166\n",
      "tv loss: %.2f 1.1838452816009521\n",
      "contens loss: %.2f 0.7827195525169373\n",
      "styles loss: %.2f 0.03830520436167717\n",
      "tv loss: %.2f 1.1794369220733643\n"
     ]
    }
   ],
   "source": [
    "device,image_shape='cpu',(300,450)\n",
    "net=net.to(device)\n",
    "content_X,contents_Y=get_contents(image_shape,device)\n",
    "_,styles_Y=get_styles(image_shape,device)\n",
    "output=train(content_X,contents_Y,styles_Y,device,0.3,500,50)"
   ]
  },
  {
   "cell_type": "code",
   "execution_count": 102,
   "id": "7ad12e4e",
   "metadata": {
    "ExecuteTime": {
     "end_time": "2023-02-16T08:35:11.738564Z",
     "start_time": "2023-02-16T08:35:11.720031Z"
    }
   },
   "outputs": [
    {
     "data": {
      "text/plain": [
       "tensor(0.0100)"
      ]
     },
     "execution_count": 102,
     "metadata": {},
     "output_type": "execute_result"
    }
   ],
   "source": [
    "a=torch.Tensor([0.01])\n",
    "sum(a)"
   ]
  },
  {
   "cell_type": "code",
   "execution_count": null,
   "id": "7549cb1e",
   "metadata": {},
   "outputs": [],
   "source": []
  },
  {
   "cell_type": "code",
   "execution_count": null,
   "id": "b01e24eb",
   "metadata": {},
   "outputs": [],
   "source": []
  },
  {
   "cell_type": "code",
   "execution_count": null,
   "id": "54408289",
   "metadata": {},
   "outputs": [],
   "source": []
  },
  {
   "cell_type": "code",
   "execution_count": null,
   "id": "511e85d4",
   "metadata": {},
   "outputs": [],
   "source": []
  }
 ],
 "metadata": {
  "kernelspec": {
   "display_name": "Python 3",
   "language": "python",
   "name": "python3"
  },
  "language_info": {
   "codemirror_mode": {
    "name": "ipython",
    "version": 3
   },
   "file_extension": ".py",
   "mimetype": "text/x-python",
   "name": "python",
   "nbconvert_exporter": "python",
   "pygments_lexer": "ipython3",
   "version": "3.8.8"
  }
 },
 "nbformat": 4,
 "nbformat_minor": 5
}
