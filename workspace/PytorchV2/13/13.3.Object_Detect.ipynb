{
 "cells": [
  {
   "cell_type": "code",
   "execution_count": 1,
   "id": "4e8dc96f",
   "metadata": {
    "ExecuteTime": {
     "end_time": "2022-07-19T06:03:51.108467Z",
     "start_time": "2022-07-19T06:03:50.096878Z"
    }
   },
   "outputs": [
    {
     "name": "stdout",
     "output_type": "stream",
     "text": [
      "Using matplotlib backend: Qt5Agg\n"
     ]
    }
   ],
   "source": [
    "import torch\n",
    "import matplotlib.pyplot as plt\n",
    "%matplotlib auto"
   ]
  },
  {
   "cell_type": "code",
   "execution_count": 2,
   "id": "94f55429",
   "metadata": {
    "ExecuteTime": {
     "end_time": "2022-07-19T06:03:51.258401Z",
     "start_time": "2022-07-19T06:03:51.110465Z"
    }
   },
   "outputs": [],
   "source": [
    "img_path=r'F:\\study\\ml\\LM\\image\\13\\catdog.jpg'\n",
    "img=plt.imread(img_path)\n",
    "plt.imshow(img)\n",
    "plt.show()\n"
   ]
  },
  {
   "cell_type": "code",
   "execution_count": 3,
   "id": "96dfc8ae",
   "metadata": {
    "ExecuteTime": {
     "end_time": "2022-07-19T06:03:51.273392Z",
     "start_time": "2022-07-19T06:03:51.260400Z"
    }
   },
   "outputs": [],
   "source": [
    "def box_corner_to_center(boxes):\n",
    "    x1,y1,x2,y2=boxes[:,0],boxes[:,1],boxes[:,2],boxes[:,3]\n",
    "    cx=(x1+x2)/2\n",
    "    cy=(y1+y2)/2\n",
    "    w=x2-x1\n",
    "    h=y2-y1\n",
    "    boxes=torch.stack((cx,cy,w,h),axis=-1)\n",
    "    return boxes"
   ]
  },
  {
   "cell_type": "code",
   "execution_count": 4,
   "id": "8393a678",
   "metadata": {
    "ExecuteTime": {
     "end_time": "2022-07-19T06:03:51.303567Z",
     "start_time": "2022-07-19T06:03:51.275392Z"
    }
   },
   "outputs": [],
   "source": [
    "def box_center_to_corner(boxes):\n",
    "    cx,cy,w,h=boxes[:,0],boxes[:,1],boxes[:,2],boxes[:,3]\n",
    "    x1=cx-0.5*w\n",
    "    y1=cy-0.5*h\n",
    "    x2=cx+0.5*w\n",
    "    y2=cy+0.5*h\n",
    "    boxes=torch.stack((x1,y1,x2,y2),axis=-1)\n",
    "    return boxes"
   ]
  },
  {
   "cell_type": "code",
   "execution_count": 5,
   "id": "96694f26",
   "metadata": {
    "ExecuteTime": {
     "end_time": "2022-07-19T06:03:51.318634Z",
     "start_time": "2022-07-19T06:03:51.304515Z"
    }
   },
   "outputs": [],
   "source": [
    "dog_bbox,cat_bbox=[60.0,45.0,378.0,516.0],[400.0,112.0,655.0,493.0]"
   ]
  },
  {
   "cell_type": "code",
   "execution_count": 6,
   "id": "4ba60f70",
   "metadata": {
    "ExecuteTime": {
     "end_time": "2022-07-19T06:03:51.333650Z",
     "start_time": "2022-07-19T06:03:51.319613Z"
    }
   },
   "outputs": [
    {
     "data": {
      "text/plain": [
       "tensor([[True, True, True, True],\n",
       "        [True, True, True, True]])"
      ]
     },
     "execution_count": 6,
     "metadata": {},
     "output_type": "execute_result"
    }
   ],
   "source": [
    "boxes=torch.tensor((dog_bbox,cat_bbox))\n",
    "box_center_to_corner(box_corner_to_center(boxes))==boxes"
   ]
  },
  {
   "cell_type": "code",
   "execution_count": 7,
   "id": "4a840073",
   "metadata": {
    "ExecuteTime": {
     "end_time": "2022-07-19T06:03:51.348599Z",
     "start_time": "2022-07-19T06:03:51.334598Z"
    }
   },
   "outputs": [],
   "source": [
    "def box_corner_to_center(boxes):\n",
    "    \"\"\"从（左上，右下）转换到（中间，宽度，⾼度） \"\"\"\n",
    "    x1, y1, x2, y2 = boxes[:, 0], boxes[:, 1], boxes[:, 2], boxes[:, 3]\n",
    "    cx = (x1 + x2) / 2\n",
    "    cy = (y1 + y2) / 2\n",
    "    w = x2 - x1\n",
    "    h = y2 - y1\n",
    "    boxes = torch.stack((cx, cy, w, h), axis=-1)\n",
    "    return boxes\n",
    "\n",
    "def box_center_to_corner(boxes):\n",
    "    \"\"\"从（中间，宽度，⾼度）转换到（左上，右下） \"\"\"\n",
    "    cx, cy, w, h = boxes[:, 0], boxes[:, 1], boxes[:, 2], boxes[:, 3]\n",
    "    x1 = cx - 0.5 * w\n",
    "    y1 = cy - 0.5 * h\n",
    "    x2 = cx + 0.5 * w\n",
    "    y2 = cy + 0.5 * h\n",
    "    boxes = torch.stack((x1, y1, x2, y2), axis=-1)\n",
    "    return boxes"
   ]
  },
  {
   "cell_type": "code",
   "execution_count": 8,
   "id": "4de86fe0",
   "metadata": {
    "ExecuteTime": {
     "end_time": "2022-07-19T06:03:51.685093Z",
     "start_time": "2022-07-19T06:03:51.670115Z"
    }
   },
   "outputs": [],
   "source": [
    "dog_bbox, cat_bbox = [60.0, 45.0, 378.0, 516.0], [400.0, 112.0, 655.0, 493.0]"
   ]
  },
  {
   "cell_type": "code",
   "execution_count": 9,
   "id": "df5874e9",
   "metadata": {
    "ExecuteTime": {
     "end_time": "2022-07-19T06:03:52.084084Z",
     "start_time": "2022-07-19T06:03:52.080073Z"
    }
   },
   "outputs": [
    {
     "data": {
      "text/plain": [
       "tensor([[True, True, True, True],\n",
       "        [True, True, True, True]])"
      ]
     },
     "execution_count": 9,
     "metadata": {},
     "output_type": "execute_result"
    }
   ],
   "source": [
    "boxes = torch.tensor((dog_bbox, cat_bbox))\n",
    "box_center_to_corner(box_corner_to_center(boxes)) == boxes"
   ]
  },
  {
   "cell_type": "code",
   "execution_count": 10,
   "id": "e266db1f",
   "metadata": {
    "ExecuteTime": {
     "end_time": "2022-07-19T06:03:53.075964Z",
     "start_time": "2022-07-19T06:03:53.070980Z"
    }
   },
   "outputs": [],
   "source": [
    "def box_center_to_corner(boxes):\n",
    "    \"\"\"从（中间，宽度，⾼度）转换到（左上，右下） \"\"\"\n",
    "    cx, cy, w, h = boxes[:, 0], boxes[:, 1], boxes[:, 2], boxes[:, 3]\n",
    "    x1 = cx - 0.5 * w\n",
    "    y1 = cy - 0.5 * h\n",
    "    x2 = cx + 0.5 * w\n",
    "    y2 = cy + 0.5 * h\n",
    "    boxes = torch.stack((x1, y1, x2, y2), axis=-1)\n",
    "    return boxes"
   ]
  },
  {
   "cell_type": "code",
   "execution_count": 11,
   "id": "cf54a3ba",
   "metadata": {
    "ExecuteTime": {
     "end_time": "2022-07-19T06:03:54.520335Z",
     "start_time": "2022-07-19T06:03:54.502345Z"
    }
   },
   "outputs": [
    {
     "data": {
      "text/plain": [
       "tensor([[ 60.,  45., 378., 516.],\n",
       "        [400., 112., 655., 493.]])"
      ]
     },
     "execution_count": 11,
     "metadata": {},
     "output_type": "execute_result"
    }
   ],
   "source": [
    "boxes"
   ]
  },
  {
   "cell_type": "code",
   "execution_count": 12,
   "id": "b97a391c",
   "metadata": {
    "ExecuteTime": {
     "end_time": "2022-07-19T06:03:54.779179Z",
     "start_time": "2022-07-19T06:03:54.742991Z"
    }
   },
   "outputs": [
    {
     "data": {
      "text/plain": [
       "tensor([ 60., 400.])"
      ]
     },
     "execution_count": 12,
     "metadata": {},
     "output_type": "execute_result"
    }
   ],
   "source": [
    "boxes[:, 0]"
   ]
  },
  {
   "cell_type": "code",
   "execution_count": 13,
   "id": "acf420c1",
   "metadata": {
    "ExecuteTime": {
     "end_time": "2022-07-19T06:03:55.327779Z",
     "start_time": "2022-07-19T06:03:55.310799Z"
    }
   },
   "outputs": [
    {
     "data": {
      "text/plain": [
       "tensor([ 45., 112.])"
      ]
     },
     "execution_count": 13,
     "metadata": {},
     "output_type": "execute_result"
    }
   ],
   "source": [
    "boxes[:, 1]"
   ]
  },
  {
   "cell_type": "code",
   "execution_count": 14,
   "id": "10df0585",
   "metadata": {
    "ExecuteTime": {
     "end_time": "2022-07-19T06:03:55.769264Z",
     "start_time": "2022-07-19T06:03:55.760255Z"
    }
   },
   "outputs": [
    {
     "data": {
      "text/plain": [
       "tensor([[ 60., 400.],\n",
       "        [ 45., 112.]])"
      ]
     },
     "execution_count": 14,
     "metadata": {},
     "output_type": "execute_result"
    }
   ],
   "source": [
    "torch.stack((boxes[:, 0],boxes[:, 1]),axis=0)"
   ]
  },
  {
   "cell_type": "code",
   "execution_count": 15,
   "id": "6ecbb2e1",
   "metadata": {
    "ExecuteTime": {
     "end_time": "2022-07-19T06:03:56.255368Z",
     "start_time": "2022-07-19T06:03:56.238362Z"
    }
   },
   "outputs": [
    {
     "data": {
      "text/plain": [
       "tensor([[ 60.,  45.],\n",
       "        [400., 112.]])"
      ]
     },
     "execution_count": 15,
     "metadata": {},
     "output_type": "execute_result"
    }
   ],
   "source": [
    "torch.stack((boxes[:, 0],boxes[:, 1]),axis=1)"
   ]
  },
  {
   "cell_type": "code",
   "execution_count": 17,
   "id": "c31b6080",
   "metadata": {
    "ExecuteTime": {
     "end_time": "2022-07-19T06:04:14.918166Z",
     "start_time": "2022-07-19T06:04:14.897189Z"
    }
   },
   "outputs": [
    {
     "data": {
      "text/plain": [
       "tensor([[ 60.,  45.],\n",
       "        [400., 112.]])"
      ]
     },
     "execution_count": 17,
     "metadata": {},
     "output_type": "execute_result"
    }
   ],
   "source": [
    "torch.stack((boxes[:, 0],boxes[:, 1]),axis=-1)"
   ]
  },
  {
   "cell_type": "code",
   "execution_count": 16,
   "id": "16f2d885",
   "metadata": {
    "ExecuteTime": {
     "end_time": "2022-07-19T06:03:57.310283Z",
     "start_time": "2022-07-19T06:03:57.302274Z"
    }
   },
   "outputs": [
    {
     "data": {
      "text/plain": [
       "tensor([[219.0000, 280.5000, 318.0000, 471.0000],\n",
       "        [527.5000, 302.5000, 255.0000, 381.0000]])"
      ]
     },
     "execution_count": 16,
     "metadata": {},
     "output_type": "execute_result"
    }
   ],
   "source": [
    "box_corner_to_center(boxes)"
   ]
  },
  {
   "cell_type": "code",
   "execution_count": 43,
   "id": "eafa04be",
   "metadata": {
    "ExecuteTime": {
     "end_time": "2022-06-23T03:07:16.929991Z",
     "start_time": "2022-06-23T03:07:16.918489Z"
    }
   },
   "outputs": [
    {
     "data": {
      "text/plain": [
       "[60.0, 45.0, 378.0, 516.0]"
      ]
     },
     "execution_count": 43,
     "metadata": {},
     "output_type": "execute_result"
    }
   ],
   "source": [
    "dog_bbox"
   ]
  },
  {
   "cell_type": "code",
   "execution_count": 44,
   "id": "ecd36277",
   "metadata": {
    "ExecuteTime": {
     "end_time": "2022-06-23T03:07:22.086645Z",
     "start_time": "2022-06-23T03:07:22.075644Z"
    }
   },
   "outputs": [
    {
     "data": {
      "text/plain": [
       "[400.0, 112.0, 655.0, 493.0]"
      ]
     },
     "execution_count": 44,
     "metadata": {},
     "output_type": "execute_result"
    }
   ],
   "source": [
    "cat_bbox"
   ]
  },
  {
   "cell_type": "code",
   "execution_count": 48,
   "id": "03fb46f0",
   "metadata": {
    "ExecuteTime": {
     "end_time": "2022-06-23T03:11:25.480552Z",
     "start_time": "2022-06-23T03:11:25.469551Z"
    }
   },
   "outputs": [],
   "source": [
    "def bbox_to_rect(bbox,color):\n",
    "    return plt.Rectangle(xy=(bbox[0],bbox[1]),width=bbox[2]-bbox[0],height=bbox[3]-bbox[1],\n",
    "                        fill=False,edgecolor=color,linewidth=2)"
   ]
  },
  {
   "cell_type": "code",
   "execution_count": 53,
   "id": "d15465bf",
   "metadata": {
    "ExecuteTime": {
     "end_time": "2022-06-23T05:35:33.491210Z",
     "start_time": "2022-06-23T05:35:33.429703Z"
    }
   },
   "outputs": [],
   "source": [
    "plt.imshow(img)\n",
    "plt.gca().add_patch(bbox_to_rect(dog_bbox, 'blue'))\n",
    "plt.gca().add_patch(bbox_to_rect(cat_bbox, 'red'))\n",
    "plt.show()"
   ]
  },
  {
   "cell_type": "code",
   "execution_count": 54,
   "id": "de7adc62",
   "metadata": {
    "ExecuteTime": {
     "end_time": "2022-06-23T08:06:24.315019Z",
     "start_time": "2022-06-23T08:06:24.243510Z"
    }
   },
   "outputs": [
    {
     "data": {
      "text/plain": [
       "<matplotlib.image.AxesImage at 0xe537e20>"
      ]
     },
     "execution_count": 54,
     "metadata": {},
     "output_type": "execute_result"
    }
   ],
   "source": [
    "plt.imshow(img)"
   ]
  },
  {
   "cell_type": "code",
   "execution_count": null,
   "id": "e1f3b868",
   "metadata": {},
   "outputs": [],
   "source": []
  }
 ],
 "metadata": {
  "kernelspec": {
   "display_name": "Python 3",
   "language": "python",
   "name": "python3"
  },
  "language_info": {
   "codemirror_mode": {
    "name": "ipython",
    "version": 3
   },
   "file_extension": ".py",
   "mimetype": "text/x-python",
   "name": "python",
   "nbconvert_exporter": "python",
   "pygments_lexer": "ipython3",
   "version": "3.8.8"
  }
 },
 "nbformat": 4,
 "nbformat_minor": 5
}
