{
 "cells": [
  {
   "cell_type": "code",
   "execution_count": 1,
   "id": "572a454d",
   "metadata": {
    "ExecuteTime": {
     "end_time": "2022-06-27T08:43:52.026511Z",
     "start_time": "2022-06-27T08:43:36.337018Z"
    }
   },
   "outputs": [
    {
     "name": "stdout",
     "output_type": "stream",
     "text": [
      "Using matplotlib backend: Qt5Agg\n"
     ]
    }
   ],
   "source": [
    "import matplotlib.pyplot as plt\n",
    "import torch\n",
    "%matplotlib auto"
   ]
  },
  {
   "cell_type": "code",
   "execution_count": 2,
   "id": "ff4c2a4e",
   "metadata": {
    "ExecuteTime": {
     "end_time": "2022-06-27T08:43:52.082518Z",
     "start_time": "2022-06-27T08:43:52.030511Z"
    }
   },
   "outputs": [
    {
     "data": {
      "text/plain": [
       "tensor([0.5000, 1.5000, 2.5000, 3.5000, 4.5000, 5.5000, 6.5000, 7.5000, 8.5000,\n",
       "        9.5000])"
      ]
     },
     "execution_count": 2,
     "metadata": {},
     "output_type": "execute_result"
    }
   ],
   "source": [
    "(torch.arange(10)+0.5)"
   ]
  },
  {
   "cell_type": "code",
   "execution_count": 3,
   "id": "75a0e601",
   "metadata": {
    "ExecuteTime": {
     "end_time": "2022-06-27T08:43:52.089519Z",
     "start_time": "2022-06-27T08:43:52.084518Z"
    }
   },
   "outputs": [
    {
     "data": {
      "text/plain": [
       "tensor([0.0500, 0.1500, 0.2500, 0.3500, 0.4500, 0.5500, 0.6500, 0.7500, 0.8500,\n",
       "        0.9500])"
      ]
     },
     "execution_count": 3,
     "metadata": {},
     "output_type": "execute_result"
    }
   ],
   "source": [
    "(torch.arange(10)+0.5)/10"
   ]
  },
  {
   "cell_type": "code",
   "execution_count": 26,
   "id": "ef274774",
   "metadata": {
    "ExecuteTime": {
     "end_time": "2022-06-27T09:15:16.392295Z",
     "start_time": "2022-06-27T09:15:16.376293Z"
    }
   },
   "outputs": [],
   "source": [
    "def multibox_prior(data,sizes,ratios):\n",
    "    in_height,in_width=data.shape[-2:]\n",
    "    device,num_sizes,num_ratios=data.device,len(sizes),len(ratios)\n",
    "    boxes_per_pixel=(num_sizes+num_ratios-1)\n",
    "    size_tensor=torch.tensor(sizes,device=device)\n",
    "    ratio_tensor=torch.tensor(ratios,device=device)\n",
    "    \n",
    "    offset_h,offset_w=0.5,0.5\n",
    "    steps_h=1.0/in_height\n",
    "    steps_w=1.0/in_width\n",
    "    \n",
    "    center_h=(torch.arange(in_height,device=device)+offset_h)*steps_h\n",
    "    center_w=(torch.arange(in_width,device=device)+offset_w)*steps_w\n",
    "    shift_y,shift_x=torch.meshgrid(center_h,center_w)\n",
    "    shift_y,shift_x=shift_y.reshape(-1),shift_x.reshape(-1)\n",
    "    print('in_height',in_height)\n",
    "    print('center_h',center_h.shape)\n",
    "    print('center_h',center_h)\n",
    "    \n",
    "    \n",
    "    w=torch.cat((size_tensor * torch.sqrt(ratio_tensor[0]),sizes[0] * torch.sqrt(ratio_tensor[1:])))*in_height/in_width\n",
    "    h=torch.cat((size_tensor/torch.sqrt(ratio_tensor[0]),sizes[0]/torch.sqrt(ratio_tensor[1:])))\n",
    "    print('w',w)\n",
    "    print('size_tensor',size_tensor)\n",
    "    \n",
    "    anchor_manipulations=torch.stack((-w,-h,w,h)).T.repeat(in_height*in_width,1)/2\n",
    "    print('w : ',w.shape)\n",
    "    print('h : ',h.shape)\n",
    "    print('w,h : ' ,torch.stack((-w,-h,w,h)).shape)\n",
    "    print('anchor_manipulations',anchor_manipulations.shape)\n",
    "    print('anchor_manipulations : ',torch.stack((-w,-h,w,h)).T/2)\n",
    "    print(anchor_manipulations[:100,:] )\n",
    "    \n",
    "    out_grid=torch.stack([shift_x,shift_y,shift_x,shift_y],dim=1).repeat_interleave(boxes_per_pixel,dim=0)\n",
    "    print('out_grid',torch.stack([shift_x,shift_y,shift_x,shift_y],dim=1).shape)\n",
    "    output=out_grid+anchor_manipulations\n",
    "    return output.unsqueeze(0)\n",
    "    \n",
    "    "
   ]
  },
  {
   "cell_type": "code",
   "execution_count": 27,
   "id": "7adf105f",
   "metadata": {
    "ExecuteTime": {
     "end_time": "2022-06-27T09:15:16.801847Z",
     "start_time": "2022-06-27T09:15:16.795846Z"
    }
   },
   "outputs": [
    {
     "name": "stdout",
     "output_type": "stream",
     "text": [
      "tensor([[1, 2, 3],\n",
      "        [1, 2, 3]])\n",
      "tensor([[1, 2, 3, 1, 2, 3, 1, 2, 3],\n",
      "        [1, 2, 3, 1, 2, 3, 1, 2, 3],\n",
      "        [1, 2, 3, 1, 2, 3, 1, 2, 3],\n",
      "        [1, 2, 3, 1, 2, 3, 1, 2, 3]])\n"
     ]
    }
   ],
   "source": [
    "a=torch.tensor([[1,2,3],[1,2,3]])\n",
    "print(a)\n",
    "print(a.repeat(2,3))"
   ]
  },
  {
   "cell_type": "code",
   "execution_count": 28,
   "id": "f6c29833",
   "metadata": {
    "ExecuteTime": {
     "end_time": "2022-06-27T09:15:17.446929Z",
     "start_time": "2022-06-27T09:15:17.315412Z"
    }
   },
   "outputs": [
    {
     "name": "stdout",
     "output_type": "stream",
     "text": [
      "561 728\n",
      "in_height 561\n",
      "center_h torch.Size([561])\n",
      "center_h tensor([8.9127e-04, 2.6738e-03, 4.4563e-03, 6.2389e-03, 8.0214e-03, 9.8039e-03,\n",
      "        1.1586e-02, 1.3369e-02, 1.5152e-02, 1.6934e-02, 1.8717e-02, 2.0499e-02,\n",
      "        2.2282e-02, 2.4064e-02, 2.5847e-02, 2.7629e-02, 2.9412e-02, 3.1194e-02,\n",
      "        3.2977e-02, 3.4759e-02, 3.6542e-02, 3.8324e-02, 4.0107e-02, 4.1889e-02,\n",
      "        4.3672e-02, 4.5455e-02, 4.7237e-02, 4.9020e-02, 5.0802e-02, 5.2585e-02,\n",
      "        5.4367e-02, 5.6150e-02, 5.7932e-02, 5.9715e-02, 6.1497e-02, 6.3280e-02,\n",
      "        6.5062e-02, 6.6845e-02, 6.8627e-02, 7.0410e-02, 7.2193e-02, 7.3975e-02,\n",
      "        7.5758e-02, 7.7540e-02, 7.9323e-02, 8.1105e-02, 8.2888e-02, 8.4670e-02,\n",
      "        8.6453e-02, 8.8235e-02, 9.0018e-02, 9.1800e-02, 9.3583e-02, 9.5365e-02,\n",
      "        9.7148e-02, 9.8930e-02, 1.0071e-01, 1.0250e-01, 1.0428e-01, 1.0606e-01,\n",
      "        1.0784e-01, 1.0963e-01, 1.1141e-01, 1.1319e-01, 1.1497e-01, 1.1676e-01,\n",
      "        1.1854e-01, 1.2032e-01, 1.2210e-01, 1.2389e-01, 1.2567e-01, 1.2745e-01,\n",
      "        1.2923e-01, 1.3102e-01, 1.3280e-01, 1.3458e-01, 1.3636e-01, 1.3815e-01,\n",
      "        1.3993e-01, 1.4171e-01, 1.4349e-01, 1.4528e-01, 1.4706e-01, 1.4884e-01,\n",
      "        1.5062e-01, 1.5241e-01, 1.5419e-01, 1.5597e-01, 1.5775e-01, 1.5954e-01,\n",
      "        1.6132e-01, 1.6310e-01, 1.6488e-01, 1.6667e-01, 1.6845e-01, 1.7023e-01,\n",
      "        1.7201e-01, 1.7380e-01, 1.7558e-01, 1.7736e-01, 1.7914e-01, 1.8093e-01,\n",
      "        1.8271e-01, 1.8449e-01, 1.8627e-01, 1.8806e-01, 1.8984e-01, 1.9162e-01,\n",
      "        1.9340e-01, 1.9519e-01, 1.9697e-01, 1.9875e-01, 2.0053e-01, 2.0232e-01,\n",
      "        2.0410e-01, 2.0588e-01, 2.0766e-01, 2.0945e-01, 2.1123e-01, 2.1301e-01,\n",
      "        2.1480e-01, 2.1658e-01, 2.1836e-01, 2.2014e-01, 2.2193e-01, 2.2371e-01,\n",
      "        2.2549e-01, 2.2727e-01, 2.2906e-01, 2.3084e-01, 2.3262e-01, 2.3440e-01,\n",
      "        2.3619e-01, 2.3797e-01, 2.3975e-01, 2.4153e-01, 2.4332e-01, 2.4510e-01,\n",
      "        2.4688e-01, 2.4866e-01, 2.5045e-01, 2.5223e-01, 2.5401e-01, 2.5579e-01,\n",
      "        2.5758e-01, 2.5936e-01, 2.6114e-01, 2.6292e-01, 2.6471e-01, 2.6649e-01,\n",
      "        2.6827e-01, 2.7005e-01, 2.7184e-01, 2.7362e-01, 2.7540e-01, 2.7718e-01,\n",
      "        2.7897e-01, 2.8075e-01, 2.8253e-01, 2.8431e-01, 2.8610e-01, 2.8788e-01,\n",
      "        2.8966e-01, 2.9144e-01, 2.9323e-01, 2.9501e-01, 2.9679e-01, 2.9857e-01,\n",
      "        3.0036e-01, 3.0214e-01, 3.0392e-01, 3.0570e-01, 3.0749e-01, 3.0927e-01,\n",
      "        3.1105e-01, 3.1283e-01, 3.1462e-01, 3.1640e-01, 3.1818e-01, 3.1996e-01,\n",
      "        3.2175e-01, 3.2353e-01, 3.2531e-01, 3.2709e-01, 3.2888e-01, 3.3066e-01,\n",
      "        3.3244e-01, 3.3422e-01, 3.3601e-01, 3.3779e-01, 3.3957e-01, 3.4135e-01,\n",
      "        3.4314e-01, 3.4492e-01, 3.4670e-01, 3.4848e-01, 3.5027e-01, 3.5205e-01,\n",
      "        3.5383e-01, 3.5561e-01, 3.5740e-01, 3.5918e-01, 3.6096e-01, 3.6275e-01,\n",
      "        3.6453e-01, 3.6631e-01, 3.6809e-01, 3.6988e-01, 3.7166e-01, 3.7344e-01,\n",
      "        3.7522e-01, 3.7701e-01, 3.7879e-01, 3.8057e-01, 3.8235e-01, 3.8414e-01,\n",
      "        3.8592e-01, 3.8770e-01, 3.8948e-01, 3.9127e-01, 3.9305e-01, 3.9483e-01,\n",
      "        3.9661e-01, 3.9840e-01, 4.0018e-01, 4.0196e-01, 4.0374e-01, 4.0553e-01,\n",
      "        4.0731e-01, 4.0909e-01, 4.1087e-01, 4.1266e-01, 4.1444e-01, 4.1622e-01,\n",
      "        4.1800e-01, 4.1979e-01, 4.2157e-01, 4.2335e-01, 4.2513e-01, 4.2692e-01,\n",
      "        4.2870e-01, 4.3048e-01, 4.3226e-01, 4.3405e-01, 4.3583e-01, 4.3761e-01,\n",
      "        4.3939e-01, 4.4118e-01, 4.4296e-01, 4.4474e-01, 4.4652e-01, 4.4831e-01,\n",
      "        4.5009e-01, 4.5187e-01, 4.5365e-01, 4.5544e-01, 4.5722e-01, 4.5900e-01,\n",
      "        4.6078e-01, 4.6257e-01, 4.6435e-01, 4.6613e-01, 4.6791e-01, 4.6970e-01,\n",
      "        4.7148e-01, 4.7326e-01, 4.7504e-01, 4.7683e-01, 4.7861e-01, 4.8039e-01,\n",
      "        4.8217e-01, 4.8396e-01, 4.8574e-01, 4.8752e-01, 4.8930e-01, 4.9109e-01,\n",
      "        4.9287e-01, 4.9465e-01, 4.9643e-01, 4.9822e-01, 5.0000e-01, 5.0178e-01,\n",
      "        5.0357e-01, 5.0535e-01, 5.0713e-01, 5.0891e-01, 5.1070e-01, 5.1248e-01,\n",
      "        5.1426e-01, 5.1604e-01, 5.1783e-01, 5.1961e-01, 5.2139e-01, 5.2317e-01,\n",
      "        5.2496e-01, 5.2674e-01, 5.2852e-01, 5.3030e-01, 5.3209e-01, 5.3387e-01,\n",
      "        5.3565e-01, 5.3743e-01, 5.3922e-01, 5.4100e-01, 5.4278e-01, 5.4456e-01,\n",
      "        5.4635e-01, 5.4813e-01, 5.4991e-01, 5.5169e-01, 5.5348e-01, 5.5526e-01,\n",
      "        5.5704e-01, 5.5882e-01, 5.6061e-01, 5.6239e-01, 5.6417e-01, 5.6595e-01,\n",
      "        5.6774e-01, 5.6952e-01, 5.7130e-01, 5.7308e-01, 5.7487e-01, 5.7665e-01,\n",
      "        5.7843e-01, 5.8021e-01, 5.8200e-01, 5.8378e-01, 5.8556e-01, 5.8734e-01,\n",
      "        5.8913e-01, 5.9091e-01, 5.9269e-01, 5.9447e-01, 5.9626e-01, 5.9804e-01,\n",
      "        5.9982e-01, 6.0160e-01, 6.0339e-01, 6.0517e-01, 6.0695e-01, 6.0873e-01,\n",
      "        6.1052e-01, 6.1230e-01, 6.1408e-01, 6.1586e-01, 6.1765e-01, 6.1943e-01,\n",
      "        6.2121e-01, 6.2299e-01, 6.2478e-01, 6.2656e-01, 6.2834e-01, 6.3012e-01,\n",
      "        6.3191e-01, 6.3369e-01, 6.3547e-01, 6.3725e-01, 6.3904e-01, 6.4082e-01,\n",
      "        6.4260e-01, 6.4439e-01, 6.4617e-01, 6.4795e-01, 6.4973e-01, 6.5152e-01,\n",
      "        6.5330e-01, 6.5508e-01, 6.5686e-01, 6.5865e-01, 6.6043e-01, 6.6221e-01,\n",
      "        6.6399e-01, 6.6578e-01, 6.6756e-01, 6.6934e-01, 6.7112e-01, 6.7291e-01,\n",
      "        6.7469e-01, 6.7647e-01, 6.7825e-01, 6.8004e-01, 6.8182e-01, 6.8360e-01,\n",
      "        6.8538e-01, 6.8717e-01, 6.8895e-01, 6.9073e-01, 6.9251e-01, 6.9430e-01,\n",
      "        6.9608e-01, 6.9786e-01, 6.9964e-01, 7.0143e-01, 7.0321e-01, 7.0499e-01,\n",
      "        7.0677e-01, 7.0856e-01, 7.1034e-01, 7.1212e-01, 7.1390e-01, 7.1569e-01,\n",
      "        7.1747e-01, 7.1925e-01, 7.2103e-01, 7.2282e-01, 7.2460e-01, 7.2638e-01,\n",
      "        7.2816e-01, 7.2995e-01, 7.3173e-01, 7.3351e-01, 7.3529e-01, 7.3708e-01,\n",
      "        7.3886e-01, 7.4064e-01, 7.4242e-01, 7.4421e-01, 7.4599e-01, 7.4777e-01,\n",
      "        7.4955e-01, 7.5134e-01, 7.5312e-01, 7.5490e-01, 7.5668e-01, 7.5847e-01,\n",
      "        7.6025e-01, 7.6203e-01, 7.6381e-01, 7.6560e-01, 7.6738e-01, 7.6916e-01,\n",
      "        7.7094e-01, 7.7273e-01, 7.7451e-01, 7.7629e-01, 7.7807e-01, 7.7986e-01,\n",
      "        7.8164e-01, 7.8342e-01, 7.8520e-01, 7.8699e-01, 7.8877e-01, 7.9055e-01,\n",
      "        7.9234e-01, 7.9412e-01, 7.9590e-01, 7.9768e-01, 7.9947e-01, 8.0125e-01,\n",
      "        8.0303e-01, 8.0481e-01, 8.0660e-01, 8.0838e-01, 8.1016e-01, 8.1194e-01,\n",
      "        8.1373e-01, 8.1551e-01, 8.1729e-01, 8.1907e-01, 8.2086e-01, 8.2264e-01,\n",
      "        8.2442e-01, 8.2620e-01, 8.2799e-01, 8.2977e-01, 8.3155e-01, 8.3333e-01,\n",
      "        8.3512e-01, 8.3690e-01, 8.3868e-01, 8.4046e-01, 8.4225e-01, 8.4403e-01,\n",
      "        8.4581e-01, 8.4759e-01, 8.4938e-01, 8.5116e-01, 8.5294e-01, 8.5472e-01,\n",
      "        8.5651e-01, 8.5829e-01, 8.6007e-01, 8.6185e-01, 8.6364e-01, 8.6542e-01,\n",
      "        8.6720e-01, 8.6898e-01, 8.7077e-01, 8.7255e-01, 8.7433e-01, 8.7611e-01,\n",
      "        8.7790e-01, 8.7968e-01, 8.8146e-01, 8.8324e-01, 8.8503e-01, 8.8681e-01,\n",
      "        8.8859e-01, 8.9037e-01, 8.9216e-01, 8.9394e-01, 8.9572e-01, 8.9750e-01,\n",
      "        8.9929e-01, 9.0107e-01, 9.0285e-01, 9.0463e-01, 9.0642e-01, 9.0820e-01,\n",
      "        9.0998e-01, 9.1176e-01, 9.1355e-01, 9.1533e-01, 9.1711e-01, 9.1889e-01,\n",
      "        9.2068e-01, 9.2246e-01, 9.2424e-01, 9.2602e-01, 9.2781e-01, 9.2959e-01,\n",
      "        9.3137e-01, 9.3316e-01, 9.3494e-01, 9.3672e-01, 9.3850e-01, 9.4029e-01,\n",
      "        9.4207e-01, 9.4385e-01, 9.4563e-01, 9.4742e-01, 9.4920e-01, 9.5098e-01,\n",
      "        9.5276e-01, 9.5455e-01, 9.5633e-01, 9.5811e-01, 9.5989e-01, 9.6168e-01,\n",
      "        9.6346e-01, 9.6524e-01, 9.6702e-01, 9.6881e-01, 9.7059e-01, 9.7237e-01,\n",
      "        9.7415e-01, 9.7594e-01, 9.7772e-01, 9.7950e-01, 9.8128e-01, 9.8307e-01,\n",
      "        9.8485e-01, 9.8663e-01, 9.8841e-01, 9.9020e-01, 9.9198e-01, 9.9376e-01,\n",
      "        9.9554e-01, 9.9733e-01, 9.9911e-01])\n",
      "w tensor([0.5780, 0.3853, 0.1927, 0.8173, 0.4087])\n",
      "size_tensor tensor([0.7500, 0.5000, 0.2500])\n",
      "w :  torch.Size([5])\n",
      "h :  torch.Size([5])\n",
      "w,h :  torch.Size([4, 5])\n",
      "anchor_manipulations torch.Size([2042040, 4])\n",
      "anchor_manipulations :  tensor([[-0.2890, -0.3750,  0.2890,  0.3750],\n",
      "        [-0.1927, -0.2500,  0.1927,  0.2500],\n",
      "        [-0.0963, -0.1250,  0.0963,  0.1250],\n",
      "        [-0.4087, -0.2652,  0.4087,  0.2652],\n",
      "        [-0.2043, -0.5303,  0.2043,  0.5303]])\n",
      "tensor([[-0.2890, -0.3750,  0.2890,  0.3750],\n",
      "        [-0.1927, -0.2500,  0.1927,  0.2500],\n",
      "        [-0.0963, -0.1250,  0.0963,  0.1250],\n",
      "        [-0.4087, -0.2652,  0.4087,  0.2652],\n",
      "        [-0.2043, -0.5303,  0.2043,  0.5303],\n",
      "        [-0.2890, -0.3750,  0.2890,  0.3750],\n",
      "        [-0.1927, -0.2500,  0.1927,  0.2500],\n",
      "        [-0.0963, -0.1250,  0.0963,  0.1250],\n",
      "        [-0.4087, -0.2652,  0.4087,  0.2652],\n",
      "        [-0.2043, -0.5303,  0.2043,  0.5303],\n",
      "        [-0.2890, -0.3750,  0.2890,  0.3750],\n",
      "        [-0.1927, -0.2500,  0.1927,  0.2500],\n",
      "        [-0.0963, -0.1250,  0.0963,  0.1250],\n",
      "        [-0.4087, -0.2652,  0.4087,  0.2652],\n",
      "        [-0.2043, -0.5303,  0.2043,  0.5303],\n",
      "        [-0.2890, -0.3750,  0.2890,  0.3750],\n",
      "        [-0.1927, -0.2500,  0.1927,  0.2500],\n",
      "        [-0.0963, -0.1250,  0.0963,  0.1250],\n",
      "        [-0.4087, -0.2652,  0.4087,  0.2652],\n",
      "        [-0.2043, -0.5303,  0.2043,  0.5303],\n",
      "        [-0.2890, -0.3750,  0.2890,  0.3750],\n",
      "        [-0.1927, -0.2500,  0.1927,  0.2500],\n",
      "        [-0.0963, -0.1250,  0.0963,  0.1250],\n",
      "        [-0.4087, -0.2652,  0.4087,  0.2652],\n",
      "        [-0.2043, -0.5303,  0.2043,  0.5303],\n",
      "        [-0.2890, -0.3750,  0.2890,  0.3750],\n",
      "        [-0.1927, -0.2500,  0.1927,  0.2500],\n",
      "        [-0.0963, -0.1250,  0.0963,  0.1250],\n",
      "        [-0.4087, -0.2652,  0.4087,  0.2652],\n",
      "        [-0.2043, -0.5303,  0.2043,  0.5303],\n",
      "        [-0.2890, -0.3750,  0.2890,  0.3750],\n",
      "        [-0.1927, -0.2500,  0.1927,  0.2500],\n",
      "        [-0.0963, -0.1250,  0.0963,  0.1250],\n",
      "        [-0.4087, -0.2652,  0.4087,  0.2652],\n",
      "        [-0.2043, -0.5303,  0.2043,  0.5303],\n",
      "        [-0.2890, -0.3750,  0.2890,  0.3750],\n",
      "        [-0.1927, -0.2500,  0.1927,  0.2500],\n",
      "        [-0.0963, -0.1250,  0.0963,  0.1250],\n",
      "        [-0.4087, -0.2652,  0.4087,  0.2652],\n",
      "        [-0.2043, -0.5303,  0.2043,  0.5303],\n",
      "        [-0.2890, -0.3750,  0.2890,  0.3750],\n",
      "        [-0.1927, -0.2500,  0.1927,  0.2500],\n",
      "        [-0.0963, -0.1250,  0.0963,  0.1250],\n",
      "        [-0.4087, -0.2652,  0.4087,  0.2652],\n",
      "        [-0.2043, -0.5303,  0.2043,  0.5303],\n",
      "        [-0.2890, -0.3750,  0.2890,  0.3750],\n",
      "        [-0.1927, -0.2500,  0.1927,  0.2500],\n",
      "        [-0.0963, -0.1250,  0.0963,  0.1250],\n",
      "        [-0.4087, -0.2652,  0.4087,  0.2652],\n",
      "        [-0.2043, -0.5303,  0.2043,  0.5303],\n",
      "        [-0.2890, -0.3750,  0.2890,  0.3750],\n",
      "        [-0.1927, -0.2500,  0.1927,  0.2500],\n",
      "        [-0.0963, -0.1250,  0.0963,  0.1250],\n",
      "        [-0.4087, -0.2652,  0.4087,  0.2652],\n",
      "        [-0.2043, -0.5303,  0.2043,  0.5303],\n",
      "        [-0.2890, -0.3750,  0.2890,  0.3750],\n",
      "        [-0.1927, -0.2500,  0.1927,  0.2500],\n",
      "        [-0.0963, -0.1250,  0.0963,  0.1250],\n",
      "        [-0.4087, -0.2652,  0.4087,  0.2652],\n",
      "        [-0.2043, -0.5303,  0.2043,  0.5303],\n",
      "        [-0.2890, -0.3750,  0.2890,  0.3750],\n",
      "        [-0.1927, -0.2500,  0.1927,  0.2500],\n",
      "        [-0.0963, -0.1250,  0.0963,  0.1250],\n",
      "        [-0.4087, -0.2652,  0.4087,  0.2652],\n",
      "        [-0.2043, -0.5303,  0.2043,  0.5303],\n",
      "        [-0.2890, -0.3750,  0.2890,  0.3750],\n",
      "        [-0.1927, -0.2500,  0.1927,  0.2500],\n",
      "        [-0.0963, -0.1250,  0.0963,  0.1250],\n",
      "        [-0.4087, -0.2652,  0.4087,  0.2652],\n",
      "        [-0.2043, -0.5303,  0.2043,  0.5303],\n",
      "        [-0.2890, -0.3750,  0.2890,  0.3750],\n",
      "        [-0.1927, -0.2500,  0.1927,  0.2500],\n",
      "        [-0.0963, -0.1250,  0.0963,  0.1250],\n",
      "        [-0.4087, -0.2652,  0.4087,  0.2652],\n",
      "        [-0.2043, -0.5303,  0.2043,  0.5303],\n",
      "        [-0.2890, -0.3750,  0.2890,  0.3750],\n",
      "        [-0.1927, -0.2500,  0.1927,  0.2500],\n",
      "        [-0.0963, -0.1250,  0.0963,  0.1250],\n",
      "        [-0.4087, -0.2652,  0.4087,  0.2652],\n",
      "        [-0.2043, -0.5303,  0.2043,  0.5303],\n",
      "        [-0.2890, -0.3750,  0.2890,  0.3750],\n",
      "        [-0.1927, -0.2500,  0.1927,  0.2500],\n",
      "        [-0.0963, -0.1250,  0.0963,  0.1250],\n",
      "        [-0.4087, -0.2652,  0.4087,  0.2652],\n",
      "        [-0.2043, -0.5303,  0.2043,  0.5303],\n",
      "        [-0.2890, -0.3750,  0.2890,  0.3750],\n",
      "        [-0.1927, -0.2500,  0.1927,  0.2500],\n",
      "        [-0.0963, -0.1250,  0.0963,  0.1250],\n",
      "        [-0.4087, -0.2652,  0.4087,  0.2652],\n",
      "        [-0.2043, -0.5303,  0.2043,  0.5303],\n",
      "        [-0.2890, -0.3750,  0.2890,  0.3750],\n",
      "        [-0.1927, -0.2500,  0.1927,  0.2500],\n",
      "        [-0.0963, -0.1250,  0.0963,  0.1250],\n",
      "        [-0.4087, -0.2652,  0.4087,  0.2652],\n",
      "        [-0.2043, -0.5303,  0.2043,  0.5303],\n",
      "        [-0.2890, -0.3750,  0.2890,  0.3750],\n",
      "        [-0.1927, -0.2500,  0.1927,  0.2500],\n",
      "        [-0.0963, -0.1250,  0.0963,  0.1250],\n",
      "        [-0.4087, -0.2652,  0.4087,  0.2652],\n",
      "        [-0.2043, -0.5303,  0.2043,  0.5303]])\n",
      "out_grid torch.Size([408408, 4])\n"
     ]
    },
    {
     "data": {
      "text/plain": [
       "torch.Size([1, 2042040, 4])"
      ]
     },
     "execution_count": 28,
     "metadata": {},
     "output_type": "execute_result"
    }
   ],
   "source": [
    "img_path=r'F:\\study\\ml\\LM\\image\\13\\catdog.jpg'\n",
    "img=plt.imread(img_path)\n",
    "\n",
    "h,w=img.shape[:2]\n",
    "print(h,w)\n",
    "X=torch.rand(size=(1,3,h,w))\n",
    "Y=multibox_prior(X,sizes=[0.75,0.5,0.25],ratios=[1,2,0.5])\n",
    "Y.shape"
   ]
  },
  {
   "cell_type": "code",
   "execution_count": 6,
   "id": "7a083747",
   "metadata": {
    "ExecuteTime": {
     "end_time": "2022-06-27T08:44:30.658916Z",
     "start_time": "2022-06-27T08:44:30.649915Z"
    }
   },
   "outputs": [
    {
     "data": {
      "text/plain": [
       "2042040"
      ]
     },
     "execution_count": 6,
     "metadata": {},
     "output_type": "execute_result"
    }
   ],
   "source": [
    "561*728*5"
   ]
  },
  {
   "cell_type": "code",
   "execution_count": 20,
   "id": "7f68340c",
   "metadata": {
    "ExecuteTime": {
     "end_time": "2022-06-24T07:49:10.068179Z",
     "start_time": "2022-06-24T07:49:10.058678Z"
    }
   },
   "outputs": [
    {
     "data": {
      "text/plain": [
       "0.00089126559714795"
      ]
     },
     "execution_count": 20,
     "metadata": {},
     "output_type": "execute_result"
    }
   ],
   "source": [
    "0.5/561"
   ]
  },
  {
   "cell_type": "code",
   "execution_count": 13,
   "id": "db2e8090",
   "metadata": {
    "ExecuteTime": {
     "end_time": "2022-06-24T07:46:43.483565Z",
     "start_time": "2022-06-24T07:46:43.474564Z"
    }
   },
   "outputs": [
    {
     "data": {
      "text/plain": [
       "torch.Size([1, 3, 561, 728])"
      ]
     },
     "execution_count": 13,
     "metadata": {},
     "output_type": "execute_result"
    }
   ],
   "source": [
    "X.shape"
   ]
  },
  {
   "cell_type": "code",
   "execution_count": 12,
   "id": "0c6a8394",
   "metadata": {
    "ExecuteTime": {
     "end_time": "2022-06-24T06:37:35.009276Z",
     "start_time": "2022-06-24T06:37:34.998275Z"
    }
   },
   "outputs": [
    {
     "data": {
      "text/plain": [
       "72.0"
      ]
     },
     "execution_count": 12,
     "metadata": {},
     "output_type": "execute_result"
    }
   ],
   "source": [
    "80/300*270"
   ]
  },
  {
   "cell_type": "code",
   "execution_count": 21,
   "id": "5fc2eb87",
   "metadata": {
    "ExecuteTime": {
     "end_time": "2022-06-23T07:03:15.860946Z",
     "start_time": "2022-06-23T07:03:15.848445Z"
    }
   },
   "outputs": [
    {
     "data": {
      "text/plain": [
       "408408"
      ]
     },
     "execution_count": 21,
     "metadata": {},
     "output_type": "execute_result"
    }
   ],
   "source": [
    "561 * 728"
   ]
  },
  {
   "cell_type": "code",
   "execution_count": 22,
   "id": "ae2f5cc9",
   "metadata": {
    "ExecuteTime": {
     "end_time": "2022-06-23T07:03:30.739836Z",
     "start_time": "2022-06-23T07:03:30.727334Z"
    }
   },
   "outputs": [
    {
     "data": {
      "text/plain": [
       "5.0"
      ]
     },
     "execution_count": 22,
     "metadata": {},
     "output_type": "execute_result"
    }
   ],
   "source": [
    "2042040/408408"
   ]
  },
  {
   "cell_type": "code",
   "execution_count": 36,
   "id": "1d8fa03a",
   "metadata": {
    "ExecuteTime": {
     "end_time": "2022-06-27T09:37:02.611664Z",
     "start_time": "2022-06-27T09:37:02.607663Z"
    }
   },
   "outputs": [],
   "source": [
    "def bbox_to_rect(bbox,color):\n",
    "    return plt.Rectangle(xy=(bbox[0],bbox[1]),width=bbox[2]-bbox[0],height=bbox[3]-bbox[1],\n",
    "                        fill=False,edgecolor=color,linewidth=2)"
   ]
  },
  {
   "cell_type": "code",
   "execution_count": 37,
   "id": "b9f6c19d",
   "metadata": {
    "ExecuteTime": {
     "end_time": "2022-06-27T09:37:03.160233Z",
     "start_time": "2022-06-27T09:37:03.149732Z"
    }
   },
   "outputs": [],
   "source": [
    "def show_bboxes(axes,bboxes,labels=None,colors=None):\n",
    "    def _make_list(obj,default_values=None):\n",
    "        if obj is None:\n",
    "            obj=default_values\n",
    "        elif not isinstance(obj,(list,tuple)):\n",
    "            obj=[obj]\n",
    "        return obj\n",
    "    labels=_make_list(labels)\n",
    "    colors=_make_list(colors,['b','g','r','m','c'])\n",
    "    for i,bbox in enumerate(bboxes):\n",
    "        color=colors[i % len(colors)]\n",
    "        rect=bbox_to_rect(bbox.detach().numpy(),color)\n",
    "        plt.gca().add_patch(rect)\n",
    "        if labels and  len(labels) > i:\n",
    "            text_color='k' if color=='w' else 'w'\n",
    "            plt.text(rect.xy[0],rect.xy[1],labels[i],va='center',ha='center',fontsize=9,color=text_color,bbox=dict(facecolor=color,lw=0))\n",
    "    \n",
    "    "
   ]
  },
  {
   "cell_type": "code",
   "execution_count": 38,
   "id": "73424121",
   "metadata": {
    "ExecuteTime": {
     "end_time": "2022-06-27T09:37:03.535781Z",
     "start_time": "2022-06-27T09:37:03.530780Z"
    }
   },
   "outputs": [
    {
     "data": {
      "text/plain": [
       "tensor([0.0551, 0.0715, 0.6331, 0.8215])"
      ]
     },
     "execution_count": 38,
     "metadata": {},
     "output_type": "execute_result"
    }
   ],
   "source": [
    "boxes = Y.reshape(h, w, 5, 4)\n",
    "boxes[250, 250, 0, :]"
   ]
  },
  {
   "cell_type": "code",
   "execution_count": 39,
   "id": "e02c1ae0",
   "metadata": {
    "ExecuteTime": {
     "end_time": "2022-06-27T09:37:03.982838Z",
     "start_time": "2022-06-27T09:37:03.955334Z"
    }
   },
   "outputs": [],
   "source": [
    "bbox_scale = torch.tensor((w, h, w, h))\n",
    "show_bboxes(img, boxes[250, 250, :, :] * bbox_scale,\n",
    "['s=0.75, r=1', 's=0.5, r=1', 's=0.25, r=1', 's=0.75, r=2','s=0.75, r=0.5'])\n",
    "plt.show()"
   ]
  },
  {
   "cell_type": "code",
   "execution_count": 40,
   "id": "ca7244cd",
   "metadata": {
    "ExecuteTime": {
     "end_time": "2022-06-27T09:37:09.133492Z",
     "start_time": "2022-06-27T09:37:09.125491Z"
    }
   },
   "outputs": [],
   "source": [
    "def show_bboxes(axes, bboxes, labels=None, colors=None):\n",
    "    \"\"\"显⽰所有边界框\"\"\"\n",
    "    def _make_list(obj, default_values=None):\n",
    "        if obj is None:\n",
    "            obj = default_values\n",
    "        elif not isinstance(obj, (list, tuple)):\n",
    "            obj = [obj]\n",
    "        return obj\n",
    "    labels = _make_list(labels)\n",
    "    colors = _make_list(colors, ['b', 'g', 'r', 'm', 'c'])\n",
    "    print(labels)\n",
    "    print(colors)\n",
    "    plt.imshow(img)\n",
    "    for i, bbox in enumerate(bboxes):\n",
    "        color = colors[i % len(colors)]\n",
    "        rect = bbox_to_rect(bbox.detach().numpy(), color)\n",
    "        print(rect)\n",
    "        plt.gca().add_patch(rect)\n",
    "        if labels and len(labels) > i:\n",
    "            text_color = 'k' if color == 'w' else 'w'\n",
    "            plt.text(rect.xy[0], rect.xy[1], labels[i],va='center', ha='center', fontsize=9, \n",
    "                      color=text_color,bbox=dict(facecolor=color, lw=0))\n",
    "    plt.show()"
   ]
  },
  {
   "cell_type": "code",
   "execution_count": 41,
   "id": "f53d0510",
   "metadata": {
    "ExecuteTime": {
     "end_time": "2022-06-27T09:37:10.239132Z",
     "start_time": "2022-06-27T09:37:10.172624Z"
    }
   },
   "outputs": [
    {
     "name": "stdout",
     "output_type": "stream",
     "text": [
      "['s=0.75, r=1', 's=0.5, r=1', 's=0.25, r=1', 's=0.75, r=2', 's=0.75, r=0.5']\n",
      "['b', 'g', 'r', 'm', 'c']\n",
      "Rectangle(xy=(40.125, 40.125), width=420.75, height=420.75, angle=0)\n",
      "Rectangle(xy=(110.25, 110.25), width=280.5, height=280.5, angle=0)\n",
      "Rectangle(xy=(180.375, 180.375), width=140.25, height=140.25, angle=0)\n",
      "Rectangle(xy=(-47.0152, 101.742), width=595.03, height=297.515, angle=0)\n",
      "Rectangle(xy=(101.742, -47.0152), width=297.515, height=595.03, angle=0)\n"
     ]
    }
   ],
   "source": [
    "img_path=r'F:\\study\\ml\\LM\\image\\13\\catdog.jpg'\n",
    "img=plt.imread(img_path)\n",
    "\n",
    "h,w=img.shape[:2]\n",
    "\n",
    "bbox_scale = torch.tensor((w, h, w, h))\n",
    "show_bboxes(img, boxes[250, 250, :, :] * bbox_scale,['s=0.75, r=1', 's=0.5, r=1', 's=0.25, r=1', 's=0.75, r=2','s=0.75, r=0.5'])\n"
   ]
  },
  {
   "cell_type": "code",
   "execution_count": 42,
   "id": "709f578d",
   "metadata": {
    "ExecuteTime": {
     "end_time": "2022-06-27T10:00:10.572412Z",
     "start_time": "2022-06-27T10:00:10.548409Z"
    }
   },
   "outputs": [],
   "source": [
    "def box_iou(boxes1,boxes2):\n",
    "    box_area=lambda boxes :((boxes[:,2]-boxes[:,0]) *\n",
    "                           (boxes[:,3]-boxes[:,1]))\n",
    "    areas1=box_area(boxes1)\n",
    "    areas2=box_area(boxes2)\n",
    "    inter_upperlefts=torch.max(boxes1[:,None,:2],boxes2[:,:2])\n",
    "    inter_lowerrights=torch.min(boxes1[:,None,2:],boxes2[:,2:])\n",
    "    inters=(inter_lowerrights-inter_upperlefts).clamp(min=0)\n",
    "    inter_areas=inters[:,:,0]*inters[:,:,1]\n",
    "    union_areas=areas1[:,None]+areas2-inter_areas\n",
    "    return inter_areas/union_areas"
   ]
  },
  {
   "cell_type": "code",
   "execution_count": null,
   "id": "f83f2079",
   "metadata": {},
   "outputs": [],
   "source": []
  }
 ],
 "metadata": {
  "kernelspec": {
   "display_name": "Python 3",
   "language": "python",
   "name": "python3"
  },
  "language_info": {
   "codemirror_mode": {
    "name": "ipython",
    "version": 3
   },
   "file_extension": ".py",
   "mimetype": "text/x-python",
   "name": "python",
   "nbconvert_exporter": "python",
   "pygments_lexer": "ipython3",
   "version": "3.8.8"
  }
 },
 "nbformat": 4,
 "nbformat_minor": 5
}
