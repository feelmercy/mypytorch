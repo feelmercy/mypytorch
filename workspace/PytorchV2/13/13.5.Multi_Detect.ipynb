{
 "cells": [
  {
   "cell_type": "code",
   "execution_count": 1,
   "id": "cfd1e81a",
   "metadata": {
    "ExecuteTime": {
     "end_time": "2022-07-29T06:03:44.223148Z",
     "start_time": "2022-07-29T06:03:32.399889Z"
    }
   },
   "outputs": [
    {
     "name": "stdout",
     "output_type": "stream",
     "text": [
      "Using matplotlib backend: Qt5Agg\n"
     ]
    }
   ],
   "source": [
    "import numpy as np\n",
    "import torch \n",
    "import matplotlib.pyplot as plt\n",
    "%matplotlib auto"
   ]
  },
  {
   "cell_type": "code",
   "execution_count": 2,
   "id": "463a50d7",
   "metadata": {
    "ExecuteTime": {
     "end_time": "2022-07-29T06:03:45.893963Z",
     "start_time": "2022-07-29T06:03:45.854963Z"
    }
   },
   "outputs": [
    {
     "data": {
      "text/plain": [
       "tensor([0.7500, 0.5000, 0.2500])"
      ]
     },
     "execution_count": 2,
     "metadata": {},
     "output_type": "execute_result"
    }
   ],
   "source": [
    "torch.tensor([0.75,0.5,0.25],device='cpu')"
   ]
  },
  {
   "cell_type": "code",
   "execution_count": 3,
   "id": "c1af126c",
   "metadata": {
    "ExecuteTime": {
     "end_time": "2022-07-29T06:03:46.709825Z",
     "start_time": "2022-07-29T06:03:46.498868Z"
    }
   },
   "outputs": [
    {
     "name": "stdout",
     "output_type": "stream",
     "text": [
      "561 728\n"
     ]
    }
   ],
   "source": [
    "img=plt.imread(r'F:\\study\\ml\\LM\\image\\13\\catdog.jpg')\n",
    "h,w=img.shape[:2]\n",
    "print(h,w)"
   ]
  },
  {
   "cell_type": "code",
   "execution_count": 4,
   "id": "b72446db",
   "metadata": {
    "ExecuteTime": {
     "end_time": "2022-07-29T06:03:47.303958Z",
     "start_time": "2022-07-29T06:03:47.290979Z"
    }
   },
   "outputs": [],
   "source": [
    "def multibox_prior(data,sizes,ratios):\n",
    "    in_height,in_width=data.shape[-2:]\n",
    "    num_sizes,num_ratios=len(sizes),len(ratios)\n",
    "    boxes_per_pixel=(num_sizes+num_ratios-1)\n",
    "    size_tensor=torch.tensor(sizes)\n",
    "    ratio_tensor=torch.tensor(ratios)\n",
    "    \n",
    "    offset_h,offset_w=0.5,0.5\n",
    "    step_h=1.0/in_height\n",
    "    step_w=1.0/in_width\n",
    "    \n",
    "    center_h=(torch.arange(in_height)+offset_h)*step_h\n",
    "    center_w=(torch.arange(in_width)+offset_w)*step_w\n",
    "    shift_y,shift_x=torch.meshgrid(center_h,center_w)\n",
    "    shift_y,shift_x=shift_y.reshape(-1),shift_x.reshape(-1)\n",
    "    \n",
    "    w=torch.cat((size_tensor * torch.sqrt(ratio_tensor[0]),size_tensor[0]*torch.sqrt(ratio_tensor[1:]))) * in_height/in_width\n",
    "    h=torch.cat((size_tensor / torch.sqrt(ratio_tensor[0]),size_tensor[0] / torch.sqrt(ratio_tensor[1:])))\n",
    "    \n",
    "    anchor_manipulations=torch.stack((-w,-h,w,h)).T.repeat(in_height*in_width ,1 )/2\n",
    "    out_grid=torch.stack([shift_x,shift_y,shift_x,shift_y],dim=1).repeat_interleave(boxes_per_pixel,dim=0)\n",
    "    output=out_grid+anchor_manipulations\n",
    "    return output.unsqueeze(0)    "
   ]
  },
  {
   "cell_type": "code",
   "execution_count": 5,
   "id": "6dadab99",
   "metadata": {
    "ExecuteTime": {
     "end_time": "2022-07-29T06:03:49.060896Z",
     "start_time": "2022-07-29T06:03:48.706624Z"
    }
   },
   "outputs": [
    {
     "name": "stderr",
     "output_type": "stream",
     "text": [
      "D:\\ProgramData\\Anaconda3\\lib\\site-packages\\torch\\functional.py:568: UserWarning: torch.meshgrid: in an upcoming release, it will be required to pass the indexing argument. (Triggered internally at  C:\\actions-runner\\_work\\pytorch\\pytorch\\builder\\windows\\pytorch\\aten\\src\\ATen\\native\\TensorShape.cpp:2228.)\n",
      "  return _VF.meshgrid(tensors, **kwargs)  # type: ignore[attr-defined]\n"
     ]
    },
    {
     "data": {
      "text/plain": [
       "torch.Size([1, 2042040, 4])"
      ]
     },
     "execution_count": 5,
     "metadata": {},
     "output_type": "execute_result"
    }
   ],
   "source": [
    "X = torch.rand(size=(1, 3, h, w))\n",
    "Y = multibox_prior(X, sizes=[0.75, 0.5, 0.25], ratios=[1, 2, 0.5])\n",
    "Y.shape"
   ]
  },
  {
   "cell_type": "code",
   "execution_count": 6,
   "id": "ebd856dc",
   "metadata": {
    "ExecuteTime": {
     "end_time": "2022-07-29T06:03:50.722465Z",
     "start_time": "2022-07-29T06:03:50.714469Z"
    }
   },
   "outputs": [],
   "source": [
    "def bbox_to_rect(bbox,color):\n",
    "    return plt.Rectangle(xy=(bbox[0],bbox[1]),width=bbox[2]-bbox[0],height=bbox[3]-bbox[1],fill=False,edgecolor=color,linewidth=2)"
   ]
  },
  {
   "cell_type": "code",
   "execution_count": 7,
   "id": "99ea4f28",
   "metadata": {
    "ExecuteTime": {
     "end_time": "2022-07-29T06:03:51.453416Z",
     "start_time": "2022-07-29T06:03:51.434426Z"
    }
   },
   "outputs": [],
   "source": [
    "def show_bboxes(axes,bboxes,labels=None,colors=None):\n",
    "    def _make_list(obj,default_values=None):\n",
    "        if obj is None:\n",
    "            obj=default_values\n",
    "        elif not isinstance(obj,(list,tuple)):\n",
    "            obj=[obj]\n",
    "        return obj\n",
    "    \n",
    "    labels=_make_list(labels)\n",
    "    colors=_make_list(colors,['b','g','r','m','c'])\n",
    "    plt.imshow(axes)\n",
    "    for i ,bbox in enumerate(bboxes):\n",
    "        color=colors[i % len(colors)]\n",
    "        rect=bbox_to_rect(bbox.detach().numpy(),color)\n",
    "        plt.gca().add_patch(rect)\n",
    "        if labels and len(labels) > i:\n",
    "            text_color='k' if color=='w' else 'w'\n",
    "            plt.text(rect.xy[0],rect.xy[1],labels[i],va='center',ha='center',fontsize=9,color=text_color,bbox=dict(facecolor=color,lw=0))\n",
    "    "
   ]
  },
  {
   "cell_type": "code",
   "execution_count": 8,
   "id": "856f2f26",
   "metadata": {
    "ExecuteTime": {
     "end_time": "2022-07-29T06:03:52.586340Z",
     "start_time": "2022-07-29T06:03:52.570349Z"
    }
   },
   "outputs": [],
   "source": [
    "def display_anchors(fmap_w,fmap_h,s):\n",
    "    plt.figure(figsize=(8,6))\n",
    "    fmap=torch.zeros((1,10,fmap_h,fmap_w))\n",
    "    anchors=multibox_prior(fmap,sizes=s,ratios=[1,2,0.5])\n",
    "    print('anchors shape : ',anchors.shape)\n",
    "    bbox_scale=torch.tensor((w,h,w,h))\n",
    "    print('bbox_scale shape: ',bbox_scale.shape)\n",
    "    print('bbox_scale : ',bbox_scale)\n",
    "    show_bboxes(img,anchors[0]*bbox_scale)\n",
    "    "
   ]
  },
  {
   "cell_type": "code",
   "execution_count": 9,
   "id": "b85b5dfb",
   "metadata": {
    "ExecuteTime": {
     "end_time": "2022-07-29T06:03:53.572549Z",
     "start_time": "2022-07-29T06:03:53.554543Z"
    }
   },
   "outputs": [
    {
     "data": {
      "text/plain": [
       "tensor([0.7500, 0.5000, 0.2500])"
      ]
     },
     "execution_count": 9,
     "metadata": {},
     "output_type": "execute_result"
    }
   ],
   "source": [
    "torch.tensor([0.75,0.5,0.25],device='cpu')"
   ]
  },
  {
   "cell_type": "code",
   "execution_count": 10,
   "id": "41faf66b",
   "metadata": {
    "ExecuteTime": {
     "end_time": "2022-07-29T06:03:54.346305Z",
     "start_time": "2022-07-29T06:03:54.338324Z"
    }
   },
   "outputs": [
    {
     "data": {
      "text/plain": [
       "tensor([0.7500, 0.5000, 0.2500])"
      ]
     },
     "execution_count": 10,
     "metadata": {},
     "output_type": "execute_result"
    }
   ],
   "source": [
    "torch.tensor([0.75,0.5,0.25],device='cpu')"
   ]
  },
  {
   "cell_type": "code",
   "execution_count": 11,
   "id": "8a07d17c",
   "metadata": {
    "ExecuteTime": {
     "end_time": "2022-07-29T06:03:56.136037Z",
     "start_time": "2022-07-29T06:03:55.090012Z"
    }
   },
   "outputs": [
    {
     "name": "stdout",
     "output_type": "stream",
     "text": [
      "anchors shape :  torch.Size([1, 48, 4])\n",
      "bbox_scale shape:  torch.Size([4])\n",
      "bbox_scale :  tensor([728, 561, 728, 561])\n"
     ]
    }
   ],
   "source": [
    "display_anchors(fmap_w=4,fmap_h=4,s=[0.15])"
   ]
  },
  {
   "cell_type": "code",
   "execution_count": 13,
   "id": "1ca2ce32",
   "metadata": {
    "ExecuteTime": {
     "end_time": "2022-07-29T06:08:38.031998Z",
     "start_time": "2022-07-29T06:08:37.962038Z"
    }
   },
   "outputs": [
    {
     "name": "stdout",
     "output_type": "stream",
     "text": [
      "anchors shape :  torch.Size([1, 12, 4])\n",
      "bbox_scale shape:  torch.Size([4])\n",
      "bbox_scale :  tensor([728, 561, 728, 561])\n"
     ]
    }
   ],
   "source": [
    "display_anchors(fmap_w=2,fmap_h=2,s=[0.3])"
   ]
  },
  {
   "cell_type": "code",
   "execution_count": 14,
   "id": "e1f81997",
   "metadata": {
    "ExecuteTime": {
     "end_time": "2022-07-29T06:09:22.230367Z",
     "start_time": "2022-07-29T06:09:22.164404Z"
    }
   },
   "outputs": [
    {
     "name": "stdout",
     "output_type": "stream",
     "text": [
      "anchors shape :  torch.Size([1, 3, 4])\n",
      "bbox_scale shape:  torch.Size([4])\n",
      "bbox_scale :  tensor([728, 561, 728, 561])\n"
     ]
    }
   ],
   "source": [
    "display_anchors(fmap_w=1,fmap_h=1,s=[0.8])"
   ]
  },
  {
   "cell_type": "code",
   "execution_count": null,
   "id": "aa4b9f20",
   "metadata": {},
   "outputs": [],
   "source": []
  }
 ],
 "metadata": {
  "kernelspec": {
   "display_name": "Python 3",
   "language": "python",
   "name": "python3"
  },
  "language_info": {
   "codemirror_mode": {
    "name": "ipython",
    "version": 3
   },
   "file_extension": ".py",
   "mimetype": "text/x-python",
   "name": "python",
   "nbconvert_exporter": "python",
   "pygments_lexer": "ipython3",
   "version": "3.8.8"
  }
 },
 "nbformat": 4,
 "nbformat_minor": 5
}
