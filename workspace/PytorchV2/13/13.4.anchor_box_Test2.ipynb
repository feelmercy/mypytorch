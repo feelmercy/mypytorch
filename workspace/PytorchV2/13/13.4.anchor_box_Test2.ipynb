{
 "cells": [
  {
   "cell_type": "code",
   "execution_count": 1,
   "id": "718c634c",
   "metadata": {
    "ExecuteTime": {
     "end_time": "2022-07-12T05:50:59.532529Z",
     "start_time": "2022-07-12T05:50:46.509220Z"
    }
   },
   "outputs": [
    {
     "name": "stdout",
     "output_type": "stream",
     "text": [
      "Using matplotlib backend: Qt5Agg\n"
     ]
    }
   ],
   "source": [
    "import matplotlib.pyplot as plt\n",
    "import torch\n",
    "%matplotlib auto"
   ]
  },
  {
   "cell_type": "code",
   "execution_count": 2,
   "id": "96542414",
   "metadata": {
    "ExecuteTime": {
     "end_time": "2022-07-12T05:50:59.547521Z",
     "start_time": "2022-07-12T05:50:59.535514Z"
    }
   },
   "outputs": [],
   "source": [
    "def multibox_prior(data,sizes,ratios):\n",
    "    in_height,in_weight=data.shape[-2:]\n",
    "    num_sizes,num_ratios=len(sizes),len(ratios)\n",
    "    boxes_per_pixel=(num_ratios+num_sizes-1)\n",
    "    size_tensor=torch.tensor(sizes)\n",
    "    ratios_tensor=torch.tensor(ratios)\n",
    "    \n",
    "    offset_h,offset_w=0.5,0.5\n",
    "    step_h,step_w=1.0/in_height,1.0/in_weight\n",
    "    \n",
    "    center_h=(torch.arange(in_height)+offset_h)*step_h\n",
    "    center_w=(torch.arange(in_weight)+offset_w)*step_w\n",
    "    shift_y,shift_x=torch.meshgrid(center_h,center_w)\n",
    "    shift_y,shift_x=shift_y.reshape(-1),shift_x.reshape(-1)\n",
    "    \n",
    "    w=torch.cat((size_tensor*torch.sqrt(ratios_tensor[0]),size_tensor[0]*torch.sqrt(ratios_tensor[1:])))*in_height/in_weight\n",
    "    h=torch.cat((size_tensor/torch.sqrt(ratios_tensor[0]),size_tensor[0]/torch.sqrt(ratios_tensor[1:])))\n",
    "    \n",
    "    anchor_manipulation=torch.stack((-w,-h,w,h)).T.repeat(in_height*in_weight,1)/2\n",
    "    \n",
    "    out_grid=torch.stack([shift_x,shift_y,shift_x,shift_y],dim=1).repeat_interleave(boxes_per_pixel,dim=0)\n",
    "    output=out_grid+anchor_manipulation\n",
    "    return output.unsqueeze(0)\n",
    "    \n",
    "    "
   ]
  },
  {
   "cell_type": "code",
   "execution_count": 3,
   "id": "b99bc2ee",
   "metadata": {
    "ExecuteTime": {
     "end_time": "2022-07-12T05:50:59.788414Z",
     "start_time": "2022-07-12T05:50:59.552504Z"
    }
   },
   "outputs": [
    {
     "name": "stdout",
     "output_type": "stream",
     "text": [
      "561 728\n"
     ]
    }
   ],
   "source": [
    "img=plt.imread(r'F:\\study\\ml\\LM\\image\\13\\catdog.jpg')\n",
    "h,w=img.shape[:2]\n",
    "print(h,w)"
   ]
  },
  {
   "cell_type": "code",
   "execution_count": 4,
   "id": "bd8924eb",
   "metadata": {
    "ExecuteTime": {
     "end_time": "2022-07-12T05:51:00.224737Z",
     "start_time": "2022-07-12T05:50:59.790399Z"
    }
   },
   "outputs": [
    {
     "name": "stderr",
     "output_type": "stream",
     "text": [
      "D:\\ProgramData\\Anaconda3\\lib\\site-packages\\torch\\functional.py:568: UserWarning: torch.meshgrid: in an upcoming release, it will be required to pass the indexing argument. (Triggered internally at  C:\\actions-runner\\_work\\pytorch\\pytorch\\builder\\windows\\pytorch\\aten\\src\\ATen\\native\\TensorShape.cpp:2228.)\n",
      "  return _VF.meshgrid(tensors, **kwargs)  # type: ignore[attr-defined]\n"
     ]
    },
    {
     "data": {
      "text/plain": [
       "torch.Size([1, 2042040, 4])"
      ]
     },
     "execution_count": 4,
     "metadata": {},
     "output_type": "execute_result"
    }
   ],
   "source": [
    "X=torch.rand(size=(1,3,h,w))\n",
    "Y=multibox_prior(X,sizes=[0.75,0.5,0.25],ratios=[1,2,0.5])\n",
    "Y.shape"
   ]
  },
  {
   "cell_type": "code",
   "execution_count": 5,
   "id": "4caff246",
   "metadata": {
    "ExecuteTime": {
     "end_time": "2022-07-12T05:51:01.141444Z",
     "start_time": "2022-07-12T05:51:01.132430Z"
    }
   },
   "outputs": [],
   "source": [
    "boxes = Y.reshape(h, w, 5, 4)"
   ]
  },
  {
   "cell_type": "code",
   "execution_count": 6,
   "id": "0f66890f",
   "metadata": {
    "ExecuteTime": {
     "end_time": "2022-07-12T05:51:01.638618Z",
     "start_time": "2022-07-12T05:51:01.631621Z"
    }
   },
   "outputs": [
    {
     "data": {
      "text/plain": [
       "torch.Size([561, 728, 5, 4])"
      ]
     },
     "execution_count": 6,
     "metadata": {},
     "output_type": "execute_result"
    }
   ],
   "source": [
    "boxes.shape"
   ]
  },
  {
   "cell_type": "code",
   "execution_count": 7,
   "id": "61f5481f",
   "metadata": {
    "ExecuteTime": {
     "end_time": "2022-07-12T05:51:02.089483Z",
     "start_time": "2022-07-12T05:51:02.079489Z"
    }
   },
   "outputs": [],
   "source": [
    "def bbox_to_rect(bbox,color):\n",
    "    return plt.Rectangle(xy=(bbox[0],bbox[1]),width=bbox[2]-bbox[0],height=bbox[3]-bbox[1],fill=False,edgecolor=color,linewidth=2)"
   ]
  },
  {
   "cell_type": "code",
   "execution_count": 8,
   "id": "d40fe775",
   "metadata": {
    "ExecuteTime": {
     "end_time": "2022-07-12T05:51:03.261613Z",
     "start_time": "2022-07-12T05:51:02.482309Z"
    }
   },
   "outputs": [
    {
     "ename": "NameError",
     "evalue": "name 'bbox' is not defined",
     "output_type": "error",
     "traceback": [
      "\u001b[1;31m---------------------------------------------------------------------------\u001b[0m",
      "\u001b[1;31mNameError\u001b[0m                                 Traceback (most recent call last)",
      "\u001b[1;32m<ipython-input-8-e5b6839ea32a>\u001b[0m in \u001b[0;36m<module>\u001b[1;34m\u001b[0m\n\u001b[1;32m----> 1\u001b[1;33m \u001b[0mbbox_to_rect\u001b[0m\u001b[1;33m(\u001b[0m\u001b[0mbbox\u001b[0m\u001b[1;33m.\u001b[0m\u001b[0mdetach\u001b[0m\u001b[1;33m(\u001b[0m\u001b[1;33m)\u001b[0m\u001b[1;33m.\u001b[0m\u001b[0mnumpy\u001b[0m\u001b[1;33m(\u001b[0m\u001b[1;33m)\u001b[0m\u001b[1;33m,\u001b[0m\u001b[0mcolor\u001b[0m\u001b[1;33m)\u001b[0m\u001b[1;33m\u001b[0m\u001b[1;33m\u001b[0m\u001b[0m\n\u001b[0m",
      "\u001b[1;31mNameError\u001b[0m: name 'bbox' is not defined"
     ]
    }
   ],
   "source": [
    "bbox_to_rect(bbox.detach().numpy(),color)"
   ]
  },
  {
   "cell_type": "code",
   "execution_count": null,
   "id": "a9b9f8b7",
   "metadata": {
    "ExecuteTime": {
     "end_time": "2022-07-12T05:51:03.262603Z",
     "start_time": "2022-07-12T05:51:02.981Z"
    }
   },
   "outputs": [],
   "source": [
    "bbox_scale = torch.tensor((w, h, w, h))\n",
    "# box1=(boxes[250, 250, 2, :]*bbox_scale).detach().numpy()\n",
    "box1=(boxes[250, 250, :, :]*bbox_scale).detach().numpy()\n",
    "plt.imshow(img)\n",
    "for i in range(box1.shape[-2]):\n",
    "    rect=plt.Rectangle(xy=(box1[i][0],box1[i][1]),width=box1[i][2]-box1[i][0],height=box1[i][3]-box1[i][1],fill=False,edgecolor='r',linewidth=2)\n",
    "# print(rect)\n",
    "    plt.gca().add_patch(rect)\n",
    "plt.show()"
   ]
  },
  {
   "cell_type": "code",
   "execution_count": 9,
   "id": "dff8aa35",
   "metadata": {
    "ExecuteTime": {
     "end_time": "2022-07-12T05:51:03.892111Z",
     "start_time": "2022-07-12T05:51:03.880104Z"
    }
   },
   "outputs": [
    {
     "ename": "NameError",
     "evalue": "name 'box1' is not defined",
     "output_type": "error",
     "traceback": [
      "\u001b[1;31m---------------------------------------------------------------------------\u001b[0m",
      "\u001b[1;31mNameError\u001b[0m                                 Traceback (most recent call last)",
      "\u001b[1;32m<ipython-input-9-0acae49c8ee5>\u001b[0m in \u001b[0;36m<module>\u001b[1;34m\u001b[0m\n\u001b[1;32m----> 1\u001b[1;33m \u001b[0mbox1\u001b[0m\u001b[1;33m.\u001b[0m\u001b[0mshape\u001b[0m\u001b[1;33m\u001b[0m\u001b[1;33m\u001b[0m\u001b[0m\n\u001b[0m",
      "\u001b[1;31mNameError\u001b[0m: name 'box1' is not defined"
     ]
    }
   ],
   "source": [
    "box1.shape"
   ]
  },
  {
   "cell_type": "code",
   "execution_count": 10,
   "id": "4d954133",
   "metadata": {
    "ExecuteTime": {
     "end_time": "2022-07-12T05:51:19.135737Z",
     "start_time": "2022-07-12T05:51:19.120746Z"
    }
   },
   "outputs": [],
   "source": [
    "def show_bboxes(axes,bboxes,labels=None,colors=None):\n",
    "    def _make_list(obj,default_values=None):\n",
    "        if obj is None:\n",
    "            obj=default_values\n",
    "        elif not isinstance(obj,(list,tuple)):\n",
    "            obj=[obj]\n",
    "        return obj\n",
    "    labels=_make_list(labels)\n",
    "    colors=_make_list(colors,['b','g','r','m','c'])\n",
    "    plt.imshow(axes)\n",
    "    for i ,bbox in enumerate(bboxes):\n",
    "        color=colors[i % len(colors)]\n",
    "        rect=bbox_to_rect(bbox.detach().numpy(),color)\n",
    "        plt.gca().add_patch(rect)\n",
    "        if labels and len(labels)>i:\n",
    "            text_color='k' if color=='w' else 'w'\n",
    "            plt.text(rect.xy[0],rect.xy[1],labels[i],va='center',ha='center',fontsize=9,color=text_color,bbox=dict(facecolor=color,lw=0))\n",
    "    plt.show()"
   ]
  },
  {
   "cell_type": "code",
   "execution_count": 11,
   "id": "0b936c6d",
   "metadata": {
    "ExecuteTime": {
     "end_time": "2022-07-12T05:51:20.848378Z",
     "start_time": "2022-07-12T05:51:19.687532Z"
    }
   },
   "outputs": [],
   "source": [
    "h,w=img.shape[:2]\n",
    "\n",
    "bbox_scale = torch.tensor((w, h, w, h))\n",
    "show_bboxes(img, boxes[250, 250, :, :] * bbox_scale,['s=0.75, r=1', 's=0.5, r=1', 's=0.25, r=1', 's=0.75, r=2','s=0.75, r=0.5'])"
   ]
  },
  {
   "cell_type": "code",
   "execution_count": 12,
   "id": "0a96e0c3",
   "metadata": {
    "ExecuteTime": {
     "end_time": "2022-07-12T05:51:20.863383Z",
     "start_time": "2022-07-12T05:51:20.850378Z"
    }
   },
   "outputs": [],
   "source": [
    "def box_iou(boxes1,boxes2):\n",
    "    box_area=lambda boxes:((boxes[:,2]-boxes[:,0])*(boxes[:,3]-boxes[:,1]))\n",
    "    areas1=box_area(boxes1)\n",
    "    areas2=box_area(boxes2)\n",
    "    inter_upperleft=torch.max(boxes1[:,None,:2],boxes2[:,:2])\n",
    "    inter_lowerright=torch.min(boxes1[:,None,2:],boxes2[:,2:])\n",
    "    inters=(inter_lowerright - inter_upperleft).clamp(min=0)\n",
    "    inter_areas=inters[:,:,0] * inter[:,:,1]\n",
    "    union_areas=areas1[:,None]+areas2-inter_areas\n",
    "    return inter_areas/union_areas\n",
    "    "
   ]
  },
  {
   "cell_type": "code",
   "execution_count": 86,
   "id": "c19dde43",
   "metadata": {
    "ExecuteTime": {
     "end_time": "2022-07-08T08:46:33.065727Z",
     "start_time": "2022-07-08T08:46:33.047800Z"
    }
   },
   "outputs": [
    {
     "data": {
      "text/plain": [
       "torch.Size([561, 728, 5, 4])"
      ]
     },
     "execution_count": 86,
     "metadata": {},
     "output_type": "execute_result"
    }
   ],
   "source": [
    "boxes.shape"
   ]
  },
  {
   "cell_type": "code",
   "execution_count": 96,
   "id": "d633bf75",
   "metadata": {
    "ExecuteTime": {
     "end_time": "2022-07-08T08:52:59.162184Z",
     "start_time": "2022-07-08T08:52:59.117943Z"
    }
   },
   "outputs": [
    {
     "data": {
      "text/plain": [
       "torch.Size([728, 5, 4])"
      ]
     },
     "execution_count": 96,
     "metadata": {},
     "output_type": "execute_result"
    }
   ],
   "source": [
    "box2=boxes[0]\n",
    "box2.shape"
   ]
  },
  {
   "cell_type": "code",
   "execution_count": 98,
   "id": "b6105462",
   "metadata": {
    "ExecuteTime": {
     "end_time": "2022-07-08T08:53:48.532615Z",
     "start_time": "2022-07-08T08:53:48.528616Z"
    }
   },
   "outputs": [
    {
     "data": {
      "text/plain": [
       "torch.Size([728, 1, 2, 4])"
      ]
     },
     "execution_count": 98,
     "metadata": {},
     "output_type": "execute_result"
    }
   ],
   "source": [
    "box2[:,None,:2].shape"
   ]
  },
  {
   "cell_type": "code",
   "execution_count": 99,
   "id": "f9e5cf7b",
   "metadata": {
    "ExecuteTime": {
     "end_time": "2022-07-08T08:54:20.055407Z",
     "start_time": "2022-07-08T08:54:20.048413Z"
    }
   },
   "outputs": [
    {
     "data": {
      "text/plain": [
       "torch.Size([728, 2, 4])"
      ]
     },
     "execution_count": 99,
     "metadata": {},
     "output_type": "execute_result"
    }
   ],
   "source": [
    "box2[:,:2].shape"
   ]
  },
  {
   "cell_type": "code",
   "execution_count": 100,
   "id": "3fb5946c",
   "metadata": {
    "ExecuteTime": {
     "end_time": "2022-07-08T08:55:28.945220Z",
     "start_time": "2022-07-08T08:55:28.929229Z"
    }
   },
   "outputs": [
    {
     "data": {
      "text/plain": [
       "torch.Size([728, 728, 2, 4])"
      ]
     },
     "execution_count": 100,
     "metadata": {},
     "output_type": "execute_result"
    }
   ],
   "source": [
    "torch.max(box2[:,None,:2],box2[:,:2]).shape"
   ]
  },
  {
   "cell_type": "code",
   "execution_count": 85,
   "id": "afbf5608",
   "metadata": {
    "ExecuteTime": {
     "end_time": "2022-07-08T08:44:24.736543Z",
     "start_time": "2022-07-08T08:44:24.719539Z"
    }
   },
   "outputs": [
    {
     "data": {
      "text/plain": [
       "tensor([[3., 2., 3.],\n",
       "        [4., 5., 6.]])"
      ]
     },
     "execution_count": 85,
     "metadata": {},
     "output_type": "execute_result"
    }
   ],
   "source": [
    "torch.max(torch.Tensor([[1,2,3],[4,5,6]]),torch.Tensor([[3,2,1],[4,4,4]]))"
   ]
  },
  {
   "cell_type": "markdown",
   "id": "90d347e6",
   "metadata": {},
   "source": [
    "box_iou 分解"
   ]
  },
  {
   "cell_type": "code",
   "execution_count": 41,
   "id": "6a4a3cff",
   "metadata": {
    "ExecuteTime": {
     "end_time": "2022-07-12T07:37:02.422226Z",
     "start_time": "2022-07-12T07:37:02.405250Z"
    }
   },
   "outputs": [],
   "source": [
    "def box_iou(boxes1,boxes2):\n",
    "    box_area=lambda boxes:((boxes[:,2]-boxes[:,0])*(boxes[:,3]-boxes[:,1]))\n",
    "    areas1=box_area(boxes1)\n",
    "    areas2=box_area(boxes2)\n",
    "    inter_upperleft=torch.max(boxes1[:,None,:2],boxes2[:,:2])\n",
    "    inter_lowerright=torch.min(boxes1[:,None,2:],boxes2[:,2:])\n",
    "    inters=(inter_lowerright - inter_upperleft).clamp(min=0)\n",
    "    inter_areas=inters[:,:,0] * inters[:,:,1]\n",
    "    union_areas=areas1[:,None]+areas2-inter_areas\n",
    "    return inter_areas/union_areas"
   ]
  },
  {
   "cell_type": "code",
   "execution_count": 13,
   "id": "8ea22213",
   "metadata": {
    "ExecuteTime": {
     "end_time": "2022-07-12T05:58:57.661164Z",
     "start_time": "2022-07-12T05:58:57.650184Z"
    }
   },
   "outputs": [],
   "source": [
    "ground_truth = torch.tensor([[0, 0.1, 0.08, 0.52, 0.92],[1, 0.55, 0.2, 0.9, 0.88]])\n",
    "anchors = torch.tensor([[0, 0.1, 0.2, 0.3], [0.15, 0.2, 0.4, 0.4],[0.63, 0.05, 0.88, 0.98], [0.66, 0.45, 0.8, 0.8],[0.57, 0.3, 0.92, 0.9]])"
   ]
  },
  {
   "cell_type": "code",
   "execution_count": 20,
   "id": "a84880d2",
   "metadata": {
    "ExecuteTime": {
     "end_time": "2022-07-12T06:03:06.390095Z",
     "start_time": "2022-07-12T06:03:06.378099Z"
    }
   },
   "outputs": [
    {
     "data": {
      "text/plain": [
       "tensor([[0.5500, 0.2000, 0.9000, 0.8800]])"
      ]
     },
     "execution_count": 20,
     "metadata": {},
     "output_type": "execute_result"
    }
   ],
   "source": [
    "ground_truth[1][1:].unsqueeze(dim=0)"
   ]
  },
  {
   "cell_type": "code",
   "execution_count": 19,
   "id": "8ab5e4c8",
   "metadata": {
    "ExecuteTime": {
     "end_time": "2022-07-12T06:03:00.749108Z",
     "start_time": "2022-07-12T06:03:00.739101Z"
    }
   },
   "outputs": [
    {
     "data": {
      "text/plain": [
       "tensor([[0.0000, 0.1000, 0.2000, 0.3000]])"
      ]
     },
     "execution_count": 19,
     "metadata": {},
     "output_type": "execute_result"
    }
   ],
   "source": [
    "anchors[0].unsqueeze(dim=0)"
   ]
  },
  {
   "cell_type": "code",
   "execution_count": 21,
   "id": "1d482fe6",
   "metadata": {
    "ExecuteTime": {
     "end_time": "2022-07-12T06:03:41.473598Z",
     "start_time": "2022-07-12T06:03:41.467593Z"
    }
   },
   "outputs": [
    {
     "data": {
      "text/plain": [
       "tensor([0.0400])"
      ]
     },
     "execution_count": 21,
     "metadata": {},
     "output_type": "execute_result"
    }
   ],
   "source": [
    "box_area=lambda boxes:((boxes[:,2]-boxes[:,0])*(boxes[:,3]-boxes[:,1]))\n",
    "box_area(anchors[0].unsqueeze(dim=0))"
   ]
  },
  {
   "cell_type": "code",
   "execution_count": 22,
   "id": "40e37b9d",
   "metadata": {
    "ExecuteTime": {
     "end_time": "2022-07-12T06:04:30.411033Z",
     "start_time": "2022-07-12T06:04:30.402058Z"
    }
   },
   "outputs": [
    {
     "data": {
      "text/plain": [
       "tensor([0.2380])"
      ]
     },
     "execution_count": 22,
     "metadata": {},
     "output_type": "execute_result"
    }
   ],
   "source": [
    "box_area(ground_truth[1][1:].unsqueeze(dim=0))"
   ]
  },
  {
   "cell_type": "code",
   "execution_count": 23,
   "id": "e98eb707",
   "metadata": {
    "ExecuteTime": {
     "end_time": "2022-07-12T06:05:38.911117Z",
     "start_time": "2022-07-12T06:05:38.906119Z"
    }
   },
   "outputs": [],
   "source": [
    "box11=anchors[0].unsqueeze(dim=0)\n",
    "box22=ground_truth[1][1:].unsqueeze(dim=0)"
   ]
  },
  {
   "cell_type": "code",
   "execution_count": 27,
   "id": "3e3399bf",
   "metadata": {
    "ExecuteTime": {
     "end_time": "2022-07-12T06:07:13.756600Z",
     "start_time": "2022-07-12T06:07:13.746592Z"
    }
   },
   "outputs": [
    {
     "data": {
      "text/plain": [
       "tensor([[0.5500, 0.2000]])"
      ]
     },
     "execution_count": 27,
     "metadata": {},
     "output_type": "execute_result"
    }
   ],
   "source": [
    "box22[:,:2]"
   ]
  },
  {
   "cell_type": "code",
   "execution_count": 26,
   "id": "0811e5f0",
   "metadata": {
    "ExecuteTime": {
     "end_time": "2022-07-12T06:06:23.008476Z",
     "start_time": "2022-07-12T06:06:23.002479Z"
    }
   },
   "outputs": [
    {
     "data": {
      "text/plain": [
       "tensor([[0.0000, 0.1000, 0.2000, 0.3000]])"
      ]
     },
     "execution_count": 26,
     "metadata": {},
     "output_type": "execute_result"
    }
   ],
   "source": [
    "box11"
   ]
  },
  {
   "cell_type": "code",
   "execution_count": 25,
   "id": "e4d83fed",
   "metadata": {
    "ExecuteTime": {
     "end_time": "2022-07-12T06:06:16.856696Z",
     "start_time": "2022-07-12T06:06:16.850700Z"
    }
   },
   "outputs": [
    {
     "data": {
      "text/plain": [
       "tensor([[[0.0000, 0.1000]]])"
      ]
     },
     "execution_count": 25,
     "metadata": {},
     "output_type": "execute_result"
    }
   ],
   "source": [
    "box11[:,None,:2]"
   ]
  },
  {
   "cell_type": "code",
   "execution_count": 28,
   "id": "1589eb71",
   "metadata": {
    "ExecuteTime": {
     "end_time": "2022-07-12T06:07:37.128023Z",
     "start_time": "2022-07-12T06:07:37.115040Z"
    }
   },
   "outputs": [
    {
     "data": {
      "text/plain": [
       "tensor([[[0.5500, 0.2000]]])"
      ]
     },
     "execution_count": 28,
     "metadata": {},
     "output_type": "execute_result"
    }
   ],
   "source": [
    "torch.max(box11[:,None,:2],box22[:,:2])"
   ]
  },
  {
   "cell_type": "code",
   "execution_count": 29,
   "id": "0ff0a130",
   "metadata": {
    "ExecuteTime": {
     "end_time": "2022-07-12T06:07:48.553027Z",
     "start_time": "2022-07-12T06:07:48.539021Z"
    }
   },
   "outputs": [
    {
     "data": {
      "text/plain": [
       "torch.Size([1, 1, 2])"
      ]
     },
     "execution_count": 29,
     "metadata": {},
     "output_type": "execute_result"
    }
   ],
   "source": [
    "torch.max(box11[:,None,:2],box22[:,:2]).shape"
   ]
  },
  {
   "cell_type": "code",
   "execution_count": null,
   "id": "9dbc966b",
   "metadata": {},
   "outputs": [],
   "source": [
    "torch.max(box11[:,None,:2],box22[:,:2])"
   ]
  },
  {
   "cell_type": "code",
   "execution_count": 34,
   "id": "4baff99e",
   "metadata": {
    "ExecuteTime": {
     "end_time": "2022-07-12T06:19:41.784435Z",
     "start_time": "2022-07-12T06:19:41.773436Z"
    }
   },
   "outputs": [
    {
     "data": {
      "text/plain": [
       "tensor([0.2380])"
      ]
     },
     "execution_count": 34,
     "metadata": {},
     "output_type": "execute_result"
    }
   ],
   "source": [
    "box_area(box22)"
   ]
  },
  {
   "cell_type": "code",
   "execution_count": 32,
   "id": "3e24ba5a",
   "metadata": {
    "ExecuteTime": {
     "end_time": "2022-07-12T06:19:15.753637Z",
     "start_time": "2022-07-12T06:19:15.748640Z"
    }
   },
   "outputs": [
    {
     "data": {
      "text/plain": [
       "tensor([[0.0400]])"
      ]
     },
     "execution_count": 32,
     "metadata": {},
     "output_type": "execute_result"
    }
   ],
   "source": [
    "box_area(box11)[:,None]"
   ]
  },
  {
   "cell_type": "code",
   "execution_count": 35,
   "id": "3d6fb0a9",
   "metadata": {
    "ExecuteTime": {
     "end_time": "2022-07-12T06:19:57.231484Z",
     "start_time": "2022-07-12T06:19:57.220492Z"
    }
   },
   "outputs": [
    {
     "data": {
      "text/plain": [
       "tensor([[0.2780]])"
      ]
     },
     "execution_count": 35,
     "metadata": {},
     "output_type": "execute_result"
    }
   ],
   "source": [
    "box_area(box11)[:,None]+box_area(box22)"
   ]
  },
  {
   "cell_type": "code",
   "execution_count": 51,
   "id": "29bb652c",
   "metadata": {
    "ExecuteTime": {
     "end_time": "2022-07-12T07:42:55.621629Z",
     "start_time": "2022-07-12T07:42:55.614633Z"
    }
   },
   "outputs": [],
   "source": [
    "def box_iou(boxes1,boxes2):\n",
    "    box_area=lambda boxes : ((boxes[:,2]-boxes[:,0])*(boxes[:,3]-boxes[:,1]))\n",
    "    areas1=box_area(boxes1)\n",
    "    areas2=box_area(boxes2)\n",
    "    \n",
    "    inter_upperleft=torch.max(boxes1[:,None,:2],boxes2[:,:2])\n",
    "    inter_lowerright=torch.min(boxes1[:,None,2:],boxes2[:,2:])\n",
    "    inters=(inter_lowerright-inter_upperleft).clamp(min=0)\n",
    "    print('inters :',inters )\n",
    "    inter_areas=inters[:,:,0]*inters[:,:,1]\n",
    "    print('inter_areas: ',inter_areas)\n",
    "    union_areas=areas1[:,None]+areas2-inter_areas\n",
    "    \n",
    "    return inter_areas/union_areas\n",
    "    "
   ]
  },
  {
   "cell_type": "code",
   "execution_count": 42,
   "id": "3d8e2a10",
   "metadata": {
    "ExecuteTime": {
     "end_time": "2022-07-12T07:37:12.084083Z",
     "start_time": "2022-07-12T07:37:12.070091Z"
    }
   },
   "outputs": [],
   "source": [
    "def assign_anchor_to_bbox(groud_truth,anchors,device,iou_threshold=0.5):\n",
    "    num_anchors,num_gt_boxes=anchors.shape[0],groud_truth.shape[0]\n",
    "    jaccard=box_iou(anchors,groud_truth)\n",
    "    anchors_bbox_map=torch.full((num_anchors),-1,dtpe=torch.long,device=device)\n",
    "    max_ious,indices=torch.max(jaccard,dim=1)\n",
    "    anc_i=torch.nonzero(max_ious>=0.5).reshape(-1)\n",
    "    box_j=indices[max_ious>=0.5]\n",
    "    anchors_bbox_map[anc_i]=box_j\n",
    "    col_discard=torch.full((num_anchors,),-1)\n",
    "    row_discard=torch.full((num_gt_boxes,),-1)\n",
    "    \n",
    "    for _ in range(num_gt_boxes):\n",
    "        max_idx=torch.argmax(jaccard)\n",
    "        box_idx=(max_idx % num_gt_boxes).long()\n",
    "        anc_idx=(max_idx / num_get_boxes).long()\n",
    "        anchors_bbox_map[anc_idx]=box_idx\n",
    "        jaccard[:,box_idx]=col_discard\n",
    "        jaccard[anc_idx,:]=row_discard\n",
    "        \n",
    "    return anchors_bbox_map    "
   ]
  },
  {
   "cell_type": "code",
   "execution_count": 52,
   "id": "a66f47a6",
   "metadata": {
    "ExecuteTime": {
     "end_time": "2022-07-12T07:42:59.396990Z",
     "start_time": "2022-07-12T07:42:59.381999Z"
    }
   },
   "outputs": [],
   "source": [
    "ground_truth = torch.tensor([[0, 0.1, 0.08, 0.52, 0.92],[1, 0.55, 0.2, 0.9, 0.88]])\n",
    "anchors = torch.tensor([[0, 0.1, 0.2, 0.3], [0.15, 0.2, 0.4, 0.4],[0.63, 0.05, 0.88, 0.98], [0.66, 0.45, 0.8, 0.8],[0.57, 0.3, 0.92, 0.9]])"
   ]
  },
  {
   "cell_type": "code",
   "execution_count": 53,
   "id": "ccda5244",
   "metadata": {
    "ExecuteTime": {
     "end_time": "2022-07-12T07:42:59.877646Z",
     "start_time": "2022-07-12T07:42:59.869649Z"
    }
   },
   "outputs": [
    {
     "data": {
      "text/plain": [
       "tensor([[0.1000, 0.0800, 0.5200, 0.9200],\n",
       "        [0.5500, 0.2000, 0.9000, 0.8800]])"
      ]
     },
     "execution_count": 53,
     "metadata": {},
     "output_type": "execute_result"
    }
   ],
   "source": [
    "ground_truth[:,1:]"
   ]
  },
  {
   "cell_type": "code",
   "execution_count": 54,
   "id": "0450ad9a",
   "metadata": {
    "ExecuteTime": {
     "end_time": "2022-07-12T07:43:02.299589Z",
     "start_time": "2022-07-12T07:43:02.277600Z"
    }
   },
   "outputs": [
    {
     "name": "stdout",
     "output_type": "stream",
     "text": [
      "inters : tensor([[[0.1000, 0.2000],\n",
      "         [0.0000, 0.1000]],\n",
      "\n",
      "        [[0.2500, 0.2000],\n",
      "         [0.0000, 0.2000]],\n",
      "\n",
      "        [[0.0000, 0.8400],\n",
      "         [0.2500, 0.6800]],\n",
      "\n",
      "        [[0.0000, 0.3500],\n",
      "         [0.1400, 0.3500]],\n",
      "\n",
      "        [[0.0000, 0.6000],\n",
      "         [0.3300, 0.5800]]])\n",
      "inter_areas:  tensor([[0.0200, 0.0000],\n",
      "        [0.0500, 0.0000],\n",
      "        [0.0000, 0.1700],\n",
      "        [0.0000, 0.0490],\n",
      "        [0.0000, 0.1914]])\n"
     ]
    },
    {
     "data": {
      "text/plain": [
       "tensor([[0.0536, 0.0000],\n",
       "        [0.1417, 0.0000],\n",
       "        [0.0000, 0.5657],\n",
       "        [0.0000, 0.2059],\n",
       "        [0.0000, 0.7459]])"
      ]
     },
     "execution_count": 54,
     "metadata": {},
     "output_type": "execute_result"
    }
   ],
   "source": [
    "box_iou(anchors,ground_truth[:,1:])"
   ]
  },
  {
   "cell_type": "code",
   "execution_count": 56,
   "id": "047b1940",
   "metadata": {
    "ExecuteTime": {
     "end_time": "2022-07-12T07:54:49.259998Z",
     "start_time": "2022-07-12T07:54:49.247005Z"
    }
   },
   "outputs": [
    {
     "data": {
      "text/plain": [
       "torch.return_types.max(\n",
       "values=tensor([0.9200, 0.9000]),\n",
       "indices=tensor([3, 2]))"
      ]
     },
     "execution_count": 56,
     "metadata": {},
     "output_type": "execute_result"
    }
   ],
   "source": [
    "torch.max(ground_truth[:,1:],dim=1)"
   ]
  },
  {
   "cell_type": "code",
   "execution_count": 60,
   "id": "a9980086",
   "metadata": {
    "ExecuteTime": {
     "end_time": "2022-07-12T07:59:22.039946Z",
     "start_time": "2022-07-12T07:59:22.032951Z"
    }
   },
   "outputs": [
    {
     "data": {
      "text/plain": [
       "tensor([[0.1000, 0.1000, 0.5200, 0.9200],\n",
       "        [1.0000, 0.5500, 0.9000, 0.9000]])"
      ]
     },
     "execution_count": 60,
     "metadata": {},
     "output_type": "execute_result"
    }
   ],
   "source": [
    "torch.max(ground_truth[:,1:],ground_truth[:,:-1])"
   ]
  },
  {
   "cell_type": "code",
   "execution_count": 61,
   "id": "ab375b20",
   "metadata": {
    "ExecuteTime": {
     "end_time": "2022-07-12T08:00:20.895623Z",
     "start_time": "2022-07-12T08:00:20.888627Z"
    }
   },
   "outputs": [
    {
     "data": {
      "text/plain": [
       "torch.return_types.max(\n",
       "values=tensor([0.9200, 0.9000]),\n",
       "indices=tensor([3, 2]))"
      ]
     },
     "execution_count": 61,
     "metadata": {},
     "output_type": "execute_result"
    }
   ],
   "source": [
    "torch.max(ground_truth[:,1:],dim=1)"
   ]
  },
  {
   "cell_type": "code",
   "execution_count": 62,
   "id": "562abc94",
   "metadata": {
    "ExecuteTime": {
     "end_time": "2022-07-12T08:02:35.076496Z",
     "start_time": "2022-07-12T08:02:35.056521Z"
    }
   },
   "outputs": [
    {
     "name": "stdout",
     "output_type": "stream",
     "text": [
      "inters : tensor([[[0.1000, 0.2000],\n",
      "         [0.0000, 0.1000]],\n",
      "\n",
      "        [[0.2500, 0.2000],\n",
      "         [0.0000, 0.2000]],\n",
      "\n",
      "        [[0.0000, 0.8400],\n",
      "         [0.2500, 0.6800]],\n",
      "\n",
      "        [[0.0000, 0.3500],\n",
      "         [0.1400, 0.3500]],\n",
      "\n",
      "        [[0.0000, 0.6000],\n",
      "         [0.3300, 0.5800]]])\n",
      "inter_areas:  tensor([[0.0200, 0.0000],\n",
      "        [0.0500, 0.0000],\n",
      "        [0.0000, 0.1700],\n",
      "        [0.0000, 0.0490],\n",
      "        [0.0000, 0.1914]])\n"
     ]
    },
    {
     "data": {
      "text/plain": [
       "torch.return_types.max(\n",
       "values=tensor([0.0536, 0.1417, 0.5657, 0.2059, 0.7459]),\n",
       "indices=tensor([0, 0, 1, 1, 1]))"
      ]
     },
     "execution_count": 62,
     "metadata": {},
     "output_type": "execute_result"
    }
   ],
   "source": [
    "torch.max(box_iou(anchors,ground_truth[:,1:]),dim=1)"
   ]
  },
  {
   "cell_type": "code",
   "execution_count": 63,
   "id": "d49712f8",
   "metadata": {
    "ExecuteTime": {
     "end_time": "2022-07-12T08:04:28.014664Z",
     "start_time": "2022-07-12T08:04:28.000673Z"
    }
   },
   "outputs": [
    {
     "data": {
      "text/plain": [
       "tensor([[0.1000, 0.0800, 0.5200, 0.9200],\n",
       "        [0.5500, 0.2000, 0.9000, 0.8800]])"
      ]
     },
     "execution_count": 63,
     "metadata": {},
     "output_type": "execute_result"
    }
   ],
   "source": [
    "ground_truth[:,1:]"
   ]
  },
  {
   "cell_type": "code",
   "execution_count": 64,
   "id": "6ca775c7",
   "metadata": {
    "ExecuteTime": {
     "end_time": "2022-07-12T08:04:35.005644Z",
     "start_time": "2022-07-12T08:04:34.960669Z"
    }
   },
   "outputs": [
    {
     "data": {
      "text/plain": [
       "tensor([0, 2, 0, 3, 1, 0, 1, 2, 1, 3])"
      ]
     },
     "execution_count": 64,
     "metadata": {},
     "output_type": "execute_result"
    }
   ],
   "source": [
    "torch.nonzero(ground_truth[:,1:] >= 0.5).reshape(-1)"
   ]
  },
  {
   "cell_type": "code",
   "execution_count": 66,
   "id": "44ae2880",
   "metadata": {
    "ExecuteTime": {
     "end_time": "2022-07-12T08:04:52.589228Z",
     "start_time": "2022-07-12T08:04:52.585217Z"
    }
   },
   "outputs": [
    {
     "data": {
      "text/plain": [
       "tensor([[0.1000, 0.0800, 0.5200, 0.9200],\n",
       "        [0.5500, 0.2000, 0.9000, 0.8800]])"
      ]
     },
     "execution_count": 66,
     "metadata": {},
     "output_type": "execute_result"
    }
   ],
   "source": [
    "ground_truth[:,1:] "
   ]
  },
  {
   "cell_type": "code",
   "execution_count": 65,
   "id": "b187efb9",
   "metadata": {
    "ExecuteTime": {
     "end_time": "2022-07-12T08:04:44.760813Z",
     "start_time": "2022-07-12T08:04:44.744836Z"
    }
   },
   "outputs": [
    {
     "data": {
      "text/plain": [
       "tensor([[0, 2],\n",
       "        [0, 3],\n",
       "        [1, 0],\n",
       "        [1, 2],\n",
       "        [1, 3]])"
      ]
     },
     "execution_count": 65,
     "metadata": {},
     "output_type": "execute_result"
    }
   ],
   "source": [
    "torch.nonzero(ground_truth[:,1:] >= 0.5)"
   ]
  },
  {
   "cell_type": "code",
   "execution_count": 67,
   "id": "40bbeadf",
   "metadata": {
    "ExecuteTime": {
     "end_time": "2022-07-12T08:10:57.095432Z",
     "start_time": "2022-07-12T08:10:57.075457Z"
    }
   },
   "outputs": [
    {
     "name": "stdout",
     "output_type": "stream",
     "text": [
      "inters : tensor([[[0.1000, 0.2000],\n",
      "         [0.0000, 0.1000]],\n",
      "\n",
      "        [[0.2500, 0.2000],\n",
      "         [0.0000, 0.2000]],\n",
      "\n",
      "        [[0.0000, 0.8400],\n",
      "         [0.2500, 0.6800]],\n",
      "\n",
      "        [[0.0000, 0.3500],\n",
      "         [0.1400, 0.3500]],\n",
      "\n",
      "        [[0.0000, 0.6000],\n",
      "         [0.3300, 0.5800]]])\n",
      "inter_areas:  tensor([[0.0200, 0.0000],\n",
      "        [0.0500, 0.0000],\n",
      "        [0.0000, 0.1700],\n",
      "        [0.0000, 0.0490],\n",
      "        [0.0000, 0.1914]])\n"
     ]
    }
   ],
   "source": [
    "max_ious, indices = torch.max(box_iou(anchors,ground_truth[:,1:]),dim=1)"
   ]
  },
  {
   "cell_type": "code",
   "execution_count": 68,
   "id": "c4937bd2",
   "metadata": {
    "ExecuteTime": {
     "end_time": "2022-07-12T08:11:54.801055Z",
     "start_time": "2022-07-12T08:11:54.786064Z"
    }
   },
   "outputs": [
    {
     "data": {
      "text/plain": [
       "tensor([0.0536, 0.1417, 0.5657, 0.2059, 0.7459])"
      ]
     },
     "execution_count": 68,
     "metadata": {},
     "output_type": "execute_result"
    }
   ],
   "source": [
    "max_ious"
   ]
  },
  {
   "cell_type": "code",
   "execution_count": 73,
   "id": "aef9cd22",
   "metadata": {
    "ExecuteTime": {
     "end_time": "2022-07-12T09:00:52.786825Z",
     "start_time": "2022-07-12T09:00:52.768835Z"
    }
   },
   "outputs": [
    {
     "data": {
      "text/plain": [
       "tensor([2, 4])"
      ]
     },
     "execution_count": 73,
     "metadata": {},
     "output_type": "execute_result"
    }
   ],
   "source": [
    "torch.nonzero(max_ious>=0.5).reshape(-1)"
   ]
  },
  {
   "cell_type": "code",
   "execution_count": 71,
   "id": "cf8aeb99",
   "metadata": {
    "ExecuteTime": {
     "end_time": "2022-07-12T08:13:07.040575Z",
     "start_time": "2022-07-12T08:13:07.034580Z"
    }
   },
   "outputs": [
    {
     "data": {
      "text/plain": [
       "tensor([0, 0, 1, 1, 1])"
      ]
     },
     "execution_count": 71,
     "metadata": {},
     "output_type": "execute_result"
    }
   ],
   "source": [
    "indices"
   ]
  },
  {
   "cell_type": "code",
   "execution_count": 72,
   "id": "18fc2a39",
   "metadata": {
    "ExecuteTime": {
     "end_time": "2022-07-12T08:13:14.958922Z",
     "start_time": "2022-07-12T08:13:14.921944Z"
    }
   },
   "outputs": [
    {
     "data": {
      "text/plain": [
       "tensor([1, 1])"
      ]
     },
     "execution_count": 72,
     "metadata": {},
     "output_type": "execute_result"
    }
   ],
   "source": [
    "indices[max_ious >= 0.5]"
   ]
  },
  {
   "cell_type": "code",
   "execution_count": 74,
   "id": "6f3c21fb",
   "metadata": {
    "ExecuteTime": {
     "end_time": "2022-07-12T09:08:56.975156Z",
     "start_time": "2022-07-12T09:08:56.953181Z"
    }
   },
   "outputs": [
    {
     "name": "stdout",
     "output_type": "stream",
     "text": [
      "inters : tensor([[[0.1000, 0.2000],\n",
      "         [0.0000, 0.1000]],\n",
      "\n",
      "        [[0.2500, 0.2000],\n",
      "         [0.0000, 0.2000]],\n",
      "\n",
      "        [[0.0000, 0.8400],\n",
      "         [0.2500, 0.6800]],\n",
      "\n",
      "        [[0.0000, 0.3500],\n",
      "         [0.1400, 0.3500]],\n",
      "\n",
      "        [[0.0000, 0.6000],\n",
      "         [0.3300, 0.5800]]])\n",
      "inter_areas:  tensor([[0.0200, 0.0000],\n",
      "        [0.0500, 0.0000],\n",
      "        [0.0000, 0.1700],\n",
      "        [0.0000, 0.0490],\n",
      "        [0.0000, 0.1914]])\n"
     ]
    },
    {
     "data": {
      "text/plain": [
       "tensor(0.7459)"
      ]
     },
     "execution_count": 74,
     "metadata": {},
     "output_type": "execute_result"
    }
   ],
   "source": [
    "torch.max(box_iou(anchors,ground_truth[:,1:]))"
   ]
  },
  {
   "cell_type": "code",
   "execution_count": 75,
   "id": "8f88b9fd",
   "metadata": {
    "ExecuteTime": {
     "end_time": "2022-07-12T09:11:20.626606Z",
     "start_time": "2022-07-12T09:11:20.617598Z"
    }
   },
   "outputs": [],
   "source": [
    "gground_truth = ground_truth[:,1:]"
   ]
  },
  {
   "cell_type": "code",
   "execution_count": 76,
   "id": "7ae0df12",
   "metadata": {
    "ExecuteTime": {
     "end_time": "2022-07-12T09:11:54.196725Z",
     "start_time": "2022-07-12T09:11:54.186718Z"
    }
   },
   "outputs": [],
   "source": [
    "num_anchors, num_gt_boxes=anchors.shape[0],gground_truth.shape[0]"
   ]
  },
  {
   "cell_type": "code",
   "execution_count": 77,
   "id": "6fae7b8e",
   "metadata": {
    "ExecuteTime": {
     "end_time": "2022-07-12T09:11:57.190242Z",
     "start_time": "2022-07-12T09:11:57.178236Z"
    }
   },
   "outputs": [
    {
     "data": {
      "text/plain": [
       "5"
      ]
     },
     "execution_count": 77,
     "metadata": {},
     "output_type": "execute_result"
    }
   ],
   "source": [
    "num_anchors"
   ]
  },
  {
   "cell_type": "code",
   "execution_count": 78,
   "id": "48d83437",
   "metadata": {
    "ExecuteTime": {
     "end_time": "2022-07-12T09:12:01.160294Z",
     "start_time": "2022-07-12T09:12:01.153281Z"
    }
   },
   "outputs": [
    {
     "data": {
      "text/plain": [
       "2"
      ]
     },
     "execution_count": 78,
     "metadata": {},
     "output_type": "execute_result"
    }
   ],
   "source": [
    "num_gt_boxes"
   ]
  },
  {
   "cell_type": "code",
   "execution_count": 80,
   "id": "f7cf9d01",
   "metadata": {
    "ExecuteTime": {
     "end_time": "2022-07-12T09:12:27.647102Z",
     "start_time": "2022-07-12T09:12:27.635095Z"
    }
   },
   "outputs": [
    {
     "name": "stdout",
     "output_type": "stream",
     "text": [
      "inters : tensor([[[0.1000, 0.2000],\n",
      "         [0.0000, 0.1000]],\n",
      "\n",
      "        [[0.2500, 0.2000],\n",
      "         [0.0000, 0.2000]],\n",
      "\n",
      "        [[0.0000, 0.8400],\n",
      "         [0.2500, 0.6800]],\n",
      "\n",
      "        [[0.0000, 0.3500],\n",
      "         [0.1400, 0.3500]],\n",
      "\n",
      "        [[0.0000, 0.6000],\n",
      "         [0.3300, 0.5800]]])\n",
      "inter_areas:  tensor([[0.0200, 0.0000],\n",
      "        [0.0500, 0.0000],\n",
      "        [0.0000, 0.1700],\n",
      "        [0.0000, 0.0490],\n",
      "        [0.0000, 0.1914]])\n"
     ]
    }
   ],
   "source": [
    "jaccard=box_iou(anchors, gground_truth)"
   ]
  },
  {
   "cell_type": "code",
   "execution_count": 81,
   "id": "61b8e934",
   "metadata": {
    "ExecuteTime": {
     "end_time": "2022-07-12T09:12:38.067666Z",
     "start_time": "2022-07-12T09:12:38.057658Z"
    }
   },
   "outputs": [
    {
     "data": {
      "text/plain": [
       "tensor([[0.0536, 0.0000],\n",
       "        [0.1417, 0.0000],\n",
       "        [0.0000, 0.5657],\n",
       "        [0.0000, 0.2059],\n",
       "        [0.0000, 0.7459]])"
      ]
     },
     "execution_count": 81,
     "metadata": {},
     "output_type": "execute_result"
    }
   ],
   "source": [
    "jaccard"
   ]
  },
  {
   "cell_type": "code",
   "execution_count": 82,
   "id": "66a5d076",
   "metadata": {
    "ExecuteTime": {
     "end_time": "2022-07-12T09:12:53.315223Z",
     "start_time": "2022-07-12T09:12:53.307215Z"
    }
   },
   "outputs": [],
   "source": [
    "anchors_bbox_map = torch.full((num_anchors,), -1)"
   ]
  },
  {
   "cell_type": "code",
   "execution_count": 83,
   "id": "baa66d9b",
   "metadata": {
    "ExecuteTime": {
     "end_time": "2022-07-12T09:12:56.683538Z",
     "start_time": "2022-07-12T09:12:56.665548Z"
    }
   },
   "outputs": [
    {
     "data": {
      "text/plain": [
       "tensor([-1, -1, -1, -1, -1])"
      ]
     },
     "execution_count": 83,
     "metadata": {},
     "output_type": "execute_result"
    }
   ],
   "source": [
    "anchors_bbox_map"
   ]
  },
  {
   "cell_type": "code",
   "execution_count": 84,
   "id": "51287f38",
   "metadata": {
    "ExecuteTime": {
     "end_time": "2022-07-12T09:13:07.873793Z",
     "start_time": "2022-07-12T09:13:07.856804Z"
    }
   },
   "outputs": [],
   "source": [
    "max_ious, indices = torch.max(jaccard, dim=1)"
   ]
  },
  {
   "cell_type": "code",
   "execution_count": 85,
   "id": "10fcb2f6",
   "metadata": {
    "ExecuteTime": {
     "end_time": "2022-07-12T09:13:10.850253Z",
     "start_time": "2022-07-12T09:13:10.842244Z"
    }
   },
   "outputs": [
    {
     "data": {
      "text/plain": [
       "tensor([0.0536, 0.1417, 0.5657, 0.2059, 0.7459])"
      ]
     },
     "execution_count": 85,
     "metadata": {},
     "output_type": "execute_result"
    }
   ],
   "source": [
    "max_ious"
   ]
  },
  {
   "cell_type": "code",
   "execution_count": 86,
   "id": "c68f5539",
   "metadata": {
    "ExecuteTime": {
     "end_time": "2022-07-12T09:13:13.828755Z",
     "start_time": "2022-07-12T09:13:13.817757Z"
    }
   },
   "outputs": [
    {
     "data": {
      "text/plain": [
       "tensor([0, 0, 1, 1, 1])"
      ]
     },
     "execution_count": 86,
     "metadata": {},
     "output_type": "execute_result"
    }
   ],
   "source": [
    "indices"
   ]
  },
  {
   "cell_type": "code",
   "execution_count": 87,
   "id": "f1d57e3c",
   "metadata": {
    "ExecuteTime": {
     "end_time": "2022-07-12T09:13:30.232348Z",
     "start_time": "2022-07-12T09:13:30.217357Z"
    }
   },
   "outputs": [
    {
     "data": {
      "text/plain": [
       "tensor([2, 4])"
      ]
     },
     "execution_count": 87,
     "metadata": {},
     "output_type": "execute_result"
    }
   ],
   "source": [
    "anc_i = torch.nonzero(max_ious >= 0.5).reshape(-1)\n",
    "anc_i"
   ]
  },
  {
   "cell_type": "code",
   "execution_count": 88,
   "id": "5c937448",
   "metadata": {
    "ExecuteTime": {
     "end_time": "2022-07-12T09:13:38.410967Z",
     "start_time": "2022-07-12T09:13:38.393977Z"
    }
   },
   "outputs": [
    {
     "data": {
      "text/plain": [
       "tensor([1, 1])"
      ]
     },
     "execution_count": 88,
     "metadata": {},
     "output_type": "execute_result"
    }
   ],
   "source": [
    "box_j = indices[max_ious >= 0.5]\n",
    "box_j"
   ]
  },
  {
   "cell_type": "code",
   "execution_count": 90,
   "id": "236d4eeb",
   "metadata": {
    "ExecuteTime": {
     "end_time": "2022-07-12T09:14:23.241746Z",
     "start_time": "2022-07-12T09:14:23.233735Z"
    }
   },
   "outputs": [
    {
     "data": {
      "text/plain": [
       "tensor([-1, -1,  1, -1,  1])"
      ]
     },
     "execution_count": 90,
     "metadata": {},
     "output_type": "execute_result"
    }
   ],
   "source": [
    "anchors_bbox_map[anc_i] = box_j\n",
    "anchors_bbox_map"
   ]
  },
  {
   "cell_type": "code",
   "execution_count": 91,
   "id": "b18b9e99",
   "metadata": {
    "ExecuteTime": {
     "end_time": "2022-07-12T09:14:34.547149Z",
     "start_time": "2022-07-12T09:14:34.537166Z"
    }
   },
   "outputs": [
    {
     "data": {
      "text/plain": [
       "tensor([-1, -1, -1, -1, -1])"
      ]
     },
     "execution_count": 91,
     "metadata": {},
     "output_type": "execute_result"
    }
   ],
   "source": [
    "col_discard = torch.full((num_anchors,), -1)\n",
    "col_discard"
   ]
  },
  {
   "cell_type": "code",
   "execution_count": 92,
   "id": "d72b3058",
   "metadata": {
    "ExecuteTime": {
     "end_time": "2022-07-12T09:14:50.037554Z",
     "start_time": "2022-07-12T09:14:50.033570Z"
    }
   },
   "outputs": [
    {
     "data": {
      "text/plain": [
       "tensor([-1, -1])"
      ]
     },
     "execution_count": 92,
     "metadata": {},
     "output_type": "execute_result"
    }
   ],
   "source": [
    "row_discard = torch.full((num_gt_boxes,), -1)\n",
    "row_discard"
   ]
  },
  {
   "cell_type": "code",
   "execution_count": 95,
   "id": "b87f0967",
   "metadata": {
    "ExecuteTime": {
     "end_time": "2022-07-12T09:19:23.923088Z",
     "start_time": "2022-07-12T09:19:23.916093Z"
    }
   },
   "outputs": [
    {
     "data": {
      "text/plain": [
       "tensor([[0.0536, 0.0000],\n",
       "        [0.1417, 0.0000],\n",
       "        [0.0000, 0.5657],\n",
       "        [0.0000, 0.2059],\n",
       "        [0.0000, 0.7459]])"
      ]
     },
     "execution_count": 95,
     "metadata": {},
     "output_type": "execute_result"
    }
   ],
   "source": [
    "jaccard"
   ]
  },
  {
   "cell_type": "code",
   "execution_count": 97,
   "id": "08139601",
   "metadata": {
    "ExecuteTime": {
     "end_time": "2022-07-12T09:20:02.990641Z",
     "start_time": "2022-07-12T09:20:02.979648Z"
    }
   },
   "outputs": [],
   "source": [
    "max_idx = torch.argmax(jaccard)"
   ]
  },
  {
   "cell_type": "code",
   "execution_count": 99,
   "id": "246b4ca5",
   "metadata": {
    "ExecuteTime": {
     "end_time": "2022-07-12T09:20:13.233101Z",
     "start_time": "2022-07-12T09:20:13.226104Z"
    }
   },
   "outputs": [
    {
     "data": {
      "text/plain": [
       "2"
      ]
     },
     "execution_count": 99,
     "metadata": {},
     "output_type": "execute_result"
    }
   ],
   "source": [
    "num_gt_boxes"
   ]
  },
  {
   "cell_type": "code",
   "execution_count": 98,
   "id": "2116ef80",
   "metadata": {
    "ExecuteTime": {
     "end_time": "2022-07-12T09:20:03.606713Z",
     "start_time": "2022-07-12T09:20:03.529888Z"
    }
   },
   "outputs": [
    {
     "data": {
      "text/plain": [
       "tensor(1)"
      ]
     },
     "execution_count": 98,
     "metadata": {},
     "output_type": "execute_result"
    }
   ],
   "source": [
    " (max_idx % num_gt_boxes).long()"
   ]
  },
  {
   "cell_type": "code",
   "execution_count": 100,
   "id": "95ff295d",
   "metadata": {
    "ExecuteTime": {
     "end_time": "2022-07-12T09:20:49.166232Z",
     "start_time": "2022-07-12T09:20:49.154230Z"
    }
   },
   "outputs": [
    {
     "data": {
      "text/plain": [
       "tensor(4)"
      ]
     },
     "execution_count": 100,
     "metadata": {},
     "output_type": "execute_result"
    }
   ],
   "source": [
    "anc_idx = (max_idx / num_gt_boxes).long()\n",
    "anc_idx"
   ]
  },
  {
   "cell_type": "code",
   "execution_count": 101,
   "id": "dd2e9049",
   "metadata": {
    "ExecuteTime": {
     "end_time": "2022-07-12T09:20:59.826568Z",
     "start_time": "2022-07-12T09:20:59.818573Z"
    }
   },
   "outputs": [
    {
     "data": {
      "text/plain": [
       "tensor([-1, -1,  1, -1,  1])"
      ]
     },
     "execution_count": 101,
     "metadata": {},
     "output_type": "execute_result"
    }
   ],
   "source": [
    "anchors_bbox_map"
   ]
  },
  {
   "cell_type": "code",
   "execution_count": 102,
   "id": "94ebbd89",
   "metadata": {
    "ExecuteTime": {
     "end_time": "2022-07-12T09:22:43.176653Z",
     "start_time": "2022-07-12T09:22:43.163300Z"
    }
   },
   "outputs": [
    {
     "data": {
      "text/plain": [
       "tensor([[0.0536, 0.0000],\n",
       "        [0.1417, 0.0000],\n",
       "        [0.0000, 0.5657],\n",
       "        [0.0000, 0.2059],\n",
       "        [0.0000, 0.7459]])"
      ]
     },
     "execution_count": 102,
     "metadata": {},
     "output_type": "execute_result"
    }
   ],
   "source": [
    "jaccard"
   ]
  },
  {
   "cell_type": "code",
   "execution_count": 108,
   "id": "e98aceb3",
   "metadata": {
    "ExecuteTime": {
     "end_time": "2022-07-12T09:27:25.028021Z",
     "start_time": "2022-07-12T09:27:25.020013Z"
    }
   },
   "outputs": [],
   "source": [
    "def assign_anchor_to_bbox(groud_truth,anchors,device,iou_threshold=0.5):\n",
    "    num_anchors,num_gt_boxes=anchors.shape[0],groud_truth.shape[0]\n",
    "    jaccard=box_iou(anchors,groud_truth)\n",
    "    anchors_bbox_map=torch.full((num_anchors,),-1,dtype=torch.long,device=device)\n",
    "    max_ious,indices=torch.max(jaccard,dim=1)\n",
    "    anc_i=torch.nonzero(max_ious>=0.5).reshape(-1)\n",
    "    box_j=indices[max_ious>=0.5]\n",
    "    anchors_bbox_map[anc_i]=box_j\n",
    "    col_discard=torch.full((num_anchors,),-1)\n",
    "    row_discard=torch.full((num_gt_boxes,),-1)\n",
    "    \n",
    "    for _ in range(num_gt_boxes):\n",
    "        max_idx=torch.argmax(jaccard)\n",
    "        box_idx=(max_idx % num_gt_boxes).long()\n",
    "        anc_idx=(max_idx / num_gt_boxes).long()\n",
    "        anchors_bbox_map[anc_idx]=box_idx\n",
    "        jaccard[:,box_idx]=col_discard\n",
    "        jaccard[anc_idx,:]=row_discard\n",
    "        \n",
    "    return anchors_bbox_map    "
   ]
  },
  {
   "cell_type": "code",
   "execution_count": 109,
   "id": "534f8147",
   "metadata": {
    "ExecuteTime": {
     "end_time": "2022-07-12T09:27:25.629506Z",
     "start_time": "2022-07-12T09:27:25.595992Z"
    }
   },
   "outputs": [
    {
     "name": "stdout",
     "output_type": "stream",
     "text": [
      "inters : tensor([[[0.1000, 0.2000],\n",
      "         [0.0000, 0.1000]],\n",
      "\n",
      "        [[0.2500, 0.2000],\n",
      "         [0.0000, 0.2000]],\n",
      "\n",
      "        [[0.0000, 0.8400],\n",
      "         [0.2500, 0.6800]],\n",
      "\n",
      "        [[0.0000, 0.3500],\n",
      "         [0.1400, 0.3500]],\n",
      "\n",
      "        [[0.0000, 0.6000],\n",
      "         [0.3300, 0.5800]]])\n",
      "inter_areas:  tensor([[0.0200, 0.0000],\n",
      "        [0.0500, 0.0000],\n",
      "        [0.0000, 0.1700],\n",
      "        [0.0000, 0.0490],\n",
      "        [0.0000, 0.1914]])\n"
     ]
    },
    {
     "data": {
      "text/plain": [
       "tensor([-1,  0,  1, -1,  1])"
      ]
     },
     "execution_count": 109,
     "metadata": {},
     "output_type": "execute_result"
    }
   ],
   "source": [
    "assign_anchor_to_bbox(gground_truth,anchors,'cpu')"
   ]
  },
  {
   "cell_type": "code",
   "execution_count": 111,
   "id": "422f6bf9",
   "metadata": {
    "ExecuteTime": {
     "end_time": "2022-07-12T09:36:48.007675Z",
     "start_time": "2022-07-12T09:36:47.996667Z"
    }
   },
   "outputs": [
    {
     "data": {
      "text/plain": [
       "tensor([2, 4])"
      ]
     },
     "execution_count": 111,
     "metadata": {},
     "output_type": "execute_result"
    }
   ],
   "source": [
    "anc_i"
   ]
  },
  {
   "cell_type": "code",
   "execution_count": 110,
   "id": "8e6e0e75",
   "metadata": {
    "ExecuteTime": {
     "end_time": "2022-07-12T09:33:55.356706Z",
     "start_time": "2022-07-12T09:33:55.340701Z"
    }
   },
   "outputs": [
    {
     "data": {
      "text/plain": [
       "tensor([1, 1])"
      ]
     },
     "execution_count": 110,
     "metadata": {},
     "output_type": "execute_result"
    }
   ],
   "source": [
    "box_j"
   ]
  },
  {
   "cell_type": "code",
   "execution_count": 112,
   "id": "16de5b5b",
   "metadata": {
    "ExecuteTime": {
     "end_time": "2022-07-12T09:37:15.420936Z",
     "start_time": "2022-07-12T09:37:15.404960Z"
    }
   },
   "outputs": [
    {
     "data": {
      "text/plain": [
       "tensor([[0.0536, 0.0000],\n",
       "        [0.1417, 0.0000],\n",
       "        [0.0000, 0.5657],\n",
       "        [0.0000, 0.2059],\n",
       "        [0.0000, 0.7459]])"
      ]
     },
     "execution_count": 112,
     "metadata": {},
     "output_type": "execute_result"
    }
   ],
   "source": [
    "jaccard"
   ]
  },
  {
   "cell_type": "code",
   "execution_count": 114,
   "id": "484ae24a",
   "metadata": {
    "ExecuteTime": {
     "end_time": "2022-07-12T09:40:25.683883Z",
     "start_time": "2022-07-12T09:40:25.676887Z"
    }
   },
   "outputs": [
    {
     "data": {
      "text/plain": [
       "tensor([0.0536, 0.1417, 0.5657, 0.2059, 0.7459])"
      ]
     },
     "execution_count": 114,
     "metadata": {},
     "output_type": "execute_result"
    }
   ],
   "source": [
    "max_ious"
   ]
  },
  {
   "cell_type": "code",
   "execution_count": 113,
   "id": "89f071f9",
   "metadata": {
    "ExecuteTime": {
     "end_time": "2022-07-12T09:37:53.785558Z",
     "start_time": "2022-07-12T09:37:53.773565Z"
    }
   },
   "outputs": [
    {
     "data": {
      "text/plain": [
       "tensor([0, 0, 1, 1, 1])"
      ]
     },
     "execution_count": 113,
     "metadata": {},
     "output_type": "execute_result"
    }
   ],
   "source": [
    "indices"
   ]
  },
  {
   "cell_type": "code",
   "execution_count": 118,
   "id": "978d2faa",
   "metadata": {
    "ExecuteTime": {
     "end_time": "2022-07-12T09:47:35.915274Z",
     "start_time": "2022-07-12T09:47:35.909278Z"
    }
   },
   "outputs": [
    {
     "data": {
      "text/plain": [
       "tensor(9)"
      ]
     },
     "execution_count": 118,
     "metadata": {},
     "output_type": "execute_result"
    }
   ],
   "source": [
    "max_idx"
   ]
  },
  {
   "cell_type": "code",
   "execution_count": 119,
   "id": "87e8d666",
   "metadata": {
    "ExecuteTime": {
     "end_time": "2022-07-12T09:47:53.803227Z",
     "start_time": "2022-07-12T09:47:53.797245Z"
    }
   },
   "outputs": [
    {
     "data": {
      "text/plain": [
       "1"
      ]
     },
     "execution_count": 119,
     "metadata": {},
     "output_type": "execute_result"
    }
   ],
   "source": [
    "9%2"
   ]
  },
  {
   "cell_type": "code",
   "execution_count": 121,
   "id": "1e5ffcce",
   "metadata": {
    "ExecuteTime": {
     "end_time": "2022-07-12T09:48:08.087557Z",
     "start_time": "2022-07-12T09:48:08.077568Z"
    }
   },
   "outputs": [
    {
     "data": {
      "text/plain": [
       "4.5"
      ]
     },
     "execution_count": 121,
     "metadata": {},
     "output_type": "execute_result"
    }
   ],
   "source": [
    "9/2"
   ]
  },
  {
   "cell_type": "code",
   "execution_count": 122,
   "id": "ae47ff74",
   "metadata": {
    "ExecuteTime": {
     "end_time": "2022-07-12T09:48:31.960526Z",
     "start_time": "2022-07-12T09:48:31.949533Z"
    }
   },
   "outputs": [
    {
     "data": {
      "text/plain": [
       "2"
      ]
     },
     "execution_count": 122,
     "metadata": {},
     "output_type": "execute_result"
    }
   ],
   "source": [
    "num_gt_boxes"
   ]
  },
  {
   "cell_type": "code",
   "execution_count": 126,
   "id": "35319ee5",
   "metadata": {
    "ExecuteTime": {
     "end_time": "2022-07-12T09:54:43.504904Z",
     "start_time": "2022-07-12T09:54:43.494910Z"
    }
   },
   "outputs": [
    {
     "data": {
      "text/plain": [
       "tensor(1)"
      ]
     },
     "execution_count": 126,
     "metadata": {},
     "output_type": "execute_result"
    }
   ],
   "source": [
    "(torch.argmax(jaccard) % num_gt_boxes).long()"
   ]
  },
  {
   "cell_type": "code",
   "execution_count": 127,
   "id": "9ad034cf",
   "metadata": {
    "ExecuteTime": {
     "end_time": "2022-07-12T09:55:13.036863Z",
     "start_time": "2022-07-12T09:55:13.030867Z"
    }
   },
   "outputs": [
    {
     "data": {
      "text/plain": [
       "tensor(4)"
      ]
     },
     "execution_count": 127,
     "metadata": {},
     "output_type": "execute_result"
    }
   ],
   "source": [
    "(torch.argmax(jaccard) / num_gt_boxes).long()"
   ]
  },
  {
   "cell_type": "code",
   "execution_count": 130,
   "id": "630be7a6",
   "metadata": {
    "ExecuteTime": {
     "end_time": "2022-07-12T09:56:16.176202Z",
     "start_time": "2022-07-12T09:56:16.167208Z"
    }
   },
   "outputs": [
    {
     "data": {
      "text/plain": [
       "tensor(4)"
      ]
     },
     "execution_count": 130,
     "metadata": {},
     "output_type": "execute_result"
    }
   ],
   "source": [
    "(torch.tensor(9) / gground_truth.shape[0]).long()"
   ]
  },
  {
   "cell_type": "code",
   "execution_count": 134,
   "id": "30a4c52a",
   "metadata": {
    "ExecuteTime": {
     "end_time": "2022-07-12T09:58:37.737922Z",
     "start_time": "2022-07-12T09:58:37.726919Z"
    }
   },
   "outputs": [
    {
     "data": {
      "text/plain": [
       "tensor([5])"
      ]
     },
     "execution_count": 134,
     "metadata": {},
     "output_type": "execute_result"
    }
   ],
   "source": [
    "torch.Tensor([5.4]).long()"
   ]
  },
  {
   "cell_type": "code",
   "execution_count": null,
   "id": "f8c44a22",
   "metadata": {},
   "outputs": [],
   "source": []
  }
 ],
 "metadata": {
  "kernelspec": {
   "display_name": "Python 3",
   "language": "python",
   "name": "python3"
  },
  "language_info": {
   "codemirror_mode": {
    "name": "ipython",
    "version": 3
   },
   "file_extension": ".py",
   "mimetype": "text/x-python",
   "name": "python",
   "nbconvert_exporter": "python",
   "pygments_lexer": "ipython3",
   "version": "3.8.8"
  }
 },
 "nbformat": 4,
 "nbformat_minor": 5
}
