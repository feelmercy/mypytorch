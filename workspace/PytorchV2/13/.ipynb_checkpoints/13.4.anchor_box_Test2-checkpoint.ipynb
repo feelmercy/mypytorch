{
 "cells": [
  {
   "cell_type": "code",
   "execution_count": 1,
   "id": "718c634c",
   "metadata": {
    "ExecuteTime": {
     "end_time": "2022-07-06T09:48:01.693079Z",
     "start_time": "2022-07-06T09:47:45.970111Z"
    }
   },
   "outputs": [
    {
     "name": "stdout",
     "output_type": "stream",
     "text": [
      "Using matplotlib backend: Qt5Agg\n"
     ]
    }
   ],
   "source": [
    "import matplotlib.pyplot as plt\n",
    "import torch\n",
    "%matplotlib auto"
   ]
  },
  {
   "cell_type": "code",
   "execution_count": 2,
   "id": "96542414",
   "metadata": {
    "ExecuteTime": {
     "end_time": "2022-07-06T10:06:31.021803Z",
     "start_time": "2022-07-06T10:06:31.004274Z"
    }
   },
   "outputs": [],
   "source": [
    "def multibox_prior(data,sizes,ratios):\n",
    "    in_height,in_width=data.shape[-2:]\n",
    "    num_sizes,num_ratios=len(sizes),len(ratios)\n",
    "    boxes_per_pixel=(num_sizes+num_ratios-1)\n",
    "    size_tensor=torch.tensor(sizes)\n",
    "    ratios_tensor=torch.tensor(ratios)\n",
    "    \n",
    "    offset_h,offset_w=0.5,0.5\n",
    "    step_h=1.0/in_height\n",
    "    step_w=1.0/in_width\n",
    "    \n",
    "    center_h=(torch.arange(in_height)+offset_h)*step_h\n",
    "    center_w=(torch.arange(in_width)+offset_w)*step_w\n",
    "    shift_y,shift_x=torch.meshgrid(center_h,center_w)\n",
    "    shift_y,shift_x=shift_y.reshape(-1),shift_x.reshape(-1)\n",
    "    \n",
    "    w=torch.cat((size_tensor*torch.sqrt(ratios_tensor[0]),size_tensor[0]*torch.sqrt(ratios_tensor[1:])))*in_height/in_width\n",
    "    h=torch.cat((size_tensor/torch.sqrt(ratios_tensor[0]),size_tensor[0]/torch.sqrt(ratios_tensor[1:])))\n",
    "    \n",
    "    anchor_manipulations=torch.stack((-w,-h,w,h)).T.repeat(in_height*in_width,1)/2\n",
    "    \n",
    "    out_grid=torch.stack([shift_x,shift_y,shift_x,shift_y],dim=1).repeat_interleave(boxes_per_pixel,dim=0)\n",
    "    output=out_grid+anchor_manipulations\n",
    "    return output.unsqueeze(0)"
   ]
  },
  {
   "cell_type": "code",
   "execution_count": null,
   "id": "b99bc2ee",
   "metadata": {},
   "outputs": [],
   "source": []
  },
  {
   "cell_type": "code",
   "execution_count": null,
   "id": "bd8924eb",
   "metadata": {},
   "outputs": [],
   "source": []
  },
  {
   "cell_type": "code",
   "execution_count": null,
   "id": "4118076c",
   "metadata": {},
   "outputs": [],
   "source": []
  },
  {
   "cell_type": "code",
   "execution_count": null,
   "id": "e5b3194b",
   "metadata": {},
   "outputs": [],
   "source": []
  }
 ],
 "metadata": {
  "kernelspec": {
   "display_name": "Python 3",
   "language": "python",
   "name": "python3"
  },
  "language_info": {
   "codemirror_mode": {
    "name": "ipython",
    "version": 3
   },
   "file_extension": ".py",
   "mimetype": "text/x-python",
   "name": "python",
   "nbconvert_exporter": "python",
   "pygments_lexer": "ipython3",
   "version": "3.8.8"
  }
 },
 "nbformat": 4,
 "nbformat_minor": 5
}
