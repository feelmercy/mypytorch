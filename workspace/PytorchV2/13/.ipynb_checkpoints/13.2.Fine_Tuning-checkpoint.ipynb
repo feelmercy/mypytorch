{
 "cells": [
  {
   "cell_type": "code",
   "execution_count": 1,
   "id": "b7fb553c",
   "metadata": {
    "ExecuteTime": {
     "end_time": "2022-06-20T09:03:57.223245Z",
     "start_time": "2022-06-20T09:03:56.770188Z"
    }
   },
   "outputs": [
    {
     "name": "stdout",
     "output_type": "stream",
     "text": [
      "Using matplotlib backend: Qt5Agg\n"
     ]
    }
   ],
   "source": [
    "import os\n",
    "import torch\n",
    "import torchvision\n",
    "from torch import nn\n",
    "import matplotlib.pyplot as plt\n",
    "%matplotlib "
   ]
  },
  {
   "cell_type": "code",
   "execution_count": 2,
   "id": "08a80527",
   "metadata": {
    "ExecuteTime": {
     "end_time": "2022-06-20T09:13:36.259774Z",
     "start_time": "2022-06-20T09:13:36.229270Z"
    }
   },
   "outputs": [],
   "source": [
    "train_imgs=torchvision.datasets.ImageFolder(r'F:\\study\\ml\\HotDog\\train')\n",
    "test_imgs=torchvision.datasets.ImageFolder(r'F:\\study\\ml\\HotDog\\train')"
   ]
  },
  {
   "cell_type": "code",
   "execution_count": 15,
   "id": "1d8f1aa4",
   "metadata": {
    "ExecuteTime": {
     "end_time": "2022-06-20T09:26:37.815019Z",
     "start_time": "2022-06-20T09:26:37.811018Z"
    }
   },
   "outputs": [],
   "source": [
    "def show_images(imgs,num_rows,num_cols,scale=1.5):\n",
    "    figsize=(num_cols*scale,num_rows*scale)\n",
    "    plt.subplots(num_rows,num_cols,figsize=figsize)\n",
    "    for i in range(num_cols*num_rows):\n",
    "        plt.subplot(num_rows,num_cols,i+1)\n",
    "        plt.imshow(imgs[i])\n",
    "    plt.show()\n",
    "    \n",
    "    \n",
    "    "
   ]
  },
  {
   "cell_type": "code",
   "execution_count": 10,
   "id": "ffe50cf8",
   "metadata": {
    "ExecuteTime": {
     "end_time": "2022-06-20T09:24:57.860326Z",
     "start_time": "2022-06-20T09:24:57.857826Z"
    }
   },
   "outputs": [],
   "source": [
    "import PIL"
   ]
  },
  {
   "cell_type": "code",
   "execution_count": 14,
   "id": "a8c4bbf5",
   "metadata": {
    "ExecuteTime": {
     "end_time": "2022-06-20T09:25:49.032324Z",
     "start_time": "2022-06-20T09:25:49.026323Z"
    }
   },
   "outputs": [
    {
     "name": "stdout",
     "output_type": "stream",
     "text": [
      "<class 'PIL.Image.Image'>\n",
      "1\n"
     ]
    }
   ],
   "source": [
    "for i in train_imgs:\n",
    "    print(type(i[0]))\n",
    "    if isinstance(i[0],PIL.Image.Image):\n",
    "        print(1)\n",
    "    else:\n",
    "        print(0)\n",
    "    break"
   ]
  },
  {
   "cell_type": "code",
   "execution_count": 16,
   "id": "400878fd",
   "metadata": {
    "ExecuteTime": {
     "end_time": "2022-06-20T09:26:41.705012Z",
     "start_time": "2022-06-20T09:26:41.114938Z"
    }
   },
   "outputs": [],
   "source": [
    "hotdogs=[train_imgs[i][0] for i in range(8)]\n",
    "not_hotdogs=[train_imgs[-i-1][0] for i in range(8)]\n",
    "show_images(hotdogs+not_hotdogs,2,8,1.4)"
   ]
  },
  {
   "cell_type": "code",
   "execution_count": 20,
   "id": "5344b347",
   "metadata": {
    "ExecuteTime": {
     "end_time": "2022-06-20T09:34:18.965577Z",
     "start_time": "2022-06-20T09:34:18.962577Z"
    }
   },
   "outputs": [],
   "source": [
    "normize=torchvision.transforms.Normalize([0.485,0.456,0.406],[0.229,0.224,0.225])"
   ]
  },
  {
   "cell_type": "code",
   "execution_count": 21,
   "id": "e74159a3",
   "metadata": {
    "ExecuteTime": {
     "end_time": "2022-06-20T09:36:23.462386Z",
     "start_time": "2022-06-20T09:36:23.458886Z"
    }
   },
   "outputs": [],
   "source": [
    "train_augs=torchvision.transforms.Compose([\n",
    "    torchvision.transforms.RandomResizedCrop(224),\n",
    "    torchvision.transforms.RandomHorizontalFlip(),\n",
    "    torchvision.transforms.ToTensor(),\n",
    "    normize\n",
    "])"
   ]
  },
  {
   "cell_type": "code",
   "execution_count": 23,
   "id": "64d1d8dd",
   "metadata": {
    "ExecuteTime": {
     "end_time": "2022-06-20T09:47:39.617747Z",
     "start_time": "2022-06-20T09:47:39.613747Z"
    }
   },
   "outputs": [],
   "source": [
    "test_augs=torchvision.transforms.Compose([\n",
    "    torchvision.transforms.Resize(256),\n",
    "    torchvision.transforms.CenterCrop(224),\n",
    "    torchvision.transforms.ToTensor(),\n",
    "    normize\n",
    "])"
   ]
  },
  {
   "cell_type": "code",
   "execution_count": 24,
   "id": "a3682ae8",
   "metadata": {
    "ExecuteTime": {
     "end_time": "2022-06-20T09:48:38.508725Z",
     "start_time": "2022-06-20T09:48:13.580060Z"
    }
   },
   "outputs": [
    {
     "name": "stderr",
     "output_type": "stream",
     "text": [
      "Downloading: \"https://download.pytorch.org/models/resnet18-f37072fd.pth\" to C:\\Users\\Administrator/.cache\\torch\\hub\\checkpoints\\resnet18-f37072fd.pth\n"
     ]
    },
    {
     "data": {
      "application/vnd.jupyter.widget-view+json": {
       "model_id": "855bf5eb5eaf44d99022fbf45d6f8bf2",
       "version_major": 2,
       "version_minor": 0
      },
      "text/plain": [
       "  0%|          | 0.00/44.7M [00:00<?, ?B/s]"
      ]
     },
     "metadata": {},
     "output_type": "display_data"
    }
   ],
   "source": [
    "pretrained_net=torchvision.models.resnet18(pretrained=True)"
   ]
  },
  {
   "cell_type": "code",
   "execution_count": 25,
   "id": "11e14355",
   "metadata": {
    "ExecuteTime": {
     "end_time": "2022-06-20T09:52:30.345665Z",
     "start_time": "2022-06-20T09:52:30.339664Z"
    }
   },
   "outputs": [
    {
     "data": {
      "text/plain": [
       "Linear(in_features=512, out_features=1000, bias=True)"
      ]
     },
     "execution_count": 25,
     "metadata": {},
     "output_type": "execute_result"
    }
   ],
   "source": [
    "pretrained_net.fc"
   ]
  },
  {
   "cell_type": "code",
   "execution_count": 30,
   "id": "3e5a2216",
   "metadata": {
    "ExecuteTime": {
     "end_time": "2022-06-20T09:56:38.930731Z",
     "start_time": "2022-06-20T09:56:38.699702Z"
    }
   },
   "outputs": [
    {
     "data": {
      "text/plain": [
       "Parameter containing:\n",
       "tensor([[ 0.1061, -0.0600, -0.0635,  ..., -0.0840, -0.0475,  0.0293],\n",
       "        [ 0.0704,  0.1014,  0.0595,  ..., -0.0955,  0.0042,  0.0964]],\n",
       "       requires_grad=True)"
      ]
     },
     "execution_count": 30,
     "metadata": {},
     "output_type": "execute_result"
    }
   ],
   "source": [
    "finetune_net=torchvision.models.resnet18(pretrained=True)\n",
    "finetune_net.fc=nn.Linear(finetune_net.fc.in_features,2)\n",
    "nn.init.xavier_uniform_(finetune_net.fc.weight)"
   ]
  },
  {
   "cell_type": "code",
   "execution_count": 31,
   "id": "21314212",
   "metadata": {
    "ExecuteTime": {
     "end_time": "2022-06-20T10:08:35.497724Z",
     "start_time": "2022-06-20T10:08:35.492223Z"
    }
   },
   "outputs": [],
   "source": [
    "def evaluate_acc_gpu(net,data_iter,device=None):\n",
    "    if isinstance(net,nn.Module):\n",
    "        device='cuda' if torch.cuda.is_available() else 'cpu'\n",
    "        net.to(device)\n",
    "        net.eval()\n",
    "        l_sum=[]\n",
    "        with torch.no_grad():\n",
    "          for X,y in data_iter:\n",
    "              X,y=X.to(device),y.to(device)\n",
    "              y_hat=net(X)\n",
    "              l_sum.append((sum(torch.argmax(y_hat,dim=1).reshape(y.shape)==y) / y.shape[0]).item())\n",
    "    return sum(l_sum) / len(l_sum)"
   ]
  },
  {
   "cell_type": "code",
   "execution_count": 32,
   "id": "efc5d313",
   "metadata": {
    "ExecuteTime": {
     "end_time": "2022-06-20T10:08:42.100062Z",
     "start_time": "2022-06-20T10:08:42.092061Z"
    }
   },
   "outputs": [],
   "source": [
    "def train_ch6(net,train_iter,test_iter,loss,trainer,num_epochs,device):\n",
    "    def init_weight(m):\n",
    "        if type(m) == nn.Linear or type(m)==nn.Conv2d:\n",
    "            torch.nn.init.xavier_uniform_(m.weight)\n",
    "    net.apply(init_weight)\n",
    "    print('training on : ',device)\n",
    "    net.to(device)\n",
    "    \n",
    "#     optimizer=optim.Adam(net.parameters(),lr=lr)\n",
    "#     loss=nn.CrossEntropyLoss(reduction=\"none\")\n",
    "    for epoch in range(num_epochs):\n",
    "        tr_l=[]\n",
    "        tr_acc=[]\n",
    "        net.train()\n",
    "        for X,y in train_iter:\n",
    "            X,y=X.to(device),y.to(device)\n",
    "            y_hat=net(X)\n",
    "            l=loss(y_hat,y).mean()\n",
    "            optimizer.zero_grad()\n",
    "            l.backward()\n",
    "            optimizer.step()\n",
    "            with torch.no_grad():\n",
    "                tr_l.append(l.item())\n",
    "                tr_acc.append((sum(torch.argmax(y_hat,dim=1).reshape(y.shape) == y) / y.shape[0]).item())\n",
    "        test_acc=evaluate_acc_gpu(net,test_iter,device)\n",
    "        print('epoch : ',epoch ,' train loss : ',sum(tr_l)/len(tr_l),' train acc : ', sum(tr_acc)/len(tr_acc),'test acc : ',test_acc)"
   ]
  },
  {
   "cell_type": "code",
   "execution_count": null,
   "id": "a69a2bca",
   "metadata": {},
   "outputs": [],
   "source": [
    "def train_fine_tuning(net,lr,batch_size=128,num_epochs=5,param_group=True):\n",
    "    train_iter=torch.utils.data.DataLoader(torchvision.datasets.ImageFolder(r'F:\\study\\ml\\HotDog\\train',transform=train_augs),\n",
    "                                           batch_size=batch_size,shuffle=True)\n",
    "    test_iter=torch.utils.data.DataLoader(torchvision.datasets.ImageFolder(r'F:\\study\\ml\\HotDog\\test',transform=test_augs),\n",
    "                                           batch_size=batch_size,shuffle=True)\n",
    "    device='cpu'\n",
    "    loss=nn.CrossEntropyLoss(reduction='none')\n",
    "    if param_group:\n",
    "        params_1x=[param for name,param in net.named_parameters() if name not in [\"fc.weight\",\"fc.bias\"]]\n",
    "        trainer=torch.optim.SGD([{'params':params_1x},\n",
    "                                {'params':net.fc.parameters(),\n",
    "                                'lr':lr*10}],\n",
    "                               lr=lr,weight_decay=0.001)\n",
    "    else:\n",
    "        trainer=torch.optim.SGD(net,.parameters(),lr=lr,weight_decay=0.001)\n",
    "    train_ch6(net,train_iter,test_iter,num_epochs,lr,device)\n",
    "        "
   ]
  },
  {
   "cell_type": "code",
   "execution_count": null,
   "id": "f72a7ae5",
   "metadata": {},
   "outputs": [],
   "source": []
  },
  {
   "cell_type": "code",
   "execution_count": null,
   "id": "ca906223",
   "metadata": {},
   "outputs": [],
   "source": []
  },
  {
   "cell_type": "code",
   "execution_count": null,
   "id": "1f7c5222",
   "metadata": {},
   "outputs": [],
   "source": []
  },
  {
   "cell_type": "code",
   "execution_count": null,
   "id": "664876ee",
   "metadata": {},
   "outputs": [],
   "source": []
  }
 ],
 "metadata": {
  "kernelspec": {
   "display_name": "Python 3",
   "language": "python",
   "name": "python3"
  },
  "language_info": {
   "codemirror_mode": {
    "name": "ipython",
    "version": 3
   },
   "file_extension": ".py",
   "mimetype": "text/x-python",
   "name": "python",
   "nbconvert_exporter": "python",
   "pygments_lexer": "ipython3",
   "version": "3.8.8"
  }
 },
 "nbformat": 4,
 "nbformat_minor": 5
}
