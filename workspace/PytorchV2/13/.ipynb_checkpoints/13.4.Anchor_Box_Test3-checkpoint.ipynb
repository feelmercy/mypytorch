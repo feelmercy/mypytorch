{
 "cells": [
  {
   "cell_type": "code",
   "execution_count": 1,
   "id": "c6c2da59",
   "metadata": {
    "ExecuteTime": {
     "end_time": "2022-07-21T05:55:19.861667Z",
     "start_time": "2022-07-21T05:55:07.823111Z"
    }
   },
   "outputs": [
    {
     "name": "stdout",
     "output_type": "stream",
     "text": [
      "Using matplotlib backend: Qt5Agg\n"
     ]
    }
   ],
   "source": [
    "import numpy as np\n",
    "import torch \n",
    "import matplotlib.pyplot as plt\n",
    "%matplotlib auto"
   ]
  },
  {
   "cell_type": "code",
   "execution_count": 2,
   "id": "bc00ae39",
   "metadata": {
    "ExecuteTime": {
     "end_time": "2022-07-21T05:55:19.876607Z",
     "start_time": "2022-07-21T05:55:19.862616Z"
    }
   },
   "outputs": [],
   "source": [
    "def multibox_prior(data,sizes,ratios):\n",
    "    in_height,in_weight=data.shape[-2:]\n",
    "    num_sizes,num_ratios=len(sizes),len(ratios)\n",
    "    box_per_pixel=(num_sizes+num_ratios-1)\n",
    "    size_tensor=torch.tensor(sizes)\n",
    "    ratio_tensor=torch.tensor(ratios)\n",
    "    \n",
    "    offset_h,offset_w=0.5,0.5\n",
    "    steps_h=1.0/in_height\n",
    "    steps_w=1.0/in_weight\n",
    "    \n",
    "    center_h=(torch.arange(in_height)+offset_h)*steps_h\n",
    "    center_w=(torch.arange(in_weight)+offset_w)*steps_w\n",
    "    shift_y,shift_x=torch.meshgrid(center_h,center_w)\n",
    "    shift_y,shift_x=shift_y.reshape(-1),shift_x.reshape(-1)\n",
    "    \n",
    "    w=torch.cat((size_tensor*torch.sqrt(ratio_tensor[0]),size_tensor[0]*torch.sqrt(ratio_tensor[1:]))) * in_height/in_weight\n",
    "    h=torch.cat((size_tensor/torch.sqrt(ratio_tensor[0]),size_tensor[1]/torch.sqrt(ratio_tensor[1:])))\n",
    "    \n",
    "    anchor_manipulations=torch.stack((-w,-h,w,h)).T.repeat(in_height*in_weight,1)/2\n",
    "    \n",
    "    out_grid=torch.stack([shift_x,shift_y,shift_x,shift_y],dim=1).repeat_interleave(box_per_pixel,dim=0)\n",
    "    output=out_grid+anchor_manipulations\n",
    "    return output.unsqueeze(0)\n",
    "    "
   ]
  },
  {
   "cell_type": "code",
   "execution_count": 3,
   "id": "563b11ba",
   "metadata": {
    "ExecuteTime": {
     "end_time": "2022-07-21T05:55:28.487969Z",
     "start_time": "2022-07-21T05:55:28.288833Z"
    }
   },
   "outputs": [
    {
     "name": "stdout",
     "output_type": "stream",
     "text": [
      "561 728\n"
     ]
    }
   ],
   "source": [
    "img=plt.imread(r'F:\\study\\ml\\LM\\image\\13\\catdog.jpg')\n",
    "h,w=img.shape[:2]\n",
    "print(h,w)"
   ]
  },
  {
   "cell_type": "code",
   "execution_count": 4,
   "id": "c4c86a1f",
   "metadata": {
    "ExecuteTime": {
     "end_time": "2022-07-21T05:55:29.306868Z",
     "start_time": "2022-07-21T05:55:28.952002Z"
    }
   },
   "outputs": [
    {
     "name": "stderr",
     "output_type": "stream",
     "text": [
      "D:\\ProgramData\\Anaconda3\\lib\\site-packages\\torch\\functional.py:568: UserWarning: torch.meshgrid: in an upcoming release, it will be required to pass the indexing argument. (Triggered internally at  C:\\actions-runner\\_work\\pytorch\\pytorch\\builder\\windows\\pytorch\\aten\\src\\ATen\\native\\TensorShape.cpp:2228.)\n",
      "  return _VF.meshgrid(tensors, **kwargs)  # type: ignore[attr-defined]\n"
     ]
    },
    {
     "data": {
      "text/plain": [
       "torch.Size([1, 2042040, 4])"
      ]
     },
     "execution_count": 4,
     "metadata": {},
     "output_type": "execute_result"
    }
   ],
   "source": [
    "X=torch.rand(size=(1,3,h,w))\n",
    "Y=multibox_prior(X,sizes=[0.75,0.5,0.25],ratios=[1,2,0.5])\n",
    "Y.shape"
   ]
  },
  {
   "cell_type": "code",
   "execution_count": 5,
   "id": "383f01d9",
   "metadata": {
    "ExecuteTime": {
     "end_time": "2022-07-21T05:55:29.381825Z",
     "start_time": "2022-07-21T05:55:29.368832Z"
    }
   },
   "outputs": [],
   "source": [
    "def bbox_to_rect(bbox,color):\n",
    "    return plt.Rectangle(xy=(bbox[0],bbox[1]),width=bbox[2]-bbox[0],height=bbox[3]-bbox[1],fill=False,edgecolor=color,linewidth=2)"
   ]
  },
  {
   "cell_type": "code",
   "execution_count": 6,
   "id": "7423d763",
   "metadata": {
    "ExecuteTime": {
     "end_time": "2022-07-21T05:55:29.896386Z",
     "start_time": "2022-07-21T05:55:29.888403Z"
    }
   },
   "outputs": [],
   "source": [
    "def show_bboxes(axes,bboxes,labels=None,colors=None):\n",
    "    def _make_list(obj,default_values=None):\n",
    "        if obj is None:\n",
    "            obj=default_values\n",
    "        elif not isinstance(obj,(list,tuple)):\n",
    "            obj=[obj]\n",
    "        return obj\n",
    "    \n",
    "    labels=_make_list(labels)\n",
    "    colors=_make_list(colors,['b','g','r','m','c'])\n",
    "    plt.imshow(axes)\n",
    "    for i ,bbox in enumerate(bboxes):\n",
    "        color=colors[i % len(colors)]\n",
    "        rect=bbox_to_rect(bbox.detach().numpy(),color)\n",
    "        plt.gca().add_patch(rect)\n",
    "        if labels and len(labels)>i:\n",
    "            text_color='k' if color=='w' else 'w'\n",
    "            plt.text(rect.xy[0],rect.xy[1],labels[i],va='center',ha='center',fontsize=9,color=text_color,bbox=dict(facecolor=color,lw=0))\n",
    "        \n",
    "    "
   ]
  },
  {
   "cell_type": "code",
   "execution_count": 7,
   "id": "8726226e",
   "metadata": {
    "ExecuteTime": {
     "end_time": "2022-07-21T05:55:30.382735Z",
     "start_time": "2022-07-21T05:55:30.376739Z"
    }
   },
   "outputs": [],
   "source": [
    "boxes = Y.reshape(h, w, 5, 4)\n",
    "bbox_scale = torch.tensor((w, h, w, h))\n",
    "# box1=(boxes[250, 250, 2, :]*bbox_scale).detach().numpy()\n",
    "box1=(boxes[250, 250, :, :]*bbox_scale).detach().numpy()"
   ]
  },
  {
   "cell_type": "code",
   "execution_count": 8,
   "id": "dfd23eba",
   "metadata": {
    "ExecuteTime": {
     "end_time": "2022-07-21T05:55:31.977915Z",
     "start_time": "2022-07-21T05:55:30.847939Z"
    }
   },
   "outputs": [],
   "source": [
    "h,w=img.shape[:2]\n",
    "\n",
    "bbox_scale = torch.tensor((w, h, w, h))\n",
    "show_bboxes(img, boxes[250, 250, :, :] * bbox_scale,['s=0.75, r=1', 's=0.5, r=1', 's=0.25, r=1', 's=0.75, r=2','s=0.75, r=0.5'])"
   ]
  },
  {
   "cell_type": "code",
   "execution_count": 9,
   "id": "64c8860e",
   "metadata": {
    "ExecuteTime": {
     "end_time": "2022-07-21T05:55:32.584986Z",
     "start_time": "2022-07-21T05:55:32.569003Z"
    }
   },
   "outputs": [],
   "source": [
    "def box_iou(boxes1,boxes2):\n",
    "    box_area=lambda boxes:((boxes[:,2]-boxes[:,0])*(boxes[:,3]-boxes[:,1]))\n",
    "    areas1=box_area(boxes1)\n",
    "    areas2=box_area(boxes2)\n",
    "    \n",
    "    inter_upperlefts=torch.max(boxes1[:,None,:2],boxes2[:,:2])\n",
    "    inter_lowerright=torch.min(boxes1[:,None,2:],boxes2[:,2:])\n",
    "    \n",
    "    inters=(inter_lowerright-inter_upperlefts).clamp(min=0)\n",
    "    inter_areas=inters[:,:,0]*inters[:,:,1]\n",
    "    union_areas=areas1[:,None]+areas2-inter_areas\n",
    "    return inter_areas/union_areas\n",
    "    "
   ]
  },
  {
   "cell_type": "code",
   "execution_count": 46,
   "id": "f2ef3e84",
   "metadata": {
    "ExecuteTime": {
     "end_time": "2022-07-21T05:59:25.081632Z",
     "start_time": "2022-07-21T05:59:25.064642Z"
    }
   },
   "outputs": [],
   "source": [
    "ground_truth = torch.tensor([[0, 0.1, 0.08, 0.52, 0.92],[1, 0.55, 0.2, 0.9, 0.88]])\n",
    "anchors = torch.tensor([[0, 0.1, 0.2, 0.3], [0.15, 0.2, 0.4, 0.4],[0.63, 0.05, 0.88, 0.98], [0.66, 0.45, 0.8, 0.8],[0.57, 0.3, 0.92, 0.9]])"
   ]
  },
  {
   "cell_type": "code",
   "execution_count": 11,
   "id": "eb67e5ab",
   "metadata": {
    "ExecuteTime": {
     "end_time": "2022-07-21T05:55:33.514437Z",
     "start_time": "2022-07-21T05:55:33.472217Z"
    }
   },
   "outputs": [
    {
     "data": {
      "text/plain": [
       "tensor([[0.0536, 0.0000],\n",
       "        [0.1417, 0.0000],\n",
       "        [0.0000, 0.5657],\n",
       "        [0.0000, 0.2059],\n",
       "        [0.0000, 0.7459]])"
      ]
     },
     "execution_count": 11,
     "metadata": {},
     "output_type": "execute_result"
    }
   ],
   "source": [
    "box_iou(anchors,ground_truth[:,1:])"
   ]
  },
  {
   "cell_type": "code",
   "execution_count": 12,
   "id": "1f7ed852",
   "metadata": {
    "ExecuteTime": {
     "end_time": "2022-07-21T05:55:33.956759Z",
     "start_time": "2022-07-21T05:55:33.937784Z"
    }
   },
   "outputs": [
    {
     "data": {
      "text/plain": [
       "torch.return_types.max(\n",
       "values=tensor([0.0536, 0.1417, 0.5657, 0.2059, 0.7459]),\n",
       "indices=tensor([0, 0, 1, 1, 1]))"
      ]
     },
     "execution_count": 12,
     "metadata": {},
     "output_type": "execute_result"
    }
   ],
   "source": [
    "torch.max(box_iou(anchors,ground_truth[:,1:]),dim=1)"
   ]
  },
  {
   "cell_type": "code",
   "execution_count": 13,
   "id": "f8ffd5d2",
   "metadata": {
    "ExecuteTime": {
     "end_time": "2022-07-21T05:55:34.379060Z",
     "start_time": "2022-07-21T05:55:34.360058Z"
    }
   },
   "outputs": [
    {
     "data": {
      "text/plain": [
       "tensor(9)"
      ]
     },
     "execution_count": 13,
     "metadata": {},
     "output_type": "execute_result"
    }
   ],
   "source": [
    "torch.argmax(box_iou(anchors,ground_truth[:,1:]))"
   ]
  },
  {
   "cell_type": "code",
   "execution_count": 14,
   "id": "a0ee0a44",
   "metadata": {
    "ExecuteTime": {
     "end_time": "2022-07-21T05:55:34.836395Z",
     "start_time": "2022-07-21T05:55:34.824402Z"
    }
   },
   "outputs": [],
   "source": [
    "max_ious, indices = torch.max(box_iou(anchors,ground_truth[:,1:]),dim=1)"
   ]
  },
  {
   "cell_type": "code",
   "execution_count": 15,
   "id": "0c5aec2f",
   "metadata": {
    "ExecuteTime": {
     "end_time": "2022-07-21T05:55:35.257398Z",
     "start_time": "2022-07-21T05:55:35.248392Z"
    }
   },
   "outputs": [
    {
     "data": {
      "text/plain": [
       "tensor([0.0536, 0.1417, 0.5657, 0.2059, 0.7459])"
      ]
     },
     "execution_count": 15,
     "metadata": {},
     "output_type": "execute_result"
    }
   ],
   "source": [
    "max_ious"
   ]
  },
  {
   "cell_type": "code",
   "execution_count": 16,
   "id": "0119b5b7",
   "metadata": {
    "ExecuteTime": {
     "end_time": "2022-07-21T05:55:35.680147Z",
     "start_time": "2022-07-21T05:55:35.672138Z"
    }
   },
   "outputs": [
    {
     "data": {
      "text/plain": [
       "tensor([0, 0, 1, 1, 1])"
      ]
     },
     "execution_count": 16,
     "metadata": {},
     "output_type": "execute_result"
    }
   ],
   "source": [
    "indices"
   ]
  },
  {
   "cell_type": "code",
   "execution_count": 17,
   "id": "5e4beeec",
   "metadata": {
    "ExecuteTime": {
     "end_time": "2022-07-21T05:55:36.242216Z",
     "start_time": "2022-07-21T05:55:36.224236Z"
    }
   },
   "outputs": [
    {
     "data": {
      "text/plain": [
       "tensor([0.0536, 0.1417, 0.5657, 0.2059, 0.7459])"
      ]
     },
     "execution_count": 17,
     "metadata": {},
     "output_type": "execute_result"
    }
   ],
   "source": [
    "max_ious"
   ]
  },
  {
   "cell_type": "code",
   "execution_count": 18,
   "id": "9a8ad7ab",
   "metadata": {
    "ExecuteTime": {
     "end_time": "2022-07-21T05:55:36.834579Z",
     "start_time": "2022-07-21T05:55:36.816547Z"
    }
   },
   "outputs": [
    {
     "data": {
      "text/plain": [
       "tensor([False, False,  True, False,  True])"
      ]
     },
     "execution_count": 18,
     "metadata": {},
     "output_type": "execute_result"
    }
   ],
   "source": [
    "max_ious >= 0.5"
   ]
  },
  {
   "cell_type": "code",
   "execution_count": 19,
   "id": "b3158307",
   "metadata": {
    "ExecuteTime": {
     "end_time": "2022-07-21T05:55:37.245122Z",
     "start_time": "2022-07-21T05:55:37.233143Z"
    }
   },
   "outputs": [
    {
     "data": {
      "text/plain": [
       "tensor([0., 0., 1., 0., 1.])"
      ]
     },
     "execution_count": 19,
     "metadata": {},
     "output_type": "execute_result"
    }
   ],
   "source": [
    "torch.Tensor([False, False,  True, False,  True])"
   ]
  },
  {
   "cell_type": "code",
   "execution_count": 20,
   "id": "2761615b",
   "metadata": {
    "ExecuteTime": {
     "end_time": "2022-07-21T05:55:37.700763Z",
     "start_time": "2022-07-21T05:55:37.664770Z"
    }
   },
   "outputs": [
    {
     "data": {
      "text/plain": [
       "tensor([[2],\n",
       "        [4]])"
      ]
     },
     "execution_count": 20,
     "metadata": {},
     "output_type": "execute_result"
    }
   ],
   "source": [
    "torch.nonzero(max_ious >= 0.5)"
   ]
  },
  {
   "cell_type": "code",
   "execution_count": 21,
   "id": "d40a46d0",
   "metadata": {
    "ExecuteTime": {
     "end_time": "2022-07-21T05:55:38.218496Z",
     "start_time": "2022-07-21T05:55:38.200520Z"
    }
   },
   "outputs": [
    {
     "data": {
      "text/plain": [
       "tensor([1, 1])"
      ]
     },
     "execution_count": 21,
     "metadata": {},
     "output_type": "execute_result"
    }
   ],
   "source": [
    "indices[max_ious >= 0.5]"
   ]
  },
  {
   "cell_type": "code",
   "execution_count": 22,
   "id": "29b151e9",
   "metadata": {
    "ExecuteTime": {
     "end_time": "2022-07-21T05:55:38.748355Z",
     "start_time": "2022-07-21T05:55:38.736361Z"
    }
   },
   "outputs": [
    {
     "data": {
      "text/plain": [
       "1"
      ]
     },
     "execution_count": 22,
     "metadata": {},
     "output_type": "execute_result"
    }
   ],
   "source": [
    "9%2"
   ]
  },
  {
   "cell_type": "code",
   "execution_count": 23,
   "id": "a1ee9a45",
   "metadata": {
    "ExecuteTime": {
     "end_time": "2022-07-21T05:55:39.354272Z",
     "start_time": "2022-07-21T05:55:39.344277Z"
    }
   },
   "outputs": [
    {
     "data": {
      "text/plain": [
       "4.5"
      ]
     },
     "execution_count": 23,
     "metadata": {},
     "output_type": "execute_result"
    }
   ],
   "source": [
    "9/2"
   ]
  },
  {
   "cell_type": "code",
   "execution_count": 24,
   "id": "7d17e341",
   "metadata": {
    "ExecuteTime": {
     "end_time": "2022-07-21T05:55:40.021316Z",
     "start_time": "2022-07-21T05:55:40.008324Z"
    }
   },
   "outputs": [],
   "source": [
    "def assign_anchor_to_bbox(groud_truth,anchors,device,iou_threshold=0.5):\n",
    "    num_anchors,num_gt_boxes=anchors.shape[0],groud_truth.shape[0]\n",
    "    jaccard=box_iou(anchors,groud_truth)\n",
    "    anchors_bbox_map=torch.full((num_anchors,),-1,dtype=torch.long,device=device)\n",
    "    max_ious,indices=torch.max(jaccard,dim=1)\n",
    "    anc_i=torch.nonzero(max_ious>0.5).reshape(-1)\n",
    "    box_j=indices[max_ious>=0.5]\n",
    "    anchors_bbox_map[anc_i]=box_j\n",
    "    col_discard=torch.full((num_anchors,),-1)\n",
    "    row_discard=torch.full((num_gt_boxes,),-1)\n",
    "    print('jaccard:\\n',anchors_bbox_map)\n",
    "    print('jaccard:\\n',jaccard)\n",
    "    for _ in range(num_gt_boxes):\n",
    "        max_idx=torch.argmax(jaccard)\n",
    "        box_idx=(max_idx % num_gt_boxes).long()\n",
    "        anc_idx=(max_idx / num_gt_boxes).long()\n",
    "        anchors_bbox_map[anc_idx]=box_idx\n",
    "        jaccard[:,box_idx]=col_discard\n",
    "        jaccard[anc_idx,:]=row_discard\n",
    "        print('__________________:',_)\n",
    "        print('max_idx:',max_idx)\n",
    "        print('box_idx:',box_idx)\n",
    "        print('anc_idx:',anc_idx)\n",
    "        print('jaccard:\\n',jaccard)\n",
    "        print('jaccard:\\n',anchors_bbox_map)\n",
    "        \n",
    "    return anchors_bbox_map\n"
   ]
  },
  {
   "cell_type": "code",
   "execution_count": 25,
   "id": "c00ae552",
   "metadata": {
    "ExecuteTime": {
     "end_time": "2022-07-21T05:55:40.812984Z",
     "start_time": "2022-07-21T05:55:40.769010Z"
    }
   },
   "outputs": [
    {
     "name": "stdout",
     "output_type": "stream",
     "text": [
      "jaccard:\n",
      " tensor([-1, -1,  1, -1,  1])\n",
      "jaccard:\n",
      " tensor([[0.0536, 0.0000],\n",
      "        [0.1417, 0.0000],\n",
      "        [0.0000, 0.5657],\n",
      "        [0.0000, 0.2059],\n",
      "        [0.0000, 0.7459]])\n",
      "__________________: 0\n",
      "max_idx: tensor(9)\n",
      "box_idx: tensor(1)\n",
      "anc_idx: tensor(4)\n",
      "jaccard:\n",
      " tensor([[ 0.0536, -1.0000],\n",
      "        [ 0.1417, -1.0000],\n",
      "        [ 0.0000, -1.0000],\n",
      "        [ 0.0000, -1.0000],\n",
      "        [-1.0000, -1.0000]])\n",
      "jaccard:\n",
      " tensor([-1, -1,  1, -1,  1])\n",
      "__________________: 1\n",
      "max_idx: tensor(2)\n",
      "box_idx: tensor(0)\n",
      "anc_idx: tensor(1)\n",
      "jaccard:\n",
      " tensor([[-1., -1.],\n",
      "        [-1., -1.],\n",
      "        [-1., -1.],\n",
      "        [-1., -1.],\n",
      "        [-1., -1.]])\n",
      "jaccard:\n",
      " tensor([-1,  0,  1, -1,  1])\n"
     ]
    },
    {
     "data": {
      "text/plain": [
       "tensor([-1,  0,  1, -1,  1])"
      ]
     },
     "execution_count": 25,
     "metadata": {},
     "output_type": "execute_result"
    }
   ],
   "source": [
    "assign_anchor_to_bbox(ground_truth[:,1:],anchors,'cpu')"
   ]
  },
  {
   "cell_type": "code",
   "execution_count": 26,
   "id": "7272b702",
   "metadata": {
    "ExecuteTime": {
     "end_time": "2022-07-21T05:55:44.465656Z",
     "start_time": "2022-07-21T05:55:44.016425Z"
    }
   },
   "outputs": [
    {
     "ename": "TypeError",
     "evalue": "'>' not supported between instances of 'list' and 'int'",
     "output_type": "error",
     "traceback": [
      "\u001b[1;31m---------------------------------------------------------------------------\u001b[0m",
      "\u001b[1;31mTypeError\u001b[0m                                 Traceback (most recent call last)",
      "\u001b[1;32m<ipython-input-26-dbef6049b6d0>\u001b[0m in \u001b[0;36m<module>\u001b[1;34m\u001b[0m\n\u001b[1;32m----> 1\u001b[1;33m \u001b[1;33m[\u001b[0m\u001b[1;36m1\u001b[0m\u001b[1;33m,\u001b[0m\u001b[1;36m2\u001b[0m\u001b[1;33m,\u001b[0m\u001b[1;36m3\u001b[0m\u001b[1;33m,\u001b[0m\u001b[1;36m4\u001b[0m\u001b[1;33m,\u001b[0m\u001b[1;36m5\u001b[0m\u001b[1;33m]\u001b[0m\u001b[1;33m>\u001b[0m\u001b[1;36m2\u001b[0m\u001b[1;33m\u001b[0m\u001b[1;33m\u001b[0m\u001b[0m\n\u001b[0m",
      "\u001b[1;31mTypeError\u001b[0m: '>' not supported between instances of 'list' and 'int'"
     ]
    }
   ],
   "source": [
    "[1,2,3,4,5]>2"
   ]
  },
  {
   "cell_type": "code",
   "execution_count": 27,
   "id": "d5ddaed1",
   "metadata": {
    "ExecuteTime": {
     "end_time": "2022-07-21T05:55:48.244966Z",
     "start_time": "2022-07-21T05:55:48.232972Z"
    }
   },
   "outputs": [
    {
     "data": {
      "text/plain": [
       "tensor([False, False,  True,  True,  True])"
      ]
     },
     "execution_count": 27,
     "metadata": {},
     "output_type": "execute_result"
    }
   ],
   "source": [
    "torch.Tensor([1,2,3,4,5])>2"
   ]
  },
  {
   "cell_type": "code",
   "execution_count": 28,
   "id": "a3676315",
   "metadata": {
    "ExecuteTime": {
     "end_time": "2022-07-21T05:55:48.670149Z",
     "start_time": "2022-07-21T05:55:48.656157Z"
    }
   },
   "outputs": [
    {
     "data": {
      "text/plain": [
       "tensor([0., 0., 1., 1., 1.])"
      ]
     },
     "execution_count": 28,
     "metadata": {},
     "output_type": "execute_result"
    }
   ],
   "source": [
    "(torch.Tensor([1,2,3,4,5])>2).float()"
   ]
  },
  {
   "cell_type": "code",
   "execution_count": 29,
   "id": "bf2fb4b0",
   "metadata": {
    "ExecuteTime": {
     "end_time": "2022-07-21T05:55:49.019283Z",
     "start_time": "2022-07-21T05:55:49.001293Z"
    }
   },
   "outputs": [
    {
     "data": {
      "text/plain": [
       "tensor([[0., 0., 1., 1., 1.]])"
      ]
     },
     "execution_count": 29,
     "metadata": {},
     "output_type": "execute_result"
    }
   ],
   "source": [
    "(torch.Tensor([1,2,3,4,5])>2).float().unsqueeze(0)"
   ]
  },
  {
   "cell_type": "code",
   "execution_count": 30,
   "id": "4532e2b3",
   "metadata": {
    "ExecuteTime": {
     "end_time": "2022-07-21T05:55:49.488694Z",
     "start_time": "2022-07-21T05:55:49.480686Z"
    }
   },
   "outputs": [
    {
     "data": {
      "text/plain": [
       "tensor([[0.],\n",
       "        [0.],\n",
       "        [1.],\n",
       "        [1.],\n",
       "        [1.]])"
      ]
     },
     "execution_count": 30,
     "metadata": {},
     "output_type": "execute_result"
    }
   ],
   "source": [
    "(torch.Tensor([1,2,3,4,5])>2).float().unsqueeze(-1)"
   ]
  },
  {
   "cell_type": "code",
   "execution_count": 31,
   "id": "dc07aa2c",
   "metadata": {
    "ExecuteTime": {
     "end_time": "2022-07-21T05:55:50.126635Z",
     "start_time": "2022-07-21T05:55:50.112630Z"
    }
   },
   "outputs": [],
   "source": [
    "def box_corner_to_center(boxes):\n",
    "    x1,y1,x2,y2=boxes[:,0],boxes[:,1],boxes[:,2],boxes[:,3]\n",
    "    cx=(x1+x2)/2\n",
    "    cy=(y1+y2)/2\n",
    "    w=x2-x1\n",
    "    h=y2-y1\n",
    "    boxes=torch.stack((cx,cy,w,h),axis=-1)\n",
    "    return boxes"
   ]
  },
  {
   "cell_type": "code",
   "execution_count": 32,
   "id": "0831f69f",
   "metadata": {
    "ExecuteTime": {
     "end_time": "2022-07-21T05:55:58.562779Z",
     "start_time": "2022-07-21T05:55:58.544790Z"
    }
   },
   "outputs": [],
   "source": [
    "def offset_boxes(anchors,assigned_bb,eps=1e-6):\n",
    "    c_anc=box_corner_to_center(anchors)\n",
    "    c_assigned_bb=box_corner_to_center(assigned_bb)\n",
    "    offset_xy=10*(c_assigned_bb[:,:2]-c_anc[:,:2])/c_anc[:,2:]\n",
    "    offset_wh=5*torch.log(eps+c_assigned_bb[:,2:]/c_anc[:,2:])\n",
    "    offset=torch.cat([offset_xy,offset_wh],axis=1)\n",
    "    return offset"
   ]
  },
  {
   "cell_type": "code",
   "execution_count": 33,
   "id": "932bd40e",
   "metadata": {
    "ExecuteTime": {
     "end_time": "2022-07-21T05:55:59.732675Z",
     "start_time": "2022-07-21T05:55:59.720681Z"
    }
   },
   "outputs": [],
   "source": [
    "def multibox_target(anchors,labels):\n",
    "    batch_size,anchors=labels.shape[0],anchors.squeeze(0)\n",
    "    batch_offset,batch_mask,batch_class_labels=[],[],[]\n",
    "    device,num_anchors=anchors.device,anchors.shape[0]\n",
    "    for i in range(batch_size):\n",
    "        label=labels[i,:,:]\n",
    "        anchors_bbox_map=assign_anchor_to_bbox(label[:,1:],anchors,device)\n",
    "        bbox_mask=((anchors_bbox_map>=0).float().unsqueeze(-1).repeat(1,4))\n",
    "        class_labels=torch.zeros(num_anchors,dtype=torch.long,device=device)\n",
    "        assigned_bb=torch.zeros((num_anchors,4),dtype=torch.float32,device=device)\n",
    "        indices_true=torch.nonzero(anchors_bbox_map>=0)\n",
    "        print('anchors_bbox_map ',anchors_bbox_map)\n",
    "        print('indices_true ',indices_true)\n",
    "        bb_idx=anchors_bbox_map[indices_true]\n",
    "        print('label:',label)\n",
    "        print('bb_idx:',bb_idx)\n",
    "        class_labels[indices_true]=label[bb_idx,0].long()+1\n",
    "        print('class_labels:',class_labels)\n",
    "        assigned_bb[indices_true]=label[bb_idx,1:]\n",
    "        offset=offset_boxes(anchors,assigned_bb)*bbox_mask\n",
    "        batch_offset.append(offset.reshape(-1))\n",
    "        batch_mask.append(bbox_mask.reshape(-1))\n",
    "        batch_class_labels.append(class_labels)\n",
    "    bbox_offset=torch.stack(batch_offset)\n",
    "    bbox_mask=torch.stack(batch_mask)\n",
    "    class_labesl=torch.stack(batch_class_labels)\n",
    "    return (bbox_offset,bbox_mask,class_labels)"
   ]
  },
  {
   "cell_type": "code",
   "execution_count": 36,
   "id": "8056f018",
   "metadata": {
    "ExecuteTime": {
     "end_time": "2022-07-21T05:56:31.431335Z",
     "start_time": "2022-07-21T05:56:31.399355Z"
    }
   },
   "outputs": [],
   "source": [
    "show_bboxes(img, ground_truth[:, 1:] * bbox_scale, ['dog', 'cat'], 'k')\n",
    "show_bboxes(img, anchors * bbox_scale, ['0', '1', '2', '3', '4'])"
   ]
  },
  {
   "cell_type": "code",
   "execution_count": 37,
   "id": "99fb4512",
   "metadata": {
    "ExecuteTime": {
     "end_time": "2022-07-21T05:56:31.750577Z",
     "start_time": "2022-07-21T05:56:31.736586Z"
    }
   },
   "outputs": [
    {
     "data": {
      "text/plain": [
       "tensor([[[0.0000, 0.1000, 0.0800, 0.5200, 0.9200],\n",
       "         [1.0000, 0.5500, 0.2000, 0.9000, 0.8800]]])"
      ]
     },
     "execution_count": 37,
     "metadata": {},
     "output_type": "execute_result"
    }
   ],
   "source": [
    "ground_truth.unsqueeze(dim=0)"
   ]
  },
  {
   "cell_type": "code",
   "execution_count": 38,
   "id": "ea0c9648",
   "metadata": {
    "ExecuteTime": {
     "end_time": "2022-07-21T05:56:32.630822Z",
     "start_time": "2022-07-21T05:56:32.614804Z"
    }
   },
   "outputs": [
    {
     "data": {
      "text/plain": [
       "torch.Size([1, 2, 5])"
      ]
     },
     "execution_count": 38,
     "metadata": {},
     "output_type": "execute_result"
    }
   ],
   "source": [
    "ground_truth.unsqueeze(dim=0).shape"
   ]
  },
  {
   "cell_type": "code",
   "execution_count": 39,
   "id": "bbb9a4c1",
   "metadata": {
    "ExecuteTime": {
     "end_time": "2022-07-21T05:56:34.089679Z",
     "start_time": "2022-07-21T05:56:34.016722Z"
    }
   },
   "outputs": [
    {
     "name": "stdout",
     "output_type": "stream",
     "text": [
      "jaccard:\n",
      " tensor([-1, -1,  1, -1,  1])\n",
      "jaccard:\n",
      " tensor([[0.0536, 0.0000],\n",
      "        [0.1417, 0.0000],\n",
      "        [0.0000, 0.5657],\n",
      "        [0.0000, 0.2059],\n",
      "        [0.0000, 0.7459]])\n",
      "__________________: 0\n",
      "max_idx: tensor(9)\n",
      "box_idx: tensor(1)\n",
      "anc_idx: tensor(4)\n",
      "jaccard:\n",
      " tensor([[ 0.0536, -1.0000],\n",
      "        [ 0.1417, -1.0000],\n",
      "        [ 0.0000, -1.0000],\n",
      "        [ 0.0000, -1.0000],\n",
      "        [-1.0000, -1.0000]])\n",
      "jaccard:\n",
      " tensor([-1, -1,  1, -1,  1])\n",
      "__________________: 1\n",
      "max_idx: tensor(2)\n",
      "box_idx: tensor(0)\n",
      "anc_idx: tensor(1)\n",
      "jaccard:\n",
      " tensor([[-1., -1.],\n",
      "        [-1., -1.],\n",
      "        [-1., -1.],\n",
      "        [-1., -1.],\n",
      "        [-1., -1.]])\n",
      "jaccard:\n",
      " tensor([-1,  0,  1, -1,  1])\n",
      "anchors_bbox_map  tensor([-1,  0,  1, -1,  1])\n",
      "indices_true  tensor([[1],\n",
      "        [2],\n",
      "        [4]])\n",
      "label: tensor([[0.0000, 0.1000, 0.0800, 0.5200, 0.9200],\n",
      "        [1.0000, 0.5500, 0.2000, 0.9000, 0.8800]])\n",
      "bb_idx: tensor([[0],\n",
      "        [1],\n",
      "        [1]])\n",
      "class_labels: tensor([0, 1, 2, 0, 2])\n"
     ]
    }
   ],
   "source": [
    "labels = multibox_target(anchors.unsqueeze(dim=0),ground_truth.unsqueeze(dim=0))"
   ]
  },
  {
   "cell_type": "code",
   "execution_count": 40,
   "id": "3bbbaa5d",
   "metadata": {
    "ExecuteTime": {
     "end_time": "2022-07-21T05:56:34.706816Z",
     "start_time": "2022-07-21T05:56:34.696808Z"
    }
   },
   "outputs": [
    {
     "data": {
      "text/plain": [
       "(tensor([[-0.0000e+00, -0.0000e+00, -0.0000e+00, -0.0000e+00,  1.4000e+00,\n",
       "           1.0000e+01,  2.5940e+00,  7.1754e+00, -1.2000e+00,  2.6882e-01,\n",
       "           1.6824e+00, -1.5655e+00, -0.0000e+00, -0.0000e+00, -0.0000e+00,\n",
       "          -0.0000e+00, -5.7143e-01, -1.0000e+00,  4.1723e-06,  6.2582e-01]]),\n",
       " tensor([[0., 0., 0., 0., 1., 1., 1., 1., 1., 1., 1., 1., 0., 0., 0., 0., 1., 1.,\n",
       "          1., 1.]]),\n",
       " tensor([0, 1, 2, 0, 2]))"
      ]
     },
     "execution_count": 40,
     "metadata": {},
     "output_type": "execute_result"
    }
   ],
   "source": [
    "labels"
   ]
  },
  {
   "cell_type": "code",
   "execution_count": 41,
   "id": "b4d16b9c",
   "metadata": {
    "ExecuteTime": {
     "end_time": "2022-07-21T05:56:36.056248Z",
     "start_time": "2022-07-21T05:56:36.040258Z"
    }
   },
   "outputs": [
    {
     "data": {
      "text/plain": [
       "tensor([0, 1, 2, 0, 2])"
      ]
     },
     "execution_count": 41,
     "metadata": {},
     "output_type": "execute_result"
    }
   ],
   "source": [
    "labels[2]"
   ]
  },
  {
   "cell_type": "code",
   "execution_count": 42,
   "id": "54b89690",
   "metadata": {
    "ExecuteTime": {
     "end_time": "2022-07-21T05:56:36.648100Z",
     "start_time": "2022-07-21T05:56:36.632095Z"
    }
   },
   "outputs": [
    {
     "data": {
      "text/plain": [
       "tensor([[0., 0., 0., 0., 1., 1., 1., 1., 1., 1., 1., 1., 0., 0., 0., 0., 1., 1.,\n",
       "         1., 1.]])"
      ]
     },
     "execution_count": 42,
     "metadata": {},
     "output_type": "execute_result"
    }
   ],
   "source": [
    "labels[1]"
   ]
  },
  {
   "cell_type": "code",
   "execution_count": 43,
   "id": "3c627723",
   "metadata": {
    "ExecuteTime": {
     "end_time": "2022-07-21T05:56:37.333571Z",
     "start_time": "2022-07-21T05:56:37.320579Z"
    }
   },
   "outputs": [
    {
     "data": {
      "text/plain": [
       "tensor([[-0.0000e+00, -0.0000e+00, -0.0000e+00, -0.0000e+00,  1.4000e+00,\n",
       "          1.0000e+01,  2.5940e+00,  7.1754e+00, -1.2000e+00,  2.6882e-01,\n",
       "          1.6824e+00, -1.5655e+00, -0.0000e+00, -0.0000e+00, -0.0000e+00,\n",
       "         -0.0000e+00, -5.7143e-01, -1.0000e+00,  4.1723e-06,  6.2582e-01]])"
      ]
     },
     "execution_count": 43,
     "metadata": {},
     "output_type": "execute_result"
    }
   ],
   "source": [
    "labels[0]"
   ]
  },
  {
   "cell_type": "code",
   "execution_count": 47,
   "id": "c6b6e211",
   "metadata": {
    "ExecuteTime": {
     "end_time": "2022-07-21T05:59:48.442244Z",
     "start_time": "2022-07-21T05:59:48.424240Z"
    }
   },
   "outputs": [
    {
     "data": {
      "text/plain": [
       "torch.Size([1, 2, 5])"
      ]
     },
     "execution_count": 47,
     "metadata": {},
     "output_type": "execute_result"
    }
   ],
   "source": [
    "ground_truth.unsqueeze(dim=0).shape"
   ]
  },
  {
   "cell_type": "code",
   "execution_count": 48,
   "id": "2920097b",
   "metadata": {
    "ExecuteTime": {
     "end_time": "2022-07-21T06:00:50.509364Z",
     "start_time": "2022-07-21T06:00:50.504367Z"
    }
   },
   "outputs": [
    {
     "data": {
      "text/plain": [
       "tensor([[0.0000, 0.1000, 0.0800, 0.5200, 0.9200],\n",
       "        [1.0000, 0.5500, 0.2000, 0.9000, 0.8800]])"
      ]
     },
     "execution_count": 48,
     "metadata": {},
     "output_type": "execute_result"
    }
   ],
   "source": [
    "ground_truth"
   ]
  },
  {
   "cell_type": "code",
   "execution_count": 50,
   "id": "ce79cfe9",
   "metadata": {
    "ExecuteTime": {
     "end_time": "2022-07-21T06:06:33.306140Z",
     "start_time": "2022-07-21T06:06:33.289164Z"
    }
   },
   "outputs": [
    {
     "data": {
      "text/plain": [
       "tensor([[1., 2., 3.],\n",
       "        [4., 5., 6.]])"
      ]
     },
     "execution_count": 50,
     "metadata": {},
     "output_type": "execute_result"
    }
   ],
   "source": [
    "torch.stack([torch.Tensor([1,2,3]),torch.Tensor([4,5,6])])"
   ]
  },
  {
   "cell_type": "code",
   "execution_count": 51,
   "id": "1876fa45",
   "metadata": {
    "ExecuteTime": {
     "end_time": "2022-07-21T06:34:37.332516Z",
     "start_time": "2022-07-21T06:34:37.313513Z"
    }
   },
   "outputs": [],
   "source": [
    "def box_center_to_corner(boxes):\n",
    "    cx,cy,w,h=boxes[:,0],boxes[:,1],boxes[:,2],boxes[:,3]\n",
    "    x1=cx-0.5*w\n",
    "    y1=cy-0.5*h\n",
    "    x2=cx+0.5*w\n",
    "    y2=cy+0.5*h\n",
    "    boxes=torch.stack((x1,y1,x2,y2),axis=-1)\n",
    "    return boxes"
   ]
  },
  {
   "cell_type": "code",
   "execution_count": 74,
   "id": "70aed062",
   "metadata": {
    "ExecuteTime": {
     "end_time": "2022-07-21T07:55:52.298838Z",
     "start_time": "2022-07-21T07:55:52.291829Z"
    }
   },
   "outputs": [],
   "source": [
    "def offset_inverse(anchors,offset_preds):\n",
    "    anc=box_corner_to_center(anchors)\n",
    "    pred_bbox_xy=(offset_preds[:,:2]*anc[:,2:]/10)+anc[:,:2]\n",
    "    pred_bbox_wh=torch.exp(offset_preds[:,2:]/5)*anc[:,2:]\n",
    "    pred_bbox=torch.cat((pred_bbox_xy,pred_bbox_wh),axis=1)\n",
    "    predicted_bbox=box_center_to_corner(pred_bbox)\n",
    "    return predicted_bbox"
   ]
  },
  {
   "cell_type": "code",
   "execution_count": 90,
   "id": "afeb95b6",
   "metadata": {
    "ExecuteTime": {
     "end_time": "2022-07-21T08:17:54.400441Z",
     "start_time": "2022-07-21T08:17:54.380453Z"
    }
   },
   "outputs": [],
   "source": [
    "def nms(boxes,scores,iou_threshold):\n",
    "    B=torch.argsort(scores,dim=-1,descending=True)\n",
    "    keep=[]\n",
    "    while B.numel()>0:\n",
    "        i=B[0]\n",
    "        keep.append(i)\n",
    "        if B.numel()==1:\n",
    "            break\n",
    "        iou=box_iou(boxes[i,:].reshape(-1,4),boxes[B[1:],:].reshape(-1,4)).reshape(-1)\n",
    "        inds=torch.nonzero(iou<=iou_threshold).reshape(-1)\n",
    "        print('iou : ',iou)\n",
    "        print(inds)\n",
    "        B=B[inds+1]\n",
    "    print(keep)\n",
    "    return torch.tensor(keep,device=boxes.device)"
   ]
  },
  {
   "cell_type": "code",
   "execution_count": 63,
   "id": "8a5f3bbf",
   "metadata": {
    "ExecuteTime": {
     "end_time": "2022-07-21T07:40:12.906255Z",
     "start_time": "2022-07-21T07:40:12.898260Z"
    }
   },
   "outputs": [
    {
     "data": {
      "text/plain": [
       "tensor([[0, 1, 2, 3],\n",
       "        [0, 1, 2, 3],\n",
       "        [3, 2, 1, 0]])"
      ]
     },
     "execution_count": 63,
     "metadata": {},
     "output_type": "execute_result"
    }
   ],
   "source": [
    "cls_probs = torch.tensor([[0] * 4, [0.9, 0.8, 0.7, 0.1], [0.1, 0.2, 0.3, 0.9]])\n",
    "torch.argsort(cls_probs,dim=-1,descending=True)"
   ]
  },
  {
   "cell_type": "code",
   "execution_count": 57,
   "id": "43089470",
   "metadata": {
    "ExecuteTime": {
     "end_time": "2022-07-21T07:28:40.633119Z",
     "start_time": "2022-07-21T07:28:40.618124Z"
    }
   },
   "outputs": [
    {
     "data": {
      "text/plain": [
       "torch.Size([5, 4])"
      ]
     },
     "execution_count": 57,
     "metadata": {},
     "output_type": "execute_result"
    }
   ],
   "source": [
    "anchors.shape"
   ]
  },
  {
   "cell_type": "code",
   "execution_count": 58,
   "id": "cbec0c92",
   "metadata": {
    "ExecuteTime": {
     "end_time": "2022-07-21T07:28:48.228359Z",
     "start_time": "2022-07-21T07:28:48.219355Z"
    }
   },
   "outputs": [
    {
     "data": {
      "text/plain": [
       "tensor([[0.0000, 0.1000, 0.2000, 0.3000],\n",
       "        [0.1500, 0.2000, 0.4000, 0.4000],\n",
       "        [0.6300, 0.0500, 0.8800, 0.9800],\n",
       "        [0.6600, 0.4500, 0.8000, 0.8000],\n",
       "        [0.5700, 0.3000, 0.9200, 0.9000]])"
      ]
     },
     "execution_count": 58,
     "metadata": {},
     "output_type": "execute_result"
    }
   ],
   "source": [
    "anchors.reshape(-1,4)"
   ]
  },
  {
   "cell_type": "code",
   "execution_count": 64,
   "id": "43f580ea",
   "metadata": {
    "ExecuteTime": {
     "end_time": "2022-07-21T07:40:16.664496Z",
     "start_time": "2022-07-21T07:40:16.642491Z"
    }
   },
   "outputs": [
    {
     "name": "stdout",
     "output_type": "stream",
     "text": [
      "iou :  tensor([1.0000, 0.0588, 0.0000, 0.0000, 0.0000, 0.0000, 0.0588, 1.0000, 0.0588,\n",
      "        1.0000, 0.0000, 0.0000, 0.0000, 0.0000, 1.0000, 0.0588, 0.0000, 0.0000,\n",
      "        1.0000, 0.2108, 0.2108, 1.0000, 0.0000, 0.0000, 0.0000, 0.0000, 0.2108,\n",
      "        1.0000, 1.0000, 0.2108, 0.0000, 0.0000])\n",
      "tensor([ 1,  2,  3,  4,  5,  6,  8, 10, 11, 12, 13, 15, 16, 17, 19, 20, 22, 23,\n",
      "        24, 25, 26, 29, 30, 31])\n"
     ]
    },
    {
     "ename": "IndexError",
     "evalue": "index 3 is out of bounds for dimension 0 with size 3",
     "output_type": "error",
     "traceback": [
      "\u001b[1;31m---------------------------------------------------------------------------\u001b[0m",
      "\u001b[1;31mIndexError\u001b[0m                                Traceback (most recent call last)",
      "\u001b[1;32m<ipython-input-64-f35e5ed16abb>\u001b[0m in \u001b[0;36m<module>\u001b[1;34m\u001b[0m\n\u001b[1;32m----> 1\u001b[1;33m \u001b[0mnms\u001b[0m\u001b[1;33m(\u001b[0m\u001b[0manchors\u001b[0m\u001b[1;33m,\u001b[0m\u001b[0mcls_probs\u001b[0m\u001b[1;33m,\u001b[0m\u001b[1;36m0.5\u001b[0m\u001b[1;33m)\u001b[0m\u001b[1;33m\u001b[0m\u001b[1;33m\u001b[0m\u001b[0m\n\u001b[0m",
      "\u001b[1;32m<ipython-input-62-51e54e42b3ad>\u001b[0m in \u001b[0;36mnms\u001b[1;34m(boxes, scores, iou_threshold)\u001b[0m\n\u001b[0;32m     11\u001b[0m         \u001b[0mprint\u001b[0m\u001b[1;33m(\u001b[0m\u001b[1;34m'iou : '\u001b[0m\u001b[1;33m,\u001b[0m\u001b[0miou\u001b[0m\u001b[1;33m)\u001b[0m\u001b[1;33m\u001b[0m\u001b[1;33m\u001b[0m\u001b[0m\n\u001b[0;32m     12\u001b[0m         \u001b[0mprint\u001b[0m\u001b[1;33m(\u001b[0m\u001b[0minds\u001b[0m\u001b[1;33m)\u001b[0m\u001b[1;33m\u001b[0m\u001b[1;33m\u001b[0m\u001b[0m\n\u001b[1;32m---> 13\u001b[1;33m         \u001b[0mB\u001b[0m\u001b[1;33m=\u001b[0m\u001b[0mB\u001b[0m\u001b[1;33m[\u001b[0m\u001b[0minds\u001b[0m\u001b[1;33m+\u001b[0m\u001b[1;36m1\u001b[0m\u001b[1;33m]\u001b[0m\u001b[1;33m\u001b[0m\u001b[1;33m\u001b[0m\u001b[0m\n\u001b[0m\u001b[0;32m     14\u001b[0m     \u001b[1;32mreturn\u001b[0m \u001b[0mtorch\u001b[0m\u001b[1;33m.\u001b[0m\u001b[0mtensor\u001b[0m\u001b[1;33m(\u001b[0m\u001b[0mkeep\u001b[0m\u001b[1;33m,\u001b[0m\u001b[0mdevice\u001b[0m\u001b[1;33m=\u001b[0m\u001b[0mboxes\u001b[0m\u001b[1;33m.\u001b[0m\u001b[0mdevice\u001b[0m\u001b[1;33m)\u001b[0m\u001b[1;33m\u001b[0m\u001b[1;33m\u001b[0m\u001b[0m\n",
      "\u001b[1;31mIndexError\u001b[0m: index 3 is out of bounds for dimension 0 with size 3"
     ]
    }
   ],
   "source": [
    "nms(anchors,cls_probs,0.5)"
   ]
  },
  {
   "cell_type": "code",
   "execution_count": 100,
   "id": "28ffaca2",
   "metadata": {
    "ExecuteTime": {
     "end_time": "2022-07-21T08:42:42.950184Z",
     "start_time": "2022-07-21T08:42:42.932195Z"
    }
   },
   "outputs": [],
   "source": [
    "def multibox_detection(cls_probs,offset_preds,anchors,nms_threshold=0.5,pos_threshold=0.009999999):\n",
    "    device,batch_size=cls_probs.device,cls_probs.shape[0]\n",
    "    anchors=anchors.squeeze(0)\n",
    "    num_classes,num_anchors=cls_probs.shape[1],cls_probs.shape[2]\n",
    "    out=[]\n",
    "    for i in range(batch_size):\n",
    "        cls_prob,offset_pred=cls_probs[i],offset_preds[i].reshape(-1,4)\n",
    "        conf,class_id=torch.max(cls_prob[1:],0)\n",
    "        predicted_bb=offset_inverse(anchors,offset_pred)\n",
    "#         print('predicted_bb :',predicted_bb)\n",
    "#         print('conf : ',conf)\n",
    "#         return (predicted_bb,conf)\n",
    "        keep=nms(predicted_bb,conf,nms_threshold)\n",
    "        all_idx=torch.arange(num_anchors,dtype=torch.long,device=device)\n",
    "        combined=torch.cat((keep,all_idx))\n",
    "        uniques,counts=combined.unique(return_counts=True)\n",
    "        non_keep=uniques[counts==1]\n",
    "        all_id_sorted=torch.cat((keep,non_keep))\n",
    "        class_id[non_keep]=-1\n",
    "        class_id=class_id[all_id_sorted]\n",
    "        conf,predicted_bb=conf[all_id_sorted],predicted_bb[all_id_sorted]\n",
    "        below_min_idx=(conf<pos_threshold)\n",
    "        class_id[below_min_idx]=-1\n",
    "        conf[below_min_idx]=1-conf[below_min_idx]\n",
    "        pred_info=torch.cat((class_id.unsqueeze(1),conf.unsqueeze(1),predicted_bb),dim=1)\n",
    "        out.append(pred_info)\n",
    "    return torch.stack(out)"
   ]
  },
  {
   "cell_type": "code",
   "execution_count": 80,
   "id": "2e495480",
   "metadata": {
    "ExecuteTime": {
     "end_time": "2022-07-21T07:57:47.306455Z",
     "start_time": "2022-07-21T07:57:47.291449Z"
    }
   },
   "outputs": [],
   "source": [
    "cls_probs = torch.tensor([[0] * 4, [0.9, 0.8, 0.7, 0.1], [0.1, 0.2, 0.3, 0.9]])\n",
    "anchors = torch.tensor([[0.1, 0.08, 0.52, 0.92], [0.08, 0.2, 0.56, 0.95],[0.15, 0.3, 0.62, 0.91], [0.55, 0.2, 0.9, 0.88]])\n",
    "offset_preds = torch.tensor([0] * anchors.numel())"
   ]
  },
  {
   "cell_type": "code",
   "execution_count": 83,
   "id": "0a5d433e",
   "metadata": {
    "ExecuteTime": {
     "end_time": "2022-07-21T07:59:43.162311Z",
     "start_time": "2022-07-21T07:59:43.148319Z"
    }
   },
   "outputs": [
    {
     "name": "stdout",
     "output_type": "stream",
     "text": [
      "predicted_bb : tensor([[0.1000, 0.0800, 0.5200, 0.9200],\n",
      "        [0.0800, 0.2000, 0.5600, 0.9500],\n",
      "        [0.1500, 0.3000, 0.6200, 0.9100],\n",
      "        [0.5500, 0.2000, 0.9000, 0.8800]])\n",
      "conf :  tensor([0.9000, 0.8000, 0.7000, 0.9000])\n"
     ]
    }
   ],
   "source": [
    "# (predicted_bb,conf)=multibox_detection(cls_probs.unsqueeze(dim=0),offset_preds.unsqueeze(dim=0),anchors.unsqueeze(dim=0),nms_threshold=0.5)"
   ]
  },
  {
   "cell_type": "code",
   "execution_count": 84,
   "id": "50902398",
   "metadata": {
    "ExecuteTime": {
     "end_time": "2022-07-21T07:59:51.920808Z",
     "start_time": "2022-07-21T07:59:51.915798Z"
    }
   },
   "outputs": [
    {
     "data": {
      "text/plain": [
       "tensor([[0.1000, 0.0800, 0.5200, 0.9200],\n",
       "        [0.0800, 0.2000, 0.5600, 0.9500],\n",
       "        [0.1500, 0.3000, 0.6200, 0.9100],\n",
       "        [0.5500, 0.2000, 0.9000, 0.8800]])"
      ]
     },
     "execution_count": 84,
     "metadata": {},
     "output_type": "execute_result"
    }
   ],
   "source": [
    "predicted_bb"
   ]
  },
  {
   "cell_type": "code",
   "execution_count": 85,
   "id": "760f4a70",
   "metadata": {
    "ExecuteTime": {
     "end_time": "2022-07-21T07:59:56.481661Z",
     "start_time": "2022-07-21T07:59:56.467681Z"
    }
   },
   "outputs": [
    {
     "data": {
      "text/plain": [
       "tensor([0.9000, 0.8000, 0.7000, 0.9000])"
      ]
     },
     "execution_count": 85,
     "metadata": {},
     "output_type": "execute_result"
    }
   ],
   "source": [
    "conf"
   ]
  },
  {
   "cell_type": "code",
   "execution_count": 86,
   "id": "cf8f8b1b",
   "metadata": {
    "ExecuteTime": {
     "end_time": "2022-07-21T08:01:40.465091Z",
     "start_time": "2022-07-21T08:01:40.460095Z"
    }
   },
   "outputs": [
    {
     "data": {
      "text/plain": [
       "[0, 0, 0, 0]"
      ]
     },
     "execution_count": 86,
     "metadata": {},
     "output_type": "execute_result"
    }
   ],
   "source": [
    "[0]*4"
   ]
  },
  {
   "cell_type": "code",
   "execution_count": 88,
   "id": "7d11989f",
   "metadata": {
    "ExecuteTime": {
     "end_time": "2022-07-21T08:04:33.689719Z",
     "start_time": "2022-07-21T08:04:33.683722Z"
    }
   },
   "outputs": [
    {
     "data": {
      "text/plain": [
       "torch.return_types.max(\n",
       "values=tensor([0.9000, 0.8000, 0.7000, 0.9000]),\n",
       "indices=tensor([0, 0, 0, 1]))"
      ]
     },
     "execution_count": 88,
     "metadata": {},
     "output_type": "execute_result"
    }
   ],
   "source": [
    "torch.max(cls_probs[1:],0)"
   ]
  },
  {
   "cell_type": "code",
   "execution_count": 98,
   "id": "c53957a9",
   "metadata": {
    "ExecuteTime": {
     "end_time": "2022-07-21T08:25:41.082579Z",
     "start_time": "2022-07-21T08:25:41.076583Z"
    }
   },
   "outputs": [],
   "source": [
    "def nms(boxes,scores,iou_threshold):\n",
    "    B=torch.argsort(scores,dim=-1,descending=True)\n",
    "    print('BB:',B)\n",
    "    keep=[]\n",
    "    while B.numel()>0:\n",
    "        i=B[0]\n",
    "        keep.append(i)\n",
    "        if B.numel()==1:\n",
    "            break\n",
    "        iou=box_iou(boxes[i,:].reshape(-1,4),boxes[B[1:],:].reshape(-1,4)).reshape(-1)\n",
    "        inds=torch.nonzero(iou<=iou_threshold).reshape(-1)\n",
    "        print('iou : ',iou)\n",
    "        print('inds: ',inds)\n",
    "        B=B[inds+1]\n",
    "        print('B : ',B)\n",
    "    print(keep)\n",
    "    return torch.tensor(keep,device=boxes.device)"
   ]
  },
  {
   "cell_type": "code",
   "execution_count": 108,
   "id": "98f4c5f2",
   "metadata": {
    "ExecuteTime": {
     "end_time": "2022-07-21T09:44:37.964970Z",
     "start_time": "2022-07-21T09:44:37.949965Z"
    }
   },
   "outputs": [],
   "source": [
    "predicted_bb=torch.tensor([[0.1000, 0.0800, 0.5200, 0.9200],\n",
    "        [0.0800, 0.2000, 0.5600, 0.9500],\n",
    "        [0.1500, 0.3000, 0.6200, 0.9100],\n",
    "        [0.5500, 0.2000, 0.9000, 0.8800]])\n",
    "conf=torch.tensor([0.9000, 0.8000, 0.7000, 0.9000])"
   ]
  },
  {
   "cell_type": "code",
   "execution_count": 109,
   "id": "4857ba20",
   "metadata": {
    "ExecuteTime": {
     "end_time": "2022-07-21T09:44:39.716029Z",
     "start_time": "2022-07-21T09:44:39.694028Z"
    }
   },
   "outputs": [
    {
     "name": "stdout",
     "output_type": "stream",
     "text": [
      "BB: tensor([0, 3, 1, 2])\n",
      "iou :  tensor([0.0000, 0.7368, 0.5454])\n",
      "inds:  tensor([0])\n",
      "B :  tensor([3])\n",
      "[tensor(0), tensor(3)]\n"
     ]
    },
    {
     "data": {
      "text/plain": [
       "tensor([0, 3])"
      ]
     },
     "execution_count": 109,
     "metadata": {},
     "output_type": "execute_result"
    }
   ],
   "source": [
    "nms(predicted_bb,conf,0.5)"
   ]
  },
  {
   "cell_type": "code",
   "execution_count": 103,
   "id": "b79dab38",
   "metadata": {
    "ExecuteTime": {
     "end_time": "2022-07-21T09:07:34.668844Z",
     "start_time": "2022-07-21T09:07:34.654850Z"
    }
   },
   "outputs": [],
   "source": [
    "show_bboxes(img, anchors * bbox_scale,['dog=0.9', 'dog=0.8', 'dog=0.7', 'cat=0.9'])"
   ]
  },
  {
   "cell_type": "code",
   "execution_count": 104,
   "id": "a700b095",
   "metadata": {
    "ExecuteTime": {
     "end_time": "2022-07-21T09:09:00.090956Z",
     "start_time": "2022-07-21T09:09:00.021997Z"
    }
   },
   "outputs": [
    {
     "name": "stdout",
     "output_type": "stream",
     "text": [
      "BB: tensor([0, 3, 1, 2])\n",
      "iou :  tensor([0.0000, 0.7368, 0.5454])\n",
      "inds:  tensor([0])\n",
      "B :  tensor([3])\n",
      "[tensor(0), tensor(3)]\n"
     ]
    }
   ],
   "source": [
    "output = multibox_detection(cls_probs.unsqueeze(dim=0),offset_preds.unsqueeze(dim=0),anchors.unsqueeze(dim=0),nms_threshold=0.5)"
   ]
  },
  {
   "cell_type": "code",
   "execution_count": 105,
   "id": "8f086dfb",
   "metadata": {
    "ExecuteTime": {
     "end_time": "2022-07-21T09:09:05.566935Z",
     "start_time": "2022-07-21T09:09:05.548945Z"
    }
   },
   "outputs": [
    {
     "data": {
      "text/plain": [
       "tensor([[[ 0.0000,  0.9000,  0.1000,  0.0800,  0.5200,  0.9200],\n",
       "         [ 1.0000,  0.9000,  0.5500,  0.2000,  0.9000,  0.8800],\n",
       "         [-1.0000,  0.8000,  0.0800,  0.2000,  0.5600,  0.9500],\n",
       "         [-1.0000,  0.7000,  0.1500,  0.3000,  0.6200,  0.9100]]])"
      ]
     },
     "execution_count": 105,
     "metadata": {},
     "output_type": "execute_result"
    }
   ],
   "source": [
    "output"
   ]
  },
  {
   "cell_type": "code",
   "execution_count": 107,
   "id": "e1498350",
   "metadata": {
    "ExecuteTime": {
     "end_time": "2022-07-21T09:12:03.110525Z",
     "start_time": "2022-07-21T09:12:03.037581Z"
    }
   },
   "outputs": [],
   "source": [
    "for i in output[0].detach().numpy():\n",
    "    if i[0]==-1:\n",
    "        continue\n",
    "    label=('dog=','cat=')[int(i[0])]+str(i[1])\n",
    "    show_bboxes(img,[torch.tensor(i[2:])*bbox_scale],label)"
   ]
  },
  {
   "cell_type": "code",
   "execution_count": null,
   "id": "f74e1329",
   "metadata": {},
   "outputs": [],
   "source": []
  },
  {
   "cell_type": "code",
   "execution_count": null,
   "id": "f4db82db",
   "metadata": {},
   "outputs": [],
   "source": []
  },
  {
   "cell_type": "code",
   "execution_count": null,
   "id": "80cd9bb6",
   "metadata": {},
   "outputs": [],
   "source": []
  }
 ],
 "metadata": {
  "kernelspec": {
   "display_name": "Python 3",
   "language": "python",
   "name": "python3"
  },
  "language_info": {
   "codemirror_mode": {
    "name": "ipython",
    "version": 3
   },
   "file_extension": ".py",
   "mimetype": "text/x-python",
   "name": "python",
   "nbconvert_exporter": "python",
   "pygments_lexer": "ipython3",
   "version": "3.8.8"
  }
 },
 "nbformat": 4,
 "nbformat_minor": 5
}
