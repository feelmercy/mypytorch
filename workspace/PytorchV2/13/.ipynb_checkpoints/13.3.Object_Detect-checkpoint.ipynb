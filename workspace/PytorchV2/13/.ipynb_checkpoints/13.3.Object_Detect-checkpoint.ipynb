{
 "cells": [
  {
   "cell_type": "code",
   "execution_count": 1,
   "id": "4e8dc96f",
   "metadata": {
    "ExecuteTime": {
     "end_time": "2022-06-23T02:25:27.424824Z",
     "start_time": "2022-06-23T02:25:11.849346Z"
    }
   },
   "outputs": [
    {
     "name": "stdout",
     "output_type": "stream",
     "text": [
      "Using matplotlib backend: Qt5Agg\n"
     ]
    }
   ],
   "source": [
    "import torch\n",
    "import matplotlib.pyplot as plt\n",
    "%matplotlib auto"
   ]
  },
  {
   "cell_type": "code",
   "execution_count": 2,
   "id": "94f55429",
   "metadata": {
    "ExecuteTime": {
     "end_time": "2022-06-23T02:25:29.803626Z",
     "start_time": "2022-06-23T02:25:27.428324Z"
    }
   },
   "outputs": [],
   "source": [
    "img_path=r'F:\\study\\ml\\LM\\image\\13\\catdog.jpg'\n",
    "img=plt.imread(img_path)\n",
    "plt.imshow(img)\n",
    "plt.show()\n"
   ]
  },
  {
   "cell_type": "code",
   "execution_count": 22,
   "id": "96dfc8ae",
   "metadata": {
    "ExecuteTime": {
     "end_time": "2022-06-23T02:43:13.622714Z",
     "start_time": "2022-06-23T02:43:13.611712Z"
    }
   },
   "outputs": [],
   "source": [
    "def box_corner_to_center(boxes):\n",
    "    x1,y1,x2,y2=boxes[:,0],boxes[:,1],boxes[:,2],boxes[:,3]\n",
    "    cx=(x1+x2)/2\n",
    "    cy=(y1+y2)/2\n",
    "    w=x2-x1\n",
    "    h=y2-y1\n",
    "    boxes=torch.stack((cx,cy,w,h),axis=-1)\n",
    "    return boxes"
   ]
  },
  {
   "cell_type": "code",
   "execution_count": 23,
   "id": "8393a678",
   "metadata": {
    "ExecuteTime": {
     "end_time": "2022-06-23T02:43:14.690849Z",
     "start_time": "2022-06-23T02:43:14.675347Z"
    }
   },
   "outputs": [],
   "source": [
    "def box_center_to_corner(boxes):\n",
    "    cx,cy,w,h=boxes[:,0],boxes[:,1],boxes[:,2],boxes[:,3]\n",
    "    x1=cx-0.5*w\n",
    "    y1=cy-0.5*h\n",
    "    x2=cx+0.5*w\n",
    "    y2=cy+0.5*h\n",
    "    boxes=torch.stack((x1,y1,x2,y2),axis=-1)\n",
    "    return boxes"
   ]
  },
  {
   "cell_type": "code",
   "execution_count": 24,
   "id": "96694f26",
   "metadata": {
    "ExecuteTime": {
     "end_time": "2022-06-23T02:43:15.328930Z",
     "start_time": "2022-06-23T02:43:15.321430Z"
    }
   },
   "outputs": [],
   "source": [
    "dog_bbox,cat_bbox=[60.0,45.0,378.0,516.0],[400.0,112.0,655.0,493.0]"
   ]
  },
  {
   "cell_type": "code",
   "execution_count": 27,
   "id": "4ba60f70",
   "metadata": {
    "ExecuteTime": {
     "end_time": "2022-06-23T02:44:22.666981Z",
     "start_time": "2022-06-23T02:44:22.650979Z"
    }
   },
   "outputs": [
    {
     "data": {
      "text/plain": [
       "tensor([[True, True, True, True],\n",
       "        [True, True, True, True]])"
      ]
     },
     "execution_count": 27,
     "metadata": {},
     "output_type": "execute_result"
    }
   ],
   "source": [
    "boxes=torch.tensor((dog_bbox,cat_bbox))\n",
    "box_center_to_corner(box_corner_to_center(boxes))==boxes"
   ]
  },
  {
   "cell_type": "code",
   "execution_count": 11,
   "id": "dd6f6227",
   "metadata": {
    "ExecuteTime": {
     "end_time": "2022-06-23T02:40:17.972409Z",
     "start_time": "2022-06-23T02:40:17.956407Z"
    }
   },
   "outputs": [],
   "source": [
    "def box_corner_to_center(boxes):\n",
    "    \"\"\"从（左上，右下）转换到（中间，宽度，⾼度） \"\"\"\n",
    "    x1, y1, x2, y2 = boxes[:, 0], boxes[:, 1], boxes[:, 2], boxes[:, 3]\n",
    "    cx = (x1 + x2) / 2\n",
    "    cy = (y1 + y2) / 2\n",
    "    w = x2 - x1\n",
    "    h = y2 - y1\n",
    "    boxes = torch.stack((cx, cy, w, h), axis=-1)\n",
    "    return boxes\n",
    "\n",
    "def box_center_to_corner(boxes):\n",
    "    \"\"\"从（中间，宽度，⾼度）转换到（左上，右下） \"\"\"\n",
    "    cx, cy, w, h = boxes[:, 0], boxes[:, 1], boxes[:, 2], boxes[:, 3]\n",
    "    x1 = cx - 0.5 * w\n",
    "    y1 = cy - 0.5 * h\n",
    "    x2 = cx + 0.5 * w\n",
    "    y2 = cy + 0.5 * h\n",
    "    boxes = torch.stack((x1, y1, x2, y2), axis=-1)\n",
    "    return boxes"
   ]
  },
  {
   "cell_type": "code",
   "execution_count": 13,
   "id": "fea36ede",
   "metadata": {
    "ExecuteTime": {
     "end_time": "2022-06-23T02:40:29.099322Z",
     "start_time": "2022-06-23T02:40:29.090821Z"
    }
   },
   "outputs": [],
   "source": [
    "dog_bbox, cat_bbox = [60.0, 45.0, 378.0, 516.0], [400.0, 112.0, 655.0, 493.0]"
   ]
  },
  {
   "cell_type": "code",
   "execution_count": 26,
   "id": "ae53eab9",
   "metadata": {
    "ExecuteTime": {
     "end_time": "2022-06-23T02:44:15.189532Z",
     "start_time": "2022-06-23T02:44:15.172030Z"
    }
   },
   "outputs": [
    {
     "data": {
      "text/plain": [
       "tensor([[True, True, True, True],\n",
       "        [True, True, True, True]])"
      ]
     },
     "execution_count": 26,
     "metadata": {},
     "output_type": "execute_result"
    }
   ],
   "source": [
    "boxes = torch.tensor((dog_bbox, cat_bbox))\n",
    "box_center_to_corner(box_corner_to_center(boxes)) == boxes"
   ]
  },
  {
   "cell_type": "code",
   "execution_count": null,
   "id": "6a120254",
   "metadata": {},
   "outputs": [],
   "source": [
    "def box_center_to_corner(boxes):\n",
    "    \"\"\"从（中间，宽度，⾼度）转换到（左上，右下） \"\"\"\n",
    "    cx, cy, w, h = boxes[:, 0], boxes[:, 1], boxes[:, 2], boxes[:, 3]\n",
    "    x1 = cx - 0.5 * w\n",
    "    y1 = cy - 0.5 * h\n",
    "    x2 = cx + 0.5 * w\n",
    "    y2 = cy + 0.5 * h\n",
    "    boxes = torch.stack((x1, y1, x2, y2), axis=-1)\n",
    "    return boxes"
   ]
  },
  {
   "cell_type": "code",
   "execution_count": 29,
   "id": "9e4b3cd9",
   "metadata": {
    "ExecuteTime": {
     "end_time": "2022-06-23T02:45:13.184896Z",
     "start_time": "2022-06-23T02:45:13.170894Z"
    }
   },
   "outputs": [
    {
     "data": {
      "text/plain": [
       "tensor([[ 60.,  45., 378., 516.],\n",
       "        [400., 112., 655., 493.]])"
      ]
     },
     "execution_count": 29,
     "metadata": {},
     "output_type": "execute_result"
    }
   ],
   "source": [
    "boxes"
   ]
  },
  {
   "cell_type": "code",
   "execution_count": 33,
   "id": "7452d5fc",
   "metadata": {
    "ExecuteTime": {
     "end_time": "2022-06-23T02:47:07.840956Z",
     "start_time": "2022-06-23T02:47:07.827454Z"
    }
   },
   "outputs": [
    {
     "data": {
      "text/plain": [
       "tensor([ 60., 400.])"
      ]
     },
     "execution_count": 33,
     "metadata": {},
     "output_type": "execute_result"
    }
   ],
   "source": [
    "boxes[:, 0]"
   ]
  },
  {
   "cell_type": "code",
   "execution_count": 34,
   "id": "554f6b6f",
   "metadata": {
    "ExecuteTime": {
     "end_time": "2022-06-23T02:47:11.248888Z",
     "start_time": "2022-06-23T02:47:11.236387Z"
    }
   },
   "outputs": [
    {
     "data": {
      "text/plain": [
       "tensor([ 45., 112.])"
      ]
     },
     "execution_count": 34,
     "metadata": {},
     "output_type": "execute_result"
    }
   ],
   "source": [
    "boxes[:, 1]"
   ]
  },
  {
   "cell_type": "code",
   "execution_count": 40,
   "id": "cd943942",
   "metadata": {
    "ExecuteTime": {
     "end_time": "2022-06-23T02:55:32.140994Z",
     "start_time": "2022-06-23T02:55:32.130492Z"
    }
   },
   "outputs": [
    {
     "data": {
      "text/plain": [
       "tensor([[ 60., 400.],\n",
       "        [ 45., 112.]])"
      ]
     },
     "execution_count": 40,
     "metadata": {},
     "output_type": "execute_result"
    }
   ],
   "source": [
    "torch.stack((boxes[:, 0],boxes[:, 1]),axis=0)"
   ]
  },
  {
   "cell_type": "code",
   "execution_count": 41,
   "id": "93fe5332",
   "metadata": {
    "ExecuteTime": {
     "end_time": "2022-06-23T02:55:32.581550Z",
     "start_time": "2022-06-23T02:55:32.570548Z"
    }
   },
   "outputs": [
    {
     "data": {
      "text/plain": [
       "tensor([[ 60.,  45.],\n",
       "        [400., 112.]])"
      ]
     },
     "execution_count": 41,
     "metadata": {},
     "output_type": "execute_result"
    }
   ],
   "source": [
    "torch.stack((boxes[:, 0],boxes[:, 1]),axis=1)"
   ]
  },
  {
   "cell_type": "code",
   "execution_count": 28,
   "id": "3b3aeab1",
   "metadata": {
    "ExecuteTime": {
     "end_time": "2022-06-23T02:44:32.287203Z",
     "start_time": "2022-06-23T02:44:32.278202Z"
    }
   },
   "outputs": [
    {
     "data": {
      "text/plain": [
       "tensor([[219.0000, 280.5000, 318.0000, 471.0000],\n",
       "        [527.5000, 302.5000, 255.0000, 381.0000]])"
      ]
     },
     "execution_count": 28,
     "metadata": {},
     "output_type": "execute_result"
    }
   ],
   "source": [
    "box_corner_to_center(boxes)"
   ]
  },
  {
   "cell_type": "code",
   "execution_count": 43,
   "id": "5faacbdf",
   "metadata": {
    "ExecuteTime": {
     "end_time": "2022-06-23T03:07:16.929991Z",
     "start_time": "2022-06-23T03:07:16.918489Z"
    }
   },
   "outputs": [
    {
     "data": {
      "text/plain": [
       "[60.0, 45.0, 378.0, 516.0]"
      ]
     },
     "execution_count": 43,
     "metadata": {},
     "output_type": "execute_result"
    }
   ],
   "source": [
    "dog_bbox"
   ]
  },
  {
   "cell_type": "code",
   "execution_count": 44,
   "id": "8d43bdb2",
   "metadata": {
    "ExecuteTime": {
     "end_time": "2022-06-23T03:07:22.086645Z",
     "start_time": "2022-06-23T03:07:22.075644Z"
    }
   },
   "outputs": [
    {
     "data": {
      "text/plain": [
       "[400.0, 112.0, 655.0, 493.0]"
      ]
     },
     "execution_count": 44,
     "metadata": {},
     "output_type": "execute_result"
    }
   ],
   "source": [
    "cat_bbox"
   ]
  },
  {
   "cell_type": "code",
   "execution_count": 48,
   "id": "23d6f4da",
   "metadata": {
    "ExecuteTime": {
     "end_time": "2022-06-23T03:11:25.480552Z",
     "start_time": "2022-06-23T03:11:25.469551Z"
    }
   },
   "outputs": [],
   "source": [
    "def bbox_to_rect(bbox,color):\n",
    "    return plt.Rectangle(xy=(bbox[0],bbox[1]),width=bbox[2]-bbox[0],height=bbox[3]-bbox[1],\n",
    "                        fill=False,edgecolor=color,linewidth=2)"
   ]
  },
  {
   "cell_type": "code",
   "execution_count": 53,
   "id": "a0885f5a",
   "metadata": {
    "ExecuteTime": {
     "end_time": "2022-06-23T05:35:33.491210Z",
     "start_time": "2022-06-23T05:35:33.429703Z"
    }
   },
   "outputs": [],
   "source": [
    "plt.imshow(img)\n",
    "plt.gca().add_patch(bbox_to_rect(dog_bbox, 'blue'))\n",
    "plt.gca().add_patch(bbox_to_rect(cat_bbox, 'red'))\n",
    "plt.show()"
   ]
  },
  {
   "cell_type": "code",
   "execution_count": null,
   "id": "a8895b22",
   "metadata": {},
   "outputs": [],
   "source": []
  }
 ],
 "metadata": {
  "kernelspec": {
   "display_name": "Python 3",
   "language": "python",
   "name": "python3"
  },
  "language_info": {
   "codemirror_mode": {
    "name": "ipython",
    "version": 3
   },
   "file_extension": ".py",
   "mimetype": "text/x-python",
   "name": "python",
   "nbconvert_exporter": "python",
   "pygments_lexer": "ipython3",
   "version": "3.8.8"
  }
 },
 "nbformat": 4,
 "nbformat_minor": 5
}
