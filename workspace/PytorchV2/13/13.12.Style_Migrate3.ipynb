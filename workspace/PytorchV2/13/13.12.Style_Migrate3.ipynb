{
 "cells": [
  {
   "cell_type": "code",
   "execution_count": 3,
   "id": "8c740e34",
   "metadata": {
    "ExecuteTime": {
     "end_time": "2023-04-07T02:46:38.649977Z",
     "start_time": "2023-04-07T02:46:26.874732Z"
    }
   },
   "outputs": [
    {
     "name": "stdout",
     "output_type": "stream",
     "text": [
      "Using matplotlib backend: Qt5Agg\n"
     ]
    }
   ],
   "source": [
    "import torch\n",
    "import torchvision\n",
    "import matplotlib.pyplot as plt\n",
    "from torch import nn,optim\n",
    "import PIL\n",
    "%matplotlib auto"
   ]
  },
  {
   "cell_type": "code",
   "execution_count": 4,
   "id": "e4f265f6",
   "metadata": {
    "ExecuteTime": {
     "end_time": "2023-04-07T02:46:39.524963Z",
     "start_time": "2023-04-07T02:46:39.522034Z"
    }
   },
   "outputs": [],
   "source": [
    "content_path=r'F:\\study\\ml\\LM\\image\\13\\rainier.jpg'\n",
    "style_path=r'F:\\study\\ml\\LM\\image\\13\\autumn-oak.jpg'"
   ]
  },
  {
   "cell_type": "code",
   "execution_count": 5,
   "id": "5fa7a469",
   "metadata": {
    "ExecuteTime": {
     "end_time": "2023-04-07T02:46:40.216745Z",
     "start_time": "2023-04-07T02:46:40.090484Z"
    }
   },
   "outputs": [],
   "source": [
    "content_img=PIL.Image.open(content_path)\n",
    "style_img=PIL.Image.open(style_path)"
   ]
  },
  {
   "cell_type": "code",
   "execution_count": 6,
   "id": "995e74b2",
   "metadata": {
    "ExecuteTime": {
     "end_time": "2023-04-07T02:46:42.394857Z",
     "start_time": "2023-04-07T02:46:40.682625Z"
    }
   },
   "outputs": [],
   "source": [
    "plt.subplots(12)\n",
    "plt.subplot(121)\n",
    "plt.imshow(content_img)\n",
    "plt.subplot(122)\n",
    "plt.imshow(style_img)\n",
    "plt.show()"
   ]
  },
  {
   "cell_type": "code",
   "execution_count": 7,
   "id": "f73b323d",
   "metadata": {
    "ExecuteTime": {
     "end_time": "2023-04-07T02:46:50.806157Z",
     "start_time": "2023-04-07T02:46:50.802265Z"
    }
   },
   "outputs": [],
   "source": [
    "rgb_mean = torch.tensor([0.485, 0.456, 0.406])\n",
    "rgb_std = torch.tensor([0.229, 0.224, 0.225])"
   ]
  },
  {
   "cell_type": "code",
   "execution_count": 8,
   "id": "8963b180",
   "metadata": {
    "ExecuteTime": {
     "end_time": "2023-04-07T02:46:51.302557Z",
     "start_time": "2023-04-07T02:46:51.298637Z"
    }
   },
   "outputs": [],
   "source": [
    "def preprocess(img,img_shape):\n",
    "    transforms=torchvision.transforms.Compose([\n",
    "        torchvision.transforms.Resize(img_shape),\n",
    "        torchvision.transforms.ToTensor(),\n",
    "        torchvision.transforms.Normalize(mean=rgb_mean,std=rgb_std)])\n",
    "    return transforms(img).unsqueeze(0)"
   ]
  },
  {
   "cell_type": "code",
   "execution_count": 9,
   "id": "4798087d",
   "metadata": {
    "ExecuteTime": {
     "end_time": "2023-04-07T02:46:51.907316Z",
     "start_time": "2023-04-07T02:46:51.753981Z"
    }
   },
   "outputs": [
    {
     "data": {
      "text/plain": [
       "tensor([[[[ 1.9235,  1.9235,  1.9407,  ...,  0.0741,  0.0741,  0.1083],\n",
       "          [ 1.9235,  1.9235,  1.9407,  ...,  0.1426,  0.1426,  0.1768],\n",
       "          [ 1.9235,  1.9235,  1.9407,  ...,  0.2282,  0.2111,  0.2111],\n",
       "          ...,\n",
       "          [-1.8782, -1.8439, -1.8268,  ..., -1.6384, -0.8164, -0.8335],\n",
       "          [-1.8782, -1.8439, -1.8268,  ..., -1.6384, -1.2445, -1.1247],\n",
       "          [-1.8782, -1.8782, -1.8610,  ..., -1.8439, -1.7069, -1.5528]],\n",
       "\n",
       "         [[ 1.9909,  1.9909,  1.9734,  ...,  1.2206,  1.2206,  1.2556],\n",
       "          [ 1.9909,  1.9909,  1.9734,  ...,  1.2731,  1.2731,  1.3081],\n",
       "          [ 1.9909,  1.9909,  1.9559,  ...,  1.3431,  1.3256,  1.3256],\n",
       "          ...,\n",
       "          [-1.8256, -1.7906, -1.7731,  ..., -1.6506, -1.0203, -1.1253],\n",
       "          [-1.8256, -1.7906, -1.7731,  ..., -1.5630, -1.3704, -1.2654],\n",
       "          [-1.8256, -1.8256, -1.8081,  ..., -1.7731, -1.6856, -1.5630]],\n",
       "\n",
       "         [[ 2.2740,  2.2740,  2.2740,  ...,  1.9603,  1.9603,  1.9951],\n",
       "          [ 2.2740,  2.2740,  2.2740,  ...,  2.0125,  1.9951,  2.0300],\n",
       "          [ 2.2740,  2.2740,  2.2566,  ...,  2.0474,  2.0125,  2.0300],\n",
       "          ...,\n",
       "          [-1.5779, -1.5430, -1.5256,  ..., -1.6650, -1.5953, -1.6999],\n",
       "          [-1.5779, -1.5430, -1.5256,  ..., -1.6824, -1.6999, -1.6999],\n",
       "          [-1.5779, -1.5779, -1.5604,  ..., -1.6999, -1.7347, -1.7347]]]])"
      ]
     },
     "execution_count": 9,
     "metadata": {},
     "output_type": "execute_result"
    }
   ],
   "source": [
    "preprocess(content_img,(300,450))"
   ]
  },
  {
   "cell_type": "code",
   "execution_count": 54,
   "id": "1806847f",
   "metadata": {
    "ExecuteTime": {
     "end_time": "2023-04-07T03:22:23.280167Z",
     "start_time": "2023-04-07T03:22:23.274326Z"
    }
   },
   "outputs": [],
   "source": [
    "def postprocess(img):\n",
    "    img=img[0].to(rgb_std.device)\n",
    "    img=torch.clamp(img.permute(1,2,0)*rgb_std+rgb_mean,0,1)\n",
    "    return torchvision.transforms.ToPILImage()(img.permute(2,0,1))"
   ]
  },
  {
   "cell_type": "code",
   "execution_count": 11,
   "id": "6336ef80",
   "metadata": {
    "ExecuteTime": {
     "end_time": "2023-04-07T02:46:55.708238Z",
     "start_time": "2023-04-07T02:46:52.985302Z"
    }
   },
   "outputs": [],
   "source": [
    "pretrained_net=torchvision.models.vgg19(pretrained=True)"
   ]
  },
  {
   "cell_type": "code",
   "execution_count": 12,
   "id": "3e961d3f",
   "metadata": {
    "ExecuteTime": {
     "end_time": "2023-04-07T02:46:56.254464Z",
     "start_time": "2023-04-07T02:46:56.251028Z"
    }
   },
   "outputs": [],
   "source": [
    "style_layers,content_layers=[0,5,10,19,28],[25]"
   ]
  },
  {
   "cell_type": "code",
   "execution_count": 13,
   "id": "7600ff0f",
   "metadata": {
    "ExecuteTime": {
     "end_time": "2023-04-07T02:46:56.702606Z",
     "start_time": "2023-04-07T02:46:56.698700Z"
    }
   },
   "outputs": [],
   "source": [
    "net=nn.Sequential(*[pretrained_net.features[i] for i in range(max(content_layers+\n",
    "                                                                 style_layers)+1)])"
   ]
  },
  {
   "cell_type": "code",
   "execution_count": 14,
   "id": "cdc41eeb",
   "metadata": {
    "ExecuteTime": {
     "end_time": "2023-04-07T02:46:57.125715Z",
     "start_time": "2023-04-07T02:46:57.121810Z"
    }
   },
   "outputs": [],
   "source": [
    "def extract_features(X,content_layers,style_layers):\n",
    "    contents=[]\n",
    "    styles=[]\n",
    "    for i in range(len(net)):\n",
    "        X=net[i](X)\n",
    "        if i in style_layers:\n",
    "            styles.append(X)\n",
    "        if i in content_layers:\n",
    "            contents.append(X)\n",
    "    return contents,styles"
   ]
  },
  {
   "cell_type": "code",
   "execution_count": 15,
   "id": "99081777",
   "metadata": {
    "ExecuteTime": {
     "end_time": "2023-04-07T02:46:57.581593Z",
     "start_time": "2023-04-07T02:46:57.577674Z"
    }
   },
   "outputs": [],
   "source": [
    "def get_contents(img_shape,device):\n",
    "    content_X=preprocess(content_img,img_shape).to(device)\n",
    "    contents_Y,_=extract_features(content_X,content_layers,style_layers)\n",
    "    return content_X,contents_Y"
   ]
  },
  {
   "cell_type": "code",
   "execution_count": 16,
   "id": "de32f5ca",
   "metadata": {
    "ExecuteTime": {
     "end_time": "2023-04-07T02:46:58.181406Z",
     "start_time": "2023-04-07T02:46:58.177500Z"
    }
   },
   "outputs": [],
   "source": [
    "def get_styles(img_shape,device):\n",
    "    style_X=preprocess(style_img,img_shape).to(device)\n",
    "    _,styles_Y=extract_features(style_X,content_layers,style_layers)\n",
    "    return style_X,styles_Y"
   ]
  },
  {
   "cell_type": "code",
   "execution_count": 17,
   "id": "c7f95c9f",
   "metadata": {
    "ExecuteTime": {
     "end_time": "2023-04-07T02:46:58.661203Z",
     "start_time": "2023-04-07T02:46:58.658277Z"
    }
   },
   "outputs": [],
   "source": [
    "def content_loss(Y_hat,Y):\n",
    "    return torch.square(Y_hat-Y.detach()).mean()"
   ]
  },
  {
   "cell_type": "code",
   "execution_count": 18,
   "id": "72b0dde1",
   "metadata": {
    "ExecuteTime": {
     "end_time": "2023-04-07T02:46:59.117597Z",
     "start_time": "2023-04-07T02:46:59.113690Z"
    }
   },
   "outputs": [],
   "source": [
    "def gram(X):\n",
    "    num_channels,n=X.shape[1],X.numel()//X.shape[1]\n",
    "    X=X.reshape((num_channels,n))\n",
    "    return torch.matmul(X,X.T)/(num_channels*n)"
   ]
  },
  {
   "cell_type": "code",
   "execution_count": 19,
   "id": "e965aa15",
   "metadata": {
    "ExecuteTime": {
     "end_time": "2023-04-07T02:46:59.581368Z",
     "start_time": "2023-04-07T02:46:59.577462Z"
    }
   },
   "outputs": [],
   "source": [
    "def style_loss(Y_hat,gram_Y):\n",
    "    return torch.square(gram(Y_hat)-gram_Y.detach()).mean()"
   ]
  },
  {
   "cell_type": "code",
   "execution_count": 20,
   "id": "35de0f84",
   "metadata": {
    "ExecuteTime": {
     "end_time": "2023-04-07T02:47:00.062736Z",
     "start_time": "2023-04-07T02:47:00.058849Z"
    }
   },
   "outputs": [],
   "source": [
    "def tv_loss(Y_hat):\n",
    "    return 0.5 * (torch.abs(Y_hat[:,:,1:,:]-Y_hat[:,:,:-1,:]).mean()+\n",
    "                 torch.abs(Y_hat[:,:,:,1:]-Y_hat[:,:,:,:-1]).mean())"
   ]
  },
  {
   "cell_type": "code",
   "execution_count": 21,
   "id": "4c208e89",
   "metadata": {
    "ExecuteTime": {
     "end_time": "2023-04-07T02:47:00.573745Z",
     "start_time": "2023-04-07T02:47:00.569880Z"
    }
   },
   "outputs": [],
   "source": [
    "content_weight,style_weight,tv_weight=1,1e3,10"
   ]
  },
  {
   "cell_type": "code",
   "execution_count": 32,
   "id": "97aa5c16",
   "metadata": {
    "ExecuteTime": {
     "end_time": "2023-04-07T02:49:46.016889Z",
     "start_time": "2023-04-07T02:49:46.011031Z"
    }
   },
   "outputs": [],
   "source": [
    "def compute_loss(X,contents_Y_hat,styles_Y_hat,contents_Y,styles_Y_gram):\n",
    "    contents_l=[content_loss(Y_hat,Y) * content_weight for Y_hat,Y in \n",
    "               zip(contents_Y_hat,contents_Y)]\n",
    "    styles_l=[style_loss(Y_hat,Y) * style_weight for Y_hat,Y in \n",
    "             zip(styles_Y_hat,styles_Y_gram)]\n",
    "    tv_l=tv_loss(X) * tv_weight\n",
    "    l=sum(10*styles_l+contents_l+[tv_l])\n",
    "    return contents_l,styles_l,tv_l,l"
   ]
  },
  {
   "cell_type": "code",
   "execution_count": 23,
   "id": "59a79c04",
   "metadata": {
    "ExecuteTime": {
     "end_time": "2023-04-07T02:47:03.001466Z",
     "start_time": "2023-04-07T02:47:02.976080Z"
    }
   },
   "outputs": [],
   "source": [
    "class SynthesizedImage(nn.Module):\n",
    "    def __init__(self,img_shape,**kwargs):\n",
    "        super().__init__(**kwargs)\n",
    "        self.weight=nn.Parameter(torch.rand(*img_shape))\n",
    "        \n",
    "    def forward(self):\n",
    "        return self.weight"
   ]
  },
  {
   "cell_type": "code",
   "execution_count": 41,
   "id": "b2fd5cb0",
   "metadata": {
    "ExecuteTime": {
     "end_time": "2023-04-07T02:51:42.935168Z",
     "start_time": "2023-04-07T02:51:42.930300Z"
    }
   },
   "outputs": [],
   "source": [
    "def get_inits(X,device,lr,styles_Y):\n",
    "    gen_img=SynthesizedImage(X.shape).to(device)\n",
    "    gen_img.weight.data.copy_(X.data)\n",
    "    trainer=torch.optim.Adam(gen_img.parameters(),lr=lr)\n",
    "    styles_Y_gram=[gram(Y) for Y in styles_Y]\n",
    "#     for i in styles_Y_gram:\n",
    "#         print(\" styles_Y_gram shape : \",i.shape)\n",
    "    return gen_img(),styles_Y_gram,trainer"
   ]
  },
  {
   "cell_type": "code",
   "execution_count": 42,
   "id": "36c4a15f",
   "metadata": {
    "ExecuteTime": {
     "end_time": "2023-04-07T02:51:44.361013Z",
     "start_time": "2023-04-07T02:51:43.410063Z"
    }
   },
   "outputs": [],
   "source": [
    "device,image_shape='cpu',(300,450)\n",
    "content_X,contents_Y=get_contents(image_shape,device)\n",
    "_,styles_Y=get_styles(image_shape,device)"
   ]
  },
  {
   "cell_type": "code",
   "execution_count": 43,
   "id": "8a283c7f",
   "metadata": {
    "ExecuteTime": {
     "end_time": "2023-04-07T02:51:44.367848Z",
     "start_time": "2023-04-07T02:51:44.361990Z"
    }
   },
   "outputs": [
    {
     "name": "stdout",
     "output_type": "stream",
     "text": [
      "style Y shape :  torch.Size([1, 64, 300, 450])\n",
      "style Y shape :  torch.Size([1, 128, 150, 225])\n",
      "style Y shape :  torch.Size([1, 256, 75, 112])\n",
      "style Y shape :  torch.Size([1, 512, 37, 56])\n",
      "style Y shape :  torch.Size([1, 512, 18, 28])\n"
     ]
    }
   ],
   "source": [
    "for i in styles_Y:\n",
    "    print(\"style Y shape : \",i.shape)"
   ]
  },
  {
   "cell_type": "code",
   "execution_count": 44,
   "id": "089b8c48",
   "metadata": {
    "ExecuteTime": {
     "end_time": "2023-04-07T02:51:44.423499Z",
     "start_time": "2023-04-07T02:51:44.369801Z"
    }
   },
   "outputs": [],
   "source": [
    "X,styles_Y_gram,trainer=get_inits(content_X,'cpu',0.3,styles_Y)"
   ]
  },
  {
   "cell_type": "code",
   "execution_count": 45,
   "id": "47609b6f",
   "metadata": {
    "ExecuteTime": {
     "end_time": "2023-04-07T02:51:45.504767Z",
     "start_time": "2023-04-07T02:51:45.058582Z"
    }
   },
   "outputs": [],
   "source": [
    "contents_Y_hat,styles_Y_hat=extract_features(X,content_layers,style_layers)"
   ]
  },
  {
   "cell_type": "code",
   "execution_count": 46,
   "id": "32de106e",
   "metadata": {
    "ExecuteTime": {
     "end_time": "2023-04-07T02:51:46.790718Z",
     "start_time": "2023-04-07T02:51:46.786827Z"
    }
   },
   "outputs": [
    {
     "name": "stdout",
     "output_type": "stream",
     "text": [
      "styles_Y_hat shape :  torch.Size([1, 64, 300, 450])\n",
      "styles_Y_hat shape :  torch.Size([1, 128, 150, 225])\n",
      "styles_Y_hat shape :  torch.Size([1, 256, 75, 112])\n",
      "styles_Y_hat shape :  torch.Size([1, 512, 37, 56])\n",
      "styles_Y_hat shape :  torch.Size([1, 512, 18, 28])\n"
     ]
    }
   ],
   "source": [
    "for i in styles_Y_hat:\n",
    "    print(\"styles_Y_hat shape : \",i.shape)"
   ]
  },
  {
   "cell_type": "code",
   "execution_count": 51,
   "id": "96ba7c00",
   "metadata": {
    "ExecuteTime": {
     "end_time": "2023-04-07T02:54:14.224568Z",
     "start_time": "2023-04-07T02:54:14.218711Z"
    }
   },
   "outputs": [],
   "source": [
    "def train(X,contents_Y,styles_Y,device ,lr,num_epoch,lr_decay_epoch):\n",
    "    X,styles_Y_gram,trainer=get_inits(X,device,lr,styles_Y)\n",
    "    scheduler=torch.optim.lr_scheduler.StepLR(trainer,lr_decay_epoch,0.8)\n",
    "    for epoch in range(num_epoch):\n",
    "        trainer.zero_grad()\n",
    "        contents_Y_hat,styles_Y_hat=extract_features(X,content_layers,style_layers)\n",
    "        contents_l,styles_l,tv_l,l=compute_loss(X,contents_Y_hat,styles_Y_hat,contents_Y,styles_Y_gram)\n",
    "        l.backward()\n",
    "        trainer.step()\n",
    "        scheduler.step()\n",
    "        if(epoch+1) %10 ==0:\n",
    "            print(\"-------------- epoch -----------------\",epoch)\n",
    "            print(\"content loss :\",float(sum(contents_l)))\n",
    "            print(\"style loss   :\",float(sum(styles_l)))\n",
    "            print(\"tv loss      :\",float(tv_l))\n",
    "    return X\n",
    "        "
   ]
  },
  {
   "cell_type": "code",
   "execution_count": 52,
   "id": "4640de89",
   "metadata": {
    "ExecuteTime": {
     "end_time": "2023-04-07T03:07:57.996367Z",
     "start_time": "2023-04-07T02:54:14.761745Z"
    }
   },
   "outputs": [
    {
     "name": "stdout",
     "output_type": "stream",
     "text": [
      "-------------- epoch ----------------- 9\n",
      "content loss : 1.886697769165039\n",
      "style loss   : 1.7113851308822632\n",
      "tv loss      : 7.836203098297119\n",
      "-------------- epoch ----------------- 19\n",
      "content loss : 1.6912285089492798\n",
      "style loss   : 0.7593602538108826\n",
      "tv loss      : 7.591408729553223\n",
      "-------------- epoch ----------------- 29\n",
      "content loss : 1.5549570322036743\n",
      "style loss   : 0.2870299220085144\n",
      "tv loss      : 6.251469612121582\n",
      "-------------- epoch ----------------- 39\n",
      "content loss : 1.450787901878357\n",
      "style loss   : 0.21341782808303833\n",
      "tv loss      : 5.155290603637695\n",
      "-------------- epoch ----------------- 49\n",
      "content loss : 1.3914440870285034\n",
      "style loss   : 0.12216442078351974\n",
      "tv loss      : 4.535834312438965\n",
      "-------------- epoch ----------------- 59\n",
      "content loss : 1.3003970384597778\n",
      "style loss   : 0.07521913200616837\n",
      "tv loss      : 3.760624408721924\n",
      "-------------- epoch ----------------- 69\n",
      "content loss : 1.1860100030899048\n",
      "style loss   : 0.057811036705970764\n",
      "tv loss      : 3.1427314281463623\n",
      "-------------- epoch ----------------- 79\n",
      "content loss : 1.0621826648712158\n",
      "style loss   : 0.08974719047546387\n",
      "tv loss      : 2.726649045944214\n",
      "-------------- epoch ----------------- 89\n",
      "content loss : 1.1272172927856445\n",
      "style loss   : 0.05484092980623245\n",
      "tv loss      : 2.5374040603637695\n",
      "-------------- epoch ----------------- 99\n",
      "content loss : 1.2068426609039307\n",
      "style loss   : 0.06590891629457474\n",
      "tv loss      : 2.4857840538024902\n",
      "-------------- epoch ----------------- 109\n",
      "content loss : 1.0426855087280273\n",
      "style loss   : 0.05217760056257248\n",
      "tv loss      : 2.365108013153076\n",
      "-------------- epoch ----------------- 119\n",
      "content loss : 0.9935613870620728\n",
      "style loss   : 0.04650087654590607\n",
      "tv loss      : 2.1389899253845215\n",
      "-------------- epoch ----------------- 129\n",
      "content loss : 1.0276154279708862\n",
      "style loss   : 0.044903285801410675\n",
      "tv loss      : 2.0497753620147705\n",
      "-------------- epoch ----------------- 139\n",
      "content loss : 0.9612026214599609\n",
      "style loss   : 0.13077929615974426\n",
      "tv loss      : 1.9534355401992798\n",
      "-------------- epoch ----------------- 149\n",
      "content loss : 1.1933372020721436\n",
      "style loss   : 0.058833472430706024\n",
      "tv loss      : 2.3187410831451416\n",
      "-------------- epoch ----------------- 159\n",
      "content loss : 1.0006742477416992\n",
      "style loss   : 0.04912003129720688\n",
      "tv loss      : 2.252767324447632\n",
      "-------------- epoch ----------------- 169\n",
      "content loss : 0.9829298257827759\n",
      "style loss   : 0.04219488054513931\n",
      "tv loss      : 1.9998464584350586\n",
      "-------------- epoch ----------------- 179\n",
      "content loss : 0.9081811904907227\n",
      "style loss   : 0.0446799173951149\n",
      "tv loss      : 1.835628628730774\n",
      "-------------- epoch ----------------- 189\n",
      "content loss : 0.9160991907119751\n",
      "style loss   : 0.04012499749660492\n",
      "tv loss      : 1.7170870304107666\n",
      "-------------- epoch ----------------- 199\n",
      "content loss : 0.9486343264579773\n",
      "style loss   : 0.0415026880800724\n",
      "tv loss      : 1.6798975467681885\n",
      "-------------- epoch ----------------- 209\n",
      "content loss : 0.881941556930542\n",
      "style loss   : 0.039665982127189636\n",
      "tv loss      : 1.62722647190094\n",
      "-------------- epoch ----------------- 219\n",
      "content loss : 0.8810738325119019\n",
      "style loss   : 0.03931467607617378\n",
      "tv loss      : 1.554013729095459\n",
      "-------------- epoch ----------------- 229\n",
      "content loss : 0.8469212651252747\n",
      "style loss   : 0.053615838289260864\n",
      "tv loss      : 1.50149405002594\n",
      "-------------- epoch ----------------- 239\n",
      "content loss : 0.8600512742996216\n",
      "style loss   : 0.038759417831897736\n",
      "tv loss      : 1.4939223527908325\n",
      "-------------- epoch ----------------- 249\n",
      "content loss : 0.8708385229110718\n",
      "style loss   : 0.042988866567611694\n",
      "tv loss      : 1.5054993629455566\n",
      "-------------- epoch ----------------- 259\n",
      "content loss : 0.8475498557090759\n",
      "style loss   : 0.038750190287828445\n",
      "tv loss      : 1.4807970523834229\n",
      "-------------- epoch ----------------- 269\n",
      "content loss : 0.8293616771697998\n",
      "style loss   : 0.038613297045230865\n",
      "tv loss      : 1.4220482110977173\n",
      "-------------- epoch ----------------- 279\n",
      "content loss : 0.8293469548225403\n",
      "style loss   : 0.04304417222738266\n",
      "tv loss      : 1.3989741802215576\n",
      "-------------- epoch ----------------- 289\n",
      "content loss : 0.8155681490898132\n",
      "style loss   : 0.03918986767530441\n",
      "tv loss      : 1.3725764751434326\n",
      "-------------- epoch ----------------- 299\n",
      "content loss : 0.8669428825378418\n",
      "style loss   : 0.0399479940533638\n",
      "tv loss      : 1.4122567176818848\n",
      "-------------- epoch ----------------- 309\n",
      "content loss : 0.8198414444923401\n",
      "style loss   : 0.038780681788921356\n",
      "tv loss      : 1.3878796100616455\n",
      "-------------- epoch ----------------- 319\n",
      "content loss : 0.8036617040634155\n",
      "style loss   : 0.03906119987368584\n",
      "tv loss      : 1.340520977973938\n",
      "-------------- epoch ----------------- 329\n",
      "content loss : 0.811766505241394\n",
      "style loss   : 0.038302645087242126\n",
      "tv loss      : 1.3106465339660645\n",
      "-------------- epoch ----------------- 339\n",
      "content loss : 0.7949731945991516\n",
      "style loss   : 0.041606925427913666\n",
      "tv loss      : 1.2897191047668457\n",
      "-------------- epoch ----------------- 349\n",
      "content loss : 0.8000165224075317\n",
      "style loss   : 0.03948089852929115\n",
      "tv loss      : 1.300445795059204\n",
      "-------------- epoch ----------------- 359\n",
      "content loss : 0.7960566878318787\n",
      "style loss   : 0.03863835707306862\n",
      "tv loss      : 1.2762480974197388\n",
      "-------------- epoch ----------------- 369\n",
      "content loss : 0.8005045652389526\n",
      "style loss   : 0.038693539798259735\n",
      "tv loss      : 1.2584476470947266\n",
      "-------------- epoch ----------------- 379\n",
      "content loss : 0.7968895435333252\n",
      "style loss   : 0.03824734315276146\n",
      "tv loss      : 1.246274471282959\n",
      "-------------- epoch ----------------- 389\n",
      "content loss : 0.7912789583206177\n",
      "style loss   : 0.03943698853254318\n",
      "tv loss      : 1.2376879453659058\n",
      "-------------- epoch ----------------- 399\n",
      "content loss : 0.8000456094741821\n",
      "style loss   : 0.038815535604953766\n",
      "tv loss      : 1.232533574104309\n",
      "-------------- epoch ----------------- 409\n",
      "content loss : 0.7896372079849243\n",
      "style loss   : 0.03837403655052185\n",
      "tv loss      : 1.2242900133132935\n",
      "-------------- epoch ----------------- 419\n",
      "content loss : 0.7912551164627075\n",
      "style loss   : 0.03839484602212906\n",
      "tv loss      : 1.2156211137771606\n",
      "-------------- epoch ----------------- 429\n",
      "content loss : 0.7861278653144836\n",
      "style loss   : 0.038526374846696854\n",
      "tv loss      : 1.2097454071044922\n",
      "-------------- epoch ----------------- 439\n",
      "content loss : 0.7853648066520691\n",
      "style loss   : 0.0384671613574028\n",
      "tv loss      : 1.204881191253662\n",
      "-------------- epoch ----------------- 449\n",
      "content loss : 0.7916685342788696\n",
      "style loss   : 0.03829120099544525\n",
      "tv loss      : 1.2001289129257202\n",
      "-------------- epoch ----------------- 459\n",
      "content loss : 0.7848057150840759\n",
      "style loss   : 0.03835148364305496\n",
      "tv loss      : 1.1947720050811768\n",
      "-------------- epoch ----------------- 469\n",
      "content loss : 0.7837616205215454\n",
      "style loss   : 0.03825312852859497\n",
      "tv loss      : 1.1891160011291504\n",
      "-------------- epoch ----------------- 479\n",
      "content loss : 0.783950686454773\n",
      "style loss   : 0.038075000047683716\n",
      "tv loss      : 1.184256672859192\n",
      "-------------- epoch ----------------- 489\n",
      "content loss : 0.7828180193901062\n",
      "style loss   : 0.03898800536990166\n",
      "tv loss      : 1.1838452816009521\n",
      "-------------- epoch ----------------- 499\n",
      "content loss : 0.7827195525169373\n",
      "style loss   : 0.03830520436167717\n",
      "tv loss      : 1.1794369220733643\n"
     ]
    }
   ],
   "source": [
    "device,image_shape='cpu',(300,450)\n",
    "net=net.to(device)\n",
    "content_X,contents_Y=get_contents(image_shape,device)\n",
    "_,styles_Y=get_styles(image_shape,device)\n",
    "output=train(content_X,contents_Y,styles_Y,device,0.3,500,50)"
   ]
  },
  {
   "cell_type": "code",
   "execution_count": 55,
   "id": "32704d92",
   "metadata": {
    "ExecuteTime": {
     "end_time": "2023-04-07T03:22:28.930833Z",
     "start_time": "2023-04-07T03:22:28.770715Z"
    }
   },
   "outputs": [],
   "source": [
    "output1=postprocess(output)\n",
    "plt.imshow(output1)\n",
    "plt.show()"
   ]
  },
  {
   "cell_type": "code",
   "execution_count": null,
   "id": "14ab72ee",
   "metadata": {},
   "outputs": [],
   "source": []
  },
  {
   "cell_type": "code",
   "execution_count": null,
   "id": "e202f9ff",
   "metadata": {},
   "outputs": [],
   "source": []
  },
  {
   "cell_type": "code",
   "execution_count": null,
   "id": "5d8b97af",
   "metadata": {},
   "outputs": [],
   "source": []
  }
 ],
 "metadata": {
  "kernelspec": {
   "display_name": "Python 3",
   "language": "python",
   "name": "python3"
  },
  "language_info": {
   "codemirror_mode": {
    "name": "ipython",
    "version": 3
   },
   "file_extension": ".py",
   "mimetype": "text/x-python",
   "name": "python",
   "nbconvert_exporter": "python",
   "pygments_lexer": "ipython3",
   "version": "3.8.8"
  }
 },
 "nbformat": 4,
 "nbformat_minor": 5
}
