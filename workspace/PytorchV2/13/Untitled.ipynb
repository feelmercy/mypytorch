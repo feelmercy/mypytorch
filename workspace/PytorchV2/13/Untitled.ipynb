{
 "cells": [
  {
   "cell_type": "code",
   "execution_count": 1,
   "id": "bfd78895",
   "metadata": {
    "ExecuteTime": {
     "end_time": "2023-02-06T07:31:49.173954Z",
     "start_time": "2023-02-06T07:31:46.554442Z"
    }
   },
   "outputs": [],
   "source": [
    "import numpy as np"
   ]
  },
  {
   "cell_type": "code",
   "execution_count": 2,
   "id": "acbcc9e9",
   "metadata": {
    "ExecuteTime": {
     "end_time": "2023-02-06T07:32:11.682535Z",
     "start_time": "2023-02-06T07:32:11.679607Z"
    }
   },
   "outputs": [],
   "source": [
    "a=np.arange(12).reshape(3,4)\n",
    "b=np.arange(12).reshape(3,4)"
   ]
  },
  {
   "cell_type": "code",
   "execution_count": 3,
   "id": "2d7023ea",
   "metadata": {
    "ExecuteTime": {
     "end_time": "2023-02-06T07:32:14.178476Z",
     "start_time": "2023-02-06T07:32:14.157987Z"
    }
   },
   "outputs": [
    {
     "data": {
      "text/plain": [
       "array([[ 0,  1,  2,  3],\n",
       "       [ 4,  5,  6,  7],\n",
       "       [ 8,  9, 10, 11]])"
      ]
     },
     "execution_count": 3,
     "metadata": {},
     "output_type": "execute_result"
    }
   ],
   "source": [
    "a"
   ]
  },
  {
   "cell_type": "code",
   "execution_count": 4,
   "id": "f1582fd1",
   "metadata": {
    "ExecuteTime": {
     "end_time": "2023-02-06T07:32:17.442810Z",
     "start_time": "2023-02-06T07:32:17.437915Z"
    }
   },
   "outputs": [
    {
     "data": {
      "text/plain": [
       "array([[ 0,  1,  2,  3],\n",
       "       [ 4,  5,  6,  7],\n",
       "       [ 8,  9, 10, 11]])"
      ]
     },
     "execution_count": 4,
     "metadata": {},
     "output_type": "execute_result"
    }
   ],
   "source": [
    "b"
   ]
  },
  {
   "cell_type": "code",
   "execution_count": 5,
   "id": "6a8c92b1",
   "metadata": {
    "ExecuteTime": {
     "end_time": "2023-02-06T07:32:22.562868Z",
     "start_time": "2023-02-06T07:32:22.557976Z"
    }
   },
   "outputs": [
    {
     "data": {
      "text/plain": [
       "array([[  0,   1,   4,   9],\n",
       "       [ 16,  25,  36,  49],\n",
       "       [ 64,  81, 100, 121]])"
      ]
     },
     "execution_count": 5,
     "metadata": {},
     "output_type": "execute_result"
    }
   ],
   "source": [
    "a*b"
   ]
  },
  {
   "cell_type": "code",
   "execution_count": 6,
   "id": "5abe66fd",
   "metadata": {
    "ExecuteTime": {
     "end_time": "2023-02-06T07:33:03.876034Z",
     "start_time": "2023-02-06T07:32:57.077404Z"
    }
   },
   "outputs": [],
   "source": [
    "import torch"
   ]
  },
  {
   "cell_type": "code",
   "execution_count": 8,
   "id": "6b59a3bf",
   "metadata": {
    "ExecuteTime": {
     "end_time": "2023-02-06T07:33:32.313456Z",
     "start_time": "2023-02-06T07:33:32.309536Z"
    }
   },
   "outputs": [],
   "source": [
    "aa=torch.Tensor(a)\n",
    "bb=torch.Tensor(b)"
   ]
  },
  {
   "cell_type": "code",
   "execution_count": 9,
   "id": "e0b5f3f6",
   "metadata": {
    "ExecuteTime": {
     "end_time": "2023-02-06T07:33:36.243469Z",
     "start_time": "2023-02-06T07:33:36.237611Z"
    }
   },
   "outputs": [
    {
     "data": {
      "text/plain": [
       "tensor([[  0.,   1.,   4.,   9.],\n",
       "        [ 16.,  25.,  36.,  49.],\n",
       "        [ 64.,  81., 100., 121.]])"
      ]
     },
     "execution_count": 9,
     "metadata": {},
     "output_type": "execute_result"
    }
   ],
   "source": [
    "aa*bb"
   ]
  },
  {
   "cell_type": "code",
   "execution_count": 11,
   "id": "405d2aa4",
   "metadata": {
    "ExecuteTime": {
     "end_time": "2023-02-06T07:34:30.151244Z",
     "start_time": "2023-02-06T07:34:30.141481Z"
    }
   },
   "outputs": [
    {
     "ename": "RuntimeError",
     "evalue": "1D tensors expected, but got 2D and 2D tensors",
     "output_type": "error",
     "traceback": [
      "\u001b[1;31m---------------------------------------------------------------------------\u001b[0m",
      "\u001b[1;31mRuntimeError\u001b[0m                              Traceback (most recent call last)",
      "\u001b[1;32m<ipython-input-11-ca6bfe1a61fb>\u001b[0m in \u001b[0;36m<module>\u001b[1;34m\u001b[0m\n\u001b[1;32m----> 1\u001b[1;33m \u001b[0mtorch\u001b[0m\u001b[1;33m.\u001b[0m\u001b[0mdot\u001b[0m\u001b[1;33m(\u001b[0m\u001b[0maa\u001b[0m\u001b[1;33m,\u001b[0m\u001b[0mbb\u001b[0m\u001b[1;33m.\u001b[0m\u001b[0mreshape\u001b[0m\u001b[1;33m(\u001b[0m\u001b[1;36m4\u001b[0m\u001b[1;33m,\u001b[0m\u001b[1;36m3\u001b[0m\u001b[1;33m)\u001b[0m\u001b[1;33m)\u001b[0m\u001b[1;33m\u001b[0m\u001b[1;33m\u001b[0m\u001b[0m\n\u001b[0m",
      "\u001b[1;31mRuntimeError\u001b[0m: 1D tensors expected, but got 2D and 2D tensors"
     ]
    }
   ],
   "source": [
    "torch.dot(aa,bb.reshape(4,3))"
   ]
  },
  {
   "cell_type": "code",
   "execution_count": 13,
   "id": "df988e51",
   "metadata": {
    "ExecuteTime": {
     "end_time": "2023-02-06T07:36:16.634087Z",
     "start_time": "2023-02-06T07:36:16.629220Z"
    }
   },
   "outputs": [
    {
     "data": {
      "text/plain": [
       "array([[ 42,  48,  54],\n",
       "       [114, 136, 158],\n",
       "       [186, 224, 262]])"
      ]
     },
     "execution_count": 13,
     "metadata": {},
     "output_type": "execute_result"
    }
   ],
   "source": [
    "a.dot(b.reshape(4,3))"
   ]
  },
  {
   "cell_type": "code",
   "execution_count": null,
   "id": "1099926e",
   "metadata": {},
   "outputs": [],
   "source": []
  }
 ],
 "metadata": {
  "kernelspec": {
   "display_name": "Python 3",
   "language": "python",
   "name": "python3"
  },
  "language_info": {
   "codemirror_mode": {
    "name": "ipython",
    "version": 3
   },
   "file_extension": ".py",
   "mimetype": "text/x-python",
   "name": "python",
   "nbconvert_exporter": "python",
   "pygments_lexer": "ipython3",
   "version": "3.8.8"
  }
 },
 "nbformat": 4,
 "nbformat_minor": 5
}
