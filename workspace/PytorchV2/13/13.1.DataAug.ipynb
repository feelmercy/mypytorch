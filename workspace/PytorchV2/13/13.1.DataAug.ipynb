{
 "cells": [
  {
   "cell_type": "code",
   "execution_count": 2,
   "id": "637c10a0",
   "metadata": {
    "ExecuteTime": {
     "end_time": "2022-06-21T01:18:02.418919Z",
     "start_time": "2022-06-21T01:18:01.180762Z"
    }
   },
   "outputs": [
    {
     "name": "stdout",
     "output_type": "stream",
     "text": [
      "Using matplotlib backend: Qt5Agg\n"
     ]
    }
   ],
   "source": [
    "import torch\n",
    "import torchvision\n",
    "from torch import nn,optim\n",
    "import matplotlib.pyplot as plt\n",
    "%matplotlib auto"
   ]
  },
  {
   "cell_type": "code",
   "execution_count": 3,
   "id": "863a4c9b",
   "metadata": {
    "ExecuteTime": {
     "end_time": "2022-06-21T01:18:02.433421Z",
     "start_time": "2022-06-21T01:18:02.420419Z"
    }
   },
   "outputs": [],
   "source": [
    "img_path=r'F:\\study\\ml\\LM\\image\\13\\cat1.jpg'\n",
    "img=plt.imread(img_path)\n",
    "# plt.imshow(img)\n",
    "# plt.show()"
   ]
  },
  {
   "cell_type": "code",
   "execution_count": 9,
   "id": "0a29c996",
   "metadata": {
    "ExecuteTime": {
     "end_time": "2022-06-21T01:25:01.970695Z",
     "start_time": "2022-06-21T01:25:01.964695Z"
    }
   },
   "outputs": [],
   "source": [
    "import PIL"
   ]
  },
  {
   "cell_type": "code",
   "execution_count": 4,
   "id": "35ab7d82",
   "metadata": {
    "ExecuteTime": {
     "end_time": "2022-06-21T01:18:04.099133Z",
     "start_time": "2022-06-21T01:18:04.084131Z"
    }
   },
   "outputs": [
    {
     "data": {
      "text/plain": [
       "numpy.ndarray"
      ]
     },
     "execution_count": 4,
     "metadata": {},
     "output_type": "execute_result"
    }
   ],
   "source": [
    "type(img)"
   ]
  },
  {
   "cell_type": "code",
   "execution_count": 4,
   "id": "1c10ca63",
   "metadata": {
    "ExecuteTime": {
     "end_time": "2022-06-20T05:20:28.322531Z",
     "start_time": "2022-06-20T05:20:26.453794Z"
    }
   },
   "outputs": [],
   "source": [
    "# plt.figure(figsize=(2*1.4,4*1.5))\n",
    "plt.subplots(2,4)\n",
    "for i in range(8):\n",
    "    plt.subplot(2,4,i+1)\n",
    "    plt.imshow(img)\n",
    "plt.show()"
   ]
  },
  {
   "cell_type": "code",
   "execution_count": 7,
   "id": "c0873866",
   "metadata": {
    "ExecuteTime": {
     "end_time": "2022-06-21T01:23:47.441732Z",
     "start_time": "2022-06-21T01:23:47.428230Z"
    }
   },
   "outputs": [
    {
     "data": {
      "text/plain": [
       "PIL.Image.Image"
      ]
     },
     "execution_count": 7,
     "metadata": {},
     "output_type": "execute_result"
    }
   ],
   "source": [
    "trans=torchvision.transforms.ToPILImage()\n",
    "type(trans(img))"
   ]
  },
  {
   "cell_type": "code",
   "execution_count": 12,
   "id": "69419501",
   "metadata": {
    "ExecuteTime": {
     "end_time": "2022-06-21T01:25:22.389788Z",
     "start_time": "2022-06-21T01:25:22.378287Z"
    }
   },
   "outputs": [
    {
     "data": {
      "text/plain": [
       "True"
      ]
     },
     "execution_count": 12,
     "metadata": {},
     "output_type": "execute_result"
    }
   ],
   "source": [
    "isinstance(trans(img),PIL.Image.Image)"
   ]
  },
  {
   "cell_type": "code",
   "execution_count": 13,
   "id": "c5916ef3",
   "metadata": {
    "ExecuteTime": {
     "end_time": "2022-06-21T01:27:48.345822Z",
     "start_time": "2022-06-21T01:27:48.332321Z"
    }
   },
   "outputs": [
    {
     "data": {
      "text/plain": [
       "torchvision.transforms.transforms.ToPILImage"
      ]
     },
     "execution_count": 13,
     "metadata": {},
     "output_type": "execute_result"
    }
   ],
   "source": [
    "type(torchvision.transforms.ToPILImage(img))"
   ]
  },
  {
   "cell_type": "code",
   "execution_count": null,
   "id": "fd1b9ea8",
   "metadata": {},
   "outputs": [],
   "source": []
  },
  {
   "cell_type": "code",
   "execution_count": null,
   "id": "9226e0e1",
   "metadata": {},
   "outputs": [],
   "source": []
  },
  {
   "cell_type": "code",
   "execution_count": null,
   "id": "d9983f8a",
   "metadata": {},
   "outputs": [],
   "source": []
  },
  {
   "cell_type": "code",
   "execution_count": 5,
   "id": "8f35cfa5",
   "metadata": {
    "ExecuteTime": {
     "end_time": "2022-06-20T05:20:33.529692Z",
     "start_time": "2022-06-20T05:20:33.512690Z"
    }
   },
   "outputs": [],
   "source": [
    "def show_images(imgs, num_rows, num_cols, titles=None, scale=1.5):\n",
    "    \"\"\"绘制图像列表\n",
    "    Defined in :numref:`sec_fashion_mnist`\"\"\"\n",
    "    figsize = (num_cols * scale, num_rows * scale)\n",
    "    _, axes = plt.subplots(num_rows, num_cols, figsize=figsize)\n",
    "    axes = axes.flatten()\n",
    "    for i, (ax, img) in enumerate(zip(axes, imgs)):\n",
    "        if torch.is_tensor(img):\n",
    "            # 图片张量\n",
    "            ax.imshow(img.numpy())\n",
    "        else:\n",
    "            # PIL图片\n",
    "            ax.imshow(img)\n",
    "        ax.axes.get_xaxis().set_visible(False)\n",
    "        ax.axes.get_yaxis().set_visible(False)\n",
    "        if titles:\n",
    "            ax.set_title(titles[i])\n",
    "    return axes"
   ]
  },
  {
   "cell_type": "code",
   "execution_count": 6,
   "id": "3dfbed81",
   "metadata": {
    "ExecuteTime": {
     "end_time": "2022-06-20T05:20:38.612338Z",
     "start_time": "2022-06-20T05:20:38.600336Z"
    }
   },
   "outputs": [],
   "source": [
    "def show_images1(imgs,num_rows,num_cols,titles=None,scale=1.5):\n",
    "    figsize=(num_cols*scale,num_rows*scale)\n",
    "    plt.subplots(num_rows,num_cols,figsize=figsize)\n",
    "    for i in range(num_cols*num_rows):\n",
    "        plt.subplot(num_rows,num_cols,i+1)\n",
    "        plt.imshow(imgs)\n",
    "    plt.show()\n",
    "    "
   ]
  },
  {
   "cell_type": "code",
   "execution_count": null,
   "id": "e06d0d74",
   "metadata": {},
   "outputs": [],
   "source": []
  },
  {
   "cell_type": "code",
   "execution_count": 7,
   "id": "657d5f53",
   "metadata": {
    "ExecuteTime": {
     "end_time": "2022-06-20T05:20:39.448944Z",
     "start_time": "2022-06-20T05:20:39.441943Z"
    }
   },
   "outputs": [],
   "source": [
    "from PIL import Image"
   ]
  },
  {
   "cell_type": "code",
   "execution_count": null,
   "id": "2e3a6a68",
   "metadata": {},
   "outputs": [],
   "source": []
  },
  {
   "cell_type": "code",
   "execution_count": 8,
   "id": "38c3f7a5",
   "metadata": {
    "ExecuteTime": {
     "end_time": "2022-06-20T05:20:46.622355Z",
     "start_time": "2022-06-20T05:20:46.608853Z"
    }
   },
   "outputs": [
    {
     "data": {
      "text/plain": [
       "RandomHorizontalFlip(p=[[[ 15  12   0]\n",
       "  [ 16  15   0]\n",
       "  [ 18  17   0]\n",
       "  ...\n",
       "  [  0  18  28]\n",
       "  [  1  19  29]\n",
       "  [  1  19  29]]\n",
       "\n",
       " [[ 16  10   0]\n",
       "  [ 19  13   0]\n",
       "  [ 20  17   0]\n",
       "  ...\n",
       "  [  1  20  27]\n",
       "  [  1  20  27]\n",
       "  [  2  21  28]]\n",
       "\n",
       " [[ 24  14   2]\n",
       "  [ 24  16   3]\n",
       "  [ 24  18   4]\n",
       "  ...\n",
       "  [  0  17  24]\n",
       "  [  0  18  25]\n",
       "  [  0  18  25]]\n",
       "\n",
       " ...\n",
       "\n",
       " [[ 69  88 105]\n",
       "  [ 74  93 110]\n",
       "  [ 78  97 114]\n",
       "  ...\n",
       "  [ 23  42  59]\n",
       "  [ 23  42  59]\n",
       "  [ 23  42  59]]\n",
       "\n",
       " [[ 66  87 104]\n",
       "  [ 71  90 107]\n",
       "  [ 83 102 119]\n",
       "  ...\n",
       "  [ 25  44  61]\n",
       "  [ 25  44  61]\n",
       "  [ 25  44  61]]\n",
       "\n",
       " [[ 64  85 104]\n",
       "  [ 67  88 107]\n",
       "  [ 87 105 125]\n",
       "  ...\n",
       "  [ 24  41  59]\n",
       "  [ 24  41  59]\n",
       "  [ 24  41  59]]])"
      ]
     },
     "execution_count": 8,
     "metadata": {},
     "output_type": "execute_result"
    }
   ],
   "source": [
    "torchvision.transforms.RandomHorizontalFlip(img)"
   ]
  },
  {
   "cell_type": "code",
   "execution_count": 9,
   "id": "44c2245b",
   "metadata": {
    "ExecuteTime": {
     "end_time": "2022-06-20T05:20:48.072039Z",
     "start_time": "2022-06-20T05:20:48.065038Z"
    }
   },
   "outputs": [],
   "source": [
    "from PIL import Image"
   ]
  },
  {
   "cell_type": "code",
   "execution_count": 10,
   "id": "828602d9",
   "metadata": {
    "ExecuteTime": {
     "end_time": "2022-06-20T05:20:50.218812Z",
     "start_time": "2022-06-20T05:20:50.207810Z"
    }
   },
   "outputs": [],
   "source": [
    "def apply(img,aug,num_rows=2,num_cols=4,scale=1.5):\n",
    "    Y=[aug(img) for _ in range(num_rows * num_cols)]\n",
    "    print(type(Y))\n",
    "    show_images1(Y, num_rows, num_cols, scale=scale)\n",
    "    "
   ]
  },
  {
   "cell_type": "code",
   "execution_count": 33,
   "id": "e0b8540d",
   "metadata": {
    "ExecuteTime": {
     "end_time": "2022-06-20T05:57:25.729106Z",
     "start_time": "2022-06-20T05:57:25.722105Z"
    }
   },
   "outputs": [],
   "source": [
    "from PIL import Image\n",
    "import numpy as np"
   ]
  },
  {
   "cell_type": "markdown",
   "id": "5cc48812",
   "metadata": {},
   "source": [
    "#### 将plt转换成PIL类型,可以转换,但是在 plt.imshow中,要先转成 np.array,在用plt.imshow,看 show_iamges2"
   ]
  },
  {
   "cell_type": "code",
   "execution_count": 30,
   "id": "280705b0",
   "metadata": {
    "ExecuteTime": {
     "end_time": "2022-06-20T05:49:55.388420Z",
     "start_time": "2022-06-20T05:49:55.371918Z"
    },
    "scrolled": false
   },
   "outputs": [
    {
     "data": {
      "text/plain": [
       "PIL.Image.Image"
      ]
     },
     "execution_count": 30,
     "metadata": {},
     "output_type": "execute_result"
    }
   ],
   "source": [
    "trans=torchvision.transforms.Compose([torchvision.transforms.ToPILImage(),torchvision.transforms.RandomHorizontalFlip()])\n",
    "type(trans(img))"
   ]
  },
  {
   "cell_type": "code",
   "execution_count": 37,
   "id": "8b1c7dad",
   "metadata": {
    "ExecuteTime": {
     "end_time": "2022-06-20T06:03:58.619497Z",
     "start_time": "2022-06-20T06:03:57.450348Z"
    }
   },
   "outputs": [],
   "source": [
    "trans(img).show()"
   ]
  },
  {
   "cell_type": "code",
   "execution_count": 35,
   "id": "cb3d2b2f",
   "metadata": {
    "ExecuteTime": {
     "end_time": "2022-06-20T05:57:35.663868Z",
     "start_time": "2022-06-20T05:57:35.634364Z"
    }
   },
   "outputs": [],
   "source": [
    "img_test=trans(img)\n",
    "plt.imshow(np.array(img_test))\n",
    "plt.show()"
   ]
  },
  {
   "cell_type": "code",
   "execution_count": 23,
   "id": "c4dca9bd",
   "metadata": {
    "ExecuteTime": {
     "end_time": "2022-06-20T05:43:10.049949Z",
     "start_time": "2022-06-20T05:43:10.042948Z"
    }
   },
   "outputs": [],
   "source": [
    "from PIL import Image"
   ]
  },
  {
   "cell_type": "code",
   "execution_count": 24,
   "id": "4af23975",
   "metadata": {
    "ExecuteTime": {
     "end_time": "2022-06-20T05:43:11.345613Z",
     "start_time": "2022-06-20T05:43:11.337112Z"
    }
   },
   "outputs": [],
   "source": [
    "img1=Image.open(r'F:\\study\\ml\\LM\\image\\13\\cat1.jpg')"
   ]
  },
  {
   "cell_type": "code",
   "execution_count": 25,
   "id": "7979dc65",
   "metadata": {
    "ExecuteTime": {
     "end_time": "2022-06-20T05:43:19.062593Z",
     "start_time": "2022-06-20T05:43:19.050592Z"
    }
   },
   "outputs": [
    {
     "data": {
      "text/plain": [
       "PIL.JpegImagePlugin.JpegImageFile"
      ]
     },
     "execution_count": 25,
     "metadata": {},
     "output_type": "execute_result"
    }
   ],
   "source": [
    "type(img1)"
   ]
  },
  {
   "cell_type": "code",
   "execution_count": 58,
   "id": "b7ad669d",
   "metadata": {
    "ExecuteTime": {
     "end_time": "2022-06-16T05:45:20.346979Z",
     "start_time": "2022-06-16T05:45:20.049441Z"
    }
   },
   "outputs": [],
   "source": [
    "show_images1(img1,2,4)"
   ]
  },
  {
   "cell_type": "code",
   "execution_count": 70,
   "id": "01104f66",
   "metadata": {
    "ExecuteTime": {
     "end_time": "2022-06-16T05:59:11.745553Z",
     "start_time": "2022-06-16T05:59:11.743053Z"
    }
   },
   "outputs": [],
   "source": [
    "import numpy as np"
   ]
  },
  {
   "cell_type": "code",
   "execution_count": 71,
   "id": "774b30cb",
   "metadata": {
    "ExecuteTime": {
     "end_time": "2022-06-16T05:59:28.676203Z",
     "start_time": "2022-06-16T05:59:28.671702Z"
    }
   },
   "outputs": [],
   "source": [
    "def show_images2(imgs,num_rows,num_cols,titles=None,scale=1.5):\n",
    "    figsize=(num_cols*scale,num_rows*scale)\n",
    "    plt.subplots(num_rows,num_cols,figsize=figsize)\n",
    "    for i in range(num_cols*num_rows):\n",
    "        plt.subplot(num_rows,num_cols,i+1)\n",
    "        plt.imshow(np.array(imgs[i]))\n",
    "    plt.show()"
   ]
  },
  {
   "cell_type": "code",
   "execution_count": 72,
   "id": "e3d28491",
   "metadata": {
    "ExecuteTime": {
     "end_time": "2022-06-16T05:59:29.210271Z",
     "start_time": "2022-06-16T05:59:29.206770Z"
    }
   },
   "outputs": [],
   "source": [
    "def apply2(img,aug,num_rows=2,num_cols=4,scale=1.5):\n",
    "    Y=[aug(img) for _ in range(num_rows * num_cols)]\n",
    "    print(type(Y[0]))\n",
    "    show_images2(Y, num_rows, num_cols, scale=scale)\n",
    "    "
   ]
  },
  {
   "cell_type": "code",
   "execution_count": 73,
   "id": "24b605b5",
   "metadata": {
    "ExecuteTime": {
     "end_time": "2022-06-16T05:59:30.065879Z",
     "start_time": "2022-06-16T05:59:29.764841Z"
    }
   },
   "outputs": [
    {
     "name": "stdout",
     "output_type": "stream",
     "text": [
      "<class 'PIL.Image.Image'>\n"
     ]
    }
   ],
   "source": [
    "apply2(img1, torchvision.transforms.RandomHorizontalFlip())"
   ]
  },
  {
   "cell_type": "code",
   "execution_count": 67,
   "id": "6d97579e",
   "metadata": {
    "ExecuteTime": {
     "end_time": "2022-06-16T05:57:42.353702Z",
     "start_time": "2022-06-16T05:57:42.343700Z"
    }
   },
   "outputs": [
    {
     "data": {
      "text/plain": [
       "array([[1., 2., 3.]], dtype=float32)"
      ]
     },
     "execution_count": 67,
     "metadata": {},
     "output_type": "execute_result"
    }
   ],
   "source": [
    "torch.Tensor([[1,2,3]]).numpy()"
   ]
  },
  {
   "cell_type": "code",
   "execution_count": null,
   "id": "c45bf2f2",
   "metadata": {},
   "outputs": [],
   "source": []
  }
 ],
 "metadata": {
  "kernelspec": {
   "display_name": "Python 3",
   "language": "python",
   "name": "python3"
  },
  "language_info": {
   "codemirror_mode": {
    "name": "ipython",
    "version": 3
   },
   "file_extension": ".py",
   "mimetype": "text/x-python",
   "name": "python",
   "nbconvert_exporter": "python",
   "pygments_lexer": "ipython3",
   "version": "3.8.8"
  }
 },
 "nbformat": 4,
 "nbformat_minor": 5
}
