{
 "cells": [
  {
   "cell_type": "code",
   "execution_count": 1,
   "id": "d72ac627",
   "metadata": {
    "ExecuteTime": {
     "end_time": "2022-06-08T07:27:48.038158Z",
     "start_time": "2022-06-08T07:27:48.035158Z"
    }
   },
   "outputs": [],
   "source": [
    "import torch\n",
    "from torch import nn,optim"
   ]
  },
  {
   "cell_type": "code",
   "execution_count": 2,
   "id": "703e6486",
   "metadata": {
    "ExecuteTime": {
     "end_time": "2022-06-08T07:29:31.533300Z",
     "start_time": "2022-06-08T07:29:31.529300Z"
    }
   },
   "outputs": [],
   "source": [
    "def conv_block(input_channels,num_channels):\n",
    "    return nn.Sequential(nn.BatchNorm2d(input_channels),nn.ReLU(),nn.Conv2d(input_channels,num_channels,kernel_size=3,padding=1))"
   ]
  },
  {
   "cell_type": "code",
   "execution_count": 29,
   "id": "acbf9006",
   "metadata": {
    "ExecuteTime": {
     "end_time": "2022-06-08T08:05:27.097022Z",
     "start_time": "2022-06-08T08:05:27.083020Z"
    }
   },
   "outputs": [],
   "source": [
    "class DenseBlock(nn.Module):\n",
    "    def __init__(self,num_convs,input_channels,num_channels):\n",
    "        super().__init__()\n",
    "        layer=[]\n",
    "        for i in range(num_convs):\n",
    "            layer.append(conv_block(num_channels*i+input_channels,num_channels))\n",
    "        self.net=nn.Sequential(*layer)\n",
    "    def forward(self,X):\n",
    "        for blk in self.net:\n",
    "            Y=blk(X)\n",
    "#             print(Y.shape)\n",
    "            X=torch.cat((X,Y),dim=1)\n",
    "        return X"
   ]
  },
  {
   "cell_type": "code",
   "execution_count": 7,
   "id": "e722eca0",
   "metadata": {
    "ExecuteTime": {
     "end_time": "2022-06-08T07:41:33.675001Z",
     "start_time": "2022-06-08T07:41:33.644997Z"
    }
   },
   "outputs": [
    {
     "name": "stdout",
     "output_type": "stream",
     "text": [
      "torch.Size([4, 10, 8, 8])\n",
      "torch.Size([4, 10, 8, 8])\n"
     ]
    },
    {
     "data": {
      "text/plain": [
       "torch.Size([4, 23, 8, 8])"
      ]
     },
     "execution_count": 7,
     "metadata": {},
     "output_type": "execute_result"
    }
   ],
   "source": [
    "blk=DenseBlock(2,3,10)\n",
    "X=torch.randn(4,3,8,8)\n",
    "Y=blk(X)\n",
    "Y.shape"
   ]
  },
  {
   "cell_type": "code",
   "execution_count": 8,
   "id": "d96c765c",
   "metadata": {
    "ExecuteTime": {
     "end_time": "2022-06-08T07:49:18.251494Z",
     "start_time": "2022-06-08T07:49:18.245994Z"
    }
   },
   "outputs": [],
   "source": [
    "def transition_block(input_channels,num_channels):\n",
    "    return nn.Sequential(nn.BatchNorm2d(input_channels),nn.ReLU(),\n",
    "                        nn.Conv2d(input_channels,num_channels,kernel_size=1),nn.AvgPool2d(kernel_size=2,stride=2))"
   ]
  },
  {
   "cell_type": "code",
   "execution_count": 11,
   "id": "26036dc4",
   "metadata": {
    "ExecuteTime": {
     "end_time": "2022-06-08T07:52:29.213743Z",
     "start_time": "2022-06-08T07:52:29.201742Z"
    }
   },
   "outputs": [],
   "source": [
    "net1=nn.Sequential(nn.BatchNorm2d(23),nn.ReLU(),\n",
    "                        nn.Conv2d(23,10,kernel_size=1),nn.AvgPool2d(kernel_size=2,stride=2))"
   ]
  },
  {
   "cell_type": "code",
   "execution_count": 13,
   "id": "3c4d50cb",
   "metadata": {
    "ExecuteTime": {
     "end_time": "2022-06-08T07:53:58.799119Z",
     "start_time": "2022-06-08T07:53:58.689105Z"
    }
   },
   "outputs": [
    {
     "name": "stdout",
     "output_type": "stream",
     "text": [
      "BatchNorm2d  output  shape :  torch.Size([4, 23, 8, 8])\n",
      "ReLU  output  shape :  torch.Size([4, 23, 8, 8])\n",
      "Conv2d  output  shape :  torch.Size([4, 10, 8, 8])\n",
      "AvgPool2d  output  shape :  torch.Size([4, 10, 4, 4])\n"
     ]
    }
   ],
   "source": [
    "YY=Y\n",
    "for l in net1:\n",
    "    YY=l(YY)\n",
    "    print(l.__class__.__name__,' output  shape : ',YY.shape)"
   ]
  },
  {
   "cell_type": "code",
   "execution_count": 14,
   "id": "71bb41f1",
   "metadata": {
    "ExecuteTime": {
     "end_time": "2022-06-08T07:54:25.817550Z",
     "start_time": "2022-06-08T07:54:25.769044Z"
    }
   },
   "outputs": [
    {
     "data": {
      "text/plain": [
       "torch.Size([4, 10, 4, 4])"
      ]
     },
     "execution_count": 14,
     "metadata": {},
     "output_type": "execute_result"
    }
   ],
   "source": [
    "blk=transition_block(23,10)\n",
    "blk(Y).shape"
   ]
  },
  {
   "cell_type": "code",
   "execution_count": 19,
   "id": "7bb0ca79",
   "metadata": {
    "ExecuteTime": {
     "end_time": "2022-06-08T08:03:18.535197Z",
     "start_time": "2022-06-08T08:03:18.523195Z"
    }
   },
   "outputs": [],
   "source": [
    "b1 = nn.Sequential(\n",
    "    nn.Conv2d(1, 64, kernel_size=7, stride=2, padding=3),\n",
    "    nn.BatchNorm2d(64), nn.ReLU(),\n",
    "    nn.MaxPool2d(kernel_size=3, stride=2, padding=1))"
   ]
  },
  {
   "cell_type": "code",
   "execution_count": 32,
   "id": "d8c1ba93",
   "metadata": {
    "ExecuteTime": {
     "end_time": "2022-06-08T08:06:31.570709Z",
     "start_time": "2022-06-08T08:06:31.528704Z"
    }
   },
   "outputs": [],
   "source": [
    "num_channels, growth_rate = 64, 32\n",
    "num_convs_in_dense_blocks = [4, 4, 4, 4]\n",
    "blks = []\n",
    "for i, num_convs in enumerate(num_convs_in_dense_blocks):\n",
    "    blks.append(DenseBlock(num_convs, num_channels, growth_rate))\n",
    "    # 上⼀个稠密块的输出通道数\n",
    "    num_channels += num_convs * growth_rate\n",
    "    # 在稠密块之间添加⼀个转换层，使通道数量减半\n",
    "    if i != len(num_convs_in_dense_blocks) - 1:\n",
    "        blks.append(transition_block(num_channels, num_channels // 2))\n",
    "        num_channels = num_channels // 2"
   ]
  },
  {
   "cell_type": "code",
   "execution_count": 33,
   "id": "bf62da90",
   "metadata": {
    "ExecuteTime": {
     "end_time": "2022-06-08T08:06:32.141282Z",
     "start_time": "2022-06-08T08:06:32.129780Z"
    }
   },
   "outputs": [],
   "source": [
    "net = nn.Sequential(\n",
    "b1, *blks,\n",
    "nn.BatchNorm2d(num_channels), nn.ReLU(),\n",
    "nn.AdaptiveMaxPool2d((1, 1)),\n",
    "nn.Flatten(),\n",
    "nn.Linear(num_channels, 10))"
   ]
  },
  {
   "cell_type": "code",
   "execution_count": 34,
   "id": "e2041f00",
   "metadata": {
    "ExecuteTime": {
     "end_time": "2022-06-08T08:06:32.729356Z",
     "start_time": "2022-06-08T08:06:32.725856Z"
    }
   },
   "outputs": [],
   "source": [
    "import torchvision\n",
    "from torchvision import transforms"
   ]
  },
  {
   "cell_type": "code",
   "execution_count": 35,
   "id": "7be70b39",
   "metadata": {
    "ExecuteTime": {
     "end_time": "2022-06-08T08:06:33.331433Z",
     "start_time": "2022-06-08T08:06:33.272425Z"
    }
   },
   "outputs": [],
   "source": [
    "trans=[transforms.ToTensor()]\n",
    "trans.insert(0,transforms.Resize(96))\n",
    "trans=transforms.Compose(trans)\n",
    "mnist_train=torchvision.datasets.FashionMNIST(\n",
    "    root='F:\\study\\ml\\DataSet\\FashionMNIST',train=True,\n",
    "    download=True,transform=trans)\n",
    "mnist_test=torchvision.datasets.FashionMNIST(\n",
    "    root='F:\\study\\ml\\DataSet\\FashionMNIST',train=False,\n",
    "    download=True,transform=trans)"
   ]
  },
  {
   "cell_type": "code",
   "execution_count": 36,
   "id": "1aa8aaa3",
   "metadata": {
    "ExecuteTime": {
     "end_time": "2022-06-08T08:06:33.838997Z",
     "start_time": "2022-06-08T08:06:33.823995Z"
    }
   },
   "outputs": [],
   "source": [
    "def evaluate_acc_gpu(net,data_iter,device=None):\n",
    "    if isinstance(net,nn.Module):\n",
    "        device='cuda' if torch.cuda.is_available() else 'cpu'\n",
    "        net.to(device)\n",
    "        net.eval()\n",
    "        l_sum=[]\n",
    "        for X,y in data_iter:\n",
    "            X,y=X.to(device),y.to(device)\n",
    "            y_hat=net(X)\n",
    "            l_sum.append((sum(torch.argmax(y_hat,dim=1).reshape(y.shape)==y) / y.shape[0]).item())\n",
    "    return sum(l_sum)/len(l_sum)"
   ]
  },
  {
   "cell_type": "code",
   "execution_count": 37,
   "id": "03806387",
   "metadata": {
    "ExecuteTime": {
     "end_time": "2022-06-08T08:06:34.367064Z",
     "start_time": "2022-06-08T08:06:34.345062Z"
    }
   },
   "outputs": [],
   "source": [
    "def train_ch6(net,train_iter,test_iter,num_epochs,lr,device):\n",
    "    def init_weight(m):\n",
    "        if type(m) ==nn.Linear or type(m) ==nn.Conv2d:\n",
    "            torch.nn.init.xavier_uniform_(m.weight)\n",
    "    net.apply(init_weight)\n",
    "    print('training on : ',device)\n",
    "    net.to(device)\n",
    "    loss=nn.CrossEntropyLoss()\n",
    "    optimizer=optim.SGD(net.parameters(),lr=lr)\n",
    "    for epoch in range(num_epochs):\n",
    "        tr_l=[]\n",
    "        tr_acc=[]\n",
    "        net.train()\n",
    "        for X,y in train_iter:\n",
    "            X,y=X.to(device),y.to(device)\n",
    "            y_hat=net(X)\n",
    "            l=loss(y_hat,y)\n",
    "            optimizer.zero_grad()\n",
    "            l.backward()\n",
    "            optimizer.step()\n",
    "            \n",
    "            with torch.no_grad():\n",
    "                tr_l.append(l.item())\n",
    "                tr_acc.append((sum(torch.argmax(y_hat,dim=1).reshape(y.shape) ==y ) / y.shape[0] ).item() )\n",
    "        test_acc=evaluate_acc_gpu(net,test_iter,device)\n",
    "        print('epoch : ',epoch ,' train loss : ',sum(tr_l)/len(tr_l),' train acc : ', sum(tr_acc)/len(tr_acc),'test acc : ',test_acc)"
   ]
  },
  {
   "cell_type": "code",
   "execution_count": 38,
   "id": "cf974ebc",
   "metadata": {
    "ExecuteTime": {
     "end_time": "2022-06-08T08:06:34.887130Z",
     "start_time": "2022-06-08T08:06:34.880129Z"
    }
   },
   "outputs": [],
   "source": [
    "train_iter=torch.utils.data.DataLoader(mnist_train,batch_size,shuffle=True)\n",
    "test_iter=torch.utils.data.DataLoader(mnist_test,batch_size,shuffle=False)"
   ]
  },
  {
   "cell_type": "code",
   "execution_count": null,
   "id": "becc55f9",
   "metadata": {
    "ExecuteTime": {
     "start_time": "2022-06-08T08:06:35.449Z"
    }
   },
   "outputs": [
    {
     "name": "stdout",
     "output_type": "stream",
     "text": [
      "training on :  cpu\n",
      "epoch :  0  train loss :  0.7966652532841297  train acc :  0.7601617906955962 test acc :  0.84228515625\n",
      "epoch :  1  train loss :  0.3631076884396533  train acc :  0.8664007093044037 test acc :  0.826171875\n",
      "epoch :  2  train loss :  0.29450924751606394  train acc :  0.89028147154666 test acc :  0.8740234375\n",
      "epoch :  3  train loss :  0.25679481796761777  train acc :  0.9052969859001484 test acc :  0.74345703125\n",
      "epoch :  4  train loss :  0.23434468190720742  train acc :  0.9131704343126176 test acc :  0.88720703125\n",
      "epoch :  5  train loss :  0.2115989495465096  train acc :  0.9222462321849579 test acc :  0.89541015625\n",
      "epoch :  6  train loss :  0.19353248654527866  train acc :  0.9287344859001484 test acc :  0.89326171875\n"
     ]
    }
   ],
   "source": [
    "lr, num_epochs, batch_size = 0.1, 10, 256\n",
    "train_ch6(net, train_iter, test_iter, num_epochs, lr, 'cpu')"
   ]
  },
  {
   "cell_type": "code",
   "execution_count": null,
   "id": "790ba478",
   "metadata": {
    "ExecuteTime": {
     "start_time": "2022-06-08T09:55:22.071Z"
    }
   },
   "outputs": [],
   "source": [
    "100/6"
   ]
  },
  {
   "cell_type": "code",
   "execution_count": null,
   "id": "d2a5530d",
   "metadata": {},
   "outputs": [],
   "source": []
  }
 ],
 "metadata": {
  "kernelspec": {
   "display_name": "Python 3",
   "language": "python",
   "name": "python3"
  },
  "language_info": {
   "codemirror_mode": {
    "name": "ipython",
    "version": 3
   },
   "file_extension": ".py",
   "mimetype": "text/x-python",
   "name": "python",
   "nbconvert_exporter": "python",
   "pygments_lexer": "ipython3",
   "version": "3.8.8"
  }
 },
 "nbformat": 4,
 "nbformat_minor": 5
}
