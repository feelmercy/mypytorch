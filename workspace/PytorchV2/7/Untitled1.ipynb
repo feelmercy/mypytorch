{
 "cells": [
  {
   "cell_type": "code",
   "execution_count": 1,
   "id": "4dc8943b",
   "metadata": {
    "ExecuteTime": {
     "end_time": "2022-06-17T02:45:44.741889Z",
     "start_time": "2022-06-17T02:45:44.732388Z"
    }
   },
   "outputs": [],
   "source": [
    "import torch\n",
    "from torch import nn,optim\n",
    "from torch.nn import functional as F"
   ]
  },
  {
   "cell_type": "code",
   "execution_count": 6,
   "id": "7e4fd28b",
   "metadata": {
    "ExecuteTime": {
     "end_time": "2022-06-17T02:56:10.818891Z",
     "start_time": "2022-06-17T02:56:10.800388Z"
    }
   },
   "outputs": [],
   "source": [
    "class Residual(nn.Module):\n",
    "    def __init__(self,input_channels,num_channles,use_1x1conv=False,strides=1):\n",
    "        super().__init__()\n",
    "        self.conv1=nn.Conv2d(input_channels,num_channles,kernel_size=3,padding=1,stride=strides)\n",
    "        self.conv2=nn.Conv2d(num_channles,num_channles,kernel_size=3,padding=1)\n",
    "        if use_1x1conv:\n",
    "            self.conv3=nn.Conv2d(input_channels,num_channles,kernel_size=1,stride=strides)\n",
    "        else:\n",
    "            self.conv3=None\n",
    "        self.bn1=nn.BatchNorm2d(num_channles)\n",
    "        self.bn2=nn.BatchNorm2d(num_channles)\n",
    "    \n",
    "    def forward(self,X):\n",
    "        Y=F.relu(self.bn1(self.conv1(X)))\n",
    "        Y=self.bn2(self.conv2(Y))\n",
    "        if self.conv3:\n",
    "            X=self.conv3(X)\n",
    "        Y+=X\n",
    "        return F.relu(Y)"
   ]
  },
  {
   "cell_type": "code",
   "execution_count": 7,
   "id": "c0b23c3b",
   "metadata": {
    "ExecuteTime": {
     "end_time": "2022-06-17T02:56:11.302452Z",
     "start_time": "2022-06-17T02:56:11.265447Z"
    }
   },
   "outputs": [
    {
     "data": {
      "text/plain": [
       "torch.Size([4, 3, 6, 6])"
      ]
     },
     "execution_count": 7,
     "metadata": {},
     "output_type": "execute_result"
    }
   ],
   "source": [
    "blk=Residual(3,3)\n",
    "X=torch.rand(4,3,6,6)\n",
    "Y=blk(X)\n",
    "Y.shape"
   ]
  },
  {
   "cell_type": "code",
   "execution_count": 8,
   "id": "039634a2",
   "metadata": {
    "ExecuteTime": {
     "end_time": "2022-06-17T02:56:11.925031Z",
     "start_time": "2022-06-17T02:56:11.823018Z"
    }
   },
   "outputs": [
    {
     "data": {
      "text/plain": [
       "torch.Size([4, 6, 3, 3])"
      ]
     },
     "execution_count": 8,
     "metadata": {},
     "output_type": "execute_result"
    }
   ],
   "source": [
    "blk=Residual(3,6,True,2)\n",
    "blk(X).shape"
   ]
  },
  {
   "cell_type": "code",
   "execution_count": 9,
   "id": "1a7ed026",
   "metadata": {
    "ExecuteTime": {
     "end_time": "2022-06-17T02:57:51.317152Z",
     "start_time": "2022-06-17T02:57:51.311652Z"
    }
   },
   "outputs": [],
   "source": [
    "b1 = nn.Sequential(nn.Conv2d(1, 64, kernel_size=7, stride=2, padding=3),\n",
    "nn.BatchNorm2d(64), nn.ReLU(),\n",
    "nn.MaxPool2d(kernel_size=3, stride=2, padding=1))"
   ]
  },
  {
   "cell_type": "code",
   "execution_count": 31,
   "id": "2cba0ba8",
   "metadata": {
    "ExecuteTime": {
     "end_time": "2022-06-17T06:30:27.672004Z",
     "start_time": "2022-06-17T06:30:27.659002Z"
    }
   },
   "outputs": [
    {
     "data": {
      "text/plain": [
       "112.5"
      ]
     },
     "execution_count": 31,
     "metadata": {},
     "output_type": "execute_result"
    }
   ],
   "source": [
    "(224-7+3*2+2)/2"
   ]
  },
  {
   "cell_type": "code",
   "execution_count": 10,
   "id": "3882bff8",
   "metadata": {
    "ExecuteTime": {
     "end_time": "2022-06-17T06:13:31.195427Z",
     "start_time": "2022-06-17T06:13:31.185426Z"
    }
   },
   "outputs": [],
   "source": [
    "def resnet_block(input_channels,num_channels,num_residuals,first_block=False):\n",
    "    blk=[]\n",
    "    for i in range(num_residuals):\n",
    "        if i ==0 and not first_block:\n",
    "            blk.append(Residual(input_channels,num_channels,use_1x1conv=True,strides=2))\n",
    "        else:\n",
    "            blk.append(Residual(num_channels,num_channels))\n",
    "    return blk"
   ]
  },
  {
   "cell_type": "code",
   "execution_count": 11,
   "id": "24b4e21a",
   "metadata": {
    "ExecuteTime": {
     "end_time": "2022-06-17T06:13:49.491251Z",
     "start_time": "2022-06-17T06:13:49.384237Z"
    }
   },
   "outputs": [],
   "source": [
    "b2 = nn.Sequential(*resnet_block(64, 64, 2, first_block=True))\n",
    "b3 = nn.Sequential(*resnet_block(64, 128, 2))\n",
    "b4 = nn.Sequential(*resnet_block(128, 256, 2))\n",
    "b5 = nn.Sequential(*resnet_block(256, 512, 2))"
   ]
  },
  {
   "cell_type": "code",
   "execution_count": 12,
   "id": "46812464",
   "metadata": {
    "ExecuteTime": {
     "end_time": "2022-06-17T06:14:41.364338Z",
     "start_time": "2022-06-17T06:14:41.353336Z"
    }
   },
   "outputs": [],
   "source": [
    "net=nn.Sequential(b1,b2,b3,b4,b5,nn.AdaptiveAvgPool2d((1,1)),nn.Flatten(),nn.Linear(512,10))"
   ]
  },
  {
   "cell_type": "code",
   "execution_count": 13,
   "id": "18b69435",
   "metadata": {
    "ExecuteTime": {
     "end_time": "2022-06-17T06:15:05.906454Z",
     "start_time": "2022-06-17T06:15:05.897953Z"
    }
   },
   "outputs": [],
   "source": [
    "X=torch.rand(size=(1,1,224,224))"
   ]
  },
  {
   "cell_type": "code",
   "execution_count": 14,
   "id": "30025548",
   "metadata": {
    "ExecuteTime": {
     "end_time": "2022-06-17T06:17:09.845693Z",
     "start_time": "2022-06-17T06:17:09.521651Z"
    }
   },
   "outputs": [
    {
     "name": "stdout",
     "output_type": "stream",
     "text": [
      "Sequential  output shape :  torch.Size([1, 64, 56, 56])\n",
      "Sequential  output shape :  torch.Size([1, 64, 56, 56])\n",
      "Sequential  output shape :  torch.Size([1, 128, 28, 28])\n",
      "Sequential  output shape :  torch.Size([1, 256, 14, 14])\n",
      "Sequential  output shape :  torch.Size([1, 512, 7, 7])\n",
      "AdaptiveAvgPool2d  output shape :  torch.Size([1, 512, 1, 1])\n",
      "Flatten  output shape :  torch.Size([1, 512])\n",
      "Linear  output shape :  torch.Size([1, 10])\n"
     ]
    }
   ],
   "source": [
    "for layer in net:\n",
    "    X=layer(X)\n",
    "    print(layer.__class__.__name__,' output shape : ',X.shape)"
   ]
  },
  {
   "cell_type": "code",
   "execution_count": 15,
   "id": "bbd46ddd",
   "metadata": {
    "ExecuteTime": {
     "end_time": "2022-06-17T06:19:12.236734Z",
     "start_time": "2022-06-17T06:19:12.217732Z"
    }
   },
   "outputs": [],
   "source": [
    "def resnet18(num_classes, in_channels=1):\n",
    "    \"\"\"稍加修改的ResNet-18模型\n",
    "    Defined in :numref:`sec_multi_gpu_concise`\"\"\"\n",
    "    def resnet_block(in_channels, out_channels, num_residuals,\n",
    "                     first_block=False):\n",
    "        blk = []\n",
    "        for i in range(num_residuals):\n",
    "            if i == 0 and not first_block:\n",
    "                blk.append(Residual(in_channels, out_channels,\n",
    "                                        use_1x1conv=True, strides=2))\n",
    "            else:\n",
    "                blk.append(Residual(out_channels, out_channels))\n",
    "        return nn.Sequential(*blk)\n",
    "\n",
    "    # 该模型使用了更小的卷积核、步长和填充，而且删除了最大汇聚层\n",
    "    net = nn.Sequential(\n",
    "        nn.Conv2d(in_channels, 64, kernel_size=3, stride=1, padding=1),\n",
    "        nn.BatchNorm2d(64),\n",
    "        nn.ReLU())\n",
    "    net.add_module(\"resnet_block1\", resnet_block(\n",
    "        64, 64, 2, first_block=True))\n",
    "    net.add_module(\"resnet_block2\", resnet_block(64, 128, 2))\n",
    "    net.add_module(\"resnet_block3\", resnet_block(128, 256, 2))\n",
    "    net.add_module(\"resnet_block4\", resnet_block(256, 512, 2))\n",
    "    net.add_module(\"global_avg_pool\", nn.AdaptiveAvgPool2d((1,1)))\n",
    "    net.add_module(\"fc\", nn.Sequential(nn.Flatten(),\n",
    "                                       nn.Linear(512, num_classes)))\n",
    "    return net"
   ]
  },
  {
   "cell_type": "code",
   "execution_count": 16,
   "id": "79c60080",
   "metadata": {
    "ExecuteTime": {
     "end_time": "2022-06-17T06:20:58.603741Z",
     "start_time": "2022-06-17T06:20:58.495227Z"
    }
   },
   "outputs": [],
   "source": [
    "net2=resnet18(10,1)"
   ]
  },
  {
   "cell_type": "code",
   "execution_count": 19,
   "id": "da7533be",
   "metadata": {
    "ExecuteTime": {
     "end_time": "2022-06-17T06:21:53.879760Z",
     "start_time": "2022-06-17T06:21:53.866259Z"
    }
   },
   "outputs": [
    {
     "data": {
      "text/plain": [
       "tensor([[ 0.4928,  0.3386,  0.1053, -0.4903,  0.3271, -0.0729, -0.2828, -0.1601,\n",
       "         -0.3943, -0.4381]], grad_fn=<AddmmBackward0>)"
      ]
     },
     "execution_count": 19,
     "metadata": {},
     "output_type": "execute_result"
    }
   ],
   "source": [
    "X"
   ]
  },
  {
   "cell_type": "code",
   "execution_count": 20,
   "id": "999c8b35",
   "metadata": {
    "ExecuteTime": {
     "end_time": "2022-06-17T06:21:58.835890Z",
     "start_time": "2022-06-17T06:21:58.826888Z"
    }
   },
   "outputs": [],
   "source": [
    "X=torch.rand(size=(1,1,224,224))"
   ]
  },
  {
   "cell_type": "code",
   "execution_count": 21,
   "id": "5d222ef7",
   "metadata": {
    "ExecuteTime": {
     "end_time": "2022-06-17T06:21:59.309950Z",
     "start_time": "2022-06-17T06:21:59.304949Z"
    }
   },
   "outputs": [
    {
     "data": {
      "text/plain": [
       "torch.Size([1, 1, 224, 224])"
      ]
     },
     "execution_count": 21,
     "metadata": {},
     "output_type": "execute_result"
    }
   ],
   "source": [
    "X.shape"
   ]
  },
  {
   "cell_type": "code",
   "execution_count": 24,
   "id": "72a2e843",
   "metadata": {
    "ExecuteTime": {
     "end_time": "2022-06-17T06:23:32.418773Z",
     "start_time": "2022-06-17T06:23:32.409272Z"
    }
   },
   "outputs": [],
   "source": [
    "X=torch.rand(size=(1,1,224,224))"
   ]
  },
  {
   "cell_type": "code",
   "execution_count": 25,
   "id": "29fb5d55",
   "metadata": {
    "ExecuteTime": {
     "end_time": "2022-06-17T06:23:33.256880Z",
     "start_time": "2022-06-17T06:23:32.835826Z"
    }
   },
   "outputs": [
    {
     "name": "stdout",
     "output_type": "stream",
     "text": [
      "Conv2d  output shape :  torch.Size([1, 64, 224, 224])\n",
      "BatchNorm2d  output shape :  torch.Size([1, 64, 224, 224])\n",
      "ReLU  output shape :  torch.Size([1, 64, 224, 224])\n",
      "Sequential  output shape :  torch.Size([1, 64, 224, 224])\n",
      "Sequential  output shape :  torch.Size([1, 128, 112, 112])\n",
      "Sequential  output shape :  torch.Size([1, 256, 56, 56])\n",
      "Sequential  output shape :  torch.Size([1, 512, 28, 28])\n",
      "AdaptiveAvgPool2d  output shape :  torch.Size([1, 512, 1, 1])\n",
      "Sequential  output shape :  torch.Size([1, 10])\n"
     ]
    }
   ],
   "source": [
    "for layer in net2:\n",
    "    X=layer(X)\n",
    "    print(layer.__class__.__name__,' output shape : ',X.shape)"
   ]
  },
  {
   "cell_type": "code",
   "execution_count": 28,
   "id": "4d1a05db",
   "metadata": {
    "ExecuteTime": {
     "end_time": "2022-06-17T06:25:17.053560Z",
     "start_time": "2022-06-17T06:25:17.041058Z"
    }
   },
   "outputs": [],
   "source": [
    "X=torch.rand(size=(1,1,224,224))"
   ]
  },
  {
   "cell_type": "code",
   "execution_count": 29,
   "id": "fed35637",
   "metadata": {
    "ExecuteTime": {
     "end_time": "2022-06-17T06:25:17.690141Z",
     "start_time": "2022-06-17T06:25:17.580127Z"
    }
   },
   "outputs": [
    {
     "name": "stdout",
     "output_type": "stream",
     "text": [
      "Sequential  output shape :  torch.Size([1, 64, 56, 56])\n",
      "Sequential  output shape :  torch.Size([1, 64, 56, 56])\n",
      "Sequential  output shape :  torch.Size([1, 128, 28, 28])\n",
      "Sequential  output shape :  torch.Size([1, 256, 14, 14])\n",
      "Sequential  output shape :  torch.Size([1, 512, 7, 7])\n",
      "AdaptiveAvgPool2d  output shape :  torch.Size([1, 512, 1, 1])\n",
      "Flatten  output shape :  torch.Size([1, 512])\n",
      "Linear  output shape :  torch.Size([1, 10])\n"
     ]
    }
   ],
   "source": [
    "for layer in net:\n",
    "    X=layer(X)\n",
    "    print(layer.__class__.__name__,' output shape : ',X.shape)"
   ]
  },
  {
   "cell_type": "code",
   "execution_count": null,
   "id": "9bc2609d",
   "metadata": {},
   "outputs": [],
   "source": []
  }
 ],
 "metadata": {
  "kernelspec": {
   "display_name": "Python 3",
   "language": "python",
   "name": "python3"
  },
  "language_info": {
   "codemirror_mode": {
    "name": "ipython",
    "version": 3
   },
   "file_extension": ".py",
   "mimetype": "text/x-python",
   "name": "python",
   "nbconvert_exporter": "python",
   "pygments_lexer": "ipython3",
   "version": "3.8.8"
  }
 },
 "nbformat": 4,
 "nbformat_minor": 5
}
