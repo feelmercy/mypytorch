{
 "cells": [
  {
   "cell_type": "code",
   "execution_count": 1,
   "id": "00d1ebee",
   "metadata": {
    "ExecuteTime": {
     "end_time": "2022-05-31T09:26:22.557289Z",
     "start_time": "2022-05-31T09:26:22.554789Z"
    }
   },
   "outputs": [],
   "source": [
    "import torch\n",
    "from torch import nn,optim"
   ]
  },
  {
   "cell_type": "code",
   "execution_count": 2,
   "id": "851d7003",
   "metadata": {
    "ExecuteTime": {
     "end_time": "2022-05-31T09:33:47.894840Z",
     "start_time": "2022-05-31T09:33:47.888339Z"
    }
   },
   "outputs": [],
   "source": [
    "def vgg_block(num_convs,in_channels,out_channels):\n",
    "    layers=[]\n",
    "    for _ in range(num_convs):\n",
    "        layers.append(nn.Conv2d(in_channels,out_channels,kernel_size=3,padding=1))\n",
    "        layers.append(nn.ReLU())\n",
    "        in_channels=out_channels\n",
    "    layers.append(nn.MaxPool2d(kernel_size=2,stride=2))\n",
    "    return nn.Sequential(*layers)\n",
    "        "
   ]
  },
  {
   "cell_type": "code",
   "execution_count": 3,
   "id": "49d73e06",
   "metadata": {
    "ExecuteTime": {
     "end_time": "2022-05-31T09:35:44.332626Z",
     "start_time": "2022-05-31T09:35:44.324125Z"
    }
   },
   "outputs": [],
   "source": [
    "conv_arch=((1,64),(1,128),(2,256),(2,512),(2,512))"
   ]
  },
  {
   "cell_type": "code",
   "execution_count": 6,
   "id": "2d0a0c87",
   "metadata": {
    "ExecuteTime": {
     "end_time": "2022-05-31T09:43:37.178670Z",
     "start_time": "2022-05-31T09:43:37.164668Z"
    }
   },
   "outputs": [],
   "source": [
    "def vgg(conv_arch):\n",
    "    conv_blks=[]\n",
    "    in_channels=1\n",
    "    for (num_convs,out_channels) in conv_arch:\n",
    "        conv_blks.append(vgg_block(num_convs,in_channels,out_channels))\n",
    "        in_channels=out_channels\n",
    "    \n",
    "    return nn.Sequential(*conv_blks,nn.Flatten(),\n",
    "                        nn.Linear(out_channels*7*7,4096),nn.ReLU(),nn.Dropout(0.5),\n",
    "                         nn.Linear(4096,4096),nn.ReLU(),nn.Dropout(0.5),\n",
    "                         nn.Linear(4096,10)\n",
    "                        )"
   ]
  },
  {
   "cell_type": "code",
   "execution_count": 7,
   "id": "5dbcdc1e",
   "metadata": {
    "ExecuteTime": {
     "end_time": "2022-05-31T09:43:38.870384Z",
     "start_time": "2022-05-31T09:43:38.028277Z"
    }
   },
   "outputs": [],
   "source": [
    "net=vgg(conv_arch)"
   ]
  },
  {
   "cell_type": "code",
   "execution_count": 9,
   "id": "5f587505",
   "metadata": {
    "ExecuteTime": {
     "end_time": "2022-05-31T09:45:01.265347Z",
     "start_time": "2022-05-31T09:45:01.061321Z"
    }
   },
   "outputs": [
    {
     "name": "stdout",
     "output_type": "stream",
     "text": [
      "Sequential  output shape :  torch.Size([1, 64, 112, 112])\n",
      "Sequential  output shape :  torch.Size([1, 128, 56, 56])\n",
      "Sequential  output shape :  torch.Size([1, 256, 28, 28])\n",
      "Sequential  output shape :  torch.Size([1, 512, 14, 14])\n",
      "Sequential  output shape :  torch.Size([1, 512, 7, 7])\n",
      "Flatten  output shape :  torch.Size([1, 25088])\n",
      "Linear  output shape :  torch.Size([1, 4096])\n",
      "ReLU  output shape :  torch.Size([1, 4096])\n",
      "Dropout  output shape :  torch.Size([1, 4096])\n",
      "Linear  output shape :  torch.Size([1, 4096])\n",
      "ReLU  output shape :  torch.Size([1, 4096])\n",
      "Dropout  output shape :  torch.Size([1, 4096])\n",
      "Linear  output shape :  torch.Size([1, 10])\n"
     ]
    }
   ],
   "source": [
    "X=torch.randn(size=(1,1,224,224))\n",
    "for blk in net:\n",
    "    X=blk(X)\n",
    "    print(blk.__class__.__name__,' output shape : ',X.shape)"
   ]
  },
  {
   "cell_type": "code",
   "execution_count": 10,
   "id": "ee1e0012",
   "metadata": {
    "ExecuteTime": {
     "end_time": "2022-05-31T09:47:12.683035Z",
     "start_time": "2022-05-31T09:47:12.381497Z"
    }
   },
   "outputs": [],
   "source": [
    "ratio = 4\n",
    "small_conv_arch = [(pair[0], pair[1] // ratio) for pair in conv_arch]\n",
    "net = vgg(small_conv_arch)"
   ]
  },
  {
   "cell_type": "code",
   "execution_count": null,
   "id": "8b69ad9e",
   "metadata": {},
   "outputs": [],
   "source": []
  },
  {
   "cell_type": "code",
   "execution_count": null,
   "id": "afc927ac",
   "metadata": {},
   "outputs": [],
   "source": []
  },
  {
   "cell_type": "code",
   "execution_count": null,
   "id": "f35cd478",
   "metadata": {},
   "outputs": [],
   "source": []
  },
  {
   "cell_type": "code",
   "execution_count": null,
   "id": "fdeba680",
   "metadata": {},
   "outputs": [],
   "source": []
  }
 ],
 "metadata": {
  "kernelspec": {
   "display_name": "Python 3",
   "language": "python",
   "name": "python3"
  },
  "language_info": {
   "codemirror_mode": {
    "name": "ipython",
    "version": 3
   },
   "file_extension": ".py",
   "mimetype": "text/x-python",
   "name": "python",
   "nbconvert_exporter": "python",
   "pygments_lexer": "ipython3",
   "version": "3.8.8"
  }
 },
 "nbformat": 4,
 "nbformat_minor": 5
}
