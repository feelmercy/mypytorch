{
 "cells": [
  {
   "cell_type": "code",
   "execution_count": 1,
   "id": "a7561450",
   "metadata": {
    "ExecuteTime": {
     "end_time": "2022-06-17T08:36:29.309710Z",
     "start_time": "2022-06-17T08:36:29.300208Z"
    }
   },
   "outputs": [
    {
     "data": {
      "text/plain": [
       "14.563106796116505"
      ]
     },
     "execution_count": 1,
     "metadata": {},
     "output_type": "execute_result"
    }
   ],
   "source": [
    "90/6.18"
   ]
  },
  {
   "cell_type": "code",
   "execution_count": 2,
   "id": "5ad61536",
   "metadata": {
    "ExecuteTime": {
     "end_time": "2022-06-17T08:36:37.526753Z",
     "start_time": "2022-06-17T08:36:37.517252Z"
    }
   },
   "outputs": [
    {
     "data": {
      "text/plain": [
       "13.75"
      ]
     },
     "execution_count": 2,
     "metadata": {},
     "output_type": "execute_result"
    }
   ],
   "source": [
    "55/4"
   ]
  },
  {
   "cell_type": "code",
   "execution_count": null,
   "id": "f42536d0",
   "metadata": {},
   "outputs": [],
   "source": []
  }
 ],
 "metadata": {
  "kernelspec": {
   "display_name": "Python 3",
   "language": "python",
   "name": "python3"
  },
  "language_info": {
   "codemirror_mode": {
    "name": "ipython",
    "version": 3
   },
   "file_extension": ".py",
   "mimetype": "text/x-python",
   "name": "python",
   "nbconvert_exporter": "python",
   "pygments_lexer": "ipython3",
   "version": "3.8.8"
  }
 },
 "nbformat": 4,
 "nbformat_minor": 5
}
