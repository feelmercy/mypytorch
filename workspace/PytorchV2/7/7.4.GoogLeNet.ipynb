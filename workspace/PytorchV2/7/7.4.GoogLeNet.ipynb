{
 "cells": [
  {
   "cell_type": "code",
   "execution_count": 16,
   "id": "b76292cd",
   "metadata": {
    "ExecuteTime": {
     "end_time": "2022-06-02T06:01:40.879333Z",
     "start_time": "2022-06-02T06:01:40.872333Z"
    }
   },
   "outputs": [],
   "source": [
    "import torch\n",
    "from torch import nn,optim\n",
    "from torch.nn import functional as F"
   ]
  },
  {
   "cell_type": "code",
   "execution_count": 25,
   "id": "f3f0a797",
   "metadata": {
    "ExecuteTime": {
     "end_time": "2022-06-02T06:08:50.951446Z",
     "start_time": "2022-06-02T06:08:50.929943Z"
    }
   },
   "outputs": [],
   "source": [
    "class Inception(nn.Module):\n",
    "    def __init__(self,in_channels,c1,c2,c3,c4,**kwargs):\n",
    "        super().__init__(**kwargs)\n",
    "        self.p1_1=nn.Conv2d(in_channels,c1,kernel_size=1)\n",
    "        self.p2_1=nn.Conv2d(in_channels,c2[0],kernel_size=1)\n",
    "        self.p2_2=nn.Conv2d(c2[0],c2[1],kernel_size=3,padding=1)\n",
    "        self.p3_1=nn.Conv2d(in_channels,c3[0],kernel_size=1)\n",
    "        self.p3_2=nn.Conv2d(c3[0],c3[1],kernel_size=5,padding=2)\n",
    "        self.p4_1=nn.MaxPool2d(kernel_size=3,stride=1,padding=1)\n",
    "        self.p4_2=nn.Conv2d(in_channels,c4,kernel_size=1)\n",
    "    \n",
    "    def forward(self,x):\n",
    "        p1=F.relu(self.p1_1(x))\n",
    "        p2=F.relu(self.p2_2(F.relu(self.p2_1(x))))\n",
    "        p3=F.relu(self.p3_2(F.relu(self.p3_1(x))))\n",
    "        p4=F.relu(self.p4_2(self.p4_1(x)))\n",
    "        return torch.cat((p1,p2,p3,p4),dim=1)\n",
    "        "
   ]
  },
  {
   "cell_type": "code",
   "execution_count": 26,
   "id": "e74ef5e2",
   "metadata": {
    "ExecuteTime": {
     "end_time": "2022-06-02T06:08:51.388001Z",
     "start_time": "2022-06-02T06:08:51.381000Z"
    }
   },
   "outputs": [],
   "source": [
    "b1=nn.Sequential(nn.Conv2d(1,64,kernel_size=7,stride=2,padding=3),\n",
    "                nn.ReLU(),\n",
    "                nn.MaxPool2d(kernel_size=3,stride=2,padding=1))"
   ]
  },
  {
   "cell_type": "code",
   "execution_count": 27,
   "id": "cb302cf5",
   "metadata": {
    "ExecuteTime": {
     "end_time": "2022-06-02T06:08:51.787552Z",
     "start_time": "2022-06-02T06:08:51.779051Z"
    }
   },
   "outputs": [],
   "source": [
    "b2=nn.Sequential(nn.Conv2d(64,64,kernel_size=1),\n",
    "                 nn.ReLU(),\n",
    "                 nn.Conv2d(64,192,kernel_size=3,padding=1),\n",
    "                 nn.ReLU(),\n",
    "                 nn.MaxPool2d(kernel_size=3,stride=2,padding=1))"
   ]
  },
  {
   "cell_type": "code",
   "execution_count": 28,
   "id": "eea1aab1",
   "metadata": {
    "ExecuteTime": {
     "end_time": "2022-06-02T06:08:52.129595Z",
     "start_time": "2022-06-02T06:08:52.107592Z"
    }
   },
   "outputs": [],
   "source": [
    "b3=nn.Sequential(Inception(192,64,(96,128),(16,32),32),\n",
    "                 Inception(256,128,(128,192),(32,96),64),\n",
    "                 nn.MaxPool2d(kernel_size=3,stride=2,padding=1)\n",
    "                )"
   ]
  },
  {
   "cell_type": "code",
   "execution_count": 29,
   "id": "7e967868",
   "metadata": {
    "ExecuteTime": {
     "end_time": "2022-06-02T06:08:52.510144Z",
     "start_time": "2022-06-02T06:08:52.461637Z"
    }
   },
   "outputs": [],
   "source": [
    "b4=nn.Sequential(Inception(480,192,(96,208),(16,48),64),\n",
    "                Inception(512,160,(112,224),(24,64),64),\n",
    "                 Inception(512,128,(128,256),(24,64),64),\n",
    "                 Inception(512,112,(144,288),(32,64),64),\n",
    "                 Inception(528,256,(160,320),(32,128),128),\n",
    "                 nn.MaxPool2d(kernel_size=3,stride=2,padding=1)\n",
    "                )"
   ]
  },
  {
   "cell_type": "code",
   "execution_count": 30,
   "id": "f8b850df",
   "metadata": {
    "ExecuteTime": {
     "end_time": "2022-06-02T06:08:52.851687Z",
     "start_time": "2022-06-02T06:08:52.817683Z"
    }
   },
   "outputs": [],
   "source": [
    "b5=nn.Sequential(Inception(832,256,(160,320),(32,128),128),\n",
    "                Inception(832,384,(192,384),(48,128),128),\n",
    "                nn.AdaptiveAvgPool2d((1,1)),\n",
    "                nn.Flatten())"
   ]
  },
  {
   "cell_type": "code",
   "execution_count": 31,
   "id": "f4c1a66d",
   "metadata": {
    "ExecuteTime": {
     "end_time": "2022-06-02T06:08:53.477766Z",
     "start_time": "2022-06-02T06:08:53.462265Z"
    }
   },
   "outputs": [],
   "source": [
    "net=nn.Sequential(b1,b2,b3,b4,b5,nn.Linear(1024,10))"
   ]
  },
  {
   "cell_type": "code",
   "execution_count": 32,
   "id": "91de24d5",
   "metadata": {
    "ExecuteTime": {
     "end_time": "2022-06-02T06:08:54.622412Z",
     "start_time": "2022-06-02T06:08:54.400884Z"
    }
   },
   "outputs": [
    {
     "name": "stdout",
     "output_type": "stream",
     "text": [
      "Sequential  output shape :  torch.Size([1, 64, 24, 24])\n",
      "Sequential  output shape :  torch.Size([1, 192, 12, 12])\n",
      "Sequential  output shape :  torch.Size([1, 480, 6, 6])\n",
      "Sequential  output shape :  torch.Size([1, 832, 3, 3])\n",
      "Sequential  output shape :  torch.Size([1, 1024])\n",
      "Linear  output shape :  torch.Size([1, 10])\n"
     ]
    }
   ],
   "source": [
    "X=torch.rand(size=(1,1,96,96))\n",
    "for layer in net:\n",
    "    X=layer(X)\n",
    "    print(layer.__class__.__name__,' output shape : ',X.shape)"
   ]
  },
  {
   "cell_type": "code",
   "execution_count": null,
   "id": "f97305c2",
   "metadata": {},
   "outputs": [],
   "source": []
  }
 ],
 "metadata": {
  "kernelspec": {
   "display_name": "Python 3",
   "language": "python",
   "name": "python3"
  },
  "language_info": {
   "codemirror_mode": {
    "name": "ipython",
    "version": 3
   },
   "file_extension": ".py",
   "mimetype": "text/x-python",
   "name": "python",
   "nbconvert_exporter": "python",
   "pygments_lexer": "ipython3",
   "version": "3.8.8"
  }
 },
 "nbformat": 4,
 "nbformat_minor": 5
}
