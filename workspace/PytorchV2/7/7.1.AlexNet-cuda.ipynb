{
 "cells": [
  {
   "cell_type": "code",
   "execution_count": 1,
   "id": "35a7c7f6",
   "metadata": {
    "ExecuteTime": {
     "end_time": "2022-05-31T06:07:23.877770Z",
     "start_time": "2022-05-31T06:07:23.875269Z"
    }
   },
   "outputs": [],
   "source": [
    "import torch\n",
    "from torch import nn,optim"
   ]
  },
  {
   "cell_type": "code",
   "execution_count": 6,
   "id": "1c996243",
   "metadata": {
    "ExecuteTime": {
     "end_time": "2022-05-31T06:15:54.520613Z",
     "start_time": "2022-05-31T06:15:54.180570Z"
    }
   },
   "outputs": [],
   "source": [
    "net=nn.Sequential(nn.Conv2d(1,96,kernel_size=11,stride=4,padding=1),nn.ReLU(),\n",
    "                  nn.MaxPool2d(kernel_size=3,stride=2),\n",
    "                  nn.Conv2d(96,256,kernel_size=5,padding=2),nn.ReLU(),\n",
    "                  nn.MaxPool2d(kernel_size=3,stride=2),\n",
    "                  nn.Conv2d(256,384,kernel_size=3,padding=1),nn.ReLU(),\n",
    "                  nn.Conv2d(384,384,kernel_size=3,padding=1),nn.ReLU(),\n",
    "                  nn.Conv2d(384,256,kernel_size=3,padding=1),nn.ReLU(),\n",
    "                  nn.MaxPool2d(kernel_size=3,stride=2),\n",
    "                  nn.Flatten(),\n",
    "                  nn.Linear(6400,4096),nn.ReLU(),\n",
    "                  nn.Dropout(0.5),\n",
    "                  nn.Linear(4096,4096),nn.ReLU(),\n",
    "                  nn.Dropout(0.5),\n",
    "                  nn.Linear(4096,10)\n",
    "                 )"
   ]
  },
  {
   "cell_type": "code",
   "execution_count": 7,
   "id": "3325962d",
   "metadata": {
    "ExecuteTime": {
     "end_time": "2022-05-31T06:17:53.543727Z",
     "start_time": "2022-05-31T06:17:52.544600Z"
    }
   },
   "outputs": [
    {
     "name": "stdout",
     "output_type": "stream",
     "text": [
      "Conv2d   output shape :   torch.Size([1, 96, 54, 54])\n",
      "ReLU   output shape :   torch.Size([1, 96, 54, 54])\n",
      "MaxPool2d   output shape :   torch.Size([1, 96, 26, 26])\n",
      "Conv2d   output shape :   torch.Size([1, 256, 26, 26])\n",
      "ReLU   output shape :   torch.Size([1, 256, 26, 26])\n",
      "MaxPool2d   output shape :   torch.Size([1, 256, 12, 12])\n",
      "Conv2d   output shape :   torch.Size([1, 384, 12, 12])\n",
      "ReLU   output shape :   torch.Size([1, 384, 12, 12])\n",
      "Conv2d   output shape :   torch.Size([1, 384, 12, 12])\n",
      "ReLU   output shape :   torch.Size([1, 384, 12, 12])\n",
      "Conv2d   output shape :   torch.Size([1, 256, 12, 12])\n",
      "ReLU   output shape :   torch.Size([1, 256, 12, 12])\n",
      "MaxPool2d   output shape :   torch.Size([1, 256, 5, 5])\n",
      "Flatten   output shape :   torch.Size([1, 6400])\n",
      "Linear   output shape :   torch.Size([1, 4096])\n",
      "ReLU   output shape :   torch.Size([1, 4096])\n",
      "Dropout   output shape :   torch.Size([1, 4096])\n",
      "Linear   output shape :   torch.Size([1, 4096])\n",
      "ReLU   output shape :   torch.Size([1, 4096])\n",
      "Dropout   output shape :   torch.Size([1, 4096])\n",
      "Linear   output shape :   torch.Size([1, 10])\n"
     ]
    }
   ],
   "source": [
    "X=torch.randn(1,1,224,224)\n",
    "for layer in net:\n",
    "    X=layer(X)\n",
    "    print(layer.__class__.__name__,'  output shape :  ',X.shape)"
   ]
  },
  {
   "cell_type": "code",
   "execution_count": 8,
   "id": "82062887",
   "metadata": {
    "ExecuteTime": {
     "end_time": "2022-05-31T06:19:14.125960Z",
     "start_time": "2022-05-31T06:19:14.122959Z"
    }
   },
   "outputs": [],
   "source": [
    "import torchvision\n",
    "from torchvision import transforms"
   ]
  },
  {
   "cell_type": "code",
   "execution_count": 12,
   "id": "1957e870",
   "metadata": {
    "ExecuteTime": {
     "end_time": "2022-05-31T06:31:22.182411Z",
     "start_time": "2022-05-31T06:31:22.124404Z"
    }
   },
   "outputs": [],
   "source": [
    "batch_size=256\n",
    "trans=[transforms.ToTensor()]\n",
    "trans.insert(0,transforms.Resize(224))\n",
    "trans=transforms.Compose(trans)\n",
    "mnist_train=torchvision.datasets.FashionMNIST(\n",
    "    root='F:\\study\\ml\\DataSet\\FashionMNIST',train=True,\n",
    "    download=True,transform=trans)\n",
    "mnist_test=torchvision.datasets.FashionMNIST(\n",
    "    root='F:\\study\\ml\\DataSet\\FashionMNIST',train=False,\n",
    "    download=True,transform=trans)"
   ]
  },
  {
   "cell_type": "code",
   "execution_count": 13,
   "id": "64f273ed",
   "metadata": {
    "ExecuteTime": {
     "end_time": "2022-05-31T06:31:24.316182Z",
     "start_time": "2022-05-31T06:31:24.307181Z"
    }
   },
   "outputs": [],
   "source": [
    "train_iter=torch.utils.data.DataLoader(mnist_train,batch_size,shuffle=True)\n",
    "test_iter=torch.utils.data.DataLoader(mnist_test,batch_size,shuffle=False)"
   ]
  },
  {
   "cell_type": "code",
   "execution_count": 16,
   "id": "cfb7c976",
   "metadata": {
    "ExecuteTime": {
     "end_time": "2022-05-31T07:07:55.338407Z",
     "start_time": "2022-05-31T07:07:11.057284Z"
    }
   },
   "outputs": [
    {
     "name": "stdout",
     "output_type": "stream",
     "text": [
      "torch.Size([256, 1, 224, 224]) torch.float32 torch.Size([256]) torch.int64\n",
      "torch.Size([256, 1, 224, 224]) torch.float32 torch.Size([256]) torch.int64\n",
      "torch.Size([256, 1, 224, 224]) torch.float32 torch.Size([256]) torch.int64\n",
      "torch.Size([256, 1, 224, 224]) torch.float32 torch.Size([256]) torch.int64\n",
      "torch.Size([256, 1, 224, 224]) torch.float32 torch.Size([256]) torch.int64\n",
      "torch.Size([256, 1, 224, 224]) torch.float32 torch.Size([256]) torch.int64\n",
      "torch.Size([256, 1, 224, 224]) torch.float32 torch.Size([256]) torch.int64\n",
      "torch.Size([256, 1, 224, 224]) torch.float32 torch.Size([256]) torch.int64\n",
      "torch.Size([256, 1, 224, 224]) torch.float32 torch.Size([256]) torch.int64\n",
      "torch.Size([256, 1, 224, 224]) torch.float32 torch.Size([256]) torch.int64\n",
      "torch.Size([256, 1, 224, 224]) torch.float32 torch.Size([256]) torch.int64\n",
      "torch.Size([256, 1, 224, 224]) torch.float32 torch.Size([256]) torch.int64\n",
      "torch.Size([256, 1, 224, 224]) torch.float32 torch.Size([256]) torch.int64\n",
      "torch.Size([256, 1, 224, 224]) torch.float32 torch.Size([256]) torch.int64\n",
      "torch.Size([256, 1, 224, 224]) torch.float32 torch.Size([256]) torch.int64\n",
      "torch.Size([256, 1, 224, 224]) torch.float32 torch.Size([256]) torch.int64\n",
      "torch.Size([256, 1, 224, 224]) torch.float32 torch.Size([256]) torch.int64\n",
      "torch.Size([256, 1, 224, 224]) torch.float32 torch.Size([256]) torch.int64\n",
      "torch.Size([256, 1, 224, 224]) torch.float32 torch.Size([256]) torch.int64\n",
      "torch.Size([256, 1, 224, 224]) torch.float32 torch.Size([256]) torch.int64\n",
      "torch.Size([256, 1, 224, 224]) torch.float32 torch.Size([256]) torch.int64\n",
      "torch.Size([256, 1, 224, 224]) torch.float32 torch.Size([256]) torch.int64\n",
      "torch.Size([256, 1, 224, 224]) torch.float32 torch.Size([256]) torch.int64\n",
      "torch.Size([256, 1, 224, 224]) torch.float32 torch.Size([256]) torch.int64\n",
      "torch.Size([256, 1, 224, 224]) torch.float32 torch.Size([256]) torch.int64\n",
      "torch.Size([256, 1, 224, 224]) torch.float32 torch.Size([256]) torch.int64\n",
      "torch.Size([256, 1, 224, 224]) torch.float32 torch.Size([256]) torch.int64\n",
      "torch.Size([256, 1, 224, 224]) torch.float32 torch.Size([256]) torch.int64\n",
      "torch.Size([256, 1, 224, 224]) torch.float32 torch.Size([256]) torch.int64\n",
      "torch.Size([256, 1, 224, 224]) torch.float32 torch.Size([256]) torch.int64\n",
      "torch.Size([256, 1, 224, 224]) torch.float32 torch.Size([256]) torch.int64\n",
      "torch.Size([256, 1, 224, 224]) torch.float32 torch.Size([256]) torch.int64\n",
      "torch.Size([256, 1, 224, 224]) torch.float32 torch.Size([256]) torch.int64\n",
      "torch.Size([256, 1, 224, 224]) torch.float32 torch.Size([256]) torch.int64\n",
      "torch.Size([256, 1, 224, 224]) torch.float32 torch.Size([256]) torch.int64\n",
      "torch.Size([256, 1, 224, 224]) torch.float32 torch.Size([256]) torch.int64\n",
      "torch.Size([256, 1, 224, 224]) torch.float32 torch.Size([256]) torch.int64\n",
      "torch.Size([256, 1, 224, 224]) torch.float32 torch.Size([256]) torch.int64\n",
      "torch.Size([256, 1, 224, 224]) torch.float32 torch.Size([256]) torch.int64\n",
      "torch.Size([256, 1, 224, 224]) torch.float32 torch.Size([256]) torch.int64\n",
      "torch.Size([256, 1, 224, 224]) torch.float32 torch.Size([256]) torch.int64\n",
      "torch.Size([256, 1, 224, 224]) torch.float32 torch.Size([256]) torch.int64\n",
      "torch.Size([256, 1, 224, 224]) torch.float32 torch.Size([256]) torch.int64\n",
      "torch.Size([256, 1, 224, 224]) torch.float32 torch.Size([256]) torch.int64\n",
      "torch.Size([256, 1, 224, 224]) torch.float32 torch.Size([256]) torch.int64\n",
      "torch.Size([256, 1, 224, 224]) torch.float32 torch.Size([256]) torch.int64\n",
      "torch.Size([256, 1, 224, 224]) torch.float32 torch.Size([256]) torch.int64\n",
      "torch.Size([256, 1, 224, 224]) torch.float32 torch.Size([256]) torch.int64\n",
      "torch.Size([256, 1, 224, 224]) torch.float32 torch.Size([256]) torch.int64\n",
      "torch.Size([256, 1, 224, 224]) torch.float32 torch.Size([256]) torch.int64\n",
      "torch.Size([256, 1, 224, 224]) torch.float32 torch.Size([256]) torch.int64\n",
      "torch.Size([256, 1, 224, 224]) torch.float32 torch.Size([256]) torch.int64\n",
      "torch.Size([256, 1, 224, 224]) torch.float32 torch.Size([256]) torch.int64\n",
      "torch.Size([256, 1, 224, 224]) torch.float32 torch.Size([256]) torch.int64\n",
      "torch.Size([256, 1, 224, 224]) torch.float32 torch.Size([256]) torch.int64\n",
      "torch.Size([256, 1, 224, 224]) torch.float32 torch.Size([256]) torch.int64\n",
      "torch.Size([256, 1, 224, 224]) torch.float32 torch.Size([256]) torch.int64\n",
      "torch.Size([256, 1, 224, 224]) torch.float32 torch.Size([256]) torch.int64\n",
      "torch.Size([256, 1, 224, 224]) torch.float32 torch.Size([256]) torch.int64\n",
      "torch.Size([256, 1, 224, 224]) torch.float32 torch.Size([256]) torch.int64\n",
      "torch.Size([256, 1, 224, 224]) torch.float32 torch.Size([256]) torch.int64\n",
      "torch.Size([256, 1, 224, 224]) torch.float32 torch.Size([256]) torch.int64\n",
      "torch.Size([256, 1, 224, 224]) torch.float32 torch.Size([256]) torch.int64\n",
      "torch.Size([256, 1, 224, 224]) torch.float32 torch.Size([256]) torch.int64\n",
      "torch.Size([256, 1, 224, 224]) torch.float32 torch.Size([256]) torch.int64\n",
      "torch.Size([256, 1, 224, 224]) torch.float32 torch.Size([256]) torch.int64\n",
      "torch.Size([256, 1, 224, 224]) torch.float32 torch.Size([256]) torch.int64\n",
      "torch.Size([256, 1, 224, 224]) torch.float32 torch.Size([256]) torch.int64\n",
      "torch.Size([256, 1, 224, 224]) torch.float32 torch.Size([256]) torch.int64\n",
      "torch.Size([256, 1, 224, 224]) torch.float32 torch.Size([256]) torch.int64\n",
      "torch.Size([256, 1, 224, 224]) torch.float32 torch.Size([256]) torch.int64\n",
      "torch.Size([256, 1, 224, 224]) torch.float32 torch.Size([256]) torch.int64\n",
      "torch.Size([256, 1, 224, 224]) torch.float32 torch.Size([256]) torch.int64\n",
      "torch.Size([256, 1, 224, 224]) torch.float32 torch.Size([256]) torch.int64\n",
      "torch.Size([256, 1, 224, 224]) torch.float32 torch.Size([256]) torch.int64\n",
      "torch.Size([256, 1, 224, 224]) torch.float32 torch.Size([256]) torch.int64\n",
      "torch.Size([256, 1, 224, 224]) torch.float32 torch.Size([256]) torch.int64\n",
      "torch.Size([256, 1, 224, 224]) torch.float32 torch.Size([256]) torch.int64\n",
      "torch.Size([256, 1, 224, 224]) torch.float32 torch.Size([256]) torch.int64\n",
      "torch.Size([256, 1, 224, 224]) torch.float32 torch.Size([256]) torch.int64\n",
      "torch.Size([256, 1, 224, 224]) torch.float32 torch.Size([256]) torch.int64\n",
      "torch.Size([256, 1, 224, 224]) torch.float32 torch.Size([256]) torch.int64\n",
      "torch.Size([256, 1, 224, 224]) torch.float32 torch.Size([256]) torch.int64\n",
      "torch.Size([256, 1, 224, 224]) torch.float32 torch.Size([256]) torch.int64\n",
      "torch.Size([256, 1, 224, 224]) torch.float32 torch.Size([256]) torch.int64\n",
      "torch.Size([256, 1, 224, 224]) torch.float32 torch.Size([256]) torch.int64\n",
      "torch.Size([256, 1, 224, 224]) torch.float32 torch.Size([256]) torch.int64\n",
      "torch.Size([256, 1, 224, 224]) torch.float32 torch.Size([256]) torch.int64\n",
      "torch.Size([256, 1, 224, 224]) torch.float32 torch.Size([256]) torch.int64\n",
      "torch.Size([256, 1, 224, 224]) torch.float32 torch.Size([256]) torch.int64\n",
      "torch.Size([256, 1, 224, 224]) torch.float32 torch.Size([256]) torch.int64\n",
      "torch.Size([256, 1, 224, 224]) torch.float32 torch.Size([256]) torch.int64\n",
      "torch.Size([256, 1, 224, 224]) torch.float32 torch.Size([256]) torch.int64\n",
      "torch.Size([256, 1, 224, 224]) torch.float32 torch.Size([256]) torch.int64\n",
      "torch.Size([256, 1, 224, 224]) torch.float32 torch.Size([256]) torch.int64\n",
      "torch.Size([256, 1, 224, 224]) torch.float32 torch.Size([256]) torch.int64\n",
      "torch.Size([256, 1, 224, 224]) torch.float32 torch.Size([256]) torch.int64\n",
      "torch.Size([256, 1, 224, 224]) torch.float32 torch.Size([256]) torch.int64\n",
      "torch.Size([256, 1, 224, 224]) torch.float32 torch.Size([256]) torch.int64\n",
      "torch.Size([256, 1, 224, 224]) torch.float32 torch.Size([256]) torch.int64\n",
      "torch.Size([256, 1, 224, 224]) torch.float32 torch.Size([256]) torch.int64\n",
      "torch.Size([256, 1, 224, 224]) torch.float32 torch.Size([256]) torch.int64\n",
      "torch.Size([256, 1, 224, 224]) torch.float32 torch.Size([256]) torch.int64\n",
      "torch.Size([256, 1, 224, 224]) torch.float32 torch.Size([256]) torch.int64\n",
      "torch.Size([256, 1, 224, 224]) torch.float32 torch.Size([256]) torch.int64\n",
      "torch.Size([256, 1, 224, 224]) torch.float32 torch.Size([256]) torch.int64\n",
      "torch.Size([256, 1, 224, 224]) torch.float32 torch.Size([256]) torch.int64\n",
      "torch.Size([256, 1, 224, 224]) torch.float32 torch.Size([256]) torch.int64\n",
      "torch.Size([256, 1, 224, 224]) torch.float32 torch.Size([256]) torch.int64\n",
      "torch.Size([256, 1, 224, 224]) torch.float32 torch.Size([256]) torch.int64\n"
     ]
    },
    {
     "name": "stdout",
     "output_type": "stream",
     "text": [
      "torch.Size([256, 1, 224, 224]) torch.float32 torch.Size([256]) torch.int64\n",
      "torch.Size([256, 1, 224, 224]) torch.float32 torch.Size([256]) torch.int64\n",
      "torch.Size([256, 1, 224, 224]) torch.float32 torch.Size([256]) torch.int64\n",
      "torch.Size([256, 1, 224, 224]) torch.float32 torch.Size([256]) torch.int64\n",
      "torch.Size([256, 1, 224, 224]) torch.float32 torch.Size([256]) torch.int64\n",
      "torch.Size([256, 1, 224, 224]) torch.float32 torch.Size([256]) torch.int64\n",
      "torch.Size([256, 1, 224, 224]) torch.float32 torch.Size([256]) torch.int64\n",
      "torch.Size([256, 1, 224, 224]) torch.float32 torch.Size([256]) torch.int64\n",
      "torch.Size([256, 1, 224, 224]) torch.float32 torch.Size([256]) torch.int64\n",
      "torch.Size([256, 1, 224, 224]) torch.float32 torch.Size([256]) torch.int64\n",
      "torch.Size([256, 1, 224, 224]) torch.float32 torch.Size([256]) torch.int64\n",
      "torch.Size([256, 1, 224, 224]) torch.float32 torch.Size([256]) torch.int64\n",
      "torch.Size([256, 1, 224, 224]) torch.float32 torch.Size([256]) torch.int64\n",
      "torch.Size([256, 1, 224, 224]) torch.float32 torch.Size([256]) torch.int64\n",
      "torch.Size([256, 1, 224, 224]) torch.float32 torch.Size([256]) torch.int64\n",
      "torch.Size([256, 1, 224, 224]) torch.float32 torch.Size([256]) torch.int64\n",
      "torch.Size([256, 1, 224, 224]) torch.float32 torch.Size([256]) torch.int64\n",
      "torch.Size([256, 1, 224, 224]) torch.float32 torch.Size([256]) torch.int64\n",
      "torch.Size([256, 1, 224, 224]) torch.float32 torch.Size([256]) torch.int64\n",
      "torch.Size([256, 1, 224, 224]) torch.float32 torch.Size([256]) torch.int64\n",
      "torch.Size([256, 1, 224, 224]) torch.float32 torch.Size([256]) torch.int64\n",
      "torch.Size([256, 1, 224, 224]) torch.float32 torch.Size([256]) torch.int64\n",
      "torch.Size([256, 1, 224, 224]) torch.float32 torch.Size([256]) torch.int64\n",
      "torch.Size([256, 1, 224, 224]) torch.float32 torch.Size([256]) torch.int64\n",
      "torch.Size([256, 1, 224, 224]) torch.float32 torch.Size([256]) torch.int64\n",
      "torch.Size([256, 1, 224, 224]) torch.float32 torch.Size([256]) torch.int64\n",
      "torch.Size([256, 1, 224, 224]) torch.float32 torch.Size([256]) torch.int64\n",
      "torch.Size([256, 1, 224, 224]) torch.float32 torch.Size([256]) torch.int64\n",
      "torch.Size([256, 1, 224, 224]) torch.float32 torch.Size([256]) torch.int64\n",
      "torch.Size([256, 1, 224, 224]) torch.float32 torch.Size([256]) torch.int64\n",
      "torch.Size([256, 1, 224, 224]) torch.float32 torch.Size([256]) torch.int64\n",
      "torch.Size([256, 1, 224, 224]) torch.float32 torch.Size([256]) torch.int64\n",
      "torch.Size([256, 1, 224, 224]) torch.float32 torch.Size([256]) torch.int64\n",
      "torch.Size([256, 1, 224, 224]) torch.float32 torch.Size([256]) torch.int64\n",
      "torch.Size([256, 1, 224, 224]) torch.float32 torch.Size([256]) torch.int64\n",
      "torch.Size([256, 1, 224, 224]) torch.float32 torch.Size([256]) torch.int64\n",
      "torch.Size([256, 1, 224, 224]) torch.float32 torch.Size([256]) torch.int64\n",
      "torch.Size([256, 1, 224, 224]) torch.float32 torch.Size([256]) torch.int64\n",
      "torch.Size([256, 1, 224, 224]) torch.float32 torch.Size([256]) torch.int64\n",
      "torch.Size([256, 1, 224, 224]) torch.float32 torch.Size([256]) torch.int64\n",
      "torch.Size([256, 1, 224, 224]) torch.float32 torch.Size([256]) torch.int64\n",
      "torch.Size([256, 1, 224, 224]) torch.float32 torch.Size([256]) torch.int64\n",
      "torch.Size([256, 1, 224, 224]) torch.float32 torch.Size([256]) torch.int64\n",
      "torch.Size([256, 1, 224, 224]) torch.float32 torch.Size([256]) torch.int64\n",
      "torch.Size([256, 1, 224, 224]) torch.float32 torch.Size([256]) torch.int64\n",
      "torch.Size([256, 1, 224, 224]) torch.float32 torch.Size([256]) torch.int64\n",
      "torch.Size([256, 1, 224, 224]) torch.float32 torch.Size([256]) torch.int64\n",
      "torch.Size([256, 1, 224, 224]) torch.float32 torch.Size([256]) torch.int64\n",
      "torch.Size([256, 1, 224, 224]) torch.float32 torch.Size([256]) torch.int64\n",
      "torch.Size([256, 1, 224, 224]) torch.float32 torch.Size([256]) torch.int64\n",
      "torch.Size([256, 1, 224, 224]) torch.float32 torch.Size([256]) torch.int64\n",
      "torch.Size([256, 1, 224, 224]) torch.float32 torch.Size([256]) torch.int64\n",
      "torch.Size([256, 1, 224, 224]) torch.float32 torch.Size([256]) torch.int64\n",
      "torch.Size([256, 1, 224, 224]) torch.float32 torch.Size([256]) torch.int64\n",
      "torch.Size([256, 1, 224, 224]) torch.float32 torch.Size([256]) torch.int64\n",
      "torch.Size([256, 1, 224, 224]) torch.float32 torch.Size([256]) torch.int64\n",
      "torch.Size([256, 1, 224, 224]) torch.float32 torch.Size([256]) torch.int64\n",
      "torch.Size([256, 1, 224, 224]) torch.float32 torch.Size([256]) torch.int64\n",
      "torch.Size([256, 1, 224, 224]) torch.float32 torch.Size([256]) torch.int64\n",
      "torch.Size([256, 1, 224, 224]) torch.float32 torch.Size([256]) torch.int64\n",
      "torch.Size([256, 1, 224, 224]) torch.float32 torch.Size([256]) torch.int64\n",
      "torch.Size([256, 1, 224, 224]) torch.float32 torch.Size([256]) torch.int64\n",
      "torch.Size([256, 1, 224, 224]) torch.float32 torch.Size([256]) torch.int64\n",
      "torch.Size([256, 1, 224, 224]) torch.float32 torch.Size([256]) torch.int64\n",
      "torch.Size([256, 1, 224, 224]) torch.float32 torch.Size([256]) torch.int64\n",
      "torch.Size([256, 1, 224, 224]) torch.float32 torch.Size([256]) torch.int64\n",
      "torch.Size([256, 1, 224, 224]) torch.float32 torch.Size([256]) torch.int64\n",
      "torch.Size([256, 1, 224, 224]) torch.float32 torch.Size([256]) torch.int64\n",
      "torch.Size([256, 1, 224, 224]) torch.float32 torch.Size([256]) torch.int64\n",
      "torch.Size([256, 1, 224, 224]) torch.float32 torch.Size([256]) torch.int64\n",
      "torch.Size([256, 1, 224, 224]) torch.float32 torch.Size([256]) torch.int64\n",
      "torch.Size([256, 1, 224, 224]) torch.float32 torch.Size([256]) torch.int64\n",
      "torch.Size([256, 1, 224, 224]) torch.float32 torch.Size([256]) torch.int64\n",
      "torch.Size([256, 1, 224, 224]) torch.float32 torch.Size([256]) torch.int64\n",
      "torch.Size([256, 1, 224, 224]) torch.float32 torch.Size([256]) torch.int64\n",
      "torch.Size([256, 1, 224, 224]) torch.float32 torch.Size([256]) torch.int64\n",
      "torch.Size([256, 1, 224, 224]) torch.float32 torch.Size([256]) torch.int64\n",
      "torch.Size([256, 1, 224, 224]) torch.float32 torch.Size([256]) torch.int64\n",
      "torch.Size([256, 1, 224, 224]) torch.float32 torch.Size([256]) torch.int64\n",
      "torch.Size([256, 1, 224, 224]) torch.float32 torch.Size([256]) torch.int64\n",
      "torch.Size([256, 1, 224, 224]) torch.float32 torch.Size([256]) torch.int64\n",
      "torch.Size([256, 1, 224, 224]) torch.float32 torch.Size([256]) torch.int64\n",
      "torch.Size([256, 1, 224, 224]) torch.float32 torch.Size([256]) torch.int64\n",
      "torch.Size([256, 1, 224, 224]) torch.float32 torch.Size([256]) torch.int64\n",
      "torch.Size([256, 1, 224, 224]) torch.float32 torch.Size([256]) torch.int64\n",
      "torch.Size([256, 1, 224, 224]) torch.float32 torch.Size([256]) torch.int64\n",
      "torch.Size([256, 1, 224, 224]) torch.float32 torch.Size([256]) torch.int64\n",
      "torch.Size([256, 1, 224, 224]) torch.float32 torch.Size([256]) torch.int64\n",
      "torch.Size([256, 1, 224, 224]) torch.float32 torch.Size([256]) torch.int64\n",
      "torch.Size([256, 1, 224, 224]) torch.float32 torch.Size([256]) torch.int64\n",
      "torch.Size([256, 1, 224, 224]) torch.float32 torch.Size([256]) torch.int64\n",
      "torch.Size([256, 1, 224, 224]) torch.float32 torch.Size([256]) torch.int64\n",
      "torch.Size([256, 1, 224, 224]) torch.float32 torch.Size([256]) torch.int64\n",
      "torch.Size([256, 1, 224, 224]) torch.float32 torch.Size([256]) torch.int64\n",
      "torch.Size([256, 1, 224, 224]) torch.float32 torch.Size([256]) torch.int64\n",
      "torch.Size([256, 1, 224, 224]) torch.float32 torch.Size([256]) torch.int64\n",
      "torch.Size([256, 1, 224, 224]) torch.float32 torch.Size([256]) torch.int64\n",
      "torch.Size([256, 1, 224, 224]) torch.float32 torch.Size([256]) torch.int64\n",
      "torch.Size([256, 1, 224, 224]) torch.float32 torch.Size([256]) torch.int64\n",
      "torch.Size([256, 1, 224, 224]) torch.float32 torch.Size([256]) torch.int64\n",
      "torch.Size([256, 1, 224, 224]) torch.float32 torch.Size([256]) torch.int64\n",
      "torch.Size([256, 1, 224, 224]) torch.float32 torch.Size([256]) torch.int64\n",
      "torch.Size([256, 1, 224, 224]) torch.float32 torch.Size([256]) torch.int64\n",
      "torch.Size([256, 1, 224, 224]) torch.float32 torch.Size([256]) torch.int64\n",
      "torch.Size([256, 1, 224, 224]) torch.float32 torch.Size([256]) torch.int64\n",
      "torch.Size([256, 1, 224, 224]) torch.float32 torch.Size([256]) torch.int64\n",
      "torch.Size([256, 1, 224, 224]) torch.float32 torch.Size([256]) torch.int64\n",
      "torch.Size([256, 1, 224, 224]) torch.float32 torch.Size([256]) torch.int64\n",
      "torch.Size([256, 1, 224, 224]) torch.float32 torch.Size([256]) torch.int64\n",
      "torch.Size([256, 1, 224, 224]) torch.float32 torch.Size([256]) torch.int64\n"
     ]
    },
    {
     "name": "stdout",
     "output_type": "stream",
     "text": [
      "torch.Size([256, 1, 224, 224]) torch.float32 torch.Size([256]) torch.int64\n",
      "torch.Size([256, 1, 224, 224]) torch.float32 torch.Size([256]) torch.int64\n",
      "torch.Size([256, 1, 224, 224]) torch.float32 torch.Size([256]) torch.int64\n",
      "torch.Size([256, 1, 224, 224]) torch.float32 torch.Size([256]) torch.int64\n",
      "torch.Size([256, 1, 224, 224]) torch.float32 torch.Size([256]) torch.int64\n",
      "torch.Size([256, 1, 224, 224]) torch.float32 torch.Size([256]) torch.int64\n",
      "torch.Size([256, 1, 224, 224]) torch.float32 torch.Size([256]) torch.int64\n",
      "torch.Size([256, 1, 224, 224]) torch.float32 torch.Size([256]) torch.int64\n",
      "torch.Size([256, 1, 224, 224]) torch.float32 torch.Size([256]) torch.int64\n",
      "torch.Size([256, 1, 224, 224]) torch.float32 torch.Size([256]) torch.int64\n",
      "torch.Size([256, 1, 224, 224]) torch.float32 torch.Size([256]) torch.int64\n",
      "torch.Size([256, 1, 224, 224]) torch.float32 torch.Size([256]) torch.int64\n",
      "torch.Size([256, 1, 224, 224]) torch.float32 torch.Size([256]) torch.int64\n",
      "torch.Size([256, 1, 224, 224]) torch.float32 torch.Size([256]) torch.int64\n",
      "torch.Size([96, 1, 224, 224]) torch.float32 torch.Size([96]) torch.int64\n"
     ]
    }
   ],
   "source": [
    "for i in train_iter:\n",
    "    print(i[0].shape,i[0].dtype,i[1].shape,i[1].dtype)"
   ]
  },
  {
   "cell_type": "code",
   "execution_count": 20,
   "id": "eb1b80ad",
   "metadata": {
    "ExecuteTime": {
     "end_time": "2022-05-31T07:14:11.789210Z",
     "start_time": "2022-05-31T07:14:11.774708Z"
    }
   },
   "outputs": [],
   "source": [
    "def evaluate_accuracy_gpu(net,data_iter,device=None):\n",
    "    net.to(device)\n",
    "    net.eval()\n",
    "    if isinstance(net,nn.Module):\n",
    "        if not device:\n",
    "            device='cpu'\n",
    "    l_sum=[]\n",
    "    for X,y in data_iter:\n",
    "    X,y=X.to(device),y.to(device)\n",
    "    y_hat=net(X)\n",
    "    l_sum.append((sum(torch.argmax(y_hat,dim=1).reshape(y.shape) ==y)/y.shape[0]).item())\n",
    "    return sum(l_sum)/len(l_sum)"
   ]
  },
  {
   "cell_type": "code",
   "execution_count": 21,
   "id": "d81b8e33",
   "metadata": {
    "ExecuteTime": {
     "end_time": "2022-05-31T07:22:28.000221Z",
     "start_time": "2022-05-31T07:22:27.977218Z"
    }
   },
   "outputs": [],
   "source": [
    "def train_ch6(net,train_iter,test_iter,num_epochs,lr,device):\n",
    "    net.to(device)\n",
    "    def init_weight(m):\n",
    "        if type(m)==nn.Linear or type(m)==nn.Conv2d:\n",
    "            nn.init.xavier_uniform_(m.weight)\n",
    "    net.apply(init_weight)\n",
    "    print('training on :',device)\n",
    "    \n",
    "    optimizer=torch.optim.SGD(net.parameters(),lr=lr)\n",
    "    loss=nn.CrossEntropyLoss()\n",
    "    for epoch in range(num_epochs):\n",
    "        tr_l=[]\n",
    "        tr_acc=[]\n",
    "        net.train()\n",
    "        for X,y in train_iter:\n",
    "            optimizer.zero_grad()\n",
    "            X,y=X.to(device),y.to(device)\n",
    "            y_hat=net(X)\n",
    "            l=loss(y_hat,y)\n",
    "            l.backward()\n",
    "            optimizer.step()\n",
    "            with torch.no_grad():\n",
    "                tr_l.append(l.item())\n",
    "                tr_acc.append((sum(torch.argmax(y_hat,dim=1).reshape(y.shape)==y)/y.shape[0]).item())\n",
    "        test_acc=evaluate_accuracy_gpu(net,test_iter,'cuda')\n",
    "        print('epoch : ',epoch ,' train loss : ',sum(tr_l)/len(tr_l),' train acc : ', sum(tr_acc)/len(tr_acc),'test acc : ',test_acc)"
   ]
  },
  {
   "cell_type": "code",
   "execution_count": 22,
   "id": "7793945f",
   "metadata": {
    "ExecuteTime": {
     "end_time": "2022-05-31T08:34:34.521119Z",
     "start_time": "2022-05-31T07:23:22.489140Z"
    }
   },
   "outputs": [
    {
     "name": "stdout",
     "output_type": "stream",
     "text": [
      "training on : cpu\n",
      "epoch :  0  train loss :  1.784645899559589  train acc :  0.33137189707857495 test acc :  0.6810546875\n",
      "epoch :  1  train loss :  0.8346436302712623  train acc :  0.6846575797872341 test acc :  0.737109375\n"
     ]
    },
    {
     "ename": "KeyboardInterrupt",
     "evalue": "",
     "output_type": "error",
     "traceback": [
      "\u001b[1;31m---------------------------------------------------------------------------\u001b[0m",
      "\u001b[1;31mKeyboardInterrupt\u001b[0m                         Traceback (most recent call last)",
      "\u001b[1;32m<ipython-input-22-507ee10f9fd1>\u001b[0m in \u001b[0;36m<module>\u001b[1;34m\u001b[0m\n\u001b[0;32m      1\u001b[0m \u001b[0mlr\u001b[0m\u001b[1;33m,\u001b[0m \u001b[0mnum_epochs\u001b[0m \u001b[1;33m=\u001b[0m \u001b[1;36m0.01\u001b[0m\u001b[1;33m,\u001b[0m \u001b[1;36m10\u001b[0m\u001b[1;33m\u001b[0m\u001b[1;33m\u001b[0m\u001b[0m\n\u001b[1;32m----> 2\u001b[1;33m \u001b[0mtrain_ch6\u001b[0m\u001b[1;33m(\u001b[0m\u001b[0mnet\u001b[0m\u001b[1;33m,\u001b[0m \u001b[0mtrain_iter\u001b[0m\u001b[1;33m,\u001b[0m \u001b[0mtest_iter\u001b[0m\u001b[1;33m,\u001b[0m \u001b[0mnum_epochs\u001b[0m\u001b[1;33m,\u001b[0m \u001b[0mlr\u001b[0m\u001b[1;33m,\u001b[0m \u001b[1;34m'cpu'\u001b[0m\u001b[1;33m)\u001b[0m\u001b[1;33m\u001b[0m\u001b[1;33m\u001b[0m\u001b[0m\n\u001b[0m",
      "\u001b[1;32m<ipython-input-21-c875e8f6fe86>\u001b[0m in \u001b[0;36mtrain_ch6\u001b[1;34m(net, train_iter, test_iter, num_epochs, lr, device)\u001b[0m\n\u001b[0;32m     17\u001b[0m             \u001b[0my_hat\u001b[0m\u001b[1;33m=\u001b[0m\u001b[0mnet\u001b[0m\u001b[1;33m(\u001b[0m\u001b[0mX\u001b[0m\u001b[1;33m)\u001b[0m\u001b[1;33m\u001b[0m\u001b[1;33m\u001b[0m\u001b[0m\n\u001b[0;32m     18\u001b[0m             \u001b[0ml\u001b[0m\u001b[1;33m=\u001b[0m\u001b[0mloss\u001b[0m\u001b[1;33m(\u001b[0m\u001b[0my_hat\u001b[0m\u001b[1;33m,\u001b[0m\u001b[0my\u001b[0m\u001b[1;33m)\u001b[0m\u001b[1;33m\u001b[0m\u001b[1;33m\u001b[0m\u001b[0m\n\u001b[1;32m---> 19\u001b[1;33m             \u001b[0ml\u001b[0m\u001b[1;33m.\u001b[0m\u001b[0mbackward\u001b[0m\u001b[1;33m(\u001b[0m\u001b[1;33m)\u001b[0m\u001b[1;33m\u001b[0m\u001b[1;33m\u001b[0m\u001b[0m\n\u001b[0m\u001b[0;32m     20\u001b[0m             \u001b[0moptimizer\u001b[0m\u001b[1;33m.\u001b[0m\u001b[0mstep\u001b[0m\u001b[1;33m(\u001b[0m\u001b[1;33m)\u001b[0m\u001b[1;33m\u001b[0m\u001b[1;33m\u001b[0m\u001b[0m\n\u001b[0;32m     21\u001b[0m             \u001b[1;32mwith\u001b[0m \u001b[0mtorch\u001b[0m\u001b[1;33m.\u001b[0m\u001b[0mno_grad\u001b[0m\u001b[1;33m(\u001b[0m\u001b[1;33m)\u001b[0m\u001b[1;33m:\u001b[0m\u001b[1;33m\u001b[0m\u001b[1;33m\u001b[0m\u001b[0m\n",
      "\u001b[1;32mD:\\ProgramData\\Anaconda3\\lib\\site-packages\\torch\\_tensor.py\u001b[0m in \u001b[0;36mbackward\u001b[1;34m(self, gradient, retain_graph, create_graph, inputs)\u001b[0m\n\u001b[0;32m    361\u001b[0m                 \u001b[0mcreate_graph\u001b[0m\u001b[1;33m=\u001b[0m\u001b[0mcreate_graph\u001b[0m\u001b[1;33m,\u001b[0m\u001b[1;33m\u001b[0m\u001b[1;33m\u001b[0m\u001b[0m\n\u001b[0;32m    362\u001b[0m                 inputs=inputs)\n\u001b[1;32m--> 363\u001b[1;33m         \u001b[0mtorch\u001b[0m\u001b[1;33m.\u001b[0m\u001b[0mautograd\u001b[0m\u001b[1;33m.\u001b[0m\u001b[0mbackward\u001b[0m\u001b[1;33m(\u001b[0m\u001b[0mself\u001b[0m\u001b[1;33m,\u001b[0m \u001b[0mgradient\u001b[0m\u001b[1;33m,\u001b[0m \u001b[0mretain_graph\u001b[0m\u001b[1;33m,\u001b[0m \u001b[0mcreate_graph\u001b[0m\u001b[1;33m,\u001b[0m \u001b[0minputs\u001b[0m\u001b[1;33m=\u001b[0m\u001b[0minputs\u001b[0m\u001b[1;33m)\u001b[0m\u001b[1;33m\u001b[0m\u001b[1;33m\u001b[0m\u001b[0m\n\u001b[0m\u001b[0;32m    364\u001b[0m \u001b[1;33m\u001b[0m\u001b[0m\n\u001b[0;32m    365\u001b[0m     \u001b[1;32mdef\u001b[0m \u001b[0mregister_hook\u001b[0m\u001b[1;33m(\u001b[0m\u001b[0mself\u001b[0m\u001b[1;33m,\u001b[0m \u001b[0mhook\u001b[0m\u001b[1;33m)\u001b[0m\u001b[1;33m:\u001b[0m\u001b[1;33m\u001b[0m\u001b[1;33m\u001b[0m\u001b[0m\n",
      "\u001b[1;32mD:\\ProgramData\\Anaconda3\\lib\\site-packages\\torch\\autograd\\__init__.py\u001b[0m in \u001b[0;36mbackward\u001b[1;34m(tensors, grad_tensors, retain_graph, create_graph, grad_variables, inputs)\u001b[0m\n\u001b[0;32m    171\u001b[0m     \u001b[1;31m# some Python versions print out the first line of a multi-line function\u001b[0m\u001b[1;33m\u001b[0m\u001b[1;33m\u001b[0m\u001b[1;33m\u001b[0m\u001b[0m\n\u001b[0;32m    172\u001b[0m     \u001b[1;31m# calls in the traceback and some print out the last line\u001b[0m\u001b[1;33m\u001b[0m\u001b[1;33m\u001b[0m\u001b[1;33m\u001b[0m\u001b[0m\n\u001b[1;32m--> 173\u001b[1;33m     Variable._execution_engine.run_backward(  # Calls into the C++ engine to run the backward pass\n\u001b[0m\u001b[0;32m    174\u001b[0m         \u001b[0mtensors\u001b[0m\u001b[1;33m,\u001b[0m \u001b[0mgrad_tensors_\u001b[0m\u001b[1;33m,\u001b[0m \u001b[0mretain_graph\u001b[0m\u001b[1;33m,\u001b[0m \u001b[0mcreate_graph\u001b[0m\u001b[1;33m,\u001b[0m \u001b[0minputs\u001b[0m\u001b[1;33m,\u001b[0m\u001b[1;33m\u001b[0m\u001b[1;33m\u001b[0m\u001b[0m\n\u001b[0;32m    175\u001b[0m         allow_unreachable=True, accumulate_grad=True)  # Calls into the C++ engine to run the backward pass\n",
      "\u001b[1;31mKeyboardInterrupt\u001b[0m: "
     ]
    }
   ],
   "source": [
    "lr, num_epochs = 0.01, 10\n",
    "train_ch6(net, train_iter, test_iter, num_epochs, lr, 'cpu')"
   ]
  },
  {
   "cell_type": "code",
   "execution_count": null,
   "id": "36ec7112",
   "metadata": {},
   "outputs": [],
   "source": []
  },
  {
   "cell_type": "code",
   "execution_count": null,
   "id": "add2ba23",
   "metadata": {},
   "outputs": [],
   "source": []
  },
  {
   "cell_type": "code",
   "execution_count": null,
   "id": "0370276b",
   "metadata": {},
   "outputs": [],
   "source": []
  }
 ],
 "metadata": {
  "kernelspec": {
   "display_name": "Python 3",
   "language": "python",
   "name": "python3"
  },
  "language_info": {
   "codemirror_mode": {
    "name": "ipython",
    "version": 3
   },
   "file_extension": ".py",
   "mimetype": "text/x-python",
   "name": "python",
   "nbconvert_exporter": "python",
   "pygments_lexer": "ipython3",
   "version": "3.8.8"
  }
 },
 "nbformat": 4,
 "nbformat_minor": 5
}
