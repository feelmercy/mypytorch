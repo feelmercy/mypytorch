{
 "cells": [
  {
   "cell_type": "code",
   "execution_count": 1,
   "id": "94501962",
   "metadata": {
    "ExecuteTime": {
     "end_time": "2022-06-01T06:07:04.239267Z",
     "start_time": "2022-06-01T06:07:04.236266Z"
    }
   },
   "outputs": [],
   "source": [
    "import torch\n",
    "from torch import nn,optim"
   ]
  },
  {
   "cell_type": "code",
   "execution_count": 2,
   "id": "77157f8e",
   "metadata": {
    "ExecuteTime": {
     "end_time": "2022-06-01T06:09:46.309847Z",
     "start_time": "2022-06-01T06:09:46.298345Z"
    }
   },
   "outputs": [],
   "source": [
    "def vgg_block(num_convs,in_channels,out_channles):\n",
    "    layers=[]\n",
    "    for _ in range(num_convs):\n",
    "        layers.append(nn.Conv2d(in_channels,out_channles,kernel_size=3,padding=1))\n",
    "        layers.append(nn.ReLU())\n",
    "        in_channels=out_channles\n",
    "    layers.append(nn.MaxPool2d(kernel_size=2,stride=2))\n",
    "    return nn.Sequential(*layers)\n",
    "        "
   ]
  },
  {
   "cell_type": "code",
   "execution_count": 3,
   "id": "37c5f383",
   "metadata": {
    "ExecuteTime": {
     "end_time": "2022-06-01T06:12:56.332977Z",
     "start_time": "2022-06-01T06:12:56.325476Z"
    }
   },
   "outputs": [],
   "source": [
    "conv_arch=((1,64),(1,128),(2,256),(2,512),(2,512))"
   ]
  },
  {
   "cell_type": "code",
   "execution_count": 4,
   "id": "d6f036a8",
   "metadata": {
    "ExecuteTime": {
     "end_time": "2022-06-01T06:16:12.488885Z",
     "start_time": "2022-06-01T06:16:12.474384Z"
    }
   },
   "outputs": [],
   "source": [
    "def vgg(conv_arch):\n",
    "    conv_blks=[]\n",
    "    in_channels=1\n",
    "    for (num_convs,out_channels) in conv_arch:\n",
    "        conv_blks.append(vgg_block(num_convs,in_channels,out_channels))\n",
    "        in_channels=out_channels\n",
    "    \n",
    "    return nn.Sequential(\n",
    "        *conv_blks,nn.Flatten(),\n",
    "        nn.Linear(out_channels*7*7,4096),nn.ReLU(),nn.Dropout(0.5),\n",
    "        nn.Linear(4096,4096),nn.ReLU(),nn.Dropout(0.5),\n",
    "        nn.Linear(4096,10)\n",
    "    \n",
    "    )\n",
    "    "
   ]
  },
  {
   "cell_type": "code",
   "execution_count": 5,
   "id": "77043f22",
   "metadata": {
    "ExecuteTime": {
     "end_time": "2022-06-01T06:16:26.426655Z",
     "start_time": "2022-06-01T06:16:25.525541Z"
    }
   },
   "outputs": [],
   "source": [
    "net=vgg(conv_arch)"
   ]
  },
  {
   "cell_type": "code",
   "execution_count": 6,
   "id": "8e8e94cb",
   "metadata": {
    "ExecuteTime": {
     "end_time": "2022-06-01T06:17:48.923131Z",
     "start_time": "2022-06-01T06:17:48.111528Z"
    }
   },
   "outputs": [
    {
     "name": "stdout",
     "output_type": "stream",
     "text": [
      "Sequential  output shape : torch.Size([1, 64, 112, 112])\n",
      "Sequential  output shape : torch.Size([1, 128, 56, 56])\n",
      "Sequential  output shape : torch.Size([1, 256, 28, 28])\n",
      "Sequential  output shape : torch.Size([1, 512, 14, 14])\n",
      "Sequential  output shape : torch.Size([1, 512, 7, 7])\n",
      "Flatten  output shape : torch.Size([1, 25088])\n",
      "Linear  output shape : torch.Size([1, 4096])\n",
      "ReLU  output shape : torch.Size([1, 4096])\n",
      "Dropout  output shape : torch.Size([1, 4096])\n",
      "Linear  output shape : torch.Size([1, 4096])\n",
      "ReLU  output shape : torch.Size([1, 4096])\n",
      "Dropout  output shape : torch.Size([1, 4096])\n",
      "Linear  output shape : torch.Size([1, 10])\n"
     ]
    }
   ],
   "source": [
    "X=torch.randn(size=(1,1,224,224))\n",
    "for blk in net:\n",
    "    X=blk(X)\n",
    "    print(blk.__class__.__name__,' output shape :',X.shape)"
   ]
  },
  {
   "cell_type": "code",
   "execution_count": 14,
   "id": "367e2f0d",
   "metadata": {
    "ExecuteTime": {
     "end_time": "2022-06-01T07:21:47.093517Z",
     "start_time": "2022-06-01T07:21:47.087016Z"
    }
   },
   "outputs": [],
   "source": [
    "def evaluate_acc_gpu(net,data_iter,device=None):\n",
    "    if isinstance(net,nn.Module):\n",
    "        device='cuda' if torch.cuda.is_available() else 'cpu'\n",
    "        net.to(device)\n",
    "        net.eval()\n",
    "        l_sum=[]\n",
    "        for X,y in data_iter:\n",
    "            X,y=X.to(device),y.to(device)\n",
    "            y_hat=net(X)\n",
    "            l_sum.append((sum(torch.argmax(y_hat,dim=1).reshape(y.shape) ==y) / y.shape[0]).item())\n",
    "        return sum(l_sum) / len(l_sum)\n",
    "        \n",
    "    "
   ]
  },
  {
   "cell_type": "code",
   "execution_count": 15,
   "id": "8e52c601",
   "metadata": {
    "ExecuteTime": {
     "end_time": "2022-06-01T07:21:47.557576Z",
     "start_time": "2022-06-01T07:21:47.538073Z"
    }
   },
   "outputs": [],
   "source": [
    "def train_ch6(net,train_iter,test_iter,num_epochs,lr,device):\n",
    "    def init_weight(m):\n",
    "        if type(m) == nn.Linear or type(m)==nn.Conv2d:\n",
    "            torch.nn.init.xavier_uniform_(m.weight)\n",
    "    net.apply(init_weight)\n",
    "    print('training on : ',device)\n",
    "    net.to(device)\n",
    "    \n",
    "    optimizer=optim.SGD(net.parameters(),lr=lr)\n",
    "    loss=nn.CrossEntropyLoss()\n",
    "    for epoch in range(num_epochs):\n",
    "        tr_l=[]\n",
    "        tr_acc=[]\n",
    "        net.train()\n",
    "        for X,y in train_iter:\n",
    "            X,y=X.to(device),y.to(device)\n",
    "            y_hat=net(X)\n",
    "            l=loss(y_hat,y)\n",
    "            optimizer.zero_grad()\n",
    "            l.backward()\n",
    "            optimizer.step()\n",
    "            with torch.no_grad():\n",
    "                tr_l.append(l.item())\n",
    "                tr_acc.append((sum(torch.argmax(y_hat,dim=1).reshape(y.shape) == y) / y.shape[0]).item())\n",
    "        test_acc=evaluate_acc_gpu(net,test_iter,device)\n",
    "        print('epoch : ',epoch ,' train loss : ',sum(tr_l)/len(tr_l),' train acc : ', sum(tr_acc)/len(tr_acc),'test acc : ',test_acc)"
   ]
  },
  {
   "cell_type": "code",
   "execution_count": 18,
   "id": "e7557b3d",
   "metadata": {
    "ExecuteTime": {
     "end_time": "2022-06-01T07:22:44.113757Z",
     "start_time": "2022-06-01T07:22:44.098755Z"
    }
   },
   "outputs": [
    {
     "data": {
      "text/plain": [
       "17.64705882352941"
      ]
     },
     "execution_count": 18,
     "metadata": {},
     "output_type": "execute_result"
    }
   ],
   "source": [
    "6/0.34"
   ]
  },
  {
   "cell_type": "code",
   "execution_count": 17,
   "id": "59d3ffe2",
   "metadata": {
    "ExecuteTime": {
     "end_time": "2022-06-01T07:22:31.789692Z",
     "start_time": "2022-06-01T07:22:31.777191Z"
    }
   },
   "outputs": [
    {
     "data": {
      "text/plain": [
       "11.616000000000001"
      ]
     },
     "execution_count": 17,
     "metadata": {},
     "output_type": "execute_result"
    }
   ],
   "source": [
    "17.6*0.66"
   ]
  },
  {
   "cell_type": "code",
   "execution_count": 19,
   "id": "ac49eace",
   "metadata": {
    "ExecuteTime": {
     "end_time": "2022-06-01T07:24:13.829650Z",
     "start_time": "2022-06-01T07:24:13.818148Z"
    }
   },
   "outputs": [
    {
     "data": {
      "text/plain": [
       "105.88235294117646"
      ]
     },
     "execution_count": 19,
     "metadata": {},
     "output_type": "execute_result"
    }
   ],
   "source": [
    "36/0.34"
   ]
  },
  {
   "cell_type": "code",
   "execution_count": 20,
   "id": "03b2e9f3",
   "metadata": {
    "ExecuteTime": {
     "end_time": "2022-06-01T07:24:35.712929Z",
     "start_time": "2022-06-01T07:24:35.700427Z"
    }
   },
   "outputs": [
    {
     "data": {
      "text/plain": [
       "69.3"
      ]
     },
     "execution_count": 20,
     "metadata": {},
     "output_type": "execute_result"
    }
   ],
   "source": [
    "105*0.66"
   ]
  },
  {
   "cell_type": "code",
   "execution_count": 21,
   "id": "0d28aed9",
   "metadata": {
    "ExecuteTime": {
     "end_time": "2022-06-01T07:34:41.943410Z",
     "start_time": "2022-06-01T07:34:41.930409Z"
    }
   },
   "outputs": [
    {
     "data": {
      "text/plain": [
       "101.3"
      ]
     },
     "execution_count": 21,
     "metadata": {},
     "output_type": "execute_result"
    }
   ],
   "source": [
    "77.3+24"
   ]
  },
  {
   "cell_type": "code",
   "execution_count": 23,
   "id": "d61a57b6",
   "metadata": {
    "ExecuteTime": {
     "end_time": "2022-06-01T07:36:52.453983Z",
     "start_time": "2022-06-01T07:36:52.441481Z"
    }
   },
   "outputs": [
    {
     "data": {
      "text/plain": [
       "96.4"
      ]
     },
     "execution_count": 23,
     "metadata": {},
     "output_type": "execute_result"
    }
   ],
   "source": [
    "72.4+24"
   ]
  },
  {
   "cell_type": "code",
   "execution_count": 26,
   "id": "2ec790a0",
   "metadata": {
    "ExecuteTime": {
     "end_time": "2022-06-01T07:42:06.764395Z",
     "start_time": "2022-06-01T07:42:06.752894Z"
    }
   },
   "outputs": [
    {
     "data": {
      "text/plain": [
       "97.2"
      ]
     },
     "execution_count": 26,
     "metadata": {},
     "output_type": "execute_result"
    }
   ],
   "source": [
    "24*4+1.2"
   ]
  },
  {
   "cell_type": "code",
   "execution_count": null,
   "id": "bf658911",
   "metadata": {},
   "outputs": [],
   "source": []
  },
  {
   "cell_type": "code",
   "execution_count": null,
   "id": "8943df4d",
   "metadata": {},
   "outputs": [],
   "source": []
  }
 ],
 "metadata": {
  "kernelspec": {
   "display_name": "Python 3",
   "language": "python",
   "name": "python3"
  },
  "language_info": {
   "codemirror_mode": {
    "name": "ipython",
    "version": 3
   },
   "file_extension": ".py",
   "mimetype": "text/x-python",
   "name": "python",
   "nbconvert_exporter": "python",
   "pygments_lexer": "ipython3",
   "version": "3.8.8"
  }
 },
 "nbformat": 4,
 "nbformat_minor": 5
}
