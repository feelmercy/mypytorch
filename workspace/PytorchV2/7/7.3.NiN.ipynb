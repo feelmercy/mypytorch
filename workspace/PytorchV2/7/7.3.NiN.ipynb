{
 "cells": [
  {
   "cell_type": "code",
   "execution_count": 1,
   "id": "4f77bf90",
   "metadata": {
    "ExecuteTime": {
     "end_time": "2022-06-02T01:56:59.903586Z",
     "start_time": "2022-06-02T01:56:49.391251Z"
    }
   },
   "outputs": [],
   "source": [
    "import torch \n",
    "from torch import nn,optim"
   ]
  },
  {
   "cell_type": "code",
   "execution_count": 2,
   "id": "25e83bc3",
   "metadata": {
    "ExecuteTime": {
     "end_time": "2022-06-02T01:57:00.968221Z",
     "start_time": "2022-06-02T01:57:00.956720Z"
    }
   },
   "outputs": [],
   "source": [
    "def nin_block(in_channels,out_channels,kernel_size,strides,padding):\n",
    "    return nn.Sequential(\n",
    "        nn.Conv2d(in_channels,out_channels,kernel_size,strides,padding),\n",
    "        nn.ReLU(),\n",
    "        nn.Conv2d(out_channels,out_channels,kernel_size=1),nn.ReLU(),\n",
    "        nn.Conv2d(out_channels,out_channels,kernel_size=1),nn.ReLU()\n",
    "    )"
   ]
  },
  {
   "cell_type": "code",
   "execution_count": 3,
   "id": "aa29883a",
   "metadata": {
    "ExecuteTime": {
     "end_time": "2022-06-02T01:57:01.822330Z",
     "start_time": "2022-06-02T01:57:01.756322Z"
    }
   },
   "outputs": [],
   "source": [
    "net=nn.Sequential(nin_block(1,96,kernel_size=11,strides=4,padding=0),\n",
    "                  nn.MaxPool2d(3,stride=2),\n",
    "                  nin_block(96,256,kernel_size=5,strides=1,padding=2),\n",
    "                  nn.MaxPool2d(3,stride=2),\n",
    "                  nin_block(256,384,kernel_size=3,strides=1,padding=2),\n",
    "                  nn.MaxPool2d(3,stride=2),\n",
    "                  nn.Dropout(0.5),\n",
    "                  nin_block(384,10,kernel_size=3,strides=1,padding=1),\n",
    "                  nn.AdaptiveAvgPool2d((1,1)),\n",
    "                  nn.Flatten()\n",
    "                 )"
   ]
  },
  {
   "cell_type": "code",
   "execution_count": 4,
   "id": "e9ed34a0",
   "metadata": {
    "ExecuteTime": {
     "end_time": "2022-06-02T01:57:03.782079Z",
     "start_time": "2022-06-02T01:57:03.123995Z"
    }
   },
   "outputs": [
    {
     "name": "stdout",
     "output_type": "stream",
     "text": [
      "Sequential  output shape :  torch.Size([1, 96, 54, 54])\n",
      "MaxPool2d  output shape :  torch.Size([1, 96, 26, 26])\n",
      "Sequential  output shape :  torch.Size([1, 256, 26, 26])\n",
      "MaxPool2d  output shape :  torch.Size([1, 256, 12, 12])\n",
      "Sequential  output shape :  torch.Size([1, 384, 14, 14])\n",
      "MaxPool2d  output shape :  torch.Size([1, 384, 6, 6])\n",
      "Dropout  output shape :  torch.Size([1, 384, 6, 6])\n",
      "Sequential  output shape :  torch.Size([1, 10, 6, 6])\n",
      "AdaptiveAvgPool2d  output shape :  torch.Size([1, 10, 1, 1])\n",
      "Flatten  output shape :  torch.Size([1, 10])\n"
     ]
    }
   ],
   "source": [
    "X=torch.rand(size=(1,1,224,224))\n",
    "for layer in net:\n",
    "    X=layer(X)\n",
    "    print(layer.__class__.__name__,' output shape : ',X.shape)"
   ]
  },
  {
   "cell_type": "code",
   "execution_count": null,
   "id": "dd5fc8fd",
   "metadata": {},
   "outputs": [],
   "source": []
  },
  {
   "cell_type": "code",
   "execution_count": null,
   "id": "0af05906",
   "metadata": {},
   "outputs": [],
   "source": []
  },
  {
   "cell_type": "code",
   "execution_count": null,
   "id": "eb822a99",
   "metadata": {},
   "outputs": [],
   "source": []
  },
  {
   "cell_type": "code",
   "execution_count": null,
   "id": "ae0c8ebc",
   "metadata": {},
   "outputs": [],
   "source": []
  },
  {
   "cell_type": "code",
   "execution_count": null,
   "id": "e24391b2",
   "metadata": {},
   "outputs": [],
   "source": []
  }
 ],
 "metadata": {
  "kernelspec": {
   "display_name": "Python 3",
   "language": "python",
   "name": "python3"
  },
  "language_info": {
   "codemirror_mode": {
    "name": "ipython",
    "version": 3
   },
   "file_extension": ".py",
   "mimetype": "text/x-python",
   "name": "python",
   "nbconvert_exporter": "python",
   "pygments_lexer": "ipython3",
   "version": "3.8.8"
  }
 },
 "nbformat": 4,
 "nbformat_minor": 5
}
