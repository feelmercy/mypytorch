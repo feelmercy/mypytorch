{
 "cells": [
  {
   "cell_type": "code",
   "execution_count": 1,
   "id": "ce61c76e",
   "metadata": {
    "ExecuteTime": {
     "end_time": "2023-09-12T08:34:35.968830Z",
     "start_time": "2023-09-12T08:34:20.304986Z"
    }
   },
   "outputs": [
    {
     "name": "stdout",
     "output_type": "stream",
     "text": [
      "Using matplotlib backend: Qt5Agg\n"
     ]
    }
   ],
   "source": [
    "import torch\n",
    "import matplotlib.pyplot as plt\n",
    "from matplotlib_inline import backend_inline\n",
    "%matplotlib auto"
   ]
  },
  {
   "cell_type": "code",
   "execution_count": 12,
   "id": "de21be7b",
   "metadata": {
    "ExecuteTime": {
     "end_time": "2023-09-06T02:51:56.222624Z",
     "start_time": "2023-09-06T02:51:56.216753Z"
    }
   },
   "outputs": [],
   "source": [
    "def show_heatmaps(matrices,xlabel,ylabel,title=None,figsize=(2.5,2.5),cmap='Reds'):\n",
    "    backend_inline.set_matplotlib_formats('svg')\n",
    "    num_rows,num_cols=matrices.shape[0],matrices.shape[1]\n",
    "    fig,axes=plt.subplots(num_rows,num_cols,figsize=figsize,sharex=True,sharey=True,squeeze=False)\n",
    "    for i,(row_axes,row_matrices) in enumerate(zip(axes,matrices)):\n",
    "        for j,(ax,matrix) in enumerate(zip(row_axes,row_matrices)):\n",
    "            pcm=ax.imshow(matrix.detach().numpy(),cmap=cmap)\n",
    "            if i==num_rows-1:\n",
    "                ax.set_xlabel(xlabel)\n",
    "            if j==0:\n",
    "                ax.set_ylabel(ylabel)\n",
    "            if title:\n",
    "                ax.set_title(titles[j])\n",
    "    fig.colorbar(pcm,ax=axes,shrink=0.6)\n",
    "    "
   ]
  },
  {
   "cell_type": "code",
   "execution_count": 33,
   "id": "4cd319f0",
   "metadata": {
    "ExecuteTime": {
     "end_time": "2023-09-06T03:11:46.439908Z",
     "start_time": "2023-09-06T03:11:46.371563Z"
    }
   },
   "outputs": [],
   "source": [
    "attention_weights=torch.eye(10).reshape((1,1,10,10))\n",
    "show_heatmaps(attention_weights,xlabel='keys',ylabel='Queries')"
   ]
  },
  {
   "cell_type": "code",
   "execution_count": 29,
   "id": "b785d2a0",
   "metadata": {
    "ExecuteTime": {
     "end_time": "2023-09-06T03:09:46.657719Z",
     "start_time": "2023-09-06T03:09:46.651862Z"
    }
   },
   "outputs": [
    {
     "name": "stdout",
     "output_type": "stream",
     "text": [
      "0\n",
      "torch.Size([1, 10, 10])\n",
      "torch.Size([10, 10])\n",
      "tensor([[1., 0., 0., 0., 0., 0., 0., 0., 0., 0.],\n",
      "        [0., 1., 0., 0., 0., 0., 0., 0., 0., 0.],\n",
      "        [0., 0., 1., 0., 0., 0., 0., 0., 0., 0.],\n",
      "        [0., 0., 0., 1., 0., 0., 0., 0., 0., 0.],\n",
      "        [0., 0., 0., 0., 1., 0., 0., 0., 0., 0.],\n",
      "        [0., 0., 0., 0., 0., 1., 0., 0., 0., 0.],\n",
      "        [0., 0., 0., 0., 0., 0., 1., 0., 0., 0.],\n",
      "        [0., 0., 0., 0., 0., 0., 0., 1., 0., 0.],\n",
      "        [0., 0., 0., 0., 0., 0., 0., 0., 1., 0.],\n",
      "        [0., 0., 0., 0., 0., 0., 0., 0., 0., 1.]])\n"
     ]
    }
   ],
   "source": [
    "for i,j in enumerate(zip('a',attention_weights)):\n",
    "    print(i)\n",
    "    print(j[1].shape)\n",
    "#     print(j[1])\n",
    "    for k,(l1,l2) in enumerate(zip('b',j[1])):\n",
    "        print(l2.shape)\n",
    "        print(l2)"
   ]
  },
  {
   "cell_type": "code",
   "execution_count": 31,
   "id": "bc1e82fc",
   "metadata": {
    "ExecuteTime": {
     "end_time": "2023-09-06T03:11:17.043700Z",
     "start_time": "2023-09-06T03:11:17.019292Z"
    }
   },
   "outputs": [
    {
     "data": {
      "text/plain": [
       "tensor([[1., 0., 0., 0., 0., 0., 0., 0., 0., 0.],\n",
       "        [0., 1., 0., 0., 0., 0., 0., 0., 0., 0.],\n",
       "        [0., 0., 1., 0., 0., 0., 0., 0., 0., 0.],\n",
       "        [0., 0., 0., 1., 0., 0., 0., 0., 0., 0.],\n",
       "        [0., 0., 0., 0., 1., 0., 0., 0., 0., 0.],\n",
       "        [0., 0., 0., 0., 0., 1., 0., 0., 0., 0.],\n",
       "        [0., 0., 0., 0., 0., 0., 1., 0., 0., 0.],\n",
       "        [0., 0., 0., 0., 0., 0., 0., 1., 0., 0.],\n",
       "        [0., 0., 0., 0., 0., 0., 0., 0., 1., 0.],\n",
       "        [0., 0., 0., 0., 0., 0., 0., 0., 0., 1.]])"
      ]
     },
     "execution_count": 31,
     "metadata": {},
     "output_type": "execute_result"
    }
   ],
   "source": [
    "attention_weights[0,0,:,:]"
   ]
  },
  {
   "cell_type": "code",
   "execution_count": 34,
   "id": "dbeea1d7",
   "metadata": {
    "ExecuteTime": {
     "end_time": "2023-09-06T03:12:06.491809Z",
     "start_time": "2023-09-06T03:12:06.435182Z"
    }
   },
   "outputs": [
    {
     "data": {
      "text/plain": [
       "<matplotlib.image.AxesImage at 0x1af4a3dfd90>"
      ]
     },
     "execution_count": 34,
     "metadata": {},
     "output_type": "execute_result"
    }
   ],
   "source": [
    "plt.imshow(attention_weights[0,0,:,:])"
   ]
  },
  {
   "cell_type": "code",
   "execution_count": null,
   "id": "c408373e",
   "metadata": {},
   "outputs": [],
   "source": []
  },
  {
   "cell_type": "code",
   "execution_count": 5,
   "id": "5a3d0113",
   "metadata": {
    "ExecuteTime": {
     "end_time": "2023-09-12T08:47:26.015309Z",
     "start_time": "2023-09-12T08:47:26.009298Z"
    }
   },
   "outputs": [],
   "source": [
    "X = torch.tensor([[1, 2, 3], [4, 5, 6]])\n",
    "b=torch.tensor([1,2])"
   ]
  },
  {
   "cell_type": "code",
   "execution_count": 7,
   "id": "d5e8ac12",
   "metadata": {
    "ExecuteTime": {
     "end_time": "2023-09-12T08:48:43.256744Z",
     "start_time": "2023-09-12T08:48:43.241753Z"
    }
   },
   "outputs": [
    {
     "data": {
      "text/plain": [
       "tensor([[0, 1, 2]])"
      ]
     },
     "execution_count": 7,
     "metadata": {},
     "output_type": "execute_result"
    }
   ],
   "source": [
    "a=torch.arange(3)[None,:]\n",
    "a"
   ]
  },
  {
   "cell_type": "code",
   "execution_count": 6,
   "id": "c6368eed",
   "metadata": {
    "ExecuteTime": {
     "end_time": "2023-09-12T08:47:38.722012Z",
     "start_time": "2023-09-12T08:47:38.713032Z"
    }
   },
   "outputs": [
    {
     "data": {
      "text/plain": [
       "tensor([[1],\n",
       "        [2]])"
      ]
     },
     "execution_count": 6,
     "metadata": {},
     "output_type": "execute_result"
    }
   ],
   "source": [
    "b[:,None]"
   ]
  },
  {
   "cell_type": "code",
   "execution_count": 8,
   "id": "07d95cdc",
   "metadata": {
    "ExecuteTime": {
     "end_time": "2023-09-12T08:48:57.090638Z",
     "start_time": "2023-09-12T08:48:57.065637Z"
    }
   },
   "outputs": [
    {
     "data": {
      "text/plain": [
       "tensor([[ True, False, False],\n",
       "        [ True,  True, False]])"
      ]
     },
     "execution_count": 8,
     "metadata": {},
     "output_type": "execute_result"
    }
   ],
   "source": [
    "a<b[:,None]"
   ]
  },
  {
   "cell_type": "code",
   "execution_count": null,
   "id": "846c4bf1",
   "metadata": {},
   "outputs": [],
   "source": [
    "torch.repeat_interleave()"
   ]
  },
  {
   "cell_type": "code",
   "execution_count": 9,
   "id": "fc09583d",
   "metadata": {
    "ExecuteTime": {
     "end_time": "2023-09-12T08:55:06.463083Z",
     "start_time": "2023-09-12T08:55:06.426091Z"
    }
   },
   "outputs": [],
   "source": [
    "X = torch.ones(2, 3, 4)"
   ]
  },
  {
   "cell_type": "code",
   "execution_count": 12,
   "id": "f25fba70",
   "metadata": {
    "ExecuteTime": {
     "end_time": "2023-09-12T08:58:41.580563Z",
     "start_time": "2023-09-12T08:58:41.562574Z"
    }
   },
   "outputs": [
    {
     "data": {
      "text/plain": [
       "tensor([[ True, False, False],\n",
       "        [ True,  True, False]])"
      ]
     },
     "execution_count": 12,
     "metadata": {},
     "output_type": "execute_result"
    }
   ],
   "source": [
    "torch.arange(3)[None,:]<b[:,None]"
   ]
  },
  {
   "cell_type": "code",
   "execution_count": 14,
   "id": "29d95440",
   "metadata": {
    "ExecuteTime": {
     "end_time": "2023-09-12T09:04:30.628404Z",
     "start_time": "2023-09-12T09:04:30.619410Z"
    }
   },
   "outputs": [
    {
     "data": {
      "text/plain": [
       "tensor([[[1., 1., 1., 1.],\n",
       "         [1., 1., 1., 1.],\n",
       "         [1., 1., 1., 1.]],\n",
       "\n",
       "        [[1., 1., 1., 1.],\n",
       "         [1., 1., 1., 1.],\n",
       "         [1., 1., 1., 1.]]])"
      ]
     },
     "execution_count": 14,
     "metadata": {},
     "output_type": "execute_result"
    }
   ],
   "source": [
    "X"
   ]
  },
  {
   "cell_type": "code",
   "execution_count": 19,
   "id": "7645c83e",
   "metadata": {
    "ExecuteTime": {
     "end_time": "2023-09-12T09:07:05.178981Z",
     "start_time": "2023-09-12T09:07:05.163990Z"
    }
   },
   "outputs": [
    {
     "data": {
      "text/plain": [
       "tensor([[ True, False, False],\n",
       "        [ True,  True, False]])"
      ]
     },
     "execution_count": 19,
     "metadata": {},
     "output_type": "execute_result"
    }
   ],
   "source": [
    "c=torch.arange(3,dtype=torch.float32)[None,:]<b[:,None]\n",
    "c"
   ]
  },
  {
   "cell_type": "code",
   "execution_count": 21,
   "id": "6a38969f",
   "metadata": {
    "ExecuteTime": {
     "end_time": "2023-09-12T09:07:55.132738Z",
     "start_time": "2023-09-12T09:07:55.075615Z"
    }
   },
   "outputs": [],
   "source": [
    "X[~c]=0"
   ]
  },
  {
   "cell_type": "code",
   "execution_count": 22,
   "id": "15dfc976",
   "metadata": {
    "ExecuteTime": {
     "end_time": "2023-09-12T09:07:58.440640Z",
     "start_time": "2023-09-12T09:07:58.426649Z"
    }
   },
   "outputs": [
    {
     "data": {
      "text/plain": [
       "tensor([[[1., 1., 1., 1.],\n",
       "         [0., 0., 0., 0.],\n",
       "         [0., 0., 0., 0.]],\n",
       "\n",
       "        [[1., 1., 1., 1.],\n",
       "         [1., 1., 1., 1.],\n",
       "         [0., 0., 0., 0.]]])"
      ]
     },
     "execution_count": 22,
     "metadata": {},
     "output_type": "execute_result"
    }
   ],
   "source": [
    "X"
   ]
  },
  {
   "cell_type": "code",
   "execution_count": null,
   "id": "64cfe1cc",
   "metadata": {},
   "outputs": [],
   "source": []
  }
 ],
 "metadata": {
  "kernelspec": {
   "display_name": "Python 3",
   "language": "python",
   "name": "python3"
  },
  "language_info": {
   "codemirror_mode": {
    "name": "ipython",
    "version": 3
   },
   "file_extension": ".py",
   "mimetype": "text/x-python",
   "name": "python",
   "nbconvert_exporter": "python",
   "pygments_lexer": "ipython3",
   "version": "3.8.8"
  }
 },
 "nbformat": 4,
 "nbformat_minor": 5
}
