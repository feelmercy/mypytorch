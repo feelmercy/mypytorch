{
 "cells": [
  {
   "cell_type": "code",
   "execution_count": 2,
   "id": "26b136d4",
   "metadata": {
    "ExecuteTime": {
     "end_time": "2023-09-06T06:58:27.455894Z",
     "start_time": "2023-09-06T06:58:27.451025Z"
    }
   },
   "outputs": [
    {
     "name": "stdout",
     "output_type": "stream",
     "text": [
      "Using matplotlib backend: Qt5Agg\n"
     ]
    }
   ],
   "source": [
    "import torch\n",
    "from torch import nn,optim\n",
    "import matplotlib.pyplot as plt\n",
    "%matplotlib auto"
   ]
  },
  {
   "cell_type": "code",
   "execution_count": 3,
   "id": "3d586232",
   "metadata": {
    "ExecuteTime": {
     "end_time": "2023-09-06T06:58:28.111163Z",
     "start_time": "2023-09-06T06:58:28.016291Z"
    }
   },
   "outputs": [],
   "source": [
    "n_train=50\n",
    "x_train,_ = torch.sort(torch.rand(n_train)*5)"
   ]
  },
  {
   "cell_type": "code",
   "execution_count": 4,
   "id": "6d4b1c73",
   "metadata": {
    "ExecuteTime": {
     "end_time": "2023-09-06T06:58:28.557461Z",
     "start_time": "2023-09-06T06:58:28.553551Z"
    }
   },
   "outputs": [],
   "source": [
    "def f(x):\n",
    "    return 2* torch.sin(x)+x**0.8"
   ]
  },
  {
   "cell_type": "code",
   "execution_count": 5,
   "id": "787e1e73",
   "metadata": {
    "ExecuteTime": {
     "end_time": "2023-09-06T06:58:29.055912Z",
     "start_time": "2023-09-06T06:58:29.048548Z"
    }
   },
   "outputs": [
    {
     "data": {
      "text/plain": [
       "tensor([0.0634, 0.2446, 0.6663, 0.8288, 1.2090, 1.4653, 1.5994, 1.8266, 1.8687,\n",
       "        2.6337, 2.7219, 2.7705, 2.8668, 2.8972, 3.1988, 3.2612, 3.2843, 3.3439,\n",
       "        3.3625, 3.5198, 3.5212, 3.6458, 3.6537, 3.7207, 3.7833, 3.8185, 3.8656,\n",
       "        3.9041, 4.0746, 4.2219, 4.2429, 4.2506, 4.3132, 4.3352, 4.4341, 4.4542,\n",
       "        4.4767, 4.4941, 4.5064, 4.5323, 4.5327, 4.5337, 4.5660, 4.6190, 4.6384,\n",
       "        4.6714, 4.7404, 4.9081, 4.9470, 4.9973])"
      ]
     },
     "execution_count": 5,
     "metadata": {},
     "output_type": "execute_result"
    }
   ],
   "source": [
    "x_train"
   ]
  },
  {
   "cell_type": "code",
   "execution_count": 6,
   "id": "4c0ab40d",
   "metadata": {
    "ExecuteTime": {
     "end_time": "2023-09-06T06:58:29.624054Z",
     "start_time": "2023-09-06T06:58:29.545071Z"
    }
   },
   "outputs": [
    {
     "data": {
      "text/plain": [
       "tensor([0.2369, 0.8086, 1.9587, 2.3347, 3.0345, 3.3464, 3.4552, 3.5542, 3.5610,\n",
       "        3.1426, 3.0428, 2.9850, 2.8651, 2.8259, 2.4207, 2.3359, 2.3047, 2.2248,\n",
       "        2.2001, 1.9981, 1.9964, 1.8485, 1.8396, 1.7663, 1.7022, 1.6681, 1.6249,\n",
       "        1.5916, 1.4697, 1.4010, 1.3942, 1.3919, 1.3771, 1.3736, 1.3688, 1.3701,\n",
       "        1.3725, 1.3749, 1.3770, 1.3824, 1.3825, 1.3827, 1.3914, 1.4100, 1.4181,\n",
       "        1.4338, 1.4734, 1.6087, 1.6479, 1.7030])"
      ]
     },
     "execution_count": 6,
     "metadata": {},
     "output_type": "execute_result"
    }
   ],
   "source": [
    "f(x_train)"
   ]
  },
  {
   "cell_type": "code",
   "execution_count": 7,
   "id": "ff55fbe5",
   "metadata": {
    "ExecuteTime": {
     "end_time": "2023-09-06T06:58:30.127831Z",
     "start_time": "2023-09-06T06:58:30.112224Z"
    }
   },
   "outputs": [
    {
     "data": {
      "text/plain": [
       "50"
      ]
     },
     "execution_count": 7,
     "metadata": {},
     "output_type": "execute_result"
    }
   ],
   "source": [
    "y_train=f(x_train)+torch.normal(0.0,0.5,(n_train,))\n",
    "x_test=torch.arange(0,5,0.1)\n",
    "y_truth=f(x_test)\n",
    "n_test=len(x_test)\n",
    "n_test"
   ]
  },
  {
   "cell_type": "code",
   "execution_count": null,
   "id": "58e55974",
   "metadata": {},
   "outputs": [],
   "source": []
  },
  {
   "cell_type": "code",
   "execution_count": 8,
   "id": "eb2b6a91",
   "metadata": {
    "ExecuteTime": {
     "end_time": "2023-09-06T06:58:34.935862Z",
     "start_time": "2023-09-06T06:58:34.681018Z"
    }
   },
   "outputs": [],
   "source": [
    "\n",
    "plt.plot(x_test)\n",
    "plt.plot(y_truth)\n",
    "plt.xlabel('X')\n",
    "plt.ylabel('Y')\n",
    "plt.legend(['Truth','pred'])\n",
    "plt.xlim([0,5])\n",
    "plt.ylim([-1,5])\n",
    "plt.show()\n"
   ]
  },
  {
   "cell_type": "code",
   "execution_count": null,
   "id": "fa921ed5",
   "metadata": {},
   "outputs": [],
   "source": [
    "X_repeat=x_test.repeat_interleave(n_train).reshape((-1,n_train))\n",
    "attention_weights=nn.functional.softmax(-(X_repeat-x_train)**2/2,dim=1)\n",
    "y_hat=torchr.matmul(attention_weights,y_train)\n"
   ]
  },
  {
   "cell_type": "markdown",
   "id": "2de3b5e0",
   "metadata": {},
   "source": [
    "#### 10.2.4"
   ]
  },
  {
   "cell_type": "code",
   "execution_count": 9,
   "id": "b27ecbc9",
   "metadata": {
    "ExecuteTime": {
     "end_time": "2023-09-06T07:03:55.740309Z",
     "start_time": "2023-09-06T07:03:55.697350Z"
    }
   },
   "outputs": [
    {
     "data": {
      "text/plain": [
       "torch.Size([2, 1, 6])"
      ]
     },
     "execution_count": 9,
     "metadata": {},
     "output_type": "execute_result"
    }
   ],
   "source": [
    "X=torch.ones((2,1,4))\n",
    "Y=torch.ones((2,4,6))\n",
    "torch.bmm(X,Y).shape"
   ]
  },
  {
   "cell_type": "code",
   "execution_count": 10,
   "id": "93154fec",
   "metadata": {
    "ExecuteTime": {
     "end_time": "2023-09-06T07:09:41.295370Z",
     "start_time": "2023-09-06T07:09:41.287573Z"
    }
   },
   "outputs": [
    {
     "data": {
      "text/plain": [
       "tensor([[[ 4.5000]],\n",
       "\n",
       "        [[14.5000]]])"
      ]
     },
     "execution_count": 10,
     "metadata": {},
     "output_type": "execute_result"
    }
   ],
   "source": [
    "weights=torch.ones((2,10))*0.1\n",
    "values=torch.arange(20.0).reshape((2,10))\n",
    "torch.bmm(weights.unsqueeze(1),values.unsqueeze(-1))"
   ]
  },
  {
   "cell_type": "code",
   "execution_count": null,
   "id": "f05932f7",
   "metadata": {},
   "outputs": [],
   "source": [
    "class NWKernelRegression(nn.Module):\n",
    "    def __init__(self,**kwargs):\n",
    "        super().__init__(**kwargs)\n",
    "        self.w=nn.Parameter(torch.rand((1,),requires_grad=True))\n",
    "    \n",
    "    def forward(self,queries,keys,values):\n",
    "        queries=queries.repeat_interleave(keys.shape[1]).reshape((-1,keys.shape[1]))\n",
    "        self.attention_weights=nn.functional.softmax(-((queries-keys)*self.w)**2/2,dim=1)\n",
    "        "
   ]
  },
  {
   "cell_type": "code",
   "execution_count": null,
   "id": "4d6c9cad",
   "metadata": {},
   "outputs": [],
   "source": []
  },
  {
   "cell_type": "code",
   "execution_count": null,
   "id": "575a3eda",
   "metadata": {},
   "outputs": [],
   "source": []
  },
  {
   "cell_type": "code",
   "execution_count": null,
   "id": "42f6db04",
   "metadata": {},
   "outputs": [],
   "source": []
  },
  {
   "cell_type": "code",
   "execution_count": null,
   "id": "d9dcf841",
   "metadata": {},
   "outputs": [],
   "source": []
  }
 ],
 "metadata": {
  "kernelspec": {
   "display_name": "Python 3",
   "language": "python",
   "name": "python3"
  },
  "language_info": {
   "codemirror_mode": {
    "name": "ipython",
    "version": 3
   },
   "file_extension": ".py",
   "mimetype": "text/x-python",
   "name": "python",
   "nbconvert_exporter": "python",
   "pygments_lexer": "ipython3",
   "version": "3.8.8"
  }
 },
 "nbformat": 4,
 "nbformat_minor": 5
}
