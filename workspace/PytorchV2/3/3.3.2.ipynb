{
 "cells": [
  {
   "cell_type": "code",
   "execution_count": 1,
   "metadata": {
    "ExecuteTime": {
     "end_time": "2022-04-27T07:08:04.172883Z",
     "start_time": "2022-04-27T07:08:04.164382Z"
    },
    "collapsed": true
   },
   "outputs": [],
   "source": [
    "import numpy as np\n",
    "import torch\n",
    "from torch.utils import data"
   ]
  },
  {
   "cell_type": "code",
   "execution_count": 2,
   "metadata": {
    "ExecuteTime": {
     "end_time": "2022-04-27T07:08:37.311091Z",
     "start_time": "2022-04-27T07:08:37.297090Z"
    },
    "collapsed": true
   },
   "outputs": [],
   "source": [
    "def synthetic_data(w,b,num_examples):\n",
    "    x=torch.normal(0,1,(num_examples,len(w)))\n",
    "    y=torch.matmul(x,w)+b\n",
    "    y+=torch.normal(0,0.01,y.shape)\n",
    "    return x,y.reshape((-1,1))"
   ]
  },
  {
   "cell_type": "code",
   "execution_count": 3,
   "metadata": {
    "ExecuteTime": {
     "end_time": "2022-04-27T07:08:43.112828Z",
     "start_time": "2022-04-27T07:08:43.096326Z"
    },
    "collapsed": true
   },
   "outputs": [],
   "source": [
    "true_w = torch.tensor([2, -3.4])\n",
    "true_b = 4.2\n",
    "features, labels = synthetic_data(true_w, true_b, 1000)"
   ]
  },
  {
   "cell_type": "code",
   "execution_count": 4,
   "metadata": {
    "ExecuteTime": {
     "end_time": "2022-04-27T07:10:06.378901Z",
     "start_time": "2022-04-27T07:10:06.368400Z"
    },
    "collapsed": true
   },
   "outputs": [],
   "source": [
    "def load_array(data_arrays,batch_size,is_train=True):\n",
    "    dataset=data.TensorDataset(*data_arrays)\n",
    "    return data.DataLoader(dataset,batch_size,shuffle=is_train)"
   ]
  },
  {
   "cell_type": "code",
   "execution_count": 5,
   "metadata": {
    "ExecuteTime": {
     "end_time": "2022-04-27T07:10:27.328562Z",
     "start_time": "2022-04-27T07:10:27.320561Z"
    },
    "collapsed": true
   },
   "outputs": [],
   "source": [
    "batch_size=10\n",
    "data_iter=load_array((features,labels),batch_size)"
   ]
  },
  {
   "cell_type": "code",
   "execution_count": 6,
   "metadata": {
    "ExecuteTime": {
     "end_time": "2022-04-27T07:10:47.457618Z",
     "start_time": "2022-04-27T07:10:47.371107Z"
    }
   },
   "outputs": [
    {
     "data": {
      "text/plain": [
       "[tensor([[ 2.1694, -1.1399],\n",
       "         [-0.8562,  1.0630],\n",
       "         [-0.5517, -1.4329],\n",
       "         [ 0.6331,  0.6399],\n",
       "         [ 0.0236,  0.1496],\n",
       "         [ 0.7988, -0.1717],\n",
       "         [ 0.6801,  0.5039],\n",
       "         [-0.2302,  1.1919],\n",
       "         [ 0.8602, -0.2377],\n",
       "         [-1.2361,  0.1422]]), tensor([[12.4090],\n",
       "         [-1.1410],\n",
       "         [ 7.9746],\n",
       "         [ 3.2752],\n",
       "         [ 3.7412],\n",
       "         [ 6.3750],\n",
       "         [ 3.8500],\n",
       "         [-0.3070],\n",
       "         [ 6.7449],\n",
       "         [ 1.2459]])]"
      ]
     },
     "execution_count": 6,
     "metadata": {},
     "output_type": "execute_result"
    }
   ],
   "source": [
    "next(iter(data_iter))"
   ]
  },
  {
   "cell_type": "code",
   "execution_count": 7,
   "metadata": {
    "ExecuteTime": {
     "end_time": "2022-04-27T07:11:14.695077Z",
     "start_time": "2022-04-27T07:11:14.687576Z"
    },
    "collapsed": true
   },
   "outputs": [],
   "source": [
    "from torch import nn"
   ]
  },
  {
   "cell_type": "code",
   "execution_count": 8,
   "metadata": {
    "ExecuteTime": {
     "end_time": "2022-04-27T07:11:33.320442Z",
     "start_time": "2022-04-27T07:11:33.304940Z"
    },
    "collapsed": true
   },
   "outputs": [],
   "source": [
    "net=nn.Sequential(nn.Linear(2,1))"
   ]
  },
  {
   "cell_type": "code",
   "execution_count": 9,
   "metadata": {
    "ExecuteTime": {
     "end_time": "2022-04-27T07:12:12.199879Z",
     "start_time": "2022-04-27T07:12:12.184877Z"
    }
   },
   "outputs": [
    {
     "data": {
      "text/plain": [
       "tensor([0.])"
      ]
     },
     "execution_count": 9,
     "metadata": {},
     "output_type": "execute_result"
    }
   ],
   "source": [
    "net[0].weight.data.normal_(0,0.01)\n",
    "net[0].bias.data.fill_(0)"
   ]
  },
  {
   "cell_type": "code",
   "execution_count": 10,
   "metadata": {
    "ExecuteTime": {
     "end_time": "2022-04-27T07:12:54.920804Z",
     "start_time": "2022-04-27T07:12:54.915303Z"
    },
    "collapsed": true
   },
   "outputs": [],
   "source": [
    "loss=nn.MSELoss()\n",
    "trainer=torch.optim.SGD(net.parameters(),lr=0.03)"
   ]
  },
  {
   "cell_type": "code",
   "execution_count": null,
   "metadata": {
    "collapsed": true
   },
   "outputs": [],
   "source": []
  },
  {
   "cell_type": "code",
   "execution_count": null,
   "metadata": {
    "collapsed": true
   },
   "outputs": [],
   "source": []
  },
  {
   "cell_type": "code",
   "execution_count": null,
   "metadata": {
    "collapsed": true
   },
   "outputs": [],
   "source": []
  },
  {
   "cell_type": "code",
   "execution_count": null,
   "metadata": {
    "collapsed": true
   },
   "outputs": [],
   "source": []
  },
  {
   "cell_type": "code",
   "execution_count": null,
   "metadata": {
    "collapsed": true
   },
   "outputs": [],
   "source": []
  },
  {
   "cell_type": "code",
   "execution_count": null,
   "metadata": {
    "collapsed": true
   },
   "outputs": [],
   "source": []
  }
 ],
 "metadata": {
  "kernelspec": {
   "display_name": "Python 3",
   "language": "python",
   "name": "python3"
  },
  "language_info": {
   "codemirror_mode": {
    "name": "ipython",
    "version": 3
   },
   "file_extension": ".py",
   "mimetype": "text/x-python",
   "name": "python",
   "nbconvert_exporter": "python",
   "pygments_lexer": "ipython3",
   "version": "3.6.3"
  }
 },
 "nbformat": 4,
 "nbformat_minor": 2
}
